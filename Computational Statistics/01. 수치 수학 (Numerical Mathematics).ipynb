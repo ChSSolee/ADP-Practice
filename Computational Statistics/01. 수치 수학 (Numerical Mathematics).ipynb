{
  "cells": [
    {
      "cell_type": "markdown",
      "metadata": {
        "id": "W3ReAAcCPGh2"
      },
      "source": [
        "# 01. 수치 수학 (Numerical Mathematics)\n",
        "- 계산 효율성의 이유로 기본적으로 모든 수치 및 통계 계산은 유한한 정밀도의 산술을 가진 컴퓨터에서 수행.\n",
        "- 컴퓨터로 표현되는 숫자는 실수와 동일한 속성을 모두 가지고 있지 않기 때문에 알고리즘을 설계할 때 유한한 정밀도를 고려하는 것이 중요\n",
        "\n",
        "<br>\n"
      ]
    },
    {
      "cell_type": "markdown",
      "metadata": {
        "id": "M5jNrzdvPQOd"
      },
      "source": [
        "<br>\n",
        "\n",
        "## 01-01. 부동 소수\n",
        "- 대부분의 수치 및 통계 알고리즘과 계산은 부동 소수점 숫자를 사용\n",
        "\n",
        "$$\\begin{equation}\n",
        "  x_{FP} = \\pm c \\cdot 2^q,\n",
        "  \\tag{1.1}\n",
        "\\end{equation}$$"
      ]
    },
    {
      "cell_type": "markdown",
      "metadata": {
        "id": "qLuazrM9Tm7r"
      },
      "source": [
        "- $c$와 $q$는 유한한 범위의 값에서 선택된 정수입\n",
        "- 부동 소수점 숫자는 절대값이 매우 작은 값(0에 가까운 값)과 매우 큰 값을, 각각 음수와 양수의 값을 가지는 지수 $q$를 사용하여 쉽게 나타낼 수 있기 때문에 유용\n",
        "- 값의 범위는 유한하며, 그 결과 가장 가까운 부동 소수점 수 $x_{FP}=0$인 실수 $x≠0$가 존재하여 계산에서 **언더플로우**라고 불리는 현상이 발생\n",
        "  \n",
        "  반대로 가장 큰 부동 소수점 수보다 큰 결과를 가진 계산은 **오버플로우**\n",
        "\n",
        "- 모든 최신 컴퓨터에서 사용되는 부동 소수점 숫자는 IEEE 부동 소수점 산술 표준(IEEE 754)에 의해 정의\n",
        "  \n",
        "  가장 일반적으로 사용되는 형식은 64비트 이중 정밀도와 32비트 단일 정밀도\n",
        "\n",
        "<br>"
      ]
    },
    {
      "cell_type": "markdown",
      "metadata": {
        "id": "8NJg4qtQT9Uj"
      },
      "source": [
        "<table>\n",
        "<caption><span id=\"tab:fp-properties\">부동 소수점 숫자 형식의 주요 속성.</caption>\n",
        "<thead>\n",
        "<tr class=\"header\">\n",
        "<th align=\"left\">Precision</th>\n",
        "<th align=\"right\">Bits</th>\n",
        "<th align=\"right\"><span class=\"math inline\">\\(c\\)</span> bits</th>\n",
        "<th align=\"right\"><span class=\"math inline\">\\(q\\)</span> bits</th>\n",
        "<th align=\"center\">Max value</th>\n",
        "</tr>\n",
        "</thead>\n",
        "<tbody>\n",
        "<tr class=\"odd\">\n",
        "<td align=\"left\">Single</td>\n",
        "<td align=\"right\">32</td>\n",
        "<td align=\"right\">24</td>\n",
        "<td align=\"right\">8</td>\n",
        "<td align=\"center\"><span class=\"math inline\">$(\\approx 3.4 \\cdot 10^{38}$)</span></td>\n",
        "</tr>\n",
        "<tr class=\"even\">\n",
        "<td align=\"left\">Double</td>\n",
        "<td align=\"right\">64</td>\n",
        "<td align=\"right\">53</td>\n",
        "<td align=\"right\">11</td>\n",
        "<td align=\"center\"><span class=\"math inline\">$(\\approx 1.8 \\cdot 10^{308}$)</span></td>\n",
        "</tr>\n",
        "<tr class=\"odd\">\n",
        "<td align=\"left\">Half</td>\n",
        "<td align=\"right\">16</td>\n",
        "<td align=\"right\">11</td>\n",
        "<td align=\"right\">5</td>\n",
        "<td align=\"center\"><span class=\"math inline\">$(\\approx 6.6 \\cdot 10^4$)</span></td>\n",
        "</tr>\n",
        "</tbody>\n",
        "</table>"
      ]
    },
    {
      "cell_type": "markdown",
      "metadata": {
        "id": "_Cu16kvvT-dH"
      },
      "source": [
        "<br>\n",
        "\n",
        "#### Python/NumPy를 통한 부동 소수점 유형 속성 확인\n",
        "- `eps`값은 주어진 유형의 가장 작은 수\n",
        "\n",
        "$$1+eps \\neq 1$$"
      ]
    },
    {
      "cell_type": "code",
      "execution_count": 1,
      "metadata": {
        "colab": {
          "base_uri": "https://localhost:8080/"
        },
        "id": "OnrhJOhDT-hZ",
        "outputId": "d05cadde-300a-40e2-959c-dc655a1ed4be"
      },
      "outputs": [
        {
          "name": "stdout",
          "output_type": "stream",
          "text": [
            "Machine parameters for float32\n",
            "---------------------------------------------------------------\n",
            "precision =   6   resolution = 1.0000000e-06\n",
            "machep =    -23   eps =        1.1920929e-07\n",
            "negep =     -24   epsneg =     5.9604645e-08\n",
            "minexp =   -126   tiny =       1.1754944e-38\n",
            "maxexp =    128   max =        3.4028235e+38\n",
            "nexp =        8   min =        -max\n",
            "smallest_normal = 1.1754944e-38   smallest_subnormal = 1.4012985e-45\n",
            "---------------------------------------------------------------\n",
            "\n"
          ]
        }
      ],
      "source": [
        "import numpy as np\n",
        "print(np.finfo(np.float32))"
      ]
    },
    {
      "cell_type": "code",
      "execution_count": 2,
      "metadata": {
        "colab": {
          "base_uri": "https://localhost:8080/"
        },
        "id": "QdhMjlpQT-kX",
        "outputId": "ef218b44-5adf-4cab-bf92-47f834279329"
      },
      "outputs": [
        {
          "name": "stdout",
          "output_type": "stream",
          "text": [
            "Machine parameters for float64\n",
            "---------------------------------------------------------------\n",
            "precision =  15   resolution = 1.0000000000000001e-15\n",
            "machep =    -52   eps =        2.2204460492503131e-16\n",
            "negep =     -53   epsneg =     1.1102230246251565e-16\n",
            "minexp =  -1022   tiny =       2.2250738585072014e-308\n",
            "maxexp =   1024   max =        1.7976931348623157e+308\n",
            "nexp =       11   min =        -max\n",
            "smallest_normal = 2.2250738585072014e-308   smallest_subnormal = 4.9406564584124654e-324\n",
            "---------------------------------------------------------------\n",
            "\n"
          ]
        }
      ],
      "source": [
        "print(np.finfo(np.float64))"
      ]
    },
    {
      "cell_type": "markdown",
      "metadata": {
        "id": "7BkmyC95T-nP"
      },
      "source": [
        "<br>\n",
        "\n",
        "### 01. 특수값\n",
        "- 규정된 범위의 숫자 외에도 부동 소수점 숫자는 다음과 같은 특수 값을 표현 가능\n",
        "  - $\\pm$ Inf ($\\pm \\infty$)\n",
        "  - NaN (not a number)\n",
        "\n",
        "<br>\n",
        "\n",
        "- 무한대 값은 계산이 오버플로될 때 나타남"
      ]
    },
    {
      "cell_type": "code",
      "execution_count": 3,
      "metadata": {
        "colab": {
          "base_uri": "https://localhost:8080/"
        },
        "id": "PQfmehD_Vljz",
        "outputId": "f0f27d9d-52a1-48e5-90f3-45bcc73e4c36"
      },
      "outputs": [
        {
          "name": "stdout",
          "output_type": "stream",
          "text": [
            "exp(1000) = inf\n"
          ]
        },
        {
          "name": "stderr",
          "output_type": "stream",
          "text": [
            "<ipython-input-3-a709845b10c2>:1: RuntimeWarning: overflow encountered in exp\n",
            "  print('exp(1000) =', np.exp(1000))\n"
          ]
        }
      ],
      "source": [
        "print('exp(1000) =', np.exp(1000))"
      ]
    },
    {
      "cell_type": "markdown",
      "metadata": {
        "id": "TsXUoZQRV-Uv"
      },
      "source": [
        "- 무한대는 일반적인 산술 규칙을 따르며, 비교가능한 수로 인식\n",
        "- NaN은 $0/0, \\; 0\\cdot \\infty,\\; \\infty - \\infty$ 등의 정의되지 않은 숫자를 표현시 나타남\n",
        "\n",
        "- NaN이 포함된 산술연산은 전부 NaN으로 나타남\n",
        "\n",
        "#### `np.isnan()`"
      ]
    },
    {
      "cell_type": "markdown",
      "metadata": {
        "id": "mXH2jXrXWHnf"
      },
      "source": [
        "<br>\n",
        "\n",
        "## 01-02. 부동 소수점 숫자의 중요 속성\n",
        "### 실수와 다른 부동 소수점 숫자의 일부 수학적 속성:\n",
        "1. 숫자의 불균일한 분포, 0에 가까울수록 더 밀집됨\n",
        "2. 표현 가능한 값의 유한 범위\n",
        "  - 예: 표준 정규 분포의 누적분포 $\\Phi(10) \\approx 1 - 7.619853 \\cdot 10^{-24} =_F 1$\n",
        "3. 반올림 오류는 모든 산술 규칙을 깨뜨릴 수 있음\n",
        "4. 반올림으로 인한 평등 비교는 간단하지 않음\n",
        "  - $x == y$ 사용 지양\n",
        "5. $x - y$ for $x,y \\gg 0$ or $x,y \\ll 0$ 연산 지양\n"
      ]
    },
    {
      "cell_type": "markdown",
      "metadata": {
        "id": "W6kaW-VUWo45"
      },
      "source": [
        "<br>\n",
        "\n",
        "## 01-03. 확률을 이용한 계산\n",
        "- 확률은 음수가 아니지만 0에 매우 가까울 수 있으므로 로그를 저장하는 것이 종종 수치적으로 유리\n",
        "  - $p$값 대신 $log\\;p$ 사용\n",
        "\n",
        "<br>\n",
        "\n",
        "### 01. 로그합계 (`Logsumexp`)\n",
        "- 로그 스케일에서 정의된 확률의 (재)정규화는 `exp()`를 사용하여 원시 확률로 다시 변환해야 하며,\n",
        "  \n",
        "  이는 오버플로우 또는 언더플로우를 일으킬 수 있음.\n",
        "  \n",
        "  이는 소위 `logsumexp` 트릭을 사용하여 피할 수 있음\n",
        "\n",
        "<br>\n",
        "\n",
        "- $\\boldsymbol{\\pi} = (\\pi_i) = (\\log p_i)$ where $p_i > 0,\\; i=1, ..., n$ 일 때,\n",
        "\n",
        "  $\\log S = \\log \\sum_{i = 1}^n p_i,$를 연산하려면\n",
        "\n",
        "  $\\log S = \\log \\sum_{i=1}^n \\exp(\\pi_i).$를 계산해야 함\n",
        "\n",
        "<br>\n",
        "\n",
        "- $exp(\\pi_i)$의 연산은 $log\\;S$가 그렇게 크지 않더라도 오버플로우가 발생 가능\n",
        "- 오버플로우는 $M = \\max_{i \\in \\{1, \\dots, n\\}} \\pi_i$을 통해서 방지가 가능하며\n",
        "\n",
        "\n",
        "$$\\begin{equation}\n",
        "  \\log S = M + \\log \\sum_{i=1}^n \\exp(\\pi_i - M), \\tag{1.2}\n",
        "\\end{equation}$$를 연산\n",
        "\n",
        "- $\\max_{i \\in \\{1, \\dots, n\\}} \\pi_i - M = 0$을 통하여, 오버플로우가 방지되며,\n",
        "\n",
        "  $\\pi_i$가 작을 때에도, 동일한 방식으로 언더플로우를 방지할 수 있음"
      ]
    },
    {
      "cell_type": "markdown",
      "metadata": {
        "id": "wsUTtCg7XkrC"
      },
      "source": [
        "<br>\n",
        "\n",
        "### 02. 특수한 함수\n",
        "- 다양한 프로그래밍 환경의 수학 라이브러리에는 오버플로우와 언더플로우를 방지하여 어려운 표현식을 수치적으로 안정적으로 계산하도록 특별히 설계된 여러 특수 함수가 포함\n",
        "\n",
        "<br>\n",
        "\n",
        "<table>\n",
        "<caption><span id=\"tab:useful-spec-fun\">Python에서 수치 계산을 위한 유용한 특수 함수</caption>\n",
        "<thead>\n",
        "<tr class=\"header\">\n",
        "<th align=\"left\">Name</th>\n",
        "<th align=\"left\">Purpose</th>\n",
        "</tr>\n",
        "</thead>\n",
        "<tbody>\n",
        "<tr class=\"odd\">\n",
        "<td align=\"left\"><code>np.log1p</code></td>\n",
        "<td align=\"left\">Computes <span class=\"math inline\">$(\\log(1 + x)$)</span>, useful for <span class=\"math inline\">\\(x \\approx 0\\)</span></td>\n",
        "</tr>\n",
        "<tr class=\"even\">\n",
        "<td align=\"left\"><code>np.expm1</code></td>\n",
        "<td align=\"left\">Computes <span class=\"math inline\">\\(\\exp(x) - 1\\)</span>, useful for <span class=\"math inline\">\\(x \\approx 0\\)</span></td>\n",
        "</tr>\n",
        "<tr class=\"odd\">\n",
        "<td align=\"left\"><code>scs.gammaln</code></td>\n",
        "<td align=\"left\">Computes <span class=\"math inline\">\\(\\log \\Gamma(x)\\)</span></td>\n",
        "</tr>\n",
        "<tr class=\"even\">\n",
        "<td align=\"left\"><code>scs.erf</code></td>\n",
        "<td align=\"left\">Computes <span class=\"math inline\">\\(\\operatorname{erf}(x) = 2/\\sqrt{\\pi} \\int_{0}^x e^{-t^2} \\,\\mathrm{d} t\\)</span></td>\n",
        "</tr>\n",
        "<tr class=\"odd\">\n",
        "<td align=\"left\"></td>\n",
        "<td align=\"left\">(The cumulative distribution of <span class=\"math inline\">\\(\\mathcal{N}(0, 1)\\)</span> is <span class=\"math inline\">\\(\\Phi(x) = 1/2[1 + \\operatorname{erf}(x/\\sqrt{2})]\\)</span>)</td>\n",
        "</tr>\n",
        "<tr class=\"even\">\n",
        "<td align=\"left\"><code>scs.erfc</code></td>\n",
        "<td align=\"left\">Computes <span class=\"math inline\">\\(1 - \\operatorname{erf}(x)\\)</span>, useful for <span class=\"math inline\">\\(x \\gg 0\\)</span></td>\n",
        "</tr>\n",
        "<tr class=\"odd\">\n",
        "<td align=\"left\"><code>scs.erfcx</code></td>\n",
        "<td align=\"left\">Computes <span class=\"math inline\">\\(\\exp(x^2) (1-\\operatorname{erf}(x))\\)</span>, useful for <span class=\"math inline\">\\(x \\gg 0\\)</span></td>\n",
        "</tr>\n",
        "</tbody>\n",
        "</table>"
      ]
    },
    {
      "cell_type": "markdown",
      "metadata": {
        "id": "JqwhQy0eZ-d_"
      },
      "source": [
        "<br>\n",
        "\n",
        "- $log(1+0.000...)$에 대한 연산"
      ]
    },
    {
      "cell_type": "code",
      "execution_count": 4,
      "metadata": {
        "colab": {
          "base_uri": "https://localhost:8080/"
        },
        "id": "uKySz-G8ZeTh",
        "outputId": "389a7d34-b022-41b0-c177-1421fb01e293"
      },
      "outputs": [
        {
          "name": "stdout",
          "output_type": "stream",
          "text": [
            "1e-99\n"
          ]
        }
      ],
      "source": [
        "print(np.log1p(1e-99))"
      ]
    },
    {
      "cell_type": "code",
      "execution_count": 5,
      "metadata": {
        "colab": {
          "base_uri": "https://localhost:8080/"
        },
        "id": "SsWTowXNZxry",
        "outputId": "119ec2c5-10a0-4fd5-a636-f459f0a7e1dc"
      },
      "outputs": [
        {
          "name": "stdout",
          "output_type": "stream",
          "text": [
            "0.0\n"
          ]
        }
      ],
      "source": [
        "print(np.log(1 + 1e-99))"
      ]
    },
    {
      "cell_type": "markdown",
      "metadata": {
        "id": "_x43WoZ9aGxG"
      },
      "source": [
        "- $exp(0.000...)-1$에 대한 연산"
      ]
    },
    {
      "cell_type": "code",
      "execution_count": 6,
      "metadata": {
        "colab": {
          "base_uri": "https://localhost:8080/"
        },
        "id": "SkjQdOqxZzrS",
        "outputId": "364ea36d-4f90-4d88-f174-8f733e1fb905"
      },
      "outputs": [
        {
          "name": "stdout",
          "output_type": "stream",
          "text": [
            "1e-20\n"
          ]
        }
      ],
      "source": [
        "print(np.expm1(1e-20))"
      ]
    },
    {
      "cell_type": "code",
      "execution_count": 7,
      "metadata": {
        "colab": {
          "base_uri": "https://localhost:8080/"
        },
        "id": "6yLeeRocZ1nB",
        "outputId": "ddebbaaa-5131-48e2-b3b9-263a3b1b0fd8"
      },
      "outputs": [
        {
          "name": "stdout",
          "output_type": "stream",
          "text": [
            "0.0\n"
          ]
        }
      ],
      "source": [
        "print(np.exp(1e-20) - 1)"
      ]
    },
    {
      "cell_type": "markdown",
      "metadata": {
        "id": "FBssh0B6aNkZ"
      },
      "source": [
        "<br>\n",
        "\n",
        "## 01-04. 로그를 사용한 극단값 연산\n",
        "- 대부분의 경우에서 10진수로 작업하는 것이 익숙하지만,\n",
        "  \n",
        "  로그를 사용하여 극단값을 연삲할 때는 $x ⋅10^y$의 형태로 출력하는 것이 쉽지 않음"
      ]
    },
    {
      "cell_type": "markdown",
      "metadata": {
        "id": "wLIlaAQAaNqU"
      },
      "source": [
        "- $z = \\log_{10}(p)$일 때, 모든 $y$에 대해서,\n",
        "\n",
        "$$p = 10^z = 10^(z - y) \\cdot 10^y.$$\n",
        "\n",
        "- $y = \\lfloor z \\rfloor$를 선택함으로 써,\n",
        "\n",
        "$$1 \\le 10^(z - y) < 10.$$"
      ]
    },
    {
      "cell_type": "markdown",
      "metadata": {
        "id": "nV5zlztCaNuC"
      },
      "source": [
        "- 다양한 로그 기저로 계산된 숫자는 일반적으로 다음을 사용하여 변환할 수 있음\n",
        "\n",
        "$$\\log_{10}(p) = \\frac{\\log_b(p)}{\\log_b(10)}.$$"
      ]
    },
    {
      "cell_type": "markdown",
      "metadata": {
        "id": "9vNXyBjKbp7V"
      },
      "source": [
        "<br>\n",
        "\n",
        "- 부동 소수점 값과 로그를 사용하여 연산"
      ]
    },
    {
      "cell_type": "code",
      "execution_count": 21,
      "metadata": {
        "id": "M1x3UC7XaNxg"
      },
      "outputs": [],
      "source": [
        "def pretty_print_log10(logp):\n",
        "    y = np.floor(logp)\n",
        "    x = 10**(logp-y)\n",
        "    print(x, 'e-', int(y), sep='')"
      ]
    },
    {
      "cell_type": "code",
      "execution_count": 22,
      "metadata": {
        "colab": {
          "base_uri": "https://localhost:8080/"
        },
        "id": "0yIh2w_DaN0Y",
        "outputId": "af2d0ebb-d22f-41db-e01e-700118b575c8"
      },
      "outputs": [
        {
          "name": "stdout",
          "output_type": "stream",
          "text": [
            "1.2676506002282257e-30\n"
          ]
        }
      ],
      "source": [
        "pretty_print_log10(100*np.log10(2))"
      ]
    }
  ],
  "metadata": {
    "colab": {
      "provenance": []
    },
    "kernelspec": {
      "display_name": "base",
      "language": "python",
      "name": "python3"
    },
    "language_info": {
      "name": "python",
      "version": "3.9.13 (main, Aug 25 2022, 23:51:50) [MSC v.1916 64 bit (AMD64)]"
    },
    "vscode": {
      "interpreter": {
        "hash": "4b706aa2a79e366c60124db94f01b3cedaedac5a5e6fe3d90b795091a1fcd54b"
      }
    }
  },
  "nbformat": 4,
  "nbformat_minor": 0
}
