{
 "cells": [
  {
   "cell_type": "markdown",
   "id": "e381833d",
   "metadata": {},
   "source": [
    "# 06. MCMC를 통한 베이즈 추론\n",
    "* 통계학에서 MCMC 샘플링의 가장 중요한 용도는 베이지안 추론과 확률적 모델의 사후 분포에서 샘플을 추출하는 것\n",
    "\n",
    "<br>\n",
    "\n",
    "## 06-01. 베이즈 추론\n",
    "- 관측값이 $D$이고, $\\theta$ 매개변수를 가진 확률 모델이 $p(D|\\theta)$,\n",
    "    \n",
    "    매개변수에 대한 사전분포가 $p(\\theta)$라면,\n",
    "    \n",
    "    매개변수에 대한 사후분포는 베이즈 정리에 의해\n",
    "    \n",
    "$$\\begin{equation}\n",
    " p(\\theta | \\mathcal{D})\n",
    "  = \\frac{p(\\mathcal{D} | \\theta) p(\\theta)}{p(\\mathcal{D})}\n",
    "  = \\frac{p(\\mathcal{D} | \\theta) p(\\theta)}{\\int_{\\theta} p(\\mathcal{D} | \\theta) p(\\theta) \\;\\mathrm{d}\\theta}.\n",
    "\\end{equation}$$"
   ]
  },
  {
   "cell_type": "markdown",
   "id": "4d3dcba9",
   "metadata": {},
   "source": [
    "- 일반적으로 $p(D|\\theta)$와 $p(\\theta)$는 알려져 있고 다루기 쉽지만, 분모에 적분이 있기 때문에 일반적으로 직접 계산될 수 없음\n",
    "\n",
    "$$p(\\mathcal{D}) = \\int_{\\theta} p(\\mathcal{D} | \\theta) p(\\theta) \\,\\mathrm{d} \\theta,$$"
   ]
  },
  {
   "cell_type": "markdown",
   "id": "4a35f6ba",
   "metadata": {},
   "source": [
    "* **이는 한계 (Marginal) 가능도이며, 사후분포 관점에서의 정규화 상수**"
   ]
  },
  {
   "cell_type": "markdown",
   "id": "0b5b182f",
   "metadata": {},
   "source": [
    "<br>\n",
    "\n",
    "#### 분산이 $\\sigma^2_x$인 정규분포를 따르는 데이터 $\\mathcal{D} = (x_1, \\dots, x_n)$의 평균 $\\mu$에 대한 베이지안 추론\n",
    "- 관측값이 $\\mu$에대해 조건부 독립이라면, 매개변수 $\\theta = \\{ \\mu \\}$에 대한 모델은\n",
    "\n",
    "$$p(\\mathcal{D} | \\theta) = \\prod_{i=1}^n p(x_i | \\mu)\n",
    "   = \\prod_{i=1}^n \\mathcal{N}(x_i ;\\; \\mu, \\sigma_x^2).$$\n",
    "   \n",
    "- 모델에 대한 베이즈 추론을 위하여, 알려지지 않은 매개변수에 대한 사전분포 $p(\\theta) = p(\\mu)$가 필요\n",
    "- 사전분포는 매개변수의 값에 대한 우리의 믿음을 반영\n",
    "    \n",
    "    (사전분포의 선택은 베이지안 모델링에서 중요한 문제)\n",
    "    \n",
    "    - 만약 아래의 사전분포를 가정한다면\n",
    "        - $\\mu_0$과 $\\sigma^2_0$은 알려짐\n",
    "        \n",
    "    $$p(\\mu) = \\mathcal{N}(\\mu ;\\; \\mu_0, \\sigma_0^2)$$"
   ]
  },
  {
   "cell_type": "markdown",
   "id": "f18b95d9",
   "metadata": {},
   "source": [
    "- 이 경우 사전분포는 사후분포의 정확한 도출을 가능하게 하는 특정형태를 가짐\n",
    "\n",
    "$$p(\\mu | \\mathcal{D}) \\propto p(\\mathcal{D} | \\mu) p(\\mu)\n",
    "  = \\prod_{i=1}^n \\mathcal{N}(x_i ;\\; \\mu, \\sigma_x^2)\n",
    "  \\mathcal{N}(\\mu ;\\; \\mu_0, \\sigma_0^2).$$"
   ]
  },
  {
   "cell_type": "markdown",
   "id": "a90270b3",
   "metadata": {},
   "source": [
    "- 로그를 취하고 모든 상수를 무시하면, 다음과 같이 간소화\n",
    "\n",
    "$$\\begin{align*}\n",
    "  \\log p(\\mu | \\mathcal{D}) &= \\sum_{i=1}^n - \\frac{(x_i - \\mu)^2}{2 \\sigma_x^2}\n",
    "   - \\frac{(\\mu - \\mu_0)^2}{2 \\sigma_0^2} + C \\\\\n",
    "   &= - \\frac{n \\left( \\frac{1}{n}\\sum_{i=1}^n x_i - \\mu\\right)^2}{2 \\sigma_x^2}\n",
    "     - \\frac{(\\mu - \\mu_0)^2}{2 \\sigma_0^2} + C'.\n",
    "\\end{align*}$$"
   ]
  },
  {
   "cell_type": "markdown",
   "id": "52757af0",
   "metadata": {},
   "source": [
    "- $\\bar{x} = \\frac{1}{n}\\sum_{i=1}^n x_i$이기에,\n",
    "    \n",
    "$$\\begin{align*}\n",
    " \\log p(\\mu | \\mathcal{D}) &= \n",
    "  - \\frac{n ( \\bar{x} - \\mu)^2}{2 \\sigma_x^2}\n",
    "  - \\frac{(\\mu - \\mu_0)^2}{2 \\sigma_0^2} + C' \\\\\n",
    "  &= - \\frac{n \\sigma_0^2 ( \\bar{x} - \\mu)^2\n",
    "  + \\sigma_x^2 (\\mu - \\mu_0)^2}{2 \\sigma_x^2 \\sigma_0^2} + C' \\\\\n",
    "  &= - \\frac{n \\sigma_0^2 (\\bar{x}^2 - 2 \\bar{x} \\mu + \\mu^2)\n",
    "  + \\sigma_x^2 (\\mu^2 - 2 \\mu \\mu_0 + \\mu_0^2)}{2 \\sigma_x^2 \\sigma_0^2} + C' \\\\\n",
    "  &= - \\frac{(n \\sigma_0^2 + \\sigma_x^2) \\mu^2 - 2 (n \\sigma_0^2 \\bar{x} + \\sigma_x^2 \\mu_0) \\mu + n \\sigma_0^2 \\bar{x}^2 + \\sigma_x^2 \\mu_0^2)}{2 \\sigma_x^2 \\sigma_0^2} + C' \\\\\n",
    "  &= - (n \\sigma_0^2 + \\sigma_x^2) \\frac{\\mu^2 - 2 \\frac{n \\sigma_0^2 \\bar{x} + \\sigma_x^2 \\mu_0}{n \\sigma_0^2 + \\sigma_x^2} \\mu + \\frac{n \\sigma_0^2 \\bar{x}^2 + \\sigma_x^2 \\mu_0^2}{n \\sigma_0^2 + \\sigma_x^2}}{2 \\sigma_x^2 \\sigma_0^2} + C' \\\\\n",
    "  &= -(n \\sigma_0^2 + \\sigma_x^2) \\frac{[\\mu^2 - \\frac{n \\sigma_0^2 \\bar{x} + \\sigma_x^2 \\mu_0}{n \\sigma_0^2 + \\sigma_x^2}]^2}{2 \\sigma_x^2 \\sigma_0^2} + C''\n",
    "\\end{align*}$$"
   ]
  },
  {
   "cell_type": "markdown",
   "id": "52fa13a4",
   "metadata": {},
   "source": [
    "<br>\n",
    "\n",
    "- 이는 아래의 값을 매개변수로 가지는 정규분포 $\\mathcal{N}(\\mu;\\; \\mu_{\\mu}^*, \\sigma_{\\mu}^{2^*})$\n",
    "\n",
    "$$\\begin{align*}\n",
    "  \\mu_{\\mu}^* &= \\frac{n \\sigma_0^2 \\bar{x} + \\sigma_x^2 \\mu_0}{n \\sigma_0^2 + \\sigma_x^2} \\\\\n",
    "  \\sigma_{\\mu}^{2^*} &= \\frac{\\sigma_x^2 \\sigma_0^2}{n \\sigma_0^2 + \\sigma_x^2}\n",
    "  \t       = \\left( \\frac{n}{\\sigma_x^2} + \\frac{1}{\\sigma_0^2} \\right)^{-1}.\n",
    "\\end{align*}$$"
   ]
  },
  {
   "cell_type": "markdown",
   "id": "a90b46c3",
   "metadata": {},
   "source": [
    "- 사전분포가 가능도와 결합되어, 사후분포가 사후분포와 같은 함수 형태를 가짐\n",
    "\n",
    "    $\\rightarrow$ 켤레분포 (Conjucate)"
   ]
  },
  {
   "cell_type": "markdown",
   "id": "5e00ae57",
   "metadata": {},
   "source": [
    "<br>\n",
    "\n",
    "## 06-02. MCMC를 통한 사후분포 추론\n",
    "- **정규화상수는 일반적으로 직접 계산하기 쉽지 않음**\n",
    "- MH 알고리즘은, 정규화 되지 않은 밀도함수에서도 작동할 수 있기에, 사후분포 샘플링은 MCMC 응용에 적합"
   ]
  },
  {
   "cell_type": "markdown",
   "id": "c35be6cb",
   "metadata": {},
   "source": [
    "- 주어진 데이터 세트에 대해, MH알고리즘을 적용\n",
    "    - 타겟분포 : $\\log \\pi^*(\\theta) = \\log p(\\mathcal{D} | \\mu) + \\log p(\\mu) = \\sum_{i=1}^n \\log \\mathcal{N}(x_i ;\\; \\mu, \\sigma_x^2) + \\log \\mathcal{N}(\\mu ;\\; \\mu_0, \\sigma_0^2).$\n",
    "    - $\\sigma_x^2 = 1, \\mu_0 = 0, \\sigma_0^2 = 3^2$로 고정\n",
    "    "
   ]
  },
  {
   "cell_type": "markdown",
   "id": "afd28545",
   "metadata": {},
   "source": [
    "- 제안분포를 $q(\\theta' ; \\theta) = \\mathcal{N}(\\theta';\\; \\theta, \\sigma_{\\text{prop}}^2),$로 사용하여, 이를 구현"
   ]
  },
  {
   "cell_type": "code",
   "execution_count": 5,
   "id": "d9a6cdd5",
   "metadata": {},
   "outputs": [],
   "source": [
    "import pandas as pd\n",
    "import numpy as np\n",
    "import matplotlib.pyplot as plt\n",
    "import numpy.random as npr"
   ]
  },
  {
   "cell_type": "markdown",
   "id": "ca7c479c",
   "metadata": {},
   "source": [
    "- 정규분포의 pdf정의"
   ]
  },
  {
   "cell_type": "code",
   "execution_count": 6,
   "id": "91418dfd",
   "metadata": {},
   "outputs": [],
   "source": [
    "def lnormpdf(x, mu, sigma):\n",
    "    return np.sum(-0.5*np.log(2*np.pi) - np.log(sigma) - 0.5 * (x-mu)**2/sigma**2)"
   ]
  },
  {
   "cell_type": "markdown",
   "id": "d86ea4da",
   "metadata": {},
   "source": [
    "- 타겟분포의 로그-pdf를 가능도와 사전분포항의 합으로 정의 : $\\log \\mathcal{N}(x_i ;\\; \\mu, \\sigma_x^2)\n",
    "     \t\t   + \\log \\mathcal{N}(\\mu ;\\; \\mu_0, \\sigma_0^2).$"
   ]
  },
  {
   "cell_type": "code",
   "execution_count": 7,
   "id": "51a63d6f",
   "metadata": {},
   "outputs": [],
   "source": [
    "def target(mu, data, sigma_x, mu0, sigma0):\n",
    "    return lnormpdf(data, mu, sigma_x) + lnormpdf(mu, mu0, sigma0)"
   ]
  },
  {
   "cell_type": "markdown",
   "id": "677c9483",
   "metadata": {},
   "source": [
    "- $\\mu=0.5$인 정규분포를 따르는 관측값"
   ]
  },
  {
   "cell_type": "code",
   "execution_count": 8,
   "id": "f865d00c",
   "metadata": {},
   "outputs": [],
   "source": [
    "n = 100\n",
    "data = 0.5 + npr.normal(size=n)"
   ]
  },
  {
   "cell_type": "markdown",
   "id": "0ebb2b90",
   "metadata": {},
   "source": [
    "- 사전분포 매개변수"
   ]
  },
  {
   "cell_type": "code",
   "execution_count": 9,
   "id": "b6508dfe",
   "metadata": {},
   "outputs": [],
   "source": [
    "sigma_x = 1.0\n",
    "mu0 = 0.0\n",
    "sigma0 = 3.0"
   ]
  },
  {
   "cell_type": "code",
   "execution_count": 15,
   "id": "cffde88a",
   "metadata": {},
   "outputs": [],
   "source": [
    "def mhsample1(theta0, n, logtarget, drawproposal):\n",
    "    theta = theta0\n",
    "    thetas = np.zeros(n)\n",
    "    accepts = 0\n",
    "    \n",
    "    for i in range(n):\n",
    "        theta_prop = drawproposal(theta)\n",
    "        if np.log(npr.rand()) < logtarget(theta_prop) - logtarget(theta):\n",
    "            theta = theta_prop\n",
    "            accepts += 1\n",
    "            \n",
    "        thetas[i] = theta\n",
    "        \n",
    "    print(\"Sampler acceptance rate:\", accepts/n)\n",
    "    return thetas"
   ]
  },
  {
   "cell_type": "code",
   "execution_count": 16,
   "id": "5af5e381",
   "metadata": {},
   "outputs": [
    {
     "name": "stdout",
     "output_type": "stream",
     "text": [
      "Sampler acceptance rate: 0.5028\n"
     ]
    }
   ],
   "source": [
    "theta = mhsample1(0.0, 10000,\n",
    "                  lambda mu: target(mu, data, sigma_x, mu0, sigma0),\n",
    "                  lambda theta: theta+0.2*npr.normal())"
   ]
  },
  {
   "cell_type": "code",
   "execution_count": 19,
   "id": "3cd75af7",
   "metadata": {},
   "outputs": [
    {
     "data": {
      "image/png": "[encoded data removed]",
      "text/plain": [
       "<Figure size 640x480 with 1 Axes>"
      ]
     },
     "metadata": {},
     "output_type": "display_data"
    }
   ],
   "source": [
    "theta = theta[len(theta)//2:]\n",
    "plt.hist(theta, 30, density=True)\n",
    "\n",
    "tt = np.linspace(0.1, 0.9, 50)\n",
    "m_post = sigma0**2 * np.sum(data) / (n*sigma0**2 + sigma_x**2)\n",
    "s2_post = 1/(n/sigma_x**2 + 1/sigma0**2)\n",
    "y = np.array([np.exp(lnormpdf(t, m_post, np.sqrt(s2_post))) for t in tt])\n",
    "plt.plot(tt, y)\n",
    "plt.show()"
   ]
  },
  {
   "cell_type": "markdown",
   "id": "24de9f66",
   "metadata": {},
   "source": [
    "<br>\n",
    "\n",
    "## 06-03. 제한된 변수 샘플링 (Sampling bounded variables)\n",
    "- 많은 확률 모델에는 몇 가지 제약 조건이 있는 변수가 포함\n",
    "    * 예) 분산은 양수\n",
    "\n",
    "- 더 엄밀히, 변수 집합 $\\theta_I$가 있고, 이 변수들은 $\\theta_I \\in B$라는 범위 내에 있어야 한다고 가정한다면,\n",
    "    \n",
    "    이러한 변수를 다루는 방법에는 세 가지 접근 방식이 존재\n",
    "\n",
    "<br>\n",
    "\n",
    "### 01. 영가능도 (Zero likelihood)\n",
    "- 만약 $\\theta_I \\notin B$인 경우 타겟 확률분포 $P^*(\\theta)= 0$으로 정의된다면, 일반적인 조건 하에서 MH알고리즘은 올바른 분포로 수렴\n",
    "    - 당연히 이런 상태로 이동하는 모든 제안값은 $a=0$때문에 수용되지 않음\n",
    "\n",
    "<br>\n",
    "\n",
    "- 수용되지 않을 것이 명백한 값들이 여러번 제안되어야 하기 때문에, 이러한 접근법은 비효율적\n",
    "    \n",
    "    - 예) $d$개의 양의 변수에 대하여, 원점 근처에서 시작하는 대칭적인 제안분포를 사용하는 경우, 변수 중 하나라도 음수가 되는 제안값들은 모두 거부되므로, \n",
    "        \n",
    "        모든 변수가 양수여야 한다는 조건에 따라 수용확률은 대략 $2^{-d}$정도가 됨"
   ]
  },
  {
   "cell_type": "markdown",
   "id": "97ca54e2",
   "metadata": {},
   "source": [
    "<br>\n",
    "\n",
    "### 02. 제약조건을 반영하는 제안분포\n",
    "- 제안분포는 범위를 벗어나는 움직임을 제안하지 않도록 수정될 수 있음\n",
    "\n",
    "#### 양수 조건 $\\theta_i > 0$을 만족해야하는 경우\n",
    "- $\\theta_i > 0$인 경우, 이 제약조건을 강제하는 한 가지 방법은 $\\theta^{'} = |\\theta^{'}_0|$로 제안하는 것\n",
    "    - $\\theta_0'$는 임의의 제안분포 $q_0(\\theta_0' ; \\theta)$를 따름\n",
    "\n",
    "$$q(\\theta' ; \\theta) = \n",
    "\\begin{cases} q_0(\\theta' ; \\theta) + q_0(-\\theta' ; \\theta), \\quad &\\theta' > 0, \\\\\n",
    "q_0(\\theta' ; \\theta), & \\theta' = 0.\n",
    "\\end{cases}$$\n"
   ]
  },
  {
   "cell_type": "markdown",
   "id": "05b0fefe",
   "metadata": {},
   "source": [
    "- $q_0(\\theta' ; \\theta)$가 $q_0(\\theta' ; \\theta) = q_s(\\theta' - \\theta)$인 대칭 제안 분포이며, 여기서 $q_s$도 대칭이라고 가정하면,\n",
    "\n",
    "$$q(\\theta' ; \\theta) = q_s(\\theta' - \\theta) + q_s(\\theta' + \\theta),$$로 대칭이며, $$q(\\theta' ; \\theta) = q(\\theta ; \\theta')$$"
   ]
  },
  {
   "cell_type": "markdown",
   "id": "5b4704e0",
   "metadata": {},
   "source": [
    "- 이러한 특별한 제안 방식은 실제로 $q(\\theta' ; \\theta) = q(\\theta ; \\theta')$가 되는지 확인하거나, 그렇지 않은 경우에는 수용비율에 $\\frac{q(\\theta^{(t)} ; \\theta')}{q(\\theta' ; \\theta^{(t)})}$요인을 포함해야 하는지를 반드시 확인해야 함"
   ]
  },
  {
   "cell_type": "markdown",
   "id": "82e66e6d",
   "metadata": {},
   "source": [
    "<br>\n",
    "\n",
    "### 03. 제약이 없는 변수로의 변환\n",
    "- 변수를 제약이 없는 변수로 변환하는 변수 변환\n",
    "- $g$가 $\\phi_I \\in \\mathbb{R}^d$ (어떠한 제약조건도 없음)인 부드럽고 가역적인 변환함수이고, $\\theta_I$이 $g(\\phi_i)$일 때,\n",
    "\n",
    "    - 만약 $\\theta_i >0$인 경우, $g(\\phi)=exp(\\phi)$\n",
    "    - 만약 $\\theta_i \\in (0, 1)$인 경우, $g(\\phi) = \\frac{1}{1+exp(-\\phi)}$를 선택\n",
    "        \n",
    "        $\\rightarrow$ 로지스틱 변환\n",
    "    - 만약 $i \\in I$에 대해 $\\theta_i \\in (0, 1)$이고, $\\sum_{i\\in I} \\theta_i=1$인 경우, 각 $i$에 대해 $g_i(\\phi) = \\frac{\\exp(\\phi_i)}{\\sum_{i' \\in I} \\exp(\\phi_{i'})},$를 선택\n",
    "    \n",
    "        $\\rightarrow$ 소프트맥스 변환\n",
    "        \n",
    "        - 이 경우, $d$차원인 $\\theta_I$는 정규화 조건 때문에, 자유도가 $d-1$에 불과"
   ]
  },
  {
   "cell_type": "markdown",
   "id": "012d4f12",
   "metadata": {},
   "source": [
    "- **변수에 대한 변환은 확률 모델 내에서 반드시 고려되어야 함**\n",
    "- 모델의 가능도는 모델 매개변수의 변환에 대해 불변\n",
    "    \n",
    "    즉, $$p(\\mathcal{D} | \\theta) = p(\\mathcal{D} | g(\\phi)) = p(\\mathcal{D} | \\phi),$$\n",
    "    \n",
    "- 그러나 사전분포는 확률분포의 변환 규칙에 따라 변환됨\n",
    "\n",
    "$$p_{\\phi}(\\phi) = p_{\\theta}(g(\\phi)) \\left| J_g \\right|,$$여기서 $J_g$는 $g$의 자코비안 행렬의 행렬식 절댓값을 의미\n",
    "\n",
    "<br>"
   ]
  },
  {
   "cell_type": "markdown",
   "id": "93be3b81",
   "metadata": {},
   "source": [
    "#### 예)\n",
    "- $\\theta_i >0$인 경우에 $g(\\phi)=exp(\\phi)$를 사용하여 변환하면,\n",
    "\n",
    "$$p(\\phi) = p_{\\theta}(\\exp(\\phi)) \\exp(\\phi).$$\n",
    "\n",
    "- 만약 $\\theta \\sim Exponential(\\lambda)$이고, $p(\\theta|\\lambda)=\\lambda exp(-\\lambda \\theta)$라고 가정하면, $\\phi =log(\\theta)$에 대해\n",
    "\n",
    "$$p(\\phi | \\lambda) = \\lambda \\exp(-\\lambda \\exp(\\phi)) \\exp(\\phi).$$"
   ]
  },
  {
   "cell_type": "markdown",
   "id": "31027d84",
   "metadata": {},
   "source": [
    "<br>\n",
    "\n",
    "### 04. 로지스틱 변환 변수를 이용한 샘플링\n",
    "- 이항 모델의 파라미터 $\\theta=p \\in[0, 1]$에 대해 샘플링하는 경우,\n",
    "    \n",
    "    실수공간의 $\\phi \\in \\mathbb{R}$를 로지스틱 변환을 사용하여 제약이 있는 변수 $\\theta$로 변환\n",
    "    \n",
    "$$\\mathrm{logistic}(\\phi) = \\frac{1}{1 + \\exp(-\\phi)}.$$"
   ]
  },
  {
   "cell_type": "markdown",
   "id": "f251d454",
   "metadata": {},
   "source": [
    "- $\\theta$에서 $\\phi$로의 역변환은\n",
    "\n",
    "$$\\mathrm{logistic}^{-1}(\\theta) = \\log \\left(\\frac{\\theta}{1 - \\theta}\\right).$$"
   ]
  },
  {
   "cell_type": "markdown",
   "id": "c8fbc571",
   "metadata": {},
   "source": [
    "- 샘플링을 위해 $\\theta$에 대해 정의된 사전분포를 $\\phi$에 대한 사전분포로 변환하기 위해서는 다음 변환식을 사용\n",
    "\n",
    "$$p_\\phi(\\phi) = p_\\theta(\\mathrm{logistic}(\\phi)) \\frac{\\mathrm{d}}{\\mathrm{d}\\phi} \\mathrm{logistic}(\\phi).$$"
   ]
  },
  {
   "cell_type": "markdown",
   "id": "b5b75ede",
   "metadata": {},
   "source": [
    "- 여기서 로지스틱 함수의 도함수는\n",
    "\n",
    "$$\\frac{\\mathrm{d}}{\\mathrm{d}\\phi} \\mathrm{logistic}(\\phi) =\n",
    "\\frac{\\exp(-\\phi)}{\\left( 1 + \\exp(-\\phi)\\right)^2}.$$"
   ]
  },
  {
   "cell_type": "code",
   "execution_count": 20,
   "id": "1d69a6b9",
   "metadata": {},
   "outputs": [],
   "source": [
    "def logistic(x):\n",
    "    return 1/(1+np.exp(-x))\n",
    " \n",
    "def dlogistic(x):\n",
    "    return np.exp(-x)/(1+np.exp(-x))**2\n",
    " \n",
    "def invlogistic(y):\n",
    "    return np.log(y / (1-y))"
   ]
  },
  {
   "cell_type": "code",
   "execution_count": 21,
   "id": "c91d2bad",
   "metadata": {},
   "outputs": [
    {
     "data": {
      "image/png": "[encoded data removed]",
      "text/plain": [
       "<Figure size 640x480 with 2 Axes>"
      ]
     },
     "metadata": {},
     "output_type": "display_data"
    }
   ],
   "source": [
    "fig, ax = plt.subplots(1, 2)\n",
    "t = np.linspace(-5, 5, 100)\n",
    "ax[0].plot(t, logistic(t), label=\"logistic(phi)\")\n",
    "ax[0].plot(t, dlogistic(t), label=\"logistic'(phi)\")\n",
    "ax[0].legend()\n",
    "\n",
    "t2 = np.linspace(1e-5, 1-1e-5, 1000)\n",
    "ax[1].plot(t2, invlogistic(t2))\n",
    "plt.show()"
   ]
  },
  {
   "cell_type": "markdown",
   "id": "585cbf56",
   "metadata": {},
   "source": [
    "<br>\n",
    "\n",
    "#### MCMC에 대한 로지스틱 변환\n",
    "- $p(\\mathcal{D} | \\theta) = \\mathrm{Binom}(k;\\; n, \\theta)\n",
    "\\propto \\theta^k (1-\\theta)^{n-k}.$인 확률모델에서 MCMC샘플링을 위한 로지스틱 변환 적용\n",
    "- 사전분포는 \n",
    "$$p(\\theta) = \\mathrm{Uniform}(\\theta;\\; 0.25, 0.75).$$"
   ]
  },
  {
   "cell_type": "markdown",
   "id": "3f155118",
   "metadata": {},
   "source": [
    "- $\\theta$에 대한 비정규화된 로그 가능도"
   ]
  },
  {
   "cell_type": "code",
   "execution_count": 22,
   "id": "04d88d25",
   "metadata": {},
   "outputs": [],
   "source": [
    "def llikelihood(theta, k, n):\n",
    "    return k*np.log(theta) + (n-k)*np.log(1-theta)"
   ]
  },
  {
   "cell_type": "markdown",
   "id": "2eb7af7c",
   "metadata": {},
   "source": [
    "- $\\theta$에 대한 로그 사전분포"
   ]
  },
  {
   "cell_type": "code",
   "execution_count": 23,
   "id": "d0d5bcd1",
   "metadata": {},
   "outputs": [],
   "source": [
    "def lprior(theta, lower, upper):\n",
    "    if theta > lower and theta < upper:\n",
    "        return np.log(1/(upper-lower))\n",
    "    else:\n",
    "        return -np.inf"
   ]
  },
  {
   "cell_type": "markdown",
   "id": "8f505628",
   "metadata": {},
   "source": [
    "- $\\phi$에 대한 로그 사전 변환"
   ]
  },
  {
   "cell_type": "code",
   "execution_count": 24,
   "id": "2c258c18",
   "metadata": {},
   "outputs": [],
   "source": [
    "def lprior_t(phi):\n",
    "    return lprior(logistic(phi), 0.25, 0.75) + np.log(dlogistic(phi))"
   ]
  },
  {
   "cell_type": "code",
   "execution_count": 25,
   "id": "7b64c26b",
   "metadata": {},
   "outputs": [],
   "source": [
    "k = 60\n",
    "n = 100"
   ]
  },
  {
   "cell_type": "markdown",
   "id": "e28c71eb",
   "metadata": {},
   "source": [
    "- $\\phi$에 대한 로그 타겟 분포"
   ]
  },
  {
   "cell_type": "code",
   "execution_count": 26,
   "id": "ca5fa188",
   "metadata": {},
   "outputs": [],
   "source": [
    "def ltarget_t(phi):\n",
    "    return llikelihood(logistic(phi), k, n) + lprior_t(phi)"
   ]
  },
  {
   "cell_type": "code",
   "execution_count": 27,
   "id": "f9e01bb9",
   "metadata": {},
   "outputs": [
    {
     "name": "stdout",
     "output_type": "stream",
     "text": [
      "Sampler acceptance rate: 0.2398\n"
     ]
    },
    {
     "name": "stderr",
     "output_type": "stream",
     "text": [
      "C:\\Users\\user\\AppData\\Local\\Temp\\ipykernel_40516\\1604245064.py:12: DeprecationWarning: Conversion of an array with ndim > 0 to a scalar is deprecated, and will error in future. Ensure you extract a single element from your array before performing this operation. (Deprecated NumPy 1.25.)\n",
      "  thetas[i] = theta\n"
     ]
    }
   ],
   "source": [
    "theta0 = 0.5\n",
    "phi = mhsample1(invlogistic(theta0), 10000,\n",
    "                ltarget_t, lambda phi: phi + npr.randn(1))"
   ]
  },
  {
   "cell_type": "code",
   "execution_count": 28,
   "id": "13ae4fb4",
   "metadata": {},
   "outputs": [
    {
     "name": "stdout",
     "output_type": "stream",
     "text": [
      "[0.50496003 0.59958511 0.68650077]\n"
     ]
    }
   ],
   "source": [
    "phi = phi[len(phi)//2:]\n",
    "theta = logistic(phi)\n",
    "print(np.percentile(theta, [2.5, 50, 97.5]))"
   ]
  },
  {
   "cell_type": "code",
   "execution_count": 29,
   "id": "4f59e2ee",
   "metadata": {},
   "outputs": [
    {
     "data": {
      "image/png": "[encoded data removed]",
      "text/plain": [
       "<Figure size 640x480 with 1 Axes>"
      ]
     },
     "metadata": {},
     "output_type": "display_data"
    }
   ],
   "source": [
    "plt.hist(theta, density=True)\n",
    "plt.title('histogram of theta samples')\n",
    "plt.show()"
   ]
  },
  {
   "cell_type": "markdown",
   "id": "0c27101d",
   "metadata": {},
   "source": [
    "<br>\n",
    "\n",
    "### 05. 확률밀도 변환의 정당성\n",
    "- 확률밀도 변환에 대한 규칙은 적분에 대한 변수 변환 법칙에서 직접적으로 파생\n",
    "\n",
    "- $\\theta=g(\\phi)$를 가정하고, ($g$ 는 미분가능하며, $g$의 도함수는 적분 가능함)\n",
    "    \n",
    "    연속 함수 $f(\\theta)$의 정적분을 계산하기 위해, \n",
    "    \n",
    "$$\\int\\limits_{g(a)}^{g(b)} f(\\theta) \\,\\mathrm{d}\\theta\n",
    "= \\int\\limits_{a}^{b} f(g(\\phi)) \\frac{\\,\\mathrm{d} \\theta}{\\,\\mathrm{d} \\phi} \\,\\mathrm{d} \\phi.$$이는 변수 변환 공식 $$f_\\phi(\\phi) = f_\\theta(g(\\phi)) \\frac{\\,\\mathrm{d} \\theta}{\\,\\mathrm{d} \\phi}\n",
    "  = f_\\theta(g(\\phi)) g'(\\phi).$$으로 도출\n",
    "  \n",
    "- 한편, 확률밀도는 항상 양수여야 하는데, $g^{'}(\\phi)$가 음수일 수도 있으므로, 확률밀도함수의 경우에는 절대값을 취해서\n",
    "\n",
    "$$f_\\phi(\\phi) = f_\\theta(g(\\phi)) \\frac{\\,\\mathrm{d} \\theta}{\\,\\mathrm{d} \\phi}\n",
    "  = f_\\theta(g(\\phi)) |g'(\\phi)|.$$"
   ]
  },
  {
   "cell_type": "markdown",
   "id": "ca27f05a",
   "metadata": {},
   "source": [
    "<br>\n",
    "\n",
    "### 06. 밀도 변환의 수치적인 예시"
   ]
  },
  {
   "cell_type": "code",
   "execution_count": 30,
   "id": "e3d2ce98",
   "metadata": {},
   "outputs": [],
   "source": [
    "import scipy.integrate as si"
   ]
  },
  {
   "cell_type": "markdown",
   "id": "b00a807d",
   "metadata": {},
   "source": [
    "- $p_\\theta (\\theta) = l \\cdot exp(-l \\theta)$"
   ]
  },
  {
   "cell_type": "code",
   "execution_count": 36,
   "id": "ee00b84c",
   "metadata": {},
   "outputs": [],
   "source": [
    "def p_theta(theta, l):\n",
    "    return l * np.exp(-l * theta)"
   ]
  },
  {
   "cell_type": "markdown",
   "id": "0029297e",
   "metadata": {},
   "source": [
    "- $p_\\phi(\\phi) = p_{\\theta}(g(\\phi)) \\cdot |\\frac{d}{d\\phi} g(\\phi)|$\n",
    "    - $g(\\phi) = exp(\\phi)$이고, $g^{'}(\\phi)=exp(\\phi)$이므로,\n",
    "    \n",
    "$$p_{\\phi}(\\phi) = l \\cdot exp(-l\\cdot exp(\\phi))\\cdot exp(\\phi)$$\n",
    "\n",
    "$\\phi \\in \\mathbb{R}$"
   ]
  },
  {
   "cell_type": "code",
   "execution_count": 37,
   "id": "ab1018fe",
   "metadata": {},
   "outputs": [],
   "source": [
    "def p_phi(phi, l):\n",
    "    return l * np.exp(-l * np.exp(phi)) * np.exp(phi)"
   ]
  },
  {
   "cell_type": "markdown",
   "id": "17d5ecfb",
   "metadata": {},
   "source": [
    "- 정규화 상수 $\\int^{\\infty}_{0} p(\\theta) d\\theta = 1$"
   ]
  },
  {
   "cell_type": "code",
   "execution_count": 32,
   "id": "c120b868",
   "metadata": {},
   "outputs": [
    {
     "name": "stdout",
     "output_type": "stream",
     "text": [
      "p_theta normaliser: (1.0, 1.547006336759497e-10)\n"
     ]
    }
   ],
   "source": [
    "print('p_theta normaliser:', si.quad(lambda theta: p_theta(theta, 2.0), 0, np.inf))"
   ]
  },
  {
   "cell_type": "markdown",
   "id": "13e5acca",
   "metadata": {},
   "source": [
    "- 정규화 상수 $\\int^{\\infty}_{-\\infty} p_{\\phi}(\\phi) d\\phi = 1$"
   ]
  },
  {
   "cell_type": "code",
   "execution_count": 33,
   "id": "19aa8a19",
   "metadata": {},
   "outputs": [
    {
     "name": "stdout",
     "output_type": "stream",
     "text": [
      "p_phi normaliser:   (0.9999999999999987, 2.5196432985839586e-10)\n"
     ]
    }
   ],
   "source": [
    "print('p_phi normaliser:  ', si.quad(lambda phi: p_phi(phi, 2.0), -100, 100))"
   ]
  },
  {
   "cell_type": "markdown",
   "id": "a5b2f797",
   "metadata": {},
   "source": [
    "- 확률 비교 : 두 밀도 함수가 동일한 사건에 대해 같은 확률을 부여하는지 확인\n",
    "    - $\\phi \\in [1, exp(1)]$에 해당 $\\rightarrow$ $\\theta = exp(\\phi)$에 의해 $\\phi \\in [0, 1]$과 등치\n",
    "    \n",
    "    - $p_\\theta$에 대해 $\\theta \\in [1, exp(1)]$구간에서 확률을 적분하고\n",
    "        \n",
    "        $p_\\phi$에 대해 $\\phi \\in [0, 1]$구간에서 확률을 적분\n",
    "        \n",
    "        $\\rightarrow$ **두 결과가 거의 동일한 값을 가지면, 변수 변환이 올바르게 적용된 것**"
   ]
  },
  {
   "cell_type": "code",
   "execution_count": 34,
   "id": "ccc343f6",
   "metadata": {},
   "outputs": [
    {
     "name": "stdout",
     "output_type": "stream",
     "text": [
      "p_theta probability: (0.13098086236189044, 1.4541796917942933e-15)\n"
     ]
    }
   ],
   "source": [
    "print('p_theta probability:', si.quad(lambda theta: p_theta(theta, 2.0), 1, np.exp(1)))"
   ]
  },
  {
   "cell_type": "code",
   "execution_count": 35,
   "id": "2b710c19",
   "metadata": {},
   "outputs": [
    {
     "name": "stdout",
     "output_type": "stream",
     "text": [
      "p_phi probability:   (0.13098086236189044, 1.4541796917942933e-15)\n"
     ]
    }
   ],
   "source": [
    "print('p_phi probability:  ', si.quad(lambda phi: p_phi(phi, 2.0), 0, 1))"
   ]
  }
 ],
 "metadata": {
  "kernelspec": {
   "display_name": "Python 3 (ipykernel)",
   "language": "python",
   "name": "python3"
  },
  "language_info": {
   "codemirror_mode": {
    "name": "ipython",
    "version": 3
   },
   "file_extension": ".py",
   "mimetype": "text/x-python",
   "name": "python",
   "nbconvert_exporter": "python",
   "pygments_lexer": "ipython3",
   "version": "3.11.7"
  }
 },
 "nbformat": 4,
 "nbformat_minor": 5
}
