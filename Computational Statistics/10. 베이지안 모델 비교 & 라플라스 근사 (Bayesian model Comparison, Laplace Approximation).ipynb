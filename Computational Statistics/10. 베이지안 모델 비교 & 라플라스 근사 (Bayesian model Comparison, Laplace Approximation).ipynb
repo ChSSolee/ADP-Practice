{
 "cells": [
  {
   "cell_type": "markdown",
   "id": "4cff39e4",
   "metadata": {},
   "source": [
    "# 10. 베이지안 모델 비교 & 라플라스 근사 (Bayesian model Comparison, Laplace Approximation)\n",
    "- 많은 추론 문제에서는 미리 하나의 모델만이 정해져 있는 것이 아니라, 여러 가지 가능한 모델들을 고려 가능\n",
    "\n",
    "- 베이지안 추론은 상위 수준에서 모델 $M_1, M_2$ 등을 비교하는 데 적용 가능\n",
    "\n",
    "    베이즈 정리에 따라\n",
    "    \n",
    "$$p(\\mathcal{M}_i | \\mathcal{D}) = \\frac{p(\\mathcal{D} | \\mathcal{M}_i) p(\\mathcal{M}_i)}{\\sum_i p(\\mathcal{D} | \\mathcal{M}_i) p(\\mathcal{M}_i)}$$로 나타낼 수 있으며, 이는 Marginal 가능도 $p(D|M_i)$에 의존\n",
    "\n",
    "- Marginal Likelihood는 다음과 같이 정의\n",
    "\n",
    "$$p(\\mathcal{D} | \\mathcal{M}_i) = \\int_\\Theta p(\\mathcal{D} | \\theta, \\mathcal{M}_i) p(\\theta | \\mathcal{M}_i) \\mathrm{d}\\theta.$$"
   ]
  },
  {
   "cell_type": "markdown",
   "id": "e700bd14",
   "metadata": {},
   "source": [
    "- Marginal 가능도는 모델 $M_i$가 관측값 $D$에 잘 적합되는지를 측정"
   ]
  },
  {
   "cell_type": "markdown",
   "id": "248ed0ed",
   "metadata": {},
   "source": [
    "<br>\n",
    "\n",
    "## 11-01. 모델 비교와 베이즈 요인 (Bayes Factors)\n",
    "- 베이즈 정리:\n",
    "\n",
    "$$p(\\mathcal{M}_i | \\mathcal{D}) = \\frac{p(\\mathcal{D} | \\mathcal{M}_i) p(\\mathcal{M}_i)}{\\sum_i p(\\mathcal{D} | \\mathcal{M}_i) p(\\mathcal{M}_i)}.$$\n",
    "\n",
    "- 모델 $M_1$과 $M_2$에 대해 $p(M_1)=p(M_2)$라고 가정하면, \n",
    "    \n",
    "    **두 모델의 사후분포 비율은 주변 가능도의 비율로 주어지며, 이것이 베이즈 요인 (Bayes Factor)**\n",
    "    \n",
    "    즉, \n",
    "    \n",
    "$$B_{12} = \\frac{p(\\mathcal{M}_1 | \\mathcal{D})}{p(\\mathcal{M}_2 | \\mathcal{D})} = \\frac{p(\\mathcal{D} | \\mathcal{M}_1)}{p(\\mathcal{D} | \\mathcal{M}_2)}$$\n"
   ]
  },
  {
   "cell_type": "markdown",
   "id": "a91fc4bf",
   "metadata": {},
   "source": [
    "- 베이즈 요인의 강도 해석\n",
    "\n",
    "<table>\n",
    "<thead>\n",
    "<tr class=\"header\">\n",
    "<th><span class=\"math inline\">\\(\\log B_{12}\\)</span></th>\n",
    "<th>강도</th>\n",
    "</tr>\n",
    "</thead>\n",
    "<tbody>\n",
    "<tr class=\"odd\">\n",
    "<td>$\\text{0 to 1}$</td>\n",
    "<td>관측값 $D$가 모델 $M_1$보다 $M_2$에 더 적합하다는 증거 X</td>\n",
    "</tr>\n",
    "<tr class=\"even\">\n",
    "<td>$\\text{1 to 3}$</td>\n",
    "<td>관측값 $D$가 모델 $M_2$보다 $M_1$에 더 적합하다는 증거</td>\n",
    "</tr>\n",
    "<tr class=\"odd\">\n",
    "<td>$\\text{3 to 5}$</td>\n",
    "<td>관측값 $D$가 모델 $M_2$보다 $M_1$에 더 적합하다는 강한 증거</td>\n",
    "</tr>\n",
    "<tr class=\"even\">\n",
    "<td>$\\text{ >5}$</td>\n",
    "<td>관측값 $D$가 모델 $M_2$보다 $M_1$에 더 적합하다는 매우 강한 증거</td>\n",
    "</tr>\n",
    "</tbody>\n",
    "</table>\n"
   ]
  },
  {
   "cell_type": "markdown",
   "id": "35d8f39c",
   "metadata": {},
   "source": [
    "<br>\n",
    "\n",
    "### 01. 유의 사항\n",
    "- Marginal 가능도는 사전 분포에 대한 적분으로 계산되기 때문에 사전 분포에 매우 민감\n",
    "    - 예) 어떤 매개변수의 사전 표준편차를 10배 곱하여 파라미터 공간의 범위를 10배 확장하면, \n",
    "        \n",
    "        사후분포나 사후예측의 변화는 미미할 수 있으나 Marginal 가능도는 10배 변화할 수 있습니다.\n",
    "\n",
    "- 이러한 단점에도 불구하고, Marginal 가능도는 서로 다른 모델을 비교하는 데 널리 사용되는 방법"
   ]
  },
  {
   "cell_type": "markdown",
   "id": "52c88829",
   "metadata": {},
   "source": [
    "<br>\n",
    "\n",
    "## 11-02. 라플라스 근사 (Laplace Approximation)\n",
    "- Laplace 근사는 사후 분포를 가우시안으로 근사하는 또 다른 일반적인 방법을 제공\n",
    "- 이 아이디어는 관심 있는 함수 $f(\\theta)$의 적분 값을 근사할 때, 함수가 최대가 되는 지점$\\hat{\\theta}$ 근처에서, 함수의 형태를 정규분포를 사용하여 근사\n",
    "\n",
    "- **즉, $\\hat{\\theta}$에서 함수 $f(\\theta)$가 가장 큰 값을 가지며, 이 지점 주변을 잘 맞는 가우시안 분포(정규분포)를 찾아내고, 그 가우시안의 넓이를 계산하여 적분 값을 근사하는 것**\n",
    "    - 최대점에서의 근사:\n",
    "        \n",
    "        - 함수 $f(\\theta)$의 로그값 $\\text{log} f(\\theta)$를 최대점 $\\hat{\\theta}$근처에서 2차 테일러 전개\n",
    "        \n",
    "            $log f(\\theta) \\approx log f(\\hat{\\theta}) - \\frac{1}{2}(\\theta-\\hat{\\theta})^T H(\\theta-\\hat{\\theta})$\n",
    "            \n",
    "            ($H$는 $log f(\\theta)$의 헤시안 행렬)\n",
    "            \n",
    "        - 가우시안 형태로 변환:\n",
    "            - 지수 함수를 취해서\n",
    "            \n",
    "                $f(\\theta) \\approx f(\\hat{\\theta}) exp[- \\frac{1}{2}(\\theta - \\hat{\\theta})^T H(\\theta - \\hat{\\theta})]$\n",
    "                \n",
    "                위 식은 $\\theta$가 $\\hat{\\theta}$ 주변에서 다변량 정규분포의 형태를 가짐\n",
    "                \n",
    "                여기서 정규분포의 평균은 $\\hat{\\theta}$, 공분산 행렬은 $H^{-1}$로 결정\n",
    "    \n",
    "    <br>\n",
    "    \n",
    "    - **주변을 잘 맞는 가우시안 분포는 함수 $f(\\theta)$가 최대점 근처에서, 가우시안 분포로 아주 잘 근사 될 수 있음을 의미**\n",
    "\n",
    "- 이 때, 가우시안의 분산(공분산 행렬)은 $\\hat{\\theta}$에서 $log f(\\theta)$의 2차 테일러 전개에 의해 결정\n",
    "\n",
    "- 만약 $f(\\theta)=p(D, \\theta)$와 같이 사후분포의 비정규화된 형태를 가지고 있다면,\n",
    "    \n",
    "    라플라스 근사법을 이용해 사후분포의 정규화 상수, 즉 Marginal 가능도를 계산할 수 있음\n",
    "\n",
    "- 이 방법은 최대 사후 확률 (MAP) 추정치 근처를 중심으로 가우시안 분포로 사후분포를 근사하는 방식으로도 사용\n",
    "    \n",
    "    - **일정한 조건에서는 관측값이 충분히 많아지면 사후분포가 점점 정규분포 형태에 가까워지므로, 이 접근법이 정당화**\n",
    "\n",
    "<br>\n",
    "\n",
    "- 라플라스 근사법은 계산이 단순하며, 만약 실제 사후분포가 거의 정규분포와 같다면 높은 성능의 근사치를 얻을 수 잇음\n",
    "- 하지만, 이 방법은 분포가 단봉분포일 때만 적절히 작동하며, 모수가 어떤 방식으로 매개변수화되었는지에 민감\n",
    "\n",
    "- 실제로 대부분의 질량이 봉우리와 멀리 떨어진 곳에 있을 경우, 근사가 제대로 되지 않을 수 있으며,\n",
    "    \n",
    "    결국 라플라스 근사법은 MAP 추정과 비슷한 한계점을 가짐\n",
    "    \n",
    "    - 만약 계산된 봉우리가 실제로 낮은 확률 영역에 있다면, 이후에 분산을 제대로 추정해도 그 결과는 의미가 없음\n",
    "    \n",
    "    "
   ]
  },
  {
   "cell_type": "markdown",
   "id": "659fb600",
   "metadata": {},
   "source": [
    "<br>\n",
    "\n",
    "## 11-03. Marginal Likelihood 계산\n",
    "- 단변량 분포 $p(\\theta) = \\frac{p^*(\\theta)}{Z}$의 정규화 상수를 계산하기 위하여 라플라스 근사를 적용하려면\n",
    "    \n",
    "    봉우리(최대점) 지점 $\\hat{\\theta}$에서 $log p^*(\\theta)$의 2차 테일러 근사를 이용\n",
    "    \n",
    "    $\\log p^*(\\theta) \\approx \\log p^*(\\widehat{\\theta}) - \\frac{c}{2} (\\theta - \\widehat{\\theta})^2,$\n",
    " \n",
    "    $\\rightarrow$ **여기서 최대점 $\\hat{\\theta}$에서는 도함수의 값이 0이므로 1차항은 사라짐, 또한 상수항 $c$는**\n",
    "    \n",
    "    $c = - \\frac{\\,\\mathrm{d}^2}{\\,\\mathrm{d} \\theta^2} \\log p^*(\\theta) \\bigg\\rvert_{\\theta = \\widehat{\\theta}}.$로 정의\n",
    "\n",
    "    $\\rightarrow$ **근사를 통해 정규화 상수 $Z$는: $Z \\approx p^*(\\widehat{\\theta}) \\sqrt{\\frac{2\\pi}{c}}.$**\n",
    "    \n",
    "<br>\n",
    "\n",
    "- $K$차원 다변량의 경우 근사식은\n",
    "    \n",
    "    $\\log p^*(\\theta) \\approx \\log p^*(\\widehat{\\theta}) - \\frac{1}{2} (\\theta - \\widehat{\\theta})^T \\mathbf{A} (\\theta - \\widehat{\\theta}),$로 주어지며, \n",
    "  \n",
    "  $A$의 원소는: $A_{ij} = - \\frac{\\partial^2}{\\partial \\theta_i \\partial \\theta_j} \\log p^*(\\theta) \\bigg\\rvert_{\\theta = \\widehat{\\theta}}$로, 이는 **최대점 $\\hat{\\theta}$에서 $log p^*(\\theta)$의 음의 해시안 행렬**\n",
    "  \n",
    "  $\\rightarrow$ 따라서 다변량 분포의 정규화 상수는\n",
    "  \n",
    "  $Z \\approx p^*(\\widehat{\\theta}) \\sqrt{\\frac{(2\\pi)^K}{\\det \\mathbf{A}}}.$로 근사됨"
   ]
  },
  {
   "cell_type": "markdown",
   "id": "578ba276",
   "metadata": {},
   "source": [
    "<br>\n",
    "\n",
    "#### 이와 같이 라플라스 근사는 최대점 근처에서 함수의 로그값을 2차 테일러 전개하여, \n",
    "#### 복잡한 분포를 가우시안 형태로 근사하고, 그 가우시안의 정규화 상수를 계산함으로써 전체 정규화 상수를 근사하는 방법"
   ]
  },
  {
   "cell_type": "markdown",
   "id": "f869cfcf",
   "metadata": {},
   "source": [
    "<br>\n",
    "\n",
    "## 11-04. 라플라스 근사 예제\n",
    "- 분산이  $\\sigma^2$인 정규분포를 따르는 데이터  $D=(x_1,…,x_n)$의 평균 $\\mu$에 대한 베이지안 추론"
   ]
  },
  {
   "cell_type": "code",
   "execution_count": 1,
   "id": "fcc9ea11",
   "metadata": {},
   "outputs": [],
   "source": [
    "import autograd\n",
    "import autograd.numpy as np\n",
    "import autograd.numpy.random as npr\n",
    "import scipy.optimize"
   ]
  },
  {
   "cell_type": "markdown",
   "id": "9063bdbc",
   "metadata": {},
   "source": [
    "- $x$에 대해, 평균 $\\mu$와 표준편차 $\\sigma$를 갖는 정규분포의 로그 확률 밀도함수\n",
    "\n",
    "$$log p(x|\\mu, \\sigma)= -0.5 log (2\\pi) - log(\\sigma) - \\frac{1}{2} \\frac{(x-\\mu)^2}{\\sigma^2}$$를 각 $x$에 대해 계산한 후, 모든 값들을 합산"
   ]
  },
  {
   "cell_type": "code",
   "execution_count": 2,
   "id": "4a94fd4e",
   "metadata": {},
   "outputs": [],
   "source": [
    "def lnormpdf(x, mu, sigma):\n",
    "    return np.sum(-0.5*np.log(2*np.pi) - np.log(sigma) - 0.5 * (x-mu)**2/sigma**2)"
   ]
  },
  {
   "cell_type": "markdown",
   "id": "c2cd5140",
   "metadata": {},
   "source": [
    "- $\\mu = 0.5$에 대한 표준정규분포 데이터 샘플 100개"
   ]
  },
  {
   "cell_type": "code",
   "execution_count": 3,
   "id": "84c3adfc",
   "metadata": {},
   "outputs": [],
   "source": [
    "npr.seed(42)\n",
    "n = 100\n",
    "data = 0.5 + npr.normal(size=n)"
   ]
  },
  {
   "cell_type": "markdown",
   "id": "76cfaf25",
   "metadata": {},
   "source": [
    "- 사전분포 & 가능도 설정"
   ]
  },
  {
   "cell_type": "code",
   "execution_count": 14,
   "id": "06e54260",
   "metadata": {},
   "outputs": [],
   "source": [
    "sigma_x = 1.0\n",
    "mu0 = 0.0\n",
    "sigma0 = 3.0\n",
    "\n",
    "\"\"\"로그 가능도\"\"\"\n",
    "likelihood = lambda mu: lnormpdf(data, mu, sigma_x)\n",
    "\n",
    "\"\"\"로그 사전분포\"\"\"\n",
    "prior = lambda mu: lnormpdf(mu, mu0, sigma0)"
   ]
  },
  {
   "cell_type": "markdown",
   "id": "5d61d3d8",
   "metadata": {},
   "source": [
    "- 전체 로그 가능도 (가능도와 로그 사전분포 값을 합산)"
   ]
  },
  {
   "cell_type": "code",
   "execution_count": 18,
   "id": "99ae0cd7",
   "metadata": {},
   "outputs": [],
   "source": [
    "def llikelihood(theta):\n",
    "    return likelihood(theta) + prior(theta)"
   ]
  },
  {
   "cell_type": "markdown",
   "id": "7a06e7aa",
   "metadata": {},
   "source": [
    "- 최적화 목표 함수"
   ]
  },
  {
   "cell_type": "code",
   "execution_count": 19,
   "id": "52e2e946",
   "metadata": {},
   "outputs": [],
   "source": [
    "def ltarget(theta):\n",
    "    return -llikelihood(theta)"
   ]
  },
  {
   "cell_type": "markdown",
   "id": "d893fae8",
   "metadata": {},
   "source": [
    "- 목표함수의 기울기 & 헤시안"
   ]
  },
  {
   "cell_type": "code",
   "execution_count": 20,
   "id": "f5e4b4d0",
   "metadata": {},
   "outputs": [],
   "source": [
    "dltarget = autograd.grad(ltarget)\n",
    "d2ltarget = autograd.hessian(ltarget)"
   ]
  },
  {
   "cell_type": "markdown",
   "id": "da0de9f0",
   "metadata": {},
   "source": [
    "- 최적화"
   ]
  },
  {
   "cell_type": "code",
   "execution_count": 21,
   "id": "25836741",
   "metadata": {},
   "outputs": [
    {
     "name": "stdout",
     "output_type": "stream",
     "text": [
      "posterior mode: 0.3957138006052337\n"
     ]
    }
   ],
   "source": [
    "theta_opt = scipy.optimize.minimize(ltarget, np.ones(1), method='L-BFGS-B', jac = dltarget)\n",
    "print('posterior mode:', theta_opt.x[0])"
   ]
  },
  {
   "cell_type": "markdown",
   "id": "3f9b2f32",
   "metadata": {},
   "source": [
    "- 최적화 결과 (사후분포의 봉우리 지점)"
   ]
  },
  {
   "cell_type": "code",
   "execution_count": 23,
   "id": "97456b5c",
   "metadata": {},
   "outputs": [],
   "source": [
    "x0 = theta_opt.x[0]"
   ]
  },
  {
   "cell_type": "markdown",
   "id": "70f28828",
   "metadata": {},
   "source": [
    "- 라플라스 근사를 통한 정규화 상수 $Z$ 근삿값\n",
    "\n",
    "$$Z \\approx p^* (x_0) \\sqrt{\\frac{2\\pi}{c}}$$\n",
    "\n",
    "$$log Z \\approx log p^*(x_0) + \\frac{1}{2}log(2\\pi) - \\frac{1}{2}log(c)$$"
   ]
  },
  {
   "cell_type": "code",
   "execution_count": 24,
   "id": "f31481a8",
   "metadata": {},
   "outputs": [
    {
     "name": "stdout",
     "output_type": "stream",
     "text": [
      "logZ = -136.1304247617546\n"
     ]
    }
   ],
   "source": [
    "logZ = llikelihood(x0) + 0.5*np.log(2*np.pi) - 0.5*np.log(np.abs(d2ltarget(x0)))\n",
    "print(\"logZ =\", logZ)"
   ]
  },
  {
   "cell_type": "markdown",
   "id": "7fa7d7c9",
   "metadata": {},
   "source": [
    "<br>\n",
    "\n",
    "#### `PyTorch` 사용"
   ]
  },
  {
   "cell_type": "code",
   "execution_count": 25,
   "id": "085e0e34",
   "metadata": {},
   "outputs": [],
   "source": [
    "import torch\n",
    "import math\n",
    "import numpy as np\n",
    "import numpy.random as npr"
   ]
  },
  {
   "cell_type": "code",
   "execution_count": 26,
   "id": "7b09d203",
   "metadata": {},
   "outputs": [],
   "source": [
    "torch.set_default_dtype(torch.double)"
   ]
  },
  {
   "cell_type": "code",
   "execution_count": null,
   "id": "a47ac6e4",
   "metadata": {},
   "outputs": [],
   "source": [
    "def lnormpdf(x, mu, sigma):\n",
    "    return torch.distributions.normal.Normal(loc=mu, scale=sigma).log_prob(x).sum()"
   ]
  },
  {
   "cell_type": "code",
   "execution_count": 27,
   "id": "04b38ac2",
   "metadata": {},
   "outputs": [],
   "source": [
    "npr.seed(42)\n",
    "n = 100\n",
    "numpydata = 0.5 + npr.normal(size=n)\n",
    "data = torch.tensor(numpydata)"
   ]
  },
  {
   "cell_type": "code",
   "execution_count": 28,
   "id": "0b73b8af",
   "metadata": {},
   "outputs": [],
   "source": [
    "sigma_x = 1.0\n",
    "mu0 = 0.0\n",
    "sigma0 = 3.0\n",
    "likelihood = lambda mu: lnormpdf(data, mu, sigma_x)\n",
    "prior = lambda mu: lnormpdf(mu, mu0, sigma0)"
   ]
  },
  {
   "cell_type": "code",
   "execution_count": 29,
   "id": "2ac49867",
   "metadata": {},
   "outputs": [],
   "source": [
    "def llikelihood(theta):\n",
    "    return likelihood(theta) + prior(theta)\n",
    " \n",
    "def ltarget(theta):\n",
    "    # note: need to define minimisation separately\n",
    "    return -llikelihood(theta)"
   ]
  },
  {
   "cell_type": "code",
   "execution_count": 34,
   "id": "6a8ecbc5",
   "metadata": {},
   "outputs": [],
   "source": [
    "theta = torch.zeros(1, requires_grad=True)\n",
    "optimizer = torch.optim.LBFGS([theta])"
   ]
  },
  {
   "cell_type": "code",
   "execution_count": 38,
   "id": "50d2bdd6",
   "metadata": {
    "scrolled": true
   },
   "outputs": [
    {
     "name": "stdout",
     "output_type": "stream",
     "text": [
      "posterior mode: 0.39571380060523365\n"
     ]
    }
   ],
   "source": [
    "tol = 1e-6\n",
    "l_old = math.inf\n",
    "l_new = ltarget(theta)\n",
    "\n",
    "while l_old - l_new > tol:\n",
    "    l_old = l_new\n",
    "    def closure():\n",
    "        optimizer.zero_grad()\n",
    "        l = ltarget(theta)\n",
    "        l.backward()\n",
    "        return l\n",
    "    optimizer.step(closure)\n",
    "    l_new = ltarget(theta)\n",
    "    \n",
    "print('posterior mode:', theta[0].item())"
   ]
  },
  {
   "cell_type": "code",
   "execution_count": 39,
   "id": "a7ac3a92",
   "metadata": {},
   "outputs": [],
   "source": [
    "ll = llikelihood(theta)"
   ]
  },
  {
   "cell_type": "code",
   "execution_count": 41,
   "id": "deae8324",
   "metadata": {},
   "outputs": [
    {
     "name": "stdout",
     "output_type": "stream",
     "text": [
      "tensor([-100.1111])\n",
      "logZ = -136.1304247617546\n"
     ]
    }
   ],
   "source": [
    "def hessian(f, wrt):\n",
    "    g1 = torch.autograd.grad(f, wrt, create_graph=True)[0]\n",
    "    f1 = g1.sum()\n",
    "    return torch.autograd.grad(f1, wrt)[0]\n",
    " \n",
    "print(hessian(ll, theta))\n",
    "\n",
    "logZ = llikelihood(theta) + 0.5*math.log(2*math.pi) - 0.5*torch.log(torch.abs(hessian(ll, theta)))\n",
    "print(\"logZ =\", logZ.item())"
   ]
  },
  {
   "cell_type": "markdown",
   "id": "f33f2548",
   "metadata": {},
   "source": [
    "<br>\n",
    "\n",
    "## 11-05. 열역학적 통합 (thermodynamic integration)을 이용한 MCMC 기반 가능도\n",
    "- MCMC를 사용하여 Marginal Likelihood는 평가하는 것은 간단하지 않음\n",
    "- Marginal Likelihood는 사전 분포에 대한 적분으로 표현되는데, 일반적으로 전체 공간 중 아주 작은 부분에 의해 지배되기 때문에, \n",
    "    \n",
    "    사전 분포로부터 샘플링하여 이를 평가하면 결과의 분산이 매우 커짐\n",
    "\n",
    "    - 중요도 샘플링을 이용하여 주변 우도를 추정하는 방법으로 소위 조화 평균(harmonic mean) 추정기를 구성할 수도 있지만, 실제로는 매우 신뢰할 수 없으므로 절대 사용해서는 안 됨\n",
    "\n",
    "<br>\n",
    "\n",
    "- 어닐링(Annealing) 개념은 열역학적 통합(thermodynamic integration)이라는 방법을 사용하여 Marginal Likelihood를 계산하는 데에도 사용할 수 있음\n",
    "\n",
    "- 열역학적 통합은 $\\beta \\in [0, 1]$ 범위에서 다음과 같이 정의된 분포로부터 샘플을 추출하는 방식으로 작동\n",
    "\n",
    "$$\\pi^*_\\beta(\\theta) = p(\\mathcal{D} | \\theta)^\\beta p(\\theta)$$\n",
    "\n",
    "- 여기서 $Z_\\beta = \\int_{\\Theta} \\pi^{*}_{\\beta} (\\theta) d \\theta$라고 하면, Marginal Likelihood는 $p(D)=Z_1$이고,\n",
    "    \n",
    "    $Z_0 = \\int_{\\Theta} p(\\theta) d \\theta = 1$\n",
    "    \n",
    "    또한, 정규화된 분포는 $\\pi_\\beta (\\theta) = \\frac{\\pi^{*}_\\beta (\\theta)}{Z_\\beta}$로 정의\n",
    "\n",
    "<br>\n",
    "\n",
    "- 열역학적 통합은 수치적분에 기반하며, 다음과 같이 표현\n",
    "\n",
    "    $\\ln Z_1 - \\ln Z_0 = \\int\\limits_0^1 \\frac{\\partial \\ln Z_\\beta}{\\partial \\beta} \\,\\mathrm{d} \\beta.$\n",
    "\n",
    "    필요한 적분함수를 다음과 같이 정의\n",
    "$$\\begin{align*}\n",
    "\\frac{\\partial \\ln Z_\\beta}{\\partial \\beta} = \\frac{1}{Z_\\beta} \\frac{\\partial Z_\\beta}{\\partial \\beta} = \\frac{1}{Z_\\beta} \\frac{\\partial}{\\partial \\beta} \\int_{\\Theta} \\pi^*_\\beta(\\theta) \\,\\mathrm{d} \\theta  = \\frac{1}{Z_\\beta} \\int_{\\Theta} \\frac{\\partial \\pi^*_\\beta(\\theta)}{\\partial \\beta} \\,\\mathrm{d} \\theta\n",
    "\\end{align*}$$이를 다시 정규화된 분포를 사용하여 정의하면$$\\begin{align*}\n",
    "\\int_{\\Theta} \\frac{1}{\\pi^*_\\beta(\\theta)} \\frac{\\partial \\pi^*_\\beta(\\theta)}{\\partial \\beta} \\frac{\\pi^*_\\beta(\\theta)}{Z_\\beta} \\,\\mathrm{d} \\theta = \\int_{\\Theta} \\frac{\\partial \\ln \\pi^*_\\beta(\\theta)}{\\partial \\beta} \\pi_\\beta(\\theta) \\,\\mathrm{d} \\theta.\n",
    "\\end{align*}$$\n",
    "\n",
    "(로그 미분법칙에 따라 $\\frac {\\partial \\ln \\pi^{*}_\\beta (\\theta)}{\\partial \\beta} = \\frac{1}{\\pi^{*}_\\beta (\\theta)} \\frac{\\partial \\pi^{*}_\\beta (\\theta)}{\\partial \\beta}$)\n",
    "\n",
    "여기서 $ln\\;\\pi^{*}_\\beta (\\theta)= \\beta \\ln p(\\mathcal{D} | \\theta) + \\ln p(\\theta),$\n",
    "\n",
    "즉, 적분은 정규화된 분포 $\\pi_\\beta (\\theta)$에 대한 기대값으로 해석할 수 있으며, 이를 이용해 로그 Marginal Likelihood를 다음과 같이 계산할 수 있음$$\\ln p(\\mathcal{D}) = \\ln Z_1 - \\ln Z_0 = \\int_0^1 \\mathrm{E}_\\beta [\\ln p(\\mathcal{D} | \\theta)] \\,\\mathrm{d}\\beta,$$\n",
    "\n",
    "여기서 $E_\\beta [\\cdot]$은 어닐링된 사후분포 $\\pi_\\beta (\\theta)$에 대한 기대값을 의미하며, 해당 체인으로부터 얻은 몬테카를로 샘플들을 사용하여 평가할 수 있음"
   ]
  },
  {
   "cell_type": "markdown",
   "id": "ffa6c7de",
   "metadata": {},
   "source": [
    "<br>\n",
    "\n",
    "## 10-06. 열역학적 통합 예제\n",
    "- 분산이  $\\sigma^2$인 정규분포를 따르는 데이터  $D=(x_1,…,x_n)$의 평균 $\\mu$에 대한 베이지안 추론"
   ]
  },
  {
   "cell_type": "code",
   "execution_count": 46,
   "id": "5cec77b6",
   "metadata": {},
   "outputs": [],
   "source": [
    "import scipy.integrate\n",
    "import matplotlib.pyplot as plt"
   ]
  },
  {
   "cell_type": "code",
   "execution_count": 50,
   "id": "f80c13e7",
   "metadata": {},
   "outputs": [],
   "source": [
    "def mhsample1(theta0, n, logtarget, drawproposal):\n",
    "    theta = theta0\n",
    "    thetas = np.zeros(n)\n",
    "    accepts = 0\n",
    "    \n",
    "    for i in range(n):\n",
    "        theta_prop = drawproposal(theta)\n",
    "        if np.log(npr.rand()) < logtarget(theta_prop) - logtarget(theta):\n",
    "            theta = theta_prop\n",
    "            accepts += 1\n",
    "            \n",
    "        thetas[i] = theta\n",
    "        \n",
    "    print(\"Sampler acceptance rate:\", accepts/n)\n",
    "    return thetas"
   ]
  },
  {
   "cell_type": "code",
   "execution_count": null,
   "id": "0f55a8c5",
   "metadata": {},
   "outputs": [],
   "source": [
    "def lnormpdf(x, mu, sigma):\n",
    "    return np.sum(-0.5*np.log(2*np.pi) - np.log(sigma) - 0.5 * (x-mu)**2/sigma**2)"
   ]
  },
  {
   "cell_type": "code",
   "execution_count": 51,
   "id": "78939a38",
   "metadata": {},
   "outputs": [],
   "source": [
    "npr.seed(42)\n",
    "n = 100\n",
    "data = 0.5 + npr.normal(size=n)"
   ]
  },
  {
   "cell_type": "code",
   "execution_count": 53,
   "id": "1782cef6",
   "metadata": {},
   "outputs": [],
   "source": [
    "sigma_x = 1.0\n",
    "mu0 = 0.0\n",
    "sigma0 = 3.0\n",
    "\n",
    "likelihood = lambda mu: lnormpdf(data, mu, sigma_x)\n",
    "prior = lambda mu: lnormpdf(mu, mu0, sigma0)"
   ]
  },
  {
   "cell_type": "code",
   "execution_count": 54,
   "id": "07edb0da",
   "metadata": {},
   "outputs": [],
   "source": [
    "CHAINS = 20\n",
    "ITERS = 10000\n",
    "betas = np.concatenate((np.array([0.0]), np.logspace(-5, 0, CHAINS)))"
   ]
  },
  {
   "cell_type": "code",
   "execution_count": 44,
   "id": "12f92692",
   "metadata": {},
   "outputs": [
    {
     "name": "stderr",
     "output_type": "stream",
     "text": [
      "C:\\Users\\user\\AppData\\Local\\Temp\\ipykernel_58760\\1604245064.py:12: DeprecationWarning: Conversion of an array with ndim > 0 to a scalar is deprecated, and will error in future. Ensure you extract a single element from your array before performing this operation. (Deprecated NumPy 1.25.)\n",
      "  thetas[i] = theta\n"
     ]
    },
    {
     "name": "stdout",
     "output_type": "stream",
     "text": [
      "Sampler acceptance rate: 0.492\n",
      "Sampler acceptance rate: 0.4794\n",
      "Sampler acceptance rate: 0.4867\n",
      "Sampler acceptance rate: 0.4808\n",
      "Sampler acceptance rate: 0.4816\n",
      "Sampler acceptance rate: 0.4819\n",
      "Sampler acceptance rate: 0.4891\n",
      "Sampler acceptance rate: 0.4903\n",
      "Sampler acceptance rate: 0.4849\n",
      "Sampler acceptance rate: 0.4908\n",
      "Sampler acceptance rate: 0.4958\n",
      "Sampler acceptance rate: 0.4887\n",
      "Sampler acceptance rate: 0.4917\n",
      "Sampler acceptance rate: 0.4935\n",
      "Sampler acceptance rate: 0.5009\n",
      "Sampler acceptance rate: 0.4897\n",
      "Sampler acceptance rate: 0.498\n",
      "Sampler acceptance rate: 0.4979\n",
      "Sampler acceptance rate: 0.5053\n",
      "Sampler acceptance rate: 0.4946\n",
      "Sampler acceptance rate: 0.4967\n"
     ]
    }
   ],
   "source": [
    "xx = np.zeros((ITERS, CHAINS+1))\n",
    "for i in range(CHAINS+1):\n",
    "    xx[:,i] = mhsample1(np.zeros(1), ITERS, lambda x: betas[i]*likelihood(x)+prior(x),\n",
    "                        lambda x: x + 0.2/np.sqrt(betas[i]+1e-3)*npr.normal(size=1))"
   ]
  },
  {
   "cell_type": "code",
   "execution_count": 55,
   "id": "00fd65db",
   "metadata": {},
   "outputs": [],
   "source": [
    "lls_ti = np.zeros(xx.shape)\n",
    "for i in range(lls_ti.shape[0]):\n",
    "    for j in range(lls_ti.shape[1]):\n",
    "        lls_ti[i,j] = likelihood(xx[i,j])\n",
    "\n",
    "ll = np.mean(lls_ti, 0)"
   ]
  },
  {
   "cell_type": "code",
   "execution_count": 56,
   "id": "7725a67f",
   "metadata": {},
   "outputs": [
    {
     "data": {
      "image/png": "[encoded data removed]",
      "text/plain": [
       "<Figure size 640x480 with 1 Axes>"
      ]
     },
     "metadata": {},
     "output_type": "display_data"
    }
   ],
   "source": [
    "plt.plot(betas, ll)\n",
    "plt.xlabel(r'$\\beta$')\n",
    "plt.ylabel(r'$E_\\beta[ \\log p(\\mathcal{D} | \\theta)]$')\n",
    "plt.show()"
   ]
  },
  {
   "cell_type": "code",
   "execution_count": 57,
   "id": "d88b81ed",
   "metadata": {},
   "outputs": [
    {
     "name": "stdout",
     "output_type": "stream",
     "text": [
      "Marginal likelihood: -136.07312581322287\n"
     ]
    }
   ],
   "source": [
    "print('Marginal likelihood:',scipy.integrate.simpson(ll, betas))"
   ]
  },
  {
   "cell_type": "markdown",
   "id": "d0105791",
   "metadata": {},
   "source": [
    "- 열역학접 통합과 병렬 템퍼링은 모두 동일한 온도 분포 $\\pi_\\beta{\\theta}$를 시뮬레이션해야 하므로, 이 두 방법은 결합 가능"
   ]
  }
 ],
 "metadata": {
  "kernelspec": {
   "display_name": "pytorch_cpu",
   "language": "python",
   "name": "pytorch_cpu"
  },
  "language_info": {
   "codemirror_mode": {
    "name": "ipython",
    "version": 3
   },
   "file_extension": ".py",
   "mimetype": "text/x-python",
   "name": "python",
   "nbconvert_exporter": "python",
   "pygments_lexer": "ipython3",
   "version": "3.10.16"
  }
 },
 "nbformat": 4,
 "nbformat_minor": 5
}
