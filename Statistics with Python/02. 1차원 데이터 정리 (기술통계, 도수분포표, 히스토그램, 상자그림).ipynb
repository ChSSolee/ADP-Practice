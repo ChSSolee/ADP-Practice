{
 "cells": [
  {
   "cell_type": "markdown",
   "metadata": {},
   "source": [
    "# 02. 1차원 데이터의 정리"
   ]
  },
  {
   "cell_type": "markdown",
   "metadata": {},
   "source": [
    "## 데이터 중심의 지표"
   ]
  },
  {
   "cell_type": "code",
   "execution_count": 4,
   "metadata": {
    "ExecuteTime": {
     "end_time": "2018-08-14T06:43:30.149227Z",
     "start_time": "2018-08-14T06:43:29.960007Z"
    }
   },
   "outputs": [],
   "source": [
    "import numpy as np\n",
    "import pandas as pd"
   ]
  },
  {
   "cell_type": "markdown",
   "metadata": {},
   "source": [
    "- Jupyter Notebook의 출력을 소수점 이하 3자리로 제한"
   ]
  },
  {
   "cell_type": "code",
   "execution_count": 5,
   "metadata": {},
   "outputs": [
    {
     "data": {
      "text/plain": [
       "'%.3f'"
      ]
     },
     "execution_count": 5,
     "metadata": {},
     "output_type": "execute_result"
    }
   ],
   "source": [
    "%precision 3"
   ]
  },
  {
   "cell_type": "markdown",
   "metadata": {},
   "source": [
    "- Dataframe의 출력을 소수점 이하 3자리로 제한\n",
    "\n",
    "```Python\n",
    "pd.set_option('precision', 3)\n",
    "```"
   ]
  },
  {
   "cell_type": "code",
   "execution_count": 9,
   "metadata": {
    "ExecuteTime": {
     "end_time": "2018-08-14T06:43:30.160598Z",
     "start_time": "2018-08-14T06:43:30.150458Z"
    }
   },
   "outputs": [
    {
     "data": {
      "text/html": [
       "<div>\n",
       "<style scoped>\n",
       "    .dataframe tbody tr th:only-of-type {\n",
       "        vertical-align: middle;\n",
       "    }\n",
       "\n",
       "    .dataframe tbody tr th {\n",
       "        vertical-align: top;\n",
       "    }\n",
       "\n",
       "    .dataframe thead th {\n",
       "        text-align: right;\n",
       "    }\n",
       "</style>\n",
       "<table border=\"1\" class=\"dataframe\">\n",
       "  <thead>\n",
       "    <tr style=\"text-align: right;\">\n",
       "      <th></th>\n",
       "      <th>english</th>\n",
       "      <th>mathematics</th>\n",
       "    </tr>\n",
       "    <tr>\n",
       "      <th>student number</th>\n",
       "      <th></th>\n",
       "      <th></th>\n",
       "    </tr>\n",
       "  </thead>\n",
       "  <tbody>\n",
       "    <tr>\n",
       "      <th>1</th>\n",
       "      <td>42</td>\n",
       "      <td>65</td>\n",
       "    </tr>\n",
       "    <tr>\n",
       "      <th>2</th>\n",
       "      <td>69</td>\n",
       "      <td>80</td>\n",
       "    </tr>\n",
       "    <tr>\n",
       "      <th>3</th>\n",
       "      <td>56</td>\n",
       "      <td>63</td>\n",
       "    </tr>\n",
       "    <tr>\n",
       "      <th>4</th>\n",
       "      <td>41</td>\n",
       "      <td>63</td>\n",
       "    </tr>\n",
       "    <tr>\n",
       "      <th>5</th>\n",
       "      <td>57</td>\n",
       "      <td>76</td>\n",
       "    </tr>\n",
       "  </tbody>\n",
       "</table>\n",
       "</div>"
      ],
      "text/plain": [
       "                english  mathematics\n",
       "student number                      \n",
       "1                    42           65\n",
       "2                    69           80\n",
       "3                    56           63\n",
       "4                    41           63\n",
       "5                    57           76"
      ]
     },
     "execution_count": 9,
     "metadata": {},
     "output_type": "execute_result"
    }
   ],
   "source": [
    "df = pd.read_csv('python_stat_sample-master/data/ch2_scores_em.csv',\n",
    "                 index_col = 'student number')\n",
    "\n",
    "df.head()"
   ]
  },
  {
   "cell_type": "code",
   "execution_count": 11,
   "metadata": {
    "ExecuteTime": {
     "end_time": "2018-08-14T06:43:30.164864Z",
     "start_time": "2018-08-14T06:43:30.161951Z"
    }
   },
   "outputs": [
    {
     "data": {
      "text/plain": [
       "array([42, 69, 56, 41, 57, 48, 65, 49, 65, 58], dtype=int64)"
      ]
     },
     "execution_count": 11,
     "metadata": {},
     "output_type": "execute_result"
    }
   ],
   "source": [
    "scores = np.array(df['english'])[:10]\n",
    "scores"
   ]
  },
  {
   "cell_type": "code",
   "execution_count": 12,
   "metadata": {
    "ExecuteTime": {
     "end_time": "2018-08-14T06:43:30.171540Z",
     "start_time": "2018-08-14T06:43:30.166060Z"
    }
   },
   "outputs": [
    {
     "data": {
      "text/html": [
       "<div>\n",
       "<style scoped>\n",
       "    .dataframe tbody tr th:only-of-type {\n",
       "        vertical-align: middle;\n",
       "    }\n",
       "\n",
       "    .dataframe tbody tr th {\n",
       "        vertical-align: top;\n",
       "    }\n",
       "\n",
       "    .dataframe thead th {\n",
       "        text-align: right;\n",
       "    }\n",
       "</style>\n",
       "<table border=\"1\" class=\"dataframe\">\n",
       "  <thead>\n",
       "    <tr style=\"text-align: right;\">\n",
       "      <th></th>\n",
       "      <th>score</th>\n",
       "    </tr>\n",
       "    <tr>\n",
       "      <th>student</th>\n",
       "      <th></th>\n",
       "    </tr>\n",
       "  </thead>\n",
       "  <tbody>\n",
       "    <tr>\n",
       "      <th>A</th>\n",
       "      <td>42</td>\n",
       "    </tr>\n",
       "    <tr>\n",
       "      <th>B</th>\n",
       "      <td>69</td>\n",
       "    </tr>\n",
       "    <tr>\n",
       "      <th>C</th>\n",
       "      <td>56</td>\n",
       "    </tr>\n",
       "    <tr>\n",
       "      <th>D</th>\n",
       "      <td>41</td>\n",
       "    </tr>\n",
       "    <tr>\n",
       "      <th>E</th>\n",
       "      <td>57</td>\n",
       "    </tr>\n",
       "    <tr>\n",
       "      <th>F</th>\n",
       "      <td>48</td>\n",
       "    </tr>\n",
       "    <tr>\n",
       "      <th>G</th>\n",
       "      <td>65</td>\n",
       "    </tr>\n",
       "    <tr>\n",
       "      <th>H</th>\n",
       "      <td>49</td>\n",
       "    </tr>\n",
       "    <tr>\n",
       "      <th>I</th>\n",
       "      <td>65</td>\n",
       "    </tr>\n",
       "    <tr>\n",
       "      <th>J</th>\n",
       "      <td>58</td>\n",
       "    </tr>\n",
       "  </tbody>\n",
       "</table>\n",
       "</div>"
      ],
      "text/plain": [
       "         score\n",
       "student       \n",
       "A           42\n",
       "B           69\n",
       "C           56\n",
       "D           41\n",
       "E           57\n",
       "F           48\n",
       "G           65\n",
       "H           49\n",
       "I           65\n",
       "J           58"
      ]
     },
     "execution_count": 12,
     "metadata": {},
     "output_type": "execute_result"
    }
   ],
   "source": [
    "scores_df = pd.DataFrame({'score' : scores},\n",
    "                         index = pd.Index(['A', 'B', 'C', 'D', 'E',\n",
    "                                           'F', 'G', 'H', 'I', 'J'],\n",
    "                                            name = 'student'))\n",
    "scores_df"
   ]
  },
  {
   "cell_type": "markdown",
   "metadata": {},
   "source": [
    "\n",
    "## \n",
    "### 대푯값 : 데이터를 하나의 값으로 요약한 지표\n",
    "### 평균값 : ```np.mean()```, ```.mean()```\n",
    "\n",
    "### $\\bar{x} = {1 \\over n} \\displaystyle\\sum_{i=1}^{n}{x_i} = {1 \\over n} (x_1 + x_2 + ... + x_n)$"
   ]
  },
  {
   "cell_type": "code",
   "execution_count": 13,
   "metadata": {
    "ExecuteTime": {
     "end_time": "2018-08-14T06:43:30.176173Z",
     "start_time": "2018-08-14T06:43:30.173034Z"
    }
   },
   "outputs": [
    {
     "data": {
      "text/plain": [
       "55.000"
      ]
     },
     "execution_count": 13,
     "metadata": {},
     "output_type": "execute_result"
    }
   ],
   "source": [
    "sum(scores) / len(scores)"
   ]
  },
  {
   "cell_type": "code",
   "execution_count": 14,
   "metadata": {
    "ExecuteTime": {
     "end_time": "2018-08-14T06:43:30.180268Z",
     "start_time": "2018-08-14T06:43:30.177216Z"
    }
   },
   "outputs": [
    {
     "data": {
      "text/plain": [
       "55.000"
      ]
     },
     "execution_count": 14,
     "metadata": {},
     "output_type": "execute_result"
    }
   ],
   "source": [
    "np.mean(scores)"
   ]
  },
  {
   "cell_type": "code",
   "execution_count": 15,
   "metadata": {
    "ExecuteTime": {
     "end_time": "2018-08-14T06:43:30.185269Z",
     "start_time": "2018-08-14T06:43:30.181389Z"
    }
   },
   "outputs": [
    {
     "data": {
      "text/plain": [
       "score    55.0\n",
       "dtype: float64"
      ]
     },
     "execution_count": 15,
     "metadata": {},
     "output_type": "execute_result"
    }
   ],
   "source": [
    "scores_df.mean()"
   ]
  },
  {
   "cell_type": "markdown",
   "metadata": {},
   "source": [
    "### \n",
    "### 중앙값 : 데이터를 크기 순서대로 나열할 때 정확하게 중앙에 위치한 값\n",
    "### ```np.sort()``` : 데이터 정렬\n",
    "### ```np.median()```, ```.median()```\n",
    "\n",
    "- **데이터의 개수 n이 홀수라면 ${{n + 1} \\over 2}$ 번째 데이터가 중앙값**\n",
    "- **데이터의 개수 n이 짝수라면, $n \\over 2$번째 데이터와 ${n \\over 2} + 1$번째 데이터의 평균이 중앙값**\n",
    "- 중앙값은 평균값에 비해 이상값에 강건 (robust)"
   ]
  },
  {
   "cell_type": "code",
   "execution_count": 16,
   "metadata": {
    "ExecuteTime": {
     "end_time": "2018-08-14T06:43:30.189618Z",
     "start_time": "2018-08-14T06:43:30.186212Z"
    }
   },
   "outputs": [
    {
     "data": {
      "text/plain": [
       "array([41, 42, 48, 49, 56, 57, 58, 65, 65, 69], dtype=int64)"
      ]
     },
     "execution_count": 16,
     "metadata": {},
     "output_type": "execute_result"
    }
   ],
   "source": [
    "sorted_scores = np.sort(scores)\n",
    "sorted_scores"
   ]
  },
  {
   "cell_type": "code",
   "execution_count": 18,
   "metadata": {
    "ExecuteTime": {
     "end_time": "2018-08-14T06:43:30.195944Z",
     "start_time": "2018-08-14T06:43:30.191005Z"
    }
   },
   "outputs": [],
   "source": [
    "n = len(sorted_scores)"
   ]
  },
  {
   "cell_type": "code",
   "execution_count": 19,
   "metadata": {},
   "outputs": [],
   "source": [
    "if n % 2 == 0:\n",
    "    m0 = sorted_scores[n // 2 - 1]\n",
    "    m1 = sorted_scores[n // 2]\n",
    "    median = (m0 + m1) / 2\n",
    "else:\n",
    "    median = sorted_scores[(n + 1) // 2 - 1]"
   ]
  },
  {
   "cell_type": "code",
   "execution_count": 20,
   "metadata": {},
   "outputs": [
    {
     "data": {
      "text/plain": [
       "56.500"
      ]
     },
     "execution_count": 20,
     "metadata": {},
     "output_type": "execute_result"
    }
   ],
   "source": [
    "median"
   ]
  },
  {
   "cell_type": "code",
   "execution_count": 21,
   "metadata": {
    "ExecuteTime": {
     "end_time": "2018-08-14T06:43:30.201176Z",
     "start_time": "2018-08-14T06:43:30.197149Z"
    }
   },
   "outputs": [
    {
     "data": {
      "text/plain": [
       "56.500"
      ]
     },
     "execution_count": 21,
     "metadata": {},
     "output_type": "execute_result"
    }
   ],
   "source": [
    "np.median(scores)"
   ]
  },
  {
   "cell_type": "code",
   "execution_count": 22,
   "metadata": {
    "ExecuteTime": {
     "end_time": "2018-08-14T06:43:30.205400Z",
     "start_time": "2018-08-14T06:43:30.202130Z"
    }
   },
   "outputs": [
    {
     "data": {
      "text/plain": [
       "score    56.5\n",
       "dtype: float64"
      ]
     },
     "execution_count": 22,
     "metadata": {},
     "output_type": "execute_result"
    }
   ],
   "source": [
    "scores_df.median()"
   ]
  },
  {
   "cell_type": "markdown",
   "metadata": {},
   "source": [
    "### \n",
    "### 최빈값 : 데이터에서 가장 많이 나타나는 값\n",
    "### ```.mode()```"
   ]
  },
  {
   "cell_type": "code",
   "execution_count": 23,
   "metadata": {
    "ExecuteTime": {
     "end_time": "2018-08-14T06:43:30.210888Z",
     "start_time": "2018-08-14T06:43:30.206386Z"
    }
   },
   "outputs": [
    {
     "data": {
      "text/plain": [
       "0    1\n",
       "dtype: int64"
      ]
     },
     "execution_count": 23,
     "metadata": {},
     "output_type": "execute_result"
    }
   ],
   "source": [
    "pd.Series([1, 1, 1, 2, 2, 3]).mode()"
   ]
  },
  {
   "cell_type": "code",
   "execution_count": 24,
   "metadata": {
    "ExecuteTime": {
     "end_time": "2018-08-14T06:43:30.215653Z",
     "start_time": "2018-08-14T06:43:30.211883Z"
    }
   },
   "outputs": [
    {
     "data": {
      "text/plain": [
       "0    1\n",
       "1    2\n",
       "2    3\n",
       "3    4\n",
       "4    5\n",
       "dtype: int64"
      ]
     },
     "execution_count": 24,
     "metadata": {},
     "output_type": "execute_result"
    }
   ],
   "source": [
    "pd.Series([1, 2, 3, 4, 5]).mode()"
   ]
  },
  {
   "cell_type": "markdown",
   "metadata": {},
   "source": [
    "# \n",
    "## 데이터의 산포도 지표"
   ]
  },
  {
   "cell_type": "markdown",
   "metadata": {},
   "source": [
    "### 분산과 표준편차"
   ]
  },
  {
   "cell_type": "markdown",
   "metadata": {},
   "source": [
    "### 편차 : 각 데이터가 평균으로부터 어느 정도 떨어져 있는가를 나타내는 지표"
   ]
  },
  {
   "cell_type": "code",
   "execution_count": 25,
   "metadata": {
    "ExecuteTime": {
     "end_time": "2018-08-14T06:43:30.220233Z",
     "start_time": "2018-08-14T06:43:30.216601Z"
    }
   },
   "outputs": [
    {
     "data": {
      "text/plain": [
       "array([-13.,  14.,   1., -14.,   2.,  -7.,  10.,  -6.,  10.,   3.])"
      ]
     },
     "execution_count": 25,
     "metadata": {},
     "output_type": "execute_result"
    }
   ],
   "source": [
    "mean = np.mean(scores)\n",
    "deviation = scores - mean\n",
    "deviation"
   ]
  },
  {
   "cell_type": "code",
   "execution_count": 26,
   "metadata": {
    "ExecuteTime": {
     "end_time": "2018-08-14T06:43:30.225383Z",
     "start_time": "2018-08-14T06:43:30.221236Z"
    }
   },
   "outputs": [
    {
     "data": {
      "text/plain": [
       "array([-5.,  5.,  3., -1., -4.,  1.,  2., -2., -3.,  4.])"
      ]
     },
     "execution_count": 26,
     "metadata": {},
     "output_type": "execute_result"
    }
   ],
   "source": [
    "another_scores = [50, 60, 58, 54, 51, 56, 57, 53, 52, 59]\n",
    "another_mean = np.mean(another_scores)\n",
    "another_deviation = another_scores - another_mean\n",
    "another_deviation"
   ]
  },
  {
   "cell_type": "markdown",
   "metadata": {},
   "source": [
    "#### 편차의 평균은 항상 0"
   ]
  },
  {
   "cell_type": "code",
   "execution_count": 27,
   "metadata": {
    "ExecuteTime": {
     "end_time": "2018-08-14T06:43:30.229494Z",
     "start_time": "2018-08-14T06:43:30.226428Z"
    },
    "scrolled": true
   },
   "outputs": [
    {
     "data": {
      "text/plain": [
       "0.000"
      ]
     },
     "execution_count": 27,
     "metadata": {},
     "output_type": "execute_result"
    }
   ],
   "source": [
    "np.mean(deviation)"
   ]
  },
  {
   "cell_type": "code",
   "execution_count": 28,
   "metadata": {
    "ExecuteTime": {
     "end_time": "2018-08-14T06:43:30.233510Z",
     "start_time": "2018-08-14T06:43:30.230373Z"
    }
   },
   "outputs": [
    {
     "data": {
      "text/plain": [
       "0.000"
      ]
     },
     "execution_count": 28,
     "metadata": {},
     "output_type": "execute_result"
    }
   ],
   "source": [
    "np.mean(another_deviation)"
   ]
  },
  {
   "cell_type": "code",
   "execution_count": 31,
   "metadata": {
    "ExecuteTime": {
     "end_time": "2018-08-14T06:43:30.240507Z",
     "start_time": "2018-08-14T06:43:30.234389Z"
    }
   },
   "outputs": [
    {
     "data": {
      "text/plain": [
       "(         score  deviation\n",
       " student                  \n",
       " A           42      -13.0\n",
       " B           69       14.0\n",
       " C           56        1.0\n",
       " D           41      -14.0\n",
       " E           57        2.0\n",
       " F           48       -7.0\n",
       " G           65       10.0\n",
       " H           49       -6.0\n",
       " I           65       10.0\n",
       " J           58        3.0,\n",
       " score        55.0\n",
       " deviation     0.0\n",
       " dtype: float64)"
      ]
     },
     "execution_count": 31,
     "metadata": {},
     "output_type": "execute_result"
    }
   ],
   "source": [
    "summary_df = scores_df.copy()\n",
    "summary_df['deviation'] = deviation\n",
    "summary_df"
   ]
  },
  {
   "cell_type": "code",
   "execution_count": 30,
   "metadata": {
    "ExecuteTime": {
     "end_time": "2018-08-14T06:43:30.245333Z",
     "start_time": "2018-08-14T06:43:30.241861Z"
    }
   },
   "outputs": [
    {
     "data": {
      "text/plain": [
       "score        55.0\n",
       "deviation     0.0\n",
       "dtype: float64"
      ]
     },
     "execution_count": 30,
     "metadata": {},
     "output_type": "execute_result"
    }
   ],
   "source": [
    "summary_df.mean()"
   ]
  },
  {
   "cell_type": "markdown",
   "metadata": {},
   "source": [
    "### \n",
    "### 분산\n",
    "- 편차의 평균은 항상 0이 되므로, 산포도의 지표로 부적절\n",
    "- 편차의 제곱의 평균을 구한 **분산**을 사용\n",
    "\n",
    "\n",
    "### $s^2 = {1 \\over n} \\displaystyle\\sum_{i=1}^{n}{(x_i - \\bar{x})^2} = {1 \\over n} [{(x_1 - \\bar{x})^2} + {(x_2 - \\bar{x})^2} + ... {(x_n - \\bar{x})^2}] $\n",
    "\n",
    "\n",
    "### ```np.var()```\n",
    "### ```.var(ddof)``` \n",
    "- ```ddof``` : 0 => 표본분산 / 1 => 불편분산"
   ]
  },
  {
   "cell_type": "code",
   "execution_count": 36,
   "metadata": {
    "ExecuteTime": {
     "end_time": "2018-08-14T06:43:30.249659Z",
     "start_time": "2018-08-14T06:43:30.246233Z"
    }
   },
   "outputs": [
    {
     "data": {
      "text/plain": [
       "(86.000, 86.000)"
      ]
     },
     "execution_count": 36,
     "metadata": {},
     "output_type": "execute_result"
    }
   ],
   "source": [
    "np.mean(deviation ** 2), np.var(scores)"
   ]
  },
  {
   "cell_type": "code",
   "execution_count": 39,
   "metadata": {
    "ExecuteTime": {
     "end_time": "2018-08-14T06:43:30.258576Z",
     "start_time": "2018-08-14T06:43:30.254851Z"
    }
   },
   "outputs": [
    {
     "data": {
      "text/plain": [
       "score    86.0\n",
       "dtype: float64"
      ]
     },
     "execution_count": 39,
     "metadata": {},
     "output_type": "execute_result"
    }
   ],
   "source": [
    "scores_df.var(ddof = 0)"
   ]
  },
  {
   "cell_type": "markdown",
   "metadata": {},
   "source": [
    "- **summary_df에 편차 제곱 열 추가 => 편차 제곱 열의 평균 => 분산**"
   ]
  },
  {
   "cell_type": "code",
   "execution_count": 40,
   "metadata": {
    "ExecuteTime": {
     "end_time": "2018-08-14T06:43:30.266983Z",
     "start_time": "2018-08-14T06:43:30.259624Z"
    }
   },
   "outputs": [
    {
     "data": {
      "text/html": [
       "<div>\n",
       "<style scoped>\n",
       "    .dataframe tbody tr th:only-of-type {\n",
       "        vertical-align: middle;\n",
       "    }\n",
       "\n",
       "    .dataframe tbody tr th {\n",
       "        vertical-align: top;\n",
       "    }\n",
       "\n",
       "    .dataframe thead th {\n",
       "        text-align: right;\n",
       "    }\n",
       "</style>\n",
       "<table border=\"1\" class=\"dataframe\">\n",
       "  <thead>\n",
       "    <tr style=\"text-align: right;\">\n",
       "      <th></th>\n",
       "      <th>score</th>\n",
       "      <th>deviation</th>\n",
       "      <th>square of deviation</th>\n",
       "    </tr>\n",
       "    <tr>\n",
       "      <th>student</th>\n",
       "      <th></th>\n",
       "      <th></th>\n",
       "      <th></th>\n",
       "    </tr>\n",
       "  </thead>\n",
       "  <tbody>\n",
       "    <tr>\n",
       "      <th>A</th>\n",
       "      <td>42</td>\n",
       "      <td>-13.0</td>\n",
       "      <td>169.0</td>\n",
       "    </tr>\n",
       "    <tr>\n",
       "      <th>B</th>\n",
       "      <td>69</td>\n",
       "      <td>14.0</td>\n",
       "      <td>196.0</td>\n",
       "    </tr>\n",
       "    <tr>\n",
       "      <th>C</th>\n",
       "      <td>56</td>\n",
       "      <td>1.0</td>\n",
       "      <td>1.0</td>\n",
       "    </tr>\n",
       "    <tr>\n",
       "      <th>D</th>\n",
       "      <td>41</td>\n",
       "      <td>-14.0</td>\n",
       "      <td>196.0</td>\n",
       "    </tr>\n",
       "    <tr>\n",
       "      <th>E</th>\n",
       "      <td>57</td>\n",
       "      <td>2.0</td>\n",
       "      <td>4.0</td>\n",
       "    </tr>\n",
       "  </tbody>\n",
       "</table>\n",
       "</div>"
      ],
      "text/plain": [
       "         score  deviation  square of deviation\n",
       "student                                       \n",
       "A           42      -13.0                169.0\n",
       "B           69       14.0                196.0\n",
       "C           56        1.0                  1.0\n",
       "D           41      -14.0                196.0\n",
       "E           57        2.0                  4.0"
      ]
     },
     "execution_count": 40,
     "metadata": {},
     "output_type": "execute_result"
    }
   ],
   "source": [
    "summary_df['square of deviation'] = np.square(deviation)\n",
    "summary_df.head()"
   ]
  },
  {
   "cell_type": "code",
   "execution_count": 24,
   "metadata": {
    "ExecuteTime": {
     "end_time": "2018-08-14T06:43:30.271609Z",
     "start_time": "2018-08-14T06:43:30.267927Z"
    },
    "scrolled": true
   },
   "outputs": [
    {
     "data": {
      "text/plain": [
       "score                  55.0\n",
       "deviation               0.0\n",
       "square of deviation    86.0\n",
       "dtype: float64"
      ]
     },
     "execution_count": 24,
     "metadata": {},
     "output_type": "execute_result"
    }
   ],
   "source": [
    "summary_df.mean()"
   ]
  },
  {
   "cell_type": "markdown",
   "metadata": {},
   "source": [
    "#### \n",
    "#### 시각적 이해\n",
    "- 분산 : 면적의 평균\n",
    "- 편차 제곱은 한 변의 길이가 편차인 정사각형의 면적\n",
    "- 편차는 각 점수와 평균 간 차이 => 각 회색의 정사각형이 편차 제곱을 의미\n",
    "- **정사각형의 평균 : 중앙에 있는 색칠된 정사각형 => 분산**"
   ]
  },
  {
   "cell_type": "markdown",
   "metadata": {},
   "source": [
    "<img src=\"data:image/png;base64,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\" >"
   ]
  },
  {
   "cell_type": "markdown",
   "metadata": {},
   "source": [
    "#### \n",
    "### 표준편차 : 분산의 제곱근\n",
    "### ```np.std(data, ddof)```"
   ]
  },
  {
   "cell_type": "code",
   "execution_count": 41,
   "metadata": {
    "ExecuteTime": {
     "end_time": "2018-08-14T06:43:30.276008Z",
     "start_time": "2018-08-14T06:43:30.272493Z"
    }
   },
   "outputs": [
    {
     "data": {
      "text/plain": [
       "9.274"
      ]
     },
     "execution_count": 41,
     "metadata": {},
     "output_type": "execute_result"
    }
   ],
   "source": [
    "np.sqrt(np.var(scores, ddof = 0))"
   ]
  },
  {
   "cell_type": "code",
   "execution_count": 42,
   "metadata": {
    "ExecuteTime": {
     "end_time": "2018-08-14T06:43:30.280036Z",
     "start_time": "2018-08-14T06:43:30.277056Z"
    },
    "scrolled": true
   },
   "outputs": [
    {
     "data": {
      "text/plain": [
       "9.274"
      ]
     },
     "execution_count": 42,
     "metadata": {},
     "output_type": "execute_result"
    }
   ],
   "source": [
    "np.std(scores, ddof = 0)"
   ]
  },
  {
   "cell_type": "markdown",
   "metadata": {},
   "source": [
    "#### \n",
    "- 가장 진한 색의 영역 : 평균 $\\pm$ 표준편차 구간\n",
    "- 그 다음으로 진한 영역 : 평균 $\\pm$ 2 표준편차\n",
    "- 가장 옅은 영역 : 평균 $\\pm$ 3 표준편차"
   ]
  },
  {
   "cell_type": "markdown",
   "metadata": {},
   "source": [
    "<img src = \"data:image/png;base64,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\">"
   ]
  },
  {
   "cell_type": "markdown",
   "metadata": {},
   "source": [
    "### \n",
    "### 범위 : 데이터의 최댓값과 최솟값만으로 산포도를 표현\n",
    "### $R_g = x_{max} - x_{min}$"
   ]
  },
  {
   "cell_type": "code",
   "execution_count": 43,
   "metadata": {
    "ExecuteTime": {
     "end_time": "2018-08-14T06:43:30.284214Z",
     "start_time": "2018-08-14T06:43:30.280994Z"
    }
   },
   "outputs": [
    {
     "data": {
      "text/plain": [
       "28"
      ]
     },
     "execution_count": 43,
     "metadata": {},
     "output_type": "execute_result"
    }
   ],
   "source": [
    "np.max(scores) - np.min(scores)"
   ]
  },
  {
   "cell_type": "markdown",
   "metadata": {},
   "source": [
    "### 4분위수 범위\n",
    "- 데이터의 하위 25%, 50%, 75%에 위치하는 값 = 제 1사분위수, 제 2사분위수, 제 3사분위수 (Q1, Q2, Q3)\n",
    "\n",
    "### $IQR = Q3 - Q1$\n",
    "\n",
    "### ```np.percentile(data, q)``` : 데이터의 하위 q%에 위치하는 값"
   ]
  },
  {
   "cell_type": "code",
   "execution_count": 28,
   "metadata": {
    "ExecuteTime": {
     "end_time": "2018-08-14T06:43:30.289060Z",
     "start_time": "2018-08-14T06:43:30.285142Z"
    }
   },
   "outputs": [
    {
     "data": {
      "text/plain": [
       "15.0"
      ]
     },
     "execution_count": 28,
     "metadata": {},
     "output_type": "execute_result"
    }
   ],
   "source": [
    "scores_Q1 = np.percentile(scores, 25)\n",
    "scores_Q3 = np.percentile(scores, 75)\n",
    "scores_IQR = scores_Q3 - scores_Q1\n",
    "scores_IQR"
   ]
  },
  {
   "cell_type": "markdown",
   "metadata": {},
   "source": [
    "### \n",
    "### 데이터의 지표 정리\n",
    "\n",
    "### ```.describe()```"
   ]
  },
  {
   "cell_type": "code",
   "execution_count": 44,
   "metadata": {
    "ExecuteTime": {
     "end_time": "2018-08-14T06:43:30.296046Z",
     "start_time": "2018-08-14T06:43:30.290147Z"
    }
   },
   "outputs": [
    {
     "data": {
      "text/plain": [
       "count    10.000000\n",
       "mean     55.000000\n",
       "std       9.775252\n",
       "min      41.000000\n",
       "25%      48.250000\n",
       "50%      56.500000\n",
       "75%      63.250000\n",
       "max      69.000000\n",
       "dtype: float64"
      ]
     },
     "execution_count": 44,
     "metadata": {},
     "output_type": "execute_result"
    }
   ],
   "source": [
    "pd.Series(scores).describe()"
   ]
  },
  {
   "cell_type": "markdown",
   "metadata": {},
   "source": [
    "### \n",
    "## 데이터의 정규화\n",
    "- 지표는 평균이나 분산에 따라 평가가 달라짐\n",
    "- **평균이나 분산에 의존하지 않고도 데이터의 상대적 위치 관게를 알 수있는 지표 필요**"
   ]
  },
  {
   "cell_type": "markdown",
   "metadata": {},
   "source": [
    "### 표준화 : 데이터에서 평균을 빼고 표준편차로 나눔\n",
    "- 표준화된 데이터 : 표준화 변량 / Z 점수 (Z-score)\n",
    "### $z_i = {{x_i - \\bar{x}} \\over s}$"
   ]
  },
  {
   "cell_type": "code",
   "execution_count": 45,
   "metadata": {
    "ExecuteTime": {
     "end_time": "2018-08-14T06:43:30.299923Z",
     "start_time": "2018-08-14T06:43:30.297056Z"
    }
   },
   "outputs": [
    {
     "data": {
      "text/plain": [
       "array([-1.402,  1.51 ,  0.108, -1.51 ,  0.216, -0.755,  1.078, -0.647,\n",
       "        1.078,  0.323])"
      ]
     },
     "execution_count": 45,
     "metadata": {},
     "output_type": "execute_result"
    }
   ],
   "source": [
    "z = (scores - np.mean(scores)) / np.std(scores)\n",
    "z"
   ]
  },
  {
   "cell_type": "markdown",
   "metadata": {},
   "source": [
    "- **표준화된 데이터의 평균은 0, 표준편차는 1**"
   ]
  },
  {
   "cell_type": "code",
   "execution_count": 46,
   "metadata": {
    "ExecuteTime": {
     "end_time": "2018-08-14T06:43:30.304016Z",
     "start_time": "2018-08-14T06:43:30.300786Z"
    }
   },
   "outputs": [
    {
     "data": {
      "text/plain": [
       "(-0.000, 1.000)"
      ]
     },
     "execution_count": 46,
     "metadata": {},
     "output_type": "execute_result"
    }
   ],
   "source": [
    "np.mean(z), np.std(z, ddof = 0)"
   ]
  },
  {
   "cell_type": "markdown",
   "metadata": {},
   "source": [
    "### \n",
    "### 편차값 : 평균이 50, 표준편차가 10이 되도록 정규화\n",
    "### $z_i = 50 + 10  \\times {{x_i - \\bar{x}} \\over s} $"
   ]
  },
  {
   "cell_type": "code",
   "execution_count": 47,
   "metadata": {
    "ExecuteTime": {
     "end_time": "2018-08-14T06:43:30.307237Z",
     "start_time": "2018-08-14T06:43:30.304893Z"
    }
   },
   "outputs": [
    {
     "data": {
      "text/plain": [
       "array([35.982, 65.097, 51.078, 34.903, 52.157, 42.452, 60.783, 43.53 ,\n",
       "       60.783, 53.235])"
      ]
     },
     "execution_count": 47,
     "metadata": {},
     "output_type": "execute_result"
    }
   ],
   "source": [
    "z = 50 + 10 * (scores - np.mean(scores)) / np.std(scores)\n",
    "z"
   ]
  },
  {
   "cell_type": "code",
   "execution_count": 48,
   "metadata": {
    "ExecuteTime": {
     "end_time": "2018-08-14T06:43:30.315638Z",
     "start_time": "2018-08-14T06:43:30.308810Z"
    }
   },
   "outputs": [
    {
     "data": {
      "text/html": [
       "<div>\n",
       "<style scoped>\n",
       "    .dataframe tbody tr th:only-of-type {\n",
       "        vertical-align: middle;\n",
       "    }\n",
       "\n",
       "    .dataframe tbody tr th {\n",
       "        vertical-align: top;\n",
       "    }\n",
       "\n",
       "    .dataframe thead th {\n",
       "        text-align: right;\n",
       "    }\n",
       "</style>\n",
       "<table border=\"1\" class=\"dataframe\">\n",
       "  <thead>\n",
       "    <tr style=\"text-align: right;\">\n",
       "      <th></th>\n",
       "      <th>score</th>\n",
       "      <th>deviation value</th>\n",
       "    </tr>\n",
       "    <tr>\n",
       "      <th>student</th>\n",
       "      <th></th>\n",
       "      <th></th>\n",
       "    </tr>\n",
       "  </thead>\n",
       "  <tbody>\n",
       "    <tr>\n",
       "      <th>A</th>\n",
       "      <td>42</td>\n",
       "      <td>35.981739</td>\n",
       "    </tr>\n",
       "    <tr>\n",
       "      <th>B</th>\n",
       "      <td>69</td>\n",
       "      <td>65.096588</td>\n",
       "    </tr>\n",
       "    <tr>\n",
       "      <th>C</th>\n",
       "      <td>56</td>\n",
       "      <td>51.078328</td>\n",
       "    </tr>\n",
       "    <tr>\n",
       "      <th>D</th>\n",
       "      <td>41</td>\n",
       "      <td>34.903412</td>\n",
       "    </tr>\n",
       "    <tr>\n",
       "      <th>E</th>\n",
       "      <td>57</td>\n",
       "      <td>52.156655</td>\n",
       "    </tr>\n",
       "    <tr>\n",
       "      <th>F</th>\n",
       "      <td>48</td>\n",
       "      <td>42.451706</td>\n",
       "    </tr>\n",
       "    <tr>\n",
       "      <th>G</th>\n",
       "      <td>65</td>\n",
       "      <td>60.783277</td>\n",
       "    </tr>\n",
       "    <tr>\n",
       "      <th>H</th>\n",
       "      <td>49</td>\n",
       "      <td>43.530034</td>\n",
       "    </tr>\n",
       "    <tr>\n",
       "      <th>I</th>\n",
       "      <td>65</td>\n",
       "      <td>60.783277</td>\n",
       "    </tr>\n",
       "    <tr>\n",
       "      <th>J</th>\n",
       "      <td>58</td>\n",
       "      <td>53.234983</td>\n",
       "    </tr>\n",
       "  </tbody>\n",
       "</table>\n",
       "</div>"
      ],
      "text/plain": [
       "         score  deviation value\n",
       "student                        \n",
       "A           42        35.981739\n",
       "B           69        65.096588\n",
       "C           56        51.078328\n",
       "D           41        34.903412\n",
       "E           57        52.156655\n",
       "F           48        42.451706\n",
       "G           65        60.783277\n",
       "H           49        43.530034\n",
       "I           65        60.783277\n",
       "J           58        53.234983"
      ]
     },
     "execution_count": 48,
     "metadata": {},
     "output_type": "execute_result"
    }
   ],
   "source": [
    "scores_df['deviation value'] = z\n",
    "scores_df"
   ]
  },
  {
   "cell_type": "markdown",
   "metadata": {},
   "source": [
    "### \n",
    "## 데이터의 시각화"
   ]
  },
  {
   "cell_type": "code",
   "execution_count": 52,
   "metadata": {
    "ExecuteTime": {
     "end_time": "2018-08-14T06:43:30.323447Z",
     "start_time": "2018-08-14T06:43:30.317159Z"
    }
   },
   "outputs": [
    {
     "data": {
      "text/plain": [
       "array([42, 69, 56, 41, 57, 48, 65, 49, 65, 58, 70, 47, 51, 64, 62, 70, 71,\n",
       "       68, 73, 37, 65, 65, 61, 52, 57, 57, 75, 61, 47, 54, 66, 54, 54, 42,\n",
       "       37, 79, 56, 62, 62, 55, 63, 57, 57, 67, 55, 45, 66, 55, 64, 66],\n",
       "      dtype=int64)"
      ]
     },
     "execution_count": 52,
     "metadata": {},
     "output_type": "execute_result"
    }
   ],
   "source": [
    "english_scores = np.array(df['english'])\n",
    "english_scores"
   ]
  },
  {
   "cell_type": "code",
   "execution_count": 53,
   "metadata": {},
   "outputs": [
    {
     "data": {
      "text/plain": [
       "count    50.000000\n",
       "mean     58.380000\n",
       "std       9.799813\n",
       "min      37.000000\n",
       "25%      54.000000\n",
       "50%      57.500000\n",
       "75%      65.000000\n",
       "max      79.000000\n",
       "dtype: float64"
      ]
     },
     "execution_count": 53,
     "metadata": {},
     "output_type": "execute_result"
    }
   ],
   "source": [
    "pd.Series(english_scores).describe()"
   ]
  },
  {
   "cell_type": "markdown",
   "metadata": {},
   "source": [
    "### \n",
    "### 도수분포표 : 데이터를 몇 개의 구간으로 나누고, 각 구간에 몇 개의 데이터가 들어가는가를 계산\n",
    "- **계급**: 구간 \n",
    "- **도수** : 각 계급에 속한 데이터 수 \n",
    "\n",
    "\n",
    "### ```np.histogram(data, bins, range)```"
   ]
  },
  {
   "cell_type": "markdown",
   "metadata": {},
   "source": [
    "- 0부터 100까지를 10개의 계급으로 분리"
   ]
  },
  {
   "cell_type": "code",
   "execution_count": 58,
   "metadata": {
    "ExecuteTime": {
     "end_time": "2018-08-14T06:43:30.327596Z",
     "start_time": "2018-08-14T06:43:30.324484Z"
    }
   },
   "outputs": [
    {
     "data": {
      "text/plain": [
       "array([ 0,  0,  0,  2,  8, 16, 18,  6,  0,  0], dtype=int64)"
      ]
     },
     "execution_count": 58,
     "metadata": {},
     "output_type": "execute_result"
    }
   ],
   "source": [
    "freq, _ = np.histogram(english_scores, bins = 10, range = (0, 100))\n",
    "freq # 도수"
   ]
  },
  {
   "cell_type": "code",
   "execution_count": 61,
   "metadata": {
    "ExecuteTime": {
     "end_time": "2018-08-14T06:43:30.335597Z",
     "start_time": "2018-08-14T06:43:30.329049Z"
    }
   },
   "outputs": [
    {
     "data": {
      "text/plain": [
       "['0 ~ 10',\n",
       " '10 ~ 20',\n",
       " '20 ~ 30',\n",
       " '30 ~ 40',\n",
       " '40 ~ 50',\n",
       " '50 ~ 60',\n",
       " '60 ~ 70',\n",
       " '70 ~ 80',\n",
       " '80 ~ 90',\n",
       " '90 ~ 100']"
      ]
     },
     "execution_count": 61,
     "metadata": {},
     "output_type": "execute_result"
    }
   ],
   "source": [
    "freq_class = [f'{i} ~ {i+10}' for i in range(0, 100, 10)]\n",
    "freq_class"
   ]
  },
  {
   "cell_type": "code",
   "execution_count": 60,
   "metadata": {},
   "outputs": [
    {
     "data": {
      "text/html": [
       "<div>\n",
       "<style scoped>\n",
       "    .dataframe tbody tr th:only-of-type {\n",
       "        vertical-align: middle;\n",
       "    }\n",
       "\n",
       "    .dataframe tbody tr th {\n",
       "        vertical-align: top;\n",
       "    }\n",
       "\n",
       "    .dataframe thead th {\n",
       "        text-align: right;\n",
       "    }\n",
       "</style>\n",
       "<table border=\"1\" class=\"dataframe\">\n",
       "  <thead>\n",
       "    <tr style=\"text-align: right;\">\n",
       "      <th></th>\n",
       "      <th>frequency</th>\n",
       "    </tr>\n",
       "    <tr>\n",
       "      <th>class</th>\n",
       "      <th></th>\n",
       "    </tr>\n",
       "  </thead>\n",
       "  <tbody>\n",
       "    <tr>\n",
       "      <th>0 ~ 10</th>\n",
       "      <td>0</td>\n",
       "    </tr>\n",
       "    <tr>\n",
       "      <th>10 ~ 20</th>\n",
       "      <td>0</td>\n",
       "    </tr>\n",
       "    <tr>\n",
       "      <th>20 ~ 30</th>\n",
       "      <td>0</td>\n",
       "    </tr>\n",
       "    <tr>\n",
       "      <th>30 ~ 40</th>\n",
       "      <td>2</td>\n",
       "    </tr>\n",
       "    <tr>\n",
       "      <th>40 ~ 50</th>\n",
       "      <td>8</td>\n",
       "    </tr>\n",
       "    <tr>\n",
       "      <th>50 ~ 60</th>\n",
       "      <td>16</td>\n",
       "    </tr>\n",
       "    <tr>\n",
       "      <th>60 ~ 70</th>\n",
       "      <td>18</td>\n",
       "    </tr>\n",
       "    <tr>\n",
       "      <th>70 ~ 80</th>\n",
       "      <td>6</td>\n",
       "    </tr>\n",
       "    <tr>\n",
       "      <th>80 ~ 90</th>\n",
       "      <td>0</td>\n",
       "    </tr>\n",
       "    <tr>\n",
       "      <th>90 ~ 100</th>\n",
       "      <td>0</td>\n",
       "    </tr>\n",
       "  </tbody>\n",
       "</table>\n",
       "</div>"
      ],
      "text/plain": [
       "          frequency\n",
       "class              \n",
       "0 ~ 10            0\n",
       "10 ~ 20           0\n",
       "20 ~ 30           0\n",
       "30 ~ 40           2\n",
       "40 ~ 50           8\n",
       "50 ~ 60          16\n",
       "60 ~ 70          18\n",
       "70 ~ 80           6\n",
       "80 ~ 90           0\n",
       "90 ~ 100          0"
      ]
     },
     "execution_count": 60,
     "metadata": {},
     "output_type": "execute_result"
    }
   ],
   "source": [
    "freq_dist_df = pd.DataFrame({'frequency' : freq},\n",
    "                            index = pd.Index(freq_class,\n",
    "                                             name = 'class'))\n",
    "freq_dist_df"
   ]
  },
  {
   "cell_type": "markdown",
   "metadata": {},
   "source": [
    "### \n",
    "#### 게급값 : 각 계급을 대표하는 값 (계급별 중앙값)"
   ]
  },
  {
   "cell_type": "code",
   "execution_count": 62,
   "metadata": {
    "ExecuteTime": {
     "end_time": "2018-08-14T06:43:30.339751Z",
     "start_time": "2018-08-14T06:43:30.336611Z"
    },
    "scrolled": true
   },
   "outputs": [
    {
     "data": {
      "text/plain": [
       "[5, 15, 25, 35, 45, 55, 65, 75, 85, 95]"
      ]
     },
     "execution_count": 62,
     "metadata": {},
     "output_type": "execute_result"
    }
   ],
   "source": [
    "class_value = [(i + (i + 10)) // 2 for i in range(0, 100, 10)]\n",
    "class_value"
   ]
  },
  {
   "cell_type": "markdown",
   "metadata": {},
   "source": [
    "### \n",
    "#### 상대도수 : 전체 데이터에 대해서 해당 계급의 데이터가 어느 정도의 비율을 차지하고 있는지를 나타냄"
   ]
  },
  {
   "cell_type": "code",
   "execution_count": 63,
   "metadata": {
    "ExecuteTime": {
     "end_time": "2018-08-14T06:43:30.343938Z",
     "start_time": "2018-08-14T06:43:30.340628Z"
    }
   },
   "outputs": [
    {
     "data": {
      "text/plain": [
       "array([0.  , 0.  , 0.  , 0.04, 0.16, 0.32, 0.36, 0.12, 0.  , 0.  ])"
      ]
     },
     "execution_count": 63,
     "metadata": {},
     "output_type": "execute_result"
    }
   ],
   "source": [
    "rel_freq = freq / freq.sum()\n",
    "rel_freq"
   ]
  },
  {
   "cell_type": "markdown",
   "metadata": {},
   "source": [
    "#### \n",
    "#### 누적상대도수 : 해당 계급까지의 상대도수의 합\n",
    "### ```np.cumsum()``` : 누적합 계산"
   ]
  },
  {
   "cell_type": "code",
   "execution_count": 64,
   "metadata": {
    "ExecuteTime": {
     "end_time": "2018-08-14T06:43:30.349136Z",
     "start_time": "2018-08-14T06:43:30.344853Z"
    }
   },
   "outputs": [
    {
     "data": {
      "text/plain": [
       "array([0.  , 0.  , 0.  , 0.04, 0.2 , 0.52, 0.88, 1.  , 1.  , 1.  ])"
      ]
     },
     "execution_count": 64,
     "metadata": {},
     "output_type": "execute_result"
    }
   ],
   "source": [
    "cum_rel_freq = np.cumsum(rel_freq)\n",
    "cum_rel_freq"
   ]
  },
  {
   "cell_type": "markdown",
   "metadata": {},
   "source": [
    "### \n",
    "- 계급값, 상대도수, 누적상대도수를 도수분포표에 추가"
   ]
  },
  {
   "cell_type": "code",
   "execution_count": 65,
   "metadata": {
    "ExecuteTime": {
     "end_time": "2018-08-14T06:43:30.358509Z",
     "start_time": "2018-08-14T06:43:30.350057Z"
    }
   },
   "outputs": [
    {
     "data": {
      "text/html": [
       "<div>\n",
       "<style scoped>\n",
       "    .dataframe tbody tr th:only-of-type {\n",
       "        vertical-align: middle;\n",
       "    }\n",
       "\n",
       "    .dataframe tbody tr th {\n",
       "        vertical-align: top;\n",
       "    }\n",
       "\n",
       "    .dataframe thead th {\n",
       "        text-align: right;\n",
       "    }\n",
       "</style>\n",
       "<table border=\"1\" class=\"dataframe\">\n",
       "  <thead>\n",
       "    <tr style=\"text-align: right;\">\n",
       "      <th></th>\n",
       "      <th>class value</th>\n",
       "      <th>frequency</th>\n",
       "      <th>relative frequency</th>\n",
       "      <th>cumulative relative frequency</th>\n",
       "    </tr>\n",
       "    <tr>\n",
       "      <th>class</th>\n",
       "      <th></th>\n",
       "      <th></th>\n",
       "      <th></th>\n",
       "      <th></th>\n",
       "    </tr>\n",
       "  </thead>\n",
       "  <tbody>\n",
       "    <tr>\n",
       "      <th>0 ~ 10</th>\n",
       "      <td>5</td>\n",
       "      <td>0</td>\n",
       "      <td>0.00</td>\n",
       "      <td>0.00</td>\n",
       "    </tr>\n",
       "    <tr>\n",
       "      <th>10 ~ 20</th>\n",
       "      <td>15</td>\n",
       "      <td>0</td>\n",
       "      <td>0.00</td>\n",
       "      <td>0.00</td>\n",
       "    </tr>\n",
       "    <tr>\n",
       "      <th>20 ~ 30</th>\n",
       "      <td>25</td>\n",
       "      <td>0</td>\n",
       "      <td>0.00</td>\n",
       "      <td>0.00</td>\n",
       "    </tr>\n",
       "    <tr>\n",
       "      <th>30 ~ 40</th>\n",
       "      <td>35</td>\n",
       "      <td>2</td>\n",
       "      <td>0.04</td>\n",
       "      <td>0.04</td>\n",
       "    </tr>\n",
       "    <tr>\n",
       "      <th>40 ~ 50</th>\n",
       "      <td>45</td>\n",
       "      <td>8</td>\n",
       "      <td>0.16</td>\n",
       "      <td>0.20</td>\n",
       "    </tr>\n",
       "    <tr>\n",
       "      <th>50 ~ 60</th>\n",
       "      <td>55</td>\n",
       "      <td>16</td>\n",
       "      <td>0.32</td>\n",
       "      <td>0.52</td>\n",
       "    </tr>\n",
       "    <tr>\n",
       "      <th>60 ~ 70</th>\n",
       "      <td>65</td>\n",
       "      <td>18</td>\n",
       "      <td>0.36</td>\n",
       "      <td>0.88</td>\n",
       "    </tr>\n",
       "    <tr>\n",
       "      <th>70 ~ 80</th>\n",
       "      <td>75</td>\n",
       "      <td>6</td>\n",
       "      <td>0.12</td>\n",
       "      <td>1.00</td>\n",
       "    </tr>\n",
       "    <tr>\n",
       "      <th>80 ~ 90</th>\n",
       "      <td>85</td>\n",
       "      <td>0</td>\n",
       "      <td>0.00</td>\n",
       "      <td>1.00</td>\n",
       "    </tr>\n",
       "    <tr>\n",
       "      <th>90 ~ 100</th>\n",
       "      <td>95</td>\n",
       "      <td>0</td>\n",
       "      <td>0.00</td>\n",
       "      <td>1.00</td>\n",
       "    </tr>\n",
       "  </tbody>\n",
       "</table>\n",
       "</div>"
      ],
      "text/plain": [
       "          class value  frequency  relative frequency  \\\n",
       "class                                                  \n",
       "0 ~ 10              5          0                0.00   \n",
       "10 ~ 20            15          0                0.00   \n",
       "20 ~ 30            25          0                0.00   \n",
       "30 ~ 40            35          2                0.04   \n",
       "40 ~ 50            45          8                0.16   \n",
       "50 ~ 60            55         16                0.32   \n",
       "60 ~ 70            65         18                0.36   \n",
       "70 ~ 80            75          6                0.12   \n",
       "80 ~ 90            85          0                0.00   \n",
       "90 ~ 100           95          0                0.00   \n",
       "\n",
       "          cumulative relative frequency  \n",
       "class                                    \n",
       "0 ~ 10                             0.00  \n",
       "10 ~ 20                            0.00  \n",
       "20 ~ 30                            0.00  \n",
       "30 ~ 40                            0.04  \n",
       "40 ~ 50                            0.20  \n",
       "50 ~ 60                            0.52  \n",
       "60 ~ 70                            0.88  \n",
       "70 ~ 80                            1.00  \n",
       "80 ~ 90                            1.00  \n",
       "90 ~ 100                           1.00  "
      ]
     },
     "execution_count": 65,
     "metadata": {},
     "output_type": "execute_result"
    }
   ],
   "source": [
    "freq_dist_df['class value'] = class_value\n",
    "freq_dist_df['relative frequency'] = rel_freq\n",
    "freq_dist_df['cumulative relative frequency'] = cum_rel_freq\n",
    "freq_dist_df = freq_dist_df[['class value', 'frequency',\n",
    "                             'relative frequency', 'cumulative relative frequency']]\n",
    "\n",
    "freq_dist_df"
   ]
  },
  {
   "cell_type": "markdown",
   "metadata": {},
   "source": [
    "#### 최빈값 재검토"
   ]
  },
  {
   "cell_type": "code",
   "execution_count": 66,
   "metadata": {
    "ExecuteTime": {
     "end_time": "2018-08-14T06:43:30.362749Z",
     "start_time": "2018-08-14T06:43:30.359494Z"
    }
   },
   "outputs": [
    {
     "data": {
      "text/plain": [
       "65"
      ]
     },
     "execution_count": 66,
     "metadata": {},
     "output_type": "execute_result"
    }
   ],
   "source": [
    "freq_dist_df.loc[freq_dist_df['frequency'].idxmax(), 'class value']"
   ]
  },
  {
   "cell_type": "markdown",
   "metadata": {},
   "source": [
    "### \n",
    "### 히스토그램\n",
    "### ```ax.hist(data, bins, range, weights)``` : 히스토그램 생성\n",
    "- ```weights``` : 상대도수 히스토그램 작성시, 가중치를 적용\n",
    "\n",
    "\n",
    "### ```np.linspace(start, stop, num)``` : start 부터 stop 까지 num개의 구간점을 생성 (균등 구간)"
   ]
  },
  {
   "cell_type": "code",
   "execution_count": 67,
   "metadata": {
    "ExecuteTime": {
     "end_time": "2018-08-14T06:43:30.433997Z",
     "start_time": "2018-08-14T06:43:30.363672Z"
    }
   },
   "outputs": [],
   "source": [
    "import matplotlib.pyplot as plt\n",
    "%matplotlib inline"
   ]
  },
  {
   "cell_type": "markdown",
   "metadata": {},
   "source": [
    "1. 캔버스를 생성, figsize로 가로・세로 크기를 지정\n",
    "2. 켄버스 위에 그래프를 그리기 위한 영역을 지정\n",
    "3. 인수는 영역을 1×1개 지정、하나의 영역에 그린다는 것을 의미\n",
    "4. 계급수를 10으로 하여 히스토그램을 그림\n",
    "5. X축과 Y축에 레이블 부여\n",
    "6. X축과 Y축의 눈금 구분\n",
    "7. 그래프 표시"
   ]
  },
  {
   "cell_type": "markdown",
   "metadata": {},
   "source": [
    "#### 계급폭이 10인 히스토그램"
   ]
  },
  {
   "cell_type": "code",
   "execution_count": 72,
   "metadata": {
    "ExecuteTime": {
     "end_time": "2018-08-14T06:43:30.545265Z",
     "start_time": "2018-08-14T06:43:30.435106Z"
    }
   },
   "outputs": [
    {
     "data": {
      "image/png": "[encoded data removed]",
      "text/plain": [
       "<Figure size 720x432 with 1 Axes>"
      ]
     },
     "metadata": {
      "needs_background": "light"
     },
     "output_type": "display_data"
    }
   ],
   "source": [
    "fig = plt.figure(figsize = (10, 6))\n",
    "\n",
    "ax = fig.add_subplot(111)\n",
    "\n",
    "freq, _, _ = ax.hist(english_scores, bins = 10, range = (0, 100))\n",
    "\n",
    "ax.set_xlabel('score')\n",
    "ax.set_ylabel('person number')\n",
    "\n",
    "ax.set_xticks(np.linspace(0, 100, 10 + 1))\n",
    "ax.set_yticks(np.arange(0, freq.max() + 1))\n",
    "\n",
    "plt.show()"
   ]
  },
  {
   "cell_type": "markdown",
   "metadata": {},
   "source": [
    "#### 계급폭이 4인 히스토그램"
   ]
  },
  {
   "cell_type": "code",
   "execution_count": 78,
   "metadata": {
    "ExecuteTime": {
     "end_time": "2018-08-14T06:43:30.697705Z",
     "start_time": "2018-08-14T06:43:30.546461Z"
    }
   },
   "outputs": [
    {
     "data": {
      "image/png": "[encoded data removed]",
      "text/plain": [
       "<Figure size 720x432 with 1 Axes>"
      ]
     },
     "metadata": {
      "needs_background": "light"
     },
     "output_type": "display_data"
    }
   ],
   "source": [
    "fig = plt.figure(figsize = (10, 6))\n",
    "ax = fig.add_subplot(111)\n",
    "\n",
    "freq, _ , _ = ax.hist(english_scores, bins = 25, range=(0, 100))\n",
    "ax.set_xlabel('score')\n",
    "ax.set_ylabel('person number')\n",
    "\n",
    "ax.set_xticks(np.linspace(0, 100, 25 + 1))\n",
    "ax.set_yticks(np.arange(0, freq.max() + 1))\n",
    "\n",
    "plt.show()"
   ]
  },
  {
   "cell_type": "markdown",
   "metadata": {},
   "source": [
    "#### 상대도수의 히스토그램 + 누적상대도수 꺾은선 그래프"
   ]
  },
  {
   "cell_type": "code",
   "execution_count": 79,
   "metadata": {
    "ExecuteTime": {
     "end_time": "2018-08-14T06:44:31.768785Z",
     "start_time": "2018-08-14T06:44:31.512798Z"
    }
   },
   "outputs": [
    {
     "data": {
      "image/png": "[encoded data removed]",
      "text/plain": [
       "<Figure size 720x432 with 2 Axes>"
      ]
     },
     "metadata": {
      "needs_background": "light"
     },
     "output_type": "display_data"
    }
   ],
   "source": [
    "fig = plt.figure(figsize = (10, 6))\n",
    "ax1 = fig.add_subplot(111)\n",
    "\n",
    "ax2 = ax1.twinx() # Y축의 스케일이 다른 그래프를 ax1과 동일한 영역에 생성\n",
    "\n",
    "weights = np.ones_like(english_scores) / len(english_scores)\n",
    "rel_freq, _, _ = ax1.hist(english_scores, bins = 25,\n",
    "                          range = (0, 100), weights = weights)\n",
    "\n",
    "cum_rel_freq = np.cumsum(rel_freq)\n",
    "class_value = [(i + (i + 4)) // 2 for i in range(0, 100, 4)]\n",
    "\n",
    "# 꺾은선 그래프를 생성\n",
    "ax2.plot(class_value, cum_rel_freq,\n",
    "         ls = '--', marker = 'o', color = 'gray')\n",
    "\n",
    "ax2.grid(visible = False) # 꺾은선 그래프의 눈금선을 제거\n",
    "\n",
    "ax1.set_xlabel('score')\n",
    "ax1.set_ylabel('relative frequency')\n",
    "ax2.set_ylabel('cumulative relative frequency')\n",
    "\n",
    "ax1.set_xticks(np.linspace(0, 100, 25 + 1))\n",
    "\n",
    "plt.show()"
   ]
  },
  {
   "cell_type": "markdown",
   "metadata": {},
   "source": [
    "### 상자 그림\n",
    "### ```ax.boxplot()```"
   ]
  },
  {
   "cell_type": "code",
   "execution_count": 46,
   "metadata": {
    "ExecuteTime": {
     "end_time": "2018-08-14T06:43:30.920657Z",
     "start_time": "2018-08-14T06:43:30.869261Z"
    },
    "scrolled": false
   },
   "outputs": [
    {
     "data": {
      "image/png": "[encoded data removed]",
      "text/plain": [
       "<Figure size 360x432 with 1 Axes>"
      ]
     },
     "metadata": {
      "needs_background": "light"
     },
     "output_type": "display_data"
    }
   ],
   "source": [
    "fig = plt.figure(figsize = (5, 6))\n",
    "ax = fig.add_subplot(111)\n",
    "ax.boxplot(english_scores, labels = ['english'])\n",
    "\n",
    "plt.show()"
   ]
  }
 ],
 "metadata": {
  "kernelspec": {
   "display_name": "Python 3 (ipykernel)",
   "language": "python",
   "name": "python3"
  },
  "language_info": {
   "codemirror_mode": {
    "name": "ipython",
    "version": 3
   },
   "file_extension": ".py",
   "mimetype": "text/x-python",
   "name": "python",
   "nbconvert_exporter": "python",
   "pygments_lexer": "ipython3",
   "version": "3.9.7"
  },
  "toc": {
   "nav_menu": {},
   "number_sections": true,
   "sideBar": true,
   "skip_h1_title": false,
   "toc_cell": false,
   "toc_position": {},
   "toc_section_display": "block",
   "toc_window_display": false
  },
  "varInspector": {
   "cols": {
    "lenName": 16,
    "lenType": 16,
    "lenVar": 40
   },
   "kernels_config": {
    "python": {
     "delete_cmd_postfix": "",
     "delete_cmd_prefix": "del ",
     "library": "var_list.py",
     "varRefreshCmd": "print(var_dic_list())"
    },
    "r": {
     "delete_cmd_postfix": ") ",
     "delete_cmd_prefix": "rm(",
     "library": "var_list.r",
     "varRefreshCmd": "cat(var_dic_list()) "
    }
   },
   "types_to_exclude": [
    "module",
    "function",
    "builtin_function_or_method",
    "instance",
    "_Feature"
   ],
   "window_display": false
  }
 },
 "nbformat": 4,
 "nbformat_minor": 2
}
