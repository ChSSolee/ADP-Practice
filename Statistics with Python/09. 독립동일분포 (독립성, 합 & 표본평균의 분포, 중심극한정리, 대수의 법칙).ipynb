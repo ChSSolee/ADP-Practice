{
 "cells": [
  {
   "cell_type": "markdown",
   "metadata": {},
   "source": [
    "## 독립동일분포\n",
    "\n",
    "#### 서로 독립이고 각각 동일한 확률분포를 따르는 다차원 확률변수\n",
    "#### 예 )\n",
    "1. 400명의 평균 점수를 알기 위하여 20명에게 설문\n",
    "2. 각각의 인원들은, 그 전에 만났던 인원과 전혀 관계 없이 만난 인원 (랜덤)\n",
    "3. 20명의 점수 ($X_1, X_2, ..., X_20)$은 서로 독립인 20차원의 확률변수"
   ]
  },
  {
   "cell_type": "code",
   "execution_count": 13,
   "metadata": {
    "ExecuteTime": {
     "end_time": "2018-08-14T09:40:53.279569Z",
     "start_time": "2018-08-14T09:40:52.994790Z"
    }
   },
   "outputs": [],
   "source": [
    "import numpy as np\n",
    "import matplotlib.pyplot as plt\n",
    "from scipy import stats\n",
    "\n",
    "np.random.seed(0)\n",
    "%precision 3\n",
    "%matplotlib inline"
   ]
  },
  {
   "cell_type": "markdown",
   "metadata": {},
   "source": [
    "#### 그래프의 선의 종류"
   ]
  },
  {
   "cell_type": "code",
   "execution_count": 14,
   "metadata": {},
   "outputs": [],
   "source": [
    "linestyles = ['-', '--', ':']"
   ]
  },
  {
   "cell_type": "markdown",
   "metadata": {},
   "source": [
    "#### 2차원 이산형 확률분포의 기댓값과 공분산에 대한 함수"
   ]
  },
  {
   "cell_type": "code",
   "execution_count": 15,
   "metadata": {
    "ExecuteTime": {
     "end_time": "2018-08-11T14:40:49.605993Z",
     "start_time": "2018-08-11T14:40:49.565532Z"
    }
   },
   "outputs": [],
   "source": [
    "def E(XY, g):\n",
    "    x_set, y_set, f_XY = XY\n",
    "    return np.sum([g(x_i, y_j) * f_XY(x_i, y_j)\n",
    "                   for x_i in x_set for y_j in y_set])"
   ]
  },
  {
   "cell_type": "code",
   "execution_count": 16,
   "metadata": {},
   "outputs": [],
   "source": [
    "def Cov(XY):\n",
    "    x_set, y_set, f_XY = XY\n",
    "    mean_X = E(XY, lambda x, y: x)\n",
    "    mean_Y = E(XY, lambda x, y: y)\n",
    "    return np.sum([(x_i - mean_X) * (y_j - mean_Y) * f_XY(x_i, y_j)\n",
    "                    for x_i in x_set for y_j in y_set])"
   ]
  },
  {
   "cell_type": "markdown",
   "metadata": {},
   "source": [
    "#### X와 Y의 주변확률함수"
   ]
  },
  {
   "cell_type": "code",
   "execution_count": 17,
   "metadata": {
    "ExecuteTime": {
     "end_time": "2018-08-14T09:40:53.292755Z",
     "start_time": "2018-08-14T09:40:53.280711Z"
    }
   },
   "outputs": [],
   "source": [
    "def f_X(x):\n",
    "    return np.sum([f_XY(x, y_k) for y_k in y_set])\n",
    "\n",
    "def f_Y(y):\n",
    "    return np.sum([f_XY(x_k, y) for x_k in x_set])"
   ]
  },
  {
   "cell_type": "markdown",
   "metadata": {},
   "source": [
    "### \n",
    "## 독립성 \n",
    "- **2개 이상의 확률변수가 서로 영향을 끼치지 않으며, 관계가 없음**\n",
    "- **확률변수가 독립일 때 결합확률은 주변확률의 곲으로 작성**"
   ]
  },
  {
   "cell_type": "markdown",
   "metadata": {},
   "source": [
    "### 독립성의 정의 : n개의 확률변수가 $X_1, X_2, ..., X_n$이 다음을 만족할 때, $X_1, X_2, ..., X_n$은 서로 독립\n",
    "\n",
    "### $f_{X_1, X_2, ..., X_n} (x_1, x_2, ..., x_n) = f_{X_1}(x_2) \\; f_{X_2}(x_2)...\\; f_{X_n}(x_n)$"
   ]
  },
  {
   "cell_type": "markdown",
   "metadata": {},
   "source": [
    "### \n",
    "### 독립성과 무상관성\n",
    "- 독립성이 무상관성보다 더 큰 개념\n",
    "- **2개의 확률변수 X와 Y가 독립일 때, X와 Y는 무상관이 되지만, X와 Y가 무상관일 때 X와 Y가 반드시 독립인 것은 아님**"
   ]
  },
  {
   "cell_type": "code",
   "execution_count": 19,
   "metadata": {},
   "outputs": [],
   "source": [
    "x_set = np.array([1, 2, 3, 4, 5, 6])\n",
    "y_set = np.array([1, 2, 3, 4, 5, 6])"
   ]
  },
  {
   "cell_type": "code",
   "execution_count": 20,
   "metadata": {
    "ExecuteTime": {
     "end_time": "2018-08-14T09:40:53.299797Z",
     "start_time": "2018-08-14T09:40:53.294182Z"
    }
   },
   "outputs": [],
   "source": [
    "def f_XY(x, y):\n",
    "    if x in x_set and y in y_set:\n",
    "        return x * y / 441\n",
    "    else:\n",
    "        return 0"
   ]
  },
  {
   "cell_type": "code",
   "execution_count": 21,
   "metadata": {},
   "outputs": [],
   "source": [
    "XY = [x_set, y_set, f_XY]"
   ]
  },
  {
   "cell_type": "markdown",
   "metadata": {},
   "source": [
    "- X와 Y는 독립이므로 무상관 => **공분산 = 0**"
   ]
  },
  {
   "cell_type": "code",
   "execution_count": 22,
   "metadata": {
    "ExecuteTime": {
     "end_time": "2018-08-14T09:40:53.307053Z",
     "start_time": "2018-08-14T09:40:53.301020Z"
    }
   },
   "outputs": [
    {
     "data": {
      "text/plain": [
       "-0.000"
      ]
     },
     "execution_count": 22,
     "metadata": {},
     "output_type": "execute_result"
    }
   ],
   "source": [
    "Cov(XY)"
   ]
  },
  {
   "cell_type": "markdown",
   "metadata": {},
   "source": [
    "#### \n",
    "#### 무상관인데 독립이 아닌 경우\n",
    "\n",
    "#### $f_{XY}(x, y) = $\n",
    "\n",
    "$\\begin{cases}\n",
    "{1 \\over 3} \\;\\; (x, y) \\in \\{(0, 0), (1, 1), (1, -1)\\}\\\\\n",
    "0 \\;\\; (otherwise)\n",
    "\\end{cases}$"
   ]
  },
  {
   "cell_type": "code",
   "execution_count": 8,
   "metadata": {},
   "outputs": [],
   "source": [
    "x_set = np.array([0, 1])\n",
    "y_set = np.array([-1, 0, 1])"
   ]
  },
  {
   "cell_type": "code",
   "execution_count": 9,
   "metadata": {
    "ExecuteTime": {
     "end_time": "2018-08-14T09:40:53.313369Z",
     "start_time": "2018-08-14T09:40:53.308083Z"
    }
   },
   "outputs": [],
   "source": [
    "def f_XY(x, y):\n",
    "    if (x, y) in [(0, 0), (1, 1), (1, -1)]:\n",
    "        return 1 / 3\n",
    "    else:\n",
    "        return 0"
   ]
  },
  {
   "cell_type": "code",
   "execution_count": 10,
   "metadata": {},
   "outputs": [],
   "source": [
    "XY = [x_set, y_set, f_XY]"
   ]
  },
  {
   "cell_type": "code",
   "execution_count": 11,
   "metadata": {
    "ExecuteTime": {
     "end_time": "2018-08-14T09:40:53.318027Z",
     "start_time": "2018-08-14T09:40:53.314593Z"
    }
   },
   "outputs": [
    {
     "data": {
      "text/plain": [
       "0.000"
      ]
     },
     "execution_count": 11,
     "metadata": {},
     "output_type": "execute_result"
    }
   ],
   "source": [
    "Cov(XY)"
   ]
  },
  {
   "cell_type": "code",
   "execution_count": 18,
   "metadata": {
    "ExecuteTime": {
     "end_time": "2018-08-14T09:40:53.322284Z",
     "start_time": "2018-08-14T09:40:53.318962Z"
    }
   },
   "outputs": [
    {
     "data": {
      "text/plain": [
       "(0.111, 0.333)"
      ]
     },
     "execution_count": 18,
     "metadata": {},
     "output_type": "execute_result"
    }
   ],
   "source": [
    "f_X(0) * f_Y(0), f_XY(0, 0)"
   ]
  },
  {
   "cell_type": "markdown",
   "metadata": {},
   "source": [
    "### \n",
    "## 합의 분포\n",
    "#### $\\sum_{i=1}^n X_i = X_1 + X_2 + ... + X_n$이 따르는 확률분포"
   ]
  },
  {
   "cell_type": "markdown",
   "metadata": {},
   "source": [
    "#### \n",
    "### 확률변수 합의 기댓값\n",
    "\n",
    "### $E(X_1 + X_2 + ... X_n) = E(X_1) + E(X_2) +... E(X_n)$"
   ]
  },
  {
   "cell_type": "markdown",
   "metadata": {},
   "source": [
    "### \n",
    "### 확률변수 $X_1, X_2, ..., X_n$가 서로 독립이라면\n",
    "### $V(X_1 + X_2 + ... X_n) = V(X_1) + V(X_2) +... V(X_n)$"
   ]
  },
  {
   "cell_type": "markdown",
   "metadata": {},
   "source": [
    "### \n",
    "### 재생성 : 동일한 분포를 따르는 2개의 독립인 확류변수에 대해서, 그 합도 동일한 확률분포가 되는 성질"
   ]
  },
  {
   "cell_type": "markdown",
   "metadata": {},
   "source": [
    "### 정규분포 합의 분포\n",
    "#### 서로 독립인 확률변수 $X_1 \\sim N(\\mu_1, \\sigma^2_1), X_2 \\sim N(\\mu_2, \\sigma^2_2), ... X_n \\sim N(\\mu_n, \\sigma^2_n)$에 대해\n",
    "\n",
    "### $\\sum_{i=1}^n X_i \\sim N(\\sum^n_{i=1}\\mu_i, \\;\\; \\sum^n_{i=1}\\sigma^2_i)$"
   ]
  },
  {
   "cell_type": "markdown",
   "metadata": {},
   "source": [
    "### \n",
    "#### **$X \\sim N(1, 2), \\;\\; Y \\sim N(2, 3)$**일 때, 확률변수 $X+Y$의 분포\n",
    "#### $E(X+Y) = E(X) + E(Y) = 1 + 2 = 3, \\;\\;\\;\\;\\;\\; V(X+Y) = V(X) + V(Y) = 2 + 3 = 5$"
   ]
  },
  {
   "cell_type": "code",
   "execution_count": 29,
   "metadata": {},
   "outputs": [],
   "source": [
    "rv1 = stats.norm(1, np.sqrt(2))\n",
    "rv2 = stats.norm(2, np.sqrt(3))"
   ]
  },
  {
   "cell_type": "code",
   "execution_count": 30,
   "metadata": {
    "ExecuteTime": {
     "end_time": "2018-08-14T09:40:53.411944Z",
     "start_time": "2018-08-14T09:40:53.323291Z"
    }
   },
   "outputs": [
    {
     "data": {
      "text/plain": [
       "((1000000,), (1000000,))"
      ]
     },
     "execution_count": 30,
     "metadata": {},
     "output_type": "execute_result"
    }
   ],
   "source": [
    "sample_size = int(1e6)\n",
    "X_sample = rv1.rvs(sample_size)\n",
    "Y_sample = rv2.rvs(sample_size)\n",
    "X_sample.shape, Y_sample.shape"
   ]
  },
  {
   "cell_type": "code",
   "execution_count": 31,
   "metadata": {},
   "outputs": [
    {
     "data": {
      "text/plain": [
       "(1000000,)"
      ]
     },
     "execution_count": 31,
     "metadata": {},
     "output_type": "execute_result"
    }
   ],
   "source": [
    "sum_sample = X_sample + Y_sample\n",
    "sum_sample.shape"
   ]
  },
  {
   "cell_type": "code",
   "execution_count": 32,
   "metadata": {},
   "outputs": [
    {
     "data": {
      "text/plain": [
       "(3.000, 4.997)"
      ]
     },
     "execution_count": 32,
     "metadata": {},
     "output_type": "execute_result"
    }
   ],
   "source": [
    "np.mean(sum_sample), np.var(sum_sample)"
   ]
  },
  {
   "cell_type": "markdown",
   "metadata": {},
   "source": [
    "### \n",
    "#### $(X+Y)$로부터 무작위추출한 표본 데이터의 히스토그램과 밀도함수"
   ]
  },
  {
   "cell_type": "code",
   "execution_count": 33,
   "metadata": {
    "ExecuteTime": {
     "end_time": "2018-08-14T09:40:53.618862Z",
     "start_time": "2018-08-14T09:40:53.412902Z"
    },
    "scrolled": false
   },
   "outputs": [
    {
     "data": {
      "image/png": "[encoded data removed]",
      "text/plain": [
       "<Figure size 720x432 with 1 Axes>"
      ]
     },
     "metadata": {
      "needs_background": "light"
     },
     "output_type": "display_data"
    }
   ],
   "source": [
    "fig = plt.figure(figsize = (10, 6))\n",
    "ax = fig.add_subplot(111)\n",
    "\n",
    "rv = stats.norm(3, np.sqrt(5))\n",
    "xs = np.linspace(rv.isf(0.995), rv.isf(0.005), 100)\n",
    "\n",
    "ax.hist(sum_sample, bins = 100, density = True,\n",
    "        alpha = 0.5, label = 'N(1, 2) + N(2, 3)')\n",
    "ax.plot(xs, rv.pdf(xs), label = 'N(3, 5)', color = 'gray')\n",
    "ax.plot(xs, rv1.pdf(xs), label = 'N(1, 2)', ls = '--', color = 'gray')\n",
    "ax.plot(xs, rv2.pdf(xs), label = 'N(2, 3)', ls=':', color = 'gray' )\n",
    "\n",
    "ax.legend()\n",
    "\n",
    "ax.set_xlim(rv.isf(0.995), rv.isf(0.005))\n",
    "\n",
    "plt.show()"
   ]
  },
  {
   "cell_type": "markdown",
   "metadata": {},
   "source": [
    "- **$(X + Y) \\sim N(3, 5)$임을 확인**"
   ]
  },
  {
   "cell_type": "markdown",
   "metadata": {},
   "source": [
    "### \n",
    "### 포아송 분포의 합의 분포\n",
    "#### 서로 독립인 확률변수 $X_1 \\sim Poi(\\lambda_1), \\;\\; X_2 \\sim Poi(\\lambda_2), \\;\\; ... \\;\\; X_n \\sim Poi(\\lambda_n)$에 대해\n",
    "\n",
    "### $\\sum_{i=1}^n X_i \\sim Poi(\\sum^n_{i=1}\\lambda_i)$"
   ]
  },
  {
   "cell_type": "markdown",
   "metadata": {},
   "source": [
    "### \n",
    "#### **$X \\sim Poi(3), \\;\\; Y \\sim Poi(4)$**일 때, 확률변수 $X+Y$의 분포\n",
    "#### $E(X+Y) = E(X) + E(Y) =  3+4 =7, \\;\\;\\;\\;\\;\\; V(X+Y) = V(X) + V(Y) = 3 + 4 = 7$"
   ]
  },
  {
   "cell_type": "code",
   "execution_count": 38,
   "metadata": {},
   "outputs": [],
   "source": [
    "rv1 = stats.poisson(3)\n",
    "rv2 = stats.poisson(4)"
   ]
  },
  {
   "cell_type": "code",
   "execution_count": 39,
   "metadata": {
    "ExecuteTime": {
     "end_time": "2018-08-14T09:40:53.765074Z",
     "start_time": "2018-08-14T09:40:53.619883Z"
    }
   },
   "outputs": [
    {
     "data": {
      "text/plain": [
       "((1000000,), (1000000,))"
      ]
     },
     "execution_count": 39,
     "metadata": {},
     "output_type": "execute_result"
    }
   ],
   "source": [
    "sample_size = int(1e6)\n",
    "X_sample = rv1.rvs(sample_size)\n",
    "Y_sample = rv2.rvs(sample_size)\n",
    "X_sample.shape, Y_sample.shape"
   ]
  },
  {
   "cell_type": "code",
   "execution_count": 40,
   "metadata": {},
   "outputs": [
    {
     "data": {
      "text/plain": [
       "(1000000,)"
      ]
     },
     "execution_count": 40,
     "metadata": {},
     "output_type": "execute_result"
    }
   ],
   "source": [
    "sum_sample = X_sample + Y_sample\n",
    "sum_sample.shape"
   ]
  },
  {
   "cell_type": "code",
   "execution_count": 41,
   "metadata": {},
   "outputs": [
    {
     "data": {
      "text/plain": [
       "(6.995, 7.010)"
      ]
     },
     "execution_count": 41,
     "metadata": {},
     "output_type": "execute_result"
    }
   ],
   "source": [
    "np.mean(sum_sample), np.var(sum_sample)"
   ]
  },
  {
   "cell_type": "markdown",
   "metadata": {},
   "source": [
    "### \n",
    "#### $(X+Y)$로부터 무작위추출한 표본 데이터의 히스토그램과 확률함수"
   ]
  },
  {
   "cell_type": "code",
   "execution_count": 42,
   "metadata": {
    "ExecuteTime": {
     "end_time": "2018-08-14T09:40:53.913264Z",
     "start_time": "2018-08-14T09:40:53.766453Z"
    },
    "scrolled": false
   },
   "outputs": [
    {
     "name": "stderr",
     "output_type": "stream",
     "text": [
      "C:\\Users\\이찬솔\\AppData\\Local\\Temp\\ipykernel_16824\\1084158929.py:6: VisibleDeprecationWarning: Passing `normed=True` on non-uniform bins has always been broken, and computes neither the probability density function nor the probability mass function. The result is only correct if the bins are uniform, when density=True will produce the same result anyway. The argument will be removed in a future version of numpy.\n",
      "  hist, _ = np.histogram(sum_sample, bins = 20,\n"
     ]
    },
    {
     "data": {
      "image/png": "[encoded data removed]",
      "text/plain": [
       "<Figure size 720x432 with 1 Axes>"
      ]
     },
     "metadata": {
      "needs_background": "light"
     },
     "output_type": "display_data"
    }
   ],
   "source": [
    "fig = plt.figure(figsize = (10, 6))\n",
    "ax = fig.add_subplot(111)\n",
    "\n",
    "rv = stats.poisson(7)\n",
    "xs = np.arange(20)\n",
    "\n",
    "hist, _ = np.histogram(sum_sample, bins = 20,\n",
    "                       range = (0, 20), normed = True)\n",
    "\n",
    "ax.bar(xs, hist, alpha = 0.5, label = 'Poi(3) + Poi(4)')\n",
    "ax.plot(xs, rv.pmf(xs), label = 'Poi(7)',  color = 'gray')\n",
    "ax.plot(xs, rv1.pmf(xs), label = 'Poi(3)', ls = '--', color = 'gray')\n",
    "ax.plot(xs, rv2.pmf(xs), label = 'Poi(4)', ls = ':',  color = 'gray')\n",
    "\n",
    "ax.legend()\n",
    "\n",
    "ax.set_xlim(-0.5, 20)\n",
    "ax.set_xticks(np.arange(20))\n",
    "\n",
    "plt.show()"
   ]
  },
  {
   "cell_type": "markdown",
   "metadata": {},
   "source": [
    "- **$(X + Y) \\sim Poi(7)$임을 확인**"
   ]
  },
  {
   "cell_type": "markdown",
   "metadata": {},
   "source": [
    "### \n",
    "### 베르누이 분포의 합의 분포\n",
    "#### 서로 독립인 확률변수 $X_1, X_2, ..., X_n ~ Bern(p)$에 대해\n",
    "\n",
    "### $\\sum_{i=1}^n X_i \\sim Bin(n, p)$\n",
    "\n",
    "## \n",
    "- **서로 독립인 확률변수 $X_1, X_2, ..., X_n ~ Bern(p)$일 떄, $Bern(p)$의 기댓값은 $p$, 분산은 $p(1-p)$**\n",
    "- **$\\sum_{i=1}^n X_i$**의 기댓값은 $10 \\times 0.3 = 3$, 분산은 $10 \\times 0.3 \\times 0.7 = 2.1$\n"
   ]
  },
  {
   "cell_type": "code",
   "execution_count": 43,
   "metadata": {},
   "outputs": [],
   "source": [
    "p = 0.3\n",
    "rv = stats.bernoulli(p)"
   ]
  },
  {
   "cell_type": "code",
   "execution_count": 44,
   "metadata": {
    "ExecuteTime": {
     "end_time": "2018-08-14T09:40:54.154470Z",
     "start_time": "2018-08-14T09:40:53.914350Z"
    }
   },
   "outputs": [
    {
     "data": {
      "text/plain": [
       "(2.998, 2.098)"
      ]
     },
     "execution_count": 44,
     "metadata": {},
     "output_type": "execute_result"
    }
   ],
   "source": [
    "sample_size = int(1e6)\n",
    "Xs_sample = rv.rvs((10, sample_size))\n",
    "sum_sample = np.sum(Xs_sample, axis=0)\n",
    "\n",
    "np.mean(sum_sample), np.var(sum_sample)"
   ]
  },
  {
   "cell_type": "markdown",
   "metadata": {},
   "source": [
    "### \n",
    "### 베르누이 분포의 합은 이항분포\n",
    "#### 베르누이 분포에는 재생성이 없음\n",
    "\n",
    "#### $\\sum_{i=1}^10 X_i$의 히스토그램과 확률함수"
   ]
  },
  {
   "cell_type": "code",
   "execution_count": 45,
   "metadata": {
    "ExecuteTime": {
     "end_time": "2018-08-14T09:40:54.284470Z",
     "start_time": "2018-08-14T09:40:54.155665Z"
    },
    "scrolled": false
   },
   "outputs": [
    {
     "name": "stderr",
     "output_type": "stream",
     "text": [
      "C:\\Users\\이찬솔\\AppData\\Local\\Temp\\ipykernel_16824\\1275147382.py:7: VisibleDeprecationWarning: Passing `normed=True` on non-uniform bins has always been broken, and computes neither the probability density function nor the probability mass function. The result is only correct if the bins are uniform, when density=True will produce the same result anyway. The argument will be removed in a future version of numpy.\n",
      "  hist, _ = np.histogram(sum_sample, bins = 10,\n"
     ]
    },
    {
     "data": {
      "image/png": "[encoded data removed]",
      "text/plain": [
       "<Figure size 720x432 with 1 Axes>"
      ]
     },
     "metadata": {
      "needs_background": "light"
     },
     "output_type": "display_data"
    }
   ],
   "source": [
    "fig = plt.figure(figsize = (10, 6))\n",
    "ax = fig.add_subplot(111)\n",
    "\n",
    "rv = stats.binom(10, p)\n",
    "xs = np.arange(10)\n",
    "\n",
    "hist, _ = np.histogram(sum_sample, bins = 10,\n",
    "                       range = (0, 10), normed = True)\n",
    "ax.bar(xs, hist, alpha = 0.5, label = 'sum of 10*Bern(0.3)')\n",
    "ax.plot(xs, rv.pmf(xs), label='Bin(10, 0.3)')\n",
    "\n",
    "ax.legend()\n",
    "\n",
    "ax.set_xlim(-0.5, 10)\n",
    "ax.set_xticks(np.arange(10))\n",
    "\n",
    "plt.show()"
   ]
  },
  {
   "cell_type": "markdown",
   "metadata": {},
   "source": [
    "- **$\\sum_{i=1}^10 X_i \\sim Bin(10, 0.3)$**이 됨을 확인"
   ]
  },
  {
   "cell_type": "markdown",
   "metadata": {},
   "source": [
    "## \n",
    "## 표본평균의 분포\n",
    "\n",
    "### 표본평균의 기댓값과 분산\n",
    "#### 확률변수 $X_1, X_2, ..., X_n$이 서로 독립이고, 기댓값이 $\\mu$, 분산이 $\\sigma^2$인 확률분포 F를 따를 때\n",
    "\n",
    "### $E(\\bar{X}) = \\mu \\;\\;\\;\\;\\; V(\\bar{X}) = {\\sigma^2 \\over n}$ \n",
    "\n",
    "### \n",
    "\n",
    "### $E(\\bar{X}) = E({{X_1 + X_2 + ... + X_n} \\over n})= {{E(X_1+ E(X_2) +... +  E(X_n)} \\over n} = {{n\\mu} \\over n} = \\mu$\n",
    "\n",
    "### $V(\\bar{X}) = V({{X_1 + X_2 + ... + X_n} \\over n})= {{V(X_1+ V(X_2) +... +  V(X_n)} \\over {n^2}} = {{n\\sigma^2} \\over {n^2}} = {\\sigma^2 \\over n}$"
   ]
  },
  {
   "cell_type": "markdown",
   "metadata": {},
   "source": [
    "### \n",
    "### 정규분포의 표본평균 분포\n",
    "\n",
    "### $\\bar{X} \\sim N(\\mu, {\\sigma^2 \\over n})$"
   ]
  },
  {
   "cell_type": "markdown",
   "metadata": {},
   "source": [
    "#### \n",
    "#### $n = 10, \\;\\;\\;\\; X_1, X_2, ..., X_{10} \\sim N(1, 2)$\n",
    "#### $E(\\bar(X)) = 1, \\;\\;\\;\\;\\; V(\\bar{X}) = 2 / 10$"
   ]
  },
  {
   "cell_type": "code",
   "execution_count": 46,
   "metadata": {
    "ExecuteTime": {
     "end_time": "2018-08-14T09:40:54.686791Z",
     "start_time": "2018-08-14T09:40:54.285713Z"
    }
   },
   "outputs": [],
   "source": [
    "mean = 1\n",
    "var = 2\n",
    "rv = stats.norm(mean, np.sqrt(var))"
   ]
  },
  {
   "cell_type": "code",
   "execution_count": 47,
   "metadata": {},
   "outputs": [
    {
     "data": {
      "text/plain": [
       "((10, 1000000), (1000000,))"
      ]
     },
     "execution_count": 47,
     "metadata": {},
     "output_type": "execute_result"
    }
   ],
   "source": [
    "n = 10\n",
    "sample_size = int(1e6)\n",
    "\n",
    "Xs_sample = rv.rvs((n, sample_size))\n",
    "sample_mean = np.mean(Xs_sample, axis = 0)\n",
    "Xs_sample.shape, sample_mean.shape"
   ]
  },
  {
   "cell_type": "code",
   "execution_count": 48,
   "metadata": {},
   "outputs": [
    {
     "data": {
      "text/plain": [
       "(1.000, 0.200)"
      ]
     },
     "execution_count": 48,
     "metadata": {},
     "output_type": "execute_result"
    }
   ],
   "source": [
    "np.mean(sample_mean), np.var(sample_mean)"
   ]
  },
  {
   "cell_type": "markdown",
   "metadata": {},
   "source": [
    "#### $\\bar{X} \\sim N(1, {2 \\over 10}$의 무작위추출 표본 히스토그램과 밀도함수"
   ]
  },
  {
   "cell_type": "code",
   "execution_count": 49,
   "metadata": {
    "ExecuteTime": {
     "end_time": "2018-08-14T09:40:54.906777Z",
     "start_time": "2018-08-14T09:40:54.687732Z"
    }
   },
   "outputs": [
    {
     "data": {
      "image/png": "[encoded data removed]",
      "text/plain": [
       "<Figure size 720x432 with 1 Axes>"
      ]
     },
     "metadata": {
      "needs_background": "light"
     },
     "output_type": "display_data"
    }
   ],
   "source": [
    "fig = plt.figure(figsize = (10, 6))\n",
    "ax = fig.add_subplot(111)\n",
    "\n",
    "rv_true = stats.norm(mean, np.sqrt(var / n))\n",
    "xs = np.linspace(rv_true.isf(0.999), rv_true.isf(0.001), 100)\n",
    "\n",
    "ax.hist(sample_mean, bins = 100, density = True,\n",
    "        alpha = 0.5, label = 'sample mean of 10*N(1, 2)')\n",
    "ax.plot(xs, rv_true.pdf(xs), label = 'N(1, 0.2)', color = 'gray')\n",
    "\n",
    "ax.legend()\n",
    "\n",
    "ax.set_xlim(rv_true.isf(0.999), rv_true.isf(0.001))\n",
    "\n",
    "plt.show()"
   ]
  },
  {
   "cell_type": "markdown",
   "metadata": {},
   "source": [
    "### \n",
    "### 포아송분포의 표본평균 분포\n",
    "#### $\\bar{X}$의 분포는 포아송 분포를 따르지 않음\n",
    "- **재생성이 있는 포아송 분포에서도 표본평균에 대해서는 포아송 분포를 유지할 수 없음**"
   ]
  },
  {
   "cell_type": "markdown",
   "metadata": {},
   "source": [
    "#### \n",
    "#### $n = 10, \\;\\;\\;\\; X_1, X_2, ..., X_{10} \\sim Poi(3)$\n",
    "#### $E(\\bar(X)) = 3, \\;\\;\\;\\;\\; V(\\bar{X}) = 3 / 10$"
   ]
  },
  {
   "cell_type": "code",
   "execution_count": 52,
   "metadata": {},
   "outputs": [],
   "source": [
    "l = 3\n",
    "rv = stats.poisson(l)"
   ]
  },
  {
   "cell_type": "code",
   "execution_count": 55,
   "metadata": {
    "ExecuteTime": {
     "end_time": "2018-08-14T09:40:55.621929Z",
     "start_time": "2018-08-14T09:40:54.907957Z"
    }
   },
   "outputs": [
    {
     "data": {
      "text/plain": [
       "((10, 1000000), (1000000,))"
      ]
     },
     "execution_count": 55,
     "metadata": {},
     "output_type": "execute_result"
    }
   ],
   "source": [
    "n = 10\n",
    "sample_size = int(1e6)\n",
    "\n",
    "Xs_sample = rv.rvs((n, sample_size))\n",
    "sample_mean = np.mean(Xs_sample, axis=0)\n",
    "Xs_sample.shape, sample_mean.shape"
   ]
  },
  {
   "cell_type": "code",
   "execution_count": 56,
   "metadata": {
    "scrolled": true
   },
   "outputs": [
    {
     "data": {
      "text/plain": [
       "(3.000, 0.301)"
      ]
     },
     "execution_count": 56,
     "metadata": {},
     "output_type": "execute_result"
    }
   ],
   "source": [
    "np.mean(sample_mean), np.var(sample_mean)"
   ]
  },
  {
   "cell_type": "markdown",
   "metadata": {},
   "source": [
    "- **기댓값과 분산이 다르다는 것을 확인**"
   ]
  },
  {
   "cell_type": "markdown",
   "metadata": {},
   "source": [
    "#### 무작위추출 표본 히스토그램과 밀도함수"
   ]
  },
  {
   "cell_type": "code",
   "execution_count": 57,
   "metadata": {
    "ExecuteTime": {
     "end_time": "2018-08-14T09:40:55.798693Z",
     "start_time": "2018-08-14T09:40:55.623108Z"
    }
   },
   "outputs": [
    {
     "data": {
      "image/png": "[encoded data removed]",
      "text/plain": [
       "<Figure size 720x432 with 1 Axes>"
      ]
     },
     "metadata": {
      "needs_background": "light"
     },
     "output_type": "display_data"
    }
   ],
   "source": [
    "fig = plt.figure(figsize = (10, 6))\n",
    "ax = fig.add_subplot(111)\n",
    "\n",
    "ax.hist(sample_mean, bins = 100, density = True,\n",
    "        alpha = 0.5, label = 'sample mean of 10*Poi(3)')\n",
    "\n",
    "ax.legend()\n",
    "\n",
    "ax.set_xlim(0, 6)\n",
    "\n",
    "plt.show()"
   ]
  },
  {
   "cell_type": "markdown",
   "metadata": {},
   "source": [
    "### \n",
    "## 중심극한정리 (CLT)\n",
    "### 확률변수 $X_1, X_2, ..., X_n$이 서로 독립이고, 기댓값이 $\\mu$, 분산이 $\\sigma^2$인 확률분포 F를 따를 때, n이 커짐에 따라 표본평균 $\\bar{X}$의 분포는 정규분포 $N(\\mu, {\\sigma^2 \\over n})$에 근사함\n",
    "- **원래 분포가 뭐였든 간, 표본평균의 분포는 정규분포에 가까워짐**\n",
    "### \n",
    "\n",
    "### $n = 10000, \\;\\;\\; X_1, X_2, ..., X_{10000} \\sim Poi(3)$라고 할 때, 표본평균의 계산을 10000번 수행  \n",
    "- (포아송 분포로부터의 무작위추출은 10000 X 10000번)\n",
    "\n",
    "### 중심극한정리에 의해, $\\bar{X} \\sim N(3, {3 \\over 10000})$"
   ]
  },
  {
   "cell_type": "code",
   "execution_count": 58,
   "metadata": {},
   "outputs": [],
   "source": [
    "l = 3\n",
    "rv = stats.poisson(l)"
   ]
  },
  {
   "cell_type": "code",
   "execution_count": 59,
   "metadata": {
    "ExecuteTime": {
     "end_time": "2018-08-14T09:41:02.614573Z",
     "start_time": "2018-08-14T09:40:55.799969Z"
    }
   },
   "outputs": [
    {
     "data": {
      "text/plain": [
       "((10000, 10000), (10000,))"
      ]
     },
     "execution_count": 59,
     "metadata": {},
     "output_type": "execute_result"
    }
   ],
   "source": [
    "n = 10000\n",
    "sample_size = 10000\n",
    "\n",
    "Xs_sample = rv.rvs((n, sample_size))\n",
    "sample_mean = np.mean(Xs_sample, axis = 0)\n",
    "Xs_sample.shape, sample_mean.shape"
   ]
  },
  {
   "cell_type": "code",
   "execution_count": 60,
   "metadata": {},
   "outputs": [],
   "source": [
    "rv_true = stats.norm(l, np.sqrt(l / n))\n",
    "xs = np.linspace(rv_true.isf(0.999), rv_true.isf(0.001), 100)"
   ]
  },
  {
   "cell_type": "markdown",
   "metadata": {},
   "source": [
    "#### $\\bar{X}$의 표본 히스토그램과 $N(3, {3 \\over 10000})$의 밀도함수 **=> 정규분포에 가까워짐**"
   ]
  },
  {
   "cell_type": "code",
   "execution_count": 62,
   "metadata": {
    "ExecuteTime": {
     "end_time": "2018-08-14T09:41:02.813719Z",
     "start_time": "2018-08-14T09:41:02.615833Z"
    }
   },
   "outputs": [
    {
     "data": {
      "image/png": "[encoded data removed]",
      "text/plain": [
       "<Figure size 720x432 with 1 Axes>"
      ]
     },
     "metadata": {
      "needs_background": "light"
     },
     "output_type": "display_data"
    }
   ],
   "source": [
    "fig = plt.figure(figsize = (10, 6))\n",
    "ax = fig.add_subplot(111)\n",
    "\n",
    "ax.hist(sample_mean, bins = 100, density = True,\n",
    "        alpha = 0.5, label = 'sample mean of 10000*Poi(3)')\n",
    "ax.plot(xs, rv_true.pdf(xs), label = 'N(3, 3/10000)', color = 'gray')\n",
    "\n",
    "ax.legend()\n",
    "\n",
    "ax.set_xlim(rv_true.isf(0.999), rv_true.isf(0.001))\n",
    "\n",
    "plt.show()"
   ]
  },
  {
   "cell_type": "markdown",
   "metadata": {},
   "source": [
    "### \n",
    "## 대수의 법칙\n",
    "### 확률변수 $X_1, X_2, ..., X_n$이 서로 독립이고, 기댓값이 $\\mu$, 분산이 $\\sigma^2$일 것 같은 확률분포 따를 때, n이 커짐에 따라 표본평균은 $\\mu$에 수렴\n",
    "- **원래 분포가 뭐였든 간, 표본평균의 분포는 정규분포에 가까워짐**\n",
    "### \n",
    "\n",
    "#### 한번의 시행이 $Bern({1 \\over 6})$을 따를때, 표본 크기가 커짐에 다라 표본평균은 ${1 \\over 6}$에 수렴할 것\n",
    "=> **표본크기가 10만인 무작위추출을 4번**"
   ]
  },
  {
   "cell_type": "code",
   "execution_count": 63,
   "metadata": {},
   "outputs": [],
   "source": [
    "p = 1 / 6\n",
    "rv = stats.bernoulli(p)"
   ]
  },
  {
   "cell_type": "code",
   "execution_count": 67,
   "metadata": {
    "ExecuteTime": {
     "end_time": "2018-08-14T09:41:02.860782Z",
     "start_time": "2018-08-14T09:41:02.814918Z"
    }
   },
   "outputs": [
    {
     "data": {
      "text/plain": [
       "((100000, 4), (50,))"
      ]
     },
     "execution_count": 67,
     "metadata": {},
     "output_type": "execute_result"
    }
   ],
   "source": [
    "n = int(1e5)\n",
    "\n",
    "sample = rv.rvs((n, 4))\n",
    "space = np.linspace(100, n, 50).astype(int)\n",
    "sample.shape, space.shape"
   ]
  },
  {
   "cell_type": "code",
   "execution_count": 72,
   "metadata": {},
   "outputs": [
    {
     "data": {
      "text/plain": [
       "((4, 50),\n",
       " array([[0.12 , 0.161, 0.164, 0.168, 0.167, 0.168, 0.165, 0.165, 0.165,\n",
       "         0.166, 0.165, 0.166, 0.166, 0.166, 0.166, 0.167, 0.168, 0.168,\n",
       "         0.168, 0.169, 0.169, 0.169, 0.169, 0.169, 0.169, 0.169, 0.17 ,\n",
       "         0.17 , 0.169, 0.169, 0.169, 0.169, 0.17 , 0.169, 0.169, 0.169,\n",
       "         0.169, 0.169, 0.169, 0.168, 0.169, 0.168, 0.168, 0.169, 0.169,\n",
       "         0.169, 0.169, 0.169, 0.169, 0.169],\n",
       "        [0.14 , 0.157, 0.161, 0.164, 0.163, 0.163, 0.165, 0.166, 0.165,\n",
       "         0.163, 0.164, 0.165, 0.165, 0.166, 0.166, 0.167, 0.167, 0.166,\n",
       "         0.167, 0.167, 0.167, 0.167, 0.167, 0.167, 0.166, 0.166, 0.167,\n",
       "         0.167, 0.166, 0.166, 0.166, 0.166, 0.166, 0.166, 0.166, 0.166,\n",
       "         0.166, 0.166, 0.166, 0.166, 0.166, 0.166, 0.166, 0.167, 0.167,\n",
       "         0.167, 0.167, 0.167, 0.167, 0.167],\n",
       "        [0.15 , 0.152, 0.164, 0.167, 0.167, 0.167, 0.167, 0.167, 0.168,\n",
       "         0.169, 0.167, 0.167, 0.167, 0.167, 0.167, 0.166, 0.168, 0.168,\n",
       "         0.168, 0.167, 0.167, 0.168, 0.168, 0.167, 0.167, 0.167, 0.167,\n",
       "         0.166, 0.166, 0.166, 0.166, 0.166, 0.166, 0.166, 0.166, 0.166,\n",
       "         0.166, 0.166, 0.166, 0.166, 0.165, 0.166, 0.166, 0.166, 0.166,\n",
       "         0.166, 0.166, 0.166, 0.166, 0.166],\n",
       "        [0.14 , 0.183, 0.177, 0.174, 0.178, 0.176, 0.175, 0.173, 0.172,\n",
       "         0.172, 0.172, 0.172, 0.171, 0.17 , 0.171, 0.17 , 0.17 , 0.17 ,\n",
       "         0.171, 0.171, 0.171, 0.171, 0.171, 0.172, 0.171, 0.171, 0.172,\n",
       "         0.172, 0.171, 0.171, 0.171, 0.171, 0.171, 0.171, 0.171, 0.171,\n",
       "         0.17 , 0.17 , 0.17 , 0.17 , 0.17 , 0.17 , 0.17 , 0.17 , 0.17 ,\n",
       "         0.17 , 0.17 , 0.17 , 0.17 , 0.17 ]]))"
      ]
     },
     "execution_count": 72,
     "metadata": {},
     "output_type": "execute_result"
    }
   ],
   "source": [
    "plot_list = np.array([np.mean(sample[:sp], axis = 0)\n",
    "                      for sp in space]).T\n",
    "plot_list.shape, plot_list"
   ]
  },
  {
   "cell_type": "markdown",
   "metadata": {},
   "source": [
    "#### 4번의 각각의 무작위추출에서 표본평균으로 사용하는 표본크기를 점차적으로 증가시킬 때, 표본평균의 변화"
   ]
  },
  {
   "cell_type": "code",
   "execution_count": 69,
   "metadata": {
    "ExecuteTime": {
     "end_time": "2018-08-14T09:41:02.945010Z",
     "start_time": "2018-08-14T09:41:02.861733Z"
    }
   },
   "outputs": [
    {
     "data": {
      "image/png": "[encoded data removed]",
      "text/plain": [
       "<Figure size 720x432 with 1 Axes>"
      ]
     },
     "metadata": {
      "needs_background": "light"
     },
     "output_type": "display_data"
    }
   ],
   "source": [
    "fig = plt.figure(figsize = (10, 6))\n",
    "ax = fig.add_subplot(111)\n",
    "\n",
    "for pl, ls in zip(plot_list, linestyles):\n",
    "    ax.plot(space, pl, ls = ls, color = 'gray')\n",
    "ax.hlines(p, -1, n, 'k')\n",
    "\n",
    "ax.set_xlabel('sample size')\n",
    "ax.set_ylabel('sample mean')\n",
    "\n",
    "plt.show()"
   ]
  },
  {
   "cell_type": "markdown",
   "metadata": {},
   "source": [
    "- **표본크기가 작을 때는 변동이 있지만, 표본크기가 커지면서 ${1 \\over 6}$에 가까워짐**"
   ]
  }
 ],
 "metadata": {
  "kernelspec": {
   "display_name": "Python 3 (ipykernel)",
   "language": "python",
   "name": "python3"
  },
  "language_info": {
   "codemirror_mode": {
    "name": "ipython",
    "version": 3
   },
   "file_extension": ".py",
   "mimetype": "text/x-python",
   "name": "python",
   "nbconvert_exporter": "python",
   "pygments_lexer": "ipython3",
   "version": "3.9.7"
  },
  "toc": {
   "nav_menu": {},
   "number_sections": true,
   "sideBar": true,
   "skip_h1_title": false,
   "toc_cell": false,
   "toc_position": {},
   "toc_section_display": "block",
   "toc_window_display": false
  }
 },
 "nbformat": 4,
 "nbformat_minor": 2
}
