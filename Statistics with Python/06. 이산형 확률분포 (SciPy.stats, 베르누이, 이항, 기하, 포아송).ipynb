{
 "cells": [
  {
   "cell_type": "markdown",
   "metadata": {},
   "source": [
    "## 대표적인 이산형 확률분포"
   ]
  },
  {
   "cell_type": "markdown",
   "metadata": {},
   "source": [
    "#### 비모수적 기법 : 모집단의 확률분포에 어떠한 가정도 하지 않음\n",
    "#### 모수적 기법 : 모집단이 특정 확률분포를 따를것이라 가정 => 기댓값이나 분산을 결정하는 소수의 파라미터를 추측"
   ]
  },
  {
   "cell_type": "code",
   "execution_count": 1,
   "metadata": {
    "ExecuteTime": {
     "end_time": "2018-08-11T04:29:52.526093Z",
     "start_time": "2018-08-11T04:29:52.243215Z"
    }
   },
   "outputs": [],
   "source": [
    "import numpy as np\n",
    "import matplotlib.pyplot as plt\n",
    "\n",
    "%precision 3\n",
    "%matplotlib inline"
   ]
  },
  {
   "cell_type": "markdown",
   "metadata": {},
   "source": [
    "#### \n",
    "#### 그래프의 선의 종류"
   ]
  },
  {
   "cell_type": "code",
   "execution_count": 4,
   "metadata": {},
   "outputs": [],
   "source": [
    "linestyles = ['-', '--', ':']"
   ]
  },
  {
   "cell_type": "markdown",
   "metadata": {},
   "source": [
    "#### 기댓값과 분산에 대한 함수"
   ]
  },
  {
   "cell_type": "code",
   "execution_count": 6,
   "metadata": {},
   "outputs": [],
   "source": [
    "def E(X, g = lambda x : x):\n",
    "    x_set, f = X\n",
    "    return np.sum([g(x_k) * f(x_k) for x_k in x_set])"
   ]
  },
  {
   "cell_type": "code",
   "execution_count": 7,
   "metadata": {},
   "outputs": [],
   "source": [
    "def V(X, g = lambda x : x):\n",
    "    x_set, f = X\n",
    "    mean = E(X, g)\n",
    "    return np.sum([(g(x_k) - mean)**2 * f(x_k) for x_k in x_set])"
   ]
  },
  {
   "cell_type": "markdown",
   "metadata": {},
   "source": [
    "#### 확률변수가 확률의 성질을 만족하는지 확인하고, 기댓값과 분산을 계산"
   ]
  },
  {
   "cell_type": "code",
   "execution_count": 8,
   "metadata": {},
   "outputs": [],
   "source": [
    "def check_prob(X):\n",
    "    x_set, f = X\n",
    "    prob = np.array([f(x_k) for x_k in x_set])\n",
    "    assert np.all(prob >= 0), 'minus probability'\n",
    "    prob_sum = np.round(np.sum(prob), 6)\n",
    "    assert prob_sum == 1, f'sum of probability{prob_sum}'\n",
    "    print(f'expected value {E(X):.4}')\n",
    "    print(f'variance {(V(X)):.4}')"
   ]
  },
  {
   "cell_type": "markdown",
   "metadata": {},
   "source": [
    "#### 확률변수의 확률함수와 기댓값을 그림"
   ]
  },
  {
   "cell_type": "code",
   "execution_count": 42,
   "metadata": {
    "ExecuteTime": {
     "end_time": "2018-08-11T04:29:52.564269Z",
     "start_time": "2018-08-11T04:29:52.527251Z"
    }
   },
   "outputs": [],
   "source": [
    "def plot_prob(X):\n",
    "    x_set, f = X\n",
    "    prob = np.array([f(x_k) for x_k in x_set])\n",
    "    \n",
    "    fig = plt.figure(figsize = (10, 6))\n",
    "    ax = fig.add_subplot(111)\n",
    "    \n",
    "    ax.bar(x_set, prob, label = 'prob', color = 'green')\n",
    "    ax.vlines(E(X), 0, 1, label = 'mean')\n",
    "    \n",
    "    ax.set_xticks(np.append(x_set, E(X)))\n",
    "    ax.set_ylim(0, prob.max() * 1.2)\n",
    "    ax.legend()\n",
    "    \n",
    "    plt.show()"
   ]
  },
  {
   "cell_type": "markdown",
   "metadata": {},
   "source": [
    "### \n",
    "## 베르누이 분포 : $Bern(p)$\n",
    "- 확률변수가 취할 수 있는 값이 0과 1밖에 없음\n",
    "- 베르누이 시행 : 베르누이 분포를 따르는 확률변수의 시행 (1 : 성공 / 0 : 실패)\n",
    "- $p$ : 성공의 확률 / $1 - p$ : 실패의 확률 $(0 \\leq p \\leq 1)$\n",
    "\n",
    "|  |  |\n",
    "| -- | -- |\n",
    "| **파라미터** | p |\n",
    "| **취할 수 있는 값** | \\{0, 1\\} |\n",
    "| **확률함수** | $$p^x {(1-p)}^{1-x}$$ |\n",
    "| **기댓값** | p |\n",
    "| **분산** | p(1-p) |\n",
    "| **scipy.stats** | bernoulli(p) |"
   ]
  },
  {
   "cell_type": "markdown",
   "metadata": {},
   "source": [
    "#### 베르누이 분포의 확률함수\n",
    "\n",
    "### $f(x) = $\n",
    "$\\begin{cases}\n",
    "p^x (1-p)^{1-x}\\;\\;\\; (x \\in \\{0, 1\\})\\\\\n",
    "0\\;\\;\\; (otherwise)\n",
    "\\end{cases}$"
   ]
  },
  {
   "cell_type": "markdown",
   "metadata": {},
   "source": [
    "### \n",
    "#### 동전을 던져 앞면이 나올 확률\n",
    "### $X \\sim Bern({1 \\over 2})$\n",
    "### $P(X = 1) = ({1 \\over 2})^1 \\times (1 - {1 \\over 2})^{1 - 1} = {1 \\over 2}$"
   ]
  },
  {
   "cell_type": "markdown",
   "metadata": {},
   "source": [
    "#### 주사위를 한 번 굴려 6이 나오지 않을 확률\n",
    "### $P(X = 0) = ({1 \\over 6})^0 \\times (1 - {1 \\over 6})^(1 - 0) = {5 \\over 6}$"
   ]
  },
  {
   "cell_type": "markdown",
   "metadata": {},
   "source": [
    "### \n",
    "#### 베르누이 분포의 기댓값과 분산\n",
    "### $E(X) = p \\;\\;\\;\\;\\;\\;\\; V(X) = p(1-p$ "
   ]
  },
  {
   "cell_type": "code",
   "execution_count": 25,
   "metadata": {},
   "outputs": [],
   "source": [
    "def Bern(p):\n",
    "    x_set = np.array([0, 1])\n",
    "    def f(x):\n",
    "        if x in x_set:\n",
    "            return p ** x * (1-p) ** (1 - x)\n",
    "        else:\n",
    "            return 0\n",
    "    return x_set, f"
   ]
  },
  {
   "cell_type": "code",
   "execution_count": 26,
   "metadata": {
    "ExecuteTime": {
     "end_time": "2018-08-11T04:29:52.573425Z",
     "start_time": "2018-08-11T04:29:52.570272Z"
    }
   },
   "outputs": [],
   "source": [
    "p = 0.3\n",
    "X = Bern(p)"
   ]
  },
  {
   "cell_type": "code",
   "execution_count": 27,
   "metadata": {
    "ExecuteTime": {
     "end_time": "2018-08-11T04:29:52.577547Z",
     "start_time": "2018-08-11T04:29:52.574372Z"
    }
   },
   "outputs": [
    {
     "name": "stdout",
     "output_type": "stream",
     "text": [
      "expected value 0.3\n",
      "variance 0.21\n"
     ]
    }
   ],
   "source": [
    "check_prob(X)"
   ]
  },
  {
   "cell_type": "code",
   "execution_count": 43,
   "metadata": {
    "ExecuteTime": {
     "end_time": "2018-08-11T04:29:52.655382Z",
     "start_time": "2018-08-11T04:29:52.578567Z"
    },
    "scrolled": false
   },
   "outputs": [
    {
     "data": {
      "image/png": "[encoded data removed]",
      "text/plain": [
       "<Figure size 720x432 with 1 Axes>"
      ]
     },
     "metadata": {
      "needs_background": "light"
     },
     "output_type": "display_data"
    }
   ],
   "source": [
    "plot_prob(X)"
   ]
  },
  {
   "cell_type": "markdown",
   "metadata": {},
   "source": [
    "### \n",
    "### scipy.stats\n",
    "### ```stats.bernoulli(p)``` : 베르누이 분포를 따르는 rv_frozen 객체를 반환 (scipy.stats의 확률변수)"
   ]
  },
  {
   "cell_type": "code",
   "execution_count": 29,
   "metadata": {},
   "outputs": [],
   "source": [
    "from scipy import stats"
   ]
  },
  {
   "cell_type": "code",
   "execution_count": 30,
   "metadata": {
    "ExecuteTime": {
     "end_time": "2018-08-11T04:29:52.659593Z",
     "start_time": "2018-08-11T04:29:52.656761Z"
    }
   },
   "outputs": [],
   "source": [
    "rv = stats.bernoulli(p)"
   ]
  },
  {
   "cell_type": "markdown",
   "metadata": {},
   "source": [
    "### ```.pmf()``` : 확률함수 계산, 0과 1을 각각 넘겨주면 그 값을 취하는 확률이 반환"
   ]
  },
  {
   "cell_type": "code",
   "execution_count": 31,
   "metadata": {
    "ExecuteTime": {
     "end_time": "2018-08-11T04:29:52.664760Z",
     "start_time": "2018-08-11T04:29:52.660932Z"
    }
   },
   "outputs": [
    {
     "data": {
      "text/plain": [
       "(0.700, 0.300)"
      ]
     },
     "execution_count": 31,
     "metadata": {},
     "output_type": "execute_result"
    }
   ],
   "source": [
    "rv.pmf(0), rv.pmf(1)"
   ]
  },
  {
   "cell_type": "code",
   "execution_count": 32,
   "metadata": {
    "ExecuteTime": {
     "end_time": "2018-08-11T04:29:52.670243Z",
     "start_time": "2018-08-11T04:29:52.666156Z"
    }
   },
   "outputs": [
    {
     "data": {
      "text/plain": [
       "array([0.7, 0.3])"
      ]
     },
     "execution_count": 32,
     "metadata": {},
     "output_type": "execute_result"
    }
   ],
   "source": [
    "rv.pmf([0, 1])"
   ]
  },
  {
   "cell_type": "markdown",
   "metadata": {},
   "source": [
    "### ```.cdf()``` : 누적밀도함수 계산"
   ]
  },
  {
   "cell_type": "code",
   "execution_count": 33,
   "metadata": {
    "ExecuteTime": {
     "end_time": "2018-08-11T04:29:52.676172Z",
     "start_time": "2018-08-11T04:29:52.671550Z"
    }
   },
   "outputs": [
    {
     "data": {
      "text/plain": [
       "array([0.7, 1. ])"
      ]
     },
     "execution_count": 33,
     "metadata": {},
     "output_type": "execute_result"
    }
   ],
   "source": [
    "rv.cdf([0, 1])"
   ]
  },
  {
   "cell_type": "markdown",
   "metadata": {},
   "source": [
    "### ```.mean()```, ```.var()```"
   ]
  },
  {
   "cell_type": "code",
   "execution_count": 34,
   "metadata": {
    "ExecuteTime": {
     "end_time": "2018-08-11T04:29:52.680896Z",
     "start_time": "2018-08-11T04:29:52.677529Z"
    },
    "scrolled": true
   },
   "outputs": [
    {
     "data": {
      "text/plain": [
       "(0.300, 0.210)"
      ]
     },
     "execution_count": 34,
     "metadata": {},
     "output_type": "execute_result"
    }
   ],
   "source": [
    "rv.mean(), rv.var()"
   ]
  },
  {
   "cell_type": "markdown",
   "metadata": {},
   "source": [
    "### \n",
    "## 이항분포 : 성공확률이 $p$인 베르누이 시행을 n번 시행 했을 때의 성공 횟수가 따르는 분포\n",
    "- 확률변수가 취할 수 있는 값 : $\\{0, 1 \\}$\n",
    "- $p$ : 성공확률 / $n$ : 시행횟수    $ \\;\\;\\; (0 \\leq p \\leq 1$)\n",
    "\n",
    "|  |  |\n",
    "| -- | -- |\n",
    "| **파라미터** | n, p |\n",
    "| **취할 수 있는 값** | \\{0, 1, ..., n\\} |\n",
    "| **확률함수** | $${n \\choose x}p^x (1-p)^{n-x}$$ |\n",
    "| **기댓값** | np |\n",
    "| **분산** | np(1-p) |\n",
    "| **scipy.stats** | binom(p) |"
   ]
  },
  {
   "cell_type": "markdown",
   "metadata": {},
   "source": [
    "#### \n",
    "#### 이항분포의 확률함수\n",
    "\n",
    "### $f(x) =$\n",
    "$\\begin{cases}\n",
    "{n \\choose x}p^x (1-p)^{n-x},\\;\\;if\\; (x \\in \\{0, 1, ..., n\\})\\\\\n",
    "0,\\;\\;if \\; (otherwise)\n",
    "\\end{cases} \\;\\;\\;\\;\\; ({n \\choose x} = {n! \\over {x!(n-x)!}})$"
   ]
  },
  {
   "cell_type": "markdown",
   "metadata": {},
   "source": [
    "### \n",
    "#### 동전을 10번 던져 3번 앞면이 나올 확률\n",
    "### $X \\sim Bin(10, {1 \\over 2})$\n",
    "### $P(X = 3) = {10 \\choose 3}({1 \\over 2})^3 \\times (1 - {1 \\over 2})^{10 - 3} = {15 \\over 128}$"
   ]
  },
  {
   "cell_type": "markdown",
   "metadata": {},
   "source": [
    "#### 주사위를 4번 굴려 6이 나오지 않을 확률\n",
    "### $P(X = 0) = {4 \\choose 0}({1 \\over 6})^0 \\times (1 - {1 \\over 6})^(4 - 0) = {625 \\over 1296}$"
   ]
  },
  {
   "cell_type": "markdown",
   "metadata": {},
   "source": [
    "### \n",
    "#### 이항분포의 기댓값과 분산\n",
    "### $E(X) = np \\;\\;\\;\\;\\;\\;\\; V(X) = np(1-p$ "
   ]
  },
  {
   "cell_type": "code",
   "execution_count": 48,
   "metadata": {
    "ExecuteTime": {
     "end_time": "2018-08-11T04:29:52.688424Z",
     "start_time": "2018-08-11T04:29:52.682189Z"
    }
   },
   "outputs": [],
   "source": [
    "def Bin(n, p):\n",
    "    x_set = np.arange(n + 1)\n",
    "    def f(x):\n",
    "        if x in x_set:\n",
    "            return comb(n, x) * p**x * (1 - p)**(n - x)\n",
    "        else:\n",
    "            return 0\n",
    "    return x_set, f"
   ]
  },
  {
   "cell_type": "code",
   "execution_count": 49,
   "metadata": {
    "ExecuteTime": {
     "end_time": "2018-08-11T04:29:52.692070Z",
     "start_time": "2018-08-11T04:29:52.689659Z"
    }
   },
   "outputs": [
    {
     "data": {
      "text/plain": [
       "(array([ 0,  1,  2,  3,  4,  5,  6,  7,  8,  9, 10]),\n",
       " <function __main__.Bin.<locals>.f(x)>)"
      ]
     },
     "execution_count": 49,
     "metadata": {},
     "output_type": "execute_result"
    }
   ],
   "source": [
    "n = 10\n",
    "p = 0.3\n",
    "X = Bin(n, p)\n",
    "X"
   ]
  },
  {
   "cell_type": "markdown",
   "metadata": {},
   "source": [
    "#### $Bin(10, 0.3)$"
   ]
  },
  {
   "cell_type": "code",
   "execution_count": 37,
   "metadata": {
    "ExecuteTime": {
     "end_time": "2018-08-11T04:29:52.696902Z",
     "start_time": "2018-08-11T04:29:52.693401Z"
    }
   },
   "outputs": [
    {
     "name": "stdout",
     "output_type": "stream",
     "text": [
      "expected value 3.0\n",
      "variance 2.1\n"
     ]
    }
   ],
   "source": [
    "check_prob(X)"
   ]
  },
  {
   "cell_type": "code",
   "execution_count": 44,
   "metadata": {
    "ExecuteTime": {
     "end_time": "2018-08-11T04:29:52.816191Z",
     "start_time": "2018-08-11T04:29:52.698235Z"
    }
   },
   "outputs": [
    {
     "data": {
      "image/png": "[encoded data removed]",
      "text/plain": [
       "<Figure size 720x432 with 1 Axes>"
      ]
     },
     "metadata": {
      "needs_background": "light"
     },
     "output_type": "display_data"
    }
   ],
   "source": [
    "plot_prob(X)"
   ]
  },
  {
   "cell_type": "markdown",
   "metadata": {},
   "source": [
    "### \n",
    "### scipy.stats\n",
    "### ```stats.binom(n, p)```"
   ]
  },
  {
   "cell_type": "code",
   "execution_count": 45,
   "metadata": {},
   "outputs": [
    {
     "data": {
      "text/plain": [
       "array([ 0,  1,  2,  3,  4,  5,  6,  7,  8,  9, 10])"
      ]
     },
     "execution_count": 45,
     "metadata": {},
     "output_type": "execute_result"
    }
   ],
   "source": [
    "x_set = np.arange(n + 1)\n",
    "x_set"
   ]
  },
  {
   "cell_type": "code",
   "execution_count": 47,
   "metadata": {
    "ExecuteTime": {
     "end_time": "2018-08-11T04:29:52.923246Z",
     "start_time": "2018-08-11T04:29:52.817283Z"
    },
    "scrolled": false
   },
   "outputs": [
    {
     "data": {
      "image/png": "[encoded data removed]",
      "text/plain": [
       "<Figure size 720x432 with 1 Axes>"
      ]
     },
     "metadata": {
      "needs_background": "light"
     },
     "output_type": "display_data"
    }
   ],
   "source": [
    "fig = plt.figure(figsize = (10, 6))\n",
    "ax = fig.add_subplot(111)\n",
    "\n",
    "for p, ls in zip([0.3, 0.5, 0.7], linestyles):\n",
    "    rv = stats.binom(n, p)\n",
    "    ax.plot(x_set, rv.pmf(x_set),\n",
    "            label = f'p : {bp}', ls = ls, color = 'gray')\n",
    "    \n",
    "ax.set_xticks(x_set)\n",
    "ax.legend()\n",
    "\n",
    "plt.show()"
   ]
  },
  {
   "cell_type": "markdown",
   "metadata": {},
   "source": [
    "- p가 커질수록, 정상이 되는 값이 증가\n",
    "- $p = 0.5$일 때 좌우대칭 형태로 분포\n",
    "- **$p = 0.3$과 $p = 0.7$이 대칭 관계에 있음**"
   ]
  },
  {
   "cell_type": "markdown",
   "metadata": {},
   "source": [
    "## \n",
    "## 기하분포 : 베르누이 시행에서 처음 성공할 대까지 반복한 시행 횟수가 다르는 분포\n",
    "- 첫 번째 성공 시 연달아 실패할 수도 있기에, 확률변수가 취할 수 잇는 값은 1 이상인 정수 전체 $\\{1, 2, ... \\}$\n",
    "- $p$ : 성공확률  $ \\;\\;\\; (0 \\leq p \\leq 1$)\n",
    "\n",
    "\n",
    "|  |  |\n",
    "| -- | -- |\n",
    "| **파라미터** | p |\n",
    "| **취할 수 있는 값** | \\{1,2, 3 ...\\} |\n",
    "| **확률함수** | $$(1-p)^{x-1} p$$ |\n",
    "| **기댓값** | ${1 \\over p}$ |\n",
    "| **분산** | ${{(1-p)} \\over p^2}$ |\n",
    "| **scipy.stats** | geom(p) |\n",
    "\n",
    "#### \n",
    "#### 기하분포의 확률함수\n",
    "\n",
    "### $f(x) =$\n",
    "$\\begin{cases}\n",
    "(1-p)^{x-1}p \\;\\;if\\; (x \\in \\{1,2, 3 ...\\})\\\\\n",
    "0,\\;\\;if \\; (otherwise)\n",
    "\\end{cases}$\n",
    "\n",
    "### \n",
    "#### 동전을 다섯 번째 던졌을 때 처음으로 앞면이 나오는 확률\n",
    "### $X \\sim Ge({1 \\over 2})$\n",
    "### $P(X = 5) = (1 - {1 \\over 2})^2 \\times ({1 \\over 2}) = {1 \\over 32}$\n",
    "\n",
    "#### 주사위를 세 번째 굴렸을 때 처음으로 6이 낭는 확률\n",
    "### $X \\sim Ge({1 \\over 6})$\n",
    "### $P(X = 3) = (1 - {1 \\over 6})^2 \\times ({1 \\over 6}) = {25 \\over 216}$\n",
    "\n",
    "### \n",
    "#### 기하분포의 기댓값과 분산\n",
    "### $E(X) = {1 \\over p} \\;\\;\\;\\;\\;\\;\\; V(X) = {{(1-p)} \\over {p^2}}$"
   ]
  },
  {
   "cell_type": "code",
   "execution_count": 50,
   "metadata": {
    "ExecuteTime": {
     "end_time": "2018-08-11T04:29:52.928098Z",
     "start_time": "2018-08-11T04:29:52.924337Z"
    }
   },
   "outputs": [],
   "source": [
    "def Ge(p):\n",
    "    x_set = np.arange(1, 30)\n",
    "    def f(x):\n",
    "        if x in x_set:\n",
    "            return p * (1-p) ** (x-1)\n",
    "        else:\n",
    "            return 0\n",
    "    return x_set, f"
   ]
  },
  {
   "cell_type": "code",
   "execution_count": 51,
   "metadata": {
    "ExecuteTime": {
     "end_time": "2018-08-11T04:29:52.932565Z",
     "start_time": "2018-08-11T04:29:52.929113Z"
    }
   },
   "outputs": [
    {
     "data": {
      "text/plain": [
       "(array([ 1,  2,  3,  4,  5,  6,  7,  8,  9, 10, 11, 12, 13, 14, 15, 16, 17,\n",
       "        18, 19, 20, 21, 22, 23, 24, 25, 26, 27, 28, 29]),\n",
       " <function __main__.Ge.<locals>.f(x)>)"
      ]
     },
     "execution_count": 51,
     "metadata": {},
     "output_type": "execute_result"
    }
   ],
   "source": [
    "p = 0.5\n",
    "X = Ge(p)\n",
    "X"
   ]
  },
  {
   "cell_type": "code",
   "execution_count": 52,
   "metadata": {
    "ExecuteTime": {
     "end_time": "2018-08-11T04:29:52.937365Z",
     "start_time": "2018-08-11T04:29:52.933564Z"
    }
   },
   "outputs": [
    {
     "name": "stdout",
     "output_type": "stream",
     "text": [
      "expected value 2.0\n",
      "variance 2.0\n"
     ]
    }
   ],
   "source": [
    "check_prob(X)"
   ]
  },
  {
   "cell_type": "code",
   "execution_count": 53,
   "metadata": {
    "ExecuteTime": {
     "end_time": "2018-08-11T04:29:53.147060Z",
     "start_time": "2018-08-11T04:29:52.938358Z"
    },
    "scrolled": false
   },
   "outputs": [
    {
     "data": {
      "image/png": "[encoded data removed]",
      "text/plain": [
       "<Figure size 720x432 with 1 Axes>"
      ]
     },
     "metadata": {
      "needs_background": "light"
     },
     "output_type": "display_data"
    }
   ],
   "source": [
    "plot_prob(X)"
   ]
  },
  {
   "cell_type": "markdown",
   "metadata": {},
   "source": [
    "- 확률변수의 값이 커질수록 확률은 지수적으로 감소\n",
    "- 11이상인 값을 취하는 확률은 거의 0이 됨"
   ]
  },
  {
   "cell_type": "markdown",
   "metadata": {},
   "source": [
    "### \n",
    "### ```stats.geom(p)```"
   ]
  },
  {
   "cell_type": "code",
   "execution_count": 55,
   "metadata": {
    "ExecuteTime": {
     "end_time": "2018-08-11T04:29:53.283740Z",
     "start_time": "2018-08-11T04:29:53.148140Z"
    },
    "scrolled": false
   },
   "outputs": [
    {
     "data": {
      "image/png": "[encoded data removed]",
      "text/plain": [
       "<Figure size 720x432 with 1 Axes>"
      ]
     },
     "metadata": {
      "needs_background": "light"
     },
     "output_type": "display_data"
    }
   ],
   "source": [
    "fig = plt.figure(figsize = (10, 6))\n",
    "ax = fig.add_subplot(111)\n",
    "\n",
    "x_set = np.arange(1, 15)\n",
    "for p, ls in zip([0.2, 0.5, 0.8], linestyles):\n",
    "    rv = stats.geom(p)\n",
    "    ax.plot(x_set, rv.pmf(x_set),\n",
    "            label = f'p : {p}', ls = ls, color = 'gray')\n",
    "\n",
    "ax.set_xticks(x_set)\n",
    "ax.legend()\n",
    "\n",
    "plt.show()"
   ]
  },
  {
   "cell_type": "markdown",
   "metadata": {},
   "source": [
    "- **파라미터 $p$가 무엇이든지, 값이 커질수록 확률이 지수적으로 감소하는 분포**"
   ]
  },
  {
   "cell_type": "markdown",
   "metadata": {},
   "source": [
    "## \n",
    "## 포아송분포 : 임의의 사건이 단위 시간당 발생하는 건수가 따르는 확률 분포\n",
    "- 발생하는 건수의 확률분포이므로, 확률변수가 취할 수 잇는 값은 $\\{0, 1, 2, ... \\}$\n",
    "- $\\lambda$ : 포아송 분포의 파라미터 $\\;\\; (\\lambda > 0)$\n",
    "\n",
    "|  |  |\n",
    "| -- | -- |\n",
    "| **파라미터** | \\lambda |\n",
    "| **취할 수 있는 값** | \\{0, 1,2, ...\\} |\n",
    "| **확률함수** | $${{\\lambda^x} \\over {x!}} e^{-\\lambda}$$ |\n",
    "| **기댓값** | $\\lambda$ |\n",
    "| **분산** | $\\lambda$ |\n",
    "| **scipy.stats** | poisson(p) |\n",
    "\n",
    "#### \n",
    "#### 포아송분포의 확률함수\n",
    "\n",
    "### $f(x) =$\n",
    "$\\begin{cases}\n",
    "{{\\lambda^x} \\over {x!}} e^{-\\lambda} \\;\\;if\\; (x \\in \\{0, 1,2, 3 ...\\})\\\\\n",
    "0,\\;\\;if \\; (otherwise)\n",
    "\\end{cases}$\n",
    "\n",
    "### \n",
    "#### 하루에 평균 2건의 교통사고가 발생하는 지역에서, 하루에 교통사고가 한 건도 일어나지 않을 확률\n",
    "### $X \\sim Poi(2)$\n",
    "### $P(X = 0) = {{2^0} \\over {0!}} e^{-2}$\n",
    "\n",
    "#### 한 시간에 평균 10번 액세스 하는 사이트에서, 한 시간에 정확하게 15건 발생할 확률\n",
    "### $X \\sim Poi(10)$\n",
    "### $P(X = 15) = {{10^16} \\over {15!}} e^{-10}$\n",
    "\n",
    "### \n",
    "#### 기하분포의 기댓값과 분산\n",
    "### $E(X) = \\lambda \\;\\;\\;\\;\\;\\;\\; V(X) = \\lambda$"
   ]
  },
  {
   "cell_type": "markdown",
   "metadata": {},
   "source": [
    "### \n",
    "### ```scipy.special```\n",
    "### ```factorial(x)``` : $x!$"
   ]
  },
  {
   "cell_type": "code",
   "execution_count": 60,
   "metadata": {},
   "outputs": [],
   "source": [
    "from scipy.special import factorial"
   ]
  },
  {
   "cell_type": "code",
   "execution_count": 61,
   "metadata": {
    "ExecuteTime": {
     "end_time": "2018-08-11T04:29:53.289297Z",
     "start_time": "2018-08-11T04:29:53.284830Z"
    }
   },
   "outputs": [],
   "source": [
    "def Poi(lam):\n",
    "    x_set = np.arange(20)\n",
    "    def f(x):\n",
    "        if x in x_set:\n",
    "            return np.power(lam, x) / factorial(x) * np.exp(-lam)\n",
    "        else:\n",
    "            return 0\n",
    "    return x_set, f"
   ]
  },
  {
   "cell_type": "code",
   "execution_count": 57,
   "metadata": {
    "ExecuteTime": {
     "end_time": "2018-08-11T04:29:53.295486Z",
     "start_time": "2018-08-11T04:29:53.290292Z"
    }
   },
   "outputs": [],
   "source": [
    "lam = 3\n",
    "X = Poi(lam)"
   ]
  },
  {
   "cell_type": "code",
   "execution_count": 58,
   "metadata": {
    "ExecuteTime": {
     "end_time": "2018-08-11T04:29:53.302299Z",
     "start_time": "2018-08-11T04:29:53.296503Z"
    }
   },
   "outputs": [
    {
     "name": "stdout",
     "output_type": "stream",
     "text": [
      "expected value 3.0\n",
      "variance 3.0\n"
     ]
    }
   ],
   "source": [
    "check_prob(X)"
   ]
  },
  {
   "cell_type": "code",
   "execution_count": 64,
   "metadata": {
    "ExecuteTime": {
     "end_time": "2018-08-11T04:29:53.451672Z",
     "start_time": "2018-08-11T04:29:53.303359Z"
    },
    "scrolled": true
   },
   "outputs": [
    {
     "data": {
      "image/png": "[encoded data removed]",
      "text/plain": [
       "<Figure size 720x432 with 1 Axes>"
      ]
     },
     "metadata": {
      "needs_background": "light"
     },
     "output_type": "display_data"
    }
   ],
   "source": [
    "plot_prob(X)"
   ]
  },
  {
   "cell_type": "markdown",
   "metadata": {},
   "source": [
    "- **기댓값 $\\lambda$가 정상이 되는 산의 형태**"
   ]
  },
  {
   "cell_type": "markdown",
   "metadata": {},
   "source": [
    "### \n",
    "### ```stats.poisson(lambda)```"
   ]
  },
  {
   "cell_type": "code",
   "execution_count": 62,
   "metadata": {},
   "outputs": [],
   "source": [
    "x_set = np.arange(20)"
   ]
  },
  {
   "cell_type": "code",
   "execution_count": 63,
   "metadata": {
    "ExecuteTime": {
     "end_time": "2018-08-11T04:29:53.580909Z",
     "start_time": "2018-08-11T04:29:53.453029Z"
    }
   },
   "outputs": [
    {
     "data": {
      "image/png": "[encoded data removed]",
      "text/plain": [
       "<Figure size 720x432 with 1 Axes>"
      ]
     },
     "metadata": {
      "needs_background": "light"
     },
     "output_type": "display_data"
    }
   ],
   "source": [
    "fig = plt.figure(figsize = (10, 6))\n",
    "ax = fig.add_subplot(111)\n",
    "\n",
    "for lam, ls in zip([3, 5, 8], linestyles):\n",
    "    rv = stats.poisson(lam)\n",
    "    ax.plot(x_set, rv.pmf(x_set),\n",
    "            label=f'lam : {lam}', ls = ls, color = 'gray')\n",
    "\n",
    "    ax.set_xticks(x_set)\n",
    "ax.legend()\n",
    "\n",
    "plt.show()"
   ]
  },
  {
   "cell_type": "markdown",
   "metadata": {},
   "source": [
    "- **어떠한 파라미터라도 분포의 정상에는 $\\lambda$가 있고, $\\lambda$가 커질수록 경사면이 더욱 완만해짐**"
   ]
  }
 ],
 "metadata": {
  "kernelspec": {
   "display_name": "Python 3 (ipykernel)",
   "language": "python",
   "name": "python3"
  },
  "language_info": {
   "codemirror_mode": {
    "name": "ipython",
    "version": 3
   },
   "file_extension": ".py",
   "mimetype": "text/x-python",
   "name": "python",
   "nbconvert_exporter": "python",
   "pygments_lexer": "ipython3",
   "version": "3.9.7"
  },
  "toc": {
   "nav_menu": {},
   "number_sections": true,
   "sideBar": true,
   "skip_h1_title": false,
   "toc_cell": false,
   "toc_position": {},
   "toc_section_display": "block",
   "toc_window_display": false
  }
 },
 "nbformat": 4,
 "nbformat_minor": 2
}
