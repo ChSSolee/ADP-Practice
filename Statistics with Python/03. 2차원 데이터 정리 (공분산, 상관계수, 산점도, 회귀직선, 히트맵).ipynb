{
 "cells": [
  {
   "cell_type": "markdown",
   "metadata": {},
   "source": [
    "# 2차원 데이터의 정리"
   ]
  },
  {
   "cell_type": "code",
   "execution_count": 2,
   "metadata": {
    "ExecuteTime": {
     "end_time": "2018-08-14T06:40:19.527554Z",
     "start_time": "2018-08-14T06:40:19.362974Z"
    }
   },
   "outputs": [
    {
     "data": {
      "text/plain": [
       "'%.3f'"
      ]
     },
     "execution_count": 2,
     "metadata": {},
     "output_type": "execute_result"
    }
   ],
   "source": [
    "import numpy as np\n",
    "import pandas as pd\n",
    "\n",
    "%precision 3"
   ]
  },
  {
   "cell_type": "code",
   "execution_count": 10,
   "metadata": {
    "ExecuteTime": {
     "end_time": "2018-08-14T06:40:19.532933Z",
     "start_time": "2018-08-14T06:40:19.528592Z"
    }
   },
   "outputs": [
    {
     "data": {
      "text/plain": [
       "((50, 2),\n",
       "                 english  mathematics\n",
       " student number                      \n",
       " 1                    42           65\n",
       " 2                    69           80\n",
       " 3                    56           63\n",
       " 4                    41           63\n",
       " 5                    57           76)"
      ]
     },
     "execution_count": 10,
     "metadata": {},
     "output_type": "execute_result"
    }
   ],
   "source": [
    "df = pd.read_csv('python_stat_sample-master/data/ch2_scores_em.csv',\n",
    "                 index_col = 'student number')\n",
    "df.shape, df.head(), "
   ]
  },
  {
   "cell_type": "code",
   "execution_count": 6,
   "metadata": {
    "ExecuteTime": {
     "end_time": "2018-08-14T06:40:19.544111Z",
     "start_time": "2018-08-14T06:40:19.534006Z"
    }
   },
   "outputs": [],
   "source": [
    "en_scores = np.array(df['english'])[:10]\n",
    "ma_scores = np.array(df['mathematics'])[:10]"
   ]
  },
  {
   "cell_type": "code",
   "execution_count": 7,
   "metadata": {},
   "outputs": [
    {
     "data": {
      "text/html": [
       "<div>\n",
       "<style scoped>\n",
       "    .dataframe tbody tr th:only-of-type {\n",
       "        vertical-align: middle;\n",
       "    }\n",
       "\n",
       "    .dataframe tbody tr th {\n",
       "        vertical-align: top;\n",
       "    }\n",
       "\n",
       "    .dataframe thead th {\n",
       "        text-align: right;\n",
       "    }\n",
       "</style>\n",
       "<table border=\"1\" class=\"dataframe\">\n",
       "  <thead>\n",
       "    <tr style=\"text-align: right;\">\n",
       "      <th></th>\n",
       "      <th>english</th>\n",
       "      <th>mathematics</th>\n",
       "    </tr>\n",
       "    <tr>\n",
       "      <th>student</th>\n",
       "      <th></th>\n",
       "      <th></th>\n",
       "    </tr>\n",
       "  </thead>\n",
       "  <tbody>\n",
       "    <tr>\n",
       "      <th>A</th>\n",
       "      <td>42</td>\n",
       "      <td>65</td>\n",
       "    </tr>\n",
       "    <tr>\n",
       "      <th>B</th>\n",
       "      <td>69</td>\n",
       "      <td>80</td>\n",
       "    </tr>\n",
       "    <tr>\n",
       "      <th>C</th>\n",
       "      <td>56</td>\n",
       "      <td>63</td>\n",
       "    </tr>\n",
       "    <tr>\n",
       "      <th>D</th>\n",
       "      <td>41</td>\n",
       "      <td>63</td>\n",
       "    </tr>\n",
       "    <tr>\n",
       "      <th>E</th>\n",
       "      <td>57</td>\n",
       "      <td>76</td>\n",
       "    </tr>\n",
       "  </tbody>\n",
       "</table>\n",
       "</div>"
      ],
      "text/plain": [
       "         english  mathematics\n",
       "student                      \n",
       "A             42           65\n",
       "B             69           80\n",
       "C             56           63\n",
       "D             41           63\n",
       "E             57           76"
      ]
     },
     "execution_count": 7,
     "metadata": {},
     "output_type": "execute_result"
    }
   ],
   "source": [
    "scores_df = pd.DataFrame({'english' : en_scores,\n",
    "                          'mathematics' : ma_scores},\n",
    "                         index = pd.Index(['A', 'B', 'C', 'D', 'E',\n",
    "                                           'F', 'G', 'H', 'I', 'J'],\n",
    "                                          name = 'student'))\n",
    "scores_df.head()"
   ]
  },
  {
   "cell_type": "markdown",
   "metadata": {},
   "source": [
    "### \n",
    "### 두 데이터 사이의 관계를 나타내는 지표\n",
    "- A가 높을수록 B가 높은 경향이 있다면, A와 B는 **양의 상관**\n",
    "- A가 높을수록 B가 낮은 경향이 있다면, A와 B는 **음의 상관**\n",
    "- 어느쪽도 해당하지 않을때, **무상관**\n",
    "\n",
    "### 공분산 : 양의 상관관계에 있다고 생각되는 데이터의 관계성을 수치화\n",
    "\n",
    "### $S_{xy} $ \n",
    "### $ =  {1 \\over n} \\displaystyle\\sum_{i=1}^{n}{(x_i - \\bar{x})^2 (y_i - \\bar{y})^2} $\n",
    "### $ = {1 \\over n}[(x_1 - \\bar{x})(y_1 - \\bar{y}) + (x_2 - \\bar{x})(y_2 - \\bar{y}) + ... (x_n - \\bar{x})(y_n - \\bar{y})]$\n",
    "\n",
    "\n",
    "- 직사각형의 가로 / 세로 길이는 각 점수의 편차\n",
    "- **공분산이 분산과 다른 점은, 가로축과 세로축의 데이터가 다르기 때문에 편차들로 만든 도형이 직사각형이 될 뿐만 아니라 음의 면적도 얻을 수 있다는 점**\n",
    "- **공분산에서는 가로와 세로의 데이터가 다르므로, 한쪽은 편차가 양의 값, 다른 한쪽은 편차가 음의 값인 경우에 면적이 음의 값이 됨**\n",
    "\n",
    "#### 즉, '부호를 붙인 면적'이라는 관점에서, 면적이 양의 값이 되는 것은 두 점수가 모두 평균 점수보다 높거나 낮은 경우이기 때문에, 점수의 상관관계를 표현\n",
    "#### 부호를 붙인 면적의 평균은 상관의 지표 => 공분산"
   ]
  },
  {
   "cell_type": "markdown",
   "metadata": {},
   "source": [
    "<img src = \"data:image/png;base64,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\">"
   ]
  },
  {
   "cell_type": "markdown",
   "metadata": {},
   "source": [
    "### \n",
    "#### 공분산 계산"
   ]
  },
  {
   "cell_type": "code",
   "execution_count": 4,
   "metadata": {
    "ExecuteTime": {
     "end_time": "2018-08-14T06:40:19.566635Z",
     "start_time": "2018-08-14T06:40:19.545215Z"
    }
   },
   "outputs": [
    {
     "data": {
      "text/html": [
       "<div>\n",
       "<style scoped>\n",
       "    .dataframe tbody tr th:only-of-type {\n",
       "        vertical-align: middle;\n",
       "    }\n",
       "\n",
       "    .dataframe tbody tr th {\n",
       "        vertical-align: top;\n",
       "    }\n",
       "\n",
       "    .dataframe thead th {\n",
       "        text-align: right;\n",
       "    }\n",
       "</style>\n",
       "<table border=\"1\" class=\"dataframe\">\n",
       "  <thead>\n",
       "    <tr style=\"text-align: right;\">\n",
       "      <th></th>\n",
       "      <th>english</th>\n",
       "      <th>mathematics</th>\n",
       "      <th>english_deviation</th>\n",
       "      <th>mathematics_deviation</th>\n",
       "      <th>product of deviations</th>\n",
       "    </tr>\n",
       "    <tr>\n",
       "      <th>student</th>\n",
       "      <th></th>\n",
       "      <th></th>\n",
       "      <th></th>\n",
       "      <th></th>\n",
       "      <th></th>\n",
       "    </tr>\n",
       "  </thead>\n",
       "  <tbody>\n",
       "    <tr>\n",
       "      <td>A</td>\n",
       "      <td>42</td>\n",
       "      <td>65</td>\n",
       "      <td>-13.0</td>\n",
       "      <td>-6.4</td>\n",
       "      <td>83.2</td>\n",
       "    </tr>\n",
       "    <tr>\n",
       "      <td>B</td>\n",
       "      <td>69</td>\n",
       "      <td>80</td>\n",
       "      <td>14.0</td>\n",
       "      <td>8.6</td>\n",
       "      <td>120.4</td>\n",
       "    </tr>\n",
       "    <tr>\n",
       "      <td>C</td>\n",
       "      <td>56</td>\n",
       "      <td>63</td>\n",
       "      <td>1.0</td>\n",
       "      <td>-8.4</td>\n",
       "      <td>-8.4</td>\n",
       "    </tr>\n",
       "    <tr>\n",
       "      <td>D</td>\n",
       "      <td>41</td>\n",
       "      <td>63</td>\n",
       "      <td>-14.0</td>\n",
       "      <td>-8.4</td>\n",
       "      <td>117.6</td>\n",
       "    </tr>\n",
       "    <tr>\n",
       "      <td>E</td>\n",
       "      <td>57</td>\n",
       "      <td>76</td>\n",
       "      <td>2.0</td>\n",
       "      <td>4.6</td>\n",
       "      <td>9.2</td>\n",
       "    </tr>\n",
       "    <tr>\n",
       "      <td>F</td>\n",
       "      <td>48</td>\n",
       "      <td>60</td>\n",
       "      <td>-7.0</td>\n",
       "      <td>-11.4</td>\n",
       "      <td>79.8</td>\n",
       "    </tr>\n",
       "    <tr>\n",
       "      <td>G</td>\n",
       "      <td>65</td>\n",
       "      <td>81</td>\n",
       "      <td>10.0</td>\n",
       "      <td>9.6</td>\n",
       "      <td>96.0</td>\n",
       "    </tr>\n",
       "    <tr>\n",
       "      <td>H</td>\n",
       "      <td>49</td>\n",
       "      <td>66</td>\n",
       "      <td>-6.0</td>\n",
       "      <td>-5.4</td>\n",
       "      <td>32.4</td>\n",
       "    </tr>\n",
       "    <tr>\n",
       "      <td>I</td>\n",
       "      <td>65</td>\n",
       "      <td>78</td>\n",
       "      <td>10.0</td>\n",
       "      <td>6.6</td>\n",
       "      <td>66.0</td>\n",
       "    </tr>\n",
       "    <tr>\n",
       "      <td>J</td>\n",
       "      <td>58</td>\n",
       "      <td>82</td>\n",
       "      <td>3.0</td>\n",
       "      <td>10.6</td>\n",
       "      <td>31.8</td>\n",
       "    </tr>\n",
       "  </tbody>\n",
       "</table>\n",
       "</div>"
      ],
      "text/plain": [
       "         english  mathematics  english_deviation  mathematics_deviation  \\\n",
       "student                                                                   \n",
       "A             42           65              -13.0                   -6.4   \n",
       "B             69           80               14.0                    8.6   \n",
       "C             56           63                1.0                   -8.4   \n",
       "D             41           63              -14.0                   -8.4   \n",
       "E             57           76                2.0                    4.6   \n",
       "F             48           60               -7.0                  -11.4   \n",
       "G             65           81               10.0                    9.6   \n",
       "H             49           66               -6.0                   -5.4   \n",
       "I             65           78               10.0                    6.6   \n",
       "J             58           82                3.0                   10.6   \n",
       "\n",
       "         product of deviations  \n",
       "student                         \n",
       "A                         83.2  \n",
       "B                        120.4  \n",
       "C                         -8.4  \n",
       "D                        117.6  \n",
       "E                          9.2  \n",
       "F                         79.8  \n",
       "G                         96.0  \n",
       "H                         32.4  \n",
       "I                         66.0  \n",
       "J                         31.8  "
      ]
     },
     "execution_count": 4,
     "metadata": {},
     "output_type": "execute_result"
    }
   ],
   "source": [
    "summary_df = scores_df.copy()\n",
    "summary_df['english_deviation'] =\\\n",
    "    summary_df['english'] - summary_df['english'].mean()\n",
    "\n",
    "summary_df['mathematics_deviation'] =\\\n",
    "    summary_df['mathematics'] - summary_df['mathematics'].mean()\n",
    "\n",
    "summary_df['product of deviations'] =\\\n",
    "    summary_df['english_deviation'] * summary_df['mathematics_deviation']\n",
    "\n",
    "summary_df"
   ]
  },
  {
   "cell_type": "code",
   "execution_count": 5,
   "metadata": {
    "ExecuteTime": {
     "end_time": "2018-08-14T06:40:19.570409Z",
     "start_time": "2018-08-14T06:40:19.567674Z"
    }
   },
   "outputs": [
    {
     "data": {
      "text/plain": [
       "62.800"
      ]
     },
     "execution_count": 5,
     "metadata": {},
     "output_type": "execute_result"
    }
   ],
   "source": [
    "summary_df['product of deviations'].mean()"
   ]
  },
  {
   "cell_type": "markdown",
   "metadata": {},
   "source": [
    "### ```np.cov()``` : 공분산 행렬 반환\n",
    "- 공분산 = 공분산 행렬의 대각원소\n",
    "- 대각원소를 제외한 원소들은 각 변수들의 분산"
   ]
  },
  {
   "cell_type": "code",
   "execution_count": 14,
   "metadata": {
    "ExecuteTime": {
     "end_time": "2018-08-14T06:40:19.575907Z",
     "start_time": "2018-08-14T06:40:19.571427Z"
    }
   },
   "outputs": [
    {
     "data": {
      "text/plain": [
       "(array([[86.  , 62.8 ],\n",
       "        [62.8 , 68.44]]),\n",
       " 62.800,\n",
       " 62.800)"
      ]
     },
     "execution_count": 14,
     "metadata": {},
     "output_type": "execute_result"
    }
   ],
   "source": [
    "cov_mat = np.cov(en_scores, ma_scores, ddof = 0)\n",
    "cov_mat, cov_mat[0, 1], cov_mat[1, 0]"
   ]
  },
  {
   "cell_type": "code",
   "execution_count": 13,
   "metadata": {
    "ExecuteTime": {
     "end_time": "2018-08-14T06:40:19.583685Z",
     "start_time": "2018-08-14T06:40:19.581281Z"
    },
    "scrolled": true
   },
   "outputs": [
    {
     "data": {
      "text/plain": [
       "(86.000, 68.440, 86.000, 68.440)"
      ]
     },
     "execution_count": 13,
     "metadata": {},
     "output_type": "execute_result"
    }
   ],
   "source": [
    "cov_mat[0, 0], cov_mat[1, 1], np.var(en_scores, ddof = 0), np.var(ma_scores, ddof = 0)"
   ]
  },
  {
   "cell_type": "markdown",
   "metadata": {},
   "source": [
    "### \n",
    "### 상관계수 : 단위에 의존하지 않는 상관관계를 나타내는 지표\n",
    "- **공분산은 각 데이터의 단위를 데이터를 곱한 것 => 공분산을 각 데이터의 표준편차로 나눔**\n",
    "\n",
    "### $r_{xy} = {S_{xy} \\over {S_x S_y}} $\n",
    "$= {1 \\over n} \\displaystyle\\sum_{i=1}^{n}{{(x_i - \\bar{x}) \\over S_x} {(y_i - \\bar{y}) \\over S_y}}$\n",
    "\n",
    "- -1 ~ +1 사이의 값을 가짐\n",
    "- 데이터가 양의 상관관계에 놓여 있을수록 1에 근점 / 음의 상관관게에 놓일수록 -1에 근점 / 무상관이면 0"
   ]
  },
  {
   "cell_type": "code",
   "execution_count": 15,
   "metadata": {
    "ExecuteTime": {
     "end_time": "2018-08-14T06:40:19.592372Z",
     "start_time": "2018-08-14T06:40:19.589231Z"
    }
   },
   "outputs": [
    {
     "data": {
      "text/plain": [
       "0.819"
      ]
     },
     "execution_count": 15,
     "metadata": {},
     "output_type": "execute_result"
    }
   ],
   "source": [
    "np.cov(en_scores, ma_scores, ddof = 0)[0, 1] / (np.std(en_scores) * np.std(ma_scores))"
   ]
  },
  {
   "cell_type": "markdown",
   "metadata": {},
   "source": [
    "### ```np.corrcoef()```, ```.corr()``` : 상관행렬 반환"
   ]
  },
  {
   "cell_type": "code",
   "execution_count": 16,
   "metadata": {
    "ExecuteTime": {
     "end_time": "2018-08-14T06:40:19.597039Z",
     "start_time": "2018-08-14T06:40:19.593315Z"
    }
   },
   "outputs": [
    {
     "data": {
      "text/plain": [
       "array([[1.   , 0.819],\n",
       "       [0.819, 1.   ]])"
      ]
     },
     "execution_count": 16,
     "metadata": {},
     "output_type": "execute_result"
    }
   ],
   "source": [
    "np.corrcoef(en_scores, ma_scores)"
   ]
  },
  {
   "cell_type": "code",
   "execution_count": 12,
   "metadata": {
    "ExecuteTime": {
     "end_time": "2018-08-14T06:40:19.602887Z",
     "start_time": "2018-08-14T06:40:19.598025Z"
    }
   },
   "outputs": [
    {
     "data": {
      "text/html": [
       "<div>\n",
       "<style scoped>\n",
       "    .dataframe tbody tr th:only-of-type {\n",
       "        vertical-align: middle;\n",
       "    }\n",
       "\n",
       "    .dataframe tbody tr th {\n",
       "        vertical-align: top;\n",
       "    }\n",
       "\n",
       "    .dataframe thead th {\n",
       "        text-align: right;\n",
       "    }\n",
       "</style>\n",
       "<table border=\"1\" class=\"dataframe\">\n",
       "  <thead>\n",
       "    <tr style=\"text-align: right;\">\n",
       "      <th></th>\n",
       "      <th>english</th>\n",
       "      <th>mathematics</th>\n",
       "    </tr>\n",
       "  </thead>\n",
       "  <tbody>\n",
       "    <tr>\n",
       "      <td>english</td>\n",
       "      <td>1.000</td>\n",
       "      <td>0.819</td>\n",
       "    </tr>\n",
       "    <tr>\n",
       "      <td>mathematics</td>\n",
       "      <td>0.819</td>\n",
       "      <td>1.000</td>\n",
       "    </tr>\n",
       "  </tbody>\n",
       "</table>\n",
       "</div>"
      ],
      "text/plain": [
       "             english  mathematics\n",
       "english        1.000        0.819\n",
       "mathematics    0.819        1.000"
      ]
     },
     "execution_count": 12,
     "metadata": {},
     "output_type": "execute_result"
    }
   ],
   "source": [
    "scores_df.corr()"
   ]
  },
  {
   "cell_type": "markdown",
   "metadata": {},
   "source": [
    "### \n",
    "## 2차원 데이터의 시각화"
   ]
  },
  {
   "cell_type": "markdown",
   "metadata": {},
   "source": [
    "### 산점도\n",
    "### ```ax.scatter(x, y)```"
   ]
  },
  {
   "cell_type": "code",
   "execution_count": 17,
   "metadata": {
    "ExecuteTime": {
     "end_time": "2018-08-14T06:40:19.675926Z",
     "start_time": "2018-08-14T06:40:19.603899Z"
    }
   },
   "outputs": [],
   "source": [
    "import matplotlib.pyplot as plt\n",
    "\n",
    "%matplotlib inline"
   ]
  },
  {
   "cell_type": "code",
   "execution_count": 18,
   "metadata": {},
   "outputs": [],
   "source": [
    "english_scores = np.array(df['english'])\n",
    "math_scores = np.array(df['mathematics'])"
   ]
  },
  {
   "cell_type": "code",
   "execution_count": 19,
   "metadata": {
    "ExecuteTime": {
     "end_time": "2018-08-14T06:40:19.805306Z",
     "start_time": "2018-08-14T06:40:19.677328Z"
    }
   },
   "outputs": [
    {
     "data": {
      "image/png": "[encoded data removed]",
      "text/plain": [
       "<Figure size 576x576 with 1 Axes>"
      ]
     },
     "metadata": {
      "needs_background": "light"
     },
     "output_type": "display_data"
    }
   ],
   "source": [
    "fig = plt.figure(figsize = (8, 8))\n",
    "ax = fig.add_subplot(111)\n",
    "\n",
    "ax.scatter(english_scores, math_scores)\n",
    "ax.set_xlabel('english')\n",
    "ax.set_ylabel('mathematics')\n",
    "\n",
    "plt.show()"
   ]
  },
  {
   "cell_type": "markdown",
   "metadata": {},
   "source": [
    "### \n",
    "### 회귀직선\n",
    "### ```np.polyfit(X, Y)```, ```np.poly1d(poly_fit)```"
   ]
  },
  {
   "cell_type": "markdown",
   "metadata": {},
   "source": [
    "- 계수$β_0$와 $β_1$를 구한다"
   ]
  },
  {
   "cell_type": "code",
   "execution_count": 22,
   "metadata": {},
   "outputs": [
    {
     "data": {
      "text/plain": [
       "array([ 0.621, 42.601])"
      ]
     },
     "execution_count": 22,
     "metadata": {},
     "output_type": "execute_result"
    }
   ],
   "source": [
    "poly_fit = np.polyfit(english_scores, math_scores, 1)\n",
    "poly_fit"
   ]
  },
  {
   "cell_type": "markdown",
   "metadata": {},
   "source": [
    "- $β_0$ + $β_{1 x}$를 반환하는 함수를 작성"
   ]
  },
  {
   "cell_type": "code",
   "execution_count": 23,
   "metadata": {},
   "outputs": [
    {
     "data": {
      "text/plain": [
       "(poly1d([ 0.621, 42.601]),)"
      ]
     },
     "execution_count": 23,
     "metadata": {},
     "output_type": "execute_result"
    }
   ],
   "source": [
    "poly_1d = np.poly1d(poly_fit),\n",
    "poly_1d"
   ]
  },
  {
   "cell_type": "markdown",
   "metadata": {},
   "source": [
    "- 직선을 그리기 위해 x좌표와 y좌표를 생성"
   ]
  },
  {
   "cell_type": "code",
   "execution_count": 34,
   "metadata": {},
   "outputs": [
    {
     "data": {
      "text/plain": [
       "(array([37.   , 37.857, 38.714, 39.571, 40.429, 41.286, 42.143, 43.   ,\n",
       "        43.857, 44.714, 45.571, 46.429, 47.286, 48.143, 49.   , 49.857,\n",
       "        50.714, 51.571, 52.429, 53.286, 54.143, 55.   , 55.857, 56.714,\n",
       "        57.571, 58.429, 59.286, 60.143, 61.   , 61.857, 62.714, 63.571,\n",
       "        64.429, 65.286, 66.143, 67.   , 67.857, 68.714, 69.571, 70.429,\n",
       "        71.286, 72.143, 73.   , 73.857, 74.714, 75.571, 76.429, 77.286,\n",
       "        78.143, 79.   ]),\n",
       " (50,),\n",
       " array([57.   , 57.755, 58.51 , 59.265, 60.02 , 60.776, 61.531, 62.286,\n",
       "        63.041, 63.796, 64.551, 65.306, 66.061, 66.816, 67.571, 68.327,\n",
       "        69.082, 69.837, 70.592, 71.347, 72.102, 72.857, 73.612, 74.367,\n",
       "        75.122, 75.878, 76.633, 77.388, 78.143, 78.898, 79.653, 80.408,\n",
       "        81.163, 81.918, 82.673, 83.429, 84.184, 84.939, 85.694, 86.449,\n",
       "        87.204, 87.959, 88.714, 89.469, 90.224, 90.98 , 91.735, 92.49 ,\n",
       "        93.245, 94.   ]),\n",
       " (50,))"
      ]
     },
     "execution_count": 34,
     "metadata": {},
     "output_type": "execute_result"
    }
   ],
   "source": [
    "xs = np.linspace(english_scores.min(), english_scores.max())\n",
    "ys = np.linspace(math_scores.min(), math_scores.max())\n",
    "xs, xs.shape, ys, ys.shape"
   ]
  },
  {
   "cell_type": "code",
   "execution_count": 32,
   "metadata": {
    "ExecuteTime": {
     "end_time": "2018-08-14T06:40:19.900171Z",
     "start_time": "2018-08-14T06:40:19.806854Z"
    }
   },
   "outputs": [
    {
     "data": {
      "image/png": "[encoded data removed]",
      "text/plain": [
       "<Figure size 576x576 with 1 Axes>"
      ]
     },
     "metadata": {
      "needs_background": "light"
     },
     "output_type": "display_data"
    }
   ],
   "source": [
    "fig = plt.figure(figsize = (8, 8))\n",
    "ax = fig.add_subplot(111)\n",
    "\n",
    "ax.set_xlabel('english')\n",
    "ax.set_ylabel('mathematics')\n",
    "\n",
    "ax.scatter(english_scores, math_scores, label = 'score')\n",
    "ax.plot(xs, ys, color = 'gray',\n",
    "        label = f'{poly_fit[1] : .2f} + {poly_fit[0] : .2f} x')\n",
    "\n",
    "ax.legend(loc = 'upper left') # 범례의 표시\n",
    "\n",
    "plt.show()"
   ]
  },
  {
   "cell_type": "markdown",
   "metadata": {},
   "source": [
    "### \n",
    "### 히트맵\n",
    "### ```ax.hist2d(x, y, bins, range)```\n",
    "- ```bins``` : 히트맵의 차원\n",
    "- ```range``` : 히트맵 각축의 범위, bins의 각 값들로 나눔"
   ]
  },
  {
   "cell_type": "code",
   "execution_count": 38,
   "metadata": {
    "ExecuteTime": {
     "end_time": "2018-08-14T06:40:20.028133Z",
     "start_time": "2018-08-14T06:40:19.901235Z"
    }
   },
   "outputs": [
    {
     "data": {
      "image/png": "[encoded data removed]",
      "text/plain": [
       "<Figure size 720x576 with 2 Axes>"
      ]
     },
     "metadata": {
      "needs_background": "light"
     },
     "output_type": "display_data"
    }
   ],
   "source": [
    "fig = plt.figure(figsize = (10, 8))\n",
    "ax = fig.add_subplot(111)\n",
    "\n",
    "# x축은 35 ~ 80까지 9개의 균등 간격 (5점 간격)\n",
    "# y축은 55 ~ 95까지 8개의 균등 간격 (5점 간격)\n",
    "c = ax.hist2d(english_scores, math_scores,\n",
    "              bins = [9, 8], range = [(35, 80), (55, 95)])\n",
    "\n",
    "ax.set_xlabel('english')\n",
    "ax.set_ylabel('mathematics')\n",
    "\n",
    "ax.set_xticks(c[1])\n",
    "ax.set_yticks(c[2])\n",
    "\n",
    "fig.colorbar(c[3], ax=ax) # 컬러 바의 표시\n",
    "\n",
    "plt.show()"
   ]
  },
  {
   "cell_type": "markdown",
   "metadata": {},
   "source": [
    "### \n",
    "## 앤스컴의\n",
    "- **동일한 지표를 가지고 있지만, 전혀 다른 데이터가 되는 예**\n",
    "- 분포나 그래프를 이용하여 전혀 다른 4개의 데이터 세트를 의미"
   ]
  },
  {
   "cell_type": "code",
   "execution_count": 39,
   "metadata": {
    "ExecuteTime": {
     "end_time": "2018-08-14T06:40:20.034280Z",
     "start_time": "2018-08-14T06:40:20.029676Z"
    },
    "scrolled": true
   },
   "outputs": [
    {
     "name": "stdout",
     "output_type": "stream",
     "text": [
      "(4, 11, 2)\n"
     ]
    },
    {
     "data": {
      "text/plain": [
       "array([[10.  ,  8.04],\n",
       "       [ 8.  ,  6.95],\n",
       "       [13.  ,  7.58],\n",
       "       [ 9.  ,  8.81],\n",
       "       [11.  ,  8.33],\n",
       "       [14.  ,  9.96],\n",
       "       [ 6.  ,  7.24],\n",
       "       [ 4.  ,  4.26],\n",
       "       [12.  , 10.84],\n",
       "       [ 7.  ,  4.82],\n",
       "       [ 5.  ,  5.68]])"
      ]
     },
     "execution_count": 39,
     "metadata": {},
     "output_type": "execute_result"
    }
   ],
   "source": [
    "anscombe_data = np.load('python_stat_sample-master/data/ch3_anscombe.npy')\n",
    "print(anscombe_data.shape)\n",
    "anscombe_data[0]"
   ]
  },
  {
   "cell_type": "markdown",
   "metadata": {},
   "source": [
    "#### 각 데이터의 평균, 분산, 상관계수, 회귀직선을 계산하여 DataFrame으로 정리"
   ]
  },
  {
   "cell_type": "code",
   "execution_count": 42,
   "metadata": {},
   "outputs": [],
   "source": [
    "stats_df = pd.DataFrame(index=['X_mean', 'X_variance', 'Y_mean',\n",
    "                               'Y_variance', 'X&Y_correlation',\n",
    "                               'X&Y_regression line'])"
   ]
  },
  {
   "cell_type": "code",
   "execution_count": 41,
   "metadata": {
    "ExecuteTime": {
     "end_time": "2018-08-14T06:40:20.052006Z",
     "start_time": "2018-08-14T06:40:20.035614Z"
    }
   },
   "outputs": [
    {
     "data": {
      "text/html": [
       "<div>\n",
       "<style scoped>\n",
       "    .dataframe tbody tr th:only-of-type {\n",
       "        vertical-align: middle;\n",
       "    }\n",
       "\n",
       "    .dataframe tbody tr th {\n",
       "        vertical-align: top;\n",
       "    }\n",
       "\n",
       "    .dataframe thead th {\n",
       "        text-align: right;\n",
       "    }\n",
       "</style>\n",
       "<table border=\"1\" class=\"dataframe\">\n",
       "  <thead>\n",
       "    <tr style=\"text-align: right;\">\n",
       "      <th></th>\n",
       "      <th>data1</th>\n",
       "      <th>data2</th>\n",
       "      <th>data3</th>\n",
       "      <th>data4</th>\n",
       "    </tr>\n",
       "  </thead>\n",
       "  <tbody>\n",
       "    <tr>\n",
       "      <th>X_mean</th>\n",
       "      <td>9.00</td>\n",
       "      <td>9.00</td>\n",
       "      <td>9.00</td>\n",
       "      <td>9.00</td>\n",
       "    </tr>\n",
       "    <tr>\n",
       "      <th>X_variance</th>\n",
       "      <td>10.00</td>\n",
       "      <td>10.00</td>\n",
       "      <td>10.00</td>\n",
       "      <td>10.00</td>\n",
       "    </tr>\n",
       "    <tr>\n",
       "      <th>Y_mean</th>\n",
       "      <td>7.50</td>\n",
       "      <td>7.50</td>\n",
       "      <td>7.50</td>\n",
       "      <td>7.50</td>\n",
       "    </tr>\n",
       "    <tr>\n",
       "      <th>Y_variance</th>\n",
       "      <td>3.75</td>\n",
       "      <td>3.75</td>\n",
       "      <td>3.75</td>\n",
       "      <td>3.75</td>\n",
       "    </tr>\n",
       "    <tr>\n",
       "      <th>X&amp;Y_correlation</th>\n",
       "      <td>0.82</td>\n",
       "      <td>0.82</td>\n",
       "      <td>0.82</td>\n",
       "      <td>0.82</td>\n",
       "    </tr>\n",
       "    <tr>\n",
       "      <th>X&amp;Y_regression line</th>\n",
       "      <td>3.00 +  0.50x</td>\n",
       "      <td>3.00 +  0.50x</td>\n",
       "      <td>3.00 +  0.50x</td>\n",
       "      <td>3.00 +  0.50x</td>\n",
       "    </tr>\n",
       "  </tbody>\n",
       "</table>\n",
       "</div>"
      ],
      "text/plain": [
       "                              data1           data2           data3  \\\n",
       "X_mean                         9.00            9.00            9.00   \n",
       "X_variance                    10.00           10.00           10.00   \n",
       "Y_mean                         7.50            7.50            7.50   \n",
       "Y_variance                     3.75            3.75            3.75   \n",
       "X&Y_correlation                0.82            0.82            0.82   \n",
       "X&Y_regression line   3.00 +  0.50x   3.00 +  0.50x   3.00 +  0.50x   \n",
       "\n",
       "                              data4  \n",
       "X_mean                         9.00  \n",
       "X_variance                    10.00  \n",
       "Y_mean                         7.50  \n",
       "Y_variance                     3.75  \n",
       "X&Y_correlation                0.82  \n",
       "X&Y_regression line   3.00 +  0.50x  "
      ]
     },
     "execution_count": 41,
     "metadata": {},
     "output_type": "execute_result"
    }
   ],
   "source": [
    "for i, data in enumerate(anscombe_data):\n",
    "    dataX = data[:, 0]\n",
    "    dataY = data[:, 1]\n",
    "    poly_fit = np.polyfit(dataX, dataY, 1)\n",
    "    stats_df[f'data{i + 1}'] =\\\n",
    "        [f'{np.mean(dataX) : .2f}',\n",
    "         f'{np.var(dataX) : .2f}',\n",
    "         f'{np.mean(dataY) : .2f}',\n",
    "         f'{np.var(dataY) : .2f}',\n",
    "         f'{np.corrcoef(dataX, dataY)[0, 1] : .2f}',\n",
    "         f'{poly_fit[1] : .2f} + {poly_fit[0] : .2f}x']\n",
    "stats_df"
   ]
  },
  {
   "cell_type": "markdown",
   "metadata": {},
   "source": [
    "- 모든 데이터가 평균부터 회귀직선 식까지 전부 일치\n",
    "- **결국 지표상으로 보면 네 가지 데이터는 모두 동일**"
   ]
  },
  {
   "cell_type": "markdown",
   "metadata": {},
   "source": [
    "### \n",
    "#### 산점도 생성"
   ]
  },
  {
   "cell_type": "code",
   "execution_count": 44,
   "metadata": {
    "ExecuteTime": {
     "end_time": "2018-08-14T06:40:20.368592Z",
     "start_time": "2018-08-14T06:40:20.053270Z"
    },
    "scrolled": false
   },
   "outputs": [
    {
     "data": {
      "image/png": "[encoded data removed]",
      "text/plain": [
       "<Figure size 720x720 with 4 Axes>"
      ]
     },
     "metadata": {
      "needs_background": "light"
     },
     "output_type": "display_data"
    }
   ],
   "source": [
    "# 그래프를 그리기 위한 영역을 2x2개 생성\n",
    "fig, axes = plt.subplots(nrows = 2, ncols = 2, figsize = (10, 10),\n",
    "                         sharex = True, sharey = True)\n",
    "\n",
    "xs = np.linspace(0, 30, 100)\n",
    "\n",
    "for i, data in enumerate(anscombe_data):\n",
    "    poly_fit = np.polyfit(data[:,0], data[:,1], 1)\n",
    "    poly_1d = np.poly1d(poly_fit)\n",
    "    ys = poly_1d(xs)\n",
    "    \n",
    "    # 그리는 영역을 선택\n",
    "    ax = axes[i // 2, i % 2]\n",
    "    ax.set_xlim([4, 20])\n",
    "    ax.set_ylim([3, 13])\n",
    "    \n",
    "    # 타이틀을 부여\n",
    "    ax.set_title(f'data{i + 1}')\n",
    "    ax.scatter(data[:,0], data[:,1])\n",
    "    ax.plot(xs, ys, color = 'gray')\n",
    "\n",
    "# 그래프 사이의 간격을 좁힘\n",
    "plt.tight_layout()\n",
    "plt.show()"
   ]
  }
 ],
 "metadata": {
  "kernelspec": {
   "display_name": "Python 3 (ipykernel)",
   "language": "python",
   "name": "python3"
  },
  "language_info": {
   "codemirror_mode": {
    "name": "ipython",
    "version": 3
   },
   "file_extension": ".py",
   "mimetype": "text/x-python",
   "name": "python",
   "nbconvert_exporter": "python",
   "pygments_lexer": "ipython3",
   "version": "3.9.7"
  },
  "toc": {
   "nav_menu": {},
   "number_sections": true,
   "sideBar": true,
   "skip_h1_title": false,
   "toc_cell": false,
   "toc_position": {},
   "toc_section_display": "block",
   "toc_window_display": false
  }
 },
 "nbformat": 4,
 "nbformat_minor": 2
}
