{
 "cells": [
  {
   "cell_type": "markdown",
   "id": "5d04e053",
   "metadata": {},
   "source": [
    "# 10. 그리드 서치\n",
    "- 무엇을 최적화해야 할지 알았으면 이제 파라미터를 최적화하는 방법에 대한 문제를 해결할 차례"
   ]
  },
  {
   "cell_type": "code",
   "execution_count": 2,
   "id": "3519d6d9",
   "metadata": {
    "scrolled": true,
    "vscode": {
     "languageId": "r"
    }
   },
   "outputs": [],
   "source": [
    "library(tidyverse)\n",
    "library(tidymodels)\n",
    "tidymodels_prefer()\n",
    "\n",
    "library(ggforce)\n",
    "library(av)\n",
    "library(lme4)\n",
    "data(cells)\n",
    "theme_set(theme_bw())"
   ]
  },
  {
   "cell_type": "markdown",
   "id": "d87e8cdb",
   "metadata": {},
   "source": [
    "<br>\n",
    "\n",
    "## 10.01. 정규 및 비정규 그리드\n",
    "- 그리드에는 두 가지 주요 유형이 존재 : \n",
    "    - **정규 그리드는 각 파라미터(해당 가능한 값 세트와)를 요인적으로 결합. 즉, 집합의 모든 조합을 사용**\n",
    "    - **비정규 그리드는 작은 점 집합으로 구성되지 않는 그리드**\n",
    "\n",
    "<br>\n",
    "\n",
    "#### 신경망 예시\n",
    "- 튜닝 가능한 파라미터\n",
    "    1. 은닉층\n",
    "    2. 모델 훈련의 적합 에포크\n",
    "        - 에포크 수는 조기 중지에 의해 결정\n",
    "\n",
    "    3. 가중치 감소 페널티 크기"
   ]
  },
  {
   "cell_type": "markdown",
   "id": "3b688f7e",
   "metadata": {},
   "source": [
    "<br>\n",
    "\n",
    "- 모델 정의\n",
    "    - `trace = 0` : 학습 프로세스의 추가 로깅 방지"
   ]
  },
  {
   "cell_type": "code",
   "execution_count": 4,
   "id": "052aebab",
   "metadata": {
    "vscode": {
     "languageId": "r"
    }
   },
   "outputs": [],
   "source": [
    "mlp_spec <- mlp(hidden_units = tune(), penalty = tune(), epochs = tune()) %>%\n",
    "    set_engine(\"nnet\", trace = 0) %>%\n",
    "    set_mode(\"classification\")"
   ]
  },
  {
   "cell_type": "code",
   "execution_count": 5,
   "id": "002216f7",
   "metadata": {
    "vscode": {
     "languageId": "r"
    }
   },
   "outputs": [
    {
     "name": "stdout",
     "output_type": "stream",
     "text": [
      "Collection of 3 parameters for tuning\n",
      "\n",
      "   identifier         type    object\n",
      " hidden_units hidden_units nparam[+]\n",
      "      penalty      penalty nparam[+]\n",
      "       epochs       epochs nparam[+]\n",
      "\n"
     ]
    }
   ],
   "source": [
    "mlp_param <- extract_parameter_set_dials(mlp_spec)\n",
    "mlp_param %>% print"
   ]
  },
  {
   "cell_type": "code",
   "execution_count": 9,
   "id": "cbe791de",
   "metadata": {
    "vscode": {
     "languageId": "r"
    }
   },
   "outputs": [
    {
     "data": {
      "text/plain": [
       "# Hidden Units (quantitative)\n",
       "Range: [1, 10]"
      ]
     },
     "metadata": {},
     "output_type": "display_data"
    }
   ],
   "source": [
    "mlp_param %>% extract_parameter_dials(\"hidden_units\") "
   ]
  },
  {
   "cell_type": "code",
   "execution_count": 8,
   "id": "a5bed74b",
   "metadata": {
    "vscode": {
     "languageId": "r"
    }
   },
   "outputs": [
    {
     "data": {
      "text/plain": [
       "Amount of Regularization (quantitative)\n",
       "Transformer: log-10 [1e-100, Inf]\n",
       "Range (transformed scale): [-10, 0]"
      ]
     },
     "metadata": {},
     "output_type": "display_data"
    }
   ],
   "source": [
    "mlp_param %>% extract_parameter_dials(\"penalty\")"
   ]
  },
  {
   "cell_type": "code",
   "execution_count": 10,
   "id": "1b2d4f8e",
   "metadata": {
    "vscode": {
     "languageId": "r"
    }
   },
   "outputs": [
    {
     "data": {
      "text/plain": [
       "# Epochs (quantitative)\n",
       "Range: [10, 1000]"
      ]
     },
     "metadata": {},
     "output_type": "display_data"
    }
   ],
   "source": [
    "mlp_param %>% extract_parameter_dials(\"epochs\")"
   ]
  },
  {
   "cell_type": "markdown",
   "id": "673aee51",
   "metadata": {},
   "source": [
    "<br>\n",
    "\n",
    "### 정규 그리드\n",
    "- 정규 그리드는 개별 파라미터 값 세트의 조합\n",
    "\n",
    "#### ```crossing()```"
   ]
  },
  {
   "cell_type": "code",
   "execution_count": 11,
   "id": "b54f09f4",
   "metadata": {
    "vscode": {
     "languageId": "r"
    }
   },
   "outputs": [
    {
     "data": {
      "text/html": [
       "<table class=\"dataframe\">\n",
       "<caption>A tibble: 12 × 3</caption>\n",
       "<thead>\n",
       "\t<tr><th scope=col>hidden_units</th><th scope=col>penalty</th><th scope=col>epochs</th></tr>\n",
       "\t<tr><th scope=col>&lt;int&gt;</th><th scope=col>&lt;dbl&gt;</th><th scope=col>&lt;dbl&gt;</th></tr>\n",
       "</thead>\n",
       "<tbody>\n",
       "\t<tr><td>1</td><td>0.0</td><td>100</td></tr>\n",
       "\t<tr><td>1</td><td>0.0</td><td>200</td></tr>\n",
       "\t<tr><td>1</td><td>0.1</td><td>100</td></tr>\n",
       "\t<tr><td>1</td><td>0.1</td><td>200</td></tr>\n",
       "\t<tr><td>2</td><td>0.0</td><td>100</td></tr>\n",
       "\t<tr><td>2</td><td>0.0</td><td>200</td></tr>\n",
       "\t<tr><td>2</td><td>0.1</td><td>100</td></tr>\n",
       "\t<tr><td>2</td><td>0.1</td><td>200</td></tr>\n",
       "\t<tr><td>3</td><td>0.0</td><td>100</td></tr>\n",
       "\t<tr><td>3</td><td>0.0</td><td>200</td></tr>\n",
       "\t<tr><td>3</td><td>0.1</td><td>100</td></tr>\n",
       "\t<tr><td>3</td><td>0.1</td><td>200</td></tr>\n",
       "</tbody>\n",
       "</table>\n"
      ],
      "text/latex": [
       "A tibble: 12 × 3\n",
       "\\begin{tabular}{lll}\n",
       " hidden\\_units & penalty & epochs\\\\\n",
       " <int> & <dbl> & <dbl>\\\\\n",
       "\\hline\n",
       "\t 1 & 0.0 & 100\\\\\n",
       "\t 1 & 0.0 & 200\\\\\n",
       "\t 1 & 0.1 & 100\\\\\n",
       "\t 1 & 0.1 & 200\\\\\n",
       "\t 2 & 0.0 & 100\\\\\n",
       "\t 2 & 0.0 & 200\\\\\n",
       "\t 2 & 0.1 & 100\\\\\n",
       "\t 2 & 0.1 & 200\\\\\n",
       "\t 3 & 0.0 & 100\\\\\n",
       "\t 3 & 0.0 & 200\\\\\n",
       "\t 3 & 0.1 & 100\\\\\n",
       "\t 3 & 0.1 & 200\\\\\n",
       "\\end{tabular}\n"
      ],
      "text/markdown": [
       "\n",
       "A tibble: 12 × 3\n",
       "\n",
       "| hidden_units &lt;int&gt; | penalty &lt;dbl&gt; | epochs &lt;dbl&gt; |\n",
       "|---|---|---|\n",
       "| 1 | 0.0 | 100 |\n",
       "| 1 | 0.0 | 200 |\n",
       "| 1 | 0.1 | 100 |\n",
       "| 1 | 0.1 | 200 |\n",
       "| 2 | 0.0 | 100 |\n",
       "| 2 | 0.0 | 200 |\n",
       "| 2 | 0.1 | 100 |\n",
       "| 2 | 0.1 | 200 |\n",
       "| 3 | 0.0 | 100 |\n",
       "| 3 | 0.0 | 200 |\n",
       "| 3 | 0.1 | 100 |\n",
       "| 3 | 0.1 | 200 |\n",
       "\n"
      ],
      "text/plain": [
       "   hidden_units penalty epochs\n",
       "1  1            0.0     100   \n",
       "2  1            0.0     200   \n",
       "3  1            0.1     100   \n",
       "4  1            0.1     200   \n",
       "5  2            0.0     100   \n",
       "6  2            0.0     200   \n",
       "7  2            0.1     100   \n",
       "8  2            0.1     200   \n",
       "9  3            0.0     100   \n",
       "10 3            0.0     200   \n",
       "11 3            0.1     100   \n",
       "12 3            0.1     200   "
      ]
     },
     "metadata": {},
     "output_type": "display_data"
    }
   ],
   "source": [
    "crossing(hidden_units = 1:3,\n",
    "         penalty = c(0.0, 0.1),\n",
    "         epochs = c(100, 200)) "
   ]
  },
  {
   "cell_type": "markdown",
   "id": "ecdc2368",
   "metadata": {},
   "source": [
    "<br>\n",
    "\n",
    "#### ```grid0_regular()```\n",
    "- `levels` : 파라미터당 level 수"
   ]
  },
  {
   "cell_type": "markdown",
   "id": "061e368d",
   "metadata": {},
   "source": [
    "<br>\n",
    "\n",
    "- 은닉층 `hidden_units` 파라미터 범위를 3개\n",
    "    \n",
    "    에포크 `epochs` 파라미터 범위를 2개\n",
    "    \n",
    "    가중치 감소 페널티 `penalty` 파라미터 범위를 2개"
   ]
  },
  {
   "cell_type": "code",
   "execution_count": 15,
   "id": "a8438aca",
   "metadata": {
    "vscode": {
     "languageId": "r"
    }
   },
   "outputs": [
    {
     "data": {
      "text/html": [
       "<table class=\"dataframe\">\n",
       "<caption>A tibble: 12 × 3</caption>\n",
       "<thead>\n",
       "\t<tr><th scope=col>hidden_units</th><th scope=col>penalty</th><th scope=col>epochs</th></tr>\n",
       "\t<tr><th scope=col>&lt;int&gt;</th><th scope=col>&lt;dbl&gt;</th><th scope=col>&lt;int&gt;</th></tr>\n",
       "</thead>\n",
       "<tbody>\n",
       "\t<tr><td> 1</td><td>1e-10</td><td>  10</td></tr>\n",
       "\t<tr><td> 5</td><td>1e-10</td><td>  10</td></tr>\n",
       "\t<tr><td>10</td><td>1e-10</td><td>  10</td></tr>\n",
       "\t<tr><td> 1</td><td>1e+00</td><td>  10</td></tr>\n",
       "\t<tr><td> 5</td><td>1e+00</td><td>  10</td></tr>\n",
       "\t<tr><td>10</td><td>1e+00</td><td>  10</td></tr>\n",
       "\t<tr><td> 1</td><td>1e-10</td><td>1000</td></tr>\n",
       "\t<tr><td> 5</td><td>1e-10</td><td>1000</td></tr>\n",
       "\t<tr><td>10</td><td>1e-10</td><td>1000</td></tr>\n",
       "\t<tr><td> 1</td><td>1e+00</td><td>1000</td></tr>\n",
       "\t<tr><td> 5</td><td>1e+00</td><td>1000</td></tr>\n",
       "\t<tr><td>10</td><td>1e+00</td><td>1000</td></tr>\n",
       "</tbody>\n",
       "</table>\n"
      ],
      "text/latex": [
       "A tibble: 12 × 3\n",
       "\\begin{tabular}{lll}\n",
       " hidden\\_units & penalty & epochs\\\\\n",
       " <int> & <dbl> & <int>\\\\\n",
       "\\hline\n",
       "\t  1 & 1e-10 &   10\\\\\n",
       "\t  5 & 1e-10 &   10\\\\\n",
       "\t 10 & 1e-10 &   10\\\\\n",
       "\t  1 & 1e+00 &   10\\\\\n",
       "\t  5 & 1e+00 &   10\\\\\n",
       "\t 10 & 1e+00 &   10\\\\\n",
       "\t  1 & 1e-10 & 1000\\\\\n",
       "\t  5 & 1e-10 & 1000\\\\\n",
       "\t 10 & 1e-10 & 1000\\\\\n",
       "\t  1 & 1e+00 & 1000\\\\\n",
       "\t  5 & 1e+00 & 1000\\\\\n",
       "\t 10 & 1e+00 & 1000\\\\\n",
       "\\end{tabular}\n"
      ],
      "text/markdown": [
       "\n",
       "A tibble: 12 × 3\n",
       "\n",
       "| hidden_units &lt;int&gt; | penalty &lt;dbl&gt; | epochs &lt;int&gt; |\n",
       "|---|---|---|\n",
       "|  1 | 1e-10 |   10 |\n",
       "|  5 | 1e-10 |   10 |\n",
       "| 10 | 1e-10 |   10 |\n",
       "|  1 | 1e+00 |   10 |\n",
       "|  5 | 1e+00 |   10 |\n",
       "| 10 | 1e+00 |   10 |\n",
       "|  1 | 1e-10 | 1000 |\n",
       "|  5 | 1e-10 | 1000 |\n",
       "| 10 | 1e-10 | 1000 |\n",
       "|  1 | 1e+00 | 1000 |\n",
       "|  5 | 1e+00 | 1000 |\n",
       "| 10 | 1e+00 | 1000 |\n",
       "\n"
      ],
      "text/plain": [
       "   hidden_units penalty epochs\n",
       "1   1           1e-10     10  \n",
       "2   5           1e-10     10  \n",
       "3  10           1e-10     10  \n",
       "4   1           1e+00     10  \n",
       "5   5           1e+00     10  \n",
       "6  10           1e+00     10  \n",
       "7   1           1e-10   1000  \n",
       "8   5           1e-10   1000  \n",
       "9  10           1e-10   1000  \n",
       "10  1           1e+00   1000  \n",
       "11  5           1e+00   1000  \n",
       "12 10           1e+00   1000  "
      ]
     },
     "metadata": {},
     "output_type": "display_data"
    }
   ],
   "source": [
    "grid_regular(mlp_param, levels = c(hidden_units = 3, penalty = 2, epochs = 2)) "
   ]
  },
  {
   "cell_type": "markdown",
   "id": "a814dd2a",
   "metadata": {},
   "source": [
    "<br>\n",
    "\n",
    "- 정규 그리드는 계산 비용이 많이 들 수도 있음\n",
    "- **정규 그리드의 장점은 튜닝 파라미터와 모델 성능간 관계와 패턴을 쉽게 이해할 수 있다는 것**"
   ]
  },
  {
   "cell_type": "markdown",
   "id": "6f98f845",
   "metadata": {},
   "source": [
    "<br>\n",
    "\n",
    "### 비정규 그리드\n",
    "- 비정규 그리드는 각 파라미터 범위에 걸쳐 무작위 샘플링을 사용 \n",
    "    - ```grid_random()``` : 파라미터 범위에 걸쳐 독립적인 균일한 난수를 생성\n",
    "    - 파라미터에 관련된 변환(예: 패널티에 대한 변환)이 있는 경우 변환된 척도에서 난수가 생성\n",
    "\n",
    "<br>\n",
    "\n",
    "#### 랜덤 그리드\n",
    "#### ```grid_random()```"
   ]
  },
  {
   "cell_type": "code",
   "execution_count": 16,
   "id": "d0db251c",
   "metadata": {
    "vscode": {
     "languageId": "r"
    }
   },
   "outputs": [
    {
     "data": {
      "text/plain": [
       "  hidden_units       penalty              epochs     \n",
       " Min.   : 1.000   Min.   :0.0000000   Min.   : 10.0  \n",
       " 1st Qu.: 3.000   1st Qu.:0.0000000   1st Qu.:265.8  \n",
       " Median : 5.000   Median :0.0000061   Median :497.0  \n",
       " Mean   : 5.381   Mean   :0.0437435   Mean   :509.5  \n",
       " 3rd Qu.: 8.000   3rd Qu.:0.0026854   3rd Qu.:761.0  \n",
       " Max.   :10.000   Max.   :0.9814405   Max.   :999.0  "
      ]
     },
     "metadata": {},
     "output_type": "display_data"
    }
   ],
   "source": [
    "set.seed(1301) \n",
    "mlp_param %>% grid_random(size = 1000) %>% summary"
   ]
  },
  {
   "cell_type": "markdown",
   "id": "1b2cf3c1",
   "metadata": {},
   "source": [
    "- 랜덤 그리드의 문제는 **파라미터 조합을 겹치게 할 수 있다는 것**. \n",
    "- 랜덤 그리드는 전체 파라미터 공간을 커버해야 하지만, 그리드 값의 수에 따라 커버리지가 잘 될 가능성이 증가\n",
    "\n"
   ]
  },
  {
   "cell_type": "markdown",
   "id": "a73caa6c",
   "metadata": {},
   "source": [
    "<br>\n",
    "\n",
    "- 무작위로 생성된 15개의 포인트를 가진 3개의 튜닝 파라미터\n",
    "(```original = FALSE``` : penalty를 log10 단위로 유지)\n"
   ]
  },
  {
   "cell_type": "code",
   "execution_count": 19,
   "id": "586f2a7a",
   "metadata": {
    "vscode": {
     "languageId": "r"
    }
   },
   "outputs": [
    {
     "data": {
      "image/png": "[encoded data removed]",
      "text/plain": [
       "plot without title"
      ]
     },
     "metadata": {
      "image/png": {
       "height": 420,
       "width": 420
      }
     },
     "output_type": "display_data"
    }
   ],
   "source": [
    "set.seed(1302)\n",
    "mlp_param %>% grid_random(size = 20, original = FALSE) %>% \n",
    "    ggplot(aes(x = .panel_x, y = .panel_y)) + \n",
    "    geom_point() +\n",
    "    geom_blank() +\n",
    "    facet_matrix(vars(hidden_units, penalty, epochs), layer.diag = 2) "
   ]
  },
  {
   "cell_type": "markdown",
   "id": "5820e97a",
   "metadata": {},
   "source": [
    "<br>\n",
    "\n",
    "#### 공간 채우기 디자인 (Space Filling)\n",
    "- 디자인 방법마다 목표가 조금씩 다르지만, 일반적으로 값이 중복될 가능성이 가장 적은 매개변수 공간을 포괄하는 점 구성을 탐색\n",
    "    - 라틴 하이퍼큐브, 최대 엔트로피 디자인, 최대 투영 디자인 등\n",
    "    - **라틴 하이퍼큐브는 점들을 서로 더 멀리 띄우고 하이퍼 파라미터 공간에 대한 더 나은 탐색을 가능하게 함**\n",
    "    - **최대 엔트로피 디자인은, 공간을 잘 커버하는 그리드를 생산하는 경향이 있고, 좋은 결과를 탐색할 가능성을 증가시킴**\n",
    "\n",
    "- **'공간 채우기 설계'는 모수 공간을 표현하는 데 매우 효과적**\n",
    "\n",
    "\n",
    "<br>\n",
    "\n",
    "#### ```grid_latin_hypercube()``` : 라틴 하이퍼큐브\n",
    "#### ```grid_max_entropy()``` : 최대 엔트로피 디자인\n",
    "\n",
    "<br>\n",
    "\n",
    "#### 20개의 후보 파라미터 라틴 하이퍼큐브"
   ]
  },
  {
   "cell_type": "code",
   "execution_count": 20,
   "id": "f0912c31",
   "metadata": {
    "vscode": {
     "languageId": "r"
    }
   },
   "outputs": [
    {
     "data": {
      "image/png": "[encoded data removed]",
      "text/plain": [
       "plot without title"
      ]
     },
     "metadata": {
      "image/png": {
       "height": 420,
       "width": 420
      }
     },
     "output_type": "display_data"
    }
   ],
   "source": [
    "set.seed(1303)\n",
    "mlp_param %>% grid_latin_hypercube(size = 20, original = FALSE) %>% \n",
    "    ggplot(aes(x = .panel_x, y = .panel_y)) + \n",
    "    geom_point() +\n",
    "    geom_blank() +\n",
    "    facet_matrix(vars(hidden_units, penalty, epochs), layer.diag = 2) + \n",
    "    labs(title = \"Latin Hypercube design with 20 candidates\")"
   ]
  },
  {
   "cell_type": "markdown",
   "id": "f3042b37",
   "metadata": {},
   "source": [
    "<br>\n",
    "\n",
    "## 10.02. 그리드 평가\n",
    "- 최적의 파라미터 조합을 선택하기 위해 각 후보 집합은 해당 모형을 훈련하는 데 사용되지 않은 데이터를 사용하여 평가. \n",
    "- 리샘플링 방법 또는 단일 검증 집합은 이 목적에 적합\n",
    "\n",
    "- 리샘플링 후, 가장 적합한 후보 파라미터 세트를 선택. 경험적으로 최상의 모수 조합을 선택하거나 단순성과 같은 모델 적합의 다른 측면으로 선택을 편향시키는 것이 타당\n",
    "\n",
    "\n",
    "\n"
   ]
  },
  {
   "cell_type": "code",
   "execution_count": 33,
   "id": "5b42d259",
   "metadata": {
    "vscode": {
     "languageId": "r"
    }
   },
   "outputs": [],
   "source": [
    "cells %>%  select(-case) -> cells"
   ]
  },
  {
   "cell_type": "markdown",
   "id": "dc021c43",
   "metadata": {},
   "source": [
    "- 10-fold 교차검증 세트"
   ]
  },
  {
   "cell_type": "code",
   "execution_count": 35,
   "id": "869b8ce1",
   "metadata": {
    "vscode": {
     "languageId": "r"
    }
   },
   "outputs": [],
   "source": [
    "set.seed(1304)\n",
    "cell_folds <- vfold_cv(cells)"
   ]
  },
  {
   "cell_type": "markdown",
   "id": "d4dcd7d4",
   "metadata": {},
   "source": [
    "- 예측 변수 간의 상관 관계가 높기에, PCA 기능 추출을 사용하여 예측 변수의 관계를 재정립\n",
    "- **PCA는 분산 기반이므로, 설명변수별 분산에 대한 이상치는 계산에 악영향을 미칠 수 있음**.\n",
    "    - 이에 각 예측 변수에 대한 Yeo-Johnson 변환을 추정하는 레시피 단계를 추가\n",
    "    - ```step_YeoJohnson()```은 초기 정규화 직전에 적용\n",
    "    "
   ]
  },
  {
   "cell_type": "markdown",
   "id": "443ddfc9",
   "metadata": {},
   "source": [
    "<br>\n",
    "\n",
    "- 전처리 정의"
   ]
  },
  {
   "cell_type": "code",
   "execution_count": 22,
   "id": "0098cb27",
   "metadata": {
    "vscode": {
     "languageId": "r"
    }
   },
   "outputs": [],
   "source": [
    "mlp_rec <- recipe(class ~ ., data = cells) %>%\n",
    "    step_YeoJohnson(all_numeric_predictors()) %>% \n",
    "    step_normalize(all_numeric_predictors()) %>% \n",
    "    step_pca(all_numeric_predictors(), num_comp = tune()) %>% # 주성분 수에 대한 튜닝 파라미터 지정\n",
    "    step_normalize(all_numeric_predictors())"
   ]
  },
  {
   "cell_type": "markdown",
   "id": "9b2085f0",
   "metadata": {},
   "source": [
    "\n",
    "- 워크플로 정의"
   ]
  },
  {
   "cell_type": "code",
   "execution_count": 23,
   "id": "63a7198b",
   "metadata": {
    "vscode": {
     "languageId": "r"
    }
   },
   "outputs": [],
   "source": [
    "mlp_wflow <- workflow() %>% \n",
    "    add_model(mlp_spec) %>% \n",
    "    add_recipe(mlp_rec)"
   ]
  },
  {
   "cell_type": "markdown",
   "id": "3617ebe6",
   "metadata": {},
   "source": [
    "- 전체 워크플로 튜닝 파라미터 확인"
   ]
  },
  {
   "cell_type": "code",
   "execution_count": 26,
   "id": "6cad0435",
   "metadata": {},
   "outputs": [
    {
     "name": "stdout",
     "output_type": "stream",
     "text": [
      "Collection of 4 parameters for tuning\n",
      "\n",
      "   identifier         type    object\n",
      " hidden_units hidden_units nparam[+]\n",
      "      penalty      penalty nparam[+]\n",
      "       epochs       epochs nparam[+]\n",
      "     num_comp     num_comp nparam[+]\n",
      "\n"
     ]
    }
   ],
   "source": [
    "print(extract_parameter_set_dials(mlp_wflow))"
   ]
  },
  {
   "cell_type": "markdown",
   "id": "b7227164",
   "metadata": {},
   "source": [
    "<br>\n",
    "\n",
    "- `epoch` 파라미터가 더 좁은 범위를 가지도록 변경\n",
    "- ```num_comp()```의 기본 범위는 매우 좁은 범위(1~4개의 구성 요소)\n",
    "    \n",
    "    $\\rightarrow$ 이 범위를 40개의 구성 요소로 늘리고 최소값을 0으로 설정\n",
    "\n"
   ]
  },
  {
   "cell_type": "code",
   "execution_count": 27,
   "id": "be4934a0",
   "metadata": {
    "vscode": {
     "languageId": "r"
    }
   },
   "outputs": [],
   "source": [
    "mlp_param <- mlp_wflow %>% \n",
    "    extract_parameter_set_dials() %>% \n",
    "    update(\n",
    "        epochs = epochs(c(50, 200)),\n",
    "        num_comp = num_comp(c(0, 40)))"
   ]
  },
  {
   "cell_type": "code",
   "execution_count": 31,
   "id": "40af0b57",
   "metadata": {
    "vscode": {
     "languageId": "r"
    }
   },
   "outputs": [
    {
     "data": {
      "text/plain": [
       "# Epochs (quantitative)\n",
       "Range: [50, 200]"
      ]
     },
     "metadata": {},
     "output_type": "display_data"
    },
    {
     "data": {
      "text/plain": [
       "# Components (quantitative)\n",
       "Range: [0, 40]"
      ]
     },
     "metadata": {},
     "output_type": "display_data"
    }
   ],
   "source": [
    "extract_parameter_dials(mlp_param, \"epochs\")\n",
    "extract_parameter_dials(mlp_param, \"num_comp\")"
   ]
  },
  {
   "cell_type": "markdown",
   "id": "09775b9f",
   "metadata": {},
   "source": [
    "\n",
    "<br>\n",
    "\n",
    "### 그리드 서치 수행\n",
    "#### ```tune_grid()``` : 그리드 서치를 수행하는 함수\n",
    "- ```grid``` : 정수 또는 데이터프레임. \n",
    "    - 정수가 사용되는 경우 후보 파라미터 조합의 그리드 번호를 사용하여 공간 채우기 설계를 생성. \n",
    "    - 특정 파라미터 조합이 존재하는 경우 그리드 파라미터는 함수에 전달하는 데 사용\n",
    "- ```param_info``` :  파라미터 범위를 정의하기 위한 선택적 인수. 인수는 그리드가 정수일 때 가장 유용\n",
    "\n",
    "<br>\n",
    "\n",
    "#### 정규 그리드\n",
    "- 성능 평가 지표로 AUC값을 선택"
   ]
  },
  {
   "cell_type": "code",
   "execution_count": 32,
   "id": "20bc6f1f",
   "metadata": {
    "vscode": {
     "languageId": "r"
    }
   },
   "outputs": [],
   "source": [
    "roc_res <- metric_set(roc_auc)"
   ]
  },
  {
   "cell_type": "markdown",
   "id": "4ae8f9fc",
   "metadata": {},
   "source": [
    "- 리샘플 전체에 걸쳐, 파라미터별 3가지 수준이 있는 정규 그리드를 적합"
   ]
  },
  {
   "cell_type": "code",
   "execution_count": 36,
   "id": "21f714b4",
   "metadata": {
    "vscode": {
     "languageId": "r"
    }
   },
   "outputs": [],
   "source": [
    "set.seed(1305)\n",
    "mlp_reg_tune <- mlp_wflow %>%\n",
    "    tune_grid(cell_folds,\n",
    "              grid = mlp_param %>% grid_regular(levels = 3),\n",
    "              metrics = roc_res)"
   ]
  },
  {
   "cell_type": "code",
   "execution_count": 37,
   "id": "1a0816b6",
   "metadata": {
    "vscode": {
     "languageId": "r"
    }
   },
   "outputs": [
    {
     "name": "stdout",
     "output_type": "stream",
     "text": [
      "# Tuning results\n",
      "# 10-fold cross-validation \n",
      "\u001b[90m# A tibble: 10 × 4\u001b[39m\n",
      "   splits             id     .metrics          .notes          \n",
      "   \u001b[3m\u001b[90m<list>\u001b[39m\u001b[23m             \u001b[3m\u001b[90m<chr>\u001b[39m\u001b[23m  \u001b[3m\u001b[90m<list>\u001b[39m\u001b[23m            \u001b[3m\u001b[90m<list>\u001b[39m\u001b[23m          \n",
      "\u001b[90m 1\u001b[39m \u001b[90m<split [1817/202]>\u001b[39m Fold01 \u001b[90m<tibble [81 × 8]>\u001b[39m \u001b[90m<tibble [0 × 3]>\u001b[39m\n",
      "\u001b[90m 2\u001b[39m \u001b[90m<split [1817/202]>\u001b[39m Fold02 \u001b[90m<tibble [81 × 8]>\u001b[39m \u001b[90m<tibble [0 × 3]>\u001b[39m\n",
      "\u001b[90m 3\u001b[39m \u001b[90m<split [1817/202]>\u001b[39m Fold03 \u001b[90m<tibble [81 × 8]>\u001b[39m \u001b[90m<tibble [0 × 3]>\u001b[39m\n",
      "\u001b[90m 4\u001b[39m \u001b[90m<split [1817/202]>\u001b[39m Fold04 \u001b[90m<tibble [81 × 8]>\u001b[39m \u001b[90m<tibble [0 × 3]>\u001b[39m\n",
      "\u001b[90m 5\u001b[39m \u001b[90m<split [1817/202]>\u001b[39m Fold05 \u001b[90m<tibble [81 × 8]>\u001b[39m \u001b[90m<tibble [0 × 3]>\u001b[39m\n",
      "\u001b[90m 6\u001b[39m \u001b[90m<split [1817/202]>\u001b[39m Fold06 \u001b[90m<tibble [81 × 8]>\u001b[39m \u001b[90m<tibble [0 × 3]>\u001b[39m\n",
      "\u001b[90m 7\u001b[39m \u001b[90m<split [1817/202]>\u001b[39m Fold07 \u001b[90m<tibble [81 × 8]>\u001b[39m \u001b[90m<tibble [0 × 3]>\u001b[39m\n",
      "\u001b[90m 8\u001b[39m \u001b[90m<split [1817/202]>\u001b[39m Fold08 \u001b[90m<tibble [81 × 8]>\u001b[39m \u001b[90m<tibble [0 × 3]>\u001b[39m\n",
      "\u001b[90m 9\u001b[39m \u001b[90m<split [1817/202]>\u001b[39m Fold09 \u001b[90m<tibble [81 × 8]>\u001b[39m \u001b[90m<tibble [0 × 3]>\u001b[39m\n",
      "\u001b[90m10\u001b[39m \u001b[90m<split [1818/201]>\u001b[39m Fold10 \u001b[90m<tibble [81 × 8]>\u001b[39m \u001b[90m<tibble [0 × 3]>\u001b[39m\n"
     ]
    }
   ],
   "source": [
    "print(mlp_reg_tune)"
   ]
  },
  {
   "cell_type": "markdown",
   "id": "57cad5e2",
   "metadata": {},
   "source": [
    "- 정규 그리드 결과\n",
    "    - 페널티의 크기가 AUC값 가장 큰 영향을 미침을 확인. \n",
    "    - 에포크의 수는 AUC값에 뚜렷한 영향을 미치지 않는 것으로 보임을 확인. \n",
    "    - 은닉층 수는, 페널티의 크기가 작을수록 영향이 큰 것으로 확인"
   ]
  },
  {
   "cell_type": "code",
   "execution_count": 38,
   "id": "901f1ab3",
   "metadata": {
    "vscode": {
     "languageId": "r"
    }
   },
   "outputs": [
    {
     "data": {
      "image/png": "[encoded data removed]",
      "text/plain": [
       "plot without title"
      ]
     },
     "metadata": {
      "image/png": {
       "height": 420,
       "width": 420
      }
     },
     "output_type": "display_data"
    }
   ],
   "source": [
    "autoplot(mlp_reg_tune) + \n",
    "    scale_color_viridis_d(direction = -1) + \n",
    "    theme(legend.position = \"top\")"
   ]
  },
  {
   "cell_type": "markdown",
   "id": "d4b83231",
   "metadata": {},
   "source": [
    "<br>\n",
    "\n",
    "#### ```show_best()``` : 최적의 파라미터 조합 \n",
    "- 높은 패널티 값을 통해, 더 큰 파라미터 값의 범위에서 그리드 서치를 다시 수행하는 것이 타당"
   ]
  },
  {
   "cell_type": "code",
   "execution_count": 39,
   "id": "2c8f8376",
   "metadata": {
    "vscode": {
     "languageId": "r"
    }
   },
   "outputs": [
    {
     "data": {
      "text/html": [
       "<table class=\"dataframe\">\n",
       "<caption>A tibble: 5 × 9</caption>\n",
       "<thead>\n",
       "\t<tr><th scope=col>hidden_units</th><th scope=col>penalty</th><th scope=col>epochs</th><th scope=col>num_comp</th><th scope=col>.metric</th><th scope=col>mean</th><th scope=col>n</th><th scope=col>std_err</th><th scope=col>.config</th></tr>\n",
       "\t<tr><th scope=col>&lt;int&gt;</th><th scope=col>&lt;dbl&gt;</th><th scope=col>&lt;int&gt;</th><th scope=col>&lt;int&gt;</th><th scope=col>&lt;chr&gt;</th><th scope=col>&lt;dbl&gt;</th><th scope=col>&lt;int&gt;</th><th scope=col>&lt;dbl&gt;</th><th scope=col>&lt;chr&gt;</th></tr>\n",
       "</thead>\n",
       "<tbody>\n",
       "\t<tr><td>10</td><td>1</td><td> 50</td><td>20</td><td>roc_auc</td><td>0.8946776</td><td>10</td><td>0.010615745</td><td>Preprocessor2_Model09</td></tr>\n",
       "\t<tr><td> 5</td><td>1</td><td> 50</td><td>20</td><td>roc_auc</td><td>0.8940653</td><td>10</td><td>0.009152942</td><td>Preprocessor2_Model08</td></tr>\n",
       "\t<tr><td> 5</td><td>1</td><td>125</td><td> 0</td><td>roc_auc</td><td>0.8938269</td><td>10</td><td>0.007135379</td><td>Preprocessor1_Model17</td></tr>\n",
       "\t<tr><td> 5</td><td>1</td><td> 50</td><td> 0</td><td>roc_auc</td><td>0.8910566</td><td>10</td><td>0.011083689</td><td>Preprocessor1_Model08</td></tr>\n",
       "\t<tr><td> 1</td><td>1</td><td>200</td><td> 0</td><td>roc_auc</td><td>0.8905355</td><td>10</td><td>0.007886059</td><td>Preprocessor1_Model25</td></tr>\n",
       "</tbody>\n",
       "</table>\n"
      ],
      "text/latex": [
       "A tibble: 5 × 9\n",
       "\\begin{tabular}{lllllllll}\n",
       " hidden\\_units & penalty & epochs & num\\_comp & .metric & mean & n & std\\_err & .config\\\\\n",
       " <int> & <dbl> & <int> & <int> & <chr> & <dbl> & <int> & <dbl> & <chr>\\\\\n",
       "\\hline\n",
       "\t 10 & 1 &  50 & 20 & roc\\_auc & 0.8946776 & 10 & 0.010615745 & Preprocessor2\\_Model09\\\\\n",
       "\t  5 & 1 &  50 & 20 & roc\\_auc & 0.8940653 & 10 & 0.009152942 & Preprocessor2\\_Model08\\\\\n",
       "\t  5 & 1 & 125 &  0 & roc\\_auc & 0.8938269 & 10 & 0.007135379 & Preprocessor1\\_Model17\\\\\n",
       "\t  5 & 1 &  50 &  0 & roc\\_auc & 0.8910566 & 10 & 0.011083689 & Preprocessor1\\_Model08\\\\\n",
       "\t  1 & 1 & 200 &  0 & roc\\_auc & 0.8905355 & 10 & 0.007886059 & Preprocessor1\\_Model25\\\\\n",
       "\\end{tabular}\n"
      ],
      "text/markdown": [
       "\n",
       "A tibble: 5 × 9\n",
       "\n",
       "| hidden_units &lt;int&gt; | penalty &lt;dbl&gt; | epochs &lt;int&gt; | num_comp &lt;int&gt; | .metric &lt;chr&gt; | mean &lt;dbl&gt; | n &lt;int&gt; | std_err &lt;dbl&gt; | .config &lt;chr&gt; |\n",
       "|---|---|---|---|---|---|---|---|---|\n",
       "| 10 | 1 |  50 | 20 | roc_auc | 0.8946776 | 10 | 0.010615745 | Preprocessor2_Model09 |\n",
       "|  5 | 1 |  50 | 20 | roc_auc | 0.8940653 | 10 | 0.009152942 | Preprocessor2_Model08 |\n",
       "|  5 | 1 | 125 |  0 | roc_auc | 0.8938269 | 10 | 0.007135379 | Preprocessor1_Model17 |\n",
       "|  5 | 1 |  50 |  0 | roc_auc | 0.8910566 | 10 | 0.011083689 | Preprocessor1_Model08 |\n",
       "|  1 | 1 | 200 |  0 | roc_auc | 0.8905355 | 10 | 0.007886059 | Preprocessor1_Model25 |\n",
       "\n"
      ],
      "text/plain": [
       "  hidden_units penalty epochs num_comp .metric mean      n  std_err    \n",
       "1 10           1        50    20       roc_auc 0.8946776 10 0.010615745\n",
       "2  5           1        50    20       roc_auc 0.8940653 10 0.009152942\n",
       "3  5           1       125     0       roc_auc 0.8938269 10 0.007135379\n",
       "4  5           1        50     0       roc_auc 0.8910566 10 0.011083689\n",
       "5  1           1       200     0       roc_auc 0.8905355 10 0.007886059\n",
       "  .config              \n",
       "1 Preprocessor2_Model09\n",
       "2 Preprocessor2_Model08\n",
       "3 Preprocessor1_Model17\n",
       "4 Preprocessor1_Model08\n",
       "5 Preprocessor1_Model25"
      ]
     },
     "metadata": {},
     "output_type": "display_data"
    }
   ],
   "source": [
    "show_best(mlp_reg_tune) %>% select(-.estimator)"
   ]
  },
  {
   "cell_type": "markdown",
   "id": "daba6d3c",
   "metadata": {},
   "source": [
    "\n",
    "- '공간 채우기 디자인'을 사용하기 위해 그리드 인수는 정수가 주어지거나 ```grid_*()``` 함수 중 하나가 데이터 프레임을 생성할 수 있음. \n",
    "\n",
    "<br>\n",
    "\n",
    "#### 비정규 그리드\n",
    "- 크기가 20인 '최대 엔트로피 디자인'"
   ]
  },
  {
   "cell_type": "code",
   "execution_count": 40,
   "id": "a2e44988",
   "metadata": {
    "vscode": {
     "languageId": "r"
    }
   },
   "outputs": [],
   "source": [
    "set.seed(1306)\n",
    "mlp_sfd_tune <- mlp_wflow %>%\n",
    "    tune_grid(cell_folds,    \n",
    "              grid = 20, \n",
    "              param_info = mlp_param, \n",
    "              metrics = roc_res)"
   ]
  },
  {
   "cell_type": "code",
   "execution_count": 41,
   "id": "940d3c44",
   "metadata": {
    "vscode": {
     "languageId": "r"
    }
   },
   "outputs": [
    {
     "name": "stdout",
     "output_type": "stream",
     "text": [
      "# Tuning results\n",
      "# 10-fold cross-validation \n",
      "\u001b[90m# A tibble: 10 × 4\u001b[39m\n",
      "   splits             id     .metrics          .notes          \n",
      "   \u001b[3m\u001b[90m<list>\u001b[39m\u001b[23m             \u001b[3m\u001b[90m<chr>\u001b[39m\u001b[23m  \u001b[3m\u001b[90m<list>\u001b[39m\u001b[23m            \u001b[3m\u001b[90m<list>\u001b[39m\u001b[23m          \n",
      "\u001b[90m 1\u001b[39m \u001b[90m<split [1817/202]>\u001b[39m Fold01 \u001b[90m<tibble [20 × 8]>\u001b[39m \u001b[90m<tibble [0 × 3]>\u001b[39m\n",
      "\u001b[90m 2\u001b[39m \u001b[90m<split [1817/202]>\u001b[39m Fold02 \u001b[90m<tibble [20 × 8]>\u001b[39m \u001b[90m<tibble [0 × 3]>\u001b[39m\n",
      "\u001b[90m 3\u001b[39m \u001b[90m<split [1817/202]>\u001b[39m Fold03 \u001b[90m<tibble [20 × 8]>\u001b[39m \u001b[90m<tibble [0 × 3]>\u001b[39m\n",
      "\u001b[90m 4\u001b[39m \u001b[90m<split [1817/202]>\u001b[39m Fold04 \u001b[90m<tibble [20 × 8]>\u001b[39m \u001b[90m<tibble [0 × 3]>\u001b[39m\n",
      "\u001b[90m 5\u001b[39m \u001b[90m<split [1817/202]>\u001b[39m Fold05 \u001b[90m<tibble [20 × 8]>\u001b[39m \u001b[90m<tibble [0 × 3]>\u001b[39m\n",
      "\u001b[90m 6\u001b[39m \u001b[90m<split [1817/202]>\u001b[39m Fold06 \u001b[90m<tibble [20 × 8]>\u001b[39m \u001b[90m<tibble [0 × 3]>\u001b[39m\n",
      "\u001b[90m 7\u001b[39m \u001b[90m<split [1817/202]>\u001b[39m Fold07 \u001b[90m<tibble [20 × 8]>\u001b[39m \u001b[90m<tibble [0 × 3]>\u001b[39m\n",
      "\u001b[90m 8\u001b[39m \u001b[90m<split [1817/202]>\u001b[39m Fold08 \u001b[90m<tibble [20 × 8]>\u001b[39m \u001b[90m<tibble [0 × 3]>\u001b[39m\n",
      "\u001b[90m 9\u001b[39m \u001b[90m<split [1817/202]>\u001b[39m Fold09 \u001b[90m<tibble [20 × 8]>\u001b[39m \u001b[90m<tibble [0 × 3]>\u001b[39m\n",
      "\u001b[90m10\u001b[39m \u001b[90m<split [1818/201]>\u001b[39m Fold10 \u001b[90m<tibble [20 × 8]>\u001b[39m \u001b[90m<tibble [0 × 3]>\u001b[39m\n"
     ]
    }
   ],
   "source": [
    "mlp_sfd_tune %>% print"
   ]
  },
  {
   "cell_type": "code",
   "execution_count": 42,
   "id": "f62b46f0",
   "metadata": {
    "vscode": {
     "languageId": "r"
    }
   },
   "outputs": [
    {
     "data": {
      "image/png": "[encoded data removed]",
      "text/plain": [
       "plot without title"
      ]
     },
     "metadata": {
      "image/png": {
       "height": 420,
       "width": 420
      }
     },
     "output_type": "display_data"
    }
   ],
   "source": [
    "autoplot(mlp_sfd_tune)"
   ]
  },
  {
   "cell_type": "markdown",
   "id": "24f57391",
   "metadata": {},
   "source": [
    "- 패널티 파라미터는 더 낮은 값으로도 더 나은 성능을 제공하는 것으로 보임. \n",
    "    \n",
    "    $\\rightarrow$ **이는 정규 그리드의 결과와는 반대**\n",
    "- **각 패널의 각 점은 다른 세 개의 튜닝 파라미터와 공유되므로, 한 패널의 추세는 다른 패널의 영향을 받을 수 있음**\n",
    "- **정규 그리드를 사용하면 각 패널의 각 점이 다른 파라미터에 대해 동일하게 평균화 됨. 이러한 이유로, 각 파라미터의 효과는 정규 그리드로 더 잘 분리됨**"
   ]
  },
  {
   "cell_type": "code",
   "execution_count": 48,
   "id": "15dd3bb0",
   "metadata": {
    "vscode": {
     "languageId": "r"
    }
   },
   "outputs": [
    {
     "data": {
      "text/html": [
       "<table class=\"dataframe\">\n",
       "<caption>A tibble: 5 × 9</caption>\n",
       "<thead>\n",
       "\t<tr><th scope=col>hidden_units</th><th scope=col>penalty</th><th scope=col>epochs</th><th scope=col>num_comp</th><th scope=col>.metric</th><th scope=col>mean</th><th scope=col>n</th><th scope=col>std_err</th><th scope=col>.config</th></tr>\n",
       "\t<tr><th scope=col>&lt;int&gt;</th><th scope=col>&lt;dbl&gt;</th><th scope=col>&lt;int&gt;</th><th scope=col>&lt;int&gt;</th><th scope=col>&lt;chr&gt;</th><th scope=col>&lt;dbl&gt;</th><th scope=col>&lt;int&gt;</th><th scope=col>&lt;dbl&gt;</th><th scope=col>&lt;chr&gt;</th></tr>\n",
       "</thead>\n",
       "<tbody>\n",
       "\t<tr><td>8</td><td>5.940130e-01</td><td> 97</td><td>22</td><td>roc_auc</td><td>0.8804158</td><td>10</td><td>0.009984549</td><td>Preprocessor16_Model1</td></tr>\n",
       "\t<tr><td>3</td><td>6.487197e-09</td><td>135</td><td> 8</td><td>roc_auc</td><td>0.8784611</td><td>10</td><td>0.009551410</td><td>Preprocessor13_Model1</td></tr>\n",
       "\t<tr><td>9</td><td>1.407762e-01</td><td>177</td><td>11</td><td>roc_auc</td><td>0.8727865</td><td>10</td><td>0.010380857</td><td>Preprocessor03_Model1</td></tr>\n",
       "\t<tr><td>8</td><td>1.026357e-08</td><td> 74</td><td> 9</td><td>roc_auc</td><td>0.8693823</td><td>10</td><td>0.007608284</td><td>Preprocessor10_Model1</td></tr>\n",
       "\t<tr><td>6</td><td>5.814140e-03</td><td>129</td><td>15</td><td>roc_auc</td><td>0.8650925</td><td>10</td><td>0.006581221</td><td>Preprocessor17_Model1</td></tr>\n",
       "</tbody>\n",
       "</table>\n"
      ],
      "text/latex": [
       "A tibble: 5 × 9\n",
       "\\begin{tabular}{lllllllll}\n",
       " hidden\\_units & penalty & epochs & num\\_comp & .metric & mean & n & std\\_err & .config\\\\\n",
       " <int> & <dbl> & <int> & <int> & <chr> & <dbl> & <int> & <dbl> & <chr>\\\\\n",
       "\\hline\n",
       "\t 8 & 5.940130e-01 &  97 & 22 & roc\\_auc & 0.8804158 & 10 & 0.009984549 & Preprocessor16\\_Model1\\\\\n",
       "\t 3 & 6.487197e-09 & 135 &  8 & roc\\_auc & 0.8784611 & 10 & 0.009551410 & Preprocessor13\\_Model1\\\\\n",
       "\t 9 & 1.407762e-01 & 177 & 11 & roc\\_auc & 0.8727865 & 10 & 0.010380857 & Preprocessor03\\_Model1\\\\\n",
       "\t 8 & 1.026357e-08 &  74 &  9 & roc\\_auc & 0.8693823 & 10 & 0.007608284 & Preprocessor10\\_Model1\\\\\n",
       "\t 6 & 5.814140e-03 & 129 & 15 & roc\\_auc & 0.8650925 & 10 & 0.006581221 & Preprocessor17\\_Model1\\\\\n",
       "\\end{tabular}\n"
      ],
      "text/markdown": [
       "\n",
       "A tibble: 5 × 9\n",
       "\n",
       "| hidden_units &lt;int&gt; | penalty &lt;dbl&gt; | epochs &lt;int&gt; | num_comp &lt;int&gt; | .metric &lt;chr&gt; | mean &lt;dbl&gt; | n &lt;int&gt; | std_err &lt;dbl&gt; | .config &lt;chr&gt; |\n",
       "|---|---|---|---|---|---|---|---|---|\n",
       "| 8 | 5.940130e-01 |  97 | 22 | roc_auc | 0.8804158 | 10 | 0.009984549 | Preprocessor16_Model1 |\n",
       "| 3 | 6.487197e-09 | 135 |  8 | roc_auc | 0.8784611 | 10 | 0.009551410 | Preprocessor13_Model1 |\n",
       "| 9 | 1.407762e-01 | 177 | 11 | roc_auc | 0.8727865 | 10 | 0.010380857 | Preprocessor03_Model1 |\n",
       "| 8 | 1.026357e-08 |  74 |  9 | roc_auc | 0.8693823 | 10 | 0.007608284 | Preprocessor10_Model1 |\n",
       "| 6 | 5.814140e-03 | 129 | 15 | roc_auc | 0.8650925 | 10 | 0.006581221 | Preprocessor17_Model1 |\n",
       "\n"
      ],
      "text/plain": [
       "  hidden_units penalty      epochs num_comp .metric mean      n  std_err    \n",
       "1 8            5.940130e-01  97    22       roc_auc 0.8804158 10 0.009984549\n",
       "2 3            6.487197e-09 135     8       roc_auc 0.8784611 10 0.009551410\n",
       "3 9            1.407762e-01 177    11       roc_auc 0.8727865 10 0.010380857\n",
       "4 8            1.026357e-08  74     9       roc_auc 0.8693823 10 0.007608284\n",
       "5 6            5.814140e-03 129    15       roc_auc 0.8650925 10 0.006581221\n",
       "  .config              \n",
       "1 Preprocessor16_Model1\n",
       "2 Preprocessor13_Model1\n",
       "3 Preprocessor03_Model1\n",
       "4 Preprocessor10_Model1\n",
       "5 Preprocessor17_Model1"
      ]
     },
     "metadata": {},
     "output_type": "display_data"
    }
   ],
   "source": [
    "show_best(mlp_sfd_tune) %>% select(-.estimator) "
   ]
  },
  {
   "cell_type": "markdown",
   "id": "a444a222",
   "metadata": {},
   "source": [
    "<br>\n",
    "\n",
    "- **일반적으로 여러 모델 지표를 통하여 모형을 평가하고, 모형 적합의 다양한 측면이 고려되도록 하는 것이 바람직**\n",
    "- 일반적으로 리샘플링과 파라미터 튜닝에서 중간 모델 적합을 유지하는 데에는 아무런 가치가 없음. \n",
    "    \n",
    "- ```save_pred``` 옵션을 ```TRUE```로 설정하면 평가 세트 예측이 유지되며 ```collect_predictions()```를 사용하여 예측에 활용 가능"
   ]
  },
  {
   "cell_type": "markdown",
   "id": "31ed0c68",
   "metadata": {},
   "source": [
    "<br>\n",
    "\n",
    "## 10.03 최종 모형 결정\n",
    "- 최종 모형을 적합시키려면 최적 파라미터 조합을 결정 :\n",
    "1. 적절한 것으로 보이는 값을 수동으로 선택\n",
    "2. ```select_best()```등의 함수를 사용\n",
    "\n",
    "<br>\n",
    "\n",
    "#### ```select_best()``` : 수치적으로 가장 좋은 결과를 가진 파라미터를 선택\n",
    "\n",
    "<br>\n",
    "\n",
    "- AUC값 기준의 최적 파라미터"
   ]
  },
  {
   "cell_type": "code",
   "execution_count": 44,
   "id": "225859e2",
   "metadata": {
    "scrolled": true,
    "vscode": {
     "languageId": "r"
    }
   },
   "outputs": [
    {
     "data": {
      "text/html": [
       "<table class=\"dataframe\">\n",
       "<caption>A tibble: 1 × 5</caption>\n",
       "<thead>\n",
       "\t<tr><th scope=col>hidden_units</th><th scope=col>penalty</th><th scope=col>epochs</th><th scope=col>num_comp</th><th scope=col>.config</th></tr>\n",
       "\t<tr><th scope=col>&lt;int&gt;</th><th scope=col>&lt;dbl&gt;</th><th scope=col>&lt;int&gt;</th><th scope=col>&lt;int&gt;</th><th scope=col>&lt;chr&gt;</th></tr>\n",
       "</thead>\n",
       "<tbody>\n",
       "\t<tr><td>10</td><td>1</td><td>50</td><td>20</td><td>Preprocessor2_Model09</td></tr>\n",
       "</tbody>\n",
       "</table>\n"
      ],
      "text/latex": [
       "A tibble: 1 × 5\n",
       "\\begin{tabular}{lllll}\n",
       " hidden\\_units & penalty & epochs & num\\_comp & .config\\\\\n",
       " <int> & <dbl> & <int> & <int> & <chr>\\\\\n",
       "\\hline\n",
       "\t 10 & 1 & 50 & 20 & Preprocessor2\\_Model09\\\\\n",
       "\\end{tabular}\n"
      ],
      "text/markdown": [
       "\n",
       "A tibble: 1 × 5\n",
       "\n",
       "| hidden_units &lt;int&gt; | penalty &lt;dbl&gt; | epochs &lt;int&gt; | num_comp &lt;int&gt; | .config &lt;chr&gt; |\n",
       "|---|---|---|---|---|\n",
       "| 10 | 1 | 50 | 20 | Preprocessor2_Model09 |\n",
       "\n"
      ],
      "text/plain": [
       "  hidden_units penalty epochs num_comp .config              \n",
       "1 10           1       50     20       Preprocessor2_Model09"
      ]
     },
     "metadata": {},
     "output_type": "display_data"
    }
   ],
   "source": [
    "select_best(mlp_reg_tune, metric = \"roc_auc\")"
   ]
  },
  {
   "cell_type": "markdown",
   "id": "cad8ce2a",
   "metadata": {},
   "source": [
    "- 최적의 파라미터 채택"
   ]
  },
  {
   "cell_type": "code",
   "execution_count": 51,
   "id": "d61ff783",
   "metadata": {
    "vscode": {
     "languageId": "r"
    }
   },
   "outputs": [],
   "source": [
    "logistic_param <- tibble(num_comp = 0,\n",
    "                         epochs = 50, \n",
    "                         hidden_units = 5,\n",
    "                         penalty = 1)"
   ]
  },
  {
   "cell_type": "markdown",
   "id": "34b5b73b",
   "metadata": {},
   "source": [
    "- 최종 모형 정의"
   ]
  },
  {
   "cell_type": "code",
   "execution_count": 52,
   "id": "8ff3284b",
   "metadata": {
    "vscode": {
     "languageId": "r"
    }
   },
   "outputs": [],
   "source": [
    "final_mlp_wflow <- mlp_wflow %>%\n",
    "    finalize_workflow(logistic_param)"
   ]
  },
  {
   "cell_type": "code",
   "execution_count": 54,
   "id": "8efbc1e6",
   "metadata": {
    "vscode": {
     "languageId": "r"
    }
   },
   "outputs": [
    {
     "data": {
      "text/plain": [
       "══ Workflow ════════════════════════════════════════════════════════════════════════════════════════════════════════════\n",
       "\u001b[3mPreprocessor:\u001b[23m Recipe\n",
       "\u001b[3mModel:\u001b[23m mlp()\n",
       "\n",
       "── Preprocessor ────────────────────────────────────────────────────────────────────────────────────────────────────────\n",
       "4 Recipe Steps\n",
       "\n",
       "• step_YeoJohnson()\n",
       "• step_normalize()\n",
       "• step_pca()\n",
       "• step_normalize()\n",
       "\n",
       "── Model ───────────────────────────────────────────────────────────────────────────────────────────────────────────────\n",
       "Single Layer Neural Network Model Specification (classification)\n",
       "\n",
       "Main Arguments:\n",
       "  hidden_units = 5\n",
       "  penalty = 1\n",
       "  epochs = 50\n",
       "\n",
       "Engine-Specific Arguments:\n",
       "  trace = 0\n",
       "\n",
       "Computational engine: nnet \n"
      ]
     },
     "metadata": {},
     "output_type": "display_data"
    }
   ],
   "source": [
    "final_mlp_wflow"
   ]
  },
  {
   "cell_type": "markdown",
   "id": "d7469e56",
   "metadata": {},
   "source": [
    "- 최종 모형 적합"
   ]
  },
  {
   "cell_type": "code",
   "execution_count": 55,
   "id": "52f4a6a0",
   "metadata": {
    "vscode": {
     "languageId": "r"
    }
   },
   "outputs": [],
   "source": [
    "final_mlp_fit <- final_mlp_wflow %>% fit(cells)"
   ]
  },
  {
   "cell_type": "markdown",
   "id": "3202194e",
   "metadata": {},
   "source": [
    "<br>\n",
    "\n",
    "## 10.04 튜닝 사양 작성 도구 (`usemodels`)\n",
    "- **`usemodels` 패키지는 데이터프레임과 모델 공식을 가져온 다음, 모델 튜닝을 위한 R코드를 생성**\n",
    "- **코드는 요청된 모델과 예측 데이터에 따라 단계가 달라지는 적절한 레시피를 생성**\n",
    "\n",
    "<br>\n",
    "\n",
    "- `xgboost` 모델링\n",
    "\n"
   ]
  },
  {
   "cell_type": "code",
   "execution_count": 56,
   "id": "52fd2960",
   "metadata": {
    "vscode": {
     "languageId": "r"
    }
   },
   "outputs": [],
   "source": [
    "library(usemodels)"
   ]
  },
  {
   "cell_type": "code",
   "execution_count": 57,
   "id": "5d56c25c",
   "metadata": {},
   "outputs": [],
   "source": [
    "data(ames)\n",
    "ames <- mutate(ames, Sale_Price = log10(Sale_Price))"
   ]
  },
  {
   "cell_type": "code",
   "execution_count": 58,
   "id": "6e8178f9",
   "metadata": {
    "vscode": {
     "languageId": "r"
    }
   },
   "outputs": [],
   "source": [
    "set.seed(502)\n",
    "ames_split <- initial_split(ames, prop = 0.80, strata = Sale_Price)\n",
    "ames_train <- training(ames_split)\n",
    "ames_test  <-  testing(ames_split)"
   ]
  },
  {
   "cell_type": "code",
   "execution_count": 59,
   "id": "9424daa0",
   "metadata": {
    "scrolled": false,
    "vscode": {
     "languageId": "r"
    }
   },
   "outputs": [
    {
     "name": "stdout",
     "output_type": "stream",
     "text": [
      "xgboost_recipe <- \n",
      "  recipe(formula = Sale_Price ~ Neighborhood + Gr_Liv_Area + Year_Built + Bldg_Type + \n",
      "    Latitude + Longitude, data = ames_train) %>% \n",
      "  step_zv(all_predictors()) \n",
      "\n",
      "xgboost_spec <- \n",
      "  boost_tree(trees = tune(), min_n = tune(), tree_depth = tune(), learn_rate = tune(), \n",
      "    loss_reduction = tune(), sample_size = tune()) %>% \n",
      "  set_mode(\"classification\") %>% \n",
      "  set_engine(\"xgboost\") \n",
      "\n",
      "xgboost_workflow <- \n",
      "  workflow() %>% \n",
      "  add_recipe(xgboost_recipe) %>% \n",
      "  add_model(xgboost_spec) \n",
      "\n",
      "set.seed(7019)\n",
      "xgboost_tune <-\n",
      "  tune_grid(xgboost_workflow, resamples = \u001b[31mstop(\"add your rsample object\")\u001b[39m, grid = \u001b[31mstop(\"add number of candidate points\")\u001b[39m)\n",
      "\n"
     ]
    }
   ],
   "source": [
    "use_xgboost(Sale_Price ~ Neighborhood + Gr_Liv_Area + Year_Built + Bldg_Type + Latitude + Longitude, \n",
    "            data = ames_train,\n",
    "            verbose = TRUE)"
   ]
  },
  {
   "cell_type": "markdown",
   "id": "68e1df14",
   "metadata": {},
   "source": [
    "- **`usemodels`의 결과로 나온 코드는, 모델링을 위해 필요한 최소한의 전처리**\n",
    "    - `tune`을 `FALSE`로 입력시, 파라미터 튜닝이 없는 모델링 작성 코드 생성"
   ]
  },
  {
   "cell_type": "code",
   "execution_count": 60,
   "id": "c8918922",
   "metadata": {},
   "outputs": [
    {
     "name": "stdout",
     "output_type": "stream",
     "text": [
      "xgboost_recipe <- \n",
      "  recipe(formula = Sale_Price ~ Neighborhood + Gr_Liv_Area + Year_Built + Bldg_Type + \n",
      "    Latitude + Longitude, data = ames_train) %>% \n",
      "  step_zv(all_predictors()) \n",
      "\n",
      "xgboost_spec <- \n",
      "  boost_tree() %>% \n",
      "  set_mode(\"classification\") %>% \n",
      "  set_engine(\"xgboost\") \n",
      "\n",
      "xgboost_workflow <- \n",
      "  workflow() %>% \n",
      "  add_recipe(xgboost_recipe) %>% \n",
      "  add_model(xgboost_spec) \n",
      "\n"
     ]
    }
   ],
   "source": [
    "use_xgboost(tune = F, Sale_Price ~ Neighborhood + Gr_Liv_Area + Year_Built + Bldg_Type + Latitude + Longitude, \n",
    "            data = ames_train,\n",
    "            verbose = TRUE)"
   ]
  },
  {
   "cell_type": "markdown",
   "id": "d05c5d05",
   "metadata": {},
   "source": [
    "<br>\n",
    "\n",
    "## 10.0 효율적인 그리드 서치"
   ]
  },
  {
   "cell_type": "markdown",
   "id": "b195abb2",
   "metadata": {},
   "source": [
    "### 하위 모델 최적화\n",
    "\n",
    "**단일 모델 적합에서, 적합하지 않고도 여러 튜닝 파라미터를 평가할 수 있는 모델 유형이 존재**\n",
    "\n",
    "<br>\n",
    "\n",
    "1. PLS\n",
    "- 부분 최소 제곱(PLS)은 주성분 분석의 지도학습 버전\n",
    "- 설명변수(예: PCA)의 변동을 최대화하는 성분을 생성하며, 설명변수와 결과 간의 상관 관계를 최대화하려고 시도\n",
    "- 한 가지 조정 매개 변수는 유지할 PLS 구성 요소의 수\n",
    "- 설명변수가 100개인 데이터 집합이 PLS를 사용하여 적합하다고 가정 :\n",
    "    - 유지할 수 있는 구성 요소의 수는 1개에서 50개까지\n",
    "    - 그러나 많은 구현에서 단일 모델 적합은 `num_comp`의 많은 값에 걸쳐 예측 값을 계산할 수 있음. \n",
    "    - 결과적으로, 100개의 성분으로 생성된 PLS 모델은 또한 임의의 `num_comp` <= 100에 대한 예측을 할 수 있음. \n",
    "    - 중복 모형 적합치를 만드는 대신 단일 적합치를 사용하여 많은 하위 모형을 평가할 수 있으므로 시간이 절약"
   ]
  },
  {
   "cell_type": "markdown",
   "id": "179aee65",
   "metadata": {},
   "source": [
    "<br>\n",
    "\n",
    "2. 부스팅\n",
    "- 부스팅 모델은 일반적으로 부스팅 반복 횟수에 대한 여러 값에 걸쳐 예측을 할 수 있음. \n",
    "\n",
    "<br>\n",
    "\n",
    "3. WLSE\n",
    "- `glmnet` 모형과 같은 정규화 방법은 모형을 적합시키는 데 사용되는 정규화의 양에 걸쳐 동시 예측을 할 수 있음. \n",
    "\n",
    "<br>\n",
    "\n",
    "4. MARS\n",
    "- 다변량 적응 회귀 스플라인(MARS)은 선형 회귀 모형에 일련의 비선형 특징을 추가. 유지할 항 수는 튜닝 파라미터이며, 단일 모형 적합에서 이 파라미터의 많은 값에 걸쳐 예측하는 것이 계산적으로 빠름.\n",
    "\n"
   ]
  },
  {
   "cell_type": "markdown",
   "id": "57458ae0",
   "metadata": {},
   "source": [
    "<br>\n",
    "\n",
    "- **`tune` 패키지는 해당 모델이 튜닝될 때마다 이러한 유형의 최적화를 자동으로 적용**\n",
    "    - 부스팅된 C5.0 분류 모델이 데이터에 적합했다면, 부스트 반복 횟수(트리)를 조정할 수 있음. \n",
    "- 다른 모든 파라미터를 기본값으로 설정하면, 이전에 사용한 것과 동일한 리샘플링에서 1부터 100까지의 반복을 평가할 수 있음\n"
   ]
  },
  {
   "cell_type": "code",
   "execution_count": 62,
   "id": "837d1309",
   "metadata": {
    "vscode": {
     "languageId": "r"
    }
   },
   "outputs": [
    {
     "data": {
      "text/html": [
       "<table class=\"dataframe\">\n",
       "<caption>A tibble: 5 × 2</caption>\n",
       "<thead>\n",
       "\t<tr><th scope=col>engine</th><th scope=col>mode</th></tr>\n",
       "\t<tr><th scope=col>&lt;chr&gt;</th><th scope=col>&lt;chr&gt;</th></tr>\n",
       "</thead>\n",
       "<tbody>\n",
       "\t<tr><td>xgboost</td><td>classification</td></tr>\n",
       "\t<tr><td>xgboost</td><td>regression    </td></tr>\n",
       "\t<tr><td>C5.0   </td><td>classification</td></tr>\n",
       "\t<tr><td>spark  </td><td>classification</td></tr>\n",
       "\t<tr><td>spark  </td><td>regression    </td></tr>\n",
       "</tbody>\n",
       "</table>\n"
      ],
      "text/latex": [
       "A tibble: 5 × 2\n",
       "\\begin{tabular}{ll}\n",
       " engine & mode\\\\\n",
       " <chr> & <chr>\\\\\n",
       "\\hline\n",
       "\t xgboost & classification\\\\\n",
       "\t xgboost & regression    \\\\\n",
       "\t C5.0    & classification\\\\\n",
       "\t spark   & classification\\\\\n",
       "\t spark   & regression    \\\\\n",
       "\\end{tabular}\n"
      ],
      "text/markdown": [
       "\n",
       "A tibble: 5 × 2\n",
       "\n",
       "| engine &lt;chr&gt; | mode &lt;chr&gt; |\n",
       "|---|---|\n",
       "| xgboost | classification |\n",
       "| xgboost | regression     |\n",
       "| C5.0    | classification |\n",
       "| spark   | classification |\n",
       "| spark   | regression     |\n",
       "\n"
      ],
      "text/plain": [
       "  engine  mode          \n",
       "1 xgboost classification\n",
       "2 xgboost regression    \n",
       "3 C5.0    classification\n",
       "4 spark   classification\n",
       "5 spark   regression    "
      ]
     },
     "metadata": {},
     "output_type": "display_data"
    }
   ],
   "source": [
    "show_engines(\"boost_tree\")"
   ]
  },
  {
   "cell_type": "code",
   "execution_count": 63,
   "id": "cc1e3be4",
   "metadata": {
    "vscode": {
     "languageId": "r"
    }
   },
   "outputs": [],
   "source": [
    "xgboost_spec <- boost_tree(trees = tune()) %>% \n",
    "    set_engine(\"xgboost\") %>% \n",
    "    set_mode(\"classification\")"
   ]
  },
  {
   "cell_type": "code",
   "execution_count": 64,
   "id": "c09e6ad5",
   "metadata": {
    "scrolled": false,
    "vscode": {
     "languageId": "r"
    }
   },
   "outputs": [
    {
     "name": "stdout",
     "output_type": "stream",
     "text": [
      "# Tuning results\n",
      "# 10-fold cross-validation \n",
      "\u001b[90m# A tibble: 10 × 4\u001b[39m\n",
      "   splits             id     .metrics           .notes          \n",
      "   \u001b[3m\u001b[90m<list>\u001b[39m\u001b[23m             \u001b[3m\u001b[90m<chr>\u001b[39m\u001b[23m  \u001b[3m\u001b[90m<list>\u001b[39m\u001b[23m             \u001b[3m\u001b[90m<list>\u001b[39m\u001b[23m          \n",
      "\u001b[90m 1\u001b[39m \u001b[90m<split [1817/202]>\u001b[39m Fold01 \u001b[90m<tibble [100 × 5]>\u001b[39m \u001b[90m<tibble [0 × 3]>\u001b[39m\n",
      "\u001b[90m 2\u001b[39m \u001b[90m<split [1817/202]>\u001b[39m Fold02 \u001b[90m<tibble [100 × 5]>\u001b[39m \u001b[90m<tibble [0 × 3]>\u001b[39m\n",
      "\u001b[90m 3\u001b[39m \u001b[90m<split [1817/202]>\u001b[39m Fold03 \u001b[90m<tibble [100 × 5]>\u001b[39m \u001b[90m<tibble [0 × 3]>\u001b[39m\n",
      "\u001b[90m 4\u001b[39m \u001b[90m<split [1817/202]>\u001b[39m Fold04 \u001b[90m<tibble [100 × 5]>\u001b[39m \u001b[90m<tibble [0 × 3]>\u001b[39m\n",
      "\u001b[90m 5\u001b[39m \u001b[90m<split [1817/202]>\u001b[39m Fold05 \u001b[90m<tibble [100 × 5]>\u001b[39m \u001b[90m<tibble [0 × 3]>\u001b[39m\n",
      "\u001b[90m 6\u001b[39m \u001b[90m<split [1817/202]>\u001b[39m Fold06 \u001b[90m<tibble [100 × 5]>\u001b[39m \u001b[90m<tibble [0 × 3]>\u001b[39m\n",
      "\u001b[90m 7\u001b[39m \u001b[90m<split [1817/202]>\u001b[39m Fold07 \u001b[90m<tibble [100 × 5]>\u001b[39m \u001b[90m<tibble [0 × 3]>\u001b[39m\n",
      "\u001b[90m 8\u001b[39m \u001b[90m<split [1817/202]>\u001b[39m Fold08 \u001b[90m<tibble [100 × 5]>\u001b[39m \u001b[90m<tibble [0 × 3]>\u001b[39m\n",
      "\u001b[90m 9\u001b[39m \u001b[90m<split [1817/202]>\u001b[39m Fold09 \u001b[90m<tibble [100 × 5]>\u001b[39m \u001b[90m<tibble [0 × 3]>\u001b[39m\n",
      "\u001b[90m10\u001b[39m \u001b[90m<split [1818/201]>\u001b[39m Fold10 \u001b[90m<tibble [100 × 5]>\u001b[39m \u001b[90m<tibble [0 × 3]>\u001b[39m\n"
     ]
    }
   ],
   "source": [
    "set.seed(1307)\n",
    "xgboost_spec %>% tune_grid(class ~ .,\n",
    "                           resamples = cell_folds,\n",
    "                           grid = data.frame(trees = 1:100),\n",
    "                           metrics = roc_res) %>% print"
   ]
  },
  {
   "attachments": {
    "racing-process-1.png": {
     "image/png": "[encoded data removed]"
    }
   },
   "cell_type": "markdown",
   "id": "dfcac7c8",
   "metadata": {},
   "source": [
    "<br>\n",
    "\n",
    "### Racing Method\n",
    "- **그리드 서치의 한 가지 문제는 튜닝 파라미터를 평가하기 전에, 모든 모델이 모든 리샘플링에 적합해야 한다는 것** \n",
    "\n",
    "    $\\rightarrow$ 튜닝 중 어느 시점에서, 파라미터 후보를 제거하기 위해 중간 분석을 수행할 수 있다면 계산 속도가 향상\n",
    "\n",
    "<br>\n",
    "\n",
    "- **머신 러닝에서, Racing Method라고 불리는 일련의 기술은, 튜닝 프로세스중 리샘플링의 초기 하위 집합에 대해 모든 모델을 평가 후,**\n",
    "\n",
    "    **성능 지표에 따라 일부 파라미터 집합은 후속 리샘플링에서 고려되지 않음**\n",
    "\n",
    "<br>\n",
    "\n",
    "#### 20개의 파라미터 튜닝과, 10개의 리샘플에 대한 Racing Method\n",
    "- **모델의 결과는 단측 95% 신뢰 구간으로, 현재 가장 우수한 성능을 발휘하는 매개변수에 상대적인 ROC 값의 손실을 측정**\n",
    "\n",
    "\n",
    "![racing-process-1.png](attachment:racing-process-1.png)\n",
    "\n",
    "\n",
    "<br>\n",
    "\n",
    "\n",
    "https://www.tmwr.org/race_results.mp4\n",
    "\n",
    "\n",
    "\n"
   ]
  },
  {
   "cell_type": "markdown",
   "id": "b94e9ecc",
   "metadata": {},
   "source": [
    "\n",
    "#### ```tune_race_anova()``` : 분산 분석 모형을 수행하여 서로 다른 모형 구성의 통계적 유의성을 검정\n",
    "- 인수들은 ```tune_grid()```의 인수들과 유사\n",
    "\n",
    "- ```control_race()``` 함수에는 제거 절차에 대한 옵션이 존재\n",
    "\n",
    " "
   ]
  },
  {
   "cell_type": "code",
   "execution_count": 72,
   "id": "2cf53361",
   "metadata": {
    "vscode": {
     "languageId": "r"
    }
   },
   "outputs": [],
   "source": [
    "library(finetune)"
   ]
  },
  {
   "cell_type": "code",
   "execution_count": 73,
   "id": "577d728f",
   "metadata": {
    "scrolled": true,
    "vscode": {
     "languageId": "r"
    }
   },
   "outputs": [
    {
     "name": "stderr",
     "output_type": "stream",
     "text": [
      "\u001b[30mℹ Racing will maximize the roc_auc metric.\u001b[39m\n",
      "\u001b[30mℹ Resamples are analyzed in a random order.\u001b[39m\n",
      "\u001b[30mℹ Fold10: 11 eliminated; 9 candidates remain.\u001b[39m\n",
      "\n",
      "\u001b[30mℹ Fold06: 1 eliminated; 8 candidates remain.\u001b[39m\n",
      "\n",
      "\u001b[30mℹ Fold08: 1 eliminated; 7 candidates remain.\u001b[39m\n",
      "\n",
      "\u001b[30mℹ Fold09: 0 eliminated; 7 candidates remain.\u001b[39m\n",
      "\n",
      "\u001b[30mℹ Fold05: 0 eliminated; 7 candidates remain.\u001b[39m\n",
      "\n",
      "\u001b[30mℹ Fold01: 1 eliminated; 6 candidates remain.\u001b[39m\n",
      "\n",
      "\u001b[30mℹ Fold07: 2 eliminated; 4 candidates remain.\u001b[39m\n",
      "\n"
     ]
    }
   ],
   "source": [
    "set.seed(1308)\n",
    "mlp_sfd_race <- mlp_wflow %>%\n",
    "    tune_race_anova(cell_folds,\n",
    "                    grid = 20,\n",
    "                    param_info = mlp_param,\n",
    "                    metrics = roc_res, \n",
    "                    control = control_race(verbose_elim = TRUE))"
   ]
  },
  {
   "cell_type": "code",
   "execution_count": 74,
   "id": "32cebd20",
   "metadata": {
    "vscode": {
     "languageId": "r"
    }
   },
   "outputs": [
    {
     "name": "stdout",
     "output_type": "stream",
     "text": [
      "# Tuning results\n",
      "# 10-fold cross-validation \n",
      "\u001b[90m# A tibble: 10 × 5\u001b[39m\n",
      "   splits             id     .order .metrics          .notes          \n",
      "   \u001b[3m\u001b[90m<list>\u001b[39m\u001b[23m             \u001b[3m\u001b[90m<chr>\u001b[39m\u001b[23m   \u001b[3m\u001b[90m<int>\u001b[39m\u001b[23m \u001b[3m\u001b[90m<list>\u001b[39m\u001b[23m            \u001b[3m\u001b[90m<list>\u001b[39m\u001b[23m          \n",
      "\u001b[90m 1\u001b[39m \u001b[90m<split [1817/202]>\u001b[39m Fold02      2 \u001b[90m<tibble [20 × 8]>\u001b[39m \u001b[90m<tibble [0 × 3]>\u001b[39m\n",
      "\u001b[90m 2\u001b[39m \u001b[90m<split [1817/202]>\u001b[39m Fold04      3 \u001b[90m<tibble [20 × 8]>\u001b[39m \u001b[90m<tibble [0 × 3]>\u001b[39m\n",
      "\u001b[90m 3\u001b[39m \u001b[90m<split [1818/201]>\u001b[39m Fold10      1 \u001b[90m<tibble [20 × 8]>\u001b[39m \u001b[90m<tibble [0 × 3]>\u001b[39m\n",
      "\u001b[90m 4\u001b[39m \u001b[90m<split [1817/202]>\u001b[39m Fold06      4 \u001b[90m<tibble [9 × 8]>\u001b[39m  \u001b[90m<tibble [0 × 3]>\u001b[39m\n",
      "\u001b[90m 5\u001b[39m \u001b[90m<split [1817/202]>\u001b[39m Fold08      5 \u001b[90m<tibble [8 × 8]>\u001b[39m  \u001b[90m<tibble [0 × 3]>\u001b[39m\n",
      "\u001b[90m 6\u001b[39m \u001b[90m<split [1817/202]>\u001b[39m Fold09      6 \u001b[90m<tibble [7 × 8]>\u001b[39m  \u001b[90m<tibble [0 × 3]>\u001b[39m\n",
      "\u001b[90m 7\u001b[39m \u001b[90m<split [1817/202]>\u001b[39m Fold05      7 \u001b[90m<tibble [7 × 8]>\u001b[39m  \u001b[90m<tibble [0 × 3]>\u001b[39m\n",
      "\u001b[90m 8\u001b[39m \u001b[90m<split [1817/202]>\u001b[39m Fold01      8 \u001b[90m<tibble [7 × 8]>\u001b[39m  \u001b[90m<tibble [0 × 3]>\u001b[39m\n",
      "\u001b[90m 9\u001b[39m \u001b[90m<split [1817/202]>\u001b[39m Fold07      9 \u001b[90m<tibble [6 × 8]>\u001b[39m  \u001b[90m<tibble [0 × 3]>\u001b[39m\n",
      "\u001b[90m10\u001b[39m \u001b[90m<split [1817/202]>\u001b[39m Fold03     10 \u001b[90m<tibble [4 × 8]>\u001b[39m  \u001b[90m<tibble [0 × 3]>\u001b[39m\n"
     ]
    }
   ],
   "source": [
    "print(mlp_sfd_race)"
   ]
  },
  {
   "cell_type": "code",
   "execution_count": 75,
   "id": "50a2c488",
   "metadata": {
    "vscode": {
     "languageId": "r"
    }
   },
   "outputs": [
    {
     "data": {
      "text/html": [
       "<table class=\"dataframe\">\n",
       "<caption>A tibble: 4 × 10</caption>\n",
       "<thead>\n",
       "\t<tr><th scope=col>hidden_units</th><th scope=col>penalty</th><th scope=col>epochs</th><th scope=col>num_comp</th><th scope=col>.metric</th><th scope=col>.estimator</th><th scope=col>mean</th><th scope=col>n</th><th scope=col>std_err</th><th scope=col>.config</th></tr>\n",
       "\t<tr><th scope=col>&lt;int&gt;</th><th scope=col>&lt;dbl&gt;</th><th scope=col>&lt;int&gt;</th><th scope=col>&lt;int&gt;</th><th scope=col>&lt;chr&gt;</th><th scope=col>&lt;chr&gt;</th><th scope=col>&lt;dbl&gt;</th><th scope=col>&lt;int&gt;</th><th scope=col>&lt;dbl&gt;</th><th scope=col>&lt;chr&gt;</th></tr>\n",
       "</thead>\n",
       "<tbody>\n",
       "\t<tr><td>3</td><td>0.0401691390</td><td>151</td><td>10</td><td>roc_auc</td><td>binary</td><td>0.8859756</td><td>10</td><td>0.009198028</td><td>Preprocessor15_Model1</td></tr>\n",
       "\t<tr><td>8</td><td>0.8139619097</td><td>177</td><td>15</td><td>roc_auc</td><td>binary</td><td>0.8843796</td><td>10</td><td>0.010246803</td><td>Preprocessor08_Model1</td></tr>\n",
       "\t<tr><td>3</td><td>0.1229822435</td><td> 55</td><td>36</td><td>roc_auc</td><td>binary</td><td>0.8786592</td><td>10</td><td>0.009293213</td><td>Preprocessor11_Model1</td></tr>\n",
       "\t<tr><td>2</td><td>0.0007914545</td><td>164</td><td> 7</td><td>roc_auc</td><td>binary</td><td>0.8784477</td><td>10</td><td>0.009084525</td><td>Preprocessor02_Model1</td></tr>\n",
       "</tbody>\n",
       "</table>\n"
      ],
      "text/latex": [
       "A tibble: 4 × 10\n",
       "\\begin{tabular}{llllllllll}\n",
       " hidden\\_units & penalty & epochs & num\\_comp & .metric & .estimator & mean & n & std\\_err & .config\\\\\n",
       " <int> & <dbl> & <int> & <int> & <chr> & <chr> & <dbl> & <int> & <dbl> & <chr>\\\\\n",
       "\\hline\n",
       "\t 3 & 0.0401691390 & 151 & 10 & roc\\_auc & binary & 0.8859756 & 10 & 0.009198028 & Preprocessor15\\_Model1\\\\\n",
       "\t 8 & 0.8139619097 & 177 & 15 & roc\\_auc & binary & 0.8843796 & 10 & 0.010246803 & Preprocessor08\\_Model1\\\\\n",
       "\t 3 & 0.1229822435 &  55 & 36 & roc\\_auc & binary & 0.8786592 & 10 & 0.009293213 & Preprocessor11\\_Model1\\\\\n",
       "\t 2 & 0.0007914545 & 164 &  7 & roc\\_auc & binary & 0.8784477 & 10 & 0.009084525 & Preprocessor02\\_Model1\\\\\n",
       "\\end{tabular}\n"
      ],
      "text/markdown": [
       "\n",
       "A tibble: 4 × 10\n",
       "\n",
       "| hidden_units &lt;int&gt; | penalty &lt;dbl&gt; | epochs &lt;int&gt; | num_comp &lt;int&gt; | .metric &lt;chr&gt; | .estimator &lt;chr&gt; | mean &lt;dbl&gt; | n &lt;int&gt; | std_err &lt;dbl&gt; | .config &lt;chr&gt; |\n",
       "|---|---|---|---|---|---|---|---|---|---|\n",
       "| 3 | 0.0401691390 | 151 | 10 | roc_auc | binary | 0.8859756 | 10 | 0.009198028 | Preprocessor15_Model1 |\n",
       "| 8 | 0.8139619097 | 177 | 15 | roc_auc | binary | 0.8843796 | 10 | 0.010246803 | Preprocessor08_Model1 |\n",
       "| 3 | 0.1229822435 |  55 | 36 | roc_auc | binary | 0.8786592 | 10 | 0.009293213 | Preprocessor11_Model1 |\n",
       "| 2 | 0.0007914545 | 164 |  7 | roc_auc | binary | 0.8784477 | 10 | 0.009084525 | Preprocessor02_Model1 |\n",
       "\n"
      ],
      "text/plain": [
       "  hidden_units penalty      epochs num_comp .metric .estimator mean      n \n",
       "1 3            0.0401691390 151    10       roc_auc binary     0.8859756 10\n",
       "2 8            0.8139619097 177    15       roc_auc binary     0.8843796 10\n",
       "3 3            0.1229822435  55    36       roc_auc binary     0.8786592 10\n",
       "4 2            0.0007914545 164     7       roc_auc binary     0.8784477 10\n",
       "  std_err     .config              \n",
       "1 0.009198028 Preprocessor15_Model1\n",
       "2 0.010246803 Preprocessor08_Model1\n",
       "3 0.009293213 Preprocessor11_Model1\n",
       "4 0.009084525 Preprocessor02_Model1"
      ]
     },
     "metadata": {},
     "output_type": "display_data"
    }
   ],
   "source": [
    "show_best(mlp_sfd_race)"
   ]
  }
 ],
 "metadata": {
  "kernelspec": {
   "display_name": "R-4.3.2",
   "language": "R",
   "name": "ir"
  },
  "language_info": {
   "codemirror_mode": "r",
   "file_extension": ".r",
   "mimetype": "text/x-r-source",
   "name": "R",
   "pygments_lexer": "r",
   "version": "4.3.2"
  }
 },
 "nbformat": 4,
 "nbformat_minor": 5
}
