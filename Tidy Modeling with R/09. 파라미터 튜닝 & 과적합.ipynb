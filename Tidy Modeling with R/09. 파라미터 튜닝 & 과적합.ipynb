{
 "cells": [
  {
   "cell_type": "markdown",
   "id": "d6cdd419",
   "metadata": {},
   "source": [
    "# 09. 모델튜닝 & 과적합의 위험성\n",
    "\n",
    "- 예측을 위해 모델을 사용하려면 해당 모델의 파라미터를 추정해야함\n",
    "- 파라미터 중 일부는 훈련 데이터에서 직접 추정할 수 있지만, 하이퍼 파라미터는 훈련 데이터에서 직접 찾을 수 없음. \n",
    "- 이는 모델에 중대한 영향을 미치지만 데이터에서 직접 추정할 수 없는 알려지지 않은 구조적 또는 기타 종류의 값\n",
    "\n",
    "<br>"
   ]
  },
  {
   "cell_type": "code",
   "execution_count": 3,
   "id": "073c80c3",
   "metadata": {
    "vscode": {
     "languageId": "r"
    }
   },
   "outputs": [],
   "source": [
    "library(tidyverse)\n",
    "library(tidymodels)\n",
    "ggplot2::theme_set(theme_bw())\n",
    "tidymodels_prefer()\n",
    "library(ggforce)"
   ]
  },
  {
   "cell_type": "markdown",
   "id": "7311ad94",
   "metadata": {},
   "source": [
    "<br>\n",
    "\n",
    "## 09.01 모델 파라미터\n",
    "- 일반 선형회귀에는 두 개의 파라미터 $\\beta_0, \\beta_1$이 존재하며, \n",
    "    \n",
    "    **데이터에서 직접 파라미터를 추정 할 수 있음**\n",
    "\n",
    "$$y_i = \\beta_0 + \\beta_1 x_i + \\epsilon_i$$\n",
    "\n",
    "$$\\hat \\beta_1 = \\frac{\\sum_i (y_i-\\bar{y})(x_i-\\bar{x})}{\\sum_i(x_i-\\bar{x})^2}$$\n",
    "\n",
    "$$\\hat \\beta_0 = \\bar{y}-\\hat \\beta_1 \\bar{x}.$$"
   ]
  },
  {
   "cell_type": "markdown",
   "id": "af7cf66f",
   "metadata": {},
   "source": [
    "<br>\n",
    "\n",
    "- KNN모델의 경우, 예측값은 \n",
    "\n",
    "$$\\hat y = \\frac{1}{K}\\sum_{\\ell = 1}^K x_\\ell^*$$ \n",
    "\n",
    "- $K$는 이웃의 수이고, $x_\\ell^*$는 훈련데이터에서 $x_0$과 가장 가까운 $K$개의 값들\n",
    "    \n",
    "    $\\rightarrow$ **모델은 방정식으로 정의되지 않음**\n",
    "    \n",
    "    - 이웃의 수 $K$는 모델에 큰 영향을 미치며, 클래스 경계의 유연성을 제어\n",
    "        \n",
    "        $K$값이 매우 작으면 경계는 매우 정교해지지만, 값이 크면 매우 매끄러울 수 있음\n",
    "        \n",
    "    $\\rightarrow$ **$K$는 KNN모델의 하이퍼 파라미터**\n"
   ]
  },
  {
   "cell_type": "markdown",
   "id": "35f2663f",
   "metadata": {},
   "source": [
    "<br>\n",
    "\n",
    "## 09.02. 서로 다른 모델의 하이퍼 파라미터\n",
    "#### 머신러닝에서 하이파 파라미터 튜닝\n",
    "\n",
    "<br>\n",
    "\n",
    "1. 부스팅\n",
    "- 부스팅은 일련의 기본 모델을 결합하는 앙상블 방법으로, 각 기본 모델은 순차적으로 생성되고 이전 모델에 종속. \n",
    "- 부스팅 반복 횟수는 일반적으로 최적화가 필요한 중요한 튜닝 파라미터\n",
    "\n",
    "<br>\n",
    "\n",
    "2. 신경망\n",
    "- 고전적인 단일 계층 인공 신경망(일명 다층 퍼셉트론)에서는 예측 변수가 두 개 이상의 은닉층을 사용하여 결합\n",
    "- 은닉층은 활성화 함수 (일반적으로 시그모이드와 같은 비선형 함수)에 캡처된 예측 변수의 선형 조합\n",
    "- 은닉층은 출력층에 연결되며, 회귀 모델에는 하나의 출력층이 사용되며 분류에는 여러 출력층이 필요\n",
    "- 은닉층의 수와 활성화 함수 유형은 중요한 튜닝 파라미터\n",
    "\n",
    "<br>\n",
    "\n",
    "3. 경사하강법\n",
    "- 경사하강법은 올바른 최적화 매개변수를 찾아 개선됨. 이러한 하이퍼 파라미터의 예로는 학습률, 모멘텀, 최적화 반복/시대 수 등이 존재 ( Goodfellow, Bengio 및 Courville 2016 ). \n",
    "- 신경망과 일부 앙상블 모델은 경사하강법을 사용하여 모델 매개변수를 추정\n",
    "- 경사하강법과 관련된 파라미터는 튜닝이 필요한 경우가 많음\n",
    "\n",
    "<br>\n",
    "\n",
    "#### 전처리 단계에서의 하이퍼 파라미터 튜닝\n",
    "\n",
    "1. PCA & PLS\n",
    "- PCA 또는 PLS라 불리는 지도학습에서 설명변수는 다중공선성과 관련된 더 나은 성분을 가진 새로운 변수로 대체되며, 성분의 수는 튜닝 파라미터\n",
    "\n",
    "2. 결측값 대체\n",
    "- 하나 이상의 설명변수 값을 사용하여 결측값을 추정\n",
    "- 효과적인 결측값 대체법은 KNN이며, K는 중요한 튜닝 파라미터\n",
    "\n",
    "<br>\n",
    "\n",
    "#### 통계 모델에서의 하이퍼 파라미터 튜닝\n",
    "\n",
    "1. 이진분류 모델\n",
    "- 이진변수에 대한 모델에서는 로짓 연결함수가 일반적으로 사용 (로지스틱, 프로빗, 로그-로그 등)\n",
    "- 연결함수의 종류는 중요한 튜닝 파라미터\n",
    "\n",
    "<br>"
   ]
  },
  {
   "cell_type": "markdown",
   "id": "6d3b1869",
   "metadata": {},
   "source": [
    "#### 하이퍼 파라미터 튜닝이 불필요함\n",
    "1. 베이지안 분석에 필요한 사전 분포\n",
    "- 사전분포는 증거나 데이터를 고려하기 전에, 분포에 대한 분석가의 믿음을 요약\n",
    "- 이전의 베이지안 ANOVA 모델에서, 회귀 매개변수에 대한 사전 값이 무엇인지 명확하지 않았으며, 꼬리가 더 두꺼우므로 사전 분포에 대해 자유도가 1인 t-분포를 선택함\n",
    "    \n",
    "    $\\rightarrow$ **이는 불확실성을 반영한 것이며, 사전분포는 최적화의 대상이 되어서는 안 됨**\n",
    "    \n",
    "- **하이퍼 파라미터는 일반적으로 성능을 위해 최적화되어야 함**\n",
    "\n",
    "<br>\n",
    "\n",
    "2. 랜덤포레스트/배깅\n",
    "- 랜덤 포레스트 또는 배깅 모델의 나무 수는 결과의 수치적 안정성을 보장할 만큼 충분히 크게 선택되어야 함\n",
    "- 값이 신뢰할 수 있는 결과를 생성할 만큼 충분히 큰 경우에는, 튜닝을 통해 성능을 향상시킬 수 없음\n",
    "- 랜덤 포레스트의 경우 이 값은 일반적으로 수천 개이지만 배깅에 필요한 나무 수는 약 50~100개\n"
   ]
  },
  {
   "cell_type": "markdown",
   "id": "8692d343",
   "metadata": {},
   "source": [
    "<br>\n",
    "\n",
    "## 09.02. 튜닝의 대상\n",
    "- 하이퍼 파라미터 튜닝에서의 모델 평가는, 모델의 종류와 목적에 따라 상이\n",
    "- 튜닝 파라미터의 통계적 속성이 다루기 쉬운 경우, 공통 통계 속성을 목적 함수로 사용\n",
    "    - **예를 들어 이진 로지스틱 회귀 분석의 경우, 가능도 또는 정보 기준(IC)을 최대화하여 연결 함수를 선택**\n",
    "        \n",
    "        **그러나 이러한 통계적 속성은 정확도 지향 속성을 사용하여 얻은 결과와 일치하지 않을 수 있음**"
   ]
  },
  {
   "cell_type": "markdown",
   "id": "6d68c626",
   "metadata": {},
   "source": [
    "> **과적합으로 가능도를 낮추면, 실제로 오분류율은 높아질 수 있음. 비록 직관에 반할 수도 있지만, 이는 모순이 아님**\n",
    ">\n",
    "> $\\rightarrow$ **가능도와 오분류율은 서로 다른 다양한 지표를 측정**"
   ]
  },
  {
   "cell_type": "markdown",
   "id": "42ebf59a",
   "metadata": {},
   "source": [
    "<br>\n",
    "\n",
    "#### 2개의 클래스와 593개의 관측값으로 구성된 데이터\n",
    "- 로지스틱 회귀 (GLM)을 사용\n",
    "    \n",
    "    $\\rightarrow$ 로짓변환을 사용, 샘플이 Class 1인 로그 확률을 활용\n",
    "    \n",
    "$$\\log\\left(\\frac{\\pi}{1 - \\pi}\\right) = \\beta_0 + \\beta_1x_1 + \\ldots + \\beta_px_p$$\n",
    "\n",
    "- 프로빗 모델 활용 시 ($\\Phi$는 표준정규분포의 누적분포)\n",
    "$$\\Phi^{-1}(\\pi) = \\beta_0 + \\beta_1x_1 + \\ldots + \\beta_px_p$$\n",
    "\n",
    "- 로그-로그 모델 활용 시\n",
    "$$\\log(-\\log(1-\\pi)) = \\beta_0 + \\beta_1x_1 + \\ldots + \\beta_px_p$$"
   ]
  },
  {
   "cell_type": "code",
   "execution_count": 15,
   "id": "ce06204b",
   "metadata": {},
   "outputs": [],
   "source": [
    "data(two_class_dat)"
   ]
  },
  {
   "cell_type": "code",
   "execution_count": 14,
   "id": "c6a0240e",
   "metadata": {},
   "outputs": [
    {
     "data": {
      "image/png": "[encoded data removed]",
      "text/plain": [
       "plot without title"
      ]
     },
     "metadata": {
      "image/png": {
       "height": 420,
       "width": 420
      }
     },
     "output_type": "display_data"
    }
   ],
   "source": [
    "ggplot(two_class_dat) +\n",
    "    geom_point(aes(A, B, colour=Class, shape=Class))"
   ]
  },
  {
   "cell_type": "code",
   "execution_count": 16,
   "id": "5b05591d",
   "metadata": {},
   "outputs": [],
   "source": [
    "set.seed(91)\n",
    "split <- initial_split(two_class_dat)\n",
    "training_set <- training(split)\n",
    "testing_set  <-  testing(split)\n",
    "\n",
    "data_grid <- crossing(A = seq(0.4, 4, length = 200), \n",
    "                      B = seq(.14, 3.9, length = 200))"
   ]
  },
  {
   "cell_type": "markdown",
   "id": "0776c399",
   "metadata": {},
   "source": [
    "<br>\n",
    "\n",
    "- **연결함수 선택에 있어 통계적인 접근 방식은, 각 모델에 대한 로그 가능도를 계산하고 가장 큰 값을 갖는 모델을 결정**\n",
    "\n",
    "    $\\rightarrow$ 로지스틱 모델이 가장 좋은 통계적 특성 (가장 높은 로그 가능도)를 가짐\n",
    "    \n"
   ]
  },
  {
   "cell_type": "code",
   "execution_count": 18,
   "id": "141402c0",
   "metadata": {},
   "outputs": [],
   "source": [
    "llhood <- function(...) {\n",
    "    logistic_reg() %>% \n",
    "        set_engine(\"glm\", ...) %>% \n",
    "        fit(Class ~ ., data = training_set) %>% \n",
    "        glance() %>% \n",
    "        select(logLik)\n",
    "}"
   ]
  },
  {
   "cell_type": "code",
   "execution_count": 19,
   "id": "a0df43f6",
   "metadata": {},
   "outputs": [
    {
     "data": {
      "text/html": [
       "<table class=\"dataframe\">\n",
       "<caption>A tibble: 3 × 2</caption>\n",
       "<thead>\n",
       "\t<tr><th scope=col>logLik</th><th scope=col>link</th></tr>\n",
       "\t<tr><th scope=col>&lt;dbl&gt;</th><th scope=col>&lt;chr&gt;</th></tr>\n",
       "</thead>\n",
       "<tbody>\n",
       "\t<tr><td>-257.5885</td><td>logit    </td></tr>\n",
       "\t<tr><td>-261.6862</td><td>probit   </td></tr>\n",
       "\t<tr><td>-269.7402</td><td>c-log-log</td></tr>\n",
       "</tbody>\n",
       "</table>\n"
      ],
      "text/latex": [
       "A tibble: 3 × 2\n",
       "\\begin{tabular}{ll}\n",
       " logLik & link\\\\\n",
       " <dbl> & <chr>\\\\\n",
       "\\hline\n",
       "\t -257.5885 & logit    \\\\\n",
       "\t -261.6862 & probit   \\\\\n",
       "\t -269.7402 & c-log-log\\\\\n",
       "\\end{tabular}\n"
      ],
      "text/markdown": [
       "\n",
       "A tibble: 3 × 2\n",
       "\n",
       "| logLik &lt;dbl&gt; | link &lt;chr&gt; |\n",
       "|---|---|\n",
       "| -257.5885 | logit     |\n",
       "| -261.6862 | probit    |\n",
       "| -269.7402 | c-log-log |\n",
       "\n"
      ],
      "text/plain": [
       "  logLik    link     \n",
       "1 -257.5885 logit    \n",
       "2 -261.6862 probit   \n",
       "3 -269.7402 c-log-log"
      ]
     },
     "metadata": {},
     "output_type": "display_data"
    }
   ],
   "source": [
    "bind_rows(\n",
    "    llhood(),\n",
    "    llhood(family = binomial(link = \"probit\")),\n",
    "    llhood(family = binomial(link = \"cloglog\"))\n",
    ") %>% \n",
    "    mutate(link = c(\"logit\", \"probit\", \"c-log-log\"))  %>% \n",
    "    arrange(desc(logLik))"
   ]
  },
  {
   "cell_type": "markdown",
   "id": "2a349a36",
   "metadata": {},
   "source": [
    "- **로그 가능도를 통한 연결함수 선택은, 그 의미에 대해서 이해하기 어려움**\n",
    "\n",
    "    $\\rightarrow$ **통계량을 리샘플링하고, 성능 추정에 사용된 데이터에서 모델링 데이터를 분리 하는 것**\n",
    "    \n",
    "- 반복적인 10-fold 교차검증을 통해서, 음의 로그 가능도 측정"
   ]
  },
  {
   "cell_type": "code",
   "execution_count": 20,
   "id": "f1de16d5",
   "metadata": {},
   "outputs": [],
   "source": [
    "set.seed(1201)\n",
    "rs <- vfold_cv(training_set, repeats = 10)"
   ]
  },
  {
   "cell_type": "code",
   "execution_count": 22,
   "id": "05468aa7",
   "metadata": {},
   "outputs": [],
   "source": [
    "lloss <- function(...) {\n",
    "    perf_meas <- metric_set(roc_auc, mn_log_loss)\n",
    "\n",
    "    logistic_reg() %>% \n",
    "        set_engine(\"glm\", ...) %>% \n",
    "        fit_resamples(Class ~ A + B, rs, metrics = perf_meas) %>% \n",
    "        collect_metrics(summarize = FALSE) %>%\n",
    "        select(id, id2, .metric, .estimate)\n",
    "}"
   ]
  },
  {
   "cell_type": "code",
   "execution_count": 29,
   "id": "805cc0e7",
   "metadata": {
    "scrolled": true
   },
   "outputs": [
    {
     "name": "stderr",
     "output_type": "stream",
     "text": [
      "→ \u001b[33m\u001b[1mA\u001b[22m\u001b[39m | \u001b[33mwarning\u001b[39m: glm.fit: fitted probabilities numerically 0 or 1 occurred\n",
      "\n",
      "There were issues with some computations   \u001b[1m\u001b[33mA\u001b[39m\u001b[22m: x1\n",
      "There were issues with some computations   \u001b[1m\u001b[33mA\u001b[39m\u001b[22m: x1\n",
      "\n",
      "\n"
     ]
    }
   ],
   "source": [
    "resampled_res <- bind_rows(\n",
    "    lloss() %>% mutate(model = \"logistic\"),\n",
    "    lloss(family = binomial(link = \"probit\"))  %>% mutate(model = \"probit\"),\n",
    "    lloss(family = binomial(link = \"cloglog\")) %>% mutate(model = \"c-log-log\")     \n",
    ") %>%\n",
    "    mutate(`.estimate` = ifelse(`.metric` == \"mn_log_loss\", -1 * `.estimate`, `.estimate`)) %>% \n",
    "    group_by(model, .metric) %>% \n",
    "    summarize(\n",
    "        mean = mean(.estimate, na.rm = TRUE),\n",
    "        std_err = sd(.estimate, na.rm = TRUE) / sqrt(n()), \n",
    "        .groups = \"drop\"\n",
    "    )"
   ]
  },
  {
   "cell_type": "markdown",
   "id": "4d7d5441",
   "metadata": {},
   "source": [
    "- 세 가지 다른 연결 함수별, 리샘플링된 이항 로그 가능도에 대한 평균과 90% 신뢰 구간"
   ]
  },
  {
   "cell_type": "code",
   "execution_count": 30,
   "id": "c48fb66f",
   "metadata": {},
   "outputs": [
    {
     "data": {
      "image/png": "[encoded data removed]",
      "text/plain": [
       "plot without title"
      ]
     },
     "metadata": {
      "image/png": {
       "height": 420,
       "width": 420
      }
     },
     "output_type": "display_data"
    }
   ],
   "source": [
    "resampled_res %>% \n",
    "    filter(.metric == \"mn_log_loss\") %>% \n",
    "    ggplot(aes(x = mean, y = model)) + \n",
    "    geom_point() + \n",
    "    geom_errorbar(aes(xmin = mean - 1.64 * std_err, xmax = mean + 1.64 * std_err),\n",
    "                width = .1) + \n",
    "    labs(y = NULL, x = \"log-likelihood\")"
   ]
  },
  {
   "cell_type": "markdown",
   "id": "ecd3d73e",
   "metadata": {},
   "source": [
    "<br>\n",
    "\n",
    "#### 측정항목에 따라, 하이퍼 파라미터 튜닝의 결정값이 달라질 수 있음"
   ]
  },
  {
   "cell_type": "code",
   "execution_count": 32,
   "id": "d96b3778",
   "metadata": {},
   "outputs": [],
   "source": [
    "logit_pred <- logistic_reg() %>% \n",
    "    set_engine(\"glm\") %>% \n",
    "    fit(Class ~ A + B, data = training_set) %>% \n",
    "    predict(data_grid, type = \"prob\") %>% \n",
    "    bind_cols(data_grid) %>% \n",
    "    mutate(link = \"logit\")"
   ]
  },
  {
   "cell_type": "code",
   "execution_count": 33,
   "id": "bfbf458d",
   "metadata": {},
   "outputs": [],
   "source": [
    "probit_pred <- logistic_reg() %>% \n",
    "    set_engine(\"glm\", family = binomial(link = \"probit\")) %>% \n",
    "    fit(Class ~ A + B, data = training_set) %>% \n",
    "    predict(data_grid, type = \"prob\") %>% \n",
    "    bind_cols(data_grid) %>% \n",
    "    mutate(link = \"probit\")"
   ]
  },
  {
   "cell_type": "code",
   "execution_count": 34,
   "id": "567ea258",
   "metadata": {},
   "outputs": [],
   "source": [
    "cloglog_pred <- logistic_reg() %>% \n",
    "    set_engine(\"glm\", family = binomial(link = \"cloglog\")) %>% \n",
    "    fit(Class ~ A + B, data = training_set) %>% \n",
    "    predict(data_grid, type = \"prob\") %>% \n",
    "    bind_cols(data_grid) %>% \n",
    "    mutate(link = \"c-log-log\")"
   ]
  },
  {
   "cell_type": "code",
   "execution_count": 35,
   "id": "f7e04d90",
   "metadata": {},
   "outputs": [],
   "source": [
    "link_grids <- bind_rows(logit_pred, probit_pred, cloglog_pred) %>% \n",
    "    mutate(link = factor(link, levels = c(\"logit\", \"probit\", \"c-log-log\")))"
   ]
  },
  {
   "cell_type": "markdown",
   "id": "f98906b1",
   "metadata": {},
   "source": [
    "- 세 모델의 클래스 경계"
   ]
  },
  {
   "cell_type": "code",
   "execution_count": 36,
   "id": "daa139dc",
   "metadata": {},
   "outputs": [
    {
     "data": {
      "image/png": "[encoded data removed]",
      "text/plain": [
       "plot without title"
      ]
     },
     "metadata": {
      "image/png": {
       "height": 420,
       "width": 420
      }
     },
     "output_type": "display_data"
    }
   ],
   "source": [
    "link_grids %>% \n",
    "    ggplot(aes(x = A, y = B)) + \n",
    "    geom_point(data = testing_set, aes(color = Class, pch = Class), \n",
    "             alpha = 0.7, show.legend = FALSE) + \n",
    "    geom_contour(aes( z = .pred_Class1, lty = link), breaks = 0.5, color = \"black\") + \n",
    "    scale_color_manual(values = c(\"#CC6677\", \"#88CCEE\")) + \n",
    "    coord_equal() + \n",
    "    labs(x = \"Predictor A\", y = \"Predictor B\")"
   ]
  },
  {
   "cell_type": "markdown",
   "id": "23d7165a",
   "metadata": {},
   "source": [
    "<br>\n",
    "\n",
    "## 09.04. 잘못된 하이퍼 파라미터 튜닝\n",
    "- 하이퍼 파라미터 튜닝은 모델 복잡성의 정도를 조절\n",
    "- 복잡성이 높을수록 모델이 적합할 수 있는 패턴의 유연성이 높아지는 경우가 많음\n",
    "    - 예를 들어, 스플라인 함수에 자유도를 추가하면, 예측 방정식의 복잡성이 증가\n",
    "    \n",
    "        이는 데이터가 복잡할 때 이점이 되는 반면, 새로운 데이터에서 낮은 성능을 보일 수 있음\n",
    "        \n",
    "        $\\rightarrow$ **과적합은 모델이 훈련 데이터에 너무 많이 적응하는 상황**\n",
    "        \n",
    "        **모델을 구축하는 데 사용된 데이터에 대해서는 성능이 좋지만, 새 데이터에 대해서는 성능이 좋지 않음**"
   ]
  },
  {
   "cell_type": "markdown",
   "id": "d1d8a8a1",
   "metadata": {},
   "source": [
    "<br>\n",
    "\n",
    "- **신경망 분류 모델에서 은닉층의 수가 더 많이 추가됨에 따라 훈련 데이터에 대한 모델의 효율성이 증가**\n",
    "    \n",
    "    **하지만, 훈련 데이터에서 보이는 패턴을 매우 과도하게 해석하기 시작**\n",
    "    \n",
    "    - 단일 은닉층 모델은 데이터에 유연하게 적응하지 못함\n",
    "    - 4개의 은닉층 모델은 데이터의 주류에서 벗어난 값에 대한 비현실적인 경계로 인해 과적합의 징후를 보이기 시작\n",
    "    - 20개의 은닉층 모델은 훈련 데이터를 기억하기 시작하여, 테스트 데이터에서 낮은 성능을 보임\n",
    "    \n",
    "<img src = 'https://www.tmwr.org/figures/two-class-boundaries-1.png'>"
   ]
  },
  {
   "cell_type": "markdown",
   "id": "3ee2f7ac",
   "metadata": {},
   "source": [
    "- 모델이 훈련 데이터에 과적합 되는 것을 감지하기 위해서는, 검증할 수 있는 많은 데이터가 필요"
   ]
  },
  {
   "cell_type": "markdown",
   "id": "0058436f",
   "metadata": {},
   "source": [
    "<br>\n",
    "\n",
    "## 09.05. 하이퍼 파라미터 튜닝 전략\n",
    "- 하이퍼 파라미터 튜닝은 일반적으로 그리드 서치와 반복 서치라는 두 가지 범주가 존재\n",
    "- **그리드 서치는 튜닝할 파라미터 세트를 미리 정의하는 경우**\n",
    "    - 그리드 서치와 관련된 주요 선택 사항은, 그리드를 만드는 방법과 평가할 파리머의 조합 수입니다. \n",
    "    - 그리드 서치는 파라미터 공간을 커버하는 데 필요한 그리드 포인트 수가\n",
    "        \n",
    "        차원의 저주로 인해 관리하기 어려워질 수 있기 때문에 종종 비효율적이라고 판단될 수 있음\n",
    "\n",
    "- **반복 서치 또는 순차적 서치는 이전 결과를 기반으로 새로운 매개변수 조합을 순차적으로 발견하는 것**\n",
    "    - 어떤 경우에는 최적화 프로세스를 시작하기 위해, 하나 이상의 파라미터 조합에 대한 초기 결과 세트가 필요\n",
    "\n",
    "<br>\n",
    "\n",
    "- 0과 1 사이의 범위에 있는 두 개의 파라미터가 있는 상황에 대한 두 가지 접근 방식 결과 \n",
    "    - 각각의 등고선 세트는 파라미터와 결과 간의 실제(시뮬레이션된) 관계를 보여줌\n",
    "    - **왼쪽은 공간 채우기 디자인 (Space Filling)이라는 그리드 유형**\n",
    "        - 튜닝 파라미터 조합이 서로 가깝지 않도록 파라미터 공간을 커버하기 위해 고안된 실험 설계\n",
    "        - 이 설계의 결과는 실제로 최적의 파라미터에 위치하지 못하나, 한 지점은 최적의 파라미터에 근접\n",
    "    - **오른쪽은 전역 검색 방법인 Nelder-Mead 단순 방법**\n",
    "        - 파라미터 공간의 최적 위치에 도달할 때 까지 공간을 가로질러 구불구불하게 이동하며, 최적의 위치에서 가능한 한 수치적으로 가장 좋은 값에 가까워지려고 시도\n",
    "        - 이 검색방법은 효과적이지만 비효율적일 수도 있음. 특히 최적의 값 근처에서 더 많은 계산이 필요\n",
    "    - 하이브리드 전략은 초기 그리드 서치 후 최적의 그리드 조합부터 순차적 최적화가 시작\n",
    "    \n",
    "<img src ='https://www.tmwr.org/figures/tuning-strategies-1.png'>"
   ]
  },
  {
   "cell_type": "markdown",
   "id": "00fbf6dc",
   "metadata": {},
   "source": [
    "<br>\n",
    "\n",
    "## 09.06. 성공적인 하이퍼 파라미터 튜닝\n",
    "- 파라미터의 튜닝 세트는 모델의 엔진 (라이브러리)마다 상이\n",
    "    - `ranger` 패키지에는 다른 패키지에서 사용되지 않는 일부 인수가 포함\n",
    "        - `regularization.factor` : 설명변수 선택을 정규화하는 gain penalty 화, 앙상블에 사용되는 설명변수 수와 성능 간의 균형을 조절하는데 사용"
   ]
  },
  {
   "cell_type": "markdown",
   "id": "1dadc7f9",
   "metadata": {},
   "source": [
    "```r\n",
    "rand_forest(trees = 2000, min_n = 10) %>%                   # <- main arguments\n",
    "  set_engine(\"ranger\", regularization.factor = 0.5)         # <- engine-specific\n",
    "```"
   ]
  },
  {
   "cell_type": "markdown",
   "id": "3d4db0a3",
   "metadata": {},
   "source": [
    "<br>\n",
    "\n",
    "### 튜닝 가능한 파라미터 \n",
    "\n",
    "<br>\n",
    "\n",
    "#### 모델 내 튜닝 파라미터 지정\n",
    "* 신경망 모델의 은닉층을 조절하는 경우, `hidden_units` 파라미터를 `tune()`으로\n",
    "    \n",
    "    $\\rightarrow$ 최적화를 위한 파라미터 태그 기정"
   ]
  },
  {
   "cell_type": "code",
   "execution_count": 39,
   "id": "802d115b",
   "metadata": {},
   "outputs": [],
   "source": [
    "neural_net_spec <- mlp(hidden_units = tune()) %>%\n",
    "    set_mode(\"regression\") %>%\n",
    "    set_engine(\"keras\")"
   ]
  },
  {
   "cell_type": "markdown",
   "id": "939e7d9f",
   "metadata": {},
   "source": [
    "<br>\n",
    "\n",
    "#### 객체에 대한 튜닝 가능 파라미터 확인\n",
    "#### `extract_parameter_set_dials()`"
   ]
  },
  {
   "cell_type": "code",
   "execution_count": 41,
   "id": "ef42b398",
   "metadata": {},
   "outputs": [
    {
     "data": {
      "text/html": [
       "<table class=\"dataframe\">\n",
       "<caption>A parameters: 1 × 6</caption>\n",
       "<thead>\n",
       "\t<tr><th scope=col>name</th><th scope=col>id</th><th scope=col>source</th><th scope=col>component</th><th scope=col>component_id</th><th scope=col>object</th></tr>\n",
       "\t<tr><th scope=col>&lt;chr&gt;</th><th scope=col>&lt;chr&gt;</th><th scope=col>&lt;chr&gt;</th><th scope=col>&lt;chr&gt;</th><th scope=col>&lt;chr&gt;</th><th scope=col>&lt;list&gt;</th></tr>\n",
       "</thead>\n",
       "<tbody>\n",
       "\t<tr><td>hidden_units</td><td>hidden_units</td><td>model_spec</td><td>mlp</td><td>main</td><td>integer       , 1             , 10            , TRUE          , TRUE          , # Hidden Units</td></tr>\n",
       "</tbody>\n",
       "</table>\n"
      ],
      "text/latex": [
       "A parameters: 1 × 6\n",
       "\\begin{tabular}{llllll}\n",
       " name & id & source & component & component\\_id & object\\\\\n",
       " <chr> & <chr> & <chr> & <chr> & <chr> & <list>\\\\\n",
       "\\hline\n",
       "\t hidden\\_units & hidden\\_units & model\\_spec & mlp & main & integer       , 1             , 10            , TRUE          , TRUE          , \\# Hidden Units\\\\\n",
       "\\end{tabular}\n"
      ],
      "text/markdown": [
       "\n",
       "A parameters: 1 × 6\n",
       "\n",
       "| name &lt;chr&gt; | id &lt;chr&gt; | source &lt;chr&gt; | component &lt;chr&gt; | component_id &lt;chr&gt; | object &lt;list&gt; |\n",
       "|---|---|---|---|---|---|\n",
       "| hidden_units | hidden_units | model_spec | mlp | main | integer       , 1             , 10            , TRUE          , TRUE          , # Hidden Units |\n",
       "\n"
      ],
      "text/plain": [
       "  name         id           source     component component_id\n",
       "1 hidden_units hidden_units model_spec mlp       main        \n",
       "  object                                                                                        \n",
       "1 integer       , 1             , 10            , TRUE          , TRUE          , # Hidden Units"
      ]
     },
     "metadata": {},
     "output_type": "display_data"
    }
   ],
   "source": [
    "extract_parameter_set_dials(neural_net_spec)"
   ]
  },
  {
   "cell_type": "markdown",
   "id": "352fe2cc",
   "metadata": {},
   "source": [
    "<br>\n",
    "\n",
    "#### **전처리에서의 튜닝 파라미터 지정**\n",
    "- `step_other`의 기타 임곗값 (`threshold`)에 대한 튜닝 파라미터 지정\n",
    "- `step_ns`의 차수 (`deg_free`)에 대한 튜닝 파라미터 지정"
   ]
  },
  {
   "cell_type": "code",
   "execution_count": 43,
   "id": "2d59bede",
   "metadata": {},
   "outputs": [],
   "source": [
    "data(ames)\n",
    "ames <- mutate(ames, Sale_Price = log10(Sale_Price))\n",
    "\n",
    "set.seed(502)\n",
    "ames_split <- initial_split(ames, prop = 0.80, strata = Sale_Price)\n",
    "ames_train <- training(ames_split)\n",
    "ames_test  <-  testing(ames_split)"
   ]
  },
  {
   "cell_type": "code",
   "execution_count": 44,
   "id": "92c3e314",
   "metadata": {},
   "outputs": [],
   "source": [
    "ames_rec <- recipe(Sale_Price ~ Neighborhood + Gr_Liv_Area + Year_Built + Bldg_Type + Latitude + Longitude, data = ames_train)  %>%\n",
    "    step_log(Gr_Liv_Area, base = 10) %>% \n",
    "    step_other(Neighborhood, threshold = tune()) %>% \n",
    "    step_dummy(all_nominal_predictors()) %>% \n",
    "    step_interact( ~ Gr_Liv_Area:starts_with(\"Bldg_Type_\") ) %>% \n",
    "    step_ns(Longitude, deg_free = tune(\"longitude df\")) %>% \n",
    "    step_ns(Latitude,  deg_free = tune(\"latitude df\"))"
   ]
  },
  {
   "cell_type": "code",
   "execution_count": 45,
   "id": "a804c13c",
   "metadata": {},
   "outputs": [
    {
     "data": {
      "text/html": [
       "<table class=\"dataframe\">\n",
       "<caption>A parameters: 3 × 6</caption>\n",
       "<thead>\n",
       "\t<tr><th scope=col>name</th><th scope=col>id</th><th scope=col>source</th><th scope=col>component</th><th scope=col>component_id</th><th scope=col>object</th></tr>\n",
       "\t<tr><th scope=col>&lt;chr&gt;</th><th scope=col>&lt;chr&gt;</th><th scope=col>&lt;chr&gt;</th><th scope=col>&lt;chr&gt;</th><th scope=col>&lt;chr&gt;</th><th scope=col>&lt;list&gt;</th></tr>\n",
       "</thead>\n",
       "<tbody>\n",
       "\t<tr><td>threshold</td><td>threshold   </td><td>recipe</td><td>step_other</td><td>other_Xe89S</td><td>double   , 0        , 0.1      , TRUE     , TRUE     , Threshold</td></tr>\n",
       "\t<tr><td>deg_free </td><td>longitude df</td><td>recipe</td><td>step_ns   </td><td>ns_FRHb6   </td><td>integer                  , 1                        , 15                       , TRUE                     , TRUE                     , Spline Degrees of Freedom</td></tr>\n",
       "\t<tr><td>deg_free </td><td>latitude df </td><td>recipe</td><td>step_ns   </td><td>ns_xxQQr   </td><td>integer                  , 1                        , 15                       , TRUE                     , TRUE                     , Spline Degrees of Freedom</td></tr>\n",
       "</tbody>\n",
       "</table>\n"
      ],
      "text/latex": [
       "A parameters: 3 × 6\n",
       "\\begin{tabular}{llllll}\n",
       " name & id & source & component & component\\_id & object\\\\\n",
       " <chr> & <chr> & <chr> & <chr> & <chr> & <list>\\\\\n",
       "\\hline\n",
       "\t threshold & threshold    & recipe & step\\_other & other\\_Xe89S & double   , 0        , 0.1      , TRUE     , TRUE     , Threshold\\\\\n",
       "\t deg\\_free  & longitude df & recipe & step\\_ns    & ns\\_FRHb6    & integer                  , 1                        , 15                       , TRUE                     , TRUE                     , Spline Degrees of Freedom\\\\\n",
       "\t deg\\_free  & latitude df  & recipe & step\\_ns    & ns\\_xxQQr    & integer                  , 1                        , 15                       , TRUE                     , TRUE                     , Spline Degrees of Freedom\\\\\n",
       "\\end{tabular}\n"
      ],
      "text/markdown": [
       "\n",
       "A parameters: 3 × 6\n",
       "\n",
       "| name &lt;chr&gt; | id &lt;chr&gt; | source &lt;chr&gt; | component &lt;chr&gt; | component_id &lt;chr&gt; | object &lt;list&gt; |\n",
       "|---|---|---|---|---|---|\n",
       "| threshold | threshold    | recipe | step_other | other_Xe89S | double   , 0        , 0.1      , TRUE     , TRUE     , Threshold |\n",
       "| deg_free  | longitude df | recipe | step_ns    | ns_FRHb6    | integer                  , 1                        , 15                       , TRUE                     , TRUE                     , Spline Degrees of Freedom |\n",
       "| deg_free  | latitude df  | recipe | step_ns    | ns_xxQQr    | integer                  , 1                        , 15                       , TRUE                     , TRUE                     , Spline Degrees of Freedom |\n",
       "\n"
      ],
      "text/plain": [
       "  name      id           source component  component_id\n",
       "1 threshold threshold    recipe step_other other_Xe89S \n",
       "2 deg_free  longitude df recipe step_ns    ns_FRHb6    \n",
       "3 deg_free  latitude df  recipe step_ns    ns_xxQQr    \n",
       "  object                                                                                                                                                          \n",
       "1 double   , 0        , 0.1      , TRUE     , TRUE     , Threshold                                                                                                \n",
       "2 integer                  , 1                        , 15                       , TRUE                     , TRUE                     , Spline Degrees of Freedom\n",
       "3 integer                  , 1                        , 15                       , TRUE                     , TRUE                     , Spline Degrees of Freedom"
      ]
     },
     "metadata": {},
     "output_type": "display_data"
    }
   ],
   "source": [
    "recipes_param <- extract_parameter_set_dials(ames_rec)\n",
    "recipes_param"
   ]
  },
  {
   "cell_type": "markdown",
   "id": "c6c91acc",
   "metadata": {},
   "source": [
    "<br>\n",
    "\n",
    "#### 워크플로 전체에 대한 튜닝 파라미터 확인"
   ]
  },
  {
   "cell_type": "code",
   "execution_count": 46,
   "id": "d781dbc3",
   "metadata": {},
   "outputs": [
    {
     "data": {
      "text/html": [
       "<table class=\"dataframe\">\n",
       "<caption>A parameters: 4 × 6</caption>\n",
       "<thead>\n",
       "\t<tr><th scope=col>name</th><th scope=col>id</th><th scope=col>source</th><th scope=col>component</th><th scope=col>component_id</th><th scope=col>object</th></tr>\n",
       "\t<tr><th scope=col>&lt;chr&gt;</th><th scope=col>&lt;chr&gt;</th><th scope=col>&lt;chr&gt;</th><th scope=col>&lt;chr&gt;</th><th scope=col>&lt;chr&gt;</th><th scope=col>&lt;list&gt;</th></tr>\n",
       "</thead>\n",
       "<tbody>\n",
       "\t<tr><td>hidden_units</td><td>hidden_units</td><td>model_spec</td><td>mlp       </td><td>main       </td><td>integer       , 1             , 10            , TRUE          , TRUE          , # Hidden Units</td></tr>\n",
       "\t<tr><td>threshold   </td><td>threshold   </td><td>recipe    </td><td>step_other</td><td>other_Xe89S</td><td>double   , 0        , 0.1      , TRUE     , TRUE     , Threshold</td></tr>\n",
       "\t<tr><td>deg_free    </td><td>longitude df</td><td>recipe    </td><td>step_ns   </td><td>ns_FRHb6   </td><td>integer                  , 1                        , 15                       , TRUE                     , TRUE                     , Spline Degrees of Freedom</td></tr>\n",
       "\t<tr><td>deg_free    </td><td>latitude df </td><td>recipe    </td><td>step_ns   </td><td>ns_xxQQr   </td><td>integer                  , 1                        , 15                       , TRUE                     , TRUE                     , Spline Degrees of Freedom</td></tr>\n",
       "</tbody>\n",
       "</table>\n"
      ],
      "text/latex": [
       "A parameters: 4 × 6\n",
       "\\begin{tabular}{llllll}\n",
       " name & id & source & component & component\\_id & object\\\\\n",
       " <chr> & <chr> & <chr> & <chr> & <chr> & <list>\\\\\n",
       "\\hline\n",
       "\t hidden\\_units & hidden\\_units & model\\_spec & mlp        & main        & integer       , 1             , 10            , TRUE          , TRUE          , \\# Hidden Units\\\\\n",
       "\t threshold    & threshold    & recipe     & step\\_other & other\\_Xe89S & double   , 0        , 0.1      , TRUE     , TRUE     , Threshold\\\\\n",
       "\t deg\\_free     & longitude df & recipe     & step\\_ns    & ns\\_FRHb6    & integer                  , 1                        , 15                       , TRUE                     , TRUE                     , Spline Degrees of Freedom\\\\\n",
       "\t deg\\_free     & latitude df  & recipe     & step\\_ns    & ns\\_xxQQr    & integer                  , 1                        , 15                       , TRUE                     , TRUE                     , Spline Degrees of Freedom\\\\\n",
       "\\end{tabular}\n"
      ],
      "text/markdown": [
       "\n",
       "A parameters: 4 × 6\n",
       "\n",
       "| name &lt;chr&gt; | id &lt;chr&gt; | source &lt;chr&gt; | component &lt;chr&gt; | component_id &lt;chr&gt; | object &lt;list&gt; |\n",
       "|---|---|---|---|---|---|\n",
       "| hidden_units | hidden_units | model_spec | mlp        | main        | integer       , 1             , 10            , TRUE          , TRUE          , # Hidden Units |\n",
       "| threshold    | threshold    | recipe     | step_other | other_Xe89S | double   , 0        , 0.1      , TRUE     , TRUE     , Threshold |\n",
       "| deg_free     | longitude df | recipe     | step_ns    | ns_FRHb6    | integer                  , 1                        , 15                       , TRUE                     , TRUE                     , Spline Degrees of Freedom |\n",
       "| deg_free     | latitude df  | recipe     | step_ns    | ns_xxQQr    | integer                  , 1                        , 15                       , TRUE                     , TRUE                     , Spline Degrees of Freedom |\n",
       "\n"
      ],
      "text/plain": [
       "  name         id           source     component  component_id\n",
       "1 hidden_units hidden_units model_spec mlp        main        \n",
       "2 threshold    threshold    recipe     step_other other_Xe89S \n",
       "3 deg_free     longitude df recipe     step_ns    ns_FRHb6    \n",
       "4 deg_free     latitude df  recipe     step_ns    ns_xxQQr    \n",
       "  object                                                                                                                                                          \n",
       "1 integer       , 1             , 10            , TRUE          , TRUE          , # Hidden Units                                                                  \n",
       "2 double   , 0        , 0.1      , TRUE     , TRUE     , Threshold                                                                                                \n",
       "3 integer                  , 1                        , 15                       , TRUE                     , TRUE                     , Spline Degrees of Freedom\n",
       "4 integer                  , 1                        , 15                       , TRUE                     , TRUE                     , Spline Degrees of Freedom"
      ]
     },
     "metadata": {},
     "output_type": "display_data"
    }
   ],
   "source": [
    "wflow_param <- workflow() %>%\n",
    "    add_recipe(ames_rec) %>%\n",
    "    add_model(neural_net_spec) %>%\n",
    "    extract_parameter_set_dials()\n",
    "wflow_param"
   ]
  },
  {
   "cell_type": "markdown",
   "id": "14d2f55d",
   "metadata": {},
   "source": [
    "<br>\n",
    "\n",
    "#### 각 파라미터에는, 튜닝 파라미터 지정을 위한 다이얼 함수가 존재"
   ]
  },
  {
   "cell_type": "code",
   "execution_count": 51,
   "id": "68dcad20",
   "metadata": {},
   "outputs": [
    {
     "data": {
      "text/plain": [
       "# Hidden Units (quantitative)\n",
       "Range: [1, 10]"
      ]
     },
     "metadata": {},
     "output_type": "display_data"
    }
   ],
   "source": [
    "hidden_units()"
   ]
  },
  {
   "cell_type": "code",
   "execution_count": 52,
   "id": "63241bc9",
   "metadata": {},
   "outputs": [
    {
     "data": {
      "text/plain": [
       "Threshold (quantitative)\n",
       "Range: [0, 1]"
      ]
     },
     "metadata": {},
     "output_type": "display_data"
    }
   ],
   "source": [
    "threshold()"
   ]
  },
  {
   "cell_type": "code",
   "execution_count": 53,
   "id": "0adc0f32",
   "metadata": {},
   "outputs": [
    {
     "data": {
      "text/plain": [
       "Spline Degrees of Freedom (quantitative)\n",
       "Range: [1, 10]"
      ]
     },
     "metadata": {},
     "output_type": "display_data"
    }
   ],
   "source": [
    "spline_degree()"
   ]
  },
  {
   "cell_type": "code",
   "execution_count": 70,
   "id": "370adc8d",
   "metadata": {},
   "outputs": [
    {
     "data": {
      "text/plain": [
       "Gain Penalization (quantitative)\n",
       "Range: [0, 1]"
      ]
     },
     "metadata": {},
     "output_type": "display_data"
    }
   ],
   "source": [
    "regularization_factor()"
   ]
  },
  {
   "cell_type": "code",
   "execution_count": 71,
   "id": "e1c3880a",
   "metadata": {},
   "outputs": [
    {
     "data": {
      "text/plain": [
       "Amount of Regularization (quantitative)\n",
       "Transformer: log-10 [1e-100, Inf]\n",
       "Range (transformed scale): [-10, 0]"
      ]
     },
     "metadata": {},
     "output_type": "display_data"
    }
   ],
   "source": [
    "penalty()"
   ]
  },
  {
   "cell_type": "code",
   "execution_count": 74,
   "id": "2e2a35df",
   "metadata": {},
   "outputs": [
    {
     "data": {
      "text/plain": [
       "Amount of Regularization (quantitative)\n",
       "Transformer: log-10 [1e-100, Inf]\n",
       "Range (transformed scale): [-1, 0]"
      ]
     },
     "metadata": {},
     "output_type": "display_data"
    }
   ],
   "source": [
    "penalty(range = c(-1, 0)) "
   ]
  },
  {
   "cell_type": "code",
   "execution_count": 73,
   "id": "ca4113ec",
   "metadata": {},
   "outputs": [
    {
     "data": {
      "text/plain": [
       "Amount of Regularization (quantitative)\n",
       "Range: [1e-10, 1]"
      ]
     },
     "metadata": {},
     "output_type": "display_data"
    }
   ],
   "source": [
    "penalty(trans = NULL, range = 10^c(-10, 0))"
   ]
  },
  {
   "cell_type": "markdown",
   "id": "2c31c4ff",
   "metadata": {},
   "source": [
    "<br>\n",
    "\n",
    "#### 특정 하이퍼 파라미터를 추출"
   ]
  },
  {
   "cell_type": "code",
   "execution_count": 54,
   "id": "c5408d27",
   "metadata": {},
   "outputs": [
    {
     "data": {
      "text/plain": [
       "Threshold (quantitative)\n",
       "Range: [0, 0.1]"
      ]
     },
     "metadata": {},
     "output_type": "display_data"
    }
   ],
   "source": [
    "wflow_param %>% extract_parameter_dials(\"threshold\")"
   ]
  },
  {
   "cell_type": "markdown",
   "id": "149e11c8",
   "metadata": {},
   "source": [
    "- 파라미터 세트 내에서, 특정 파라미터의 범위를 업데이트"
   ]
  },
  {
   "cell_type": "code",
   "execution_count": 55,
   "id": "ab57288d",
   "metadata": {},
   "outputs": [
    {
     "data": {
      "text/html": [
       "<table class=\"dataframe\">\n",
       "<caption>A parameters: 3 × 6</caption>\n",
       "<thead>\n",
       "\t<tr><th scope=col>name</th><th scope=col>id</th><th scope=col>source</th><th scope=col>component</th><th scope=col>component_id</th><th scope=col>object</th></tr>\n",
       "\t<tr><th scope=col>&lt;chr&gt;</th><th scope=col>&lt;chr&gt;</th><th scope=col>&lt;chr&gt;</th><th scope=col>&lt;chr&gt;</th><th scope=col>&lt;chr&gt;</th><th scope=col>&lt;list&gt;</th></tr>\n",
       "</thead>\n",
       "<tbody>\n",
       "\t<tr><td>threshold</td><td>threshold   </td><td>recipe</td><td>step_other</td><td>other_Xe89S</td><td>double   , 0.8      , 1        , TRUE     , TRUE     , Threshold</td></tr>\n",
       "\t<tr><td>deg_free </td><td>longitude df</td><td>recipe</td><td>step_ns   </td><td>ns_FRHb6   </td><td>integer                  , 1                        , 15                       , TRUE                     , TRUE                     , Spline Degrees of Freedom</td></tr>\n",
       "\t<tr><td>deg_free </td><td>latitude df </td><td>recipe</td><td>step_ns   </td><td>ns_xxQQr   </td><td>integer                  , 1                        , 15                       , TRUE                     , TRUE                     , Spline Degrees of Freedom</td></tr>\n",
       "</tbody>\n",
       "</table>\n"
      ],
      "text/latex": [
       "A parameters: 3 × 6\n",
       "\\begin{tabular}{llllll}\n",
       " name & id & source & component & component\\_id & object\\\\\n",
       " <chr> & <chr> & <chr> & <chr> & <chr> & <list>\\\\\n",
       "\\hline\n",
       "\t threshold & threshold    & recipe & step\\_other & other\\_Xe89S & double   , 0.8      , 1        , TRUE     , TRUE     , Threshold\\\\\n",
       "\t deg\\_free  & longitude df & recipe & step\\_ns    & ns\\_FRHb6    & integer                  , 1                        , 15                       , TRUE                     , TRUE                     , Spline Degrees of Freedom\\\\\n",
       "\t deg\\_free  & latitude df  & recipe & step\\_ns    & ns\\_xxQQr    & integer                  , 1                        , 15                       , TRUE                     , TRUE                     , Spline Degrees of Freedom\\\\\n",
       "\\end{tabular}\n"
      ],
      "text/markdown": [
       "\n",
       "A parameters: 3 × 6\n",
       "\n",
       "| name &lt;chr&gt; | id &lt;chr&gt; | source &lt;chr&gt; | component &lt;chr&gt; | component_id &lt;chr&gt; | object &lt;list&gt; |\n",
       "|---|---|---|---|---|---|\n",
       "| threshold | threshold    | recipe | step_other | other_Xe89S | double   , 0.8      , 1        , TRUE     , TRUE     , Threshold |\n",
       "| deg_free  | longitude df | recipe | step_ns    | ns_FRHb6    | integer                  , 1                        , 15                       , TRUE                     , TRUE                     , Spline Degrees of Freedom |\n",
       "| deg_free  | latitude df  | recipe | step_ns    | ns_xxQQr    | integer                  , 1                        , 15                       , TRUE                     , TRUE                     , Spline Degrees of Freedom |\n",
       "\n"
      ],
      "text/plain": [
       "  name      id           source component  component_id\n",
       "1 threshold threshold    recipe step_other other_Xe89S \n",
       "2 deg_free  longitude df recipe step_ns    ns_FRHb6    \n",
       "3 deg_free  latitude df  recipe step_ns    ns_xxQQr    \n",
       "  object                                                                                                                                                          \n",
       "1 double   , 0.8      , 1        , TRUE     , TRUE     , Threshold                                                                                                \n",
       "2 integer                  , 1                        , 15                       , TRUE                     , TRUE                     , Spline Degrees of Freedom\n",
       "3 integer                  , 1                        , 15                       , TRUE                     , TRUE                     , Spline Degrees of Freedom"
      ]
     },
     "metadata": {},
     "output_type": "display_data"
    }
   ],
   "source": [
    "extract_parameter_set_dials(ames_rec) %>%\n",
    "    update(threshold = threshold(c(0.8, 1.)))"
   ]
  },
  {
   "cell_type": "markdown",
   "id": "fe6cf9a4",
   "metadata": {},
   "source": [
    "<br>\n",
    "\n",
    "### 합리적인 기본값 탐색\n",
    "- 랜덤포레스트 모델의 `mtry` 파라미터는 설명변수의 수를 모르면, 파라미터의 범위를 설정할 수 없음"
   ]
  },
  {
   "cell_type": "code",
   "execution_count": 56,
   "id": "856dd404",
   "metadata": {},
   "outputs": [],
   "source": [
    "rf_spec <- rand_forest(mtry = tune()) %>% \n",
    "    set_engine(\"ranger\", regularization.factor = tune(\"regularization\")) %>%\n",
    "    set_mode(\"regression\")"
   ]
  },
  {
   "cell_type": "code",
   "execution_count": 58,
   "id": "3f493592",
   "metadata": {},
   "outputs": [
    {
     "name": "stdout",
     "output_type": "stream",
     "text": [
      "Collection of 2 parameters for tuning\n",
      "\n",
      "     identifier                  type    object\n",
      "           mtry                  mtry nparam[?]\n",
      " regularization regularization.factor nparam[+]\n",
      "\n",
      "Model parameters needing finalization:\n",
      "   # Randomly Selected Predictors ('mtry')\n",
      "\n",
      "See `?dials::finalize` or `?dials::update.parameters` for more information.\n",
      "\n"
     ]
    }
   ],
   "source": [
    "rf_param <- extract_parameter_set_dials(rf_spec)\n",
    "print(rf_param)"
   ]
  },
  {
   "cell_type": "code",
   "execution_count": 64,
   "id": "3c875086",
   "metadata": {},
   "outputs": [
    {
     "data": {
      "text/plain": [
       "# Randomly Selected Predictors (quantitative)\n",
       "Range: [1, ?]"
      ]
     },
     "metadata": {},
     "output_type": "display_data"
    }
   ],
   "source": [
    "rf_param %>% extract_parameter_dials(\"mtry\")"
   ]
  },
  {
   "cell_type": "markdown",
   "id": "b424c973",
   "metadata": {},
   "source": [
    "- 따라서 `update()`로 기본 범위를 직접 지정"
   ]
  },
  {
   "cell_type": "code",
   "execution_count": 60,
   "id": "dd942dd9",
   "metadata": {
    "scrolled": true
   },
   "outputs": [
    {
     "name": "stdout",
     "output_type": "stream",
     "text": [
      "Collection of 2 parameters for tuning\n",
      "\n",
      "     identifier                  type    object\n",
      "           mtry                  mtry nparam[+]\n",
      " regularization regularization.factor nparam[+]\n",
      "\n"
     ]
    }
   ],
   "source": [
    "rf_param %>% \n",
    "    update(mtry = mtry(c(1, 70))) %>% print()"
   ]
  },
  {
   "cell_type": "markdown",
   "id": "f30ae9ba",
   "metadata": {},
   "source": [
    "- **데이터 전처리 단계에서 설명변수의 수가 추가되거나 감소되는 경우, `finalize()`함수로 다시 조정**"
   ]
  },
  {
   "cell_type": "code",
   "execution_count": 66,
   "id": "efc1c89a",
   "metadata": {},
   "outputs": [],
   "source": [
    "pca_rec <- recipe(Sale_Price ~ ., data = ames_train) %>% \n",
    "  step_normalize(contains(\"SF\")) %>% \n",
    "  step_pca(contains(\"SF\"), threshold = .95)"
   ]
  },
  {
   "cell_type": "code",
   "execution_count": 67,
   "id": "68169186",
   "metadata": {},
   "outputs": [],
   "source": [
    "updated_param <- workflow() %>% \n",
    "    add_model(rf_spec) %>% \n",
    "    add_recipe(pca_rec) %>% \n",
    "    extract_parameter_set_dials() %>% \n",
    "    finalize(ames_train)"
   ]
  },
  {
   "cell_type": "code",
   "execution_count": 68,
   "id": "2f4f0a07",
   "metadata": {},
   "outputs": [
    {
     "name": "stdout",
     "output_type": "stream",
     "text": [
      "Collection of 2 parameters for tuning\n",
      "\n",
      "     identifier                  type    object\n",
      "           mtry                  mtry nparam[+]\n",
      " regularization regularization.factor nparam[+]\n",
      "\n"
     ]
    }
   ],
   "source": [
    "print(updated_param)"
   ]
  },
  {
   "cell_type": "code",
   "execution_count": 69,
   "id": "e3222edb",
   "metadata": {},
   "outputs": [
    {
     "data": {
      "text/plain": [
       "# Randomly Selected Predictors (quantitative)\n",
       "Range: [1, 74]"
      ]
     },
     "metadata": {},
     "output_type": "display_data"
    }
   ],
   "source": [
    "updated_param %>% extract_parameter_dials(\"mtry\")"
   ]
  }
 ],
 "metadata": {
  "kernelspec": {
   "display_name": "R-4.3.2",
   "language": "R",
   "name": "ir"
  },
  "language_info": {
   "codemirror_mode": "r",
   "file_extension": ".r",
   "mimetype": "text/x-r-source",
   "name": "R",
   "pygments_lexer": "r",
   "version": "4.3.2"
  }
 },
 "nbformat": 4,
 "nbformat_minor": 5
}
