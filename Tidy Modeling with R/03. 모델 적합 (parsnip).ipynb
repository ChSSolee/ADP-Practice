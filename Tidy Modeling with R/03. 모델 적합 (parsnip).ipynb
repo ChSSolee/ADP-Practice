{
 "cells": [
  {
   "cell_type": "markdown",
   "id": "20f07b99",
   "metadata": {},
   "source": [
    "# 03. 모델 적합 (`parsnip`)\n",
    "- `tidymodels` 메타패키지 의 일부인 R 패키지 중 하나인 `parsnip` 패키지는 다양한 모델 에 대해 유창하고 표준화된 인터페이스를 제공\n",
    "\n",
    "<br>\n",
    "\n",
    "## 03.01. 모델 생성\n",
    "- 선형 회귀 모델 케이스 : \n",
    "    - 일반 선형 회귀는 모델 매개변수를 해결하기 위해 최소 제곱의 전통적인 방법을 사용\n",
    "    - 정규화 선형 회귀 (GLM)는 예측 변수를 제거하거나 계수를 0으로 축소하여 단순성을 높이기 위해 최소 제곱법에 페널티를 추가 (이는 베이지안 또는 비베이지안 기법을 사용하여 실행)\n",
    "\n",
    "$$y_i = \\beta_0 + \\beta_1 x_{1i} + \\ldots + \\beta_p x_{pi}$$\n"
   ]
  },
  {
   "cell_type": "code",
   "execution_count": 2,
   "id": "7f24d426",
   "metadata": {},
   "outputs": [],
   "source": [
    "library(tidyverse)\n",
    "library(tidymodels)\n",
    "ggplot2::theme_set(theme_bw())\n",
    "tidymodels_prefer()"
   ]
  },
  {
   "cell_type": "code",
   "execution_count": 4,
   "id": "a0a000f3",
   "metadata": {},
   "outputs": [],
   "source": [
    "set.seed(501)\n",
    "ames_split <- initial_split(ames, prop = 0.8, strata = Sale_Price)\n",
    "ames_train <- training(ames_split)\n",
    "ames_test <- testing(ames_split)"
   ]
  },
  {
   "cell_type": "markdown",
   "id": "6e9ee497",
   "metadata": {},
   "source": [
    "<br>\n",
    "\n",
    "#### 선형 회귀\n",
    "\n",
    "```r\n",
    "model <- lm(formula, data, ...) \n",
    "```"
   ]
  },
  {
   "cell_type": "markdown",
   "id": "d0e49508",
   "metadata": {},
   "source": [
    "<br>\n",
    "\n",
    "#### 정규화 선형 회귀 (베이지안 모델)\n",
    "\n",
    "```r\n",
    "library(rstanarm)\n",
    "model <- stan_glm(formula, data, family = \"gaussian\", ...)\n",
    "```"
   ]
  },
  {
   "cell_type": "markdown",
   "id": "4bc5486d",
   "metadata": {},
   "source": [
    "<br>\n",
    "\n",
    "#### 정규화 선형 회귀 (비 베이지안 모델)\n",
    "```r\n",
    "library(glm)\n",
    "model <- glmnet(x = matrix, y = vector, family = \"gaussian\", ...)\n",
    "```"
   ]
  },
  {
   "cell_type": "markdown",
   "id": "03bc6017",
   "metadata": {},
   "source": [
    "<br>\n",
    "\n",
    "- **이러한 인터페이스는 데이터가 모델 함수에 전달되는 방식이나 인수 측면에서 이질적**\n",
    "-  다양한 패키지에 걸쳐 모델을 맞추려면 데이터 형식을 다른 방식으로 지정"
   ]
  },
  {
   "cell_type": "markdown",
   "id": "7e4c5308",
   "metadata": {},
   "source": [
    "<br>\n",
    "\n",
    "#### `tidymodels`를 통한 모델 지정\n",
    "1. 수학적 구조 (예 : 선형 구조, 랜덤 포레스트, KNN 등)을 기반으로 모델 유형 지정\n",
    "2. **모델을 적합할 엔진 지정** (**대부분의 경우 Stan또는 glmnet과 같이 사용해야 하는 소프트웨어 패키지를 반영**, 이것들은 그 자체로 모델이며, `parsnip`은 이를 모델링 엔진으로 사용하여 일관된 인터페이스를 제공)\n",
    "3. **필요한 경우 모델의 모드를 선언 (회귀 / 분류)**. 모드는 예측 결과의 유형을 반영. "
   ]
  },
  {
   "cell_type": "markdown",
   "id": "f2fa6978",
   "metadata": {},
   "source": [
    "<br>\n",
    "\n",
    "- 선형 회귀 => `lm`엔진 적용"
   ]
  },
  {
   "cell_type": "code",
   "execution_count": 8,
   "id": "fe356e3e",
   "metadata": {},
   "outputs": [
    {
     "data": {
      "text/plain": [
       "Linear Regression Model Specification (regression)\n",
       "\n",
       "Computational engine: lm \n"
      ]
     },
     "metadata": {},
     "output_type": "display_data"
    }
   ],
   "source": [
    "linear_reg() %>% set_engine(\"lm\")"
   ]
  },
  {
   "cell_type": "markdown",
   "id": "f4fc3d3f",
   "metadata": {},
   "source": [
    "- 선형 회귀 => `glmnet`엔진 적용"
   ]
  },
  {
   "cell_type": "code",
   "execution_count": 9,
   "id": "8cba93e8",
   "metadata": {},
   "outputs": [
    {
     "data": {
      "text/plain": [
       "Linear Regression Model Specification (regression)\n",
       "\n",
       "Computational engine: glmnet \n"
      ]
     },
     "metadata": {},
     "output_type": "display_data"
    }
   ],
   "source": [
    "linear_reg() %>% set_engine(\"glmnet\")"
   ]
  },
  {
   "cell_type": "markdown",
   "id": "72e89dd1",
   "metadata": {},
   "source": [
    "- 선형 회귀 => `rstanarm`엔진 적용"
   ]
  },
  {
   "cell_type": "code",
   "execution_count": 10,
   "id": "04f9ea0a",
   "metadata": {},
   "outputs": [
    {
     "data": {
      "text/plain": [
       "Linear Regression Model Specification (regression)\n",
       "\n",
       "Computational engine: stan \n"
      ]
     },
     "metadata": {},
     "output_type": "display_data"
    }
   ],
   "source": [
    "linear_reg() %>% set_engine(\"stan\")"
   ]
  },
  {
   "cell_type": "markdown",
   "id": "09597e37",
   "metadata": {},
   "source": [
    "<br>\n",
    "\n",
    "#### ```parsnip::translate()``` : 사용자 코드를 패키지 구문으로 변환하는 방법에 대한 세부 정보 제공"
   ]
  },
  {
   "cell_type": "code",
   "execution_count": 11,
   "id": "737e37f4",
   "metadata": {},
   "outputs": [
    {
     "data": {
      "text/plain": [
       "Linear Regression Model Specification (regression)\n",
       "\n",
       "Computational engine: lm \n",
       "\n",
       "Model fit template:\n",
       "stats::lm(formula = missing_arg(), data = missing_arg(), weights = missing_arg())"
      ]
     },
     "metadata": {},
     "output_type": "display_data"
    }
   ],
   "source": [
    "linear_reg() %>% set_engine(\"lm\") %>% translate()"
   ]
  },
  {
   "cell_type": "code",
   "execution_count": 14,
   "id": "d555c0ca",
   "metadata": {},
   "outputs": [
    {
     "data": {
      "text/plain": [
       "Linear Regression Model Specification (regression)\n",
       "\n",
       "Main Arguments:\n",
       "  penalty = 1\n",
       "\n",
       "Computational engine: glmnet \n",
       "\n",
       "Model fit template:\n",
       "glmnet::glmnet(x = missing_arg(), y = missing_arg(), weights = missing_arg(), \n",
       "    family = \"gaussian\")"
      ]
     },
     "metadata": {},
     "output_type": "display_data"
    }
   ],
   "source": [
    "linear_reg(penalty = 1) %>% set_engine(\"glmnet\") %>% translate()"
   ]
  },
  {
   "cell_type": "code",
   "execution_count": 12,
   "id": "9efec41e",
   "metadata": {},
   "outputs": [
    {
     "data": {
      "text/plain": [
       "Linear Regression Model Specification (regression)\n",
       "\n",
       "Computational engine: stan \n",
       "\n",
       "Model fit template:\n",
       "rstanarm::stan_glm(formula = missing_arg(), data = missing_arg(), \n",
       "    weights = missing_arg(), family = stats::gaussian, refresh = 0)"
      ]
     },
     "metadata": {},
     "output_type": "display_data"
    }
   ],
   "source": [
    "linear_reg() %>% set_engine(\"stan\") %>% translate()"
   ]
  },
  {
   "cell_type": "markdown",
   "id": "c975a4fa",
   "metadata": {},
   "source": [
    "<br>\n",
    "\n",
    "#### ```fit_xy()``` : 설명변수와 반응변수를 선택하여 적합"
   ]
  },
  {
   "cell_type": "markdown",
   "id": "4e618fde",
   "metadata": {},
   "source": [
    "- 엔진 설정"
   ]
  },
  {
   "cell_type": "code",
   "execution_count": 13,
   "id": "7632aea3",
   "metadata": {},
   "outputs": [],
   "source": [
    "lm_model <- linear_reg() %>% set_engine(\"lm\")"
   ]
  },
  {
   "cell_type": "markdown",
   "id": "db390e8e",
   "metadata": {},
   "source": [
    "- 데이터 및 변수 정의"
   ]
  },
  {
   "cell_type": "code",
   "execution_count": 16,
   "id": "f7b734ec",
   "metadata": {},
   "outputs": [
    {
     "data": {
      "text/plain": [
       "parsnip model object\n",
       "\n",
       "\n",
       "Call:\n",
       "stats::lm(formula = Sale_Price ~ Longitude + Latitude, data = data)\n",
       "\n",
       "Coefficients:\n",
       "(Intercept)    Longitude     Latitude  \n",
       " -127883565      -816652      1227340  \n"
      ]
     },
     "metadata": {},
     "output_type": "display_data"
    }
   ],
   "source": [
    "lm_form_fit <- lm_model %>% fit(Sale_Price ~ Longitude + Latitude, data = ames_train)\n",
    "lm_form_fit"
   ]
  },
  {
   "cell_type": "markdown",
   "id": "bea49a9d",
   "metadata": {},
   "source": [
    "- 모형 적합"
   ]
  },
  {
   "cell_type": "code",
   "execution_count": 17,
   "id": "d19b2ef2",
   "metadata": {},
   "outputs": [
    {
     "data": {
      "text/plain": [
       "parsnip model object\n",
       "\n",
       "\n",
       "Call:\n",
       "stats::lm(formula = ..y ~ ., data = data)\n",
       "\n",
       "Coefficients:\n",
       "(Intercept)    Longitude     Latitude  \n",
       " -127883565      -816652      1227340  \n"
      ]
     },
     "metadata": {},
     "output_type": "display_data"
    }
   ],
   "source": [
    "lm_xy_fit <- lm_model %>%\n",
    "    fit_xy(x = ames_train %>% select(Longitude, Latitude),\n",
    "           y = ames_train %>% pull(Sale_Price))\n",
    "lm_xy_fit"
   ]
  },
  {
   "cell_type": "markdown",
   "id": "d86c58b0",
   "metadata": {},
   "source": [
    "<br>\n",
    "\n",
    "- `parsnip`은 다양한 패키지에 대해 일관된 모델 인터페이스를 활성화할 뿐만 아니라 모델 인수에도 일관성을 제공\n",
    "\n",
    "#### 랜덤 포레스트 적합 시 `rand_forest()`\n",
    "\n",
    "| 인수 유현 | ranger 패키지 | randomForest 패키지 | sparklyr 패키지 | parsnip 패키지 | \n",
    "| -- | -- | -- | -- | -- |\n",
    "| # 사용할 변수 개수 | ```mtry``` | ```mtry``` | ```feature_subset_strategy``` | ```mtry``` |\n",
    "| # 생성할 tree수 | ```num.trees``` | ```ntree``` | ```num_trees``` | ```trees``` |\n",
    "| # 최소 가지 크기 | ```min.node.size``` | ```nodesize``` | ```min_instances_per_node``` | ```min_n``` | "
   ]
  },
  {
   "cell_type": "markdown",
   "id": "0ee5607e",
   "metadata": {},
   "source": [
    "<br>\n",
    "\n",
    "#### `glmnet` 사용시 정규화의 강도를 지정하려면 `lambda`가 초매개변수로 사용\n",
    "- 다른 라이브러리에서는 `lambda`라는 초매개변수를 사용하지 않을 수 있기에,\n",
    "\n",
    "    **`parsnip`에서는 `penalty`, `neighbors` 등의 공통 표준화 파라미터를 사용**\n",
    "\n",
    "    <br>\n",
    "    \n",
    "    **(KNN의 경우 `k`)**"
   ]
  },
  {
   "cell_type": "markdown",
   "id": "ef3d0c01",
   "metadata": {},
   "source": [
    "<br>\n",
    "\n",
    "#### `translate()` : `parsnip` 매개변수가 원래의 라이브러리 매개변수 이름에 어떻게 매핑되는지에 대한 도움말"
   ]
  },
  {
   "cell_type": "markdown",
   "id": "74003d80",
   "metadata": {},
   "source": [
    "- `ranger` 라이브러리에서의 `num.trees`, `min_rows` 매개변수\n",
    "\n",
    "    $\\rightarrow$ `trees`, `min_n`로 변환"
   ]
  },
  {
   "cell_type": "code",
   "execution_count": 18,
   "id": "0236770d",
   "metadata": {},
   "outputs": [
    {
     "data": {
      "text/plain": [
       "Random Forest Model Specification (regression)\n",
       "\n",
       "Main Arguments:\n",
       "  trees = 1000\n",
       "  min_n = 5\n",
       "\n",
       "Computational engine: ranger \n",
       "\n",
       "Model fit template:\n",
       "ranger::ranger(x = missing_arg(), y = missing_arg(), weights = missing_arg(), \n",
       "    num.trees = 1000, min.node.size = min_rows(~5, x), num.threads = 1, \n",
       "    verbose = FALSE, seed = sample.int(10^5, 1))"
      ]
     },
     "metadata": {},
     "output_type": "display_data"
    }
   ],
   "source": [
    "rand_forest(trees = 1000, min_n = 5) %>% \n",
    "    set_engine(\"ranger\") %>% \n",
    "    set_mode(\"regression\") %>% \n",
    "    translate()"
   ]
  },
  {
   "cell_type": "markdown",
   "id": "a1ca6a73",
   "metadata": {},
   "source": [
    "<br>\n",
    "\n",
    "#### `parsnip`의 모델링 함수는 매개변수를 두 가지 범주로 구분\n",
    "1. 주요 매개변수는 더 일반적으로 사용되며 여러 엔진에서 사용 가능한 경향\n",
    "2. 엔진 매개변수는 특정 엔진에만 적용되거나 좀 더 드물게 사용\n",
    "\n",
    "<br>\n",
    "\n",
    "- `ranger` 라이브러리에서만 사용되는 `verbose` 매개변수에 대한 설정"
   ]
  },
  {
   "cell_type": "code",
   "execution_count": 19,
   "id": "ce1dcb7d",
   "metadata": {},
   "outputs": [
    {
     "data": {
      "text/plain": [
       "Random Forest Model Specification (regression)\n",
       "\n",
       "Main Arguments:\n",
       "  trees = 1000\n",
       "  min_n = 5\n",
       "\n",
       "Engine-Specific Arguments:\n",
       "  verbose = TRUE\n",
       "\n",
       "Computational engine: ranger \n"
      ]
     },
     "metadata": {},
     "output_type": "display_data"
    }
   ],
   "source": [
    "rand_forest(trees = 1000, min_n = 5) %>%\n",
    "    set_engine(\"ranger\", verbose = TRUE) %>%\n",
    "    set_mode(\"regression\")"
   ]
  },
  {
   "cell_type": "markdown",
   "id": "e29ee52d",
   "metadata": {},
   "source": [
    "<br>\n",
    "\n",
    "## 03.02. 모델 결과 활용"
   ]
  },
  {
   "cell_type": "markdown",
   "id": "2365c8e8",
   "metadata": {},
   "source": [
    "<br>\n",
    "\n",
    "#### ```extract_fit_engine()``` : 모델 출력 결과 활용"
   ]
  },
  {
   "cell_type": "code",
   "execution_count": 20,
   "id": "43e55d4f",
   "metadata": {},
   "outputs": [
    {
     "data": {
      "text/plain": [
       "\n",
       "Call:\n",
       "stats::lm(formula = Sale_Price ~ Longitude + Latitude, data = data)\n",
       "\n",
       "Coefficients:\n",
       "(Intercept)    Longitude     Latitude  \n",
       " -127883565      -816652      1227340  \n"
      ]
     },
     "metadata": {},
     "output_type": "display_data"
    }
   ],
   "source": [
    "lm_form_fit %>% extract_fit_engine()"
   ]
  },
  {
   "cell_type": "code",
   "execution_count": 40,
   "id": "bfbc20f5",
   "metadata": {},
   "outputs": [
    {
     "data": {
      "text/html": [
       "<table class=\"dataframe\">\n",
       "<caption>A matrix: 3 × 3 of type dbl</caption>\n",
       "<thead>\n",
       "\t<tr><th></th><th scope=col>(Intercept)</th><th scope=col>Longitude</th><th scope=col>Latitude</th></tr>\n",
       "</thead>\n",
       "<tbody>\n",
       "\t<tr><th scope=row>(Intercept)</th><td> 4.338180e+13</td><td>327989572678</td><td>-301367952873</td></tr>\n",
       "\t<tr><th scope=row>Longitude</th><td> 3.279896e+11</td><td>  3413902123</td><td>   -197513889</td></tr>\n",
       "\t<tr><th scope=row>Latitude</th><td>-3.013680e+11</td><td>  -197513889</td><td>   6729467557</td></tr>\n",
       "</tbody>\n",
       "</table>\n"
      ],
      "text/latex": [
       "A matrix: 3 × 3 of type dbl\n",
       "\\begin{tabular}{r|lll}\n",
       "  & (Intercept) & Longitude & Latitude\\\\\n",
       "\\hline\n",
       "\t(Intercept) &  4.338180e+13 & 327989572678 & -301367952873\\\\\n",
       "\tLongitude &  3.279896e+11 &   3413902123 &    -197513889\\\\\n",
       "\tLatitude & -3.013680e+11 &   -197513889 &    6729467557\\\\\n",
       "\\end{tabular}\n"
      ],
      "text/markdown": [
       "\n",
       "A matrix: 3 × 3 of type dbl\n",
       "\n",
       "| <!--/--> | (Intercept) | Longitude | Latitude |\n",
       "|---|---|---|---|\n",
       "| (Intercept) |  4.338180e+13 | 327989572678 | -301367952873 |\n",
       "| Longitude |  3.279896e+11 |   3413902123 |    -197513889 |\n",
       "| Latitude | -3.013680e+11 |   -197513889 |    6729467557 |\n",
       "\n"
      ],
      "text/plain": [
       "            (Intercept)   Longitude    Latitude     \n",
       "(Intercept)  4.338180e+13 327989572678 -301367952873\n",
       "Longitude    3.279896e+11   3413902123    -197513889\n",
       "Latitude    -3.013680e+11   -197513889    6729467557"
      ]
     },
     "metadata": {},
     "output_type": "display_data"
    }
   ],
   "source": [
    "lm_form_fit %>% extract_fit_engine() %>% vcov()"
   ]
  },
  {
   "cell_type": "code",
   "execution_count": 43,
   "id": "ef2f7ee2",
   "metadata": {},
   "outputs": [
    {
     "data": {
      "text/plain": [
       "\n",
       "Call:\n",
       "stats::lm(formula = Sale_Price ~ Longitude + Latitude, data = data)\n",
       "\n",
       "Residuals:\n",
       "    Min      1Q  Median      3Q     Max \n",
       "-143925  -46076  -18906   32309  407776 \n",
       "\n",
       "Coefficients:\n",
       "              Estimate Std. Error t value Pr(>|t|)    \n",
       "(Intercept) -130898285    6586486  -19.87   <2e-16 ***\n",
       "Longitude      -804345      58429  -13.77   <2e-16 ***\n",
       "Latitude       1326466      82033   16.17   <2e-16 ***\n",
       "---\n",
       "Signif. codes:  0 '***' 0.001 '**' 0.01 '*' 0.05 '.' 0.1 ' ' 1\n",
       "\n",
       "Residual standard error: 72430 on 2339 degrees of freedom\n",
       "Multiple R-squared:  0.1563,\tAdjusted R-squared:  0.1556 \n",
       "F-statistic: 216.7 on 2 and 2339 DF,  p-value: < 2.2e-16\n"
      ]
     },
     "metadata": {},
     "output_type": "display_data"
    }
   ],
   "source": [
    "(lm_form_fit %>%\n",
    "    extract_fit_engine() %>% summary() -> model_res)"
   ]
  },
  {
   "cell_type": "code",
   "execution_count": 46,
   "id": "33361ad5",
   "metadata": {},
   "outputs": [
    {
     "data": {
      "text/html": [
       "<style>\n",
       ".list-inline {list-style: none; margin:0; padding: 0}\n",
       ".list-inline>li {display: inline-block}\n",
       ".list-inline>li:not(:last-child)::after {content: \"\\00b7\"; padding: 0 .5ex}\n",
       "</style>\n",
       "<ol class=list-inline><li>'matrix'</li><li>'array'</li></ol>\n"
      ],
      "text/latex": [
       "\\begin{enumerate*}\n",
       "\\item 'matrix'\n",
       "\\item 'array'\n",
       "\\end{enumerate*}\n"
      ],
      "text/markdown": [
       "1. 'matrix'\n",
       "2. 'array'\n",
       "\n",
       "\n"
      ],
      "text/plain": [
       "[1] \"matrix\" \"array\" "
      ]
     },
     "metadata": {},
     "output_type": "display_data"
    },
    {
     "data": {
      "text/html": [
       "<table class=\"dataframe\">\n",
       "<caption>A matrix: 3 × 4 of type dbl</caption>\n",
       "<thead>\n",
       "\t<tr><th></th><th scope=col>Estimate</th><th scope=col>Std. Error</th><th scope=col>t value</th><th scope=col>Pr(&gt;|t|)</th></tr>\n",
       "</thead>\n",
       "<tbody>\n",
       "\t<tr><th scope=row>(Intercept)</th><td>-130898285.1</td><td>6586486.12</td><td>-19.87377</td><td>2.441170e-81</td></tr>\n",
       "\t<tr><th scope=row>Longitude</th><td>   -804345.1</td><td>  58428.61</td><td>-13.76629</td><td>1.615072e-41</td></tr>\n",
       "\t<tr><th scope=row>Latitude</th><td>   1326465.5</td><td>  82033.33</td><td> 16.16984</td><td>7.825498e-56</td></tr>\n",
       "</tbody>\n",
       "</table>\n"
      ],
      "text/latex": [
       "A matrix: 3 × 4 of type dbl\n",
       "\\begin{tabular}{r|llll}\n",
       "  & Estimate & Std. Error & t value & Pr(>\\textbar{}t\\textbar{})\\\\\n",
       "\\hline\n",
       "\t(Intercept) & -130898285.1 & 6586486.12 & -19.87377 & 2.441170e-81\\\\\n",
       "\tLongitude &    -804345.1 &   58428.61 & -13.76629 & 1.615072e-41\\\\\n",
       "\tLatitude &    1326465.5 &   82033.33 &  16.16984 & 7.825498e-56\\\\\n",
       "\\end{tabular}\n"
      ],
      "text/markdown": [
       "\n",
       "A matrix: 3 × 4 of type dbl\n",
       "\n",
       "| <!--/--> | Estimate | Std. Error | t value | Pr(&gt;|t|) |\n",
       "|---|---|---|---|---|\n",
       "| (Intercept) | -130898285.1 | 6586486.12 | -19.87377 | 2.441170e-81 |\n",
       "| Longitude |    -804345.1 |   58428.61 | -13.76629 | 1.615072e-41 |\n",
       "| Latitude |    1326465.5 |   82033.33 |  16.16984 | 7.825498e-56 |\n",
       "\n"
      ],
      "text/plain": [
       "            Estimate     Std. Error t value   Pr(>|t|)    \n",
       "(Intercept) -130898285.1 6586486.12 -19.87377 2.441170e-81\n",
       "Longitude      -804345.1   58428.61 -13.76629 1.615072e-41\n",
       "Latitude       1326465.5   82033.33  16.16984 7.825498e-56"
      ]
     },
     "metadata": {},
     "output_type": "display_data"
    }
   ],
   "source": [
    "param_est <- coef(model_res)\n",
    "class(param_est) ; param_est"
   ]
  },
  {
   "cell_type": "code",
   "execution_count": 47,
   "id": "a16f944e",
   "metadata": {},
   "outputs": [
    {
     "data": {
      "text/html": [
       "<table class=\"dataframe\">\n",
       "<caption>A tibble: 3 × 5</caption>\n",
       "<thead>\n",
       "\t<tr><th scope=col>term</th><th scope=col>estimate</th><th scope=col>std.error</th><th scope=col>statistic</th><th scope=col>p.value</th></tr>\n",
       "\t<tr><th scope=col>&lt;chr&gt;</th><th scope=col>&lt;dbl&gt;</th><th scope=col>&lt;dbl&gt;</th><th scope=col>&lt;dbl&gt;</th><th scope=col>&lt;dbl&gt;</th></tr>\n",
       "</thead>\n",
       "<tbody>\n",
       "\t<tr><td>(Intercept)</td><td>-130898285.1</td><td>6586486.12</td><td>-19.87377</td><td>2.441170e-81</td></tr>\n",
       "\t<tr><td>Longitude  </td><td>   -804345.1</td><td>  58428.61</td><td>-13.76629</td><td>1.615072e-41</td></tr>\n",
       "\t<tr><td>Latitude   </td><td>   1326465.5</td><td>  82033.33</td><td> 16.16984</td><td>7.825498e-56</td></tr>\n",
       "</tbody>\n",
       "</table>\n"
      ],
      "text/latex": [
       "A tibble: 3 × 5\n",
       "\\begin{tabular}{lllll}\n",
       " term & estimate & std.error & statistic & p.value\\\\\n",
       " <chr> & <dbl> & <dbl> & <dbl> & <dbl>\\\\\n",
       "\\hline\n",
       "\t (Intercept) & -130898285.1 & 6586486.12 & -19.87377 & 2.441170e-81\\\\\n",
       "\t Longitude   &    -804345.1 &   58428.61 & -13.76629 & 1.615072e-41\\\\\n",
       "\t Latitude    &    1326465.5 &   82033.33 &  16.16984 & 7.825498e-56\\\\\n",
       "\\end{tabular}\n"
      ],
      "text/markdown": [
       "\n",
       "A tibble: 3 × 5\n",
       "\n",
       "| term &lt;chr&gt; | estimate &lt;dbl&gt; | std.error &lt;dbl&gt; | statistic &lt;dbl&gt; | p.value &lt;dbl&gt; |\n",
       "|---|---|---|---|---|\n",
       "| (Intercept) | -130898285.1 | 6586486.12 | -19.87377 | 2.441170e-81 |\n",
       "| Longitude   |    -804345.1 |   58428.61 | -13.76629 | 1.615072e-41 |\n",
       "| Latitude    |    1326465.5 |   82033.33 |  16.16984 | 7.825498e-56 |\n",
       "\n"
      ],
      "text/plain": [
       "  term        estimate     std.error  statistic p.value     \n",
       "1 (Intercept) -130898285.1 6586486.12 -19.87377 2.441170e-81\n",
       "2 Longitude      -804345.1   58428.61 -13.76629 1.615072e-41\n",
       "3 Latitude       1326465.5   82033.33  16.16984 7.825498e-56"
      ]
     },
     "metadata": {},
     "output_type": "display_data"
    }
   ],
   "source": [
    "tidy(lm_form_fit)"
   ]
  },
  {
   "cell_type": "markdown",
   "id": "1d1c6e7d",
   "metadata": {},
   "source": [
    "<br>\n",
    "\n",
    "## 03.03. 예측"
   ]
  },
  {
   "cell_type": "markdown",
   "id": "d4f200a2",
   "metadata": {},
   "source": [
    "### `tidymodels`의 ```predict``` 사용시 ```type```의 종류\n",
    "\n",
    "| 유형 | 반환 열 | \n",
    "| -- | -- |\n",
    "| numeric | .pred | \n",
    "| class | .pred_class | \n",
    "| prob | .pred_{class levels} | \n",
    "| conf_int | .pred_lower / .pred_upper | \n",
    "| pred_int | .pred_lower / .pred_upper | "
   ]
  },
  {
   "cell_type": "markdown",
   "id": "5e0742f9",
   "metadata": {},
   "source": [
    "<br>\n",
    "\n",
    "- 수치형 데이터에 대한 예측"
   ]
  },
  {
   "cell_type": "code",
   "execution_count": 25,
   "id": "27ea728f",
   "metadata": {
    "scrolled": true
   },
   "outputs": [
    {
     "data": {
      "text/html": [
       "<table class=\"dataframe\">\n",
       "<caption>A tibble: 5 × 1</caption>\n",
       "<thead>\n",
       "\t<tr><th scope=col>.pred</th></tr>\n",
       "\t<tr><th scope=col>&lt;dbl&gt;</th></tr>\n",
       "</thead>\n",
       "<tbody>\n",
       "\t<tr><td>183813.2</td></tr>\n",
       "\t<tr><td>180389.5</td></tr>\n",
       "\t<tr><td>203182.2</td></tr>\n",
       "\t<tr><td>191666.4</td></tr>\n",
       "\t<tr><td>191135.7</td></tr>\n",
       "</tbody>\n",
       "</table>\n"
      ],
      "text/latex": [
       "A tibble: 5 × 1\n",
       "\\begin{tabular}{l}\n",
       " .pred\\\\\n",
       " <dbl>\\\\\n",
       "\\hline\n",
       "\t 183813.2\\\\\n",
       "\t 180389.5\\\\\n",
       "\t 203182.2\\\\\n",
       "\t 191666.4\\\\\n",
       "\t 191135.7\\\\\n",
       "\\end{tabular}\n"
      ],
      "text/markdown": [
       "\n",
       "A tibble: 5 × 1\n",
       "\n",
       "| .pred &lt;dbl&gt; |\n",
       "|---|\n",
       "| 183813.2 |\n",
       "| 180389.5 |\n",
       "| 203182.2 |\n",
       "| 191666.4 |\n",
       "| 191135.7 |\n",
       "\n"
      ],
      "text/plain": [
       "  .pred   \n",
       "1 183813.2\n",
       "2 180389.5\n",
       "3 203182.2\n",
       "4 191666.4\n",
       "5 191135.7"
      ]
     },
     "metadata": {},
     "output_type": "display_data"
    }
   ],
   "source": [
    "ames_test_small <- ames_test %>% slice(1:5)\n",
    "predict(lm_form_fit, new_data = ames_test_small)"
   ]
  },
  {
   "cell_type": "code",
   "execution_count": 51,
   "id": "86381195",
   "metadata": {},
   "outputs": [
    {
     "data": {
      "text/html": [
       "<table class=\"dataframe\">\n",
       "<caption>A tibble: 5 × 4</caption>\n",
       "<thead>\n",
       "\t<tr><th scope=col>Sale_Price</th><th scope=col>.pred</th><th scope=col>.pred_lower</th><th scope=col>.pred_upper</th></tr>\n",
       "\t<tr><th scope=col>&lt;int&gt;</th><th scope=col>&lt;dbl&gt;</th><th scope=col>&lt;dbl&gt;</th><th scope=col>&lt;dbl&gt;</th></tr>\n",
       "</thead>\n",
       "<tbody>\n",
       "\t<tr><td>213500</td><td>210691.6</td><td>68546.79</td><td>352836.4</td></tr>\n",
       "\t<tr><td>149900</td><td>193732.3</td><td>51616.01</td><td>335848.7</td></tr>\n",
       "\t<tr><td> 96000</td><td>190665.7</td><td>48559.32</td><td>332772.0</td></tr>\n",
       "\t<tr><td>105500</td><td>190678.5</td><td>48572.97</td><td>332784.1</td></tr>\n",
       "\t<tr><td>205000</td><td>217014.7</td><td>74891.52</td><td>359138.0</td></tr>\n",
       "</tbody>\n",
       "</table>\n"
      ],
      "text/latex": [
       "A tibble: 5 × 4\n",
       "\\begin{tabular}{llll}\n",
       " Sale\\_Price & .pred & .pred\\_lower & .pred\\_upper\\\\\n",
       " <int> & <dbl> & <dbl> & <dbl>\\\\\n",
       "\\hline\n",
       "\t 213500 & 210691.6 & 68546.79 & 352836.4\\\\\n",
       "\t 149900 & 193732.3 & 51616.01 & 335848.7\\\\\n",
       "\t  96000 & 190665.7 & 48559.32 & 332772.0\\\\\n",
       "\t 105500 & 190678.5 & 48572.97 & 332784.1\\\\\n",
       "\t 205000 & 217014.7 & 74891.52 & 359138.0\\\\\n",
       "\\end{tabular}\n"
      ],
      "text/markdown": [
       "\n",
       "A tibble: 5 × 4\n",
       "\n",
       "| Sale_Price &lt;int&gt; | .pred &lt;dbl&gt; | .pred_lower &lt;dbl&gt; | .pred_upper &lt;dbl&gt; |\n",
       "|---|---|---|---|\n",
       "| 213500 | 210691.6 | 68546.79 | 352836.4 |\n",
       "| 149900 | 193732.3 | 51616.01 | 335848.7 |\n",
       "|  96000 | 190665.7 | 48559.32 | 332772.0 |\n",
       "| 105500 | 190678.5 | 48572.97 | 332784.1 |\n",
       "| 205000 | 217014.7 | 74891.52 | 359138.0 |\n",
       "\n"
      ],
      "text/plain": [
       "  Sale_Price .pred    .pred_lower .pred_upper\n",
       "1 213500     210691.6 68546.79    352836.4   \n",
       "2 149900     193732.3 51616.01    335848.7   \n",
       "3  96000     190665.7 48559.32    332772.0   \n",
       "4 105500     190678.5 48572.97    332784.1   \n",
       "5 205000     217014.7 74891.52    359138.0   "
      ]
     },
     "metadata": {},
     "output_type": "display_data"
    }
   ],
   "source": [
    "ames_test_small %>%\n",
    "    select(Sale_Price) %>%\n",
    "    bind_cols(predict(lm_form_fit, ames_test_small)) %>%\n",
    "    bind_cols(predict(lm_form_fit, ames_test_small, type = \"pred_int\"))"
   ]
  },
  {
   "cell_type": "markdown",
   "id": "bd7a4af6",
   "metadata": {},
   "source": [
    "<br>\n",
    "\n",
    "- 모델 생성"
   ]
  },
  {
   "cell_type": "code",
   "execution_count": 27,
   "id": "b9ba6faa",
   "metadata": {},
   "outputs": [],
   "source": [
    "tree_model <- decision_tree(min_n = 2) %>% \n",
    "  set_engine(\"rpart\") %>% \n",
    "  set_mode(\"regression\")"
   ]
  },
  {
   "cell_type": "markdown",
   "id": "31540958",
   "metadata": {},
   "source": [
    "- 모델 적합"
   ]
  },
  {
   "cell_type": "code",
   "execution_count": 28,
   "id": "51090626",
   "metadata": {},
   "outputs": [],
   "source": [
    "tree_fit <- tree_model %>% \n",
    "  fit(Sale_Price ~ Longitude + Latitude, data = ames_train)"
   ]
  },
  {
   "cell_type": "markdown",
   "id": "cf24189c",
   "metadata": {},
   "source": [
    "- 예측"
   ]
  },
  {
   "cell_type": "code",
   "execution_count": 29,
   "id": "41bc436a",
   "metadata": {},
   "outputs": [
    {
     "data": {
      "text/html": [
       "<table class=\"dataframe\">\n",
       "<caption>A tibble: 5 × 2</caption>\n",
       "<thead>\n",
       "\t<tr><th scope=col>Sale_Price</th><th scope=col>.pred</th></tr>\n",
       "\t<tr><th scope=col>&lt;int&gt;</th><th scope=col>&lt;dbl&gt;</th></tr>\n",
       "</thead>\n",
       "<tbody>\n",
       "\t<tr><td>172000</td><td>139895.8</td></tr>\n",
       "\t<tr><td>244000</td><td>139895.8</td></tr>\n",
       "\t<tr><td>185000</td><td>214769.0</td></tr>\n",
       "\t<tr><td>141000</td><td>139895.8</td></tr>\n",
       "\t<tr><td>115000</td><td>139895.8</td></tr>\n",
       "</tbody>\n",
       "</table>\n"
      ],
      "text/latex": [
       "A tibble: 5 × 2\n",
       "\\begin{tabular}{ll}\n",
       " Sale\\_Price & .pred\\\\\n",
       " <int> & <dbl>\\\\\n",
       "\\hline\n",
       "\t 172000 & 139895.8\\\\\n",
       "\t 244000 & 139895.8\\\\\n",
       "\t 185000 & 214769.0\\\\\n",
       "\t 141000 & 139895.8\\\\\n",
       "\t 115000 & 139895.8\\\\\n",
       "\\end{tabular}\n"
      ],
      "text/markdown": [
       "\n",
       "A tibble: 5 × 2\n",
       "\n",
       "| Sale_Price &lt;int&gt; | .pred &lt;dbl&gt; |\n",
       "|---|---|\n",
       "| 172000 | 139895.8 |\n",
       "| 244000 | 139895.8 |\n",
       "| 185000 | 214769.0 |\n",
       "| 141000 | 139895.8 |\n",
       "| 115000 | 139895.8 |\n",
       "\n"
      ],
      "text/plain": [
       "  Sale_Price .pred   \n",
       "1 172000     139895.8\n",
       "2 244000     139895.8\n",
       "3 185000     214769.0\n",
       "4 141000     139895.8\n",
       "5 115000     139895.8"
      ]
     },
     "metadata": {},
     "output_type": "display_data"
    }
   ],
   "source": [
    "ames_test_small %>% \n",
    "  select(Sale_Price) %>% \n",
    "  bind_cols(predict(tree_fit, ames_test_small))"
   ]
  },
  {
   "cell_type": "markdown",
   "id": "86b54620",
   "metadata": {},
   "source": [
    "<br>\n",
    "\n",
    "## 04.04. `parsnip` 확장 패키지\n",
    "- `parsnip`과 함께 사용할 수 있는 모델 목록 : https://www.tidymodels.org/find/"
   ]
  },
  {
   "cell_type": "markdown",
   "id": "500db360",
   "metadata": {},
   "source": [
    "<br>\n",
    "\n",
    "\n",
    "## 04.05. 모델 사양 작성\n",
    "- parsnip과 연동 가능하여 생성한 모든 모델 확인 (R Studio)"
   ]
  },
  {
   "cell_type": "code",
   "execution_count": null,
   "id": "3ebf3c99",
   "metadata": {
    "scrolled": true
   },
   "outputs": [],
   "source": [
    "parsnip_addin()"
   ]
  }
 ],
 "metadata": {
  "kernelspec": {
   "display_name": "R-4.3.2",
   "language": "R",
   "name": "ir"
  },
  "language_info": {
   "codemirror_mode": "r",
   "file_extension": ".r",
   "mimetype": "text/x-r-source",
   "name": "R",
   "pygments_lexer": "r",
   "version": "4.3.2"
  }
 },
 "nbformat": 4,
 "nbformat_minor": 5
}
