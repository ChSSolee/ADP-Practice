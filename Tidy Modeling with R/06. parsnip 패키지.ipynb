{
 "cells": [
  {
   "cell_type": "markdown",
   "id": "20f07b99",
   "metadata": {},
   "source": [
    "# 06. parsnip 패키지"
   ]
  },
  {
   "cell_type": "code",
   "execution_count": 2,
   "id": "7f24d426",
   "metadata": {},
   "outputs": [],
   "source": [
    "library(tidyverse)\n",
    "library(tidymodels)\n",
    "ggplot2::theme_set(theme_bw())\n",
    "tidymodels_prefer()"
   ]
  },
  {
   "cell_type": "code",
   "execution_count": 19,
   "id": "a0a000f3",
   "metadata": {},
   "outputs": [],
   "source": [
    "set.seed(20221010)\n",
    "ames_split <- initial_split(ames, prop = 0.8, strata = Sale_Price)\n",
    "ames_train <- training(ames_split)\n",
    "ames_test <- testing(ames_split)"
   ]
  },
  {
   "cell_type": "markdown",
   "id": "2023323f",
   "metadata": {},
   "source": [
    "# \n",
    "# \n",
    "### 모델 생성\n",
    "\n",
    "#### $ y_i = \\beta_0 + \\beta_1 x_{1i}  + ... + \\beta_p x_{pi} $\n",
    "\n",
    "# \n",
    "# \n",
    "# \n",
    "\n",
    "- 일반 선형 회귀는 최소 제곱법을 사용하여 모델 매개변수 계산"
   ]
  },
  {
   "cell_type": "markdown",
   "id": "6e9ee497",
   "metadata": {},
   "source": [
    "``` \n",
    "model <- lm(formula, data, ...) \n",
    "```\n",
    "# \n",
    "# "
   ]
  },
  {
   "cell_type": "markdown",
   "id": "a5f232b0",
   "metadata": {},
   "source": [
    "- 정규화 선형 회귀는 계수를 0으로 축소하여 단순성을 장려하기 위해 최소 제곱 방법에 페널티를 추가. 이것은 베이지안 또는 비 베이지안 기술을 사용하여 실행가능"
   ]
  },
  {
   "cell_type": "markdown",
   "id": "d0e49508",
   "metadata": {},
   "source": [
    "#### 베이지안 모델\n",
    "\n",
    "``` \n",
    "library(rstanarm)\n",
    "model <- stan_glm(formula, data, family = \"gaussian\", ...)\n",
    "```"
   ]
  },
  {
   "cell_type": "markdown",
   "id": "4bc5486d",
   "metadata": {},
   "source": [
    "# \n",
    "#### 비 베이지안 모델\n",
    "```\n",
    "library(glm)\n",
    "model <- glmnet(x = matrix, y = vector, family = \"gaussian\", ...)\n",
    "```"
   ]
  },
  {
   "cell_type": "markdown",
   "id": "7e4c5308",
   "metadata": {},
   "source": [
    "# \n",
    "# \n",
    "# \n",
    "### TIDYMODEL을 통한 모델 지정\n",
    "1. 수학적 구조 (예 : 선형 구조, 랜덤 포레스트, KNN 등)을 기반으로 모델 유형 지정\n",
    "2. 모델을 적합할 엔진 지정 (**대부분의 경우 Stan또는 glmnet과 같이 사용해야 하는 소프트웨어 패키지를 반영**, 이것들은 그 자체로 모델이며, parsnip은 이를 모델링 엔진으로 사용하여 일관된 인터페이스를 제공)\n",
    "3. 필요한 경우 모델의 모드를 선언 (회귀 / 분류). 모드는 예측 결과의 유형을 반영. 수치 결과의 경우 "
   ]
  },
  {
   "cell_type": "markdown",
   "id": "f2fa6978",
   "metadata": {},
   "source": [
    "# \n",
    "# \n",
    "- 회귀 => 일반 선형 회귀"
   ]
  },
  {
   "cell_type": "code",
   "execution_count": 9,
   "id": "fe356e3e",
   "metadata": {},
   "outputs": [
    {
     "data": {
      "text/plain": [
       "Linear Regression Model Specification (regression)\n",
       "\n",
       "Computational engine: lm \n"
      ]
     },
     "metadata": {},
     "output_type": "display_data"
    }
   ],
   "source": [
    "linear_reg() %>% set_engine(\"lm\")"
   ]
  },
  {
   "cell_type": "markdown",
   "id": "f4fc3d3f",
   "metadata": {},
   "source": [
    "- 회귀 => 정규화 회귀(glmnet)"
   ]
  },
  {
   "cell_type": "code",
   "execution_count": 10,
   "id": "8cba93e8",
   "metadata": {},
   "outputs": [
    {
     "data": {
      "text/plain": [
       "Linear Regression Model Specification (regression)\n",
       "\n",
       "Computational engine: glmnet \n"
      ]
     },
     "metadata": {},
     "output_type": "display_data"
    }
   ],
   "source": [
    "linear_reg() %>% set_engine(\"glmnet\")"
   ]
  },
  {
   "cell_type": "markdown",
   "id": "72e89dd1",
   "metadata": {},
   "source": [
    "- 회귀 => 정규화 회귀 (rstanarm)"
   ]
  },
  {
   "cell_type": "code",
   "execution_count": 11,
   "id": "04f9ea0a",
   "metadata": {},
   "outputs": [
    {
     "data": {
      "text/plain": [
       "Linear Regression Model Specification (regression)\n",
       "\n",
       "Computational engine: stan \n"
      ]
     },
     "metadata": {},
     "output_type": "display_data"
    }
   ],
   "source": [
    "linear_reg() %>% set_engine(\"stan\")"
   ]
  },
  {
   "cell_type": "markdown",
   "id": "09597e37",
   "metadata": {},
   "source": [
    "# \n",
    "# \n",
    "### ```parsnip::translate()``` : 사용자 코드를 패키지 구문으로 변환하는 방법에 대한 세부 정보 제공"
   ]
  },
  {
   "cell_type": "code",
   "execution_count": 12,
   "id": "737e37f4",
   "metadata": {},
   "outputs": [
    {
     "data": {
      "text/plain": [
       "Linear Regression Model Specification (regression)\n",
       "\n",
       "Computational engine: lm \n",
       "\n",
       "Model fit template:\n",
       "stats::lm(formula = missing_arg(), data = missing_arg(), weights = missing_arg())"
      ]
     },
     "metadata": {},
     "output_type": "display_data"
    }
   ],
   "source": [
    "linear_reg() %>% set_engine(\"lm\") %>% translate()"
   ]
  },
  {
   "cell_type": "markdown",
   "id": "5ec04fda",
   "metadata": {},
   "source": [
    "- 회귀 => 정규화 회귀(glmnet)"
   ]
  },
  {
   "cell_type": "code",
   "execution_count": 14,
   "id": "d555c0ca",
   "metadata": {},
   "outputs": [
    {
     "data": {
      "text/plain": [
       "Linear Regression Model Specification (regression)\n",
       "\n",
       "Main Arguments:\n",
       "  penalty = 1\n",
       "\n",
       "Computational engine: glmnet \n",
       "\n",
       "Model fit template:\n",
       "glmnet::glmnet(x = missing_arg(), y = missing_arg(), weights = missing_arg(), \n",
       "    family = \"gaussian\")"
      ]
     },
     "metadata": {},
     "output_type": "display_data"
    }
   ],
   "source": [
    "linear_reg(penalty = 1) %>% set_engine(\"glmnet\") %>% translate()"
   ]
  },
  {
   "cell_type": "markdown",
   "id": "aeefba2f",
   "metadata": {},
   "source": [
    "- 회귀 => 정규화 회귀 (rstanarm)"
   ]
  },
  {
   "cell_type": "code",
   "execution_count": 15,
   "id": "9efec41e",
   "metadata": {},
   "outputs": [
    {
     "data": {
      "text/plain": [
       "Linear Regression Model Specification (regression)\n",
       "\n",
       "Computational engine: stan \n",
       "\n",
       "Model fit template:\n",
       "rstanarm::stan_glm(formula = missing_arg(), data = missing_arg(), \n",
       "    weights = missing_arg(), family = stats::gaussian, refresh = 0)"
      ]
     },
     "metadata": {},
     "output_type": "display_data"
    }
   ],
   "source": [
    "linear_reg() %>% set_engine(\"stan\") %>% translate()"
   ]
  },
  {
   "cell_type": "markdown",
   "id": "f2ecfdc9",
   "metadata": {},
   "source": [
    "# \n",
    "# \n",
    "# "
   ]
  },
  {
   "cell_type": "markdown",
   "id": "c975a4fa",
   "metadata": {},
   "source": [
    "### ```fit()```\n",
    "### ```fit_xy()``` : 설명변수와 반응변수를 선택하여 적합"
   ]
  },
  {
   "cell_type": "code",
   "execution_count": 27,
   "id": "d19b2ef2",
   "metadata": {},
   "outputs": [],
   "source": [
    "lm_model <- \n",
    "    linear_reg() %>%\n",
    "    set_engine(\"lm\")\n",
    "\n",
    "lm_form_fit <- \n",
    "    lm_model %>%\n",
    "    fit(Sale_Price ~ Longitude + Latitude, data = ames_train)\n",
    "\n",
    "lm_xy_fit <-\n",
    "    lm_model %>%\n",
    "    fit_xy(x = ames_train %>% select(Longitude, Latitude),\n",
    "           y = ames_train %>% pull(Sale_Price))"
   ]
  },
  {
   "cell_type": "code",
   "execution_count": 31,
   "id": "448a3a8f",
   "metadata": {},
   "outputs": [
    {
     "data": {
      "text/plain": [
       "parsnip model object\n",
       "\n",
       "\n",
       "Call:\n",
       "stats::lm(formula = Sale_Price ~ Longitude + Latitude, data = data)\n",
       "\n",
       "Coefficients:\n",
       "(Intercept)    Longitude     Latitude  \n",
       " -130898285      -804345      1326466  \n"
      ]
     },
     "metadata": {},
     "output_type": "display_data"
    },
    {
     "data": {
      "text/plain": [
       "parsnip model object\n",
       "\n",
       "\n",
       "Call:\n",
       "stats::lm(formula = ..y ~ ., data = data)\n",
       "\n",
       "Coefficients:\n",
       "(Intercept)    Longitude     Latitude  \n",
       " -130898285      -804345      1326466  \n"
      ]
     },
     "metadata": {},
     "output_type": "display_data"
    }
   ],
   "source": [
    "lm_form_fit\n",
    "lm_xy_fit"
   ]
  },
  {
   "cell_type": "markdown",
   "id": "d86c58b0",
   "metadata": {},
   "source": [
    "# \n",
    "# \n",
    "#### 랜덤 포레스트 적합 시\n",
    "| 인수 유현 | ranger 패키지 | randomForest 패키지 | sparklyr 패키지 | parsnip 패키지 | \n",
    "| -- | -- | -- | -- | -- |\n",
    "| # 사용할 변수 개수 | ```mtry``` | ```mtry``` | ```feature_subset_strategy``` | ```mtry``` |\n",
    "| # 생성할 tree수 | ```num.trees``` | ```ntree``` | ```num_trees``` | ```trees``` |\n",
    "| # 최소 가지 크기 | ```min.node.size``` | ```nodesize``` | ```min_instances_per_node``` | ```min_n``` | "
   ]
  },
  {
   "cell_type": "code",
   "execution_count": 34,
   "id": "38c34fb9",
   "metadata": {},
   "outputs": [
    {
     "data": {
      "text/plain": [
       "Random Forest Model Specification (regression)\n",
       "\n",
       "Main Arguments:\n",
       "  trees = 1000\n",
       "  min_n = 5\n",
       "\n",
       "Computational engine: ranger \n",
       "\n",
       "Model fit template:\n",
       "ranger::ranger(x = missing_arg(), y = missing_arg(), weights = missing_arg(), \n",
       "    num.trees = 1000, min.node.size = min_rows(~5, x), num.threads = 1, \n",
       "    verbose = FALSE, seed = sample.int(10^5, 1))"
      ]
     },
     "metadata": {},
     "output_type": "display_data"
    }
   ],
   "source": [
    "rand_forest(trees = 1000, min_n = 5) %>% \n",
    "    set_engine(\"ranger\") %>% \n",
    "    set_mode(\"regression\") %>% \n",
    "    translate()"
   ]
  },
  {
   "cell_type": "code",
   "execution_count": 36,
   "id": "5998911b",
   "metadata": {},
   "outputs": [
    {
     "data": {
      "text/plain": [
       "Random Forest Model Specification (regression)\n",
       "\n",
       "Main Arguments:\n",
       "  trees = 1000\n",
       "  min_n = 5\n",
       "\n",
       "Engine-Specific Arguments:\n",
       "  verbose = TRUE\n",
       "\n",
       "Computational engine: ranger \n"
      ]
     },
     "metadata": {},
     "output_type": "display_data"
    }
   ],
   "source": [
    "rand_forest(trees = 1000, min_n = 5) %>%\n",
    "    set_engine(\"ranger\", verbose = TRUE) %>%\n",
    "    set_mode(\"regression\")"
   ]
  },
  {
   "cell_type": "markdown",
   "id": "e29ee52d",
   "metadata": {},
   "source": [
    "# \n",
    "# \n",
    "## 모델 결과"
   ]
  },
  {
   "cell_type": "markdown",
   "id": "2365c8e8",
   "metadata": {},
   "source": [
    "### ```extract_fit_engine()``` : 모델 출력 결과 활용"
   ]
  },
  {
   "cell_type": "code",
   "execution_count": 39,
   "id": "43e55d4f",
   "metadata": {},
   "outputs": [
    {
     "data": {
      "text/plain": [
       "\n",
       "Call:\n",
       "stats::lm(formula = Sale_Price ~ Longitude + Latitude, data = data)\n",
       "\n",
       "Coefficients:\n",
       "(Intercept)    Longitude     Latitude  \n",
       " -130898285      -804345      1326466  \n"
      ]
     },
     "metadata": {},
     "output_type": "display_data"
    }
   ],
   "source": [
    "lm_form_fit %>% extract_fit_engine()"
   ]
  },
  {
   "cell_type": "code",
   "execution_count": 40,
   "id": "bfbc20f5",
   "metadata": {},
   "outputs": [
    {
     "data": {
      "text/html": [
       "<table class=\"dataframe\">\n",
       "<caption>A matrix: 3 × 3 of type dbl</caption>\n",
       "<thead>\n",
       "\t<tr><th></th><th scope=col>(Intercept)</th><th scope=col>Longitude</th><th scope=col>Latitude</th></tr>\n",
       "</thead>\n",
       "<tbody>\n",
       "\t<tr><th scope=row>(Intercept)</th><td> 4.338180e+13</td><td>327989572678</td><td>-301367952873</td></tr>\n",
       "\t<tr><th scope=row>Longitude</th><td> 3.279896e+11</td><td>  3413902123</td><td>   -197513889</td></tr>\n",
       "\t<tr><th scope=row>Latitude</th><td>-3.013680e+11</td><td>  -197513889</td><td>   6729467557</td></tr>\n",
       "</tbody>\n",
       "</table>\n"
      ],
      "text/latex": [
       "A matrix: 3 × 3 of type dbl\n",
       "\\begin{tabular}{r|lll}\n",
       "  & (Intercept) & Longitude & Latitude\\\\\n",
       "\\hline\n",
       "\t(Intercept) &  4.338180e+13 & 327989572678 & -301367952873\\\\\n",
       "\tLongitude &  3.279896e+11 &   3413902123 &    -197513889\\\\\n",
       "\tLatitude & -3.013680e+11 &   -197513889 &    6729467557\\\\\n",
       "\\end{tabular}\n"
      ],
      "text/markdown": [
       "\n",
       "A matrix: 3 × 3 of type dbl\n",
       "\n",
       "| <!--/--> | (Intercept) | Longitude | Latitude |\n",
       "|---|---|---|---|\n",
       "| (Intercept) |  4.338180e+13 | 327989572678 | -301367952873 |\n",
       "| Longitude |  3.279896e+11 |   3413902123 |    -197513889 |\n",
       "| Latitude | -3.013680e+11 |   -197513889 |    6729467557 |\n",
       "\n"
      ],
      "text/plain": [
       "            (Intercept)   Longitude    Latitude     \n",
       "(Intercept)  4.338180e+13 327989572678 -301367952873\n",
       "Longitude    3.279896e+11   3413902123    -197513889\n",
       "Latitude    -3.013680e+11   -197513889    6729467557"
      ]
     },
     "metadata": {},
     "output_type": "display_data"
    }
   ],
   "source": [
    "lm_form_fit %>% extract_fit_engine() %>% vcov()"
   ]
  },
  {
   "cell_type": "code",
   "execution_count": 43,
   "id": "ef2f7ee2",
   "metadata": {},
   "outputs": [
    {
     "data": {
      "text/plain": [
       "\n",
       "Call:\n",
       "stats::lm(formula = Sale_Price ~ Longitude + Latitude, data = data)\n",
       "\n",
       "Residuals:\n",
       "    Min      1Q  Median      3Q     Max \n",
       "-143925  -46076  -18906   32309  407776 \n",
       "\n",
       "Coefficients:\n",
       "              Estimate Std. Error t value Pr(>|t|)    \n",
       "(Intercept) -130898285    6586486  -19.87   <2e-16 ***\n",
       "Longitude      -804345      58429  -13.77   <2e-16 ***\n",
       "Latitude       1326466      82033   16.17   <2e-16 ***\n",
       "---\n",
       "Signif. codes:  0 '***' 0.001 '**' 0.01 '*' 0.05 '.' 0.1 ' ' 1\n",
       "\n",
       "Residual standard error: 72430 on 2339 degrees of freedom\n",
       "Multiple R-squared:  0.1563,\tAdjusted R-squared:  0.1556 \n",
       "F-statistic: 216.7 on 2 and 2339 DF,  p-value: < 2.2e-16\n"
      ]
     },
     "metadata": {},
     "output_type": "display_data"
    }
   ],
   "source": [
    "(lm_form_fit %>%\n",
    "    extract_fit_engine() %>% summary() -> model_res)"
   ]
  },
  {
   "cell_type": "code",
   "execution_count": 46,
   "id": "33361ad5",
   "metadata": {},
   "outputs": [
    {
     "data": {
      "text/html": [
       "<style>\n",
       ".list-inline {list-style: none; margin:0; padding: 0}\n",
       ".list-inline>li {display: inline-block}\n",
       ".list-inline>li:not(:last-child)::after {content: \"\\00b7\"; padding: 0 .5ex}\n",
       "</style>\n",
       "<ol class=list-inline><li>'matrix'</li><li>'array'</li></ol>\n"
      ],
      "text/latex": [
       "\\begin{enumerate*}\n",
       "\\item 'matrix'\n",
       "\\item 'array'\n",
       "\\end{enumerate*}\n"
      ],
      "text/markdown": [
       "1. 'matrix'\n",
       "2. 'array'\n",
       "\n",
       "\n"
      ],
      "text/plain": [
       "[1] \"matrix\" \"array\" "
      ]
     },
     "metadata": {},
     "output_type": "display_data"
    },
    {
     "data": {
      "text/html": [
       "<table class=\"dataframe\">\n",
       "<caption>A matrix: 3 × 4 of type dbl</caption>\n",
       "<thead>\n",
       "\t<tr><th></th><th scope=col>Estimate</th><th scope=col>Std. Error</th><th scope=col>t value</th><th scope=col>Pr(&gt;|t|)</th></tr>\n",
       "</thead>\n",
       "<tbody>\n",
       "\t<tr><th scope=row>(Intercept)</th><td>-130898285.1</td><td>6586486.12</td><td>-19.87377</td><td>2.441170e-81</td></tr>\n",
       "\t<tr><th scope=row>Longitude</th><td>   -804345.1</td><td>  58428.61</td><td>-13.76629</td><td>1.615072e-41</td></tr>\n",
       "\t<tr><th scope=row>Latitude</th><td>   1326465.5</td><td>  82033.33</td><td> 16.16984</td><td>7.825498e-56</td></tr>\n",
       "</tbody>\n",
       "</table>\n"
      ],
      "text/latex": [
       "A matrix: 3 × 4 of type dbl\n",
       "\\begin{tabular}{r|llll}\n",
       "  & Estimate & Std. Error & t value & Pr(>\\textbar{}t\\textbar{})\\\\\n",
       "\\hline\n",
       "\t(Intercept) & -130898285.1 & 6586486.12 & -19.87377 & 2.441170e-81\\\\\n",
       "\tLongitude &    -804345.1 &   58428.61 & -13.76629 & 1.615072e-41\\\\\n",
       "\tLatitude &    1326465.5 &   82033.33 &  16.16984 & 7.825498e-56\\\\\n",
       "\\end{tabular}\n"
      ],
      "text/markdown": [
       "\n",
       "A matrix: 3 × 4 of type dbl\n",
       "\n",
       "| <!--/--> | Estimate | Std. Error | t value | Pr(&gt;|t|) |\n",
       "|---|---|---|---|---|\n",
       "| (Intercept) | -130898285.1 | 6586486.12 | -19.87377 | 2.441170e-81 |\n",
       "| Longitude |    -804345.1 |   58428.61 | -13.76629 | 1.615072e-41 |\n",
       "| Latitude |    1326465.5 |   82033.33 |  16.16984 | 7.825498e-56 |\n",
       "\n"
      ],
      "text/plain": [
       "            Estimate     Std. Error t value   Pr(>|t|)    \n",
       "(Intercept) -130898285.1 6586486.12 -19.87377 2.441170e-81\n",
       "Longitude      -804345.1   58428.61 -13.76629 1.615072e-41\n",
       "Latitude       1326465.5   82033.33  16.16984 7.825498e-56"
      ]
     },
     "metadata": {},
     "output_type": "display_data"
    }
   ],
   "source": [
    "param_est <- coef(model_res)\n",
    "class(param_est) ; param_est"
   ]
  },
  {
   "cell_type": "code",
   "execution_count": 47,
   "id": "a16f944e",
   "metadata": {},
   "outputs": [
    {
     "data": {
      "text/html": [
       "<table class=\"dataframe\">\n",
       "<caption>A tibble: 3 × 5</caption>\n",
       "<thead>\n",
       "\t<tr><th scope=col>term</th><th scope=col>estimate</th><th scope=col>std.error</th><th scope=col>statistic</th><th scope=col>p.value</th></tr>\n",
       "\t<tr><th scope=col>&lt;chr&gt;</th><th scope=col>&lt;dbl&gt;</th><th scope=col>&lt;dbl&gt;</th><th scope=col>&lt;dbl&gt;</th><th scope=col>&lt;dbl&gt;</th></tr>\n",
       "</thead>\n",
       "<tbody>\n",
       "\t<tr><td>(Intercept)</td><td>-130898285.1</td><td>6586486.12</td><td>-19.87377</td><td>2.441170e-81</td></tr>\n",
       "\t<tr><td>Longitude  </td><td>   -804345.1</td><td>  58428.61</td><td>-13.76629</td><td>1.615072e-41</td></tr>\n",
       "\t<tr><td>Latitude   </td><td>   1326465.5</td><td>  82033.33</td><td> 16.16984</td><td>7.825498e-56</td></tr>\n",
       "</tbody>\n",
       "</table>\n"
      ],
      "text/latex": [
       "A tibble: 3 × 5\n",
       "\\begin{tabular}{lllll}\n",
       " term & estimate & std.error & statistic & p.value\\\\\n",
       " <chr> & <dbl> & <dbl> & <dbl> & <dbl>\\\\\n",
       "\\hline\n",
       "\t (Intercept) & -130898285.1 & 6586486.12 & -19.87377 & 2.441170e-81\\\\\n",
       "\t Longitude   &    -804345.1 &   58428.61 & -13.76629 & 1.615072e-41\\\\\n",
       "\t Latitude    &    1326465.5 &   82033.33 &  16.16984 & 7.825498e-56\\\\\n",
       "\\end{tabular}\n"
      ],
      "text/markdown": [
       "\n",
       "A tibble: 3 × 5\n",
       "\n",
       "| term &lt;chr&gt; | estimate &lt;dbl&gt; | std.error &lt;dbl&gt; | statistic &lt;dbl&gt; | p.value &lt;dbl&gt; |\n",
       "|---|---|---|---|---|\n",
       "| (Intercept) | -130898285.1 | 6586486.12 | -19.87377 | 2.441170e-81 |\n",
       "| Longitude   |    -804345.1 |   58428.61 | -13.76629 | 1.615072e-41 |\n",
       "| Latitude    |    1326465.5 |   82033.33 |  16.16984 | 7.825498e-56 |\n",
       "\n"
      ],
      "text/plain": [
       "  term        estimate     std.error  statistic p.value     \n",
       "1 (Intercept) -130898285.1 6586486.12 -19.87377 2.441170e-81\n",
       "2 Longitude      -804345.1   58428.61 -13.76629 1.615072e-41\n",
       "3 Latitude       1326465.5   82033.33  16.16984 7.825498e-56"
      ]
     },
     "metadata": {},
     "output_type": "display_data"
    }
   ],
   "source": [
    "tidy(lm_form_fit)"
   ]
  },
  {
   "cell_type": "markdown",
   "id": "1d1c6e7d",
   "metadata": {},
   "source": [
    "# \n",
    "# \n",
    "## 에측"
   ]
  },
  {
   "cell_type": "markdown",
   "id": "d4f200a2",
   "metadata": {},
   "source": [
    "### Tidymodels의 ```predict``` 사용시 ```type```의 종류\n",
    "| 유형 | 반환 열 | \n",
    "| -- | -- |\n",
    "| numeric | .pred | \n",
    "| class | .pred_class | \n",
    "| prob | .pred_{class levels} | \n",
    "| conf_int | .pred_lower / .pred_upper | \n",
    "| pred_int | .pred_lower / .pred_upper | "
   ]
  },
  {
   "cell_type": "code",
   "execution_count": 48,
   "id": "27ea728f",
   "metadata": {},
   "outputs": [],
   "source": [
    "ames_test_small <- ames_test %>% slice(1:5)"
   ]
  },
  {
   "cell_type": "code",
   "execution_count": 50,
   "id": "f9d3d109",
   "metadata": {},
   "outputs": [
    {
     "data": {
      "text/html": [
       "<table class=\"dataframe\">\n",
       "<caption>A tibble: 5 × 1</caption>\n",
       "<thead>\n",
       "\t<tr><th scope=col>.pred</th></tr>\n",
       "\t<tr><th scope=col>&lt;dbl&gt;</th></tr>\n",
       "</thead>\n",
       "<tbody>\n",
       "\t<tr><td>210691.6</td></tr>\n",
       "\t<tr><td>193732.3</td></tr>\n",
       "\t<tr><td>190665.7</td></tr>\n",
       "\t<tr><td>190678.5</td></tr>\n",
       "\t<tr><td>217014.7</td></tr>\n",
       "</tbody>\n",
       "</table>\n"
      ],
      "text/latex": [
       "A tibble: 5 × 1\n",
       "\\begin{tabular}{l}\n",
       " .pred\\\\\n",
       " <dbl>\\\\\n",
       "\\hline\n",
       "\t 210691.6\\\\\n",
       "\t 193732.3\\\\\n",
       "\t 190665.7\\\\\n",
       "\t 190678.5\\\\\n",
       "\t 217014.7\\\\\n",
       "\\end{tabular}\n"
      ],
      "text/markdown": [
       "\n",
       "A tibble: 5 × 1\n",
       "\n",
       "| .pred &lt;dbl&gt; |\n",
       "|---|\n",
       "| 210691.6 |\n",
       "| 193732.3 |\n",
       "| 190665.7 |\n",
       "| 190678.5 |\n",
       "| 217014.7 |\n",
       "\n"
      ],
      "text/plain": [
       "  .pred   \n",
       "1 210691.6\n",
       "2 193732.3\n",
       "3 190665.7\n",
       "4 190678.5\n",
       "5 217014.7"
      ]
     },
     "metadata": {},
     "output_type": "display_data"
    }
   ],
   "source": [
    "predict(lm_form_fit, new_data =  = ames_test_small)"
   ]
  },
  {
   "cell_type": "code",
   "execution_count": 51,
   "id": "86381195",
   "metadata": {},
   "outputs": [
    {
     "data": {
      "text/html": [
       "<table class=\"dataframe\">\n",
       "<caption>A tibble: 5 × 4</caption>\n",
       "<thead>\n",
       "\t<tr><th scope=col>Sale_Price</th><th scope=col>.pred</th><th scope=col>.pred_lower</th><th scope=col>.pred_upper</th></tr>\n",
       "\t<tr><th scope=col>&lt;int&gt;</th><th scope=col>&lt;dbl&gt;</th><th scope=col>&lt;dbl&gt;</th><th scope=col>&lt;dbl&gt;</th></tr>\n",
       "</thead>\n",
       "<tbody>\n",
       "\t<tr><td>213500</td><td>210691.6</td><td>68546.79</td><td>352836.4</td></tr>\n",
       "\t<tr><td>149900</td><td>193732.3</td><td>51616.01</td><td>335848.7</td></tr>\n",
       "\t<tr><td> 96000</td><td>190665.7</td><td>48559.32</td><td>332772.0</td></tr>\n",
       "\t<tr><td>105500</td><td>190678.5</td><td>48572.97</td><td>332784.1</td></tr>\n",
       "\t<tr><td>205000</td><td>217014.7</td><td>74891.52</td><td>359138.0</td></tr>\n",
       "</tbody>\n",
       "</table>\n"
      ],
      "text/latex": [
       "A tibble: 5 × 4\n",
       "\\begin{tabular}{llll}\n",
       " Sale\\_Price & .pred & .pred\\_lower & .pred\\_upper\\\\\n",
       " <int> & <dbl> & <dbl> & <dbl>\\\\\n",
       "\\hline\n",
       "\t 213500 & 210691.6 & 68546.79 & 352836.4\\\\\n",
       "\t 149900 & 193732.3 & 51616.01 & 335848.7\\\\\n",
       "\t  96000 & 190665.7 & 48559.32 & 332772.0\\\\\n",
       "\t 105500 & 190678.5 & 48572.97 & 332784.1\\\\\n",
       "\t 205000 & 217014.7 & 74891.52 & 359138.0\\\\\n",
       "\\end{tabular}\n"
      ],
      "text/markdown": [
       "\n",
       "A tibble: 5 × 4\n",
       "\n",
       "| Sale_Price &lt;int&gt; | .pred &lt;dbl&gt; | .pred_lower &lt;dbl&gt; | .pred_upper &lt;dbl&gt; |\n",
       "|---|---|---|---|\n",
       "| 213500 | 210691.6 | 68546.79 | 352836.4 |\n",
       "| 149900 | 193732.3 | 51616.01 | 335848.7 |\n",
       "|  96000 | 190665.7 | 48559.32 | 332772.0 |\n",
       "| 105500 | 190678.5 | 48572.97 | 332784.1 |\n",
       "| 205000 | 217014.7 | 74891.52 | 359138.0 |\n",
       "\n"
      ],
      "text/plain": [
       "  Sale_Price .pred    .pred_lower .pred_upper\n",
       "1 213500     210691.6 68546.79    352836.4   \n",
       "2 149900     193732.3 51616.01    335848.7   \n",
       "3  96000     190665.7 48559.32    332772.0   \n",
       "4 105500     190678.5 48572.97    332784.1   \n",
       "5 205000     217014.7 74891.52    359138.0   "
      ]
     },
     "metadata": {},
     "output_type": "display_data"
    }
   ],
   "source": [
    "ames_test_small %>%\n",
    "    select(Sale_Price) %>%\n",
    "    bind_cols(predict(lm_form_fit, ames_test_small)) %>%\n",
    "    bind_cols(predict(lm_form_fit, ames_test_small, type = \"pred_int\"))"
   ]
  },
  {
   "cell_type": "markdown",
   "id": "e3b5b2eb",
   "metadata": {},
   "source": [
    "# \n",
    "# \n",
    "#### glmnet 예측 유형에 대한 다양한 반환 값\n",
    "| 예측 유형 | 반환 값 | \n",
    "| -- | -- |\n",
    "| numeric | numeric 행렬 |\n",
    "| class | character 행렬 |\n",
    "| probability (이진분류) |  numeric 행렬 | \n",
    "| probability (다지분류) | numeric 배열 |"
   ]
  },
  {
   "cell_type": "markdown",
   "id": "500db360",
   "metadata": {},
   "source": [
    "# \n",
    "# \n",
    "# \n",
    "## 모델 사양 작성\n",
    "- parsnip과 연동 가능하여 생성한 모든 모델 확인"
   ]
  },
  {
   "cell_type": "code",
   "execution_count": null,
   "id": "3ebf3c99",
   "metadata": {
    "scrolled": true
   },
   "outputs": [
    {
     "name": "stderr",
     "output_type": "stream",
     "text": [
      "\n",
      "Listening on http://127.0.0.1:6192\n",
      "\n"
     ]
    }
   ],
   "source": [
    "parsnip_addin()"
   ]
  },
  {
   "cell_type": "markdown",
   "id": "26af3b13",
   "metadata": {},
   "source": [
    "# \n",
    "# \n",
    "### tallmodels 패키지 \n",
    "- parsnip 모델 정의\n",
    "\n",
    "# \n",
    "### discrim 패키지\n",
    "- 판별 분석 방법에 대한 모델 정의\n",
    "\n",
    "# \n",
    "\n",
    "### parsnip과 함께 사용할 수 있는 모델 목록\n",
    "https://www.tidymodels.org/find/"
   ]
  }
 ],
 "metadata": {
  "kernelspec": {
   "display_name": "R 4.1.3",
   "language": "R",
   "name": "ir32"
  },
  "language_info": {
   "codemirror_mode": "r",
   "file_extension": ".r",
   "mimetype": "text/x-r-source",
   "name": "R",
   "pygments_lexer": "r",
   "version": "4.1.3"
  }
 },
 "nbformat": 4,
 "nbformat_minor": 5
}
