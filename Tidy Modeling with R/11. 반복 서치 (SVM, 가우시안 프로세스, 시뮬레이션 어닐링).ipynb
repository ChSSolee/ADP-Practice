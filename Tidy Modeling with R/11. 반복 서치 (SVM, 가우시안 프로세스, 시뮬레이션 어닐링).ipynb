{
 "cells": [
  {
   "cell_type": "markdown",
   "id": "68cb2980",
   "metadata": {},
   "source": [
    "# 11. 반복 서치\n",
    "- 그리드 서치가 미리 정의된 후보 값 세트를 가져와 평가한 다음, 최상의 파라미터를 선택한다면, \n",
    "    **반복 서치는 서치 절차 중에 다음에 테스트할 값을 예측**\n",
    "\n",
    "- 베이즈 최적화는 기존 리샘플링 결과에 대해 훈련된 예측 모델을 사용하여, 튜닝 파라미터 값을 제안하는 반면, \n",
    "    \n",
    "    시뮬레이션 어닐링은 파라미터 공간을 탐색하여 좋은 값을 탐색. \n",
    "- 둘 다 좋은 파라미터 값을 찾는 데 단독으로 사용하거나,\n",
    "    \n",
    "    성능을 더욱 미세 조정하기 위해 초기 그리드 검색 후에 사용되는 후속 방법으로 효과적"
   ]
  },
  {
   "cell_type": "code",
   "execution_count": 3,
   "id": "4a2949dd",
   "metadata": {
    "vscode": {
     "languageId": "r"
    }
   },
   "outputs": [],
   "source": [
    "library(tidyverse)\n",
    "library(tidymodels)\n",
    "ggplot2::theme_set(theme_bw())\n",
    "tidymodels_prefer()\n",
    "library(ggforce)"
   ]
  },
  {
   "cell_type": "code",
   "execution_count": 4,
   "id": "bc862eac",
   "metadata": {
    "vscode": {
     "languageId": "r"
    }
   },
   "outputs": [],
   "source": [
    "data(cells)\n",
    "cells <- cells %>% select(-case)\n",
    "\n",
    "set.seed(1304)\n",
    "cell_folds <- vfold_cv(cells)\n",
    "\n",
    "roc_res <- metric_set(roc_auc)"
   ]
  },
  {
   "cell_type": "markdown",
   "id": "c18fe990",
   "metadata": {},
   "source": [
    "<br>\n",
    "\n",
    "## 11.01. SVM\n",
    "- 최적화할 두 가지 파라미터는 SVM Cost 값과, $\\sigma$ (radial basis function kernel parameter)\n",
    "- 두 파라미터 모두 모델의 복잡성과 성능에 큰 영향을 미침\n",
    "\n"
   ]
  },
  {
   "cell_type": "markdown",
   "id": "57d84777",
   "metadata": {},
   "source": [
    "<br>\n",
    "\n",
    "- 전처리 정의"
   ]
  },
  {
   "cell_type": "code",
   "execution_count": 5,
   "id": "0e232463",
   "metadata": {
    "vscode": {
     "languageId": "r"
    }
   },
   "outputs": [],
   "source": [
    "svm_rec <- recipe(class ~ ., data = cells) %>%\n",
    "    step_YeoJohnson(all_numeric_predictors()) %>%\n",
    "    step_normalize(all_numeric_predictors())"
   ]
  },
  {
   "cell_type": "markdown",
   "id": "73a2f288",
   "metadata": {},
   "source": [
    "- 모델 정의"
   ]
  },
  {
   "cell_type": "code",
   "execution_count": 6,
   "id": "f8f2ad03",
   "metadata": {
    "vscode": {
     "languageId": "r"
    }
   },
   "outputs": [],
   "source": [
    "svm_spec <- svm_rbf(cost = tune(), rbf_sigma = tune()) %>% \n",
    "    set_engine(\"kernlab\") %>% \n",
    "    set_mode(\"classification\")"
   ]
  },
  {
   "cell_type": "markdown",
   "id": "c360885f",
   "metadata": {},
   "source": [
    "- 워크플로 정의"
   ]
  },
  {
   "cell_type": "code",
   "execution_count": 7,
   "id": "0bbb47f6",
   "metadata": {
    "vscode": {
     "languageId": "r"
    }
   },
   "outputs": [],
   "source": [
    "svm_wflow <- workflow() %>% \n",
    "    add_model(svm_spec) %>% \n",
    "    add_recipe(svm_rec)"
   ]
  },
  {
   "cell_type": "markdown",
   "id": "20fbfa0e",
   "metadata": {},
   "source": [
    "- 두 튜닝 파라미터 ```cost``` 및 ```rbf_sigma```에 대한 기본 매개 변수 범위"
   ]
  },
  {
   "cell_type": "code",
   "execution_count": 8,
   "id": "59022afa",
   "metadata": {
    "vscode": {
     "languageId": "r"
    }
   },
   "outputs": [
    {
     "data": {
      "text/plain": [
       "Cost (quantitative)\n",
       "Transformer: log-2 [1e-100, Inf]\n",
       "Range (transformed scale): [-10, 5]"
      ]
     },
     "metadata": {},
     "output_type": "display_data"
    }
   ],
   "source": [
    "cost()"
   ]
  },
  {
   "cell_type": "code",
   "execution_count": 9,
   "id": "2a668749",
   "metadata": {
    "vscode": {
     "languageId": "r"
    }
   },
   "outputs": [
    {
     "data": {
      "text/plain": [
       "Radial Basis Function sigma (quantitative)\n",
       "Transformer: log-10 [1e-100, Inf]\n",
       "Range (transformed scale): [-10, 0]"
      ]
     },
     "metadata": {},
     "output_type": "display_data"
    }
   ],
   "source": [
    "rbf_sigma()"
   ]
  },
  {
   "cell_type": "markdown",
   "id": "d6af6527",
   "metadata": {},
   "source": [
    "- 커널 파라미터 범위를 약간 변경"
   ]
  },
  {
   "cell_type": "code",
   "execution_count": 10,
   "id": "57a8f290",
   "metadata": {
    "vscode": {
     "languageId": "r"
    }
   },
   "outputs": [],
   "source": [
    "svm_param <- svm_wflow %>% \n",
    "    extract_parameter_set_dials() %>% \n",
    "    update(rbf_sigma = rbf_sigma(c(-7, -1)))"
   ]
  },
  {
   "cell_type": "code",
   "execution_count": 13,
   "id": "cb24fc97",
   "metadata": {},
   "outputs": [
    {
     "data": {
      "text/plain": [
       "Cost (quantitative)\n",
       "Transformer: log-2 [1e-100, Inf]\n",
       "Range (transformed scale): [-10, 5]"
      ]
     },
     "metadata": {},
     "output_type": "display_data"
    },
    {
     "data": {
      "text/plain": [
       "Radial Basis Function sigma (quantitative)\n",
       "Transformer: log-10 [1e-100, Inf]\n",
       "Range (transformed scale): [-7, -1]"
      ]
     },
     "metadata": {},
     "output_type": "display_data"
    }
   ],
   "source": [
    "svm_param %>% extract_parameter_dials(\"cost\")\n",
    "svm_param %>% extract_parameter_dials(\"rbf_sigma\")"
   ]
  },
  {
   "cell_type": "markdown",
   "id": "a0bfec30",
   "metadata": {},
   "source": [
    "<br>\n",
    "\n",
    "#### SVM의 튜닝 파라미터와 AUC\n",
    "- 2,500 개의 후보 값으로 구성된 매우 큰 정규 그리드를 구성하고, 리샘플링을 사용하여 그리드를 평가했다고 할 때 \n",
    "- 밝은 색상일수록 높은 모델 성능을 의미하는 아래의 그림에서, 파라미터 공간의 아래쪽 대각선에는 성증이 좋지 않아 상대적으로 평탄한 넓은 범위가 존재\n",
    "- 최고의 성능을 보이는 능선은 공간의 오른쪽 상단에 위치하며, 검은색 점은 최적의 파라미터 조합을 의미\n",
    "\n",
    "- **성능이 낮은 영역에서, 최고의 성능을 보이는 능선으로의 전환은 매우 급격함을 알 수 있으며**\n",
    "    \n",
    "    **능선 오른쪽에도 급격한 성능 하락구간이 존재**"
   ]
  },
  {
   "cell_type": "markdown",
   "id": "8b7774c8",
   "metadata": {},
   "source": [
    "<img src = 'https://www.tmwr.org/premade/roc_surface.png'>"
   ]
  },
  {
   "cell_type": "markdown",
   "id": "dc6cdc9f",
   "metadata": {},
   "source": [
    "<br>\n",
    "\n",
    "- **반복 서치 절차를 진행하려면, 초기 성능 통계량이 필요**\n",
    "    \n",
    "    $\\rightarrow$ 파라미터 공간의 평평한 부분에 있는 작은, 초기 정규 그리드를 생성"
   ]
  },
  {
   "cell_type": "code",
   "execution_count": 14,
   "id": "d2fe5eb6",
   "metadata": {},
   "outputs": [],
   "source": [
    "set.seed(1401)\n",
    "start_grid <- svm_param %>% \n",
    "    update(\n",
    "        cost = cost(c(-6, 1)),\n",
    "        rbf_sigma = rbf_sigma(c(-6, -4))\n",
    "    ) %>% \n",
    "    grid_regular(levels = 2)"
   ]
  },
  {
   "cell_type": "code",
   "execution_count": 15,
   "id": "82a66e74",
   "metadata": {},
   "outputs": [],
   "source": [
    "set.seed(1402)\n",
    "svm_initial <- svm_wflow %>% \n",
    "    tune_grid(resamples = cell_folds, grid = start_grid, metrics = roc_res)"
   ]
  },
  {
   "cell_type": "markdown",
   "id": "77e93b90",
   "metadata": {},
   "source": [
    "- 초기 그리드에서의 성능은 그다지 높지 않음을 확인\n",
    "    \n",
    "- 이러한 결과는 반복 튜닝 기능을 통해 수집되어 초기 값으로 사용될 수 있음"
   ]
  },
  {
   "cell_type": "code",
   "execution_count": 16,
   "id": "e029e0fa",
   "metadata": {},
   "outputs": [
    {
     "data": {
      "text/html": [
       "<table class=\"dataframe\">\n",
       "<caption>A tibble: 4 × 8</caption>\n",
       "<thead>\n",
       "\t<tr><th scope=col>cost</th><th scope=col>rbf_sigma</th><th scope=col>.metric</th><th scope=col>.estimator</th><th scope=col>mean</th><th scope=col>n</th><th scope=col>std_err</th><th scope=col>.config</th></tr>\n",
       "\t<tr><th scope=col>&lt;dbl&gt;</th><th scope=col>&lt;dbl&gt;</th><th scope=col>&lt;chr&gt;</th><th scope=col>&lt;chr&gt;</th><th scope=col>&lt;dbl&gt;</th><th scope=col>&lt;int&gt;</th><th scope=col>&lt;dbl&gt;</th><th scope=col>&lt;chr&gt;</th></tr>\n",
       "</thead>\n",
       "<tbody>\n",
       "\t<tr><td>0.015625</td><td>1e-06</td><td>roc_auc</td><td>binary</td><td>0.8638724</td><td>10</td><td>0.008637894</td><td>Preprocessor1_Model1</td></tr>\n",
       "\t<tr><td>2.000000</td><td>1e-06</td><td>roc_auc</td><td>binary</td><td>0.8625326</td><td>10</td><td>0.008672545</td><td>Preprocessor1_Model2</td></tr>\n",
       "\t<tr><td>0.015625</td><td>1e-04</td><td>roc_auc</td><td>binary</td><td>0.8627495</td><td>10</td><td>0.008624554</td><td>Preprocessor1_Model3</td></tr>\n",
       "\t<tr><td>2.000000</td><td>1e-04</td><td>roc_auc</td><td>binary</td><td>0.8659439</td><td>10</td><td>0.008545691</td><td>Preprocessor1_Model4</td></tr>\n",
       "</tbody>\n",
       "</table>\n"
      ],
      "text/latex": [
       "A tibble: 4 × 8\n",
       "\\begin{tabular}{llllllll}\n",
       " cost & rbf\\_sigma & .metric & .estimator & mean & n & std\\_err & .config\\\\\n",
       " <dbl> & <dbl> & <chr> & <chr> & <dbl> & <int> & <dbl> & <chr>\\\\\n",
       "\\hline\n",
       "\t 0.015625 & 1e-06 & roc\\_auc & binary & 0.8638724 & 10 & 0.008637894 & Preprocessor1\\_Model1\\\\\n",
       "\t 2.000000 & 1e-06 & roc\\_auc & binary & 0.8625326 & 10 & 0.008672545 & Preprocessor1\\_Model2\\\\\n",
       "\t 0.015625 & 1e-04 & roc\\_auc & binary & 0.8627495 & 10 & 0.008624554 & Preprocessor1\\_Model3\\\\\n",
       "\t 2.000000 & 1e-04 & roc\\_auc & binary & 0.8659439 & 10 & 0.008545691 & Preprocessor1\\_Model4\\\\\n",
       "\\end{tabular}\n"
      ],
      "text/markdown": [
       "\n",
       "A tibble: 4 × 8\n",
       "\n",
       "| cost &lt;dbl&gt; | rbf_sigma &lt;dbl&gt; | .metric &lt;chr&gt; | .estimator &lt;chr&gt; | mean &lt;dbl&gt; | n &lt;int&gt; | std_err &lt;dbl&gt; | .config &lt;chr&gt; |\n",
       "|---|---|---|---|---|---|---|---|\n",
       "| 0.015625 | 1e-06 | roc_auc | binary | 0.8638724 | 10 | 0.008637894 | Preprocessor1_Model1 |\n",
       "| 2.000000 | 1e-06 | roc_auc | binary | 0.8625326 | 10 | 0.008672545 | Preprocessor1_Model2 |\n",
       "| 0.015625 | 1e-04 | roc_auc | binary | 0.8627495 | 10 | 0.008624554 | Preprocessor1_Model3 |\n",
       "| 2.000000 | 1e-04 | roc_auc | binary | 0.8659439 | 10 | 0.008545691 | Preprocessor1_Model4 |\n",
       "\n"
      ],
      "text/plain": [
       "  cost     rbf_sigma .metric .estimator mean      n  std_err    \n",
       "1 0.015625 1e-06     roc_auc binary     0.8638724 10 0.008637894\n",
       "2 2.000000 1e-06     roc_auc binary     0.8625326 10 0.008672545\n",
       "3 0.015625 1e-04     roc_auc binary     0.8627495 10 0.008624554\n",
       "4 2.000000 1e-04     roc_auc binary     0.8659439 10 0.008545691\n",
       "  .config             \n",
       "1 Preprocessor1_Model1\n",
       "2 Preprocessor1_Model2\n",
       "3 Preprocessor1_Model3\n",
       "4 Preprocessor1_Model4"
      ]
     },
     "metadata": {},
     "output_type": "display_data"
    }
   ],
   "source": [
    "collect_metrics(svm_initial)"
   ]
  },
  {
   "cell_type": "markdown",
   "id": "7d4e5e22",
   "metadata": {},
   "source": [
    "<br>\n",
    "\n",
    "## 11.02. 베이지안 최적화\n",
    "- 베이지안 최적화는 현재 리샘플링 결과를 분석하고, 예측 모델을 생성하여 아직 평가되지 않은 튜닝 파라미터 값을 제안\n",
    "    \n",
    "    $\\rightarrow$ 제안된 파라미터 조합이 다시 샘플링\n",
    "    \n",
    "    $\\rightarrow$ 이러한 결과는 테스트를 위해 더 많은 후보 값을 추천하는 또 다른 예측 모델에 사용\n",
    "    \n",
    "- 이 절차는 설정된 반복 횟수 동안 또는 더 이상 개선이 이루어지지 않을 때까지 진행 (Shahriariet al. ( 2016 ) 및 Frazier ( 2018 ))\n",
    "- 베이지안 최적화를 사용할 때 주요 관심사는 모델을 생성하는 방법과, 해당 모델에서 권장하는 파라미터를 선택하는 방법\n",
    "    \n",
    "\n",
    "<br>\n",
    "\n",
    "### 가우시안 프로세스 모델 (Gaussian Process)\n",
    "- **가우시안 프로세스(GP) 모델은 공간 통계(크리깅)에 역사가 있는 잘 알려진 통계 기법**\n",
    "- 베이지안 모델을 포함하여 여러 가지 방법으로 도출 가능\n",
    "\n",
    "<br>\n",
    "\n",
    "- **수학적으로 GP는, 결합 확률 분포가 다변량 정규분포인 확률 변수의 집합**\n",
    "    \n",
    "    파라미터 튜닝의 맥락에서 이는, 후보 값에 대한 성능 지표의 모음\n",
    "- **이전 4개 표본의 초기 그리드의 경우, 이들 4개 확률 변수의 성능은 각각 0.8639, 0.8625, 0.8627, 0.8659였고. 이것들이 다변량 정규분포를 따른다고 가정**\n",
    "\n",
    "\n"
   ]
  },
  {
   "cell_type": "markdown",
   "id": "651f0ea9",
   "metadata": {},
   "source": [
    "\n",
    "<br>\n",
    "\n",
    "- GP 모델의 초기 값으로 사용되는 리샘플링 통계량\n",
    "    - GP모델에서 설명변수는 파라미터의 조합, 반응변수는 성능 지표\n"
   ]
  },
  {
   "cell_type": "code",
   "execution_count": 17,
   "id": "2a6ee834",
   "metadata": {
    "vscode": {
     "languageId": "r"
    }
   },
   "outputs": [
    {
     "data": {
      "text/html": [
       "<table class=\"dataframe\">\n",
       "<caption>A data.frame: 4 × 3</caption>\n",
       "<thead>\n",
       "\t<tr><th scope=col>ROC</th><th scope=col>cost</th><th scope=col>rbf_sigma</th></tr>\n",
       "\t<tr><th scope=col>&lt;dbl&gt;</th><th scope=col>&lt;dbl&gt;</th><th scope=col>&lt;dbl&gt;</th></tr>\n",
       "</thead>\n",
       "<tbody>\n",
       "\t<tr><td>0.8638724</td><td>0.015625</td><td>1e-06</td></tr>\n",
       "\t<tr><td>0.8625326</td><td>2.000000</td><td>1e-06</td></tr>\n",
       "\t<tr><td>0.8627495</td><td>0.015625</td><td>1e-04</td></tr>\n",
       "\t<tr><td>0.8659439</td><td>2.000000</td><td>1e-04</td></tr>\n",
       "</tbody>\n",
       "</table>\n"
      ],
      "text/latex": [
       "A data.frame: 4 × 3\n",
       "\\begin{tabular}{lll}\n",
       " ROC & cost & rbf\\_sigma\\\\\n",
       " <dbl> & <dbl> & <dbl>\\\\\n",
       "\\hline\n",
       "\t 0.8638724 & 0.015625 & 1e-06\\\\\n",
       "\t 0.8625326 & 2.000000 & 1e-06\\\\\n",
       "\t 0.8627495 & 0.015625 & 1e-04\\\\\n",
       "\t 0.8659439 & 2.000000 & 1e-04\\\\\n",
       "\\end{tabular}\n"
      ],
      "text/markdown": [
       "\n",
       "A data.frame: 4 × 3\n",
       "\n",
       "| ROC &lt;dbl&gt; | cost &lt;dbl&gt; | rbf_sigma &lt;dbl&gt; |\n",
       "|---|---|---|\n",
       "| 0.8638724 | 0.015625 | 1e-06 |\n",
       "| 0.8625326 | 2.000000 | 1e-06 |\n",
       "| 0.8627495 | 0.015625 | 1e-04 |\n",
       "| 0.8659439 | 2.000000 | 1e-04 |\n",
       "\n"
      ],
      "text/plain": [
       "  ROC       cost     rbf_sigma\n",
       "1 0.8638724 0.015625 1e-06    \n",
       "2 0.8625326 2.000000 1e-06    \n",
       "3 0.8627495 0.015625 1e-04    \n",
       "4 0.8659439 2.000000 1e-04    "
      ]
     },
     "metadata": {},
     "output_type": "display_data"
    }
   ],
   "source": [
    "collect_metrics(svm_initial) %>% \n",
    "    select(ROC = mean, cost, rbf_sigma) %>% \n",
    "    as.data.frame()"
   ]
  },
  {
   "cell_type": "markdown",
   "id": "0d1813db",
   "metadata": {},
   "source": [
    "<br>\n",
    "\n",
    "- **가우시안 프로세스 모델은 평균 및 공분산 함수에 의해 구성되지만, 공분산 함수가 GP 모델의 특성에 가장 큰 영향을 미침**\n",
    "    - **공분산 함수는 종종 입력 값($x$)의 측면에서 파라미터가 될 수 있음**\n",
    "    - 예) 일반적으로 사용되는 공분산 제곱-지수 형태\n",
    "\n",
    "$$\\operatorname{cov}(\\boldsymbol{x}_i, \\boldsymbol{x}_j) = \\exp\\left(-\\frac{1}{2}|\\boldsymbol{x}_i - \\boldsymbol{x}_j|^2\\right) + \\sigma^2_{ij}$$\n",
    "\n",
    "- $\\sigma_{ij}^2$는 $i = j$일 때 0인, 오차 분산 항. \n",
    "    - 이 방정식은 다음과 같이 해석 :\n",
    "> 두 튜닝 파라미터 조합 간의 거리가 증가함에 따라, 성능 지표간의 공분산은 기하급수적으로 증가\n",
    ">\n",
    "> 또는 $|x_i - x_j|^2$가 0일 때 공분산은 최소화\n",
    "\n",
    "<br>\n",
    "\n",
    "- **이러한 공분산 함수의 특성으로 인해 가우시안 프로세스는 적은 양의 데이터만 존재하는 경우에도, 모델 성능과 튜닝 파라미터 사이의 매우 비선형적인 관계를 나타낼 수 있음**\n",
    "    - 그러나 이러한 모델을 적합하는 것은 경우에 따라 어려울 수 있으며, 모델은 튜닝 파라미터 조합의 수가 증가함에 따라 계산 비용이 더 많이 듬\n",
    "\n",
    "<br>\n",
    "\n",
    "- 이 모델의 장점은 새로운 입력값에 대한 예측이, 결과의 전체 분포를 반영할 수 있다는 것. \n",
    "    \n",
    "    다시 말해, **새로운 성능 통계량은 평균과 분산의 관점에서 모두 예측될 수 있음**\n",
    "\n",
    "\n",
    "\n",
    "\n",
    "\n",
    "\n",
    "\n",
    "\n",
    "\n"
   ]
  },
  {
   "cell_type": "markdown",
   "id": "528c9038",
   "metadata": {},
   "source": [
    "<br>\n",
    "\n",
    "#### 두 개의 튜닝 파라미터가 존재하는 예시\n",
    "- A는 B보다 약간 더 나은 평균 성능 (ROC)값을 가지지만, 분산은 B보다 4배 더 큼\n",
    "- A를 선택하는 것은 더 위험하지만, 잠재적으로 더 높은 이익을 얻을 수 있음\n",
    "    \n",
    "    또한, 분산의 증가는 새로운 입력값이 B보다 기존 데이터에서 더 멀다는 것을 반영"
   ]
  },
  {
   "cell_type": "markdown",
   "id": "1649e747",
   "metadata": {},
   "source": [
    "- 초기 그리드를 바탕으로 GP 모델이 적합되고, 후보가 선정됨\n",
    "    \n",
    "    $\\rightarrow$ 다음 튜닝 파라미터 조합이 선택\n",
    "    \n",
    "    $\\rightarrow$ 새로운 조합에 대한 성능 추정치를 계산하고, GP 모델은 5개의 결과로 다시 조정"
   ]
  },
  {
   "cell_type": "markdown",
   "id": "c0ceb374",
   "metadata": {},
   "source": [
    "<br>\n",
    "\n",
    "### 획득 기능\n",
    "- **본질적인 목표는, 현재의 최고값보다 더 나은 결과를 얻을 가능성이 높은 다음 튜닝 파라미터 조합을 선택하는 것**\n",
    "- **이를 위한 방식은, 대규모 후보 조합을 생성한 다음, 각각에 대해 평균 및 분산 예측을 수행**\n",
    "    \n",
    "    $\\rightarrow$ **이 정보를 이용하여, 가장 유리한 튜닝 파라미터값을 선택**\n",
    "    \n",
    "<br>\n",
    "\n",
    "- 획득 함수라고 불리는 목적 함수 객체는, 평균과 분산 간의 균형을 용이하게 하며,\n",
    "    \n",
    "    **GP모델의 예측값의 분산은 대부분 기존 데이터에서 얼마나 멀리 떨어져 있는지에 따라 결정**\n",
    "- **새로운 후보값에 대한 예측값의 평균과 분산 사이의 균형은 'Exploration'와 'Exploitation'을 통해 진행**\n",
    "    - **Exploration** : 후보지가 더 적은 영역으로 선택을 편향. 이는 분산이 더 높은 후보지에게 더 많은 가중을 두고, 새로운 결과를 찾는 데 초점을 맞추는 경향\n",
    "    - **Exploitation** : 주로 평균 예측에 의존하여, 최상의 평균 값을 탐색. 기존의 결과에 가중을 둠\n",
    "\n",
    "<br>\n",
    "\n",
    "#### [0, 1] 사이의 값을 단일 파라미터가 있는 예재\n",
    "- $R^2$가 성능 지표일 때, 임의의 튜닝 파라미터에 따른 $R^2$의 변동이 아래와 같을 때, \n",
    "    - 점은 관측값 (실제 $R^2$가 평가된 파라미터 지점)\n",
    "\n",
    "<img src='https://www.tmwr.org/figures/performance-profile-1.png'>"
   ]
  },
  {
   "cell_type": "markdown",
   "id": "617e30f1",
   "metadata": {},
   "source": [
    "- GP모델 적합에 따른 $R^2$의 예측값\n",
    "    - 음영부분의 신뢰구간은 제곱-지수 분산 함수이며, 각 관측값 사이에서 매우 커지며, 각 관측값에서 0으로 수렴\n",
    "        \n",
    "    - 두 개의 수직 점선은 다음에 더 자세히 조사할 두 개의 후보 지점\n",
    "- **이러한 GP모델 예측값의 비선형 추세는, 실제 $R^2$의 변동과 일치하지 않지만,**\n",
    "    \n",
    "    **최적의 파라미터 지점에 대해서 올바른 방향을 제시해줄 수 있음**\n",
    "    \n",
    "    - **GP모델의 예측값에서, 가장 높은 $R^2$값을 가지는 지점은 0.106**\n",
    "\n",
    "        **$\\rightarrow$ 실제 관측값 중 가장 높은 $R^2$값을 가지는 0.09의 근처**\n",
    "\n",
    "<img src ='https://www.tmwr.org/figures/estimated-profile-1.png'>"
   ]
  },
  {
   "cell_type": "markdown",
   "id": "0cbac662",
   "metadata": {},
   "source": [
    "<br>\n",
    "\n",
    "- 추가적인 접근방식은 가장 큰 신뢰 구간과 관련된 조정 매개변수를 탐색\n",
    "- $R^2$의 신뢰구간을 위한 표준 편차를 1개로 정의하는 것 (=$\\mu \\pm 1\\sigma_{R^2}$)보다, \n",
    "    \n",
    "    **2개로 정의하는 것(=$\\mu \\pm \\sigma_{R^2}$)이 다음 후보지 선택이 후보지가 적은 영역 (관측값들과의 거리가 먼 지점)에서 진행될 가능성이 높아짐**\n",
    "\n",
    "<br>\n",
    "\n",
    "#### 기대 개선 (Expected Improvement)\n",
    "- **신용구간 접근방식과는 달리, 현재 최상의 결과값이 필요**\n",
    "- **GP는 분포를 사용하여 새로운 후보 지점을 특정할 수 있으므로, 성능 개선이 발생할 확률을 사용하여, 개선을 나타내는 분포 부분에 가중치를 부여**\n",
    "- 위의 그래프에서 수직 점선이 지나는 후보 지점인 0.1과 0.25에서의 $R^2$값의 분포\n",
    "    - 분포의 평균만 고려한다면 0.1이 더 좋은 선택,\n",
    "        \n",
    "        **하지만 0.25에 따른 $R^2$분포의 분산이 더 넓음**\n",
    "            \n",
    "        $\\rightarrow$ **기대할 수 있는 성능의 개선 범위가 더 넓음**\n",
    "    \n",
    "<img src = 'https://www.tmwr.org/figures/two-candidates-1.png'>"
   ]
  },
  {
   "cell_type": "markdown",
   "id": "0abcea23",
   "metadata": {},
   "source": [
    "<thead>\n",
    "<tr>\n",
    "<th style=\"empty-cells: hide;border-bottom:hidden;\" colspan=\"1\">\n",
    "</th>\n",
    "<th style=\"border-bottom:hidden;padding-bottom:0; padding-left:3px;padding-right:3px;text-align: center; \" colspan=\"3\">\n",
    "<div style=\"border-bottom: 1px solid #ddd; padding-bottom: 5px; \">\n",
    "Predictions\n",
    "</div>\n",
    "</th>\n",
    "</tr>\n",
    "<tr>\n",
    "<th style=\"text-align:left;\">\n",
    "Parameter Value\n",
    "</th>\n",
    "<th style=\"text-align:left;\">\n",
    "평균\n",
    "</th>\n",
    "<th style=\"text-align:left;\">\n",
    "표준편차\n",
    "</th>\n",
    "<th style=\"text-align:left;\">\n",
    "기대 개선\n",
    "</th>\n",
    "</tr>\n",
    "</thead>\n",
    "<tbody>\n",
    "<tr>\n",
    "<td style=\"text-align:left;\">\n",
    "0.10\n",
    "</td>\n",
    "<td style=\"text-align:left;\">\n",
    "0.8679\n",
    "</td>\n",
    "<td style=\"text-align:left;\">\n",
    "0.0004317\n",
    "</td>\n",
    "<td style=\"text-align:left;\">\n",
    "0.000190\n",
    "</td>\n",
    "</tr>\n",
    "<tr>\n",
    "<td style=\"text-align:left;\">\n",
    "0.25\n",
    "</td>\n",
    "<td style=\"text-align:left;\">\n",
    "0.8671\n",
    "</td>\n",
    "<td style=\"text-align:left;\">\n",
    "0.0039301\n",
    "</td>\n",
    "<td style=\"text-align:left;\">\n",
    "0.001216\n",
    "</td>\n",
    "</tr>\n",
    "</tbody>\n",
    "</table>"
   ]
  },
  {
   "cell_type": "markdown",
   "id": "dc09718f",
   "metadata": {},
   "source": [
    "- 기대개선이 튜닝 파라미터 범위 전체에 걸쳐 계산될 때, 가장 높은 성능을 기대할 수 있는 파라미터 지점은 0.25\n",
    "\n",
    "<img src = 'https://www.tmwr.org/figures/expected-improvement-1.png'>"
   ]
  },
  {
   "cell_type": "markdown",
   "id": "7cde77fb",
   "metadata": {},
   "source": [
    "<br>\n",
    "\n",
    "#### `tune_bayes()` : 베이지안 최적화를 통해 반복 서치를 구현\n",
    "- **`iter`** : 최대 반복 횟수\n",
    "- **`initial`** : \n",
    "    - 정수입력시 '공간 채우기 설계'의 크기\n",
    "    - `tune_grid()`, racing method 와 같은 튜닝 설정 객체 입력 가능\n",
    "-  **`objective`** : 획득함수 (`exp_improve()`, `conf_bound()` 등)\n",
    "- **`param_info`** : 파라미터의 범위 지정\n",
    "- **`control`** : 튜닝 설정\n",
    "    - **`control_bayes()`객체 입력**\n",
    "        - `no_improve`: 특정 횟수의 반복 내에서 개선된 파라미터가 발견되지 않으면 검색을 중지\n",
    "        - `uncertain` : 특정 횟수의 반복 내에서 개선이 없으면 불확실성 샘플을 추출하며, 다음 파라미터 선택을 순수하게 분산의 크기가 큰 것으로 결정 (순수한 파라미터 공간 탐색의 효과)\n",
    "    \n",
    "<br>\n",
    "\n",
    "#### SVM에 대한 베이지안 최적화"
   ]
  },
  {
   "cell_type": "code",
   "execution_count": 20,
   "id": "145667f9",
   "metadata": {},
   "outputs": [],
   "source": [
    "ctrl <- control_bayes(verbose = F)"
   ]
  },
  {
   "cell_type": "code",
   "execution_count": 21,
   "id": "56d2bc75",
   "metadata": {
    "scrolled": true
   },
   "outputs": [],
   "source": [
    "set.seed(1403)\n",
    "svm_bo <- svm_wflow %>%\n",
    "    tune_bayes(\n",
    "        resamples = cell_folds,\n",
    "        metrics = roc_res,\n",
    "        initial = svm_initial,\n",
    "        param_info = svm_param,\n",
    "        iter = 25, \n",
    "        control = ctrl\n",
    "    )"
   ]
  },
  {
   "cell_type": "code",
   "execution_count": 25,
   "id": "ee44d015",
   "metadata": {
    "scrolled": true
   },
   "outputs": [
    {
     "data": {
      "text/html": [
       "<table class=\"dataframe\">\n",
       "<caption>A tibble: 5 × 9</caption>\n",
       "<thead>\n",
       "\t<tr><th scope=col>cost</th><th scope=col>rbf_sigma</th><th scope=col>.metric</th><th scope=col>.estimator</th><th scope=col>mean</th><th scope=col>n</th><th scope=col>std_err</th><th scope=col>.config</th><th scope=col>.iter</th></tr>\n",
       "\t<tr><th scope=col>&lt;dbl&gt;</th><th scope=col>&lt;dbl&gt;</th><th scope=col>&lt;chr&gt;</th><th scope=col>&lt;chr&gt;</th><th scope=col>&lt;dbl&gt;</th><th scope=col>&lt;int&gt;</th><th scope=col>&lt;dbl&gt;</th><th scope=col>&lt;chr&gt;</th><th scope=col>&lt;int&gt;</th></tr>\n",
       "</thead>\n",
       "<tbody>\n",
       "\t<tr><td>24.69257</td><td>0.001862566</td><td>roc_auc</td><td>binary</td><td>0.8986889</td><td>10</td><td>0.007831216</td><td>Iter24</td><td>24</td></tr>\n",
       "\t<tr><td>31.68604</td><td>0.001840954</td><td>roc_auc</td><td>binary</td><td>0.8985910</td><td>10</td><td>0.007877104</td><td>Iter19</td><td>19</td></tr>\n",
       "\t<tr><td>24.20870</td><td>0.001953214</td><td>roc_auc</td><td>binary</td><td>0.8985701</td><td>10</td><td>0.007849007</td><td>Iter20</td><td>20</td></tr>\n",
       "\t<tr><td>31.76870</td><td>0.001539922</td><td>roc_auc</td><td>binary</td><td>0.8985230</td><td>10</td><td>0.007847247</td><td>Iter18</td><td>18</td></tr>\n",
       "\t<tr><td>13.29537</td><td>0.002882753</td><td>roc_auc</td><td>binary</td><td>0.8984508</td><td>10</td><td>0.008110663</td><td>Iter17</td><td>17</td></tr>\n",
       "</tbody>\n",
       "</table>\n"
      ],
      "text/latex": [
       "A tibble: 5 × 9\n",
       "\\begin{tabular}{lllllllll}\n",
       " cost & rbf\\_sigma & .metric & .estimator & mean & n & std\\_err & .config & .iter\\\\\n",
       " <dbl> & <dbl> & <chr> & <chr> & <dbl> & <int> & <dbl> & <chr> & <int>\\\\\n",
       "\\hline\n",
       "\t 24.69257 & 0.001862566 & roc\\_auc & binary & 0.8986889 & 10 & 0.007831216 & Iter24 & 24\\\\\n",
       "\t 31.68604 & 0.001840954 & roc\\_auc & binary & 0.8985910 & 10 & 0.007877104 & Iter19 & 19\\\\\n",
       "\t 24.20870 & 0.001953214 & roc\\_auc & binary & 0.8985701 & 10 & 0.007849007 & Iter20 & 20\\\\\n",
       "\t 31.76870 & 0.001539922 & roc\\_auc & binary & 0.8985230 & 10 & 0.007847247 & Iter18 & 18\\\\\n",
       "\t 13.29537 & 0.002882753 & roc\\_auc & binary & 0.8984508 & 10 & 0.008110663 & Iter17 & 17\\\\\n",
       "\\end{tabular}\n"
      ],
      "text/markdown": [
       "\n",
       "A tibble: 5 × 9\n",
       "\n",
       "| cost &lt;dbl&gt; | rbf_sigma &lt;dbl&gt; | .metric &lt;chr&gt; | .estimator &lt;chr&gt; | mean &lt;dbl&gt; | n &lt;int&gt; | std_err &lt;dbl&gt; | .config &lt;chr&gt; | .iter &lt;int&gt; |\n",
       "|---|---|---|---|---|---|---|---|---|\n",
       "| 24.69257 | 0.001862566 | roc_auc | binary | 0.8986889 | 10 | 0.007831216 | Iter24 | 24 |\n",
       "| 31.68604 | 0.001840954 | roc_auc | binary | 0.8985910 | 10 | 0.007877104 | Iter19 | 19 |\n",
       "| 24.20870 | 0.001953214 | roc_auc | binary | 0.8985701 | 10 | 0.007849007 | Iter20 | 20 |\n",
       "| 31.76870 | 0.001539922 | roc_auc | binary | 0.8985230 | 10 | 0.007847247 | Iter18 | 18 |\n",
       "| 13.29537 | 0.002882753 | roc_auc | binary | 0.8984508 | 10 | 0.008110663 | Iter17 | 17 |\n",
       "\n"
      ],
      "text/plain": [
       "  cost     rbf_sigma   .metric .estimator mean      n  std_err     .config\n",
       "1 24.69257 0.001862566 roc_auc binary     0.8986889 10 0.007831216 Iter24 \n",
       "2 31.68604 0.001840954 roc_auc binary     0.8985910 10 0.007877104 Iter19 \n",
       "3 24.20870 0.001953214 roc_auc binary     0.8985701 10 0.007849007 Iter20 \n",
       "4 31.76870 0.001539922 roc_auc binary     0.8985230 10 0.007847247 Iter18 \n",
       "5 13.29537 0.002882753 roc_auc binary     0.8984508 10 0.008110663 Iter17 \n",
       "  .iter\n",
       "1 24   \n",
       "2 19   \n",
       "3 20   \n",
       "4 18   \n",
       "5 17   "
      ]
     },
     "metadata": {},
     "output_type": "display_data"
    }
   ],
   "source": [
    "show_best(svm_bo)"
   ]
  },
  {
   "cell_type": "markdown",
   "id": "f86d7f1a",
   "metadata": {},
   "source": [
    "<br>\n",
    "\n",
    "- **반복 서치 이전의 초기 성능 통계량에서 반복(iteration)을 반복할수록 성능 통계량이 증가함을 확인**"
   ]
  },
  {
   "cell_type": "code",
   "execution_count": 35,
   "id": "a9f76345",
   "metadata": {},
   "outputs": [
    {
     "data": {
      "text/html": [
       "<table class=\"dataframe\">\n",
       "<caption>A tibble: 4 × 8</caption>\n",
       "<thead>\n",
       "\t<tr><th scope=col>cost</th><th scope=col>rbf_sigma</th><th scope=col>.metric</th><th scope=col>.estimator</th><th scope=col>mean</th><th scope=col>n</th><th scope=col>std_err</th><th scope=col>.config</th></tr>\n",
       "\t<tr><th scope=col>&lt;dbl&gt;</th><th scope=col>&lt;dbl&gt;</th><th scope=col>&lt;chr&gt;</th><th scope=col>&lt;chr&gt;</th><th scope=col>&lt;dbl&gt;</th><th scope=col>&lt;int&gt;</th><th scope=col>&lt;dbl&gt;</th><th scope=col>&lt;chr&gt;</th></tr>\n",
       "</thead>\n",
       "<tbody>\n",
       "\t<tr><td>2.000000</td><td>1e-04</td><td>roc_auc</td><td>binary</td><td>0.8659439</td><td>10</td><td>0.008545691</td><td>Preprocessor1_Model4</td></tr>\n",
       "\t<tr><td>0.015625</td><td>1e-06</td><td>roc_auc</td><td>binary</td><td>0.8638724</td><td>10</td><td>0.008637894</td><td>Preprocessor1_Model1</td></tr>\n",
       "\t<tr><td>0.015625</td><td>1e-04</td><td>roc_auc</td><td>binary</td><td>0.8627495</td><td>10</td><td>0.008624554</td><td>Preprocessor1_Model3</td></tr>\n",
       "\t<tr><td>2.000000</td><td>1e-06</td><td>roc_auc</td><td>binary</td><td>0.8625326</td><td>10</td><td>0.008672545</td><td>Preprocessor1_Model2</td></tr>\n",
       "</tbody>\n",
       "</table>\n"
      ],
      "text/latex": [
       "A tibble: 4 × 8\n",
       "\\begin{tabular}{llllllll}\n",
       " cost & rbf\\_sigma & .metric & .estimator & mean & n & std\\_err & .config\\\\\n",
       " <dbl> & <dbl> & <chr> & <chr> & <dbl> & <int> & <dbl> & <chr>\\\\\n",
       "\\hline\n",
       "\t 2.000000 & 1e-04 & roc\\_auc & binary & 0.8659439 & 10 & 0.008545691 & Preprocessor1\\_Model4\\\\\n",
       "\t 0.015625 & 1e-06 & roc\\_auc & binary & 0.8638724 & 10 & 0.008637894 & Preprocessor1\\_Model1\\\\\n",
       "\t 0.015625 & 1e-04 & roc\\_auc & binary & 0.8627495 & 10 & 0.008624554 & Preprocessor1\\_Model3\\\\\n",
       "\t 2.000000 & 1e-06 & roc\\_auc & binary & 0.8625326 & 10 & 0.008672545 & Preprocessor1\\_Model2\\\\\n",
       "\\end{tabular}\n"
      ],
      "text/markdown": [
       "\n",
       "A tibble: 4 × 8\n",
       "\n",
       "| cost &lt;dbl&gt; | rbf_sigma &lt;dbl&gt; | .metric &lt;chr&gt; | .estimator &lt;chr&gt; | mean &lt;dbl&gt; | n &lt;int&gt; | std_err &lt;dbl&gt; | .config &lt;chr&gt; |\n",
       "|---|---|---|---|---|---|---|---|\n",
       "| 2.000000 | 1e-04 | roc_auc | binary | 0.8659439 | 10 | 0.008545691 | Preprocessor1_Model4 |\n",
       "| 0.015625 | 1e-06 | roc_auc | binary | 0.8638724 | 10 | 0.008637894 | Preprocessor1_Model1 |\n",
       "| 0.015625 | 1e-04 | roc_auc | binary | 0.8627495 | 10 | 0.008624554 | Preprocessor1_Model3 |\n",
       "| 2.000000 | 1e-06 | roc_auc | binary | 0.8625326 | 10 | 0.008672545 | Preprocessor1_Model2 |\n",
       "\n"
      ],
      "text/plain": [
       "  cost     rbf_sigma .metric .estimator mean      n  std_err    \n",
       "1 2.000000 1e-04     roc_auc binary     0.8659439 10 0.008545691\n",
       "2 0.015625 1e-06     roc_auc binary     0.8638724 10 0.008637894\n",
       "3 0.015625 1e-04     roc_auc binary     0.8627495 10 0.008624554\n",
       "4 2.000000 1e-06     roc_auc binary     0.8625326 10 0.008672545\n",
       "  .config             \n",
       "1 Preprocessor1_Model4\n",
       "2 Preprocessor1_Model1\n",
       "3 Preprocessor1_Model3\n",
       "4 Preprocessor1_Model2"
      ]
     },
     "metadata": {},
     "output_type": "display_data"
    }
   ],
   "source": [
    "show_best(svm_initial)"
   ]
  },
  {
   "cell_type": "markdown",
   "id": "48075bfe",
   "metadata": {},
   "source": [
    "- 6번째 반복에서 가장 높은 성능"
   ]
  },
  {
   "cell_type": "code",
   "execution_count": 36,
   "id": "ccfd3171",
   "metadata": {},
   "outputs": [
    {
     "data": {
      "image/png": "[encoded data removed]",
      "text/plain": [
       "plot without title"
      ]
     },
     "metadata": {
      "image/png": {
       "height": 420,
       "width": 420
      }
     },
     "output_type": "display_data"
    },
    {
     "data": {
      "image/png": "[encoded data removed]",
      "text/plain": [
       "plot without title"
      ]
     },
     "metadata": {
      "image/png": {
       "height": 420,
       "width": 420
      }
     },
     "output_type": "display_data"
    }
   ],
   "source": [
    "autoplot(svm_bo, type=\"performance\")\n",
    "autoplot(svm_bo, type=\"parameter\")"
   ]
  },
  {
   "cell_type": "markdown",
   "id": "5664b94c",
   "metadata": {},
   "source": [
    "- 베이지안 최적화 과정에 대한 시각화"
   ]
  },
  {
   "cell_type": "markdown",
   "id": "e050d3a7",
   "metadata": {},
   "source": [
    "https://www.tmwr.org/bo_search.mp4"
   ]
  },
  {
   "cell_type": "markdown",
   "id": "1faf1934",
   "metadata": {},
   "source": [
    "<br>\n",
    "\n",
    "## 11.03. 시뮬레이션 어닐링 (Simulation Annealing, SA)\n",
    "- 시뮬레이션된 어닐링 (SA) ( Kirkpatrick, Gelatt, and Vecchi 1983 ; Van Laarhoven and Aarts 1987 ) 은 금속이 냉각되는 과정에서 영감을 받은 일반적인 비선형 서친 루틴\n",
    "- 불연속적인 기능을 포함하여 다양한 유형의 환경을 효과적으로 탐색할 수 있는 전역 서치 방법\n",
    "\n",
    "<br>\n",
    "\n",
    "### 시뮬레이션 어닐링 과정\n",
    "- **시뮬레이션 어닐링을 사용하는 프로세스는 초기 값으로 시작하여, 파라미터 공간을 통해 제어된 무작위 이동을 시작**\n",
    "- **각각의 새로운 후보 파라미터 값은, 이전 파라미터값의 근방에 위치**\n",
    "\n",
    "- 후보 파라미터 값에 대하여 성능값을 계산하기 위해서 리샘플링 진행\n",
    "    \n",
    "    $\\rightarrow$ 이전 파라미터 값보다 더 나은 결과를 얻으면 새로운 최적값으로 수용되고 프로세스가 지속\n",
    "    \n",
    "    $\\rightarrow$ 결과가 이전 파라미터 값보다 나쁜 경우 서치 절차는 계속해서 이 값을 사용하여 추가 단계를 진행\n",
    "\n",
    "<br>\n",
    "\n",
    "- **시뮬레이션 어닐링의 두 가지 요인**\n",
    "    - 성능이 나빠질수록 나쁜 결과를 받아들일 가능성이 감소\n",
    "        \n",
    "        **즉, 최악의 결과가 방지되어 차악의 결과가 도출**\n",
    "    - 반복 횟수 : **시뮬레이션 어닐링은 서치가 진행됨에 따라, 차선의 값을 수용**\n",
    "    \n",
    "    $\\rightarrow$ **위 두 가지 요소를 통하여, 결과 수용에 대한 확률은 다음과 같이 공식화**\n",
    "\n",
    "<br>\n",
    "\n",
    "$$\\operatorname{Pr}[\\text{$i$번째 반복을 통하여 차선의 파라미터 값이 수용}] = \\exp(c\\times D_i \\times i)$$\n",
    "\n",
    "- $i$ : 반복 횟수\n",
    "- $c$ : 사용자 지정 상수 (통상 0.02). 값이 감소할수록, 서치 결과가 좋지 않은 경우에도 수용할 확률이 증가 (수용 관대함 증가)\n",
    "* $D_i$ : 이전 파라미터값과, 새로운 파라미터 값 사이의 백분율 차이 (음수가 나올 시, 새로운 결과의 성능이 더 나쁨을 의미)\n",
    "\n",
    "<br>\n",
    "\n",
    "**새로운 결과의 성능이 좋지 않은 경우, 수용 확률을 결정하고 이를 임의의 수와 비교**\n",
    "\n",
    "$\\rightarrow$ **임의의 수가 수용 확률 값보다 큰 경우, 서치에서는 새로운 파라미터를 수용하지 않고, 이전 파라미터 값을 지속해서 채택**"
   ]
  },
  {
   "cell_type": "markdown",
   "id": "faa96287",
   "metadata": {},
   "source": [
    "<br>\n",
    "\n",
    "- 사용자 지정 상수 $c$와 반복 횟수$i$, 성능에 따른 수용 확률의 변동\n",
    "<img src = 'https://www.tmwr.org/figures/acceptance-prob-1.png'>"
   ]
  },
  {
   "cell_type": "markdown",
   "id": "c69047a4",
   "metadata": {},
   "source": [
    "<br>\n",
    "\n",
    "- **시뮬레이션 어닐링은 반복 횟수내에서 최상의 결과가 발생하지 않으면 중단됨**\n",
    "    \n",
    "    $\\rightarrow$ **재시작 임계값 설정** : 일련의 좋지 않은 결과가 있는 경우, 이 기능은 마지막으로 좋은 성능을 보인 파라미터 설정을 초기값으로 삼아 서치를 재시작\n",
    "\n",
    "- **각 반복마다 튜닝 파라미터를 미세하게 교란 (일반화된 시뮬레이션 어닐링)**\n",
    "    - 연속형 튜닝 파라미터의 경우, 근접한 이웃을 지정하기 위해 작은 반경을 정의\n",
    "    \n",
    "        예) 두 개의 튜닝 파라미터가 있고, 각 매개변수는 0과 1의 범위에서 제한되어 있을 때, 시뮬레이션 어닐링은 주변 반경에 임의의 값을 생성하고, 후보 파라미터 값이 될 값을 무작위로 선택\n",
    "\n",
    "<br>\n",
    "\n",
    "#### `glmnet` 예시\n",
    "- 정규화 페널티 `penalty` :  범위 [$10^{-10}, 10^0$]\n",
    "- 라소 규제 비율 `mixture`: 범위 [0, 1]\n",
    "\n",
    "<br>\n",
    "\n",
    "1. 초기 파라미터 값 설정: `penalty=0.025`, `mixture = 0.050`\n",
    "2. 0.050과 0.015 사이의 반경과, 반경 내에서의 교란을 통해 파라미터 초기값 주변에 임의이 값의 세트를 생성한 후, 무작위로 하나의 값을 후보값으로 선택\n",
    "3. 선택된 후보값 주변의 무작위 이웃 세트를 생성하여, 다시 후보값 선택과 세트 생성을 반복\n",
    "4. 이전에 선택된 값 혹은 그와 유사한 값이 다시 선택되지 않도록 방지\n",
    "\n",
    "<img src = 'https://www.tmwr.org/figures/iterative-neighborhood-1.png'>"
   ]
  },
  {
   "cell_type": "markdown",
   "id": "2fd1f153",
   "metadata": {},
   "source": [
    "<br>\n",
    "\n",
    "#### `tune_sim_anneal()` : 시뮬레이션 어닐링을 통한 반복 서치 구현\n",
    "- **`no_improve`** : 특정 횟수의 반복 내에서 성능이 개선되지 않으면 검색을 중지\n",
    "- **`restart`** : 특정 횟수의 반복 내에서 성능이 개선되지 않으면, 이전 값을 재시작점으로 삼아 서치 재시작\n",
    "- **`radius`** : 초기값 근방 이웃의 최소 및 최대 반경\n",
    "- **`flip`** : 범주형 또는 연속형 파라미터의 값이 변경될 가능성을 정의하는 확률\n",
    "- **`cooling_coef`** : $\\exp(c\\times D_i \\times i)$에서의 $c$값\n",
    "    - 반복을 통해 새로운 값의 수용 확률이 얼마나 빨리 감소하는지 조절.\n",
    "    - 값이 클수록 차선의 파라미터 값을 수용할 확률이 감소"
   ]
  },
  {
   "cell_type": "code",
   "execution_count": 41,
   "id": "e43a6a27",
   "metadata": {},
   "outputs": [],
   "source": [
    "library(finetune)"
   ]
  },
  {
   "cell_type": "code",
   "execution_count": 44,
   "id": "ddcf3af4",
   "metadata": {},
   "outputs": [],
   "source": [
    "ctrl_sa <- control_sim_anneal(verbose = F, no_improve = 10L)"
   ]
  },
  {
   "cell_type": "code",
   "execution_count": 45,
   "id": "631d576d",
   "metadata": {},
   "outputs": [
    {
     "name": "stderr",
     "output_type": "stream",
     "text": [
      "\u001b[30mOptimizing roc_auc\u001b[39m\n",
      "\n",
      "\u001b[30mInitial best: 0.86594\u001b[39m\n",
      "\n",
      "\u001b[30m1 \u001b[39m\u001b[33m◯ accept suboptimal \u001b[39m\u001b[30m roc_auc=0.86351 (+/-0.008642)\u001b[39m\n",
      "\n",
      "\u001b[30m2 \u001b[39m\u001b[32m♥ new best          \u001b[39m\u001b[30m roc_auc=0.87334 (+/-0.008402)\u001b[39m\n",
      "\n",
      "\u001b[30m3 \u001b[39m\u001b[33m◯ accept suboptimal \u001b[39m\u001b[30m roc_auc=0.86724 (+/-0.00838)\u001b[39m\n",
      "\n",
      "\u001b[30m4 \u001b[39m\u001b[32m+ better suboptimal \u001b[39m\u001b[30m roc_auc=0.87042 (+/-0.008147)\u001b[39m\n",
      "\n",
      "\u001b[30m5 \u001b[39m\u001b[32m♥ new best          \u001b[39m\u001b[30m roc_auc=0.87444 (+/-0.008459)\u001b[39m\n",
      "\n",
      "\u001b[30m6 \u001b[39m\u001b[33m◯ accept suboptimal \u001b[39m\u001b[30m roc_auc=0.86966 (+/-0.00811)\u001b[39m\n",
      "\n",
      "\u001b[30m7 \u001b[39m\u001b[33m◯ accept suboptimal \u001b[39m\u001b[30m roc_auc=0.86589 (+/-0.008448)\u001b[39m\n",
      "\n",
      "\u001b[30m8 \u001b[39m\u001b[33m◯ accept suboptimal \u001b[39m\u001b[30m roc_auc=0.86233 (+/-0.008657)\u001b[39m\n",
      "\n",
      "\u001b[30m9 \u001b[39m\u001b[33m◯ accept suboptimal \u001b[39m\u001b[30m roc_auc=0.8623 (+/-0.008648)\u001b[39m\n",
      "\n",
      "\u001b[30m10 \u001b[39m\u001b[32m+ better suboptimal \u001b[39m\u001b[30m roc_auc=0.86232 (+/-0.008658)\u001b[39m\n",
      "\n",
      "\u001b[30m11 \u001b[39m\u001b[32m+ better suboptimal \u001b[39m\u001b[30m roc_auc=0.86238 (+/-0.008671)\u001b[39m\n",
      "\n",
      "\u001b[30m12 \u001b[39m\u001b[32m+ better suboptimal \u001b[39m\u001b[30m roc_auc=0.86246 (+/-0.008646)\u001b[39m\n",
      "\n",
      "\u001b[30m13 \u001b[39m\u001b[31m✖ restart from best \u001b[39m\u001b[30m roc_auc=0.86254 (+/-0.008613)\u001b[39m\n",
      "\n",
      "\u001b[30m14 \u001b[39m\u001b[33m◯ accept suboptimal \u001b[39m\u001b[30m roc_auc=0.87261 (+/-0.008351)\u001b[39m\n",
      "\n",
      "\u001b[30m15 \u001b[39m\u001b[32m+ better suboptimal \u001b[39m\u001b[30m roc_auc=0.8728 (+/-0.008301)\u001b[39m\n",
      "\n",
      "\u001b[30m16 \u001b[39m\u001b[32m♥ new best          \u001b[39m\u001b[30m roc_auc=0.88979 (+/-0.00886)\u001b[39m\n",
      "\n",
      "\u001b[30m17 \u001b[39m\u001b[32m♥ new best          \u001b[39m\u001b[30m roc_auc=0.89188 (+/-0.008923)\u001b[39m\n",
      "\n",
      "\u001b[30m18 \u001b[39m\u001b[32m♥ new best          \u001b[39m\u001b[30m roc_auc=0.89793 (+/-0.008393)\u001b[39m\n",
      "\n",
      "\u001b[30m19 \u001b[39m\u001b[33m◯ accept suboptimal \u001b[39m\u001b[30m roc_auc=0.89444 (+/-0.008826)\u001b[39m\n",
      "\n",
      "\u001b[30m20 \u001b[39m\u001b[33m◯ accept suboptimal \u001b[39m\u001b[30m roc_auc=0.87818 (+/-0.008519)\u001b[39m\n",
      "\n",
      "\u001b[30m21 \u001b[39m\u001b[33m◯ accept suboptimal \u001b[39m\u001b[30m roc_auc=0.87445 (+/-0.008274)\u001b[39m\n",
      "\n",
      "\u001b[30m22 \u001b[39m\u001b[32m+ better suboptimal \u001b[39m\u001b[30m roc_auc=0.8748 (+/-0.008468)\u001b[39m\n",
      "\n",
      "\u001b[30m23 \u001b[39m\u001b[32m+ better suboptimal \u001b[39m\u001b[30m roc_auc=0.87874 (+/-0.008594)\u001b[39m\n",
      "\n",
      "\u001b[30m24 \u001b[39m\u001b[31m─ discard suboptimal\u001b[39m\u001b[30m roc_auc=0.86945 (+/-0.008255)\u001b[39m\n",
      "\n",
      "\u001b[30m25 \u001b[39m\u001b[31m─ discard suboptimal\u001b[39m\u001b[30m roc_auc=0.86601 (+/-0.008643)\u001b[39m\n",
      "\n",
      "\u001b[30m26 \u001b[39m\u001b[31m✖ restart from best \u001b[39m\u001b[30m roc_auc=0.87029 (+/-0.008407)\u001b[39m\n",
      "\n",
      "\u001b[30m27 \u001b[39m\u001b[33m◯ accept suboptimal \u001b[39m\u001b[30m roc_auc=0.88689 (+/-0.008385)\u001b[39m\n",
      "\n",
      "\u001b[30m28 \u001b[39m\u001b[32m+ better suboptimal \u001b[39m\u001b[30m roc_auc=0.89634 (+/-0.008367)\u001b[39m\n",
      "\n",
      "\u001b[30m29 \u001b[39m\u001b[33m◯ accept suboptimal \u001b[39m\u001b[30m roc_auc=0.89295 (+/-0.00849)\u001b[39m\n",
      "\n",
      "\u001b[30m30 \u001b[39m\u001b[31m─ discard suboptimal\u001b[39m\u001b[30m roc_auc=0.86988 (+/-0.009097)\u001b[39m\n",
      "\n",
      "\u001b[30m31 \u001b[39m\u001b[31m─ discard suboptimal\u001b[39m\u001b[30m roc_auc=0.88745 (+/-0.008767)\u001b[39m\n",
      "\n",
      "\u001b[30m32 \u001b[39m\u001b[33m◯ accept suboptimal \u001b[39m\u001b[30m roc_auc=0.8825 (+/-0.009001)\u001b[39m\n",
      "\n",
      "\u001b[30m33 \u001b[39m\u001b[32m+ better suboptimal \u001b[39m\u001b[30m roc_auc=0.88296 (+/-0.008901)\u001b[39m\n",
      "\n",
      "\u001b[30m34 \u001b[39m\u001b[31m✖ restart from best \u001b[39m\u001b[30m roc_auc=0.89717 (+/-0.008342)\u001b[39m\n",
      "\n",
      "\u001b[30m35 \u001b[39m\u001b[31m─ discard suboptimal\u001b[39m\u001b[30m roc_auc=0.88529 (+/-0.008677)\u001b[39m\n",
      "\n",
      "\u001b[30m36 \u001b[39m\u001b[33m◯ accept suboptimal \u001b[39m\u001b[30m roc_auc=0.89766 (+/-0.008245)\u001b[39m\n",
      "\n",
      "\u001b[30m37 \u001b[39m\u001b[32m♥ new best          \u001b[39m\u001b[30m roc_auc=0.898 (+/-0.008253)\u001b[39m\n",
      "\n",
      "\u001b[30m38 \u001b[39m\u001b[33m◯ accept suboptimal \u001b[39m\u001b[30m roc_auc=0.89077 (+/-0.008787)\u001b[39m\n",
      "\n",
      "\u001b[30m39 \u001b[39m\u001b[33m◯ accept suboptimal \u001b[39m\u001b[30m roc_auc=0.88615 (+/-0.00875)\u001b[39m\n",
      "\n",
      "\u001b[30m40 \u001b[39m\u001b[32m+ better suboptimal \u001b[39m\u001b[30m roc_auc=0.89285 (+/-0.008806)\u001b[39m\n",
      "\n",
      "\u001b[30m41 \u001b[39m\u001b[32m+ better suboptimal \u001b[39m\u001b[30m roc_auc=0.89419 (+/-0.008628)\u001b[39m\n",
      "\n",
      "\u001b[30m42 \u001b[39m\u001b[32m+ better suboptimal \u001b[39m\u001b[30m roc_auc=0.8979 (+/-0.007741)\u001b[39m\n",
      "\n",
      "\u001b[30m43 \u001b[39m\u001b[31m─ discard suboptimal\u001b[39m\u001b[30m roc_auc=0.86412 (+/-0.009579)\u001b[39m\n",
      "\n",
      "\u001b[30m44 \u001b[39m\u001b[33m◯ accept suboptimal \u001b[39m\u001b[30m roc_auc=0.89119 (+/-0.008697)\u001b[39m\n",
      "\n",
      "\u001b[30m45 \u001b[39m\u001b[31m✖ restart from best \u001b[39m\u001b[30m roc_auc=0.8921 (+/-0.00885)\u001b[39m\n",
      "\n",
      "\u001b[30m46 \u001b[39m\u001b[33m◯ accept suboptimal \u001b[39m\u001b[30m roc_auc=0.89657 (+/-0.008539)\u001b[39m\n",
      "\n",
      "\u001b[30m47 \u001b[39m\u001b[33m◯ accept suboptimal \u001b[39m\u001b[30m roc_auc=0.88647 (+/-0.008694)\u001b[39m\n",
      "\n",
      "\u001b[30m48 \u001b[39m\u001b[32m+ better suboptimal \u001b[39m\u001b[30m roc_auc=0.89035 (+/-0.008894)\u001b[39m\n",
      "\n",
      "\u001b[30m49 \u001b[39m\u001b[32m+ better suboptimal \u001b[39m\u001b[30m roc_auc=0.8977 (+/-0.007898)\u001b[39m\n",
      "\n",
      "\u001b[30m50 \u001b[39m\u001b[31m─ discard suboptimal\u001b[39m\u001b[30m roc_auc=0.86146 (+/-0.009902)\u001b[39m\n",
      "\n"
     ]
    }
   ],
   "source": [
    "set.seed(1404)\n",
    "svm_sa <- svm_wflow %>%\n",
    "    tune_sim_anneal(\n",
    "    resamples = cell_folds,\n",
    "    metrics = roc_res,\n",
    "    initial = svm_initial,\n",
    "    param_info = svm_param,\n",
    "    iter = 50,\n",
    "    control = ctrl_sa\n",
    "    )"
   ]
  },
  {
   "cell_type": "code",
   "execution_count": 48,
   "id": "c7816a8f",
   "metadata": {},
   "outputs": [
    {
     "data": {
      "text/html": [
       "<table class=\"dataframe\">\n",
       "<caption>A tibble: 5 × 9</caption>\n",
       "<thead>\n",
       "\t<tr><th scope=col>cost</th><th scope=col>rbf_sigma</th><th scope=col>.metric</th><th scope=col>.estimator</th><th scope=col>mean</th><th scope=col>n</th><th scope=col>std_err</th><th scope=col>.config</th><th scope=col>.iter</th></tr>\n",
       "\t<tr><th scope=col>&lt;dbl&gt;</th><th scope=col>&lt;dbl&gt;</th><th scope=col>&lt;chr&gt;</th><th scope=col>&lt;chr&gt;</th><th scope=col>&lt;dbl&gt;</th><th scope=col>&lt;int&gt;</th><th scope=col>&lt;dbl&gt;</th><th scope=col>&lt;chr&gt;</th><th scope=col>&lt;int&gt;</th></tr>\n",
       "</thead>\n",
       "<tbody>\n",
       "\t<tr><td>10.439221</td><td>0.003905738</td><td>roc_auc</td><td>binary</td><td>0.8979963</td><td>10</td><td>0.008253020</td><td>Iter37</td><td>37</td></tr>\n",
       "\t<tr><td> 2.745016</td><td>0.007152477</td><td>roc_auc</td><td>binary</td><td>0.8979348</td><td>10</td><td>0.008392826</td><td>Iter18</td><td>18</td></tr>\n",
       "\t<tr><td>29.992035</td><td>0.002323313</td><td>roc_auc</td><td>binary</td><td>0.8978954</td><td>10</td><td>0.007740899</td><td>Iter42</td><td>42</td></tr>\n",
       "\t<tr><td>19.775365</td><td>0.002932892</td><td>roc_auc</td><td>binary</td><td>0.8977000</td><td>10</td><td>0.007898298</td><td>Iter49</td><td>49</td></tr>\n",
       "\t<tr><td> 5.216009</td><td>0.003281398</td><td>roc_auc</td><td>binary</td><td>0.8976575</td><td>10</td><td>0.008244686</td><td>Iter36</td><td>36</td></tr>\n",
       "</tbody>\n",
       "</table>\n"
      ],
      "text/latex": [
       "A tibble: 5 × 9\n",
       "\\begin{tabular}{lllllllll}\n",
       " cost & rbf\\_sigma & .metric & .estimator & mean & n & std\\_err & .config & .iter\\\\\n",
       " <dbl> & <dbl> & <chr> & <chr> & <dbl> & <int> & <dbl> & <chr> & <int>\\\\\n",
       "\\hline\n",
       "\t 10.439221 & 0.003905738 & roc\\_auc & binary & 0.8979963 & 10 & 0.008253020 & Iter37 & 37\\\\\n",
       "\t  2.745016 & 0.007152477 & roc\\_auc & binary & 0.8979348 & 10 & 0.008392826 & Iter18 & 18\\\\\n",
       "\t 29.992035 & 0.002323313 & roc\\_auc & binary & 0.8978954 & 10 & 0.007740899 & Iter42 & 42\\\\\n",
       "\t 19.775365 & 0.002932892 & roc\\_auc & binary & 0.8977000 & 10 & 0.007898298 & Iter49 & 49\\\\\n",
       "\t  5.216009 & 0.003281398 & roc\\_auc & binary & 0.8976575 & 10 & 0.008244686 & Iter36 & 36\\\\\n",
       "\\end{tabular}\n"
      ],
      "text/markdown": [
       "\n",
       "A tibble: 5 × 9\n",
       "\n",
       "| cost &lt;dbl&gt; | rbf_sigma &lt;dbl&gt; | .metric &lt;chr&gt; | .estimator &lt;chr&gt; | mean &lt;dbl&gt; | n &lt;int&gt; | std_err &lt;dbl&gt; | .config &lt;chr&gt; | .iter &lt;int&gt; |\n",
       "|---|---|---|---|---|---|---|---|---|\n",
       "| 10.439221 | 0.003905738 | roc_auc | binary | 0.8979963 | 10 | 0.008253020 | Iter37 | 37 |\n",
       "|  2.745016 | 0.007152477 | roc_auc | binary | 0.8979348 | 10 | 0.008392826 | Iter18 | 18 |\n",
       "| 29.992035 | 0.002323313 | roc_auc | binary | 0.8978954 | 10 | 0.007740899 | Iter42 | 42 |\n",
       "| 19.775365 | 0.002932892 | roc_auc | binary | 0.8977000 | 10 | 0.007898298 | Iter49 | 49 |\n",
       "|  5.216009 | 0.003281398 | roc_auc | binary | 0.8976575 | 10 | 0.008244686 | Iter36 | 36 |\n",
       "\n"
      ],
      "text/plain": [
       "  cost      rbf_sigma   .metric .estimator mean      n  std_err     .config\n",
       "1 10.439221 0.003905738 roc_auc binary     0.8979963 10 0.008253020 Iter37 \n",
       "2  2.745016 0.007152477 roc_auc binary     0.8979348 10 0.008392826 Iter18 \n",
       "3 29.992035 0.002323313 roc_auc binary     0.8978954 10 0.007740899 Iter42 \n",
       "4 19.775365 0.002932892 roc_auc binary     0.8977000 10 0.007898298 Iter49 \n",
       "5  5.216009 0.003281398 roc_auc binary     0.8976575 10 0.008244686 Iter36 \n",
       "  .iter\n",
       "1 37   \n",
       "2 18   \n",
       "3 42   \n",
       "4 49   \n",
       "5 36   "
      ]
     },
     "metadata": {},
     "output_type": "display_data"
    }
   ],
   "source": [
    "show_best(svm_sa)"
   ]
  },
  {
   "cell_type": "markdown",
   "id": "f9533ae1",
   "metadata": {},
   "source": [
    "- 27번째 반복에서 가장 높은 성능"
   ]
  },
  {
   "cell_type": "code",
   "execution_count": 46,
   "id": "512f95e2",
   "metadata": {},
   "outputs": [
    {
     "data": {
      "image/png": "[encoded data removed]",
      "text/plain": [
       "plot without title"
      ]
     },
     "metadata": {
      "image/png": {
       "height": 420,
       "width": 420
      }
     },
     "output_type": "display_data"
    },
    {
     "data": {
      "image/png": "[encoded data removed]",
      "text/plain": [
       "plot without title"
      ]
     },
     "metadata": {
      "image/png": {
       "height": 420,
       "width": 420
      }
     },
     "output_type": "display_data"
    }
   ],
   "source": [
    "autoplot(svm_sa, type = \"performance\")\n",
    "autoplot(svm_sa, type = \"parameters\")"
   ]
  },
  {
   "cell_type": "markdown",
   "id": "e815081c",
   "metadata": {},
   "source": [
    "- 시뮬레이션 어닐링 과정에 대한 시각화"
   ]
  },
  {
   "cell_type": "markdown",
   "id": "a8c50a8a",
   "metadata": {},
   "source": [
    "https://www.tmwr.org/sa_search.mp4"
   ]
  }
 ],
 "metadata": {
  "kernelspec": {
   "display_name": "R-4.3.2",
   "language": "R",
   "name": "ir"
  },
  "language_info": {
   "codemirror_mode": "r",
   "file_extension": ".r",
   "mimetype": "text/x-r-source",
   "name": "R",
   "pygments_lexer": "r",
   "version": "4.3.2"
  }
 },
 "nbformat": 4,
 "nbformat_minor": 5
}
