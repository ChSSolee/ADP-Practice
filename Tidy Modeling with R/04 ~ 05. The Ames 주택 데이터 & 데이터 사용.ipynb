{
 "cells": [
  {
   "cell_type": "markdown",
   "id": "35833bc6",
   "metadata": {},
   "source": [
    "# 04. The Ames 주택 데이터"
   ]
  },
  {
   "cell_type": "code",
   "execution_count": 5,
   "id": "7aab82c0",
   "metadata": {},
   "outputs": [],
   "source": [
    "library(tidyverse)\n",
    "library(tidymodels)\n",
    "ggplot2::theme_set(theme_bw())\n",
    "tidymodels_prefer()"
   ]
  },
  {
   "cell_type": "code",
   "execution_count": 3,
   "id": "0d909bc5",
   "metadata": {},
   "outputs": [
    {
     "data": {
      "text/html": [
       "<style>\n",
       ".list-inline {list-style: none; margin:0; padding: 0}\n",
       ".list-inline>li {display: inline-block}\n",
       ".list-inline>li:not(:last-child)::after {content: \"\\00b7\"; padding: 0 .5ex}\n",
       "</style>\n",
       "<ol class=list-inline><li>2930</li><li>74</li></ol>\n"
      ],
      "text/latex": [
       "\\begin{enumerate*}\n",
       "\\item 2930\n",
       "\\item 74\n",
       "\\end{enumerate*}\n"
      ],
      "text/markdown": [
       "1. 2930\n",
       "2. 74\n",
       "\n",
       "\n"
      ],
      "text/plain": [
       "[1] 2930   74"
      ]
     },
     "metadata": {},
     "output_type": "display_data"
    }
   ],
   "source": [
    "library(modeldata)\n",
    "data(ames)\n",
    "ames %>% dim"
   ]
  },
  {
   "cell_type": "markdown",
   "id": "d4462f40",
   "metadata": {},
   "source": [
    "# \n",
    "#### 히스토그램"
   ]
  },
  {
   "cell_type": "code",
   "execution_count": 9,
   "id": "5c945767",
   "metadata": {},
   "outputs": [
    {
     "data": {
      "image/png": "[encoded data removed]",
      "text/plain": [
       "plot without title"
      ]
     },
     "metadata": {
      "image/png": {
       "height": 420,
       "width": 420
      }
     },
     "output_type": "display_data"
    }
   ],
   "source": [
    "ggplot(ames, aes(Sale_Price)) + \n",
    "    geom_histogram(bins = 50, col = \"white\")"
   ]
  },
  {
   "cell_type": "markdown",
   "id": "75b5ae82",
   "metadata": {},
   "source": [
    "# \n",
    "#### 로그 변환 히스토그램"
   ]
  },
  {
   "cell_type": "code",
   "execution_count": 10,
   "id": "9a10a73d",
   "metadata": {},
   "outputs": [
    {
     "data": {
      "image/png": "[encoded data removed]",
      "text/plain": [
       "plot without title"
      ]
     },
     "metadata": {
      "image/png": {
       "height": 420,
       "width": 420
      }
     },
     "output_type": "display_data"
    }
   ],
   "source": [
    "ggplot(ames, aes(Sale_Price)) + \n",
    "    geom_histogram(bins = 50, col = \"white\") + \n",
    "    scale_x_log10()"
   ]
  },
  {
   "cell_type": "markdown",
   "id": "aa3313f6",
   "metadata": {},
   "source": [
    " #### 매매 가격 분포는 오른쪽으로 치우쳐 있으며 분포 중심의 양쪽에 값비싼 집보다 비싼 집이 비례"
   ]
  },
  {
   "cell_type": "code",
   "execution_count": 11,
   "id": "39c5cae9",
   "metadata": {},
   "outputs": [],
   "source": [
    "ames <- ames %>% mutate(Sale_Price = log10(Sale_Price))"
   ]
  },
  {
   "cell_type": "markdown",
   "id": "69198fe1",
   "metadata": {},
   "source": [
    "# \n",
    "# \n",
    "# \n",
    "## 05. 데이터 사용"
   ]
  },
  {
   "cell_type": "markdown",
   "id": "aa7ab669",
   "metadata": {},
   "source": [
    "### ```rsample::initial_split()```\n",
    "### ```rsample::initial_time_split()```"
   ]
  },
  {
   "cell_type": "code",
   "execution_count": 16,
   "id": "f018fe9e",
   "metadata": {},
   "outputs": [
    {
     "data": {
      "text/html": [
       "<style>\n",
       ".list-inline {list-style: none; margin:0; padding: 0}\n",
       ".list-inline>li {display: inline-block}\n",
       ".list-inline>li:not(:last-child)::after {content: \"\\00b7\"; padding: 0 .5ex}\n",
       "</style>\n",
       "<ol class=list-inline><li>2344</li><li>74</li></ol>\n"
      ],
      "text/latex": [
       "\\begin{enumerate*}\n",
       "\\item 2344\n",
       "\\item 74\n",
       "\\end{enumerate*}\n"
      ],
      "text/markdown": [
       "1. 2344\n",
       "2. 74\n",
       "\n",
       "\n"
      ],
      "text/plain": [
       "[1] 2344   74"
      ]
     },
     "metadata": {},
     "output_type": "display_data"
    },
    {
     "data": {
      "text/html": [
       "<style>\n",
       ".list-inline {list-style: none; margin:0; padding: 0}\n",
       ".list-inline>li {display: inline-block}\n",
       ".list-inline>li:not(:last-child)::after {content: \"\\00b7\"; padding: 0 .5ex}\n",
       "</style>\n",
       "<ol class=list-inline><li>586</li><li>74</li></ol>\n"
      ],
      "text/latex": [
       "\\begin{enumerate*}\n",
       "\\item 586\n",
       "\\item 74\n",
       "\\end{enumerate*}\n"
      ],
      "text/markdown": [
       "1. 586\n",
       "2. 74\n",
       "\n",
       "\n"
      ],
      "text/plain": [
       "[1] 586  74"
      ]
     },
     "metadata": {},
     "output_type": "display_data"
    }
   ],
   "source": [
    "set.seed(20221010)\n",
    "ames_split <- initial_split(ames, prop = 0.8)\n",
    "ames_train <- training(ames_split)\n",
    "ames_test <- testing(ames_split)\n",
    "ames_train %>% dim ; ames_test %>% dim"
   ]
  },
  {
   "cell_type": "markdown",
   "id": "46eb1815",
   "metadata": {},
   "source": [
    "# \n",
    "### ```density()``` : 커널 밀도 추정"
   ]
  },
  {
   "cell_type": "code",
   "execution_count": 42,
   "id": "d0b737e9",
   "metadata": {},
   "outputs": [
    {
     "data": {
      "text/html": [
       "<table class=\"dataframe\">\n",
       "<caption>A tibble: 6 × 2</caption>\n",
       "<thead>\n",
       "\t<tr><th scope=col>x</th><th scope=col>y</th></tr>\n",
       "\t<tr><th scope=col>&lt;dbl&gt;</th><th scope=col>&lt;dbl&gt;</th></tr>\n",
       "</thead>\n",
       "<tbody>\n",
       "\t<tr><td>4.018202</td><td>6.877398e-05</td></tr>\n",
       "\t<tr><td>4.020107</td><td>8.361662e-05</td></tr>\n",
       "\t<tr><td>4.022012</td><td>1.012086e-04</td></tr>\n",
       "\t<tr><td>4.023916</td><td>1.219617e-04</td></tr>\n",
       "\t<tr><td>4.025821</td><td>1.468546e-04</td></tr>\n",
       "\t<tr><td>4.027725</td><td>1.761054e-04</td></tr>\n",
       "</tbody>\n",
       "</table>\n"
      ],
      "text/latex": [
       "A tibble: 6 × 2\n",
       "\\begin{tabular}{ll}\n",
       " x & y\\\\\n",
       " <dbl> & <dbl>\\\\\n",
       "\\hline\n",
       "\t 4.018202 & 6.877398e-05\\\\\n",
       "\t 4.020107 & 8.361662e-05\\\\\n",
       "\t 4.022012 & 1.012086e-04\\\\\n",
       "\t 4.023916 & 1.219617e-04\\\\\n",
       "\t 4.025821 & 1.468546e-04\\\\\n",
       "\t 4.027725 & 1.761054e-04\\\\\n",
       "\\end{tabular}\n"
      ],
      "text/markdown": [
       "\n",
       "A tibble: 6 × 2\n",
       "\n",
       "| x &lt;dbl&gt; | y &lt;dbl&gt; |\n",
       "|---|---|\n",
       "| 4.018202 | 6.877398e-05 |\n",
       "| 4.020107 | 8.361662e-05 |\n",
       "| 4.022012 | 1.012086e-04 |\n",
       "| 4.023916 | 1.219617e-04 |\n",
       "| 4.025821 | 1.468546e-04 |\n",
       "| 4.027725 | 1.761054e-04 |\n",
       "\n"
      ],
      "text/plain": [
       "  x        y           \n",
       "1 4.018202 6.877398e-05\n",
       "2 4.020107 8.361662e-05\n",
       "3 4.022012 1.012086e-04\n",
       "4 4.023916 1.219617e-04\n",
       "5 4.025821 1.468546e-04\n",
       "6 4.027725 1.761054e-04"
      ]
     },
     "metadata": {},
     "output_type": "display_data"
    }
   ],
   "source": [
    "sale_dens <- density(ames$Sale_Price, n = 2^10) %>% tidy() \n",
    "sale_dens %>% head()"
   ]
  },
  {
   "cell_type": "code",
   "execution_count": 44,
   "id": "cac133f8",
   "metadata": {},
   "outputs": [
    {
     "data": {
      "text/html": [
       "<table class=\"dataframe\">\n",
       "<caption>A tibble: 3 × 2</caption>\n",
       "<thead>\n",
       "\t<tr><th scope=col>prob</th><th scope=col>value</th></tr>\n",
       "\t<tr><th scope=col>&lt;dbl&gt;</th><th scope=col>&lt;dbl&gt;</th></tr>\n",
       "</thead>\n",
       "<tbody>\n",
       "\t<tr><td>0.25</td><td>5.112270</td></tr>\n",
       "\t<tr><td>0.50</td><td>5.204120</td></tr>\n",
       "\t<tr><td>0.75</td><td>5.329398</td></tr>\n",
       "</tbody>\n",
       "</table>\n"
      ],
      "text/latex": [
       "A tibble: 3 × 2\n",
       "\\begin{tabular}{ll}\n",
       " prob & value\\\\\n",
       " <dbl> & <dbl>\\\\\n",
       "\\hline\n",
       "\t 0.25 & 5.112270\\\\\n",
       "\t 0.50 & 5.204120\\\\\n",
       "\t 0.75 & 5.329398\\\\\n",
       "\\end{tabular}\n"
      ],
      "text/markdown": [
       "\n",
       "A tibble: 3 × 2\n",
       "\n",
       "| prob &lt;dbl&gt; | value &lt;dbl&gt; |\n",
       "|---|---|\n",
       "| 0.25 | 5.112270 |\n",
       "| 0.50 | 5.204120 |\n",
       "| 0.75 | 5.329398 |\n",
       "\n"
      ],
      "text/plain": [
       "  prob value   \n",
       "1 0.25 5.112270\n",
       "2 0.50 5.204120\n",
       "3 0.75 5.329398"
      ]
     },
     "metadata": {},
     "output_type": "display_data"
    },
    {
     "data": {
      "text/html": [
       "<table class=\"dataframe\">\n",
       "<caption>A tibble: 3 × 3</caption>\n",
       "<thead>\n",
       "\t<tr><th scope=col>prob</th><th scope=col>value</th><th scope=col>y</th></tr>\n",
       "\t<tr><th scope=col>&lt;dbl&gt;</th><th scope=col>&lt;dbl&gt;</th><th scope=col>&lt;dbl&gt;</th></tr>\n",
       "</thead>\n",
       "<tbody>\n",
       "\t<tr><td>0.25</td><td>5.112270</td><td>2.421681</td></tr>\n",
       "\t<tr><td>0.50</td><td>5.204120</td><td>2.362820</td></tr>\n",
       "\t<tr><td>0.75</td><td>5.329398</td><td>1.590627</td></tr>\n",
       "</tbody>\n",
       "</table>\n"
      ],
      "text/latex": [
       "A tibble: 3 × 3\n",
       "\\begin{tabular}{lll}\n",
       " prob & value & y\\\\\n",
       " <dbl> & <dbl> & <dbl>\\\\\n",
       "\\hline\n",
       "\t 0.25 & 5.112270 & 2.421681\\\\\n",
       "\t 0.50 & 5.204120 & 2.362820\\\\\n",
       "\t 0.75 & 5.329398 & 1.590627\\\\\n",
       "\\end{tabular}\n"
      ],
      "text/markdown": [
       "\n",
       "A tibble: 3 × 3\n",
       "\n",
       "| prob &lt;dbl&gt; | value &lt;dbl&gt; | y &lt;dbl&gt; |\n",
       "|---|---|---|\n",
       "| 0.25 | 5.112270 | 2.421681 |\n",
       "| 0.50 | 5.204120 | 2.362820 |\n",
       "| 0.75 | 5.329398 | 1.590627 |\n",
       "\n"
      ],
      "text/plain": [
       "  prob value    y       \n",
       "1 0.25 5.112270 2.421681\n",
       "2 0.50 5.204120 2.362820\n",
       "3 0.75 5.329398 1.590627"
      ]
     },
     "metadata": {},
     "output_type": "display_data"
    }
   ],
   "source": [
    "quantiles <- quantile(ames$Sale_Price, probs = c(1:3) / 4)\n",
    "quantiles <- tibble(prob = (1:3 / 4), value = unname(quantiles))\n",
    "quantiles\n",
    "quantiles$y <- approx(sale_dens$x, sale_dens$y, xout = quantiles$value)$y\n",
    "quantiles"
   ]
  },
  {
   "cell_type": "code",
   "execution_count": 19,
   "id": "48bbaf4d",
   "metadata": {},
   "outputs": [
    {
     "data": {
      "image/png": "[encoded data removed]",
      "text/plain": [
       "plot without title"
      ]
     },
     "metadata": {
      "image/png": {
       "height": 420,
       "width": 420
      }
     },
     "output_type": "display_data"
    }
   ],
   "source": [
    "(quart_plot <-\n",
    "    ggplot(ames, aes(x = Sale_Price)) +\n",
    "    geom_line(stat = \"density\") +\n",
    "    geom_segment(data = quartiles,\n",
    "                 aes(x = value, xend = value, y = 0, yend = y),\n",
    "                 lty = 2) +\n",
    "    labs(x = \"Sale Price (log-10 USD)\", y = NULL))"
   ]
  },
  {
   "cell_type": "markdown",
   "id": "cf532878",
   "metadata": {},
   "source": [
    "# \n",
    "# "
   ]
  },
  {
   "cell_type": "code",
   "execution_count": 48,
   "id": "1af02203",
   "metadata": {},
   "outputs": [
    {
     "data": {
      "text/html": [
       "<style>\n",
       ".list-inline {list-style: none; margin:0; padding: 0}\n",
       ".list-inline>li {display: inline-block}\n",
       ".list-inline>li:not(:last-child)::after {content: \"\\00b7\"; padding: 0 .5ex}\n",
       "</style>\n",
       "<ol class=list-inline><li>2342</li><li>74</li></ol>\n"
      ],
      "text/latex": [
       "\\begin{enumerate*}\n",
       "\\item 2342\n",
       "\\item 74\n",
       "\\end{enumerate*}\n"
      ],
      "text/markdown": [
       "1. 2342\n",
       "2. 74\n",
       "\n",
       "\n"
      ],
      "text/plain": [
       "[1] 2342   74"
      ]
     },
     "metadata": {},
     "output_type": "display_data"
    },
    {
     "data": {
      "text/html": [
       "<style>\n",
       ".list-inline {list-style: none; margin:0; padding: 0}\n",
       ".list-inline>li {display: inline-block}\n",
       ".list-inline>li:not(:last-child)::after {content: \"\\00b7\"; padding: 0 .5ex}\n",
       "</style>\n",
       "<ol class=list-inline><li>588</li><li>74</li></ol>\n"
      ],
      "text/latex": [
       "\\begin{enumerate*}\n",
       "\\item 588\n",
       "\\item 74\n",
       "\\end{enumerate*}\n"
      ],
      "text/markdown": [
       "1. 588\n",
       "2. 74\n",
       "\n",
       "\n"
      ],
      "text/plain": [
       "[1] 588  74"
      ]
     },
     "metadata": {},
     "output_type": "display_data"
    }
   ],
   "source": [
    "set.seed(20221010)\n",
    "ames_split <- initial_split(ames, prop = 0.8, strata = Sale_Price)\n",
    "ames_train <- training(ames_split)\n",
    "ames_test <- testing(ames_split)\n",
    "ames_train %>% dim ; ames_test %>% dim"
   ]
  }
 ],
 "metadata": {
  "kernelspec": {
   "display_name": "R 4.1.3",
   "language": "R",
   "name": "ir32"
  },
  "language_info": {
   "codemirror_mode": "r",
   "file_extension": ".r",
   "mimetype": "text/x-r-source",
   "name": "R",
   "pygments_lexer": "r",
   "version": "4.1.3"
  }
 },
 "nbformat": 4,
 "nbformat_minor": 5
}
