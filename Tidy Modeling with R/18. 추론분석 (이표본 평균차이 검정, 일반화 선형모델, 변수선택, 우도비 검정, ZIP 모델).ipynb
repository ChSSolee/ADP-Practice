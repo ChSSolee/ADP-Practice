{
 "cells": [
  {
   "cell_type": "markdown",
   "id": "640fc935",
   "metadata": {},
   "source": [
    "# 18. 추론 분석"
   ]
  },
  {
   "cell_type": "markdown",
   "id": "104accb5",
   "metadata": {},
   "source": [
    "- 추론모델은 일반적으로 예측뿐만 아니라 계수 값이나 기타 파라미터와 같은 모델의 일부 구성 요소에 대한 추론이나 판단을 위해 생성\n",
    "    - 이러한 결과는 미리 정의된 질문이나 가설에 답하는 데 자주 사용\n",
    "- **예측모델에서는 홀드아웃 데이터에 대한 예측을 사용하여 모델 품질을 검증하거나 특성화하지만,**\n",
    "    \n",
    "    **추론방법은 모델을 적합화하기 전에 만들어진 확률적 또는 구조적 가정을 검증하는 데 중점**\n",
    "\n",
    "    - 예) 단순선형 회귀분석에서 잔차 값이 독립적이고, 일정한 분산을 갖는 가우스 분포를 따른다는 가정\n",
    "    \n",
    "    $\\rightarrow$ 모델 분석을 위해 이 가정에 대한 신빙성을 부여할 수 있는 과학적 또는 도메인 지식이 있을 수 있지만, 일반적으로 적합모델의 잔차를 검사하여 가정이 좋은 아이디어인지 확인\n"
   ]
  },
  {
   "cell_type": "code",
   "execution_count": 2,
   "id": "b1b143b9",
   "metadata": {},
   "outputs": [],
   "source": [
    "library(tidymodels)\n",
    "library(poissonreg)\n",
    "library(infer)\n",
    "tidymodels_prefer()\n",
    "theme_set(theme_bw())"
   ]
  },
  {
   "cell_type": "code",
   "execution_count": 3,
   "id": "90acafc3",
   "metadata": {},
   "outputs": [],
   "source": [
    "data(\"bioChemists\", package = \"pscl\")"
   ]
  },
  {
   "cell_type": "markdown",
   "id": "6cfb4c11",
   "metadata": {},
   "source": [
    "<br>\n",
    "\n",
    "## 18.01. 개수 데이터에 대한 추론"
   ]
  },
  {
   "cell_type": "code",
   "execution_count": 8,
   "id": "ffbf60e4",
   "metadata": {},
   "outputs": [
    {
     "data": {
      "text/html": [
       "<table class=\"dataframe\">\n",
       "<caption>A data.frame: 6 × 6</caption>\n",
       "<thead>\n",
       "\t<tr><th></th><th scope=col>art</th><th scope=col>fem</th><th scope=col>mar</th><th scope=col>kid5</th><th scope=col>phd</th><th scope=col>ment</th></tr>\n",
       "\t<tr><th></th><th scope=col>&lt;int&gt;</th><th scope=col>&lt;fct&gt;</th><th scope=col>&lt;fct&gt;</th><th scope=col>&lt;dbl&gt;</th><th scope=col>&lt;dbl&gt;</th><th scope=col>&lt;int&gt;</th></tr>\n",
       "</thead>\n",
       "<tbody>\n",
       "\t<tr><th scope=row>1</th><td>0</td><td>Men  </td><td>Married</td><td>0</td><td>2.52</td><td> 7</td></tr>\n",
       "\t<tr><th scope=row>2</th><td>0</td><td>Women</td><td>Single </td><td>0</td><td>2.05</td><td> 6</td></tr>\n",
       "\t<tr><th scope=row>3</th><td>0</td><td>Women</td><td>Single </td><td>0</td><td>3.75</td><td> 6</td></tr>\n",
       "\t<tr><th scope=row>4</th><td>0</td><td>Men  </td><td>Married</td><td>1</td><td>1.18</td><td> 3</td></tr>\n",
       "\t<tr><th scope=row>5</th><td>0</td><td>Women</td><td>Single </td><td>0</td><td>3.75</td><td>26</td></tr>\n",
       "\t<tr><th scope=row>6</th><td>0</td><td>Women</td><td>Married</td><td>2</td><td>3.59</td><td> 2</td></tr>\n",
       "</tbody>\n",
       "</table>\n"
      ],
      "text/latex": [
       "A data.frame: 6 × 6\n",
       "\\begin{tabular}{r|llllll}\n",
       "  & art & fem & mar & kid5 & phd & ment\\\\\n",
       "  & <int> & <fct> & <fct> & <dbl> & <dbl> & <int>\\\\\n",
       "\\hline\n",
       "\t1 & 0 & Men   & Married & 0 & 2.52 &  7\\\\\n",
       "\t2 & 0 & Women & Single  & 0 & 2.05 &  6\\\\\n",
       "\t3 & 0 & Women & Single  & 0 & 3.75 &  6\\\\\n",
       "\t4 & 0 & Men   & Married & 1 & 1.18 &  3\\\\\n",
       "\t5 & 0 & Women & Single  & 0 & 3.75 & 26\\\\\n",
       "\t6 & 0 & Women & Married & 2 & 3.59 &  2\\\\\n",
       "\\end{tabular}\n"
      ],
      "text/markdown": [
       "\n",
       "A data.frame: 6 × 6\n",
       "\n",
       "| <!--/--> | art &lt;int&gt; | fem &lt;fct&gt; | mar &lt;fct&gt; | kid5 &lt;dbl&gt; | phd &lt;dbl&gt; | ment &lt;int&gt; |\n",
       "|---|---|---|---|---|---|---|\n",
       "| 1 | 0 | Men   | Married | 0 | 2.52 |  7 |\n",
       "| 2 | 0 | Women | Single  | 0 | 2.05 |  6 |\n",
       "| 3 | 0 | Women | Single  | 0 | 3.75 |  6 |\n",
       "| 4 | 0 | Men   | Married | 1 | 1.18 |  3 |\n",
       "| 5 | 0 | Women | Single  | 0 | 3.75 | 26 |\n",
       "| 6 | 0 | Women | Married | 2 | 3.59 |  2 |\n",
       "\n"
      ],
      "text/plain": [
       "  art fem   mar     kid5 phd  ment\n",
       "1 0   Men   Married 0    2.52  7  \n",
       "2 0   Women Single  0    2.05  6  \n",
       "3 0   Women Single  0    3.75  6  \n",
       "4 0   Men   Married 1    1.18  3  \n",
       "5 0   Women Single  0    3.75 26  \n",
       "6 0   Women Married 2    3.59  2  "
      ]
     },
     "metadata": {},
     "output_type": "display_data"
    }
   ],
   "source": [
    "bioChemists %>% head"
   ]
  },
  {
   "cell_type": "markdown",
   "id": "a3821826",
   "metadata": {},
   "source": [
    "- `art` (출판물의 수) 변수에 대한 분포\n",
    "\n",
    "    $\\rightarrow$ **`art`변수는 개수와 관련된 변수이므로, `art`변수의 분포에 대한 일반적인 가정은 포아송 분포**"
   ]
  },
  {
   "cell_type": "code",
   "execution_count": 6,
   "id": "435f312f",
   "metadata": {},
   "outputs": [
    {
     "data": {
      "image/png": "[encoded data removed]",
      "text/plain": [
       "plot without title"
      ]
     },
     "metadata": {
      "image/png": {
       "height": 420,
       "width": 420
      }
     },
     "output_type": "display_data"
    }
   ],
   "source": [
    "ggplot(bioChemists, aes(x = art)) + \n",
    "    geom_histogram(binwidth = 1, color = \"white\")"
   ]
  },
  {
   "cell_type": "markdown",
   "id": "371cf691",
   "metadata": {},
   "source": [
    "<br>\n",
    "\n",
    "### 이표본 검정"
   ]
  },
  {
   "cell_type": "markdown",
   "id": "889a4d9a",
   "metadata": {},
   "source": [
    "- 데이터에는 남성이 더 많으며, `art`의 수 또한 더 많음"
   ]
  },
  {
   "cell_type": "code",
   "execution_count": 9,
   "id": "b32e841b",
   "metadata": {},
   "outputs": [
    {
     "data": {
      "text/html": [
       "<table class=\"dataframe\">\n",
       "<caption>A tibble: 2 × 3</caption>\n",
       "<thead>\n",
       "\t<tr><th scope=col>fem</th><th scope=col>counts</th><th scope=col>n</th></tr>\n",
       "\t<tr><th scope=col>&lt;fct&gt;</th><th scope=col>&lt;int&gt;</th><th scope=col>&lt;int&gt;</th></tr>\n",
       "</thead>\n",
       "<tbody>\n",
       "\t<tr><td>Men  </td><td>930</td><td>494</td></tr>\n",
       "\t<tr><td>Women</td><td>619</td><td>421</td></tr>\n",
       "</tbody>\n",
       "</table>\n"
      ],
      "text/latex": [
       "A tibble: 2 × 3\n",
       "\\begin{tabular}{lll}\n",
       " fem & counts & n\\\\\n",
       " <fct> & <int> & <int>\\\\\n",
       "\\hline\n",
       "\t Men   & 930 & 494\\\\\n",
       "\t Women & 619 & 421\\\\\n",
       "\\end{tabular}\n"
      ],
      "text/markdown": [
       "\n",
       "A tibble: 2 × 3\n",
       "\n",
       "| fem &lt;fct&gt; | counts &lt;int&gt; | n &lt;int&gt; |\n",
       "|---|---|---|\n",
       "| Men   | 930 | 494 |\n",
       "| Women | 619 | 421 |\n",
       "\n"
      ],
      "text/plain": [
       "  fem   counts n  \n",
       "1 Men   930    494\n",
       "2 Women 619    421"
      ]
     },
     "metadata": {},
     "output_type": "display_data"
    }
   ],
   "source": [
    "bioChemists %>%\n",
    "    group_by(fem) %>%\n",
    "    summarise(counts = sum(art), n = length(art))"
   ]
  },
  {
   "cell_type": "markdown",
   "id": "78ba2933",
   "metadata": {},
   "source": [
    "<br>\n",
    "\n",
    "#### 포아송 검정\n",
    "- 남성과 여성의 `art` 분포간 평균에 대한 비교\n",
    "- p-value < 0.05 $\\rightarrow$ 귀무가설 기각\n",
    "\n",
    "    $\\rightarrow$ 남성과 여성의 `art`분포 평균은 다르다"
   ]
  },
  {
   "cell_type": "markdown",
   "id": "365c4ac2",
   "metadata": {},
   "source": [
    "$$\\begin{align}\n",
    "H_0&: \\lambda_m = \\lambda_f \\notag \\\\\n",
    "H_a&: \\lambda_m \\ne \\lambda_f \\notag\n",
    "\\end{align}$$"
   ]
  },
  {
   "cell_type": "code",
   "execution_count": 13,
   "id": "c6ce80f7",
   "metadata": {},
   "outputs": [
    {
     "data": {
      "text/html": [
       "<table class=\"dataframe\">\n",
       "<caption>A tibble: 1 × 8</caption>\n",
       "<thead>\n",
       "\t<tr><th scope=col>estimate</th><th scope=col>statistic</th><th scope=col>p.value</th><th scope=col>parameter</th><th scope=col>conf.low</th><th scope=col>conf.high</th><th scope=col>method</th><th scope=col>alternative</th></tr>\n",
       "\t<tr><th scope=col>&lt;dbl&gt;</th><th scope=col>&lt;dbl&gt;</th><th scope=col>&lt;dbl&gt;</th><th scope=col>&lt;dbl&gt;</th><th scope=col>&lt;dbl&gt;</th><th scope=col>&lt;dbl&gt;</th><th scope=col>&lt;chr&gt;</th><th scope=col>&lt;chr&gt;</th></tr>\n",
       "</thead>\n",
       "<tbody>\n",
       "\t<tr><td>1.502423</td><td>930</td><td>2.727173e-15</td><td>774.5</td><td>1.355716</td><td>1.665905</td><td>Comparison of Poisson rates</td><td>two.sided</td></tr>\n",
       "</tbody>\n",
       "</table>\n"
      ],
      "text/latex": [
       "A tibble: 1 × 8\n",
       "\\begin{tabular}{llllllll}\n",
       " estimate & statistic & p.value & parameter & conf.low & conf.high & method & alternative\\\\\n",
       " <dbl> & <dbl> & <dbl> & <dbl> & <dbl> & <dbl> & <chr> & <chr>\\\\\n",
       "\\hline\n",
       "\t 1.502423 & 930 & 2.727173e-15 & 774.5 & 1.355716 & 1.665905 & Comparison of Poisson rates & two.sided\\\\\n",
       "\\end{tabular}\n"
      ],
      "text/markdown": [
       "\n",
       "A tibble: 1 × 8\n",
       "\n",
       "| estimate &lt;dbl&gt; | statistic &lt;dbl&gt; | p.value &lt;dbl&gt; | parameter &lt;dbl&gt; | conf.low &lt;dbl&gt; | conf.high &lt;dbl&gt; | method &lt;chr&gt; | alternative &lt;chr&gt; |\n",
       "|---|---|---|---|---|---|---|---|\n",
       "| 1.502423 | 930 | 2.727173e-15 | 774.5 | 1.355716 | 1.665905 | Comparison of Poisson rates | two.sided |\n",
       "\n"
      ],
      "text/plain": [
       "  estimate statistic p.value      parameter conf.low conf.high\n",
       "1 1.502423 930       2.727173e-15 774.5     1.355716 1.665905 \n",
       "  method                      alternative\n",
       "1 Comparison of Poisson rates two.sided  "
      ]
     },
     "metadata": {},
     "output_type": "display_data"
    }
   ],
   "source": [
    "poisson.test(c(930, 619)) %>% tidy()"
   ]
  },
  {
   "cell_type": "markdown",
   "id": "099f32f8",
   "metadata": {},
   "source": [
    "<br>\n",
    "\n",
    "#### 부트스트랩\n",
    "- 두 그룹 간의 평균 차이 계산"
   ]
  },
  {
   "cell_type": "code",
   "execution_count": 14,
   "id": "d19b8f42",
   "metadata": {},
   "outputs": [],
   "source": [
    "library(infer)"
   ]
  },
  {
   "cell_type": "code",
   "execution_count": 24,
   "id": "ed5ece93",
   "metadata": {},
   "outputs": [],
   "source": [
    "observed <- bioChemists %>%\n",
    "    specify(art ~ fem) %>%\n",
    "    calculate(stat = \"diff in means\", order = c(\"Men\", \"Women\"))"
   ]
  },
  {
   "cell_type": "code",
   "execution_count": 25,
   "id": "21b071d0",
   "metadata": {},
   "outputs": [
    {
     "data": {
      "text/html": [
       "<table class=\"dataframe\">\n",
       "<caption>A infer: 1 × 1</caption>\n",
       "<thead>\n",
       "\t<tr><th scope=col>stat</th></tr>\n",
       "\t<tr><th scope=col>&lt;dbl&gt;</th></tr>\n",
       "</thead>\n",
       "<tbody>\n",
       "\t<tr><td>0.4122823</td></tr>\n",
       "</tbody>\n",
       "</table>\n"
      ],
      "text/latex": [
       "A infer: 1 × 1\n",
       "\\begin{tabular}{l}\n",
       " stat\\\\\n",
       " <dbl>\\\\\n",
       "\\hline\n",
       "\t 0.4122823\\\\\n",
       "\\end{tabular}\n"
      ],
      "text/markdown": [
       "\n",
       "A infer: 1 × 1\n",
       "\n",
       "| stat &lt;dbl&gt; |\n",
       "|---|\n",
       "| 0.4122823 |\n",
       "\n"
      ],
      "text/plain": [
       "  stat     \n",
       "1 0.4122823"
      ]
     },
     "metadata": {},
     "output_type": "display_data"
    }
   ],
   "source": [
    "observed"
   ]
  },
  {
   "cell_type": "markdown",
   "id": "480fe1cb",
   "metadata": {},
   "source": [
    "- 부트스트랩 분포를 생성하여, 평균에 대한 신뢰구간 계산"
   ]
  },
  {
   "cell_type": "code",
   "execution_count": 26,
   "id": "8e44f976",
   "metadata": {},
   "outputs": [],
   "source": [
    "set.seed(2101)"
   ]
  },
  {
   "cell_type": "code",
   "execution_count": 27,
   "id": "bd550042",
   "metadata": {},
   "outputs": [],
   "source": [
    "bootstrapped <- bioChemists %>%\n",
    "    specify(art ~ fem) %>%\n",
    "    generate(reps = 2000, type = \"bootstrap\") %>%\n",
    "    calculate(stat = \"diff in means\", order = c(\"Men\", \"Women\"))"
   ]
  },
  {
   "cell_type": "code",
   "execution_count": 29,
   "id": "41d26e40",
   "metadata": {},
   "outputs": [
    {
     "data": {
      "text/html": [
       "<style>\n",
       ".list-inline {list-style: none; margin:0; padding: 0}\n",
       ".list-inline>li {display: inline-block}\n",
       ".list-inline>li:not(:last-child)::after {content: \"\\00b7\"; padding: 0 .5ex}\n",
       "</style>\n",
       "<ol class=list-inline><li>2000</li><li>2</li></ol>\n"
      ],
      "text/latex": [
       "\\begin{enumerate*}\n",
       "\\item 2000\n",
       "\\item 2\n",
       "\\end{enumerate*}\n"
      ],
      "text/markdown": [
       "1. 2000\n",
       "2. 2\n",
       "\n",
       "\n"
      ],
      "text/plain": [
       "[1] 2000    2"
      ]
     },
     "metadata": {},
     "output_type": "display_data"
    },
    {
     "data": {
      "text/html": [
       "<table class=\"dataframe\">\n",
       "<caption>A infer: 6 × 2</caption>\n",
       "<thead>\n",
       "\t<tr><th scope=col>replicate</th><th scope=col>stat</th></tr>\n",
       "\t<tr><th scope=col>&lt;int&gt;</th><th scope=col>&lt;dbl&gt;</th></tr>\n",
       "</thead>\n",
       "<tbody>\n",
       "\t<tr><td>1</td><td>0.4673617</td></tr>\n",
       "\t<tr><td>2</td><td>0.1068764</td></tr>\n",
       "\t<tr><td>3</td><td>0.4665542</td></tr>\n",
       "\t<tr><td>4</td><td>0.3083260</td></tr>\n",
       "\t<tr><td>5</td><td>0.3686163</td></tr>\n",
       "\t<tr><td>6</td><td>0.4277987</td></tr>\n",
       "</tbody>\n",
       "</table>\n"
      ],
      "text/latex": [
       "A infer: 6 × 2\n",
       "\\begin{tabular}{ll}\n",
       " replicate & stat\\\\\n",
       " <int> & <dbl>\\\\\n",
       "\\hline\n",
       "\t 1 & 0.4673617\\\\\n",
       "\t 2 & 0.1068764\\\\\n",
       "\t 3 & 0.4665542\\\\\n",
       "\t 4 & 0.3083260\\\\\n",
       "\t 5 & 0.3686163\\\\\n",
       "\t 6 & 0.4277987\\\\\n",
       "\\end{tabular}\n"
      ],
      "text/markdown": [
       "\n",
       "A infer: 6 × 2\n",
       "\n",
       "| replicate &lt;int&gt; | stat &lt;dbl&gt; |\n",
       "|---|---|\n",
       "| 1 | 0.4673617 |\n",
       "| 2 | 0.1068764 |\n",
       "| 3 | 0.4665542 |\n",
       "| 4 | 0.3083260 |\n",
       "| 5 | 0.3686163 |\n",
       "| 6 | 0.4277987 |\n",
       "\n"
      ],
      "text/plain": [
       "  replicate stat     \n",
       "1 1         0.4673617\n",
       "2 2         0.1068764\n",
       "3 3         0.4665542\n",
       "4 4         0.3083260\n",
       "5 5         0.3686163\n",
       "6 6         0.4277987"
      ]
     },
     "metadata": {},
     "output_type": "display_data"
    }
   ],
   "source": [
    "bootstrapped %>% dim\n",
    "bootstrapped %>% head"
   ]
  },
  {
   "cell_type": "markdown",
   "id": "ee410ea4",
   "metadata": {},
   "source": [
    "- 95% 신뢰구간"
   ]
  },
  {
   "cell_type": "code",
   "execution_count": 32,
   "id": "77575c1a",
   "metadata": {},
   "outputs": [
    {
     "data": {
      "text/html": [
       "<table class=\"dataframe\">\n",
       "<caption>A tibble: 1 × 2</caption>\n",
       "<thead>\n",
       "\t<tr><th scope=col>lower_ci</th><th scope=col>upper_ci</th></tr>\n",
       "\t<tr><th scope=col>&lt;dbl&gt;</th><th scope=col>&lt;dbl&gt;</th></tr>\n",
       "</thead>\n",
       "<tbody>\n",
       "\t<tr><td>0.1580736</td><td>0.652879</td></tr>\n",
       "</tbody>\n",
       "</table>\n"
      ],
      "text/latex": [
       "A tibble: 1 × 2\n",
       "\\begin{tabular}{ll}\n",
       " lower\\_ci & upper\\_ci\\\\\n",
       " <dbl> & <dbl>\\\\\n",
       "\\hline\n",
       "\t 0.1580736 & 0.652879\\\\\n",
       "\\end{tabular}\n"
      ],
      "text/markdown": [
       "\n",
       "A tibble: 1 × 2\n",
       "\n",
       "| lower_ci &lt;dbl&gt; | upper_ci &lt;dbl&gt; |\n",
       "|---|---|\n",
       "| 0.1580736 | 0.652879 |\n",
       "\n"
      ],
      "text/plain": [
       "  lower_ci  upper_ci\n",
       "1 0.1580736 0.652879"
      ]
     },
     "metadata": {},
     "output_type": "display_data"
    }
   ],
   "source": [
    "percentile_ci <- get_ci(bootstrapped)\n",
    "percentile_ci"
   ]
  },
  {
   "cell_type": "markdown",
   "id": "d6aea261",
   "metadata": {},
   "source": [
    "- 두 그룹간 평균차이에 대한 부투스트랩 분포\n",
    "- 부트스트랩에 의한 분포에는 0이 포함되지 않음\n",
    "\n",
    "    $\\rightarrow$ 남성이 여성보다 더 많은 출판물을 발행 하였음"
   ]
  },
  {
   "cell_type": "code",
   "execution_count": 33,
   "id": "f5e95940",
   "metadata": {},
   "outputs": [
    {
     "data": {
      "image/png": "[encoded data removed]",
      "text/plain": [
       "plot without title"
      ]
     },
     "metadata": {
      "image/png": {
       "height": 420,
       "width": 420
      }
     },
     "output_type": "display_data"
    }
   ],
   "source": [
    "visualize(bootstrapped) +\n",
    "    shade_confidence_interval(endpoints = percentile_ci)"
   ]
  },
  {
   "cell_type": "markdown",
   "id": "b054c05a",
   "metadata": {},
   "source": [
    "#### 순열검정을 통한 p-value 계산\n"
   ]
  },
  {
   "cell_type": "markdown",
   "id": "53a4ff5e",
   "metadata": {},
   "source": [
    "- 귀무가설 ($\\lambda_m = \\lambda_f$)에서의, 두 그룹간 평균차에 대한 부트스트랩 분포"
   ]
  },
  {
   "cell_type": "code",
   "execution_count": 55,
   "id": "7f7952fa",
   "metadata": {},
   "outputs": [],
   "source": [
    "set.seed(2102)"
   ]
  },
  {
   "cell_type": "code",
   "execution_count": 56,
   "id": "a83dd220",
   "metadata": {},
   "outputs": [],
   "source": [
    "permuted <- bioChemists %>%\n",
    "    specify(art ~ fem) %>%\n",
    "    hypothesise(null = \"independence\") %>%\n",
    "    generate(reps = 2000, type = \"permute\") %>%\n",
    "    calculate(stat = \"diff in means\", order = c(\"Men\", \"Women\"))"
   ]
  },
  {
   "cell_type": "code",
   "execution_count": 57,
   "id": "e4881283",
   "metadata": {},
   "outputs": [
    {
     "data": {
      "text/html": [
       "<style>\n",
       ".list-inline {list-style: none; margin:0; padding: 0}\n",
       ".list-inline>li {display: inline-block}\n",
       ".list-inline>li:not(:last-child)::after {content: \"\\00b7\"; padding: 0 .5ex}\n",
       "</style>\n",
       "<ol class=list-inline><li>2000</li><li>2</li></ol>\n"
      ],
      "text/latex": [
       "\\begin{enumerate*}\n",
       "\\item 2000\n",
       "\\item 2\n",
       "\\end{enumerate*}\n"
      ],
      "text/markdown": [
       "1. 2000\n",
       "2. 2\n",
       "\n",
       "\n"
      ],
      "text/plain": [
       "[1] 2000    2"
      ]
     },
     "metadata": {},
     "output_type": "display_data"
    },
    {
     "data": {
      "text/html": [
       "<table class=\"dataframe\">\n",
       "<caption>A infer: 6 × 2</caption>\n",
       "<thead>\n",
       "\t<tr><th scope=col>replicate</th><th scope=col>stat</th></tr>\n",
       "\t<tr><th scope=col>&lt;int&gt;</th><th scope=col>&lt;dbl&gt;</th></tr>\n",
       "</thead>\n",
       "<tbody>\n",
       "\t<tr><td>1</td><td> 0.201102061</td></tr>\n",
       "\t<tr><td>2</td><td>-0.133266658</td></tr>\n",
       "\t<tr><td>3</td><td> 0.108710704</td></tr>\n",
       "\t<tr><td>4</td><td>-0.194860896</td></tr>\n",
       "\t<tr><td>5</td><td>-0.001279006</td></tr>\n",
       "\t<tr><td>6</td><td>-0.102469539</td></tr>\n",
       "</tbody>\n",
       "</table>\n"
      ],
      "text/latex": [
       "A infer: 6 × 2\n",
       "\\begin{tabular}{ll}\n",
       " replicate & stat\\\\\n",
       " <int> & <dbl>\\\\\n",
       "\\hline\n",
       "\t 1 &  0.201102061\\\\\n",
       "\t 2 & -0.133266658\\\\\n",
       "\t 3 &  0.108710704\\\\\n",
       "\t 4 & -0.194860896\\\\\n",
       "\t 5 & -0.001279006\\\\\n",
       "\t 6 & -0.102469539\\\\\n",
       "\\end{tabular}\n"
      ],
      "text/markdown": [
       "\n",
       "A infer: 6 × 2\n",
       "\n",
       "| replicate &lt;int&gt; | stat &lt;dbl&gt; |\n",
       "|---|---|\n",
       "| 1 |  0.201102061 |\n",
       "| 2 | -0.133266658 |\n",
       "| 3 |  0.108710704 |\n",
       "| 4 | -0.194860896 |\n",
       "| 5 | -0.001279006 |\n",
       "| 6 | -0.102469539 |\n",
       "\n"
      ],
      "text/plain": [
       "  replicate stat        \n",
       "1 1          0.201102061\n",
       "2 2         -0.133266658\n",
       "3 3          0.108710704\n",
       "4 4         -0.194860896\n",
       "5 5         -0.001279006\n",
       "6 6         -0.102469539"
      ]
     },
     "metadata": {},
     "output_type": "display_data"
    }
   ],
   "source": [
    "permuted %>% dim\n",
    "permuted %>% head"
   ]
  },
  {
   "cell_type": "code",
   "execution_count": 61,
   "id": "811621ea",
   "metadata": {},
   "outputs": [
    {
     "data": {
      "image/png": "[encoded data removed]",
      "text/plain": [
       "plot without title"
      ]
     },
     "metadata": {
      "image/png": {
       "height": 420,
       "width": 420
      }
     },
     "output_type": "display_data"
    }
   ],
   "source": [
    "visualize(permuted)"
   ]
  },
  {
   "cell_type": "markdown",
   "id": "5f97ef4f",
   "metadata": {},
   "source": [
    "- 두 그룹간 실제 평균 차이"
   ]
  },
  {
   "cell_type": "code",
   "execution_count": 62,
   "id": "fec546ce",
   "metadata": {},
   "outputs": [
    {
     "data": {
      "text/html": [
       "<table class=\"dataframe\">\n",
       "<caption>A infer: 1 × 1</caption>\n",
       "<thead>\n",
       "\t<tr><th scope=col>stat</th></tr>\n",
       "\t<tr><th scope=col>&lt;dbl&gt;</th></tr>\n",
       "</thead>\n",
       "<tbody>\n",
       "\t<tr><td>0.4122823</td></tr>\n",
       "</tbody>\n",
       "</table>\n"
      ],
      "text/latex": [
       "A infer: 1 × 1\n",
       "\\begin{tabular}{l}\n",
       " stat\\\\\n",
       " <dbl>\\\\\n",
       "\\hline\n",
       "\t 0.4122823\\\\\n",
       "\\end{tabular}\n"
      ],
      "text/markdown": [
       "\n",
       "A infer: 1 × 1\n",
       "\n",
       "| stat &lt;dbl&gt; |\n",
       "|---|\n",
       "| 0.4122823 |\n",
       "\n"
      ],
      "text/plain": [
       "  stat     \n",
       "1 0.4122823"
      ]
     },
     "metadata": {},
     "output_type": "display_data"
    }
   ],
   "source": [
    "observed"
   ]
  },
  {
   "cell_type": "markdown",
   "id": "475cc15a",
   "metadata": {},
   "source": [
    "- **p-value : 귀무가설 하에서의 분포에서, 실제 평균 차이의 분위수**\n",
    "    \n",
    "    $\\rightarrow$ **귀무가설이 참이라면, 실제 관측값을 관찰할 확률이 매우 낮음**\n",
    "    \n",
    "    $\\rightarrow$ **귀무가설은 참이 아님**"
   ]
  },
  {
   "cell_type": "code",
   "execution_count": 63,
   "id": "427c02c8",
   "metadata": {},
   "outputs": [
    {
     "data": {
      "text/html": [
       "<table class=\"dataframe\">\n",
       "<caption>A tibble: 1 × 1</caption>\n",
       "<thead>\n",
       "\t<tr><th scope=col>p_value</th></tr>\n",
       "\t<tr><th scope=col>&lt;dbl&gt;</th></tr>\n",
       "</thead>\n",
       "<tbody>\n",
       "\t<tr><td>0.002</td></tr>\n",
       "</tbody>\n",
       "</table>\n"
      ],
      "text/latex": [
       "A tibble: 1 × 1\n",
       "\\begin{tabular}{l}\n",
       " p\\_value\\\\\n",
       " <dbl>\\\\\n",
       "\\hline\n",
       "\t 0.002\\\\\n",
       "\\end{tabular}\n"
      ],
      "text/markdown": [
       "\n",
       "A tibble: 1 × 1\n",
       "\n",
       "| p_value &lt;dbl&gt; |\n",
       "|---|\n",
       "| 0.002 |\n",
       "\n"
      ],
      "text/plain": [
       "  p_value\n",
       "1 0.002  "
      ]
     },
     "metadata": {},
     "output_type": "display_data"
    }
   ],
   "source": [
    "permuted %>%\n",
    "    get_p_value(obs_stat = observed, direction = \"two-sided\")"
   ]
  },
  {
   "cell_type": "code",
   "execution_count": 65,
   "id": "8a4b89a1",
   "metadata": {},
   "outputs": [
    {
     "data": {
      "text/html": [
       "<table class=\"dataframe\">\n",
       "<caption>A tibble: 1 × 1</caption>\n",
       "<thead>\n",
       "\t<tr><th scope=col>p_value</th></tr>\n",
       "\t<tr><th scope=col>&lt;dbl&gt;</th></tr>\n",
       "</thead>\n",
       "<tbody>\n",
       "\t<tr><td>0.002</td></tr>\n",
       "</tbody>\n",
       "</table>\n"
      ],
      "text/latex": [
       "A tibble: 1 × 1\n",
       "\\begin{tabular}{l}\n",
       " p\\_value\\\\\n",
       " <dbl>\\\\\n",
       "\\hline\n",
       "\t 0.002\\\\\n",
       "\\end{tabular}\n"
      ],
      "text/markdown": [
       "\n",
       "A tibble: 1 × 1\n",
       "\n",
       "| p_value &lt;dbl&gt; |\n",
       "|---|\n",
       "| 0.002 |\n",
       "\n"
      ],
      "text/plain": [
       "  p_value\n",
       "1 0.002  "
      ]
     },
     "metadata": {},
     "output_type": "display_data"
    }
   ],
   "source": [
    "permuted %>%\n",
    "    get_p_value(obs_stat = observed, direction = \"two-sided\")"
   ]
  },
  {
   "cell_type": "markdown",
   "id": "d6e7675e",
   "metadata": {},
   "source": [
    "<br>\n",
    "\n",
    "## 18.02. 로그-선형 모델\n"
   ]
  },
  {
   "cell_type": "markdown",
   "id": "6642a25d",
   "metadata": {},
   "source": [
    "<br>\n",
    "\n",
    "### 일반화 선형회귀모델\n",
    "\n",
    "- `art`가 포아송 분포를 따른다는 가정하에서의, 일반화 선형회귀 (GLM)"
   ]
  },
  {
   "cell_type": "markdown",
   "id": "9932ea7c",
   "metadata": {},
   "source": [
    "$$\\log(\\lambda) = \\beta_0 + \\beta_1x_1 + \\ldots + \\beta_px_p$$"
   ]
  },
  {
   "cell_type": "markdown",
   "id": "82516e42",
   "metadata": {},
   "source": [
    "<br>\n",
    "\n",
    "#### GLM 방식"
   ]
  },
  {
   "cell_type": "code",
   "execution_count": 68,
   "id": "38192ab1",
   "metadata": {},
   "outputs": [],
   "source": [
    "library(poissonreg)"
   ]
  },
  {
   "cell_type": "code",
   "execution_count": 69,
   "id": "22652975",
   "metadata": {},
   "outputs": [],
   "source": [
    "log_lin_spec <- poisson_reg()"
   ]
  },
  {
   "cell_type": "code",
   "execution_count": 72,
   "id": "ec81b0f8",
   "metadata": {},
   "outputs": [],
   "source": [
    "log_lin_fit <-  log_lin_spec %>% fit(art ~ ., data = bioChemists)"
   ]
  },
  {
   "cell_type": "markdown",
   "id": "be327dcf",
   "metadata": {},
   "source": [
    "- 각 설명변수별 회귀계수 $\\beta_j$에 대한 p-value는 아래의 검정에 대한 p-value\n",
    "\n",
    "$$\\begin{align}\n",
    "H_0&: \\beta_j = 0 \\notag \\\\\n",
    "H_a&: \\beta_j \\ne 0 \\notag\n",
    "\\end{align}$$\n",
    "\n",
    "- `phd`변수는 유의하지 않은 변수"
   ]
  },
  {
   "cell_type": "code",
   "execution_count": 73,
   "id": "22d84a7f",
   "metadata": {},
   "outputs": [
    {
     "data": {
      "text/html": [
       "<table class=\"dataframe\">\n",
       "<caption>A tibble: 6 × 5</caption>\n",
       "<thead>\n",
       "\t<tr><th scope=col>term</th><th scope=col>estimate</th><th scope=col>std.error</th><th scope=col>statistic</th><th scope=col>p.value</th></tr>\n",
       "\t<tr><th scope=col>&lt;chr&gt;</th><th scope=col>&lt;dbl&gt;</th><th scope=col>&lt;dbl&gt;</th><th scope=col>&lt;dbl&gt;</th><th scope=col>&lt;dbl&gt;</th></tr>\n",
       "</thead>\n",
       "<tbody>\n",
       "\t<tr><td>(Intercept)</td><td> 0.30461683</td><td>0.102981443</td><td> 2.9579779</td><td>3.096643e-03</td></tr>\n",
       "\t<tr><td>femWomen   </td><td>-0.22459423</td><td>0.054613488</td><td>-4.1124315</td><td>3.915137e-05</td></tr>\n",
       "\t<tr><td>marMarried </td><td> 0.15524338</td><td>0.061374395</td><td> 2.5294487</td><td>1.142419e-02</td></tr>\n",
       "\t<tr><td>kid5       </td><td>-0.18488270</td><td>0.040126898</td><td>-4.6074506</td><td>4.076360e-06</td></tr>\n",
       "\t<tr><td>phd        </td><td> 0.01282258</td><td>0.026397045</td><td> 0.4857582</td><td>6.271386e-01</td></tr>\n",
       "\t<tr><td>ment       </td><td> 0.02554275</td><td>0.002006073</td><td>12.7327095</td><td>3.890982e-37</td></tr>\n",
       "</tbody>\n",
       "</table>\n"
      ],
      "text/latex": [
       "A tibble: 6 × 5\n",
       "\\begin{tabular}{lllll}\n",
       " term & estimate & std.error & statistic & p.value\\\\\n",
       " <chr> & <dbl> & <dbl> & <dbl> & <dbl>\\\\\n",
       "\\hline\n",
       "\t (Intercept) &  0.30461683 & 0.102981443 &  2.9579779 & 3.096643e-03\\\\\n",
       "\t femWomen    & -0.22459423 & 0.054613488 & -4.1124315 & 3.915137e-05\\\\\n",
       "\t marMarried  &  0.15524338 & 0.061374395 &  2.5294487 & 1.142419e-02\\\\\n",
       "\t kid5        & -0.18488270 & 0.040126898 & -4.6074506 & 4.076360e-06\\\\\n",
       "\t phd         &  0.01282258 & 0.026397045 &  0.4857582 & 6.271386e-01\\\\\n",
       "\t ment        &  0.02554275 & 0.002006073 & 12.7327095 & 3.890982e-37\\\\\n",
       "\\end{tabular}\n"
      ],
      "text/markdown": [
       "\n",
       "A tibble: 6 × 5\n",
       "\n",
       "| term &lt;chr&gt; | estimate &lt;dbl&gt; | std.error &lt;dbl&gt; | statistic &lt;dbl&gt; | p.value &lt;dbl&gt; |\n",
       "|---|---|---|---|---|\n",
       "| (Intercept) |  0.30461683 | 0.102981443 |  2.9579779 | 3.096643e-03 |\n",
       "| femWomen    | -0.22459423 | 0.054613488 | -4.1124315 | 3.915137e-05 |\n",
       "| marMarried  |  0.15524338 | 0.061374395 |  2.5294487 | 1.142419e-02 |\n",
       "| kid5        | -0.18488270 | 0.040126898 | -4.6074506 | 4.076360e-06 |\n",
       "| phd         |  0.01282258 | 0.026397045 |  0.4857582 | 6.271386e-01 |\n",
       "| ment        |  0.02554275 | 0.002006073 | 12.7327095 | 3.890982e-37 |\n",
       "\n"
      ],
      "text/plain": [
       "  term        estimate    std.error   statistic  p.value     \n",
       "1 (Intercept)  0.30461683 0.102981443  2.9579779 3.096643e-03\n",
       "2 femWomen    -0.22459423 0.054613488 -4.1124315 3.915137e-05\n",
       "3 marMarried   0.15524338 0.061374395  2.5294487 1.142419e-02\n",
       "4 kid5        -0.18488270 0.040126898 -4.6074506 4.076360e-06\n",
       "5 phd          0.01282258 0.026397045  0.4857582 6.271386e-01\n",
       "6 ment         0.02554275 0.002006073 12.7327095 3.890982e-37"
      ]
     },
     "metadata": {},
     "output_type": "display_data"
    }
   ],
   "source": [
    "log_lin_fit %>% tidy()"
   ]
  },
  {
   "cell_type": "markdown",
   "id": "dca13f47",
   "metadata": {},
   "source": [
    "<br>\n",
    "\n",
    "#### 부트스트랩 방식\n",
    "- 각 회귀계수에 대한 부트스트랩 분포\n",
    "- **`phd`변수의 신뢰구간은 0을 포함 $\\rightarrow$ 유의하지 않음을 의미**"
   ]
  },
  {
   "cell_type": "code",
   "execution_count": 75,
   "id": "f07f6127",
   "metadata": {},
   "outputs": [],
   "source": [
    "set.seed(2103)"
   ]
  },
  {
   "cell_type": "code",
   "execution_count": 76,
   "id": "c0224191",
   "metadata": {},
   "outputs": [
    {
     "data": {
      "text/html": [
       "<table class=\"dataframe\">\n",
       "<caption>A tibble: 5 × 6</caption>\n",
       "<thead>\n",
       "\t<tr><th scope=col>term</th><th scope=col>.lower</th><th scope=col>.estimate</th><th scope=col>.upper</th><th scope=col>.alpha</th><th scope=col>.method</th></tr>\n",
       "\t<tr><th scope=col>&lt;chr&gt;</th><th scope=col>&lt;dbl&gt;</th><th scope=col>&lt;dbl&gt;</th><th scope=col>&lt;dbl&gt;</th><th scope=col>&lt;dbl&gt;</th><th scope=col>&lt;chr&gt;</th></tr>\n",
       "</thead>\n",
       "<tbody>\n",
       "\t<tr><td>femWomen  </td><td>-0.3578439236</td><td>-0.22586387</td><td>-0.08560531</td><td>0.05</td><td>student-t</td></tr>\n",
       "\t<tr><td>kid5      </td><td>-0.2983361090</td><td>-0.18424684</td><td>-0.07885309</td><td>0.05</td><td>student-t</td></tr>\n",
       "\t<tr><td>marMarried</td><td> 0.0002642048</td><td> 0.15481715</td><td> 0.31744224</td><td>0.05</td><td>student-t</td></tr>\n",
       "\t<tr><td>ment      </td><td> 0.0181749990</td><td> 0.02563583</td><td> 0.03220318</td><td>0.05</td><td>student-t</td></tr>\n",
       "\t<tr><td>phd       </td><td>-0.0706807825</td><td> 0.01300334</td><td> 0.10191467</td><td>0.05</td><td>student-t</td></tr>\n",
       "</tbody>\n",
       "</table>\n"
      ],
      "text/latex": [
       "A tibble: 5 × 6\n",
       "\\begin{tabular}{llllll}\n",
       " term & .lower & .estimate & .upper & .alpha & .method\\\\\n",
       " <chr> & <dbl> & <dbl> & <dbl> & <dbl> & <chr>\\\\\n",
       "\\hline\n",
       "\t femWomen   & -0.3578439236 & -0.22586387 & -0.08560531 & 0.05 & student-t\\\\\n",
       "\t kid5       & -0.2983361090 & -0.18424684 & -0.07885309 & 0.05 & student-t\\\\\n",
       "\t marMarried &  0.0002642048 &  0.15481715 &  0.31744224 & 0.05 & student-t\\\\\n",
       "\t ment       &  0.0181749990 &  0.02563583 &  0.03220318 & 0.05 & student-t\\\\\n",
       "\t phd        & -0.0706807825 &  0.01300334 &  0.10191467 & 0.05 & student-t\\\\\n",
       "\\end{tabular}\n"
      ],
      "text/markdown": [
       "\n",
       "A tibble: 5 × 6\n",
       "\n",
       "| term &lt;chr&gt; | .lower &lt;dbl&gt; | .estimate &lt;dbl&gt; | .upper &lt;dbl&gt; | .alpha &lt;dbl&gt; | .method &lt;chr&gt; |\n",
       "|---|---|---|---|---|---|\n",
       "| femWomen   | -0.3578439236 | -0.22586387 | -0.08560531 | 0.05 | student-t |\n",
       "| kid5       | -0.2983361090 | -0.18424684 | -0.07885309 | 0.05 | student-t |\n",
       "| marMarried |  0.0002642048 |  0.15481715 |  0.31744224 | 0.05 | student-t |\n",
       "| ment       |  0.0181749990 |  0.02563583 |  0.03220318 | 0.05 | student-t |\n",
       "| phd        | -0.0706807825 |  0.01300334 |  0.10191467 | 0.05 | student-t |\n",
       "\n"
      ],
      "text/plain": [
       "  term       .lower        .estimate   .upper      .alpha .method  \n",
       "1 femWomen   -0.3578439236 -0.22586387 -0.08560531 0.05   student-t\n",
       "2 kid5       -0.2983361090 -0.18424684 -0.07885309 0.05   student-t\n",
       "3 marMarried  0.0002642048  0.15481715  0.31744224 0.05   student-t\n",
       "4 ment        0.0181749990  0.02563583  0.03220318 0.05   student-t\n",
       "5 phd        -0.0706807825  0.01300334  0.10191467 0.05   student-t"
      ]
     },
     "metadata": {},
     "output_type": "display_data"
    }
   ],
   "source": [
    "glm_boot <- reg_intervals(art ~ ., data = bioChemists, model_fn = \"glm\", family = poisson)\n",
    "glm_boot"
   ]
  },
  {
   "cell_type": "markdown",
   "id": "1cda2991",
   "metadata": {},
   "source": [
    "<br>\n",
    "\n",
    "#### GLM방식과 부트스트랩 방식의 각 회귀계수별 신뢰구간 비교"
   ]
  },
  {
   "cell_type": "code",
   "execution_count": 77,
   "id": "c5b56b76",
   "metadata": {},
   "outputs": [
    {
     "data": {
      "image/png": "[encoded data removed]",
      "text/plain": [
       "plot without title"
      ]
     },
     "metadata": {
      "image/png": {
       "height": 420,
       "width": 420
      }
     },
     "output_type": "display_data"
    }
   ],
   "source": [
    "glm_boot %>% \n",
    "    select(term, method = .method, .estimate, .lower, .upper) %>% \n",
    "    bind_rows(\n",
    "        tidy(log_lin_fit, conf.int = TRUE, conf.level = 0.90) %>% \n",
    "            filter(term != \"(Intercept)\") %>% \n",
    "            mutate(method = \"parametric\") %>% \n",
    "            select(term, method, .estimate = estimate, .lower = conf.low, .upper = conf.high)\n",
    "    )%>%\n",
    "    ggplot(aes(x = .estimate, y = term, color = method, pch = method)) +\n",
    "    geom_vline(xintercept = 0, lty = 3) +\n",
    "    geom_point(size = 2.5, position = position_dodge(width = 1 / 2)) +\n",
    "    geom_errorbar(aes(xmin = .lower, xmax = .upper),\n",
    "                  width = 1 / 4,\n",
    "                  position = position_dodge(width = 1 / 2))  +\n",
    "    labs(x = \"GLM coefficients\", y = NULL, color = NULL, pch = NULL) + \n",
    "    scale_color_brewer(palette = \"Paired\")"
   ]
  },
  {
   "cell_type": "markdown",
   "id": "9471cf5c",
   "metadata": {},
   "source": [
    "<br>\n",
    "\n",
    "### 변수 선택\n",
    "\n",
    "<br>\n",
    "\n",
    "#### 우도비 검정\n",
    "- 우도비검정(Likelihood Ratio Test, LRT)은 두 개 이상의 통계 모델 간에 어느 것이 더 데이터를 잘 설명하는지를 평가하는 통계적 검정 방법\n",
    "- 주로 모델 간 비교나 모델의 적합성을 평가할 때 사용\n",
    "\n",
    "<br>\n",
    "\n",
    "- **중첩모델 간에 우도비 검정 (LRT)를 수행**\n",
    "    - 모델 1 : `phd`가 제외된 모델\n",
    "    - 모델 2 : `phd`가 포함된 모델\n",
    "    "
   ]
  },
  {
   "cell_type": "markdown",
   "id": "ff17da18",
   "metadata": {},
   "source": [
    "$$\\begin{align}\n",
    "H_0&: \\beta_{phd} = 0 \\notag \\\\\n",
    "H_a&: \\beta_{phd} \\ne 0 \\notag\n",
    "\\end{align}$$"
   ]
  },
  {
   "cell_type": "code",
   "execution_count": 78,
   "id": "f78ed233",
   "metadata": {},
   "outputs": [],
   "source": [
    "log_lin_reduced <- log_lin_spec %>% \n",
    "    fit(art ~ ment + kid5 + fem + mar, data = bioChemists)"
   ]
  },
  {
   "cell_type": "markdown",
   "id": "7d71b503",
   "metadata": {},
   "source": [
    "#### 두 모델간 우도비 검정\n",
    "- **p-value > 0.05 $\\rightarrow$ 귀무가설 채택**"
   ]
  },
  {
   "cell_type": "code",
   "execution_count": 81,
   "id": "a0d1533e",
   "metadata": {},
   "outputs": [
    {
     "data": {
      "text/html": [
       "<table class=\"dataframe\">\n",
       "<caption>A tibble: 2 × 6</caption>\n",
       "<thead>\n",
       "\t<tr><th scope=col>term</th><th scope=col>df.residual</th><th scope=col>residual.deviance</th><th scope=col>df</th><th scope=col>deviance</th><th scope=col>p.value</th></tr>\n",
       "\t<tr><th scope=col>&lt;chr&gt;</th><th scope=col>&lt;dbl&gt;</th><th scope=col>&lt;dbl&gt;</th><th scope=col>&lt;dbl&gt;</th><th scope=col>&lt;dbl&gt;</th><th scope=col>&lt;dbl&gt;</th></tr>\n",
       "</thead>\n",
       "<tbody>\n",
       "\t<tr><td>art ~ ment + kid5 + fem + mar      </td><td>910</td><td>1634.607</td><td>NA</td><td>       NA</td><td>       NA</td></tr>\n",
       "\t<tr><td>art ~ fem + mar + kid5 + phd + ment</td><td>909</td><td>1634.371</td><td> 1</td><td>0.2362028</td><td>0.6269622</td></tr>\n",
       "</tbody>\n",
       "</table>\n"
      ],
      "text/latex": [
       "A tibble: 2 × 6\n",
       "\\begin{tabular}{llllll}\n",
       " term & df.residual & residual.deviance & df & deviance & p.value\\\\\n",
       " <chr> & <dbl> & <dbl> & <dbl> & <dbl> & <dbl>\\\\\n",
       "\\hline\n",
       "\t art \\textasciitilde{} ment + kid5 + fem + mar       & 910 & 1634.607 & NA &        NA &        NA\\\\\n",
       "\t art \\textasciitilde{} fem + mar + kid5 + phd + ment & 909 & 1634.371 &  1 & 0.2362028 & 0.6269622\\\\\n",
       "\\end{tabular}\n"
      ],
      "text/markdown": [
       "\n",
       "A tibble: 2 × 6\n",
       "\n",
       "| term &lt;chr&gt; | df.residual &lt;dbl&gt; | residual.deviance &lt;dbl&gt; | df &lt;dbl&gt; | deviance &lt;dbl&gt; | p.value &lt;dbl&gt; |\n",
       "|---|---|---|---|---|---|\n",
       "| art ~ ment + kid5 + fem + mar       | 910 | 1634.607 | NA |        NA |        NA |\n",
       "| art ~ fem + mar + kid5 + phd + ment | 909 | 1634.371 |  1 | 0.2362028 | 0.6269622 |\n",
       "\n"
      ],
      "text/plain": [
       "  term                                df.residual residual.deviance df\n",
       "1 art ~ ment + kid5 + fem + mar       910         1634.607          NA\n",
       "2 art ~ fem + mar + kid5 + phd + ment 909         1634.371           1\n",
       "  deviance  p.value  \n",
       "1        NA        NA\n",
       "2 0.2362028 0.6269622"
      ]
     },
     "metadata": {},
     "output_type": "display_data"
    }
   ],
   "source": [
    "anova(\n",
    "    extract_fit_engine(log_lin_reduced),\n",
    "    extract_fit_engine(log_lin_fit),\n",
    "    test = \"LRT\"\n",
    ") %>%\n",
    "    tidy()"
   ]
  },
  {
   "cell_type": "markdown",
   "id": "50ffb054",
   "metadata": {},
   "source": [
    "<br>\n",
    "\n",
    "## 18.04. 더욱 복잡한 모델\n",
    "- **개수 데이터의 경우 관측값이 0인 수가, 포아송 분포에서 규정하는 것 보다 더 큰 경우가 존재**\n",
    "\n",
    "    $\\rightarrow$ **ZIP (Zero-Inflated Poisson, 영-팽창 포아송) 모델**\n",
    "    \n",
    "$$\\lambda = 0 \\pi + (1 - \\pi) \\lambda_{nz}$$\n",
    "\n",
    "- $\\lambda$ : 포아송 분포의 평균에 대한 파라미터\n",
    "- $\\pi$ : 관측값이 0일 확률에 대한 파라미터"
   ]
  },
  {
   "cell_type": "markdown",
   "id": "12a2d7c8",
   "metadata": {},
   "source": [
    "$$\\begin{align}\n",
    "\\log(\\lambda_{nz}) &= \\beta_0 + \\beta_1x_1 + \\ldots + \\beta_px_p \\notag \\\\\n",
    "\\log\\left(\\frac{\\pi}{1-\\pi}\\right) &= \\gamma_0 + \\gamma_1z_1 + \\ldots + \\gamma_qz_q \\notag\n",
    "\\end{align}$$"
   ]
  },
  {
   "cell_type": "markdown",
   "id": "906b041a",
   "metadata": {},
   "source": [
    "- $x$와 $z$는 상호 배타적일 필요는 없음"
   ]
  },
  {
   "cell_type": "code",
   "execution_count": 82,
   "id": "a58a28ea",
   "metadata": {},
   "outputs": [],
   "source": [
    "zero_inflated_spec <- poisson_reg() %>% set_engine(\"zeroinfl\")"
   ]
  },
  {
   "cell_type": "markdown",
   "id": "971ab1b6",
   "metadata": {},
   "source": [
    "- **`fem`, `mar`, `kid5`, `ment`는 모델의 제로-인플레이션 부분 (관측값이 0일 확률)에 대한 적합에 포함**\n",
    "- **`fem`, `mar`, `kid5`, `phd`, `ment`는 ZIP모델의 개수에 대한 적합에 포함**"
   ]
  },
  {
   "cell_type": "code",
   "execution_count": 83,
   "id": "38492d32",
   "metadata": {},
   "outputs": [],
   "source": [
    "zero_inflated_fit <- zero_inflated_spec %>% \n",
    "    fit(art ~ fem + mar + kid5 + ment | fem + mar + kid5 + phd + ment,\n",
    "        data = bioChemists)"
   ]
  },
  {
   "cell_type": "code",
   "execution_count": 88,
   "id": "8fa022bc",
   "metadata": {},
   "outputs": [
    {
     "data": {
      "text/plain": [
       "parsnip model object\n",
       "\n",
       "\n",
       "Call:\n",
       "pscl::zeroinfl(formula = art ~ fem + mar + kid5 + ment | fem + mar + \n",
       "    kid5 + phd + ment, data = data)\n",
       "\n",
       "Count model coefficients (poisson with log link):\n",
       "(Intercept)     femWomen   marMarried         kid5         ment  \n",
       "    0.62116     -0.20907      0.10505     -0.14281      0.01798  \n",
       "\n",
       "Zero-inflation model coefficients (binomial with logit link):\n",
       "(Intercept)     femWomen   marMarried         kid5          phd         ment  \n",
       "   -0.60865      0.10931     -0.35292      0.21946      0.01236     -0.13509  \n"
      ]
     },
     "metadata": {},
     "output_type": "display_data"
    }
   ],
   "source": [
    "zero_inflated_fit"
   ]
  },
  {
   "cell_type": "markdown",
   "id": "7689d57d",
   "metadata": {},
   "source": [
    "<br>\n",
    "\n",
    "#### 모델비교\n",
    "- `phd`가 제거된 축소모델과의 AIC기준 비교"
   ]
  },
  {
   "cell_type": "code",
   "execution_count": 95,
   "id": "ba78a24e",
   "metadata": {},
   "outputs": [
    {
     "data": {
      "text/html": [
       "3231.58524433311"
      ],
      "text/latex": [
       "3231.58524433311"
      ],
      "text/markdown": [
       "3231.58524433311"
      ],
      "text/plain": [
       "[1] 3231.585"
      ]
     },
     "metadata": {},
     "output_type": "display_data"
    }
   ],
   "source": [
    "zero_inflated_fit %>% extract_fit_engine() %>% AIC()"
   ]
  },
  {
   "cell_type": "code",
   "execution_count": 96,
   "id": "5dcfcc88",
   "metadata": {},
   "outputs": [
    {
     "data": {
      "text/html": [
       "3312.34883496857"
      ],
      "text/latex": [
       "3312.34883496857"
      ],
      "text/markdown": [
       "3312.34883496857"
      ],
      "text/plain": [
       "[1] 3312.349"
      ]
     },
     "metadata": {},
     "output_type": "display_data"
    }
   ],
   "source": [
    "log_lin_reduced   %>% extract_fit_engine() %>% AIC()"
   ]
  },
  {
   "cell_type": "markdown",
   "id": "5029bd93",
   "metadata": {},
   "source": [
    "- **하지만 AIC에 따른 비교는, 모델간 실제로 얼마나 다른지 판단하기 어려움**\n",
    "\n",
    "    $\\rightarrow$ **두 모델 각각에 대해 다수의 리샘플링 & 적합을 시행**\n",
    "   "
   ]
  },
  {
   "cell_type": "code",
   "execution_count": 97,
   "id": "5d4ce6ef",
   "metadata": {},
   "outputs": [],
   "source": [
    "zip_form <- art ~ fem + mar + kid5 + ment | fem + mar + kid5 + phd + ment\n",
    "glm_form <- art ~ fem + mar + kid5 + ment"
   ]
  },
  {
   "cell_type": "code",
   "execution_count": 98,
   "id": "46f64428",
   "metadata": {},
   "outputs": [],
   "source": [
    "set.seed(2104)\n",
    "bootstrap_models <- bootstraps(bioChemists, times = 2000, apparent = TRUE) %>%\n",
    "    mutate(\n",
    "        glm = map(splits, ~ fit(log_lin_spec,       glm_form, data = analysis(.x))),\n",
    "        zip = map(splits, ~ fit(zero_inflated_spec, zip_form, data = analysis(.x)))\n",
    "    )"
   ]
  },
  {
   "cell_type": "code",
   "execution_count": 99,
   "id": "64180546",
   "metadata": {},
   "outputs": [
    {
     "name": "stdout",
     "output_type": "stream",
     "text": [
      "# Bootstrap sampling with apparent sample \n",
      "\u001b[90m# A tibble: 2,001 × 4\u001b[39m\n",
      "   splits            id            glm      zip     \n",
      "   \u001b[3m\u001b[90m<list>\u001b[39m\u001b[23m            \u001b[3m\u001b[90m<chr>\u001b[39m\u001b[23m         \u001b[3m\u001b[90m<list>\u001b[39m\u001b[23m   \u001b[3m\u001b[90m<list>\u001b[39m\u001b[23m  \n",
      "\u001b[90m 1\u001b[39m \u001b[90m<split [915/355]>\u001b[39m Bootstrap0001 \u001b[90m<fit[+]>\u001b[39m \u001b[90m<fit[+]>\u001b[39m\n",
      "\u001b[90m 2\u001b[39m \u001b[90m<split [915/333]>\u001b[39m Bootstrap0002 \u001b[90m<fit[+]>\u001b[39m \u001b[90m<fit[+]>\u001b[39m\n",
      "\u001b[90m 3\u001b[39m \u001b[90m<split [915/337]>\u001b[39m Bootstrap0003 \u001b[90m<fit[+]>\u001b[39m \u001b[90m<fit[+]>\u001b[39m\n",
      "\u001b[90m 4\u001b[39m \u001b[90m<split [915/344]>\u001b[39m Bootstrap0004 \u001b[90m<fit[+]>\u001b[39m \u001b[90m<fit[+]>\u001b[39m\n",
      "\u001b[90m 5\u001b[39m \u001b[90m<split [915/351]>\u001b[39m Bootstrap0005 \u001b[90m<fit[+]>\u001b[39m \u001b[90m<fit[+]>\u001b[39m\n",
      "\u001b[90m 6\u001b[39m \u001b[90m<split [915/354]>\u001b[39m Bootstrap0006 \u001b[90m<fit[+]>\u001b[39m \u001b[90m<fit[+]>\u001b[39m\n",
      "\u001b[90m 7\u001b[39m \u001b[90m<split [915/326]>\u001b[39m Bootstrap0007 \u001b[90m<fit[+]>\u001b[39m \u001b[90m<fit[+]>\u001b[39m\n",
      "\u001b[90m 8\u001b[39m \u001b[90m<split [915/336]>\u001b[39m Bootstrap0008 \u001b[90m<fit[+]>\u001b[39m \u001b[90m<fit[+]>\u001b[39m\n",
      "\u001b[90m 9\u001b[39m \u001b[90m<split [915/338]>\u001b[39m Bootstrap0009 \u001b[90m<fit[+]>\u001b[39m \u001b[90m<fit[+]>\u001b[39m\n",
      "\u001b[90m10\u001b[39m \u001b[90m<split [915/349]>\u001b[39m Bootstrap0010 \u001b[90m<fit[+]>\u001b[39m \u001b[90m<fit[+]>\u001b[39m\n",
      "\u001b[90m# ℹ 1,991 more rows\u001b[39m\n"
     ]
    }
   ],
   "source": [
    "print(bootstrap_models)"
   ]
  },
  {
   "cell_type": "markdown",
   "id": "ea75c2bf",
   "metadata": {},
   "source": [
    "- **2000회의 리샘플링과 적합결과, GLM 모델의 AIC가 ZIP 모델의 AIC 보다 대체로 높음**\n",
    "\n",
    "    $\\rightarrow$ **ZIP 모델이 더 좋은 모델**\n",
    "    \n",
    "    $\\rightarrow$ **관측값이 0일 확률/빈도를 설명하는 것이 바람직**"
   ]
  },
  {
   "cell_type": "code",
   "execution_count": 102,
   "id": "aa803876",
   "metadata": {},
   "outputs": [],
   "source": [
    "bootstrap_models <- bootstrap_models %>%\n",
    "    mutate(\n",
    "        glm_aic = map_dbl(glm, ~ extract_fit_engine(.x) %>% AIC()),\n",
    "        zip_aic = map_dbl(zip, ~ extract_fit_engine(.x) %>% AIC())\n",
    "    )"
   ]
  },
  {
   "cell_type": "code",
   "execution_count": 101,
   "id": "2015cd93",
   "metadata": {},
   "outputs": [
    {
     "data": {
      "text/html": [
       "1"
      ],
      "text/latex": [
       "1"
      ],
      "text/markdown": [
       "1"
      ],
      "text/plain": [
       "[1] 1"
      ]
     },
     "metadata": {},
     "output_type": "display_data"
    }
   ],
   "source": [
    "mean(bootstrap_models$zip_aic < bootstrap_models$glm_aic)"
   ]
  },
  {
   "cell_type": "markdown",
   "id": "54a819c3",
   "metadata": {},
   "source": [
    "<br>\n",
    "\n",
    "#### $\\gamma_i$ (관측값이 0일 확률에 영향을 미치는 변수별 계수) 에 대한 부트스트랩 분포"
   ]
  },
  {
   "cell_type": "code",
   "execution_count": 105,
   "id": "7ca3e90d",
   "metadata": {},
   "outputs": [],
   "source": [
    "bootstrap_models <- bootstrap_models %>%\n",
    "    mutate(zero_coefs  = map(zip, ~ tidy(.x, type = \"zero\")))"
   ]
  },
  {
   "cell_type": "code",
   "execution_count": 106,
   "id": "b7a5506a",
   "metadata": {
    "scrolled": true
   },
   "outputs": [
    {
     "data": {
      "text/html": [
       "<table class=\"dataframe\">\n",
       "<caption>A tibble: 6 × 6</caption>\n",
       "<thead>\n",
       "\t<tr><th scope=col>term</th><th scope=col>type</th><th scope=col>estimate</th><th scope=col>std.error</th><th scope=col>statistic</th><th scope=col>p.value</th></tr>\n",
       "\t<tr><th scope=col>&lt;chr&gt;</th><th scope=col>&lt;chr&gt;</th><th scope=col>&lt;dbl&gt;</th><th scope=col>&lt;dbl&gt;</th><th scope=col>&lt;dbl&gt;</th><th scope=col>&lt;dbl&gt;</th></tr>\n",
       "</thead>\n",
       "<tbody>\n",
       "\t<tr><td>(Intercept)</td><td>zero</td><td>-0.12788002</td><td>0.49747649</td><td>-0.2570574</td><td>0.7971344504</td></tr>\n",
       "\t<tr><td>femWomen   </td><td>zero</td><td>-0.07638817</td><td>0.31862045</td><td>-0.2397466</td><td>0.8105267151</td></tr>\n",
       "\t<tr><td>marMarried </td><td>zero</td><td>-0.11217418</td><td>0.36491929</td><td>-0.3073945</td><td>0.7585431262</td></tr>\n",
       "\t<tr><td>kid5       </td><td>zero</td><td> 0.26966773</td><td>0.18607716</td><td> 1.4492253</td><td>0.1472746881</td></tr>\n",
       "\t<tr><td>phd        </td><td>zero</td><td>-0.17816051</td><td>0.13198514</td><td>-1.3498528</td><td>0.1770632017</td></tr>\n",
       "\t<tr><td>ment       </td><td>zero</td><td>-0.12300203</td><td>0.03148446</td><td>-3.9067540</td><td>0.0000935443</td></tr>\n",
       "</tbody>\n",
       "</table>\n"
      ],
      "text/latex": [
       "A tibble: 6 × 6\n",
       "\\begin{tabular}{llllll}\n",
       " term & type & estimate & std.error & statistic & p.value\\\\\n",
       " <chr> & <chr> & <dbl> & <dbl> & <dbl> & <dbl>\\\\\n",
       "\\hline\n",
       "\t (Intercept) & zero & -0.12788002 & 0.49747649 & -0.2570574 & 0.7971344504\\\\\n",
       "\t femWomen    & zero & -0.07638817 & 0.31862045 & -0.2397466 & 0.8105267151\\\\\n",
       "\t marMarried  & zero & -0.11217418 & 0.36491929 & -0.3073945 & 0.7585431262\\\\\n",
       "\t kid5        & zero &  0.26966773 & 0.18607716 &  1.4492253 & 0.1472746881\\\\\n",
       "\t phd         & zero & -0.17816051 & 0.13198514 & -1.3498528 & 0.1770632017\\\\\n",
       "\t ment        & zero & -0.12300203 & 0.03148446 & -3.9067540 & 0.0000935443\\\\\n",
       "\\end{tabular}\n"
      ],
      "text/markdown": [
       "\n",
       "A tibble: 6 × 6\n",
       "\n",
       "| term &lt;chr&gt; | type &lt;chr&gt; | estimate &lt;dbl&gt; | std.error &lt;dbl&gt; | statistic &lt;dbl&gt; | p.value &lt;dbl&gt; |\n",
       "|---|---|---|---|---|---|\n",
       "| (Intercept) | zero | -0.12788002 | 0.49747649 | -0.2570574 | 0.7971344504 |\n",
       "| femWomen    | zero | -0.07638817 | 0.31862045 | -0.2397466 | 0.8105267151 |\n",
       "| marMarried  | zero | -0.11217418 | 0.36491929 | -0.3073945 | 0.7585431262 |\n",
       "| kid5        | zero |  0.26966773 | 0.18607716 |  1.4492253 | 0.1472746881 |\n",
       "| phd         | zero | -0.17816051 | 0.13198514 | -1.3498528 | 0.1770632017 |\n",
       "| ment        | zero | -0.12300203 | 0.03148446 | -3.9067540 | 0.0000935443 |\n",
       "\n"
      ],
      "text/plain": [
       "  term        type estimate    std.error  statistic  p.value     \n",
       "1 (Intercept) zero -0.12788002 0.49747649 -0.2570574 0.7971344504\n",
       "2 femWomen    zero -0.07638817 0.31862045 -0.2397466 0.8105267151\n",
       "3 marMarried  zero -0.11217418 0.36491929 -0.3073945 0.7585431262\n",
       "4 kid5        zero  0.26966773 0.18607716  1.4492253 0.1472746881\n",
       "5 phd         zero -0.17816051 0.13198514 -1.3498528 0.1770632017\n",
       "6 ment        zero -0.12300203 0.03148446 -3.9067540 0.0000935443"
      ]
     },
     "metadata": {},
     "output_type": "display_data"
    }
   ],
   "source": [
    "bootstrap_models$zero_coefs[[1]]"
   ]
  },
  {
   "cell_type": "markdown",
   "id": "f52d63d7",
   "metadata": {},
   "source": [
    "#### 계수별 부트스트랩 분포\n",
    "- `ment`변수 계수의 부트스트랩 분포가 상당히 편향되어있음을 확인"
   ]
  },
  {
   "cell_type": "code",
   "execution_count": 107,
   "id": "e28a6a4a",
   "metadata": {},
   "outputs": [
    {
     "data": {
      "image/png": "[encoded data removed]",
      "text/plain": [
       "plot without title"
      ]
     },
     "metadata": {
      "image/png": {
       "height": 420,
       "width": 420
      }
     },
     "output_type": "display_data"
    }
   ],
   "source": [
    "bootstrap_models %>% \n",
    "    unnest(zero_coefs) %>% \n",
    "    ggplot(aes(x = estimate)) +\n",
    "    geom_histogram(bins = 25, color = \"white\") + \n",
    "    facet_wrap(~ term, scales = \"free_x\") + \n",
    "    geom_vline(xintercept = 0, lty = 2, color = \"gray70\")"
   ]
  },
  {
   "cell_type": "markdown",
   "id": "efbe70f6",
   "metadata": {},
   "source": [
    "#### 각 계수별 부트스트랩 분포에 대한 90% 신뢰구간\n",
    "* 단순 분위수 기준"
   ]
  },
  {
   "cell_type": "code",
   "execution_count": 108,
   "id": "a7c65cdb",
   "metadata": {},
   "outputs": [
    {
     "data": {
      "text/html": [
       "<table class=\"dataframe\">\n",
       "<caption>A tibble: 6 × 6</caption>\n",
       "<thead>\n",
       "\t<tr><th scope=col>term</th><th scope=col>.lower</th><th scope=col>.estimate</th><th scope=col>.upper</th><th scope=col>.alpha</th><th scope=col>.method</th></tr>\n",
       "\t<tr><th scope=col>&lt;chr&gt;</th><th scope=col>&lt;dbl&gt;</th><th scope=col>&lt;dbl&gt;</th><th scope=col>&lt;dbl&gt;</th><th scope=col>&lt;dbl&gt;</th><th scope=col>&lt;chr&gt;</th></tr>\n",
       "</thead>\n",
       "<tbody>\n",
       "\t<tr><td>(Intercept)</td><td>-1.7501413</td><td>-0.62064615</td><td> 0.42303185</td><td>0.05</td><td>percentile</td></tr>\n",
       "\t<tr><td>femWomen   </td><td>-0.5206851</td><td> 0.11460779</td><td> 0.81777870</td><td>0.05</td><td>percentile</td></tr>\n",
       "\t<tr><td>kid5       </td><td>-0.3271187</td><td> 0.21750826</td><td> 0.67680083</td><td>0.05</td><td>percentile</td></tr>\n",
       "\t<tr><td>marMarried </td><td>-1.1976241</td><td>-0.38120660</td><td> 0.36173155</td><td>0.05</td><td>percentile</td></tr>\n",
       "\t<tr><td>ment       </td><td>-0.4007909</td><td>-0.16226628</td><td>-0.05133433</td><td>0.05</td><td>percentile</td></tr>\n",
       "\t<tr><td>phd        </td><td>-0.2761738</td><td> 0.02202415</td><td> 0.32734463</td><td>0.05</td><td>percentile</td></tr>\n",
       "</tbody>\n",
       "</table>\n"
      ],
      "text/latex": [
       "A tibble: 6 × 6\n",
       "\\begin{tabular}{llllll}\n",
       " term & .lower & .estimate & .upper & .alpha & .method\\\\\n",
       " <chr> & <dbl> & <dbl> & <dbl> & <dbl> & <chr>\\\\\n",
       "\\hline\n",
       "\t (Intercept) & -1.7501413 & -0.62064615 &  0.42303185 & 0.05 & percentile\\\\\n",
       "\t femWomen    & -0.5206851 &  0.11460779 &  0.81777870 & 0.05 & percentile\\\\\n",
       "\t kid5        & -0.3271187 &  0.21750826 &  0.67680083 & 0.05 & percentile\\\\\n",
       "\t marMarried  & -1.1976241 & -0.38120660 &  0.36173155 & 0.05 & percentile\\\\\n",
       "\t ment        & -0.4007909 & -0.16226628 & -0.05133433 & 0.05 & percentile\\\\\n",
       "\t phd         & -0.2761738 &  0.02202415 &  0.32734463 & 0.05 & percentile\\\\\n",
       "\\end{tabular}\n"
      ],
      "text/markdown": [
       "\n",
       "A tibble: 6 × 6\n",
       "\n",
       "| term &lt;chr&gt; | .lower &lt;dbl&gt; | .estimate &lt;dbl&gt; | .upper &lt;dbl&gt; | .alpha &lt;dbl&gt; | .method &lt;chr&gt; |\n",
       "|---|---|---|---|---|---|\n",
       "| (Intercept) | -1.7501413 | -0.62064615 |  0.42303185 | 0.05 | percentile |\n",
       "| femWomen    | -0.5206851 |  0.11460779 |  0.81777870 | 0.05 | percentile |\n",
       "| kid5        | -0.3271187 |  0.21750826 |  0.67680083 | 0.05 | percentile |\n",
       "| marMarried  | -1.1976241 | -0.38120660 |  0.36173155 | 0.05 | percentile |\n",
       "| ment        | -0.4007909 | -0.16226628 | -0.05133433 | 0.05 | percentile |\n",
       "| phd         | -0.2761738 |  0.02202415 |  0.32734463 | 0.05 | percentile |\n",
       "\n"
      ],
      "text/plain": [
       "  term        .lower     .estimate   .upper      .alpha .method   \n",
       "1 (Intercept) -1.7501413 -0.62064615  0.42303185 0.05   percentile\n",
       "2 femWomen    -0.5206851  0.11460779  0.81777870 0.05   percentile\n",
       "3 kid5        -0.3271187  0.21750826  0.67680083 0.05   percentile\n",
       "4 marMarried  -1.1976241 -0.38120660  0.36173155 0.05   percentile\n",
       "5 ment        -0.4007909 -0.16226628 -0.05133433 0.05   percentile\n",
       "6 phd         -0.2761738  0.02202415  0.32734463 0.05   percentile"
      ]
     },
     "metadata": {},
     "output_type": "display_data"
    }
   ],
   "source": [
    "bootstrap_models %>% int_pctl(zero_coefs)"
   ]
  },
  {
   "cell_type": "markdown",
   "id": "390f4881",
   "metadata": {},
   "source": [
    "- 표준오차에 기반한 t-분포 기준"
   ]
  },
  {
   "cell_type": "code",
   "execution_count": 109,
   "id": "44bd505e",
   "metadata": {},
   "outputs": [
    {
     "data": {
      "text/html": [
       "<table class=\"dataframe\">\n",
       "<caption>A tibble: 6 × 6</caption>\n",
       "<thead>\n",
       "\t<tr><th scope=col>term</th><th scope=col>.lower</th><th scope=col>.estimate</th><th scope=col>.upper</th><th scope=col>.alpha</th><th scope=col>.method</th></tr>\n",
       "\t<tr><th scope=col>&lt;chr&gt;</th><th scope=col>&lt;dbl&gt;</th><th scope=col>&lt;dbl&gt;</th><th scope=col>&lt;dbl&gt;</th><th scope=col>&lt;dbl&gt;</th><th scope=col>&lt;chr&gt;</th></tr>\n",
       "</thead>\n",
       "<tbody>\n",
       "\t<tr><td>(Intercept)</td><td>-1.6092848</td><td>-0.62064615</td><td> 0.32145933</td><td>0.05</td><td>student-t</td></tr>\n",
       "\t<tr><td>femWomen   </td><td>-0.4820965</td><td> 0.11460779</td><td> 0.67112707</td><td>0.05</td><td>student-t</td></tr>\n",
       "\t<tr><td>kid5       </td><td>-0.2110739</td><td> 0.21750826</td><td> 0.59919229</td><td>0.05</td><td>student-t</td></tr>\n",
       "\t<tr><td>marMarried </td><td>-0.9878914</td><td>-0.38120660</td><td> 0.28955851</td><td>0.05</td><td>student-t</td></tr>\n",
       "\t<tr><td>ment       </td><td>-0.3235951</td><td>-0.16226628</td><td>-0.02753581</td><td>0.05</td><td>student-t</td></tr>\n",
       "\t<tr><td>phd        </td><td>-0.2738723</td><td> 0.02202415</td><td> 0.29060585</td><td>0.05</td><td>student-t</td></tr>\n",
       "</tbody>\n",
       "</table>\n"
      ],
      "text/latex": [
       "A tibble: 6 × 6\n",
       "\\begin{tabular}{llllll}\n",
       " term & .lower & .estimate & .upper & .alpha & .method\\\\\n",
       " <chr> & <dbl> & <dbl> & <dbl> & <dbl> & <chr>\\\\\n",
       "\\hline\n",
       "\t (Intercept) & -1.6092848 & -0.62064615 &  0.32145933 & 0.05 & student-t\\\\\n",
       "\t femWomen    & -0.4820965 &  0.11460779 &  0.67112707 & 0.05 & student-t\\\\\n",
       "\t kid5        & -0.2110739 &  0.21750826 &  0.59919229 & 0.05 & student-t\\\\\n",
       "\t marMarried  & -0.9878914 & -0.38120660 &  0.28955851 & 0.05 & student-t\\\\\n",
       "\t ment        & -0.3235951 & -0.16226628 & -0.02753581 & 0.05 & student-t\\\\\n",
       "\t phd         & -0.2738723 &  0.02202415 &  0.29060585 & 0.05 & student-t\\\\\n",
       "\\end{tabular}\n"
      ],
      "text/markdown": [
       "\n",
       "A tibble: 6 × 6\n",
       "\n",
       "| term &lt;chr&gt; | .lower &lt;dbl&gt; | .estimate &lt;dbl&gt; | .upper &lt;dbl&gt; | .alpha &lt;dbl&gt; | .method &lt;chr&gt; |\n",
       "|---|---|---|---|---|---|\n",
       "| (Intercept) | -1.6092848 | -0.62064615 |  0.32145933 | 0.05 | student-t |\n",
       "| femWomen    | -0.4820965 |  0.11460779 |  0.67112707 | 0.05 | student-t |\n",
       "| kid5        | -0.2110739 |  0.21750826 |  0.59919229 | 0.05 | student-t |\n",
       "| marMarried  | -0.9878914 | -0.38120660 |  0.28955851 | 0.05 | student-t |\n",
       "| ment        | -0.3235951 | -0.16226628 | -0.02753581 | 0.05 | student-t |\n",
       "| phd         | -0.2738723 |  0.02202415 |  0.29060585 | 0.05 | student-t |\n",
       "\n"
      ],
      "text/plain": [
       "  term        .lower     .estimate   .upper      .alpha .method  \n",
       "1 (Intercept) -1.6092848 -0.62064615  0.32145933 0.05   student-t\n",
       "2 femWomen    -0.4820965  0.11460779  0.67112707 0.05   student-t\n",
       "3 kid5        -0.2110739  0.21750826  0.59919229 0.05   student-t\n",
       "4 marMarried  -0.9878914 -0.38120660  0.28955851 0.05   student-t\n",
       "5 ment        -0.3235951 -0.16226628 -0.02753581 0.05   student-t\n",
       "6 phd         -0.2738723  0.02202415  0.29060585 0.05   student-t"
      ]
     },
     "metadata": {},
     "output_type": "display_data"
    }
   ],
   "source": [
    "bootstrap_models %>% int_t(zero_coefs)"
   ]
  }
 ],
 "metadata": {
  "kernelspec": {
   "display_name": "R-4.3.2",
   "language": "R",
   "name": "ir"
  },
  "language_info": {
   "codemirror_mode": "r",
   "file_extension": ".r",
   "mimetype": "text/x-r-source",
   "name": "R",
   "pygments_lexer": "r",
   "version": "4.3.2"
  }
 },
 "nbformat": 4,
 "nbformat_minor": 5
}
