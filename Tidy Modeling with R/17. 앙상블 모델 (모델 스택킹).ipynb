{
 "cells": [
  {
   "cell_type": "markdown",
   "id": "6e65dce3",
   "metadata": {},
   "source": [
    "# 17. 앙상블 모델\n",
    "- 여러 예측을 집계하여 하나의 예측을 만드는 앙상블 모델은 고성능의 최종 모델을 생성할 수 있음\n",
    "- 앙상블 모델을 만드는 데 가장 널리 사용되는 방법은 배깅 ( Breiman 1996a ) , 랜덤 포레스트 ( Ho 1995 ; Breiman 2001a ) 및 부스팅 ( Freund and Schapire 1997 )\n",
    "- 이러한 각 방법은 동일한 유형의 모델(예: 분류 트리)의 여러 버전에서 얻은 예측을 결합\n",
    "- 그러나 앙상블을 생성하는 가장 초기 방법 중 하나는 모델 스택킹 (Model Stacking)\n",
    "- 모델 스택킹은 모든 유형의 여러 모델에 대한 예측을 결합\n",
    "    - 예) 로지스틱 회귀, 분류 트리 및 SVM이 스태킹 앙상블에 포함될 수 있음"
   ]
  },
  {
   "cell_type": "code",
   "execution_count": 3,
   "id": "963f8635",
   "metadata": {},
   "outputs": [],
   "source": [
    "library(tidymodels)\n",
    "library(rules)\n",
    "library(baguette)\n",
    "library(stacks)\n",
    "library(patchwork)\n",
    "library(kableExtra)"
   ]
  },
  {
   "cell_type": "code",
   "execution_count": 4,
   "id": "659c41fc",
   "metadata": {},
   "outputs": [],
   "source": [
    "load(\"concrete_results.RData\")"
   ]
  },
  {
   "cell_type": "markdown",
   "id": "82425162",
   "metadata": {},
   "source": [
    "<br>\n",
    "\n",
    "### 스택 앙상블 구축 과정\n",
    "1. 훈련 데이터에 대한 예측값을 결합\n",
    "2. 예측을 혼합하는 모델 구축\n",
    "3. 앙상블의 각 모델에 대해 원래 훈련 데이터를 적합"
   ]
  },
  {
   "cell_type": "markdown",
   "id": "ce76284f",
   "metadata": {},
   "source": [
    "<br>\n",
    "\n",
    "## 17.01. 스택킹을 위한 훈련 데이터\n",
    "* **앙상블 모델을 구축하는 첫 단계는, 여러 분할을 사용한 리샘플링 방식의 테스트 데이터에 대한 예측에 의존**\n",
    "* **스택킹의 첫 번째 단계는 각 후보모델들별 훈련 데이터에 대한 예측결과를 조합하는 것**"
   ]
  },
  {
   "cell_type": "code",
   "execution_count": 5,
   "id": "34c5ad66",
   "metadata": {},
   "outputs": [
    {
     "data": {
      "text/plain": [
       "<Analysis/Assess/Total>\n",
       "<743/249/992>"
      ]
     },
     "metadata": {},
     "output_type": "display_data"
    }
   ],
   "source": [
    "concrete_split"
   ]
  },
  {
   "cell_type": "markdown",
   "id": "0d87e886",
   "metadata": {},
   "source": [
    "- 5번의 10-foldCV인 경우, 이 리샘플링 방식은 훈련 데이터에 대한 예측을 5번 생성\n",
    "\n",
    "    (다른 리샘플링 방식(부트스트래핑 등)에서는 OOB에 대한 예측이 발생)\n",
    "    \n",
    "<br>\n",
    "\n",
    "- **각 모델별, 각 서치별, 훈련 데이터의 각 데이터 포인트에 대한 예측값**\n",
    "    \n",
    "    **(분류모델의 경우 분류확률)**"
   ]
  },
  {
   "cell_type": "markdown",
   "id": "1fd19ce5",
   "metadata": {},
   "source": [
    "<table class=\"table table-striped\" style=\"margin-left: auto; margin-right: auto;\">\n",
    "<caption></caption>\n",
    " <thead>\n",
    "<tr>\n",
    "<th style=\"empty-cells: hide;border-bottom:hidden;\" colspan=\"1\"></th>\n",
    "<th style=\"border-bottom:hidden;padding-bottom:0; padding-left:3px;padding-right:3px;text-align: center; \" colspan=\"7\"><div style=\"border-bottom: 1px solid #ddd; padding-bottom: 5px; \">Ensemble Candidate Predictions</div></th>\n",
    "</tr>\n",
    "  <tr>\n",
    "   <th style=\"text-align:center;text-align: center;\"> Sample # </th>\n",
    "   <th style=\"text-align:center;text-align: center;\"> Bagged Tree </th>\n",
    "   <th style=\"text-align:center;text-align: center;\"> MARS 1 </th>\n",
    "   <th style=\"text-align:center;text-align: center;\"> MARS 2 </th>\n",
    "   <th style=\"text-align:center;text-align: center;\"> Cubist 1 </th>\n",
    "   <th style=\"text-align:center;text-align: center;\"> ... </th>\n",
    "   <th style=\"text-align:center;text-align: center;\"> Cubist 25 </th>\n",
    "   <th style=\"text-align:center;text-align: center;\"> ... </th>\n",
    "  </tr>\n",
    " </thead>\n",
    "<tbody>\n",
    "  <tr>\n",
    "   <td style=\"text-align:center;\"> 1 </td>\n",
    "   <td style=\"text-align:center;\"> 25.18 </td>\n",
    "   <td style=\"text-align:center;\"> 17.92 </td>\n",
    "   <td style=\"text-align:center;\"> 17.21 </td>\n",
    "   <td style=\"text-align:center;\"> 17.79 </td>\n",
    "   <td style=\"text-align:center;\">  </td>\n",
    "   <td style=\"text-align:center;\"> 17.82 </td>\n",
    "   <td style=\"text-align:center;\">  </td>\n",
    "  </tr>\n",
    "  <tr>\n",
    "   <td style=\"text-align:center;\"> 2 </td>\n",
    "   <td style=\"text-align:center;\"> 5.18 </td>\n",
    "   <td style=\"text-align:center;\"> -1.77 </td>\n",
    "   <td style=\"text-align:center;\"> -0.74 </td>\n",
    "   <td style=\"text-align:center;\"> 2.83 </td>\n",
    "   <td style=\"text-align:center;\">  </td>\n",
    "   <td style=\"text-align:center;\"> 3.87 </td>\n",
    "   <td style=\"text-align:center;\">  </td>\n",
    "  </tr>\n",
    "  <tr>\n",
    "   <td style=\"text-align:center;\"> 3 </td>\n",
    "   <td style=\"text-align:center;\"> 9.71 </td>\n",
    "   <td style=\"text-align:center;\"> 7.26 </td>\n",
    "   <td style=\"text-align:center;\"> 5.91 </td>\n",
    "   <td style=\"text-align:center;\"> 6.31 </td>\n",
    "   <td style=\"text-align:center;\">  </td>\n",
    "   <td style=\"text-align:center;\"> 8.60 </td>\n",
    "   <td style=\"text-align:center;\">  </td>\n",
    "  </tr>\n",
    "  <tr>\n",
    "   <td style=\"text-align:center;\"> 4 </td>\n",
    "   <td style=\"text-align:center;\"> 25.21 </td>\n",
    "   <td style=\"text-align:center;\"> 20.93 </td>\n",
    "   <td style=\"text-align:center;\"> 21.52 </td>\n",
    "   <td style=\"text-align:center;\"> 23.72 </td>\n",
    "   <td style=\"text-align:center;\">  </td>\n",
    "   <td style=\"text-align:center;\"> 21.61 </td>\n",
    "   <td style=\"text-align:center;\">  </td>\n",
    "  </tr>\n",
    "  <tr>\n",
    "   <td style=\"text-align:center;\"> 5 </td>\n",
    "   <td style=\"text-align:center;\"> 6.33 </td>\n",
    "   <td style=\"text-align:center;\"> 1.53 </td>\n",
    "   <td style=\"text-align:center;\"> 0.14 </td>\n",
    "   <td style=\"text-align:center;\"> 3.60 </td>\n",
    "   <td style=\"text-align:center;\">  </td>\n",
    "   <td style=\"text-align:center;\"> 4.57 </td>\n",
    "   <td style=\"text-align:center;\">  </td>\n",
    "  </tr>\n",
    "  <tr>\n",
    "   <td style=\"text-align:center;\"> 6 </td>\n",
    "   <td style=\"text-align:center;\"> 7.88 </td>\n",
    "   <td style=\"text-align:center;\"> 4.88 </td>\n",
    "   <td style=\"text-align:center;\"> 1.74 </td>\n",
    "   <td style=\"text-align:center;\"> 7.69 </td>\n",
    "   <td style=\"text-align:center;\">  </td>\n",
    "   <td style=\"text-align:center;\"> 7.55 </td>\n",
    "   <td style=\"text-align:center;\">  </td>\n",
    "  </tr>\n",
    "</tbody>\n",
    "</table>"
   ]
  },
  {
   "cell_type": "markdown",
   "id": "3b58f41e",
   "metadata": {},
   "source": [
    "<br>\n",
    "\n",
    "#### `stacks()` :  스택킹 객체 생성\n",
    "#### `add_candidates()` : 후보모델결과 객체 적용"
   ]
  },
  {
   "cell_type": "code",
   "execution_count": 6,
   "id": "31fb440e",
   "metadata": {
    "scrolled": true
   },
   "outputs": [
    {
     "name": "stderr",
     "output_type": "stream",
     "text": [
      "Warning message:\n",
      "\"\u001b[1m\u001b[22mPredictions from 1 candidate were identical to those from existing candidates and were removed from the data stack.\"\n",
      "Warning message:\n",
      "\"\u001b[1m\u001b[22mThe inputted `candidates` argument `boosting` generated notes during tuning/resampling. Model stacking may fail due to\n",
      "these issues; see `collect_notes()` (`?tune::collect_notes()`) if so.\"\n",
      "Warning message:\n",
      "\"\u001b[1m\u001b[22mPredictions from 1 candidate were identical to those from existing candidates and were removed from the data stack.\"\n"
     ]
    },
    {
     "data": {
      "text/html": [
       "<table class=\"dataframe\">\n",
       "<caption>A data_stack: 6 × 251</caption>\n",
       "<thead>\n",
       "\t<tr><th scope=col>compressive_strength</th><th scope=col>MARS_1_2</th><th scope=col>MARS_1_1</th><th scope=col>CART_1_23</th><th scope=col>CART_1_13</th><th scope=col>CART_1_06</th><th scope=col>CART_1_10</th><th scope=col>CART_1_18</th><th scope=col>CART_1_19</th><th scope=col>CART_1_16</th><th scope=col>⋯</th><th scope=col>full_quad_KNN_1_19</th><th scope=col>full_quad_KNN_1_04</th><th scope=col>full_quad_KNN_1_23</th><th scope=col>full_quad_KNN_1_15</th><th scope=col>full_quad_KNN_1_16</th><th scope=col>full_quad_KNN_1_06</th><th scope=col>full_quad_KNN_1_14</th><th scope=col>full_quad_KNN_1_02</th><th scope=col>full_quad_KNN_1_20</th><th scope=col>full_quad_KNN_1_17</th></tr>\n",
       "\t<tr><th scope=col>&lt;dbl&gt;</th><th scope=col>&lt;dbl&gt;</th><th scope=col>&lt;dbl&gt;</th><th scope=col>&lt;dbl&gt;</th><th scope=col>&lt;dbl&gt;</th><th scope=col>&lt;dbl&gt;</th><th scope=col>&lt;dbl&gt;</th><th scope=col>&lt;dbl&gt;</th><th scope=col>&lt;dbl&gt;</th><th scope=col>&lt;dbl&gt;</th><th scope=col>⋯</th><th scope=col>&lt;dbl&gt;</th><th scope=col>&lt;dbl&gt;</th><th scope=col>&lt;dbl&gt;</th><th scope=col>&lt;dbl&gt;</th><th scope=col>&lt;dbl&gt;</th><th scope=col>&lt;dbl&gt;</th><th scope=col>&lt;dbl&gt;</th><th scope=col>&lt;dbl&gt;</th><th scope=col>&lt;dbl&gt;</th><th scope=col>&lt;dbl&gt;</th></tr>\n",
       "</thead>\n",
       "<tbody>\n",
       "\t<tr><td>17.28</td><td>17.919848</td><td>17.2084117</td><td>25.741251</td><td>25.460144</td><td>27.402521</td><td>23.102667</td><td>27.248664</td><td>23.454</td><td>26.446324</td><td>⋯</td><td>18.86933</td><td>20.69947</td><td>15.63881</td><td>18.15926</td><td>16.00312</td><td>15.91388</td><td>19.77845</td><td>17.12426</td><td>16.36714</td><td>19.78577</td></tr>\n",
       "\t<tr><td> 2.33</td><td>-1.774467</td><td>-0.7350457</td><td> 6.419286</td><td> 6.419286</td><td> 8.729061</td><td> 4.854667</td><td> 8.729061</td><td> 3.320</td><td> 6.881500</td><td>⋯</td><td>11.22444</td><td>10.78530</td><td>11.94866</td><td>11.70391</td><td>11.05594</td><td>12.17173</td><td>12.98418</td><td>11.87422</td><td>14.67186</td><td>12.48560</td></tr>\n",
       "\t<tr><td>10.09</td><td> 7.255372</td><td> 5.9109187</td><td>12.752462</td><td>12.752462</td><td>12.772014</td><td>11.494167</td><td>13.272135</td><td>10.868</td><td>12.772014</td><td>⋯</td><td>12.08222</td><td>15.69305</td><td>12.98104</td><td>13.47832</td><td>13.29200</td><td>12.75454</td><td>13.31703</td><td>13.81971</td><td>14.34786</td><td>12.04600</td></tr>\n",
       "\t<tr><td>22.35</td><td>20.928945</td><td>21.5174986</td><td>26.170494</td><td>26.170494</td><td>26.673739</td><td>22.492333</td><td>26.684885</td><td>22.202</td><td>28.012739</td><td>⋯</td><td>21.67289</td><td>22.67550</td><td>13.04338</td><td>15.76322</td><td>13.13545</td><td>14.11683</td><td>19.25947</td><td>14.97675</td><td>18.69000</td><td>20.77098</td></tr>\n",
       "\t<tr><td> 3.32</td><td> 1.527351</td><td> 0.1405766</td><td> 6.411016</td><td> 6.411016</td><td> 8.820930</td><td> 7.537667</td><td> 8.799530</td><td> 6.958</td><td> 7.278358</td><td>⋯</td><td>15.78200</td><td>15.75421</td><td>15.12668</td><td>15.60818</td><td>16.71954</td><td>15.27530</td><td>17.85306</td><td>15.64614</td><td>15.66200</td><td>15.56208</td></tr>\n",
       "\t<tr><td> 6.88</td><td> 4.875159</td><td> 1.7426884</td><td> 5.740286</td><td> 5.740286</td><td> 8.546453</td><td> 5.427333</td><td> 8.883534</td><td> 6.888</td><td> 8.639429</td><td>⋯</td><td>14.86867</td><td>19.43519</td><td>16.78442</td><td>16.47687</td><td>16.79720</td><td>15.43927</td><td>18.18778</td><td>18.36281</td><td>14.73643</td><td>14.66310</td></tr>\n",
       "</tbody>\n",
       "</table>\n"
      ],
      "text/latex": [
       "A data\\_stack: 6 × 251\n",
       "\\begin{tabular}{lllllllllllllllllllll}\n",
       " compressive\\_strength & MARS\\_1\\_2 & MARS\\_1\\_1 & CART\\_1\\_23 & CART\\_1\\_13 & CART\\_1\\_06 & CART\\_1\\_10 & CART\\_1\\_18 & CART\\_1\\_19 & CART\\_1\\_16 & ⋯ & full\\_quad\\_KNN\\_1\\_19 & full\\_quad\\_KNN\\_1\\_04 & full\\_quad\\_KNN\\_1\\_23 & full\\_quad\\_KNN\\_1\\_15 & full\\_quad\\_KNN\\_1\\_16 & full\\_quad\\_KNN\\_1\\_06 & full\\_quad\\_KNN\\_1\\_14 & full\\_quad\\_KNN\\_1\\_02 & full\\_quad\\_KNN\\_1\\_20 & full\\_quad\\_KNN\\_1\\_17\\\\\n",
       " <dbl> & <dbl> & <dbl> & <dbl> & <dbl> & <dbl> & <dbl> & <dbl> & <dbl> & <dbl> & ⋯ & <dbl> & <dbl> & <dbl> & <dbl> & <dbl> & <dbl> & <dbl> & <dbl> & <dbl> & <dbl>\\\\\n",
       "\\hline\n",
       "\t 17.28 & 17.919848 & 17.2084117 & 25.741251 & 25.460144 & 27.402521 & 23.102667 & 27.248664 & 23.454 & 26.446324 & ⋯ & 18.86933 & 20.69947 & 15.63881 & 18.15926 & 16.00312 & 15.91388 & 19.77845 & 17.12426 & 16.36714 & 19.78577\\\\\n",
       "\t  2.33 & -1.774467 & -0.7350457 &  6.419286 &  6.419286 &  8.729061 &  4.854667 &  8.729061 &  3.320 &  6.881500 & ⋯ & 11.22444 & 10.78530 & 11.94866 & 11.70391 & 11.05594 & 12.17173 & 12.98418 & 11.87422 & 14.67186 & 12.48560\\\\\n",
       "\t 10.09 &  7.255372 &  5.9109187 & 12.752462 & 12.752462 & 12.772014 & 11.494167 & 13.272135 & 10.868 & 12.772014 & ⋯ & 12.08222 & 15.69305 & 12.98104 & 13.47832 & 13.29200 & 12.75454 & 13.31703 & 13.81971 & 14.34786 & 12.04600\\\\\n",
       "\t 22.35 & 20.928945 & 21.5174986 & 26.170494 & 26.170494 & 26.673739 & 22.492333 & 26.684885 & 22.202 & 28.012739 & ⋯ & 21.67289 & 22.67550 & 13.04338 & 15.76322 & 13.13545 & 14.11683 & 19.25947 & 14.97675 & 18.69000 & 20.77098\\\\\n",
       "\t  3.32 &  1.527351 &  0.1405766 &  6.411016 &  6.411016 &  8.820930 &  7.537667 &  8.799530 &  6.958 &  7.278358 & ⋯ & 15.78200 & 15.75421 & 15.12668 & 15.60818 & 16.71954 & 15.27530 & 17.85306 & 15.64614 & 15.66200 & 15.56208\\\\\n",
       "\t  6.88 &  4.875159 &  1.7426884 &  5.740286 &  5.740286 &  8.546453 &  5.427333 &  8.883534 &  6.888 &  8.639429 & ⋯ & 14.86867 & 19.43519 & 16.78442 & 16.47687 & 16.79720 & 15.43927 & 18.18778 & 18.36281 & 14.73643 & 14.66310\\\\\n",
       "\\end{tabular}\n"
      ],
      "text/markdown": [
       "\n",
       "A data_stack: 6 × 251\n",
       "\n",
       "| compressive_strength &lt;dbl&gt; | MARS_1_2 &lt;dbl&gt; | MARS_1_1 &lt;dbl&gt; | CART_1_23 &lt;dbl&gt; | CART_1_13 &lt;dbl&gt; | CART_1_06 &lt;dbl&gt; | CART_1_10 &lt;dbl&gt; | CART_1_18 &lt;dbl&gt; | CART_1_19 &lt;dbl&gt; | CART_1_16 &lt;dbl&gt; | ⋯ ⋯ | full_quad_KNN_1_19 &lt;dbl&gt; | full_quad_KNN_1_04 &lt;dbl&gt; | full_quad_KNN_1_23 &lt;dbl&gt; | full_quad_KNN_1_15 &lt;dbl&gt; | full_quad_KNN_1_16 &lt;dbl&gt; | full_quad_KNN_1_06 &lt;dbl&gt; | full_quad_KNN_1_14 &lt;dbl&gt; | full_quad_KNN_1_02 &lt;dbl&gt; | full_quad_KNN_1_20 &lt;dbl&gt; | full_quad_KNN_1_17 &lt;dbl&gt; |\n",
       "|---|---|---|---|---|---|---|---|---|---|---|---|---|---|---|---|---|---|---|---|---|\n",
       "| 17.28 | 17.919848 | 17.2084117 | 25.741251 | 25.460144 | 27.402521 | 23.102667 | 27.248664 | 23.454 | 26.446324 | ⋯ | 18.86933 | 20.69947 | 15.63881 | 18.15926 | 16.00312 | 15.91388 | 19.77845 | 17.12426 | 16.36714 | 19.78577 |\n",
       "|  2.33 | -1.774467 | -0.7350457 |  6.419286 |  6.419286 |  8.729061 |  4.854667 |  8.729061 |  3.320 |  6.881500 | ⋯ | 11.22444 | 10.78530 | 11.94866 | 11.70391 | 11.05594 | 12.17173 | 12.98418 | 11.87422 | 14.67186 | 12.48560 |\n",
       "| 10.09 |  7.255372 |  5.9109187 | 12.752462 | 12.752462 | 12.772014 | 11.494167 | 13.272135 | 10.868 | 12.772014 | ⋯ | 12.08222 | 15.69305 | 12.98104 | 13.47832 | 13.29200 | 12.75454 | 13.31703 | 13.81971 | 14.34786 | 12.04600 |\n",
       "| 22.35 | 20.928945 | 21.5174986 | 26.170494 | 26.170494 | 26.673739 | 22.492333 | 26.684885 | 22.202 | 28.012739 | ⋯ | 21.67289 | 22.67550 | 13.04338 | 15.76322 | 13.13545 | 14.11683 | 19.25947 | 14.97675 | 18.69000 | 20.77098 |\n",
       "|  3.32 |  1.527351 |  0.1405766 |  6.411016 |  6.411016 |  8.820930 |  7.537667 |  8.799530 |  6.958 |  7.278358 | ⋯ | 15.78200 | 15.75421 | 15.12668 | 15.60818 | 16.71954 | 15.27530 | 17.85306 | 15.64614 | 15.66200 | 15.56208 |\n",
       "|  6.88 |  4.875159 |  1.7426884 |  5.740286 |  5.740286 |  8.546453 |  5.427333 |  8.883534 |  6.888 |  8.639429 | ⋯ | 14.86867 | 19.43519 | 16.78442 | 16.47687 | 16.79720 | 15.43927 | 18.18778 | 18.36281 | 14.73643 | 14.66310 |\n",
       "\n"
      ],
      "text/plain": [
       "  compressive_strength MARS_1_2  MARS_1_1   CART_1_23 CART_1_13 CART_1_06\n",
       "1 17.28                17.919848 17.2084117 25.741251 25.460144 27.402521\n",
       "2  2.33                -1.774467 -0.7350457  6.419286  6.419286  8.729061\n",
       "3 10.09                 7.255372  5.9109187 12.752462 12.752462 12.772014\n",
       "4 22.35                20.928945 21.5174986 26.170494 26.170494 26.673739\n",
       "5  3.32                 1.527351  0.1405766  6.411016  6.411016  8.820930\n",
       "6  6.88                 4.875159  1.7426884  5.740286  5.740286  8.546453\n",
       "  CART_1_10 CART_1_18 CART_1_19 CART_1_16 ⋯ full_quad_KNN_1_19\n",
       "1 23.102667 27.248664 23.454    26.446324 ⋯ 18.86933          \n",
       "2  4.854667  8.729061  3.320     6.881500 ⋯ 11.22444          \n",
       "3 11.494167 13.272135 10.868    12.772014 ⋯ 12.08222          \n",
       "4 22.492333 26.684885 22.202    28.012739 ⋯ 21.67289          \n",
       "5  7.537667  8.799530  6.958     7.278358 ⋯ 15.78200          \n",
       "6  5.427333  8.883534  6.888     8.639429 ⋯ 14.86867          \n",
       "  full_quad_KNN_1_04 full_quad_KNN_1_23 full_quad_KNN_1_15 full_quad_KNN_1_16\n",
       "1 20.69947           15.63881           18.15926           16.00312          \n",
       "2 10.78530           11.94866           11.70391           11.05594          \n",
       "3 15.69305           12.98104           13.47832           13.29200          \n",
       "4 22.67550           13.04338           15.76322           13.13545          \n",
       "5 15.75421           15.12668           15.60818           16.71954          \n",
       "6 19.43519           16.78442           16.47687           16.79720          \n",
       "  full_quad_KNN_1_06 full_quad_KNN_1_14 full_quad_KNN_1_02 full_quad_KNN_1_20\n",
       "1 15.91388           19.77845           17.12426           16.36714          \n",
       "2 12.17173           12.98418           11.87422           14.67186          \n",
       "3 12.75454           13.31703           13.81971           14.34786          \n",
       "4 14.11683           19.25947           14.97675           18.69000          \n",
       "5 15.27530           17.85306           15.64614           15.66200          \n",
       "6 15.43927           18.18778           18.36281           14.73643          \n",
       "  full_quad_KNN_1_17\n",
       "1 19.78577          \n",
       "2 12.48560          \n",
       "3 12.04600          \n",
       "4 20.77098          \n",
       "5 15.56208          \n",
       "6 14.66310          "
      ]
     },
     "metadata": {},
     "output_type": "display_data"
    }
   ],
   "source": [
    "concrete_stack <- stacks() %>%\n",
    "    add_candidates(grid_results) \n",
    "\n",
    "concrete_stack %>% head()"
   ]
  },
  {
   "cell_type": "markdown",
   "id": "11f23834",
   "metadata": {},
   "source": [
    "<br>\n",
    "\n",
    "## 17.02. 예측 혼합\n",
    "- **훈련 데이터에 대한 후보 모델들의 예측값들은 메타모델링에 사용**\n",
    "    - 메타모델은 어떠한 모델을 사용해도 달성할 수 있으며, 가장 일반적으로 사용되는 모델은 선형회귀, 로지스틱 및 정규화 회귀\n",
    "    - **정규화 회귀 중 라쏘 페널티를 통한 정규화에는 다음의 장점이 존재**\n",
    "        1. **라쏘 페널티를 사용하면 앙상블에서 후보 모델군을 줄일 수 있음**\n",
    "        2. **후보모델들의 예측값들 사이의 상관관계는 매우 높은 경향이 있으며, 정규화는 이 문제를 완화하는데 도움**\n",
    "    - Breiman( 1996b )은 또한 예측을 혼합하기 위해 선형 모델을 사용할 때 혼합 계수를 음수가 아니도록 제한하는 것이 도움이 될 수 있다고 제안\n",
    "\n",
    "<br>\n",
    "\n",
    "#### `blend_predictions()`"
   ]
  },
  {
   "cell_type": "markdown",
   "id": "663a8e8a",
   "metadata": {},
   "source": [
    "#### 라쏘회귀 메타모델\n",
    "\n",
    "<img src ='https://img1.daumcdn.net/thumb/R1280x0/?scode=mtistory2&fname=https%3A%2F%2Fblog.kakaocdn.net%2Fdn%2FAm2CB%2FbtqDp2gAQj1%2FOIwvyVopYyA3yI83vsnBTK%2Fimg.png'>"
   ]
  },
  {
   "cell_type": "markdown",
   "id": "1335fd8b",
   "metadata": {},
   "source": [
    "<br>\n",
    "\n",
    "- 가장 작은 RMSE를 가지는 페널티는 $\\lambda =0.01$"
   ]
  },
  {
   "cell_type": "code",
   "execution_count": 9,
   "id": "26563728",
   "metadata": {},
   "outputs": [
    {
     "data": {
      "image/png": "[encoded data removed]",
      "text/plain": [
       "plot without title"
      ]
     },
     "metadata": {
      "image/png": {
       "height": 420,
       "width": 420
      }
     },
     "output_type": "display_data"
    }
   ],
   "source": [
    "set.seed(2002)\n",
    "ens <- blend_predictions(concrete_stack, penalty = 10^seq(-2, -0.5, length = 20))\n",
    "autoplot(ens)"
   ]
  },
  {
   "cell_type": "code",
   "execution_count": 10,
   "id": "2ce37a13",
   "metadata": {},
   "outputs": [
    {
     "name": "stderr",
     "output_type": "stream",
     "text": [
      "── A stacked ensemble model ─────────────────────────────────────\n",
      "\n",
      "\n",
      "Out of 250 possible candidate members, the ensemble retained 14.\n",
      "\n",
      "Penalty: \u001b[34m0.106246783089404\u001b[39m.\n",
      "\n",
      "Mixture: \u001b[34m1\u001b[39m.\n",
      "\n",
      "\n",
      "The 10 highest weighted members are:\n",
      "\n",
      "Members have not yet been fitted with `fit_members()`.\n"
     ]
    },
    {
     "data": {
      "text/plain": [
       "\u001b[90m# A tibble: 10 × 3\u001b[39m\n",
       "   member              type             weight\n",
       "   \u001b[3m\u001b[90m<chr>\u001b[39m\u001b[23m               \u001b[3m\u001b[90m<chr>\u001b[39m\u001b[23m             \u001b[3m\u001b[90m<dbl>\u001b[39m\u001b[23m\n",
       "\u001b[90m 1\u001b[39m Cubist_1_11         cubist_rules     0.195 \n",
       "\u001b[90m 2\u001b[39m neural_network_1_12 mlp              0.149 \n",
       "\u001b[90m 3\u001b[39m neural_network_1_14 mlp              0.117 \n",
       "\u001b[90m 4\u001b[39m neural_network_1_22 mlp              0.113 \n",
       "\u001b[90m 5\u001b[39m CART_1_19           decision_tree    0.090\u001b[4m9\u001b[24m\n",
       "\u001b[90m 6\u001b[39m boosting_1_20       boost_tree       0.090\u001b[4m3\u001b[24m\n",
       "\u001b[90m 7\u001b[39m neural_network_1_19 mlp              0.074\u001b[4m5\u001b[24m\n",
       "\u001b[90m 8\u001b[39m neural_network_1_18 mlp              0.050\u001b[4m8\u001b[24m\n",
       "\u001b[90m 9\u001b[39m KNN_1_01            nearest_neighbor 0.033\u001b[4m0\u001b[24m\n",
       "\u001b[90m10\u001b[39m neural_network_1_01 mlp              0.030\u001b[4m8\u001b[24m"
      ]
     },
     "metadata": {},
     "output_type": "display_data"
    }
   ],
   "source": [
    "ens"
   ]
  },
  {
   "cell_type": "markdown",
   "id": "42b01646",
   "metadata": {},
   "source": [
    "- 각 모델별 기여도"
   ]
  },
  {
   "cell_type": "code",
   "execution_count": 11,
   "id": "e872d6ab",
   "metadata": {},
   "outputs": [
    {
     "data": {
      "image/png": "[encoded data removed]",
      "text/plain": [
       "plot without title"
      ]
     },
     "metadata": {
      "image/png": {
       "height": 420,
       "width": 420
      }
     },
     "output_type": "display_data"
    }
   ],
   "source": [
    "autoplot(ens, \"weights\") +\n",
    "    geom_text(aes(x = weight + 0.01, label = model), hjust = 0) + \n",
    "    theme(legend.position = \"none\") +\n",
    "    lims(x = c(-0.01, 0.8))"
   ]
  },
  {
   "cell_type": "markdown",
   "id": "5e9466fa",
   "metadata": {},
   "source": [
    "- 메타모델과 메타모델을 구성하는 각 모델별 회귀계수"
   ]
  },
  {
   "cell_type": "code",
   "execution_count": 12,
   "id": "18e3c9c2",
   "metadata": {},
   "outputs": [
    {
     "data": {
      "text/plain": [
       "-1.1549246456945 + (CART_1_19 * 0.0909440277271217) + (CART_bagged_1_1 * \n",
       "    0.00892381722529255) + (boosting_1_20 * 0.090321969779015) + \n",
       "    (boosting_1_14 * 0.0258734639126064) + (Cubist_1_04 * 0.0270181739389463) + \n",
       "    (Cubist_1_11 * 0.195190303702792) + (KNN_1_01 * 0.033045779927939) + \n",
       "    (neural_network_1_22 * 0.113139501859715) + (neural_network_1_18 * \n",
       "    0.0507806133706218) + (neural_network_1_14 * 0.117380237232803) + \n",
       "    (neural_network_1_01 * 0.0307639547143228) + (neural_network_1_02 * \n",
       "    0.0249708175117892) + (neural_network_1_12 * 0.148829105586616) + \n",
       "    (neural_network_1_19 * 0.0744675747540244)"
      ]
     },
     "metadata": {},
     "output_type": "display_data"
    }
   ],
   "source": [
    "ens$equations$numeric$.pred"
   ]
  },
  {
   "cell_type": "code",
   "execution_count": 15,
   "id": "016a3cc4",
   "metadata": {},
   "outputs": [
    {
     "data": {
      "text/html": [
       "<table class=\"dataframe\">\n",
       "<caption>A tibble: 10 × 3</caption>\n",
       "<thead>\n",
       "\t<tr><th scope=col>member</th><th scope=col>type</th><th scope=col>weight</th></tr>\n",
       "\t<tr><th scope=col>&lt;chr&gt;</th><th scope=col>&lt;chr&gt;</th><th scope=col>&lt;dbl&gt;</th></tr>\n",
       "</thead>\n",
       "<tbody>\n",
       "\t<tr><td>Cubist_1_11        </td><td>cubist_rules    </td><td>0.19519030</td></tr>\n",
       "\t<tr><td>neural_network_1_12</td><td>mlp             </td><td>0.14882911</td></tr>\n",
       "\t<tr><td>neural_network_1_14</td><td>mlp             </td><td>0.11738024</td></tr>\n",
       "\t<tr><td>neural_network_1_22</td><td>mlp             </td><td>0.11313950</td></tr>\n",
       "\t<tr><td>CART_1_19          </td><td>decision_tree   </td><td>0.09094403</td></tr>\n",
       "\t<tr><td>boosting_1_20      </td><td>boost_tree      </td><td>0.09032197</td></tr>\n",
       "\t<tr><td>neural_network_1_19</td><td>mlp             </td><td>0.07446757</td></tr>\n",
       "\t<tr><td>neural_network_1_18</td><td>mlp             </td><td>0.05078061</td></tr>\n",
       "\t<tr><td>KNN_1_01           </td><td>nearest_neighbor</td><td>0.03304578</td></tr>\n",
       "\t<tr><td>neural_network_1_01</td><td>mlp             </td><td>0.03076395</td></tr>\n",
       "</tbody>\n",
       "</table>\n"
      ],
      "text/latex": [
       "A tibble: 10 × 3\n",
       "\\begin{tabular}{lll}\n",
       " member & type & weight\\\\\n",
       " <chr> & <chr> & <dbl>\\\\\n",
       "\\hline\n",
       "\t Cubist\\_1\\_11         & cubist\\_rules     & 0.19519030\\\\\n",
       "\t neural\\_network\\_1\\_12 & mlp              & 0.14882911\\\\\n",
       "\t neural\\_network\\_1\\_14 & mlp              & 0.11738024\\\\\n",
       "\t neural\\_network\\_1\\_22 & mlp              & 0.11313950\\\\\n",
       "\t CART\\_1\\_19           & decision\\_tree    & 0.09094403\\\\\n",
       "\t boosting\\_1\\_20       & boost\\_tree       & 0.09032197\\\\\n",
       "\t neural\\_network\\_1\\_19 & mlp              & 0.07446757\\\\\n",
       "\t neural\\_network\\_1\\_18 & mlp              & 0.05078061\\\\\n",
       "\t KNN\\_1\\_01            & nearest\\_neighbor & 0.03304578\\\\\n",
       "\t neural\\_network\\_1\\_01 & mlp              & 0.03076395\\\\\n",
       "\\end{tabular}\n"
      ],
      "text/markdown": [
       "\n",
       "A tibble: 10 × 3\n",
       "\n",
       "| member &lt;chr&gt; | type &lt;chr&gt; | weight &lt;dbl&gt; |\n",
       "|---|---|---|\n",
       "| Cubist_1_11         | cubist_rules     | 0.19519030 |\n",
       "| neural_network_1_12 | mlp              | 0.14882911 |\n",
       "| neural_network_1_14 | mlp              | 0.11738024 |\n",
       "| neural_network_1_22 | mlp              | 0.11313950 |\n",
       "| CART_1_19           | decision_tree    | 0.09094403 |\n",
       "| boosting_1_20       | boost_tree       | 0.09032197 |\n",
       "| neural_network_1_19 | mlp              | 0.07446757 |\n",
       "| neural_network_1_18 | mlp              | 0.05078061 |\n",
       "| KNN_1_01            | nearest_neighbor | 0.03304578 |\n",
       "| neural_network_1_01 | mlp              | 0.03076395 |\n",
       "\n"
      ],
      "text/plain": [
       "   member              type             weight    \n",
       "1  Cubist_1_11         cubist_rules     0.19519030\n",
       "2  neural_network_1_12 mlp              0.14882911\n",
       "3  neural_network_1_14 mlp              0.11738024\n",
       "4  neural_network_1_22 mlp              0.11313950\n",
       "5  CART_1_19           decision_tree    0.09094403\n",
       "6  boosting_1_20       boost_tree       0.09032197\n",
       "7  neural_network_1_19 mlp              0.07446757\n",
       "8  neural_network_1_18 mlp              0.05078061\n",
       "9  KNN_1_01            nearest_neighbor 0.03304578\n",
       "10 neural_network_1_01 mlp              0.03076395"
      ]
     },
     "metadata": {},
     "output_type": "display_data"
    }
   ],
   "source": [
    "res <- stacks:::top_coefs(ens); res"
   ]
  },
  {
   "cell_type": "markdown",
   "id": "6dc34765",
   "metadata": {},
   "source": [
    "<br>\n",
    "\n",
    "## 17.03. 앙상블 모델 적합\n",
    "- 앙상블 모델에는 7개의 모델이 포함\n",
    "- 스택킹 모델을 사용하기 위해서 7개의 추가 모델 적합이 필요\n",
    "    \n"
   ]
  },
  {
   "cell_type": "markdown",
   "id": "9f88e1e9",
   "metadata": {},
   "source": [
    "<br>\n",
    "\n",
    "#### `fit_members()` : 앙상블 구성 모델별 최적 하이퍼파라미터 적합"
   ]
  },
  {
   "cell_type": "code",
   "execution_count": 16,
   "id": "459b4f29",
   "metadata": {},
   "outputs": [],
   "source": [
    "ens <- fit_members(ens)"
   ]
  },
  {
   "cell_type": "markdown",
   "id": "23ed1dfb",
   "metadata": {},
   "source": [
    "<br>\n",
    "\n",
    "## 17.04. 테스트 결과\n",
    "- 하나의 단일 모델보다 더 좋은 성능을 보임을 확인"
   ]
  },
  {
   "cell_type": "code",
   "execution_count": 17,
   "id": "b294e925",
   "metadata": {},
   "outputs": [],
   "source": [
    "reg_metrics <- metric_set(rmse, rsq)\n",
    "ens_test_pred <- predict(ens, concrete_test) %>%\n",
    "    bind_cols(concrete_test)"
   ]
  },
  {
   "cell_type": "markdown",
   "id": "ef99bc18",
   "metadata": {},
   "source": [
    "- 앙상블 모델 성능"
   ]
  },
  {
   "cell_type": "code",
   "execution_count": 18,
   "id": "3879ef61",
   "metadata": {},
   "outputs": [
    {
     "data": {
      "text/html": [
       "<table class=\"dataframe\">\n",
       "<caption>A tibble: 2 × 3</caption>\n",
       "<thead>\n",
       "\t<tr><th scope=col>.metric</th><th scope=col>.estimator</th><th scope=col>.estimate</th></tr>\n",
       "\t<tr><th scope=col>&lt;chr&gt;</th><th scope=col>&lt;chr&gt;</th><th scope=col>&lt;dbl&gt;</th></tr>\n",
       "</thead>\n",
       "<tbody>\n",
       "\t<tr><td>rmse</td><td>standard</td><td>3.7291975</td></tr>\n",
       "\t<tr><td>rsq </td><td>standard</td><td>0.9445846</td></tr>\n",
       "</tbody>\n",
       "</table>\n"
      ],
      "text/latex": [
       "A tibble: 2 × 3\n",
       "\\begin{tabular}{lll}\n",
       " .metric & .estimator & .estimate\\\\\n",
       " <chr> & <chr> & <dbl>\\\\\n",
       "\\hline\n",
       "\t rmse & standard & 3.7291975\\\\\n",
       "\t rsq  & standard & 0.9445846\\\\\n",
       "\\end{tabular}\n"
      ],
      "text/markdown": [
       "\n",
       "A tibble: 2 × 3\n",
       "\n",
       "| .metric &lt;chr&gt; | .estimator &lt;chr&gt; | .estimate &lt;dbl&gt; |\n",
       "|---|---|---|\n",
       "| rmse | standard | 3.7291975 |\n",
       "| rsq  | standard | 0.9445846 |\n",
       "\n"
      ],
      "text/plain": [
       "  .metric .estimator .estimate\n",
       "1 rmse    standard   3.7291975\n",
       "2 rsq     standard   0.9445846"
      ]
     },
     "metadata": {},
     "output_type": "display_data"
    }
   ],
   "source": [
    "ens_test_pred %>% reg_metrics(compressive_strength, .pred)"
   ]
  },
  {
   "cell_type": "markdown",
   "id": "812cce9d",
   "metadata": {},
   "source": [
    "- 단일모델 성능"
   ]
  },
  {
   "cell_type": "code",
   "execution_count": 22,
   "id": "d8517b44",
   "metadata": {},
   "outputs": [
    {
     "data": {
      "text/html": [
       "<table class=\"dataframe\">\n",
       "<caption>A tibble: 2 × 3</caption>\n",
       "<thead>\n",
       "\t<tr><th scope=col>wflow_id</th><th scope=col>.metric</th><th scope=col>mean</th></tr>\n",
       "\t<tr><th scope=col>&lt;chr&gt;</th><th scope=col>&lt;chr&gt;</th><th scope=col>&lt;dbl&gt;</th></tr>\n",
       "</thead>\n",
       "<tbody>\n",
       "\t<tr><td>boosting</td><td>rmse</td><td>4.335617</td></tr>\n",
       "\t<tr><td>boosting</td><td>rsq </td><td>0.930796</td></tr>\n",
       "</tbody>\n",
       "</table>\n"
      ],
      "text/latex": [
       "A tibble: 2 × 3\n",
       "\\begin{tabular}{lll}\n",
       " wflow\\_id & .metric & mean\\\\\n",
       " <chr> & <chr> & <dbl>\\\\\n",
       "\\hline\n",
       "\t boosting & rmse & 4.335617\\\\\n",
       "\t boosting & rsq  & 0.930796\\\\\n",
       "\\end{tabular}\n"
      ],
      "text/markdown": [
       "\n",
       "A tibble: 2 × 3\n",
       "\n",
       "| wflow_id &lt;chr&gt; | .metric &lt;chr&gt; | mean &lt;dbl&gt; |\n",
       "|---|---|---|\n",
       "| boosting | rmse | 4.335617 |\n",
       "| boosting | rsq  | 0.930796 |\n",
       "\n"
      ],
      "text/plain": [
       "  wflow_id .metric mean    \n",
       "1 boosting rmse    4.335617\n",
       "2 boosting rsq     0.930796"
      ]
     },
     "metadata": {},
     "output_type": "display_data"
    }
   ],
   "source": [
    "race_results %>% rank_results %>% head(2) %>%\n",
    "    select(wflow_id, .metric, mean)"
   ]
  }
 ],
 "metadata": {
  "kernelspec": {
   "display_name": "R-4.3.2",
   "language": "R",
   "name": "ir"
  },
  "language_info": {
   "codemirror_mode": "r",
   "file_extension": ".r",
   "mimetype": "text/x-r-source",
   "name": "R",
   "pygments_lexer": "r",
   "version": "4.3.2"
  }
 },
 "nbformat": 4,
 "nbformat_minor": 5
}
