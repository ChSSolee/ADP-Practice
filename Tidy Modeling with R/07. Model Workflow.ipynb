{
 "cells": [
  {
   "cell_type": "markdown",
   "id": "38d2d2fb",
   "metadata": {},
   "source": [
    "# 07. Model Workflow"
   ]
  },
  {
   "cell_type": "code",
   "execution_count": 35,
   "id": "3c7babfa",
   "metadata": {},
   "outputs": [],
   "source": [
    "library(tidyverse)\n",
    "library(tidymodels)\n",
    "ggplot2::theme_set(theme_bw())\n",
    "tidymodels_prefer()"
   ]
  },
  {
   "cell_type": "code",
   "execution_count": 36,
   "id": "60b3b3ab",
   "metadata": {},
   "outputs": [],
   "source": [
    "ames <- ames %>% mutate(Sale_Price = log10(Sale_Price))\n",
    "set.seed(20221010)\n",
    "ames_split <- initial_split(ames, prop = 0.8, strata = Sale_Price)\n",
    "ames_train <- training(ames_split)\n",
    "ames_test <- testing(ames_split)"
   ]
  },
  {
   "attachments": {
    "proper-workflow.svg": {
     "image/svg+xml": [
      "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"
     ]
    }
   },
   "cell_type": "markdown",
   "id": "344de11c",
   "metadata": {},
   "source": [
    "# \n",
    "# \n",
    "### workflow :  모델링 프로세스의 주요 부분을 객체화 하는 것\n",
    "- 예)\n",
    "![proper-workflow.svg](attachment:proper-workflow.svg)"
   ]
  },
  {
   "cell_type": "markdown",
   "id": "f426dd83",
   "metadata": {},
   "source": [
    "# \n",
    "# \n",
    "### Workflow 기본"
   ]
  },
  {
   "cell_type": "markdown",
   "id": "bc944080",
   "metadata": {},
   "source": [
    "- 모델 생성"
   ]
  },
  {
   "cell_type": "code",
   "execution_count": 37,
   "id": "311b8447",
   "metadata": {},
   "outputs": [],
   "source": [
    "lm_model <-\n",
    "    linear_reg() %>%\n",
    "    set_engine(\"lm\")"
   ]
  },
  {
   "cell_type": "markdown",
   "id": "412c6bc8",
   "metadata": {},
   "source": [
    "- 모델 추가"
   ]
  },
  {
   "cell_type": "code",
   "execution_count": 38,
   "id": "8a9ccbfc",
   "metadata": {},
   "outputs": [],
   "source": [
    "lm_wflow <-\n",
    "    workflow() %>%\n",
    "    add_model(lm_model)"
   ]
  },
  {
   "cell_type": "markdown",
   "id": "1ca53b9d",
   "metadata": {},
   "source": [
    "- 모델 공식 추가"
   ]
  },
  {
   "cell_type": "code",
   "execution_count": 39,
   "id": "67b3db2b",
   "metadata": {},
   "outputs": [],
   "source": [
    "lm_wflow <-\n",
    "    lm_wflow %>%\n",
    "    add_formula(Sale_Price ~ Longitude + Latitude)"
   ]
  },
  {
   "cell_type": "markdown",
   "id": "eee5260f",
   "metadata": {},
   "source": [
    "- 데이터 적합"
   ]
  },
  {
   "cell_type": "code",
   "execution_count": 40,
   "id": "95dbfd3a",
   "metadata": {},
   "outputs": [
    {
     "data": {
      "text/plain": [
       "== Workflow [trained] ==================================================================================================\n",
       "\u001b[3mPreprocessor:\u001b[23m Formula\n",
       "\u001b[3mModel:\u001b[23m linear_reg()\n",
       "\n",
       "-- Preprocessor --------------------------------------------------------------------------------------------------------\n",
       "Sale_Price ~ Longitude + Latitude\n",
       "\n",
       "-- Model ---------------------------------------------------------------------------------------------------------------\n",
       "\n",
       "Call:\n",
       "stats::lm(formula = ..y ~ ., data = data)\n",
       "\n",
       "Coefficients:\n",
       "(Intercept)    Longitude     Latitude  \n",
       "   -25.3446      -0.1706       0.2400  \n"
      ]
     },
     "metadata": {},
     "output_type": "display_data"
    }
   ],
   "source": [
    "lm_fit <- fit(lm_wflow, ames_train)\n",
    "lm_fit"
   ]
  },
  {
   "cell_type": "markdown",
   "id": "38208918",
   "metadata": {},
   "source": [
    "- 예측"
   ]
  },
  {
   "cell_type": "code",
   "execution_count": 41,
   "id": "b38ed0c9",
   "metadata": {},
   "outputs": [
    {
     "data": {
      "text/html": [
       "<table class=\"dataframe\">\n",
       "<caption>A tibble: 3 × 1</caption>\n",
       "<thead>\n",
       "\t<tr><th scope=col>.pred</th></tr>\n",
       "\t<tr><th scope=col>&lt;dbl&gt;</th></tr>\n",
       "</thead>\n",
       "<tbody>\n",
       "\t<tr><td>0.7227429</td></tr>\n",
       "\t<tr><td>0.7194929</td></tr>\n",
       "\t<tr><td>0.7189566</td></tr>\n",
       "</tbody>\n",
       "</table>\n"
      ],
      "text/latex": [
       "A tibble: 3 × 1\n",
       "\\begin{tabular}{l}\n",
       " .pred\\\\\n",
       " <dbl>\\\\\n",
       "\\hline\n",
       "\t 0.7227429\\\\\n",
       "\t 0.7194929\\\\\n",
       "\t 0.7189566\\\\\n",
       "\\end{tabular}\n"
      ],
      "text/markdown": [
       "\n",
       "A tibble: 3 × 1\n",
       "\n",
       "| .pred &lt;dbl&gt; |\n",
       "|---|\n",
       "| 0.7227429 |\n",
       "| 0.7194929 |\n",
       "| 0.7189566 |\n",
       "\n"
      ],
      "text/plain": [
       "  .pred    \n",
       "1 0.7227429\n",
       "2 0.7194929\n",
       "3 0.7189566"
      ]
     },
     "metadata": {},
     "output_type": "display_data"
    }
   ],
   "source": [
    "predict(lm_fit, ames_test %>% slice(1:3))"
   ]
  },
  {
   "cell_type": "markdown",
   "id": "52fecefe",
   "metadata": {},
   "source": [
    "- 워크플로 제거 / 업데이트"
   ]
  },
  {
   "cell_type": "code",
   "execution_count": 42,
   "id": "ca342da5",
   "metadata": {},
   "outputs": [
    {
     "data": {
      "text/plain": [
       "== Workflow ============================================================================================================\n",
       "\u001b[3mPreprocessor:\u001b[23m Formula\n",
       "\u001b[3mModel:\u001b[23m linear_reg()\n",
       "\n",
       "-- Preprocessor --------------------------------------------------------------------------------------------------------\n",
       "Sale_Price ~ Longitude\n",
       "\n",
       "-- Model ---------------------------------------------------------------------------------------------------------------\n",
       "Linear Regression Model Specification (regression)\n",
       "\n",
       "Computational engine: lm \n"
      ]
     },
     "metadata": {},
     "output_type": "display_data"
    }
   ],
   "source": [
    "lm_fit %>% update_formula(Sale_Price ~ Longitude)"
   ]
  },
  {
   "cell_type": "markdown",
   "id": "eb089a96",
   "metadata": {},
   "source": [
    "# \n",
    "# \n",
    "# \n",
    "### 변수 추가\n",
    "### ```add_variables(outcome, predictors)```\n",
    "- ```outcome``` : 반응변수\n",
    "- ```predictors``` : 설명변수\n",
    "    - ```ends_with()```를 사용하여 지정 가능\n",
    "    - ```everything()``` : 모든 변수"
   ]
  },
  {
   "cell_type": "code",
   "execution_count": 43,
   "id": "db34e60e",
   "metadata": {},
   "outputs": [],
   "source": [
    "lm_wflow <-\n",
    "    lm_wflow %>%\n",
    "    remove_formula() %>%\n",
    "    add_variables(outcome = Sale_Price, predictors = everything())"
   ]
  },
  {
   "cell_type": "code",
   "execution_count": 44,
   "id": "be603544",
   "metadata": {},
   "outputs": [
    {
     "data": {
      "text/plain": [
       "== Workflow ============================================================================================================\n",
       "\u001b[3mPreprocessor:\u001b[23m Variables\n",
       "\u001b[3mModel:\u001b[23m linear_reg()\n",
       "\n",
       "-- Preprocessor --------------------------------------------------------------------------------------------------------\n",
       "Outcomes: Sale_Price\n",
       "Predictors: everything()\n",
       "\n",
       "-- Model ---------------------------------------------------------------------------------------------------------------\n",
       "Linear Regression Model Specification (regression)\n",
       "\n",
       "Computational engine: lm \n"
      ]
     },
     "metadata": {},
     "output_type": "display_data"
    }
   ],
   "source": [
    "lm_wflow"
   ]
  },
  {
   "cell_type": "code",
   "execution_count": 45,
   "id": "c7459310",
   "metadata": {},
   "outputs": [],
   "source": [
    "# fit(lm_wflow, ames_train) %>% extract_fit_engine() %>% tidy"
   ]
  },
  {
   "cell_type": "markdown",
   "id": "5b8d51bb",
   "metadata": {},
   "source": [
    "# \n",
    "# \n",
    "# "
   ]
  },
  {
   "cell_type": "markdown",
   "id": "e42ee3c1",
   "metadata": {},
   "source": [
    "### Workflow 수식"
   ]
  },
  {
   "cell_type": "code",
   "execution_count": 46,
   "id": "bdc1bbcf",
   "metadata": {},
   "outputs": [],
   "source": [
    "library(nlme)\n",
    "data(Orthodont)"
   ]
  },
  {
   "cell_type": "code",
   "execution_count": 47,
   "id": "2bb7398c",
   "metadata": {},
   "outputs": [],
   "source": [
    "library(multilevelmod)"
   ]
  },
  {
   "cell_type": "code",
   "execution_count": 48,
   "id": "ac7f1ce7",
   "metadata": {},
   "outputs": [],
   "source": [
    "multilevel_spec <- linear_reg() %>% set_engine(\"lmer\")"
   ]
  },
  {
   "cell_type": "code",
   "execution_count": 49,
   "id": "f96df321",
   "metadata": {},
   "outputs": [],
   "source": [
    "multilevel_workflow <-\n",
    "    workflow() %>%\n",
    "    add_variables(outcome = distance, predictors = c(Sex, age, Subject)) %>%\n",
    "    add_model(multilevel_spec,\n",
    "              formula = distance ~ Sex + (age | Subject))"
   ]
  },
  {
   "cell_type": "code",
   "execution_count": 50,
   "id": "8c21af8a",
   "metadata": {},
   "outputs": [
    {
     "data": {
      "text/plain": [
       "== Workflow [trained] ==================================================================================================\n",
       "\u001b[3mPreprocessor:\u001b[23m Variables\n",
       "\u001b[3mModel:\u001b[23m linear_reg()\n",
       "\n",
       "-- Preprocessor --------------------------------------------------------------------------------------------------------\n",
       "Outcomes: distance\n",
       "Predictors: c(Sex, age, Subject)\n",
       "\n",
       "-- Model ---------------------------------------------------------------------------------------------------------------\n",
       "Linear mixed model fit by REML ['lmerMod']\n",
       "Formula: distance ~ Sex + (age | Subject)\n",
       "   Data: data\n",
       "REML criterion at convergence: 471.1635\n",
       "Random effects:\n",
       " Groups   Name        Std.Dev. Corr \n",
       " Subject  (Intercept) 7.3912        \n",
       "          age         0.6943   -0.97\n",
       " Residual             1.3100        \n",
       "Number of obs: 108, groups:  Subject, 27\n",
       "Fixed Effects:\n",
       "(Intercept)    SexFemale  \n",
       "     24.517       -2.145  "
      ]
     },
     "metadata": {},
     "output_type": "display_data"
    }
   ],
   "source": [
    "multilevel_fit <- fit(multilevel_workflow, data = Orthodont)\n",
    "multilevel_fit"
   ]
  },
  {
   "cell_type": "markdown",
   "id": "f02a2787",
   "metadata": {},
   "source": [
    "# \n",
    "# \n",
    "### 생존함수"
   ]
  },
  {
   "cell_type": "code",
   "execution_count": 51,
   "id": "ace7b505",
   "metadata": {},
   "outputs": [],
   "source": [
    "library(censored)"
   ]
  },
  {
   "cell_type": "code",
   "execution_count": 52,
   "id": "77e10714",
   "metadata": {},
   "outputs": [],
   "source": [
    "parametic_spec <- survival_reg()"
   ]
  },
  {
   "cell_type": "code",
   "execution_count": 53,
   "id": "4db53e97",
   "metadata": {},
   "outputs": [],
   "source": [
    "parametic_workflow <-\n",
    "    workflow() %>%\n",
    "    add_variables(outcome = c(fustat, futime), predictors = c(age, rx)) %>%\n",
    "    add_model(parametic_spec,\n",
    "              formula = Surv(futime, fustat) ~ age + strata(rx))"
   ]
  },
  {
   "cell_type": "code",
   "execution_count": 54,
   "id": "30b143c6",
   "metadata": {},
   "outputs": [
    {
     "data": {
      "text/plain": [
       "== Workflow [trained] ==================================================================================================\n",
       "\u001b[3mPreprocessor:\u001b[23m Variables\n",
       "\u001b[3mModel:\u001b[23m survival_reg()\n",
       "\n",
       "-- Preprocessor --------------------------------------------------------------------------------------------------------\n",
       "Outcomes: c(fustat, futime)\n",
       "Predictors: c(age, rx)\n",
       "\n",
       "-- Model ---------------------------------------------------------------------------------------------------------------\n",
       "Call:\n",
       "survival::survreg(formula = Surv(futime, fustat) ~ age + strata(rx), \n",
       "    data = data, model = TRUE)\n",
       "\n",
       "Coefficients:\n",
       "(Intercept)         age \n",
       " 12.8734120  -0.1033569 \n",
       "\n",
       "Scale:\n",
       "     rx=1      rx=2 \n",
       "0.7695509 0.4703602 \n",
       "\n",
       "Loglik(model)= -89.4   Loglik(intercept only)= -97.1\n",
       "\tChisq= 15.36 on 1 degrees of freedom, p= 8.88e-05 \n",
       "n= 26 "
      ]
     },
     "metadata": {},
     "output_type": "display_data"
    }
   ],
   "source": [
    "parametic_fit <- fit(parametic_workflow, data = ovarian)\n",
    "parametic_fit"
   ]
  },
  {
   "cell_type": "markdown",
   "id": "c53305ed",
   "metadata": {},
   "source": [
    "# \n",
    "# \n",
    "# \n",
    "### 복수 Workflow 생성"
   ]
  },
  {
   "cell_type": "markdown",
   "id": "6c4588b3",
   "metadata": {},
   "source": [
    "### ```workflow_set(preproc, models)```\n",
    "- ```preproc``` : 수식 List\n",
    "- ```models``` : 적합할 모형식"
   ]
  },
  {
   "cell_type": "code",
   "execution_count": 55,
   "id": "a0e35ec5",
   "metadata": {},
   "outputs": [],
   "source": [
    "location <- list(\n",
    "    Longitude = Sale_Price ~ Longitude,\n",
    "    Latitude = Sale_Price ~ Latitude,\n",
    "    coords = Sale_Price ~ Longitude + Latitude,\n",
    "    neighborhood = Sale_Price ~ Neighborhood\n",
    ")"
   ]
  },
  {
   "cell_type": "code",
   "execution_count": 56,
   "id": "be14220d",
   "metadata": {},
   "outputs": [],
   "source": [
    "library(workflowsets)"
   ]
  },
  {
   "cell_type": "code",
   "execution_count": 57,
   "id": "5fc51ab8",
   "metadata": {},
   "outputs": [
    {
     "data": {
      "text/html": [
       "<table class=\"dataframe\">\n",
       "<caption>A workflow_set: 4 × 4</caption>\n",
       "<thead>\n",
       "\t<tr><th scope=col>wflow_id</th><th scope=col>info</th><th scope=col>option</th><th scope=col>result</th></tr>\n",
       "\t<tr><th scope=col>&lt;chr&gt;</th><th scope=col>&lt;list&gt;</th><th scope=col>&lt;list&gt;</th><th scope=col>&lt;list&gt;</th></tr>\n",
       "</thead>\n",
       "<tbody>\n",
       "\t<tr><td>Longitude_lm   </td><td>Sale_Price ~ Longitude, ~NULL, ~NULL, regression, FALSE, lm, TRUE, FALSE, formula, linear_reg, </td><td>NULL</td><td>NULL</td></tr>\n",
       "\t<tr><td>Latitude_lm    </td><td>Sale_Price ~ Latitude, ~NULL, ~NULL, regression, FALSE, lm, TRUE, FALSE, formula, linear_reg, </td><td>NULL</td><td>NULL</td></tr>\n",
       "\t<tr><td>coords_lm      </td><td>Sale_Price ~ Longitude + Latitude, ~NULL, ~NULL, regression, FALSE, lm, TRUE, FALSE, formula, linear_reg, </td><td>NULL</td><td>NULL</td></tr>\n",
       "\t<tr><td>neighborhood_lm</td><td>Sale_Price ~ Neighborhood, ~NULL, ~NULL, regression, FALSE, lm, TRUE, FALSE, formula, linear_reg, </td><td>NULL</td><td>NULL</td></tr>\n",
       "</tbody>\n",
       "</table>\n"
      ],
      "text/latex": [
       "A workflow\\_set: 4 × 4\n",
       "\\begin{tabular}{llll}\n",
       " wflow\\_id & info & option & result\\\\\n",
       " <chr> & <list> & <list> & <list>\\\\\n",
       "\\hline\n",
       "\t Longitude\\_lm    & Sale\\_Price \\textasciitilde{} Longitude, \\textasciitilde{}NULL, \\textasciitilde{}NULL, regression, FALSE, lm, TRUE, FALSE, formula, linear\\_reg,  & NULL & NULL\\\\\n",
       "\t Latitude\\_lm     & Sale\\_Price \\textasciitilde{} Latitude, \\textasciitilde{}NULL, \\textasciitilde{}NULL, regression, FALSE, lm, TRUE, FALSE, formula, linear\\_reg,  & NULL & NULL\\\\\n",
       "\t coords\\_lm       & Sale\\_Price \\textasciitilde{} Longitude + Latitude, \\textasciitilde{}NULL, \\textasciitilde{}NULL, regression, FALSE, lm, TRUE, FALSE, formula, linear\\_reg,  & NULL & NULL\\\\\n",
       "\t neighborhood\\_lm & Sale\\_Price \\textasciitilde{} Neighborhood, \\textasciitilde{}NULL, \\textasciitilde{}NULL, regression, FALSE, lm, TRUE, FALSE, formula, linear\\_reg,  & NULL & NULL\\\\\n",
       "\\end{tabular}\n"
      ],
      "text/markdown": [
       "\n",
       "A workflow_set: 4 × 4\n",
       "\n",
       "| wflow_id &lt;chr&gt; | info &lt;list&gt; | option &lt;list&gt; | result &lt;list&gt; |\n",
       "|---|---|---|---|\n",
       "| Longitude_lm    | Sale_Price ~ Longitude, ~NULL, ~NULL, regression, FALSE, lm, TRUE, FALSE, formula, linear_reg,  | NULL | NULL |\n",
       "| Latitude_lm     | Sale_Price ~ Latitude, ~NULL, ~NULL, regression, FALSE, lm, TRUE, FALSE, formula, linear_reg,  | NULL | NULL |\n",
       "| coords_lm       | Sale_Price ~ Longitude + Latitude, ~NULL, ~NULL, regression, FALSE, lm, TRUE, FALSE, formula, linear_reg,  | NULL | NULL |\n",
       "| neighborhood_lm | Sale_Price ~ Neighborhood, ~NULL, ~NULL, regression, FALSE, lm, TRUE, FALSE, formula, linear_reg,  | NULL | NULL |\n",
       "\n"
      ],
      "text/plain": [
       "  wflow_id       \n",
       "1 Longitude_lm   \n",
       "2 Latitude_lm    \n",
       "3 coords_lm      \n",
       "4 neighborhood_lm\n",
       "  info                                                                                                      \n",
       "1 Sale_Price ~ Longitude, ~NULL, ~NULL, regression, FALSE, lm, TRUE, FALSE, formula, linear_reg,            \n",
       "2 Sale_Price ~ Latitude, ~NULL, ~NULL, regression, FALSE, lm, TRUE, FALSE, formula, linear_reg,             \n",
       "3 Sale_Price ~ Longitude + Latitude, ~NULL, ~NULL, regression, FALSE, lm, TRUE, FALSE, formula, linear_reg, \n",
       "4 Sale_Price ~ Neighborhood, ~NULL, ~NULL, regression, FALSE, lm, TRUE, FALSE, formula, linear_reg,         \n",
       "  option result\n",
       "1 NULL   NULL  \n",
       "2 NULL   NULL  \n",
       "3 NULL   NULL  \n",
       "4 NULL   NULL  "
      ]
     },
     "metadata": {},
     "output_type": "display_data"
    }
   ],
   "source": [
    "location_models <- workflow_set(preproc = location, \n",
    "                                models = list(lm = lm_model))\n",
    "location_models"
   ]
  },
  {
   "cell_type": "markdown",
   "id": "0e44f723",
   "metadata": {},
   "source": [
    "# \n",
    "# \n",
    "### ```extract_workflow()``` : workflow_set에서 모델 추출"
   ]
  },
  {
   "cell_type": "code",
   "execution_count": 58,
   "id": "4e68915d",
   "metadata": {},
   "outputs": [
    {
     "data": {
      "text/plain": [
       "== Workflow ============================================================================================================\n",
       "\u001b[3mPreprocessor:\u001b[23m Formula\n",
       "\u001b[3mModel:\u001b[23m linear_reg()\n",
       "\n",
       "-- Preprocessor --------------------------------------------------------------------------------------------------------\n",
       "Sale_Price ~ Longitude + Latitude\n",
       "\n",
       "-- Model ---------------------------------------------------------------------------------------------------------------\n",
       "Linear Regression Model Specification (regression)\n",
       "\n",
       "Computational engine: lm \n"
      ]
     },
     "metadata": {},
     "output_type": "display_data"
    }
   ],
   "source": [
    "extract_workflow(location_models, id = \"coords_lm\")"
   ]
  },
  {
   "cell_type": "code",
   "execution_count": 59,
   "id": "b1e650ac",
   "metadata": {},
   "outputs": [],
   "source": [
    "location_models <-\n",
    "    location_models %>%\n",
    "    mutate(fit = map(info, ~ fit(.x$workflow[[1]], ames_train)))"
   ]
  },
  {
   "cell_type": "code",
   "execution_count": 60,
   "id": "12990eb2",
   "metadata": {},
   "outputs": [
    {
     "data": {
      "text/plain": [
       "== Workflow [trained] ==================================================================================================\n",
       "\u001b[3mPreprocessor:\u001b[23m Formula\n",
       "\u001b[3mModel:\u001b[23m linear_reg()\n",
       "\n",
       "-- Preprocessor --------------------------------------------------------------------------------------------------------\n",
       "Sale_Price ~ Longitude\n",
       "\n",
       "-- Model ---------------------------------------------------------------------------------------------------------------\n",
       "\n",
       "Call:\n",
       "stats::lm(formula = ..y ~ ., data = data)\n",
       "\n",
       "Coefficients:\n",
       "(Intercept)    Longitude  \n",
       "   -14.5985      -0.1636  \n"
      ]
     },
     "metadata": {},
     "output_type": "display_data"
    }
   ],
   "source": [
    "location_models$fit[[1]]"
   ]
  },
  {
   "cell_type": "markdown",
   "id": "03bb1864",
   "metadata": {},
   "source": [
    "# \n",
    "# \n",
    "### 테스트 세트 평가"
   ]
  },
  {
   "cell_type": "markdown",
   "id": "2cd6a87e",
   "metadata": {},
   "source": [
    "### ```last_fit()``` : 최종 모델을 훈련 세트에 적합, 테스트 세트로 평가"
   ]
  },
  {
   "cell_type": "code",
   "execution_count": 33,
   "id": "baa97212",
   "metadata": {},
   "outputs": [
    {
     "data": {
      "text/plain": [
       "<Training/Testing/Total>\n",
       "<2342/588/2930>"
      ]
     },
     "metadata": {},
     "output_type": "display_data"
    }
   ],
   "source": [
    "ames_split"
   ]
  },
  {
   "cell_type": "code",
   "execution_count": null,
   "id": "b64c353a",
   "metadata": {},
   "outputs": [],
   "source": [
    "final_lm_res <- last_fit(lm_wflow, ames_split)\n",
    "final_lm_res"
   ]
  },
  {
   "cell_type": "markdown",
   "id": "f0beb4b3",
   "metadata": {},
   "source": [
    "```\n",
    "#> # Resampling results\n",
    "#> # Manual resampling \n",
    "#> # A tibble: 1 × 6\n",
    "#>   splits             id               .metrics         .notes   .predic…¹ .workflow \n",
    "#>   <list>             <chr>            <list>           <list>   <list>    <list>    \n",
    "#> 1 <split [2342/588]> train/test split <tibble [2 × 4]> <tibble> <tibble>  <workflow>\n",
    "#> # … with abbreviated variable name ¹​.predictions```"
   ]
  },
  {
   "cell_type": "code",
   "execution_count": null,
   "id": "629a0d80",
   "metadata": {},
   "outputs": [],
   "source": [
    "fitted_lm_wflow <- extract_workflow(final_lm_res)"
   ]
  },
  {
   "cell_type": "markdown",
   "id": "d6b72447",
   "metadata": {},
   "source": [
    "# \n",
    "# \n",
    "### ```collect_metrics()``` : 성능 메트릭에 대한 정보 제공\n",
    "### ```collect_predictions()``` : 예측 메트릭에 대한 정보 제공"
   ]
  },
  {
   "cell_type": "code",
   "execution_count": null,
   "id": "7daaf312",
   "metadata": {},
   "outputs": [],
   "source": [
    "collect_metrics(final_lm_res)\n",
    "collect_predictions(final_lm_res) %>% slice(1:5)"
   ]
  }
 ],
 "metadata": {
  "kernelspec": {
   "display_name": "R 4.1.3",
   "language": "R",
   "name": "ir32"
  },
  "language_info": {
   "codemirror_mode": "r",
   "file_extension": ".r",
   "mimetype": "text/x-r-source",
   "name": "R",
   "pygments_lexer": "r",
   "version": "4.1.3"
  }
 },
 "nbformat": 4,
 "nbformat_minor": 5
}
