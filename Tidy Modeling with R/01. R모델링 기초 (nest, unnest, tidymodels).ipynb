{
 "cells": [
  {
   "cell_type": "markdown",
   "id": "36b39ba5",
   "metadata": {},
   "source": [
    "# 01. R모델링 기초"
   ]
  },
  {
   "cell_type": "markdown",
   "id": "a1665a14",
   "metadata": {},
   "source": [
    "- R의 기반이 되는 S 언어는 Chambers and Hastie( 1992 ) (일반적으로 The White Book으로 알려짐)가 출판된 이후 풍부한 데이터 분석 환경을 갖춤\n",
    "- 이 S 버전에는 기호 모델 공식, 모델 행렬, 데이터 프레임은 물론 데이터 분석을 위한 표준 객체 지향 프로그래밍 방법과 같이 오늘날 R 사용자에게 친숙한 표준 인프라 구성 요소가 도입\n",
    "    - 이러한 사용자 인터페이스는 그 이후로 실질적으로 변경되지 않았습니다."
   ]
  },
  {
   "cell_type": "markdown",
   "id": "14c737ce",
   "metadata": {},
   "source": [
    "<br>\n",
    "\n",
    "## 01.01. 기본 R모델링\n",
    "- 주변 온도와 분당 귀뚜라미 울음소리 사이의 관계에 대해 Mangiafico( 2015 ) 를 통해 McDonald( 2009 ) 의 실험 데이터"
   ]
  },
  {
   "cell_type": "code",
   "execution_count": 4,
   "id": "e6fe3eb2",
   "metadata": {},
   "outputs": [],
   "source": [
    "library(tidyverse)\n",
    "ggplot2::theme_set(theme_bw())"
   ]
  },
  {
   "cell_type": "code",
   "execution_count": 5,
   "id": "bb592f0d",
   "metadata": {
    "scrolled": true
   },
   "outputs": [
    {
     "data": {
      "text/html": [
       "<style>\n",
       ".list-inline {list-style: none; margin:0; padding: 0}\n",
       ".list-inline>li {display: inline-block}\n",
       ".list-inline>li:not(:last-child)::after {content: \"\\00b7\"; padding: 0 .5ex}\n",
       "</style>\n",
       "<ol class=list-inline><li>'species'</li><li>'temp'</li><li>'rate'</li></ol>\n"
      ],
      "text/latex": [
       "\\begin{enumerate*}\n",
       "\\item 'species'\n",
       "\\item 'temp'\n",
       "\\item 'rate'\n",
       "\\end{enumerate*}\n"
      ],
      "text/markdown": [
       "1. 'species'\n",
       "2. 'temp'\n",
       "3. 'rate'\n",
       "\n",
       "\n"
      ],
      "text/plain": [
       "[1] \"species\" \"temp\"    \"rate\"   "
      ]
     },
     "metadata": {},
     "output_type": "display_data"
    }
   ],
   "source": [
    "data(crickets, package = \"modeldata\")\n",
    "names(crickets)"
   ]
  },
  {
   "cell_type": "code",
   "execution_count": 6,
   "id": "e8016fd9",
   "metadata": {},
   "outputs": [
    {
     "data": {
      "text/html": [
       "<table class=\"dataframe\">\n",
       "<caption>A tibble: 6 × 3</caption>\n",
       "<thead>\n",
       "\t<tr><th scope=col>species</th><th scope=col>temp</th><th scope=col>rate</th></tr>\n",
       "\t<tr><th scope=col>&lt;fct&gt;</th><th scope=col>&lt;dbl&gt;</th><th scope=col>&lt;dbl&gt;</th></tr>\n",
       "</thead>\n",
       "<tbody>\n",
       "\t<tr><td>O. exclamationis</td><td>20.8</td><td>67.9</td></tr>\n",
       "\t<tr><td>O. exclamationis</td><td>20.8</td><td>65.1</td></tr>\n",
       "\t<tr><td>O. exclamationis</td><td>24.0</td><td>77.3</td></tr>\n",
       "\t<tr><td>O. exclamationis</td><td>24.0</td><td>78.7</td></tr>\n",
       "\t<tr><td>O. exclamationis</td><td>24.0</td><td>79.4</td></tr>\n",
       "\t<tr><td>O. exclamationis</td><td>24.0</td><td>80.4</td></tr>\n",
       "</tbody>\n",
       "</table>\n"
      ],
      "text/latex": [
       "A tibble: 6 × 3\n",
       "\\begin{tabular}{lll}\n",
       " species & temp & rate\\\\\n",
       " <fct> & <dbl> & <dbl>\\\\\n",
       "\\hline\n",
       "\t O. exclamationis & 20.8 & 67.9\\\\\n",
       "\t O. exclamationis & 20.8 & 65.1\\\\\n",
       "\t O. exclamationis & 24.0 & 77.3\\\\\n",
       "\t O. exclamationis & 24.0 & 78.7\\\\\n",
       "\t O. exclamationis & 24.0 & 79.4\\\\\n",
       "\t O. exclamationis & 24.0 & 80.4\\\\\n",
       "\\end{tabular}\n"
      ],
      "text/markdown": [
       "\n",
       "A tibble: 6 × 3\n",
       "\n",
       "| species &lt;fct&gt; | temp &lt;dbl&gt; | rate &lt;dbl&gt; |\n",
       "|---|---|---|\n",
       "| O. exclamationis | 20.8 | 67.9 |\n",
       "| O. exclamationis | 20.8 | 65.1 |\n",
       "| O. exclamationis | 24.0 | 77.3 |\n",
       "| O. exclamationis | 24.0 | 78.7 |\n",
       "| O. exclamationis | 24.0 | 79.4 |\n",
       "| O. exclamationis | 24.0 | 80.4 |\n",
       "\n"
      ],
      "text/plain": [
       "  species          temp rate\n",
       "1 O. exclamationis 20.8 67.9\n",
       "2 O. exclamationis 20.8 65.1\n",
       "3 O. exclamationis 24.0 77.3\n",
       "4 O. exclamationis 24.0 78.7\n",
       "5 O. exclamationis 24.0 79.4\n",
       "6 O. exclamationis 24.0 80.4"
      ]
     },
     "metadata": {},
     "output_type": "display_data"
    }
   ],
   "source": [
    "crickets %>% head()"
   ]
  },
  {
   "cell_type": "markdown",
   "id": "33f4a576",
   "metadata": {},
   "source": [
    "<br>\n",
    "\n",
    "- 데이터는 각 종에 대해 상당히 선형적인 경향을 나타냄\n",
    "    - 특정 온도에서 'O. exclaimis'는 다른 종보다 분당 더 많이 우는 것처럼 보임 "
   ]
  },
  {
   "cell_type": "code",
   "execution_count": 7,
   "id": "2ffaa0c1",
   "metadata": {},
   "outputs": [
    {
     "name": "stderr",
     "output_type": "stream",
     "text": [
      "\u001b[1m\u001b[22m`geom_smooth()` using formula = 'y ~ x'\n"
     ]
    },
    {
     "data": {
      "image/png": "[encoded data removed]",
      "text/plain": [
       "plot without title"
      ]
     },
     "metadata": {
      "image/png": {
       "height": 420,
       "width": 420
      }
     },
     "output_type": "display_data"
    }
   ],
   "source": [
    "ggplot(crickets,\n",
    "       aes(temp, rate, color = species, pch = species, lty = species)) + \n",
    "    geom_point(size = 2) + \n",
    "    geom_smooth(method = lm, se = F, alpha = 0.5) + \n",
    "    scale_color_brewer(palette = \"Paired\") + \n",
    "    labs(x = \"Temperatuce (C)\", y = \"Chirp Rate (per minute)\")"
   ]
  },
  {
   "cell_type": "markdown",
   "id": "a81c356e",
   "metadata": {},
   "source": [
    "<br>\n",
    "\n",
    "- 추론 모델의 경우 분석가는 데이터를 보기 전에 다음과 같은 귀무 가설을 지정가능\n",
    "    - 온도는 우는 속도에 영향을 주지 않음\n",
    "    - 종별 우는 속도에는 차이가 없음\n",
    "\n"
   ]
  },
  {
   "cell_type": "markdown",
   "id": "bec606e8",
   "metadata": {},
   "source": [
    "<br>\n",
    "\n",
    "- `rate ~ temp + species` 공식은 각 종에 대해 서로 다른 y절편을 사용하여 모델을 생성\n",
    "- 회귀선의 기울기도 종마다 상이하며, 이 구조를 수용하기 위해 상호작용 항을 모델에 추가 할 수 있음\n",
    "    - `rate ~ temp + species + temp:species`\n",
    "    - `rate ~ (temp + species)^2`\n",
    "    - `rate ~ temp * species`"
   ]
  },
  {
   "cell_type": "markdown",
   "id": "45dab510",
   "metadata": {},
   "source": [
    "<br>\n",
    "\n",
    "#### 상호작용 모형"
   ]
  },
  {
   "cell_type": "code",
   "execution_count": 9,
   "id": "0b05fe92",
   "metadata": {},
   "outputs": [
    {
     "data": {
      "text/plain": [
       "\n",
       "Call:\n",
       "lm(formula = rate ~ (temp + species)^2, data = crickets)\n",
       "\n",
       "Residuals:\n",
       "    Min      1Q  Median      3Q     Max \n",
       "-3.7031 -1.3417 -0.1235  0.8100  3.6330 \n",
       "\n",
       "Coefficients:\n",
       "                      Estimate Std. Error t value Pr(>|t|)    \n",
       "(Intercept)           -11.0408     4.1515  -2.659    0.013 *  \n",
       "temp                    3.7514     0.1601  23.429   <2e-16 ***\n",
       "speciesO. niveus       -4.3484     4.9617  -0.876    0.389    \n",
       "temp:speciesO. niveus  -0.2340     0.2009  -1.165    0.254    \n",
       "---\n",
       "Signif. codes:  0 '***' 0.001 '**' 0.01 '*' 0.05 '.' 0.1 ' ' 1\n",
       "\n",
       "Residual standard error: 1.775 on 27 degrees of freedom\n",
       "Multiple R-squared:  0.9901,\tAdjusted R-squared:  0.989 \n",
       "F-statistic: 898.9 on 3 and 27 DF,  p-value: < 2.2e-16\n"
      ]
     },
     "metadata": {},
     "output_type": "display_data"
    }
   ],
   "source": [
    "interaction_fit <- lm(rate ~ (temp + species)^2, data = crickets)\n",
    "summary(interaction_fit)"
   ]
  },
  {
   "cell_type": "code",
   "execution_count": 10,
   "id": "ab56126d",
   "metadata": {},
   "outputs": [
    {
     "data": {
      "image/png": "[encoded data removed]",
      "text/plain": [
       "Plot with title \"\""
      ]
     },
     "metadata": {
      "image/png": {
       "height": 420,
       "width": 420
      }
     },
     "output_type": "display_data"
    }
   ],
   "source": [
    "par(mfrow = c(2, 2))\n",
    "\n",
    "plot(interaction_fit)"
   ]
  },
  {
   "cell_type": "markdown",
   "id": "4b805198",
   "metadata": {},
   "source": [
    "<br>\n",
    "\n",
    "#### **상호작용 항이 꼭 필요한지에 대해서 평가**\n",
    "$\\rightarrow$ 상호작용 모델과 주효과 모델의 비교\n",
    "\n",
    "<br>\n",
    "\n",
    "- 주효과 모형 생성"
   ]
  },
  {
   "cell_type": "code",
   "execution_count": 12,
   "id": "a9a89908",
   "metadata": {
    "scrolled": false
   },
   "outputs": [],
   "source": [
    "main_effect_fit <- lm(rate ~ temp + species, data = crickets)"
   ]
  },
  {
   "cell_type": "markdown",
   "id": "28edcf95",
   "metadata": {},
   "source": [
    "<br>\n",
    "\n",
    "#### ANOVA 검정 \n",
    "* 통계 검정은 0.25의 p-값\n",
    "\n",
    "- P-value > 0.05 => 귀무가설 기각 불가 => **상호작용 항이 유의하지 않음**"
   ]
  },
  {
   "cell_type": "code",
   "execution_count": 11,
   "id": "765fc8b8",
   "metadata": {},
   "outputs": [
    {
     "data": {
      "text/html": [
       "<table class=\"dataframe\">\n",
       "<caption>A anova: 2 × 6</caption>\n",
       "<thead>\n",
       "\t<tr><th></th><th scope=col>Res.Df</th><th scope=col>RSS</th><th scope=col>Df</th><th scope=col>Sum of Sq</th><th scope=col>F</th><th scope=col>Pr(&gt;F)</th></tr>\n",
       "\t<tr><th></th><th scope=col>&lt;dbl&gt;</th><th scope=col>&lt;dbl&gt;</th><th scope=col>&lt;dbl&gt;</th><th scope=col>&lt;dbl&gt;</th><th scope=col>&lt;dbl&gt;</th><th scope=col>&lt;dbl&gt;</th></tr>\n",
       "</thead>\n",
       "<tbody>\n",
       "\t<tr><th scope=row>1</th><td>28</td><td>89.34987</td><td>NA</td><td>      NA</td><td>      NA</td><td>       NA</td></tr>\n",
       "\t<tr><th scope=row>2</th><td>27</td><td>85.07409</td><td> 1</td><td>4.275779</td><td>1.357006</td><td>0.2542464</td></tr>\n",
       "</tbody>\n",
       "</table>\n"
      ],
      "text/latex": [
       "A anova: 2 × 6\n",
       "\\begin{tabular}{r|llllll}\n",
       "  & Res.Df & RSS & Df & Sum of Sq & F & Pr(>F)\\\\\n",
       "  & <dbl> & <dbl> & <dbl> & <dbl> & <dbl> & <dbl>\\\\\n",
       "\\hline\n",
       "\t1 & 28 & 89.34987 & NA &       NA &       NA &        NA\\\\\n",
       "\t2 & 27 & 85.07409 &  1 & 4.275779 & 1.357006 & 0.2542464\\\\\n",
       "\\end{tabular}\n"
      ],
      "text/markdown": [
       "\n",
       "A anova: 2 × 6\n",
       "\n",
       "| <!--/--> | Res.Df &lt;dbl&gt; | RSS &lt;dbl&gt; | Df &lt;dbl&gt; | Sum of Sq &lt;dbl&gt; | F &lt;dbl&gt; | Pr(&gt;F) &lt;dbl&gt; |\n",
       "|---|---|---|---|---|---|---|\n",
       "| 1 | 28 | 89.34987 | NA |       NA |       NA |        NA |\n",
       "| 2 | 27 | 85.07409 |  1 | 4.275779 | 1.357006 | 0.2542464 |\n",
       "\n"
      ],
      "text/plain": [
       "  Res.Df RSS      Df Sum of Sq F        Pr(>F)   \n",
       "1 28     89.34987 NA       NA        NA        NA\n",
       "2 27     85.07409  1 4.275779  1.357006 0.2542464"
      ]
     },
     "metadata": {},
     "output_type": "display_data"
    }
   ],
   "source": [
    "anova(main_effect_fit, interaction_fit)"
   ]
  },
  {
   "cell_type": "markdown",
   "id": "02451ed1",
   "metadata": {},
   "source": [
    "<br>\n",
    "\n",
    "#### 선택된 모델에 대한 해석\n",
    "- 각 종의 우는 소리 속도는 온도가 1도 증가함에 따라 3.6회씩 증가\n",
    "    - 이 항은 p-값으로 입증되는 것처럼 강력한 통계적 유의성\n",
    "- 종 항의 값은 -10.07\n",
    "    - 이는 모든 온도 값에서 O. niveus의 우는 소리 속도가 'O. exclaimis' 보다 분당 약 10회 더 적다는 것을 나타냄\n",
    "- 온도 항과 유사하게 종 효과는 매우 작은 p-값을 가짐\n",
    "- 이 분석에서 유일한 문제는 절편 값입니다. 이는 0°C에서 두 종 모두에 대해 분당 음의 울음 수가 있음을 나타\n",
    "\n",
    "    이는 말이 되지 않지만 데이터는 17.2°C까지만 낮아지며 0°C에서 모델을 해석하는 것은 추정에 불과\n",
    "    \n",
    "    **즉, 온도 값의 적용 가능한 범위 내에서 모델 적합성이 좋으며. 관찰된 온도 범위로 제한되어야 함**\n",
    "\n"
   ]
  },
  {
   "cell_type": "code",
   "execution_count": 13,
   "id": "9a5eb447",
   "metadata": {},
   "outputs": [
    {
     "data": {
      "text/plain": [
       "\n",
       "Call:\n",
       "lm(formula = rate ~ temp + species, data = crickets)\n",
       "\n",
       "Residuals:\n",
       "    Min      1Q  Median      3Q     Max \n",
       "-3.0128 -1.1296 -0.3912  0.9650  3.7800 \n",
       "\n",
       "Coefficients:\n",
       "                  Estimate Std. Error t value Pr(>|t|)    \n",
       "(Intercept)       -7.21091    2.55094  -2.827  0.00858 ** \n",
       "temp               3.60275    0.09729  37.032  < 2e-16 ***\n",
       "speciesO. niveus -10.06529    0.73526 -13.689 6.27e-14 ***\n",
       "---\n",
       "Signif. codes:  0 '***' 0.001 '**' 0.01 '*' 0.05 '.' 0.1 ' ' 1\n",
       "\n",
       "Residual standard error: 1.786 on 28 degrees of freedom\n",
       "Multiple R-squared:  0.9896,\tAdjusted R-squared:  0.9888 \n",
       "F-statistic:  1331 on 2 and 28 DF,  p-value: < 2.2e-16\n"
      ]
     },
     "metadata": {},
     "output_type": "display_data"
    }
   ],
   "source": [
    "summary(main_effect_fit)"
   ]
  },
  {
   "cell_type": "markdown",
   "id": "35a0f58d",
   "metadata": {},
   "source": [
    "<br>\n",
    "\n",
    "- 실험에서 관찰되지 않은 온도에서 처프 속도를 추정해야 하는 경우 예측을 시행\n",
    "- 예측을 위해 모델 객체와 새로운 값의 데이터 프레임이 필요\n",
    "- 예를 들어, 모델은 15°C에서 20°C 사이의 온도에서 'O. exclaimis' 의 우는 소리 속도를 다음을 통해 계산할 수 있다고 추정"
   ]
  },
  {
   "cell_type": "markdown",
   "id": "4be7337a",
   "metadata": {},
   "source": [
    "<br>\n",
    "\n",
    "### 예측 (```predict()```)\n",
    "- ```na.action``` : 결측값 처리 방식 \n",
    "    - (```na.fail``` : 결측값 등장시 예측 중단/ ```na.omit``` : 결측값 제외하고 예측)"
   ]
  },
  {
   "cell_type": "code",
   "execution_count": 15,
   "id": "b206eafd",
   "metadata": {},
   "outputs": [
    {
     "data": {
      "text/html": [
       "<style>\n",
       ".dl-inline {width: auto; margin:0; padding: 0}\n",
       ".dl-inline>dt, .dl-inline>dd {float: none; width: auto; display: inline-block}\n",
       ".dl-inline>dt::after {content: \":\\0020\"; padding-right: .5ex}\n",
       ".dl-inline>dt:not(:first-of-type) {padding-left: .5ex}\n",
       "</style><dl class=dl-inline><dt>1</dt><dd>46.8303869318828</dd><dt>2</dt><dd>50.433139806741</dd><dt>3</dt><dd>54.0358926815992</dd><dt>4</dt><dd>57.6386455564573</dd><dt>5</dt><dd>61.2413984313155</dd><dt>6</dt><dd>64.8441513061737</dd></dl>\n"
      ],
      "text/latex": [
       "\\begin{description*}\n",
       "\\item[1] 46.8303869318828\n",
       "\\item[2] 50.433139806741\n",
       "\\item[3] 54.0358926815992\n",
       "\\item[4] 57.6386455564573\n",
       "\\item[5] 61.2413984313155\n",
       "\\item[6] 64.8441513061737\n",
       "\\end{description*}\n"
      ],
      "text/markdown": [
       "1\n",
       ":   46.83038693188282\n",
       ":   50.4331398067413\n",
       ":   54.03589268159924\n",
       ":   57.63864555645735\n",
       ":   61.24139843131556\n",
       ":   64.8441513061737\n",
       "\n"
      ],
      "text/plain": [
       "       1        2        3        4        5        6 \n",
       "46.83039 50.43314 54.03589 57.63865 61.24140 64.84415 "
      ]
     },
     "metadata": {},
     "output_type": "display_data"
    }
   ],
   "source": [
    "new_values <- data.frame(species = \"O. exclamationis\", temp = 15:20)\n",
    "predict(main_effect_fit, new_values)"
   ]
  },
  {
   "cell_type": "markdown",
   "id": "3ffbca40",
   "metadata": {},
   "source": [
    "<br>\n",
    "\n",
    "## 01.02. `TidyModel`"
   ]
  },
  {
   "cell_type": "markdown",
   "id": "88f2e96a",
   "metadata": {},
   "source": [
    "| Function | Package | Code |\n",
    "| -- | -- | -- |\n",
    "| ```lda()``` | MASS | ```predict(object)```|\n",
    "| ```glm()``` | stats | ```predict(object, type = \"response\")```|\n",
    "| ```gbm()``` | gbm | ```predict(object, type = \"response\", n.trees)```|\n",
    "| ```mda()``` | mda | ```predict(object, type = \"posterior\")```|\n",
    "| ```rpart()``` | rpart | ```predict(object, type = \"prob\")```|\n",
    "| ```various``` | RWeka | ```predict(object, type = \"probability\")```|\n",
    "| ```logitboost()``` | LogitBoost | ```predict(object, type = \"raw\", nIter)```|\n",
    "| ```pamr.train()``` | pamr | ```predict(object, type = \"posterior\")```|"
   ]
  },
  {
   "cell_type": "code",
   "execution_count": 17,
   "id": "d9d59c4c",
   "metadata": {},
   "outputs": [],
   "source": [
    "new_values$temp[1] <- NA"
   ]
  },
  {
   "cell_type": "code",
   "execution_count": 18,
   "id": "982b1a36",
   "metadata": {},
   "outputs": [
    {
     "data": {
      "text/html": [
       "<style>\n",
       ".dl-inline {width: auto; margin:0; padding: 0}\n",
       ".dl-inline>dt, .dl-inline>dd {float: none; width: auto; display: inline-block}\n",
       ".dl-inline>dt::after {content: \":\\0020\"; padding-right: .5ex}\n",
       ".dl-inline>dt:not(:first-of-type) {padding-left: .5ex}\n",
       "</style><dl class=dl-inline><dt>1</dt><dd>&lt;NA&gt;</dd><dt>2</dt><dd>50.433139806741</dd><dt>3</dt><dd>54.0358926815992</dd><dt>4</dt><dd>57.6386455564573</dd><dt>5</dt><dd>61.2413984313155</dd><dt>6</dt><dd>64.8441513061737</dd></dl>\n"
      ],
      "text/latex": [
       "\\begin{description*}\n",
       "\\item[1] <NA>\n",
       "\\item[2] 50.433139806741\n",
       "\\item[3] 54.0358926815992\n",
       "\\item[4] 57.6386455564573\n",
       "\\item[5] 61.2413984313155\n",
       "\\item[6] 64.8441513061737\n",
       "\\end{description*}\n"
      ],
      "text/markdown": [
       "1\n",
       ":   &lt;NA&gt;2\n",
       ":   50.4331398067413\n",
       ":   54.03589268159924\n",
       ":   57.63864555645735\n",
       ":   61.24139843131556\n",
       ":   64.8441513061737\n",
       "\n"
      ],
      "text/plain": [
       "       1        2        3        4        5        6 \n",
       "      NA 50.43314 54.03589 57.63865 61.24140 64.84415 "
      ]
     },
     "metadata": {},
     "output_type": "display_data"
    },
    {
     "data": {
      "text/html": [
       "<style>\n",
       ".dl-inline {width: auto; margin:0; padding: 0}\n",
       ".dl-inline>dt, .dl-inline>dd {float: none; width: auto; display: inline-block}\n",
       ".dl-inline>dt::after {content: \":\\0020\"; padding-right: .5ex}\n",
       ".dl-inline>dt:not(:first-of-type) {padding-left: .5ex}\n",
       "</style><dl class=dl-inline><dt>2</dt><dd>50.433139806741</dd><dt>3</dt><dd>54.0358926815992</dd><dt>4</dt><dd>57.6386455564573</dd><dt>5</dt><dd>61.2413984313155</dd><dt>6</dt><dd>64.8441513061737</dd></dl>\n"
      ],
      "text/latex": [
       "\\begin{description*}\n",
       "\\item[2] 50.433139806741\n",
       "\\item[3] 54.0358926815992\n",
       "\\item[4] 57.6386455564573\n",
       "\\item[5] 61.2413984313155\n",
       "\\item[6] 64.8441513061737\n",
       "\\end{description*}\n"
      ],
      "text/markdown": [
       "2\n",
       ":   50.4331398067413\n",
       ":   54.03589268159924\n",
       ":   57.63864555645735\n",
       ":   61.24139843131556\n",
       ":   64.8441513061737\n",
       "\n"
      ],
      "text/plain": [
       "       2        3        4        5        6 \n",
       "50.43314 54.03589 57.63865 61.24140 64.84415 "
      ]
     },
     "metadata": {},
     "output_type": "display_data"
    },
    {
     "ename": "ERROR",
     "evalue": "Error in na.fail.default(structure(list(temp = c(NA, 16L, 17L, 18L, 19L, : missing values in object\n",
     "output_type": "error",
     "traceback": [
      "Error in na.fail.default(structure(list(temp = c(NA, 16L, 17L, 18L, 19L, : missing values in object\nTraceback:\n",
      "1. predict(main_effect_fit, new_values, na.action = na.fail)",
      "2. predict.lm(main_effect_fit, new_values, na.action = na.fail)",
      "3. model.frame(Terms, newdata, na.action = na.action, xlev = object$xlevels)",
      "4. model.frame.default(Terms, newdata, na.action = na.action, xlev = object$xlevels)",
      "5. (function (object, ...) \n . UseMethod(\"na.fail\"))(structure(list(temp = c(NA, 16L, 17L, 18L, \n . 19L, 20L), species = c(\"O. exclamationis\", \"O. exclamationis\", \n . \"O. exclamationis\", \"O. exclamationis\", \"O. exclamationis\", \"O. exclamationis\"\n . )), class = \"data.frame\", row.names = c(NA, 6L), terms = ~temp + \n .     species))",
      "6. na.fail.default(structure(list(temp = c(NA, 16L, 17L, 18L, 19L, \n . 20L), species = c(\"O. exclamationis\", \"O. exclamationis\", \"O. exclamationis\", \n . \"O. exclamationis\", \"O. exclamationis\", \"O. exclamationis\")), class = \"data.frame\", row.names = c(NA, \n . 6L), terms = ~temp + species))",
      "7. stop(\"missing values in object\")"
     ]
    }
   ],
   "source": [
    "predict(main_effect_fit, new_values, na.action = na.pass) # 결측값 무시\n",
    "predict(main_effect_fit, new_values, na.action = na.omit) # 결측값 제거\n",
    "predict(main_effect_fit, new_values, na.action = na.fail) # 결측값 직면 시 오류"
   ]
  },
  {
   "cell_type": "markdown",
   "id": "3646bed8",
   "metadata": {},
   "source": [
    "<br>\n",
    "\n",
    "### tidy한 객체 표현\n",
    "\n",
    "#### 각 설명변수와 반응변수와의 상관성 검정"
   ]
  },
  {
   "cell_type": "code",
   "execution_count": 24,
   "id": "5b736552",
   "metadata": {},
   "outputs": [],
   "source": [
    "library(tidyverse)\n",
    "library(tidymodels)"
   ]
  },
  {
   "cell_type": "code",
   "execution_count": 25,
   "id": "16beca5d",
   "metadata": {},
   "outputs": [],
   "source": [
    "data(mtcars)"
   ]
  },
  {
   "cell_type": "code",
   "execution_count": 26,
   "id": "ee696312",
   "metadata": {},
   "outputs": [],
   "source": [
    "corr_res <- map(mtcars %>% select(-mpg), cor.test, y = mtcars$mpg)"
   ]
  },
  {
   "cell_type": "code",
   "execution_count": 27,
   "id": "d5786b01",
   "metadata": {},
   "outputs": [
    {
     "data": {
      "text/plain": [
       "\n",
       "\tPearson's product-moment correlation\n",
       "\n",
       "data:  .x[[i]] and mtcars$mpg\n",
       "t = -8.9197, df = 30, p-value = 6.113e-10\n",
       "alternative hypothesis: true correlation is not equal to 0\n",
       "95 percent confidence interval:\n",
       " -0.9257694 -0.7163171\n",
       "sample estimates:\n",
       "      cor \n",
       "-0.852162 \n"
      ]
     },
     "metadata": {},
     "output_type": "display_data"
    }
   ],
   "source": [
    "corr_res[[1]]"
   ]
  },
  {
   "cell_type": "markdown",
   "id": "83ec6046",
   "metadata": {},
   "source": [
    "- `broom::tidy()` 적용"
   ]
  },
  {
   "cell_type": "code",
   "execution_count": 28,
   "id": "e6afcc7b",
   "metadata": {},
   "outputs": [
    {
     "data": {
      "text/html": [
       "<table class=\"dataframe\">\n",
       "<caption>A tibble: 1 × 8</caption>\n",
       "<thead>\n",
       "\t<tr><th scope=col>estimate</th><th scope=col>statistic</th><th scope=col>p.value</th><th scope=col>parameter</th><th scope=col>conf.low</th><th scope=col>conf.high</th><th scope=col>method</th><th scope=col>alternative</th></tr>\n",
       "\t<tr><th scope=col>&lt;dbl&gt;</th><th scope=col>&lt;dbl&gt;</th><th scope=col>&lt;dbl&gt;</th><th scope=col>&lt;int&gt;</th><th scope=col>&lt;dbl&gt;</th><th scope=col>&lt;dbl&gt;</th><th scope=col>&lt;chr&gt;</th><th scope=col>&lt;chr&gt;</th></tr>\n",
       "</thead>\n",
       "<tbody>\n",
       "\t<tr><td>-0.852162</td><td>-8.919699</td><td>6.112687e-10</td><td>30</td><td>-0.9257694</td><td>-0.7163171</td><td>Pearson's product-moment correlation</td><td>two.sided</td></tr>\n",
       "</tbody>\n",
       "</table>\n"
      ],
      "text/latex": [
       "A tibble: 1 × 8\n",
       "\\begin{tabular}{llllllll}\n",
       " estimate & statistic & p.value & parameter & conf.low & conf.high & method & alternative\\\\\n",
       " <dbl> & <dbl> & <dbl> & <int> & <dbl> & <dbl> & <chr> & <chr>\\\\\n",
       "\\hline\n",
       "\t -0.852162 & -8.919699 & 6.112687e-10 & 30 & -0.9257694 & -0.7163171 & Pearson's product-moment correlation & two.sided\\\\\n",
       "\\end{tabular}\n"
      ],
      "text/markdown": [
       "\n",
       "A tibble: 1 × 8\n",
       "\n",
       "| estimate &lt;dbl&gt; | statistic &lt;dbl&gt; | p.value &lt;dbl&gt; | parameter &lt;int&gt; | conf.low &lt;dbl&gt; | conf.high &lt;dbl&gt; | method &lt;chr&gt; | alternative &lt;chr&gt; |\n",
       "|---|---|---|---|---|---|---|---|\n",
       "| -0.852162 | -8.919699 | 6.112687e-10 | 30 | -0.9257694 | -0.7163171 | Pearson's product-moment correlation | two.sided |\n",
       "\n"
      ],
      "text/plain": [
       "  estimate  statistic p.value      parameter conf.low   conf.high \n",
       "1 -0.852162 -8.919699 6.112687e-10 30        -0.9257694 -0.7163171\n",
       "  method                               alternative\n",
       "1 Pearson's product-moment correlation two.sided  "
      ]
     },
     "metadata": {},
     "output_type": "display_data"
    }
   ],
   "source": [
    "tidy(corr_res[[1]])"
   ]
  },
  {
   "cell_type": "markdown",
   "id": "aa32e776",
   "metadata": {},
   "source": [
    "# \n",
    "\n",
    "#### 상관관계를 tidy하게 표현"
   ]
  },
  {
   "cell_type": "code",
   "execution_count": 27,
   "id": "6ce56672",
   "metadata": {},
   "outputs": [
    {
     "data": {
      "image/png": "[encoded data removed]",
      "text/plain": [
       "plot without title"
      ]
     },
     "metadata": {
      "image/png": {
       "height": 420,
       "width": 420
      }
     },
     "output_type": "display_data"
    }
   ],
   "source": [
    "corr_res %>% \n",
    "  map_dfr(tidy, .id = \"predictor\") %>% \n",
    "  ggplot(aes(x = fct_reorder(predictor, estimate))) + \n",
    "  geom_point(aes(y = estimate)) + \n",
    "  geom_errorbar(aes(ymin = conf.low, ymax = conf.high), width = .1) +\n",
    "  labs(x = NULL, y = \"Correlation with mpg\")"
   ]
  },
  {
   "cell_type": "markdown",
   "id": "99476083",
   "metadata": {},
   "source": [
    "<br>\n",
    "\n",
    "## 01.03. BASE R모델과 TIDYVERSE의 결합"
   ]
  },
  {
   "cell_type": "markdown",
   "id": "52a1edfa",
   "metadata": {},
   "source": [
    "#### ```dplyr::group_nest()``` : 그룹별 데이터를 리스트로 표현\n",
    "#### ```unnest()```"
   ]
  },
  {
   "cell_type": "code",
   "execution_count": 30,
   "id": "e168138e",
   "metadata": {},
   "outputs": [
    {
     "data": {
      "text/html": [
       "<table class=\"dataframe\">\n",
       "<caption>A tibble: 3 × 3</caption>\n",
       "<thead>\n",
       "\t<tr><th scope=col>species</th><th scope=col>temp</th><th scope=col>rate</th></tr>\n",
       "\t<tr><th scope=col>&lt;fct&gt;</th><th scope=col>&lt;dbl&gt;</th><th scope=col>&lt;dbl&gt;</th></tr>\n",
       "</thead>\n",
       "<tbody>\n",
       "\t<tr><td>O. exclamationis</td><td>20.8</td><td>67.9</td></tr>\n",
       "\t<tr><td>O. exclamationis</td><td>20.8</td><td>65.1</td></tr>\n",
       "\t<tr><td>O. exclamationis</td><td>24.0</td><td>77.3</td></tr>\n",
       "</tbody>\n",
       "</table>\n"
      ],
      "text/latex": [
       "A tibble: 3 × 3\n",
       "\\begin{tabular}{lll}\n",
       " species & temp & rate\\\\\n",
       " <fct> & <dbl> & <dbl>\\\\\n",
       "\\hline\n",
       "\t O. exclamationis & 20.8 & 67.9\\\\\n",
       "\t O. exclamationis & 20.8 & 65.1\\\\\n",
       "\t O. exclamationis & 24.0 & 77.3\\\\\n",
       "\\end{tabular}\n"
      ],
      "text/markdown": [
       "\n",
       "A tibble: 3 × 3\n",
       "\n",
       "| species &lt;fct&gt; | temp &lt;dbl&gt; | rate &lt;dbl&gt; |\n",
       "|---|---|---|\n",
       "| O. exclamationis | 20.8 | 67.9 |\n",
       "| O. exclamationis | 20.8 | 65.1 |\n",
       "| O. exclamationis | 24.0 | 77.3 |\n",
       "\n"
      ],
      "text/plain": [
       "  species          temp rate\n",
       "1 O. exclamationis 20.8 67.9\n",
       "2 O. exclamationis 20.8 65.1\n",
       "3 O. exclamationis 24.0 77.3"
      ]
     },
     "metadata": {},
     "output_type": "display_data"
    }
   ],
   "source": [
    "crickets %>% head(3)"
   ]
  },
  {
   "cell_type": "markdown",
   "id": "42676667",
   "metadata": {},
   "source": [
    "- 변수 그룹별 nest"
   ]
  },
  {
   "cell_type": "code",
   "execution_count": 31,
   "id": "c7fe177b",
   "metadata": {},
   "outputs": [
    {
     "data": {
      "text/html": [
       "<table class=\"dataframe\">\n",
       "<caption>A tibble: 2 × 2</caption>\n",
       "<thead>\n",
       "\t<tr><th scope=col>species</th><th scope=col>data</th></tr>\n",
       "\t<tr><th scope=col>&lt;fct&gt;</th><th scope=col>&lt;list&lt;tibble[,2]&gt;&gt;</th></tr>\n",
       "</thead>\n",
       "<tbody>\n",
       "\t<tr><td>O. exclamationis</td><td>20.8, 20.8, 24.0, 24.0, 24.0, 24.0, 26.2, 26.2, 26.2, 26.2, 28.4, 29.0, 30.4, 30.4, 67.9, 65.1, 77.3, 78.7, 79.4, 80.4, 85.8, 86.6, 87.5, 89.1, 98.6, 100.8, 99.3, 101.7</td></tr>\n",
       "\t<tr><td>O. niveus       </td><td>17.2, 18.3, 18.3, 18.3, 18.9, 18.9, 20.4, 21.0, 21.0, 22.1, 23.5, 24.2, 25.9, 26.5, 26.5, 26.5, 28.6, 44.3, 47.2, 47.6, 49.6, 50.3, 51.8, 60.0, 58.5, 58.9, 60.7, 69.8, 70.9, 76.2, 76.1, 77.0, 77.7, 84.7</td></tr>\n",
       "</tbody>\n",
       "</table>\n"
      ],
      "text/latex": [
       "A tibble: 2 × 2\n",
       "\\begin{tabular}{ll}\n",
       " species & data\\\\\n",
       " <fct> & <list<tibble{[},2{]}>>\\\\\n",
       "\\hline\n",
       "\t O. exclamationis & 20.8, 20.8, 24.0, 24.0, 24.0, 24.0, 26.2, 26.2, 26.2, 26.2, 28.4, 29.0, 30.4, 30.4, 67.9, 65.1, 77.3, 78.7, 79.4, 80.4, 85.8, 86.6, 87.5, 89.1, 98.6, 100.8, 99.3, 101.7\\\\\n",
       "\t O. niveus        & 17.2, 18.3, 18.3, 18.3, 18.9, 18.9, 20.4, 21.0, 21.0, 22.1, 23.5, 24.2, 25.9, 26.5, 26.5, 26.5, 28.6, 44.3, 47.2, 47.6, 49.6, 50.3, 51.8, 60.0, 58.5, 58.9, 60.7, 69.8, 70.9, 76.2, 76.1, 77.0, 77.7, 84.7\\\\\n",
       "\\end{tabular}\n"
      ],
      "text/markdown": [
       "\n",
       "A tibble: 2 × 2\n",
       "\n",
       "| species &lt;fct&gt; | data &lt;list&lt;tibble[,2]&gt;&gt; |\n",
       "|---|---|\n",
       "| O. exclamationis | 20.8, 20.8, 24.0, 24.0, 24.0, 24.0, 26.2, 26.2, 26.2, 26.2, 28.4, 29.0, 30.4, 30.4, 67.9, 65.1, 77.3, 78.7, 79.4, 80.4, 85.8, 86.6, 87.5, 89.1, 98.6, 100.8, 99.3, 101.7 |\n",
       "| O. niveus        | 17.2, 18.3, 18.3, 18.3, 18.9, 18.9, 20.4, 21.0, 21.0, 22.1, 23.5, 24.2, 25.9, 26.5, 26.5, 26.5, 28.6, 44.3, 47.2, 47.6, 49.6, 50.3, 51.8, 60.0, 58.5, 58.9, 60.7, 69.8, 70.9, 76.2, 76.1, 77.0, 77.7, 84.7 |\n",
       "\n"
      ],
      "text/plain": [
       "  species         \n",
       "1 O. exclamationis\n",
       "2 O. niveus       \n",
       "  data                                                                                                                                                                                                      \n",
       "1 20.8, 20.8, 24.0, 24.0, 24.0, 24.0, 26.2, 26.2, 26.2, 26.2, 28.4, 29.0, 30.4, 30.4, 67.9, 65.1, 77.3, 78.7, 79.4, 80.4, 85.8, 86.6, 87.5, 89.1, 98.6, 100.8, 99.3, 101.7                                  \n",
       "2 17.2, 18.3, 18.3, 18.3, 18.9, 18.9, 20.4, 21.0, 21.0, 22.1, 23.5, 24.2, 25.9, 26.5, 26.5, 26.5, 28.6, 44.3, 47.2, 47.6, 49.6, 50.3, 51.8, 60.0, 58.5, 58.9, 60.7, 69.8, 70.9, 76.2, 76.1, 77.0, 77.7, 84.7"
      ]
     },
     "metadata": {},
     "output_type": "display_data"
    }
   ],
   "source": [
    "(split_by_species <- crickets %>%\n",
    "    group_nest(species))"
   ]
  },
  {
   "cell_type": "markdown",
   "id": "6e4514d6",
   "metadata": {},
   "source": [
    "- nest된 데이터에 대한 모델링"
   ]
  },
  {
   "cell_type": "code",
   "execution_count": 32,
   "id": "e1f029fc",
   "metadata": {},
   "outputs": [
    {
     "data": {
      "text/html": [
       "<table class=\"dataframe\">\n",
       "<caption>A tibble: 2 × 3</caption>\n",
       "<thead>\n",
       "\t<tr><th scope=col>species</th><th scope=col>data</th><th scope=col>model</th></tr>\n",
       "\t<tr><th scope=col>&lt;fct&gt;</th><th scope=col>&lt;list&lt;tibble[,2]&gt;&gt;</th><th scope=col>&lt;list&gt;</th></tr>\n",
       "</thead>\n",
       "<tbody>\n",
       "\t<tr><td>O. exclamationis</td><td>20.8, 20.8, 24.0, 24.0, 24.0, 24.0, 26.2, 26.2, 26.2, 26.2, 28.4, 29.0, 30.4, 30.4, 67.9, 65.1, 77.3, 78.7, 79.4, 80.4, 85.8, 86.6, 87.5, 89.1, 98.6, 100.8, 99.3, 101.7</td><td>-11.04085, 3.751447, 0.9107456, -1.889254, -1.693886, -0.2938856, 0.4061144, 1.406114, -1.447069, -0.6470695, 0.2529305, 1.852931, 3.099747, 3.048878, -3.703148, -1.303148, -320.2324, 41.58768, -1.78719, -0.3871904, 0.3128096, 1.31281, -1.845687, -1.045687, -0.1456873, 1.454313, 2.395816, 2.26168, -4.684636, -2.284636, 2, 66.98925, 66.98925, 78.99389, 78.99389, 78.99389, 78.99389, 87.24707, 87.24707, 87.24707, 87.24707, 95.50025, 97.75112, 103.0031, 103.0031, 0, 1, -3.741657, 0.2672612, 0.2672612, 0.2672612, 0.2672612, 0.2672612, 0.2672612, 0.2672612, 0.2672612, 0.2672612, 0.2672612, 0.2672612, 0.2672612, 0.2672612, -96.3744, 11.08577, 0.06419921, 0.06419921, 0.06419921, 0.06419921, -0.1342534, -0.1342534, -0.1342534, -0.1342534, -0.332706, -0.3868295, -0.5131175, -0.5131175, 1.267261, 1.352858, 1, 2, 1e-07, 2, 12, lm(formula = rate ~ temp, data = .x), rate ~ temp, 67.9, 65.1, 77.3, 78.7, 79.4, 80.4, 85.8, 86.6, 87.5, 89.1, 98.6, 100.8, 99.3, 101.7, 20.8, 20.8, 24, 24, 24, 24, 26.2, 26.2, 26.2, 26.2, 28.4, 29, 30.4, 30.4</td></tr>\n",
       "\t<tr><td>O. niveus       </td><td>17.2, 18.3, 18.3, 18.3, 18.9, 18.9, 20.4, 21.0, 21.0, 22.1, 23.5, 24.2, 25.9, 26.5, 26.5, 26.5, 28.6, 44.3, 47.2, 47.6, 49.6, 50.3, 51.8, 60.0, 58.5, 58.9, 60.7, 69.8, 70.9, 76.2, 76.1, 77.0, 77.7, 84.7</td><td>-15.38926, 3.517462, -0.8110857, -1.780294, -1.380294, 0.6197064, -0.7907706, 0.7092294, 3.633037, 0.02255989, 0.4225599, -1.646648, 2.528906, 1.166682, 0.4869976, -1.723479, -0.8234794, -0.1234794, -0.5101489, -257.4031, 51.48615, -0.9566638, 1.043336, -0.4227521, 1.077248, 3.862027, 0.1959391, 0.5959391, -1.575223, 2.470571, 1.043468, 0.2062184, -2.05987, -1.15987, -0.4598698, -1.041179, 2, 45.11109, 48.98029, 48.98029, 48.98029, 51.09077, 51.09077, 56.36696, 58.47744, 58.47744, 62.34665, 67.27109, 69.73332, 75.713, 77.82348, 77.82348, 77.82348, 85.21015, 0, 1, -4.123106, 0.2425356, 0.2425356, 0.2425356, 0.2425356, 0.2425356, 0.2425356, 0.2425356, 0.2425356, 0.2425356, 0.2425356, 0.2425356, 0.2425356, 0.2425356, 0.2425356, 0.2425356, 0.2425356, -91.21765, 14.6373, 0.195561, 0.195561, 0.1545699, 0.1545699, 0.05209195, 0.01110078, 0.01110078, -0.06404968, -0.1596957, -0.2075188, -0.3236604, -0.3646515, -0.3646515, -0.3646515, -0.5081206, 1.242536, 1.195561, 1, 2, 1e-07, 2, 15, lm(formula = rate ~ temp, data = .x), rate ~ temp, 44.3, 47.2, 47.6, 49.6, 50.3, 51.8, 60, 58.5, 58.9, 60.7, 69.8, 70.9, 76.2, 76.1, 77, 77.7, 84.7, 17.2, 18.3, 18.3, 18.3, 18.9, 18.9, 20.4, 21, 21, 22.1, 23.5, 24.2, 25.9, 26.5, 26.5, 26.5, 28.6</td></tr>\n",
       "</tbody>\n",
       "</table>\n"
      ],
      "text/latex": [
       "A tibble: 2 × 3\n",
       "\\begin{tabular}{lll}\n",
       " species & data & model\\\\\n",
       " <fct> & <list<tibble{[},2{]}>> & <list>\\\\\n",
       "\\hline\n",
       "\t O. exclamationis & 20.8, 20.8, 24.0, 24.0, 24.0, 24.0, 26.2, 26.2, 26.2, 26.2, 28.4, 29.0, 30.4, 30.4, 67.9, 65.1, 77.3, 78.7, 79.4, 80.4, 85.8, 86.6, 87.5, 89.1, 98.6, 100.8, 99.3, 101.7 & -11.04085, 3.751447, 0.9107456, -1.889254, -1.693886, -0.2938856, 0.4061144, 1.406114, -1.447069, -0.6470695, 0.2529305, 1.852931, 3.099747, 3.048878, -3.703148, -1.303148, -320.2324, 41.58768, -1.78719, -0.3871904, 0.3128096, 1.31281, -1.845687, -1.045687, -0.1456873, 1.454313, 2.395816, 2.26168, -4.684636, -2.284636, 2, 66.98925, 66.98925, 78.99389, 78.99389, 78.99389, 78.99389, 87.24707, 87.24707, 87.24707, 87.24707, 95.50025, 97.75112, 103.0031, 103.0031, 0, 1, -3.741657, 0.2672612, 0.2672612, 0.2672612, 0.2672612, 0.2672612, 0.2672612, 0.2672612, 0.2672612, 0.2672612, 0.2672612, 0.2672612, 0.2672612, 0.2672612, -96.3744, 11.08577, 0.06419921, 0.06419921, 0.06419921, 0.06419921, -0.1342534, -0.1342534, -0.1342534, -0.1342534, -0.332706, -0.3868295, -0.5131175, -0.5131175, 1.267261, 1.352858, 1, 2, 1e-07, 2, 12, lm(formula = rate \\textasciitilde{} temp, data = .x), rate \\textasciitilde{} temp, 67.9, 65.1, 77.3, 78.7, 79.4, 80.4, 85.8, 86.6, 87.5, 89.1, 98.6, 100.8, 99.3, 101.7, 20.8, 20.8, 24, 24, 24, 24, 26.2, 26.2, 26.2, 26.2, 28.4, 29, 30.4, 30.4\\\\\n",
       "\t O. niveus        & 17.2, 18.3, 18.3, 18.3, 18.9, 18.9, 20.4, 21.0, 21.0, 22.1, 23.5, 24.2, 25.9, 26.5, 26.5, 26.5, 28.6, 44.3, 47.2, 47.6, 49.6, 50.3, 51.8, 60.0, 58.5, 58.9, 60.7, 69.8, 70.9, 76.2, 76.1, 77.0, 77.7, 84.7 & -15.38926, 3.517462, -0.8110857, -1.780294, -1.380294, 0.6197064, -0.7907706, 0.7092294, 3.633037, 0.02255989, 0.4225599, -1.646648, 2.528906, 1.166682, 0.4869976, -1.723479, -0.8234794, -0.1234794, -0.5101489, -257.4031, 51.48615, -0.9566638, 1.043336, -0.4227521, 1.077248, 3.862027, 0.1959391, 0.5959391, -1.575223, 2.470571, 1.043468, 0.2062184, -2.05987, -1.15987, -0.4598698, -1.041179, 2, 45.11109, 48.98029, 48.98029, 48.98029, 51.09077, 51.09077, 56.36696, 58.47744, 58.47744, 62.34665, 67.27109, 69.73332, 75.713, 77.82348, 77.82348, 77.82348, 85.21015, 0, 1, -4.123106, 0.2425356, 0.2425356, 0.2425356, 0.2425356, 0.2425356, 0.2425356, 0.2425356, 0.2425356, 0.2425356, 0.2425356, 0.2425356, 0.2425356, 0.2425356, 0.2425356, 0.2425356, 0.2425356, -91.21765, 14.6373, 0.195561, 0.195561, 0.1545699, 0.1545699, 0.05209195, 0.01110078, 0.01110078, -0.06404968, -0.1596957, -0.2075188, -0.3236604, -0.3646515, -0.3646515, -0.3646515, -0.5081206, 1.242536, 1.195561, 1, 2, 1e-07, 2, 15, lm(formula = rate \\textasciitilde{} temp, data = .x), rate \\textasciitilde{} temp, 44.3, 47.2, 47.6, 49.6, 50.3, 51.8, 60, 58.5, 58.9, 60.7, 69.8, 70.9, 76.2, 76.1, 77, 77.7, 84.7, 17.2, 18.3, 18.3, 18.3, 18.9, 18.9, 20.4, 21, 21, 22.1, 23.5, 24.2, 25.9, 26.5, 26.5, 26.5, 28.6\\\\\n",
       "\\end{tabular}\n"
      ],
      "text/markdown": [
       "\n",
       "A tibble: 2 × 3\n",
       "\n",
       "| species &lt;fct&gt; | data &lt;list&lt;tibble[,2]&gt;&gt; | model &lt;list&gt; |\n",
       "|---|---|---|\n",
       "| O. exclamationis | 20.8, 20.8, 24.0, 24.0, 24.0, 24.0, 26.2, 26.2, 26.2, 26.2, 28.4, 29.0, 30.4, 30.4, 67.9, 65.1, 77.3, 78.7, 79.4, 80.4, 85.8, 86.6, 87.5, 89.1, 98.6, 100.8, 99.3, 101.7 | -11.04085, 3.751447, 0.9107456, -1.889254, -1.693886, -0.2938856, 0.4061144, 1.406114, -1.447069, -0.6470695, 0.2529305, 1.852931, 3.099747, 3.048878, -3.703148, -1.303148, -320.2324, 41.58768, -1.78719, -0.3871904, 0.3128096, 1.31281, -1.845687, -1.045687, -0.1456873, 1.454313, 2.395816, 2.26168, -4.684636, -2.284636, 2, 66.98925, 66.98925, 78.99389, 78.99389, 78.99389, 78.99389, 87.24707, 87.24707, 87.24707, 87.24707, 95.50025, 97.75112, 103.0031, 103.0031, 0, 1, -3.741657, 0.2672612, 0.2672612, 0.2672612, 0.2672612, 0.2672612, 0.2672612, 0.2672612, 0.2672612, 0.2672612, 0.2672612, 0.2672612, 0.2672612, 0.2672612, -96.3744, 11.08577, 0.06419921, 0.06419921, 0.06419921, 0.06419921, -0.1342534, -0.1342534, -0.1342534, -0.1342534, -0.332706, -0.3868295, -0.5131175, -0.5131175, 1.267261, 1.352858, 1, 2, 1e-07, 2, 12, lm(formula = rate ~ temp, data = .x), rate ~ temp, 67.9, 65.1, 77.3, 78.7, 79.4, 80.4, 85.8, 86.6, 87.5, 89.1, 98.6, 100.8, 99.3, 101.7, 20.8, 20.8, 24, 24, 24, 24, 26.2, 26.2, 26.2, 26.2, 28.4, 29, 30.4, 30.4 |\n",
       "| O. niveus        | 17.2, 18.3, 18.3, 18.3, 18.9, 18.9, 20.4, 21.0, 21.0, 22.1, 23.5, 24.2, 25.9, 26.5, 26.5, 26.5, 28.6, 44.3, 47.2, 47.6, 49.6, 50.3, 51.8, 60.0, 58.5, 58.9, 60.7, 69.8, 70.9, 76.2, 76.1, 77.0, 77.7, 84.7 | -15.38926, 3.517462, -0.8110857, -1.780294, -1.380294, 0.6197064, -0.7907706, 0.7092294, 3.633037, 0.02255989, 0.4225599, -1.646648, 2.528906, 1.166682, 0.4869976, -1.723479, -0.8234794, -0.1234794, -0.5101489, -257.4031, 51.48615, -0.9566638, 1.043336, -0.4227521, 1.077248, 3.862027, 0.1959391, 0.5959391, -1.575223, 2.470571, 1.043468, 0.2062184, -2.05987, -1.15987, -0.4598698, -1.041179, 2, 45.11109, 48.98029, 48.98029, 48.98029, 51.09077, 51.09077, 56.36696, 58.47744, 58.47744, 62.34665, 67.27109, 69.73332, 75.713, 77.82348, 77.82348, 77.82348, 85.21015, 0, 1, -4.123106, 0.2425356, 0.2425356, 0.2425356, 0.2425356, 0.2425356, 0.2425356, 0.2425356, 0.2425356, 0.2425356, 0.2425356, 0.2425356, 0.2425356, 0.2425356, 0.2425356, 0.2425356, 0.2425356, -91.21765, 14.6373, 0.195561, 0.195561, 0.1545699, 0.1545699, 0.05209195, 0.01110078, 0.01110078, -0.06404968, -0.1596957, -0.2075188, -0.3236604, -0.3646515, -0.3646515, -0.3646515, -0.5081206, 1.242536, 1.195561, 1, 2, 1e-07, 2, 15, lm(formula = rate ~ temp, data = .x), rate ~ temp, 44.3, 47.2, 47.6, 49.6, 50.3, 51.8, 60, 58.5, 58.9, 60.7, 69.8, 70.9, 76.2, 76.1, 77, 77.7, 84.7, 17.2, 18.3, 18.3, 18.3, 18.9, 18.9, 20.4, 21, 21, 22.1, 23.5, 24.2, 25.9, 26.5, 26.5, 26.5, 28.6 |\n",
       "\n"
      ],
      "text/plain": [
       "  species         \n",
       "1 O. exclamationis\n",
       "2 O. niveus       \n",
       "  data                                                                                                                                                                                                      \n",
       "1 20.8, 20.8, 24.0, 24.0, 24.0, 24.0, 26.2, 26.2, 26.2, 26.2, 28.4, 29.0, 30.4, 30.4, 67.9, 65.1, 77.3, 78.7, 79.4, 80.4, 85.8, 86.6, 87.5, 89.1, 98.6, 100.8, 99.3, 101.7                                  \n",
       "2 17.2, 18.3, 18.3, 18.3, 18.9, 18.9, 20.4, 21.0, 21.0, 22.1, 23.5, 24.2, 25.9, 26.5, 26.5, 26.5, 28.6, 44.3, 47.2, 47.6, 49.6, 50.3, 51.8, 60.0, 58.5, 58.9, 60.7, 69.8, 70.9, 76.2, 76.1, 77.0, 77.7, 84.7\n",
       "  model                                                                                                                                                                                                                                                                                                                                                                                                                                                                                                                                                                                                                                                                                                                                                                                                                                                                                                                                                                                                                                                                                                                                                                                                                                                                                \n",
       "1 -11.04085, 3.751447, 0.9107456, -1.889254, -1.693886, -0.2938856, 0.4061144, 1.406114, -1.447069, -0.6470695, 0.2529305, 1.852931, 3.099747, 3.048878, -3.703148, -1.303148, -320.2324, 41.58768, -1.78719, -0.3871904, 0.3128096, 1.31281, -1.845687, -1.045687, -0.1456873, 1.454313, 2.395816, 2.26168, -4.684636, -2.284636, 2, 66.98925, 66.98925, 78.99389, 78.99389, 78.99389, 78.99389, 87.24707, 87.24707, 87.24707, 87.24707, 95.50025, 97.75112, 103.0031, 103.0031, 0, 1, -3.741657, 0.2672612, 0.2672612, 0.2672612, 0.2672612, 0.2672612, 0.2672612, 0.2672612, 0.2672612, 0.2672612, 0.2672612, 0.2672612, 0.2672612, 0.2672612, -96.3744, 11.08577, 0.06419921, 0.06419921, 0.06419921, 0.06419921, -0.1342534, -0.1342534, -0.1342534, -0.1342534, -0.332706, -0.3868295, -0.5131175, -0.5131175, 1.267261, 1.352858, 1, 2, 1e-07, 2, 12, lm(formula = rate ~ temp, data = .x), rate ~ temp, 67.9, 65.1, 77.3, 78.7, 79.4, 80.4, 85.8, 86.6, 87.5, 89.1, 98.6, 100.8, 99.3, 101.7, 20.8, 20.8, 24, 24, 24, 24, 26.2, 26.2, 26.2, 26.2, 28.4, 29, 30.4, 30.4                                                                                                                                                                                                         \n",
       "2 -15.38926, 3.517462, -0.8110857, -1.780294, -1.380294, 0.6197064, -0.7907706, 0.7092294, 3.633037, 0.02255989, 0.4225599, -1.646648, 2.528906, 1.166682, 0.4869976, -1.723479, -0.8234794, -0.1234794, -0.5101489, -257.4031, 51.48615, -0.9566638, 1.043336, -0.4227521, 1.077248, 3.862027, 0.1959391, 0.5959391, -1.575223, 2.470571, 1.043468, 0.2062184, -2.05987, -1.15987, -0.4598698, -1.041179, 2, 45.11109, 48.98029, 48.98029, 48.98029, 51.09077, 51.09077, 56.36696, 58.47744, 58.47744, 62.34665, 67.27109, 69.73332, 75.713, 77.82348, 77.82348, 77.82348, 85.21015, 0, 1, -4.123106, 0.2425356, 0.2425356, 0.2425356, 0.2425356, 0.2425356, 0.2425356, 0.2425356, 0.2425356, 0.2425356, 0.2425356, 0.2425356, 0.2425356, 0.2425356, 0.2425356, 0.2425356, 0.2425356, -91.21765, 14.6373, 0.195561, 0.195561, 0.1545699, 0.1545699, 0.05209195, 0.01110078, 0.01110078, -0.06404968, -0.1596957, -0.2075188, -0.3236604, -0.3646515, -0.3646515, -0.3646515, -0.5081206, 1.242536, 1.195561, 1, 2, 1e-07, 2, 15, lm(formula = rate ~ temp, data = .x), rate ~ temp, 44.3, 47.2, 47.6, 49.6, 50.3, 51.8, 60, 58.5, 58.9, 60.7, 69.8, 70.9, 76.2, 76.1, 77, 77.7, 84.7, 17.2, 18.3, 18.3, 18.3, 18.9, 18.9, 20.4, 21, 21, 22.1, 23.5, 24.2, 25.9, 26.5, 26.5, 26.5, 28.6"
      ]
     },
     "metadata": {},
     "output_type": "display_data"
    }
   ],
   "source": [
    "(model_by_species <-  split_by_species %>% \n",
    "     mutate(model = map(data, ~ lm(rate ~ temp, data = .x))))"
   ]
  },
  {
   "cell_type": "markdown",
   "id": "23c802f2",
   "metadata": {},
   "source": [
    "- 모델링 결과"
   ]
  },
  {
   "cell_type": "code",
   "execution_count": 35,
   "id": "367fb626",
   "metadata": {},
   "outputs": [
    {
     "data": {
      "text/html": [
       "<table class=\"dataframe\">\n",
       "<caption>A tibble: 4 × 6</caption>\n",
       "<thead>\n",
       "\t<tr><th scope=col>species</th><th scope=col>term</th><th scope=col>estimate</th><th scope=col>std.error</th><th scope=col>statistic</th><th scope=col>p.value</th></tr>\n",
       "\t<tr><th scope=col>&lt;fct&gt;</th><th scope=col>&lt;chr&gt;</th><th scope=col>&lt;dbl&gt;</th><th scope=col>&lt;dbl&gt;</th><th scope=col>&lt;dbl&gt;</th><th scope=col>&lt;dbl&gt;</th></tr>\n",
       "</thead>\n",
       "<tbody>\n",
       "\t<tr><td>O. exclamationis</td><td>(Intercept)</td><td>-11.040848</td><td>4.7654774</td><td>-2.316840</td><td>3.898993e-02</td></tr>\n",
       "\t<tr><td>O. exclamationis</td><td>temp       </td><td>  3.751447</td><td>0.1838038</td><td>20.410068</td><td>1.100375e-10</td></tr>\n",
       "\t<tr><td>O. niveus       </td><td>(Intercept)</td><td>-15.389255</td><td>2.3467153</td><td>-6.557785</td><td>9.074321e-06</td></tr>\n",
       "\t<tr><td>O. niveus       </td><td>temp       </td><td>  3.517462</td><td>0.1047334</td><td>33.584894</td><td>1.565616e-15</td></tr>\n",
       "</tbody>\n",
       "</table>\n"
      ],
      "text/latex": [
       "A tibble: 4 × 6\n",
       "\\begin{tabular}{llllll}\n",
       " species & term & estimate & std.error & statistic & p.value\\\\\n",
       " <fct> & <chr> & <dbl> & <dbl> & <dbl> & <dbl>\\\\\n",
       "\\hline\n",
       "\t O. exclamationis & (Intercept) & -11.040848 & 4.7654774 & -2.316840 & 3.898993e-02\\\\\n",
       "\t O. exclamationis & temp        &   3.751447 & 0.1838038 & 20.410068 & 1.100375e-10\\\\\n",
       "\t O. niveus        & (Intercept) & -15.389255 & 2.3467153 & -6.557785 & 9.074321e-06\\\\\n",
       "\t O. niveus        & temp        &   3.517462 & 0.1047334 & 33.584894 & 1.565616e-15\\\\\n",
       "\\end{tabular}\n"
      ],
      "text/markdown": [
       "\n",
       "A tibble: 4 × 6\n",
       "\n",
       "| species &lt;fct&gt; | term &lt;chr&gt; | estimate &lt;dbl&gt; | std.error &lt;dbl&gt; | statistic &lt;dbl&gt; | p.value &lt;dbl&gt; |\n",
       "|---|---|---|---|---|---|\n",
       "| O. exclamationis | (Intercept) | -11.040848 | 4.7654774 | -2.316840 | 3.898993e-02 |\n",
       "| O. exclamationis | temp        |   3.751447 | 0.1838038 | 20.410068 | 1.100375e-10 |\n",
       "| O. niveus        | (Intercept) | -15.389255 | 2.3467153 | -6.557785 | 9.074321e-06 |\n",
       "| O. niveus        | temp        |   3.517462 | 0.1047334 | 33.584894 | 1.565616e-15 |\n",
       "\n"
      ],
      "text/plain": [
       "  species          term        estimate   std.error statistic p.value     \n",
       "1 O. exclamationis (Intercept) -11.040848 4.7654774 -2.316840 3.898993e-02\n",
       "2 O. exclamationis temp          3.751447 0.1838038 20.410068 1.100375e-10\n",
       "3 O. niveus        (Intercept) -15.389255 2.3467153 -6.557785 9.074321e-06\n",
       "4 O. niveus        temp          3.517462 0.1047334 33.584894 1.565616e-15"
      ]
     },
     "metadata": {},
     "output_type": "display_data"
    }
   ],
   "source": [
    "model_by_species %>% \n",
    "    mutate(coef = map(model, tidy)) %>% \n",
    "    select(species, coef) %>% \n",
    "    unnest(cols = c(coef))"
   ]
  },
  {
   "cell_type": "markdown",
   "id": "03cba263",
   "metadata": {},
   "source": [
    "<br>\n",
    "\n",
    "## 01.04. TIDYMODELS"
   ]
  },
  {
   "cell_type": "code",
   "execution_count": 46,
   "id": "bcd8e12b",
   "metadata": {},
   "outputs": [],
   "source": [
    "library(tidymodels)"
   ]
  },
  {
   "cell_type": "markdown",
   "id": "0752b68c",
   "metadata": {},
   "source": [
    "<br>\n",
    "\n",
    "#### 패키지간 함수 충돌 시 정리"
   ]
  },
  {
   "cell_type": "markdown",
   "id": "45c27412",
   "metadata": {},
   "source": [
    "<br>\n",
    "\n",
    "#### ```conflicted::conflict_prefer()``` : 개별 충돌 함수에 대해 사용할 함수 정의"
   ]
  },
  {
   "cell_type": "code",
   "execution_count": 48,
   "id": "8ec557e1",
   "metadata": {},
   "outputs": [
    {
     "name": "stderr",
     "output_type": "stream",
     "text": [
      "[conflicted] Will prefer \u001b[34mdplyr::filter\u001b[39m over any other package\n"
     ]
    }
   ],
   "source": [
    "library(conflicted)\n",
    "conflict_prefer(\"filter\", winner = \"dplyr\")"
   ]
  },
  {
   "cell_type": "markdown",
   "id": "0c7a52e5",
   "metadata": {},
   "source": [
    "<br>\n",
    "\n",
    "#### ```tidymodels::tidymodels_prefer()``` : tidymodels 함수의 가장 일반적인 충돌을 처리"
   ]
  },
  {
   "cell_type": "code",
   "execution_count": 36,
   "id": "a2c75d37",
   "metadata": {},
   "outputs": [
    {
     "name": "stderr",
     "output_type": "stream",
     "text": [
      "\u001b[1m\u001b[22m\u001b[90m[conflicted]\u001b[39m Will prefer \u001b[1m\u001b[34magua\u001b[39m\u001b[22m::refit over any other package.\n",
      "\u001b[1m\u001b[22m\u001b[90m[conflicted]\u001b[39m Will prefer \u001b[1m\u001b[34mdials\u001b[39m\u001b[22m::Laplace over any other package.\n",
      "\u001b[1m\u001b[22m\u001b[90m[conflicted]\u001b[39m Will prefer \u001b[1m\u001b[34mdials\u001b[39m\u001b[22m::max_rules over any other package.\n",
      "\u001b[1m\u001b[22m\u001b[90m[conflicted]\u001b[39m Will prefer \u001b[1m\u001b[34mdials\u001b[39m\u001b[22m::neighbors over any other package.\n",
      "\u001b[1m\u001b[22m\u001b[90m[conflicted]\u001b[39m Will prefer \u001b[1m\u001b[34mdials\u001b[39m\u001b[22m::prune over any other package.\n",
      "\u001b[1m\u001b[22m\u001b[90m[conflicted]\u001b[39m Will prefer \u001b[1m\u001b[34mdials\u001b[39m\u001b[22m::smoothness over any other package.\n",
      "\u001b[1m\u001b[22m\u001b[90m[conflicted]\u001b[39m Will prefer \u001b[1m\u001b[34mdplyr\u001b[39m\u001b[22m::collapse over any other package.\n",
      "\u001b[1m\u001b[22m\u001b[90m[conflicted]\u001b[39m Will prefer \u001b[1m\u001b[34mdplyr\u001b[39m\u001b[22m::combine over any other package.\n",
      "\u001b[1m\u001b[22m\u001b[90m[conflicted]\u001b[39m Will prefer \u001b[1m\u001b[34mdplyr\u001b[39m\u001b[22m::filter over any other package.\n",
      "\u001b[1m\u001b[22m\u001b[90m[conflicted]\u001b[39m Will prefer \u001b[1m\u001b[34mdplyr\u001b[39m\u001b[22m::rename over any other package.\n",
      "\u001b[1m\u001b[22m\u001b[90m[conflicted]\u001b[39m Will prefer \u001b[1m\u001b[34mdplyr\u001b[39m\u001b[22m::select over any other package.\n",
      "\u001b[1m\u001b[22m\u001b[90m[conflicted]\u001b[39m Will prefer \u001b[1m\u001b[34mdplyr\u001b[39m\u001b[22m::slice over any other package.\n",
      "\u001b[1m\u001b[22m\u001b[90m[conflicted]\u001b[39m Will prefer \u001b[1m\u001b[34mggplot2\u001b[39m\u001b[22m::`%+%` over any other package.\n",
      "\u001b[1m\u001b[22m\u001b[90m[conflicted]\u001b[39m Will prefer \u001b[1m\u001b[34mggplot2\u001b[39m\u001b[22m::margin over any other package.\n",
      "\u001b[1m\u001b[22m\u001b[90m[conflicted]\u001b[39m Will prefer \u001b[1m\u001b[34mparsnip\u001b[39m\u001b[22m::bart over any other package.\n",
      "\u001b[1m\u001b[22m\u001b[90m[conflicted]\u001b[39m Will prefer \u001b[1m\u001b[34mparsnip\u001b[39m\u001b[22m::fit over any other package.\n",
      "\u001b[1m\u001b[22m\u001b[90m[conflicted]\u001b[39m Will prefer \u001b[1m\u001b[34mparsnip\u001b[39m\u001b[22m::mars over any other package.\n",
      "\u001b[1m\u001b[22m\u001b[90m[conflicted]\u001b[39m Will prefer \u001b[1m\u001b[34mparsnip\u001b[39m\u001b[22m::pls over any other package.\n",
      "\u001b[1m\u001b[22m\u001b[90m[conflicted]\u001b[39m Will prefer \u001b[1m\u001b[34mpurrr\u001b[39m\u001b[22m::cross over any other package.\n",
      "\u001b[1m\u001b[22m\u001b[90m[conflicted]\u001b[39m Will prefer \u001b[1m\u001b[34mpurrr\u001b[39m\u001b[22m::invoke over any other package.\n",
      "\u001b[1m\u001b[22m\u001b[90m[conflicted]\u001b[39m Will prefer \u001b[1m\u001b[34mpurrr\u001b[39m\u001b[22m::map over any other package.\n",
      "\u001b[1m\u001b[22m\u001b[90m[conflicted]\u001b[39m Will prefer \u001b[1m\u001b[34mrecipes\u001b[39m\u001b[22m::discretize over any other package.\n",
      "\u001b[1m\u001b[22m\u001b[90m[conflicted]\u001b[39m Will prefer \u001b[1m\u001b[34mrecipes\u001b[39m\u001b[22m::step over any other package.\n",
      "\u001b[1m\u001b[22m\u001b[90m[conflicted]\u001b[39m Will prefer \u001b[1m\u001b[34mrsample\u001b[39m\u001b[22m::populate over any other package.\n",
      "\u001b[1m\u001b[22m\u001b[90m[conflicted]\u001b[39m Will prefer \u001b[1m\u001b[34mscales\u001b[39m\u001b[22m::rescale over any other package.\n",
      "\u001b[1m\u001b[22m\u001b[90m[conflicted]\u001b[39m Will prefer \u001b[1m\u001b[34mthemis\u001b[39m\u001b[22m::step_downsample over any other package.\n",
      "\u001b[1m\u001b[22m\u001b[90m[conflicted]\u001b[39m Will prefer \u001b[1m\u001b[34mthemis\u001b[39m\u001b[22m::step_upsample over any other package.\n",
      "\u001b[1m\u001b[22m\u001b[90m[conflicted]\u001b[39m Will prefer \u001b[1m\u001b[34mtidyr\u001b[39m\u001b[22m::expand over any other package.\n",
      "\u001b[1m\u001b[22m\u001b[90m[conflicted]\u001b[39m Will prefer \u001b[1m\u001b[34mtidyr\u001b[39m\u001b[22m::extract over any other package.\n",
      "\u001b[1m\u001b[22m\u001b[90m[conflicted]\u001b[39m Will prefer \u001b[1m\u001b[34mtidyr\u001b[39m\u001b[22m::pack over any other package.\n",
      "\u001b[1m\u001b[22m\u001b[90m[conflicted]\u001b[39m Will prefer \u001b[1m\u001b[34mtidyr\u001b[39m\u001b[22m::unpack over any other package.\n",
      "\u001b[1m\u001b[22m\u001b[90m[conflicted]\u001b[39m Will prefer \u001b[1m\u001b[34mtune\u001b[39m\u001b[22m::parameters over any other package.\n",
      "\u001b[1m\u001b[22m\u001b[90m[conflicted]\u001b[39m Will prefer \u001b[1m\u001b[34mtune\u001b[39m\u001b[22m::tune over any other package.\n",
      "\u001b[1m\u001b[22m\u001b[90m[conflicted]\u001b[39m Will prefer \u001b[1m\u001b[34myardstick\u001b[39m\u001b[22m::get_weights over any other package.\n",
      "\u001b[1m\u001b[22m\u001b[90m[conflicted]\u001b[39m Will prefer \u001b[1m\u001b[34myardstick\u001b[39m\u001b[22m::precision over any other package.\n",
      "\u001b[1m\u001b[22m\u001b[90m[conflicted]\u001b[39m Will prefer \u001b[1m\u001b[34myardstick\u001b[39m\u001b[22m::recall over any other package.\n",
      "\u001b[1m\u001b[22m\u001b[90m[conflicted]\u001b[39m Will prefer \u001b[1m\u001b[34myardstick\u001b[39m\u001b[22m::spec over any other package.\n",
      "\u001b[1m\u001b[22m\u001b[90m[conflicted]\u001b[39m Will prefer \u001b[1m\u001b[34mrecipes\u001b[39m\u001b[22m::update over \u001b[34mMatrix\u001b[39m::update.\n",
      "── \u001b[1mConflicts\u001b[22m ──────────────────────────────────────────────────────────────────────────────────── tidymodels_prefer() ──\n",
      "\n",
      "\n",
      "\n"
     ]
    }
   ],
   "source": [
    "tidymodels_prefer(quiet = FALSE)"
   ]
  }
 ],
 "metadata": {
  "kernelspec": {
   "display_name": "R-4.3.2",
   "language": "R",
   "name": "ir"
  },
  "language_info": {
   "codemirror_mode": "r",
   "file_extension": ".r",
   "mimetype": "text/x-r-source",
   "name": "R",
   "pygments_lexer": "r",
   "version": "4.3.2"
  }
 },
 "nbformat": 4,
 "nbformat_minor": 5
}
