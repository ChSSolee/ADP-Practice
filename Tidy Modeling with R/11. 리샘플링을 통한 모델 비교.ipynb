{
 "cells": [
  {
   "cell_type": "markdown",
   "id": "539f2181",
   "metadata": {},
   "source": [
    "# 11. 리샘플링을 통한 모델 비교"
   ]
  },
  {
   "cell_type": "markdown",
   "id": "117509f5",
   "metadata": {},
   "source": [
    "# \n",
    "## 11.1 Workflow를 통한 복수의 모델 생성"
   ]
  },
  {
   "cell_type": "code",
   "execution_count": 3,
   "id": "4ea598d6",
   "metadata": {},
   "outputs": [],
   "source": [
    "library(tidyverse)\n",
    "library(tidymodels)\n",
    "ggplot2::theme_set(theme_bw())\n",
    "tidymodels_prefer()"
   ]
  },
  {
   "cell_type": "code",
   "execution_count": 4,
   "id": "1d210e1e",
   "metadata": {},
   "outputs": [],
   "source": [
    "data(ames)\n",
    "ames <- mutate(ames, Sale_Price = log10(Sale_Price))\n",
    "\n",
    "set.seed(502)\n",
    "ames_split <- initial_split(ames, prop = 0.80, strata = Sale_Price)\n",
    "ames_train <- training(ames_split)\n",
    "ames_test  <-  testing(ames_split)"
   ]
  },
  {
   "cell_type": "markdown",
   "id": "d624d35e",
   "metadata": {},
   "source": [
    "# \n",
    "#### 복수의 전처리 recipe 생성\n",
    "- 사전 처리 단계를 점진적으로 추가하는 세 가지 선형 모델 생성\n",
    "- 이러한 추가 항이 모형 결과를 개선하는지 여부를 테스트"
   ]
  },
  {
   "cell_type": "code",
   "execution_count": 5,
   "id": "ecad5d7b",
   "metadata": {},
   "outputs": [],
   "source": [
    "basic_rec <- \n",
    "    recipe(Sale_Price ~ Neighborhood + Gr_Liv_Area + Year_Built + Bldg_Type + Latitude + Longitude, data = ames_train) %>%\n",
    "    step_log(Gr_Liv_Area, base = 10) %>% \n",
    "    step_other(Neighborhood, threshold = 0.01) %>% \n",
    "    step_dummy(all_nominal_predictors())\n",
    "\n",
    "interaction_rec <- \n",
    "    basic_rec %>% \n",
    "    step_interact( ~ Gr_Liv_Area:starts_with(\"Bldg_Type_\") ) \n",
    "\n",
    "spline_rec <- \n",
    "    interaction_rec %>% \n",
    "    step_ns(Latitude, Longitude, deg_free = 50)"
   ]
  },
  {
   "cell_type": "markdown",
   "id": "0effdc99",
   "metadata": {},
   "source": [
    "# \n",
    "# \n",
    "# \n",
    "## ```workflow_set(preproc, models)```\n",
    "- ```preproc``` : 적용할 전처리 recipe의 list\n",
    "- ```models``` : 전처리 recipe를 적용할 모델의 list\n",
    "\n",
    "# \n",
    "\n",
    "#### 복수의 전처리 recipe를 모형 별로 적용"
   ]
  },
  {
   "cell_type": "code",
   "execution_count": 6,
   "id": "8134d54f",
   "metadata": {},
   "outputs": [],
   "source": [
    "preproc <- list(basic = basic_rec, \n",
    "                interact = interaction_rec, \n",
    "                splines = spline_rec)\n",
    "\n",
    "models <- list(lm = linear_reg())"
   ]
  },
  {
   "cell_type": "code",
   "execution_count": 7,
   "id": "9d2a1626",
   "metadata": {},
   "outputs": [
    {
     "name": "stdout",
     "output_type": "stream",
     "text": [
      "\u001b[90m# A workflow set/tibble: 3 x 4\u001b[39m\n",
      "  wflow_id    info             option    result    \n",
      "  \u001b[3m\u001b[90m<chr>\u001b[39m\u001b[23m       \u001b[3m\u001b[90m<list>\u001b[39m\u001b[23m           \u001b[3m\u001b[90m<list>\u001b[39m\u001b[23m    \u001b[3m\u001b[90m<list>\u001b[39m\u001b[23m    \n",
      "\u001b[90m1\u001b[39m basic_lm    \u001b[90m<tibble [1 x 4]>\u001b[39m \u001b[90m<opts[0]>\u001b[39m \u001b[90m<list [0]>\u001b[39m\n",
      "\u001b[90m2\u001b[39m interact_lm \u001b[90m<tibble [1 x 4]>\u001b[39m \u001b[90m<opts[0]>\u001b[39m \u001b[90m<list [0]>\u001b[39m\n",
      "\u001b[90m3\u001b[39m splines_lm  \u001b[90m<tibble [1 x 4]>\u001b[39m \u001b[90m<opts[0]>\u001b[39m \u001b[90m<list [0]>\u001b[39m\n"
     ]
    }
   ],
   "source": [
    "lm_models <- workflow_set(preproc, models)\n",
    "lm_models %>% print"
   ]
  },
  {
   "cell_type": "markdown",
   "id": "9320028f",
   "metadata": {},
   "source": [
    "# \n",
    "# \n",
    "### ```workflow_map(seed, verbose, resamples, control)```\n",
    "\n",
    "# \n",
    "\n",
    "#### 복수의 모델들에 리샘플링을 적용하고, 모형을 저장"
   ]
  },
  {
   "cell_type": "code",
   "execution_count": 8,
   "id": "07462534",
   "metadata": {},
   "outputs": [],
   "source": [
    "ames_folds <- vfold_cv(ames_train, v = 10)\n",
    "keep_pred <- control_resamples(save_pred = TRUE, save_workflow = TRUE)"
   ]
  },
  {
   "cell_type": "code",
   "execution_count": 9,
   "id": "b9cd9604",
   "metadata": {},
   "outputs": [
    {
     "name": "stderr",
     "output_type": "stream",
     "text": [
      "\u001b[34mi\u001b[39m \u001b[30m1 of 3 resampling: basic_lm\u001b[39m\n",
      "\n",
      "\u001b[32mv\u001b[39m \u001b[30m1 of 3 resampling: basic_lm\u001b[39m\u001b[30m (8.3s)\u001b[39m\n",
      "\n",
      "\u001b[34mi\u001b[39m \u001b[30m2 of 3 resampling: interact_lm\u001b[39m\n",
      "\n",
      "\u001b[32mv\u001b[39m \u001b[30m2 of 3 resampling: interact_lm\u001b[39m\u001b[30m (8.6s)\u001b[39m\n",
      "\n",
      "\u001b[34mi\u001b[39m \u001b[30m3 of 3 resampling: splines_lm\u001b[39m\n",
      "\n",
      "\u001b[32mv\u001b[39m \u001b[30m3 of 3 resampling: splines_lm\u001b[39m\u001b[30m (10.5s)\u001b[39m\n",
      "\n"
     ]
    }
   ],
   "source": [
    "lm_models <- lm_models %>% \n",
    "    workflow_map(\"fit_resamples\", seed = 1101, verbose = TRUE,\n",
    "                 resamples = ames_folds, control = keep_pred)"
   ]
  },
  {
   "cell_type": "code",
   "execution_count": 10,
   "id": "d8a7ecbd",
   "metadata": {},
   "outputs": [
    {
     "name": "stdout",
     "output_type": "stream",
     "text": [
      "\u001b[90m# A workflow set/tibble: 3 x 4\u001b[39m\n",
      "  wflow_id    info             option    result   \n",
      "  \u001b[3m\u001b[90m<chr>\u001b[39m\u001b[23m       \u001b[3m\u001b[90m<list>\u001b[39m\u001b[23m           \u001b[3m\u001b[90m<list>\u001b[39m\u001b[23m    \u001b[3m\u001b[90m<list>\u001b[39m\u001b[23m   \n",
      "\u001b[90m1\u001b[39m basic_lm    \u001b[90m<tibble [1 x 4]>\u001b[39m \u001b[90m<opts[2]>\u001b[39m \u001b[90m<rsmp[+]>\u001b[39m\n",
      "\u001b[90m2\u001b[39m interact_lm \u001b[90m<tibble [1 x 4]>\u001b[39m \u001b[90m<opts[2]>\u001b[39m \u001b[90m<rsmp[+]>\u001b[39m\n",
      "\u001b[90m3\u001b[39m splines_lm  \u001b[90m<tibble [1 x 4]>\u001b[39m \u001b[90m<opts[2]>\u001b[39m \u001b[90m<rsmp[+]>\u001b[39m\n"
     ]
    }
   ],
   "source": [
    "lm_models %>% print"
   ]
  },
  {
   "cell_type": "code",
   "execution_count": 11,
   "id": "fe7700cd",
   "metadata": {},
   "outputs": [
    {
     "data": {
      "text/html": [
       "<table class=\"dataframe\">\n",
       "<caption>A tibble: 6 × 9</caption>\n",
       "<thead>\n",
       "\t<tr><th scope=col>wflow_id</th><th scope=col>.config</th><th scope=col>preproc</th><th scope=col>model</th><th scope=col>.metric</th><th scope=col>.estimator</th><th scope=col>mean</th><th scope=col>n</th><th scope=col>std_err</th></tr>\n",
       "\t<tr><th scope=col>&lt;chr&gt;</th><th scope=col>&lt;chr&gt;</th><th scope=col>&lt;chr&gt;</th><th scope=col>&lt;chr&gt;</th><th scope=col>&lt;chr&gt;</th><th scope=col>&lt;chr&gt;</th><th scope=col>&lt;dbl&gt;</th><th scope=col>&lt;int&gt;</th><th scope=col>&lt;dbl&gt;</th></tr>\n",
       "</thead>\n",
       "<tbody>\n",
       "\t<tr><td>basic_lm   </td><td>Preprocessor1_Model1</td><td>recipe</td><td>linear_reg</td><td>rmse</td><td>standard</td><td>0.08003232</td><td>10</td><td>0.003067475</td></tr>\n",
       "\t<tr><td>basic_lm   </td><td>Preprocessor1_Model1</td><td>recipe</td><td>linear_reg</td><td>rsq </td><td>standard</td><td>0.79274715</td><td>10</td><td>0.010784127</td></tr>\n",
       "\t<tr><td>interact_lm</td><td>Preprocessor1_Model1</td><td>recipe</td><td>linear_reg</td><td>rmse</td><td>standard</td><td>0.07962151</td><td>10</td><td>0.003029658</td></tr>\n",
       "\t<tr><td>interact_lm</td><td>Preprocessor1_Model1</td><td>recipe</td><td>linear_reg</td><td>rsq </td><td>standard</td><td>0.79466112</td><td>10</td><td>0.011007553</td></tr>\n",
       "\t<tr><td>splines_lm </td><td>Preprocessor1_Model1</td><td>recipe</td><td>linear_reg</td><td>rmse</td><td>standard</td><td>0.07855629</td><td>10</td><td>0.003117050</td></tr>\n",
       "\t<tr><td>splines_lm </td><td>Preprocessor1_Model1</td><td>recipe</td><td>linear_reg</td><td>rsq </td><td>standard</td><td>0.80004308</td><td>10</td><td>0.012692255</td></tr>\n",
       "</tbody>\n",
       "</table>\n"
      ],
      "text/latex": [
       "A tibble: 6 × 9\n",
       "\\begin{tabular}{lllllllll}\n",
       " wflow\\_id & .config & preproc & model & .metric & .estimator & mean & n & std\\_err\\\\\n",
       " <chr> & <chr> & <chr> & <chr> & <chr> & <chr> & <dbl> & <int> & <dbl>\\\\\n",
       "\\hline\n",
       "\t basic\\_lm    & Preprocessor1\\_Model1 & recipe & linear\\_reg & rmse & standard & 0.08003232 & 10 & 0.003067475\\\\\n",
       "\t basic\\_lm    & Preprocessor1\\_Model1 & recipe & linear\\_reg & rsq  & standard & 0.79274715 & 10 & 0.010784127\\\\\n",
       "\t interact\\_lm & Preprocessor1\\_Model1 & recipe & linear\\_reg & rmse & standard & 0.07962151 & 10 & 0.003029658\\\\\n",
       "\t interact\\_lm & Preprocessor1\\_Model1 & recipe & linear\\_reg & rsq  & standard & 0.79466112 & 10 & 0.011007553\\\\\n",
       "\t splines\\_lm  & Preprocessor1\\_Model1 & recipe & linear\\_reg & rmse & standard & 0.07855629 & 10 & 0.003117050\\\\\n",
       "\t splines\\_lm  & Preprocessor1\\_Model1 & recipe & linear\\_reg & rsq  & standard & 0.80004308 & 10 & 0.012692255\\\\\n",
       "\\end{tabular}\n"
      ],
      "text/markdown": [
       "\n",
       "A tibble: 6 × 9\n",
       "\n",
       "| wflow_id &lt;chr&gt; | .config &lt;chr&gt; | preproc &lt;chr&gt; | model &lt;chr&gt; | .metric &lt;chr&gt; | .estimator &lt;chr&gt; | mean &lt;dbl&gt; | n &lt;int&gt; | std_err &lt;dbl&gt; |\n",
       "|---|---|---|---|---|---|---|---|---|\n",
       "| basic_lm    | Preprocessor1_Model1 | recipe | linear_reg | rmse | standard | 0.08003232 | 10 | 0.003067475 |\n",
       "| basic_lm    | Preprocessor1_Model1 | recipe | linear_reg | rsq  | standard | 0.79274715 | 10 | 0.010784127 |\n",
       "| interact_lm | Preprocessor1_Model1 | recipe | linear_reg | rmse | standard | 0.07962151 | 10 | 0.003029658 |\n",
       "| interact_lm | Preprocessor1_Model1 | recipe | linear_reg | rsq  | standard | 0.79466112 | 10 | 0.011007553 |\n",
       "| splines_lm  | Preprocessor1_Model1 | recipe | linear_reg | rmse | standard | 0.07855629 | 10 | 0.003117050 |\n",
       "| splines_lm  | Preprocessor1_Model1 | recipe | linear_reg | rsq  | standard | 0.80004308 | 10 | 0.012692255 |\n",
       "\n"
      ],
      "text/plain": [
       "  wflow_id    .config              preproc model      .metric .estimator\n",
       "1 basic_lm    Preprocessor1_Model1 recipe  linear_reg rmse    standard  \n",
       "2 basic_lm    Preprocessor1_Model1 recipe  linear_reg rsq     standard  \n",
       "3 interact_lm Preprocessor1_Model1 recipe  linear_reg rmse    standard  \n",
       "4 interact_lm Preprocessor1_Model1 recipe  linear_reg rsq     standard  \n",
       "5 splines_lm  Preprocessor1_Model1 recipe  linear_reg rmse    standard  \n",
       "6 splines_lm  Preprocessor1_Model1 recipe  linear_reg rsq     standard  \n",
       "  mean       n  std_err    \n",
       "1 0.08003232 10 0.003067475\n",
       "2 0.79274715 10 0.010784127\n",
       "3 0.07962151 10 0.003029658\n",
       "4 0.79466112 10 0.011007553\n",
       "5 0.07855629 10 0.003117050\n",
       "6 0.80004308 10 0.012692255"
      ]
     },
     "metadata": {},
     "output_type": "display_data"
    }
   ],
   "source": [
    "collect_metrics(lm_models) "
   ]
  },
  {
   "cell_type": "markdown",
   "id": "2ee59edc",
   "metadata": {},
   "source": [
    "# \n",
    "# "
   ]
  },
  {
   "cell_type": "markdown",
   "id": "c31441f1",
   "metadata": {},
   "source": [
    "#### 랜덤 포레스트와의 비교"
   ]
  },
  {
   "cell_type": "code",
   "execution_count": 12,
   "id": "f8998bb8",
   "metadata": {},
   "outputs": [],
   "source": [
    "rf_model <- rand_forest(trees = 1000) %>%\n",
    "    set_engine(\"ranger\") %>%\n",
    "    set_mode(\"regression\")\n",
    "\n",
    "rf_wflow <- workflow() %>%\n",
    "    add_formula(\n",
    "        Sale_Price ~  Neighborhood + Gr_Liv_Area + Year_Built + Bldg_Type + Latitude + Longitude) %>%\n",
    "    add_model(rf_model)\n",
    "\n",
    "rf_fit <- rf_wflow %>% fit(data = ames_train)\n",
    "\n",
    "rf_res <- rf_wflow %>%\n",
    "    fit_resamples(resamples = ames_folds, control = keep_pred)"
   ]
  },
  {
   "cell_type": "code",
   "execution_count": 13,
   "id": "9c2216a4",
   "metadata": {},
   "outputs": [
    {
     "name": "stdout",
     "output_type": "stream",
     "text": [
      "\u001b[90m# A workflow set/tibble: 4 x 4\u001b[39m\n",
      "  wflow_id      info             option    result   \n",
      "  \u001b[3m\u001b[90m<chr>\u001b[39m\u001b[23m         \u001b[3m\u001b[90m<list>\u001b[39m\u001b[23m           \u001b[3m\u001b[90m<list>\u001b[39m\u001b[23m    \u001b[3m\u001b[90m<list>\u001b[39m\u001b[23m   \n",
      "\u001b[90m1\u001b[39m random_forest \u001b[90m<tibble [1 x 4]>\u001b[39m \u001b[90m<opts[0]>\u001b[39m \u001b[90m<rsmp[+]>\u001b[39m\n",
      "\u001b[90m2\u001b[39m basic_lm      \u001b[90m<tibble [1 x 4]>\u001b[39m \u001b[90m<opts[2]>\u001b[39m \u001b[90m<rsmp[+]>\u001b[39m\n",
      "\u001b[90m3\u001b[39m interact_lm   \u001b[90m<tibble [1 x 4]>\u001b[39m \u001b[90m<opts[2]>\u001b[39m \u001b[90m<rsmp[+]>\u001b[39m\n",
      "\u001b[90m4\u001b[39m splines_lm    \u001b[90m<tibble [1 x 4]>\u001b[39m \u001b[90m<opts[2]>\u001b[39m \u001b[90m<rsmp[+]>\u001b[39m\n"
     ]
    }
   ],
   "source": [
    "four_models <- as_workflow_set(random_forest = rf_res) %>% bind_rows(lm_models)\n",
    "four_models %>% print"
   ]
  },
  {
   "cell_type": "code",
   "execution_count": 14,
   "id": "9c6933de",
   "metadata": {},
   "outputs": [
    {
     "data": {
      "image/png": "[encoded data removed]",
      "text/plain": [
       "plot without title"
      ]
     },
     "metadata": {
      "image/png": {
       "height": 420,
       "width": 420
      }
     },
     "output_type": "display_data"
    }
   ],
   "source": [
    "library(ggrepel)\n",
    "autoplot(four_models, metric = \"rsq\") +\n",
    "    geom_text_repel(aes(label = wflow_id), nudge_x = 1/8, nudge_y = 1/100) +\n",
    "    theme(legend.position = \"none\")"
   ]
  },
  {
   "cell_type": "markdown",
   "id": "5637c62a",
   "metadata": {},
   "source": [
    "# \n",
    "# \n",
    "# \n",
    "## 11.2 리샘플링 성능 비교"
   ]
  },
  {
   "cell_type": "code",
   "execution_count": 15,
   "id": "8f7c6643",
   "metadata": {},
   "outputs": [
    {
     "data": {
      "text/html": [
       "<table class=\"dataframe\">\n",
       "<caption>A tibble: 3 × 8</caption>\n",
       "<thead>\n",
       "\t<tr><th scope=col>wflow_id</th><th scope=col>.config</th><th scope=col>preproc</th><th scope=col>model</th><th scope=col>id</th><th scope=col>.metric</th><th scope=col>.estimator</th><th scope=col>.estimate</th></tr>\n",
       "\t<tr><th scope=col>&lt;chr&gt;</th><th scope=col>&lt;chr&gt;</th><th scope=col>&lt;chr&gt;</th><th scope=col>&lt;chr&gt;</th><th scope=col>&lt;chr&gt;</th><th scope=col>&lt;chr&gt;</th><th scope=col>&lt;chr&gt;</th><th scope=col>&lt;dbl&gt;</th></tr>\n",
       "</thead>\n",
       "<tbody>\n",
       "\t<tr><td>random_forest</td><td>Preprocessor1_Model1</td><td>formula</td><td>rand_forest</td><td>Fold01</td><td>rsq</td><td>standard</td><td>0.8724463</td></tr>\n",
       "\t<tr><td>random_forest</td><td>Preprocessor1_Model1</td><td>formula</td><td>rand_forest</td><td>Fold02</td><td>rsq</td><td>standard</td><td>0.8433044</td></tr>\n",
       "\t<tr><td>random_forest</td><td>Preprocessor1_Model1</td><td>formula</td><td>rand_forest</td><td>Fold03</td><td>rsq</td><td>standard</td><td>0.8384557</td></tr>\n",
       "</tbody>\n",
       "</table>\n"
      ],
      "text/latex": [
       "A tibble: 3 × 8\n",
       "\\begin{tabular}{llllllll}\n",
       " wflow\\_id & .config & preproc & model & id & .metric & .estimator & .estimate\\\\\n",
       " <chr> & <chr> & <chr> & <chr> & <chr> & <chr> & <chr> & <dbl>\\\\\n",
       "\\hline\n",
       "\t random\\_forest & Preprocessor1\\_Model1 & formula & rand\\_forest & Fold01 & rsq & standard & 0.8724463\\\\\n",
       "\t random\\_forest & Preprocessor1\\_Model1 & formula & rand\\_forest & Fold02 & rsq & standard & 0.8433044\\\\\n",
       "\t random\\_forest & Preprocessor1\\_Model1 & formula & rand\\_forest & Fold03 & rsq & standard & 0.8384557\\\\\n",
       "\\end{tabular}\n"
      ],
      "text/markdown": [
       "\n",
       "A tibble: 3 × 8\n",
       "\n",
       "| wflow_id &lt;chr&gt; | .config &lt;chr&gt; | preproc &lt;chr&gt; | model &lt;chr&gt; | id &lt;chr&gt; | .metric &lt;chr&gt; | .estimator &lt;chr&gt; | .estimate &lt;dbl&gt; |\n",
       "|---|---|---|---|---|---|---|---|\n",
       "| random_forest | Preprocessor1_Model1 | formula | rand_forest | Fold01 | rsq | standard | 0.8724463 |\n",
       "| random_forest | Preprocessor1_Model1 | formula | rand_forest | Fold02 | rsq | standard | 0.8433044 |\n",
       "| random_forest | Preprocessor1_Model1 | formula | rand_forest | Fold03 | rsq | standard | 0.8384557 |\n",
       "\n"
      ],
      "text/plain": [
       "  wflow_id      .config              preproc model       id     .metric\n",
       "1 random_forest Preprocessor1_Model1 formula rand_forest Fold01 rsq    \n",
       "2 random_forest Preprocessor1_Model1 formula rand_forest Fold02 rsq    \n",
       "3 random_forest Preprocessor1_Model1 formula rand_forest Fold03 rsq    \n",
       "  .estimator .estimate\n",
       "1 standard   0.8724463\n",
       "2 standard   0.8433044\n",
       "3 standard   0.8384557"
      ]
     },
     "metadata": {},
     "output_type": "display_data"
    }
   ],
   "source": [
    "rsq_indiv_estimates <- collect_metrics(four_models, summarize = FALSE) %>% \n",
    "    filter(.metric == \"rsq\") \n",
    "rsq_indiv_estimates %>% head(3)"
   ]
  },
  {
   "cell_type": "markdown",
   "id": "9e40bcc0",
   "metadata": {},
   "source": [
    "# \n",
    "# \n",
    "#### 모델별 성능간의 상관관계 비교"
   ]
  },
  {
   "cell_type": "code",
   "execution_count": 16,
   "id": "2b33277b",
   "metadata": {},
   "outputs": [
    {
     "data": {
      "text/html": [
       "<table class=\"dataframe\">\n",
       "<caption>A tibble: 10 × 5</caption>\n",
       "<thead>\n",
       "\t<tr><th scope=col>id</th><th scope=col>random_forest</th><th scope=col>basic_lm</th><th scope=col>interact_lm</th><th scope=col>splines_lm</th></tr>\n",
       "\t<tr><th scope=col>&lt;chr&gt;</th><th scope=col>&lt;dbl&gt;</th><th scope=col>&lt;dbl&gt;</th><th scope=col>&lt;dbl&gt;</th><th scope=col>&lt;dbl&gt;</th></tr>\n",
       "</thead>\n",
       "<tbody>\n",
       "\t<tr><td>Fold01</td><td>0.8724463</td><td>0.8441590</td><td>0.8441893</td><td>0.8378595</td></tr>\n",
       "\t<tr><td>Fold02</td><td>0.8433044</td><td>0.7903836</td><td>0.7974093</td><td>0.8128592</td></tr>\n",
       "\t<tr><td>Fold03</td><td>0.8384557</td><td>0.8144102</td><td>0.8178844</td><td>0.8352393</td></tr>\n",
       "\t<tr><td>Fold04</td><td>0.8448300</td><td>0.7935016</td><td>0.7910187</td><td>0.7981498</td></tr>\n",
       "\t<tr><td>Fold05</td><td>0.8638114</td><td>0.8343171</td><td>0.8375939</td><td>0.8464008</td></tr>\n",
       "\t<tr><td>Fold06</td><td>0.7870964</td><td>0.7596323</td><td>0.7648162</td><td>0.7697745</td></tr>\n",
       "\t<tr><td>Fold07</td><td>0.8642478</td><td>0.8025220</td><td>0.8049347</td><td>0.8050461</td></tr>\n",
       "\t<tr><td>Fold08</td><td>0.8224698</td><td>0.7776845</td><td>0.7777459</td><td>0.8023228</td></tr>\n",
       "\t<tr><td>Fold09</td><td>0.8183622</td><td>0.7820389</td><td>0.7846681</td><td>0.7838652</td></tr>\n",
       "\t<tr><td>Fold10</td><td>0.7746857</td><td>0.7288223</td><td>0.7263507</td><td>0.7089138</td></tr>\n",
       "</tbody>\n",
       "</table>\n"
      ],
      "text/latex": [
       "A tibble: 10 × 5\n",
       "\\begin{tabular}{lllll}\n",
       " id & random\\_forest & basic\\_lm & interact\\_lm & splines\\_lm\\\\\n",
       " <chr> & <dbl> & <dbl> & <dbl> & <dbl>\\\\\n",
       "\\hline\n",
       "\t Fold01 & 0.8724463 & 0.8441590 & 0.8441893 & 0.8378595\\\\\n",
       "\t Fold02 & 0.8433044 & 0.7903836 & 0.7974093 & 0.8128592\\\\\n",
       "\t Fold03 & 0.8384557 & 0.8144102 & 0.8178844 & 0.8352393\\\\\n",
       "\t Fold04 & 0.8448300 & 0.7935016 & 0.7910187 & 0.7981498\\\\\n",
       "\t Fold05 & 0.8638114 & 0.8343171 & 0.8375939 & 0.8464008\\\\\n",
       "\t Fold06 & 0.7870964 & 0.7596323 & 0.7648162 & 0.7697745\\\\\n",
       "\t Fold07 & 0.8642478 & 0.8025220 & 0.8049347 & 0.8050461\\\\\n",
       "\t Fold08 & 0.8224698 & 0.7776845 & 0.7777459 & 0.8023228\\\\\n",
       "\t Fold09 & 0.8183622 & 0.7820389 & 0.7846681 & 0.7838652\\\\\n",
       "\t Fold10 & 0.7746857 & 0.7288223 & 0.7263507 & 0.7089138\\\\\n",
       "\\end{tabular}\n"
      ],
      "text/markdown": [
       "\n",
       "A tibble: 10 × 5\n",
       "\n",
       "| id &lt;chr&gt; | random_forest &lt;dbl&gt; | basic_lm &lt;dbl&gt; | interact_lm &lt;dbl&gt; | splines_lm &lt;dbl&gt; |\n",
       "|---|---|---|---|---|\n",
       "| Fold01 | 0.8724463 | 0.8441590 | 0.8441893 | 0.8378595 |\n",
       "| Fold02 | 0.8433044 | 0.7903836 | 0.7974093 | 0.8128592 |\n",
       "| Fold03 | 0.8384557 | 0.8144102 | 0.8178844 | 0.8352393 |\n",
       "| Fold04 | 0.8448300 | 0.7935016 | 0.7910187 | 0.7981498 |\n",
       "| Fold05 | 0.8638114 | 0.8343171 | 0.8375939 | 0.8464008 |\n",
       "| Fold06 | 0.7870964 | 0.7596323 | 0.7648162 | 0.7697745 |\n",
       "| Fold07 | 0.8642478 | 0.8025220 | 0.8049347 | 0.8050461 |\n",
       "| Fold08 | 0.8224698 | 0.7776845 | 0.7777459 | 0.8023228 |\n",
       "| Fold09 | 0.8183622 | 0.7820389 | 0.7846681 | 0.7838652 |\n",
       "| Fold10 | 0.7746857 | 0.7288223 | 0.7263507 | 0.7089138 |\n",
       "\n"
      ],
      "text/plain": [
       "   id     random_forest basic_lm  interact_lm splines_lm\n",
       "1  Fold01 0.8724463     0.8441590 0.8441893   0.8378595 \n",
       "2  Fold02 0.8433044     0.7903836 0.7974093   0.8128592 \n",
       "3  Fold03 0.8384557     0.8144102 0.8178844   0.8352393 \n",
       "4  Fold04 0.8448300     0.7935016 0.7910187   0.7981498 \n",
       "5  Fold05 0.8638114     0.8343171 0.8375939   0.8464008 \n",
       "6  Fold06 0.7870964     0.7596323 0.7648162   0.7697745 \n",
       "7  Fold07 0.8642478     0.8025220 0.8049347   0.8050461 \n",
       "8  Fold08 0.8224698     0.7776845 0.7777459   0.8023228 \n",
       "9  Fold09 0.8183622     0.7820389 0.7846681   0.7838652 \n",
       "10 Fold10 0.7746857     0.7288223 0.7263507   0.7089138 "
      ]
     },
     "metadata": {},
     "output_type": "display_data"
    },
    {
     "data": {
      "image/png": "[encoded data removed]",
      "text/plain": [
       "plot without title"
      ]
     },
     "metadata": {
      "image/png": {
       "height": 420,
       "width": 420
      }
     },
     "output_type": "display_data"
    }
   ],
   "source": [
    "rsq_wider <- rsq_indiv_estimates %>% \n",
    "    select(wflow_id, .estimate, id) %>% \n",
    "    pivot_wider(id_cols = \"id\", names_from = \"wflow_id\", values_from = \".estimate\")\n",
    "rsq_wider\n",
    "\n",
    "rsq_indiv_estimates %>% \n",
    "    mutate(wflow_id = reorder(wflow_id, .estimate)) %>% \n",
    "    ggplot(aes(x = wflow_id, y = .estimate, group = id, color = id)) + \n",
    "    geom_line(alpha = .5, lwd = 1.25) + \n",
    "    theme(legend.position = \"bottom\")"
   ]
  },
  {
   "cell_type": "markdown",
   "id": "9ad3e3cb",
   "metadata": {},
   "source": [
    "- 상관관계는 높으며, 모델 전체에서 리샘플링 내 상관관계가 크다는 것을 의미"
   ]
  },
  {
   "cell_type": "code",
   "execution_count": 17,
   "id": "87e78c6c",
   "metadata": {},
   "outputs": [
    {
     "name": "stderr",
     "output_type": "stream",
     "text": [
      "Correlation computed with\n",
      "\u001b[36m*\u001b[39m Method: 'pearson'\n",
      "\u001b[36m*\u001b[39m Missing treated using: 'pairwise.complete.obs'\n"
     ]
    },
    {
     "data": {
      "text/html": [
       "<table class=\"dataframe\">\n",
       "<caption>A cor_df: 4 × 5</caption>\n",
       "<thead>\n",
       "\t<tr><th scope=col>term</th><th scope=col>random_forest</th><th scope=col>basic_lm</th><th scope=col>interact_lm</th><th scope=col>splines_lm</th></tr>\n",
       "\t<tr><th scope=col>&lt;chr&gt;</th><th scope=col>&lt;dbl&gt;</th><th scope=col>&lt;dbl&gt;</th><th scope=col>&lt;dbl&gt;</th><th scope=col>&lt;dbl&gt;</th></tr>\n",
       "</thead>\n",
       "<tbody>\n",
       "\t<tr><td>random_forest</td><td>       NA</td><td>0.9262563</td><td>0.9179297</td><td>0.8730169</td></tr>\n",
       "\t<tr><td>basic_lm     </td><td>0.9262563</td><td>       NA</td><td>0.9961190</td><td>0.9430838</td></tr>\n",
       "\t<tr><td>interact_lm  </td><td>0.9179297</td><td>0.9961190</td><td>       NA</td><td>0.9563947</td></tr>\n",
       "\t<tr><td>splines_lm   </td><td>0.8730169</td><td>0.9430838</td><td>0.9563947</td><td>       NA</td></tr>\n",
       "</tbody>\n",
       "</table>\n"
      ],
      "text/latex": [
       "A cor\\_df: 4 × 5\n",
       "\\begin{tabular}{lllll}\n",
       " term & random\\_forest & basic\\_lm & interact\\_lm & splines\\_lm\\\\\n",
       " <chr> & <dbl> & <dbl> & <dbl> & <dbl>\\\\\n",
       "\\hline\n",
       "\t random\\_forest &        NA & 0.9262563 & 0.9179297 & 0.8730169\\\\\n",
       "\t basic\\_lm      & 0.9262563 &        NA & 0.9961190 & 0.9430838\\\\\n",
       "\t interact\\_lm   & 0.9179297 & 0.9961190 &        NA & 0.9563947\\\\\n",
       "\t splines\\_lm    & 0.8730169 & 0.9430838 & 0.9563947 &        NA\\\\\n",
       "\\end{tabular}\n"
      ],
      "text/markdown": [
       "\n",
       "A cor_df: 4 × 5\n",
       "\n",
       "| term &lt;chr&gt; | random_forest &lt;dbl&gt; | basic_lm &lt;dbl&gt; | interact_lm &lt;dbl&gt; | splines_lm &lt;dbl&gt; |\n",
       "|---|---|---|---|---|\n",
       "| random_forest |        NA | 0.9262563 | 0.9179297 | 0.8730169 |\n",
       "| basic_lm      | 0.9262563 |        NA | 0.9961190 | 0.9430838 |\n",
       "| interact_lm   | 0.9179297 | 0.9961190 |        NA | 0.9563947 |\n",
       "| splines_lm    | 0.8730169 | 0.9430838 | 0.9563947 |        NA |\n",
       "\n"
      ],
      "text/plain": [
       "  term          random_forest basic_lm  interact_lm splines_lm\n",
       "1 random_forest        NA     0.9262563 0.9179297   0.8730169 \n",
       "2 basic_lm      0.9262563            NA 0.9961190   0.9430838 \n",
       "3 interact_lm   0.9179297     0.9961190        NA   0.9563947 \n",
       "4 splines_lm    0.8730169     0.9430838 0.9563947          NA "
      ]
     },
     "metadata": {},
     "output_type": "display_data"
    }
   ],
   "source": [
    "corrr::correlate(rsq_wider %>% select(-id))"
   ]
  },
  {
   "cell_type": "markdown",
   "id": "163143d7",
   "metadata": {},
   "source": [
    "# "
   ]
  },
  {
   "cell_type": "markdown",
   "id": "e99afe6b",
   "metadata": {},
   "source": [
    "- 상관 검정 결과, 상관계수는 통계적으로 유의"
   ]
  },
  {
   "cell_type": "code",
   "execution_count": 18,
   "id": "26fc893c",
   "metadata": {},
   "outputs": [
    {
     "data": {
      "text/html": [
       "<table class=\"dataframe\">\n",
       "<caption>A tibble: 1 × 3</caption>\n",
       "<thead>\n",
       "\t<tr><th scope=col>estimate</th><th scope=col>conf.low</th><th scope=col>conf.high</th></tr>\n",
       "\t<tr><th scope=col>&lt;dbl&gt;</th><th scope=col>&lt;dbl&gt;</th><th scope=col>&lt;dbl&gt;</th></tr>\n",
       "</thead>\n",
       "<tbody>\n",
       "\t<tr><td>0.9430838</td><td>0.7716642</td><td>0.9867735</td></tr>\n",
       "</tbody>\n",
       "</table>\n"
      ],
      "text/latex": [
       "A tibble: 1 × 3\n",
       "\\begin{tabular}{lll}\n",
       " estimate & conf.low & conf.high\\\\\n",
       " <dbl> & <dbl> & <dbl>\\\\\n",
       "\\hline\n",
       "\t 0.9430838 & 0.7716642 & 0.9867735\\\\\n",
       "\\end{tabular}\n"
      ],
      "text/markdown": [
       "\n",
       "A tibble: 1 × 3\n",
       "\n",
       "| estimate &lt;dbl&gt; | conf.low &lt;dbl&gt; | conf.high &lt;dbl&gt; |\n",
       "|---|---|---|\n",
       "| 0.9430838 | 0.7716642 | 0.9867735 |\n",
       "\n"
      ],
      "text/plain": [
       "  estimate  conf.low  conf.high\n",
       "1 0.9430838 0.7716642 0.9867735"
      ]
     },
     "metadata": {},
     "output_type": "display_data"
    }
   ],
   "source": [
    "rsq_wider %>%\n",
    "    with(cor.test(basic_lm, splines_lm)) %>%\n",
    "    tidy() %>%\n",
    "    select(estimate, starts_with(\"conf\"))"
   ]
  },
  {
   "cell_type": "markdown",
   "id": "5ac69961",
   "metadata": {},
   "source": [
    "# \n",
    "# \n",
    "#### 큰 상관계수 값이 가지는 의미 :\n",
    "\n",
    "$\\operatorname{Var}[X - Y] = \\operatorname{Var}[X] + \\operatorname{Var}[Y]  - 2 \\operatorname{Cov}[X, Y]$\n",
    "\n",
    "- 마지막 항은 두 항목 간의 공분산 => 크기가 큰 양의 공분산이 있는 경우 이 차이에 대한 통계적 검정은 두 모형의 차이를 비교하는데 있어 검정력이 부족할 수 있음\n",
    "- **다시 말해, 리샘플링 vs 리샘플링 효과를 무시하면 모델 간 차이를 찾는 쪽으로 모델 비교가 편향될 수 있음**"
   ]
  },
  {
   "cell_type": "markdown",
   "id": "b8484c43",
   "metadata": {},
   "source": [
    "- 예를 들어, R2값이 ±2% 이내이면 두 모델이 실질적으로 다르지 않다고 생각할 수 있음 => 이 경우 2% 미만의 차이는 통계적으로 유의하더라도 중요하지 않은 것으로 간주"
   ]
  },
  {
   "cell_type": "markdown",
   "id": "fd6603e8",
   "metadata": {},
   "source": [
    "# \n",
    "# \n",
    "## 11.3 가설 검정"
   ]
  },
  {
   "cell_type": "code",
   "execution_count": 19,
   "id": "9040a068",
   "metadata": {},
   "outputs": [
    {
     "name": "stdout",
     "output_type": "stream",
     "text": [
      "\u001b[90m# A tibble: 40 x 8\u001b[39m\n",
      "   wflow_id      .config             preproc model id    .metric .esti~1 .esti~2\n",
      "   \u001b[3m\u001b[90m<chr>\u001b[39m\u001b[23m         \u001b[3m\u001b[90m<chr>\u001b[39m\u001b[23m               \u001b[3m\u001b[90m<chr>\u001b[39m\u001b[23m   \u001b[3m\u001b[90m<chr>\u001b[39m\u001b[23m \u001b[3m\u001b[90m<chr>\u001b[39m\u001b[23m \u001b[3m\u001b[90m<chr>\u001b[39m\u001b[23m   \u001b[3m\u001b[90m<chr>\u001b[39m\u001b[23m     \u001b[3m\u001b[90m<dbl>\u001b[39m\u001b[23m\n",
      "\u001b[90m 1\u001b[39m random_forest Preprocessor1_Mode~ formula rand~ Fold~ rsq     standa~   0.872\n",
      "\u001b[90m 2\u001b[39m random_forest Preprocessor1_Mode~ formula rand~ Fold~ rsq     standa~   0.843\n",
      "\u001b[90m 3\u001b[39m random_forest Preprocessor1_Mode~ formula rand~ Fold~ rsq     standa~   0.838\n",
      "\u001b[90m 4\u001b[39m random_forest Preprocessor1_Mode~ formula rand~ Fold~ rsq     standa~   0.845\n",
      "\u001b[90m 5\u001b[39m random_forest Preprocessor1_Mode~ formula rand~ Fold~ rsq     standa~   0.864\n",
      "\u001b[90m 6\u001b[39m random_forest Preprocessor1_Mode~ formula rand~ Fold~ rsq     standa~   0.787\n",
      "\u001b[90m 7\u001b[39m random_forest Preprocessor1_Mode~ formula rand~ Fold~ rsq     standa~   0.864\n",
      "\u001b[90m 8\u001b[39m random_forest Preprocessor1_Mode~ formula rand~ Fold~ rsq     standa~   0.822\n",
      "\u001b[90m 9\u001b[39m random_forest Preprocessor1_Mode~ formula rand~ Fold~ rsq     standa~   0.818\n",
      "\u001b[90m10\u001b[39m random_forest Preprocessor1_Mode~ formula rand~ Fold~ rsq     standa~   0.775\n",
      "\u001b[90m# ... with 30 more rows, and abbreviated variable names 1: .estimator,\u001b[39m\n",
      "\u001b[90m#   2: .estimate\u001b[39m\n"
     ]
    }
   ],
   "source": [
    "rsq_indiv_estimates %>% print"
   ]
  },
  {
   "cell_type": "code",
   "execution_count": 20,
   "id": "8e521708",
   "metadata": {},
   "outputs": [
    {
     "name": "stdout",
     "output_type": "stream",
     "text": [
      "\u001b[90m# A tibble: 40 x 6\u001b[39m\n",
      "   `Y = rsq` model            X1    X2    X3 id    \n",
      "       \u001b[3m\u001b[90m<dbl>\u001b[39m\u001b[23m \u001b[3m\u001b[90m<chr>\u001b[39m\u001b[23m         \u001b[3m\u001b[90m<dbl>\u001b[39m\u001b[23m \u001b[3m\u001b[90m<dbl>\u001b[39m\u001b[23m \u001b[3m\u001b[90m<dbl>\u001b[39m\u001b[23m \u001b[3m\u001b[90m<chr>\u001b[39m\u001b[23m \n",
      "\u001b[90m 1\u001b[39m     0.844 basic_lm          0     0     0 Fold01\n",
      "\u001b[90m 2\u001b[39m     0.844 interact_lm       1     0     0 Fold01\n",
      "\u001b[90m 3\u001b[39m     0.872 random_forest     0     1     0 Fold01\n",
      "\u001b[90m 4\u001b[39m     0.838 splines_lm        0     0     1 Fold01\n",
      "\u001b[90m 5\u001b[39m     0.790 basic_lm          0     0     0 Fold02\n",
      "\u001b[90m 6\u001b[39m     0.797 interact_lm       1     0     0 Fold02\n",
      "\u001b[90m 7\u001b[39m     0.843 random_forest     0     1     0 Fold02\n",
      "\u001b[90m 8\u001b[39m     0.813 splines_lm        0     0     1 Fold02\n",
      "\u001b[90m 9\u001b[39m     0.814 basic_lm          0     0     0 Fold03\n",
      "\u001b[90m10\u001b[39m     0.818 interact_lm       1     0     0 Fold03\n",
      "\u001b[90m# ... with 30 more rows\u001b[39m\n"
     ]
    }
   ],
   "source": [
    "rsq_indiv_estimates %>% \n",
    "    select(id, rsq = .estimate, model = wflow_id) %>% \n",
    "    arrange(id, model) %>% \n",
    "    mutate(X1 = ifelse(model == \"interact_lm\", 1, 0),\n",
    "           X2 = ifelse(model == \"random_forest\", 1, 0),\n",
    "           X3 = ifelse(model == \"splines_lm\", 1, 0)) %>% \n",
    "    select(`Y = rsq` = rsq, model, X1, X2, X3, id) %>% print"
   ]
  },
  {
   "cell_type": "markdown",
   "id": "a48212bd",
   "metadata": {},
   "source": [
    "# \n",
    "- 위의 X1, X2 및 X3 열은 모형 열의 값을 나타내는 지표\n",
    "\n",
    "# \n",
    "\n",
    "####  모델 비교를 위해 수립한 ANOVA 모델 : "
   ]
  },
  {
   "cell_type": "markdown",
   "id": "27cbfbe5",
   "metadata": {},
   "source": [
    "$y_{ij} = \\beta_0 + \\beta_1x_{i1} + \\ldots + \\beta_px_{ip} + \\epsilon_{ij}$\n",
    "\n",
    "# \n",
    "\n",
    "- $\\beta_0$은 기본 선형 모델에 대한 평균 $R^2$ 통계량 추정치(즉, 스플라인 또는 교호작용 없음). \n",
    "- $\\beta_1$은 상호작용이 기본 선형 모형에 추가될 때 평균 $R^2$의 변화\n",
    "- $\\beta_2$는 기본 선형 모델과 랜덤 포레스트 모델 사이의 평균 $R^2$의 변화\n",
    "- $\\beta_3$은 기본 선형 모델과 상호 작용과 스플라인을 갖는 모델 사이의 평균 $R^2$의 변화"
   ]
  },
  {
   "cell_type": "markdown",
   "id": "b2e67623",
   "metadata": {},
   "source": [
    "# \n",
    "\n",
    "- 한 번에 두 모델을 비교하는 간단하고 빠른 방법은 다음과 같은 차이를 사용하는 것. \n",
    "\n",
    "# \n",
    "\n",
    "#### spline_lm과 basic_lm의 성능 메트릭 (R2)에 대한 t-test"
   ]
  },
  {
   "cell_type": "code",
   "execution_count": 21,
   "id": "6512d275",
   "metadata": {},
   "outputs": [
    {
     "data": {
      "text/html": [
       "<table class=\"dataframe\">\n",
       "<caption>A tibble: 1 × 7</caption>\n",
       "<thead>\n",
       "\t<tr><th scope=col>term</th><th scope=col>estimate</th><th scope=col>std.error</th><th scope=col>statistic</th><th scope=col>p.value</th><th scope=col>conf.low</th><th scope=col>conf.high</th></tr>\n",
       "\t<tr><th scope=col>&lt;chr&gt;</th><th scope=col>&lt;dbl&gt;</th><th scope=col>&lt;dbl&gt;</th><th scope=col>&lt;dbl&gt;</th><th scope=col>&lt;dbl&gt;</th><th scope=col>&lt;dbl&gt;</th><th scope=col>&lt;dbl&gt;</th></tr>\n",
       "</thead>\n",
       "<tbody>\n",
       "\t<tr><td>(Intercept)</td><td>0.007295933</td><td>0.004384263</td><td>1.664119</td><td>0.130447</td><td>-0.002621958</td><td>0.01721382</td></tr>\n",
       "</tbody>\n",
       "</table>\n"
      ],
      "text/latex": [
       "A tibble: 1 × 7\n",
       "\\begin{tabular}{lllllll}\n",
       " term & estimate & std.error & statistic & p.value & conf.low & conf.high\\\\\n",
       " <chr> & <dbl> & <dbl> & <dbl> & <dbl> & <dbl> & <dbl>\\\\\n",
       "\\hline\n",
       "\t (Intercept) & 0.007295933 & 0.004384263 & 1.664119 & 0.130447 & -0.002621958 & 0.01721382\\\\\n",
       "\\end{tabular}\n"
      ],
      "text/markdown": [
       "\n",
       "A tibble: 1 × 7\n",
       "\n",
       "| term &lt;chr&gt; | estimate &lt;dbl&gt; | std.error &lt;dbl&gt; | statistic &lt;dbl&gt; | p.value &lt;dbl&gt; | conf.low &lt;dbl&gt; | conf.high &lt;dbl&gt; |\n",
       "|---|---|---|---|---|---|---|\n",
       "| (Intercept) | 0.007295933 | 0.004384263 | 1.664119 | 0.130447 | -0.002621958 | 0.01721382 |\n",
       "\n"
      ],
      "text/plain": [
       "  term        estimate    std.error   statistic p.value  conf.low    \n",
       "1 (Intercept) 0.007295933 0.004384263 1.664119  0.130447 -0.002621958\n",
       "  conf.high \n",
       "1 0.01721382"
      ]
     },
     "metadata": {},
     "output_type": "display_data"
    }
   ],
   "source": [
    "compare_lm <- rsq_wider %>%\n",
    "    mutate(difference = splines_lm - basic_lm)\n",
    "\n",
    "lm(difference ~ 1, data = compare_lm) %>%\n",
    "    tidy(conf.int = TRUE) "
   ]
  },
  {
   "cell_type": "code",
   "execution_count": 22,
   "id": "091da854",
   "metadata": {},
   "outputs": [
    {
     "data": {
      "text/html": [
       "<table class=\"dataframe\">\n",
       "<caption>A tibble: 1 × 8</caption>\n",
       "<thead>\n",
       "\t<tr><th scope=col>estimate</th><th scope=col>statistic</th><th scope=col>p.value</th><th scope=col>parameter</th><th scope=col>conf.low</th><th scope=col>conf.high</th><th scope=col>method</th><th scope=col>alternative</th></tr>\n",
       "\t<tr><th scope=col>&lt;dbl&gt;</th><th scope=col>&lt;dbl&gt;</th><th scope=col>&lt;dbl&gt;</th><th scope=col>&lt;dbl&gt;</th><th scope=col>&lt;dbl&gt;</th><th scope=col>&lt;dbl&gt;</th><th scope=col>&lt;chr&gt;</th><th scope=col>&lt;chr&gt;</th></tr>\n",
       "</thead>\n",
       "<tbody>\n",
       "\t<tr><td>0.007295933</td><td>1.664119</td><td>0.130447</td><td>9</td><td>-0.002621958</td><td>0.01721382</td><td>Paired t-test</td><td>two.sided</td></tr>\n",
       "</tbody>\n",
       "</table>\n"
      ],
      "text/latex": [
       "A tibble: 1 × 8\n",
       "\\begin{tabular}{llllllll}\n",
       " estimate & statistic & p.value & parameter & conf.low & conf.high & method & alternative\\\\\n",
       " <dbl> & <dbl> & <dbl> & <dbl> & <dbl> & <dbl> & <chr> & <chr>\\\\\n",
       "\\hline\n",
       "\t 0.007295933 & 1.664119 & 0.130447 & 9 & -0.002621958 & 0.01721382 & Paired t-test & two.sided\\\\\n",
       "\\end{tabular}\n"
      ],
      "text/markdown": [
       "\n",
       "A tibble: 1 × 8\n",
       "\n",
       "| estimate &lt;dbl&gt; | statistic &lt;dbl&gt; | p.value &lt;dbl&gt; | parameter &lt;dbl&gt; | conf.low &lt;dbl&gt; | conf.high &lt;dbl&gt; | method &lt;chr&gt; | alternative &lt;chr&gt; |\n",
       "|---|---|---|---|---|---|---|---|\n",
       "| 0.007295933 | 1.664119 | 0.130447 | 9 | -0.002621958 | 0.01721382 | Paired t-test | two.sided |\n",
       "\n"
      ],
      "text/plain": [
       "  estimate    statistic p.value  parameter conf.low     conf.high \n",
       "1 0.007295933 1.664119  0.130447 9         -0.002621958 0.01721382\n",
       "  method        alternative\n",
       "1 Paired t-test two.sided  "
      ]
     },
     "metadata": {},
     "output_type": "display_data"
    }
   ],
   "source": [
    "rsq_wider %>%\n",
    "    with( t.test(splines_lm, basic_lm, paired = TRUE) ) %>%\n",
    "    tidy() "
   ]
  },
  {
   "cell_type": "markdown",
   "id": "d5e2a2fe",
   "metadata": {},
   "source": [
    "- **p-값은 확인 결과 스플라인 항의 수집이 영향을 미치지 않는 것으로 확인**. \n",
    "    - $R^2$의 차이는 0.73%로 추정. \n",
    "    \n",
    "- p-값은 데이터의 통계적 요약(예: 두 비교 그룹 간의 표본 평균 차이)이 관측된 값과 같거나 더 극단적일 확률\n",
    "    - 즉, 차이가 없다는 귀무 가설 하에서 이 분석이 여러 번 반복되었다면, p-값은 비교 시 관측된 결과가 얼마나 극단적일지를 반영합니다.\n",
    "\n"
   ]
  },
  {
   "cell_type": "markdown",
   "id": "b6cfc1bb",
   "metadata": {},
   "source": [
    "# \n",
    "# \n",
    "# \n",
    "## 11.4 베이지안 방법\n",
    "# \n",
    "\n",
    "- 모델을 공식적으로 비교하기 위해 가설 테스트를 사용했을 뿐이지만 랜덤 효과와 베이지안 통계를 사용하여 이러한 공식적인 비교를 하는 데 더 일반적인 접근 방식을 취할 수 있음\n",
    "- 모형이 분산 분석 방법보다 더 복잡하지만, p-값 접근법보다 더 단순하고 간단\n",
    "    - 이전 분산 분석 모형의 형태 : $y_{ij} = \\beta_0 + \\beta_1x_{i1} + \\beta_2x_{i2} + \\beta_3x_{i3} + \\epsilon_{ij}$\n",
    "    - 여기서 잔차 $\\epsilon_i$는 독립적이며 평균이 0이고 $\\sigma$의 일정한 표준 편차를 갖는 가우시안 분포를 따른다고 가정\n",
    "    - 이 가정으로부터, 통계 이론은 추정된 회귀 모수가 다변량 가우시안 분포를 따르고, 이로부터 p-값과 신뢰 구간을 도출한다는 것을 보여줌\n",
    "\n",
    "- 베이지안 선형 모델은 추가적인 가정이 필요. \n",
    "    - 잔차에 대한 분포를 지정하는 것 외에도 모형 모수($\\beta_j$) 및 $\\sigma$)에 대한 사전 분포 규격이 필요\n",
    "    - $\\begin{align}\n",
    "\\epsilon_{ij} &\\sim N(0, \\sigma) \\notag \\\\\n",
    "\\beta_j &\\sim N(0, 10) \\notag \\\\\n",
    "\\sigma &\\sim \\text{exponential}(1) \\notag\n",
    "\\end{align}$\n"
   ]
  },
  {
   "cell_type": "markdown",
   "id": "f4330d44",
   "metadata": {},
   "source": [
    "# \n",
    "# \n",
    "# \n",
    "### 랜덤 절편 모형\n",
    "\n",
    "# \n",
    "- 리샘플링이 적절하게 모델링되도록 베이지안 분산 분석 모델을 조정하기 위해 '랜덤 절편 모델'을 고려\n",
    "- 리샘플링이 절편을 변경하는 것만으로 모델에 영향을 미친다고 가정\n",
    "    - 이는 리샘플링이 회귀 매개 변수 $\\beta_j$\\에 차등 영향을 미치는 것을 제한한다는 점에 유의\n",
    "    - 리샘플링 간에 동일한 관계를 갖는 것으로 가정됩니다. 이 모형 방정식은 다음과 같음.\n",
    "    - $y_{ij} = (\\beta_0 + b_{i}) + \\beta_1x_{i1} + \\beta_2x_{i2} + \\beta_3x_{i3} + \\epsilon_{ij}$\n",
    "\n",
    "\n",
    "- 이 모델 구성의 경우 랜덤 효과의 사전 분포에 대해 추가 가정을 수행\n",
    "    - 분포에 대한 합리적인 가정은 다른 종 모양의 곡선과 같은 또 다른 대칭 분포입니다. \n",
    "    - 요약 통계량 데이터의 유효 표본 크기가 10인 경우 표준 정규 분포보다 넓은 사전 분포를 사용. \n",
    "    - 우리는 유사한 가우스 분포보다 더 무거운 꼬리를 가진 단일 자유도(즉, $b_i \\sim t(1)$)를 가진 t-분포를 사용\n",
    "\n",
    "\n",
    "\n"
   ]
  },
  {
   "cell_type": "markdown",
   "id": "4a9cc8ba",
   "metadata": {},
   "source": [
    "# \n",
    "#### tidyposterior 패키지\n",
    "- 리샘플링된 모델을 비교하기 위해 베이지안 모델에 맞는 기능\n",
    "\n",
    "# \n",
    "### ```tidyposterior::perf_mod()```\n",
    "- 워크플로 세트의 경우 그룹이 워크플로에 해당하는 분산 분석 모형을 만듬 \n",
    "    - 기존 모델은 튜닝 매개 변수를 최적화하지 않음. 세트의 워크플로 중 하나에 튜닝 매개 변수에 대한 데이터가 있는 경우 각 워크플로우에 대해 설정된 최상의 튜닝 매개 변수가 베이지안 분석에 사용. 다시 말해, 튜닝 매개 변수가 존재함에도 불구하고 ```perf_mod()```는 워크플로 간 비교에 초점을 맞춘다.\n",
    "- 리샘플링을 사용하여 튜닝된 단일 모델을 포함하는 객체의 경우 ```perf_mod()```는 모델 내에서 비교\n",
    "    - 이 경우 베이지안 분산 분석 모형에서 검사된 그룹화 변수는 조정 모수에 의해 정의된 하위 모형\n",
    "\n",
    "- ```perf_mod()``` 함수는 둘 이상의 모델/워크플로우 결과와 연관된 성능 메트릭 열을 갖는 rsample에 의해 생성된 데이터 프레임을 가져올 수도 있음\n",
    "\n",
    "- ```perf_mod()``` 함수는 이러한 유형의 객체에서 적절한 베이지안 모델을 결정하고 이를 리샘플링 통계와 일치시킨다. 이 예에서는 워크플로와 관련된 4개의 $R^2$ 통계 세트를 모델링합니다.\n",
    "\n",
    "- tidyposterior 패키지는 stan 소프트웨어를 사용하여 rstanarm 패키지를 통해 모델을 지정하고 장착\n"
   ]
  },
  {
   "cell_type": "code",
   "execution_count": 28,
   "id": "96b62bb2",
   "metadata": {},
   "outputs": [],
   "source": [
    "library(tidyposterior)\n",
    "library(rstanarm)"
   ]
  },
  {
   "cell_type": "code",
   "execution_count": 29,
   "id": "cad1e256",
   "metadata": {},
   "outputs": [
    {
     "name": "stdout",
     "output_type": "stream",
     "text": [
      "\u001b[90m# A workflow set/tibble: 4 x 4\u001b[39m\n",
      "  wflow_id      info             option    result   \n",
      "  \u001b[3m\u001b[90m<chr>\u001b[39m\u001b[23m         \u001b[3m\u001b[90m<list>\u001b[39m\u001b[23m           \u001b[3m\u001b[90m<list>\u001b[39m\u001b[23m    \u001b[3m\u001b[90m<list>\u001b[39m\u001b[23m   \n",
      "\u001b[90m1\u001b[39m random_forest \u001b[90m<tibble [1 x 4]>\u001b[39m \u001b[90m<opts[0]>\u001b[39m \u001b[90m<rsmp[+]>\u001b[39m\n",
      "\u001b[90m2\u001b[39m basic_lm      \u001b[90m<tibble [1 x 4]>\u001b[39m \u001b[90m<opts[2]>\u001b[39m \u001b[90m<rsmp[+]>\u001b[39m\n",
      "\u001b[90m3\u001b[39m interact_lm   \u001b[90m<tibble [1 x 4]>\u001b[39m \u001b[90m<opts[2]>\u001b[39m \u001b[90m<rsmp[+]>\u001b[39m\n",
      "\u001b[90m4\u001b[39m splines_lm    \u001b[90m<tibble [1 x 4]>\u001b[39m \u001b[90m<opts[2]>\u001b[39m \u001b[90m<rsmp[+]>\u001b[39m\n"
     ]
    }
   ],
   "source": [
    "four_models %>% print"
   ]
  },
  {
   "cell_type": "code",
   "execution_count": 25,
   "id": "51df23a5",
   "metadata": {},
   "outputs": [
    {
     "name": "stdout",
     "output_type": "stream",
     "text": [
      "\n",
      "SAMPLING FOR MODEL 'continuous' NOW (CHAIN 1).\n",
      "Chain 1: \n",
      "Chain 1: Gradient evaluation took 0.001 seconds\n",
      "Chain 1: 1000 transitions using 10 leapfrog steps per transition would take 10 seconds.\n",
      "Chain 1: Adjust your expectations accordingly!\n",
      "Chain 1: \n",
      "Chain 1: \n",
      "Chain 1: Iteration:    1 / 5000 [  0%]  (Warmup)\n",
      "Chain 1: Iteration:  500 / 5000 [ 10%]  (Warmup)\n",
      "Chain 1: Iteration: 1000 / 5000 [ 20%]  (Warmup)\n",
      "Chain 1: Iteration: 1500 / 5000 [ 30%]  (Warmup)\n",
      "Chain 1: Iteration: 2000 / 5000 [ 40%]  (Warmup)\n",
      "Chain 1: Iteration: 2500 / 5000 [ 50%]  (Warmup)\n",
      "Chain 1: Iteration: 2501 / 5000 [ 50%]  (Sampling)\n",
      "Chain 1: Iteration: 3000 / 5000 [ 60%]  (Sampling)\n",
      "Chain 1: Iteration: 3500 / 5000 [ 70%]  (Sampling)\n",
      "Chain 1: Iteration: 4000 / 5000 [ 80%]  (Sampling)\n",
      "Chain 1: Iteration: 4500 / 5000 [ 90%]  (Sampling)\n",
      "Chain 1: Iteration: 5000 / 5000 [100%]  (Sampling)\n",
      "Chain 1: \n",
      "Chain 1:  Elapsed Time: 8.136 seconds (Warm-up)\n",
      "Chain 1:                5.254 seconds (Sampling)\n",
      "Chain 1:                13.39 seconds (Total)\n",
      "Chain 1: \n",
      "\n",
      "SAMPLING FOR MODEL 'continuous' NOW (CHAIN 2).\n",
      "Chain 2: \n",
      "Chain 2: Gradient evaluation took 0 seconds\n",
      "Chain 2: 1000 transitions using 10 leapfrog steps per transition would take 0 seconds.\n",
      "Chain 2: Adjust your expectations accordingly!\n",
      "Chain 2: \n",
      "Chain 2: \n",
      "Chain 2: Iteration:    1 / 5000 [  0%]  (Warmup)\n",
      "Chain 2: Iteration:  500 / 5000 [ 10%]  (Warmup)\n",
      "Chain 2: Iteration: 1000 / 5000 [ 20%]  (Warmup)\n",
      "Chain 2: Iteration: 1500 / 5000 [ 30%]  (Warmup)\n",
      "Chain 2: Iteration: 2000 / 5000 [ 40%]  (Warmup)\n",
      "Chain 2: Iteration: 2500 / 5000 [ 50%]  (Warmup)\n",
      "Chain 2: Iteration: 2501 / 5000 [ 50%]  (Sampling)\n",
      "Chain 2: Iteration: 3000 / 5000 [ 60%]  (Sampling)\n",
      "Chain 2: Iteration: 3500 / 5000 [ 70%]  (Sampling)\n",
      "Chain 2: Iteration: 4000 / 5000 [ 80%]  (Sampling)\n",
      "Chain 2: Iteration: 4500 / 5000 [ 90%]  (Sampling)\n",
      "Chain 2: Iteration: 5000 / 5000 [100%]  (Sampling)\n",
      "Chain 2: \n",
      "Chain 2:  Elapsed Time: 8.194 seconds (Warm-up)\n",
      "Chain 2:                5.402 seconds (Sampling)\n",
      "Chain 2:                13.596 seconds (Total)\n",
      "Chain 2: \n",
      "\n",
      "SAMPLING FOR MODEL 'continuous' NOW (CHAIN 3).\n",
      "Chain 3: \n",
      "Chain 3: Gradient evaluation took 0 seconds\n",
      "Chain 3: 1000 transitions using 10 leapfrog steps per transition would take 0 seconds.\n",
      "Chain 3: Adjust your expectations accordingly!\n",
      "Chain 3: \n",
      "Chain 3: \n",
      "Chain 3: Iteration:    1 / 5000 [  0%]  (Warmup)\n",
      "Chain 3: Iteration:  500 / 5000 [ 10%]  (Warmup)\n",
      "Chain 3: Iteration: 1000 / 5000 [ 20%]  (Warmup)\n",
      "Chain 3: Iteration: 1500 / 5000 [ 30%]  (Warmup)\n",
      "Chain 3: Iteration: 2000 / 5000 [ 40%]  (Warmup)\n",
      "Chain 3: Iteration: 2500 / 5000 [ 50%]  (Warmup)\n",
      "Chain 3: Iteration: 2501 / 5000 [ 50%]  (Sampling)\n",
      "Chain 3: Iteration: 3000 / 5000 [ 60%]  (Sampling)\n",
      "Chain 3: Iteration: 3500 / 5000 [ 70%]  (Sampling)\n",
      "Chain 3: Iteration: 4000 / 5000 [ 80%]  (Sampling)\n",
      "Chain 3: Iteration: 4500 / 5000 [ 90%]  (Sampling)\n",
      "Chain 3: Iteration: 5000 / 5000 [100%]  (Sampling)\n",
      "Chain 3: \n",
      "Chain 3:  Elapsed Time: 8.037 seconds (Warm-up)\n",
      "Chain 3:                5.069 seconds (Sampling)\n",
      "Chain 3:                13.106 seconds (Total)\n",
      "Chain 3: \n",
      "\n",
      "SAMPLING FOR MODEL 'continuous' NOW (CHAIN 4).\n",
      "Chain 4: \n",
      "Chain 4: Gradient evaluation took 0.001 seconds\n",
      "Chain 4: 1000 transitions using 10 leapfrog steps per transition would take 10 seconds.\n",
      "Chain 4: Adjust your expectations accordingly!\n",
      "Chain 4: \n",
      "Chain 4: \n",
      "Chain 4: Iteration:    1 / 5000 [  0%]  (Warmup)\n",
      "Chain 4: Iteration:  500 / 5000 [ 10%]  (Warmup)\n",
      "Chain 4: Iteration: 1000 / 5000 [ 20%]  (Warmup)\n",
      "Chain 4: Iteration: 1500 / 5000 [ 30%]  (Warmup)\n",
      "Chain 4: Iteration: 2000 / 5000 [ 40%]  (Warmup)\n",
      "Chain 4: Iteration: 2500 / 5000 [ 50%]  (Warmup)\n",
      "Chain 4: Iteration: 2501 / 5000 [ 50%]  (Sampling)\n",
      "Chain 4: Iteration: 3000 / 5000 [ 60%]  (Sampling)\n",
      "Chain 4: Iteration: 3500 / 5000 [ 70%]  (Sampling)\n",
      "Chain 4: Iteration: 4000 / 5000 [ 80%]  (Sampling)\n",
      "Chain 4: Iteration: 4500 / 5000 [ 90%]  (Sampling)\n",
      "Chain 4: Iteration: 5000 / 5000 [100%]  (Sampling)\n",
      "Chain 4: \n",
      "Chain 4:  Elapsed Time: 7.034 seconds (Warm-up)\n",
      "Chain 4:                5.523 seconds (Sampling)\n",
      "Chain 4:                12.557 seconds (Total)\n",
      "Chain 4: \n"
     ]
    }
   ],
   "source": [
    "rsq_anova <- perf_mod(four_models,\n",
    "                      metric = \"rsq\",\n",
    "                      prior_intercept = rstanarm::student_t(df = 1),\n",
    "                      chains = 4,\n",
    "                      iter = 5000,\n",
    "                      seed = 1102)"
   ]
  },
  {
   "cell_type": "code",
   "execution_count": 26,
   "id": "b4441d8e",
   "metadata": {},
   "outputs": [
    {
     "name": "stdout",
     "output_type": "stream",
     "text": [
      "Rows: 40,000\n",
      "Columns: 2\n",
      "$ model     \u001b[3m\u001b[90m<chr>\u001b[39m\u001b[23m \"random_forest\", \"basic_lm\", \"interact_lm\", \"splines_lm\", \"r~\n",
      "$ posterior \u001b[3m\u001b[90m<dbl>\u001b[39m\u001b[23m 0.8403239, 0.7991174, 0.8005733, 0.8095779, 0.8384184, 0.798~\n"
     ]
    }
   ],
   "source": [
    "model_post <- rsq_anova %>%\n",
    "    tidy(seed = 1103)\n",
    "\n",
    "glimpse(model_post)"
   ]
  },
  {
   "cell_type": "markdown",
   "id": "4cf89da1",
   "metadata": {},
   "source": [
    "# \n",
    "-  네 가지 다른 모델을 사용한 결정 계수에 대한 사후 분포"
   ]
  },
  {
   "cell_type": "code",
   "execution_count": 27,
   "id": "810b38ef",
   "metadata": {},
   "outputs": [
    {
     "data": {
      "image/png": "[encoded data removed]",
      "text/plain": [
       "plot without title"
      ]
     },
     "metadata": {
      "image/png": {
       "height": 420,
       "width": 420
      }
     },
     "output_type": "display_data"
    }
   ],
   "source": [
    "model_post %>% \n",
    "    mutate(model = forcats::fct_inorder(model)) %>%\n",
    "    ggplot(aes(x = posterior)) + \n",
    "    geom_histogram(bins = 50, color = \"white\", fill = \"blue\", alpha = 0.4) + \n",
    "    facet_wrap(~ model, ncol = 1)"
   ]
  },
  {
   "cell_type": "markdown",
   "id": "e740b850",
   "metadata": {},
   "source": [
    "- 중첩 밀도 플롯"
   ]
  },
  {
   "cell_type": "code",
   "execution_count": 31,
   "id": "52af1e4b",
   "metadata": {},
   "outputs": [
    {
     "data": {
      "image/png": "[encoded data removed]",
      "text/plain": [
       "plot without title"
      ]
     },
     "metadata": {
      "image/png": {
       "height": 420,
       "width": 420
      }
     },
     "output_type": "display_data"
    }
   ],
   "source": [
    "autoplot(rsq_anova) +\n",
    "    geom_text_repel(aes(label = workflow), nudge_x = 1/8, nudge_y = 1/100) +\n",
    "    theme(legend.position = \"none\")"
   ]
  },
  {
   "cell_type": "markdown",
   "id": "ef3d6546",
   "metadata": {},
   "source": [
    "- 베이지안 모델과 함께 리샘플링을 사용하는 한 가지 측면은 일단 매개 변수에 대한 사후 분포를 얻으면 매개 변수 조합에 대한 사후 분포를 얻는 것이 간단하다는 것\n",
    "\n",
    "# \n",
    "\n",
    "### ```contrast_models()```\n"
   ]
  },
  {
   "cell_type": "code",
   "execution_count": 35,
   "id": "6c081622",
   "metadata": {},
   "outputs": [
    {
     "name": "stdout",
     "output_type": "stream",
     "text": [
      "Rows: 10,000\n",
      "Columns: 4\n",
      "$ difference \u001b[3m\u001b[90m<dbl>\u001b[39m\u001b[23m 0.010460470, 0.005956666, 0.009413796, 0.008226638, 0.00738~\n",
      "$ model_1    \u001b[3m\u001b[90m<chr>\u001b[39m\u001b[23m \"splines_lm\", \"splines_lm\", \"splines_lm\", \"splines_lm\", \"sp~\n",
      "$ model_2    \u001b[3m\u001b[90m<chr>\u001b[39m\u001b[23m \"basic_lm\", \"basic_lm\", \"basic_lm\", \"basic_lm\", \"basic_lm\",~\n",
      "$ contrast   \u001b[3m\u001b[90m<chr>\u001b[39m\u001b[23m \"splines_lm vs. basic_lm\", \"splines_lm vs. basic_lm\", \"spli~\n"
     ]
    }
   ],
   "source": [
    "rsq_diff <- contrast_models(rsq_anova,\n",
    "                            list_1 = \"splines_lm\", \n",
    "                            list_2 = \"basic_lm\", seed = 1104)\n",
    "rsq_diff %>% glimpse "
   ]
  },
  {
   "cell_type": "markdown",
   "id": "e8403acf",
   "metadata": {},
   "source": [
    "- 결정 계수의 차이에 대한 사후 분포"
   ]
  },
  {
   "cell_type": "code",
   "execution_count": 36,
   "id": "d35122db",
   "metadata": {},
   "outputs": [
    {
     "data": {
      "image/png": "[encoded data removed]",
      "text/plain": [
       "plot without title"
      ]
     },
     "metadata": {
      "image/png": {
       "height": 420,
       "width": 420
      }
     },
     "output_type": "display_data"
    }
   ],
   "source": [
    "rsq_diff %>%  as_tibble() %>% \n",
    "    ggplot(aes(x = difference)) + \n",
    "    geom_vline(xintercept = 0, lty = 2) + \n",
    "    geom_histogram(bins = 50, color = \"white\", fill = \"red\", alpha = 0.4)"
   ]
  },
  {
   "cell_type": "markdown",
   "id": "6ff2048b",
   "metadata": {},
   "source": [
    "# \n",
    "- probability 열은 0보다 큰 사푸분포의 비율을 (diff의 양수값이 실제일 확률) \n",
    "    => 0에 가깝지 않아 통계적으로 실제 차이가 0보다 크다는 것을 확인\n",
    "\n"
   ]
  },
  {
   "cell_type": "code",
   "execution_count": 44,
   "id": "82db0aa6",
   "metadata": {},
   "outputs": [
    {
     "data": {
      "text/html": [
       "<table class=\"dataframe\">\n",
       "<caption>A tibble: 1 × 6</caption>\n",
       "<thead>\n",
       "\t<tr><th scope=col>contrast</th><th scope=col>probability</th><th scope=col>mean</th><th scope=col>lower</th><th scope=col>upper</th><th scope=col>size</th></tr>\n",
       "\t<tr><th scope=col>&lt;chr&gt;</th><th scope=col>&lt;dbl&gt;</th><th scope=col>&lt;dbl&gt;</th><th scope=col>&lt;dbl&gt;</th><th scope=col>&lt;dbl&gt;</th><th scope=col>&lt;dbl&gt;</th></tr>\n",
       "</thead>\n",
       "<tbody>\n",
       "\t<tr><td>splines_lm vs basic_lm</td><td>0.9951</td><td>0.007296108</td><td>0.002662759</td><td>0.01197416</td><td>0.02</td></tr>\n",
       "</tbody>\n",
       "</table>\n"
      ],
      "text/latex": [
       "A tibble: 1 × 6\n",
       "\\begin{tabular}{llllll}\n",
       " contrast & probability & mean & lower & upper & size\\\\\n",
       " <chr> & <dbl> & <dbl> & <dbl> & <dbl> & <dbl>\\\\\n",
       "\\hline\n",
       "\t splines\\_lm vs basic\\_lm & 0.9951 & 0.007296108 & 0.002662759 & 0.01197416 & 0.02\\\\\n",
       "\\end{tabular}\n"
      ],
      "text/markdown": [
       "\n",
       "A tibble: 1 × 6\n",
       "\n",
       "| contrast &lt;chr&gt; | probability &lt;dbl&gt; | mean &lt;dbl&gt; | lower &lt;dbl&gt; | upper &lt;dbl&gt; | size &lt;dbl&gt; |\n",
       "|---|---|---|---|---|---|\n",
       "| splines_lm vs basic_lm | 0.9951 | 0.007296108 | 0.002662759 | 0.01197416 | 0.02 |\n",
       "\n"
      ],
      "text/plain": [
       "  contrast               probability mean        lower       upper      size\n",
       "1 splines_lm vs basic_lm 0.9951      0.007296108 0.002662759 0.01197416 0.02"
      ]
     },
     "metadata": {},
     "output_type": "display_data"
    }
   ],
   "source": [
    "summary(rsq_diff, size = 0.02) %>%\n",
    "    select(-starts_with(\"pract\"))"
   ]
  },
  {
   "cell_type": "markdown",
   "id": "434b3a3d",
   "metadata": {},
   "source": [
    "# \n",
    "\n",
    "- practice_equiv 열은 [-size, size] 내에 있는 후방의 비율 (pract_neg와 practice_pos 열은 이 간격보다 아래 및 위에 있는 비율)\n",
    "    - 이 값은 효과 크기에 대해 두 모델이 실질적으로 동일할 가능성이 압도적으로 높다는 것을 나타냄. \n",
    "    - 이전 plot에서 차이가 0이 아닐 가능성이 높다는 것을 알 수 있었지만, 동등성 검정은 실질적으로 의미가 없을 정도로 작다는 것을 시사\n",
    "\n"
   ]
  },
  {
   "cell_type": "code",
   "execution_count": 45,
   "id": "9ca1c8e5",
   "metadata": {},
   "outputs": [
    {
     "data": {
      "text/html": [
       "<table class=\"dataframe\">\n",
       "<caption>A tibble: 1 × 4</caption>\n",
       "<thead>\n",
       "\t<tr><th scope=col>contrast</th><th scope=col>pract_neg</th><th scope=col>pract_equiv</th><th scope=col>pract_pos</th></tr>\n",
       "\t<tr><th scope=col>&lt;chr&gt;</th><th scope=col>&lt;dbl&gt;</th><th scope=col>&lt;dbl&gt;</th><th scope=col>&lt;dbl&gt;</th></tr>\n",
       "</thead>\n",
       "<tbody>\n",
       "\t<tr><td>splines_lm vs basic_lm</td><td>0</td><td>1</td><td>0</td></tr>\n",
       "</tbody>\n",
       "</table>\n"
      ],
      "text/latex": [
       "A tibble: 1 × 4\n",
       "\\begin{tabular}{llll}\n",
       " contrast & pract\\_neg & pract\\_equiv & pract\\_pos\\\\\n",
       " <chr> & <dbl> & <dbl> & <dbl>\\\\\n",
       "\\hline\n",
       "\t splines\\_lm vs basic\\_lm & 0 & 1 & 0\\\\\n",
       "\\end{tabular}\n"
      ],
      "text/markdown": [
       "\n",
       "A tibble: 1 × 4\n",
       "\n",
       "| contrast &lt;chr&gt; | pract_neg &lt;dbl&gt; | pract_equiv &lt;dbl&gt; | pract_pos &lt;dbl&gt; |\n",
       "|---|---|---|---|\n",
       "| splines_lm vs basic_lm | 0 | 1 | 0 |\n",
       "\n"
      ],
      "text/plain": [
       "  contrast               pract_neg pract_equiv pract_pos\n",
       "1 splines_lm vs basic_lm 0         1           0        "
      ]
     },
     "metadata": {},
     "output_type": "display_data"
    }
   ],
   "source": [
    "summary(rsq_diff, size = 0.02) %>%\n",
    "    select(contrast, starts_with(\"pract\"))"
   ]
  },
  {
   "cell_type": "markdown",
   "id": "3ca4d97f",
   "metadata": {},
   "source": [
    "# \n",
    "\n",
    "- 랜덤 포레스트 모델을 리샘플링한 선형 회귀 분석 중 하나 또는 둘 다와 비교하는 데 동일한 프로세스를 사용할 수 있음. \n",
    "- 실제로 ```perf_mod()```를 워크플로 세트와 함께 사용할 때 ```autoplot()```메서드는 각 워크플로를 현재 최고 성능 모델(이 경우 랜덤 포레스트 모델)와 비교하는 practice_equiv 결과를 표시할 수 있음.\n",
    "\n",
    "# \n",
    "(ROPE (Regional Of Practical Equivalence) : 실제 동일 값 영역)"
   ]
  },
  {
   "cell_type": "markdown",
   "id": "c89b315b",
   "metadata": {},
   "source": [
    "# \n",
    "- 2%의 효과 크기에 대한 실제 동등성의 확률"
   ]
  },
  {
   "cell_type": "code",
   "execution_count": 47,
   "id": "43cc7dd2",
   "metadata": {},
   "outputs": [
    {
     "data": {
      "image/png": "[encoded data removed]",
      "text/plain": [
       "plot without title"
      ]
     },
     "metadata": {
      "image/png": {
       "height": 420,
       "width": 420
      }
     },
     "output_type": "display_data"
    }
   ],
   "source": [
    "autoplot(rsq_anova, type = \"ROPE\", size = 0.02) +\n",
    "    geom_text_repel(aes(label = workflow)) +\n",
    "    theme(legend.position = \"none\")"
   ]
  },
  {
   "cell_type": "markdown",
   "id": "691e4529",
   "metadata": {},
   "source": [
    "# \n",
    "# \n",
    "### 리샘플링의 크기가 미치는 영향\n",
    "- 리샘플링이 많을수록 전체 리샘플링 추정치의 정밀도가 증가. \n",
    "\n"
   ]
  }
 ],
 "metadata": {
  "kernelspec": {
   "display_name": "R 4.1.3",
   "language": "R",
   "name": "ir32"
  },
  "language_info": {
   "codemirror_mode": "r",
   "file_extension": ".r",
   "mimetype": "text/x-r-source",
   "name": "R",
   "pygments_lexer": "r",
   "version": "4.1.3"
  }
 },
 "nbformat": 4,
 "nbformat_minor": 5
}
