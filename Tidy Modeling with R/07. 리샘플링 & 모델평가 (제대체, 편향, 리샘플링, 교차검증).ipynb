{
 "cells": [
  {
   "cell_type": "markdown",
   "id": "539f2181",
   "metadata": {},
   "source": [
    "# 07. 리샘플링 & 모델평가"
   ]
  },
  {
   "cell_type": "code",
   "execution_count": 2,
   "id": "2253a357",
   "metadata": {},
   "outputs": [],
   "source": [
    "library(tidyverse)\n",
    "library(tidymodels)\n",
    "ggplot2::theme_set(theme_bw())\n",
    "tidymodels_prefer()"
   ]
  },
  {
   "cell_type": "code",
   "execution_count": 3,
   "id": "e33da35e",
   "metadata": {},
   "outputs": [],
   "source": [
    "data(ames)\n",
    "ames <- mutate(ames, Sale_Price = log10(Sale_Price))\n",
    "\n",
    "set.seed(502)\n",
    "ames_split <- initial_split(ames, prop = 0.80, strata = Sale_Price)\n",
    "ames_train <- training(ames_split)\n",
    "ames_test  <-  testing(ames_split)"
   ]
  },
  {
   "cell_type": "markdown",
   "id": "117509f5",
   "metadata": {},
   "source": [
    "<br>\n",
    "\n",
    "## 07.01. 제대체 (Resubstitution)\n",
    "- **훈련에 사용한 것과 동일한 데이터(새 데이터나 테스트 데이터가 아님)에 대한 성능을 측정할 때 데이터의 제대체**\n"
   ]
  },
  {
   "cell_type": "markdown",
   "id": "33e36390",
   "metadata": {},
   "source": [
    "<br>\n",
    "\n",
    "### 선형회귀 모델\n",
    "- 선형회귀 모델 정의"
   ]
  },
  {
   "cell_type": "code",
   "execution_count": 4,
   "id": "037a5007",
   "metadata": {},
   "outputs": [],
   "source": [
    "lm_model <- linear_reg() %>% set_engine(\"lm\")"
   ]
  },
  {
   "cell_type": "markdown",
   "id": "3d64b7b1",
   "metadata": {},
   "source": [
    "<br>\n",
    "\n",
    "- 워크플로 생성"
   ]
  },
  {
   "cell_type": "code",
   "execution_count": 5,
   "id": "9c26130e",
   "metadata": {},
   "outputs": [],
   "source": [
    "lm_wflow <- workflow() %>% \n",
    "  add_formula(\n",
    "    Sale_Price ~ Neighborhood + Gr_Liv_Area + Year_Built + Bldg_Type + Latitude + Longitude) %>% \n",
    "  add_model(lm_model) "
   ]
  },
  {
   "cell_type": "markdown",
   "id": "05f8d845",
   "metadata": {},
   "source": [
    "<br>\n",
    "\n",
    "- 모델 적합"
   ]
  },
  {
   "cell_type": "code",
   "execution_count": 6,
   "id": "11835820",
   "metadata": {},
   "outputs": [],
   "source": [
    "lm_fit <- fit(lm_wflow, ames_train)"
   ]
  },
  {
   "cell_type": "markdown",
   "id": "7cdca5a7",
   "metadata": {},
   "source": [
    "<br>\n",
    "\n",
    "### 랜덤포레스트 모델\n",
    "- 랜덤포레스트 모델 정의"
   ]
  },
  {
   "cell_type": "code",
   "execution_count": 7,
   "id": "8095ce57",
   "metadata": {},
   "outputs": [],
   "source": [
    "rf_model <- rand_forest(trees = 1000) %>% \n",
    "  set_engine(\"ranger\") %>% \n",
    "  set_mode(\"regression\")"
   ]
  },
  {
   "cell_type": "markdown",
   "id": "8d734f31",
   "metadata": {},
   "source": [
    "<br>\n",
    "\n",
    "- 워크플로 생성"
   ]
  },
  {
   "cell_type": "code",
   "execution_count": 8,
   "id": "0992b2c5",
   "metadata": {},
   "outputs": [],
   "source": [
    "rf_wflow <- workflow() %>% \n",
    "  add_formula(\n",
    "    Sale_Price ~ Neighborhood + Gr_Liv_Area + Year_Built + Bldg_Type + Latitude + Longitude) %>% \n",
    "  add_model(rf_model) "
   ]
  },
  {
   "cell_type": "markdown",
   "id": "f95685d9",
   "metadata": {},
   "source": [
    "- 모델 적합"
   ]
  },
  {
   "cell_type": "code",
   "execution_count": 9,
   "id": "cd32a9c7",
   "metadata": {},
   "outputs": [],
   "source": [
    "rf_fit <- rf_wflow %>% fit(data = ames_train)"
   ]
  },
  {
   "cell_type": "markdown",
   "id": "4e06ecd7",
   "metadata": {},
   "source": [
    "<br>\n",
    "\n",
    "### 모델 비교\n",
    "- 예측을 생성하고 결과형식을 지정하는 함수"
   ]
  },
  {
   "cell_type": "code",
   "execution_count": 10,
   "id": "85861283",
   "metadata": {},
   "outputs": [],
   "source": [
    "estimate_perf <- function(model, dat) {\n",
    "\n",
    "  cl <- match.call()\n",
    "  obj_name <- as.character(cl$model)\n",
    "  data_name <- as.character(cl$dat)\n",
    "  data_name <- gsub(\"ames_\", \"\", data_name)\n",
    "  \n",
    "  reg_metrics <- metric_set(rmse, rsq)\n",
    "  \n",
    "  model %>%\n",
    "    predict(dat) %>%\n",
    "    bind_cols(dat %>% select(Sale_Price)) %>%\n",
    "    reg_metrics(Sale_Price, .pred) %>%\n",
    "    select(-.estimator) %>%\n",
    "    mutate(object = obj_name, data = data_name)\n",
    "}"
   ]
  },
  {
   "cell_type": "markdown",
   "id": "e95cfaa5",
   "metadata": {},
   "source": [
    "<br>\n",
    "\n",
    "- **랜덤포레스트 모델이 선형회귀 모델보다 좋은 성능**"
   ]
  },
  {
   "cell_type": "code",
   "execution_count": 11,
   "id": "b6889440",
   "metadata": {},
   "outputs": [
    {
     "data": {
      "text/html": [
       "<table class=\"dataframe\">\n",
       "<caption>A tibble: 2 × 4</caption>\n",
       "<thead>\n",
       "\t<tr><th scope=col>.metric</th><th scope=col>.estimate</th><th scope=col>object</th><th scope=col>data</th></tr>\n",
       "\t<tr><th scope=col>&lt;chr&gt;</th><th scope=col>&lt;dbl&gt;</th><th scope=col>&lt;chr&gt;</th><th scope=col>&lt;chr&gt;</th></tr>\n",
       "</thead>\n",
       "<tbody>\n",
       "\t<tr><td>rmse</td><td>0.0364104</td><td>rf_fit</td><td>train</td></tr>\n",
       "\t<tr><td>rsq </td><td>0.9601284</td><td>rf_fit</td><td>train</td></tr>\n",
       "</tbody>\n",
       "</table>\n"
      ],
      "text/latex": [
       "A tibble: 2 × 4\n",
       "\\begin{tabular}{llll}\n",
       " .metric & .estimate & object & data\\\\\n",
       " <chr> & <dbl> & <chr> & <chr>\\\\\n",
       "\\hline\n",
       "\t rmse & 0.0364104 & rf\\_fit & train\\\\\n",
       "\t rsq  & 0.9601284 & rf\\_fit & train\\\\\n",
       "\\end{tabular}\n"
      ],
      "text/markdown": [
       "\n",
       "A tibble: 2 × 4\n",
       "\n",
       "| .metric &lt;chr&gt; | .estimate &lt;dbl&gt; | object &lt;chr&gt; | data &lt;chr&gt; |\n",
       "|---|---|---|---|\n",
       "| rmse | 0.0364104 | rf_fit | train |\n",
       "| rsq  | 0.9601284 | rf_fit | train |\n",
       "\n"
      ],
      "text/plain": [
       "  .metric .estimate object data \n",
       "1 rmse    0.0364104 rf_fit train\n",
       "2 rsq     0.9601284 rf_fit train"
      ]
     },
     "metadata": {},
     "output_type": "display_data"
    }
   ],
   "source": [
    "estimate_perf(rf_fit, ames_train)"
   ]
  },
  {
   "cell_type": "code",
   "execution_count": 12,
   "id": "578a16b1",
   "metadata": {},
   "outputs": [
    {
     "name": "stderr",
     "output_type": "stream",
     "text": [
      "Warning message in predict.lm(object = object$fit, newdata = new_data, type = \"response\", :\n",
      "\"prediction from rank-deficient fit; consider predict(., rankdeficient=\"NA\")\"\n"
     ]
    },
    {
     "data": {
      "text/html": [
       "<table class=\"dataframe\">\n",
       "<caption>A tibble: 2 × 4</caption>\n",
       "<thead>\n",
       "\t<tr><th scope=col>.metric</th><th scope=col>.estimate</th><th scope=col>object</th><th scope=col>data</th></tr>\n",
       "\t<tr><th scope=col>&lt;chr&gt;</th><th scope=col>&lt;dbl&gt;</th><th scope=col>&lt;chr&gt;</th><th scope=col>&lt;chr&gt;</th></tr>\n",
       "</thead>\n",
       "<tbody>\n",
       "\t<tr><td>rmse</td><td>0.08151325</td><td>lm_fit</td><td>train</td></tr>\n",
       "\t<tr><td>rsq </td><td>0.78499440</td><td>lm_fit</td><td>train</td></tr>\n",
       "</tbody>\n",
       "</table>\n"
      ],
      "text/latex": [
       "A tibble: 2 × 4\n",
       "\\begin{tabular}{llll}\n",
       " .metric & .estimate & object & data\\\\\n",
       " <chr> & <dbl> & <chr> & <chr>\\\\\n",
       "\\hline\n",
       "\t rmse & 0.08151325 & lm\\_fit & train\\\\\n",
       "\t rsq  & 0.78499440 & lm\\_fit & train\\\\\n",
       "\\end{tabular}\n"
      ],
      "text/markdown": [
       "\n",
       "A tibble: 2 × 4\n",
       "\n",
       "| .metric &lt;chr&gt; | .estimate &lt;dbl&gt; | object &lt;chr&gt; | data &lt;chr&gt; |\n",
       "|---|---|---|---|\n",
       "| rmse | 0.08151325 | lm_fit | train |\n",
       "| rsq  | 0.78499440 | lm_fit | train |\n",
       "\n"
      ],
      "text/plain": [
       "  .metric .estimate  object data \n",
       "1 rmse    0.08151325 lm_fit train\n",
       "2 rsq     0.78499440 lm_fit train"
      ]
     },
     "metadata": {},
     "output_type": "display_data"
    }
   ],
   "source": [
    "estimate_perf(lm_fit, ames_train)"
   ]
  },
  {
   "cell_type": "markdown",
   "id": "808990f2",
   "metadata": {},
   "source": [
    "<br>\n",
    "\n",
    "### 모델 평가\n",
    "- 테스트 데이터에 대한 평가결과는 훈련 데이터보다 나쁜 성능을 보임"
   ]
  },
  {
   "cell_type": "code",
   "execution_count": 13,
   "id": "729b3eab",
   "metadata": {},
   "outputs": [
    {
     "data": {
      "text/html": [
       "<table class=\"dataframe\">\n",
       "<caption>A tibble: 2 × 4</caption>\n",
       "<thead>\n",
       "\t<tr><th scope=col>.metric</th><th scope=col>.estimate</th><th scope=col>object</th><th scope=col>data</th></tr>\n",
       "\t<tr><th scope=col>&lt;chr&gt;</th><th scope=col>&lt;dbl&gt;</th><th scope=col>&lt;chr&gt;</th><th scope=col>&lt;chr&gt;</th></tr>\n",
       "</thead>\n",
       "<tbody>\n",
       "\t<tr><td>rmse</td><td>0.07037264</td><td>rf_fit</td><td>test</td></tr>\n",
       "\t<tr><td>rsq </td><td>0.85184851</td><td>rf_fit</td><td>test</td></tr>\n",
       "</tbody>\n",
       "</table>\n"
      ],
      "text/latex": [
       "A tibble: 2 × 4\n",
       "\\begin{tabular}{llll}\n",
       " .metric & .estimate & object & data\\\\\n",
       " <chr> & <dbl> & <chr> & <chr>\\\\\n",
       "\\hline\n",
       "\t rmse & 0.07037264 & rf\\_fit & test\\\\\n",
       "\t rsq  & 0.85184851 & rf\\_fit & test\\\\\n",
       "\\end{tabular}\n"
      ],
      "text/markdown": [
       "\n",
       "A tibble: 2 × 4\n",
       "\n",
       "| .metric &lt;chr&gt; | .estimate &lt;dbl&gt; | object &lt;chr&gt; | data &lt;chr&gt; |\n",
       "|---|---|---|---|\n",
       "| rmse | 0.07037264 | rf_fit | test |\n",
       "| rsq  | 0.85184851 | rf_fit | test |\n",
       "\n"
      ],
      "text/plain": [
       "  .metric .estimate  object data\n",
       "1 rmse    0.07037264 rf_fit test\n",
       "2 rsq     0.85184851 rf_fit test"
      ]
     },
     "metadata": {},
     "output_type": "display_data"
    }
   ],
   "source": [
    "estimate_perf(rf_fit, ames_test)"
   ]
  },
  {
   "cell_type": "markdown",
   "id": "8d24f761",
   "metadata": {},
   "source": [
    "<br>\n",
    "\n",
    "### 편향\n",
    "- **편향은 데이터의 실제 패턴과 모델이 적합할 수 있는 패턴 유형간의 차이**\n",
    "    - 많은 기계 학습 모델은 편향이 낮아 복잡한 관계를 재현할 수 있음\n",
    "    \n",
    "- 편향이 낮은 모델의 경우, 높은 수준의 예측력으로 인해 모델이 훈련 데이터의 세트에 과적합될 수 있음\n",
    "    - 훈련 데이터에 대한 예측 성능을 가지지만, 테스트 데이터에 대해서는 그렇지 않음\n",
    "    \n",
    "    $\\rightarrow$ **리샘플링의 필요성**"
   ]
  },
  {
   "cell_type": "markdown",
   "id": "5527d10a",
   "metadata": {},
   "source": [
    "<br>\n",
    "\n",
    "## 07.02. 리샘플링\n",
    "- **리샘플링은 모델링을 위해 일부 데이터를 사용하고, 평가를 위해 다른 데이터를 사용하는 프로세스를 모델 적합에 사용하는 경험적 시뮬레이션 시스템**\n",
    "    - 대부분의 리샘플링 방법은 반복적\n",
    "    \n",
    "<br>\n",
    "\n",
    "<img src = 'https://www.tmwr.org/premade/resampling.svg'>"
   ]
  },
  {
   "cell_type": "markdown",
   "id": "c95b1abc",
   "metadata": {},
   "source": [
    "<br>\n",
    "\n",
    "- **리샘플링은 훈련 데이터에 대해서만 수행 (테스트 데이터에는 수행 X)**\n",
    "- **리샘플링이 반복될 때 마다 데이터는 두 개의 하위 샘플로 분할**\n",
    "    - **모델이 훈련 데이터에 적합**\n",
    "    - **모델은 검증 데이터를 사용하여 평가**\n",
    "    \n",
    "<br>\n",
    "\n",
    "- 20번의 리샘플링 반복이 수행되었다고 가정 시,\n",
    "    \n",
    "    20개의 개별 모델이 훈련 데이터에 적합하고, \n",
    "    \n",
    "    해당 검증 데이터가 가 20개의 성능 통계 세트를 생성한다는 것을 의미\n",
    "    \n",
    "    <br>\n",
    "    \n",
    "    - 모델 성능의 최종 추정치는 20번의 통계 반복실험의 평균\n",
    "        - 이 평균은 매우 좋은 일반화 특성을 가지며 재대체 추정치보다 대체로 좋음"
   ]
  },
  {
   "cell_type": "markdown",
   "id": "7de15f11",
   "metadata": {},
   "source": [
    "<br>\n",
    "\n",
    "### 교차 검증\n",
    "- **가장 일반적인 교차 검증 방법은 K-fold 교차 검증**\n",
    "- **데이터는 동일한 크기의 $K$개 세트로 무작위 분할**\n",
    "\n",
    "<img src= 'https://www.tmwr.org/premade/three-CV.svg'>"
   ]
  },
  {
   "cell_type": "markdown",
   "id": "327956cd",
   "metadata": {},
   "source": [
    "<br>\n",
    "\n",
    "- **3-fold 교차 검증의 경우, 각 반복마다 평가지표 생성을 위해,**\n",
    "    \n",
    "    **1개의 fold는 검증용 데이터로, 나머지 2개는 훈련용 데이터로 사용**\n",
    "    \n",
    "    - **이 프로세스는 각 fold에 대해 반복 $\\rightarrow$ 3가지 모델이 각각 성능 지표를 계산**\n",
    "    \n",
    "<br>\n",
    "\n",
    "<img src='https://www.tmwr.org/premade/three-CV-iter.svg'>"
   ]
  },
  {
   "cell_type": "markdown",
   "id": "03aafa9c",
   "metadata": {},
   "source": [
    "<br>\n",
    "\n",
    "- **fold의 개수는 대체로 5 or 10**\n",
    "- **fold의 개수가 클수록 편향은 작지만 분산이 큰 결과**\n",
    "    \n",
    "    **fold의 개수가 작을수록 편향은 크지만 분산은 낮은 결과**\n",
    "    \n",
    "<br>"
   ]
  },
  {
   "cell_type": "markdown",
   "id": "a3a9b0b2",
   "metadata": {},
   "source": [
    "#### `vfold_cv(데이터, v, repeats)`\n",
    "- **`v`** : fold 개수\n",
    "- **`repeats`** : 반복 횟수"
   ]
  },
  {
   "cell_type": "code",
   "execution_count": 14,
   "id": "75c2f9d0",
   "metadata": {},
   "outputs": [],
   "source": [
    "set.seed(1001)\n",
    "ames_folds <- vfold_cv(ames_train, v = 10)"
   ]
  },
  {
   "cell_type": "markdown",
   "id": "ea0120b8",
   "metadata": {},
   "source": [
    "- 첫 번째 fold에는 2342개의 전체 데이터 중, 2107개의 훈련용 데이터와, 235개의 검증용 데이터가 존재"
   ]
  },
  {
   "cell_type": "code",
   "execution_count": 15,
   "id": "8d06d865",
   "metadata": {},
   "outputs": [
    {
     "data": {
      "text/plain": [
       "<Analysis/Assess/Total>\n",
       "<2107/235/2342>"
      ]
     },
     "metadata": {},
     "output_type": "display_data"
    }
   ],
   "source": [
    "ames_folds$splits[[1]]"
   ]
  },
  {
   "cell_type": "markdown",
   "id": "89b005b0",
   "metadata": {},
   "source": [
    "- 첫 번째 fold의 훈련용 데이터"
   ]
  },
  {
   "cell_type": "code",
   "execution_count": 16,
   "id": "422860c9",
   "metadata": {},
   "outputs": [
    {
     "data": {
      "text/html": [
       "<style>\n",
       ".list-inline {list-style: none; margin:0; padding: 0}\n",
       ".list-inline>li {display: inline-block}\n",
       ".list-inline>li:not(:last-child)::after {content: \"\\00b7\"; padding: 0 .5ex}\n",
       "</style>\n",
       "<ol class=list-inline><li>2107</li><li>74</li></ol>\n"
      ],
      "text/latex": [
       "\\begin{enumerate*}\n",
       "\\item 2107\n",
       "\\item 74\n",
       "\\end{enumerate*}\n"
      ],
      "text/markdown": [
       "1. 2107\n",
       "2. 74\n",
       "\n",
       "\n"
      ],
      "text/plain": [
       "[1] 2107   74"
      ]
     },
     "metadata": {},
     "output_type": "display_data"
    },
    {
     "data": {
      "text/html": [
       "<table class=\"dataframe\">\n",
       "<caption>A tibble: 6 × 74</caption>\n",
       "<thead>\n",
       "\t<tr><th scope=col>MS_SubClass</th><th scope=col>MS_Zoning</th><th scope=col>Lot_Frontage</th><th scope=col>Lot_Area</th><th scope=col>Street</th><th scope=col>Alley</th><th scope=col>Lot_Shape</th><th scope=col>Land_Contour</th><th scope=col>Utilities</th><th scope=col>Lot_Config</th><th scope=col>⋯</th><th scope=col>Fence</th><th scope=col>Misc_Feature</th><th scope=col>Misc_Val</th><th scope=col>Mo_Sold</th><th scope=col>Year_Sold</th><th scope=col>Sale_Type</th><th scope=col>Sale_Condition</th><th scope=col>Sale_Price</th><th scope=col>Longitude</th><th scope=col>Latitude</th></tr>\n",
       "\t<tr><th scope=col>&lt;fct&gt;</th><th scope=col>&lt;fct&gt;</th><th scope=col>&lt;dbl&gt;</th><th scope=col>&lt;int&gt;</th><th scope=col>&lt;fct&gt;</th><th scope=col>&lt;fct&gt;</th><th scope=col>&lt;fct&gt;</th><th scope=col>&lt;fct&gt;</th><th scope=col>&lt;fct&gt;</th><th scope=col>&lt;fct&gt;</th><th scope=col>⋯</th><th scope=col>&lt;fct&gt;</th><th scope=col>&lt;fct&gt;</th><th scope=col>&lt;int&gt;</th><th scope=col>&lt;int&gt;</th><th scope=col>&lt;int&gt;</th><th scope=col>&lt;fct&gt;</th><th scope=col>&lt;fct&gt;</th><th scope=col>&lt;dbl&gt;</th><th scope=col>&lt;dbl&gt;</th><th scope=col>&lt;dbl&gt;</th></tr>\n",
       "</thead>\n",
       "<tbody>\n",
       "\t<tr><td>One_Story_1946_and_Newer_All_Styles</td><td>Residential_Low_Density   </td><td>70</td><td> 8400</td><td>Pave</td><td>No_Alley_Access</td><td>Regular</td><td>Lvl</td><td>AllPub</td><td>Corner</td><td>⋯</td><td>Minimum_Privacy</td><td>None</td><td>0</td><td>4</td><td>2010</td><td>WD   </td><td>Normal</td><td>5.100371</td><td>-93.62711</td><td>42.05340</td></tr>\n",
       "\t<tr><td>One_Story_1946_and_Newer_All_Styles</td><td>Residential_Low_Density   </td><td>70</td><td>10500</td><td>Pave</td><td>No_Alley_Access</td><td>Regular</td><td>Lvl</td><td>AllPub</td><td>FR2   </td><td>⋯</td><td>No_Fence       </td><td>None</td><td>0</td><td>4</td><td>2010</td><td>ConLI</td><td>Normal</td><td>5.060698</td><td>-93.62277</td><td>42.05638</td></tr>\n",
       "\t<tr><td>Two_Story_PUD_1946_and_Newer       </td><td>Residential_Medium_Density</td><td>21</td><td> 1680</td><td>Pave</td><td>No_Alley_Access</td><td>Regular</td><td>Lvl</td><td>AllPub</td><td>Inside</td><td>⋯</td><td>No_Fence       </td><td>None</td><td>0</td><td>3</td><td>2010</td><td>WD   </td><td>Normal</td><td>5.023252</td><td>-93.62754</td><td>42.05168</td></tr>\n",
       "\t<tr><td>Two_Story_PUD_1946_and_Newer       </td><td>Residential_Medium_Density</td><td>21</td><td> 1680</td><td>Pave</td><td>No_Alley_Access</td><td>Regular</td><td>Lvl</td><td>AllPub</td><td>Inside</td><td>⋯</td><td>No_Fence       </td><td>None</td><td>0</td><td>3</td><td>2010</td><td>WD   </td><td>Family</td><td>4.944483</td><td>-93.62728</td><td>42.05168</td></tr>\n",
       "\t<tr><td>One_Story_PUD_1946_and_Newer       </td><td>Residential_Low_Density   </td><td>53</td><td> 4043</td><td>Pave</td><td>No_Alley_Access</td><td>Regular</td><td>Lvl</td><td>AllPub</td><td>Inside</td><td>⋯</td><td>No_Fence       </td><td>None</td><td>0</td><td>7</td><td>2010</td><td>WD   </td><td>Normal</td><td>5.105510</td><td>-93.62723</td><td>42.04967</td></tr>\n",
       "\t<tr><td>One_Story_PUD_1946_and_Newer       </td><td>Residential_Low_Density   </td><td>24</td><td> 2280</td><td>Pave</td><td>No_Alley_Access</td><td>Regular</td><td>Lvl</td><td>AllPub</td><td>FR2   </td><td>⋯</td><td>No_Fence       </td><td>None</td><td>0</td><td>6</td><td>2010</td><td>WD   </td><td>Normal</td><td>5.079181</td><td>-93.62597</td><td>42.05068</td></tr>\n",
       "</tbody>\n",
       "</table>\n"
      ],
      "text/latex": [
       "A tibble: 6 × 74\n",
       "\\begin{tabular}{lllllllllllllllllllll}\n",
       " MS\\_SubClass & MS\\_Zoning & Lot\\_Frontage & Lot\\_Area & Street & Alley & Lot\\_Shape & Land\\_Contour & Utilities & Lot\\_Config & ⋯ & Fence & Misc\\_Feature & Misc\\_Val & Mo\\_Sold & Year\\_Sold & Sale\\_Type & Sale\\_Condition & Sale\\_Price & Longitude & Latitude\\\\\n",
       " <fct> & <fct> & <dbl> & <int> & <fct> & <fct> & <fct> & <fct> & <fct> & <fct> & ⋯ & <fct> & <fct> & <int> & <int> & <int> & <fct> & <fct> & <dbl> & <dbl> & <dbl>\\\\\n",
       "\\hline\n",
       "\t One\\_Story\\_1946\\_and\\_Newer\\_All\\_Styles & Residential\\_Low\\_Density    & 70 &  8400 & Pave & No\\_Alley\\_Access & Regular & Lvl & AllPub & Corner & ⋯ & Minimum\\_Privacy & None & 0 & 4 & 2010 & WD    & Normal & 5.100371 & -93.62711 & 42.05340\\\\\n",
       "\t One\\_Story\\_1946\\_and\\_Newer\\_All\\_Styles & Residential\\_Low\\_Density    & 70 & 10500 & Pave & No\\_Alley\\_Access & Regular & Lvl & AllPub & FR2    & ⋯ & No\\_Fence        & None & 0 & 4 & 2010 & ConLI & Normal & 5.060698 & -93.62277 & 42.05638\\\\\n",
       "\t Two\\_Story\\_PUD\\_1946\\_and\\_Newer        & Residential\\_Medium\\_Density & 21 &  1680 & Pave & No\\_Alley\\_Access & Regular & Lvl & AllPub & Inside & ⋯ & No\\_Fence        & None & 0 & 3 & 2010 & WD    & Normal & 5.023252 & -93.62754 & 42.05168\\\\\n",
       "\t Two\\_Story\\_PUD\\_1946\\_and\\_Newer        & Residential\\_Medium\\_Density & 21 &  1680 & Pave & No\\_Alley\\_Access & Regular & Lvl & AllPub & Inside & ⋯ & No\\_Fence        & None & 0 & 3 & 2010 & WD    & Family & 4.944483 & -93.62728 & 42.05168\\\\\n",
       "\t One\\_Story\\_PUD\\_1946\\_and\\_Newer        & Residential\\_Low\\_Density    & 53 &  4043 & Pave & No\\_Alley\\_Access & Regular & Lvl & AllPub & Inside & ⋯ & No\\_Fence        & None & 0 & 7 & 2010 & WD    & Normal & 5.105510 & -93.62723 & 42.04967\\\\\n",
       "\t One\\_Story\\_PUD\\_1946\\_and\\_Newer        & Residential\\_Low\\_Density    & 24 &  2280 & Pave & No\\_Alley\\_Access & Regular & Lvl & AllPub & FR2    & ⋯ & No\\_Fence        & None & 0 & 6 & 2010 & WD    & Normal & 5.079181 & -93.62597 & 42.05068\\\\\n",
       "\\end{tabular}\n"
      ],
      "text/markdown": [
       "\n",
       "A tibble: 6 × 74\n",
       "\n",
       "| MS_SubClass &lt;fct&gt; | MS_Zoning &lt;fct&gt; | Lot_Frontage &lt;dbl&gt; | Lot_Area &lt;int&gt; | Street &lt;fct&gt; | Alley &lt;fct&gt; | Lot_Shape &lt;fct&gt; | Land_Contour &lt;fct&gt; | Utilities &lt;fct&gt; | Lot_Config &lt;fct&gt; | ⋯ ⋯ | Fence &lt;fct&gt; | Misc_Feature &lt;fct&gt; | Misc_Val &lt;int&gt; | Mo_Sold &lt;int&gt; | Year_Sold &lt;int&gt; | Sale_Type &lt;fct&gt; | Sale_Condition &lt;fct&gt; | Sale_Price &lt;dbl&gt; | Longitude &lt;dbl&gt; | Latitude &lt;dbl&gt; |\n",
       "|---|---|---|---|---|---|---|---|---|---|---|---|---|---|---|---|---|---|---|---|---|\n",
       "| One_Story_1946_and_Newer_All_Styles | Residential_Low_Density    | 70 |  8400 | Pave | No_Alley_Access | Regular | Lvl | AllPub | Corner | ⋯ | Minimum_Privacy | None | 0 | 4 | 2010 | WD    | Normal | 5.100371 | -93.62711 | 42.05340 |\n",
       "| One_Story_1946_and_Newer_All_Styles | Residential_Low_Density    | 70 | 10500 | Pave | No_Alley_Access | Regular | Lvl | AllPub | FR2    | ⋯ | No_Fence        | None | 0 | 4 | 2010 | ConLI | Normal | 5.060698 | -93.62277 | 42.05638 |\n",
       "| Two_Story_PUD_1946_and_Newer        | Residential_Medium_Density | 21 |  1680 | Pave | No_Alley_Access | Regular | Lvl | AllPub | Inside | ⋯ | No_Fence        | None | 0 | 3 | 2010 | WD    | Normal | 5.023252 | -93.62754 | 42.05168 |\n",
       "| Two_Story_PUD_1946_and_Newer        | Residential_Medium_Density | 21 |  1680 | Pave | No_Alley_Access | Regular | Lvl | AllPub | Inside | ⋯ | No_Fence        | None | 0 | 3 | 2010 | WD    | Family | 4.944483 | -93.62728 | 42.05168 |\n",
       "| One_Story_PUD_1946_and_Newer        | Residential_Low_Density    | 53 |  4043 | Pave | No_Alley_Access | Regular | Lvl | AllPub | Inside | ⋯ | No_Fence        | None | 0 | 7 | 2010 | WD    | Normal | 5.105510 | -93.62723 | 42.04967 |\n",
       "| One_Story_PUD_1946_and_Newer        | Residential_Low_Density    | 24 |  2280 | Pave | No_Alley_Access | Regular | Lvl | AllPub | FR2    | ⋯ | No_Fence        | None | 0 | 6 | 2010 | WD    | Normal | 5.079181 | -93.62597 | 42.05068 |\n",
       "\n"
      ],
      "text/plain": [
       "  MS_SubClass                         MS_Zoning                  Lot_Frontage\n",
       "1 One_Story_1946_and_Newer_All_Styles Residential_Low_Density    70          \n",
       "2 One_Story_1946_and_Newer_All_Styles Residential_Low_Density    70          \n",
       "3 Two_Story_PUD_1946_and_Newer        Residential_Medium_Density 21          \n",
       "4 Two_Story_PUD_1946_and_Newer        Residential_Medium_Density 21          \n",
       "5 One_Story_PUD_1946_and_Newer        Residential_Low_Density    53          \n",
       "6 One_Story_PUD_1946_and_Newer        Residential_Low_Density    24          \n",
       "  Lot_Area Street Alley           Lot_Shape Land_Contour Utilities Lot_Config ⋯\n",
       "1  8400    Pave   No_Alley_Access Regular   Lvl          AllPub    Corner     ⋯\n",
       "2 10500    Pave   No_Alley_Access Regular   Lvl          AllPub    FR2        ⋯\n",
       "3  1680    Pave   No_Alley_Access Regular   Lvl          AllPub    Inside     ⋯\n",
       "4  1680    Pave   No_Alley_Access Regular   Lvl          AllPub    Inside     ⋯\n",
       "5  4043    Pave   No_Alley_Access Regular   Lvl          AllPub    Inside     ⋯\n",
       "6  2280    Pave   No_Alley_Access Regular   Lvl          AllPub    FR2        ⋯\n",
       "  Fence           Misc_Feature Misc_Val Mo_Sold Year_Sold Sale_Type\n",
       "1 Minimum_Privacy None         0        4       2010      WD       \n",
       "2 No_Fence        None         0        4       2010      ConLI    \n",
       "3 No_Fence        None         0        3       2010      WD       \n",
       "4 No_Fence        None         0        3       2010      WD       \n",
       "5 No_Fence        None         0        7       2010      WD       \n",
       "6 No_Fence        None         0        6       2010      WD       \n",
       "  Sale_Condition Sale_Price Longitude Latitude\n",
       "1 Normal         5.100371   -93.62711 42.05340\n",
       "2 Normal         5.060698   -93.62277 42.05638\n",
       "3 Normal         5.023252   -93.62754 42.05168\n",
       "4 Family         4.944483   -93.62728 42.05168\n",
       "5 Normal         5.105510   -93.62723 42.04967\n",
       "6 Normal         5.079181   -93.62597 42.05068"
      ]
     },
     "metadata": {},
     "output_type": "display_data"
    }
   ],
   "source": [
    "ames_folds$splits[[1]] %>% analysis() %>% dim\n",
    "ames_folds$splits[[1]] %>% analysis() %>% head"
   ]
  },
  {
   "cell_type": "markdown",
   "id": "8be532e2",
   "metadata": {},
   "source": [
    "<br>\n",
    "\n",
    "### 반복된 교차 검증\n",
    "- **교차 검증의 가장 중요한 변형은 반복적인 K-fold 교차 검증**\n",
    "- **데이터 크기나 기타 특성에 따라 K-fold 교차 검증으로 생성된 리샘플링 추정값에는 노이즈가 존재할 수 있음**\n",
    "    \n",
    "    $\\rightarrow$ **많은 통계 문제와 마찬가지로 노이즈를 줄이는 한 가지 방법은 더 많은 데이터를 수집하는 것**\n",
    "\n",
    "    $\\rightarrow$ **교차 검증의 경우 이는 K-fold 통계 이상의 평균을 의미**\n",
    "\n",
    "- **K-fold 교차 검증의 R번 반복을 생성하려면, 동일한 fold 생성 프로세스가 R 번 수행되어 K개의 분할에 대한 R개의 컬렉션을 생성**\n",
    "    \n",
    "    $\\rightarrow$ $V\\times R$개의 많은 개수의 평가지표들은 중심극한정리로 인해 정규 분포를 따르는 경향이 존재\n",
    "    \n",
    "    - 위의 데이터에서 10-fold 생성을 통해, 각 fold는 평균적으로 234개의 검증용 데이터를 사용\n",
    "    \n",
    "    - 평가지표가 RMSE이고, 평가지표의 모표준편차를 $\\sigma$라고 한다면\n",
    "    \n",
    "        10-fold 교차검증은 10개의 표본을 의미하므로, RMSE의 표준오차는 $\\frac{\\sigma}{\\sqrt{10}}$\n",
    "        \n",
    "        또한 10-fold 교차검증을 $R$번 반복하였다면 표준오차는 $\\frac{\\sigma}{\\sqrt{10 R}}$\n",
    "        \n",
    "    - 아래의 그림은 반복 교차 검증을 통한 표준오차 감소량\n",
    "        - 교차 검증의 반복횟수가 증가할수록, 표준 오차의 감소폭이 감소\n",
    "    \n",
    "<br>\n",
    "\n",
    "<img src='https://www.tmwr.org/figures/variance-reduction-1.png'>"
   ]
  },
  {
   "cell_type": "code",
   "execution_count": 17,
   "id": "1552c4d1",
   "metadata": {},
   "outputs": [],
   "source": [
    "folds_ = vfold_cv(ames_train, v = 10, repeats = 5)"
   ]
  },
  {
   "cell_type": "markdown",
   "id": "6c2ed242",
   "metadata": {},
   "source": [
    "<br>\n",
    "\n",
    "### LOOCV (Leave One Out Cross Validation)\n",
    "- **$N$의 크기를 가진 데이터에서, $N-1$개의 값을 훈련 데이터로, 나머지 1개를 검증용 데이터로 사용**\n",
    "    \n",
    "    $\\rightarrow$ **총 $N$개의 모델 생성**\n",
    "    \n",
    "- 데이터의 크기가 작지 않으면, LOOCV는 과도한 계산량을 유발하며, 좋은 통계적 특성을 가지지 못함"
   ]
  },
  {
   "cell_type": "markdown",
   "id": "2a5e40a2",
   "metadata": {},
   "source": [
    "<br>\n",
    "\n",
    "### MCCV (몬테카를로 교차 검증, Monte Carlo Cross Validation)\n",
    "- K-fold 교차 검증의 또 다른 변형\n",
    "- **K-fold 교차 검증과 마찬가지로 특정 비율의 데이터를 검증용 데이터에 할당**\n",
    "    - **하지만 이 비율은 매번 무작위로 선택되며, 상호 배타적이지 않은 검증용 데이터가 생성**"
   ]
  },
  {
   "cell_type": "markdown",
   "id": "16124092",
   "metadata": {},
   "source": [
    "<br>\n",
    "\n",
    "#### `mc_cv(데이터, prop, times)`\n",
    "- **`prop`** : 훈련 데이터 비율\n",
    "- **`times`** : fold 개수"
   ]
  },
  {
   "cell_type": "code",
   "execution_count": 18,
   "id": "94eb5413",
   "metadata": {},
   "outputs": [],
   "source": [
    "mc_cv_ = mc_cv(ames_train, prop = 9/10, times = 20)"
   ]
  },
  {
   "cell_type": "markdown",
   "id": "e16e33fc",
   "metadata": {},
   "source": [
    "<br>\n",
    "\n",
    "### 검증 데이터\n",
    "- 일반적인 데이터 분할 구조\n",
    "\n",
    "<img src='https://www.tmwr.org/premade/validation.svg'>"
   ]
  },
  {
   "cell_type": "markdown",
   "id": "8183f181",
   "metadata": {},
   "source": [
    "<br>\n",
    "\n",
    "- 교차 검증 데이터 분할 구조\n",
    "\n",
    "#### `initial_validation_split(데이터, prop = c(훈련비율, 검증비율))`\n",
    "\n",
    "<br>\n",
    "\n",
    "<img src='https://www.tmwr.org/premade/validation-alt.svg'>"
   ]
  },
  {
   "cell_type": "code",
   "execution_count": 19,
   "id": "8870d330",
   "metadata": {},
   "outputs": [
    {
     "data": {
      "text/plain": [
       "<Training/Validation/Testing/Total>\n",
       "<1758/586/586/2930>"
      ]
     },
     "metadata": {},
     "output_type": "display_data"
    }
   ],
   "source": [
    "set.seed(52)\n",
    "\n",
    "ames_val_split <- initial_validation_split(ames, prop = c(0.6, 0.2))\n",
    "ames_val_split"
   ]
  },
  {
   "cell_type": "code",
   "execution_count": 21,
   "id": "b2081b3d",
   "metadata": {},
   "outputs": [
    {
     "data": {
      "text/plain": [
       "[[1]]\n",
       "<Training/Validation/Total>\n",
       "<1758/586/2344>\n"
      ]
     },
     "metadata": {},
     "output_type": "display_data"
    }
   ],
   "source": [
    "val_set <- validation_set(ames_val_split)\n",
    "val_set$splits"
   ]
  },
  {
   "cell_type": "markdown",
   "id": "a1b1d573",
   "metadata": {},
   "source": [
    "<br>\n",
    "\n",
    "### 부트스트래핑\n",
    "- 부트스트랩 리샘플링은 원래 이론적 특성이 다루기 힘든 통계의 샘플링 분포를 근사화하기 위한 방법으로 발명 (Davison and Hinkley 1997)\n",
    "\n",
    "- **일부 훈련 데이터가 분석 세트에 대해 여러 번 선택되는 복원 추출**\n",
    "- 각 데이터는 훈련 데이터에 한 번 이상 포함될 확률이 63.2%이며, 검증 데이터에는 분석 세트에 대해 선택되지 않은 모든 훈련 세트 샘플이 포함 (평균적으로 훈련 세트의 36.8% 포함). \n",
    "    - 부트스트래핑할 때 평가 세트를 Out-of-bag 샘플이라고 부름\n",
    "\n",
    "<br>\n",
    "\n",
    "- 30개 샘플로 구성된 훈련 데이터에서 3개의 부트스트랩 샘플\n",
    "\n",
    "<img src='https://www.tmwr.org/premade/bootstraps.svg'>"
   ]
  },
  {
   "cell_type": "markdown",
   "id": "b0b546ba",
   "metadata": {},
   "source": [
    "<br>\n",
    "\n",
    "#### `bootstraps(데이터, times)`"
   ]
  },
  {
   "cell_type": "code",
   "execution_count": 24,
   "id": "ef2fd557",
   "metadata": {},
   "outputs": [
    {
     "data": {
      "text/plain": [
       "[[1]]\n",
       "<Analysis/Assess/Total>\n",
       "<2342/854/2342>\n",
       "\n",
       "[[2]]\n",
       "<Analysis/Assess/Total>\n",
       "<2342/874/2342>\n",
       "\n",
       "[[3]]\n",
       "<Analysis/Assess/Total>\n",
       "<2342/889/2342>\n",
       "\n",
       "[[4]]\n",
       "<Analysis/Assess/Total>\n",
       "<2342/865/2342>\n",
       "\n",
       "[[5]]\n",
       "<Analysis/Assess/Total>\n",
       "<2342/847/2342>\n"
      ]
     },
     "metadata": {},
     "output_type": "display_data"
    }
   ],
   "source": [
    "bs_ = bootstraps(ames_train, times=5)\n",
    "bs_$splits"
   ]
  },
  {
   "cell_type": "markdown",
   "id": "1987dc09",
   "metadata": {},
   "source": [
    "<br>\n",
    "\n",
    "- **부트스트랩 샘플은 분산이 매우 낮지만 상당한 비관적 편향이 있는 성능 추정치를 생성**\n",
    "\n",
    "    **이는 모델의 실제 정확도가 90%인 경우 부트스트랩이 값을 90% 미만으로 추정하는 경향이 있음을 의미**\n",
    "- 성능 지표의 규모에 따라 편향의 정도가 달라질 수 있음\n",
    "    - 정확도가 90%일 때와 70%일 때 편향이 다를 가능성이 높음\n",
    "\n",
    "- 부트스트랩은 많은 모델 내부에서도 사용\n",
    "    - 랜덤 포레스트 모델에는 1,000개의 개별 의사결정 트리가 포함되어 있으며, 각 트리는 훈련 데이터의 각각 다른 부트스트랩 샘플로 생성\n",
    "\n"
   ]
  },
  {
   "cell_type": "markdown",
   "id": "e0047817",
   "metadata": {},
   "source": [
    "<br>\n",
    "\n",
    "### 롤링 리샘플링 (ROLLING FORECASTING ORIGIN RESAMPLING)\n",
    "- **데이터에 시계열 요소가 있는 경우, 리샘플링 방법은 데이터 내의 계절적 추세 및 기타 시간적 추세를 추정하기 위한 모델링을 지원해야하며, 훈련 데이터에서 값을 무작위로 샘플링하는 기술은 이러한 패턴을 추정하는 모델의 기능을 방해할 수 있음**\n",
    "\n",
    "    $\\rightarrow$ **롤링 리샘플링 (Hyndman 및 Athanasopoulos 2018)은 실제로 시계열 데이터가 분할되는 방식으로 과거 데이터로 모델을 추정하고 최신 데이터로 평가하는 방법을 제공**\n",
    "    \n",
    "    **이러한 유형의 리샘플링의 경우 초기 분석 및 검증용 데이터의 크기가 지정**\n",
    "    \n",
    "    **리샘플링의 첫 번째 반복에서는 계열의 시작 부분부터 이러한 크기를 사용**\n",
    "    \n",
    "    **두 번째 반복에서는 동일한 데이터 크기를 사용하지만 설정된 샘플 수만큼 이동**\n",
    "  \n",
    "<br>\n",
    "\n",
    "- 15의 크기를 가진 데이터에서, 훈련 데이터가 8개이고, 3의 크기를 가진 검증용 데이터의 리샘플링\n",
    "    - 두 번째 반복에서는 첫 번째 값 (1)을 버리고, 훈련용 데이터와 검증용 데이터 모두 앞으로 한 칸씩 이동\n",
    "    \n",
    "<img src='https://www.tmwr.org/premade/rolling.svg'>"
   ]
  },
  {
   "cell_type": "markdown",
   "id": "dbbef760",
   "metadata": {},
   "source": [
    "<br>\n",
    "\n",
    "- **훈련용 데이터는 (동일한 크기를 유지하는 것과는 반대로) 누적될 수 있음**\n",
    "    - 첫 번째 초기 데이터 이후에는 이전 데이터를 삭제하지 않고도 새 샘플이 누적될 수 있음\n",
    "\n",
    "- 리샘플링 이동 간격은, 대규모 데이터 세트의 경우 증분 블록은 하루(1)가 아닌 주 또는 월이 될 수 있음\n",
    "\n"
   ]
  },
  {
   "cell_type": "markdown",
   "id": "14aa2398",
   "metadata": {},
   "source": [
    "<br>\n",
    "\n",
    "#### `rolling_origin()`"
   ]
  },
  {
   "cell_type": "markdown",
   "id": "916bdbdd",
   "metadata": {},
   "source": [
    "- 1년치의 데이터에 대해, 30크기의 검증용 데이터, 30의 리샘플링 이동 간격"
   ]
  },
  {
   "cell_type": "code",
   "execution_count": 25,
   "id": "4e36f0fe",
   "metadata": {},
   "outputs": [],
   "source": [
    "time_slices <- \n",
    "  tibble(x = 1:365) %>% \n",
    "  rolling_origin(initial = 6 * 30, assess = 30, skip = 29, cumulative = FALSE)"
   ]
  },
  {
   "cell_type": "code",
   "execution_count": 42,
   "id": "b05497f4",
   "metadata": {},
   "outputs": [],
   "source": [
    "data_range <- function(x) {\n",
    "  summarize(x, first = min(x), last = max(x))\n",
    "}"
   ]
  },
  {
   "cell_type": "code",
   "execution_count": 43,
   "id": "09c88f5e",
   "metadata": {},
   "outputs": [
    {
     "data": {
      "text/html": [
       "<table class=\"dataframe\">\n",
       "<caption>A tibble: 6 × 2</caption>\n",
       "<thead>\n",
       "\t<tr><th scope=col>first</th><th scope=col>last</th></tr>\n",
       "\t<tr><th scope=col>&lt;int&gt;</th><th scope=col>&lt;int&gt;</th></tr>\n",
       "</thead>\n",
       "<tbody>\n",
       "\t<tr><td>  1</td><td>180</td></tr>\n",
       "\t<tr><td> 31</td><td>210</td></tr>\n",
       "\t<tr><td> 61</td><td>240</td></tr>\n",
       "\t<tr><td> 91</td><td>270</td></tr>\n",
       "\t<tr><td>121</td><td>300</td></tr>\n",
       "\t<tr><td>151</td><td>330</td></tr>\n",
       "</tbody>\n",
       "</table>\n"
      ],
      "text/latex": [
       "A tibble: 6 × 2\n",
       "\\begin{tabular}{ll}\n",
       " first & last\\\\\n",
       " <int> & <int>\\\\\n",
       "\\hline\n",
       "\t   1 & 180\\\\\n",
       "\t  31 & 210\\\\\n",
       "\t  61 & 240\\\\\n",
       "\t  91 & 270\\\\\n",
       "\t 121 & 300\\\\\n",
       "\t 151 & 330\\\\\n",
       "\\end{tabular}\n"
      ],
      "text/markdown": [
       "\n",
       "A tibble: 6 × 2\n",
       "\n",
       "| first &lt;int&gt; | last &lt;int&gt; |\n",
       "|---|---|\n",
       "|   1 | 180 |\n",
       "|  31 | 210 |\n",
       "|  61 | 240 |\n",
       "|  91 | 270 |\n",
       "| 121 | 300 |\n",
       "| 151 | 330 |\n",
       "\n"
      ],
      "text/plain": [
       "  first last\n",
       "1   1   180 \n",
       "2  31   210 \n",
       "3  61   240 \n",
       "4  91   270 \n",
       "5 121   300 \n",
       "6 151   330 "
      ]
     },
     "metadata": {},
     "output_type": "display_data"
    }
   ],
   "source": [
    "map_dfr(time_slices$splits, ~   analysis(.x) %>% data_range())"
   ]
  },
  {
   "cell_type": "code",
   "execution_count": 44,
   "id": "fd812ec1",
   "metadata": {},
   "outputs": [
    {
     "data": {
      "text/html": [
       "<table class=\"dataframe\">\n",
       "<caption>A tibble: 6 × 2</caption>\n",
       "<thead>\n",
       "\t<tr><th scope=col>first</th><th scope=col>last</th></tr>\n",
       "\t<tr><th scope=col>&lt;int&gt;</th><th scope=col>&lt;int&gt;</th></tr>\n",
       "</thead>\n",
       "<tbody>\n",
       "\t<tr><td>181</td><td>210</td></tr>\n",
       "\t<tr><td>211</td><td>240</td></tr>\n",
       "\t<tr><td>241</td><td>270</td></tr>\n",
       "\t<tr><td>271</td><td>300</td></tr>\n",
       "\t<tr><td>301</td><td>330</td></tr>\n",
       "\t<tr><td>331</td><td>360</td></tr>\n",
       "</tbody>\n",
       "</table>\n"
      ],
      "text/latex": [
       "A tibble: 6 × 2\n",
       "\\begin{tabular}{ll}\n",
       " first & last\\\\\n",
       " <int> & <int>\\\\\n",
       "\\hline\n",
       "\t 181 & 210\\\\\n",
       "\t 211 & 240\\\\\n",
       "\t 241 & 270\\\\\n",
       "\t 271 & 300\\\\\n",
       "\t 301 & 330\\\\\n",
       "\t 331 & 360\\\\\n",
       "\\end{tabular}\n"
      ],
      "text/markdown": [
       "\n",
       "A tibble: 6 × 2\n",
       "\n",
       "| first &lt;int&gt; | last &lt;int&gt; |\n",
       "|---|---|\n",
       "| 181 | 210 |\n",
       "| 211 | 240 |\n",
       "| 241 | 270 |\n",
       "| 271 | 300 |\n",
       "| 301 | 330 |\n",
       "| 331 | 360 |\n",
       "\n"
      ],
      "text/plain": [
       "  first last\n",
       "1 181   210 \n",
       "2 211   240 \n",
       "3 241   270 \n",
       "4 271   300 \n",
       "5 301   330 \n",
       "6 331   360 "
      ]
     },
     "metadata": {},
     "output_type": "display_data"
    }
   ],
   "source": [
    "map_dfr(time_slices$splits, ~ assessment(.x) %>% data_range())"
   ]
  },
  {
   "cell_type": "markdown",
   "id": "c8132b4c",
   "metadata": {},
   "source": [
    "<br>\n",
    "\n",
    "## 07.03. 성능 추정\n",
    "\n",
    "<br>\n",
    "\n",
    "#### 리샘플링 사용 프로세스\n",
    "- 리샘플링 과정에서의 훈련용 데이터는 데이터를 전처리하고, 자체적으로 전처리를 적용하고, 처리된 데이터를 사용하여 모델을 적합하는 데 사용\n",
    "- 분석 세트에서 생성된 전처리 통계량은 검증용 데이터에도 적용. 검증용 데이터에서의 예측은 새 데이터에 대한 성능을 추정\n",
    "- 이 시퀀스는 모든 리샘플링마다 반복\n",
    "    - $B$개의 리샘플이 있는 경우, 각 성능 지표에 대한 $B$개의 반복\n",
    "    - 최종 리샘플링 추정치는 $B$개의 통계량의 평균\n",
    "    - $B=1$인 경우, 전체 성능을 의미\n",
    "    "
   ]
  },
  {
   "cell_type": "markdown",
   "id": "3f3bb36e",
   "metadata": {},
   "source": [
    "<br>\n",
    "\n",
    "#### `fit_resamples(resamples, control)` : 모델 워크플로에 리샘플링 적용\n",
    "- **`control`** : 리샘플링 옵션 설정, `control_resamples()` 함수로 설정\n",
    "- 리샘플링 성능은 회귀에서는 RMSE, $R^2$를 사용, 분류모델은 AUC를 사용"
   ]
  },
  {
   "cell_type": "markdown",
   "id": "2d091133",
   "metadata": {},
   "source": [
    "<br>\n",
    "\n",
    "#### `control_resamples(save_pred, save_workflow)` : 리샘플링 옵션 객체 생성"
   ]
  },
  {
   "cell_type": "code",
   "execution_count": 48,
   "id": "5f2f9c16",
   "metadata": {},
   "outputs": [],
   "source": [
    "keep_pred <- control_resamples(save_pred = T, save_workflow = T)"
   ]
  },
  {
   "cell_type": "markdown",
   "id": "21d45c43",
   "metadata": {},
   "source": [
    "<br>\n",
    "\n",
    "#### K-fold에 대한 리샘플링 적용"
   ]
  },
  {
   "cell_type": "code",
   "execution_count": 58,
   "id": "d5af49da",
   "metadata": {},
   "outputs": [
    {
     "data": {
      "text/plain": [
       "<Analysis/Assess/Total>\n",
       "<2107/235/2342>"
      ]
     },
     "metadata": {},
     "output_type": "display_data"
    },
    {
     "data": {
      "text/html": [
       "10"
      ],
      "text/latex": [
       "10"
      ],
      "text/markdown": [
       "10"
      ],
      "text/plain": [
       "[1] 10"
      ]
     },
     "metadata": {},
     "output_type": "display_data"
    }
   ],
   "source": [
    "ames_folds$splits[[1]]\n",
    "ames_folds$splits %>% length"
   ]
  },
  {
   "cell_type": "code",
   "execution_count": 49,
   "id": "8f988ba6",
   "metadata": {},
   "outputs": [],
   "source": [
    "set.seed(1003)\n",
    "rf_res <- rf_wflow %>%\n",
    "    fit_resamples(resamples = ames_folds, control = keep_pred)"
   ]
  },
  {
   "cell_type": "markdown",
   "id": "e8e53ccc",
   "metadata": {},
   "source": [
    "- 각 리샘플에서 훈련용 데이터의 성능 통계량"
   ]
  },
  {
   "cell_type": "code",
   "execution_count": 54,
   "id": "2a4ff9f9",
   "metadata": {},
   "outputs": [
    {
     "data": {
      "text/html": [
       "<table class=\"dataframe\">\n",
       "<caption>A tibble: 2 × 4</caption>\n",
       "<thead>\n",
       "\t<tr><th scope=col>.metric</th><th scope=col>.estimator</th><th scope=col>.estimate</th><th scope=col>.config</th></tr>\n",
       "\t<tr><th scope=col>&lt;chr&gt;</th><th scope=col>&lt;chr&gt;</th><th scope=col>&lt;dbl&gt;</th><th scope=col>&lt;chr&gt;</th></tr>\n",
       "</thead>\n",
       "<tbody>\n",
       "\t<tr><td>rmse</td><td>standard</td><td>0.06048913</td><td>Preprocessor1_Model1</td></tr>\n",
       "\t<tr><td>rsq </td><td>standard</td><td>0.86153160</td><td>Preprocessor1_Model1</td></tr>\n",
       "</tbody>\n",
       "</table>\n"
      ],
      "text/latex": [
       "A tibble: 2 × 4\n",
       "\\begin{tabular}{llll}\n",
       " .metric & .estimator & .estimate & .config\\\\\n",
       " <chr> & <chr> & <dbl> & <chr>\\\\\n",
       "\\hline\n",
       "\t rmse & standard & 0.06048913 & Preprocessor1\\_Model1\\\\\n",
       "\t rsq  & standard & 0.86153160 & Preprocessor1\\_Model1\\\\\n",
       "\\end{tabular}\n"
      ],
      "text/markdown": [
       "\n",
       "A tibble: 2 × 4\n",
       "\n",
       "| .metric &lt;chr&gt; | .estimator &lt;chr&gt; | .estimate &lt;dbl&gt; | .config &lt;chr&gt; |\n",
       "|---|---|---|---|\n",
       "| rmse | standard | 0.06048913 | Preprocessor1_Model1 |\n",
       "| rsq  | standard | 0.86153160 | Preprocessor1_Model1 |\n",
       "\n"
      ],
      "text/plain": [
       "  .metric .estimator .estimate  .config             \n",
       "1 rmse    standard   0.06048913 Preprocessor1_Model1\n",
       "2 rsq     standard   0.86153160 Preprocessor1_Model1"
      ]
     },
     "metadata": {},
     "output_type": "display_data"
    }
   ],
   "source": [
    "rf_res$.metrics[[1]]"
   ]
  },
  {
   "cell_type": "markdown",
   "id": "fbf80716",
   "metadata": {},
   "source": [
    "- 리샘플링 중에 생성된 경고 또는 오류 목록"
   ]
  },
  {
   "cell_type": "code",
   "execution_count": 56,
   "id": "a285306c",
   "metadata": {},
   "outputs": [
    {
     "data": {
      "text/html": [
       "<table class=\"dataframe\">\n",
       "<caption>A tibble: 0 × 3</caption>\n",
       "<thead>\n",
       "\t<tr><th scope=col>location</th><th scope=col>type</th><th scope=col>note</th></tr>\n",
       "\t<tr><th scope=col>&lt;chr&gt;</th><th scope=col>&lt;chr&gt;</th><th scope=col>&lt;chr&gt;</th></tr>\n",
       "</thead>\n",
       "<tbody>\n",
       "</tbody>\n",
       "</table>\n"
      ],
      "text/latex": [
       "A tibble: 0 × 3\n",
       "\\begin{tabular}{lll}\n",
       " location & type & note\\\\\n",
       " <chr> & <chr> & <chr>\\\\\n",
       "\\hline\n",
       "\\end{tabular}\n"
      ],
      "text/markdown": [
       "\n",
       "A tibble: 0 × 3\n",
       "\n",
       "| location &lt;chr&gt; | type &lt;chr&gt; | note &lt;chr&gt; |\n",
       "|---|---|---|\n",
       "\n"
      ],
      "text/plain": [
       "     location type note"
      ]
     },
     "metadata": {},
     "output_type": "display_data"
    }
   ],
   "source": [
    "rf_res$.notes[[1]]"
   ]
  },
  {
   "cell_type": "markdown",
   "id": "203f45ef",
   "metadata": {},
   "source": [
    "- 각 리샘플에서 검증용 데이터에 대한 예측값. `control_resamples()`의 `save_pred = TRUE`일 때에 생성"
   ]
  },
  {
   "cell_type": "code",
   "execution_count": 60,
   "id": "23d0de4c",
   "metadata": {},
   "outputs": [
    {
     "data": {
      "text/html": [
       "<style>\n",
       ".list-inline {list-style: none; margin:0; padding: 0}\n",
       ".list-inline>li {display: inline-block}\n",
       ".list-inline>li:not(:last-child)::after {content: \"\\00b7\"; padding: 0 .5ex}\n",
       "</style>\n",
       "<ol class=list-inline><li>235</li><li>4</li></ol>\n"
      ],
      "text/latex": [
       "\\begin{enumerate*}\n",
       "\\item 235\n",
       "\\item 4\n",
       "\\end{enumerate*}\n"
      ],
      "text/markdown": [
       "1. 235\n",
       "2. 4\n",
       "\n",
       "\n"
      ],
      "text/plain": [
       "[1] 235   4"
      ]
     },
     "metadata": {},
     "output_type": "display_data"
    },
    {
     "data": {
      "text/html": [
       "<table class=\"dataframe\">\n",
       "<caption>A tibble: 6 × 4</caption>\n",
       "<thead>\n",
       "\t<tr><th scope=col>.pred</th><th scope=col>.row</th><th scope=col>Sale_Price</th><th scope=col>.config</th></tr>\n",
       "\t<tr><th scope=col>&lt;dbl&gt;</th><th scope=col>&lt;int&gt;</th><th scope=col>&lt;dbl&gt;</th><th scope=col>&lt;chr&gt;</th></tr>\n",
       "</thead>\n",
       "<tbody>\n",
       "\t<tr><td>5.100795</td><td>10</td><td>5.086360</td><td>Preprocessor1_Model1</td></tr>\n",
       "\t<tr><td>4.920386</td><td>27</td><td>4.903090</td><td>Preprocessor1_Model1</td></tr>\n",
       "\t<tr><td>5.205546</td><td>47</td><td>5.084576</td><td>Preprocessor1_Model1</td></tr>\n",
       "\t<tr><td>5.129049</td><td>52</td><td>5.103804</td><td>Preprocessor1_Model1</td></tr>\n",
       "\t<tr><td>5.132585</td><td>59</td><td>5.097604</td><td>Preprocessor1_Model1</td></tr>\n",
       "\t<tr><td>5.130911</td><td>63</td><td>5.107210</td><td>Preprocessor1_Model1</td></tr>\n",
       "</tbody>\n",
       "</table>\n"
      ],
      "text/latex": [
       "A tibble: 6 × 4\n",
       "\\begin{tabular}{llll}\n",
       " .pred & .row & Sale\\_Price & .config\\\\\n",
       " <dbl> & <int> & <dbl> & <chr>\\\\\n",
       "\\hline\n",
       "\t 5.100795 & 10 & 5.086360 & Preprocessor1\\_Model1\\\\\n",
       "\t 4.920386 & 27 & 4.903090 & Preprocessor1\\_Model1\\\\\n",
       "\t 5.205546 & 47 & 5.084576 & Preprocessor1\\_Model1\\\\\n",
       "\t 5.129049 & 52 & 5.103804 & Preprocessor1\\_Model1\\\\\n",
       "\t 5.132585 & 59 & 5.097604 & Preprocessor1\\_Model1\\\\\n",
       "\t 5.130911 & 63 & 5.107210 & Preprocessor1\\_Model1\\\\\n",
       "\\end{tabular}\n"
      ],
      "text/markdown": [
       "\n",
       "A tibble: 6 × 4\n",
       "\n",
       "| .pred &lt;dbl&gt; | .row &lt;int&gt; | Sale_Price &lt;dbl&gt; | .config &lt;chr&gt; |\n",
       "|---|---|---|---|\n",
       "| 5.100795 | 10 | 5.086360 | Preprocessor1_Model1 |\n",
       "| 4.920386 | 27 | 4.903090 | Preprocessor1_Model1 |\n",
       "| 5.205546 | 47 | 5.084576 | Preprocessor1_Model1 |\n",
       "| 5.129049 | 52 | 5.103804 | Preprocessor1_Model1 |\n",
       "| 5.132585 | 59 | 5.097604 | Preprocessor1_Model1 |\n",
       "| 5.130911 | 63 | 5.107210 | Preprocessor1_Model1 |\n",
       "\n"
      ],
      "text/plain": [
       "  .pred    .row Sale_Price .config             \n",
       "1 5.100795 10   5.086360   Preprocessor1_Model1\n",
       "2 4.920386 27   4.903090   Preprocessor1_Model1\n",
       "3 5.205546 47   5.084576   Preprocessor1_Model1\n",
       "4 5.129049 52   5.103804   Preprocessor1_Model1\n",
       "5 5.132585 59   5.097604   Preprocessor1_Model1\n",
       "6 5.130911 63   5.107210   Preprocessor1_Model1"
      ]
     },
     "metadata": {},
     "output_type": "display_data"
    }
   ],
   "source": [
    "rf_res$.predictions[[1]] %>% dim\n",
    "rf_res$.predictions[[1]] %>% head"
   ]
  },
  {
   "cell_type": "markdown",
   "id": "ea4467a5",
   "metadata": {},
   "source": [
    "<br>\n",
    "\n",
    "#### `collect_metrics()` : 성능 통계량 요약\n",
    "- 개별 반복에 대한 성능 통계량"
   ]
  },
  {
   "cell_type": "code",
   "execution_count": 65,
   "id": "286acc7a",
   "metadata": {},
   "outputs": [
    {
     "data": {
      "text/html": [
       "<table class=\"dataframe\">\n",
       "<caption>A tibble: 2 × 6</caption>\n",
       "<thead>\n",
       "\t<tr><th scope=col>.metric</th><th scope=col>.estimator</th><th scope=col>mean</th><th scope=col>n</th><th scope=col>std_err</th><th scope=col>.config</th></tr>\n",
       "\t<tr><th scope=col>&lt;chr&gt;</th><th scope=col>&lt;chr&gt;</th><th scope=col>&lt;dbl&gt;</th><th scope=col>&lt;int&gt;</th><th scope=col>&lt;dbl&gt;</th><th scope=col>&lt;chr&gt;</th></tr>\n",
       "</thead>\n",
       "<tbody>\n",
       "\t<tr><td>rmse</td><td>standard</td><td>0.07209269</td><td>10</td><td>0.003054732</td><td>Preprocessor1_Model1</td></tr>\n",
       "\t<tr><td>rsq </td><td>standard</td><td>0.83132795</td><td>10</td><td>0.010800604</td><td>Preprocessor1_Model1</td></tr>\n",
       "</tbody>\n",
       "</table>\n"
      ],
      "text/latex": [
       "A tibble: 2 × 6\n",
       "\\begin{tabular}{llllll}\n",
       " .metric & .estimator & mean & n & std\\_err & .config\\\\\n",
       " <chr> & <chr> & <dbl> & <int> & <dbl> & <chr>\\\\\n",
       "\\hline\n",
       "\t rmse & standard & 0.07209269 & 10 & 0.003054732 & Preprocessor1\\_Model1\\\\\n",
       "\t rsq  & standard & 0.83132795 & 10 & 0.010800604 & Preprocessor1\\_Model1\\\\\n",
       "\\end{tabular}\n"
      ],
      "text/markdown": [
       "\n",
       "A tibble: 2 × 6\n",
       "\n",
       "| .metric &lt;chr&gt; | .estimator &lt;chr&gt; | mean &lt;dbl&gt; | n &lt;int&gt; | std_err &lt;dbl&gt; | .config &lt;chr&gt; |\n",
       "|---|---|---|---|---|---|\n",
       "| rmse | standard | 0.07209269 | 10 | 0.003054732 | Preprocessor1_Model1 |\n",
       "| rsq  | standard | 0.83132795 | 10 | 0.010800604 | Preprocessor1_Model1 |\n",
       "\n"
      ],
      "text/plain": [
       "  .metric .estimator mean       n  std_err     .config             \n",
       "1 rmse    standard   0.07209269 10 0.003054732 Preprocessor1_Model1\n",
       "2 rsq     standard   0.83132795 10 0.010800604 Preprocessor1_Model1"
      ]
     },
     "metadata": {},
     "output_type": "display_data"
    }
   ],
   "source": [
    "collect_metrics(rf_res, summarize = T)"
   ]
  },
  {
   "cell_type": "markdown",
   "id": "b30b2b47",
   "metadata": {},
   "source": [
    "- 각 리샘플에 대한 성능 통계량"
   ]
  },
  {
   "cell_type": "code",
   "execution_count": 66,
   "id": "804d5535",
   "metadata": {},
   "outputs": [
    {
     "data": {
      "text/html": [
       "<table class=\"dataframe\">\n",
       "<caption>A tibble: 20 × 5</caption>\n",
       "<thead>\n",
       "\t<tr><th scope=col>id</th><th scope=col>.metric</th><th scope=col>.estimator</th><th scope=col>.estimate</th><th scope=col>.config</th></tr>\n",
       "\t<tr><th scope=col>&lt;chr&gt;</th><th scope=col>&lt;chr&gt;</th><th scope=col>&lt;chr&gt;</th><th scope=col>&lt;dbl&gt;</th><th scope=col>&lt;chr&gt;</th></tr>\n",
       "</thead>\n",
       "<tbody>\n",
       "\t<tr><td>Fold01</td><td>rmse</td><td>standard</td><td>0.06048913</td><td>Preprocessor1_Model1</td></tr>\n",
       "\t<tr><td>Fold01</td><td>rsq </td><td>standard</td><td>0.86153160</td><td>Preprocessor1_Model1</td></tr>\n",
       "\t<tr><td>Fold02</td><td>rmse</td><td>standard</td><td>0.06532037</td><td>Preprocessor1_Model1</td></tr>\n",
       "\t<tr><td>Fold02</td><td>rsq </td><td>standard</td><td>0.86147309</td><td>Preprocessor1_Model1</td></tr>\n",
       "\t<tr><td>Fold03</td><td>rmse</td><td>standard</td><td>0.06090805</td><td>Preprocessor1_Model1</td></tr>\n",
       "\t<tr><td>Fold03</td><td>rsq </td><td>standard</td><td>0.88033562</td><td>Preprocessor1_Model1</td></tr>\n",
       "\t<tr><td>Fold04</td><td>rmse</td><td>standard</td><td>0.06992806</td><td>Preprocessor1_Model1</td></tr>\n",
       "\t<tr><td>Fold04</td><td>rsq </td><td>standard</td><td>0.81789390</td><td>Preprocessor1_Model1</td></tr>\n",
       "\t<tr><td>Fold05</td><td>rmse</td><td>standard</td><td>0.07379762</td><td>Preprocessor1_Model1</td></tr>\n",
       "\t<tr><td>Fold05</td><td>rsq </td><td>standard</td><td>0.85070928</td><td>Preprocessor1_Model1</td></tr>\n",
       "\t<tr><td>Fold06</td><td>rmse</td><td>standard</td><td>0.06822708</td><td>Preprocessor1_Model1</td></tr>\n",
       "\t<tr><td>Fold06</td><td>rsq </td><td>standard</td><td>0.82224319</td><td>Preprocessor1_Model1</td></tr>\n",
       "\t<tr><td>Fold07</td><td>rmse</td><td>standard</td><td>0.07122617</td><td>Preprocessor1_Model1</td></tr>\n",
       "\t<tr><td>Fold07</td><td>rsq </td><td>standard</td><td>0.85023103</td><td>Preprocessor1_Model1</td></tr>\n",
       "\t<tr><td>Fold08</td><td>rmse</td><td>standard</td><td>0.08706196</td><td>Preprocessor1_Model1</td></tr>\n",
       "\t<tr><td>Fold08</td><td>rsq </td><td>standard</td><td>0.78419994</td><td>Preprocessor1_Model1</td></tr>\n",
       "\t<tr><td>Fold09</td><td>rmse</td><td>standard</td><td>0.08873595</td><td>Preprocessor1_Model1</td></tr>\n",
       "\t<tr><td>Fold09</td><td>rsq </td><td>standard</td><td>0.78937509</td><td>Preprocessor1_Model1</td></tr>\n",
       "\t<tr><td>Fold10</td><td>rmse</td><td>standard</td><td>0.07523246</td><td>Preprocessor1_Model1</td></tr>\n",
       "\t<tr><td>Fold10</td><td>rsq </td><td>standard</td><td>0.79528671</td><td>Preprocessor1_Model1</td></tr>\n",
       "</tbody>\n",
       "</table>\n"
      ],
      "text/latex": [
       "A tibble: 20 × 5\n",
       "\\begin{tabular}{lllll}\n",
       " id & .metric & .estimator & .estimate & .config\\\\\n",
       " <chr> & <chr> & <chr> & <dbl> & <chr>\\\\\n",
       "\\hline\n",
       "\t Fold01 & rmse & standard & 0.06048913 & Preprocessor1\\_Model1\\\\\n",
       "\t Fold01 & rsq  & standard & 0.86153160 & Preprocessor1\\_Model1\\\\\n",
       "\t Fold02 & rmse & standard & 0.06532037 & Preprocessor1\\_Model1\\\\\n",
       "\t Fold02 & rsq  & standard & 0.86147309 & Preprocessor1\\_Model1\\\\\n",
       "\t Fold03 & rmse & standard & 0.06090805 & Preprocessor1\\_Model1\\\\\n",
       "\t Fold03 & rsq  & standard & 0.88033562 & Preprocessor1\\_Model1\\\\\n",
       "\t Fold04 & rmse & standard & 0.06992806 & Preprocessor1\\_Model1\\\\\n",
       "\t Fold04 & rsq  & standard & 0.81789390 & Preprocessor1\\_Model1\\\\\n",
       "\t Fold05 & rmse & standard & 0.07379762 & Preprocessor1\\_Model1\\\\\n",
       "\t Fold05 & rsq  & standard & 0.85070928 & Preprocessor1\\_Model1\\\\\n",
       "\t Fold06 & rmse & standard & 0.06822708 & Preprocessor1\\_Model1\\\\\n",
       "\t Fold06 & rsq  & standard & 0.82224319 & Preprocessor1\\_Model1\\\\\n",
       "\t Fold07 & rmse & standard & 0.07122617 & Preprocessor1\\_Model1\\\\\n",
       "\t Fold07 & rsq  & standard & 0.85023103 & Preprocessor1\\_Model1\\\\\n",
       "\t Fold08 & rmse & standard & 0.08706196 & Preprocessor1\\_Model1\\\\\n",
       "\t Fold08 & rsq  & standard & 0.78419994 & Preprocessor1\\_Model1\\\\\n",
       "\t Fold09 & rmse & standard & 0.08873595 & Preprocessor1\\_Model1\\\\\n",
       "\t Fold09 & rsq  & standard & 0.78937509 & Preprocessor1\\_Model1\\\\\n",
       "\t Fold10 & rmse & standard & 0.07523246 & Preprocessor1\\_Model1\\\\\n",
       "\t Fold10 & rsq  & standard & 0.79528671 & Preprocessor1\\_Model1\\\\\n",
       "\\end{tabular}\n"
      ],
      "text/markdown": [
       "\n",
       "A tibble: 20 × 5\n",
       "\n",
       "| id &lt;chr&gt; | .metric &lt;chr&gt; | .estimator &lt;chr&gt; | .estimate &lt;dbl&gt; | .config &lt;chr&gt; |\n",
       "|---|---|---|---|---|\n",
       "| Fold01 | rmse | standard | 0.06048913 | Preprocessor1_Model1 |\n",
       "| Fold01 | rsq  | standard | 0.86153160 | Preprocessor1_Model1 |\n",
       "| Fold02 | rmse | standard | 0.06532037 | Preprocessor1_Model1 |\n",
       "| Fold02 | rsq  | standard | 0.86147309 | Preprocessor1_Model1 |\n",
       "| Fold03 | rmse | standard | 0.06090805 | Preprocessor1_Model1 |\n",
       "| Fold03 | rsq  | standard | 0.88033562 | Preprocessor1_Model1 |\n",
       "| Fold04 | rmse | standard | 0.06992806 | Preprocessor1_Model1 |\n",
       "| Fold04 | rsq  | standard | 0.81789390 | Preprocessor1_Model1 |\n",
       "| Fold05 | rmse | standard | 0.07379762 | Preprocessor1_Model1 |\n",
       "| Fold05 | rsq  | standard | 0.85070928 | Preprocessor1_Model1 |\n",
       "| Fold06 | rmse | standard | 0.06822708 | Preprocessor1_Model1 |\n",
       "| Fold06 | rsq  | standard | 0.82224319 | Preprocessor1_Model1 |\n",
       "| Fold07 | rmse | standard | 0.07122617 | Preprocessor1_Model1 |\n",
       "| Fold07 | rsq  | standard | 0.85023103 | Preprocessor1_Model1 |\n",
       "| Fold08 | rmse | standard | 0.08706196 | Preprocessor1_Model1 |\n",
       "| Fold08 | rsq  | standard | 0.78419994 | Preprocessor1_Model1 |\n",
       "| Fold09 | rmse | standard | 0.08873595 | Preprocessor1_Model1 |\n",
       "| Fold09 | rsq  | standard | 0.78937509 | Preprocessor1_Model1 |\n",
       "| Fold10 | rmse | standard | 0.07523246 | Preprocessor1_Model1 |\n",
       "| Fold10 | rsq  | standard | 0.79528671 | Preprocessor1_Model1 |\n",
       "\n"
      ],
      "text/plain": [
       "   id     .metric .estimator .estimate  .config             \n",
       "1  Fold01 rmse    standard   0.06048913 Preprocessor1_Model1\n",
       "2  Fold01 rsq     standard   0.86153160 Preprocessor1_Model1\n",
       "3  Fold02 rmse    standard   0.06532037 Preprocessor1_Model1\n",
       "4  Fold02 rsq     standard   0.86147309 Preprocessor1_Model1\n",
       "5  Fold03 rmse    standard   0.06090805 Preprocessor1_Model1\n",
       "6  Fold03 rsq     standard   0.88033562 Preprocessor1_Model1\n",
       "7  Fold04 rmse    standard   0.06992806 Preprocessor1_Model1\n",
       "8  Fold04 rsq     standard   0.81789390 Preprocessor1_Model1\n",
       "9  Fold05 rmse    standard   0.07379762 Preprocessor1_Model1\n",
       "10 Fold05 rsq     standard   0.85070928 Preprocessor1_Model1\n",
       "11 Fold06 rmse    standard   0.06822708 Preprocessor1_Model1\n",
       "12 Fold06 rsq     standard   0.82224319 Preprocessor1_Model1\n",
       "13 Fold07 rmse    standard   0.07122617 Preprocessor1_Model1\n",
       "14 Fold07 rsq     standard   0.85023103 Preprocessor1_Model1\n",
       "15 Fold08 rmse    standard   0.08706196 Preprocessor1_Model1\n",
       "16 Fold08 rsq     standard   0.78419994 Preprocessor1_Model1\n",
       "17 Fold09 rmse    standard   0.08873595 Preprocessor1_Model1\n",
       "18 Fold09 rsq     standard   0.78937509 Preprocessor1_Model1\n",
       "19 Fold10 rmse    standard   0.07523246 Preprocessor1_Model1\n",
       "20 Fold10 rsq     standard   0.79528671 Preprocessor1_Model1"
      ]
     },
     "metadata": {},
     "output_type": "display_data"
    }
   ],
   "source": [
    "collect_metrics(rf_res, summarize = F)"
   ]
  },
  {
   "cell_type": "markdown",
   "id": "e0e0ada1",
   "metadata": {},
   "source": [
    "<br>\n",
    "\n",
    "#### `collect_predictions()` : 검증용 데이터에 대한 예측값 확인"
   ]
  },
  {
   "cell_type": "code",
   "execution_count": 79,
   "id": "e0131ad0",
   "metadata": {},
   "outputs": [
    {
     "data": {
      "text/html": [
       "<table class=\"dataframe\">\n",
       "<caption>A tibble: 6 × 4</caption>\n",
       "<thead>\n",
       "\t<tr><th scope=col>.row</th><th scope=col>Sale_Price</th><th scope=col>.config</th><th scope=col>.pred</th></tr>\n",
       "\t<tr><th scope=col>&lt;int&gt;</th><th scope=col>&lt;dbl&gt;</th><th scope=col>&lt;chr&gt;</th><th scope=col>&lt;dbl&gt;</th></tr>\n",
       "</thead>\n",
       "<tbody>\n",
       "\t<tr><td>1</td><td>5.100371</td><td>Preprocessor1_Model1</td><td>4.999708</td></tr>\n",
       "\t<tr><td>2</td><td>5.060698</td><td>Preprocessor1_Model1</td><td>5.066534</td></tr>\n",
       "\t<tr><td>3</td><td>5.023252</td><td>Preprocessor1_Model1</td><td>4.978509</td></tr>\n",
       "\t<tr><td>4</td><td>4.944483</td><td>Preprocessor1_Model1</td><td>5.017363</td></tr>\n",
       "\t<tr><td>5</td><td>5.105510</td><td>Preprocessor1_Model1</td><td>5.148340</td></tr>\n",
       "\t<tr><td>6</td><td>5.079181</td><td>Preprocessor1_Model1</td><td>5.109061</td></tr>\n",
       "</tbody>\n",
       "</table>\n"
      ],
      "text/latex": [
       "A tibble: 6 × 4\n",
       "\\begin{tabular}{llll}\n",
       " .row & Sale\\_Price & .config & .pred\\\\\n",
       " <int> & <dbl> & <chr> & <dbl>\\\\\n",
       "\\hline\n",
       "\t 1 & 5.100371 & Preprocessor1\\_Model1 & 4.999708\\\\\n",
       "\t 2 & 5.060698 & Preprocessor1\\_Model1 & 5.066534\\\\\n",
       "\t 3 & 5.023252 & Preprocessor1\\_Model1 & 4.978509\\\\\n",
       "\t 4 & 4.944483 & Preprocessor1\\_Model1 & 5.017363\\\\\n",
       "\t 5 & 5.105510 & Preprocessor1\\_Model1 & 5.148340\\\\\n",
       "\t 6 & 5.079181 & Preprocessor1\\_Model1 & 5.109061\\\\\n",
       "\\end{tabular}\n"
      ],
      "text/markdown": [
       "\n",
       "A tibble: 6 × 4\n",
       "\n",
       "| .row &lt;int&gt; | Sale_Price &lt;dbl&gt; | .config &lt;chr&gt; | .pred &lt;dbl&gt; |\n",
       "|---|---|---|---|\n",
       "| 1 | 5.100371 | Preprocessor1_Model1 | 4.999708 |\n",
       "| 2 | 5.060698 | Preprocessor1_Model1 | 5.066534 |\n",
       "| 3 | 5.023252 | Preprocessor1_Model1 | 4.978509 |\n",
       "| 4 | 4.944483 | Preprocessor1_Model1 | 5.017363 |\n",
       "| 5 | 5.105510 | Preprocessor1_Model1 | 5.148340 |\n",
       "| 6 | 5.079181 | Preprocessor1_Model1 | 5.109061 |\n",
       "\n"
      ],
      "text/plain": [
       "  .row Sale_Price .config              .pred   \n",
       "1 1    5.100371   Preprocessor1_Model1 4.999708\n",
       "2 2    5.060698   Preprocessor1_Model1 5.066534\n",
       "3 3    5.023252   Preprocessor1_Model1 4.978509\n",
       "4 4    4.944483   Preprocessor1_Model1 5.017363\n",
       "5 5    5.105510   Preprocessor1_Model1 5.148340\n",
       "6 6    5.079181   Preprocessor1_Model1 5.109061"
      ]
     },
     "metadata": {},
     "output_type": "display_data"
    }
   ],
   "source": [
    "assess_res <- collect_predictions(rf_res, summarize = T)\n",
    "assess_res %>% head"
   ]
  },
  {
   "cell_type": "code",
   "execution_count": 80,
   "id": "f97cbfdf",
   "metadata": {},
   "outputs": [
    {
     "data": {
      "image/png": "[encoded data removed]",
      "text/plain": [
       "plot without title"
      ]
     },
     "metadata": {
      "image/png": {
       "height": 420,
       "width": 420
      }
     },
     "output_type": "display_data"
    }
   ],
   "source": [
    "assess_res %>% \n",
    "    ggplot(aes(x = Sale_Price, y = .pred)) + \n",
    "    geom_point(alpha = .15) +\n",
    "    geom_abline(color = \"red\") + \n",
    "    coord_obs_pred() + \n",
    "    ylab(\"Predicted\")"
   ]
  },
  {
   "cell_type": "markdown",
   "id": "d657ec67",
   "metadata": {},
   "source": [
    "* 과대 예측값 2개"
   ]
  },
  {
   "cell_type": "code",
   "execution_count": 85,
   "id": "780281a4",
   "metadata": {},
   "outputs": [
    {
     "data": {
      "text/html": [
       "<table class=\"dataframe\">\n",
       "<caption>A tibble: 2 × 5</caption>\n",
       "<thead>\n",
       "\t<tr><th scope=col>.row</th><th scope=col>Sale_Price</th><th scope=col>.config</th><th scope=col>.pred</th><th scope=col>residual</th></tr>\n",
       "\t<tr><th scope=col>&lt;int&gt;</th><th scope=col>&lt;dbl&gt;</th><th scope=col>&lt;chr&gt;</th><th scope=col>&lt;dbl&gt;</th><th scope=col>&lt;dbl&gt;</th></tr>\n",
       "</thead>\n",
       "<tbody>\n",
       "\t<tr><td> 32</td><td>4.106837</td><td>Preprocessor1_Model1</td><td>4.964866</td><td>-0.8580290</td></tr>\n",
       "\t<tr><td>317</td><td>4.117271</td><td>Preprocessor1_Model1</td><td>4.932895</td><td>-0.8156234</td></tr>\n",
       "</tbody>\n",
       "</table>\n"
      ],
      "text/latex": [
       "A tibble: 2 × 5\n",
       "\\begin{tabular}{lllll}\n",
       " .row & Sale\\_Price & .config & .pred & residual\\\\\n",
       " <int> & <dbl> & <chr> & <dbl> & <dbl>\\\\\n",
       "\\hline\n",
       "\t  32 & 4.106837 & Preprocessor1\\_Model1 & 4.964866 & -0.8580290\\\\\n",
       "\t 317 & 4.117271 & Preprocessor1\\_Model1 & 4.932895 & -0.8156234\\\\\n",
       "\\end{tabular}\n"
      ],
      "text/markdown": [
       "\n",
       "A tibble: 2 × 5\n",
       "\n",
       "| .row &lt;int&gt; | Sale_Price &lt;dbl&gt; | .config &lt;chr&gt; | .pred &lt;dbl&gt; | residual &lt;dbl&gt; |\n",
       "|---|---|---|---|---|\n",
       "|  32 | 4.106837 | Preprocessor1_Model1 | 4.964866 | -0.8580290 |\n",
       "| 317 | 4.117271 | Preprocessor1_Model1 | 4.932895 | -0.8156234 |\n",
       "\n"
      ],
      "text/plain": [
       "  .row Sale_Price .config              .pred    residual  \n",
       "1  32  4.106837   Preprocessor1_Model1 4.964866 -0.8580290\n",
       "2 317  4.117271   Preprocessor1_Model1 4.932895 -0.8156234"
      ]
     },
     "metadata": {},
     "output_type": "display_data"
    }
   ],
   "source": [
    "over_predicted <- \n",
    "    assess_res %>% \n",
    "    mutate(residual = Sale_Price - .pred) %>% \n",
    "    arrange(desc(abs(residual))) %>% \n",
    "    head(2)\n",
    "\n",
    "over_predicted %>% head"
   ]
  },
  {
   "cell_type": "code",
   "execution_count": 86,
   "id": "9aacc735",
   "metadata": {},
   "outputs": [
    {
     "data": {
      "text/html": [
       "<table class=\"dataframe\">\n",
       "<caption>A tibble: 2 × 5</caption>\n",
       "<thead>\n",
       "\t<tr><th scope=col>Gr_Liv_Area</th><th scope=col>Neighborhood</th><th scope=col>Year_Built</th><th scope=col>Bedroom_AbvGr</th><th scope=col>Full_Bath</th></tr>\n",
       "\t<tr><th scope=col>&lt;int&gt;</th><th scope=col>&lt;fct&gt;</th><th scope=col>&lt;int&gt;</th><th scope=col>&lt;int&gt;</th><th scope=col>&lt;int&gt;</th></tr>\n",
       "</thead>\n",
       "<tbody>\n",
       "\t<tr><td>832</td><td>Old_Town              </td><td>1923</td><td>2</td><td>1</td></tr>\n",
       "\t<tr><td>733</td><td>Iowa_DOT_and_Rail_Road</td><td>1952</td><td>2</td><td>1</td></tr>\n",
       "</tbody>\n",
       "</table>\n"
      ],
      "text/latex": [
       "A tibble: 2 × 5\n",
       "\\begin{tabular}{lllll}\n",
       " Gr\\_Liv\\_Area & Neighborhood & Year\\_Built & Bedroom\\_AbvGr & Full\\_Bath\\\\\n",
       " <int> & <fct> & <int> & <int> & <int>\\\\\n",
       "\\hline\n",
       "\t 832 & Old\\_Town               & 1923 & 2 & 1\\\\\n",
       "\t 733 & Iowa\\_DOT\\_and\\_Rail\\_Road & 1952 & 2 & 1\\\\\n",
       "\\end{tabular}\n"
      ],
      "text/markdown": [
       "\n",
       "A tibble: 2 × 5\n",
       "\n",
       "| Gr_Liv_Area &lt;int&gt; | Neighborhood &lt;fct&gt; | Year_Built &lt;int&gt; | Bedroom_AbvGr &lt;int&gt; | Full_Bath &lt;int&gt; |\n",
       "|---|---|---|---|---|\n",
       "| 832 | Old_Town               | 1923 | 2 | 1 |\n",
       "| 733 | Iowa_DOT_and_Rail_Road | 1952 | 2 | 1 |\n",
       "\n"
      ],
      "text/plain": [
       "  Gr_Liv_Area Neighborhood           Year_Built Bedroom_AbvGr Full_Bath\n",
       "1 832         Old_Town               1923       2             1        \n",
       "2 733         Iowa_DOT_and_Rail_Road 1952       2             1        "
      ]
     },
     "metadata": {},
     "output_type": "display_data"
    }
   ],
   "source": [
    "ames_train %>% \n",
    "    slice(over_predicted$.row) %>% \n",
    "    select(Gr_Liv_Area, Neighborhood, Year_Built, Bedroom_AbvGr, Full_Bath)"
   ]
  },
  {
   "cell_type": "markdown",
   "id": "354087c1",
   "metadata": {},
   "source": [
    "- 부트스트랩 또는 반복 교차 검증과 같은 일부 리샘플링 방법의 경우, 각 리샘플별 예측값"
   ]
  },
  {
   "cell_type": "code",
   "execution_count": 77,
   "id": "f8319776",
   "metadata": {},
   "outputs": [
    {
     "data": {
      "text/html": [
       "<table class=\"dataframe\">\n",
       "<caption>A tibble: 6 × 5</caption>\n",
       "<thead>\n",
       "\t<tr><th scope=col>id</th><th scope=col>.pred</th><th scope=col>.row</th><th scope=col>Sale_Price</th><th scope=col>.config</th></tr>\n",
       "\t<tr><th scope=col>&lt;chr&gt;</th><th scope=col>&lt;dbl&gt;</th><th scope=col>&lt;int&gt;</th><th scope=col>&lt;dbl&gt;</th><th scope=col>&lt;chr&gt;</th></tr>\n",
       "</thead>\n",
       "<tbody>\n",
       "\t<tr><td>Fold01</td><td>5.100795</td><td>10</td><td>5.086360</td><td>Preprocessor1_Model1</td></tr>\n",
       "\t<tr><td>Fold01</td><td>4.920386</td><td>27</td><td>4.903090</td><td>Preprocessor1_Model1</td></tr>\n",
       "\t<tr><td>Fold01</td><td>5.205546</td><td>47</td><td>5.084576</td><td>Preprocessor1_Model1</td></tr>\n",
       "\t<tr><td>Fold01</td><td>5.129049</td><td>52</td><td>5.103804</td><td>Preprocessor1_Model1</td></tr>\n",
       "\t<tr><td>Fold01</td><td>5.132585</td><td>59</td><td>5.097604</td><td>Preprocessor1_Model1</td></tr>\n",
       "\t<tr><td>Fold01</td><td>5.130911</td><td>63</td><td>5.107210</td><td>Preprocessor1_Model1</td></tr>\n",
       "</tbody>\n",
       "</table>\n"
      ],
      "text/latex": [
       "A tibble: 6 × 5\n",
       "\\begin{tabular}{lllll}\n",
       " id & .pred & .row & Sale\\_Price & .config\\\\\n",
       " <chr> & <dbl> & <int> & <dbl> & <chr>\\\\\n",
       "\\hline\n",
       "\t Fold01 & 5.100795 & 10 & 5.086360 & Preprocessor1\\_Model1\\\\\n",
       "\t Fold01 & 4.920386 & 27 & 4.903090 & Preprocessor1\\_Model1\\\\\n",
       "\t Fold01 & 5.205546 & 47 & 5.084576 & Preprocessor1\\_Model1\\\\\n",
       "\t Fold01 & 5.129049 & 52 & 5.103804 & Preprocessor1\\_Model1\\\\\n",
       "\t Fold01 & 5.132585 & 59 & 5.097604 & Preprocessor1\\_Model1\\\\\n",
       "\t Fold01 & 5.130911 & 63 & 5.107210 & Preprocessor1\\_Model1\\\\\n",
       "\\end{tabular}\n"
      ],
      "text/markdown": [
       "\n",
       "A tibble: 6 × 5\n",
       "\n",
       "| id &lt;chr&gt; | .pred &lt;dbl&gt; | .row &lt;int&gt; | Sale_Price &lt;dbl&gt; | .config &lt;chr&gt; |\n",
       "|---|---|---|---|---|\n",
       "| Fold01 | 5.100795 | 10 | 5.086360 | Preprocessor1_Model1 |\n",
       "| Fold01 | 4.920386 | 27 | 4.903090 | Preprocessor1_Model1 |\n",
       "| Fold01 | 5.205546 | 47 | 5.084576 | Preprocessor1_Model1 |\n",
       "| Fold01 | 5.129049 | 52 | 5.103804 | Preprocessor1_Model1 |\n",
       "| Fold01 | 5.132585 | 59 | 5.097604 | Preprocessor1_Model1 |\n",
       "| Fold01 | 5.130911 | 63 | 5.107210 | Preprocessor1_Model1 |\n",
       "\n"
      ],
      "text/plain": [
       "  id     .pred    .row Sale_Price .config             \n",
       "1 Fold01 5.100795 10   5.086360   Preprocessor1_Model1\n",
       "2 Fold01 4.920386 27   4.903090   Preprocessor1_Model1\n",
       "3 Fold01 5.205546 47   5.084576   Preprocessor1_Model1\n",
       "4 Fold01 5.129049 52   5.103804   Preprocessor1_Model1\n",
       "5 Fold01 5.132585 59   5.097604   Preprocessor1_Model1\n",
       "6 Fold01 5.130911 63   5.107210   Preprocessor1_Model1"
      ]
     },
     "metadata": {},
     "output_type": "display_data"
    }
   ],
   "source": [
    "collect_predictions(rf_res, summarize = F) %>% head"
   ]
  },
  {
   "cell_type": "markdown",
   "id": "fdd5354c",
   "metadata": {},
   "source": [
    "<br>\n",
    "\n",
    "#### K-fold가 아닌 전체 훈련/검증/테스트 세트 적용"
   ]
  },
  {
   "cell_type": "code",
   "execution_count": 88,
   "id": "dc9ad44d",
   "metadata": {},
   "outputs": [
    {
     "data": {
      "text/plain": [
       "[[1]]\n",
       "<Training/Validation/Total>\n",
       "<1758/586/2344>\n"
      ]
     },
     "metadata": {},
     "output_type": "display_data"
    }
   ],
   "source": [
    "val_set$splits"
   ]
  },
  {
   "cell_type": "code",
   "execution_count": 95,
   "id": "d4a10774",
   "metadata": {},
   "outputs": [
    {
     "name": "stderr",
     "output_type": "stream",
     "text": [
      "Warning message in `[.tbl_df`(x, is.finite(x <- as.numeric(x))):\n",
      "\"NAs introduced by coercion\"\n"
     ]
    }
   ],
   "source": [
    "val_res <- rf_wflow %>% fit_resamples(resamples = val_set)"
   ]
  },
  {
   "cell_type": "code",
   "execution_count": 96,
   "id": "ac458e6a",
   "metadata": {},
   "outputs": [
    {
     "data": {
      "text/html": [
       "<table class=\"dataframe\">\n",
       "<caption>A tibble: 2 × 6</caption>\n",
       "<thead>\n",
       "\t<tr><th scope=col>.metric</th><th scope=col>.estimator</th><th scope=col>mean</th><th scope=col>n</th><th scope=col>std_err</th><th scope=col>.config</th></tr>\n",
       "\t<tr><th scope=col>&lt;chr&gt;</th><th scope=col>&lt;chr&gt;</th><th scope=col>&lt;dbl&gt;</th><th scope=col>&lt;int&gt;</th><th scope=col>&lt;dbl&gt;</th><th scope=col>&lt;chr&gt;</th></tr>\n",
       "</thead>\n",
       "<tbody>\n",
       "\t<tr><td>rmse</td><td>standard</td><td>0.07302945</td><td>1</td><td>NA</td><td>Preprocessor1_Model1</td></tr>\n",
       "\t<tr><td>rsq </td><td>standard</td><td>0.82123925</td><td>1</td><td>NA</td><td>Preprocessor1_Model1</td></tr>\n",
       "</tbody>\n",
       "</table>\n"
      ],
      "text/latex": [
       "A tibble: 2 × 6\n",
       "\\begin{tabular}{llllll}\n",
       " .metric & .estimator & mean & n & std\\_err & .config\\\\\n",
       " <chr> & <chr> & <dbl> & <int> & <dbl> & <chr>\\\\\n",
       "\\hline\n",
       "\t rmse & standard & 0.07302945 & 1 & NA & Preprocessor1\\_Model1\\\\\n",
       "\t rsq  & standard & 0.82123925 & 1 & NA & Preprocessor1\\_Model1\\\\\n",
       "\\end{tabular}\n"
      ],
      "text/markdown": [
       "\n",
       "A tibble: 2 × 6\n",
       "\n",
       "| .metric &lt;chr&gt; | .estimator &lt;chr&gt; | mean &lt;dbl&gt; | n &lt;int&gt; | std_err &lt;dbl&gt; | .config &lt;chr&gt; |\n",
       "|---|---|---|---|---|---|\n",
       "| rmse | standard | 0.07302945 | 1 | NA | Preprocessor1_Model1 |\n",
       "| rsq  | standard | 0.82123925 | 1 | NA | Preprocessor1_Model1 |\n",
       "\n"
      ],
      "text/plain": [
       "  .metric .estimator mean       n std_err .config             \n",
       "1 rmse    standard   0.07302945 1 NA      Preprocessor1_Model1\n",
       "2 rsq     standard   0.82123925 1 NA      Preprocessor1_Model1"
      ]
     },
     "metadata": {},
     "output_type": "display_data"
    }
   ],
   "source": [
    "collect_metrics(val_res)"
   ]
  },
  {
   "cell_type": "markdown",
   "id": "4bdfd679",
   "metadata": {},
   "source": [
    "<br>\n",
    "\n",
    "## 07.04. 리샘플링된 객체 저장\n",
    "- 리샘플링 중에 생성된 모델은 유지되지 않으며, 성능 평가 목적으로 훈련되었기에 일반적으로 성능 통계량을 계산한 후에는 필요하지 않음\n",
    "- 특정 파라미터가 최적의 하이퍼 파라미터로 판명되면, 최선의 선택은 더 많은 데이터로 모델 파라미터를 추정할 수 있도록 전체 훈련 세트에 다시 적합하는 것\n",
    "\n",
    "- 리샘플링 중에 생성된 이러한 모델은 보존되지 않지만, 해당 모델 또는 해당 구성 요소 중 일부를 유지하는 방법\n",
    "    - **`control_resamples()`의 `extract`**"
   ]
  },
  {
   "cell_type": "markdown",
   "id": "045339ce",
   "metadata": {},
   "source": [
    "<br>\n",
    "\n",
    "#### 선형 회귀 모델 적합 예시\n",
    "- 데이터 전처리"
   ]
  },
  {
   "cell_type": "code",
   "execution_count": 101,
   "id": "3ff676f1",
   "metadata": {},
   "outputs": [],
   "source": [
    "ames_rec <- recipe(Sale_Price ~ Neighborhood + Gr_Liv_Area + Year_Built + Bldg_Type + Latitude + Longitude, data = ames_train) %>%\n",
    "    step_other(Neighborhood, threshold = 0.01) %>% \n",
    "    step_dummy(all_nominal_predictors()) %>% \n",
    "    step_interact( ~ Gr_Liv_Area:starts_with(\"Bldg_Type_\") ) %>% \n",
    "    step_ns(Latitude, Longitude, deg_free = 20)"
   ]
  },
  {
   "cell_type": "markdown",
   "id": "3aa18315",
   "metadata": {},
   "source": [
    "- 워크플로 생성"
   ]
  },
  {
   "cell_type": "code",
   "execution_count": 102,
   "id": "c294eeaf",
   "metadata": {},
   "outputs": [],
   "source": [
    "lm_wflow <- workflow() %>% \n",
    "    add_recipe(ames_rec) %>% \n",
    "    add_model(linear_reg() %>% set_engine(\"lm\"))"
   ]
  },
  {
   "cell_type": "markdown",
   "id": "e4a8a3d9",
   "metadata": {},
   "source": [
    "- 데이터 적합"
   ]
  },
  {
   "cell_type": "code",
   "execution_count": 103,
   "id": "aca4f9a8",
   "metadata": {},
   "outputs": [],
   "source": [
    "lm_fit <- lm_wflow %>% fit(data = ames_train)"
   ]
  },
  {
   "cell_type": "markdown",
   "id": "4032c9ea",
   "metadata": {},
   "source": [
    "- 워크플로 확인"
   ]
  },
  {
   "cell_type": "code",
   "execution_count": 106,
   "id": "65cd7b9d",
   "metadata": {},
   "outputs": [
    {
     "name": "stderr",
     "output_type": "stream",
     "text": [
      "\n",
      "\n",
      "\u001b[36m──\u001b[39m \u001b[1mRecipe\u001b[22m \u001b[36m──────────────────────────────────────────────────────────────────────────────────────────────────────────────\u001b[39m\n",
      "\n",
      "\n",
      "\n",
      "── Inputs \n",
      "\n",
      "Number of variables by role\n",
      "\n",
      "outcome:   1\n",
      "predictor: 6\n",
      "\n",
      "\n",
      "\n",
      "── Training information \n",
      "\n",
      "Training data contained 2342 data points and no incomplete rows.\n",
      "\n",
      "\n",
      "\n",
      "── Operations \n",
      "\n",
      "\u001b[36m•\u001b[39m Collapsing factor levels for: \u001b[34mNeighborhood\u001b[39m | \u001b[3mTrained\u001b[23m\n",
      "\n",
      "\u001b[36m•\u001b[39m Dummy variables from: \u001b[34mNeighborhood\u001b[39m and \u001b[34mBldg_Type\u001b[39m | \u001b[3mTrained\u001b[23m\n",
      "\n",
      "\u001b[36m•\u001b[39m Interactions with: \u001b[34mGr_Liv_Area:(Bldg_Type_TwoFmCon + Bldg_Type_Duplex + Bldg_Type_Twnhs + Bldg_Type_TwnhsE)\u001b[39m | \u001b[3mTrained\u001b[23m\n",
      "\n",
      "\u001b[36m•\u001b[39m Natural splines on: \u001b[34mLatitude\u001b[39m and \u001b[34mLongitude\u001b[39m | \u001b[3mTrained\u001b[23m\n",
      "\n"
     ]
    }
   ],
   "source": [
    "extract_recipe(lm_fit, estimated = T)"
   ]
  },
  {
   "cell_type": "markdown",
   "id": "724f9f3b",
   "metadata": {},
   "source": [
    "- **워크플로에서 적합된 모델의 가중치를 저장하는 함수**"
   ]
  },
  {
   "cell_type": "code",
   "execution_count": 107,
   "id": "899cc863",
   "metadata": {},
   "outputs": [],
   "source": [
    "get_model <- function(x) {extract_fit_parsnip(x) %>% tidy()}"
   ]
  },
  {
   "cell_type": "code",
   "execution_count": 109,
   "id": "77299c53",
   "metadata": {
    "scrolled": true
   },
   "outputs": [
    {
     "data": {
      "text/html": [
       "<table class=\"dataframe\">\n",
       "<caption>A tibble: 6 × 5</caption>\n",
       "<thead>\n",
       "\t<tr><th scope=col>term</th><th scope=col>estimate</th><th scope=col>std.error</th><th scope=col>statistic</th><th scope=col>p.value</th></tr>\n",
       "\t<tr><th scope=col>&lt;chr&gt;</th><th scope=col>&lt;dbl&gt;</th><th scope=col>&lt;dbl&gt;</th><th scope=col>&lt;dbl&gt;</th><th scope=col>&lt;dbl&gt;</th></tr>\n",
       "</thead>\n",
       "<tbody>\n",
       "\t<tr><td>(Intercept)               </td><td> 1.5413027754</td><td>2.984135e-01</td><td> 5.16499087</td><td> 2.614068e-07</td></tr>\n",
       "\t<tr><td>Gr_Liv_Area               </td><td> 0.0001625191</td><td>4.460054e-06</td><td>36.43880590</td><td>2.812458e-229</td></tr>\n",
       "\t<tr><td>Year_Built                </td><td> 0.0017714469</td><td>1.401481e-04</td><td>12.63981975</td><td> 1.934790e-35</td></tr>\n",
       "\t<tr><td>Neighborhood_College_Creek</td><td> 0.0012477682</td><td>3.496193e-02</td><td> 0.03568933</td><td> 9.715332e-01</td></tr>\n",
       "\t<tr><td>Neighborhood_Old_Town     </td><td>-0.0718270370</td><td>1.294045e-02</td><td>-5.55058215</td><td> 3.179224e-08</td></tr>\n",
       "\t<tr><td>Neighborhood_Edwards      </td><td>-0.0956970030</td><td>2.926933e-02</td><td>-3.26953185</td><td> 1.093362e-03</td></tr>\n",
       "</tbody>\n",
       "</table>\n"
      ],
      "text/latex": [
       "A tibble: 6 × 5\n",
       "\\begin{tabular}{lllll}\n",
       " term & estimate & std.error & statistic & p.value\\\\\n",
       " <chr> & <dbl> & <dbl> & <dbl> & <dbl>\\\\\n",
       "\\hline\n",
       "\t (Intercept)                &  1.5413027754 & 2.984135e-01 &  5.16499087 &  2.614068e-07\\\\\n",
       "\t Gr\\_Liv\\_Area                &  0.0001625191 & 4.460054e-06 & 36.43880590 & 2.812458e-229\\\\\n",
       "\t Year\\_Built                 &  0.0017714469 & 1.401481e-04 & 12.63981975 &  1.934790e-35\\\\\n",
       "\t Neighborhood\\_College\\_Creek &  0.0012477682 & 3.496193e-02 &  0.03568933 &  9.715332e-01\\\\\n",
       "\t Neighborhood\\_Old\\_Town      & -0.0718270370 & 1.294045e-02 & -5.55058215 &  3.179224e-08\\\\\n",
       "\t Neighborhood\\_Edwards       & -0.0956970030 & 2.926933e-02 & -3.26953185 &  1.093362e-03\\\\\n",
       "\\end{tabular}\n"
      ],
      "text/markdown": [
       "\n",
       "A tibble: 6 × 5\n",
       "\n",
       "| term &lt;chr&gt; | estimate &lt;dbl&gt; | std.error &lt;dbl&gt; | statistic &lt;dbl&gt; | p.value &lt;dbl&gt; |\n",
       "|---|---|---|---|---|\n",
       "| (Intercept)                |  1.5413027754 | 2.984135e-01 |  5.16499087 |  2.614068e-07 |\n",
       "| Gr_Liv_Area                |  0.0001625191 | 4.460054e-06 | 36.43880590 | 2.812458e-229 |\n",
       "| Year_Built                 |  0.0017714469 | 1.401481e-04 | 12.63981975 |  1.934790e-35 |\n",
       "| Neighborhood_College_Creek |  0.0012477682 | 3.496193e-02 |  0.03568933 |  9.715332e-01 |\n",
       "| Neighborhood_Old_Town      | -0.0718270370 | 1.294045e-02 | -5.55058215 |  3.179224e-08 |\n",
       "| Neighborhood_Edwards       | -0.0956970030 | 2.926933e-02 | -3.26953185 |  1.093362e-03 |\n",
       "\n"
      ],
      "text/plain": [
       "  term                       estimate      std.error    statistic  \n",
       "1 (Intercept)                 1.5413027754 2.984135e-01  5.16499087\n",
       "2 Gr_Liv_Area                 0.0001625191 4.460054e-06 36.43880590\n",
       "3 Year_Built                  0.0017714469 1.401481e-04 12.63981975\n",
       "4 Neighborhood_College_Creek  0.0012477682 3.496193e-02  0.03568933\n",
       "5 Neighborhood_Old_Town      -0.0718270370 1.294045e-02 -5.55058215\n",
       "6 Neighborhood_Edwards       -0.0956970030 2.926933e-02 -3.26953185\n",
       "  p.value      \n",
       "1  2.614068e-07\n",
       "2 2.812458e-229\n",
       "3  1.934790e-35\n",
       "4  9.715332e-01\n",
       "5  3.179224e-08\n",
       "6  1.093362e-03"
      ]
     },
     "metadata": {},
     "output_type": "display_data"
    }
   ],
   "source": [
    "get_model(lm_fit) %>% head()"
   ]
  },
  {
   "cell_type": "markdown",
   "id": "d8316ef3",
   "metadata": {},
   "source": [
    "<br>\n",
    "\n",
    "- **10번의 리샘플링에서 발생된 각 모델의 가중치를 저장**"
   ]
  },
  {
   "cell_type": "code",
   "execution_count": 112,
   "id": "60c48ce2",
   "metadata": {},
   "outputs": [],
   "source": [
    "ctrl <- control_resamples(extract = get_model)"
   ]
  },
  {
   "cell_type": "code",
   "execution_count": 113,
   "id": "96b639d0",
   "metadata": {},
   "outputs": [],
   "source": [
    "lm_res <- lm_wflow %>%  fit_resamples(resamples = ames_folds, control = ctrl)"
   ]
  },
  {
   "cell_type": "markdown",
   "id": "1bd3bb6e",
   "metadata": {},
   "source": [
    "- 첫 리샘플링에서 생성된 모델의 가중치"
   ]
  },
  {
   "cell_type": "code",
   "execution_count": 120,
   "id": "0aefbcbf",
   "metadata": {
    "scrolled": true
   },
   "outputs": [
    {
     "data": {
      "text/html": [
       "<table class=\"dataframe\">\n",
       "<caption>A tibble: 6 × 5</caption>\n",
       "<thead>\n",
       "\t<tr><th scope=col>term</th><th scope=col>estimate</th><th scope=col>std.error</th><th scope=col>statistic</th><th scope=col>p.value</th></tr>\n",
       "\t<tr><th scope=col>&lt;chr&gt;</th><th scope=col>&lt;dbl&gt;</th><th scope=col>&lt;dbl&gt;</th><th scope=col>&lt;dbl&gt;</th><th scope=col>&lt;dbl&gt;</th></tr>\n",
       "</thead>\n",
       "<tbody>\n",
       "\t<tr><td>(Intercept)               </td><td> 1.4760597162</td><td>3.196061e-01</td><td> 4.61837193</td><td> 4.109482e-06</td></tr>\n",
       "\t<tr><td>Gr_Liv_Area               </td><td> 0.0001580881</td><td>4.758151e-06</td><td>33.22469868</td><td>9.724278e-194</td></tr>\n",
       "\t<tr><td>Year_Built                </td><td> 0.0017992414</td><td>1.488582e-04</td><td>12.08694982</td><td> 1.567674e-32</td></tr>\n",
       "\t<tr><td>Neighborhood_College_Creek</td><td>-0.0016341284</td><td>3.734748e-02</td><td>-0.04375472</td><td> 9.651042e-01</td></tr>\n",
       "\t<tr><td>Neighborhood_Old_Town     </td><td>-0.0756810364</td><td>1.382365e-02</td><td>-5.47475194</td><td> 4.922902e-08</td></tr>\n",
       "\t<tr><td>Neighborhood_Edwards      </td><td>-0.1093650469</td><td>3.095808e-02</td><td>-3.53268235</td><td> 4.205378e-04</td></tr>\n",
       "</tbody>\n",
       "</table>\n"
      ],
      "text/latex": [
       "A tibble: 6 × 5\n",
       "\\begin{tabular}{lllll}\n",
       " term & estimate & std.error & statistic & p.value\\\\\n",
       " <chr> & <dbl> & <dbl> & <dbl> & <dbl>\\\\\n",
       "\\hline\n",
       "\t (Intercept)                &  1.4760597162 & 3.196061e-01 &  4.61837193 &  4.109482e-06\\\\\n",
       "\t Gr\\_Liv\\_Area                &  0.0001580881 & 4.758151e-06 & 33.22469868 & 9.724278e-194\\\\\n",
       "\t Year\\_Built                 &  0.0017992414 & 1.488582e-04 & 12.08694982 &  1.567674e-32\\\\\n",
       "\t Neighborhood\\_College\\_Creek & -0.0016341284 & 3.734748e-02 & -0.04375472 &  9.651042e-01\\\\\n",
       "\t Neighborhood\\_Old\\_Town      & -0.0756810364 & 1.382365e-02 & -5.47475194 &  4.922902e-08\\\\\n",
       "\t Neighborhood\\_Edwards       & -0.1093650469 & 3.095808e-02 & -3.53268235 &  4.205378e-04\\\\\n",
       "\\end{tabular}\n"
      ],
      "text/markdown": [
       "\n",
       "A tibble: 6 × 5\n",
       "\n",
       "| term &lt;chr&gt; | estimate &lt;dbl&gt; | std.error &lt;dbl&gt; | statistic &lt;dbl&gt; | p.value &lt;dbl&gt; |\n",
       "|---|---|---|---|---|\n",
       "| (Intercept)                |  1.4760597162 | 3.196061e-01 |  4.61837193 |  4.109482e-06 |\n",
       "| Gr_Liv_Area                |  0.0001580881 | 4.758151e-06 | 33.22469868 | 9.724278e-194 |\n",
       "| Year_Built                 |  0.0017992414 | 1.488582e-04 | 12.08694982 |  1.567674e-32 |\n",
       "| Neighborhood_College_Creek | -0.0016341284 | 3.734748e-02 | -0.04375472 |  9.651042e-01 |\n",
       "| Neighborhood_Old_Town      | -0.0756810364 | 1.382365e-02 | -5.47475194 |  4.922902e-08 |\n",
       "| Neighborhood_Edwards       | -0.1093650469 | 3.095808e-02 | -3.53268235 |  4.205378e-04 |\n",
       "\n"
      ],
      "text/plain": [
       "  term                       estimate      std.error    statistic  \n",
       "1 (Intercept)                 1.4760597162 3.196061e-01  4.61837193\n",
       "2 Gr_Liv_Area                 0.0001580881 4.758151e-06 33.22469868\n",
       "3 Year_Built                  0.0017992414 1.488582e-04 12.08694982\n",
       "4 Neighborhood_College_Creek -0.0016341284 3.734748e-02 -0.04375472\n",
       "5 Neighborhood_Old_Town      -0.0756810364 1.382365e-02 -5.47475194\n",
       "6 Neighborhood_Edwards       -0.1093650469 3.095808e-02 -3.53268235\n",
       "  p.value      \n",
       "1  4.109482e-06\n",
       "2 9.724278e-194\n",
       "3  1.567674e-32\n",
       "4  9.651042e-01\n",
       "5  4.922902e-08\n",
       "6  4.205378e-04"
      ]
     },
     "metadata": {},
     "output_type": "display_data"
    }
   ],
   "source": [
    "lm_res$.extracts[[1]][[1]][[1]] %>% head"
   ]
  },
  {
   "cell_type": "markdown",
   "id": "b9cee5a9",
   "metadata": {},
   "source": [
    "- 두 번째 리샘플링에서 생성된 모델의 가중치"
   ]
  },
  {
   "cell_type": "code",
   "execution_count": 128,
   "id": "52d6e839",
   "metadata": {},
   "outputs": [
    {
     "data": {
      "text/html": [
       "<table class=\"dataframe\">\n",
       "<caption>A tibble: 6 × 5</caption>\n",
       "<thead>\n",
       "\t<tr><th scope=col>term</th><th scope=col>estimate</th><th scope=col>std.error</th><th scope=col>statistic</th><th scope=col>p.value</th></tr>\n",
       "\t<tr><th scope=col>&lt;chr&gt;</th><th scope=col>&lt;dbl&gt;</th><th scope=col>&lt;dbl&gt;</th><th scope=col>&lt;dbl&gt;</th><th scope=col>&lt;dbl&gt;</th></tr>\n",
       "</thead>\n",
       "<tbody>\n",
       "\t<tr><td>(Intercept)               </td><td> 1.543593023</td><td>3.206827e-01</td><td> 4.813459</td><td> 1.592585e-06</td></tr>\n",
       "\t<tr><td>Gr_Liv_Area               </td><td> 0.000164538</td><td>4.902043e-06</td><td>33.565196</td><td>5.986204e-197</td></tr>\n",
       "\t<tr><td>Year_Built                </td><td> 0.001802561</td><td>1.506935e-04</td><td>11.961773</td><td> 6.445008e-32</td></tr>\n",
       "\t<tr><td>Neighborhood_College_Creek</td><td>-0.044738016</td><td>3.681485e-02</td><td>-1.215217</td><td> 2.244245e-01</td></tr>\n",
       "\t<tr><td>Neighborhood_Old_Town     </td><td>-0.072320903</td><td>1.392799e-02</td><td>-5.192486</td><td> 2.281864e-07</td></tr>\n",
       "\t<tr><td>Neighborhood_Edwards      </td><td>-0.124412608</td><td>3.083696e-02</td><td>-4.034529</td><td> 5.673329e-05</td></tr>\n",
       "</tbody>\n",
       "</table>\n"
      ],
      "text/latex": [
       "A tibble: 6 × 5\n",
       "\\begin{tabular}{lllll}\n",
       " term & estimate & std.error & statistic & p.value\\\\\n",
       " <chr> & <dbl> & <dbl> & <dbl> & <dbl>\\\\\n",
       "\\hline\n",
       "\t (Intercept)                &  1.543593023 & 3.206827e-01 &  4.813459 &  1.592585e-06\\\\\n",
       "\t Gr\\_Liv\\_Area                &  0.000164538 & 4.902043e-06 & 33.565196 & 5.986204e-197\\\\\n",
       "\t Year\\_Built                 &  0.001802561 & 1.506935e-04 & 11.961773 &  6.445008e-32\\\\\n",
       "\t Neighborhood\\_College\\_Creek & -0.044738016 & 3.681485e-02 & -1.215217 &  2.244245e-01\\\\\n",
       "\t Neighborhood\\_Old\\_Town      & -0.072320903 & 1.392799e-02 & -5.192486 &  2.281864e-07\\\\\n",
       "\t Neighborhood\\_Edwards       & -0.124412608 & 3.083696e-02 & -4.034529 &  5.673329e-05\\\\\n",
       "\\end{tabular}\n"
      ],
      "text/markdown": [
       "\n",
       "A tibble: 6 × 5\n",
       "\n",
       "| term &lt;chr&gt; | estimate &lt;dbl&gt; | std.error &lt;dbl&gt; | statistic &lt;dbl&gt; | p.value &lt;dbl&gt; |\n",
       "|---|---|---|---|---|\n",
       "| (Intercept)                |  1.543593023 | 3.206827e-01 |  4.813459 |  1.592585e-06 |\n",
       "| Gr_Liv_Area                |  0.000164538 | 4.902043e-06 | 33.565196 | 5.986204e-197 |\n",
       "| Year_Built                 |  0.001802561 | 1.506935e-04 | 11.961773 |  6.445008e-32 |\n",
       "| Neighborhood_College_Creek | -0.044738016 | 3.681485e-02 | -1.215217 |  2.244245e-01 |\n",
       "| Neighborhood_Old_Town      | -0.072320903 | 1.392799e-02 | -5.192486 |  2.281864e-07 |\n",
       "| Neighborhood_Edwards       | -0.124412608 | 3.083696e-02 | -4.034529 |  5.673329e-05 |\n",
       "\n"
      ],
      "text/plain": [
       "  term                       estimate     std.error    statistic p.value      \n",
       "1 (Intercept)                 1.543593023 3.206827e-01  4.813459  1.592585e-06\n",
       "2 Gr_Liv_Area                 0.000164538 4.902043e-06 33.565196 5.986204e-197\n",
       "3 Year_Built                  0.001802561 1.506935e-04 11.961773  6.445008e-32\n",
       "4 Neighborhood_College_Creek -0.044738016 3.681485e-02 -1.215217  2.244245e-01\n",
       "5 Neighborhood_Old_Town      -0.072320903 1.392799e-02 -5.192486  2.281864e-07\n",
       "6 Neighborhood_Edwards       -0.124412608 3.083696e-02 -4.034529  5.673329e-05"
      ]
     },
     "metadata": {},
     "output_type": "display_data"
    }
   ],
   "source": [
    "lm_res$.extracts[[2]][[1]][[1]] %>% head"
   ]
  },
  {
   "cell_type": "markdown",
   "id": "39e453e0",
   "metadata": {},
   "source": [
    "- 모든 10번의 리샘플링에서의 가중치 추출"
   ]
  },
  {
   "cell_type": "code",
   "execution_count": 125,
   "id": "9c5da785",
   "metadata": {},
   "outputs": [],
   "source": [
    "all_coef <- map_dfr(lm_res$.extracts, ~ .x[[1]][[1]])"
   ]
  },
  {
   "cell_type": "code",
   "execution_count": 129,
   "id": "40cb9c49",
   "metadata": {},
   "outputs": [
    {
     "data": {
      "text/html": [
       "<table class=\"dataframe\">\n",
       "<caption>A tibble: 10 × 5</caption>\n",
       "<thead>\n",
       "\t<tr><th scope=col>term</th><th scope=col>estimate</th><th scope=col>std.error</th><th scope=col>statistic</th><th scope=col>p.value</th></tr>\n",
       "\t<tr><th scope=col>&lt;chr&gt;</th><th scope=col>&lt;dbl&gt;</th><th scope=col>&lt;dbl&gt;</th><th scope=col>&lt;dbl&gt;</th><th scope=col>&lt;dbl&gt;</th></tr>\n",
       "</thead>\n",
       "<tbody>\n",
       "\t<tr><td>(Intercept)</td><td>1.476060</td><td>0.3196061</td><td>4.618372</td><td>4.109482e-06</td></tr>\n",
       "\t<tr><td>(Intercept)</td><td>1.543593</td><td>0.3206827</td><td>4.813459</td><td>1.592585e-06</td></tr>\n",
       "\t<tr><td>(Intercept)</td><td>1.377211</td><td>0.3179111</td><td>4.332064</td><td>1.549049e-05</td></tr>\n",
       "\t<tr><td>(Intercept)</td><td>1.461967</td><td>0.3125498</td><td>4.677549</td><td>3.093943e-06</td></tr>\n",
       "\t<tr><td>(Intercept)</td><td>1.484782</td><td>0.3210432</td><td>4.624866</td><td>3.983870e-06</td></tr>\n",
       "\t<tr><td>(Intercept)</td><td>1.474589</td><td>0.3187650</td><td>4.625942</td><td>3.963449e-06</td></tr>\n",
       "\t<tr><td>(Intercept)</td><td>1.512997</td><td>0.3184701</td><td>4.750827</td><td>2.167359e-06</td></tr>\n",
       "\t<tr><td>(Intercept)</td><td>1.424333</td><td>0.3081724</td><td>4.621872</td><td>4.041319e-06</td></tr>\n",
       "\t<tr><td>(Intercept)</td><td>1.927639</td><td>0.3139182</td><td>6.140577</td><td>9.859717e-10</td></tr>\n",
       "\t<tr><td>(Intercept)</td><td>1.514837</td><td>0.3144623</td><td>4.817230</td><td>1.563073e-06</td></tr>\n",
       "</tbody>\n",
       "</table>\n"
      ],
      "text/latex": [
       "A tibble: 10 × 5\n",
       "\\begin{tabular}{lllll}\n",
       " term & estimate & std.error & statistic & p.value\\\\\n",
       " <chr> & <dbl> & <dbl> & <dbl> & <dbl>\\\\\n",
       "\\hline\n",
       "\t (Intercept) & 1.476060 & 0.3196061 & 4.618372 & 4.109482e-06\\\\\n",
       "\t (Intercept) & 1.543593 & 0.3206827 & 4.813459 & 1.592585e-06\\\\\n",
       "\t (Intercept) & 1.377211 & 0.3179111 & 4.332064 & 1.549049e-05\\\\\n",
       "\t (Intercept) & 1.461967 & 0.3125498 & 4.677549 & 3.093943e-06\\\\\n",
       "\t (Intercept) & 1.484782 & 0.3210432 & 4.624866 & 3.983870e-06\\\\\n",
       "\t (Intercept) & 1.474589 & 0.3187650 & 4.625942 & 3.963449e-06\\\\\n",
       "\t (Intercept) & 1.512997 & 0.3184701 & 4.750827 & 2.167359e-06\\\\\n",
       "\t (Intercept) & 1.424333 & 0.3081724 & 4.621872 & 4.041319e-06\\\\\n",
       "\t (Intercept) & 1.927639 & 0.3139182 & 6.140577 & 9.859717e-10\\\\\n",
       "\t (Intercept) & 1.514837 & 0.3144623 & 4.817230 & 1.563073e-06\\\\\n",
       "\\end{tabular}\n"
      ],
      "text/markdown": [
       "\n",
       "A tibble: 10 × 5\n",
       "\n",
       "| term &lt;chr&gt; | estimate &lt;dbl&gt; | std.error &lt;dbl&gt; | statistic &lt;dbl&gt; | p.value &lt;dbl&gt; |\n",
       "|---|---|---|---|---|\n",
       "| (Intercept) | 1.476060 | 0.3196061 | 4.618372 | 4.109482e-06 |\n",
       "| (Intercept) | 1.543593 | 0.3206827 | 4.813459 | 1.592585e-06 |\n",
       "| (Intercept) | 1.377211 | 0.3179111 | 4.332064 | 1.549049e-05 |\n",
       "| (Intercept) | 1.461967 | 0.3125498 | 4.677549 | 3.093943e-06 |\n",
       "| (Intercept) | 1.484782 | 0.3210432 | 4.624866 | 3.983870e-06 |\n",
       "| (Intercept) | 1.474589 | 0.3187650 | 4.625942 | 3.963449e-06 |\n",
       "| (Intercept) | 1.512997 | 0.3184701 | 4.750827 | 2.167359e-06 |\n",
       "| (Intercept) | 1.424333 | 0.3081724 | 4.621872 | 4.041319e-06 |\n",
       "| (Intercept) | 1.927639 | 0.3139182 | 6.140577 | 9.859717e-10 |\n",
       "| (Intercept) | 1.514837 | 0.3144623 | 4.817230 | 1.563073e-06 |\n",
       "\n"
      ],
      "text/plain": [
       "   term        estimate std.error statistic p.value     \n",
       "1  (Intercept) 1.476060 0.3196061 4.618372  4.109482e-06\n",
       "2  (Intercept) 1.543593 0.3206827 4.813459  1.592585e-06\n",
       "3  (Intercept) 1.377211 0.3179111 4.332064  1.549049e-05\n",
       "4  (Intercept) 1.461967 0.3125498 4.677549  3.093943e-06\n",
       "5  (Intercept) 1.484782 0.3210432 4.624866  3.983870e-06\n",
       "6  (Intercept) 1.474589 0.3187650 4.625942  3.963449e-06\n",
       "7  (Intercept) 1.512997 0.3184701 4.750827  2.167359e-06\n",
       "8  (Intercept) 1.424333 0.3081724 4.621872  4.041319e-06\n",
       "9  (Intercept) 1.927639 0.3139182 6.140577  9.859717e-10\n",
       "10 (Intercept) 1.514837 0.3144623 4.817230  1.563073e-06"
      ]
     },
     "metadata": {},
     "output_type": "display_data"
    }
   ],
   "source": [
    "all_coef %>% filter(term == \"(Intercept)\")"
   ]
  }
 ],
 "metadata": {
  "kernelspec": {
   "display_name": "R-4.3.2",
   "language": "R",
   "name": "ir"
  },
  "language_info": {
   "codemirror_mode": "r",
   "file_extension": ".r",
   "mimetype": "text/x-r-source",
   "name": "R",
   "pygments_lexer": "r",
   "version": "4.3.2"
  }
 },
 "nbformat": 4,
 "nbformat_minor": 5
}
