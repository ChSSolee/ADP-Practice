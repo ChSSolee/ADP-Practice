{
 "cells": [
  {
   "cell_type": "markdown",
   "id": "cc12322a",
   "metadata": {},
   "source": [
    "# 14. 범주형 데이터 인코딩\n",
    "- 모델링의 구현에는 범주형 변수에 대한 수치형 변환이 필요\n"
   ]
  },
  {
   "cell_type": "markdown",
   "id": "23ce8d97",
   "metadata": {},
   "source": [
    "<br>\n",
    "\n",
    "## 14.01. 인코딩\n",
    "- 트리나 규칙을 기반으로 하는 모델과 같은 소수의 모델은 기본적으로 범주형 데이터를 처리할 수 있으며, 이러한 종류의 기능을 인코딩하거나 변환할 필요가 없음. \n",
    "\n",
    "<br>\n",
    "\n",
    "- 기본적으로 범주형 변수를 처리할 수 있는 이러한 모델은, 수치형 변수도 처리할 수 있으므로 이러한 변수의 변환이나 인코딩을 선택적으로 만들 수 있음 \n",
    "    \n",
    "    - **변환되지 않은 범주형 변수가 있는 벤치마크 데이터 세트를 사용하여, 동일한 기능에 대해 변환된 더미 변수와 비교하는 하였을 때,** \n",
    "        \n",
    "        **더미 인코딩을 사용하면 일반적으로 모델 성능이 향상되지는 않지만 모델을 훈련하는 데 더 많은 시간이 필요**"
   ]
  },
  {
   "cell_type": "markdown",
   "id": "6da8d08e",
   "metadata": {},
   "source": [
    "<br>\n",
    "\n",
    "## 14.02. 순서형 변수 인코딩\n",
    "- **\"낮음\", \"중간\", \"높음\"과 같이 순서가 지정된 순서형 변수에 대한 인코딩 전략은, 다항식 기반의 새로운 수치형 변수를 만드는 것**\n",
    "\n",
    "<table class=\"table\" style=\"width: auto !important; margin-left: auto; margin-right: auto;\">\n",
    "<caption>\n",
    "<span id=\"tab:encoding-ordered-table\"></span>\n",
    "</caption>\n",
    "<thead>\n",
    "<tr>\n",
    "<th style=\"text-align:left;\">\n",
    "Raw Data\n",
    "</th>\n",
    "<th style=\"text-align:right;\">\n",
    "Linear\n",
    "</th>\n",
    "<th style=\"text-align:right;\">\n",
    "Quadratic\n",
    "</th>\n",
    "<th style=\"text-align:right;\">\n",
    "Cubic\n",
    "</th>\n",
    "<th style=\"text-align:right;\">\n",
    "Quartic\n",
    "</th>\n",
    "</tr>\n",
    "</thead>\n",
    "<tbody>\n",
    "<tr>\n",
    "<td style=\"text-align:left;\">\n",
    "none\n",
    "</td>\n",
    "<td style=\"text-align:right;\">\n",
    "-0.63\n",
    "</td>\n",
    "<td style=\"text-align:right;\">\n",
    "0.53\n",
    "</td>\n",
    "<td style=\"text-align:right;\">\n",
    "-0.32\n",
    "</td>\n",
    "<td style=\"text-align:right;\">\n",
    "0.12\n",
    "</td>\n",
    "</tr>\n",
    "<tr>\n",
    "<td style=\"text-align:left;\">\n",
    "a little\n",
    "</td>\n",
    "<td style=\"text-align:right;\">\n",
    "-0.32\n",
    "</td>\n",
    "<td style=\"text-align:right;\">\n",
    "-0.27\n",
    "</td>\n",
    "<td style=\"text-align:right;\">\n",
    "0.63\n",
    "</td>\n",
    "<td style=\"text-align:right;\">\n",
    "-0.48\n",
    "</td>\n",
    "</tr>\n",
    "<tr>\n",
    "<td style=\"text-align:left;\">\n",
    "some\n",
    "</td>\n",
    "<td style=\"text-align:right;\">\n",
    "0.00\n",
    "</td>\n",
    "<td style=\"text-align:right;\">\n",
    "-0.53\n",
    "</td>\n",
    "<td style=\"text-align:right;\">\n",
    "0.00\n",
    "</td>\n",
    "<td style=\"text-align:right;\">\n",
    "0.72\n",
    "</td>\n",
    "</tr>\n",
    "<tr>\n",
    "<td style=\"text-align:left;\">\n",
    "a bunch\n",
    "</td>\n",
    "<td style=\"text-align:right;\">\n",
    "0.32\n",
    "</td>\n",
    "<td style=\"text-align:right;\">\n",
    "-0.27\n",
    "</td>\n",
    "<td style=\"text-align:right;\">\n",
    "-0.63\n",
    "</td>\n",
    "<td style=\"text-align:right;\">\n",
    "-0.48\n",
    "</td>\n",
    "</tr>\n",
    "<tr>\n",
    "<td style=\"text-align:left;\">\n",
    "copious amounts\n",
    "</td>\n",
    "<td style=\"text-align:right;\">\n",
    "0.63\n",
    "</td>\n",
    "<td style=\"text-align:right;\">\n",
    "0.53\n",
    "</td>\n",
    "<td style=\"text-align:right;\">\n",
    "0.32\n",
    "</td>\n",
    "<td style=\"text-align:right;\">\n",
    "0.12\n",
    "</td>\n",
    "</tr>\n",
    "</tbody>\n",
    "</table>"
   ]
  },
  {
   "cell_type": "markdown",
   "id": "e82d7545",
   "metadata": {},
   "source": [
    "- **혹은 순서형 변수를 일반 범주형 변수로 변환 하거나, (`step_unorder()`)**\n",
    "    \n",
    "    **순서형 변수의 각 등급을 특정 숫자로 치환하여 수치형 변수로 변환 (`step_ordinalscore()`)**"
   ]
  },
  {
   "cell_type": "markdown",
   "id": "efaead94",
   "metadata": {},
   "source": [
    "<br>\n",
    "\n",
    "## 14.03. 인코딩 변수 활용\n",
    "- 더미 또는 명목형 변수보다 더 복잡한 인코딩을 위한 여러 옵션이 존재. \n",
    "* **효과(effect) 또는 가능도(likelihood) 인코딩 이라는 방법은 원래 범주형 변수를 해당 데이터의 효과를 측정하는 단일 숫자 열로 대체(Micci-Barreca 2001 ; Zumel 및 Mount 2019)**\n",
    "    - 효과 인코딩은 범주형 변수의 수준이 많을 때 잘 작동\n",
    "    "
   ]
  },
  {
   "cell_type": "code",
   "execution_count": 2,
   "id": "9d96fb16",
   "metadata": {},
   "outputs": [],
   "source": [
    "library(tidyverse)\n",
    "library(tidymodels)\n",
    "ggplot2::theme_set(theme_bw())\n",
    "tidymodels_prefer()"
   ]
  },
  {
   "cell_type": "code",
   "execution_count": 4,
   "id": "e9e6eef2",
   "metadata": {},
   "outputs": [],
   "source": [
    "ames <- ames %>% mutate(Sale_Price = log10(Sale_Price))\n",
    "set.seed(20221010)\n",
    "ames_split <- initial_split(ames, prop = 0.8, strata = Sale_Price)\n",
    "ames_train <- training(ames_split)\n",
    "ames_test <- testing(ames_split)"
   ]
  },
  {
   "cell_type": "markdown",
   "id": "15bcacac",
   "metadata": {},
   "source": [
    "<br>\n",
    "\n",
    "### 일반 효과 인코딩\n",
    "\n",
    "#### `step_lencode()`\n",
    "- 범주형 변수의 각 수준을, 범주별 평균 혹은 중앙값으로 대체"
   ]
  },
  {
   "cell_type": "markdown",
   "id": "a1bbeb42",
   "metadata": {},
   "source": [
    "- `Neighborhood` 별 `Sale_Price`의 평균과 95% 신뢰구간"
   ]
  },
  {
   "cell_type": "code",
   "execution_count": 6,
   "id": "0155c3e8",
   "metadata": {},
   "outputs": [
    {
     "data": {
      "image/png": "[encoded data removed]",
      "text/plain": [
       "plot without title"
      ]
     },
     "metadata": {
      "image/png": {
       "height": 420,
       "width": 420
      }
     },
     "output_type": "display_data"
    }
   ],
   "source": [
    "ames_train %>%\n",
    "    group_by(Neighborhood) %>%\n",
    "    summarize(mean = mean(Sale_Price),\n",
    "            std_err = sd(Sale_Price) / sqrt(length(Sale_Price))) %>% \n",
    "    ggplot(aes(y = reorder(Neighborhood, mean), x = mean)) + \n",
    "    geom_point() +\n",
    "    geom_errorbar(aes(xmin = mean - 1.64 * std_err, xmax = mean + 1.64 * std_err)) +\n",
    "    labs(y = NULL, x = \"Price (mean, log scale)\")"
   ]
  },
  {
   "cell_type": "markdown",
   "id": "a2a9766e",
   "metadata": {},
   "source": [
    "<br>\n",
    "\n",
    "### GLM 효과 인코딩\n",
    "#### `step_lencode_glm()` : GLM 모델을 통해 얻은 계수를 범주형 변수의 각 수준을 인코딩하는 값으로 대체\n",
    "- 반응변수와 설명변수 간의 관계를 나타내는 **일반화 선형 모델**을 적합하여 수행\n",
    "\n",
    "- 타겟 인코딩의 주의점 : 범주형 변수에 대한 타겟 인코딩은, **실제 모델 내에 인코딩을 위한 미니모델을 새성하는 것이므로 과적합의 가능성이 존재**"
   ]
  },
  {
   "cell_type": "code",
   "execution_count": 7,
   "id": "1093689d",
   "metadata": {},
   "outputs": [],
   "source": [
    "library(embed)"
   ]
  },
  {
   "cell_type": "code",
   "execution_count": 8,
   "id": "3323e922",
   "metadata": {},
   "outputs": [
    {
     "name": "stderr",
     "output_type": "stream",
     "text": [
      "\n",
      "\n",
      "\u001b[36m──\u001b[39m \u001b[1mRecipe\u001b[22m \u001b[36m──────────────────────────────────────────────────────────────────────────────────────────────────────────────\u001b[39m\n",
      "\n",
      "\n",
      "\n",
      "── Inputs \n",
      "\n",
      "Number of variables by role\n",
      "\n",
      "outcome:   1\n",
      "predictor: 6\n",
      "\n",
      "\n",
      "\n",
      "── Operations \n",
      "\n",
      "\u001b[36m•\u001b[39m Log transformation on: \u001b[34mGr_Liv_Area\u001b[39m\n",
      "\n",
      "\u001b[36m•\u001b[39m Linear embedding for factors via GLM for: \u001b[34mNeighborhood\u001b[39m\n",
      "\n",
      "\u001b[36m•\u001b[39m Dummy variables from: \u001b[34mall_nominal_predictors()\u001b[39m\n",
      "\n",
      "\u001b[36m•\u001b[39m Interactions with: \u001b[34mGr_Liv_Area:starts_with(\"Bldg_Type_\")\u001b[39m\n",
      "\n",
      "\u001b[36m•\u001b[39m Natural splines on: \u001b[34mLatitude\u001b[39m and \u001b[34mLongitude\u001b[39m\n",
      "\n"
     ]
    }
   ],
   "source": [
    "ames_glm <- recipe(Sale_Price ~ Neighborhood + Gr_Liv_Area + Year_Built + Bldg_Type + \n",
    "                   Latitude + Longitude, data = ames_train) %>%\n",
    "    step_log(Gr_Liv_Area, base = 10) %>% \n",
    "    step_lencode_glm(Neighborhood, outcome = vars(Sale_Price)) %>%\n",
    "    step_dummy(all_nominal_predictors()) %>% \n",
    "    step_interact(~ Gr_Liv_Area:starts_with(\"Bldg_Type_\") ) %>% \n",
    "    step_ns(Latitude, Longitude, deg_free = 20)\n",
    "\n",
    "ames_glm"
   ]
  },
  {
   "cell_type": "code",
   "execution_count": 23,
   "id": "bbe00f21",
   "metadata": {},
   "outputs": [],
   "source": [
    "glm_estimates <- prep(ames_glm) %>%\n",
    "    tidy(number = 2)"
   ]
  },
  {
   "cell_type": "code",
   "execution_count": 55,
   "id": "41217d4c",
   "metadata": {},
   "outputs": [
    {
     "data": {
      "text/html": [
       "<table class=\"dataframe\">\n",
       "<caption>A tibble: 1 × 4</caption>\n",
       "<thead>\n",
       "\t<tr><th scope=col>level</th><th scope=col>value</th><th scope=col>terms</th><th scope=col>id</th></tr>\n",
       "\t<tr><th scope=col>&lt;chr&gt;</th><th scope=col>&lt;dbl&gt;</th><th scope=col>&lt;chr&gt;</th><th scope=col>&lt;chr&gt;</th></tr>\n",
       "</thead>\n",
       "<tbody>\n",
       "\t<tr><td>..new</td><td>5.233151</td><td>Neighborhood</td><td>lencode_glm_jcstX</td></tr>\n",
       "</tbody>\n",
       "</table>\n"
      ],
      "text/latex": [
       "A tibble: 1 × 4\n",
       "\\begin{tabular}{llll}\n",
       " level & value & terms & id\\\\\n",
       " <chr> & <dbl> & <chr> & <chr>\\\\\n",
       "\\hline\n",
       "\t ..new & 5.233151 & Neighborhood & lencode\\_glm\\_jcstX\\\\\n",
       "\\end{tabular}\n"
      ],
      "text/markdown": [
       "\n",
       "A tibble: 1 × 4\n",
       "\n",
       "| level &lt;chr&gt; | value &lt;dbl&gt; | terms &lt;chr&gt; | id &lt;chr&gt; |\n",
       "|---|---|---|---|\n",
       "| ..new | 5.233151 | Neighborhood | lencode_glm_jcstX |\n",
       "\n"
      ],
      "text/plain": [
       "  level value    terms        id               \n",
       "1 ..new 5.233151 Neighborhood lencode_glm_jcstX"
      ]
     },
     "metadata": {},
     "output_type": "display_data"
    }
   ],
   "source": [
    "glm_estimates %>%\n",
    "    filter(level == \"..new\")"
   ]
  },
  {
   "cell_type": "markdown",
   "id": "5741f70e",
   "metadata": {},
   "source": [
    "<br>\n",
    "\n",
    "### 부분 풀링 효과 인코딩\n",
    "- **범주가 많을수록 범주형 변수의 범주별 불균형이 존재할 가능성이 높음**\n",
    "    \n",
    "    $\\rightarrow$ **부분 풀링을 사용하여, 표본 크기가 작은 범주는 전체 평균 효과 값으로 대체**\n",
    "\n",
    "<br>\n",
    "\n",
    "- 각 수준의 효과는 혼합 또는 계층적 GLM모델을 사용하여 추정"
   ]
  },
  {
   "cell_type": "markdown",
   "id": "efb44557",
   "metadata": {},
   "source": [
    "<br>\n",
    "\n",
    "#### `step_lencode_mixed()`"
   ]
  },
  {
   "cell_type": "code",
   "execution_count": 56,
   "id": "530703ef",
   "metadata": {},
   "outputs": [
    {
     "name": "stderr",
     "output_type": "stream",
     "text": [
      "\n",
      "\n",
      "\u001b[36m──\u001b[39m \u001b[1mRecipe\u001b[22m \u001b[36m──────────────────────────────────────────────────────────────────────────────────────────────────────────────\u001b[39m\n",
      "\n",
      "\n",
      "\n",
      "── Inputs \n",
      "\n",
      "Number of variables by role\n",
      "\n",
      "outcome:   1\n",
      "predictor: 6\n",
      "\n",
      "\n",
      "\n",
      "── Operations \n",
      "\n",
      "\u001b[36m•\u001b[39m Log transformation on: \u001b[34mGr_Liv_Area\u001b[39m\n",
      "\n",
      "\u001b[36m•\u001b[39m Linear embedding for factors via mixed effects for: \u001b[34mNeighborhood\u001b[39m\n",
      "\n",
      "\u001b[36m•\u001b[39m Dummy variables from: \u001b[34mall_nominal_predictors()\u001b[39m\n",
      "\n",
      "\u001b[36m•\u001b[39m Interactions with: \u001b[34mGr_Liv_Area:starts_with(\"Bldg_Type_\")\u001b[39m\n",
      "\n",
      "\u001b[36m•\u001b[39m Natural splines on: \u001b[34mLatitude\u001b[39m and \u001b[34mLongitude\u001b[39m\n",
      "\n"
     ]
    }
   ],
   "source": [
    "ames_mixed <- recipe(Sale_Price ~ Neighborhood + Gr_Liv_Area + Year_Built + Bldg_Type + \n",
    "                     Latitude + Longitude, data = ames_train) %>%\n",
    "    step_log(Gr_Liv_Area, base = 10) %>% \n",
    "    step_lencode_mixed(Neighborhood, outcome = vars(Sale_Price)) %>%\n",
    "    step_dummy(all_nominal_predictors()) %>% \n",
    "    step_interact( ~ Gr_Liv_Area:starts_with(\"Bldg_Type_\") ) %>% \n",
    "    step_ns(Latitude, Longitude, deg_free = 20)\n",
    "\n",
    "ames_mixed"
   ]
  },
  {
   "cell_type": "code",
   "execution_count": 58,
   "id": "70085372",
   "metadata": {},
   "outputs": [],
   "source": [
    "mixed_estimates <- prep(ames_mixed) %>%\n",
    "    tidy(number = 2)"
   ]
  },
  {
   "cell_type": "markdown",
   "id": "e2e5d105",
   "metadata": {},
   "source": [
    "<br>\n",
    "\n",
    "#### 풀링하지 않은 효과 인코딩 (`step_lencode_glm`)과의 비교\n",
    "- 풀링하지 않은 인코딩 결과와 비교할 때, 대부분의 효과 추정치는 거의 동일하지만, \n",
    "    \n",
    "    빈도가 가장 작은 범주들은 평균 효과값으로 대체되었기에, 동일하지 않음"
   ]
  },
  {
   "cell_type": "code",
   "execution_count": 61,
   "id": "4aab78ce",
   "metadata": {},
   "outputs": [
    {
     "name": "stderr",
     "output_type": "stream",
     "text": [
      "\u001b[1m\u001b[22mJoining with `by = join_by(level)`\n",
      "Warning message:\n",
      "\"\u001b[1m\u001b[22mRemoved 1 rows containing missing values (`geom_point()`).\"\n"
     ]
    },
    {
     "data": {
      "image/png": "[encoded data removed]",
      "text/plain": [
       "plot without title"
      ]
     },
     "metadata": {
      "image/png": {
       "height": 420,
       "width": 420
      }
     },
     "output_type": "display_data"
    }
   ],
   "source": [
    "glm_estimates %>%\n",
    "    rename(`no pooling` = value) %>%\n",
    "    left_join(\n",
    "        mixed_estimates %>%\n",
    "            rename(`partial pooling` = value), by = \"level\"\n",
    "    ) %>%\n",
    "    left_join(\n",
    "        ames_train %>% \n",
    "            count(Neighborhood) %>% \n",
    "            mutate(level = as.character(Neighborhood))\n",
    "    ) %>%\n",
    "    ggplot(aes(`no pooling`, `partial pooling`, size = sqrt(n))) +\n",
    "    geom_abline(color = \"gray50\", lty = 2) +\n",
    "    geom_point(alpha = 0.7) +\n",
    "    coord_fixed()"
   ]
  },
  {
   "cell_type": "markdown",
   "id": "d9bf8ac8",
   "metadata": {},
   "source": [
    "<br>\n",
    "\n",
    "## 14.04. 변수 해싱\n",
    "- 해싱 함수는 가변 크기의 입력을 가져와 이를 고정 크기의 출력에 매핑되며, 일반적으로 암호화 및 데이터베이스에 사용\n",
    "- 기능 해싱에서 가능한 해시 수는 하이퍼파라미터이며 모델 개발자가 정수 해시의 모듈로 계산을 통해 설정\n",
    "\n",
    "\n",
    "<br>\n",
    "\n",
    "### 해싱\n",
    "#### `rlang::hash()` : 128비트 해시를 생성 ($2^{128}$의 가능 해시 값이 존재)\n",
    "(높은 카디널리티 변수(다양한 범주의 변수)에는 유용하지 않은 수준)\n",
    "\n",
    "\n",
    "<br>\n",
    "\n",
    "- 16개의 가능한 해시 값\n"
   ]
  },
  {
   "cell_type": "code",
   "execution_count": 70,
   "id": "848edf8a",
   "metadata": {},
   "outputs": [],
   "source": [
    "library(rlang)"
   ]
  },
  {
   "cell_type": "code",
   "execution_count": 71,
   "id": "0bb11eac",
   "metadata": {},
   "outputs": [],
   "source": [
    "ames_hashed <- ames_train %>%\n",
    "    mutate(Hash = map_chr(Neighborhood, hash))"
   ]
  },
  {
   "cell_type": "markdown",
   "id": "8bcdc801",
   "metadata": {},
   "source": [
    "이제 원본 데이터의 28개 지역이나 엄청나게 많은 수의 원본 해시 대신 16개의 해시 값이 있습니다. 이 방법은 매우 빠르고 메모리 효율적이며 가능한 범주 수가 많을 때 좋은 전략"
   ]
  },
  {
   "cell_type": "code",
   "execution_count": 79,
   "id": "8aa4bb2f",
   "metadata": {},
   "outputs": [
    {
     "data": {
      "text/html": [
       "<table class=\"dataframe\">\n",
       "<caption>A tibble: 6 × 2</caption>\n",
       "<thead>\n",
       "\t<tr><th scope=col>Neighborhood</th><th scope=col>Hash</th></tr>\n",
       "\t<tr><th scope=col>&lt;fct&gt;</th><th scope=col>&lt;dbl&gt;</th></tr>\n",
       "</thead>\n",
       "<tbody>\n",
       "\t<tr><td>North_Ames     </td><td>9</td></tr>\n",
       "\t<tr><td>North_Ames     </td><td>9</td></tr>\n",
       "\t<tr><td>North_Ames     </td><td>9</td></tr>\n",
       "\t<tr><td>Briardale      </td><td>0</td></tr>\n",
       "\t<tr><td>Northpark_Villa</td><td>4</td></tr>\n",
       "\t<tr><td>Northpark_Villa</td><td>4</td></tr>\n",
       "</tbody>\n",
       "</table>\n"
      ],
      "text/latex": [
       "A tibble: 6 × 2\n",
       "\\begin{tabular}{ll}\n",
       " Neighborhood & Hash\\\\\n",
       " <fct> & <dbl>\\\\\n",
       "\\hline\n",
       "\t North\\_Ames      & 9\\\\\n",
       "\t North\\_Ames      & 9\\\\\n",
       "\t North\\_Ames      & 9\\\\\n",
       "\t Briardale       & 0\\\\\n",
       "\t Northpark\\_Villa & 4\\\\\n",
       "\t Northpark\\_Villa & 4\\\\\n",
       "\\end{tabular}\n"
      ],
      "text/markdown": [
       "\n",
       "A tibble: 6 × 2\n",
       "\n",
       "| Neighborhood &lt;fct&gt; | Hash &lt;dbl&gt; |\n",
       "|---|---|\n",
       "| North_Ames      | 9 |\n",
       "| North_Ames      | 9 |\n",
       "| North_Ames      | 9 |\n",
       "| Briardale       | 0 |\n",
       "| Northpark_Villa | 4 |\n",
       "| Northpark_Villa | 4 |\n",
       "\n"
      ],
      "text/plain": [
       "  Neighborhood    Hash\n",
       "1 North_Ames      9   \n",
       "2 North_Ames      9   \n",
       "3 North_Ames      9   \n",
       "4 Briardale       0   \n",
       "5 Northpark_Villa 4   \n",
       "6 Northpark_Villa 4   "
      ]
     },
     "metadata": {},
     "output_type": "display_data"
    }
   ],
   "source": [
    "ames_hashed %>%\n",
    "    mutate(Hash = strtoi(substr(Hash, 26, 32), base = 16L),  # R이 처리할 수 있는 정수에 대해 더 작은 해시를 생성\n",
    "           Hash = Hash %% 16) %>%\n",
    "    select(Neighborhood, Hash) %>% head"
   ]
  },
  {
   "cell_type": "markdown",
   "id": "97090423",
   "metadata": {},
   "source": [
    "- 원본 데이터의 28개의 범주와 많은 수의 원본 해시 대신, 16개의 해시 값으로 축소\n",
    "    \n",
    "    $\\rightarrow$ 빠르고 메모리 효율적이며 가능한 범주 수가 많을 때 좋은 전략"
   ]
  },
  {
   "cell_type": "code",
   "execution_count": 86,
   "id": "6ca07d30",
   "metadata": {},
   "outputs": [
    {
     "data": {
      "text/html": [
       "<table class=\"dataframe\">\n",
       "<caption>A tibble: 14 × 1</caption>\n",
       "<thead>\n",
       "\t<tr><th scope=col>Hash</th></tr>\n",
       "\t<tr><th scope=col>&lt;dbl&gt;</th></tr>\n",
       "</thead>\n",
       "<tbody>\n",
       "\t<tr><td> 9</td></tr>\n",
       "\t<tr><td> 0</td></tr>\n",
       "\t<tr><td> 4</td></tr>\n",
       "\t<tr><td> 8</td></tr>\n",
       "\t<tr><td> 7</td></tr>\n",
       "\t<tr><td>14</td></tr>\n",
       "\t<tr><td> 2</td></tr>\n",
       "\t<tr><td>10</td></tr>\n",
       "\t<tr><td>15</td></tr>\n",
       "\t<tr><td>13</td></tr>\n",
       "\t<tr><td> 6</td></tr>\n",
       "\t<tr><td> 1</td></tr>\n",
       "\t<tr><td> 5</td></tr>\n",
       "\t<tr><td> 3</td></tr>\n",
       "</tbody>\n",
       "</table>\n"
      ],
      "text/latex": [
       "A tibble: 14 × 1\n",
       "\\begin{tabular}{l}\n",
       " Hash\\\\\n",
       " <dbl>\\\\\n",
       "\\hline\n",
       "\t  9\\\\\n",
       "\t  0\\\\\n",
       "\t  4\\\\\n",
       "\t  8\\\\\n",
       "\t  7\\\\\n",
       "\t 14\\\\\n",
       "\t  2\\\\\n",
       "\t 10\\\\\n",
       "\t 15\\\\\n",
       "\t 13\\\\\n",
       "\t  6\\\\\n",
       "\t  1\\\\\n",
       "\t  5\\\\\n",
       "\t  3\\\\\n",
       "\\end{tabular}\n"
      ],
      "text/markdown": [
       "\n",
       "A tibble: 14 × 1\n",
       "\n",
       "| Hash &lt;dbl&gt; |\n",
       "|---|\n",
       "|  9 |\n",
       "|  0 |\n",
       "|  4 |\n",
       "|  8 |\n",
       "|  7 |\n",
       "| 14 |\n",
       "|  2 |\n",
       "| 10 |\n",
       "| 15 |\n",
       "| 13 |\n",
       "|  6 |\n",
       "|  1 |\n",
       "|  5 |\n",
       "|  3 |\n",
       "\n"
      ],
      "text/plain": [
       "   Hash\n",
       "1   9  \n",
       "2   0  \n",
       "3   4  \n",
       "4   8  \n",
       "5   7  \n",
       "6  14  \n",
       "7   2  \n",
       "8  10  \n",
       "9  15  \n",
       "10 13  \n",
       "11  6  \n",
       "12  1  \n",
       "13  5  \n",
       "14  3  "
      ]
     },
     "metadata": {},
     "output_type": "display_data"
    }
   ],
   "source": [
    "ames_hashed %>%\n",
    "    mutate(Hash = strtoi(substr(Hash, 26, 32), base = 16L),  # R이 처리할 수 있는 정수에 대해 더 작은 해시를 생성\n",
    "           Hash = Hash %% 16) %>%\n",
    "    select(Hash) %>% distinct"
   ]
  },
  {
   "cell_type": "markdown",
   "id": "8d2ba898",
   "metadata": {},
   "source": [
    "<br>\n",
    "\n",
    "#### 충돌 \n",
    "- **충돌 (collision, aliasing) : 서로 다른 범주 값에 동일한 해시값이 매핑 됨**  \n",
    "    \n",
    "    $\\rightarrow$ **원본 데이터에는 28개의 범주가 있지만, 해싱을 통해 16개의 값으로 변환**\n",
    "\n",
    "<br>\n",
    "\n",
    "#### 변수 해싱의 고려사항\n",
    "-  **해시 함수는 되돌릴 수 없으므로 기능 해싱을 직접 해석할 수 없으며, 해시 값에서 입력 범주 수준이 무엇인지 또는 충돌이 발생했는지 확인할 수 없음**\n",
    "\n",
    "- **해시 값의 수는 하이퍼파라미터이므로, 특정 모델링 접근 방식에 가장 적합한 값을 결정하려면 여러 값을 시도해야 함**\n",
    "    - **해시 값 수가 적을수록 충돌이 더 많이 발생하지만, 숫자가 높다고 해서 원래의 높은 카디널리티 변수에 비해 개선되지 않을 수도 있음**\n",
    "\n",
    "- **변수 해싱은 미리 결정된 더미 변수에 의존하지 않기 때문에, 예측 시 새로운 범주 수준을 처리할 수 있음**\n"
   ]
  },
  {
   "cell_type": "markdown",
   "id": "a055ba9b",
   "metadata": {},
   "source": [
    "<br>\n",
    "\n",
    "#### `step_dummy_hash()` "
   ]
  },
  {
   "cell_type": "code",
   "execution_count": 87,
   "id": "29a6231a",
   "metadata": {},
   "outputs": [],
   "source": [
    "library(textrecipes)"
   ]
  },
  {
   "cell_type": "code",
   "execution_count": 88,
   "id": "61e72eaa",
   "metadata": {},
   "outputs": [],
   "source": [
    "ames_hash <- recipe(Sale_Price ~ Neighborhood + Gr_Liv_Area + Year_Built + Bldg_Type + \n",
    "                    Latitude + Longitude, data = ames_train) %>%\n",
    "    step_log(Gr_Liv_Area, base = 10) %>% \n",
    "    step_dummy_hash(Neighborhood, signed = FALSE, num_terms = 16L) %>%\n",
    "    step_dummy(all_nominal_predictors()) %>% \n",
    "    step_interact( ~ Gr_Liv_Area:starts_with(\"Bldg_Type_\") ) %>% \n",
    "    step_ns(Latitude, Longitude, deg_free = 20)"
   ]
  },
  {
   "cell_type": "code",
   "execution_count": 89,
   "id": "61cf865d",
   "metadata": {},
   "outputs": [
    {
     "name": "stderr",
     "output_type": "stream",
     "text": [
      "\n",
      "\n",
      "\u001b[36m──\u001b[39m \u001b[1mRecipe\u001b[22m \u001b[36m──────────────────────────────────────────────────────────────────────────────────────────────────────────────\u001b[39m\n",
      "\n",
      "\n",
      "\n",
      "── Inputs \n",
      "\n",
      "Number of variables by role\n",
      "\n",
      "outcome:   1\n",
      "predictor: 6\n",
      "\n",
      "\n",
      "\n",
      "── Operations \n",
      "\n",
      "\u001b[36m•\u001b[39m Log transformation on: \u001b[34mGr_Liv_Area\u001b[39m\n",
      "\n",
      "\u001b[36m•\u001b[39m Feature hashing with: \u001b[34mNeighborhood\u001b[39m\n",
      "\n",
      "\u001b[36m•\u001b[39m Dummy variables from: \u001b[34mall_nominal_predictors()\u001b[39m\n",
      "\n",
      "\u001b[36m•\u001b[39m Interactions with: \u001b[34mGr_Liv_Area:starts_with(\"Bldg_Type_\")\u001b[39m\n",
      "\n",
      "\u001b[36m•\u001b[39m Natural splines on: \u001b[34mLatitude\u001b[39m and \u001b[34mLongitude\u001b[39m\n",
      "\n"
     ]
    }
   ],
   "source": [
    "ames_hash"
   ]
  }
 ],
 "metadata": {
  "kernelspec": {
   "display_name": "R-4.3.2",
   "language": "R",
   "name": "ir"
  },
  "language_info": {
   "codemirror_mode": "r",
   "file_extension": ".r",
   "mimetype": "text/x-r-source",
   "name": "R",
   "pygments_lexer": "r",
   "version": "4.3.2"
  }
 },
 "nbformat": 4,
 "nbformat_minor": 5
}
