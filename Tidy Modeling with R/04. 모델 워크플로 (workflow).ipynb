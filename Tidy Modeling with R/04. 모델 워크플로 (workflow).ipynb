{
 "cells": [
  {
   "cell_type": "markdown",
   "id": "38d2d2fb",
   "metadata": {},
   "source": [
    "# 04. Model Workflow"
   ]
  },
  {
   "cell_type": "code",
   "execution_count": 4,
   "id": "3c7babfa",
   "metadata": {},
   "outputs": [],
   "source": [
    "library(tidyverse)\n",
    "library(tidymodels)\n",
    "ggplot2::theme_set(theme_bw())\n",
    "tidymodels_prefer()"
   ]
  },
  {
   "cell_type": "markdown",
   "id": "674e7762",
   "metadata": {},
   "source": [
    "<br>\n",
    "\n",
    "## 04.01. 모델의 시작과 끝\n",
    "- 일부 간단한 데이터 세트의 경우, 모델 자체를 적합하는 것이 프로세스의 전부일 수 있음\n",
    "- 하지만 모델이 적합되기 전, 다양한 선택과 추가 단계가 필요한 경우가 존재\n",
    "    - 예1) 모델링에 $p$개의 설명변수를 사용할 때, 일반적으로 $p$보다 많은 개수의 변수가 존재\n",
    "    \n",
    "        $\\rightarrow$ 탐색적 데이터 분석이나 도메인 지식을 활용하여 일부 예측 변수가 분석에서 제외        \n",
    "        \n",
    "    <br>\n",
    "    \n",
    "    - 예2) 결측값에 대한 전처리\n",
    "    - 예3) PCA와 같은 설명 변수로 새로운 변수를 생성\n",
    "\n",
    "<br>\n",
    "\n",
    "- 이러한 예는 모델이 적합하기 전에 발생하는 단계와 관련되어 있지만 모델이 생성된 후에 발생하는 작업도 있을 수 있음\n",
    "\n",
    "<br>\n",
    "\n",
    "- **매개변수를 추정하는데 사용되는 특정 모델만 맞추는 것이 아니라, 더 넓은 모델링 프로세스에 집중하는 것이 중요**\n",
    "\n",
    "    **전처리 단계, 모델 적합성 및 잠재적인 후처리 활동이 포함**\n",
    "    \n",
    "    $\\rightarrow$ **모델 워크폴로**"
   ]
  },
  {
   "attachments": {
    "bad-workflow%5B1%5D.svg": {
     "image/svg+xml": [
      "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"
     ]
    }
   },
   "cell_type": "markdown",
   "id": "4af22299",
   "metadata": {},
   "source": [
    "<br>\n",
    "\n",
    "### PCA(주성분 분석) 예시\n",
    "\n",
    "<br>\n",
    "\n",
    "- **PCA 단계를 모델링 작업 흐름의 일부가 아닌 것으로 간주** $\\rightarrow$  **잘못된 모델**\n",
    "    - 모델 워크플로에 PCA가 포함되지 않음으로써, PCA 효과를 적절하게 측정할 수 없음\n",
    "\n",
    "![bad-workflow%5B1%5D.svg](attachment:bad-workflow%5B1%5D.svg)"
   ]
  },
  {
   "attachments": {
    "proper-workflow%5B1%5D.svg": {
     "image/svg+xml": [
      "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"
     ]
    }
   },
   "cell_type": "markdown",
   "id": "2607bcbf",
   "metadata": {},
   "source": [
    "\n",
    "<br>\n",
    "\n",
    "- **적절한 모델 : PCA 단계를 모델링 작업 흐름의 일부로 간주**\n",
    "\n",
    "![proper-workflow%5B1%5D.svg](attachment:proper-workflow%5B1%5D.svg)"
   ]
  },
  {
   "cell_type": "markdown",
   "id": "84c23892",
   "metadata": {},
   "source": [
    "<br>\n",
    "\n",
    "## 04.02. 모델 워크플로 기본\n",
    "- **모델링 프로세스의 주요 부분을 객체화**"
   ]
  },
  {
   "cell_type": "code",
   "execution_count": 5,
   "id": "60b3b3ab",
   "metadata": {},
   "outputs": [],
   "source": [
    "ames <- ames %>% mutate(Sale_Price = log10(Sale_Price))\n",
    "set.seed(20221010)\n",
    "ames_split <- initial_split(ames, prop = 0.8, strata = Sale_Price)\n",
    "ames_train <- training(ames_split)\n",
    "ames_test <- testing(ames_split)"
   ]
  },
  {
   "cell_type": "markdown",
   "id": "bc944080",
   "metadata": {},
   "source": [
    "- 모델 생성"
   ]
  },
  {
   "cell_type": "code",
   "execution_count": 6,
   "id": "311b8447",
   "metadata": {},
   "outputs": [],
   "source": [
    "lm_model <- linear_reg() %>% set_engine(\"lm\")"
   ]
  },
  {
   "cell_type": "markdown",
   "id": "412c6bc8",
   "metadata": {},
   "source": [
    "- 워크플로 객체 생성 및 모델 추가"
   ]
  },
  {
   "cell_type": "code",
   "execution_count": 7,
   "id": "8a9ccbfc",
   "metadata": {},
   "outputs": [
    {
     "data": {
      "text/plain": [
       "══ Workflow ════════════════════════════════════════════════════════════════════════════════════════════════════════════\n",
       "\u001b[3mPreprocessor:\u001b[23m None\n",
       "\u001b[3mModel:\u001b[23m linear_reg()\n",
       "\n",
       "── Model ───────────────────────────────────────────────────────────────────────────────────────────────────────────────\n",
       "Linear Regression Model Specification (regression)\n",
       "\n",
       "Computational engine: lm \n"
      ]
     },
     "metadata": {},
     "output_type": "display_data"
    }
   ],
   "source": [
    "lm_wflow <- workflow() %>%\n",
    "    add_model(lm_model)\n",
    "\n",
    "lm_wflow"
   ]
  },
  {
   "cell_type": "markdown",
   "id": "1ca53b9d",
   "metadata": {},
   "source": [
    "- 모델 공식 추가"
   ]
  },
  {
   "cell_type": "code",
   "execution_count": 8,
   "id": "67b3db2b",
   "metadata": {},
   "outputs": [],
   "source": [
    "lm_wflow <- lm_wflow %>%\n",
    "    add_formula(Sale_Price ~ Longitude + Latitude)"
   ]
  },
  {
   "cell_type": "markdown",
   "id": "eee5260f",
   "metadata": {},
   "source": [
    "- 데이터 적합"
   ]
  },
  {
   "cell_type": "code",
   "execution_count": 9,
   "id": "95dbfd3a",
   "metadata": {},
   "outputs": [
    {
     "data": {
      "text/plain": [
       "══ Workflow [trained] ══════════════════════════════════════════════════════════════════════════════════════════════════\n",
       "\u001b[3mPreprocessor:\u001b[23m Formula\n",
       "\u001b[3mModel:\u001b[23m linear_reg()\n",
       "\n",
       "── Preprocessor ────────────────────────────────────────────────────────────────────────────────────────────────────────\n",
       "Sale_Price ~ Longitude + Latitude\n",
       "\n",
       "── Model ───────────────────────────────────────────────────────────────────────────────────────────────────────────────\n",
       "\n",
       "Call:\n",
       "stats::lm(formula = ..y ~ ., data = data)\n",
       "\n",
       "Coefficients:\n",
       "(Intercept)    Longitude     Latitude  \n",
       "   -307.997       -2.042        2.901  \n"
      ]
     },
     "metadata": {},
     "output_type": "display_data"
    }
   ],
   "source": [
    "lm_fit <- fit(lm_wflow, ames_train)\n",
    "lm_fit"
   ]
  },
  {
   "cell_type": "markdown",
   "id": "38208918",
   "metadata": {},
   "source": [
    "- 예측"
   ]
  },
  {
   "cell_type": "code",
   "execution_count": 10,
   "id": "b38ed0c9",
   "metadata": {},
   "outputs": [
    {
     "data": {
      "text/html": [
       "<table class=\"dataframe\">\n",
       "<caption>A tibble: 3 × 1</caption>\n",
       "<thead>\n",
       "\t<tr><th scope=col>.pred</th></tr>\n",
       "\t<tr><th scope=col>&lt;dbl&gt;</th></tr>\n",
       "</thead>\n",
       "<tbody>\n",
       "\t<tr><td>5.284402</td></tr>\n",
       "\t<tr><td>5.245254</td></tr>\n",
       "\t<tr><td>5.238754</td></tr>\n",
       "</tbody>\n",
       "</table>\n"
      ],
      "text/latex": [
       "A tibble: 3 × 1\n",
       "\\begin{tabular}{l}\n",
       " .pred\\\\\n",
       " <dbl>\\\\\n",
       "\\hline\n",
       "\t 5.284402\\\\\n",
       "\t 5.245254\\\\\n",
       "\t 5.238754\\\\\n",
       "\\end{tabular}\n"
      ],
      "text/markdown": [
       "\n",
       "A tibble: 3 × 1\n",
       "\n",
       "| .pred &lt;dbl&gt; |\n",
       "|---|\n",
       "| 5.284402 |\n",
       "| 5.245254 |\n",
       "| 5.238754 |\n",
       "\n"
      ],
      "text/plain": [
       "  .pred   \n",
       "1 5.284402\n",
       "2 5.245254\n",
       "3 5.238754"
      ]
     },
     "metadata": {},
     "output_type": "display_data"
    }
   ],
   "source": [
    "predict(lm_fit, ames_test %>% slice(1:3))"
   ]
  },
  {
   "cell_type": "markdown",
   "id": "52fecefe",
   "metadata": {},
   "source": [
    "- 워크플로 제거 / 수정"
   ]
  },
  {
   "cell_type": "code",
   "execution_count": 11,
   "id": "ca342da5",
   "metadata": {},
   "outputs": [
    {
     "data": {
      "text/plain": [
       "══ Workflow ════════════════════════════════════════════════════════════════════════════════════════════════════════════\n",
       "\u001b[3mPreprocessor:\u001b[23m Formula\n",
       "\u001b[3mModel:\u001b[23m linear_reg()\n",
       "\n",
       "── Preprocessor ────────────────────────────────────────────────────────────────────────────────────────────────────────\n",
       "Sale_Price ~ Longitude\n",
       "\n",
       "── Model ───────────────────────────────────────────────────────────────────────────────────────────────────────────────\n",
       "Linear Regression Model Specification (regression)\n",
       "\n",
       "Computational engine: lm \n"
      ]
     },
     "metadata": {},
     "output_type": "display_data"
    }
   ],
   "source": [
    "lm_fit %>% update_formula(Sale_Price ~ Longitude)"
   ]
  },
  {
   "cell_type": "markdown",
   "id": "eb089a96",
   "metadata": {},
   "source": [
    "<br>\n",
    "\n",
    "## 04.03. 모델 변수 선택\n",
    "\n",
    "<br>\n",
    "\n",
    "#### ```add_variables(outcome, predictors)```\n",
    "- ```outcome``` : 반응변수\n",
    "- ```predictors``` : 설명변수\n",
    "    - ```ends_with()```를 사용하여 지정 가능\n",
    "    - ```everything()``` : 모든 변수"
   ]
  },
  {
   "cell_type": "markdown",
   "id": "f9b1de84",
   "metadata": {},
   "source": [
    "<br>\n",
    "\n",
    "- 워크플로 객체 수식 초기화 및 변수 재설정"
   ]
  },
  {
   "cell_type": "code",
   "execution_count": 12,
   "id": "db34e60e",
   "metadata": {},
   "outputs": [
    {
     "data": {
      "text/plain": [
       "══ Workflow ════════════════════════════════════════════════════════════════════════════════════════════════════════════\n",
       "\u001b[3mPreprocessor:\u001b[23m Variables\n",
       "\u001b[3mModel:\u001b[23m linear_reg()\n",
       "\n",
       "── Preprocessor ────────────────────────────────────────────────────────────────────────────────────────────────────────\n",
       "Outcomes: Sale_Price\n",
       "Predictors: ends_with(\"tude\")\n",
       "\n",
       "── Model ───────────────────────────────────────────────────────────────────────────────────────────────────────────────\n",
       "Linear Regression Model Specification (regression)\n",
       "\n",
       "Computational engine: lm \n"
      ]
     },
     "metadata": {},
     "output_type": "display_data"
    }
   ],
   "source": [
    "lm_wflow <- lm_wflow %>%\n",
    "    remove_formula() %>%\n",
    "    add_variables(outcome = Sale_Price, predictors = ends_with('tude'))\n",
    "\n",
    "lm_wflow"
   ]
  },
  {
   "cell_type": "markdown",
   "id": "3fbb5f99",
   "metadata": {},
   "source": [
    "- 데이터 적합"
   ]
  },
  {
   "cell_type": "code",
   "execution_count": 13,
   "id": "c7459310",
   "metadata": {
    "scrolled": false
   },
   "outputs": [
    {
     "data": {
      "text/plain": [
       "══ Workflow [trained] ══════════════════════════════════════════════════════════════════════════════════════════════════\n",
       "\u001b[3mPreprocessor:\u001b[23m Variables\n",
       "\u001b[3mModel:\u001b[23m linear_reg()\n",
       "\n",
       "── Preprocessor ────────────────────────────────────────────────────────────────────────────────────────────────────────\n",
       "Outcomes: Sale_Price\n",
       "Predictors: ends_with(\"tude\")\n",
       "\n",
       "── Model ───────────────────────────────────────────────────────────────────────────────────────────────────────────────\n",
       "\n",
       "Call:\n",
       "stats::lm(formula = ..y ~ ., data = data)\n",
       "\n",
       "Coefficients:\n",
       "(Intercept)    Longitude     Latitude  \n",
       "   -307.997       -2.042        2.901  \n"
      ]
     },
     "metadata": {},
     "output_type": "display_data"
    }
   ],
   "source": [
    "fit(lm_wflow, ames_train) "
   ]
  },
  {
   "cell_type": "markdown",
   "id": "5b8d51bb",
   "metadata": {},
   "source": [
    "<br>\n",
    "\n",
    "## 04.04. Workflow 수식\n",
    "\n",
    "<br>\n",
    "\n",
    "### 특수 수식 및 인라인 함수\n",
    "- 다수의 다중 레벨 모델이 고안된 `lme4` 패키지 \n",
    "- 예) 피험자에게 랜덤효과가 있는 회귀 모델을 적합\n",
    "    \n",
    "    $\\rightarrow$ 성별마다 각기 다른 절편 및 매개변수 추정량을 가지게 됨"
   ]
  },
  {
   "cell_type": "code",
   "execution_count": 19,
   "id": "f5217580",
   "metadata": {},
   "outputs": [],
   "source": [
    "library(lme4)\n",
    "library(nlme)\n",
    "\n",
    "data(Orthodont)"
   ]
  },
  {
   "cell_type": "code",
   "execution_count": 28,
   "id": "a5f52899",
   "metadata": {},
   "outputs": [
    {
     "data": {
      "text/plain": [
       "Linear mixed model fit by REML ['lmerMod']\n",
       "Formula: distance ~ Sex + (age | Subject)\n",
       "   Data: Orthodont\n",
       "\n",
       "REML criterion at convergence: 471.2\n",
       "\n",
       "Scaled residuals: \n",
       "    Min      1Q  Median      3Q     Max \n",
       "-2.8941 -0.3149  0.0530  0.3673  3.8564 \n",
       "\n",
       "Random effects:\n",
       " Groups   Name        Variance Std.Dev. Corr \n",
       " Subject  (Intercept) 54.630   7.3912        \n",
       "          age          0.482   0.6943   -0.97\n",
       " Residual              1.716   1.3100        \n",
       "Number of obs: 108, groups:  Subject, 27\n",
       "\n",
       "Fixed effects:\n",
       "            Estimate Std. Error t value\n",
       "(Intercept)  24.5170     0.4835  50.710\n",
       "SexFemale    -2.1455     0.7575  -2.832\n",
       "\n",
       "Correlation of Fixed Effects:\n",
       "          (Intr)\n",
       "SexFemale -0.638"
      ]
     },
     "metadata": {},
     "output_type": "display_data"
    }
   ],
   "source": [
    "lmer(distance ~ Sex + (age | Subject), data = Orthodont) %>% summary"
   ]
  },
  {
   "cell_type": "markdown",
   "id": "5edcc381",
   "metadata": {},
   "source": [
    "<br>\n",
    "\n",
    "### 계층적 회귀모델\n",
    "#### `multilevelmod`"
   ]
  },
  {
   "cell_type": "code",
   "execution_count": 21,
   "id": "2bb7398c",
   "metadata": {},
   "outputs": [],
   "source": [
    "library(multilevelmod)"
   ]
  },
  {
   "cell_type": "markdown",
   "id": "769f8c30",
   "metadata": {},
   "source": [
    "- 모델 생성"
   ]
  },
  {
   "cell_type": "code",
   "execution_count": 22,
   "id": "ac7f1ce7",
   "metadata": {},
   "outputs": [],
   "source": [
    "multilevel_spec <- linear_reg() %>% set_engine(\"lmer\")"
   ]
  },
  {
   "cell_type": "markdown",
   "id": "7f0fd82f",
   "metadata": {},
   "source": [
    "- 워크플로 생성 및 모델 추가"
   ]
  },
  {
   "cell_type": "code",
   "execution_count": 23,
   "id": "f96df321",
   "metadata": {},
   "outputs": [],
   "source": [
    "multilevel_workflow <- workflow() %>%\n",
    "    add_variables(outcome = distance, predictors = c(Sex, age, Subject)) %>%\n",
    "    add_model(multilevel_spec, formula = distance ~ Sex + (age | Subject))"
   ]
  },
  {
   "cell_type": "markdown",
   "id": "823f4400",
   "metadata": {},
   "source": [
    "- 데이터 적합"
   ]
  },
  {
   "cell_type": "code",
   "execution_count": 24,
   "id": "8c21af8a",
   "metadata": {},
   "outputs": [
    {
     "data": {
      "text/plain": [
       "══ Workflow [trained] ══════════════════════════════════════════════════════════════════════════════════════════════════\n",
       "\u001b[3mPreprocessor:\u001b[23m Variables\n",
       "\u001b[3mModel:\u001b[23m linear_reg()\n",
       "\n",
       "── Preprocessor ────────────────────────────────────────────────────────────────────────────────────────────────────────\n",
       "Outcomes: distance\n",
       "Predictors: c(Sex, age, Subject)\n",
       "\n",
       "── Model ───────────────────────────────────────────────────────────────────────────────────────────────────────────────\n",
       "Linear mixed model fit by REML ['lmerMod']\n",
       "Formula: distance ~ Sex + (age | Subject)\n",
       "   Data: data\n",
       "REML criterion at convergence: 471.1635\n",
       "Random effects:\n",
       " Groups   Name        Std.Dev. Corr \n",
       " Subject  (Intercept) 7.3912        \n",
       "          age         0.6943   -0.97\n",
       " Residual             1.3100        \n",
       "Number of obs: 108, groups:  Subject, 27\n",
       "Fixed Effects:\n",
       "(Intercept)    SexFemale  \n",
       "     24.517       -2.145  "
      ]
     },
     "metadata": {},
     "output_type": "display_data"
    }
   ],
   "source": [
    "multilevel_fit <- fit(multilevel_workflow, data = Orthodont)\n",
    "multilevel_fit"
   ]
  },
  {
   "cell_type": "markdown",
   "id": "f02a2787",
   "metadata": {},
   "source": [
    "<br>\n",
    "\n",
    "### 생존함수"
   ]
  },
  {
   "cell_type": "code",
   "execution_count": 51,
   "id": "ace7b505",
   "metadata": {},
   "outputs": [],
   "source": [
    "library(censored)"
   ]
  },
  {
   "cell_type": "code",
   "execution_count": 52,
   "id": "77e10714",
   "metadata": {},
   "outputs": [],
   "source": [
    "parametic_spec <- survival_reg()"
   ]
  },
  {
   "cell_type": "code",
   "execution_count": 53,
   "id": "4db53e97",
   "metadata": {},
   "outputs": [],
   "source": [
    "parametic_workflow <-\n",
    "    workflow() %>%\n",
    "    add_variables(outcome = c(fustat, futime), predictors = c(age, rx)) %>%\n",
    "    add_model(parametic_spec,\n",
    "              formula = Surv(futime, fustat) ~ age + strata(rx))"
   ]
  },
  {
   "cell_type": "code",
   "execution_count": 54,
   "id": "30b143c6",
   "metadata": {},
   "outputs": [
    {
     "data": {
      "text/plain": [
       "== Workflow [trained] ==================================================================================================\n",
       "\u001b[3mPreprocessor:\u001b[23m Variables\n",
       "\u001b[3mModel:\u001b[23m survival_reg()\n",
       "\n",
       "-- Preprocessor --------------------------------------------------------------------------------------------------------\n",
       "Outcomes: c(fustat, futime)\n",
       "Predictors: c(age, rx)\n",
       "\n",
       "-- Model ---------------------------------------------------------------------------------------------------------------\n",
       "Call:\n",
       "survival::survreg(formula = Surv(futime, fustat) ~ age + strata(rx), \n",
       "    data = data, model = TRUE)\n",
       "\n",
       "Coefficients:\n",
       "(Intercept)         age \n",
       " 12.8734120  -0.1033569 \n",
       "\n",
       "Scale:\n",
       "     rx=1      rx=2 \n",
       "0.7695509 0.4703602 \n",
       "\n",
       "Loglik(model)= -89.4   Loglik(intercept only)= -97.1\n",
       "\tChisq= 15.36 on 1 degrees of freedom, p= 8.88e-05 \n",
       "n= 26 "
      ]
     },
     "metadata": {},
     "output_type": "display_data"
    }
   ],
   "source": [
    "parametic_fit <- fit(parametic_workflow, data = ovarian)\n",
    "parametic_fit"
   ]
  },
  {
   "cell_type": "markdown",
   "id": "c53305ed",
   "metadata": {},
   "source": [
    "<br>\n",
    "\n",
    "## 04.05. 복수 워크플로 생성"
   ]
  },
  {
   "cell_type": "markdown",
   "id": "6c4588b3",
   "metadata": {},
   "source": [
    "\n",
    "<br>\n",
    "\n",
    "#### ```workflow_set(preproc, models)```\n",
    "- ```preproc``` : 수식 List\n",
    "- ```models``` : 적합할 모형식"
   ]
  },
  {
   "cell_type": "markdown",
   "id": "ea993371",
   "metadata": {},
   "source": [
    "<br>\n",
    "\n",
    "- 수식 List 생성"
   ]
  },
  {
   "cell_type": "code",
   "execution_count": 30,
   "id": "a0e35ec5",
   "metadata": {},
   "outputs": [],
   "source": [
    "location <- list(\n",
    "    Longitude = Sale_Price ~ Longitude,\n",
    "    Latitude = Sale_Price ~ Latitude,\n",
    "    coords = Sale_Price ~ Longitude + Latitude,\n",
    "    neighborhood = Sale_Price ~ Neighborhood\n",
    ")"
   ]
  },
  {
   "cell_type": "markdown",
   "id": "38648423",
   "metadata": {},
   "source": [
    "- 모델 생성"
   ]
  },
  {
   "cell_type": "code",
   "execution_count": 35,
   "id": "dbcf0980",
   "metadata": {},
   "outputs": [],
   "source": [
    "lm_model <- linear_reg() %>% set_engine(\"lm\")"
   ]
  },
  {
   "cell_type": "markdown",
   "id": "bfb0651e",
   "metadata": {},
   "source": [
    "<br>\n",
    "\n",
    "- 워크플로 세트 생성"
   ]
  },
  {
   "cell_type": "code",
   "execution_count": 33,
   "id": "be14220d",
   "metadata": {},
   "outputs": [],
   "source": [
    "library(workflowsets)"
   ]
  },
  {
   "cell_type": "code",
   "execution_count": 32,
   "id": "5fc51ab8",
   "metadata": {},
   "outputs": [
    {
     "data": {
      "text/html": [
       "<table class=\"dataframe\">\n",
       "<caption>A workflow_set: 4 × 4</caption>\n",
       "<thead>\n",
       "\t<tr><th scope=col>wflow_id</th><th scope=col>info</th><th scope=col>option</th><th scope=col>result</th></tr>\n",
       "\t<tr><th scope=col>&lt;chr&gt;</th><th scope=col>&lt;list&gt;</th><th scope=col>&lt;list&gt;</th><th scope=col>&lt;list&gt;</th></tr>\n",
       "</thead>\n",
       "<tbody>\n",
       "\t<tr><td>Longitude_lm   </td><td>Sale_Price ~ Longitude, ~NULL, ~NULL, regression, FALSE, lm, TRUE, FALSE, formula, linear_reg, </td><td>NULL</td><td>NULL</td></tr>\n",
       "\t<tr><td>Latitude_lm    </td><td>Sale_Price ~ Latitude, ~NULL, ~NULL, regression, FALSE, lm, TRUE, FALSE, formula, linear_reg, </td><td>NULL</td><td>NULL</td></tr>\n",
       "\t<tr><td>coords_lm      </td><td>Sale_Price ~ Longitude + Latitude, ~NULL, ~NULL, regression, FALSE, lm, TRUE, FALSE, formula, linear_reg, </td><td>NULL</td><td>NULL</td></tr>\n",
       "\t<tr><td>neighborhood_lm</td><td>Sale_Price ~ Neighborhood, ~NULL, ~NULL, regression, FALSE, lm, TRUE, FALSE, formula, linear_reg, </td><td>NULL</td><td>NULL</td></tr>\n",
       "</tbody>\n",
       "</table>\n"
      ],
      "text/latex": [
       "A workflow\\_set: 4 × 4\n",
       "\\begin{tabular}{llll}\n",
       " wflow\\_id & info & option & result\\\\\n",
       " <chr> & <list> & <list> & <list>\\\\\n",
       "\\hline\n",
       "\t Longitude\\_lm    & Sale\\_Price \\textasciitilde{} Longitude, \\textasciitilde{}NULL, \\textasciitilde{}NULL, regression, FALSE, lm, TRUE, FALSE, formula, linear\\_reg,  & NULL & NULL\\\\\n",
       "\t Latitude\\_lm     & Sale\\_Price \\textasciitilde{} Latitude, \\textasciitilde{}NULL, \\textasciitilde{}NULL, regression, FALSE, lm, TRUE, FALSE, formula, linear\\_reg,  & NULL & NULL\\\\\n",
       "\t coords\\_lm       & Sale\\_Price \\textasciitilde{} Longitude + Latitude, \\textasciitilde{}NULL, \\textasciitilde{}NULL, regression, FALSE, lm, TRUE, FALSE, formula, linear\\_reg,  & NULL & NULL\\\\\n",
       "\t neighborhood\\_lm & Sale\\_Price \\textasciitilde{} Neighborhood, \\textasciitilde{}NULL, \\textasciitilde{}NULL, regression, FALSE, lm, TRUE, FALSE, formula, linear\\_reg,  & NULL & NULL\\\\\n",
       "\\end{tabular}\n"
      ],
      "text/markdown": [
       "\n",
       "A workflow_set: 4 × 4\n",
       "\n",
       "| wflow_id &lt;chr&gt; | info &lt;list&gt; | option &lt;list&gt; | result &lt;list&gt; |\n",
       "|---|---|---|---|\n",
       "| Longitude_lm    | Sale_Price ~ Longitude, ~NULL, ~NULL, regression, FALSE, lm, TRUE, FALSE, formula, linear_reg,  | NULL | NULL |\n",
       "| Latitude_lm     | Sale_Price ~ Latitude, ~NULL, ~NULL, regression, FALSE, lm, TRUE, FALSE, formula, linear_reg,  | NULL | NULL |\n",
       "| coords_lm       | Sale_Price ~ Longitude + Latitude, ~NULL, ~NULL, regression, FALSE, lm, TRUE, FALSE, formula, linear_reg,  | NULL | NULL |\n",
       "| neighborhood_lm | Sale_Price ~ Neighborhood, ~NULL, ~NULL, regression, FALSE, lm, TRUE, FALSE, formula, linear_reg,  | NULL | NULL |\n",
       "\n"
      ],
      "text/plain": [
       "  wflow_id       \n",
       "1 Longitude_lm   \n",
       "2 Latitude_lm    \n",
       "3 coords_lm      \n",
       "4 neighborhood_lm\n",
       "  info                                                                                                      \n",
       "1 Sale_Price ~ Longitude, ~NULL, ~NULL, regression, FALSE, lm, TRUE, FALSE, formula, linear_reg,            \n",
       "2 Sale_Price ~ Latitude, ~NULL, ~NULL, regression, FALSE, lm, TRUE, FALSE, formula, linear_reg,             \n",
       "3 Sale_Price ~ Longitude + Latitude, ~NULL, ~NULL, regression, FALSE, lm, TRUE, FALSE, formula, linear_reg, \n",
       "4 Sale_Price ~ Neighborhood, ~NULL, ~NULL, regression, FALSE, lm, TRUE, FALSE, formula, linear_reg,         \n",
       "  option result\n",
       "1 NULL   NULL  \n",
       "2 NULL   NULL  \n",
       "3 NULL   NULL  \n",
       "4 NULL   NULL  "
      ]
     },
     "metadata": {},
     "output_type": "display_data"
    }
   ],
   "source": [
    "location_models <- workflow_set(preproc = location, models = list(lm = lm_model))\n",
    "location_models"
   ]
  },
  {
   "cell_type": "markdown",
   "id": "0e44f723",
   "metadata": {},
   "source": [
    "<br>\n",
    "\n",
    "- 모델 추출\n",
    "#### ```extract_workflow()``` : workflow_set에서 모델 추출"
   ]
  },
  {
   "cell_type": "code",
   "execution_count": 36,
   "id": "4e68915d",
   "metadata": {},
   "outputs": [
    {
     "data": {
      "text/plain": [
       "══ Workflow ════════════════════════════════════════════════════════════════════════════════════════════════════════════\n",
       "\u001b[3mPreprocessor:\u001b[23m Formula\n",
       "\u001b[3mModel:\u001b[23m linear_reg()\n",
       "\n",
       "── Preprocessor ────────────────────────────────────────────────────────────────────────────────────────────────────────\n",
       "Sale_Price ~ Longitude + Latitude\n",
       "\n",
       "── Model ───────────────────────────────────────────────────────────────────────────────────────────────────────────────\n",
       "Linear Regression Model Specification (regression)\n",
       "\n",
       "Computational engine: lm \n"
      ]
     },
     "metadata": {},
     "output_type": "display_data"
    }
   ],
   "source": [
    "extract_workflow(location_models, id = \"coords_lm\")"
   ]
  },
  {
   "cell_type": "code",
   "execution_count": 38,
   "id": "b1e650ac",
   "metadata": {},
   "outputs": [],
   "source": [
    "location_models <-  location_models %>%\n",
    "    mutate(fit = map(info, ~ fit(.x$workflow[[1]], ames_train)))"
   ]
  },
  {
   "cell_type": "code",
   "execution_count": 40,
   "id": "12990eb2",
   "metadata": {},
   "outputs": [
    {
     "data": {
      "text/plain": [
       "══ Workflow [trained] ══════════════════════════════════════════════════════════════════════════════════════════════════\n",
       "\u001b[3mPreprocessor:\u001b[23m Formula\n",
       "\u001b[3mModel:\u001b[23m linear_reg()\n",
       "\n",
       "── Preprocessor ────────────────────────────────────────────────────────────────────────────────────────────────────────\n",
       "Sale_Price ~ Longitude\n",
       "\n",
       "── Model ───────────────────────────────────────────────────────────────────────────────────────────────────────────────\n",
       "\n",
       "Call:\n",
       "stats::lm(formula = ..y ~ ., data = data)\n",
       "\n",
       "Coefficients:\n",
       "(Intercept)    Longitude  \n",
       "   -178.068       -1.957  \n"
      ]
     },
     "metadata": {},
     "output_type": "display_data"
    }
   ],
   "source": [
    "location_models$fit[[1]]"
   ]
  },
  {
   "cell_type": "markdown",
   "id": "03bb1864",
   "metadata": {},
   "source": [
    "<br>\n",
    "\n",
    "## 04.06. 테스트 세트 평가"
   ]
  },
  {
   "cell_type": "markdown",
   "id": "2cd6a87e",
   "metadata": {},
   "source": [
    "<br>\n",
    "\n",
    "#### ```last_fit()``` : 최종 모델을 훈련 세트에 적합, 테스트 세트로 평가"
   ]
  },
  {
   "cell_type": "code",
   "execution_count": 45,
   "id": "baa97212",
   "metadata": {},
   "outputs": [
    {
     "data": {
      "text/plain": [
       "<Training/Testing/Total>\n",
       "<2342/588/2930>"
      ]
     },
     "metadata": {},
     "output_type": "display_data"
    }
   ],
   "source": [
    "ames_split"
   ]
  },
  {
   "cell_type": "code",
   "execution_count": 49,
   "id": "b64c353a",
   "metadata": {},
   "outputs": [
    {
     "name": "stdout",
     "output_type": "stream",
     "text": [
      "# Resampling results\n",
      "# Manual resampling \n",
      "\u001b[90m# A tibble: 1 × 6\u001b[39m\n",
      "  splits             id               .metrics .notes   .predictions .workflow \n",
      "  \u001b[3m\u001b[90m<list>\u001b[39m\u001b[23m             \u001b[3m\u001b[90m<chr>\u001b[39m\u001b[23m            \u001b[3m\u001b[90m<list>\u001b[39m\u001b[23m   \u001b[3m\u001b[90m<list>\u001b[39m\u001b[23m   \u001b[3m\u001b[90m<list>\u001b[39m\u001b[23m       \u001b[3m\u001b[90m<list>\u001b[39m\u001b[23m    \n",
      "\u001b[90m1\u001b[39m \u001b[90m<split [2342/588]>\u001b[39m train/test split \u001b[90m<tibble>\u001b[39m \u001b[90m<tibble>\u001b[39m \u001b[90m<tibble>\u001b[39m     \u001b[90m<workflow>\u001b[39m\n"
     ]
    }
   ],
   "source": [
    "final_lm_res <- last_fit(lm_wflow, ames_split)\n",
    "print(final_lm_res)"
   ]
  },
  {
   "cell_type": "code",
   "execution_count": 54,
   "id": "629a0d80",
   "metadata": {},
   "outputs": [
    {
     "data": {
      "text/plain": [
       "══ Workflow [trained] ══════════════════════════════════════════════════════════════════════════════════════════════════\n",
       "\u001b[3mPreprocessor:\u001b[23m Variables\n",
       "\u001b[3mModel:\u001b[23m linear_reg()\n",
       "\n",
       "── Preprocessor ────────────────────────────────────────────────────────────────────────────────────────────────────────\n",
       "Outcomes: Sale_Price\n",
       "Predictors: ends_with(\"tude\")\n",
       "\n",
       "── Model ───────────────────────────────────────────────────────────────────────────────────────────────────────────────\n",
       "\n",
       "Call:\n",
       "stats::lm(formula = ..y ~ ., data = data)\n",
       "\n",
       "Coefficients:\n",
       "(Intercept)    Longitude     Latitude  \n",
       "   -307.997       -2.042        2.901  \n"
      ]
     },
     "metadata": {},
     "output_type": "display_data"
    }
   ],
   "source": [
    "fitted_lm_wflow <- extract_workflow(final_lm_res)\n",
    "fitted_lm_wflow"
   ]
  },
  {
   "cell_type": "markdown",
   "id": "d6b72447",
   "metadata": {},
   "source": [
    "<br>\n",
    "\n",
    "#### ```collect_metrics()``` : 성능 메트릭에 대한 정보 제공\n",
    "#### ```collect_predictions()``` : 예측 메트릭에 대한 정보 제공"
   ]
  },
  {
   "cell_type": "code",
   "execution_count": 55,
   "id": "7daaf312",
   "metadata": {},
   "outputs": [
    {
     "data": {
      "text/html": [
       "<table class=\"dataframe\">\n",
       "<caption>A tibble: 2 × 4</caption>\n",
       "<thead>\n",
       "\t<tr><th scope=col>.metric</th><th scope=col>.estimator</th><th scope=col>.estimate</th><th scope=col>.config</th></tr>\n",
       "\t<tr><th scope=col>&lt;chr&gt;</th><th scope=col>&lt;chr&gt;</th><th scope=col>&lt;dbl&gt;</th><th scope=col>&lt;chr&gt;</th></tr>\n",
       "</thead>\n",
       "<tbody>\n",
       "\t<tr><td>rmse</td><td>standard</td><td>0.1742739</td><td>Preprocessor1_Model1</td></tr>\n",
       "\t<tr><td>rsq </td><td>standard</td><td>0.1582418</td><td>Preprocessor1_Model1</td></tr>\n",
       "</tbody>\n",
       "</table>\n"
      ],
      "text/latex": [
       "A tibble: 2 × 4\n",
       "\\begin{tabular}{llll}\n",
       " .metric & .estimator & .estimate & .config\\\\\n",
       " <chr> & <chr> & <dbl> & <chr>\\\\\n",
       "\\hline\n",
       "\t rmse & standard & 0.1742739 & Preprocessor1\\_Model1\\\\\n",
       "\t rsq  & standard & 0.1582418 & Preprocessor1\\_Model1\\\\\n",
       "\\end{tabular}\n"
      ],
      "text/markdown": [
       "\n",
       "A tibble: 2 × 4\n",
       "\n",
       "| .metric &lt;chr&gt; | .estimator &lt;chr&gt; | .estimate &lt;dbl&gt; | .config &lt;chr&gt; |\n",
       "|---|---|---|---|\n",
       "| rmse | standard | 0.1742739 | Preprocessor1_Model1 |\n",
       "| rsq  | standard | 0.1582418 | Preprocessor1_Model1 |\n",
       "\n"
      ],
      "text/plain": [
       "  .metric .estimator .estimate .config             \n",
       "1 rmse    standard   0.1742739 Preprocessor1_Model1\n",
       "2 rsq     standard   0.1582418 Preprocessor1_Model1"
      ]
     },
     "metadata": {},
     "output_type": "display_data"
    },
    {
     "data": {
      "text/html": [
       "<table class=\"dataframe\">\n",
       "<caption>A tibble: 5 × 5</caption>\n",
       "<thead>\n",
       "\t<tr><th scope=col>id</th><th scope=col>.pred</th><th scope=col>.row</th><th scope=col>Sale_Price</th><th scope=col>.config</th></tr>\n",
       "\t<tr><th scope=col>&lt;chr&gt;</th><th scope=col>&lt;dbl&gt;</th><th scope=col>&lt;int&gt;</th><th scope=col>&lt;dbl&gt;</th><th scope=col>&lt;chr&gt;</th></tr>\n",
       "</thead>\n",
       "<tbody>\n",
       "\t<tr><td>train/test split</td><td>5.284402</td><td> 7</td><td>5.329398</td><td>Preprocessor1_Model1</td></tr>\n",
       "\t<tr><td>train/test split</td><td>5.245254</td><td>25</td><td>5.175802</td><td>Preprocessor1_Model1</td></tr>\n",
       "\t<tr><td>train/test split</td><td>5.238754</td><td>30</td><td>4.982271</td><td>Preprocessor1_Model1</td></tr>\n",
       "\t<tr><td>train/test split</td><td>5.238857</td><td>31</td><td>5.023252</td><td>Preprocessor1_Model1</td></tr>\n",
       "\t<tr><td>train/test split</td><td>5.302665</td><td>50</td><td>5.311754</td><td>Preprocessor1_Model1</td></tr>\n",
       "</tbody>\n",
       "</table>\n"
      ],
      "text/latex": [
       "A tibble: 5 × 5\n",
       "\\begin{tabular}{lllll}\n",
       " id & .pred & .row & Sale\\_Price & .config\\\\\n",
       " <chr> & <dbl> & <int> & <dbl> & <chr>\\\\\n",
       "\\hline\n",
       "\t train/test split & 5.284402 &  7 & 5.329398 & Preprocessor1\\_Model1\\\\\n",
       "\t train/test split & 5.245254 & 25 & 5.175802 & Preprocessor1\\_Model1\\\\\n",
       "\t train/test split & 5.238754 & 30 & 4.982271 & Preprocessor1\\_Model1\\\\\n",
       "\t train/test split & 5.238857 & 31 & 5.023252 & Preprocessor1\\_Model1\\\\\n",
       "\t train/test split & 5.302665 & 50 & 5.311754 & Preprocessor1\\_Model1\\\\\n",
       "\\end{tabular}\n"
      ],
      "text/markdown": [
       "\n",
       "A tibble: 5 × 5\n",
       "\n",
       "| id &lt;chr&gt; | .pred &lt;dbl&gt; | .row &lt;int&gt; | Sale_Price &lt;dbl&gt; | .config &lt;chr&gt; |\n",
       "|---|---|---|---|---|\n",
       "| train/test split | 5.284402 |  7 | 5.329398 | Preprocessor1_Model1 |\n",
       "| train/test split | 5.245254 | 25 | 5.175802 | Preprocessor1_Model1 |\n",
       "| train/test split | 5.238754 | 30 | 4.982271 | Preprocessor1_Model1 |\n",
       "| train/test split | 5.238857 | 31 | 5.023252 | Preprocessor1_Model1 |\n",
       "| train/test split | 5.302665 | 50 | 5.311754 | Preprocessor1_Model1 |\n",
       "\n"
      ],
      "text/plain": [
       "  id               .pred    .row Sale_Price .config             \n",
       "1 train/test split 5.284402  7   5.329398   Preprocessor1_Model1\n",
       "2 train/test split 5.245254 25   5.175802   Preprocessor1_Model1\n",
       "3 train/test split 5.238754 30   4.982271   Preprocessor1_Model1\n",
       "4 train/test split 5.238857 31   5.023252   Preprocessor1_Model1\n",
       "5 train/test split 5.302665 50   5.311754   Preprocessor1_Model1"
      ]
     },
     "metadata": {},
     "output_type": "display_data"
    }
   ],
   "source": [
    "collect_metrics(final_lm_res)\n",
    "collect_predictions(final_lm_res) %>% slice(1:5)"
   ]
  }
 ],
 "metadata": {
  "kernelspec": {
   "display_name": "R-4.3.2",
   "language": "R",
   "name": "ir"
  },
  "language_info": {
   "codemirror_mode": "r",
   "file_extension": ".r",
   "mimetype": "text/x-r-source",
   "name": "R",
   "pygments_lexer": "r",
   "version": "4.3.2"
  }
 },
 "nbformat": 4,
 "nbformat_minor": 5
}
