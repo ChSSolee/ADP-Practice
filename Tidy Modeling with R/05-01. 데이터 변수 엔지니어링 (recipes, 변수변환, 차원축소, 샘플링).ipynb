{
 "cells": [
  {
   "cell_type": "markdown",
   "id": "be77abb1",
   "metadata": {},
   "source": [
    "# 05. recipes 패키지\n",
    "https://recipes.tidymodels.org/index.html\n",
    "\n",
    "https://www.tidymodels.org/learn/develop/recipes/\n",
    "\n",
    "https://www.tidymodels.org/find/\n"
   ]
  },
  {
   "cell_type": "code",
   "execution_count": 2,
   "id": "deb24d8f",
   "metadata": {},
   "outputs": [],
   "source": [
    "library(tidyverse)\n",
    "library(tidymodels)\n",
    "ggplot2::theme_set(theme_bw())\n",
    "tidymodels_prefer()"
   ]
  },
  {
   "cell_type": "markdown",
   "id": "7730da6a",
   "metadata": {},
   "source": [
    "<br>\n",
    "\n",
    "- 변수 엔지니어링에는 모델이 효과적으로 사용할 수 있도록 예측 변수 값의 형식을 다시 지정하는 작업이 수반\n",
    "- 중요한 변수를 가장 잘 표현하기 위한 데이터 변환 및 인코딩이 포함"
   ]
  },
  {
   "cell_type": "markdown",
   "id": "976dc0ea",
   "metadata": {},
   "source": [
    "<br>\n",
    "\n",
    "### Ames 데이터\n",
    "- 공간 정보를 모델에 노출할 수 있는 방법에는 이웃(정성적 측정), 경도/위도, 가장 가까운 학교 또는 아이오와 주립대학교까지의 거리 등이 포함\n",
    "- 모델링에서 이러한 데이터를 인코딩하는 방법을 선택할 때 결과와 가장 관련이 있다고 생각되는 옵션을 선택"
   ]
  },
  {
   "cell_type": "code",
   "execution_count": 4,
   "id": "e8bb1ed6",
   "metadata": {},
   "outputs": [],
   "source": [
    "ames <- ames %>% mutate(Sale_Price = log10(Sale_Price))\n",
    "set.seed(20221010)\n",
    "ames_split <- initial_split(ames, prop = 0.8, strata = Sale_Price)\n",
    "ames_train <- training(ames_split)\n",
    "ames_test <- testing(ames_split)"
   ]
  },
  {
   "cell_type": "markdown",
   "id": "3dae3b85",
   "metadata": {},
   "source": [
    "<br>\n",
    "\n",
    "#### 더 나은 모델링 기능을 구축하기 위한 전처리의 다른 예\n",
    "- 차원 축소 또는 일부 예측변수 제거를 통해 변수 간의 상관관계를 감소시킴\n",
    "- 설명변수에 결측값이 있는 경우, 하위 모델을 사용하여 귀속\n",
    "- 왜도가 크거나 작은 변수에 대한 로그/지수 변환\n",
    "- 상이한 단위를 가진 수치형 변수들의 정규화/표준화\n",
    "\n"
   ]
  },
  {
   "cell_type": "markdown",
   "id": "e4e4f38f",
   "metadata": {},
   "source": [
    "<br>\n",
    "\n",
    "## 05.01 `recipes`"
   ]
  },
  {
   "cell_type": "markdown",
   "id": "f7c6616d",
   "metadata": {},
   "source": [
    "<br>\n",
    "\n",
    "#### 데이터 변수\n",
    "- `Neighborhood` : 이웃 (범주형)\n",
    "- `Gr_Liv_Area` : 위층 생활 면적 (수치형)\n",
    "- `Year_Built` : 건축연도 (수치형)\n",
    "- `Bldg_Type` : 건물유형 (범주형)"
   ]
  },
  {
   "cell_type": "markdown",
   "id": "ab80910d",
   "metadata": {},
   "source": [
    "<br>\n",
    "\n",
    "#### `recipes`는 데이터 처리를 위한 일련의 단계를 정의하는 개체\n",
    "- `step_*()` 문의 함수를 즉시 실행하지 않고, 단계를 정의"
   ]
  },
  {
   "cell_type": "markdown",
   "id": "02e18fc8",
   "metadata": {},
   "source": [
    "<br>\n",
    "\n",
    "- `recipe` 객체에 변수정의 \n",
    "    \n",
    "    $\\rightarrow$ 로그변환 단계 정의\n",
    "    \n",
    "    $\\rightarrow$ 모든 명목형 변수에 대한 (`all_nominal_predictors()`) 더미변환 단계 정의\n",
    "    "
   ]
  },
  {
   "cell_type": "code",
   "execution_count": 5,
   "id": "5d8f7abe",
   "metadata": {},
   "outputs": [
    {
     "name": "stderr",
     "output_type": "stream",
     "text": [
      "\n",
      "\n",
      "\u001b[36m──\u001b[39m \u001b[1mRecipe\u001b[22m \u001b[36m──────────────────────────────────────────────────────────────────────────────────────────────────────────────\u001b[39m\n",
      "\n",
      "\n",
      "\n",
      "── Inputs \n",
      "\n",
      "Number of variables by role\n",
      "\n",
      "outcome:   1\n",
      "predictor: 4\n",
      "\n",
      "\n",
      "\n",
      "── Operations \n",
      "\n",
      "\u001b[36m•\u001b[39m Log transformation on: \u001b[34mGr_Liv_Area\u001b[39m\n",
      "\n",
      "\u001b[36m•\u001b[39m Dummy variables from: \u001b[34mall_nominal_predictors()\u001b[39m\n",
      "\n"
     ]
    }
   ],
   "source": [
    "simple_ames <- recipe(Sale_Price ~ Neighborhood + Gr_Liv_Area + Year_Built + Bldg_Type,\n",
    "           data = ames_train) %>%\n",
    "    step_log(Gr_Liv_Area, base = 10) %>% \n",
    "    step_dummy(all_nominal_predictors())\n",
    "simple_ames"
   ]
  },
  {
   "cell_type": "markdown",
   "id": "ed410a51",
   "metadata": {},
   "source": [
    "<br>\n",
    "\n",
    "## 05.02. `recipes` 사용\n",
    "- **전처리 선택과 변수 엔지니어링은 일반적으로, 모델링 워크플로의 일부로 간주되어야 함**\n",
    "\n",
    "<br>\n",
    "\n",
    "- 모델 정의 및 워크플로 생성"
   ]
  },
  {
   "cell_type": "code",
   "execution_count": 6,
   "id": "8a068bf7",
   "metadata": {},
   "outputs": [],
   "source": [
    "lm_model <- linear_reg() %>%\n",
    "    set_engine(\"lm\")\n",
    "\n",
    "lm_wflow <- workflow() %>%\n",
    "    add_model(lm_model)"
   ]
  },
  {
   "cell_type": "markdown",
   "id": "6f458994",
   "metadata": {},
   "source": [
    "\n",
    "- 워크플로에 `recipes` 추가"
   ]
  },
  {
   "cell_type": "code",
   "execution_count": 7,
   "id": "188c1b19",
   "metadata": {},
   "outputs": [
    {
     "name": "stderr",
     "output_type": "stream",
     "text": [
      "Warning message:\n",
      "\"The workflow has no variables preprocessor to remove.\"\n"
     ]
    },
    {
     "data": {
      "text/plain": [
       "══ Workflow ════════════════════════════════════════════════════════════════════════════════════════════════════════════\n",
       "\u001b[3mPreprocessor:\u001b[23m Recipe\n",
       "\u001b[3mModel:\u001b[23m linear_reg()\n",
       "\n",
       "── Preprocessor ────────────────────────────────────────────────────────────────────────────────────────────────────────\n",
       "2 Recipe Steps\n",
       "\n",
       "• step_log()\n",
       "• step_dummy()\n",
       "\n",
       "── Model ───────────────────────────────────────────────────────────────────────────────────────────────────────────────\n",
       "Linear Regression Model Specification (regression)\n",
       "\n",
       "Computational engine: lm \n"
      ]
     },
     "metadata": {},
     "output_type": "display_data"
    }
   ],
   "source": [
    "lm_wflow <- lm_wflow %>%\n",
    "    remove_variables() %>%\n",
    "    add_recipe(simple_ames)\n",
    "lm_wflow"
   ]
  },
  {
   "cell_type": "markdown",
   "id": "dacc4b00",
   "metadata": {},
   "source": [
    "<br>\n",
    "\n",
    "- 데이터 적합 및 예측"
   ]
  },
  {
   "cell_type": "code",
   "execution_count": 8,
   "id": "f8fb65ad",
   "metadata": {},
   "outputs": [
    {
     "name": "stderr",
     "output_type": "stream",
     "text": [
      "Warning message in predict.lm(object = object$fit, newdata = new_data, type = \"response\", :\n",
      "\"prediction from rank-deficient fit; consider predict(., rankdeficient=\"NA\")\"\n"
     ]
    },
    {
     "data": {
      "text/html": [
       "<table class=\"dataframe\">\n",
       "<caption>A tibble: 3 × 1</caption>\n",
       "<thead>\n",
       "\t<tr><th scope=col>.pred</th></tr>\n",
       "\t<tr><th scope=col>&lt;dbl&gt;</th></tr>\n",
       "</thead>\n",
       "<tbody>\n",
       "\t<tr><td>0.7297171</td></tr>\n",
       "\t<tr><td>0.7111743</td></tr>\n",
       "\t<tr><td>0.6970430</td></tr>\n",
       "</tbody>\n",
       "</table>\n"
      ],
      "text/latex": [
       "A tibble: 3 × 1\n",
       "\\begin{tabular}{l}\n",
       " .pred\\\\\n",
       " <dbl>\\\\\n",
       "\\hline\n",
       "\t 0.7297171\\\\\n",
       "\t 0.7111743\\\\\n",
       "\t 0.6970430\\\\\n",
       "\\end{tabular}\n"
      ],
      "text/markdown": [
       "\n",
       "A tibble: 3 × 1\n",
       "\n",
       "| .pred &lt;dbl&gt; |\n",
       "|---|\n",
       "| 0.7297171 |\n",
       "| 0.7111743 |\n",
       "| 0.6970430 |\n",
       "\n"
      ],
      "text/plain": [
       "  .pred    \n",
       "1 0.7297171\n",
       "2 0.7111743\n",
       "3 0.6970430"
      ]
     },
     "metadata": {},
     "output_type": "display_data"
    }
   ],
   "source": [
    "lm_fit <- fit(lm_wflow, ames_train)\n",
    "predict(lm_fit, ames_test %>% slice(1:3))"
   ]
  },
  {
   "cell_type": "markdown",
   "id": "c3b8d963",
   "metadata": {},
   "source": [
    "<br>\n",
    "\n",
    "- `recipe` 객체 추출\n",
    "\n",
    "#### `extract_recipe()`"
   ]
  },
  {
   "cell_type": "code",
   "execution_count": 9,
   "id": "6e0ce92b",
   "metadata": {},
   "outputs": [
    {
     "name": "stderr",
     "output_type": "stream",
     "text": [
      "\n",
      "\n",
      "\u001b[36m──\u001b[39m \u001b[1mRecipe\u001b[22m \u001b[36m──────────────────────────────────────────────────────────────────────────────────────────────────────────────\u001b[39m\n",
      "\n",
      "\n",
      "\n",
      "── Inputs \n",
      "\n",
      "Number of variables by role\n",
      "\n",
      "outcome:   1\n",
      "predictor: 4\n",
      "\n",
      "\n",
      "\n",
      "── Training information \n",
      "\n",
      "Training data contained 2342 data points and no incomplete rows.\n",
      "\n",
      "\n",
      "\n",
      "── Operations \n",
      "\n",
      "\u001b[36m•\u001b[39m Log transformation on: \u001b[34mGr_Liv_Area\u001b[39m | \u001b[3mTrained\u001b[23m\n",
      "\n",
      "\u001b[36m•\u001b[39m Dummy variables from: \u001b[34mNeighborhood\u001b[39m and \u001b[34mBldg_Type\u001b[39m | \u001b[3mTrained\u001b[23m\n",
      "\n"
     ]
    }
   ],
   "source": [
    "lm_fit %>% extract_recipe() "
   ]
  },
  {
   "cell_type": "markdown",
   "id": "e645fadd",
   "metadata": {},
   "source": [
    "<br>\n",
    "\n",
    "- 적합 결과 추출\n",
    "\n",
    "#### `extract_fit_parsnip()`"
   ]
  },
  {
   "cell_type": "code",
   "execution_count": 10,
   "id": "7755c901",
   "metadata": {},
   "outputs": [
    {
     "data": {
      "text/html": [
       "<table class=\"dataframe\">\n",
       "<caption>A tibble: 5 × 5</caption>\n",
       "<thead>\n",
       "\t<tr><th scope=col>term</th><th scope=col>estimate</th><th scope=col>std.error</th><th scope=col>statistic</th><th scope=col>p.value</th></tr>\n",
       "\t<tr><th scope=col>&lt;chr&gt;</th><th scope=col>&lt;dbl&gt;</th><th scope=col>&lt;dbl&gt;</th><th scope=col>&lt;dbl&gt;</th><th scope=col>&lt;dbl&gt;</th></tr>\n",
       "</thead>\n",
       "<tbody>\n",
       "\t<tr><td>(Intercept)               </td><td> 0.217538128</td><td>1.861768e-02</td><td>11.684492</td><td>1.098611e-30</td></tr>\n",
       "\t<tr><td>Gr_Liv_Area               </td><td> 0.052679413</td><td>1.125252e-03</td><td>46.815656</td><td>0.000000e+00</td></tr>\n",
       "\t<tr><td>Year_Built                </td><td> 0.000169396</td><td>9.417602e-06</td><td>17.987171</td><td>8.437528e-68</td></tr>\n",
       "\t<tr><td>Neighborhood_College_Creek</td><td> 0.001172431</td><td>6.543981e-04</td><td> 1.791618</td><td>7.332514e-02</td></tr>\n",
       "\t<tr><td>Neighborhood_Old_Town     </td><td>-0.002563072</td><td>6.699108e-04</td><td>-3.825990</td><td>1.337055e-04</td></tr>\n",
       "</tbody>\n",
       "</table>\n"
      ],
      "text/latex": [
       "A tibble: 5 × 5\n",
       "\\begin{tabular}{lllll}\n",
       " term & estimate & std.error & statistic & p.value\\\\\n",
       " <chr> & <dbl> & <dbl> & <dbl> & <dbl>\\\\\n",
       "\\hline\n",
       "\t (Intercept)                &  0.217538128 & 1.861768e-02 & 11.684492 & 1.098611e-30\\\\\n",
       "\t Gr\\_Liv\\_Area                &  0.052679413 & 1.125252e-03 & 46.815656 & 0.000000e+00\\\\\n",
       "\t Year\\_Built                 &  0.000169396 & 9.417602e-06 & 17.987171 & 8.437528e-68\\\\\n",
       "\t Neighborhood\\_College\\_Creek &  0.001172431 & 6.543981e-04 &  1.791618 & 7.332514e-02\\\\\n",
       "\t Neighborhood\\_Old\\_Town      & -0.002563072 & 6.699108e-04 & -3.825990 & 1.337055e-04\\\\\n",
       "\\end{tabular}\n"
      ],
      "text/markdown": [
       "\n",
       "A tibble: 5 × 5\n",
       "\n",
       "| term &lt;chr&gt; | estimate &lt;dbl&gt; | std.error &lt;dbl&gt; | statistic &lt;dbl&gt; | p.value &lt;dbl&gt; |\n",
       "|---|---|---|---|---|\n",
       "| (Intercept)                |  0.217538128 | 1.861768e-02 | 11.684492 | 1.098611e-30 |\n",
       "| Gr_Liv_Area                |  0.052679413 | 1.125252e-03 | 46.815656 | 0.000000e+00 |\n",
       "| Year_Built                 |  0.000169396 | 9.417602e-06 | 17.987171 | 8.437528e-68 |\n",
       "| Neighborhood_College_Creek |  0.001172431 | 6.543981e-04 |  1.791618 | 7.332514e-02 |\n",
       "| Neighborhood_Old_Town      | -0.002563072 | 6.699108e-04 | -3.825990 | 1.337055e-04 |\n",
       "\n"
      ],
      "text/plain": [
       "  term                       estimate     std.error    statistic p.value     \n",
       "1 (Intercept)                 0.217538128 1.861768e-02 11.684492 1.098611e-30\n",
       "2 Gr_Liv_Area                 0.052679413 1.125252e-03 46.815656 0.000000e+00\n",
       "3 Year_Built                  0.000169396 9.417602e-06 17.987171 8.437528e-68\n",
       "4 Neighborhood_College_Creek  0.001172431 6.543981e-04  1.791618 7.332514e-02\n",
       "5 Neighborhood_Old_Town      -0.002563072 6.699108e-04 -3.825990 1.337055e-04"
      ]
     },
     "metadata": {},
     "output_type": "display_data"
    }
   ],
   "source": [
    "lm_fit %>% extract_fit_parsnip() %>%\n",
    "    tidy() %>% slice(1:5)"
   ]
  },
  {
   "cell_type": "markdown",
   "id": "8b0fc4ed",
   "metadata": {},
   "source": [
    "<br>\n",
    "\n",
    "## 05.03. `recipe()` 단계의 예\n",
    "\n",
    "<br>\n",
    "\n",
    "#### 전처리 요소\n",
    "- 0 및 거의 0에 가까운 분산 변수는 제거해야 할 낮은 결과\n",
    "- 특성이 단일 고유 값만 포함한다는 의미의 제로 분산 변수는 모델에 유용한 정보를 제공하지 않는다.\n",
    "\n",
    "<br>\n",
    "\n",
    "\n",
    "#### Normalization\n",
    "- ```step_center(var)``` - 평균을 빼서 중심 이동\n",
    "- ```step_normalize(var)``` - 평균 빼고, 분산으로 나눠서 표준화\n",
    "\n",
    "<br> \n",
    "\n",
    "#### Filters\n",
    "- ```step_corr(threshold = 0.9)``` - 상관계수 절대값이 큰 변수 제거\n",
    "\n",
    "- ```step_rm(var)``` - 변수 제거\n",
    "\n",
    "- ```step_zv()``` - 분산이 0인 변수 제거\n",
    "\n",
    "- ```step_nzv()``` - 분산이 거의 0인 변수 제거\n",
    "\n",
    "<br> \n",
    "\n",
    "#### Transformations\n",
    "- ```step_log(var, base = exp(1))``` - 로그 변환\n",
    "\n",
    "- ```step_logit(var)``` - 로짓 변환\n",
    "\n",
    "- ```step_poly(var, degree = 2)``` - 변수에 polynomial term 추가(glm에서 poly() 와 동일, 즉 orthogonal polynomial 이용)\n",
    "\n",
    "- ```step_BoxCox()``` - Boxcox 변환\n",
    "\n",
    "- ```step_YeoJohnson()``` - YeoJohnson 변환\n",
    "\n",
    "<br> \n",
    "\n",
    "#### Discretization\n",
    "\n",
    "- ```step_discretize(var, num_breaks = 4)``` - 연속형 변수 이산형으로 변환\n",
    "\n",
    "- ```step_cut()``` - 연속형 변수를 지정한 값을 기준으로 이산형으로 변환\n",
    "    -include_outside_range - 지정한 범위를 넘어선 값을 양끝 break에 포함시킬지 여부. default = FALSE이며 결측치 처리됨\n",
    "    - breaks - 절단 기준이 되는 값\n",
    "\n",
    "<br> \n",
    "\n",
    "#### Dummy variables and encodings\n",
    "- ```step_string2factor()``` - 문자를 요인형으로\n",
    "\n",
    "- ```step_date()``` - date 변수에서 year, month, day of week 변수를 새롭게 생성\n",
    "    - feature = c(‘dow’, ‘month’, ‘year’) - 요일, 달, 연도 변수 추가\n",
    "    - abbr = T - Sunday or Sun\n",
    "    - label = Sunday or number\n",
    "\n",
    "- ```step_holiday()``` - date 변수에서 공휴일에 관한 이진변수 새롭게 생성\n",
    "    - holidays = c(‘LaborDay’, ‘NewYearDay’, ‘ChristmasDay’)\n",
    "    - holidays = timeDate::listHolidays(‘US’)\n",
    "\n",
    "- ```step_dummy()``` - character or factor 변수를 더미변수로 변환\n",
    "    - one_hot = TRUE - C +1개의 더미변수 생성(one_hot = F: C-1개 더미변수 생성\n",
    "- ```step_other()``` - 범주형 변수의 level이 여러개일 때, 하위 범주를 기타로 묶음\n",
    "    - threshold = 0.05 - 하위 5% 범주는 기타로 묶임\n",
    "    - other : 기타로 지정할 level 이름 지정\n",
    "\n",
    "- ```step_interact(~ A:B)``` - 상호작용 항 추가"
   ]
  },
  {
   "cell_type": "markdown",
   "id": "72940087",
   "metadata": {},
   "source": [
    "<br>\n",
    "\n",
    "#### 상호작용\n",
    "- ```step_interact(~ A:B)```"
   ]
  },
  {
   "cell_type": "code",
   "execution_count": 11,
   "id": "01f5b292",
   "metadata": {},
   "outputs": [],
   "source": [
    "simple_ames <-  recipe(Sale_Price ~ Neighborhood + Gr_Liv_Area + Year_Built + Bldg_Type,\n",
    "                       data = ames_train) %>%\n",
    "    step_log(Gr_Liv_Area, base = 10) %>% \n",
    "    step_other(Neighborhood, threshold = 0.01) %>% \n",
    "    step_dummy(all_nominal_predictors()) %>% \n",
    "    step_interact( ~ Gr_Liv_Area:starts_with(\"Bldg_Type_\") )"
   ]
  },
  {
   "cell_type": "markdown",
   "id": "d3cbe1d9",
   "metadata": {},
   "source": [
    "<br>\n",
    "\n",
    "#### 스플라인 함수\n",
    "- 반응변수가 설명변수가 비선형 관계를 갖는 경우 스플라인 함수를 통하여 이 관계를 적응적으로 근사화할 수 있음. \n",
    "- 스플라인은 더 많은 스플라인 항이 데이터에 추가될수록 관계를 비선형적으로 표현하는 능력이 증가\n",
    "- **하지만 데이터 추세(즉, 과적합)를 포착할 가능성도 증가**"
   ]
  },
  {
   "cell_type": "code",
   "execution_count": 12,
   "id": "ce3a0316",
   "metadata": {},
   "outputs": [],
   "source": [
    "library(patchwork)\n",
    "library(splines)"
   ]
  },
  {
   "cell_type": "code",
   "execution_count": 13,
   "id": "91540cb2",
   "metadata": {},
   "outputs": [
    {
     "data": {
      "image/png": "[encoded data removed]",
      "text/plain": [
       "plot without title"
      ]
     },
     "metadata": {
      "image/png": {
       "height": 420,
       "width": 420
      }
     },
     "output_type": "display_data"
    }
   ],
   "source": [
    "plot_smoother <- function(deg_free) {\n",
    "    ggplot(ames_train, aes(Latitude, 10^Sale_Price)) + \n",
    "        geom_point(alpha = .2) + \n",
    "        scale_y_log10() +\n",
    "        geom_smooth(\n",
    "            method = lm,\n",
    "            formula = y ~ ns(x, df = deg_free),\n",
    "            color = \"lightblue\",\n",
    "            se = FALSE\n",
    "        ) + \n",
    "        labs(title = paste(deg_free, \"Spline Terms\"),\n",
    "             y = \"Sale Price (USD)\")\n",
    "}\n",
    "\n",
    "(plot_smoother(2) + plot_smoother(5)) / (plot_smoother(20) + plot_smoother(100))"
   ]
  },
  {
   "cell_type": "markdown",
   "id": "b42ec99d",
   "metadata": {},
   "source": [
    "<br>\n",
    "\n",
    "#### ```step_ns(변수, deg_free)``` : 자연 스플라인함수\n",
    "\n",
    "<br>\n",
    "\n",
    "1. `Gr_Liv_Area` 변수에 대한 로그변환\n",
    "2. `Neighborhood` 범주형 변수의 하위 변수를 통일\n",
    "3. 모든 범주형 변수에 대한 가변수화\n",
    "4. `Gr_Liv_Area`와 `Bldg_Type_`로 시작하는 모든 변수들의 상호작용항 생성\n",
    "5. `Latitude` 변수에 대한 자연 스플라인 함수 적용\n"
   ]
  },
  {
   "cell_type": "code",
   "execution_count": 14,
   "id": "87ff3799",
   "metadata": {},
   "outputs": [
    {
     "name": "stderr",
     "output_type": "stream",
     "text": [
      "\n",
      "\n",
      "\u001b[36m──\u001b[39m \u001b[1mRecipe\u001b[22m \u001b[36m──────────────────────────────────────────────────────────────────────────────────────────────────────────────\u001b[39m\n",
      "\n",
      "\n",
      "\n",
      "── Inputs \n",
      "\n",
      "Number of variables by role\n",
      "\n",
      "outcome:   1\n",
      "predictor: 5\n",
      "\n",
      "\n",
      "\n",
      "── Operations \n",
      "\n",
      "\u001b[36m•\u001b[39m Log transformation on: \u001b[34mGr_Liv_Area\u001b[39m\n",
      "\n",
      "\u001b[36m•\u001b[39m Collapsing factor levels for: \u001b[34mNeighborhood\u001b[39m\n",
      "\n",
      "\u001b[36m•\u001b[39m Dummy variables from: \u001b[34mall_nominal_predictors()\u001b[39m\n",
      "\n",
      "\u001b[36m•\u001b[39m Interactions with: \u001b[34mGr_Liv_Area:starts_with(\"Bldg_Type_\")\u001b[39m\n",
      "\n",
      "\u001b[36m•\u001b[39m Natural splines on: \u001b[34mLatitude\u001b[39m\n",
      "\n"
     ]
    }
   ],
   "source": [
    "recipe(Sale_Price ~ Neighborhood + Gr_Liv_Area + Year_Built + Bldg_Type + Latitude,\n",
    "       data = ames_train) %>%\n",
    "    step_log(Gr_Liv_Area, base = 10) %>% \n",
    "    step_other(Neighborhood, threshold = 0.01) %>% \n",
    "    step_dummy(all_nominal_predictors()) %>% \n",
    "    step_interact( ~ Gr_Liv_Area:starts_with(\"Bldg_Type_\") ) %>% \n",
    "    step_ns(Latitude, deg_free = 20)"
   ]
  },
  {
   "cell_type": "markdown",
   "id": "70a9f485",
   "metadata": {},
   "source": [
    "<br>\n",
    "\n",
    "### 차원축소\n",
    "- **여러 변수를 한 번에 표현하는 또 다른 일반적인 방법은 차원축소**\n",
    "- 더 넓은 집합의 정보를 전체적으로 포착하는 예측 변수로부터 새로운 변수를 생성\n",
    "    - 주성분 분석(PCA)은 선형 추출 방법. 각각의 새로운 변수는 원래 예측 변수의 선형 조\n",
    "    \n",
    "        PCA의 한 가지 좋은 측면은 주성분 또는 PCA 점수라고 불리는 각각의 새로운 기능이 서로 상관되지 않는다는 것\n",
    "        \n",
    "        이 때문에 PCA는 예측 변수 간의 상관 관계를 줄이는 데 매우 효과\n",
    "        \n",
    "        \n",
    "\n",
    "<br>\n",
    "\n",
    "#### ```step_pca()``` : 주성분 분석\n",
    "#### ```step_ica()``` : 독립 성분 분석\n",
    "#### ```step_nnmf()``` : 비음수 행렬 분해\n",
    "#### ```step_isomap()``` : 다차원 척도 분석\n",
    "#### ```step_umap()``` : 균일한 다양체 근사 및 투영"
   ]
  },
  {
   "cell_type": "markdown",
   "id": "b1e91160",
   "metadata": {},
   "source": [
    "<br>\n",
    "\n",
    "\n",
    "### 데이터 샘플링 \n",
    "- 클래스 불균형에 대한 서브샘플링은 모델에 제공되는 데이터의 클래스 비율을 변경\n",
    "    - 이러한 기술은 전체 성능을 향상시키지 못하는 경우가 많지만, 예측 변수 클래스 확률의 더 나은 분포를 생성할 수 있음. \n",
    "\n",
    "- **다운 샘플링 : 소수 클래스는 유지되고 다수 클래스의 무작위 샘플 추출**\n",
    "\n",
    "\n",
    "#### ```step_downsample()```\n",
    "\n",
    "\n",
    "<br>\n",
    "\n",
    "- **업 샘플링 : 소수 클래스의 샘플을 복제하여 클래스의 균형을 유지**\n",
    "\n",
    "#### ```step_upsample()```\n",
    "#### ```step_adasyn()``` : 소수 클래스 데이터와 그 데이터에서 가장 가까운 k개의 소수 클래스 데이터 중 무작위로 선택된 데이터 사이의 직선상에 가상의 소수 클래스 데이터를 생성\n",
    "#### ```step_bsmote()```\n",
    "#### ```step_smote()```\n",
    "\n",
    "<br>\n",
    "\n",
    "- **하이브리드 : 다운 샘플링과 업 샘플링을 조합**\n",
    "\n",
    "#### ```step_tomek()```\n",
    "#### ```step_smotenc()```"
   ]
  },
  {
   "cell_type": "markdown",
   "id": "8a8ffbcf",
   "metadata": {},
   "source": [
    "<br>\n",
    "\n",
    "#### 일반 샘플링\n",
    "#### ```step_sample()```\n",
    "\n",
    "\n",
    "\n",
    "<br> \n",
    "\n",
    "#### 기타 샘플링\n",
    "\n",
    "#### ```step_filter()```\n",
    "#### ```step_slice()``` \n",
    "#### ```step_arrange()```\n",
    "#### ```step_naomit()```"
   ]
  },
  {
   "cell_type": "markdown",
   "id": "a90ded31",
   "metadata": {},
   "source": [
    "<br>\n",
    "\n",
    "### 일반 변환\n",
    "#### ```step_mutate()``` : `dplyr::mutate()`를 `recipe` 단계에서 적용"
   ]
  },
  {
   "cell_type": "markdown",
   "id": "5ed7bdfe",
   "metadata": {},
   "source": [
    "<br>\n",
    "\n",
    "### 자연어 처리\n",
    "https://textrecipes.tidymodels.org/index.html\n"
   ]
  },
  {
   "cell_type": "code",
   "execution_count": 15,
   "id": "9acf4886",
   "metadata": {},
   "outputs": [],
   "source": [
    "library(textrecipes)\n",
    "library(stopwords)"
   ]
  },
  {
   "cell_type": "code",
   "execution_count": 16,
   "id": "d22df5b2",
   "metadata": {},
   "outputs": [],
   "source": [
    "data(\"tate_text\")"
   ]
  },
  {
   "cell_type": "code",
   "execution_count": 17,
   "id": "13f8b965",
   "metadata": {},
   "outputs": [
    {
     "data": {
      "text/html": [
       "<table class=\"dataframe\">\n",
       "<caption>A tibble: 6 × 5</caption>\n",
       "<thead>\n",
       "\t<tr><th scope=col>id</th><th scope=col>artist</th><th scope=col>title</th><th scope=col>medium</th><th scope=col>year</th></tr>\n",
       "\t<tr><th scope=col>&lt;dbl&gt;</th><th scope=col>&lt;fct&gt;</th><th scope=col>&lt;chr&gt;</th><th scope=col>&lt;fct&gt;</th><th scope=col>&lt;dbl&gt;</th></tr>\n",
       "</thead>\n",
       "<tbody>\n",
       "\t<tr><td>21926</td><td>Absalon           </td><td>Proposals for a Habitat</td><td>Video, monitor or projection, colour and sound (stereo)</td><td>1990</td></tr>\n",
       "\t<tr><td>20472</td><td>Auerbach, Frank   </td><td>Michael                </td><td>Etching on paper                                       </td><td>1990</td></tr>\n",
       "\t<tr><td>20474</td><td>Auerbach, Frank   </td><td>Geoffrey               </td><td>Etching on paper                                       </td><td>1990</td></tr>\n",
       "\t<tr><td>20473</td><td>Auerbach, Frank   </td><td>Jake                   </td><td>Etching on paper                                       </td><td>1990</td></tr>\n",
       "\t<tr><td>20513</td><td>Auerbach, Frank   </td><td>To the Studios         </td><td>Oil paint on canvas                                    </td><td>1990</td></tr>\n",
       "\t<tr><td>21389</td><td>Ayres, OBE Gillian</td><td>Phaëthon               </td><td>Oil paint on canvas                                    </td><td>1990</td></tr>\n",
       "</tbody>\n",
       "</table>\n"
      ],
      "text/latex": [
       "A tibble: 6 × 5\n",
       "\\begin{tabular}{lllll}\n",
       " id & artist & title & medium & year\\\\\n",
       " <dbl> & <fct> & <chr> & <fct> & <dbl>\\\\\n",
       "\\hline\n",
       "\t 21926 & Absalon            & Proposals for a Habitat & Video, monitor or projection, colour and sound (stereo) & 1990\\\\\n",
       "\t 20472 & Auerbach, Frank    & Michael                 & Etching on paper                                        & 1990\\\\\n",
       "\t 20474 & Auerbach, Frank    & Geoffrey                & Etching on paper                                        & 1990\\\\\n",
       "\t 20473 & Auerbach, Frank    & Jake                    & Etching on paper                                        & 1990\\\\\n",
       "\t 20513 & Auerbach, Frank    & To the Studios          & Oil paint on canvas                                     & 1990\\\\\n",
       "\t 21389 & Ayres, OBE Gillian & Phaëthon                & Oil paint on canvas                                     & 1990\\\\\n",
       "\\end{tabular}\n"
      ],
      "text/markdown": [
       "\n",
       "A tibble: 6 × 5\n",
       "\n",
       "| id &lt;dbl&gt; | artist &lt;fct&gt; | title &lt;chr&gt; | medium &lt;fct&gt; | year &lt;dbl&gt; |\n",
       "|---|---|---|---|---|\n",
       "| 21926 | Absalon            | Proposals for a Habitat | Video, monitor or projection, colour and sound (stereo) | 1990 |\n",
       "| 20472 | Auerbach, Frank    | Michael                 | Etching on paper                                        | 1990 |\n",
       "| 20474 | Auerbach, Frank    | Geoffrey                | Etching on paper                                        | 1990 |\n",
       "| 20473 | Auerbach, Frank    | Jake                    | Etching on paper                                        | 1990 |\n",
       "| 20513 | Auerbach, Frank    | To the Studios          | Oil paint on canvas                                     | 1990 |\n",
       "| 21389 | Ayres, OBE Gillian | Phaëthon                | Oil paint on canvas                                     | 1990 |\n",
       "\n"
      ],
      "text/plain": [
       "  id    artist             title                  \n",
       "1 21926 Absalon            Proposals for a Habitat\n",
       "2 20472 Auerbach, Frank    Michael                \n",
       "3 20474 Auerbach, Frank    Geoffrey               \n",
       "4 20473 Auerbach, Frank    Jake                   \n",
       "5 20513 Auerbach, Frank    To the Studios         \n",
       "6 21389 Ayres, OBE Gillian Phaëthon               \n",
       "  medium                                                  year\n",
       "1 Video, monitor or projection, colour and sound (stereo) 1990\n",
       "2 Etching on paper                                        1990\n",
       "3 Etching on paper                                        1990\n",
       "4 Etching on paper                                        1990\n",
       "5 Oil paint on canvas                                     1990\n",
       "6 Oil paint on canvas                                     1990"
      ]
     },
     "metadata": {},
     "output_type": "display_data"
    },
    {
     "data": {
      "text/html": [
       "<style>\n",
       ".list-inline {list-style: none; margin:0; padding: 0}\n",
       ".list-inline>li {display: inline-block}\n",
       ".list-inline>li:not(:last-child)::after {content: \"\\00b7\"; padding: 0 .5ex}\n",
       "</style>\n",
       "<ol class=list-inline><li>4284</li><li>5</li></ol>\n"
      ],
      "text/latex": [
       "\\begin{enumerate*}\n",
       "\\item 4284\n",
       "\\item 5\n",
       "\\end{enumerate*}\n"
      ],
      "text/markdown": [
       "1. 4284\n",
       "2. 5\n",
       "\n",
       "\n"
      ],
      "text/plain": [
       "[1] 4284    5"
      ]
     },
     "metadata": {},
     "output_type": "display_data"
    }
   ],
   "source": [
    "tate_text %>% head()\n",
    "tate_text %>% dim"
   ]
  },
  {
   "cell_type": "code",
   "execution_count": 18,
   "id": "5564849e",
   "metadata": {},
   "outputs": [],
   "source": [
    "okc_rec <- recipe(~ medium + artist, data = tate_text) %>%\n",
    "    step_tokenize(medium, artist) %>%\n",
    "    step_stopwords(medium, artist) %>%\n",
    "    step_tokenfilter(medium, artist, max_tokens = 10) %>%\n",
    "    step_tfidf(medium, artist)\n",
    "\n",
    "okc_obj <- okc_rec %>% prep()"
   ]
  },
  {
   "cell_type": "code",
   "execution_count": 19,
   "id": "38eecb21",
   "metadata": {},
   "outputs": [
    {
     "data": {
      "text/html": [
       "<table class=\"dataframe\">\n",
       "<caption>A tibble: 6 × 20</caption>\n",
       "<thead>\n",
       "\t<tr><th scope=col>tfidf_medium_colour</th><th scope=col>tfidf_medium_etching</th><th scope=col>tfidf_medium_gelatin</th><th scope=col>tfidf_medium_lithograph</th><th scope=col>tfidf_medium_paint</th><th scope=col>tfidf_medium_paper</th><th scope=col>tfidf_medium_photograph</th><th scope=col>tfidf_medium_print</th><th scope=col>tfidf_medium_screenprint</th><th scope=col>tfidf_medium_silver</th><th scope=col>tfidf_artist_akram</th><th scope=col>tfidf_artist_beuys</th><th scope=col>tfidf_artist_ferrari</th><th scope=col>tfidf_artist_john</th><th scope=col>tfidf_artist_joseph</th><th scope=col>tfidf_artist_león</th><th scope=col>tfidf_artist_richard</th><th scope=col>tfidf_artist_schütte</th><th scope=col>tfidf_artist_thomas</th><th scope=col>tfidf_artist_zaatari</th></tr>\n",
       "\t<tr><th scope=col>&lt;dbl&gt;</th><th scope=col>&lt;dbl&gt;</th><th scope=col>&lt;dbl&gt;</th><th scope=col>&lt;dbl&gt;</th><th scope=col>&lt;dbl&gt;</th><th scope=col>&lt;dbl&gt;</th><th scope=col>&lt;dbl&gt;</th><th scope=col>&lt;dbl&gt;</th><th scope=col>&lt;dbl&gt;</th><th scope=col>&lt;dbl&gt;</th><th scope=col>&lt;dbl&gt;</th><th scope=col>&lt;dbl&gt;</th><th scope=col>&lt;dbl&gt;</th><th scope=col>&lt;dbl&gt;</th><th scope=col>&lt;dbl&gt;</th><th scope=col>&lt;dbl&gt;</th><th scope=col>&lt;dbl&gt;</th><th scope=col>&lt;dbl&gt;</th><th scope=col>&lt;dbl&gt;</th><th scope=col>&lt;dbl&gt;</th></tr>\n",
       "</thead>\n",
       "<tbody>\n",
       "\t<tr><td>2.314009</td><td>0.0000000</td><td>0</td><td>0</td><td>0.000000</td><td>0.0000000</td><td>0</td><td>0</td><td>0</td><td>0</td><td>0</td><td>0</td><td>0</td><td>0</td><td>0</td><td>0</td><td>0</td><td>0</td><td>0</td><td>0</td></tr>\n",
       "\t<tr><td>0.000000</td><td>0.8601965</td><td>0</td><td>0</td><td>0.000000</td><td>0.4217902</td><td>0</td><td>0</td><td>0</td><td>0</td><td>0</td><td>0</td><td>0</td><td>0</td><td>0</td><td>0</td><td>0</td><td>0</td><td>0</td><td>0</td></tr>\n",
       "\t<tr><td>0.000000</td><td>0.8601965</td><td>0</td><td>0</td><td>0.000000</td><td>0.4217902</td><td>0</td><td>0</td><td>0</td><td>0</td><td>0</td><td>0</td><td>0</td><td>0</td><td>0</td><td>0</td><td>0</td><td>0</td><td>0</td><td>0</td></tr>\n",
       "\t<tr><td>0.000000</td><td>0.8601965</td><td>0</td><td>0</td><td>0.000000</td><td>0.4217902</td><td>0</td><td>0</td><td>0</td><td>0</td><td>0</td><td>0</td><td>0</td><td>0</td><td>0</td><td>0</td><td>0</td><td>0</td><td>0</td><td>0</td></tr>\n",
       "\t<tr><td>0.000000</td><td>0.0000000</td><td>0</td><td>0</td><td>2.353278</td><td>0.0000000</td><td>0</td><td>0</td><td>0</td><td>0</td><td>0</td><td>0</td><td>0</td><td>0</td><td>0</td><td>0</td><td>0</td><td>0</td><td>0</td><td>0</td></tr>\n",
       "\t<tr><td>0.000000</td><td>0.0000000</td><td>0</td><td>0</td><td>2.353278</td><td>0.0000000</td><td>0</td><td>0</td><td>0</td><td>0</td><td>0</td><td>0</td><td>0</td><td>0</td><td>0</td><td>0</td><td>0</td><td>0</td><td>0</td><td>0</td></tr>\n",
       "</tbody>\n",
       "</table>\n"
      ],
      "text/latex": [
       "A tibble: 6 × 20\n",
       "\\begin{tabular}{llllllllllllllllllll}\n",
       " tfidf\\_medium\\_colour & tfidf\\_medium\\_etching & tfidf\\_medium\\_gelatin & tfidf\\_medium\\_lithograph & tfidf\\_medium\\_paint & tfidf\\_medium\\_paper & tfidf\\_medium\\_photograph & tfidf\\_medium\\_print & tfidf\\_medium\\_screenprint & tfidf\\_medium\\_silver & tfidf\\_artist\\_akram & tfidf\\_artist\\_beuys & tfidf\\_artist\\_ferrari & tfidf\\_artist\\_john & tfidf\\_artist\\_joseph & tfidf\\_artist\\_león & tfidf\\_artist\\_richard & tfidf\\_artist\\_schütte & tfidf\\_artist\\_thomas & tfidf\\_artist\\_zaatari\\\\\n",
       " <dbl> & <dbl> & <dbl> & <dbl> & <dbl> & <dbl> & <dbl> & <dbl> & <dbl> & <dbl> & <dbl> & <dbl> & <dbl> & <dbl> & <dbl> & <dbl> & <dbl> & <dbl> & <dbl> & <dbl>\\\\\n",
       "\\hline\n",
       "\t 2.314009 & 0.0000000 & 0 & 0 & 0.000000 & 0.0000000 & 0 & 0 & 0 & 0 & 0 & 0 & 0 & 0 & 0 & 0 & 0 & 0 & 0 & 0\\\\\n",
       "\t 0.000000 & 0.8601965 & 0 & 0 & 0.000000 & 0.4217902 & 0 & 0 & 0 & 0 & 0 & 0 & 0 & 0 & 0 & 0 & 0 & 0 & 0 & 0\\\\\n",
       "\t 0.000000 & 0.8601965 & 0 & 0 & 0.000000 & 0.4217902 & 0 & 0 & 0 & 0 & 0 & 0 & 0 & 0 & 0 & 0 & 0 & 0 & 0 & 0\\\\\n",
       "\t 0.000000 & 0.8601965 & 0 & 0 & 0.000000 & 0.4217902 & 0 & 0 & 0 & 0 & 0 & 0 & 0 & 0 & 0 & 0 & 0 & 0 & 0 & 0\\\\\n",
       "\t 0.000000 & 0.0000000 & 0 & 0 & 2.353278 & 0.0000000 & 0 & 0 & 0 & 0 & 0 & 0 & 0 & 0 & 0 & 0 & 0 & 0 & 0 & 0\\\\\n",
       "\t 0.000000 & 0.0000000 & 0 & 0 & 2.353278 & 0.0000000 & 0 & 0 & 0 & 0 & 0 & 0 & 0 & 0 & 0 & 0 & 0 & 0 & 0 & 0\\\\\n",
       "\\end{tabular}\n"
      ],
      "text/markdown": [
       "\n",
       "A tibble: 6 × 20\n",
       "\n",
       "| tfidf_medium_colour &lt;dbl&gt; | tfidf_medium_etching &lt;dbl&gt; | tfidf_medium_gelatin &lt;dbl&gt; | tfidf_medium_lithograph &lt;dbl&gt; | tfidf_medium_paint &lt;dbl&gt; | tfidf_medium_paper &lt;dbl&gt; | tfidf_medium_photograph &lt;dbl&gt; | tfidf_medium_print &lt;dbl&gt; | tfidf_medium_screenprint &lt;dbl&gt; | tfidf_medium_silver &lt;dbl&gt; | tfidf_artist_akram &lt;dbl&gt; | tfidf_artist_beuys &lt;dbl&gt; | tfidf_artist_ferrari &lt;dbl&gt; | tfidf_artist_john &lt;dbl&gt; | tfidf_artist_joseph &lt;dbl&gt; | tfidf_artist_león &lt;dbl&gt; | tfidf_artist_richard &lt;dbl&gt; | tfidf_artist_schütte &lt;dbl&gt; | tfidf_artist_thomas &lt;dbl&gt; | tfidf_artist_zaatari &lt;dbl&gt; |\n",
       "|---|---|---|---|---|---|---|---|---|---|---|---|---|---|---|---|---|---|---|---|\n",
       "| 2.314009 | 0.0000000 | 0 | 0 | 0.000000 | 0.0000000 | 0 | 0 | 0 | 0 | 0 | 0 | 0 | 0 | 0 | 0 | 0 | 0 | 0 | 0 |\n",
       "| 0.000000 | 0.8601965 | 0 | 0 | 0.000000 | 0.4217902 | 0 | 0 | 0 | 0 | 0 | 0 | 0 | 0 | 0 | 0 | 0 | 0 | 0 | 0 |\n",
       "| 0.000000 | 0.8601965 | 0 | 0 | 0.000000 | 0.4217902 | 0 | 0 | 0 | 0 | 0 | 0 | 0 | 0 | 0 | 0 | 0 | 0 | 0 | 0 |\n",
       "| 0.000000 | 0.8601965 | 0 | 0 | 0.000000 | 0.4217902 | 0 | 0 | 0 | 0 | 0 | 0 | 0 | 0 | 0 | 0 | 0 | 0 | 0 | 0 |\n",
       "| 0.000000 | 0.0000000 | 0 | 0 | 2.353278 | 0.0000000 | 0 | 0 | 0 | 0 | 0 | 0 | 0 | 0 | 0 | 0 | 0 | 0 | 0 | 0 |\n",
       "| 0.000000 | 0.0000000 | 0 | 0 | 2.353278 | 0.0000000 | 0 | 0 | 0 | 0 | 0 | 0 | 0 | 0 | 0 | 0 | 0 | 0 | 0 | 0 |\n",
       "\n"
      ],
      "text/plain": [
       "  tfidf_medium_colour tfidf_medium_etching tfidf_medium_gelatin\n",
       "1 2.314009            0.0000000            0                   \n",
       "2 0.000000            0.8601965            0                   \n",
       "3 0.000000            0.8601965            0                   \n",
       "4 0.000000            0.8601965            0                   \n",
       "5 0.000000            0.0000000            0                   \n",
       "6 0.000000            0.0000000            0                   \n",
       "  tfidf_medium_lithograph tfidf_medium_paint tfidf_medium_paper\n",
       "1 0                       0.000000           0.0000000         \n",
       "2 0                       0.000000           0.4217902         \n",
       "3 0                       0.000000           0.4217902         \n",
       "4 0                       0.000000           0.4217902         \n",
       "5 0                       2.353278           0.0000000         \n",
       "6 0                       2.353278           0.0000000         \n",
       "  tfidf_medium_photograph tfidf_medium_print tfidf_medium_screenprint\n",
       "1 0                       0                  0                       \n",
       "2 0                       0                  0                       \n",
       "3 0                       0                  0                       \n",
       "4 0                       0                  0                       \n",
       "5 0                       0                  0                       \n",
       "6 0                       0                  0                       \n",
       "  tfidf_medium_silver tfidf_artist_akram tfidf_artist_beuys\n",
       "1 0                   0                  0                 \n",
       "2 0                   0                  0                 \n",
       "3 0                   0                  0                 \n",
       "4 0                   0                  0                 \n",
       "5 0                   0                  0                 \n",
       "6 0                   0                  0                 \n",
       "  tfidf_artist_ferrari tfidf_artist_john tfidf_artist_joseph tfidf_artist_león\n",
       "1 0                    0                 0                   0                \n",
       "2 0                    0                 0                   0                \n",
       "3 0                    0                 0                   0                \n",
       "4 0                    0                 0                   0                \n",
       "5 0                    0                 0                   0                \n",
       "6 0                    0                 0                   0                \n",
       "  tfidf_artist_richard tfidf_artist_schütte tfidf_artist_thomas\n",
       "1 0                    0                    0                  \n",
       "2 0                    0                    0                  \n",
       "3 0                    0                    0                  \n",
       "4 0                    0                    0                  \n",
       "5 0                    0                    0                  \n",
       "6 0                    0                    0                  \n",
       "  tfidf_artist_zaatari\n",
       "1 0                   \n",
       "2 0                   \n",
       "3 0                   \n",
       "4 0                   \n",
       "5 0                   \n",
       "6 0                   "
      ]
     },
     "metadata": {},
     "output_type": "display_data"
    },
    {
     "data": {
      "text/html": [
       "<style>\n",
       ".list-inline {list-style: none; margin:0; padding: 0}\n",
       ".list-inline>li {display: inline-block}\n",
       ".list-inline>li:not(:last-child)::after {content: \"\\00b7\"; padding: 0 .5ex}\n",
       "</style>\n",
       "<ol class=list-inline><li>4284</li><li>20</li></ol>\n"
      ],
      "text/latex": [
       "\\begin{enumerate*}\n",
       "\\item 4284\n",
       "\\item 20\n",
       "\\end{enumerate*}\n"
      ],
      "text/markdown": [
       "1. 4284\n",
       "2. 20\n",
       "\n",
       "\n"
      ],
      "text/plain": [
       "[1] 4284   20"
      ]
     },
     "metadata": {},
     "output_type": "display_data"
    }
   ],
   "source": [
    "bake(okc_obj, tate_text) %>% head()\n",
    "bake(okc_obj, tate_text) %>% dim"
   ]
  },
  {
   "cell_type": "markdown",
   "id": "cbc3a0c3",
   "metadata": {},
   "source": [
    "<br>"
   ]
  },
  {
   "cell_type": "markdown",
   "id": "c1337fa6",
   "metadata": {},
   "source": [
    "## 05.05. Tidy a recipe\n",
    "- **모든 ```step_*```에서 ```id```지정 가능**\n",
    "    - ```id```를 설정하면, 동일한 recpipe의 step이 두 번 이상 사용되는 경우 식별 가능"
   ]
  },
  {
   "cell_type": "markdown",
   "id": "089e7805",
   "metadata": {},
   "source": [
    "<br>\n",
    "\n",
    "- 각 `recipe` 단계별 `id` 주기"
   ]
  },
  {
   "cell_type": "code",
   "execution_count": 27,
   "id": "efebb20f",
   "metadata": {},
   "outputs": [],
   "source": [
    "ames_rec <- recipe(Sale_Price ~ Neighborhood + Gr_Liv_Area + Year_Built + Bldg_Type + \n",
    "           Latitude + Longitude, data = ames_train) %>%\n",
    "  step_log(Gr_Liv_Area, base = 10) %>% \n",
    "  step_other(Neighborhood, threshold = 0.01, id = \"my_id\") %>% \n",
    "  step_dummy(all_nominal_predictors()) %>% \n",
    "  step_interact( ~ Gr_Liv_Area:starts_with(\"Bldg_Type_\") ) %>% \n",
    "  step_ns(Latitude, Longitude, deg_free = 20)"
   ]
  },
  {
   "cell_type": "code",
   "execution_count": 28,
   "id": "93bb9515",
   "metadata": {},
   "outputs": [
    {
     "data": {
      "text/html": [
       "<table class=\"dataframe\">\n",
       "<caption>A tibble: 5 × 6</caption>\n",
       "<thead>\n",
       "\t<tr><th scope=col>number</th><th scope=col>operation</th><th scope=col>type</th><th scope=col>trained</th><th scope=col>skip</th><th scope=col>id</th></tr>\n",
       "\t<tr><th scope=col>&lt;int&gt;</th><th scope=col>&lt;chr&gt;</th><th scope=col>&lt;chr&gt;</th><th scope=col>&lt;lgl&gt;</th><th scope=col>&lt;lgl&gt;</th><th scope=col>&lt;chr&gt;</th></tr>\n",
       "</thead>\n",
       "<tbody>\n",
       "\t<tr><td>1</td><td>step</td><td>log     </td><td>FALSE</td><td>FALSE</td><td>log_WpTEM     </td></tr>\n",
       "\t<tr><td>2</td><td>step</td><td>other   </td><td>FALSE</td><td>FALSE</td><td>my_id         </td></tr>\n",
       "\t<tr><td>3</td><td>step</td><td>dummy   </td><td>FALSE</td><td>FALSE</td><td>dummy_ykI1F   </td></tr>\n",
       "\t<tr><td>4</td><td>step</td><td>interact</td><td>FALSE</td><td>FALSE</td><td>interact_cmRNx</td></tr>\n",
       "\t<tr><td>5</td><td>step</td><td>ns      </td><td>FALSE</td><td>FALSE</td><td>ns_2VDh3      </td></tr>\n",
       "</tbody>\n",
       "</table>\n"
      ],
      "text/latex": [
       "A tibble: 5 × 6\n",
       "\\begin{tabular}{llllll}\n",
       " number & operation & type & trained & skip & id\\\\\n",
       " <int> & <chr> & <chr> & <lgl> & <lgl> & <chr>\\\\\n",
       "\\hline\n",
       "\t 1 & step & log      & FALSE & FALSE & log\\_WpTEM     \\\\\n",
       "\t 2 & step & other    & FALSE & FALSE & my\\_id         \\\\\n",
       "\t 3 & step & dummy    & FALSE & FALSE & dummy\\_ykI1F   \\\\\n",
       "\t 4 & step & interact & FALSE & FALSE & interact\\_cmRNx\\\\\n",
       "\t 5 & step & ns       & FALSE & FALSE & ns\\_2VDh3      \\\\\n",
       "\\end{tabular}\n"
      ],
      "text/markdown": [
       "\n",
       "A tibble: 5 × 6\n",
       "\n",
       "| number &lt;int&gt; | operation &lt;chr&gt; | type &lt;chr&gt; | trained &lt;lgl&gt; | skip &lt;lgl&gt; | id &lt;chr&gt; |\n",
       "|---|---|---|---|---|---|\n",
       "| 1 | step | log      | FALSE | FALSE | log_WpTEM      |\n",
       "| 2 | step | other    | FALSE | FALSE | my_id          |\n",
       "| 3 | step | dummy    | FALSE | FALSE | dummy_ykI1F    |\n",
       "| 4 | step | interact | FALSE | FALSE | interact_cmRNx |\n",
       "| 5 | step | ns       | FALSE | FALSE | ns_2VDh3       |\n",
       "\n"
      ],
      "text/plain": [
       "  number operation type     trained skip  id            \n",
       "1 1      step      log      FALSE   FALSE log_WpTEM     \n",
       "2 2      step      other    FALSE   FALSE my_id         \n",
       "3 3      step      dummy    FALSE   FALSE dummy_ykI1F   \n",
       "4 4      step      interact FALSE   FALSE interact_cmRNx\n",
       "5 5      step      ns       FALSE   FALSE ns_2VDh3      "
      ]
     },
     "metadata": {},
     "output_type": "display_data"
    }
   ],
   "source": [
    "tidy(ames_rec)"
   ]
  },
  {
   "cell_type": "markdown",
   "id": "1e1cae8e",
   "metadata": {},
   "source": [
    "- 모델 정의"
   ]
  },
  {
   "cell_type": "code",
   "execution_count": 29,
   "id": "078a6ff0",
   "metadata": {},
   "outputs": [],
   "source": [
    "lm_model <- linear_reg() %>% set_engine(\"lm\")"
   ]
  },
  {
   "cell_type": "markdown",
   "id": "b0c3e80b",
   "metadata": {},
   "source": [
    "- 워크플로 생성 및 `recipie` 적용"
   ]
  },
  {
   "cell_type": "code",
   "execution_count": 30,
   "id": "6d8ee58e",
   "metadata": {},
   "outputs": [],
   "source": [
    "lm_wflow <- workflow() %>%\n",
    "    add_model(lm_model) %>%\n",
    "    add_recipe(ames_rec)"
   ]
  },
  {
   "cell_type": "markdown",
   "id": "1422264e",
   "metadata": {},
   "source": [
    "- 모델 적합"
   ]
  },
  {
   "cell_type": "code",
   "execution_count": 31,
   "id": "9f09d973",
   "metadata": {},
   "outputs": [],
   "source": [
    "lm_fit <- fit(lm_wflow, ames_train)"
   ]
  },
  {
   "cell_type": "markdown",
   "id": "cefdfbd3",
   "metadata": {},
   "source": [
    "<br>\n",
    "\n",
    "#### `extract_recipe()` : `id`를 통한 `recipe` 단계별 결과 확인\n",
    "- `id = 'my_id'` : `step_pther` (하위 범주 통일) 결과 확인"
   ]
  },
  {
   "cell_type": "code",
   "execution_count": 35,
   "id": "bc47718e",
   "metadata": {
    "scrolled": false
   },
   "outputs": [
    {
     "data": {
      "text/html": [
       "<table class=\"dataframe\">\n",
       "<caption>A tibble: 21 × 3</caption>\n",
       "<thead>\n",
       "\t<tr><th scope=col>terms</th><th scope=col>retained</th><th scope=col>id</th></tr>\n",
       "\t<tr><th scope=col>&lt;chr&gt;</th><th scope=col>&lt;chr&gt;</th><th scope=col>&lt;chr&gt;</th></tr>\n",
       "</thead>\n",
       "<tbody>\n",
       "\t<tr><td>Neighborhood</td><td>North_Ames                             </td><td>my_id</td></tr>\n",
       "\t<tr><td>Neighborhood</td><td>College_Creek                          </td><td>my_id</td></tr>\n",
       "\t<tr><td>Neighborhood</td><td>Old_Town                               </td><td>my_id</td></tr>\n",
       "\t<tr><td>Neighborhood</td><td>Edwards                                </td><td>my_id</td></tr>\n",
       "\t<tr><td>Neighborhood</td><td>Somerset                               </td><td>my_id</td></tr>\n",
       "\t<tr><td>Neighborhood</td><td>Northridge_Heights                     </td><td>my_id</td></tr>\n",
       "\t<tr><td>Neighborhood</td><td>Gilbert                                </td><td>my_id</td></tr>\n",
       "\t<tr><td>Neighborhood</td><td>Sawyer                                 </td><td>my_id</td></tr>\n",
       "\t<tr><td>Neighborhood</td><td>Northwest_Ames                         </td><td>my_id</td></tr>\n",
       "\t<tr><td>Neighborhood</td><td>Sawyer_West                            </td><td>my_id</td></tr>\n",
       "\t<tr><td>Neighborhood</td><td>Mitchell                               </td><td>my_id</td></tr>\n",
       "\t<tr><td>Neighborhood</td><td>Brookside                              </td><td>my_id</td></tr>\n",
       "\t<tr><td>Neighborhood</td><td>Crawford                               </td><td>my_id</td></tr>\n",
       "\t<tr><td>Neighborhood</td><td>Iowa_DOT_and_Rail_Road                 </td><td>my_id</td></tr>\n",
       "\t<tr><td>Neighborhood</td><td>Timberland                             </td><td>my_id</td></tr>\n",
       "\t<tr><td>Neighborhood</td><td>Northridge                             </td><td>my_id</td></tr>\n",
       "\t<tr><td>Neighborhood</td><td>Stone_Brook                            </td><td>my_id</td></tr>\n",
       "\t<tr><td>Neighborhood</td><td>South_and_West_of_Iowa_State_University</td><td>my_id</td></tr>\n",
       "\t<tr><td>Neighborhood</td><td>Clear_Creek                            </td><td>my_id</td></tr>\n",
       "\t<tr><td>Neighborhood</td><td>Meadow_Village                         </td><td>my_id</td></tr>\n",
       "\t<tr><td>Neighborhood</td><td>Bloomington_Heights                    </td><td>my_id</td></tr>\n",
       "</tbody>\n",
       "</table>\n"
      ],
      "text/latex": [
       "A tibble: 21 × 3\n",
       "\\begin{tabular}{lll}\n",
       " terms & retained & id\\\\\n",
       " <chr> & <chr> & <chr>\\\\\n",
       "\\hline\n",
       "\t Neighborhood & North\\_Ames                              & my\\_id\\\\\n",
       "\t Neighborhood & College\\_Creek                           & my\\_id\\\\\n",
       "\t Neighborhood & Old\\_Town                                & my\\_id\\\\\n",
       "\t Neighborhood & Edwards                                 & my\\_id\\\\\n",
       "\t Neighborhood & Somerset                                & my\\_id\\\\\n",
       "\t Neighborhood & Northridge\\_Heights                      & my\\_id\\\\\n",
       "\t Neighborhood & Gilbert                                 & my\\_id\\\\\n",
       "\t Neighborhood & Sawyer                                  & my\\_id\\\\\n",
       "\t Neighborhood & Northwest\\_Ames                          & my\\_id\\\\\n",
       "\t Neighborhood & Sawyer\\_West                             & my\\_id\\\\\n",
       "\t Neighborhood & Mitchell                                & my\\_id\\\\\n",
       "\t Neighborhood & Brookside                               & my\\_id\\\\\n",
       "\t Neighborhood & Crawford                                & my\\_id\\\\\n",
       "\t Neighborhood & Iowa\\_DOT\\_and\\_Rail\\_Road                  & my\\_id\\\\\n",
       "\t Neighborhood & Timberland                              & my\\_id\\\\\n",
       "\t Neighborhood & Northridge                              & my\\_id\\\\\n",
       "\t Neighborhood & Stone\\_Brook                             & my\\_id\\\\\n",
       "\t Neighborhood & South\\_and\\_West\\_of\\_Iowa\\_State\\_University & my\\_id\\\\\n",
       "\t Neighborhood & Clear\\_Creek                             & my\\_id\\\\\n",
       "\t Neighborhood & Meadow\\_Village                          & my\\_id\\\\\n",
       "\t Neighborhood & Bloomington\\_Heights                     & my\\_id\\\\\n",
       "\\end{tabular}\n"
      ],
      "text/markdown": [
       "\n",
       "A tibble: 21 × 3\n",
       "\n",
       "| terms &lt;chr&gt; | retained &lt;chr&gt; | id &lt;chr&gt; |\n",
       "|---|---|---|\n",
       "| Neighborhood | North_Ames                              | my_id |\n",
       "| Neighborhood | College_Creek                           | my_id |\n",
       "| Neighborhood | Old_Town                                | my_id |\n",
       "| Neighborhood | Edwards                                 | my_id |\n",
       "| Neighborhood | Somerset                                | my_id |\n",
       "| Neighborhood | Northridge_Heights                      | my_id |\n",
       "| Neighborhood | Gilbert                                 | my_id |\n",
       "| Neighborhood | Sawyer                                  | my_id |\n",
       "| Neighborhood | Northwest_Ames                          | my_id |\n",
       "| Neighborhood | Sawyer_West                             | my_id |\n",
       "| Neighborhood | Mitchell                                | my_id |\n",
       "| Neighborhood | Brookside                               | my_id |\n",
       "| Neighborhood | Crawford                                | my_id |\n",
       "| Neighborhood | Iowa_DOT_and_Rail_Road                  | my_id |\n",
       "| Neighborhood | Timberland                              | my_id |\n",
       "| Neighborhood | Northridge                              | my_id |\n",
       "| Neighborhood | Stone_Brook                             | my_id |\n",
       "| Neighborhood | South_and_West_of_Iowa_State_University | my_id |\n",
       "| Neighborhood | Clear_Creek                             | my_id |\n",
       "| Neighborhood | Meadow_Village                          | my_id |\n",
       "| Neighborhood | Bloomington_Heights                     | my_id |\n",
       "\n"
      ],
      "text/plain": [
       "   terms        retained                                id   \n",
       "1  Neighborhood North_Ames                              my_id\n",
       "2  Neighborhood College_Creek                           my_id\n",
       "3  Neighborhood Old_Town                                my_id\n",
       "4  Neighborhood Edwards                                 my_id\n",
       "5  Neighborhood Somerset                                my_id\n",
       "6  Neighborhood Northridge_Heights                      my_id\n",
       "7  Neighborhood Gilbert                                 my_id\n",
       "8  Neighborhood Sawyer                                  my_id\n",
       "9  Neighborhood Northwest_Ames                          my_id\n",
       "10 Neighborhood Sawyer_West                             my_id\n",
       "11 Neighborhood Mitchell                                my_id\n",
       "12 Neighborhood Brookside                               my_id\n",
       "13 Neighborhood Crawford                                my_id\n",
       "14 Neighborhood Iowa_DOT_and_Rail_Road                  my_id\n",
       "15 Neighborhood Timberland                              my_id\n",
       "16 Neighborhood Northridge                              my_id\n",
       "17 Neighborhood Stone_Brook                             my_id\n",
       "18 Neighborhood South_and_West_of_Iowa_State_University my_id\n",
       "19 Neighborhood Clear_Creek                             my_id\n",
       "20 Neighborhood Meadow_Village                          my_id\n",
       "21 Neighborhood Bloomington_Heights                     my_id"
      ]
     },
     "metadata": {},
     "output_type": "display_data"
    }
   ],
   "source": [
    "estimated_recipe <- lm_fit %>%\n",
    "    extract_recipe(estimated = TRUE)\n",
    "\n",
    "tidy(estimated_recipe, id = \"my_id\")"
   ]
  },
  {
   "cell_type": "markdown",
   "id": "513e5b34",
   "metadata": {},
   "source": [
    "<br>\n",
    "\n",
    "\n",
    "## 05.06. 변수 역할 변경\n",
    "#### ```add_role()``` : 이미 레시피에서 역할이 있는 변수에 추가 역할을 추가\n",
    "#### ```remove_role()``` : 레시피에서 기존의 단일 역할을 제거\n",
    "#### ```update_role()``` : 레시피의 기존 역할을 변경하거나 아직 선언된 역할이 없는 변수에 초기 역할을 할당"
   ]
  },
  {
   "cell_type": "markdown",
   "id": "d9fdf202",
   "metadata": {},
   "source": [
    "<br>\n",
    "\n",
    "- **`HHV` : `outcome` (반응변수)**\n",
    "- **그 외 변수 : `predictor` (설명변수)**"
   ]
  },
  {
   "cell_type": "code",
   "execution_count": 36,
   "id": "00537c56",
   "metadata": {},
   "outputs": [],
   "source": [
    "data(biomass, package = \"modeldata\")"
   ]
  },
  {
   "cell_type": "code",
   "execution_count": 37,
   "id": "9043eb7c",
   "metadata": {},
   "outputs": [
    {
     "data": {
      "text/html": [
       "<table class=\"dataframe\">\n",
       "<caption>A tibble: 8 × 4</caption>\n",
       "<thead>\n",
       "\t<tr><th scope=col>variable</th><th scope=col>type</th><th scope=col>role</th><th scope=col>source</th></tr>\n",
       "\t<tr><th scope=col>&lt;chr&gt;</th><th scope=col>&lt;list&gt;</th><th scope=col>&lt;chr&gt;</th><th scope=col>&lt;chr&gt;</th></tr>\n",
       "</thead>\n",
       "<tbody>\n",
       "\t<tr><td>sample  </td><td>string   , unordered, nominal  </td><td>predictor</td><td>original</td></tr>\n",
       "\t<tr><td>dataset </td><td>string   , unordered, nominal  </td><td>predictor</td><td>original</td></tr>\n",
       "\t<tr><td>carbon  </td><td>double , numeric</td><td>predictor</td><td>original</td></tr>\n",
       "\t<tr><td>hydrogen</td><td>double , numeric</td><td>predictor</td><td>original</td></tr>\n",
       "\t<tr><td>oxygen  </td><td>double , numeric</td><td>predictor</td><td>original</td></tr>\n",
       "\t<tr><td>nitrogen</td><td>double , numeric</td><td>predictor</td><td>original</td></tr>\n",
       "\t<tr><td>sulfur  </td><td>double , numeric</td><td>predictor</td><td>original</td></tr>\n",
       "\t<tr><td>HHV     </td><td>double , numeric</td><td>outcome  </td><td>original</td></tr>\n",
       "</tbody>\n",
       "</table>\n"
      ],
      "text/latex": [
       "A tibble: 8 × 4\n",
       "\\begin{tabular}{llll}\n",
       " variable & type & role & source\\\\\n",
       " <chr> & <list> & <chr> & <chr>\\\\\n",
       "\\hline\n",
       "\t sample   & string   , unordered, nominal   & predictor & original\\\\\n",
       "\t dataset  & string   , unordered, nominal   & predictor & original\\\\\n",
       "\t carbon   & double , numeric & predictor & original\\\\\n",
       "\t hydrogen & double , numeric & predictor & original\\\\\n",
       "\t oxygen   & double , numeric & predictor & original\\\\\n",
       "\t nitrogen & double , numeric & predictor & original\\\\\n",
       "\t sulfur   & double , numeric & predictor & original\\\\\n",
       "\t HHV      & double , numeric & outcome   & original\\\\\n",
       "\\end{tabular}\n"
      ],
      "text/markdown": [
       "\n",
       "A tibble: 8 × 4\n",
       "\n",
       "| variable &lt;chr&gt; | type &lt;list&gt; | role &lt;chr&gt; | source &lt;chr&gt; |\n",
       "|---|---|---|---|\n",
       "| sample   | string   , unordered, nominal   | predictor | original |\n",
       "| dataset  | string   , unordered, nominal   | predictor | original |\n",
       "| carbon   | double , numeric | predictor | original |\n",
       "| hydrogen | double , numeric | predictor | original |\n",
       "| oxygen   | double , numeric | predictor | original |\n",
       "| nitrogen | double , numeric | predictor | original |\n",
       "| sulfur   | double , numeric | predictor | original |\n",
       "| HHV      | double , numeric | outcome   | original |\n",
       "\n"
      ],
      "text/plain": [
       "  variable type                            role      source  \n",
       "1 sample   string   , unordered, nominal   predictor original\n",
       "2 dataset  string   , unordered, nominal   predictor original\n",
       "3 carbon   double , numeric                predictor original\n",
       "4 hydrogen double , numeric                predictor original\n",
       "5 oxygen   double , numeric                predictor original\n",
       "6 nitrogen double , numeric                predictor original\n",
       "7 sulfur   double , numeric                predictor original\n",
       "8 HHV      double , numeric                outcome   original"
      ]
     },
     "metadata": {},
     "output_type": "display_data"
    }
   ],
   "source": [
    "recipe(HHV ~ ., data = biomass) %>% summary()"
   ]
  },
  {
   "cell_type": "markdown",
   "id": "fa31f474",
   "metadata": {},
   "source": [
    "<br>\n",
    "\n",
    "- `sample` 변수를 인덱스로 (`id_variable`), `dataset` 변수를 학습/훈련 데이터 구분 변수로 역할 변경"
   ]
  },
  {
   "cell_type": "code",
   "execution_count": 41,
   "id": "fda015ba",
   "metadata": {},
   "outputs": [
    {
     "data": {
      "text/html": [
       "<table class=\"dataframe\">\n",
       "<caption>A tibble: 8 × 4</caption>\n",
       "<thead>\n",
       "\t<tr><th scope=col>variable</th><th scope=col>type</th><th scope=col>role</th><th scope=col>source</th></tr>\n",
       "\t<tr><th scope=col>&lt;chr&gt;</th><th scope=col>&lt;list&gt;</th><th scope=col>&lt;chr&gt;</th><th scope=col>&lt;chr&gt;</th></tr>\n",
       "</thead>\n",
       "<tbody>\n",
       "\t<tr><td>sample  </td><td>string   , unordered, nominal  </td><td>id variable       </td><td>original</td></tr>\n",
       "\t<tr><td>dataset </td><td>string   , unordered, nominal  </td><td>splitting variable</td><td>original</td></tr>\n",
       "\t<tr><td>carbon  </td><td>double , numeric</td><td>predictor         </td><td>original</td></tr>\n",
       "\t<tr><td>hydrogen</td><td>double , numeric</td><td>predictor         </td><td>original</td></tr>\n",
       "\t<tr><td>oxygen  </td><td>double , numeric</td><td>predictor         </td><td>original</td></tr>\n",
       "\t<tr><td>nitrogen</td><td>double , numeric</td><td>predictor         </td><td>original</td></tr>\n",
       "\t<tr><td>sulfur  </td><td>double , numeric</td><td>predictor         </td><td>original</td></tr>\n",
       "\t<tr><td>HHV     </td><td>double , numeric</td><td>outcome           </td><td>original</td></tr>\n",
       "</tbody>\n",
       "</table>\n"
      ],
      "text/latex": [
       "A tibble: 8 × 4\n",
       "\\begin{tabular}{llll}\n",
       " variable & type & role & source\\\\\n",
       " <chr> & <list> & <chr> & <chr>\\\\\n",
       "\\hline\n",
       "\t sample   & string   , unordered, nominal   & id variable        & original\\\\\n",
       "\t dataset  & string   , unordered, nominal   & splitting variable & original\\\\\n",
       "\t carbon   & double , numeric & predictor          & original\\\\\n",
       "\t hydrogen & double , numeric & predictor          & original\\\\\n",
       "\t oxygen   & double , numeric & predictor          & original\\\\\n",
       "\t nitrogen & double , numeric & predictor          & original\\\\\n",
       "\t sulfur   & double , numeric & predictor          & original\\\\\n",
       "\t HHV      & double , numeric & outcome            & original\\\\\n",
       "\\end{tabular}\n"
      ],
      "text/markdown": [
       "\n",
       "A tibble: 8 × 4\n",
       "\n",
       "| variable &lt;chr&gt; | type &lt;list&gt; | role &lt;chr&gt; | source &lt;chr&gt; |\n",
       "|---|---|---|---|\n",
       "| sample   | string   , unordered, nominal   | id variable        | original |\n",
       "| dataset  | string   , unordered, nominal   | splitting variable | original |\n",
       "| carbon   | double , numeric | predictor          | original |\n",
       "| hydrogen | double , numeric | predictor          | original |\n",
       "| oxygen   | double , numeric | predictor          | original |\n",
       "| nitrogen | double , numeric | predictor          | original |\n",
       "| sulfur   | double , numeric | predictor          | original |\n",
       "| HHV      | double , numeric | outcome            | original |\n",
       "\n"
      ],
      "text/plain": [
       "  variable type                            role               source  \n",
       "1 sample   string   , unordered, nominal   id variable        original\n",
       "2 dataset  string   , unordered, nominal   splitting variable original\n",
       "3 carbon   double , numeric                predictor          original\n",
       "4 hydrogen double , numeric                predictor          original\n",
       "5 oxygen   double , numeric                predictor          original\n",
       "6 nitrogen double , numeric                predictor          original\n",
       "7 sulfur   double , numeric                predictor          original\n",
       "8 HHV      double , numeric                outcome            original"
      ]
     },
     "metadata": {},
     "output_type": "display_data"
    }
   ],
   "source": [
    "recipe(HHV ~ ., data = biomass) %>%\n",
    "  update_role(sample, new_role = \"id variable\") %>%\n",
    "  update_role(dataset, new_role = \"splitting variable\") %>%\n",
    "  summary()"
   ]
  }
 ],
 "metadata": {
  "kernelspec": {
   "display_name": "R-4.3.2",
   "language": "R",
   "name": "ir"
  },
  "language_info": {
   "codemirror_mode": "r",
   "file_extension": ".r",
   "mimetype": "text/x-r-source",
   "name": "R",
   "pygments_lexer": "r",
   "version": "4.3.2"
  }
 },
 "nbformat": 4,
 "nbformat_minor": 5
}
