{
 "cells": [
  {
   "cell_type": "markdown",
   "id": "075bca82",
   "metadata": {},
   "source": [
    "# 12. 복수 모델 선별\n",
    "\n",
    "<br>\n",
    "\n",
    "## 12.01. 콘크리트 혼합물 데이터\n"
   ]
  },
  {
   "cell_type": "code",
   "execution_count": 10,
   "id": "678985a6",
   "metadata": {},
   "outputs": [],
   "source": [
    "library(tidymodels)\n",
    "tidymodels_prefer()\n",
    "data(concrete, package = \"modeldata\")"
   ]
  },
  {
   "cell_type": "code",
   "execution_count": 11,
   "id": "6e7a4171",
   "metadata": {},
   "outputs": [],
   "source": [
    "concrete <- concrete %>%\n",
    "    group_by(across(-compressive_strength)) %>%\n",
    "    summarise(compressive_strength = mean(compressive_strength),\n",
    "              .groups = \"drop\")"
   ]
  },
  {
   "cell_type": "code",
   "execution_count": 12,
   "id": "ca6fa1a0",
   "metadata": {},
   "outputs": [
    {
     "name": "stdout",
     "output_type": "stream",
     "text": [
      "Rows: 992\n",
      "Columns: 9\n",
      "$ cement               \u001b[3m\u001b[90m<dbl>\u001b[39m\u001b[23m 102.0, 102.0, 102.0, 102.0, 108.3, 108.3, 108.3, …\n",
      "$ blast_furnace_slag   \u001b[3m\u001b[90m<dbl>\u001b[39m\u001b[23m 153.0, 153.0, 153.0, 153.0, 162.4, 162.4, 162.4, …\n",
      "$ fly_ash              \u001b[3m\u001b[90m<dbl>\u001b[39m\u001b[23m 0.0, 0.0, 0.0, 0.0, 0.0, 0.0, 0.0, 0.0, 0.0, 0.0,…\n",
      "$ water                \u001b[3m\u001b[90m<dbl>\u001b[39m\u001b[23m 192.0, 192.0, 192.0, 192.0, 203.5, 203.5, 203.5, …\n",
      "$ superplasticizer     \u001b[3m\u001b[90m<dbl>\u001b[39m\u001b[23m 0.0, 0.0, 0.0, 0.0, 0.0, 0.0, 0.0, 0.0, 0.0, 0.0,…\n",
      "$ coarse_aggregate     \u001b[3m\u001b[90m<dbl>\u001b[39m\u001b[23m 887.0, 887.0, 887.0, 887.0, 938.2, 938.2, 938.2, …\n",
      "$ fine_aggregate       \u001b[3m\u001b[90m<dbl>\u001b[39m\u001b[23m 942.0, 942.0, 942.0, 942.0, 849.0, 849.0, 849.0, …\n",
      "$ age                  \u001b[3m\u001b[90m<int>\u001b[39m\u001b[23m 3, 7, 28, 90, 3, 7, 28, 90, 3, 7, 28, 90, 3, 7, 2…\n",
      "$ compressive_strength \u001b[3m\u001b[90m<dbl>\u001b[39m\u001b[23m 4.57, 7.68, 17.28, 25.46, 2.33, 7.72, 20.59, 29.2…\n"
     ]
    }
   ],
   "source": [
    "concrete %>% glimpse"
   ]
  },
  {
   "cell_type": "markdown",
   "id": "a92349a5",
   "metadata": {},
   "source": [
    "<br>\n",
    "\n",
    "#### 훈련/테스트 데이터 분할"
   ]
  },
  {
   "cell_type": "code",
   "execution_count": 14,
   "id": "af6e1823",
   "metadata": {},
   "outputs": [],
   "source": [
    "set.seed(1501)\n",
    "concrete_split <- initial_split(concrete, strata = compressive_strength)\n",
    "concrete_train <- training(concrete_split)\n",
    "concrete_test  <- testing(concrete_split)"
   ]
  },
  {
   "cell_type": "markdown",
   "id": "a7971ecb",
   "metadata": {},
   "source": [
    "- 훈련 데이터에 대한 5회의 10-fold 교차검증세트 생성"
   ]
  },
  {
   "cell_type": "code",
   "execution_count": 15,
   "id": "a76fde73",
   "metadata": {},
   "outputs": [],
   "source": [
    "set.seed(1502)\n",
    "concrete_folds <- vfold_cv(concrete_train, strata = compressive_strength, repeats = 5)"
   ]
  },
  {
   "cell_type": "markdown",
   "id": "22b59195",
   "metadata": {},
   "source": [
    "<br>\n",
    "\n",
    "#### 데이터 전처리\n",
    "1. 모든 설명변수에 대한 정규화 수행\n",
    "2. 모든 설명변수에 대해 2차항을 생성하고, 모든 설명변수간 상호작용항을 생성"
   ]
  },
  {
   "cell_type": "code",
   "execution_count": 17,
   "id": "221f00e5",
   "metadata": {},
   "outputs": [],
   "source": [
    "normalized_rec <- \n",
    "    recipe(compressive_strength ~ ., data = concrete_train) %>% \n",
    "    step_normalize(all_predictors()) "
   ]
  },
  {
   "cell_type": "code",
   "execution_count": 18,
   "id": "7898dbad",
   "metadata": {},
   "outputs": [],
   "source": [
    "poly_recipe <- normalized_rec %>% \n",
    "   step_poly(all_predictors()) %>% \n",
    "   step_interact(~ all_predictors():all_predictors())"
   ]
  },
  {
   "cell_type": "markdown",
   "id": "ddab370e",
   "metadata": {},
   "source": [
    "<br>\n",
    "\n",
    "#### 모델세트 생성 & 모델별 하이퍼 파라미터 정의"
   ]
  },
  {
   "cell_type": "code",
   "execution_count": 19,
   "id": "a7d300e5",
   "metadata": {},
   "outputs": [],
   "source": [
    "library(rules)\n",
    "library(baguette)"
   ]
  },
  {
   "cell_type": "markdown",
   "id": "c6230d39",
   "metadata": {},
   "source": [
    "- WLSE"
   ]
  },
  {
   "cell_type": "code",
   "execution_count": 20,
   "id": "8c0eb490",
   "metadata": {},
   "outputs": [],
   "source": [
    "linear_reg_spec <- linear_reg(penalty = tune(), mixture = tune()) %>% \n",
    "    set_engine(\"glmnet\")"
   ]
  },
  {
   "cell_type": "markdown",
   "id": "832e4833",
   "metadata": {},
   "source": [
    "- 신경망"
   ]
  },
  {
   "cell_type": "code",
   "execution_count": 21,
   "id": "b7f0eb4f",
   "metadata": {},
   "outputs": [],
   "source": [
    "nnet_spec <- mlp(hidden_units = tune(), penalty = tune(), epochs = tune()) %>% \n",
    "    set_engine(\"nnet\", MaxNWts = 2600) %>% \n",
    "    set_mode(\"regression\")"
   ]
  },
  {
   "cell_type": "code",
   "execution_count": 30,
   "id": "3f5645e5",
   "metadata": {},
   "outputs": [],
   "source": [
    "nnet_param <- nnet_spec %>% \n",
    "   extract_parameter_set_dials() %>% \n",
    "   update(hidden_units = hidden_units(c(1, 27)))"
   ]
  },
  {
   "cell_type": "markdown",
   "id": "f92f99c1",
   "metadata": {},
   "source": [
    "- MARS"
   ]
  },
  {
   "cell_type": "code",
   "execution_count": 22,
   "id": "89470781",
   "metadata": {},
   "outputs": [],
   "source": [
    "mars_spec <- mars(prod_degree = tune()) %>%  \n",
    "    set_engine(\"earth\") %>% \n",
    "    set_mode(\"regression\")"
   ]
  },
  {
   "cell_type": "markdown",
   "id": "2012b925",
   "metadata": {},
   "source": [
    "- SVM"
   ]
  },
  {
   "cell_type": "code",
   "execution_count": 31,
   "id": "98f5edb3",
   "metadata": {},
   "outputs": [],
   "source": [
    "svm_r_spec <- svm_rbf(cost = tune(), rbf_sigma = tune()) %>% \n",
    "    set_engine(\"kernlab\") %>% \n",
    "    set_mode(\"regression\")"
   ]
  },
  {
   "cell_type": "markdown",
   "id": "476713fc",
   "metadata": {},
   "source": [
    "- SVM"
   ]
  },
  {
   "cell_type": "code",
   "execution_count": 23,
   "id": "28f6b2fe",
   "metadata": {},
   "outputs": [],
   "source": [
    "svm_p_spec <- svm_poly(cost = tune(), degree = tune()) %>% \n",
    "    set_engine(\"kernlab\") %>% \n",
    "    set_mode(\"regression\")"
   ]
  },
  {
   "cell_type": "markdown",
   "id": "880de533",
   "metadata": {},
   "source": [
    "- KNN"
   ]
  },
  {
   "cell_type": "code",
   "execution_count": 25,
   "id": "102c79a7",
   "metadata": {},
   "outputs": [],
   "source": [
    "knn_spec <- nearest_neighbor(neighbors = tune(), dist_power = tune(), weight_func = tune()) %>% \n",
    "   set_engine(\"kknn\") %>% \n",
    "   set_mode(\"regression\")"
   ]
  },
  {
   "cell_type": "markdown",
   "id": "ce1fa9dc",
   "metadata": {},
   "source": [
    "- 트리"
   ]
  },
  {
   "cell_type": "code",
   "execution_count": 29,
   "id": "f319971b",
   "metadata": {},
   "outputs": [],
   "source": [
    "cart_spec <- decision_tree(cost_complexity = tune(), min_n = tune()) %>% \n",
    "   set_engine(\"rpart\") %>% \n",
    "   set_mode(\"regression\")"
   ]
  },
  {
   "cell_type": "markdown",
   "id": "a96031f8",
   "metadata": {},
   "source": [
    "- 배깅"
   ]
  },
  {
   "cell_type": "code",
   "execution_count": 26,
   "id": "f6e6acd4",
   "metadata": {},
   "outputs": [],
   "source": [
    "bag_cart_spec <- bag_tree() %>% \n",
    "   set_engine(\"rpart\", times = 50L) %>% \n",
    "   set_mode(\"regression\")"
   ]
  },
  {
   "cell_type": "markdown",
   "id": "bf8a5c1c",
   "metadata": {},
   "source": [
    "- 랜덤포레스트"
   ]
  },
  {
   "cell_type": "code",
   "execution_count": 27,
   "id": "329892ea",
   "metadata": {},
   "outputs": [],
   "source": [
    "rf_spec <- rand_forest(mtry = tune(), min_n = tune(), trees = 1000) %>% \n",
    "   set_engine(\"ranger\") %>% \n",
    "   set_mode(\"regression\")"
   ]
  },
  {
   "cell_type": "markdown",
   "id": "095ab4e4",
   "metadata": {},
   "source": [
    "- XGB"
   ]
  },
  {
   "cell_type": "code",
   "execution_count": 24,
   "id": "c1ec7330",
   "metadata": {},
   "outputs": [],
   "source": [
    "xgb_spec <- boost_tree(tree_depth = tune(), learn_rate = tune(), loss_reduction = tune(), \n",
    "                       min_n = tune(), sample_size = tune(), trees = tune()) %>% \n",
    "   set_engine(\"xgboost\") %>% \n",
    "   set_mode(\"regression\")"
   ]
  },
  {
   "cell_type": "markdown",
   "id": "cf11a8fe",
   "metadata": {},
   "source": [
    "- Cubist 트리"
   ]
  },
  {
   "cell_type": "code",
   "execution_count": 28,
   "id": "aa6b90f7",
   "metadata": {},
   "outputs": [],
   "source": [
    "cubist_spec <- cubist_rules(committees = tune(), neighbors = tune()) %>% \n",
    "   set_engine(\"Cubist\") "
   ]
  },
  {
   "cell_type": "markdown",
   "id": "d9e57e98",
   "metadata": {},
   "source": [
    "<br>\n",
    "\n",
    "## 12.02. 워크플로 세트 생성"
   ]
  },
  {
   "cell_type": "markdown",
   "id": "cc3766b6",
   "metadata": {},
   "source": [
    "<br>\n",
    "\n",
    "#### 첫 번째 워크플로 세트 \n",
    "- 설명변수에 대해 정규화를 진행하는 레시피만 적용\n",
    "- 설명변수가 동일 단위를 가져야 하는 비선형 모델들에 대해 적용\n",
    "    - SVM / KNN / 신경망"
   ]
  },
  {
   "cell_type": "code",
   "execution_count": 32,
   "id": "84fdbcba",
   "metadata": {},
   "outputs": [],
   "source": [
    "normalized <- workflow_set(\n",
    "    preproc = list(normalized = normalized_rec), \n",
    "    models = list(SVM_radial = svm_r_spec, SVM_poly = svm_p_spec, \n",
    "                  KNN = knn_spec, neural_network = nnet_spec)\n",
    "   )"
   ]
  },
  {
   "cell_type": "code",
   "execution_count": 33,
   "id": "57bba14d",
   "metadata": {},
   "outputs": [
    {
     "name": "stdout",
     "output_type": "stream",
     "text": [
      "\u001b[90m# A workflow set/tibble: 4 × 4\u001b[39m\n",
      "  wflow_id                  info             option    result    \n",
      "  \u001b[3m\u001b[90m<chr>\u001b[39m\u001b[23m                     \u001b[3m\u001b[90m<list>\u001b[39m\u001b[23m           \u001b[3m\u001b[90m<list>\u001b[39m\u001b[23m    \u001b[3m\u001b[90m<list>\u001b[39m\u001b[23m    \n",
      "\u001b[90m1\u001b[39m normalized_SVM_radial     \u001b[90m<tibble [1 × 4]>\u001b[39m \u001b[90m<opts[0]>\u001b[39m \u001b[90m<list [0]>\u001b[39m\n",
      "\u001b[90m2\u001b[39m normalized_SVM_poly       \u001b[90m<tibble [1 × 4]>\u001b[39m \u001b[90m<opts[0]>\u001b[39m \u001b[90m<list [0]>\u001b[39m\n",
      "\u001b[90m3\u001b[39m normalized_KNN            \u001b[90m<tibble [1 × 4]>\u001b[39m \u001b[90m<opts[0]>\u001b[39m \u001b[90m<list [0]>\u001b[39m\n",
      "\u001b[90m4\u001b[39m normalized_neural_network \u001b[90m<tibble [1 × 4]>\u001b[39m \u001b[90m<opts[0]>\u001b[39m \u001b[90m<list [0]>\u001b[39m\n"
     ]
    }
   ],
   "source": [
    "print(normalized)"
   ]
  },
  {
   "cell_type": "code",
   "execution_count": 36,
   "id": "df10425d",
   "metadata": {},
   "outputs": [
    {
     "data": {
      "text/plain": [
       "══ Workflow ════════════════════════════════════════════════════════════════════════════════════════════════════════════\n",
       "\u001b[3mPreprocessor:\u001b[23m Recipe\n",
       "\u001b[3mModel:\u001b[23m nearest_neighbor()\n",
       "\n",
       "── Preprocessor ────────────────────────────────────────────────────────────────────────────────────────────────────────\n",
       "1 Recipe Step\n",
       "\n",
       "• step_normalize()\n",
       "\n",
       "── Model ───────────────────────────────────────────────────────────────────────────────────────────────────────────────\n",
       "K-Nearest Neighbor Model Specification (regression)\n",
       "\n",
       "Main Arguments:\n",
       "  neighbors = tune()\n",
       "  weight_func = tune()\n",
       "  dist_power = tune()\n",
       "\n",
       "Computational engine: kknn \n"
      ]
     },
     "metadata": {},
     "output_type": "display_data"
    }
   ],
   "source": [
    "normalized  %>% extract_workflow(id = \"normalized_KNN\")"
   ]
  },
  {
   "cell_type": "markdown",
   "id": "f9a0678d",
   "metadata": {},
   "source": [
    "<br>\n",
    "\n",
    "- 신경망 모델의 파라미터 객체 설정"
   ]
  },
  {
   "cell_type": "code",
   "execution_count": 37,
   "id": "279c17a1",
   "metadata": {},
   "outputs": [
    {
     "name": "stdout",
     "output_type": "stream",
     "text": [
      "\u001b[90m# A workflow set/tibble: 4 × 4\u001b[39m\n",
      "  wflow_id                  info             option    result    \n",
      "  \u001b[3m\u001b[90m<chr>\u001b[39m\u001b[23m                     \u001b[3m\u001b[90m<list>\u001b[39m\u001b[23m           \u001b[3m\u001b[90m<list>\u001b[39m\u001b[23m    \u001b[3m\u001b[90m<list>\u001b[39m\u001b[23m    \n",
      "\u001b[90m1\u001b[39m normalized_SVM_radial     \u001b[90m<tibble [1 × 4]>\u001b[39m \u001b[90m<opts[0]>\u001b[39m \u001b[90m<list [0]>\u001b[39m\n",
      "\u001b[90m2\u001b[39m normalized_SVM_poly       \u001b[90m<tibble [1 × 4]>\u001b[39m \u001b[90m<opts[0]>\u001b[39m \u001b[90m<list [0]>\u001b[39m\n",
      "\u001b[90m3\u001b[39m normalized_KNN            \u001b[90m<tibble [1 × 4]>\u001b[39m \u001b[90m<opts[0]>\u001b[39m \u001b[90m<list [0]>\u001b[39m\n",
      "\u001b[90m4\u001b[39m normalized_neural_network \u001b[90m<tibble [1 × 4]>\u001b[39m \u001b[90m<opts[1]>\u001b[39m \u001b[90m<list [0]>\u001b[39m\n"
     ]
    }
   ],
   "source": [
    "normalized <- normalized %>% \n",
    "    option_add(param_info = nnet_param, id = \"normalized_neural_network\")\n",
    "normalized %>% print"
   ]
  },
  {
   "cell_type": "markdown",
   "id": "8ea9ea18",
   "metadata": {},
   "source": [
    "<br>\n",
    "\n",
    "#### 두 번째 워크플로 세트\n",
    "- 전처리 레시피 적용 X\n",
    "- MARS / 트리 / 배깅 / 랜덤포레스트 / XGB / 큐비스트 트리"
   ]
  },
  {
   "cell_type": "code",
   "execution_count": 38,
   "id": "508d9bb5",
   "metadata": {},
   "outputs": [],
   "source": [
    "model_vars <- workflow_variables(outcomes = compressive_strength, predictors = everything())"
   ]
  },
  {
   "cell_type": "code",
   "execution_count": 39,
   "id": "49cdfe0f",
   "metadata": {},
   "outputs": [
    {
     "name": "stdout",
     "output_type": "stream",
     "text": [
      "\u001b[90m# A workflow set/tibble: 6 × 4\u001b[39m\n",
      "  wflow_id           info             option    result    \n",
      "  \u001b[3m\u001b[90m<chr>\u001b[39m\u001b[23m              \u001b[3m\u001b[90m<list>\u001b[39m\u001b[23m           \u001b[3m\u001b[90m<list>\u001b[39m\u001b[23m    \u001b[3m\u001b[90m<list>\u001b[39m\u001b[23m    \n",
      "\u001b[90m1\u001b[39m simple_MARS        \u001b[90m<tibble [1 × 4]>\u001b[39m \u001b[90m<opts[0]>\u001b[39m \u001b[90m<list [0]>\u001b[39m\n",
      "\u001b[90m2\u001b[39m simple_CART        \u001b[90m<tibble [1 × 4]>\u001b[39m \u001b[90m<opts[0]>\u001b[39m \u001b[90m<list [0]>\u001b[39m\n",
      "\u001b[90m3\u001b[39m simple_CART_bagged \u001b[90m<tibble [1 × 4]>\u001b[39m \u001b[90m<opts[0]>\u001b[39m \u001b[90m<list [0]>\u001b[39m\n",
      "\u001b[90m4\u001b[39m simple_RF          \u001b[90m<tibble [1 × 4]>\u001b[39m \u001b[90m<opts[0]>\u001b[39m \u001b[90m<list [0]>\u001b[39m\n",
      "\u001b[90m5\u001b[39m simple_boosting    \u001b[90m<tibble [1 × 4]>\u001b[39m \u001b[90m<opts[0]>\u001b[39m \u001b[90m<list [0]>\u001b[39m\n",
      "\u001b[90m6\u001b[39m simple_Cubist      \u001b[90m<tibble [1 × 4]>\u001b[39m \u001b[90m<opts[0]>\u001b[39m \u001b[90m<list [0]>\u001b[39m\n"
     ]
    }
   ],
   "source": [
    "no_pre_proc <- workflow_set(\n",
    "    preproc = list(simple = model_vars), \n",
    "    models = list(MARS = mars_spec, CART = cart_spec, CART_bagged = bag_cart_spec,\n",
    "                  RF = rf_spec, boosting = xgb_spec, Cubist = cubist_spec)\n",
    "    )\n",
    "no_pre_proc %>% print"
   ]
  },
  {
   "cell_type": "markdown",
   "id": "1482e07c",
   "metadata": {},
   "source": [
    "<br>\n",
    "\n",
    "#### 세 번째 워크플로 세트\n",
    "- 2차항과 상호작용항 생성 레시피 적용\n",
    "- 선형회귀 / KNN"
   ]
  },
  {
   "cell_type": "code",
   "execution_count": 40,
   "id": "57eb27b2",
   "metadata": {},
   "outputs": [],
   "source": [
    "with_features <- workflow_set(\n",
    "    preproc = list(full_quad = poly_recipe), \n",
    "    models = list(linear_reg = linear_reg_spec, KNN = knn_spec)\n",
    "    )"
   ]
  },
  {
   "cell_type": "markdown",
   "id": "b2b8febf",
   "metadata": {},
   "source": [
    "<br>\n",
    "\n",
    "### 워크플로 세트 통합"
   ]
  },
  {
   "cell_type": "code",
   "execution_count": 41,
   "id": "776b4d24",
   "metadata": {},
   "outputs": [
    {
     "name": "stdout",
     "output_type": "stream",
     "text": [
      "\u001b[90m# A workflow set/tibble: 12 × 4\u001b[39m\n",
      "   wflow_id             info             option    result    \n",
      "   \u001b[3m\u001b[90m<chr>\u001b[39m\u001b[23m                \u001b[3m\u001b[90m<list>\u001b[39m\u001b[23m           \u001b[3m\u001b[90m<list>\u001b[39m\u001b[23m    \u001b[3m\u001b[90m<list>\u001b[39m\u001b[23m    \n",
      "\u001b[90m 1\u001b[39m MARS                 \u001b[90m<tibble [1 × 4]>\u001b[39m \u001b[90m<opts[0]>\u001b[39m \u001b[90m<list [0]>\u001b[39m\n",
      "\u001b[90m 2\u001b[39m CART                 \u001b[90m<tibble [1 × 4]>\u001b[39m \u001b[90m<opts[0]>\u001b[39m \u001b[90m<list [0]>\u001b[39m\n",
      "\u001b[90m 3\u001b[39m CART_bagged          \u001b[90m<tibble [1 × 4]>\u001b[39m \u001b[90m<opts[0]>\u001b[39m \u001b[90m<list [0]>\u001b[39m\n",
      "\u001b[90m 4\u001b[39m RF                   \u001b[90m<tibble [1 × 4]>\u001b[39m \u001b[90m<opts[0]>\u001b[39m \u001b[90m<list [0]>\u001b[39m\n",
      "\u001b[90m 5\u001b[39m boosting             \u001b[90m<tibble [1 × 4]>\u001b[39m \u001b[90m<opts[0]>\u001b[39m \u001b[90m<list [0]>\u001b[39m\n",
      "\u001b[90m 6\u001b[39m Cubist               \u001b[90m<tibble [1 × 4]>\u001b[39m \u001b[90m<opts[0]>\u001b[39m \u001b[90m<list [0]>\u001b[39m\n",
      "\u001b[90m 7\u001b[39m SVM_radial           \u001b[90m<tibble [1 × 4]>\u001b[39m \u001b[90m<opts[0]>\u001b[39m \u001b[90m<list [0]>\u001b[39m\n",
      "\u001b[90m 8\u001b[39m SVM_poly             \u001b[90m<tibble [1 × 4]>\u001b[39m \u001b[90m<opts[0]>\u001b[39m \u001b[90m<list [0]>\u001b[39m\n",
      "\u001b[90m 9\u001b[39m KNN                  \u001b[90m<tibble [1 × 4]>\u001b[39m \u001b[90m<opts[0]>\u001b[39m \u001b[90m<list [0]>\u001b[39m\n",
      "\u001b[90m10\u001b[39m neural_network       \u001b[90m<tibble [1 × 4]>\u001b[39m \u001b[90m<opts[1]>\u001b[39m \u001b[90m<list [0]>\u001b[39m\n",
      "\u001b[90m11\u001b[39m full_quad_linear_reg \u001b[90m<tibble [1 × 4]>\u001b[39m \u001b[90m<opts[0]>\u001b[39m \u001b[90m<list [0]>\u001b[39m\n",
      "\u001b[90m12\u001b[39m full_quad_KNN        \u001b[90m<tibble [1 × 4]>\u001b[39m \u001b[90m<opts[0]>\u001b[39m \u001b[90m<list [0]>\u001b[39m\n"
     ]
    }
   ],
   "source": [
    "all_workflows <- bind_rows(no_pre_proc, normalized, with_features) %>% \n",
    "   mutate(wflow_id = gsub(\"(simple_)|(normalized_)\", \"\", wflow_id))\n",
    "all_workflows %>% print"
   ]
  },
  {
   "cell_type": "markdown",
   "id": "a48a2a96",
   "metadata": {},
   "source": [
    "<br>\n",
    "\n",
    "## 12.03. 모델 튜닝 및 평가"
   ]
  },
  {
   "cell_type": "markdown",
   "id": "9d500ed5",
   "metadata": {},
   "source": [
    "- 각 모델 워크플로와 모델의 하이퍼 파라미터에 대해, 크기가 25인 그리드 서치를 적용"
   ]
  },
  {
   "cell_type": "code",
   "execution_count": 48,
   "id": "e78aee68",
   "metadata": {
    "scrolled": false
   },
   "outputs": [
    {
     "data": {
      "text/html": [
       "<table class=\"dataframe\">\n",
       "<caption>A tibble: 28 × 3</caption>\n",
       "<thead>\n",
       "\t<tr><th scope=col>component</th><th scope=col>name</th><th scope=col>id</th></tr>\n",
       "\t<tr><th scope=col>&lt;chr&gt;</th><th scope=col>&lt;chr&gt;</th><th scope=col>&lt;chr&gt;</th></tr>\n",
       "</thead>\n",
       "<tbody>\n",
       "\t<tr><td>mars            </td><td>prod_degree    </td><td>prod_degree    </td></tr>\n",
       "\t<tr><td>decision_tree   </td><td>cost_complexity</td><td>cost_complexity</td></tr>\n",
       "\t<tr><td>decision_tree   </td><td>min_n          </td><td>min_n          </td></tr>\n",
       "\t<tr><td>rand_forest     </td><td>mtry           </td><td>mtry           </td></tr>\n",
       "\t<tr><td>rand_forest     </td><td>min_n          </td><td>min_n          </td></tr>\n",
       "\t<tr><td>boost_tree      </td><td>trees          </td><td>trees          </td></tr>\n",
       "\t<tr><td>boost_tree      </td><td>min_n          </td><td>min_n          </td></tr>\n",
       "\t<tr><td>boost_tree      </td><td>tree_depth     </td><td>tree_depth     </td></tr>\n",
       "\t<tr><td>boost_tree      </td><td>learn_rate     </td><td>learn_rate     </td></tr>\n",
       "\t<tr><td>boost_tree      </td><td>loss_reduction </td><td>loss_reduction </td></tr>\n",
       "\t<tr><td>boost_tree      </td><td>sample_size    </td><td>sample_size    </td></tr>\n",
       "\t<tr><td>cubist_rules    </td><td>committees     </td><td>committees     </td></tr>\n",
       "\t<tr><td>cubist_rules    </td><td>neighbors      </td><td>neighbors      </td></tr>\n",
       "\t<tr><td>svm_rbf         </td><td>cost           </td><td>cost           </td></tr>\n",
       "\t<tr><td>svm_rbf         </td><td>rbf_sigma      </td><td>rbf_sigma      </td></tr>\n",
       "\t<tr><td>svm_poly        </td><td>cost           </td><td>cost           </td></tr>\n",
       "\t<tr><td>svm_poly        </td><td>degree         </td><td>degree         </td></tr>\n",
       "\t<tr><td>nearest_neighbor</td><td>neighbors      </td><td>neighbors      </td></tr>\n",
       "\t<tr><td>nearest_neighbor</td><td>weight_func    </td><td>weight_func    </td></tr>\n",
       "\t<tr><td>nearest_neighbor</td><td>dist_power     </td><td>dist_power     </td></tr>\n",
       "\t<tr><td>mlp             </td><td>hidden_units   </td><td>hidden_units   </td></tr>\n",
       "\t<tr><td>mlp             </td><td>penalty        </td><td>penalty        </td></tr>\n",
       "\t<tr><td>mlp             </td><td>epochs         </td><td>epochs         </td></tr>\n",
       "\t<tr><td>linear_reg      </td><td>penalty        </td><td>penalty        </td></tr>\n",
       "\t<tr><td>linear_reg      </td><td>mixture        </td><td>mixture        </td></tr>\n",
       "\t<tr><td>nearest_neighbor</td><td>neighbors      </td><td>neighbors      </td></tr>\n",
       "\t<tr><td>nearest_neighbor</td><td>weight_func    </td><td>weight_func    </td></tr>\n",
       "\t<tr><td>nearest_neighbor</td><td>dist_power     </td><td>dist_power     </td></tr>\n",
       "</tbody>\n",
       "</table>\n"
      ],
      "text/latex": [
       "A tibble: 28 × 3\n",
       "\\begin{tabular}{lll}\n",
       " component & name & id\\\\\n",
       " <chr> & <chr> & <chr>\\\\\n",
       "\\hline\n",
       "\t mars             & prod\\_degree     & prod\\_degree    \\\\\n",
       "\t decision\\_tree    & cost\\_complexity & cost\\_complexity\\\\\n",
       "\t decision\\_tree    & min\\_n           & min\\_n          \\\\\n",
       "\t rand\\_forest      & mtry            & mtry           \\\\\n",
       "\t rand\\_forest      & min\\_n           & min\\_n          \\\\\n",
       "\t boost\\_tree       & trees           & trees          \\\\\n",
       "\t boost\\_tree       & min\\_n           & min\\_n          \\\\\n",
       "\t boost\\_tree       & tree\\_depth      & tree\\_depth     \\\\\n",
       "\t boost\\_tree       & learn\\_rate      & learn\\_rate     \\\\\n",
       "\t boost\\_tree       & loss\\_reduction  & loss\\_reduction \\\\\n",
       "\t boost\\_tree       & sample\\_size     & sample\\_size    \\\\\n",
       "\t cubist\\_rules     & committees      & committees     \\\\\n",
       "\t cubist\\_rules     & neighbors       & neighbors      \\\\\n",
       "\t svm\\_rbf          & cost            & cost           \\\\\n",
       "\t svm\\_rbf          & rbf\\_sigma       & rbf\\_sigma      \\\\\n",
       "\t svm\\_poly         & cost            & cost           \\\\\n",
       "\t svm\\_poly         & degree          & degree         \\\\\n",
       "\t nearest\\_neighbor & neighbors       & neighbors      \\\\\n",
       "\t nearest\\_neighbor & weight\\_func     & weight\\_func    \\\\\n",
       "\t nearest\\_neighbor & dist\\_power      & dist\\_power     \\\\\n",
       "\t mlp              & hidden\\_units    & hidden\\_units   \\\\\n",
       "\t mlp              & penalty         & penalty        \\\\\n",
       "\t mlp              & epochs          & epochs         \\\\\n",
       "\t linear\\_reg       & penalty         & penalty        \\\\\n",
       "\t linear\\_reg       & mixture         & mixture        \\\\\n",
       "\t nearest\\_neighbor & neighbors       & neighbors      \\\\\n",
       "\t nearest\\_neighbor & weight\\_func     & weight\\_func    \\\\\n",
       "\t nearest\\_neighbor & dist\\_power      & dist\\_power     \\\\\n",
       "\\end{tabular}\n"
      ],
      "text/markdown": [
       "\n",
       "A tibble: 28 × 3\n",
       "\n",
       "| component &lt;chr&gt; | name &lt;chr&gt; | id &lt;chr&gt; |\n",
       "|---|---|---|\n",
       "| mars             | prod_degree     | prod_degree     |\n",
       "| decision_tree    | cost_complexity | cost_complexity |\n",
       "| decision_tree    | min_n           | min_n           |\n",
       "| rand_forest      | mtry            | mtry            |\n",
       "| rand_forest      | min_n           | min_n           |\n",
       "| boost_tree       | trees           | trees           |\n",
       "| boost_tree       | min_n           | min_n           |\n",
       "| boost_tree       | tree_depth      | tree_depth      |\n",
       "| boost_tree       | learn_rate      | learn_rate      |\n",
       "| boost_tree       | loss_reduction  | loss_reduction  |\n",
       "| boost_tree       | sample_size     | sample_size     |\n",
       "| cubist_rules     | committees      | committees      |\n",
       "| cubist_rules     | neighbors       | neighbors       |\n",
       "| svm_rbf          | cost            | cost            |\n",
       "| svm_rbf          | rbf_sigma       | rbf_sigma       |\n",
       "| svm_poly         | cost            | cost            |\n",
       "| svm_poly         | degree          | degree          |\n",
       "| nearest_neighbor | neighbors       | neighbors       |\n",
       "| nearest_neighbor | weight_func     | weight_func     |\n",
       "| nearest_neighbor | dist_power      | dist_power      |\n",
       "| mlp              | hidden_units    | hidden_units    |\n",
       "| mlp              | penalty         | penalty         |\n",
       "| mlp              | epochs          | epochs          |\n",
       "| linear_reg       | penalty         | penalty         |\n",
       "| linear_reg       | mixture         | mixture         |\n",
       "| nearest_neighbor | neighbors       | neighbors       |\n",
       "| nearest_neighbor | weight_func     | weight_func     |\n",
       "| nearest_neighbor | dist_power      | dist_power      |\n",
       "\n"
      ],
      "text/plain": [
       "   component        name            id             \n",
       "1  mars             prod_degree     prod_degree    \n",
       "2  decision_tree    cost_complexity cost_complexity\n",
       "3  decision_tree    min_n           min_n          \n",
       "4  rand_forest      mtry            mtry           \n",
       "5  rand_forest      min_n           min_n          \n",
       "6  boost_tree       trees           trees          \n",
       "7  boost_tree       min_n           min_n          \n",
       "8  boost_tree       tree_depth      tree_depth     \n",
       "9  boost_tree       learn_rate      learn_rate     \n",
       "10 boost_tree       loss_reduction  loss_reduction \n",
       "11 boost_tree       sample_size     sample_size    \n",
       "12 cubist_rules     committees      committees     \n",
       "13 cubist_rules     neighbors       neighbors      \n",
       "14 svm_rbf          cost            cost           \n",
       "15 svm_rbf          rbf_sigma       rbf_sigma      \n",
       "16 svm_poly         cost            cost           \n",
       "17 svm_poly         degree          degree         \n",
       "18 nearest_neighbor neighbors       neighbors      \n",
       "19 nearest_neighbor weight_func     weight_func    \n",
       "20 nearest_neighbor dist_power      dist_power     \n",
       "21 mlp              hidden_units    hidden_units   \n",
       "22 mlp              penalty         penalty        \n",
       "23 mlp              epochs          epochs         \n",
       "24 linear_reg       penalty         penalty        \n",
       "25 linear_reg       mixture         mixture        \n",
       "26 nearest_neighbor neighbors       neighbors      \n",
       "27 nearest_neighbor weight_func     weight_func    \n",
       "28 nearest_neighbor dist_power      dist_power     "
      ]
     },
     "metadata": {},
     "output_type": "display_data"
    }
   ],
   "source": [
    "h_param = tibble()\n",
    "for (i in all_workflows$wflow_id) {\n",
    "    h_param = h_param %>% bind_rows(extract_parameter_set_dials(all_workflows, id = i))\n",
    "}\n",
    "h_param %>% select(component, name, id)"
   ]
  },
  {
   "cell_type": "code",
   "execution_count": 49,
   "id": "c0029202",
   "metadata": {},
   "outputs": [],
   "source": [
    "grid_ctrl <- control_grid(\n",
    "      save_pred = TRUE,\n",
    "      parallel_over = \"everything\",\n",
    "      save_workflow = TRUE\n",
    "    )"
   ]
  },
  {
   "cell_type": "code",
   "execution_count": 50,
   "id": "0241ea5d",
   "metadata": {},
   "outputs": [
    {
     "name": "stderr",
     "output_type": "stream",
     "text": [
      "\u001b[34mi\u001b[39m \u001b[30mCreating pre-processing data to finalize unknown parameter: mtry\u001b[39m\n",
      "\n"
     ]
    }
   ],
   "source": [
    "grid_results <- all_workflows %>%\n",
    "    workflow_map(\n",
    "      seed = 1503,\n",
    "      resamples = concrete_folds,\n",
    "      grid = 25,\n",
    "      control = grid_ctrl\n",
    "    )"
   ]
  },
  {
   "cell_type": "code",
   "execution_count": 51,
   "id": "72ced8e4",
   "metadata": {},
   "outputs": [
    {
     "name": "stdout",
     "output_type": "stream",
     "text": [
      "\u001b[90m# A workflow set/tibble: 12 × 4\u001b[39m\n",
      "   wflow_id             info             option    result   \n",
      "   \u001b[3m\u001b[90m<chr>\u001b[39m\u001b[23m                \u001b[3m\u001b[90m<list>\u001b[39m\u001b[23m           \u001b[3m\u001b[90m<list>\u001b[39m\u001b[23m    \u001b[3m\u001b[90m<list>\u001b[39m\u001b[23m   \n",
      "\u001b[90m 1\u001b[39m MARS                 \u001b[90m<tibble [1 × 4]>\u001b[39m \u001b[90m<opts[3]>\u001b[39m \u001b[90m<tune[+]>\u001b[39m\n",
      "\u001b[90m 2\u001b[39m CART                 \u001b[90m<tibble [1 × 4]>\u001b[39m \u001b[90m<opts[3]>\u001b[39m \u001b[90m<tune[+]>\u001b[39m\n",
      "\u001b[90m 3\u001b[39m CART_bagged          \u001b[90m<tibble [1 × 4]>\u001b[39m \u001b[90m<opts[3]>\u001b[39m \u001b[90m<rsmp[+]>\u001b[39m\n",
      "\u001b[90m 4\u001b[39m RF                   \u001b[90m<tibble [1 × 4]>\u001b[39m \u001b[90m<opts[3]>\u001b[39m \u001b[90m<tune[+]>\u001b[39m\n",
      "\u001b[90m 5\u001b[39m boosting             \u001b[90m<tibble [1 × 4]>\u001b[39m \u001b[90m<opts[3]>\u001b[39m \u001b[90m<tune[+]>\u001b[39m\n",
      "\u001b[90m 6\u001b[39m Cubist               \u001b[90m<tibble [1 × 4]>\u001b[39m \u001b[90m<opts[3]>\u001b[39m \u001b[90m<tune[+]>\u001b[39m\n",
      "\u001b[90m 7\u001b[39m SVM_radial           \u001b[90m<tibble [1 × 4]>\u001b[39m \u001b[90m<opts[3]>\u001b[39m \u001b[90m<tune[+]>\u001b[39m\n",
      "\u001b[90m 8\u001b[39m SVM_poly             \u001b[90m<tibble [1 × 4]>\u001b[39m \u001b[90m<opts[3]>\u001b[39m \u001b[90m<tune[+]>\u001b[39m\n",
      "\u001b[90m 9\u001b[39m KNN                  \u001b[90m<tibble [1 × 4]>\u001b[39m \u001b[90m<opts[3]>\u001b[39m \u001b[90m<tune[+]>\u001b[39m\n",
      "\u001b[90m10\u001b[39m neural_network       \u001b[90m<tibble [1 × 4]>\u001b[39m \u001b[90m<opts[4]>\u001b[39m \u001b[90m<tune[+]>\u001b[39m\n",
      "\u001b[90m11\u001b[39m full_quad_linear_reg \u001b[90m<tibble [1 × 4]>\u001b[39m \u001b[90m<opts[3]>\u001b[39m \u001b[90m<tune[+]>\u001b[39m\n",
      "\u001b[90m12\u001b[39m full_quad_KNN        \u001b[90m<tibble [1 × 4]>\u001b[39m \u001b[90m<opts[3]>\u001b[39m \u001b[90m<tune[+]>\u001b[39m\n"
     ]
    }
   ],
   "source": [
    "print(grid_results)"
   ]
  },
  {
   "cell_type": "markdown",
   "id": "5caa0fcd",
   "metadata": {},
   "source": [
    "<br>\n",
    "\n",
    "### 성능에 따른 모델 정렬\n",
    "#### `rank_results()`"
   ]
  },
  {
   "cell_type": "code",
   "execution_count": 52,
   "id": "41146363",
   "metadata": {},
   "outputs": [
    {
     "data": {
      "text/html": [
       "<table class=\"dataframe\">\n",
       "<caption>A tibble: 252 × 4</caption>\n",
       "<thead>\n",
       "\t<tr><th scope=col>model</th><th scope=col>.config</th><th scope=col>rmse_mean</th><th scope=col>rank</th></tr>\n",
       "\t<tr><th scope=col>&lt;chr&gt;</th><th scope=col>&lt;chr&gt;</th><th scope=col>&lt;dbl&gt;</th><th scope=col>&lt;int&gt;</th></tr>\n",
       "</thead>\n",
       "<tbody>\n",
       "\t<tr><td>boost_tree  </td><td>Preprocessor1_Model04</td><td>4.248246</td><td> 1</td></tr>\n",
       "\t<tr><td>boost_tree  </td><td>Preprocessor1_Model06</td><td>4.289257</td><td> 2</td></tr>\n",
       "\t<tr><td>boost_tree  </td><td>Preprocessor1_Model13</td><td>4.310258</td><td> 3</td></tr>\n",
       "\t<tr><td>boost_tree  </td><td>Preprocessor1_Model14</td><td>4.394503</td><td> 4</td></tr>\n",
       "\t<tr><td>boost_tree  </td><td>Preprocessor1_Model16</td><td>4.463623</td><td> 5</td></tr>\n",
       "\t<tr><td>boost_tree  </td><td>Preprocessor1_Model03</td><td>4.468055</td><td> 6</td></tr>\n",
       "\t<tr><td>boost_tree  </td><td>Preprocessor1_Model15</td><td>4.475101</td><td> 7</td></tr>\n",
       "\t<tr><td>boost_tree  </td><td>Preprocessor1_Model05</td><td>4.551789</td><td> 8</td></tr>\n",
       "\t<tr><td>boost_tree  </td><td>Preprocessor1_Model20</td><td>4.711028</td><td> 9</td></tr>\n",
       "\t<tr><td>cubist_rules</td><td>Preprocessor1_Model24</td><td>4.714210</td><td>10</td></tr>\n",
       "\t<tr><td>cubist_rules</td><td>Preprocessor1_Model21</td><td>4.717145</td><td>11</td></tr>\n",
       "\t<tr><td>cubist_rules</td><td>Preprocessor1_Model10</td><td>4.759740</td><td>12</td></tr>\n",
       "\t<tr><td>cubist_rules</td><td>Preprocessor1_Model23</td><td>4.780242</td><td>13</td></tr>\n",
       "\t<tr><td>cubist_rules</td><td>Preprocessor1_Model16</td><td>4.780685</td><td>14</td></tr>\n",
       "\t<tr><td>cubist_rules</td><td>Preprocessor1_Model19</td><td>4.784817</td><td>15</td></tr>\n",
       "\t<tr><td>cubist_rules</td><td>Preprocessor1_Model22</td><td>4.836562</td><td>16</td></tr>\n",
       "\t<tr><td>cubist_rules</td><td>Preprocessor1_Model17</td><td>4.842567</td><td>17</td></tr>\n",
       "\t<tr><td>boost_tree  </td><td>Preprocessor1_Model08</td><td>4.863903</td><td>18</td></tr>\n",
       "\t<tr><td>cubist_rules</td><td>Preprocessor1_Model08</td><td>4.878184</td><td>19</td></tr>\n",
       "\t<tr><td>cubist_rules</td><td>Preprocessor1_Model18</td><td>4.888330</td><td>20</td></tr>\n",
       "\t<tr><td>cubist_rules</td><td>Preprocessor1_Model15</td><td>4.897505</td><td>21</td></tr>\n",
       "\t<tr><td>cubist_rules</td><td>Preprocessor1_Model12</td><td>4.951039</td><td>22</td></tr>\n",
       "\t<tr><td>cubist_rules</td><td>Preprocessor1_Model25</td><td>4.960591</td><td>23</td></tr>\n",
       "\t<tr><td>cubist_rules</td><td>Preprocessor1_Model09</td><td>4.962425</td><td>24</td></tr>\n",
       "\t<tr><td>cubist_rules</td><td>Preprocessor1_Model20</td><td>4.965997</td><td>25</td></tr>\n",
       "\t<tr><td>cubist_rules</td><td>Preprocessor1_Model03</td><td>4.981375</td><td>26</td></tr>\n",
       "\t<tr><td>cubist_rules</td><td>Preprocessor1_Model02</td><td>4.984943</td><td>27</td></tr>\n",
       "\t<tr><td>cubist_rules</td><td>Preprocessor1_Model13</td><td>4.987166</td><td>28</td></tr>\n",
       "\t<tr><td>cubist_rules</td><td>Preprocessor1_Model06</td><td>4.990404</td><td>29</td></tr>\n",
       "\t<tr><td>cubist_rules</td><td>Preprocessor1_Model14</td><td>5.023175</td><td>30</td></tr>\n",
       "\t<tr><td>⋮</td><td>⋮</td><td>⋮</td><td>⋮</td></tr>\n",
       "\t<tr><td>decision_tree   </td><td>Preprocessor1_Model20</td><td>11.24592</td><td>223</td></tr>\n",
       "\t<tr><td>nearest_neighbor</td><td>Preprocessor1_Model11</td><td>11.26757</td><td>224</td></tr>\n",
       "\t<tr><td>decision_tree   </td><td>Preprocessor1_Model01</td><td>11.50163</td><td>225</td></tr>\n",
       "\t<tr><td>nearest_neighbor</td><td>Preprocessor1_Model11</td><td>11.61088</td><td>226</td></tr>\n",
       "\t<tr><td>nearest_neighbor</td><td>Preprocessor1_Model01</td><td>11.74664</td><td>227</td></tr>\n",
       "\t<tr><td>nearest_neighbor</td><td>Preprocessor1_Model01</td><td>11.99842</td><td>228</td></tr>\n",
       "\t<tr><td>svm_rbf         </td><td>Preprocessor1_Model08</td><td>12.16802</td><td>229</td></tr>\n",
       "\t<tr><td>boost_tree      </td><td>Preprocessor1_Model25</td><td>13.01207</td><td>230</td></tr>\n",
       "\t<tr><td>svm_rbf         </td><td>Preprocessor1_Model03</td><td>13.61660</td><td>231</td></tr>\n",
       "\t<tr><td>svm_rbf         </td><td>Preprocessor1_Model04</td><td>14.17747</td><td>232</td></tr>\n",
       "\t<tr><td>svm_rbf         </td><td>Preprocessor1_Model17</td><td>15.25885</td><td>233</td></tr>\n",
       "\t<tr><td>svm_rbf         </td><td>Preprocessor1_Model18</td><td>15.73472</td><td>234</td></tr>\n",
       "\t<tr><td>svm_rbf         </td><td>Preprocessor1_Model14</td><td>16.25202</td><td>235</td></tr>\n",
       "\t<tr><td>svm_rbf         </td><td>Preprocessor1_Model15</td><td>16.27316</td><td>236</td></tr>\n",
       "\t<tr><td>svm_rbf         </td><td>Preprocessor1_Model07</td><td>16.32701</td><td>237</td></tr>\n",
       "\t<tr><td>svm_rbf         </td><td>Preprocessor1_Model20</td><td>16.39936</td><td>238</td></tr>\n",
       "\t<tr><td>svm_rbf         </td><td>Preprocessor1_Model16</td><td>16.40248</td><td>239</td></tr>\n",
       "\t<tr><td>svm_rbf         </td><td>Preprocessor1_Model21</td><td>16.40257</td><td>240</td></tr>\n",
       "\t<tr><td>svm_rbf         </td><td>Preprocessor1_Model06</td><td>16.40358</td><td>241</td></tr>\n",
       "\t<tr><td>svm_rbf         </td><td>Preprocessor1_Model11</td><td>16.40590</td><td>242</td></tr>\n",
       "\t<tr><td>svm_rbf         </td><td>Preprocessor1_Model05</td><td>16.40622</td><td>243</td></tr>\n",
       "\t<tr><td>svm_rbf         </td><td>Preprocessor1_Model23</td><td>16.40623</td><td>244</td></tr>\n",
       "\t<tr><td>svm_rbf         </td><td>Preprocessor1_Model13</td><td>16.40623</td><td>245</td></tr>\n",
       "\t<tr><td>svm_rbf         </td><td>Preprocessor1_Model22</td><td>16.40623</td><td>246</td></tr>\n",
       "\t<tr><td>svm_rbf         </td><td>Preprocessor1_Model02</td><td>16.40624</td><td>247</td></tr>\n",
       "\t<tr><td>svm_rbf         </td><td>Preprocessor1_Model10</td><td>16.40624</td><td>248</td></tr>\n",
       "\t<tr><td>svm_rbf         </td><td>Preprocessor1_Model19</td><td>16.40624</td><td>249</td></tr>\n",
       "\t<tr><td>boost_tree      </td><td>Preprocessor1_Model09</td><td>25.32541</td><td>250</td></tr>\n",
       "\t<tr><td>boost_tree      </td><td>Preprocessor1_Model07</td><td>28.22909</td><td>251</td></tr>\n",
       "\t<tr><td>boost_tree      </td><td>Preprocessor1_Model22</td><td>29.70181</td><td>252</td></tr>\n",
       "</tbody>\n",
       "</table>\n"
      ],
      "text/latex": [
       "A tibble: 252 × 4\n",
       "\\begin{tabular}{llll}\n",
       " model & .config & rmse\\_mean & rank\\\\\n",
       " <chr> & <chr> & <dbl> & <int>\\\\\n",
       "\\hline\n",
       "\t boost\\_tree   & Preprocessor1\\_Model04 & 4.248246 &  1\\\\\n",
       "\t boost\\_tree   & Preprocessor1\\_Model06 & 4.289257 &  2\\\\\n",
       "\t boost\\_tree   & Preprocessor1\\_Model13 & 4.310258 &  3\\\\\n",
       "\t boost\\_tree   & Preprocessor1\\_Model14 & 4.394503 &  4\\\\\n",
       "\t boost\\_tree   & Preprocessor1\\_Model16 & 4.463623 &  5\\\\\n",
       "\t boost\\_tree   & Preprocessor1\\_Model03 & 4.468055 &  6\\\\\n",
       "\t boost\\_tree   & Preprocessor1\\_Model15 & 4.475101 &  7\\\\\n",
       "\t boost\\_tree   & Preprocessor1\\_Model05 & 4.551789 &  8\\\\\n",
       "\t boost\\_tree   & Preprocessor1\\_Model20 & 4.711028 &  9\\\\\n",
       "\t cubist\\_rules & Preprocessor1\\_Model24 & 4.714210 & 10\\\\\n",
       "\t cubist\\_rules & Preprocessor1\\_Model21 & 4.717145 & 11\\\\\n",
       "\t cubist\\_rules & Preprocessor1\\_Model10 & 4.759740 & 12\\\\\n",
       "\t cubist\\_rules & Preprocessor1\\_Model23 & 4.780242 & 13\\\\\n",
       "\t cubist\\_rules & Preprocessor1\\_Model16 & 4.780685 & 14\\\\\n",
       "\t cubist\\_rules & Preprocessor1\\_Model19 & 4.784817 & 15\\\\\n",
       "\t cubist\\_rules & Preprocessor1\\_Model22 & 4.836562 & 16\\\\\n",
       "\t cubist\\_rules & Preprocessor1\\_Model17 & 4.842567 & 17\\\\\n",
       "\t boost\\_tree   & Preprocessor1\\_Model08 & 4.863903 & 18\\\\\n",
       "\t cubist\\_rules & Preprocessor1\\_Model08 & 4.878184 & 19\\\\\n",
       "\t cubist\\_rules & Preprocessor1\\_Model18 & 4.888330 & 20\\\\\n",
       "\t cubist\\_rules & Preprocessor1\\_Model15 & 4.897505 & 21\\\\\n",
       "\t cubist\\_rules & Preprocessor1\\_Model12 & 4.951039 & 22\\\\\n",
       "\t cubist\\_rules & Preprocessor1\\_Model25 & 4.960591 & 23\\\\\n",
       "\t cubist\\_rules & Preprocessor1\\_Model09 & 4.962425 & 24\\\\\n",
       "\t cubist\\_rules & Preprocessor1\\_Model20 & 4.965997 & 25\\\\\n",
       "\t cubist\\_rules & Preprocessor1\\_Model03 & 4.981375 & 26\\\\\n",
       "\t cubist\\_rules & Preprocessor1\\_Model02 & 4.984943 & 27\\\\\n",
       "\t cubist\\_rules & Preprocessor1\\_Model13 & 4.987166 & 28\\\\\n",
       "\t cubist\\_rules & Preprocessor1\\_Model06 & 4.990404 & 29\\\\\n",
       "\t cubist\\_rules & Preprocessor1\\_Model14 & 5.023175 & 30\\\\\n",
       "\t ⋮ & ⋮ & ⋮ & ⋮\\\\\n",
       "\t decision\\_tree    & Preprocessor1\\_Model20 & 11.24592 & 223\\\\\n",
       "\t nearest\\_neighbor & Preprocessor1\\_Model11 & 11.26757 & 224\\\\\n",
       "\t decision\\_tree    & Preprocessor1\\_Model01 & 11.50163 & 225\\\\\n",
       "\t nearest\\_neighbor & Preprocessor1\\_Model11 & 11.61088 & 226\\\\\n",
       "\t nearest\\_neighbor & Preprocessor1\\_Model01 & 11.74664 & 227\\\\\n",
       "\t nearest\\_neighbor & Preprocessor1\\_Model01 & 11.99842 & 228\\\\\n",
       "\t svm\\_rbf          & Preprocessor1\\_Model08 & 12.16802 & 229\\\\\n",
       "\t boost\\_tree       & Preprocessor1\\_Model25 & 13.01207 & 230\\\\\n",
       "\t svm\\_rbf          & Preprocessor1\\_Model03 & 13.61660 & 231\\\\\n",
       "\t svm\\_rbf          & Preprocessor1\\_Model04 & 14.17747 & 232\\\\\n",
       "\t svm\\_rbf          & Preprocessor1\\_Model17 & 15.25885 & 233\\\\\n",
       "\t svm\\_rbf          & Preprocessor1\\_Model18 & 15.73472 & 234\\\\\n",
       "\t svm\\_rbf          & Preprocessor1\\_Model14 & 16.25202 & 235\\\\\n",
       "\t svm\\_rbf          & Preprocessor1\\_Model15 & 16.27316 & 236\\\\\n",
       "\t svm\\_rbf          & Preprocessor1\\_Model07 & 16.32701 & 237\\\\\n",
       "\t svm\\_rbf          & Preprocessor1\\_Model20 & 16.39936 & 238\\\\\n",
       "\t svm\\_rbf          & Preprocessor1\\_Model16 & 16.40248 & 239\\\\\n",
       "\t svm\\_rbf          & Preprocessor1\\_Model21 & 16.40257 & 240\\\\\n",
       "\t svm\\_rbf          & Preprocessor1\\_Model06 & 16.40358 & 241\\\\\n",
       "\t svm\\_rbf          & Preprocessor1\\_Model11 & 16.40590 & 242\\\\\n",
       "\t svm\\_rbf          & Preprocessor1\\_Model05 & 16.40622 & 243\\\\\n",
       "\t svm\\_rbf          & Preprocessor1\\_Model23 & 16.40623 & 244\\\\\n",
       "\t svm\\_rbf          & Preprocessor1\\_Model13 & 16.40623 & 245\\\\\n",
       "\t svm\\_rbf          & Preprocessor1\\_Model22 & 16.40623 & 246\\\\\n",
       "\t svm\\_rbf          & Preprocessor1\\_Model02 & 16.40624 & 247\\\\\n",
       "\t svm\\_rbf          & Preprocessor1\\_Model10 & 16.40624 & 248\\\\\n",
       "\t svm\\_rbf          & Preprocessor1\\_Model19 & 16.40624 & 249\\\\\n",
       "\t boost\\_tree       & Preprocessor1\\_Model09 & 25.32541 & 250\\\\\n",
       "\t boost\\_tree       & Preprocessor1\\_Model07 & 28.22909 & 251\\\\\n",
       "\t boost\\_tree       & Preprocessor1\\_Model22 & 29.70181 & 252\\\\\n",
       "\\end{tabular}\n"
      ],
      "text/markdown": [
       "\n",
       "A tibble: 252 × 4\n",
       "\n",
       "| model &lt;chr&gt; | .config &lt;chr&gt; | rmse_mean &lt;dbl&gt; | rank &lt;int&gt; |\n",
       "|---|---|---|---|\n",
       "| boost_tree   | Preprocessor1_Model04 | 4.248246 |  1 |\n",
       "| boost_tree   | Preprocessor1_Model06 | 4.289257 |  2 |\n",
       "| boost_tree   | Preprocessor1_Model13 | 4.310258 |  3 |\n",
       "| boost_tree   | Preprocessor1_Model14 | 4.394503 |  4 |\n",
       "| boost_tree   | Preprocessor1_Model16 | 4.463623 |  5 |\n",
       "| boost_tree   | Preprocessor1_Model03 | 4.468055 |  6 |\n",
       "| boost_tree   | Preprocessor1_Model15 | 4.475101 |  7 |\n",
       "| boost_tree   | Preprocessor1_Model05 | 4.551789 |  8 |\n",
       "| boost_tree   | Preprocessor1_Model20 | 4.711028 |  9 |\n",
       "| cubist_rules | Preprocessor1_Model24 | 4.714210 | 10 |\n",
       "| cubist_rules | Preprocessor1_Model21 | 4.717145 | 11 |\n",
       "| cubist_rules | Preprocessor1_Model10 | 4.759740 | 12 |\n",
       "| cubist_rules | Preprocessor1_Model23 | 4.780242 | 13 |\n",
       "| cubist_rules | Preprocessor1_Model16 | 4.780685 | 14 |\n",
       "| cubist_rules | Preprocessor1_Model19 | 4.784817 | 15 |\n",
       "| cubist_rules | Preprocessor1_Model22 | 4.836562 | 16 |\n",
       "| cubist_rules | Preprocessor1_Model17 | 4.842567 | 17 |\n",
       "| boost_tree   | Preprocessor1_Model08 | 4.863903 | 18 |\n",
       "| cubist_rules | Preprocessor1_Model08 | 4.878184 | 19 |\n",
       "| cubist_rules | Preprocessor1_Model18 | 4.888330 | 20 |\n",
       "| cubist_rules | Preprocessor1_Model15 | 4.897505 | 21 |\n",
       "| cubist_rules | Preprocessor1_Model12 | 4.951039 | 22 |\n",
       "| cubist_rules | Preprocessor1_Model25 | 4.960591 | 23 |\n",
       "| cubist_rules | Preprocessor1_Model09 | 4.962425 | 24 |\n",
       "| cubist_rules | Preprocessor1_Model20 | 4.965997 | 25 |\n",
       "| cubist_rules | Preprocessor1_Model03 | 4.981375 | 26 |\n",
       "| cubist_rules | Preprocessor1_Model02 | 4.984943 | 27 |\n",
       "| cubist_rules | Preprocessor1_Model13 | 4.987166 | 28 |\n",
       "| cubist_rules | Preprocessor1_Model06 | 4.990404 | 29 |\n",
       "| cubist_rules | Preprocessor1_Model14 | 5.023175 | 30 |\n",
       "| ⋮ | ⋮ | ⋮ | ⋮ |\n",
       "| decision_tree    | Preprocessor1_Model20 | 11.24592 | 223 |\n",
       "| nearest_neighbor | Preprocessor1_Model11 | 11.26757 | 224 |\n",
       "| decision_tree    | Preprocessor1_Model01 | 11.50163 | 225 |\n",
       "| nearest_neighbor | Preprocessor1_Model11 | 11.61088 | 226 |\n",
       "| nearest_neighbor | Preprocessor1_Model01 | 11.74664 | 227 |\n",
       "| nearest_neighbor | Preprocessor1_Model01 | 11.99842 | 228 |\n",
       "| svm_rbf          | Preprocessor1_Model08 | 12.16802 | 229 |\n",
       "| boost_tree       | Preprocessor1_Model25 | 13.01207 | 230 |\n",
       "| svm_rbf          | Preprocessor1_Model03 | 13.61660 | 231 |\n",
       "| svm_rbf          | Preprocessor1_Model04 | 14.17747 | 232 |\n",
       "| svm_rbf          | Preprocessor1_Model17 | 15.25885 | 233 |\n",
       "| svm_rbf          | Preprocessor1_Model18 | 15.73472 | 234 |\n",
       "| svm_rbf          | Preprocessor1_Model14 | 16.25202 | 235 |\n",
       "| svm_rbf          | Preprocessor1_Model15 | 16.27316 | 236 |\n",
       "| svm_rbf          | Preprocessor1_Model07 | 16.32701 | 237 |\n",
       "| svm_rbf          | Preprocessor1_Model20 | 16.39936 | 238 |\n",
       "| svm_rbf          | Preprocessor1_Model16 | 16.40248 | 239 |\n",
       "| svm_rbf          | Preprocessor1_Model21 | 16.40257 | 240 |\n",
       "| svm_rbf          | Preprocessor1_Model06 | 16.40358 | 241 |\n",
       "| svm_rbf          | Preprocessor1_Model11 | 16.40590 | 242 |\n",
       "| svm_rbf          | Preprocessor1_Model05 | 16.40622 | 243 |\n",
       "| svm_rbf          | Preprocessor1_Model23 | 16.40623 | 244 |\n",
       "| svm_rbf          | Preprocessor1_Model13 | 16.40623 | 245 |\n",
       "| svm_rbf          | Preprocessor1_Model22 | 16.40623 | 246 |\n",
       "| svm_rbf          | Preprocessor1_Model02 | 16.40624 | 247 |\n",
       "| svm_rbf          | Preprocessor1_Model10 | 16.40624 | 248 |\n",
       "| svm_rbf          | Preprocessor1_Model19 | 16.40624 | 249 |\n",
       "| boost_tree       | Preprocessor1_Model09 | 25.32541 | 250 |\n",
       "| boost_tree       | Preprocessor1_Model07 | 28.22909 | 251 |\n",
       "| boost_tree       | Preprocessor1_Model22 | 29.70181 | 252 |\n",
       "\n"
      ],
      "text/plain": [
       "    model            .config               rmse_mean rank\n",
       "1   boost_tree       Preprocessor1_Model04 4.248246   1  \n",
       "2   boost_tree       Preprocessor1_Model06 4.289257   2  \n",
       "3   boost_tree       Preprocessor1_Model13 4.310258   3  \n",
       "4   boost_tree       Preprocessor1_Model14 4.394503   4  \n",
       "5   boost_tree       Preprocessor1_Model16 4.463623   5  \n",
       "6   boost_tree       Preprocessor1_Model03 4.468055   6  \n",
       "7   boost_tree       Preprocessor1_Model15 4.475101   7  \n",
       "8   boost_tree       Preprocessor1_Model05 4.551789   8  \n",
       "9   boost_tree       Preprocessor1_Model20 4.711028   9  \n",
       "10  cubist_rules     Preprocessor1_Model24 4.714210  10  \n",
       "11  cubist_rules     Preprocessor1_Model21 4.717145  11  \n",
       "12  cubist_rules     Preprocessor1_Model10 4.759740  12  \n",
       "13  cubist_rules     Preprocessor1_Model23 4.780242  13  \n",
       "14  cubist_rules     Preprocessor1_Model16 4.780685  14  \n",
       "15  cubist_rules     Preprocessor1_Model19 4.784817  15  \n",
       "16  cubist_rules     Preprocessor1_Model22 4.836562  16  \n",
       "17  cubist_rules     Preprocessor1_Model17 4.842567  17  \n",
       "18  boost_tree       Preprocessor1_Model08 4.863903  18  \n",
       "19  cubist_rules     Preprocessor1_Model08 4.878184  19  \n",
       "20  cubist_rules     Preprocessor1_Model18 4.888330  20  \n",
       "21  cubist_rules     Preprocessor1_Model15 4.897505  21  \n",
       "22  cubist_rules     Preprocessor1_Model12 4.951039  22  \n",
       "23  cubist_rules     Preprocessor1_Model25 4.960591  23  \n",
       "24  cubist_rules     Preprocessor1_Model09 4.962425  24  \n",
       "25  cubist_rules     Preprocessor1_Model20 4.965997  25  \n",
       "26  cubist_rules     Preprocessor1_Model03 4.981375  26  \n",
       "27  cubist_rules     Preprocessor1_Model02 4.984943  27  \n",
       "28  cubist_rules     Preprocessor1_Model13 4.987166  28  \n",
       "29  cubist_rules     Preprocessor1_Model06 4.990404  29  \n",
       "30  cubist_rules     Preprocessor1_Model14 5.023175  30  \n",
       "⋮   ⋮                ⋮                     ⋮         ⋮   \n",
       "223 decision_tree    Preprocessor1_Model20 11.24592  223 \n",
       "224 nearest_neighbor Preprocessor1_Model11 11.26757  224 \n",
       "225 decision_tree    Preprocessor1_Model01 11.50163  225 \n",
       "226 nearest_neighbor Preprocessor1_Model11 11.61088  226 \n",
       "227 nearest_neighbor Preprocessor1_Model01 11.74664  227 \n",
       "228 nearest_neighbor Preprocessor1_Model01 11.99842  228 \n",
       "229 svm_rbf          Preprocessor1_Model08 12.16802  229 \n",
       "230 boost_tree       Preprocessor1_Model25 13.01207  230 \n",
       "231 svm_rbf          Preprocessor1_Model03 13.61660  231 \n",
       "232 svm_rbf          Preprocessor1_Model04 14.17747  232 \n",
       "233 svm_rbf          Preprocessor1_Model17 15.25885  233 \n",
       "234 svm_rbf          Preprocessor1_Model18 15.73472  234 \n",
       "235 svm_rbf          Preprocessor1_Model14 16.25202  235 \n",
       "236 svm_rbf          Preprocessor1_Model15 16.27316  236 \n",
       "237 svm_rbf          Preprocessor1_Model07 16.32701  237 \n",
       "238 svm_rbf          Preprocessor1_Model20 16.39936  238 \n",
       "239 svm_rbf          Preprocessor1_Model16 16.40248  239 \n",
       "240 svm_rbf          Preprocessor1_Model21 16.40257  240 \n",
       "241 svm_rbf          Preprocessor1_Model06 16.40358  241 \n",
       "242 svm_rbf          Preprocessor1_Model11 16.40590  242 \n",
       "243 svm_rbf          Preprocessor1_Model05 16.40622  243 \n",
       "244 svm_rbf          Preprocessor1_Model23 16.40623  244 \n",
       "245 svm_rbf          Preprocessor1_Model13 16.40623  245 \n",
       "246 svm_rbf          Preprocessor1_Model22 16.40623  246 \n",
       "247 svm_rbf          Preprocessor1_Model02 16.40624  247 \n",
       "248 svm_rbf          Preprocessor1_Model10 16.40624  248 \n",
       "249 svm_rbf          Preprocessor1_Model19 16.40624  249 \n",
       "250 boost_tree       Preprocessor1_Model09 25.32541  250 \n",
       "251 boost_tree       Preprocessor1_Model07 28.22909  251 \n",
       "252 boost_tree       Preprocessor1_Model22 29.70181  252 "
      ]
     },
     "metadata": {},
     "output_type": "display_data"
    }
   ],
   "source": [
    "grid_results %>%\n",
    "    rank_results() %>%\n",
    "    filter(.metric == \"rmse\") %>%\n",
    "    select(model, .config, rmse_mean = mean, rank)"
   ]
  },
  {
   "cell_type": "code",
   "execution_count": 53,
   "id": "f1e6bed6",
   "metadata": {},
   "outputs": [
    {
     "data": {
      "image/png": "[encoded data removed]",
      "text/plain": [
       "plot without title"
      ]
     },
     "metadata": {
      "image/png": {
       "height": 420,
       "width": 420
      }
     },
     "output_type": "display_data"
    }
   ],
   "source": [
    "autoplot(\n",
    "    grid_results,\n",
    "    rank_metric = \"rmse\",  \n",
    "    metric = \"rmse\",       \n",
    "    select_best = TRUE    \n",
    ") +geom_text(aes(y = mean - 1/2, label = wflow_id), angle = 90, hjust = 1) +\n",
    "    lims(y = c(3.5, 9.5)) +\n",
    "    theme(legend.position = \"none\")"
   ]
  },
  {
   "cell_type": "markdown",
   "id": "c1ef069a",
   "metadata": {},
   "source": [
    "<br>\n",
    "\n",
    "#### 특정 모델의 파라미터 튜닝 결과 확인"
   ]
  },
  {
   "cell_type": "code",
   "execution_count": 54,
   "id": "f4445679",
   "metadata": {},
   "outputs": [
    {
     "data": {
      "image/png": "[encoded data removed]",
      "text/plain": [
       "plot without title"
      ]
     },
     "metadata": {
      "image/png": {
       "height": 420,
       "width": 420
      }
     },
     "output_type": "display_data"
    }
   ],
   "source": [
    "autoplot(grid_results, id = \"Cubist\", metric = \"rmse\")"
   ]
  },
  {
   "cell_type": "markdown",
   "id": "a1a67481",
   "metadata": {},
   "source": [
    "<br>\n",
    "\n",
    "## 12.04. 모델 선별\n",
    "- **대규모 모델 워크플로 세트를 효율적으로 선별하는 방법은 Racing Method를 사용**"
   ]
  },
  {
   "cell_type": "code",
   "execution_count": 55,
   "id": "6c3b134d",
   "metadata": {},
   "outputs": [],
   "source": [
    "library(finetune)"
   ]
  },
  {
   "cell_type": "code",
   "execution_count": 56,
   "id": "fdf04079",
   "metadata": {},
   "outputs": [],
   "source": [
    "race_ctrl <- control_race(\n",
    "    verbose = FALSE,\n",
    "    save_pred = TRUE,\n",
    "    parallel_over = \"everything\",\n",
    "    save_workflow = TRUE\n",
    ")"
   ]
  },
  {
   "cell_type": "code",
   "execution_count": 57,
   "id": "64433500",
   "metadata": {},
   "outputs": [],
   "source": [
    "race_results <- all_workflows %>%\n",
    "    workflow_map(\n",
    "        \"tune_race_anova\",\n",
    "        seed = 1503,\n",
    "        resamples = concrete_folds,\n",
    "        grid = 25,\n",
    "        control = race_ctrl\n",
    "    )"
   ]
  },
  {
   "cell_type": "code",
   "execution_count": 59,
   "id": "526315fa",
   "metadata": {},
   "outputs": [
    {
     "data": {
      "text/html": [
       "<table class=\"dataframe\">\n",
       "<caption>A tibble: 24 × 9</caption>\n",
       "<thead>\n",
       "\t<tr><th scope=col>wflow_id</th><th scope=col>.config</th><th scope=col>.metric</th><th scope=col>mean</th><th scope=col>std_err</th><th scope=col>n</th><th scope=col>preprocessor</th><th scope=col>model</th><th scope=col>rank</th></tr>\n",
       "\t<tr><th scope=col>&lt;chr&gt;</th><th scope=col>&lt;chr&gt;</th><th scope=col>&lt;chr&gt;</th><th scope=col>&lt;dbl&gt;</th><th scope=col>&lt;dbl&gt;</th><th scope=col>&lt;int&gt;</th><th scope=col>&lt;chr&gt;</th><th scope=col>&lt;chr&gt;</th><th scope=col>&lt;int&gt;</th></tr>\n",
       "</thead>\n",
       "<tbody>\n",
       "\t<tr><td>boosting            </td><td>Preprocessor1_Model16</td><td>rmse</td><td>4.1670180</td><td>0.091929052</td><td>50</td><td>workflow_variables</td><td>boost_tree      </td><td> 1</td></tr>\n",
       "\t<tr><td>boosting            </td><td>Preprocessor1_Model16</td><td>rsq </td><td>0.9358992</td><td>0.002827987</td><td>50</td><td>workflow_variables</td><td>boost_tree      </td><td> 1</td></tr>\n",
       "\t<tr><td>Cubist              </td><td>Preprocessor1_Model25</td><td>rmse</td><td>4.7137670</td><td>0.091306936</td><td>50</td><td>workflow_variables</td><td>cubist_rules    </td><td> 2</td></tr>\n",
       "\t<tr><td>Cubist              </td><td>Preprocessor1_Model25</td><td>rsq </td><td>0.9191041</td><td>0.002991308</td><td>50</td><td>workflow_variables</td><td>cubist_rules    </td><td> 2</td></tr>\n",
       "\t<tr><td>RF                  </td><td>Preprocessor1_Model11</td><td>rmse</td><td>5.2341204</td><td>0.094169339</td><td>50</td><td>workflow_variables</td><td>rand_forest     </td><td> 3</td></tr>\n",
       "\t<tr><td>RF                  </td><td>Preprocessor1_Model11</td><td>rsq </td><td>0.9043284</td><td>0.003196545</td><td>50</td><td>workflow_variables</td><td>rand_forest     </td><td> 3</td></tr>\n",
       "\t<tr><td>CART_bagged         </td><td>Preprocessor1_Model1 </td><td>rmse</td><td>5.3244276</td><td>0.093477642</td><td>50</td><td>workflow_variables</td><td>bag_tree        </td><td> 4</td></tr>\n",
       "\t<tr><td>CART_bagged         </td><td>Preprocessor1_Model1 </td><td>rsq </td><td>0.8983617</td><td>0.003354644</td><td>50</td><td>workflow_variables</td><td>bag_tree        </td><td> 4</td></tr>\n",
       "\t<tr><td>neural_network      </td><td>Preprocessor1_Model17</td><td>rmse</td><td>6.0634229</td><td>0.125719982</td><td>50</td><td>recipe            </td><td>mlp             </td><td> 5</td></tr>\n",
       "\t<tr><td>neural_network      </td><td>Preprocessor1_Model17</td><td>rsq </td><td>0.8677572</td><td>0.005074918</td><td>50</td><td>recipe            </td><td>mlp             </td><td> 5</td></tr>\n",
       "\t<tr><td>MARS                </td><td>Preprocessor1_Model2 </td><td>rmse</td><td>6.2801635</td><td>0.089738723</td><td>50</td><td>workflow_variables</td><td>mars            </td><td> 6</td></tr>\n",
       "\t<tr><td>MARS                </td><td>Preprocessor1_Model2 </td><td>rsq </td><td>0.8553238</td><td>0.004521954</td><td>50</td><td>workflow_variables</td><td>mars            </td><td> 6</td></tr>\n",
       "\t<tr><td>full_quad_linear_reg</td><td>Preprocessor1_Model25</td><td>rmse</td><td>6.3541363</td><td>0.103240108</td><td>50</td><td>recipe            </td><td>linear_reg      </td><td> 7</td></tr>\n",
       "\t<tr><td>full_quad_linear_reg</td><td>Preprocessor1_Model25</td><td>rsq </td><td>0.8534408</td><td>0.005182795</td><td>50</td><td>recipe            </td><td>linear_reg      </td><td> 7</td></tr>\n",
       "\t<tr><td>SVM_poly            </td><td>Preprocessor1_Model18</td><td>rmse</td><td>6.9468465</td><td>0.123521292</td><td>50</td><td>recipe            </td><td>svm_poly        </td><td> 8</td></tr>\n",
       "\t<tr><td>SVM_poly            </td><td>Preprocessor1_Model18</td><td>rsq </td><td>0.8293490</td><td>0.006272880</td><td>50</td><td>recipe            </td><td>svm_poly        </td><td> 8</td></tr>\n",
       "\t<tr><td>SVM_radial          </td><td>Preprocessor1_Model23</td><td>rmse</td><td>7.1001441</td><td>0.099415344</td><td>50</td><td>recipe            </td><td>svm_rbf         </td><td> 9</td></tr>\n",
       "\t<tr><td>SVM_radial          </td><td>Preprocessor1_Model23</td><td>rsq </td><td>0.8164263</td><td>0.005186326</td><td>50</td><td>recipe            </td><td>svm_rbf         </td><td> 9</td></tr>\n",
       "\t<tr><td>CART                </td><td>Preprocessor1_Model05</td><td>rmse</td><td>7.1503514</td><td>0.164925629</td><td>50</td><td>workflow_variables</td><td>decision_tree   </td><td>10</td></tr>\n",
       "\t<tr><td>CART                </td><td>Preprocessor1_Model05</td><td>rsq </td><td>0.8183387</td><td>0.007860249</td><td>50</td><td>workflow_variables</td><td>decision_tree   </td><td>10</td></tr>\n",
       "\t<tr><td>full_quad_KNN       </td><td>Preprocessor1_Model16</td><td>rmse</td><td>8.1235502</td><td>0.146539862</td><td>50</td><td>recipe            </td><td>nearest_neighbor</td><td>11</td></tr>\n",
       "\t<tr><td>full_quad_KNN       </td><td>Preprocessor1_Model16</td><td>rsq </td><td>0.7587006</td><td>0.009077232</td><td>50</td><td>recipe            </td><td>nearest_neighbor</td><td>11</td></tr>\n",
       "\t<tr><td>KNN                 </td><td>Preprocessor1_Model16</td><td>rmse</td><td>8.8947346</td><td>0.136563800</td><td>50</td><td>recipe            </td><td>nearest_neighbor</td><td>12</td></tr>\n",
       "\t<tr><td>KNN                 </td><td>Preprocessor1_Model16</td><td>rsq </td><td>0.7114523</td><td>0.009313198</td><td>50</td><td>recipe            </td><td>nearest_neighbor</td><td>12</td></tr>\n",
       "</tbody>\n",
       "</table>\n"
      ],
      "text/latex": [
       "A tibble: 24 × 9\n",
       "\\begin{tabular}{lllllllll}\n",
       " wflow\\_id & .config & .metric & mean & std\\_err & n & preprocessor & model & rank\\\\\n",
       " <chr> & <chr> & <chr> & <dbl> & <dbl> & <int> & <chr> & <chr> & <int>\\\\\n",
       "\\hline\n",
       "\t boosting             & Preprocessor1\\_Model16 & rmse & 4.1670180 & 0.091929052 & 50 & workflow\\_variables & boost\\_tree       &  1\\\\\n",
       "\t boosting             & Preprocessor1\\_Model16 & rsq  & 0.9358992 & 0.002827987 & 50 & workflow\\_variables & boost\\_tree       &  1\\\\\n",
       "\t Cubist               & Preprocessor1\\_Model25 & rmse & 4.7137670 & 0.091306936 & 50 & workflow\\_variables & cubist\\_rules     &  2\\\\\n",
       "\t Cubist               & Preprocessor1\\_Model25 & rsq  & 0.9191041 & 0.002991308 & 50 & workflow\\_variables & cubist\\_rules     &  2\\\\\n",
       "\t RF                   & Preprocessor1\\_Model11 & rmse & 5.2341204 & 0.094169339 & 50 & workflow\\_variables & rand\\_forest      &  3\\\\\n",
       "\t RF                   & Preprocessor1\\_Model11 & rsq  & 0.9043284 & 0.003196545 & 50 & workflow\\_variables & rand\\_forest      &  3\\\\\n",
       "\t CART\\_bagged          & Preprocessor1\\_Model1  & rmse & 5.3244276 & 0.093477642 & 50 & workflow\\_variables & bag\\_tree         &  4\\\\\n",
       "\t CART\\_bagged          & Preprocessor1\\_Model1  & rsq  & 0.8983617 & 0.003354644 & 50 & workflow\\_variables & bag\\_tree         &  4\\\\\n",
       "\t neural\\_network       & Preprocessor1\\_Model17 & rmse & 6.0634229 & 0.125719982 & 50 & recipe             & mlp              &  5\\\\\n",
       "\t neural\\_network       & Preprocessor1\\_Model17 & rsq  & 0.8677572 & 0.005074918 & 50 & recipe             & mlp              &  5\\\\\n",
       "\t MARS                 & Preprocessor1\\_Model2  & rmse & 6.2801635 & 0.089738723 & 50 & workflow\\_variables & mars             &  6\\\\\n",
       "\t MARS                 & Preprocessor1\\_Model2  & rsq  & 0.8553238 & 0.004521954 & 50 & workflow\\_variables & mars             &  6\\\\\n",
       "\t full\\_quad\\_linear\\_reg & Preprocessor1\\_Model25 & rmse & 6.3541363 & 0.103240108 & 50 & recipe             & linear\\_reg       &  7\\\\\n",
       "\t full\\_quad\\_linear\\_reg & Preprocessor1\\_Model25 & rsq  & 0.8534408 & 0.005182795 & 50 & recipe             & linear\\_reg       &  7\\\\\n",
       "\t SVM\\_poly             & Preprocessor1\\_Model18 & rmse & 6.9468465 & 0.123521292 & 50 & recipe             & svm\\_poly         &  8\\\\\n",
       "\t SVM\\_poly             & Preprocessor1\\_Model18 & rsq  & 0.8293490 & 0.006272880 & 50 & recipe             & svm\\_poly         &  8\\\\\n",
       "\t SVM\\_radial           & Preprocessor1\\_Model23 & rmse & 7.1001441 & 0.099415344 & 50 & recipe             & svm\\_rbf          &  9\\\\\n",
       "\t SVM\\_radial           & Preprocessor1\\_Model23 & rsq  & 0.8164263 & 0.005186326 & 50 & recipe             & svm\\_rbf          &  9\\\\\n",
       "\t CART                 & Preprocessor1\\_Model05 & rmse & 7.1503514 & 0.164925629 & 50 & workflow\\_variables & decision\\_tree    & 10\\\\\n",
       "\t CART                 & Preprocessor1\\_Model05 & rsq  & 0.8183387 & 0.007860249 & 50 & workflow\\_variables & decision\\_tree    & 10\\\\\n",
       "\t full\\_quad\\_KNN        & Preprocessor1\\_Model16 & rmse & 8.1235502 & 0.146539862 & 50 & recipe             & nearest\\_neighbor & 11\\\\\n",
       "\t full\\_quad\\_KNN        & Preprocessor1\\_Model16 & rsq  & 0.7587006 & 0.009077232 & 50 & recipe             & nearest\\_neighbor & 11\\\\\n",
       "\t KNN                  & Preprocessor1\\_Model16 & rmse & 8.8947346 & 0.136563800 & 50 & recipe             & nearest\\_neighbor & 12\\\\\n",
       "\t KNN                  & Preprocessor1\\_Model16 & rsq  & 0.7114523 & 0.009313198 & 50 & recipe             & nearest\\_neighbor & 12\\\\\n",
       "\\end{tabular}\n"
      ],
      "text/markdown": [
       "\n",
       "A tibble: 24 × 9\n",
       "\n",
       "| wflow_id &lt;chr&gt; | .config &lt;chr&gt; | .metric &lt;chr&gt; | mean &lt;dbl&gt; | std_err &lt;dbl&gt; | n &lt;int&gt; | preprocessor &lt;chr&gt; | model &lt;chr&gt; | rank &lt;int&gt; |\n",
       "|---|---|---|---|---|---|---|---|---|\n",
       "| boosting             | Preprocessor1_Model16 | rmse | 4.1670180 | 0.091929052 | 50 | workflow_variables | boost_tree       |  1 |\n",
       "| boosting             | Preprocessor1_Model16 | rsq  | 0.9358992 | 0.002827987 | 50 | workflow_variables | boost_tree       |  1 |\n",
       "| Cubist               | Preprocessor1_Model25 | rmse | 4.7137670 | 0.091306936 | 50 | workflow_variables | cubist_rules     |  2 |\n",
       "| Cubist               | Preprocessor1_Model25 | rsq  | 0.9191041 | 0.002991308 | 50 | workflow_variables | cubist_rules     |  2 |\n",
       "| RF                   | Preprocessor1_Model11 | rmse | 5.2341204 | 0.094169339 | 50 | workflow_variables | rand_forest      |  3 |\n",
       "| RF                   | Preprocessor1_Model11 | rsq  | 0.9043284 | 0.003196545 | 50 | workflow_variables | rand_forest      |  3 |\n",
       "| CART_bagged          | Preprocessor1_Model1  | rmse | 5.3244276 | 0.093477642 | 50 | workflow_variables | bag_tree         |  4 |\n",
       "| CART_bagged          | Preprocessor1_Model1  | rsq  | 0.8983617 | 0.003354644 | 50 | workflow_variables | bag_tree         |  4 |\n",
       "| neural_network       | Preprocessor1_Model17 | rmse | 6.0634229 | 0.125719982 | 50 | recipe             | mlp              |  5 |\n",
       "| neural_network       | Preprocessor1_Model17 | rsq  | 0.8677572 | 0.005074918 | 50 | recipe             | mlp              |  5 |\n",
       "| MARS                 | Preprocessor1_Model2  | rmse | 6.2801635 | 0.089738723 | 50 | workflow_variables | mars             |  6 |\n",
       "| MARS                 | Preprocessor1_Model2  | rsq  | 0.8553238 | 0.004521954 | 50 | workflow_variables | mars             |  6 |\n",
       "| full_quad_linear_reg | Preprocessor1_Model25 | rmse | 6.3541363 | 0.103240108 | 50 | recipe             | linear_reg       |  7 |\n",
       "| full_quad_linear_reg | Preprocessor1_Model25 | rsq  | 0.8534408 | 0.005182795 | 50 | recipe             | linear_reg       |  7 |\n",
       "| SVM_poly             | Preprocessor1_Model18 | rmse | 6.9468465 | 0.123521292 | 50 | recipe             | svm_poly         |  8 |\n",
       "| SVM_poly             | Preprocessor1_Model18 | rsq  | 0.8293490 | 0.006272880 | 50 | recipe             | svm_poly         |  8 |\n",
       "| SVM_radial           | Preprocessor1_Model23 | rmse | 7.1001441 | 0.099415344 | 50 | recipe             | svm_rbf          |  9 |\n",
       "| SVM_radial           | Preprocessor1_Model23 | rsq  | 0.8164263 | 0.005186326 | 50 | recipe             | svm_rbf          |  9 |\n",
       "| CART                 | Preprocessor1_Model05 | rmse | 7.1503514 | 0.164925629 | 50 | workflow_variables | decision_tree    | 10 |\n",
       "| CART                 | Preprocessor1_Model05 | rsq  | 0.8183387 | 0.007860249 | 50 | workflow_variables | decision_tree    | 10 |\n",
       "| full_quad_KNN        | Preprocessor1_Model16 | rmse | 8.1235502 | 0.146539862 | 50 | recipe             | nearest_neighbor | 11 |\n",
       "| full_quad_KNN        | Preprocessor1_Model16 | rsq  | 0.7587006 | 0.009077232 | 50 | recipe             | nearest_neighbor | 11 |\n",
       "| KNN                  | Preprocessor1_Model16 | rmse | 8.8947346 | 0.136563800 | 50 | recipe             | nearest_neighbor | 12 |\n",
       "| KNN                  | Preprocessor1_Model16 | rsq  | 0.7114523 | 0.009313198 | 50 | recipe             | nearest_neighbor | 12 |\n",
       "\n"
      ],
      "text/plain": [
       "   wflow_id             .config               .metric mean      std_err     n \n",
       "1  boosting             Preprocessor1_Model16 rmse    4.1670180 0.091929052 50\n",
       "2  boosting             Preprocessor1_Model16 rsq     0.9358992 0.002827987 50\n",
       "3  Cubist               Preprocessor1_Model25 rmse    4.7137670 0.091306936 50\n",
       "4  Cubist               Preprocessor1_Model25 rsq     0.9191041 0.002991308 50\n",
       "5  RF                   Preprocessor1_Model11 rmse    5.2341204 0.094169339 50\n",
       "6  RF                   Preprocessor1_Model11 rsq     0.9043284 0.003196545 50\n",
       "7  CART_bagged          Preprocessor1_Model1  rmse    5.3244276 0.093477642 50\n",
       "8  CART_bagged          Preprocessor1_Model1  rsq     0.8983617 0.003354644 50\n",
       "9  neural_network       Preprocessor1_Model17 rmse    6.0634229 0.125719982 50\n",
       "10 neural_network       Preprocessor1_Model17 rsq     0.8677572 0.005074918 50\n",
       "11 MARS                 Preprocessor1_Model2  rmse    6.2801635 0.089738723 50\n",
       "12 MARS                 Preprocessor1_Model2  rsq     0.8553238 0.004521954 50\n",
       "13 full_quad_linear_reg Preprocessor1_Model25 rmse    6.3541363 0.103240108 50\n",
       "14 full_quad_linear_reg Preprocessor1_Model25 rsq     0.8534408 0.005182795 50\n",
       "15 SVM_poly             Preprocessor1_Model18 rmse    6.9468465 0.123521292 50\n",
       "16 SVM_poly             Preprocessor1_Model18 rsq     0.8293490 0.006272880 50\n",
       "17 SVM_radial           Preprocessor1_Model23 rmse    7.1001441 0.099415344 50\n",
       "18 SVM_radial           Preprocessor1_Model23 rsq     0.8164263 0.005186326 50\n",
       "19 CART                 Preprocessor1_Model05 rmse    7.1503514 0.164925629 50\n",
       "20 CART                 Preprocessor1_Model05 rsq     0.8183387 0.007860249 50\n",
       "21 full_quad_KNN        Preprocessor1_Model16 rmse    8.1235502 0.146539862 50\n",
       "22 full_quad_KNN        Preprocessor1_Model16 rsq     0.7587006 0.009077232 50\n",
       "23 KNN                  Preprocessor1_Model16 rmse    8.8947346 0.136563800 50\n",
       "24 KNN                  Preprocessor1_Model16 rsq     0.7114523 0.009313198 50\n",
       "   preprocessor       model            rank\n",
       "1  workflow_variables boost_tree        1  \n",
       "2  workflow_variables boost_tree        1  \n",
       "3  workflow_variables cubist_rules      2  \n",
       "4  workflow_variables cubist_rules      2  \n",
       "5  workflow_variables rand_forest       3  \n",
       "6  workflow_variables rand_forest       3  \n",
       "7  workflow_variables bag_tree          4  \n",
       "8  workflow_variables bag_tree          4  \n",
       "9  recipe             mlp               5  \n",
       "10 recipe             mlp               5  \n",
       "11 workflow_variables mars              6  \n",
       "12 workflow_variables mars              6  \n",
       "13 recipe             linear_reg        7  \n",
       "14 recipe             linear_reg        7  \n",
       "15 recipe             svm_poly          8  \n",
       "16 recipe             svm_poly          8  \n",
       "17 recipe             svm_rbf           9  \n",
       "18 recipe             svm_rbf           9  \n",
       "19 workflow_variables decision_tree    10  \n",
       "20 workflow_variables decision_tree    10  \n",
       "21 recipe             nearest_neighbor 11  \n",
       "22 recipe             nearest_neighbor 11  \n",
       "23 recipe             nearest_neighbor 12  \n",
       "24 recipe             nearest_neighbor 12  "
      ]
     },
     "metadata": {},
     "output_type": "display_data"
    }
   ],
   "source": [
    "rank_results(race_results, select_best = TRUE)"
   ]
  },
  {
   "cell_type": "code",
   "execution_count": 60,
   "id": "90308c71",
   "metadata": {},
   "outputs": [
    {
     "data": {
      "image/png": "[encoded data removed]",
      "text/plain": [
       "plot without title"
      ]
     },
     "metadata": {
      "image/png": {
       "height": 420,
       "width": 420
      }
     },
     "output_type": "display_data"
    }
   ],
   "source": [
    "autoplot(\n",
    "    race_results,\n",
    "    rank_metric = \"rmse\",  \n",
    "    metric = \"rmse\",       \n",
    "    select_best = TRUE    \n",
    ") + geom_text(aes(y = mean - 1/2, label = wflow_id), angle = 90, hjust = 1) +\n",
    "    lims(y = c(3.0, 9.5)) +\n",
    "    theme(legend.position = \"none\")"
   ]
  },
  {
   "cell_type": "markdown",
   "id": "2c244cb0",
   "metadata": {},
   "source": [
    "<br>\n",
    "\n",
    "### 결과 병합\n",
    "- 그리드 서치 결과와, Racing Method 결과 병합후, 모델별 성능 (RMSE) 시각화"
   ]
  },
  {
   "cell_type": "code",
   "execution_count": 61,
   "id": "49478e14",
   "metadata": {},
   "outputs": [],
   "source": [
    "library(ggrepel)"
   ]
  },
  {
   "cell_type": "code",
   "execution_count": 62,
   "id": "76d856d5",
   "metadata": {},
   "outputs": [],
   "source": [
    "matched_results <- rank_results(race_results, select_best = TRUE) %>% \n",
    "    select(wflow_id, .metric, race = mean, config_race = .config) %>% \n",
    "    inner_join(\n",
    "      rank_results(grid_results, select_best = TRUE) %>% \n",
    "         select(wflow_id, .metric, complete = mean, \n",
    "                config_complete = .config, model),\n",
    "      by = c(\"wflow_id\", \".metric\"),\n",
    "    ) %>%  \n",
    "    filter(.metric == \"rmse\")"
   ]
  },
  {
   "cell_type": "code",
   "execution_count": 80,
   "id": "86304585",
   "metadata": {},
   "outputs": [
    {
     "data": {
      "text/html": [
       "<table class=\"dataframe\">\n",
       "<caption>A tibble: 12 × 7</caption>\n",
       "<thead>\n",
       "\t<tr><th scope=col>wflow_id</th><th scope=col>.metric</th><th scope=col>race</th><th scope=col>config_race</th><th scope=col>complete</th><th scope=col>config_complete</th><th scope=col>model</th></tr>\n",
       "\t<tr><th scope=col>&lt;chr&gt;</th><th scope=col>&lt;chr&gt;</th><th scope=col>&lt;dbl&gt;</th><th scope=col>&lt;chr&gt;</th><th scope=col>&lt;dbl&gt;</th><th scope=col>&lt;chr&gt;</th><th scope=col>&lt;chr&gt;</th></tr>\n",
       "</thead>\n",
       "<tbody>\n",
       "\t<tr><td>boosting            </td><td>rmse</td><td>4.167018</td><td>Preprocessor1_Model16</td><td>4.248246</td><td>Preprocessor1_Model04</td><td>boost_tree      </td></tr>\n",
       "\t<tr><td>Cubist              </td><td>rmse</td><td>4.713767</td><td>Preprocessor1_Model25</td><td>4.714210</td><td>Preprocessor1_Model24</td><td>cubist_rules    </td></tr>\n",
       "\t<tr><td>RF                  </td><td>rmse</td><td>5.234120</td><td>Preprocessor1_Model11</td><td>5.298662</td><td>Preprocessor1_Model18</td><td>rand_forest     </td></tr>\n",
       "\t<tr><td>CART_bagged         </td><td>rmse</td><td>5.324428</td><td>Preprocessor1_Model1 </td><td>5.324428</td><td>Preprocessor1_Model1 </td><td>bag_tree        </td></tr>\n",
       "\t<tr><td>neural_network      </td><td>rmse</td><td>6.063423</td><td>Preprocessor1_Model17</td><td>5.346236</td><td>Preprocessor1_Model23</td><td>mlp             </td></tr>\n",
       "\t<tr><td>MARS                </td><td>rmse</td><td>6.280163</td><td>Preprocessor1_Model2 </td><td>6.280163</td><td>Preprocessor1_Model2 </td><td>mars            </td></tr>\n",
       "\t<tr><td>full_quad_linear_reg</td><td>rmse</td><td>6.354136</td><td>Preprocessor1_Model25</td><td>6.258668</td><td>Preprocessor1_Model16</td><td>linear_reg      </td></tr>\n",
       "\t<tr><td>SVM_poly            </td><td>rmse</td><td>6.946846</td><td>Preprocessor1_Model18</td><td>6.911737</td><td>Preprocessor1_Model18</td><td>svm_poly        </td></tr>\n",
       "\t<tr><td>SVM_radial          </td><td>rmse</td><td>7.100144</td><td>Preprocessor1_Model23</td><td>6.036471</td><td>Preprocessor1_Model01</td><td>svm_rbf         </td></tr>\n",
       "\t<tr><td>CART                </td><td>rmse</td><td>7.150351</td><td>Preprocessor1_Model05</td><td>7.156639</td><td>Preprocessor1_Model19</td><td>decision_tree   </td></tr>\n",
       "\t<tr><td>full_quad_KNN       </td><td>rmse</td><td>8.123550</td><td>Preprocessor1_Model16</td><td>8.230413</td><td>Preprocessor1_Model18</td><td>nearest_neighbor</td></tr>\n",
       "\t<tr><td>KNN                 </td><td>rmse</td><td>8.894735</td><td>Preprocessor1_Model16</td><td>9.065926</td><td>Preprocessor1_Model16</td><td>nearest_neighbor</td></tr>\n",
       "</tbody>\n",
       "</table>\n"
      ],
      "text/latex": [
       "A tibble: 12 × 7\n",
       "\\begin{tabular}{lllllll}\n",
       " wflow\\_id & .metric & race & config\\_race & complete & config\\_complete & model\\\\\n",
       " <chr> & <chr> & <dbl> & <chr> & <dbl> & <chr> & <chr>\\\\\n",
       "\\hline\n",
       "\t boosting             & rmse & 4.167018 & Preprocessor1\\_Model16 & 4.248246 & Preprocessor1\\_Model04 & boost\\_tree      \\\\\n",
       "\t Cubist               & rmse & 4.713767 & Preprocessor1\\_Model25 & 4.714210 & Preprocessor1\\_Model24 & cubist\\_rules    \\\\\n",
       "\t RF                   & rmse & 5.234120 & Preprocessor1\\_Model11 & 5.298662 & Preprocessor1\\_Model18 & rand\\_forest     \\\\\n",
       "\t CART\\_bagged          & rmse & 5.324428 & Preprocessor1\\_Model1  & 5.324428 & Preprocessor1\\_Model1  & bag\\_tree        \\\\\n",
       "\t neural\\_network       & rmse & 6.063423 & Preprocessor1\\_Model17 & 5.346236 & Preprocessor1\\_Model23 & mlp             \\\\\n",
       "\t MARS                 & rmse & 6.280163 & Preprocessor1\\_Model2  & 6.280163 & Preprocessor1\\_Model2  & mars            \\\\\n",
       "\t full\\_quad\\_linear\\_reg & rmse & 6.354136 & Preprocessor1\\_Model25 & 6.258668 & Preprocessor1\\_Model16 & linear\\_reg      \\\\\n",
       "\t SVM\\_poly             & rmse & 6.946846 & Preprocessor1\\_Model18 & 6.911737 & Preprocessor1\\_Model18 & svm\\_poly        \\\\\n",
       "\t SVM\\_radial           & rmse & 7.100144 & Preprocessor1\\_Model23 & 6.036471 & Preprocessor1\\_Model01 & svm\\_rbf         \\\\\n",
       "\t CART                 & rmse & 7.150351 & Preprocessor1\\_Model05 & 7.156639 & Preprocessor1\\_Model19 & decision\\_tree   \\\\\n",
       "\t full\\_quad\\_KNN        & rmse & 8.123550 & Preprocessor1\\_Model16 & 8.230413 & Preprocessor1\\_Model18 & nearest\\_neighbor\\\\\n",
       "\t KNN                  & rmse & 8.894735 & Preprocessor1\\_Model16 & 9.065926 & Preprocessor1\\_Model16 & nearest\\_neighbor\\\\\n",
       "\\end{tabular}\n"
      ],
      "text/markdown": [
       "\n",
       "A tibble: 12 × 7\n",
       "\n",
       "| wflow_id &lt;chr&gt; | .metric &lt;chr&gt; | race &lt;dbl&gt; | config_race &lt;chr&gt; | complete &lt;dbl&gt; | config_complete &lt;chr&gt; | model &lt;chr&gt; |\n",
       "|---|---|---|---|---|---|---|\n",
       "| boosting             | rmse | 4.167018 | Preprocessor1_Model16 | 4.248246 | Preprocessor1_Model04 | boost_tree       |\n",
       "| Cubist               | rmse | 4.713767 | Preprocessor1_Model25 | 4.714210 | Preprocessor1_Model24 | cubist_rules     |\n",
       "| RF                   | rmse | 5.234120 | Preprocessor1_Model11 | 5.298662 | Preprocessor1_Model18 | rand_forest      |\n",
       "| CART_bagged          | rmse | 5.324428 | Preprocessor1_Model1  | 5.324428 | Preprocessor1_Model1  | bag_tree         |\n",
       "| neural_network       | rmse | 6.063423 | Preprocessor1_Model17 | 5.346236 | Preprocessor1_Model23 | mlp              |\n",
       "| MARS                 | rmse | 6.280163 | Preprocessor1_Model2  | 6.280163 | Preprocessor1_Model2  | mars             |\n",
       "| full_quad_linear_reg | rmse | 6.354136 | Preprocessor1_Model25 | 6.258668 | Preprocessor1_Model16 | linear_reg       |\n",
       "| SVM_poly             | rmse | 6.946846 | Preprocessor1_Model18 | 6.911737 | Preprocessor1_Model18 | svm_poly         |\n",
       "| SVM_radial           | rmse | 7.100144 | Preprocessor1_Model23 | 6.036471 | Preprocessor1_Model01 | svm_rbf          |\n",
       "| CART                 | rmse | 7.150351 | Preprocessor1_Model05 | 7.156639 | Preprocessor1_Model19 | decision_tree    |\n",
       "| full_quad_KNN        | rmse | 8.123550 | Preprocessor1_Model16 | 8.230413 | Preprocessor1_Model18 | nearest_neighbor |\n",
       "| KNN                  | rmse | 8.894735 | Preprocessor1_Model16 | 9.065926 | Preprocessor1_Model16 | nearest_neighbor |\n",
       "\n"
      ],
      "text/plain": [
       "   wflow_id             .metric race     config_race           complete\n",
       "1  boosting             rmse    4.167018 Preprocessor1_Model16 4.248246\n",
       "2  Cubist               rmse    4.713767 Preprocessor1_Model25 4.714210\n",
       "3  RF                   rmse    5.234120 Preprocessor1_Model11 5.298662\n",
       "4  CART_bagged          rmse    5.324428 Preprocessor1_Model1  5.324428\n",
       "5  neural_network       rmse    6.063423 Preprocessor1_Model17 5.346236\n",
       "6  MARS                 rmse    6.280163 Preprocessor1_Model2  6.280163\n",
       "7  full_quad_linear_reg rmse    6.354136 Preprocessor1_Model25 6.258668\n",
       "8  SVM_poly             rmse    6.946846 Preprocessor1_Model18 6.911737\n",
       "9  SVM_radial           rmse    7.100144 Preprocessor1_Model23 6.036471\n",
       "10 CART                 rmse    7.150351 Preprocessor1_Model05 7.156639\n",
       "11 full_quad_KNN        rmse    8.123550 Preprocessor1_Model16 8.230413\n",
       "12 KNN                  rmse    8.894735 Preprocessor1_Model16 9.065926\n",
       "   config_complete       model           \n",
       "1  Preprocessor1_Model04 boost_tree      \n",
       "2  Preprocessor1_Model24 cubist_rules    \n",
       "3  Preprocessor1_Model18 rand_forest     \n",
       "4  Preprocessor1_Model1  bag_tree        \n",
       "5  Preprocessor1_Model23 mlp             \n",
       "6  Preprocessor1_Model2  mars            \n",
       "7  Preprocessor1_Model16 linear_reg      \n",
       "8  Preprocessor1_Model18 svm_poly        \n",
       "9  Preprocessor1_Model01 svm_rbf         \n",
       "10 Preprocessor1_Model19 decision_tree   \n",
       "11 Preprocessor1_Model18 nearest_neighbor\n",
       "12 Preprocessor1_Model16 nearest_neighbor"
      ]
     },
     "metadata": {},
     "output_type": "display_data"
    }
   ],
   "source": [
    "matched_results"
   ]
  },
  {
   "cell_type": "code",
   "execution_count": 63,
   "id": "1d4bc15b",
   "metadata": {},
   "outputs": [
    {
     "data": {
      "image/png": "[encoded data removed]",
      "text/plain": [
       "plot without title"
      ]
     },
     "metadata": {
      "image/png": {
       "height": 420,
       "width": 420
      }
     },
     "output_type": "display_data"
    }
   ],
   "source": [
    "matched_results %>% \n",
    "    ggplot(aes(x = complete, y = race)) + \n",
    "    geom_abline(lty = 3) + \n",
    "    geom_point() + \n",
    "    geom_text_repel(aes(label = model)) +\n",
    "    coord_obs_pred() + \n",
    "    labs(x = \"Complete Grid RMSE\", y = \"Racing RMSE\") "
   ]
  }
 ],
 "metadata": {
  "kernelspec": {
   "display_name": "R-4.3.2",
   "language": "R",
   "name": "ir"
  },
  "language_info": {
   "codemirror_mode": "r",
   "file_extension": ".r",
   "mimetype": "text/x-r-source",
   "name": "R",
   "pygments_lexer": "r",
   "version": "4.3.2"
  }
 },
 "nbformat": 4,
 "nbformat_minor": 5
}
