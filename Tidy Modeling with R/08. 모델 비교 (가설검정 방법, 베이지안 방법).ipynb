{
 "cells": [
  {
   "cell_type": "markdown",
   "id": "26bebbdc",
   "metadata": {},
   "source": [
    "# 08. 리샘플링을 통한 모델 비교\n",
    "- 두 개 이상의 모델을 만든 후 다음 단계는 이를 비교하여 어떤 모델이 가장 좋은지 이해하는 것\n",
    "- 어떤 경우에는 동일한 모델이 다른 기능이나 전처리 방법을 사용하여 평가될 수 있는 모델 내에서 비교가 수행될 수 있으며, 또는 같은 모델 간 비교가 일반적인 시나리오입니다.\n",
    "\n",
    "- 두 경우 모두 결과는 각 모델에 대해 리샘플링된 요약 통계량의(예: RMSE, 정확도 등) 모음\n",
    "\n",
    "<br>\n",
    "\n"
   ]
  },
  {
   "cell_type": "markdown",
   "id": "92137b94",
   "metadata": {},
   "source": [
    "## 08.01 워크플로를 사용하여 여러 모델 생성\n",
    "- 전처리 단계를 점진적으로 추가하는 세 가지 선형 모델 생성\n",
    "    - 추가 항이 모델 결과를 향상하는지 여부를 테스트"
   ]
  },
  {
   "cell_type": "code",
   "execution_count": 6,
   "id": "a2daf589",
   "metadata": {},
   "outputs": [],
   "source": [
    "library(tidymodels)\n",
    "tidymodels_prefer()"
   ]
  },
  {
   "cell_type": "code",
   "execution_count": 7,
   "id": "62154dc6",
   "metadata": {},
   "outputs": [],
   "source": [
    "data(ames)\n",
    "ames <- mutate(ames, Sale_Price = log10(Sale_Price))\n",
    "\n",
    "set.seed(502)\n",
    "ames_split <- initial_split(ames, prop = 0.80, strata = Sale_Price)\n",
    "ames_train <- training(ames_split)\n",
    "ames_test  <-  testing(ames_split)"
   ]
  },
  {
   "cell_type": "markdown",
   "id": "93519971",
   "metadata": {},
   "source": [
    "- 일반 다항회귀"
   ]
  },
  {
   "cell_type": "code",
   "execution_count": 8,
   "id": "60120b38",
   "metadata": {},
   "outputs": [],
   "source": [
    "basic_rec <- recipe(Sale_Price ~ Neighborhood + Gr_Liv_Area + Year_Built + Bldg_Type + Latitude + Longitude, data = ames_train) %>%\n",
    "    step_log(Gr_Liv_Area, base = 10) %>% \n",
    "    step_other(Neighborhood, threshold = 0.01) %>% \n",
    "    step_dummy(all_nominal_predictors())"
   ]
  },
  {
   "cell_type": "markdown",
   "id": "d45c7c94",
   "metadata": {},
   "source": [
    "- 상호작용항 추가"
   ]
  },
  {
   "cell_type": "code",
   "execution_count": 9,
   "id": "7fdfed46",
   "metadata": {},
   "outputs": [],
   "source": [
    "interaction_rec <- basic_rec %>% \n",
    "    step_interact( ~ Gr_Liv_Area:starts_with(\"Bldg_Type_\") ) "
   ]
  },
  {
   "cell_type": "markdown",
   "id": "9a73c715",
   "metadata": {},
   "source": [
    "- 스플라인항 추가"
   ]
  },
  {
   "cell_type": "code",
   "execution_count": 10,
   "id": "ac2fe990",
   "metadata": {},
   "outputs": [],
   "source": [
    "spline_rec <- interaction_rec %>% \n",
    "    step_ns(Latitude, Longitude, deg_free = 50)"
   ]
  },
  {
   "cell_type": "markdown",
   "id": "efb52796",
   "metadata": {},
   "source": [
    "<br>\n",
    "\n",
    "#### 워크플로셋 생성"
   ]
  },
  {
   "cell_type": "code",
   "execution_count": 31,
   "id": "9ff23110",
   "metadata": {},
   "outputs": [],
   "source": [
    "preproc <- list(basic = basic_rec,\n",
    "                interact = interaction_rec,\n",
    "                splines = spline_rec)"
   ]
  },
  {
   "cell_type": "markdown",
   "id": "424e8e77",
   "metadata": {},
   "source": [
    "- 모든 모델에 대하여 선형회귀 워크플로 생성"
   ]
  },
  {
   "cell_type": "code",
   "execution_count": 32,
   "id": "a564c138",
   "metadata": {
    "scrolled": false
   },
   "outputs": [
    {
     "name": "stdout",
     "output_type": "stream",
     "text": [
      "\u001b[90m# A workflow set/tibble: 3 × 4\u001b[39m\n",
      "  wflow_id    info             option    result    \n",
      "  \u001b[3m\u001b[90m<chr>\u001b[39m\u001b[23m       \u001b[3m\u001b[90m<list>\u001b[39m\u001b[23m           \u001b[3m\u001b[90m<list>\u001b[39m\u001b[23m    \u001b[3m\u001b[90m<list>\u001b[39m\u001b[23m    \n",
      "\u001b[90m1\u001b[39m basic_lm    \u001b[90m<tibble [1 × 4]>\u001b[39m \u001b[90m<opts[0]>\u001b[39m \u001b[90m<list [0]>\u001b[39m\n",
      "\u001b[90m2\u001b[39m interact_lm \u001b[90m<tibble [1 × 4]>\u001b[39m \u001b[90m<opts[0]>\u001b[39m \u001b[90m<list [0]>\u001b[39m\n",
      "\u001b[90m3\u001b[39m splines_lm  \u001b[90m<tibble [1 × 4]>\u001b[39m \u001b[90m<opts[0]>\u001b[39m \u001b[90m<list [0]>\u001b[39m\n"
     ]
    }
   ],
   "source": [
    "lm_models <- workflow_set(preproc, list(lm = linear_reg()), cross = FALSE)\n",
    "print(lm_models)"
   ]
  },
  {
   "cell_type": "markdown",
   "id": "9730b43a",
   "metadata": {},
   "source": [
    "<br>\n",
    "\n",
    "#### 각 모델을 차례로 리샘플링"
   ]
  },
  {
   "cell_type": "markdown",
   "id": "9c154ab8",
   "metadata": {},
   "source": [
    "- 10-fold"
   ]
  },
  {
   "cell_type": "code",
   "execution_count": 33,
   "id": "6dbf1816",
   "metadata": {},
   "outputs": [],
   "source": [
    "set.seed(1001)\n",
    "ames_folds <- vfold_cv(ames_train, v = 10)"
   ]
  },
  {
   "cell_type": "markdown",
   "id": "3bd30864",
   "metadata": {},
   "source": [
    "- 리샘플링 옵션 설정"
   ]
  },
  {
   "cell_type": "code",
   "execution_count": 34,
   "id": "a904f3de",
   "metadata": {},
   "outputs": [],
   "source": [
    "keep_pred <- control_resamples(save_pred = T, save_workflow = T)"
   ]
  },
  {
   "cell_type": "markdown",
   "id": "16363615",
   "metadata": {},
   "source": [
    "- **`purrr::workflow_map()`을 통하여, `fit_resamples()`함수를 모든 모델에 일괄 적용**"
   ]
  },
  {
   "cell_type": "code",
   "execution_count": 35,
   "id": "a3923b43",
   "metadata": {},
   "outputs": [
    {
     "name": "stderr",
     "output_type": "stream",
     "text": [
      "\u001b[34mi\u001b[39m \u001b[30m1 of 3 resampling: basic_lm\u001b[39m\n",
      "\n",
      "\u001b[32m✔\u001b[39m \u001b[30m1 of 3 resampling: basic_lm\u001b[39m\u001b[30m (581ms)\u001b[39m\n",
      "\n",
      "\u001b[34mi\u001b[39m \u001b[30m2 of 3 resampling: interact_lm\u001b[39m\n",
      "\n",
      "\u001b[32m✔\u001b[39m \u001b[30m2 of 3 resampling: interact_lm\u001b[39m\u001b[30m (701ms)\u001b[39m\n",
      "\n",
      "\u001b[34mi\u001b[39m \u001b[30m3 of 3 resampling: splines_lm\u001b[39m\n",
      "\n",
      "\u001b[32m✔\u001b[39m \u001b[30m3 of 3 resampling: splines_lm\u001b[39m\u001b[30m (1.3s)\u001b[39m\n",
      "\n"
     ]
    }
   ],
   "source": [
    "lm_models <- lm_models %>% \n",
    "    workflow_map(\"fit_resamples\", \n",
    "                seed = 1101, verbose = TRUE,\n",
    "                resamples = ames_folds, control = keep_pred)"
   ]
  },
  {
   "cell_type": "code",
   "execution_count": 36,
   "id": "7891e3e8",
   "metadata": {},
   "outputs": [
    {
     "name": "stdout",
     "output_type": "stream",
     "text": [
      "\u001b[90m# A workflow set/tibble: 3 × 4\u001b[39m\n",
      "  wflow_id    info             option    result   \n",
      "  \u001b[3m\u001b[90m<chr>\u001b[39m\u001b[23m       \u001b[3m\u001b[90m<list>\u001b[39m\u001b[23m           \u001b[3m\u001b[90m<list>\u001b[39m\u001b[23m    \u001b[3m\u001b[90m<list>\u001b[39m\u001b[23m   \n",
      "\u001b[90m1\u001b[39m basic_lm    \u001b[90m<tibble [1 × 4]>\u001b[39m \u001b[90m<opts[2]>\u001b[39m \u001b[90m<rsmp[+]>\u001b[39m\n",
      "\u001b[90m2\u001b[39m interact_lm \u001b[90m<tibble [1 × 4]>\u001b[39m \u001b[90m<opts[2]>\u001b[39m \u001b[90m<rsmp[+]>\u001b[39m\n",
      "\u001b[90m3\u001b[39m splines_lm  \u001b[90m<tibble [1 × 4]>\u001b[39m \u001b[90m<opts[2]>\u001b[39m \u001b[90m<rsmp[+]>\u001b[39m\n"
     ]
    }
   ],
   "source": [
    "print(lm_models)"
   ]
  },
  {
   "cell_type": "markdown",
   "id": "fee489b1",
   "metadata": {},
   "source": [
    "<br>\n",
    "\n",
    "#### 모델별 성능 확인"
   ]
  },
  {
   "cell_type": "code",
   "execution_count": 38,
   "id": "95c0cb93",
   "metadata": {},
   "outputs": [
    {
     "data": {
      "text/html": [
       "<table class=\"dataframe\">\n",
       "<caption>A tibble: 3 × 9</caption>\n",
       "<thead>\n",
       "\t<tr><th scope=col>wflow_id</th><th scope=col>.config</th><th scope=col>preproc</th><th scope=col>model</th><th scope=col>.metric</th><th scope=col>.estimator</th><th scope=col>mean</th><th scope=col>n</th><th scope=col>std_err</th></tr>\n",
       "\t<tr><th scope=col>&lt;chr&gt;</th><th scope=col>&lt;chr&gt;</th><th scope=col>&lt;chr&gt;</th><th scope=col>&lt;chr&gt;</th><th scope=col>&lt;chr&gt;</th><th scope=col>&lt;chr&gt;</th><th scope=col>&lt;dbl&gt;</th><th scope=col>&lt;int&gt;</th><th scope=col>&lt;dbl&gt;</th></tr>\n",
       "</thead>\n",
       "<tbody>\n",
       "\t<tr><td>basic_lm   </td><td>Preprocessor1_Model1</td><td>recipe</td><td>linear_reg</td><td>rmse</td><td>standard</td><td>0.08032984</td><td>10</td><td>0.002641246</td></tr>\n",
       "\t<tr><td>interact_lm</td><td>Preprocessor1_Model1</td><td>recipe</td><td>linear_reg</td><td>rmse</td><td>standard</td><td>0.07990482</td><td>10</td><td>0.002724045</td></tr>\n",
       "\t<tr><td>splines_lm </td><td>Preprocessor1_Model1</td><td>recipe</td><td>linear_reg</td><td>rmse</td><td>standard</td><td>0.07848118</td><td>10</td><td>0.002824448</td></tr>\n",
       "</tbody>\n",
       "</table>\n"
      ],
      "text/latex": [
       "A tibble: 3 × 9\n",
       "\\begin{tabular}{lllllllll}\n",
       " wflow\\_id & .config & preproc & model & .metric & .estimator & mean & n & std\\_err\\\\\n",
       " <chr> & <chr> & <chr> & <chr> & <chr> & <chr> & <dbl> & <int> & <dbl>\\\\\n",
       "\\hline\n",
       "\t basic\\_lm    & Preprocessor1\\_Model1 & recipe & linear\\_reg & rmse & standard & 0.08032984 & 10 & 0.002641246\\\\\n",
       "\t interact\\_lm & Preprocessor1\\_Model1 & recipe & linear\\_reg & rmse & standard & 0.07990482 & 10 & 0.002724045\\\\\n",
       "\t splines\\_lm  & Preprocessor1\\_Model1 & recipe & linear\\_reg & rmse & standard & 0.07848118 & 10 & 0.002824448\\\\\n",
       "\\end{tabular}\n"
      ],
      "text/markdown": [
       "\n",
       "A tibble: 3 × 9\n",
       "\n",
       "| wflow_id &lt;chr&gt; | .config &lt;chr&gt; | preproc &lt;chr&gt; | model &lt;chr&gt; | .metric &lt;chr&gt; | .estimator &lt;chr&gt; | mean &lt;dbl&gt; | n &lt;int&gt; | std_err &lt;dbl&gt; |\n",
       "|---|---|---|---|---|---|---|---|---|\n",
       "| basic_lm    | Preprocessor1_Model1 | recipe | linear_reg | rmse | standard | 0.08032984 | 10 | 0.002641246 |\n",
       "| interact_lm | Preprocessor1_Model1 | recipe | linear_reg | rmse | standard | 0.07990482 | 10 | 0.002724045 |\n",
       "| splines_lm  | Preprocessor1_Model1 | recipe | linear_reg | rmse | standard | 0.07848118 | 10 | 0.002824448 |\n",
       "\n"
      ],
      "text/plain": [
       "  wflow_id    .config              preproc model      .metric .estimator\n",
       "1 basic_lm    Preprocessor1_Model1 recipe  linear_reg rmse    standard  \n",
       "2 interact_lm Preprocessor1_Model1 recipe  linear_reg rmse    standard  \n",
       "3 splines_lm  Preprocessor1_Model1 recipe  linear_reg rmse    standard  \n",
       "  mean       n  std_err    \n",
       "1 0.08032984 10 0.002641246\n",
       "2 0.07990482 10 0.002724045\n",
       "3 0.07848118 10 0.002824448"
      ]
     },
     "metadata": {},
     "output_type": "display_data"
    }
   ],
   "source": [
    "collect_metrics(lm_models) %>% filter(.metric == \"rmse\")"
   ]
  },
  {
   "cell_type": "markdown",
   "id": "f6ffaf9c",
   "metadata": {},
   "source": [
    "<br>\n",
    "\n",
    "#### 랜덤포레스트 워크플로 생성후 워크플로셋에 추가"
   ]
  },
  {
   "cell_type": "code",
   "execution_count": 39,
   "id": "b20489c2",
   "metadata": {},
   "outputs": [],
   "source": [
    "rf_model <- rand_forest(trees = 1000) %>% \n",
    "    set_engine(\"ranger\") %>% \n",
    "    set_mode(\"regression\")"
   ]
  },
  {
   "cell_type": "code",
   "execution_count": 40,
   "id": "959bcf8e",
   "metadata": {},
   "outputs": [],
   "source": [
    "rf_wflow <- workflow() %>% \n",
    "    add_formula(\n",
    "    Sale_Price ~ Neighborhood + Gr_Liv_Area + Year_Built + Bldg_Type + Latitude + Longitude) %>% \n",
    "    add_model(rf_model)"
   ]
  },
  {
   "cell_type": "code",
   "execution_count": 41,
   "id": "1e3e3dcf",
   "metadata": {},
   "outputs": [],
   "source": [
    "rf_res <- rf_wflow %>%\n",
    "    fit_resamples(resamples = ames_folds, control = keep_pred)"
   ]
  },
  {
   "cell_type": "code",
   "execution_count": 42,
   "id": "5758d19f",
   "metadata": {},
   "outputs": [
    {
     "name": "stdout",
     "output_type": "stream",
     "text": [
      "\u001b[90m# A workflow set/tibble: 4 × 4\u001b[39m\n",
      "  wflow_id      info             option    result   \n",
      "  \u001b[3m\u001b[90m<chr>\u001b[39m\u001b[23m         \u001b[3m\u001b[90m<list>\u001b[39m\u001b[23m           \u001b[3m\u001b[90m<list>\u001b[39m\u001b[23m    \u001b[3m\u001b[90m<list>\u001b[39m\u001b[23m   \n",
      "\u001b[90m1\u001b[39m random_forest \u001b[90m<tibble [1 × 4]>\u001b[39m \u001b[90m<opts[0]>\u001b[39m \u001b[90m<rsmp[+]>\u001b[39m\n",
      "\u001b[90m2\u001b[39m basic_lm      \u001b[90m<tibble [1 × 4]>\u001b[39m \u001b[90m<opts[2]>\u001b[39m \u001b[90m<rsmp[+]>\u001b[39m\n",
      "\u001b[90m3\u001b[39m interact_lm   \u001b[90m<tibble [1 × 4]>\u001b[39m \u001b[90m<opts[2]>\u001b[39m \u001b[90m<rsmp[+]>\u001b[39m\n",
      "\u001b[90m4\u001b[39m splines_lm    \u001b[90m<tibble [1 × 4]>\u001b[39m \u001b[90m<opts[2]>\u001b[39m \u001b[90m<rsmp[+]>\u001b[39m\n"
     ]
    }
   ],
   "source": [
    "four_models <- as_workflow_set(random_forest = rf_res) %>% \n",
    "    bind_rows(lm_models)\n",
    "\n",
    "print(four_models)"
   ]
  },
  {
   "cell_type": "markdown",
   "id": "b5b2f5b3",
   "metadata": {},
   "source": [
    "<br>\n",
    "\n",
    "#### 모델 비교 - 각 모델에 대한 $R^2$의 신뢰 구간\n",
    "- 각 모델별 모든 fold의 $R^2$의 범위 확인\n",
    "    \n",
    "    $\\rightarrow$ 랜덤 포레스트 모델이 가장 높은 성능,\n",
    "    \n",
    "    선형회귀 모델에서는 스플라인 항이 추가된 모델이 가장 높은 성능"
   ]
  },
  {
   "cell_type": "code",
   "execution_count": 43,
   "id": "df3039bc",
   "metadata": {},
   "outputs": [],
   "source": [
    "library(ggrepel)"
   ]
  },
  {
   "cell_type": "code",
   "execution_count": 44,
   "id": "0f07f3d1",
   "metadata": {},
   "outputs": [
    {
     "data": {
      "image/png": "[encoded data removed]",
      "text/plain": [
       "plot without title"
      ]
     },
     "metadata": {
      "image/png": {
       "height": 420,
       "width": 420
      }
     },
     "output_type": "display_data"
    }
   ],
   "source": [
    "autoplot(four_models, metric = \"rsq\") +\n",
    "    geom_text_repel(aes(label = wflow_id), nudge_x = 1/8, nudge_y = 1/100) +\n",
    "    theme(legend.position = \"none\")"
   ]
  },
  {
   "cell_type": "markdown",
   "id": "1c8d976d",
   "metadata": {},
   "source": [
    "<br>\n",
    "\n",
    "## 08.02. 리샘플링 성능 비교\n",
    "- 모델 간 비교를 수행하기 전, 리샘플내 상관 관계를 고려하는 것이 중요\n",
    "\n",
    "- **모든 모델 전반에 걸쳐 성능이 낮은 경향이 있는 일부 리샘플과, 높은 경향이 있는 리샘플이 존재**\n",
    "    \n",
    "    $\\rightarrow$ **리샘플-변동 구성요소 (resample-to-resample component of variation.)**"
   ]
  },
  {
   "cell_type": "markdown",
   "id": "1d52957b",
   "metadata": {},
   "source": [
    "<br>\n",
    "\n",
    "#### 선형회귀 모델과 랜덤포레스트 모델에 대한 개별 리샘플링 통계량 확인"
   ]
  },
  {
   "cell_type": "code",
   "execution_count": 47,
   "id": "e5606fdf",
   "metadata": {},
   "outputs": [],
   "source": [
    "rsq_indiv_estimates <- collect_metrics(four_models, summarize = FALSE) %>% \n",
    "    filter(.metric == \"rsq\")"
   ]
  },
  {
   "cell_type": "markdown",
   "id": "401a57d7",
   "metadata": {},
   "source": [
    "- 각 모델-fold 별 $R^2$ (= 각 모델의 실제값과 예측값 간 상관관계)"
   ]
  },
  {
   "cell_type": "code",
   "execution_count": 48,
   "id": "efe1c286",
   "metadata": {},
   "outputs": [],
   "source": [
    "rsq_wider <- rsq_indiv_estimates %>%\n",
    "    select(wflow_id, .estimate, id) %>%\n",
    "    pivot_wider(id_cols = \"id\", names_from = \"wflow_id\", values_from = \".estimate\")"
   ]
  },
  {
   "cell_type": "code",
   "execution_count": 49,
   "id": "dfdbd238",
   "metadata": {},
   "outputs": [
    {
     "data": {
      "text/html": [
       "<table class=\"dataframe\">\n",
       "<caption>A tibble: 10 × 5</caption>\n",
       "<thead>\n",
       "\t<tr><th scope=col>id</th><th scope=col>random_forest</th><th scope=col>basic_lm</th><th scope=col>interact_lm</th><th scope=col>splines_lm</th></tr>\n",
       "\t<tr><th scope=col>&lt;chr&gt;</th><th scope=col>&lt;dbl&gt;</th><th scope=col>&lt;dbl&gt;</th><th scope=col>&lt;dbl&gt;</th><th scope=col>&lt;dbl&gt;</th></tr>\n",
       "</thead>\n",
       "<tbody>\n",
       "\t<tr><td>Fold01</td><td>0.8613243</td><td>0.8108089</td><td>0.8133956</td><td>0.8217386</td></tr>\n",
       "\t<tr><td>Fold02</td><td>0.8629144</td><td>0.8044946</td><td>0.8102542</td><td>0.8165407</td></tr>\n",
       "\t<tr><td>Fold03</td><td>0.8800802</td><td>0.8435443</td><td>0.8505363</td><td>0.8584183</td></tr>\n",
       "\t<tr><td>Fold04</td><td>0.8206735</td><td>0.7777345</td><td>0.7820878</td><td>0.7818266</td></tr>\n",
       "\t<tr><td>Fold05</td><td>0.8521175</td><td>0.8246588</td><td>0.8228630</td><td>0.8329950</td></tr>\n",
       "\t<tr><td>Fold06</td><td>0.8218848</td><td>0.7873930</td><td>0.7814756</td><td>0.8014066</td></tr>\n",
       "\t<tr><td>Fold07</td><td>0.8506892</td><td>0.7938588</td><td>0.7990242</td><td>0.8017741</td></tr>\n",
       "\t<tr><td>Fold08</td><td>0.7852732</td><td>0.7782360</td><td>0.7841606</td><td>0.7857750</td></tr>\n",
       "\t<tr><td>Fold09</td><td>0.7881615</td><td>0.7438445</td><td>0.7424806</td><td>0.7502031</td></tr>\n",
       "\t<tr><td>Fold10</td><td>0.7964539</td><td>0.7409722</td><td>0.7443164</td><td>0.7461810</td></tr>\n",
       "</tbody>\n",
       "</table>\n"
      ],
      "text/latex": [
       "A tibble: 10 × 5\n",
       "\\begin{tabular}{lllll}\n",
       " id & random\\_forest & basic\\_lm & interact\\_lm & splines\\_lm\\\\\n",
       " <chr> & <dbl> & <dbl> & <dbl> & <dbl>\\\\\n",
       "\\hline\n",
       "\t Fold01 & 0.8613243 & 0.8108089 & 0.8133956 & 0.8217386\\\\\n",
       "\t Fold02 & 0.8629144 & 0.8044946 & 0.8102542 & 0.8165407\\\\\n",
       "\t Fold03 & 0.8800802 & 0.8435443 & 0.8505363 & 0.8584183\\\\\n",
       "\t Fold04 & 0.8206735 & 0.7777345 & 0.7820878 & 0.7818266\\\\\n",
       "\t Fold05 & 0.8521175 & 0.8246588 & 0.8228630 & 0.8329950\\\\\n",
       "\t Fold06 & 0.8218848 & 0.7873930 & 0.7814756 & 0.8014066\\\\\n",
       "\t Fold07 & 0.8506892 & 0.7938588 & 0.7990242 & 0.8017741\\\\\n",
       "\t Fold08 & 0.7852732 & 0.7782360 & 0.7841606 & 0.7857750\\\\\n",
       "\t Fold09 & 0.7881615 & 0.7438445 & 0.7424806 & 0.7502031\\\\\n",
       "\t Fold10 & 0.7964539 & 0.7409722 & 0.7443164 & 0.7461810\\\\\n",
       "\\end{tabular}\n"
      ],
      "text/markdown": [
       "\n",
       "A tibble: 10 × 5\n",
       "\n",
       "| id &lt;chr&gt; | random_forest &lt;dbl&gt; | basic_lm &lt;dbl&gt; | interact_lm &lt;dbl&gt; | splines_lm &lt;dbl&gt; |\n",
       "|---|---|---|---|---|\n",
       "| Fold01 | 0.8613243 | 0.8108089 | 0.8133956 | 0.8217386 |\n",
       "| Fold02 | 0.8629144 | 0.8044946 | 0.8102542 | 0.8165407 |\n",
       "| Fold03 | 0.8800802 | 0.8435443 | 0.8505363 | 0.8584183 |\n",
       "| Fold04 | 0.8206735 | 0.7777345 | 0.7820878 | 0.7818266 |\n",
       "| Fold05 | 0.8521175 | 0.8246588 | 0.8228630 | 0.8329950 |\n",
       "| Fold06 | 0.8218848 | 0.7873930 | 0.7814756 | 0.8014066 |\n",
       "| Fold07 | 0.8506892 | 0.7938588 | 0.7990242 | 0.8017741 |\n",
       "| Fold08 | 0.7852732 | 0.7782360 | 0.7841606 | 0.7857750 |\n",
       "| Fold09 | 0.7881615 | 0.7438445 | 0.7424806 | 0.7502031 |\n",
       "| Fold10 | 0.7964539 | 0.7409722 | 0.7443164 | 0.7461810 |\n",
       "\n"
      ],
      "text/plain": [
       "   id     random_forest basic_lm  interact_lm splines_lm\n",
       "1  Fold01 0.8613243     0.8108089 0.8133956   0.8217386 \n",
       "2  Fold02 0.8629144     0.8044946 0.8102542   0.8165407 \n",
       "3  Fold03 0.8800802     0.8435443 0.8505363   0.8584183 \n",
       "4  Fold04 0.8206735     0.7777345 0.7820878   0.7818266 \n",
       "5  Fold05 0.8521175     0.8246588 0.8228630   0.8329950 \n",
       "6  Fold06 0.8218848     0.7873930 0.7814756   0.8014066 \n",
       "7  Fold07 0.8506892     0.7938588 0.7990242   0.8017741 \n",
       "8  Fold08 0.7852732     0.7782360 0.7841606   0.7857750 \n",
       "9  Fold09 0.7881615     0.7438445 0.7424806   0.7502031 \n",
       "10 Fold10 0.7964539     0.7409722 0.7443164   0.7461810 "
      ]
     },
     "metadata": {},
     "output_type": "display_data"
    }
   ],
   "source": [
    "rsq_wider"
   ]
  },
  {
   "cell_type": "markdown",
   "id": "0516215e",
   "metadata": {},
   "source": [
    "<br>\n",
    "\n",
    "- **각 모델별 $R^2$의 상관관계 : 전반적으로 높은 상관관계**\n",
    "\n",
    "    $\\rightarrow$ **모델 전반에 걸쳐 리샘플 내 상관관계가 높다는 것을 의미**"
   ]
  },
  {
   "cell_type": "code",
   "execution_count": 50,
   "id": "e4caaa7a",
   "metadata": {},
   "outputs": [
    {
     "name": "stderr",
     "output_type": "stream",
     "text": [
      "Correlation computed with\n",
      "\u001b[36m•\u001b[39m Method: 'pearson'\n",
      "\u001b[36m•\u001b[39m Missing treated using: 'pairwise.complete.obs'\n"
     ]
    },
    {
     "data": {
      "text/html": [
       "<table class=\"dataframe\">\n",
       "<caption>A cor_df: 4 × 5</caption>\n",
       "<thead>\n",
       "\t<tr><th scope=col>term</th><th scope=col>random_forest</th><th scope=col>basic_lm</th><th scope=col>interact_lm</th><th scope=col>splines_lm</th></tr>\n",
       "\t<tr><th scope=col>&lt;chr&gt;</th><th scope=col>&lt;dbl&gt;</th><th scope=col>&lt;dbl&gt;</th><th scope=col>&lt;dbl&gt;</th><th scope=col>&lt;dbl&gt;</th></tr>\n",
       "</thead>\n",
       "<tbody>\n",
       "\t<tr><td>random_forest</td><td>       NA</td><td>0.8878132</td><td>0.8905391</td><td>0.8882616</td></tr>\n",
       "\t<tr><td>basic_lm     </td><td>0.8878132</td><td>       NA</td><td>0.9925417</td><td>0.9971345</td></tr>\n",
       "\t<tr><td>interact_lm  </td><td>0.8905391</td><td>0.9925417</td><td>       NA</td><td>0.9866937</td></tr>\n",
       "\t<tr><td>splines_lm   </td><td>0.8882616</td><td>0.9971345</td><td>0.9866937</td><td>       NA</td></tr>\n",
       "</tbody>\n",
       "</table>\n"
      ],
      "text/latex": [
       "A cor\\_df: 4 × 5\n",
       "\\begin{tabular}{lllll}\n",
       " term & random\\_forest & basic\\_lm & interact\\_lm & splines\\_lm\\\\\n",
       " <chr> & <dbl> & <dbl> & <dbl> & <dbl>\\\\\n",
       "\\hline\n",
       "\t random\\_forest &        NA & 0.8878132 & 0.8905391 & 0.8882616\\\\\n",
       "\t basic\\_lm      & 0.8878132 &        NA & 0.9925417 & 0.9971345\\\\\n",
       "\t interact\\_lm   & 0.8905391 & 0.9925417 &        NA & 0.9866937\\\\\n",
       "\t splines\\_lm    & 0.8882616 & 0.9971345 & 0.9866937 &        NA\\\\\n",
       "\\end{tabular}\n"
      ],
      "text/markdown": [
       "\n",
       "A cor_df: 4 × 5\n",
       "\n",
       "| term &lt;chr&gt; | random_forest &lt;dbl&gt; | basic_lm &lt;dbl&gt; | interact_lm &lt;dbl&gt; | splines_lm &lt;dbl&gt; |\n",
       "|---|---|---|---|---|\n",
       "| random_forest |        NA | 0.8878132 | 0.8905391 | 0.8882616 |\n",
       "| basic_lm      | 0.8878132 |        NA | 0.9925417 | 0.9971345 |\n",
       "| interact_lm   | 0.8905391 | 0.9925417 |        NA | 0.9866937 |\n",
       "| splines_lm    | 0.8882616 | 0.9971345 | 0.9866937 |        NA |\n",
       "\n"
      ],
      "text/plain": [
       "  term          random_forest basic_lm  interact_lm splines_lm\n",
       "1 random_forest        NA     0.8878132 0.8905391   0.8882616 \n",
       "2 basic_lm      0.8878132            NA 0.9925417   0.9971345 \n",
       "3 interact_lm   0.8905391     0.9925417        NA   0.9866937 \n",
       "4 splines_lm    0.8882616     0.9971345 0.9866937          NA "
      ]
     },
     "metadata": {},
     "output_type": "display_data"
    }
   ],
   "source": [
    "corrr::correlate(rsq_wider %>% select(-id))"
   ]
  },
  {
   "cell_type": "markdown",
   "id": "9638fc23",
   "metadata": {},
   "source": [
    "- **리샘플-변동 구성요소의 효과가 크지 않은 경우, 평행선은 존재하지 않음**"
   ]
  },
  {
   "cell_type": "code",
   "execution_count": 51,
   "id": "7bc7d629",
   "metadata": {},
   "outputs": [
    {
     "data": {
      "image/png": "[encoded data removed]",
      "text/plain": [
       "plot without title"
      ]
     },
     "metadata": {
      "image/png": {
       "height": 420,
       "width": 420
      }
     },
     "output_type": "display_data"
    }
   ],
   "source": [
    "rsq_indiv_estimates %>% \n",
    "    mutate(wflow_id = reorder(wflow_id, .estimate)) %>% \n",
    "    ggplot(aes(x = wflow_id, y = .estimate, group = id, color = id)) + \n",
    "    geom_line(alpha = .5, linewidth = 1.25) + \n",
    "    theme(legend.position = \"none\")"
   ]
  },
  {
   "cell_type": "markdown",
   "id": "96bfb537",
   "metadata": {},
   "source": [
    "- 상관관계에 대한 통계적 검정을 통해, 상관관계의 크기가 단순한 노이즈인지 여부를 확인\n",
    "    - 일반 다항회귀 모델과, 스플라인 회귀모델의 상관성은 유의한 것으로 판단\n",
    "    \n",
    "    - 상관관계의 추정치 및 신뢰구간은 리샘플 내 상관관계가 유의하다는 근거"
   ]
  },
  {
   "cell_type": "code",
   "execution_count": 56,
   "id": "97dd2598",
   "metadata": {},
   "outputs": [
    {
     "data": {
      "text/html": [
       "<table class=\"dataframe\">\n",
       "<caption>A tibble: 1 × 8</caption>\n",
       "<thead>\n",
       "\t<tr><th scope=col>estimate</th><th scope=col>statistic</th><th scope=col>p.value</th><th scope=col>parameter</th><th scope=col>conf.low</th><th scope=col>conf.high</th><th scope=col>method</th><th scope=col>alternative</th></tr>\n",
       "\t<tr><th scope=col>&lt;dbl&gt;</th><th scope=col>&lt;dbl&gt;</th><th scope=col>&lt;dbl&gt;</th><th scope=col>&lt;int&gt;</th><th scope=col>&lt;dbl&gt;</th><th scope=col>&lt;dbl&gt;</th><th scope=col>&lt;chr&gt;</th><th scope=col>&lt;chr&gt;</th></tr>\n",
       "</thead>\n",
       "<tbody>\n",
       "\t<tr><td>0.9971345</td><td>37.28141</td><td>2.939718e-10</td><td>8</td><td>0.9874529</td><td>0.999348</td><td>Pearson's product-moment correlation</td><td>two.sided</td></tr>\n",
       "</tbody>\n",
       "</table>\n"
      ],
      "text/latex": [
       "A tibble: 1 × 8\n",
       "\\begin{tabular}{llllllll}\n",
       " estimate & statistic & p.value & parameter & conf.low & conf.high & method & alternative\\\\\n",
       " <dbl> & <dbl> & <dbl> & <int> & <dbl> & <dbl> & <chr> & <chr>\\\\\n",
       "\\hline\n",
       "\t 0.9971345 & 37.28141 & 2.939718e-10 & 8 & 0.9874529 & 0.999348 & Pearson's product-moment correlation & two.sided\\\\\n",
       "\\end{tabular}\n"
      ],
      "text/markdown": [
       "\n",
       "A tibble: 1 × 8\n",
       "\n",
       "| estimate &lt;dbl&gt; | statistic &lt;dbl&gt; | p.value &lt;dbl&gt; | parameter &lt;int&gt; | conf.low &lt;dbl&gt; | conf.high &lt;dbl&gt; | method &lt;chr&gt; | alternative &lt;chr&gt; |\n",
       "|---|---|---|---|---|---|---|---|\n",
       "| 0.9971345 | 37.28141 | 2.939718e-10 | 8 | 0.9874529 | 0.999348 | Pearson's product-moment correlation | two.sided |\n",
       "\n"
      ],
      "text/plain": [
       "  estimate  statistic p.value      parameter conf.low  conf.high\n",
       "1 0.9971345 37.28141  2.939718e-10 8         0.9874529 0.999348 \n",
       "  method                               alternative\n",
       "1 Pearson's product-moment correlation two.sided  "
      ]
     },
     "metadata": {},
     "output_type": "display_data"
    }
   ],
   "source": [
    "rsq_wider %>%\n",
    "    with(cor.test(basic_lm, splines_lm)) %>%\n",
    "    tidy() "
   ]
  },
  {
   "cell_type": "markdown",
   "id": "4d33b24c",
   "metadata": {},
   "source": [
    "<br>\n",
    "\n",
    "#### 상관관계의 의미\n",
    "- 두 변수의 분산간 차이\n",
    "\n",
    "$$\\operatorname{Var}[X - Y] = \\operatorname{Var}[X] + \\operatorname{Var}[Y]  - 2 \\operatorname{Cov}[X, Y]$$\n",
    "\n",
    "- **위 식의 마지막 항인 두 항목 간의 공분산이 클 경우, 이 차이에 대한 통계적 검정은 두 모델의 차이를 비교하는 데 매우 효과적이지 않음**\n",
    "\n",
    "    $\\rightarrow$ **즉, 리샘플-변동 구성요소의 효과를 무시하면 모델 간 차이가 없는 쪽으로 비교 결과가 편향됨**"
   ]
  },
  {
   "cell_type": "markdown",
   "id": "ef5c2339",
   "metadata": {},
   "source": [
    "<br>\n",
    "\n",
    "#### 모델 비교\n",
    "- 모델 비교에 있어 중요한 요인은 성능과 주관성"
   ]
  },
  {
   "cell_type": "markdown",
   "id": "9573f9c1",
   "metadata": {},
   "source": [
    "<br>\n",
    "\n",
    "## 08.03. 가설 검정\n",
    "- 가설 검정을 통한 모델 간 비교 수행\n",
    "- 아래와 같은 선형회귀 모델을 가정\n",
    "\n",
    "$$y_{ij} = \\beta_0 + \\beta_1x_{i1} + \\ldots + \\beta_px_{ip} + \\epsilon_{ij}$$"
   ]
  },
  {
   "cell_type": "markdown",
   "id": "b3345c8e",
   "metadata": {},
   "source": [
    "- 위와 같은 다항회귀 모델 생성과, 그룹 간 비교를 위해 널리 사용되는 분산분석 (ANOVA)에서, 설명변수는 범주형 변수에 대한 가변수 \n",
    "- 분산분석과 $\\beta$를 통하여 두 개 이상의 범주가 서로 다른지 여부를 측정\n",
    "\n",
    "<br>\n",
    "\n",
    "#### ANOVA를 통한 모델 비교\n",
    "- 각 리샘플의 $R^2$가 ANOVA에서의 반응변수($y_{ij}$) 이라고 할 때, 각 모델은 ANOVA에서의 $x_i$라고 가정한다면,\n",
    "\n",
    "<table class=\"table\" style=\"width: auto !important; margin-left: auto; margin-right: auto;\">\n",
    "<caption>\n",
    "<span id=\"tab:model-anova-data\">\n",
    "</caption>\n",
    "<thead>\n",
    "<tr>\n",
    "<th style=\"text-align:right;\">\n",
    "Y = rsq\n",
    "</th>\n",
    "<th style=\"text-align:left;\">\n",
    "model\n",
    "</th>\n",
    "<th style=\"text-align:right;\">\n",
    "X1\n",
    "</th>\n",
    "<th style=\"text-align:right;\">\n",
    "X2\n",
    "</th>\n",
    "<th style=\"text-align:right;\">\n",
    "X3\n",
    "</th>\n",
    "<th style=\"text-align:left;\">\n",
    "id\n",
    "</th>\n",
    "</tr>\n",
    "</thead>\n",
    "<tbody>\n",
    "<tr>\n",
    "<td style=\"text-align:right;\">\n",
    "0.8108\n",
    "</td>\n",
    "<td style=\"text-align:left;\">\n",
    "basic_lm\n",
    "</td>\n",
    "<td style=\"text-align:right;\">\n",
    "0\n",
    "</td>\n",
    "<td style=\"text-align:right;\">\n",
    "0\n",
    "</td>\n",
    "<td style=\"text-align:right;\">\n",
    "0\n",
    "</td>\n",
    "<td style=\"text-align:left;\">\n",
    "Fold01\n",
    "</td>\n",
    "</tr>\n",
    "<tr>\n",
    "<td style=\"text-align:right;\">\n",
    "0.8134\n",
    "</td>\n",
    "<td style=\"text-align:left;\">\n",
    "interact_lm\n",
    "</td>\n",
    "<td style=\"text-align:right;\">\n",
    "1\n",
    "</td>\n",
    "<td style=\"text-align:right;\">\n",
    "0\n",
    "</td>\n",
    "<td style=\"text-align:right;\">\n",
    "0\n",
    "</td>\n",
    "<td style=\"text-align:left;\">\n",
    "Fold01\n",
    "</td>\n",
    "</tr>\n",
    "<tr>\n",
    "<td style=\"text-align:right;\">\n",
    "0.8615\n",
    "</td>\n",
    "<td style=\"text-align:left;\">\n",
    "random_forest\n",
    "</td>\n",
    "<td style=\"text-align:right;\">\n",
    "0\n",
    "</td>\n",
    "<td style=\"text-align:right;\">\n",
    "1\n",
    "</td>\n",
    "<td style=\"text-align:right;\">\n",
    "0\n",
    "</td>\n",
    "<td style=\"text-align:left;\">\n",
    "Fold01\n",
    "</td>\n",
    "</tr>\n",
    "<tr>\n",
    "<td style=\"text-align:right;\">\n",
    "0.8217\n",
    "</td>\n",
    "<td style=\"text-align:left;\">\n",
    "splines_lm\n",
    "</td>\n",
    "<td style=\"text-align:right;\">\n",
    "0\n",
    "</td>\n",
    "<td style=\"text-align:right;\">\n",
    "0\n",
    "</td>\n",
    "<td style=\"text-align:right;\">\n",
    "1\n",
    "</td>\n",
    "<td style=\"text-align:left;\">\n",
    "Fold01\n",
    "</td>\n",
    "</tr>\n",
    "<tr>\n",
    "<td style=\"text-align:right;\">\n",
    "0.8045\n",
    "</td>\n",
    "<td style=\"text-align:left;\">\n",
    "basic_lm\n",
    "</td>\n",
    "<td style=\"text-align:right;\">\n",
    "0\n",
    "</td>\n",
    "<td style=\"text-align:right;\">\n",
    "0\n",
    "</td>\n",
    "<td style=\"text-align:right;\">\n",
    "0\n",
    "</td>\n",
    "<td style=\"text-align:left;\">\n",
    "Fold02\n",
    "</td>\n",
    "</tr>\n",
    "<tr>\n",
    "<td style=\"text-align:right;\">\n",
    "0.8103\n",
    "</td>\n",
    "<td style=\"text-align:left;\">\n",
    "interact_lm\n",
    "</td>\n",
    "<td style=\"text-align:right;\">\n",
    "1\n",
    "</td>\n",
    "<td style=\"text-align:right;\">\n",
    "0\n",
    "</td>\n",
    "<td style=\"text-align:right;\">\n",
    "0\n",
    "</td>\n",
    "<td style=\"text-align:left;\">\n",
    "Fold02\n",
    "</td>\n",
    "</tr>\n",
    "</tbody>\n",
    "</table>"
   ]
  },
  {
   "cell_type": "markdown",
   "id": "bde363be",
   "metadata": {},
   "source": [
    "- 모델 비교를 위한 ANOVA는 \n",
    "\n",
    "$$y_{ij} = \\beta_0 + \\beta_1x_{i1} + \\beta_2x_{i2} + \\beta_3x_{i3} + \\epsilon_{ij}$$이며,\n",
    "\n",
    "- $\\beta_0$ : `basic_lm` 모델 (단순 다항회귀)의 $R^2$ 평균 \n",
    "- $\\beta_1$ : 상호작용항 모델과 단순 다항회귀간의 $R^2$ 평균의 변화량\n",
    "- $\\beta_2$ : 랜덤포레스트 모델과 단순 다항회귀간의 $R^2$ 평균의 변화량\n",
    "- $\\beta_3$ : 스플라인항 모델과 단순 다항회귀간의 $R^2$ 평균의 변화량\n",
    "    "
   ]
  },
  {
   "cell_type": "markdown",
   "id": "11e6ff15",
   "metadata": {},
   "source": [
    "<br>\n",
    "\n",
    "- 가설 검정과 p-값이 생성되어 모델을 통계적으로 비교하지만, 리샘플 변동 구성요소의 효과를 처리하는 방법에 대해 고려 필요\n",
    "\n",
    "- **리샘플을 랜덤효과로 처리하여 ANOVA 모델을 적합하는 방법은 선형 혼합 모델 ( Faraway 2016 ) 또는 베이지안 계층적 모델에 해당**"
   ]
  },
  {
   "cell_type": "markdown",
   "id": "98af827d",
   "metadata": {},
   "source": [
    "<br>\n",
    "\n",
    "####  t-검정을 통한 모델 비교"
   ]
  },
  {
   "cell_type": "code",
   "execution_count": 57,
   "id": "19da7a1f",
   "metadata": {},
   "outputs": [],
   "source": [
    "compare_lm <- rsq_wider %>% \n",
    "    mutate(difference = splines_lm - basic_lm)"
   ]
  },
  {
   "cell_type": "code",
   "execution_count": 58,
   "id": "c20c80b8",
   "metadata": {},
   "outputs": [
    {
     "data": {
      "text/html": [
       "<table class=\"dataframe\">\n",
       "<caption>A tibble: 1 × 4</caption>\n",
       "<thead>\n",
       "\t<tr><th scope=col>estimate</th><th scope=col>p.value</th><th scope=col>conf.low</th><th scope=col>conf.high</th></tr>\n",
       "\t<tr><th scope=col>&lt;dbl&gt;</th><th scope=col>&lt;dbl&gt;</th><th scope=col>&lt;dbl&gt;</th><th scope=col>&lt;dbl&gt;</th></tr>\n",
       "</thead>\n",
       "<tbody>\n",
       "\t<tr><td>0.009131344</td><td>2.563969e-05</td><td>0.006501232</td><td>0.01176146</td></tr>\n",
       "</tbody>\n",
       "</table>\n"
      ],
      "text/latex": [
       "A tibble: 1 × 4\n",
       "\\begin{tabular}{llll}\n",
       " estimate & p.value & conf.low & conf.high\\\\\n",
       " <dbl> & <dbl> & <dbl> & <dbl>\\\\\n",
       "\\hline\n",
       "\t 0.009131344 & 2.563969e-05 & 0.006501232 & 0.01176146\\\\\n",
       "\\end{tabular}\n"
      ],
      "text/markdown": [
       "\n",
       "A tibble: 1 × 4\n",
       "\n",
       "| estimate &lt;dbl&gt; | p.value &lt;dbl&gt; | conf.low &lt;dbl&gt; | conf.high &lt;dbl&gt; |\n",
       "|---|---|---|---|\n",
       "| 0.009131344 | 2.563969e-05 | 0.006501232 | 0.01176146 |\n",
       "\n"
      ],
      "text/plain": [
       "  estimate    p.value      conf.low    conf.high \n",
       "1 0.009131344 2.563969e-05 0.006501232 0.01176146"
      ]
     },
     "metadata": {},
     "output_type": "display_data"
    }
   ],
   "source": [
    "lm(difference ~ 1, data = compare_lm) %>% \n",
    "    tidy(conf.int = TRUE) %>% \n",
    "    select(estimate, p.value, starts_with(\"conf\"))"
   ]
  },
  {
   "cell_type": "markdown",
   "id": "914da096",
   "metadata": {},
   "source": [
    "- 두 모델간 각 fold별 $R^2$ 차이는 통계적으로 유의"
   ]
  },
  {
   "cell_type": "code",
   "execution_count": 62,
   "id": "19f11d05",
   "metadata": {},
   "outputs": [
    {
     "data": {
      "text/html": [
       "<table class=\"dataframe\">\n",
       "<caption>A tibble: 1 × 8</caption>\n",
       "<thead>\n",
       "\t<tr><th scope=col>estimate</th><th scope=col>statistic</th><th scope=col>p.value</th><th scope=col>parameter</th><th scope=col>conf.low</th><th scope=col>conf.high</th><th scope=col>method</th><th scope=col>alternative</th></tr>\n",
       "\t<tr><th scope=col>&lt;dbl&gt;</th><th scope=col>&lt;dbl&gt;</th><th scope=col>&lt;dbl&gt;</th><th scope=col>&lt;dbl&gt;</th><th scope=col>&lt;dbl&gt;</th><th scope=col>&lt;dbl&gt;</th><th scope=col>&lt;chr&gt;</th><th scope=col>&lt;chr&gt;</th></tr>\n",
       "</thead>\n",
       "<tbody>\n",
       "\t<tr><td>0.009131344</td><td>7.853861</td><td>2.563969e-05</td><td>9</td><td>0.006501232</td><td>0.01176146</td><td>Paired t-test</td><td>two.sided</td></tr>\n",
       "</tbody>\n",
       "</table>\n"
      ],
      "text/latex": [
       "A tibble: 1 × 8\n",
       "\\begin{tabular}{llllllll}\n",
       " estimate & statistic & p.value & parameter & conf.low & conf.high & method & alternative\\\\\n",
       " <dbl> & <dbl> & <dbl> & <dbl> & <dbl> & <dbl> & <chr> & <chr>\\\\\n",
       "\\hline\n",
       "\t 0.009131344 & 7.853861 & 2.563969e-05 & 9 & 0.006501232 & 0.01176146 & Paired t-test & two.sided\\\\\n",
       "\\end{tabular}\n"
      ],
      "text/markdown": [
       "\n",
       "A tibble: 1 × 8\n",
       "\n",
       "| estimate &lt;dbl&gt; | statistic &lt;dbl&gt; | p.value &lt;dbl&gt; | parameter &lt;dbl&gt; | conf.low &lt;dbl&gt; | conf.high &lt;dbl&gt; | method &lt;chr&gt; | alternative &lt;chr&gt; |\n",
       "|---|---|---|---|---|---|---|---|\n",
       "| 0.009131344 | 7.853861 | 2.563969e-05 | 9 | 0.006501232 | 0.01176146 | Paired t-test | two.sided |\n",
       "\n"
      ],
      "text/plain": [
       "  estimate    statistic p.value      parameter conf.low    conf.high \n",
       "1 0.009131344 7.853861  2.563969e-05 9         0.006501232 0.01176146\n",
       "  method        alternative\n",
       "1 Paired t-test two.sided  "
      ]
     },
     "metadata": {},
     "output_type": "display_data"
    }
   ],
   "source": [
    "rsq_wider %>% \n",
    "    with( t.test(splines_lm, basic_lm, paired = TRUE) ) %>%\n",
    "    tidy()"
   ]
  },
  {
   "cell_type": "markdown",
   "id": "7870993b",
   "metadata": {},
   "source": [
    "<br>\n",
    "\n",
    "## 08.04. 베이지안 방법\n",
    "- 무작위 효과와 베이지안 통계를 사용하여 이러한 공식 비교를 수행하는 보다 일반적인 접근 방식 가능 ( McElreath 2020 ) \n",
    "- ANOVA 방법보다 더 복잡하지만 해석은 더 간단\n",
    "- ANOVA 모델의 형식\n",
    "\n",
    "$$y_{ij} = \\beta_0 + \\beta_1x_{i1} + \\beta_2x_{i2} + \\beta_3x_{i3} + \\epsilon_{ij}$$\n",
    "\n",
    "<br>\n",
    "\n",
    "#### 통계적 가정\n",
    "- 잔차 $\\epsilon_{ij}$는 독립성을 띄는 것으로 가정되고,평균이 0이고 표준편차가 $\\sigma$인 정규분포를 따른다고 가정\n",
    "- 베이지안 방법은 잔차에 대한 분포를 지정하는 것 외에도, 모델의 매개변수에 대한 사전분포를 지정 ($\\beta_{j}, \\sigma$)\n",
    "\n",
    "$$\\begin{align}\n",
    "\\epsilon_{ij} &\\sim N(0, \\sigma) \\notag \\\\\n",
    "\\beta_j &\\sim N(0, 10) \\notag \\\\\n",
    "\\sigma &\\sim \\text{exponential}(1) \\notag\n",
    "\\end{align}$$"
   ]
  },
  {
   "cell_type": "markdown",
   "id": "b5c58d30",
   "metadata": {},
   "source": [
    "- 이러한 사전분포 설정을 통하여 매개변수에 대한 확률적이고 가능한 범위를 지정\n",
    "    - $\\sigma$에 대한 사전분포는 $\\sigma$값이 0보다 커야 하고 매우 오른쪽으로 치우쳐 있으며 일반적으로 3 또는 4보다 작은 값을 가짐을 나타냄\n",
    "    \n",
    "    * $\\beta_{ij}$의 사전분포는 표준편차가 10으로 매우 넓음\n",
    "\n",
    "        $\\rightarrow$ 정규분포의 대칭성, 종모양이라는 점을 제외하면 사전적인 범위가 선명하지 않으며, 사전분포가 크다는 것은 사전 정보가 많지 않음을 의미\n",
    "        \n",
    "- 관측 데이터와 사전분포를 통해 각 매개변수별 사후분포를 추정"
   ]
  },
  {
   "cell_type": "markdown",
   "id": "46591247",
   "metadata": {},
   "source": [
    "<br>\n",
    "\n",
    "### 무작위 절편 모델\n",
    "- 리샘플이 적절하게 모델링되도록, 베이지안 분산분석 모델에 무작위 절편 모델을 고려\n",
    "    \n",
    "    $\\rightarrow$ 리샘플이 절편을 변경해야만 모델에 영향을 미친다는 가정\n",
    "    \n",
    "    $\\rightarrow$ 리샘플이 회귀 매개변수에 이상치같은 영향을 미치는 것을 제한\n",
    "    \n",
    "    $\\rightarrow$ 리셈플 전체에서 동일한 관계를 갖는 것으로 가정\n",
    "    \n",
    "$$y_{ij} = (\\beta_0 + b_{i}) + \\beta_1x_{i1} + \\beta_2x_{i2} + \\beta_3x_{i3} + \\epsilon_{ij}$$"
   ]
  },
  {
   "cell_type": "markdown",
   "id": "dbf2c331",
   "metadata": {},
   "source": [
    "- **이 모델 구성의 경우, 무작위 효과의 사전분포에 대한 추가적인 가정이 필요** \n",
    "    - fold가 10개인 경우, 표준정규분포보다 더 넓은 t-분포를 사용 (i,e $b_i \\sim t(1)$)"
   ]
  },
  {
   "cell_type": "markdown",
   "id": "3fa6bf03",
   "metadata": {},
   "source": [
    "<br>\n",
    "\n",
    "- 워크플로 세트의 경우, 그룹이 워크플로인 분산분석 모델을 생성\n",
    "- 기존 ANOVA는 튜닝 매개변수를 설정하지 않았으나, \n",
    "    \n",
    "    워크플로 세트중 하나에, 튜닝이 필요한 매개변수에 대한 데이터가 있는 경우, 각 워크플로에 대해 설정된 최상의 매개변수가 베이지안 분석에 사용"
   ]
  },
  {
   "cell_type": "code",
   "execution_count": 64,
   "id": "ccf0437e",
   "metadata": {},
   "outputs": [
    {
     "name": "stdout",
     "output_type": "stream",
     "text": [
      "\u001b[90m# A workflow set/tibble: 4 × 4\u001b[39m\n",
      "  wflow_id      info             option    result   \n",
      "  \u001b[3m\u001b[90m<chr>\u001b[39m\u001b[23m         \u001b[3m\u001b[90m<list>\u001b[39m\u001b[23m           \u001b[3m\u001b[90m<list>\u001b[39m\u001b[23m    \u001b[3m\u001b[90m<list>\u001b[39m\u001b[23m   \n",
      "\u001b[90m1\u001b[39m random_forest \u001b[90m<tibble [1 × 4]>\u001b[39m \u001b[90m<opts[0]>\u001b[39m \u001b[90m<rsmp[+]>\u001b[39m\n",
      "\u001b[90m2\u001b[39m basic_lm      \u001b[90m<tibble [1 × 4]>\u001b[39m \u001b[90m<opts[2]>\u001b[39m \u001b[90m<rsmp[+]>\u001b[39m\n",
      "\u001b[90m3\u001b[39m interact_lm   \u001b[90m<tibble [1 × 4]>\u001b[39m \u001b[90m<opts[2]>\u001b[39m \u001b[90m<rsmp[+]>\u001b[39m\n",
      "\u001b[90m4\u001b[39m splines_lm    \u001b[90m<tibble [1 × 4]>\u001b[39m \u001b[90m<opts[2]>\u001b[39m \u001b[90m<rsmp[+]>\u001b[39m\n"
     ]
    }
   ],
   "source": [
    "print(four_models)"
   ]
  },
  {
   "cell_type": "code",
   "execution_count": 66,
   "id": "e915be7d",
   "metadata": {},
   "outputs": [],
   "source": [
    "library(tidyposterior)\n",
    "library(rstanarm)"
   ]
  },
  {
   "cell_type": "code",
   "execution_count": 68,
   "id": "4b988acf",
   "metadata": {},
   "outputs": [
    {
     "name": "stdout",
     "output_type": "stream",
     "text": [
      "\n",
      "SAMPLING FOR MODEL 'continuous' NOW (CHAIN 1).\n",
      "Chain 1: \n",
      "Chain 1: Gradient evaluation took 1.7e-05 seconds\n",
      "Chain 1: 1000 transitions using 10 leapfrog steps per transition would take 0.17 seconds.\n",
      "Chain 1: Adjust your expectations accordingly!\n",
      "Chain 1: \n",
      "Chain 1: \n",
      "Chain 1: Iteration:    1 / 5000 [  0%]  (Warmup)\n",
      "Chain 1: Iteration:  500 / 5000 [ 10%]  (Warmup)\n",
      "Chain 1: Iteration: 1000 / 5000 [ 20%]  (Warmup)\n",
      "Chain 1: Iteration: 1500 / 5000 [ 30%]  (Warmup)\n",
      "Chain 1: Iteration: 2000 / 5000 [ 40%]  (Warmup)\n",
      "Chain 1: Iteration: 2500 / 5000 [ 50%]  (Warmup)\n",
      "Chain 1: Iteration: 2501 / 5000 [ 50%]  (Sampling)\n",
      "Chain 1: Iteration: 3000 / 5000 [ 60%]  (Sampling)\n",
      "Chain 1: Iteration: 3500 / 5000 [ 70%]  (Sampling)\n",
      "Chain 1: Iteration: 4000 / 5000 [ 80%]  (Sampling)\n",
      "Chain 1: Iteration: 4500 / 5000 [ 90%]  (Sampling)\n",
      "Chain 1: Iteration: 5000 / 5000 [100%]  (Sampling)\n",
      "Chain 1: \n",
      "Chain 1:  Elapsed Time: 2.128 seconds (Warm-up)\n",
      "Chain 1:                1.011 seconds (Sampling)\n",
      "Chain 1:                3.139 seconds (Total)\n",
      "Chain 1: \n",
      "\n",
      "SAMPLING FOR MODEL 'continuous' NOW (CHAIN 2).\n",
      "Chain 2: \n",
      "Chain 2: Gradient evaluation took 1.2e-05 seconds\n",
      "Chain 2: 1000 transitions using 10 leapfrog steps per transition would take 0.12 seconds.\n",
      "Chain 2: Adjust your expectations accordingly!\n",
      "Chain 2: \n",
      "Chain 2: \n",
      "Chain 2: Iteration:    1 / 5000 [  0%]  (Warmup)\n",
      "Chain 2: Iteration:  500 / 5000 [ 10%]  (Warmup)\n",
      "Chain 2: Iteration: 1000 / 5000 [ 20%]  (Warmup)\n",
      "Chain 2: Iteration: 1500 / 5000 [ 30%]  (Warmup)\n",
      "Chain 2: Iteration: 2000 / 5000 [ 40%]  (Warmup)\n",
      "Chain 2: Iteration: 2500 / 5000 [ 50%]  (Warmup)\n",
      "Chain 2: Iteration: 2501 / 5000 [ 50%]  (Sampling)\n",
      "Chain 2: Iteration: 3000 / 5000 [ 60%]  (Sampling)\n",
      "Chain 2: Iteration: 3500 / 5000 [ 70%]  (Sampling)\n",
      "Chain 2: Iteration: 4000 / 5000 [ 80%]  (Sampling)\n",
      "Chain 2: Iteration: 4500 / 5000 [ 90%]  (Sampling)\n",
      "Chain 2: Iteration: 5000 / 5000 [100%]  (Sampling)\n",
      "Chain 2: \n",
      "Chain 2:  Elapsed Time: 2.043 seconds (Warm-up)\n",
      "Chain 2:                1.19 seconds (Sampling)\n",
      "Chain 2:                3.233 seconds (Total)\n",
      "Chain 2: \n",
      "\n",
      "SAMPLING FOR MODEL 'continuous' NOW (CHAIN 3).\n",
      "Chain 3: \n",
      "Chain 3: Gradient evaluation took 1.2e-05 seconds\n",
      "Chain 3: 1000 transitions using 10 leapfrog steps per transition would take 0.12 seconds.\n",
      "Chain 3: Adjust your expectations accordingly!\n",
      "Chain 3: \n",
      "Chain 3: \n",
      "Chain 3: Iteration:    1 / 5000 [  0%]  (Warmup)\n",
      "Chain 3: Iteration:  500 / 5000 [ 10%]  (Warmup)\n",
      "Chain 3: Iteration: 1000 / 5000 [ 20%]  (Warmup)\n",
      "Chain 3: Iteration: 1500 / 5000 [ 30%]  (Warmup)\n",
      "Chain 3: Iteration: 2000 / 5000 [ 40%]  (Warmup)\n",
      "Chain 3: Iteration: 2500 / 5000 [ 50%]  (Warmup)\n",
      "Chain 3: Iteration: 2501 / 5000 [ 50%]  (Sampling)\n",
      "Chain 3: Iteration: 3000 / 5000 [ 60%]  (Sampling)\n",
      "Chain 3: Iteration: 3500 / 5000 [ 70%]  (Sampling)\n",
      "Chain 3: Iteration: 4000 / 5000 [ 80%]  (Sampling)\n",
      "Chain 3: Iteration: 4500 / 5000 [ 90%]  (Sampling)\n",
      "Chain 3: Iteration: 5000 / 5000 [100%]  (Sampling)\n",
      "Chain 3: \n",
      "Chain 3:  Elapsed Time: 1.611 seconds (Warm-up)\n",
      "Chain 3:                1.081 seconds (Sampling)\n",
      "Chain 3:                2.692 seconds (Total)\n",
      "Chain 3: \n",
      "\n",
      "SAMPLING FOR MODEL 'continuous' NOW (CHAIN 4).\n",
      "Chain 4: \n",
      "Chain 4: Gradient evaluation took 1.2e-05 seconds\n",
      "Chain 4: 1000 transitions using 10 leapfrog steps per transition would take 0.12 seconds.\n",
      "Chain 4: Adjust your expectations accordingly!\n",
      "Chain 4: \n",
      "Chain 4: \n",
      "Chain 4: Iteration:    1 / 5000 [  0%]  (Warmup)\n",
      "Chain 4: Iteration:  500 / 5000 [ 10%]  (Warmup)\n",
      "Chain 4: Iteration: 1000 / 5000 [ 20%]  (Warmup)\n",
      "Chain 4: Iteration: 1500 / 5000 [ 30%]  (Warmup)\n",
      "Chain 4: Iteration: 2000 / 5000 [ 40%]  (Warmup)\n",
      "Chain 4: Iteration: 2500 / 5000 [ 50%]  (Warmup)\n",
      "Chain 4: Iteration: 2501 / 5000 [ 50%]  (Sampling)\n",
      "Chain 4: Iteration: 3000 / 5000 [ 60%]  (Sampling)\n",
      "Chain 4: Iteration: 3500 / 5000 [ 70%]  (Sampling)\n",
      "Chain 4: Iteration: 4000 / 5000 [ 80%]  (Sampling)\n",
      "Chain 4: Iteration: 4500 / 5000 [ 90%]  (Sampling)\n",
      "Chain 4: Iteration: 5000 / 5000 [100%]  (Sampling)\n",
      "Chain 4: \n",
      "Chain 4:  Elapsed Time: 1.798 seconds (Warm-up)\n",
      "Chain 4:                1.201 seconds (Sampling)\n",
      "Chain 4:                2.999 seconds (Total)\n",
      "Chain 4: \n"
     ]
    }
   ],
   "source": [
    "rsq_anova <- perf_mod(\n",
    "    four_models,\n",
    "    metric = \"rsq\",\n",
    "    prior_intercept = rstanarm::student_t(df = 1),\n",
    "    chains = 4,\n",
    "    iter = 5000,\n",
    "    seed = 1102,\n",
    "    verbose=F\n",
    ")"
   ]
  },
  {
   "cell_type": "markdown",
   "id": "864071a8",
   "metadata": {},
   "source": [
    "- 사후분포"
   ]
  },
  {
   "cell_type": "code",
   "execution_count": 69,
   "id": "e4813246",
   "metadata": {},
   "outputs": [],
   "source": [
    "model_post <- rsq_anova %>%\n",
    "    tidy(seed = 1103)"
   ]
  },
  {
   "cell_type": "code",
   "execution_count": 71,
   "id": "49b097f6",
   "metadata": {},
   "outputs": [
    {
     "name": "stdout",
     "output_type": "stream",
     "text": [
      "Rows: 40,000\n",
      "Columns: 2\n",
      "$ model     \u001b[3m\u001b[90m<chr>\u001b[39m\u001b[23m \"random_forest\", \"basic_lm\", \"interact_lm\", \"splines_lm\", \"r…\n",
      "$ posterior \u001b[3m\u001b[90m<dbl>\u001b[39m\u001b[23m 0.8234589, 0.7797284, 0.7804603, 0.7885734, 0.8523924, 0.809…\n"
     ]
    }
   ],
   "source": [
    "glimpse(model_post)"
   ]
  },
  {
   "cell_type": "code",
   "execution_count": 72,
   "id": "8f847454",
   "metadata": {},
   "outputs": [
    {
     "data": {
      "image/png": "[encoded data removed]",
      "text/plain": [
       "plot without title"
      ]
     },
     "metadata": {
      "image/png": {
       "height": 420,
       "width": 420
      }
     },
     "output_type": "display_data"
    }
   ],
   "source": [
    "model_post %>% \n",
    "    mutate(model = forcats::fct_inorder(model)) %>%\n",
    "    ggplot(aes(x = posterior)) + \n",
    "    geom_histogram(bins = 50, color = \"white\", fill = \"blue\", alpha = 0.4) + \n",
    "    facet_wrap(~ model, ncol = 1)"
   ]
  },
  {
   "cell_type": "code",
   "execution_count": 73,
   "id": "919a9a2e",
   "metadata": {},
   "outputs": [
    {
     "data": {
      "image/png": "[encoded data removed]",
      "text/plain": [
       "plot without title"
      ]
     },
     "metadata": {
      "image/png": {
       "height": 420,
       "width": 420
      }
     },
     "output_type": "display_data"
    }
   ],
   "source": [
    "autoplot(rsq_anova) +\n",
    "    geom_text_repel(aes(label = workflow), nudge_x = 1/8, nudge_y = 1/100) +\n",
    "    theme(legend.position = \"none\")"
   ]
  },
  {
   "cell_type": "markdown",
   "id": "a6f1e6a2",
   "metadata": {},
   "source": [
    "<br>\n",
    "\n",
    "#### **매개변수에 대한 사후 분포를 얻은 후에는 매개변수 조합에 대한 사후 분포를 얻는 것이 더 용이**\n",
    "- **두 선형 회귀 모델을 비교하기 위해 평균의 차이에 관심이 있을 때,** \n",
    "    \n",
    "    **차이의 사후분포는 개별 사후값에서 샘플링하고 차이를 취하여 계산**"
   ]
  },
  {
   "cell_type": "markdown",
   "id": "08f2b755",
   "metadata": {},
   "source": [
    "#### `contrast_models()`"
   ]
  },
  {
   "cell_type": "code",
   "execution_count": 75,
   "id": "930a0f67",
   "metadata": {},
   "outputs": [],
   "source": [
    "rqs_diff <- contrast_models(rsq_anova, \n",
    "                            list_1 = \"splines_lm\", list_2 = \"basic_lm\",\n",
    "                            seed = 1104)"
   ]
  },
  {
   "cell_type": "code",
   "execution_count": 79,
   "id": "430a3845",
   "metadata": {},
   "outputs": [
    {
     "data": {
      "text/html": [
       "<table class=\"dataframe\">\n",
       "<caption>A posterior_diff: 6 × 4</caption>\n",
       "<thead>\n",
       "\t<tr><th scope=col>difference</th><th scope=col>model_1</th><th scope=col>model_2</th><th scope=col>contrast</th></tr>\n",
       "\t<tr><th scope=col>&lt;dbl&gt;</th><th scope=col>&lt;chr&gt;</th><th scope=col>&lt;chr&gt;</th><th scope=col>&lt;chr&gt;</th></tr>\n",
       "</thead>\n",
       "<tbody>\n",
       "\t<tr><td>0.008844992</td><td>splines_lm</td><td>basic_lm</td><td>splines_lm vs. basic_lm</td></tr>\n",
       "\t<tr><td>0.009232497</td><td>splines_lm</td><td>basic_lm</td><td>splines_lm vs. basic_lm</td></tr>\n",
       "\t<tr><td>0.007087521</td><td>splines_lm</td><td>basic_lm</td><td>splines_lm vs. basic_lm</td></tr>\n",
       "\t<tr><td>0.006893482</td><td>splines_lm</td><td>basic_lm</td><td>splines_lm vs. basic_lm</td></tr>\n",
       "\t<tr><td>0.006286658</td><td>splines_lm</td><td>basic_lm</td><td>splines_lm vs. basic_lm</td></tr>\n",
       "\t<tr><td>0.009115243</td><td>splines_lm</td><td>basic_lm</td><td>splines_lm vs. basic_lm</td></tr>\n",
       "</tbody>\n",
       "</table>\n"
      ],
      "text/latex": [
       "A posterior\\_diff: 6 × 4\n",
       "\\begin{tabular}{llll}\n",
       " difference & model\\_1 & model\\_2 & contrast\\\\\n",
       " <dbl> & <chr> & <chr> & <chr>\\\\\n",
       "\\hline\n",
       "\t 0.008844992 & splines\\_lm & basic\\_lm & splines\\_lm vs. basic\\_lm\\\\\n",
       "\t 0.009232497 & splines\\_lm & basic\\_lm & splines\\_lm vs. basic\\_lm\\\\\n",
       "\t 0.007087521 & splines\\_lm & basic\\_lm & splines\\_lm vs. basic\\_lm\\\\\n",
       "\t 0.006893482 & splines\\_lm & basic\\_lm & splines\\_lm vs. basic\\_lm\\\\\n",
       "\t 0.006286658 & splines\\_lm & basic\\_lm & splines\\_lm vs. basic\\_lm\\\\\n",
       "\t 0.009115243 & splines\\_lm & basic\\_lm & splines\\_lm vs. basic\\_lm\\\\\n",
       "\\end{tabular}\n"
      ],
      "text/markdown": [
       "\n",
       "A posterior_diff: 6 × 4\n",
       "\n",
       "| difference &lt;dbl&gt; | model_1 &lt;chr&gt; | model_2 &lt;chr&gt; | contrast &lt;chr&gt; |\n",
       "|---|---|---|---|\n",
       "| 0.008844992 | splines_lm | basic_lm | splines_lm vs. basic_lm |\n",
       "| 0.009232497 | splines_lm | basic_lm | splines_lm vs. basic_lm |\n",
       "| 0.007087521 | splines_lm | basic_lm | splines_lm vs. basic_lm |\n",
       "| 0.006893482 | splines_lm | basic_lm | splines_lm vs. basic_lm |\n",
       "| 0.006286658 | splines_lm | basic_lm | splines_lm vs. basic_lm |\n",
       "| 0.009115243 | splines_lm | basic_lm | splines_lm vs. basic_lm |\n",
       "\n"
      ],
      "text/plain": [
       "  difference  model_1    model_2  contrast               \n",
       "1 0.008844992 splines_lm basic_lm splines_lm vs. basic_lm\n",
       "2 0.009232497 splines_lm basic_lm splines_lm vs. basic_lm\n",
       "3 0.007087521 splines_lm basic_lm splines_lm vs. basic_lm\n",
       "4 0.006893482 splines_lm basic_lm splines_lm vs. basic_lm\n",
       "5 0.006286658 splines_lm basic_lm splines_lm vs. basic_lm\n",
       "6 0.009115243 splines_lm basic_lm splines_lm vs. basic_lm"
      ]
     },
     "metadata": {},
     "output_type": "display_data"
    }
   ],
   "source": [
    "rqs_diff %>% head()"
   ]
  },
  {
   "cell_type": "code",
   "execution_count": 77,
   "id": "38397ce7",
   "metadata": {},
   "outputs": [
    {
     "data": {
      "image/png": "[encoded data removed]",
      "text/plain": [
       "plot without title"
      ]
     },
     "metadata": {
      "image/png": {
       "height": 420,
       "width": 420
      }
     },
     "output_type": "display_data"
    }
   ],
   "source": [
    "rqs_diff %>% \n",
    "    as_tibble() %>% \n",
    "    ggplot(aes(x = difference)) + \n",
    "    geom_vline(xintercept = 0, lty = 2) + \n",
    "    geom_histogram(bins = 50, color = \"white\", fill = \"red\", alpha = 0.4)"
   ]
  },
  {
   "cell_type": "markdown",
   "id": "6c246807",
   "metadata": {},
   "source": [
    "<br>\n",
    "\n",
    "* 사후분포 차이는 중심이 0보다 큼 (스플라인 > 일반 다항회귀)\n",
    "    - `probability` : 두 사후분포의 차이의 유의성\n",
    "- 사후분포 차이의 평균은 0에 매우 가까운 값을 가짐"
   ]
  },
  {
   "cell_type": "code",
   "execution_count": 86,
   "id": "637af3a2",
   "metadata": {},
   "outputs": [
    {
     "data": {
      "text/html": [
       "<table class=\"dataframe\">\n",
       "<caption>A tibble: 1 × 6</caption>\n",
       "<thead>\n",
       "\t<tr><th scope=col>contrast</th><th scope=col>probability</th><th scope=col>mean</th><th scope=col>lower</th><th scope=col>upper</th><th scope=col>size</th></tr>\n",
       "\t<tr><th scope=col>&lt;chr&gt;</th><th scope=col>&lt;dbl&gt;</th><th scope=col>&lt;dbl&gt;</th><th scope=col>&lt;dbl&gt;</th><th scope=col>&lt;dbl&gt;</th><th scope=col>&lt;dbl&gt;</th></tr>\n",
       "</thead>\n",
       "<tbody>\n",
       "\t<tr><td>splines_lm vs basic_lm</td><td>0.9999</td><td>0.009176724</td><td>0.005192076</td><td>0.01317674</td><td>0</td></tr>\n",
       "</tbody>\n",
       "</table>\n"
      ],
      "text/latex": [
       "A tibble: 1 × 6\n",
       "\\begin{tabular}{llllll}\n",
       " contrast & probability & mean & lower & upper & size\\\\\n",
       " <chr> & <dbl> & <dbl> & <dbl> & <dbl> & <dbl>\\\\\n",
       "\\hline\n",
       "\t splines\\_lm vs basic\\_lm & 0.9999 & 0.009176724 & 0.005192076 & 0.01317674 & 0\\\\\n",
       "\\end{tabular}\n"
      ],
      "text/markdown": [
       "\n",
       "A tibble: 1 × 6\n",
       "\n",
       "| contrast &lt;chr&gt; | probability &lt;dbl&gt; | mean &lt;dbl&gt; | lower &lt;dbl&gt; | upper &lt;dbl&gt; | size &lt;dbl&gt; |\n",
       "|---|---|---|---|---|---|\n",
       "| splines_lm vs basic_lm | 0.9999 | 0.009176724 | 0.005192076 | 0.01317674 | 0 |\n",
       "\n"
      ],
      "text/plain": [
       "  contrast               probability mean        lower       upper      size\n",
       "1 splines_lm vs basic_lm 0.9999      0.009176724 0.005192076 0.01317674 0   "
      ]
     },
     "metadata": {},
     "output_type": "display_data"
    }
   ],
   "source": [
    "summary(rqs_diff) %>% \n",
    "  select(-starts_with(\"pract\"))"
   ]
  },
  {
   "cell_type": "markdown",
   "id": "c7dbea24",
   "metadata": {},
   "source": [
    "- **사후분포 차이의 평균이 0.02일 가능성은 0에 가까움 (ROPE 추정치, Region Of Practical Equivalence)**\n",
    "    \n",
    "    $\\rightarrow$ 실질적으로 두 분포의 차이가 의미가 없을 만큼 작음"
   ]
  },
  {
   "cell_type": "code",
   "execution_count": 89,
   "id": "32cb3c8a",
   "metadata": {},
   "outputs": [
    {
     "data": {
      "text/html": [
       "<table class=\"dataframe\">\n",
       "<caption>A tibble: 1 × 4</caption>\n",
       "<thead>\n",
       "\t<tr><th scope=col>contrast</th><th scope=col>pract_neg</th><th scope=col>pract_equiv</th><th scope=col>pract_pos</th></tr>\n",
       "\t<tr><th scope=col>&lt;chr&gt;</th><th scope=col>&lt;dbl&gt;</th><th scope=col>&lt;dbl&gt;</th><th scope=col>&lt;dbl&gt;</th></tr>\n",
       "</thead>\n",
       "<tbody>\n",
       "\t<tr><td>splines_lm vs basic_lm</td><td>0</td><td>1</td><td>0</td></tr>\n",
       "</tbody>\n",
       "</table>\n"
      ],
      "text/latex": [
       "A tibble: 1 × 4\n",
       "\\begin{tabular}{llll}\n",
       " contrast & pract\\_neg & pract\\_equiv & pract\\_pos\\\\\n",
       " <chr> & <dbl> & <dbl> & <dbl>\\\\\n",
       "\\hline\n",
       "\t splines\\_lm vs basic\\_lm & 0 & 1 & 0\\\\\n",
       "\\end{tabular}\n"
      ],
      "text/markdown": [
       "\n",
       "A tibble: 1 × 4\n",
       "\n",
       "| contrast &lt;chr&gt; | pract_neg &lt;dbl&gt; | pract_equiv &lt;dbl&gt; | pract_pos &lt;dbl&gt; |\n",
       "|---|---|---|---|\n",
       "| splines_lm vs basic_lm | 0 | 1 | 0 |\n",
       "\n"
      ],
      "text/plain": [
       "  contrast               pract_neg pract_equiv pract_pos\n",
       "1 splines_lm vs basic_lm 0         1           0        "
      ]
     },
     "metadata": {},
     "output_type": "display_data"
    }
   ],
   "source": [
    "summary(rqs_diff, size = 0.02) %>% \n",
    "    select(contrast, starts_with(\"pract\"))"
   ]
  },
  {
   "cell_type": "code",
   "execution_count": 90,
   "id": "e312ed62",
   "metadata": {},
   "outputs": [
    {
     "data": {
      "image/png": "[encoded data removed]",
      "text/plain": [
       "plot without title"
      ]
     },
     "metadata": {
      "image/png": {
       "height": 420,
       "width": 420
      }
     },
     "output_type": "display_data"
    }
   ],
   "source": [
    "autoplot(rsq_anova, type = \"ROPE\", size = 0.02) +\n",
    "    geom_text_repel(aes(label = workflow)) +\n",
    "    theme(legend.position = \"none\")"
   ]
  },
  {
   "cell_type": "markdown",
   "id": "a52d05cb",
   "metadata": {},
   "source": [
    "<br>\n",
    "\n",
    "### 리샘플링 횟수의 효과\n",
    "- 리샘플링 횟수가 증가할수록, 추정의 정확도가 높아짐\n",
    "\n",
    "<img src='https://www.tmwr.org/figures/intervals-over-replicates-1.png'>"
   ]
  }
 ],
 "metadata": {
  "kernelspec": {
   "display_name": "R-4.3.2",
   "language": "R",
   "name": "ir"
  },
  "language_info": {
   "codemirror_mode": "r",
   "file_extension": ".r",
   "mimetype": "text/x-r-source",
   "name": "R",
   "pygments_lexer": "r",
   "version": "4.3.2"
  }
 },
 "nbformat": 4,
 "nbformat_minor": 5
}
