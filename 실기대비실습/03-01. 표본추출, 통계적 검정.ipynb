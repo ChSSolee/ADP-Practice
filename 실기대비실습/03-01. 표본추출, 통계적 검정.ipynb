{
 "cells": [
  {
   "cell_type": "markdown",
   "id": "42f76296",
   "metadata": {},
   "source": [
    "## 표본추출\n",
    "### \n",
    "### 단순임의추출 (랜덤추출)\n",
    "### ```sample(x, size, replace, prob)``` : x에서 size만큼 랜덤추출\n",
    "- ```replace``` : 복원추출 여부 (TRUE : 복원 / FALSE : 비복원)"
   ]
  },
  {
   "cell_type": "markdown",
   "id": "eb190d09",
   "metadata": {},
   "source": [
    "### \n",
    "### 층화추출 : 모집단이 이질적인 몇 개의 계층으로 이루어져 있을 때 모든 계층으로부터 원소를 임의로 추출하여 각 계층을 고루 대표할 수 있도록 랜덤하게 표본을 추출\n",
    "\n",
    "### K-계통추출 : K개씩 n개의 구간으로 분할하고, 첫 구간에서 하나를 임의로 선택한 후에 K의 간격으로 표본을 선택. 총 n개의 표본\n",
    "\n",
    "### ```sampling::strata(data, size, stratanames, method)``` : sampling 객체 생성\n",
    "- ```stratanames``` : 층화 구분 변수\n",
    "- ```size``` : 각 층에서 추출할 데이터 개수\n",
    "- ```method``` : 데이터 추출 방법 (```\"srswor\"``` : 비복원 랜덤 / ```\"srswr\"``` : 복원 랜덤 / ```\"poisson\"``` : 포아송 추출 / ```\"systematic\"``` : 계통 추출)\n",
    "\n",
    "### ```sampling::getdata(data, m)``` : sampling 객체를 대입하여 표본 추출\n",
    "- ```m``` : ```sampling::strata()```로 생성한 sampling 객체"
   ]
  },
  {
   "cell_type": "code",
   "execution_count": 6,
   "id": "5b84843c",
   "metadata": {},
   "outputs": [],
   "source": [
    "library(tidyverse)\n",
    "library(sampling)"
   ]
  },
  {
   "cell_type": "code",
   "execution_count": 18,
   "id": "5c5ca13a",
   "metadata": {},
   "outputs": [
    {
     "data": {
      "text/html": [
       "<style>\n",
       ".dl-inline {width: auto; margin:0; padding: 0}\n",
       ".dl-inline>dt, .dl-inline>dd {float: none; width: auto; display: inline-block}\n",
       ".dl-inline>dt::after {content: \":\\0020\"; padding-right: .5ex}\n",
       ".dl-inline>dt:not(:first-of-type) {padding-left: .5ex}\n",
       "</style><dl class=dl-inline><dt>setosa</dt><dd>50</dd><dt>versicolor</dt><dd>50</dd><dt>virginica</dt><dd>50</dd></dl>\n"
      ],
      "text/latex": [
       "\\begin{description*}\n",
       "\\item[setosa] 50\n",
       "\\item[versicolor] 50\n",
       "\\item[virginica] 50\n",
       "\\end{description*}\n"
      ],
      "text/markdown": [
       "setosa\n",
       ":   50versicolor\n",
       ":   50virginica\n",
       ":   50\n",
       "\n"
      ],
      "text/plain": [
       "    setosa versicolor  virginica \n",
       "        50         50         50 "
      ]
     },
     "metadata": {},
     "output_type": "display_data"
    }
   ],
   "source": [
    "iris$Species %>% summary"
   ]
  },
  {
   "cell_type": "code",
   "execution_count": 22,
   "id": "96bca201",
   "metadata": {},
   "outputs": [],
   "source": [
    "sample <- sampling::strata(data = iris, size = c(20, 15, 15), stratanames = \"Species\", method = \"srswor\")\n",
    "iris_sample <- getdata(iris, sample)"
   ]
  },
  {
   "cell_type": "code",
   "execution_count": 26,
   "id": "5eaa4d93",
   "metadata": {},
   "outputs": [
    {
     "data": {
      "text/html": [
       "<style>\n",
       ".dl-inline {width: auto; margin:0; padding: 0}\n",
       ".dl-inline>dt, .dl-inline>dd {float: none; width: auto; display: inline-block}\n",
       ".dl-inline>dt::after {content: \":\\0020\"; padding-right: .5ex}\n",
       ".dl-inline>dt:not(:first-of-type) {padding-left: .5ex}\n",
       "</style><dl class=dl-inline><dt>setosa</dt><dd>20</dd><dt>versicolor</dt><dd>15</dd><dt>virginica</dt><dd>15</dd></dl>\n"
      ],
      "text/latex": [
       "\\begin{description*}\n",
       "\\item[setosa] 20\n",
       "\\item[versicolor] 15\n",
       "\\item[virginica] 15\n",
       "\\end{description*}\n"
      ],
      "text/markdown": [
       "setosa\n",
       ":   20versicolor\n",
       ":   15virginica\n",
       ":   15\n",
       "\n"
      ],
      "text/plain": [
       "    setosa versicolor  virginica \n",
       "        20         15         15 "
      ]
     },
     "metadata": {},
     "output_type": "display_data"
    },
    {
     "data": {
      "text/html": [
       "<table class=\"dataframe\">\n",
       "<caption>A data.frame: 2 × 8</caption>\n",
       "<thead>\n",
       "\t<tr><th></th><th scope=col>Sepal.Length</th><th scope=col>Sepal.Width</th><th scope=col>Petal.Length</th><th scope=col>Petal.Width</th><th scope=col>Species</th><th scope=col>ID_unit</th><th scope=col>Prob</th><th scope=col>Stratum</th></tr>\n",
       "\t<tr><th></th><th scope=col>&lt;dbl&gt;</th><th scope=col>&lt;dbl&gt;</th><th scope=col>&lt;dbl&gt;</th><th scope=col>&lt;dbl&gt;</th><th scope=col>&lt;fct&gt;</th><th scope=col>&lt;int&gt;</th><th scope=col>&lt;dbl&gt;</th><th scope=col>&lt;int&gt;</th></tr>\n",
       "</thead>\n",
       "<tbody>\n",
       "\t<tr><th scope=row>6</th><td>5.4</td><td>3.9</td><td>1.7</td><td>0.4</td><td>setosa</td><td>6</td><td>0.4</td><td>1</td></tr>\n",
       "\t<tr><th scope=row>8</th><td>5.0</td><td>3.4</td><td>1.5</td><td>0.2</td><td>setosa</td><td>8</td><td>0.4</td><td>1</td></tr>\n",
       "</tbody>\n",
       "</table>\n"
      ],
      "text/latex": [
       "A data.frame: 2 × 8\n",
       "\\begin{tabular}{r|llllllll}\n",
       "  & Sepal.Length & Sepal.Width & Petal.Length & Petal.Width & Species & ID\\_unit & Prob & Stratum\\\\\n",
       "  & <dbl> & <dbl> & <dbl> & <dbl> & <fct> & <int> & <dbl> & <int>\\\\\n",
       "\\hline\n",
       "\t6 & 5.4 & 3.9 & 1.7 & 0.4 & setosa & 6 & 0.4 & 1\\\\\n",
       "\t8 & 5.0 & 3.4 & 1.5 & 0.2 & setosa & 8 & 0.4 & 1\\\\\n",
       "\\end{tabular}\n"
      ],
      "text/markdown": [
       "\n",
       "A data.frame: 2 × 8\n",
       "\n",
       "| <!--/--> | Sepal.Length &lt;dbl&gt; | Sepal.Width &lt;dbl&gt; | Petal.Length &lt;dbl&gt; | Petal.Width &lt;dbl&gt; | Species &lt;fct&gt; | ID_unit &lt;int&gt; | Prob &lt;dbl&gt; | Stratum &lt;int&gt; |\n",
       "|---|---|---|---|---|---|---|---|---|\n",
       "| 6 | 5.4 | 3.9 | 1.7 | 0.4 | setosa | 6 | 0.4 | 1 |\n",
       "| 8 | 5.0 | 3.4 | 1.5 | 0.2 | setosa | 8 | 0.4 | 1 |\n",
       "\n"
      ],
      "text/plain": [
       "  Sepal.Length Sepal.Width Petal.Length Petal.Width Species ID_unit Prob\n",
       "6 5.4          3.9         1.7          0.4         setosa  6       0.4 \n",
       "8 5.0          3.4         1.5          0.2         setosa  8       0.4 \n",
       "  Stratum\n",
       "6 1      \n",
       "8 1      "
      ]
     },
     "metadata": {},
     "output_type": "display_data"
    }
   ],
   "source": [
    "iris_sample$Species %>% summary\n",
    "iris_sample %>% head(2)"
   ]
  },
  {
   "cell_type": "markdown",
   "id": "c5c5cae4",
   "metadata": {},
   "source": [
    "### \n",
    "### 군집추출법 : 군집을 구분하고 특정 군집을 먼저 선택한 후 해당 군집에서만 표본추출"
   ]
  },
  {
   "cell_type": "markdown",
   "id": "dfd47f8e",
   "metadata": {},
   "source": [
    "### \n",
    "\n",
    "### ```rsample::initial_split(data, strata, prop)``` : 데이터의 strata의 비율을 유지한 채, prop만큼 훈련 / 평가 데이터 분할\n",
    "- ```strata``` : 층화 구분 변수\n",
    "- ```prop``` : 훈련 / 평가 데이터 비율\n",
    "\n",
    "### ```rsample::training(split)``` / ```rsample::testing(split)```"
   ]
  },
  {
   "cell_type": "code",
   "execution_count": 27,
   "id": "347aafb1",
   "metadata": {},
   "outputs": [],
   "source": [
    "library(rsample)"
   ]
  },
  {
   "cell_type": "code",
   "execution_count": 28,
   "id": "f3d96984",
   "metadata": {},
   "outputs": [
    {
     "data": {
      "text/html": [
       "<style>\n",
       ".list-inline {list-style: none; margin:0; padding: 0}\n",
       ".list-inline>li {display: inline-block}\n",
       ".list-inline>li:not(:last-child)::after {content: \"\\00b7\"; padding: 0 .5ex}\n",
       "</style>\n",
       "<ol class=list-inline><li>105</li><li>5</li></ol>\n"
      ],
      "text/latex": [
       "\\begin{enumerate*}\n",
       "\\item 105\n",
       "\\item 5\n",
       "\\end{enumerate*}\n"
      ],
      "text/markdown": [
       "1. 105\n",
       "2. 5\n",
       "\n",
       "\n"
      ],
      "text/plain": [
       "[1] 105   5"
      ]
     },
     "metadata": {},
     "output_type": "display_data"
    },
    {
     "data": {
      "text/html": [
       "<style>\n",
       ".dl-inline {width: auto; margin:0; padding: 0}\n",
       ".dl-inline>dt, .dl-inline>dd {float: none; width: auto; display: inline-block}\n",
       ".dl-inline>dt::after {content: \":\\0020\"; padding-right: .5ex}\n",
       ".dl-inline>dt:not(:first-of-type) {padding-left: .5ex}\n",
       "</style><dl class=dl-inline><dt>setosa</dt><dd>35</dd><dt>versicolor</dt><dd>35</dd><dt>virginica</dt><dd>35</dd></dl>\n"
      ],
      "text/latex": [
       "\\begin{description*}\n",
       "\\item[setosa] 35\n",
       "\\item[versicolor] 35\n",
       "\\item[virginica] 35\n",
       "\\end{description*}\n"
      ],
      "text/markdown": [
       "setosa\n",
       ":   35versicolor\n",
       ":   35virginica\n",
       ":   35\n",
       "\n"
      ],
      "text/plain": [
       "    setosa versicolor  virginica \n",
       "        35         35         35 "
      ]
     },
     "metadata": {},
     "output_type": "display_data"
    },
    {
     "data": {
      "text/html": [
       "<style>\n",
       ".list-inline {list-style: none; margin:0; padding: 0}\n",
       ".list-inline>li {display: inline-block}\n",
       ".list-inline>li:not(:last-child)::after {content: \"\\00b7\"; padding: 0 .5ex}\n",
       "</style>\n",
       "<ol class=list-inline><li>45</li><li>5</li></ol>\n"
      ],
      "text/latex": [
       "\\begin{enumerate*}\n",
       "\\item 45\n",
       "\\item 5\n",
       "\\end{enumerate*}\n"
      ],
      "text/markdown": [
       "1. 45\n",
       "2. 5\n",
       "\n",
       "\n"
      ],
      "text/plain": [
       "[1] 45  5"
      ]
     },
     "metadata": {},
     "output_type": "display_data"
    },
    {
     "data": {
      "text/html": [
       "<style>\n",
       ".dl-inline {width: auto; margin:0; padding: 0}\n",
       ".dl-inline>dt, .dl-inline>dd {float: none; width: auto; display: inline-block}\n",
       ".dl-inline>dt::after {content: \":\\0020\"; padding-right: .5ex}\n",
       ".dl-inline>dt:not(:first-of-type) {padding-left: .5ex}\n",
       "</style><dl class=dl-inline><dt>setosa</dt><dd>15</dd><dt>versicolor</dt><dd>15</dd><dt>virginica</dt><dd>15</dd></dl>\n"
      ],
      "text/latex": [
       "\\begin{description*}\n",
       "\\item[setosa] 15\n",
       "\\item[versicolor] 15\n",
       "\\item[virginica] 15\n",
       "\\end{description*}\n"
      ],
      "text/markdown": [
       "setosa\n",
       ":   15versicolor\n",
       ":   15virginica\n",
       ":   15\n",
       "\n"
      ],
      "text/plain": [
       "    setosa versicolor  virginica \n",
       "        15         15         15 "
      ]
     },
     "metadata": {},
     "output_type": "display_data"
    }
   ],
   "source": [
    "split <- initial_split(iris, strata = \"Species\", prop = 0.7)\n",
    "train <- training(split) ; test <- testing(split)\n",
    "train %>% dim ; train$Species %>% summary ; test %>% dim ; test$Species %>% summary"
   ]
  },
  {
   "cell_type": "markdown",
   "id": "27194ae2",
   "metadata": {},
   "source": [
    "### \n",
    "## 일표본 검정"
   ]
  },
  {
   "cell_type": "code",
   "execution_count": 110,
   "id": "c0d21291",
   "metadata": {},
   "outputs": [
    {
     "data": {
      "text/html": [
       "<style>\n",
       ".list-inline {list-style: none; margin:0; padding: 0}\n",
       ".list-inline>li {display: inline-block}\n",
       ".list-inline>li:not(:last-child)::after {content: \"\\00b7\"; padding: 0 .5ex}\n",
       "</style>\n",
       "<ol class=list-inline><li>150</li><li>4</li></ol>\n"
      ],
      "text/latex": [
       "\\begin{enumerate*}\n",
       "\\item 150\n",
       "\\item 4\n",
       "\\end{enumerate*}\n"
      ],
      "text/markdown": [
       "1. 150\n",
       "2. 4\n",
       "\n",
       "\n"
      ],
      "text/plain": [
       "[1] 150   4"
      ]
     },
     "metadata": {},
     "output_type": "display_data"
    }
   ],
   "source": [
    "data <- read.csv(\"C:/Soongsil/R/빅데이터 R프로그래밍/Rwork-2nd/Part-III/one_sample.csv\")\n",
    "data %>% dim"
   ]
  },
  {
   "cell_type": "markdown",
   "id": "62498dc4",
   "metadata": {},
   "source": [
    "### 단일집단 비율검정\n",
    "### 이항분포 비율검정 : 관측된 확률이 ${x \\over n}$인 데이터의 실제확률이 p인지 검정\n",
    "\n",
    "- **귀무가설 : 데이터의 실제 확률은 p이다 / 대립가설 : 데이터의 실제 확률은 p가 아니다**\n",
    "\n",
    "### ```binom.test(x, n, p, alternative, conf.level)``` \n",
    "- ```alternative``` : \n",
    "\n",
    "    (```\"alternative\"``` : 데이터의 실제확률은 p인지 검정 / ```\"less\"``` : 데이터의 실제확률이 p보다 작은 비율인가를 검정 / ```\"greater\"``` : : 데이터의 실제확률이 p보다 큰 비율인가를 검정)\n",
    "- ```conf.level``` : 신뢰수준 "
   ]
  },
  {
   "cell_type": "markdown",
   "id": "06698e05",
   "metadata": {},
   "source": [
    "#### 작년 성공률이 0.2이고, 올해 성공률이 14 / 150이라면 \n",
    "- p < 0.05 => 귀무가설 기각 => 작년 성공률과 올해 성공률에 차이가 존재"
   ]
  },
  {
   "cell_type": "code",
   "execution_count": 111,
   "id": "0e083199",
   "metadata": {},
   "outputs": [
    {
     "data": {
      "text/plain": [
       "\n",
       "\tExact binomial test\n",
       "\n",
       "data:  14 and 150\n",
       "number of successes = 14, number of trials = 150, p-value = 0.0006735\n",
       "alternative hypothesis: true probability of success is not equal to 0.2\n",
       "95 percent confidence interval:\n",
       " 0.05197017 0.15163853\n",
       "sample estimates:\n",
       "probability of success \n",
       "            0.09333333 \n"
      ]
     },
     "metadata": {},
     "output_type": "display_data"
    }
   ],
   "source": [
    "binom.test(14, 150, p = 0.2, alternative = \"two.sided\", conf.level = 0.95)"
   ]
  },
  {
   "cell_type": "markdown",
   "id": "0743225e",
   "metadata": {},
   "source": [
    "### \n",
    "### 단일집단 평균검정 (일표본 t검정)\n",
    "### 절차\n",
    "- **가설설정 => 유의수준 설정 => 검정통계량 및 유의확률 계산 => 귀무가설 기각여부 판단**\n",
    "### \n",
    "\n",
    "### **1. 정규성 검정**\n",
    "- **귀무가설 : 데이터는 정규분포를 따른다 / 대립가설 : 데이터는 정규분포를 따르지 않는다**\n",
    "### ```shapiro.test(data)``` : 5000건 이하의 데이터 정규성 검정\n",
    "### ```nortest::ad.test(data)``` : 5000건 이상의 데이터 정규성 검정"
   ]
  },
  {
   "cell_type": "code",
   "execution_count": 112,
   "id": "0adde500",
   "metadata": {
    "scrolled": true
   },
   "outputs": [
    {
     "data": {
      "text/plain": [
       "\n",
       "\tShapiro-Wilk normality test\n",
       "\n",
       "data:  data$time\n",
       "W = 0.99137, p-value = 0.7242\n"
      ]
     },
     "metadata": {},
     "output_type": "display_data"
    }
   ],
   "source": [
    "data <- na.omit(data)\n",
    "shapiro.test(data$time)"
   ]
  },
  {
   "cell_type": "markdown",
   "id": "5e1869d4",
   "metadata": {},
   "source": [
    "- p > 0.05 => 귀무가설 기각 => 데이터는 정규분포를 따르지 않는다"
   ]
  },
  {
   "cell_type": "markdown",
   "id": "d1e16a60",
   "metadata": {},
   "source": [
    "### \n",
    "### 2. 평균검정 \n",
    "- **귀무가설 : 데이터의 평균은 $\\mu$이다 / 대립가설 : 데이터의 평균은 $\\mu$이 아니다.**\n",
    "\n",
    "\n",
    "### &nbsp;&nbsp; 2-1. 정규성 만족시 => ```t.test(x, alternative, mu, paired, var.equal, conf.level)``` \n",
    "### &nbsp;&nbsp; 2-2. 정규성 불만족시 => ```wilcox.test(x, alternative, mu, paired, conf.level)```\n",
    "\n",
    "**```alternative = \"greater```\" => 귀무가설 : x의 평균이 $\\mu$보다 크다**\n",
    "\n",
    "**```alternative = \"less```\" => 귀무가설 : x의 평균이 $\\mu$보다 작다**"
   ]
  },
  {
   "cell_type": "code",
   "execution_count": 113,
   "id": "a97554f9",
   "metadata": {},
   "outputs": [
    {
     "data": {
      "text/plain": [
       "\n",
       "\tOne Sample t-test\n",
       "\n",
       "data:  data$time\n",
       "t = -4.8996, df = 108, p-value = 3.395e-06\n",
       "alternative hypothesis: true mean is not equal to 6\n",
       "95 percent confidence interval:\n",
       " 5.377613 5.736148\n",
       "sample estimates:\n",
       "mean of x \n",
       " 5.556881 \n"
      ]
     },
     "metadata": {},
     "output_type": "display_data"
    }
   ],
   "source": [
    "t.test(data$time, mu = 6, alternative = \"two.sided\")"
   ]
  },
  {
   "cell_type": "code",
   "execution_count": 114,
   "id": "7e1acfee",
   "metadata": {
    "scrolled": true
   },
   "outputs": [
    {
     "data": {
      "text/plain": [
       "\n",
       "\tWilcoxon signed rank test with continuity correction\n",
       "\n",
       "data:  data$time\n",
       "V = 1394, p-value = 5.509e-06\n",
       "alternative hypothesis: true location is not equal to 6\n"
      ]
     },
     "metadata": {},
     "output_type": "display_data"
    }
   ],
   "source": [
    "wilcox.test(data$time, mu = 6, alternative = \"two.sided\")"
   ]
  },
  {
   "cell_type": "markdown",
   "id": "d91cd738",
   "metadata": {},
   "source": [
    "### \n",
    "### 3. 검정통계량 및 유의확률 계산\n",
    "### t검정통계량 : $t_0 = {{\\bar{x}-\\mu_0} \\over {s / \\sqrt{n}}} \\sim t(df),\\;\\;\\;\\; df = n - 1$\n",
    "- **표준오차 : ${s \\over \\sqrt{n}}$**"
   ]
  },
  {
   "cell_type": "code",
   "execution_count": 115,
   "id": "9a6707a9",
   "metadata": {},
   "outputs": [
    {
     "data": {
      "text/html": [
       "-4.89960609431913"
      ],
      "text/latex": [
       "-4.89960609431913"
      ],
      "text/markdown": [
       "-4.89960609431913"
      ],
      "text/plain": [
       "[1] -4.899606"
      ]
     },
     "metadata": {},
     "output_type": "display_data"
    },
    {
     "data": {
      "text/html": [
       "5.7361480550742"
      ],
      "text/latex": [
       "5.7361480550742"
      ],
      "text/markdown": [
       "5.7361480550742"
      ],
      "text/plain": [
       "[1] 5.736148"
      ]
     },
     "metadata": {},
     "output_type": "display_data"
    },
    {
     "data": {
      "text/html": [
       "5.37761341281571"
      ],
      "text/latex": [
       "5.37761341281571"
      ],
      "text/markdown": [
       "5.37761341281571"
      ],
      "text/plain": [
       "[1] 5.377613"
      ]
     },
     "metadata": {},
     "output_type": "display_data"
    }
   ],
   "source": [
    "xbar <- mean(data$time) ; s = sd(data$time) ; n = data$time %>% length ; mu = 6\n",
    "(xbar - mu) / (s / sqrt(n))\n",
    "xbar + qt(0.975, df = n - 1) * s / sqrt(n)\n",
    "xbar + qt(0.025, df = n - 1) * s / sqrt(n)"
   ]
  },
  {
   "cell_type": "markdown",
   "id": "4704591b",
   "metadata": {},
   "source": [
    "# \n",
    "# \n",
    "## 이표본 검정"
   ]
  },
  {
   "cell_type": "code",
   "execution_count": 80,
   "id": "d9de753f",
   "metadata": {},
   "outputs": [
    {
     "data": {
      "text/html": [
       "<style>\n",
       ".dl-inline {width: auto; margin:0; padding: 0}\n",
       ".dl-inline>dt, .dl-inline>dd {float: none; width: auto; display: inline-block}\n",
       ".dl-inline>dt::after {content: \":\\0020\"; padding-right: .5ex}\n",
       ".dl-inline>dt:not(:first-of-type) {padding-left: .5ex}\n",
       "</style><dl class=dl-inline><dt>1</dt><dd>150</dd><dt>2</dt><dd>150</dd></dl>\n"
      ],
      "text/latex": [
       "\\begin{description*}\n",
       "\\item[1] 150\n",
       "\\item[2] 150\n",
       "\\end{description*}\n"
      ],
      "text/markdown": [
       "1\n",
       ":   1502\n",
       ":   150\n",
       "\n"
      ],
      "text/plain": [
       "  1   2 \n",
       "150 150 "
      ]
     },
     "metadata": {},
     "output_type": "display_data"
    },
    {
     "data": {
      "text/html": [
       "<style>\n",
       ".dl-inline {width: auto; margin:0; padding: 0}\n",
       ".dl-inline>dt, .dl-inline>dd {float: none; width: auto; display: inline-block}\n",
       ".dl-inline>dt::after {content: \":\\0020\"; padding-right: .5ex}\n",
       ".dl-inline>dt:not(:first-of-type) {padding-left: .5ex}\n",
       "</style><dl class=dl-inline><dt>0</dt><dd>55</dd><dt>1</dt><dd>245</dd></dl>\n"
      ],
      "text/latex": [
       "\\begin{description*}\n",
       "\\item[0] 55\n",
       "\\item[1] 245\n",
       "\\end{description*}\n"
      ],
      "text/markdown": [
       "0\n",
       ":   551\n",
       ":   245\n",
       "\n"
      ],
      "text/plain": [
       "  0   1 \n",
       " 55 245 "
      ]
     },
     "metadata": {},
     "output_type": "display_data"
    },
    {
     "data": {
      "text/plain": [
       "   \n",
       "      0   1\n",
       "  1  40 110\n",
       "  2  15 135"
      ]
     },
     "metadata": {},
     "output_type": "display_data"
    }
   ],
   "source": [
    "data <- read.csv(\"C:/Soongsil/R/빅데이터 R프로그래밍/Rwork-2nd/Part-III/two_sample.csv\")\n",
    "factor(data$method) %>% summary; factor(data$survey) %>% summary\n",
    "table(data$method, data$survey)"
   ]
  },
  {
   "cell_type": "markdown",
   "id": "7c414470",
   "metadata": {},
   "source": [
    "### \n",
    "### 이표본 비율검정 : 두 집단 간 성공확률에 차이가 있는지를 검정\n",
    "- **귀무가설 : 두 집단 간 성공확률은 동일하다 / 대립가설 : 두 집단 간 성공확률은 차이가 있다**\n",
    "\n",
    "### ```prop.test(x, n, p, alternative, conf.level)```  \n",
    "\n",
    "**```alternative = \"greater```\" => 귀무가설 : 첫 번째 비율이 두 번째 비율보다 크다**\n",
    "\n",
    "**```alternative = \"less```\" => 귀무가설 : 첫 번째 비율이 두 번째 비율보다 작다**"
   ]
  },
  {
   "cell_type": "code",
   "execution_count": 81,
   "id": "cb01088e",
   "metadata": {},
   "outputs": [
    {
     "data": {
      "text/plain": [
       "\n",
       "\t2-sample test for equality of proportions with continuity correction\n",
       "\n",
       "data:  c(110, 135) out of c(150, 150)\n",
       "X-squared = 12.824, df = 1, p-value = 0.0003422\n",
       "alternative hypothesis: two.sided\n",
       "95 percent confidence interval:\n",
       " -0.25884941 -0.07448392\n",
       "sample estimates:\n",
       "   prop 1    prop 2 \n",
       "0.7333333 0.9000000 \n"
      ]
     },
     "metadata": {},
     "output_type": "display_data"
    }
   ],
   "source": [
    "prop.test(x = c(110, 135), n = c(150, 150), alternative = \"two.sided\", conf.level = 0.95)"
   ]
  },
  {
   "cell_type": "markdown",
   "id": "d6642f30",
   "metadata": {},
   "source": [
    "- p < 0.05 => 귀무가설 기각 => data$method별 '1'의 비율 (성공확률)에는 차이가 있다"
   ]
  },
  {
   "cell_type": "markdown",
   "id": "6869b170",
   "metadata": {},
   "source": [
    "## \n",
    "### 이표본 평균검정 \n",
    "### 대응표본 t검정 (전 / 후 비교)\n",
    "- **귀무가설 : 두 집단의 모평균 간에는 차이가 없다 / 대립가설 : 두 집단의 모평균 간에는 차이가 있다**\n",
    "- **가정 : 모집단의 관측값이 정규성을 만족**\n",
    "\n",
    "### 절차\n",
    "- **가설설정 => 유의수준 설정 => 검정통계량 및 유의확률 계산 => 귀무가설 기각여부 판단**\n",
    "### \n",
    "\n",
    "### 1. 정규성 검정\n",
    "### 2. 등분산 검정 (동질성 검정)\n",
    "- **귀무가설 : 두 집단간 분포의 모양이 동질적이다 (등분산성 만족) / 대립가설 : 두 집단간 분포의 모양이 동질적이지 않다**\n",
    "- **등분산의 의미 : 모집단에서 추출된 표본이 균등하게 추출된 의미**\n",
    "- **이분산의 의미 : 추출된 표본이 특정 계층으로 편중되어 추출됨**\n",
    "\n",
    "\n",
    "### &nbsp;&nbsp; 2-1. 정규성 만족시 => ```var.test(A, B)``` : F검정\n",
    "### &nbsp;&nbsp;&nbsp;&nbsp; 검정통계량 $F = {{{\\sum^{n_A}_{i=1} (X_{Ai} - \\bar{X_A})^2} \\over {{n_A}-1}} \\over {{\\sum^{n_B}_{i=1}(Y_{Bi} - \\bar{Y_B})^2} \\over {{n_B}-1}}} = {V_{X_A} \\over V_{Y_B}} \\sim F(df_A, df_B)$\n",
    "\n",
    "\n",
    "### &nbsp;&nbsp; 2-1. 정규성 불만족시 => ```car::leveneTest(y, group)```\n",
    "- ```y``` : 검정하는 변수\n",
    "- ```group``` : 범주\n"
   ]
  },
  {
   "cell_type": "code",
   "execution_count": 180,
   "id": "350cd0d9",
   "metadata": {},
   "outputs": [],
   "source": [
    "data <- data.frame(before = c(7, 3, 4, 5, 2, 1, 6, 6, 5, 4),\n",
    "                   after = c(8, 4, 5, 6, 2, 3, 6, 8, 6, 5))"
   ]
  },
  {
   "cell_type": "code",
   "execution_count": 184,
   "id": "5cd250b4",
   "metadata": {
    "scrolled": true
   },
   "outputs": [
    {
     "data": {
      "text/plain": [
       "\n",
       "\tShapiro-Wilk normality test\n",
       "\n",
       "data:  data$after\n",
       "W = 0.94568, p-value = 0.6178\n"
      ]
     },
     "metadata": {},
     "output_type": "display_data"
    },
    {
     "data": {
      "text/plain": [
       "\n",
       "\tShapiro-Wilk normality test\n",
       "\n",
       "data:  data$before\n",
       "W = 0.96446, p-value = 0.8353\n"
      ]
     },
     "metadata": {},
     "output_type": "display_data"
    }
   ],
   "source": [
    "shapiro.test(data$after) ; shapiro.test(data$before)"
   ]
  },
  {
   "cell_type": "code",
   "execution_count": 172,
   "id": "674fb736",
   "metadata": {},
   "outputs": [
    {
     "data": {
      "text/plain": [
       "\n",
       "\tF test to compare two variances\n",
       "\n",
       "data:  data$after and data$before\n",
       "F = 1.0623, num df = 9, denom df = 9, p-value = 0.9297\n",
       "alternative hypothesis: true ratio of variances is not equal to 1\n",
       "95 percent confidence interval:\n",
       " 0.2638616 4.2768349\n",
       "sample estimates:\n",
       "ratio of variances \n",
       "          1.062305 \n"
      ]
     },
     "metadata": {},
     "output_type": "display_data"
    }
   ],
   "source": [
    "var.test(data$after, data$before)"
   ]
  },
  {
   "cell_type": "markdown",
   "id": "018a1119",
   "metadata": {},
   "source": [
    "- **F검정 검정통계량, 신뢰구간**"
   ]
  },
  {
   "cell_type": "code",
   "execution_count": 188,
   "id": "c76ec359",
   "metadata": {},
   "outputs": [],
   "source": [
    "var_A <- var(data$after) ; var_B <- var(data$before)\n",
    "n_A <- data$after %>% length ; n_B <- data$before %>% length"
   ]
  },
  {
   "cell_type": "code",
   "execution_count": 195,
   "id": "7f31c750",
   "metadata": {},
   "outputs": [
    {
     "data": {
      "text/html": [
       "1.06230529595016"
      ],
      "text/latex": [
       "1.06230529595016"
      ],
      "text/markdown": [
       "1.06230529595016"
      ],
      "text/plain": [
       "[1] 1.062305"
      ]
     },
     "metadata": {},
     "output_type": "display_data"
    },
    {
     "data": {
      "text/html": [
       "0.263861608881025"
      ],
      "text/latex": [
       "0.263861608881025"
      ],
      "text/markdown": [
       "0.263861608881025"
      ],
      "text/plain": [
       "[1] 0.2638616"
      ]
     },
     "metadata": {},
     "output_type": "display_data"
    },
    {
     "data": {
      "text/html": [
       "4.2768349158084"
      ],
      "text/latex": [
       "4.2768349158084"
      ],
      "text/markdown": [
       "4.2768349158084"
      ],
      "text/plain": [
       "[1] 4.276835"
      ]
     },
     "metadata": {},
     "output_type": "display_data"
    }
   ],
   "source": [
    "var_A / var_B\n",
    "(var_A / var_B) / qf(0.975, df = n - 1, df2 = n - 1)\n",
    "(var_A / var_B) * qf(0.975, df1 = n - 1, df2 = n - 1)"
   ]
  },
  {
   "cell_type": "markdown",
   "id": "01fa49fc",
   "metadata": {},
   "source": [
    "### \n",
    "### 3. 평균검정\n",
    "### ```t.test(x, y, alternative, paired = TRUE, m)```\n",
    "- ```paired``` : **대응표본 t검정 수행 여부 (TRUE : 대응표본 / FALSE : 독립표본)**\n",
    "- ```m``` : 검정의 기본값. 대응표본 t검정에서는 모평균의 차이가 0인지를 검정하기에 => m = 0\n",
    "\n",
    "**```alternative = \"greater```\" => 귀무가설 : 첫 번째 평균이 두 번째 평균보다 크다**\n",
    "\n",
    "**```alternative = \"less```\" => 귀무가설 : 첫 번째 평균이 두 번째 평균보다 작다**"
   ]
  },
  {
   "cell_type": "code",
   "execution_count": 126,
   "id": "6ad1da57",
   "metadata": {},
   "outputs": [
    {
     "data": {
      "text/plain": [
       "\n",
       "\tPaired t-test\n",
       "\n",
       "data:  data$before and data$after\n",
       "t = -4.7434, df = 9, p-value = 0.001054\n",
       "alternative hypothesis: true difference in means is not equal to 0\n",
       "95 percent confidence interval:\n",
       " -1.4769046 -0.5230954\n",
       "sample estimates:\n",
       "mean of the differences \n",
       "                     -1 \n"
      ]
     },
     "metadata": {},
     "output_type": "display_data"
    }
   ],
   "source": [
    "t.test(data$before, data$after, alternative = \"two.sided\", paired = TRUE)"
   ]
  },
  {
   "cell_type": "markdown",
   "id": "21ee4b0b",
   "metadata": {},
   "source": [
    "# \n",
    "### 4. 검정통계량 및 유의확률 계산\n",
    "### t검정통계량 : $t_0 = {{\\bar{D} - (\\mu_A - \\mu_B)} \\over {s_D / \\sqrt{n}}} \\sim t(df),\\;\\;\\;\\; df = n - 1$\n",
    "\n",
    "- **$\\bar{D}$** : 차이의 평균 / $s_D$ : 차이의 표준편차 / $\\mu_A$ : 전 평균 / $mu_B$ : 후 평균 / $n$ = 표본크기\n",
    "- **$\\mu_A - \\mu_B$의 표준오차 : $(\\mu_A - \\mu_B) \\over {s_D / \\sqrt{n}}$**"
   ]
  },
  {
   "cell_type": "code",
   "execution_count": 124,
   "id": "64f06d8b",
   "metadata": {},
   "outputs": [],
   "source": [
    "mu_AB <- mean(data$before - data$after) ; s_D <- sd(data$before - data$after) ; n = nrow(data) "
   ]
  },
  {
   "cell_type": "code",
   "execution_count": 125,
   "id": "66e5b0e9",
   "metadata": {},
   "outputs": [
    {
     "data": {
      "text/html": [
       "-4.74341649025257"
      ],
      "text/latex": [
       "-4.74341649025257"
      ],
      "text/markdown": [
       "-4.74341649025257"
      ],
      "text/plain": [
       "[1] -4.743416"
      ]
     },
     "metadata": {},
     "output_type": "display_data"
    },
    {
     "data": {
      "text/html": [
       "-0.523095396019557"
      ],
      "text/latex": [
       "-0.523095396019557"
      ],
      "text/markdown": [
       "-0.523095396019557"
      ],
      "text/plain": [
       "[1] -0.5230954"
      ]
     },
     "metadata": {},
     "output_type": "display_data"
    },
    {
     "data": {
      "text/html": [
       "-1.47690460398044"
      ],
      "text/latex": [
       "-1.47690460398044"
      ],
      "text/markdown": [
       "-1.47690460398044"
      ],
      "text/plain": [
       "[1] -1.476905"
      ]
     },
     "metadata": {},
     "output_type": "display_data"
    }
   ],
   "source": [
    "(mu_AB - 0) / (s_D / sqrt(n))\n",
    "mu_AB + qt(0.975, df = n - 1) * dsd / sqrt(n)\n",
    "mu_AB + qt(0.025, df = n - 1) * dsd / sqrt(n)"
   ]
  },
  {
   "cell_type": "markdown",
   "id": "e6807493",
   "metadata": {},
   "source": [
    "## \n",
    "### 이표본 평균검정 \n",
    "### 독립표본 t검정 (AB test)\n",
    "- **귀무가설 : 두 집단의 모평균 간에는 차이가 없다 / 대립가설 : 두 집단의 모평균 간에는 차이가 있다**\n",
    "- **가정 : 모집단의 관측값이 정규성을 만족 / 두 개의 모집단은 서로 독립적 / 두 모집단의 등분산성**\n",
    "\n",
    "### 절차\n",
    "- **가설설정 => 유의수준 설정 => 검정통계량 및 유의확률 계산 => 귀무가설 기각여부 판단**\n",
    "### \n",
    "\n",
    "### 1. 정규성 검정\n",
    "### 2. 등분산 검정 (동질성 검정, F검정)"
   ]
  },
  {
   "cell_type": "code",
   "execution_count": 143,
   "id": "c062616b",
   "metadata": {},
   "outputs": [],
   "source": [
    "library(MASS)"
   ]
  },
  {
   "cell_type": "code",
   "execution_count": 159,
   "id": "9df6ebc9",
   "metadata": {
    "scrolled": false
   },
   "outputs": [
    {
     "data": {
      "text/plain": [
       "\n",
       "\tShapiro-Wilk normality test\n",
       "\n",
       "data:  cats$Bwt\n",
       "W = 0.95188, p-value = 6.731e-05\n"
      ]
     },
     "metadata": {},
     "output_type": "display_data"
    },
    {
     "data": {
      "text/plain": [
       "\n",
       "\tShapiro-Wilk normality test\n",
       "\n",
       "data:  cats %>% filter(Sex == \"M\") %>% .$Bwt\n",
       "W = 0.97883, p-value = 0.119\n"
      ]
     },
     "metadata": {},
     "output_type": "display_data"
    },
    {
     "data": {
      "text/plain": [
       "\n",
       "\tShapiro-Wilk normality test\n",
       "\n",
       "data:  cats %>% filter(Sex == \"F\") %>% .$Bwt\n",
       "W = 0.89096, p-value = 0.0003754\n"
      ]
     },
     "metadata": {},
     "output_type": "display_data"
    }
   ],
   "source": [
    "shapiro.test(cats$Bwt)\n",
    "shapiro.test(cats %>% filter(Sex == \"M\") %>% .$Bwt) ; shapiro.test(cats %>% filter(Sex == \"F\") %>% .$Bwt) "
   ]
  },
  {
   "cell_type": "markdown",
   "id": "8cba4a3c",
   "metadata": {},
   "source": [
    "- 전체 데이터는 정규성 불만족\n",
    "- Sex가 \"M\"인 데이터는 정규성 만족, Sex가 \"F\"인 데이터는 정규성 불만족"
   ]
  },
  {
   "cell_type": "code",
   "execution_count": 161,
   "id": "586c05be",
   "metadata": {
    "scrolled": true
   },
   "outputs": [
    {
     "data": {
      "text/plain": [
       "\n",
       "\tF test to compare two variances\n",
       "\n",
       "data:  cats %>% filter(Sex == \"M\") %>% .$Bwt and cats %>% filter(Sex == \"F\") %>% .$Bwt\n",
       "F = 2.9112, num df = 96, denom df = 46, p-value = 0.0001157\n",
       "alternative hypothesis: true ratio of variances is not equal to 1\n",
       "95 percent confidence interval:\n",
       " 1.723106 4.703057\n",
       "sample estimates:\n",
       "ratio of variances \n",
       "          2.911196 \n"
      ]
     },
     "metadata": {},
     "output_type": "display_data"
    },
    {
     "data": {
      "text/html": [
       "<table class=\"dataframe\">\n",
       "<caption>A anova: 2 × 3</caption>\n",
       "<thead>\n",
       "\t<tr><th></th><th scope=col>Df</th><th scope=col>F value</th><th scope=col>Pr(&gt;F)</th></tr>\n",
       "\t<tr><th></th><th scope=col>&lt;int&gt;</th><th scope=col>&lt;dbl&gt;</th><th scope=col>&lt;dbl&gt;</th></tr>\n",
       "</thead>\n",
       "<tbody>\n",
       "\t<tr><th scope=row>group</th><td>  1</td><td>19.43101</td><td>2.043529e-05</td></tr>\n",
       "\t<tr><th scope=row> </th><td>142</td><td>      NA</td><td>          NA</td></tr>\n",
       "</tbody>\n",
       "</table>\n"
      ],
      "text/latex": [
       "A anova: 2 × 3\n",
       "\\begin{tabular}{r|lll}\n",
       "  & Df & F value & Pr(>F)\\\\\n",
       "  & <int> & <dbl> & <dbl>\\\\\n",
       "\\hline\n",
       "\tgroup &   1 & 19.43101 & 2.043529e-05\\\\\n",
       "\t  & 142 &       NA &           NA\\\\\n",
       "\\end{tabular}\n"
      ],
      "text/markdown": [
       "\n",
       "A anova: 2 × 3\n",
       "\n",
       "| <!--/--> | Df &lt;int&gt; | F value &lt;dbl&gt; | Pr(&gt;F) &lt;dbl&gt; |\n",
       "|---|---|---|---|\n",
       "| group |   1 | 19.43101 | 2.043529e-05 |\n",
       "| <!----> | 142 |       NA |           NA |\n",
       "\n"
      ],
      "text/plain": [
       "      Df  F value  Pr(>F)      \n",
       "group   1 19.43101 2.043529e-05\n",
       "      142       NA           NA"
      ]
     },
     "metadata": {},
     "output_type": "display_data"
    }
   ],
   "source": [
    "var.test(cats %>% filter(Sex == \"M\") %>% .$Bwt, cats %>% filter(Sex == \"F\") %>% .$Bwt)\n",
    "car::leveneTest(y = cats$Bwt, group = cats$Sex)"
   ]
  },
  {
   "cell_type": "markdown",
   "id": "c1b60d40",
   "metadata": {},
   "source": [
    "### \n",
    "### 3. 평균검정\n",
    "### ```t.test(x, y, alternative, paired = FALSE, m)```"
   ]
  },
  {
   "cell_type": "code",
   "execution_count": 162,
   "id": "3ef687c4",
   "metadata": {},
   "outputs": [
    {
     "data": {
      "text/plain": [
       "\n",
       "\tWelch Two Sample t-test\n",
       "\n",
       "data:  cats %>% filter(Sex == \"M\") %>% .$Bwt and cats %>% filter(Sex == \"F\") %>% .$Bwt\n",
       "t = 8.7095, df = 136.84, p-value = 8.831e-15\n",
       "alternative hypothesis: true difference in means is not equal to 0\n",
       "95 percent confidence interval:\n",
       " 0.4177242 0.6631268\n",
       "sample estimates:\n",
       "mean of x mean of y \n",
       " 2.900000  2.359574 \n"
      ]
     },
     "metadata": {},
     "output_type": "display_data"
    }
   ],
   "source": [
    "t.test(cats %>% filter(Sex == \"M\") %>% .$Bwt, cats %>% filter(Sex == \"F\") %>% .$Bwt, \n",
    "       alternative = \"two.sided\", paired = FALSE)"
   ]
  },
  {
   "cell_type": "markdown",
   "id": "7c6d40b9",
   "metadata": {},
   "source": [
    "# \n",
    "### 4. 검정통계량 및 유의확률 계산\n",
    "### t검정통계량 : $t_0 = {{(\\bar{X_A} - \\bar{X_B}) - D_0} \\over {s\\;\\sqrt{{1 \\over n_A} + {1 \\over n_B}}}} \\sim t(df),\\;\\;\\;\\; df = n_1 + n_2 - 2$\n",
    "\n",
    "- **$\\bar{D}$** : 차이의 평균 / $\\bar{X_A}$ : 표본A 평균 / $\\bar{X_B}$ : 표본B 평균 / $n_A$ = A표본 크기 / $n_B$ B표본 크기\n",
    "- **$\\bar{X_A} - \\bar{X_B}$의 표준오차 : ${s\\;\\sqrt{{1 \\over n_A} + {1 \\over n_B}}}$**"
   ]
  },
  {
   "cell_type": "markdown",
   "id": "6e04e1a6",
   "metadata": {},
   "source": [
    "# \n",
    "# \n",
    "## 교차분석\n",
    "### 분할표\n",
    "### ```gmodels::CrossTable(x, y)```"
   ]
  },
  {
   "cell_type": "code",
   "execution_count": 202,
   "id": "512d8607",
   "metadata": {},
   "outputs": [],
   "source": [
    "data(survey, package = \"MASS\")"
   ]
  },
  {
   "cell_type": "code",
   "execution_count": 204,
   "id": "aac44c25",
   "metadata": {},
   "outputs": [
    {
     "name": "stdout",
     "output_type": "stream",
     "text": [
      "\n",
      " \n",
      "   Cell Contents\n",
      "|-------------------------|\n",
      "|                       N |\n",
      "| Chi-square contribution |\n",
      "|           N / Row Total |\n",
      "|           N / Col Total |\n",
      "|         N / Table Total |\n",
      "|-------------------------|\n",
      "\n",
      " \n",
      "Total Observations in Table:  235 \n",
      "\n",
      " \n",
      "             | survey$Clap \n",
      "  survey$Sex |      Left |   Neither |     Right | Row Total | \n",
      "-------------|-----------|-----------|-----------|-----------|\n",
      "      Female |        21 |        24 |        73 |       118 | \n",
      "             |     0.103 |     0.015 |     0.009 |           | \n",
      "             |     0.178 |     0.203 |     0.619 |     0.502 | \n",
      "             |     0.538 |     0.490 |     0.497 |           | \n",
      "             |     0.089 |     0.102 |     0.311 |           | \n",
      "-------------|-----------|-----------|-----------|-----------|\n",
      "        Male |        18 |        25 |        74 |       117 | \n",
      "             |     0.103 |     0.015 |     0.009 |           | \n",
      "             |     0.154 |     0.214 |     0.632 |     0.498 | \n",
      "             |     0.462 |     0.510 |     0.503 |           | \n",
      "             |     0.077 |     0.106 |     0.315 |           | \n",
      "-------------|-----------|-----------|-----------|-----------|\n",
      "Column Total |        39 |        49 |       147 |       235 | \n",
      "             |     0.166 |     0.209 |     0.626 |           | \n",
      "-------------|-----------|-----------|-----------|-----------|\n",
      "\n",
      " \n"
     ]
    }
   ],
   "source": [
    "gmodels::CrossTable(survey$Sex, survey$Clap)"
   ]
  },
  {
   "cell_type": "markdown",
   "id": "6a19d9c9",
   "metadata": {},
   "source": [
    "## 일원 카이제곱 검정\n",
    "### 적합성 검정\n",
    "### ```chisq.test(x, y, p)```\n",
    "\n",
    "- **총합의 사전 설정 X**\n",
    "- **관측값들의 분포 확인 (모집단 분포에 대한 가정이 맞는지 확인)**\n",
    "\n",
    "####  귀무가설 : 실제 분포와 이론적 분포 간에는 차이가 없다 (두 분포는 일치) \n",
    "#### 대립가설 : 실제 분포와 이론적 분포 간에는 차이가 있다 (두 분포가 일치하지 않는다"
   ]
  },
  {
   "cell_type": "markdown",
   "id": "53a814b1",
   "metadata": {},
   "source": [
    "### 검정통계량 $\\chi^2 = \\sum^k_{i=1} {{(O_i - E_i)^2} \\over E_i} \\sim \\chi^2(k - 1)$\n",
    "- **$O_i$ : 관찰도수** / **$E_i$ : 기대도수** / **k : 범주의 개수**\n",
    "- **$\\chi^2$통계량이 큰 경우 => 관찰도수와 기대도수의 차이가 크며, 적합도가 낮다 (두 분포가 일치하지 않음)**\n",
    "- **$\\chi^2$통계량이 작은 경우 => 관찰도수와 기대도수의 차이가 작으며, 적합도가 높다 (두 분포가 일치)**\n"
   ]
  },
  {
   "cell_type": "code",
   "execution_count": 200,
   "id": "a706b85c",
   "metadata": {},
   "outputs": [
    {
     "data": {
      "text/plain": [
       "\n",
       " Left Right \n",
       "   18   218 "
      ]
     },
     "metadata": {},
     "output_type": "display_data"
    }
   ],
   "source": [
    "(data <- table(survey$W.Hnd))"
   ]
  },
  {
   "cell_type": "code",
   "execution_count": 201,
   "id": "61f3f3ee",
   "metadata": {},
   "outputs": [
    {
     "data": {
      "text/plain": [
       "\n",
       "\tChi-squared test for given probabilities\n",
       "\n",
       "data:  data\n",
       "X-squared = 22.581, df = 1, p-value = 2.015e-06\n"
      ]
     },
     "metadata": {},
     "output_type": "display_data"
    }
   ],
   "source": [
    "chisq.test(data, p = c(0.2, 0.8))"
   ]
  },
  {
   "cell_type": "markdown",
   "id": "59a55c4d",
   "metadata": {},
   "source": [
    "## 이원 카이제곱 검정 \n",
    "### 독립성 검정 \n",
    "### ```gmodels::CrossTable(x, y, chisq = TRUE)```\n",
    "\n",
    "- **총합이 사전 설정**\n",
    "- **모집단이 두 개의 변수에 의해 범주화되었을 때, 두 변수들 사이의 관계가 독립인지 아닌지를 검정**\n",
    "\n",
    "####  귀무가설 : 두 변수 사이에는 연관이 없다 (독립)\n",
    "#### 대립가설 : 두 변수 사이에는 연관이 있다 (종속)\n",
    "\n",
    "### 검정통계량 $\\chi^2 = \\sum^r_{i = 1} \\sum^c_{j=1} {{(O_{ij} - E_{ij})^2} \\over E_{ij}} \\sim \\chi^2((R-1)(C-1)$\n",
    "\n",
    "- **$E_{ij} = {{O_i \\times O_j} \\over n}$ : 기대빈도** / **$n$ : 전체 관측도수** / **$O_i$ : 행의 합** / **$O_j$ : 열의 합 / $O_{ij}$ : 관찰빈도**\n",
    "- **R : 행의 수 / C : 열의 수**\n",
    "- **$\\chi^2$통계량이 큰 경우 => 두 변수 사이에는 연관이 있다 (종속)**\n",
    "- **$\\chi^2$통계량이 작은 경우 => 두 변수 사이에는 연관이 없다 (독립)**"
   ]
  },
  {
   "cell_type": "code",
   "execution_count": 209,
   "id": "2cbd71e0",
   "metadata": {},
   "outputs": [
    {
     "name": "stderr",
     "output_type": "stream",
     "text": [
      "Warning message in chisq.test(t, correct = FALSE, ...):\n",
      "\"Chi-squared approximation may be incorrect\"\n"
     ]
    },
    {
     "name": "stdout",
     "output_type": "stream",
     "text": [
      "\n",
      " \n",
      "   Cell Contents\n",
      "|-------------------------|\n",
      "|                       N |\n",
      "| Chi-square contribution |\n",
      "|           N / Row Total |\n",
      "|           N / Col Total |\n",
      "|         N / Table Total |\n",
      "|-------------------------|\n",
      "\n",
      " \n",
      "Total Observations in Table:  236 \n",
      "\n",
      " \n",
      "             | survey$Exer \n",
      "survey$W.Hnd |      Freq |      None |      Some | Row Total | \n",
      "-------------|-----------|-----------|-----------|-----------|\n",
      "        Left |         7 |         3 |         8 |        18 | \n",
      "             |     0.330 |     0.747 |     0.037 |           | \n",
      "             |     0.389 |     0.167 |     0.444 |     0.076 | \n",
      "             |     0.061 |     0.125 |     0.082 |           | \n",
      "             |     0.030 |     0.013 |     0.034 |           | \n",
      "-------------|-----------|-----------|-----------|-----------|\n",
      "       Right |       107 |        21 |        90 |       218 | \n",
      "             |     0.027 |     0.062 |     0.003 |           | \n",
      "             |     0.491 |     0.096 |     0.413 |     0.924 | \n",
      "             |     0.939 |     0.875 |     0.918 |           | \n",
      "             |     0.453 |     0.089 |     0.381 |           | \n",
      "-------------|-----------|-----------|-----------|-----------|\n",
      "Column Total |       114 |        24 |        98 |       236 | \n",
      "             |     0.483 |     0.102 |     0.415 |           | \n",
      "-------------|-----------|-----------|-----------|-----------|\n",
      "\n",
      " \n",
      "Statistics for All Table Factors\n",
      "\n",
      "\n",
      "Pearson's Chi-squared test \n",
      "------------------------------------------------------------\n",
      "Chi^2 =  1.206526     d.f. =  2     p =  0.5470239 \n",
      "\n",
      "\n",
      " \n"
     ]
    }
   ],
   "source": [
    "gmodels::CrossTable(survey$W.Hnd, survey$Exer, chisq = TRUE)\n",
    "# chisq.test(table(urvey$W.Hnd, survey$Exer))"
   ]
  },
  {
   "cell_type": "markdown",
   "id": "1582ae52",
   "metadata": {},
   "source": [
    "# \n",
    "### 동질성 검정\n",
    "- **행합이 사전 설정**\n",
    "- **모집단이 임의의 변수에 따라 R개의 속성으로 범주화 되었을 때, R개의 부분 모집단에서 추출한 각 표본인 C개의 범주화된 집단의 분포가 서로 동일한지를 검정**\n",
    "- **계산법과 검증법은 독립성 검정과 동일**\n",
    "\n",
    "####  귀무가설 : $P_{1j} = P_{2j} = ... = P_{rj}$ (모든 $P_{nj}$는 동일)\n",
    "#### 대립가설 : $P_{nj}$중 다른 값이 하나 이상 존재 (Not $H_0$) \n",
    "\n",
    "### 검정통계량 $\\chi^2 = \\sum^r_{i = 1} \\sum^c_{j=1} {{(O_{ij} - E_{ij})^2} \\over E_{ij}} \\sim \\chi^2((R-1)(C-1)$\n",
    "\n",
    "- **$E_{ij} = {{O_i \\times O_j} \\over n}$ : 기대빈도** / **$n$ : 전체 관측도수** / **$O_i$ : 행의 합** / **$O_j$ : 열의 합 / $O_{ij}$ : 관찰빈도**\n",
    "- **R : 행의 수 / C : 열의 수**\n",
    "- **$\\chi^2$통계량이 큰 경우 => $P_{nj}$중 다른 값이 하나 이상 존재**\n",
    "- **$\\chi^2$통계량이 작은 경우 => 모든 $P_{nj}$는 동일**"
   ]
  }
 ],
 "metadata": {
  "kernelspec": {
   "display_name": "R 4.1.3",
   "language": "R",
   "name": "ir32"
  },
  "language_info": {
   "codemirror_mode": "r",
   "file_extension": ".r",
   "mimetype": "text/x-r-source",
   "name": "R",
   "pygments_lexer": "r",
   "version": "4.1.3"
  }
 },
 "nbformat": 4,
 "nbformat_minor": 5
}
