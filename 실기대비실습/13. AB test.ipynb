{
 "cells": [
  {
   "cell_type": "code",
   "execution_count": 67,
   "id": "db4a4ac0",
   "metadata": {},
   "outputs": [],
   "source": [
    "library(tidyverse)\n",
    "library(readxl)\n",
    "ggplot2::theme_set(theme_classic())"
   ]
  },
  {
   "cell_type": "code",
   "execution_count": 19,
   "id": "8046f240",
   "metadata": {},
   "outputs": [],
   "source": [
    "adver <- read_excel(\"C:/Soongsil/R/실무 예제/abtest.xlsx\", sheet = 1)"
   ]
  },
  {
   "cell_type": "code",
   "execution_count": 20,
   "id": "07017b1a",
   "metadata": {},
   "outputs": [
    {
     "name": "stdout",
     "output_type": "stream",
     "text": [
      "Rows: 43,968\n",
      "Columns: 9\n",
      "$ city1      \u001b[3m\u001b[90m<chr>\u001b[39m\u001b[23m \"강원도\", \"강원도\", \"강원도\", \"강원도\", \"강원도\", \"강원도\",~\n",
      "$ city2      \u001b[3m\u001b[90m<chr>\u001b[39m\u001b[23m \"강릉시\", \"강릉시\", \"강릉시\", \"강릉시\", \"강릉시\", \"강릉시\",~\n",
      "$ age        \u001b[3m\u001b[90m<dbl>\u001b[39m\u001b[23m 18, 19, 20, 21, 22, 23, 24, 25, 26, 27, 28, 29, 30, 31, 32,~\n",
      "$ sex        \u001b[3m\u001b[90m<chr>\u001b[39m\u001b[23m \"man\", \"man\", \"man\", \"man\", \"man\", \"man\", \"man\", \"man\", \"ma~\n",
      "$ type       \u001b[3m\u001b[90m<chr>\u001b[39m\u001b[23m \"A_GROUP\", \"A_GROUP\", \"A_GROUP\", \"A_GROUP\", \"A_GROUP\", \"A_G~\n",
      "$ open       \u001b[3m\u001b[90m<dbl>\u001b[39m\u001b[23m 1503, 2314, 1978, 1821, 2204, 2229, 2208, 1843, 1530, 1387,~\n",
      "$ click      \u001b[3m\u001b[90m<dbl>\u001b[39m\u001b[23m 6, 44, 11, 18, 40, 12, 24, 18, 15, 25, 2, 22, 5, 5, 13, 8, ~\n",
      "$ conversion \u001b[3m\u001b[90m<dbl>\u001b[39m\u001b[23m 0, 1, 0, 0, 2, 0, 1, 0, 0, 0, 0, 0, 0, 0, 0, 0, 0, 1, 0, 0,~\n",
      "$ sales      \u001b[3m\u001b[90m<chr>\u001b[39m\u001b[23m \"NA\", \"NA\", \"NA\", \"0\", \"21180\", \"0\", \"33920\", \"0\", \"0\", \"0\"~\n"
     ]
    }
   ],
   "source": [
    "adver %>% glimpse"
   ]
  },
  {
   "cell_type": "markdown",
   "id": "0110d190",
   "metadata": {},
   "source": [
    "### \n",
    "### 결측값 제거"
   ]
  },
  {
   "cell_type": "code",
   "execution_count": 21,
   "id": "f7628d7b",
   "metadata": {},
   "outputs": [
    {
     "name": "stdout",
     "output_type": "stream",
     "text": [
      "Rows: 40,304\n",
      "Columns: 9\n",
      "$ city1      \u001b[3m\u001b[90m<chr>\u001b[39m\u001b[23m \"강원도\", \"강원도\", \"강원도\", \"강원도\", \"강원도\", \"강원도\",~\n",
      "$ city2      \u001b[3m\u001b[90m<chr>\u001b[39m\u001b[23m \"강릉시\", \"강릉시\", \"강릉시\", \"강릉시\", \"강릉시\", \"강릉시\",~\n",
      "$ age        \u001b[3m\u001b[90m<dbl>\u001b[39m\u001b[23m 21, 22, 23, 24, 25, 26, 27, 28, 29, 30, 31, 32, 33, 34, 35,~\n",
      "$ sex        \u001b[3m\u001b[90m<chr>\u001b[39m\u001b[23m \"man\", \"man\", \"man\", \"man\", \"man\", \"man\", \"man\", \"man\", \"ma~\n",
      "$ type       \u001b[3m\u001b[90m<chr>\u001b[39m\u001b[23m \"A_GROUP\", \"A_GROUP\", \"A_GROUP\", \"A_GROUP\", \"A_GROUP\", \"A_G~\n",
      "$ open       \u001b[3m\u001b[90m<dbl>\u001b[39m\u001b[23m 1821, 2204, 2229, 2208, 1843, 1530, 1387, 1196, 1136, 1086,~\n",
      "$ click      \u001b[3m\u001b[90m<dbl>\u001b[39m\u001b[23m 18, 40, 12, 24, 18, 15, 25, 2, 22, 5, 5, 13, 8, 4, 14, 18, ~\n",
      "$ conversion \u001b[3m\u001b[90m<dbl>\u001b[39m\u001b[23m 0, 2, 0, 1, 0, 0, 0, 0, 0, 0, 0, 0, 0, 0, 1, 0, 0, 0, 0, 1,~\n",
      "$ sales      \u001b[3m\u001b[90m<chr>\u001b[39m\u001b[23m \"0\", \"21180\", \"0\", \"33920\", \"0\", \"0\", \"0\", \"0\", \"0\", \"0\", \"~\n"
     ]
    }
   ],
   "source": [
    "adver1 <- adver %>% \n",
    "    mutate(sales = ifelse(sales == \"NA\", NA, sales)) %>% \n",
    "    na.omit() %>% glimpse"
   ]
  },
  {
   "cell_type": "code",
   "execution_count": 29,
   "id": "0e6fa0c0",
   "metadata": {},
   "outputs": [
    {
     "data": {
      "text/html": [
       "<style>\n",
       ".list-inline {list-style: none; margin:0; padding: 0}\n",
       ".list-inline>li {display: inline-block}\n",
       ".list-inline>li:not(:last-child)::after {content: \"\\00b7\"; padding: 0 .5ex}\n",
       "</style>\n",
       "<ol class=list-inline><li>'강원도'</li><li>'경기도'</li><li>'경상남도'</li><li>'경상북도'</li><li>'광주광역시'</li><li>'대구광역시'</li></ol>\n"
      ],
      "text/latex": [
       "\\begin{enumerate*}\n",
       "\\item '강원도'\n",
       "\\item '경기도'\n",
       "\\item '경상남도'\n",
       "\\item '경상북도'\n",
       "\\item '광주광역시'\n",
       "\\item '대구광역시'\n",
       "\\end{enumerate*}\n"
      ],
      "text/markdown": [
       "1. '강원도'\n",
       "2. '경기도'\n",
       "3. '경상남도'\n",
       "4. '경상북도'\n",
       "5. '광주광역시'\n",
       "6. '대구광역시'\n",
       "\n",
       "\n"
      ],
      "text/plain": [
       "[1] \"강원도\"     \"경기도\"     \"경상남도\"   \"경상북도\"   \"광주광역시\"\n",
       "[6] \"대구광역시\""
      ]
     },
     "metadata": {},
     "output_type": "display_data"
    },
    {
     "data": {
      "text/html": [
       "<style>\n",
       ".list-inline {list-style: none; margin:0; padding: 0}\n",
       ".list-inline>li {display: inline-block}\n",
       ".list-inline>li:not(:last-child)::after {content: \"\\00b7\"; padding: 0 .5ex}\n",
       "</style>\n",
       "<ol class=list-inline><li>'강릉시'</li><li>'고성군'</li><li>'동해시'</li><li>'삼척시'</li><li>'속초시'</li><li>'양구군'</li></ol>\n"
      ],
      "text/latex": [
       "\\begin{enumerate*}\n",
       "\\item '강릉시'\n",
       "\\item '고성군'\n",
       "\\item '동해시'\n",
       "\\item '삼척시'\n",
       "\\item '속초시'\n",
       "\\item '양구군'\n",
       "\\end{enumerate*}\n"
      ],
      "text/markdown": [
       "1. '강릉시'\n",
       "2. '고성군'\n",
       "3. '동해시'\n",
       "4. '삼척시'\n",
       "5. '속초시'\n",
       "6. '양구군'\n",
       "\n",
       "\n"
      ],
      "text/plain": [
       "[1] \"강릉시\" \"고성군\" \"동해시\" \"삼척시\" \"속초시\" \"양구군\""
      ]
     },
     "metadata": {},
     "output_type": "display_data"
    }
   ],
   "source": [
    "unique(adver1$city1) %>% head ; "
   ]
  },
  {
   "cell_type": "code",
   "execution_count": 36,
   "id": "544de319",
   "metadata": {
    "scrolled": true
   },
   "outputs": [
    {
     "data": {
      "text/html": [
       "<style>\n",
       ".list-inline {list-style: none; margin:0; padding: 0}\n",
       ".list-inline>li {display: inline-block}\n",
       ".list-inline>li:not(:last-child)::after {content: \"\\00b7\"; padding: 0 .5ex}\n",
       "</style>\n",
       "<ol class=list-inline><li>'강원도'</li><li>'경기도'</li><li>'경상남도'</li><li>'경상북도'</li><li>'광주광역시'</li><li>'대구광역시'</li><li>'대전광역시'</li><li>'부산광역시'</li><li>'서울특별시'</li><li>'세종특별자치시'</li><li>'울산광역시'</li><li>'인천광역시'</li><li>'전라남도'</li><li>'전라북도'</li><li>'제주특별자치도'</li><li>'충청남도'</li><li>'충청북도'</li></ol>\n"
      ],
      "text/latex": [
       "\\begin{enumerate*}\n",
       "\\item '강원도'\n",
       "\\item '경기도'\n",
       "\\item '경상남도'\n",
       "\\item '경상북도'\n",
       "\\item '광주광역시'\n",
       "\\item '대구광역시'\n",
       "\\item '대전광역시'\n",
       "\\item '부산광역시'\n",
       "\\item '서울특별시'\n",
       "\\item '세종특별자치시'\n",
       "\\item '울산광역시'\n",
       "\\item '인천광역시'\n",
       "\\item '전라남도'\n",
       "\\item '전라북도'\n",
       "\\item '제주특별자치도'\n",
       "\\item '충청남도'\n",
       "\\item '충청북도'\n",
       "\\end{enumerate*}\n"
      ],
      "text/markdown": [
       "1. '강원도'\n",
       "2. '경기도'\n",
       "3. '경상남도'\n",
       "4. '경상북도'\n",
       "5. '광주광역시'\n",
       "6. '대구광역시'\n",
       "7. '대전광역시'\n",
       "8. '부산광역시'\n",
       "9. '서울특별시'\n",
       "10. '세종특별자치시'\n",
       "11. '울산광역시'\n",
       "12. '인천광역시'\n",
       "13. '전라남도'\n",
       "14. '전라북도'\n",
       "15. '제주특별자치도'\n",
       "16. '충청남도'\n",
       "17. '충청북도'\n",
       "\n",
       "\n"
      ],
      "text/plain": [
       " [1] \"강원도\"         \"경기도\"         \"경상남도\"       \"경상북도\"      \n",
       " [5] \"광주광역시\"     \"대구광역시\"     \"대전광역시\"     \"부산광역시\"    \n",
       " [9] \"서울특별시\"     \"세종특별자치시\" \"울산광역시\"     \"인천광역시\"    \n",
       "[13] \"전라남도\"       \"전라북도\"       \"제주특별자치도\" \"충청남도\"      \n",
       "[17] \"충청북도\"      "
      ]
     },
     "metadata": {},
     "output_type": "display_data"
    },
    {
     "data": {
      "text/html": [
       "<style>\n",
       ".list-inline {list-style: none; margin:0; padding: 0}\n",
       ".list-inline>li {display: inline-block}\n",
       ".list-inline>li:not(:last-child)::after {content: \"\\00b7\"; padding: 0 .5ex}\n",
       "</style>\n",
       "<ol class=list-inline><li>'강릉시'</li><li>'고성군'</li><li>'동해시'</li><li>'삼척시'</li><li>'속초시'</li><li>'양구군'</li></ol>\n"
      ],
      "text/latex": [
       "\\begin{enumerate*}\n",
       "\\item '강릉시'\n",
       "\\item '고성군'\n",
       "\\item '동해시'\n",
       "\\item '삼척시'\n",
       "\\item '속초시'\n",
       "\\item '양구군'\n",
       "\\end{enumerate*}\n"
      ],
      "text/markdown": [
       "1. '강릉시'\n",
       "2. '고성군'\n",
       "3. '동해시'\n",
       "4. '삼척시'\n",
       "5. '속초시'\n",
       "6. '양구군'\n",
       "\n",
       "\n"
      ],
      "text/plain": [
       "[1] \"강릉시\" \"고성군\" \"동해시\" \"삼척시\" \"속초시\" \"양구군\""
      ]
     },
     "metadata": {},
     "output_type": "display_data"
    },
    {
     "data": {
      "text/html": [
       "<style>\n",
       ".list-inline {list-style: none; margin:0; padding: 0}\n",
       ".list-inline>li {display: inline-block}\n",
       ".list-inline>li:not(:last-child)::after {content: \"\\00b7\"; padding: 0 .5ex}\n",
       "</style>\n",
       "<ol class=list-inline><li>'man'</li><li>'woman'</li></ol>\n"
      ],
      "text/latex": [
       "\\begin{enumerate*}\n",
       "\\item 'man'\n",
       "\\item 'woman'\n",
       "\\end{enumerate*}\n"
      ],
      "text/markdown": [
       "1. 'man'\n",
       "2. 'woman'\n",
       "\n",
       "\n"
      ],
      "text/plain": [
       "[1] \"man\"   \"woman\""
      ]
     },
     "metadata": {},
     "output_type": "display_data"
    },
    {
     "data": {
      "text/html": [
       "<style>\n",
       ".list-inline {list-style: none; margin:0; padding: 0}\n",
       ".list-inline>li {display: inline-block}\n",
       ".list-inline>li:not(:last-child)::after {content: \"\\00b7\"; padding: 0 .5ex}\n",
       "</style>\n",
       "<ol class=list-inline><li>'A_GROUP'</li><li>'B_GROUP'</li></ol>\n"
      ],
      "text/latex": [
       "\\begin{enumerate*}\n",
       "\\item 'A\\_GROUP'\n",
       "\\item 'B\\_GROUP'\n",
       "\\end{enumerate*}\n"
      ],
      "text/markdown": [
       "1. 'A_GROUP'\n",
       "2. 'B_GROUP'\n",
       "\n",
       "\n"
      ],
      "text/plain": [
       "[1] \"A_GROUP\" \"B_GROUP\""
      ]
     },
     "metadata": {},
     "output_type": "display_data"
    }
   ],
   "source": [
    "unique(adver1$city1) \n",
    "unique(adver1$city2) %>% head\n",
    "unique(adver1$sex)\n",
    "unique(adver1$type)"
   ]
  },
  {
   "cell_type": "markdown",
   "id": "a9f7ef94",
   "metadata": {},
   "source": [
    "## \n",
    "### 통계적 검정 (가설검정)\n",
    "\n",
    "### A/B test : 독립표본 t검정\n",
    "#### 귀무가설 : 'A_GROUP과 B_GROUP의 평균에는 차이가 없다'\n",
    "**광고 성과 측정 지표 : 광고 메일을 연 횟수 (open), 광고를 클릭한 횟수 (click), 구매전환 수 (conversion)**\n",
    "\n",
    "1. **정규성 검정**\n",
    "2. **등분산 검정**\n",
    "3. **독립표본 t검정**\n"
   ]
  },
  {
   "cell_type": "code",
   "execution_count": 39,
   "id": "5bdfce19",
   "metadata": {},
   "outputs": [
    {
     "data": {
      "text/html": [
       "<style>\n",
       ".list-inline {list-style: none; margin:0; padding: 0}\n",
       ".list-inline>li {display: inline-block}\n",
       ".list-inline>li:not(:last-child)::after {content: \"\\00b7\"; padding: 0 .5ex}\n",
       "</style>\n",
       "<ol class=list-inline><li>20152</li><li>9</li></ol>\n"
      ],
      "text/latex": [
       "\\begin{enumerate*}\n",
       "\\item 20152\n",
       "\\item 9\n",
       "\\end{enumerate*}\n"
      ],
      "text/markdown": [
       "1. 20152\n",
       "2. 9\n",
       "\n",
       "\n"
      ],
      "text/plain": [
       "[1] 20152     9"
      ]
     },
     "metadata": {},
     "output_type": "display_data"
    },
    {
     "data": {
      "text/html": [
       "<style>\n",
       ".list-inline {list-style: none; margin:0; padding: 0}\n",
       ".list-inline>li {display: inline-block}\n",
       ".list-inline>li:not(:last-child)::after {content: \"\\00b7\"; padding: 0 .5ex}\n",
       "</style>\n",
       "<ol class=list-inline><li>20152</li><li>9</li></ol>\n"
      ],
      "text/latex": [
       "\\begin{enumerate*}\n",
       "\\item 20152\n",
       "\\item 9\n",
       "\\end{enumerate*}\n"
      ],
      "text/markdown": [
       "1. 20152\n",
       "2. 9\n",
       "\n",
       "\n"
      ],
      "text/plain": [
       "[1] 20152     9"
      ]
     },
     "metadata": {},
     "output_type": "display_data"
    }
   ],
   "source": [
    "A <- adver1 %>% filter(type == 'A_GROUP')\n",
    "B <- adver1 %>% filter(type == 'B_GROUP')\n",
    "A %>% dim ; B %>% dim"
   ]
  },
  {
   "cell_type": "markdown",
   "id": "27993f9e",
   "metadata": {},
   "source": [
    "### \n",
    "### 정규성 검정\n",
    "#### 귀무가설 : 데이터는 정규분포를 따른다\n",
    "\n",
    "\n",
    "### \n",
    "#### **5000건 이하의 데이터**\n",
    "### ```shapiro.test()``` : 샤피로-윌크 검정 (Shapiro-Wilk)\n",
    "\n",
    "### \n",
    "\n",
    "#### **5000건 이상의 데이터**\n",
    "### ```nortest::ad.test()``` : 앤더슨-달링 검정 (Anderson-Darling)"
   ]
  },
  {
   "cell_type": "code",
   "execution_count": 40,
   "id": "e61d6d62",
   "metadata": {},
   "outputs": [],
   "source": [
    "library(nortest)"
   ]
  },
  {
   "cell_type": "markdown",
   "id": "7da0a2c6",
   "metadata": {},
   "source": [
    "#### A_GROUP 광고 성과 지표의 정규성 검정 => A_GROUP의 모든 광고 성과 지표는 정규성 불만족"
   ]
  },
  {
   "cell_type": "code",
   "execution_count": 44,
   "id": "bec948c6",
   "metadata": {},
   "outputs": [
    {
     "data": {
      "text/plain": [
       "\n",
       "\tAnderson-Darling normality test\n",
       "\n",
       "data:  A$open\n",
       "A = 1422.6, p-value < 2.2e-16\n"
      ]
     },
     "metadata": {},
     "output_type": "display_data"
    }
   ],
   "source": [
    "nortest::ad.test(A$open)"
   ]
  },
  {
   "cell_type": "code",
   "execution_count": 45,
   "id": "6b9bb317",
   "metadata": {},
   "outputs": [
    {
     "data": {
      "text/plain": [
       "\n",
       "\tAnderson-Darling normality test\n",
       "\n",
       "data:  A$click\n",
       "A = 2072.8, p-value < 2.2e-16\n"
      ]
     },
     "metadata": {},
     "output_type": "display_data"
    }
   ],
   "source": [
    "nortest::ad.test(A$click)"
   ]
  },
  {
   "cell_type": "code",
   "execution_count": 46,
   "id": "83688a8b",
   "metadata": {},
   "outputs": [
    {
     "data": {
      "text/plain": [
       "\n",
       "\tAnderson-Darling normality test\n",
       "\n",
       "data:  A$conversion\n",
       "A = 3351.7, p-value < 2.2e-16\n"
      ]
     },
     "metadata": {},
     "output_type": "display_data"
    }
   ],
   "source": [
    "nortest::ad.test(A$conversion)"
   ]
  },
  {
   "cell_type": "markdown",
   "id": "5e2c2714",
   "metadata": {},
   "source": [
    "#### B_GROUP 광고 성과 지표의 정규성 검정 => A_GROUP의 모든 광고 성과 지표는 정규성 불만족"
   ]
  },
  {
   "cell_type": "code",
   "execution_count": 47,
   "id": "cb49dfd1",
   "metadata": {},
   "outputs": [
    {
     "data": {
      "text/plain": [
       "\n",
       "\tAnderson-Darling normality test\n",
       "\n",
       "data:  B$open\n",
       "A = 1422.6, p-value < 2.2e-16\n"
      ]
     },
     "metadata": {},
     "output_type": "display_data"
    }
   ],
   "source": [
    "nortest::ad.test(B$open)"
   ]
  },
  {
   "cell_type": "code",
   "execution_count": 48,
   "id": "e2dfa35e",
   "metadata": {},
   "outputs": [
    {
     "data": {
      "text/plain": [
       "\n",
       "\tAnderson-Darling normality test\n",
       "\n",
       "data:  B$click\n",
       "A = 2112.3, p-value < 2.2e-16\n"
      ]
     },
     "metadata": {},
     "output_type": "display_data"
    }
   ],
   "source": [
    "nortest::ad.test(B$click)"
   ]
  },
  {
   "cell_type": "code",
   "execution_count": 49,
   "id": "860137f5",
   "metadata": {},
   "outputs": [
    {
     "data": {
      "text/plain": [
       "\n",
       "\tAnderson-Darling normality test\n",
       "\n",
       "data:  B$conversion\n",
       "A = 2715.6, p-value < 2.2e-16\n"
      ]
     },
     "metadata": {},
     "output_type": "display_data"
    }
   ],
   "source": [
    "nortest::ad.test(B$conversion)"
   ]
  },
  {
   "cell_type": "markdown",
   "id": "e81acbdb",
   "metadata": {},
   "source": [
    "### \n",
    "### 등분산 검정\n",
    "#### 귀무가설 : 집단 간에 등분산 만족\n",
    "\n",
    "\n",
    "### \n",
    "#### **정규성 만족 시**\n",
    "### ```var.test(A, B)```\n",
    "\n",
    "### \n",
    "\n",
    "#### **정규성 불만족 시**\n",
    "### ```car::LeveneTest(y, group)``` \n",
    "- ```y``` : 검정하는 변수\n",
    "- ```group``` : 범주 "
   ]
  },
  {
   "cell_type": "markdown",
   "id": "32a8b0a5",
   "metadata": {},
   "source": [
    "####  광고 성과 지표의 A_GROUP과 B_GROUP간 등분산 검정\n",
    "- **open은 A_GROUP과 B_GROUP간 등분산성 만족**\n",
    "- **click과 conversion은 A_GROUP과 B_GROUP간 등분산성 불만족**"
   ]
  },
  {
   "cell_type": "code",
   "execution_count": 56,
   "id": "cd7e4ee9",
   "metadata": {},
   "outputs": [],
   "source": [
    "library(car)"
   ]
  },
  {
   "cell_type": "code",
   "execution_count": 57,
   "id": "c9f4e147",
   "metadata": {},
   "outputs": [
    {
     "data": {
      "text/html": [
       "<table class=\"dataframe\">\n",
       "<caption>A anova: 2 × 3</caption>\n",
       "<thead>\n",
       "\t<tr><th></th><th scope=col>Df</th><th scope=col>F value</th><th scope=col>Pr(&gt;F)</th></tr>\n",
       "\t<tr><th></th><th scope=col>&lt;int&gt;</th><th scope=col>&lt;dbl&gt;</th><th scope=col>&lt;dbl&gt;</th></tr>\n",
       "</thead>\n",
       "<tbody>\n",
       "\t<tr><th scope=row>group</th><td>    1</td><td>5.196354e-26</td><td> 1</td></tr>\n",
       "\t<tr><th scope=row> </th><td>40302</td><td>          NA</td><td>NA</td></tr>\n",
       "</tbody>\n",
       "</table>\n"
      ],
      "text/latex": [
       "A anova: 2 × 3\n",
       "\\begin{tabular}{r|lll}\n",
       "  & Df & F value & Pr(>F)\\\\\n",
       "  & <int> & <dbl> & <dbl>\\\\\n",
       "\\hline\n",
       "\tgroup &     1 & 5.196354e-26 &  1\\\\\n",
       "\t  & 40302 &           NA & NA\\\\\n",
       "\\end{tabular}\n"
      ],
      "text/markdown": [
       "\n",
       "A anova: 2 × 3\n",
       "\n",
       "| <!--/--> | Df &lt;int&gt; | F value &lt;dbl&gt; | Pr(&gt;F) &lt;dbl&gt; |\n",
       "|---|---|---|---|\n",
       "| group |     1 | 5.196354e-26 |  1 |\n",
       "| <!----> | 40302 |           NA | NA |\n",
       "\n"
      ],
      "text/plain": [
       "      Df    F value      Pr(>F)\n",
       "group     1 5.196354e-26  1    \n",
       "      40302           NA NA    "
      ]
     },
     "metadata": {},
     "output_type": "display_data"
    }
   ],
   "source": [
    "car::leveneTest(y = adver1$open, group = factor(adver1$type))\n",
    "# var.test(A$open, B$open)"
   ]
  },
  {
   "cell_type": "code",
   "execution_count": 60,
   "id": "1015d9fb",
   "metadata": {},
   "outputs": [
    {
     "data": {
      "text/html": [
       "<table class=\"dataframe\">\n",
       "<caption>A anova: 2 × 3</caption>\n",
       "<thead>\n",
       "\t<tr><th></th><th scope=col>Df</th><th scope=col>F value</th><th scope=col>Pr(&gt;F)</th></tr>\n",
       "\t<tr><th></th><th scope=col>&lt;int&gt;</th><th scope=col>&lt;dbl&gt;</th><th scope=col>&lt;dbl&gt;</th></tr>\n",
       "</thead>\n",
       "<tbody>\n",
       "\t<tr><th scope=row>group</th><td>    1</td><td>1617.348</td><td> 0</td></tr>\n",
       "\t<tr><th scope=row> </th><td>40302</td><td>      NA</td><td>NA</td></tr>\n",
       "</tbody>\n",
       "</table>\n"
      ],
      "text/latex": [
       "A anova: 2 × 3\n",
       "\\begin{tabular}{r|lll}\n",
       "  & Df & F value & Pr(>F)\\\\\n",
       "  & <int> & <dbl> & <dbl>\\\\\n",
       "\\hline\n",
       "\tgroup &     1 & 1617.348 &  0\\\\\n",
       "\t  & 40302 &       NA & NA\\\\\n",
       "\\end{tabular}\n"
      ],
      "text/markdown": [
       "\n",
       "A anova: 2 × 3\n",
       "\n",
       "| <!--/--> | Df &lt;int&gt; | F value &lt;dbl&gt; | Pr(&gt;F) &lt;dbl&gt; |\n",
       "|---|---|---|---|\n",
       "| group |     1 | 1617.348 |  0 |\n",
       "| <!----> | 40302 |       NA | NA |\n",
       "\n"
      ],
      "text/plain": [
       "      Df    F value  Pr(>F)\n",
       "group     1 1617.348  0    \n",
       "      40302       NA NA    "
      ]
     },
     "metadata": {},
     "output_type": "display_data"
    }
   ],
   "source": [
    "car::leveneTest(y = adver1$click, group = factor(adver1$type))"
   ]
  },
  {
   "cell_type": "code",
   "execution_count": 61,
   "id": "9d41347b",
   "metadata": {
    "scrolled": true
   },
   "outputs": [
    {
     "data": {
      "text/html": [
       "<table class=\"dataframe\">\n",
       "<caption>A anova: 2 × 3</caption>\n",
       "<thead>\n",
       "\t<tr><th></th><th scope=col>Df</th><th scope=col>F value</th><th scope=col>Pr(&gt;F)</th></tr>\n",
       "\t<tr><th></th><th scope=col>&lt;int&gt;</th><th scope=col>&lt;dbl&gt;</th><th scope=col>&lt;dbl&gt;</th></tr>\n",
       "</thead>\n",
       "<tbody>\n",
       "\t<tr><th scope=row>group</th><td>    1</td><td>3262.103</td><td> 0</td></tr>\n",
       "\t<tr><th scope=row> </th><td>40302</td><td>      NA</td><td>NA</td></tr>\n",
       "</tbody>\n",
       "</table>\n"
      ],
      "text/latex": [
       "A anova: 2 × 3\n",
       "\\begin{tabular}{r|lll}\n",
       "  & Df & F value & Pr(>F)\\\\\n",
       "  & <int> & <dbl> & <dbl>\\\\\n",
       "\\hline\n",
       "\tgroup &     1 & 3262.103 &  0\\\\\n",
       "\t  & 40302 &       NA & NA\\\\\n",
       "\\end{tabular}\n"
      ],
      "text/markdown": [
       "\n",
       "A anova: 2 × 3\n",
       "\n",
       "| <!--/--> | Df &lt;int&gt; | F value &lt;dbl&gt; | Pr(&gt;F) &lt;dbl&gt; |\n",
       "|---|---|---|---|\n",
       "| group |     1 | 3262.103 |  0 |\n",
       "| <!----> | 40302 |       NA | NA |\n",
       "\n"
      ],
      "text/plain": [
       "      Df    F value  Pr(>F)\n",
       "group     1 3262.103  0    \n",
       "      40302       NA NA    "
      ]
     },
     "metadata": {},
     "output_type": "display_data"
    }
   ],
   "source": [
    "car::leveneTest(y = adver1$conversion, group = factor(adver1$type))"
   ]
  },
  {
   "cell_type": "markdown",
   "id": "bca3d10d",
   "metadata": {},
   "source": [
    "### \n",
    "### t검정 (독립표본 t검정) \n",
    "#### 귀무가설 : 두 집단간 평균의 차이는 없다\n",
    "\n",
    "### ```t.test(A, B)```"
   ]
  },
  {
   "cell_type": "markdown",
   "id": "694b567a",
   "metadata": {},
   "source": [
    "#### A_GROUP과 B_GROUP간 광고 성과 지표의 평균의 차이 \n",
    "- **open은 A_GROUP과 B_GROUP간 평균의 차이가 없다**"
   ]
  },
  {
   "cell_type": "code",
   "execution_count": 78,
   "id": "c85c3983",
   "metadata": {},
   "outputs": [
    {
     "data": {
      "image/png": "[encoded data removed]",
      "text/plain": [
       "plot without title"
      ]
     },
     "metadata": {
      "image/png": {
       "height": 420,
       "width": 420
      }
     },
     "output_type": "display_data"
    }
   ],
   "source": [
    "ggplot(adver1, aes(type, open)) + geom_boxplot(aes(group = type)) +\n",
    "    ggtitle(\"Open\") + \n",
    "    theme(title = element_text(size = 15, face = 'bold'),\n",
    "          axis.text.y = element_text(size = 12))"
   ]
  },
  {
   "cell_type": "code",
   "execution_count": 64,
   "id": "c61a7a8f",
   "metadata": {},
   "outputs": [
    {
     "data": {
      "text/plain": [
       "\n",
       "\tWelch Two Sample t-test\n",
       "\n",
       "data:  A$open and B$open\n",
       "t = 0, df = 40302, p-value = 1\n",
       "alternative hypothesis: true difference in means is not equal to 0\n",
       "95 percent confidence interval:\n",
       " -56.4458  56.4458\n",
       "sample estimates:\n",
       "mean of x mean of y \n",
       " 2450.751  2450.751 \n"
      ]
     },
     "metadata": {},
     "output_type": "display_data"
    }
   ],
   "source": [
    "t.test(A$open, B$open)"
   ]
  },
  {
   "cell_type": "markdown",
   "id": "15f119b2",
   "metadata": {},
   "source": [
    "### \n",
    "- **click과 conversion은 A_GROUP과 B_GROUP간 평균의 차이가 있다**"
   ]
  },
  {
   "cell_type": "code",
   "execution_count": 80,
   "id": "4882e2fb",
   "metadata": {},
   "outputs": [
    {
     "data": {
      "image/png": "[encoded data removed]",
      "text/plain": [
       "plot without title"
      ]
     },
     "metadata": {
      "image/png": {
       "height": 420,
       "width": 420
      }
     },
     "output_type": "display_data"
    }
   ],
   "source": [
    "ggplot(adver1, aes(type, click)) + geom_boxplot(aes(group = type)) +\n",
    "    ggtitle(\"Click\") + \n",
    "    theme(title = element_text(size = 15, face = 'bold'),\n",
    "          axis.text.y = element_text(size = 12))"
   ]
  },
  {
   "cell_type": "code",
   "execution_count": 65,
   "id": "53df234f",
   "metadata": {},
   "outputs": [
    {
     "data": {
      "text/plain": [
       "\n",
       "\tWelch Two Sample t-test\n",
       "\n",
       "data:  A$click and B$click\n",
       "t = -42.204, df = 29470, p-value < 2.2e-16\n",
       "alternative hypothesis: true difference in means is not equal to 0\n",
       "95 percent confidence interval:\n",
       " -25.42244 -23.16589\n",
       "sample estimates:\n",
       "mean of x mean of y \n",
       " 24.59339  48.88755 \n"
      ]
     },
     "metadata": {},
     "output_type": "display_data"
    }
   ],
   "source": [
    "t.test(A$click, B$click)"
   ]
  },
  {
   "cell_type": "code",
   "execution_count": 81,
   "id": "b361b83c",
   "metadata": {},
   "outputs": [
    {
     "data": {
      "image/png": "[encoded data removed]",
      "text/plain": [
       "plot without title"
      ]
     },
     "metadata": {
      "image/png": {
       "height": 420,
       "width": 420
      }
     },
     "output_type": "display_data"
    }
   ],
   "source": [
    "ggplot(adver1, aes(type, conversion)) + geom_boxplot(aes(group = type)) +\n",
    "    ggtitle(\"Conversion\") + \n",
    "    theme(title = element_text(size = 15, face = 'bold'),\n",
    "          axis.text.y = element_text(size = 12))"
   ]
  },
  {
   "cell_type": "code",
   "execution_count": 66,
   "id": "d0d0fac3",
   "metadata": {},
   "outputs": [
    {
     "data": {
      "text/plain": [
       "\n",
       "\tWelch Two Sample t-test\n",
       "\n",
       "data:  A$conversion and B$conversion\n",
       "t = -56.007, df = 22770, p-value < 2.2e-16\n",
       "alternative hypothesis: true difference in means is not equal to 0\n",
       "95 percent confidence interval:\n",
       " -1.90929 -1.78017\n",
       "sample estimates:\n",
       "mean of x mean of y \n",
       "0.5583069 2.4030369 \n"
      ]
     },
     "metadata": {},
     "output_type": "display_data"
    }
   ],
   "source": [
    "t.test(A$conversion, B$conversion)"
   ]
  }
 ],
 "metadata": {
  "kernelspec": {
   "display_name": "R 4.1.3",
   "language": "R",
   "name": "ir32"
  },
  "language_info": {
   "codemirror_mode": "r",
   "file_extension": ".r",
   "mimetype": "text/x-r-source",
   "name": "R",
   "pygments_lexer": "r",
   "version": "4.1.3"
  }
 },
 "nbformat": 4,
 "nbformat_minor": 5
}
