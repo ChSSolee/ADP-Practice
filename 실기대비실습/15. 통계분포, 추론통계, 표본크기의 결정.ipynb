{
 "cells": [
  {
   "cell_type": "markdown",
   "id": "88736ca6",
   "metadata": {},
   "source": [
    "## 통계분포\n",
    "### 난수 : 분포로부터 추출한 난수는, 분포를 갖는 확률변수 X의 실현값"
   ]
  },
  {
   "cell_type": "markdown",
   "id": "90551e09",
   "metadata": {},
   "source": [
    "## \n",
    "## 연속형 확률분포\n",
    "### 정규분포\n",
    "\n",
    "### $f(x) = {1 \\over {\\sigma \\sqrt{2 \\pi}}} e^{ -{1 \\over 2} ({{x-\\mu} \\over \\sigma})^2 } \\;\\;\\; 평균 = \\mu \\;\\;\\; 분산 = \\sigma^2$\n",
    "\n",
    "#### ```rnorm(n, mean, sd)``` : 평균이 mean, 표준편차가 sd인 정규분포를 따르는 n개의 난수추출"
   ]
  },
  {
   "cell_type": "code",
   "execution_count": 223,
   "id": "0d056a7e",
   "metadata": {},
   "outputs": [
    {
     "data": {
      "text/html": [
       "<style>\n",
       ".list-inline {list-style: none; margin:0; padding: 0}\n",
       ".list-inline>li {display: inline-block}\n",
       ".list-inline>li:not(:last-child)::after {content: \"\\00b7\"; padding: 0 .5ex}\n",
       "</style>\n",
       "<ol class=list-inline><li>-0.144098149398768</li><li>0.188624819313896</li><li>1.91373958123401</li><li>0.903242197171517</li><li>0.740380981882484</li><li>0.574714066440318</li><li>0.75881986797122</li><li>-0.513193719832171</li><li>0.511888784266071</li><li>-1.00235591177981</li></ol>\n"
      ],
      "text/latex": [
       "\\begin{enumerate*}\n",
       "\\item -0.144098149398768\n",
       "\\item 0.188624819313896\n",
       "\\item 1.91373958123401\n",
       "\\item 0.903242197171517\n",
       "\\item 0.740380981882484\n",
       "\\item 0.574714066440318\n",
       "\\item 0.75881986797122\n",
       "\\item -0.513193719832171\n",
       "\\item 0.511888784266071\n",
       "\\item -1.00235591177981\n",
       "\\end{enumerate*}\n"
      ],
      "text/markdown": [
       "1. -0.144098149398768\n",
       "2. 0.188624819313896\n",
       "3. 1.91373958123401\n",
       "4. 0.903242197171517\n",
       "5. 0.740380981882484\n",
       "6. 0.574714066440318\n",
       "7. 0.75881986797122\n",
       "8. -0.513193719832171\n",
       "9. 0.511888784266071\n",
       "10. -1.00235591177981\n",
       "\n",
       "\n"
      ],
      "text/plain": [
       " [1] -0.1440981  0.1886248  1.9137396  0.9032422  0.7403810  0.5747141\n",
       " [7]  0.7588199 -0.5131937  0.5118888 -1.0023559"
      ]
     },
     "metadata": {},
     "output_type": "display_data"
    }
   ],
   "source": [
    "rnorm(10, 0, 1)"
   ]
  },
  {
   "cell_type": "markdown",
   "id": "a2d07829",
   "metadata": {},
   "source": [
    "#### ```dnorm(x, mean, sd)``` : 평균이 mean, 표준편차가 sd인 정규분포에서, x의 확률밀도함수 값 $f(x)$\n"
   ]
  },
  {
   "cell_type": "code",
   "execution_count": 224,
   "id": "4b664489",
   "metadata": {
    "scrolled": true
   },
   "outputs": [
    {
     "data": {
      "text/html": [
       "0.0584409443334515"
      ],
      "text/latex": [
       "0.0584409443334515"
      ],
      "text/markdown": [
       "0.0584409443334515"
      ],
      "text/plain": [
       "[1] 0.05844094"
      ]
     },
     "metadata": {},
     "output_type": "display_data"
    }
   ],
   "source": [
    "dnorm(1.96, 0, 1)"
   ]
  },
  {
   "cell_type": "markdown",
   "id": "55e0c010",
   "metadata": {},
   "source": [
    "#### ```pnorm(q, mean, sd, lower.tail)``` : 평균이 mean, 표준편차가 sd인 정규분포에서 누적분포함수 값$P(X \\leq q)$\n",
    "- ```lower.tail``` : TRUE : 기본값 / FALSE : $1-P(X\\leq q)$"
   ]
  },
  {
   "cell_type": "code",
   "execution_count": 26,
   "id": "afd15214",
   "metadata": {},
   "outputs": [
    {
     "data": {
      "text/html": [
       "0.97500210485178"
      ],
      "text/latex": [
       "0.97500210485178"
      ],
      "text/markdown": [
       "0.97500210485178"
      ],
      "text/plain": [
       "[1] 0.9750021"
      ]
     },
     "metadata": {},
     "output_type": "display_data"
    },
    {
     "data": {
      "text/html": [
       "0.0249978951482204"
      ],
      "text/latex": [
       "0.0249978951482204"
      ],
      "text/markdown": [
       "0.0249978951482204"
      ],
      "text/plain": [
       "[1] 0.0249979"
      ]
     },
     "metadata": {},
     "output_type": "display_data"
    }
   ],
   "source": [
    "pnorm(1.96, 0, 1, lower.tail = T)\n",
    "pnorm(1.96, 0, 1, lower.tail = F)"
   ]
  },
  {
   "cell_type": "markdown",
   "id": "2a07086c",
   "metadata": {},
   "source": [
    "#### ```qnorm(p, mean, sd, lower.tail)``` : 평균이 mean, 표준편차가 sd인 정규분포에서 상위 p분위수"
   ]
  },
  {
   "cell_type": "code",
   "execution_count": 31,
   "id": "b14dd4b8",
   "metadata": {},
   "outputs": [
    {
     "data": {
      "text/html": [
       "1.95996398454005"
      ],
      "text/latex": [
       "1.95996398454005"
      ],
      "text/markdown": [
       "1.95996398454005"
      ],
      "text/plain": [
       "[1] 1.959964"
      ]
     },
     "metadata": {},
     "output_type": "display_data"
    }
   ],
   "source": [
    "qnorm(0.975) "
   ]
  },
  {
   "cell_type": "markdown",
   "id": "0d137d83",
   "metadata": {},
   "source": [
    "### \n",
    "# \n",
    "### 연속균등분포 (uniform)\n",
    "\n",
    "### $f(x) = {1 \\over {b-a}} \\;\\;\\; 평균 = {{a+b}\\over 2} \\;\\;\\; 분산 = {{(b-a)}^3\\over 12}$\n",
    "\n",
    "#### ```runif(n, min, size)``` : 최솟값이 min이고 최대값이 max인 연속균등분포에서, n개의 난수추출"
   ]
  },
  {
   "cell_type": "code",
   "execution_count": 39,
   "id": "87837be9",
   "metadata": {},
   "outputs": [
    {
     "data": {
      "text/html": [
       "<style>\n",
       ".list-inline {list-style: none; margin:0; padding: 0}\n",
       ".list-inline>li {display: inline-block}\n",
       ".list-inline>li:not(:last-child)::after {content: \"\\00b7\"; padding: 0 .5ex}\n",
       "</style>\n",
       "<ol class=list-inline><li>0.581839741673321</li><li>0.936103275045753</li><li>0.112629153998569</li><li>0.3222546428442</li><li>0.95572178135626</li><li>0.389617503853515</li><li>0.564025192521513</li><li>0.592039230512455</li><li>0.907320438651368</li><li>0.813443497056141</li></ol>\n"
      ],
      "text/latex": [
       "\\begin{enumerate*}\n",
       "\\item 0.581839741673321\n",
       "\\item 0.936103275045753\n",
       "\\item 0.112629153998569\n",
       "\\item 0.3222546428442\n",
       "\\item 0.95572178135626\n",
       "\\item 0.389617503853515\n",
       "\\item 0.564025192521513\n",
       "\\item 0.592039230512455\n",
       "\\item 0.907320438651368\n",
       "\\item 0.813443497056141\n",
       "\\end{enumerate*}\n"
      ],
      "text/markdown": [
       "1. 0.581839741673321\n",
       "2. 0.936103275045753\n",
       "3. 0.112629153998569\n",
       "4. 0.3222546428442\n",
       "5. 0.95572178135626\n",
       "6. 0.389617503853515\n",
       "7. 0.564025192521513\n",
       "8. 0.592039230512455\n",
       "9. 0.907320438651368\n",
       "10. 0.813443497056141\n",
       "\n",
       "\n"
      ],
      "text/plain": [
       " [1] 0.5818397 0.9361033 0.1126292 0.3222546 0.9557218 0.3896175 0.5640252\n",
       " [8] 0.5920392 0.9073204 0.8134435"
      ]
     },
     "metadata": {},
     "output_type": "display_data"
    }
   ],
   "source": [
    "runif(10, 0, 1)"
   ]
  },
  {
   "cell_type": "markdown",
   "id": "c0226f3b",
   "metadata": {},
   "source": [
    "#### ```dunif(x, min, size)``` : 최솟값이 min이고 최대값이 max인 연속균등분포에서, x의 확률밀도함수 값 $f(x)$\n",
    "#### ```punif(q, min, size, lower.tail)``` : 최솟값이 min이고 최대값이 max인 연속균등분포에서, 누적분포함수 값 $P(X \\leq q)$\n",
    "#### ```qunif(p, min, size, lower.tail)``` : 최솟값이 min이고 최대값이 max인 연속균등분포에서, 상위 p분위수"
   ]
  },
  {
   "cell_type": "markdown",
   "id": "17ae1ec7",
   "metadata": {},
   "source": [
    "### \n",
    "# \n",
    "### 지수분포\n",
    "\n",
    "### $f(x) = {{1\\over {\\beta}} e^{1/\\beta}}, \\;\\; x > 0 \\;\\;\\; 평균 = \\beta \\;\\;\\; 분산 = \\beta^2$"
   ]
  },
  {
   "cell_type": "markdown",
   "id": "269a8c1c",
   "metadata": {},
   "source": [
    "#### ```rexp(n, rate)``` : $\\beta\\;$(= 평균)이 1 / rate인 지수분포에서, n개의 난수추출\n",
    "#### ```dexp(x, rate)``` : $\\beta\\;$(= 평균)이 1 / rate인 지수분포에서, x의 확률밀도함수 값 $f(x)$\n",
    "#### ```pexp(q, rate, lower.tail)``` : $\\beta\\;$(= 평균)이 1 / rate인 지수분포에서, 누적분포함수 값 $P(X \\leq q)$\n",
    "#### ```qexp(p, rate, lower.tail)``` : $\\beta\\;$(= 평균)이 1 / rate인 지수분포에서, 상위 p분위수"
   ]
  },
  {
   "cell_type": "markdown",
   "id": "ecdae588",
   "metadata": {},
   "source": [
    "### \n",
    "# \n",
    "### 감마분포\n",
    "- **$1/\\lambda = \\theta$사건의 횟수 $(1/\\lambda)$가 포아송분포를 따른다면, 다음 사건이 일어날 대 까지의 대기시간 $\\theta$**\n",
    "\n",
    "\n",
    "\n",
    "### $f(x, k, \\theta) = {1 \\over {\\Gamma(k) \\theta^k}} x^{k-1} e^{-x / \\theta} \\;\\;\\; 평균 = k\\theta \\;\\;\\; 분산 = k\\theta^2$\n",
    "\n",
    "\n",
    "### $\\Gamma(k) : 감마함수 = \\int^{\\infty}_0 x^{k-1} e^{-x} \\; dx = $\n",
    "\n",
    "$\\begin{cases}\n",
    "(k-1)!\\;, \\;\\;\\; 양의 정수\\\\\n",
    "\\sqrt{\\pi}\\;, \\;\\;\\; k = 1/2\n",
    "\\end{cases}\n",
    "$"
   ]
  },
  {
   "cell_type": "markdown",
   "id": "a8e0f838",
   "metadata": {},
   "source": [
    "### \n",
    "#### ```rgamma(n, shape, rate, scale)``` : k가 shape, $\\theta$가 scale인 감마분포에서 ($1 / \\theta$가 rate), n개의 난수추출\n",
    "#### ```dgamma(x, shape, rate, scale)``` : k가 shape, $\\theta$가 scale인 감마분포에서, x의 확률밀도함수 값 $f(x)$\n",
    "#### ```pgamma(q, shape, rate, scale, lower.tail)``` : k가 shape, $\\theta$가 scale인 감마분포에서, 누적분포함수 값 $P(X \\leq q)$\n",
    "#### ```qgamma(p, shape, rate, scale, lower.tail)``` : k가 shape, $\\theta$가 scale인 감마분포에서, 상위 p분위수"
   ]
  },
  {
   "cell_type": "markdown",
   "id": "46d47723",
   "metadata": {},
   "source": [
    "### \n",
    "# \n",
    "### 카이제곱분포\n",
    "- **k개의 서로 독립적인 표준정규확률 변수를 각각 제곱한 다음 합해서 얻어지는 분포**\n",
    "- **표준정규분포를 따르는 확률변수 $X_1, X_2, ... X_k$에서 k의 카이제곱분포는 $W = \\sum^k_{i=1} X^2_i$를 확률변수로 가짐**\n",
    "- **자유도 : k를 지칭**\n",
    "\n",
    "### $f(x; k) = {1 \\over {2^{k/2} \\Gamma({k \\over 2})}} x^{{1 \\over 2} -1} e^{- {x \\over 2}} \\;\\;\\; \\{x \\geq 0\\} \\;\\;\\; 평균 = k \\;\\;\\; 분산 = 2k$\n",
    "\n",
    "### $\\Gamma(k) = \\int^{\\infty}_0 t^{k-1} e^{-t} \\; dt$ (단, k가 자연수이면 $\\Gamma(k) = (k-1)!$)"
   ]
  },
  {
   "cell_type": "markdown",
   "id": "0d838a0f",
   "metadata": {},
   "source": [
    "### \n",
    "#### ```rchisq(n, df, ncp)``` : 자유도가 df인 카이제곱분포에서, n개의 난수추출\n",
    "#### ```dchisq(x, df, ncp)``` : 자유도가 df인 카이제곱분포에서, x의 확률밀도함수 값 $f(x)$\n",
    "#### ```pchisq(q, df, ncp, lower.tail)``` : 자유도가 df인 카이제곱분포에서, 누적분포함수 값 $P(X \\leq q)$\n",
    "#### ```qchisq(p, df, ncp, lower.tail)``` : 자유도가 df인 카이제곱분포에서, 상위 p분위수"
   ]
  },
  {
   "cell_type": "markdown",
   "id": "836fa2d3",
   "metadata": {},
   "source": [
    "### \n",
    "# \n",
    "### 스튜던트 t분포\n",
    "- **정규분포의 평균 측정 시 주로 사용, t = 0에서 대칭**\n",
    "- **확률변수의 분포 (검정통계량) $t = {Z\\over \\sqrt{V / v}}$ (Z는 표준정규분포, V는 자유도 $v$인 카이제곱분포)**\n",
    "- **자유도 : n - 1**\n",
    "\n",
    "### $f(x) = {{\\Gamma({{(v+1)} \\over 2})} \\over {\\sqrt{v \\pi}\\Gamma({v \\over 2})}} (1 + {{x^2 \\over v}})^{-({v+1}) \\over 2}$"
   ]
  },
  {
   "cell_type": "markdown",
   "id": "82f94f87",
   "metadata": {},
   "source": [
    "#### ```rt(n, df, ncp)``` : 자유도가 df인 t분포에서, n개의 난수 추출\n",
    "#### ```dt(x, df, ncp)``` : 자유도가 df인 t분포에서, x의 확률밀도함수 값 $f(x)$\n",
    "#### ```pt(q, df, ncp, lower.tail)``` : 자유도가 df인 t분포에서, 누적분포함수 값 $P(X \\leq q)$\n",
    "#### ```qt(p, df, ncp, lower.tail)``` : 자유도가 df인 t분포에서, 상위 p분위수"
   ]
  },
  {
   "cell_type": "markdown",
   "id": "3bb04654",
   "metadata": {},
   "source": [
    "### \n",
    "# \n",
    "### F분포\n",
    "- **두 개의 확률변수 $V_1, V_2$의 자유도가 각각 $k_1, k_2$이고, 서로 카이제곱분포를 따를때, $F = {{V_1 / k_1} \\over {V_2 / k_2}} \\sim F(k_1, k_2)$**\n",
    "\n",
    "### $f(x) = {1 \\over {B(d_1/2, d_2/2}} ({{d_1x} \\over {d_1x_1 + d_2}})^{{d_1 \\over 2}} (1 - {{d_1x} \\over {d_1x_1 + d_2}})^{{d_2 \\over 2}} x^{-1} \\;;\\;\\; 평균 = {d_2 \\over {d_2-2}} \\;\\;\\; (단, d_2 > 2)$\n",
    "\n",
    "### $B(x, y) = \\int^1_0 t^{x-1} (1-t)^{y-1} \\; dt$\n",
    "### "
   ]
  },
  {
   "cell_type": "markdown",
   "id": "4b42a4d1",
   "metadata": {},
   "source": [
    "#### ```rf(n, df1, df2, ncp)``` : 자유도가 각각 df1, df2인 F분포에서, n개의 난수추출\n",
    "#### ```df(x, df1, df2, ncp)``` : 자유도가 각각 df1, df2인 F분포에서, x의 확률밀도함수 값 $f(x)$\n",
    "#### ```pf(q, df1, df2, ncp, lower.tail)``` : 자유도가 각각 df1, df2인 F분포에서, 누적분포함수 값 $P(X \\leq q)$\n",
    "#### ```qf(p, df1, df2, ncp, lower.tail)``` : 자유도가 각각 df1, df2인 F분포에서, 상위 p분위수"
   ]
  },
  {
   "cell_type": "markdown",
   "id": "f27c6d98",
   "metadata": {},
   "source": [
    "## \n",
    "## \n",
    "## 이산형 확률분포\n",
    "### 이항분포\n",
    "\n",
    "### $P(X = x) =\\; _nC_p p^x q^{n-x} \\;\\;\\; 기댓값 = np \\;\\;\\; 분산 = npq$\n",
    "\n",
    "### \n",
    "\n",
    "#### ```rbinom(n, size, prob)``` : 크기가 size이고 p = prob인 이항분포에서, n개 난수추출\n",
    "#### ```dbinom(x, size, prob)``` : 크기가 size이고 p = prob인 이항분포에서, x의 확률밀도함수 값 $P(x)$\n",
    "#### ```pbinom(q, size, prob, lower.tail)``` : 크기가 size이고 p = prob인 이항분포에서, 누적분포함수 값 $P(X \\leq q)$\n",
    "#### ```qbinom(p, size, prob, lower.tail)``` : 크기가 size이고 p = prob인 이항분포에서, 상위 p분위수"
   ]
  },
  {
   "cell_type": "markdown",
   "id": "f88a010f",
   "metadata": {},
   "source": [
    "## \n",
    "## \n",
    "### 포아송분포 \n",
    "- **단위 시간 안에 어던 사건이 몇 번 발생할 것인지를 표현**\n",
    "- **X를 단위시간당 발생건수, 평균 사건 발생수 $\\lambda$**\n",
    "\n",
    "### $P(X = x) = {{\\lambda^x e^{-\\lambda}} \\over {x!}} \\;\\;\\; 기댓값 = \\lambda \\;\\;\\; 분산 = \\lambda$"
   ]
  },
  {
   "cell_type": "markdown",
   "id": "76a33624",
   "metadata": {},
   "source": [
    "#### ```rpois(n, lambda)``` : 기댓값이 lambda인 포아송분포에서, n개의 난수추출\n",
    "#### ```dpois(n, lambda)``` : 기댓값이 lambda인 포아송분포에서, x의 확률밀도함수 값 $P(x)$\n",
    "#### ```ppois(q, lambda, lower.tail)``` : 기댓값이 lambda인 포아송분포에서, 누적분포함수 값 $P(X \\leq q)$\n",
    "#### ```qpois(p, lambda, lower.tail)``` : 기댓값이 lambda인 포아송분포에서, 상위 p분위수"
   ]
  },
  {
   "cell_type": "markdown",
   "id": "65b1bece",
   "metadata": {},
   "source": [
    "## \n",
    "## \n",
    "### 기하분포\n",
    "- **베르누이 시행에서 처음 성공까지 시도한 쇳수를 분포화**\n",
    "\n",
    "### $P(X = x) = pq^{x-1}, \\;\\;\\; (q = 1-p) \\;\\;\\; 기댓값 = {1 \\over p} \\;\\;\\; 분산 = {q \\over p^2}$ \n",
    "\n",
    "#### ```rgeom(n, prob)``` : 성공확률이 prob인 기하분포에서, n개의 난수추출\n",
    "#### ```dgeom(x, prob)``` : 성공확률이 prob인 기하분포에서, x의 확률밀도함수 값 $P(x)$\n",
    "#### ```pgeom(q, prob, lower.tail)``` : 성공확률이 prob인 기하분포에서, 누적분포함수 값 $P(X \\leq q)$\n",
    "#### ```qgeom(p, prob, lower.tail)``` : 성공확률이 prob인 기하분포에서, 상위 p분위수"
   ]
  },
  {
   "cell_type": "markdown",
   "id": "44694994",
   "metadata": {},
   "source": [
    "## \n",
    "## \n",
    "### 음이항분포\n",
    "- **p : 실패확률 / n : 실패횟수**\n",
    "- **n번째 실패가 나왔을 때, 성공횟수가 x번째일 확률, (x번째 성공을 얻기 위해 걸렸던 n번의 실패)**\n",
    "\n",
    "### $P(X = x) = {\\;_{x+n-1}C_{n-1} (1-p)^{x} p^{n-1}p}, \\;\\;\\; 기댓값 = n{{1-p}\\over p}  \\;\\;\\; 분산 = n{{1-p}\\over {p^2}}$\n",
    "\n",
    "#### ```rnbinom(n, size, prob, mu)``` : 성공확률이 prob, 실패횟수가 size인 음이항분포에서, n개의 난수추출\n",
    "#### ```dnbinom(x, size, prob, mu)``` : 성공확률이 prob, 실패횟수가 size인 음이항분포에서, x의 확률밀도함수 값 $P(x)$\n",
    "#### ```pnbinom(q, size, prob, mu, lower.tail)``` : 성공확률이 prob, 실패횟수가 size인 음이항분포에서, 누적분포함수 값 $P(X \\leq q)$\n",
    "#### ```qnbinom(p, size, prob, mu, lower.tail)``` : 성공확률이 prob, 실패횟수가 size인 음이항분포에서, 상위 p분위수"
   ]
  },
  {
   "cell_type": "markdown",
   "id": "268ac228",
   "metadata": {},
   "source": [
    "### \n",
    "### \n",
    "### 초기하분포 \n",
    "- **m + n개의 모집단에서 관심있는 원소 m개가 존재 => k개의 비복원 추출 시행 => k개의 비복원 추출에서 관심있는 원소가 x개가 포함될 확률**\n",
    "\n",
    "### $P(X = x) =  {{{\\;_mC_x}\\;\\times\\;{\\;_{n}C_{k-x}}} \\over {\\;_{m+n}C_k}} \\;\\;\\; 기댓값 = n {m \\over {m+n}} \\;\\;\\; 분산 = n {m \\over {m+n}} ({n\\over {m+n}}) ({{m} \\over {m+n-1}})$"
   ]
  },
  {
   "cell_type": "markdown",
   "id": "5f6af798",
   "metadata": {},
   "source": [
    "#### ```rhyper(nn, m, n, k)``` : 모집단의 크기가 m+n, 모집단 안에 들어있는 원하는 원소의수가 m, 표본의 크기가 k인 초기하분포에서, nn개의 난수 추출\n",
    "#### ```dhyper(x, m, n, k)``` : 모집단의 크기가 m+n, 모집단 안에 들어있는 원하는 원소의수가 m, 표본의 크기가 k인 초기하분포에서, x의 확률밀도함수 값 $P(x)$\n",
    "#### ```phyper(q, m, n, k, lower.tail)``` : 모집단의 크기가 m+n, 모집단 안에 들어있는 원하는 원소의수가 m, 표본의 크기가 k인 초기하분포에서, 누적분포함수 값 $P(X \\leq q)$\n",
    "#### ```qhyper(p, m, n, k, lower.tail)``` : 모집단의 크기가 m+n, 모집단 안에 들어있는 원하는 원소의수가 m, 표본의 크기가 k인 초기하분포에서, 상위 p분위수"
   ]
  },
  {
   "cell_type": "markdown",
   "id": "192c0165",
   "metadata": {},
   "source": [
    "## \n",
    "## \n",
    "## 추론통계\n",
    "### 점추정 \n",
    "#### 1. 불편성 : 표본통계량의 기댓값이 모수의 실제값과 같음 $E(\\hat{\\theta}) = \\theta$\n",
    "\n",
    "#### 2. 효율성 : 추정량 중 최소의 분산을 가진 추정량 (표준편차가 작은 추정량)이 효율적\n",
    "#### 3. 일치성 : 표본크기가 증가할수록, 추정량 $\\hat{\\theta}$가 모수 $\\theta$에 근접함\n",
    "#### 4. 충분성 : 추정량이 모수에 대하여 가장 많은 정보를 제공할 때, 그 추정량은 충분추정량\n",
    "### \n",
    "### 최소분산불편추정량 (MVUE) : 모든 불편추정량 중에서 가장 작은 분산을 가지는 추정량"
   ]
  },
  {
   "cell_type": "markdown",
   "id": "e0f56972",
   "metadata": {},
   "source": [
    "## \n",
    "## 점추정"
   ]
  },
  {
   "cell_type": "markdown",
   "id": "6a03d93e",
   "metadata": {},
   "source": [
    "### \n",
    "### 모평균의 점추정\n",
    "- 무작위추출로 얻은 n = 20의 표본은, 기댓값이 $\\mu$, 분산이 $\\sigma^2$인 확률분포를 따르고, 서로 독립인 확률변수 $X_1, X_2, ... X_20$이라고 가정\n",
    "- 표본평균 $\\bar{X} = {{X_1 + X_2 + ... + X_n} \\over n}$도 확률변수가 되고, 시행할 때마다 얻게 되는 결과는 다름\n",
    "- 표본평균 $\\bar{X}$의 기댓값 : $E(\\bar{X}) = \\mu$ => 모평균과 일치"
   ]
  },
  {
   "cell_type": "markdown",
   "id": "8202a638",
   "metadata": {},
   "source": [
    "### \n",
    "### 모분산의 점추정\n",
    "- **표본분산 ${1 \\over n} \\sum_{i = 1}^n (X_i - \\bar{X})^2$은 확률변수 => 시행할 때마다 결과가 달라짐**\n",
    "- **표본분산의 평균은 모분산의 불편추정량이 아님**"
   ]
  },
  {
   "cell_type": "markdown",
   "id": "adfd7eb7",
   "metadata": {},
   "source": [
    "### \n",
    "\n",
    "| **모수** | **추정량** | **비고** |\n",
    "| -- | -- | -- |\n",
    "| **$$모평균\\mu$$** | 표본집단의 표본평균 $$\\bar{x} = {1 \\over n} \\sum^k_{i=1} x_i$$ | 모집단의 크기가 무한대에 한해서 표본평균의 표준오차 = $${\\sigma \\over {\\sqrt{n}}}$$ |\n",
    "| **$$모분산\\sigma^2$$** | 표본집단의 표본분산 $$s^2 = {1 \\over {n-1}} \\sum^n_{i=1} {(x_i - \\bar{x})^2}$$ |  |\n",
    "| **$$모비율p$$** | $\\hat{p} = {X \\over n}$ | 표준오차 = $\\sqrt{{{pq} \\over n}}$ |"
   ]
  },
  {
   "cell_type": "markdown",
   "id": "171f6030",
   "metadata": {},
   "source": [
    "## \n",
    "## 구간추정\n",
    "### 신뢰수준, 유의수준 ($\\alpha$)\n",
    "\n",
    "### $P(\\hat{\\theta_L}\\; \\leq \\; \\theta \\;\\leq\\; \\hat{\\theta_H}) = 1 - \\alpha$\n",
    "\n",
    "### 신뢰구간\n",
    "\n",
    "| **구분** | **신뢰구간**$$\\;100(1-\\alpha\\%)\\;$$ |\n",
    "| -- | -- |\n",
    "| **모분산을 알고 있는 경우** | $$\\bar{X} - Z_{\\alpha/2} {\\sigma \\over \\sqrt{n}} \\;\\leq\\; \\mu \\;\\leq\\; \\bar{X} + Z_{\\alpha/2} {\\sigma \\over \\sqrt{n}}$$ |  \n",
    "| **모분산을 모르는 경우** | $$\\bar{X} - t_{\\alpha/2}(n-1) {S \\over \\sqrt{n}} \\;\\leq\\; \\mu \\;\\leq\\; \\bar{X} + t_{\\alpha/2}(n-1) {S \\over \\sqrt{n}}$$ |\n",
    "| **모분산을 모르는 경우 (대표본)** | $$\\bar{X} - Z_{\\alpha/2} {S \\over \\sqrt{n}} \\;\\leq\\; \\mu \\;\\leq\\; \\bar{X} + Z_{\\alpha/2} {S \\over \\sqrt{n}}$$ |"
   ]
  },
  {
   "cell_type": "markdown",
   "id": "54651eb1",
   "metadata": {},
   "source": [
    "### \n",
    "### 정규분포의 모평균(모분산을 알고 있는)의 구간추정\n",
    "\n",
    "#### 표본평균 $\\bar{X} \\sim N(\\mu, {\\sigma^2 \\over n})$\n",
    "- **표본평균이라는 추정량은 기댓값 그 자체인 모평균 $\\mu$와 표준편차 ${\\sigma^2 \\over n}$으로 분산되어 있음** \n",
    "\n",
    "#### 표본오차 : 추정량의 표준편차 ${\\sigma \\over \\sqrt{n}}$"
   ]
  },
  {
   "cell_type": "markdown",
   "id": "7575b5e8",
   "metadata": {},
   "source": [
    "### \n",
    "#### 모분산 $\\sigma^2$를 알고 있는 상황 => 표준오차 ${\\sigma^2 \\over n}$ 계산 가능 => 오차 예측 가능\n",
    "\n",
    "#### 표본평균 $\\bar{X} \\sim N(\\mu, {\\sigma^2 \\over n})$이므로, $Z = {(\\bar{X} - \\mu) \\over {\\sqrt{{\\sigma^2 \\over n}}}}$으로 표준화가능 (표준정규분포 변환) => $100(1-\\alpha)$%구간 계산 가능"
   ]
  },
  {
   "cell_type": "markdown",
   "id": "a94c8833",
   "metadata": {},
   "source": [
    "### \n",
    "#### 모분산을 알고 있을 때 모평균의 신뢰구간\n",
    "- **$X_1, X_2, ..., X_n \\sim N(\\mu, \\sigma^2)$일 때 모분산 $\\sigma^2$를 알고 있다면, 신뢰수준 $100(1-\\alpha)\\%$인 신뢰구간은**\n",
    "\n",
    "### $[\\bar{X} - z_{\\alpha / 2}\\sqrt{{\\sigma^2 \\over n}}, \\;\\;\\; \\bar{X} - z_{1-{\\alpha / 2}}\\sqrt{{\\sigma^2 \\over n}}] \\;\\; = \\;\\;$ [신뢰하한, 신뢰하한]"
   ]
  },
  {
   "cell_type": "markdown",
   "id": "fc40dfe8",
   "metadata": {},
   "source": [
    "#### "
   ]
  },
  {
   "cell_type": "markdown",
   "id": "53c33505",
   "metadata": {},
   "source": [
    "#### N = 400인 모집단의 모평균, 모분산"
   ]
  },
  {
   "cell_type": "code",
   "execution_count": 135,
   "id": "34fe3ebc",
   "metadata": {},
   "outputs": [],
   "source": [
    "library(tidyverse)"
   ]
  },
  {
   "cell_type": "code",
   "execution_count": 136,
   "id": "6559d166",
   "metadata": {},
   "outputs": [
    {
     "data": {
      "text/html": [
       "400"
      ],
      "text/latex": [
       "400"
      ],
      "text/markdown": [
       "400"
      ],
      "text/plain": [
       "[1] 400"
      ]
     },
     "metadata": {},
     "output_type": "display_data"
    }
   ],
   "source": [
    "df1 <- read.csv(\"C:/Soongsil/Python/Python_Statistics/python_stat_sample-master/data/ch4_scores400.csv\")\n",
    "colnames(df1)[1] = \"scores\"\n",
    "N <- df1 %>% nrow(); N"
   ]
  },
  {
   "cell_type": "code",
   "execution_count": 158,
   "id": "04ed384f",
   "metadata": {},
   "outputs": [
    {
     "data": {
      "text/html": [
       "69.53"
      ],
      "text/latex": [
       "69.53"
      ],
      "text/markdown": [
       "69.53"
      ],
      "text/plain": [
       "[1] 69.53"
      ]
     },
     "metadata": {},
     "output_type": "display_data"
    },
    {
     "data": {
      "text/html": [
       "206.6691"
      ],
      "text/latex": [
       "206.6691"
      ],
      "text/markdown": [
       "206.6691"
      ],
      "text/plain": [
       "[1] 206.6691"
      ]
     },
     "metadata": {},
     "output_type": "display_data"
    }
   ],
   "source": [
    "p_mean <- mean(df1$scores)\n",
    "p_var <- mean((df1$scores - mean(df1$scores))^2)\n",
    "p_mean ; p_var"
   ]
  },
  {
   "cell_type": "markdown",
   "id": "70a9d2cf",
   "metadata": {},
   "source": [
    "#### n = 20 표본, 표본평균"
   ]
  },
  {
   "cell_type": "code",
   "execution_count": 165,
   "id": "40129eeb",
   "metadata": {},
   "outputs": [
    {
     "data": {
      "text/html": [
       "69.7"
      ],
      "text/latex": [
       "69.7"
      ],
      "text/markdown": [
       "69.7"
      ],
      "text/plain": [
       "[1] 69.7"
      ]
     },
     "metadata": {},
     "output_type": "display_data"
    }
   ],
   "source": [
    "n = 20\n",
    "sample = sample(df1$scores, n)\n",
    "s_mean <- mean(sample); s_mean"
   ]
  },
  {
   "cell_type": "markdown",
   "id": "ba6affcf",
   "metadata": {},
   "source": [
    "#### 모평균의 95% 신뢰구간 => 모평균 69.53이 구간내에 포함"
   ]
  },
  {
   "cell_type": "code",
   "execution_count": 166,
   "id": "61ed1308",
   "metadata": {},
   "outputs": [
    {
     "data": {
      "text/html": [
       "63.3995601853525"
      ],
      "text/latex": [
       "63.3995601853525"
      ],
      "text/markdown": [
       "63.3995601853525"
      ],
      "text/plain": [
       "[1] 63.39956"
      ]
     },
     "metadata": {},
     "output_type": "display_data"
    },
    {
     "data": {
      "text/html": [
       "76.0004398146475"
      ],
      "text/latex": [
       "76.0004398146475"
      ],
      "text/markdown": [
       "76.0004398146475"
      ],
      "text/plain": [
       "[1] 76.00044"
      ]
     },
     "metadata": {},
     "output_type": "display_data"
    }
   ],
   "source": [
    "lcl <- s_mean + qnorm(0.025, 0, 1) * sqrt(p_var / n)\n",
    "ucl <- s_mean + qnorm(0.975, 0, 1) * sqrt(p_var / n)\n",
    "lcl; ucl"
   ]
  },
  {
   "cell_type": "markdown",
   "id": "b45f0d9f",
   "metadata": {},
   "source": [
    "### \n",
    "### 정규분포의 모평균(모분산을 모르는)의 구간추정"
   ]
  },
  {
   "cell_type": "markdown",
   "id": "8fab1e28",
   "metadata": {},
   "source": [
    "#### 모분산 $\\sigma^2$를 알지 못하기에 표준오차 $\\sqrt{{\\sigma^2 \\over n}}$를 계산할 수 없음  => 모분산 $\\sigma^2$대신 불편분산 $\\sqrt{{s^2 \\over n}}$를 사용하여 표본평균 $\\bar{X}$에 대해서 t변환\n",
    "\n",
    "####  $t = {{\\bar{X} - \\mu} \\over {\\sqrt{s^2 \\over n}}}$\n"
   ]
  },
  {
   "cell_type": "markdown",
   "id": "d21e4ac8",
   "metadata": {},
   "source": [
    "\n",
    "### \n",
    "\n",
    "#### t는 표준정규분포를 따르지 않음\n",
    "#### **$Z = {(\\bar{X} - \\mu) \\over {\\sqrt{{\\sigma^2 \\over n}}}}$와 비교시 => $T = Z / \\sqrt{{s^2 \\over \\sigma^2}}$**\n",
    "#### ${s^2 \\over \\sigma^2}$는 카이제곱분포의 관계식 $Y = {{(n-1)s^2} \\over \\sigma^2}$을 사용함으로써 ${{(n-1)}\\over \\sigma^2} = {Y \\over {n-1}}$\n",
    "#### => 결국 t는 표준정규분포 Z와 자유도 n-1인 카이제곱분포 Y에 의해 $t = {Z \\over {\\sqrt{Y / (n-1)}}}$이며, 자유도 n-1인 t분포를 따름"
   ]
  },
  {
   "cell_type": "markdown",
   "id": "4270b6d8",
   "metadata": {},
   "source": [
    "### \n",
    "### 모분산을 모를 때 모평균의 신뢰구간\n",
    "- **$X_1, X_2, ..., X_n \\sim N(\\mu, \\sigma^2)$일 때 모분산 $\\sigma^2$를 모른다면, 신뢰수준 $100(1-\\alpha)\\%$인 신뢰구간은**\n",
    "\n",
    "### $[\\bar{X} - t_{\\alpha / 2}(n-1)\\sqrt{{s^2 \\over n}}, \\;\\;\\; \\bar{X} - t_{1-{\\alpha / 2}}(n-1)\\sqrt{{s^2 \\over n}}] \\;\\; = \\;\\;$ [신뢰하한, 신뢰하한]"
   ]
  },
  {
   "cell_type": "markdown",
   "id": "278ab5ec",
   "metadata": {},
   "source": [
    "#### \n",
    "#### n = 20의 표본의 불편분산 ( $s^2$ )"
   ]
  },
  {
   "cell_type": "code",
   "execution_count": 188,
   "id": "963c1653",
   "metadata": {},
   "outputs": [
    {
     "data": {
      "text/html": [
       "191.484210526316"
      ],
      "text/latex": [
       "191.484210526316"
      ],
      "text/markdown": [
       "191.484210526316"
      ],
      "text/plain": [
       "[1] 191.4842"
      ]
     },
     "metadata": {},
     "output_type": "display_data"
    }
   ],
   "source": [
    "u_var <- var(sample) ; u_var"
   ]
  },
  {
   "cell_type": "markdown",
   "id": "7da9c506",
   "metadata": {},
   "source": [
    "#### 모평균의 95% 신뢰구간 => 모평균 69.53이 구간내에 포함"
   ]
  },
  {
   "cell_type": "code",
   "execution_count": 179,
   "id": "66f3df95",
   "metadata": {},
   "outputs": [
    {
     "data": {
      "text/html": [
       "63.2237186736926"
      ],
      "text/latex": [
       "63.2237186736926"
      ],
      "text/markdown": [
       "63.2237186736926"
      ],
      "text/plain": [
       "[1] 63.22372"
      ]
     },
     "metadata": {},
     "output_type": "display_data"
    },
    {
     "data": {
      "text/html": [
       "76.1762813263074"
      ],
      "text/latex": [
       "76.1762813263074"
      ],
      "text/markdown": [
       "76.1762813263074"
      ],
      "text/plain": [
       "[1] 76.17628"
      ]
     },
     "metadata": {},
     "output_type": "display_data"
    }
   ],
   "source": [
    "lcl <- s_mean + qt(0.025, n - 1) * sqrt(u_var / n)\n",
    "ucl <- s_mean + qt(0.975, n - 1) * sqrt(u_var / n)\n",
    "lcl; ucl"
   ]
  },
  {
   "cell_type": "markdown",
   "id": "c5376377",
   "metadata": {},
   "source": [
    "# \n",
    "## 정규분포의 모분산(모평균을 알지 못하는) 구간추정\n",
    "\n",
    "### $P(* \\; \\leq \\; \\sigma^2 \\; \\leq \\; *) = 0.95$\n",
    "- **불편분산 $s^2$를 변환하여, 확률분포를 따르는 확률변수를 생성**\n",
    "\n",
    "### 불편분산 $s^2$에 카이제곱 변환 : $Y = {{(n-1)s^2} \\over \\sigma^2}$ => $Y \\sim \\chi^2(n-1)$\n"
   ]
  },
  {
   "cell_type": "markdown",
   "id": "ac1c8453",
   "metadata": {},
   "source": [
    "### \n",
    "### 모분산의 구간추정 \n",
    "- **$X_1, X_2, ..., X_n \\sim N(\\mu, \\sigma^2)$이라고 가정하고, 모평균 $\\mu$를 모를 때, 신뢰수준 $100(1-\\alpha)\\%$인 신뢰구간은**\n",
    "\n",
    "### [${{(n-1)s^2} \\over {\\chi^2_{\\alpha / 2}(n-1)}}\\;, \\;\\; {{(n-1)s^2} \\over {\\chi^2_{1 - \\alpha / 2}(n-1)}} $]"
   ]
  },
  {
   "cell_type": "markdown",
   "id": "8ec41829",
   "metadata": {},
   "source": [
    "### \n",
    "####  $\\chi^2 (n-1)$의 95% 신뢰구간\n",
    "\n",
    "- $P(\\chi^2_{0.975}(n-1) \\; \\leq \\; {{(n-1)s^2} \\over \\sigma^2} \\; \\leq \\; \\chi^2_{0.025}(n-1) = 0.95$\n",
    "- P(${{(n-1)s^2} \\over {\\chi^2_{\\alpha / 2}(n-1)}} \\; \\leq \\; \\sigma^2 \\; \\leq \\; {{(n-1)s^2} \\over {\\chi^2_{1-\\alpha / 2}(n-1)}}$) = 0.95"
   ]
  },
  {
   "cell_type": "markdown",
   "id": "e0560fe2",
   "metadata": {},
   "source": [
    "#### \n",
    "#### 모분산의 95% 신뢰구간 => 모분산 206.669가 구간내에 포함"
   ]
  },
  {
   "cell_type": "code",
   "execution_count": 195,
   "id": "30d11a7c",
   "metadata": {},
   "outputs": [
    {
     "data": {
      "text/html": [
       "408.48742685849"
      ],
      "text/latex": [
       "408.48742685849"
      ],
      "text/markdown": [
       "408.48742685849"
      ],
      "text/plain": [
       "[1] 408.4874"
      ]
     },
     "metadata": {},
     "output_type": "display_data"
    },
    {
     "data": {
      "text/html": [
       "110.744058261462"
      ],
      "text/latex": [
       "110.744058261462"
      ],
      "text/markdown": [
       "110.744058261462"
      ],
      "text/plain": [
       "[1] 110.7441"
      ]
     },
     "metadata": {},
     "output_type": "display_data"
    }
   ],
   "source": [
    "lcl <- (n-1) * u_var / qchisq(0.025, n-1)\n",
    "ucl <- (n-1) * u_var / qchisq(0.975, n-1)\n",
    "lcl; ucl"
   ]
  },
  {
   "cell_type": "markdown",
   "id": "4b29c858",
   "metadata": {},
   "source": [
    "### \n",
    "### \n",
    "### 모비율의 추정 (베르누이 분포의 모평균 구간추정)\n",
    "- **$X_1, X_2, ..., X_n \\sim Bern(p)$일 때, 모비율의 신뢰수준 $100(1-\\alpha)\\%$의 신뢰구간**\n",
    "\n",
    "### [$\\bar{X} - z_{\\alpha / 2} \\sqrt{{{\\bar{X}(1-\\bar{X})} \\over n}}, \\; \\bar{X} - z_{1-\\alpha / 2} \\sqrt{{{\\bar{X}(1-\\bar{X})} \\over n}}$]\n",
    "\n",
    "### \n",
    "### 베르누이 분포 표본평균 $\\bar{X}$의 기댓값은 $p$, 분산은 $p(1-p) \\over n$"
   ]
  },
  {
   "cell_type": "markdown",
   "id": "d68009a1",
   "metadata": {},
   "source": [
    "### \n",
    "####  베르누이 분포 모평균의 95% 신뢰구간\n",
    "- **베르누이 분포의 표본평균이 따르는 확률분포를 알지 못함 => 중심극한정리 사용**\n",
    "- **중심극한정리에 따라 표본평균 $\\bar{X}$는 근사적으로 $N(p, \\; {{p(1-p)}\\over n})$**를 따름\n",
    "- **이를 표준화 => $Z = (\\bar{X}-p) / \\sqrt{(p(1-p) \\over n}$로 변환 => Z는 표준정규분포를 따르는 것으로 간주** \n",
    "\n",
    "#### $0.95 \\simeq P(z_{0.975} \\; \\leq \\; (\\bar{X}-p) / \\sqrt{(p(1-p) \\over n} \\; \\leq \\; z_{0.025})$\n",
    "\n",
    "**= $P(\\bar{X} - z_{0.025} \\; \\sqrt{(p(1-p) \\over n} \\; \\leq \\; p  \\; \\leq \\; \\bar{X} - z_{0.975} \\; \\sqrt{(p(1-p) \\over n})$**\n",
    "\n",
    "**= $P(\\bar{X} - z_{0.025} \\; \\sqrt{(\\bar{X}(1-\\bar{X}) \\over n} \\; \\leq \\; p  \\; \\leq \\; \\bar{X} - z_{0.975} \\; \\sqrt{(\\bar{X}(1-\\bar{X}) \\over n})$**"
   ]
  },
  {
   "cell_type": "markdown",
   "id": "86c686fd",
   "metadata": {},
   "source": [
    "### \n",
    "#### n = 1000인 표본"
   ]
  },
  {
   "cell_type": "code",
   "execution_count": 200,
   "id": "69e7dfa6",
   "metadata": {},
   "outputs": [],
   "source": [
    "df2 <- read.csv(\"C:/Soongsil/Python/Python_Statistics/python_stat_sample-master/data/ch10_enquete.csv\")\n",
    "colnames(df2)[1] <- \"known\""
   ]
  },
  {
   "cell_type": "code",
   "execution_count": 210,
   "id": "b8a18cba",
   "metadata": {},
   "outputs": [
    {
     "data": {
      "text/html": [
       "<style>\n",
       ".list-inline {list-style: none; margin:0; padding: 0}\n",
       ".list-inline>li {display: inline-block}\n",
       ".list-inline>li:not(:last-child)::after {content: \"\\00b7\"; padding: 0 .5ex}\n",
       "</style>\n",
       "<ol class=list-inline><li>1</li><li>0</li><li>1</li><li>1</li><li>1</li><li>1</li></ol>\n"
      ],
      "text/latex": [
       "\\begin{enumerate*}\n",
       "\\item 1\n",
       "\\item 0\n",
       "\\item 1\n",
       "\\item 1\n",
       "\\item 1\n",
       "\\item 1\n",
       "\\end{enumerate*}\n"
      ],
      "text/markdown": [
       "1. 1\n",
       "2. 0\n",
       "3. 1\n",
       "4. 1\n",
       "5. 1\n",
       "6. 1\n",
       "\n",
       "\n"
      ],
      "text/plain": [
       "[1] 1 0 1 1 1 1"
      ]
     },
     "metadata": {},
     "output_type": "display_data"
    },
    {
     "data": {
      "text/html": [
       "1000"
      ],
      "text/latex": [
       "1000"
      ],
      "text/markdown": [
       "1000"
      ],
      "text/plain": [
       "[1] 1000"
      ]
     },
     "metadata": {},
     "output_type": "display_data"
    }
   ],
   "source": [
    "n <- nrow(df2)\n",
    "df2$known %>% head; n"
   ]
  },
  {
   "cell_type": "markdown",
   "id": "2f985ae2",
   "metadata": {},
   "source": [
    "#### 표본평균"
   ]
  },
  {
   "cell_type": "code",
   "execution_count": 209,
   "id": "69f17c6f",
   "metadata": {},
   "outputs": [
    {
     "data": {
      "text/html": [
       "0.709"
      ],
      "text/latex": [
       "0.709"
      ],
      "text/markdown": [
       "0.709"
      ],
      "text/plain": [
       "[1] 0.709"
      ]
     },
     "metadata": {},
     "output_type": "display_data"
    }
   ],
   "source": [
    "s_mean <- mean(df2$known); s_mean"
   ]
  },
  {
   "cell_type": "markdown",
   "id": "21577acd",
   "metadata": {},
   "source": [
    "#### p의 95% 신뢰구간"
   ]
  },
  {
   "cell_type": "code",
   "execution_count": 212,
   "id": "7c586ec3",
   "metadata": {},
   "outputs": [
    {
     "data": {
      "text/html": [
       "0.680847452292434"
      ],
      "text/latex": [
       "0.680847452292434"
      ],
      "text/markdown": [
       "0.680847452292434"
      ],
      "text/plain": [
       "[1] 0.6808475"
      ]
     },
     "metadata": {},
     "output_type": "display_data"
    },
    {
     "data": {
      "text/html": [
       "0.737152547707566"
      ],
      "text/latex": [
       "0.737152547707566"
      ],
      "text/markdown": [
       "0.737152547707566"
      ],
      "text/plain": [
       "[1] 0.7371525"
      ]
     },
     "metadata": {},
     "output_type": "display_data"
    }
   ],
   "source": [
    "lcl <- s_mean + qnorm(0.025, 0, 1) * sqrt(s_mean * (1 - s_mean) / n)\n",
    "ucl <- s_mean + qnorm(0.975, 0, 1) * sqrt(s_mean * (1 - s_mean) / n)\n",
    "lcl; ucl"
   ]
  },
  {
   "cell_type": "markdown",
   "id": "e020b97c",
   "metadata": {},
   "source": [
    "### \n",
    "### 포아송 분포의 모평균의 구간추정\n",
    "- **$X_1, X_2, ..., X_n$이 서로 독립이고 $\\sim Poi(\\lambda)$일 때, $Poi(\\lambda)$의 기댓값과 분산은 모두 $\\lambda$이었기 때문에, 표본평균 $\\bar{X}$의 기댓값은 $\\lambda$, 분산은 $\\lambda \\over n$**\n",
    "- **$X_1, X_2, ..., X_n \\sim Poi(\\lambda)$일 때, 모평균의 신뢰수준 $100(1-\\alpha)\\%$의 신뢰구간**\n",
    "\n",
    "### [$\\bar{X}- z_{\\alpha / 2} \\sqrt{{\\bar{X}} \\over n} \\; \\leq \\; \\lambda \\; \\leq \\; \\bar{X}-z_{1-\\alpha/2}\\sqrt{{{\\bar{X}}\\over n}}$]\n",
    "\n",
    "### \n",
    "####  포아송 분포 모평균의 95% 신뢰구간\n",
    "- **포아송 분포의 표본평균이 따르는 확률분포를 알지 못함 => 중심극한정리 사용**\n",
    "- **중심극한정리에 따라 표본평균 $\\bar{X}$는 근사적으로 $N(\\lambda, \\; {\\lambda \\over n})$**를 따름\n",
    "- **이를 표준화 => $Z = (\\bar{X}-\\lambda) / \\sqrt{\\lambda \\over n}$로 변환 => Z는 표준정규분포를 따르는 것으로 간주** \n",
    "\n",
    "#### $0.95 \\simeq P(z_{0.975} \\; \\leq \\; (\\bar{X}-\\lambda) / \\sqrt{\\lambda \\over n} \\; \\leq \\; z_{0.025})$\n",
    "**= $P(\\bar{X} - z_{0.025}\\;\\sqrt{\\lambda \\over n} \\; \\leq \\; lambda  \\; \\leq \\; \\bar{X} - z_{0.975} \\; \\sqrt{\\lambda \\over n})$**\n",
    "\n",
    "**= $P(\\bar{X} - z_{0.025} \\; \\sqrt{\\bar{X} \\over n} \\; \\leq \\; \\lambda  \\; \\leq \\; \\bar{X} - z_{0.975} \\; \\sqrt{\\bar{X} \\over n})$**"
   ]
  },
  {
   "cell_type": "markdown",
   "id": "5b4e086a",
   "metadata": {},
   "source": [
    "### \n",
    "#### n = 72인 표본"
   ]
  },
  {
   "cell_type": "code",
   "execution_count": 218,
   "id": "dec8a810",
   "metadata": {},
   "outputs": [],
   "source": [
    "df3 <- read.csv(\"C:/Soongsil/Python/Python_Statistics/python_stat_sample-master/data/ch10_access.csv\")\n",
    "colnames(df3)[1] <- 'access.number'"
   ]
  },
  {
   "cell_type": "code",
   "execution_count": 220,
   "id": "f737e9b6",
   "metadata": {},
   "outputs": [
    {
     "data": {
      "text/html": [
       "<style>\n",
       ".list-inline {list-style: none; margin:0; padding: 0}\n",
       ".list-inline>li {display: inline-block}\n",
       ".list-inline>li:not(:last-child)::after {content: \"\\00b7\"; padding: 0 .5ex}\n",
       "</style>\n",
       "<ol class=list-inline><li>10</li><li>11</li><li>9</li><li>9</li><li>18</li><li>13</li></ol>\n"
      ],
      "text/latex": [
       "\\begin{enumerate*}\n",
       "\\item 10\n",
       "\\item 11\n",
       "\\item 9\n",
       "\\item 9\n",
       "\\item 18\n",
       "\\item 13\n",
       "\\end{enumerate*}\n"
      ],
      "text/markdown": [
       "1. 10\n",
       "2. 11\n",
       "3. 9\n",
       "4. 9\n",
       "5. 18\n",
       "6. 13\n",
       "\n",
       "\n"
      ],
      "text/plain": [
       "[1] 10 11  9  9 18 13"
      ]
     },
     "metadata": {},
     "output_type": "display_data"
    },
    {
     "data": {
      "text/html": [
       "72"
      ],
      "text/latex": [
       "72"
      ],
      "text/markdown": [
       "72"
      ],
      "text/plain": [
       "[1] 72"
      ]
     },
     "metadata": {},
     "output_type": "display_data"
    }
   ],
   "source": [
    "n <- nrow(df3)\n",
    "df3$access.number %>% head; n"
   ]
  },
  {
   "cell_type": "markdown",
   "id": "501e0f7c",
   "metadata": {},
   "source": [
    "#### 표본평균 "
   ]
  },
  {
   "cell_type": "code",
   "execution_count": 221,
   "id": "319b9f2a",
   "metadata": {},
   "outputs": [
    {
     "data": {
      "text/html": [
       "10.4444444444444"
      ],
      "text/latex": [
       "10.4444444444444"
      ],
      "text/markdown": [
       "10.4444444444444"
      ],
      "text/plain": [
       "[1] 10.44444"
      ]
     },
     "metadata": {},
     "output_type": "display_data"
    }
   ],
   "source": [
    "s_mean <- df3$access.number %>% mean ; s_mean"
   ]
  },
  {
   "cell_type": "markdown",
   "id": "add67016",
   "metadata": {},
   "source": [
    "#### $\\lambda$의 95%신뢰구간"
   ]
  },
  {
   "cell_type": "code",
   "execution_count": 222,
   "id": "5af0a54c",
   "metadata": {},
   "outputs": [
    {
     "data": {
      "text/html": [
       "9.6979535495982"
      ],
      "text/latex": [
       "9.6979535495982"
      ],
      "text/markdown": [
       "9.6979535495982"
      ],
      "text/plain": [
       "[1] 9.697954"
      ]
     },
     "metadata": {},
     "output_type": "display_data"
    },
    {
     "data": {
      "text/html": [
       "11.1909353392907"
      ],
      "text/latex": [
       "11.1909353392907"
      ],
      "text/markdown": [
       "11.1909353392907"
      ],
      "text/plain": [
       "[1] 11.19094"
      ]
     },
     "metadata": {},
     "output_type": "display_data"
    }
   ],
   "source": [
    "lcl <- s_mean + qnorm(0.025, 0, 1) * sqrt(s_mean / n)\n",
    "ucl <- s_mean + qnorm(0.975, 0, 1) * sqrt(s_mean / n)\n",
    "lcl ; ucl"
   ]
  },
  {
   "cell_type": "markdown",
   "id": "8493530b",
   "metadata": {},
   "source": [
    "### \n",
    "### 표본크기의 결정\n",
    "\n",
    "#### 모평균 추정시  $100(1-\\alpha)\\%$에 대한 신뢰구간\n",
    "\n",
    "$\\bar{X} - z_{\\alpha / 2}\\sqrt{{\\sigma^2 \\over n}} \\;\\leq\\; \\mu \\;\\leq \\; \\bar{X} - z_{1-{\\alpha / 2}}\\sqrt{{\\sigma^2 \\over n}} \\;\\; = \\;\\; \\bar{X} - z_{\\alpha/2} {\\sigma \\over \\sqrt{n}} \\;\\leq\\; \\mu \\;\\leq\\; \\bar{X} + z_{\\alpha/2} {\\sigma \\over \\sqrt{n}}$\n",
    "\n",
    "- **상기식을 정리하면 신뢰구간상의 허용오차 범위는($-z_{\\alpha/2} {\\sigma \\over \\sqrt{n}}$, $z_{\\alpha/2} {\\sigma \\over \\sqrt{n}}$)**\n",
    "\n",
    "- **허용오차 d에 대해서 $\\;d = z_{\\alpha/2} {\\sigma \\over \\sqrt{n}}$**\n",
    "- **n에 대해서 정리하면 $\\;n = (z_{\\alpha/2}\\;{\\sigma \\over d})^2$**"
   ]
  },
  {
   "cell_type": "markdown",
   "id": "66e6e11c",
   "metadata": {},
   "source": [
    "#### 모비율 추정시  100(1−𝛼)% 에 대한 신뢰구간\n",
    "\n",
    "- **$\\;n = (z_{\\alpha/2}\\;{pq \\over d})^2\\;\\;\\;$ (모비율에 대한 정보가 없는경우 $p = 0.5$)**"
   ]
  }
 ],
 "metadata": {
  "kernelspec": {
   "display_name": "R 4.1.3",
   "language": "R",
   "name": "ir32"
  },
  "language_info": {
   "codemirror_mode": "r",
   "file_extension": ".r",
   "mimetype": "text/x-r-source",
   "name": "R",
   "pygments_lexer": "r",
   "version": "4.1.3"
  }
 },
 "nbformat": 4,
 "nbformat_minor": 5
}
