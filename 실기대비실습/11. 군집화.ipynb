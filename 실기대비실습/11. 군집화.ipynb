{
 "cells": [
  {
   "cell_type": "code",
   "execution_count": 2,
   "id": "a4345b9a",
   "metadata": {},
   "outputs": [],
   "source": [
    "library(tidyverse)"
   ]
  },
  {
   "cell_type": "code",
   "execution_count": 3,
   "id": "0f890f86",
   "metadata": {},
   "outputs": [
    {
     "name": "stderr",
     "output_type": "stream",
     "text": [
      "Loading required package: sysfonts\n",
      "\n",
      "Loading required package: showtextdb\n",
      "\n"
     ]
    }
   ],
   "source": [
    "library(showtext)\n",
    "font_add_google(name = \"Black Han Sans\", family = \"blackhansans\")\n",
    "showtext_auto()"
   ]
  },
  {
   "cell_type": "markdown",
   "id": "e3812942",
   "metadata": {},
   "source": [
    "## 계층적 군집분석\n",
    "- n개의 군집으로 시작해 점차 군집의 개수를 줄여 나가남\n",
    "\n",
    "1. 완전연결법 (최대) : 군집과 군집 또는 데이터와의 거리 계산시 최장거리를 거리로 계산하여 산행렬 수정 (더 조밀한 군집)\n",
    "2. 단인연결법 (최단) : 최소값을 거리로 간주 (길고 느슨한 군집)\n",
    "3. 평균연결법 \n",
    "4. 중심연결법 : 군집별 중심간의 비유사도를 계산\n",
    "5. 와드연결법 (최소분산) : 전체 군집 내 분산을 최소화, 각 단계에서 군집간 거리가 가장 작은 군집쌍이 병합, 더 조밀한 군집 생성"
   ]
  },
  {
   "cell_type": "markdown",
   "id": "a8066104",
   "metadata": {},
   "source": [
    "- **범주형 변수들을군집화를 위한 거리계산에 사용하기 위하여 수치형으로 변환 (원-핫 인코딩)**\n",
    "- 군집 분석은 관측치 간의 거리를 이용하기 때문에 변수의 단위가 결과에 큰 영향을 미침. 따라서 변수에 표준화를 적용 \n",
    "- 단일값을 가지는 변수들은 군집화를 위한 데이터에서 제외"
   ]
  },
  {
   "cell_type": "code",
   "execution_count": 16,
   "id": "09464099",
   "metadata": {},
   "outputs": [],
   "source": [
    "iris_scale <- iris %>% select(-Species) %>%\n",
    "    scale() "
   ]
  },
  {
   "cell_type": "markdown",
   "id": "87070fba",
   "metadata": {},
   "source": [
    "### dist() :\n",
    "- ```data```\n",
    "- ```method``` : \"euclidean\"`, \"maximum\", \"manhattan\", \"canberra\", \"binary\", \"minkowski\"\n",
    "\n",
    "### ```hclust()```\n",
    "- ```data```\n",
    "- ```method``` : \"single\", \"complete\", \"average\", :median\", \"ward.D\", \"centroid\", \"mcquitty\""
   ]
  },
  {
   "cell_type": "code",
   "execution_count": 23,
   "id": "745998ec",
   "metadata": {},
   "outputs": [],
   "source": [
    "d <- dist(iris_scale, method = \"euclidean\")\n",
    "hc1 <- hclust(d, method = \"complete\")\n",
    "\n",
    "# plot(hc1)"
   ]
  },
  {
   "cell_type": "markdown",
   "id": "68603844",
   "metadata": {},
   "source": [
    "### ```agnes()``` : 합병형(상향식, AGNES / 응집 군집화) \n",
    "### ```ac``` : 응집계수 (군집 구조의 강도)\n",
    "- 값이 1에 가까울수록 균형 잡힌 군집 구조\n",
    "- 값이 0에 가까울수록 균형이 좋지 않음\n",
    "- n이 커질수록 ac가 커짐"
   ]
  },
  {
   "cell_type": "code",
   "execution_count": 25,
   "id": "f533d9f8",
   "metadata": {},
   "outputs": [],
   "source": [
    "library(cluster)"
   ]
  },
  {
   "cell_type": "code",
   "execution_count": 27,
   "id": "8f016020",
   "metadata": {},
   "outputs": [
    {
     "data": {
      "text/html": [
       "0.943885841128516"
      ],
      "text/latex": [
       "0.943885841128516"
      ],
      "text/markdown": [
       "0.943885841128516"
      ],
      "text/plain": [
       "[1] 0.9438858"
      ]
     },
     "metadata": {},
     "output_type": "display_data"
    }
   ],
   "source": [
    "hc2 <- agnes(iris_scale, method = \"complete\")\n",
    "hc2$ac "
   ]
  },
  {
   "cell_type": "markdown",
   "id": "314f9326",
   "metadata": {},
   "source": [
    "### ```diana()``` : 분리형 (하향식, DIANA / 분할 계층적 군집화)\n",
    "### ```dc``` : 분할 계수 (분할의 강도)\n",
    "- 1에 가까울수록 분할이 더 강함"
   ]
  },
  {
   "cell_type": "code",
   "execution_count": 32,
   "id": "7c580959",
   "metadata": {},
   "outputs": [
    {
     "data": {
      "text/html": [
       "0.939720796526451"
      ],
      "text/latex": [
       "0.939720796526451"
      ],
      "text/markdown": [
       "0.939720796526451"
      ],
      "text/plain": [
       "[1] 0.9397208"
      ]
     },
     "metadata": {},
     "output_type": "display_data"
    }
   ],
   "source": [
    "hc3 <- diana(iris_scale)\n",
    "hc3$dc"
   ]
  },
  {
   "cell_type": "markdown",
   "id": "ff74ae4d",
   "metadata": {},
   "source": [
    "#### 최적의 군집 결정\n",
    "\n",
    "### ```fviz_nbclust()```\n",
    "- ```FUN``` : hcut : 계층적 / kmeans : K-Means\n",
    "- ```method``` : \"wss\", \"silhouette\", \"gpp_stat\""
   ]
  },
  {
   "cell_type": "code",
   "execution_count": 34,
   "id": "b5bf44ba",
   "metadata": {},
   "outputs": [],
   "source": [
    "library(factoextra)"
   ]
  },
  {
   "cell_type": "code",
   "execution_count": null,
   "id": "2d295410",
   "metadata": {},
   "outputs": [],
   "source": [
    "fviz_nbclust(iris_scale, \n",
    "             FUN = hcut, \n",
    "             method = \"wss\", \n",
    "             k.max = 10)  "
   ]
  },
  {
   "cell_type": "markdown",
   "id": "a2323303",
   "metadata": {},
   "source": [
    "#### 덴드로그램\n",
    "### ```fviz_dend()```\n",
    "- ```x``` : dendrogram, hclust, agnes, diana, hcut, hkmeans객체\n",
    "- ```k``` : cut할 군집 수\n",
    "- ```horiz``` : 가로세로 전환 (TRUE / FALSE)\n",
    "- ```rect``` : cut한 군집에 사각형을 추가할지 여부\n",
    "- ```rect_border``` : 사각형의 테두리 색상 및 선 유형.\n",
    "- ```k_colors``` : 군집에 사용할 색상을 포함하는 벡터. (k개의 색상을 포함) [브루어 팔레트 : \"RdBu\", \"Blues\", \"npg\", \"aaas\", \"lancet\", \"jco\", \"ucscgb\", \"uchicago\", \"simpsons\" 및 \"rickandmorty\", \"grey\")]\n",
    "- ```type``` : 플롯의 유형 [\"rectangle\", \"circular\"]"
   ]
  },
  {
   "cell_type": "code",
   "execution_count": 39,
   "id": "cb95546e",
   "metadata": {},
   "outputs": [],
   "source": [
    "hc5 <- hclust(d, method = \"ward.D2\")"
   ]
  },
  {
   "cell_type": "markdown",
   "id": "6d90712e",
   "metadata": {},
   "source": [
    "#### 원하는 수의 그룹으로 분할\n",
    "### ```cutree()```"
   ]
  },
  {
   "cell_type": "code",
   "execution_count": 43,
   "id": "724dfd96",
   "metadata": {},
   "outputs": [],
   "source": [
    "sub_grp <- cutree(hc5, k = 8)"
   ]
  },
  {
   "cell_type": "code",
   "execution_count": null,
   "id": "6d498e51",
   "metadata": {},
   "outputs": [],
   "source": [
    "plot(hc5)\n",
    "# fviz_dend(hc5)"
   ]
  },
  {
   "cell_type": "code",
   "execution_count": 54,
   "id": "7794455b",
   "metadata": {},
   "outputs": [],
   "source": [
    "# plot(hc5)\n",
    "# rect.hclust(hc5, k = 8, border = \"red\")"
   ]
  },
  {
   "cell_type": "markdown",
   "id": "3ed9aeeb",
   "metadata": {},
   "source": [
    "### 비계층적 군집분석\n",
    "1. 거리측정\n",
    "- 유클리드 : 이상값에 매우 민감, 변수가 정규분포에 근사할때, 합리적\n",
    "- 변수가 정규성에서 크게 벗어나거나, 기존 이상갑에 대해 robust하길 원한다면 맨하탄, 민코우스키, Gower거리 사용\n",
    "- Gower 거리 : 범주형 및 순서형 특징을 포함시\n",
    "- 코사인거리 : 텍스트 마이닝\n",
    "- 상관기반 거리 : 관측값의 크기 차이는 크지만, 형태가 비슷한 un-scaled데이터일 경우, 비상관기반 거리측정보다 두 관찰간의 상관관계를 더 잘 포착\n",
    "\n",
    "### K-평균 알고리즘\n",
    "- 복잡한 기하학적 그룹을 포착하는데 비효율적"
   ]
  },
  {
   "cell_type": "markdown",
   "id": "e81023da",
   "metadata": {},
   "source": [
    "### ```kmeans()```\n",
    "- ```centers```\n",
    "- ```nstart```\n",
    "\n",
    "```withinss``` : 군집내 변동\n",
    "```tot.withinss``` : 군집 내 변동 총 제곱합\n",
    "```centers``` : 각 군집의 중심"
   ]
  },
  {
   "cell_type": "code",
   "execution_count": 58,
   "id": "0fd3f665",
   "metadata": {},
   "outputs": [],
   "source": [
    "km <- kmeans(iris_scale, 4)"
   ]
  },
  {
   "cell_type": "markdown",
   "id": "40694cfa",
   "metadata": {},
   "source": [
    "### ```fviz_nbclust()```\n",
    "- ```FUN``` : hcut : 계층적 / kmeans : K-Means\n",
    "- ```k.max```\n",
    "- ```method``` : \"wss\", \"silhouette\", \"gpp_stat\""
   ]
  },
  {
   "cell_type": "markdown",
   "id": "ee0cf9eb",
   "metadata": {},
   "source": [
    "#### 군집의 수\n",
    "- k가 클수록 균질성을 향상시킬 수 있습니다. 그러나 과적합의 위험\n",
    "- 주어진 사전적인 라벨값이 있다면, 라벨값을 k로 사용\n",
    "- 사전적인 정보가 없다면 k = sqrt(n/2)\n",
    "\n",
    "#### 엘보우 기법\n",
    "- 군집내 총 제곱합(WSS)은 군집의 간결함의 정도, 가능한 최소화\n",
    "- k별 WSS계산 => WSS값의 곡선을 plot => plot의 엘보우 포인트를 적절한 k로 선정\n",
    "\n",
    "#### 변수의 수가 증가함에 따라 k-means의 성능이 저하\n",
    "- 적절한 엘보우 포인트 탐색 불가 => Gower 거리 측정\n",
    "\n",
    "#### Gower 거리\n",
    "- 정량적 (간격) 데이터 : 정규화 맨해튼 거리\n",
    "- 순서형 데이터 : 변수가 먼저 순위가 매겨진 다음, 맨하탄 거리가 동률에 대한 특별 조정과 함께 사용\n",
    "- 명목형 데이터 : k개의 범주를 가진 범주형 변수는, k개의 열을 가진 데이터로 변환(원-핫 인코딩), 주사위 계수 (Dice coefficient)가 사용됨,\n",
    "    - 주사위 계수 : 두 관측치(X, Y)에 대해 (모두 원-핫 인코딩된 범주형 데이터)\n",
    "    - a = X와 Y가 모두 1인 dummy 수\n",
    "    - b = X가 1, Y가 0인 dummy 수\n",
    "    - c = X가 0, Y가 1인 dummy 수\n",
    "    - d = X와 Y가 모두 0인 dummy 수\n",
    "    - \n",
    "D = 2a / (2a + b + c)\n",
    "\n",
    "### 스펙트럼 군집화\n",
    "- 복잡한 기하학적 그룹을 포착하는데 효율적"
   ]
  },
  {
   "cell_type": "code",
   "execution_count": 60,
   "id": "fe4f53ec",
   "metadata": {},
   "outputs": [],
   "source": [
    "library(kernlab)"
   ]
  },
  {
   "cell_type": "code",
   "execution_count": null,
   "id": "986bcccc",
   "metadata": {},
   "outputs": [],
   "source": [
    "sc <- specc(iris_scale, centers = 2)\n",
    "sc@.Data # 군집\n",
    "sc@centers # 군집별 중심\n",
    "sc@withinss # 군집내 변동"
   ]
  },
  {
   "cell_type": "markdown",
   "id": "edd2d63c",
   "metadata": {},
   "source": [
    "### ```cluster::daisy()```\n",
    "- 데이터 세트의 관측치 사이의 모든 쌍별 비유사도(거리)를 계산\n",
    "- metric : \"gower\"로 지정함으로써 Gower 거리 계산 [\"euclidean\", \"manhattan\", \"gower\"}"
   ]
  },
  {
   "cell_type": "code",
   "execution_count": 70,
   "id": "b1e05d87",
   "metadata": {},
   "outputs": [],
   "source": [
    "library(cluster)"
   ]
  },
  {
   "cell_type": "code",
   "execution_count": 73,
   "id": "48a99586",
   "metadata": {},
   "outputs": [],
   "source": [
    "gower_dist <- daisy(iris_scale, metric = \"gower\")"
   ]
  },
  {
   "cell_type": "markdown",
   "id": "c89bee36",
   "metadata": {},
   "source": [
    "#### Gower 거리 행#렬은 ```cluster::diana(), cluster::agnes(), cluster::pam()```에만 사용 가능\n",
    "#### ```cluster::kmeans(), cluster::clara()```에는 적용 불가"
   ]
  },
  {
   "cell_type": "markdown",
   "id": "656da754",
   "metadata": {},
   "source": [
    "### 대체 분할 방법 (PAM)\n",
    "- 데이터의 차원이 증가함에 따라 더 많은 이상치 발생 가능\n",
    "- k -means는 평균을 사용하므로 이상치에 취약\n",
    "- 이의 대안으로 PAM(partitioning around medians)을 사용, 이상치에 더 robust하게 만듬"
   ]
  },
  {
   "cell_type": "code",
   "execution_count": 75,
   "id": "445cda85",
   "metadata": {},
   "outputs": [],
   "source": [
    "pm <- pam(gower_dist, k = 8, diss = T)"
   ]
  },
  {
   "cell_type": "markdown",
   "id": "b67f79f4",
   "metadata": {},
   "source": [
    "### clustering large applications (CLARA)\n",
    "- 데이터 세트가 계층적으로 커지면 k-means와 PAM 군집화가 느려짐\n",
    "- 이의 대안으로 CLARA사용, 전체 데이터에 대해 중심점(medoid)를 탐색하는 대신 작은 크기에 대해 kmeans나 PAM을 적용\n",
    "1. 데이터 세트를 고정 크기의 여러 하위집합으로 무작위로 분할.\n",
    "2. 각 부분 집합에 대해 PAM 알고리즘을 계산하고, k-medoid에 해당하는 항목을 선택. 전체 데이터 세트의 각 관측값을 가장 가까운 medoid에 할당합니다.\n",
    "3. 가장 가까운 medoid에 대한 관측치의 비유사성의 평균(또는 합)을 계산. 이것은 군집적합도의 척도로 사용.\n",
    "4. 평균(또는 합계)이 최소인 하위 데이터 세트를 유지."
   ]
  },
  {
   "cell_type": "code",
   "execution_count": 79,
   "id": "1a7e465c",
   "metadata": {},
   "outputs": [],
   "source": [
    "cl <- clara(iris_scale, k = 8)"
   ]
  },
  {
   "cell_type": "markdown",
   "id": "c1cd30c9",
   "metadata": {},
   "source": [
    "### 모델 기반 군집화\n",
    "\n",
    "### ```Mclust()```\n",
    "- G : 군집수 (BIC를 계산할 혼합성분(군집)의 수를 지정), G를 지정하지 않으면, 자동으로 최적의 값 탐색\n",
    "- modelNames : 군집화의 EM 단계에 적합할 모델을\n",
    "    - 일변량 데이터의 경우(d=1): [\"E\", \"V\"]\n",
    "    - 다변수 데이터의 경우(n>d): mclust.options(\"emModelNames\")에서 사용 가능한 모든 모델\n",
    "    - 다변수 데이터(n<=d): 나선형 및 대각선 모델, [\"EII\", \"VII\", \"EEI\", \"EVI\", \"VEI\", \"VVI\"]\n",
    "    \n",
    "### 혼합 분포 군집\n",
    "- 데이터가 k개의 모수적 모형의 가중합으로 표현되는 모집단 모형으로부터 나왓다는 가정하에서 모수와 함꼐 가중치를 자료로부터 추정하는 방법을 사용\n",
    "- K개의 각 모형은 군집을 의미하며, 각 데이터는 추정된 K개의 모형 중 어느 모형으로 나왓을 확률이 높은지에 따라 군집의 분류가 이루어짐\n",
    "- 모수와 가중치의 최대가능도추정에는 EM알고리즘 사용\n",
    "\n",
    "### EM 알고리즘\n",
    "- E 단계 : 잠재변수 Z의 기대치 계산\n",
    "- M 단계 : 잠재변수 Z의 기대치를 이용하여 파라미터 추정\n",
    "\n",
    "#### 이상치에 민감, 군집을 몇 개의 모수로 표현 가능"
   ]
  },
  {
   "cell_type": "code",
   "execution_count": 82,
   "id": "3546aa5d",
   "metadata": {},
   "outputs": [],
   "source": [
    "library(mclust)"
   ]
  },
  {
   "cell_type": "code",
   "execution_count": null,
   "id": "8824caec",
   "metadata": {},
   "outputs": [],
   "source": [
    "mc <- Mclust(iris_scale, G = 4)\n",
    "plot(mc, what = \"density\") # G개의 군집을 강조 표시하는 다변량 밀도 플롯\n",
    "plot(mc, what = \"uncertainty\") \n",
    "# 어떤 군집의 구성원인지에 대한 불확실성이 높은 관측값을 강조하는 불확실성 플롯"
   ]
  },
  {
   "cell_type": "markdown",
   "id": "d71c13aa",
   "metadata": {},
   "source": [
    "- 확률적 군집 할당은, 군집 불확실성이 높거나 낮은 관측치를 식별하고 잠재적으로 고유하게 대상을 지정하거나 대체 솔루션을 제공할 수 있도록 하므로 매우 유용"
   ]
  },
  {
   "cell_type": "code",
   "execution_count": 98,
   "id": "b5067ad6",
   "metadata": {},
   "outputs": [
    {
     "data": {
      "text/plain": [
       "'Mclust' model object: (VEV,4) \n",
       "\n",
       "Available components: \n",
       " [1] \"call\"           \"data\"           \"modelName\"      \"n\"             \n",
       " [5] \"d\"              \"G\"              \"BIC\"            \"loglik\"        \n",
       " [9] \"df\"             \"bic\"            \"icl\"            \"hypvol\"        \n",
       "[13] \"parameters\"     \"z\"              \"classification\" \"uncertainty\"   "
      ]
     },
     "metadata": {},
     "output_type": "display_data"
    }
   ],
   "source": [
    "mc"
   ]
  },
  {
   "cell_type": "code",
   "execution_count": 86,
   "id": "48081d4c",
   "metadata": {
    "scrolled": true
   },
   "outputs": [
    {
     "data": {
      "text/plain": [
       "---------------------------------------------------- \n",
       "Gaussian finite mixture model fitted by EM algorithm \n",
       "---------------------------------------------------- \n",
       "\n",
       "Mclust VEV (ellipsoidal, equal shape) model with 4 components: \n",
       "\n",
       " log-likelihood   n df       BIC       ICL\n",
       "       -285.437 150 50 -821.4057 -837.1989\n",
       "\n",
       "Clustering table:\n",
       " 1  2  3  4 \n",
       "26 24 34 66 "
      ]
     },
     "metadata": {},
     "output_type": "display_data"
    }
   ],
   "source": [
    "mc %>% summary"
   ]
  },
  {
   "cell_type": "markdown",
   "id": "7203edb1",
   "metadata": {},
   "source": [
    "- 불확실성이 가장 높은 관측값 (불확실성 : 다른 군집에도 할당될 확률)"
   ]
  },
  {
   "cell_type": "code",
   "execution_count": 100,
   "id": "942c7e58",
   "metadata": {},
   "outputs": [
    {
     "name": "stdout",
     "output_type": "stream",
     "text": [
      "[1] 0.4721437 0.4481100 0.4103222 0.3976437 0.3479466 0.3379856\n"
     ]
    }
   ],
   "source": [
    "sort(mc$uncertainty, decreasing = T) %>% head %>% print"
   ]
  },
  {
   "cell_type": "markdown",
   "id": "4fa46fd0",
   "metadata": {},
   "source": [
    "### 공분산 유형\n",
    "- 공분산 행렬은 군집의의 볼륨(양), 모양 및 방향\n",
    "- 군집과 밀도는, 크기와 모양이 비례\n",
    "\n",
    "#### 공분산 행렬에 제약조건을 추가, 제약조건은 다음중 하나**\n",
    "1. 볼륨: 각 군집은 거의 동일한 수의 관측치가 있다\n",
    "2. 모양: 분포가 구형이 되도록 각 군집은 거의 동일한 분산을 가짐.\n",
    "3. 방향: 각 군집은 강제로 축 정렬됨."
   ]
  },
  {
   "cell_type": "markdown",
   "id": "345bb2ab",
   "metadata": {},
   "source": [
    "#### BIC기준 공분산 매개변수 식별, 최적의 군집수 탐색\n"
   ]
  },
  {
   "cell_type": "code",
   "execution_count": 101,
   "id": "fc587300",
   "metadata": {},
   "outputs": [],
   "source": [
    "opt_mc <- Mclust(iris_scale)"
   ]
  },
  {
   "cell_type": "code",
   "execution_count": 102,
   "id": "1c552e3f",
   "metadata": {},
   "outputs": [
    {
     "data": {
      "text/plain": [
       "'Mclust' model object: (VVV,2) \n",
       "\n",
       "Available components: \n",
       " [1] \"call\"           \"data\"           \"modelName\"      \"n\"             \n",
       " [5] \"d\"              \"G\"              \"BIC\"            \"loglik\"        \n",
       " [9] \"df\"             \"bic\"            \"icl\"            \"hypvol\"        \n",
       "[13] \"parameters\"     \"z\"              \"classification\" \"uncertainty\"   "
      ]
     },
     "metadata": {},
     "output_type": "display_data"
    }
   ],
   "source": [
    "opt_mc"
   ]
  },
  {
   "cell_type": "markdown",
   "id": "f9e94ecc",
   "metadata": {},
   "source": [
    "최적모델은 2개의 군집, BIC값이 가장 낮은 VVV 공분산 매개변수를 사용"
   ]
  }
 ],
 "metadata": {
  "kernelspec": {
   "display_name": "R 4.1.3",
   "language": "R",
   "name": "ir32"
  },
  "language_info": {
   "codemirror_mode": "r",
   "file_extension": ".r",
   "mimetype": "text/x-r-source",
   "name": "R",
   "pygments_lexer": "r",
   "version": "4.1.3"
  }
 },
 "nbformat": 4,
 "nbformat_minor": 5
}
