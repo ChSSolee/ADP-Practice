{
  "nbformat": 4,
  "nbformat_minor": 0,
  "metadata": {
    "colab": {
      "provenance": [],
      "collapsed_sections": []
    },
    "kernelspec": {
      "name": "python3",
      "display_name": "Python 3"
    },
    "language_info": {
      "name": "python"
    }
  },
  "cells": [
    {
      "cell_type": "markdown",
      "source": [
        "## 3. Collaborative Filtering (협업 필터링)\n",
        "- 비슷한 취향을 가진 사용자를 매칭 시켜서 추천\n",
        "- 나의 이력을 기반으로 추천\n",
        "\n",
        "<br/>\n",
        "\n",
        "<br/>\n",
        "\n",
        "#### 사용자 기반 필터링 \n",
        "- 특정 사용자와 유사한 사용자에게 제품을 추천\n",
        "- 두 사용자 간의 유사성을 측정하기 위해 피어슨 상관계수 또는 코사인 유사도를 사용\n",
        "\n",
        "<br/>\n",
        "\n",
        "<br/>\n",
        "\n",
        "#### 항목 기반 협업 필터링 \n",
        "- 사용자 간의 유사도를 측정하는 대신, 대상 사용자가 평가한 항목과의 유사도를 기반으로 추천 \n",
        "- 마찬가지로 유사성은 피어슨 상관계수 또는 코사인 유사도를 사용하여 계산"
      ],
      "metadata": {
        "id": "ST6lDZGlUf51"
      }
    },
    {
      "cell_type": "markdown",
      "source": [
        "https://surprise.readthedocs.io/en/stable/\n",
        "\n",
        "<br/>"
      ],
      "metadata": {
        "id": "7e5FpfRlV1Zu"
      }
    },
    {
      "cell_type": "code",
      "source": [
        "import pandas as pd\n",
        "import numpy as np\n",
        "import sklearn\n",
        "import surprise\n",
        "from surprise import Reader, Dataset\n",
        "from surprise import KNNBasic, SVD, SVDpp, NMF\n",
        "from surprise.model_selection import cross_validate"
      ],
      "metadata": {
        "id": "h_ULwsZXV_7H"
      },
      "execution_count": 33,
      "outputs": []
    },
    {
      "cell_type": "code",
      "source": [
        "ratings = pd.read_csv(\"/content/ratings_small.csv\")\n",
        "ratings.head(3)"
      ],
      "metadata": {
        "colab": {
          "base_uri": "https://localhost:8080/",
          "height": 143
        },
        "id": "KEC2ldOgUoO-",
        "outputId": "146df7d0-f68e-4273-90c0-b7ddcd9c3570"
      },
      "execution_count": 31,
      "outputs": [
        {
          "output_type": "execute_result",
          "data": {
            "text/plain": [
              "   userId  movieId  rating   timestamp\n",
              "0       1       31     2.5  1260759144\n",
              "1       1     1029     3.0  1260759179\n",
              "2       1     1061     3.0  1260759182"
            ],
            "text/html": [
              "\n",
              "  <div id=\"df-11f019f3-3067-4c62-a0e2-e74b9929be1d\">\n",
              "    <div class=\"colab-df-container\">\n",
              "      <div>\n",
              "<style scoped>\n",
              "    .dataframe tbody tr th:only-of-type {\n",
              "        vertical-align: middle;\n",
              "    }\n",
              "\n",
              "    .dataframe tbody tr th {\n",
              "        vertical-align: top;\n",
              "    }\n",
              "\n",
              "    .dataframe thead th {\n",
              "        text-align: right;\n",
              "    }\n",
              "</style>\n",
              "<table border=\"1\" class=\"dataframe\">\n",
              "  <thead>\n",
              "    <tr style=\"text-align: right;\">\n",
              "      <th></th>\n",
              "      <th>userId</th>\n",
              "      <th>movieId</th>\n",
              "      <th>rating</th>\n",
              "      <th>timestamp</th>\n",
              "    </tr>\n",
              "  </thead>\n",
              "  <tbody>\n",
              "    <tr>\n",
              "      <th>0</th>\n",
              "      <td>1</td>\n",
              "      <td>31</td>\n",
              "      <td>2.5</td>\n",
              "      <td>1260759144</td>\n",
              "    </tr>\n",
              "    <tr>\n",
              "      <th>1</th>\n",
              "      <td>1</td>\n",
              "      <td>1029</td>\n",
              "      <td>3.0</td>\n",
              "      <td>1260759179</td>\n",
              "    </tr>\n",
              "    <tr>\n",
              "      <th>2</th>\n",
              "      <td>1</td>\n",
              "      <td>1061</td>\n",
              "      <td>3.0</td>\n",
              "      <td>1260759182</td>\n",
              "    </tr>\n",
              "  </tbody>\n",
              "</table>\n",
              "</div>\n",
              "      <button class=\"colab-df-convert\" onclick=\"convertToInteractive('df-11f019f3-3067-4c62-a0e2-e74b9929be1d')\"\n",
              "              title=\"Convert this dataframe to an interactive table.\"\n",
              "              style=\"display:none;\">\n",
              "        \n",
              "  <svg xmlns=\"http://www.w3.org/2000/svg\" height=\"24px\"viewBox=\"0 0 24 24\"\n",
              "       width=\"24px\">\n",
              "    <path d=\"M0 0h24v24H0V0z\" fill=\"none\"/>\n",
              "    <path d=\"M18.56 5.44l.94 2.06.94-2.06 2.06-.94-2.06-.94-.94-2.06-.94 2.06-2.06.94zm-11 1L8.5 8.5l.94-2.06 2.06-.94-2.06-.94L8.5 2.5l-.94 2.06-2.06.94zm10 10l.94 2.06.94-2.06 2.06-.94-2.06-.94-.94-2.06-.94 2.06-2.06.94z\"/><path d=\"M17.41 7.96l-1.37-1.37c-.4-.4-.92-.59-1.43-.59-.52 0-1.04.2-1.43.59L10.3 9.45l-7.72 7.72c-.78.78-.78 2.05 0 2.83L4 21.41c.39.39.9.59 1.41.59.51 0 1.02-.2 1.41-.59l7.78-7.78 2.81-2.81c.8-.78.8-2.07 0-2.86zM5.41 20L4 18.59l7.72-7.72 1.47 1.35L5.41 20z\"/>\n",
              "  </svg>\n",
              "      </button>\n",
              "      \n",
              "  <style>\n",
              "    .colab-df-container {\n",
              "      display:flex;\n",
              "      flex-wrap:wrap;\n",
              "      gap: 12px;\n",
              "    }\n",
              "\n",
              "    .colab-df-convert {\n",
              "      background-color: #E8F0FE;\n",
              "      border: none;\n",
              "      border-radius: 50%;\n",
              "      cursor: pointer;\n",
              "      display: none;\n",
              "      fill: #1967D2;\n",
              "      height: 32px;\n",
              "      padding: 0 0 0 0;\n",
              "      width: 32px;\n",
              "    }\n",
              "\n",
              "    .colab-df-convert:hover {\n",
              "      background-color: #E2EBFA;\n",
              "      box-shadow: 0px 1px 2px rgba(60, 64, 67, 0.3), 0px 1px 3px 1px rgba(60, 64, 67, 0.15);\n",
              "      fill: #174EA6;\n",
              "    }\n",
              "\n",
              "    [theme=dark] .colab-df-convert {\n",
              "      background-color: #3B4455;\n",
              "      fill: #D2E3FC;\n",
              "    }\n",
              "\n",
              "    [theme=dark] .colab-df-convert:hover {\n",
              "      background-color: #434B5C;\n",
              "      box-shadow: 0px 1px 3px 1px rgba(0, 0, 0, 0.15);\n",
              "      filter: drop-shadow(0px 1px 2px rgba(0, 0, 0, 0.3));\n",
              "      fill: #FFFFFF;\n",
              "    }\n",
              "  </style>\n",
              "\n",
              "      <script>\n",
              "        const buttonEl =\n",
              "          document.querySelector('#df-11f019f3-3067-4c62-a0e2-e74b9929be1d button.colab-df-convert');\n",
              "        buttonEl.style.display =\n",
              "          google.colab.kernel.accessAllowed ? 'block' : 'none';\n",
              "\n",
              "        async function convertToInteractive(key) {\n",
              "          const element = document.querySelector('#df-11f019f3-3067-4c62-a0e2-e74b9929be1d');\n",
              "          const dataTable =\n",
              "            await google.colab.kernel.invokeFunction('convertToInteractive',\n",
              "                                                     [key], {});\n",
              "          if (!dataTable) return;\n",
              "\n",
              "          const docLinkHtml = 'Like what you see? Visit the ' +\n",
              "            '<a target=\"_blank\" href=https://colab.research.google.com/notebooks/data_table.ipynb>data table notebook</a>'\n",
              "            + ' to learn more about interactive tables.';\n",
              "          element.innerHTML = '';\n",
              "          dataTable['output_type'] = 'display_data';\n",
              "          await google.colab.output.renderOutput(dataTable, element);\n",
              "          const docLink = document.createElement('div');\n",
              "          docLink.innerHTML = docLinkHtml;\n",
              "          element.appendChild(docLink);\n",
              "        }\n",
              "      </script>\n",
              "    </div>\n",
              "  </div>\n",
              "  "
            ]
          },
          "metadata": {},
          "execution_count": 31
        }
      ]
    },
    {
      "cell_type": "code",
      "source": [
        "ratings.shape, ratings.rating.min(), ratings.rating.max()"
      ],
      "metadata": {
        "colab": {
          "base_uri": "https://localhost:8080/"
        },
        "id": "ow77mlthWz29",
        "outputId": "23cb5bfb-5b57-47a3-c5d2-4cbc1902f6a7"
      },
      "execution_count": 32,
      "outputs": [
        {
          "output_type": "execute_result",
          "data": {
            "text/plain": [
              "((100004, 4), 0.5, 5.0)"
            ]
          },
          "metadata": {},
          "execution_count": 32
        }
      ]
    },
    {
      "cell_type": "markdown",
      "source": [
        "<br/>\n",
        "\n",
        "### ```surprise.Reader(name, line_format, sep, rating_scale, skip_lines, ...)```\n",
        "- ```rating_scale``` : 평점의 범위\n"
      ],
      "metadata": {
        "id": "qe5aLt8CWRO0"
      }
    },
    {
      "cell_type": "code",
      "source": [
        "reader = Reader(rating_scale = (0.5, 5))"
      ],
      "metadata": {
        "id": "OykWMpxfU_ad"
      },
      "execution_count": 14,
      "outputs": []
    },
    {
      "cell_type": "markdown",
      "source": [
        "<br/>\n",
        "\n",
        "### ```Dataset.load_from_df()``` \n",
        "- **ratings와 같이 userId, movieId, rating, timestamp에 대한 정보를 포함하는 DataFrame을 읽음**"
      ],
      "metadata": {
        "id": "VfOZvfEiXI3G"
      }
    },
    {
      "cell_type": "code",
      "source": [
        "data = Dataset.load_from_df(ratings[['userId', 'movieId', 'rating']], reader = reader)\n",
        "data.raw_ratings[:10]"
      ],
      "metadata": {
        "colab": {
          "base_uri": "https://localhost:8080/"
        },
        "id": "qKDzJi_WXCnr",
        "outputId": "555255fb-6d47-4a1f-a87e-a9b5f4936981"
      },
      "execution_count": 29,
      "outputs": [
        {
          "output_type": "execute_result",
          "data": {
            "text/plain": [
              "[(1, 31, 2.5, None),\n",
              " (1, 1029, 3.0, None),\n",
              " (1, 1061, 3.0, None),\n",
              " (1, 1129, 2.0, None),\n",
              " (1, 1172, 4.0, None),\n",
              " (1, 1263, 2.0, None),\n",
              " (1, 1287, 2.0, None),\n",
              " (1, 1293, 2.0, None),\n",
              " (1, 1339, 3.5, None),\n",
              " (1, 1343, 2.0, None)]"
            ]
          },
          "metadata": {},
          "execution_count": 29
        }
      ]
    },
    {
      "cell_type": "markdown",
      "source": [
        "<br/>\n",
        "\n",
        "### ```surprise.SVD()``` : SVD\n",
        "### ```surprise.KNNBasic()``` : K 최근접 이웃\n",
        "### ```surprise.SVDpp()``` : SVD++\n",
        "### ```surprise.NMF()``` : 비응수 행렬 분해\n",
        "\n",
        "- 잠재 요인 모델을 활용하여 사용자와 항목 간의 유사성을 캡처\n",
        "- 추천 문제를 최적화 문제로 바꾸기 위하여, 사용자에게 주어진 항목에 대한 평가를 얼마나 잘 예측하는지로 평가\n",
        "- RMSE가 낮을수록 성능이 좋은 성능\n",
        "- SVD는 잠재 요인을 추출하여 차원을 축소. \n"
      ],
      "metadata": {
        "id": "QBN2FpprXB7R"
      }
    },
    {
      "cell_type": "code",
      "source": [
        "svd = SVD(random_state = 0)\n",
        "knn = KNNBasic(random_state = 0)\n",
        "nmf = NMF(random_state = 0)\n",
        "# svdpp = SVDpp(random_state = 0)"
      ],
      "metadata": {
        "id": "rmgpFZd3XwtI"
      },
      "execution_count": 34,
      "outputs": []
    },
    {
      "cell_type": "markdown",
      "source": [
        "<br/>\n",
        "\n",
        "### ```surprise.model_selection.cross_validate(모형, data, measures, cv, ...)``` : 모형에 대한 교차 검증\n",
        "- ```measures``` : 평가 점수\n",
        "- ```cv``` : 교차검증 횟수"
      ],
      "metadata": {
        "id": "QHVM1Pu1Y5d7"
      }
    },
    {
      "cell_type": "code",
      "source": [
        "cross_validate(svd, data, measures = ['RMSE', 'MAE'], cv=5, verbose = True)"
      ],
      "metadata": {
        "colab": {
          "base_uri": "https://localhost:8080/"
        },
        "id": "ChWE84p7YqpL",
        "outputId": "7c6b2243-59f2-42ab-b0e2-04404613a80b"
      },
      "execution_count": 18,
      "outputs": [
        {
          "output_type": "stream",
          "name": "stdout",
          "text": [
            "Evaluating RMSE, MAE of algorithm SVD on 5 split(s).\n",
            "\n",
            "                  Fold 1  Fold 2  Fold 3  Fold 4  Fold 5  Mean    Std     \n",
            "RMSE (testset)    0.9002  0.8900  0.8951  0.8997  0.8940  0.8958  0.0038  \n",
            "MAE (testset)     0.6923  0.6851  0.6879  0.6932  0.6884  0.6894  0.0030  \n",
            "Fit time          4.99    4.99    4.94    5.93    5.50    5.27    0.39    \n",
            "Test time         0.14    0.30    0.14    0.30    0.14    0.21    0.08    \n"
          ]
        },
        {
          "output_type": "execute_result",
          "data": {
            "text/plain": [
              "{'test_rmse': array([0.9001988 , 0.88997073, 0.89514338, 0.89972415, 0.89398649]),\n",
              " 'test_mae': array([0.69229826, 0.68507757, 0.68794114, 0.69317012, 0.68842066]),\n",
              " 'fit_time': (4.9947190284729,\n",
              "  4.987050533294678,\n",
              "  4.9385764598846436,\n",
              "  5.934472560882568,\n",
              "  5.497990608215332),\n",
              " 'test_time': (0.1420001983642578,\n",
              "  0.3000760078430176,\n",
              "  0.14197587966918945,\n",
              "  0.3037290573120117,\n",
              "  0.1396498680114746)}"
            ]
          },
          "metadata": {},
          "execution_count": 18
        }
      ]
    },
    {
      "cell_type": "code",
      "source": [
        "cross_validate(knn, data, measures = ['RMSE', 'MAE'], cv=5, verbose = True)"
      ],
      "metadata": {
        "colab": {
          "base_uri": "https://localhost:8080/"
        },
        "id": "M8wkEKk_hCaa",
        "outputId": "e8fe0797-e856-416d-95fc-ea183d2f15a3"
      },
      "execution_count": 37,
      "outputs": [
        {
          "output_type": "stream",
          "name": "stdout",
          "text": [
            "Computing the msd similarity matrix...\n",
            "Done computing similarity matrix.\n",
            "Computing the msd similarity matrix...\n",
            "Done computing similarity matrix.\n",
            "Computing the msd similarity matrix...\n",
            "Done computing similarity matrix.\n",
            "Computing the msd similarity matrix...\n",
            "Done computing similarity matrix.\n",
            "Computing the msd similarity matrix...\n",
            "Done computing similarity matrix.\n",
            "Evaluating RMSE, MAE of algorithm KNNBasic on 5 split(s).\n",
            "\n",
            "                  Fold 1  Fold 2  Fold 3  Fold 4  Fold 5  Mean    Std     \n",
            "RMSE (testset)    0.9697  0.9614  0.9711  0.9570  0.9767  0.9672  0.0071  \n",
            "MAE (testset)     0.7446  0.7387  0.7486  0.7367  0.7483  0.7434  0.0049  \n",
            "Fit time          0.21    0.17    0.18    0.17    0.18    0.18    0.02    \n",
            "Test time         1.56    1.58    1.55    1.56    1.57    1.56    0.01    \n"
          ]
        },
        {
          "output_type": "execute_result",
          "data": {
            "text/plain": [
              "{'test_rmse': array([0.96971418, 0.96139859, 0.97107164, 0.95697625, 0.9766564 ]),\n",
              " 'test_mae': array([0.74457058, 0.73872365, 0.748592  , 0.73673324, 0.74834888]),\n",
              " 'fit_time': (0.2118213176727295,\n",
              "  0.1668715476989746,\n",
              "  0.17515993118286133,\n",
              "  0.17276263236999512,\n",
              "  0.1752300262451172),\n",
              " 'test_time': (1.557586431503296,\n",
              "  1.5770461559295654,\n",
              "  1.5495104789733887,\n",
              "  1.5622377395629883,\n",
              "  1.5688910484313965)}"
            ]
          },
          "metadata": {},
          "execution_count": 37
        }
      ]
    },
    {
      "cell_type": "code",
      "source": [
        "cross_validate(nmf, data, measures = ['RMSE', 'MAE'], cv=5, verbose = True)\n",
        "# cross_validate(svdpp, data, measures = ['RMSE', 'MAE'], cv=5, verbose = True)"
      ],
      "metadata": {
        "colab": {
          "base_uri": "https://localhost:8080/"
        },
        "id": "45mAw3EFhhwP",
        "outputId": "1a5be555-6d41-431d-d093-caaef884592a"
      },
      "execution_count": 39,
      "outputs": [
        {
          "output_type": "stream",
          "name": "stdout",
          "text": [
            "Evaluating RMSE, MAE of algorithm NMF on 5 split(s).\n",
            "\n",
            "                  Fold 1  Fold 2  Fold 3  Fold 4  Fold 5  Mean    Std     \n",
            "RMSE (testset)    0.9401  0.9569  0.9539  0.9590  0.9456  0.9511  0.0071  \n",
            "MAE (testset)     0.7223  0.7335  0.7343  0.7350  0.7273  0.7305  0.0049  \n",
            "Fit time          7.21    7.22    6.41    7.06    6.30    6.84    0.40    \n",
            "Test time         0.34    0.30    0.13    0.12    0.13    0.20    0.10    \n"
          ]
        },
        {
          "output_type": "execute_result",
          "data": {
            "text/plain": [
              "{'test_rmse': array([0.94007423, 0.95686136, 0.9538772 , 0.95903248, 0.94563315]),\n",
              " 'test_mae': array([0.72229086, 0.73351509, 0.73433738, 0.73503027, 0.7272663 ]),\n",
              " 'fit_time': (7.213628768920898,\n",
              "  7.2220070362091064,\n",
              "  6.408390522003174,\n",
              "  7.055392503738403,\n",
              "  6.303618669509888),\n",
              " 'test_time': (0.3387868404388428,\n",
              "  0.29956579208374023,\n",
              "  0.13003158569335938,\n",
              "  0.12351584434509277,\n",
              "  0.12628650665283203)}"
            ]
          },
          "metadata": {},
          "execution_count": 39
        }
      ]
    },
    {
      "cell_type": "markdown",
      "source": [
        "<br/>\n",
        "\n",
        "- 전체 데이터에 대한 적합"
      ],
      "metadata": {
        "id": "iwfddDg4bwiW"
      }
    },
    {
      "cell_type": "code",
      "source": [
        "trainset = data.build_full_trainset()\n",
        "knn.fit(trainset)\n",
        "svd.fit(trainset)\n",
        "nmf.fit(trainset)\n",
        "# svdpp.fit(trainset)"
      ],
      "metadata": {
        "colab": {
          "base_uri": "https://localhost:8080/"
        },
        "id": "RZ-sJiP_YtKx",
        "outputId": "79a07704-769c-42eb-e604-5e0d0f412b2d"
      },
      "execution_count": 40,
      "outputs": [
        {
          "output_type": "stream",
          "name": "stdout",
          "text": [
            "Computing the msd similarity matrix...\n",
            "Done computing similarity matrix.\n"
          ]
        },
        {
          "output_type": "execute_result",
          "data": {
            "text/plain": [
              "<surprise.prediction_algorithms.matrix_factorization.NMF at 0x7f98af451850>"
            ]
          },
          "metadata": {},
          "execution_count": 40
        }
      ]
    },
    {
      "cell_type": "markdown",
      "source": [
        "<br/>\n",
        "\n",
        "- **userId가 1인 사람의, movieId가 31 영화에 대한 평점 예측**"
      ],
      "metadata": {
        "id": "Mf1OE8uocX_-"
      }
    },
    {
      "cell_type": "code",
      "source": [
        "ratings[ratings['userId'] == 1][ratings['movieId'] == 31]"
      ],
      "metadata": {
        "colab": {
          "base_uri": "https://localhost:8080/",
          "height": 137
        },
        "id": "S5zA82T3kHxr",
        "outputId": "17508ce8-8ec8-41d9-cbb3-6e8774561144"
      },
      "execution_count": 48,
      "outputs": [
        {
          "output_type": "stream",
          "name": "stderr",
          "text": [
            "/usr/local/lib/python3.7/dist-packages/ipykernel_launcher.py:1: UserWarning: Boolean Series key will be reindexed to match DataFrame index.\n",
            "  \"\"\"Entry point for launching an IPython kernel.\n"
          ]
        },
        {
          "output_type": "execute_result",
          "data": {
            "text/plain": [
              "   userId  movieId  rating   timestamp\n",
              "0       1       31     2.5  1260759144"
            ],
            "text/html": [
              "\n",
              "  <div id=\"df-8b1bb2d6-992d-48dc-91f5-22eef087e8f7\">\n",
              "    <div class=\"colab-df-container\">\n",
              "      <div>\n",
              "<style scoped>\n",
              "    .dataframe tbody tr th:only-of-type {\n",
              "        vertical-align: middle;\n",
              "    }\n",
              "\n",
              "    .dataframe tbody tr th {\n",
              "        vertical-align: top;\n",
              "    }\n",
              "\n",
              "    .dataframe thead th {\n",
              "        text-align: right;\n",
              "    }\n",
              "</style>\n",
              "<table border=\"1\" class=\"dataframe\">\n",
              "  <thead>\n",
              "    <tr style=\"text-align: right;\">\n",
              "      <th></th>\n",
              "      <th>userId</th>\n",
              "      <th>movieId</th>\n",
              "      <th>rating</th>\n",
              "      <th>timestamp</th>\n",
              "    </tr>\n",
              "  </thead>\n",
              "  <tbody>\n",
              "    <tr>\n",
              "      <th>0</th>\n",
              "      <td>1</td>\n",
              "      <td>31</td>\n",
              "      <td>2.5</td>\n",
              "      <td>1260759144</td>\n",
              "    </tr>\n",
              "  </tbody>\n",
              "</table>\n",
              "</div>\n",
              "      <button class=\"colab-df-convert\" onclick=\"convertToInteractive('df-8b1bb2d6-992d-48dc-91f5-22eef087e8f7')\"\n",
              "              title=\"Convert this dataframe to an interactive table.\"\n",
              "              style=\"display:none;\">\n",
              "        \n",
              "  <svg xmlns=\"http://www.w3.org/2000/svg\" height=\"24px\"viewBox=\"0 0 24 24\"\n",
              "       width=\"24px\">\n",
              "    <path d=\"M0 0h24v24H0V0z\" fill=\"none\"/>\n",
              "    <path d=\"M18.56 5.44l.94 2.06.94-2.06 2.06-.94-2.06-.94-.94-2.06-.94 2.06-2.06.94zm-11 1L8.5 8.5l.94-2.06 2.06-.94-2.06-.94L8.5 2.5l-.94 2.06-2.06.94zm10 10l.94 2.06.94-2.06 2.06-.94-2.06-.94-.94-2.06-.94 2.06-2.06.94z\"/><path d=\"M17.41 7.96l-1.37-1.37c-.4-.4-.92-.59-1.43-.59-.52 0-1.04.2-1.43.59L10.3 9.45l-7.72 7.72c-.78.78-.78 2.05 0 2.83L4 21.41c.39.39.9.59 1.41.59.51 0 1.02-.2 1.41-.59l7.78-7.78 2.81-2.81c.8-.78.8-2.07 0-2.86zM5.41 20L4 18.59l7.72-7.72 1.47 1.35L5.41 20z\"/>\n",
              "  </svg>\n",
              "      </button>\n",
              "      \n",
              "  <style>\n",
              "    .colab-df-container {\n",
              "      display:flex;\n",
              "      flex-wrap:wrap;\n",
              "      gap: 12px;\n",
              "    }\n",
              "\n",
              "    .colab-df-convert {\n",
              "      background-color: #E8F0FE;\n",
              "      border: none;\n",
              "      border-radius: 50%;\n",
              "      cursor: pointer;\n",
              "      display: none;\n",
              "      fill: #1967D2;\n",
              "      height: 32px;\n",
              "      padding: 0 0 0 0;\n",
              "      width: 32px;\n",
              "    }\n",
              "\n",
              "    .colab-df-convert:hover {\n",
              "      background-color: #E2EBFA;\n",
              "      box-shadow: 0px 1px 2px rgba(60, 64, 67, 0.3), 0px 1px 3px 1px rgba(60, 64, 67, 0.15);\n",
              "      fill: #174EA6;\n",
              "    }\n",
              "\n",
              "    [theme=dark] .colab-df-convert {\n",
              "      background-color: #3B4455;\n",
              "      fill: #D2E3FC;\n",
              "    }\n",
              "\n",
              "    [theme=dark] .colab-df-convert:hover {\n",
              "      background-color: #434B5C;\n",
              "      box-shadow: 0px 1px 3px 1px rgba(0, 0, 0, 0.15);\n",
              "      filter: drop-shadow(0px 1px 2px rgba(0, 0, 0, 0.3));\n",
              "      fill: #FFFFFF;\n",
              "    }\n",
              "  </style>\n",
              "\n",
              "      <script>\n",
              "        const buttonEl =\n",
              "          document.querySelector('#df-8b1bb2d6-992d-48dc-91f5-22eef087e8f7 button.colab-df-convert');\n",
              "        buttonEl.style.display =\n",
              "          google.colab.kernel.accessAllowed ? 'block' : 'none';\n",
              "\n",
              "        async function convertToInteractive(key) {\n",
              "          const element = document.querySelector('#df-8b1bb2d6-992d-48dc-91f5-22eef087e8f7');\n",
              "          const dataTable =\n",
              "            await google.colab.kernel.invokeFunction('convertToInteractive',\n",
              "                                                     [key], {});\n",
              "          if (!dataTable) return;\n",
              "\n",
              "          const docLinkHtml = 'Like what you see? Visit the ' +\n",
              "            '<a target=\"_blank\" href=https://colab.research.google.com/notebooks/data_table.ipynb>data table notebook</a>'\n",
              "            + ' to learn more about interactive tables.';\n",
              "          element.innerHTML = '';\n",
              "          dataTable['output_type'] = 'display_data';\n",
              "          await google.colab.output.renderOutput(dataTable, element);\n",
              "          const docLink = document.createElement('div');\n",
              "          docLink.innerHTML = docLinkHtml;\n",
              "          element.appendChild(docLink);\n",
              "        }\n",
              "      </script>\n",
              "    </div>\n",
              "  </div>\n",
              "  "
            ]
          },
          "metadata": {},
          "execution_count": 48
        }
      ]
    },
    {
      "cell_type": "code",
      "source": [
        "knn.predict(1, 31).est"
      ],
      "metadata": {
        "colab": {
          "base_uri": "https://localhost:8080/"
        },
        "id": "Lwph2SesqvWY",
        "outputId": "76a68811-b23c-4ad9-988b-d6339d94f354"
      },
      "execution_count": 133,
      "outputs": [
        {
          "output_type": "execute_result",
          "data": {
            "text/plain": [
              "2.986320319817485"
            ]
          },
          "metadata": {},
          "execution_count": 133
        }
      ]
    },
    {
      "cell_type": "code",
      "source": [
        "svd.predict(1, 31).est"
      ],
      "metadata": {
        "colab": {
          "base_uri": "https://localhost:8080/"
        },
        "id": "xoktIbcLYtYH",
        "outputId": "a9aa5356-b6ec-4e68-f6dd-2dc87be69fa3"
      },
      "execution_count": 134,
      "outputs": [
        {
          "output_type": "execute_result",
          "data": {
            "text/plain": [
              "2.4162799702909346"
            ]
          },
          "metadata": {},
          "execution_count": 134
        }
      ]
    },
    {
      "cell_type": "code",
      "source": [
        "nmf.predict(1, 31).est\n",
        "# svdpp.predict(1, 31).est"
      ],
      "metadata": {
        "colab": {
          "base_uri": "https://localhost:8080/"
        },
        "id": "S3fqlb_zYtqM",
        "outputId": "a9d73121-7b35-43a3-fb8c-ce196032ef36"
      },
      "execution_count": 136,
      "outputs": [
        {
          "output_type": "execute_result",
          "data": {
            "text/plain": [
              "2.5061117792103396"
            ]
          },
          "metadata": {},
          "execution_count": 136
        }
      ]
    },
    {
      "cell_type": "code",
      "source": [
        "n_movies = len(np.unique(ratings['movieId']))\n",
        "n_movies"
      ],
      "metadata": {
        "colab": {
          "base_uri": "https://localhost:8080/"
        },
        "id": "nxbUhVr3vA3n",
        "outputId": "198e2b92-62ec-4f9f-a151-aa7672968890"
      },
      "execution_count": 158,
      "outputs": [
        {
          "output_type": "execute_result",
          "data": {
            "text/plain": [
              "9066"
            ]
          },
          "metadata": {},
          "execution_count": 158
        }
      ]
    },
    {
      "cell_type": "code",
      "source": [
        "knn_predict = []\n",
        "\n",
        "for i in range(n_movies):\n",
        "  knn_predict.append(knn.predict(1, i).est)"
      ],
      "metadata": {
        "id": "ZACFo9nuvA_P"
      },
      "execution_count": 155,
      "outputs": []
    },
    {
      "cell_type": "code",
      "source": [
        "svd_predict = []\n",
        "\n",
        "for i in range(n_movies):\n",
        "  svd_predict.append(svd.predict(1, i).est)"
      ],
      "metadata": {
        "id": "lHbNbYERvBEj"
      },
      "execution_count": 156,
      "outputs": []
    },
    {
      "cell_type": "code",
      "source": [
        "nmf_predict = []\n",
        "\n",
        "for i in range(n_movies):\n",
        "  nmf_predict.append(nmf.predict(1, i).est)"
      ],
      "metadata": {
        "id": "oGohMR_AwSZJ"
      },
      "execution_count": 159,
      "outputs": []
    },
    {
      "cell_type": "code",
      "source": [
        "predict_df = pd.DataFrame({'knn_predict' : knn_predict,\n",
        "                           'svd_predict' : svd_predict,\n",
        "                           'nmf_predict' : nmf_predict},\n",
        "                          index = pd.Series((np.unique(ratings['movieId']))))"
      ],
      "metadata": {
        "id": "u-3pj_xHvwpU"
      },
      "execution_count": 191,
      "outputs": []
    },
    {
      "cell_type": "code",
      "source": [
        "predict_df.head(3)"
      ],
      "metadata": {
        "colab": {
          "base_uri": "https://localhost:8080/",
          "height": 143
        },
        "id": "DDnHfUIMwsFD",
        "outputId": "420003a5-e150-416f-aa97-c550f0e9fae0"
      },
      "execution_count": 192,
      "outputs": [
        {
          "output_type": "execute_result",
          "data": {
            "text/plain": [
              "   knn_predict  svd_predict  nmf_predict\n",
              "1     3.543608     2.693693     3.543608\n",
              "2     3.722981     3.148624     2.705488\n",
              "3     3.258439     2.373448     2.250783"
            ],
            "text/html": [
              "\n",
              "  <div id=\"df-ab62b9db-5794-47a1-9cdb-62e55ec38e4e\">\n",
              "    <div class=\"colab-df-container\">\n",
              "      <div>\n",
              "<style scoped>\n",
              "    .dataframe tbody tr th:only-of-type {\n",
              "        vertical-align: middle;\n",
              "    }\n",
              "\n",
              "    .dataframe tbody tr th {\n",
              "        vertical-align: top;\n",
              "    }\n",
              "\n",
              "    .dataframe thead th {\n",
              "        text-align: right;\n",
              "    }\n",
              "</style>\n",
              "<table border=\"1\" class=\"dataframe\">\n",
              "  <thead>\n",
              "    <tr style=\"text-align: right;\">\n",
              "      <th></th>\n",
              "      <th>knn_predict</th>\n",
              "      <th>svd_predict</th>\n",
              "      <th>nmf_predict</th>\n",
              "    </tr>\n",
              "  </thead>\n",
              "  <tbody>\n",
              "    <tr>\n",
              "      <th>1</th>\n",
              "      <td>3.543608</td>\n",
              "      <td>2.693693</td>\n",
              "      <td>3.543608</td>\n",
              "    </tr>\n",
              "    <tr>\n",
              "      <th>2</th>\n",
              "      <td>3.722981</td>\n",
              "      <td>3.148624</td>\n",
              "      <td>2.705488</td>\n",
              "    </tr>\n",
              "    <tr>\n",
              "      <th>3</th>\n",
              "      <td>3.258439</td>\n",
              "      <td>2.373448</td>\n",
              "      <td>2.250783</td>\n",
              "    </tr>\n",
              "  </tbody>\n",
              "</table>\n",
              "</div>\n",
              "      <button class=\"colab-df-convert\" onclick=\"convertToInteractive('df-ab62b9db-5794-47a1-9cdb-62e55ec38e4e')\"\n",
              "              title=\"Convert this dataframe to an interactive table.\"\n",
              "              style=\"display:none;\">\n",
              "        \n",
              "  <svg xmlns=\"http://www.w3.org/2000/svg\" height=\"24px\"viewBox=\"0 0 24 24\"\n",
              "       width=\"24px\">\n",
              "    <path d=\"M0 0h24v24H0V0z\" fill=\"none\"/>\n",
              "    <path d=\"M18.56 5.44l.94 2.06.94-2.06 2.06-.94-2.06-.94-.94-2.06-.94 2.06-2.06.94zm-11 1L8.5 8.5l.94-2.06 2.06-.94-2.06-.94L8.5 2.5l-.94 2.06-2.06.94zm10 10l.94 2.06.94-2.06 2.06-.94-2.06-.94-.94-2.06-.94 2.06-2.06.94z\"/><path d=\"M17.41 7.96l-1.37-1.37c-.4-.4-.92-.59-1.43-.59-.52 0-1.04.2-1.43.59L10.3 9.45l-7.72 7.72c-.78.78-.78 2.05 0 2.83L4 21.41c.39.39.9.59 1.41.59.51 0 1.02-.2 1.41-.59l7.78-7.78 2.81-2.81c.8-.78.8-2.07 0-2.86zM5.41 20L4 18.59l7.72-7.72 1.47 1.35L5.41 20z\"/>\n",
              "  </svg>\n",
              "      </button>\n",
              "      \n",
              "  <style>\n",
              "    .colab-df-container {\n",
              "      display:flex;\n",
              "      flex-wrap:wrap;\n",
              "      gap: 12px;\n",
              "    }\n",
              "\n",
              "    .colab-df-convert {\n",
              "      background-color: #E8F0FE;\n",
              "      border: none;\n",
              "      border-radius: 50%;\n",
              "      cursor: pointer;\n",
              "      display: none;\n",
              "      fill: #1967D2;\n",
              "      height: 32px;\n",
              "      padding: 0 0 0 0;\n",
              "      width: 32px;\n",
              "    }\n",
              "\n",
              "    .colab-df-convert:hover {\n",
              "      background-color: #E2EBFA;\n",
              "      box-shadow: 0px 1px 2px rgba(60, 64, 67, 0.3), 0px 1px 3px 1px rgba(60, 64, 67, 0.15);\n",
              "      fill: #174EA6;\n",
              "    }\n",
              "\n",
              "    [theme=dark] .colab-df-convert {\n",
              "      background-color: #3B4455;\n",
              "      fill: #D2E3FC;\n",
              "    }\n",
              "\n",
              "    [theme=dark] .colab-df-convert:hover {\n",
              "      background-color: #434B5C;\n",
              "      box-shadow: 0px 1px 3px 1px rgba(0, 0, 0, 0.15);\n",
              "      filter: drop-shadow(0px 1px 2px rgba(0, 0, 0, 0.3));\n",
              "      fill: #FFFFFF;\n",
              "    }\n",
              "  </style>\n",
              "\n",
              "      <script>\n",
              "        const buttonEl =\n",
              "          document.querySelector('#df-ab62b9db-5794-47a1-9cdb-62e55ec38e4e button.colab-df-convert');\n",
              "        buttonEl.style.display =\n",
              "          google.colab.kernel.accessAllowed ? 'block' : 'none';\n",
              "\n",
              "        async function convertToInteractive(key) {\n",
              "          const element = document.querySelector('#df-ab62b9db-5794-47a1-9cdb-62e55ec38e4e');\n",
              "          const dataTable =\n",
              "            await google.colab.kernel.invokeFunction('convertToInteractive',\n",
              "                                                     [key], {});\n",
              "          if (!dataTable) return;\n",
              "\n",
              "          const docLinkHtml = 'Like what you see? Visit the ' +\n",
              "            '<a target=\"_blank\" href=https://colab.research.google.com/notebooks/data_table.ipynb>data table notebook</a>'\n",
              "            + ' to learn more about interactive tables.';\n",
              "          element.innerHTML = '';\n",
              "          dataTable['output_type'] = 'display_data';\n",
              "          await google.colab.output.renderOutput(dataTable, element);\n",
              "          const docLink = document.createElement('div');\n",
              "          docLink.innerHTML = docLinkHtml;\n",
              "          element.appendChild(docLink);\n",
              "        }\n",
              "      </script>\n",
              "    </div>\n",
              "  </div>\n",
              "  "
            ]
          },
          "metadata": {},
          "execution_count": 192
        }
      ]
    }
  ]
}