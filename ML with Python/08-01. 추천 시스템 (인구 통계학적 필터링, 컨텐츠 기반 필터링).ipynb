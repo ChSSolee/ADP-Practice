{
 "cells": [
  {
   "cell_type": "markdown",
   "id": "d928e16e",
   "metadata": {},
   "source": [
    "# 영화 추천 시스템"
   ]
  },
  {
   "cell_type": "markdown",
   "id": "a134cd39",
   "metadata": {},
   "source": [
    "# \n",
    "# \n",
    "## 1. Demographic Filtering (인구 통계학적 필터링)"
   ]
  },
  {
   "cell_type": "code",
   "execution_count": 308,
   "id": "467701f6",
   "metadata": {},
   "outputs": [],
   "source": [
    "import pandas as pd\n",
    "import numpy as np\n",
    "import matplotlib.pyplot as plt"
   ]
  },
  {
   "cell_type": "code",
   "execution_count": 309,
   "id": "a484e608",
   "metadata": {},
   "outputs": [],
   "source": [
    "df1 = pd.read_csv(\"tmdb_5000_credits.csv\")\n",
    "df2 = pd.read_csv(\"tmdb_5000_movies.csv\")"
   ]
  },
  {
   "cell_type": "code",
   "execution_count": 310,
   "id": "d1d03389",
   "metadata": {},
   "outputs": [
    {
     "data": {
      "text/plain": [
       "((4803, 4), (4803, 20))"
      ]
     },
     "execution_count": 310,
     "metadata": {},
     "output_type": "execute_result"
    }
   ],
   "source": [
    "df1.shape, df2.shape"
   ]
  },
  {
   "cell_type": "markdown",
   "id": "d2236689",
   "metadata": {},
   "source": [
    "- **영화 배우, 제목 출연진 등**"
   ]
  },
  {
   "cell_type": "code",
   "execution_count": 311,
   "id": "8db146ae",
   "metadata": {},
   "outputs": [
    {
     "data": {
      "text/html": [
       "<div>\n",
       "<style scoped>\n",
       "    .dataframe tbody tr th:only-of-type {\n",
       "        vertical-align: middle;\n",
       "    }\n",
       "\n",
       "    .dataframe tbody tr th {\n",
       "        vertical-align: top;\n",
       "    }\n",
       "\n",
       "    .dataframe thead th {\n",
       "        text-align: right;\n",
       "    }\n",
       "</style>\n",
       "<table border=\"1\" class=\"dataframe\">\n",
       "  <thead>\n",
       "    <tr style=\"text-align: right;\">\n",
       "      <th></th>\n",
       "      <th>movie_id</th>\n",
       "      <th>title</th>\n",
       "      <th>cast</th>\n",
       "      <th>crew</th>\n",
       "    </tr>\n",
       "  </thead>\n",
       "  <tbody>\n",
       "    <tr>\n",
       "      <th>0</th>\n",
       "      <td>19995</td>\n",
       "      <td>Avatar</td>\n",
       "      <td>[{\"cast_id\": 242, \"character\": \"Jake Sully\", \"...</td>\n",
       "      <td>[{\"credit_id\": \"52fe48009251416c750aca23\", \"de...</td>\n",
       "    </tr>\n",
       "  </tbody>\n",
       "</table>\n",
       "</div>"
      ],
      "text/plain": [
       "   movie_id   title                                               cast  \\\n",
       "0     19995  Avatar  [{\"cast_id\": 242, \"character\": \"Jake Sully\", \"...   \n",
       "\n",
       "                                                crew  \n",
       "0  [{\"credit_id\": \"52fe48009251416c750aca23\", \"de...  "
      ]
     },
     "execution_count": 311,
     "metadata": {},
     "output_type": "execute_result"
    }
   ],
   "source": [
    "df1.head(1)"
   ]
  },
  {
   "cell_type": "code",
   "execution_count": 312,
   "id": "d618c650",
   "metadata": {},
   "outputs": [
    {
     "data": {
      "text/plain": [
       "Index(['movie_id', 'title', 'cast', 'crew'], dtype='object')"
      ]
     },
     "execution_count": 312,
     "metadata": {},
     "output_type": "execute_result"
    }
   ],
   "source": [
    "df1.columns"
   ]
  },
  {
   "cell_type": "markdown",
   "id": "702d1539",
   "metadata": {},
   "source": [
    "# \n",
    "- **영화 장르, 제작비, 키워드, 평점 등 정보**"
   ]
  },
  {
   "cell_type": "code",
   "execution_count": 313,
   "id": "4ceeeb8b",
   "metadata": {},
   "outputs": [
    {
     "data": {
      "text/html": [
       "<div>\n",
       "<style scoped>\n",
       "    .dataframe tbody tr th:only-of-type {\n",
       "        vertical-align: middle;\n",
       "    }\n",
       "\n",
       "    .dataframe tbody tr th {\n",
       "        vertical-align: top;\n",
       "    }\n",
       "\n",
       "    .dataframe thead th {\n",
       "        text-align: right;\n",
       "    }\n",
       "</style>\n",
       "<table border=\"1\" class=\"dataframe\">\n",
       "  <thead>\n",
       "    <tr style=\"text-align: right;\">\n",
       "      <th></th>\n",
       "      <th>budget</th>\n",
       "      <th>genres</th>\n",
       "      <th>homepage</th>\n",
       "      <th>id</th>\n",
       "      <th>keywords</th>\n",
       "      <th>original_language</th>\n",
       "      <th>original_title</th>\n",
       "      <th>overview</th>\n",
       "      <th>popularity</th>\n",
       "      <th>production_companies</th>\n",
       "      <th>production_countries</th>\n",
       "      <th>release_date</th>\n",
       "      <th>revenue</th>\n",
       "      <th>runtime</th>\n",
       "      <th>spoken_languages</th>\n",
       "      <th>status</th>\n",
       "      <th>tagline</th>\n",
       "      <th>title</th>\n",
       "      <th>vote_average</th>\n",
       "      <th>vote_count</th>\n",
       "    </tr>\n",
       "  </thead>\n",
       "  <tbody>\n",
       "    <tr>\n",
       "      <th>0</th>\n",
       "      <td>237000000</td>\n",
       "      <td>[{\"id\": 28, \"name\": \"Action\"}, {\"id\": 12, \"nam...</td>\n",
       "      <td>http://www.avatarmovie.com/</td>\n",
       "      <td>19995</td>\n",
       "      <td>[{\"id\": 1463, \"name\": \"culture clash\"}, {\"id\":...</td>\n",
       "      <td>en</td>\n",
       "      <td>Avatar</td>\n",
       "      <td>In the 22nd century, a paraplegic Marine is di...</td>\n",
       "      <td>150.437577</td>\n",
       "      <td>[{\"name\": \"Ingenious Film Partners\", \"id\": 289...</td>\n",
       "      <td>[{\"iso_3166_1\": \"US\", \"name\": \"United States o...</td>\n",
       "      <td>2009-12-10</td>\n",
       "      <td>2787965087</td>\n",
       "      <td>162.0</td>\n",
       "      <td>[{\"iso_639_1\": \"en\", \"name\": \"English\"}, {\"iso...</td>\n",
       "      <td>Released</td>\n",
       "      <td>Enter the World of Pandora.</td>\n",
       "      <td>Avatar</td>\n",
       "      <td>7.2</td>\n",
       "      <td>11800</td>\n",
       "    </tr>\n",
       "  </tbody>\n",
       "</table>\n",
       "</div>"
      ],
      "text/plain": [
       "      budget                                             genres  \\\n",
       "0  237000000  [{\"id\": 28, \"name\": \"Action\"}, {\"id\": 12, \"nam...   \n",
       "\n",
       "                      homepage     id  \\\n",
       "0  http://www.avatarmovie.com/  19995   \n",
       "\n",
       "                                            keywords original_language  \\\n",
       "0  [{\"id\": 1463, \"name\": \"culture clash\"}, {\"id\":...                en   \n",
       "\n",
       "  original_title                                           overview  \\\n",
       "0         Avatar  In the 22nd century, a paraplegic Marine is di...   \n",
       "\n",
       "   popularity                               production_companies  \\\n",
       "0  150.437577  [{\"name\": \"Ingenious Film Partners\", \"id\": 289...   \n",
       "\n",
       "                                production_countries release_date     revenue  \\\n",
       "0  [{\"iso_3166_1\": \"US\", \"name\": \"United States o...   2009-12-10  2787965087   \n",
       "\n",
       "   runtime                                   spoken_languages    status  \\\n",
       "0    162.0  [{\"iso_639_1\": \"en\", \"name\": \"English\"}, {\"iso...  Released   \n",
       "\n",
       "                       tagline   title  vote_average  vote_count  \n",
       "0  Enter the World of Pandora.  Avatar           7.2       11800  "
      ]
     },
     "execution_count": 313,
     "metadata": {},
     "output_type": "execute_result"
    }
   ],
   "source": [
    "df2.head(1)"
   ]
  },
  {
   "cell_type": "code",
   "execution_count": 314,
   "id": "25575fc3",
   "metadata": {},
   "outputs": [
    {
     "data": {
      "text/plain": [
       "Index(['budget', 'genres', 'homepage', 'id', 'keywords', 'original_language',\n",
       "       'original_title', 'overview', 'popularity', 'production_companies',\n",
       "       'production_countries', 'release_date', 'revenue', 'runtime',\n",
       "       'spoken_languages', 'status', 'tagline', 'title', 'vote_average',\n",
       "       'vote_count'],\n",
       "      dtype='object')"
      ]
     },
     "execution_count": 314,
     "metadata": {},
     "output_type": "execute_result"
    }
   ],
   "source": [
    "df2.columns"
   ]
  },
  {
   "cell_type": "markdown",
   "id": "1090e525",
   "metadata": {},
   "source": [
    "- **df join**"
   ]
  },
  {
   "cell_type": "code",
   "execution_count": 315,
   "id": "7a3e22b6",
   "metadata": {},
   "outputs": [
    {
     "data": {
      "text/plain": [
       "True"
      ]
     },
     "execution_count": 315,
     "metadata": {},
     "output_type": "execute_result"
    }
   ],
   "source": [
    "df1.movie_id.equals(df2.id)"
   ]
  },
  {
   "cell_type": "code",
   "execution_count": 316,
   "id": "185aadd9",
   "metadata": {},
   "outputs": [],
   "source": [
    "df1.columns = ['id', 'title', 'cast', 'crew']\n",
    "df1_1 = df1[['id', 'cast', 'crew']]"
   ]
  },
  {
   "cell_type": "code",
   "execution_count": 317,
   "id": "e6374fd7",
   "metadata": {},
   "outputs": [],
   "source": [
    "df = df1_1.merge(df2, on = 'id')"
   ]
  },
  {
   "cell_type": "code",
   "execution_count": 318,
   "id": "65ed0b78",
   "metadata": {},
   "outputs": [
    {
     "data": {
      "text/plain": [
       "((4803, 22),\n",
       " Index(['id', 'cast', 'crew', 'budget', 'genres', 'homepage', 'keywords',\n",
       "        'original_language', 'original_title', 'overview', 'popularity',\n",
       "        'production_companies', 'production_countries', 'release_date',\n",
       "        'revenue', 'runtime', 'spoken_languages', 'status', 'tagline', 'title',\n",
       "        'vote_average', 'vote_count'],\n",
       "       dtype='object'))"
      ]
     },
     "execution_count": 318,
     "metadata": {},
     "output_type": "execute_result"
    }
   ],
   "source": [
    "df.shape, df.columns"
   ]
  },
  {
   "cell_type": "markdown",
   "id": "982df0d7",
   "metadata": {},
   "source": [
    "# \n",
    "# \n",
    "만약, \n",
    "\n",
    "영화 1 : 영화 평점이 10/10 => 5명이 평가\n",
    "\n",
    "영화 2: 영화 평점이 5/10 => 500명이 평가\n",
    "\n",
    "영화 2 평점의 신뢰도가 영화 1 보다 높음\n",
    "\n",
    "# \n",
    "<img src = \"https://image.ibb.co/jYWZp9/wr.png\">\n",
    "\n",
    "- v : 영화에 대한 투표 수\n",
    "- m : 차트에 나열되는 데 필요한 최소 투표수\n",
    "- R : 전체 영화의 평균 등급\n",
    "- C : 전체 영화의 평균 평점"
   ]
  },
  {
   "cell_type": "code",
   "execution_count": 319,
   "id": "20fb5334",
   "metadata": {},
   "outputs": [
    {
     "data": {
      "text/plain": [
       "6.092171559442016"
      ]
     },
     "execution_count": 319,
     "metadata": {},
     "output_type": "execute_result"
    }
   ],
   "source": [
    "C = df.vote_average.mean()\n",
    "C"
   ]
  },
  {
   "cell_type": "markdown",
   "id": "1fdc7969",
   "metadata": {},
   "source": [
    "- **투표수의 상위 10% 값**"
   ]
  },
  {
   "cell_type": "code",
   "execution_count": 320,
   "id": "30fb69bf",
   "metadata": {},
   "outputs": [
    {
     "data": {
      "text/plain": [
       "1838.4000000000015"
      ]
     },
     "execution_count": 320,
     "metadata": {},
     "output_type": "execute_result"
    }
   ],
   "source": [
    "m = df.vote_count.quantile(0.9)\n",
    "m"
   ]
  },
  {
   "cell_type": "markdown",
   "id": "400825cc",
   "metadata": {},
   "source": [
    "# \n",
    "# \n",
    "- 투표 수가 m이상인 데이터 "
   ]
  },
  {
   "cell_type": "code",
   "execution_count": 321,
   "id": "ff085a54",
   "metadata": {},
   "outputs": [
    {
     "data": {
      "text/plain": [
       "(481, 22)"
      ]
     },
     "execution_count": 321,
     "metadata": {},
     "output_type": "execute_result"
    }
   ],
   "source": [
    "q_movies = df.copy().loc[df.vote_count >= m]\n",
    "q_movies.shape"
   ]
  },
  {
   "cell_type": "code",
   "execution_count": 322,
   "id": "31f4d47b",
   "metadata": {},
   "outputs": [],
   "source": [
    "def weighted_rating(x, m=m,C=C):\n",
    "    v = x['vote_count']\n",
    "    R = x['vote_average']\n",
    "    return (v / (v + m) * R) + (m / (m + v) * C)"
   ]
  },
  {
   "cell_type": "code",
   "execution_count": 323,
   "id": "88a24bf4",
   "metadata": {},
   "outputs": [],
   "source": [
    "q_movies['score'] = q_movies.apply(weighted_rating, axis = 1)"
   ]
  },
  {
   "cell_type": "code",
   "execution_count": 324,
   "id": "854d35a2",
   "metadata": {},
   "outputs": [
    {
     "data": {
      "text/plain": [
       "(481, 23)"
      ]
     },
     "execution_count": 324,
     "metadata": {},
     "output_type": "execute_result"
    }
   ],
   "source": [
    "q_movies.shape"
   ]
  },
  {
   "cell_type": "code",
   "execution_count": 325,
   "id": "f7ae0d23",
   "metadata": {},
   "outputs": [],
   "source": [
    "score = q_movies.sort_values('score', ascending = False)"
   ]
  },
  {
   "cell_type": "code",
   "execution_count": 326,
   "id": "957c2ccc",
   "metadata": {},
   "outputs": [
    {
     "data": {
      "image/png": "[encoded data removed]",
      "text/plain": [
       "<Figure size 864x288 with 1 Axes>"
      ]
     },
     "metadata": {
      "needs_background": "light"
     },
     "output_type": "display_data"
    }
   ],
   "source": [
    "plt.figure(figsize = (12, 4))\n",
    "\n",
    "plt.barh(score.title.head(10), score.score.head(10), align = 'center')\n",
    "plt.gca().invert_yaxis()\n",
    "plt.xlabel('Popularity')\n",
    "plt.title(\"Top10 Popular Movies\")\n",
    "\n",
    "plt.show()"
   ]
  },
  {
   "cell_type": "code",
   "execution_count": 327,
   "id": "9a188b4e",
   "metadata": {},
   "outputs": [],
   "source": [
    "pop = q_movies.sort_values('popularity', ascending = False)"
   ]
  },
  {
   "cell_type": "code",
   "execution_count": 328,
   "id": "b2a06faf",
   "metadata": {},
   "outputs": [
    {
     "data": {
      "image/png": "[encoded data removed]",
      "text/plain": [
       "<Figure size 864x288 with 1 Axes>"
      ]
     },
     "metadata": {
      "needs_background": "light"
     },
     "output_type": "display_data"
    }
   ],
   "source": [
    "plt.figure(figsize = (12, 4))\n",
    "\n",
    "plt.barh(pop.title.head(10), pop.popularity.head(10), align = 'center')\n",
    "plt.gca().invert_yaxis()\n",
    "plt.xlabel('Popularity')\n",
    "plt.title(\"Top10 Popular Movies\")\n",
    "\n",
    "plt.show()"
   ]
  },
  {
   "cell_type": "markdown",
   "id": "06b43367",
   "metadata": {},
   "source": [
    "# \n",
    "# \n",
    "# \n",
    "# \n",
    "## 2. Content Based Filtering (컨텐츠 기반 필터링)\n",
    "- 특정 item에 기반한 유사 item 추천 \n",
    "- **영화의 내용(개요, 출연진, 제작진, 키워드, 태그라인 등)은 다른 영화와의 유사성을 찾는 데 사용. 그런 다음 가장 유사할 가능성이 높은 영화를 추천**\n",
    "\n",
    "<img src = \"https://image.ibb.co/f6mDXU/conten.png\">\n",
    "\n",
    "1. 줄거리 설명을 기반으로 모든 영화에 대한 쌍별 유사성 점수를 계산\n",
    "2. 유사성 점수를 기반으로 영화를 추천\n",
    "\n",
    "# \n",
    "\n",
    "#### 장점\n",
    "    - 많은 수의 사용자를 대상으로 쉽게 확장 가능\n",
    "    - 사용자가 관심을 갖지 않던 상품 추천 가능\n",
    "#### 단점\n",
    "    - 입력 특성을 직접 설계해야 하기 때문에 많은 도메인 지식이 필요\n",
    "    - 사용자의 기존 관심사항을 기반으로만 추천 가능"
   ]
  },
  {
   "cell_type": "markdown",
   "id": "b14db4c6",
   "metadata": {},
   "source": [
    "# \n",
    "# \n",
    "## 2-1. 줄거리 기반 필터링"
   ]
  },
  {
   "cell_type": "markdown",
   "id": "137bcbcb",
   "metadata": {},
   "source": [
    "# \n",
    "### 결측값 확인"
   ]
  },
  {
   "cell_type": "code",
   "execution_count": 329,
   "id": "e631ba08",
   "metadata": {
    "scrolled": true
   },
   "outputs": [
    {
     "data": {
      "text/plain": [
       "0    In the 22nd century, a paraplegic Marine is di...\n",
       "1    Captain Barbossa, long believed to be dead, ha...\n",
       "2    A cryptic message from Bond’s past sends him o...\n",
       "Name: overview, dtype: object"
      ]
     },
     "execution_count": 329,
     "metadata": {},
     "output_type": "execute_result"
    }
   ],
   "source": [
    "df.overview.head(3)"
   ]
  },
  {
   "cell_type": "code",
   "execution_count": 330,
   "id": "5dd559b2",
   "metadata": {},
   "outputs": [
    {
     "data": {
      "text/plain": [
       "3"
      ]
     },
     "execution_count": 330,
     "metadata": {},
     "output_type": "execute_result"
    }
   ],
   "source": [
    "np.sum(df.overview.isnull())"
   ]
  },
  {
   "cell_type": "code",
   "execution_count": 331,
   "id": "44714d9c",
   "metadata": {},
   "outputs": [],
   "source": [
    "df.overview = df.overview.fillna(' ')"
   ]
  },
  {
   "cell_type": "code",
   "execution_count": 332,
   "id": "eb2553fc",
   "metadata": {},
   "outputs": [
    {
     "data": {
      "text/plain": [
       "0"
      ]
     },
     "execution_count": 332,
     "metadata": {},
     "output_type": "execute_result"
    }
   ],
   "source": [
    "np.sum(df.overview.isnull())"
   ]
  },
  {
   "cell_type": "markdown",
   "id": "0a7b932d",
   "metadata": {},
   "source": [
    "# \n",
    "# \n",
    "### BOW (Bag Of Words) 벡터화"
   ]
  },
  {
   "cell_type": "code",
   "execution_count": 333,
   "id": "9fa44842",
   "metadata": {},
   "outputs": [],
   "source": [
    "import sklearn"
   ]
  },
  {
   "cell_type": "markdown",
   "id": "07e03956",
   "metadata": {},
   "source": [
    "- **코사인 유사도를 구하기 위하여 CountVectorizer가 아닌 TfidfVectorizer을 사용**\n",
    "- **문장 별 자주 사용되지 않은 단어에 높은 값을 부여함에 따라, 유사도 분석에 용이**"
   ]
  },
  {
   "cell_type": "code",
   "execution_count": 334,
   "id": "3af48ac3",
   "metadata": {},
   "outputs": [],
   "source": [
    "from sklearn.feature_extraction.text import CountVectorizer, TfidfVectorizer"
   ]
  },
  {
   "cell_type": "code",
   "execution_count": 335,
   "id": "e07606a8",
   "metadata": {},
   "outputs": [],
   "source": [
    "tfidf = TfidfVectorizer(stop_words = 'english')"
   ]
  },
  {
   "cell_type": "code",
   "execution_count": 336,
   "id": "38377c90",
   "metadata": {},
   "outputs": [
    {
     "data": {
      "text/plain": [
       "(4803, 20978)"
      ]
     },
     "execution_count": 336,
     "metadata": {},
     "output_type": "execute_result"
    }
   ],
   "source": [
    "tfidf_matrix = tfidf.fit_transform(df.overview)\n",
    "tfidf_matrix.shape"
   ]
  },
  {
   "cell_type": "markdown",
   "id": "7f4a40b8",
   "metadata": {},
   "source": [
    "# \n",
    "### 코사인 유사도\n",
    "- 코사인 유사도를 사용하여 두 영화 간의 유사성을 나타내는 숫자 수량을 계산\n",
    "- 코사인 유사도 점수는 크기와 무관하고 계산이 비교적 쉽고 빠르기 때문에 사용\n",
    "- **TF-IDF 벡터라이저를 사용했기 때문에 내적을 계산하면 코사인 유사도**\n",
    "\n",
    "### ```sklearn.metrics.pairwise.linear_kernel(a, b)```\n",
    "\n",
    "<img src = \"data:image/png;base64,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\">"
   ]
  },
  {
   "cell_type": "code",
   "execution_count": 337,
   "id": "ec0ce7a2",
   "metadata": {},
   "outputs": [],
   "source": [
    "from sklearn.metrics.pairwise import linear_kernel"
   ]
  },
  {
   "cell_type": "code",
   "execution_count": 338,
   "id": "5b80df5c",
   "metadata": {},
   "outputs": [],
   "source": [
    "cosine_sim = linear_kernel(tfidf_matrix, tfidf_matrix)"
   ]
  },
  {
   "cell_type": "code",
   "execution_count": 339,
   "id": "57056825",
   "metadata": {},
   "outputs": [
    {
     "data": {
      "text/plain": [
       "(4803, 4803)"
      ]
     },
     "execution_count": 339,
     "metadata": {},
     "output_type": "execute_result"
    }
   ],
   "source": [
    "cosine_sim.shape"
   ]
  },
  {
   "cell_type": "code",
   "execution_count": 340,
   "id": "c72589cf",
   "metadata": {},
   "outputs": [
    {
     "data": {
      "text/plain": [
       "title\n",
       "Avatar                                      0\n",
       "Pirates of the Caribbean: At World's End    1\n",
       "Spectre                                     2\n",
       "The Dark Knight Rises                       3\n",
       "John Carter                                 4\n",
       "dtype: int64"
      ]
     },
     "execution_count": 340,
     "metadata": {},
     "output_type": "execute_result"
    }
   ],
   "source": [
    "indices = pd.Series(df.index, index=df.title).drop_duplicates()\n",
    "indices.head()"
   ]
  },
  {
   "cell_type": "markdown",
   "id": "7d3440d6",
   "metadata": {},
   "source": [
    "# \n",
    "### 영화의 제목을 입력받으면, 코사인 유사도를 통해서 가장 유사도가 높은 상위 10개 영화 목록 반환"
   ]
  },
  {
   "cell_type": "code",
   "execution_count": 341,
   "id": "fc6d01c8",
   "metadata": {},
   "outputs": [],
   "source": [
    "cosine_sim_df = pd.DataFrame(cosine_sim)"
   ]
  },
  {
   "cell_type": "code",
   "execution_count": 342,
   "id": "aaff7a68",
   "metadata": {},
   "outputs": [],
   "source": [
    "cosine_sim_df.index = df.title\n",
    "cosine_sim_df.columns = df.title"
   ]
  },
  {
   "cell_type": "code",
   "execution_count": 343,
   "id": "ad3bab93",
   "metadata": {},
   "outputs": [
    {
     "data": {
      "text/plain": [
       "title\n",
       "Apollo 18                       0.186810\n",
       "The American                    0.170151\n",
       "The Matrix                      0.132307\n",
       "The Inhabited Island            0.123933\n",
       "Tears of the Sun                0.122490\n",
       "Hanna                           0.104699\n",
       "The Adventures of Pluto Nash    0.100914\n",
       "Semi-Pro                        0.097996\n",
       "Supernova                       0.094479\n",
       "Blood and Chocolate             0.093139\n",
       "Name: Avatar, dtype: float64"
      ]
     },
     "execution_count": 343,
     "metadata": {},
     "output_type": "execute_result"
    }
   ],
   "source": [
    "cosine_sim_df.loc['Avatar'].sort_values(ascending = False).head(11).iloc[1:11]"
   ]
  },
  {
   "cell_type": "code",
   "execution_count": 344,
   "id": "2a1bb6a9",
   "metadata": {},
   "outputs": [],
   "source": [
    "def get_recommendations(title, cosine_sim=cosine_sim):\n",
    "    cosine_sim_df = pd.DataFrame(cosine_sim)\n",
    "    cosine_sim_df.index = df.title\n",
    "    cosine_sim_df.columns = df.title\n",
    "    \n",
    "    return indices[cosine_sim_df.loc[title].sort_values(ascending = False). \\\n",
    "                       head(11).iloc[1:11].index]"
   ]
  },
  {
   "cell_type": "code",
   "execution_count": 345,
   "id": "dce439c3",
   "metadata": {},
   "outputs": [
    {
     "data": {
      "text/plain": [
       "title\n",
       "Avengers: Age of Ultron               7\n",
       "Plastic                            3144\n",
       "Timecop                            1715\n",
       "This Thing of Ours                 4124\n",
       "Thank You for Smoking              3311\n",
       "The Corruptor                      3033\n",
       "Wall Street: Money Never Sleeps     588\n",
       "Team America: World Police         2136\n",
       "The Fountain                       1468\n",
       "Snowpiercer                        1286\n",
       "dtype: int64"
      ]
     },
     "execution_count": 345,
     "metadata": {},
     "output_type": "execute_result"
    }
   ],
   "source": [
    "get_recommendations(\"The Avengers\")"
   ]
  },
  {
   "cell_type": "markdown",
   "id": "7bd67b53",
   "metadata": {},
   "source": [
    "# \n",
    "# \n",
    "## 2-2. 배우, 감독 등 기반 필터링"
   ]
  },
  {
   "cell_type": "markdown",
   "id": "5526db16",
   "metadata": {},
   "source": [
    "### 감독 정보 추출 \n",
    "- **현재 df의 'genres'열은 딕셔너리 형태가 ' '로 감싸진 문자열 형태**"
   ]
  },
  {
   "cell_type": "code",
   "execution_count": 346,
   "id": "9862ef92",
   "metadata": {},
   "outputs": [
    {
     "data": {
      "text/plain": [
       "'[{\"id\": 28, \"name\": \"Action\"}, {\"id\": 12, \"name\": \"Adventure\"}, {\"id\": 14, \"name\": \"Fantasy\"}, {\"id\": 878, \"name\": \"Science Fiction\"}]'"
      ]
     },
     "execution_count": 346,
     "metadata": {},
     "output_type": "execute_result"
    }
   ],
   "source": [
    "df.loc[0, 'genres']"
   ]
  },
  {
   "cell_type": "code",
   "execution_count": 347,
   "id": "8aca874c",
   "metadata": {},
   "outputs": [
    {
     "data": {
      "text/plain": [
       "str"
      ]
     },
     "execution_count": 347,
     "metadata": {},
     "output_type": "execute_result"
    }
   ],
   "source": [
    "type(df.loc[0, 'genres'])"
   ]
  },
  {
   "cell_type": "markdown",
   "id": "271110b3",
   "metadata": {},
   "source": [
    "### ```ast.literal_eval()``` : 문자열을 ' '을 벗겨, 형태 변경"
   ]
  },
  {
   "cell_type": "code",
   "execution_count": 348,
   "id": "8f8b9fa2",
   "metadata": {},
   "outputs": [],
   "source": [
    "from ast import literal_eval"
   ]
  },
  {
   "cell_type": "code",
   "execution_count": 349,
   "id": "98ef786e",
   "metadata": {},
   "outputs": [],
   "source": [
    "features = ['cast', 'crew', 'keywords', 'genres']\n",
    "\n",
    "for feature in features:\n",
    "    df[feature] = df[feature].apply(literal_eval)"
   ]
  },
  {
   "cell_type": "code",
   "execution_count": 350,
   "id": "30926182",
   "metadata": {},
   "outputs": [
    {
     "data": {
      "text/plain": [
       "0    [{'credit_id': '52fe48009251416c750aca23', 'de...\n",
       "1    [{'credit_id': '52fe4232c3a36847f800b579', 'de...\n",
       "2    [{'credit_id': '54805967c3a36829b5002c41', 'de...\n",
       "Name: crew, dtype: object"
      ]
     },
     "execution_count": 350,
     "metadata": {},
     "output_type": "execute_result"
    }
   ],
   "source": [
    "df.crew.head(3)"
   ]
  },
  {
   "cell_type": "markdown",
   "id": "4de46ebe",
   "metadata": {},
   "source": [
    "# \n",
    "- **crew열에는 'DIrector', 'Original Music Composer'등 다양한 직책들에 대한 정보가 포함 => 현재 필요한건 감독 (director)정보**\n",
    "- **이에 따라 crew열에서 director에 대한 정보만 추출**"
   ]
  },
  {
   "cell_type": "code",
   "execution_count": 351,
   "id": "fd674a7b",
   "metadata": {},
   "outputs": [],
   "source": [
    "def get_director(x):\n",
    "    for i in x:\n",
    "        if i['job'] == 'Director':\n",
    "            return i['name']\n",
    "    return np.nan"
   ]
  },
  {
   "cell_type": "code",
   "execution_count": 352,
   "id": "08e6bc2e",
   "metadata": {},
   "outputs": [],
   "source": [
    "df['director'] = df['crew'].apply(get_director)"
   ]
  },
  {
   "cell_type": "code",
   "execution_count": 353,
   "id": "fe3432d9",
   "metadata": {},
   "outputs": [
    {
     "data": {
      "text/plain": [
       "0     James Cameron\n",
       "1    Gore Verbinski\n",
       "2        Sam Mendes\n",
       "Name: director, dtype: object"
      ]
     },
     "execution_count": 353,
     "metadata": {},
     "output_type": "execute_result"
    }
   ],
   "source": [
    "df.director.head(3)"
   ]
  },
  {
   "cell_type": "code",
   "execution_count": 354,
   "id": "afdc6d5f",
   "metadata": {},
   "outputs": [
    {
     "data": {
      "text/plain": [
       "(30, 0)"
      ]
     },
     "execution_count": 354,
     "metadata": {},
     "output_type": "execute_result"
    }
   ],
   "source": [
    "np.sum(df.director.isnull()), np.sum(df.crew.isnull())"
   ]
  },
  {
   "cell_type": "markdown",
   "id": "0c444734",
   "metadata": {},
   "source": [
    "# \n",
    "# \n",
    "### cast, keywords, genres  정보 추출"
   ]
  },
  {
   "cell_type": "code",
   "execution_count": 355,
   "id": "5db35398",
   "metadata": {
    "scrolled": true
   },
   "outputs": [
    {
     "data": {
      "text/plain": [
       "0    [{'cast_id': 242, 'character': 'Jake Sully', '...\n",
       "Name: cast, dtype: object"
      ]
     },
     "execution_count": 355,
     "metadata": {},
     "output_type": "execute_result"
    }
   ],
   "source": [
    "df.cast.head(1)"
   ]
  },
  {
   "cell_type": "code",
   "execution_count": 356,
   "id": "35b51ab2",
   "metadata": {},
   "outputs": [
    {
     "data": {
      "text/plain": [
       "0    [{'id': 1463, 'name': 'culture clash'}, {'id':...\n",
       "Name: keywords, dtype: object"
      ]
     },
     "execution_count": 356,
     "metadata": {},
     "output_type": "execute_result"
    }
   ],
   "source": [
    "df.keywords.head(1)"
   ]
  },
  {
   "cell_type": "code",
   "execution_count": 357,
   "id": "9712b4ba",
   "metadata": {},
   "outputs": [
    {
     "data": {
      "text/plain": [
       "0    [{'id': 28, 'name': 'Action'}, {'id': 12, 'nam...\n",
       "Name: genres, dtype: object"
      ]
     },
     "execution_count": 357,
     "metadata": {},
     "output_type": "execute_result"
    }
   ],
   "source": [
    "df.genres.head(1)"
   ]
  },
  {
   "cell_type": "markdown",
   "id": "2138af6c",
   "metadata": {},
   "source": [
    "- **cast열에는 주연 배우와 다양한 조연 배우들 정보가 포함**\n",
    "- **이에 따라 cast열에서 표기되는 상위 3명의 배우 이름 (name)만 추출**\n",
    "- **keywords와 genres열에서도 상위 3개의 name만 추출**"
   ]
  },
  {
   "cell_type": "code",
   "execution_count": 358,
   "id": "4f81c482",
   "metadata": {},
   "outputs": [],
   "source": [
    "def get_list(x):\n",
    "    if isinstance(x, list):\n",
    "        names = [i['name'] for i in x]\n",
    "        if len(names) > 3:\n",
    "            names = names[:3]\n",
    "        return names\n",
    "    return []"
   ]
  },
  {
   "cell_type": "code",
   "execution_count": 359,
   "id": "9eadc71b",
   "metadata": {},
   "outputs": [],
   "source": [
    "features = ['cast', 'keywords', 'genres']"
   ]
  },
  {
   "cell_type": "code",
   "execution_count": 360,
   "id": "724bd4e2",
   "metadata": {},
   "outputs": [],
   "source": [
    "for feature in features:\n",
    "    df[feature] = df[feature].apply(get_list)"
   ]
  },
  {
   "cell_type": "code",
   "execution_count": 361,
   "id": "8e147ca3",
   "metadata": {},
   "outputs": [
    {
     "data": {
      "text/html": [
       "<div>\n",
       "<style scoped>\n",
       "    .dataframe tbody tr th:only-of-type {\n",
       "        vertical-align: middle;\n",
       "    }\n",
       "\n",
       "    .dataframe tbody tr th {\n",
       "        vertical-align: top;\n",
       "    }\n",
       "\n",
       "    .dataframe thead th {\n",
       "        text-align: right;\n",
       "    }\n",
       "</style>\n",
       "<table border=\"1\" class=\"dataframe\">\n",
       "  <thead>\n",
       "    <tr style=\"text-align: right;\">\n",
       "      <th></th>\n",
       "      <th>title</th>\n",
       "      <th>director</th>\n",
       "      <th>cast</th>\n",
       "      <th>keywords</th>\n",
       "      <th>genres</th>\n",
       "    </tr>\n",
       "  </thead>\n",
       "  <tbody>\n",
       "    <tr>\n",
       "      <th>0</th>\n",
       "      <td>Avatar</td>\n",
       "      <td>James Cameron</td>\n",
       "      <td>[Sam Worthington, Zoe Saldana, Sigourney Weaver]</td>\n",
       "      <td>[culture clash, future, space war]</td>\n",
       "      <td>[Action, Adventure, Fantasy]</td>\n",
       "    </tr>\n",
       "    <tr>\n",
       "      <th>1</th>\n",
       "      <td>Pirates of the Caribbean: At World's End</td>\n",
       "      <td>Gore Verbinski</td>\n",
       "      <td>[Johnny Depp, Orlando Bloom, Keira Knightley]</td>\n",
       "      <td>[ocean, drug abuse, exotic island]</td>\n",
       "      <td>[Adventure, Fantasy, Action]</td>\n",
       "    </tr>\n",
       "    <tr>\n",
       "      <th>2</th>\n",
       "      <td>Spectre</td>\n",
       "      <td>Sam Mendes</td>\n",
       "      <td>[Daniel Craig, Christoph Waltz, Léa Seydoux]</td>\n",
       "      <td>[spy, based on novel, secret agent]</td>\n",
       "      <td>[Action, Adventure, Crime]</td>\n",
       "    </tr>\n",
       "  </tbody>\n",
       "</table>\n",
       "</div>"
      ],
      "text/plain": [
       "                                      title        director  \\\n",
       "0                                    Avatar   James Cameron   \n",
       "1  Pirates of the Caribbean: At World's End  Gore Verbinski   \n",
       "2                                   Spectre      Sam Mendes   \n",
       "\n",
       "                                               cast  \\\n",
       "0  [Sam Worthington, Zoe Saldana, Sigourney Weaver]   \n",
       "1     [Johnny Depp, Orlando Bloom, Keira Knightley]   \n",
       "2      [Daniel Craig, Christoph Waltz, Léa Seydoux]   \n",
       "\n",
       "                              keywords                        genres  \n",
       "0   [culture clash, future, space war]  [Action, Adventure, Fantasy]  \n",
       "1   [ocean, drug abuse, exotic island]  [Adventure, Fantasy, Action]  \n",
       "2  [spy, based on novel, secret agent]    [Action, Adventure, Crime]  "
      ]
     },
     "execution_count": 361,
     "metadata": {},
     "output_type": "execute_result"
    }
   ],
   "source": [
    "df[['title', 'director', 'cast', 'keywords', 'genres']].head(3)"
   ]
  },
  {
   "cell_type": "markdown",
   "id": "13f5850d",
   "metadata": {},
   "source": [
    "# \n",
    "- **대문자와 소문자는 다른 객체로 인식 => 모든 대문자를 소문자로 변환**\n",
    "- **띄어쓰기 제거**"
   ]
  },
  {
   "cell_type": "code",
   "execution_count": 362,
   "id": "6103a6b7",
   "metadata": {},
   "outputs": [],
   "source": [
    "def clean_data(x):\n",
    "    if isinstance(x, list):\n",
    "        return [str.lower(i.replace(' ', '')) for i in x]\n",
    "    else:\n",
    "        if isinstance(x, str):\n",
    "            return str.lower(x.replace(' ', ''))\n",
    "        else:\n",
    "            return ''"
   ]
  },
  {
   "cell_type": "code",
   "execution_count": 363,
   "id": "4d0b70ed",
   "metadata": {},
   "outputs": [],
   "source": [
    "features = ['director', 'cast', 'keywords', 'genres']\n",
    "for feature in features:\n",
    "    df[feature] = df[feature].apply(clean_data)"
   ]
  },
  {
   "cell_type": "code",
   "execution_count": 364,
   "id": "5827f1a3",
   "metadata": {},
   "outputs": [
    {
     "data": {
      "text/html": [
       "<div>\n",
       "<style scoped>\n",
       "    .dataframe tbody tr th:only-of-type {\n",
       "        vertical-align: middle;\n",
       "    }\n",
       "\n",
       "    .dataframe tbody tr th {\n",
       "        vertical-align: top;\n",
       "    }\n",
       "\n",
       "    .dataframe thead th {\n",
       "        text-align: right;\n",
       "    }\n",
       "</style>\n",
       "<table border=\"1\" class=\"dataframe\">\n",
       "  <thead>\n",
       "    <tr style=\"text-align: right;\">\n",
       "      <th></th>\n",
       "      <th>title</th>\n",
       "      <th>director</th>\n",
       "      <th>cast</th>\n",
       "      <th>keywords</th>\n",
       "      <th>genres</th>\n",
       "    </tr>\n",
       "  </thead>\n",
       "  <tbody>\n",
       "    <tr>\n",
       "      <th>0</th>\n",
       "      <td>Avatar</td>\n",
       "      <td>jamescameron</td>\n",
       "      <td>[samworthington, zoesaldana, sigourneyweaver]</td>\n",
       "      <td>[cultureclash, future, spacewar]</td>\n",
       "      <td>[action, adventure, fantasy]</td>\n",
       "    </tr>\n",
       "    <tr>\n",
       "      <th>1</th>\n",
       "      <td>Pirates of the Caribbean: At World's End</td>\n",
       "      <td>goreverbinski</td>\n",
       "      <td>[johnnydepp, orlandobloom, keiraknightley]</td>\n",
       "      <td>[ocean, drugabuse, exoticisland]</td>\n",
       "      <td>[adventure, fantasy, action]</td>\n",
       "    </tr>\n",
       "    <tr>\n",
       "      <th>2</th>\n",
       "      <td>Spectre</td>\n",
       "      <td>sammendes</td>\n",
       "      <td>[danielcraig, christophwaltz, léaseydoux]</td>\n",
       "      <td>[spy, basedonnovel, secretagent]</td>\n",
       "      <td>[action, adventure, crime]</td>\n",
       "    </tr>\n",
       "  </tbody>\n",
       "</table>\n",
       "</div>"
      ],
      "text/plain": [
       "                                      title       director  \\\n",
       "0                                    Avatar   jamescameron   \n",
       "1  Pirates of the Caribbean: At World's End  goreverbinski   \n",
       "2                                   Spectre      sammendes   \n",
       "\n",
       "                                            cast  \\\n",
       "0  [samworthington, zoesaldana, sigourneyweaver]   \n",
       "1     [johnnydepp, orlandobloom, keiraknightley]   \n",
       "2      [danielcraig, christophwaltz, léaseydoux]   \n",
       "\n",
       "                           keywords                        genres  \n",
       "0  [cultureclash, future, spacewar]  [action, adventure, fantasy]  \n",
       "1  [ocean, drugabuse, exoticisland]  [adventure, fantasy, action]  \n",
       "2  [spy, basedonnovel, secretagent]    [action, adventure, crime]  "
      ]
     },
     "execution_count": 364,
     "metadata": {},
     "output_type": "execute_result"
    }
   ],
   "source": [
    "df[['title', 'director', 'cast', 'keywords', 'genres']].head(3)"
   ]
  },
  {
   "cell_type": "markdown",
   "id": "9bd2c747",
   "metadata": {},
   "source": [
    "# \n",
    "# \n",
    "### BOW (Bag Of Words) 벡터화"
   ]
  },
  {
   "cell_type": "markdown",
   "id": "823db7cb",
   "metadata": {},
   "source": [
    "- **추출한 정보들을 하나의 문자열로 결합**"
   ]
  },
  {
   "cell_type": "code",
   "execution_count": 369,
   "id": "4cee0bc5",
   "metadata": {},
   "outputs": [],
   "source": [
    "def create_soup(x):\n",
    "    return ' '.join(x['keywords']) + ' ' + ' '.join(x['cast']) + \\\n",
    "    ' ' + x['director'] + ' ' + ' '.join(x['genres'])"
   ]
  },
  {
   "cell_type": "code",
   "execution_count": 370,
   "id": "8bbeb1a0",
   "metadata": {},
   "outputs": [
    {
     "data": {
      "text/plain": [
       "0    cultureclash future spacewar samworthington zo...\n",
       "1    ocean drugabuse exoticisland johnnydepp orland...\n",
       "2    spy basedonnovel secretagent danielcraig chris...\n",
       "Name: soup, dtype: object"
      ]
     },
     "execution_count": 370,
     "metadata": {},
     "output_type": "execute_result"
    }
   ],
   "source": [
    "df['soup'] = df.apply(create_soup, axis = 1)\n",
    "df['soup'].head(3)"
   ]
  },
  {
   "cell_type": "code",
   "execution_count": 371,
   "id": "cb3783c7",
   "metadata": {},
   "outputs": [
    {
     "data": {
      "text/plain": [
       "(4803, 11520)"
      ]
     },
     "execution_count": 371,
     "metadata": {},
     "output_type": "execute_result"
    }
   ],
   "source": [
    "count = CountVectorizer(stop_words='english')\n",
    "count_matrix = vect.fit_transform(df.soup)\n",
    "count_matrix.shape"
   ]
  },
  {
   "cell_type": "markdown",
   "id": "1647a1f5",
   "metadata": {},
   "source": [
    "# \n",
    "### 코사인 유사도\n",
    "### ```sklearn.metrics.pairwise.cosine_similarity(a, b)``` "
   ]
  },
  {
   "cell_type": "code",
   "execution_count": 374,
   "id": "9dfda51a",
   "metadata": {},
   "outputs": [],
   "source": [
    "from sklearn.metrics.pairwise import cosine_similarity"
   ]
  },
  {
   "cell_type": "code",
   "execution_count": 375,
   "id": "4b682676",
   "metadata": {},
   "outputs": [],
   "source": [
    "cosine_sim2 = cosine_similarity(count_matrix, count_matrix)"
   ]
  },
  {
   "cell_type": "markdown",
   "id": "d740cf30",
   "metadata": {},
   "source": [
    "# \n",
    "### 영화의 제목을 입력받으면, 코사인 유사도를 통해서 가장 유사도가 높은 상위 10개 영화 목록 반환"
   ]
  },
  {
   "cell_type": "code",
   "execution_count": 381,
   "id": "928ca0d3",
   "metadata": {},
   "outputs": [],
   "source": [
    "def get_recommendations(title, cosine_sim=cosine_sim):\n",
    "    cosine_sim_df2 = pd.DataFrame(cosine_sim2)\n",
    "    cosine_sim_df2.index = df.title\n",
    "    cosine_sim_df2.columns = df.title\n",
    "    \n",
    "    return indices[cosine_sim_df2.loc[title].sort_values(ascending = False). \\\n",
    "                       head(11).iloc[1:11].index]"
   ]
  },
  {
   "cell_type": "code",
   "execution_count": 383,
   "id": "ede5970c",
   "metadata": {
    "scrolled": true
   },
   "outputs": [
    {
     "data": {
      "text/plain": [
       "title\n",
       "Monsters, Inc.                                        231\n",
       "Alpha and Omega: The Legend of the Saw Tooth Cave    3403\n",
       "Meet the Deedles                                     1983\n",
       "Elsa & Fred                                          3114\n",
       "The Nut Job                                          1580\n",
       "Running Forever                                      3670\n",
       "A Charlie Brown Christmas                            4709\n",
       "Barnyard                                              896\n",
       "Hoodwinked!                                          2396\n",
       "Free Birds                                            837\n",
       "dtype: int64"
      ]
     },
     "execution_count": 383,
     "metadata": {},
     "output_type": "execute_result"
    }
   ],
   "source": [
    "get_recommendations(\"Up\")"
   ]
  }
 ],
 "metadata": {
  "kernelspec": {
   "display_name": "Python 3 (ipykernel)",
   "language": "python",
   "name": "python3"
  },
  "language_info": {
   "codemirror_mode": {
    "name": "ipython",
    "version": 3
   },
   "file_extension": ".py",
   "mimetype": "text/x-python",
   "name": "python",
   "nbconvert_exporter": "python",
   "pygments_lexer": "ipython3",
   "version": "3.9.7"
  }
 },
 "nbformat": 4,
 "nbformat_minor": 5
}
