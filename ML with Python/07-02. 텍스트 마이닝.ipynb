{
  "cells": [
    {
      "cell_type": "markdown",
      "id": "eedbb860",
      "metadata": {
        "id": "eedbb860"
      },
      "source": [
        "## 텍스트 마이닝"
      ]
    },
    {
      "cell_type": "code",
      "execution_count": 2,
      "id": "51ca6e9c",
      "metadata": {
        "id": "51ca6e9c"
      },
      "outputs": [],
      "source": [
        "import pandas as pd\n",
        "import numpy as np\n",
        "import matplotlib.pyplot as plt\n",
        "import sklearn\n",
        "import warnings\n",
        "import mglearn\n",
        "warnings.filterwarnings(action='ignore')"
      ]
    },
    {
      "cell_type": "markdown",
      "id": "e66550da",
      "metadata": {
        "id": "e66550da"
      },
      "source": [
        "# \n",
        "### 텍스트 데이터 load"
      ]
    },
    {
      "cell_type": "code",
      "execution_count": 3,
      "id": "1e890b5b",
      "metadata": {
        "colab": {
          "base_uri": "https://localhost:8080/",
          "height": 35
        },
        "id": "1e890b5b",
        "outputId": "27bb7a3a-bb36-4a8b-e470-267aefc8a66a"
      },
      "outputs": [
        {
          "output_type": "execute_result",
          "data": {
            "text/plain": [
              "'/content'"
            ],
            "application/vnd.google.colaboratory.intrinsic+json": {
              "type": "string"
            }
          },
          "metadata": {},
          "execution_count": 3
        }
      ],
      "source": [
        "import os\n",
        "os.getcwd()"
      ]
    },
    {
      "cell_type": "code",
      "execution_count": 10,
      "id": "e7e0ae84",
      "metadata": {
        "id": "e7e0ae84"
      },
      "outputs": [],
      "source": [
        "!rm -r /content/aclImdb/train/unsup"
      ]
    },
    {
      "cell_type": "code",
      "execution_count": 11,
      "id": "813e7134",
      "metadata": {
        "id": "813e7134"
      },
      "outputs": [],
      "source": [
        "from sklearn.datasets import load_files"
      ]
    },
    {
      "cell_type": "code",
      "execution_count": 223,
      "id": "82dc7f7a",
      "metadata": {
        "id": "82dc7f7a"
      },
      "outputs": [],
      "source": [
        "review_train = load_files('/content/aclImdb/train/')"
      ]
    },
    {
      "cell_type": "code",
      "execution_count": 224,
      "id": "b674981c",
      "metadata": {
        "id": "b674981c"
      },
      "outputs": [],
      "source": [
        "text_train, y_train = review_train.data, review_train.target"
      ]
    },
    {
      "cell_type": "code",
      "execution_count": 225,
      "id": "9dc6586c",
      "metadata": {
        "colab": {
          "base_uri": "https://localhost:8080/"
        },
        "id": "9dc6586c",
        "outputId": "690368b8-ee7d-4cba-ec0f-9160b2c45402"
      },
      "outputs": [
        {
          "output_type": "execute_result",
          "data": {
            "text/plain": [
              "(25000, (25000,))"
            ]
          },
          "metadata": {},
          "execution_count": 225
        }
      ],
      "source": [
        "len(text_train), y_train.shape"
      ]
    },
    {
      "cell_type": "code",
      "execution_count": 226,
      "id": "9f9507ee",
      "metadata": {
        "id": "9f9507ee"
      },
      "outputs": [],
      "source": [
        "review_test = load_files('/content/aclImdb/test/')"
      ]
    },
    {
      "cell_type": "code",
      "execution_count": 227,
      "id": "0e050dcd",
      "metadata": {
        "id": "0e050dcd"
      },
      "outputs": [],
      "source": [
        "text_test, y_test = review_test.data, review_test.target"
      ]
    },
    {
      "cell_type": "code",
      "execution_count": 228,
      "id": "15984020",
      "metadata": {
        "colab": {
          "base_uri": "https://localhost:8080/"
        },
        "id": "15984020",
        "outputId": "1dbf0dc0-736a-4f59-c8f1-3ec892ac99c6"
      },
      "outputs": [
        {
          "output_type": "execute_result",
          "data": {
            "text/plain": [
              "(25000, (25000,))"
            ]
          },
          "metadata": {},
          "execution_count": 228
        }
      ],
      "source": [
        "len(text_test), y_test.shape"
      ]
    },
    {
      "cell_type": "code",
      "execution_count": 229,
      "id": "6c4089a3",
      "metadata": {
        "colab": {
          "base_uri": "https://localhost:8080/"
        },
        "id": "6c4089a3",
        "outputId": "71b9c79a-5b2a-466e-db1f-c2e35884ba29"
      },
      "outputs": [
        {
          "output_type": "execute_result",
          "data": {
            "text/plain": [
              "(array([12500, 12500]), array([12500, 12500]))"
            ]
          },
          "metadata": {},
          "execution_count": 229
        }
      ],
      "source": [
        "np.bincount(y_train), np.bincount(y_test)"
      ]
    },
    {
      "cell_type": "markdown",
      "id": "e528eca4",
      "metadata": {
        "id": "e528eca4"
      },
      "source": [
        "# \n",
        "- **띄어쓰기를 의미하는 \\<br/>을 제거**"
      ]
    },
    {
      "cell_type": "code",
      "execution_count": 22,
      "id": "37e8d153",
      "metadata": {
        "colab": {
          "base_uri": "https://localhost:8080/"
        },
        "id": "37e8d153",
        "outputId": "5b988420-66c2-4c70-a569-0bbd34579158"
      },
      "outputs": [
        {
          "output_type": "execute_result",
          "data": {
            "text/plain": [
              "b\"Zero Day leads you to think, even re-think why two boys/young men would do what they did - commit mutual suicide via slaughtering their classmates. It captures what must be beyond a bizarre mode of being for two humans who have decided to withdraw from common civility in order to define their own/mutual world via coupled destruction.<br /><br />It is not a perfect movie but given what money/time the filmmaker and actors had - it is a remarkable product. In terms of explaining the motives and actions of the two young suicide/murderers it is better than 'Elephant' - in terms of being a film that gets under our 'rationalistic' skin it is a far, far better film than almost anything you are likely to see. <br /><br />Flawed but honest with a terrible honesty.\""
            ]
          },
          "metadata": {},
          "execution_count": 22
        }
      ],
      "source": [
        "text_train[0]"
      ]
    },
    {
      "cell_type": "code",
      "execution_count": 23,
      "id": "408beac4",
      "metadata": {
        "id": "408beac4"
      },
      "outputs": [],
      "source": [
        "text_train = [doc.replace(b\"<br />\", b\" \") for doc in text_train]"
      ]
    },
    {
      "cell_type": "code",
      "execution_count": 24,
      "id": "14dd9e0f",
      "metadata": {
        "id": "14dd9e0f"
      },
      "outputs": [],
      "source": [
        "text_test = [doc.replace(b\"<br />\", b\" \") for doc in text_test]"
      ]
    },
    {
      "cell_type": "markdown",
      "id": "98725bb0",
      "metadata": {
        "id": "98725bb0"
      },
      "source": [
        "\n",
        "<br/>\n",
        "<br/>\n",
        "<br/>\n",
        "\n",
        "\n",
        "\n",
        "### 텍스트 데이터를 BOW로 표현\n",
        "- BOW : Bag of Words\n",
        "- 장, 문단, 문장, 서식 같은 입력 텍스트의 구조 대부분을 잃고, 각 단어가 말뭉치에 있는 텍스트에 얼마나 많이 나타나는지만 헤아림\n",
        "- **구조와 상관 없이, 단어의 출현 횟수만 count**\n",
        "\n",
        "<br/>\n",
        "\n",
        "1. **토큰화 : 각 문서를 문서에 포함된 단어(토큰)으로 나눔 (공백 혹은 구두점 기준)**\n",
        "2. **어휘 사전 구축 : 모든 문서에 나타난 모든 단어의 어휘를 모으고, 번호를 매김**\n",
        "3. **희소 행렬 인코딩 : 어휘 사전의 단어가 문서마다 몇 번이나 나타나는지 파악**"
      ]
    },
    {
      "cell_type": "markdown",
      "id": "9c10e917",
      "metadata": {
        "id": "9c10e917"
      },
      "source": [
        "- **출력은 각 문서에서 나타난 단어의 횟수가 담긴 하나의 벡터**\n",
        "- **사전에 있는 각 단어가 문서마다 얼마나 자주 나타나는지 파악** => **전체 데이터셋에서 고유한 각 단어를 특성으로 가짐**\n",
        "- **원본 문자열에 있는 단어의 순서는 BOW 특성 표현에서 완전히 무시**"
      ]
    },
    {
      "cell_type": "markdown",
      "id": "25f5efb0",
      "metadata": {
        "id": "25f5efb0"
      },
      "source": [
        "<br/>\n",
        "<br/>\n",
        "\n",
        "### ```sklearn.feature_extraction.text.CountVectorizer(min_df, max_df, stop_words, ngram_range, ...)```\n",
        "- ```min_df``` : 토큰이 나타날 최소 문서 개수 지정 (자주 나타나지 않는 단어 제거)\n",
        "- ```max_df``` : 토큰이 나타날 최대 문서 개수 지정 (자주 나타나는 단어 제거)\n",
        "- ```stop_words``` : 내장된 불용어 사용 ('english')"
      ]
    },
    {
      "cell_type": "code",
      "execution_count": 25,
      "id": "a7dd873f",
      "metadata": {
        "id": "a7dd873f"
      },
      "outputs": [],
      "source": [
        "bards_words = [\"The fool doth think he is wise,\",\n",
        "               \"but the wise man knows himself to be a fool\"]"
      ]
    },
    {
      "cell_type": "code",
      "execution_count": 26,
      "id": "0ca6b0a2",
      "metadata": {
        "id": "0ca6b0a2"
      },
      "outputs": [],
      "source": [
        "from sklearn.feature_extraction.text import CountVectorizer"
      ]
    },
    {
      "cell_type": "code",
      "execution_count": 27,
      "id": "9fc51818",
      "metadata": {
        "id": "9fc51818"
      },
      "outputs": [],
      "source": [
        "vect = CountVectorizer().fit(bards_words)"
      ]
    },
    {
      "cell_type": "code",
      "execution_count": 28,
      "id": "30cc1cfe",
      "metadata": {
        "colab": {
          "base_uri": "https://localhost:8080/"
        },
        "id": "30cc1cfe",
        "outputId": "670cf7c8-c874-4aa6-9013-9d9ae1a32a1c"
      },
      "outputs": [
        {
          "output_type": "execute_result",
          "data": {
            "text/plain": [
              "array(['be', 'but', 'doth', 'fool', 'he', 'himself', 'is', 'knows', 'man',\n",
              "       'the', 'think', 'to', 'wise'], dtype=object)"
            ]
          },
          "metadata": {},
          "execution_count": 28
        }
      ],
      "source": [
        "vect.get_feature_names_out()"
      ]
    },
    {
      "cell_type": "code",
      "execution_count": 29,
      "id": "b8f69059",
      "metadata": {
        "scrolled": true,
        "colab": {
          "base_uri": "https://localhost:8080/"
        },
        "id": "b8f69059",
        "outputId": "6eb700cc-085c-4e98-b748-eee124eeb46e"
      },
      "outputs": [
        {
          "output_type": "execute_result",
          "data": {
            "text/plain": [
              "({'the': 9,\n",
              "  'fool': 3,\n",
              "  'doth': 2,\n",
              "  'think': 10,\n",
              "  'he': 4,\n",
              "  'is': 6,\n",
              "  'wise': 12,\n",
              "  'but': 1,\n",
              "  'man': 8,\n",
              "  'knows': 7,\n",
              "  'himself': 5,\n",
              "  'to': 11,\n",
              "  'be': 0},\n",
              " 13)"
            ]
          },
          "metadata": {},
          "execution_count": 29
        }
      ],
      "source": [
        "vect.vocabulary_, len(vect.vocabulary_)"
      ]
    },
    {
      "cell_type": "markdown",
      "id": "a4e5fd40",
      "metadata": {
        "id": "a4e5fd40"
      },
      "source": [
        "#### BOW 표현을 만들려면 ```.transform()```을 적용\n",
        "- SciPy 희소 행렬로 저장"
      ]
    },
    {
      "cell_type": "code",
      "execution_count": 30,
      "id": "26f70a1c",
      "metadata": {
        "id": "26f70a1c"
      },
      "outputs": [],
      "source": [
        "bag_of_words = vect.transform(bards_words)"
      ]
    },
    {
      "cell_type": "code",
      "execution_count": 31,
      "id": "bb8dd1ee",
      "metadata": {
        "colab": {
          "base_uri": "https://localhost:8080/",
          "height": 35
        },
        "id": "bb8dd1ee",
        "outputId": "bbb6d6f7-4c8a-491e-8f65-52ab2a57a249"
      },
      "outputs": [
        {
          "output_type": "execute_result",
          "data": {
            "text/plain": [
              "\"<2x13 sparse matrix of type '<class 'numpy.int64'>'\\n\\twith 16 stored elements in Compressed Sparse Row format>\""
            ],
            "application/vnd.google.colaboratory.intrinsic+json": {
              "type": "string"
            }
          },
          "metadata": {},
          "execution_count": 31
        }
      ],
      "source": [
        "repr(bag_of_words)"
      ]
    },
    {
      "cell_type": "code",
      "execution_count": 32,
      "id": "a3a184b1",
      "metadata": {
        "colab": {
          "base_uri": "https://localhost:8080/"
        },
        "id": "a3a184b1",
        "outputId": "a7046ea9-781f-4570-8198-f7092628a985"
      },
      "outputs": [
        {
          "output_type": "execute_result",
          "data": {
            "text/plain": [
              "(array([[0, 0, 1, 1, 1, 0, 1, 0, 0, 1, 1, 0, 1],\n",
              "        [1, 1, 0, 1, 0, 1, 0, 1, 1, 1, 0, 1, 1]]), (2, 13))"
            ]
          },
          "metadata": {},
          "execution_count": 32
        }
      ],
      "source": [
        "bag_of_words.toarray(), bag_of_words.shape"
      ]
    },
    {
      "cell_type": "markdown",
      "id": "bf08725e",
      "metadata": {
        "id": "bf08725e"
      },
      "source": [
        "<br/>\n",
        "<br/>\n",
        "\n",
        "### 영화 리뷰 BOW"
      ]
    },
    {
      "cell_type": "code",
      "execution_count": 33,
      "id": "043272b3",
      "metadata": {
        "id": "043272b3"
      },
      "outputs": [],
      "source": [
        "vect = CountVectorizer().fit(text_train)\n",
        "x_train = vect.transform(text_train)"
      ]
    },
    {
      "cell_type": "code",
      "execution_count": 34,
      "id": "7bd6823b",
      "metadata": {
        "id": "7bd6823b"
      },
      "outputs": [],
      "source": [
        "feature_names = vect.get_feature_names_out()"
      ]
    },
    {
      "cell_type": "code",
      "execution_count": 35,
      "id": "f22a4089",
      "metadata": {
        "colab": {
          "base_uri": "https://localhost:8080/"
        },
        "id": "f22a4089",
        "outputId": "69c87fff-b351-4460-c548-eeb069d2eb6d"
      },
      "outputs": [
        {
          "output_type": "execute_result",
          "data": {
            "text/plain": [
              "(array(['00', '000', '0000000000001', '00001', '00015', '000s', '001',\n",
              "        '003830', '006', '007', '0079', '0080', '0083', '0093638', '00am',\n",
              "        '00pm', '00s', '01', '01pm', '02'], dtype=object), (74849,), 74849)"
            ]
          },
          "metadata": {},
          "execution_count": 35
        }
      ],
      "source": [
        "feature_names[:20], feature_names.shape, len(vect.vocabulary_)"
      ]
    },
    {
      "cell_type": "markdown",
      "id": "8640f42c",
      "metadata": {
        "id": "8640f42c"
      },
      "source": [
        "<br/>"
      ]
    },
    {
      "cell_type": "code",
      "execution_count": 36,
      "id": "546a1c8d",
      "metadata": {
        "id": "546a1c8d"
      },
      "outputs": [],
      "source": [
        "from sklearn.linear_model import LogisticRegression\n",
        "from sklearn.model_selection import cross_val_score"
      ]
    },
    {
      "cell_type": "code",
      "execution_count": 37,
      "id": "04fc2e57",
      "metadata": {
        "id": "04fc2e57"
      },
      "outputs": [],
      "source": [
        "scores = cross_val_score(LogisticRegression(max_iter=1000), \n",
        "                         x_train, y_train)"
      ]
    },
    {
      "cell_type": "code",
      "execution_count": 38,
      "id": "b1c3e0c7",
      "metadata": {
        "colab": {
          "base_uri": "https://localhost:8080/"
        },
        "id": "b1c3e0c7",
        "outputId": "a3a449dc-be45-43ae-91f9-42df23f9c52b"
      },
      "outputs": [
        {
          "output_type": "execute_result",
          "data": {
            "text/plain": [
              "0.88128"
            ]
          },
          "metadata": {},
          "execution_count": 38
        }
      ],
      "source": [
        "np.mean(scores)"
      ]
    },
    {
      "cell_type": "code",
      "execution_count": 39,
      "id": "f86b6ade",
      "metadata": {
        "id": "f86b6ade"
      },
      "outputs": [],
      "source": [
        "from sklearn.model_selection import GridSearchCV"
      ]
    },
    {
      "cell_type": "code",
      "execution_count": 40,
      "id": "ca15a4dd",
      "metadata": {
        "id": "ca15a4dd"
      },
      "outputs": [],
      "source": [
        "param_grid = {'C': [0.001, 0.01, 0.1, 1, 10]}"
      ]
    },
    {
      "cell_type": "code",
      "execution_count": 41,
      "id": "7afadc47",
      "metadata": {
        "colab": {
          "base_uri": "https://localhost:8080/"
        },
        "id": "7afadc47",
        "outputId": "0a9c84e8-2697-4612-d164-b52fd6b09286"
      },
      "outputs": [
        {
          "output_type": "execute_result",
          "data": {
            "text/plain": [
              "(0.8881599999999998, {'C': 0.1}, 0.97484)"
            ]
          },
          "metadata": {},
          "execution_count": 41
        }
      ],
      "source": [
        "grid = GridSearchCV(LogisticRegression(max_iter=1000), param_grid). \\\n",
        "    fit(x_train, y_train)\n",
        "grid.best_score_, grid.best_params_, grid.score(x_train, y_train)"
      ]
    },
    {
      "cell_type": "code",
      "execution_count": 42,
      "id": "dfbd426b",
      "metadata": {
        "colab": {
          "base_uri": "https://localhost:8080/"
        },
        "id": "dfbd426b",
        "outputId": "106e86bc-874e-49e3-f60f-f3f19938cd81"
      },
      "outputs": [
        {
          "output_type": "execute_result",
          "data": {
            "text/plain": [
              "0.87888"
            ]
          },
          "metadata": {},
          "execution_count": 42
        }
      ],
      "source": [
        "x_test = vect.transform(text_test)\n",
        "grid.score(x_test, y_test)"
      ]
    },
    {
      "cell_type": "markdown",
      "id": "700034a5",
      "metadata": {
        "id": "700034a5"
      },
      "source": [
        "<br/>\n",
        "<br/>\n",
        " \n",
        "#### ```CountVectorizer()```의 min_df를 조정하여, 토큰이 나타날 최소 문서 개수 지정\n",
        "- **의미 없는 특성 (숫자 등)을 감소**"
      ]
    },
    {
      "cell_type": "code",
      "execution_count": 43,
      "id": "ed581414",
      "metadata": {
        "id": "ed581414"
      },
      "outputs": [],
      "source": [
        "vect = CountVectorizer(min_df=5).fit(text_train)\n",
        "x_train = vect.transform(text_train)"
      ]
    },
    {
      "cell_type": "code",
      "execution_count": 44,
      "id": "e8496f93",
      "metadata": {
        "id": "e8496f93"
      },
      "outputs": [],
      "source": [
        "feature_names = vect.get_feature_names_out()"
      ]
    },
    {
      "cell_type": "code",
      "execution_count": 45,
      "id": "a3d6c75a",
      "metadata": {
        "colab": {
          "base_uri": "https://localhost:8080/"
        },
        "id": "a3d6c75a",
        "outputId": "5dfef99d-694e-4a72-c40c-c5fc862020c8"
      },
      "outputs": [
        {
          "output_type": "execute_result",
          "data": {
            "text/plain": [
              "(array(['00', '000', '007', '00s', '01', '02', '03', '04', '05', '06',\n",
              "        '07', '08', '09', '10', '100', '1000', '100th', '101', '102',\n",
              "        '103'], dtype=object), (27271,), 27271)"
            ]
          },
          "metadata": {},
          "execution_count": 45
        }
      ],
      "source": [
        "feature_names[:20], feature_names.shape, len(vect.vocabulary_)"
      ]
    },
    {
      "cell_type": "code",
      "execution_count": 46,
      "id": "69dbaf8a",
      "metadata": {
        "colab": {
          "base_uri": "https://localhost:8080/"
        },
        "id": "69dbaf8a",
        "outputId": "4c68d389-c5b8-42ff-bfb4-25c2700d9f91"
      },
      "outputs": [
        {
          "output_type": "execute_result",
          "data": {
            "text/plain": [
              "(25000, 27271)"
            ]
          },
          "metadata": {},
          "execution_count": 46
        }
      ],
      "source": [
        "x_train.toarray().shape"
      ]
    },
    {
      "cell_type": "code",
      "execution_count": 47,
      "id": "c1536805",
      "metadata": {
        "colab": {
          "base_uri": "https://localhost:8080/"
        },
        "id": "c1536805",
        "outputId": "dccb6d32-46c6-443c-e54c-eb6e2cd6e376"
      },
      "outputs": [
        {
          "output_type": "execute_result",
          "data": {
            "text/plain": [
              "(0.8880800000000001, {'C': 0.1}, 0.97124)"
            ]
          },
          "metadata": {},
          "execution_count": 47
        }
      ],
      "source": [
        "grid = GridSearchCV(LogisticRegression(max_iter=1000), param_grid). \\\n",
        "    fit(x_train, y_train)\n",
        "grid.best_score_, grid.best_params_, grid.score(x_train, y_train)"
      ]
    },
    {
      "cell_type": "markdown",
      "id": "ed91c717",
      "metadata": {
        "id": "ed91c717"
      },
      "source": [
        "<br/> \n",
        "<br/>\n",
        "<br/>\n",
        "### 불용어\n",
        "### ```sklearn.feature_extraction.text.ENGLISH_STOP_WORDS```"
      ]
    },
    {
      "cell_type": "code",
      "execution_count": 48,
      "id": "ebe977ef",
      "metadata": {
        "id": "ebe977ef"
      },
      "outputs": [],
      "source": [
        "from sklearn.feature_extraction.text import ENGLISH_STOP_WORDS"
      ]
    },
    {
      "cell_type": "code",
      "execution_count": 49,
      "id": "9c040e4a",
      "metadata": {
        "colab": {
          "base_uri": "https://localhost:8080/"
        },
        "id": "9c040e4a",
        "outputId": "7f8b2519-01e9-46d5-be60-fd437578a671"
      },
      "outputs": [
        {
          "output_type": "execute_result",
          "data": {
            "text/plain": [
              "318"
            ]
          },
          "metadata": {},
          "execution_count": 49
        }
      ],
      "source": [
        "len(ENGLISH_STOP_WORDS)"
      ]
    },
    {
      "cell_type": "code",
      "execution_count": 50,
      "id": "33a7de31",
      "metadata": {
        "id": "33a7de31"
      },
      "outputs": [],
      "source": [
        "vect = CountVectorizer(min_df=5, stop_words=\"english\").fit(text_train)\n",
        "x_train = vect.transform(text_train)"
      ]
    },
    {
      "cell_type": "code",
      "execution_count": 51,
      "id": "e33d0f80",
      "metadata": {
        "id": "e33d0f80"
      },
      "outputs": [],
      "source": [
        "feature_names = vect.get_feature_names_out()"
      ]
    },
    {
      "cell_type": "code",
      "execution_count": 52,
      "id": "03b48088",
      "metadata": {
        "colab": {
          "base_uri": "https://localhost:8080/"
        },
        "id": "03b48088",
        "outputId": "0fb2e313-bf3a-4f43-a773-4f68217493c6"
      },
      "outputs": [
        {
          "output_type": "execute_result",
          "data": {
            "text/plain": [
              "(array(['00', '000', '007', '00s', '01', '02', '03', '04', '05', '06',\n",
              "        '07', '08', '09', '10', '100', '1000', '100th', '101', '102',\n",
              "        '103'], dtype=object), (26966,), 26966)"
            ]
          },
          "metadata": {},
          "execution_count": 52
        }
      ],
      "source": [
        "feature_names[:20], feature_names.shape, len(vect.vocabulary_)"
      ]
    },
    {
      "cell_type": "code",
      "execution_count": 53,
      "id": "587e7947",
      "metadata": {
        "colab": {
          "base_uri": "https://localhost:8080/"
        },
        "id": "587e7947",
        "outputId": "1d1ff80a-04d7-4b69-943e-9edcdd093c67"
      },
      "outputs": [
        {
          "output_type": "execute_result",
          "data": {
            "text/plain": [
              "(0.8828400000000001, {'C': 0.1}, 0.96836)"
            ]
          },
          "metadata": {},
          "execution_count": 53
        }
      ],
      "source": [
        "grid = GridSearchCV(LogisticRegression(max_iter=1000), param_grid). \\\n",
        "    fit(x_train, y_train)\n",
        "grid.best_score_, grid.best_params_, grid.score(x_train, y_train)"
      ]
    },
    {
      "cell_type": "markdown",
      "id": "da682104",
      "metadata": {
        "id": "da682104"
      },
      "source": [
        "<br/>\n",
        "<br/>\n",
        "\n",
        "### tf-idf (데이터 스케일 변경)\n",
        "- **다른 문서보다 특정 문서에 자주 나타나는 단어에 높은 가중치 부여**\n",
        "\n",
        "$tf-idf(w, d) = tf(log({{N+1} \\over {N_w + 1}})+1)\n",
        "$\n",
        "\n",
        "- $N$ : 훈련 데이터에 있는 문서의 개수\n",
        "- $N_w$ : 단어 $w$가 나타난 훈련 데이터 문서의 개수\n",
        "- $tf$ (단어 빈도수) : 단어 $w$가 대상 문서 $d$(변환 또는 인코딩 하려는 문서)에 나타난 횟수\n",
        "\n",
        "<br/>\n",
        "\n",
        "### ```sklearn.feature_extraction.text.TfidfVectorizer(min_df, max_df, stop_words, ngram_range,  ...)```\n",
        "- ```CountVectorizer```가 만든 희소 행렬을 입력받아 변환\n",
        "- 텍스트 데이터를 입력받아 BOW 특성 추출과, tf-idf 변환 수행\n",
        "- tf-idf 계산을 한 후에, L2정규화 수행 (유클리디안 노름이 1이 되도록 각 문서 벡터의 스케일 변환)\n",
        "- 스케일이 변환된 벡터는 문서의 길이 (단어의 수)에 영향을 받지 않음"
      ]
    },
    {
      "cell_type": "code",
      "execution_count": 54,
      "id": "1ff75f89",
      "metadata": {
        "id": "1ff75f89"
      },
      "outputs": [],
      "source": [
        "from sklearn.feature_extraction.text import TfidfVectorizer\n",
        "from sklearn.pipeline import make_pipeline"
      ]
    },
    {
      "cell_type": "code",
      "execution_count": 55,
      "id": "63c878aa",
      "metadata": {
        "id": "63c878aa"
      },
      "outputs": [],
      "source": [
        "pipe = make_pipeline(TfidfVectorizer(min_df=5), LogisticRegression(max_iter=1000))\n",
        "param_grid = {'logisticregression__C': [0.001, 0.01, 0.1, 1, 10]}"
      ]
    },
    {
      "cell_type": "code",
      "execution_count": 56,
      "id": "bdd9855a",
      "metadata": {
        "id": "bdd9855a"
      },
      "outputs": [],
      "source": [
        "grid = GridSearchCV(pipe, param_grid).fit(text_train, y_train)"
      ]
    },
    {
      "cell_type": "code",
      "execution_count": 57,
      "id": "65b3e74f",
      "metadata": {
        "colab": {
          "base_uri": "https://localhost:8080/"
        },
        "id": "65b3e74f",
        "outputId": "7bef22ef-5655-436f-f4bb-0f817b938f95"
      },
      "outputs": [
        {
          "output_type": "execute_result",
          "data": {
            "text/plain": [
              "(0.8918800000000001, 0.98284, 0.88096)"
            ]
          },
          "metadata": {},
          "execution_count": 57
        }
      ],
      "source": [
        "grid.best_score_, grid.score(text_train, y_train), grid.score(text_test, y_test)"
      ]
    },
    {
      "cell_type": "markdown",
      "id": "1180e298",
      "metadata": {
        "id": "1180e298"
      },
      "source": [
        "<br/>\n",
        "\n",
        "#### tf-idf는 비지도 학습으로써, 반응변수의 레이블과 관계있는 것은 아님\n",
        "- 전체 문서에 걸쳐 많이 나타나면 idf값이 1에 가깝게 됨\n",
        "- 조금씩 사용되거나, 매우 긴 문서에서만 사용되면, tf-idf값이 작아짐"
      ]
    },
    {
      "cell_type": "code",
      "execution_count": 58,
      "id": "265b03bf",
      "metadata": {
        "id": "265b03bf"
      },
      "outputs": [],
      "source": [
        "vectorizer = grid.best_estimator_.named_steps['tfidfvectorizer']\n",
        "x_train = vectorizer.transform(text_train)"
      ]
    },
    {
      "cell_type": "code",
      "execution_count": 59,
      "id": "9bd63252",
      "metadata": {
        "id": "9bd63252"
      },
      "outputs": [],
      "source": [
        "max_value = x_train.max(axis=0).toarray().ravel()\n",
        "sorted_by_tfidf = max_value.argsort()"
      ]
    },
    {
      "cell_type": "code",
      "execution_count": 60,
      "id": "1312ea73",
      "metadata": {
        "id": "1312ea73"
      },
      "outputs": [],
      "source": [
        "feature_names = np.array(vectorizer.get_feature_names_out())"
      ]
    },
    {
      "cell_type": "markdown",
      "id": "b219eac9",
      "metadata": {
        "id": "b219eac9"
      },
      "source": [
        "<br/>\n",
        "\n",
        "- **tf-idf가 가장 높은 10개, 가장 낮은 10개 단어**"
      ]
    },
    {
      "cell_type": "code",
      "execution_count": 61,
      "id": "bb6c5dfc",
      "metadata": {
        "colab": {
          "base_uri": "https://localhost:8080/"
        },
        "id": "bb6c5dfc",
        "outputId": "801acdde-62fc-4fce-b224-4a0486a11dac"
      },
      "outputs": [
        {
          "output_type": "execute_result",
          "data": {
            "text/plain": [
              "(array(['suplexes', 'gauche', 'hypocrites', 'oncoming', 'songwriting',\n",
              "        'galadriel', 'emerald', 'mclaughlin', 'sylvain', 'oversee'],\n",
              "       dtype=object),\n",
              " array(['xica', 'darkman', 'woo', 'casper', 'doodlebops', 'smallville',\n",
              "        'wei', 'scanners', 'steve', 'pokemon'], dtype=object))"
            ]
          },
          "metadata": {},
          "execution_count": 61
        }
      ],
      "source": [
        "feature_names[sorted_by_tfidf[:10]], feature_names[sorted_by_tfidf[-10:]]"
      ]
    },
    {
      "cell_type": "markdown",
      "id": "88750efb",
      "metadata": {
        "id": "88750efb"
      },
      "source": [
        "- **idf가 가장 높은 10개, 가장 낮은 10개 단어**"
      ]
    },
    {
      "cell_type": "code",
      "execution_count": 62,
      "id": "7be09137",
      "metadata": {
        "colab": {
          "base_uri": "https://localhost:8080/"
        },
        "id": "7be09137",
        "outputId": "d6837391-d12d-42f8-9a84-eda27b4a30d9"
      },
      "outputs": [
        {
          "output_type": "execute_result",
          "data": {
            "text/plain": [
              "(array(['the', 'and', 'of', 'to', 'this', 'is', 'it', 'in', 'that', 'but'],\n",
              "       dtype=object),\n",
              " array(['tepper', 'prc', 'greenstreet', 'callaghan', 'caligula',\n",
              "        'pratfall', 'prankster', 'prakash', 'grayce', 'émigré'],\n",
              "       dtype=object))"
            ]
          },
          "metadata": {},
          "execution_count": 62
        }
      ],
      "source": [
        "sorted_by_idf = np.argsort(vectorizer.idf_)\n",
        "feature_names[sorted_by_idf[:10]], feature_names[sorted_by_idf[-10:]]"
      ]
    },
    {
      "cell_type": "markdown",
      "id": "63cbe714",
      "metadata": {
        "id": "63cbe714"
      },
      "source": [
        "<br/>\n",
        "<br/>\n",
        "\n",
        "### 모형 계수\n",
        "- 좌측의 음수 계수는 모형에서 부정적인 리뷰를 의미하는 단어\n",
        "- 우측의 양수 계수는 긍적적인 리뷰의 단어에 해당"
      ]
    },
    {
      "cell_type": "code",
      "execution_count": 63,
      "id": "ec330e14",
      "metadata": {
        "scrolled": true,
        "colab": {
          "base_uri": "https://localhost:8080/",
          "height": 321
        },
        "id": "ec330e14",
        "outputId": "02d45cc8-0171-4fd4-f443-da30e0654f90"
      },
      "outputs": [
        {
          "output_type": "display_data",
          "data": {
            "text/plain": [
              "<Figure size 1080x360 with 1 Axes>"
            ],
            "image/png": "[encoded data removed]"
          },
          "metadata": {
            "needs_background": "light"
          }
        }
      ],
      "source": [
        "mglearn.tools.visualize_coefficients(\n",
        "    grid.best_estimator_.named_steps['logisticregression'].coef_[0],\n",
        "    feature_names, n_top_features=40\n",
        ")"
      ]
    },
    {
      "cell_type": "markdown",
      "id": "e685b04a",
      "metadata": {
        "id": "e685b04a"
      },
      "source": [
        "<br/>\n",
        "<br/>\n",
        "<br/>\n",
        "\n",
        "### N-gram (여러 단어로 만든 BOW)\n",
        "- **BOW의 표현 방식은 단어의 순서가 완전히 무시됨**\n",
        "- 따라서 문맥을 고려하는 주변의 토큰을 포함하여 BOW화\n",
        "- gram의 수가 너무 많아지면, 구체적인 특성이 많아 지기 때문에, 과대적합 가능성 증가\n",
        "\n",
        "<br/>\n",
        "\n",
        "#### ```CountVectorizer()```의 ngram_range를 조정하여, 토큰이 나타날 최소 문서 개수 지정\n"
      ]
    },
    {
      "cell_type": "code",
      "execution_count": 64,
      "id": "19309bc9",
      "metadata": {
        "id": "19309bc9"
      },
      "outputs": [],
      "source": [
        "cv = CountVectorizer(ngram_range=(2, 2)).fit(bards_words)"
      ]
    },
    {
      "cell_type": "code",
      "execution_count": 65,
      "id": "f2889337",
      "metadata": {
        "colab": {
          "base_uri": "https://localhost:8080/"
        },
        "id": "f2889337",
        "outputId": "c7417ced-9ec3-4c55-da02-ab97fe57fabc"
      },
      "outputs": [
        {
          "output_type": "execute_result",
          "data": {
            "text/plain": [
              "({'the fool': 9,\n",
              "  'fool doth': 3,\n",
              "  'doth think': 2,\n",
              "  'think he': 11,\n",
              "  'he is': 4,\n",
              "  'is wise': 6,\n",
              "  'but the': 1,\n",
              "  'the wise': 10,\n",
              "  'wise man': 13,\n",
              "  'man knows': 8,\n",
              "  'knows himself': 7,\n",
              "  'himself to': 5,\n",
              "  'to be': 12,\n",
              "  'be fool': 0},\n",
              " array(['be fool', 'but the', 'doth think', 'fool doth', 'he is',\n",
              "        'himself to', 'is wise', 'knows himself', 'man knows', 'the fool',\n",
              "        'the wise', 'think he', 'to be', 'wise man'], dtype=object))"
            ]
          },
          "metadata": {},
          "execution_count": 65
        }
      ],
      "source": [
        "cv.vocabulary_, cv.get_feature_names_out()"
      ]
    },
    {
      "cell_type": "markdown",
      "id": "9ba609e7",
      "metadata": {
        "id": "9ba609e7"
      },
      "source": [
        "<br/>"
      ]
    },
    {
      "cell_type": "code",
      "execution_count": 66,
      "id": "1148f73b",
      "metadata": {
        "id": "1148f73b"
      },
      "outputs": [],
      "source": [
        "pipe = make_pipeline(TfidfVectorizer(min_df=5), LogisticRegression(max_iter=1000))"
      ]
    },
    {
      "cell_type": "code",
      "execution_count": 67,
      "id": "dfd62456",
      "metadata": {
        "id": "dfd62456"
      },
      "outputs": [],
      "source": [
        "param_grid = {'logisticregression__C': [0.001, 0.01, 0.1, 1, 10, 100],\n",
        "              'tfidfvectorizer__ngram_range': [(1, 1), (1, 2), (1, 3)]}"
      ]
    },
    {
      "cell_type": "code",
      "execution_count": 68,
      "id": "f636c232",
      "metadata": {
        "id": "f636c232"
      },
      "outputs": [],
      "source": [
        "grid = GridSearchCV(pipe, param_grid).fit(text_train, y_train)"
      ]
    },
    {
      "cell_type": "code",
      "source": [
        "grid.best_params_, grid.best_score_"
      ],
      "metadata": {
        "colab": {
          "base_uri": "https://localhost:8080/"
        },
        "id": "2Z7rT958ow6-",
        "outputId": "bcf1860b-4fea-4ed5-87d8-20be05872b4f"
      },
      "id": "2Z7rT958ow6-",
      "execution_count": 72,
      "outputs": [
        {
          "output_type": "execute_result",
          "data": {
            "text/plain": [
              "({'logisticregression__C': 100, 'tfidfvectorizer__ngram_range': (1, 3)},\n",
              " 0.9064400000000001)"
            ]
          },
          "metadata": {},
          "execution_count": 72
        }
      ]
    },
    {
      "cell_type": "code",
      "execution_count": 73,
      "id": "b1aa006b",
      "metadata": {
        "colab": {
          "base_uri": "https://localhost:8080/"
        },
        "id": "b1aa006b",
        "outputId": "70bfa017-7d52-436b-cc01-fcb245797c15"
      },
      "outputs": [
        {
          "output_type": "execute_result",
          "data": {
            "text/plain": [
              "(1.0, 0.90208)"
            ]
          },
          "metadata": {},
          "execution_count": 73
        }
      ],
      "source": [
        "grid.score(text_train, y_train), grid.score(text_test, y_test)"
      ]
    },
    {
      "cell_type": "code",
      "execution_count": 74,
      "id": "a1348faf",
      "metadata": {
        "colab": {
          "base_uri": "https://localhost:8080/",
          "height": 252
        },
        "id": "a1348faf",
        "outputId": "382e336b-6bde-4e28-f7d8-67ad48dad751"
      },
      "outputs": [
        {
          "output_type": "display_data",
          "data": {
            "text/plain": [
              "<Figure size 432x288 with 2 Axes>"
            ],
            "image/png": "[encoded data removed]"
          },
          "metadata": {
            "needs_background": "light"
          }
        }
      ],
      "source": [
        "scores = grid.cv_results_['mean_test_score'].reshape(-1, 3).T\n",
        "heatmap = mglearn.tools.heatmap(\n",
        "    scores, xlabel ='C', ylabel='ngram_range', cmap='viridis', fmt=\"%.3f\",\n",
        "    xticklabels=param_grid['logisticregression__C'],\n",
        "    yticklabels=param_grid['tfidfvectorizer__ngram_range'])\n",
        "\n",
        "plt.colorbar(heatmap)\n",
        "plt.show()"
      ]
    },
    {
      "cell_type": "code",
      "execution_count": 76,
      "id": "7d61610f",
      "metadata": {
        "colab": {
          "base_uri": "https://localhost:8080/",
          "height": 322
        },
        "id": "7d61610f",
        "outputId": "b3128d8c-acf1-4e66-9886-064f1116f9e8"
      },
      "outputs": [
        {
          "output_type": "display_data",
          "data": {
            "text/plain": [
              "<Figure size 1080x360 with 1 Axes>"
            ],
            "image/png": "[encoded data removed]"
          },
          "metadata": {
            "needs_background": "light"
          }
        }
      ],
      "source": [
        "vect = grid.best_estimator_.named_steps['tfidfvectorizer']\n",
        "feature_names = np.array(vect.get_feature_names_out())\n",
        "coef = grid.best_estimator_.named_steps['logisticregression'].coef_\n",
        "mglearn.tools.visualize_coefficients(coef[0], feature_names, n_top_features=40)"
      ]
    },
    {
      "cell_type": "markdown",
      "id": "e7073e99",
      "metadata": {
        "id": "e7073e99"
      },
      "source": [
        "<br/>\n",
        "<br/>\n",
        "<br/>\n",
        "\n",
        "### 고급 토큰화, 어간 추출, 표제어 추출\n",
        "- **어간 추출 (Stemming)** : 일일이 어미를 찾아 제외하는 규칙 기방 방식 (drawback, drawers, drawings 등)\n",
        "- **표제어 추출 (Jemmatization)** : 알려진 단어의 형태 사전을 사용하고, 문장에서 단어의 역할을 고려하는 처리방식 \n",
        "- **표제어 추출과 어간 추출은 단어의 일반 형태를 추출하는 정규화의 한 형태**"
      ]
    },
    {
      "cell_type": "code",
      "execution_count": 77,
      "id": "01a02f50",
      "metadata": {
        "id": "01a02f50"
      },
      "outputs": [],
      "source": [
        "import spacy\n",
        "import nltk"
      ]
    },
    {
      "cell_type": "code",
      "execution_count": 78,
      "id": "f01b6594",
      "metadata": {
        "colab": {
          "base_uri": "https://localhost:8080/"
        },
        "id": "f01b6594",
        "outputId": "fb37c342-f79b-4db5-d0d1-63d29d444c7e"
      },
      "outputs": [
        {
          "output_type": "execute_result",
          "data": {
            "text/plain": [
              "('3.4.1', '3.7')"
            ]
          },
          "metadata": {},
          "execution_count": 78
        }
      ],
      "source": [
        "spacy.__version__, nltk.__version__"
      ]
    },
    {
      "cell_type": "markdown",
      "source": [
        "- **spacy의 영어 모델 로드 : 표제어 추출**\n",
        "- **nltk의 PorterStemmer 객체 생성 : 어간 추출** \n",
        "\n",
        "<br/>\n",
        "\n",
        "### ```spacy.load()``` : spacy 모델 로드"
      ],
      "metadata": {
        "id": "OHcGJAV3peHG"
      },
      "id": "OHcGJAV3peHG"
    },
    {
      "cell_type": "code",
      "execution_count": 83,
      "id": "df330295",
      "metadata": {
        "id": "df330295"
      },
      "outputs": [],
      "source": [
        "en_nlp = spacy.load('en_core_web_sm')\n",
        "stemmer = nltk.stem.PorterStemmer()"
      ]
    },
    {
      "cell_type": "markdown",
      "source": [
        "<br/>\n",
        "\n",
        "### ```en_nlp()``` : spacy로 문서 토큰화\n",
        "### ```stemmer객체.stem()``` : 어간 추출\n"
      ],
      "metadata": {
        "id": "bD7mOcPzp0Hc"
      },
      "id": "bD7mOcPzp0Hc"
    },
    {
      "cell_type": "code",
      "execution_count": 85,
      "id": "375e65b8",
      "metadata": {
        "id": "375e65b8"
      },
      "outputs": [],
      "source": [
        "def compare_normalization(doc):\n",
        "    # 문서 토큰화\n",
        "    doc_spacy = en_nlp(doc)\n",
        "    \n",
        "    # 표제어 출력\n",
        "    print(\"Jemmatization\")\n",
        "    print([token.lemma_ for token in doc_spacy])\n",
        "    \n",
        "    # 토큰 출력\n",
        "    print(\"Stemming\")\n",
        "    print([stemmer.stem(token.norm_.lower()) for token in doc_spacy])"
      ]
    },
    {
      "cell_type": "markdown",
      "source": [
        "- **표제어 추출 vs 어간 추출 비교**"
      ],
      "metadata": {
        "id": "Rg1JOtfaqwnN"
      },
      "id": "Rg1JOtfaqwnN"
    },
    {
      "cell_type": "code",
      "execution_count": 87,
      "id": "de1c52f1",
      "metadata": {
        "colab": {
          "base_uri": "https://localhost:8080/"
        },
        "id": "de1c52f1",
        "outputId": "62cff4d9-fdab-4661-abaf-36dbfc550de0"
      },
      "outputs": [
        {
          "output_type": "stream",
          "name": "stdout",
          "text": [
            "Jemmatization\n",
            "['our', 'meeting', 'today', 'be', 'bad', 'than', 'yesterday', ',', 'I', 'be', 'scared', 'of', 'meet', 'the', 'client', 'tomorrow', '.']\n",
            "Stemming\n",
            "['our', 'meet', 'today', 'wa', 'wors', 'than', 'yesterday', ',', 'i', 'am', 'scare', 'of', 'meet', 'the', 'client', 'tomorrow', '.']\n"
          ]
        }
      ],
      "source": [
        "compare_normalization(u\"Our meeting today was worse than yesterday, I'm scared of meeting the clients tomorrow.\")"
      ]
    },
    {
      "cell_type": "markdown",
      "id": "9189ba0e",
      "metadata": {
        "id": "9189ba0e"
      },
      "source": [
        "- **머신러닝을 위해 토큰 정규화를 할 때는, 어간 추출보다 표제어 추출이 좋은 결과를 낸다고 알려짐**\n",
        "- **데이터셋이 작을 대도 표제어 추출을 통해 성능 향상 가능**\n",
        "- **표제어 추출과 어간 추출은 모형을 더 낫게 (간단하게) 만들어 주기 때문에, 마지막 성능까지 쥐어 짜내야 할 때 시도 가능**"
      ]
    },
    {
      "cell_type": "markdown",
      "source": [
        "<br/>\n",
        "<br/>\n",
        "<br/>\n",
        "\n",
        "### LDA\n",
        "- 잠재 디레클레 할당(LDA)은 대표적인 토픽 모델링 알고리즘 중 하나\n",
        "\n",
        "- 잠재 디레클레 할당 방법\n",
        "\n",
        "  - 사용자가 토픽이 개수를 지정해 알고리즘에 전달\n",
        "  - 모든 단어들을 토픽 중 하나에 할당\n",
        "  - 모든 문서의 모든 단어에 대해 단어 $w$가 가정에 의거, $p(w|t)$ $p(w|t)$ 에 따라 토픽을 재할당, 이를 반복, 이 때 가정은 자신만이 잘못된 토픽에 할당되어 있고 다른 모든 단어는 올바른 토픽에 할당된다는 것을 의미\n",
        "\n",
        "- $p(t|d)$ : 문서 d의 단어들 중 토픽 t에 해당하는 비율\n",
        "- 해당 문서의 자주 등장하는 다른 단어의 토픽이 해당 단어의 토픽이 될 가능성이 높음을 의미\n",
        "\n",
        "- $p(w|t)$ : 단어 $w$를 가지고 있는 모든 문서들 중 토픽 t가 할당된 비율\n",
        "\n",
        "- 다른 문서에서 단어 w에 많이 할당된 토픽이 해당 단어의 토픽이 될 가능성이 높음을 의미\n",
        "\n",
        "<br/>\n",
        "\n",
        "### ```sklearn.decomposition.LatentDirichletAllocation(n_components, learning_method, max_iter, ...)```\n",
        "\n",
        "- ```n_components``` : 축소할 성분 수\n",
        "- ```learning_method``` : 학습 방법 (\"online\" / \"batch\")"
      ],
      "metadata": {
        "id": "IxxUhAIXJs6E"
      },
      "id": "IxxUhAIXJs6E"
    },
    {
      "cell_type": "code",
      "source": [
        "vect = CountVectorizer(max_features=10000, max_df=.15)\n",
        "X = vect.fit_transform(text_train)"
      ],
      "metadata": {
        "id": "2MzXXS7YJxig"
      },
      "id": "2MzXXS7YJxig",
      "execution_count": 230,
      "outputs": []
    },
    {
      "cell_type": "code",
      "source": [
        "from sklearn.decomposition import LatentDirichletAllocation"
      ],
      "metadata": {
        "id": "gnwdRF_-J2XJ"
      },
      "id": "gnwdRF_-J2XJ",
      "execution_count": 231,
      "outputs": []
    },
    {
      "cell_type": "code",
      "source": [
        "lda = LatentDirichletAllocation(n_components=10, learning_method='batch',\n",
        "                                max_iter=25, random_state=0)"
      ],
      "metadata": {
        "id": "KllnacujJ74D"
      },
      "id": "KllnacujJ74D",
      "execution_count": 233,
      "outputs": []
    },
    {
      "cell_type": "code",
      "source": [
        "document_topics = lda.fit_transform(X)"
      ],
      "metadata": {
        "id": "2DVnKNAmKJLC"
      },
      "id": "2DVnKNAmKJLC",
      "execution_count": 234,
      "outputs": []
    },
    {
      "cell_type": "markdown",
      "source": [
        "<br/>\n",
        "\n",
        "#### ```.components_``` 각 토픽의 중요도\n",
        "- **n_topics $\\times$ n_words**"
      ],
      "metadata": {
        "id": "JAiZeUMMMSk4"
      },
      "id": "JAiZeUMMMSk4"
    },
    {
      "cell_type": "code",
      "source": [
        "lda.components_.shape"
      ],
      "metadata": {
        "colab": {
          "base_uri": "https://localhost:8080/"
        },
        "id": "UqiG1nVRMPAQ",
        "outputId": "a4ced66d-4481-4cd5-db1c-8c5f48107831"
      },
      "id": "UqiG1nVRMPAQ",
      "execution_count": 236,
      "outputs": [
        {
          "output_type": "execute_result",
          "data": {
            "text/plain": [
              "(10, 10000)"
            ]
          },
          "metadata": {},
          "execution_count": 236
        }
      ]
    },
    {
      "cell_type": "markdown",
      "source": [
        "- 토픽 별 특성을 오름차순으로 정렬"
      ],
      "metadata": {
        "id": "XRPMDD14NQ4o"
      },
      "id": "XRPMDD14NQ4o"
    },
    {
      "cell_type": "code",
      "source": [
        "sorting = np.argsort(lda.components_, axis=1)[:, ::-1]\n",
        "feature_names = np.array(vect.get_feature_names_out())"
      ],
      "metadata": {
        "id": "U7t0EstrMuZi"
      },
      "id": "U7t0EstrMuZi",
      "execution_count": 237,
      "outputs": []
    },
    {
      "cell_type": "code",
      "source": [
        "sorting.shape"
      ],
      "metadata": {
        "colab": {
          "base_uri": "https://localhost:8080/"
        },
        "id": "21C0NZqPMu_M",
        "outputId": "05bd0bfa-1f6d-4cc1-8ca1-32636950d48e"
      },
      "id": "21C0NZqPMu_M",
      "execution_count": 239,
      "outputs": [
        {
          "output_type": "execute_result",
          "data": {
            "text/plain": [
              "(10, 10000)"
            ]
          },
          "metadata": {},
          "execution_count": 239
        }
      ]
    },
    {
      "cell_type": "code",
      "source": [
        "mglearn.tools.print_topics(topics=range(10), feature_names=feature_names,\n",
        "                           sorting=sorting, topics_per_chunk=5, n_words=10)"
      ],
      "metadata": {
        "colab": {
          "base_uri": "https://localhost:8080/"
        },
        "id": "xHrX6fLGMvef",
        "outputId": "750ce334-d8b5-46ac-a31d-f6b1e921b4da"
      },
      "id": "xHrX6fLGMvef",
      "execution_count": 240,
      "outputs": [
        {
          "output_type": "stream",
          "name": "stdout",
          "text": [
            "topic 0       topic 1       topic 2       topic 3       topic 4       \n",
            "--------      --------      --------      --------      --------      \n",
            "director      show          book          family        funny         \n",
            "work          series        original      young         comedy        \n",
            "performance   war           10            father        cast          \n",
            "actors        episode       now           us            role          \n",
            "cast          tv            again         woman         humor         \n",
            "screen        years         world         own           fun           \n",
            "performances  american      saw           world         jokes         \n",
            "role          episodes      read          real          actors        \n",
            "both          world         didn          mother        performance   \n",
            "quite         shows         am            between       always        \n",
            "\n",
            "\n",
            "topic 5       topic 6       topic 7       topic 8       topic 9       \n",
            "--------      --------      --------      --------      --------      \n",
            "horror        music         original      thing         action        \n",
            "gore          john          team          worst         police        \n",
            "effects       old           series        didn          murder        \n",
            "blood         young         jack          nothing       killer        \n",
            "pretty        girl          action        minutes       crime         \n",
            "budget        song          new           guy           plays         \n",
            "house         gets          down          actually      lee           \n",
            "zombie        dance         tarzan        want          gets          \n",
            "dead          songs         freddy        going         role          \n",
            "low           rock          indian        re            cop           \n",
            "\n",
            "\n"
          ]
        }
      ]
    },
    {
      "cell_type": "markdown",
      "source": [
        "<br/>\n",
        "<br/>\n"
      ],
      "metadata": {
        "id": "3iSUYLwVMv61"
      },
      "id": "3iSUYLwVMv61"
    },
    {
      "cell_type": "code",
      "source": [
        "lda100 = LatentDirichletAllocation(n_components=100, learning_method=\"batch\",\n",
        "                                   max_iter=25, random_state=0)\n",
        "document_topics100 = lda100.fit_transform(X)"
      ],
      "metadata": {
        "id": "znbU6jVENp7Y"
      },
      "id": "znbU6jVENp7Y",
      "execution_count": 241,
      "outputs": []
    },
    {
      "cell_type": "code",
      "source": [
        "import random\n",
        "topics = np.array(random.sample(range(100), 10))"
      ],
      "metadata": {
        "id": "LCktzJhwN_58"
      },
      "id": "LCktzJhwN_58",
      "execution_count": 242,
      "outputs": []
    },
    {
      "cell_type": "code",
      "source": [
        "sorting = np.argsort(lda100.components_, axis=1)[:, ::-1]\n",
        "feature_names = np.array(vect.get_feature_names_out())\n",
        "mglearn.tools.print_topics(topics=topics, feature_names=feature_names,\n",
        "                           sorting=sorting, topics_per_chunk=5, n_words=20)"
      ],
      "metadata": {
        "colab": {
          "base_uri": "https://localhost:8080/"
        },
        "id": "dp4W-oS9N0wl",
        "outputId": "f408df74-64b3-485b-977d-6395ab05136c"
      },
      "id": "dp4W-oS9N0wl",
      "execution_count": 243,
      "outputs": [
        {
          "output_type": "stream",
          "name": "stdout",
          "text": [
            "topic 63      topic 61      topic 9       topic 49      topic 82      \n",
            "--------      --------      --------      --------      --------      \n",
            "drugs         war           music         dvd           art           \n",
            "drug          men           michael       release       beautiful     \n",
            "freeman       women         band          released      sexual        \n",
            "money         american      voice         available     woman         \n",
            "disturbing    country       jackson       video         cinema        \n",
            "real          during        video         vhs           each          \n",
            "experiment    world         rock          extras        young         \n",
            "ll            americans     price         bought        sex           \n",
            "morgan        soldiers      fan           find          work          \n",
            "abuse         soldier       clips         commentary    kind          \n",
            "rat           military      soundtrack    collection    between       \n",
            "rats          army          cd            tape          feel          \n",
            "spacey        us            videos        several       director      \n",
            "less          history       genius        case          may           \n",
            "10            against       bands         disc          images        \n",
            "justin        vietnam       brian         version       real          \n",
            "nothing       general       fans          buy           almost        \n",
            "kevin         between       clip          format        lives         \n",
            "addicted      henry         vincent       uk            yet           \n",
            "timberlake    america       dandy         watched       seems         \n",
            "\n",
            "\n",
            "topic 11      topic 50      topic 64      topic 5       topic 47      \n",
            "--------      --------      --------      --------      --------      \n",
            "hitler        richard       charlie       horror        part          \n",
            "bugs          candy         adam          zombie        che           \n",
            "german        lou           lynch         gore          stone         \n",
            "bug           widmark       david         zombies       cage          \n",
            "germany       skip          sandler       blood         angel         \n",
            "cartoons      grinch        alan          vampire       revolution    \n",
            "cartoon       lucy          wilson        dead          thomas        \n",
            "rabbit        amitabh       johnson       vampires      max           \n",
            "bunny         jim           jessica       pretty        altman        \n",
            "evil          peters        simpson       house         soderbergh    \n",
            "toy           fuller        jenny         though        cars          \n",
            "roger         ritter        matt          quite         nicholas      \n",
            "brother       waters        big           fans          smith         \n",
            "straight      role          lost          isn           action        \n",
            "alvin         edward        uma           director      wont          \n",
            "ebert         raj           leonard       bit           actor         \n",
            "rise          salman        luke          set           dark          \n",
            "long          street        duke          flesh         second        \n",
            "power         christmas     cohen         rather        cuba          \n",
            "blind         cast          cheadle       actually      revolutionary \n",
            "\n",
            "\n"
          ]
        }
      ]
    },
    {
      "cell_type": "markdown",
      "source": [
        "<br/>\n",
        "\n",
        "#### 9번쨰 토픽은 음악(music)과 관련된 토픽임을 알 수 있음"
      ],
      "metadata": {
        "id": "t6Qzjp4VReKv"
      },
      "id": "t6Qzjp4VReKv"
    },
    {
      "cell_type": "code",
      "source": [
        "music = np.argsort(document_topics100[:, 9])[::-1]"
      ],
      "metadata": {
        "id": "sLQnxrSeO8UL"
      },
      "id": "sLQnxrSeO8UL",
      "execution_count": 247,
      "outputs": []
    },
    {
      "cell_type": "code",
      "source": [
        "for i in music[:3]:\n",
        "  print(text_train[i])"
      ],
      "metadata": {
        "colab": {
          "base_uri": "https://localhost:8080/"
        },
        "id": "ssb8euyxRWuM",
        "outputId": "316ae2e1-190c-41e2-b049-6b73c957672d"
      },
      "id": "ssb8euyxRWuM",
      "execution_count": 261,
      "outputs": [
        {
          "output_type": "stream",
          "name": "stdout",
          "text": [
            "b'...said a couple exiting the movie theater just as I was entering to watch this. Hmm, not a good sign, but who knows? Different strokes for different folks, after all. Well, nope. They were being kind. Godard has released work that is passionate (Contempt), entertaining (Band of Outsiders), sometimes both (My Life to Live). This is just dull intellectualism, that grates on the nerves pretty quickly. During my showing, literally half of the audience had walked out by the end of the film. If only I had been so wise.'\n",
            "b\"I like a lot of the actors/actresses involved in this project so being insulted by the movie felt even worse than if they used a unknowns .The main problem was this movie was clearly just a concept created to appeal to baby boomers .In 20 or 30 years Nbc will probably do a movie just like this about the early 90's . I can see it now a black family where the kids are involved with the la riot's and the white family has the kids rebel and listen to grunge rock music .The soundtrack will feature bands like Nirvana , N.W.A , Public Enemy , Soundgarden etc .The movie like this will be just as cheesy as The 60's and I gurantee you NBC will do it .See the biggest problem with period pieces when done buy networks is that when you are living in a certain time period you aren't thinking i am living in the 60's or whatever decade is trendy retro at the time .Next time someone does something like this they should put more weight into there project\"\n",
            "b\"I like a lot of the actors/actresses involved in this project so being insulted by the movie felt even worse than if they used a unknowns .The main problem was this movie was clearly just a concept created to appeal to baby boomers .In 20 or 30 years Nbc will probably do a movie just like this about the early 90's . I can see it now a black family where the kids are involved with the la riot's and the white family has the kids rebel and listen to grunge rock music .The soundtrack will feature bands like Nirvana , N.W.A , Public Enemy , Soundgarden etc .The movie like this will be just as cheesy as The 60's and I gurantee you NBC will do it .See the biggest problem with period pieces when done buy networks is that when you are living in a certain time period you aren't thinking i am living in the 60's or whatever decade is trendy retro at the time .Next time someone does something like this they should put more weight into there project\"\n"
          ]
        }
      ]
    },
    {
      "cell_type": "code",
      "source": [
        "fig, ax = plt.subplots(1, 2, figsize=(10, 10))\n",
        "topic_names = [\"{:>2}\".format(i) + \" \".join(words) for i, words in enumerate(feature_names[sorting[:, :2]])]\n",
        "\n",
        "for col in [0, 1]:\n",
        "  start = col * 50\n",
        "  end = (col + 1) * 50\n",
        "  ax[col].barh(np.arange(50), np.sum(document_topics100, axis=0)[start:end])\n",
        "  ax[col].set_yticks(np.arange(50))\n",
        "  ax[col].set_yticklabels(topic_names[start:end], ha='left', va='top')\n",
        "  ax[col].invert_yaxis()\n",
        "  ax[col].set_xlim(0, 2000)\n",
        "  yax = ax[col].get_yaxis()\n",
        "  yax.set_tick_params(pad=130)\n",
        "\n",
        "plt.tight_layout()\n",
        "plt.show()"
      ],
      "metadata": {
        "colab": {
          "base_uri": "https://localhost:8080/",
          "height": 729
        },
        "id": "NKncov4jRvj9",
        "outputId": "f6c19c73-7965-4838-c893-39f886d68837"
      },
      "id": "NKncov4jRvj9",
      "execution_count": 259,
      "outputs": [
        {
          "output_type": "display_data",
          "data": {
            "text/plain": [
              "<Figure size 720x720 with 2 Axes>"
            ],
            "image/png": "[encoded data removed]"
          },
          "metadata": {
            "needs_background": "light"
          }
        }
      ]
    }
  ],
  "metadata": {
    "kernelspec": {
      "display_name": "Python 3 (ipykernel)",
      "language": "python",
      "name": "python3"
    },
    "language_info": {
      "codemirror_mode": {
        "name": "ipython",
        "version": 3
      },
      "file_extension": ".py",
      "mimetype": "text/x-python",
      "name": "python",
      "nbconvert_exporter": "python",
      "pygments_lexer": "ipython3",
      "version": "3.9.7"
    },
    "colab": {
      "provenance": [],
      "collapsed_sections": []
    },
    "accelerator": "GPU",
    "gpuClass": "standard"
  },
  "nbformat": 4,
  "nbformat_minor": 5
}