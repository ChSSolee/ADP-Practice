{
 "cells": [
  {
   "cell_type": "markdown",
   "metadata": {
    "id": "SbGFWGzkd44U"
   },
   "source": [
    "# 09. 행 축소와 LU 분해"
   ]
  },
  {
   "cell_type": "code",
   "execution_count": 1,
   "metadata": {
    "id": "GVWZlfT-nThD"
   },
   "outputs": [],
   "source": [
    "import numpy as np\n",
    "import matplotlib.pyplot as plt\n",
    "\n",
    "import sympy as sym\n",
    "\n",
    "import scipy.linalg\n",
    "\n",
    "import matplotlib.gridspec as gridspec\n",
    "\n",
    "import matplotlib_inline.backend_inline\n",
    "plt.rcParams.update({'font.size':14}) # set global font size"
   ]
  },
  {
   "cell_type": "markdown",
   "metadata": {
    "id": "gpPMdUOe6uOl"
   },
   "source": [
    "<br>\n",
    "\n",
    "## 09.01. 연립방정식"
   ]
  },
  {
   "cell_type": "markdown",
   "metadata": {},
   "source": [
    "- 두 개의 방정식을 가진 연립방정식\n",
    "\n",
    "$$x = 4-y$$\n",
    "$$y=x/2 + 2$$\n",
    "\n",
    "$$\\downarrow$$\n",
    "\n",
    "$$x+2y = 4-y+(x+4)$$\n",
    "$$y-x = x/2+2-(4-y)$$"
   ]
  },
  {
   "cell_type": "markdown",
   "metadata": {},
   "source": [
    "$$\\downarrow$$\n",
    "\n",
    "$$2y = 8-y$$\n",
    "$$-2/3 x = -2$$\n",
    "\n",
    "$$\\downarrow$$\n",
    "\n",
    "$$x = 4/3,\\;\\;\\;y = 8/3$$"
   ]
  },
  {
   "cell_type": "markdown",
   "metadata": {},
   "source": [
    "<br>\n",
    "\n",
    "### 연립방정식을 행렬로 변환\n",
    "- 상수 (constant) : 변수에 결합되지 않은 숫자 (절편, intercept, 변위, offset)\n",
    "- 계수 : 변수에 결합되는 숫자\n",
    "\n",
    "$$x+y = 4$$\n",
    "$$-x/2 + y =2$$\n",
    "\n",
    "$$\\downarrow$$\n",
    "\n",
    "\n",
    "$$\\begin{bmatrix} 1&1\\\\-1/2&1\\end{bmatrix} \\begin{bmatrix}x\\\\y \\end{bmatrix} = \\begin{bmatrix} 4\\\\2\\end{bmatrix}$$\n",
    "\n",
    "$$\\downarrow$$\n",
    "\n",
    "$$Ax = b$$"
   ]
  },
  {
   "cell_type": "markdown",
   "metadata": {},
   "source": [
    "<br>\n",
    "\n",
    "### 행렬 방정식 다루기\n",
    "- 행렬 곱셈에서 곱하는 방향을 같은 방향으로 맞추어야함\n",
    "\n",
    "$$Ax = b$$\n",
    "$$v + Ax =v + b$$\n",
    "$$(v + Ax)^T = (v+b)^T$$"
   ]
  },
  {
   "cell_type": "markdown",
   "metadata": {
    "id": "9MQHoH3L6w18"
   },
   "source": [
    "<br>\n",
    "\n",
    "## 09.02. 행 축소\n",
    "\n",
    "<br>\n",
    "\n",
    "### 행 축소 (row reduction)\n",
    "- 행에 스칼라 곱셈과 덧셈이라는 두 가지 연산을 반복적으로 적용하는 작업\n",
    "- 하나의 연립방정식 내에서 하나의 방정식을 다른 방저식에 더하는 것과 동일한 원리를 사용\n",
    "- **행 축소의 목표는 밀집 행렬을 상삼각 행렬로 변환하는 것**\n",
    "    - **행 축소의 결과인 상삼각 행렬은 '행렬의 사다리꼴 형태'**\n",
    "- **행 축소 후의 행렬의 모습은, 행 축소 전의 행렬과 다르지만, 두 행렬은 선형 변환으로 연결**\n",
    "    \n",
    "<br>\n",
    "\n",
    "- **특정 행렬과 관련된 사다리꼴 행렬의 개수는 고유하지 않으며 무한함**\n",
    "\n",
    "    $\\rightarrow$ **무한히 가능한 사다리꼴 형태보다 두 가지 형태의 사다리꼴 행렬이 선호**\n",
    "    \n",
    "    **이 두 가지 형태는 몇 가지 제약조건이 추가되어 고유하며, 기약 행 사다리꼴 형태 (reduced row echelon form)과 LU 분해의 U**\n",
    "\n",
    "<br>\n",
    "\n",
    "#### 사다리꼴 형태\n",
    "- **각 행에서 가장 왼쪽에 있는 0이 아닌 숫자 (기준 원소, pivot)**가 위 행의 기준 원소 오른쪽에 있고,\n",
    "\n",
    "    모든 원소가 0인 행은 0이 아닌 원소를 포함한 행 아래에 있음"
   ]
  },
  {
   "cell_type": "markdown",
   "metadata": {},
   "source": [
    "<br>\n",
    "\n",
    "#### 예시)\n",
    "- 첫 번째 행을 두 번째 행에 더해 -1을 제거\n",
    "$$\\begin{bmatrix} 2&3\\\\-2&2\\end{bmatrix} \\rightarrow \\begin{bmatrix} 2&3\\\\0&5\\end{bmatrix}$$"
   ]
  },
  {
   "cell_type": "markdown",
   "metadata": {},
   "source": [
    "- 변형 전과 변형 후는 선형 변환으로 연결"
   ]
  },
  {
   "cell_type": "markdown",
   "metadata": {},
   "source": [
    "$$\\begin{bmatrix} 1&0\\\\1&1\\end{bmatrix} \\begin{bmatrix} 2&3\\\\-2&2\\end{bmatrix} = \\begin{bmatrix} 2&3\\\\0&5\\end{bmatrix}$$\n",
    "\n",
    "$$\\downarrow$$\n",
    "\n",
    "$$L^{-1}A = U$$"
   ]
  },
  {
   "cell_type": "markdown",
   "metadata": {},
   "source": [
    "<br>\n",
    "\n",
    "### 가우스 소거법 (Gaussian elimination)\n",
    "1. **계수 행렬을 상수벡터로 증강**\n",
    "2. **증강된 행렬을 사다리꼴 형태로 축소**\n",
    "2.  **역치환을 사용하여 각 변수를 차례로 품**\n",
    "\n"
   ]
  },
  {
   "cell_type": "markdown",
   "metadata": {},
   "source": [
    "<br>\n",
    "\n",
    "#### 예시\n",
    "- 연립방정식을 행렬 방정식으로 변환"
   ]
  },
  {
   "cell_type": "markdown",
   "metadata": {},
   "source": [
    "$$y=4-y$$\n",
    "$$x = x/2 +2$$\n",
    "\n",
    "$$\\downarrow$$\n",
    "\n",
    "$$\\begin{bmatrix} 1&1\\\\-1/2&1\\end{bmatrix} \\begin{bmatrix}x\\\\y \\end{bmatrix} = \\begin{bmatrix} 4\\\\2\\end{bmatrix}$$\n",
    "\n"
   ]
  },
  {
   "cell_type": "markdown",
   "metadata": {},
   "source": [
    "- 계수 행렬을 상수벡터로 증강"
   ]
  },
  {
   "cell_type": "markdown",
   "metadata": {},
   "source": [
    "$$\\begin{bmatrix} 1&1&4\\\\-1/2&1&2 \\end{bmatrix} $$\n"
   ]
  },
  {
   "cell_type": "markdown",
   "metadata": {},
   "source": [
    "- 증강된 행렬의 행을 축소\n"
   ]
  },
  {
   "cell_type": "markdown",
   "metadata": {},
   "source": [
    "$$\\begin{bmatrix} 1&1&4\\\\-1/2&1&2 \\end{bmatrix} \\rightarrow \\begin{bmatrix} 1&1&4\\\\0&2/3&4 \\end{bmatrix} $$\n"
   ]
  },
  {
   "cell_type": "markdown",
   "metadata": {},
   "source": [
    "- 축소된 증강 행렬을 연립방정식으로 계산\n",
    "\n",
    "$$x+y=4$$\n",
    "$$3/2y = 4$$"
   ]
  },
  {
   "cell_type": "markdown",
   "metadata": {},
   "source": [
    "- $y = 8/3$을 풀고 난 후, 첫 번째 방정식의 $y$에 대입하고 $x$를 계산 = **역치환 (back substitution)**"
   ]
  },
  {
   "cell_type": "markdown",
   "metadata": {},
   "source": [
    "<br>\n",
    "\n",
    "### 가우스-조던 소거법\n",
    "- 사다리꼴 행렬이 완성되면, 각 행을 기준 원소로 나눔\n",
    "    - 가장 왼쪽이 이미 1인 행은 건너 뜀\n",
    "\n",
    "$$\\begin{bmatrix} 1&1&4\\\\0&2/3&4 \\end{bmatrix}$$\n",
    "\n",
    "$$\\downarrow$$\n",
    "\n",
    "$$\\begin{bmatrix} 1&1&4\\\\0&1&8/3 \\end{bmatrix}$$"
   ]
  },
  {
   "cell_type": "markdown",
   "metadata": {},
   "source": [
    "- 각 기준 원소 위의 모든 원소를 제거하기 위해, 행을 위쪽으로 줄여 나감\n",
    "\n",
    "    **즉, 해당 열에 0이 아닌 숫자가 기준 원소뿐인 사다리꼴을 생성 $\\rightarrow$ RREF**\n",
    "    \n",
    "$$\\begin{bmatrix} 1&1&4\\\\0&1&8/3 \\end{bmatrix} \\rightarrow \\begin{bmatrix} 1&0&4/3\\\\0&1&8/3 \\end{bmatrix}$$"
   ]
  },
  {
   "cell_type": "markdown",
   "metadata": {},
   "source": [
    "$$\\downarrow$$\n",
    "\n",
    "$$x = 4/3\\;\\;\\;\\; y=8/3$$"
   ]
  },
  {
   "cell_type": "markdown",
   "metadata": {},
   "source": [
    "<br>\n",
    "\n",
    "#### RREF \n",
    "- **항상 행렬의 왼쪽 상단에 단위 행렬을 부분 행렬로 생성**\n",
    "- **행렬마다 정확히 하나의 RREF만 존재 (고유성)**"
   ]
  },
  {
   "cell_type": "markdown",
   "metadata": {},
   "source": [
    "<br>\n",
    "\n",
    "#### `sympy.Matrix()`"
   ]
  },
  {
   "cell_type": "code",
   "execution_count": 15,
   "metadata": {
    "id": "A6g4eOq81ejx"
   },
   "outputs": [],
   "source": [
    "M = np.array([ [1,1,4],[-1/2,1,2] ])"
   ]
  },
  {
   "cell_type": "code",
   "execution_count": 16,
   "metadata": {
    "id": "Stg-pxfE1emn"
   },
   "outputs": [
    {
     "name": "stdout",
     "output_type": "stream",
     "text": [
      "Matrix([[1.00000000000000, 1.00000000000000, 4.00000000000000], [-0.500000000000000, 1.00000000000000, 2.00000000000000]])\n"
     ]
    }
   ],
   "source": [
    "symMat = sym.Matrix(M)\n",
    "print(symMat)"
   ]
  },
  {
   "cell_type": "code",
   "execution_count": 17,
   "metadata": {},
   "outputs": [
    {
     "data": {
      "text/latex": [
       "$\\displaystyle \\left[\\begin{matrix}1 & 0 & 1.33333333333333\\\\0 & 1 & 2.66666666666667\\end{matrix}\\right]$"
      ],
      "text/plain": [
       "Matrix([\n",
       "[1, 0, 1.33333333333333],\n",
       "[0, 1, 2.66666666666667]])"
      ]
     },
     "execution_count": 17,
     "metadata": {},
     "output_type": "execute_result"
    }
   ],
   "source": [
    "symMat.rref()[0] "
   ]
  },
  {
   "cell_type": "markdown",
   "metadata": {},
   "source": [
    "<br>\n",
    "\n",
    "### 가우스-조던 소거법을 통한 역행렬 계산\n",
    "\n",
    "$$rref([A|I]) \\rightarrow [I|A^{-1}]$$"
   ]
  },
  {
   "cell_type": "markdown",
   "metadata": {},
   "source": [
    "<br>\n",
    "\n",
    "## 09.03. LU분해\n",
    "- **행렬을 두 개의 삼각 행렬의 곱으로 분해**\n",
    "\n",
    "$$A = LU$$\n"
   ]
  },
  {
   "cell_type": "markdown",
   "metadata": {},
   "source": [
    "- 행 축소는 $L^{-1} A = U$로 표현할 수 있으며\n",
    "\n",
    "    $L^{-1}$에는 밀집 행렬 $A$를 상삼각(사다리꼴) 행렬 $U$로 변환하는 행 변환 집합\n",
    "\n",
    "<br>\n",
    "\n",
    "- **LU 분해는 고유하지 않음**\n",
    "    - 무한한 조합의 하삼각 행렬과 상삼각 행려을 곱하여 행렬 $A$를 생성할 수 있음\n",
    "    - **하지만 $L$의 대각선이 1이라는 제약 조건을 추가하면, 최대계수 정방 행렬 $A$에 대해 LU 분해가 고유하다는 것을 보장할 수 있음**"
   ]
  },
  {
   "cell_type": "markdown",
   "metadata": {},
   "source": [
    "<br>\n",
    "\n",
    "#### `scipy.linalg.lu()`"
   ]
  },
  {
   "cell_type": "code",
   "execution_count": 18,
   "metadata": {},
   "outputs": [],
   "source": [
    "A = np.array([ [2,2,4], [1,0,3], [2,1,2] ])"
   ]
  },
  {
   "cell_type": "code",
   "execution_count": 19,
   "metadata": {},
   "outputs": [],
   "source": [
    "_,L,U = scipy.linalg.lu(A)"
   ]
  },
  {
   "cell_type": "code",
   "execution_count": 20,
   "metadata": {
    "id": "0ZotHlkZKrfn"
   },
   "outputs": [
    {
     "name": "stdout",
     "output_type": "stream",
     "text": [
      "L: \n",
      "[[1.  0.  0. ]\n",
      " [0.5 1.  0. ]\n",
      " [1.  1.  1. ]]\n",
      " \n",
      "U: \n",
      "[[ 2.  2.  4.]\n",
      " [ 0. -1.  1.]\n",
      " [ 0.  0. -3.]]\n",
      " \n",
      "A - LU: \n",
      "[[0. 0. 0.]\n",
      " [0. 0. 0.]\n",
      " [0. 0. 0.]]\n"
     ]
    }
   ],
   "source": [
    "print('L: ')\n",
    "print(L), print(' ')\n",
    "\n",
    "print('U: ')\n",
    "print(U), print(' ')\n",
    "\n",
    "print('A - LU: ')\n",
    "print(A - L@U) "
   ]
  },
  {
   "cell_type": "markdown",
   "metadata": {},
   "source": [
    "<br>\n",
    "\n",
    "#### LU 분해를 활용한 행렬식 계산\n",
    "- **행렬식의 두 가지 속성**\n",
    "1. 삼각 행렬의 행렬식은 대각선의 곱\n",
    "2. 행렬 곱셈의 행렬식은 각 행렬식의 곱 $\\;\\;(det(AB)=det(A)det(B))$\n",
    "\n",
    "<br>\n",
    "\n",
    "- **따라서, 행렬식은 $L$의 대각선 곱에 $U$의 대각선 곱을 곱한 값으로 계산**\n",
    "    - **$L$의 대각선이 모두 1이기 때문에, $A$의 행렬식은 단순히 $U$의 대각선의 곱**"
   ]
  },
  {
   "cell_type": "code",
   "execution_count": 41,
   "metadata": {},
   "outputs": [],
   "source": [
    "M = 6\n",
    "A = np.random.randn(M,M)"
   ]
  },
  {
   "cell_type": "code",
   "execution_count": 42,
   "metadata": {},
   "outputs": [],
   "source": [
    "P,L,U = scipy.linalg.lu(A)"
   ]
  },
  {
   "cell_type": "code",
   "execution_count": 44,
   "metadata": {},
   "outputs": [
    {
     "name": "stdout",
     "output_type": "stream",
     "text": [
      "4.209302430840365 4.2093024308403635\n",
      "1.7763568394002505e-15\n"
     ]
    }
   ],
   "source": [
    "detLU = np.prod( np.diag(U) ) * np.linalg.det(P)\n",
    "\n",
    "detNP = np.linalg.det(A)\n",
    "\n",
    "print(detLU, detNP)\n",
    "print(detLU-detNP)"
   ]
  },
  {
   "cell_type": "markdown",
   "metadata": {},
   "source": [
    "<br>\n",
    "\n",
    "#### 계수-3의 $6\\times 8$행렬 LU 분해"
   ]
  },
  {
   "cell_type": "code",
   "execution_count": 37,
   "metadata": {},
   "outputs": [],
   "source": [
    "M = 6\n",
    "N = 8\n",
    "r = 3\n",
    "\n",
    "A = np.random.randn(M,r) @ np.random.randn(r,N)"
   ]
  },
  {
   "cell_type": "code",
   "execution_count": 38,
   "metadata": {},
   "outputs": [],
   "source": [
    "P,L,U = scipy.linalg.lu(A)"
   ]
  },
  {
   "cell_type": "code",
   "execution_count": 39,
   "metadata": {},
   "outputs": [
    {
     "data": {
      "image/png": "[encoded data removed]",
      "text/plain": [
       "<Figure size 1200x700 with 3 Axes>"
      ]
     },
     "metadata": {},
     "output_type": "display_data"
    }
   ],
   "source": [
    "_,axs = plt.subplots(1,3,figsize=(12,7))\n",
    "\n",
    "axs[0].imshow(A,vmin=-1,vmax=1,cmap='gray')\n",
    "axs[0].set_title(f'A, rank={np.linalg.matrix_rank(A)}')\n",
    "\n",
    "axs[1].imshow(L,vmin=-1,vmax=1,cmap='gray')\n",
    "axs[1].set_title(f'L, rank={np.linalg.matrix_rank(L)}')\n",
    "\n",
    "axs[2].imshow(U,vmin=-1,vmax=1,cmap='gray')\n",
    "axs[2].set_title(f'U, rank={np.linalg.matrix_rank(U)}')\n",
    "\n",
    "plt.tight_layout()\n",
    "plt.show()"
   ]
  },
  {
   "cell_type": "markdown",
   "metadata": {},
   "source": [
    "<br>\n",
    "\n",
    "### 치환 행렬을 통한 행 교환\n",
    "- 상삼각 형태로 변환되지 않은 행렬을, 행 교환을 통하여 상삼각 형태를 가질 수 있도록\n",
    "    \n",
    "    **치환 행렬 $P$을 곱함**\n",
    "<br>\n",
    "\n",
    "- 치환 행렬은 직교 행렬 ($P^T = P^{-1}$)\n",
    "    - 임의의 두 열 사이의 내적은 0, 열 자체의 내적은 1"
   ]
  },
  {
   "cell_type": "markdown",
   "metadata": {},
   "source": [
    "<br>\n",
    "\n",
    "$$PA = LU$$\n",
    "\n",
    "$$A = P^T LU$$"
   ]
  },
  {
   "cell_type": "markdown",
   "metadata": {},
   "source": [
    "<br>\n",
    "\n",
    "$$\\begin{bmatrix} 3&2&1\\\\0&0&5\\\\0&7&2 \\end{bmatrix}$$\n",
    "\n",
    "$$\\downarrow$$\n",
    "\n",
    "$$\\begin{bmatrix} 1&0&0\\\\0&0&1\\\\0&1&0 \\end{bmatrix}  \\begin{bmatrix} 3&2&1\\\\0&0&5\\\\0&7&2 \\end{bmatrix} = \\begin{bmatrix} 3&2&1\\\\0&7&2\\\\0&0&5 \\end{bmatrix}$$"
   ]
  },
  {
   "cell_type": "code",
   "execution_count": 34,
   "metadata": {},
   "outputs": [],
   "source": [
    "m = 4\n",
    "n = 6\n",
    "\n",
    "A = np.random.randn(m,n)"
   ]
  },
  {
   "cell_type": "code",
   "execution_count": 35,
   "metadata": {},
   "outputs": [],
   "source": [
    "P,L,U = scipy.linalg.lu(A)"
   ]
  },
  {
   "cell_type": "code",
   "execution_count": 33,
   "metadata": {},
   "outputs": [
    {
     "data": {
      "image/png": "[encoded data removed]",
      "text/plain": [
       "<Figure size 1300x400 with 6 Axes>"
      ]
     },
     "metadata": {},
     "output_type": "display_data"
    }
   ],
   "source": [
    "fig,axs = plt.subplots(1,5,figsize=(13,4))\n",
    "\n",
    "axs[0].imshow(A,vmin=-1,vmax=1)\n",
    "axs[0].set_title('A')\n",
    "\n",
    "axs[1].imshow(np.ones((m,n)),cmap='gray',vmin=-1,vmax=1)\n",
    "axs[1].text(n/2,m/2,'=',ha='center',fontsize=30,fontweight='bold')\n",
    "# axs[1].axis('off')\n",
    "\n",
    "axs[2].imshow(P.T,vmin=-1,vmax=1)\n",
    "axs[2].set_title(r'P$^T$')\n",
    "\n",
    "axs[3].imshow(L,vmin=-1,vmax=1)\n",
    "axs[3].set_title('L')\n",
    "\n",
    "h = axs[4].imshow(U,vmin=-1,vmax=1)\n",
    "axs[4].set_title('U')\n",
    "\n",
    "for a in axs:\n",
    "  a.axis('off')\n",
    "  a.set_xlim([-.5,n-.5])\n",
    "  a.set_ylim([m-.5,-.5])\n",
    "\n",
    "\n",
    "fig.colorbar(h,ax=axs[-1],fraction=.05)\n",
    "plt.tight_layout()\n",
    "plt.show()"
   ]
  },
  {
   "cell_type": "markdown",
   "metadata": {},
   "source": [
    "<br>\n",
    "\n",
    "#### LU 분해를 통한 역행렬\n",
    "\n",
    "$$A = P^T LU$$\n",
    "\n",
    "$$A^{-1} = (P^T LU)^{-1}$$\n",
    "\n",
    "$$A^{-1} = U^{-1} L^{-1} P$$"
   ]
  },
  {
   "cell_type": "code",
   "execution_count": 51,
   "metadata": {},
   "outputs": [],
   "source": [
    "m = 4\n",
    "A = np.random.randn(m,m)"
   ]
  },
  {
   "cell_type": "code",
   "execution_count": 52,
   "metadata": {},
   "outputs": [],
   "source": [
    "P,L,U = scipy.linalg.lu(A)"
   ]
  },
  {
   "cell_type": "code",
   "execution_count": 53,
   "metadata": {},
   "outputs": [
    {
     "data": {
      "text/plain": [
       "array([[ 1., -0., -0.,  0.],\n",
       "       [ 0.,  1., -0.,  0.],\n",
       "       [ 0.,  0.,  1.,  0.],\n",
       "       [-0.,  0.,  0.,  1.]])"
      ]
     },
     "execution_count": 53,
     "metadata": {},
     "output_type": "execute_result"
    }
   ],
   "source": [
    "invViaLU = np.linalg.inv(U) @ np.linalg.inv(L) @ P\n",
    "\n",
    "invViaInv = np.linalg.inv(A)\n",
    "\n",
    "np.round( A@invViaLU ,10)"
   ]
  }
 ],
 "metadata": {
  "colab": {
   "authorship_tag": "ABX9TyPMViqAGFTfl4rudQdwV256",
   "collapsed_sections": [],
   "name": "LA4DS_ch09.ipynb",
   "provenance": []
  },
  "kernelspec": {
   "display_name": "Python 3 (ipykernel)",
   "language": "python",
   "name": "python3"
  },
  "language_info": {
   "codemirror_mode": {
    "name": "ipython",
    "version": 3
   },
   "file_extension": ".py",
   "mimetype": "text/x-python",
   "name": "python",
   "nbconvert_exporter": "python",
   "pygments_lexer": "ipython3",
   "version": "3.9.13"
  }
 },
 "nbformat": 4,
 "nbformat_minor": 1
}
