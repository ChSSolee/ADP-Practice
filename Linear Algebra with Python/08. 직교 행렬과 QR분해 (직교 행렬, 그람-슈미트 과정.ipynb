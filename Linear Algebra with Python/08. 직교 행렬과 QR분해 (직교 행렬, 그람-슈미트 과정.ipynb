{
 "cells": [
  {
   "cell_type": "markdown",
   "metadata": {
    "id": "SbGFWGzkd44U"
   },
   "source": [
    "# 08. 직교 행렬과 QR분해"
   ]
  },
  {
   "cell_type": "code",
   "execution_count": 34,
   "metadata": {
    "id": "GVWZlfT-nThD"
   },
   "outputs": [],
   "source": [
    "import numpy as np\n",
    "import matplotlib.pyplot as plt\n",
    "\n",
    "import matplotlib.gridspec as gridspec\n",
    "\n",
    "import matplotlib_inline.backend_inline\n",
    "plt.rcParams.update({'font.size':14})"
   ]
  },
  {
   "cell_type": "markdown",
   "metadata": {
    "id": "ng1qvfR9nY9y"
   },
   "source": [
    "<br>\n",
    "\n",
    "## 08.01. 직교 행렬\n",
    "\n",
    "<br>\n",
    "\n",
    "### 직교 행렬 (orthogonal matrix)\n",
    "- QR 분해, 고윳값 분해, 특잇값 분해 등에 사용\n",
    "\n",
    "    (Q는 직교 행렬을 나타내는 데 사용)"
   ]
  },
  {
   "cell_type": "markdown",
   "metadata": {},
   "source": [
    "<br>\n",
    "\n",
    "### 직교 행렬의 속성\n",
    "- **모든 행렬 원소에 동일한 회전 각도가 적용된 변환 행렬 (순수 회전 행렬)은 직교 행렬**\n",
    "- **행렬의 행을 서로 바꾸는데 사용되는 치환 행렬은 직교 행렬**\n",
    "\n",
    "<br>\n",
    "\n",
    "#### 직교 열\n",
    "- **행렬의 모든 열은 서로 직교**\n",
    "\n",
    "<br>\n",
    "\n",
    "#### 단위 노름 열\n",
    "- **모든 열은 자기자신과의 내적은 1이지만, 다른 열과의 내적은 0**\n",
    "\n",
    "$$<q_i, q_j> = \\begin{cases}0,\\;\\;if i\\neq j\\\\ 1,\\;\\;if i=j \\end{cases}$$\n",
    "\n",
    "\n",
    "- **행렬의 전치를 곱하면 열들사이의 모든 내적을 구할 수 있기에,** \n",
    "\n",
    "    **$Q^T$의 행은 $Q$의 열과 같고, 행렬 곱셈은 왼쪽 행렬의 모든 행과 오른쪽 행렬의 모든 열 사이의 내적으로 이루어짐**\n",
    "    \n",
    "    **$\\rightarrow$ 따라서, 직교행렬은**\n",
    "    \n",
    "    $$Q^T Q =I$$\n",
    "\n",
    "    **정방 직교행렬은**\n",
    "    \n",
    "    $$Q^TQ = QQ^T = Q^{-1}Q = QQ^{-1} = I$$\n",
    "    \n",
    "    $\\rightarrow$ **즉 직교 행렬은, 역행렬과 전치행렬이 동일한 행렬**\n",
    "\n",
    "<br>\n",
    "\n",
    "- **직교 행렬을 통해 벡터를 회전시킬 수는 있지만, 벡터의 크기를 조정할 수는 없음**\n",
    "\n",
    "$$||v|| = v^T v$$\n",
    "\n",
    "$$||Qv|| = (Qv)^T Qv = v^T Q^T Qv$$\n",
    "\n",
    "- 정방 직교 행렬은 모든 특잇값(및 그 고윳값)이 1\n",
    "    - 유도된 2-노름이 1이고, 프로베니우스 노름이 $M$ (행의 수)"
   ]
  },
  {
   "cell_type": "markdown",
   "metadata": {},
   "source": [
    "<br>\n",
    "\n",
    "- 아래의 두 행렬 모두 직교 행렬"
   ]
  },
  {
   "cell_type": "code",
   "execution_count": 35,
   "metadata": {},
   "outputs": [
    {
     "name": "stdout",
     "output_type": "stream",
     "text": [
      "[[ 0.70710678 -0.70710678]\n",
      " [ 0.70710678  0.70710678]] \n",
      "\n",
      "[[ 0.33333333  0.66666667  0.66666667]\n",
      " [ 0.66666667  0.33333333 -0.66666667]\n",
      " [-0.66666667  0.66666667 -0.33333333]]\n"
     ]
    }
   ],
   "source": [
    "Q1 = np.array([ [1,-1],[1,1] ]) / np.sqrt(2)\n",
    "Q2 = np.array([ [1,2,2],[2,1,-2],[-2,2,-1] ]) / 3\n",
    "\n",
    "print(Q1, '\\n')\n",
    "print(Q2)"
   ]
  },
  {
   "cell_type": "code",
   "execution_count": 36,
   "metadata": {
    "id": "S9Aw-h1hncgn"
   },
   "outputs": [
    {
     "name": "stdout",
     "output_type": "stream",
     "text": [
      "[[1. 0.]\n",
      " [0. 1.]]\n",
      " \n",
      "[[1. 0. 0.]\n",
      " [0. 1. 0.]\n",
      " [0. 0. 1.]]\n"
     ]
    }
   ],
   "source": [
    "print( np.round(Q1.T @ Q1,8) ), print(' ')\n",
    "\n",
    "print( np.round(Q2.T @ Q2,8) )"
   ]
  },
  {
   "cell_type": "markdown",
   "metadata": {},
   "source": [
    "<br>\n",
    "\n",
    "## 08.02. 그람-슈미트 과정 (GS 과정)\n",
    "- 비직교 행렬을 직교 행렬로 변환하는 방법\n",
    "- 학문적으로는 가치가 높지만, 응용 가치는 매우 낮음\n",
    "    \n",
    "    - 작은 숫자로 나눗셈과 곱셈을 많이 수행하면 수치적으로 불안정성이 증가하기 때문\n",
    "    \n",
    "- 하우스홀더 변환 (Householder reflection)같은 정교하고 수치적으로 안정적인 QR 분해 방법도 존재\n",
    "    \n",
    "<br>\n",
    "\n",
    "- **열 $v_1$부터 $v_n$까지로 구성된 행렬 $V$는 아래의 방법에 따라, 열 $q_k$를 갖는 직교 행렬 $Q$로 변환**\n",
    ">\n",
    "> $V$의 모든 열벡터는 첫 번째(가장 왼쪽)부터 시작하여 마지막(가장 오른쪽)까지 차례로 이동\n",
    ">\n",
    "> 1. 직교벡터 분해를 사용하여 $v_k$를 행렬 $Q$의 모든 이전 열과 직교화\n",
    ">\n",
    ">   즉, $q_{k-1}, q_{k-2} \\dots q_1$까지의 모든 열과 수직인 $v_k$의 원소를 계산\n",
    ">\n",
    ">   이렇게 직교화된 벡터는 $v^+_k$\n",
    ">\n",
    ">   (첫 번째 열 벡터는 선행 벡터가 없기 때문에, 직교화가 되지 않으므로 다음 정규화 단계부터 시작)\n",
    ">\n",
    ">\n",
    "> 2. $v^+_k$를 단위 길이로 정규화 $\\rightarrow$ $Q$행렬의 $k$번째 열인 $q_k$가 됨"
   ]
  },
  {
   "cell_type": "markdown",
   "metadata": {},
   "source": [
    "<br>\n",
    "\n",
    "#### 그람-슈미트 과정 구현"
   ]
  },
  {
   "cell_type": "markdown",
   "metadata": {},
   "source": [
    "- $4\\times4$난수 행렬"
   ]
  },
  {
   "cell_type": "code",
   "execution_count": 42,
   "metadata": {},
   "outputs": [],
   "source": [
    "m = 4\n",
    "n = 4\n",
    "A = np.random.randn(m,n)"
   ]
  },
  {
   "cell_type": "code",
   "execution_count": 43,
   "metadata": {},
   "outputs": [],
   "source": [
    "Q = np.zeros((m,n))"
   ]
  },
  {
   "cell_type": "markdown",
   "metadata": {},
   "source": [
    "- GS 과정"
   ]
  },
  {
   "cell_type": "code",
   "execution_count": null,
   "metadata": {},
   "outputs": [],
   "source": [
    "for i in range(n):\n",
    "    \n",
    "    Q[:,i] = A[:,i]\n",
    "    \n",
    "    # 직교화\n",
    "    a = A[:,i] \n",
    "    for j in range(i):\n",
    "        q = Q[:,j] \n",
    "        Q[:,i]=Q[:,i]-np.dot(a,q)/np.dot(q,q)*q\n",
    "    \n",
    "    Q[:,i] = Q[:,i] / np.linalg.norm(Q[:,i])"
   ]
  },
  {
   "cell_type": "markdown",
   "metadata": {},
   "source": [
    "- 파이썬으로 계산된 $Q$와의 비교\n",
    "    - 알고리즘 및 구현의 사소한 차이에 따라 벡터가 뒤집힐 수가 있기에\n",
    "    \n",
    "        한 쪽의 0이 아닌 열이 다른 쪽에서 0이 됨"
   ]
  },
  {
   "cell_type": "code",
   "execution_count": 45,
   "metadata": {},
   "outputs": [],
   "source": [
    "Q2,R = np.linalg.qr(A)"
   ]
  },
  {
   "cell_type": "markdown",
   "metadata": {},
   "source": [
    "- 차이"
   ]
  },
  {
   "cell_type": "code",
   "execution_count": 48,
   "metadata": {
    "scrolled": true
   },
   "outputs": [
    {
     "name": "stdout",
     "output_type": "stream",
     "text": [
      "[[ 0.          0.         -0.          1.22223746]\n",
      " [ 0.          0.         -0.          1.21223216]\n",
      " [ 0.          0.          0.          0.95859281]\n",
      " [ 0.          0.         -0.         -0.34311602]]\n"
     ]
    }
   ],
   "source": [
    "print( np.round( Q-Q2 ,10) )"
   ]
  },
  {
   "cell_type": "markdown",
   "metadata": {},
   "source": [
    "- 합"
   ]
  },
  {
   "cell_type": "code",
   "execution_count": 47,
   "metadata": {},
   "outputs": [
    {
     "name": "stdout",
     "output_type": "stream",
     "text": [
      "[[-1.09469666 -1.04952249  0.45417766  0.        ]\n",
      " [ 1.54943676 -0.29428337 -0.20769255 -0.        ]\n",
      " [-0.61601336  1.35841461 -0.92538485  0.        ]\n",
      " [-0.14633    -0.98316306 -1.70124935  0.        ]]\n"
     ]
    }
   ],
   "source": [
    "print( np.round( Q+Q2 ,10) )"
   ]
  },
  {
   "cell_type": "markdown",
   "metadata": {},
   "source": [
    "<br>\n",
    "\n",
    "## 08.03. QR 분해\n",
    "\n",
    "<br>\n",
    "\n",
    "$$A = QR$$\n",
    "\n",
    "$$Q^T A = Q^T Q R$$\n",
    "\n",
    "$$Q^TA=R$$\n",
    "\n",
    "- GS는 행렬을 직교 행렬 $Q$로 변환\n",
    "- **원래 행렬이 직교 행렬이 아니라고 가정할 때, $Q$는 원래 행렬에 대한 정보가 손실된 행렬**\n",
    "    - **GS는 일련의 선형 변환이기 때문에, 손실된 정보는 $Q$에 곱하는 다른 행렬 $R$에 쉽게 복구해서 저장 가능**\n"
   ]
  },
  {
   "cell_type": "markdown",
   "metadata": {},
   "source": [
    "- **$R$ 행렬은 항상 상삼각 행렬**\n",
    "    - **직교화는 왼쪽에서 오른쪽으로 열 단위로 처리되기 때문에, $Q$의 아래쪽 열은 $A$의 위쪽 열과 직교**\n",
    "    - 따라서 $R$의 하삼각은 직교화된 벡터 쌍으로 이루어짐\n",
    "    \n",
    "        $Q$의 위쪽 열은 $A$의 아래쪽 열과 직교하지 않으므로, 내적이 0이 되지 않음\n",
    "        "
   ]
  },
  {
   "cell_type": "markdown",
   "metadata": {
    "id": "UlONi5SqnclZ"
   },
   "source": [
    "<br>\n",
    "\n",
    "#### `np.linalg.qr()`\n",
    "- `mode` : `complete`면 전체 분해 / `reduced`면 축소 분해 (default)\n",
    "\n",
    "<br>\n",
    "\n",
    "#### QR 분해 계산"
   ]
  },
  {
   "cell_type": "code",
   "execution_count": 37,
   "metadata": {},
   "outputs": [],
   "source": [
    "A = np.random.randn(6,6)\n",
    "\n",
    "Q, R = np.linalg.qr(A)"
   ]
  },
  {
   "cell_type": "code",
   "execution_count": 38,
   "metadata": {
    "id": "XiirvzAbxDIM"
   },
   "outputs": [
    {
     "data": {
      "image/png": "[encoded data removed]",
      "text/plain": [
       "<Figure size 1000x600 with 5 Axes>"
      ]
     },
     "metadata": {},
     "output_type": "display_data"
    }
   ],
   "source": [
    "fig = plt.figure(figsize=(10,6))\n",
    "axs = [0]*5\n",
    "c = 1.5 \n",
    "\n",
    "gs1 = gridspec.GridSpec(2,6)\n",
    "axs[0] = plt.subplot(gs1[0,:2])\n",
    "axs[0].imshow(A,vmin=-c,vmax=c,cmap='gray')\n",
    "axs[0].set_title('A',fontweight='bold')\n",
    "\n",
    "axs[1] = plt.subplot(gs1[0,2:4])\n",
    "axs[1].imshow(Q,vmin=-c,vmax=c,cmap='gray')\n",
    "axs[1].set_title('Q',fontweight='bold')\n",
    "\n",
    "axs[2] = plt.subplot(gs1[0,4:6])\n",
    "axs[2].imshow(R,vmin=-c,vmax=c,cmap='gray')\n",
    "axs[2].set_title('R',fontweight='bold')\n",
    "\n",
    "axs[3] = plt.subplot(gs1[1,1:3])\n",
    "axs[3].imshow(A - Q@R,vmin=-c,vmax=c,cmap='gray')\n",
    "axs[3].set_title('A - QR',fontweight='bold')\n",
    "\n",
    "axs[4] = plt.subplot(gs1[1,3:5])\n",
    "axs[4].imshow(Q.T@Q,cmap='gray')\n",
    "axs[4].set_title(r'Q$^T$Q',fontweight='bold')\n",
    "\n",
    "for a in axs:\n",
    "  a.set_xticks([])\n",
    "  a.set_yticks([])\n",
    "\n",
    "plt.tight_layout()\n",
    "plt.show()"
   ]
  },
  {
   "cell_type": "markdown",
   "metadata": {
    "id": "FijwWkd6xDLW"
   },
   "source": [
    "<br>\n",
    "\n",
    "### $Q$와 $R$의 크기\n",
    "- $Q$와 $R$의 크기는 분해될 행렬 $A$의 크기와 QR 분해가 '경제형'('축소')인지 '완전형'('전체')인지에 따라 달라짐\n",
    "    - **높은 행렬에서 열이 $N$개인 $Q$ 행렬을 생성 = 경제형 (축소)분해 $\\rightarrow$ 높은 $Q$ 행렬**\n",
    "      \n",
    "    - **높은 행렬에서 열이 $M$개인 $Q$ 행렬을 생성 = 완전형 (전체)분해 $\\rightarrow$ 정방 $Q$ 행렬**\n",
    "<br>\n",
    "\n",
    "- $Q$의 계수는 항상 최대한으로 가능한 계수, 따라서\n",
    "    \n",
    "    모든 정방 $Q$ 행렬에서의 계수는 $M$ (행의 개수), 경제형 $Q$에서의 계수는 $N$ (열의 개수)"
   ]
  },
  {
   "cell_type": "markdown",
   "metadata": {},
   "source": [
    "<br>\n",
    "\n",
    "- $4 \\times 14$의 넓은 행렬에 대한 경제 분해"
   ]
  },
  {
   "cell_type": "code",
   "execution_count": 39,
   "metadata": {},
   "outputs": [],
   "source": [
    "M = 4\n",
    "N = 14\n",
    "\n",
    "A = np.random.randn(M,N)"
   ]
  },
  {
   "cell_type": "code",
   "execution_count": 40,
   "metadata": {
    "colab": {
     "base_uri": "https://localhost:8080/"
    },
    "executionInfo": {
     "elapsed": 281,
     "status": "ok",
     "timestamp": 1651655526791,
     "user": {
      "displayName": "Mike X Cohen",
      "userId": "13901636194183843661"
     },
     "user_tz": -60
    },
    "id": "qVYlldRKxDQM",
    "outputId": "6c7eabf9-48b8-4f3e-e8fc-5d30a369ea7b"
   },
   "outputs": [
    {
     "name": "stdout",
     "output_type": "stream",
     "text": [
      "A의 차원: (4, 14)\n",
      "Q의 차원: (4, 4)\n",
      "R의 차원: (4, 14)\n"
     ]
    }
   ],
   "source": [
    "Q, R = np.linalg.qr(A)\n",
    "\n",
    "print(f'A의 차원: {A.shape}')\n",
    "print(f'Q의 차원: {Q.shape}')\n",
    "print(f'R의 차원: {R.shape}')"
   ]
  },
  {
   "cell_type": "markdown",
   "metadata": {},
   "source": [
    "- $2\\times 1$ 높은 행렬에 대한 완전 분해"
   ]
  },
  {
   "cell_type": "code",
   "execution_count": 41,
   "metadata": {
    "id": "1VoFE25FnZAd"
   },
   "outputs": [
    {
     "name": "stdout",
     "output_type": "stream",
     "text": [
      "A의 차원: (2, 1)\n",
      "Q의 차원: (2, 2)\n",
      "R의 차원: (2, 1)\n"
     ]
    }
   ],
   "source": [
    "A = np.array([ [1,-1] ]).T\n",
    "\n",
    "Q, R = np.linalg.qr(A,'complete')\n",
    "print(f'A의 차원: {A.shape}')\n",
    "print(f'Q의 차원: {Q.shape}')\n",
    "print(f'R의 차원: {R.shape}')"
   ]
  },
  {
   "cell_type": "markdown",
   "metadata": {
    "id": "MvATXzy6gxLF"
   },
   "source": [
    "<br>\n",
    "\n",
    "- 직교화로 인한 $Q$와 $A$의 계수 차이는 $A$의 열공간이 $\\mathbb{R}^M$의 저차원 하위 공간일지라도, \n",
    "\n",
    "    $Q$는 $\\mathbb{R}^M$ 전체를 생성한다는 것을 의미\n",
    "\n",
    "<br>\n",
    "\n",
    "- **QR 분해는 모든 행렬의 크기와 계수에 대해 고유하지 않음**\n",
    "\n",
    "    즉, $Q_1 \\neq Q_2$인 $A=Q_1 R_1$과 $A=Q_2 R_2$를 구할 수 있음\n",
    "    \n",
    "    **추가 제약 조건 (예: $R$의 모든 대각선의 값이 양수)이 존재하면, QR 분해를 고유하게 만들 수 있음**"
   ]
  },
  {
   "cell_type": "markdown",
   "metadata": {
    "id": "_zZV-8T16w_j"
   },
   "source": [
    "<br>\n",
    "\n",
    "### QR 분해와 역\n",
    "- **QR 분해를 통하여, 역행렬을 수치적으로 더 안정적으로 계산할 수 있음**\n",
    "\n",
    "$$A = QR$$\n",
    "\n",
    "$$A^{-1} = (QR)^{-1}$$\n",
    "\n",
    "$$A^{-1} = R^{-1}Q^{-1}$$\n",
    "\n",
    "$$Q^{-1} = R^{-1}Q^T$$"
   ]
  },
  {
   "cell_type": "markdown",
   "metadata": {},
   "source": [
    "- **따라서 $A$의 역행렬은 $R$의 역행렬에 $Q$의 전치를 곱하여 구할 수 있음**\n",
    "\n",
    "    **하지만, 특이 행렬에 가까운 행렬은 여전히 역행렬을 구하기 어려움**"
   ]
  },
  {
   "cell_type": "markdown",
   "metadata": {
    "id": "6RwxfkYygwrX"
   },
   "source": [
    "<br>\n",
    "\n",
    "### 직교에 가깝지만 직교가 아닌 행렬에 대한 QR 분해"
   ]
  },
  {
   "cell_type": "markdown",
   "metadata": {},
   "source": [
    "- $6\\times 6$ 난수 행렬의 QR분해로부터, 직교 행렬 $U$ 생성"
   ]
  },
  {
   "cell_type": "code",
   "execution_count": 56,
   "metadata": {
    "id": "VOo3ORO5nZDf"
   },
   "outputs": [],
   "source": [
    "U = np.linalg.qr( np.random.randn(6,6) )[0]"
   ]
  },
  {
   "cell_type": "markdown",
   "metadata": {},
   "source": [
    "- $U$에 대한 QR 분해 $\\rightarrow$ $R=I$임을 확인"
   ]
  },
  {
   "cell_type": "code",
   "execution_count": 57,
   "metadata": {},
   "outputs": [
    {
     "data": {
      "text/plain": [
       "array([[ 1., -0., -0.,  0.,  0.,  0.],\n",
       "       [ 0.,  1.,  0.,  0.,  0., -0.],\n",
       "       [ 0.,  0.,  1., -0., -0.,  0.],\n",
       "       [ 0.,  0.,  0.,  1.,  0.,  0.],\n",
       "       [ 0.,  0.,  0.,  0.,  1.,  0.],\n",
       "       [ 0.,  0.,  0.,  0.,  0.,  1.]])"
      ]
     },
     "execution_count": 57,
     "metadata": {},
     "output_type": "execute_result"
    }
   ],
   "source": [
    "np.round(np.linalg.qr(U)[1], 5)"
   ]
  },
  {
   "cell_type": "markdown",
   "metadata": {},
   "source": [
    "<br>\n",
    "\n",
    "- $U$의 각 열의 노름을 수정\n",
    "    - 1 ~ 6열의 노름을 10에서 15값의 노름으로 설정"
   ]
  },
  {
   "cell_type": "code",
   "execution_count": 58,
   "metadata": {},
   "outputs": [],
   "source": [
    "for i in range(U.shape[0]):\n",
    "  U[:,i] = U[:,i]*(10+i)"
   ]
  },
  {
   "cell_type": "markdown",
   "metadata": {},
   "source": [
    "- $U$에 대한 QR 분해 $\\rightarrow$ $R$은 대각선 원소가 10에서 15인 대각 행렬임을 확인"
   ]
  },
  {
   "cell_type": "code",
   "execution_count": 61,
   "metadata": {},
   "outputs": [
    {
     "data": {
      "text/plain": [
       "array([[10., -0., -0.,  0.,  0.,  0.],\n",
       "       [ 0., 11.,  0., -0.,  0., -0.],\n",
       "       [ 0.,  0., 12., -0., -0., -0.],\n",
       "       [ 0.,  0.,  0., 13.,  0.,  0.],\n",
       "       [ 0.,  0.,  0.,  0., 14.,  0.],\n",
       "       [ 0.,  0.,  0.,  0.,  0., 15.]])"
      ]
     },
     "execution_count": 61,
     "metadata": {},
     "output_type": "execute_result"
    }
   ],
   "source": [
    "np.round(np.linalg.qr(U)[1], 5)"
   ]
  },
  {
   "cell_type": "markdown",
   "metadata": {},
   "source": [
    "<br>\n",
    "\n",
    "- $u_{1, 4}=0$으ㅡ로 설정하여 $U$의 직교성을 깨트림"
   ]
  },
  {
   "cell_type": "code",
   "execution_count": 62,
   "metadata": {
    "id": "VyjtADNlnZGc"
   },
   "outputs": [],
   "source": [
    "U[0,3] = 0 # this is q_{1,4}"
   ]
  },
  {
   "cell_type": "markdown",
   "metadata": {},
   "source": [
    "- $U$에 대한 QR 분해 $\\rightarrow$ $Q=I$이고 $R$은 상삼각 행렬"
   ]
  },
  {
   "cell_type": "code",
   "execution_count": 66,
   "metadata": {},
   "outputs": [
    {
     "name": "stdout",
     "output_type": "stream",
     "text": [
      "[[10.    -0.    -0.    -1.727  0.     0.   ]\n",
      " [ 0.    11.     0.     3.634  0.    -0.   ]\n",
      " [ 0.     0.    12.    -0.835 -0.    -0.   ]\n",
      " [ 0.     0.     0.     7.603 -9.142 -0.753]\n",
      " [ 0.     0.     0.     0.    10.603 -0.649]\n",
      " [ 0.     0.     0.     0.     0.    14.967]]\n"
     ]
    }
   ],
   "source": [
    "q,r = np.linalg.qr(U)\n",
    "\n",
    "print( np.round(r,3) )"
   ]
  },
  {
   "cell_type": "code",
   "execution_count": 65,
   "metadata": {},
   "outputs": [
    {
     "name": "stdout",
     "output_type": "stream",
     "text": [
      "[[ 1.  0. -0. -0. -0. -0.]\n",
      " [ 0.  1.  0.  0.  0.  0.]\n",
      " [-0.  0.  1. -0. -0. -0.]\n",
      " [-0.  0. -0.  1.  0.  0.]\n",
      " [-0.  0. -0.  0.  1. -0.]\n",
      " [-0.  0. -0.  0. -0.  1.]]\n"
     ]
    }
   ],
   "source": [
    "print( np.round(q.T@q,4))"
   ]
  },
  {
   "cell_type": "markdown",
   "metadata": {
    "id": "1qVzJvY8nZI_"
   },
   "source": [
    "<br>\n",
    "\n",
    "### 전통적인 역행렬과, QR분해에 따른 역행렬과의 비교"
   ]
  },
  {
   "cell_type": "markdown",
   "metadata": {},
   "source": [
    "- $5\\times5$ 난수 행렬"
   ]
  },
  {
   "cell_type": "code",
   "execution_count": 103,
   "metadata": {},
   "outputs": [],
   "source": [
    "n = 5\n",
    "A = np.random.randn(n,n)"
   ]
  },
  {
   "cell_type": "markdown",
   "metadata": {},
   "source": [
    "- 전통적인 역행렬"
   ]
  },
  {
   "cell_type": "code",
   "execution_count": 104,
   "metadata": {},
   "outputs": [],
   "source": [
    "Ainv_old = np.linalg.inv(A)\n",
    "AAi_old  = Ainv_old@A"
   ]
  },
  {
   "cell_type": "markdown",
   "metadata": {},
   "source": [
    "- QR 분해에 따른 역행렬"
   ]
  },
  {
   "cell_type": "code",
   "execution_count": 105,
   "metadata": {},
   "outputs": [],
   "source": [
    "Q,R = np.linalg.qr(A)\n",
    "Ainv_qr = np.linalg.inv(R)@Q.T\n",
    "AAi_qr  = Ainv_qr@A"
   ]
  },
  {
   "cell_type": "markdown",
   "metadata": {},
   "source": [
    "- 두 역행렬과, 단위행렬 간의 유클리드 거리 비교"
   ]
  },
  {
   "cell_type": "code",
   "execution_count": 106,
   "metadata": {
    "id": "O39IfYJSCR5A"
   },
   "outputs": [
    {
     "data": {
      "image/png": "[encoded data removed]",
      "text/plain": [
       "<Figure size 600x600 with 1 Axes>"
      ]
     },
     "metadata": {},
     "output_type": "display_data"
    }
   ],
   "source": [
    "trueI = np.eye(n)\n",
    "sse = [0,0] \n",
    "sse[0] = np.sqrt(np.sum((AAi_old-trueI)**2))\n",
    "sse[1] = np.sqrt(np.sum((AAi_qr-trueI )**2))\n",
    "\n",
    "\n",
    "plt.figure(figsize=(6,6))\n",
    "\n",
    "plt.bar(range(2),sse,color=[.7,.7,.7])\n",
    "plt.xticks(range(2),labels=['OldSchool','QR'])\n",
    "plt.ylim([0,np.max(sse)*1.1])\n",
    "plt.ylabel('Eucl. distance to identity')\n",
    "plt.title(f'Inverse error ({n}x{n} matrix)',ha='center')\n",
    "plt.show()"
   ]
  },
  {
   "cell_type": "markdown",
   "metadata": {
    "id": "_KFtpxWBPMNl"
   },
   "source": [
    "- 위 과정을 $5\\times 5$인 경우와, $30\\times 30$인 경우에 각각 100번 반복\n",
    "    $\\rightarrow$ 행렬의 차원이 커질수록, QR분해에 따른 역행렬이 단위 행렬에 더욱더 가까워짐"
   ]
  },
  {
   "cell_type": "code",
   "execution_count": 107,
   "metadata": {
    "id": "mbjithRsCR7x"
   },
   "outputs": [],
   "source": [
    "n = 5\n",
    "\n",
    "numExprs = 100\n",
    "\n",
    "sse = np.zeros((numExprs,2))\n",
    "\n",
    "for expi in range(numExprs):\n",
    "\n",
    "  A = np.random.randn(n,n)\n",
    "\n",
    "  Ainv_old = np.linalg.inv(A)\n",
    "  AAi_old  = Ainv_old@A\n",
    "\n",
    "  Q,R = np.linalg.qr(A)\n",
    "  Ainv_qr = np.linalg.inv(R)@Q.T \n",
    "  AAi_qr  = Ainv_qr@A\n",
    "\n",
    "  trueI = np.eye(n)\n",
    "  sse[expi,0] = np.sqrt(np.sum((AAi_old-trueI)**2))\n",
    "  sse[expi,1] = np.sqrt(np.sum((AAi_qr-trueI )**2))"
   ]
  },
  {
   "cell_type": "code",
   "execution_count": 108,
   "metadata": {},
   "outputs": [
    {
     "data": {
      "image/png": "[encoded data removed]",
      "text/plain": [
       "<Figure size 600x600 with 1 Axes>"
      ]
     },
     "metadata": {},
     "output_type": "display_data"
    }
   ],
   "source": [
    "plt.figure(figsize=(6,6))\n",
    "\n",
    "plt.plot(np.zeros(numExprs),sse[:,0],'ko')\n",
    "plt.plot(np.ones(numExprs),sse[:,1],'ko')\n",
    "plt.bar(range(2),np.mean(sse,axis=0),color=[.7,.7,.7])\n",
    "\n",
    "plt.xticks(range(2),labels=['OldSchool','QR'])\n",
    "plt.ylim([0,np.max(sse)*1.1])\n",
    "plt.ylabel('Eucl. distance to identity')\n",
    "plt.title(f'Inverse error ({n}x{n} matrix)',ha='center')\n",
    "plt.show()"
   ]
  },
  {
   "cell_type": "code",
   "execution_count": 109,
   "metadata": {},
   "outputs": [],
   "source": [
    "n = 30\n",
    "\n",
    "numExprs = 100\n",
    "\n",
    "sse = np.zeros((numExprs,2))\n",
    "\n",
    "for expi in range(numExprs):\n",
    "\n",
    "  A = np.random.randn(n,n)\n",
    "\n",
    "  Ainv_old = np.linalg.inv(A)\n",
    "  AAi_old  = Ainv_old@A\n",
    "\n",
    "  Q,R = np.linalg.qr(A)\n",
    "  Ainv_qr = np.linalg.inv(R)@Q.T \n",
    "  AAi_qr  = Ainv_qr@A\n",
    "\n",
    "  trueI = np.eye(n)\n",
    "  sse[expi,0] = np.sqrt(np.sum((AAi_old-trueI)**2))\n",
    "  sse[expi,1] = np.sqrt(np.sum((AAi_qr-trueI )**2))"
   ]
  },
  {
   "cell_type": "code",
   "execution_count": 110,
   "metadata": {
    "id": "rNNsanBFCSBK"
   },
   "outputs": [
    {
     "data": {
      "image/png": "[encoded data removed]",
      "text/plain": [
       "<Figure size 600x600 with 1 Axes>"
      ]
     },
     "metadata": {},
     "output_type": "display_data"
    }
   ],
   "source": [
    "plt.figure(figsize=(6,6))\n",
    "\n",
    "plt.plot(np.zeros(numExprs),sse[:,0],'ko')\n",
    "plt.plot(np.ones(numExprs),sse[:,1],'ko')\n",
    "plt.bar(range(2),np.mean(sse,axis=0),color=[.7,.7,.7])\n",
    "\n",
    "plt.xticks(range(2),labels=['OldSchool','QR'])\n",
    "plt.ylim([0,np.max(sse)*1.1])\n",
    "plt.ylabel('Eucl. distance to identity')\n",
    "plt.title(f'Inverse error ({n}x{n} matrix)',ha='center')\n",
    "plt.show()"
   ]
  }
 ],
 "metadata": {
  "colab": {
   "authorship_tag": "ABX9TyNJwYt3gWKX2Ggt6ivOaiDi",
   "collapsed_sections": [],
   "name": "LA4DS_ch08.ipynb",
   "provenance": []
  },
  "kernelspec": {
   "display_name": "Python 3 (ipykernel)",
   "language": "python",
   "name": "python3"
  },
  "language_info": {
   "codemirror_mode": {
    "name": "ipython",
    "version": 3
   },
   "file_extension": ".py",
   "mimetype": "text/x-python",
   "name": "python",
   "nbconvert_exporter": "python",
   "pygments_lexer": "ipython3",
   "version": "3.9.13"
  }
 },
 "nbformat": 4,
 "nbformat_minor": 1
}
