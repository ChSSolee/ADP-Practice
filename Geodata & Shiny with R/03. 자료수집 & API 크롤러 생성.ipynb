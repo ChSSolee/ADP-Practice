{
 "cells": [
  {
   "cell_type": "markdown",
   "id": "4f0b21ac",
   "metadata": {},
   "source": [
    "### 크롤링 준비\n",
    "\n",
    "#### 1. 작업 폴더 설정"
   ]
  },
  {
   "cell_type": "markdown",
   "id": "32bdd720",
   "metadata": {},
   "source": [
    "```R\n",
    "install.packages(\"rstudioapi\")   # rstudioapi 설치                         \n",
    "setwd(dirname(rstudioapi::getSourceEditorContext()$path)) # 작업폴더 설정\n",
    "## setwd(\"C:/Users/이찬솔/Documents/Shiny/Data\")\n",
    "getwd()   # 확인\n",
    "```"
   ]
  },
  {
   "cell_type": "markdown",
   "id": "367e1865",
   "metadata": {},
   "source": [
    "#### 2. 수집 대상 지역 설정\n",
    "\n",
    "- 지역코드 : 행안부의 행정표준코드관리시스템(www.code.go.kr) 기준"
   ]
  },
  {
   "cell_type": "code",
   "execution_count": 6,
   "id": "934a0f27",
   "metadata": {},
   "outputs": [
    {
     "ename": "ERROR",
     "evalue": "Error in setwd(paste0(getwd(), \"/Data\")): cannot change working directory\n",
     "output_type": "error",
     "traceback": [
      "Error in setwd(paste0(getwd(), \"/Data\")): cannot change working directory\nTraceback:\n",
      "1. setwd(paste0(getwd(), \"/Data\"))"
     ]
    }
   ],
   "source": [
    "setwd(paste0(getwd(), \"/Data\"))"
   ]
  },
  {
   "cell_type": "code",
   "execution_count": 20,
   "id": "b6e85fbc",
   "metadata": {},
   "outputs": [
    {
     "data": {
      "text/html": [
       "<table class=\"dataframe\">\n",
       "<caption>A data.frame: 6 × 5</caption>\n",
       "<thead>\n",
       "\t<tr><th></th><th scope=col>code</th><th scope=col>sido</th><th scope=col>sigungu</th><th scope=col>addr_1</th><th scope=col>addr_2</th></tr>\n",
       "\t<tr><th></th><th scope=col>&lt;chr&gt;</th><th scope=col>&lt;chr&gt;</th><th scope=col>&lt;chr&gt;</th><th scope=col>&lt;chr&gt;</th><th scope=col>&lt;chr&gt;</th></tr>\n",
       "</thead>\n",
       "<tbody>\n",
       "\t<tr><th scope=row>1</th><td>11110</td><td>서울특별시</td><td>종로구  </td><td>서울_종로  </td><td>서울특별시 종로구  </td></tr>\n",
       "\t<tr><th scope=row>2</th><td>11140</td><td>서울특별시</td><td>중구    </td><td>서울_중구  </td><td>서울특별시 중구    </td></tr>\n",
       "\t<tr><th scope=row>3</th><td>11170</td><td>서울특별시</td><td>용산구  </td><td>서울_용산  </td><td>서울특별시 용산구  </td></tr>\n",
       "\t<tr><th scope=row>4</th><td>11200</td><td>서울특별시</td><td>성동구  </td><td>서울_성동  </td><td>서울특별시 성동구  </td></tr>\n",
       "\t<tr><th scope=row>5</th><td>11215</td><td>서울특별시</td><td>광진구  </td><td>서울_광진  </td><td>서울특별시 광진구  </td></tr>\n",
       "\t<tr><th scope=row>6</th><td>11230</td><td>서울특별시</td><td>동대문구</td><td>서울_동대문</td><td>서울특별시 동대문구</td></tr>\n",
       "</tbody>\n",
       "</table>\n"
      ],
      "text/latex": [
       "A data.frame: 6 × 5\n",
       "\\begin{tabular}{r|lllll}\n",
       "  & code & sido & sigungu & addr\\_1 & addr\\_2\\\\\n",
       "  & <chr> & <chr> & <chr> & <chr> & <chr>\\\\\n",
       "\\hline\n",
       "\t1 & 11110 & 서울특별시 & 종로구   & 서울\\_종로   & 서울특별시 종로구  \\\\\n",
       "\t2 & 11140 & 서울특별시 & 중구     & 서울\\_중구   & 서울특별시 중구    \\\\\n",
       "\t3 & 11170 & 서울특별시 & 용산구   & 서울\\_용산   & 서울특별시 용산구  \\\\\n",
       "\t4 & 11200 & 서울특별시 & 성동구   & 서울\\_성동   & 서울특별시 성동구  \\\\\n",
       "\t5 & 11215 & 서울특별시 & 광진구   & 서울\\_광진   & 서울특별시 광진구  \\\\\n",
       "\t6 & 11230 & 서울특별시 & 동대문구 & 서울\\_동대문 & 서울특별시 동대문구\\\\\n",
       "\\end{tabular}\n"
      ],
      "text/markdown": [
       "\n",
       "A data.frame: 6 × 5\n",
       "\n",
       "| <!--/--> | code &lt;chr&gt; | sido &lt;chr&gt; | sigungu &lt;chr&gt; | addr_1 &lt;chr&gt; | addr_2 &lt;chr&gt; |\n",
       "|---|---|---|---|---|---|\n",
       "| 1 | 11110 | 서울특별시 | 종로구   | 서울_종로   | 서울특별시 종로구   |\n",
       "| 2 | 11140 | 서울특별시 | 중구     | 서울_중구   | 서울특별시 중구     |\n",
       "| 3 | 11170 | 서울특별시 | 용산구   | 서울_용산   | 서울특별시 용산구   |\n",
       "| 4 | 11200 | 서울특별시 | 성동구   | 서울_성동   | 서울특별시 성동구   |\n",
       "| 5 | 11215 | 서울특별시 | 광진구   | 서울_광진   | 서울특별시 광진구   |\n",
       "| 6 | 11230 | 서울특별시 | 동대문구 | 서울_동대문 | 서울특별시 동대문구 |\n",
       "\n"
      ],
      "text/plain": [
       "  code  sido       sigungu  addr_1      addr_2             \n",
       "1 11110 서울특별시 종로구   서울_종로   서울특별시 종로구  \n",
       "2 11140 서울특별시 중구     서울_중구   서울특별시 중구    \n",
       "3 11170 서울특별시 용산구   서울_용산   서울특별시 용산구  \n",
       "4 11200 서울특별시 성동구   서울_성동   서울특별시 성동구  \n",
       "5 11215 서울특별시 광진구   서울_광진   서울특별시 광진구  \n",
       "6 11230 서울특별시 동대문구 서울_동대문 서울특별시 동대문구"
      ]
     },
     "metadata": {},
     "output_type": "display_data"
    }
   ],
   "source": [
    "library(tidyverse)\n",
    "loc <- read.csv(\"./01_code/sigun_code/sigun_code.csv\", fileEncoding=\"UTF-8\")  #  지역코드\n",
    "loc$code <- as.character(loc$code) # 행정구역명 문자 변환\n",
    "loc %>% head"
   ]
  },
  {
   "cell_type": "markdown",
   "id": "1e501165",
   "metadata": {},
   "source": [
    "#### 3. 수집 기간 설정"
   ]
  },
  {
   "cell_type": "code",
   "execution_count": 9,
   "id": "6367ce20",
   "metadata": {},
   "outputs": [
    {
     "data": {
      "text/html": [
       "<style>\n",
       ".list-inline {list-style: none; margin:0; padding: 0}\n",
       ".list-inline>li {display: inline-block}\n",
       ".list-inline>li:not(:last-child)::after {content: \"\\00b7\"; padding: 0 .5ex}\n",
       "</style>\n",
       "<ol class=list-inline><li>'202101'</li><li>'202102'</li><li>'202103'</li></ol>\n"
      ],
      "text/latex": [
       "\\begin{enumerate*}\n",
       "\\item '202101'\n",
       "\\item '202102'\n",
       "\\item '202103'\n",
       "\\end{enumerate*}\n"
      ],
      "text/markdown": [
       "1. '202101'\n",
       "2. '202102'\n",
       "3. '202103'\n",
       "\n",
       "\n"
      ],
      "text/plain": [
       "[1] \"202101\" \"202102\" \"202103\""
      ]
     },
     "metadata": {},
     "output_type": "display_data"
    }
   ],
   "source": [
    "datelist <- seq(from = as.Date(\"2021-01-01\"),\n",
    "                 to = as.Date(\"2021-12-31\"),\n",
    "                 by = '1 month')\n",
    "datelist <- format(datelist, format = '%Y%m')\n",
    "datelist[1:3]"
   ]
  },
  {
   "cell_type": "markdown",
   "id": "d76888cd",
   "metadata": {},
   "source": [
    "#### 4. 인증키 입력"
   ]
  },
  {
   "cell_type": "code",
   "execution_count": 10,
   "id": "44904a27",
   "metadata": {},
   "outputs": [],
   "source": [
    "service_key <- \"%2Bcn9rw%2FlGxu%2F0wJDFFD4weYYvWPMiQuoBlillCf5H%2Fq64%2B7d4wexYt7ik7uIhWiKBHNfr5cDEGNwl41mOvoraw%3D%3D\""
   ]
  },
  {
   "cell_type": "markdown",
   "id": "39333aac",
   "metadata": {},
   "source": [
    "### 요청 목록 생성\n",
    "#### 1. 요청 목록 생성"
   ]
  },
  {
   "cell_type": "code",
   "execution_count": 11,
   "id": "667dee9d",
   "metadata": {},
   "outputs": [],
   "source": [
    "url_list <- list() # 빈 리스트 만들기\n",
    "cnt <- 0           # 반복문의 제어 변수 초깃값 설정"
   ]
  },
  {
   "cell_type": "markdown",
   "id": "0a35f279",
   "metadata": {},
   "source": [
    "#### 2. 요청 목록 채우기"
   ]
  },
  {
   "cell_type": "code",
   "execution_count": 12,
   "id": "51024370",
   "metadata": {},
   "outputs": [
    {
     "data": {
      "text/html": [
       "<style>\n",
       ".list-inline {list-style: none; margin:0; padding: 0}\n",
       ".list-inline>li {display: inline-block}\n",
       ".list-inline>li:not(:last-child)::after {content: \"\\00b7\"; padding: 0 .5ex}\n",
       "</style>\n",
       "<ol class=list-inline><li>'202101'</li><li>'202102'</li><li>'202103'</li><li>'202104'</li><li>'202105'</li><li>'202106'</li></ol>\n"
      ],
      "text/latex": [
       "\\begin{enumerate*}\n",
       "\\item '202101'\n",
       "\\item '202102'\n",
       "\\item '202103'\n",
       "\\item '202104'\n",
       "\\item '202105'\n",
       "\\item '202106'\n",
       "\\end{enumerate*}\n"
      ],
      "text/markdown": [
       "1. '202101'\n",
       "2. '202102'\n",
       "3. '202103'\n",
       "4. '202104'\n",
       "5. '202105'\n",
       "6. '202106'\n",
       "\n",
       "\n"
      ],
      "text/plain": [
       "[1] \"202101\" \"202102\" \"202103\" \"202104\" \"202105\" \"202106\""
      ]
     },
     "metadata": {},
     "output_type": "display_data"
    }
   ],
   "source": [
    "datelist %>% head"
   ]
  },
  {
   "cell_type": "code",
   "execution_count": null,
   "id": "d8758cae",
   "metadata": {},
   "outputs": [],
   "source": [
    "for(i in 1:nrow(loc)){           # 외부반복: 25개 자치구\n",
    "  for(j in 1:length(datelist)){  # 내부반복: 12개월\n",
    "    cnt <- cnt + 1               # 반복누적 카운팅\n",
    "    # 요청 목록 채우기 (25 X 12= 300)\n",
    "    url_list[cnt] <- paste0(\"http://openapi.molit.go.kr:8081/OpenAPI_ToolInstallPackage/service/rest/RTMSOBJSvc/getRTMSDataSvcAptTrade?\",\n",
    "                            \"LAWD_CD=\", loc[i,1],         # 지역코드\n",
    "                            \"&DEAL_YMD=\", datelist[j],    # 수집월\n",
    "                            \"&numOfRows=\", 100,           # 한번에 가져올 최대 자료 수\n",
    "                            \"&serviceKey=\", service_key)  # 인증키\n",
    "  } \n",
    "  Sys.sleep(0.1)   # 0.1초간 멈춤\n",
    "  msg <- paste0(\"[\", i,\"/\",nrow(loc), \"]  \", loc[i,3], \" 의 크롤링 목록이 생성됨 => 총 [\", cnt,\"] 건\") # 알림 메시지\n",
    "  cat(msg, \"\\n\\n\") \n",
    "}"
   ]
  },
  {
   "cell_type": "markdown",
   "id": "d8479ae0",
   "metadata": {},
   "source": [
    "#### 요청 목록 확인"
   ]
  },
  {
   "cell_type": "code",
   "execution_count": 14,
   "id": "cca37247",
   "metadata": {},
   "outputs": [
    {
     "data": {
      "text/html": [
       "<ol>\n",
       "\t<li>'http://openapi.molit.go.kr:8081/OpenAPI_ToolInstallPackage/service/rest/RTMSOBJSvc/getRTMSDataSvcAptTrade?LAWD_CD=11110&amp;DEAL_YMD=202101&amp;numOfRows=100&amp;serviceKey=%2Bcn9rw%2FlGxu%2F0wJDFFD4weYYvWPMiQuoBlillCf5H%2Fq64%2B7d4wexYt7ik7uIhWiKBHNfr5cDEGNwl41mOvoraw%3D%3D'</li>\n",
       "</ol>\n"
      ],
      "text/latex": [
       "\\begin{enumerate}\n",
       "\\item 'http://openapi.molit.go.kr:8081/OpenAPI\\_ToolInstallPackage/service/rest/RTMSOBJSvc/getRTMSDataSvcAptTrade?LAWD\\_CD=11110\\&DEAL\\_YMD=202101\\&numOfRows=100\\&serviceKey=\\%2Bcn9rw\\%2FlGxu\\%2F0wJDFFD4weYYvWPMiQuoBlillCf5H\\%2Fq64\\%2B7d4wexYt7ik7uIhWiKBHNfr5cDEGNwl41mOvoraw\\%3D\\%3D'\n",
       "\\end{enumerate}\n"
      ],
      "text/markdown": [
       "1. 'http://openapi.molit.go.kr:8081/OpenAPI_ToolInstallPackage/service/rest/RTMSOBJSvc/getRTMSDataSvcAptTrade?LAWD_CD=11110&amp;DEAL_YMD=202101&amp;numOfRows=100&amp;serviceKey=%2Bcn9rw%2FlGxu%2F0wJDFFD4weYYvWPMiQuoBlillCf5H%2Fq64%2B7d4wexYt7ik7uIhWiKBHNfr5cDEGNwl41mOvoraw%3D%3D'\n",
       "\n",
       "\n"
      ],
      "text/plain": [
       "[[1]]\n",
       "[1] \"http://openapi.molit.go.kr:8081/OpenAPI_ToolInstallPackage/service/rest/RTMSOBJSvc/getRTMSDataSvcAptTrade?LAWD_CD=11110&DEAL_YMD=202101&numOfRows=100&serviceKey=%2Bcn9rw%2FlGxu%2F0wJDFFD4weYYvWPMiQuoBlillCf5H%2Fq64%2B7d4wexYt7ik7uIhWiKBHNfr5cDEGNwl41mOvoraw%3D%3D\"\n"
      ]
     },
     "metadata": {},
     "output_type": "display_data"
    }
   ],
   "source": [
    "url_list[1]"
   ]
  },
  {
   "cell_type": "code",
   "execution_count": 15,
   "id": "339864d7",
   "metadata": {},
   "outputs": [
    {
     "data": {
      "text/html": [
       "300"
      ],
      "text/latex": [
       "300"
      ],
      "text/markdown": [
       "300"
      ],
      "text/plain": [
       "[1] 300"
      ]
     },
     "metadata": {},
     "output_type": "display_data"
    }
   ],
   "source": [
    "length(url_list)                # 요청목록 갯수 확인\n",
    "browseURL(paste0(url_list[1]))  # 정상작동 확인(웹브라우저 실행)"
   ]
  },
  {
   "cell_type": "markdown",
   "id": "c901882b",
   "metadata": {},
   "source": [
    "- 브라우저의 ```<resultMsg>``` 태그에 \"NORMAL SERVICE\"라고 나오면 정상 동작 \n",
    "- 만약 다른 메시지가 나오고 아래쪽에 데이터가 비어 있다면 공공데이터포털에서 제공하는 기술문서에서 'OPEN API 에러 코드별 조치 방안'참조"
   ]
  },
  {
   "cell_type": "markdown",
   "id": "25f0f744",
   "metadata": {},
   "source": [
    "### 크롤러 제작\n",
    "#### 1. 임시 저장 리스트 생성"
   ]
  },
  {
   "cell_type": "code",
   "execution_count": 17,
   "id": "00e7bbe5",
   "metadata": {},
   "outputs": [],
   "source": [
    "library(XML)        \n",
    "library(data.table) \n",
    "library(stringr)    "
   ]
  },
  {
   "cell_type": "markdown",
   "id": "c9413901",
   "metadata": {},
   "source": [
    "### ```dir.create(\"폴더\")``` : 폴더 생성"
   ]
  },
  {
   "cell_type": "code",
   "execution_count": 18,
   "id": "f6b39713",
   "metadata": {},
   "outputs": [],
   "source": [
    "raw_data <- list()        # xml 임시 저장소\n",
    "root_Node <- list()       # 거래내역 추출 임시 저장소\n",
    "total <- list()           # 거래내역 정리 임시 저장소\n",
    "dir.create(\"02_raw_data\") "
   ]
  },
  {
   "cell_type": "markdown",
   "id": "d4fe5ca5",
   "metadata": {},
   "source": [
    "#### 2. 자료 요청하고 응답 받기"
   ]
  },
  {
   "cell_type": "code",
   "execution_count": null,
   "id": "7f5daeda",
   "metadata": {},
   "outputs": [],
   "source": [
    "#---# [2단계: URL 요청 - XML 응답]\n",
    "\n",
    "for(i in 1:length(url_list)){   # 요청목록(url_list) 반복\n",
    "  raw_data[[i]] <- xmlTreeParse(url_list[i], useInternalNodes = TRUE, encoding = \"UTF-8\") # 결과 저장\n",
    "  root_Node[[i]] <- xmlRoot(raw_data[[i]]) # xmlRoot로 추출\n",
    "  \n",
    "#---# [3단계: 전체 거래 건수 확인]\n",
    "  \n",
    "  items <- root_Node[[i]][[2]][['items']]  # 전체 거래내역(items) 추출\n",
    "  size <- xmlSize(items)                   # 전체 거래 건수 확인    \n",
    "\n",
    "#---# [4단계: 거래 내역 추출]\n",
    "  \n",
    "  item <- list()  # 전체 거래내역(items) 저장 임시 리스트 생성\n",
    "  item_temp_dt <- data.table()  # 세부 거래내역(item) 저장 임시 테이블 생성\n",
    "  Sys.sleep(.1)  # 0.1초 멈춤\n",
    "    \n",
    "  for(m in 1:size){  # 전체 거래건수(size)만큼 반복\n",
    "      \n",
    "    #---# 세부 거래내역 분리   \n",
    "    item_temp <- xmlSApply(items[[m]],xmlValue)\n",
    "    item_temp_dt <- data.table(year = item_temp[4],     # 거래 년 \n",
    "                               month = item_temp[7],    # 거래 월\n",
    "                               day = item_temp[8],      # 거래 일\n",
    "                               price = item_temp[1],    # 거래금액\n",
    "                               code = item_temp[12],    # 지역코드\n",
    "                               dong_nm = item_temp[5],  # 법정동\n",
    "                               jibun = item_temp[11],   # 지번\n",
    "                               con_year = item_temp[3], # 건축연도 \n",
    "                               apt_nm = item_temp[6],   # 아파트 이름   \n",
    "                               area = item_temp[9],     # 전용면적\n",
    "                               floor = item_temp[13])   # 층수 \n",
    "    item[[m]] <- item_temp_dt}    # 분리된 거래내역 순서대로 저장\n",
    "  apt_bind <- rbindlist(item)     # 통합 저장\n",
    "\n",
    "#---# [5단계: 응답 내역 저장]\n",
    "  \n",
    "  region_nm <- subset(loc, code == str_sub(url_list[i],115, 119))$addr_1 # 지역명 추출\n",
    "  month <- str_sub(url_list[i],130, 135)   # 연월(YYYYMM) 추출\n",
    "  path <- as.character(paste0(\"./02_raw_data/\", region_nm, \"_\", month,\".csv\")) # 저장위치 설정\n",
    "  write.csv(apt_bind, path)     # csv 저장\n",
    "  msg <- paste0(\"[\", i,\"/\",length(url_list), \"] 수집한 데이터를 [\", path,\"]에 저장 합니다.\") # 알림 메시지\n",
    "  cat(msg, \"\\n\\n\")\n",
    "}   "
   ]
  },
  {
   "cell_type": "markdown",
   "id": "46317d8a",
   "metadata": {},
   "source": [
    "# \n",
    "\n",
    "## ```XML```"
   ]
  },
  {
   "cell_type": "code",
   "execution_count": 21,
   "id": "a0ca073d",
   "metadata": {},
   "outputs": [],
   "source": [
    "URL <- \"https://d396qusza40orc.cloudfront.net/getdata%2Fdata%2Frestaurants.xml\""
   ]
  },
  {
   "cell_type": "markdown",
   "id": "e37dc9ab",
   "metadata": {},
   "source": [
    "### ```XML::xmlTreeParse()``` : URL을 XML로 저장\n",
    "### ```XML::xmlRoot()``` : XML의 루트 노드만 추출\n",
    "### ```XML::xmlSize()``` : XML의 크기"
   ]
  },
  {
   "cell_type": "code",
   "execution_count": 31,
   "id": "9f3efbbb",
   "metadata": {},
   "outputs": [],
   "source": [
    "file <- xmlTreeParse(sub(\"s\", \"\", URL), useInternal = T)"
   ]
  },
  {
   "cell_type": "markdown",
   "id": "7b6776a9",
   "metadata": {},
   "source": [
    "### ```XML::xmlToDataFrame()``` : 저장된 XML을 데이터프레임으로 변환"
   ]
  },
  {
   "cell_type": "code",
   "execution_count": 23,
   "id": "e38cfeb4",
   "metadata": {},
   "outputs": [
    {
     "data": {
      "text/html": [
       "<table class=\"dataframe\">\n",
       "<caption>A data.frame: 1 × 1327</caption>\n",
       "<thead>\n",
       "\t<tr><th scope=col>row</th><th scope=col>NA</th><th scope=col>NA.1</th><th scope=col>NA.2</th><th scope=col>NA.3</th><th scope=col>NA.4</th><th scope=col>NA.5</th><th scope=col>NA.6</th><th scope=col>NA.7</th><th scope=col>NA.8</th><th scope=col>...</th><th scope=col>NA</th><th scope=col>NA.1</th><th scope=col>NA.2</th><th scope=col>NA.3</th><th scope=col>NA.4</th><th scope=col>NA.5</th><th scope=col>NA.6</th><th scope=col>NA.7</th><th scope=col>NA.8</th><th scope=col>NA.9</th></tr>\n",
       "\t<tr><th scope=col>&lt;chr&gt;</th><th scope=col>&lt;chr&gt;</th><th scope=col>&lt;chr&gt;</th><th scope=col>&lt;chr&gt;</th><th scope=col>&lt;chr&gt;</th><th scope=col>&lt;chr&gt;</th><th scope=col>&lt;chr&gt;</th><th scope=col>&lt;chr&gt;</th><th scope=col>&lt;chr&gt;</th><th scope=col>&lt;chr&gt;</th><th scope=col>...</th><th scope=col>&lt;chr&gt;</th><th scope=col>&lt;chr&gt;</th><th scope=col>&lt;chr&gt;</th><th scope=col>&lt;chr&gt;</th><th scope=col>&lt;chr&gt;</th><th scope=col>&lt;chr&gt;</th><th scope=col>&lt;chr&gt;</th><th scope=col>&lt;chr&gt;</th><th scope=col>&lt;chr&gt;</th><th scope=col>&lt;chr&gt;</th></tr>\n",
       "</thead>\n",
       "<tbody>\n",
       "\t<tr><td>41021206Frankford2NORTHEASTERN</td><td>191921231Fells Point1SOUTHEASTERN</td><td>SAUTE21224Canton1SOUTHEASTERN</td><td>#1 CHINESE KITCHEN21211Hampden14NORTHERN</td><td>#1 chinese restaurant21223Millhill9SOUTHWESTERN</td><td>19TH HOLE21218Clifton Park14NORTHEASTERN</td><td>3 KINGS21205McElderry Park13SOUTHEASTERN</td><td>3 MILES HOUSE, INC.21211Remington7NORTHERN</td><td>3 W'S TAVERN21205McElderry Park13SOUTHEASTERN</td><td>300 SOUTH ANN STREET21231Upper Fells Point1SOUTHEASTERN</td><td>...</td><td>YELLOW DOG TAVERN21224Canton1SOUTHEASTERN</td><td>YETI RESTAURANT &amp; CARRYOUT21212Rosebank4NORTHERN</td><td>YORK CLUB TAVERN21212Homeland4NORTHERN</td><td>YOUNG'S PLACE21231Middle East13SOUTHEASTERN</td><td>ZEEBA LOUNGE21230Federal Hill10SOUTHERN</td><td>ZEN WEST ROADSIDE CANTINA21212Rosebank4NORTHERN</td><td>ZIASCOS21231Washington Hill1SOUTHEASTERN</td><td>ZINK'S CAF혨21213Belair-Edison13NORTHEASTERN</td><td>ZISSIMOS BAR21211Hampden7NORTHERN</td><td>ZORBAS21224Greektown2SOUTHEASTERN</td></tr>\n",
       "</tbody>\n",
       "</table>\n"
      ],
      "text/latex": [
       "A data.frame: 1 × 1327\n",
       "\\begin{tabular}{lllllllllllllllllllll}\n",
       " row & NA & NA.1 & NA.2 & NA.3 & NA.4 & NA.5 & NA.6 & NA.7 & NA.8 & ... & NA & NA.1 & NA.2 & NA.3 & NA.4 & NA.5 & NA.6 & NA.7 & NA.8 & NA.9\\\\\n",
       " <chr> & <chr> & <chr> & <chr> & <chr> & <chr> & <chr> & <chr> & <chr> & <chr> & ... & <chr> & <chr> & <chr> & <chr> & <chr> & <chr> & <chr> & <chr> & <chr> & <chr>\\\\\n",
       "\\hline\n",
       "\t 41021206Frankford2NORTHEASTERN & 191921231Fells Point1SOUTHEASTERN & SAUTE21224Canton1SOUTHEASTERN & \\#1 CHINESE KITCHEN21211Hampden14NORTHERN & \\#1 chinese restaurant21223Millhill9SOUTHWESTERN & 19TH HOLE21218Clifton Park14NORTHEASTERN & 3 KINGS21205McElderry Park13SOUTHEASTERN & 3 MILES HOUSE, INC.21211Remington7NORTHERN & 3 W'S TAVERN21205McElderry Park13SOUTHEASTERN & 300 SOUTH ANN STREET21231Upper Fells Point1SOUTHEASTERN & ... & YELLOW DOG TAVERN21224Canton1SOUTHEASTERN & YETI RESTAURANT \\& CARRYOUT21212Rosebank4NORTHERN & YORK CLUB TAVERN21212Homeland4NORTHERN & YOUNG'S PLACE21231Middle East13SOUTHEASTERN & ZEEBA LOUNGE21230Federal Hill10SOUTHERN & ZEN WEST ROADSIDE CANTINA21212Rosebank4NORTHERN & ZIASCOS21231Washington Hill1SOUTHEASTERN & ZINK'S CAF혨21213Belair-Edison13NORTHEASTERN & ZISSIMOS BAR21211Hampden7NORTHERN & ZORBAS21224Greektown2SOUTHEASTERN\\\\\n",
       "\\end{tabular}\n"
      ],
      "text/markdown": [
       "\n",
       "A data.frame: 1 × 1327\n",
       "\n",
       "| row &lt;chr&gt; | NA &lt;chr&gt; | NA.1 &lt;chr&gt; | NA.2 &lt;chr&gt; | NA.3 &lt;chr&gt; | NA.4 &lt;chr&gt; | NA.5 &lt;chr&gt; | NA.6 &lt;chr&gt; | NA.7 &lt;chr&gt; | NA.8 &lt;chr&gt; | ... ... | NA &lt;chr&gt; | NA.1 &lt;chr&gt; | NA.2 &lt;chr&gt; | NA.3 &lt;chr&gt; | NA.4 &lt;chr&gt; | NA.5 &lt;chr&gt; | NA.6 &lt;chr&gt; | NA.7 &lt;chr&gt; | NA.8 &lt;chr&gt; | NA.9 &lt;chr&gt; |\n",
       "|---|---|---|---|---|---|---|---|---|---|---|---|---|---|---|---|---|---|---|---|---|\n",
       "| 41021206Frankford2NORTHEASTERN | 191921231Fells Point1SOUTHEASTERN | SAUTE21224Canton1SOUTHEASTERN | #1 CHINESE KITCHEN21211Hampden14NORTHERN | #1 chinese restaurant21223Millhill9SOUTHWESTERN | 19TH HOLE21218Clifton Park14NORTHEASTERN | 3 KINGS21205McElderry Park13SOUTHEASTERN | 3 MILES HOUSE, INC.21211Remington7NORTHERN | 3 W'S TAVERN21205McElderry Park13SOUTHEASTERN | 300 SOUTH ANN STREET21231Upper Fells Point1SOUTHEASTERN | ... | YELLOW DOG TAVERN21224Canton1SOUTHEASTERN | YETI RESTAURANT &amp; CARRYOUT21212Rosebank4NORTHERN | YORK CLUB TAVERN21212Homeland4NORTHERN | YOUNG'S PLACE21231Middle East13SOUTHEASTERN | ZEEBA LOUNGE21230Federal Hill10SOUTHERN | ZEN WEST ROADSIDE CANTINA21212Rosebank4NORTHERN | ZIASCOS21231Washington Hill1SOUTHEASTERN | ZINK'S CAF혨21213Belair-Edison13NORTHEASTERN | ZISSIMOS BAR21211Hampden7NORTHERN | ZORBAS21224Greektown2SOUTHEASTERN |\n",
       "\n"
      ],
      "text/plain": [
       "  row                            <NA>                             \n",
       "1 41021206Frankford2NORTHEASTERN 191921231Fells Point1SOUTHEASTERN\n",
       "  NA.1                          NA.2                                    \n",
       "1 SAUTE21224Canton1SOUTHEASTERN #1 CHINESE KITCHEN21211Hampden14NORTHERN\n",
       "  NA.3                                           \n",
       "1 #1 chinese restaurant21223Millhill9SOUTHWESTERN\n",
       "  NA.4                                    \n",
       "1 19TH HOLE21218Clifton Park14NORTHEASTERN\n",
       "  NA.5                                    \n",
       "1 3 KINGS21205McElderry Park13SOUTHEASTERN\n",
       "  NA.6                                      \n",
       "1 3 MILES HOUSE, INC.21211Remington7NORTHERN\n",
       "  NA.7                                         \n",
       "1 3 W'S TAVERN21205McElderry Park13SOUTHEASTERN\n",
       "  NA.8                                                    ...\n",
       "1 300 SOUTH ANN STREET21231Upper Fells Point1SOUTHEASTERN ...\n",
       "  <NA>                                     \n",
       "1 YELLOW DOG TAVERN21224Canton1SOUTHEASTERN\n",
       "  NA.1                                            \n",
       "1 YETI RESTAURANT & CARRYOUT21212Rosebank4NORTHERN\n",
       "  NA.2                                  \n",
       "1 YORK CLUB TAVERN21212Homeland4NORTHERN\n",
       "  NA.3                                       \n",
       "1 YOUNG'S PLACE21231Middle East13SOUTHEASTERN\n",
       "  NA.4                                   \n",
       "1 ZEEBA LOUNGE21230Federal Hill10SOUTHERN\n",
       "  NA.5                                           \n",
       "1 ZEN WEST ROADSIDE CANTINA21212Rosebank4NORTHERN\n",
       "  NA.6                                    \n",
       "1 ZIASCOS21231Washington Hill1SOUTHEASTERN\n",
       "  NA.7                                        \n",
       "1 ZINK'S CAF혨21213Belair-Edison13NORTHEASTERN\n",
       "  NA.8                              NA.9                             \n",
       "1 ZISSIMOS BAR21211Hampden7NORTHERN ZORBAS21224Greektown2SOUTHEASTERN"
      ]
     },
     "metadata": {},
     "output_type": "display_data"
    }
   ],
   "source": [
    "(file <- xmlToDataFrame(file))"
   ]
  },
  {
   "cell_type": "code",
   "execution_count": 24,
   "id": "0177bf44",
   "metadata": {
    "scrolled": true
   },
   "outputs": [
    {
     "data": {
      "text/html": [
       "<table class=\"dataframe\">\n",
       "<caption>A data.frame: 6 × 1</caption>\n",
       "<thead>\n",
       "\t<tr><th></th><th scope=col>V1</th></tr>\n",
       "\t<tr><th></th><th scope=col>&lt;chr&gt;</th></tr>\n",
       "</thead>\n",
       "<tbody>\n",
       "\t<tr><th scope=row>row</th><td>41021206Frankford2NORTHEASTERN                 </td></tr>\n",
       "\t<tr><th scope=row>NA.</th><td>191921231Fells Point1SOUTHEASTERN              </td></tr>\n",
       "\t<tr><th scope=row>NA..1</th><td>SAUTE21224Canton1SOUTHEASTERN                  </td></tr>\n",
       "\t<tr><th scope=row>NA..2</th><td>#1 CHINESE KITCHEN21211Hampden14NORTHERN       </td></tr>\n",
       "\t<tr><th scope=row>NA..3</th><td>#1 chinese restaurant21223Millhill9SOUTHWESTERN</td></tr>\n",
       "\t<tr><th scope=row>NA..4</th><td>19TH HOLE21218Clifton Park14NORTHEASTERN       </td></tr>\n",
       "</tbody>\n",
       "</table>\n"
      ],
      "text/latex": [
       "A data.frame: 6 × 1\n",
       "\\begin{tabular}{r|l}\n",
       "  & V1\\\\\n",
       "  & <chr>\\\\\n",
       "\\hline\n",
       "\trow & 41021206Frankford2NORTHEASTERN                 \\\\\n",
       "\tNA. & 191921231Fells Point1SOUTHEASTERN              \\\\\n",
       "\tNA..1 & SAUTE21224Canton1SOUTHEASTERN                  \\\\\n",
       "\tNA..2 & \\#1 CHINESE KITCHEN21211Hampden14NORTHERN       \\\\\n",
       "\tNA..3 & \\#1 chinese restaurant21223Millhill9SOUTHWESTERN\\\\\n",
       "\tNA..4 & 19TH HOLE21218Clifton Park14NORTHEASTERN       \\\\\n",
       "\\end{tabular}\n"
      ],
      "text/markdown": [
       "\n",
       "A data.frame: 6 × 1\n",
       "\n",
       "| <!--/--> | V1 &lt;chr&gt; |\n",
       "|---|---|\n",
       "| row | 41021206Frankford2NORTHEASTERN                  |\n",
       "| NA. | 191921231Fells Point1SOUTHEASTERN               |\n",
       "| NA..1 | SAUTE21224Canton1SOUTHEASTERN                   |\n",
       "| NA..2 | #1 CHINESE KITCHEN21211Hampden14NORTHERN        |\n",
       "| NA..3 | #1 chinese restaurant21223Millhill9SOUTHWESTERN |\n",
       "| NA..4 | 19TH HOLE21218Clifton Park14NORTHEASTERN        |\n",
       "\n"
      ],
      "text/plain": [
       "      V1                                             \n",
       "row   41021206Frankford2NORTHEASTERN                 \n",
       "NA.   191921231Fells Point1SOUTHEASTERN              \n",
       "NA..1 SAUTE21224Canton1SOUTHEASTERN                  \n",
       "NA..2 #1 CHINESE KITCHEN21211Hampden14NORTHERN       \n",
       "NA..3 #1 chinese restaurant21223Millhill9SOUTHWESTERN\n",
       "NA..4 19TH HOLE21218Clifton Park14NORTHEASTERN       "
      ]
     },
     "metadata": {},
     "output_type": "display_data"
    }
   ],
   "source": [
    "file <- as.data.frame(t(file))\n",
    "file %>% head"
   ]
  },
  {
   "cell_type": "markdown",
   "id": "6f6c33de",
   "metadata": {},
   "source": [
    "### ```xmlSApply(rootNode,xmlValue)``` : XML 모든 엘리먼트에 대해 루프를 돌면서 해당 엘리멘트가 가지고 있는 값들을 추출한다."
   ]
  },
  {
   "cell_type": "markdown",
   "id": "458e520a",
   "metadata": {},
   "source": [
    "### 복수의 리스트를 데이터 프레임으로 변환\n",
    "#### ```data.table::rbindlist()```\n",
    "#### ```plyr::ldply()```"
   ]
  },
  {
   "cell_type": "markdown",
   "id": "90ddc76c",
   "metadata": {},
   "source": [
    "## \n",
    "### 자료정리 : 자료 통합"
   ]
  },
  {
   "cell_type": "markdown",
   "id": "2931c1a1",
   "metadata": {},
   "source": [
    "- 02_raw_data 폴더에 있는 파일 목록"
   ]
  },
  {
   "cell_type": "code",
   "execution_count": 28,
   "id": "ef1be0aa",
   "metadata": {},
   "outputs": [
    {
     "data": {
      "text/html": [
       "<style>\n",
       ".list-inline {list-style: none; margin:0; padding: 0}\n",
       ".list-inline>li {display: inline-block}\n",
       ".list-inline>li:not(:last-child)::after {content: \"\\00b7\"; padding: 0 .5ex}\n",
       "</style>\n",
       "<ol class=list-inline><li>'서울_강남_202101.csv'</li><li>'서울_강남_202102.csv'</li><li>'서울_강남_202103.csv'</li><li>'서울_강남_202104.csv'</li><li>'서울_강남_202105.csv'</li><li>'서울_강남_202106.csv'</li></ol>\n"
      ],
      "text/latex": [
       "\\begin{enumerate*}\n",
       "\\item '서울\\_강남\\_202101.csv'\n",
       "\\item '서울\\_강남\\_202102.csv'\n",
       "\\item '서울\\_강남\\_202103.csv'\n",
       "\\item '서울\\_강남\\_202104.csv'\n",
       "\\item '서울\\_강남\\_202105.csv'\n",
       "\\item '서울\\_강남\\_202106.csv'\n",
       "\\end{enumerate*}\n"
      ],
      "text/markdown": [
       "1. '서울_강남_202101.csv'\n",
       "2. '서울_강남_202102.csv'\n",
       "3. '서울_강남_202103.csv'\n",
       "4. '서울_강남_202104.csv'\n",
       "5. '서울_강남_202105.csv'\n",
       "6. '서울_강남_202106.csv'\n",
       "\n",
       "\n"
      ],
      "text/plain": [
       "[1] \"서울_강남_202101.csv\" \"서울_강남_202102.csv\" \"서울_강남_202103.csv\"\n",
       "[4] \"서울_강남_202104.csv\" \"서울_강남_202105.csv\" \"서울_강남_202106.csv\""
      ]
     },
     "metadata": {},
     "output_type": "display_data"
    }
   ],
   "source": [
    "files <- dir(\"./02_raw_data\")    \n",
    "files %>% head"
   ]
  },
  {
   "cell_type": "markdown",
   "id": "22bb8406",
   "metadata": {},
   "source": [
    "- 통합된 자료를 저장할 03_integrated 폴더 생성"
   ]
  },
  {
   "cell_type": "code",
   "execution_count": 37,
   "id": "6b7cb770",
   "metadata": {
    "scrolled": true
   },
   "outputs": [
    {
     "data": {
      "text/html": [
       "<table class=\"dataframe\">\n",
       "<caption>A data.frame: 6 × 12</caption>\n",
       "<thead>\n",
       "\t<tr><th></th><th scope=col>X</th><th scope=col>year</th><th scope=col>month</th><th scope=col>day</th><th scope=col>price</th><th scope=col>code</th><th scope=col>dong_nm</th><th scope=col>jibun</th><th scope=col>con_year</th><th scope=col>apt_nm</th><th scope=col>area</th><th scope=col>floor</th></tr>\n",
       "\t<tr><th></th><th scope=col>&lt;int&gt;</th><th scope=col>&lt;int&gt;</th><th scope=col>&lt;int&gt;</th><th scope=col>&lt;int&gt;</th><th scope=col>&lt;chr&gt;</th><th scope=col>&lt;int&gt;</th><th scope=col>&lt;chr&gt;</th><th scope=col>&lt;chr&gt;</th><th scope=col>&lt;int&gt;</th><th scope=col>&lt;chr&gt;</th><th scope=col>&lt;dbl&gt;</th><th scope=col>&lt;chr&gt;</th></tr>\n",
       "</thead>\n",
       "<tbody>\n",
       "\t<tr><th scope=row>1</th><td>1</td><td>2021</td><td>1</td><td> 5</td><td>      31,000</td><td>11680</td><td> 역삼동</td><td>720-25</td><td>2002</td><td>대우디오빌    </td><td>30.03</td><td>4 </td></tr>\n",
       "\t<tr><th scope=row>2</th><td>2</td><td>2021</td><td>1</td><td> 6</td><td>      61,000</td><td>11680</td><td> 역삼동</td><td>766-8 </td><td>2002</td><td>트레벨        </td><td>33.48</td><td>3 </td></tr>\n",
       "\t<tr><th scope=row>3</th><td>3</td><td>2021</td><td>1</td><td> 7</td><td>     198,000</td><td>11680</td><td> 역삼동</td><td>757   </td><td>2005</td><td>역삼래미안    </td><td>59.73</td><td>14</td></tr>\n",
       "\t<tr><th scope=row>4</th><td>4</td><td>2021</td><td>1</td><td> 7</td><td>     193,800</td><td>11680</td><td> 역삼동</td><td>757   </td><td>2005</td><td>역삼래미안    </td><td>59.40</td><td>16</td></tr>\n",
       "\t<tr><th scope=row>5</th><td>5</td><td>2021</td><td>1</td><td> 9</td><td>      91,000</td><td>11680</td><td> 역삼동</td><td>796-29</td><td>2012</td><td>강남서해더블루</td><td>66.04</td><td>10</td></tr>\n",
       "\t<tr><th scope=row>6</th><td>6</td><td>2021</td><td>1</td><td>11</td><td>      80,000</td><td>11680</td><td> 역삼동</td><td>783-3 </td><td>2002</td><td>갤러리하우스  </td><td>84.95</td><td>1 </td></tr>\n",
       "</tbody>\n",
       "</table>\n"
      ],
      "text/latex": [
       "A data.frame: 6 × 12\n",
       "\\begin{tabular}{r|llllllllllll}\n",
       "  & X & year & month & day & price & code & dong\\_nm & jibun & con\\_year & apt\\_nm & area & floor\\\\\n",
       "  & <int> & <int> & <int> & <int> & <chr> & <int> & <chr> & <chr> & <int> & <chr> & <dbl> & <chr>\\\\\n",
       "\\hline\n",
       "\t1 & 1 & 2021 & 1 &  5 &       31,000 & 11680 &  역삼동 & 720-25 & 2002 & 대우디오빌     & 30.03 & 4 \\\\\n",
       "\t2 & 2 & 2021 & 1 &  6 &       61,000 & 11680 &  역삼동 & 766-8  & 2002 & 트레벨         & 33.48 & 3 \\\\\n",
       "\t3 & 3 & 2021 & 1 &  7 &      198,000 & 11680 &  역삼동 & 757    & 2005 & 역삼래미안     & 59.73 & 14\\\\\n",
       "\t4 & 4 & 2021 & 1 &  7 &      193,800 & 11680 &  역삼동 & 757    & 2005 & 역삼래미안     & 59.40 & 16\\\\\n",
       "\t5 & 5 & 2021 & 1 &  9 &       91,000 & 11680 &  역삼동 & 796-29 & 2012 & 강남서해더블루 & 66.04 & 10\\\\\n",
       "\t6 & 6 & 2021 & 1 & 11 &       80,000 & 11680 &  역삼동 & 783-3  & 2002 & 갤러리하우스   & 84.95 & 1 \\\\\n",
       "\\end{tabular}\n"
      ],
      "text/markdown": [
       "\n",
       "A data.frame: 6 × 12\n",
       "\n",
       "| <!--/--> | X &lt;int&gt; | year &lt;int&gt; | month &lt;int&gt; | day &lt;int&gt; | price &lt;chr&gt; | code &lt;int&gt; | dong_nm &lt;chr&gt; | jibun &lt;chr&gt; | con_year &lt;int&gt; | apt_nm &lt;chr&gt; | area &lt;dbl&gt; | floor &lt;chr&gt; |\n",
       "|---|---|---|---|---|---|---|---|---|---|---|---|---|\n",
       "| 1 | 1 | 2021 | 1 |  5 |       31,000 | 11680 |  역삼동 | 720-25 | 2002 | 대우디오빌     | 30.03 | 4  |\n",
       "| 2 | 2 | 2021 | 1 |  6 |       61,000 | 11680 |  역삼동 | 766-8  | 2002 | 트레벨         | 33.48 | 3  |\n",
       "| 3 | 3 | 2021 | 1 |  7 |      198,000 | 11680 |  역삼동 | 757    | 2005 | 역삼래미안     | 59.73 | 14 |\n",
       "| 4 | 4 | 2021 | 1 |  7 |      193,800 | 11680 |  역삼동 | 757    | 2005 | 역삼래미안     | 59.40 | 16 |\n",
       "| 5 | 5 | 2021 | 1 |  9 |       91,000 | 11680 |  역삼동 | 796-29 | 2012 | 강남서해더블루 | 66.04 | 10 |\n",
       "| 6 | 6 | 2021 | 1 | 11 |       80,000 | 11680 |  역삼동 | 783-3  | 2002 | 갤러리하우스   | 84.95 | 1  |\n",
       "\n"
      ],
      "text/plain": [
       "  X year month day price        code  dong_nm jibun  con_year apt_nm        \n",
       "1 1 2021 1      5        31,000 11680  역삼동 720-25 2002     대우디오빌    \n",
       "2 2 2021 1      6        61,000 11680  역삼동 766-8  2002     트레벨        \n",
       "3 3 2021 1      7       198,000 11680  역삼동 757    2005     역삼래미안    \n",
       "4 4 2021 1      7       193,800 11680  역삼동 757    2005     역삼래미안    \n",
       "5 5 2021 1      9        91,000 11680  역삼동 796-29 2012     강남서해더블루\n",
       "6 6 2021 1     11        80,000 11680  역삼동 783-3  2002     갤러리하우스  \n",
       "  area  floor\n",
       "1 30.03 4    \n",
       "2 33.48 3    \n",
       "3 59.73 14   \n",
       "4 59.40 16   \n",
       "5 66.04 10   \n",
       "6 84.95 1    "
      ]
     },
     "metadata": {},
     "output_type": "display_data"
    }
   ],
   "source": [
    "apt_price <- plyr::ldply(as.list(paste0(\"./02_raw_data/\", files)), read.csv) # 모든 파일 하나로 결합\n",
    "apt_price %>% head"
   ]
  },
  {
   "cell_type": "code",
   "execution_count": null,
   "id": "d005678b",
   "metadata": {},
   "outputs": [],
   "source": [
    "dir.create(\"./03_integrated\")\n",
    "save(apt_price, file = \"./03_integrated/03_apt_price.rdata\") \n",
    "write.csv(apt_price, \"./03_integrated/03_apt_price.csv\")   "
   ]
  }
 ],
 "metadata": {
  "kernelspec": {
   "display_name": "R 4.1.3",
   "language": "R",
   "name": "ir32"
  },
  "language_info": {
   "codemirror_mode": "r",
   "file_extension": ".r",
   "mimetype": "text/x-r-source",
   "name": "R",
   "pygments_lexer": "r",
   "version": "4.1.3"
  }
 },
 "nbformat": 4,
 "nbformat_minor": 5
}
