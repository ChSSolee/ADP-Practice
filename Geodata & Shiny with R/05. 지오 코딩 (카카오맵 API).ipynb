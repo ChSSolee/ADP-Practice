{
 "cells": [
  {
   "cell_type": "markdown",
   "id": "0c716ecb",
   "metadata": {},
   "source": [
    "### 지오 코딩 : 문자로 된 주소를 위도와 경도로 변환\n",
    "\n",
    "#### 카카오맵 API\n",
    "- https://developers.kakao.com/ -> [내 애플리케이션] -> [애플리케이션 추가하기] -> [REST API 키]"
   ]
  },
  {
   "cell_type": "markdown",
   "id": "4f23e8ed",
   "metadata": {},
   "source": [
    "### 중복된 주소 제거"
   ]
  },
  {
   "cell_type": "code",
   "execution_count": 5,
   "id": "5861c234",
   "metadata": {},
   "outputs": [],
   "source": [
    "library(tidyverse)"
   ]
  },
  {
   "cell_type": "code",
   "execution_count": 6,
   "id": "064e6584",
   "metadata": {},
   "outputs": [],
   "source": [
    "load(\"./04_pre_process/04_preprocess.rdata\")"
   ]
  },
  {
   "cell_type": "code",
   "execution_count": 8,
   "id": "848eb611",
   "metadata": {},
   "outputs": [],
   "source": [
    "apt_juso <- apt_price %>% select(juso_jibun) %>%\n",
    "    unique"
   ]
  },
  {
   "cell_type": "code",
   "execution_count": 9,
   "id": "3e7d2249",
   "metadata": {
    "scrolled": true
   },
   "outputs": [
    {
     "data": {
      "text/html": [
       "<style>\n",
       ".list-inline {list-style: none; margin:0; padding: 0}\n",
       ".list-inline>li {display: inline-block}\n",
       ".list-inline>li:not(:last-child)::after {content: \"\\00b7\"; padding: 0 .5ex}\n",
       "</style>\n",
       "<ol class=list-inline><li>43390</li><li>13</li></ol>\n"
      ],
      "text/latex": [
       "\\begin{enumerate*}\n",
       "\\item 43390\n",
       "\\item 13\n",
       "\\end{enumerate*}\n"
      ],
      "text/markdown": [
       "1. 43390\n",
       "2. 13\n",
       "\n",
       "\n"
      ],
      "text/plain": [
       "[1] 43390    13"
      ]
     },
     "metadata": {},
     "output_type": "display_data"
    },
    {
     "data": {
      "text/html": [
       "<style>\n",
       ".list-inline {list-style: none; margin:0; padding: 0}\n",
       ".list-inline>li {display: inline-block}\n",
       ".list-inline>li:not(:last-child)::after {content: \"\\00b7\"; padding: 0 .5ex}\n",
       "</style>\n",
       "<ol class=list-inline><li>5717</li><li>1</li></ol>\n"
      ],
      "text/latex": [
       "\\begin{enumerate*}\n",
       "\\item 5717\n",
       "\\item 1\n",
       "\\end{enumerate*}\n"
      ],
      "text/markdown": [
       "1. 5717\n",
       "2. 1\n",
       "\n",
       "\n"
      ],
      "text/plain": [
       "[1] 5717    1"
      ]
     },
     "metadata": {},
     "output_type": "display_data"
    },
    {
     "name": "stdout",
     "output_type": "stream",
     "text": [
      "                                     juso_jibun\n",
      "1       서울특별시 종로구 청운동 56-45 청운현대\n",
      "2 서울특별시 종로구 사직동 9-1 광화문스페이스본\n",
      "3 서울특별시 종로구 내수동 71 경희궁의아침2단지\n"
     ]
    }
   ],
   "source": [
    "apt_price %>% dim\n",
    "apt_juso %>% dim\n",
    "head(apt_juso, 3) %>% print"
   ]
  },
  {
   "cell_type": "markdown",
   "id": "3dd880e7",
   "metadata": {},
   "source": [
    "### \n",
    "### 주소를 좌표로 변경"
   ]
  },
  {
   "cell_type": "code",
   "execution_count": 11,
   "id": "5fc8c0b5",
   "metadata": {},
   "outputs": [],
   "source": [
    "library(httr)\n",
    "library(RJSONIO)\n",
    "library(data.table)"
   ]
  },
  {
   "cell_type": "code",
   "execution_count": 12,
   "id": "e19da537",
   "metadata": {},
   "outputs": [],
   "source": [
    "add_list <- list()\n",
    "cnt <- 0\n",
    "kakao_key <- \"061a64ce5679dc124cb5883f846531d7\""
   ]
  },
  {
   "cell_type": "markdown",
   "id": "5b82d242",
   "metadata": {},
   "source": [
    "\n",
    "\n",
    "### ```GET(url, query)```"
   ]
  },
  {
   "cell_type": "code",
   "execution_count": null,
   "id": "0f0e74f0",
   "metadata": {},
   "outputs": [],
   "source": [
    "lon_lat <- GET(url = 'https://dapi.kakao.com/v2/local/search/address.json',\n",
    "                       # 서비스 URL\n",
    "                       query = list(query = '서울특별시 송파구 거여동 거여5단지'),\n",
    "                       # 질의\n",
    "                       add_headers(Authorization = paste0(\"KakaoAK \", kakao_key)))"
   ]
  },
  {
   "cell_type": "markdown",
   "id": "51d7f5bd",
   "metadata": {},
   "source": [
    "### ```content(as = )``` : GET한 파일을 원하는 형식으로 저장\n",
    "- ```as``` : 원본(raw), 텍스트(text) / (parsed) / content\n",
    "\n",
    "### ```fromJSON()``` : JSON을 R객체로 변환"
   ]
  },
  {
   "cell_type": "code",
   "execution_count": 13,
   "id": "d97323a0",
   "metadata": {
    "scrolled": true
   },
   "outputs": [
    {
     "data": {
      "text/html": [
       "<dl>\n",
       "\t<dt>$documents</dt>\n",
       "\t\t<dd><ol>\n",
       "\t<li><dl>\n",
       "\t<dt>$address</dt>\n",
       "\t\t<dd><style>\n",
       ".dl-inline {width: auto; margin:0; padding: 0}\n",
       ".dl-inline>dt, .dl-inline>dd {float: none; width: auto; display: inline-block}\n",
       ".dl-inline>dt::after {content: \":\\0020\"; padding-right: .5ex}\n",
       ".dl-inline>dt:not(:first-of-type) {padding-left: .5ex}\n",
       "</style><dl class=dl-inline><dt>address_name</dt><dd>'서울 송파구 거여동 5'</dd><dt>b_code</dt><dd>'1171011300'</dd><dt>h_code</dt><dd>'1171053100'</dd><dt>main_address_no</dt><dd>'5'</dd><dt>mountain_yn</dt><dd>'N'</dd><dt>region_1depth_name</dt><dd>'서울'</dd><dt>region_2depth_name</dt><dd>'송파구'</dd><dt>region_3depth_h_name</dt><dd>'거여1동'</dd><dt>region_3depth_name</dt><dd>'거여동'</dd><dt>sub_address_no</dt><dd>''</dd><dt>x</dt><dd>'127.142029142591'</dd><dt>y</dt><dd>'37.4990648506116'</dd></dl>\n",
       "</dd>\n",
       "\t<dt>$address_name</dt>\n",
       "\t\t<dd>'서울 송파구 거여동 5'</dd>\n",
       "\t<dt>$address_type</dt>\n",
       "\t\t<dd>'REGION_ADDR'</dd>\n",
       "\t<dt>$road_address</dt>\n",
       "\t\t<dd><style>\n",
       ".dl-inline {width: auto; margin:0; padding: 0}\n",
       ".dl-inline>dt, .dl-inline>dd {float: none; width: auto; display: inline-block}\n",
       ".dl-inline>dt::after {content: \":\\0020\"; padding-right: .5ex}\n",
       ".dl-inline>dt:not(:first-of-type) {padding-left: .5ex}\n",
       "</style><dl class=dl-inline><dt>address_name</dt><dd>'서울 송파구 성내천로 124'</dd><dt>building_name</dt><dd>''</dd><dt>main_building_no</dt><dd>'124'</dd><dt>region_1depth_name</dt><dd>'서울'</dd><dt>region_2depth_name</dt><dd>'송파구'</dd><dt>region_3depth_name</dt><dd>'거여동'</dd><dt>road_name</dt><dd>'성내천로'</dd><dt>sub_building_no</dt><dd>''</dd><dt>underground_yn</dt><dd>'N'</dd><dt>x</dt><dd>'127.142029936425'</dd><dt>y</dt><dd>'37.4990660209644'</dd><dt>zone_no</dt><dd>'05736'</dd></dl>\n",
       "</dd>\n",
       "\t<dt>$x</dt>\n",
       "\t\t<dd>'127.142029142591'</dd>\n",
       "\t<dt>$y</dt>\n",
       "\t\t<dd>'37.4990648506116'</dd>\n",
       "</dl>\n",
       "</li>\n",
       "</ol>\n",
       "</dd>\n",
       "\t<dt>$meta</dt>\n",
       "\t\t<dd><dl>\n",
       "\t<dt>$is_end</dt>\n",
       "\t\t<dd>TRUE</dd>\n",
       "\t<dt>$pageable_count</dt>\n",
       "\t\t<dd>1</dd>\n",
       "\t<dt>$total_count</dt>\n",
       "\t\t<dd>1</dd>\n",
       "</dl>\n",
       "</dd>\n",
       "</dl>\n"
      ],
      "text/latex": [
       "\\begin{description}\n",
       "\\item[\\$documents] \\begin{enumerate}\n",
       "\\item \\begin{description}\n",
       "\\item[\\$address] \\begin{description*}\n",
       "\\item[address\\textbackslash{}\\_name] '서울 송파구 거여동 5'\n",
       "\\item[b\\textbackslash{}\\_code] '1171011300'\n",
       "\\item[h\\textbackslash{}\\_code] '1171053100'\n",
       "\\item[main\\textbackslash{}\\_address\\textbackslash{}\\_no] '5'\n",
       "\\item[mountain\\textbackslash{}\\_yn] 'N'\n",
       "\\item[region\\textbackslash{}\\_1depth\\textbackslash{}\\_name] '서울'\n",
       "\\item[region\\textbackslash{}\\_2depth\\textbackslash{}\\_name] '송파구'\n",
       "\\item[region\\textbackslash{}\\_3depth\\textbackslash{}\\_h\\textbackslash{}\\_name] '거여1동'\n",
       "\\item[region\\textbackslash{}\\_3depth\\textbackslash{}\\_name] '거여동'\n",
       "\\item[sub\\textbackslash{}\\_address\\textbackslash{}\\_no] ''\n",
       "\\item[x] '127.142029142591'\n",
       "\\item[y] '37.4990648506116'\n",
       "\\end{description*}\n",
       "\n",
       "\\item[\\$address\\_name] '서울 송파구 거여동 5'\n",
       "\\item[\\$address\\_type] 'REGION\\_ADDR'\n",
       "\\item[\\$road\\_address] \\begin{description*}\n",
       "\\item[address\\textbackslash{}\\_name] '서울 송파구 성내천로 124'\n",
       "\\item[building\\textbackslash{}\\_name] ''\n",
       "\\item[main\\textbackslash{}\\_building\\textbackslash{}\\_no] '124'\n",
       "\\item[region\\textbackslash{}\\_1depth\\textbackslash{}\\_name] '서울'\n",
       "\\item[region\\textbackslash{}\\_2depth\\textbackslash{}\\_name] '송파구'\n",
       "\\item[region\\textbackslash{}\\_3depth\\textbackslash{}\\_name] '거여동'\n",
       "\\item[road\\textbackslash{}\\_name] '성내천로'\n",
       "\\item[sub\\textbackslash{}\\_building\\textbackslash{}\\_no] ''\n",
       "\\item[underground\\textbackslash{}\\_yn] 'N'\n",
       "\\item[x] '127.142029936425'\n",
       "\\item[y] '37.4990660209644'\n",
       "\\item[zone\\textbackslash{}\\_no] '05736'\n",
       "\\end{description*}\n",
       "\n",
       "\\item[\\$x] '127.142029142591'\n",
       "\\item[\\$y] '37.4990648506116'\n",
       "\\end{description}\n",
       "\n",
       "\\end{enumerate}\n",
       "\n",
       "\\item[\\$meta] \\begin{description}\n",
       "\\item[\\$is\\_end] TRUE\n",
       "\\item[\\$pageable\\_count] 1\n",
       "\\item[\\$total\\_count] 1\n",
       "\\end{description}\n",
       "\n",
       "\\end{description}\n"
      ],
      "text/markdown": [
       "$documents\n",
       ":   1. $address\n",
       ":   address_name\n",
       ":   '서울 송파구 거여동 5'b_code\n",
       ":   '1171011300'h_code\n",
       ":   '1171053100'main_address_no\n",
       ":   '5'mountain_yn\n",
       ":   'N'region_1depth_name\n",
       ":   '서울'region_2depth_name\n",
       ":   '송파구'region_3depth_h_name\n",
       ":   '거여1동'region_3depth_name\n",
       ":   '거여동'sub_address_no\n",
       ":   ''x\n",
       ":   '127.142029142591'y\n",
       ":   '37.4990648506116'\n",
       "\n",
       "\n",
       "$address_name\n",
       ":   '서울 송파구 거여동 5'\n",
       "$address_type\n",
       ":   'REGION_ADDR'\n",
       "$road_address\n",
       ":   address_name\n",
       ":   '서울 송파구 성내천로 124'building_name\n",
       ":   ''main_building_no\n",
       ":   '124'region_1depth_name\n",
       ":   '서울'region_2depth_name\n",
       ":   '송파구'region_3depth_name\n",
       ":   '거여동'road_name\n",
       ":   '성내천로'sub_building_no\n",
       ":   ''underground_yn\n",
       ":   'N'x\n",
       ":   '127.142029936425'y\n",
       ":   '37.4990660209644'zone_no\n",
       ":   '05736'\n",
       "\n",
       "\n",
       "$x\n",
       ":   '127.142029142591'\n",
       "$y\n",
       ":   '37.4990648506116'\n",
       "\n",
       "\n",
       "\n",
       "\n",
       "\n",
       "\n",
       "$meta\n",
       ":   $is_end\n",
       ":   TRUE\n",
       "$pageable_count\n",
       ":   1\n",
       "$total_count\n",
       ":   1\n",
       "\n",
       "\n",
       "\n",
       "\n",
       "\n"
      ],
      "text/plain": [
       "$documents\n",
       "$documents[[1]]\n",
       "$documents[[1]]$address\n",
       "          address_name                 b_code                 h_code \n",
       "\"서울 송파구 거여동 5\"           \"1171011300\"           \"1171053100\" \n",
       "       main_address_no            mountain_yn     region_1depth_name \n",
       "                   \"5\"                    \"N\"                 \"서울\" \n",
       "    region_2depth_name   region_3depth_h_name     region_3depth_name \n",
       "              \"송파구\"              \"거여1동\"               \"거여동\" \n",
       "        sub_address_no                      x                      y \n",
       "                    \"\"     \"127.142029142591\"     \"37.4990648506116\" \n",
       "\n",
       "$documents[[1]]$address_name\n",
       "[1] \"서울 송파구 거여동 5\"\n",
       "\n",
       "$documents[[1]]$address_type\n",
       "[1] \"REGION_ADDR\"\n",
       "\n",
       "$documents[[1]]$road_address\n",
       "              address_name              building_name \n",
       "\"서울 송파구 성내천로 124\"                         \"\" \n",
       "          main_building_no         region_1depth_name \n",
       "                     \"124\"                     \"서울\" \n",
       "        region_2depth_name         region_3depth_name \n",
       "                  \"송파구\"                   \"거여동\" \n",
       "                 road_name            sub_building_no \n",
       "                \"성내천로\"                         \"\" \n",
       "            underground_yn                          x \n",
       "                       \"N\"         \"127.142029936425\" \n",
       "                         y                    zone_no \n",
       "        \"37.4990660209644\"                    \"05736\" \n",
       "\n",
       "$documents[[1]]$x\n",
       "[1] \"127.142029142591\"\n",
       "\n",
       "$documents[[1]]$y\n",
       "[1] \"37.4990648506116\"\n",
       "\n",
       "\n",
       "\n",
       "$meta\n",
       "$meta$is_end\n",
       "[1] TRUE\n",
       "\n",
       "$meta$pageable_count\n",
       "[1] 1\n",
       "\n",
       "$meta$total_count\n",
       "[1] 1\n",
       "\n"
      ]
     },
     "metadata": {},
     "output_type": "display_data"
    }
   ],
   "source": [
    "lon_lat %>% content(as = 'text') %>% RJSONIO::fromJSON()"
   ]
  },
  {
   "cell_type": "markdown",
   "id": "3854b31e",
   "metadata": {},
   "source": [
    "### ```tryCatch({})``` : 오류가 발생하여도 반복문을 멈추지 않고 다음 반복으로 건너 뜀 (예외 처리)\n",
    "- 일반적인 반복문: 중간에 오류발생으로 멈춤"
   ]
  },
  {
   "cell_type": "code",
   "execution_count": 15,
   "id": "007aa060",
   "metadata": {},
   "outputs": [
    {
     "name": "stdout",
     "output_type": "stream",
     "text": [
      "[1] \"1 의 로그값은 => 0\"\n",
      "[1] \"2 의 로그값은 => 0.693147180559945\"\n",
      "[1] \"3 의 로그값은 => 1.09861228866811\"\n"
     ]
    },
    {
     "ename": "ERROR",
     "evalue": "Error in log(input): non-numeric argument to mathematical function\n",
     "output_type": "error",
     "traceback": [
      "Error in log(input): non-numeric argument to mathematical function\nTraceback:\n",
      "1. print(paste(input, \"의 로그값은 =>\", log(input)))",
      "2. paste(input, \"의 로그값은 =>\", log(input))"
     ]
    }
   ],
   "source": [
    "inputs = list(1, 2, 3, 'four', 5, 6)  \n",
    "for(input in inputs) {  \n",
    "  print(paste(input, \"의 로그값은 =>\", log(input)))\n",
    "}"
   ]
  },
  {
   "cell_type": "markdown",
   "id": "07278ae4",
   "metadata": {},
   "source": [
    "- tryCatch()함수가 포함된 반복문: 중간에 오류 발생하여도 예외 처리하고 넘어감"
   ]
  },
  {
   "cell_type": "code",
   "execution_count": 16,
   "id": "6477d9c8",
   "metadata": {},
   "outputs": [
    {
     "name": "stdout",
     "output_type": "stream",
     "text": [
      "[1] \"1 의 로그값은 => 0\"\n",
      "[1] \"2 의 로그값은 => 0.693147180559945\"\n",
      "[1] \"3 의 로그값은 => 1.09861228866811\"\n",
      "ERROR : non-numeric argument to mathematical function \n",
      "[1] \"5 의 로그값은 => 1.6094379124341\"\n",
      "[1] \"6 의 로그값은 => 1.79175946922805\"\n"
     ]
    }
   ],
   "source": [
    "for(input in inputs) {  \n",
    "  tryCatch({ \n",
    "    print(paste(input, \"의 로그값은 =>\", log(input)))\n",
    "  }, error = function(e) {cat(\"ERROR :\",conditionMessage(e), \"\\n\")} )}"
   ]
  },
  {
   "cell_type": "markdown",
   "id": "ed2e56c1",
   "metadata": {},
   "source": [
    "### \n",
    "### 주소를 좌표로 변경"
   ]
  },
  {
   "cell_type": "code",
   "execution_count": null,
   "id": "013c0117",
   "metadata": {},
   "outputs": [],
   "source": [
    "for(i in 1:nrow(apt_juso)) { \n",
    "    \n",
    "    tryCatch(\n",
    "    {\n",
    "        # 주소로 좌표값 요청\n",
    "        lon_lat <- GET(url = 'https://dapi.kakao.com/v2/local/search/address.json',\n",
    "                       # 서비스 URL\n",
    "                       query = list(query = apt_juso[i,]),\n",
    "                       # 질의\n",
    "                       add_headers(Authorization = paste0(\"KakaoAK \", kakao_key)))\n",
    "                       # 헤더\n",
    "      \n",
    "        # 위경도만 추출하여 저장\n",
    "        coordxy <- lon_lat %>% content(as = 'text') %>% RJSONIO::fromJSON()\n",
    "      \n",
    "        # 반복횟수 카운팅\n",
    "        cnt = cnt + 1\n",
    "      \n",
    "        # 주소, 경도, 위도 정보를 리스트로 저장\n",
    "        add_list[[cnt]] <- data.table(apt_juso = apt_juso[i,], \n",
    "                                      coord_x = coordxy$documents[[1]]$x, \n",
    "                                      coord_y = coordxy$documents[[1]]$y)\n",
    "        \n",
    "        # 진행상황 알림 메시지\n",
    "        message <- paste0(\"[\", i,\"/\",nrow(apt_juso),\"] 번째 (\",\n",
    "                          round(i / nrow(apt_juso) * 100, 2), \n",
    "                          \" %) [\", apt_juso[i,],\n",
    "                          \"] 지오코딩 중입니다: X= \", add_list[[cnt]]$coord_x, \n",
    "                          \" / Y= \", add_list[[cnt]]$coord_y)\n",
    "        cat(message, \"\\n\\n\")\n",
    "      \n",
    "        # 예외처리 구문 종료\n",
    "        }, \n",
    "        error = function(e) {cat(\"ERROR :\",conditionMessage(e), \"\\n\")}\n",
    "    )\n",
    "}"
   ]
  },
  {
   "cell_type": "markdown",
   "id": "a8b91823",
   "metadata": {},
   "source": [
    "### \n",
    "### 지오 코딩 결과 저장"
   ]
  },
  {
   "cell_type": "markdown",
   "id": "03862e0b",
   "metadata": {},
   "source": [
    "- 리스트를 데이터프레임 변환"
   ]
  },
  {
   "cell_type": "code",
   "execution_count": 27,
   "id": "87450298",
   "metadata": {},
   "outputs": [
    {
     "data": {
      "text/html": [
       "<ol>\n",
       "\t<li><table class=\"dataframe\">\n",
       "<caption>A data.table: 1 × 3</caption>\n",
       "<thead>\n",
       "\t<tr><th scope=col>apt_juso</th><th scope=col>coord_x</th><th scope=col>coord_y</th></tr>\n",
       "\t<tr><th scope=col>&lt;chr&gt;</th><th scope=col>&lt;chr&gt;</th><th scope=col>&lt;chr&gt;</th></tr>\n",
       "</thead>\n",
       "<tbody>\n",
       "\t<tr><td>서울특별시 종로구 청운동 56-45 청운현대</td><td>126.967381797143</td><td>37.586205890259</td></tr>\n",
       "</tbody>\n",
       "</table>\n",
       "</li>\n",
       "\t<li><table class=\"dataframe\">\n",
       "<caption>A data.table: 1 × 3</caption>\n",
       "<thead>\n",
       "\t<tr><th scope=col>apt_juso</th><th scope=col>coord_x</th><th scope=col>coord_y</th></tr>\n",
       "\t<tr><th scope=col>&lt;chr&gt;</th><th scope=col>&lt;chr&gt;</th><th scope=col>&lt;chr&gt;</th></tr>\n",
       "</thead>\n",
       "<tbody>\n",
       "\t<tr><td>서울특별시 종로구 사직동 9-1 광화문스페이스본</td><td>126.968880867164</td><td>37.5744172415207</td></tr>\n",
       "</tbody>\n",
       "</table>\n",
       "</li>\n",
       "\t<li><table class=\"dataframe\">\n",
       "<caption>A data.table: 1 × 3</caption>\n",
       "<thead>\n",
       "\t<tr><th scope=col>apt_juso</th><th scope=col>coord_x</th><th scope=col>coord_y</th></tr>\n",
       "\t<tr><th scope=col>&lt;chr&gt;</th><th scope=col>&lt;chr&gt;</th><th scope=col>&lt;chr&gt;</th></tr>\n",
       "</thead>\n",
       "<tbody>\n",
       "\t<tr><td>서울특별시 종로구 내수동 71 경희궁의아침2단지</td><td>126.971284886893</td><td>37.5739639296009</td></tr>\n",
       "</tbody>\n",
       "</table>\n",
       "</li>\n",
       "</ol>\n"
      ],
      "text/latex": [
       "\\begin{enumerate}\n",
       "\\item A data.table: 1 × 3\n",
       "\\begin{tabular}{lll}\n",
       " apt\\_juso & coord\\_x & coord\\_y\\\\\n",
       " <chr> & <chr> & <chr>\\\\\n",
       "\\hline\n",
       "\t 서울특별시 종로구 청운동 56-45 청운현대 & 126.967381797143 & 37.586205890259\\\\\n",
       "\\end{tabular}\n",
       "\n",
       "\\item A data.table: 1 × 3\n",
       "\\begin{tabular}{lll}\n",
       " apt\\_juso & coord\\_x & coord\\_y\\\\\n",
       " <chr> & <chr> & <chr>\\\\\n",
       "\\hline\n",
       "\t 서울특별시 종로구 사직동 9-1 광화문스페이스본 & 126.968880867164 & 37.5744172415207\\\\\n",
       "\\end{tabular}\n",
       "\n",
       "\\item A data.table: 1 × 3\n",
       "\\begin{tabular}{lll}\n",
       " apt\\_juso & coord\\_x & coord\\_y\\\\\n",
       " <chr> & <chr> & <chr>\\\\\n",
       "\\hline\n",
       "\t 서울특별시 종로구 내수동 71 경희궁의아침2단지 & 126.971284886893 & 37.5739639296009\\\\\n",
       "\\end{tabular}\n",
       "\n",
       "\\end{enumerate}\n"
      ],
      "text/markdown": [
       "1. \n",
       "A data.table: 1 × 3\n",
       "\n",
       "| apt_juso &lt;chr&gt; | coord_x &lt;chr&gt; | coord_y &lt;chr&gt; |\n",
       "|---|---|---|\n",
       "| 서울특별시 종로구 청운동 56-45 청운현대 | 126.967381797143 | 37.586205890259 |\n",
       "\n",
       "\n",
       "2. \n",
       "A data.table: 1 × 3\n",
       "\n",
       "| apt_juso &lt;chr&gt; | coord_x &lt;chr&gt; | coord_y &lt;chr&gt; |\n",
       "|---|---|---|\n",
       "| 서울특별시 종로구 사직동 9-1 광화문스페이스본 | 126.968880867164 | 37.5744172415207 |\n",
       "\n",
       "\n",
       "3. \n",
       "A data.table: 1 × 3\n",
       "\n",
       "| apt_juso &lt;chr&gt; | coord_x &lt;chr&gt; | coord_y &lt;chr&gt; |\n",
       "|---|---|---|\n",
       "| 서울특별시 종로구 내수동 71 경희궁의아침2단지 | 126.971284886893 | 37.5739639296009 |\n",
       "\n",
       "\n",
       "\n",
       "\n"
      ],
      "text/plain": [
       "[[1]]\n",
       "                                  apt_juso          coord_x         coord_y\n",
       "1: 서울특별시 종로구 청운동 56-45 청운현대 126.967381797143 37.586205890259\n",
       "\n",
       "[[2]]\n",
       "                                        apt_juso          coord_x\n",
       "1: 서울특별시 종로구 사직동 9-1 광화문스페이스본 126.968880867164\n",
       "            coord_y\n",
       "1: 37.5744172415207\n",
       "\n",
       "[[3]]\n",
       "                                        apt_juso          coord_x\n",
       "1: 서울특별시 종로구 내수동 71 경희궁의아침2단지 126.971284886893\n",
       "            coord_y\n",
       "1: 37.5739639296009\n"
      ]
     },
     "metadata": {},
     "output_type": "display_data"
    }
   ],
   "source": [
    "add_list %>% head(3)"
   ]
  },
  {
   "cell_type": "code",
   "execution_count": 30,
   "id": "0088dc92",
   "metadata": {},
   "outputs": [
    {
     "name": "stdout",
     "output_type": "stream",
     "text": [
      "                                        apt_juso          coord_x\n",
      "1:       서울특별시 종로구 청운동 56-45 청운현대 126.967381797143\n",
      "2: 서울특별시 종로구 사직동 9-1 광화문스페이스본 126.968880867164\n",
      "3: 서울특별시 종로구 내수동 71 경희궁의아침2단지 126.971284886893\n",
      "            coord_y\n",
      "1:  37.586205890259\n",
      "2: 37.5744172415207\n",
      "3: 37.5739639296009\n"
     ]
    }
   ],
   "source": [
    "juso_geocoding <- rbindlist(add_list)  \n",
    "juso_geocoding %>% head(3) %>% print"
   ]
  },
  {
   "cell_type": "code",
   "execution_count": 18,
   "id": "40167c6c",
   "metadata": {},
   "outputs": [],
   "source": [
    "juso_geocoding$coord_x <- as.numeric(juso_geocoding$coord_x) \n",
    "juso_geocoding$coord_y <- as.numeric(juso_geocoding$coord_y)\n",
    "juso_geocoding <- na.omit(juso_geocoding)"
   ]
  },
  {
   "cell_type": "code",
   "execution_count": 21,
   "id": "4efdca3b",
   "metadata": {},
   "outputs": [],
   "source": [
    "dir.create(\"./05_geocoding\")  \n",
    "save(juso_geocoding, file=\"./05_geocoding/05_juso_geocoding.rdata\") \n",
    "write.csv(juso_geocoding, \"./05_geocoding/05_juso_geocoding.csv\")"
   ]
  }
 ],
 "metadata": {
  "kernelspec": {
   "display_name": "R 4.1.3",
   "language": "R",
   "name": "ir32"
  },
  "language_info": {
   "codemirror_mode": "r",
   "file_extension": ".r",
   "mimetype": "text/x-r-source",
   "name": "R",
   "pygments_lexer": "r",
   "version": "4.1.3"
  }
 },
 "nbformat": 4,
 "nbformat_minor": 5
}
