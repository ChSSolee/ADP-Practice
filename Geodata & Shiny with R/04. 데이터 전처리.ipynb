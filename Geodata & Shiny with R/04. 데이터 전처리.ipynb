{
 "cells": [
  {
   "cell_type": "markdown",
   "id": "28b157f9",
   "metadata": {},
   "source": [
    "### 데이터 정제"
   ]
  },
  {
   "cell_type": "code",
   "execution_count": 5,
   "id": "752ec0f9",
   "metadata": {},
   "outputs": [],
   "source": [
    "library(tidyverse)"
   ]
  },
  {
   "cell_type": "code",
   "execution_count": 6,
   "id": "224b3fce",
   "metadata": {},
   "outputs": [],
   "source": [
    "options(warn = -1)"
   ]
  },
  {
   "cell_type": "code",
   "execution_count": 7,
   "id": "2ce0fabc",
   "metadata": {},
   "outputs": [],
   "source": [
    "load(\"./03_integrated/03_apt_price.rdata\")"
   ]
  },
  {
   "cell_type": "code",
   "execution_count": 8,
   "id": "ef3f2a95",
   "metadata": {},
   "outputs": [
    {
     "data": {
      "text/html": [
       "<table class=\"dataframe\">\n",
       "<caption>A data.frame: 6 × 12</caption>\n",
       "<thead>\n",
       "\t<tr><th></th><th scope=col>X</th><th scope=col>year</th><th scope=col>month</th><th scope=col>day</th><th scope=col>price</th><th scope=col>code</th><th scope=col>dong_nm</th><th scope=col>jibun</th><th scope=col>con_year</th><th scope=col>apt_nm</th><th scope=col>area</th><th scope=col>floor</th></tr>\n",
       "\t<tr><th></th><th scope=col>&lt;int&gt;</th><th scope=col>&lt;int&gt;</th><th scope=col>&lt;int&gt;</th><th scope=col>&lt;int&gt;</th><th scope=col>&lt;chr&gt;</th><th scope=col>&lt;int&gt;</th><th scope=col>&lt;chr&gt;</th><th scope=col>&lt;chr&gt;</th><th scope=col>&lt;int&gt;</th><th scope=col>&lt;chr&gt;</th><th scope=col>&lt;dbl&gt;</th><th scope=col>&lt;chr&gt;</th></tr>\n",
       "</thead>\n",
       "<tbody>\n",
       "\t<tr><th scope=row>1</th><td>1</td><td>2021</td><td>1</td><td> 5</td><td>      31,000</td><td>11680</td><td> 역삼동</td><td>720-25</td><td>2002</td><td>대우디오빌    </td><td>30.03</td><td>4 </td></tr>\n",
       "\t<tr><th scope=row>2</th><td>2</td><td>2021</td><td>1</td><td> 6</td><td>      61,000</td><td>11680</td><td> 역삼동</td><td>766-8 </td><td>2002</td><td>트레벨        </td><td>33.48</td><td>3 </td></tr>\n",
       "\t<tr><th scope=row>3</th><td>3</td><td>2021</td><td>1</td><td> 7</td><td>     198,000</td><td>11680</td><td> 역삼동</td><td>757   </td><td>2005</td><td>역삼래미안    </td><td>59.73</td><td>14</td></tr>\n",
       "\t<tr><th scope=row>4</th><td>4</td><td>2021</td><td>1</td><td> 7</td><td>     193,800</td><td>11680</td><td> 역삼동</td><td>757   </td><td>2005</td><td>역삼래미안    </td><td>59.40</td><td>16</td></tr>\n",
       "\t<tr><th scope=row>5</th><td>5</td><td>2021</td><td>1</td><td> 9</td><td>      91,000</td><td>11680</td><td> 역삼동</td><td>796-29</td><td>2012</td><td>강남서해더블루</td><td>66.04</td><td>10</td></tr>\n",
       "\t<tr><th scope=row>6</th><td>6</td><td>2021</td><td>1</td><td>11</td><td>      80,000</td><td>11680</td><td> 역삼동</td><td>783-3 </td><td>2002</td><td>갤러리하우스  </td><td>84.95</td><td>1 </td></tr>\n",
       "</tbody>\n",
       "</table>\n"
      ],
      "text/latex": [
       "A data.frame: 6 × 12\n",
       "\\begin{tabular}{r|llllllllllll}\n",
       "  & X & year & month & day & price & code & dong\\_nm & jibun & con\\_year & apt\\_nm & area & floor\\\\\n",
       "  & <int> & <int> & <int> & <int> & <chr> & <int> & <chr> & <chr> & <int> & <chr> & <dbl> & <chr>\\\\\n",
       "\\hline\n",
       "\t1 & 1 & 2021 & 1 &  5 &       31,000 & 11680 &  역삼동 & 720-25 & 2002 & 대우디오빌     & 30.03 & 4 \\\\\n",
       "\t2 & 2 & 2021 & 1 &  6 &       61,000 & 11680 &  역삼동 & 766-8  & 2002 & 트레벨         & 33.48 & 3 \\\\\n",
       "\t3 & 3 & 2021 & 1 &  7 &      198,000 & 11680 &  역삼동 & 757    & 2005 & 역삼래미안     & 59.73 & 14\\\\\n",
       "\t4 & 4 & 2021 & 1 &  7 &      193,800 & 11680 &  역삼동 & 757    & 2005 & 역삼래미안     & 59.40 & 16\\\\\n",
       "\t5 & 5 & 2021 & 1 &  9 &       91,000 & 11680 &  역삼동 & 796-29 & 2012 & 강남서해더블루 & 66.04 & 10\\\\\n",
       "\t6 & 6 & 2021 & 1 & 11 &       80,000 & 11680 &  역삼동 & 783-3  & 2002 & 갤러리하우스   & 84.95 & 1 \\\\\n",
       "\\end{tabular}\n"
      ],
      "text/markdown": [
       "\n",
       "A data.frame: 6 × 12\n",
       "\n",
       "| <!--/--> | X &lt;int&gt; | year &lt;int&gt; | month &lt;int&gt; | day &lt;int&gt; | price &lt;chr&gt; | code &lt;int&gt; | dong_nm &lt;chr&gt; | jibun &lt;chr&gt; | con_year &lt;int&gt; | apt_nm &lt;chr&gt; | area &lt;dbl&gt; | floor &lt;chr&gt; |\n",
       "|---|---|---|---|---|---|---|---|---|---|---|---|---|\n",
       "| 1 | 1 | 2021 | 1 |  5 |       31,000 | 11680 |  역삼동 | 720-25 | 2002 | 대우디오빌     | 30.03 | 4  |\n",
       "| 2 | 2 | 2021 | 1 |  6 |       61,000 | 11680 |  역삼동 | 766-8  | 2002 | 트레벨         | 33.48 | 3  |\n",
       "| 3 | 3 | 2021 | 1 |  7 |      198,000 | 11680 |  역삼동 | 757    | 2005 | 역삼래미안     | 59.73 | 14 |\n",
       "| 4 | 4 | 2021 | 1 |  7 |      193,800 | 11680 |  역삼동 | 757    | 2005 | 역삼래미안     | 59.40 | 16 |\n",
       "| 5 | 5 | 2021 | 1 |  9 |       91,000 | 11680 |  역삼동 | 796-29 | 2012 | 강남서해더블루 | 66.04 | 10 |\n",
       "| 6 | 6 | 2021 | 1 | 11 |       80,000 | 11680 |  역삼동 | 783-3  | 2002 | 갤러리하우스   | 84.95 | 1  |\n",
       "\n"
      ],
      "text/plain": [
       "  X year month day price        code  dong_nm jibun  con_year apt_nm        \n",
       "1 1 2021 1      5        31,000 11680  역삼동 720-25 2002     대우디오빌    \n",
       "2 2 2021 1      6        61,000 11680  역삼동 766-8  2002     트레벨        \n",
       "3 3 2021 1      7       198,000 11680  역삼동 757    2005     역삼래미안    \n",
       "4 4 2021 1      7       193,800 11680  역삼동 757    2005     역삼래미안    \n",
       "5 5 2021 1      9        91,000 11680  역삼동 796-29 2012     강남서해더블루\n",
       "6 6 2021 1     11        80,000 11680  역삼동 783-3  2002     갤러리하우스  \n",
       "  area  floor\n",
       "1 30.03 4    \n",
       "2 33.48 3    \n",
       "3 59.73 14   \n",
       "4 59.40 16   \n",
       "5 66.04 10   \n",
       "6 84.95 1    "
      ]
     },
     "metadata": {},
     "output_type": "display_data"
    }
   ],
   "source": [
    "apt_price %>% head"
   ]
  },
  {
   "cell_type": "markdown",
   "id": "f718f720",
   "metadata": {},
   "source": [
    "- 결측값 확인"
   ]
  },
  {
   "cell_type": "code",
   "execution_count": 9,
   "id": "5d70c325",
   "metadata": {},
   "outputs": [
    {
     "data": {
      "text/html": [
       "<style>\n",
       ".list-inline {list-style: none; margin:0; padding: 0}\n",
       ".list-inline>li {display: inline-block}\n",
       ".list-inline>li:not(:last-child)::after {content: \"\\00b7\"; padding: 0 .5ex}\n",
       "</style>\n",
       "<ol class=list-inline><li>43404</li><li>12</li></ol>\n"
      ],
      "text/latex": [
       "\\begin{enumerate*}\n",
       "\\item 43404\n",
       "\\item 12\n",
       "\\end{enumerate*}\n"
      ],
      "text/markdown": [
       "1. 43404\n",
       "2. 12\n",
       "\n",
       "\n"
      ],
      "text/plain": [
       "[1] 43404    12"
      ]
     },
     "metadata": {},
     "output_type": "display_data"
    },
    {
     "data": {
      "text/html": [
       "<style>\n",
       ".dl-inline {width: auto; margin:0; padding: 0}\n",
       ".dl-inline>dt, .dl-inline>dd {float: none; width: auto; display: inline-block}\n",
       ".dl-inline>dt::after {content: \":\\0020\"; padding-right: .5ex}\n",
       ".dl-inline>dt:not(:first-of-type) {padding-left: .5ex}\n",
       "</style><dl class=dl-inline><dt>X</dt><dd>0</dd><dt>year</dt><dd>0</dd><dt>month</dt><dd>0</dd><dt>day</dt><dd>0</dd><dt>price</dt><dd>0</dd><dt>code</dt><dd>0</dd><dt>dong_nm</dt><dd>0</dd><dt>jibun</dt><dd>0</dd><dt>con_year</dt><dd>0</dd><dt>apt_nm</dt><dd>0</dd><dt>area</dt><dd>0</dd><dt>floor</dt><dd>12</dd></dl>\n"
      ],
      "text/latex": [
       "\\begin{description*}\n",
       "\\item[X] 0\n",
       "\\item[year] 0\n",
       "\\item[month] 0\n",
       "\\item[day] 0\n",
       "\\item[price] 0\n",
       "\\item[code] 0\n",
       "\\item[dong\\textbackslash{}\\_nm] 0\n",
       "\\item[jibun] 0\n",
       "\\item[con\\textbackslash{}\\_year] 0\n",
       "\\item[apt\\textbackslash{}\\_nm] 0\n",
       "\\item[area] 0\n",
       "\\item[floor] 12\n",
       "\\end{description*}\n"
      ],
      "text/markdown": [
       "X\n",
       ":   0year\n",
       ":   0month\n",
       ":   0day\n",
       ":   0price\n",
       ":   0code\n",
       ":   0dong_nm\n",
       ":   0jibun\n",
       ":   0con_year\n",
       ":   0apt_nm\n",
       ":   0area\n",
       ":   0floor\n",
       ":   12\n",
       "\n"
      ],
      "text/plain": [
       "       X     year    month      day    price     code  dong_nm    jibun \n",
       "       0        0        0        0        0        0        0        0 \n",
       "con_year   apt_nm     area    floor \n",
       "       0        0        0       12 "
      ]
     },
     "metadata": {},
     "output_type": "display_data"
    }
   ],
   "source": [
    "apt_price %>% dim\n",
    "colSums(is.na(apt_price))"
   ]
  },
  {
   "cell_type": "markdown",
   "id": "5bb821ad",
   "metadata": {},
   "source": [
    "- 결측값 제거"
   ]
  },
  {
   "cell_type": "code",
   "execution_count": 10,
   "id": "85c786da",
   "metadata": {},
   "outputs": [
    {
     "data": {
      "text/html": [
       "<style>\n",
       ".list-inline {list-style: none; margin:0; padding: 0}\n",
       ".list-inline>li {display: inline-block}\n",
       ".list-inline>li:not(:last-child)::after {content: \"\\00b7\"; padding: 0 .5ex}\n",
       "</style>\n",
       "<ol class=list-inline><li>43392</li><li>12</li></ol>\n"
      ],
      "text/latex": [
       "\\begin{enumerate*}\n",
       "\\item 43392\n",
       "\\item 12\n",
       "\\end{enumerate*}\n"
      ],
      "text/markdown": [
       "1. 43392\n",
       "2. 12\n",
       "\n",
       "\n"
      ],
      "text/plain": [
       "[1] 43392    12"
      ]
     },
     "metadata": {},
     "output_type": "display_data"
    },
    {
     "data": {
      "text/html": [
       "<style>\n",
       ".dl-inline {width: auto; margin:0; padding: 0}\n",
       ".dl-inline>dt, .dl-inline>dd {float: none; width: auto; display: inline-block}\n",
       ".dl-inline>dt::after {content: \":\\0020\"; padding-right: .5ex}\n",
       ".dl-inline>dt:not(:first-of-type) {padding-left: .5ex}\n",
       "</style><dl class=dl-inline><dt>X</dt><dd>0</dd><dt>year</dt><dd>0</dd><dt>month</dt><dd>0</dd><dt>day</dt><dd>0</dd><dt>price</dt><dd>0</dd><dt>code</dt><dd>0</dd><dt>dong_nm</dt><dd>0</dd><dt>jibun</dt><dd>0</dd><dt>con_year</dt><dd>0</dd><dt>apt_nm</dt><dd>0</dd><dt>area</dt><dd>0</dd><dt>floor</dt><dd>0</dd></dl>\n"
      ],
      "text/latex": [
       "\\begin{description*}\n",
       "\\item[X] 0\n",
       "\\item[year] 0\n",
       "\\item[month] 0\n",
       "\\item[day] 0\n",
       "\\item[price] 0\n",
       "\\item[code] 0\n",
       "\\item[dong\\textbackslash{}\\_nm] 0\n",
       "\\item[jibun] 0\n",
       "\\item[con\\textbackslash{}\\_year] 0\n",
       "\\item[apt\\textbackslash{}\\_nm] 0\n",
       "\\item[area] 0\n",
       "\\item[floor] 0\n",
       "\\end{description*}\n"
      ],
      "text/markdown": [
       "X\n",
       ":   0year\n",
       ":   0month\n",
       ":   0day\n",
       ":   0price\n",
       ":   0code\n",
       ":   0dong_nm\n",
       ":   0jibun\n",
       ":   0con_year\n",
       ":   0apt_nm\n",
       ":   0area\n",
       ":   0floor\n",
       ":   0\n",
       "\n"
      ],
      "text/plain": [
       "       X     year    month      day    price     code  dong_nm    jibun \n",
       "       0        0        0        0        0        0        0        0 \n",
       "con_year   apt_nm     area    floor \n",
       "       0        0        0        0 "
      ]
     },
     "metadata": {},
     "output_type": "display_data"
    }
   ],
   "source": [
    "apt_price2 <- na.omit(apt_price)\n",
    "dim(apt_price2)\n",
    "colSums(is.na(apt_price2))"
   ]
  },
  {
   "cell_type": "markdown",
   "id": "b29c4303",
   "metadata": {},
   "source": [
    "### \n",
    "### 데이터 형식 수정"
   ]
  },
  {
   "cell_type": "code",
   "execution_count": 11,
   "id": "f1e954f0",
   "metadata": {},
   "outputs": [
    {
     "name": "stdout",
     "output_type": "stream",
     "text": [
      "Rows: 43,392\n",
      "Columns: 12\n",
      "$ X        \u001b[3m\u001b[90m<int>\u001b[39m\u001b[23m 1, 2, 3, 4, 5, 6, 7, 8, 9, 10, 11, 12, 13, 14, 15, 16, 17, 18~\n",
      "$ year     \u001b[3m\u001b[90m<int>\u001b[39m\u001b[23m 2021, 2021, 2021, 2021, 2021, 2021, 2021, 2021, 2021, 2021, 2~\n",
      "$ month    \u001b[3m\u001b[90m<int>\u001b[39m\u001b[23m 1, 1, 1, 1, 1, 1, 1, 1, 1, 1, 1, 1, 1, 1, 1, 1, 1, 1, 1, 1, 1~\n",
      "$ day      \u001b[3m\u001b[90m<int>\u001b[39m\u001b[23m 5, 6, 7, 7, 9, 11, 11, 11, 12, 13, 14, 15, 16, 16, 16, 18, 18~\n",
      "$ price    \u001b[3m\u001b[90m<chr>\u001b[39m\u001b[23m \"      31,000\", \"      61,000\", \"     198,000\", \"     193,800~\n",
      "$ code     \u001b[3m\u001b[90m<int>\u001b[39m\u001b[23m 11680, 11680, 11680, 11680, 11680, 11680, 11680, 11680, 11680~\n",
      "$ dong_nm  \u001b[3m\u001b[90m<chr>\u001b[39m\u001b[23m \" 역삼동\", \" 역삼동\", \" 역삼동\", \" 역삼동\", \" 역삼동\", \" 역삼~\n",
      "$ jibun    \u001b[3m\u001b[90m<chr>\u001b[39m\u001b[23m \"720-25\", \"766-8\", \"757\", \"757\", \"796-29\", \"783-3\", \"754-1\", ~\n",
      "$ con_year \u001b[3m\u001b[90m<int>\u001b[39m\u001b[23m 2002, 2002, 2005, 2005, 2012, 2002, 2006, 2006, 2006, 2012, 2~\n",
      "$ apt_nm   \u001b[3m\u001b[90m<chr>\u001b[39m\u001b[23m \"대우디오빌\", \"트레벨\", \"역삼래미안\", \"역삼래미안\", \"강남서해~\n",
      "$ area     \u001b[3m\u001b[90m<dbl>\u001b[39m\u001b[23m 30.0300, 33.4800, 59.7300, 59.4000, 66.0400, 84.9500, 84.9097~\n",
      "$ floor    \u001b[3m\u001b[90m<chr>\u001b[39m\u001b[23m \"4\", \"3\", \"14\", \"16\", \"10\", \"1\", \"7\", \"16\", \"10\", \"7\", \"8\", \"~\n"
     ]
    }
   ],
   "source": [
    "glimpse(apt_price2)"
   ]
  },
  {
   "cell_type": "markdown",
   "id": "ebc4ce52",
   "metadata": {},
   "source": [
    "#### 1. price는 공백이 포함된 문자형 => 수정 후 숫자형으로 변경"
   ]
  },
  {
   "cell_type": "code",
   "execution_count": 12,
   "id": "ab06d746",
   "metadata": {
    "scrolled": true
   },
   "outputs": [
    {
     "data": {
      "text/html": [
       "<style>\n",
       ".list-inline {list-style: none; margin:0; padding: 0}\n",
       ".list-inline>li {display: inline-block}\n",
       ".list-inline>li:not(:last-child)::after {content: \"\\00b7\"; padding: 0 .5ex}\n",
       "</style>\n",
       "<ol class=list-inline><li><span style=white-space:pre-wrap>'      31,000'</span></li><li><span style=white-space:pre-wrap>'      61,000'</span></li><li><span style=white-space:pre-wrap>'     198,000'</span></li><li><span style=white-space:pre-wrap>'     193,800'</span></li><li><span style=white-space:pre-wrap>'      91,000'</span></li><li><span style=white-space:pre-wrap>'      80,000'</span></li></ol>\n"
      ],
      "text/latex": [
       "\\begin{enumerate*}\n",
       "\\item '      31,000'\n",
       "\\item '      61,000'\n",
       "\\item '     198,000'\n",
       "\\item '     193,800'\n",
       "\\item '      91,000'\n",
       "\\item '      80,000'\n",
       "\\end{enumerate*}\n"
      ],
      "text/markdown": [
       "1. <span style=white-space:pre-wrap>'      31,000'</span>\n",
       "2. <span style=white-space:pre-wrap>'      61,000'</span>\n",
       "3. <span style=white-space:pre-wrap>'     198,000'</span>\n",
       "4. <span style=white-space:pre-wrap>'     193,800'</span>\n",
       "5. <span style=white-space:pre-wrap>'      91,000'</span>\n",
       "6. <span style=white-space:pre-wrap>'      80,000'</span>\n",
       "\n",
       "\n"
      ],
      "text/plain": [
       "[1] \"      31,000\" \"      61,000\" \"     198,000\" \"     193,800\" \"      91,000\"\n",
       "[6] \"      80,000\""
      ]
     },
     "metadata": {},
     "output_type": "display_data"
    }
   ],
   "source": [
    "head(apt_price2$price)"
   ]
  },
  {
   "cell_type": "markdown",
   "id": "4b8f4b3a",
   "metadata": {},
   "source": [
    "#### 2. 아파트 이름 뒤에 괄호 안에 불필요한 정보가 포함 => **괄호 '('부터 시작하는 문자 제거**"
   ]
  },
  {
   "cell_type": "code",
   "execution_count": 13,
   "id": "99f94275",
   "metadata": {},
   "outputs": [
    {
     "data": {
      "text/html": [
       "<style>\n",
       ".list-inline {list-style: none; margin:0; padding: 0}\n",
       ".list-inline>li {display: inline-block}\n",
       ".list-inline>li:not(:last-child)::after {content: \"\\00b7\"; padding: 0 .5ex}\n",
       "</style>\n",
       "<ol class=list-inline><li>'대우디오빌'</li><li>'대우디오빌플러스'</li><li>'강남서해더블루'</li><li>'로얄빌리지'</li><li>'역삼동하나빌'</li><li>'역삼푸르지오'</li><li>'래미안그레이튼(진달래2차)'</li><li>'이스턴오피스텔'</li><li>'e-편한세상'</li><li>'쌍용플레티넘밸류'</li></ol>\n"
      ],
      "text/latex": [
       "\\begin{enumerate*}\n",
       "\\item '대우디오빌'\n",
       "\\item '대우디오빌플러스'\n",
       "\\item '강남서해더블루'\n",
       "\\item '로얄빌리지'\n",
       "\\item '역삼동하나빌'\n",
       "\\item '역삼푸르지오'\n",
       "\\item '래미안그레이튼(진달래2차)'\n",
       "\\item '이스턴오피스텔'\n",
       "\\item 'e-편한세상'\n",
       "\\item '쌍용플레티넘밸류'\n",
       "\\end{enumerate*}\n"
      ],
      "text/markdown": [
       "1. '대우디오빌'\n",
       "2. '대우디오빌플러스'\n",
       "3. '강남서해더블루'\n",
       "4. '로얄빌리지'\n",
       "5. '역삼동하나빌'\n",
       "6. '역삼푸르지오'\n",
       "7. '래미안그레이튼(진달래2차)'\n",
       "8. '이스턴오피스텔'\n",
       "9. 'e-편한세상'\n",
       "10. '쌍용플레티넘밸류'\n",
       "\n",
       "\n"
      ],
      "text/plain": [
       " [1] \"대우디오빌\"                \"대우디오빌플러스\"         \n",
       " [3] \"강남서해더블루\"            \"로얄빌리지\"               \n",
       " [5] \"역삼동하나빌\"              \"역삼푸르지오\"             \n",
       " [7] \"래미안그레이튼(진달래2차)\" \"이스턴오피스텔\"           \n",
       " [9] \"e-편한세상\"                \"쌍용플레티넘밸류\"         "
      ]
     },
     "metadata": {},
     "output_type": "display_data"
    }
   ],
   "source": [
    "apt_price2$apt_nm[21:30]"
   ]
  },
  {
   "cell_type": "markdown",
   "id": "808b12bd",
   "metadata": {},
   "source": [
    "#### 3. year, month, day를 조합하여 날짜형 변수 date 생성"
   ]
  },
  {
   "cell_type": "markdown",
   "id": "a21156c7",
   "metadata": {},
   "source": [
    "#### 위의 것들 일괄 적용\n",
    "#### ```gsub(\"변경할  text(패턴)\", \"대체할 text\", text객체)``` \n",
    "\n",
    "- ```<.*?>``` : < ~ > 안의 모든 내용\n",
    "- ```\\\\(.*\",\"``` : '('부터 시작하는 문자"
   ]
  },
  {
   "cell_type": "code",
   "execution_count": 15,
   "id": "e377ad37",
   "metadata": {},
   "outputs": [],
   "source": [
    "library(lubridate)"
   ]
  },
  {
   "cell_type": "code",
   "execution_count": 16,
   "id": "5d7b8418",
   "metadata": {
    "scrolled": true
   },
   "outputs": [],
   "source": [
    "apt_price3 <- apt_price2 %>% \n",
    "    mutate(price = str_trim(price),\n",
    "           ymd = make_date(year, month, day),\n",
    "           ym = make_date(year = year, month = month)) %>%\n",
    "    mutate(price = str_replace_all(price, \",\", \"\") %>% as.numeric()) %>%\n",
    "    mutate(apt_nm = gsub(\"\\\\(.*\",\"\", apt_nm)) "
   ]
  },
  {
   "cell_type": "code",
   "execution_count": 17,
   "id": "062c2867",
   "metadata": {
    "scrolled": false
   },
   "outputs": [
    {
     "name": "stdout",
     "output_type": "stream",
     "text": [
      "  X year month day  price  code dong_nm  jibun con_year     apt_nm  area floor\n",
      "1 1 2021     1   5  31000 11680  역삼동 720-25     2002 대우디오빌 30.03     4\n",
      "2 2 2021     1   6  61000 11680  역삼동  766-8     2002     트레벨 33.48     3\n",
      "3 3 2021     1   7 198000 11680  역삼동    757     2005 역삼래미안 59.73    14\n",
      "         ymd         ym\n",
      "1 2021-01-05 2021-01-01\n",
      "2 2021-01-06 2021-01-01\n",
      "3 2021-01-07 2021-01-01\n"
     ]
    }
   ],
   "source": [
    "apt_price3 %>% head(3) %>% print"
   ]
  },
  {
   "cell_type": "markdown",
   "id": "36a24886",
   "metadata": {},
   "source": [
    "#### \n",
    "#### 주소 조합\n",
    "- 시군구 정보를 (sigun_code.csv) 통하여, 주소를 조합한 변수 'juso_jibun'생성"
   ]
  },
  {
   "cell_type": "code",
   "execution_count": 18,
   "id": "4eff72c7",
   "metadata": {},
   "outputs": [],
   "source": [
    "loc <- read.csv(\"./01_code/sigun_code/sigun_code.csv\", fileEncoding = \"UTF-8\")"
   ]
  },
  {
   "cell_type": "code",
   "execution_count": 19,
   "id": "8075b8ab",
   "metadata": {},
   "outputs": [
    {
     "name": "stdout",
     "output_type": "stream",
     "text": [
      "   code       sido sigungu    addr_1            addr_2\n",
      "1 11110 서울특별시  종로구 서울_종로 서울특별시 종로구\n",
      "2 11140 서울특별시    중구 서울_중구   서울특별시 중구\n"
     ]
    }
   ],
   "source": [
    "loc %>% head(2) %>% print"
   ]
  },
  {
   "cell_type": "code",
   "execution_count": 30,
   "id": "9a88a207",
   "metadata": {},
   "outputs": [],
   "source": [
    "apt_price4 <- apt_price3 %>% merge(loc, by = 'code') %>%\n",
    "    mutate(juso_jibun = paste0(addr_2, dong_nm, \" \", jibun, \" \", apt_nm))"
   ]
  },
  {
   "cell_type": "code",
   "execution_count": 31,
   "id": "38a5a1b2",
   "metadata": {},
   "outputs": [
    {
     "name": "stdout",
     "output_type": "stream",
     "text": [
      "   code X year month day  price dong_nm jibun con_year            apt_nm   area\n",
      "1 11110 1 2021     1  14 130000  청운동 56-45     2000          청운현대 129.76\n",
      "2 11110 2 2021     1   7 150000  사직동   9-1     2008  광화문스페이스본 144.52\n",
      "3 11110 3 2021     1  15 175000  내수동    71     2004 경희궁의아침2단지 174.55\n",
      "  floor        ymd         ym       sido sigungu    addr_1            addr_2\n",
      "1     2 2021-01-14 2021-01-01 서울특별시  종로구 서울_종로 서울특별시 종로구\n",
      "2     6 2021-01-07 2021-01-01 서울특별시  종로구 서울_종로 서울특별시 종로구\n",
      "3     4 2021-01-15 2021-01-01 서울특별시  종로구 서울_종로 서울특별시 종로구\n",
      "                                     juso_jibun\n",
      "1       서울특별시 종로구 청운동 56-45 청운현대\n",
      "2 서울특별시 종로구 사직동 9-1 광화문스페이스본\n",
      "3 서울특별시 종로구 내수동 71 경희궁의아침2단지\n"
     ]
    }
   ],
   "source": [
    "apt_price4 %>% head(3) %>% print"
   ]
  },
  {
   "cell_type": "markdown",
   "id": "a22cf6c1",
   "metadata": {},
   "source": [
    "#### 평당 매매가\n",
    "- 1평 = 3.3 $m^2$\n",
    "- 평당 매매가 = (매매가 / 면적) X 3.3\n",
    "- 평당 매매가를 나타내는 파생변수 'py' 생성"
   ]
  },
  {
   "cell_type": "code",
   "execution_count": 32,
   "id": "4529f1c0",
   "metadata": {},
   "outputs": [
    {
     "name": "stdout",
     "output_type": "stream",
     "text": [
      "   code X year month day  price dong_nm jibun con_year           apt_nm   area\n",
      "1 11110 1 2021     1  14 130000  청운동 56-45     2000         청운현대 129.76\n",
      "2 11110 2 2021     1   7 150000  사직동   9-1     2008 광화문스페이스본 144.52\n",
      "  floor        ymd         ym       sido sigungu    addr_1            addr_2\n",
      "1     2 2021-01-14 2021-01-01 서울특별시  종로구 서울_종로 서울특별시 종로구\n",
      "2     6 2021-01-07 2021-01-01 서울특별시  종로구 서울_종로 서울특별시 종로구\n",
      "                                     juso_jibun   py\n",
      "1       서울특별시 종로구 청운동 56-45 청운현대 3306\n",
      "2 서울특별시 종로구 사직동 9-1 광화문스페이스본 3425\n"
     ]
    }
   ],
   "source": [
    "apt_price5 <- apt_price4 %>% \n",
    "    mutate(py = (price / area * 3.3) %>% round())\n",
    "apt_price5 %>% head(2) %>% print"
   ]
  },
  {
   "cell_type": "markdown",
   "id": "8c1fe19d",
   "metadata": {},
   "source": [
    " \n",
    "#### 층수 변환\n",
    "- 층수를 나타내는 'floor'변수를 수치형으로 변경"
   ]
  },
  {
   "cell_type": "code",
   "execution_count": 33,
   "id": "dc2abbfc",
   "metadata": {},
   "outputs": [
    {
     "data": {
      "text/html": [
       "'character'"
      ],
      "text/latex": [
       "'character'"
      ],
      "text/markdown": [
       "'character'"
      ],
      "text/plain": [
       "[1] \"character\""
      ]
     },
     "metadata": {},
     "output_type": "display_data"
    },
    {
     "data": {
      "text/html": [
       "<style>\n",
       ".list-inline {list-style: none; margin:0; padding: 0}\n",
       ".list-inline>li {display: inline-block}\n",
       ".list-inline>li:not(:last-child)::after {content: \"\\00b7\"; padding: 0 .5ex}\n",
       "</style>\n",
       "<ol class=list-inline><li>'2'</li><li>'6'</li><li>'4'</li><li>'4'</li><li>'13'</li><li>'13'</li></ol>\n"
      ],
      "text/latex": [
       "\\begin{enumerate*}\n",
       "\\item '2'\n",
       "\\item '6'\n",
       "\\item '4'\n",
       "\\item '4'\n",
       "\\item '13'\n",
       "\\item '13'\n",
       "\\end{enumerate*}\n"
      ],
      "text/markdown": [
       "1. '2'\n",
       "2. '6'\n",
       "3. '4'\n",
       "4. '4'\n",
       "5. '13'\n",
       "6. '13'\n",
       "\n",
       "\n"
      ],
      "text/plain": [
       "[1] \"2\"  \"6\"  \"4\"  \"4\"  \"13\" \"13\""
      ]
     },
     "metadata": {},
     "output_type": "display_data"
    }
   ],
   "source": [
    "class(apt_price5$floor); head(apt_price5$floor)"
   ]
  },
  {
   "cell_type": "code",
   "execution_count": 34,
   "id": "909f237a",
   "metadata": {},
   "outputs": [],
   "source": [
    "apt_price5$floor <- apt_price5$floor %>% as.numeric()"
   ]
  },
  {
   "cell_type": "markdown",
   "id": "b885375f",
   "metadata": {},
   "source": [
    "- 아파트 층수는 모두 양수인데, 입력 오류로 인한 음수값이 존재할 수 있음 => 절댓값으로 변환"
   ]
  },
  {
   "cell_type": "code",
   "execution_count": 35,
   "id": "e8995314",
   "metadata": {},
   "outputs": [
    {
     "data": {
      "text/html": [
       "<style>\n",
       ".list-inline {list-style: none; margin:0; padding: 0}\n",
       ".list-inline>li {display: inline-block}\n",
       ".list-inline>li:not(:last-child)::after {content: \"\\00b7\"; padding: 0 .5ex}\n",
       "</style>\n",
       "<ol class=list-inline><li>43390</li><li>20</li></ol>\n"
      ],
      "text/latex": [
       "\\begin{enumerate*}\n",
       "\\item 43390\n",
       "\\item 20\n",
       "\\end{enumerate*}\n"
      ],
      "text/markdown": [
       "1. 43390\n",
       "2. 20\n",
       "\n",
       "\n"
      ],
      "text/plain": [
       "[1] 43390    20"
      ]
     },
     "metadata": {},
     "output_type": "display_data"
    }
   ],
   "source": [
    "apt_price5$floor <- apt_price5$floor %>% abs()\n",
    "apt_price5 %>% dim"
   ]
  },
  {
   "cell_type": "markdown",
   "id": "9d08bba0",
   "metadata": {},
   "source": [
    "#### 카운트 변수 추가\n",
    "- 모든 거래 건수에 1이라는 숫자 부여 => **이후 분석 과정에서 거래 건수를 집계하기 위함**"
   ]
  },
  {
   "cell_type": "code",
   "execution_count": 36,
   "id": "26652e14",
   "metadata": {},
   "outputs": [
    {
     "data": {
      "text/html": [
       "<style>\n",
       ".list-inline {list-style: none; margin:0; padding: 0}\n",
       ".list-inline>li {display: inline-block}\n",
       ".list-inline>li:not(:last-child)::after {content: \"\\00b7\"; padding: 0 .5ex}\n",
       "</style>\n",
       "<ol class=list-inline><li>43390</li><li>21</li></ol>\n"
      ],
      "text/latex": [
       "\\begin{enumerate*}\n",
       "\\item 43390\n",
       "\\item 21\n",
       "\\end{enumerate*}\n"
      ],
      "text/markdown": [
       "1. 43390\n",
       "2. 21\n",
       "\n",
       "\n"
      ],
      "text/plain": [
       "[1] 43390    21"
      ]
     },
     "metadata": {},
     "output_type": "display_data"
    },
    {
     "name": "stdout",
     "output_type": "stream",
     "text": [
      "   code X year month day  price dong_nm jibun con_year            apt_nm   area\n",
      "1 11110 1 2021     1  14 130000  청운동 56-45     2000          청운현대 129.76\n",
      "2 11110 2 2021     1   7 150000  사직동   9-1     2008  광화문스페이스본 144.52\n",
      "3 11110 3 2021     1  15 175000  내수동    71     2004 경희궁의아침2단지 174.55\n",
      "  floor        ymd         ym       sido sigungu    addr_1            addr_2\n",
      "1     2 2021-01-14 2021-01-01 서울특별시  종로구 서울_종로 서울특별시 종로구\n",
      "2     6 2021-01-07 2021-01-01 서울특별시  종로구 서울_종로 서울특별시 종로구\n",
      "3     4 2021-01-15 2021-01-01 서울특별시  종로구 서울_종로 서울특별시 종로구\n",
      "                                     juso_jibun   py cnt\n",
      "1       서울특별시 종로구 청운동 56-45 청운현대 3306   1\n",
      "2 서울특별시 종로구 사직동 9-1 광화문스페이스본 3425   1\n",
      "3 서울특별시 종로구 내수동 71 경희궁의아침2단지 3309   1\n"
     ]
    }
   ],
   "source": [
    "apt_price5$cnt <- 1\n",
    "apt_price5 %>% dim\n",
    "head(apt_price5, 3) %>% print"
   ]
  },
  {
   "cell_type": "markdown",
   "id": "f9f05067",
   "metadata": {},
   "source": [
    "### 전처리된 데이터 저장"
   ]
  },
  {
   "cell_type": "code",
   "execution_count": 37,
   "id": "044e957e",
   "metadata": {},
   "outputs": [
    {
     "name": "stdout",
     "output_type": "stream",
     "text": [
      "         ymd         ym year  code    addr_1            apt_nm\n",
      "1 2021-01-14 2021-01-01 2021 11110 서울_종로          청운현대\n",
      "2 2021-01-07 2021-01-01 2021 11110 서울_종로  광화문스페이스본\n",
      "3 2021-01-15 2021-01-01 2021 11110 서울_종로 경희궁의아침2단지\n",
      "                                     juso_jibun  price con_year   area floor\n",
      "1       서울특별시 종로구 청운동 56-45 청운현대 130000     2000 129.76     2\n",
      "2 서울특별시 종로구 사직동 9-1 광화문스페이스본 150000     2008 144.52     6\n",
      "3 서울특별시 종로구 내수동 71 경희궁의아침2단지 175000     2004 174.55     4\n",
      "    py cnt\n",
      "1 3306   1\n",
      "2 3425   1\n",
      "3 3309   1\n"
     ]
    }
   ],
   "source": [
    "apt_price <- apt_price5 %>% \n",
    "    select(ymd, ym, year, code, addr_1, apt_nm, juso_jibun,\n",
    "           price, con_year, area, floor, py, cnt)\n",
    "apt_price %>% head(3) %>% print"
   ]
  },
  {
   "cell_type": "code",
   "execution_count": 38,
   "id": "009ad602",
   "metadata": {},
   "outputs": [],
   "source": [
    "dir.create('./04_pre_process')\n",
    "save(apt_price, file = \"./04_pre_process/04_preprocess.rdata\") \n",
    "write.csv(apt_price, \"./04_pre_process/04_preprocess.csv\") "
   ]
  }
 ],
 "metadata": {
  "kernelspec": {
   "display_name": "R 4.1.3",
   "language": "R",
   "name": "ir32"
  },
  "language_info": {
   "codemirror_mode": "r",
   "file_extension": ".r",
   "mimetype": "text/x-r-source",
   "name": "R",
   "pygments_lexer": "r",
   "version": "4.1.3"
  }
 },
 "nbformat": 4,
 "nbformat_minor": 5
}
