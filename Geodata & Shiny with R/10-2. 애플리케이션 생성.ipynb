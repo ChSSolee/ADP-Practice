{
 "cells": [
  {
   "cell_type": "code",
   "execution_count": 6,
   "id": "e5795145",
   "metadata": {},
   "outputs": [
    {
     "data": {
      "text/html": [
       "'C:/Users/이찬솔/Documents/Shiny'"
      ],
      "text/latex": [
       "'C:/Users/이찬솔/Documents/Shiny'"
      ],
      "text/markdown": [
       "'C:/Users/이찬솔/Documents/Shiny'"
      ],
      "text/plain": [
       "[1] \"C:/Users/이찬솔/Documents/Shiny\""
      ]
     },
     "metadata": {},
     "output_type": "display_data"
    }
   ],
   "source": [
    "getwd()"
   ]
  },
  {
   "cell_type": "markdown",
   "id": "860b53bf",
   "metadata": {},
   "source": [
    "### 1. 라이브러리 불러오기"
   ]
  },
  {
   "cell_type": "code",
   "execution_count": 2,
   "id": "5d943444",
   "metadata": {},
   "outputs": [],
   "source": [
    "library(devtools); library(sf); library(purrr); library(dplyr); library(DT) \n",
    "library(rgdal); library(lattice); library(latticeExtra); library(lubridate) \n",
    "library(ggplot2); library(ggfortify); library(ggrepel); library(showtext)   \n",
    "library(leaflet); library(leaflet.extras); library(raster); library(shiny)  \n",
    "library(mapview); library(mapedit); library(grid); library(tidyverse)"
   ]
  },
  {
   "cell_type": "markdown",
   "id": "2273ee61",
   "metadata": {},
   "source": [
    "### 2. 한글 글꼴 설정하기"
   ]
  },
  {
   "cell_type": "code",
   "execution_count": 3,
   "id": "e01700fa",
   "metadata": {},
   "outputs": [],
   "source": [
    "ggplot2::theme_set(theme_bw())"
   ]
  },
  {
   "cell_type": "code",
   "execution_count": 4,
   "id": "8d65da34",
   "metadata": {},
   "outputs": [],
   "source": [
    "require(showtext)\n",
    "font_add_google(name = \"Black Han Sans\", family = \"blackhansans\",\n",
    "                regular.wt = 400, bold.wt = 700)\n",
    "showtext_auto()"
   ]
  },
  {
   "cell_type": "markdown",
   "id": "e5ae04f0",
   "metadata": {},
   "source": [
    "### 3. 데이터 불러오기"
   ]
  },
  {
   "cell_type": "code",
   "execution_count": 5,
   "id": "2e9c8c74",
   "metadata": {},
   "outputs": [],
   "source": [
    "load(\"./06_geodataframe/06_apt_price.rdata\")      # 아파트 실거래 데이터\n",
    "load(\"./07_map/07_kde_high.rdata\")    # 최고가 래스터 이미지\n",
    "load(\"./07_map/07_kde_hot.rdata\")     # 급등지역 래스터 이미지\n",
    "load(\"./06_geodataframe/grid.rdata\")  # 서울시 경계선\n",
    "load(\"./06_geodataframe/bnd.rdata\")  # 서울시 1km 그리드"
   ]
  },
  {
   "cell_type": "markdown",
   "id": "93617cd6",
   "metadata": {},
   "source": [
    "### 4. 마커 클러스터링 설정"
   ]
  },
  {
   "cell_type": "code",
   "execution_count": 8,
   "id": "a4ff2b2f",
   "metadata": {},
   "outputs": [],
   "source": [
    "pcnt_10 <- as.numeric(quantile(apt_price$py, probs = seq(0, 1, by = .1))[2])\n",
    "pcnt_90 <- as.numeric(quantile(apt_price$py, probs = seq(0, 1, by = .1))[10])"
   ]
  },
  {
   "cell_type": "code",
   "execution_count": 9,
   "id": "61aef4f3",
   "metadata": {},
   "outputs": [],
   "source": [
    "load(\"./01_code/circle_marker/circle_marker.rdata\")\n",
    "circle.colors <- sample(x = c(\"red\", \"green\", \"blue\"), size = 1000, replace = T)"
   ]
  },
  {
   "cell_type": "markdown",
   "id": "baf4cfc7",
   "metadata": {},
   "source": [
    "### 5. 그리드 필터링"
   ]
  },
  {
   "cell_type": "code",
   "execution_count": 10,
   "id": "11749116",
   "metadata": {},
   "outputs": [],
   "source": [
    "library(sf)"
   ]
  },
  {
   "cell_type": "code",
   "execution_count": 11,
   "id": "3b187ef8",
   "metadata": {},
   "outputs": [],
   "source": [
    "grid <- grid %>% as(\"Spatial\")\n",
    "grid <- as(grid, \"sfc\")"
   ]
  },
  {
   "cell_type": "code",
   "execution_count": 12,
   "id": "a45fbc8f",
   "metadata": {},
   "outputs": [],
   "source": [
    "grid <- grid[which(sapply(st_contains(st_sf(grid), apt_price), length) > 0)]"
   ]
  },
  {
   "cell_type": "markdown",
   "id": "f544515e",
   "metadata": {},
   "source": [
    "### 6. UI 생성"
   ]
  },
  {
   "cell_type": "code",
   "execution_count": 18,
   "id": "b159da33",
   "metadata": {},
   "outputs": [],
   "source": [
    "ui <- fluidPage(\n",
    "    fluidRow(\n",
    "        column( 9, selectModUI(\"selectmap\"), div(style = \"height:45px\")),\n",
    "        column( 3, sliderInput(\"range_time\", \"Construction Year (건축 연도)\", \n",
    "                               sep = \"\", min = 1960, max = 2020, value = c(1970, 2020)),\n",
    "               sliderInput(\"range_area\", \"Area (면적)\", sep = \"\",\n",
    "                           min = 0,  max = 350, value = c(0, 200)), )),\n",
    "    \n",
    "    tabsetPanel(\n",
    "        tabPanel(\"Chart\",\n",
    "                column(4, h5(\"Price Range (가격 분포)\", align = \"center\"),\n",
    "                       plotOutput(\"density\", height = 300), ),\n",
    "                column(4, h5(\"Price Trends (가격 추세)\", align = \"center\"),\n",
    "                       plotOutput(\"regression\", height = 300)),\n",
    "                column(4, h5(\"PCA (주성분 분석)\", align = \"center\"),\n",
    "                       plotOutput(\"pca\", height = 300)), ),\n",
    "        tabPanel(\"Table\", DT::dataTableOutput(\"table\"))\n",
    "    )\n",
    ")"
   ]
  },
  {
   "cell_type": "markdown",
   "id": "26785aa2",
   "metadata": {},
   "source": [
    "### 7. 서버 생성"
   ]
  },
  {
   "cell_type": "code",
   "execution_count": 24,
   "id": "6f4fd93b",
   "metadata": {},
   "outputs": [],
   "source": [
    "server <- function(input, output, session) {\n",
    "\n",
    "\n",
    "    all = reactive({\n",
    "        all = subset(apt_price, \n",
    "                         con_year >= input$range_time[1] &\n",
    "                         con_year <= input$range_time[2] &\n",
    "                         area >= input$range_area[1] &\n",
    "                         area <= input$range_area[2])\n",
    "    return(all)}) \n",
    "\n",
    "    g_sel <- callModule(selectMod, \"selectmap\",\n",
    "                        leaflet() %>%\n",
    "                        addTiles(options = providerTileOptions(minZoom = 9, maxZoom = 18)) %>% \n",
    "                        addRasterImage(raster_high, \n",
    "                                       colors = colorNumeric(c(\"blue\", \"green\",\"yellow\",\"red\"),\n",
    "                                                             values(raster_high),\n",
    "                                                             na.color = \"transparent\"), \n",
    "                                       opacity = 0.4, group = \"2021 최고가\") %>%\n",
    "                        addRasterImage(raster_hot, \n",
    "                                       colors = colorNumeric(c(\"blue\", \"green\",\"yellow\",\"red\"), \n",
    "                                                             values(raster_hot),\n",
    "                                                             na.color = \"transparent\"),\n",
    "                                       opacity = 0.4, group = \"2021 급등지\") %>%\n",
    "                        addLayersControl(baseGroups = c(\"2021 최고가\", \"2021 급등지\"), \n",
    "                                         options = layersControlOptions(collapsed = FALSE)) %>%\n",
    "                        addPolygons(data = bnd, weight = 3, stroke = T,\n",
    "                                    color = \"red\", fillOpacity = 0) %>%\n",
    "                        addCircleMarkers(data = apt_price, \n",
    "                                         lng = unlist(map(apt_price$geometry,1)),\n",
    "                                         lat = unlist(map(apt_price$geometry,2)),\n",
    "                                         radius = 10, stroke = FALSE,\n",
    "                                         fillOpacity = 0.6, \n",
    "                                         fillColor = circle.colors, \n",
    "                                         weight = apt_price$py, \n",
    "                                         clusterOptions = markerClusterOptions(iconCreateFunction = JS(avg.formula))) %>%\n",
    "                        leafem::addFeatures(st_sf(grid), \n",
    "                            layerId = ~ seq_len(length(grid)), \n",
    "                            color = 'grey')\n",
    "    )\n",
    "\n",
    "\n",
    "    rv <- reactiveValues(intersect = NULL, selectgrid = NULL)                                 \n",
    "    observe({\n",
    "        gs <- g_sel()\n",
    "        rv$selectgrid <- st_sf(grid[as.numeric(gs[which(gs$selected == TRUE),\"id\"])])\n",
    "        if(length(rv$selectgrid) > 0) {\n",
    "            rv$intersect <- st_intersects(rv$selectgrid, all())\n",
    "            rv$sel <- st_drop_geometry(apt_price[apt_price[unlist(rv$intersect[1:10]),],])\n",
    "        } else {\n",
    "            rv$intersect <- NULL\n",
    "        }\n",
    "    })\n",
    "    \n",
    "    ### 탭1 - Density\n",
    "    output$density <- renderPlot({\n",
    "        if (nrow(rv$intersect) == 0)\n",
    "            return(NULL)\n",
    "        max_all  <- density(all()$py)  ; max_all <- max(max_all$y)\n",
    "        max_sel  <- density(rv$sel$py) ; max_sel <- max(max_sel$y)\n",
    "        plot_high  <- max(max_all, max_sel)\n",
    "        avg_all <- mean(all()$py)\n",
    "        avg_sel <- mean(rv$sel$py)\n",
    "        plot(stats::density(all()$py), xlab=NA, ylab=NA, ylim=c(0, plot_high),\n",
    "             col=\"blue\", lwd=3, main= NA)\n",
    "        abline(v = avg_all, lwd = 2, col = \"blue\", lty=2)\n",
    "        text(avg_all + (avg_all)*0.13, plot_high * 0.1, \n",
    "             sprintf(\"%.0f\", avg_all), srt=0.2, col = \"blue\")\n",
    "        lines(stats::density(rv$sel$py), ylim=c(0, plot_high), \n",
    "              col=\"red\", lwd=3, main= NA)\n",
    "        abline(v = avg_sel, lwd = 2, col = \"red\", lty=2)\n",
    "        text(avg_sel + (avg_sel)*0.13, plot_high * 0.3, \n",
    "             sprintf(\"%.0f\", avg_sel), srt=0.2, col = \"red\")\n",
    "  })\n",
    "    \n",
    "    ### 탭1 - regression\n",
    "    output$regression <- renderPlot({\n",
    "        if (nrow(rv$intersect) == 0)\n",
    "            return(NULL)\n",
    "        all1 <- all() %>% data.frame() %>% group_by(ym) %>%\n",
    "            summarise(all_avg_py = mean(py))\n",
    "        sel1 <- rv$sel %>% data.frame() %>% group_by(ym) %>%\n",
    "            summarise(sel_avg_py = mean(py))\n",
    "        fit_all1 <- lm(all1$all_avg_py ~ all1$ym)\n",
    "        fit_sel1 <- lm(sel1$sel_avg_py ~ sel1$ym)\n",
    "        coef_all <- round(summary(fit_all1)$coefficient[2], 1) * 365\n",
    "        coef_sel <- round(summary(fit_sel1)$coefficient[2], 1) * 365\n",
    "        grob_1 <- grobTree(textGrob(paste0(\"전체지역: \", coef_all, \"만원(평당)\"),\n",
    "                                    x = 0.05, y = 0.85, hjust = 0, \n",
    "                                    gp = gpar(col = \"blue\", fontsize = 13)))\n",
    "        grob_2 <- grobTree(textGrob(paste0(\"관심지역: \", coef_sel, \"만원(평당)\"), \n",
    "                                    x = 0.05, y = 0.95, hjust = 0, \n",
    "                                    gp = gpar(col = \"red\", fontsize = 16)))\n",
    "        gg <- ggplot(sel1, aes(x = ym , y = sel_avg_py)) + \n",
    "            geom_smooth(color = \"red\", size = 1.5, se = F) + \n",
    "            xlab(\"월\") + ylab(\"가격\") + \n",
    "            stat_smooth(method = \"lm\", colour = \"dark grey\", linetype = \"dashed\", se = F)\n",
    "        gg + geom_smooth(data = all1, aes(x = ym, y = all_avg_py), color = \"blue\", size = 1, se = F) +\n",
    "            annotation_custom(grob_1) + \n",
    "            annotation_custom(grob_2)\n",
    "    })\n",
    "    \n",
    "    ### 탭1 - pca\n",
    "    output$pca <- renderPlot({\n",
    "        if (nrow(rv$intersect) == 0)\n",
    "            return(NULL)\n",
    "        pca_01 <- rv$sel %>% group_by(apt_nm) %>% \n",
    "            summarise(avg_con_year = mean(con_year),\n",
    "                      avg_floor = mean(floor),\n",
    "                      avg_py = mean(py),\n",
    "                      avg_area = mean(area))\n",
    "        colnames(pca_01) <- c(\"apt_nm\", \"신축\", \"층수\", \"가격\", \"면적\")\n",
    "        m <- prcomp(~ 신축 + 층수 + 가격 + 면적, data = pca_01, scale = T)\n",
    "        autoplot(m, loadings.label = T, loadings.label.size = 4) + \n",
    "            geom_label_repel(aes(label = pca_01$apt_nm), size = 3, alpha = 0.7)\n",
    " \n",
    "    })\n",
    "\n",
    "    #### 탭2 - Table\n",
    "    output$table <- DT::renderDataTable({\n",
    "                dplyr::select(rv$sel, ymd, addr_1, apt_nm, price, area, floor, py) %>%\n",
    "                    arrange(desc(py))}, \n",
    "                extensions = 'Buttons', \n",
    "                        options = list(dom = 'Bfrtip', scrollY = 300, \n",
    "                                       scrollCollapse = T, paging = TRUE, buttons = c('excel')))\n",
    "}"
   ]
  },
  {
   "cell_type": "markdown",
   "id": "a4189a50",
   "metadata": {},
   "source": [
    "### 애플리케이션 실행"
   ]
  },
  {
   "cell_type": "code",
   "execution_count": null,
   "id": "bb2c0379",
   "metadata": {},
   "outputs": [],
   "source": [
    "shinyApp(ui, server)"
   ]
  }
 ],
 "metadata": {
  "kernelspec": {
   "display_name": "R 4.1.3",
   "language": "R",
   "name": "ir32"
  },
  "language_info": {
   "codemirror_mode": "r",
   "file_extension": ".r",
   "mimetype": "text/x-r-source",
   "name": "R",
   "pygments_lexer": "r",
   "version": "4.1.3"
  }
 },
 "nbformat": 4,
 "nbformat_minor": 5
}
