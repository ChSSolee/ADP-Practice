{
 "cells": [
  {
   "cell_type": "code",
   "execution_count": 2,
   "id": "6b493d06",
   "metadata": {},
   "outputs": [],
   "source": [
    "library(tidyverse)\n",
    "ggplot2::theme_set(theme_bw())\n",
    "\n",
    "library(showtext)\n",
    "font_add(\"nanum\", \"NanumGothic.ttf\")\n",
    "showtext_auto()\n",
    "\n",
    "font_add_google(name = \"Black Han Sans\", family = \"blackhansans\")\n",
    "showtext_auto()\n",
    "\n",
    "setwd(\"C:/Soongsil/R/Textmining\")"
   ]
  },
  {
   "cell_type": "markdown",
   "id": "e518bd74",
   "metadata": {},
   "source": [
    "### 04-01 감정사전 활용"
   ]
  },
  {
   "cell_type": "code",
   "execution_count": 3,
   "id": "dc7d8281",
   "metadata": {},
   "outputs": [
    {
     "name": "stderr",
     "output_type": "stream",
     "text": [
      "\u001b[1mRows: \u001b[22m\u001b[34m14854\u001b[39m \u001b[1mColumns: \u001b[22m\u001b[34m2\u001b[39m\n",
      "\u001b[36m--\u001b[39m \u001b[1mColumn specification\u001b[22m \u001b[36m------------------------------------------------------------------------------------------------\u001b[39m\n",
      "\u001b[1mDelimiter:\u001b[22m \",\"\n",
      "\u001b[31mchr\u001b[39m (1): word\n",
      "\u001b[32mdbl\u001b[39m (1): polarity\n",
      "\n",
      "\u001b[36mi\u001b[39m Use `spec()` to retrieve the full column specification for this data.\n",
      "\u001b[36mi\u001b[39m Specify the column types or set `show_col_types = FALSE` to quiet this message.\n"
     ]
    }
   ],
   "source": [
    "dic <- read_csv(\"knu_sentiment_lexicon.csv\")"
   ]
  },
  {
   "cell_type": "markdown",
   "id": "485616ed",
   "metadata": {},
   "source": [
    "- word : 감정단어\n",
    "- polarity : 감정의 정도"
   ]
  },
  {
   "cell_type": "code",
   "execution_count": 6,
   "id": "2d19e394",
   "metadata": {},
   "outputs": [
    {
     "name": "stdout",
     "output_type": "stream",
     "text": [
      "\u001b[90m# A tibble: 14,854 x 2\u001b[39m\n",
      "   word  polarity\n",
      "   \u001b[3m\u001b[90m<chr>\u001b[39m\u001b[23m    \u001b[3m\u001b[90m<dbl>\u001b[39m\u001b[23m\n",
      "\u001b[90m 1\u001b[39m ㅡㅡ        -\u001b[31m1\u001b[39m\n",
      "\u001b[90m 2\u001b[39m ㅠㅠ        -\u001b[31m1\u001b[39m\n",
      "\u001b[90m 3\u001b[39m ㅠ_ㅠ       -\u001b[31m1\u001b[39m\n",
      "\u001b[90m 4\u001b[39m ㅠ          -\u001b[31m1\u001b[39m\n",
      "\u001b[90m 5\u001b[39m ㅜㅡ        -\u001b[31m1\u001b[39m\n",
      "\u001b[90m 6\u001b[39m ㅜㅜ        -\u001b[31m1\u001b[39m\n",
      "\u001b[90m 7\u001b[39m ㅜ_ㅜ       -\u001b[31m1\u001b[39m\n",
      "\u001b[90m 8\u001b[39m ㅜ.ㅜ       -\u001b[31m1\u001b[39m\n",
      "\u001b[90m 9\u001b[39m ㅜ          -\u001b[31m1\u001b[39m\n",
      "\u001b[90m10\u001b[39m ㅗ          -\u001b[31m1\u001b[39m\n",
      "\u001b[90m# ... with 14,844 more rows\u001b[39m\n"
     ]
    }
   ],
   "source": [
    "dic %>% print"
   ]
  },
  {
   "cell_type": "code",
   "execution_count": 7,
   "id": "ec888598",
   "metadata": {},
   "outputs": [
    {
     "data": {
      "text/html": [
       "<table class=\"dataframe\">\n",
       "<caption>A tibble: 3 × 2</caption>\n",
       "<thead>\n",
       "\t<tr><th scope=col>sentiment</th><th scope=col>n</th></tr>\n",
       "\t<tr><th scope=col>&lt;chr&gt;</th><th scope=col>&lt;int&gt;</th></tr>\n",
       "</thead>\n",
       "<tbody>\n",
       "\t<tr><td>neg</td><td>9829</td></tr>\n",
       "\t<tr><td>neu</td><td> 154</td></tr>\n",
       "\t<tr><td>pos</td><td>4871</td></tr>\n",
       "</tbody>\n",
       "</table>\n"
      ],
      "text/latex": [
       "A tibble: 3 × 2\n",
       "\\begin{tabular}{ll}\n",
       " sentiment & n\\\\\n",
       " <chr> & <int>\\\\\n",
       "\\hline\n",
       "\t neg & 9829\\\\\n",
       "\t neu &  154\\\\\n",
       "\t pos & 4871\\\\\n",
       "\\end{tabular}\n"
      ],
      "text/markdown": [
       "\n",
       "A tibble: 3 × 2\n",
       "\n",
       "| sentiment &lt;chr&gt; | n &lt;int&gt; |\n",
       "|---|---|\n",
       "| neg | 9829 |\n",
       "| neu |  154 |\n",
       "| pos | 4871 |\n",
       "\n"
      ],
      "text/plain": [
       "  sentiment n   \n",
       "1 neg       9829\n",
       "2 neu        154\n",
       "3 pos       4871"
      ]
     },
     "metadata": {},
     "output_type": "display_data"
    }
   ],
   "source": [
    "dic %>% mutate(sentiment = ifelse(polarity >= 1, \"pos\",\n",
    "                                 ifelse(polarity <= -1, \"neg\", \"neu\"))) %>%\n",
    "    count(sentiment)"
   ]
  },
  {
   "cell_type": "markdown",
   "id": "aaae01ba",
   "metadata": {},
   "source": [
    "### 문장의 감정 점수 구하기"
   ]
  },
  {
   "cell_type": "code",
   "execution_count": 11,
   "id": "013e8c2d",
   "metadata": {},
   "outputs": [],
   "source": [
    "df <- tibble(sentence = c(\"디자인 예쁘고 마감도 좋아서 만족스럽다.\",\n",
    "                          \"디자인은 괜찮다. 그런데 마감이 나쁘고 가격도 비싸다.\"))"
   ]
  },
  {
   "cell_type": "code",
   "execution_count": 12,
   "id": "312eccba",
   "metadata": {},
   "outputs": [],
   "source": [
    "library(tidytext)\n",
    "df <- df %>% \n",
    "  unnest_tokens(input = sentence,\n",
    "                output = word,\n",
    "                token = \"words\",\n",
    "                drop = F)"
   ]
  },
  {
   "cell_type": "code",
   "execution_count": 14,
   "id": "cba22a36",
   "metadata": {},
   "outputs": [
    {
     "name": "stdout",
     "output_type": "stream",
     "text": [
      "\u001b[90m# A tibble: 12 x 2\u001b[39m\n",
      "   sentence                                             word      \n",
      "   \u001b[3m\u001b[90m<chr>\u001b[39m\u001b[23m                                                \u001b[3m\u001b[90m<chr>\u001b[39m\u001b[23m     \n",
      "\u001b[90m 1\u001b[39m 디자인 예쁘고 마감도 좋아서 만족스럽다.              디자인    \n",
      "\u001b[90m 2\u001b[39m 디자인 예쁘고 마감도 좋아서 만족스럽다.              예쁘고    \n",
      "\u001b[90m 3\u001b[39m 디자인 예쁘고 마감도 좋아서 만족스럽다.              마감도    \n",
      "\u001b[90m 4\u001b[39m 디자인 예쁘고 마감도 좋아서 만족스럽다.              좋아서    \n",
      "\u001b[90m 5\u001b[39m 디자인 예쁘고 마감도 좋아서 만족스럽다.              만족스럽다\n",
      "\u001b[90m 6\u001b[39m 디자인은 괜찮다. 그런데 마감이 나쁘고 가격도 비싸다. 디자인은  \n",
      "\u001b[90m 7\u001b[39m 디자인은 괜찮다. 그런데 마감이 나쁘고 가격도 비싸다. 괜찮다    \n",
      "\u001b[90m 8\u001b[39m 디자인은 괜찮다. 그런데 마감이 나쁘고 가격도 비싸다. 그런데    \n",
      "\u001b[90m 9\u001b[39m 디자인은 괜찮다. 그런데 마감이 나쁘고 가격도 비싸다. 마감이    \n",
      "\u001b[90m10\u001b[39m 디자인은 괜찮다. 그런데 마감이 나쁘고 가격도 비싸다. 나쁘고    \n",
      "\u001b[90m11\u001b[39m 디자인은 괜찮다. 그런데 마감이 나쁘고 가격도 비싸다. 가격도    \n",
      "\u001b[90m12\u001b[39m 디자인은 괜찮다. 그런데 마감이 나쁘고 가격도 비싸다. 비싸다    \n"
     ]
    }
   ],
   "source": [
    "df %>% print"
   ]
  },
  {
   "cell_type": "markdown",
   "id": "d0d5af32",
   "metadata": {},
   "source": [
    "### 단어에 감정 점수 부여"
   ]
  },
  {
   "cell_type": "code",
   "execution_count": 15,
   "id": "485e1360",
   "metadata": {},
   "outputs": [],
   "source": [
    "df <- df %>%\n",
    "    left_join(dic, by = \"word\") %>%\n",
    "    mutate(polarity = ifelse(is.na(polarity), 0, polarity))"
   ]
  },
  {
   "cell_type": "markdown",
   "id": "c585d7a4",
   "metadata": {},
   "source": [
    "### 문장별로 감정 점수 합산"
   ]
  },
  {
   "cell_type": "code",
   "execution_count": 17,
   "id": "09d6c9fc",
   "metadata": {},
   "outputs": [],
   "source": [
    "score_df <- df %>%\n",
    "    group_by(sentence) %>%\n",
    "    summarise(score = sum(polarity))"
   ]
  },
  {
   "cell_type": "code",
   "execution_count": 18,
   "id": "e1d30b1d",
   "metadata": {},
   "outputs": [
    {
     "name": "stdout",
     "output_type": "stream",
     "text": [
      "\u001b[90m# A tibble: 2 x 2\u001b[39m\n",
      "  sentence                                             score\n",
      "  \u001b[3m\u001b[90m<chr>\u001b[39m\u001b[23m                                                \u001b[3m\u001b[90m<dbl>\u001b[39m\u001b[23m\n",
      "\u001b[90m1\u001b[39m 디자인 예쁘고 마감도 좋아서 만족스럽다.                  6\n",
      "\u001b[90m2\u001b[39m 디자인은 괜찮다. 그런데 마감이 나쁘고 가격도 비싸다.    -\u001b[31m3\u001b[39m\n"
     ]
    }
   ],
   "source": [
    "score_df %>% print"
   ]
  },
  {
   "cell_type": "markdown",
   "id": "bfc8cdc3",
   "metadata": {},
   "source": [
    "### 04-02 댓글 감정 분석"
   ]
  },
  {
   "cell_type": "code",
   "execution_count": 25,
   "id": "455b77f9",
   "metadata": {},
   "outputs": [
    {
     "name": "stderr",
     "output_type": "stream",
     "text": [
      "\u001b[1mRows: \u001b[22m\u001b[34m4150\u001b[39m \u001b[1mColumns: \u001b[22m\u001b[34m5\u001b[39m\n",
      "\u001b[36m--\u001b[39m \u001b[1mColumn specification\u001b[22m \u001b[36m------------------------------------------------------------------------------------------------\u001b[39m\n",
      "\u001b[1mDelimiter:\u001b[22m \",\"\n",
      "\u001b[31mchr\u001b[39m  (4): reply, press, title, url\n",
      "\u001b[34mdttm\u001b[39m (1): reg_time\n",
      "\n",
      "\u001b[36mi\u001b[39m Use `spec()` to retrieve the full column specification for this data.\n",
      "\u001b[36mi\u001b[39m Specify the column types or set `show_col_types = FALSE` to quiet this message.\n"
     ]
    },
    {
     "name": "stdout",
     "output_type": "stream",
     "text": [
      "\u001b[90m# A tibble: 4,150 x 5\u001b[39m\n",
      "   reg_time            reply                                   press title url  \n",
      "   \u001b[3m\u001b[90m<dttm>\u001b[39m\u001b[23m              \u001b[3m\u001b[90m<chr>\u001b[39m\u001b[23m                                   \u001b[3m\u001b[90m<chr>\u001b[39m\u001b[23m \u001b[3m\u001b[90m<chr>\u001b[39m\u001b[23m \u001b[3m\u001b[90m<chr>\u001b[39m\u001b[23m\n",
      "\u001b[90m 1\u001b[39m 2020-02-10 \u001b[90m16:59:02\u001b[39m \u001b[90m\"\u001b[39m정말 우리 집에 좋은 일이 생겨 기쁘고 ~ MBC   '기~  http~\n",
      "\u001b[90m 2\u001b[39m 2020-02-10 \u001b[90m13:32:24\u001b[39m \u001b[90m\"\u001b[39m와 너무 기쁘다! 이 시국에 정말 내 일~  SBS   [영~  http~\n",
      "\u001b[90m 3\u001b[39m 2020-02-10 \u001b[90m12:30:09\u001b[39m \u001b[90m\"\u001b[39m우리나라의 영화감독분들 그리고 앞으로~ 한겨~ ‘기~  http~\n",
      "\u001b[90m 4\u001b[39m 2020-02-10 \u001b[90m13:08:22\u001b[39m \u001b[90m\"\u001b[39m봉준호 감독과 우리나라 대한민국 모두 ~ 한겨~ ‘기~  http~\n",
      "\u001b[90m 5\u001b[39m 2020-02-10 \u001b[90m16:25:41\u001b[39m \u001b[90m\"\u001b[39m노벨상 탄느낌이네요\\n축하축하 합니다\u001b[90m\"\u001b[39m  한겨~ ‘기~  http~\n",
      "\u001b[90m 6\u001b[39m 2020-02-10 \u001b[90m12:31:45\u001b[39m \u001b[90m\"\u001b[39m기생충 상 받을때 박수 쳤어요.감독상도~ 한겨~ ‘기~  http~\n",
      "\u001b[90m 7\u001b[39m 2020-02-10 \u001b[90m12:31:33\u001b[39m \u001b[90m\"\u001b[39m대한민국 영화사를 새로 쓰고 계시네요 ~ 한겨~ ‘기~  http~\n",
      "\u001b[90m 8\u001b[39m 2020-02-11 \u001b[90m09:20:52\u001b[39m \u001b[90m\"\u001b[39m저런게 아카데미상 받으면  '태극기 휘~  한겨~ ‘기~  http~\n",
      "\u001b[90m 9\u001b[39m 2020-02-10 \u001b[90m20:53:27\u001b[39m \u001b[90m\"\u001b[39m다시한번 보여주세요 영화관에서 보고싶~ 한겨~ ‘기~  http~\n",
      "\u001b[90m10\u001b[39m 2020-02-10 \u001b[90m20:22:41\u001b[39m \u001b[90m\"\u001b[39m대한민국 BTS와함께  봉준호감독님까지\\~ 한겨~ ‘기~  http~\n",
      "\u001b[90m# ... with 4,140 more rows\u001b[39m\n"
     ]
    }
   ],
   "source": [
    "raw_news_comment <- read_csv(\"news_comment_parasite.csv\")\n",
    "raw_news_comment %>% print"
   ]
  },
  {
   "cell_type": "markdown",
   "id": "816da2b8",
   "metadata": {},
   "source": [
    "### 기본적인 전처리\n",
    "- 고유 번호 변수 생성 : ```mutate()```와 ```row_number()```를 이용해 고유 번호 ```id```추가\n",
    "- html 특수 문자 제거 : 웹에서 만들어진 텍스트는 &npsp;등의 html 특수 문자가 포함되어 있어서 내용을 알아보기 불편\n",
    "- 특수 문자와 두 글자 미만 단어 포함"
   ]
  },
  {
   "cell_type": "markdown",
   "id": "bd814984",
   "metadata": {},
   "source": [
    "### ```replace_html()``` : html태그를 공백으로 바꿈"
   ]
  },
  {
   "cell_type": "code",
   "execution_count": 22,
   "id": "ee49418f",
   "metadata": {},
   "outputs": [],
   "source": [
    "library(textclean)"
   ]
  },
  {
   "cell_type": "code",
   "execution_count": 24,
   "id": "2ba1ec5f",
   "metadata": {},
   "outputs": [
    {
     "name": "stdout",
     "output_type": "stream",
     "text": [
      "Rows: 4,150\n",
      "Columns: 6\n",
      "$ reg_time \u001b[3m\u001b[90m<dttm>\u001b[39m\u001b[23m 2020-02-10 16:59:02, 2020-02-10 13:32:24, 2020-02-10 12:30:0~\n",
      "$ reply    \u001b[3m\u001b[90m<chr>\u001b[39m\u001b[23m \"정말 우리 집에 좋은 일이 생겨 기쁘고 행복한 것처럼!! 나의 일~\n",
      "$ press    \u001b[3m\u001b[90m<chr>\u001b[39m\u001b[23m \"MBC\", \"SBS\", \"한겨레\", \"한겨레\", \"한겨레\", \"한겨레\", \"한겨레~\n",
      "$ title    \u001b[3m\u001b[90m<chr>\u001b[39m\u001b[23m \"'기생충' 아카데미 작품상까지 4관왕…영화사 새로 썼다\", \"[영~\n",
      "$ url      \u001b[3m\u001b[90m<chr>\u001b[39m\u001b[23m \"https://news.naver.com/main/read.nhn?mode=LSD&mid=sec&sid1=1~\n",
      "$ id       \u001b[3m\u001b[90m<int>\u001b[39m\u001b[23m 1, 2, 3, 4, 5, 6, 7, 8, 9, 10, 11, 12, 13, 14, 15, 16, 17, 18~\n"
     ]
    }
   ],
   "source": [
    "news_comment <- raw_news_comment %>%\n",
    "    mutate(id = row_number(),\n",
    "          reply = str_squish(replace_html(reply)))\n",
    "\n",
    "glimpse(news_comment)"
   ]
  },
  {
   "cell_type": "markdown",
   "id": "fda01c86",
   "metadata": {},
   "source": [
    "### 단어 기준으로 토큰화, 감정 점수 부여"
   ]
  },
  {
   "cell_type": "code",
   "execution_count": 27,
   "id": "080d1fb5",
   "metadata": {},
   "outputs": [
    {
     "name": "stdout",
     "output_type": "stream",
     "text": [
      "\u001b[90m# A tibble: 37,718 x 2\u001b[39m\n",
      "   word   reply                                                                \n",
      "   \u001b[3m\u001b[90m<chr>\u001b[39m\u001b[23m  \u001b[3m\u001b[90m<chr>\u001b[39m\u001b[23m                                                                \n",
      "\u001b[90m 1\u001b[39m 정말   정말 우리 집에 좋은 일이 생겨 기쁘고 행복한 것처럼!! 나의 일인 양 행~\n",
      "\u001b[90m 2\u001b[39m 우리   정말 우리 집에 좋은 일이 생겨 기쁘고 행복한 것처럼!! 나의 일인 양 행~\n",
      "\u001b[90m 3\u001b[39m 집에   정말 우리 집에 좋은 일이 생겨 기쁘고 행복한 것처럼!! 나의 일인 양 행~\n",
      "\u001b[90m 4\u001b[39m 좋은   정말 우리 집에 좋은 일이 생겨 기쁘고 행복한 것처럼!! 나의 일인 양 행~\n",
      "\u001b[90m 5\u001b[39m 일이   정말 우리 집에 좋은 일이 생겨 기쁘고 행복한 것처럼!! 나의 일인 양 행~\n",
      "\u001b[90m 6\u001b[39m 생겨   정말 우리 집에 좋은 일이 생겨 기쁘고 행복한 것처럼!! 나의 일인 양 행~\n",
      "\u001b[90m 7\u001b[39m 기쁘고 정말 우리 집에 좋은 일이 생겨 기쁘고 행복한 것처럼!! 나의 일인 양 행~\n",
      "\u001b[90m 8\u001b[39m 행복한 정말 우리 집에 좋은 일이 생겨 기쁘고 행복한 것처럼!! 나의 일인 양 행~\n",
      "\u001b[90m 9\u001b[39m 것처럼 정말 우리 집에 좋은 일이 생겨 기쁘고 행복한 것처럼!! 나의 일인 양 행~\n",
      "\u001b[90m10\u001b[39m 나의   정말 우리 집에 좋은 일이 생겨 기쁘고 행복한 것처럼!! 나의 일인 양 행~\n",
      "\u001b[90m# ... with 37,708 more rows\u001b[39m\n"
     ]
    }
   ],
   "source": [
    "word_comment <- news_comment %>%\n",
    "    unnest_tokens(input = reply,\n",
    "                 output = word,\n",
    "                 token = \"words\",\n",
    "                 drop = F)\n",
    "\n",
    "word_comment %>%\n",
    "    select(word, reply) %>% print"
   ]
  },
  {
   "cell_type": "code",
   "execution_count": 28,
   "id": "4a1f32fb",
   "metadata": {},
   "outputs": [
    {
     "name": "stdout",
     "output_type": "stream",
     "text": [
      "\u001b[90m# A tibble: 37,718 x 2\u001b[39m\n",
      "   word   polarity\n",
      "   \u001b[3m\u001b[90m<chr>\u001b[39m\u001b[23m     \u001b[3m\u001b[90m<dbl>\u001b[39m\u001b[23m\n",
      "\u001b[90m 1\u001b[39m 정말          0\n",
      "\u001b[90m 2\u001b[39m 우리          0\n",
      "\u001b[90m 3\u001b[39m 집에          0\n",
      "\u001b[90m 4\u001b[39m 좋은          2\n",
      "\u001b[90m 5\u001b[39m 일이          0\n",
      "\u001b[90m 6\u001b[39m 생겨          0\n",
      "\u001b[90m 7\u001b[39m 기쁘고        2\n",
      "\u001b[90m 8\u001b[39m 행복한        2\n",
      "\u001b[90m 9\u001b[39m 것처럼        0\n",
      "\u001b[90m10\u001b[39m 나의          0\n",
      "\u001b[90m# ... with 37,708 more rows\u001b[39m\n"
     ]
    }
   ],
   "source": [
    "word_comment <- word_comment %>%\n",
    "    left_join(dic, by = \"word\") %>%\n",
    "    mutate(polarity = ifelse(is.na(polarity), 0, polarity))\n",
    "\n",
    "word_comment %>%\n",
    "    select(word, polarity) %>% print"
   ]
  },
  {
   "cell_type": "markdown",
   "id": "9d58df60",
   "metadata": {},
   "source": [
    "### 감정 분류"
   ]
  },
  {
   "cell_type": "code",
   "execution_count": 29,
   "id": "5beec4eb",
   "metadata": {},
   "outputs": [],
   "source": [
    "word_comment <- word_comment %>%\n",
    "  mutate(sentiment = ifelse(polarity ==  2, \"pos\",\n",
    "                     ifelse(polarity == -2, \"neg\", \"neu\")))"
   ]
  },
  {
   "cell_type": "code",
   "execution_count": 31,
   "id": "28f5e341",
   "metadata": {},
   "outputs": [
    {
     "name": "stdout",
     "output_type": "stream",
     "text": [
      "\u001b[90m# A tibble: 3 x 2\u001b[39m\n",
      "  sentiment     n\n",
      "  \u001b[3m\u001b[90m<chr>\u001b[39m\u001b[23m     \u001b[3m\u001b[90m<int>\u001b[39m\u001b[23m\n",
      "\u001b[90m1\u001b[39m neg         285\n",
      "\u001b[90m2\u001b[39m neu       \u001b[4m3\u001b[24m\u001b[4m6\u001b[24m671\n",
      "\u001b[90m3\u001b[39m pos         762\n"
     ]
    }
   ],
   "source": [
    "word_comment %>%\n",
    "  count(sentiment) %>% print"
   ]
  },
  {
   "cell_type": "code",
   "execution_count": 34,
   "id": "2cfd3075",
   "metadata": {},
   "outputs": [
    {
     "name": "stdout",
     "output_type": "stream",
     "text": [
      "\u001b[90m# A tibble: 22 x 3\u001b[39m\n",
      "\u001b[90m# Groups:   sentiment [2]\u001b[39m\n",
      "   sentiment word       n\n",
      "   \u001b[3m\u001b[90m<chr>\u001b[39m\u001b[23m     \u001b[3m\u001b[90m<chr>\u001b[39m\u001b[23m  \u001b[3m\u001b[90m<int>\u001b[39m\u001b[23m\n",
      "\u001b[90m 1\u001b[39m neg       소름      56\n",
      "\u001b[90m 2\u001b[39m neg       소름이    16\n",
      "\u001b[90m 3\u001b[39m neg       아니다    15\n",
      "\u001b[90m 4\u001b[39m neg       우울한     9\n",
      "\u001b[90m 5\u001b[39m neg       해         8\n",
      "\u001b[90m 6\u001b[39m neg       미친       7\n",
      "\u001b[90m 7\u001b[39m neg       가난한     5\n",
      "\u001b[90m 8\u001b[39m neg       어려운     5\n",
      "\u001b[90m 9\u001b[39m neg       힘든       5\n",
      "\u001b[90m10\u001b[39m neg       더러운     4\n",
      "\u001b[90m# ... with 12 more rows\u001b[39m\n"
     ]
    }
   ],
   "source": [
    "top10_sentiment <- word_comment %>%\n",
    "  filter(sentiment != \"neu\") %>%\n",
    "  count(sentiment, word) %>%\n",
    "  group_by(sentiment) %>%\n",
    "  slice_max(n, n = 10)\n",
    "\n",
    "top10_sentiment %>% print"
   ]
  },
  {
   "cell_type": "code",
   "execution_count": 36,
   "id": "f7f993f1",
   "metadata": {},
   "outputs": [
    {
     "data": {
      "image/png": "[encoded data removed]",
      "text/plain": [
       "plot without title"
      ]
     },
     "metadata": {
      "image/png": {
       "height": 420,
       "width": 420
      }
     },
     "output_type": "display_data"
    }
   ],
   "source": [
    "font_add_google(name = \"Black Han Sans\", family = \"blackhansans\")\n",
    "showtext_auto()\n",
    "\n",
    "ggplot(top10_sentiment, aes(x = reorder(word, n), \n",
    "                            y = n, \n",
    "                            fill = sentiment)) +\n",
    "  geom_col() +\n",
    "  coord_flip() +\n",
    "  geom_text(aes(label = n), hjust = -0.3) +\n",
    "  facet_wrap(~ sentiment, scales = \"free\") +\n",
    "  scale_y_continuous(expand = expansion(mult = c(0.05, 0.15))) +  \n",
    "  labs(x = NULL) +\n",
    "  theme(text = element_text(family = \"blackhansans\"))"
   ]
  },
  {
   "cell_type": "markdown",
   "id": "4f80f716",
   "metadata": {},
   "source": [
    "### 댓글별 감정 점수 구하고 내용 탐색"
   ]
  },
  {
   "cell_type": "code",
   "execution_count": 39,
   "id": "254f979c",
   "metadata": {},
   "outputs": [
    {
     "name": "stderr",
     "output_type": "stream",
     "text": [
      "\u001b[1m\u001b[22m`summarise()` has grouped output by 'id'. You can override using the `.groups` argument.\n"
     ]
    },
    {
     "name": "stdout",
     "output_type": "stream",
     "text": [
      "\u001b[90m# A tibble: 4,140 x 2\u001b[39m\n",
      "   score reply                                                                  \n",
      "   \u001b[3m\u001b[90m<dbl>\u001b[39m\u001b[23m \u001b[3m\u001b[90m<chr>\u001b[39m\u001b[23m                                                                  \n",
      "\u001b[90m 1\u001b[39m    11 아니 다른상을 받은것도 충분히 대단하고 굉장하지만 최고의 영예인 작품상~\n",
      "\u001b[90m 2\u001b[39m     9 봉준호의 위대한 업적은 진보 영화계의 위대한 업적이고 대한민국의 업적입~\n",
      "\u001b[90m 3\u001b[39m     7 이 수상소식을 듣고 억수로 기뻐하는 가족이 있을것 같다. SNS를 통해 자기~\n",
      "\u001b[90m 4\u001b[39m     7 감사 감사 감사 수상 소감도 3관왕 답네요                                \n",
      "\u001b[90m 5\u001b[39m     6 정말 우리 집에 좋은 일이 생겨 기쁘고 행복한 것처럼!! 나의 일인 양 행복~\n",
      "\u001b[90m 6\u001b[39m     6 와 너무 기쁘다! 이 시국에 정말 내 일같이 기쁘고 감사하다!!! 축하드려요~\n",
      "\u001b[90m 7\u001b[39m     6 축하 축하 축하 모두들 수고 하셨어요 기생충 화이팅                      \n",
      "\u001b[90m 8\u001b[39m     6 축하!!!! 축하!!!!! 오스카의 정복은 무엇보다 시나리오의 힘이다. 작가의 ~\n",
      "\u001b[90m 9\u001b[39m     6 조여정 ㆍ예쁜얼굴때문에 연기력을 제대로 평가받지 못해 안타깝던 내가 좋~\n",
      "\u001b[90m10\u001b[39m     6 좋은 걸 좋다고 말하지 못하는 인간들이 참 불쌍해지네....댓글 보니 인생~ \n",
      "\u001b[90m# ... with 4,130 more rows\u001b[39m\n",
      "\u001b[90m# A tibble: 4,140 x 2\u001b[39m\n",
      "   score reply                                                                  \n",
      "   \u001b[3m\u001b[90m<dbl>\u001b[39m\u001b[23m \u001b[3m\u001b[90m<chr>\u001b[39m\u001b[23m                                                                  \n",
      "\u001b[90m 1\u001b[39m    -\u001b[31m7\u001b[39m 기생충 영화 한국인 으로써 싫다 대단히 싫다!! 가난한 서민들의 마지막 자~\n",
      "\u001b[90m 2\u001b[39m    -\u001b[31m6\u001b[39m 이 페미민국이 잘 되는 게 아주 싫다. 최악의 나쁜일들과 불운, 불행, 어둡~\n",
      "\u001b[90m 3\u001b[39m    -\u001b[31m5\u001b[39m 특정 인물의 성공을 국가의 부흥으로 연관짓는 것은 미개한 발상이다. 봉준~\n",
      "\u001b[90m 4\u001b[39m    -\u001b[31m4\u001b[39m 좌파들이 나라 망신 다 시킨다..ㅠ 설레발 오지게 치더니..꼴랑 각본상 하~ \n",
      "\u001b[90m 5\u001b[39m    -\u001b[31m4\u001b[39m 부패한 386 민주화 세대 정권의 무분별한 포퓰리즘으로 탄생한 좀비들의 살~\n",
      "\u001b[90m 6\u001b[39m    -\u001b[31m4\u001b[39m 기생충 내용은 좋은데 제목이 그래요. 극 중 송강호가족이 부잣집에 대해서~\n",
      "\u001b[90m 7\u001b[39m    -\u001b[31m4\u001b[39m 이런 감독과 이런 배우보고 좌좀 이라고 지1랄하던 그분들 다 어디계시냐? ~\n",
      "\u001b[90m 8\u001b[39m    -\u001b[31m4\u001b[39m 축하합니다. 근데 현실 세계인 한국에선 그보다 훨씬 나쁜 넘인 조로남불 ~ \n",
      "\u001b[90m 9\u001b[39m    -\u001b[31m4\u001b[39m 큰일이다....국제적 망신이다...전 세계사람들이 우리나라를 기생충으로 보~\n",
      "\u001b[90m10\u001b[39m    -\u001b[31m4\u001b[39m 더럽고 추잡한 그들만의 리그                                            \n",
      "\u001b[90m# ... with 4,130 more rows\u001b[39m\n"
     ]
    }
   ],
   "source": [
    "score_comment <- word_comment %>%\n",
    "  group_by(id, reply) %>%\n",
    "  summarise(score = sum(polarity)) %>%\n",
    "  ungroup()\n",
    "\n",
    "score_comment %>% \n",
    "    select(score, reply) %>% \n",
    "    arrange(-score) %>% print\n",
    "\n",
    "score_comment %>% \n",
    "    select(score, reply) %>% \n",
    "    arrange(score) %>% print"
   ]
  },
  {
   "cell_type": "markdown",
   "id": "0a4111d0",
   "metadata": {},
   "source": [
    "### 감정 경향 탐색"
   ]
  },
  {
   "cell_type": "markdown",
   "id": "0451b283",
   "metadata": {},
   "source": [
    "감정 점수 빈도"
   ]
  },
  {
   "cell_type": "code",
   "execution_count": 40,
   "id": "4c194c17",
   "metadata": {},
   "outputs": [
    {
     "name": "stdout",
     "output_type": "stream",
     "text": [
      "\u001b[90m# A tibble: 17 x 2\u001b[39m\n",
      "   score     n\n",
      "   \u001b[3m\u001b[90m<dbl>\u001b[39m\u001b[23m \u001b[3m\u001b[90m<int>\u001b[39m\u001b[23m\n",
      "\u001b[90m 1\u001b[39m    -\u001b[31m7\u001b[39m     1\n",
      "\u001b[90m 2\u001b[39m    -\u001b[31m6\u001b[39m     1\n",
      "\u001b[90m 3\u001b[39m    -\u001b[31m5\u001b[39m     1\n",
      "\u001b[90m 4\u001b[39m    -\u001b[31m4\u001b[39m    17\n",
      "\u001b[90m 5\u001b[39m    -\u001b[31m3\u001b[39m    35\n",
      "\u001b[90m 6\u001b[39m    -\u001b[31m2\u001b[39m   175\n",
      "\u001b[90m 7\u001b[39m    -\u001b[31m1\u001b[39m   206\n",
      "\u001b[90m 8\u001b[39m     0  \u001b[4m2\u001b[24m897\n",
      "\u001b[90m 9\u001b[39m     1   222\n",
      "\u001b[90m10\u001b[39m     2   432\n",
      "\u001b[90m11\u001b[39m     3    57\n",
      "\u001b[90m12\u001b[39m     4    71\n",
      "\u001b[90m13\u001b[39m     5     7\n",
      "\u001b[90m14\u001b[39m     6    14\n",
      "\u001b[90m15\u001b[39m     7     2\n",
      "\u001b[90m16\u001b[39m     9     1\n",
      "\u001b[90m17\u001b[39m    11     1\n"
     ]
    }
   ],
   "source": [
    "score_comment %>%\n",
    "  count(score) %>% print"
   ]
  },
  {
   "cell_type": "markdown",
   "id": "005079f7",
   "metadata": {},
   "source": [
    "그래프"
   ]
  },
  {
   "cell_type": "code",
   "execution_count": 44,
   "id": "32d11eab",
   "metadata": {},
   "outputs": [
    {
     "name": "stdout",
     "output_type": "stream",
     "text": [
      "\u001b[90m# A tibble: 3 x 3\u001b[39m\n",
      "  sentiment     n ratio\n",
      "  \u001b[3m\u001b[90m<chr>\u001b[39m\u001b[23m     \u001b[3m\u001b[90m<int>\u001b[39m\u001b[23m \u001b[3m\u001b[90m<dbl>\u001b[39m\u001b[23m\n",
      "\u001b[90m1\u001b[39m neg         436  10.5\n",
      "\u001b[90m2\u001b[39m neu        \u001b[4m2\u001b[24m897  70.0\n",
      "\u001b[90m3\u001b[39m pos         807  19.5\n"
     ]
    }
   ],
   "source": [
    "score_comment <- score_comment %>%\n",
    "  mutate(sentiment = ifelse(score >=  1, \"pos\",\n",
    "                     ifelse(score <= -1, \"neg\", \"neu\")))\n",
    "\n",
    "frequency_score <- score_comment %>%\n",
    "  count(sentiment) %>%\n",
    "  mutate(ratio = n / sum(n) * 100)\n",
    "\n",
    "frequency_score %>% print"
   ]
  },
  {
   "cell_type": "code",
   "execution_count": 45,
   "id": "38f04234",
   "metadata": {},
   "outputs": [
    {
     "data": {
      "image/png": "[encoded data removed]",
      "text/plain": [
       "plot without title"
      ]
     },
     "metadata": {
      "image/png": {
       "height": 420,
       "width": 420
      }
     },
     "output_type": "display_data"
    }
   ],
   "source": [
    "ggplot(frequency_score, aes(x = sentiment, y = n, fill = sentiment)) +\n",
    "  geom_col() +\n",
    "  geom_text(aes(label = n), vjust = -0.3) + \n",
    "  scale_x_discrete(limits = c(\"pos\", \"neu\", \"neg\"))"
   ]
  },
  {
   "cell_type": "code",
   "execution_count": 48,
   "id": "70f8aaf1",
   "metadata": {},
   "outputs": [
    {
     "name": "stdout",
     "output_type": "stream",
     "text": [
      "\u001b[90m# A tibble: 3 x 4\u001b[39m\n",
      "  sentiment     n ratio dummy\n",
      "  \u001b[3m\u001b[90m<chr>\u001b[39m\u001b[23m     \u001b[3m\u001b[90m<int>\u001b[39m\u001b[23m \u001b[3m\u001b[90m<dbl>\u001b[39m\u001b[23m \u001b[3m\u001b[90m<dbl>\u001b[39m\u001b[23m\n",
      "\u001b[90m1\u001b[39m neg         436  10.5     0\n",
      "\u001b[90m2\u001b[39m neu        \u001b[4m2\u001b[24m897  70.0     0\n",
      "\u001b[90m3\u001b[39m pos         807  19.5     0\n"
     ]
    },
    {
     "data": {
      "image/png": "[encoded data removed]",
      "text/plain": [
       "plot without title"
      ]
     },
     "metadata": {
      "image/png": {
       "height": 420,
       "width": 420
      }
     },
     "output_type": "display_data"
    }
   ],
   "source": [
    "frequency_score$dummy <- 0\n",
    "frequency_score %>% print\n",
    "\n",
    "ggplot(frequency_score, aes(x = dummy, y = ratio, fill = sentiment)) +\n",
    "  geom_col() +\n",
    "  geom_text(aes(label = paste0(round(ratio, 1), \"%\")),      \n",
    "              position = position_stack(vjust = 0.5)) + \n",
    "  theme(axis.title.x = element_blank(), \n",
    "        axis.text.x  = element_blank(), \n",
    "        axis.ticks.x = element_blank())  "
   ]
  },
  {
   "cell_type": "markdown",
   "id": "d3bbc56d",
   "metadata": {},
   "source": [
    "### 04-03 감정 범주별 주요 단어 탐색"
   ]
  },
  {
   "cell_type": "code",
   "execution_count": 50,
   "id": "51de370c",
   "metadata": {},
   "outputs": [],
   "source": [
    "comment <- score_comment %>%\n",
    "  unnest_tokens(input = reply,         \n",
    "                output = word,\n",
    "                token = \"words\",\n",
    "                drop = F) %>%\n",
    "  filter(str_detect(word, \"[가-힣]\") & str_count(word) >= 2)          "
   ]
  },
  {
   "cell_type": "code",
   "execution_count": 52,
   "id": "67e355b7",
   "metadata": {},
   "outputs": [
    {
     "name": "stdout",
     "output_type": "stream",
     "text": [
      "\u001b[90m# A tibble: 19,223 x 3\u001b[39m\n",
      "   sentiment word               n\n",
      "   \u001b[3m\u001b[90m<chr>\u001b[39m\u001b[23m     \u001b[3m\u001b[90m<chr>\u001b[39m\u001b[23m          \u001b[3m\u001b[90m<int>\u001b[39m\u001b[23m\n",
      "\u001b[90m 1\u001b[39m neu       축하합니다       214\n",
      "\u001b[90m 2\u001b[39m neu       봉준호           203\n",
      "\u001b[90m 3\u001b[39m neu       기생충           164\n",
      "\u001b[90m 4\u001b[39m neu       축하드립니다     155\n",
      "\u001b[90m 5\u001b[39m neu       정말             146\n",
      "\u001b[90m 6\u001b[39m neu       대박             134\n",
      "\u001b[90m 7\u001b[39m neu       진짜             121\n",
      "\u001b[90m 8\u001b[39m pos       봉준호           106\n",
      "\u001b[90m 9\u001b[39m pos       정말              97\n",
      "\u001b[90m10\u001b[39m neu       자랑스럽습니다    96\n",
      "\u001b[90m# ... with 19,213 more rows\u001b[39m\n"
     ]
    }
   ],
   "source": [
    "frequency_word <- comment %>%\n",
    "  filter(str_count(word) >= 2) %>%\n",
    "  count(sentiment, word, sort = T)\n",
    "\n",
    "frequency_word %>% print"
   ]
  },
  {
   "cell_type": "markdown",
   "id": "cb7d5e20",
   "metadata": {},
   "source": [
    "### 상대적으로 자주 사용된 단어 비교"
   ]
  },
  {
   "cell_type": "markdown",
   "id": "6df38d1b",
   "metadata": {},
   "source": [
    "1. 로그 오즈비"
   ]
  },
  {
   "cell_type": "code",
   "execution_count": 54,
   "id": "1e282294",
   "metadata": {},
   "outputs": [
    {
     "name": "stdout",
     "output_type": "stream",
     "text": [
      "\u001b[90m# A tibble: 8,380 x 3\u001b[39m\n",
      "   word         pos   neg\n",
      "   \u001b[3m\u001b[90m<chr>\u001b[39m\u001b[23m      \u001b[3m\u001b[90m<int>\u001b[39m\u001b[23m \u001b[3m\u001b[90m<int>\u001b[39m\u001b[23m\n",
      "\u001b[90m 1\u001b[39m 봉준호       106    47\n",
      "\u001b[90m 2\u001b[39m 정말          97    32\n",
      "\u001b[90m 3\u001b[39m 대단하다      83     1\n",
      "\u001b[90m 4\u001b[39m 진짜          79    26\n",
      "\u001b[90m 5\u001b[39m 자랑스럽다    78     1\n",
      "\u001b[90m 6\u001b[39m 축하          63     0\n",
      "\u001b[90m 7\u001b[39m 대한민국      61     4\n",
      "\u001b[90m 8\u001b[39m 영화          58    18\n",
      "\u001b[90m 9\u001b[39m 멋지다        55     0\n",
      "\u001b[90m10\u001b[39m 기생충        53    33\n",
      "\u001b[90m# ... with 8,370 more rows\u001b[39m\n"
     ]
    }
   ],
   "source": [
    "comment_wide <- frequency_word %>%\n",
    "  filter(sentiment != \"neu\") %>%  # 중립 제외\n",
    "  pivot_wider(names_from = sentiment,\n",
    "              values_from = n,\n",
    "              values_fill = list(n = 0))\n",
    "\n",
    "comment_wide %>% print"
   ]
  },
  {
   "cell_type": "code",
   "execution_count": 55,
   "id": "9a5477e2",
   "metadata": {},
   "outputs": [
    {
     "name": "stdout",
     "output_type": "stream",
     "text": [
      "\u001b[90m# A tibble: 8,380 x 4\u001b[39m\n",
      "   word         pos   neg log_odds_ratio\n",
      "   \u001b[3m\u001b[90m<chr>\u001b[39m\u001b[23m      \u001b[3m\u001b[90m<int>\u001b[39m\u001b[23m \u001b[3m\u001b[90m<int>\u001b[39m\u001b[23m          \u001b[3m\u001b[90m<dbl>\u001b[39m\u001b[23m\n",
      "\u001b[90m 1\u001b[39m 봉준호       106    47          0.589\n",
      "\u001b[90m 2\u001b[39m 정말          97    32          0.876\n",
      "\u001b[90m 3\u001b[39m 대단하다      83     1          3.52 \n",
      "\u001b[90m 4\u001b[39m 진짜          79    26          0.873\n",
      "\u001b[90m 5\u001b[39m 자랑스럽다    78     1          3.46 \n",
      "\u001b[90m 6\u001b[39m 축하          63     0          3.95 \n",
      "\u001b[90m 7\u001b[39m 대한민국      61     4          2.30 \n",
      "\u001b[90m 8\u001b[39m 영화          58    18          0.920\n",
      "\u001b[90m 9\u001b[39m 멋지다        55     0          3.81 \n",
      "\u001b[90m10\u001b[39m 기생충        53    33          0.250\n",
      "\u001b[90m# ... with 8,370 more rows\u001b[39m\n"
     ]
    }
   ],
   "source": [
    "comment_wide <- comment_wide %>%\n",
    "  mutate(log_odds_ratio = log(((pos + 1) / (sum(pos + 1))) /\n",
    "                              ((neg + 1) / (sum(neg + 1)))))\n",
    "\n",
    "comment_wide  %>% print"
   ]
  },
  {
   "cell_type": "code",
   "execution_count": 56,
   "id": "e5460456",
   "metadata": {},
   "outputs": [
    {
     "name": "stdout",
     "output_type": "stream",
     "text": [
      "\u001b[90m# A tibble: 30 x 5\u001b[39m\n",
      "\u001b[90m# Groups:   sentiment [2]\u001b[39m\n",
      "   word         pos   neg log_odds_ratio sentiment\n",
      "   \u001b[3m\u001b[90m<chr>\u001b[39m\u001b[23m      \u001b[3m\u001b[90m<int>\u001b[39m\u001b[23m \u001b[3m\u001b[90m<int>\u001b[39m\u001b[23m          \u001b[3m\u001b[90m<dbl>\u001b[39m\u001b[23m \u001b[3m\u001b[90m<chr>\u001b[39m\u001b[23m    \n",
      "\u001b[90m 1\u001b[39m 소름           2    49          -\u001b[31m3\u001b[39m\u001b[31m.\u001b[39m\u001b[31m0\u001b[39m\u001b[31m3\u001b[39m neg      \n",
      "\u001b[90m 2\u001b[39m 좌빨           1    21          -\u001b[31m2\u001b[39m\u001b[31m.\u001b[39m\u001b[31m61\u001b[39m neg      \n",
      "\u001b[90m 3\u001b[39m 못한           0     7          -\u001b[31m2\u001b[39m\u001b[31m.\u001b[39m\u001b[31m29\u001b[39m neg      \n",
      "\u001b[90m 4\u001b[39m 미친           0     7          -\u001b[31m2\u001b[39m\u001b[31m.\u001b[39m\u001b[31m29\u001b[39m neg      \n",
      "\u001b[90m 5\u001b[39m 좌좀           0     6          -\u001b[31m2\u001b[39m\u001b[31m.\u001b[39m\u001b[31m16\u001b[39m neg      \n",
      "\u001b[90m 6\u001b[39m 소름이         1    12          -\u001b[31m2\u001b[39m\u001b[31m.\u001b[39m\u001b[31m0\u001b[39m\u001b[31m8\u001b[39m neg      \n",
      "\u001b[90m 7\u001b[39m 가난한         0     5          -\u001b[31m2\u001b[39m\u001b[31m.\u001b[39m\u001b[31m00\u001b[39m neg      \n",
      "\u001b[90m 8\u001b[39m 모르는         0     5          -\u001b[31m2\u001b[39m\u001b[31m.\u001b[39m\u001b[31m00\u001b[39m neg      \n",
      "\u001b[90m 9\u001b[39m 아쉽다         0     5          -\u001b[31m2\u001b[39m\u001b[31m.\u001b[39m\u001b[31m00\u001b[39m neg      \n",
      "\u001b[90m10\u001b[39m 닭그네         0     4          -\u001b[31m1\u001b[39m\u001b[31m.\u001b[39m\u001b[31m82\u001b[39m neg      \n",
      "\u001b[90m11\u001b[39m 돋았다         0     4          -\u001b[31m1\u001b[39m\u001b[31m.\u001b[39m\u001b[31m82\u001b[39m neg      \n",
      "\u001b[90m12\u001b[39m 두고           0     4          -\u001b[31m1\u001b[39m\u001b[31m.\u001b[39m\u001b[31m82\u001b[39m neg      \n",
      "\u001b[90m13\u001b[39m 못하고         0     4          -\u001b[31m1\u001b[39m\u001b[31m.\u001b[39m\u001b[31m82\u001b[39m neg      \n",
      "\u001b[90m14\u001b[39m 사회적         0     4          -\u001b[31m1\u001b[39m\u001b[31m.\u001b[39m\u001b[31m82\u001b[39m neg      \n",
      "\u001b[90m15\u001b[39m 싫다           0     4          -\u001b[31m1\u001b[39m\u001b[31m.\u001b[39m\u001b[31m82\u001b[39m neg      \n",
      "\u001b[90m16\u001b[39m 있는데         0     4          -\u001b[31m1\u001b[39m\u001b[31m.\u001b[39m\u001b[31m82\u001b[39m neg      \n",
      "\u001b[90m17\u001b[39m 정권이         0     4          -\u001b[31m1\u001b[39m\u001b[31m.\u001b[39m\u001b[31m82\u001b[39m neg      \n",
      "\u001b[90m18\u001b[39m 지들이         0     4          -\u001b[31m1\u001b[39m\u001b[31m.\u001b[39m\u001b[31m82\u001b[39m neg      \n",
      "\u001b[90m19\u001b[39m 틀딱           0     4          -\u001b[31m1\u001b[39m\u001b[31m.\u001b[39m\u001b[31m82\u001b[39m neg      \n",
      "\u001b[90m20\u001b[39m 힘든           0     4          -\u001b[31m1\u001b[39m\u001b[31m.\u001b[39m\u001b[31m82\u001b[39m neg      \n",
      "\u001b[90m21\u001b[39m 축하          63     0           3.95 pos      \n",
      "\u001b[90m22\u001b[39m 멋지다        55     0           3.81 pos      \n",
      "\u001b[90m23\u001b[39m 대단한        47     0           3.66 pos      \n",
      "\u001b[90m24\u001b[39m 좋은          42     0           3.55 pos      \n",
      "\u001b[90m25\u001b[39m 대단하다      83     1           3.52 pos      \n",
      "\u001b[90m26\u001b[39m 자랑스럽다    78     1           3.46 pos      \n",
      "\u001b[90m27\u001b[39m 최고          27     0           3.12 pos      \n",
      "\u001b[90m28\u001b[39m 세계적인      24     0           3.01 pos      \n",
      "\u001b[90m29\u001b[39m 최고의        23     0           2.97 pos      \n",
      "\u001b[90m30\u001b[39m 위대한        22     0           2.92 pos      \n"
     ]
    }
   ],
   "source": [
    "top10 <- comment_wide %>%\n",
    "  group_by(sentiment = ifelse(log_odds_ratio > 0, \"pos\", \"neg\")) %>%\n",
    "  slice_max(abs(log_odds_ratio), n = 10)\n",
    "\n",
    "top10 %>% print(n = Inf)"
   ]
  },
  {
   "cell_type": "code",
   "execution_count": 57,
   "id": "429817ad",
   "metadata": {},
   "outputs": [
    {
     "name": "stdout",
     "output_type": "stream",
     "text": [
      "\u001b[90m# A tibble: 20 x 5\u001b[39m\n",
      "\u001b[90m# Groups:   sentiment [2]\u001b[39m\n",
      "   word         pos   neg log_odds_ratio sentiment\n",
      "   \u001b[3m\u001b[90m<chr>\u001b[39m\u001b[23m      \u001b[3m\u001b[90m<int>\u001b[39m\u001b[23m \u001b[3m\u001b[90m<int>\u001b[39m\u001b[23m          \u001b[3m\u001b[90m<dbl>\u001b[39m\u001b[23m \u001b[3m\u001b[90m<chr>\u001b[39m\u001b[23m    \n",
      "\u001b[90m 1\u001b[39m 소름           2    49          -\u001b[31m3\u001b[39m\u001b[31m.\u001b[39m\u001b[31m0\u001b[39m\u001b[31m3\u001b[39m neg      \n",
      "\u001b[90m 2\u001b[39m 좌빨           1    21          -\u001b[31m2\u001b[39m\u001b[31m.\u001b[39m\u001b[31m61\u001b[39m neg      \n",
      "\u001b[90m 3\u001b[39m 못한           0     7          -\u001b[31m2\u001b[39m\u001b[31m.\u001b[39m\u001b[31m29\u001b[39m neg      \n",
      "\u001b[90m 4\u001b[39m 미친           0     7          -\u001b[31m2\u001b[39m\u001b[31m.\u001b[39m\u001b[31m29\u001b[39m neg      \n",
      "\u001b[90m 5\u001b[39m 좌좀           0     6          -\u001b[31m2\u001b[39m\u001b[31m.\u001b[39m\u001b[31m16\u001b[39m neg      \n",
      "\u001b[90m 6\u001b[39m 소름이         1    12          -\u001b[31m2\u001b[39m\u001b[31m.\u001b[39m\u001b[31m0\u001b[39m\u001b[31m8\u001b[39m neg      \n",
      "\u001b[90m 7\u001b[39m 가난한         0     5          -\u001b[31m2\u001b[39m\u001b[31m.\u001b[39m\u001b[31m00\u001b[39m neg      \n",
      "\u001b[90m 8\u001b[39m 모르는         0     5          -\u001b[31m2\u001b[39m\u001b[31m.\u001b[39m\u001b[31m00\u001b[39m neg      \n",
      "\u001b[90m 9\u001b[39m 아쉽다         0     5          -\u001b[31m2\u001b[39m\u001b[31m.\u001b[39m\u001b[31m00\u001b[39m neg      \n",
      "\u001b[90m10\u001b[39m 닭그네         0     4          -\u001b[31m1\u001b[39m\u001b[31m.\u001b[39m\u001b[31m82\u001b[39m neg      \n",
      "\u001b[90m11\u001b[39m 축하          63     0           3.95 pos      \n",
      "\u001b[90m12\u001b[39m 멋지다        55     0           3.81 pos      \n",
      "\u001b[90m13\u001b[39m 대단한        47     0           3.66 pos      \n",
      "\u001b[90m14\u001b[39m 좋은          42     0           3.55 pos      \n",
      "\u001b[90m15\u001b[39m 대단하다      83     1           3.52 pos      \n",
      "\u001b[90m16\u001b[39m 자랑스럽다    78     1           3.46 pos      \n",
      "\u001b[90m17\u001b[39m 최고          27     0           3.12 pos      \n",
      "\u001b[90m18\u001b[39m 세계적인      24     0           3.01 pos      \n",
      "\u001b[90m19\u001b[39m 최고의        23     0           2.97 pos      \n",
      "\u001b[90m20\u001b[39m 위대한        22     0           2.92 pos      \n"
     ]
    }
   ],
   "source": [
    "top10 <- comment_wide %>%\n",
    "  group_by(sentiment = ifelse(log_odds_ratio > 0, \"pos\", \"neg\")) %>%\n",
    "  slice_max(abs(log_odds_ratio), n = 10, with_ties = F)\n",
    "\n",
    "top10 %>% print"
   ]
  },
  {
   "cell_type": "code",
   "execution_count": 58,
   "id": "cce18191",
   "metadata": {},
   "outputs": [
    {
     "data": {
      "image/png": "[encoded data removed]",
      "text/plain": [
       "plot without title"
      ]
     },
     "metadata": {
      "image/png": {
       "height": 420,
       "width": 420
      }
     },
     "output_type": "display_data"
    }
   ],
   "source": [
    "ggplot(top10, aes(x = reorder(word, log_odds_ratio),\n",
    "                      y = log_odds_ratio,\n",
    "                      fill = sentiment)) +\n",
    "  geom_col() +\n",
    "  coord_flip() +\n",
    "  labs(x = NULL) +\n",
    "  theme(text = element_text(family = \"blackhansans\"))"
   ]
  },
  {
   "cell_type": "markdown",
   "id": "1d370de0",
   "metadata": {},
   "source": [
    "### 04-04 감성 사전 수정"
   ]
  },
  {
   "cell_type": "code",
   "execution_count": 61,
   "id": "a0d38413",
   "metadata": {},
   "outputs": [
    {
     "name": "stdout",
     "output_type": "stream",
     "text": [
      "\u001b[90m# A tibble: 131 x 1\u001b[39m\n",
      "   reply                                                                       \n",
      "   \u001b[3m\u001b[90m<chr>\u001b[39m\u001b[23m                                                                       \n",
      "\u001b[90m 1\u001b[39m 소름돋네요                                                                  \n",
      "\u001b[90m 2\u001b[39m 와..진짜소름 저 소리처음질렀어요 눈물나요.. ㅠㅠ                            \n",
      "\u001b[90m 3\u001b[39m 생중계 보며 봉준호 할 때 소름이~~~!! ㅠㅠ 수상소감들으며 함께 가슴이 벅차네~\n",
      "\u001b[90m 4\u001b[39m 와 보다가 소름 짝 수고들하셨어요                                            \n",
      "\u001b[90m 5\u001b[39m 한국어 소감 듣는데 소름돋네 축하드립니다                                    \n",
      "\u001b[90m 6\u001b[39m 대단하다!! 봉준호 이름 나오자마자 소름                                      \n",
      "\u001b[90m 7\u001b[39m 와우 브라보~ 키아누리브스의 봉준호, 순간 소름이.. 멋지십니다.               \n",
      "\u001b[90m 8\u001b[39m 소름 돋네요. 축하합니다                                                     \n",
      "\u001b[90m 9\u001b[39m 소름.... 기생충 각본집 산거 다시한번 잘했다는 생각이ㅠㅠㅠ 축하해요!!!!!!   \n",
      "\u001b[90m10\u001b[39m 소름끼쳤어요 너무 멋집니다 ^^!!!!                                           \n",
      "\u001b[90m# ... with 121 more rows\u001b[39m\n",
      "\u001b[90m# A tibble: 15 x 1\u001b[39m\n",
      "   reply                                                                        \n",
      "   \u001b[3m\u001b[90m<chr>\u001b[39m\u001b[23m                                                                        \n",
      "\u001b[90m 1\u001b[39m 와 3관왕 미친                                                                \n",
      "\u001b[90m 2\u001b[39m 미친거야 이건~~                                                              \n",
      "\u001b[90m 3\u001b[39m Korea 대단합니다 김연아 방탄 봉준호 스포츠 음악 영화 못하는게 없어요 좌빨 감~\n",
      "\u001b[90m 4\u001b[39m 청룡영화제에서 다른나라가 상을 휩쓴거죠? 와..미쳤다 미국영화제에서 한국이 빅~\n",
      "\u001b[90m 5\u001b[39m 설마했는데 감독상, 작품상, 각본상을 죄다 휩쓸어버릴 줄이야. 이건 미친 꿈이야~\n",
      "\u001b[90m 6\u001b[39m 완전 완전...미친촌재감~이런게 바로 애국이지~ 존경합니다~                     \n",
      "\u001b[90m 7\u001b[39m 이세상엔 참 미 친 인간들이 많다는걸 댓글에서 다시한번 느낀다..모두가 축하해~ \n",
      "\u001b[90m 8\u001b[39m 올해 아카데미 최다 수상작이기도 하다 이건 진짜 미친사건이다                  \n",
      "\u001b[90m 9\u001b[39m CJ회장이 저기서 왜 언급되는지... 미친 부회장.. 공과사 구분 못하는 정권의 홍~ \n",
      "\u001b[90m10\u001b[39m 미친봉                                                                       \n",
      "\u001b[90m11\u001b[39m 미친 3관왕 ㄷㄷㄷㄷㄷ                                                        \n",
      "\u001b[90m12\u001b[39m 진짜 미친일...                                                               \n",
      "\u001b[90m13\u001b[39m 나도모르게 보다가 육성으로 미친...ㅋㅋㅋㅋ 대박ㅜ                            \n",
      "\u001b[90m14\u001b[39m 헐...감독상...미친...미쳤다..소름돋는다...                                   \n",
      "\u001b[90m15\u001b[39m 인정할건인정하자 봉감독 송배우 이배우 조배우등 인정하자 또 가로세로 ㅆㄹㄱ들~\n"
     ]
    }
   ],
   "source": [
    "# \"소름\"이 사용된 댓글\n",
    "score_comment %>%\n",
    "  filter(str_detect(reply, \"소름\")) %>%\n",
    "  select(reply) %>% print\n",
    "\n",
    "# \"미친\"이 사용된 댓글\n",
    "score_comment %>%\n",
    "  filter(str_detect(reply, \"미친\")) %>%\n",
    "  select(reply) %>% print"
   ]
  },
  {
   "cell_type": "code",
   "execution_count": 62,
   "id": "ccc86f4a",
   "metadata": {},
   "outputs": [
    {
     "data": {
      "text/html": [
       "<table class=\"dataframe\">\n",
       "<caption>A spec_tbl_df: 3 × 2</caption>\n",
       "<thead>\n",
       "\t<tr><th scope=col>word</th><th scope=col>polarity</th></tr>\n",
       "\t<tr><th scope=col>&lt;chr&gt;</th><th scope=col>&lt;dbl&gt;</th></tr>\n",
       "</thead>\n",
       "<tbody>\n",
       "\t<tr><td>소름이</td><td>-2</td></tr>\n",
       "\t<tr><td>소름  </td><td>-2</td></tr>\n",
       "\t<tr><td>미친  </td><td>-2</td></tr>\n",
       "</tbody>\n",
       "</table>\n"
      ],
      "text/latex": [
       "A spec\\_tbl\\_df: 3 × 2\n",
       "\\begin{tabular}{ll}\n",
       " word & polarity\\\\\n",
       " <chr> & <dbl>\\\\\n",
       "\\hline\n",
       "\t 소름이 & -2\\\\\n",
       "\t 소름   & -2\\\\\n",
       "\t 미친   & -2\\\\\n",
       "\\end{tabular}\n"
      ],
      "text/markdown": [
       "\n",
       "A spec_tbl_df: 3 × 2\n",
       "\n",
       "| word &lt;chr&gt; | polarity &lt;dbl&gt; |\n",
       "|---|---|\n",
       "| 소름이 | -2 |\n",
       "| 소름   | -2 |\n",
       "| 미친   | -2 |\n",
       "\n"
      ],
      "text/plain": [
       "  word   polarity\n",
       "1 소름이 -2      \n",
       "2 소름   -2      \n",
       "3 미친   -2      "
      ]
     },
     "metadata": {},
     "output_type": "display_data"
    }
   ],
   "source": [
    "dic %>% filter(word %in% c(\"소름\", \"소름이\", \"미친\"))"
   ]
  },
  {
   "cell_type": "markdown",
   "id": "e54366b0",
   "metadata": {},
   "source": [
    "### 감성 사전 수정"
   ]
  },
  {
   "cell_type": "code",
   "execution_count": 63,
   "id": "14418dfe",
   "metadata": {},
   "outputs": [
    {
     "data": {
      "text/html": [
       "<table class=\"dataframe\">\n",
       "<caption>A tibble: 3 × 2</caption>\n",
       "<thead>\n",
       "\t<tr><th scope=col>word</th><th scope=col>polarity</th></tr>\n",
       "\t<tr><th scope=col>&lt;chr&gt;</th><th scope=col>&lt;dbl&gt;</th></tr>\n",
       "</thead>\n",
       "<tbody>\n",
       "\t<tr><td>소름이</td><td>2</td></tr>\n",
       "\t<tr><td>소름  </td><td>2</td></tr>\n",
       "\t<tr><td>미친  </td><td>2</td></tr>\n",
       "</tbody>\n",
       "</table>\n"
      ],
      "text/latex": [
       "A tibble: 3 × 2\n",
       "\\begin{tabular}{ll}\n",
       " word & polarity\\\\\n",
       " <chr> & <dbl>\\\\\n",
       "\\hline\n",
       "\t 소름이 & 2\\\\\n",
       "\t 소름   & 2\\\\\n",
       "\t 미친   & 2\\\\\n",
       "\\end{tabular}\n"
      ],
      "text/markdown": [
       "\n",
       "A tibble: 3 × 2\n",
       "\n",
       "| word &lt;chr&gt; | polarity &lt;dbl&gt; |\n",
       "|---|---|\n",
       "| 소름이 | 2 |\n",
       "| 소름   | 2 |\n",
       "| 미친   | 2 |\n",
       "\n"
      ],
      "text/plain": [
       "  word   polarity\n",
       "1 소름이 2       \n",
       "2 소름   2       \n",
       "3 미친   2       "
      ]
     },
     "metadata": {},
     "output_type": "display_data"
    }
   ],
   "source": [
    "new_dic <- dic %>%\n",
    "  mutate(polarity = ifelse(word %in% c(\"소름\", \"소름이\", \"미친\"), 2, polarity))\n",
    "\n",
    "new_dic %>% filter(word %in% c(\"소름\", \"소름이\", \"미친\"))"
   ]
  },
  {
   "cell_type": "markdown",
   "id": "c7b75ce6",
   "metadata": {},
   "source": [
    "### 수정한 사전을 감정 점수 부여"
   ]
  },
  {
   "cell_type": "code",
   "execution_count": 64,
   "id": "5e835d01",
   "metadata": {},
   "outputs": [],
   "source": [
    "new_word_comment <- word_comment %>%\n",
    "  select(-polarity) %>%\n",
    "  left_join(new_dic, by = \"word\") %>%\n",
    "  mutate(polarity = ifelse(is.na(polarity), 0, polarity))"
   ]
  },
  {
   "cell_type": "markdown",
   "id": "de23b42f",
   "metadata": {},
   "source": [
    "### 댓글별 감정 점수 구하기"
   ]
  },
  {
   "cell_type": "code",
   "execution_count": 66,
   "id": "375eb5be",
   "metadata": {},
   "outputs": [
    {
     "name": "stderr",
     "output_type": "stream",
     "text": [
      "\u001b[1m\u001b[22m`summarise()` has grouped output by 'id'. You can override using the `.groups` argument.\n"
     ]
    },
    {
     "name": "stdout",
     "output_type": "stream",
     "text": [
      "\u001b[90m# A tibble: 4,140 x 2\u001b[39m\n",
      "   score reply                                                                  \n",
      "   \u001b[3m\u001b[90m<dbl>\u001b[39m\u001b[23m \u001b[3m\u001b[90m<chr>\u001b[39m\u001b[23m                                                                  \n",
      "\u001b[90m 1\u001b[39m    11 아니 다른상을 받은것도 충분히 대단하고 굉장하지만 최고의 영예인 작품상~\n",
      "\u001b[90m 2\u001b[39m     9 봉준호의 위대한 업적은 진보 영화계의 위대한 업적이고 대한민국의 업적입~\n",
      "\u001b[90m 3\u001b[39m     8 소름 소름 진짜 멋지다 대단하다                                         \n",
      "\u001b[90m 4\u001b[39m     7 이 수상소식을 듣고 억수로 기뻐하는 가족이 있을것 같다. SNS를 통해 자기~\n",
      "\u001b[90m 5\u001b[39m     7 감사 감사 감사 수상 소감도 3관왕 답네요                                \n",
      "\u001b[90m 6\u001b[39m     6 정말 우리 집에 좋은 일이 생겨 기쁘고 행복한 것처럼!! 나의 일인 양 행복~\n",
      "\u001b[90m 7\u001b[39m     6 와 너무 기쁘다! 이 시국에 정말 내 일같이 기쁘고 감사하다!!! 축하드려요~\n",
      "\u001b[90m 8\u001b[39m     6 축하 축하 축하 모두들 수고 하셨어요 기생충 화이팅                      \n",
      "\u001b[90m 9\u001b[39m     6 생중계 보며 봉준호 할 때 소름이~~~!! ㅠㅠ 수상소감들으며 함께 가슴이 ~ \n",
      "\u001b[90m10\u001b[39m     6 축하!!!! 축하!!!!! 오스카의 정복은 무엇보다 시나리오의 힘이다. 작가의 ~\n",
      "\u001b[90m# ... with 4,130 more rows\u001b[39m\n"
     ]
    }
   ],
   "source": [
    "new_score_comment <- new_word_comment %>%\n",
    "  group_by(id, reply) %>%\n",
    "  summarise(score = sum(polarity)) %>%\n",
    "  ungroup()\n",
    "\n",
    "new_score_comment %>%\n",
    "  select(score, reply) %>%\n",
    "  arrange(-score) %>% print"
   ]
  },
  {
   "cell_type": "markdown",
   "id": "9abc10e6",
   "metadata": {},
   "source": [
    "### 감정 경향 살펴보기"
   ]
  },
  {
   "cell_type": "markdown",
   "id": "2642c14a",
   "metadata": {},
   "source": [
    "1. 감정 분류"
   ]
  },
  {
   "cell_type": "code",
   "execution_count": 67,
   "id": "0d970edd",
   "metadata": {},
   "outputs": [],
   "source": [
    "new_score_comment <- new_score_comment %>%\n",
    "  mutate(sentiment = ifelse(score >=  1, \"pos\",\n",
    "                     ifelse(score <= -1, \"neg\", \"neu\")))"
   ]
  },
  {
   "cell_type": "markdown",
   "id": "c4a12305",
   "metadata": {},
   "source": [
    "2. 감정 범주별 빈도와 비율 구하기"
   ]
  },
  {
   "cell_type": "code",
   "execution_count": 70,
   "id": "4b6ea424",
   "metadata": {},
   "outputs": [
    {
     "data": {
      "text/html": [
       "<table class=\"dataframe\">\n",
       "<caption>A tibble: 3 × 3</caption>\n",
       "<thead>\n",
       "\t<tr><th scope=col>sentiment</th><th scope=col>n</th><th scope=col>ratio</th></tr>\n",
       "\t<tr><th scope=col>&lt;chr&gt;</th><th scope=col>&lt;int&gt;</th><th scope=col>&lt;dbl&gt;</th></tr>\n",
       "</thead>\n",
       "<tbody>\n",
       "\t<tr><td>neg</td><td> 436</td><td>10.53140</td></tr>\n",
       "\t<tr><td>neu</td><td>2897</td><td>69.97585</td></tr>\n",
       "\t<tr><td>pos</td><td> 807</td><td>19.49275</td></tr>\n",
       "</tbody>\n",
       "</table>\n"
      ],
      "text/latex": [
       "A tibble: 3 × 3\n",
       "\\begin{tabular}{lll}\n",
       " sentiment & n & ratio\\\\\n",
       " <chr> & <int> & <dbl>\\\\\n",
       "\\hline\n",
       "\t neg &  436 & 10.53140\\\\\n",
       "\t neu & 2897 & 69.97585\\\\\n",
       "\t pos &  807 & 19.49275\\\\\n",
       "\\end{tabular}\n"
      ],
      "text/markdown": [
       "\n",
       "A tibble: 3 × 3\n",
       "\n",
       "| sentiment &lt;chr&gt; | n &lt;int&gt; | ratio &lt;dbl&gt; |\n",
       "|---|---|---|\n",
       "| neg |  436 | 10.53140 |\n",
       "| neu | 2897 | 69.97585 |\n",
       "| pos |  807 | 19.49275 |\n",
       "\n"
      ],
      "text/plain": [
       "  sentiment n    ratio   \n",
       "1 neg        436 10.53140\n",
       "2 neu       2897 69.97585\n",
       "3 pos        807 19.49275"
      ]
     },
     "metadata": {},
     "output_type": "display_data"
    },
    {
     "data": {
      "text/html": [
       "<table class=\"dataframe\">\n",
       "<caption>A tibble: 3 × 3</caption>\n",
       "<thead>\n",
       "\t<tr><th scope=col>sentiment</th><th scope=col>n</th><th scope=col>ratio</th></tr>\n",
       "\t<tr><th scope=col>&lt;chr&gt;</th><th scope=col>&lt;int&gt;</th><th scope=col>&lt;dbl&gt;</th></tr>\n",
       "</thead>\n",
       "<tbody>\n",
       "\t<tr><td>neg</td><td> 368</td><td> 8.888889</td></tr>\n",
       "\t<tr><td>neu</td><td>2890</td><td>69.806763</td></tr>\n",
       "\t<tr><td>pos</td><td> 882</td><td>21.304348</td></tr>\n",
       "</tbody>\n",
       "</table>\n"
      ],
      "text/latex": [
       "A tibble: 3 × 3\n",
       "\\begin{tabular}{lll}\n",
       " sentiment & n & ratio\\\\\n",
       " <chr> & <int> & <dbl>\\\\\n",
       "\\hline\n",
       "\t neg &  368 &  8.888889\\\\\n",
       "\t neu & 2890 & 69.806763\\\\\n",
       "\t pos &  882 & 21.304348\\\\\n",
       "\\end{tabular}\n"
      ],
      "text/markdown": [
       "\n",
       "A tibble: 3 × 3\n",
       "\n",
       "| sentiment &lt;chr&gt; | n &lt;int&gt; | ratio &lt;dbl&gt; |\n",
       "|---|---|---|\n",
       "| neg |  368 |  8.888889 |\n",
       "| neu | 2890 | 69.806763 |\n",
       "| pos |  882 | 21.304348 |\n",
       "\n"
      ],
      "text/plain": [
       "  sentiment n    ratio    \n",
       "1 neg        368  8.888889\n",
       "2 neu       2890 69.806763\n",
       "3 pos        882 21.304348"
      ]
     },
     "metadata": {},
     "output_type": "display_data"
    }
   ],
   "source": [
    "# 원본 감정 사전 활용\n",
    "score_comment %>%\n",
    "  count(sentiment) %>%\n",
    "  mutate(ratio = n / sum(n) * 100)\n",
    "\n",
    "# 수정한 감정 사전 활용\n",
    "new_score_comment %>%\n",
    "  count(sentiment) %>%\n",
    "  mutate(ratio = n / sum(n) * 100)"
   ]
  },
  {
   "cell_type": "code",
   "execution_count": 71,
   "id": "16369b68",
   "metadata": {},
   "outputs": [
    {
     "data": {
      "text/html": [
       "<table class=\"dataframe\">\n",
       "<caption>A tibble: 3 × 2</caption>\n",
       "<thead>\n",
       "\t<tr><th scope=col>sentiment</th><th scope=col>n</th></tr>\n",
       "\t<tr><th scope=col>&lt;chr&gt;</th><th scope=col>&lt;int&gt;</th></tr>\n",
       "</thead>\n",
       "<tbody>\n",
       "\t<tr><td>neg</td><td>73</td></tr>\n",
       "\t<tr><td>neu</td><td>63</td></tr>\n",
       "\t<tr><td>pos</td><td> 9</td></tr>\n",
       "</tbody>\n",
       "</table>\n"
      ],
      "text/latex": [
       "A tibble: 3 × 2\n",
       "\\begin{tabular}{ll}\n",
       " sentiment & n\\\\\n",
       " <chr> & <int>\\\\\n",
       "\\hline\n",
       "\t neg & 73\\\\\n",
       "\t neu & 63\\\\\n",
       "\t pos &  9\\\\\n",
       "\\end{tabular}\n"
      ],
      "text/markdown": [
       "\n",
       "A tibble: 3 × 2\n",
       "\n",
       "| sentiment &lt;chr&gt; | n &lt;int&gt; |\n",
       "|---|---|\n",
       "| neg | 73 |\n",
       "| neu | 63 |\n",
       "| pos |  9 |\n",
       "\n"
      ],
      "text/plain": [
       "  sentiment n \n",
       "1 neg       73\n",
       "2 neu       63\n",
       "3 pos        9"
      ]
     },
     "metadata": {},
     "output_type": "display_data"
    },
    {
     "data": {
      "text/html": [
       "<table class=\"dataframe\">\n",
       "<caption>A tibble: 3 × 2</caption>\n",
       "<thead>\n",
       "\t<tr><th scope=col>sentiment</th><th scope=col>n</th></tr>\n",
       "\t<tr><th scope=col>&lt;chr&gt;</th><th scope=col>&lt;int&gt;</th></tr>\n",
       "</thead>\n",
       "<tbody>\n",
       "\t<tr><td>neg</td><td> 5</td></tr>\n",
       "\t<tr><td>neu</td><td>56</td></tr>\n",
       "\t<tr><td>pos</td><td>84</td></tr>\n",
       "</tbody>\n",
       "</table>\n"
      ],
      "text/latex": [
       "A tibble: 3 × 2\n",
       "\\begin{tabular}{ll}\n",
       " sentiment & n\\\\\n",
       " <chr> & <int>\\\\\n",
       "\\hline\n",
       "\t neg &  5\\\\\n",
       "\t neu & 56\\\\\n",
       "\t pos & 84\\\\\n",
       "\\end{tabular}\n"
      ],
      "text/markdown": [
       "\n",
       "A tibble: 3 × 2\n",
       "\n",
       "| sentiment &lt;chr&gt; | n &lt;int&gt; |\n",
       "|---|---|\n",
       "| neg |  5 |\n",
       "| neu | 56 |\n",
       "| pos | 84 |\n",
       "\n"
      ],
      "text/plain": [
       "  sentiment n \n",
       "1 neg        5\n",
       "2 neu       56\n",
       "3 pos       84"
      ]
     },
     "metadata": {},
     "output_type": "display_data"
    }
   ],
   "source": [
    "word <- \"소름|소름이|미친\"\n",
    "\n",
    "# 원본 감정 사전 활용\n",
    "score_comment %>%\n",
    "  filter(str_detect(reply, word)) %>%\n",
    "  count(sentiment)\n",
    "\n",
    "# 수정한 감정 사전 활용\n",
    "new_score_comment %>%\n",
    "  filter(str_detect(reply, word)) %>%\n",
    "  count(sentiment)"
   ]
  },
  {
   "cell_type": "markdown",
   "id": "0a7caddd",
   "metadata": {},
   "source": [
    "### 신조어에 감정 점수 부여"
   ]
  },
  {
   "cell_type": "code",
   "execution_count": 73,
   "id": "a24918f7",
   "metadata": {},
   "outputs": [
    {
     "data": {
      "text/html": [
       "<table class=\"dataframe\">\n",
       "<caption>A tibble: 2 × 2</caption>\n",
       "<thead>\n",
       "\t<tr><th scope=col>sentence</th><th scope=col>score</th></tr>\n",
       "\t<tr><th scope=col>&lt;chr&gt;</th><th scope=col>&lt;dbl&gt;</th></tr>\n",
       "</thead>\n",
       "<tbody>\n",
       "\t<tr><td>이 영화 핵노잼    </td><td>0</td></tr>\n",
       "\t<tr><td>이번 에피소드 쩐다</td><td>0</td></tr>\n",
       "</tbody>\n",
       "</table>\n"
      ],
      "text/latex": [
       "A tibble: 2 × 2\n",
       "\\begin{tabular}{ll}\n",
       " sentence & score\\\\\n",
       " <chr> & <dbl>\\\\\n",
       "\\hline\n",
       "\t 이 영화 핵노잼     & 0\\\\\n",
       "\t 이번 에피소드 쩐다 & 0\\\\\n",
       "\\end{tabular}\n"
      ],
      "text/markdown": [
       "\n",
       "A tibble: 2 × 2\n",
       "\n",
       "| sentence &lt;chr&gt; | score &lt;dbl&gt; |\n",
       "|---|---|\n",
       "| 이 영화 핵노잼     | 0 |\n",
       "| 이번 에피소드 쩐다 | 0 |\n",
       "\n"
      ],
      "text/plain": [
       "  sentence           score\n",
       "1 이 영화 핵노잼     0    \n",
       "2 이번 에피소드 쩐다 0    "
      ]
     },
     "metadata": {},
     "output_type": "display_data"
    }
   ],
   "source": [
    "df <- tibble(sentence = c(\"이번 에피소드 쩐다\", \n",
    "                          \"이 영화 핵노잼\")) %>% \n",
    "  unnest_tokens(input = sentence, \n",
    "                output = word, \n",
    "                token = \"words\", \n",
    "                drop = F)\n",
    "\n",
    "df %>% \n",
    "  left_join(dic, by = \"word\") %>%\n",
    "  mutate(polarity = ifelse(is.na(polarity), 0, polarity)) %>% \n",
    "  group_by(sentence) %>% \n",
    "  summarise(score = sum(polarity))"
   ]
  },
  {
   "cell_type": "code",
   "execution_count": 74,
   "id": "dc72bcbb",
   "metadata": {},
   "outputs": [
    {
     "data": {
      "text/html": [
       "<table class=\"dataframe\">\n",
       "<caption>A tibble: 2 × 2</caption>\n",
       "<thead>\n",
       "\t<tr><th scope=col>sentence</th><th scope=col>score</th></tr>\n",
       "\t<tr><th scope=col>&lt;chr&gt;</th><th scope=col>&lt;dbl&gt;</th></tr>\n",
       "</thead>\n",
       "<tbody>\n",
       "\t<tr><td>이 영화 핵노잼    </td><td>-2</td></tr>\n",
       "\t<tr><td>이번 에피소드 쩐다</td><td> 2</td></tr>\n",
       "</tbody>\n",
       "</table>\n"
      ],
      "text/latex": [
       "A tibble: 2 × 2\n",
       "\\begin{tabular}{ll}\n",
       " sentence & score\\\\\n",
       " <chr> & <dbl>\\\\\n",
       "\\hline\n",
       "\t 이 영화 핵노잼     & -2\\\\\n",
       "\t 이번 에피소드 쩐다 &  2\\\\\n",
       "\\end{tabular}\n"
      ],
      "text/markdown": [
       "\n",
       "A tibble: 2 × 2\n",
       "\n",
       "| sentence &lt;chr&gt; | score &lt;dbl&gt; |\n",
       "|---|---|\n",
       "| 이 영화 핵노잼     | -2 |\n",
       "| 이번 에피소드 쩐다 |  2 |\n",
       "\n"
      ],
      "text/plain": [
       "  sentence           score\n",
       "1 이 영화 핵노잼     -2   \n",
       "2 이번 에피소드 쩐다  2   "
      ]
     },
     "metadata": {},
     "output_type": "display_data"
    }
   ],
   "source": [
    "# 신조어 목록 생성\n",
    "newword <- tibble(word = c(\"쩐다\", \"핵노잼\"), \n",
    "                  polarity = c(2, -2))\n",
    "\n",
    "# 사전에 신조어 추가\n",
    "newword_dic <- bind_rows(dic, newword)\n",
    "\n",
    "# 새 사전으로 감정 점수 부여\n",
    "df %>% \n",
    "  left_join(newword_dic, by = \"word\") %>%\n",
    "  mutate(polarity = ifelse(is.na(polarity), 0, polarity)) %>% \n",
    "  group_by(sentence) %>% \n",
    "  summarise(score = sum(polarity))"
   ]
  },
  {
   "cell_type": "markdown",
   "id": "19dd86b4",
   "metadata": {},
   "source": [
    "### 감정 범주별 주요 단어 탐색"
   ]
  },
  {
   "cell_type": "code",
   "execution_count": 77,
   "id": "e5ba3910",
   "metadata": {},
   "outputs": [
    {
     "name": "stdout",
     "output_type": "stream",
     "text": [
      "\u001b[90m# A tibble: 33,445 x 5\u001b[39m\n",
      "      id reply                                             score sentiment word \n",
      "   \u001b[3m\u001b[90m<int>\u001b[39m\u001b[23m \u001b[3m\u001b[90m<chr>\u001b[39m\u001b[23m                                             \u001b[3m\u001b[90m<dbl>\u001b[39m\u001b[23m \u001b[3m\u001b[90m<chr>\u001b[39m\u001b[23m     \u001b[3m\u001b[90m<chr>\u001b[39m\u001b[23m\n",
      "\u001b[90m 1\u001b[39m     1 정말 우리 집에 좋은 일이 생겨 기쁘고 행복한 것처~     6 pos       정말 \n",
      "\u001b[90m 2\u001b[39m     1 정말 우리 집에 좋은 일이 생겨 기쁘고 행복한 것처~     6 pos       우리 \n",
      "\u001b[90m 3\u001b[39m     1 정말 우리 집에 좋은 일이 생겨 기쁘고 행복한 것처~     6 pos       집에 \n",
      "\u001b[90m 4\u001b[39m     1 정말 우리 집에 좋은 일이 생겨 기쁘고 행복한 것처~     6 pos       좋은 \n",
      "\u001b[90m 5\u001b[39m     1 정말 우리 집에 좋은 일이 생겨 기쁘고 행복한 것처~     6 pos       일이 \n",
      "\u001b[90m 6\u001b[39m     1 정말 우리 집에 좋은 일이 생겨 기쁘고 행복한 것처~     6 pos       생겨 \n",
      "\u001b[90m 7\u001b[39m     1 정말 우리 집에 좋은 일이 생겨 기쁘고 행복한 것처~     6 pos       기쁘~\n",
      "\u001b[90m 8\u001b[39m     1 정말 우리 집에 좋은 일이 생겨 기쁘고 행복한 것처~     6 pos       행복~\n",
      "\u001b[90m 9\u001b[39m     1 정말 우리 집에 좋은 일이 생겨 기쁘고 행복한 것처~     6 pos       것처~\n",
      "\u001b[90m10\u001b[39m     1 정말 우리 집에 좋은 일이 생겨 기쁘고 행복한 것처~     6 pos       나의 \n",
      "\u001b[90m# ... with 33,435 more rows\u001b[39m\n"
     ]
    }
   ],
   "source": [
    "new_comment <- new_score_comment %>%\n",
    "  unnest_tokens(input = reply,\n",
    "                output = word,\n",
    "                token = \"words\",\n",
    "                drop = F) %>%\n",
    "  filter(str_detect(word, \"[가-힣]\") &\n",
    "           str_count(word) >= 2)\n",
    "\n",
    "new_comment %>% print"
   ]
  },
  {
   "cell_type": "code",
   "execution_count": 79,
   "id": "3fda90a0",
   "metadata": {},
   "outputs": [
    {
     "name": "stdout",
     "output_type": "stream",
     "text": [
      "\u001b[90m# A tibble: 19,188 x 3\u001b[39m\n",
      "   sentiment word               n\n",
      "   \u001b[3m\u001b[90m<chr>\u001b[39m\u001b[23m     \u001b[3m\u001b[90m<chr>\u001b[39m\u001b[23m          \u001b[3m\u001b[90m<int>\u001b[39m\u001b[23m\n",
      "\u001b[90m 1\u001b[39m neu       축하합니다       214\n",
      "\u001b[90m 2\u001b[39m neu       봉준호           200\n",
      "\u001b[90m 3\u001b[39m neu       기생충           164\n",
      "\u001b[90m 4\u001b[39m neu       축하드립니다     151\n",
      "\u001b[90m 5\u001b[39m neu       정말             145\n",
      "\u001b[90m 6\u001b[39m neu       대박             134\n",
      "\u001b[90m 7\u001b[39m neu       진짜             120\n",
      "\u001b[90m 8\u001b[39m pos       봉준호           113\n",
      "\u001b[90m 9\u001b[39m pos       정말             110\n",
      "\u001b[90m10\u001b[39m neu       자랑스럽습니다    94\n",
      "\u001b[90m# ... with 19,178 more rows\u001b[39m\n"
     ]
    }
   ],
   "source": [
    "new_frequency_word <- new_comment %>%\n",
    "  count(sentiment, word, sort = T)\n",
    "\n",
    "new_frequency_word %>% print"
   ]
  },
  {
   "cell_type": "code",
   "execution_count": 80,
   "id": "3fb50bd8",
   "metadata": {},
   "outputs": [
    {
     "name": "stdout",
     "output_type": "stream",
     "text": [
      "\u001b[90m# A tibble: 8,408 x 3\u001b[39m\n",
      "   word         pos   neg\n",
      "   \u001b[3m\u001b[90m<chr>\u001b[39m\u001b[23m      \u001b[3m\u001b[90m<int>\u001b[39m\u001b[23m \u001b[3m\u001b[90m<int>\u001b[39m\u001b[23m\n",
      "\u001b[90m 1\u001b[39m 봉준호       113    43\n",
      "\u001b[90m 2\u001b[39m 정말         110    20\n",
      "\u001b[90m 3\u001b[39m 진짜          88    18\n",
      "\u001b[90m 4\u001b[39m 대단하다      86     1\n",
      "\u001b[90m 5\u001b[39m 자랑스럽다    78     1\n",
      "\u001b[90m 6\u001b[39m 영화          63    17\n",
      "\u001b[90m 7\u001b[39m 축하          63     0\n",
      "\u001b[90m 8\u001b[39m 대한민국      61     4\n",
      "\u001b[90m 9\u001b[39m 축하합니다    57     9\n",
      "\u001b[90m10\u001b[39m 기생충        56    30\n",
      "\u001b[90m# ... with 8,398 more rows\u001b[39m\n"
     ]
    }
   ],
   "source": [
    "new_comment_wide <- new_frequency_word %>%\n",
    "  filter(sentiment != \"neu\") %>%\n",
    "  pivot_wider(names_from = sentiment,\n",
    "              values_from = n,\n",
    "              values_fill = list(n = 0))\n",
    "\n",
    "new_comment_wide %>% print"
   ]
  },
  {
   "cell_type": "code",
   "execution_count": 81,
   "id": "5992b3d9",
   "metadata": {},
   "outputs": [
    {
     "name": "stdout",
     "output_type": "stream",
     "text": [
      "\u001b[90m# A tibble: 8,408 x 4\u001b[39m\n",
      "   word         pos   neg log_odds_ratio\n",
      "   \u001b[3m\u001b[90m<chr>\u001b[39m\u001b[23m      \u001b[3m\u001b[90m<int>\u001b[39m\u001b[23m \u001b[3m\u001b[90m<int>\u001b[39m\u001b[23m          \u001b[3m\u001b[90m<dbl>\u001b[39m\u001b[23m\n",
      "\u001b[90m 1\u001b[39m 봉준호       113    43          0.674\n",
      "\u001b[90m 2\u001b[39m 정말         110    20          1.39 \n",
      "\u001b[90m 3\u001b[39m 진짜          88    18          1.27 \n",
      "\u001b[90m 4\u001b[39m 대단하다      86     1          3.49 \n",
      "\u001b[90m 5\u001b[39m 자랑스럽다    78     1          3.40 \n",
      "\u001b[90m 6\u001b[39m 영화          63    17          0.990\n",
      "\u001b[90m 7\u001b[39m 축하          63     0          3.88 \n",
      "\u001b[90m 8\u001b[39m 대한민국      61     4          2.24 \n",
      "\u001b[90m 9\u001b[39m 축하합니다    57     9          1.48 \n",
      "\u001b[90m10\u001b[39m 기생충        56    30          0.331\n",
      "\u001b[90m# ... with 8,398 more rows\u001b[39m\n"
     ]
    }
   ],
   "source": [
    "new_comment_wide <- new_comment_wide %>%\n",
    "  mutate(log_odds_ratio = log(((pos + 1) / (sum(pos + 1))) /\n",
    "                              ((neg + 1) / (sum(neg + 1)))))\n",
    "\n",
    "new_comment_wide %>% print"
   ]
  },
  {
   "cell_type": "code",
   "execution_count": 82,
   "id": "8092f8d0",
   "metadata": {},
   "outputs": [
    {
     "data": {
      "image/png": "[encoded data removed]",
      "text/plain": [
       "plot without title"
      ]
     },
     "metadata": {
      "image/png": {
       "height": 420,
       "width": 420
      }
     },
     "output_type": "display_data"
    }
   ],
   "source": [
    "new_top10 <- new_comment_wide %>%\n",
    "  group_by(sentiment = ifelse(log_odds_ratio > 0, \"pos\", \"neg\")) %>%\n",
    "  slice_max(abs(log_odds_ratio), n = 10, with_ties = F)\n",
    "\n",
    "ggplot(new_top10, aes(x = reorder(word, log_odds_ratio),\n",
    "                      y = log_odds_ratio,\n",
    "                      fill = sentiment)) +\n",
    "  geom_col() +\n",
    "  coord_flip() +\n",
    "  labs(x = NULL) +\n",
    "  theme(text = element_text(family = \"blackhansans\"))"
   ]
  },
  {
   "cell_type": "markdown",
   "id": "304423fa",
   "metadata": {},
   "source": [
    "### 주요 단어가 사용된 댓글 탐색"
   ]
  },
  {
   "cell_type": "code",
   "execution_count": 87,
   "id": "949ad8d0",
   "metadata": {},
   "outputs": [
    {
     "name": "stdout",
     "output_type": "stream",
     "text": [
      "\u001b[90m# A tibble: 189 x 1\u001b[39m\n",
      "   reply                                                                        \n",
      "   \u001b[3m\u001b[90m<chr>\u001b[39m\u001b[23m                                                                        \n",
      "\u001b[90m 1\u001b[39m 정말 우리 집에 좋은 일이 생겨 기쁘고 행복한 것처럼!! 나의 일인 양 행복합니다~\n",
      "\u001b[90m 2\u001b[39m 와 너무 기쁘다! 이 시국에 정말 내 일같이 기쁘고 감사하다!!! 축하드려요 진심~ \n",
      "\u001b[90m 3\u001b[39m 우리나라의 영화감독분들 그리고 앞으로 그 꿈을 그리는 분들에게 큰 영감을 주시~\n",
      "\u001b[90m 4\u001b[39m 아카데미나 다른 상이나 지들만의 잔치지~ 난 대한민국에서 받는 상이 제일 가치 ~\n",
      "\u001b[90m 5\u001b[39m 정부에 빨대 꼽은 정치시민단체 기생충들이 득실거리는 떼한민국애서 훌륭한 영화~\n",
      "\u001b[90m 6\u001b[39m 대단해요 나는 안봤는데 그렇게 잘 만들어 한국인의 기백을 세계에 알리는 큰 일~ \n",
      "\u001b[90m 7\u001b[39m 나한테 돌아오는게 하나도 없는데 왜이렇게 자랑스럽지?ㅎㅎㅎ 축하 합니다~작품~ \n",
      "\u001b[90m 8\u001b[39m 한국영화 100년사에 한횟을 긋네요. 정말 축하 합니다                           \n",
      "\u001b[90m 9\u001b[39m 와 대단하다 진짜 축하드려요!!! 대박 진짜                                     \n",
      "\u001b[90m10\u001b[39m 각본상, 국제 영화상 수상 축하. 편집상은 꽝남.                                \n",
      "\u001b[90m# ... with 179 more rows\u001b[39m\n"
     ]
    }
   ],
   "source": [
    "new_score_comment %>%\n",
    "  filter(sentiment == \"pos\" & str_detect(reply, \"축하\")) %>%\n",
    "  select(reply) %>% print"
   ]
  },
  {
   "cell_type": "code",
   "execution_count": 88,
   "id": "f8c1a356",
   "metadata": {},
   "outputs": [
    {
     "name": "stdout",
     "output_type": "stream",
     "text": [
      "\u001b[90m# A tibble: 77 x 1\u001b[39m\n",
      "   reply                                                                        \n",
      "   \u001b[3m\u001b[90m<chr>\u001b[39m\u001b[23m                                                                        \n",
      "\u001b[90m 1\u001b[39m 생중계 보며 봉준호 할 때 소름이~~~!! ㅠㅠ 수상소감들으며 함께 가슴이 벅차네~ \n",
      "\u001b[90m 2\u001b[39m 와 보다가 소름 짝 수고들하셨어요                                             \n",
      "\u001b[90m 3\u001b[39m 대단하다!! 봉준호 이름 나오자마자 소름                                       \n",
      "\u001b[90m 4\u001b[39m 와우 브라보~ 키아누리브스의 봉준호, 순간 소름이.. 멋지십니다.                \n",
      "\u001b[90m 5\u001b[39m 소름 돋네요. 축하합니다                                                      \n",
      "\u001b[90m 6\u001b[39m 소름.... 기생충 각본집 산거 다시한번 잘했다는 생각이ㅠㅠㅠ 축하해요!!!!!!    \n",
      "\u001b[90m 7\u001b[39m 봉준호 아저씨 우리나라 자랑입니다 헐리웃 배우들과 화면에 같이 비춰지는게 아~ \n",
      "\u001b[90m 8\u001b[39m 추카해요. 봉준호하는데 막 완전 소름 돋았어요.                                \n",
      "\u001b[90m 9\u001b[39m 소름돋아서 닭살돋고.. 그냥 막 감동이라 눈물이 나려했어요.. 대단하고 자랑스럽~\n",
      "\u001b[90m10\u001b[39m 한국 영화 최초 아카데미상 수상, 92년 역사의 국제 장편 영화상과 최우수작품상 ~\n",
      "\u001b[90m# ... with 67 more rows\u001b[39m\n"
     ]
    }
   ],
   "source": [
    "new_score_comment %>%\n",
    "  filter(sentiment == \"pos\" & str_detect(reply, \"소름\")) %>%\n",
    "  select(reply) %>% print"
   ]
  },
  {
   "cell_type": "code",
   "execution_count": 89,
   "id": "b04d24ef",
   "metadata": {},
   "outputs": [
    {
     "name": "stdout",
     "output_type": "stream",
     "text": [
      "\u001b[90m# A tibble: 34 x 1\u001b[39m\n",
      "   reply                                                                        \n",
      "   \u001b[3m\u001b[90m<chr>\u001b[39m\u001b[23m                                                                        \n",
      "\u001b[90m 1\u001b[39m 자칭 보수들은 분노의 타이핑중 ㅋㅋㅋㅋㅋㅋ전세계를 좌빨로 몰수는 없고 자존심~\n",
      "\u001b[90m 2\u001b[39m 자칭보수 왈 : 미국에 로비했다 ㅋㅋ좌빨영화가 상받을리 없다 ㅋㅋㅋㅋㅋㅋㅋ 본~\n",
      "\u001b[90m 3\u001b[39m 좌빨 봉준호 영화는 쳐다도 안본다 ㅋㅋㅋㅋㅋㅋㅋㅋㅋㅋㅋ                      \n",
      "\u001b[90m 4\u001b[39m 봉준호 그렇게 미국 싫어하는데 상은 쳐 받으러 가는 좌빨 수준ㅋㅋㅋ            \n",
      "\u001b[90m 5\u001b[39m 좌빨 기생충들은 댓글도 달지마라 미국 영화제 수상이 니들하고 뭔상관인데.      \n",
      "\u001b[90m 6\u001b[39m 얘들은 왜 인정을 안하냐? ㅋㅋ 니들 이미 변호인 찍을대 부터 송강호 욕해대고 ~ \n",
      "\u001b[90m 7\u001b[39m 넷상 보수들 만큼 이중적인 새1끼들 없음. 봉준호 송강호 보고 종북좌빨 홍어드립~\n",
      "\u001b[90m 8\u001b[39m 우선 축하합니다.그리고 다음에는 조씨가족을 모델로한 뻔뻔하고 거짓말을 밥 먹~ \n",
      "\u001b[90m 9\u001b[39m Korea 대단합니다 김연아 방탄 봉준호 스포츠 음악 영화 못하는게 없어요 좌빨 감~\n",
      "\u001b[90m10\u001b[39m 좌빨 감독이라고 블랙리스트에 올랐던 사람을 세계인이 인정해주네. 방구석에 앉~ \n",
      "\u001b[90m# ... with 24 more rows\u001b[39m\n"
     ]
    }
   ],
   "source": [
    "new_score_comment %>%\n",
    "  filter(sentiment == \"neg\" & str_detect(reply, \"좌빨\")) %>%\n",
    "  select(reply) %>% print"
   ]
  },
  {
   "cell_type": "code",
   "execution_count": 90,
   "id": "3cc5ada5",
   "metadata": {},
   "outputs": [
    {
     "name": "stdout",
     "output_type": "stream",
     "text": [
      "\u001b[90m# A tibble: 7 x 1\u001b[39m\n",
      "  reply                                                                         \n",
      "  \u001b[3m\u001b[90m<chr>\u001b[39m\u001b[23m                                                                         \n",
      "\u001b[90m1\u001b[39m 한번도경험하지. 못한 조국가족사기단기생충. 개봉박두                           \n",
      "\u001b[90m2\u001b[39m 여기서 정치얘기하는 건 학창시절 공부 못한 거 인증하는 꼴... 주제좀 벗어나지 ~ \n",
      "\u001b[90m3\u001b[39m 이 기사를 반문으로 먹고 사는 자유왜국당과, mb아바타 간철수 댓글알바들이 매우 ~\n",
      "\u001b[90m4\u001b[39m 한국미국일본 vs 주적북한,중국러시아 이 구도인 현 시대 상황 속에서, 미국 일본~ \n",
      "\u001b[90m5\u001b[39m 친일수꼴 들과 자한당넘들이 나라에 경사만 있으면 엄청 싫어합니다, 맨날 사고만 ~\n",
      "\u001b[90m6\u001b[39m 각본상,국제상,감독상 ...어디서 듣도보도 못한 아차상 같은 쩌리처리용 상 아닌가~\n",
      "\u001b[90m7\u001b[39m 난 밥을 먹고 기생충은 오스카를 먹다, 기생충은 대한민국의 국격을 높였는데 난 ~ \n"
     ]
    }
   ],
   "source": [
    "new_score_comment %>%\n",
    "  filter(sentiment == \"neg\" & str_detect(reply, \"못한\")) %>%\n",
    "  select(reply) %>% print"
   ]
  },
  {
   "cell_type": "markdown",
   "id": "67d33a0c",
   "metadata": {},
   "source": [
    "### 분석 결과 비교"
   ]
  },
  {
   "cell_type": "code",
   "execution_count": 92,
   "id": "9f960e9b",
   "metadata": {},
   "outputs": [
    {
     "name": "stdout",
     "output_type": "stream",
     "text": [
      "\u001b[90m# A tibble: 20 x 3\u001b[39m\n",
      "\u001b[90m# Groups:   sentiment [2]\u001b[39m\n",
      "   word       log_odds_ratio sentiment\n",
      "   \u001b[3m\u001b[90m<chr>\u001b[39m\u001b[23m               \u001b[3m\u001b[90m<dbl>\u001b[39m\u001b[23m \u001b[3m\u001b[90m<chr>\u001b[39m\u001b[23m    \n",
      "\u001b[90m 1\u001b[39m 축하                 3.95 pos      \n",
      "\u001b[90m 2\u001b[39m 멋지다               3.81 pos      \n",
      "\u001b[90m 3\u001b[39m 대단한               3.66 pos      \n",
      "\u001b[90m 4\u001b[39m 좋은                 3.55 pos      \n",
      "\u001b[90m 5\u001b[39m 대단하다             3.52 pos      \n",
      "\u001b[90m 6\u001b[39m 자랑스럽다           3.46 pos      \n",
      "\u001b[90m 7\u001b[39m 최고                 3.12 pos      \n",
      "\u001b[90m 8\u001b[39m 세계적인             3.01 pos      \n",
      "\u001b[90m 9\u001b[39m 최고의               2.97 pos      \n",
      "\u001b[90m10\u001b[39m 위대한               2.92 pos      \n",
      "\u001b[90m11\u001b[39m 닭그네              -\u001b[31m1\u001b[39m\u001b[31m.\u001b[39m\u001b[31m82\u001b[39m neg      \n",
      "\u001b[90m12\u001b[39m 가난한              -\u001b[31m2\u001b[39m\u001b[31m.\u001b[39m\u001b[31m00\u001b[39m neg      \n",
      "\u001b[90m13\u001b[39m 모르는              -\u001b[31m2\u001b[39m\u001b[31m.\u001b[39m\u001b[31m00\u001b[39m neg      \n",
      "\u001b[90m14\u001b[39m 아쉽다              -\u001b[31m2\u001b[39m\u001b[31m.\u001b[39m\u001b[31m00\u001b[39m neg      \n",
      "\u001b[90m15\u001b[39m 소름이              -\u001b[31m2\u001b[39m\u001b[31m.\u001b[39m\u001b[31m0\u001b[39m\u001b[31m8\u001b[39m neg      \n",
      "\u001b[90m16\u001b[39m 좌좀                -\u001b[31m2\u001b[39m\u001b[31m.\u001b[39m\u001b[31m16\u001b[39m neg      \n",
      "\u001b[90m17\u001b[39m 못한                -\u001b[31m2\u001b[39m\u001b[31m.\u001b[39m\u001b[31m29\u001b[39m neg      \n",
      "\u001b[90m18\u001b[39m 미친                -\u001b[31m2\u001b[39m\u001b[31m.\u001b[39m\u001b[31m29\u001b[39m neg      \n",
      "\u001b[90m19\u001b[39m 좌빨                -\u001b[31m2\u001b[39m\u001b[31m.\u001b[39m\u001b[31m61\u001b[39m neg      \n",
      "\u001b[90m20\u001b[39m 소름                -\u001b[31m3\u001b[39m\u001b[31m.\u001b[39m\u001b[31m0\u001b[39m\u001b[31m3\u001b[39m neg      \n",
      "\u001b[90m# A tibble: 20 x 3\u001b[39m\n",
      "\u001b[90m# Groups:   sentiment [2]\u001b[39m\n",
      "   word       log_odds_ratio sentiment\n",
      "   \u001b[3m\u001b[90m<chr>\u001b[39m\u001b[23m               \u001b[3m\u001b[90m<dbl>\u001b[39m\u001b[23m \u001b[3m\u001b[90m<chr>\u001b[39m\u001b[23m    \n",
      "\u001b[90m 1\u001b[39m 축하                 3.88 pos      \n",
      "\u001b[90m 2\u001b[39m 멋지다               3.76 pos      \n",
      "\u001b[90m 3\u001b[39m 소름                 3.76 pos      \n",
      "\u001b[90m 4\u001b[39m 대단한               3.59 pos      \n",
      "\u001b[90m 5\u001b[39m 대단하다             3.49 pos      \n",
      "\u001b[90m 6\u001b[39m 좋은                 3.48 pos      \n",
      "\u001b[90m 7\u001b[39m 자랑스럽다           3.40 pos      \n",
      "\u001b[90m 8\u001b[39m 최고                 3.09 pos      \n",
      "\u001b[90m 9\u001b[39m 세계적인             2.94 pos      \n",
      "\u001b[90m10\u001b[39m 최고의               2.90 pos      \n",
      "\u001b[90m11\u001b[39m 닭그네              -\u001b[31m1\u001b[39m\u001b[31m.\u001b[39m\u001b[31m89\u001b[39m neg      \n",
      "\u001b[90m12\u001b[39m 못하고              -\u001b[31m1\u001b[39m\u001b[31m.\u001b[39m\u001b[31m89\u001b[39m neg      \n",
      "\u001b[90m13\u001b[39m 사회적              -\u001b[31m1\u001b[39m\u001b[31m.\u001b[39m\u001b[31m89\u001b[39m neg      \n",
      "\u001b[90m14\u001b[39m 싫다                -\u001b[31m1\u001b[39m\u001b[31m.\u001b[39m\u001b[31m89\u001b[39m neg      \n",
      "\u001b[90m15\u001b[39m 가난한              -\u001b[31m2\u001b[39m\u001b[31m.\u001b[39m\u001b[31m0\u001b[39m\u001b[31m7\u001b[39m neg      \n",
      "\u001b[90m16\u001b[39m 모르는              -\u001b[31m2\u001b[39m\u001b[31m.\u001b[39m\u001b[31m0\u001b[39m\u001b[31m7\u001b[39m neg      \n",
      "\u001b[90m17\u001b[39m 아쉽다              -\u001b[31m2\u001b[39m\u001b[31m.\u001b[39m\u001b[31m0\u001b[39m\u001b[31m7\u001b[39m neg      \n",
      "\u001b[90m18\u001b[39m 좌좀                -\u001b[31m2\u001b[39m\u001b[31m.\u001b[39m\u001b[31m22\u001b[39m neg      \n",
      "\u001b[90m19\u001b[39m 못한                -\u001b[31m2\u001b[39m\u001b[31m.\u001b[39m\u001b[31m36\u001b[39m neg      \n",
      "\u001b[90m20\u001b[39m 좌빨                -\u001b[31m2\u001b[39m\u001b[31m.\u001b[39m\u001b[31m68\u001b[39m neg      \n"
     ]
    }
   ],
   "source": [
    "# 원본 감정 사전 활용\n",
    "top10 %>% \n",
    "  select(-pos, -neg) %>% \n",
    "  arrange(-log_odds_ratio) %>% print\n",
    "\n",
    "# 수정한 감정 사전 활용\n",
    "new_top10 %>%\n",
    "  select(-pos, -neg) %>%\n",
    "  arrange(-log_odds_ratio) %>% print"
   ]
  },
  {
   "cell_type": "code",
   "execution_count": 94,
   "id": "ebf3e339",
   "metadata": {},
   "outputs": [
    {
     "data": {
      "text/html": [
       "<table class=\"dataframe\">\n",
       "<caption>A tibble: 1 × 4</caption>\n",
       "<thead>\n",
       "\t<tr><th scope=col>word</th><th scope=col>pos</th><th scope=col>neg</th><th scope=col>log_odds_ratio</th></tr>\n",
       "\t<tr><th scope=col>&lt;chr&gt;</th><th scope=col>&lt;int&gt;</th><th scope=col>&lt;int&gt;</th><th scope=col>&lt;dbl&gt;</th></tr>\n",
       "</thead>\n",
       "<tbody>\n",
       "\t<tr><td>미친</td><td>7</td><td>0</td><td>1.801158</td></tr>\n",
       "</tbody>\n",
       "</table>\n"
      ],
      "text/latex": [
       "A tibble: 1 × 4\n",
       "\\begin{tabular}{llll}\n",
       " word & pos & neg & log\\_odds\\_ratio\\\\\n",
       " <chr> & <int> & <int> & <dbl>\\\\\n",
       "\\hline\n",
       "\t 미친 & 7 & 0 & 1.801158\\\\\n",
       "\\end{tabular}\n"
      ],
      "text/markdown": [
       "\n",
       "A tibble: 1 × 4\n",
       "\n",
       "| word &lt;chr&gt; | pos &lt;int&gt; | neg &lt;int&gt; | log_odds_ratio &lt;dbl&gt; |\n",
       "|---|---|---|---|\n",
       "| 미친 | 7 | 0 | 1.801158 |\n",
       "\n"
      ],
      "text/plain": [
       "  word pos neg log_odds_ratio\n",
       "1 미친 7   0   1.801158      "
      ]
     },
     "metadata": {},
     "output_type": "display_data"
    }
   ],
   "source": [
    "new_comment_wide %>%\n",
    "  filter(word == \"미친\")"
   ]
  },
  {
   "cell_type": "markdown",
   "id": "29c8a893",
   "metadata": {},
   "source": [
    "### Q1"
   ]
  },
  {
   "cell_type": "code",
   "execution_count": 121,
   "id": "4f71643a",
   "metadata": {
    "scrolled": true
   },
   "outputs": [
    {
     "name": "stderr",
     "output_type": "stream",
     "text": [
      "\u001b[1mRows: \u001b[22m\u001b[34m1200\u001b[39m \u001b[1mColumns: \u001b[22m\u001b[34m5\u001b[39m\n",
      "\u001b[36m--\u001b[39m \u001b[1mColumn specification\u001b[22m \u001b[36m------------------------------------------------------------------------------------------------\u001b[39m\n",
      "\u001b[1mDelimiter:\u001b[22m \",\"\n",
      "\u001b[31mchr\u001b[39m  (4): reply, press, title, url\n",
      "\u001b[34mdttm\u001b[39m (1): reg_time\n",
      "\n",
      "\u001b[36mi\u001b[39m Use `spec()` to retrieve the full column specification for this data.\n",
      "\u001b[36mi\u001b[39m Specify the column types or set `show_col_types = FALSE` to quiet this message.\n"
     ]
    },
    {
     "name": "stdout",
     "output_type": "stream",
     "text": [
      "\u001b[90m# A tibble: 1,200 x 5\u001b[39m\n",
      "   reg_time            reply                                   press title url  \n",
      "   \u001b[3m\u001b[90m<dttm>\u001b[39m\u001b[23m              \u001b[3m\u001b[90m<chr>\u001b[39m\u001b[23m                                   \u001b[3m\u001b[90m<chr>\u001b[39m\u001b[23m \u001b[3m\u001b[90m<chr>\u001b[39m\u001b[23m \u001b[3m\u001b[90m<chr>\u001b[39m\u001b[23m\n",
      "\u001b[90m 1\u001b[39m 2020-09-01 \u001b[90m22:58:09\u001b[39m \u001b[90m\"\u001b[39m국보소년단<U+0001F49C>\u001b[90m\"\u001b[39m                한국~ [속~  http~\n",
      "\u001b[90m 2\u001b[39m 2020-09-01 \u001b[90m09:56:46\u001b[39m \u001b[90m\"\u001b[39m아줌마가 들어도 좋더라\u001b[90m\"\u001b[39m                한국~ [속~  http~\n",
      "\u001b[90m 3\u001b[39m 2020-09-01 \u001b[90m09:08:06\u001b[39m \u001b[90m\"\u001b[39m팩트체크\\n\\n현재 빌보드 HOT 100\\n\\n1~  한국~ [속~  http~\n",
      "\u001b[90m 4\u001b[39m 2020-09-01 \u001b[90m08:52:32\u001b[39m \u001b[90m\"\u001b[39m방탄소년단이 한국사람이라 너무 자랑스~ 한국~ [속~  http~\n",
      "\u001b[90m 5\u001b[39m 2020-09-01 \u001b[90m08:36:33\u001b[39m \u001b[90m\"\u001b[39m대단한 BTS, 월드 클래스는 다르네^^ 좋~ 한국~ [속~  http~\n",
      "\u001b[90m 6\u001b[39m 2020-09-01 \u001b[90m08:34:14\u001b[39m \u001b[90m\"\u001b[39m정국오빠 생일과 더불어 빌보드 1위기사~ 한국~ [속~  http~\n",
      "\u001b[90m 7\u001b[39m 2020-09-01 \u001b[90m08:32:14\u001b[39m \u001b[90m\"\u001b[39m정말 축하하고 응원하지만\\n집에서 여러~ 한국~ [속~  http~\n",
      "\u001b[90m 8\u001b[39m 2020-09-01 \u001b[90m08:22:09\u001b[39m \u001b[90m\"\u001b[39m기자는 자고 일어났지만, 팬들은 못자고~ 한국~ [속~  http~\n",
      "\u001b[90m 9\u001b[39m 2020-09-01 \u001b[90m08:17:58\u001b[39m \u001b[90m\"\u001b[39m자랑스럽다!!!!!! 축하합니다!!!!\u001b[90m\"\u001b[39m       한국~ [속~  http~\n",
      "\u001b[90m10\u001b[39m 2020-09-01 \u001b[90m08:15:37\u001b[39m \u001b[90m\"\u001b[39mSuperM 늘 응원하고 사랑합니다~\u001b[90m\"\u001b[39m        한국~ [속~  http~\n",
      "\u001b[90m# ... with 1,190 more rows\u001b[39m\n"
     ]
    }
   ],
   "source": [
    "raw_news_comment <- read_csv(\"news_comment_BTS.csv\")\n",
    "raw_news_comment %>% print"
   ]
  },
  {
   "cell_type": "code",
   "execution_count": 216,
   "id": "e3ae433f",
   "metadata": {},
   "outputs": [
    {
     "name": "stdout",
     "output_type": "stream",
     "text": [
      "\u001b[90m# A tibble: 1,200 x 2\u001b[39m\n",
      "      id reply                                                                  \n",
      "   \u001b[3m\u001b[90m<int>\u001b[39m\u001b[23m \u001b[3m\u001b[90m<chr>\u001b[39m\u001b[23m                                                                  \n",
      "\u001b[90m 1\u001b[39m     1 국보소년단                                                             \n",
      "\u001b[90m 2\u001b[39m     2 아줌마가 들어도 좋더라                                                 \n",
      "\u001b[90m 3\u001b[39m     3 팩트체크 현재 빌보드 HOT 100 1위 방탄소년단[BTS] 2위 Cardi B ft. Megan~\n",
      "\u001b[90m 4\u001b[39m     4 방탄소년단이 한국사람이라 너무 자랑스러워요 ㅠㅠ 우리오래오래 함께하자!\n",
      "\u001b[90m 5\u001b[39m     5 대단한 BTS, 월드 클래스는 다르네^^ 좋은 소식!! 응원해요                \n",
      "\u001b[90m 6\u001b[39m     6 정국오빠 생일과 더불어 빌보드 1위기사라니ㅠㅠ축제구나                  \n",
      "\u001b[90m 7\u001b[39m     7 정말 축하하고 응원하지만 집에서 여러 계정으로 스트리밍 돌리고 사재기하~\n",
      "\u001b[90m 8\u001b[39m     8 기자는 자고 일어났지만, 팬들은 못자고 발표 기다림                      \n",
      "\u001b[90m 9\u001b[39m     9 자랑스럽다!!!!!! 축하합니다!!!!                                        \n",
      "\u001b[90m10\u001b[39m    10 SuperM 늘 응원하고 사랑합니다~                                         \n",
      "\u001b[90m# ... with 1,190 more rows\u001b[39m\n"
     ]
    }
   ],
   "source": [
    "news_comment <- raw_news_comment %>%\n",
    "  mutate(id = row_number(),\n",
    "         reply = str_squish(replace_html(reply)))\n",
    "\n",
    "news_comment %>%\n",
    "  select(id, reply)  %>% print"
   ]
  },
  {
   "cell_type": "markdown",
   "id": "288db74e",
   "metadata": {},
   "source": [
    "### Q2"
   ]
  },
  {
   "cell_type": "code",
   "execution_count": 218,
   "id": "76f00056",
   "metadata": {
    "scrolled": true
   },
   "outputs": [
    {
     "name": "stdout",
     "output_type": "stream",
     "text": [
      "\u001b[90m# A tibble: 11,673 x 1\u001b[39m\n",
      "   word      \n",
      "   \u001b[3m\u001b[90m<chr>\u001b[39m\u001b[23m     \n",
      "\u001b[90m 1\u001b[39m 국보소년단\n",
      "\u001b[90m 2\u001b[39m 아줌마가  \n",
      "\u001b[90m 3\u001b[39m 들어도    \n",
      "\u001b[90m 4\u001b[39m 좋더라    \n",
      "\u001b[90m 5\u001b[39m 팩트체크  \n",
      "\u001b[90m 6\u001b[39m 현재      \n",
      "\u001b[90m 7\u001b[39m 빌보드    \n",
      "\u001b[90m 8\u001b[39m hot       \n",
      "\u001b[90m 9\u001b[39m 100       \n",
      "\u001b[90m10\u001b[39m 1         \n",
      "\u001b[90m# ... with 11,663 more rows\u001b[39m\n"
     ]
    }
   ],
   "source": [
    "word_comment <- news_comment %>%\n",
    "  unnest_tokens(input = reply,\n",
    "                output = word,\n",
    "                token = \"words\", \n",
    "                drop = F)         \n",
    "\n",
    "word_comment %>%\n",
    "  select(word) %>% print"
   ]
  },
  {
   "cell_type": "code",
   "execution_count": 219,
   "id": "6ff61d54",
   "metadata": {},
   "outputs": [
    {
     "name": "stderr",
     "output_type": "stream",
     "text": [
      "\u001b[1mRows: \u001b[22m\u001b[34m14854\u001b[39m \u001b[1mColumns: \u001b[22m\u001b[34m2\u001b[39m\n",
      "\u001b[36m--\u001b[39m \u001b[1mColumn specification\u001b[22m \u001b[36m------------------------------------------------------------------------------------------------\u001b[39m\n",
      "\u001b[1mDelimiter:\u001b[22m \",\"\n",
      "\u001b[31mchr\u001b[39m (1): word\n",
      "\u001b[32mdbl\u001b[39m (1): polarity\n",
      "\n",
      "\u001b[36mi\u001b[39m Use `spec()` to retrieve the full column specification for this data.\n",
      "\u001b[36mi\u001b[39m Specify the column types or set `show_col_types = FALSE` to quiet this message.\n"
     ]
    },
    {
     "name": "stdout",
     "output_type": "stream",
     "text": [
      "\u001b[90m# A tibble: 11,673 x 2\u001b[39m\n",
      "   word       polarity\n",
      "   \u001b[3m\u001b[90m<chr>\u001b[39m\u001b[23m         \u001b[3m\u001b[90m<dbl>\u001b[39m\u001b[23m\n",
      "\u001b[90m 1\u001b[39m 대단한            2\n",
      "\u001b[90m 2\u001b[39m 좋은              2\n",
      "\u001b[90m 3\u001b[39m 자랑스럽다        2\n",
      "\u001b[90m 4\u001b[39m 자랑스럽다        2\n",
      "\u001b[90m 5\u001b[39m 자랑스럽다        2\n",
      "\u001b[90m 6\u001b[39m 장하다            2\n",
      "\u001b[90m 7\u001b[39m 꾸준히            2\n",
      "\u001b[90m 8\u001b[39m 행복한            2\n",
      "\u001b[90m 9\u001b[39m 대단한            2\n",
      "\u001b[90m10\u001b[39m 대단한            2\n",
      "\u001b[90m# ... with 11,663 more rows\u001b[39m\n"
     ]
    }
   ],
   "source": [
    "dic <- read_csv(\"knu_sentiment_lexicon.csv\")\n",
    "\n",
    "word_comment <- word_comment %>%\n",
    "  left_join(dic, by = \"word\") %>%\n",
    "  mutate(polarity = ifelse(is.na(polarity), 0, polarity))\n",
    "\n",
    "word_comment %>%\n",
    "  select(word, polarity) %>%\n",
    "  arrange(-polarity) %>% print"
   ]
  },
  {
   "cell_type": "code",
   "execution_count": 220,
   "id": "9bf36330",
   "metadata": {},
   "outputs": [
    {
     "name": "stderr",
     "output_type": "stream",
     "text": [
      "\u001b[1m\u001b[22m`summarise()` has grouped output by 'id'. You can override using the `.groups` argument.\n"
     ]
    },
    {
     "name": "stdout",
     "output_type": "stream",
     "text": [
      "\u001b[90m# A tibble: 1,194 x 2\u001b[39m\n",
      "   score reply                                                                  \n",
      "   \u001b[3m\u001b[90m<dbl>\u001b[39m\u001b[23m \u001b[3m\u001b[90m<chr>\u001b[39m\u001b[23m                                                                  \n",
      "\u001b[90m 1\u001b[39m     8 멋지다, 자랑스럽다, 대단하다 방탄소년단!!! 다이너마이트 빌보드 핫100 1~\n",
      "\u001b[90m 2\u001b[39m     7 팬은 아니야. 그래서 저 노력과 업적이 더 대단해보여. 정말 멋지다. 잘생~ \n",
      "\u001b[90m 3\u001b[39m     6 축하 합니다 우리에 보물이네 대한미국에 애국자 들이다 나라 홍보도하고 ~ \n",
      "\u001b[90m 4\u001b[39m     6 우리딸이 보는 눈이 있네 호르몬전쟁 노래부터 애네들 좋아했는데 그때는 ~ \n",
      "\u001b[90m 5\u001b[39m     6 ㅜㅜ . 진짜 이 코로나에 너희들이 빛이여. 핫백 1위라니. 모든 기록을 다 ~\n",
      "\u001b[90m 6\u001b[39m     6 축하 축하 아미분들도 축하^^                                            \n",
      "\u001b[90m 7\u001b[39m     6 정말 대단하고 자랑스럽습니다.. 국격이 업그레이드 된거 같습니다..축하 ~ \n",
      "\u001b[90m 8\u001b[39m     6 빌보드 핫100 1위 축하해요 여기까지 오느라 힘들었을텐데 수고했어요 앞으~\n",
      "\u001b[90m 9\u001b[39m     6 진짜 대단하다. K팝 아시아 최고 넘어서 빌보드 1위 등극 이제 BTS가 그냥 ~\n",
      "\u001b[90m10\u001b[39m     6 정국이 생일에 빌보드 핫100 1위라니... 정말 뜻깊은 하루네요ㅠㅠ 좋은 음~\n",
      "\u001b[90m# ... with 1,184 more rows\u001b[39m\n"
     ]
    }
   ],
   "source": [
    "score_comment <- word_comment %>%\n",
    "  group_by(id, reply) %>%\n",
    "  summarise(score = sum(polarity)) %>%\n",
    "  ungroup()\n",
    "\n",
    "score_comment %>%\n",
    "  select(score, reply) %>%\n",
    "  arrange(-score) %>% print"
   ]
  },
  {
   "cell_type": "markdown",
   "id": "ac35143f",
   "metadata": {},
   "source": [
    "### Q3"
   ]
  },
  {
   "cell_type": "code",
   "execution_count": 221,
   "id": "33204db4",
   "metadata": {},
   "outputs": [
    {
     "name": "stdout",
     "output_type": "stream",
     "text": [
      "\u001b[90m# A tibble: 1,194 x 2\u001b[39m\n",
      "   sentiment reply                                                              \n",
      "   \u001b[3m\u001b[90m<chr>\u001b[39m\u001b[23m     \u001b[3m\u001b[90m<chr>\u001b[39m\u001b[23m                                                              \n",
      "\u001b[90m 1\u001b[39m neu       국보소년단                                                         \n",
      "\u001b[90m 2\u001b[39m neu       아줌마가 들어도 좋더라                                             \n",
      "\u001b[90m 3\u001b[39m pos       팩트체크 현재 빌보드 HOT 100 1위 방탄소년단[BTS] 2위 Cardi B ft. M~\n",
      "\u001b[90m 4\u001b[39m neg       방탄소년단이 한국사람이라 너무 자랑스러워요 ㅠㅠ 우리오래오래 함께~\n",
      "\u001b[90m 5\u001b[39m pos       대단한 BTS, 월드 클래스는 다르네^^ 좋은 소식!! 응원해요            \n",
      "\u001b[90m 6\u001b[39m neg       정국오빠 생일과 더불어 빌보드 1위기사라니ㅠㅠ축제구나              \n",
      "\u001b[90m 7\u001b[39m neu       정말 축하하고 응원하지만 집에서 여러 계정으로 스트리밍 돌리고 사재~\n",
      "\u001b[90m 8\u001b[39m neu       기자는 자고 일어났지만, 팬들은 못자고 발표 기다림                  \n",
      "\u001b[90m 9\u001b[39m pos       자랑스럽다!!!!!! 축하합니다!!!!                                    \n",
      "\u001b[90m10\u001b[39m neu       SuperM 늘 응원하고 사랑합니다~                                     \n",
      "\u001b[90m# ... with 1,184 more rows\u001b[39m\n"
     ]
    }
   ],
   "source": [
    "score_comment <- score_comment %>%\n",
    "  mutate(sentiment = ifelse(score >=  1, \"pos\",\n",
    "                     ifelse(score <= -1, \"neg\", \"neu\")))\n",
    "\n",
    "score_comment %>%\n",
    "  select(sentiment, reply) %>% print"
   ]
  },
  {
   "cell_type": "code",
   "execution_count": 222,
   "id": "ace6810d",
   "metadata": {},
   "outputs": [
    {
     "data": {
      "text/html": [
       "<table class=\"dataframe\">\n",
       "<caption>A tibble: 3 × 2</caption>\n",
       "<thead>\n",
       "\t<tr><th scope=col>sentiment</th><th scope=col>n</th></tr>\n",
       "\t<tr><th scope=col>&lt;chr&gt;</th><th scope=col>&lt;int&gt;</th></tr>\n",
       "</thead>\n",
       "<tbody>\n",
       "\t<tr><td>neg</td><td>113</td></tr>\n",
       "\t<tr><td>neu</td><td>743</td></tr>\n",
       "\t<tr><td>pos</td><td>338</td></tr>\n",
       "</tbody>\n",
       "</table>\n"
      ],
      "text/latex": [
       "A tibble: 3 × 2\n",
       "\\begin{tabular}{ll}\n",
       " sentiment & n\\\\\n",
       " <chr> & <int>\\\\\n",
       "\\hline\n",
       "\t neg & 113\\\\\n",
       "\t neu & 743\\\\\n",
       "\t pos & 338\\\\\n",
       "\\end{tabular}\n"
      ],
      "text/markdown": [
       "\n",
       "A tibble: 3 × 2\n",
       "\n",
       "| sentiment &lt;chr&gt; | n &lt;int&gt; |\n",
       "|---|---|\n",
       "| neg | 113 |\n",
       "| neu | 743 |\n",
       "| pos | 338 |\n",
       "\n"
      ],
      "text/plain": [
       "  sentiment n  \n",
       "1 neg       113\n",
       "2 neu       743\n",
       "3 pos       338"
      ]
     },
     "metadata": {},
     "output_type": "display_data"
    },
    {
     "data": {
      "image/png": "[encoded data removed]",
      "text/plain": [
       "plot without title"
      ]
     },
     "metadata": {
      "image/png": {
       "height": 420,
       "width": 420
      }
     },
     "output_type": "display_data"
    }
   ],
   "source": [
    "frequency_score <- score_comment %>%\n",
    "  count(sentiment)\n",
    "\n",
    "frequency_score\n",
    "\n",
    "ggplot(frequency_score, aes(x = sentiment, y = n, fill = sentiment)) +\n",
    "  geom_col() +\n",
    "  geom_text(aes(label = n), vjust = -0.3)"
   ]
  },
  {
   "cell_type": "markdown",
   "id": "df481153",
   "metadata": {},
   "source": [
    "### Q4"
   ]
  },
  {
   "cell_type": "code",
   "execution_count": 224,
   "id": "1f904327",
   "metadata": {},
   "outputs": [
    {
     "name": "stdout",
     "output_type": "stream",
     "text": [
      "\u001b[90m# A tibble: 6,900 x 3\u001b[39m\n",
      "   sentiment word           n\n",
      "   \u001b[3m\u001b[90m<chr>\u001b[39m\u001b[23m     \u001b[3m\u001b[90m<chr>\u001b[39m\u001b[23m      \u001b[3m\u001b[90m<int>\u001b[39m\u001b[23m\n",
      "\u001b[90m 1\u001b[39m neu       1            126\n",
      "\u001b[90m 2\u001b[39m pos       진짜          90\n",
      "\u001b[90m 3\u001b[39m pos       1             82\n",
      "\u001b[90m 4\u001b[39m neu       진짜          79\n",
      "\u001b[90m 5\u001b[39m pos       자랑스럽다    77\n",
      "\u001b[90m 6\u001b[39m neu       bts           72\n",
      "\u001b[90m 7\u001b[39m pos       너무          70\n",
      "\u001b[90m 8\u001b[39m neu       빌보드        66\n",
      "\u001b[90m 9\u001b[39m pos       정말          57\n",
      "\u001b[90m10\u001b[39m neu       군면제        48\n",
      "\u001b[90m# ... with 6,890 more rows\u001b[39m\n"
     ]
    }
   ],
   "source": [
    "comment <- score_comment %>%\n",
    "  unnest_tokens(input = reply,\n",
    "                output = word,\n",
    "                token = \"words\",\n",
    "                drop = F)\n",
    "\n",
    "frequency_word <- comment %>%\n",
    "  count(sentiment, word, sort = T)\n",
    "\n",
    "frequency_word %>% print"
   ]
  },
  {
   "cell_type": "markdown",
   "id": "3a9aff61",
   "metadata": {},
   "source": [
    "### Q5"
   ]
  },
  {
   "cell_type": "code",
   "execution_count": 225,
   "id": "39d472df",
   "metadata": {},
   "outputs": [
    {
     "name": "stdout",
     "output_type": "stream",
     "text": [
      "\u001b[90m# A tibble: 3,247 x 3\u001b[39m\n",
      "   word         pos   neg\n",
      "   \u001b[3m\u001b[90m<chr>\u001b[39m\u001b[23m      \u001b[3m\u001b[90m<int>\u001b[39m\u001b[23m \u001b[3m\u001b[90m<int>\u001b[39m\u001b[23m\n",
      "\u001b[90m 1\u001b[39m 진짜          90    20\n",
      "\u001b[90m 2\u001b[39m 1             82    29\n",
      "\u001b[90m 3\u001b[39m 자랑스럽다    77     0\n",
      "\u001b[90m 4\u001b[39m 너무          70    14\n",
      "\u001b[90m 5\u001b[39m 정말          57     5\n",
      "\u001b[90m 6\u001b[39m 위            46    11\n",
      "\u001b[90m 7\u001b[39m 빌보드        40    15\n",
      "\u001b[90m 8\u001b[39m 방탄          39     8\n",
      "\u001b[90m 9\u001b[39m 방탄소년단    39    13\n",
      "\u001b[90m10\u001b[39m bts           37    21\n",
      "\u001b[90m# ... with 3,237 more rows\u001b[39m\n"
     ]
    }
   ],
   "source": [
    "comment_wide <- frequency_word %>%\n",
    "  filter(sentiment != \"neu\") %>%\n",
    "  pivot_wider(names_from = sentiment,\n",
    "              values_from = n,\n",
    "              values_fill = list(n = 0))\n",
    "\n",
    "comment_wide %>% print"
   ]
  },
  {
   "cell_type": "code",
   "execution_count": 226,
   "id": "055dffd2",
   "metadata": {},
   "outputs": [
    {
     "name": "stdout",
     "output_type": "stream",
     "text": [
      "\u001b[90m# A tibble: 3,247 x 4\u001b[39m\n",
      "   word         pos   neg log_odds_ratio\n",
      "   \u001b[3m\u001b[90m<chr>\u001b[39m\u001b[23m      \u001b[3m\u001b[90m<int>\u001b[39m\u001b[23m \u001b[3m\u001b[90m<int>\u001b[39m\u001b[23m          \u001b[3m\u001b[90m<dbl>\u001b[39m\u001b[23m\n",
      "\u001b[90m 1\u001b[39m 진짜          90    20          1.03 \n",
      "\u001b[90m 2\u001b[39m 1             82    29          0.586\n",
      "\u001b[90m 3\u001b[39m 자랑스럽다    77     0          3.93 \n",
      "\u001b[90m 4\u001b[39m 너무          70    14          1.12 \n",
      "\u001b[90m 5\u001b[39m 정말          57     5          1.84 \n",
      "\u001b[90m 6\u001b[39m 위            46    11          0.934\n",
      "\u001b[90m 7\u001b[39m 빌보드        40    15          0.510\n",
      "\u001b[90m 8\u001b[39m 방탄          39     8          1.06 \n",
      "\u001b[90m 9\u001b[39m 방탄소년단    39    13          0.618\n",
      "\u001b[90m10\u001b[39m bts           37    21          0.115\n",
      "\u001b[90m# ... with 3,237 more rows\u001b[39m\n"
     ]
    }
   ],
   "source": [
    "comment_wide <- comment_wide %>%\n",
    "  mutate(log_odds_ratio = log(((pos + 1) / (sum(pos + 1))) /\n",
    "                              ((neg + 1) / (sum(neg + 1)))))\n",
    "\n",
    "comment_wide %>% print"
   ]
  },
  {
   "cell_type": "code",
   "execution_count": 227,
   "id": "36f59b1d",
   "metadata": {},
   "outputs": [
    {
     "name": "stdout",
     "output_type": "stream",
     "text": [
      "\u001b[90m# A tibble: 25 x 5\u001b[39m\n",
      "\u001b[90m# Groups:   sentiment [2]\u001b[39m\n",
      "   word     pos   neg log_odds_ratio sentiment\n",
      "   \u001b[3m\u001b[90m<chr>\u001b[39m\u001b[23m  \u001b[3m\u001b[90m<int>\u001b[39m\u001b[23m \u001b[3m\u001b[90m<int>\u001b[39m\u001b[23m          \u001b[3m\u001b[90m<dbl>\u001b[39m\u001b[23m \u001b[3m\u001b[90m<chr>\u001b[39m\u001b[23m    \n",
      "\u001b[90m 1\u001b[39m 국내       0     5          -\u001b[31m2\u001b[39m\u001b[31m.\u001b[39m\u001b[31m22\u001b[39m neg      \n",
      "\u001b[90m 2\u001b[39m 모르는     0     4          -\u001b[31m2\u001b[39m\u001b[31m.\u001b[39m\u001b[31m0\u001b[39m\u001b[31m4\u001b[39m neg      \n",
      "\u001b[90m 3\u001b[39m 없어서     0     4          -\u001b[31m2\u001b[39m\u001b[31m.\u001b[39m\u001b[31m0\u001b[39m\u001b[31m4\u001b[39m neg      \n",
      "\u001b[90m 4\u001b[39m 있다       0     4          -\u001b[31m2\u001b[39m\u001b[31m.\u001b[39m\u001b[31m0\u001b[39m\u001b[31m4\u001b[39m neg      \n",
      "\u001b[90m 5\u001b[39m 널리       0     3          -\u001b[31m1\u001b[39m\u001b[31m.\u001b[39m\u001b[31m82\u001b[39m neg      \n",
      "\u001b[90m 6\u001b[39m 독도       0     3          -\u001b[31m1\u001b[39m\u001b[31m.\u001b[39m\u001b[31m82\u001b[39m neg      \n",
      "\u001b[90m 7\u001b[39m 보다       0     3          -\u001b[31m1\u001b[39m\u001b[31m.\u001b[39m\u001b[31m82\u001b[39m neg      \n",
      "\u001b[90m 8\u001b[39m 아니다     0     3          -\u001b[31m1\u001b[39m\u001b[31m.\u001b[39m\u001b[31m82\u001b[39m neg      \n",
      "\u001b[90m 9\u001b[39m 없다       0     3          -\u001b[31m1\u001b[39m\u001b[31m.\u001b[39m\u001b[31m82\u001b[39m neg      \n",
      "\u001b[90m10\u001b[39m 케이팝     0     3          -\u001b[31m1\u001b[39m\u001b[31m.\u001b[39m\u001b[31m82\u001b[39m neg      \n",
      "\u001b[90m# ... with 15 more rows\u001b[39m\n"
     ]
    }
   ],
   "source": [
    "top10 <- comment_wide %>%\n",
    "  group_by(sentiment = ifelse(log_odds_ratio > 0, \"pos\", \"neg\")) %>%\n",
    "  slice_max(abs(log_odds_ratio), n = 10)\n",
    "\n",
    "top10 %>% print"
   ]
  },
  {
   "cell_type": "markdown",
   "id": "97b724f4",
   "metadata": {},
   "source": [
    "### Q6"
   ]
  },
  {
   "cell_type": "code",
   "execution_count": 228,
   "id": "b3a54564",
   "metadata": {},
   "outputs": [
    {
     "data": {
      "image/png": "[encoded data removed]",
      "text/plain": [
       "plot without title"
      ]
     },
     "metadata": {
      "image/png": {
       "height": 420,
       "width": 420
      }
     },
     "output_type": "display_data"
    }
   ],
   "source": [
    "ggplot(top10, aes(x = reorder(word, log_odds_ratio),\n",
    "                      y = log_odds_ratio,\n",
    "                      fill = sentiment)) +\n",
    "  geom_col() +\n",
    "  coord_flip() +\n",
    "  labs(x = NULL)"
   ]
  },
  {
   "cell_type": "markdown",
   "id": "5e813a77",
   "metadata": {},
   "source": [
    "### Q7"
   ]
  },
  {
   "cell_type": "code",
   "execution_count": 229,
   "id": "ebd8f53f",
   "metadata": {},
   "outputs": [
    {
     "name": "stdout",
     "output_type": "stream",
     "text": [
      "\u001b[90m# A tibble: 82 x 1\u001b[39m\n",
      "   reply                                                                        \n",
      "   \u001b[3m\u001b[90m<chr>\u001b[39m\u001b[23m                                                                        \n",
      "\u001b[90m 1\u001b[39m 멋지다, 자랑스럽다, 대단하다 방탄소년단!!! 다이너마이트 빌보드 핫100 1위 진~ \n",
      "\u001b[90m 2\u001b[39m 축하 합니다 우리에 보물이네 대한미국에 애국자 들이다 나라 홍보도하고 달라도~ \n",
      "\u001b[90m 3\u001b[39m 자랑스러운 방탄소년단.... 아~~이거 방탄소년단 아입니까!!!! 사랑하는 막둥이정~\n",
      "\u001b[90m 4\u001b[39m 자랑스럽다 역사적인 길들을 함께 걸어갈 수 있어 감사하다                      \n",
      "\u001b[90m 5\u001b[39m 아시아에서 60년만에 빌보드 핫백 차트 1위 아시아에서 최초로 200차트와 핫백 차~\n",
      "\u001b[90m 6\u001b[39m 와 진짜 너무 대단하고 자랑스럽다 ! 진짜 꿈인지 생시인지 모르겠네요! 이건 정~ \n",
      "\u001b[90m 7\u001b[39m 정말 대단하고 자랑스럽다~                                                    \n",
      "\u001b[90m 8\u001b[39m 이건 진짜 대서특필 감이다.. 혼란스러운 이 시국에 이렇게 기쁜 소식이라니 진짜~\n",
      "\u001b[90m 9\u001b[39m 진짜 대박이다 방탄 역사를 썼다 대단하고 자랑스럽다!!!!                       \n",
      "\u001b[90m10\u001b[39m 정말 너무 자랑스럽다. 역사의 순간에 있다는 게 고맙고 뿌듯하다                \n",
      "\u001b[90m# ... with 72 more rows\u001b[39m\n"
     ]
    }
   ],
   "source": [
    "score_comment %>%\n",
    "  filter(str_detect(reply, \"자랑스럽다\")) %>%\n",
    "  arrange(-score) %>%\n",
    "  select(reply) %>% print"
   ]
  },
  {
   "cell_type": "markdown",
   "id": "fe4a7fe9",
   "metadata": {},
   "source": [
    "### Q8"
   ]
  },
  {
   "cell_type": "code",
   "execution_count": 230,
   "id": "85621104",
   "metadata": {},
   "outputs": [
    {
     "name": "stdout",
     "output_type": "stream",
     "text": [
      "\u001b[90m# A tibble: 10 x 1\u001b[39m\n",
      "   reply                                                                        \n",
      "   \u001b[3m\u001b[90m<chr>\u001b[39m\u001b[23m                                                                        \n",
      "\u001b[90m 1\u001b[39m \u001b[90m\"\u001b[39m국위선양 한건 대단 하지만 40대 이후로는 BTS 이름만 알지 히트곡은 전혀모름 ~ \n",
      "\u001b[90m 2\u001b[39m \u001b[90m\"\u001b[39m국내 국악대회 거기 입상한 애들도 군대 안간다던데 세계 1위 한거 인정해서 면~ \n",
      "\u001b[90m 3\u001b[39m \u001b[90m\"\u001b[39m아니 진짜 군면제하자 뭘더 얼마나 일등을 해야해 국내 클래식 콩쿨 1등해도 면~ \n",
      "\u001b[90m 4\u001b[39m \u001b[90m\"\u001b[39m진짜 세계를 kpop이 이렇게 휩쓸고 있는데, 정작 국내는 뽕짝만 주구장창 나오는~\n",
      "\u001b[90m 5\u001b[39m \u001b[90m\"\u001b[39m아시아 아티스트로서는 57년만이랍니다... 방탄소년단 국내 시상식 대상도 못받~ \n",
      "\u001b[90m 6\u001b[39m \u001b[90m\"\u001b[39mbts 너무 자랑스러워요 국내에는 웃을일이 없는데 bts 때문에 기분이 좋네요\u001b[90m\"\u001b[39m    \n",
      "\u001b[90m 7\u001b[39m \u001b[90m\"\u001b[39m이렇게 국위선양하고 BTS때문에 파생되는 경제효과는 어마어마한데 애들은 군대 ~\n",
      "\u001b[90m 8\u001b[39m \u001b[90m\"\u001b[39m그냥 국내 1등 아이돌 가수같은데 감흥이없네 여튼 축하해요\u001b[90m\"\u001b[39m                   \n",
      "\u001b[90m 9\u001b[39m \u001b[90m\"\u001b[39m아니 진짜 방탄 팬도아니고 그냥 노래 나오면 즐겨듣는정돈데 방탄 군대 왜보냄 ~\n",
      "\u001b[90m10\u001b[39m \u001b[90m\"\u001b[39m국내 콩쿨에서 입상해도 군면제 해주는데... 신지어 빌보드 1위인데.. 군대 보내~\n"
     ]
    }
   ],
   "source": [
    "score_comment %>%\n",
    "  filter(str_detect(reply, \"국내\")) %>%\n",
    "  arrange(score) %>%\n",
    "  select(reply) %>% print"
   ]
  }
 ],
 "metadata": {
  "kernelspec": {
   "display_name": "R 4.1.3",
   "language": "R",
   "name": "ir32"
  },
  "language_info": {
   "codemirror_mode": "r",
   "file_extension": ".r",
   "mimetype": "text/x-r-source",
   "name": "R",
   "pygments_lexer": "r",
   "version": "4.1.3"
  }
 },
 "nbformat": 4,
 "nbformat_minor": 5
}
