{
 "cells": [
  {
   "cell_type": "code",
   "execution_count": 2,
   "id": "c8827a35",
   "metadata": {},
   "outputs": [],
   "source": [
    "library(tidyverse)\n",
    "ggplot2::theme_set(theme_bw())\n",
    "\n",
    "library(showtext)\n",
    "font_add(\"nanum\", \"NanumGothic.ttf\")\n",
    "showtext_auto()\n",
    "\n",
    "setwd(\"C:/Soongsil/R/Textmining\")"
   ]
  },
  {
   "cell_type": "markdown",
   "id": "9e6c9d78",
   "metadata": {},
   "source": [
    "### 03-01 단어 빈도 비교"
   ]
  },
  {
   "cell_type": "code",
   "execution_count": 3,
   "id": "3f5a61ad",
   "metadata": {},
   "outputs": [],
   "source": [
    "raw_moon <- readLines(\"speech_moon.txt\", encoding = \"UTF-8\")\n",
    "moon <- raw_moon %>%\n",
    "  as_tibble() %>%\n",
    "  mutate(president = \"moon\")"
   ]
  },
  {
   "cell_type": "code",
   "execution_count": 5,
   "id": "a5b6514b",
   "metadata": {},
   "outputs": [],
   "source": [
    "raw_park <- readLines(\"speech_park.txt\", encoding = \"UTF-8\")\n",
    "park <- raw_park %>%\n",
    "  as_tibble() %>%\n",
    "  mutate(president = \"park\")"
   ]
  },
  {
   "cell_type": "code",
   "execution_count": 9,
   "id": "e461387d",
   "metadata": {},
   "outputs": [
    {
     "name": "stdout",
     "output_type": "stream",
     "text": [
      "\u001b[90m# A tibble: 117 x 2\u001b[39m\n",
      "   value                                                               president\n",
      "   \u001b[3m\u001b[90m<chr>\u001b[39m\u001b[23m                                                               \u001b[3m\u001b[90m<chr>\u001b[39m\u001b[23m    \n",
      "\u001b[90m 1\u001b[39m \u001b[90m\"\u001b[39m정권교체 하겠습니다!\u001b[90m\"\u001b[39m                                              moon     \n",
      "\u001b[90m 2\u001b[39m \u001b[90m\"\u001b[39m  정치교체 하겠습니다!\u001b[90m\"\u001b[39m                                            moon     \n",
      "\u001b[90m 3\u001b[39m \u001b[90m\"\u001b[39m  시대교체 하겠습니다!\u001b[90m\"\u001b[39m                                            moon     \n",
      "\u001b[90m 4\u001b[39m \u001b[90m\"\u001b[39m  \u001b[90m\"\u001b[39m                                                                moon     \n",
      "\u001b[90m 5\u001b[39m \u001b[90m\"\u001b[39m  ‘불비불명(不飛不鳴)’이라는 고사가 있습니다. 남쪽 언덕 나뭇가~    moon     \n",
      "\u001b[90m 6\u001b[39m \u001b[90m\"\u001b[39m\u001b[90m\"\u001b[39m                                                                  moon     \n",
      "\u001b[90m 7\u001b[39m \u001b[90m\"\u001b[39m그 동안 정치와 거리를 둬 왔습니다. 그러나 암울한 시대가 저를 정치~ moon     \n",
      "\u001b[90m 8\u001b[39m \u001b[90m\"\u001b[39m\u001b[90m\"\u001b[39m                                                                  moon     \n",
      "\u001b[90m 9\u001b[39m \u001b[90m\"\u001b[39m\u001b[90m\"\u001b[39m                                                                  moon     \n",
      "\u001b[90m10\u001b[39m \u001b[90m\"\u001b[39m‘우리나라 대통령’이 되겠습니다.\u001b[90m\"\u001b[39m                                   moon     \n",
      "\u001b[90m# ... with 107 more rows\u001b[39m\n",
      "\u001b[90m# A tibble: 96 x 2\u001b[39m\n",
      "   value                                                               president\n",
      "   \u001b[3m\u001b[90m<chr>\u001b[39m\u001b[23m                                                               \u001b[3m\u001b[90m<chr>\u001b[39m\u001b[23m    \n",
      "\u001b[90m 1\u001b[39m \u001b[90m\"\u001b[39m존경하는 국민 여러분! 저는 오늘, 국민 한 분 한 분의 꿈이 이루어지~ park     \n",
      "\u001b[90m 2\u001b[39m \u001b[90m\"\u001b[39m\u001b[90m\"\u001b[39m                                                                  park     \n",
      "\u001b[90m 3\u001b[39m \u001b[90m\"\u001b[39m국민 여러분! 저의 삶은 대한민국과 함께 해온 시간이었습니다. 우리~  park     \n",
      "\u001b[90m 4\u001b[39m \u001b[90m\"\u001b[39m\u001b[90m\"\u001b[39m                                                                  park     \n",
      "\u001b[90m 5\u001b[39m \u001b[90m\"\u001b[39m어머니가 흉탄에 돌아가신 후, 견딜 수 없는 고통과 어려움 속에서도 ~ park     \n",
      "\u001b[90m 6\u001b[39m \u001b[90m\"\u001b[39m\u001b[90m\"\u001b[39m                                                                  park     \n",
      "\u001b[90m 7\u001b[39m \u001b[90m\"\u001b[39m그때부터 제 삶은 완전히 다른 길을 가야했습니다. 개인의 삶 대신, ~  park     \n",
      "\u001b[90m 8\u001b[39m \u001b[90m\"\u001b[39m\u001b[90m\"\u001b[39m                                                                  park     \n",
      "\u001b[90m 9\u001b[39m \u001b[90m\"\u001b[39m아버지를 잃는 또 다른 고통과 아픔을 겪고, 저는 평범한 삶을 살고자~ park     \n",
      "\u001b[90m10\u001b[39m \u001b[90m\"\u001b[39m\u001b[90m\"\u001b[39m                                                                  park     \n",
      "\u001b[90m# ... with 86 more rows\u001b[39m\n"
     ]
    }
   ],
   "source": [
    "print(moon) ; print(park)"
   ]
  },
  {
   "cell_type": "markdown",
   "id": "227e4dda",
   "metadata": {},
   "source": [
    "### ```bind_rows``` : 데이터 합치기 (rbind)"
   ]
  },
  {
   "cell_type": "code",
   "execution_count": 6,
   "id": "a351ab5e",
   "metadata": {},
   "outputs": [],
   "source": [
    "bind_speeches <- bind_rows(moon, park) %>%\n",
    "    select(president, value)"
   ]
  },
  {
   "cell_type": "code",
   "execution_count": 10,
   "id": "b3241335",
   "metadata": {},
   "outputs": [
    {
     "name": "stdout",
     "output_type": "stream",
     "text": [
      "\u001b[90m# A tibble: 213 x 2\u001b[39m\n",
      "   president value                                                              \n",
      "   \u001b[3m\u001b[90m<chr>\u001b[39m\u001b[23m     \u001b[3m\u001b[90m<chr>\u001b[39m\u001b[23m                                                              \n",
      "\u001b[90m 1\u001b[39m moon      \u001b[90m\"\u001b[39m정권교체 하겠습니다!\u001b[90m\"\u001b[39m                                             \n",
      "\u001b[90m 2\u001b[39m moon      \u001b[90m\"\u001b[39m  정치교체 하겠습니다!\u001b[90m\"\u001b[39m                                           \n",
      "\u001b[90m 3\u001b[39m moon      \u001b[90m\"\u001b[39m  시대교체 하겠습니다!\u001b[90m\"\u001b[39m                                           \n",
      "\u001b[90m 4\u001b[39m moon      \u001b[90m\"\u001b[39m  \u001b[90m\"\u001b[39m                                                               \n",
      "\u001b[90m 5\u001b[39m moon      \u001b[90m\"\u001b[39m  ‘불비불명(不飛不鳴)’이라는 고사가 있습니다. 남쪽 언덕 나뭇가~   \n",
      "\u001b[90m 6\u001b[39m moon      \u001b[90m\"\u001b[39m\u001b[90m\"\u001b[39m                                                                 \n",
      "\u001b[90m 7\u001b[39m moon      \u001b[90m\"\u001b[39m그 동안 정치와 거리를 둬 왔습니다. 그러나 암울한 시대가 저를 정치~\n",
      "\u001b[90m 8\u001b[39m moon      \u001b[90m\"\u001b[39m\u001b[90m\"\u001b[39m                                                                 \n",
      "\u001b[90m 9\u001b[39m moon      \u001b[90m\"\u001b[39m\u001b[90m\"\u001b[39m                                                                 \n",
      "\u001b[90m10\u001b[39m moon      \u001b[90m\"\u001b[39m‘우리나라 대통령’이 되겠습니다.\u001b[90m\"\u001b[39m                                  \n",
      "\u001b[90m# ... with 203 more rows\u001b[39m\n"
     ]
    }
   ],
   "source": [
    "print(bind_speeches)"
   ]
  },
  {
   "cell_type": "code",
   "execution_count": 16,
   "id": "f062533f",
   "metadata": {},
   "outputs": [
    {
     "name": "stdout",
     "output_type": "stream",
     "text": [
      "\u001b[90m# A tibble: 213 x 2\u001b[39m\n",
      "   president value                                                              \n",
      "   \u001b[3m\u001b[90m<chr>\u001b[39m\u001b[23m     \u001b[3m\u001b[90m<chr>\u001b[39m\u001b[23m                                                              \n",
      "\u001b[90m 1\u001b[39m moon      \u001b[90m\"\u001b[39m정권교체 하겠습니다!\u001b[90m\"\u001b[39m                                             \n",
      "\u001b[90m 2\u001b[39m moon      \u001b[90m\"\u001b[39m  정치교체 하겠습니다!\u001b[90m\"\u001b[39m                                           \n",
      "\u001b[90m 3\u001b[39m moon      \u001b[90m\"\u001b[39m  시대교체 하겠습니다!\u001b[90m\"\u001b[39m                                           \n",
      "\u001b[90m 4\u001b[39m moon      \u001b[90m\"\u001b[39m  \u001b[90m\"\u001b[39m                                                               \n",
      "\u001b[90m 5\u001b[39m moon      \u001b[90m\"\u001b[39m  ‘불비불명(不飛不鳴)’이라는 고사가 있습니다. 남쪽 언덕 나뭇가~   \n",
      "\u001b[90m 6\u001b[39m moon      \u001b[90m\"\u001b[39m\u001b[90m\"\u001b[39m                                                                 \n",
      "\u001b[90m 7\u001b[39m moon      \u001b[90m\"\u001b[39m그 동안 정치와 거리를 둬 왔습니다. 그러나 암울한 시대가 저를 정치~\n",
      "\u001b[90m 8\u001b[39m moon      \u001b[90m\"\u001b[39m\u001b[90m\"\u001b[39m                                                                 \n",
      "\u001b[90m 9\u001b[39m moon      \u001b[90m\"\u001b[39m\u001b[90m\"\u001b[39m                                                                 \n",
      "\u001b[90m10\u001b[39m moon      \u001b[90m\"\u001b[39m‘우리나라 대통령’이 되겠습니다.\u001b[90m\"\u001b[39m                                  \n",
      "\u001b[90m# ... with 203 more rows\u001b[39m\n"
     ]
    }
   ],
   "source": [
    "bind_speeches <- rbind(moon, park) %>% \n",
    "    select(president, value)\n",
    "print(bind_speeches)"
   ]
  },
  {
   "cell_type": "markdown",
   "id": "ed46f500",
   "metadata": {},
   "source": [
    "### 기본적 전처리 및 토큰화"
   ]
  },
  {
   "cell_type": "code",
   "execution_count": 24,
   "id": "01e26cf6",
   "metadata": {},
   "outputs": [
    {
     "name": "stdout",
     "output_type": "stream",
     "text": [
      "\u001b[90m# A tibble: 213 x 2\u001b[39m\n",
      "   president value                                                              \n",
      "   \u001b[3m\u001b[90m<chr>\u001b[39m\u001b[23m     \u001b[3m\u001b[90m<chr>\u001b[39m\u001b[23m                                                              \n",
      "\u001b[90m 1\u001b[39m moon      \u001b[90m\"\u001b[39m정권교체 하겠습니다\u001b[90m\"\u001b[39m                                              \n",
      "\u001b[90m 2\u001b[39m moon      \u001b[90m\"\u001b[39m정치교체 하겠습니다\u001b[90m\"\u001b[39m                                              \n",
      "\u001b[90m 3\u001b[39m moon      \u001b[90m\"\u001b[39m시대교체 하겠습니다\u001b[90m\"\u001b[39m                                              \n",
      "\u001b[90m 4\u001b[39m moon      \u001b[90m\"\u001b[39m\u001b[90m\"\u001b[39m                                                                 \n",
      "\u001b[90m 5\u001b[39m moon      \u001b[90m\"\u001b[39m불비불명 이라는 고사가 있습니다 남쪽 언덕 나뭇가지에 앉아 년 동안~\n",
      "\u001b[90m 6\u001b[39m moon      \u001b[90m\"\u001b[39m\u001b[90m\"\u001b[39m                                                                 \n",
      "\u001b[90m 7\u001b[39m moon      \u001b[90m\"\u001b[39m그 동안 정치와 거리를 둬 왔습니다 그러나 암울한 시대가 저를 정치~ \n",
      "\u001b[90m 8\u001b[39m moon      \u001b[90m\"\u001b[39m\u001b[90m\"\u001b[39m                                                                 \n",
      "\u001b[90m 9\u001b[39m moon      \u001b[90m\"\u001b[39m\u001b[90m\"\u001b[39m                                                                 \n",
      "\u001b[90m10\u001b[39m moon      \u001b[90m\"\u001b[39m우리나라 대통령 이 되겠습니다\u001b[90m\"\u001b[39m                                    \n",
      "\u001b[90m# ... with 203 more rows\u001b[39m\n"
     ]
    }
   ],
   "source": [
    "speeches <- bind_speeches %>%\n",
    "  mutate(value = str_replace_all(value, \"[^가-힣]\", \" \") %>%\n",
    "             str_squish())\n",
    "\n",
    "speeches %>% print"
   ]
  },
  {
   "cell_type": "code",
   "execution_count": 25,
   "id": "8b355eb1",
   "metadata": {},
   "outputs": [
    {
     "name": "stderr",
     "output_type": "stream",
     "text": [
      "Checking user defined dictionary!\n",
      "\n",
      "\n"
     ]
    }
   ],
   "source": [
    "library(tidytext)\n",
    "library(KoNLP)"
   ]
  },
  {
   "cell_type": "code",
   "execution_count": 26,
   "id": "4f435e90",
   "metadata": {},
   "outputs": [],
   "source": [
    "speeches <- speeches %>%\n",
    "    unnest_tokens(input = value,\n",
    "                 output = word,\n",
    "                 token = extractNoun)"
   ]
  },
  {
   "cell_type": "code",
   "execution_count": 27,
   "id": "d643a27c",
   "metadata": {},
   "outputs": [
    {
     "name": "stdout",
     "output_type": "stream",
     "text": [
      "\u001b[90m# A tibble: 2,997 x 2\u001b[39m\n",
      "   president word      \n",
      "   \u001b[3m\u001b[90m<chr>\u001b[39m\u001b[23m     \u001b[3m\u001b[90m<chr>\u001b[39m\u001b[23m     \n",
      "\u001b[90m 1\u001b[39m moon      \u001b[90m\"\u001b[39m정권교체\u001b[90m\"\u001b[39m\n",
      "\u001b[90m 2\u001b[39m moon      \u001b[90m\"\u001b[39m하겠습니\u001b[90m\"\u001b[39m\n",
      "\u001b[90m 3\u001b[39m moon      \u001b[90m\"\u001b[39m정치\u001b[90m\"\u001b[39m    \n",
      "\u001b[90m 4\u001b[39m moon      \u001b[90m\"\u001b[39m교체\u001b[90m\"\u001b[39m    \n",
      "\u001b[90m 5\u001b[39m moon      \u001b[90m\"\u001b[39m하겠습니\u001b[90m\"\u001b[39m\n",
      "\u001b[90m 6\u001b[39m moon      \u001b[90m\"\u001b[39m시대\u001b[90m\"\u001b[39m    \n",
      "\u001b[90m 7\u001b[39m moon      \u001b[90m\"\u001b[39m교체\u001b[90m\"\u001b[39m    \n",
      "\u001b[90m 8\u001b[39m moon      \u001b[90m\"\u001b[39m하겠습니\u001b[90m\"\u001b[39m\n",
      "\u001b[90m 9\u001b[39m moon      \u001b[90m\"\u001b[39m\u001b[90m\"\u001b[39m        \n",
      "\u001b[90m10\u001b[39m moon      \u001b[90m\"\u001b[39m불비불명\u001b[90m\"\u001b[39m\n",
      "\u001b[90m# ... with 2,987 more rows\u001b[39m\n"
     ]
    }
   ],
   "source": [
    "speeches %>% print"
   ]
  },
  {
   "cell_type": "code",
   "execution_count": 28,
   "id": "29d322a7",
   "metadata": {},
   "outputs": [
    {
     "name": "stdout",
     "output_type": "stream",
     "text": [
      "\u001b[90m# A tibble: 1,131 x 3\u001b[39m\n",
      "   president word         n\n",
      "   \u001b[3m\u001b[90m<chr>\u001b[39m\u001b[23m     \u001b[3m\u001b[90m<chr>\u001b[39m\u001b[23m    \u001b[3m\u001b[90m<int>\u001b[39m\u001b[23m\n",
      "\u001b[90m 1\u001b[39m moon      가동         1\n",
      "\u001b[90m 2\u001b[39m moon      가사         1\n",
      "\u001b[90m 3\u001b[39m moon      가슴         2\n",
      "\u001b[90m 4\u001b[39m moon      가족         1\n",
      "\u001b[90m 5\u001b[39m moon      가족구조     1\n",
      "\u001b[90m 6\u001b[39m moon      가지         4\n",
      "\u001b[90m 7\u001b[39m moon      가치         3\n",
      "\u001b[90m 8\u001b[39m moon      각종         1\n",
      "\u001b[90m 9\u001b[39m moon      감당         1\n",
      "\u001b[90m10\u001b[39m moon      강력         3\n",
      "\u001b[90m# ... with 1,121 more rows\u001b[39m\n"
     ]
    }
   ],
   "source": [
    "frequency <- speeches %>%\n",
    "    count(president, word) %>%\n",
    "    filter(str_count(word) > 1)\n",
    "\n",
    "frequency %>% print"
   ]
  },
  {
   "cell_type": "markdown",
   "id": "31eb5bc5",
   "metadata": {},
   "source": [
    "### ```slice_max()``` : 자주 사용된 단어 추출\n",
    "- ```with_ties``` : ```TRUE``` : 동순위 허용, ```FALSE``` : 동순위 허용X"
   ]
  },
  {
   "cell_type": "code",
   "execution_count": 42,
   "id": "6660ae7d",
   "metadata": {},
   "outputs": [
    {
     "data": {
      "text/html": [
       "<table class=\"dataframe\">\n",
       "<caption>A grouped_df: 20 × 3</caption>\n",
       "<thead>\n",
       "\t<tr><th scope=col>president</th><th scope=col>word</th><th scope=col>n</th></tr>\n",
       "\t<tr><th scope=col>&lt;chr&gt;</th><th scope=col>&lt;chr&gt;</th><th scope=col>&lt;int&gt;</th></tr>\n",
       "</thead>\n",
       "<tbody>\n",
       "\t<tr><td>moon</td><td>국민  </td><td>21</td></tr>\n",
       "\t<tr><td>moon</td><td>일자리</td><td>21</td></tr>\n",
       "\t<tr><td>moon</td><td>나라  </td><td>19</td></tr>\n",
       "\t<tr><td>moon</td><td>우리  </td><td>17</td></tr>\n",
       "\t<tr><td>moon</td><td>경제  </td><td>15</td></tr>\n",
       "\t<tr><td>moon</td><td>사회  </td><td>14</td></tr>\n",
       "\t<tr><td>moon</td><td>성장  </td><td>13</td></tr>\n",
       "\t<tr><td>moon</td><td>대통령</td><td>12</td></tr>\n",
       "\t<tr><td>moon</td><td>정치  </td><td>12</td></tr>\n",
       "\t<tr><td>moon</td><td>하게  </td><td>12</td></tr>\n",
       "\t<tr><td>park</td><td>국민  </td><td>72</td></tr>\n",
       "\t<tr><td>park</td><td>행복  </td><td>23</td></tr>\n",
       "\t<tr><td>park</td><td>여러분</td><td>20</td></tr>\n",
       "\t<tr><td>park</td><td>정부  </td><td>17</td></tr>\n",
       "\t<tr><td>park</td><td>경제  </td><td>15</td></tr>\n",
       "\t<tr><td>park</td><td>신뢰  </td><td>11</td></tr>\n",
       "\t<tr><td>park</td><td>국가  </td><td>10</td></tr>\n",
       "\t<tr><td>park</td><td>우리  </td><td>10</td></tr>\n",
       "\t<tr><td>park</td><td>교육  </td><td> 9</td></tr>\n",
       "\t<tr><td>park</td><td>사람  </td><td> 9</td></tr>\n",
       "</tbody>\n",
       "</table>\n"
      ],
      "text/latex": [
       "A grouped\\_df: 20 × 3\n",
       "\\begin{tabular}{lll}\n",
       " president & word & n\\\\\n",
       " <chr> & <chr> & <int>\\\\\n",
       "\\hline\n",
       "\t moon & 국민   & 21\\\\\n",
       "\t moon & 일자리 & 21\\\\\n",
       "\t moon & 나라   & 19\\\\\n",
       "\t moon & 우리   & 17\\\\\n",
       "\t moon & 경제   & 15\\\\\n",
       "\t moon & 사회   & 14\\\\\n",
       "\t moon & 성장   & 13\\\\\n",
       "\t moon & 대통령 & 12\\\\\n",
       "\t moon & 정치   & 12\\\\\n",
       "\t moon & 하게   & 12\\\\\n",
       "\t park & 국민   & 72\\\\\n",
       "\t park & 행복   & 23\\\\\n",
       "\t park & 여러분 & 20\\\\\n",
       "\t park & 정부   & 17\\\\\n",
       "\t park & 경제   & 15\\\\\n",
       "\t park & 신뢰   & 11\\\\\n",
       "\t park & 국가   & 10\\\\\n",
       "\t park & 우리   & 10\\\\\n",
       "\t park & 교육   &  9\\\\\n",
       "\t park & 사람   &  9\\\\\n",
       "\\end{tabular}\n"
      ],
      "text/markdown": [
       "\n",
       "A grouped_df: 20 × 3\n",
       "\n",
       "| president &lt;chr&gt; | word &lt;chr&gt; | n &lt;int&gt; |\n",
       "|---|---|---|\n",
       "| moon | 국민   | 21 |\n",
       "| moon | 일자리 | 21 |\n",
       "| moon | 나라   | 19 |\n",
       "| moon | 우리   | 17 |\n",
       "| moon | 경제   | 15 |\n",
       "| moon | 사회   | 14 |\n",
       "| moon | 성장   | 13 |\n",
       "| moon | 대통령 | 12 |\n",
       "| moon | 정치   | 12 |\n",
       "| moon | 하게   | 12 |\n",
       "| park | 국민   | 72 |\n",
       "| park | 행복   | 23 |\n",
       "| park | 여러분 | 20 |\n",
       "| park | 정부   | 17 |\n",
       "| park | 경제   | 15 |\n",
       "| park | 신뢰   | 11 |\n",
       "| park | 국가   | 10 |\n",
       "| park | 우리   | 10 |\n",
       "| park | 교육   |  9 |\n",
       "| park | 사람   |  9 |\n",
       "\n"
      ],
      "text/plain": [
       "   president word   n \n",
       "1  moon      국민   21\n",
       "2  moon      일자리 21\n",
       "3  moon      나라   19\n",
       "4  moon      우리   17\n",
       "5  moon      경제   15\n",
       "6  moon      사회   14\n",
       "7  moon      성장   13\n",
       "8  moon      대통령 12\n",
       "9  moon      정치   12\n",
       "10 moon      하게   12\n",
       "11 park      국민   72\n",
       "12 park      행복   23\n",
       "13 park      여러분 20\n",
       "14 park      정부   17\n",
       "15 park      경제   15\n",
       "16 park      신뢰   11\n",
       "17 park      국가   10\n",
       "18 park      우리   10\n",
       "19 park      교육    9\n",
       "20 park      사람    9"
      ]
     },
     "metadata": {},
     "output_type": "display_data"
    }
   ],
   "source": [
    "top10 <- frequency %>%\n",
    "    group_by(president) %>%\n",
    "    slice_max(n, n = 10, with_ties = FALSE)\n",
    "\n",
    "top10"
   ]
  },
  {
   "cell_type": "markdown",
   "id": "f857b1a8",
   "metadata": {},
   "source": [
    "### ```facet_wrap()``` : 변수 항목별 그래프\n",
    "- ```scales = \"free_y\"``` : y축 통일하지 않음, (```\"free\"``` : x축과 y축의 크기를 모두 그래프별로 설정)"
   ]
  },
  {
   "cell_type": "code",
   "execution_count": 45,
   "id": "08b7fbff",
   "metadata": {},
   "outputs": [
    {
     "data": {
      "image/png": "[encoded data removed]",
      "text/plain": [
       "plot without title"
      ]
     },
     "metadata": {
      "image/png": {
       "height": 420,
       "width": 420
      }
     },
     "output_type": "display_data"
    }
   ],
   "source": [
    "ggplot(top10, aes(x = fct_reorder(word, n),\n",
    "                 y = n,\n",
    "                 fill = president)) + \n",
    "    geom_col() + \n",
    "    coord_flip() + \n",
    "    facet_wrap(~ president, scales = \"free_y\")"
   ]
  },
  {
   "cell_type": "markdown",
   "id": "a212e2de",
   "metadata": {},
   "source": [
    "### 특정 단어 제거하고 그래프"
   ]
  },
  {
   "cell_type": "code",
   "execution_count": 50,
   "id": "b61f5821",
   "metadata": {},
   "outputs": [],
   "source": [
    "top10 <- frequency %>%\n",
    "    filter(word != \"국민\") %>%\n",
    "    group_by(president) %>%\n",
    "    slice_max(n, n = 10, with_ties = F)"
   ]
  },
  {
   "cell_type": "markdown",
   "id": "17a54b22",
   "metadata": {},
   "source": [
    "### ```reorder_within()``` : 축 순서를 변수의 항목별로 따로 \n",
    "- ```x``` : 축\n",
    "- ```by``` : 정렬 기준\n",
    "- ```within``` : 그래프를 나누는 기준\n",
    "\n",
    "### ```scale_x_reordered()``` : 축 이름 설정"
   ]
  },
  {
   "cell_type": "code",
   "execution_count": 59,
   "id": "d2f0496b",
   "metadata": {},
   "outputs": [
    {
     "name": "stderr",
     "output_type": "stream",
     "text": [
      "Warning message in file.rename(tmp, destfile):\n",
      "\"cannot rename file 'C:\\tmp\\RtmpGSSLcG\\ea8Aad44WunzF9a-dL6toA8r8nqVIXSkH-Hc.ttf.curltmp' to 'C:\\tmp\\RtmpGSSLcG\\ea8Aad44WunzF9a-dL6toA8r8nqVIXSkH-Hc.ttf', reason '액세스가 거부되었습니다'\"\n"
     ]
    },
    {
     "data": {
      "image/png": "[encoded data removed]",
      "text/plain": [
       "plot without title"
      ]
     },
     "metadata": {
      "image/png": {
       "height": 420,
       "width": 420
      }
     },
     "output_type": "display_data"
    }
   ],
   "source": [
    "font_add_google(name = \"Black Han Sans\", family = \"blackhansans\")\n",
    "showtext_auto()\n",
    "\n",
    "ggplot(top10, aes(x = reorder_within(word, n, president),\n",
    "                 y = n,\n",
    "                 fill = president)) + \n",
    "    geom_col() + \n",
    "    coord_flip() + \n",
    "    facet_wrap(~ president, scales = \"free_y\") + \n",
    "    scale_x_reordered() + \n",
    "    theme(text = element_text(family = \"blackhansans\"),\n",
    "         axis.title.y = element_blank())"
   ]
  },
  {
   "cell_type": "markdown",
   "id": "e70267df",
   "metadata": {},
   "source": [
    "### 03-02 오즈비 - 상대적으로 중요한 단어 비교"
   ]
  },
  {
   "cell_type": "code",
   "execution_count": 60,
   "id": "f005cb2b",
   "metadata": {},
   "outputs": [],
   "source": [
    "df_long <- frequency %>%\n",
    "    group_by(president) %>%\n",
    "    slice_max(n , n = 10) %>%\n",
    "    filter(word %in% c(\"국민\", \"우리\", \"정치\", \"행복\"))"
   ]
  },
  {
   "cell_type": "code",
   "execution_count": 61,
   "id": "6a208b85",
   "metadata": {},
   "outputs": [
    {
     "name": "stdout",
     "output_type": "stream",
     "text": [
      "\u001b[90m# A tibble: 6 x 3\u001b[39m\n",
      "\u001b[90m# Groups:   president [2]\u001b[39m\n",
      "  president word      n\n",
      "  \u001b[3m\u001b[90m<chr>\u001b[39m\u001b[23m     \u001b[3m\u001b[90m<chr>\u001b[39m\u001b[23m \u001b[3m\u001b[90m<int>\u001b[39m\u001b[23m\n",
      "\u001b[90m1\u001b[39m moon      국민     21\n",
      "\u001b[90m2\u001b[39m moon      우리     17\n",
      "\u001b[90m3\u001b[39m moon      정치     12\n",
      "\u001b[90m4\u001b[39m park      국민     72\n",
      "\u001b[90m5\u001b[39m park      행복     23\n",
      "\u001b[90m6\u001b[39m park      우리     10\n"
     ]
    }
   ],
   "source": [
    "df_long %>% print"
   ]
  },
  {
   "cell_type": "markdown",
   "id": "fb11646c",
   "metadata": {},
   "source": [
    "### ```pivot_wider()``` : long form 데이터를 가로로 넓은 wide form 데이터로 변형\n",
    "- ```names_form``` : 변수명으로 만들 값이 들어있는 변수\n",
    "- ```values_from``` : 변수에 채워 넣을 값이 들어 있는 변수\n",
    "- ```values_fill``` : 채워 넣을 값"
   ]
  },
  {
   "cell_type": "code",
   "execution_count": 62,
   "id": "5a47ecf1",
   "metadata": {},
   "outputs": [],
   "source": [
    "library(tidyr)"
   ]
  },
  {
   "cell_type": "code",
   "execution_count": 64,
   "id": "56150e07",
   "metadata": {},
   "outputs": [
    {
     "name": "stdout",
     "output_type": "stream",
     "text": [
      "\u001b[90m# A tibble: 4 x 3\u001b[39m\n",
      "  word   moon  park\n",
      "  \u001b[3m\u001b[90m<chr>\u001b[39m\u001b[23m \u001b[3m\u001b[90m<int>\u001b[39m\u001b[23m \u001b[3m\u001b[90m<int>\u001b[39m\u001b[23m\n",
      "\u001b[90m1\u001b[39m 국민     21    72\n",
      "\u001b[90m2\u001b[39m 우리     17    10\n",
      "\u001b[90m3\u001b[39m 정치     12     0\n",
      "\u001b[90m4\u001b[39m 행복      0    23\n"
     ]
    }
   ],
   "source": [
    "df_wide <- df_long %>%\n",
    "    pivot_wider(names_from = president,\n",
    "               values_from = n,\n",
    "               values_fill = c(0))\n",
    "\n",
    "df_wide %>% print"
   ]
  },
  {
   "cell_type": "code",
   "execution_count": 93,
   "id": "d0914cca",
   "metadata": {},
   "outputs": [
    {
     "name": "stdout",
     "output_type": "stream",
     "text": [
      "\u001b[90m# A tibble: 955 x 3\u001b[39m\n",
      "   word      moon  park\n",
      "   \u001b[3m\u001b[90m<chr>\u001b[39m\u001b[23m    \u001b[3m\u001b[90m<int>\u001b[39m\u001b[23m \u001b[3m\u001b[90m<int>\u001b[39m\u001b[23m\n",
      "\u001b[90m 1\u001b[39m 가동         1     0\n",
      "\u001b[90m 2\u001b[39m 가사         1     0\n",
      "\u001b[90m 3\u001b[39m 가슴         2     0\n",
      "\u001b[90m 4\u001b[39m 가족         1     1\n",
      "\u001b[90m 5\u001b[39m 가족구조     1     0\n",
      "\u001b[90m 6\u001b[39m 가지         4     0\n",
      "\u001b[90m 7\u001b[39m 가치         3     1\n",
      "\u001b[90m 8\u001b[39m 각종         1     0\n",
      "\u001b[90m 9\u001b[39m 감당         1     0\n",
      "\u001b[90m10\u001b[39m 강력         3     0\n",
      "\u001b[90m# ... with 945 more rows\u001b[39m\n"
     ]
    }
   ],
   "source": [
    "frequency_wide <- frequency %>%\n",
    "    pivot_wider(names_from = president,\n",
    "               values_from = n,\n",
    "               values_fill = c(0))\n",
    "\n",
    "frequency_wide %>% print"
   ]
  },
  {
   "cell_type": "markdown",
   "id": "7c186989",
   "metadata": {},
   "source": [
    "### 오즈비 구하기\n",
    "오즈비 : 어떤 사건이 A 조건에서 발생할 확률이 B조건에서 발생할 화귤에 비해 얼마나 더 큰지 나타냄"
   ]
  },
  {
   "cell_type": "markdown",
   "id": "230f7953",
   "metadata": {},
   "source": [
    "#### 1. 단어의 비중을 나타낸 변수 추가\n",
    "- 어떤 단어가 전혀 사용되지 않아 빈도가 0이면 오즈비가 0이 됨으로, 빈도가 0보다 큰 값이 되도록 모든값에 1을 더해줌"
   ]
  },
  {
   "cell_type": "markdown",
   "id": "358725c5",
   "metadata": {},
   "source": [
    "#### 2. 오즈비 변수 추가\n",
    "\n",
    "$$\n",
    "odds \\;ratio = {{({n+1 \\over total+1})_{Text \\;A}} \\over {({n+1 \\over total+1})_{Text \\; B}}}\n",
    "$$"
   ]
  },
  {
   "cell_type": "code",
   "execution_count": 97,
   "id": "88e4d160",
   "metadata": {},
   "outputs": [
    {
     "name": "stdout",
     "output_type": "stream",
     "text": [
      "\u001b[90m# A tibble: 955 x 6\u001b[39m\n",
      "   word      moon  park ratio_moon ratio_park odds_ratio\n",
      "   \u001b[3m\u001b[90m<chr>\u001b[39m\u001b[23m    \u001b[3m\u001b[90m<int>\u001b[39m\u001b[23m \u001b[3m\u001b[90m<int>\u001b[39m\u001b[23m      \u001b[3m\u001b[90m<dbl>\u001b[39m\u001b[23m      \u001b[3m\u001b[90m<dbl>\u001b[39m\u001b[23m      \u001b[3m\u001b[90m<dbl>\u001b[39m\u001b[23m\n",
      "\u001b[90m 1\u001b[39m 복지국가     8     0    0.003\u001b[4m9\u001b[24m\u001b[4m3\u001b[24m   0.000\u001b[4m5\u001b[24m\u001b[4m5\u001b[24m\u001b[4m2\u001b[24m       7.12\n",
      "\u001b[90m 2\u001b[39m 세상         6     0    0.003\u001b[4m0\u001b[24m\u001b[4m6\u001b[24m   0.000\u001b[4m5\u001b[24m\u001b[4m5\u001b[24m\u001b[4m2\u001b[24m       5.54\n",
      "\u001b[90m 3\u001b[39m 여성         6     0    0.003\u001b[4m0\u001b[24m\u001b[4m6\u001b[24m   0.000\u001b[4m5\u001b[24m\u001b[4m5\u001b[24m\u001b[4m2\u001b[24m       5.54\n",
      "\u001b[90m 4\u001b[39m 정의         6     0    0.003\u001b[4m0\u001b[24m\u001b[4m6\u001b[24m   0.000\u001b[4m5\u001b[24m\u001b[4m5\u001b[24m\u001b[4m2\u001b[24m       5.54\n",
      "\u001b[90m 5\u001b[39m 강자         5     0    0.002\u001b[4m6\u001b[24m\u001b[4m2\u001b[24m   0.000\u001b[4m5\u001b[24m\u001b[4m5\u001b[24m\u001b[4m2\u001b[24m       4.75\n",
      "\u001b[90m 6\u001b[39m 공평         5     0    0.002\u001b[4m6\u001b[24m\u001b[4m2\u001b[24m   0.000\u001b[4m5\u001b[24m\u001b[4m5\u001b[24m\u001b[4m2\u001b[24m       4.75\n",
      "\u001b[90m 7\u001b[39m 대통령의     5     0    0.002\u001b[4m6\u001b[24m\u001b[4m2\u001b[24m   0.000\u001b[4m5\u001b[24m\u001b[4m5\u001b[24m\u001b[4m2\u001b[24m       4.75\n",
      "\u001b[90m 8\u001b[39m 보통         5     0    0.002\u001b[4m6\u001b[24m\u001b[4m2\u001b[24m   0.000\u001b[4m5\u001b[24m\u001b[4m5\u001b[24m\u001b[4m2\u001b[24m       4.75\n",
      "\u001b[90m 9\u001b[39m 상생         5     0    0.002\u001b[4m6\u001b[24m\u001b[4m2\u001b[24m   0.000\u001b[4m5\u001b[24m\u001b[4m5\u001b[24m\u001b[4m2\u001b[24m       4.75\n",
      "\u001b[90m10\u001b[39m 지방         5     0    0.002\u001b[4m6\u001b[24m\u001b[4m2\u001b[24m   0.000\u001b[4m5\u001b[24m\u001b[4m5\u001b[24m\u001b[4m2\u001b[24m       4.75\n",
      "\u001b[90m# ... with 945 more rows\u001b[39m\n"
     ]
    }
   ],
   "source": [
    "frequency_wide <- frequency_wide %>%\n",
    "  mutate(ratio_moon = ((moon + 1)/(sum(moon + 1))),  # moon에서 단어의 비중\n",
    "         ratio_park = ((park + 1)/(sum(park + 1))),  # park에서 단어의 비중\n",
    "         odds_ratio = (ratio_moon / ratio_park)) %>%\n",
    "    arrange(-odds_ratio)\n",
    "        \n",
    "frequency_wide %>% print"
   ]
  },
  {
   "cell_type": "markdown",
   "id": "0aa0fa10",
   "metadata": {},
   "source": [
    "### 상대적으로 중요한 단어 추출"
   ]
  },
  {
   "cell_type": "code",
   "execution_count": 98,
   "id": "82d551c2",
   "metadata": {},
   "outputs": [
    {
     "name": "stdout",
     "output_type": "stream",
     "text": [
      "\u001b[90m# A tibble: 20 x 6\u001b[39m\n",
      "   word      moon  park ratio_moon ratio_park odds_ratio\n",
      "   \u001b[3m\u001b[90m<chr>\u001b[39m\u001b[23m    \u001b[3m\u001b[90m<int>\u001b[39m\u001b[23m \u001b[3m\u001b[90m<int>\u001b[39m\u001b[23m      \u001b[3m\u001b[90m<dbl>\u001b[39m\u001b[23m      \u001b[3m\u001b[90m<dbl>\u001b[39m\u001b[23m      \u001b[3m\u001b[90m<dbl>\u001b[39m\u001b[23m\n",
      "\u001b[90m 1\u001b[39m 복지국가     8     0   0.003\u001b[4m9\u001b[24m\u001b[4m3\u001b[24m    0.000\u001b[4m5\u001b[24m\u001b[4m5\u001b[24m\u001b[4m2\u001b[24m     7.12  \n",
      "\u001b[90m 2\u001b[39m 세상         6     0   0.003\u001b[4m0\u001b[24m\u001b[4m6\u001b[24m    0.000\u001b[4m5\u001b[24m\u001b[4m5\u001b[24m\u001b[4m2\u001b[24m     5.54  \n",
      "\u001b[90m 3\u001b[39m 여성         6     0   0.003\u001b[4m0\u001b[24m\u001b[4m6\u001b[24m    0.000\u001b[4m5\u001b[24m\u001b[4m5\u001b[24m\u001b[4m2\u001b[24m     5.54  \n",
      "\u001b[90m 4\u001b[39m 정의         6     0   0.003\u001b[4m0\u001b[24m\u001b[4m6\u001b[24m    0.000\u001b[4m5\u001b[24m\u001b[4m5\u001b[24m\u001b[4m2\u001b[24m     5.54  \n",
      "\u001b[90m 5\u001b[39m 강자         5     0   0.002\u001b[4m6\u001b[24m\u001b[4m2\u001b[24m    0.000\u001b[4m5\u001b[24m\u001b[4m5\u001b[24m\u001b[4m2\u001b[24m     4.75  \n",
      "\u001b[90m 6\u001b[39m 공평         5     0   0.002\u001b[4m6\u001b[24m\u001b[4m2\u001b[24m    0.000\u001b[4m5\u001b[24m\u001b[4m5\u001b[24m\u001b[4m2\u001b[24m     4.75  \n",
      "\u001b[90m 7\u001b[39m 대통령의     5     0   0.002\u001b[4m6\u001b[24m\u001b[4m2\u001b[24m    0.000\u001b[4m5\u001b[24m\u001b[4m5\u001b[24m\u001b[4m2\u001b[24m     4.75  \n",
      "\u001b[90m 8\u001b[39m 보통         5     0   0.002\u001b[4m6\u001b[24m\u001b[4m2\u001b[24m    0.000\u001b[4m5\u001b[24m\u001b[4m5\u001b[24m\u001b[4m2\u001b[24m     4.75  \n",
      "\u001b[90m 9\u001b[39m 상생         5     0   0.002\u001b[4m6\u001b[24m\u001b[4m2\u001b[24m    0.000\u001b[4m5\u001b[24m\u001b[4m5\u001b[24m\u001b[4m2\u001b[24m     4.75  \n",
      "\u001b[90m10\u001b[39m 지방         5     0   0.002\u001b[4m6\u001b[24m\u001b[4m2\u001b[24m    0.000\u001b[4m5\u001b[24m\u001b[4m5\u001b[24m\u001b[4m2\u001b[24m     4.75  \n",
      "\u001b[90m11\u001b[39m 과제         0     4   0.000\u001b[4m4\u001b[24m\u001b[4m3\u001b[24m\u001b[4m6\u001b[24m   0.002\u001b[4m7\u001b[24m\u001b[4m6\u001b[24m      0.158 \n",
      "\u001b[90m12\u001b[39m 국정운영     0     4   0.000\u001b[4m4\u001b[24m\u001b[4m3\u001b[24m\u001b[4m6\u001b[24m   0.002\u001b[4m7\u001b[24m\u001b[4m6\u001b[24m      0.158 \n",
      "\u001b[90m13\u001b[39m 시작         0     4   0.000\u001b[4m4\u001b[24m\u001b[4m3\u001b[24m\u001b[4m6\u001b[24m   0.002\u001b[4m7\u001b[24m\u001b[4m6\u001b[24m      0.158 \n",
      "\u001b[90m14\u001b[39m 지식         0     4   0.000\u001b[4m4\u001b[24m\u001b[4m3\u001b[24m\u001b[4m6\u001b[24m   0.002\u001b[4m7\u001b[24m\u001b[4m6\u001b[24m      0.158 \n",
      "\u001b[90m15\u001b[39m 행복         3    23   0.001\u001b[4m7\u001b[24m\u001b[4m5\u001b[24m    0.013\u001b[4m2\u001b[24m       0.132 \n",
      "\u001b[90m16\u001b[39m 실천         0     5   0.000\u001b[4m4\u001b[24m\u001b[4m3\u001b[24m\u001b[4m6\u001b[24m   0.003\u001b[4m3\u001b[24m\u001b[4m1\u001b[24m      0.132 \n",
      "\u001b[90m17\u001b[39m 정보         0     5   0.000\u001b[4m4\u001b[24m\u001b[4m3\u001b[24m\u001b[4m6\u001b[24m   0.003\u001b[4m3\u001b[24m\u001b[4m1\u001b[24m      0.132 \n",
      "\u001b[90m18\u001b[39m 투명         0     5   0.000\u001b[4m4\u001b[24m\u001b[4m3\u001b[24m\u001b[4m6\u001b[24m   0.003\u001b[4m3\u001b[24m\u001b[4m1\u001b[24m      0.132 \n",
      "\u001b[90m19\u001b[39m 여러분       2    20   0.001\u001b[4m3\u001b[24m\u001b[4m1\u001b[24m    0.011\u001b[4m6\u001b[24m       0.113 \n",
      "\u001b[90m20\u001b[39m 박근혜       0     8   0.000\u001b[4m4\u001b[24m\u001b[4m3\u001b[24m\u001b[4m6\u001b[24m   0.004\u001b[4m9\u001b[24m\u001b[4m6\u001b[24m      0.087\u001b[4m9\u001b[24m\n"
     ]
    }
   ],
   "source": [
    "top10 <- frequency_wide %>%\n",
    "    filter(rank(odds_ratio) <= 10 | rank(-odds_ratio) <= 10)\n",
    "\n",
    "top10 %>%\n",
    "    arrange(-odds_ratio) %>% print"
   ]
  },
  {
   "cell_type": "code",
   "execution_count": 99,
   "id": "6cd4f60f",
   "metadata": {},
   "outputs": [
    {
     "name": "stdout",
     "output_type": "stream",
     "text": [
      "\u001b[90m# A tibble: 20 x 8\u001b[39m\n",
      "   word      moon  park ratio_moon ratio_park odds_ratio president     n\n",
      "   \u001b[3m\u001b[90m<chr>\u001b[39m\u001b[23m    \u001b[3m\u001b[90m<int>\u001b[39m\u001b[23m \u001b[3m\u001b[90m<int>\u001b[39m\u001b[23m      \u001b[3m\u001b[90m<dbl>\u001b[39m\u001b[23m      \u001b[3m\u001b[90m<dbl>\u001b[39m\u001b[23m      \u001b[3m\u001b[90m<dbl>\u001b[39m\u001b[23m \u001b[3m\u001b[90m<chr>\u001b[39m\u001b[23m     \u001b[3m\u001b[90m<int>\u001b[39m\u001b[23m\n",
      "\u001b[90m 1\u001b[39m 복지국가     8     0   0.003\u001b[4m9\u001b[24m\u001b[4m3\u001b[24m    0.000\u001b[4m5\u001b[24m\u001b[4m5\u001b[24m\u001b[4m2\u001b[24m     7.12   moon          8\n",
      "\u001b[90m 2\u001b[39m 세상         6     0   0.003\u001b[4m0\u001b[24m\u001b[4m6\u001b[24m    0.000\u001b[4m5\u001b[24m\u001b[4m5\u001b[24m\u001b[4m2\u001b[24m     5.54   moon          6\n",
      "\u001b[90m 3\u001b[39m 여성         6     0   0.003\u001b[4m0\u001b[24m\u001b[4m6\u001b[24m    0.000\u001b[4m5\u001b[24m\u001b[4m5\u001b[24m\u001b[4m2\u001b[24m     5.54   moon          6\n",
      "\u001b[90m 4\u001b[39m 정의         6     0   0.003\u001b[4m0\u001b[24m\u001b[4m6\u001b[24m    0.000\u001b[4m5\u001b[24m\u001b[4m5\u001b[24m\u001b[4m2\u001b[24m     5.54   moon          6\n",
      "\u001b[90m 5\u001b[39m 강자         5     0   0.002\u001b[4m6\u001b[24m\u001b[4m2\u001b[24m    0.000\u001b[4m5\u001b[24m\u001b[4m5\u001b[24m\u001b[4m2\u001b[24m     4.75   moon          5\n",
      "\u001b[90m 6\u001b[39m 공평         5     0   0.002\u001b[4m6\u001b[24m\u001b[4m2\u001b[24m    0.000\u001b[4m5\u001b[24m\u001b[4m5\u001b[24m\u001b[4m2\u001b[24m     4.75   moon          5\n",
      "\u001b[90m 7\u001b[39m 대통령의     5     0   0.002\u001b[4m6\u001b[24m\u001b[4m2\u001b[24m    0.000\u001b[4m5\u001b[24m\u001b[4m5\u001b[24m\u001b[4m2\u001b[24m     4.75   moon          5\n",
      "\u001b[90m 8\u001b[39m 보통         5     0   0.002\u001b[4m6\u001b[24m\u001b[4m2\u001b[24m    0.000\u001b[4m5\u001b[24m\u001b[4m5\u001b[24m\u001b[4m2\u001b[24m     4.75   moon          5\n",
      "\u001b[90m 9\u001b[39m 상생         5     0   0.002\u001b[4m6\u001b[24m\u001b[4m2\u001b[24m    0.000\u001b[4m5\u001b[24m\u001b[4m5\u001b[24m\u001b[4m2\u001b[24m     4.75   moon          5\n",
      "\u001b[90m10\u001b[39m 지방         5     0   0.002\u001b[4m6\u001b[24m\u001b[4m2\u001b[24m    0.000\u001b[4m5\u001b[24m\u001b[4m5\u001b[24m\u001b[4m2\u001b[24m     4.75   moon          5\n",
      "\u001b[90m11\u001b[39m 과제         0     4   0.000\u001b[4m4\u001b[24m\u001b[4m3\u001b[24m\u001b[4m6\u001b[24m   0.002\u001b[4m7\u001b[24m\u001b[4m6\u001b[24m      0.158  park          4\n",
      "\u001b[90m12\u001b[39m 국정운영     0     4   0.000\u001b[4m4\u001b[24m\u001b[4m3\u001b[24m\u001b[4m6\u001b[24m   0.002\u001b[4m7\u001b[24m\u001b[4m6\u001b[24m      0.158  park          4\n",
      "\u001b[90m13\u001b[39m 시작         0     4   0.000\u001b[4m4\u001b[24m\u001b[4m3\u001b[24m\u001b[4m6\u001b[24m   0.002\u001b[4m7\u001b[24m\u001b[4m6\u001b[24m      0.158  park          4\n",
      "\u001b[90m14\u001b[39m 지식         0     4   0.000\u001b[4m4\u001b[24m\u001b[4m3\u001b[24m\u001b[4m6\u001b[24m   0.002\u001b[4m7\u001b[24m\u001b[4m6\u001b[24m      0.158  park          4\n",
      "\u001b[90m15\u001b[39m 행복         3    23   0.001\u001b[4m7\u001b[24m\u001b[4m5\u001b[24m    0.013\u001b[4m2\u001b[24m       0.132  park         23\n",
      "\u001b[90m16\u001b[39m 실천         0     5   0.000\u001b[4m4\u001b[24m\u001b[4m3\u001b[24m\u001b[4m6\u001b[24m   0.003\u001b[4m3\u001b[24m\u001b[4m1\u001b[24m      0.132  park          5\n",
      "\u001b[90m17\u001b[39m 정보         0     5   0.000\u001b[4m4\u001b[24m\u001b[4m3\u001b[24m\u001b[4m6\u001b[24m   0.003\u001b[4m3\u001b[24m\u001b[4m1\u001b[24m      0.132  park          5\n",
      "\u001b[90m18\u001b[39m 투명         0     5   0.000\u001b[4m4\u001b[24m\u001b[4m3\u001b[24m\u001b[4m6\u001b[24m   0.003\u001b[4m3\u001b[24m\u001b[4m1\u001b[24m      0.132  park          5\n",
      "\u001b[90m19\u001b[39m 여러분       2    20   0.001\u001b[4m3\u001b[24m\u001b[4m1\u001b[24m    0.011\u001b[4m6\u001b[24m       0.113  park         20\n",
      "\u001b[90m20\u001b[39m 박근혜       0     8   0.000\u001b[4m4\u001b[24m\u001b[4m3\u001b[24m\u001b[4m6\u001b[24m   0.004\u001b[4m9\u001b[24m\u001b[4m6\u001b[24m      0.087\u001b[4m9\u001b[24m park          8\n"
     ]
    }
   ],
   "source": [
    "top10 <- top10 %>%\n",
    "    mutate(president = ifelse(odds_ratio > 1, \"moon\", \"park\"),\n",
    "          n = ifelse(odds_ratio > 1, moon, park))\n",
    "\n",
    "top10 %>% print"
   ]
  },
  {
   "cell_type": "code",
   "execution_count": 100,
   "id": "51d00ef8",
   "metadata": {},
   "outputs": [
    {
     "data": {
      "image/png": "[encoded data removed]",
      "text/plain": [
       "plot without title"
      ]
     },
     "metadata": {
      "image/png": {
       "height": 420,
       "width": 420
      }
     },
     "output_type": "display_data"
    }
   ],
   "source": [
    "ggplot(top10, aes(reorder_within(word, n, president),\n",
    "                 y = n,\n",
    "                 fill = president)) + \n",
    "    geom_col() + \n",
    "    coord_flip() + \n",
    "    facet_wrap(~ president, scales = \"free\") + \n",
    "    scale_x_reordered() +\n",
    "    theme(text = element_text(family = \"blackhansans\"),\n",
    "         axis.title.y = element_blank())"
   ]
  },
  {
   "cell_type": "markdown",
   "id": "1972221d",
   "metadata": {},
   "source": [
    "### 주요 단어가 사용된 문장 탐색"
   ]
  },
  {
   "cell_type": "code",
   "execution_count": 101,
   "id": "772b7057",
   "metadata": {},
   "outputs": [],
   "source": [
    "speeches_sentence <- bind_speeches %>%\n",
    "    as_tibble() %>%\n",
    "    unnest_tokens(input = value,\n",
    "                 output = sentence,\n",
    "                 token = \"sentences\")"
   ]
  },
  {
   "cell_type": "code",
   "execution_count": 102,
   "id": "194b7097",
   "metadata": {},
   "outputs": [
    {
     "name": "stdout",
     "output_type": "stream",
     "text": [
      "\u001b[90m# A tibble: 8 x 2\u001b[39m\n",
      "  president sentence                                                            \n",
      "  \u001b[3m\u001b[90m<chr>\u001b[39m\u001b[23m     \u001b[3m\u001b[90m<chr>\u001b[39m\u001b[23m                                                               \n",
      "\u001b[90m1\u001b[39m moon      ‘강한 복지국가’를 향해 담대하게 나아가겠습니다.                     \n",
      "\u001b[90m2\u001b[39m moon      2백 년 전 이와 같은 소득재분배, 복지국가의 사상을 가진 위정자가 지~ \n",
      "\u001b[90m3\u001b[39m moon      이제 우리는 복지국가를 향해 담대하게 나아갈 때입니다.               \n",
      "\u001b[90m4\u001b[39m moon      부자감세, 4대강 사업 같은 시대착오적 과오를 청산하고, 하루빨리 복지~\n",
      "\u001b[90m5\u001b[39m moon      우리는 지금 복지국가로 가느냐, 양극화의 분열된 국가로 가느냐 하는 ~ \n",
      "\u001b[90m6\u001b[39m moon      강한 복지국가일수록 국가 경쟁력도 더 높습니다.                      \n",
      "\u001b[90m7\u001b[39m moon      결국 복지국가로 가는 길은 사람에 대한 투자, 일자리 창출, 자영업 고~ \n",
      "\u001b[90m8\u001b[39m moon      우리는 과감히 강한 보편적 복지국가로 가야 합니다.                   \n"
     ]
    }
   ],
   "source": [
    "speeches_sentence %>%\n",
    "    filter(president == \"moon\" & str_detect(sentence, \"복지국가\")) %>% print"
   ]
  },
  {
   "cell_type": "code",
   "execution_count": 103,
   "id": "b23e4f88",
   "metadata": {},
   "outputs": [
    {
     "name": "stdout",
     "output_type": "stream",
     "text": [
      "\u001b[90m# A tibble: 19 x 2\u001b[39m\n",
      "   president sentence                                                           \n",
      "   \u001b[3m\u001b[90m<chr>\u001b[39m\u001b[23m     \u001b[3m\u001b[90m<chr>\u001b[39m\u001b[23m                                                              \n",
      "\u001b[90m 1\u001b[39m park      저는 오늘, 국민 한 분 한 분의 꿈이 이루어지는 행복한 대한민국을 만~\n",
      "\u001b[90m 2\u001b[39m park      국가는 발전했고, 경제는 성장했다는데, 나의 삶은 나아지지 않았고, ~ \n",
      "\u001b[90m 3\u001b[39m park      과거에는 국가의 발전이 국민의 행복으로 이어졌습니다.               \n",
      "\u001b[90m 4\u001b[39m park      개인의 창의력이 중요한 지식기반사회에서는 국민 한 사람, 한 사람이 ~\n",
      "\u001b[90m 5\u001b[39m park      이제 국정운영의 패러다임을 국가에서 국민으로, 개인의 삶과 행복 중~ \n",
      "\u001b[90m 6\u001b[39m park      국민 개개인의 꿈을 향한 노력이 국가를 발전시키고 국가 발전이 국민 ~\n",
      "\u001b[90m 7\u001b[39m park      저는 ‘경제민주화 실현’, ‘일자리 창출’, 그리고 ‘한국형 복지의 ~     \n",
      "\u001b[90m 8\u001b[39m park      국민행복의 길을 열어갈 첫 번째 과제로, 저는 경제민주화를 통해 중소~\n",
      "\u001b[90m 9\u001b[39m park      국민행복의 길을 열어갈 두 번째 과제로, 저는 좋은 일자리 창출을 통~ \n",
      "\u001b[90m10\u001b[39m park      국민행복의 길을 열어갈 세 번째 과제로, 우리의 실정에 맞으면서 국민~\n",
      "\u001b[90m11\u001b[39m park      저는 국민행복을 위해 ‘경제민주화-일자리-복지’를 아우르는 (가칭)~   \n",
      "\u001b[90m12\u001b[39m park      모든 계층의 국민이 함께 참여해 만들고, 정부와 기업, 지역사회가 함~ \n",
      "\u001b[90m13\u001b[39m park      50년 전 경제개발 5개년 계획이 산업화의 기적을 이뤄냈듯,‘오천만 국~ \n",
      "\u001b[90m14\u001b[39m park      저는 지속가능한 국민 행복을 만들 수 있도록,사람에 대한 투자를 적극~\n",
      "\u001b[90m15\u001b[39m park      저 박근혜, 경쟁과 입시에 매몰된 교육을‘함께하는 행복교육’으로 바~  \n",
      "\u001b[90m16\u001b[39m park      존경하는 국민여러분, 국민행복을 위한 노력이 안정적으로 이루어지기 ~\n",
      "\u001b[90m17\u001b[39m park      국민 여러분, 국민행복의 꿈을 이뤄내기 위해서는, 먼저 정부부터 변해~\n",
      "\u001b[90m18\u001b[39m park      국민들이 꿈으로만 가졌던 행복한 삶을 실제로 이룰 수 있도록 도와드~ \n",
      "\u001b[90m19\u001b[39m park      국민 여러분의 행복이 곧 저의 행복입니다.                           \n"
     ]
    }
   ],
   "source": [
    "speeches_sentence %>%\n",
    "    filter(president == \"park\" & str_detect(sentence, \"행복\")) %>% print"
   ]
  },
  {
   "cell_type": "markdown",
   "id": "33a55218",
   "metadata": {},
   "source": [
    "### 중요도가 비슷한 단어 탐색 (오즈비가 1에 가까움)"
   ]
  },
  {
   "cell_type": "code",
   "execution_count": 104,
   "id": "3f64b317",
   "metadata": {},
   "outputs": [
    {
     "name": "stdout",
     "output_type": "stream",
     "text": [
      "\u001b[90m# A tibble: 10 x 6\u001b[39m\n",
      "   word      moon  park ratio_moon ratio_park odds_ratio\n",
      "   \u001b[3m\u001b[90m<chr>\u001b[39m\u001b[23m    \u001b[3m\u001b[90m<int>\u001b[39m\u001b[23m \u001b[3m\u001b[90m<int>\u001b[39m\u001b[23m      \u001b[3m\u001b[90m<dbl>\u001b[39m\u001b[23m      \u001b[3m\u001b[90m<dbl>\u001b[39m\u001b[23m      \u001b[3m\u001b[90m<dbl>\u001b[39m\u001b[23m\n",
      "\u001b[90m 1\u001b[39m 사회        14     9    0.006\u001b[4m5\u001b[24m\u001b[4m5\u001b[24m    0.005\u001b[4m5\u001b[24m\u001b[4m2\u001b[24m      1.19 \n",
      "\u001b[90m 2\u001b[39m 사람         9     9    0.004\u001b[4m3\u001b[24m\u001b[4m6\u001b[24m    0.005\u001b[4m5\u001b[24m\u001b[4m2\u001b[24m      0.791\n",
      "\u001b[90m 3\u001b[39m 경제        15    15    0.006\u001b[4m9\u001b[24m\u001b[4m8\u001b[24m    0.008\u001b[4m8\u001b[24m\u001b[4m3\u001b[24m      0.791\n",
      "\u001b[90m 4\u001b[39m 지원         5     5    0.002\u001b[4m6\u001b[24m\u001b[4m2\u001b[24m    0.003\u001b[4m3\u001b[24m\u001b[4m1\u001b[24m      0.791\n",
      "\u001b[90m 5\u001b[39m 우리        17    10    0.007\u001b[4m8\u001b[24m\u001b[4m6\u001b[24m    0.006\u001b[4m0\u001b[24m\u001b[4m7\u001b[24m      1.29 \n",
      "\u001b[90m 6\u001b[39m 불안         7     8    0.003\u001b[4m4\u001b[24m\u001b[4m9\u001b[24m    0.004\u001b[4m9\u001b[24m\u001b[4m6\u001b[24m      0.703\n",
      "\u001b[90m 7\u001b[39m 산업         9     5    0.004\u001b[4m3\u001b[24m\u001b[4m6\u001b[24m    0.003\u001b[4m3\u001b[24m\u001b[4m1\u001b[24m      1.32 \n",
      "\u001b[90m 8\u001b[39m 대한민국    11     6    0.005\u001b[4m2\u001b[24m\u001b[4m4\u001b[24m    0.003\u001b[4m8\u001b[24m\u001b[4m6\u001b[24m      1.36 \n",
      "\u001b[90m 9\u001b[39m 국가         7    10    0.003\u001b[4m4\u001b[24m\u001b[4m9\u001b[24m    0.006\u001b[4m0\u001b[24m\u001b[4m7\u001b[24m      0.576\n",
      "\u001b[90m10\u001b[39m 교육         6     9    0.003\u001b[4m0\u001b[24m\u001b[4m6\u001b[24m    0.005\u001b[4m5\u001b[24m\u001b[4m2\u001b[24m      0.554\n"
     ]
    }
   ],
   "source": [
    "frequency_wide %>%\n",
    "    filter(moon >= 5 & park >= 5) %>%\n",
    "    arrange(abs(1 - odds_ratio)) %>%\n",
    "    head(10) %>% print"
   ]
  },
  {
   "cell_type": "markdown",
   "id": "7e894b46",
   "metadata": {},
   "source": [
    "### 03-03 로그 오즈비\n",
    "- 오즈비가 1보다 큰 단어는 양수, 오즈비가 1보다 작은 단어는 음수\n",
    "- 두 텍스트 중 어디에서 비중이 큰지에 따라 서로 다른 부호를 가짐\n",
    "\n",
    "\n",
    "$$\n",
    "log \\; odds \\;ratio = log({{({n+1 \\over total+1})_{Text \\;A}} \\over {({n+1 \\over total+1})_{Text \\; B}}})\n",
    "$$"
   ]
  },
  {
   "cell_type": "code",
   "execution_count": 106,
   "id": "c36fcf40",
   "metadata": {},
   "outputs": [],
   "source": [
    "frequency_wide <- frequency_wide %>%\n",
    "    mutate(log_odds_ratio = log(odds_ratio)) "
   ]
  },
  {
   "cell_type": "code",
   "execution_count": 109,
   "id": "f143bd11",
   "metadata": {},
   "outputs": [
    {
     "name": "stdout",
     "output_type": "stream",
     "text": [
      "\u001b[90m# A tibble: 955 x 7\u001b[39m\n",
      "   word      moon  park ratio_moon ratio_park odds_ratio log_odds_ratio\n",
      "   \u001b[3m\u001b[90m<chr>\u001b[39m\u001b[23m    \u001b[3m\u001b[90m<int>\u001b[39m\u001b[23m \u001b[3m\u001b[90m<int>\u001b[39m\u001b[23m      \u001b[3m\u001b[90m<dbl>\u001b[39m\u001b[23m      \u001b[3m\u001b[90m<dbl>\u001b[39m\u001b[23m      \u001b[3m\u001b[90m<dbl>\u001b[39m\u001b[23m          \u001b[3m\u001b[90m<dbl>\u001b[39m\u001b[23m\n",
      "\u001b[90m 1\u001b[39m 복지국가     8     0    0.003\u001b[4m9\u001b[24m\u001b[4m3\u001b[24m   0.000\u001b[4m5\u001b[24m\u001b[4m5\u001b[24m\u001b[4m2\u001b[24m       7.12           1.96\n",
      "\u001b[90m 2\u001b[39m 세상         6     0    0.003\u001b[4m0\u001b[24m\u001b[4m6\u001b[24m   0.000\u001b[4m5\u001b[24m\u001b[4m5\u001b[24m\u001b[4m2\u001b[24m       5.54           1.71\n",
      "\u001b[90m 3\u001b[39m 여성         6     0    0.003\u001b[4m0\u001b[24m\u001b[4m6\u001b[24m   0.000\u001b[4m5\u001b[24m\u001b[4m5\u001b[24m\u001b[4m2\u001b[24m       5.54           1.71\n",
      "\u001b[90m 4\u001b[39m 정의         6     0    0.003\u001b[4m0\u001b[24m\u001b[4m6\u001b[24m   0.000\u001b[4m5\u001b[24m\u001b[4m5\u001b[24m\u001b[4m2\u001b[24m       5.54           1.71\n",
      "\u001b[90m 5\u001b[39m 강자         5     0    0.002\u001b[4m6\u001b[24m\u001b[4m2\u001b[24m   0.000\u001b[4m5\u001b[24m\u001b[4m5\u001b[24m\u001b[4m2\u001b[24m       4.75           1.56\n",
      "\u001b[90m 6\u001b[39m 공평         5     0    0.002\u001b[4m6\u001b[24m\u001b[4m2\u001b[24m   0.000\u001b[4m5\u001b[24m\u001b[4m5\u001b[24m\u001b[4m2\u001b[24m       4.75           1.56\n",
      "\u001b[90m 7\u001b[39m 대통령의     5     0    0.002\u001b[4m6\u001b[24m\u001b[4m2\u001b[24m   0.000\u001b[4m5\u001b[24m\u001b[4m5\u001b[24m\u001b[4m2\u001b[24m       4.75           1.56\n",
      "\u001b[90m 8\u001b[39m 보통         5     0    0.002\u001b[4m6\u001b[24m\u001b[4m2\u001b[24m   0.000\u001b[4m5\u001b[24m\u001b[4m5\u001b[24m\u001b[4m2\u001b[24m       4.75           1.56\n",
      "\u001b[90m 9\u001b[39m 상생         5     0    0.002\u001b[4m6\u001b[24m\u001b[4m2\u001b[24m   0.000\u001b[4m5\u001b[24m\u001b[4m5\u001b[24m\u001b[4m2\u001b[24m       4.75           1.56\n",
      "\u001b[90m10\u001b[39m 지방         5     0    0.002\u001b[4m6\u001b[24m\u001b[4m2\u001b[24m   0.000\u001b[4m5\u001b[24m\u001b[4m5\u001b[24m\u001b[4m2\u001b[24m       4.75           1.56\n",
      "\u001b[90m# ... with 945 more rows\u001b[39m\n"
     ]
    }
   ],
   "source": [
    "frequency_wide %>%\n",
    "    arrange(-log_odds_ratio) %>% print"
   ]
  },
  {
   "cell_type": "code",
   "execution_count": 110,
   "id": "2ee98f43",
   "metadata": {},
   "outputs": [
    {
     "name": "stdout",
     "output_type": "stream",
     "text": [
      "\u001b[90m# A tibble: 955 x 7\u001b[39m\n",
      "   word      moon  park ratio_moon ratio_park odds_ratio log_odds_ratio\n",
      "   \u001b[3m\u001b[90m<chr>\u001b[39m\u001b[23m    \u001b[3m\u001b[90m<int>\u001b[39m\u001b[23m \u001b[3m\u001b[90m<int>\u001b[39m\u001b[23m      \u001b[3m\u001b[90m<dbl>\u001b[39m\u001b[23m      \u001b[3m\u001b[90m<dbl>\u001b[39m\u001b[23m      \u001b[3m\u001b[90m<dbl>\u001b[39m\u001b[23m          \u001b[3m\u001b[90m<dbl>\u001b[39m\u001b[23m\n",
      "\u001b[90m 1\u001b[39m 박근혜       0     8   0.000\u001b[4m4\u001b[24m\u001b[4m3\u001b[24m\u001b[4m6\u001b[24m    0.004\u001b[4m9\u001b[24m\u001b[4m6\u001b[24m     0.087\u001b[4m9\u001b[24m          -\u001b[31m2\u001b[39m\u001b[31m.\u001b[39m\u001b[31m43\u001b[39m\n",
      "\u001b[90m 2\u001b[39m 여러분       2    20   0.001\u001b[4m3\u001b[24m\u001b[4m1\u001b[24m     0.011\u001b[4m6\u001b[24m      0.113           -\u001b[31m2\u001b[39m\u001b[31m.\u001b[39m\u001b[31m18\u001b[39m\n",
      "\u001b[90m 3\u001b[39m 행복         3    23   0.001\u001b[4m7\u001b[24m\u001b[4m5\u001b[24m     0.013\u001b[4m2\u001b[24m      0.132           -\u001b[31m2\u001b[39m\u001b[31m.\u001b[39m\u001b[31m0\u001b[39m\u001b[31m3\u001b[39m\n",
      "\u001b[90m 4\u001b[39m 실천         0     5   0.000\u001b[4m4\u001b[24m\u001b[4m3\u001b[24m\u001b[4m6\u001b[24m    0.003\u001b[4m3\u001b[24m\u001b[4m1\u001b[24m     0.132           -\u001b[31m2\u001b[39m\u001b[31m.\u001b[39m\u001b[31m0\u001b[39m\u001b[31m3\u001b[39m\n",
      "\u001b[90m 5\u001b[39m 정보         0     5   0.000\u001b[4m4\u001b[24m\u001b[4m3\u001b[24m\u001b[4m6\u001b[24m    0.003\u001b[4m3\u001b[24m\u001b[4m1\u001b[24m     0.132           -\u001b[31m2\u001b[39m\u001b[31m.\u001b[39m\u001b[31m0\u001b[39m\u001b[31m3\u001b[39m\n",
      "\u001b[90m 6\u001b[39m 투명         0     5   0.000\u001b[4m4\u001b[24m\u001b[4m3\u001b[24m\u001b[4m6\u001b[24m    0.003\u001b[4m3\u001b[24m\u001b[4m1\u001b[24m     0.132           -\u001b[31m2\u001b[39m\u001b[31m.\u001b[39m\u001b[31m0\u001b[39m\u001b[31m3\u001b[39m\n",
      "\u001b[90m 7\u001b[39m 과제         0     4   0.000\u001b[4m4\u001b[24m\u001b[4m3\u001b[24m\u001b[4m6\u001b[24m    0.002\u001b[4m7\u001b[24m\u001b[4m6\u001b[24m     0.158           -\u001b[31m1\u001b[39m\u001b[31m.\u001b[39m\u001b[31m84\u001b[39m\n",
      "\u001b[90m 8\u001b[39m 국정운영     0     4   0.000\u001b[4m4\u001b[24m\u001b[4m3\u001b[24m\u001b[4m6\u001b[24m    0.002\u001b[4m7\u001b[24m\u001b[4m6\u001b[24m     0.158           -\u001b[31m1\u001b[39m\u001b[31m.\u001b[39m\u001b[31m84\u001b[39m\n",
      "\u001b[90m 9\u001b[39m 시작         0     4   0.000\u001b[4m4\u001b[24m\u001b[4m3\u001b[24m\u001b[4m6\u001b[24m    0.002\u001b[4m7\u001b[24m\u001b[4m6\u001b[24m     0.158           -\u001b[31m1\u001b[39m\u001b[31m.\u001b[39m\u001b[31m84\u001b[39m\n",
      "\u001b[90m10\u001b[39m 지식         0     4   0.000\u001b[4m4\u001b[24m\u001b[4m3\u001b[24m\u001b[4m6\u001b[24m    0.002\u001b[4m7\u001b[24m\u001b[4m6\u001b[24m     0.158           -\u001b[31m1\u001b[39m\u001b[31m.\u001b[39m\u001b[31m84\u001b[39m\n",
      "\u001b[90m# ... with 945 more rows\u001b[39m\n"
     ]
    }
   ],
   "source": [
    "frequency_wide %>%\n",
    "    arrange(log_odds_ratio) %>% print"
   ]
  },
  {
   "cell_type": "code",
   "execution_count": 111,
   "id": "ee55a150",
   "metadata": {},
   "outputs": [
    {
     "name": "stdout",
     "output_type": "stream",
     "text": [
      "\u001b[90m# A tibble: 955 x 7\u001b[39m\n",
      "   word    moon  park ratio_moon ratio_park odds_ratio log_odds_ratio\n",
      "   \u001b[3m\u001b[90m<chr>\u001b[39m\u001b[23m  \u001b[3m\u001b[90m<int>\u001b[39m\u001b[23m \u001b[3m\u001b[90m<int>\u001b[39m\u001b[23m      \u001b[3m\u001b[90m<dbl>\u001b[39m\u001b[23m      \u001b[3m\u001b[90m<dbl>\u001b[39m\u001b[23m      \u001b[3m\u001b[90m<dbl>\u001b[39m\u001b[23m          \u001b[3m\u001b[90m<dbl>\u001b[39m\u001b[23m\n",
      "\u001b[90m 1\u001b[39m 때문       4     3    0.002\u001b[4m1\u001b[24m\u001b[4m8\u001b[24m    0.002\u001b[4m2\u001b[24m\u001b[4m1\u001b[24m      0.989        -\u001b[31m0\u001b[39m\u001b[31m.\u001b[39m\u001b[31m0\u001b[39m\u001b[31m10\u001b[4m9\u001b[24m\u001b[39m\n",
      "\u001b[90m 2\u001b[39m 강화       3     2    0.001\u001b[4m7\u001b[24m\u001b[4m5\u001b[24m    0.001\u001b[4m6\u001b[24m\u001b[4m5\u001b[24m      1.06          0.053\u001b[4m7\u001b[24m\n",
      "\u001b[90m 3\u001b[39m 부담       3     2    0.001\u001b[4m7\u001b[24m\u001b[4m5\u001b[24m    0.001\u001b[4m6\u001b[24m\u001b[4m5\u001b[24m      1.06          0.053\u001b[4m7\u001b[24m\n",
      "\u001b[90m 4\u001b[39m 세계       3     2    0.001\u001b[4m7\u001b[24m\u001b[4m5\u001b[24m    0.001\u001b[4m6\u001b[24m\u001b[4m5\u001b[24m      1.06          0.053\u001b[4m7\u001b[24m\n",
      "\u001b[90m 5\u001b[39m 책임       3     2    0.001\u001b[4m7\u001b[24m\u001b[4m5\u001b[24m    0.001\u001b[4m6\u001b[24m\u001b[4m5\u001b[24m      1.06          0.053\u001b[4m7\u001b[24m\n",
      "\u001b[90m 6\u001b[39m 협력       3     2    0.001\u001b[4m7\u001b[24m\u001b[4m5\u001b[24m    0.001\u001b[4m6\u001b[24m\u001b[4m5\u001b[24m      1.06          0.053\u001b[4m7\u001b[24m\n",
      "\u001b[90m 7\u001b[39m 거대       2     1    0.001\u001b[4m3\u001b[24m\u001b[4m1\u001b[24m    0.001\u001b[4m1\u001b[24m\u001b[4m0\u001b[24m      1.19          0.171 \n",
      "\u001b[90m 8\u001b[39m 교체       2     1    0.001\u001b[4m3\u001b[24m\u001b[4m1\u001b[24m    0.001\u001b[4m1\u001b[24m\u001b[4m0\u001b[24m      1.19          0.171 \n",
      "\u001b[90m 9\u001b[39m 근본적     2     1    0.001\u001b[4m3\u001b[24m\u001b[4m1\u001b[24m    0.001\u001b[4m1\u001b[24m\u001b[4m0\u001b[24m      1.19          0.171 \n",
      "\u001b[90m10\u001b[39m 기반       2     1    0.001\u001b[4m3\u001b[24m\u001b[4m1\u001b[24m    0.001\u001b[4m1\u001b[24m\u001b[4m0\u001b[24m      1.19          0.171 \n",
      "\u001b[90m# ... with 945 more rows\u001b[39m\n"
     ]
    }
   ],
   "source": [
    "frequency_wide %>%\n",
    "    arrange(abs(log_odds_ratio)) %>% print"
   ]
  },
  {
   "cell_type": "markdown",
   "id": "c7ebd4d5",
   "metadata": {},
   "source": [
    "### 로그 오즈비를 이용하여 중요 단어 비교"
   ]
  },
  {
   "cell_type": "code",
   "execution_count": 115,
   "id": "e414504e",
   "metadata": {},
   "outputs": [
    {
     "name": "stdout",
     "output_type": "stream",
     "text": [
      "\u001b[90m# A tibble: 20 x 3\u001b[39m\n",
      "\u001b[90m# Groups:   president [2]\u001b[39m\n",
      "   word     log_odds_ratio president\n",
      "   \u001b[3m\u001b[90m<chr>\u001b[39m\u001b[23m             \u001b[3m\u001b[90m<dbl>\u001b[39m\u001b[23m \u001b[3m\u001b[90m<chr>\u001b[39m\u001b[23m    \n",
      "\u001b[90m 1\u001b[39m 복지국가           1.96 moon     \n",
      "\u001b[90m 2\u001b[39m 세상               1.71 moon     \n",
      "\u001b[90m 3\u001b[39m 여성               1.71 moon     \n",
      "\u001b[90m 4\u001b[39m 정의               1.71 moon     \n",
      "\u001b[90m 5\u001b[39m 강자               1.56 moon     \n",
      "\u001b[90m 6\u001b[39m 공평               1.56 moon     \n",
      "\u001b[90m 7\u001b[39m 대통령의           1.56 moon     \n",
      "\u001b[90m 8\u001b[39m 보통               1.56 moon     \n",
      "\u001b[90m 9\u001b[39m 상생               1.56 moon     \n",
      "\u001b[90m10\u001b[39m 지방               1.56 moon     \n",
      "\u001b[90m11\u001b[39m 과제              -\u001b[31m1\u001b[39m\u001b[31m.\u001b[39m\u001b[31m84\u001b[39m park     \n",
      "\u001b[90m12\u001b[39m 국정운영          -\u001b[31m1\u001b[39m\u001b[31m.\u001b[39m\u001b[31m84\u001b[39m park     \n",
      "\u001b[90m13\u001b[39m 시작              -\u001b[31m1\u001b[39m\u001b[31m.\u001b[39m\u001b[31m84\u001b[39m park     \n",
      "\u001b[90m14\u001b[39m 지식              -\u001b[31m1\u001b[39m\u001b[31m.\u001b[39m\u001b[31m84\u001b[39m park     \n",
      "\u001b[90m15\u001b[39m 행복              -\u001b[31m2\u001b[39m\u001b[31m.\u001b[39m\u001b[31m0\u001b[39m\u001b[31m3\u001b[39m park     \n",
      "\u001b[90m16\u001b[39m 실천              -\u001b[31m2\u001b[39m\u001b[31m.\u001b[39m\u001b[31m0\u001b[39m\u001b[31m3\u001b[39m park     \n",
      "\u001b[90m17\u001b[39m 정보              -\u001b[31m2\u001b[39m\u001b[31m.\u001b[39m\u001b[31m0\u001b[39m\u001b[31m3\u001b[39m park     \n",
      "\u001b[90m18\u001b[39m 투명              -\u001b[31m2\u001b[39m\u001b[31m.\u001b[39m\u001b[31m0\u001b[39m\u001b[31m3\u001b[39m park     \n",
      "\u001b[90m19\u001b[39m 여러분            -\u001b[31m2\u001b[39m\u001b[31m.\u001b[39m\u001b[31m18\u001b[39m park     \n",
      "\u001b[90m20\u001b[39m 박근혜            -\u001b[31m2\u001b[39m\u001b[31m.\u001b[39m\u001b[31m43\u001b[39m park     \n"
     ]
    }
   ],
   "source": [
    "top10 <- frequency_wide %>%\n",
    "  group_by(president = ifelse(log_odds_ratio > 0, \"moon\", \"park\")) %>%\n",
    "  slice_max(abs(log_odds_ratio), n = 10, with_ties = F)\n",
    "\n",
    "top10 %>% \n",
    "  arrange(-log_odds_ratio) %>% \n",
    "  select(word, log_odds_ratio, president) %>% print"
   ]
  },
  {
   "cell_type": "code",
   "execution_count": 117,
   "id": "c08dc885",
   "metadata": {},
   "outputs": [
    {
     "data": {
      "image/png": "[encoded data removed]",
      "text/plain": [
       "plot without title"
      ]
     },
     "metadata": {
      "image/png": {
       "height": 420,
       "width": 420
      }
     },
     "output_type": "display_data"
    }
   ],
   "source": [
    "ggplot(top10, aes(x = fct_reorder(word, log_odds_ratio),\n",
    "                  y = log_odds_ratio,\n",
    "                  fill = president)) +\n",
    "  geom_col() +\n",
    "  coord_flip() +\n",
    "  labs(x = NULL) +\n",
    "  theme(text = element_text(family = \"blackhansans\"))"
   ]
  },
  {
   "cell_type": "markdown",
   "id": "1885a1b9",
   "metadata": {},
   "source": [
    "### 03-04 TF-IDF 여러 텍스트의 단어 비교 (셋 이상의 텍스트)"
   ]
  },
  {
   "cell_type": "markdown",
   "id": "00944376",
   "metadata": {},
   "source": [
    "### TF-IDF(Term Frequency - Inverse Document Frequency) \n",
    "- 어떤 단어가 흔하지 않으면서도 특정 텍스트에서는 자주 사용된 정도\n",
    "\n",
    "#### TF : 특정 텍스트에서의 단어 빈도\n",
    "#### DF : 단어가 사용된 텍스트 수 '문서 빈도', DF가 클수록 여러 문서에 흔하게 사용된 일반적인 단어\n",
    "#### IDF : 전체 문서 수(N)에서 DF가 차지하는 비중을 구하고, 그 값의 역수에 로그를 취함 (역문서 빈도)\n",
    "\n",
    "$$\n",
    "IDF = log{N \\over DF}\n",
    "$$\n",
    "\n",
    "- IDF는 DF의 역수이므로, DF가 클수록 작아지고, DF가 작을수록 커짐\n",
    "- **IDF가 클수록 드물게 사용되는 특이한 단어, 작을수록 흔하게 사용되는 일반적 단어**"
   ]
  },
  {
   "cell_type": "markdown",
   "id": "80ebb741",
   "metadata": {},
   "source": [
    "#### TF-IDF : 어떤 단어가 분석 대상이 되는 텍스트 내에서 많이 사용될수록 커지고, 동시에 해당 단어가 사용된 텍스트가 드물수록 커짐\n",
    "\n",
    "### 즉 \"흔하지 않은 단어인데 특정 텍스트에서 자주 사용될수록 큰 값\"\n",
    "\n",
    "$$\n",
    "TF-IDF = TF \\; X \\;log{N \\over DF}\n",
    "$$"
   ]
  },
  {
   "cell_type": "markdown",
   "id": "82f18d5e",
   "metadata": {},
   "source": [
    "#### - 모든 문서에 사용된 단어는 IDF가 0이므로 TF-IDF도 0이 됨, 따라서 TF-IDF를 활용하면 어떤 단어가 특정 문서에 특출나게 많이 사용되더라도 모든 문서에 사용되면 발견 할 수 없는 한계가 존재"
   ]
  },
  {
   "cell_type": "markdown",
   "id": "652d31c7",
   "metadata": {},
   "source": [
    "### TF-IDF 구하기"
   ]
  },
  {
   "cell_type": "code",
   "execution_count": 118,
   "id": "cdba91da",
   "metadata": {},
   "outputs": [],
   "source": [
    "library(readr)"
   ]
  },
  {
   "cell_type": "code",
   "execution_count": 127,
   "id": "8fccec03",
   "metadata": {},
   "outputs": [],
   "source": [
    "setwd(\"C:/Soongsil/R/Textmining\")"
   ]
  },
  {
   "cell_type": "code",
   "execution_count": 129,
   "id": "36b374c7",
   "metadata": {},
   "outputs": [
    {
     "name": "stderr",
     "output_type": "stream",
     "text": [
      "\u001b[1mRows: \u001b[22m\u001b[34m4\u001b[39m \u001b[1mColumns: \u001b[22m\u001b[34m2\u001b[39m\n",
      "\u001b[36m--\u001b[39m \u001b[1mColumn specification\u001b[22m \u001b[36m------------------------------------------------------------------------------------------------\u001b[39m\n",
      "\u001b[1mDelimiter:\u001b[22m \",\"\n",
      "\u001b[31mchr\u001b[39m (2): president, value\n",
      "\n",
      "\u001b[36mi\u001b[39m Use `spec()` to retrieve the full column specification for this data.\n",
      "\u001b[36mi\u001b[39m Specify the column types or set `show_col_types = FALSE` to quiet this message.\n"
     ]
    },
    {
     "name": "stdout",
     "output_type": "stream",
     "text": [
      "\u001b[90m# A tibble: 4 x 2\u001b[39m\n",
      "  president value                                                               \n",
      "  \u001b[3m\u001b[90m<chr>\u001b[39m\u001b[23m     \u001b[3m\u001b[90m<chr>\u001b[39m\u001b[23m                                                               \n",
      "\u001b[90m1\u001b[39m 문재인    \u001b[90m\"\u001b[39m정권교체 하겠습니다!   정치교체 하겠습니다!   시대교체 하겠습니다!~\n",
      "\u001b[90m2\u001b[39m 박근혜    \u001b[90m\"\u001b[39m존경하는 국민 여러분! 저는 오늘, 국민 한 분 한 분의 꿈이 이루어지~ \n",
      "\u001b[90m3\u001b[39m 이명박    \u001b[90m\"\u001b[39m존경하는 국민 여러분, 사랑하는 한나라당 당원 동지 여러분! 저는 오~ \n",
      "\u001b[90m4\u001b[39m 노무현    \u001b[90m\"\u001b[39m어느때인가 부터 제가 대통령이 되겠다고 말을 하기 시작했습니다. 많~ \n"
     ]
    }
   ],
   "source": [
    "raw_speeches <- read_csv(\"speeches_presidents.csv\")\n",
    "raw_speeches %>% print"
   ]
  },
  {
   "cell_type": "code",
   "execution_count": 132,
   "id": "8416ab83",
   "metadata": {},
   "outputs": [
    {
     "name": "stdout",
     "output_type": "stream",
     "text": [
      "\u001b[90m# A tibble: 1,513 x 3\u001b[39m\n",
      "   president word      n\n",
      "   \u001b[3m\u001b[90m<chr>\u001b[39m\u001b[23m     \u001b[3m\u001b[90m<chr>\u001b[39m\u001b[23m \u001b[3m\u001b[90m<int>\u001b[39m\u001b[23m\n",
      "\u001b[90m 1\u001b[39m 노무현    가슴      2\n",
      "\u001b[90m 2\u001b[39m 노무현    가훈      2\n",
      "\u001b[90m 3\u001b[39m 노무현    갈등      1\n",
      "\u001b[90m 4\u001b[39m 노무현    감옥      1\n",
      "\u001b[90m 5\u001b[39m 노무현    강자      1\n",
      "\u001b[90m 6\u001b[39m 노무현    개편      4\n",
      "\u001b[90m 7\u001b[39m 노무현    개혁      4\n",
      "\u001b[90m 8\u001b[39m 노무현    건국      1\n",
      "\u001b[90m 9\u001b[39m 노무현    경선      1\n",
      "\u001b[90m10\u001b[39m 노무현    경쟁      1\n",
      "\u001b[90m# ... with 1,503 more rows\u001b[39m\n"
     ]
    }
   ],
   "source": [
    "speeches <- raw_speeches %>%\n",
    "    mutate(value = str_replace_all(value, \"[^가-힣]\", \" \"),\n",
    "          value = str_squish(value))\n",
    "\n",
    "speeches <- speeches %>%\n",
    "    unnest_tokens(input = value,\n",
    "                 output = word,\n",
    "                 token = extractNoun)\n",
    "\n",
    "frequency <- speeches %>%\n",
    "    count(president, word) %>%\n",
    "    filter(str_count(word) > 1)\n",
    "\n",
    "frequency %>% print"
   ]
  },
  {
   "cell_type": "markdown",
   "id": "0d6f39e7",
   "metadata": {},
   "source": [
    "### ```bind_tf_idf()``` : TF-IDF 계산\n",
    "- ```term``` : 단어\n",
    "- ```document``` : 텍스트 구분 기준\n",
    "- ```n``` : 단어 빈도"
   ]
  },
  {
   "cell_type": "code",
   "execution_count": 137,
   "id": "6019be4d",
   "metadata": {
    "scrolled": true
   },
   "outputs": [
    {
     "name": "stdout",
     "output_type": "stream",
     "text": [
      "\u001b[90m# A tibble: 1,513 x 6\u001b[39m\n",
      "   president word         n      tf   idf tf_idf\n",
      "   \u001b[3m\u001b[90m<chr>\u001b[39m\u001b[23m     \u001b[3m\u001b[90m<chr>\u001b[39m\u001b[23m    \u001b[3m\u001b[90m<int>\u001b[39m\u001b[23m   \u001b[3m\u001b[90m<dbl>\u001b[39m\u001b[23m \u001b[3m\u001b[90m<dbl>\u001b[39m\u001b[23m  \u001b[3m\u001b[90m<dbl>\u001b[39m\u001b[23m\n",
      "\u001b[90m 1\u001b[39m 노무현    공식         6 0.016\u001b[4m3\u001b[24m  1.39  0.022\u001b[4m7\u001b[24m\n",
      "\u001b[90m 2\u001b[39m 노무현    비젼         6 0.016\u001b[4m3\u001b[24m  1.39  0.022\u001b[4m7\u001b[24m\n",
      "\u001b[90m 3\u001b[39m 노무현    정계         6 0.016\u001b[4m3\u001b[24m  1.39  0.022\u001b[4m7\u001b[24m\n",
      "\u001b[90m 4\u001b[39m 이명박    리더십       6 0.015\u001b[4m8\u001b[24m  1.39  0.021\u001b[4m9\u001b[24m\n",
      "\u001b[90m 5\u001b[39m 노무현    권력         9 0.024\u001b[4m5\u001b[24m  0.693 0.017\u001b[4m0\u001b[24m\n",
      "\u001b[90m 6\u001b[39m 노무현    개편         4 0.010\u001b[4m9\u001b[24m  1.39  0.015\u001b[4m1\u001b[24m\n",
      "\u001b[90m 7\u001b[39m 이명박    당원         4 0.010\u001b[4m5\u001b[24m  1.39  0.014\u001b[4m6\u001b[24m\n",
      "\u001b[90m 8\u001b[39m 이명박    동지         4 0.010\u001b[4m5\u001b[24m  1.39  0.014\u001b[4m6\u001b[24m\n",
      "\u001b[90m 9\u001b[39m 이명박    일류국가     4 0.010\u001b[4m5\u001b[24m  1.39  0.014\u001b[4m6\u001b[24m\n",
      "\u001b[90m10\u001b[39m 박근혜    박근혜       8 0.009\u001b[4m6\u001b[24m\u001b[4m2\u001b[24m 1.39  0.013\u001b[4m3\u001b[24m\n",
      "\u001b[90m# ... with 1,503 more rows\u001b[39m\n"
     ]
    }
   ],
   "source": [
    "frequency <- frequency %>%\n",
    "    bind_tf_idf(term = word,\n",
    "               document = president,\n",
    "               n = n) %>%\n",
    "    arrange(-tf_idf)\n",
    "\n",
    "frequency %>% print"
   ]
  },
  {
   "cell_type": "code",
   "execution_count": 140,
   "id": "b74e3f86",
   "metadata": {},
   "outputs": [
    {
     "name": "stdout",
     "output_type": "stream",
     "text": [
      "\u001b[90m# A tibble: 688 x 6\u001b[39m\n",
      "   president word         n      tf   idf  tf_idf\n",
      "   \u001b[3m\u001b[90m<chr>\u001b[39m\u001b[23m     \u001b[3m\u001b[90m<chr>\u001b[39m\u001b[23m    \u001b[3m\u001b[90m<int>\u001b[39m\u001b[23m   \u001b[3m\u001b[90m<dbl>\u001b[39m\u001b[23m \u001b[3m\u001b[90m<dbl>\u001b[39m\u001b[23m   \u001b[3m\u001b[90m<dbl>\u001b[39m\u001b[23m\n",
      "\u001b[90m 1\u001b[39m 문재인    복지국가     8 0.006\u001b[4m0\u001b[24m\u001b[4m8\u001b[24m 1.39  0.008\u001b[4m4\u001b[24m\u001b[4m3\u001b[24m\n",
      "\u001b[90m 2\u001b[39m 문재인    여성         6 0.004\u001b[4m5\u001b[24m\u001b[4m6\u001b[24m 1.39  0.006\u001b[4m3\u001b[24m\u001b[4m3\u001b[24m\n",
      "\u001b[90m 3\u001b[39m 문재인    공평         5 0.003\u001b[4m8\u001b[24m\u001b[4m0\u001b[24m 1.39  0.005\u001b[4m2\u001b[24m\u001b[4m7\u001b[24m\n",
      "\u001b[90m 4\u001b[39m 문재인    담쟁이       5 0.003\u001b[4m8\u001b[24m\u001b[4m0\u001b[24m 1.39  0.005\u001b[4m2\u001b[24m\u001b[4m7\u001b[24m\n",
      "\u001b[90m 5\u001b[39m 문재인    대통령의     5 0.003\u001b[4m8\u001b[24m\u001b[4m0\u001b[24m 1.39  0.005\u001b[4m2\u001b[24m\u001b[4m7\u001b[24m\n",
      "\u001b[90m 6\u001b[39m 문재인    보통         5 0.003\u001b[4m8\u001b[24m\u001b[4m0\u001b[24m 1.39  0.005\u001b[4m2\u001b[24m\u001b[4m7\u001b[24m\n",
      "\u001b[90m 7\u001b[39m 문재인    상생         5 0.003\u001b[4m8\u001b[24m\u001b[4m0\u001b[24m 1.39  0.005\u001b[4m2\u001b[24m\u001b[4m7\u001b[24m\n",
      "\u001b[90m 8\u001b[39m 문재인    우리나라    10 0.007\u001b[4m6\u001b[24m\u001b[4m0\u001b[24m 0.693 0.005\u001b[4m2\u001b[24m\u001b[4m7\u001b[24m\n",
      "\u001b[90m 9\u001b[39m 문재인    지방         5 0.003\u001b[4m8\u001b[24m\u001b[4m0\u001b[24m 1.39  0.005\u001b[4m2\u001b[24m\u001b[4m7\u001b[24m\n",
      "\u001b[90m10\u001b[39m 문재인    확대        10 0.007\u001b[4m6\u001b[24m\u001b[4m0\u001b[24m 0.693 0.005\u001b[4m2\u001b[24m\u001b[4m7\u001b[24m\n",
      "\u001b[90m# ... with 678 more rows\u001b[39m\n",
      "\u001b[90m# A tibble: 407 x 6\u001b[39m\n",
      "   president word         n      tf   idf  tf_idf\n",
      "   \u001b[3m\u001b[90m<chr>\u001b[39m\u001b[23m     \u001b[3m\u001b[90m<chr>\u001b[39m\u001b[23m    \u001b[3m\u001b[90m<int>\u001b[39m\u001b[23m   \u001b[3m\u001b[90m<dbl>\u001b[39m\u001b[23m \u001b[3m\u001b[90m<dbl>\u001b[39m\u001b[23m   \u001b[3m\u001b[90m<dbl>\u001b[39m\u001b[23m\n",
      "\u001b[90m 1\u001b[39m 박근혜    박근혜       8 0.009\u001b[4m6\u001b[24m\u001b[4m2\u001b[24m 1.39  0.013\u001b[4m3\u001b[24m \n",
      "\u001b[90m 2\u001b[39m 박근혜    정보         5 0.006\u001b[4m0\u001b[24m\u001b[4m1\u001b[24m 1.39  0.008\u001b[4m3\u001b[24m\u001b[4m3\u001b[24m\n",
      "\u001b[90m 3\u001b[39m 박근혜    투명         5 0.006\u001b[4m0\u001b[24m\u001b[4m1\u001b[24m 1.39  0.008\u001b[4m3\u001b[24m\u001b[4m3\u001b[24m\n",
      "\u001b[90m 4\u001b[39m 박근혜    행복        23 0.027\u001b[4m6\u001b[24m  0.288 0.007\u001b[4m9\u001b[24m\u001b[4m5\u001b[24m\n",
      "\u001b[90m 5\u001b[39m 박근혜    교육         9 0.010\u001b[4m8\u001b[24m  0.693 0.007\u001b[4m5\u001b[24m\u001b[4m0\u001b[24m\n",
      "\u001b[90m 6\u001b[39m 박근혜    국정운영     4 0.004\u001b[4m8\u001b[24m\u001b[4m1\u001b[24m 1.39  0.006\u001b[4m6\u001b[24m\u001b[4m6\u001b[24m\n",
      "\u001b[90m 7\u001b[39m 박근혜    정부        17 0.020\u001b[4m4\u001b[24m  0.288 0.005\u001b[4m8\u001b[24m\u001b[4m8\u001b[24m\n",
      "\u001b[90m 8\u001b[39m 박근혜    개개인       3 0.003\u001b[4m6\u001b[24m\u001b[4m1\u001b[24m 1.39  0.005\u001b[4m0\u001b[24m\u001b[4m0\u001b[24m\n",
      "\u001b[90m 9\u001b[39m 박근혜    개인         3 0.003\u001b[4m6\u001b[24m\u001b[4m1\u001b[24m 1.39  0.005\u001b[4m0\u001b[24m\u001b[4m0\u001b[24m\n",
      "\u001b[90m10\u001b[39m 박근혜    공개         3 0.003\u001b[4m6\u001b[24m\u001b[4m1\u001b[24m 1.39  0.005\u001b[4m0\u001b[24m\u001b[4m0\u001b[24m\n",
      "\u001b[90m# ... with 397 more rows\u001b[39m\n",
      "\u001b[90m# A tibble: 202 x 6\u001b[39m\n",
      "   president word         n      tf   idf  tf_idf\n",
      "   \u001b[3m\u001b[90m<chr>\u001b[39m\u001b[23m     \u001b[3m\u001b[90m<chr>\u001b[39m\u001b[23m    \u001b[3m\u001b[90m<int>\u001b[39m\u001b[23m   \u001b[3m\u001b[90m<dbl>\u001b[39m\u001b[23m \u001b[3m\u001b[90m<dbl>\u001b[39m\u001b[23m   \u001b[3m\u001b[90m<dbl>\u001b[39m\u001b[23m\n",
      "\u001b[90m 1\u001b[39m 이명박    리더십       6 0.015\u001b[4m8\u001b[24m  1.39  0.021\u001b[4m9\u001b[24m \n",
      "\u001b[90m 2\u001b[39m 이명박    당원         4 0.010\u001b[4m5\u001b[24m  1.39  0.014\u001b[4m6\u001b[24m \n",
      "\u001b[90m 3\u001b[39m 이명박    동지         4 0.010\u001b[4m5\u001b[24m  1.39  0.014\u001b[4m6\u001b[24m \n",
      "\u001b[90m 4\u001b[39m 이명박    일류국가     4 0.010\u001b[4m5\u001b[24m  1.39  0.014\u001b[4m6\u001b[24m \n",
      "\u001b[90m 5\u001b[39m 이명박    한나라       7 0.018\u001b[4m4\u001b[24m  0.693 0.012\u001b[4m8\u001b[24m \n",
      "\u001b[90m 6\u001b[39m 이명박    나라        15 0.039\u001b[4m5\u001b[24m  0.288 0.011\u001b[4m4\u001b[24m \n",
      "\u001b[90m 7\u001b[39m 이명박    도약         3 0.007\u001b[4m8\u001b[24m\u001b[4m9\u001b[24m 1.39  0.010\u001b[4m9\u001b[24m \n",
      "\u001b[90m 8\u001b[39m 이명박    일하         3 0.007\u001b[4m8\u001b[24m\u001b[4m9\u001b[24m 1.39  0.010\u001b[4m9\u001b[24m \n",
      "\u001b[90m 9\u001b[39m 이명박    사랑         5 0.013\u001b[4m2\u001b[24m  0.693 0.009\u001b[4m1\u001b[24m\u001b[4m2\u001b[24m\n",
      "\u001b[90m10\u001b[39m 이명박    인생         5 0.013\u001b[4m2\u001b[24m  0.693 0.009\u001b[4m1\u001b[24m\u001b[4m2\u001b[24m\n",
      "\u001b[90m# ... with 192 more rows\u001b[39m\n",
      "\u001b[90m# A tibble: 216 x 6\u001b[39m\n",
      "   president word         n      tf   idf  tf_idf\n",
      "   \u001b[3m\u001b[90m<chr>\u001b[39m\u001b[23m     \u001b[3m\u001b[90m<chr>\u001b[39m\u001b[23m    \u001b[3m\u001b[90m<int>\u001b[39m\u001b[23m   \u001b[3m\u001b[90m<dbl>\u001b[39m\u001b[23m \u001b[3m\u001b[90m<dbl>\u001b[39m\u001b[23m   \u001b[3m\u001b[90m<dbl>\u001b[39m\u001b[23m\n",
      "\u001b[90m 1\u001b[39m 노무현    공식         6 0.016\u001b[4m3\u001b[24m  1.39  0.022\u001b[4m7\u001b[24m \n",
      "\u001b[90m 2\u001b[39m 노무현    비젼         6 0.016\u001b[4m3\u001b[24m  1.39  0.022\u001b[4m7\u001b[24m \n",
      "\u001b[90m 3\u001b[39m 노무현    정계         6 0.016\u001b[4m3\u001b[24m  1.39  0.022\u001b[4m7\u001b[24m \n",
      "\u001b[90m 4\u001b[39m 노무현    권력         9 0.024\u001b[4m5\u001b[24m  0.693 0.017\u001b[4m0\u001b[24m \n",
      "\u001b[90m 5\u001b[39m 노무현    개편         4 0.010\u001b[4m9\u001b[24m  1.39  0.015\u001b[4m1\u001b[24m \n",
      "\u001b[90m 6\u001b[39m 노무현    국회의원     3 0.008\u001b[4m1\u001b[24m\u001b[4m7\u001b[24m 1.39  0.011\u001b[4m3\u001b[24m \n",
      "\u001b[90m 7\u001b[39m 노무현    남북대화     3 0.008\u001b[4m1\u001b[24m\u001b[4m7\u001b[24m 1.39  0.011\u001b[4m3\u001b[24m \n",
      "\u001b[90m 8\u001b[39m 노무현    총리         3 0.008\u001b[4m1\u001b[24m\u001b[4m7\u001b[24m 1.39  0.011\u001b[4m3\u001b[24m \n",
      "\u001b[90m 9\u001b[39m 노무현    가훈         2 0.005\u001b[4m4\u001b[24m\u001b[4m5\u001b[24m 1.39  0.007\u001b[4m5\u001b[24m\u001b[4m5\u001b[24m\n",
      "\u001b[90m10\u001b[39m 노무현    개혁         4 0.010\u001b[4m9\u001b[24m  0.693 0.007\u001b[4m5\u001b[24m\u001b[4m5\u001b[24m\n",
      "\u001b[90m# ... with 206 more rows\u001b[39m\n"
     ]
    }
   ],
   "source": [
    "frequency %>% filter(president == \"문재인\") %>% print\n",
    "frequency %>% filter(president == \"박근혜\") %>% print\n",
    "frequency %>% filter(president == \"이명박\") %>% print\n",
    "frequency %>% filter(president == \"노무현\") %>% print"
   ]
  },
  {
   "cell_type": "markdown",
   "id": "09a7a803",
   "metadata": {},
   "source": [
    "### 그래프"
   ]
  },
  {
   "cell_type": "code",
   "execution_count": 155,
   "id": "a9a122d4",
   "metadata": {},
   "outputs": [],
   "source": [
    "top10 <- frequency %>%\n",
    "    group_by(president) %>%\n",
    "    slice_max(tf_idf, n = 10, with_ties = F)\n",
    "\n",
    "top10$president <- factor(top10$president,\n",
    "                          levels = c(\"문재인\", \"박근혜\", \"이명박\", \"노무현\"))"
   ]
  },
  {
   "cell_type": "code",
   "execution_count": 156,
   "id": "f0b67dc5",
   "metadata": {
    "scrolled": true
   },
   "outputs": [
    {
     "data": {
      "image/png": "[encoded data removed]",
      "text/plain": [
       "plot without title"
      ]
     },
     "metadata": {
      "image/png": {
       "height": 420,
       "width": 420
      }
     },
     "output_type": "display_data"
    }
   ],
   "source": [
    "ggplot(top10, aes(reorder_within(word, tf_idf, president),\n",
    "                 tf_idf,\n",
    "                 fill = president)) + \n",
    "    geom_col(show.legend = F) + \n",
    "    coord_flip() + \n",
    "    facet_wrap(~ president, scales = \"free\", ncol = 2) +\n",
    "    scale_x_reordered() + \n",
    "    theme(text = element_text(family = \"blackhansans\"),\n",
    "         axis.title.y = element_blank())"
   ]
  },
  {
   "cell_type": "markdown",
   "id": "23059bf9",
   "metadata": {},
   "source": [
    "### 가중치 로그 오즈\n",
    "library(tidylo)\n",
    "\n",
    "https://github.com/juliasilge/tidylo"
   ]
  },
  {
   "cell_type": "markdown",
   "id": "7abc01c0",
   "metadata": {},
   "source": [
    "### Q1.1"
   ]
  },
  {
   "cell_type": "code",
   "execution_count": 168,
   "id": "f1ab1e03",
   "metadata": {},
   "outputs": [
    {
     "name": "stderr",
     "output_type": "stream",
     "text": [
      "\u001b[1mRows: \u001b[22m\u001b[34m4\u001b[39m \u001b[1mColumns: \u001b[22m\u001b[34m2\u001b[39m\n",
      "\u001b[36m--\u001b[39m \u001b[1mColumn specification\u001b[22m \u001b[36m------------------------------------------------------------------------------------------------\u001b[39m\n",
      "\u001b[1mDelimiter:\u001b[22m \",\"\n",
      "\u001b[31mchr\u001b[39m (2): president, value\n",
      "\n",
      "\u001b[36mi\u001b[39m Use `spec()` to retrieve the full column specification for this data.\n",
      "\u001b[36mi\u001b[39m Specify the column types or set `show_col_types = FALSE` to quiet this message.\n"
     ]
    },
    {
     "name": "stdout",
     "output_type": "stream",
     "text": [
      "\u001b[90m# A tibble: 2 x 2\u001b[39m\n",
      "  president value                                                              \n",
      "  \u001b[3m\u001b[90m<chr>\u001b[39m\u001b[23m     \u001b[3m\u001b[90m<chr>\u001b[39m\u001b[23m                                                              \n",
      "\u001b[90m1\u001b[39m 이명박    \u001b[90m\"\u001b[39m존경하는 국민 여러분, 사랑하는 한나라당 당원 동지 여러분! 저는 오~\n",
      "\u001b[90m2\u001b[39m 노무현    \u001b[90m\"\u001b[39m어느때인가 부터 제가 대통령이 되겠다고 말을 하기 시작했습니다. 많~\n"
     ]
    }
   ],
   "source": [
    "raw_speeches <- read_csv(\"speeches_presidents.csv\")\n",
    "raw_speeches <- raw_speeches %>% filter(president %in% c(\"이명박\", \"노무현\"))\n",
    "raw_speeches %>% print"
   ]
  },
  {
   "cell_type": "code",
   "execution_count": 172,
   "id": "b2dd3256",
   "metadata": {},
   "outputs": [
    {
     "name": "stdout",
     "output_type": "stream",
     "text": [
      "\u001b[90m# A tibble: 1,002 x 2\u001b[39m\n",
      "   president word  \n",
      "   \u001b[3m\u001b[90m<chr>\u001b[39m\u001b[23m     \u001b[3m\u001b[90m<chr>\u001b[39m\u001b[23m \n",
      "\u001b[90m 1\u001b[39m 이명박    존경  \n",
      "\u001b[90m 2\u001b[39m 이명박    하    \n",
      "\u001b[90m 3\u001b[39m 이명박    국민  \n",
      "\u001b[90m 4\u001b[39m 이명박    여러분\n",
      "\u001b[90m 5\u001b[39m 이명박    사랑  \n",
      "\u001b[90m 6\u001b[39m 이명박    하    \n",
      "\u001b[90m 7\u001b[39m 이명박    한나라\n",
      "\u001b[90m 8\u001b[39m 이명박    당    \n",
      "\u001b[90m 9\u001b[39m 이명박    당원  \n",
      "\u001b[90m10\u001b[39m 이명박    동지  \n",
      "\u001b[90m# ... with 992 more rows\u001b[39m\n"
     ]
    }
   ],
   "source": [
    "speeches <- raw_speeches %>%\n",
    "    mutate(value = str_replace_all(value, \"[^가-힣]\", \" \"),\n",
    "          value = str_squish(value))\n",
    "\n",
    "speeches <- speeches %>%\n",
    "    unnest_tokens(input = value,\n",
    "                 output = word,\n",
    "                 token = extractNoun)\n",
    "\n",
    "speeches %>% print"
   ]
  },
  {
   "cell_type": "markdown",
   "id": "aa2e5ff1",
   "metadata": {},
   "source": [
    "### Q1.2"
   ]
  },
  {
   "cell_type": "code",
   "execution_count": 175,
   "id": "f713a3cf",
   "metadata": {},
   "outputs": [],
   "source": [
    "frequency <- speeches %>%\n",
    "    count(president, word) %>%\n",
    "    filter(str_count(word) > 1)"
   ]
  },
  {
   "cell_type": "code",
   "execution_count": 176,
   "id": "8c8c737b",
   "metadata": {},
   "outputs": [
    {
     "name": "stdout",
     "output_type": "stream",
     "text": [
      "\u001b[90m# A tibble: 382 x 3\u001b[39m\n",
      "   word  노무현 이명박\n",
      "   \u001b[3m\u001b[90m<chr>\u001b[39m\u001b[23m  \u001b[3m\u001b[90m<int>\u001b[39m\u001b[23m  \u001b[3m\u001b[90m<int>\u001b[39m\u001b[23m\n",
      "\u001b[90m 1\u001b[39m 가슴       2      0\n",
      "\u001b[90m 2\u001b[39m 가훈       2      0\n",
      "\u001b[90m 3\u001b[39m 갈등       1      0\n",
      "\u001b[90m 4\u001b[39m 감옥       1      0\n",
      "\u001b[90m 5\u001b[39m 강자       1      0\n",
      "\u001b[90m 6\u001b[39m 개편       4      0\n",
      "\u001b[90m 7\u001b[39m 개혁       4      0\n",
      "\u001b[90m 8\u001b[39m 건국       1      0\n",
      "\u001b[90m 9\u001b[39m 경선       1      0\n",
      "\u001b[90m10\u001b[39m 경쟁       1      3\n",
      "\u001b[90m# ... with 372 more rows\u001b[39m\n"
     ]
    }
   ],
   "source": [
    "df_wide <- frequency %>%\n",
    "    pivot_wider(names_from = president,\n",
    "               values_from = n,\n",
    "               values_fill = c(0))\n",
    "\n",
    "df_wide %>% print"
   ]
  },
  {
   "cell_type": "markdown",
   "id": "265eaa81",
   "metadata": {},
   "source": [
    "### Q1.3"
   ]
  },
  {
   "cell_type": "code",
   "execution_count": 183,
   "id": "e02bd96f",
   "metadata": {},
   "outputs": [
    {
     "name": "stdout",
     "output_type": "stream",
     "text": [
      "\u001b[90m# A tibble: 382 x 7\u001b[39m\n",
      "   word  노무현 이명박 ratio_no ratio_lee odds_ratio log_odds_ratio\n",
      "   \u001b[3m\u001b[90m<chr>\u001b[39m\u001b[23m  \u001b[3m\u001b[90m<int>\u001b[39m\u001b[23m  \u001b[3m\u001b[90m<int>\u001b[39m\u001b[23m    \u001b[3m\u001b[90m<dbl>\u001b[39m\u001b[23m     \u001b[3m\u001b[90m<dbl>\u001b[39m\u001b[23m      \u001b[3m\u001b[90m<dbl>\u001b[39m\u001b[23m          \u001b[3m\u001b[90m<dbl>\u001b[39m\u001b[23m\n",
      "\u001b[90m 1\u001b[39m 권력       9      0  0.013\u001b[4m1\u001b[24m    0.001\u001b[4m3\u001b[24m\u001b[4m4\u001b[24m       9.83           2.29\n",
      "\u001b[90m 2\u001b[39m 정치       8      0  0.011\u001b[4m8\u001b[24m    0.001\u001b[4m3\u001b[24m\u001b[4m4\u001b[24m       8.85           2.18\n",
      "\u001b[90m 3\u001b[39m 공식       6      0  0.009\u001b[4m1\u001b[24m\u001b[4m9\u001b[24m   0.001\u001b[4m3\u001b[24m\u001b[4m4\u001b[24m       6.88           1.93\n",
      "\u001b[90m 4\u001b[39m 비젼       6      0  0.009\u001b[4m1\u001b[24m\u001b[4m9\u001b[24m   0.001\u001b[4m3\u001b[24m\u001b[4m4\u001b[24m       6.88           1.93\n",
      "\u001b[90m 5\u001b[39m 정계       6      0  0.009\u001b[4m1\u001b[24m\u001b[4m9\u001b[24m   0.001\u001b[4m3\u001b[24m\u001b[4m4\u001b[24m       6.88           1.93\n",
      "\u001b[90m 6\u001b[39m 개편       4      0  0.006\u001b[4m5\u001b[24m\u001b[4m6\u001b[24m   0.001\u001b[4m3\u001b[24m\u001b[4m4\u001b[24m       4.91           1.59\n",
      "\u001b[90m 7\u001b[39m 개혁       4      0  0.006\u001b[4m5\u001b[24m\u001b[4m6\u001b[24m   0.001\u001b[4m3\u001b[24m\u001b[4m4\u001b[24m       4.91           1.59\n",
      "\u001b[90m 8\u001b[39m 당당       4      0  0.006\u001b[4m5\u001b[24m\u001b[4m6\u001b[24m   0.001\u001b[4m3\u001b[24m\u001b[4m4\u001b[24m       4.91           1.59\n",
      "\u001b[90m 9\u001b[39m 정의       4      0  0.006\u001b[4m5\u001b[24m\u001b[4m6\u001b[24m   0.001\u001b[4m3\u001b[24m\u001b[4m4\u001b[24m       4.91           1.59\n",
      "\u001b[90m10\u001b[39m 지역       4      0  0.006\u001b[4m5\u001b[24m\u001b[4m6\u001b[24m   0.001\u001b[4m3\u001b[24m\u001b[4m4\u001b[24m       4.91           1.59\n",
      "\u001b[90m# ... with 372 more rows\u001b[39m\n"
     ]
    }
   ],
   "source": [
    "frequency_wide <- df_wide %>%\n",
    "  mutate(ratio_no = ((노무현 + 1) / (sum(이명박 + 1))),  \n",
    "         ratio_lee = ((이명박 + 1) / (sum(노무현 + 1))),  \n",
    "         odds_ratio = (ratio_no / ratio_lee),\n",
    "         log_odds_ratio = log(odds_ratio)) %>%\n",
    "    arrange(-log_odds_ratio)\n",
    "        \n",
    "frequency_wide %>% print"
   ]
  },
  {
   "cell_type": "code",
   "execution_count": 184,
   "id": "608cf69b",
   "metadata": {},
   "outputs": [
    {
     "name": "stdout",
     "output_type": "stream",
     "text": [
      "\u001b[90m# A tibble: 20 x 3\u001b[39m\n",
      "\u001b[90m# Groups:   president [2]\u001b[39m\n",
      "   word     log_odds_ratio president\n",
      "   \u001b[3m\u001b[90m<chr>\u001b[39m\u001b[23m             \u001b[3m\u001b[90m<dbl>\u001b[39m\u001b[23m \u001b[3m\u001b[90m<chr>\u001b[39m\u001b[23m    \n",
      "\u001b[90m 1\u001b[39m 권력               2.29 no       \n",
      "\u001b[90m 2\u001b[39m 정치               2.18 no       \n",
      "\u001b[90m 3\u001b[39m 공식               1.93 no       \n",
      "\u001b[90m 4\u001b[39m 비젼               1.93 no       \n",
      "\u001b[90m 5\u001b[39m 정계               1.93 no       \n",
      "\u001b[90m 6\u001b[39m 개편               1.59 no       \n",
      "\u001b[90m 7\u001b[39m 개혁               1.59 no       \n",
      "\u001b[90m 8\u001b[39m 당당               1.59 no       \n",
      "\u001b[90m 9\u001b[39m 정의               1.59 no       \n",
      "\u001b[90m10\u001b[39m 지역               1.59 no       \n",
      "\u001b[90m11\u001b[39m 당원              -\u001b[31m1\u001b[39m\u001b[31m.\u001b[39m\u001b[31m63\u001b[39m lee      \n",
      "\u001b[90m12\u001b[39m 여러분            -\u001b[31m1\u001b[39m\u001b[31m.\u001b[39m\u001b[31m81\u001b[39m lee      \n",
      "\u001b[90m13\u001b[39m 국가              -\u001b[31m1\u001b[39m\u001b[31m.\u001b[39m\u001b[31m81\u001b[39m lee      \n",
      "\u001b[90m14\u001b[39m 발전              -\u001b[31m1\u001b[39m\u001b[31m.\u001b[39m\u001b[31m81\u001b[39m lee      \n",
      "\u001b[90m15\u001b[39m 사랑              -\u001b[31m1\u001b[39m\u001b[31m.\u001b[39m\u001b[31m81\u001b[39m lee      \n",
      "\u001b[90m16\u001b[39m 인생              -\u001b[31m1\u001b[39m\u001b[31m.\u001b[39m\u001b[31m81\u001b[39m lee      \n",
      "\u001b[90m17\u001b[39m 세계              -\u001b[31m1\u001b[39m\u001b[31m.\u001b[39m\u001b[31m96\u001b[39m lee      \n",
      "\u001b[90m18\u001b[39m 리더십            -\u001b[31m1\u001b[39m\u001b[31m.\u001b[39m\u001b[31m96\u001b[39m lee      \n",
      "\u001b[90m19\u001b[39m 대한민국          -\u001b[31m2\u001b[39m\u001b[31m.\u001b[39m\u001b[31m58\u001b[39m lee      \n",
      "\u001b[90m20\u001b[39m 나라              -\u001b[31m2\u001b[39m\u001b[31m.\u001b[39m\u001b[31m79\u001b[39m lee      \n"
     ]
    }
   ],
   "source": [
    "top10 <- frequency_wide %>%\n",
    "  group_by(president = ifelse(log_odds_ratio > 0, \"no\", \"lee\")) %>%\n",
    "  slice_max(abs(log_odds_ratio), n = 10, with_ties = F)\n",
    "\n",
    "top10 %>% \n",
    "  arrange(-log_odds_ratio) %>% \n",
    "  select(word, log_odds_ratio, president) %>% print"
   ]
  },
  {
   "cell_type": "markdown",
   "id": "9ae469a1",
   "metadata": {},
   "source": [
    "### Q1.4"
   ]
  },
  {
   "cell_type": "code",
   "execution_count": 185,
   "id": "51940b0c",
   "metadata": {},
   "outputs": [
    {
     "data": {
      "image/png": "[encoded data removed]",
      "text/plain": [
       "plot without title"
      ]
     },
     "metadata": {
      "image/png": {
       "height": 420,
       "width": 420
      }
     },
     "output_type": "display_data"
    }
   ],
   "source": [
    "ggplot(top10, aes(x = fct_reorder(word, log_odds_ratio),\n",
    "                  y = log_odds_ratio,\n",
    "                  fill = president)) +\n",
    "  geom_col() +\n",
    "  coord_flip() +\n",
    "  labs(x = NULL) +\n",
    "  theme(text = element_text(family = \"blackhansans\"))"
   ]
  },
  {
   "cell_type": "markdown",
   "id": "2ff3e94a",
   "metadata": {},
   "source": [
    "### Q2.1"
   ]
  },
  {
   "cell_type": "code",
   "execution_count": 194,
   "id": "085a05f5",
   "metadata": {},
   "outputs": [
    {
     "name": "stderr",
     "output_type": "stream",
     "text": [
      "\u001b[1mRows: \u001b[22m\u001b[34m4\u001b[39m \u001b[1mColumns: \u001b[22m\u001b[34m2\u001b[39m\n",
      "\u001b[36m--\u001b[39m \u001b[1mColumn specification\u001b[22m \u001b[36m------------------------------------------------------------------------------------------------\u001b[39m\n",
      "\u001b[1mDelimiter:\u001b[22m \",\"\n",
      "\u001b[31mchr\u001b[39m (2): president, value\n",
      "\n",
      "\u001b[36mi\u001b[39m Use `spec()` to retrieve the full column specification for this data.\n",
      "\u001b[36mi\u001b[39m Specify the column types or set `show_col_types = FALSE` to quiet this message.\n"
     ]
    },
    {
     "name": "stdout",
     "output_type": "stream",
     "text": [
      "\u001b[90m# A tibble: 4 x 2\u001b[39m\n",
      "  president value                                                               \n",
      "  \u001b[3m\u001b[90m<chr>\u001b[39m\u001b[23m     \u001b[3m\u001b[90m<chr>\u001b[39m\u001b[23m                                                               \n",
      "\u001b[90m1\u001b[39m 문재인    국민께 드리는 말씀  존경하고 사랑하는 국민 여러분, 감사합니다. 국민~\n",
      "\u001b[90m2\u001b[39m 박근혜    희망의 새 시대를 열겠습니다.     존경하는 국민여러분! 700만 해외동~ \n",
      "\u001b[90m3\u001b[39m 이명박    존경하는 국민 여러분!    700만 해외동포 여러분!    이 자리에 참석하~\n",
      "\u001b[90m4\u001b[39m 노무현    존경하는 국민 여러분.  오늘 저는 대한민국의 제16대 대통령에 취임하~ \n"
     ]
    }
   ],
   "source": [
    "raw_speeches <- read_csv(\"inaugural_address.csv\")\n",
    "raw_speeches %>% print"
   ]
  },
  {
   "cell_type": "code",
   "execution_count": 197,
   "id": "d42b78ed",
   "metadata": {},
   "outputs": [
    {
     "name": "stdout",
     "output_type": "stream",
     "text": [
      "\u001b[90m# A tibble: 1,657 x 3\u001b[39m\n",
      "   president word       n\n",
      "   \u001b[3m\u001b[90m<chr>\u001b[39m\u001b[23m     \u001b[3m\u001b[90m<chr>\u001b[39m\u001b[23m  \u001b[3m\u001b[90m<int>\u001b[39m\u001b[23m\n",
      "\u001b[90m 1\u001b[39m 노무현    가난       1\n",
      "\u001b[90m 2\u001b[39m 노무현    가능       1\n",
      "\u001b[90m 3\u001b[39m 노무현    가일       1\n",
      "\u001b[90m 4\u001b[39m 노무현    가지       1\n",
      "\u001b[90m 5\u001b[39m 노무현    각국       1\n",
      "\u001b[90m 6\u001b[39m 노무현    갈등       1\n",
      "\u001b[90m 7\u001b[39m 노무현    갈림길     1\n",
      "\u001b[90m 8\u001b[39m 노무현    감사       4\n",
      "\u001b[90m 9\u001b[39m 노무현    강구       2\n",
      "\u001b[90m10\u001b[39m 노무현    강국       1\n",
      "\u001b[90m# ... with 1,647 more rows\u001b[39m\n"
     ]
    }
   ],
   "source": [
    "speeches <- raw_speeches %>%\n",
    "    mutate(value = str_replace_all(value, \"[^가-힣]\", \" \"),\n",
    "          value = str_squish(value))\n",
    "\n",
    "speeches <- speeches %>%\n",
    "    unnest_tokens(input = value,\n",
    "                 output = word,\n",
    "                 token = extractNoun)\n",
    "\n",
    "frequency <- speeches %>%\n",
    "    count(president, word) %>%\n",
    "    filter(str_count(word) > 1)\n",
    "\n",
    "frequency %>% print"
   ]
  },
  {
   "cell_type": "markdown",
   "id": "2f3d01ac",
   "metadata": {},
   "source": [
    "### Q2.2"
   ]
  },
  {
   "cell_type": "code",
   "execution_count": 198,
   "id": "9c57e7dd",
   "metadata": {},
   "outputs": [
    {
     "name": "stdout",
     "output_type": "stream",
     "text": [
      "\u001b[90m# A tibble: 1,657 x 6\u001b[39m\n",
      "   president word         n      tf   idf  tf_idf\n",
      "   \u001b[3m\u001b[90m<chr>\u001b[39m\u001b[23m     \u001b[3m\u001b[90m<chr>\u001b[39m\u001b[23m    \u001b[3m\u001b[90m<int>\u001b[39m\u001b[23m   \u001b[3m\u001b[90m<dbl>\u001b[39m\u001b[23m \u001b[3m\u001b[90m<dbl>\u001b[39m\u001b[23m   \u001b[3m\u001b[90m<dbl>\u001b[39m\u001b[23m\n",
      "\u001b[90m 1\u001b[39m 박근혜    행복        21 0.027\u001b[4m9\u001b[24m  0.693 0.019\u001b[4m3\u001b[24m \n",
      "\u001b[90m 2\u001b[39m 노무현    동북아      18 0.023\u001b[4m1\u001b[24m  0.693 0.016\u001b[4m0\u001b[24m \n",
      "\u001b[90m 3\u001b[39m 박근혜    창조경제     8 0.010\u001b[4m6\u001b[24m  1.39  0.014\u001b[4m7\u001b[24m \n",
      "\u001b[90m 4\u001b[39m 노무현    번영         6 0.007\u001b[4m7\u001b[24m\u001b[4m0\u001b[24m 1.39  0.010\u001b[4m7\u001b[24m \n",
      "\u001b[90m 5\u001b[39m 문재인    머리         3 0.007\u001b[4m1\u001b[24m\u001b[4m1\u001b[24m 1.39  0.009\u001b[4m8\u001b[24m\u001b[4m6\u001b[24m\n",
      "\u001b[90m 6\u001b[39m 문재인    문재인       3 0.007\u001b[4m1\u001b[24m\u001b[4m1\u001b[24m 1.39  0.009\u001b[4m8\u001b[24m\u001b[4m6\u001b[24m\n",
      "\u001b[90m 7\u001b[39m 이명박    선진화       8 0.006\u001b[4m6\u001b[24m\u001b[4m8\u001b[24m 1.39  0.009\u001b[4m2\u001b[24m\u001b[4m7\u001b[24m\n",
      "\u001b[90m 8\u001b[39m 박근혜    개개인       5 0.006\u001b[4m6\u001b[24m\u001b[4m3\u001b[24m 1.39  0.009\u001b[4m1\u001b[24m\u001b[4m9\u001b[24m\n",
      "\u001b[90m 9\u001b[39m 박근혜    경제부흥     5 0.006\u001b[4m6\u001b[24m\u001b[4m3\u001b[24m 1.39  0.009\u001b[4m1\u001b[24m\u001b[4m9\u001b[24m\n",
      "\u001b[90m10\u001b[39m 박근혜    희망        10 0.013\u001b[4m3\u001b[24m  0.693 0.009\u001b[4m1\u001b[24m\u001b[4m9\u001b[24m\n",
      "\u001b[90m# ... with 1,647 more rows\u001b[39m\n"
     ]
    }
   ],
   "source": [
    "frequency <- frequency %>%\n",
    "    bind_tf_idf(term = word,\n",
    "               document = president,\n",
    "               n = n) %>%\n",
    "    arrange(-tf_idf)\n",
    "\n",
    "frequency %>% print"
   ]
  },
  {
   "cell_type": "code",
   "execution_count": 199,
   "id": "9665498e",
   "metadata": {},
   "outputs": [
    {
     "name": "stdout",
     "output_type": "stream",
     "text": [
      "\u001b[90m# A tibble: 243 x 6\u001b[39m\n",
      "   president word         n      tf   idf  tf_idf\n",
      "   \u001b[3m\u001b[90m<chr>\u001b[39m\u001b[23m     \u001b[3m\u001b[90m<chr>\u001b[39m\u001b[23m    \u001b[3m\u001b[90m<int>\u001b[39m\u001b[23m   \u001b[3m\u001b[90m<dbl>\u001b[39m\u001b[23m \u001b[3m\u001b[90m<dbl>\u001b[39m\u001b[23m   \u001b[3m\u001b[90m<dbl>\u001b[39m\u001b[23m\n",
      "\u001b[90m 1\u001b[39m 문재인    머리         3 0.007\u001b[4m1\u001b[24m\u001b[4m1\u001b[24m 1.39  0.009\u001b[4m8\u001b[24m\u001b[4m6\u001b[24m\n",
      "\u001b[90m 2\u001b[39m 문재인    문재인       3 0.007\u001b[4m1\u001b[24m\u001b[4m1\u001b[24m 1.39  0.009\u001b[4m8\u001b[24m\u001b[4m6\u001b[24m\n",
      "\u001b[90m 3\u001b[39m 문재인    대통령의     5 0.011\u001b[4m8\u001b[24m  0.693 0.008\u001b[4m2\u001b[24m\u001b[4m1\u001b[24m\n",
      "\u001b[90m 4\u001b[39m 문재인    선거         5 0.011\u001b[4m8\u001b[24m  0.693 0.008\u001b[4m2\u001b[24m\u001b[4m1\u001b[24m\n",
      "\u001b[90m 5\u001b[39m 문재인    세상         5 0.011\u001b[4m8\u001b[24m  0.693 0.008\u001b[4m2\u001b[24m\u001b[4m1\u001b[24m\n",
      "\u001b[90m 6\u001b[39m 문재인    광화문       2 0.004\u001b[4m7\u001b[24m\u001b[4m4\u001b[24m 1.39  0.006\u001b[4m5\u001b[24m\u001b[4m7\u001b[24m\n",
      "\u001b[90m 7\u001b[39m 문재인    권력         2 0.004\u001b[4m7\u001b[24m\u001b[4m4\u001b[24m 1.39  0.006\u001b[4m5\u001b[24m\u001b[4m7\u001b[24m\n",
      "\u001b[90m 8\u001b[39m 문재인    권력기관     2 0.004\u001b[4m7\u001b[24m\u001b[4m4\u001b[24m 1.39  0.006\u001b[4m5\u001b[24m\u001b[4m7\u001b[24m\n",
      "\u001b[90m 9\u001b[39m 문재인    말씀         2 0.004\u001b[4m7\u001b[24m\u001b[4m4\u001b[24m 1.39  0.006\u001b[4m5\u001b[24m\u001b[4m7\u001b[24m\n",
      "\u001b[90m10\u001b[39m 문재인    빈손         2 0.004\u001b[4m7\u001b[24m\u001b[4m4\u001b[24m 1.39  0.006\u001b[4m5\u001b[24m\u001b[4m7\u001b[24m\n",
      "\u001b[90m# ... with 233 more rows\u001b[39m\n",
      "\u001b[90m# A tibble: 348 x 6\u001b[39m\n",
      "   president word         n      tf   idf  tf_idf\n",
      "   \u001b[3m\u001b[90m<chr>\u001b[39m\u001b[23m     \u001b[3m\u001b[90m<chr>\u001b[39m\u001b[23m    \u001b[3m\u001b[90m<int>\u001b[39m\u001b[23m   \u001b[3m\u001b[90m<dbl>\u001b[39m\u001b[23m \u001b[3m\u001b[90m<dbl>\u001b[39m\u001b[23m   \u001b[3m\u001b[90m<dbl>\u001b[39m\u001b[23m\n",
      "\u001b[90m 1\u001b[39m 박근혜    행복        21 0.027\u001b[4m9\u001b[24m  0.693 0.019\u001b[4m3\u001b[24m \n",
      "\u001b[90m 2\u001b[39m 박근혜    창조경제     8 0.010\u001b[4m6\u001b[24m  1.39  0.014\u001b[4m7\u001b[24m \n",
      "\u001b[90m 3\u001b[39m 박근혜    개개인       5 0.006\u001b[4m6\u001b[24m\u001b[4m3\u001b[24m 1.39  0.009\u001b[4m1\u001b[24m\u001b[4m9\u001b[24m\n",
      "\u001b[90m 4\u001b[39m 박근혜    경제부흥     5 0.006\u001b[4m6\u001b[24m\u001b[4m3\u001b[24m 1.39  0.009\u001b[4m1\u001b[24m\u001b[4m9\u001b[24m\n",
      "\u001b[90m 5\u001b[39m 박근혜    희망        10 0.013\u001b[4m3\u001b[24m  0.693 0.009\u001b[4m1\u001b[24m\u001b[4m9\u001b[24m\n",
      "\u001b[90m 6\u001b[39m 박근혜    융성         4 0.005\u001b[4m3\u001b[24m\u001b[4m1\u001b[24m 1.39  0.007\u001b[4m3\u001b[24m\u001b[4m5\u001b[24m\n",
      "\u001b[90m 7\u001b[39m 박근혜    융합         4 0.005\u001b[4m3\u001b[24m\u001b[4m1\u001b[24m 1.39  0.007\u001b[4m3\u001b[24m\u001b[4m5\u001b[24m\n",
      "\u001b[90m 8\u001b[39m 박근혜    국력         3 0.003\u001b[4m9\u001b[24m\u001b[4m8\u001b[24m 1.39  0.005\u001b[4m5\u001b[24m\u001b[4m2\u001b[24m\n",
      "\u001b[90m 9\u001b[39m 박근혜    패러다임     3 0.003\u001b[4m9\u001b[24m\u001b[4m8\u001b[24m 1.39  0.005\u001b[4m5\u001b[24m\u001b[4m2\u001b[24m\n",
      "\u001b[90m10\u001b[39m 박근혜    가치         5 0.006\u001b[4m6\u001b[24m\u001b[4m3\u001b[24m 0.693 0.004\u001b[4m6\u001b[24m\u001b[4m0\u001b[24m\n",
      "\u001b[90m# ... with 338 more rows\u001b[39m\n",
      "\u001b[90m# A tibble: 638 x 6\u001b[39m\n",
      "   president word       n      tf   idf  tf_idf\n",
      "   \u001b[3m\u001b[90m<chr>\u001b[39m\u001b[23m     \u001b[3m\u001b[90m<chr>\u001b[39m\u001b[23m  \u001b[3m\u001b[90m<int>\u001b[39m\u001b[23m   \u001b[3m\u001b[90m<dbl>\u001b[39m\u001b[23m \u001b[3m\u001b[90m<dbl>\u001b[39m\u001b[23m   \u001b[3m\u001b[90m<dbl>\u001b[39m\u001b[23m\n",
      "\u001b[90m 1\u001b[39m 이명박    선진화     8 0.006\u001b[4m6\u001b[24m\u001b[4m8\u001b[24m 1.39  0.009\u001b[4m2\u001b[24m\u001b[4m7\u001b[24m\n",
      "\u001b[90m 2\u001b[39m 이명박    변화       6 0.005\u001b[4m0\u001b[24m\u001b[4m1\u001b[24m 1.39  0.006\u001b[4m9\u001b[24m\u001b[4m5\u001b[24m\n",
      "\u001b[90m 3\u001b[39m 이명박    실용       5 0.004\u001b[4m1\u001b[24m\u001b[4m8\u001b[24m 1.39  0.005\u001b[4m7\u001b[24m\u001b[4m9\u001b[24m\n",
      "\u001b[90m 4\u001b[39m 이명박    안정       5 0.004\u001b[4m1\u001b[24m\u001b[4m8\u001b[24m 1.39  0.005\u001b[4m7\u001b[24m\u001b[4m9\u001b[24m\n",
      "\u001b[90m 5\u001b[39m 이명박    이야기     5 0.004\u001b[4m1\u001b[24m\u001b[4m8\u001b[24m 1.39  0.005\u001b[4m7\u001b[24m\u001b[4m9\u001b[24m\n",
      "\u001b[90m 6\u001b[39m 이명박    투쟁       5 0.004\u001b[4m1\u001b[24m\u001b[4m8\u001b[24m 1.39  0.005\u001b[4m7\u001b[24m\u001b[4m9\u001b[24m\n",
      "\u001b[90m 7\u001b[39m 이명박    기업       9 0.007\u001b[4m5\u001b[24m\u001b[4m2\u001b[24m 0.693 0.005\u001b[4m2\u001b[24m\u001b[4m1\u001b[24m\n",
      "\u001b[90m 8\u001b[39m 이명박    사회      20 0.016\u001b[4m7\u001b[24m  0.288 0.004\u001b[4m8\u001b[24m\u001b[4m1\u001b[24m\n",
      "\u001b[90m 9\u001b[39m 이명박    개방       4 0.003\u001b[4m3\u001b[24m\u001b[4m4\u001b[24m 1.39  0.004\u001b[4m6\u001b[24m\u001b[4m3\u001b[24m\n",
      "\u001b[90m10\u001b[39m 이명박    선진       4 0.003\u001b[4m3\u001b[24m\u001b[4m4\u001b[24m 1.39  0.004\u001b[4m6\u001b[24m\u001b[4m3\u001b[24m\n",
      "\u001b[90m# ... with 628 more rows\u001b[39m\n",
      "\u001b[90m# A tibble: 428 x 6\u001b[39m\n",
      "   president word         n      tf   idf  tf_idf\n",
      "   \u001b[3m\u001b[90m<chr>\u001b[39m\u001b[23m     \u001b[3m\u001b[90m<chr>\u001b[39m\u001b[23m    \u001b[3m\u001b[90m<int>\u001b[39m\u001b[23m   \u001b[3m\u001b[90m<dbl>\u001b[39m\u001b[23m \u001b[3m\u001b[90m<dbl>\u001b[39m\u001b[23m   \u001b[3m\u001b[90m<dbl>\u001b[39m\u001b[23m\n",
      "\u001b[90m 1\u001b[39m 노무현    동북아      18 0.023\u001b[4m1\u001b[24m  0.693 0.016\u001b[4m0\u001b[24m \n",
      "\u001b[90m 2\u001b[39m 노무현    번영         6 0.007\u001b[4m7\u001b[24m\u001b[4m0\u001b[24m 1.39  0.010\u001b[4m7\u001b[24m \n",
      "\u001b[90m 3\u001b[39m 노무현    도약         3 0.003\u001b[4m8\u001b[24m\u001b[4m5\u001b[24m 1.39  0.005\u001b[4m3\u001b[24m\u001b[4m4\u001b[24m\n",
      "\u001b[90m 4\u001b[39m 노무현    유럽연합     3 0.003\u001b[4m8\u001b[24m\u001b[4m5\u001b[24m 1.39  0.005\u001b[4m3\u001b[24m\u001b[4m4\u001b[24m\n",
      "\u001b[90m 5\u001b[39m 노무현    중앙         3 0.003\u001b[4m8\u001b[24m\u001b[4m5\u001b[24m 1.39  0.005\u001b[4m3\u001b[24m\u001b[4m4\u001b[24m\n",
      "\u001b[90m 6\u001b[39m 노무현    타협         3 0.003\u001b[4m8\u001b[24m\u001b[4m5\u001b[24m 1.39  0.005\u001b[4m3\u001b[24m\u001b[4m4\u001b[24m\n",
      "\u001b[90m 7\u001b[39m 노무현    세계        13 0.016\u001b[4m7\u001b[24m  0.288 0.004\u001b[4m8\u001b[24m\u001b[4m0\u001b[24m\n",
      "\u001b[90m 8\u001b[39m 노무현    극복         5 0.006\u001b[4m4\u001b[24m\u001b[4m2\u001b[24m 0.693 0.004\u001b[4m4\u001b[24m\u001b[4m5\u001b[24m\n",
      "\u001b[90m 9\u001b[39m 노무현    사회        12 0.015\u001b[4m4\u001b[24m  0.288 0.004\u001b[4m4\u001b[24m\u001b[4m3\u001b[24m\n",
      "\u001b[90m10\u001b[39m 노무현    강구         2 0.002\u001b[4m5\u001b[24m\u001b[4m7\u001b[24m 1.39  0.003\u001b[4m5\u001b[24m\u001b[4m6\u001b[24m\n",
      "\u001b[90m# ... with 418 more rows\u001b[39m\n"
     ]
    }
   ],
   "source": [
    "frequency %>% filter(president == \"문재인\") %>% print\n",
    "frequency %>% filter(president == \"박근혜\") %>% print\n",
    "frequency %>% filter(president == \"이명박\") %>% print\n",
    "frequency %>% filter(president == \"노무현\") %>% print"
   ]
  },
  {
   "cell_type": "markdown",
   "id": "4bfa3813",
   "metadata": {},
   "source": [
    "### Q2.3"
   ]
  },
  {
   "cell_type": "code",
   "execution_count": 200,
   "id": "788d7a0b",
   "metadata": {},
   "outputs": [],
   "source": [
    "top10 <- frequency %>%\n",
    "    group_by(president) %>%\n",
    "    slice_max(tf_idf, n = 10, with_ties = F)\n",
    "\n",
    "top10$president <- factor(top10$president,\n",
    "                          levels = c(\"문재인\", \"박근혜\", \"이명박\", \"노무현\"))"
   ]
  },
  {
   "cell_type": "code",
   "execution_count": 201,
   "id": "f36707e5",
   "metadata": {},
   "outputs": [
    {
     "data": {
      "image/png": "[encoded data removed]",
      "text/plain": [
       "plot without title"
      ]
     },
     "metadata": {
      "image/png": {
       "height": 420,
       "width": 420
      }
     },
     "output_type": "display_data"
    }
   ],
   "source": [
    "ggplot(top10, aes(reorder_within(word, tf_idf, president),\n",
    "                 tf_idf,\n",
    "                 fill = president)) + \n",
    "    geom_col(show.legend = F) + \n",
    "    coord_flip() + \n",
    "    facet_wrap(~ president, scales = \"free\", ncol = 2) +\n",
    "    scale_x_reordered() + \n",
    "    theme(text = element_text(family = \"blackhansans\"),\n",
    "         axis.title.y = element_blank())"
   ]
  }
 ],
 "metadata": {
  "kernelspec": {
   "display_name": "R 4.1.3",
   "language": "R",
   "name": "ir32"
  },
  "language_info": {
   "codemirror_mode": "r",
   "file_extension": ".r",
   "mimetype": "text/x-r-source",
   "name": "R",
   "pygments_lexer": "r",
   "version": "4.1.3"
  }
 },
 "nbformat": 4,
 "nbformat_minor": 5
}
