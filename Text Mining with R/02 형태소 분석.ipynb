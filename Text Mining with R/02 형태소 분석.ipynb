{
 "cells": [
  {
   "cell_type": "code",
   "execution_count": 1,
   "id": "3883435a",
   "metadata": {},
   "outputs": [
    {
     "name": "stderr",
     "output_type": "stream",
     "text": [
      "-- \u001b[1mAttaching packages\u001b[22m ------------------------------------------------------------------------------- tidyverse 1.3.1 --\n",
      "\n",
      "\u001b[32mv\u001b[39m \u001b[34mggplot2\u001b[39m 3.3.5.\u001b[31m9000\u001b[39m     \u001b[32mv\u001b[39m \u001b[34mpurrr  \u001b[39m 0.3.4     \n",
      "\u001b[32mv\u001b[39m \u001b[34mtibble \u001b[39m 3.1.6          \u001b[32mv\u001b[39m \u001b[34mdplyr  \u001b[39m 1.0.8     \n",
      "\u001b[32mv\u001b[39m \u001b[34mtidyr  \u001b[39m 1.2.0          \u001b[32mv\u001b[39m \u001b[34mstringr\u001b[39m 1.4.0     \n",
      "\u001b[32mv\u001b[39m \u001b[34mreadr  \u001b[39m 2.1.2          \u001b[32mv\u001b[39m \u001b[34mforcats\u001b[39m 0.5.1     \n",
      "\n",
      "-- \u001b[1mConflicts\u001b[22m ---------------------------------------------------------------------------------- tidyverse_conflicts() --\n",
      "\u001b[31mx\u001b[39m \u001b[34mdplyr\u001b[39m::\u001b[32mfilter()\u001b[39m masks \u001b[34mstats\u001b[39m::filter()\n",
      "\u001b[31mx\u001b[39m \u001b[34mdplyr\u001b[39m::\u001b[32mlag()\u001b[39m    masks \u001b[34mstats\u001b[39m::lag()\n",
      "\n",
      "Loading required package: sysfonts\n",
      "\n",
      "Loading required package: showtextdb\n",
      "\n"
     ]
    }
   ],
   "source": [
    "library(tidyverse)\n",
    "ggplot2::theme_set(theme_bw())\n",
    "\n",
    "library(showtext)\n",
    "font_add(\"nanum\", \"NanumGothic.ttf\")\n",
    "showtext_auto()\n",
    "\n",
    "setwd(\"C:/Soongsil/R/Textmining\")"
   ]
  },
  {
   "cell_type": "markdown",
   "id": "f083bf12",
   "metadata": {},
   "source": [
    "### 02-01 형태소 분석"
   ]
  },
  {
   "cell_type": "code",
   "execution_count": 2,
   "id": "2752be9e",
   "metadata": {},
   "outputs": [
    {
     "name": "stderr",
     "output_type": "stream",
     "text": [
      "Checking user defined dictionary!\n",
      "\n",
      "\n"
     ]
    }
   ],
   "source": [
    "library(KoNLP)"
   ]
  },
  {
   "cell_type": "markdown",
   "id": "f8711cea",
   "metadata": {},
   "source": [
    "### 형태소 사전 설정"
   ]
  },
  {
   "cell_type": "code",
   "execution_count": 3,
   "id": "11c9844c",
   "metadata": {},
   "outputs": [
    {
     "name": "stdout",
     "output_type": "stream",
     "text": [
      "Backup was just finished!\n",
      "1213109 words dictionary was built.\n"
     ]
    }
   ],
   "source": [
    "useNIADic()"
   ]
  },
  {
   "cell_type": "markdown",
   "id": "15eea58c",
   "metadata": {},
   "source": [
    "### ```extractNoun()``` : 명사 추출\n",
    "- list 형태로 출력"
   ]
  },
  {
   "cell_type": "code",
   "execution_count": 4,
   "id": "3ce8294c",
   "metadata": {},
   "outputs": [
    {
     "data": {
      "text/html": [
       "<table class=\"dataframe\">\n",
       "<caption>A tibble: 2 × 1</caption>\n",
       "<thead>\n",
       "\t<tr><th scope=col>value</th></tr>\n",
       "\t<tr><th scope=col>&lt;chr&gt;</th></tr>\n",
       "</thead>\n",
       "<tbody>\n",
       "\t<tr><td>대한민국은 민주공화국이다.                                       </td></tr>\n",
       "\t<tr><td>대한민국의 주권은 국민에게 잇고, 모든 권력은 국민으로부터 나온다.</td></tr>\n",
       "</tbody>\n",
       "</table>\n"
      ],
      "text/latex": [
       "A tibble: 2 × 1\n",
       "\\begin{tabular}{l}\n",
       " value\\\\\n",
       " <chr>\\\\\n",
       "\\hline\n",
       "\t 대한민국은 민주공화국이다.                                       \\\\\n",
       "\t 대한민국의 주권은 국민에게 잇고, 모든 권력은 국민으로부터 나온다.\\\\\n",
       "\\end{tabular}\n"
      ],
      "text/markdown": [
       "\n",
       "A tibble: 2 × 1\n",
       "\n",
       "| value &lt;chr&gt; |\n",
       "|---|\n",
       "| 대한민국은 민주공화국이다.                                        |\n",
       "| 대한민국의 주권은 국민에게 잇고, 모든 권력은 국민으로부터 나온다. |\n",
       "\n"
      ],
      "text/plain": [
       "  value                                                            \n",
       "1 대한민국은 민주공화국이다.                                       \n",
       "2 대한민국의 주권은 국민에게 잇고, 모든 권력은 국민으로부터 나온다."
      ]
     },
     "metadata": {},
     "output_type": "display_data"
    }
   ],
   "source": [
    "text <- tibble(\n",
    "    value = c(\"대한민국은 민주공화국이다.\",\n",
    "             \"대한민국의 주권은 국민에게 잇고, 모든 권력은 국민으로부터 나온다.\")\n",
    ")\n",
    "text"
   ]
  },
  {
   "cell_type": "code",
   "execution_count": 5,
   "id": "9cade073",
   "metadata": {},
   "outputs": [
    {
     "data": {
      "text/html": [
       "<ol>\n",
       "\t<li><style>\n",
       ".list-inline {list-style: none; margin:0; padding: 0}\n",
       ".list-inline>li {display: inline-block}\n",
       ".list-inline>li:not(:last-child)::after {content: \"\\00b7\"; padding: 0 .5ex}\n",
       "</style>\n",
       "<ol class=list-inline><li>'대한민국'</li><li>'민주공화국'</li></ol>\n",
       "</li>\n",
       "\t<li><style>\n",
       ".list-inline {list-style: none; margin:0; padding: 0}\n",
       ".list-inline>li {display: inline-block}\n",
       ".list-inline>li:not(:last-child)::after {content: \"\\00b7\"; padding: 0 .5ex}\n",
       "</style>\n",
       "<ol class=list-inline><li>'대한민국'</li><li>'주권'</li><li>'국민'</li><li>'권력'</li><li>'국민'</li></ol>\n",
       "</li>\n",
       "</ol>\n"
      ],
      "text/latex": [
       "\\begin{enumerate}\n",
       "\\item \\begin{enumerate*}\n",
       "\\item '대한민국'\n",
       "\\item '민주공화국'\n",
       "\\end{enumerate*}\n",
       "\n",
       "\\item \\begin{enumerate*}\n",
       "\\item '대한민국'\n",
       "\\item '주권'\n",
       "\\item '국민'\n",
       "\\item '권력'\n",
       "\\item '국민'\n",
       "\\end{enumerate*}\n",
       "\n",
       "\\end{enumerate}\n"
      ],
      "text/markdown": [
       "1. 1. '대한민국'\n",
       "2. '민주공화국'\n",
       "\n",
       "\n",
       "\n",
       "2. 1. '대한민국'\n",
       "2. '주권'\n",
       "3. '국민'\n",
       "4. '권력'\n",
       "5. '국민'\n",
       "\n",
       "\n",
       "\n",
       "\n",
       "\n"
      ],
      "text/plain": [
       "[[1]]\n",
       "[1] \"대한민국\"   \"민주공화국\"\n",
       "\n",
       "[[2]]\n",
       "[1] \"대한민국\" \"주권\"     \"국민\"     \"권력\"     \"국민\"    \n"
      ]
     },
     "metadata": {},
     "output_type": "display_data"
    }
   ],
   "source": [
    "extractNoun(text$value)"
   ]
  },
  {
   "cell_type": "markdown",
   "id": "d132d3b5",
   "metadata": {},
   "source": [
    "### ```unnest_tokens()```에 ```extractNoun``` 적용 : tibble 구조로 출력"
   ]
  },
  {
   "cell_type": "code",
   "execution_count": 6,
   "id": "095076f4",
   "metadata": {},
   "outputs": [
    {
     "data": {
      "text/html": [
       "<table class=\"dataframe\">\n",
       "<caption>A tibble: 7 × 1</caption>\n",
       "<thead>\n",
       "\t<tr><th scope=col>word</th></tr>\n",
       "\t<tr><th scope=col>&lt;chr&gt;</th></tr>\n",
       "</thead>\n",
       "<tbody>\n",
       "\t<tr><td>대한민국  </td></tr>\n",
       "\t<tr><td>민주공화국</td></tr>\n",
       "\t<tr><td>대한민국  </td></tr>\n",
       "\t<tr><td>주권      </td></tr>\n",
       "\t<tr><td>국민      </td></tr>\n",
       "\t<tr><td>권력      </td></tr>\n",
       "\t<tr><td>국민      </td></tr>\n",
       "</tbody>\n",
       "</table>\n"
      ],
      "text/latex": [
       "A tibble: 7 × 1\n",
       "\\begin{tabular}{l}\n",
       " word\\\\\n",
       " <chr>\\\\\n",
       "\\hline\n",
       "\t 대한민국  \\\\\n",
       "\t 민주공화국\\\\\n",
       "\t 대한민국  \\\\\n",
       "\t 주권      \\\\\n",
       "\t 국민      \\\\\n",
       "\t 권력      \\\\\n",
       "\t 국민      \\\\\n",
       "\\end{tabular}\n"
      ],
      "text/markdown": [
       "\n",
       "A tibble: 7 × 1\n",
       "\n",
       "| word &lt;chr&gt; |\n",
       "|---|\n",
       "| 대한민국   |\n",
       "| 민주공화국 |\n",
       "| 대한민국   |\n",
       "| 주권       |\n",
       "| 국민       |\n",
       "| 권력       |\n",
       "| 국민       |\n",
       "\n"
      ],
      "text/plain": [
       "  word      \n",
       "1 대한민국  \n",
       "2 민주공화국\n",
       "3 대한민국  \n",
       "4 주권      \n",
       "5 국민      \n",
       "6 권력      \n",
       "7 국민      "
      ]
     },
     "metadata": {},
     "output_type": "display_data"
    }
   ],
   "source": [
    "library(tidytext)\n",
    "text %>% unnest_tokens(input = value,\n",
    "                      output = word,\n",
    "                      token = extractNoun)"
   ]
  },
  {
   "cell_type": "code",
   "execution_count": 8,
   "id": "ada4ff08",
   "metadata": {},
   "outputs": [],
   "source": [
    "raw_moon <- readLines(\"speech_moon.txt\", encoding = \"UTF-8\")\n",
    "\n",
    "moon <- raw_moon %>%\n",
    "  str_replace_all(\"[^가-힣]\", \" \") %>%  \n",
    "  str_squish() %>%                     \n",
    "  as_tibble()   "
   ]
  },
  {
   "cell_type": "code",
   "execution_count": 9,
   "id": "fca37378",
   "metadata": {},
   "outputs": [
    {
     "name": "stdout",
     "output_type": "stream",
     "text": [
      "\u001b[90m# A tibble: 1,757 x 1\u001b[39m\n",
      "   word      \n",
      "   \u001b[3m\u001b[90m<chr>\u001b[39m\u001b[23m     \n",
      "\u001b[90m 1\u001b[39m \u001b[90m\"\u001b[39m정권교체\u001b[90m\"\u001b[39m\n",
      "\u001b[90m 2\u001b[39m \u001b[90m\"\u001b[39m하겠습니\u001b[90m\"\u001b[39m\n",
      "\u001b[90m 3\u001b[39m \u001b[90m\"\u001b[39m정치\u001b[90m\"\u001b[39m    \n",
      "\u001b[90m 4\u001b[39m \u001b[90m\"\u001b[39m교체\u001b[90m\"\u001b[39m    \n",
      "\u001b[90m 5\u001b[39m \u001b[90m\"\u001b[39m하겠습니\u001b[90m\"\u001b[39m\n",
      "\u001b[90m 6\u001b[39m \u001b[90m\"\u001b[39m시대\u001b[90m\"\u001b[39m    \n",
      "\u001b[90m 7\u001b[39m \u001b[90m\"\u001b[39m교체\u001b[90m\"\u001b[39m    \n",
      "\u001b[90m 8\u001b[39m \u001b[90m\"\u001b[39m하겠습니\u001b[90m\"\u001b[39m\n",
      "\u001b[90m 9\u001b[39m \u001b[90m\"\u001b[39m\u001b[90m\"\u001b[39m        \n",
      "\u001b[90m10\u001b[39m \u001b[90m\"\u001b[39m불비불명\u001b[90m\"\u001b[39m\n",
      "\u001b[90m# ... with 1,747 more rows\u001b[39m\n"
     ]
    }
   ],
   "source": [
    "word_noun <- moon %>%\n",
    "  unnest_tokens(input = value,\n",
    "                output = word,\n",
    "                token = extractNoun)\n",
    "\n",
    "word_noun %>% print"
   ]
  },
  {
   "cell_type": "markdown",
   "id": "e3fad5e5",
   "metadata": {},
   "source": [
    "### 02-02 명사 빈도 분석"
   ]
  },
  {
   "cell_type": "code",
   "execution_count": 10,
   "id": "9e0961e5",
   "metadata": {},
   "outputs": [],
   "source": [
    "word_noun <- word_noun %>%\n",
    "  count(word, sort = T) %>%    \n",
    "  filter(str_count(word) > 1)\n",
    "\n",
    "top20 <- word_noun %>%\n",
    "  head(20)"
   ]
  },
  {
   "cell_type": "code",
   "execution_count": 11,
   "id": "a85b160d",
   "metadata": {
    "scrolled": true
   },
   "outputs": [
    {
     "name": "stdout",
     "output_type": "stream",
     "text": [
      "\u001b[90m# A tibble: 20 x 2\u001b[39m\n",
      "   word         n\n",
      "   \u001b[3m\u001b[90m<chr>\u001b[39m\u001b[23m    \u001b[3m\u001b[90m<int>\u001b[39m\u001b[23m\n",
      "\u001b[90m 1\u001b[39m 국민        21\n",
      "\u001b[90m 2\u001b[39m 일자리      21\n",
      "\u001b[90m 3\u001b[39m 나라        19\n",
      "\u001b[90m 4\u001b[39m 우리        17\n",
      "\u001b[90m 5\u001b[39m 경제        15\n",
      "\u001b[90m 6\u001b[39m 사회        14\n",
      "\u001b[90m 7\u001b[39m 성장        13\n",
      "\u001b[90m 8\u001b[39m 대통령      12\n",
      "\u001b[90m 9\u001b[39m 정치        12\n",
      "\u001b[90m10\u001b[39m 하게        12\n",
      "\u001b[90m11\u001b[39m 대한민국    11\n",
      "\u001b[90m12\u001b[39m 평화        11\n",
      "\u001b[90m13\u001b[39m 복지        10\n",
      "\u001b[90m14\u001b[39m 우리나라    10\n",
      "\u001b[90m15\u001b[39m 확대        10\n",
      "\u001b[90m16\u001b[39m 들이         9\n",
      "\u001b[90m17\u001b[39m 사람         9\n",
      "\u001b[90m18\u001b[39m 산업         9\n",
      "\u001b[90m19\u001b[39m 정부         9\n",
      "\u001b[90m20\u001b[39m 복지국가     8\n"
     ]
    }
   ],
   "source": [
    "top20 %>% print"
   ]
  },
  {
   "cell_type": "code",
   "execution_count": 21,
   "id": "6b5b4f51",
   "metadata": {},
   "outputs": [],
   "source": [
    "font_add_google(name = \"Nanum Gothic\", family = \"nanumgothic\")\n",
    "showtext_auto()"
   ]
  },
  {
   "cell_type": "code",
   "execution_count": 25,
   "id": "de2a8c90",
   "metadata": {},
   "outputs": [
    {
     "data": {
      "image/png": "[encoded data removed]",
      "text/plain": [
       "plot without title"
      ]
     },
     "metadata": {
      "image/png": {
       "height": 420,
       "width": 420
      }
     },
     "output_type": "display_data"
    }
   ],
   "source": [
    "ggplot(top20) + geom_col(aes(fct_reorder(word, n), n)) + coord_flip() +\n",
    "    geom_text(aes(word, n, label = n), hjust = -0.3) + \n",
    "    theme(text = element_text(family = \"nanumgothic\"),\n",
    "         axis.title.y = element_blank())"
   ]
  },
  {
   "cell_type": "markdown",
   "id": "2e3b9eb5",
   "metadata": {},
   "source": [
    "### 02-03 특정 단어가 사용된 문장"
   ]
  },
  {
   "cell_type": "code",
   "execution_count": 26,
   "id": "d8bf9139",
   "metadata": {},
   "outputs": [
    {
     "name": "stdout",
     "output_type": "stream",
     "text": [
      "\u001b[90m# A tibble: 207 x 1\u001b[39m\n",
      "   sentence                                                               \n",
      "   \u001b[3m\u001b[90m<chr>\u001b[39m\u001b[23m                                                                  \n",
      "\u001b[90m 1\u001b[39m 정권교체 하겠습니다!                                                   \n",
      "\u001b[90m 2\u001b[39m 정치교체 하겠습니다!                                                   \n",
      "\u001b[90m 3\u001b[39m 시대교체 하겠습니다!                                                   \n",
      "\u001b[90m 4\u001b[39m ‘불비불명(不飛不鳴)’이라는 고사가 있습니다.                            \n",
      "\u001b[90m 5\u001b[39m 남쪽 언덕 나뭇가지에 앉아, 3년 동안 날지도 울지도 않는 새.             \n",
      "\u001b[90m 6\u001b[39m 그러나 그 새는 한번 날면 하늘 끝까지 날고, 한번 울면 천지를 뒤흔듭니다.\n",
      "\u001b[90m 7\u001b[39m 그 동안 정치와 거리를 둬 왔습니다.                                     \n",
      "\u001b[90m 8\u001b[39m 그러나 암울한 시대가 저를 정치로 불러냈습니다.                         \n",
      "\u001b[90m 9\u001b[39m 더 이상 남쪽 나뭇가지에 머무를 수 없었습니다.                          \n",
      "\u001b[90m10\u001b[39m 이제 저는 국민과 함께 높이 날고 크게 울겠습니다.                       \n",
      "\u001b[90m# ... with 197 more rows\u001b[39m\n"
     ]
    }
   ],
   "source": [
    "sentences_moon <- raw_moon %>%\n",
    "    str_squish() %>%\n",
    "    as_tibble() %>%\n",
    "    unnest_tokens(input = value,\n",
    "                 output = sentence,\n",
    "                 token = \"sentences\")\n",
    "\n",
    "sentences_moon %>% print"
   ]
  },
  {
   "cell_type": "markdown",
   "id": "6364a70b",
   "metadata": {},
   "source": [
    "### ```str_detect()``` : 특정 단어가 포함된지 확인"
   ]
  },
  {
   "cell_type": "code",
   "execution_count": 27,
   "id": "e02b4e6d",
   "metadata": {},
   "outputs": [
    {
     "data": {
      "text/html": [
       "TRUE"
      ],
      "text/latex": [
       "TRUE"
      ],
      "text/markdown": [
       "TRUE"
      ],
      "text/plain": [
       "[1] TRUE"
      ]
     },
     "metadata": {},
     "output_type": "display_data"
    }
   ],
   "source": [
    "str_detect(\"치킨은 맛있다\", \"치킨\")"
   ]
  },
  {
   "cell_type": "code",
   "execution_count": 28,
   "id": "8a8e28c7",
   "metadata": {},
   "outputs": [
    {
     "name": "stdout",
     "output_type": "stream",
     "text": [
      "\u001b[90m# A tibble: 19 x 1\u001b[39m\n",
      "   sentence                                                                     \n",
      "   \u001b[3m\u001b[90m<chr>\u001b[39m\u001b[23m                                                                        \n",
      "\u001b[90m 1\u001b[39m 이제 저는 국민과 함께 높이 날고 크게 울겠습니다.                             \n",
      "\u001b[90m 2\u001b[39m 오늘 저는 제18대 대통령선거 출마를 국민 앞에 엄숙히 선언합니다.              \n",
      "\u001b[90m 3\u001b[39m 존경하는 국민 여러분!                                                        \n",
      "\u001b[90m 4\u001b[39m 국민이 모두 아픕니다.                                                        \n",
      "\u001b[90m 5\u001b[39m 국민 한 사람 한 사람이 모두 아픕니다.                                        \n",
      "\u001b[90m 6\u001b[39m 국민들에게 희망을 주는 정치가 절실하게 필요합니다.                           \n",
      "\u001b[90m 7\u001b[39m 국민의 뜻이 대통령의 길입니다.                                               \n",
      "\u001b[90m 8\u001b[39m 저는 대선출마를 결심하고 국민 여러분께 출마선언문을 함께 쓰자고 제안 드렸습~ \n",
      "\u001b[90m 9\u001b[39m 시민의 한숨과 눈물을 닦아주지 못하는 정치가 있었고, 오히려 국민의 걱정거리가~\n",
      "\u001b[90m10\u001b[39m 상식이 통하는 사회, 권한과 책임이 비례하는 사회, 다름을 인정하는 세상, 개천~ \n",
      "\u001b[90m11\u001b[39m 그러나 거창하게만 들리는 이 국가비전 역시 국민의 마음속에 있었습니다.        \n",
      "\u001b[90m12\u001b[39m 더욱 낮아지고 겸손해져서 국민의 마음속으로 들어가라.                         \n",
      "\u001b[90m13\u001b[39m 국민들이 제게 준 가르침입니다.                                               \n",
      "\u001b[90m14\u001b[39m 국민의 뜻에서 대통령의 길을 찾겠습니다.                                      \n",
      "\u001b[90m15\u001b[39m 문화혁신을 통해 모든 국민의 창조성을 높이고 이를 통해 기술혁신과 신산업 형성~\n",
      "\u001b[90m16\u001b[39m 이렇게 하면 국민의 살림이 서서히 나아질 것이며 5년 뒤에는 큰 성과가 나타날 ~ \n",
      "\u001b[90m17\u001b[39m 이명박 정부의 방해에도 불구하고 끝내 국민이 지켜준 세종시, 혁신도시를 지방 ~ \n",
      "\u001b[90m18\u001b[39m 존경하는 국민 여러분!                                                        \n",
      "\u001b[90m19\u001b[39m 국민의 마음에서 길을 찾는 우리나라 대통령이 되겠습니다.                      \n"
     ]
    }
   ],
   "source": [
    "sentences_moon %>%\n",
    "    filter(str_detect(sentence, \"국민\")) %>% print"
   ]
  },
  {
   "cell_type": "code",
   "execution_count": 29,
   "id": "bb290725",
   "metadata": {},
   "outputs": [
    {
     "name": "stdout",
     "output_type": "stream",
     "text": [
      "\u001b[90m# A tibble: 18 x 1\u001b[39m\n",
      "   sentence                                                                     \n",
      "   \u001b[3m\u001b[90m<chr>\u001b[39m\u001b[23m                                                                        \n",
      "\u001b[90m 1\u001b[39m 빚 갚기 힘들어서, 아이 키우기 힘들어서, 일자리가 보이지 않아서 아픕니다.     \n",
      "\u001b[90m 2\u001b[39m 상생과 평화의 대한민국은 공평과 정의에 바탕을 두고, 성장의 과실을 함께 누리~ \n",
      "\u001b[90m 3\u001b[39m 복지의 확대를 통해 보육, 교육, 의료, 요양 등 사회서비스 부문에 수많은 일자리~\n",
      "\u001b[90m 4\u001b[39m 결국 복지국가로 가는 길은 사람에 대한 투자, 일자리 창출, 자영업 고통 경감, ~ \n",
      "\u001b[90m 5\u001b[39m ‘일자리 정부’로 ‘일자리 혁명’을 이루겠습니다.                                \n",
      "\u001b[90m 6\u001b[39m 복지의 확대와 함께 저는 강력한 ‘일자리 혁명’을 이루고자 합니다.              \n",
      "\u001b[90m 7\u001b[39m 지금 너무나 많은 젊은이들과 실업자, 비정규직 종사자, 근로능력이 있는 고령자~ \n",
      "\u001b[90m 8\u001b[39m 좋은 일자리 창출을 위해 비정규직의 정규직 전환 촉진, 비정규직에 대한 차별철~ \n",
      "\u001b[90m 9\u001b[39m 또한 정보통신 산업, 바이오산업, 나노 산업, 신재생에너지 산업, 문화산업과 콘~ \n",
      "\u001b[90m10\u001b[39m 그리고 앞에서 말한 보육, 교육, 의료, 복지 등 사회서비스 부문은 무궁무진한 잠~\n",
      "\u001b[90m11\u001b[39m 일자리 없는 곳에서 희망을 찾을 수 없습니다.                                  \n",
      "\u001b[90m12\u001b[39m 지방 일자리에 대해 특별한 노력을 기울이겠습니다.                             \n",
      "\u001b[90m13\u001b[39m 지역균형발전은 곧 산업 균형, 일자리 균형이 목표입니다.                       \n",
      "\u001b[90m14\u001b[39m 이명박 정부의 방해에도 불구하고 끝내 국민이 지켜준 세종시, 혁신도시를 지방 ~ \n",
      "\u001b[90m15\u001b[39m 이 모든 정책의 실효성을 담보하기 위해 대통령이 되면 저는 가장 먼저 대통령 직~\n",
      "\u001b[90m16\u001b[39m 저는 먼 훗날 ‘일자리 혁명을 일으킨 대통령’으로 평가받기를 희망합니다.        \n",
      "\u001b[90m17\u001b[39m 또한 좋은 일자리와 산업혁신을 위해서는 평생학습체제가 뒷받침되어야 합니다.   \n",
      "\u001b[90m18\u001b[39m 노인 일자리를 늘리고, 특히 그 연륜과 경험을 지역사회에 활용할 수 있는 방안도~\n"
     ]
    }
   ],
   "source": [
    "sentences_moon %>%\n",
    "    filter(str_detect(sentence, \"일자리\")) %>% print"
   ]
  },
  {
   "cell_type": "markdown",
   "id": "34415b35",
   "metadata": {},
   "source": [
    "### Q1"
   ]
  },
  {
   "cell_type": "code",
   "execution_count": 30,
   "id": "21f9c43f",
   "metadata": {},
   "outputs": [],
   "source": [
    "raw_park <- readLines(\"speech_park.txt\", encoding = \"UTF-8\")\n",
    "\n",
    "park <- raw_park %>%\n",
    "    str_replace_all(\"[^가-힣]\", \" \") %>%\n",
    "    str_squish() %>%\n",
    "    as_tibble()"
   ]
  },
  {
   "cell_type": "code",
   "execution_count": 31,
   "id": "6897f69e",
   "metadata": {},
   "outputs": [
    {
     "name": "stdout",
     "output_type": "stream",
     "text": [
      "\u001b[90m# A tibble: 1,240 x 1\u001b[39m\n",
      "   word  \n",
      "   \u001b[3m\u001b[90m<chr>\u001b[39m\u001b[23m \n",
      "\u001b[90m 1\u001b[39m 존경  \n",
      "\u001b[90m 2\u001b[39m 하    \n",
      "\u001b[90m 3\u001b[39m 국민  \n",
      "\u001b[90m 4\u001b[39m 여러분\n",
      "\u001b[90m 5\u001b[39m 저    \n",
      "\u001b[90m 6\u001b[39m 오늘  \n",
      "\u001b[90m 7\u001b[39m 국민  \n",
      "\u001b[90m 8\u001b[39m 한    \n",
      "\u001b[90m 9\u001b[39m 분    \n",
      "\u001b[90m10\u001b[39m 한    \n",
      "\u001b[90m# ... with 1,230 more rows\u001b[39m\n"
     ]
    }
   ],
   "source": [
    "word_space <- park %>%\n",
    "    unnest_tokens(input = value,\n",
    "                 output = word,\n",
    "                 token = extractNoun)\n",
    "\n",
    "word_space %>% print"
   ]
  },
  {
   "cell_type": "markdown",
   "id": "88df320f",
   "metadata": {},
   "source": [
    "### Q2"
   ]
  },
  {
   "cell_type": "code",
   "execution_count": 32,
   "id": "02b0fbf5",
   "metadata": {},
   "outputs": [
    {
     "name": "stdout",
     "output_type": "stream",
     "text": [
      "\u001b[90m# A tibble: 20 x 2\u001b[39m\n",
      "   word         n\n",
      "   \u001b[3m\u001b[90m<chr>\u001b[39m\u001b[23m    \u001b[3m\u001b[90m<int>\u001b[39m\u001b[23m\n",
      "\u001b[90m 1\u001b[39m 국민        72\n",
      "\u001b[90m 2\u001b[39m 행복        23\n",
      "\u001b[90m 3\u001b[39m 여러분      20\n",
      "\u001b[90m 4\u001b[39m 정부        17\n",
      "\u001b[90m 5\u001b[39m 경제        15\n",
      "\u001b[90m 6\u001b[39m 신뢰        11\n",
      "\u001b[90m 7\u001b[39m 국가        10\n",
      "\u001b[90m 8\u001b[39m 우리        10\n",
      "\u001b[90m 9\u001b[39m 교육         9\n",
      "\u001b[90m10\u001b[39m 사람         9\n",
      "\u001b[90m11\u001b[39m 사회         9\n",
      "\u001b[90m12\u001b[39m 일자리       9\n",
      "\u001b[90m13\u001b[39m 박근혜       8\n",
      "\u001b[90m14\u001b[39m 불안         8\n",
      "\u001b[90m15\u001b[39m 대한민국     6\n",
      "\u001b[90m16\u001b[39m 발전         6\n",
      "\u001b[90m17\u001b[39m 중요         6\n",
      "\u001b[90m18\u001b[39m 하게         6\n",
      "\u001b[90m19\u001b[39m 공유         5\n",
      "\u001b[90m20\u001b[39m 노력         5\n"
     ]
    }
   ],
   "source": [
    "word_noun <- word_space %>%\n",
    "  count(word, sort = T) %>%    \n",
    "  filter(str_count(word) > 1)\n",
    "\n",
    "top20 <- word_noun %>%\n",
    "  head(20)\n",
    "\n",
    "top20 %>% print"
   ]
  },
  {
   "cell_type": "markdown",
   "id": "90aae527",
   "metadata": {},
   "source": [
    "### Q3"
   ]
  },
  {
   "cell_type": "code",
   "execution_count": 34,
   "id": "b5577b9c",
   "metadata": {},
   "outputs": [
    {
     "data": {
      "image/png": "[encoded data removed]",
      "text/plain": [
       "plot without title"
      ]
     },
     "metadata": {
      "image/png": {
       "height": 420,
       "width": 420
      }
     },
     "output_type": "display_data"
    }
   ],
   "source": [
    "ggplot(top20) + geom_col(aes(fct_reorder(word, n), n)) + coord_flip() +\n",
    "    geom_text(aes(word, n, label = n), hjust = -0.3) + \n",
    "    theme(text = element_text(family = \"nanumgothic\"),\n",
    "         axis.title.y = element_blank())"
   ]
  },
  {
   "cell_type": "markdown",
   "id": "4251c7c1",
   "metadata": {},
   "source": [
    "### Q4"
   ]
  },
  {
   "cell_type": "code",
   "execution_count": 37,
   "id": "dfb42d96",
   "metadata": {},
   "outputs": [],
   "source": [
    "park <- raw_park %>%\n",
    "    str_replace_all(\"[^가-힣]\", \" \") %>%\n",
    "    str_squish() %>%\n",
    "    as_tibble() %>%\n",
    "    unnest_tokens(input = value,\n",
    "                 output = sentence,\n",
    "                 token = \"sentences\")"
   ]
  },
  {
   "cell_type": "code",
   "execution_count": 39,
   "id": "0a6a6a17",
   "metadata": {},
   "outputs": [
    {
     "name": "stdout",
     "output_type": "stream",
     "text": [
      "\u001b[90m# A tibble: 49 x 1\u001b[39m\n",
      "   sentence                                                                     \n",
      "   \u001b[3m\u001b[90m<chr>\u001b[39m\u001b[23m                                                                        \n",
      "\u001b[90m 1\u001b[39m 존경하는 국민 여러분 저는 오늘 국민 한 분 한 분의 꿈이 이루어지는 행복한 대~ \n",
      "\u001b[90m 2\u001b[39m 국민 여러분 저의 삶은 대한민국과 함께 해온 시간이었습니다 우리나라가 가난을 ~\n",
      "\u001b[90m 3\u001b[39m 어머니가 흉탄에 돌아가신 후 견딜 수 없는 고통과 어려움 속에서도 그 힘든 시간~\n",
      "\u001b[90m 4\u001b[39m 그때부터 제 삶은 완전히 다른 길을 가야했습니다 개인의 삶 대신 국민과 함께 하~\n",
      "\u001b[90m 5\u001b[39m 아버지를 잃는 또 다른 고통과 아픔을 겪고 저는 평범한 삶을 살고자 했습니다 하~\n",
      "\u001b[90m 6\u001b[39m 당이 두 번이나 존폐의 위기를 맞고 국민들의 불신이 쌓이고 원성이 높아졌을 때 ~\n",
      "\u001b[90m 7\u001b[39m 저 박근혜 그 동안의 제 삶이 저 혼자만의 삶이 아니라 국민 여러분의 신뢰와 성~ \n",
      "\u001b[90m 8\u001b[39m 어떤 국민도 홀로 뒤처져 있지 않게 할 것입니다 단 한명이라도 포기하지 않고 같~\n",
      "\u001b[90m 9\u001b[39m 국민 여러분 우리는 지금 중요한 기로에 서 있습니다 세계적으로 경기는 침체되고~\n",
      "\u001b[90m10\u001b[39m 지금 우리 국민들은 불안합니다 청년들은 일자리가 없어서 불안하고 직장이 있는 ~\n",
      "\u001b[90m# ... with 39 more rows\u001b[39m\n"
     ]
    }
   ],
   "source": [
    "park %>% print"
   ]
  },
  {
   "cell_type": "markdown",
   "id": "99ae48db",
   "metadata": {},
   "source": [
    "### Q5"
   ]
  },
  {
   "cell_type": "code",
   "execution_count": 41,
   "id": "b4140b8b",
   "metadata": {},
   "outputs": [
    {
     "name": "stdout",
     "output_type": "stream",
     "text": [
      "\u001b[90m# A tibble: 8 x 1\u001b[39m\n",
      "  sentence                                                                      \n",
      "  \u001b[3m\u001b[90m<chr>\u001b[39m\u001b[23m                                                                         \n",
      "\u001b[90m1\u001b[39m 그동안 정권이 여러 번 교체되었지만 국민들의 불안은 나아지지 않았습니다 국가는~\n",
      "\u001b[90m2\u001b[39m 저는 경제민주화 실현 일자리 창출 그리고 한국형 복지의 확립 을 국민행복을 위한~\n",
      "\u001b[90m3\u001b[39m 그동안 우리 경제는 효율성을 지나치게 강조하면서 공정성의 중요성을 간과하였고 ~\n",
      "\u001b[90m4\u001b[39m 공정하고 투명한 시장경제 질서를 확립해 경제민주화를 실현하는 일은 시대적 과제~\n",
      "\u001b[90m5\u001b[39m 수출 일변도의 경제구조에서 벗어나 수출과 내수가 동시에 성장을 견인하는 쌍끌이~\n",
      "\u001b[90m6\u001b[39m 국민행복의 길을 열어갈 세 번째 과제로 우리의 실정에 맞으면서 국민에게 실질적~ \n",
      "\u001b[90m7\u001b[39m 국민 여러분 올해는 우리나라 경제발전의 틀을 마련한 경제개발 개년 계획을 시작~ \n",
      "\u001b[90m8\u001b[39m 모든 계층의 국민이 함께 참여해 만들고 정부와 기업 지역사회가 함께 연대해 실천~\n"
     ]
    }
   ],
   "source": [
    "park %>% filter(str_detect(sentence, \"경제\")) %>% print"
   ]
  }
 ],
 "metadata": {
  "kernelspec": {
   "display_name": "R 4.1.3",
   "language": "R",
   "name": "ir32"
  },
  "language_info": {
   "codemirror_mode": "r",
   "file_extension": ".r",
   "mimetype": "text/x-r-source",
   "name": "R",
   "pygments_lexer": "r",
   "version": "4.1.3"
  }
 },
 "nbformat": 4,
 "nbformat_minor": 5
}
