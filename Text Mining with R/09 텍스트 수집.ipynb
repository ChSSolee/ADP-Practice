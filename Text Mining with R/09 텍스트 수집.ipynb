{
 "cells": [
  {
   "cell_type": "markdown",
   "id": "2f4eee92",
   "metadata": {},
   "source": [
    "### 09-01 텍스트 데이터 수집"
   ]
  },
  {
   "cell_type": "markdown",
   "id": "76b19ca8",
   "metadata": {},
   "source": [
    "### 웹 페이지 데이터 수집 (rvest)\n",
    "\n",
    "사용법 : https://www.youtube.com/watch?v=Me0bvPo9KUc"
   ]
  },
  {
   "cell_type": "markdown",
   "id": "08f20ede",
   "metadata": {},
   "source": [
    "### 네이버 뉴스 크로링 (N2H4)\n",
    "\n",
    "https://github.com/forkonlp/N2H4"
   ]
  },
  {
   "cell_type": "markdown",
   "id": "9dd529c1",
   "metadata": {},
   "source": [
    "### 다음 뉴스 크로링 (DNH4)\n",
    "\n",
    "https://github.com/forkonlp/DNH4"
   ]
  },
  {
   "cell_type": "markdown",
   "id": "ec835211",
   "metadata": {},
   "source": [
    "### 역대 대통령 연설문 수집\n",
    "\n",
    "https://github.com/forkonlp/presidentSpeechKr"
   ]
  },
  {
   "cell_type": "markdown",
   "id": "62a87d08",
   "metadata": {},
   "source": [
    "### 트위터 수집\n",
    "\n",
    "https://github.com/ropensci/rtweet"
   ]
  },
  {
   "cell_type": "markdown",
   "id": "e41ae3c7",
   "metadata": {},
   "source": [
    "### 사전에 단어 추가\n",
    "### ```buildDictionary()```\n",
    "https://github.com/haven-jeon/KoNLP/blob/master/etcs/KoNLP-API.md#builddictionary"
   ]
  },
  {
   "cell_type": "markdown",
   "id": "ed0fdf91",
   "metadata": {},
   "source": [
    "### 형태소 분석기 (Elbird)\n",
    "\n",
    "https://github.com/mrchypark/Elbird"
   ]
  },
  {
   "cell_type": "markdown",
   "id": "c3aa1334",
   "metadata": {},
   "source": [
    "### 형태소 분석기 (RcppMeCab)\n",
    "\n",
    "https://github.com/junhewk/RcppMeCab"
   ]
  },
  {
   "cell_type": "markdown",
   "id": "aeb59ef9",
   "metadata": {},
   "source": [
    "### 여러 문자로 구성된 변수 한 번에 만들기 (hrbraddins)\n",
    "\n",
    "사용법 : https://www.facebook.com/smileoncold/posts/3153011751394374"
   ]
  },
  {
   "cell_type": "markdown",
   "id": "5294f8d9",
   "metadata": {},
   "source": [
    "### 한글 지원 코딩 폰트 이용 (D2 Coding 글꼴)\n",
    "\n",
    "https://github.com/naver/d2codingfont"
   ]
  }
 ],
 "metadata": {
  "kernelspec": {
   "display_name": "R 4.1.3",
   "language": "R",
   "name": "ir32"
  },
  "language_info": {
   "codemirror_mode": "r",
   "file_extension": ".r",
   "mimetype": "text/x-r-source",
   "name": "R",
   "pygments_lexer": "r",
   "version": "4.1.3"
  }
 },
 "nbformat": 4,
 "nbformat_minor": 5
}
