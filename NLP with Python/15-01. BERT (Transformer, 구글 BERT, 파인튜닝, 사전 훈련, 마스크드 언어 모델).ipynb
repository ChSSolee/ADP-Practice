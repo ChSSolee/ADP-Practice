{
 "cells": [
  {
   "cell_type": "markdown",
   "metadata": {
    "id": "fXvcf_FKgYBc"
   },
   "source": [
    "# BERT (Bidirectional Encoder Representations from Transformers)\n",
    "\n",
    "- 트랜스포머(transformer)의 등장 이후, 다양한 자연어 처리 태스크에서 사용되었던 RNN 계열의 신경망인 LSTM, GRU는 트랜스포머로 대체되어가는 추세\n",
    "- 이에 따라 다양한 트랜스포머 계열의 BERT, GPT, T5 등 다양한 사전 훈련된 언어 모델들이 계속해서 등장\n",
    "\n",
    "<br>\n",
    "\n",
    "## NLP에서의 사전 훈련(Pre-training)\n",
    "\n",
    "> \"사전 훈련된 단어 임베딩이 모든 NLP 실무자의 도구 상자에서 사전 훈련된 언어 모델로 대체되는 것은 시간 문제이다.\"\n",
    "\n",
    "- BERT(Bidirectional Encoder Representations from Transformers)와 같은 트랜스포머 계열의 모델들이 자연어 처리를 지배\n",
    "- BERT를 배우기에 앞서 워드 임베딩에서부터 ELMo, 그리고 트랜스포머에 이르기까지 자연어 처리가 발전되어온 흐름에 대한 정리 필요\n",
    "\n",
    "<br>\n",
    "\n",
    "### 사전 훈련된 워드 임베딩\n",
    "\n",
    "- **어떤 태스크를 수행할 때, 임베딩을 사용하는 방법으로는 크게 두 가지가 존재**\n",
    "1. 임베딩 층(Embedding layer)을 랜덤 초기화하여 처음부터 학습하는 방법\n",
    "2. 방대한 데이터로 Word2Vec 등과 같은 임베딩 알고리즘으로 사전에 학습된 임베딩 벡터들을 가져와 사용하는 방법\n",
    "\n",
    "<br>\n",
    "\n",
    "- 만약, 태스크에 사용하기 위한 데이터가 적다면, 사전 훈련된 임베딩을 사용하면 성능 향상을 기대가능\n",
    "\n",
    "- 이 두 가지 방법 모두 하나의 단어가 하나의 벡터값으로 맵핑되므로,\n",
    "  \n",
    "  문맥을 고려하지 못 하여 다의어나 동음이의어를 구분하지 못하는 문제점이 존재\n",
    "  \n",
    "  - 한국어에는 '사과'라는 단어가 존재하는데 이 '사과'는 용서를 빈다는 의미로도 쓰이지만, 먹는 과일의 의미로도 사용\n",
    "  - 그러나 임베딩 벡터는 '사과'라는 벡터에 하나의 벡터값을 맵핑하므로 이 두 가지 의미를 구분할 수 없었음\n",
    "  \n",
    "  $\\rightarrow$ **이 한계는 사전 훈련된 언어 모델을 사용하므로서 극복할 수 있었으며 ELMo나 BERT 등이 이러한 문제의 해결책**\n",
    "\n",
    "<br>\n",
    "\n",
    "### 사전 훈련된 언어 모델\n",
    "\n",
    "<img scr='https://wikidocs.net/images/page/108730/image1.PNG'>\n",
    "\n",
    "- 2015년 구글은 'Semi-supervised Sequence Learning'라는 논문에서 LSTM 언어 모델을 학습하고나서, 학습한 LSTM을 텍스트 분류에 추가 학습하는 방법을 진행\n",
    "1. 우선 LSTM 언어 모델을 학습\n",
    "- LSTM 언어 모델은 주어진 텍스트로부터 이전 단어들로부터 다음 단어를 예측하도록 학습하므로, 기본적으로 별도의 레이블이 부착되지 않은 텍스트 데이터로도 학습 가능\n",
    "- 사전 훈련된 워드 임베딩과 마찬가지로 사전 훈련된 언어 모델의 강점은 학습 전 사람이 별도 레이블을 지정해줄 필요가 없다는 점\n",
    "2. 이렇게 레이블이 없는 데이터로 학습된 LSTM과, 가중치가 랜덤으로 초기화 된 LSTM 두 가지를 두고, 텍스트 분류와 같은 문제를 학습하여\n",
    "\n",
    "  사전 훈련된 언어 모델을 사용한 전자의 경우가 더 좋은 성능을 얻을 수 있다는 가능성을 확인\n",
    "\n",
    "- **방대한 텍스트로 LSTM 언어 모델을 학습해두고, 언어 모델을 다른 태스크에서 높은 성능을 얻기 위해 사용하는 방법으로 ELMo와 같은 아이디어도 존재**\n",
    "\n",
    "<br>\n",
    "\n",
    "#### ELMO\n",
    "\n",
    "<img src='https://wikidocs.net/images/page/108730/image2.PNG'>\n",
    "\n",
    "- **ELMo는 순방향 언어 모델과 역방향 언어 모델을 각각 따로 학습시킨 후에,**\n",
    "  \n",
    "  **사전 학습된 언어 모델로부터 임베딩 값을 얻는다는 아이디어**\n",
    "- 이러한 임베딩은 문맥에 따라서 임베딩 벡터값이 달라지므로,\n",
    "  \n",
    "  기존 워드 임베딩인 Word2Vec이나 GloVe 등이 다의어를 구분할 수 없었던 문제점을 해결\n",
    "  \n",
    "  $\\rightarrow$ 언어 모델은 RNN 계열의 신경망에서 탈피\n",
    "\n",
    "**트랜스포머가 번역기와 같은 인코더-디코더 구조에서 LSTM을 뛰어넘는 좋은 성능을 얻자, LSTM이 아닌 트랜스포머로 사전 훈련된 언어 모델을 학습하는 시도가 등장**\n",
    "\n",
    "<br>\n",
    "\n",
    "<img src='https://wikidocs.net/images/page/108730/image3.PNG'>\n",
    "\n",
    "- 그림에서 Trm은 트랜스포머(Transformer)의 약자\n",
    "- 트랜스포머의 디코더는 LSTM 언어 모델처럼 순차적으로 이전 단어들로부터 다음 단어를 예측\n",
    "\n",
    "<br>\n",
    "\n",
    "- Open AI는 트랜스포머 디코더로 총 12개의 층을 쌓은 후에 방대한 텍스트 데이터를 학습시킨 언어 모델 GPT-1을 생성\n",
    "- Open AI는 GPT-1에 여러 다양한 태스크를 위해 추가 학습을 진행하였을 때, 다양한 태스크에서 높은 성능을 얻을 수 있음을 입증\n",
    "- **NLP의 주요 트렌드는 사전 훈련된 언어 모델을 만들고 이를 특정 태스크에 추가 학습시켜 해당 태스크에서 높은 성능을 얻는 것으로 접어들었고,**\n",
    "\n",
    "  **언어 모델의 학습 방법에 변화를 주는 모델들이 등장**\n"
   ]
  },
  {
   "cell_type": "markdown",
   "metadata": {
    "id": "3HlWd01bkVRq"
   },
   "source": [
    "<br>\n",
    "\n",
    "<img src='https://wikidocs.net/images/page/108730/image4.PNG'>\n",
    "\n",
    "- 위의 좌측 그림에 있는 단방향 언어모델은 지금까지 배운 전형적인 언어 모델\n",
    "  - 시작 토큰 \\<SOS\\>가 들어가면, 다음 단어 I를 예측하고, 그리고 그 다음 단어 am을 예측\n",
    "- 반면, 우측에 있는 양방향 언어 모델은 지금까지 본 적 없던 형태의 언어 모델\n",
    "  - 가령, 양방향 LSTM을 이용해서 우측과 같은 언어 모델을 만들었다고 했을 때.\n",
    "  \n",
    "    초록색 LSTM 셀은 순방향 언어 모델로 \\<sos\\>를 입력받아 'I'를 예측하고, 그 후에 'am'을 예측\n",
    "    \n",
    "    그런데 'am'을 예측할 때, 출력층은 주황색 LSTM 셀인 역방향 언어 모델의 정보도 함께 받고있음\n",
    "    \n",
    "    'am'을 예측하는 시점에서 역방향 언어 모델이 이미 관측한 단어는 'a', 'am', 'I' 이렇게 3개의 단어\n",
    "    \n",
    "    **이미 예측해야하는 단어를 역방향 언어 모델을 통해 미리 관측한 셈이므로, 언어 모델은 일반적으로 양방향으로 구현하지 않음**\n",
    "  \n",
    "- **하지만 언어의 문맥이라는 것은 실제로는 양방향**\n",
    "  \n",
    "  텍스트 분류나 개체명 인식 등에서 양방향 LSTM을 사용하여 모델을 구현해서 좋은 성능을 얻을 수 있었음\n",
    "  \n",
    "  **하지만 이전 단어들로부터 다음 단어를 예측하는 언어 모델의 특성으로 인해 위의 그림과 같은 양방향 언어 모델을 사용할 수 없으므로,**\n",
    "  \n",
    "  **그 대안으로 ELMo에서는 순방향과 역방향이라는 두 개의 단방향 언어 모델을 따로 준비하여 학습하는 방법을 사용**\n",
    "\n",
    "<br>\n",
    "\n",
    "### 마스크드 언어 모델 (Masked Language Model)\n",
    "- 기존 언어 모델로는 양방향 구조를 도입할 수 없으므로, 양방향 구조를 도입하기 위해서 2018년에는 새로운 구조의 언어 모델이 탄생\n",
    "\n",
    "  $\\rightarrow$ **마스크드 언어 모델**\n",
    "\n",
    "- **마스크드 언어 모델은 입력 텍스트 단어 집합의 15%의 단어를 랜덤으로 마스킹(Masking)**\n",
    "  \n",
    "  (마스킹이란 원래의 단어가 무엇이었는지 모르게 한다는 뜻)\n",
    "  \n",
    "  $\\rightarrow$ **인공 신경망에게 이렇게 마스킹 된 단어들을(Masked words) 예측하도록 지시**\n",
    "  \n",
    "  $\\rightarrow$ **문장 중간에 구멍을 뚫어놓고, 구멍에 들어갈 단어들을 예측하게 하는 방식**\n",
    "  \n",
    "  - 예를 들어 '나는 [MASK]에 가서 그곳에서 빵과 [MASK]를 샀다'를 주고 [MASK]에 들어갈 단어를 맞추게 함.\n",
    "\n"
   ]
  },
  {
   "cell_type": "markdown",
   "metadata": {
    "id": "v3MvSC-jkVOS"
   },
   "source": [
    "<br>\n",
    "\n",
    "<hr>\n",
    "\n",
    "<br>\n",
    "\n",
    "##  버트(Bidirectional Encoder Representations from Transformers, BERT)\n",
    "- BERT(Bidirectional Encoder Representations from Transformers)는 2018년에 구글이 공개한 사전 훈련된 모델\n",
    "  \n",
    "  (BERT라는 이름은 세서미 스트리트라는 미국 인형극의 케릭터 이름이기도 한데, 앞서 소개한 임베딩 방법론인 ELMo와 마찬가지로 세서미 스트리트의 케릭터 이름을 따온 것)\n",
    "\n",
    "- **BERT는 2018년에 공개되어 등장과 동시에 수많은 NLP 태스크에서 최고 성능을 보여주면서 명실공히 NLP의 한 획을 그은 모델**\n",
    "\n"
   ]
  },
  {
   "cell_type": "markdown",
   "metadata": {
    "id": "JIw5vmKPkVD8"
   },
   "source": [
    "<br>\n",
    "\n",
    "- `transformers` 패키지 설치\n",
    "\n",
    "```python\n",
    "pip install transformers\n",
    "```"
   ]
  },
  {
   "cell_type": "markdown",
   "metadata": {
    "id": "udL2zcrWmQFi"
   },
   "source": [
    "<br>\n",
    "\n",
    "## BERT의 개요\n",
    "\n",
    "<img src='https://wikidocs.net/images/page/35594/%ED%8C%8C%EC%9D%B8%ED%8A%9C%EB%8B%9D.PNG'>\n",
    "\n",
    "- **BERT는 트랜스포머를 이용하여 구현된, 위키피디아(25억 단어)와 BooksCorpus(8억 단어)와 같은 레이블이 없는 텍스트 데이터로 사전 훈련된 언어 모델**\n",
    "\n",
    "- **BERT가 높은 성능을 얻을 수 있었던 것은, 레이블이 없는 방대한 데이터로 사전 훈련된 모델을 가지고,**\n",
    "\n",
    "  **레이블이 있는 다른 작업(Task)에서 추가 훈련과 함께 하이퍼파라미터를 재조정하여,**\n",
    "  \n",
    "  **이 모델을 사용하면 성능이 높게 나오는 기존의 사례들을 참고하였기 때문**\n",
    "  \n",
    "  **다른 작업에 대해서 파라미터 재조정을 위한 추가 훈련 과정을 파인 튜닝(Fine-tuning)**\n",
    "\n",
    "- 위의 그림은 BERT의 파인 튜닝 사례\n",
    "- 태스크가 스팸 메일 분류라고 하였을 때, 이미 위키피디아 등으로 사전 학습된 BERT 위에 분류를 위한 신경망을 한 층 추가\n",
    "  \n",
    "  $\\rightarrow$ 이 경우, BERT가 언어 모델 사전 학습 과정에서 얻은 지식을 활용할 수 있으므로 스팸 메일 분류에서 보다 더 좋은 성능\n",
    "\n",
    "- 이전에 언급한 ELMo나 OpenAI GPT-1 등이 이러한 파인 튜닝 사례의 대표적인 사례\n"
   ]
  },
  {
   "cell_type": "markdown",
   "metadata": {
    "id": "wB_srWSkna_A"
   },
   "source": [
    "<br>\n",
    "\n",
    "### BERT의 크기\n",
    "\n",
    "<img src='https://wikidocs.net/images/page/35594/bartbase%EC%99%80large.PNG'>\n",
    "\n",
    "- **BERT의 기본 구조는 트랜스포머의 인코더를 쌓아올린 구조**\n",
    "  - Base 버전에서는 총 12개를 쌓았으며, Large 버전에서는 총 24개를 쌓음\n",
    "  - Large 버전은 Base 버전보다 d_model의 크기나 셀프 어텐션 헤드(Self Attention Heads)의 수가 더 큼\n",
    "  - 트랜스포머 인코더 층의 수를 $L$, d_model의 크기를 $D$, 셀프 어텐션 헤드의 수를 $A$라고 하였을 때 각각의 크기는\n",
    "\n",
    "> BERT-Base : $L=12$, $D=768$, $A=12$ : 110M개의 파라미터\n",
    ">\n",
    "> BERT-Large : $L=24$, $D=1024$, $A=16$ : 340M개의 파라미터\n"
   ]
  },
  {
   "cell_type": "markdown",
   "metadata": {
    "id": "Oz0aeOJena7Z"
   },
   "source": [
    "- 초기 트랜스포머 모델이 $L=6$, $D=512$, $A=8$이었다는 것과 비교하면,\n",
    "\n",
    "  Base 또한 초기 트랜스포머보다는 큰 네트워크\n",
    "- BERT-base는 BERT보다 앞서 등장한 Open AI GPT-1과 하이퍼파라미터가 동일\n",
    "\n",
    "  이는 BERT 연구진이 직접적으로 GPT-1과 성능을 비교하기 위해서 GPT-1과 동등한 크기로 BERT-Base를 설계하였기 때문\n",
    "  \n",
    "- BERT-Large는 BERT의 최대 성능을 보여주기 위해 만들어진 모델\n",
    "  - BERT가 세운 기록들은 대부분 BERT-Large를 통해 달성\n",
    "\n",
    "\n"
   ]
  },
  {
   "cell_type": "markdown",
   "metadata": {
    "id": "zuZqiCOToGRt"
   },
   "source": [
    "<br>\n",
    "\n",
    "### BERT의 문맥을 반영한 임베딩(Contextual Embedding)\n",
    "- **BERT는 ELMo나 GPT-1과 마찬가지로 문맥을 반영한 임베딩(Contextual Embedding)을 사용**\n",
    "\n",
    "<img src='https://wikidocs.net/images/page/115055/bert0.PNG'>\n",
    "\n",
    "- **BERT의 입력은 딥 러닝 모델들과 마찬가지로 임베딩 층(Embedding layer)를 지난 임베딩 벡터들**\n",
    "- d_model을 768로 정의하였으므로, 모든 단어들은 768차원의 임베딩 벡터가 되어 BERT의 입력으로 사용\n",
    "  \n",
    "  $\\rightarrow$ BERT는 내부적인 연산을 거친 후, 동일하게 각 단어에 대해서 768차원의 벡터를 출력\n",
    "\n",
    "- 위의 그림에서는 BERT가 각 768차원의 [CLS], 'I', 'love', 'you'라는 4개의 벡터를 입력받아서(입력 임베딩) 동일하게 768차원의 4개의 벡터를 출력하는 모습(출력 임베딩)\n",
    "\n",
    "<br>\n",
    "\n",
    "<img src='https://wikidocs.net/images/page/115055/%EA%B7%B8%EB%A6%BC2.PNG'>\n",
    "\n",
    "- **BERT의 연산을 거친 후의 출력 임베딩은, 문장의 문맥을 모두 참고한, 문맥을 반영한 임베딩**\n",
    "- **위의 좌측 그림에서 [CLS]라는 벡터는, BERT의 초기 입력으로 사용되었을 입력 임베딩 당시에는, 단순히 임베딩 층(embedding layer)를 지난 임베딩 벡터였지만,**\n",
    "  \n",
    "  **BERT를 지나고 나서는 [CLS],'I', 'love', 'you'라는 모든 단어 벡터들을 모두 참고한 후에 문맥 정보를 가진 벡터가 됨**\n",
    "  \n",
    "  (위의 좌측 그림에서는 모든 단어를 참고하고 있다는 것을 점선의 화살표로 표현)\n",
    "\n",
    "- 이는 [CLS]라는 단어 벡터 뿐만 아니라 다른 벡터들도 전부 마찬가지\n",
    "  - 가령, 우측의 그림에서 출력 임베딩 단계의 'love'를 보면 BERT의 입력이었던 모든 단어들인 [CLS], 'I', 'love', 'you'를 참고\n",
    "\n",
    "<img src='https://wikidocs.net/images/page/115055/%EA%B7%B8%EB%A6%BC3.PNG'>\n",
    "\n",
    "- **하나의 단어가 모든 단어를 참고하는 연산은 BERT의 12개의 층에서 전부 이루어지는 연산**\n",
    "  \n",
    "  12개의 층을 지난 후에 최종적으로 출력 임베딩을 얻게됨,\n",
    "- 위의 그림은 BERT의 첫번째 층에 입력된 각 단어가 모든 단어를 참고한 후에 출력되는 과정을 화살표로 표현\n",
    "- **BERT의 첫번째 층의 출력 임베딩은 BERT의 두번째 층에서는 입력 임베딩**\n",
    "\n",
    "<img src='https://wikidocs.net/images/page/115055/%EA%B7%B8%EB%A6%BC4.PNG'>\n",
    "\n",
    "- **BERT는 '셀프 어텐션'을 통하여, 모든 단어들을 참고한 문맥을 반영한 출력 임베딩을 얻게됨**\n",
    "- **BERT는 기본적으로 트랜스포머 인코더를 12번 쌓은 것이므로 내부적으로 각 층마다 멀티 헤드 셀프 어텐션과 포지션 와이즈 피드 포워드 신경망을 수행**\n",
    "\n",
    "\n"
   ]
  },
  {
   "cell_type": "markdown",
   "metadata": {
    "id": "W5IyCafuoGN3"
   },
   "source": [
    "<br>\n",
    "\n",
    "### BERT의 서브워드 토크나이저 : WordPiece\n",
    "- **BERT는 단어보다 더 작은 단위로 쪼개는 서브워드 토크나이저를 사용**\n",
    "- BERT가 사용한 토크나이저는 WordPiece 토크나이저로, 바이트 페어 인코딩(Byte Pair Encoding, BPE)의 유사 알고리즘\n",
    "  - 동작 방식은 BPE와 조금 다르지만, 글자로부터 서브워드들을 병합해가는 방식으로 최종 단어 집합(Vocabulary)을 만드는 것은 BPE와 유사\n",
    "\n",
    "- **서브워드 토크나이저는 기본적으로 자주 등장하는 단어는 그대로 단어 집합에 추가하지만,**\n",
    "  \n",
    "  **자주 등장하지 않는 단어의 경우에는 더 작은 단위인 서브워드로 분리되어 서브워드들이 단어 집합에 추가된다는 아이디어**\n",
    "  \n",
    "- 단어 집합이 만들어지고 나면, 이 단어 집합을 기반으로 토큰화를 수행\n",
    "- 서브워드 토크나이저 패키지인 `SentencePiece`과 같이 BERT의 서브워드 토크나이저도 동작\n",
    "\n",
    "<br>\n",
    "\n",
    "#### BERT에서 토큰화를 수행하는 방식\n",
    "- 준비물 : 이미 훈련 데이터로부터 만들어진 단어 집합\n",
    "1. 토큰이 단어 집합에 존재\n",
    "  \n",
    "  $\\rightarrow$ 해당 토큰을 분리하지 않음\n",
    "\n",
    "2. 토큰이 단어 집합에 존재하지 않음\n",
    "  \n",
    "  $\\rightarrow$ 해당 토큰을 서브워드로 분리\n",
    "  \n",
    "  $\\rightarrow$ 해당 토큰의 첫번째 서브워드를 제외한 나머지 서브워드들은, 앞에 \"##\"를 붙인 것을 토큰으로 함"
   ]
  },
  {
   "cell_type": "markdown",
   "metadata": {
    "id": "CZk2Fen9oGK7"
   },
   "source": [
    "<br>\n",
    "\n",
    "- **예를 들어 'embeddings'이라는 단어가 입력으로 들어왔을 때, BERT의 단어 집합에 해당 단어가 존재하지 않았다면**\n",
    "- **만약, 서브워드 토크나이저가 아닌 토크나이저라면 여기서 OOV 문제가 발생,**\n",
    "  \n",
    "  **하지만 서브워드 토크나이저의 경우에는 해당 단어가 단어 집합에 존재하지 않았다고 해서, 서브워드 또한 존재하지 않는다는 의미는 아니므로,**\n",
    "    \n",
    "  $\\rightarrow$ **해당 단어를 더 쪼개려고 시도**\n",
    "    \n",
    "  $\\rightarrow$ **만약, BERT의 단어 집합에 'em', '##bed', '##ding', '#s'라는 서브 워드들이 존재한다면, 'embeddings'는 'em', '##bed', '##ding', '#s'로 분리**\n",
    "    \n",
    "  $\\rightarrow$ **여기서 '##'은 이 서브워드들은 단어의 중간부터 등장하는 서브워드라는 것을 알려주기 위해 단어 집합 생성 시 표시해둔 기호**\n",
    "    \n",
    "  - 이런 표시가 있어야만 em, ##bed, ##ding, #s를 다시 손쉽게 embeddings로 복원"
   ]
  },
  {
   "cell_type": "code",
   "execution_count": null,
   "metadata": {
    "colab": {
     "base_uri": "https://localhost:8080/",
     "height": 275,
     "referenced_widgets": [
      "c9e482aaf5bd4f608c5518e3349232a5",
      "4fce872888374f46bb39c61e13fade73",
      "df835f7162e74e8d8199681d589f717f",
      "9254a75ecf294acbb0e6fc99beb8cb27",
      "3664a2a1eee84a869d9d324230deace0",
      "69af842c9cd7471cb715977a91313c72",
      "99b9f9163e104f2081becb4d2064b9f7",
      "d685090590de47dfae5284217e24710f",
      "4dec5cb8bc8246a7a39964011c03595a",
      "910853d7ff734ab68d8de8aea5926325",
      "7c2f0c93b10e49eb9ed9aa1524b7ae6e",
      "b22ed79fd9e54799ba97e7160e81fcf6",
      "96325200adfb4716bb81fce15567a629",
      "b68bdedb067d40d1ad0cbf9a962392f3",
      "bc1c4d1928e24f69b5cb62b136405e71",
      "1cac623de2c04158bb823f08b3b18100",
      "b64b4ff0de6e4700b28a1dd1e1045de3",
      "bc41da6164d4445f825b9d11d7a425c1",
      "47512eb1f9ec4f758ac13e1b6c45fb3f",
      "dc01cd37a77d4b5084f4c6fccdcc4908",
      "dc2fda0f9c5d4dfda03fda82dad97f04",
      "5ccfa140ed04497298d754f509a201e1",
      "ab794ddae6c146048137644449bee269",
      "d2f74443c0504e859a49afda5ef562ad",
      "5e377abff66c4c739c52a41ccc1f0826",
      "7fb4b5bf31024d39b3ad1a1904345532",
      "929c91521e5a4dc384fcb0d4cf920ce2",
      "d5848dec34ee4aebae1222a874980b3d",
      "d9688ee05515499d8265983bd6b49ba9",
      "014a7d6ecc634058a6a545d89121b596",
      "954c13c44d244553be103fef87323f8a",
      "1ec29620d4664f89a0fb733db5326555",
      "d8cad394da5840448863f9865f96b3c1",
      "678e080103344812896986ccfbfc79e5",
      "defb9f1e330e426fb4b66743be6b3e7f",
      "24de71cbe4d2485bbf17d92f8ed971d1",
      "4f2316e5938c4dd2bd30f9d4878551b9",
      "a68103e410c44af1a3c44a095ec706ee",
      "dd1019130ecc422ebcb90cb312752b12",
      "03234a6ed1c14e50b2acaea02872c394",
      "e5baf7f4e5fa4c8e849ce0f4753fbe8a",
      "6809a1b106a74276a01a421c7f508dfa",
      "52945ab660d94582b68a2e626d0a7a13",
      "14a5a543a11a49db85ff740223048cc9"
     ]
    },
    "executionInfo": {
     "elapsed": 13752,
     "status": "ok",
     "timestamp": 1707747808283,
     "user": {
      "displayName": "Chansol Lee",
      "userId": "05241681837433185221"
     },
     "user_tz": -540
    },
    "id": "tWnY0QQ6Nf7q",
    "outputId": "d50504f4-73ad-4e8e-928a-5c1ecc36e9c2"
   },
   "outputs": [
    {
     "name": "stderr",
     "output_type": "stream",
     "text": [
      "/usr/local/lib/python3.10/dist-packages/huggingface_hub/utils/_token.py:88: UserWarning: \n",
      "The secret `HF_TOKEN` does not exist in your Colab secrets.\n",
      "To authenticate with the Hugging Face Hub, create a token in your settings tab (https://huggingface.co/settings/tokens), set it as secret in your Google Colab and restart your session.\n",
      "You will be able to reuse this secret in all of your notebooks.\n",
      "Please note that authentication is recommended but still optional to access public models or datasets.\n",
      "  warnings.warn(\n"
     ]
    },
    {
     "data": {
      "application/vnd.jupyter.widget-view+json": {
       "model_id": "c9e482aaf5bd4f608c5518e3349232a5",
       "version_major": 2,
       "version_minor": 0
      },
      "text/plain": [
       "tokenizer_config.json:   0%|          | 0.00/28.0 [00:00<?, ?B/s]"
      ]
     },
     "metadata": {},
     "output_type": "display_data"
    },
    {
     "data": {
      "application/vnd.jupyter.widget-view+json": {
       "model_id": "b22ed79fd9e54799ba97e7160e81fcf6",
       "version_major": 2,
       "version_minor": 0
      },
      "text/plain": [
       "vocab.txt:   0%|          | 0.00/232k [00:00<?, ?B/s]"
      ]
     },
     "metadata": {},
     "output_type": "display_data"
    },
    {
     "data": {
      "application/vnd.jupyter.widget-view+json": {
       "model_id": "ab794ddae6c146048137644449bee269",
       "version_major": 2,
       "version_minor": 0
      },
      "text/plain": [
       "tokenizer.json:   0%|          | 0.00/466k [00:00<?, ?B/s]"
      ]
     },
     "metadata": {},
     "output_type": "display_data"
    },
    {
     "data": {
      "application/vnd.jupyter.widget-view+json": {
       "model_id": "678e080103344812896986ccfbfc79e5",
       "version_major": 2,
       "version_minor": 0
      },
      "text/plain": [
       "config.json:   0%|          | 0.00/570 [00:00<?, ?B/s]"
      ]
     },
     "metadata": {},
     "output_type": "display_data"
    }
   ],
   "source": [
    "import pandas as pd\n",
    "from transformers import BertTokenizer"
   ]
  },
  {
   "cell_type": "markdown",
   "metadata": {
    "id": "Q53ASCh9s81b"
   },
   "source": [
    "<br>\n",
    "\n",
    "#### `BertTokenizer.from_pretrained()` : BERT 토크나이저 객체"
   ]
  },
  {
   "cell_type": "code",
   "execution_count": null,
   "metadata": {
    "id": "xMp_VAAes3Wz"
   },
   "outputs": [],
   "source": [
    "tokenizer = BertTokenizer.from_pretrained(\"bert-base-uncased\") # Bert-base의 토크나이저"
   ]
  },
  {
   "cell_type": "code",
   "execution_count": null,
   "metadata": {
    "colab": {
     "base_uri": "https://localhost:8080/"
    },
    "executionInfo": {
     "elapsed": 2,
     "status": "ok",
     "timestamp": 1707747858772,
     "user": {
      "displayName": "Chansol Lee",
      "userId": "05241681837433185221"
     },
     "user_tz": -540
    },
    "id": "4tx1uecINipZ",
    "outputId": "e8e6c65e-3520-446c-91cb-4fc7aec6dc3f"
   },
   "outputs": [
    {
     "name": "stdout",
     "output_type": "stream",
     "text": [
      "['here', 'is', 'the', 'sentence', 'i', 'want', 'em', '##bed', '##ding', '##s', 'for', '.']\n"
     ]
    }
   ],
   "source": [
    "result = tokenizer.tokenize('Here is the sentence I want embeddings for.')\n",
    "print(result)"
   ]
  },
  {
   "cell_type": "markdown",
   "metadata": {
    "id": "0d3L1IoAtKg6"
   },
   "source": [
    "<br>\n",
    "\n",
    "#### `BERT토크나이저.vocab()` : BERT의 단어 집합에 특정 단어가 있는지 조회\n",
    "\n",
    "- 'here'이 정수 인코딩을 위해서 단어 집합 내부적으로 2182라는 정수로 맵핑되어져 있다는 의미"
   ]
  },
  {
   "cell_type": "code",
   "execution_count": null,
   "metadata": {
    "colab": {
     "base_uri": "https://localhost:8080/"
    },
    "executionInfo": {
     "elapsed": 570,
     "status": "ok",
     "timestamp": 1707747914885,
     "user": {
      "displayName": "Chansol Lee",
      "userId": "05241681837433185221"
     },
     "user_tz": -540
    },
    "id": "wR-IaDSJNj-R",
    "outputId": "337b59b7-1830-4bf8-ab65-eec7a58b2c49"
   },
   "outputs": [
    {
     "name": "stdout",
     "output_type": "stream",
     "text": [
      "2182\n"
     ]
    }
   ],
   "source": [
    "print(tokenizer.vocab['here'])"
   ]
  },
  {
   "cell_type": "markdown",
   "metadata": {
    "id": "lTTFjeyYtVFm"
   },
   "source": [
    "- 'embeddings' 단어가 존재하지 않는다는 의미"
   ]
  },
  {
   "cell_type": "code",
   "execution_count": null,
   "metadata": {
    "colab": {
     "base_uri": "https://localhost:8080/",
     "height": 184
    },
    "executionInfo": {
     "elapsed": 4,
     "status": "error",
     "timestamp": 1707747916925,
     "user": {
      "displayName": "Chansol Lee",
      "userId": "05241681837433185221"
     },
     "user_tz": -540
    },
    "id": "RTpXz-9GNkht",
    "outputId": "416702d9-f2f0-49cf-a7ac-8a1856fd73ac"
   },
   "outputs": [
    {
     "ename": "KeyError",
     "evalue": "'embeddings'",
     "output_type": "error",
     "traceback": [
      "\u001b[0;31m---------------------------------------------------------------------------\u001b[0m",
      "\u001b[0;31mKeyError\u001b[0m                                  Traceback (most recent call last)",
      "\u001b[0;32m<ipython-input-6-4ef7a948935c>\u001b[0m in \u001b[0;36m<cell line: 1>\u001b[0;34m()\u001b[0m\n\u001b[0;32m----> 1\u001b[0;31m \u001b[0mprint\u001b[0m\u001b[0;34m(\u001b[0m\u001b[0mtokenizer\u001b[0m\u001b[0;34m.\u001b[0m\u001b[0mvocab\u001b[0m\u001b[0;34m[\u001b[0m\u001b[0;34m'embeddings'\u001b[0m\u001b[0;34m]\u001b[0m\u001b[0;34m)\u001b[0m\u001b[0;34m\u001b[0m\u001b[0;34m\u001b[0m\u001b[0m\n\u001b[0m",
      "\u001b[0;31mKeyError\u001b[0m: 'embeddings'"
     ]
    }
   ],
   "source": [
    "print(tokenizer.vocab['embeddings'])"
   ]
  },
  {
   "cell_type": "markdown",
   "metadata": {
    "id": "36HDrKFktd_J"
   },
   "source": [
    "* **하지만 단어 em, ##bed, ##ing, ##s는 모두 단어 집합에 존재**"
   ]
  },
  {
   "cell_type": "code",
   "execution_count": null,
   "metadata": {
    "colab": {
     "base_uri": "https://localhost:8080/"
    },
    "executionInfo": {
     "elapsed": 3,
     "status": "ok",
     "timestamp": 1707747971056,
     "user": {
      "displayName": "Chansol Lee",
      "userId": "05241681837433185221"
     },
     "user_tz": -540
    },
    "id": "oT7UcmHANm3Z",
    "outputId": "06578846-9815-4cd1-e10a-bc903ce03560"
   },
   "outputs": [
    {
     "name": "stdout",
     "output_type": "stream",
     "text": [
      "7861\n"
     ]
    }
   ],
   "source": [
    "print(tokenizer.vocab['em'])"
   ]
  },
  {
   "cell_type": "code",
   "execution_count": null,
   "metadata": {
    "colab": {
     "base_uri": "https://localhost:8080/"
    },
    "executionInfo": {
     "elapsed": 635,
     "status": "ok",
     "timestamp": 1707747972714,
     "user": {
      "displayName": "Chansol Lee",
      "userId": "05241681837433185221"
     },
     "user_tz": -540
    },
    "id": "Gvwmp5L0NoHx",
    "outputId": "07243751-371b-4d24-ccdf-9f24b0d9a890"
   },
   "outputs": [
    {
     "name": "stdout",
     "output_type": "stream",
     "text": [
      "8270\n"
     ]
    }
   ],
   "source": [
    "print(tokenizer.vocab['##bed'])"
   ]
  },
  {
   "cell_type": "code",
   "execution_count": null,
   "metadata": {
    "colab": {
     "base_uri": "https://localhost:8080/"
    },
    "executionInfo": {
     "elapsed": 2,
     "status": "ok",
     "timestamp": 1707747972714,
     "user": {
      "displayName": "Chansol Lee",
      "userId": "05241681837433185221"
     },
     "user_tz": -540
    },
    "id": "1CXk_B0wNpbB",
    "outputId": "edd27857-b9fd-408f-f835-17d07c802417"
   },
   "outputs": [
    {
     "name": "stdout",
     "output_type": "stream",
     "text": [
      "4667\n"
     ]
    }
   ],
   "source": [
    "print(tokenizer.vocab['##ding'])"
   ]
  },
  {
   "cell_type": "code",
   "execution_count": null,
   "metadata": {
    "colab": {
     "base_uri": "https://localhost:8080/"
    },
    "executionInfo": {
     "elapsed": 3,
     "status": "ok",
     "timestamp": 1707747973759,
     "user": {
      "displayName": "Chansol Lee",
      "userId": "05241681837433185221"
     },
     "user_tz": -540
    },
    "id": "AfVJUntBNqoR",
    "outputId": "70c78c1b-1f74-498a-aeee-e551e98ad315"
   },
   "outputs": [
    {
     "name": "stdout",
     "output_type": "stream",
     "text": [
      "2015\n"
     ]
    }
   ],
   "source": [
    "print(tokenizer.vocab['##s'])"
   ]
  },
  {
   "cell_type": "markdown",
   "metadata": {
    "id": "lWnTsp0stjc-"
   },
   "source": [
    "<br>\n",
    "\n",
    "- BERT의 단어 집합 전체를 로드 : BERT의 단어 집합을 vocabulary.txt에 저장"
   ]
  },
  {
   "cell_type": "code",
   "execution_count": null,
   "metadata": {
    "id": "cwmikCL_NrvB"
   },
   "outputs": [],
   "source": [
    "with open('vocabulary.txt', 'w') as f:\n",
    "  for token in tokenizer.vocab.keys():\n",
    "    f.write(token + '\\n')"
   ]
  },
  {
   "cell_type": "code",
   "execution_count": null,
   "metadata": {
    "colab": {
     "base_uri": "https://localhost:8080/",
     "height": 206
    },
    "executionInfo": {
     "elapsed": 3,
     "status": "ok",
     "timestamp": 1707748010155,
     "user": {
      "displayName": "Chansol Lee",
      "userId": "05241681837433185221"
     },
     "user_tz": -540
    },
    "id": "LkJJMG4_Ns1p",
    "outputId": "b2ef3964-d765-4821-f4e6-a5092e265864"
   },
   "outputs": [
    {
     "data": {
      "text/html": [
       "\n",
       "  <div id=\"df-fbfe1955-58e0-48c4-bd0e-3574a8ab3be2\" class=\"colab-df-container\">\n",
       "    <div>\n",
       "<style scoped>\n",
       "    .dataframe tbody tr th:only-of-type {\n",
       "        vertical-align: middle;\n",
       "    }\n",
       "\n",
       "    .dataframe tbody tr th {\n",
       "        vertical-align: top;\n",
       "    }\n",
       "\n",
       "    .dataframe thead th {\n",
       "        text-align: right;\n",
       "    }\n",
       "</style>\n",
       "<table border=\"1\" class=\"dataframe\">\n",
       "  <thead>\n",
       "    <tr style=\"text-align: right;\">\n",
       "      <th></th>\n",
       "      <th>0</th>\n",
       "    </tr>\n",
       "  </thead>\n",
       "  <tbody>\n",
       "    <tr>\n",
       "      <th>0</th>\n",
       "      <td>[PAD]</td>\n",
       "    </tr>\n",
       "    <tr>\n",
       "      <th>1</th>\n",
       "      <td>[unused0]</td>\n",
       "    </tr>\n",
       "    <tr>\n",
       "      <th>2</th>\n",
       "      <td>[unused1]</td>\n",
       "    </tr>\n",
       "    <tr>\n",
       "      <th>3</th>\n",
       "      <td>[unused2]</td>\n",
       "    </tr>\n",
       "    <tr>\n",
       "      <th>4</th>\n",
       "      <td>[unused3]</td>\n",
       "    </tr>\n",
       "  </tbody>\n",
       "</table>\n",
       "</div>\n",
       "    <div class=\"colab-df-buttons\">\n",
       "\n",
       "  <div class=\"colab-df-container\">\n",
       "    <button class=\"colab-df-convert\" onclick=\"convertToInteractive('df-fbfe1955-58e0-48c4-bd0e-3574a8ab3be2')\"\n",
       "            title=\"Convert this dataframe to an interactive table.\"\n",
       "            style=\"display:none;\">\n",
       "\n",
       "  <svg xmlns=\"http://www.w3.org/2000/svg\" height=\"24px\" viewBox=\"0 -960 960 960\">\n",
       "    <path d=\"M120-120v-720h720v720H120Zm60-500h600v-160H180v160Zm220 220h160v-160H400v160Zm0 220h160v-160H400v160ZM180-400h160v-160H180v160Zm440 0h160v-160H620v160ZM180-180h160v-160H180v160Zm440 0h160v-160H620v160Z\"/>\n",
       "  </svg>\n",
       "    </button>\n",
       "\n",
       "  <style>\n",
       "    .colab-df-container {\n",
       "      display:flex;\n",
       "      gap: 12px;\n",
       "    }\n",
       "\n",
       "    .colab-df-convert {\n",
       "      background-color: #E8F0FE;\n",
       "      border: none;\n",
       "      border-radius: 50%;\n",
       "      cursor: pointer;\n",
       "      display: none;\n",
       "      fill: #1967D2;\n",
       "      height: 32px;\n",
       "      padding: 0 0 0 0;\n",
       "      width: 32px;\n",
       "    }\n",
       "\n",
       "    .colab-df-convert:hover {\n",
       "      background-color: #E2EBFA;\n",
       "      box-shadow: 0px 1px 2px rgba(60, 64, 67, 0.3), 0px 1px 3px 1px rgba(60, 64, 67, 0.15);\n",
       "      fill: #174EA6;\n",
       "    }\n",
       "\n",
       "    .colab-df-buttons div {\n",
       "      margin-bottom: 4px;\n",
       "    }\n",
       "\n",
       "    [theme=dark] .colab-df-convert {\n",
       "      background-color: #3B4455;\n",
       "      fill: #D2E3FC;\n",
       "    }\n",
       "\n",
       "    [theme=dark] .colab-df-convert:hover {\n",
       "      background-color: #434B5C;\n",
       "      box-shadow: 0px 1px 3px 1px rgba(0, 0, 0, 0.15);\n",
       "      filter: drop-shadow(0px 1px 2px rgba(0, 0, 0, 0.3));\n",
       "      fill: #FFFFFF;\n",
       "    }\n",
       "  </style>\n",
       "\n",
       "    <script>\n",
       "      const buttonEl =\n",
       "        document.querySelector('#df-fbfe1955-58e0-48c4-bd0e-3574a8ab3be2 button.colab-df-convert');\n",
       "      buttonEl.style.display =\n",
       "        google.colab.kernel.accessAllowed ? 'block' : 'none';\n",
       "\n",
       "      async function convertToInteractive(key) {\n",
       "        const element = document.querySelector('#df-fbfe1955-58e0-48c4-bd0e-3574a8ab3be2');\n",
       "        const dataTable =\n",
       "          await google.colab.kernel.invokeFunction('convertToInteractive',\n",
       "                                                    [key], {});\n",
       "        if (!dataTable) return;\n",
       "\n",
       "        const docLinkHtml = 'Like what you see? Visit the ' +\n",
       "          '<a target=\"_blank\" href=https://colab.research.google.com/notebooks/data_table.ipynb>data table notebook</a>'\n",
       "          + ' to learn more about interactive tables.';\n",
       "        element.innerHTML = '';\n",
       "        dataTable['output_type'] = 'display_data';\n",
       "        await google.colab.output.renderOutput(dataTable, element);\n",
       "        const docLink = document.createElement('div');\n",
       "        docLink.innerHTML = docLinkHtml;\n",
       "        element.appendChild(docLink);\n",
       "      }\n",
       "    </script>\n",
       "  </div>\n",
       "\n",
       "\n",
       "<div id=\"df-6e8d4720-c36b-4612-9ed5-a1ae7c1bb4c5\">\n",
       "  <button class=\"colab-df-quickchart\" onclick=\"quickchart('df-6e8d4720-c36b-4612-9ed5-a1ae7c1bb4c5')\"\n",
       "            title=\"Suggest charts\"\n",
       "            style=\"display:none;\">\n",
       "\n",
       "<svg xmlns=\"http://www.w3.org/2000/svg\" height=\"24px\"viewBox=\"0 0 24 24\"\n",
       "     width=\"24px\">\n",
       "    <g>\n",
       "        <path d=\"M19 3H5c-1.1 0-2 .9-2 2v14c0 1.1.9 2 2 2h14c1.1 0 2-.9 2-2V5c0-1.1-.9-2-2-2zM9 17H7v-7h2v7zm4 0h-2V7h2v10zm4 0h-2v-4h2v4z\"/>\n",
       "    </g>\n",
       "</svg>\n",
       "  </button>\n",
       "\n",
       "<style>\n",
       "  .colab-df-quickchart {\n",
       "      --bg-color: #E8F0FE;\n",
       "      --fill-color: #1967D2;\n",
       "      --hover-bg-color: #E2EBFA;\n",
       "      --hover-fill-color: #174EA6;\n",
       "      --disabled-fill-color: #AAA;\n",
       "      --disabled-bg-color: #DDD;\n",
       "  }\n",
       "\n",
       "  [theme=dark] .colab-df-quickchart {\n",
       "      --bg-color: #3B4455;\n",
       "      --fill-color: #D2E3FC;\n",
       "      --hover-bg-color: #434B5C;\n",
       "      --hover-fill-color: #FFFFFF;\n",
       "      --disabled-bg-color: #3B4455;\n",
       "      --disabled-fill-color: #666;\n",
       "  }\n",
       "\n",
       "  .colab-df-quickchart {\n",
       "    background-color: var(--bg-color);\n",
       "    border: none;\n",
       "    border-radius: 50%;\n",
       "    cursor: pointer;\n",
       "    display: none;\n",
       "    fill: var(--fill-color);\n",
       "    height: 32px;\n",
       "    padding: 0;\n",
       "    width: 32px;\n",
       "  }\n",
       "\n",
       "  .colab-df-quickchart:hover {\n",
       "    background-color: var(--hover-bg-color);\n",
       "    box-shadow: 0 1px 2px rgba(60, 64, 67, 0.3), 0 1px 3px 1px rgba(60, 64, 67, 0.15);\n",
       "    fill: var(--button-hover-fill-color);\n",
       "  }\n",
       "\n",
       "  .colab-df-quickchart-complete:disabled,\n",
       "  .colab-df-quickchart-complete:disabled:hover {\n",
       "    background-color: var(--disabled-bg-color);\n",
       "    fill: var(--disabled-fill-color);\n",
       "    box-shadow: none;\n",
       "  }\n",
       "\n",
       "  .colab-df-spinner {\n",
       "    border: 2px solid var(--fill-color);\n",
       "    border-color: transparent;\n",
       "    border-bottom-color: var(--fill-color);\n",
       "    animation:\n",
       "      spin 1s steps(1) infinite;\n",
       "  }\n",
       "\n",
       "  @keyframes spin {\n",
       "    0% {\n",
       "      border-color: transparent;\n",
       "      border-bottom-color: var(--fill-color);\n",
       "      border-left-color: var(--fill-color);\n",
       "    }\n",
       "    20% {\n",
       "      border-color: transparent;\n",
       "      border-left-color: var(--fill-color);\n",
       "      border-top-color: var(--fill-color);\n",
       "    }\n",
       "    30% {\n",
       "      border-color: transparent;\n",
       "      border-left-color: var(--fill-color);\n",
       "      border-top-color: var(--fill-color);\n",
       "      border-right-color: var(--fill-color);\n",
       "    }\n",
       "    40% {\n",
       "      border-color: transparent;\n",
       "      border-right-color: var(--fill-color);\n",
       "      border-top-color: var(--fill-color);\n",
       "    }\n",
       "    60% {\n",
       "      border-color: transparent;\n",
       "      border-right-color: var(--fill-color);\n",
       "    }\n",
       "    80% {\n",
       "      border-color: transparent;\n",
       "      border-right-color: var(--fill-color);\n",
       "      border-bottom-color: var(--fill-color);\n",
       "    }\n",
       "    90% {\n",
       "      border-color: transparent;\n",
       "      border-bottom-color: var(--fill-color);\n",
       "    }\n",
       "  }\n",
       "</style>\n",
       "\n",
       "  <script>\n",
       "    async function quickchart(key) {\n",
       "      const quickchartButtonEl =\n",
       "        document.querySelector('#' + key + ' button');\n",
       "      quickchartButtonEl.disabled = true;  // To prevent multiple clicks.\n",
       "      quickchartButtonEl.classList.add('colab-df-spinner');\n",
       "      try {\n",
       "        const charts = await google.colab.kernel.invokeFunction(\n",
       "            'suggestCharts', [key], {});\n",
       "      } catch (error) {\n",
       "        console.error('Error during call to suggestCharts:', error);\n",
       "      }\n",
       "      quickchartButtonEl.classList.remove('colab-df-spinner');\n",
       "      quickchartButtonEl.classList.add('colab-df-quickchart-complete');\n",
       "    }\n",
       "    (() => {\n",
       "      let quickchartButtonEl =\n",
       "        document.querySelector('#df-6e8d4720-c36b-4612-9ed5-a1ae7c1bb4c5 button');\n",
       "      quickchartButtonEl.style.display =\n",
       "        google.colab.kernel.accessAllowed ? 'block' : 'none';\n",
       "    })();\n",
       "  </script>\n",
       "</div>\n",
       "\n",
       "    </div>\n",
       "  </div>\n"
      ],
      "text/plain": [
       "           0\n",
       "0      [PAD]\n",
       "1  [unused0]\n",
       "2  [unused1]\n",
       "3  [unused2]\n",
       "4  [unused3]"
      ]
     },
     "execution_count": 12,
     "metadata": {},
     "output_type": "execute_result"
    }
   ],
   "source": [
    "df = pd.read_fwf('vocabulary.txt', header=None)\n",
    "df.head()"
   ]
  },
  {
   "cell_type": "code",
   "execution_count": null,
   "metadata": {
    "colab": {
     "base_uri": "https://localhost:8080/"
    },
    "executionInfo": {
     "elapsed": 519,
     "status": "ok",
     "timestamp": 1707748017446,
     "user": {
      "displayName": "Chansol Lee",
      "userId": "05241681837433185221"
     },
     "user_tz": -540
    },
    "id": "Uf1tI3LTNuyB",
    "outputId": "c4e9748f-52f8-4362-ac9d-40377b1457d5"
   },
   "outputs": [
    {
     "name": "stdout",
     "output_type": "stream",
     "text": [
      "단어 집합의 크기 : 30522\n"
     ]
    }
   ],
   "source": [
    "print('단어 집합의 크기 :',len(df))"
   ]
  },
  {
   "cell_type": "markdown",
   "metadata": {
    "id": "mJtmTQ3otv0v"
   },
   "source": [
    "- 정수로부터 맵핑된 단어를 확인"
   ]
  },
  {
   "cell_type": "code",
   "execution_count": null,
   "metadata": {
    "colab": {
     "base_uri": "https://localhost:8080/",
     "height": 35
    },
    "executionInfo": {
     "elapsed": 527,
     "status": "ok",
     "timestamp": 1707748043960,
     "user": {
      "displayName": "Chansol Lee",
      "userId": "05241681837433185221"
     },
     "user_tz": -540
    },
    "id": "oGe0aFCRNv3p",
    "outputId": "fa55de02-7e74-4cea-8381-0a94cc145ab4"
   },
   "outputs": [
    {
     "data": {
      "application/vnd.google.colaboratory.intrinsic+json": {
       "type": "string"
      },
      "text/plain": [
       "'##ding'"
      ]
     },
     "execution_count": 14,
     "metadata": {},
     "output_type": "execute_result"
    }
   ],
   "source": [
    "df.loc[4667].values[0]"
   ]
  },
  {
   "cell_type": "code",
   "execution_count": null,
   "metadata": {
    "colab": {
     "base_uri": "https://localhost:8080/",
     "height": 35
    },
    "executionInfo": {
     "elapsed": 3,
     "status": "ok",
     "timestamp": 1707748044525,
     "user": {
      "displayName": "Chansol Lee",
      "userId": "05241681837433185221"
     },
     "user_tz": -540
    },
    "id": "Dve_cUCUNxBh",
    "outputId": "ca459abf-f680-4b5e-f049-e154e04625d8"
   },
   "outputs": [
    {
     "data": {
      "application/vnd.google.colaboratory.intrinsic+json": {
       "type": "string"
      },
      "text/plain": [
       "'[SEP]'"
      ]
     },
     "execution_count": 15,
     "metadata": {},
     "output_type": "execute_result"
    }
   ],
   "source": [
    "df.loc[102].values[0]"
   ]
  },
  {
   "cell_type": "markdown",
   "metadata": {
    "id": "qkvgOHO7t3hs"
   },
   "source": [
    "<br>\n",
    "\n",
    "#### BERT에서 사용되는 특별 토큰들과 그와 맵핑되는 정수\n",
    "- [PAD] - 0\n",
    "- [UNK] - 100\n",
    "* [CLS] - 101\n",
    "* [SEP] - 102\n",
    "* [MASK] - 103\n"
   ]
  },
  {
   "cell_type": "code",
   "execution_count": null,
   "metadata": {
    "colab": {
     "base_uri": "https://localhost:8080/",
     "height": 35
    },
    "executionInfo": {
     "elapsed": 3,
     "status": "ok",
     "timestamp": 1707748106762,
     "user": {
      "displayName": "Chansol Lee",
      "userId": "05241681837433185221"
     },
     "user_tz": -540
    },
    "id": "ieRKATB6t_oX",
    "outputId": "1a7a3613-3d54-4d0e-e83c-4dda6167b157"
   },
   "outputs": [
    {
     "data": {
      "application/vnd.google.colaboratory.intrinsic+json": {
       "type": "string"
      },
      "text/plain": [
       "'[SEP]'"
      ]
     },
     "execution_count": 16,
     "metadata": {},
     "output_type": "execute_result"
    }
   ],
   "source": [
    "df.loc[102].values[0]"
   ]
  },
  {
   "cell_type": "markdown",
   "metadata": {
    "id": "RbmMEneZuBVA"
   },
   "source": [
    "<br>\n",
    "\n",
    "### 포지션 임베딩(Position Embedding)\n",
    "- 트랜스포머에서는 포지셔널 인코딩(Positional Encoding)이라는 방법을 통해서 단어의 위치 정보를 표현\n",
    "  - 포지셔널 인코딩은 사인 함수와 코사인 함수를 사용하여 위치에 따라, 다른 값을 가지는 행렬을 만들어 이를 단어 벡터들과 더하는 방법\n",
    "- **BERT에서는 이와 유사하지만, 위치 정보를 사인 함수와 코사인 함수로 만드는 것이 아닌,**\n",
    "  \n",
    "  **학습을 통해서 얻는 포지션 임베딩(Position Embedding)이라는 방법을 사용**\n",
    "\n",
    "<img src='https://wikidocs.net/images/page/115055/%EA%B7%B8%EB%A6%BC5.PNG'>\n",
    "\n",
    "- 위의 그림은 포지션 임베딩을 사용하는 방법\n",
    "- 위의 그림에서 WordPiece Embedding은 우리가 이미 알고 있는 단어 임베딩으로 실질적인 입력\n",
    "  \n",
    "  이 입력에 포지션 임베딩을 통해서 위치 정보를 더해줌\n",
    "  \n",
    "  **여기서 포지션 임베딩의 아이디어는 위치 정보를 위한 임베딩 층(Embedding layer)을 하나 더 사용하는 것**\n",
    "  \n",
    "  - 문장의 길이가 4라면, 4개의 포지션 임베딩 벡터를 학습. 그리고 BERT의 입력마다 다음과 같이 포지션 임베딩 벡터를 더해줌\n",
    "\n",
    "> 첫번째 단어의 임베딩 벡터 + 0번 포지션 임베딩 벡터\n",
    ">\n",
    "> 두번째 단어의 임베딩 벡터 + 1번 포지션 임베딩 벡터\n",
    ">\n",
    "> 세번째 단어의 임베딩 벡터 + 2번 포지션 임베딩 벡터\n",
    ">\n",
    "> 네번째 단어의 임베딩 벡터 + 3번 포지션 임베딩 벡터\n",
    "\n",
    "<br>\n",
    "\n",
    "- **실제 BERT에서는 문장의 최대 길이를 512로 하고 있으므로, 총 512개의 포지션 임베딩 벡터가 학습**\n",
    "- **결론적으로 현재 설명한 내용을 기준으로는 BERT에서는 총 두 개의 임베딩 층이 사용**\n",
    "- 단어 집합의 크기가 30,522개인 단어 벡터를 위한 임베딩 층과 문장의 최대 길이가 512이므로, 512개의 포지션 벡터를 위한 임베딩 층\n",
    "\n",
    "* **추가적으로 BERT는 세그먼트 임베딩(Segment Embedding)이라는 1개의 임베딩 층을 더 사용**\n",
    "\n"
   ]
  },
  {
   "cell_type": "markdown",
   "metadata": {
    "id": "1CHgK2RquSFw"
   },
   "source": [
    "<br>\n",
    "\n",
    "### BERT의 사전 훈련 (Pre-training)\n",
    "\n",
    "<img src='https://wikidocs.net/images/page/35594/bert-openai-gpt-elmo-%EC%B6%9C%EC%B2%98-bert%EB%85%BC%EB%AC%B8.png'>\n",
    "\n",
    "- 위의 그림은 BERT의 논문에 첨부된 그림으로 ELMo와 GPT-1, 그리고 BERT의 구조적인 차이를 보여줌\n",
    "- **가장 우측 그림의 ELMo는 정방향 LSTM과 역방향 LSTM을 각각 훈련시키는 방식으로 양방향 언어 모델을 생성**\n",
    "- **가운데 그림의 GPT-1은 트랜스포머의 디코더를 이전 단어들로부터 다음 단어를 예측하는 방식으로 단방향 언어 모델을 생성**\n",
    "  - Trm은 트랜스포머를 의미\n",
    "\n",
    "- **단방향(→)으로 설계된 Open AI GPT와 달리 가장 좌측 그림의 BERT는 화살표가 양방향으로 뻗어나가는 모습**\n",
    "  \n",
    "  **이는 마스크드 언어 모델(Masked Language Model)을 통해 양방향성을 얻었기 때문**\n",
    "\n",
    "- **BERT의 사전 훈련 방법은 크게 두 가지**\n",
    "1. 마스크드 언어 모델\n",
    "2. 다음 문장 예측(Next sentence prediction, NSP)\n",
    "\n",
    "- 논문에 따르면 BERT는 BookCorpus(8억 단어)와 위키피디아(25억 단어)로 학습\n"
   ]
  },
  {
   "cell_type": "markdown",
   "metadata": {
    "id": "f42WYy6Dv4Ak"
   },
   "source": [
    "<br>\n",
    "\n",
    "#### 1) 마스크드 언어 모델(Masked Language Model, MLM)\n",
    "- **BERT는 사전 훈련을 위해서 인공 신경망의 입력으로 들어가는 입력 텍스트의 15%의 단어를 랜덤으로 마스킹(Masking)**\n",
    "  \n",
    "  $\\rightarrow$ **그리고 인공 신경망에게 이 가려진 단어들을(Masked words) 예측하도록 설정**\n",
    "  \n",
    "  $\\rightarrow$ **중간에 단어들에 구멍을 뚫어놓고, 구멍에 들어갈 단어들을 예측하게 하는 방식**\n",
    "\n",
    "  - 예를 들어 '나는 [MASK]에 가서 그곳에서 빵과 [MASK]를 샀다'를 주고 '슈퍼'와 '우유'를 맞추게 함\n",
    "\n",
    "<br>\n",
    "\n",
    "- **더 정확히는 전부 [MASK]로 변경하지는 않고, 랜덤으로 선택된 15%의 단어들은 다시 다음과 같은 비율로 규칙이 적용**\n",
    "  - **80%의 단어들은 [MASK]로 변경**\n",
    "  \n",
    "    Ex) The man went to the store → The man went to the [MASK]\n",
    "\n",
    "  - **10%의 단어들은 랜덤으로 단어가 변경**\n",
    "\n",
    "    Ex) The man went to the store → The man went to the dog\n",
    "\n",
    "  - **10%의 단어들은 동일**\n",
    "\n",
    "    Ex) The man went to the store → The man went to the store\n",
    "\n",
    "- **이렇게 하는 이유는 [MASK]만 사용할 경우에는, [MASK] 토큰이 파인 튜닝 단계에서는 나타나지 않으므로**\n",
    "  \n",
    "  **사전 학습 단계와 파인 튜닝 단계에서의 불일치가 발생하는 문제가 발생하기 때문**\n",
    "  \n",
    "  $→$ **이 문제을 완화하기 위해서 랜덤으로 선택된 15%의 단어들의 모든 토큰을 [MASK]로 사용하지 않음**\n",
    "  \n",
    "<br>\n",
    "\n",
    "#### 마스킹 비율\n",
    "\n",
    "<img src='https://wikidocs.net/images/page/115055/%EC%A0%84%EC%B2%B4%EB%8B%A8%EC%96%B4.PNG'>\n",
    "\n",
    "- 전체 단어의 85%는 마스크드 언어 모델의 학습에 사용되지 않음\n",
    "- **마스크드 언어 모델의 학습에 사용되는 단어는 전체 단어의 15%**\n",
    "- 학습에 사용되는 12%는 [MASK]로 변경 후에 원래 단어를 예측\n",
    "- 1.5%는 랜덤으로 단어가 변경된 후에 원래 단어를 예측\n",
    "- 1.5%는 단어가 변경되지는 않았지만, BERT는 이 단어가 변경된 단어인지 원래 단어가 맞는지는 알 수 없음\n",
    "  \n",
    "  $\\rightarrow$ 이 경우에도 BERT는 원래 단어가 무엇인지를 예측\n",
    "\n",
    "<br>\n",
    "\n",
    "#### 마스크드 언어 모델 과정\n",
    "\n",
    "- 'My dog is cute. he likes playing'이라는 문장에 대해서 마스크드 언어 모델을 학습\n",
    "  \n",
    "  $→$ 약간의 전처리와 BERT의 서브워드 토크나이저에 의해 이 문장은 ['my', 'dog', 'is' 'cute', 'he', 'likes', 'play', '##ing']로 토큰화\n",
    "  \n",
    "  $→$ BERT의 입력으로 사용\n",
    "  \n",
    "  $\\rightarrow$ 언어 모델 학습을 위해서 다음과 같이 데이터가 변경되었다고 가정\n",
    "\n",
    "> 'dog' 토큰은 [MASK]로 변경\n",
    "\n",
    "<img src='https://wikidocs.net/images/page/115055/%EA%B7%B8%EB%A6%BC8.PNG'>\n",
    "\n",
    "- 위 그림은 'dog' 토큰이 [MASK]로 변경되어서 BERT 모델이 원래 단어를 맞추려고 하는 모습\n",
    "- **여기서 출력층에 있는 다른 위치의 벡터들은 예측과 학습에 사용되지 않고,**\n",
    "  \n",
    "  **오직 'dog' 위치의 출력층의 벡터만이 사용**\n",
    "  \n",
    "  - **구체적으로는 BERT의 손실 함수에서 다른 위치에서의 예측은 무시**\n",
    "- **출력층에서는 예측을 위해 단어 집합의 크기만큼의 밀집층(Dense layer)에 소프트맥스 함수가 사용된 1개의 층을 사용하여 원래 단어가 무엇인지를 맞추게 됨**\n",
    "\n",
    "<br>\n",
    "\n",
    "> 'dog' 토큰은 [MASK]로 변경\n",
    ">\n",
    "> 'he'는 랜덤 단어 'king'으로 변경\n",
    ">\n",
    "> 'play'는 변경되진 않았지만 예측에 사용\n",
    "\n",
    "<img src='https://wikidocs.net/images/page/115055/%EA%B7%B8%EB%A6%BC9.PNG'>\n",
    "\n",
    "- **BERT는 랜덤 단어 'king'으로 변경된 토큰에 대해서도 원래 단어가 무엇인지, 변경되지 않은 단어 'play'에 대해서도 원래 단어가 무엇인지를 예측**\n",
    "- **'play'는 변경되지 않았지만, BERT 입장에서는 이것이 변경된 단어인지 아닌지 모르므로 마찬가지로 원래 단어를 예측**\n",
    "\n",
    "\n",
    "\n",
    "\n"
   ]
  },
  {
   "cell_type": "markdown",
   "metadata": {
    "id": "-wE9ZtMBv_Ur"
   },
   "source": [
    "<br>\n",
    "\n",
    "#### 2) 다음 문장 예측(Next Sentence Prediction, NSP)\n",
    "- **BERT는 마스크드 언어 모델 외에도 다음 문장 예측이라는 또 다른 태스크를 학습**\n",
    "- **BERT는 두 개의 문장을 준 후에 이 문장이 이어지는 문장인지 아닌지를 맞추는 방식으로 훈련**\n",
    "  \n",
    "  $→$ 이를 위해서 50:50 비율로 실제 이어지는 두 개의 문장과, 랜덤으로 이어붙인 두 개의 문장을 주고 훈련\n",
    "  \n",
    "  $\\rightarrow$ 이를 각각 Sentence A와 Sentence B라고 하였을 때\n",
    "\n",
    "> - 이어지는 문장의 경우\n",
    "> > Sentence A : The man went to the store.\n",
    "> >\n",
    "> > Sentence B : He bought a gallon of milk.\n",
    "> >\n",
    "> > Label = IsNextSentence\n",
    ">\n",
    "> - 이어지는 문장이 아닌 경우\n",
    "> > Sentence A : The man went to the store.\n",
    "> >\n",
    "> > Sentence B : dogs are so cute.\n",
    "> >\n",
    "> > Label = NotNextSentence\n",
    "\n",
    "<br>\n",
    "\n",
    "<img src='https://wikidocs.net/images/page/115055/%EA%B7%B8%EB%A6%BC10.PNG'>\n",
    "\n",
    "- **BERT의 입력으로 넣을 때에는 [SEP]라는 특별 토큰을 사용해서 문장을 구분**\n",
    "  - 첫번째 문장의 끝에 [SEP] 토큰을 넣고, 두번째 문장이 끝나면 역시 [SEP] 토큰을 붙임\n",
    "- **그리고 이 두 문장이 실제 이어지는 문장인지 아닌지를, [CLS] 토큰의 위치의 출력층에서 이진 분류 문제로 연결**\n",
    "  - [CLS] 토큰은 BERT가 분류 문제를 풀기 위해 추가된 특별 토큰\n",
    "- **그리고 위의 그림에서 나타난 것과 같이 마스크드 언어 모델과 다음 문장 예측은 따로 학습하는 것이 아닌, loss를 합하여 학습이 동시에 이루어짐**\n",
    "\n",
    "<br>\n",
    "\n",
    "- **BERT가 언어 모델 외에도 다음 문장 예측이라는 태스크를 학습하는 이유는**\n",
    "  \n",
    "  **BERT가 풀고자 하는 태스크 중에서는 QA(Question Answering)나 NLI(Natural Language Inference)와 같이 두 문장의 관계를 이해하는 것이 중요한 태스크들이 존재하기 때문**\n",
    "\n",
    "\n"
   ]
  },
  {
   "cell_type": "markdown",
   "metadata": {
    "id": "lxQB7qNkwB1i"
   },
   "source": [
    "<br>\n",
    "\n",
    "### 세그먼트 임베딩(Segment Embedding)\n",
    "\n",
    "<img src='https://wikidocs.net/images/page/115055/%EA%B7%B8%EB%A6%BC7.PNG'>\n",
    "\n",
    "- BERT는 QA 등과 같은 두 개의 문장 입력이 필요한 태스크에 사용\n",
    "- **문장 구분을 위해서 BERT는 세그먼트 임베딩이라는 또 다른 임베딩 층(Embedding layer)을 사용**\n",
    "- **첫번째 문장에는 Sentence 0 임베딩, 두번째 문장에는 Sentence 1 임베딩을 더해주는 방식이며, 임베딩 벡터는 두 개만 사용**\n",
    "\n",
    "<br>\n",
    "\n",
    "#### 결론적으로 BERT는 총 3개의 임베딩 층이 사용\n",
    "1. WordPiece Embedding : 실질적인 입력이 되는 워드 임베딩. 임베딩 벡터의 종류는 단어 집합의 크기로 30,522개.\n",
    "2. Position Embedding : 위치 정보를 학습하기 위한 임베딩. 임베딩 벡터의 종류는 문장의 최대 길이인 512개.\n",
    "3. Segment Embedding : 두 개의 문장을 구분하기 위한 임베딩. 임베딩 벡터의 종류는 문장의 최대 개수인 2개.\n",
    "\n",
    "<br>\n",
    "\n",
    "#### BERT에 여러 문장이 입력되는 경우\n",
    "- **많은 문헌에서 BERT가 문장 중간의 [SEP] 토큰과 두 종류의 세그먼트 임베딩을 통해서 두 개의 문장을 구분하여 입력받을 수 있다고 설명하고 있지만,**\n",
    "  \n",
    "  **BERT에 두 개의 문장이 들어간다는 표현에서 문장이라는 것은 실제 우리가 알고 있는 문장의 단위가 아님**\n",
    "  \n",
    "- **예를 들어 QA 문제를 푸는 경우에는 [SEP]와 세그먼트 임베딩을 기준으로 구분되는 [질문(Question), 본문(Paragraph)] 두 종류의 텍스트를 입력받지만,**\n",
    "    \n",
    "  **본문(Paragraph) 1개는 실제로는 다수의 문장으로 구성될수 있음**\n",
    "    \n",
    "  $\\rightarrow$ **[SEP]과 세그먼트 임베딩으로 구분되는 BERT의 입력에서, 두 개의 문장은 실제로는 두 종류의 텍스트, 두 개의 문서일 수 있음**\n",
    "\n",
    "<br>\n",
    "\n",
    "#### BERT가 두 개의 문장을 입력받을 필요가 없는 경우\n",
    "- **IMDB 리뷰 분류와 같은 감성 분류 태스크에서**\n",
    "\n",
    "  **한 개의 문서에 대해서만 분류를 하는 것이므로, 이 경우에는 BERT의 전체 입력에 Sentence 0 임베딩만을 더해줌**\n",
    "\n"
   ]
  },
  {
   "cell_type": "markdown",
   "metadata": {
    "id": "Rvpuv9VnwEhm"
   },
   "source": [
    "<br>\n",
    "\n",
    "### BERT 파인 튜닝 (Fine-Tuning)\n",
    "- **사전 학습 된 BERT에 우리가 풀고자 하는 태스크의 데이터를 추가로 학습 시켜서 테스트하는 단계**\n",
    "- 실질적으로 태스크에 BERT를 사용하는 단계"
   ]
  },
  {
   "cell_type": "markdown",
   "metadata": {
    "id": "BNsXVUP9wHvN"
   },
   "source": [
    "<br>\n",
    "\n",
    "#### 1) 하나의 텍스트에 대한 텍스트 분류 유형(Single Text Classification)\n",
    "\n",
    "<img src='https://wikidocs.net/images/page/115055/apply1.PNG'>\n",
    "\n",
    "- **영화 리뷰 감성 분류, 로이터 뉴스 분류 등과 같이 입력된 문서에 대해서 분류를 하는 유형**\n",
    "- **문서의 시작에 [CLS] 라는 토큰을 입력**\n",
    "  - [CLS] 토큰은 BERT가 분류 문제를 풀기위한 특별 토큰이며, 이는 BERT를 실질적으로 사용하는 단계인 파인 튜닝 단계에서도 동일\n",
    "- **텍스트 분류 문제를 풀기 위해서 [CLS] 토큰의 위치의 출력층에서 밀집층(Dense layer) 또는 같은 이름으로는 완전 연결층(fully-connected layer)이라고 불리는 층들을 추가하여 분류에 대한 예측**\n"
   ]
  },
  {
   "cell_type": "markdown",
   "metadata": {
    "id": "rATK0H1SwJhG"
   },
   "source": [
    "<br>\n",
    "\n",
    "#### 2) 하나의 텍스트에 대한 태깅 작업(Tagging)\n",
    "\n",
    "<img src='https://wikidocs.net/images/page/115055/apply2.PNG'>\n",
    "\n",
    "- 대표적으로 문장의 각 단어에 품사를 태깅하는 품사 태깅 작업과 개체를 태깅하는 개체명 인식 작업\n",
    "- **출력층에서 입력 텍스트의 각 토큰의 위치에 밀집층을 사용하여 분류에 대한 예측**\n"
   ]
  },
  {
   "cell_type": "markdown",
   "metadata": {
    "id": "eeNtYN9iwZQk"
   },
   "source": [
    "<br>\n",
    "\n",
    "#### 3) 텍스트의 쌍에 대한 분류 또는 회귀 문제(Text Pair Classification or Regression)\n",
    "\n",
    "<img src='https://wikidocs.net/images/page/115055/apply3.PNG'>\n",
    "\n",
    "- **텍스트의 쌍을 입력으로 받는 대표적인 태스크로 자연어 추론(Natural language inference)**\n",
    "  - **자연어 추론 문제 : 두 문장이 주어졌을 때, 하나의 문장이 다른 문장과 논리적으로 어떤 관계에 있는지를 분류**\n",
    "  - 유형으로는 모순 관계(contradiction), 함의 관계(entailment), 중립 관계(neutral)\n",
    "\n",
    "- **텍스트의 쌍을 입력받는 이러한 태스크의 경우에는 입력 텍스트가 1개가 아니므로, 텍스트 사이에 [SEP] 토큰을 집어넣고,**\n",
    "  \n",
    "  $\\rightarrow$ **Sentence 0 임베딩과 Sentence 1 임베딩이라는 두 종류의 세그먼트 임베딩을 모두 사용하여 문서를 구분**\n"
   ]
  },
  {
   "cell_type": "markdown",
   "metadata": {
    "id": "iDIIkOCTwZTq"
   },
   "source": [
    "<br>\n",
    "\n",
    "#### 4) 질의 응답(Question Answering)\n",
    "\n",
    "<img src='https://wikidocs.net/images/page/115055/apply4.PNG'>\n",
    "\n",
    "- 텍스트의 쌍을 입력으로 받는 또 다른 태스크로 QA(Question Answering)\n",
    "- **BERT로 QA를 풀기 위해서 '질문'과 '본문'이라는 두 개의 텍스트의 쌍을 입력**\n",
    "  - 이 태스크의 대표적인 데이터셋으로 SQuAD(Stanford Question Answering Dataset) v1.1\n",
    "- **질문과 본문을 입력받으면, 본문의 일부분을 추출해서 질문에 답변**\n",
    "\n",
    "  Q : \"강우가 떨어지도록 영향을 주는 것은?\"\n",
    "  \n",
    "  A : \"기상학에서 강우는 대기 수증기가 응결되어 `중력`의 영향을 받고 떨어지는 것을 의미합니다. 강우의 주요 형태는 이슬비, 비, 진눈깨비, 눈, 싸락눈 및 우박이 있습니다.\"\n",
    "\n",
    "  **라는 본문이 주어졌을 때 $→$ 정답은 \"중력\"**\n"
   ]
  },
  {
   "cell_type": "markdown",
   "metadata": {
    "id": "msCAWMqFwZWo"
   },
   "source": [
    "<br>\n",
    "\n",
    "### 어텐션 마스크 (Attention Mask)\n",
    "\n",
    "<img src='https://wikidocs.net/images/page/115055/%EA%B7%B8%EB%A6%BC11.PNG'>\n",
    "\n",
    "- **BERT를 실제로 실습하게 되면 어텐션 마스크라는 시퀀스 입력이 추가로 필요**\n",
    "- **어텐션 마스크는 BERT가 어텐션 연산을 할 때, 불필요하게 패딩 토큰에 대해서 어텐션을 하지 않도록,**\n",
    "  \n",
    "  **실제 단어와 패딩 토큰을 구분할 수 있도록 알려주는 입력**\n",
    "  \n",
    "- **0과 1 두 가지 값을 가짐**\n",
    "  \n",
    "  - 숫자 1 : 해당 토큰은 실제 단어이므로 마스킹을 하지 않는다라는 의미\n",
    "  \n",
    "  - 숫자 0 : 해당 토큰은 패딩 토큰이므로 마스킹을 한다는 의미\n",
    "  \n",
    "- 위의 그림과 같이 실제 단어의 위치에는 1, 패딩 토큰의 위치에는 0의 값을 가지는 시퀀스를 만들어 BERT의 또 다른 입력으로 사용\n"
   ]
  }
 ],
 "metadata": {
  "accelerator": "TPU",
  "colab": {
   "provenance": []
  },
  "kernelspec": {
   "display_name": "Python 3 (ipykernel)",
   "language": "python",
   "name": "python3"
  },
  "language_info": {
   "codemirror_mode": {
    "name": "ipython",
    "version": 3
   },
   "file_extension": ".py",
   "mimetype": "text/x-python",
   "name": "python",
   "nbconvert_exporter": "python",
   "pygments_lexer": "ipython3",
   "version": "3.9.13"
  },
  "widgets": {
   "application/vnd.jupyter.widget-state+json": {
    "014a7d6ecc634058a6a545d89121b596": {
     "model_module": "@jupyter-widgets/base",
     "model_module_version": "1.2.0",
     "model_name": "LayoutModel",
     "state": {
      "_model_module": "@jupyter-widgets/base",
      "_model_module_version": "1.2.0",
      "_model_name": "LayoutModel",
      "_view_count": null,
      "_view_module": "@jupyter-widgets/base",
      "_view_module_version": "1.2.0",
      "_view_name": "LayoutView",
      "align_content": null,
      "align_items": null,
      "align_self": null,
      "border": null,
      "bottom": null,
      "display": null,
      "flex": null,
      "flex_flow": null,
      "grid_area": null,
      "grid_auto_columns": null,
      "grid_auto_flow": null,
      "grid_auto_rows": null,
      "grid_column": null,
      "grid_gap": null,
      "grid_row": null,
      "grid_template_areas": null,
      "grid_template_columns": null,
      "grid_template_rows": null,
      "height": null,
      "justify_content": null,
      "justify_items": null,
      "left": null,
      "margin": null,
      "max_height": null,
      "max_width": null,
      "min_height": null,
      "min_width": null,
      "object_fit": null,
      "object_position": null,
      "order": null,
      "overflow": null,
      "overflow_x": null,
      "overflow_y": null,
      "padding": null,
      "right": null,
      "top": null,
      "visibility": null,
      "width": null
     }
    },
    "03234a6ed1c14e50b2acaea02872c394": {
     "model_module": "@jupyter-widgets/controls",
     "model_module_version": "1.5.0",
     "model_name": "DescriptionStyleModel",
     "state": {
      "_model_module": "@jupyter-widgets/controls",
      "_model_module_version": "1.5.0",
      "_model_name": "DescriptionStyleModel",
      "_view_count": null,
      "_view_module": "@jupyter-widgets/base",
      "_view_module_version": "1.2.0",
      "_view_name": "StyleView",
      "description_width": ""
     }
    },
    "14a5a543a11a49db85ff740223048cc9": {
     "model_module": "@jupyter-widgets/controls",
     "model_module_version": "1.5.0",
     "model_name": "DescriptionStyleModel",
     "state": {
      "_model_module": "@jupyter-widgets/controls",
      "_model_module_version": "1.5.0",
      "_model_name": "DescriptionStyleModel",
      "_view_count": null,
      "_view_module": "@jupyter-widgets/base",
      "_view_module_version": "1.2.0",
      "_view_name": "StyleView",
      "description_width": ""
     }
    },
    "1cac623de2c04158bb823f08b3b18100": {
     "model_module": "@jupyter-widgets/base",
     "model_module_version": "1.2.0",
     "model_name": "LayoutModel",
     "state": {
      "_model_module": "@jupyter-widgets/base",
      "_model_module_version": "1.2.0",
      "_model_name": "LayoutModel",
      "_view_count": null,
      "_view_module": "@jupyter-widgets/base",
      "_view_module_version": "1.2.0",
      "_view_name": "LayoutView",
      "align_content": null,
      "align_items": null,
      "align_self": null,
      "border": null,
      "bottom": null,
      "display": null,
      "flex": null,
      "flex_flow": null,
      "grid_area": null,
      "grid_auto_columns": null,
      "grid_auto_flow": null,
      "grid_auto_rows": null,
      "grid_column": null,
      "grid_gap": null,
      "grid_row": null,
      "grid_template_areas": null,
      "grid_template_columns": null,
      "grid_template_rows": null,
      "height": null,
      "justify_content": null,
      "justify_items": null,
      "left": null,
      "margin": null,
      "max_height": null,
      "max_width": null,
      "min_height": null,
      "min_width": null,
      "object_fit": null,
      "object_position": null,
      "order": null,
      "overflow": null,
      "overflow_x": null,
      "overflow_y": null,
      "padding": null,
      "right": null,
      "top": null,
      "visibility": null,
      "width": null
     }
    },
    "1ec29620d4664f89a0fb733db5326555": {
     "model_module": "@jupyter-widgets/base",
     "model_module_version": "1.2.0",
     "model_name": "LayoutModel",
     "state": {
      "_model_module": "@jupyter-widgets/base",
      "_model_module_version": "1.2.0",
      "_model_name": "LayoutModel",
      "_view_count": null,
      "_view_module": "@jupyter-widgets/base",
      "_view_module_version": "1.2.0",
      "_view_name": "LayoutView",
      "align_content": null,
      "align_items": null,
      "align_self": null,
      "border": null,
      "bottom": null,
      "display": null,
      "flex": null,
      "flex_flow": null,
      "grid_area": null,
      "grid_auto_columns": null,
      "grid_auto_flow": null,
      "grid_auto_rows": null,
      "grid_column": null,
      "grid_gap": null,
      "grid_row": null,
      "grid_template_areas": null,
      "grid_template_columns": null,
      "grid_template_rows": null,
      "height": null,
      "justify_content": null,
      "justify_items": null,
      "left": null,
      "margin": null,
      "max_height": null,
      "max_width": null,
      "min_height": null,
      "min_width": null,
      "object_fit": null,
      "object_position": null,
      "order": null,
      "overflow": null,
      "overflow_x": null,
      "overflow_y": null,
      "padding": null,
      "right": null,
      "top": null,
      "visibility": null,
      "width": null
     }
    },
    "24de71cbe4d2485bbf17d92f8ed971d1": {
     "model_module": "@jupyter-widgets/controls",
     "model_module_version": "1.5.0",
     "model_name": "FloatProgressModel",
     "state": {
      "_dom_classes": [],
      "_model_module": "@jupyter-widgets/controls",
      "_model_module_version": "1.5.0",
      "_model_name": "FloatProgressModel",
      "_view_count": null,
      "_view_module": "@jupyter-widgets/controls",
      "_view_module_version": "1.5.0",
      "_view_name": "ProgressView",
      "bar_style": "success",
      "description": "",
      "description_tooltip": null,
      "layout": "IPY_MODEL_e5baf7f4e5fa4c8e849ce0f4753fbe8a",
      "max": 570,
      "min": 0,
      "orientation": "horizontal",
      "style": "IPY_MODEL_6809a1b106a74276a01a421c7f508dfa",
      "value": 570
     }
    },
    "3664a2a1eee84a869d9d324230deace0": {
     "model_module": "@jupyter-widgets/base",
     "model_module_version": "1.2.0",
     "model_name": "LayoutModel",
     "state": {
      "_model_module": "@jupyter-widgets/base",
      "_model_module_version": "1.2.0",
      "_model_name": "LayoutModel",
      "_view_count": null,
      "_view_module": "@jupyter-widgets/base",
      "_view_module_version": "1.2.0",
      "_view_name": "LayoutView",
      "align_content": null,
      "align_items": null,
      "align_self": null,
      "border": null,
      "bottom": null,
      "display": null,
      "flex": null,
      "flex_flow": null,
      "grid_area": null,
      "grid_auto_columns": null,
      "grid_auto_flow": null,
      "grid_auto_rows": null,
      "grid_column": null,
      "grid_gap": null,
      "grid_row": null,
      "grid_template_areas": null,
      "grid_template_columns": null,
      "grid_template_rows": null,
      "height": null,
      "justify_content": null,
      "justify_items": null,
      "left": null,
      "margin": null,
      "max_height": null,
      "max_width": null,
      "min_height": null,
      "min_width": null,
      "object_fit": null,
      "object_position": null,
      "order": null,
      "overflow": null,
      "overflow_x": null,
      "overflow_y": null,
      "padding": null,
      "right": null,
      "top": null,
      "visibility": null,
      "width": null
     }
    },
    "47512eb1f9ec4f758ac13e1b6c45fb3f": {
     "model_module": "@jupyter-widgets/base",
     "model_module_version": "1.2.0",
     "model_name": "LayoutModel",
     "state": {
      "_model_module": "@jupyter-widgets/base",
      "_model_module_version": "1.2.0",
      "_model_name": "LayoutModel",
      "_view_count": null,
      "_view_module": "@jupyter-widgets/base",
      "_view_module_version": "1.2.0",
      "_view_name": "LayoutView",
      "align_content": null,
      "align_items": null,
      "align_self": null,
      "border": null,
      "bottom": null,
      "display": null,
      "flex": null,
      "flex_flow": null,
      "grid_area": null,
      "grid_auto_columns": null,
      "grid_auto_flow": null,
      "grid_auto_rows": null,
      "grid_column": null,
      "grid_gap": null,
      "grid_row": null,
      "grid_template_areas": null,
      "grid_template_columns": null,
      "grid_template_rows": null,
      "height": null,
      "justify_content": null,
      "justify_items": null,
      "left": null,
      "margin": null,
      "max_height": null,
      "max_width": null,
      "min_height": null,
      "min_width": null,
      "object_fit": null,
      "object_position": null,
      "order": null,
      "overflow": null,
      "overflow_x": null,
      "overflow_y": null,
      "padding": null,
      "right": null,
      "top": null,
      "visibility": null,
      "width": null
     }
    },
    "4dec5cb8bc8246a7a39964011c03595a": {
     "model_module": "@jupyter-widgets/controls",
     "model_module_version": "1.5.0",
     "model_name": "ProgressStyleModel",
     "state": {
      "_model_module": "@jupyter-widgets/controls",
      "_model_module_version": "1.5.0",
      "_model_name": "ProgressStyleModel",
      "_view_count": null,
      "_view_module": "@jupyter-widgets/base",
      "_view_module_version": "1.2.0",
      "_view_name": "StyleView",
      "bar_color": null,
      "description_width": ""
     }
    },
    "4f2316e5938c4dd2bd30f9d4878551b9": {
     "model_module": "@jupyter-widgets/controls",
     "model_module_version": "1.5.0",
     "model_name": "HTMLModel",
     "state": {
      "_dom_classes": [],
      "_model_module": "@jupyter-widgets/controls",
      "_model_module_version": "1.5.0",
      "_model_name": "HTMLModel",
      "_view_count": null,
      "_view_module": "@jupyter-widgets/controls",
      "_view_module_version": "1.5.0",
      "_view_name": "HTMLView",
      "description": "",
      "description_tooltip": null,
      "layout": "IPY_MODEL_52945ab660d94582b68a2e626d0a7a13",
      "placeholder": "​",
      "style": "IPY_MODEL_14a5a543a11a49db85ff740223048cc9",
      "value": " 570/570 [00:00&lt;00:00, 9.63kB/s]"
     }
    },
    "4fce872888374f46bb39c61e13fade73": {
     "model_module": "@jupyter-widgets/controls",
     "model_module_version": "1.5.0",
     "model_name": "HTMLModel",
     "state": {
      "_dom_classes": [],
      "_model_module": "@jupyter-widgets/controls",
      "_model_module_version": "1.5.0",
      "_model_name": "HTMLModel",
      "_view_count": null,
      "_view_module": "@jupyter-widgets/controls",
      "_view_module_version": "1.5.0",
      "_view_name": "HTMLView",
      "description": "",
      "description_tooltip": null,
      "layout": "IPY_MODEL_69af842c9cd7471cb715977a91313c72",
      "placeholder": "​",
      "style": "IPY_MODEL_99b9f9163e104f2081becb4d2064b9f7",
      "value": "tokenizer_config.json: 100%"
     }
    },
    "52945ab660d94582b68a2e626d0a7a13": {
     "model_module": "@jupyter-widgets/base",
     "model_module_version": "1.2.0",
     "model_name": "LayoutModel",
     "state": {
      "_model_module": "@jupyter-widgets/base",
      "_model_module_version": "1.2.0",
      "_model_name": "LayoutModel",
      "_view_count": null,
      "_view_module": "@jupyter-widgets/base",
      "_view_module_version": "1.2.0",
      "_view_name": "LayoutView",
      "align_content": null,
      "align_items": null,
      "align_self": null,
      "border": null,
      "bottom": null,
      "display": null,
      "flex": null,
      "flex_flow": null,
      "grid_area": null,
      "grid_auto_columns": null,
      "grid_auto_flow": null,
      "grid_auto_rows": null,
      "grid_column": null,
      "grid_gap": null,
      "grid_row": null,
      "grid_template_areas": null,
      "grid_template_columns": null,
      "grid_template_rows": null,
      "height": null,
      "justify_content": null,
      "justify_items": null,
      "left": null,
      "margin": null,
      "max_height": null,
      "max_width": null,
      "min_height": null,
      "min_width": null,
      "object_fit": null,
      "object_position": null,
      "order": null,
      "overflow": null,
      "overflow_x": null,
      "overflow_y": null,
      "padding": null,
      "right": null,
      "top": null,
      "visibility": null,
      "width": null
     }
    },
    "5ccfa140ed04497298d754f509a201e1": {
     "model_module": "@jupyter-widgets/controls",
     "model_module_version": "1.5.0",
     "model_name": "DescriptionStyleModel",
     "state": {
      "_model_module": "@jupyter-widgets/controls",
      "_model_module_version": "1.5.0",
      "_model_name": "DescriptionStyleModel",
      "_view_count": null,
      "_view_module": "@jupyter-widgets/base",
      "_view_module_version": "1.2.0",
      "_view_name": "StyleView",
      "description_width": ""
     }
    },
    "5e377abff66c4c739c52a41ccc1f0826": {
     "model_module": "@jupyter-widgets/controls",
     "model_module_version": "1.5.0",
     "model_name": "FloatProgressModel",
     "state": {
      "_dom_classes": [],
      "_model_module": "@jupyter-widgets/controls",
      "_model_module_version": "1.5.0",
      "_model_name": "FloatProgressModel",
      "_view_count": null,
      "_view_module": "@jupyter-widgets/controls",
      "_view_module_version": "1.5.0",
      "_view_name": "ProgressView",
      "bar_style": "success",
      "description": "",
      "description_tooltip": null,
      "layout": "IPY_MODEL_014a7d6ecc634058a6a545d89121b596",
      "max": 466062,
      "min": 0,
      "orientation": "horizontal",
      "style": "IPY_MODEL_954c13c44d244553be103fef87323f8a",
      "value": 466062
     }
    },
    "678e080103344812896986ccfbfc79e5": {
     "model_module": "@jupyter-widgets/controls",
     "model_module_version": "1.5.0",
     "model_name": "HBoxModel",
     "state": {
      "_dom_classes": [],
      "_model_module": "@jupyter-widgets/controls",
      "_model_module_version": "1.5.0",
      "_model_name": "HBoxModel",
      "_view_count": null,
      "_view_module": "@jupyter-widgets/controls",
      "_view_module_version": "1.5.0",
      "_view_name": "HBoxView",
      "box_style": "",
      "children": [
       "IPY_MODEL_defb9f1e330e426fb4b66743be6b3e7f",
       "IPY_MODEL_24de71cbe4d2485bbf17d92f8ed971d1",
       "IPY_MODEL_4f2316e5938c4dd2bd30f9d4878551b9"
      ],
      "layout": "IPY_MODEL_a68103e410c44af1a3c44a095ec706ee"
     }
    },
    "6809a1b106a74276a01a421c7f508dfa": {
     "model_module": "@jupyter-widgets/controls",
     "model_module_version": "1.5.0",
     "model_name": "ProgressStyleModel",
     "state": {
      "_model_module": "@jupyter-widgets/controls",
      "_model_module_version": "1.5.0",
      "_model_name": "ProgressStyleModel",
      "_view_count": null,
      "_view_module": "@jupyter-widgets/base",
      "_view_module_version": "1.2.0",
      "_view_name": "StyleView",
      "bar_color": null,
      "description_width": ""
     }
    },
    "69af842c9cd7471cb715977a91313c72": {
     "model_module": "@jupyter-widgets/base",
     "model_module_version": "1.2.0",
     "model_name": "LayoutModel",
     "state": {
      "_model_module": "@jupyter-widgets/base",
      "_model_module_version": "1.2.0",
      "_model_name": "LayoutModel",
      "_view_count": null,
      "_view_module": "@jupyter-widgets/base",
      "_view_module_version": "1.2.0",
      "_view_name": "LayoutView",
      "align_content": null,
      "align_items": null,
      "align_self": null,
      "border": null,
      "bottom": null,
      "display": null,
      "flex": null,
      "flex_flow": null,
      "grid_area": null,
      "grid_auto_columns": null,
      "grid_auto_flow": null,
      "grid_auto_rows": null,
      "grid_column": null,
      "grid_gap": null,
      "grid_row": null,
      "grid_template_areas": null,
      "grid_template_columns": null,
      "grid_template_rows": null,
      "height": null,
      "justify_content": null,
      "justify_items": null,
      "left": null,
      "margin": null,
      "max_height": null,
      "max_width": null,
      "min_height": null,
      "min_width": null,
      "object_fit": null,
      "object_position": null,
      "order": null,
      "overflow": null,
      "overflow_x": null,
      "overflow_y": null,
      "padding": null,
      "right": null,
      "top": null,
      "visibility": null,
      "width": null
     }
    },
    "7c2f0c93b10e49eb9ed9aa1524b7ae6e": {
     "model_module": "@jupyter-widgets/controls",
     "model_module_version": "1.5.0",
     "model_name": "DescriptionStyleModel",
     "state": {
      "_model_module": "@jupyter-widgets/controls",
      "_model_module_version": "1.5.0",
      "_model_name": "DescriptionStyleModel",
      "_view_count": null,
      "_view_module": "@jupyter-widgets/base",
      "_view_module_version": "1.2.0",
      "_view_name": "StyleView",
      "description_width": ""
     }
    },
    "7fb4b5bf31024d39b3ad1a1904345532": {
     "model_module": "@jupyter-widgets/controls",
     "model_module_version": "1.5.0",
     "model_name": "HTMLModel",
     "state": {
      "_dom_classes": [],
      "_model_module": "@jupyter-widgets/controls",
      "_model_module_version": "1.5.0",
      "_model_name": "HTMLModel",
      "_view_count": null,
      "_view_module": "@jupyter-widgets/controls",
      "_view_module_version": "1.5.0",
      "_view_name": "HTMLView",
      "description": "",
      "description_tooltip": null,
      "layout": "IPY_MODEL_1ec29620d4664f89a0fb733db5326555",
      "placeholder": "​",
      "style": "IPY_MODEL_d8cad394da5840448863f9865f96b3c1",
      "value": " 466k/466k [00:00&lt;00:00, 653kB/s]"
     }
    },
    "910853d7ff734ab68d8de8aea5926325": {
     "model_module": "@jupyter-widgets/base",
     "model_module_version": "1.2.0",
     "model_name": "LayoutModel",
     "state": {
      "_model_module": "@jupyter-widgets/base",
      "_model_module_version": "1.2.0",
      "_model_name": "LayoutModel",
      "_view_count": null,
      "_view_module": "@jupyter-widgets/base",
      "_view_module_version": "1.2.0",
      "_view_name": "LayoutView",
      "align_content": null,
      "align_items": null,
      "align_self": null,
      "border": null,
      "bottom": null,
      "display": null,
      "flex": null,
      "flex_flow": null,
      "grid_area": null,
      "grid_auto_columns": null,
      "grid_auto_flow": null,
      "grid_auto_rows": null,
      "grid_column": null,
      "grid_gap": null,
      "grid_row": null,
      "grid_template_areas": null,
      "grid_template_columns": null,
      "grid_template_rows": null,
      "height": null,
      "justify_content": null,
      "justify_items": null,
      "left": null,
      "margin": null,
      "max_height": null,
      "max_width": null,
      "min_height": null,
      "min_width": null,
      "object_fit": null,
      "object_position": null,
      "order": null,
      "overflow": null,
      "overflow_x": null,
      "overflow_y": null,
      "padding": null,
      "right": null,
      "top": null,
      "visibility": null,
      "width": null
     }
    },
    "9254a75ecf294acbb0e6fc99beb8cb27": {
     "model_module": "@jupyter-widgets/controls",
     "model_module_version": "1.5.0",
     "model_name": "HTMLModel",
     "state": {
      "_dom_classes": [],
      "_model_module": "@jupyter-widgets/controls",
      "_model_module_version": "1.5.0",
      "_model_name": "HTMLModel",
      "_view_count": null,
      "_view_module": "@jupyter-widgets/controls",
      "_view_module_version": "1.5.0",
      "_view_name": "HTMLView",
      "description": "",
      "description_tooltip": null,
      "layout": "IPY_MODEL_910853d7ff734ab68d8de8aea5926325",
      "placeholder": "​",
      "style": "IPY_MODEL_7c2f0c93b10e49eb9ed9aa1524b7ae6e",
      "value": " 28.0/28.0 [00:00&lt;00:00, 742B/s]"
     }
    },
    "929c91521e5a4dc384fcb0d4cf920ce2": {
     "model_module": "@jupyter-widgets/base",
     "model_module_version": "1.2.0",
     "model_name": "LayoutModel",
     "state": {
      "_model_module": "@jupyter-widgets/base",
      "_model_module_version": "1.2.0",
      "_model_name": "LayoutModel",
      "_view_count": null,
      "_view_module": "@jupyter-widgets/base",
      "_view_module_version": "1.2.0",
      "_view_name": "LayoutView",
      "align_content": null,
      "align_items": null,
      "align_self": null,
      "border": null,
      "bottom": null,
      "display": null,
      "flex": null,
      "flex_flow": null,
      "grid_area": null,
      "grid_auto_columns": null,
      "grid_auto_flow": null,
      "grid_auto_rows": null,
      "grid_column": null,
      "grid_gap": null,
      "grid_row": null,
      "grid_template_areas": null,
      "grid_template_columns": null,
      "grid_template_rows": null,
      "height": null,
      "justify_content": null,
      "justify_items": null,
      "left": null,
      "margin": null,
      "max_height": null,
      "max_width": null,
      "min_height": null,
      "min_width": null,
      "object_fit": null,
      "object_position": null,
      "order": null,
      "overflow": null,
      "overflow_x": null,
      "overflow_y": null,
      "padding": null,
      "right": null,
      "top": null,
      "visibility": null,
      "width": null
     }
    },
    "954c13c44d244553be103fef87323f8a": {
     "model_module": "@jupyter-widgets/controls",
     "model_module_version": "1.5.0",
     "model_name": "ProgressStyleModel",
     "state": {
      "_model_module": "@jupyter-widgets/controls",
      "_model_module_version": "1.5.0",
      "_model_name": "ProgressStyleModel",
      "_view_count": null,
      "_view_module": "@jupyter-widgets/base",
      "_view_module_version": "1.2.0",
      "_view_name": "StyleView",
      "bar_color": null,
      "description_width": ""
     }
    },
    "96325200adfb4716bb81fce15567a629": {
     "model_module": "@jupyter-widgets/controls",
     "model_module_version": "1.5.0",
     "model_name": "HTMLModel",
     "state": {
      "_dom_classes": [],
      "_model_module": "@jupyter-widgets/controls",
      "_model_module_version": "1.5.0",
      "_model_name": "HTMLModel",
      "_view_count": null,
      "_view_module": "@jupyter-widgets/controls",
      "_view_module_version": "1.5.0",
      "_view_name": "HTMLView",
      "description": "",
      "description_tooltip": null,
      "layout": "IPY_MODEL_b64b4ff0de6e4700b28a1dd1e1045de3",
      "placeholder": "​",
      "style": "IPY_MODEL_bc41da6164d4445f825b9d11d7a425c1",
      "value": "vocab.txt: 100%"
     }
    },
    "99b9f9163e104f2081becb4d2064b9f7": {
     "model_module": "@jupyter-widgets/controls",
     "model_module_version": "1.5.0",
     "model_name": "DescriptionStyleModel",
     "state": {
      "_model_module": "@jupyter-widgets/controls",
      "_model_module_version": "1.5.0",
      "_model_name": "DescriptionStyleModel",
      "_view_count": null,
      "_view_module": "@jupyter-widgets/base",
      "_view_module_version": "1.2.0",
      "_view_name": "StyleView",
      "description_width": ""
     }
    },
    "a68103e410c44af1a3c44a095ec706ee": {
     "model_module": "@jupyter-widgets/base",
     "model_module_version": "1.2.0",
     "model_name": "LayoutModel",
     "state": {
      "_model_module": "@jupyter-widgets/base",
      "_model_module_version": "1.2.0",
      "_model_name": "LayoutModel",
      "_view_count": null,
      "_view_module": "@jupyter-widgets/base",
      "_view_module_version": "1.2.0",
      "_view_name": "LayoutView",
      "align_content": null,
      "align_items": null,
      "align_self": null,
      "border": null,
      "bottom": null,
      "display": null,
      "flex": null,
      "flex_flow": null,
      "grid_area": null,
      "grid_auto_columns": null,
      "grid_auto_flow": null,
      "grid_auto_rows": null,
      "grid_column": null,
      "grid_gap": null,
      "grid_row": null,
      "grid_template_areas": null,
      "grid_template_columns": null,
      "grid_template_rows": null,
      "height": null,
      "justify_content": null,
      "justify_items": null,
      "left": null,
      "margin": null,
      "max_height": null,
      "max_width": null,
      "min_height": null,
      "min_width": null,
      "object_fit": null,
      "object_position": null,
      "order": null,
      "overflow": null,
      "overflow_x": null,
      "overflow_y": null,
      "padding": null,
      "right": null,
      "top": null,
      "visibility": null,
      "width": null
     }
    },
    "ab794ddae6c146048137644449bee269": {
     "model_module": "@jupyter-widgets/controls",
     "model_module_version": "1.5.0",
     "model_name": "HBoxModel",
     "state": {
      "_dom_classes": [],
      "_model_module": "@jupyter-widgets/controls",
      "_model_module_version": "1.5.0",
      "_model_name": "HBoxModel",
      "_view_count": null,
      "_view_module": "@jupyter-widgets/controls",
      "_view_module_version": "1.5.0",
      "_view_name": "HBoxView",
      "box_style": "",
      "children": [
       "IPY_MODEL_d2f74443c0504e859a49afda5ef562ad",
       "IPY_MODEL_5e377abff66c4c739c52a41ccc1f0826",
       "IPY_MODEL_7fb4b5bf31024d39b3ad1a1904345532"
      ],
      "layout": "IPY_MODEL_929c91521e5a4dc384fcb0d4cf920ce2"
     }
    },
    "b22ed79fd9e54799ba97e7160e81fcf6": {
     "model_module": "@jupyter-widgets/controls",
     "model_module_version": "1.5.0",
     "model_name": "HBoxModel",
     "state": {
      "_dom_classes": [],
      "_model_module": "@jupyter-widgets/controls",
      "_model_module_version": "1.5.0",
      "_model_name": "HBoxModel",
      "_view_count": null,
      "_view_module": "@jupyter-widgets/controls",
      "_view_module_version": "1.5.0",
      "_view_name": "HBoxView",
      "box_style": "",
      "children": [
       "IPY_MODEL_96325200adfb4716bb81fce15567a629",
       "IPY_MODEL_b68bdedb067d40d1ad0cbf9a962392f3",
       "IPY_MODEL_bc1c4d1928e24f69b5cb62b136405e71"
      ],
      "layout": "IPY_MODEL_1cac623de2c04158bb823f08b3b18100"
     }
    },
    "b64b4ff0de6e4700b28a1dd1e1045de3": {
     "model_module": "@jupyter-widgets/base",
     "model_module_version": "1.2.0",
     "model_name": "LayoutModel",
     "state": {
      "_model_module": "@jupyter-widgets/base",
      "_model_module_version": "1.2.0",
      "_model_name": "LayoutModel",
      "_view_count": null,
      "_view_module": "@jupyter-widgets/base",
      "_view_module_version": "1.2.0",
      "_view_name": "LayoutView",
      "align_content": null,
      "align_items": null,
      "align_self": null,
      "border": null,
      "bottom": null,
      "display": null,
      "flex": null,
      "flex_flow": null,
      "grid_area": null,
      "grid_auto_columns": null,
      "grid_auto_flow": null,
      "grid_auto_rows": null,
      "grid_column": null,
      "grid_gap": null,
      "grid_row": null,
      "grid_template_areas": null,
      "grid_template_columns": null,
      "grid_template_rows": null,
      "height": null,
      "justify_content": null,
      "justify_items": null,
      "left": null,
      "margin": null,
      "max_height": null,
      "max_width": null,
      "min_height": null,
      "min_width": null,
      "object_fit": null,
      "object_position": null,
      "order": null,
      "overflow": null,
      "overflow_x": null,
      "overflow_y": null,
      "padding": null,
      "right": null,
      "top": null,
      "visibility": null,
      "width": null
     }
    },
    "b68bdedb067d40d1ad0cbf9a962392f3": {
     "model_module": "@jupyter-widgets/controls",
     "model_module_version": "1.5.0",
     "model_name": "FloatProgressModel",
     "state": {
      "_dom_classes": [],
      "_model_module": "@jupyter-widgets/controls",
      "_model_module_version": "1.5.0",
      "_model_name": "FloatProgressModel",
      "_view_count": null,
      "_view_module": "@jupyter-widgets/controls",
      "_view_module_version": "1.5.0",
      "_view_name": "ProgressView",
      "bar_style": "success",
      "description": "",
      "description_tooltip": null,
      "layout": "IPY_MODEL_47512eb1f9ec4f758ac13e1b6c45fb3f",
      "max": 231508,
      "min": 0,
      "orientation": "horizontal",
      "style": "IPY_MODEL_dc01cd37a77d4b5084f4c6fccdcc4908",
      "value": 231508
     }
    },
    "bc1c4d1928e24f69b5cb62b136405e71": {
     "model_module": "@jupyter-widgets/controls",
     "model_module_version": "1.5.0",
     "model_name": "HTMLModel",
     "state": {
      "_dom_classes": [],
      "_model_module": "@jupyter-widgets/controls",
      "_model_module_version": "1.5.0",
      "_model_name": "HTMLModel",
      "_view_count": null,
      "_view_module": "@jupyter-widgets/controls",
      "_view_module_version": "1.5.0",
      "_view_name": "HTMLView",
      "description": "",
      "description_tooltip": null,
      "layout": "IPY_MODEL_dc2fda0f9c5d4dfda03fda82dad97f04",
      "placeholder": "​",
      "style": "IPY_MODEL_5ccfa140ed04497298d754f509a201e1",
      "value": " 232k/232k [00:00&lt;00:00, 490kB/s]"
     }
    },
    "bc41da6164d4445f825b9d11d7a425c1": {
     "model_module": "@jupyter-widgets/controls",
     "model_module_version": "1.5.0",
     "model_name": "DescriptionStyleModel",
     "state": {
      "_model_module": "@jupyter-widgets/controls",
      "_model_module_version": "1.5.0",
      "_model_name": "DescriptionStyleModel",
      "_view_count": null,
      "_view_module": "@jupyter-widgets/base",
      "_view_module_version": "1.2.0",
      "_view_name": "StyleView",
      "description_width": ""
     }
    },
    "c9e482aaf5bd4f608c5518e3349232a5": {
     "model_module": "@jupyter-widgets/controls",
     "model_module_version": "1.5.0",
     "model_name": "HBoxModel",
     "state": {
      "_dom_classes": [],
      "_model_module": "@jupyter-widgets/controls",
      "_model_module_version": "1.5.0",
      "_model_name": "HBoxModel",
      "_view_count": null,
      "_view_module": "@jupyter-widgets/controls",
      "_view_module_version": "1.5.0",
      "_view_name": "HBoxView",
      "box_style": "",
      "children": [
       "IPY_MODEL_4fce872888374f46bb39c61e13fade73",
       "IPY_MODEL_df835f7162e74e8d8199681d589f717f",
       "IPY_MODEL_9254a75ecf294acbb0e6fc99beb8cb27"
      ],
      "layout": "IPY_MODEL_3664a2a1eee84a869d9d324230deace0"
     }
    },
    "d2f74443c0504e859a49afda5ef562ad": {
     "model_module": "@jupyter-widgets/controls",
     "model_module_version": "1.5.0",
     "model_name": "HTMLModel",
     "state": {
      "_dom_classes": [],
      "_model_module": "@jupyter-widgets/controls",
      "_model_module_version": "1.5.0",
      "_model_name": "HTMLModel",
      "_view_count": null,
      "_view_module": "@jupyter-widgets/controls",
      "_view_module_version": "1.5.0",
      "_view_name": "HTMLView",
      "description": "",
      "description_tooltip": null,
      "layout": "IPY_MODEL_d5848dec34ee4aebae1222a874980b3d",
      "placeholder": "​",
      "style": "IPY_MODEL_d9688ee05515499d8265983bd6b49ba9",
      "value": "tokenizer.json: 100%"
     }
    },
    "d5848dec34ee4aebae1222a874980b3d": {
     "model_module": "@jupyter-widgets/base",
     "model_module_version": "1.2.0",
     "model_name": "LayoutModel",
     "state": {
      "_model_module": "@jupyter-widgets/base",
      "_model_module_version": "1.2.0",
      "_model_name": "LayoutModel",
      "_view_count": null,
      "_view_module": "@jupyter-widgets/base",
      "_view_module_version": "1.2.0",
      "_view_name": "LayoutView",
      "align_content": null,
      "align_items": null,
      "align_self": null,
      "border": null,
      "bottom": null,
      "display": null,
      "flex": null,
      "flex_flow": null,
      "grid_area": null,
      "grid_auto_columns": null,
      "grid_auto_flow": null,
      "grid_auto_rows": null,
      "grid_column": null,
      "grid_gap": null,
      "grid_row": null,
      "grid_template_areas": null,
      "grid_template_columns": null,
      "grid_template_rows": null,
      "height": null,
      "justify_content": null,
      "justify_items": null,
      "left": null,
      "margin": null,
      "max_height": null,
      "max_width": null,
      "min_height": null,
      "min_width": null,
      "object_fit": null,
      "object_position": null,
      "order": null,
      "overflow": null,
      "overflow_x": null,
      "overflow_y": null,
      "padding": null,
      "right": null,
      "top": null,
      "visibility": null,
      "width": null
     }
    },
    "d685090590de47dfae5284217e24710f": {
     "model_module": "@jupyter-widgets/base",
     "model_module_version": "1.2.0",
     "model_name": "LayoutModel",
     "state": {
      "_model_module": "@jupyter-widgets/base",
      "_model_module_version": "1.2.0",
      "_model_name": "LayoutModel",
      "_view_count": null,
      "_view_module": "@jupyter-widgets/base",
      "_view_module_version": "1.2.0",
      "_view_name": "LayoutView",
      "align_content": null,
      "align_items": null,
      "align_self": null,
      "border": null,
      "bottom": null,
      "display": null,
      "flex": null,
      "flex_flow": null,
      "grid_area": null,
      "grid_auto_columns": null,
      "grid_auto_flow": null,
      "grid_auto_rows": null,
      "grid_column": null,
      "grid_gap": null,
      "grid_row": null,
      "grid_template_areas": null,
      "grid_template_columns": null,
      "grid_template_rows": null,
      "height": null,
      "justify_content": null,
      "justify_items": null,
      "left": null,
      "margin": null,
      "max_height": null,
      "max_width": null,
      "min_height": null,
      "min_width": null,
      "object_fit": null,
      "object_position": null,
      "order": null,
      "overflow": null,
      "overflow_x": null,
      "overflow_y": null,
      "padding": null,
      "right": null,
      "top": null,
      "visibility": null,
      "width": null
     }
    },
    "d8cad394da5840448863f9865f96b3c1": {
     "model_module": "@jupyter-widgets/controls",
     "model_module_version": "1.5.0",
     "model_name": "DescriptionStyleModel",
     "state": {
      "_model_module": "@jupyter-widgets/controls",
      "_model_module_version": "1.5.0",
      "_model_name": "DescriptionStyleModel",
      "_view_count": null,
      "_view_module": "@jupyter-widgets/base",
      "_view_module_version": "1.2.0",
      "_view_name": "StyleView",
      "description_width": ""
     }
    },
    "d9688ee05515499d8265983bd6b49ba9": {
     "model_module": "@jupyter-widgets/controls",
     "model_module_version": "1.5.0",
     "model_name": "DescriptionStyleModel",
     "state": {
      "_model_module": "@jupyter-widgets/controls",
      "_model_module_version": "1.5.0",
      "_model_name": "DescriptionStyleModel",
      "_view_count": null,
      "_view_module": "@jupyter-widgets/base",
      "_view_module_version": "1.2.0",
      "_view_name": "StyleView",
      "description_width": ""
     }
    },
    "dc01cd37a77d4b5084f4c6fccdcc4908": {
     "model_module": "@jupyter-widgets/controls",
     "model_module_version": "1.5.0",
     "model_name": "ProgressStyleModel",
     "state": {
      "_model_module": "@jupyter-widgets/controls",
      "_model_module_version": "1.5.0",
      "_model_name": "ProgressStyleModel",
      "_view_count": null,
      "_view_module": "@jupyter-widgets/base",
      "_view_module_version": "1.2.0",
      "_view_name": "StyleView",
      "bar_color": null,
      "description_width": ""
     }
    },
    "dc2fda0f9c5d4dfda03fda82dad97f04": {
     "model_module": "@jupyter-widgets/base",
     "model_module_version": "1.2.0",
     "model_name": "LayoutModel",
     "state": {
      "_model_module": "@jupyter-widgets/base",
      "_model_module_version": "1.2.0",
      "_model_name": "LayoutModel",
      "_view_count": null,
      "_view_module": "@jupyter-widgets/base",
      "_view_module_version": "1.2.0",
      "_view_name": "LayoutView",
      "align_content": null,
      "align_items": null,
      "align_self": null,
      "border": null,
      "bottom": null,
      "display": null,
      "flex": null,
      "flex_flow": null,
      "grid_area": null,
      "grid_auto_columns": null,
      "grid_auto_flow": null,
      "grid_auto_rows": null,
      "grid_column": null,
      "grid_gap": null,
      "grid_row": null,
      "grid_template_areas": null,
      "grid_template_columns": null,
      "grid_template_rows": null,
      "height": null,
      "justify_content": null,
      "justify_items": null,
      "left": null,
      "margin": null,
      "max_height": null,
      "max_width": null,
      "min_height": null,
      "min_width": null,
      "object_fit": null,
      "object_position": null,
      "order": null,
      "overflow": null,
      "overflow_x": null,
      "overflow_y": null,
      "padding": null,
      "right": null,
      "top": null,
      "visibility": null,
      "width": null
     }
    },
    "dd1019130ecc422ebcb90cb312752b12": {
     "model_module": "@jupyter-widgets/base",
     "model_module_version": "1.2.0",
     "model_name": "LayoutModel",
     "state": {
      "_model_module": "@jupyter-widgets/base",
      "_model_module_version": "1.2.0",
      "_model_name": "LayoutModel",
      "_view_count": null,
      "_view_module": "@jupyter-widgets/base",
      "_view_module_version": "1.2.0",
      "_view_name": "LayoutView",
      "align_content": null,
      "align_items": null,
      "align_self": null,
      "border": null,
      "bottom": null,
      "display": null,
      "flex": null,
      "flex_flow": null,
      "grid_area": null,
      "grid_auto_columns": null,
      "grid_auto_flow": null,
      "grid_auto_rows": null,
      "grid_column": null,
      "grid_gap": null,
      "grid_row": null,
      "grid_template_areas": null,
      "grid_template_columns": null,
      "grid_template_rows": null,
      "height": null,
      "justify_content": null,
      "justify_items": null,
      "left": null,
      "margin": null,
      "max_height": null,
      "max_width": null,
      "min_height": null,
      "min_width": null,
      "object_fit": null,
      "object_position": null,
      "order": null,
      "overflow": null,
      "overflow_x": null,
      "overflow_y": null,
      "padding": null,
      "right": null,
      "top": null,
      "visibility": null,
      "width": null
     }
    },
    "defb9f1e330e426fb4b66743be6b3e7f": {
     "model_module": "@jupyter-widgets/controls",
     "model_module_version": "1.5.0",
     "model_name": "HTMLModel",
     "state": {
      "_dom_classes": [],
      "_model_module": "@jupyter-widgets/controls",
      "_model_module_version": "1.5.0",
      "_model_name": "HTMLModel",
      "_view_count": null,
      "_view_module": "@jupyter-widgets/controls",
      "_view_module_version": "1.5.0",
      "_view_name": "HTMLView",
      "description": "",
      "description_tooltip": null,
      "layout": "IPY_MODEL_dd1019130ecc422ebcb90cb312752b12",
      "placeholder": "​",
      "style": "IPY_MODEL_03234a6ed1c14e50b2acaea02872c394",
      "value": "config.json: 100%"
     }
    },
    "df835f7162e74e8d8199681d589f717f": {
     "model_module": "@jupyter-widgets/controls",
     "model_module_version": "1.5.0",
     "model_name": "FloatProgressModel",
     "state": {
      "_dom_classes": [],
      "_model_module": "@jupyter-widgets/controls",
      "_model_module_version": "1.5.0",
      "_model_name": "FloatProgressModel",
      "_view_count": null,
      "_view_module": "@jupyter-widgets/controls",
      "_view_module_version": "1.5.0",
      "_view_name": "ProgressView",
      "bar_style": "success",
      "description": "",
      "description_tooltip": null,
      "layout": "IPY_MODEL_d685090590de47dfae5284217e24710f",
      "max": 28,
      "min": 0,
      "orientation": "horizontal",
      "style": "IPY_MODEL_4dec5cb8bc8246a7a39964011c03595a",
      "value": 28
     }
    },
    "e5baf7f4e5fa4c8e849ce0f4753fbe8a": {
     "model_module": "@jupyter-widgets/base",
     "model_module_version": "1.2.0",
     "model_name": "LayoutModel",
     "state": {
      "_model_module": "@jupyter-widgets/base",
      "_model_module_version": "1.2.0",
      "_model_name": "LayoutModel",
      "_view_count": null,
      "_view_module": "@jupyter-widgets/base",
      "_view_module_version": "1.2.0",
      "_view_name": "LayoutView",
      "align_content": null,
      "align_items": null,
      "align_self": null,
      "border": null,
      "bottom": null,
      "display": null,
      "flex": null,
      "flex_flow": null,
      "grid_area": null,
      "grid_auto_columns": null,
      "grid_auto_flow": null,
      "grid_auto_rows": null,
      "grid_column": null,
      "grid_gap": null,
      "grid_row": null,
      "grid_template_areas": null,
      "grid_template_columns": null,
      "grid_template_rows": null,
      "height": null,
      "justify_content": null,
      "justify_items": null,
      "left": null,
      "margin": null,
      "max_height": null,
      "max_width": null,
      "min_height": null,
      "min_width": null,
      "object_fit": null,
      "object_position": null,
      "order": null,
      "overflow": null,
      "overflow_x": null,
      "overflow_y": null,
      "padding": null,
      "right": null,
      "top": null,
      "visibility": null,
      "width": null
     }
    }
   }
  }
 },
 "nbformat": 4,
 "nbformat_minor": 1
}
