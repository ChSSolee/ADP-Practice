{
 "cells": [
  {
   "cell_type": "markdown",
   "metadata": {},
   "source": [
    "# 15. 포식과 재포획"
   ]
  },
  {
   "cell_type": "code",
   "execution_count": 2,
   "metadata": {
    "execution": {
     "iopub.execute_input": "2021-04-16T19:37:47.033444Z",
     "iopub.status.busy": "2021-04-16T19:37:47.033007Z",
     "iopub.status.idle": "2021-04-16T19:37:47.034750Z",
     "shell.execute_reply": "2021-04-16T19:37:47.035100Z"
    },
    "tags": []
   },
   "outputs": [],
   "source": [
    "from os.path import basename, exists\n",
    "\n",
    "def download(url):\n",
    "    filename = basename(url)\n",
    "    if not exists(filename):\n",
    "        from urllib.request import urlretrieve\n",
    "        local, _ = urlretrieve(url, filename)\n",
    "        print('Downloaded ' + local)\n",
    "    \n",
    "download('https://github.com/AllenDowney/ThinkBayes2/raw/master/soln/utils.py')\n",
    "\n",
    "from utils import set_pyplot_params\n",
    "set_pyplot_params()"
   ]
  },
  {
   "cell_type": "markdown",
   "metadata": {},
   "source": [
    "<br>\n",
    "\n",
    "## 15.01. 그리즐리 곰 문제\n",
    "\n",
    "> [1996년과 1997년 과학자들은 캐나다의 그리즐리 곰의 개체 수 추정을 위해 덫을 놓았다](https://www.researchgate.net/publication/229195465_Estimating_Population_Size_of_Grizzly_Bears_Using_Hair_Capture_DNA_Profiling_and_Mark-Recapture_Analysis).\n",
    "> '덫'은 곰을 유인해서 털 표본을 채취하기 위한 미끼와 철조망 몇 줄로 만들어져 있으며, 과학자들은 털 표본을 사용해서 DNA분석을 해서 각각의 곰을 식별한다.\n",
    "> 첫 실험에서는 과학자가 76개 지역에 덫을 설치했다. 10일 후 돌아온 과학자는 1,043개의 털 표본을 채취했고 이를 통해 23마리의 서로 다른 곰을 식별할 수 있었다. \n",
    "> 두 번째의 10일 실험에서는 19마리의 곰으로부터 1,191개의 털 표본을 얻었고, 이 중 4마리는 첫 번째 실험에서 파악된 곰인 것으로 확인\n",
    "\n",
    "<br>\n",
    "\n",
    "- **이 데이터로 곰의 개체수를 추정하려면, 각 실험간 각각의 곰이 관측될 확률을 모델링해야 함**\n",
    "\n",
    "    **모집단의 모든 곰이 동일한 (알려지지 않은) 확률로 각 실험에 포착된다고 간단히 가정**\n",
    "    - 실제 곰의 모집단 개체수가 100이라고 할 때,\n",
    "        \n",
    "        <br>\n",
    "        \n",
    "        * **$N$: 실제 개체수, 100.**\n",
    "\n",
    "        * **$K$: 첫 실험에서 확인된 곰의 수, 23.**\n",
    "\n",
    "        * **$n$: 두 번째 실험에서 관측된 곰의 수, 19**\n",
    "\n",
    "        * **$k$: 두 번째 실험에서 관측된 곰 중 첫 실험에서 이미 확인된 곰의 수, 4.**\n",
    "        \n",
    "        <br>\n",
    "\n",
    "    - **주어진 $N$, $K$, $n$을 사용해서 이전에 확인된 곰의 수인 $k$에 대한 확률은 [초기하분포](https://en.wikipedia.org/wiki/Hypergeometric_distribution)를 사용**\n",
    "\n",
    "        $$\\frac{\\binom{K}{k} \\binom{N-K}{n-k}} {\\binom{N}{n}}$$\n",
    "\n",
    "        * **[이항계수](https://en.wikipedia.org/wiki/Binomial_coefficient) $\\binom{K}{k}$는 크기 $K$의 모집단에서 크기 $k$의 부분집합의 수**\n",
    "\n",
    "        * **분자는 이전에 파악된 $K$에서 $k$마리의 곰을 고르고, 아직 파악되지 않은 $N-K$에서 $n-k$만큼을 고를 때 가능한 부분집합의 수**\n",
    "        \n",
    "        * **분모 $\\binom{N}{n}$는 $N$마리의 곰 개체에서 $n$만큼의 곰을 골랐을 때 가능한 부분집합의 수**"
   ]
  },
  {
   "cell_type": "markdown",
   "metadata": {},
   "source": [
    "<br>\n",
    "\n",
    "#### `scipy.stats.hypergeom(N, K, n)` : 초기하분포 객체 생성\n",
    "* **$N$, $K$, $n$이 주어졌을 때의 $k$의 분포가 결과로 표현**"
   ]
  },
  {
   "cell_type": "code",
   "execution_count": 7,
   "metadata": {},
   "outputs": [],
   "source": [
    "import numpy as np\n",
    "from scipy.stats import hypergeom\n",
    "import matplotlib.pyplot as plt\n",
    "from utils import decorate"
   ]
  },
  {
   "cell_type": "code",
   "execution_count": 5,
   "metadata": {
    "execution": {
     "iopub.execute_input": "2021-04-16T19:37:47.711709Z",
     "iopub.status.busy": "2021-04-16T19:37:47.711259Z",
     "iopub.status.idle": "2021-04-16T19:37:47.712868Z",
     "shell.execute_reply": "2021-04-16T19:37:47.713221Z"
    }
   },
   "outputs": [],
   "source": [
    "N = 100\n",
    "K = 23\n",
    "n = 19\n",
    "\n",
    "ks = np.arange(12)\n",
    "ps = hypergeom(N, K, n).pmf(ks)"
   ]
  },
  {
   "cell_type": "code",
   "execution_count": 8,
   "metadata": {
    "execution": {
     "iopub.execute_input": "2021-04-16T19:37:47.727971Z",
     "iopub.status.busy": "2021-04-16T19:37:47.725947Z",
     "iopub.status.idle": "2021-04-16T19:37:47.888438Z",
     "shell.execute_reply": "2021-04-16T19:37:47.888796Z"
    },
    "tags": []
   },
   "outputs": [
    {
     "data": {
      "image/png": "[encoded data removed]",
      "text/plain": [
       "<Figure size 640x480 with 1 Axes>"
      ]
     },
     "metadata": {},
     "output_type": "display_data"
    }
   ],
   "source": [
    "\n",
    "\n",
    "plt.bar(ks, ps)\n",
    "\n",
    "decorate(xlabel='Number of bears observed twice', ylabel='PMF', title='Hypergeometric distribution of k (known population 100)')"
   ]
  },
  {
   "cell_type": "markdown",
   "metadata": {},
   "source": [
    "#### 가장 가능성이 큰 $k$의 값은 4로, 이 실험에서 실제로 관측된 값과 동일\n",
    "- **$N=100$은 모집단의 추정값으로 합리적이라고 판단 가능**"
   ]
  },
  {
   "cell_type": "markdown",
   "metadata": {},
   "source": [
    "<br>\n",
    "\n",
    "## 15.02. 갱신\n",
    "\n",
    "### $K$, $n$, $k$가 주어졌을 때의 $N$을 추정하는 과정\n",
    "\n",
    "<br>\n",
    "\n",
    "#### 이 지역의 곰의 개체 수는 50과 500 사이의 균등분포를 따른다고 가정 (사전분포)"
   ]
  },
  {
   "cell_type": "code",
   "execution_count": 11,
   "metadata": {},
   "outputs": [],
   "source": [
    "import numpy as np\n",
    "from utils import make_uniform"
   ]
  },
  {
   "cell_type": "code",
   "execution_count": 14,
   "metadata": {
    "execution": {
     "iopub.execute_input": "2021-04-16T19:37:47.893465Z",
     "iopub.status.busy": "2021-04-16T19:37:47.892728Z",
     "iopub.status.idle": "2021-04-16T19:37:47.900265Z",
     "shell.execute_reply": "2021-04-16T19:37:47.899629Z"
    }
   },
   "outputs": [
    {
     "name": "stdout",
     "output_type": "stream",
     "text": [
      "(451,)\n"
     ]
    },
    {
     "data": {
      "text/html": [
       "<div>\n",
       "<style scoped>\n",
       "    .dataframe tbody tr th:only-of-type {\n",
       "        vertical-align: middle;\n",
       "    }\n",
       "\n",
       "    .dataframe tbody tr th {\n",
       "        vertical-align: top;\n",
       "    }\n",
       "\n",
       "    .dataframe thead th {\n",
       "        text-align: right;\n",
       "    }\n",
       "</style>\n",
       "<table border=\"1\" class=\"dataframe\">\n",
       "  <thead>\n",
       "    <tr style=\"text-align: right;\">\n",
       "      <th></th>\n",
       "      <th>probs</th>\n",
       "    </tr>\n",
       "    <tr>\n",
       "      <th>N</th>\n",
       "      <th></th>\n",
       "    </tr>\n",
       "  </thead>\n",
       "  <tbody>\n",
       "    <tr>\n",
       "      <th>50</th>\n",
       "      <td>0.002217</td>\n",
       "    </tr>\n",
       "    <tr>\n",
       "      <th>51</th>\n",
       "      <td>0.002217</td>\n",
       "    </tr>\n",
       "    <tr>\n",
       "      <th>52</th>\n",
       "      <td>0.002217</td>\n",
       "    </tr>\n",
       "  </tbody>\n",
       "</table>\n",
       "</div>"
      ],
      "text/plain": [
       "N\n",
       "50    0.002217\n",
       "51    0.002217\n",
       "52    0.002217\n",
       "Name: , dtype: float64"
      ]
     },
     "execution_count": 14,
     "metadata": {},
     "output_type": "execute_result"
    }
   ],
   "source": [
    "qs = np.arange(50, 501)\n",
    "prior_N = make_uniform(qs, name='N')\n",
    "print(prior_N.shape)\n",
    "prior_N.head()"
   ]
  },
  {
   "cell_type": "markdown",
   "metadata": {},
   "source": [
    "<br>\n",
    "\n",
    "#### 초기하분포 객체를 통하여 가능도 계산"
   ]
  },
  {
   "cell_type": "code",
   "execution_count": 15,
   "metadata": {
    "execution": {
     "iopub.execute_input": "2021-04-16T19:37:47.906764Z",
     "iopub.status.busy": "2021-04-16T19:37:47.906124Z",
     "iopub.status.idle": "2021-04-16T19:37:47.908285Z",
     "shell.execute_reply": "2021-04-16T19:37:47.908789Z"
    }
   },
   "outputs": [],
   "source": [
    "Ns = prior_N.qs\n",
    "K = 23\n",
    "n = 19\n",
    "k = 4\n",
    "\n",
    "likelihood = hypergeom(Ns, K, n).pmf(k)"
   ]
  },
  {
   "cell_type": "markdown",
   "metadata": {},
   "source": [
    "<br>\n",
    "\n",
    "####  사후분포 계산"
   ]
  },
  {
   "cell_type": "code",
   "execution_count": 16,
   "metadata": {
    "execution": {
     "iopub.execute_input": "2021-04-16T19:37:47.914099Z",
     "iopub.status.busy": "2021-04-16T19:37:47.913348Z",
     "iopub.status.idle": "2021-04-16T19:37:47.916623Z",
     "shell.execute_reply": "2021-04-16T19:37:47.916072Z"
    }
   },
   "outputs": [
    {
     "data": {
      "text/plain": [
       "0.07755224277106727"
      ]
     },
     "execution_count": 16,
     "metadata": {},
     "output_type": "execute_result"
    }
   ],
   "source": [
    "posterior_N = prior_N * likelihood\n",
    "posterior_N.normalize()"
   ]
  },
  {
   "cell_type": "code",
   "execution_count": 17,
   "metadata": {
    "execution": {
     "iopub.execute_input": "2021-04-16T19:37:47.920279Z",
     "iopub.status.busy": "2021-04-16T19:37:47.919818Z",
     "iopub.status.idle": "2021-04-16T19:37:48.079352Z",
     "shell.execute_reply": "2021-04-16T19:37:48.078946Z"
    },
    "tags": []
   },
   "outputs": [
    {
     "data": {
      "image/png": "[encoded data removed]",
      "text/plain": [
       "<Figure size 640x480 with 1 Axes>"
      ]
     },
     "metadata": {},
     "output_type": "display_data"
    }
   ],
   "source": [
    "posterior_N.plot(color='C4')\n",
    "\n",
    "decorate(xlabel='Population of bears (N)', ylabel='PDF', title='Posterior distribution of N')"
   ]
  },
  {
   "cell_type": "markdown",
   "metadata": {},
   "source": [
    "<br>\n",
    "\n",
    "#### 가장 가능성이 높은 값은 109"
   ]
  },
  {
   "cell_type": "code",
   "execution_count": 19,
   "metadata": {
    "execution": {
     "iopub.execute_input": "2021-04-16T19:37:48.083122Z",
     "iopub.status.busy": "2021-04-16T19:37:48.082536Z",
     "iopub.status.idle": "2021-04-16T19:37:48.085201Z",
     "shell.execute_reply": "2021-04-16T19:37:48.084795Z"
    }
   },
   "outputs": [
    {
     "data": {
      "text/plain": [
       "109"
      ]
     },
     "execution_count": 19,
     "metadata": {},
     "output_type": "execute_result"
    }
   ],
   "source": [
    "posterior_N.max_prob()"
   ]
  },
  {
   "cell_type": "markdown",
   "metadata": {},
   "source": [
    "<br>\n",
    "\n",
    "#### 분포가 오른쪽으로 더 몰려 있기에, 사후평균은 더 큰 값"
   ]
  },
  {
   "cell_type": "code",
   "execution_count": 20,
   "metadata": {
    "execution": {
     "iopub.execute_input": "2021-04-16T19:37:48.088879Z",
     "iopub.status.busy": "2021-04-16T19:37:48.088365Z",
     "iopub.status.idle": "2021-04-16T19:37:48.091018Z",
     "shell.execute_reply": "2021-04-16T19:37:48.090654Z"
    }
   },
   "outputs": [
    {
     "data": {
      "text/plain": [
       "173.79880627085637"
      ]
     },
     "execution_count": 20,
     "metadata": {},
     "output_type": "execute_result"
    }
   ],
   "source": [
    "posterior_N.mean()"
   ]
  },
  {
   "cell_type": "markdown",
   "metadata": {},
   "source": [
    "<br>\n",
    "\n",
    "#### 90% 신용구간"
   ]
  },
  {
   "cell_type": "code",
   "execution_count": 21,
   "metadata": {
    "execution": {
     "iopub.execute_input": "2021-04-16T19:37:48.095317Z",
     "iopub.status.busy": "2021-04-16T19:37:48.094716Z",
     "iopub.status.idle": "2021-04-16T19:37:48.097561Z",
     "shell.execute_reply": "2021-04-16T19:37:48.097064Z"
    }
   },
   "outputs": [
    {
     "data": {
      "text/plain": [
       "array([ 77., 363.])"
      ]
     },
     "execution_count": 21,
     "metadata": {},
     "output_type": "execute_result"
    }
   ],
   "source": [
    "posterior_N.credible_interval(0.9)"
   ]
  },
  {
   "cell_type": "markdown",
   "metadata": {},
   "source": [
    "<br>\n",
    "\n",
    "## 15.03. 두 개의 매개변수를 사용하는 모델\n",
    "\n",
    "#### 곰의 수 $N$과 곰을 관측할 확률 $p$의 두 개의 매개변수를 사용하는 모델 생성\n",
    "- 두 번의 실험에서의 확률은 동일하다고 가정 (덫의 형태나 설치 지역이 동일하므로 가능성 있는 가정)\n",
    "- **확률은 서로 독립적이라고 가정. (즉, 2회차 실험에서 곰이 관측될 확률은 1회차에서 곰이 관측되었는지의 여부와 상관없음)**"
   ]
  },
  {
   "cell_type": "code",
   "execution_count": 22,
   "metadata": {
    "execution": {
     "iopub.execute_input": "2021-04-16T19:37:48.100459Z",
     "iopub.status.busy": "2021-04-16T19:37:48.100002Z",
     "iopub.status.idle": "2021-04-16T19:37:48.102455Z",
     "shell.execute_reply": "2021-04-16T19:37:48.102065Z"
    }
   },
   "outputs": [],
   "source": [
    "K = 23\n",
    "n = 19\n",
    "k = 4"
   ]
  },
  {
   "cell_type": "markdown",
   "metadata": {},
   "source": [
    "<br>\n",
    "\n",
    "#### 2회차 이상의 실험을 하게 되는 경우에 대해 일반화를 진행\n",
    "\n",
    "* `k10` : 1회차에서는 관측되었지만, 2회차에서는 관측되지 않은 곰의 수\n",
    "\n",
    "* `k01` : 2회차에서는 관측되었지만, 1회차에서는 관측되지 않은 곰의 수\n",
    "\n",
    "* `k11` : 양 회차에서 모두 관측된 곰의 수\n"
   ]
  },
  {
   "cell_type": "code",
   "execution_count": 23,
   "metadata": {
    "execution": {
     "iopub.execute_input": "2021-04-16T19:37:48.105589Z",
     "iopub.status.busy": "2021-04-16T19:37:48.105048Z",
     "iopub.status.idle": "2021-04-16T19:37:48.106939Z",
     "shell.execute_reply": "2021-04-16T19:37:48.107364Z"
    }
   },
   "outputs": [],
   "source": [
    "k10 = 23 - 4\n",
    "k01 = 19 - 4\n",
    "k11 = 4"
   ]
  },
  {
   "cell_type": "markdown",
   "metadata": {},
   "source": [
    "<br>\n",
    "\n",
    "#### 실제 $N$과 $p$의 값을 알고 있다고 가정 $\\rightarrow$ 이 값을 사용해서 데이터의 가능도를 계산\n",
    "- 예) $N=100$이고 $p=0.2$라고 가정,$N$으로 아예 관측되지 않은 곰의 수인 `k00`을 예측"
   ]
  },
  {
   "cell_type": "code",
   "execution_count": 24,
   "metadata": {
    "execution": {
     "iopub.execute_input": "2021-04-16T19:37:48.111393Z",
     "iopub.status.busy": "2021-04-16T19:37:48.110772Z",
     "iopub.status.idle": "2021-04-16T19:37:48.113489Z",
     "shell.execute_reply": "2021-04-16T19:37:48.113917Z"
    }
   },
   "outputs": [
    {
     "data": {
      "text/plain": [
       "62"
      ]
     },
     "execution_count": 24,
     "metadata": {},
     "output_type": "execute_result"
    }
   ],
   "source": [
    "N = 100\n",
    "\n",
    "observed = k01 + k10 + k11\n",
    "k00 = N - observed\n",
    "k00"
   ]
  },
  {
   "cell_type": "markdown",
   "metadata": {},
   "source": [
    "- **$p=0.2$인 것을 알고 있으니, 각 그룹에 곰이 해당될 확률을 계산**\n",
    "    - 1, 2회 실험에서 모두 관측될 확률은 $p\\times p$,\n",
    "    \n",
    "        양쪽에서 모두 관측되지 않을 확률은 $q\\times q$"
   ]
  },
  {
   "cell_type": "code",
   "execution_count": 25,
   "metadata": {
    "execution": {
     "iopub.execute_input": "2021-04-16T19:37:48.117755Z",
     "iopub.status.busy": "2021-04-16T19:37:48.117071Z",
     "iopub.status.idle": "2021-04-16T19:37:48.119882Z",
     "shell.execute_reply": "2021-04-16T19:37:48.120304Z"
    }
   },
   "outputs": [
    {
     "data": {
      "text/plain": [
       "[62, 15, 19, 4]"
      ]
     },
     "execution_count": 25,
     "metadata": {},
     "output_type": "execute_result"
    }
   ],
   "source": [
    "x = [k00, k01, k10, k11]\n",
    "x"
   ]
  },
  {
   "cell_type": "code",
   "execution_count": 26,
   "metadata": {
    "execution": {
     "iopub.execute_input": "2021-04-16T19:37:48.124805Z",
     "iopub.status.busy": "2021-04-16T19:37:48.124072Z",
     "iopub.status.idle": "2021-04-16T19:37:48.127454Z",
     "shell.execute_reply": "2021-04-16T19:37:48.126952Z"
    }
   },
   "outputs": [
    {
     "data": {
      "text/plain": [
       "[0.6400000000000001,\n",
       " 0.16000000000000003,\n",
       " 0.16000000000000003,\n",
       " 0.04000000000000001]"
      ]
     },
     "execution_count": 26,
     "metadata": {},
     "output_type": "execute_result"
    }
   ],
   "source": [
    "p = 0.2\n",
    "q = 1-p\n",
    "y = [q*q, q*p, p*q, p*p]\n",
    "y"
   ]
  },
  {
   "cell_type": "markdown",
   "metadata": {},
   "source": [
    "<br>\n",
    "\n",
    "#### 데이터의 확률을 [다항분포](https://en.wikipedia.org/wiki/Multinomial_distribution)로 표현\n",
    "\n",
    "$$\\frac{N!}{\\prod x_i!} \\prod y_i^{x_i}$$\n",
    "\n",
    "- **$N$이 모집단이이고**\n",
    "\n",
    "    **$x$는 각 그룹의 수에 대한 수열**\n",
    "    \n",
    "    **$y$는 각 그룹의 확률에 대한 수열**\n",
    "\n",
    "<br>\n",
    "\n",
    "#### `scipy.stats.multinomial.pmf(x, N, y)` : 다항분포 객체 생성\n",
    "- **`x` : 관측값에 대한 list**\n",
    "- **`N` : 모집단의 크기**\n",
    "- **`y` : 확률에 대한 list**"
   ]
  },
  {
   "cell_type": "code",
   "execution_count": 27,
   "metadata": {},
   "outputs": [],
   "source": [
    "from scipy.stats import multinomial"
   ]
  },
  {
   "cell_type": "code",
   "execution_count": 31,
   "metadata": {},
   "outputs": [
    {
     "name": "stdout",
     "output_type": "stream",
     "text": [
      "[62, 15, 19, 4]\n",
      "100\n",
      "[0.6400000000000001, 0.16000000000000003, 0.16000000000000003, 0.04000000000000001]\n"
     ]
    }
   ],
   "source": [
    "x = [k00, k01, k10, k11]\n",
    "print(x)\n",
    "\n",
    "print(N)\n",
    "\n",
    "y = [q*q, q*p, p*q, p*p]\n",
    "print(y)"
   ]
  },
  {
   "cell_type": "code",
   "execution_count": 32,
   "metadata": {
    "execution": {
     "iopub.execute_input": "2021-04-16T19:37:48.132720Z",
     "iopub.status.busy": "2021-04-16T19:37:48.131899Z",
     "iopub.status.idle": "2021-04-16T19:37:48.135127Z",
     "shell.execute_reply": "2021-04-16T19:37:48.134684Z"
    }
   },
   "outputs": [
    {
     "data": {
      "text/plain": [
       "0.0016664011988507257"
      ]
     },
     "execution_count": 32,
     "metadata": {},
     "output_type": "execute_result"
    }
   ],
   "source": [
    "likelihood = multinomial.pmf(x, N, y)\n",
    "likelihood"
   ]
  },
  {
   "cell_type": "markdown",
   "metadata": {},
   "source": [
    "<br>\n",
    "\n",
    "#### $N$과 $p$에 대한 사전확률분포를 선택한 후, 가능도로 값 갱신 필요"
   ]
  },
  {
   "cell_type": "markdown",
   "metadata": {},
   "source": [
    "<br>\n",
    "\n",
    "## 15.04. 사전분포\n",
    "\n",
    "#### 모집단의 크기 $N$의 분포는 50 ~ 500사이의 균등분포를 따른다고 가정"
   ]
  },
  {
   "cell_type": "code",
   "execution_count": 35,
   "metadata": {},
   "outputs": [],
   "source": [
    "qs = np.arange(50, 501)\n",
    "prior_N = make_uniform(qs, name='N')"
   ]
  },
  {
   "cell_type": "markdown",
   "metadata": {},
   "source": [
    "#### 각 곰을 관측할 확률의 분포는 $p$는 0% ~ 99%사이의 균등분포를 따른다고 가정"
   ]
  },
  {
   "cell_type": "code",
   "execution_count": 36,
   "metadata": {
    "execution": {
     "iopub.execute_input": "2021-04-16T19:37:48.139275Z",
     "iopub.status.busy": "2021-04-16T19:37:48.138848Z",
     "iopub.status.idle": "2021-04-16T19:37:48.140998Z",
     "shell.execute_reply": "2021-04-16T19:37:48.140599Z"
    }
   },
   "outputs": [],
   "source": [
    "qs = np.linspace(0, 0.99, num=100)\n",
    "prior_p = make_uniform(qs, name='p')"
   ]
  },
  {
   "cell_type": "markdown",
   "metadata": {},
   "source": [
    "<br>\n",
    "\n",
    "#### 결합분포 생성"
   ]
  },
  {
   "cell_type": "code",
   "execution_count": 38,
   "metadata": {},
   "outputs": [],
   "source": [
    "from utils import make_joint"
   ]
  },
  {
   "cell_type": "code",
   "execution_count": 44,
   "metadata": {
    "execution": {
     "iopub.execute_input": "2021-04-16T19:37:48.144506Z",
     "iopub.status.busy": "2021-04-16T19:37:48.143690Z",
     "iopub.status.idle": "2021-04-16T19:37:48.148207Z",
     "shell.execute_reply": "2021-04-16T19:37:48.147721Z"
    }
   },
   "outputs": [
    {
     "data": {
      "text/html": [
       "<div>\n",
       "<style scoped>\n",
       "    .dataframe tbody tr th:only-of-type {\n",
       "        vertical-align: middle;\n",
       "    }\n",
       "\n",
       "    .dataframe tbody tr th {\n",
       "        vertical-align: top;\n",
       "    }\n",
       "\n",
       "    .dataframe thead th {\n",
       "        text-align: right;\n",
       "    }\n",
       "</style>\n",
       "<table border=\"1\" class=\"dataframe\">\n",
       "  <thead>\n",
       "    <tr style=\"text-align: right;\">\n",
       "      <th>p</th>\n",
       "      <th>0.00</th>\n",
       "      <th>0.01</th>\n",
       "      <th>0.02</th>\n",
       "      <th>0.03</th>\n",
       "      <th>0.04</th>\n",
       "      <th>0.05</th>\n",
       "      <th>0.06</th>\n",
       "      <th>0.07</th>\n",
       "      <th>0.08</th>\n",
       "      <th>0.09</th>\n",
       "      <th>...</th>\n",
       "      <th>0.90</th>\n",
       "      <th>0.91</th>\n",
       "      <th>0.92</th>\n",
       "      <th>0.93</th>\n",
       "      <th>0.94</th>\n",
       "      <th>0.95</th>\n",
       "      <th>0.96</th>\n",
       "      <th>0.97</th>\n",
       "      <th>0.98</th>\n",
       "      <th>0.99</th>\n",
       "    </tr>\n",
       "    <tr>\n",
       "      <th>N</th>\n",
       "      <th></th>\n",
       "      <th></th>\n",
       "      <th></th>\n",
       "      <th></th>\n",
       "      <th></th>\n",
       "      <th></th>\n",
       "      <th></th>\n",
       "      <th></th>\n",
       "      <th></th>\n",
       "      <th></th>\n",
       "      <th></th>\n",
       "      <th></th>\n",
       "      <th></th>\n",
       "      <th></th>\n",
       "      <th></th>\n",
       "      <th></th>\n",
       "      <th></th>\n",
       "      <th></th>\n",
       "      <th></th>\n",
       "      <th></th>\n",
       "      <th></th>\n",
       "    </tr>\n",
       "  </thead>\n",
       "  <tbody>\n",
       "    <tr>\n",
       "      <th>50</th>\n",
       "      <td>0.000022</td>\n",
       "      <td>0.000022</td>\n",
       "      <td>0.000022</td>\n",
       "      <td>0.000022</td>\n",
       "      <td>0.000022</td>\n",
       "      <td>0.000022</td>\n",
       "      <td>0.000022</td>\n",
       "      <td>0.000022</td>\n",
       "      <td>0.000022</td>\n",
       "      <td>0.000022</td>\n",
       "      <td>...</td>\n",
       "      <td>0.000022</td>\n",
       "      <td>0.000022</td>\n",
       "      <td>0.000022</td>\n",
       "      <td>0.000022</td>\n",
       "      <td>0.000022</td>\n",
       "      <td>0.000022</td>\n",
       "      <td>0.000022</td>\n",
       "      <td>0.000022</td>\n",
       "      <td>0.000022</td>\n",
       "      <td>0.000022</td>\n",
       "    </tr>\n",
       "    <tr>\n",
       "      <th>51</th>\n",
       "      <td>0.000022</td>\n",
       "      <td>0.000022</td>\n",
       "      <td>0.000022</td>\n",
       "      <td>0.000022</td>\n",
       "      <td>0.000022</td>\n",
       "      <td>0.000022</td>\n",
       "      <td>0.000022</td>\n",
       "      <td>0.000022</td>\n",
       "      <td>0.000022</td>\n",
       "      <td>0.000022</td>\n",
       "      <td>...</td>\n",
       "      <td>0.000022</td>\n",
       "      <td>0.000022</td>\n",
       "      <td>0.000022</td>\n",
       "      <td>0.000022</td>\n",
       "      <td>0.000022</td>\n",
       "      <td>0.000022</td>\n",
       "      <td>0.000022</td>\n",
       "      <td>0.000022</td>\n",
       "      <td>0.000022</td>\n",
       "      <td>0.000022</td>\n",
       "    </tr>\n",
       "    <tr>\n",
       "      <th>52</th>\n",
       "      <td>0.000022</td>\n",
       "      <td>0.000022</td>\n",
       "      <td>0.000022</td>\n",
       "      <td>0.000022</td>\n",
       "      <td>0.000022</td>\n",
       "      <td>0.000022</td>\n",
       "      <td>0.000022</td>\n",
       "      <td>0.000022</td>\n",
       "      <td>0.000022</td>\n",
       "      <td>0.000022</td>\n",
       "      <td>...</td>\n",
       "      <td>0.000022</td>\n",
       "      <td>0.000022</td>\n",
       "      <td>0.000022</td>\n",
       "      <td>0.000022</td>\n",
       "      <td>0.000022</td>\n",
       "      <td>0.000022</td>\n",
       "      <td>0.000022</td>\n",
       "      <td>0.000022</td>\n",
       "      <td>0.000022</td>\n",
       "      <td>0.000022</td>\n",
       "    </tr>\n",
       "    <tr>\n",
       "      <th>53</th>\n",
       "      <td>0.000022</td>\n",
       "      <td>0.000022</td>\n",
       "      <td>0.000022</td>\n",
       "      <td>0.000022</td>\n",
       "      <td>0.000022</td>\n",
       "      <td>0.000022</td>\n",
       "      <td>0.000022</td>\n",
       "      <td>0.000022</td>\n",
       "      <td>0.000022</td>\n",
       "      <td>0.000022</td>\n",
       "      <td>...</td>\n",
       "      <td>0.000022</td>\n",
       "      <td>0.000022</td>\n",
       "      <td>0.000022</td>\n",
       "      <td>0.000022</td>\n",
       "      <td>0.000022</td>\n",
       "      <td>0.000022</td>\n",
       "      <td>0.000022</td>\n",
       "      <td>0.000022</td>\n",
       "      <td>0.000022</td>\n",
       "      <td>0.000022</td>\n",
       "    </tr>\n",
       "    <tr>\n",
       "      <th>54</th>\n",
       "      <td>0.000022</td>\n",
       "      <td>0.000022</td>\n",
       "      <td>0.000022</td>\n",
       "      <td>0.000022</td>\n",
       "      <td>0.000022</td>\n",
       "      <td>0.000022</td>\n",
       "      <td>0.000022</td>\n",
       "      <td>0.000022</td>\n",
       "      <td>0.000022</td>\n",
       "      <td>0.000022</td>\n",
       "      <td>...</td>\n",
       "      <td>0.000022</td>\n",
       "      <td>0.000022</td>\n",
       "      <td>0.000022</td>\n",
       "      <td>0.000022</td>\n",
       "      <td>0.000022</td>\n",
       "      <td>0.000022</td>\n",
       "      <td>0.000022</td>\n",
       "      <td>0.000022</td>\n",
       "      <td>0.000022</td>\n",
       "      <td>0.000022</td>\n",
       "    </tr>\n",
       "    <tr>\n",
       "      <th>...</th>\n",
       "      <td>...</td>\n",
       "      <td>...</td>\n",
       "      <td>...</td>\n",
       "      <td>...</td>\n",
       "      <td>...</td>\n",
       "      <td>...</td>\n",
       "      <td>...</td>\n",
       "      <td>...</td>\n",
       "      <td>...</td>\n",
       "      <td>...</td>\n",
       "      <td>...</td>\n",
       "      <td>...</td>\n",
       "      <td>...</td>\n",
       "      <td>...</td>\n",
       "      <td>...</td>\n",
       "      <td>...</td>\n",
       "      <td>...</td>\n",
       "      <td>...</td>\n",
       "      <td>...</td>\n",
       "      <td>...</td>\n",
       "      <td>...</td>\n",
       "    </tr>\n",
       "    <tr>\n",
       "      <th>496</th>\n",
       "      <td>0.000022</td>\n",
       "      <td>0.000022</td>\n",
       "      <td>0.000022</td>\n",
       "      <td>0.000022</td>\n",
       "      <td>0.000022</td>\n",
       "      <td>0.000022</td>\n",
       "      <td>0.000022</td>\n",
       "      <td>0.000022</td>\n",
       "      <td>0.000022</td>\n",
       "      <td>0.000022</td>\n",
       "      <td>...</td>\n",
       "      <td>0.000022</td>\n",
       "      <td>0.000022</td>\n",
       "      <td>0.000022</td>\n",
       "      <td>0.000022</td>\n",
       "      <td>0.000022</td>\n",
       "      <td>0.000022</td>\n",
       "      <td>0.000022</td>\n",
       "      <td>0.000022</td>\n",
       "      <td>0.000022</td>\n",
       "      <td>0.000022</td>\n",
       "    </tr>\n",
       "    <tr>\n",
       "      <th>497</th>\n",
       "      <td>0.000022</td>\n",
       "      <td>0.000022</td>\n",
       "      <td>0.000022</td>\n",
       "      <td>0.000022</td>\n",
       "      <td>0.000022</td>\n",
       "      <td>0.000022</td>\n",
       "      <td>0.000022</td>\n",
       "      <td>0.000022</td>\n",
       "      <td>0.000022</td>\n",
       "      <td>0.000022</td>\n",
       "      <td>...</td>\n",
       "      <td>0.000022</td>\n",
       "      <td>0.000022</td>\n",
       "      <td>0.000022</td>\n",
       "      <td>0.000022</td>\n",
       "      <td>0.000022</td>\n",
       "      <td>0.000022</td>\n",
       "      <td>0.000022</td>\n",
       "      <td>0.000022</td>\n",
       "      <td>0.000022</td>\n",
       "      <td>0.000022</td>\n",
       "    </tr>\n",
       "    <tr>\n",
       "      <th>498</th>\n",
       "      <td>0.000022</td>\n",
       "      <td>0.000022</td>\n",
       "      <td>0.000022</td>\n",
       "      <td>0.000022</td>\n",
       "      <td>0.000022</td>\n",
       "      <td>0.000022</td>\n",
       "      <td>0.000022</td>\n",
       "      <td>0.000022</td>\n",
       "      <td>0.000022</td>\n",
       "      <td>0.000022</td>\n",
       "      <td>...</td>\n",
       "      <td>0.000022</td>\n",
       "      <td>0.000022</td>\n",
       "      <td>0.000022</td>\n",
       "      <td>0.000022</td>\n",
       "      <td>0.000022</td>\n",
       "      <td>0.000022</td>\n",
       "      <td>0.000022</td>\n",
       "      <td>0.000022</td>\n",
       "      <td>0.000022</td>\n",
       "      <td>0.000022</td>\n",
       "    </tr>\n",
       "    <tr>\n",
       "      <th>499</th>\n",
       "      <td>0.000022</td>\n",
       "      <td>0.000022</td>\n",
       "      <td>0.000022</td>\n",
       "      <td>0.000022</td>\n",
       "      <td>0.000022</td>\n",
       "      <td>0.000022</td>\n",
       "      <td>0.000022</td>\n",
       "      <td>0.000022</td>\n",
       "      <td>0.000022</td>\n",
       "      <td>0.000022</td>\n",
       "      <td>...</td>\n",
       "      <td>0.000022</td>\n",
       "      <td>0.000022</td>\n",
       "      <td>0.000022</td>\n",
       "      <td>0.000022</td>\n",
       "      <td>0.000022</td>\n",
       "      <td>0.000022</td>\n",
       "      <td>0.000022</td>\n",
       "      <td>0.000022</td>\n",
       "      <td>0.000022</td>\n",
       "      <td>0.000022</td>\n",
       "    </tr>\n",
       "    <tr>\n",
       "      <th>500</th>\n",
       "      <td>0.000022</td>\n",
       "      <td>0.000022</td>\n",
       "      <td>0.000022</td>\n",
       "      <td>0.000022</td>\n",
       "      <td>0.000022</td>\n",
       "      <td>0.000022</td>\n",
       "      <td>0.000022</td>\n",
       "      <td>0.000022</td>\n",
       "      <td>0.000022</td>\n",
       "      <td>0.000022</td>\n",
       "      <td>...</td>\n",
       "      <td>0.000022</td>\n",
       "      <td>0.000022</td>\n",
       "      <td>0.000022</td>\n",
       "      <td>0.000022</td>\n",
       "      <td>0.000022</td>\n",
       "      <td>0.000022</td>\n",
       "      <td>0.000022</td>\n",
       "      <td>0.000022</td>\n",
       "      <td>0.000022</td>\n",
       "      <td>0.000022</td>\n",
       "    </tr>\n",
       "  </tbody>\n",
       "</table>\n",
       "<p>451 rows × 100 columns</p>\n",
       "</div>"
      ],
      "text/plain": [
       "p        0.00      0.01      0.02      0.03      0.04      0.05      0.06  \\\n",
       "N                                                                           \n",
       "50   0.000022  0.000022  0.000022  0.000022  0.000022  0.000022  0.000022   \n",
       "51   0.000022  0.000022  0.000022  0.000022  0.000022  0.000022  0.000022   \n",
       "52   0.000022  0.000022  0.000022  0.000022  0.000022  0.000022  0.000022   \n",
       "53   0.000022  0.000022  0.000022  0.000022  0.000022  0.000022  0.000022   \n",
       "54   0.000022  0.000022  0.000022  0.000022  0.000022  0.000022  0.000022   \n",
       "..        ...       ...       ...       ...       ...       ...       ...   \n",
       "496  0.000022  0.000022  0.000022  0.000022  0.000022  0.000022  0.000022   \n",
       "497  0.000022  0.000022  0.000022  0.000022  0.000022  0.000022  0.000022   \n",
       "498  0.000022  0.000022  0.000022  0.000022  0.000022  0.000022  0.000022   \n",
       "499  0.000022  0.000022  0.000022  0.000022  0.000022  0.000022  0.000022   \n",
       "500  0.000022  0.000022  0.000022  0.000022  0.000022  0.000022  0.000022   \n",
       "\n",
       "p        0.07      0.08      0.09  ...      0.90      0.91      0.92  \\\n",
       "N                                  ...                                 \n",
       "50   0.000022  0.000022  0.000022  ...  0.000022  0.000022  0.000022   \n",
       "51   0.000022  0.000022  0.000022  ...  0.000022  0.000022  0.000022   \n",
       "52   0.000022  0.000022  0.000022  ...  0.000022  0.000022  0.000022   \n",
       "53   0.000022  0.000022  0.000022  ...  0.000022  0.000022  0.000022   \n",
       "54   0.000022  0.000022  0.000022  ...  0.000022  0.000022  0.000022   \n",
       "..        ...       ...       ...  ...       ...       ...       ...   \n",
       "496  0.000022  0.000022  0.000022  ...  0.000022  0.000022  0.000022   \n",
       "497  0.000022  0.000022  0.000022  ...  0.000022  0.000022  0.000022   \n",
       "498  0.000022  0.000022  0.000022  ...  0.000022  0.000022  0.000022   \n",
       "499  0.000022  0.000022  0.000022  ...  0.000022  0.000022  0.000022   \n",
       "500  0.000022  0.000022  0.000022  ...  0.000022  0.000022  0.000022   \n",
       "\n",
       "p        0.93      0.94      0.95      0.96      0.97      0.98      0.99  \n",
       "N                                                                          \n",
       "50   0.000022  0.000022  0.000022  0.000022  0.000022  0.000022  0.000022  \n",
       "51   0.000022  0.000022  0.000022  0.000022  0.000022  0.000022  0.000022  \n",
       "52   0.000022  0.000022  0.000022  0.000022  0.000022  0.000022  0.000022  \n",
       "53   0.000022  0.000022  0.000022  0.000022  0.000022  0.000022  0.000022  \n",
       "54   0.000022  0.000022  0.000022  0.000022  0.000022  0.000022  0.000022  \n",
       "..        ...       ...       ...       ...       ...       ...       ...  \n",
       "496  0.000022  0.000022  0.000022  0.000022  0.000022  0.000022  0.000022  \n",
       "497  0.000022  0.000022  0.000022  0.000022  0.000022  0.000022  0.000022  \n",
       "498  0.000022  0.000022  0.000022  0.000022  0.000022  0.000022  0.000022  \n",
       "499  0.000022  0.000022  0.000022  0.000022  0.000022  0.000022  0.000022  \n",
       "500  0.000022  0.000022  0.000022  0.000022  0.000022  0.000022  0.000022  \n",
       "\n",
       "[451 rows x 100 columns]"
      ]
     },
     "execution_count": 44,
     "metadata": {},
     "output_type": "execute_result"
    }
   ],
   "source": [
    "joint_prior = make_joint(prior_p, prior_N)\n",
    "joint_prior.shape\n",
    "joint_prior"
   ]
  },
  {
   "cell_type": "code",
   "execution_count": 40,
   "metadata": {},
   "outputs": [],
   "source": [
    "from empiricaldist import Pmf"
   ]
  },
  {
   "cell_type": "code",
   "execution_count": 41,
   "metadata": {
    "execution": {
     "iopub.execute_input": "2021-04-16T19:37:48.152464Z",
     "iopub.status.busy": "2021-04-16T19:37:48.151856Z",
     "iopub.status.idle": "2021-04-16T19:37:48.161492Z",
     "shell.execute_reply": "2021-04-16T19:37:48.161060Z"
    }
   },
   "outputs": [
    {
     "data": {
      "text/html": [
       "<div>\n",
       "<style scoped>\n",
       "    .dataframe tbody tr th:only-of-type {\n",
       "        vertical-align: middle;\n",
       "    }\n",
       "\n",
       "    .dataframe tbody tr th {\n",
       "        vertical-align: top;\n",
       "    }\n",
       "\n",
       "    .dataframe thead th {\n",
       "        text-align: right;\n",
       "    }\n",
       "</style>\n",
       "<table border=\"1\" class=\"dataframe\">\n",
       "  <thead>\n",
       "    <tr style=\"text-align: right;\">\n",
       "      <th></th>\n",
       "      <th></th>\n",
       "      <th>probs</th>\n",
       "    </tr>\n",
       "    <tr>\n",
       "      <th>N</th>\n",
       "      <th>p</th>\n",
       "      <th></th>\n",
       "    </tr>\n",
       "  </thead>\n",
       "  <tbody>\n",
       "    <tr>\n",
       "      <th rowspan=\"3\" valign=\"top\">50</th>\n",
       "      <th>0.00</th>\n",
       "      <td>0.000022</td>\n",
       "    </tr>\n",
       "    <tr>\n",
       "      <th>0.01</th>\n",
       "      <td>0.000022</td>\n",
       "    </tr>\n",
       "    <tr>\n",
       "      <th>0.02</th>\n",
       "      <td>0.000022</td>\n",
       "    </tr>\n",
       "  </tbody>\n",
       "</table>\n",
       "</div>"
      ],
      "text/plain": [
       "N   p   \n",
       "50  0.00    0.000022\n",
       "    0.01    0.000022\n",
       "    0.02    0.000022\n",
       "Name: , dtype: float64"
      ]
     },
     "execution_count": 41,
     "metadata": {},
     "output_type": "execute_result"
    }
   ],
   "source": [
    "joint_pmf = Pmf(joint_prior.stack())\n",
    "joint_pmf.head(3)"
   ]
  },
  {
   "cell_type": "code",
   "execution_count": 50,
   "metadata": {
    "execution": {
     "iopub.execute_input": "2021-04-16T19:37:48.175413Z",
     "iopub.status.busy": "2021-04-16T19:37:48.174911Z",
     "iopub.status.idle": "2021-04-16T19:37:48.177293Z",
     "shell.execute_reply": "2021-04-16T19:37:48.177641Z"
    },
    "tags": []
   },
   "outputs": [
    {
     "data": {
      "text/plain": [
       "(45100,)"
      ]
     },
     "execution_count": 50,
     "metadata": {},
     "output_type": "execute_result"
    }
   ],
   "source": [
    "joint_pmf.shape"
   ]
  },
  {
   "cell_type": "markdown",
   "metadata": {},
   "source": [
    "<br>\n",
    "\n",
    "## 15.05. 갱신\n"
   ]
  },
  {
   "cell_type": "code",
   "execution_count": 51,
   "metadata": {
    "execution": {
     "iopub.execute_input": "2021-04-16T19:37:48.181299Z",
     "iopub.status.busy": "2021-04-16T19:37:48.180508Z",
     "iopub.status.idle": "2021-04-16T19:37:48.182589Z",
     "shell.execute_reply": "2021-04-16T19:37:48.183028Z"
    }
   },
   "outputs": [],
   "source": [
    "likelihood = joint_pmf.copy()"
   ]
  },
  {
   "cell_type": "code",
   "execution_count": 53,
   "metadata": {},
   "outputs": [
    {
     "data": {
      "text/plain": [
       "38"
      ]
     },
     "execution_count": 53,
     "metadata": {},
     "output_type": "execute_result"
    }
   ],
   "source": [
    "observed = k01 + k10 + k11\n",
    "observed"
   ]
  },
  {
   "cell_type": "markdown",
   "metadata": {},
   "source": [
    "#### 매개변수 쌍 별로 데이터에 대한 가능도를 계산"
   ]
  },
  {
   "cell_type": "code",
   "execution_count": 61,
   "metadata": {
    "execution": {
     "iopub.execute_input": "2021-04-16T19:37:48.187709Z",
     "iopub.status.busy": "2021-04-16T19:37:48.187158Z",
     "iopub.status.idle": "2021-04-16T19:37:53.018364Z",
     "shell.execute_reply": "2021-04-16T19:37:53.017902Z"
    }
   },
   "outputs": [],
   "source": [
    "for N, p in joint_pmf.index:\n",
    "    \n",
    "    k00 = N - observed\n",
    "    x = [k00, k01, k10, k11]\n",
    "    q = 1-p\n",
    "    y = [q*q, q*p, p*q, p*p]\n",
    "    likelihood[N, p] = multinomial.pmf(x, N, y)"
   ]
  },
  {
   "cell_type": "markdown",
   "metadata": {},
   "source": [
    "<br>\n",
    "\n",
    "#### 사후분포 계산"
   ]
  },
  {
   "cell_type": "code",
   "execution_count": 62,
   "metadata": {
    "execution": {
     "iopub.execute_input": "2021-04-16T19:37:53.021855Z",
     "iopub.status.busy": "2021-04-16T19:37:53.021063Z",
     "iopub.status.idle": "2021-04-16T19:37:53.026370Z",
     "shell.execute_reply": "2021-04-16T19:37:53.026762Z"
    },
    "tags": []
   },
   "outputs": [
    {
     "data": {
      "text/plain": [
       "2.9678796190279657e-05"
      ]
     },
     "execution_count": 62,
     "metadata": {},
     "output_type": "execute_result"
    }
   ],
   "source": [
    "posterior_pmf = joint_pmf * likelihood\n",
    "posterior_pmf.normalize()"
   ]
  },
  {
   "cell_type": "code",
   "execution_count": 63,
   "metadata": {
    "execution": {
     "iopub.execute_input": "2021-04-16T19:37:53.029734Z",
     "iopub.status.busy": "2021-04-16T19:37:53.029220Z",
     "iopub.status.idle": "2021-04-16T19:37:53.040079Z",
     "shell.execute_reply": "2021-04-16T19:37:53.039661Z"
    }
   },
   "outputs": [
    {
     "data": {
      "text/html": [
       "<div>\n",
       "<style scoped>\n",
       "    .dataframe tbody tr th:only-of-type {\n",
       "        vertical-align: middle;\n",
       "    }\n",
       "\n",
       "    .dataframe tbody tr th {\n",
       "        vertical-align: top;\n",
       "    }\n",
       "\n",
       "    .dataframe thead th {\n",
       "        text-align: right;\n",
       "    }\n",
       "</style>\n",
       "<table border=\"1\" class=\"dataframe\">\n",
       "  <thead>\n",
       "    <tr style=\"text-align: right;\">\n",
       "      <th>p</th>\n",
       "      <th>0.00</th>\n",
       "      <th>0.01</th>\n",
       "      <th>0.02</th>\n",
       "      <th>0.03</th>\n",
       "      <th>0.04</th>\n",
       "      <th>0.05</th>\n",
       "      <th>0.06</th>\n",
       "      <th>0.07</th>\n",
       "      <th>0.08</th>\n",
       "      <th>0.09</th>\n",
       "      <th>...</th>\n",
       "      <th>0.90</th>\n",
       "      <th>0.91</th>\n",
       "      <th>0.92</th>\n",
       "      <th>0.93</th>\n",
       "      <th>0.94</th>\n",
       "      <th>0.95</th>\n",
       "      <th>0.96</th>\n",
       "      <th>0.97</th>\n",
       "      <th>0.98</th>\n",
       "      <th>0.99</th>\n",
       "    </tr>\n",
       "    <tr>\n",
       "      <th>N</th>\n",
       "      <th></th>\n",
       "      <th></th>\n",
       "      <th></th>\n",
       "      <th></th>\n",
       "      <th></th>\n",
       "      <th></th>\n",
       "      <th></th>\n",
       "      <th></th>\n",
       "      <th></th>\n",
       "      <th></th>\n",
       "      <th></th>\n",
       "      <th></th>\n",
       "      <th></th>\n",
       "      <th></th>\n",
       "      <th></th>\n",
       "      <th></th>\n",
       "      <th></th>\n",
       "      <th></th>\n",
       "      <th></th>\n",
       "      <th></th>\n",
       "      <th></th>\n",
       "    </tr>\n",
       "  </thead>\n",
       "  <tbody>\n",
       "    <tr>\n",
       "      <th>50</th>\n",
       "      <td>0.0</td>\n",
       "      <td>6.936668e-60</td>\n",
       "      <td>1.693097e-47</td>\n",
       "      <td>2.323608e-40</td>\n",
       "      <td>2.251960e-35</td>\n",
       "      <td>1.442178e-31</td>\n",
       "      <td>1.652257e-28</td>\n",
       "      <td>5.760210e-26</td>\n",
       "      <td>8.390407e-24</td>\n",
       "      <td>6.264635e-22</td>\n",
       "      <td>...</td>\n",
       "      <td>1.487630e-35</td>\n",
       "      <td>5.249448e-38</td>\n",
       "      <td>8.966390e-41</td>\n",
       "      <td>6.113357e-44</td>\n",
       "      <td>1.254446e-47</td>\n",
       "      <td>4.999900e-52</td>\n",
       "      <td>1.858578e-57</td>\n",
       "      <td>1.628378e-64</td>\n",
       "      <td>1.533008e-74</td>\n",
       "      <td>8.146814e-92</td>\n",
       "    </tr>\n",
       "    <tr>\n",
       "      <th>51</th>\n",
       "      <td>0.0</td>\n",
       "      <td>2.667154e-59</td>\n",
       "      <td>6.379120e-47</td>\n",
       "      <td>8.576956e-40</td>\n",
       "      <td>8.141980e-35</td>\n",
       "      <td>5.106143e-31</td>\n",
       "      <td>5.727435e-28</td>\n",
       "      <td>1.954479e-25</td>\n",
       "      <td>2.786028e-23</td>\n",
       "      <td>2.035192e-21</td>\n",
       "      <td>...</td>\n",
       "      <td>5.836088e-37</td>\n",
       "      <td>1.668113e-39</td>\n",
       "      <td>2.251254e-42</td>\n",
       "      <td>1.175175e-45</td>\n",
       "      <td>1.771664e-49</td>\n",
       "      <td>4.903748e-54</td>\n",
       "      <td>1.166615e-59</td>\n",
       "      <td>5.749427e-67</td>\n",
       "      <td>2.405644e-77</td>\n",
       "      <td>3.196058e-95</td>\n",
       "    </tr>\n",
       "    <tr>\n",
       "      <th>52</th>\n",
       "      <td>0.0</td>\n",
       "      <td>9.709432e-59</td>\n",
       "      <td>2.275560e-46</td>\n",
       "      <td>2.997450e-39</td>\n",
       "      <td>2.787070e-34</td>\n",
       "      <td>1.711652e-30</td>\n",
       "      <td>1.879711e-27</td>\n",
       "      <td>6.278736e-25</td>\n",
       "      <td>8.758636e-23</td>\n",
       "      <td>6.259843e-21</td>\n",
       "      <td>...</td>\n",
       "      <td>2.167690e-38</td>\n",
       "      <td>5.018637e-41</td>\n",
       "      <td>5.351551e-44</td>\n",
       "      <td>2.138819e-47</td>\n",
       "      <td>2.368968e-51</td>\n",
       "      <td>4.553480e-56</td>\n",
       "      <td>6.933029e-62</td>\n",
       "      <td>1.921951e-69</td>\n",
       "      <td>3.574100e-80</td>\n",
       "      <td>1.187107e-98</td>\n",
       "    </tr>\n",
       "    <tr>\n",
       "      <th>53</th>\n",
       "      <td>0.0</td>\n",
       "      <td>3.362396e-58</td>\n",
       "      <td>7.721915e-46</td>\n",
       "      <td>9.965063e-39</td>\n",
       "      <td>9.075591e-34</td>\n",
       "      <td>5.458173e-30</td>\n",
       "      <td>5.868559e-27</td>\n",
       "      <td>1.918769e-24</td>\n",
       "      <td>2.619369e-22</td>\n",
       "      <td>1.831601e-20</td>\n",
       "      <td>...</td>\n",
       "      <td>7.659171e-40</td>\n",
       "      <td>1.436334e-42</td>\n",
       "      <td>1.210164e-45</td>\n",
       "      <td>3.703009e-49</td>\n",
       "      <td>3.013327e-53</td>\n",
       "      <td>4.022241e-58</td>\n",
       "      <td>3.919472e-64</td>\n",
       "      <td>6.111805e-72</td>\n",
       "      <td>5.051394e-83</td>\n",
       "      <td>4.194445e-102</td>\n",
       "    </tr>\n",
       "    <tr>\n",
       "      <th>54</th>\n",
       "      <td>0.0</td>\n",
       "      <td>1.112226e-57</td>\n",
       "      <td>2.502943e-45</td>\n",
       "      <td>3.164443e-38</td>\n",
       "      <td>2.822872e-33</td>\n",
       "      <td>1.662525e-29</td>\n",
       "      <td>1.750092e-26</td>\n",
       "      <td>5.600959e-24</td>\n",
       "      <td>7.482491e-22</td>\n",
       "      <td>5.119027e-20</td>\n",
       "      <td>...</td>\n",
       "      <td>2.584970e-41</td>\n",
       "      <td>3.926578e-44</td>\n",
       "      <td>2.613954e-47</td>\n",
       "      <td>6.123851e-51</td>\n",
       "      <td>3.661192e-55</td>\n",
       "      <td>3.393766e-60</td>\n",
       "      <td>2.116515e-66</td>\n",
       "      <td>1.856461e-74</td>\n",
       "      <td>6.819382e-86</td>\n",
       "      <td>1.415625e-105</td>\n",
       "    </tr>\n",
       "    <tr>\n",
       "      <th>...</th>\n",
       "      <td>...</td>\n",
       "      <td>...</td>\n",
       "      <td>...</td>\n",
       "      <td>...</td>\n",
       "      <td>...</td>\n",
       "      <td>...</td>\n",
       "      <td>...</td>\n",
       "      <td>...</td>\n",
       "      <td>...</td>\n",
       "      <td>...</td>\n",
       "      <td>...</td>\n",
       "      <td>...</td>\n",
       "      <td>...</td>\n",
       "      <td>...</td>\n",
       "      <td>...</td>\n",
       "      <td>...</td>\n",
       "      <td>...</td>\n",
       "      <td>...</td>\n",
       "      <td>...</td>\n",
       "      <td>...</td>\n",
       "      <td>...</td>\n",
       "    </tr>\n",
       "    <tr>\n",
       "      <th>496</th>\n",
       "      <td>0.0</td>\n",
       "      <td>8.742606e-18</td>\n",
       "      <td>2.490220e-09</td>\n",
       "      <td>3.634514e-06</td>\n",
       "      <td>3.407196e-05</td>\n",
       "      <td>1.915893e-05</td>\n",
       "      <td>1.745900e-06</td>\n",
       "      <td>4.376479e-08</td>\n",
       "      <td>4.134486e-10</td>\n",
       "      <td>1.801831e-12</td>\n",
       "      <td>...</td>\n",
       "      <td>0.000000e+00</td>\n",
       "      <td>0.000000e+00</td>\n",
       "      <td>0.000000e+00</td>\n",
       "      <td>0.000000e+00</td>\n",
       "      <td>0.000000e+00</td>\n",
       "      <td>0.000000e+00</td>\n",
       "      <td>0.000000e+00</td>\n",
       "      <td>0.000000e+00</td>\n",
       "      <td>0.000000e+00</td>\n",
       "      <td>0.000000e+00</td>\n",
       "    </tr>\n",
       "    <tr>\n",
       "      <th>497</th>\n",
       "      <td>0.0</td>\n",
       "      <td>9.278014e-18</td>\n",
       "      <td>2.589606e-09</td>\n",
       "      <td>3.702827e-06</td>\n",
       "      <td>3.400034e-05</td>\n",
       "      <td>1.872243e-05</td>\n",
       "      <td>1.670394e-06</td>\n",
       "      <td>4.098590e-08</td>\n",
       "      <td>3.789142e-10</td>\n",
       "      <td>1.615625e-12</td>\n",
       "      <td>...</td>\n",
       "      <td>0.000000e+00</td>\n",
       "      <td>0.000000e+00</td>\n",
       "      <td>0.000000e+00</td>\n",
       "      <td>0.000000e+00</td>\n",
       "      <td>0.000000e+00</td>\n",
       "      <td>0.000000e+00</td>\n",
       "      <td>0.000000e+00</td>\n",
       "      <td>0.000000e+00</td>\n",
       "      <td>0.000000e+00</td>\n",
       "      <td>0.000000e+00</td>\n",
       "    </tr>\n",
       "    <tr>\n",
       "      <th>498</th>\n",
       "      <td>0.0</td>\n",
       "      <td>9.844574e-18</td>\n",
       "      <td>2.692510e-09</td>\n",
       "      <td>3.771798e-06</td>\n",
       "      <td>3.392323e-05</td>\n",
       "      <td>1.829283e-05</td>\n",
       "      <td>1.597887e-06</td>\n",
       "      <td>3.837707e-08</td>\n",
       "      <td>3.472066e-10</td>\n",
       "      <td>1.448421e-12</td>\n",
       "      <td>...</td>\n",
       "      <td>0.000000e+00</td>\n",
       "      <td>0.000000e+00</td>\n",
       "      <td>0.000000e+00</td>\n",
       "      <td>0.000000e+00</td>\n",
       "      <td>0.000000e+00</td>\n",
       "      <td>0.000000e+00</td>\n",
       "      <td>0.000000e+00</td>\n",
       "      <td>0.000000e+00</td>\n",
       "      <td>0.000000e+00</td>\n",
       "      <td>0.000000e+00</td>\n",
       "    </tr>\n",
       "    <tr>\n",
       "      <th>499</th>\n",
       "      <td>0.0</td>\n",
       "      <td>1.044400e-17</td>\n",
       "      <td>2.799040e-09</td>\n",
       "      <td>3.841418e-06</td>\n",
       "      <td>3.384070e-05</td>\n",
       "      <td>1.787013e-05</td>\n",
       "      <td>1.528275e-06</td>\n",
       "      <td>3.592836e-08</td>\n",
       "      <td>3.180997e-10</td>\n",
       "      <td>1.298307e-12</td>\n",
       "      <td>...</td>\n",
       "      <td>0.000000e+00</td>\n",
       "      <td>0.000000e+00</td>\n",
       "      <td>0.000000e+00</td>\n",
       "      <td>0.000000e+00</td>\n",
       "      <td>0.000000e+00</td>\n",
       "      <td>0.000000e+00</td>\n",
       "      <td>0.000000e+00</td>\n",
       "      <td>0.000000e+00</td>\n",
       "      <td>0.000000e+00</td>\n",
       "      <td>0.000000e+00</td>\n",
       "    </tr>\n",
       "    <tr>\n",
       "      <th>500</th>\n",
       "      <td>0.0</td>\n",
       "      <td>1.107810e-17</td>\n",
       "      <td>2.909305e-09</td>\n",
       "      <td>3.911677e-06</td>\n",
       "      <td>3.375280e-05</td>\n",
       "      <td>1.745432e-05</td>\n",
       "      <td>1.461454e-06</td>\n",
       "      <td>3.363034e-08</td>\n",
       "      <td>2.913848e-10</td>\n",
       "      <td>1.163558e-12</td>\n",
       "      <td>...</td>\n",
       "      <td>0.000000e+00</td>\n",
       "      <td>0.000000e+00</td>\n",
       "      <td>0.000000e+00</td>\n",
       "      <td>0.000000e+00</td>\n",
       "      <td>0.000000e+00</td>\n",
       "      <td>0.000000e+00</td>\n",
       "      <td>0.000000e+00</td>\n",
       "      <td>0.000000e+00</td>\n",
       "      <td>0.000000e+00</td>\n",
       "      <td>0.000000e+00</td>\n",
       "    </tr>\n",
       "  </tbody>\n",
       "</table>\n",
       "<p>451 rows × 100 columns</p>\n",
       "</div>"
      ],
      "text/plain": [
       "p    0.00          0.01          0.02          0.03          0.04  \\\n",
       "N                                                                   \n",
       "50    0.0  6.936668e-60  1.693097e-47  2.323608e-40  2.251960e-35   \n",
       "51    0.0  2.667154e-59  6.379120e-47  8.576956e-40  8.141980e-35   \n",
       "52    0.0  9.709432e-59  2.275560e-46  2.997450e-39  2.787070e-34   \n",
       "53    0.0  3.362396e-58  7.721915e-46  9.965063e-39  9.075591e-34   \n",
       "54    0.0  1.112226e-57  2.502943e-45  3.164443e-38  2.822872e-33   \n",
       "..    ...           ...           ...           ...           ...   \n",
       "496   0.0  8.742606e-18  2.490220e-09  3.634514e-06  3.407196e-05   \n",
       "497   0.0  9.278014e-18  2.589606e-09  3.702827e-06  3.400034e-05   \n",
       "498   0.0  9.844574e-18  2.692510e-09  3.771798e-06  3.392323e-05   \n",
       "499   0.0  1.044400e-17  2.799040e-09  3.841418e-06  3.384070e-05   \n",
       "500   0.0  1.107810e-17  2.909305e-09  3.911677e-06  3.375280e-05   \n",
       "\n",
       "p            0.05          0.06          0.07          0.08          0.09  \\\n",
       "N                                                                           \n",
       "50   1.442178e-31  1.652257e-28  5.760210e-26  8.390407e-24  6.264635e-22   \n",
       "51   5.106143e-31  5.727435e-28  1.954479e-25  2.786028e-23  2.035192e-21   \n",
       "52   1.711652e-30  1.879711e-27  6.278736e-25  8.758636e-23  6.259843e-21   \n",
       "53   5.458173e-30  5.868559e-27  1.918769e-24  2.619369e-22  1.831601e-20   \n",
       "54   1.662525e-29  1.750092e-26  5.600959e-24  7.482491e-22  5.119027e-20   \n",
       "..            ...           ...           ...           ...           ...   \n",
       "496  1.915893e-05  1.745900e-06  4.376479e-08  4.134486e-10  1.801831e-12   \n",
       "497  1.872243e-05  1.670394e-06  4.098590e-08  3.789142e-10  1.615625e-12   \n",
       "498  1.829283e-05  1.597887e-06  3.837707e-08  3.472066e-10  1.448421e-12   \n",
       "499  1.787013e-05  1.528275e-06  3.592836e-08  3.180997e-10  1.298307e-12   \n",
       "500  1.745432e-05  1.461454e-06  3.363034e-08  2.913848e-10  1.163558e-12   \n",
       "\n",
       "p    ...          0.90          0.91          0.92          0.93  \\\n",
       "N    ...                                                           \n",
       "50   ...  1.487630e-35  5.249448e-38  8.966390e-41  6.113357e-44   \n",
       "51   ...  5.836088e-37  1.668113e-39  2.251254e-42  1.175175e-45   \n",
       "52   ...  2.167690e-38  5.018637e-41  5.351551e-44  2.138819e-47   \n",
       "53   ...  7.659171e-40  1.436334e-42  1.210164e-45  3.703009e-49   \n",
       "54   ...  2.584970e-41  3.926578e-44  2.613954e-47  6.123851e-51   \n",
       "..   ...           ...           ...           ...           ...   \n",
       "496  ...  0.000000e+00  0.000000e+00  0.000000e+00  0.000000e+00   \n",
       "497  ...  0.000000e+00  0.000000e+00  0.000000e+00  0.000000e+00   \n",
       "498  ...  0.000000e+00  0.000000e+00  0.000000e+00  0.000000e+00   \n",
       "499  ...  0.000000e+00  0.000000e+00  0.000000e+00  0.000000e+00   \n",
       "500  ...  0.000000e+00  0.000000e+00  0.000000e+00  0.000000e+00   \n",
       "\n",
       "p            0.94          0.95          0.96          0.97          0.98  \\\n",
       "N                                                                           \n",
       "50   1.254446e-47  4.999900e-52  1.858578e-57  1.628378e-64  1.533008e-74   \n",
       "51   1.771664e-49  4.903748e-54  1.166615e-59  5.749427e-67  2.405644e-77   \n",
       "52   2.368968e-51  4.553480e-56  6.933029e-62  1.921951e-69  3.574100e-80   \n",
       "53   3.013327e-53  4.022241e-58  3.919472e-64  6.111805e-72  5.051394e-83   \n",
       "54   3.661192e-55  3.393766e-60  2.116515e-66  1.856461e-74  6.819382e-86   \n",
       "..            ...           ...           ...           ...           ...   \n",
       "496  0.000000e+00  0.000000e+00  0.000000e+00  0.000000e+00  0.000000e+00   \n",
       "497  0.000000e+00  0.000000e+00  0.000000e+00  0.000000e+00  0.000000e+00   \n",
       "498  0.000000e+00  0.000000e+00  0.000000e+00  0.000000e+00  0.000000e+00   \n",
       "499  0.000000e+00  0.000000e+00  0.000000e+00  0.000000e+00  0.000000e+00   \n",
       "500  0.000000e+00  0.000000e+00  0.000000e+00  0.000000e+00  0.000000e+00   \n",
       "\n",
       "p             0.99  \n",
       "N                   \n",
       "50    8.146814e-92  \n",
       "51    3.196058e-95  \n",
       "52    1.187107e-98  \n",
       "53   4.194445e-102  \n",
       "54   1.415625e-105  \n",
       "..             ...  \n",
       "496   0.000000e+00  \n",
       "497   0.000000e+00  \n",
       "498   0.000000e+00  \n",
       "499   0.000000e+00  \n",
       "500   0.000000e+00  \n",
       "\n",
       "[451 rows x 100 columns]"
      ]
     },
     "execution_count": 63,
     "metadata": {},
     "output_type": "execute_result"
    }
   ],
   "source": [
    "joint_posterior = posterior_pmf.unstack()\n",
    "joint_posterior"
   ]
  },
  {
   "cell_type": "markdown",
   "metadata": {},
   "source": [
    "<br>\n",
    "\n",
    "#### 등고선 시각화\n",
    "- **가장 가능성 높은 $N$값은 이전과 마찬가지로, 대략 100**\n",
    "- **가장 가능성 높은 $p$의 값은 약 0.2**\n",
    "\n",
    "- **등고선의 형태를 봤을 때, 매개변수들이 서로 음의 상관관계가 존재**"
   ]
  },
  {
   "cell_type": "code",
   "execution_count": 64,
   "metadata": {},
   "outputs": [],
   "source": [
    "from utils import plot_contour"
   ]
  },
  {
   "cell_type": "code",
   "execution_count": 65,
   "metadata": {
    "execution": {
     "iopub.execute_input": "2021-04-16T19:37:53.058967Z",
     "iopub.status.busy": "2021-04-16T19:37:53.055472Z",
     "iopub.status.idle": "2021-04-16T19:37:53.229340Z",
     "shell.execute_reply": "2021-04-16T19:37:53.228917Z"
    },
    "tags": []
   },
   "outputs": [
    {
     "data": {
      "image/png": "[encoded data removed]",
      "text/plain": [
       "<Figure size 640x480 with 1 Axes>"
      ]
     },
     "metadata": {},
     "output_type": "display_data"
    }
   ],
   "source": [
    "plot_contour(joint_posterior)\n",
    "\n",
    "decorate(title='Joint posterior distribution of N and p')"
   ]
  },
  {
   "cell_type": "markdown",
   "metadata": {},
   "source": [
    "<br>\n",
    "\n",
    "#### 사후주변분포 계산"
   ]
  },
  {
   "cell_type": "code",
   "execution_count": 66,
   "metadata": {},
   "outputs": [],
   "source": [
    "from utils import marginal"
   ]
  },
  {
   "cell_type": "code",
   "execution_count": 68,
   "metadata": {
    "execution": {
     "iopub.execute_input": "2021-04-16T19:37:53.232985Z",
     "iopub.status.busy": "2021-04-16T19:37:53.232543Z",
     "iopub.status.idle": "2021-04-16T19:37:53.236313Z",
     "shell.execute_reply": "2021-04-16T19:37:53.235949Z"
    }
   },
   "outputs": [],
   "source": [
    "posterior2_p = marginal(joint_posterior, 0)\n",
    "posterior2_N = marginal(joint_posterior, 1)"
   ]
  },
  {
   "cell_type": "markdown",
   "metadata": {
    "tags": []
   },
   "source": [
    "<br>\n",
    "\n",
    "#### $p$에 대한 사후주변분포\n",
    "- 가장 가능성이 높은 값은 0.2"
   ]
  },
  {
   "cell_type": "code",
   "execution_count": 69,
   "metadata": {
    "execution": {
     "iopub.execute_input": "2021-04-16T19:37:53.268190Z",
     "iopub.status.busy": "2021-04-16T19:37:53.257803Z",
     "iopub.status.idle": "2021-04-16T19:37:53.391214Z",
     "shell.execute_reply": "2021-04-16T19:37:53.390708Z"
    },
    "tags": []
   },
   "outputs": [
    {
     "data": {
      "image/png": "[encoded data removed]",
      "text/plain": [
       "<Figure size 640x480 with 1 Axes>"
      ]
     },
     "metadata": {},
     "output_type": "display_data"
    }
   ],
   "source": [
    "posterior2_p.plot(color='C1')\n",
    "\n",
    "decorate(xlabel='Probability of observing a bear', ylabel='PDF', title='Posterior marginal distribution of p')"
   ]
  },
  {
   "cell_type": "markdown",
   "metadata": {},
   "source": [
    "<br>\n",
    "\n",
    "#### 단일 매개변수 (초기하분포)를 사용한 모델과, 두 개의 매개변수 (다항분포)를 사용한 모델 간의 비교\n",
    "- **두 개의 매개변수 모델에서 평균은 좀 더 낮아지고, 90% 신용구간은 좀 더 좁아짐**\n",
    "    - 두 개의 매개변수 모델은 단일 매개변수 모델에 비해더 좁은 사후 분포를 생성 (**추가적인 정보의 이점이 존재**)"
   ]
  },
  {
   "cell_type": "code",
   "execution_count": 70,
   "metadata": {
    "execution": {
     "iopub.execute_input": "2021-04-16T19:37:53.473706Z",
     "iopub.status.busy": "2021-04-16T19:37:53.456178Z",
     "iopub.status.idle": "2021-04-16T19:37:53.613688Z",
     "shell.execute_reply": "2021-04-16T19:37:53.613318Z"
    }
   },
   "outputs": [
    {
     "data": {
      "image/png": "[encoded data removed]",
      "text/plain": [
       "<Figure size 640x480 with 1 Axes>"
      ]
     },
     "metadata": {},
     "output_type": "display_data"
    }
   ],
   "source": [
    "posterior_N.plot(label='one-parameter model', color='C4')\n",
    "posterior2_N.plot(label='two-parameter model', color='C1')\n",
    "\n",
    "decorate(xlabel='Population of bears (N)', ylabel='PDF', title='Posterior marginal distribution of N')"
   ]
  },
  {
   "cell_type": "code",
   "execution_count": 71,
   "metadata": {
    "execution": {
     "iopub.execute_input": "2021-04-16T19:37:53.618046Z",
     "iopub.status.busy": "2021-04-16T19:37:53.617436Z",
     "iopub.status.idle": "2021-04-16T19:37:53.620131Z",
     "shell.execute_reply": "2021-04-16T19:37:53.619764Z"
    },
    "tags": []
   },
   "outputs": [
    {
     "name": "stdout",
     "output_type": "stream",
     "text": [
      "173.79880627085637 [ 77. 363.]\n"
     ]
    }
   ],
   "source": [
    "print(posterior_N.mean(), posterior_N.credible_interval(0.9))"
   ]
  },
  {
   "cell_type": "code",
   "execution_count": 72,
   "metadata": {
    "execution": {
     "iopub.execute_input": "2021-04-16T19:37:53.624345Z",
     "iopub.status.busy": "2021-04-16T19:37:53.623861Z",
     "iopub.status.idle": "2021-04-16T19:37:53.626345Z",
     "shell.execute_reply": "2021-04-16T19:37:53.625922Z"
    },
    "tags": []
   },
   "outputs": [
    {
     "name": "stdout",
     "output_type": "stream",
     "text": [
      "138.750521364726 [ 68. 277.]\n"
     ]
    }
   ],
   "source": [
    "print(posterior2_N.mean(), posterior2_N.credible_interval(0.9))"
   ]
  },
  {
   "cell_type": "markdown",
   "metadata": {
    "tags": []
   },
   "source": [
    "<br>\n",
    "\n",
    "### N에 대한 2개의 사후주변분포별 시뮬레이션\n",
    "\n",
    "<br>\n",
    "\n",
    "#### 1. 'N'이 138(복수 매개변수 모델의 사후 평균)일 때의 시나리오"
   ]
  },
  {
   "cell_type": "code",
   "execution_count": 83,
   "metadata": {
    "execution": {
     "iopub.execute_input": "2021-04-16T19:37:53.629158Z",
     "iopub.status.busy": "2021-04-16T19:37:53.628703Z",
     "iopub.status.idle": "2021-04-16T19:37:53.630931Z",
     "shell.execute_reply": "2021-04-16T19:37:53.630463Z"
    },
    "tags": []
   },
   "outputs": [],
   "source": [
    "N1 = 138"
   ]
  },
  {
   "cell_type": "markdown",
   "metadata": {
    "tags": []
   },
   "source": [
    "#### 첫 번째 시도에서 23마리의 곰을 관측, 두 번째 시도에서 19마리의 곰을 관측 \n",
    "#### $\\rightarrow$ 한번의 시도에서 관측할 수 있는 곰의 평균 수$=\\frac{23+19}{2}=21$\n",
    "**$\\rightarrow$ $\\hat{p} = 21/138=15.22\\%$**"
   ]
  },
  {
   "cell_type": "code",
   "execution_count": 80,
   "metadata": {
    "execution": {
     "iopub.execute_input": "2021-04-16T19:37:53.634899Z",
     "iopub.status.busy": "2021-04-16T19:37:53.634158Z",
     "iopub.status.idle": "2021-04-16T19:37:53.637423Z",
     "shell.execute_reply": "2021-04-16T19:37:53.636868Z"
    },
    "tags": []
   },
   "outputs": [
    {
     "data": {
      "text/plain": [
       "0.15217391304347827"
      ]
     },
     "execution_count": 80,
     "metadata": {},
     "output_type": "execute_result"
    }
   ],
   "source": [
    "mean = (23 + 19) / 2\n",
    "p = mean/N1\n",
    "p"
   ]
  },
  {
   "cell_type": "markdown",
   "metadata": {
    "tags": []
   },
   "source": [
    "#### $B(138,\\;0.15217)$인 이항분포의 표준편차 = 4.2195"
   ]
  },
  {
   "cell_type": "code",
   "execution_count": 81,
   "metadata": {},
   "outputs": [],
   "source": [
    "from scipy.stats import binom"
   ]
  },
  {
   "cell_type": "code",
   "execution_count": 82,
   "metadata": {
    "execution": {
     "iopub.execute_input": "2021-04-16T19:37:53.642568Z",
     "iopub.status.busy": "2021-04-16T19:37:53.641819Z",
     "iopub.status.idle": "2021-04-16T19:37:53.645073Z",
     "shell.execute_reply": "2021-04-16T19:37:53.644629Z"
    },
    "tags": []
   },
   "outputs": [
    {
     "data": {
      "text/plain": [
       "4.219519857292647"
      ]
     },
     "execution_count": 82,
     "metadata": {},
     "output_type": "execute_result"
    }
   ],
   "source": [
    "binom(N1, p).std()"
   ]
  },
  {
   "cell_type": "markdown",
   "metadata": {
    "tags": []
   },
   "source": [
    "#### 2. 'N'이 173(단일 매개변수 모델의 사후 평균)일 때의 시나리오"
   ]
  },
  {
   "cell_type": "code",
   "execution_count": 85,
   "metadata": {
    "execution": {
     "iopub.execute_input": "2021-04-16T19:37:53.649081Z",
     "iopub.status.busy": "2021-04-16T19:37:53.648344Z",
     "iopub.status.idle": "2021-04-16T19:37:53.651511Z",
     "shell.execute_reply": "2021-04-16T19:37:53.650985Z"
    },
    "tags": []
   },
   "outputs": [
    {
     "data": {
      "text/plain": [
       "0.12138728323699421"
      ]
     },
     "execution_count": 85,
     "metadata": {},
     "output_type": "execute_result"
    }
   ],
   "source": [
    "N2 = 173\n",
    "p = mean/N2\n",
    "p"
   ]
  },
  {
   "cell_type": "markdown",
   "metadata": {},
   "source": [
    "#### $B(173,\\;0.15217)$인 이항분포의 표준편차 = 4.2954"
   ]
  },
  {
   "cell_type": "code",
   "execution_count": 86,
   "metadata": {
    "execution": {
     "iopub.execute_input": "2021-04-16T19:37:53.656928Z",
     "iopub.status.busy": "2021-04-16T19:37:53.656278Z",
     "iopub.status.idle": "2021-04-16T19:37:53.658960Z",
     "shell.execute_reply": "2021-04-16T19:37:53.659323Z"
    },
    "tags": []
   },
   "outputs": [
    {
     "data": {
      "text/plain": [
       "4.2954472470306415"
      ]
     },
     "execution_count": 86,
     "metadata": {},
     "output_type": "execute_result"
    }
   ],
   "source": [
    "binom(N2, p).std()"
   ]
  },
  {
   "cell_type": "markdown",
   "metadata": {},
   "source": [
    "#### 관찰한 곰의 수가 두 실험에서 유사하다면, $N$에 대하여 높은 일관성을 기대할 수 있음\n",
    "#### 두 실험 사이에 곰의 수가 상당히 다르다면, $N$에 대하여 높은 일관성을 기대할 수 없음"
   ]
  },
  {
   "cell_type": "markdown",
   "metadata": {},
   "source": [
    "<br>\n",
    "\n",
    "## 15.06. 링컨지수\n",
    "\n",
    "다음은 독립적인 두 검수자의 결과를 비교함으로써, 프로그램의 오류 갯수를 추정하는 방법인 [링컨지수](http://www.johndcook.com/blog/2010/07/13/lincoln-index/)에 대한 설명\n",
    "\n",
    "> 한 검수자가 프로그램에서 20개의 버그를 발견했다고 헀을 때, 실제로 프로그램에는 몇 개의 버그가 있는지 추정\n",
    ">\n",
    "> 프로그램에 최소한 20개의 버그가 있다는 것은 알고 있음\n",
    ">\n",
    "\n",
    "<br>\n",
    "\n",
    "#### **첫 검수자가 20개의 버그를 발견했고, 두 번째 검수자가 15개의 버그를 발견했으며, 이 중 겹치는 것은 3개였을 때, 총 버그의 수는?**"
   ]
  },
  {
   "cell_type": "code",
   "execution_count": 89,
   "metadata": {
    "execution": {
     "iopub.execute_input": "2021-04-16T19:37:53.977529Z",
     "iopub.status.busy": "2021-04-16T19:37:53.977079Z",
     "iopub.status.idle": "2021-04-16T19:37:53.979111Z",
     "shell.execute_reply": "2021-04-16T19:37:53.978757Z"
    }
   },
   "outputs": [],
   "source": [
    "k10 = 20 - 3\n",
    "k01 = 15 - 3\n",
    "k11 = 3"
   ]
  },
  {
   "cell_type": "markdown",
   "metadata": {},
   "source": [
    "<br>\n",
    "\n",
    "#### 검수자가 버그를 발견할 확률이 동일하다고 가정하는 것은 적절하지 않음 $\\rightarrow$ 매개변수를 따로 설정\n",
    "- **`p0` : 첫 번째 검수자가 버그를 발견할 확률**\n",
    "- **`p1` : 두 번째 검수자가 버그를 발견할 확률**\n",
    "\n",
    "<br>\n",
    "\n",
    "#### 모든 버그는 독립적이고 발견될 확률은 동일하다고 가정"
   ]
  },
  {
   "cell_type": "code",
   "execution_count": 90,
   "metadata": {
    "execution": {
     "iopub.execute_input": "2021-04-16T19:37:53.982038Z",
     "iopub.status.busy": "2021-04-16T19:37:53.981602Z",
     "iopub.status.idle": "2021-04-16T19:37:53.984284Z",
     "shell.execute_reply": "2021-04-16T19:37:53.983762Z"
    }
   },
   "outputs": [],
   "source": [
    "p0, p1 = 0.2, 0.15"
   ]
  },
  {
   "cell_type": "markdown",
   "metadata": {},
   "source": [
    "<br>\n",
    "\n",
    "#### 버그에 대한 4개의 유형\n",
    "1. 특정 버그가 두 검수자 모두에게 발견\n",
    "2. 특정 버그가 첫 검수자에게는 발견, 두 번째 검수자에게는 발견 X\n",
    "3. 특정 버그가 첫 검수자에게는 발견 X, 두 번째 검수자에게는 발견\n",
    "4. 특정 버그가 두 검수자 모두에게 발견 X"
   ]
  },
  {
   "cell_type": "code",
   "execution_count": 91,
   "metadata": {
    "execution": {
     "iopub.execute_input": "2021-04-16T19:37:53.988890Z",
     "iopub.status.busy": "2021-04-16T19:37:53.988165Z",
     "iopub.status.idle": "2021-04-16T19:37:53.990550Z",
     "shell.execute_reply": "2021-04-16T19:37:53.990104Z"
    }
   },
   "outputs": [],
   "source": [
    "def compute_probs(p0, p1):\n",
    "    \"\"\"4개의 각 유형에 대한 확률 계산\"\"\"\n",
    "    q0 = 1-p0\n",
    "    q1 = 1-p1\n",
    "    return [q0*q1, q0*p1, p0*q1, p0*p1]"
   ]
  },
  {
   "cell_type": "code",
   "execution_count": 92,
   "metadata": {
    "execution": {
     "iopub.execute_input": "2021-04-16T19:37:53.994239Z",
     "iopub.status.busy": "2021-04-16T19:37:53.993623Z",
     "iopub.status.idle": "2021-04-16T19:37:53.997022Z",
     "shell.execute_reply": "2021-04-16T19:37:53.996576Z"
    }
   },
   "outputs": [
    {
     "data": {
      "text/plain": [
       "[0.68, 0.12, 0.17, 0.03]"
      ]
     },
     "execution_count": 92,
     "metadata": {},
     "output_type": "execute_result"
    }
   ],
   "source": [
    "y = compute_probs(p0, p1)\n",
    "y"
   ]
  },
  {
   "cell_type": "markdown",
   "metadata": {},
   "source": [
    "#### 두 검수자 모두가 특정 버그를 발견하지 못할 확률은 68%, 모두 발견할 확률은 3%"
   ]
  },
  {
   "cell_type": "markdown",
   "metadata": {},
   "source": [
    "<br>\n",
    "\n",
    "#### $N$에 대한 사후분포 계산\n",
    "- **$N$의 사전분포는 32 ~ 350 사이의 균등분포로 가정** "
   ]
  },
  {
   "cell_type": "code",
   "execution_count": 93,
   "metadata": {
    "execution": {
     "iopub.execute_input": "2021-04-16T19:37:54.005383Z",
     "iopub.status.busy": "2021-04-16T19:37:54.004613Z",
     "iopub.status.idle": "2021-04-16T19:37:54.008366Z",
     "shell.execute_reply": "2021-04-16T19:37:54.007866Z"
    }
   },
   "outputs": [
    {
     "data": {
      "text/html": [
       "<div>\n",
       "<style scoped>\n",
       "    .dataframe tbody tr th:only-of-type {\n",
       "        vertical-align: middle;\n",
       "    }\n",
       "\n",
       "    .dataframe tbody tr th {\n",
       "        vertical-align: top;\n",
       "    }\n",
       "\n",
       "    .dataframe thead th {\n",
       "        text-align: right;\n",
       "    }\n",
       "</style>\n",
       "<table border=\"1\" class=\"dataframe\">\n",
       "  <thead>\n",
       "    <tr style=\"text-align: right;\">\n",
       "      <th></th>\n",
       "      <th>probs</th>\n",
       "    </tr>\n",
       "    <tr>\n",
       "      <th>N</th>\n",
       "      <th></th>\n",
       "    </tr>\n",
       "  </thead>\n",
       "  <tbody>\n",
       "    <tr>\n",
       "      <th>32</th>\n",
       "      <td>0.015625</td>\n",
       "    </tr>\n",
       "    <tr>\n",
       "      <th>37</th>\n",
       "      <td>0.015625</td>\n",
       "    </tr>\n",
       "    <tr>\n",
       "      <th>42</th>\n",
       "      <td>0.015625</td>\n",
       "    </tr>\n",
       "  </tbody>\n",
       "</table>\n",
       "</div>"
      ],
      "text/plain": [
       "N\n",
       "32    0.015625\n",
       "37    0.015625\n",
       "42    0.015625\n",
       "Name: , dtype: float64"
      ]
     },
     "execution_count": 93,
     "metadata": {},
     "output_type": "execute_result"
    }
   ],
   "source": [
    "qs = np.arange(32, 350, step=5) \n",
    "prior_N = make_uniform(qs, name='N')\n",
    "prior_N.head(3)"
   ]
  },
  {
   "cell_type": "markdown",
   "metadata": {},
   "source": [
    "<br>\n",
    "\n",
    "#### 가능도 계산"
   ]
  },
  {
   "cell_type": "code",
   "execution_count": 97,
   "metadata": {},
   "outputs": [],
   "source": [
    "k10 = 20 - 3\n",
    "k01 = 15 - 3\n",
    "k11 = 3"
   ]
  },
  {
   "cell_type": "code",
   "execution_count": 98,
   "metadata": {
    "execution": {
     "iopub.execute_input": "2021-04-16T19:37:54.012337Z",
     "iopub.status.busy": "2021-04-16T19:37:54.011753Z",
     "iopub.status.idle": "2021-04-16T19:37:54.014357Z",
     "shell.execute_reply": "2021-04-16T19:37:54.013863Z"
    }
   },
   "outputs": [],
   "source": [
    "data = np.array([0, k01, k10, k11])"
   ]
  },
  {
   "cell_type": "code",
   "execution_count": 99,
   "metadata": {},
   "outputs": [],
   "source": [
    "likelihood = prior_N.copy()\n",
    "observed = data.sum()\n",
    "x = data.copy()"
   ]
  },
  {
   "cell_type": "code",
   "execution_count": 100,
   "metadata": {
    "execution": {
     "iopub.execute_input": "2021-04-16T19:37:54.024013Z",
     "iopub.status.busy": "2021-04-16T19:37:54.023587Z",
     "iopub.status.idle": "2021-04-16T19:37:54.025396Z",
     "shell.execute_reply": "2021-04-16T19:37:54.025737Z"
    }
   },
   "outputs": [],
   "source": [
    "for N in prior_N.qs:\n",
    "    x[0] = N - observed\n",
    "    likelihood[N] = multinomial.pmf(x, N, y)"
   ]
  },
  {
   "cell_type": "markdown",
   "metadata": {},
   "source": [
    "<br>\n",
    "\n",
    "#### 사후분포 계산"
   ]
  },
  {
   "cell_type": "code",
   "execution_count": 101,
   "metadata": {
    "execution": {
     "iopub.execute_input": "2021-04-16T19:37:54.029826Z",
     "iopub.status.busy": "2021-04-16T19:37:54.029301Z",
     "iopub.status.idle": "2021-04-16T19:37:54.031611Z",
     "shell.execute_reply": "2021-04-16T19:37:54.032006Z"
    }
   },
   "outputs": [
    {
     "data": {
      "text/plain": [
       "0.0003425201572557094"
      ]
     },
     "execution_count": 101,
     "metadata": {},
     "output_type": "execute_result"
    }
   ],
   "source": [
    "posterior_N = prior_N * likelihood\n",
    "posterior_N.normalize()"
   ]
  },
  {
   "cell_type": "code",
   "execution_count": 102,
   "metadata": {
    "execution": {
     "iopub.execute_input": "2021-04-16T19:37:54.066285Z",
     "iopub.status.busy": "2021-04-16T19:37:54.054991Z",
     "iopub.status.idle": "2021-04-16T19:37:54.200634Z",
     "shell.execute_reply": "2021-04-16T19:37:54.200132Z"
    },
    "tags": []
   },
   "outputs": [
    {
     "data": {
      "image/png": "[encoded data removed]",
      "text/plain": [
       "<Figure size 640x480 with 1 Axes>"
      ]
     },
     "metadata": {},
     "output_type": "display_data"
    }
   ],
   "source": [
    "posterior_N.plot(color='C4')\n",
    "\n",
    "decorate(xlabel='Number of bugs (N)', ylabel='PMF', title='Posterior marginal distribution of n with known p1, p2')"
   ]
  },
  {
   "cell_type": "code",
   "execution_count": 103,
   "metadata": {
    "execution": {
     "iopub.execute_input": "2021-04-16T19:37:54.204715Z",
     "iopub.status.busy": "2021-04-16T19:37:54.204282Z",
     "iopub.status.idle": "2021-04-16T19:37:54.206388Z",
     "shell.execute_reply": "2021-04-16T19:37:54.206734Z"
    },
    "tags": []
   },
   "outputs": [
    {
     "name": "stdout",
     "output_type": "stream",
     "text": [
      "102.1249999999998 [ 77. 127.]\n"
     ]
    }
   ],
   "source": [
    "print(posterior_N.mean(), posterior_N.credible_interval(0.9))"
   ]
  },
  {
   "cell_type": "markdown",
   "metadata": {},
   "source": [
    "#### `p0`과 `p1`이 각각 0.2와 0.15라고 알고 있다는 가정 하에서, 사후평균은 102\n",
    "#### 90% 신용구간은 (77, 127)\n",
    "\n",
    "<br>\n",
    "\n",
    "### 하지만 이 결과는 버그를 발견할 확률을 알고 있다는 가정을 기반하기에 비현실적"
   ]
  },
  {
   "cell_type": "markdown",
   "metadata": {},
   "source": [
    "<br>\n",
    "\n",
    "## 15.07. 세 개의 매개변수를 사용하는 모델\n",
    "\n",
    "<br>\n",
    "\n",
    "#### `N`, `p0`, `p1` 3개의 매개변수를 사용하는 모델이 필요"
   ]
  },
  {
   "cell_type": "markdown",
   "metadata": {},
   "source": [
    "<br>\n",
    "\n",
    "#### **$N$의 사전분포는 32 ~ 350 사이의 균등분포로 가정** "
   ]
  },
  {
   "cell_type": "code",
   "execution_count": 107,
   "metadata": {},
   "outputs": [],
   "source": [
    "qs = np.arange(32, 350, step=5) \n",
    "prior_N = make_uniform(qs, name='N')"
   ]
  },
  {
   "cell_type": "markdown",
   "metadata": {},
   "source": [
    "#### `p0`과 `p1`의 사전분포는 0% ~ 100%사이의 균등분포로 가정"
   ]
  },
  {
   "cell_type": "code",
   "execution_count": 108,
   "metadata": {
    "execution": {
     "iopub.execute_input": "2021-04-16T19:37:54.211539Z",
     "iopub.status.busy": "2021-04-16T19:37:54.211111Z",
     "iopub.status.idle": "2021-04-16T19:37:54.213388Z",
     "shell.execute_reply": "2021-04-16T19:37:54.212835Z"
    }
   },
   "outputs": [],
   "source": [
    "qs = np.linspace(0, 1, num=51)\n",
    "prior_p0 = make_uniform(qs, name='p0')\n",
    "prior_p1 = make_uniform(qs, name='p1')"
   ]
  },
  {
   "cell_type": "markdown",
   "metadata": {},
   "source": [
    "<br>\n",
    "\n",
    "#### 3차원 사전결합분포 생성\n",
    "- **1. `p0`과 `N`의 결합분포 생성**"
   ]
  },
  {
   "cell_type": "code",
   "execution_count": 109,
   "metadata": {
    "execution": {
     "iopub.execute_input": "2021-04-16T19:37:54.217788Z",
     "iopub.status.busy": "2021-04-16T19:37:54.217207Z",
     "iopub.status.idle": "2021-04-16T19:37:54.219947Z",
     "shell.execute_reply": "2021-04-16T19:37:54.220378Z"
    }
   },
   "outputs": [
    {
     "data": {
      "text/html": [
       "<div>\n",
       "<style scoped>\n",
       "    .dataframe tbody tr th:only-of-type {\n",
       "        vertical-align: middle;\n",
       "    }\n",
       "\n",
       "    .dataframe tbody tr th {\n",
       "        vertical-align: top;\n",
       "    }\n",
       "\n",
       "    .dataframe thead th {\n",
       "        text-align: right;\n",
       "    }\n",
       "</style>\n",
       "<table border=\"1\" class=\"dataframe\">\n",
       "  <thead>\n",
       "    <tr style=\"text-align: right;\">\n",
       "      <th>p0</th>\n",
       "      <th>0.00</th>\n",
       "      <th>0.02</th>\n",
       "      <th>0.04</th>\n",
       "      <th>0.06</th>\n",
       "      <th>0.08</th>\n",
       "      <th>0.10</th>\n",
       "      <th>0.12</th>\n",
       "      <th>0.14</th>\n",
       "      <th>0.16</th>\n",
       "      <th>0.18</th>\n",
       "      <th>...</th>\n",
       "      <th>0.82</th>\n",
       "      <th>0.84</th>\n",
       "      <th>0.86</th>\n",
       "      <th>0.88</th>\n",
       "      <th>0.90</th>\n",
       "      <th>0.92</th>\n",
       "      <th>0.94</th>\n",
       "      <th>0.96</th>\n",
       "      <th>0.98</th>\n",
       "      <th>1.00</th>\n",
       "    </tr>\n",
       "    <tr>\n",
       "      <th>N</th>\n",
       "      <th></th>\n",
       "      <th></th>\n",
       "      <th></th>\n",
       "      <th></th>\n",
       "      <th></th>\n",
       "      <th></th>\n",
       "      <th></th>\n",
       "      <th></th>\n",
       "      <th></th>\n",
       "      <th></th>\n",
       "      <th></th>\n",
       "      <th></th>\n",
       "      <th></th>\n",
       "      <th></th>\n",
       "      <th></th>\n",
       "      <th></th>\n",
       "      <th></th>\n",
       "      <th></th>\n",
       "      <th></th>\n",
       "      <th></th>\n",
       "      <th></th>\n",
       "    </tr>\n",
       "  </thead>\n",
       "  <tbody>\n",
       "    <tr>\n",
       "      <th>32</th>\n",
       "      <td>0.000306</td>\n",
       "      <td>0.000306</td>\n",
       "      <td>0.000306</td>\n",
       "      <td>0.000306</td>\n",
       "      <td>0.000306</td>\n",
       "      <td>0.000306</td>\n",
       "      <td>0.000306</td>\n",
       "      <td>0.000306</td>\n",
       "      <td>0.000306</td>\n",
       "      <td>0.000306</td>\n",
       "      <td>...</td>\n",
       "      <td>0.000306</td>\n",
       "      <td>0.000306</td>\n",
       "      <td>0.000306</td>\n",
       "      <td>0.000306</td>\n",
       "      <td>0.000306</td>\n",
       "      <td>0.000306</td>\n",
       "      <td>0.000306</td>\n",
       "      <td>0.000306</td>\n",
       "      <td>0.000306</td>\n",
       "      <td>0.000306</td>\n",
       "    </tr>\n",
       "    <tr>\n",
       "      <th>37</th>\n",
       "      <td>0.000306</td>\n",
       "      <td>0.000306</td>\n",
       "      <td>0.000306</td>\n",
       "      <td>0.000306</td>\n",
       "      <td>0.000306</td>\n",
       "      <td>0.000306</td>\n",
       "      <td>0.000306</td>\n",
       "      <td>0.000306</td>\n",
       "      <td>0.000306</td>\n",
       "      <td>0.000306</td>\n",
       "      <td>...</td>\n",
       "      <td>0.000306</td>\n",
       "      <td>0.000306</td>\n",
       "      <td>0.000306</td>\n",
       "      <td>0.000306</td>\n",
       "      <td>0.000306</td>\n",
       "      <td>0.000306</td>\n",
       "      <td>0.000306</td>\n",
       "      <td>0.000306</td>\n",
       "      <td>0.000306</td>\n",
       "      <td>0.000306</td>\n",
       "    </tr>\n",
       "    <tr>\n",
       "      <th>42</th>\n",
       "      <td>0.000306</td>\n",
       "      <td>0.000306</td>\n",
       "      <td>0.000306</td>\n",
       "      <td>0.000306</td>\n",
       "      <td>0.000306</td>\n",
       "      <td>0.000306</td>\n",
       "      <td>0.000306</td>\n",
       "      <td>0.000306</td>\n",
       "      <td>0.000306</td>\n",
       "      <td>0.000306</td>\n",
       "      <td>...</td>\n",
       "      <td>0.000306</td>\n",
       "      <td>0.000306</td>\n",
       "      <td>0.000306</td>\n",
       "      <td>0.000306</td>\n",
       "      <td>0.000306</td>\n",
       "      <td>0.000306</td>\n",
       "      <td>0.000306</td>\n",
       "      <td>0.000306</td>\n",
       "      <td>0.000306</td>\n",
       "      <td>0.000306</td>\n",
       "    </tr>\n",
       "    <tr>\n",
       "      <th>47</th>\n",
       "      <td>0.000306</td>\n",
       "      <td>0.000306</td>\n",
       "      <td>0.000306</td>\n",
       "      <td>0.000306</td>\n",
       "      <td>0.000306</td>\n",
       "      <td>0.000306</td>\n",
       "      <td>0.000306</td>\n",
       "      <td>0.000306</td>\n",
       "      <td>0.000306</td>\n",
       "      <td>0.000306</td>\n",
       "      <td>...</td>\n",
       "      <td>0.000306</td>\n",
       "      <td>0.000306</td>\n",
       "      <td>0.000306</td>\n",
       "      <td>0.000306</td>\n",
       "      <td>0.000306</td>\n",
       "      <td>0.000306</td>\n",
       "      <td>0.000306</td>\n",
       "      <td>0.000306</td>\n",
       "      <td>0.000306</td>\n",
       "      <td>0.000306</td>\n",
       "    </tr>\n",
       "    <tr>\n",
       "      <th>52</th>\n",
       "      <td>0.000306</td>\n",
       "      <td>0.000306</td>\n",
       "      <td>0.000306</td>\n",
       "      <td>0.000306</td>\n",
       "      <td>0.000306</td>\n",
       "      <td>0.000306</td>\n",
       "      <td>0.000306</td>\n",
       "      <td>0.000306</td>\n",
       "      <td>0.000306</td>\n",
       "      <td>0.000306</td>\n",
       "      <td>...</td>\n",
       "      <td>0.000306</td>\n",
       "      <td>0.000306</td>\n",
       "      <td>0.000306</td>\n",
       "      <td>0.000306</td>\n",
       "      <td>0.000306</td>\n",
       "      <td>0.000306</td>\n",
       "      <td>0.000306</td>\n",
       "      <td>0.000306</td>\n",
       "      <td>0.000306</td>\n",
       "      <td>0.000306</td>\n",
       "    </tr>\n",
       "    <tr>\n",
       "      <th>...</th>\n",
       "      <td>...</td>\n",
       "      <td>...</td>\n",
       "      <td>...</td>\n",
       "      <td>...</td>\n",
       "      <td>...</td>\n",
       "      <td>...</td>\n",
       "      <td>...</td>\n",
       "      <td>...</td>\n",
       "      <td>...</td>\n",
       "      <td>...</td>\n",
       "      <td>...</td>\n",
       "      <td>...</td>\n",
       "      <td>...</td>\n",
       "      <td>...</td>\n",
       "      <td>...</td>\n",
       "      <td>...</td>\n",
       "      <td>...</td>\n",
       "      <td>...</td>\n",
       "      <td>...</td>\n",
       "      <td>...</td>\n",
       "      <td>...</td>\n",
       "    </tr>\n",
       "    <tr>\n",
       "      <th>327</th>\n",
       "      <td>0.000306</td>\n",
       "      <td>0.000306</td>\n",
       "      <td>0.000306</td>\n",
       "      <td>0.000306</td>\n",
       "      <td>0.000306</td>\n",
       "      <td>0.000306</td>\n",
       "      <td>0.000306</td>\n",
       "      <td>0.000306</td>\n",
       "      <td>0.000306</td>\n",
       "      <td>0.000306</td>\n",
       "      <td>...</td>\n",
       "      <td>0.000306</td>\n",
       "      <td>0.000306</td>\n",
       "      <td>0.000306</td>\n",
       "      <td>0.000306</td>\n",
       "      <td>0.000306</td>\n",
       "      <td>0.000306</td>\n",
       "      <td>0.000306</td>\n",
       "      <td>0.000306</td>\n",
       "      <td>0.000306</td>\n",
       "      <td>0.000306</td>\n",
       "    </tr>\n",
       "    <tr>\n",
       "      <th>332</th>\n",
       "      <td>0.000306</td>\n",
       "      <td>0.000306</td>\n",
       "      <td>0.000306</td>\n",
       "      <td>0.000306</td>\n",
       "      <td>0.000306</td>\n",
       "      <td>0.000306</td>\n",
       "      <td>0.000306</td>\n",
       "      <td>0.000306</td>\n",
       "      <td>0.000306</td>\n",
       "      <td>0.000306</td>\n",
       "      <td>...</td>\n",
       "      <td>0.000306</td>\n",
       "      <td>0.000306</td>\n",
       "      <td>0.000306</td>\n",
       "      <td>0.000306</td>\n",
       "      <td>0.000306</td>\n",
       "      <td>0.000306</td>\n",
       "      <td>0.000306</td>\n",
       "      <td>0.000306</td>\n",
       "      <td>0.000306</td>\n",
       "      <td>0.000306</td>\n",
       "    </tr>\n",
       "    <tr>\n",
       "      <th>337</th>\n",
       "      <td>0.000306</td>\n",
       "      <td>0.000306</td>\n",
       "      <td>0.000306</td>\n",
       "      <td>0.000306</td>\n",
       "      <td>0.000306</td>\n",
       "      <td>0.000306</td>\n",
       "      <td>0.000306</td>\n",
       "      <td>0.000306</td>\n",
       "      <td>0.000306</td>\n",
       "      <td>0.000306</td>\n",
       "      <td>...</td>\n",
       "      <td>0.000306</td>\n",
       "      <td>0.000306</td>\n",
       "      <td>0.000306</td>\n",
       "      <td>0.000306</td>\n",
       "      <td>0.000306</td>\n",
       "      <td>0.000306</td>\n",
       "      <td>0.000306</td>\n",
       "      <td>0.000306</td>\n",
       "      <td>0.000306</td>\n",
       "      <td>0.000306</td>\n",
       "    </tr>\n",
       "    <tr>\n",
       "      <th>342</th>\n",
       "      <td>0.000306</td>\n",
       "      <td>0.000306</td>\n",
       "      <td>0.000306</td>\n",
       "      <td>0.000306</td>\n",
       "      <td>0.000306</td>\n",
       "      <td>0.000306</td>\n",
       "      <td>0.000306</td>\n",
       "      <td>0.000306</td>\n",
       "      <td>0.000306</td>\n",
       "      <td>0.000306</td>\n",
       "      <td>...</td>\n",
       "      <td>0.000306</td>\n",
       "      <td>0.000306</td>\n",
       "      <td>0.000306</td>\n",
       "      <td>0.000306</td>\n",
       "      <td>0.000306</td>\n",
       "      <td>0.000306</td>\n",
       "      <td>0.000306</td>\n",
       "      <td>0.000306</td>\n",
       "      <td>0.000306</td>\n",
       "      <td>0.000306</td>\n",
       "    </tr>\n",
       "    <tr>\n",
       "      <th>347</th>\n",
       "      <td>0.000306</td>\n",
       "      <td>0.000306</td>\n",
       "      <td>0.000306</td>\n",
       "      <td>0.000306</td>\n",
       "      <td>0.000306</td>\n",
       "      <td>0.000306</td>\n",
       "      <td>0.000306</td>\n",
       "      <td>0.000306</td>\n",
       "      <td>0.000306</td>\n",
       "      <td>0.000306</td>\n",
       "      <td>...</td>\n",
       "      <td>0.000306</td>\n",
       "      <td>0.000306</td>\n",
       "      <td>0.000306</td>\n",
       "      <td>0.000306</td>\n",
       "      <td>0.000306</td>\n",
       "      <td>0.000306</td>\n",
       "      <td>0.000306</td>\n",
       "      <td>0.000306</td>\n",
       "      <td>0.000306</td>\n",
       "      <td>0.000306</td>\n",
       "    </tr>\n",
       "  </tbody>\n",
       "</table>\n",
       "<p>64 rows × 51 columns</p>\n",
       "</div>"
      ],
      "text/plain": [
       "p0       0.00      0.02      0.04      0.06      0.08      0.10      0.12  \\\n",
       "N                                                                           \n",
       "32   0.000306  0.000306  0.000306  0.000306  0.000306  0.000306  0.000306   \n",
       "37   0.000306  0.000306  0.000306  0.000306  0.000306  0.000306  0.000306   \n",
       "42   0.000306  0.000306  0.000306  0.000306  0.000306  0.000306  0.000306   \n",
       "47   0.000306  0.000306  0.000306  0.000306  0.000306  0.000306  0.000306   \n",
       "52   0.000306  0.000306  0.000306  0.000306  0.000306  0.000306  0.000306   \n",
       "..        ...       ...       ...       ...       ...       ...       ...   \n",
       "327  0.000306  0.000306  0.000306  0.000306  0.000306  0.000306  0.000306   \n",
       "332  0.000306  0.000306  0.000306  0.000306  0.000306  0.000306  0.000306   \n",
       "337  0.000306  0.000306  0.000306  0.000306  0.000306  0.000306  0.000306   \n",
       "342  0.000306  0.000306  0.000306  0.000306  0.000306  0.000306  0.000306   \n",
       "347  0.000306  0.000306  0.000306  0.000306  0.000306  0.000306  0.000306   \n",
       "\n",
       "p0       0.14      0.16      0.18  ...      0.82      0.84      0.86  \\\n",
       "N                                  ...                                 \n",
       "32   0.000306  0.000306  0.000306  ...  0.000306  0.000306  0.000306   \n",
       "37   0.000306  0.000306  0.000306  ...  0.000306  0.000306  0.000306   \n",
       "42   0.000306  0.000306  0.000306  ...  0.000306  0.000306  0.000306   \n",
       "47   0.000306  0.000306  0.000306  ...  0.000306  0.000306  0.000306   \n",
       "52   0.000306  0.000306  0.000306  ...  0.000306  0.000306  0.000306   \n",
       "..        ...       ...       ...  ...       ...       ...       ...   \n",
       "327  0.000306  0.000306  0.000306  ...  0.000306  0.000306  0.000306   \n",
       "332  0.000306  0.000306  0.000306  ...  0.000306  0.000306  0.000306   \n",
       "337  0.000306  0.000306  0.000306  ...  0.000306  0.000306  0.000306   \n",
       "342  0.000306  0.000306  0.000306  ...  0.000306  0.000306  0.000306   \n",
       "347  0.000306  0.000306  0.000306  ...  0.000306  0.000306  0.000306   \n",
       "\n",
       "p0       0.88      0.90      0.92      0.94      0.96      0.98      1.00  \n",
       "N                                                                          \n",
       "32   0.000306  0.000306  0.000306  0.000306  0.000306  0.000306  0.000306  \n",
       "37   0.000306  0.000306  0.000306  0.000306  0.000306  0.000306  0.000306  \n",
       "42   0.000306  0.000306  0.000306  0.000306  0.000306  0.000306  0.000306  \n",
       "47   0.000306  0.000306  0.000306  0.000306  0.000306  0.000306  0.000306  \n",
       "52   0.000306  0.000306  0.000306  0.000306  0.000306  0.000306  0.000306  \n",
       "..        ...       ...       ...       ...       ...       ...       ...  \n",
       "327  0.000306  0.000306  0.000306  0.000306  0.000306  0.000306  0.000306  \n",
       "332  0.000306  0.000306  0.000306  0.000306  0.000306  0.000306  0.000306  \n",
       "337  0.000306  0.000306  0.000306  0.000306  0.000306  0.000306  0.000306  \n",
       "342  0.000306  0.000306  0.000306  0.000306  0.000306  0.000306  0.000306  \n",
       "347  0.000306  0.000306  0.000306  0.000306  0.000306  0.000306  0.000306  \n",
       "\n",
       "[64 rows x 51 columns]"
      ]
     },
     "execution_count": 109,
     "metadata": {},
     "output_type": "execute_result"
    }
   ],
   "source": [
    "joint2 = make_joint(prior_p0, prior_N)\n",
    "joint2.shape\n",
    "joint2"
   ]
  },
  {
   "cell_type": "code",
   "execution_count": 110,
   "metadata": {
    "execution": {
     "iopub.execute_input": "2021-04-16T19:37:54.225352Z",
     "iopub.status.busy": "2021-04-16T19:37:54.224407Z",
     "iopub.status.idle": "2021-04-16T19:37:54.234609Z",
     "shell.execute_reply": "2021-04-16T19:37:54.233999Z"
    }
   },
   "outputs": [
    {
     "data": {
      "text/html": [
       "<div>\n",
       "<style scoped>\n",
       "    .dataframe tbody tr th:only-of-type {\n",
       "        vertical-align: middle;\n",
       "    }\n",
       "\n",
       "    .dataframe tbody tr th {\n",
       "        vertical-align: top;\n",
       "    }\n",
       "\n",
       "    .dataframe thead th {\n",
       "        text-align: right;\n",
       "    }\n",
       "</style>\n",
       "<table border=\"1\" class=\"dataframe\">\n",
       "  <thead>\n",
       "    <tr style=\"text-align: right;\">\n",
       "      <th></th>\n",
       "      <th></th>\n",
       "      <th>probs</th>\n",
       "    </tr>\n",
       "    <tr>\n",
       "      <th>N</th>\n",
       "      <th>p0</th>\n",
       "      <th></th>\n",
       "    </tr>\n",
       "  </thead>\n",
       "  <tbody>\n",
       "    <tr>\n",
       "      <th rowspan=\"3\" valign=\"top\">32</th>\n",
       "      <th>0.00</th>\n",
       "      <td>0.000306</td>\n",
       "    </tr>\n",
       "    <tr>\n",
       "      <th>0.02</th>\n",
       "      <td>0.000306</td>\n",
       "    </tr>\n",
       "    <tr>\n",
       "      <th>0.04</th>\n",
       "      <td>0.000306</td>\n",
       "    </tr>\n",
       "  </tbody>\n",
       "</table>\n",
       "</div>"
      ],
      "text/plain": [
       "N   p0  \n",
       "32  0.00    0.000306\n",
       "    0.02    0.000306\n",
       "    0.04    0.000306\n",
       "Name: , dtype: float64"
      ]
     },
     "execution_count": 110,
     "metadata": {},
     "output_type": "execute_result"
    }
   ],
   "source": [
    "joint2_pmf = Pmf(joint2.stack())\n",
    "joint2_pmf.head(3)"
   ]
  },
  {
   "cell_type": "markdown",
   "metadata": {},
   "source": [
    "<br>\n",
    "\n",
    "- **2. `p1`과 결합분포(`p0` & `N`)와  결합분포 생성**"
   ]
  },
  {
   "cell_type": "code",
   "execution_count": 111,
   "metadata": {
    "execution": {
     "iopub.execute_input": "2021-04-16T19:37:54.238175Z",
     "iopub.status.busy": "2021-04-16T19:37:54.237718Z",
     "iopub.status.idle": "2021-04-16T19:37:54.242307Z",
     "shell.execute_reply": "2021-04-16T19:37:54.242651Z"
    }
   },
   "outputs": [
    {
     "data": {
      "text/plain": [
       "(3264, 51)"
      ]
     },
     "execution_count": 111,
     "metadata": {},
     "output_type": "execute_result"
    }
   ],
   "source": [
    "joint3 = make_joint(prior_p1, joint2_pmf)\n",
    "joint3.shape"
   ]
  },
  {
   "cell_type": "code",
   "execution_count": 112,
   "metadata": {},
   "outputs": [
    {
     "data": {
      "text/html": [
       "<div>\n",
       "<style scoped>\n",
       "    .dataframe tbody tr th:only-of-type {\n",
       "        vertical-align: middle;\n",
       "    }\n",
       "\n",
       "    .dataframe tbody tr th {\n",
       "        vertical-align: top;\n",
       "    }\n",
       "\n",
       "    .dataframe thead th {\n",
       "        text-align: right;\n",
       "    }\n",
       "</style>\n",
       "<table border=\"1\" class=\"dataframe\">\n",
       "  <thead>\n",
       "    <tr style=\"text-align: right;\">\n",
       "      <th></th>\n",
       "      <th>p1</th>\n",
       "      <th>0.00</th>\n",
       "      <th>0.02</th>\n",
       "      <th>0.04</th>\n",
       "      <th>0.06</th>\n",
       "      <th>0.08</th>\n",
       "      <th>0.10</th>\n",
       "      <th>0.12</th>\n",
       "      <th>0.14</th>\n",
       "      <th>0.16</th>\n",
       "      <th>0.18</th>\n",
       "      <th>...</th>\n",
       "      <th>0.82</th>\n",
       "      <th>0.84</th>\n",
       "      <th>0.86</th>\n",
       "      <th>0.88</th>\n",
       "      <th>0.90</th>\n",
       "      <th>0.92</th>\n",
       "      <th>0.94</th>\n",
       "      <th>0.96</th>\n",
       "      <th>0.98</th>\n",
       "      <th>1.00</th>\n",
       "    </tr>\n",
       "    <tr>\n",
       "      <th>N</th>\n",
       "      <th>p0</th>\n",
       "      <th></th>\n",
       "      <th></th>\n",
       "      <th></th>\n",
       "      <th></th>\n",
       "      <th></th>\n",
       "      <th></th>\n",
       "      <th></th>\n",
       "      <th></th>\n",
       "      <th></th>\n",
       "      <th></th>\n",
       "      <th></th>\n",
       "      <th></th>\n",
       "      <th></th>\n",
       "      <th></th>\n",
       "      <th></th>\n",
       "      <th></th>\n",
       "      <th></th>\n",
       "      <th></th>\n",
       "      <th></th>\n",
       "      <th></th>\n",
       "      <th></th>\n",
       "    </tr>\n",
       "  </thead>\n",
       "  <tbody>\n",
       "    <tr>\n",
       "      <th rowspan=\"5\" valign=\"top\">32</th>\n",
       "      <th>0.00</th>\n",
       "      <td>0.000006</td>\n",
       "      <td>0.000006</td>\n",
       "      <td>0.000006</td>\n",
       "      <td>0.000006</td>\n",
       "      <td>0.000006</td>\n",
       "      <td>0.000006</td>\n",
       "      <td>0.000006</td>\n",
       "      <td>0.000006</td>\n",
       "      <td>0.000006</td>\n",
       "      <td>0.000006</td>\n",
       "      <td>...</td>\n",
       "      <td>0.000006</td>\n",
       "      <td>0.000006</td>\n",
       "      <td>0.000006</td>\n",
       "      <td>0.000006</td>\n",
       "      <td>0.000006</td>\n",
       "      <td>0.000006</td>\n",
       "      <td>0.000006</td>\n",
       "      <td>0.000006</td>\n",
       "      <td>0.000006</td>\n",
       "      <td>0.000006</td>\n",
       "    </tr>\n",
       "    <tr>\n",
       "      <th>0.02</th>\n",
       "      <td>0.000006</td>\n",
       "      <td>0.000006</td>\n",
       "      <td>0.000006</td>\n",
       "      <td>0.000006</td>\n",
       "      <td>0.000006</td>\n",
       "      <td>0.000006</td>\n",
       "      <td>0.000006</td>\n",
       "      <td>0.000006</td>\n",
       "      <td>0.000006</td>\n",
       "      <td>0.000006</td>\n",
       "      <td>...</td>\n",
       "      <td>0.000006</td>\n",
       "      <td>0.000006</td>\n",
       "      <td>0.000006</td>\n",
       "      <td>0.000006</td>\n",
       "      <td>0.000006</td>\n",
       "      <td>0.000006</td>\n",
       "      <td>0.000006</td>\n",
       "      <td>0.000006</td>\n",
       "      <td>0.000006</td>\n",
       "      <td>0.000006</td>\n",
       "    </tr>\n",
       "    <tr>\n",
       "      <th>0.04</th>\n",
       "      <td>0.000006</td>\n",
       "      <td>0.000006</td>\n",
       "      <td>0.000006</td>\n",
       "      <td>0.000006</td>\n",
       "      <td>0.000006</td>\n",
       "      <td>0.000006</td>\n",
       "      <td>0.000006</td>\n",
       "      <td>0.000006</td>\n",
       "      <td>0.000006</td>\n",
       "      <td>0.000006</td>\n",
       "      <td>...</td>\n",
       "      <td>0.000006</td>\n",
       "      <td>0.000006</td>\n",
       "      <td>0.000006</td>\n",
       "      <td>0.000006</td>\n",
       "      <td>0.000006</td>\n",
       "      <td>0.000006</td>\n",
       "      <td>0.000006</td>\n",
       "      <td>0.000006</td>\n",
       "      <td>0.000006</td>\n",
       "      <td>0.000006</td>\n",
       "    </tr>\n",
       "    <tr>\n",
       "      <th>0.06</th>\n",
       "      <td>0.000006</td>\n",
       "      <td>0.000006</td>\n",
       "      <td>0.000006</td>\n",
       "      <td>0.000006</td>\n",
       "      <td>0.000006</td>\n",
       "      <td>0.000006</td>\n",
       "      <td>0.000006</td>\n",
       "      <td>0.000006</td>\n",
       "      <td>0.000006</td>\n",
       "      <td>0.000006</td>\n",
       "      <td>...</td>\n",
       "      <td>0.000006</td>\n",
       "      <td>0.000006</td>\n",
       "      <td>0.000006</td>\n",
       "      <td>0.000006</td>\n",
       "      <td>0.000006</td>\n",
       "      <td>0.000006</td>\n",
       "      <td>0.000006</td>\n",
       "      <td>0.000006</td>\n",
       "      <td>0.000006</td>\n",
       "      <td>0.000006</td>\n",
       "    </tr>\n",
       "    <tr>\n",
       "      <th>0.08</th>\n",
       "      <td>0.000006</td>\n",
       "      <td>0.000006</td>\n",
       "      <td>0.000006</td>\n",
       "      <td>0.000006</td>\n",
       "      <td>0.000006</td>\n",
       "      <td>0.000006</td>\n",
       "      <td>0.000006</td>\n",
       "      <td>0.000006</td>\n",
       "      <td>0.000006</td>\n",
       "      <td>0.000006</td>\n",
       "      <td>...</td>\n",
       "      <td>0.000006</td>\n",
       "      <td>0.000006</td>\n",
       "      <td>0.000006</td>\n",
       "      <td>0.000006</td>\n",
       "      <td>0.000006</td>\n",
       "      <td>0.000006</td>\n",
       "      <td>0.000006</td>\n",
       "      <td>0.000006</td>\n",
       "      <td>0.000006</td>\n",
       "      <td>0.000006</td>\n",
       "    </tr>\n",
       "    <tr>\n",
       "      <th>...</th>\n",
       "      <th>...</th>\n",
       "      <td>...</td>\n",
       "      <td>...</td>\n",
       "      <td>...</td>\n",
       "      <td>...</td>\n",
       "      <td>...</td>\n",
       "      <td>...</td>\n",
       "      <td>...</td>\n",
       "      <td>...</td>\n",
       "      <td>...</td>\n",
       "      <td>...</td>\n",
       "      <td>...</td>\n",
       "      <td>...</td>\n",
       "      <td>...</td>\n",
       "      <td>...</td>\n",
       "      <td>...</td>\n",
       "      <td>...</td>\n",
       "      <td>...</td>\n",
       "      <td>...</td>\n",
       "      <td>...</td>\n",
       "      <td>...</td>\n",
       "      <td>...</td>\n",
       "    </tr>\n",
       "    <tr>\n",
       "      <th rowspan=\"5\" valign=\"top\">347</th>\n",
       "      <th>0.92</th>\n",
       "      <td>0.000006</td>\n",
       "      <td>0.000006</td>\n",
       "      <td>0.000006</td>\n",
       "      <td>0.000006</td>\n",
       "      <td>0.000006</td>\n",
       "      <td>0.000006</td>\n",
       "      <td>0.000006</td>\n",
       "      <td>0.000006</td>\n",
       "      <td>0.000006</td>\n",
       "      <td>0.000006</td>\n",
       "      <td>...</td>\n",
       "      <td>0.000006</td>\n",
       "      <td>0.000006</td>\n",
       "      <td>0.000006</td>\n",
       "      <td>0.000006</td>\n",
       "      <td>0.000006</td>\n",
       "      <td>0.000006</td>\n",
       "      <td>0.000006</td>\n",
       "      <td>0.000006</td>\n",
       "      <td>0.000006</td>\n",
       "      <td>0.000006</td>\n",
       "    </tr>\n",
       "    <tr>\n",
       "      <th>0.94</th>\n",
       "      <td>0.000006</td>\n",
       "      <td>0.000006</td>\n",
       "      <td>0.000006</td>\n",
       "      <td>0.000006</td>\n",
       "      <td>0.000006</td>\n",
       "      <td>0.000006</td>\n",
       "      <td>0.000006</td>\n",
       "      <td>0.000006</td>\n",
       "      <td>0.000006</td>\n",
       "      <td>0.000006</td>\n",
       "      <td>...</td>\n",
       "      <td>0.000006</td>\n",
       "      <td>0.000006</td>\n",
       "      <td>0.000006</td>\n",
       "      <td>0.000006</td>\n",
       "      <td>0.000006</td>\n",
       "      <td>0.000006</td>\n",
       "      <td>0.000006</td>\n",
       "      <td>0.000006</td>\n",
       "      <td>0.000006</td>\n",
       "      <td>0.000006</td>\n",
       "    </tr>\n",
       "    <tr>\n",
       "      <th>0.96</th>\n",
       "      <td>0.000006</td>\n",
       "      <td>0.000006</td>\n",
       "      <td>0.000006</td>\n",
       "      <td>0.000006</td>\n",
       "      <td>0.000006</td>\n",
       "      <td>0.000006</td>\n",
       "      <td>0.000006</td>\n",
       "      <td>0.000006</td>\n",
       "      <td>0.000006</td>\n",
       "      <td>0.000006</td>\n",
       "      <td>...</td>\n",
       "      <td>0.000006</td>\n",
       "      <td>0.000006</td>\n",
       "      <td>0.000006</td>\n",
       "      <td>0.000006</td>\n",
       "      <td>0.000006</td>\n",
       "      <td>0.000006</td>\n",
       "      <td>0.000006</td>\n",
       "      <td>0.000006</td>\n",
       "      <td>0.000006</td>\n",
       "      <td>0.000006</td>\n",
       "    </tr>\n",
       "    <tr>\n",
       "      <th>0.98</th>\n",
       "      <td>0.000006</td>\n",
       "      <td>0.000006</td>\n",
       "      <td>0.000006</td>\n",
       "      <td>0.000006</td>\n",
       "      <td>0.000006</td>\n",
       "      <td>0.000006</td>\n",
       "      <td>0.000006</td>\n",
       "      <td>0.000006</td>\n",
       "      <td>0.000006</td>\n",
       "      <td>0.000006</td>\n",
       "      <td>...</td>\n",
       "      <td>0.000006</td>\n",
       "      <td>0.000006</td>\n",
       "      <td>0.000006</td>\n",
       "      <td>0.000006</td>\n",
       "      <td>0.000006</td>\n",
       "      <td>0.000006</td>\n",
       "      <td>0.000006</td>\n",
       "      <td>0.000006</td>\n",
       "      <td>0.000006</td>\n",
       "      <td>0.000006</td>\n",
       "    </tr>\n",
       "    <tr>\n",
       "      <th>1.00</th>\n",
       "      <td>0.000006</td>\n",
       "      <td>0.000006</td>\n",
       "      <td>0.000006</td>\n",
       "      <td>0.000006</td>\n",
       "      <td>0.000006</td>\n",
       "      <td>0.000006</td>\n",
       "      <td>0.000006</td>\n",
       "      <td>0.000006</td>\n",
       "      <td>0.000006</td>\n",
       "      <td>0.000006</td>\n",
       "      <td>...</td>\n",
       "      <td>0.000006</td>\n",
       "      <td>0.000006</td>\n",
       "      <td>0.000006</td>\n",
       "      <td>0.000006</td>\n",
       "      <td>0.000006</td>\n",
       "      <td>0.000006</td>\n",
       "      <td>0.000006</td>\n",
       "      <td>0.000006</td>\n",
       "      <td>0.000006</td>\n",
       "      <td>0.000006</td>\n",
       "    </tr>\n",
       "  </tbody>\n",
       "</table>\n",
       "<p>3264 rows × 51 columns</p>\n",
       "</div>"
      ],
      "text/plain": [
       "p1            0.00      0.02      0.04      0.06      0.08      0.10  \\\n",
       "N   p0                                                                 \n",
       "32  0.00  0.000006  0.000006  0.000006  0.000006  0.000006  0.000006   \n",
       "    0.02  0.000006  0.000006  0.000006  0.000006  0.000006  0.000006   \n",
       "    0.04  0.000006  0.000006  0.000006  0.000006  0.000006  0.000006   \n",
       "    0.06  0.000006  0.000006  0.000006  0.000006  0.000006  0.000006   \n",
       "    0.08  0.000006  0.000006  0.000006  0.000006  0.000006  0.000006   \n",
       "...            ...       ...       ...       ...       ...       ...   \n",
       "347 0.92  0.000006  0.000006  0.000006  0.000006  0.000006  0.000006   \n",
       "    0.94  0.000006  0.000006  0.000006  0.000006  0.000006  0.000006   \n",
       "    0.96  0.000006  0.000006  0.000006  0.000006  0.000006  0.000006   \n",
       "    0.98  0.000006  0.000006  0.000006  0.000006  0.000006  0.000006   \n",
       "    1.00  0.000006  0.000006  0.000006  0.000006  0.000006  0.000006   \n",
       "\n",
       "p1            0.12      0.14      0.16      0.18  ...      0.82      0.84  \\\n",
       "N   p0                                            ...                       \n",
       "32  0.00  0.000006  0.000006  0.000006  0.000006  ...  0.000006  0.000006   \n",
       "    0.02  0.000006  0.000006  0.000006  0.000006  ...  0.000006  0.000006   \n",
       "    0.04  0.000006  0.000006  0.000006  0.000006  ...  0.000006  0.000006   \n",
       "    0.06  0.000006  0.000006  0.000006  0.000006  ...  0.000006  0.000006   \n",
       "    0.08  0.000006  0.000006  0.000006  0.000006  ...  0.000006  0.000006   \n",
       "...            ...       ...       ...       ...  ...       ...       ...   \n",
       "347 0.92  0.000006  0.000006  0.000006  0.000006  ...  0.000006  0.000006   \n",
       "    0.94  0.000006  0.000006  0.000006  0.000006  ...  0.000006  0.000006   \n",
       "    0.96  0.000006  0.000006  0.000006  0.000006  ...  0.000006  0.000006   \n",
       "    0.98  0.000006  0.000006  0.000006  0.000006  ...  0.000006  0.000006   \n",
       "    1.00  0.000006  0.000006  0.000006  0.000006  ...  0.000006  0.000006   \n",
       "\n",
       "p1            0.86      0.88      0.90      0.92      0.94      0.96  \\\n",
       "N   p0                                                                 \n",
       "32  0.00  0.000006  0.000006  0.000006  0.000006  0.000006  0.000006   \n",
       "    0.02  0.000006  0.000006  0.000006  0.000006  0.000006  0.000006   \n",
       "    0.04  0.000006  0.000006  0.000006  0.000006  0.000006  0.000006   \n",
       "    0.06  0.000006  0.000006  0.000006  0.000006  0.000006  0.000006   \n",
       "    0.08  0.000006  0.000006  0.000006  0.000006  0.000006  0.000006   \n",
       "...            ...       ...       ...       ...       ...       ...   \n",
       "347 0.92  0.000006  0.000006  0.000006  0.000006  0.000006  0.000006   \n",
       "    0.94  0.000006  0.000006  0.000006  0.000006  0.000006  0.000006   \n",
       "    0.96  0.000006  0.000006  0.000006  0.000006  0.000006  0.000006   \n",
       "    0.98  0.000006  0.000006  0.000006  0.000006  0.000006  0.000006   \n",
       "    1.00  0.000006  0.000006  0.000006  0.000006  0.000006  0.000006   \n",
       "\n",
       "p1            0.98      1.00  \n",
       "N   p0                        \n",
       "32  0.00  0.000006  0.000006  \n",
       "    0.02  0.000006  0.000006  \n",
       "    0.04  0.000006  0.000006  \n",
       "    0.06  0.000006  0.000006  \n",
       "    0.08  0.000006  0.000006  \n",
       "...            ...       ...  \n",
       "347 0.92  0.000006  0.000006  \n",
       "    0.94  0.000006  0.000006  \n",
       "    0.96  0.000006  0.000006  \n",
       "    0.98  0.000006  0.000006  \n",
       "    1.00  0.000006  0.000006  \n",
       "\n",
       "[3264 rows x 51 columns]"
      ]
     },
     "execution_count": 112,
     "metadata": {},
     "output_type": "execute_result"
    }
   ],
   "source": [
    "joint3"
   ]
  },
  {
   "cell_type": "code",
   "execution_count": 113,
   "metadata": {
    "execution": {
     "iopub.execute_input": "2021-04-16T19:37:54.271012Z",
     "iopub.status.busy": "2021-04-16T19:37:54.270430Z",
     "iopub.status.idle": "2021-04-16T19:37:54.281206Z",
     "shell.execute_reply": "2021-04-16T19:37:54.280739Z"
    }
   },
   "outputs": [
    {
     "data": {
      "text/html": [
       "<div>\n",
       "<style scoped>\n",
       "    .dataframe tbody tr th:only-of-type {\n",
       "        vertical-align: middle;\n",
       "    }\n",
       "\n",
       "    .dataframe tbody tr th {\n",
       "        vertical-align: top;\n",
       "    }\n",
       "\n",
       "    .dataframe thead th {\n",
       "        text-align: right;\n",
       "    }\n",
       "</style>\n",
       "<table border=\"1\" class=\"dataframe\">\n",
       "  <thead>\n",
       "    <tr style=\"text-align: right;\">\n",
       "      <th></th>\n",
       "      <th></th>\n",
       "      <th></th>\n",
       "      <th>probs</th>\n",
       "    </tr>\n",
       "    <tr>\n",
       "      <th>N</th>\n",
       "      <th>p0</th>\n",
       "      <th>p1</th>\n",
       "      <th></th>\n",
       "    </tr>\n",
       "  </thead>\n",
       "  <tbody>\n",
       "    <tr>\n",
       "      <th rowspan=\"3\" valign=\"top\">32</th>\n",
       "      <th rowspan=\"3\" valign=\"top\">0.0</th>\n",
       "      <th>0.00</th>\n",
       "      <td>0.000006</td>\n",
       "    </tr>\n",
       "    <tr>\n",
       "      <th>0.02</th>\n",
       "      <td>0.000006</td>\n",
       "    </tr>\n",
       "    <tr>\n",
       "      <th>0.04</th>\n",
       "      <td>0.000006</td>\n",
       "    </tr>\n",
       "  </tbody>\n",
       "</table>\n",
       "</div>"
      ],
      "text/plain": [
       "N   p0   p1  \n",
       "32  0.0  0.00    0.000006\n",
       "         0.02    0.000006\n",
       "         0.04    0.000006\n",
       "Name: , dtype: float64"
      ]
     },
     "execution_count": 113,
     "metadata": {},
     "output_type": "execute_result"
    }
   ],
   "source": [
    "joint3_pmf = Pmf(joint3.stack())\n",
    "joint3_pmf.head(3)"
   ]
  },
  {
   "cell_type": "code",
   "execution_count": 114,
   "metadata": {
    "execution": {
     "iopub.execute_input": "2021-04-16T19:37:54.284532Z",
     "iopub.status.busy": "2021-04-16T19:37:54.283882Z",
     "iopub.status.idle": "2021-04-16T19:37:54.286757Z",
     "shell.execute_reply": "2021-04-16T19:37:54.286325Z"
    }
   },
   "outputs": [
    {
     "data": {
      "text/plain": [
       "(166464,)"
      ]
     },
     "execution_count": 114,
     "metadata": {},
     "output_type": "execute_result"
    }
   ],
   "source": [
    "joint3_pmf.shape"
   ]
  },
  {
   "cell_type": "markdown",
   "metadata": {},
   "source": [
    "<br>\n",
    "\n",
    "#### 3개의 매개변수의 가능한 모든 값에 대하여 가능도 계산 (다항분포)"
   ]
  },
  {
   "cell_type": "code",
   "execution_count": 115,
   "metadata": {
    "execution": {
     "iopub.execute_input": "2021-04-16T19:37:54.291184Z",
     "iopub.status.busy": "2021-04-16T19:37:54.290454Z",
     "iopub.status.idle": "2021-04-16T19:38:12.997223Z",
     "shell.execute_reply": "2021-04-16T19:38:12.996695Z"
    }
   },
   "outputs": [],
   "source": [
    "likelihood = joint3_pmf.copy()\n",
    "observed = data.sum()\n",
    "x = data.copy()\n",
    "\n",
    "for N, p0, p1 in joint3_pmf.index:\n",
    "    x[0] = N - observed\n",
    "    y = compute_probs(p0, p1)\n",
    "    likelihood[N, p0, p1] = multinomial.pmf(x, N, y)"
   ]
  },
  {
   "cell_type": "markdown",
   "metadata": {},
   "source": [
    "<br>\n",
    "\n",
    "#### 사후분포 계산"
   ]
  },
  {
   "cell_type": "code",
   "execution_count": 116,
   "metadata": {
    "execution": {
     "iopub.execute_input": "2021-04-16T19:38:13.000759Z",
     "iopub.status.busy": "2021-04-16T19:38:13.000131Z",
     "iopub.status.idle": "2021-04-16T19:38:13.006898Z",
     "shell.execute_reply": "2021-04-16T19:38:13.006422Z"
    }
   },
   "outputs": [
    {
     "data": {
      "text/plain": [
       "8.941088283758206e-06"
      ]
     },
     "execution_count": 116,
     "metadata": {},
     "output_type": "execute_result"
    }
   ],
   "source": [
    "posterior_pmf = joint3_pmf * likelihood\n",
    "posterior_pmf.normalize()"
   ]
  },
  {
   "cell_type": "markdown",
   "metadata": {},
   "source": [
    "<br>\n",
    "\n",
    "#### `N`에 대한 사후주변분포\n",
    "- 사후평균 버그 수는 105개로, 아직 검수자가 발견하지 못한 버그가 충분히 많이 있을 수 있음"
   ]
  },
  {
   "cell_type": "code",
   "execution_count": 117,
   "metadata": {
    "execution": {
     "iopub.execute_input": "2021-04-16T19:38:13.010138Z",
     "iopub.status.busy": "2021-04-16T19:38:13.009641Z",
     "iopub.status.idle": "2021-04-16T19:38:13.015759Z",
     "shell.execute_reply": "2021-04-16T19:38:13.015325Z"
    }
   },
   "outputs": [],
   "source": [
    "posterior_N = posterior_pmf.marginal(0)"
   ]
  },
  {
   "cell_type": "code",
   "execution_count": 118,
   "metadata": {
    "execution": {
     "iopub.execute_input": "2021-04-16T19:38:13.040703Z",
     "iopub.status.busy": "2021-04-16T19:38:13.030126Z",
     "iopub.status.idle": "2021-04-16T19:38:13.177605Z",
     "shell.execute_reply": "2021-04-16T19:38:13.177145Z"
    },
    "tags": []
   },
   "outputs": [
    {
     "data": {
      "image/png": "[encoded data removed]",
      "text/plain": [
       "<Figure size 640x480 with 1 Axes>"
      ]
     },
     "metadata": {},
     "output_type": "display_data"
    }
   ],
   "source": [
    "posterior_N.plot(color='C4')\n",
    "\n",
    "decorate(xlabel='Number of bugs (N)', ylabel='PDF', title='Posterior marginal distributions of N')"
   ]
  },
  {
   "cell_type": "code",
   "execution_count": 119,
   "metadata": {
    "execution": {
     "iopub.execute_input": "2021-04-16T19:38:13.181343Z",
     "iopub.status.busy": "2021-04-16T19:38:13.180742Z",
     "iopub.status.idle": "2021-04-16T19:38:13.183133Z",
     "shell.execute_reply": "2021-04-16T19:38:13.183477Z"
    },
    "tags": []
   },
   "outputs": [
    {
     "data": {
      "text/plain": [
       "105.76561732196238"
      ]
     },
     "execution_count": 119,
     "metadata": {},
     "output_type": "execute_result"
    }
   ],
   "source": [
    "posterior_N.mean()"
   ]
  },
  {
   "cell_type": "markdown",
   "metadata": {},
   "source": [
    "<br>\n",
    "\n",
    "#### `p0`과 `p1`의 주변사후분포와 90% 신용구간"
   ]
  },
  {
   "cell_type": "code",
   "execution_count": 120,
   "metadata": {
    "execution": {
     "iopub.execute_input": "2021-04-16T19:38:13.187388Z",
     "iopub.status.busy": "2021-04-16T19:38:13.186841Z",
     "iopub.status.idle": "2021-04-16T19:38:13.340072Z",
     "shell.execute_reply": "2021-04-16T19:38:13.339679Z"
    },
    "tags": []
   },
   "outputs": [
    {
     "data": {
      "image/png": "[encoded data removed]",
      "text/plain": [
       "<Figure size 640x480 with 1 Axes>"
      ]
     },
     "metadata": {},
     "output_type": "display_data"
    }
   ],
   "source": [
    "posterior_p1 = posterior_pmf.marginal(1)\n",
    "posterior_p2 = posterior_pmf.marginal(2)\n",
    "\n",
    "posterior_p1.plot(label='p1')\n",
    "posterior_p2.plot(label='p2')\n",
    "\n",
    "decorate(xlabel='Probability of finding a bug', ylabel='PDF', title='Posterior marginal distributions of p1 and p2')"
   ]
  },
  {
   "cell_type": "code",
   "execution_count": 121,
   "metadata": {
    "execution": {
     "iopub.execute_input": "2021-04-16T19:38:13.344502Z",
     "iopub.status.busy": "2021-04-16T19:38:13.344075Z",
     "iopub.status.idle": "2021-04-16T19:38:13.348520Z",
     "shell.execute_reply": "2021-04-16T19:38:13.348155Z"
    },
    "tags": []
   },
   "outputs": [
    {
     "data": {
      "text/plain": [
       "(0.2297065971677734, array([0.1, 0.4]))"
      ]
     },
     "execution_count": 121,
     "metadata": {},
     "output_type": "execute_result"
    }
   ],
   "source": [
    "posterior_p1.mean(), posterior_p1.credible_interval(0.9)"
   ]
  },
  {
   "cell_type": "code",
   "execution_count": 122,
   "metadata": {
    "execution": {
     "iopub.execute_input": "2021-04-16T19:38:13.352681Z",
     "iopub.status.busy": "2021-04-16T19:38:13.352235Z",
     "iopub.status.idle": "2021-04-16T19:38:13.356101Z",
     "shell.execute_reply": "2021-04-16T19:38:13.355713Z"
    },
    "tags": []
   },
   "outputs": [
    {
     "data": {
      "text/plain": [
       "(0.17501172155925765, array([0.06, 0.32]))"
      ]
     },
     "execution_count": 122,
     "metadata": {},
     "output_type": "execute_result"
    }
   ],
   "source": [
    "posterior_p2.mean(), posterior_p2.credible_interval(0.9)"
   ]
  },
  {
   "cell_type": "markdown",
   "metadata": {},
   "source": [
    "#### 아마도 더 많은 버그를 발견한 검수자는, 버그를 발견할 확률이 더 높음\n",
    "#### 사후분포평균은 각각 23%와 18%지만, 분포가 겹치는 부분이 많음 (확정적으로 받아들일 수 없음)"
   ]
  }
 ],
 "metadata": {
  "celltoolbar": "Tags",
  "kernelspec": {
   "display_name": "Python 3 (ipykernel)",
   "language": "python",
   "name": "python3"
  },
  "language_info": {
   "codemirror_mode": {
    "name": "ipython",
    "version": 3
   },
   "file_extension": ".py",
   "mimetype": "text/x-python",
   "name": "python",
   "nbconvert_exporter": "python",
   "pygments_lexer": "ipython3",
   "version": "3.9.13"
  }
 },
 "nbformat": 4,
 "nbformat_minor": 1
}
