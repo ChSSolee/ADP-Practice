{
 "cells": [
  {
   "cell_type": "markdown",
   "metadata": {},
   "source": [
    "# 02. 베이즈 정리"
   ]
  },
  {
   "cell_type": "markdown",
   "metadata": {},
   "source": [
    "- 베이즈 정리\n",
    "\n",
    "$$P(A|B) = \\frac{P(A) P(B|A)}{P(B)}$$"
   ]
  },
  {
   "cell_type": "markdown",
   "metadata": {},
   "source": [
    "<br>\n",
    "\n",
    "## 02.01. 쿠키 문제\n",
    "\n",
    "> 쿠키 그릇 두 개가 있다고 가정\n",
    ">\n",
    "> * 첫 번째 그릇(그릇 1)에는 바닐라 쿠키 30개와 초콜릿 쿠키 10개가 들어있음\n",
    ">\n",
    "> * 두 번째 그릇(그릇 2)에는 바닐라 쿠키와 초콜릿 쿠키가 20개씩 들어있음\n",
    ">\n",
    "> 어떤 그릇인지 확인하지 않고, 임의로 그릇을 하나 골라서 거기에서 쿠키를 하나 집었다고 했을 떄, 그 때 그 쿠키가 바닐라 쿠키였다면, 이 바닐라 쿠키가 1번 그릇에서 나왔을 확률은?\n",
    "\n",
    "- 현재 필요한 것은 '바닐라 쿠키를 꺼냈다는 전제 조건이 주어졌을 때, 그릇 1에서 나온 것인지를 구하는 **조건부 확률 $P(B_1|V)$'**\n",
    "- 현재 주어진 정보\n",
    "\n",
    "    * 그릇 1이라는 조건에서 바닐라 쿠키를 꺼낼 조건부확률, $P(V | B_1) = 3/4$\n",
    "    \n",
    "    * 그릇 2라는 조건에서 바닐라 쿠키를 꺼낼 조건부확률 $P(V | B_2) = 1/2$.\n"
   ]
  },
  {
   "cell_type": "markdown",
   "metadata": {},
   "source": [
    "**베이즈 정리를 통하여**\n",
    "\n",
    "$$P(B_1|V) = \\frac{P(B_1)~P(V|B_1)}{P(V)}$$\n",
    "\n",
    "\n",
    "-   $P(B_1)$ : 어떤 쿠키를 골랐던지 상관 없이 그릇 1을 골랐을 확률. 문제에서는 그릇을 임의로 선택하였으므로, $P(B_1) = 1/2$라고 가정.\n",
    "\n",
    "-   $P(V|B_1)$ : 그릇 1에서 바닐라 쿠키를 고를 확률 (= 3/4)\n",
    "\n",
    "-   $P(V)$ : 각 그릇에서 바닐라 쿠키를 고를 확률"
   ]
  },
  {
   "cell_type": "markdown",
   "metadata": {},
   "source": [
    "**$P(V)$는 전체확률의 법칙을 사용하여 계산**\n",
    "\n",
    "$$P(V) = P(B_1)~P(V|B_1) ~+~ P(B_2)~P(V|B_2)$$\n",
    "\n",
    "$$ = P(V) = (1/2)~(3/4) ~+~ (1/2)~(1/2) = 5/8$$\n",
    "\n",
    "<br>\n",
    "\n",
    "추가적으로 \n",
    "\n",
    "* 각 그릇을 고를 확률은 동일하고 그릇에는 쿠키가 동일한 개수로 잇으므로, 각 쿠키를 고를 확률은 동일\n",
    "\n",
    "* 두 그릇에는 총 50개의 바닐라 쿠키과 30개의 초콜릿 쿠키가 있으므로 $P(V) = 5/8$.\n",
    "\n",
    "<br>\n",
    "\n",
    "베이즈 정리를 사용하여, 그릇 1의 사후확률을 구하면\n",
    "\n",
    "$$P(B_1|V) = (1/2)~(3/4)~/~(5/8) = 3/5$$\n"
   ]
  },
  {
   "cell_type": "markdown",
   "metadata": {},
   "source": [
    "<br>\n",
    "\n",
    "## 02.02. 통시적 베이즈\n",
    "- 베이즈 이론을 다른 각도에서 볼 수 있는 방법\n",
    "- 데이터 일부 $D$가 주여졌을 때, 가설 $H$의 확률을 갱신하는 방법으로 사용\n",
    "\n",
    "- **이런 식의 해석을 '통시적' (diachronic)이라고 하며, 이는 '시간에 따라 변한다'는 뜻**\n",
    "\n",
    "- 베이즈 정리를 $H$와 $D$를 사용해서 쓰면\n",
    "\n",
    "$$P(H|D) = \\frac{P(H)~P(D|H)}{P(D)}$$\n",
    "\n",
    "\n",
    "-  **$P(H)$ : 데이터를 확인하기 전에 구한 가설 확률, 사전확률**\n",
    "    - 사전 배경 지식을 기반으로 사전확률을 구할 수 있으며, 주관적일 수도 있음\n",
    "\n",
    "-  **$P(H|D)$ : 데이터를 확인한 후의 가설 확률, 사후확률**.\n",
    "\n",
    "-  **$P(D|H)$ : 가설 하에서 해당 데이터가 나올 확률, 가능도(우도)**\n",
    "\n",
    "-  **$P(D)$ : 어떤 가설에서든 해당 데이터가 나올 확률, 데이터의 전체확률**\n",
    "\n",
    "<br>\n",
    "\n",
    "**다음과 같은 성격의 가설 집단을 정의하여 내용을 단순화 시킴**\n",
    "- 상호 배제 : 집합 중 하나의 가설만 참\n",
    "- 전체 포괄 : 집합 중 하나 이상의 가설이 참\n",
    "\n",
    "<br>\n",
    "\n",
    "**이 조건이 만족되면, 전체확률의 법칙을 이용하여 $P(D)$를 구할 수 있음**\n",
    "- 예를 들어 $H_1$과 $H_2$라는 두 개의 가설이 있는 경우, 다음을 만족\n",
    "\n",
    "$$P(D) = P(H_1)~P(D|H_1) + P(H_2)~P(D|H_2)$$\n",
    "\n",
    "- 이를 가설의 개수에 상관없는 보다 일반적 형태로 나타내면\n",
    "\n",
    "$$P(D) = \\sum_i P(H_i)~P(D|H_i)$$\n",
    "\n",
    "#### 데이터와 사전확률을 사용해서 사후확률을 구하는 과정을 베이즈 갱신 (Bayesian Update)"
   ]
  },
  {
   "cell_type": "markdown",
   "metadata": {},
   "source": [
    "## 02.03. 베이즈 테이블\n",
    "- 베이즈 갱신을 보다 편리하게 할 수 있는 도구"
   ]
  },
  {
   "cell_type": "code",
   "execution_count": 1,
   "metadata": {
    "execution": {
     "iopub.execute_input": "2021-04-16T19:35:10.584866Z",
     "iopub.status.busy": "2021-04-16T19:35:10.584115Z",
     "iopub.status.idle": "2021-04-16T19:35:10.819014Z",
     "shell.execute_reply": "2021-04-16T19:35:10.818427Z"
    }
   },
   "outputs": [],
   "source": [
    "import pandas as pd\n",
    "\n",
    "table = pd.DataFrame(index=['Bowl 1', 'Bowl 2'])"
   ]
  },
  {
   "cell_type": "markdown",
   "metadata": {},
   "source": [
    "- 사전확률을 나타내는 열을 추가"
   ]
  },
  {
   "cell_type": "code",
   "execution_count": 2,
   "metadata": {
    "execution": {
     "iopub.execute_input": "2021-04-16T19:35:10.830244Z",
     "iopub.status.busy": "2021-04-16T19:35:10.829806Z",
     "iopub.status.idle": "2021-04-16T19:35:10.834513Z",
     "shell.execute_reply": "2021-04-16T19:35:10.834864Z"
    }
   },
   "outputs": [
    {
     "data": {
      "text/html": [
       "<div>\n",
       "<style scoped>\n",
       "    .dataframe tbody tr th:only-of-type {\n",
       "        vertical-align: middle;\n",
       "    }\n",
       "\n",
       "    .dataframe tbody tr th {\n",
       "        vertical-align: top;\n",
       "    }\n",
       "\n",
       "    .dataframe thead th {\n",
       "        text-align: right;\n",
       "    }\n",
       "</style>\n",
       "<table border=\"1\" class=\"dataframe\">\n",
       "  <thead>\n",
       "    <tr style=\"text-align: right;\">\n",
       "      <th></th>\n",
       "      <th>prior</th>\n",
       "    </tr>\n",
       "  </thead>\n",
       "  <tbody>\n",
       "    <tr>\n",
       "      <th>Bowl 1</th>\n",
       "      <td>0.5</td>\n",
       "    </tr>\n",
       "    <tr>\n",
       "      <th>Bowl 2</th>\n",
       "      <td>0.5</td>\n",
       "    </tr>\n",
       "  </tbody>\n",
       "</table>\n",
       "</div>"
      ],
      "text/plain": [
       "        prior\n",
       "Bowl 1    0.5\n",
       "Bowl 2    0.5"
      ]
     },
     "execution_count": 2,
     "metadata": {},
     "output_type": "execute_result"
    }
   ],
   "source": [
    "table['prior'] = 1/2, 1/2\n",
    "table"
   ]
  },
  {
   "cell_type": "markdown",
   "metadata": {},
   "source": [
    "- 가능도 열 추가"
   ]
  },
  {
   "cell_type": "code",
   "execution_count": 3,
   "metadata": {
    "execution": {
     "iopub.execute_input": "2021-04-16T19:35:10.841661Z",
     "iopub.status.busy": "2021-04-16T19:35:10.840937Z",
     "iopub.status.idle": "2021-04-16T19:35:10.843527Z",
     "shell.execute_reply": "2021-04-16T19:35:10.843881Z"
    },
    "scrolled": true
   },
   "outputs": [
    {
     "data": {
      "text/html": [
       "<div>\n",
       "<style scoped>\n",
       "    .dataframe tbody tr th:only-of-type {\n",
       "        vertical-align: middle;\n",
       "    }\n",
       "\n",
       "    .dataframe tbody tr th {\n",
       "        vertical-align: top;\n",
       "    }\n",
       "\n",
       "    .dataframe thead th {\n",
       "        text-align: right;\n",
       "    }\n",
       "</style>\n",
       "<table border=\"1\" class=\"dataframe\">\n",
       "  <thead>\n",
       "    <tr style=\"text-align: right;\">\n",
       "      <th></th>\n",
       "      <th>prior</th>\n",
       "      <th>likelihood</th>\n",
       "    </tr>\n",
       "  </thead>\n",
       "  <tbody>\n",
       "    <tr>\n",
       "      <th>Bowl 1</th>\n",
       "      <td>0.5</td>\n",
       "      <td>0.75</td>\n",
       "    </tr>\n",
       "    <tr>\n",
       "      <th>Bowl 2</th>\n",
       "      <td>0.5</td>\n",
       "      <td>0.50</td>\n",
       "    </tr>\n",
       "  </tbody>\n",
       "</table>\n",
       "</div>"
      ],
      "text/plain": [
       "        prior  likelihood\n",
       "Bowl 1    0.5        0.75\n",
       "Bowl 2    0.5        0.50"
      ]
     },
     "execution_count": 3,
     "metadata": {},
     "output_type": "execute_result"
    }
   ],
   "source": [
    "table['likelihood'] = 3/4, 1/2\n",
    "table"
   ]
  },
  {
   "cell_type": "markdown",
   "metadata": {},
   "source": [
    "<br>\n",
    "\n",
    "**이전에서 그릇 1만이 아니라 양쪽의 경우에 대한 모든 가능도를 계산**\n",
    "\n",
    "* 그릇 1에서 바닐라 쿠키를 집을 확률은 3/4.\n",
    "\n",
    "* 그릇 2에서 바닐라 쿠키를 잡을 확률은 1/2\n",
    "\n",
    "**전체 가능도 확률의 합이 1이 아니지만, 각각의 확률은 서로 다른 가설 하에서의 확률이므로, 합이 1이 될 필요가 없음** \n",
    "\n",
    "<br>\n",
    "\n",
    "- 가능도와 사전확률을 곱하여 표준화되지 않은 사후확률을 계산"
   ]
  },
  {
   "cell_type": "code",
   "execution_count": 4,
   "metadata": {
    "execution": {
     "iopub.execute_input": "2021-04-16T19:35:10.847394Z",
     "iopub.status.busy": "2021-04-16T19:35:10.846784Z",
     "iopub.status.idle": "2021-04-16T19:35:10.856472Z",
     "shell.execute_reply": "2021-04-16T19:35:10.856847Z"
    }
   },
   "outputs": [
    {
     "data": {
      "text/html": [
       "<div>\n",
       "<style scoped>\n",
       "    .dataframe tbody tr th:only-of-type {\n",
       "        vertical-align: middle;\n",
       "    }\n",
       "\n",
       "    .dataframe tbody tr th {\n",
       "        vertical-align: top;\n",
       "    }\n",
       "\n",
       "    .dataframe thead th {\n",
       "        text-align: right;\n",
       "    }\n",
       "</style>\n",
       "<table border=\"1\" class=\"dataframe\">\n",
       "  <thead>\n",
       "    <tr style=\"text-align: right;\">\n",
       "      <th></th>\n",
       "      <th>prior</th>\n",
       "      <th>likelihood</th>\n",
       "      <th>unnorm</th>\n",
       "    </tr>\n",
       "  </thead>\n",
       "  <tbody>\n",
       "    <tr>\n",
       "      <th>Bowl 1</th>\n",
       "      <td>0.5</td>\n",
       "      <td>0.75</td>\n",
       "      <td>0.375</td>\n",
       "    </tr>\n",
       "    <tr>\n",
       "      <th>Bowl 2</th>\n",
       "      <td>0.5</td>\n",
       "      <td>0.50</td>\n",
       "      <td>0.250</td>\n",
       "    </tr>\n",
       "  </tbody>\n",
       "</table>\n",
       "</div>"
      ],
      "text/plain": [
       "        prior  likelihood  unnorm\n",
       "Bowl 1    0.5        0.75   0.375\n",
       "Bowl 2    0.5        0.50   0.250"
      ]
     },
     "execution_count": 4,
     "metadata": {},
     "output_type": "execute_result"
    }
   ],
   "source": [
    "table['unnorm'] = table['prior'] * table['likelihood']\n",
    "table"
   ]
  },
  {
   "cell_type": "markdown",
   "metadata": {},
   "source": [
    "각 `unnorm`값은 사전확률과 가능도의 곱 \n",
    "(`unnorm`은 표준화되지 않은 사후확률)\n",
    "\n",
    "$$P(B_i)~P(D|B_i)$$\n",
    "\n",
    "이는 베이즈 정리의 분자로써, 결과를 더하면\n",
    "\n",
    "$$P(B_1)~P(D|B_1) + P(B_2)~P(D|B_2)$$\n",
    "\n",
    "베이즈 정리의 분모인 $P(D)$.\n",
    "\n",
    "아래와 같이 전체확률을 계산"
   ]
  },
  {
   "cell_type": "code",
   "execution_count": 5,
   "metadata": {
    "execution": {
     "iopub.execute_input": "2021-04-16T19:35:10.860857Z",
     "iopub.status.busy": "2021-04-16T19:35:10.860423Z",
     "iopub.status.idle": "2021-04-16T19:35:10.863717Z",
     "shell.execute_reply": "2021-04-16T19:35:10.864069Z"
    }
   },
   "outputs": [
    {
     "data": {
      "text/plain": [
       "0.625"
      ]
     },
     "execution_count": 5,
     "metadata": {},
     "output_type": "execute_result"
    }
   ],
   "source": [
    "prob_data = table['unnorm'].sum()\n",
    "prob_data "
   ]
  },
  {
   "cell_type": "markdown",
   "metadata": {},
   "source": [
    "0.625 = (5/8)로써 이전의 결과와 동일\n",
    "\n",
    "<br>\n",
    "\n",
    "- 사후확률 계산"
   ]
  },
  {
   "cell_type": "code",
   "execution_count": 7,
   "metadata": {
    "execution": {
     "iopub.execute_input": "2021-04-16T19:35:10.872145Z",
     "iopub.status.busy": "2021-04-16T19:35:10.871531Z",
     "iopub.status.idle": "2021-04-16T19:35:10.875239Z",
     "shell.execute_reply": "2021-04-16T19:35:10.874623Z"
    }
   },
   "outputs": [
    {
     "data": {
      "text/html": [
       "<div>\n",
       "<style scoped>\n",
       "    .dataframe tbody tr th:only-of-type {\n",
       "        vertical-align: middle;\n",
       "    }\n",
       "\n",
       "    .dataframe tbody tr th {\n",
       "        vertical-align: top;\n",
       "    }\n",
       "\n",
       "    .dataframe thead th {\n",
       "        text-align: right;\n",
       "    }\n",
       "</style>\n",
       "<table border=\"1\" class=\"dataframe\">\n",
       "  <thead>\n",
       "    <tr style=\"text-align: right;\">\n",
       "      <th></th>\n",
       "      <th>prior</th>\n",
       "      <th>likelihood</th>\n",
       "      <th>unnorm</th>\n",
       "      <th>posterior</th>\n",
       "    </tr>\n",
       "  </thead>\n",
       "  <tbody>\n",
       "    <tr>\n",
       "      <th>Bowl 1</th>\n",
       "      <td>0.5</td>\n",
       "      <td>0.75</td>\n",
       "      <td>0.375</td>\n",
       "      <td>0.6</td>\n",
       "    </tr>\n",
       "    <tr>\n",
       "      <th>Bowl 2</th>\n",
       "      <td>0.5</td>\n",
       "      <td>0.50</td>\n",
       "      <td>0.250</td>\n",
       "      <td>0.4</td>\n",
       "    </tr>\n",
       "  </tbody>\n",
       "</table>\n",
       "</div>"
      ],
      "text/plain": [
       "        prior  likelihood  unnorm  posterior\n",
       "Bowl 1    0.5        0.75   0.375        0.6\n",
       "Bowl 2    0.5        0.50   0.250        0.4"
      ]
     },
     "execution_count": 7,
     "metadata": {},
     "output_type": "execute_result"
    }
   ],
   "source": [
    "table['posterior'] = table['unnorm'] / prob_data\n",
    "table"
   ]
  },
  {
   "cell_type": "markdown",
   "metadata": {},
   "source": [
    "**표준화되지 않은 사후확률을 더한 값으로 각 사후확률의 값을 나눠서 구한 사후확률을 더하면 1이 됨을 확인**\n",
    "\n",
    "**$\\rightarrow$ 이 과정을 표준화(normaliztion)이라고 하며, 이 때 데이터의 총 확률을 표준화 상수 (normalizing constant)**"
   ]
  },
  {
   "cell_type": "markdown",
   "metadata": {},
   "source": [
    "<br>\n",
    "\n",
    "## 02.04. 주사위 문제\n",
    "- 베이즈 테이블은 두 개 이상의 가설을 가진 문재를 해결하는 데에도 유용\n",
    "\n",
    "\n",
    "> **육면체, 팔면체, 십이면체 주사위가 든 상자가 존재, 이 중 주사위 하나를 임의로 집어서 굴렸더니 1이 나왔다**\n",
    ">\n",
    "> **이 경우 육면체 주사위를 골랐을 확률은?**\n",
    "\n",
    "여기서 동일한 사전확률을 가지는 세 가지 가설이 존재 $\\rightarrow$ 데이터는 주사위를 굴린 결과가 1이 나왔다는 것\n",
    "\n",
    "- 만약 육면체 주사위를 골랐다면, 최종 값의 확률은 1/6\n",
    "- 팔면체 주사위를 골랐다면, 최종 값의 확률은 1/8\n",
    "- 십이면체 주사위를 골랐다면 최종 값의 확률은 1/12\n",
    "\n",
    "<br>\n",
    "\n",
    "### 베이즈 테이블 연산 과정"
   ]
  },
  {
   "cell_type": "code",
   "execution_count": 11,
   "metadata": {
    "execution": {
     "iopub.execute_input": "2021-04-16T19:35:10.879515Z",
     "iopub.status.busy": "2021-04-16T19:35:10.878981Z",
     "iopub.status.idle": "2021-04-16T19:35:10.881188Z",
     "shell.execute_reply": "2021-04-16T19:35:10.880775Z"
    }
   },
   "outputs": [],
   "source": [
    "table2 = pd.DataFrame(index=[6, 8, 12])"
   ]
  },
  {
   "cell_type": "markdown",
   "metadata": {},
   "source": [
    "- 사전확률과 가능도를 분수로 표현"
   ]
  },
  {
   "cell_type": "code",
   "execution_count": 12,
   "metadata": {
    "execution": {
     "iopub.execute_input": "2021-04-16T19:35:10.886867Z",
     "iopub.status.busy": "2021-04-16T19:35:10.886335Z",
     "iopub.status.idle": "2021-04-16T19:35:10.894831Z",
     "shell.execute_reply": "2021-04-16T19:35:10.894457Z"
    }
   },
   "outputs": [
    {
     "data": {
      "text/html": [
       "<div>\n",
       "<style scoped>\n",
       "    .dataframe tbody tr th:only-of-type {\n",
       "        vertical-align: middle;\n",
       "    }\n",
       "\n",
       "    .dataframe tbody tr th {\n",
       "        vertical-align: top;\n",
       "    }\n",
       "\n",
       "    .dataframe thead th {\n",
       "        text-align: right;\n",
       "    }\n",
       "</style>\n",
       "<table border=\"1\" class=\"dataframe\">\n",
       "  <thead>\n",
       "    <tr style=\"text-align: right;\">\n",
       "      <th></th>\n",
       "      <th>prior</th>\n",
       "      <th>likelihood</th>\n",
       "    </tr>\n",
       "  </thead>\n",
       "  <tbody>\n",
       "    <tr>\n",
       "      <th>6</th>\n",
       "      <td>1/3</td>\n",
       "      <td>1/6</td>\n",
       "    </tr>\n",
       "    <tr>\n",
       "      <th>8</th>\n",
       "      <td>1/3</td>\n",
       "      <td>1/8</td>\n",
       "    </tr>\n",
       "    <tr>\n",
       "      <th>12</th>\n",
       "      <td>1/3</td>\n",
       "      <td>1/12</td>\n",
       "    </tr>\n",
       "  </tbody>\n",
       "</table>\n",
       "</div>"
      ],
      "text/plain": [
       "   prior likelihood\n",
       "6    1/3        1/6\n",
       "8    1/3        1/8\n",
       "12   1/3       1/12"
      ]
     },
     "execution_count": 12,
     "metadata": {},
     "output_type": "execute_result"
    }
   ],
   "source": [
    "from fractions import Fraction\n",
    "\n",
    "table2['prior'] = Fraction(1, 3)\n",
    "table2['likelihood'] = Fraction(1, 6), Fraction(1, 8), Fraction(1, 12)\n",
    "table2"
   ]
  },
  {
   "cell_type": "markdown",
   "metadata": {},
   "source": [
    "- 가능도를 사전확률과 곱하고 표준화되지 않은 사후확률 계산\n",
    "- 표준화되지 않은 사후확률을 더하여 전체확률 계산\n",
    "- 표준화되지 않은 사후확률을 전체확률로 나누어 사후확률 계산"
   ]
  },
  {
   "cell_type": "code",
   "execution_count": 20,
   "metadata": {
    "execution": {
     "iopub.execute_input": "2021-04-16T19:35:10.898394Z",
     "iopub.status.busy": "2021-04-16T19:35:10.897966Z",
     "iopub.status.idle": "2021-04-16T19:35:10.899624Z",
     "shell.execute_reply": "2021-04-16T19:35:10.899989Z"
    }
   },
   "outputs": [],
   "source": [
    "def update(table):\n",
    "    \n",
    "    \"\"\"Compute the posterior probabilities.\"\"\"\n",
    "    \n",
    "    table['unnorm'] = table['prior'] * table['likelihood']\n",
    "    prob_data = table['unnorm'].sum()\n",
    "    table['posterior'] = table['unnorm'] / prob_data\n",
    "    \n",
    "    return prob_data"
   ]
  },
  {
   "cell_type": "code",
   "execution_count": 21,
   "metadata": {
    "execution": {
     "iopub.execute_input": "2021-04-16T19:35:10.904682Z",
     "iopub.status.busy": "2021-04-16T19:35:10.904149Z",
     "iopub.status.idle": "2021-04-16T19:35:10.905883Z",
     "shell.execute_reply": "2021-04-16T19:35:10.906265Z"
    }
   },
   "outputs": [
    {
     "data": {
      "text/html": [
       "<div>\n",
       "<style scoped>\n",
       "    .dataframe tbody tr th:only-of-type {\n",
       "        vertical-align: middle;\n",
       "    }\n",
       "\n",
       "    .dataframe tbody tr th {\n",
       "        vertical-align: top;\n",
       "    }\n",
       "\n",
       "    .dataframe thead th {\n",
       "        text-align: right;\n",
       "    }\n",
       "</style>\n",
       "<table border=\"1\" class=\"dataframe\">\n",
       "  <thead>\n",
       "    <tr style=\"text-align: right;\">\n",
       "      <th></th>\n",
       "      <th>prior</th>\n",
       "      <th>likelihood</th>\n",
       "      <th>unnorm</th>\n",
       "      <th>posterior</th>\n",
       "    </tr>\n",
       "  </thead>\n",
       "  <tbody>\n",
       "    <tr>\n",
       "      <th>6</th>\n",
       "      <td>1/3</td>\n",
       "      <td>1/6</td>\n",
       "      <td>1/18</td>\n",
       "      <td>4/9</td>\n",
       "    </tr>\n",
       "    <tr>\n",
       "      <th>8</th>\n",
       "      <td>1/3</td>\n",
       "      <td>1/8</td>\n",
       "      <td>1/24</td>\n",
       "      <td>1/3</td>\n",
       "    </tr>\n",
       "    <tr>\n",
       "      <th>12</th>\n",
       "      <td>1/3</td>\n",
       "      <td>1/12</td>\n",
       "      <td>1/36</td>\n",
       "      <td>2/9</td>\n",
       "    </tr>\n",
       "  </tbody>\n",
       "</table>\n",
       "</div>"
      ],
      "text/plain": [
       "   prior likelihood unnorm posterior\n",
       "6    1/3        1/6   1/18       4/9\n",
       "8    1/3        1/8   1/24       1/3\n",
       "12   1/3       1/12   1/36       2/9"
      ]
     },
     "execution_count": 21,
     "metadata": {},
     "output_type": "execute_result"
    }
   ],
   "source": [
    "prob_data = update(table2)\n",
    "\n",
    "table2"
   ]
  },
  {
   "cell_type": "markdown",
   "metadata": {},
   "source": [
    "- 육면체 주사위일 사후확률은 4/9로, 이는 다른 주사위의 사후확률보다 높다\n",
    "- 육면체 주사위에서 1이 나올 가능도가 가장 크다고 알고 있으므로 직관적으로 육면체 주사위라고 생각 할 수 있음"
   ]
  },
  {
   "cell_type": "markdown",
   "metadata": {},
   "source": [
    "<br>\n",
    "\n",
    "## 02.05. 몬티홀 문제\n",
    "\n",
    "몸티홀 문제는 'Let's Make a Deal'이라는 게임 쇼에서 나온 문제\n",
    "\n",
    "> 진행자 몬티 홀은 당신에게 1, 2, 3이라고 번호가 붙은 3개의 문을 보여주고, 각 문 뒤에 상품이 존재\n",
    ">\n",
    "> 하나의 상품은 비싼 것, 나머지 두 상품은 덜 비싼 것\n",
    ">\n",
    "> 게임의 목적은 어떤 문 뒤에 비싼 선물이 있는 지를 맞추는 데 있으며, 제대로 맞추면 비싼 선물을 가질 수 있음\n",
    "\n",
    "<br>\n",
    "\n",
    "만약 1번 문을 선택했을 때, 진행자는 3번 문을 열어 싼 선물이 있다는 것을 보여줄 것.\n",
    "\n",
    "그 후 진행자는 그대로 원래의 선택을 고수할지, 열리지 않은 나머지 문으로 바꿀 것인지를 다시 물음\n",
    "\n",
    "비싼 선물을 받을 확률을 극대화하고자 할 때, 1번 문을 그대로 고수할 것인가? 2번 문으로 바꿀 것인가?\n",
    "\n",
    "<br>\n",
    "\n",
    "**이에 답하려면, 진행자의 행동에 대해 몇 가지를 가정해야 함**\n",
    "\n",
    "1. **진행자는 언제나 문을 열고 선택을 바꿀 기회를 줌**\n",
    "\n",
    "2. **진행자는 당신이 고른 문이나 비싼 문이 있는 문을 열지 않음**\n",
    "\n",
    "3. **당신이 고른 문 뒤에 비싼 선물이 있는 경우에는 나머지 문을 임의로 염**\n",
    "\n",
    "<br>\n",
    "\n",
    "**이 가정 하에서는 선택을 바꾸는 것이 좋음**\n",
    "- **만약 선택을 고수했을 때는 1/3의 확률로 비싼 선물을 받지만, 선택을 변경한다면 2/3확률로 비싼 선물을 받을 수 있음**\n",
    "\n",
    "#### Why? 베이즈 테이블을 통하여 이를 증명"
   ]
  },
  {
   "cell_type": "markdown",
   "metadata": {},
   "source": [
    "<br>\n",
    "\n",
    "**3가지의 가설 : 비싼 선물은 문 1,2,3 중 하나의 뒤에 존재**\n",
    "- 문제의 정의에 따라 각 문에 대한 사전확률은 1/3"
   ]
  },
  {
   "cell_type": "code",
   "execution_count": 22,
   "metadata": {
    "execution": {
     "iopub.execute_input": "2021-04-16T19:35:10.923035Z",
     "iopub.status.busy": "2021-04-16T19:35:10.922476Z",
     "iopub.status.idle": "2021-04-16T19:35:10.925144Z",
     "shell.execute_reply": "2021-04-16T19:35:10.925496Z"
    }
   },
   "outputs": [
    {
     "data": {
      "text/html": [
       "<div>\n",
       "<style scoped>\n",
       "    .dataframe tbody tr th:only-of-type {\n",
       "        vertical-align: middle;\n",
       "    }\n",
       "\n",
       "    .dataframe tbody tr th {\n",
       "        vertical-align: top;\n",
       "    }\n",
       "\n",
       "    .dataframe thead th {\n",
       "        text-align: right;\n",
       "    }\n",
       "</style>\n",
       "<table border=\"1\" class=\"dataframe\">\n",
       "  <thead>\n",
       "    <tr style=\"text-align: right;\">\n",
       "      <th></th>\n",
       "      <th>prior</th>\n",
       "    </tr>\n",
       "  </thead>\n",
       "  <tbody>\n",
       "    <tr>\n",
       "      <th>Door 1</th>\n",
       "      <td>1/3</td>\n",
       "    </tr>\n",
       "    <tr>\n",
       "      <th>Door 2</th>\n",
       "      <td>1/3</td>\n",
       "    </tr>\n",
       "    <tr>\n",
       "      <th>Door 3</th>\n",
       "      <td>1/3</td>\n",
       "    </tr>\n",
       "  </tbody>\n",
       "</table>\n",
       "</div>"
      ],
      "text/plain": [
       "       prior\n",
       "Door 1   1/3\n",
       "Door 2   1/3\n",
       "Door 3   1/3"
      ]
     },
     "execution_count": 22,
     "metadata": {},
     "output_type": "execute_result"
    }
   ],
   "source": [
    "table3 = pd.DataFrame(index=['Door 1', 'Door 2', 'Door 3'])\n",
    "table3['prior'] = Fraction(1, 3)\n",
    "table3"
   ]
  },
  {
   "cell_type": "markdown",
   "metadata": {},
   "source": [
    "진행자가 3번 문을 열어 싼 선물을 보여주었다는 데이터가 존재 $\\rightarrow$ 각 가설 하에서 이 데이터의 확률을 다음과 같이 고려\n",
    "\n",
    "> **만약 비싼 선물이 문 1뒤에 있다면, 진행자는 문 2나 3 중의 하나를 임의로 고를 것이므로, 진행자가 3번 문을 열 확률은 1/2**\n",
    ">\n",
    "> **만약 비싼 선물이 문 2뒤에 있다면, 진행자는 무조건 문 3을 열었을 것이므로, 이 가설 하에서 진행자가 3번 문을 열 확률은 1**\n",
    ">\n",
    "> **만약 비싼 선물이 문 3뒤에 있다면, 진행자는 이 문을 열 수 없음. 따라서 이 가설 하에서 진행자가 3번 문을 열 확률은 0**\n",
    "\n",
    "<br>\n",
    "\n",
    "가능도는 다음과 같음"
   ]
  },
  {
   "cell_type": "code",
   "execution_count": 23,
   "metadata": {
    "execution": {
     "iopub.execute_input": "2021-04-16T19:35:10.931993Z",
     "iopub.status.busy": "2021-04-16T19:35:10.931536Z",
     "iopub.status.idle": "2021-04-16T19:35:10.933829Z",
     "shell.execute_reply": "2021-04-16T19:35:10.934196Z"
    }
   },
   "outputs": [
    {
     "data": {
      "text/html": [
       "<div>\n",
       "<style scoped>\n",
       "    .dataframe tbody tr th:only-of-type {\n",
       "        vertical-align: middle;\n",
       "    }\n",
       "\n",
       "    .dataframe tbody tr th {\n",
       "        vertical-align: top;\n",
       "    }\n",
       "\n",
       "    .dataframe thead th {\n",
       "        text-align: right;\n",
       "    }\n",
       "</style>\n",
       "<table border=\"1\" class=\"dataframe\">\n",
       "  <thead>\n",
       "    <tr style=\"text-align: right;\">\n",
       "      <th></th>\n",
       "      <th>prior</th>\n",
       "      <th>likelihood</th>\n",
       "    </tr>\n",
       "  </thead>\n",
       "  <tbody>\n",
       "    <tr>\n",
       "      <th>Door 1</th>\n",
       "      <td>1/3</td>\n",
       "      <td>1/2</td>\n",
       "    </tr>\n",
       "    <tr>\n",
       "      <th>Door 2</th>\n",
       "      <td>1/3</td>\n",
       "      <td>1</td>\n",
       "    </tr>\n",
       "    <tr>\n",
       "      <th>Door 3</th>\n",
       "      <td>1/3</td>\n",
       "      <td>0</td>\n",
       "    </tr>\n",
       "  </tbody>\n",
       "</table>\n",
       "</div>"
      ],
      "text/plain": [
       "       prior likelihood\n",
       "Door 1   1/3        1/2\n",
       "Door 2   1/3          1\n",
       "Door 3   1/3          0"
      ]
     },
     "execution_count": 23,
     "metadata": {},
     "output_type": "execute_result"
    }
   ],
   "source": [
    "table3['likelihood'] = Fraction(1, 2), 1, 0\n",
    "table3"
   ]
  },
  {
   "cell_type": "markdown",
   "metadata": {},
   "source": [
    "- 사전확률가 가능도를 구하고 사후확률을 계산"
   ]
  },
  {
   "cell_type": "code",
   "execution_count": 24,
   "metadata": {
    "execution": {
     "iopub.execute_input": "2021-04-16T19:35:10.944379Z",
     "iopub.status.busy": "2021-04-16T19:35:10.943730Z",
     "iopub.status.idle": "2021-04-16T19:35:10.946709Z",
     "shell.execute_reply": "2021-04-16T19:35:10.947151Z"
    }
   },
   "outputs": [
    {
     "data": {
      "text/html": [
       "<div>\n",
       "<style scoped>\n",
       "    .dataframe tbody tr th:only-of-type {\n",
       "        vertical-align: middle;\n",
       "    }\n",
       "\n",
       "    .dataframe tbody tr th {\n",
       "        vertical-align: top;\n",
       "    }\n",
       "\n",
       "    .dataframe thead th {\n",
       "        text-align: right;\n",
       "    }\n",
       "</style>\n",
       "<table border=\"1\" class=\"dataframe\">\n",
       "  <thead>\n",
       "    <tr style=\"text-align: right;\">\n",
       "      <th></th>\n",
       "      <th>prior</th>\n",
       "      <th>likelihood</th>\n",
       "      <th>unnorm</th>\n",
       "      <th>posterior</th>\n",
       "    </tr>\n",
       "  </thead>\n",
       "  <tbody>\n",
       "    <tr>\n",
       "      <th>Door 1</th>\n",
       "      <td>1/3</td>\n",
       "      <td>1/2</td>\n",
       "      <td>1/6</td>\n",
       "      <td>1/3</td>\n",
       "    </tr>\n",
       "    <tr>\n",
       "      <th>Door 2</th>\n",
       "      <td>1/3</td>\n",
       "      <td>1</td>\n",
       "      <td>1/3</td>\n",
       "      <td>2/3</td>\n",
       "    </tr>\n",
       "    <tr>\n",
       "      <th>Door 3</th>\n",
       "      <td>1/3</td>\n",
       "      <td>0</td>\n",
       "      <td>0</td>\n",
       "      <td>0</td>\n",
       "    </tr>\n",
       "  </tbody>\n",
       "</table>\n",
       "</div>"
      ],
      "text/plain": [
       "       prior likelihood unnorm posterior\n",
       "Door 1   1/3        1/2    1/6       1/3\n",
       "Door 2   1/3          1    1/3       2/3\n",
       "Door 3   1/3          0      0         0"
      ]
     },
     "execution_count": 24,
     "metadata": {},
     "output_type": "execute_result"
    }
   ],
   "source": [
    "update(table3)\n",
    "table3"
   ]
  },
  {
   "cell_type": "markdown",
   "metadata": {},
   "source": [
    "**문 1에 대한 사후확률은 1/3이고, 문 2에대한 사후확률은 2/3 $\\rightarrow$ 그러므로 1번 문에서 2번 문으로 변경하는 것이 나음**\n",
    "\n",
    "<br>\n",
    "\n",
    "#### 확률에 대한 인간의 직관은 항상 믿어서는 안되며, 베이즈 이론을 통해 다음과 같은 분할-정복(divide and conquer)전략을 사용하면 도움이 됨\n",
    "1. 가설과 데이터를 정리\n",
    "2. 사전확률을 계산\n",
    "3. 각 가설 하에서의 데이터 가능도를 계산"
   ]
  },
  {
   "cell_type": "markdown",
   "metadata": {},
   "source": [
    "<br>\n",
    "\n",
    "### 변형 몬티홀 문제\n",
    "\n",
    "다른 가정\n",
    "\n",
    "1. 진행자는 가능한 2번 문을 염\n",
    "2. 어쩔 수 없을 때 (비싼 선물이 2번 문 뒤에 있을 때)만 3번 문을 염\n",
    "\n",
    "<br>\n",
    "\n",
    "Q. 만약 1번 문을 골랐는데, 진행자가 2번문을 열었다면, 비싼 선물이 3번 문 뒤에 있을 확률은?\n",
    "> **만약 비싼 선물이 문 1뒤에 있다면, 진행자는 무조건 문 2를 열었을 것이므로, 진행자가 2번 문을 열 확률은 1**\n",
    ">\n",
    "> **만약 비싼 선물이 문 2뒤에 있다면, 진행자는 문 3을 열었을 것이므로, 이 가설 하에서 진행자가 2번 문을 열 확률은 0**\n",
    ">\n",
    "> **만약 비싼 선물이 문 3뒤에 있다면, 진행자는 무조건 문 2를 열었을 것이므로, 따라서 이 가설 하에서 진행자가 2번 문을 열 확률은 1**"
   ]
  },
  {
   "cell_type": "code",
   "execution_count": 33,
   "metadata": {},
   "outputs": [],
   "source": [
    "table4 = pd.DataFrame(index=['Door 1', 'Door 2', 'Door 3'])\n",
    "table4['prior'] = Fraction(1, 3)\n",
    "table4['likelihood'] = 1, 0, 1"
   ]
  },
  {
   "cell_type": "markdown",
   "metadata": {},
   "source": [
    "- 비싼 선물이 문 3뒤에 있을 확률은 1/2"
   ]
  },
  {
   "cell_type": "code",
   "execution_count": 35,
   "metadata": {},
   "outputs": [
    {
     "data": {
      "text/html": [
       "<div>\n",
       "<style scoped>\n",
       "    .dataframe tbody tr th:only-of-type {\n",
       "        vertical-align: middle;\n",
       "    }\n",
       "\n",
       "    .dataframe tbody tr th {\n",
       "        vertical-align: top;\n",
       "    }\n",
       "\n",
       "    .dataframe thead th {\n",
       "        text-align: right;\n",
       "    }\n",
       "</style>\n",
       "<table border=\"1\" class=\"dataframe\">\n",
       "  <thead>\n",
       "    <tr style=\"text-align: right;\">\n",
       "      <th></th>\n",
       "      <th>prior</th>\n",
       "      <th>likelihood</th>\n",
       "      <th>unnorm</th>\n",
       "      <th>posterior</th>\n",
       "    </tr>\n",
       "  </thead>\n",
       "  <tbody>\n",
       "    <tr>\n",
       "      <th>Door 1</th>\n",
       "      <td>1/3</td>\n",
       "      <td>1</td>\n",
       "      <td>1/3</td>\n",
       "      <td>1/2</td>\n",
       "    </tr>\n",
       "    <tr>\n",
       "      <th>Door 2</th>\n",
       "      <td>1/3</td>\n",
       "      <td>0</td>\n",
       "      <td>0</td>\n",
       "      <td>0</td>\n",
       "    </tr>\n",
       "    <tr>\n",
       "      <th>Door 3</th>\n",
       "      <td>1/3</td>\n",
       "      <td>1</td>\n",
       "      <td>1/3</td>\n",
       "      <td>1/2</td>\n",
       "    </tr>\n",
       "  </tbody>\n",
       "</table>\n",
       "</div>"
      ],
      "text/plain": [
       "       prior  likelihood unnorm posterior\n",
       "Door 1   1/3           1    1/3       1/2\n",
       "Door 2   1/3           0      0         0\n",
       "Door 3   1/3           1    1/3       1/2"
      ]
     },
     "execution_count": 35,
     "metadata": {},
     "output_type": "execute_result"
    }
   ],
   "source": [
    "update(table4)\n",
    "table4"
   ]
  },
  {
   "cell_type": "markdown",
   "metadata": {},
   "source": [
    "<br>\n",
    "\n",
    "Q. 만약 1번 문을 골랐고, 진행자가 3번 문을 열었다면, 비싼 선물이 2번 문 뒤에 있을 확률은?\n",
    "> **만약 비싼 선물이 문 1뒤에 있다면, 진행자는 무조건 문 2를 열었을 것이므로, 이 가설 하에서 진행자가 3번 문을 열 확률은 0**\n",
    ">\n",
    "> **만약 비싼 선물이 문 2뒤에 있다면, 진행자는 문 3을 열었을 것이므로, 이 가설 하에서 진행자가 3번 문을 열 확률은 1**\n",
    ">\n",
    "> **만약 비싼 선물이 문 3뒤에 있다면, 진행자는 무조건 문 2를 열었을 것이므로, 따라서 이 가설 하에서 진행자가 3번 문을 열 확률은 0**"
   ]
  },
  {
   "cell_type": "markdown",
   "metadata": {},
   "source": [
    "- 비싼 선물이 문 2 뒤에 있을 확률은 100%"
   ]
  },
  {
   "cell_type": "code",
   "execution_count": 36,
   "metadata": {},
   "outputs": [
    {
     "data": {
      "text/html": [
       "<div>\n",
       "<style scoped>\n",
       "    .dataframe tbody tr th:only-of-type {\n",
       "        vertical-align: middle;\n",
       "    }\n",
       "\n",
       "    .dataframe tbody tr th {\n",
       "        vertical-align: top;\n",
       "    }\n",
       "\n",
       "    .dataframe thead th {\n",
       "        text-align: right;\n",
       "    }\n",
       "</style>\n",
       "<table border=\"1\" class=\"dataframe\">\n",
       "  <thead>\n",
       "    <tr style=\"text-align: right;\">\n",
       "      <th></th>\n",
       "      <th>prior</th>\n",
       "      <th>likelihood</th>\n",
       "      <th>unnorm</th>\n",
       "      <th>posterior</th>\n",
       "    </tr>\n",
       "  </thead>\n",
       "  <tbody>\n",
       "    <tr>\n",
       "      <th>Door 1</th>\n",
       "      <td>1/3</td>\n",
       "      <td>0</td>\n",
       "      <td>0</td>\n",
       "      <td>0</td>\n",
       "    </tr>\n",
       "    <tr>\n",
       "      <th>Door 2</th>\n",
       "      <td>1/3</td>\n",
       "      <td>1</td>\n",
       "      <td>1/3</td>\n",
       "      <td>1</td>\n",
       "    </tr>\n",
       "    <tr>\n",
       "      <th>Door 3</th>\n",
       "      <td>1/3</td>\n",
       "      <td>0</td>\n",
       "      <td>0</td>\n",
       "      <td>0</td>\n",
       "    </tr>\n",
       "  </tbody>\n",
       "</table>\n",
       "</div>"
      ],
      "text/plain": [
       "       prior  likelihood unnorm posterior\n",
       "Door 1   1/3           0      0         0\n",
       "Door 2   1/3           1    1/3         1\n",
       "Door 3   1/3           0      0         0"
      ]
     },
     "execution_count": 36,
     "metadata": {},
     "output_type": "execute_result"
    }
   ],
   "source": [
    "table5 = pd.DataFrame(index=['Door 1', 'Door 2', 'Door 3'])\n",
    "table5['prior'] = Fraction(1, 3)\n",
    "table5['likelihood'] = 0, 1, 0\n",
    "\n",
    "update(table5)\n",
    "table5"
   ]
  }
 ],
 "metadata": {
  "celltoolbar": "Tags",
  "kernelspec": {
   "display_name": "Python 3 (ipykernel)",
   "language": "python",
   "name": "python3"
  },
  "language_info": {
   "codemirror_mode": {
    "name": "ipython",
    "version": 3
   },
   "file_extension": ".py",
   "mimetype": "text/x-python",
   "name": "python",
   "nbconvert_exporter": "python",
   "pygments_lexer": "ipython3",
   "version": "3.9.13"
  }
 },
 "nbformat": 4,
 "nbformat_minor": 2
}
