{
  "cells": [
    {
      "attachments": {},
      "cell_type": "markdown",
      "metadata": {
        "id": "eBwrtN-WBwEf"
      },
      "source": [
        "# 확률"
      ]
    },
    {
      "attachments": {},
      "cell_type": "markdown",
      "metadata": {
        "id": "KGbqGO3-BwEg"
      },
      "source": [
        "- 베이지안 통계의 기초는 베이즈 정리이고, 베이즈 정리의 기초는 조건부 확률"
      ]
    },
    {
      "attachments": {},
      "cell_type": "markdown",
      "metadata": {
        "id": "bs3jEUXTBwEg"
      },
      "source": [
        "<br>\n",
        "\n",
        "## 01-01. 은행원 린다\n",
        "\n",
        "- 조건부 확률을 위하여  [Tversky와 Kahneman의 유명한 실험](https://en.wikipedia.org/wiki/Conjunction_fallacy)의 예를 사용:\n",
        "\n",
        "> Linda는 31세이고 독신이며 솔직하고 밝은 성격을 가지고 있다. 그녀는 철학을 전공했으며, 학창시절에 린다는 차별과 사회적 정의 문제에 심취하였으며, 반핵화 시위에도 참여했다. 이 때, 다음 린다를 설명하는 문장 중 더 가능성 있는 말은 무엇일까?\n",
        "> 1. Linda는 은행원이다.\n",
        "> 2. Linda는 은행원이며, 페미니스트 운동에 적극적이다.\n",
        "\n",
        "많은 사람들이 두 번째 답을 선택하는데, Linda가 **그저** 은행원이기만 한다면 특생이 없어보인다. 그녀가 페미니스트여야 더 말이 되는 것 처럼 보인다."
      ]
    },
    {
      "attachments": {},
      "cell_type": "markdown",
      "metadata": {
        "id": "9b4XJbLbBwEh"
      },
      "source": [
        "하지만 두 번째 답은 질문이 요구하는 것처럼 **'더 가능성이 있을'**수 없다. 우리가 그녀의 설명에 부합하는 1,000명의 사람을 찾아서, 그 중 10명이 은행원이라고 한다면, 이 중 페미니스트는 몇 명일까? 많아 봐야 10명 전부 일 것이다. 이런 경우, 두 가지 답은 **동일하게**가능하다. 만약 페미니스트가 10명보다 적다면, 두 번째 답은 가능성이 낮다.\n",
        "\n",
        "<br>\n",
        "\n",
        "생물학자 [Stephen J. Gould wrote](https://doi.org/10.1080/09332480.1989.10554932)는 다음과 같이 말했다 :\n",
        "\n",
        "> 나는 [두 번째] 답이이 가장 개연성이 낮다는 것을 알고 있기 때문에 이 예제를 특히 좋아합니다. 그러나 내 머릿속의 작은[호문쿨루스 (homunculus)](https://en.wikipedia.org/wiki/Homunculus_argument)는 계속해서 뛰어다니면서, '하지만 Linda는 단순한 은행원이 아니야'라고 하고 있기 때문이다."
      ]
    },
    {
      "attachments": {},
      "cell_type": "markdown",
      "metadata": {
        "id": "Em9PNe3jBwEh"
      },
      "source": [
        "<br>\n",
        "\n",
        "<br>\n",
        "\n",
        "## 01-02. 확률\n",
        "\n",
        "- 이 시점에서 \"확률\"의 의미를 정의해야 하는데, 이는 [의외로 어렵다](https://en.wikipedia.org/wiki/Probability_interpretations).  시작하기 전에 막히는 것을 피하기 위해 지금은 간단한 정의를 사용하고 나중에 이를 구체화할 것이다. **확률은 유한 집합의 일부**이다.\n",
        "\n",
        "- 예를 들어, 1000명을 대상으로 설문조사를 하고 그중 20명이 은행원이라면 은행원으로 일하는 비율은 0.02 또는 2%이다. 이 모집단에서 무작위로 한 사람을 선택하면 은행원일 확률은 2%이다. **\"무작위\"**란 데이터 세트의 모든 사람이 선택될 확률이 동일함을 의미한다."
      ]
    },
    {
      "cell_type": "code",
      "execution_count": 1,
      "metadata": {
        "execution": {
          "iopub.execute_input": "2021-04-16T19:35:08.628591Z",
          "iopub.status.busy": "2021-04-16T19:35:08.627766Z",
          "iopub.status.idle": "2021-04-16T19:35:08.630508Z",
          "shell.execute_reply": "2021-04-16T19:35:08.629988Z"
        },
        "id": "08IZ9irVBwEh",
        "tags": []
      },
      "outputs": [
        {
          "name": "stdout",
          "output_type": "stream",
          "text": [
            "Downloaded gss_bayes.csv\n"
          ]
        }
      ],
      "source": [
        "from os.path import basename, exists\n",
        "\n",
        "def download(url):\n",
        "    filename = basename(url)\n",
        "    if not exists(filename):\n",
        "        from urllib.request import urlretrieve\n",
        "        local, _ = urlretrieve(url, filename)\n",
        "        print('Downloaded ' + local)\n",
        "    \n",
        "download('https://github.com/AllenDowney/ThinkBayes2/raw/master/data/gss_bayes.csv')"
      ]
    },
    {
      "cell_type": "code",
      "execution_count": 2,
      "metadata": {
        "execution": {
          "iopub.execute_input": "2021-04-16T19:35:08.634488Z",
          "iopub.status.busy": "2021-04-16T19:35:08.633720Z",
          "iopub.status.idle": "2021-04-16T19:35:09.081049Z",
          "shell.execute_reply": "2021-04-16T19:35:09.081454Z"
        },
        "id": "YgSqkJhDBwEi"
      },
      "outputs": [
        {
          "data": {
            "text/html": [
              "<div>\n",
              "<style scoped>\n",
              "    .dataframe tbody tr th:only-of-type {\n",
              "        vertical-align: middle;\n",
              "    }\n",
              "\n",
              "    .dataframe tbody tr th {\n",
              "        vertical-align: top;\n",
              "    }\n",
              "\n",
              "    .dataframe thead th {\n",
              "        text-align: right;\n",
              "    }\n",
              "</style>\n",
              "<table border=\"1\" class=\"dataframe\">\n",
              "  <thead>\n",
              "    <tr style=\"text-align: right;\">\n",
              "      <th></th>\n",
              "      <th>year</th>\n",
              "      <th>age</th>\n",
              "      <th>sex</th>\n",
              "      <th>polviews</th>\n",
              "      <th>partyid</th>\n",
              "      <th>indus10</th>\n",
              "    </tr>\n",
              "    <tr>\n",
              "      <th>caseid</th>\n",
              "      <th></th>\n",
              "      <th></th>\n",
              "      <th></th>\n",
              "      <th></th>\n",
              "      <th></th>\n",
              "      <th></th>\n",
              "    </tr>\n",
              "  </thead>\n",
              "  <tbody>\n",
              "    <tr>\n",
              "      <th>1</th>\n",
              "      <td>1974</td>\n",
              "      <td>21.0</td>\n",
              "      <td>1</td>\n",
              "      <td>4.0</td>\n",
              "      <td>2.0</td>\n",
              "      <td>4970.0</td>\n",
              "    </tr>\n",
              "    <tr>\n",
              "      <th>2</th>\n",
              "      <td>1974</td>\n",
              "      <td>41.0</td>\n",
              "      <td>1</td>\n",
              "      <td>5.0</td>\n",
              "      <td>0.0</td>\n",
              "      <td>9160.0</td>\n",
              "    </tr>\n",
              "    <tr>\n",
              "      <th>5</th>\n",
              "      <td>1974</td>\n",
              "      <td>58.0</td>\n",
              "      <td>2</td>\n",
              "      <td>6.0</td>\n",
              "      <td>1.0</td>\n",
              "      <td>2670.0</td>\n",
              "    </tr>\n",
              "    <tr>\n",
              "      <th>6</th>\n",
              "      <td>1974</td>\n",
              "      <td>30.0</td>\n",
              "      <td>1</td>\n",
              "      <td>5.0</td>\n",
              "      <td>4.0</td>\n",
              "      <td>6870.0</td>\n",
              "    </tr>\n",
              "    <tr>\n",
              "      <th>7</th>\n",
              "      <td>1974</td>\n",
              "      <td>48.0</td>\n",
              "      <td>1</td>\n",
              "      <td>5.0</td>\n",
              "      <td>4.0</td>\n",
              "      <td>7860.0</td>\n",
              "    </tr>\n",
              "  </tbody>\n",
              "</table>\n",
              "</div>"
            ],
            "text/plain": [
              "        year   age  sex  polviews  partyid  indus10\n",
              "caseid                                             \n",
              "1       1974  21.0    1       4.0      2.0   4970.0\n",
              "2       1974  41.0    1       5.0      0.0   9160.0\n",
              "5       1974  58.0    2       6.0      1.0   2670.0\n",
              "6       1974  30.0    1       5.0      4.0   6870.0\n",
              "7       1974  48.0    1       5.0      4.0   7860.0"
            ]
          },
          "execution_count": 2,
          "metadata": {},
          "output_type": "execute_result"
        }
      ],
      "source": [
        "import pandas as pd\n",
        "\n",
        "gss = pd.read_csv('gss_bayes.csv', index_col=0)\n",
        "gss.head()"
      ]
    },
    {
      "attachments": {},
      "cell_type": "markdown",
      "metadata": {
        "id": "McK8E4d0BwEi"
      },
      "source": [
        "<br>\n",
        "\n",
        "* `caseid` : 응답자 ID (테이블의 인덱스)\n",
        "\n",
        "* `year`: 응답자를 조사한 연도\n",
        "\n",
        "* `age`: 조사 당시 응답자의 나이\n",
        "\n",
        "* `sex`: 남성 또는 여성\n",
        "\n",
        "* `polviews`: 진보에서 보수에 이르기까지 다양한 정치적 견해\n",
        "\n",
        "* `partyid`: 소속 정당 (민주당, 무소속 또는 공화당)\n",
        "\n",
        "* `indus10`: 응답자가 근무하는 산업에 대한 [코드](https://www.census.gov/cgi-bin/sssd/naics/naicsrch?chart=2007) "
      ]
    },
    {
      "attachments": {},
      "cell_type": "markdown",
      "metadata": {
        "id": "x12sKdw-BwEi"
      },
      "source": [
        "<br>\n",
        "\n",
        "<br>\n",
        "\n",
        "## 01-03. 은행원의 비율\n",
        "\n",
        "- '은행 및 관련분야'코드는 **6870**으로, 다음과 같이 은행원을 찾을 수 있다."
      ]
    },
    {
      "cell_type": "code",
      "execution_count": 3,
      "metadata": {
        "execution": {
          "iopub.execute_input": "2021-04-16T19:35:09.085579Z",
          "iopub.status.busy": "2021-04-16T19:35:09.084990Z",
          "iopub.status.idle": "2021-04-16T19:35:09.096470Z",
          "shell.execute_reply": "2021-04-16T19:35:09.095986Z"
        },
        "id": "Z21Eu02hBwEi"
      },
      "outputs": [
        {
          "data": {
            "text/plain": [
              "caseid\n",
              "1    False\n",
              "2    False\n",
              "5    False\n",
              "6     True\n",
              "7    False\n",
              "Name: indus10, dtype: bool"
            ]
          },
          "execution_count": 3,
          "metadata": {},
          "output_type": "execute_result"
        }
      ],
      "source": [
        "banker = (gss['indus10'] == 6870)\n",
        "banker.head()"
      ]
    },
    {
      "cell_type": "code",
      "execution_count": 4,
      "metadata": {
        "execution": {
          "iopub.execute_input": "2021-04-16T19:35:09.100573Z",
          "iopub.status.busy": "2021-04-16T19:35:09.100000Z",
          "iopub.status.idle": "2021-04-16T19:35:09.103808Z",
          "shell.execute_reply": "2021-04-16T19:35:09.103159Z"
        },
        "id": "RH8hOEDoBwEj"
      },
      "outputs": [
        {
          "data": {
            "text/plain": [
              "728"
            ]
          },
          "execution_count": 4,
          "metadata": {},
          "output_type": "execute_result"
        }
      ],
      "source": [
        "banker.sum()"
      ]
    },
    {
      "attachments": {},
      "cell_type": "markdown",
      "metadata": {
        "id": "p7uO428UBwEj"
      },
      "source": [
        "- 728명의 은행원이 있음을 확인\n",
        "- 데이터셋에서 한 사람을 임의로 골랐을 때, 그 사람이 은행원일 확률은 약 1.5%"
      ]
    },
    {
      "cell_type": "code",
      "execution_count": 5,
      "metadata": {
        "execution": {
          "iopub.execute_input": "2021-04-16T19:35:09.108607Z",
          "iopub.status.busy": "2021-04-16T19:35:09.107935Z",
          "iopub.status.idle": "2021-04-16T19:35:09.110861Z",
          "shell.execute_reply": "2021-04-16T19:35:09.111310Z"
        },
        "id": "C87nQbVVBwEj"
      },
      "outputs": [
        {
          "data": {
            "text/plain": [
              "0.014769730168391155"
            ]
          },
          "execution_count": 5,
          "metadata": {},
          "output_type": "execute_result"
        }
      ],
      "source": [
        "banker.mean()"
      ]
    },
    {
      "attachments": {},
      "cell_type": "markdown",
      "metadata": {
        "id": "gc1vG47dBwEj"
      },
      "source": [
        "<br>\n",
        "\n",
        "<br>\n",
        "\n",
        "## 01-04. 확률함수"
      ]
    },
    {
      "attachments": {},
      "cell_type": "markdown",
      "metadata": {},
      "source": [
        "- boolean에대한 Series객체를 넣으면 확률을 계산하는 함수"
      ]
    },
    {
      "cell_type": "code",
      "execution_count": 7,
      "metadata": {
        "execution": {
          "iopub.execute_input": "2021-04-16T19:35:09.115436Z",
          "iopub.status.busy": "2021-04-16T19:35:09.114857Z",
          "iopub.status.idle": "2021-04-16T19:35:09.116926Z",
          "shell.execute_reply": "2021-04-16T19:35:09.117430Z"
        },
        "id": "-aFY05dqBwEj"
      },
      "outputs": [],
      "source": [
        "def prob(A):\n",
        "    \"\"\"Computes the probability of a proposition, A.\"\"\"    \n",
        "    return A.mean()"
      ]
    },
    {
      "cell_type": "code",
      "execution_count": 8,
      "metadata": {
        "execution": {
          "iopub.execute_input": "2021-04-16T19:35:09.121943Z",
          "iopub.status.busy": "2021-04-16T19:35:09.121067Z",
          "iopub.status.idle": "2021-04-16T19:35:09.124766Z",
          "shell.execute_reply": "2021-04-16T19:35:09.125312Z"
        },
        "id": "JdEC1epeBwEj"
      },
      "outputs": [
        {
          "data": {
            "text/plain": [
              "0.014769730168391155"
            ]
          },
          "execution_count": 8,
          "metadata": {},
          "output_type": "execute_result"
        }
      ],
      "source": [
        "prob(banker)"
      ]
    },
    {
      "attachments": {},
      "cell_type": "markdown",
      "metadata": {
        "id": "YI4INzSOBwEj"
      },
      "source": [
        "<br>\n",
        "\n",
        "- `Sex`열에 대하여, 여성이 나올 확률\n",
        "\n",
        "```\n",
        "1    남성\n",
        "2    여성\n",
        "```"
      ]
    },
    {
      "cell_type": "code",
      "execution_count": 9,
      "metadata": {
        "execution": {
          "iopub.execute_input": "2021-04-16T19:35:09.133453Z",
          "iopub.status.busy": "2021-04-16T19:35:09.132833Z",
          "iopub.status.idle": "2021-04-16T19:35:09.135227Z",
          "shell.execute_reply": "2021-04-16T19:35:09.134787Z"
        },
        "id": "O3keAkYvBwEk"
      },
      "outputs": [],
      "source": [
        "female = (gss['sex'] == 2)"
      ]
    },
    {
      "attachments": {},
      "cell_type": "markdown",
      "metadata": {},
      "source": [
        "- 이 데이터셋에서 임의로 한 사람을 선택한 경우, 그 사람이 여성일 확률은 약 54%"
      ]
    },
    {
      "cell_type": "code",
      "execution_count": 10,
      "metadata": {
        "execution": {
          "iopub.execute_input": "2021-04-16T19:35:09.138777Z",
          "iopub.status.busy": "2021-04-16T19:35:09.138234Z",
          "iopub.status.idle": "2021-04-16T19:35:09.140987Z",
          "shell.execute_reply": "2021-04-16T19:35:09.140543Z"
        },
        "id": "M35Vr5AZBwEk"
      },
      "outputs": [
        {
          "data": {
            "text/plain": [
              "0.5378575776019476"
            ]
          },
          "execution_count": 10,
          "metadata": {},
          "output_type": "execute_result"
        }
      ],
      "source": [
        "prob(female)"
      ]
    },
    {
      "attachments": {},
      "cell_type": "markdown",
      "metadata": {
        "id": "aCEprDtTBwEk"
      },
      "source": [
        "<br>\n",
        "\n",
        "<br>\n",
        "\n",
        "## 01-05. 정치관과 정당\n",
        "- 응답자의 정치관을 나타내는 `polviews`"
      ]
    },
    {
      "cell_type": "code",
      "execution_count": 15,
      "metadata": {},
      "outputs": [
        {
          "data": {
            "text/plain": [
              "array([4., 5., 6., 2., 7., 3., 1.])"
            ]
          },
          "execution_count": 15,
          "metadata": {},
          "output_type": "execute_result"
        }
      ],
      "source": [
        "gss['polviews'].unique()"
      ]
    },
    {
      "attachments": {},
      "cell_type": "markdown",
      "metadata": {},
      "source": [
        "```\n",
        "1\t매우 진보적\n",
        "2\t진보적\n",
        "3\t조금 진보적\n",
        "4\t중립\n",
        "5\t조금 보수적\n",
        "6\t보수적\n",
        "7\t매우 보수적\n",
        "```\n",
        "\n",
        "<br>\n",
        "\n",
        "- `polviews`가 `매우 진보적`, `진보적`, `조금 진보적`중 하나이면, `True`로 표현"
      ]
    },
    {
      "cell_type": "code",
      "execution_count": 16,
      "metadata": {
        "execution": {
          "iopub.execute_input": "2021-04-16T19:35:09.144820Z",
          "iopub.status.busy": "2021-04-16T19:35:09.144315Z",
          "iopub.status.idle": "2021-04-16T19:35:09.146158Z",
          "shell.execute_reply": "2021-04-16T19:35:09.146493Z"
        },
        "id": "0hhqp8FyBwEk"
      },
      "outputs": [],
      "source": [
        "liberal = (gss['polviews'] <= 3)"
      ]
    },
    {
      "attachments": {},
      "cell_type": "markdown",
      "metadata": {},
      "source": [
        "- 이 데이터셋에서 임의로 한 사람을 선택한 경우, 그 사람이 진보성향일 확률은 약 27%"
      ]
    },
    {
      "cell_type": "code",
      "execution_count": 17,
      "metadata": {
        "execution": {
          "iopub.execute_input": "2021-04-16T19:35:09.150191Z",
          "iopub.status.busy": "2021-04-16T19:35:09.149628Z",
          "iopub.status.idle": "2021-04-16T19:35:09.152382Z",
          "shell.execute_reply": "2021-04-16T19:35:09.152013Z"
        },
        "id": "ybhvSuAJBwEk"
      },
      "outputs": [
        {
          "data": {
            "text/plain": [
              "0.27374721038750255"
            ]
          },
          "execution_count": 17,
          "metadata": {},
          "output_type": "execute_result"
        }
      ],
      "source": [
        "prob(liberal)"
      ]
    },
    {
      "attachments": {},
      "cell_type": "markdown",
      "metadata": {},
      "source": [
        "<br>\n",
        "\n",
        "- 응답자의 소속정당을 나타내는 `partyid`"
      ]
    },
    {
      "cell_type": "code",
      "execution_count": 18,
      "metadata": {},
      "outputs": [
        {
          "data": {
            "text/plain": [
              "array([2., 0., 1., 4., 5., 7., 3., 6.])"
            ]
          },
          "execution_count": 18,
          "metadata": {},
          "output_type": "execute_result"
        }
      ],
      "source": [
        "gss['partyid'].unique()"
      ]
    },
    {
      "attachments": {},
      "cell_type": "markdown",
      "metadata": {
        "id": "oC8uoWyfBwEk"
      },
      "source": [
        "```\n",
        "0\t적극적 민주당원\n",
        "1\t보통 민주당원\n",
        "2\t무소속이나 민주당 지지\n",
        "3\t무소속\n",
        "4\t무소속이나 공화당 지지\n",
        "5\t보통 공화당원\n",
        "6\t적극적 공화당원\n",
        "7\t기타 정당\n",
        "```\n",
        "\n",
        "I'll define `democrat` to include respondents who chose \"Strong democrat\" or \"Not strong democrat\":"
      ]
    },
    {
      "attachments": {},
      "cell_type": "markdown",
      "metadata": {},
      "source": [
        "- `partyid`가 `적극적 민주당원`이나 `보통 민주당원`중 하나이면, `True`로 표현"
      ]
    },
    {
      "cell_type": "code",
      "execution_count": 20,
      "metadata": {
        "execution": {
          "iopub.execute_input": "2021-04-16T19:35:09.156357Z",
          "iopub.status.busy": "2021-04-16T19:35:09.155780Z",
          "iopub.status.idle": "2021-04-16T19:35:09.158246Z",
          "shell.execute_reply": "2021-04-16T19:35:09.157752Z"
        },
        "id": "LCslfwu-BwEl"
      },
      "outputs": [],
      "source": [
        "democrat = (gss['partyid'] <= 1)"
      ]
    },
    {
      "attachments": {},
      "cell_type": "markdown",
      "metadata": {
        "id": "vNGJMKZyBwEl"
      },
      "source": [
        "- 민주당원이라고 응답한 사람들의 비율 약 37%"
      ]
    },
    {
      "cell_type": "code",
      "execution_count": 21,
      "metadata": {
        "execution": {
          "iopub.execute_input": "2021-04-16T19:35:09.162885Z",
          "iopub.status.busy": "2021-04-16T19:35:09.162111Z",
          "iopub.status.idle": "2021-04-16T19:35:09.164826Z",
          "shell.execute_reply": "2021-04-16T19:35:09.165317Z"
        },
        "id": "gYe7YE9cBwEl"
      },
      "outputs": [
        {
          "data": {
            "text/plain": [
              "0.3662609048488537"
            ]
          },
          "execution_count": 21,
          "metadata": {},
          "output_type": "execute_result"
        }
      ],
      "source": [
        "prob(democrat)"
      ]
    },
    {
      "attachments": {},
      "cell_type": "markdown",
      "metadata": {
        "id": "Rj9rXbDdBwEl"
      },
      "source": [
        "<br>\n",
        "\n",
        "<br>\n",
        "\n",
        "\n",
        "## 01-06. 논리곱\n",
        "\n",
        "- '논리곱'은 `AND`논리 연산자의 다른이름\n",
        "- **두 개의 명제 A와 B가 있을 때, A와 B모두가 참 $\\rightarrow$ 참**\n"
      ]
    },
    {
      "cell_type": "code",
      "execution_count": 27,
      "metadata": {
        "execution": {
          "iopub.execute_input": "2021-04-16T19:35:09.180713Z",
          "iopub.status.busy": "2021-04-16T19:35:09.180011Z",
          "iopub.status.idle": "2021-04-16T19:35:09.183970Z",
          "shell.execute_reply": "2021-04-16T19:35:09.183516Z"
        },
        "id": "cvV9jFTuBwEo"
      },
      "outputs": [
        {
          "name": "stdout",
          "output_type": "stream",
          "text": [
            "응답자가 민주당원일 확률: 0.3663\n",
            "응답자가 은행원일 확률: 0.0148\n",
            "\n",
            "응답자가 민주당원이면서 은행원일 확률: 0.0047\n",
            "응답자가 은행원이면서 민주당원일 확률: 0.0047\n"
          ]
        }
      ],
      "source": [
        "print(\"응답자가 민주당원일 확률: {:.4f}\".format(prob(democrat)))\n",
        "print(\"응답자가 은행원일 확률: {:.4f}\".format(prob(banker)), end='\\n\\n')\n",
        "\n",
        "\n",
        "print(\"응답자가 민주당원이면서 은행원일 확률: {:.4f}\".format(prob(banker & democrat)))\n",
        "print(\"응답자가 은행원이면서 민주당원일 확률: {:.4f}\".format(prob(democrat & banker)))"
      ]
    },
    {
      "attachments": {},
      "cell_type": "markdown",
      "metadata": {
        "id": "ppH97rmdBwEo"
      },
      "source": [
        "<br>\n",
        "\n",
        "<br>\n",
        "\n",
        "## 01-07. 조건부 확률\n",
        "\n",
        "- 조건부 확률은 조건에 따라 달라지는 확률\n",
        "- 몇 가지 예시\n",
        "\n",
        "> * 모든 진보 성향 응답자 중, 민주당원일 확률은?\n",
        "> * 응답자가 은행원인 경우 응답자가 여성일 확률은?\n",
        "> * 응답자가 여성인 경우 진보적일 확률은?\n",
        "\n",
        "<br>\n",
        "\n",
        "- 위 질문에 대해 다음의 두 단계에 걸쳐 확률을 계산 가능\n",
        "\n",
        "\n",
        "> 1. 모든 진보 성향 응답자를 선택\n",
        "> 2. 이 중 민주당원의 비율을 계산\n"
      ]
    },
    {
      "cell_type": "code",
      "execution_count": 38,
      "metadata": {
        "execution": {
          "iopub.execute_input": "2021-04-16T19:35:09.193582Z",
          "iopub.status.busy": "2021-04-16T19:35:09.192986Z",
          "iopub.status.idle": "2021-04-16T19:35:09.196312Z",
          "shell.execute_reply": "2021-04-16T19:35:09.195843Z"
        },
        "id": "exl2-yoNBwEo"
      },
      "outputs": [
        {
          "name": "stdout",
          "output_type": "stream",
          "text": [
            "진보성향 응답자 중 민주당원의 비율: 0.5206\n"
          ]
        }
      ],
      "source": [
        "selected = democrat[liberal]\n",
        "print(\"진보성향 응답자 중 민주당원의 비율: {:.4f}\".format(prob(selected)))"
      ]
    },
    {
      "attachments": {},
      "cell_type": "markdown",
      "metadata": {
        "id": "I5ak9v9JBwEp"
      },
      "source": [
        "<br>\n",
        "\n",
        "- \"한 응답자가 은행원일 때, 이 응답자가 여성일 확률\""
      ]
    },
    {
      "cell_type": "code",
      "execution_count": 34,
      "metadata": {
        "execution": {
          "iopub.execute_input": "2021-04-16T19:35:09.206724Z",
          "iopub.status.busy": "2021-04-16T19:35:09.206015Z",
          "iopub.status.idle": "2021-04-16T19:35:09.209768Z",
          "shell.execute_reply": "2021-04-16T19:35:09.210120Z"
        },
        "id": "oXfY7miJBwEp"
      },
      "outputs": [
        {
          "name": "stdout",
          "output_type": "stream",
          "text": [
            "은행원 중 여성의 비율: 0.7706\n"
          ]
        }
      ],
      "source": [
        "selected = female[banker]\n",
        "print(\"은행원중 여성의 비율: {:.4f}\".format(prob(selected)))"
      ]
    },
    {
      "attachments": {},
      "cell_type": "markdown",
      "metadata": {
        "id": "_Ox7AxUwBwEp"
      },
      "source": [
        "<br>\n",
        "\n",
        "- 조건부확률을 구하는 함수"
      ]
    },
    {
      "cell_type": "code",
      "execution_count": 36,
      "metadata": {
        "execution": {
          "iopub.execute_input": "2021-04-16T19:35:09.213058Z",
          "iopub.status.busy": "2021-04-16T19:35:09.212636Z",
          "iopub.status.idle": "2021-04-16T19:35:09.214860Z",
          "shell.execute_reply": "2021-04-16T19:35:09.214485Z"
        },
        "id": "LCUjoJFuBwEp"
      },
      "outputs": [],
      "source": [
        "def conditional(proposition, given):\n",
        "    \"\"\"Probability of A conditioned on given.\"\"\"\n",
        "    return prob(proposition[given])"
      ]
    },
    {
      "cell_type": "code",
      "execution_count": 40,
      "metadata": {
        "execution": {
          "iopub.execute_input": "2021-04-16T19:35:09.218614Z",
          "iopub.status.busy": "2021-04-16T19:35:09.218019Z",
          "iopub.status.idle": "2021-04-16T19:35:09.222351Z",
          "shell.execute_reply": "2021-04-16T19:35:09.221981Z"
        },
        "id": "Y2KpgwMVBwEp"
      },
      "outputs": [
        {
          "name": "stdout",
          "output_type": "stream",
          "text": [
            "응답자가 여성일 때, 진보성향일 확률: 0.2758\n"
          ]
        }
      ],
      "source": [
        "print(\"응답자가 여성일 때, 진보성향일 확률: {:}\".format(conditional(liberal, given=female)))"
      ]
    },
    {
      "attachments": {},
      "cell_type": "markdown",
      "metadata": {
        "id": "I-sppRJhBwEp"
      },
      "source": [
        "<br>\n",
        "\n",
        "<br>\n",
        "\n",
        "## 01-08. 조건부확률의 비교환성\n",
        "\n",
        "- `prob(A & B)`는 항상 `prob(B & A)`과 교환가능\n",
        "- **하지만 조건부확률은 교환이 가능하지 않다. `conditional(A, B)` $\\neq$ `conditional(B, A)`**"
      ]
    },
    {
      "cell_type": "code",
      "execution_count": 43,
      "metadata": {
        "execution": {
          "iopub.execute_input": "2021-04-16T19:35:09.225222Z",
          "iopub.status.busy": "2021-04-16T19:35:09.224726Z",
          "iopub.status.idle": "2021-04-16T19:35:09.228199Z",
          "shell.execute_reply": "2021-04-16T19:35:09.227808Z"
        },
        "id": "RbXk6Bu1BwEq"
      },
      "outputs": [
        {
          "name": "stdout",
          "output_type": "stream",
          "text": [
            "응답자가 여성일때 은행원일 확률: 0.7706\n",
            "응답자가 은행원일떄 여성일 확률: 0.0212\n"
          ]
        }
      ],
      "source": [
        "print(\"응답자가 여성일때 은행원일 확률: {:.4f}\".format(conditional(female, given=banker)))\n",
        "print(\"응답자가 은행원일떄 여성일 확률: {:.4f}\".format(conditional(banker, given=female)))"
      ]
    },
    {
      "attachments": {},
      "cell_type": "markdown",
      "metadata": {
        "id": "e7ytB8yqBwEq"
      },
      "source": [
        "<br>\n",
        "\n",
        "<br>\n",
        "\n",
        "## 01-09. 조건과 논리곱\n"
      ]
    },
    {
      "cell_type": "code",
      "execution_count": 45,
      "metadata": {
        "execution": {
          "iopub.execute_input": "2021-04-16T19:35:09.239595Z",
          "iopub.status.busy": "2021-04-16T19:35:09.239062Z",
          "iopub.status.idle": "2021-04-16T19:35:09.244206Z",
          "shell.execute_reply": "2021-04-16T19:35:09.244621Z"
        },
        "id": "E7jgcPdcBwEq"
      },
      "outputs": [
        {
          "name": "stdout",
          "output_type": "stream",
          "text": [
            "응답자가 진보성향의 민주당원일 때, 여성일 확률: 0.5761\n"
          ]
        }
      ],
      "source": [
        "print(\"응답자가 진보성향의 민주당원일 때, 여성일 확률: {:.4f}\".format(conditional(female, given=liberal & democrat)))"
      ]
    },
    {
      "cell_type": "code",
      "execution_count": 46,
      "metadata": {
        "execution": {
          "iopub.execute_input": "2021-04-16T19:35:09.247749Z",
          "iopub.status.busy": "2021-04-16T19:35:09.247310Z",
          "iopub.status.idle": "2021-04-16T19:35:09.251132Z",
          "shell.execute_reply": "2021-04-16T19:35:09.250686Z"
        },
        "id": "35zOqKENBwEq"
      },
      "outputs": [
        {
          "name": "stdout",
          "output_type": "stream",
          "text": [
            "응답자가 은행원일 때, 진보성향의 여성일 확률: 0.1731\n"
          ]
        }
      ],
      "source": [
        "print(\"응답자가 은행원일 때, 진보성향의 여성일 확률: {:.4f}\".format(conditional(liberal & female, given=banker)))"
      ]
    },
    {
      "attachments": {},
      "cell_type": "markdown",
      "metadata": {
        "id": "Qbhm78bvBwEr"
      },
      "source": [
        "<br>\n",
        "\n",
        "<br>\n",
        "\n",
        "## 01-10. 확률 법칙"
      ]
    },
    {
      "attachments": {},
      "cell_type": "markdown",
      "metadata": {
        "id": "IKnBo9utBwEr"
      },
      "source": [
        "<br>\n",
        "\n",
        "### Theorem 1\n",
        "* **Theorem 1: 논리곱을 사용한 조건부확률 계산**\n",
        "  * $P(A)$는 $A$에 대한 확률\n",
        "<br>\n",
        "\n",
        "#### $$P(A|B) = \\frac{P(A~\\mathrm{and}~B)}{P(B)}$$\n"
      ]
    },
    {
      "cell_type": "code",
      "execution_count": 59,
      "metadata": {
        "execution": {
          "iopub.execute_input": "2021-04-16T19:35:09.254022Z",
          "iopub.status.busy": "2021-04-16T19:35:09.253618Z",
          "iopub.status.idle": "2021-04-16T19:35:09.257836Z",
          "shell.execute_reply": "2021-04-16T19:35:09.258250Z"
        },
        "id": "I6CI678ZBwEr"
      },
      "outputs": [
        {
          "name": "stdout",
          "output_type": "stream",
          "text": [
            "P(A|B) : 0.7706\n",
            "P(A & B) / P(B) : 0.7706\n"
          ]
        }
      ],
      "source": [
        "print(\"P(A|B) : {:.4f}\".format(conditional(female, given=banker)))\n",
        "\n",
        "print(\"P(A & B) / P(B) : {:.4f}\".format(prob(female & banker) / prob(banker)))"
      ]
    },
    {
      "attachments": {},
      "cell_type": "markdown",
      "metadata": {
        "id": "9IvcyjGHBwEs"
      },
      "source": [
        "<br>\n",
        "\n",
        "### Theorem 2\n",
        "* **Theorem 2: 조건부확률을 사용한 논리곱 계산**\n",
        "   * $P(A~\\mathrm{and}~B)$는 $A$와 $B$의 논리곱의 확률. **즉 $A$와 $B$가 모두 참일 확률**\n",
        "\n",
        "<br>\n",
        "\n",
        "#### $$P(A~\\mathrm{and}~B) = P(B) ~ P(A|B)$$"
      ]
    },
    {
      "cell_type": "code",
      "execution_count": 57,
      "metadata": {
        "execution": {
          "iopub.execute_input": "2021-04-16T19:35:09.275335Z",
          "iopub.status.busy": "2021-04-16T19:35:09.274699Z",
          "iopub.status.idle": "2021-04-16T19:35:09.278134Z",
          "shell.execute_reply": "2021-04-16T19:35:09.277739Z"
        },
        "id": "4C-__xOuBwEs"
      },
      "outputs": [
        {
          "name": "stdout",
          "output_type": "stream",
          "text": [
            "P(A & B) : 0.1425\n",
            "P(A)/P(A|B) : 0.1425\n"
          ]
        }
      ],
      "source": [
        "print(\"P(A & B) : {:.4f}\".format(prob(liberal & democrat)))\n",
        "\n",
        "print(\"P(A)/P(A|B) : {:.4f}\".format(prob(democrat) * conditional(liberal, democrat)))"
      ]
    },
    {
      "attachments": {},
      "cell_type": "markdown",
      "metadata": {
        "id": "K-Sn22nbBwEs"
      },
      "source": [
        "<br>\n",
        "\n",
        "<br>\n",
        "\n",
        "### Theorem 3\n",
        "* **Theorem 3: `conditional(A, B)`를 사용한 `conditional(B, A)` 계산**\n",
        "   * **$P(A | B)$는 $B$가 주어졌을 때 $A$가 참일 확률.**\n",
        "   * $A$와 $B$ 사이 세로선은 \"기븐 (given)\"으로 읽음. \n",
        "   * **$=$ 베이즈 정리 (Bayes's Theorem)**\n",
        "   \n",
        "<br>\n",
        "\n",
        "- 논리곱은 교환 가능\n",
        "\n",
        "#### $$P(A~\\mathrm{and}~B) = P(B~\\mathrm{and}~A)$$\n",
        "\n",
        "- Theorem 2를 양쪽에 적용시,\n",
        "\n",
        "<br>\n",
        "\n",
        "#### $$P(B) P(A|B) = P(A) P(B|A)$$"
      ]
    },
    {
      "attachments": {},
      "cell_type": "markdown",
      "metadata": {},
      "source": [
        "- 양변을 $P(B)$로 나눌시,\n",
        "\n",
        "<br>\n",
        "\n",
        "#### $$P(A|B) = \\frac{P(A) P(B|A)}{P(B)}$$"
      ]
    },
    {
      "cell_type": "code",
      "execution_count": 61,
      "metadata": {
        "execution": {
          "iopub.execute_input": "2021-04-16T19:35:09.289892Z",
          "iopub.status.busy": "2021-04-16T19:35:09.289327Z",
          "iopub.status.idle": "2021-04-16T19:35:09.292846Z",
          "shell.execute_reply": "2021-04-16T19:35:09.293307Z"
        },
        "id": "1HwkESSmBwEs"
      },
      "outputs": [
        {
          "name": "stdout",
          "output_type": "stream",
          "text": [
            "P(A | B) : 0.2239\n"
          ]
        }
      ],
      "source": [
        "print(\"P(A | B) : {:.4f}\".format(conditional(liberal, given=banker)))"
      ]
    },
    {
      "cell_type": "code",
      "execution_count": 66,
      "metadata": {
        "execution": {
          "iopub.execute_input": "2021-04-16T19:35:09.296917Z",
          "iopub.status.busy": "2021-04-16T19:35:09.296411Z",
          "iopub.status.idle": "2021-04-16T19:35:09.302183Z",
          "shell.execute_reply": "2021-04-16T19:35:09.301729Z"
        },
        "id": "qyOUWLq2BwEs"
      },
      "outputs": [
        {
          "name": "stdout",
          "output_type": "stream",
          "text": [
            "(P(A) P(B|A))/P(B) : 0.2239\n"
          ]
        }
      ],
      "source": [
        "print(\"(P(A) P(B|A))/P(B) : {:.4f}\".format(prob(liberal) * conditional(banker, liberal) / prob(banker)))"
      ]
    },
    {
      "attachments": {},
      "cell_type": "markdown",
      "metadata": {
        "id": "aztvwtcWBwEt"
      },
      "source": [
        "<br>\n",
        "\n",
        "<br>\n",
        "\n",
        "## 01-11. 전체확률의 법칙\n",
        "\n",
        "<br>\n",
        "\n",
        "#### $$P(A) = P(B_1 \\mathrm{and} A) + P(B_2 \\mathrm{and} A)$$\n",
        "\n",
        "\n",
        "- **$A$의 전체확률은 두 확률의 합: $B_1$와 $A$의 논리곱이 참이거나, $B_2$의 $A$의 논리곱이 참인 경우**.\n",
        "- **또한, $B_1$와 $B_2$는 다음을 만족해야 함**:\n",
        "  * **상호 배제** : 전체 $B$중 하나만 참인 경우\n",
        "\n",
        "  * **전체 포괄** : 전체 $B$중 하나는 반드시 참\n",
        "\n",
        "<br>\n",
        "\n",
        "<br>\n",
        "\n",
        "#### $$P(A) = P(B_1) P(A|B_1) + P(B_2) P(A|B_2)$$\n",
        "\n",
        "#### $$P(A) = \\sum_i P(B_i) P(A|B_i)$$\n"
      ]
    },
    {
      "cell_type": "code",
      "execution_count": 68,
      "metadata": {
        "execution": {
          "iopub.execute_input": "2021-04-16T19:35:09.306120Z",
          "iopub.status.busy": "2021-04-16T19:35:09.305480Z",
          "iopub.status.idle": "2021-04-16T19:35:09.308555Z",
          "shell.execute_reply": "2021-04-16T19:35:09.309041Z"
        },
        "id": "LmKzgDVmBwEt"
      },
      "outputs": [
        {
          "name": "stdout",
          "output_type": "stream",
          "text": [
            "응답자가 은행원일 확률: 0.0148\n"
          ]
        }
      ],
      "source": [
        "print(\"응답자가 은행원일 확률: {:.4f}\".format(prob(banker)))"
      ]
    },
    {
      "cell_type": "code",
      "execution_count": 73,
      "metadata": {
        "execution": {
          "iopub.execute_input": "2021-04-16T19:35:09.313714Z",
          "iopub.status.busy": "2021-04-16T19:35:09.312851Z",
          "iopub.status.idle": "2021-04-16T19:35:09.315579Z",
          "shell.execute_reply": "2021-04-16T19:35:09.315077Z"
        },
        "id": "SQ6HAuKsBwEt"
      },
      "outputs": [
        {
          "name": "stdout",
          "output_type": "stream",
          "text": [
            "응답자가 은행원이면서 남성일 확률 + 응답자가 은행원이면서 여성일 확률 = 응답자가 은행원일 확률 = 0.0148\n"
          ]
        }
      ],
      "source": [
        "male = (gss['sex'] == 1)\n",
        "print(\"응답자가 은행원이면서 남성일 확률 + 응답자가 은행원이면서 여성일 확률 = 응답자가 은행원일 확률 = {:.4f}\".format(prob(male & banker) + prob(female & banker)))\n",
        "\n",
        "# (prob(male) * conditional(banker, given=male) + prob(female) * conditional(banker, given=female))"
      ]
    },
    {
      "attachments": {},
      "cell_type": "markdown",
      "metadata": {
        "id": "vfiQN1PVBwEv"
      },
      "source": [
        "## 요약\n",
        "\n",
        "**Theorem 1** 논리곱을 사용해서 조건부확률 계산:\n",
        "\n",
        "$$P(A|B) = \\frac{P(A~\\mathrm{and}~B)}{P(B)}$$\n",
        "\n",
        "**Theorem 2** 조건부확률을 사용해서 논리곱을 계산:\n",
        "\n",
        "$$P(A~\\mathrm{and}~B) = P(B) P(A|B)$$\n",
        "\n",
        "**Theorem 3**, 베이즈 정리:\n",
        "\n",
        "$$P(A|B) = \\frac{P(A) P(B|A)}{P(B)}$$\n",
        "\n",
        "**The Law of Total Probability** 전체확률의 법칙:\n",
        "\n",
        "$$P(A) = \\sum_i P(B_i) P(A|B_i)$$"
      ]
    },
    {
      "attachments": {},
      "cell_type": "markdown",
      "metadata": {
        "id": "iev0mWYeBwEv"
      },
      "source": [
        "<br>\n",
        "\n",
        "## 연습문제"
      ]
    },
    {
      "attachments": {},
      "cell_type": "markdown",
      "metadata": {
        "id": "lfcoMLvgBwEv"
      },
      "source": [
        "**Exercise1 :** Linda문제의 변형\n",
        "\n",
        "> Linda는 31세이고 독신이며 솔직하고 매우 밝습니다. 그녀는 철학을 전공했다. 학창 시절 그녀는 차별과 사회 정의 문제에 깊은 관심을 가졌고 반핵 시위에도 참여했습니다. 어느 것이 더 가능성이 있습니까?\n",
        "> 1. Linda는 은행원입니다.\n",
        "> 2. Linda는 은행원이며 자신을 민주당원이라고 생각합니다.\n",
        "\n",
        "<br>\n",
        "\n",
        "* Linda가 여성 은행원일 확률"
      ]
    },
    {
      "cell_type": "code",
      "execution_count": 77,
      "metadata": {
        "execution": {
          "iopub.execute_input": "2021-04-16T19:35:09.375687Z",
          "iopub.status.busy": "2021-04-16T19:35:09.374854Z",
          "iopub.status.idle": "2021-04-16T19:35:09.379273Z",
          "shell.execute_reply": "2021-04-16T19:35:09.378643Z"
        },
        "id": "sR24jI1uBwEw"
      },
      "outputs": [
        {
          "data": {
            "text/plain": [
              "0.011381618989653074"
            ]
          },
          "execution_count": 77,
          "metadata": {},
          "output_type": "execute_result"
        }
      ],
      "source": [
        "prob(female & banker)"
      ]
    },
    {
      "attachments": {},
      "cell_type": "markdown",
      "metadata": {},
      "source": [
        "* Linda가 진보적인 여성 은행원일 확률"
      ]
    },
    {
      "cell_type": "code",
      "execution_count": 78,
      "metadata": {
        "execution": {
          "iopub.execute_input": "2021-04-16T19:35:09.383986Z",
          "iopub.status.busy": "2021-04-16T19:35:09.383142Z",
          "iopub.status.idle": "2021-04-16T19:35:09.386942Z",
          "shell.execute_reply": "2021-04-16T19:35:09.387425Z"
        },
        "id": "EHsc6yG_BwEw"
      },
      "outputs": [
        {
          "data": {
            "text/plain": [
              "0.002556299452221546"
            ]
          },
          "execution_count": 78,
          "metadata": {},
          "output_type": "execute_result"
        }
      ],
      "source": [
        "prob(female & banker & liberal)"
      ]
    },
    {
      "attachments": {},
      "cell_type": "markdown",
      "metadata": {},
      "source": [
        "* Linda가 진보적인 여성 은행원이자 민주당원일 확률"
      ]
    },
    {
      "cell_type": "code",
      "execution_count": 79,
      "metadata": {
        "execution": {
          "iopub.execute_input": "2021-04-16T19:35:09.391539Z",
          "iopub.status.busy": "2021-04-16T19:35:09.390944Z",
          "iopub.status.idle": "2021-04-16T19:35:09.395260Z",
          "shell.execute_reply": "2021-04-16T19:35:09.395740Z"
        },
        "id": "fB4YCNF3BwEw"
      },
      "outputs": [
        {
          "data": {
            "text/plain": [
              "0.0012375735443294787"
            ]
          },
          "execution_count": 79,
          "metadata": {},
          "output_type": "execute_result"
        }
      ],
      "source": [
        "prob(female & banker & liberal & democrat)"
      ]
    },
    {
      "attachments": {},
      "cell_type": "markdown",
      "metadata": {
        "id": "D13MsQcnBwEw"
      },
      "source": [
        "<br>\n",
        "\n",
        "**Exercise2 :** `conditional`을 사용해서 다음 확률을 계산:\n",
        "\n",
        "<br>\n",
        "\n",
        "* 응답자가 민주당원일 때 진보적일 확률은?"
      ]
    },
    {
      "cell_type": "code",
      "execution_count": null,
      "metadata": {
        "execution": {
          "iopub.execute_input": "2021-04-16T19:35:09.399461Z",
          "iopub.status.busy": "2021-04-16T19:35:09.398872Z",
          "iopub.status.idle": "2021-04-16T19:35:09.403442Z",
          "shell.execute_reply": "2021-04-16T19:35:09.403943Z"
        },
        "id": "FvSVKz-YBwEw"
      },
      "outputs": [],
      "source": [
        "conditional(liberal, given=democrat)"
      ]
    },
    {
      "attachments": {},
      "cell_type": "markdown",
      "metadata": {},
      "source": [
        "* 응답자가 진보적일 때 민주당원일 확률은?"
      ]
    },
    {
      "cell_type": "code",
      "execution_count": null,
      "metadata": {
        "execution": {
          "iopub.execute_input": "2021-04-16T19:35:09.407668Z",
          "iopub.status.busy": "2021-04-16T19:35:09.407123Z",
          "iopub.status.idle": "2021-04-16T19:35:09.411160Z",
          "shell.execute_reply": "2021-04-16T19:35:09.411604Z"
        },
        "id": "bGf0eW4MBwEw"
      },
      "outputs": [],
      "source": [
        "conditional(democrat, given=liberal)"
      ]
    },
    {
      "attachments": {},
      "cell_type": "markdown",
      "metadata": {
        "id": "Qtkjd9ITBwEw"
      },
      "source": [
        "<br>\n",
        "\n",
        "**Exercise3 :** 청년층, 노년층, 진보성향, 보수성향에 대한 [유명한 인용문](https://quoteinvestigator.com/2014/02/24/heart-head/):\n",
        "\n",
        "> 25살에 자유주의자가 아니면 마음이 없는 것이다. 35세에 보수가 아니면 머리가 없는 것이다.\n"
      ]
    },
    {
      "attachments": {},
      "cell_type": "markdown",
      "metadata": {},
      "source": [
        "<br>\n",
        "\n",
        "- 30세 이하인 경우 `young`으로 정의\n",
        "- 65세 이상인 경우 `old`로 정의"
      ]
    },
    {
      "cell_type": "code",
      "execution_count": 83,
      "metadata": {
        "execution": {
          "iopub.execute_input": "2021-04-16T19:35:09.415701Z",
          "iopub.status.busy": "2021-04-16T19:35:09.415139Z",
          "iopub.status.idle": "2021-04-16T19:35:09.418451Z",
          "shell.execute_reply": "2021-04-16T19:35:09.418810Z"
        },
        "id": "D3yLGxnhBwEw"
      },
      "outputs": [
        {
          "name": "stdout",
          "output_type": "stream",
          "text": [
            "prob(young): 0.1944\n",
            "\n",
            "prob(old): 0.1733\n"
          ]
        }
      ],
      "source": [
        "young = (gss['age'] < 30)\n",
        "print(\"prob(young): {:.4f}\".format(prob(young)), end='\\n\\n')\n",
        "\n",
        "old = (gss['age'] >= 65)\n",
        "print(\"prob(old): {:.4f}\".format(prob(old)))"
      ]
    },
    {
      "attachments": {},
      "cell_type": "markdown",
      "metadata": {
        "id": "9qFzPbqzBwEx"
      },
      "source": [
        "- 이는 대략 20%와 80%에 해당하는 숫자를 고른 조건\n",
        "- `conservative`라는 변수는 정치적 관점에 '보수적', '조금 보수적', '매우 보수적'이라고 답한 사람들로 정의"
      ]
    },
    {
      "cell_type": "code",
      "execution_count": 86,
      "metadata": {
        "execution": {
          "iopub.execute_input": "2021-04-16T19:35:09.429448Z",
          "iopub.status.busy": "2021-04-16T19:35:09.428975Z",
          "iopub.status.idle": "2021-04-16T19:35:09.432387Z",
          "shell.execute_reply": "2021-04-16T19:35:09.432875Z"
        },
        "id": "-ZSWgFnOBwEx"
      },
      "outputs": [
        {
          "name": "stdout",
          "output_type": "stream",
          "text": [
            "prob(conservative): 0.3419\n"
          ]
        }
      ],
      "source": [
        "conservative = (gss['polviews'] >= 5)\n",
        "print(\"prob(conservative): {:.4f}\".format(prob(conservative))) "
      ]
    },
    {
      "attachments": {},
      "cell_type": "markdown",
      "metadata": {
        "id": "SLQ7yLSnBwEx"
      },
      "source": [
        "<br>\n",
        "\n",
        "#### `prob`과 `conditional`를 사용하여 다음 확률을 계산\n",
        "\n",
        "<br>\n",
        "\n",
        "* 무작위로 선택한 응답자가 젊은 진보주의자일 확률은?\n"
      ]
    },
    {
      "cell_type": "code",
      "execution_count": 87,
      "metadata": {
        "execution": {
          "iopub.execute_input": "2021-04-16T19:35:09.436838Z",
          "iopub.status.busy": "2021-04-16T19:35:09.436245Z",
          "iopub.status.idle": "2021-04-16T19:35:09.439984Z",
          "shell.execute_reply": "2021-04-16T19:35:09.440468Z"
        },
        "id": "UWxJAM5IBwEx"
      },
      "outputs": [
        {
          "data": {
            "text/plain": [
              "0.06579427875836884"
            ]
          },
          "execution_count": 87,
          "metadata": {},
          "output_type": "execute_result"
        }
      ],
      "source": [
        "prob(young & liberal)"
      ]
    },
    {
      "attachments": {},
      "cell_type": "markdown",
      "metadata": {},
      "source": [
        "* 젊은 사람이 진보적일 확률은?"
      ]
    },
    {
      "cell_type": "code",
      "execution_count": 88,
      "metadata": {
        "execution": {
          "iopub.execute_input": "2021-04-16T19:35:09.443827Z",
          "iopub.status.busy": "2021-04-16T19:35:09.443300Z",
          "iopub.status.idle": "2021-04-16T19:35:09.447774Z",
          "shell.execute_reply": "2021-04-16T19:35:09.447317Z"
        },
        "id": "tDGsw9dnBwEx"
      },
      "outputs": [
        {
          "data": {
            "text/plain": [
              "0.338517745302714"
            ]
          },
          "execution_count": 88,
          "metadata": {},
          "output_type": "execute_result"
        }
      ],
      "source": [
        "conditional(liberal, given=young)"
      ]
    },
    {
      "attachments": {},
      "cell_type": "markdown",
      "metadata": {},
      "source": [
        "* 응답자가 늙고 보수성향일 확률은?"
      ]
    },
    {
      "cell_type": "code",
      "execution_count": 89,
      "metadata": {
        "execution": {
          "iopub.execute_input": "2021-04-16T19:35:09.451326Z",
          "iopub.status.busy": "2021-04-16T19:35:09.450505Z",
          "iopub.status.idle": "2021-04-16T19:35:09.455557Z",
          "shell.execute_reply": "2021-04-16T19:35:09.455085Z"
        },
        "id": "b3gXsTSxBwEx"
      },
      "outputs": [
        {
          "data": {
            "text/plain": [
              "0.06701156421180766"
            ]
          },
          "execution_count": 89,
          "metadata": {},
          "output_type": "execute_result"
        }
      ],
      "source": [
        "prob(old & conservative)"
      ]
    },
    {
      "attachments": {},
      "cell_type": "markdown",
      "metadata": {},
      "source": [
        "* 보수주의자 중 나이가 많은 사람은?"
      ]
    },
    {
      "cell_type": "code",
      "execution_count": 90,
      "metadata": {
        "execution": {
          "iopub.execute_input": "2021-04-16T19:35:09.458973Z",
          "iopub.status.busy": "2021-04-16T19:35:09.458445Z",
          "iopub.status.idle": "2021-04-16T19:35:09.462616Z",
          "shell.execute_reply": "2021-04-16T19:35:09.463061Z"
        },
        "id": "_YfsnRqmBwEy"
      },
      "outputs": [
        {
          "data": {
            "text/plain": [
              "0.19597721609113564"
            ]
          },
          "execution_count": 90,
          "metadata": {},
          "output_type": "execute_result"
        }
      ],
      "source": [
        "conditional(old, given=conservative)"
      ]
    }
  ],
  "metadata": {
    "celltoolbar": "Tags",
    "colab": {
      "provenance": []
    },
    "kernelspec": {
      "display_name": "base",
      "language": "python",
      "name": "python3"
    },
    "language_info": {
      "codemirror_mode": {
        "name": "ipython",
        "version": 3
      },
      "file_extension": ".py",
      "mimetype": "text/x-python",
      "name": "python",
      "nbconvert_exporter": "python",
      "pygments_lexer": "ipython3",
      "version": "3.9.13"
    },
    "vscode": {
      "interpreter": {
        "hash": "4b706aa2a79e366c60124db94f01b3cedaedac5a5e6fe3d90b795091a1fcd54b"
      }
    }
  },
  "nbformat": 4,
  "nbformat_minor": 0
}
