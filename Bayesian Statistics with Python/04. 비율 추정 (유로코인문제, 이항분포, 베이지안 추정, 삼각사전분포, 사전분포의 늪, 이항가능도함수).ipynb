{
 "cells": [
  {
   "cell_type": "markdown",
   "metadata": {},
   "source": [
    "# 04. 비율 추정"
   ]
  },
  {
   "cell_type": "code",
   "execution_count": 1,
   "metadata": {
    "execution": {
     "iopub.execute_input": "2021-04-16T19:35:15.285811Z",
     "iopub.status.busy": "2021-04-16T19:35:15.285365Z",
     "iopub.status.idle": "2021-04-16T19:35:15.287474Z",
     "shell.execute_reply": "2021-04-16T19:35:15.287081Z"
    },
    "tags": []
   },
   "outputs": [],
   "source": [
    "# Get utils.py\n",
    "\n",
    "from os.path import basename, exists\n",
    "\n",
    "def download(url):\n",
    "    filename = basename(url)\n",
    "    if not exists(filename):\n",
    "        from urllib.request import urlretrieve\n",
    "        local, _ = urlretrieve(url, filename)\n",
    "        print('Downloaded ' + local)\n",
    "    \n",
    "download('https://github.com/AllenDowney/ThinkBayes2/raw/master/soln/utils.py')"
   ]
  },
  {
   "cell_type": "code",
   "execution_count": 2,
   "metadata": {
    "execution": {
     "iopub.execute_input": "2021-04-16T19:35:15.291181Z",
     "iopub.status.busy": "2021-04-16T19:35:15.290518Z",
     "iopub.status.idle": "2021-04-16T19:35:15.978391Z",
     "shell.execute_reply": "2021-04-16T19:35:15.977936Z"
    },
    "tags": []
   },
   "outputs": [],
   "source": [
    "from utils import set_pyplot_params\n",
    "set_pyplot_params()"
   ]
  },
  {
   "cell_type": "markdown",
   "metadata": {},
   "source": [
    "<br>\n",
    "\n",
    "##  04.01. Euro Coin 문제\n",
    "\n",
    "'**정보 이론, 추론, 알고리즘 학습**'에서 데이비드 맥케이는 다음의 문제를 제안\n",
    "\n",
    "2002년 1월 4일 금요일, 가디언지에 다음과 같은 통계 기사가 게재\n",
    "\n",
    "> 벨기에 1유로 동전을, 축을 중심으로 250번 회전을 시켰는데, 앞면이 140회, 뒷면은 110회가 나타남\n",
    "> 런던 경제학교(LSE) 통계학 교수 배리 브라이트는 \"매우 의심스럽다. 만약 동전이 한 쪽으로 기울어진 것이 아니라면, 결과가 이렇게 치우칠 확률은 7% 미만이다\"\n",
    "\n",
    "- 이 데이터가 동전이 한 쪽으로 기울었다는 것의 증거가 되는가?\n",
    "\n",
    "<br>\n",
    "\n",
    "두 가지의 단계가 필요\n",
    "1. 이항분포를 사용해서 7%가 어디에서 나왔는지 탐색\n",
    "2. 베이즈 정리를 사용해서 이 동전의 앞면이 나올 확률을 추정"
   ]
  },
  {
   "cell_type": "markdown",
   "metadata": {},
   "source": [
    "<br>\n",
    "\n",
    "## 04.02. 이항분포\n",
    "\n",
    "만약 동전이 '공정하다' $\\rightarrow$ 앞면이 나올 확률은 50%\n",
    "\n",
    "동전을 2번 돌렸다면, 여기에 대응하는 결과는 `앞앞`, `앞뒤`, `뒤앞`, `뒤뒤` 4가지 이며, 각 25%의 확률을 가지고 있음\n",
    "\n",
    "2번을 던져 앞면이 나온 횟수를 더해보면 0, 1, 2라는 경우의 수가 존재\n",
    "- 0과 2의 경우 25%, 1의 경우는 50%의 확률\n",
    "\n",
    "\n",
    "<br>\n",
    "\n",
    "**보타 일반적으로 앞이 나올 확률을 $p$라고 하고, 동전을 $n$회 돌렸다고 가정할 때, 앞면이 총 $k$회 나올 확률은 이항분포를 따름**\n",
    "\n",
    "$$\\binom{n}{k} p^k (1-p)^{n-k}$$\n",
    "\n",
    "\n",
    "**위 분포는 0부터 $n$사이 (0, $n$ 포함)의 임의의 수에 대한 분포로 $\\binom{n}{k}$는 이항계수 이다**\n",
    "\n",
    "<br>\n",
    "\n",
    "- n = 2회의 동전을 던지고, 매 회 앞면이 나올 확률 p = 0.5라면, k = 1회 앞면이 나올 확률은"
   ]
  },
  {
   "cell_type": "markdown",
   "metadata": {},
   "source": [
    "#### `scipy.stats.binom.pmf(k, n, p)` : 이항분포의 확률밀도함수"
   ]
  },
  {
   "cell_type": "code",
   "execution_count": 29,
   "metadata": {},
   "outputs": [],
   "source": [
    "from scipy.stats import binom"
   ]
  },
  {
   "cell_type": "code",
   "execution_count": 30,
   "metadata": {
    "execution": {
     "iopub.execute_input": "2021-04-16T19:35:15.984511Z",
     "iopub.status.busy": "2021-04-16T19:35:15.983985Z",
     "iopub.status.idle": "2021-04-16T19:35:15.986546Z",
     "shell.execute_reply": "2021-04-16T19:35:15.986891Z"
    }
   },
   "outputs": [
    {
     "data": {
      "text/plain": [
       "0.5000000000000002"
      ]
     },
     "execution_count": 30,
     "metadata": {},
     "output_type": "execute_result"
    }
   ],
   "source": [
    "n = 2\n",
    "p = 0.5\n",
    "k = 1\n",
    "\n",
    "binom.pmf(k, n, p)"
   ]
  },
  {
   "cell_type": "markdown",
   "metadata": {},
   "source": [
    "<br>\n",
    "\n",
    "- `bomom.pmf()`에 단일값 $k$대신 여러 값의 배열 사용 가능"
   ]
  },
  {
   "cell_type": "code",
   "execution_count": 31,
   "metadata": {
    "execution": {
     "iopub.execute_input": "2021-04-16T19:35:15.991484Z",
     "iopub.status.busy": "2021-04-16T19:35:15.990973Z",
     "iopub.status.idle": "2021-04-16T19:35:15.993845Z",
     "shell.execute_reply": "2021-04-16T19:35:15.993471Z"
    }
   },
   "outputs": [
    {
     "data": {
      "text/plain": [
       "array([0, 1, 2])"
      ]
     },
     "execution_count": 31,
     "metadata": {},
     "output_type": "execute_result"
    }
   ],
   "source": [
    "import numpy as np\n",
    "ks = np.arange(n+1)\n",
    "ks"
   ]
  },
  {
   "cell_type": "code",
   "execution_count": 32,
   "metadata": {},
   "outputs": [
    {
     "data": {
      "text/plain": [
       "array([0.25, 0.5 , 0.25])"
      ]
     },
     "execution_count": 32,
     "metadata": {},
     "output_type": "execute_result"
    }
   ],
   "source": [
    "ps = binom.pmf(ks, n, p)\n",
    "ps"
   ]
  },
  {
   "cell_type": "markdown",
   "metadata": {},
   "source": [
    "결과값으로 0, 1, 2회의 앞면이 나올 확률에 대한 numpy 배열이 출력 $\\rightarrow$ **이 확률을 `Pmf()`에 넣으면, 결괏값으로 주어진 n과 p에 대한 k의 분포를 얻을 수 있음**"
   ]
  },
  {
   "cell_type": "code",
   "execution_count": 33,
   "metadata": {},
   "outputs": [],
   "source": [
    "from empiricaldist import Pmf"
   ]
  },
  {
   "cell_type": "code",
   "execution_count": 34,
   "metadata": {
    "execution": {
     "iopub.execute_input": "2021-04-16T19:35:16.001144Z",
     "iopub.status.busy": "2021-04-16T19:35:15.998718Z",
     "iopub.status.idle": "2021-04-16T19:35:16.004019Z",
     "shell.execute_reply": "2021-04-16T19:35:16.003641Z"
    }
   },
   "outputs": [
    {
     "data": {
      "text/html": [
       "<div>\n",
       "<style scoped>\n",
       "    .dataframe tbody tr th:only-of-type {\n",
       "        vertical-align: middle;\n",
       "    }\n",
       "\n",
       "    .dataframe tbody tr th {\n",
       "        vertical-align: top;\n",
       "    }\n",
       "\n",
       "    .dataframe thead th {\n",
       "        text-align: right;\n",
       "    }\n",
       "</style>\n",
       "<table border=\"1\" class=\"dataframe\">\n",
       "  <thead>\n",
       "    <tr style=\"text-align: right;\">\n",
       "      <th></th>\n",
       "      <th>probs</th>\n",
       "    </tr>\n",
       "  </thead>\n",
       "  <tbody>\n",
       "    <tr>\n",
       "      <th>0</th>\n",
       "      <td>0.25</td>\n",
       "    </tr>\n",
       "    <tr>\n",
       "      <th>1</th>\n",
       "      <td>0.50</td>\n",
       "    </tr>\n",
       "    <tr>\n",
       "      <th>2</th>\n",
       "      <td>0.25</td>\n",
       "    </tr>\n",
       "  </tbody>\n",
       "</table>\n",
       "</div>"
      ],
      "text/plain": [
       "0    0.25\n",
       "1    0.50\n",
       "2    0.25\n",
       "Name: , dtype: float64"
      ]
     },
     "execution_count": 34,
     "metadata": {},
     "output_type": "execute_result"
    }
   ],
   "source": [
    "pmf_k = Pmf(ps, ks)\n",
    "pmf_k"
   ]
  },
  {
   "cell_type": "markdown",
   "metadata": {},
   "source": [
    "<br>\n",
    "\n",
    "**다음 함수는 주어진 n과 p에 대한 이항분포를 구하여 이를 나타내는 `Pmf()`를 결괏값으로 반환**"
   ]
  },
  {
   "cell_type": "code",
   "execution_count": 61,
   "metadata": {
    "execution": {
     "iopub.execute_input": "2021-04-16T19:35:16.007619Z",
     "iopub.status.busy": "2021-04-16T19:35:16.007151Z",
     "iopub.status.idle": "2021-04-16T19:35:16.009639Z",
     "shell.execute_reply": "2021-04-16T19:35:16.009210Z"
    }
   },
   "outputs": [],
   "source": [
    "def make_binomial(n, p):\n",
    "    \"\"\"이항 Pmf를 생성\"\"\"\n",
    "    \n",
    "    ks = np.arange(n+1)\n",
    "    ps = binom.pmf(ks, n, p)\n",
    "    \n",
    "    return Pmf(ps, ks)"
   ]
  },
  {
   "cell_type": "markdown",
   "metadata": {},
   "source": [
    "- `n=250`이고, `p=0.5` 일 때의 결과"
   ]
  },
  {
   "cell_type": "code",
   "execution_count": 36,
   "metadata": {
    "execution": {
     "iopub.execute_input": "2021-04-16T19:35:16.013574Z",
     "iopub.status.busy": "2021-04-16T19:35:16.013024Z",
     "iopub.status.idle": "2021-04-16T19:35:16.014749Z",
     "shell.execute_reply": "2021-04-16T19:35:16.015091Z"
    }
   },
   "outputs": [],
   "source": [
    "pmf_k = make_binomial(n=250, p=0.5)"
   ]
  },
  {
   "cell_type": "code",
   "execution_count": 37,
   "metadata": {
    "execution": {
     "iopub.execute_input": "2021-04-16T19:35:16.018757Z",
     "iopub.status.busy": "2021-04-16T19:35:16.018090Z",
     "iopub.status.idle": "2021-04-16T19:35:16.199321Z",
     "shell.execute_reply": "2021-04-16T19:35:16.198864Z"
    },
    "tags": []
   },
   "outputs": [
    {
     "data": {
      "image/png": "[encoded data removed]",
      "text/plain": [
       "<Figure size 640x480 with 1 Axes>"
      ]
     },
     "metadata": {},
     "output_type": "display_data"
    }
   ],
   "source": [
    "from utils import decorate\n",
    "\n",
    "pmf_k.plot(label='n=250, p=0.5')\n",
    "decorate(xlabel='Number of heads (k)',\n",
    "         ylabel='PMF',\n",
    "         title='Binomial distribution')"
   ]
  },
  {
   "cell_type": "markdown",
   "metadata": {},
   "source": [
    "- 이 분포의 MAP값은 125"
   ]
  },
  {
   "cell_type": "code",
   "execution_count": 38,
   "metadata": {
    "execution": {
     "iopub.execute_input": "2021-04-16T19:35:16.203545Z",
     "iopub.status.busy": "2021-04-16T19:35:16.202915Z",
     "iopub.status.idle": "2021-04-16T19:35:16.205298Z",
     "shell.execute_reply": "2021-04-16T19:35:16.205727Z"
    }
   },
   "outputs": [
    {
     "data": {
      "text/plain": [
       "125"
      ]
     },
     "execution_count": 38,
     "metadata": {},
     "output_type": "execute_result"
    }
   ],
   "source": [
    "pmf_k.max_prob()"
   ]
  },
  {
   "cell_type": "markdown",
   "metadata": {},
   "source": [
    "- 하지만 이 값의 확률이 가장 크다고 해도, 125회의 앞면이 나올 확률은 5% 정도 밖에 안됨"
   ]
  },
  {
   "cell_type": "code",
   "execution_count": 39,
   "metadata": {
    "execution": {
     "iopub.execute_input": "2021-04-16T19:35:16.209849Z",
     "iopub.status.busy": "2021-04-16T19:35:16.209205Z",
     "iopub.status.idle": "2021-04-16T19:35:16.211552Z",
     "shell.execute_reply": "2021-04-16T19:35:16.211897Z"
    }
   },
   "outputs": [
    {
     "data": {
      "text/plain": [
       "0.050412213147309655"
      ]
     },
     "execution_count": 39,
     "metadata": {},
     "output_type": "execute_result"
    }
   ],
   "source": [
    "pmf_k[125]"
   ]
  },
  {
   "cell_type": "markdown",
   "metadata": {},
   "source": [
    "- 하지만 맥케이의 문제에서는, 140회의 암ㅍ면이 나왔으며, 이 값이 나올 확률은 125회보다도 작다"
   ]
  },
  {
   "cell_type": "code",
   "execution_count": 40,
   "metadata": {
    "execution": {
     "iopub.execute_input": "2021-04-16T19:35:16.215301Z",
     "iopub.status.busy": "2021-04-16T19:35:16.214671Z",
     "iopub.status.idle": "2021-04-16T19:35:16.217481Z",
     "shell.execute_reply": "2021-04-16T19:35:16.216988Z"
    }
   },
   "outputs": [
    {
     "data": {
      "text/plain": [
       "0.008357181724918204"
      ]
     },
     "execution_count": 40,
     "metadata": {},
     "output_type": "execute_result"
    }
   ],
   "source": [
    "pmf_k[140]"
   ]
  },
  {
   "cell_type": "markdown",
   "metadata": {},
   "source": [
    "- 맥케이가 언급한 내용에서, 통계학자는 \"만약 동전이 한 쪽으로 기울어진 것이 아니라면, 결과가 이렇게 치우칠 확률은 7% 미만이다\"라고 하였다\n",
    "\n",
    "- 이항 분포를 사용해서 통계학자가 말한 내용을 확인해 볼 수 있다\n",
    "\n",
    "- 다음함수는 PMF를 취해서 threshold보다 크거나 같은 값이 갖는 전체확률을 계산"
   ]
  },
  {
   "cell_type": "code",
   "execution_count": 62,
   "metadata": {
    "execution": {
     "iopub.execute_input": "2021-04-16T19:35:16.220900Z",
     "iopub.status.busy": "2021-04-16T19:35:16.220442Z",
     "iopub.status.idle": "2021-04-16T19:35:16.222508Z",
     "shell.execute_reply": "2021-04-16T19:35:16.222121Z"
    }
   },
   "outputs": [],
   "source": [
    "def prob_ge(pmf, threshold):\n",
    "    \"\"\"threshold 보다 크거나 같은 값이 가지는 총 확률\"\"\"\n",
    "    ge = (pmf.qs >= threshold)\n",
    "    total = pmf[ge].sum()\n",
    "\n",
    "    return total"
   ]
  },
  {
   "cell_type": "markdown",
   "metadata": {},
   "source": [
    "- 140개 이상의 앞면이 나올 확률은 약 3.3%"
   ]
  },
  {
   "cell_type": "code",
   "execution_count": 42,
   "metadata": {
    "execution": {
     "iopub.execute_input": "2021-04-16T19:35:16.226137Z",
     "iopub.status.busy": "2021-04-16T19:35:16.225726Z",
     "iopub.status.idle": "2021-04-16T19:35:16.229538Z",
     "shell.execute_reply": "2021-04-16T19:35:16.229060Z"
    }
   },
   "outputs": [
    {
     "data": {
      "text/plain": [
       "0.03321057562002164"
      ]
     },
     "execution_count": 42,
     "metadata": {},
     "output_type": "execute_result"
    }
   ],
   "source": [
    "prob_ge(pmf_k, 140)\n",
    "# pmf_k.prob_ge(140)"
   ]
  },
  {
   "cell_type": "markdown",
   "metadata": {
    "execution": {
     "iopub.execute_input": "2021-04-16T19:35:16.233411Z",
     "iopub.status.busy": "2021-04-16T19:35:16.232859Z",
     "iopub.status.idle": "2021-04-16T19:35:16.235708Z",
     "shell.execute_reply": "2021-04-16T19:35:16.235339Z"
    }
   },
   "source": [
    "- 이는 언급된 7%보다 작다\n",
    "- 통계학자는 140처럼 '극단적인' 모든 값을 언급했으므로, 110보다 같거나 작은 경우 역시 포함했기 때문에 이런 차이가 발생\n",
    "\n",
    "<br>\n",
    "\n",
    "- 우선 앞면이 나올 횟수에 대한 기댓값은 125였으며,\n",
    "\n",
    "    140이 나온 경우라면 기댓값보다 15회 더 많음\n",
    "    \n",
    "    만약, 110회 나왔다면, 기댓값보다는 15회 적다\n",
    "    \n",
    "<br>\n",
    "\n",
    "**따라서 7%의 확률은 이 양쪽 '꼬리'를 합한 값**"
   ]
  },
  {
   "cell_type": "code",
   "execution_count": 43,
   "metadata": {},
   "outputs": [],
   "source": [
    "import matplotlib.pyplot as plt"
   ]
  },
  {
   "cell_type": "code",
   "execution_count": 44,
   "metadata": {},
   "outputs": [],
   "source": [
    "def fill_below(pmf):\n",
    "    qs = pmf.index\n",
    "    ps = pmf.values\n",
    "    plt.fill_between(qs, ps, 0, color='C5', alpha=0.4)"
   ]
  },
  {
   "cell_type": "code",
   "execution_count": 45,
   "metadata": {
    "execution": {
     "iopub.execute_input": "2021-04-16T19:35:16.240518Z",
     "iopub.status.busy": "2021-04-16T19:35:16.239833Z",
     "iopub.status.idle": "2021-04-16T19:35:16.407998Z",
     "shell.execute_reply": "2021-04-16T19:35:16.408375Z"
    },
    "scrolled": false,
    "tags": []
   },
   "outputs": [
    {
     "data": {
      "image/png": "[encoded data removed]",
      "text/plain": [
       "<Figure size 640x480 with 1 Axes>"
      ]
     },
     "metadata": {},
     "output_type": "display_data"
    }
   ],
   "source": [
    "qs = pmf_k.index\n",
    "fill_below(pmf_k[qs>=140])\n",
    "fill_below(pmf_k[qs<=110])\n",
    "pmf_k.plot(label='n=250, p=0.5')\n",
    "\n",
    "decorate(xlabel='Number of heads (k)',\n",
    "         ylabel='PMF',\n",
    "         title='Binomial distribution')"
   ]
  },
  {
   "cell_type": "code",
   "execution_count": 46,
   "metadata": {
    "execution": {
     "iopub.execute_input": "2021-04-16T19:35:16.412502Z",
     "iopub.status.busy": "2021-04-16T19:35:16.411979Z",
     "iopub.status.idle": "2021-04-16T19:35:16.414685Z",
     "shell.execute_reply": "2021-04-16T19:35:16.415128Z"
    }
   },
   "outputs": [
    {
     "data": {
      "text/plain": [
       "0.03321057562002164"
      ]
     },
     "execution_count": 46,
     "metadata": {},
     "output_type": "execute_result"
    }
   ],
   "source": [
    "pmf_k.prob_le(110)"
   ]
  },
  {
   "cell_type": "markdown",
   "metadata": {},
   "source": [
    "**결과가 110보다 작거나 같을 확률 역시 3.3%로, 140처럼 '극단적인'총 확률은 6.6% 이다**\n",
    "\n",
    "**'동전이 공정하다면 극단적인 값은 나오지 않는다'라는 결론 도출**"
   ]
  },
  {
   "cell_type": "markdown",
   "metadata": {},
   "source": [
    "<br>\n",
    "\n",
    "## 04.03.Bayesian Estimation\n",
    "\n",
    "어떤 동전이든 세워서 돌리면, 앞면을 보이며 넘어질 확률을 가진다.\n",
    "\n",
    "이 확률을 $x$라고 할때, $x$는 무게 분산 등 물리적 특성에 영향을 받는다고 판단할 수 있다.\n",
    "\n",
    "만약 동전의 무게가 완벽한 균형을 이루고 있다면, $x$는 50%에 근접하다고 생각하겠지만, 동전의 무게가 어느 한쪽에 치우쳐 잇다면, $x$는 이에 따라 달라진다.\n",
    "\n",
    "<br>\n",
    "\n",
    "- **우선 $x$의 모든 값이 동일한 정도로 가능하다고 가정하는 균등분포를 사전분포로 두고 시작**\n",
    "    \n",
    "    (앞면을 보이며 넘어질 확률이 $x$일 확률 = 1 / 101)"
   ]
  },
  {
   "cell_type": "code",
   "execution_count": 85,
   "metadata": {},
   "outputs": [],
   "source": [
    "from fractions import Fraction"
   ]
  },
  {
   "cell_type": "code",
   "execution_count": 87,
   "metadata": {
    "execution": {
     "iopub.execute_input": "2021-04-16T19:35:16.419440Z",
     "iopub.status.busy": "2021-04-16T19:35:16.418911Z",
     "iopub.status.idle": "2021-04-16T19:35:16.421414Z",
     "shell.execute_reply": "2021-04-16T19:35:16.420923Z"
    }
   },
   "outputs": [
    {
     "data": {
      "text/html": [
       "<div>\n",
       "<style scoped>\n",
       "    .dataframe tbody tr th:only-of-type {\n",
       "        vertical-align: middle;\n",
       "    }\n",
       "\n",
       "    .dataframe tbody tr th {\n",
       "        vertical-align: top;\n",
       "    }\n",
       "\n",
       "    .dataframe thead th {\n",
       "        text-align: right;\n",
       "    }\n",
       "</style>\n",
       "<table border=\"1\" class=\"dataframe\">\n",
       "  <thead>\n",
       "    <tr style=\"text-align: right;\">\n",
       "      <th></th>\n",
       "      <th>probs</th>\n",
       "    </tr>\n",
       "  </thead>\n",
       "  <tbody>\n",
       "    <tr>\n",
       "      <th>0.00</th>\n",
       "      <td>1/101</td>\n",
       "    </tr>\n",
       "    <tr>\n",
       "      <th>0.01</th>\n",
       "      <td>1/101</td>\n",
       "    </tr>\n",
       "    <tr>\n",
       "      <th>0.02</th>\n",
       "      <td>1/101</td>\n",
       "    </tr>\n",
       "  </tbody>\n",
       "</table>\n",
       "</div>"
      ],
      "text/plain": [
       "0.00    1/101\n",
       "0.01    1/101\n",
       "0.02    1/101\n",
       "Name: , dtype: object"
      ]
     },
     "execution_count": 87,
     "metadata": {},
     "output_type": "execute_result"
    }
   ],
   "source": [
    "hypos = np.linspace(0, 1, 101)\n",
    "prior = Pmf(Fraction(1, 101), hypos)\n",
    "prior.head()"
   ]
  },
  {
   "cell_type": "markdown",
   "metadata": {},
   "source": [
    "- 가능도 계산"
   ]
  },
  {
   "cell_type": "code",
   "execution_count": 88,
   "metadata": {
    "execution": {
     "iopub.execute_input": "2021-04-16T19:35:16.424979Z",
     "iopub.status.busy": "2021-04-16T19:35:16.424456Z",
     "iopub.status.idle": "2021-04-16T19:35:16.426990Z",
     "shell.execute_reply": "2021-04-16T19:35:16.426343Z"
    }
   },
   "outputs": [],
   "source": [
    "likelihood_heads = hypos\n",
    "likelihood_tails = 1 - hypos"
   ]
  },
  {
   "cell_type": "code",
   "execution_count": 89,
   "metadata": {},
   "outputs": [
    {
     "name": "stdout",
     "output_type": "stream",
     "text": [
      "[0.   0.01 0.02 0.03 0.04 0.05 0.06 0.07 0.08 0.09 0.1  0.11 0.12 0.13\n",
      " 0.14 0.15 0.16 0.17 0.18 0.19 0.2  0.21 0.22 0.23 0.24 0.25 0.26 0.27\n",
      " 0.28 0.29 0.3  0.31 0.32 0.33 0.34 0.35 0.36 0.37 0.38 0.39 0.4  0.41\n",
      " 0.42 0.43 0.44 0.45 0.46 0.47 0.48 0.49 0.5  0.51 0.52 0.53 0.54 0.55\n",
      " 0.56 0.57 0.58 0.59 0.6  0.61 0.62 0.63 0.64 0.65 0.66 0.67 0.68 0.69\n",
      " 0.7  0.71 0.72 0.73 0.74 0.75 0.76 0.77 0.78 0.79 0.8  0.81 0.82 0.83\n",
      " 0.84 0.85 0.86 0.87 0.88 0.89 0.9  0.91 0.92 0.93 0.94 0.95 0.96 0.97\n",
      " 0.98 0.99 1.  ]\n"
     ]
    }
   ],
   "source": [
    "print(likelihood_heads)"
   ]
  },
  {
   "cell_type": "markdown",
   "metadata": {},
   "source": [
    "- 앞면과 뒷면의 가능도를 딕셔너리 형태로 생성"
   ]
  },
  {
   "cell_type": "code",
   "execution_count": 90,
   "metadata": {
    "execution": {
     "iopub.execute_input": "2021-04-16T19:35:16.430627Z",
     "iopub.status.busy": "2021-04-16T19:35:16.430082Z",
     "iopub.status.idle": "2021-04-16T19:35:16.431858Z",
     "shell.execute_reply": "2021-04-16T19:35:16.432281Z"
    }
   },
   "outputs": [],
   "source": [
    "likelihood = {\n",
    "    'H': likelihood_heads,\n",
    "    'T': likelihood_tails\n",
    "}"
   ]
  },
  {
   "cell_type": "markdown",
   "metadata": {},
   "source": [
    "- 앞면을 140번 반복하고, 뒷면을 110번 반복해서 문자열을 만들어 데이터를 표현"
   ]
  },
  {
   "cell_type": "code",
   "execution_count": 91,
   "metadata": {
    "execution": {
     "iopub.execute_input": "2021-04-16T19:35:16.435992Z",
     "iopub.status.busy": "2021-04-16T19:35:16.435300Z",
     "iopub.status.idle": "2021-04-16T19:35:16.438317Z",
     "shell.execute_reply": "2021-04-16T19:35:16.437680Z"
    }
   },
   "outputs": [],
   "source": [
    "dataset = 'H' * 140 + 'T' * 110"
   ]
  },
  {
   "cell_type": "markdown",
   "metadata": {},
   "source": [
    "- 갱신함수\n",
    "    - 첫 번째 인자는 사전확률을 나타내는 `Pmf`, 두 번째 인자는 문자열 시퀀스\n",
    "    - 함수가 진행되면서, `pmf`에 문자열의 결괏값에 따른 가능도를 곱해감"
   ]
  },
  {
   "cell_type": "code",
   "execution_count": 92,
   "metadata": {
    "execution": {
     "iopub.execute_input": "2021-04-16T19:35:16.443376Z",
     "iopub.status.busy": "2021-04-16T19:35:16.442624Z",
     "iopub.status.idle": "2021-04-16T19:35:16.445334Z",
     "shell.execute_reply": "2021-04-16T19:35:16.444773Z"
    }
   },
   "outputs": [],
   "source": [
    "def update_euro(pmf, dataset):\n",
    "    \"\"\"주어진 H와 T의 문자열로 pmf를 갱신\"\"\"\n",
    "    \n",
    "    for data in dataset:\n",
    "        pmf *= likelihood[data]\n",
    "        pmf.normalize()"
   ]
  },
  {
   "cell_type": "code",
   "execution_count": 93,
   "metadata": {
    "execution": {
     "iopub.execute_input": "2021-04-16T19:35:16.500780Z",
     "iopub.status.busy": "2021-04-16T19:35:16.500275Z",
     "iopub.status.idle": "2021-04-16T19:35:16.502274Z",
     "shell.execute_reply": "2021-04-16T19:35:16.502659Z"
    }
   },
   "outputs": [],
   "source": [
    "posterior = prior.copy()\n",
    "update_euro(posterior, dataset)"
   ]
  },
  {
   "cell_type": "markdown",
   "metadata": {},
   "source": [
    "- 동전 앞면의 비율 $x$에 대한 사후확률분포"
   ]
  },
  {
   "cell_type": "code",
   "execution_count": 94,
   "metadata": {
    "execution": {
     "iopub.execute_input": "2021-04-16T19:35:16.506448Z",
     "iopub.status.busy": "2021-04-16T19:35:16.505705Z",
     "iopub.status.idle": "2021-04-16T19:35:16.508283Z",
     "shell.execute_reply": "2021-04-16T19:35:16.508696Z"
    },
    "tags": []
   },
   "outputs": [],
   "source": [
    "def decorate_euro(title):\n",
    "    decorate(xlabel='Proportion of heads (x)',\n",
    "             ylabel='Probability',\n",
    "             title=title)"
   ]
  },
  {
   "cell_type": "code",
   "execution_count": 95,
   "metadata": {
    "execution": {
     "iopub.execute_input": "2021-04-16T19:35:16.525948Z",
     "iopub.status.busy": "2021-04-16T19:35:16.525423Z",
     "iopub.status.idle": "2021-04-16T19:35:16.679678Z",
     "shell.execute_reply": "2021-04-16T19:35:16.679213Z"
    },
    "scrolled": false,
    "tags": []
   },
   "outputs": [
    {
     "data": {
      "image/png": "[encoded data removed]",
      "text/plain": [
       "<Figure size 640x480 with 1 Axes>"
      ]
     },
     "metadata": {},
     "output_type": "display_data"
    }
   ],
   "source": [
    "posterior.plot(label='140 heads out of 250', color='C4')\n",
    "decorate_euro(title='Posterior distribution of x')"
   ]
  },
  {
   "cell_type": "markdown",
   "metadata": {},
   "source": [
    "#### 사후확률분포는 데이터를 본 이후의 $x$에 대한 믿음을 나타냄\n",
    "- 0.4보다 작거나, 0.7보다 큰 경우는 거의 없고, 0.5에서 0.6사이가 가장 가능성이 있음을 알 수 있음\n",
    "\n",
    "- 실제 가장 가능성 있는 $x$의 값은 0.56 $\\rightarrow$ 이는 데이터에서 앞면의 비율로 나왔던 140/250"
   ]
  },
  {
   "cell_type": "code",
   "execution_count": 96,
   "metadata": {
    "execution": {
     "iopub.execute_input": "2021-04-16T19:35:16.683618Z",
     "iopub.status.busy": "2021-04-16T19:35:16.682978Z",
     "iopub.status.idle": "2021-04-16T19:35:16.685837Z",
     "shell.execute_reply": "2021-04-16T19:35:16.685432Z"
    },
    "scrolled": true
   },
   "outputs": [
    {
     "data": {
      "text/plain": [
       "0.56"
      ]
     },
     "execution_count": 96,
     "metadata": {},
     "output_type": "execute_result"
    }
   ],
   "source": [
    "posterior.max_prob()"
   ]
  },
  {
   "cell_type": "markdown",
   "metadata": {},
   "source": [
    "<br>\n",
    "\n",
    "## 04.04. 삼각사전분포\n",
    "- 이전에 균등사전분포를 아래와 같이 사용하였음"
   ]
  },
  {
   "cell_type": "code",
   "execution_count": 99,
   "metadata": {
    "execution": {
     "iopub.execute_input": "2021-04-16T19:35:16.690979Z",
     "iopub.status.busy": "2021-04-16T19:35:16.690312Z",
     "iopub.status.idle": "2021-04-16T19:35:16.693055Z",
     "shell.execute_reply": "2021-04-16T19:35:16.693642Z"
    },
    "tags": []
   },
   "outputs": [
    {
     "data": {
      "text/plain": [
       "101"
      ]
     },
     "execution_count": 99,
     "metadata": {},
     "output_type": "execute_result"
    }
   ],
   "source": [
    "uniform = Pmf(1, hypos, name='uniform')\n",
    "uniform.normalize()"
   ]
  },
  {
   "cell_type": "code",
   "execution_count": 100,
   "metadata": {},
   "outputs": [
    {
     "data": {
      "text/html": [
       "<div>\n",
       "<style scoped>\n",
       "    .dataframe tbody tr th:only-of-type {\n",
       "        vertical-align: middle;\n",
       "    }\n",
       "\n",
       "    .dataframe tbody tr th {\n",
       "        vertical-align: top;\n",
       "    }\n",
       "\n",
       "    .dataframe thead th {\n",
       "        text-align: right;\n",
       "    }\n",
       "</style>\n",
       "<table border=\"1\" class=\"dataframe\">\n",
       "  <thead>\n",
       "    <tr style=\"text-align: right;\">\n",
       "      <th></th>\n",
       "      <th>probs</th>\n",
       "    </tr>\n",
       "  </thead>\n",
       "  <tbody>\n",
       "    <tr>\n",
       "      <th>0.00</th>\n",
       "      <td>0.009901</td>\n",
       "    </tr>\n",
       "    <tr>\n",
       "      <th>0.01</th>\n",
       "      <td>0.009901</td>\n",
       "    </tr>\n",
       "    <tr>\n",
       "      <th>0.02</th>\n",
       "      <td>0.009901</td>\n",
       "    </tr>\n",
       "  </tbody>\n",
       "</table>\n",
       "</div>"
      ],
      "text/plain": [
       "0.00    0.009901\n",
       "0.01    0.009901\n",
       "0.02    0.009901\n",
       "Name: , dtype: float64"
      ]
     },
     "execution_count": 100,
     "metadata": {},
     "output_type": "execute_result"
    }
   ],
   "source": [
    "uniform.head()"
   ]
  },
  {
   "cell_type": "markdown",
   "metadata": {},
   "source": [
    "- 하지만 동전에 대해서 알고 있는 사전적 지식을 생각해보면, 이는 합리적이지 않음\n",
    "- 만약 동전의 무게가 한 쪽으로 쏠려 있다면, $x$는 0.5에서 다소 벗어났을 수 있다\n",
    "    - 그렇다고 해도 $x$가  0.1이나 0.9가 나올 정도로 벨기에 유로동전이 비뚤어져 있을 것이라고는 생각하기 어려움\n",
    "    \n",
    "<br>\n",
    "\n",
    "- **$x$가 0.5에 가까울 수록 높고 극단적인 값으로 갈수록 낮은 확률을 갖는 사전분포를 선택하는게 합리적**\n",
    "\n",
    "    $\\rightarrow$ **삼각형 형태의 사전확률 고려 가능**"
   ]
  },
  {
   "cell_type": "code",
   "execution_count": 102,
   "metadata": {
    "execution": {
     "iopub.execute_input": "2021-04-16T19:35:16.701286Z",
     "iopub.status.busy": "2021-04-16T19:35:16.700496Z",
     "iopub.status.idle": "2021-04-16T19:35:16.704290Z",
     "shell.execute_reply": "2021-04-16T19:35:16.703717Z"
    }
   },
   "outputs": [
    {
     "data": {
      "text/plain": [
       "array([ 0,  1,  2,  3,  4,  5,  6,  7,  8,  9, 10, 11, 12, 13, 14, 15, 16,\n",
       "       17, 18, 19, 20, 21, 22, 23, 24, 25, 26, 27, 28, 29, 30, 31, 32, 33,\n",
       "       34, 35, 36, 37, 38, 39, 40, 41, 42, 43, 44, 45, 46, 47, 48, 49, 50,\n",
       "       49, 48, 47, 46, 45, 44, 43, 42, 41, 40, 39, 38, 37, 36, 35, 34, 33,\n",
       "       32, 31, 30, 29, 28, 27, 26, 25, 24, 23, 22, 21, 20, 19, 18, 17, 16,\n",
       "       15, 14, 13, 12, 11, 10,  9,  8,  7,  6,  5,  4,  3,  2,  1,  0])"
      ]
     },
     "execution_count": 102,
     "metadata": {},
     "output_type": "execute_result"
    }
   ],
   "source": [
    "ramp_up = np.arange(50)\n",
    "ramp_down = np.arange(50, -1, -1)\n",
    "\n",
    "a = np.append(ramp_up, ramp_down)\n",
    "a"
   ]
  },
  {
   "cell_type": "code",
   "execution_count": 106,
   "metadata": {},
   "outputs": [
    {
     "data": {
      "text/html": [
       "<div>\n",
       "<style scoped>\n",
       "    .dataframe tbody tr th:only-of-type {\n",
       "        vertical-align: middle;\n",
       "    }\n",
       "\n",
       "    .dataframe tbody tr th {\n",
       "        vertical-align: top;\n",
       "    }\n",
       "\n",
       "    .dataframe thead th {\n",
       "        text-align: right;\n",
       "    }\n",
       "</style>\n",
       "<table border=\"1\" class=\"dataframe\">\n",
       "  <thead>\n",
       "    <tr style=\"text-align: right;\">\n",
       "      <th></th>\n",
       "      <th>probs</th>\n",
       "    </tr>\n",
       "  </thead>\n",
       "  <tbody>\n",
       "    <tr>\n",
       "      <th>0.00</th>\n",
       "      <td>0.0000</td>\n",
       "    </tr>\n",
       "    <tr>\n",
       "      <th>0.01</th>\n",
       "      <td>0.0004</td>\n",
       "    </tr>\n",
       "    <tr>\n",
       "      <th>0.02</th>\n",
       "      <td>0.0008</td>\n",
       "    </tr>\n",
       "  </tbody>\n",
       "</table>\n",
       "</div>"
      ],
      "text/plain": [
       "0.00    0.0000\n",
       "0.01    0.0004\n",
       "0.02    0.0008\n",
       "Name: , dtype: float64"
      ]
     },
     "execution_count": 106,
     "metadata": {},
     "output_type": "execute_result"
    }
   ],
   "source": [
    "triangle = Pmf(a, hypos, name='triangle')\n",
    "triangle.normalize()\n",
    "triangle.head()"
   ]
  },
  {
   "cell_type": "markdown",
   "metadata": {},
   "source": [
    "- **삼각사전분포 vs 균등사전분포**"
   ]
  },
  {
   "cell_type": "code",
   "execution_count": 105,
   "metadata": {
    "execution": {
     "iopub.execute_input": "2021-04-16T19:35:16.724091Z",
     "iopub.status.busy": "2021-04-16T19:35:16.723265Z",
     "iopub.status.idle": "2021-04-16T19:35:16.855060Z",
     "shell.execute_reply": "2021-04-16T19:35:16.855591Z"
    },
    "tags": []
   },
   "outputs": [
    {
     "data": {
      "image/png": "[encoded data removed]",
      "text/plain": [
       "<Figure size 640x480 with 1 Axes>"
      ]
     },
     "metadata": {},
     "output_type": "display_data"
    }
   ],
   "source": [
    "uniform.plot()\n",
    "triangle.plot()\n",
    "decorate_euro(title='Uniform and triangle prior distributions')"
   ]
  },
  {
   "cell_type": "markdown",
   "metadata": {},
   "source": [
    "<br>\n",
    "\n",
    "- 삼각사전분포와 균등분포를 통한 사전분포 갱신"
   ]
  },
  {
   "cell_type": "code",
   "execution_count": 107,
   "metadata": {
    "execution": {
     "iopub.execute_input": "2021-04-16T19:35:16.957511Z",
     "iopub.status.busy": "2021-04-16T19:35:16.956997Z",
     "iopub.status.idle": "2021-04-16T19:35:16.959002Z",
     "shell.execute_reply": "2021-04-16T19:35:16.958623Z"
    }
   },
   "outputs": [],
   "source": [
    "update_euro(uniform, dataset)\n",
    "update_euro(triangle, dataset)"
   ]
  },
  {
   "cell_type": "markdown",
   "metadata": {},
   "source": [
    "- 사후확률\n",
    "    - 사후확률분포는 보기에 거의 차이가 나지 않고, 실제로 이 차이가 영향을 미치지 않음\n",
    "    \n",
    "**균등분포와 삼각분포 중 어느 사전확률이 더 나은지를 두고 논쟁을 하는 것은 의미가 없음**\n",
    "\n",
    "<br>\n",
    "\n",
    "**$\\rightarrow$ 사전분포의 늪 (swamping the prior)의 하나의 예**\n",
    "- **데이터가 충분하다면, 서로 다른 사전확률로 시작한다고 해도 동일한 사후확률로 수렴**"
   ]
  },
  {
   "cell_type": "code",
   "execution_count": 108,
   "metadata": {
    "execution": {
     "iopub.execute_input": "2021-04-16T19:35:16.976351Z",
     "iopub.status.busy": "2021-04-16T19:35:16.975555Z",
     "iopub.status.idle": "2021-04-16T19:35:17.093195Z",
     "shell.execute_reply": "2021-04-16T19:35:17.092653Z"
    },
    "tags": []
   },
   "outputs": [
    {
     "data": {
      "image/png": "[encoded data removed]",
      "text/plain": [
       "<Figure size 640x480 with 1 Axes>"
      ]
     },
     "metadata": {},
     "output_type": "display_data"
    }
   ],
   "source": [
    "uniform.plot()\n",
    "triangle.plot()\n",
    "decorate_euro(title='Posterior distributions')"
   ]
  },
  {
   "cell_type": "markdown",
   "metadata": {},
   "source": [
    "<br>\n",
    "\n",
    "## 04.05. 이항가능도함수\n",
    "\n",
    "이전에서, 한 번의 동전 시행이 한번의 갱신으로 이어졌음 (유료동전문제에서는 250번의 갱신)\n",
    "\n",
    "이에 대한 효율적인 대안으로, 전체 데이터셋의 가능도를 한 번에 계산\n",
    "\n",
    "x에 대한 각 가설 값에 대해, 250회 회전 후 140회 앞면이 나올 확률을 계산 \n",
    "\n",
    "**$\\rightarrow$ 이항분포 사용 (앞면이 나올 확률이 $p$일 때, $n$회 돌려서 앞면이 $k$번 나올 확률)**\n",
    "\n",
    "\n",
    "$$\\binom{n}{k} p^k (1-p)^{n-k}$$\n"
   ]
  },
  {
   "cell_type": "code",
   "execution_count": 109,
   "metadata": {},
   "outputs": [],
   "source": [
    "from scipy.stats import binom"
   ]
  },
  {
   "cell_type": "code",
   "execution_count": 119,
   "metadata": {
    "execution": {
     "iopub.execute_input": "2021-04-16T19:35:17.097450Z",
     "iopub.status.busy": "2021-04-16T19:35:17.096829Z",
     "iopub.status.idle": "2021-04-16T19:35:17.099337Z",
     "shell.execute_reply": "2021-04-16T19:35:17.099695Z"
    }
   },
   "outputs": [],
   "source": [
    "def update_binomial(pmf, data):\n",
    "    \"\"\"이항분포를 사용해서 pmf를 갱신\"\"\"\n",
    "    k, n = data\n",
    "    xs = pmf.qs\n",
    "    \n",
    "    # p가 각 xs값인 이항분포에서, 250회를 시행하여 앞면이 140번 나올 확률 (=각 xs값에 대한 가능도)\n",
    "    likelihood = binom.pmf(k, n, xs) \n",
    "    pmf *= likelihood\n",
    "    pmf.normalize()"
   ]
  },
  {
   "cell_type": "code",
   "execution_count": 118,
   "metadata": {
    "execution": {
     "iopub.execute_input": "2021-04-16T19:35:17.104492Z",
     "iopub.status.busy": "2021-04-16T19:35:17.103915Z",
     "iopub.status.idle": "2021-04-16T19:35:17.107290Z",
     "shell.execute_reply": "2021-04-16T19:35:17.106925Z"
    }
   },
   "outputs": [],
   "source": [
    "uniform2 = Pmf(1/101, hypos, name='uniform2')\n",
    "data = 140, 250\n",
    "update_binomial(uniform2, data)"
   ]
  },
  {
   "cell_type": "code",
   "execution_count": 117,
   "metadata": {
    "execution": {
     "iopub.execute_input": "2021-04-16T19:35:17.146117Z",
     "iopub.status.busy": "2021-04-16T19:35:17.122628Z",
     "iopub.status.idle": "2021-04-16T19:35:17.273769Z",
     "shell.execute_reply": "2021-04-16T19:35:17.274124Z"
    },
    "tags": []
   },
   "outputs": [
    {
     "data": {
      "image/png": "[encoded data removed]",
      "text/plain": [
       "<Figure size 640x480 with 1 Axes>"
      ]
     },
     "metadata": {},
     "output_type": "display_data"
    }
   ],
   "source": [
    "uniform.plot()\n",
    "uniform2.plot()\n",
    "decorate_euro(title='Posterior distributions computed two ways')"
   ]
  },
  {
   "cell_type": "markdown",
   "metadata": {},
   "source": [
    "`np.allclose()`를 사용해서 매우 작은 소숫점 이하 부분은 반올림한 후 앞에서 구한 결과와 같은지 확인"
   ]
  },
  {
   "cell_type": "code",
   "execution_count": 113,
   "metadata": {
    "execution": {
     "iopub.execute_input": "2021-04-16T19:35:17.277814Z",
     "iopub.status.busy": "2021-04-16T19:35:17.277172Z",
     "iopub.status.idle": "2021-04-16T19:35:17.279940Z",
     "shell.execute_reply": "2021-04-16T19:35:17.279504Z"
    }
   },
   "outputs": [
    {
     "data": {
      "text/plain": [
       "True"
      ]
     },
     "execution_count": 113,
     "metadata": {},
     "output_type": "execute_result"
    }
   ],
   "source": [
    "np.allclose(uniform, uniform2)"
   ]
  },
  {
   "cell_type": "markdown",
   "metadata": {},
   "source": [
    "<br>\n",
    "\n",
    "## 04.06. 베이지안 통계\n",
    "\n",
    "- 사전분포가 주관적임에 따라, 사후분포 역시 주관적\n",
    "- 베이지안 방식의 확률 해석에 있어서는, 물리량을 임의의 상태로 두고 이에 대한 확률계산은 의미 있고 유용"
   ]
  }
 ],
 "metadata": {
  "celltoolbar": "Tags",
  "kernelspec": {
   "display_name": "Python 3 (ipykernel)",
   "language": "python",
   "name": "python3"
  },
  "language_info": {
   "codemirror_mode": {
    "name": "ipython",
    "version": 3
   },
   "file_extension": ".py",
   "mimetype": "text/x-python",
   "name": "python",
   "nbconvert_exporter": "python",
   "pygments_lexer": "ipython3",
   "version": "3.9.13"
  }
 },
 "nbformat": 4,
 "nbformat_minor": 2
}
