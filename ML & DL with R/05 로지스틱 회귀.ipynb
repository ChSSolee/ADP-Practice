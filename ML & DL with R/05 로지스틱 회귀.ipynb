{
 "cells": [
  {
   "cell_type": "code",
   "execution_count": 46,
   "id": "80e294f0",
   "metadata": {},
   "outputs": [],
   "source": [
    "library(tidyverse)\n",
    "\n",
    "library(rsample)\n",
    "library(caret)\n",
    "library(vip)"
   ]
  },
  {
   "cell_type": "code",
   "execution_count": 47,
   "id": "4f6c7107",
   "metadata": {},
   "outputs": [],
   "source": [
    "attrition <- read.csv(\"C:/Users/apf_temp_admin/Documents/Hands on Machine Learning/WA_Fn-UseC_-HR-Employee-Attrition.csv\",\n",
    "                     stringsAsFactors = T)"
   ]
  },
  {
   "cell_type": "code",
   "execution_count": 48,
   "id": "f25ec671",
   "metadata": {},
   "outputs": [],
   "source": [
    "colnames(attrition)[1] <- \"Age\""
   ]
  },
  {
   "cell_type": "code",
   "execution_count": 49,
   "id": "5dd6cfa3",
   "metadata": {
    "scrolled": false
   },
   "outputs": [
    {
     "data": {
      "text/html": [
       "<table class=\"dataframe\">\n",
       "<caption>A data.frame: 6 × 35</caption>\n",
       "<thead>\n",
       "\t<tr><th></th><th scope=col>Age</th><th scope=col>Attrition</th><th scope=col>BusinessTravel</th><th scope=col>DailyRate</th><th scope=col>Department</th><th scope=col>DistanceFromHome</th><th scope=col>Education</th><th scope=col>EducationField</th><th scope=col>EmployeeCount</th><th scope=col>EmployeeNumber</th><th scope=col>...</th><th scope=col>RelationshipSatisfaction</th><th scope=col>StandardHours</th><th scope=col>StockOptionLevel</th><th scope=col>TotalWorkingYears</th><th scope=col>TrainingTimesLastYear</th><th scope=col>WorkLifeBalance</th><th scope=col>YearsAtCompany</th><th scope=col>YearsInCurrentRole</th><th scope=col>YearsSinceLastPromotion</th><th scope=col>YearsWithCurrManager</th></tr>\n",
       "\t<tr><th></th><th scope=col>&lt;int&gt;</th><th scope=col>&lt;fct&gt;</th><th scope=col>&lt;fct&gt;</th><th scope=col>&lt;int&gt;</th><th scope=col>&lt;fct&gt;</th><th scope=col>&lt;int&gt;</th><th scope=col>&lt;int&gt;</th><th scope=col>&lt;fct&gt;</th><th scope=col>&lt;int&gt;</th><th scope=col>&lt;int&gt;</th><th scope=col>...</th><th scope=col>&lt;int&gt;</th><th scope=col>&lt;int&gt;</th><th scope=col>&lt;int&gt;</th><th scope=col>&lt;int&gt;</th><th scope=col>&lt;int&gt;</th><th scope=col>&lt;int&gt;</th><th scope=col>&lt;int&gt;</th><th scope=col>&lt;int&gt;</th><th scope=col>&lt;int&gt;</th><th scope=col>&lt;int&gt;</th></tr>\n",
       "</thead>\n",
       "<tbody>\n",
       "\t<tr><th scope=row>1</th><td>41</td><td>Yes</td><td>Travel_Rarely    </td><td>1102</td><td>Sales                 </td><td>1</td><td>2</td><td>Life Sciences</td><td>1</td><td>1</td><td>...</td><td>1</td><td>80</td><td>0</td><td> 8</td><td>0</td><td>1</td><td> 6</td><td>4</td><td>0</td><td>5</td></tr>\n",
       "\t<tr><th scope=row>2</th><td>49</td><td>No </td><td>Travel_Frequently</td><td> 279</td><td>Research &amp; Development</td><td>8</td><td>1</td><td>Life Sciences</td><td>1</td><td>2</td><td>...</td><td>4</td><td>80</td><td>1</td><td>10</td><td>3</td><td>3</td><td>10</td><td>7</td><td>1</td><td>7</td></tr>\n",
       "\t<tr><th scope=row>3</th><td>37</td><td>Yes</td><td><span style=white-space:pre-wrap>Travel_Rarely    </span></td><td>1373</td><td>Research &amp; Development</td><td>2</td><td>2</td><td><span style=white-space:pre-wrap>Other        </span></td><td>1</td><td>4</td><td>...</td><td>2</td><td>80</td><td>0</td><td> 7</td><td>3</td><td>3</td><td> 0</td><td>0</td><td>0</td><td>0</td></tr>\n",
       "\t<tr><th scope=row>4</th><td>33</td><td>No </td><td>Travel_Frequently</td><td>1392</td><td>Research &amp; Development</td><td>3</td><td>4</td><td>Life Sciences</td><td>1</td><td>5</td><td>...</td><td>3</td><td>80</td><td>0</td><td> 8</td><td>3</td><td>3</td><td> 8</td><td>7</td><td>3</td><td>0</td></tr>\n",
       "\t<tr><th scope=row>5</th><td>27</td><td>No </td><td><span style=white-space:pre-wrap>Travel_Rarely    </span></td><td> 591</td><td>Research &amp; Development</td><td>2</td><td>1</td><td><span style=white-space:pre-wrap>Medical      </span></td><td>1</td><td>7</td><td>...</td><td>4</td><td>80</td><td>1</td><td> 6</td><td>3</td><td>3</td><td> 2</td><td>2</td><td>2</td><td>2</td></tr>\n",
       "\t<tr><th scope=row>6</th><td>32</td><td>No </td><td>Travel_Frequently</td><td>1005</td><td>Research &amp; Development</td><td>2</td><td>2</td><td>Life Sciences</td><td>1</td><td>8</td><td>...</td><td>3</td><td>80</td><td>0</td><td> 8</td><td>2</td><td>2</td><td> 7</td><td>7</td><td>3</td><td>6</td></tr>\n",
       "</tbody>\n",
       "</table>\n"
      ],
      "text/latex": [
       "A data.frame: 6 × 35\n",
       "\\begin{tabular}{r|lllllllllllllllllllll}\n",
       "  & Age & Attrition & BusinessTravel & DailyRate & Department & DistanceFromHome & Education & EducationField & EmployeeCount & EmployeeNumber & ... & RelationshipSatisfaction & StandardHours & StockOptionLevel & TotalWorkingYears & TrainingTimesLastYear & WorkLifeBalance & YearsAtCompany & YearsInCurrentRole & YearsSinceLastPromotion & YearsWithCurrManager\\\\\n",
       "  & <int> & <fct> & <fct> & <int> & <fct> & <int> & <int> & <fct> & <int> & <int> & ... & <int> & <int> & <int> & <int> & <int> & <int> & <int> & <int> & <int> & <int>\\\\\n",
       "\\hline\n",
       "\t1 & 41 & Yes & Travel\\_Rarely     & 1102 & Sales                  & 1 & 2 & Life Sciences & 1 & 1 & ... & 1 & 80 & 0 &  8 & 0 & 1 &  6 & 4 & 0 & 5\\\\\n",
       "\t2 & 49 & No  & Travel\\_Frequently &  279 & Research \\& Development & 8 & 1 & Life Sciences & 1 & 2 & ... & 4 & 80 & 1 & 10 & 3 & 3 & 10 & 7 & 1 & 7\\\\\n",
       "\t3 & 37 & Yes & Travel\\_Rarely     & 1373 & Research \\& Development & 2 & 2 & Other         & 1 & 4 & ... & 2 & 80 & 0 &  7 & 3 & 3 &  0 & 0 & 0 & 0\\\\\n",
       "\t4 & 33 & No  & Travel\\_Frequently & 1392 & Research \\& Development & 3 & 4 & Life Sciences & 1 & 5 & ... & 3 & 80 & 0 &  8 & 3 & 3 &  8 & 7 & 3 & 0\\\\\n",
       "\t5 & 27 & No  & Travel\\_Rarely     &  591 & Research \\& Development & 2 & 1 & Medical       & 1 & 7 & ... & 4 & 80 & 1 &  6 & 3 & 3 &  2 & 2 & 2 & 2\\\\\n",
       "\t6 & 32 & No  & Travel\\_Frequently & 1005 & Research \\& Development & 2 & 2 & Life Sciences & 1 & 8 & ... & 3 & 80 & 0 &  8 & 2 & 2 &  7 & 7 & 3 & 6\\\\\n",
       "\\end{tabular}\n"
      ],
      "text/markdown": [
       "\n",
       "A data.frame: 6 × 35\n",
       "\n",
       "| <!--/--> | Age &lt;int&gt; | Attrition &lt;fct&gt; | BusinessTravel &lt;fct&gt; | DailyRate &lt;int&gt; | Department &lt;fct&gt; | DistanceFromHome &lt;int&gt; | Education &lt;int&gt; | EducationField &lt;fct&gt; | EmployeeCount &lt;int&gt; | EmployeeNumber &lt;int&gt; | ... ... | RelationshipSatisfaction &lt;int&gt; | StandardHours &lt;int&gt; | StockOptionLevel &lt;int&gt; | TotalWorkingYears &lt;int&gt; | TrainingTimesLastYear &lt;int&gt; | WorkLifeBalance &lt;int&gt; | YearsAtCompany &lt;int&gt; | YearsInCurrentRole &lt;int&gt; | YearsSinceLastPromotion &lt;int&gt; | YearsWithCurrManager &lt;int&gt; |\n",
       "|---|---|---|---|---|---|---|---|---|---|---|---|---|---|---|---|---|---|---|---|---|---|\n",
       "| 1 | 41 | Yes | Travel_Rarely     | 1102 | Sales                  | 1 | 2 | Life Sciences | 1 | 1 | ... | 1 | 80 | 0 |  8 | 0 | 1 |  6 | 4 | 0 | 5 |\n",
       "| 2 | 49 | No  | Travel_Frequently |  279 | Research &amp; Development | 8 | 1 | Life Sciences | 1 | 2 | ... | 4 | 80 | 1 | 10 | 3 | 3 | 10 | 7 | 1 | 7 |\n",
       "| 3 | 37 | Yes | Travel_Rarely     | 1373 | Research &amp; Development | 2 | 2 | Other         | 1 | 4 | ... | 2 | 80 | 0 |  7 | 3 | 3 |  0 | 0 | 0 | 0 |\n",
       "| 4 | 33 | No  | Travel_Frequently | 1392 | Research &amp; Development | 3 | 4 | Life Sciences | 1 | 5 | ... | 3 | 80 | 0 |  8 | 3 | 3 |  8 | 7 | 3 | 0 |\n",
       "| 5 | 27 | No  | Travel_Rarely     |  591 | Research &amp; Development | 2 | 1 | Medical       | 1 | 7 | ... | 4 | 80 | 1 |  6 | 3 | 3 |  2 | 2 | 2 | 2 |\n",
       "| 6 | 32 | No  | Travel_Frequently | 1005 | Research &amp; Development | 2 | 2 | Life Sciences | 1 | 8 | ... | 3 | 80 | 0 |  8 | 2 | 2 |  7 | 7 | 3 | 6 |\n",
       "\n"
      ],
      "text/plain": [
       "  Age Attrition BusinessTravel    DailyRate Department            \n",
       "1 41  Yes       Travel_Rarely     1102      Sales                 \n",
       "2 49  No        Travel_Frequently  279      Research & Development\n",
       "3 37  Yes       Travel_Rarely     1373      Research & Development\n",
       "4 33  No        Travel_Frequently 1392      Research & Development\n",
       "5 27  No        Travel_Rarely      591      Research & Development\n",
       "6 32  No        Travel_Frequently 1005      Research & Development\n",
       "  DistanceFromHome Education EducationField EmployeeCount EmployeeNumber ...\n",
       "1 1                2         Life Sciences  1             1              ...\n",
       "2 8                1         Life Sciences  1             2              ...\n",
       "3 2                2         Other          1             4              ...\n",
       "4 3                4         Life Sciences  1             5              ...\n",
       "5 2                1         Medical        1             7              ...\n",
       "6 2                2         Life Sciences  1             8              ...\n",
       "  RelationshipSatisfaction StandardHours StockOptionLevel TotalWorkingYears\n",
       "1 1                        80            0                 8               \n",
       "2 4                        80            1                10               \n",
       "3 2                        80            0                 7               \n",
       "4 3                        80            0                 8               \n",
       "5 4                        80            1                 6               \n",
       "6 3                        80            0                 8               \n",
       "  TrainingTimesLastYear WorkLifeBalance YearsAtCompany YearsInCurrentRole\n",
       "1 0                     1                6             4                 \n",
       "2 3                     3               10             7                 \n",
       "3 3                     3                0             0                 \n",
       "4 3                     3                8             7                 \n",
       "5 3                     3                2             2                 \n",
       "6 2                     2                7             7                 \n",
       "  YearsSinceLastPromotion YearsWithCurrManager\n",
       "1 0                       5                   \n",
       "2 1                       7                   \n",
       "3 0                       0                   \n",
       "4 3                       0                   \n",
       "5 2                       2                   \n",
       "6 3                       6                   "
      ]
     },
     "metadata": {},
     "output_type": "display_data"
    }
   ],
   "source": [
    "head(attrition)"
   ]
  },
  {
   "cell_type": "code",
   "execution_count": 50,
   "id": "46b44662",
   "metadata": {
    "scrolled": true
   },
   "outputs": [
    {
     "data": {
      "text/plain": [
       "\n",
       "       No       Yes \n",
       "0.8387755 0.1612245 "
      ]
     },
     "metadata": {},
     "output_type": "display_data"
    }
   ],
   "source": [
    "table(attrition$Attrition) %>% prop.table()"
   ]
  },
  {
   "cell_type": "markdown",
   "id": "b0644dae",
   "metadata": {},
   "source": [
    "#### attrition 변수의 비율이 불균형 하기에 층화추출"
   ]
  },
  {
   "cell_type": "code",
   "execution_count": 51,
   "id": "f05ff5f5",
   "metadata": {},
   "outputs": [
    {
     "data": {
      "text/html": [
       "<style>\n",
       ".list-inline {list-style: none; margin:0; padding: 0}\n",
       ".list-inline>li {display: inline-block}\n",
       ".list-inline>li:not(:last-child)::after {content: \"\\00b7\"; padding: 0 .5ex}\n",
       "</style>\n",
       "<ol class=list-inline><li>1028</li><li>35</li></ol>\n"
      ],
      "text/latex": [
       "\\begin{enumerate*}\n",
       "\\item 1028\n",
       "\\item 35\n",
       "\\end{enumerate*}\n"
      ],
      "text/markdown": [
       "1. 1028\n",
       "2. 35\n",
       "\n",
       "\n"
      ],
      "text/plain": [
       "[1] 1028   35"
      ]
     },
     "metadata": {},
     "output_type": "display_data"
    },
    {
     "data": {
      "text/html": [
       "<style>\n",
       ".list-inline {list-style: none; margin:0; padding: 0}\n",
       ".list-inline>li {display: inline-block}\n",
       ".list-inline>li:not(:last-child)::after {content: \"\\00b7\"; padding: 0 .5ex}\n",
       "</style>\n",
       "<ol class=list-inline><li>442</li><li>35</li></ol>\n"
      ],
      "text/latex": [
       "\\begin{enumerate*}\n",
       "\\item 442\n",
       "\\item 35\n",
       "\\end{enumerate*}\n"
      ],
      "text/markdown": [
       "1. 442\n",
       "2. 35\n",
       "\n",
       "\n"
      ],
      "text/plain": [
       "[1] 442  35"
      ]
     },
     "metadata": {},
     "output_type": "display_data"
    }
   ],
   "source": [
    "set.seed(123)\n",
    "churn_split <- rsample::initial_split(attrition, prop = 0.7, strata = \"Attrition\")\n",
    "churn_train <- training(churn_split)\n",
    "churn_test <- testing(churn_split)\n",
    "dim(churn_train) ; dim(churn_test)"
   ]
  },
  {
   "cell_type": "markdown",
   "id": "967cf4f0",
   "metadata": {},
   "source": [
    "### 단순 로지스틱 회귀"
   ]
  },
  {
   "cell_type": "code",
   "execution_count": 52,
   "id": "ef4e679c",
   "metadata": {},
   "outputs": [],
   "source": [
    "model1 <- glm(Attrition ~ MonthlyIncome, family = \"binomial\", data = churn_train)\n",
    "model2 <- glm(Attrition ~ OverTime, family = \"binomial\", data = churn_train)"
   ]
  },
  {
   "cell_type": "code",
   "execution_count": 53,
   "id": "b4b455fb",
   "metadata": {},
   "outputs": [
    {
     "data": {
      "text/html": [
       "<table class=\"dataframe\">\n",
       "<caption>A tibble: 2 × 5</caption>\n",
       "<thead>\n",
       "\t<tr><th scope=col>term</th><th scope=col>estimate</th><th scope=col>std.error</th><th scope=col>statistic</th><th scope=col>p.value</th></tr>\n",
       "\t<tr><th scope=col>&lt;chr&gt;</th><th scope=col>&lt;dbl&gt;</th><th scope=col>&lt;dbl&gt;</th><th scope=col>&lt;dbl&gt;</th><th scope=col>&lt;dbl&gt;</th></tr>\n",
       "</thead>\n",
       "<tbody>\n",
       "\t<tr><td>(Intercept)  </td><td>-0.8860896268</td><td>1.572318e-01</td><td>-5.635561</td><td>1.74489e-08</td></tr>\n",
       "\t<tr><td>MonthlyIncome</td><td>-0.0001386248</td><td>2.719376e-05</td><td>-5.097669</td><td>3.43861e-07</td></tr>\n",
       "</tbody>\n",
       "</table>\n"
      ],
      "text/latex": [
       "A tibble: 2 × 5\n",
       "\\begin{tabular}{lllll}\n",
       " term & estimate & std.error & statistic & p.value\\\\\n",
       " <chr> & <dbl> & <dbl> & <dbl> & <dbl>\\\\\n",
       "\\hline\n",
       "\t (Intercept)   & -0.8860896268 & 1.572318e-01 & -5.635561 & 1.74489e-08\\\\\n",
       "\t MonthlyIncome & -0.0001386248 & 2.719376e-05 & -5.097669 & 3.43861e-07\\\\\n",
       "\\end{tabular}\n"
      ],
      "text/markdown": [
       "\n",
       "A tibble: 2 × 5\n",
       "\n",
       "| term &lt;chr&gt; | estimate &lt;dbl&gt; | std.error &lt;dbl&gt; | statistic &lt;dbl&gt; | p.value &lt;dbl&gt; |\n",
       "|---|---|---|---|---|\n",
       "| (Intercept)   | -0.8860896268 | 1.572318e-01 | -5.635561 | 1.74489e-08 |\n",
       "| MonthlyIncome | -0.0001386248 | 2.719376e-05 | -5.097669 | 3.43861e-07 |\n",
       "\n"
      ],
      "text/plain": [
       "  term          estimate      std.error    statistic p.value    \n",
       "1 (Intercept)   -0.8860896268 1.572318e-01 -5.635561 1.74489e-08\n",
       "2 MonthlyIncome -0.0001386248 2.719376e-05 -5.097669 3.43861e-07"
      ]
     },
     "metadata": {},
     "output_type": "display_data"
    }
   ],
   "source": [
    "tidy(model1)"
   ]
  },
  {
   "cell_type": "code",
   "execution_count": 54,
   "id": "f9797673",
   "metadata": {},
   "outputs": [
    {
     "data": {
      "text/html": [
       "<table class=\"dataframe\">\n",
       "<caption>A tibble: 2 × 5</caption>\n",
       "<thead>\n",
       "\t<tr><th scope=col>term</th><th scope=col>estimate</th><th scope=col>std.error</th><th scope=col>statistic</th><th scope=col>p.value</th></tr>\n",
       "\t<tr><th scope=col>&lt;chr&gt;</th><th scope=col>&lt;dbl&gt;</th><th scope=col>&lt;dbl&gt;</th><th scope=col>&lt;dbl&gt;</th><th scope=col>&lt;dbl&gt;</th></tr>\n",
       "</thead>\n",
       "<tbody>\n",
       "\t<tr><td>(Intercept)</td><td>-2.128834</td><td>0.1190087</td><td>-17.888057</td><td>1.461161e-71</td></tr>\n",
       "\t<tr><td>OverTimeYes</td><td> 1.289877</td><td>0.1755451</td><td>  7.347836</td><td>2.014409e-13</td></tr>\n",
       "</tbody>\n",
       "</table>\n"
      ],
      "text/latex": [
       "A tibble: 2 × 5\n",
       "\\begin{tabular}{lllll}\n",
       " term & estimate & std.error & statistic & p.value\\\\\n",
       " <chr> & <dbl> & <dbl> & <dbl> & <dbl>\\\\\n",
       "\\hline\n",
       "\t (Intercept) & -2.128834 & 0.1190087 & -17.888057 & 1.461161e-71\\\\\n",
       "\t OverTimeYes &  1.289877 & 0.1755451 &   7.347836 & 2.014409e-13\\\\\n",
       "\\end{tabular}\n"
      ],
      "text/markdown": [
       "\n",
       "A tibble: 2 × 5\n",
       "\n",
       "| term &lt;chr&gt; | estimate &lt;dbl&gt; | std.error &lt;dbl&gt; | statistic &lt;dbl&gt; | p.value &lt;dbl&gt; |\n",
       "|---|---|---|---|---|\n",
       "| (Intercept) | -2.128834 | 0.1190087 | -17.888057 | 1.461161e-71 |\n",
       "| OverTimeYes |  1.289877 | 0.1755451 |   7.347836 | 2.014409e-13 |\n",
       "\n"
      ],
      "text/plain": [
       "  term        estimate  std.error statistic  p.value     \n",
       "1 (Intercept) -2.128834 0.1190087 -17.888057 1.461161e-71\n",
       "2 OverTimeYes  1.289877 0.1755451   7.347836 2.014409e-13"
      ]
     },
     "metadata": {},
     "output_type": "display_data"
    }
   ],
   "source": [
    "tidy(model2)"
   ]
  },
  {
   "cell_type": "code",
   "execution_count": 55,
   "id": "22265fa3",
   "metadata": {},
   "outputs": [
    {
     "data": {
      "text/html": [
       "<style>\n",
       ".dl-inline {width: auto; margin:0; padding: 0}\n",
       ".dl-inline>dt, .dl-inline>dd {float: none; width: auto; display: inline-block}\n",
       ".dl-inline>dt::after {content: \":\\0020\"; padding-right: .5ex}\n",
       ".dl-inline>dt:not(:first-of-type) {padding-left: .5ex}\n",
       "</style><dl class=dl-inline><dt>(Intercept)</dt><dd>0.412264713777836</dd><dt>MonthlyIncome</dt><dd>0.999861384809012</dd></dl>\n"
      ],
      "text/latex": [
       "\\begin{description*}\n",
       "\\item[(Intercept)] 0.412264713777836\n",
       "\\item[MonthlyIncome] 0.999861384809012\n",
       "\\end{description*}\n"
      ],
      "text/markdown": [
       "(Intercept)\n",
       ":   0.412264713777836MonthlyIncome\n",
       ":   0.999861384809012\n",
       "\n"
      ],
      "text/plain": [
       "  (Intercept) MonthlyIncome \n",
       "    0.4122647     0.9998614 "
      ]
     },
     "metadata": {},
     "output_type": "display_data"
    },
    {
     "data": {
      "text/html": [
       "<style>\n",
       ".dl-inline {width: auto; margin:0; padding: 0}\n",
       ".dl-inline>dt, .dl-inline>dd {float: none; width: auto; display: inline-block}\n",
       ".dl-inline>dt::after {content: \":\\0020\"; padding-right: .5ex}\n",
       ".dl-inline>dt:not(:first-of-type) {padding-left: .5ex}\n",
       "</style><dl class=dl-inline><dt>(Intercept)</dt><dd>0.118975904140788</dd><dt>OverTimeYes</dt><dd>3.63233889367327</dd></dl>\n"
      ],
      "text/latex": [
       "\\begin{description*}\n",
       "\\item[(Intercept)] 0.118975904140788\n",
       "\\item[OverTimeYes] 3.63233889367327\n",
       "\\end{description*}\n"
      ],
      "text/markdown": [
       "(Intercept)\n",
       ":   0.118975904140788OverTimeYes\n",
       ":   3.63233889367327\n",
       "\n"
      ],
      "text/plain": [
       "(Intercept) OverTimeYes \n",
       "  0.1189759   3.6323389 "
      ]
     },
     "metadata": {},
     "output_type": "display_data"
    }
   ],
   "source": [
    "exp(coef(model1)) \n",
    "exp(coef(model2))"
   ]
  },
  {
   "cell_type": "markdown",
   "id": "6eaefc9b",
   "metadata": {},
   "source": [
    "- 감원하는 직원의 오즈는 1달러 증가할 때마다 0.999씩 증가하는 반면, 일 하지 않는 직원과 비교하여 일하는 직원 MonthlyIncome의 감원의 오즈는 3.6323배 증가"
   ]
  },
  {
   "cell_type": "markdown",
   "id": "cc731a84",
   "metadata": {},
   "source": [
    "#### 계수의 신뢰구간"
   ]
  },
  {
   "cell_type": "code",
   "execution_count": 56,
   "id": "871df9e8",
   "metadata": {},
   "outputs": [
    {
     "name": "stderr",
     "output_type": "stream",
     "text": [
      "Waiting for profiling to be done...\n",
      "\n"
     ]
    },
    {
     "data": {
      "text/html": [
       "<table class=\"dataframe\">\n",
       "<caption>A matrix: 2 × 2 of type dbl</caption>\n",
       "<thead>\n",
       "\t<tr><th></th><th scope=col>2.5 %</th><th scope=col>97.5 %</th></tr>\n",
       "</thead>\n",
       "<tbody>\n",
       "\t<tr><th scope=row>(Intercept)</th><td>-1.1932606571</td><td>-5.761048e-01</td></tr>\n",
       "\t<tr><th scope=row>MonthlyIncome</th><td>-0.0001948723</td><td>-8.803311e-05</td></tr>\n",
       "</tbody>\n",
       "</table>\n"
      ],
      "text/latex": [
       "A matrix: 2 × 2 of type dbl\n",
       "\\begin{tabular}{r|ll}\n",
       "  & 2.5 \\% & 97.5 \\%\\\\\n",
       "\\hline\n",
       "\t(Intercept) & -1.1932606571 & -5.761048e-01\\\\\n",
       "\tMonthlyIncome & -0.0001948723 & -8.803311e-05\\\\\n",
       "\\end{tabular}\n"
      ],
      "text/markdown": [
       "\n",
       "A matrix: 2 × 2 of type dbl\n",
       "\n",
       "| <!--/--> | 2.5 % | 97.5 % |\n",
       "|---|---|---|\n",
       "| (Intercept) | -1.1932606571 | -5.761048e-01 |\n",
       "| MonthlyIncome | -0.0001948723 | -8.803311e-05 |\n",
       "\n"
      ],
      "text/plain": [
       "              2.5 %         97.5 %       \n",
       "(Intercept)   -1.1932606571 -5.761048e-01\n",
       "MonthlyIncome -0.0001948723 -8.803311e-05"
      ]
     },
     "metadata": {},
     "output_type": "display_data"
    },
    {
     "name": "stderr",
     "output_type": "stream",
     "text": [
      "Waiting for profiling to be done...\n",
      "\n"
     ]
    },
    {
     "data": {
      "text/html": [
       "<table class=\"dataframe\">\n",
       "<caption>A matrix: 2 × 2 of type dbl</caption>\n",
       "<thead>\n",
       "\t<tr><th></th><th scope=col>2.5 %</th><th scope=col>97.5 %</th></tr>\n",
       "</thead>\n",
       "<tbody>\n",
       "\t<tr><th scope=row>(Intercept)</th><td>-2.3695727</td><td>-1.902409</td></tr>\n",
       "\t<tr><th scope=row>OverTimeYes</th><td> 0.9463761</td><td> 1.635373</td></tr>\n",
       "</tbody>\n",
       "</table>\n"
      ],
      "text/latex": [
       "A matrix: 2 × 2 of type dbl\n",
       "\\begin{tabular}{r|ll}\n",
       "  & 2.5 \\% & 97.5 \\%\\\\\n",
       "\\hline\n",
       "\t(Intercept) & -2.3695727 & -1.902409\\\\\n",
       "\tOverTimeYes &  0.9463761 &  1.635373\\\\\n",
       "\\end{tabular}\n"
      ],
      "text/markdown": [
       "\n",
       "A matrix: 2 × 2 of type dbl\n",
       "\n",
       "| <!--/--> | 2.5 % | 97.5 % |\n",
       "|---|---|---|\n",
       "| (Intercept) | -2.3695727 | -1.902409 |\n",
       "| OverTimeYes |  0.9463761 |  1.635373 |\n",
       "\n"
      ],
      "text/plain": [
       "            2.5 %      97.5 %   \n",
       "(Intercept) -2.3695727 -1.902409\n",
       "OverTimeYes  0.9463761  1.635373"
      ]
     },
     "metadata": {},
     "output_type": "display_data"
    }
   ],
   "source": [
    "confint(model1)\n",
    "confint(model2)"
   ]
  },
  {
   "cell_type": "markdown",
   "id": "9604006c",
   "metadata": {},
   "source": [
    "### 다중 로지스틱 회귀"
   ]
  },
  {
   "cell_type": "code",
   "execution_count": 57,
   "id": "53ee7c40",
   "metadata": {},
   "outputs": [],
   "source": [
    "model3 <- glm(\n",
    "  Attrition ~ MonthlyIncome + OverTime,\n",
    "  family = \"binomial\", \n",
    "  data = churn_train\n",
    ")"
   ]
  },
  {
   "cell_type": "code",
   "execution_count": 58,
   "id": "06937fe6",
   "metadata": {},
   "outputs": [
    {
     "data": {
      "text/html": [
       "<table class=\"dataframe\">\n",
       "<caption>A tibble: 3 × 5</caption>\n",
       "<thead>\n",
       "\t<tr><th scope=col>term</th><th scope=col>estimate</th><th scope=col>std.error</th><th scope=col>statistic</th><th scope=col>p.value</th></tr>\n",
       "\t<tr><th scope=col>&lt;chr&gt;</th><th scope=col>&lt;dbl&gt;</th><th scope=col>&lt;dbl&gt;</th><th scope=col>&lt;dbl&gt;</th><th scope=col>&lt;dbl&gt;</th></tr>\n",
       "</thead>\n",
       "<tbody>\n",
       "\t<tr><td>(Intercept)  </td><td>-1.3332716951</td><td>1.768545e-01</td><td>-7.538806</td><td>4.742933e-14</td></tr>\n",
       "\t<tr><td>MonthlyIncome</td><td>-0.0001474254</td><td>2.798602e-05</td><td>-5.267825</td><td>1.380495e-07</td></tr>\n",
       "\t<tr><td>OverTimeYes  </td><td> 1.3492849314</td><td>1.800073e-01</td><td> 7.495722</td><td>6.593417e-14</td></tr>\n",
       "</tbody>\n",
       "</table>\n"
      ],
      "text/latex": [
       "A tibble: 3 × 5\n",
       "\\begin{tabular}{lllll}\n",
       " term & estimate & std.error & statistic & p.value\\\\\n",
       " <chr> & <dbl> & <dbl> & <dbl> & <dbl>\\\\\n",
       "\\hline\n",
       "\t (Intercept)   & -1.3332716951 & 1.768545e-01 & -7.538806 & 4.742933e-14\\\\\n",
       "\t MonthlyIncome & -0.0001474254 & 2.798602e-05 & -5.267825 & 1.380495e-07\\\\\n",
       "\t OverTimeYes   &  1.3492849314 & 1.800073e-01 &  7.495722 & 6.593417e-14\\\\\n",
       "\\end{tabular}\n"
      ],
      "text/markdown": [
       "\n",
       "A tibble: 3 × 5\n",
       "\n",
       "| term &lt;chr&gt; | estimate &lt;dbl&gt; | std.error &lt;dbl&gt; | statistic &lt;dbl&gt; | p.value &lt;dbl&gt; |\n",
       "|---|---|---|---|---|\n",
       "| (Intercept)   | -1.3332716951 | 1.768545e-01 | -7.538806 | 4.742933e-14 |\n",
       "| MonthlyIncome | -0.0001474254 | 2.798602e-05 | -5.267825 | 1.380495e-07 |\n",
       "| OverTimeYes   |  1.3492849314 | 1.800073e-01 |  7.495722 | 6.593417e-14 |\n",
       "\n"
      ],
      "text/plain": [
       "  term          estimate      std.error    statistic p.value     \n",
       "1 (Intercept)   -1.3332716951 1.768545e-01 -7.538806 4.742933e-14\n",
       "2 MonthlyIncome -0.0001474254 2.798602e-05 -5.267825 1.380495e-07\n",
       "3 OverTimeYes    1.3492849314 1.800073e-01  7.495722 6.593417e-14"
      ]
     },
     "metadata": {},
     "output_type": "display_data"
    }
   ],
   "source": [
    "tidy(model3)"
   ]
  },
  {
   "cell_type": "markdown",
   "id": "d4859766",
   "metadata": {},
   "source": [
    "### 모델 정확도 평가"
   ]
  },
  {
   "cell_type": "markdown",
   "id": "4ed1d14b",
   "metadata": {},
   "source": [
    "### ```method = \"glm\"```\n",
    "### ```family - \"binomial```"
   ]
  },
  {
   "cell_type": "markdown",
   "id": "3d0b9255",
   "metadata": {},
   "source": [
    "#### 범주가 1개인 범주형 변수 제거"
   ]
  },
  {
   "cell_type": "code",
   "execution_count": 79,
   "id": "36b35187",
   "metadata": {},
   "outputs": [],
   "source": [
    "cats = vector()\n",
    "for (i in 1:length(attrition)) {\n",
    "    cats[i] = n_distinct(attrition[i])\n",
    "}"
   ]
  },
  {
   "cell_type": "code",
   "execution_count": 80,
   "id": "41f704c1",
   "metadata": {
    "scrolled": true
   },
   "outputs": [
    {
     "data": {
      "text/html": [
       "<style>\n",
       ".list-inline {list-style: none; margin:0; padding: 0}\n",
       ".list-inline>li {display: inline-block}\n",
       ".list-inline>li:not(:last-child)::after {content: \"\\00b7\"; padding: 0 .5ex}\n",
       "</style>\n",
       "<ol class=list-inline><li>9</li><li>22</li><li>27</li></ol>\n"
      ],
      "text/latex": [
       "\\begin{enumerate*}\n",
       "\\item 9\n",
       "\\item 22\n",
       "\\item 27\n",
       "\\end{enumerate*}\n"
      ],
      "text/markdown": [
       "1. 9\n",
       "2. 22\n",
       "3. 27\n",
       "\n",
       "\n"
      ],
      "text/plain": [
       "[1]  9 22 27"
      ]
     },
     "metadata": {},
     "output_type": "display_data"
    }
   ],
   "source": [
    "which(cats == 1)"
   ]
  },
  {
   "cell_type": "code",
   "execution_count": 89,
   "id": "2f9abee9",
   "metadata": {},
   "outputs": [],
   "source": [
    "set.seed(123)\n",
    "cv_model1 <- train(\n",
    "  Attrition ~ MonthlyIncome, \n",
    "  data = churn_train[, -c(9, 22, 27)], \n",
    "  method = \"glm\",\n",
    "  family = \"binomial\",\n",
    "  trControl = trainControl(method = \"cv\", number = 10)\n",
    ")"
   ]
  },
  {
   "cell_type": "code",
   "execution_count": 90,
   "id": "df831d2f",
   "metadata": {},
   "outputs": [],
   "source": [
    "set.seed(123)\n",
    "cv_model2 <- train(\n",
    "  Attrition ~ MonthlyIncome + OverTime, \n",
    "  data = churn_train[, -c(9, 22, 27)], \n",
    "  method = \"glm\",\n",
    "  family = \"binomial\",\n",
    "  trControl = trainControl(method = \"cv\", number = 10)\n",
    ")"
   ]
  },
  {
   "cell_type": "code",
   "execution_count": 91,
   "id": "2432a511",
   "metadata": {},
   "outputs": [],
   "source": [
    "set.seed(123)\n",
    "cv_model3 <- train(\n",
    "    Attrition ~ .,\n",
    "    data = churn_train[, -c(9, 22, 27)],\n",
    "    method = \"glm\",\n",
    "    family = \"binomial\",\n",
    "    trControl = trainControl(method = \"cv\", number = 10)\n",
    ")"
   ]
  },
  {
   "cell_type": "code",
   "execution_count": 97,
   "id": "55cc3078",
   "metadata": {},
   "outputs": [
    {
     "data": {
      "text/plain": [
       "\n",
       "Call:\n",
       "summary.resamples(object = resamples(list(model1 = cv_model1, model2\n",
       " = cv_model2, model3 = cv_model3)))\n",
       "\n",
       "Models: model1, model2, model3 \n",
       "Number of resamples: 10 \n",
       "\n",
       "Accuracy \n",
       "            Min.   1st Qu.    Median      Mean   3rd Qu.      Max. NA's\n",
       "model1 0.8349515 0.8349515 0.8398379 0.8395076 0.8431373 0.8446602    0\n",
       "model2 0.8349515 0.8349515 0.8398379 0.8395076 0.8431373 0.8446602    0\n",
       "model3 0.8349515 0.8564630 0.8743932 0.8735175 0.8832096 0.9126214    0\n",
       "\n",
       "Kappa \n",
       "            Min.   1st Qu.    Median      Mean   3rd Qu.      Max. NA's\n",
       "model1 0.0000000 0.0000000 0.0000000 0.0000000 0.0000000 0.0000000    0\n",
       "model2 0.0000000 0.0000000 0.0000000 0.0000000 0.0000000 0.0000000    0\n",
       "model3 0.2791272 0.4074426 0.4441872 0.4574284 0.5008789 0.6183615    0\n"
      ]
     },
     "metadata": {},
     "output_type": "display_data"
    }
   ],
   "source": [
    "summary(\n",
    "  resamples(\n",
    "    list(\n",
    "      model1 = cv_model1, \n",
    "      model2 = cv_model2, \n",
    "      model3 = cv_model3\n",
    "    )\n",
    "  )\n",
    ")"
   ]
  },
  {
   "cell_type": "markdown",
   "id": "8baa6c8a",
   "metadata": {},
   "source": [
    "### 혼동행렬"
   ]
  },
  {
   "cell_type": "code",
   "execution_count": 116,
   "id": "8908890d",
   "metadata": {},
   "outputs": [],
   "source": [
    "pred_class <- predict(cv_model3, data = churn_train[, -c(9, 22, 27)])"
   ]
  },
  {
   "cell_type": "code",
   "execution_count": 117,
   "id": "df2bad0e",
   "metadata": {},
   "outputs": [],
   "source": [
    "pred_class <- as.factor(ifelse(pred_class == \"No\", 0, 1))\n",
    "actual_class <- as.factor(ifelse(churn_train$Attrition == \"No\", 0, 1))"
   ]
  },
  {
   "cell_type": "code",
   "execution_count": 118,
   "id": "29e84fcb",
   "metadata": {},
   "outputs": [
    {
     "data": {
      "text/plain": [
       "Confusion Matrix and Statistics\n",
       "\n",
       "          Reference\n",
       "Prediction   0   1\n",
       "         0 842  89\n",
       "         1  21  76\n",
       "                                          \n",
       "               Accuracy : 0.893           \n",
       "                 95% CI : (0.8725, 0.9112)\n",
       "    No Information Rate : 0.8395          \n",
       "    P-Value [Acc > NIR] : 5.738e-07       \n",
       "                                          \n",
       "                  Kappa : 0.5235          \n",
       "                                          \n",
       " Mcnemar's Test P-Value : 1.679e-10       \n",
       "                                          \n",
       "            Sensitivity : 0.9757          \n",
       "            Specificity : 0.4606          \n",
       "         Pos Pred Value : 0.9044          \n",
       "         Neg Pred Value : 0.7835          \n",
       "             Prevalence : 0.8395          \n",
       "         Detection Rate : 0.8191          \n",
       "   Detection Prevalence : 0.9056          \n",
       "      Balanced Accuracy : 0.7181          \n",
       "                                          \n",
       "       'Positive' Class : 0               \n",
       "                                          "
      ]
     },
     "metadata": {},
     "output_type": "display_data"
    }
   ],
   "source": [
    "confusionMatrix(data = pred_class, reference = actual_class)"
   ]
  },
  {
   "cell_type": "markdown",
   "id": "adcf0afa",
   "metadata": {},
   "source": [
    "### ROC-Curve"
   ]
  },
  {
   "cell_type": "code",
   "execution_count": 120,
   "id": "966db19a",
   "metadata": {},
   "outputs": [],
   "source": [
    "library(ROCR)"
   ]
  },
  {
   "cell_type": "code",
   "execution_count": 129,
   "id": "dc355d47",
   "metadata": {},
   "outputs": [],
   "source": [
    "m1_prob <- predict(cv_model1, churn_train, type = \"prob\")[2]\n",
    "m3_prob <- predict(cv_model3, churn_train, type = \"prob\")[2]"
   ]
  },
  {
   "cell_type": "code",
   "execution_count": 141,
   "id": "1715c152",
   "metadata": {},
   "outputs": [
    {
     "data": {
      "image/png": "[encoded data removed]",
      "text/plain": [
       "plot without title"
      ]
     },
     "metadata": {
      "image/png": {
       "height": 420,
       "width": 420
      }
     },
     "output_type": "display_data"
    }
   ],
   "source": [
    "roc1 <- prediction(m1_prob, churn_train$Attrition)\n",
    "perf1 <- performance(roc1, \"tpr\", \"fpr\")\n",
    "\n",
    "roc2 <- prediction(m3_prob, churn_train$Attrition)\n",
    "perf2 <- performance(roc2, \"tpr\", \"fpr\")\n",
    "\n",
    "plot(perf1, col = \"black\", lty = 2)\n",
    "plot(perf2, add = TRUE, col = \"blue\")\n",
    "legend(0.8, 0.2, legend = c(\"cv_model1\", \"cv_model3\"),\n",
    "       col = c(\"black\", \"blue\"), lty = 2:1, cex = 0.6)\n",
    "abline(a = 0, b = 1, lty = 2, col = \"red\")"
   ]
  },
  {
   "cell_type": "markdown",
   "id": "af8e831c",
   "metadata": {},
   "source": [
    "### AUC"
   ]
  },
  {
   "cell_type": "code",
   "execution_count": 144,
   "id": "8f2af574",
   "metadata": {},
   "outputs": [],
   "source": [
    "auc1 <- performance(roc1, \"auc\")\n",
    "auc2 <- performance(roc2, \"auc\")"
   ]
  },
  {
   "cell_type": "markdown",
   "id": "e761a092",
   "metadata": {},
   "source": [
    "### PLS 로지스틱 회귀"
   ]
  },
  {
   "cell_type": "code",
   "execution_count": 146,
   "id": "dc139fd8",
   "metadata": {},
   "outputs": [],
   "source": [
    "set.seed(123)\n",
    "cv_model_pls <- train(\n",
    "  Attrition ~ ., \n",
    "  data = churn_train[, -c(9, 22, 27)], \n",
    "  method = \"pls\",\n",
    "  family = \"binomial\",\n",
    "  trControl = trainControl(method = \"cv\", number = 10),\n",
    "  preProcess = c(\"zv\", \"center\", \"scale\"),\n",
    "  tuneLength = 16\n",
    ")"
   ]
  },
  {
   "cell_type": "code",
   "execution_count": 147,
   "id": "a7a33927",
   "metadata": {},
   "outputs": [
    {
     "data": {
      "text/html": [
       "<table class=\"dataframe\">\n",
       "<caption>A data.frame: 1 × 1</caption>\n",
       "<thead>\n",
       "\t<tr><th></th><th scope=col>ncomp</th></tr>\n",
       "\t<tr><th></th><th scope=col>&lt;dbl&gt;</th></tr>\n",
       "</thead>\n",
       "<tbody>\n",
       "\t<tr><th scope=row>11</th><td>11</td></tr>\n",
       "</tbody>\n",
       "</table>\n"
      ],
      "text/latex": [
       "A data.frame: 1 × 1\n",
       "\\begin{tabular}{r|l}\n",
       "  & ncomp\\\\\n",
       "  & <dbl>\\\\\n",
       "\\hline\n",
       "\t11 & 11\\\\\n",
       "\\end{tabular}\n"
      ],
      "text/markdown": [
       "\n",
       "A data.frame: 1 × 1\n",
       "\n",
       "| <!--/--> | ncomp &lt;dbl&gt; |\n",
       "|---|---|\n",
       "| 11 | 11 |\n",
       "\n"
      ],
      "text/plain": [
       "   ncomp\n",
       "11 11   "
      ]
     },
     "metadata": {},
     "output_type": "display_data"
    }
   ],
   "source": [
    "cv_model_pls$bestTune"
   ]
  },
  {
   "cell_type": "code",
   "execution_count": 148,
   "id": "62e5b813",
   "metadata": {},
   "outputs": [
    {
     "data": {
      "text/html": [
       "<table class=\"dataframe\">\n",
       "<caption>A data.frame: 1 × 5</caption>\n",
       "<thead>\n",
       "\t<tr><th scope=col>ncomp</th><th scope=col>Accuracy</th><th scope=col>Kappa</th><th scope=col>AccuracySD</th><th scope=col>KappaSD</th></tr>\n",
       "\t<tr><th scope=col>&lt;dbl&gt;</th><th scope=col>&lt;dbl&gt;</th><th scope=col>&lt;dbl&gt;</th><th scope=col>&lt;dbl&gt;</th><th scope=col>&lt;dbl&gt;</th></tr>\n",
       "</thead>\n",
       "<tbody>\n",
       "\t<tr><td>11</td><td>0.8725655</td><td>0.3315591</td><td>0.01856731</td><td>0.1243606</td></tr>\n",
       "</tbody>\n",
       "</table>\n"
      ],
      "text/latex": [
       "A data.frame: 1 × 5\n",
       "\\begin{tabular}{lllll}\n",
       " ncomp & Accuracy & Kappa & AccuracySD & KappaSD\\\\\n",
       " <dbl> & <dbl> & <dbl> & <dbl> & <dbl>\\\\\n",
       "\\hline\n",
       "\t 11 & 0.8725655 & 0.3315591 & 0.01856731 & 0.1243606\\\\\n",
       "\\end{tabular}\n"
      ],
      "text/markdown": [
       "\n",
       "A data.frame: 1 × 5\n",
       "\n",
       "| ncomp &lt;dbl&gt; | Accuracy &lt;dbl&gt; | Kappa &lt;dbl&gt; | AccuracySD &lt;dbl&gt; | KappaSD &lt;dbl&gt; |\n",
       "|---|---|---|---|---|\n",
       "| 11 | 0.8725655 | 0.3315591 | 0.01856731 | 0.1243606 |\n",
       "\n"
      ],
      "text/plain": [
       "  ncomp Accuracy  Kappa     AccuracySD KappaSD  \n",
       "1 11    0.8725655 0.3315591 0.01856731 0.1243606"
      ]
     },
     "metadata": {},
     "output_type": "display_data"
    }
   ],
   "source": [
    "cv_model_pls$results %>% filter(ncomp == unlist(cv_model_pls$bestTune)[1])"
   ]
  },
  {
   "cell_type": "code",
   "execution_count": 149,
   "id": "1bee1530",
   "metadata": {},
   "outputs": [
    {
     "data": {
      "image/png": "[encoded data removed]",
      "text/plain": [
       "plot without title"
      ]
     },
     "metadata": {
      "image/png": {
       "height": 420,
       "width": 420
      }
     },
     "output_type": "display_data"
    }
   ],
   "source": [
    "ggplot(cv_model_pls)"
   ]
  },
  {
   "cell_type": "markdown",
   "id": "0884b0f9",
   "metadata": {},
   "source": [
    "### 변수 중요도"
   ]
  },
  {
   "cell_type": "code",
   "execution_count": 150,
   "id": "e162f7d2",
   "metadata": {
    "scrolled": true
   },
   "outputs": [
    {
     "data": {
      "image/png": "[encoded data removed]",
      "text/plain": [
       "plot without title"
      ]
     },
     "metadata": {
      "image/png": {
       "height": 420,
       "width": 420
      }
     },
     "output_type": "display_data"
    }
   ],
   "source": [
    "vip::vip(cv_model3, num_features = 20)"
   ]
  },
  {
   "cell_type": "markdown",
   "id": "53653bd0",
   "metadata": {},
   "source": [
    "### PDP"
   ]
  },
  {
   "cell_type": "code",
   "execution_count": 156,
   "id": "f6e51f43",
   "metadata": {},
   "outputs": [
    {
     "data": {
      "image/png": "[encoded data removed]",
      "text/plain": [
       "plot without title"
      ]
     },
     "metadata": {
      "image/png": {
       "height": 420,
       "width": 420
      }
     },
     "output_type": "display_data"
    }
   ],
   "source": [
    "pdp::partial(cv_model_pls, \"OverTime\", plot = TRUE)"
   ]
  }
 ],
 "metadata": {
  "kernelspec": {
   "display_name": "R 4.1.3",
   "language": "R",
   "name": "ir32"
  },
  "language_info": {
   "codemirror_mode": "r",
   "file_extension": ".r",
   "mimetype": "text/x-r-source",
   "name": "R",
   "pygments_lexer": "r",
   "version": "4.1.3"
  }
 },
 "nbformat": 4,
 "nbformat_minor": 5
}
