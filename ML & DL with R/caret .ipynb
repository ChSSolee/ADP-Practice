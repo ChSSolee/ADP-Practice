{
 "cells": [
  {
   "cell_type": "markdown",
   "id": "a8e9832f",
   "metadata": {},
   "source": [
    "모형 | method 옵션 | 패키지명 | 초매개변수 |\n",
    "-- | -- | -- | -- |\n",
    "Recursive partitioning | rpart | rpart* | maxdepth |\n",
    "| ctree | party | mimcriterion |\n",
    "Boosted trees | gbm | gbm* | interaction.depth, n.trees, shrinkage\n",
    "| blackboost | mboost | maxdepth,mstop |\n",
    "| ada | ada | maxdepth, iter, nu |\n",
    "Other boosted models | glmboost | mboost | mstop |\n",
    "| gamboost | mboost | mstop |\n",
    "| logitboost | caTools | nIter |\n",
    " Random forests | rf | randomForest* | mtry |\n",
    "| cforest | party | mtry |\n",
    "Bagged trees | treebag | ipred | None | \n",
    "Neural Networks | nnet | nnet | decay, size |\n",
    "Partial least squares | pls* | pls, caret | ncomp\n",
    "Support vector machines (RBF kernel) | svmRadial | kernlab | sigma, C |\n",
    "Support vector machines (polynomial kernel) | svmPoly | kernlab | scale, degree, C |\n",
    "Gaussian process (RBF kernel) | gaussprRadial | kernlab | sigma |\n",
    "Gaussian process (polynomial kernel) | gaussprPoly | kernlab | scale, degree |\n",
    "Linear least squares | lm* | stats | None |\n",
    "Multivariate adaptive regression splines (MARS) | earth, mars | earth | degree, nprune |\n",
    "Bagged MARS | bagEarth* | caret, earth | degree, nprune |\n",
    "Elastic net | enet | elasticnet | lambda, fraction |\n",
    "The lasso | lasso | elasticnet | fraction |\n",
    "Relevance vector machines (RBF kernel) | rvmRadial | kernlab | sigma |\n",
    "Relevance vector machines (polynomial kernel) rvmPoly | kernlab | scale, degree |\n",
    "Linear discriminant analysis | lda | MASS | None |\n",
    "Stepwise diagonal discriminant analysis | sddaLDA, sddaQDA | SDDA | None |\n",
    "Logistic/multinomial regression | multinom | nnet | decay |\n",
    "Regularized discriminant analysis | rda | klaR | lambda, gamma |\n",
    "Flexible discriminant analysis (MARS basis) | fda* | mda, earth | degree, nprune |\n",
    "Bagged FDA | bagFDA* | caret, earth | degree, nprune |\n",
    "Least squares support vector machines (RBF kernel) | lssvmRadial | kernlab | sigma |\n",
    "k nearest neighbors | knn3 | caret | k |\n",
    "Nearent shrunken centroids | pam* | pamr | threshold |\n",
    "Naive Bayes | nb | klaR | usekernel | \n",
    "Generalized partial least squares | gpls | gpls | K.prov |\n",
    "Learned vector quantization | lvq  | class | k |"
   ]
  }
 ],
 "metadata": {
  "kernelspec": {
   "display_name": "R 4.1.3",
   "language": "R",
   "name": "ir32"
  },
  "language_info": {
   "codemirror_mode": "r",
   "file_extension": ".r",
   "mimetype": "text/x-r-source",
   "name": "R",
   "pygments_lexer": "r",
   "version": "4.1.3"
  }
 },
 "nbformat": 4,
 "nbformat_minor": 5
}
