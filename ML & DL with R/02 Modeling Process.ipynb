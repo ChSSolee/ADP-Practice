{
 "cells": [
  {
   "cell_type": "code",
   "execution_count": 57,
   "id": "fa7d549c",
   "metadata": {},
   "outputs": [],
   "source": [
    "library(tidyverse)\n",
    "\n",
    "library(rsample)\n",
    "library(caret)\n",
    "library(h2o)"
   ]
  },
  {
   "cell_type": "markdown",
   "id": "d4426b06",
   "metadata": {},
   "source": [
    "### h2o set-up"
   ]
  },
  {
   "cell_type": "code",
   "execution_count": 58,
   "id": "8a668c2b",
   "metadata": {},
   "outputs": [
    {
     "name": "stdout",
     "output_type": "stream",
     "text": [
      " Connection successful!\n",
      "\n",
      "R is connected to the H2O cluster: \n",
      "    H2O cluster uptime:         1 hours 2 minutes \n",
      "    H2O cluster timezone:       Asia/Seoul \n",
      "    H2O data parsing timezone:  UTC \n",
      "    H2O cluster version:        3.36.0.4 \n",
      "    H2O cluster version age:    6 days  \n",
      "    H2O cluster name:           H2O_started_from_R_apf_temp_admin_eyz493 \n",
      "    H2O cluster total nodes:    1 \n",
      "    H2O cluster total memory:   0.74 GB \n",
      "    H2O cluster total cores:    4 \n",
      "    H2O cluster allowed cores:  4 \n",
      "    H2O cluster healthy:        TRUE \n",
      "    H2O Connection ip:          localhost \n",
      "    H2O Connection port:        54321 \n",
      "    H2O Connection proxy:       NA \n",
      "    H2O Internal Security:      FALSE \n",
      "    R Version:                  R version 4.1.3 (2022-03-10) \n",
      "\n"
     ]
    }
   ],
   "source": [
    "h2o.no_progress() # h2o 진행률 표시줄 끄기\n",
    "h2o.init()         # launch h2o"
   ]
  },
  {
   "cell_type": "markdown",
   "id": "9ac2b30c",
   "metadata": {},
   "source": [
    "### R 데이터 프레임을 H2O 객체로 변환(즉, H2O 클라우드로 가져오기)\n",
    "\n",
    "```\n",
    "as.h2o(<my-data-frame>)\n",
    "```"
   ]
  },
  {
   "cell_type": "code",
   "execution_count": 59,
   "id": "dbfd972f",
   "metadata": {},
   "outputs": [],
   "source": [
    "ames <- AmesHousing::make_ames()\n",
    "ames.h2o <- as.h2o(ames)"
   ]
  },
  {
   "cell_type": "markdown",
   "id": "4d70df93",
   "metadata": {},
   "source": [
    "### 데이터 분할"
   ]
  },
  {
   "cell_type": "markdown",
   "id": "662ef040",
   "metadata": {},
   "source": [
    "### 랜덤 샘플"
   ]
  },
  {
   "cell_type": "markdown",
   "id": "7d833932",
   "metadata": {},
   "source": [
    "#### 1. 기본 R"
   ]
  },
  {
   "cell_type": "code",
   "execution_count": 60,
   "id": "46b0c105",
   "metadata": {},
   "outputs": [
    {
     "data": {
      "text/html": [
       "<style>\n",
       ".list-inline {list-style: none; margin:0; padding: 0}\n",
       ".list-inline>li {display: inline-block}\n",
       ".list-inline>li:not(:last-child)::after {content: \"\\00b7\"; padding: 0 .5ex}\n",
       "</style>\n",
       "<ol class=list-inline><li>2051</li><li>81</li></ol>\n"
      ],
      "text/latex": [
       "\\begin{enumerate*}\n",
       "\\item 2051\n",
       "\\item 81\n",
       "\\end{enumerate*}\n"
      ],
      "text/markdown": [
       "1. 2051\n",
       "2. 81\n",
       "\n",
       "\n"
      ],
      "text/plain": [
       "[1] 2051   81"
      ]
     },
     "metadata": {},
     "output_type": "display_data"
    },
    {
     "data": {
      "text/html": [
       "<style>\n",
       ".list-inline {list-style: none; margin:0; padding: 0}\n",
       ".list-inline>li {display: inline-block}\n",
       ".list-inline>li:not(:last-child)::after {content: \"\\00b7\"; padding: 0 .5ex}\n",
       "</style>\n",
       "<ol class=list-inline><li>879</li><li>81</li></ol>\n"
      ],
      "text/latex": [
       "\\begin{enumerate*}\n",
       "\\item 879\n",
       "\\item 81\n",
       "\\end{enumerate*}\n"
      ],
      "text/markdown": [
       "1. 879\n",
       "2. 81\n",
       "\n",
       "\n"
      ],
      "text/plain": [
       "[1] 879  81"
      ]
     },
     "metadata": {},
     "output_type": "display_data"
    }
   ],
   "source": [
    "set.seed(123) \n",
    "index_1 <- sample(1:nrow(ames), round(nrow(ames) * 0.7))\n",
    "train_1 <- ames[index_1, ]\n",
    "test_1  <- ames[-index_1, ]\n",
    "\n",
    "dim(train_1) ; dim(test_1)"
   ]
  },
  {
   "cell_type": "markdown",
   "id": "66034629",
   "metadata": {},
   "source": [
    "#### 2. caret 패키지"
   ]
  },
  {
   "cell_type": "code",
   "execution_count": 61,
   "id": "72e923fa",
   "metadata": {},
   "outputs": [
    {
     "data": {
      "text/html": [
       "<style>\n",
       ".list-inline {list-style: none; margin:0; padding: 0}\n",
       ".list-inline>li {display: inline-block}\n",
       ".list-inline>li:not(:last-child)::after {content: \"\\00b7\"; padding: 0 .5ex}\n",
       "</style>\n",
       "<ol class=list-inline><li>2053</li><li>81</li></ol>\n"
      ],
      "text/latex": [
       "\\begin{enumerate*}\n",
       "\\item 2053\n",
       "\\item 81\n",
       "\\end{enumerate*}\n"
      ],
      "text/markdown": [
       "1. 2053\n",
       "2. 81\n",
       "\n",
       "\n"
      ],
      "text/plain": [
       "[1] 2053   81"
      ]
     },
     "metadata": {},
     "output_type": "display_data"
    },
    {
     "data": {
      "text/html": [
       "<style>\n",
       ".list-inline {list-style: none; margin:0; padding: 0}\n",
       ".list-inline>li {display: inline-block}\n",
       ".list-inline>li:not(:last-child)::after {content: \"\\00b7\"; padding: 0 .5ex}\n",
       "</style>\n",
       "<ol class=list-inline><li>877</li><li>81</li></ol>\n"
      ],
      "text/latex": [
       "\\begin{enumerate*}\n",
       "\\item 877\n",
       "\\item 81\n",
       "\\end{enumerate*}\n"
      ],
      "text/markdown": [
       "1. 877\n",
       "2. 81\n",
       "\n",
       "\n"
      ],
      "text/plain": [
       "[1] 877  81"
      ]
     },
     "metadata": {},
     "output_type": "display_data"
    }
   ],
   "source": [
    "set.seed(123)  \n",
    "index_2 <- createDataPartition(ames$Sale_Price, p = 0.7, \n",
    "                               list = FALSE)\n",
    "train_2 <- ames[index_2, ]\n",
    "test_2  <- ames[-index_2, ]\n",
    "\n",
    "dim(train_2) ; dim(test_2)"
   ]
  },
  {
   "cell_type": "markdown",
   "id": "d7577aa4",
   "metadata": {},
   "source": [
    "#### 3. rsample 패키지"
   ]
  },
  {
   "cell_type": "code",
   "execution_count": 62,
   "id": "3cd0e48d",
   "metadata": {},
   "outputs": [
    {
     "data": {
      "text/html": [
       "<style>\n",
       ".list-inline {list-style: none; margin:0; padding: 0}\n",
       ".list-inline>li {display: inline-block}\n",
       ".list-inline>li:not(:last-child)::after {content: \"\\00b7\"; padding: 0 .5ex}\n",
       "</style>\n",
       "<ol class=list-inline><li>2051</li><li>81</li></ol>\n"
      ],
      "text/latex": [
       "\\begin{enumerate*}\n",
       "\\item 2051\n",
       "\\item 81\n",
       "\\end{enumerate*}\n"
      ],
      "text/markdown": [
       "1. 2051\n",
       "2. 81\n",
       "\n",
       "\n"
      ],
      "text/plain": [
       "[1] 2051   81"
      ]
     },
     "metadata": {},
     "output_type": "display_data"
    },
    {
     "data": {
      "text/html": [
       "<style>\n",
       ".list-inline {list-style: none; margin:0; padding: 0}\n",
       ".list-inline>li {display: inline-block}\n",
       ".list-inline>li:not(:last-child)::after {content: \"\\00b7\"; padding: 0 .5ex}\n",
       "</style>\n",
       "<ol class=list-inline><li>879</li><li>81</li></ol>\n"
      ],
      "text/latex": [
       "\\begin{enumerate*}\n",
       "\\item 879\n",
       "\\item 81\n",
       "\\end{enumerate*}\n"
      ],
      "text/markdown": [
       "1. 879\n",
       "2. 81\n",
       "\n",
       "\n"
      ],
      "text/plain": [
       "[1] 879  81"
      ]
     },
     "metadata": {},
     "output_type": "display_data"
    }
   ],
   "source": [
    "set.seed(123)\n",
    "split_1  <- initial_split(ames, prop = 0.7)\n",
    "train_3  <- training(split_1)\n",
    "test_3   <- testing(split_1)\n",
    "\n",
    "dim(train_3) ; dim(test_3)"
   ]
  },
  {
   "cell_type": "markdown",
   "id": "d03455f3",
   "metadata": {},
   "source": [
    "#### 4. h2o 패키지"
   ]
  },
  {
   "cell_type": "code",
   "execution_count": 63,
   "id": "e1fb93ae",
   "metadata": {},
   "outputs": [
    {
     "data": {
      "text/html": [
       "<style>\n",
       ".list-inline {list-style: none; margin:0; padding: 0}\n",
       ".list-inline>li {display: inline-block}\n",
       ".list-inline>li:not(:last-child)::after {content: \"\\00b7\"; padding: 0 .5ex}\n",
       "</style>\n",
       "<ol class=list-inline><li>2053</li><li>81</li></ol>\n"
      ],
      "text/latex": [
       "\\begin{enumerate*}\n",
       "\\item 2053\n",
       "\\item 81\n",
       "\\end{enumerate*}\n"
      ],
      "text/markdown": [
       "1. 2053\n",
       "2. 81\n",
       "\n",
       "\n"
      ],
      "text/plain": [
       "[1] 2053   81"
      ]
     },
     "metadata": {},
     "output_type": "display_data"
    },
    {
     "data": {
      "text/html": [
       "<style>\n",
       ".list-inline {list-style: none; margin:0; padding: 0}\n",
       ".list-inline>li {display: inline-block}\n",
       ".list-inline>li:not(:last-child)::after {content: \"\\00b7\"; padding: 0 .5ex}\n",
       "</style>\n",
       "<ol class=list-inline><li>877</li><li>81</li></ol>\n"
      ],
      "text/latex": [
       "\\begin{enumerate*}\n",
       "\\item 877\n",
       "\\item 81\n",
       "\\end{enumerate*}\n"
      ],
      "text/markdown": [
       "1. 877\n",
       "2. 81\n",
       "\n",
       "\n"
      ],
      "text/plain": [
       "[1] 877  81"
      ]
     },
     "metadata": {},
     "output_type": "display_data"
    }
   ],
   "source": [
    "split_2 <- h2o.splitFrame(ames.h2o, ratios = 0.7, \n",
    "                          seed = 123)\n",
    "train_4 <- split_2[[1]]\n",
    "test_4  <- split_2[[2]]\n",
    "\n",
    "dim(train_4) ; dim(test_4)"
   ]
  },
  {
   "cell_type": "markdown",
   "id": "aa2c245e",
   "metadata": {},
   "source": [
    "### 층화 추출"
   ]
  },
  {
   "cell_type": "markdown",
   "id": "69592e06",
   "metadata": {},
   "source": [
    "- Species의 분포를 유지하며 분할"
   ]
  },
  {
   "cell_type": "code",
   "execution_count": 64,
   "id": "acd093e7",
   "metadata": {},
   "outputs": [
    {
     "data": {
      "text/plain": [
       "\n",
       "    setosa versicolor  virginica \n",
       " 0.3333333  0.3333333  0.3333333 "
      ]
     },
     "metadata": {},
     "output_type": "display_data"
    }
   ],
   "source": [
    "table(iris$Species) %>% prop.table()"
   ]
  },
  {
   "cell_type": "code",
   "execution_count": 65,
   "id": "8f362662",
   "metadata": {},
   "outputs": [
    {
     "data": {
      "text/html": [
       "<style>\n",
       ".list-inline {list-style: none; margin:0; padding: 0}\n",
       ".list-inline>li {display: inline-block}\n",
       ".list-inline>li:not(:last-child)::after {content: \"\\00b7\"; padding: 0 .5ex}\n",
       "</style>\n",
       "<ol class=list-inline><li>105</li><li>5</li></ol>\n"
      ],
      "text/latex": [
       "\\begin{enumerate*}\n",
       "\\item 105\n",
       "\\item 5\n",
       "\\end{enumerate*}\n"
      ],
      "text/markdown": [
       "1. 105\n",
       "2. 5\n",
       "\n",
       "\n"
      ],
      "text/plain": [
       "[1] 105   5"
      ]
     },
     "metadata": {},
     "output_type": "display_data"
    },
    {
     "data": {
      "text/html": [
       "<style>\n",
       ".list-inline {list-style: none; margin:0; padding: 0}\n",
       ".list-inline>li {display: inline-block}\n",
       ".list-inline>li:not(:last-child)::after {content: \"\\00b7\"; padding: 0 .5ex}\n",
       "</style>\n",
       "<ol class=list-inline><li>45</li><li>5</li></ol>\n"
      ],
      "text/latex": [
       "\\begin{enumerate*}\n",
       "\\item 45\n",
       "\\item 5\n",
       "\\end{enumerate*}\n"
      ],
      "text/markdown": [
       "1. 45\n",
       "2. 5\n",
       "\n",
       "\n"
      ],
      "text/plain": [
       "[1] 45  5"
      ]
     },
     "metadata": {},
     "output_type": "display_data"
    }
   ],
   "source": [
    "set.seed(123)\n",
    "split_strat <- rsample::initial_split(iris, prop = 0.7,\n",
    "                                     strata = \"Species\")\n",
    "train_strat <- rsample::training(split_strat)\n",
    "test_strat <- rsample::testing(split_strat)\n",
    "\n",
    "dim(train_strat) ; dim(test_strat)"
   ]
  },
  {
   "cell_type": "code",
   "execution_count": 66,
   "id": "7495eca0",
   "metadata": {},
   "outputs": [
    {
     "data": {
      "text/plain": [
       "\n",
       "    setosa versicolor  virginica \n",
       " 0.3333333  0.3333333  0.3333333 "
      ]
     },
     "metadata": {},
     "output_type": "display_data"
    }
   ],
   "source": [
    "table(train_strat$Species) %>% prop.table()"
   ]
  },
  {
   "cell_type": "code",
   "execution_count": 67,
   "id": "36de8d8d",
   "metadata": {},
   "outputs": [
    {
     "data": {
      "text/plain": [
       "\n",
       "    setosa versicolor  virginica \n",
       " 0.3333333  0.3333333  0.3333333 "
      ]
     },
     "metadata": {},
     "output_type": "display_data"
    }
   ],
   "source": [
    "table(test_strat$Species) %>% prop.table()"
   ]
  },
  {
   "cell_type": "markdown",
   "id": "bd1543f8",
   "metadata": {},
   "source": [
    "### 모형 생성\n",
    "### 회귀 모형 생성"
   ]
  },
  {
   "cell_type": "code",
   "execution_count": null,
   "id": "eff09832",
   "metadata": {},
   "outputs": [],
   "source": [
    "lm_lm <- lm(Sale_Price ~., data = ames)"
   ]
  },
  {
   "cell_type": "code",
   "execution_count": 41,
   "id": "0d44ad47",
   "metadata": {},
   "outputs": [],
   "source": [
    "glm_lm <- glm(Sale_Price ~ ., data = ames,\n",
    "             family = gaussian)\n",
    "summary(glm_lm)"
   ]
  },
  {
   "cell_type": "code",
   "execution_count": null,
   "id": "5852db8b",
   "metadata": {},
   "outputs": [],
   "source": [
    "lm_caret <- caret::train(Sale_Price ~ ., data = ames,\n",
    "                        method = \"lm\")\n",
    "summary(lm_caret)"
   ]
  },
  {
   "cell_type": "markdown",
   "id": "1d50341d",
   "metadata": {},
   "source": [
    "| Algorithm\t| Package |\tCode\n",
    "| -- | -- | -- |\n",
    "| 선형 판별 분석\t| MASS\t|``` predict(obj)```\n",
    "일반화 선형 모형\t| stats\t|``` predict(obj, type = \"response\")```\n",
    "혼합 판별 분석 |\tmda\t| ```predict(obj, type = \"posterior\")```\n",
    "결정나무 |\trpart |```\tpredict(obj, type = \"prob\")```\n",
    "랜덤포레스트 |\tranger |```\tpredict(obj)$predictions```\n",
    "Gradient boosting machine |\tgbm\t|``` predict(obj, type = \"response\", n.trees)```"
   ]
  },
  {
   "cell_type": "markdown",
   "id": "7925d486",
   "metadata": {},
   "source": [
    "### 재표본 추출"
   ]
  },
  {
   "cell_type": "markdown",
   "id": "ce67a1c4",
   "metadata": {},
   "source": [
    "### k-fold cross validation"
   ]
  },
  {
   "cell_type": "markdown",
   "id": "f7ca045e",
   "metadata": {},
   "source": [
    "#### h2o 패키지"
   ]
  },
  {
   "cell_type": "code",
   "execution_count": 69,
   "id": "2cdf009b",
   "metadata": {
    "scrolled": true
   },
   "outputs": [
    {
     "data": {
      "text/html": [
       "<table class=\"dataframe\">\n",
       "<caption>A tibble: 6 × 81</caption>\n",
       "<thead>\n",
       "\t<tr><th scope=col>MS_SubClass</th><th scope=col>MS_Zoning</th><th scope=col>Lot_Frontage</th><th scope=col>Lot_Area</th><th scope=col>Street</th><th scope=col>Alley</th><th scope=col>Lot_Shape</th><th scope=col>Land_Contour</th><th scope=col>Utilities</th><th scope=col>Lot_Config</th><th scope=col>...</th><th scope=col>Fence</th><th scope=col>Misc_Feature</th><th scope=col>Misc_Val</th><th scope=col>Mo_Sold</th><th scope=col>Year_Sold</th><th scope=col>Sale_Type</th><th scope=col>Sale_Condition</th><th scope=col>Sale_Price</th><th scope=col>Longitude</th><th scope=col>Latitude</th></tr>\n",
       "\t<tr><th scope=col>&lt;fct&gt;</th><th scope=col>&lt;fct&gt;</th><th scope=col>&lt;dbl&gt;</th><th scope=col>&lt;int&gt;</th><th scope=col>&lt;fct&gt;</th><th scope=col>&lt;fct&gt;</th><th scope=col>&lt;fct&gt;</th><th scope=col>&lt;fct&gt;</th><th scope=col>&lt;fct&gt;</th><th scope=col>&lt;fct&gt;</th><th scope=col>...</th><th scope=col>&lt;fct&gt;</th><th scope=col>&lt;fct&gt;</th><th scope=col>&lt;int&gt;</th><th scope=col>&lt;int&gt;</th><th scope=col>&lt;int&gt;</th><th scope=col>&lt;fct&gt;</th><th scope=col>&lt;fct&gt;</th><th scope=col>&lt;int&gt;</th><th scope=col>&lt;dbl&gt;</th><th scope=col>&lt;dbl&gt;</th></tr>\n",
       "</thead>\n",
       "<tbody>\n",
       "\t<tr><td>One_Story_1946_and_Newer_All_Styles</td><td>Residential_Low_Density </td><td>141</td><td>31770</td><td>Pave</td><td>No_Alley_Access</td><td>Slightly_Irregular</td><td>Lvl</td><td>AllPub</td><td>Corner</td><td>...</td><td>No_Fence       </td><td>None</td><td>    0</td><td>5</td><td>2010</td><td>WD </td><td>Normal</td><td>215000</td><td>-93.61975</td><td>42.05403</td></tr>\n",
       "\t<tr><td>One_Story_1946_and_Newer_All_Styles</td><td>Residential_High_Density</td><td> 80</td><td>11622</td><td>Pave</td><td>No_Alley_Access</td><td>Regular           </td><td>Lvl</td><td>AllPub</td><td>Inside</td><td>...</td><td>Minimum_Privacy</td><td>None</td><td>    0</td><td>6</td><td>2010</td><td>WD </td><td>Normal</td><td>105000</td><td>-93.61976</td><td>42.05301</td></tr>\n",
       "\t<tr><td>One_Story_1946_and_Newer_All_Styles</td><td>Residential_Low_Density </td><td> 81</td><td>14267</td><td>Pave</td><td>No_Alley_Access</td><td>Slightly_Irregular</td><td>Lvl</td><td>AllPub</td><td>Corner</td><td>...</td><td>No_Fence       </td><td>Gar2</td><td>12500</td><td>6</td><td>2010</td><td>WD </td><td>Normal</td><td>172000</td><td>-93.61939</td><td>42.05266</td></tr>\n",
       "\t<tr><td>One_Story_1946_and_Newer_All_Styles</td><td>Residential_Low_Density </td><td> 93</td><td>11160</td><td>Pave</td><td>No_Alley_Access</td><td>Regular           </td><td>Lvl</td><td>AllPub</td><td>Corner</td><td>...</td><td>No_Fence       </td><td>None</td><td>    0</td><td>4</td><td>2010</td><td>WD </td><td>Normal</td><td>244000</td><td>-93.61732</td><td>42.05125</td></tr>\n",
       "\t<tr><td>Two_Story_1946_and_Newer           </td><td>Residential_Low_Density </td><td> 74</td><td>13830</td><td>Pave</td><td>No_Alley_Access</td><td>Slightly_Irregular</td><td>Lvl</td><td>AllPub</td><td>Inside</td><td>...</td><td>Minimum_Privacy</td><td>None</td><td>    0</td><td>3</td><td>2010</td><td>WD </td><td>Normal</td><td>189900</td><td>-93.63893</td><td>42.06090</td></tr>\n",
       "\t<tr><td>Two_Story_1946_and_Newer           </td><td>Residential_Low_Density </td><td> 78</td><td> 9978</td><td>Pave</td><td>No_Alley_Access</td><td>Slightly_Irregular</td><td>Lvl</td><td>AllPub</td><td>Inside</td><td>...</td><td>No_Fence       </td><td>None</td><td>    0</td><td>6</td><td>2010</td><td>WD </td><td>Normal</td><td>195500</td><td>-93.63893</td><td>42.06078</td></tr>\n",
       "</tbody>\n",
       "</table>\n"
      ],
      "text/latex": [
       "A tibble: 6 × 81\n",
       "\\begin{tabular}{lllllllllllllllllllll}\n",
       " MS\\_SubClass & MS\\_Zoning & Lot\\_Frontage & Lot\\_Area & Street & Alley & Lot\\_Shape & Land\\_Contour & Utilities & Lot\\_Config & ... & Fence & Misc\\_Feature & Misc\\_Val & Mo\\_Sold & Year\\_Sold & Sale\\_Type & Sale\\_Condition & Sale\\_Price & Longitude & Latitude\\\\\n",
       " <fct> & <fct> & <dbl> & <int> & <fct> & <fct> & <fct> & <fct> & <fct> & <fct> & ... & <fct> & <fct> & <int> & <int> & <int> & <fct> & <fct> & <int> & <dbl> & <dbl>\\\\\n",
       "\\hline\n",
       "\t One\\_Story\\_1946\\_and\\_Newer\\_All\\_Styles & Residential\\_Low\\_Density  & 141 & 31770 & Pave & No\\_Alley\\_Access & Slightly\\_Irregular & Lvl & AllPub & Corner & ... & No\\_Fence        & None &     0 & 5 & 2010 & WD  & Normal & 215000 & -93.61975 & 42.05403\\\\\n",
       "\t One\\_Story\\_1946\\_and\\_Newer\\_All\\_Styles & Residential\\_High\\_Density &  80 & 11622 & Pave & No\\_Alley\\_Access & Regular            & Lvl & AllPub & Inside & ... & Minimum\\_Privacy & None &     0 & 6 & 2010 & WD  & Normal & 105000 & -93.61976 & 42.05301\\\\\n",
       "\t One\\_Story\\_1946\\_and\\_Newer\\_All\\_Styles & Residential\\_Low\\_Density  &  81 & 14267 & Pave & No\\_Alley\\_Access & Slightly\\_Irregular & Lvl & AllPub & Corner & ... & No\\_Fence        & Gar2 & 12500 & 6 & 2010 & WD  & Normal & 172000 & -93.61939 & 42.05266\\\\\n",
       "\t One\\_Story\\_1946\\_and\\_Newer\\_All\\_Styles & Residential\\_Low\\_Density  &  93 & 11160 & Pave & No\\_Alley\\_Access & Regular            & Lvl & AllPub & Corner & ... & No\\_Fence        & None &     0 & 4 & 2010 & WD  & Normal & 244000 & -93.61732 & 42.05125\\\\\n",
       "\t Two\\_Story\\_1946\\_and\\_Newer            & Residential\\_Low\\_Density  &  74 & 13830 & Pave & No\\_Alley\\_Access & Slightly\\_Irregular & Lvl & AllPub & Inside & ... & Minimum\\_Privacy & None &     0 & 3 & 2010 & WD  & Normal & 189900 & -93.63893 & 42.06090\\\\\n",
       "\t Two\\_Story\\_1946\\_and\\_Newer            & Residential\\_Low\\_Density  &  78 &  9978 & Pave & No\\_Alley\\_Access & Slightly\\_Irregular & Lvl & AllPub & Inside & ... & No\\_Fence        & None &     0 & 6 & 2010 & WD  & Normal & 195500 & -93.63893 & 42.06078\\\\\n",
       "\\end{tabular}\n"
      ],
      "text/markdown": [
       "\n",
       "A tibble: 6 × 81\n",
       "\n",
       "| MS_SubClass &lt;fct&gt; | MS_Zoning &lt;fct&gt; | Lot_Frontage &lt;dbl&gt; | Lot_Area &lt;int&gt; | Street &lt;fct&gt; | Alley &lt;fct&gt; | Lot_Shape &lt;fct&gt; | Land_Contour &lt;fct&gt; | Utilities &lt;fct&gt; | Lot_Config &lt;fct&gt; | ... ... | Fence &lt;fct&gt; | Misc_Feature &lt;fct&gt; | Misc_Val &lt;int&gt; | Mo_Sold &lt;int&gt; | Year_Sold &lt;int&gt; | Sale_Type &lt;fct&gt; | Sale_Condition &lt;fct&gt; | Sale_Price &lt;int&gt; | Longitude &lt;dbl&gt; | Latitude &lt;dbl&gt; |\n",
       "|---|---|---|---|---|---|---|---|---|---|---|---|---|---|---|---|---|---|---|---|---|\n",
       "| One_Story_1946_and_Newer_All_Styles | Residential_Low_Density  | 141 | 31770 | Pave | No_Alley_Access | Slightly_Irregular | Lvl | AllPub | Corner | ... | No_Fence        | None |     0 | 5 | 2010 | WD  | Normal | 215000 | -93.61975 | 42.05403 |\n",
       "| One_Story_1946_and_Newer_All_Styles | Residential_High_Density |  80 | 11622 | Pave | No_Alley_Access | Regular            | Lvl | AllPub | Inside | ... | Minimum_Privacy | None |     0 | 6 | 2010 | WD  | Normal | 105000 | -93.61976 | 42.05301 |\n",
       "| One_Story_1946_and_Newer_All_Styles | Residential_Low_Density  |  81 | 14267 | Pave | No_Alley_Access | Slightly_Irregular | Lvl | AllPub | Corner | ... | No_Fence        | Gar2 | 12500 | 6 | 2010 | WD  | Normal | 172000 | -93.61939 | 42.05266 |\n",
       "| One_Story_1946_and_Newer_All_Styles | Residential_Low_Density  |  93 | 11160 | Pave | No_Alley_Access | Regular            | Lvl | AllPub | Corner | ... | No_Fence        | None |     0 | 4 | 2010 | WD  | Normal | 244000 | -93.61732 | 42.05125 |\n",
       "| Two_Story_1946_and_Newer            | Residential_Low_Density  |  74 | 13830 | Pave | No_Alley_Access | Slightly_Irregular | Lvl | AllPub | Inside | ... | Minimum_Privacy | None |     0 | 3 | 2010 | WD  | Normal | 189900 | -93.63893 | 42.06090 |\n",
       "| Two_Story_1946_and_Newer            | Residential_Low_Density  |  78 |  9978 | Pave | No_Alley_Access | Slightly_Irregular | Lvl | AllPub | Inside | ... | No_Fence        | None |     0 | 6 | 2010 | WD  | Normal | 195500 | -93.63893 | 42.06078 |\n",
       "\n"
      ],
      "text/plain": [
       "  MS_SubClass                         MS_Zoning                Lot_Frontage\n",
       "1 One_Story_1946_and_Newer_All_Styles Residential_Low_Density  141         \n",
       "2 One_Story_1946_and_Newer_All_Styles Residential_High_Density  80         \n",
       "3 One_Story_1946_and_Newer_All_Styles Residential_Low_Density   81         \n",
       "4 One_Story_1946_and_Newer_All_Styles Residential_Low_Density   93         \n",
       "5 Two_Story_1946_and_Newer            Residential_Low_Density   74         \n",
       "6 Two_Story_1946_and_Newer            Residential_Low_Density   78         \n",
       "  Lot_Area Street Alley           Lot_Shape          Land_Contour Utilities\n",
       "1 31770    Pave   No_Alley_Access Slightly_Irregular Lvl          AllPub   \n",
       "2 11622    Pave   No_Alley_Access Regular            Lvl          AllPub   \n",
       "3 14267    Pave   No_Alley_Access Slightly_Irregular Lvl          AllPub   \n",
       "4 11160    Pave   No_Alley_Access Regular            Lvl          AllPub   \n",
       "5 13830    Pave   No_Alley_Access Slightly_Irregular Lvl          AllPub   \n",
       "6  9978    Pave   No_Alley_Access Slightly_Irregular Lvl          AllPub   \n",
       "  Lot_Config ... Fence           Misc_Feature Misc_Val Mo_Sold Year_Sold\n",
       "1 Corner     ... No_Fence        None             0    5       2010     \n",
       "2 Inside     ... Minimum_Privacy None             0    6       2010     \n",
       "3 Corner     ... No_Fence        Gar2         12500    6       2010     \n",
       "4 Corner     ... No_Fence        None             0    4       2010     \n",
       "5 Inside     ... Minimum_Privacy None             0    3       2010     \n",
       "6 Inside     ... No_Fence        None             0    6       2010     \n",
       "  Sale_Type Sale_Condition Sale_Price Longitude Latitude\n",
       "1 WD        Normal         215000     -93.61975 42.05403\n",
       "2 WD        Normal         105000     -93.61976 42.05301\n",
       "3 WD        Normal         172000     -93.61939 42.05266\n",
       "4 WD        Normal         244000     -93.61732 42.05125\n",
       "5 WD        Normal         189900     -93.63893 42.06090\n",
       "6 WD        Normal         195500     -93.63893 42.06078"
      ]
     },
     "metadata": {},
     "output_type": "display_data"
    }
   ],
   "source": [
    "head(ames)"
   ]
  },
  {
   "cell_type": "code",
   "execution_count": null,
   "id": "287d866b",
   "metadata": {},
   "outputs": [],
   "source": [
    "h2o.cv <- h2o.glm(\n",
    "    x = x,\n",
    "    y = y,\n",
    "    training_frame = ames.h2o,\n",
    "    nfolds = 10\n",
    ")"
   ]
  },
  {
   "cell_type": "markdown",
   "id": "bddc3592",
   "metadata": {},
   "source": [
    "#### rsample::vfold_cv(df, v = fold수, repeats = 반복횟수)"
   ]
  },
  {
   "cell_type": "code",
   "execution_count": 76,
   "id": "16661a37",
   "metadata": {
    "scrolled": true
   },
   "outputs": [
    {
     "name": "stdout",
     "output_type": "stream",
     "text": [
      "#  10-fold cross-validation repeated 2 times \n",
      "\u001b[90m# A tibble: 20 x 3\u001b[39m\n",
      "   splits             id      id2   \n",
      "   \u001b[3m\u001b[90m<list>\u001b[39m\u001b[23m             \u001b[3m\u001b[90m<chr>\u001b[39m\u001b[23m   \u001b[3m\u001b[90m<chr>\u001b[39m\u001b[23m \n",
      "\u001b[90m 1\u001b[39m \u001b[90m<split [2637/293]>\u001b[39m Repeat1 Fold01\n",
      "\u001b[90m 2\u001b[39m \u001b[90m<split [2637/293]>\u001b[39m Repeat1 Fold02\n",
      "\u001b[90m 3\u001b[39m \u001b[90m<split [2637/293]>\u001b[39m Repeat1 Fold03\n",
      "\u001b[90m 4\u001b[39m \u001b[90m<split [2637/293]>\u001b[39m Repeat1 Fold04\n",
      "\u001b[90m 5\u001b[39m \u001b[90m<split [2637/293]>\u001b[39m Repeat1 Fold05\n",
      "\u001b[90m 6\u001b[39m \u001b[90m<split [2637/293]>\u001b[39m Repeat1 Fold06\n",
      "\u001b[90m 7\u001b[39m \u001b[90m<split [2637/293]>\u001b[39m Repeat1 Fold07\n",
      "\u001b[90m 8\u001b[39m \u001b[90m<split [2637/293]>\u001b[39m Repeat1 Fold08\n",
      "\u001b[90m 9\u001b[39m \u001b[90m<split [2637/293]>\u001b[39m Repeat1 Fold09\n",
      "\u001b[90m10\u001b[39m \u001b[90m<split [2637/293]>\u001b[39m Repeat1 Fold10\n",
      "\u001b[90m11\u001b[39m \u001b[90m<split [2637/293]>\u001b[39m Repeat2 Fold01\n",
      "\u001b[90m12\u001b[39m \u001b[90m<split [2637/293]>\u001b[39m Repeat2 Fold02\n",
      "\u001b[90m13\u001b[39m \u001b[90m<split [2637/293]>\u001b[39m Repeat2 Fold03\n",
      "\u001b[90m14\u001b[39m \u001b[90m<split [2637/293]>\u001b[39m Repeat2 Fold04\n",
      "\u001b[90m15\u001b[39m \u001b[90m<split [2637/293]>\u001b[39m Repeat2 Fold05\n",
      "\u001b[90m16\u001b[39m \u001b[90m<split [2637/293]>\u001b[39m Repeat2 Fold06\n",
      "\u001b[90m17\u001b[39m \u001b[90m<split [2637/293]>\u001b[39m Repeat2 Fold07\n",
      "\u001b[90m18\u001b[39m \u001b[90m<split [2637/293]>\u001b[39m Repeat2 Fold08\n",
      "\u001b[90m19\u001b[39m \u001b[90m<split [2637/293]>\u001b[39m Repeat2 Fold09\n",
      "\u001b[90m20\u001b[39m \u001b[90m<split [2637/293]>\u001b[39m Repeat2 Fold10\n"
     ]
    }
   ],
   "source": [
    "a <- rsample::vfold_cv(ames, v = 10, repeats = 2 )\n",
    "a %>% print"
   ]
  },
  {
   "cell_type": "markdown",
   "id": "95687069",
   "metadata": {},
   "source": [
    "### 부트스트랩"
   ]
  },
  {
   "cell_type": "markdown",
   "id": "dfbb52ff",
   "metadata": {},
   "source": [
    "#### rsample::bootstraps(df, times = 추출 횟수)"
   ]
  },
  {
   "cell_type": "code",
   "execution_count": 75,
   "id": "c991c575",
   "metadata": {},
   "outputs": [
    {
     "name": "stdout",
     "output_type": "stream",
     "text": [
      "# Bootstrap sampling \n",
      "\u001b[90m# A tibble: 10 x 2\u001b[39m\n",
      "   splits              id         \n",
      "   \u001b[3m\u001b[90m<list>\u001b[39m\u001b[23m              \u001b[3m\u001b[90m<chr>\u001b[39m\u001b[23m      \n",
      "\u001b[90m 1\u001b[39m \u001b[90m<split [2930/1061]>\u001b[39m Bootstrap01\n",
      "\u001b[90m 2\u001b[39m \u001b[90m<split [2930/1059]>\u001b[39m Bootstrap02\n",
      "\u001b[90m 3\u001b[39m \u001b[90m<split [2930/1087]>\u001b[39m Bootstrap03\n",
      "\u001b[90m 4\u001b[39m \u001b[90m<split [2930/1089]>\u001b[39m Bootstrap04\n",
      "\u001b[90m 5\u001b[39m \u001b[90m<split [2930/1097]>\u001b[39m Bootstrap05\n",
      "\u001b[90m 6\u001b[39m \u001b[90m<split [2930/1054]>\u001b[39m Bootstrap06\n",
      "\u001b[90m 7\u001b[39m \u001b[90m<split [2930/1055]>\u001b[39m Bootstrap07\n",
      "\u001b[90m 8\u001b[39m \u001b[90m<split [2930/1078]>\u001b[39m Bootstrap08\n",
      "\u001b[90m 9\u001b[39m \u001b[90m<split [2930/1076]>\u001b[39m Bootstrap09\n",
      "\u001b[90m10\u001b[39m \u001b[90m<split [2930/1086]>\u001b[39m Bootstrap10\n"
     ]
    }
   ],
   "source": [
    "rsample::bootstraps(ames, times = 10) %>% print"
   ]
  },
  {
   "cell_type": "markdown",
   "id": "8582632f",
   "metadata": {},
   "source": [
    "### 분산-편향 트레이드 오프"
   ]
  },
  {
   "cell_type": "markdown",
   "id": "7fa5a9c4",
   "metadata": {},
   "source": [
    "#### 편향  \n",
    "- 편향은 모델의 예상(또는 평균) 예측과 예측하려는 올바른 값 간의 차이. 일반적으로 모델의 예측이 올바른 값에서 얼마나 멀리 떨어져 있는지 측정하여 모델이 데이터의 기본 구조를 얼마나 잘 따를 수 있는지에 대한 감각을 제공\n",
    "- 편향이 높은 모델은 리샘플링으로 인해 발생하는 노이즈의 영향을 거의 받지 않음. 모델에 높은 편향이 있는 경우 리샘플링 성능이 일관성을 가짐."
   ]
  },
  {
   "cell_type": "markdown",
   "id": "e4883867",
   "metadata": {},
   "source": [
    "#### 분산\n",
    "- 분산으로 인한 오류는 주어진 데이터 포인트에 대한 모델 예측의 가변성으로 정의\n",
    "- 고분산 모델은 과적합에 더 취약하기 때문에 이러한 위험을 줄이기 위해서는 재표본 절차를 사용하는 것이 중요합니다."
   ]
  },
  {
   "cell_type": "markdown",
   "id": "0aa1bf2d",
   "metadata": {},
   "source": [
    "### 모델 평가"
   ]
  },
  {
   "cell_type": "markdown",
   "id": "2923b31f",
   "metadata": {},
   "source": [
    "#### 회귀 모형\n",
    "1. MSE : 평균 제곱 오차는 제곱 오차의 평균\n",
    "    - RMSE와 함께 사용하는 가장 일반적인 오류 메트릭. 목표: 최소화\n",
    "2. RMSE :  MSE의 제곱근  목표: 최소화\n",
    "3. 이탈도 : 목표: 최소화\n",
    "4. MAE : 목표: 최소화\n",
    "5. RMSLE : 목표: 최소화\n",
    "6. R^2 : 목표 : 최대화"
   ]
  },
  {
   "cell_type": "markdown",
   "id": "f66a0651",
   "metadata": {},
   "source": [
    "#### 분류 모형\n",
    "1. 오분류율, 목표: 최소화 \n",
    "2. Mean per class error : 각 클래스의 평균 오류율, 목표: 최소화\n",
    "3. MSE : 목표: 최소화\n",
    "4. 교차 엔트로피 (로그 손실) : 목표: 최소화\n",
    "5. 지니 인덱스 : 목표: 최소화\n",
    "\n",
    "#### 혼동행렬\n",
    "1. 정확도 : 목표: 최대화\n",
    "2. 정밀도 : 목표: 최대화\n",
    "3. 민감도(재현율) : 목표: 최대화\n",
    "4. 특이도 : 목표: 최대화\n",
    "5. AUC : 가로축(FPR), 세로축(TPR), 목표 :최대화"
   ]
  },
  {
   "cell_type": "markdown",
   "id": "af4d2488",
   "metadata": {},
   "source": [
    "### #"
   ]
  },
  {
   "cell_type": "code",
   "execution_count": 77,
   "id": "8e0e7205",
   "metadata": {},
   "outputs": [
    {
     "data": {
      "text/html": [
       "<table class=\"dataframe\">\n",
       "<caption>A tibble: 6 × 81</caption>\n",
       "<thead>\n",
       "\t<tr><th scope=col>MS_SubClass</th><th scope=col>MS_Zoning</th><th scope=col>Lot_Frontage</th><th scope=col>Lot_Area</th><th scope=col>Street</th><th scope=col>Alley</th><th scope=col>Lot_Shape</th><th scope=col>Land_Contour</th><th scope=col>Utilities</th><th scope=col>Lot_Config</th><th scope=col>...</th><th scope=col>Fence</th><th scope=col>Misc_Feature</th><th scope=col>Misc_Val</th><th scope=col>Mo_Sold</th><th scope=col>Year_Sold</th><th scope=col>Sale_Type</th><th scope=col>Sale_Condition</th><th scope=col>Sale_Price</th><th scope=col>Longitude</th><th scope=col>Latitude</th></tr>\n",
       "\t<tr><th scope=col>&lt;fct&gt;</th><th scope=col>&lt;fct&gt;</th><th scope=col>&lt;dbl&gt;</th><th scope=col>&lt;int&gt;</th><th scope=col>&lt;fct&gt;</th><th scope=col>&lt;fct&gt;</th><th scope=col>&lt;fct&gt;</th><th scope=col>&lt;fct&gt;</th><th scope=col>&lt;fct&gt;</th><th scope=col>&lt;fct&gt;</th><th scope=col>...</th><th scope=col>&lt;fct&gt;</th><th scope=col>&lt;fct&gt;</th><th scope=col>&lt;int&gt;</th><th scope=col>&lt;int&gt;</th><th scope=col>&lt;int&gt;</th><th scope=col>&lt;fct&gt;</th><th scope=col>&lt;fct&gt;</th><th scope=col>&lt;int&gt;</th><th scope=col>&lt;dbl&gt;</th><th scope=col>&lt;dbl&gt;</th></tr>\n",
       "</thead>\n",
       "<tbody>\n",
       "\t<tr><td>One_Story_1946_and_Newer_All_Styles</td><td>Residential_Low_Density </td><td>141</td><td>31770</td><td>Pave</td><td>No_Alley_Access</td><td>Slightly_Irregular</td><td>Lvl</td><td>AllPub</td><td>Corner</td><td>...</td><td>No_Fence       </td><td>None</td><td>    0</td><td>5</td><td>2010</td><td>WD </td><td>Normal</td><td>215000</td><td>-93.61975</td><td>42.05403</td></tr>\n",
       "\t<tr><td>One_Story_1946_and_Newer_All_Styles</td><td>Residential_High_Density</td><td> 80</td><td>11622</td><td>Pave</td><td>No_Alley_Access</td><td>Regular           </td><td>Lvl</td><td>AllPub</td><td>Inside</td><td>...</td><td>Minimum_Privacy</td><td>None</td><td>    0</td><td>6</td><td>2010</td><td>WD </td><td>Normal</td><td>105000</td><td>-93.61976</td><td>42.05301</td></tr>\n",
       "\t<tr><td>One_Story_1946_and_Newer_All_Styles</td><td>Residential_Low_Density </td><td> 81</td><td>14267</td><td>Pave</td><td>No_Alley_Access</td><td>Slightly_Irregular</td><td>Lvl</td><td>AllPub</td><td>Corner</td><td>...</td><td>No_Fence       </td><td>Gar2</td><td>12500</td><td>6</td><td>2010</td><td>WD </td><td>Normal</td><td>172000</td><td>-93.61939</td><td>42.05266</td></tr>\n",
       "\t<tr><td>One_Story_1946_and_Newer_All_Styles</td><td>Residential_Low_Density </td><td> 93</td><td>11160</td><td>Pave</td><td>No_Alley_Access</td><td>Regular           </td><td>Lvl</td><td>AllPub</td><td>Corner</td><td>...</td><td>No_Fence       </td><td>None</td><td>    0</td><td>4</td><td>2010</td><td>WD </td><td>Normal</td><td>244000</td><td>-93.61732</td><td>42.05125</td></tr>\n",
       "\t<tr><td>Two_Story_1946_and_Newer           </td><td>Residential_Low_Density </td><td> 74</td><td>13830</td><td>Pave</td><td>No_Alley_Access</td><td>Slightly_Irregular</td><td>Lvl</td><td>AllPub</td><td>Inside</td><td>...</td><td>Minimum_Privacy</td><td>None</td><td>    0</td><td>3</td><td>2010</td><td>WD </td><td>Normal</td><td>189900</td><td>-93.63893</td><td>42.06090</td></tr>\n",
       "\t<tr><td>Two_Story_1946_and_Newer           </td><td>Residential_Low_Density </td><td> 78</td><td> 9978</td><td>Pave</td><td>No_Alley_Access</td><td>Slightly_Irregular</td><td>Lvl</td><td>AllPub</td><td>Inside</td><td>...</td><td>No_Fence       </td><td>None</td><td>    0</td><td>6</td><td>2010</td><td>WD </td><td>Normal</td><td>195500</td><td>-93.63893</td><td>42.06078</td></tr>\n",
       "</tbody>\n",
       "</table>\n"
      ],
      "text/latex": [
       "A tibble: 6 × 81\n",
       "\\begin{tabular}{lllllllllllllllllllll}\n",
       " MS\\_SubClass & MS\\_Zoning & Lot\\_Frontage & Lot\\_Area & Street & Alley & Lot\\_Shape & Land\\_Contour & Utilities & Lot\\_Config & ... & Fence & Misc\\_Feature & Misc\\_Val & Mo\\_Sold & Year\\_Sold & Sale\\_Type & Sale\\_Condition & Sale\\_Price & Longitude & Latitude\\\\\n",
       " <fct> & <fct> & <dbl> & <int> & <fct> & <fct> & <fct> & <fct> & <fct> & <fct> & ... & <fct> & <fct> & <int> & <int> & <int> & <fct> & <fct> & <int> & <dbl> & <dbl>\\\\\n",
       "\\hline\n",
       "\t One\\_Story\\_1946\\_and\\_Newer\\_All\\_Styles & Residential\\_Low\\_Density  & 141 & 31770 & Pave & No\\_Alley\\_Access & Slightly\\_Irregular & Lvl & AllPub & Corner & ... & No\\_Fence        & None &     0 & 5 & 2010 & WD  & Normal & 215000 & -93.61975 & 42.05403\\\\\n",
       "\t One\\_Story\\_1946\\_and\\_Newer\\_All\\_Styles & Residential\\_High\\_Density &  80 & 11622 & Pave & No\\_Alley\\_Access & Regular            & Lvl & AllPub & Inside & ... & Minimum\\_Privacy & None &     0 & 6 & 2010 & WD  & Normal & 105000 & -93.61976 & 42.05301\\\\\n",
       "\t One\\_Story\\_1946\\_and\\_Newer\\_All\\_Styles & Residential\\_Low\\_Density  &  81 & 14267 & Pave & No\\_Alley\\_Access & Slightly\\_Irregular & Lvl & AllPub & Corner & ... & No\\_Fence        & Gar2 & 12500 & 6 & 2010 & WD  & Normal & 172000 & -93.61939 & 42.05266\\\\\n",
       "\t One\\_Story\\_1946\\_and\\_Newer\\_All\\_Styles & Residential\\_Low\\_Density  &  93 & 11160 & Pave & No\\_Alley\\_Access & Regular            & Lvl & AllPub & Corner & ... & No\\_Fence        & None &     0 & 4 & 2010 & WD  & Normal & 244000 & -93.61732 & 42.05125\\\\\n",
       "\t Two\\_Story\\_1946\\_and\\_Newer            & Residential\\_Low\\_Density  &  74 & 13830 & Pave & No\\_Alley\\_Access & Slightly\\_Irregular & Lvl & AllPub & Inside & ... & Minimum\\_Privacy & None &     0 & 3 & 2010 & WD  & Normal & 189900 & -93.63893 & 42.06090\\\\\n",
       "\t Two\\_Story\\_1946\\_and\\_Newer            & Residential\\_Low\\_Density  &  78 &  9978 & Pave & No\\_Alley\\_Access & Slightly\\_Irregular & Lvl & AllPub & Inside & ... & No\\_Fence        & None &     0 & 6 & 2010 & WD  & Normal & 195500 & -93.63893 & 42.06078\\\\\n",
       "\\end{tabular}\n"
      ],
      "text/markdown": [
       "\n",
       "A tibble: 6 × 81\n",
       "\n",
       "| MS_SubClass &lt;fct&gt; | MS_Zoning &lt;fct&gt; | Lot_Frontage &lt;dbl&gt; | Lot_Area &lt;int&gt; | Street &lt;fct&gt; | Alley &lt;fct&gt; | Lot_Shape &lt;fct&gt; | Land_Contour &lt;fct&gt; | Utilities &lt;fct&gt; | Lot_Config &lt;fct&gt; | ... ... | Fence &lt;fct&gt; | Misc_Feature &lt;fct&gt; | Misc_Val &lt;int&gt; | Mo_Sold &lt;int&gt; | Year_Sold &lt;int&gt; | Sale_Type &lt;fct&gt; | Sale_Condition &lt;fct&gt; | Sale_Price &lt;int&gt; | Longitude &lt;dbl&gt; | Latitude &lt;dbl&gt; |\n",
       "|---|---|---|---|---|---|---|---|---|---|---|---|---|---|---|---|---|---|---|---|---|\n",
       "| One_Story_1946_and_Newer_All_Styles | Residential_Low_Density  | 141 | 31770 | Pave | No_Alley_Access | Slightly_Irregular | Lvl | AllPub | Corner | ... | No_Fence        | None |     0 | 5 | 2010 | WD  | Normal | 215000 | -93.61975 | 42.05403 |\n",
       "| One_Story_1946_and_Newer_All_Styles | Residential_High_Density |  80 | 11622 | Pave | No_Alley_Access | Regular            | Lvl | AllPub | Inside | ... | Minimum_Privacy | None |     0 | 6 | 2010 | WD  | Normal | 105000 | -93.61976 | 42.05301 |\n",
       "| One_Story_1946_and_Newer_All_Styles | Residential_Low_Density  |  81 | 14267 | Pave | No_Alley_Access | Slightly_Irregular | Lvl | AllPub | Corner | ... | No_Fence        | Gar2 | 12500 | 6 | 2010 | WD  | Normal | 172000 | -93.61939 | 42.05266 |\n",
       "| One_Story_1946_and_Newer_All_Styles | Residential_Low_Density  |  93 | 11160 | Pave | No_Alley_Access | Regular            | Lvl | AllPub | Corner | ... | No_Fence        | None |     0 | 4 | 2010 | WD  | Normal | 244000 | -93.61732 | 42.05125 |\n",
       "| Two_Story_1946_and_Newer            | Residential_Low_Density  |  74 | 13830 | Pave | No_Alley_Access | Slightly_Irregular | Lvl | AllPub | Inside | ... | Minimum_Privacy | None |     0 | 3 | 2010 | WD  | Normal | 189900 | -93.63893 | 42.06090 |\n",
       "| Two_Story_1946_and_Newer            | Residential_Low_Density  |  78 |  9978 | Pave | No_Alley_Access | Slightly_Irregular | Lvl | AllPub | Inside | ... | No_Fence        | None |     0 | 6 | 2010 | WD  | Normal | 195500 | -93.63893 | 42.06078 |\n",
       "\n"
      ],
      "text/plain": [
       "  MS_SubClass                         MS_Zoning                Lot_Frontage\n",
       "1 One_Story_1946_and_Newer_All_Styles Residential_Low_Density  141         \n",
       "2 One_Story_1946_and_Newer_All_Styles Residential_High_Density  80         \n",
       "3 One_Story_1946_and_Newer_All_Styles Residential_Low_Density   81         \n",
       "4 One_Story_1946_and_Newer_All_Styles Residential_Low_Density   93         \n",
       "5 Two_Story_1946_and_Newer            Residential_Low_Density   74         \n",
       "6 Two_Story_1946_and_Newer            Residential_Low_Density   78         \n",
       "  Lot_Area Street Alley           Lot_Shape          Land_Contour Utilities\n",
       "1 31770    Pave   No_Alley_Access Slightly_Irregular Lvl          AllPub   \n",
       "2 11622    Pave   No_Alley_Access Regular            Lvl          AllPub   \n",
       "3 14267    Pave   No_Alley_Access Slightly_Irregular Lvl          AllPub   \n",
       "4 11160    Pave   No_Alley_Access Regular            Lvl          AllPub   \n",
       "5 13830    Pave   No_Alley_Access Slightly_Irregular Lvl          AllPub   \n",
       "6  9978    Pave   No_Alley_Access Slightly_Irregular Lvl          AllPub   \n",
       "  Lot_Config ... Fence           Misc_Feature Misc_Val Mo_Sold Year_Sold\n",
       "1 Corner     ... No_Fence        None             0    5       2010     \n",
       "2 Inside     ... Minimum_Privacy None             0    6       2010     \n",
       "3 Corner     ... No_Fence        Gar2         12500    6       2010     \n",
       "4 Corner     ... No_Fence        None             0    4       2010     \n",
       "5 Inside     ... Minimum_Privacy None             0    3       2010     \n",
       "6 Inside     ... No_Fence        None             0    6       2010     \n",
       "  Sale_Type Sale_Condition Sale_Price Longitude Latitude\n",
       "1 WD        Normal         215000     -93.61975 42.05403\n",
       "2 WD        Normal         105000     -93.61976 42.05301\n",
       "3 WD        Normal         172000     -93.61939 42.05266\n",
       "4 WD        Normal         244000     -93.61732 42.05125\n",
       "5 WD        Normal         189900     -93.63893 42.06090\n",
       "6 WD        Normal         195500     -93.63893 42.06078"
      ]
     },
     "metadata": {},
     "output_type": "display_data"
    }
   ],
   "source": [
    "head(ames)"
   ]
  },
  {
   "cell_type": "markdown",
   "id": "1e2a73eb",
   "metadata": {},
   "source": [
    "#### 1. 데이터 분할 : Sale_Price의 분포를 유지하며 훈련데이터와 테스트데이터 분할"
   ]
  },
  {
   "cell_type": "code",
   "execution_count": 89,
   "id": "c80b844c",
   "metadata": {},
   "outputs": [],
   "source": [
    "library(rsample)\n",
    "set.seed(123)\n",
    "split <- initial_split(ames, prop = 0.7, \n",
    "                       strata = \"Sale_Price\") "
   ]
  },
  {
   "cell_type": "code",
   "execution_count": 90,
   "id": "1008d5d5",
   "metadata": {},
   "outputs": [],
   "source": [
    "ames_train  <- training(split)\n",
    "ames_test   <- testing(split)"
   ]
  },
  {
   "cell_type": "code",
   "execution_count": 91,
   "id": "f1c1fb4e",
   "metadata": {},
   "outputs": [
    {
     "data": {
      "text/html": [
       "<style>\n",
       ".list-inline {list-style: none; margin:0; padding: 0}\n",
       ".list-inline>li {display: inline-block}\n",
       ".list-inline>li:not(:last-child)::after {content: \"\\00b7\"; padding: 0 .5ex}\n",
       "</style>\n",
       "<ol class=list-inline><li>2049</li><li>81</li></ol>\n"
      ],
      "text/latex": [
       "\\begin{enumerate*}\n",
       "\\item 2049\n",
       "\\item 81\n",
       "\\end{enumerate*}\n"
      ],
      "text/markdown": [
       "1. 2049\n",
       "2. 81\n",
       "\n",
       "\n"
      ],
      "text/plain": [
       "[1] 2049   81"
      ]
     },
     "metadata": {},
     "output_type": "display_data"
    },
    {
     "data": {
      "text/html": [
       "<style>\n",
       ".list-inline {list-style: none; margin:0; padding: 0}\n",
       ".list-inline>li {display: inline-block}\n",
       ".list-inline>li:not(:last-child)::after {content: \"\\00b7\"; padding: 0 .5ex}\n",
       "</style>\n",
       "<ol class=list-inline><li>881</li><li>81</li></ol>\n"
      ],
      "text/latex": [
       "\\begin{enumerate*}\n",
       "\\item 881\n",
       "\\item 81\n",
       "\\end{enumerate*}\n"
      ],
      "text/markdown": [
       "1. 881\n",
       "2. 81\n",
       "\n",
       "\n"
      ],
      "text/plain": [
       "[1] 881  81"
      ]
     },
     "metadata": {},
     "output_type": "display_data"
    }
   ],
   "source": [
    "dim(ames_train) ; dim(ames_test)"
   ]
  },
  {
   "cell_type": "markdown",
   "id": "fa9e7df5",
   "metadata": {},
   "source": [
    "#### 2. 10-fold CV,  5회 반복"
   ]
  },
  {
   "cell_type": "code",
   "execution_count": 95,
   "id": "48322b6d",
   "metadata": {},
   "outputs": [],
   "source": [
    "library(carat)\n",
    "cv <- trainControl(\n",
    "  method = \"repeatedcv\", \n",
    "  number = 10, \n",
    "  repeats = 5\n",
    ")"
   ]
  },
  {
   "cell_type": "markdown",
   "id": "d2fbefe1",
   "metadata": {},
   "source": [
    "#### 3. KNN회귀의 초매개변수 k 그리드 서치 (2~25)\n",
    "#### 4. RMSE를 기준으로 탐색"
   ]
  },
  {
   "cell_type": "code",
   "execution_count": 97,
   "id": "49acad01",
   "metadata": {},
   "outputs": [],
   "source": [
    "hyper_grid <- expand.grid(k = seq(2, 25, by = 1))"
   ]
  },
  {
   "cell_type": "code",
   "execution_count": 98,
   "id": "4573f987",
   "metadata": {},
   "outputs": [],
   "source": [
    "knn_fit <- train(\n",
    "  Sale_Price ~ ., \n",
    "  data = ames_train, \n",
    "  method = \"knn\", \n",
    "  trControl = cv, \n",
    "  tuneGrid = hyper_grid,\n",
    "  metric = \"RMSE\"\n",
    ")"
   ]
  },
  {
   "cell_type": "code",
   "execution_count": 107,
   "id": "db7392d7",
   "metadata": {},
   "outputs": [
    {
     "data": {
      "text/html": [
       "<table class=\"dataframe\">\n",
       "<caption>A data.frame: 24 × 7</caption>\n",
       "<thead>\n",
       "\t<tr><th></th><th scope=col>k</th><th scope=col>RMSE</th><th scope=col>Rsquared</th><th scope=col>MAE</th><th scope=col>RMSESD</th><th scope=col>RsquaredSD</th><th scope=col>MAESD</th></tr>\n",
       "\t<tr><th></th><th scope=col>&lt;dbl&gt;</th><th scope=col>&lt;dbl&gt;</th><th scope=col>&lt;dbl&gt;</th><th scope=col>&lt;dbl&gt;</th><th scope=col>&lt;dbl&gt;</th><th scope=col>&lt;dbl&gt;</th><th scope=col>&lt;dbl&gt;</th></tr>\n",
       "</thead>\n",
       "<tbody>\n",
       "\t<tr><th scope=row>1</th><td> 2</td><td>47206.74</td><td>0.6596344</td><td>31133.25</td><td>4778.373</td><td>0.05494940</td><td>1948.269</td></tr>\n",
       "\t<tr><th scope=row>2</th><td> 3</td><td>45684.91</td><td>0.6773635</td><td>30007.71</td><td>5268.428</td><td>0.05856942</td><td>2144.875</td></tr>\n",
       "\t<tr><th scope=row>3</th><td> 4</td><td>44771.97</td><td>0.6901038</td><td>29276.09</td><td>5089.988</td><td>0.05419229</td><td>2105.170</td></tr>\n",
       "\t<tr><th scope=row>4</th><td> 5</td><td>44064.54</td><td>0.7005790</td><td>28996.93</td><td>5353.736</td><td>0.05595903</td><td>2073.062</td></tr>\n",
       "\t<tr><th scope=row>5</th><td> 6</td><td>43846.05</td><td>0.7045166</td><td>28895.48</td><td>5453.385</td><td>0.05807368</td><td>1997.600</td></tr>\n",
       "\t<tr><th scope=row>6</th><td> 7</td><td>43858.13</td><td>0.7059401</td><td>28883.74</td><td>5312.519</td><td>0.05558283</td><td>2045.240</td></tr>\n",
       "\t<tr><th scope=row>7</th><td> 8</td><td>44181.13</td><td>0.7033657</td><td>29055.05</td><td>5390.066</td><td>0.05640060</td><td>2080.178</td></tr>\n",
       "\t<tr><th scope=row>8</th><td> 9</td><td>44352.03</td><td>0.7028597</td><td>29109.00</td><td>5415.331</td><td>0.05508242</td><td>2122.550</td></tr>\n",
       "\t<tr><th scope=row>9</th><td>10</td><td>44332.46</td><td>0.7053884</td><td>29129.62</td><td>5356.370</td><td>0.05222803</td><td>2042.518</td></tr>\n",
       "\t<tr><th scope=row>10</th><td>11</td><td>44282.81</td><td>0.7083442</td><td>29081.39</td><td>5368.929</td><td>0.05093890</td><td>2067.444</td></tr>\n",
       "\t<tr><th scope=row>11</th><td>12</td><td>44486.34</td><td>0.7075253</td><td>29155.41</td><td>5367.955</td><td>0.05076783</td><td>2091.777</td></tr>\n",
       "\t<tr><th scope=row>12</th><td>13</td><td>44647.15</td><td>0.7076206</td><td>29256.68</td><td>5414.220</td><td>0.05020358</td><td>2138.177</td></tr>\n",
       "\t<tr><th scope=row>13</th><td>14</td><td>44790.79</td><td>0.7077073</td><td>29307.11</td><td>5452.667</td><td>0.04957349</td><td>2156.315</td></tr>\n",
       "\t<tr><th scope=row>14</th><td>15</td><td>45041.02</td><td>0.7063767</td><td>29423.86</td><td>5468.470</td><td>0.04878254</td><td>2211.308</td></tr>\n",
       "\t<tr><th scope=row>15</th><td>16</td><td>45119.37</td><td>0.7073844</td><td>29484.00</td><td>5524.232</td><td>0.04886787</td><td>2245.120</td></tr>\n",
       "\t<tr><th scope=row>16</th><td>17</td><td>45264.01</td><td>0.7070891</td><td>29586.22</td><td>5579.911</td><td>0.04942969</td><td>2232.981</td></tr>\n",
       "\t<tr><th scope=row>17</th><td>18</td><td>45366.02</td><td>0.7072968</td><td>29641.92</td><td>5512.154</td><td>0.04851836</td><td>2217.069</td></tr>\n",
       "\t<tr><th scope=row>18</th><td>19</td><td>45537.84</td><td>0.7066304</td><td>29766.52</td><td>5517.919</td><td>0.04871956</td><td>2214.870</td></tr>\n",
       "\t<tr><th scope=row>19</th><td>20</td><td>45746.63</td><td>0.7052851</td><td>29907.89</td><td>5586.628</td><td>0.04891075</td><td>2231.843</td></tr>\n",
       "\t<tr><th scope=row>20</th><td>21</td><td>45983.35</td><td>0.7031524</td><td>30058.55</td><td>5630.517</td><td>0.04962585</td><td>2250.760</td></tr>\n",
       "\t<tr><th scope=row>21</th><td>22</td><td>46187.92</td><td>0.7017539</td><td>30192.39</td><td>5637.096</td><td>0.04942774</td><td>2247.760</td></tr>\n",
       "\t<tr><th scope=row>22</th><td>23</td><td>46406.95</td><td>0.7001361</td><td>30329.98</td><td>5602.297</td><td>0.05018285</td><td>2292.117</td></tr>\n",
       "\t<tr><th scope=row>23</th><td>24</td><td>46605.01</td><td>0.6986611</td><td>30483.94</td><td>5681.042</td><td>0.05121853</td><td>2301.707</td></tr>\n",
       "\t<tr><th scope=row>24</th><td>25</td><td>46824.70</td><td>0.6971044</td><td>30617.33</td><td>5683.843</td><td>0.05191653</td><td>2326.107</td></tr>\n",
       "</tbody>\n",
       "</table>\n"
      ],
      "text/latex": [
       "A data.frame: 24 × 7\n",
       "\\begin{tabular}{r|lllllll}\n",
       "  & k & RMSE & Rsquared & MAE & RMSESD & RsquaredSD & MAESD\\\\\n",
       "  & <dbl> & <dbl> & <dbl> & <dbl> & <dbl> & <dbl> & <dbl>\\\\\n",
       "\\hline\n",
       "\t1 &  2 & 47206.74 & 0.6596344 & 31133.25 & 4778.373 & 0.05494940 & 1948.269\\\\\n",
       "\t2 &  3 & 45684.91 & 0.6773635 & 30007.71 & 5268.428 & 0.05856942 & 2144.875\\\\\n",
       "\t3 &  4 & 44771.97 & 0.6901038 & 29276.09 & 5089.988 & 0.05419229 & 2105.170\\\\\n",
       "\t4 &  5 & 44064.54 & 0.7005790 & 28996.93 & 5353.736 & 0.05595903 & 2073.062\\\\\n",
       "\t5 &  6 & 43846.05 & 0.7045166 & 28895.48 & 5453.385 & 0.05807368 & 1997.600\\\\\n",
       "\t6 &  7 & 43858.13 & 0.7059401 & 28883.74 & 5312.519 & 0.05558283 & 2045.240\\\\\n",
       "\t7 &  8 & 44181.13 & 0.7033657 & 29055.05 & 5390.066 & 0.05640060 & 2080.178\\\\\n",
       "\t8 &  9 & 44352.03 & 0.7028597 & 29109.00 & 5415.331 & 0.05508242 & 2122.550\\\\\n",
       "\t9 & 10 & 44332.46 & 0.7053884 & 29129.62 & 5356.370 & 0.05222803 & 2042.518\\\\\n",
       "\t10 & 11 & 44282.81 & 0.7083442 & 29081.39 & 5368.929 & 0.05093890 & 2067.444\\\\\n",
       "\t11 & 12 & 44486.34 & 0.7075253 & 29155.41 & 5367.955 & 0.05076783 & 2091.777\\\\\n",
       "\t12 & 13 & 44647.15 & 0.7076206 & 29256.68 & 5414.220 & 0.05020358 & 2138.177\\\\\n",
       "\t13 & 14 & 44790.79 & 0.7077073 & 29307.11 & 5452.667 & 0.04957349 & 2156.315\\\\\n",
       "\t14 & 15 & 45041.02 & 0.7063767 & 29423.86 & 5468.470 & 0.04878254 & 2211.308\\\\\n",
       "\t15 & 16 & 45119.37 & 0.7073844 & 29484.00 & 5524.232 & 0.04886787 & 2245.120\\\\\n",
       "\t16 & 17 & 45264.01 & 0.7070891 & 29586.22 & 5579.911 & 0.04942969 & 2232.981\\\\\n",
       "\t17 & 18 & 45366.02 & 0.7072968 & 29641.92 & 5512.154 & 0.04851836 & 2217.069\\\\\n",
       "\t18 & 19 & 45537.84 & 0.7066304 & 29766.52 & 5517.919 & 0.04871956 & 2214.870\\\\\n",
       "\t19 & 20 & 45746.63 & 0.7052851 & 29907.89 & 5586.628 & 0.04891075 & 2231.843\\\\\n",
       "\t20 & 21 & 45983.35 & 0.7031524 & 30058.55 & 5630.517 & 0.04962585 & 2250.760\\\\\n",
       "\t21 & 22 & 46187.92 & 0.7017539 & 30192.39 & 5637.096 & 0.04942774 & 2247.760\\\\\n",
       "\t22 & 23 & 46406.95 & 0.7001361 & 30329.98 & 5602.297 & 0.05018285 & 2292.117\\\\\n",
       "\t23 & 24 & 46605.01 & 0.6986611 & 30483.94 & 5681.042 & 0.05121853 & 2301.707\\\\\n",
       "\t24 & 25 & 46824.70 & 0.6971044 & 30617.33 & 5683.843 & 0.05191653 & 2326.107\\\\\n",
       "\\end{tabular}\n"
      ],
      "text/markdown": [
       "\n",
       "A data.frame: 24 × 7\n",
       "\n",
       "| <!--/--> | k &lt;dbl&gt; | RMSE &lt;dbl&gt; | Rsquared &lt;dbl&gt; | MAE &lt;dbl&gt; | RMSESD &lt;dbl&gt; | RsquaredSD &lt;dbl&gt; | MAESD &lt;dbl&gt; |\n",
       "|---|---|---|---|---|---|---|---|\n",
       "| 1 |  2 | 47206.74 | 0.6596344 | 31133.25 | 4778.373 | 0.05494940 | 1948.269 |\n",
       "| 2 |  3 | 45684.91 | 0.6773635 | 30007.71 | 5268.428 | 0.05856942 | 2144.875 |\n",
       "| 3 |  4 | 44771.97 | 0.6901038 | 29276.09 | 5089.988 | 0.05419229 | 2105.170 |\n",
       "| 4 |  5 | 44064.54 | 0.7005790 | 28996.93 | 5353.736 | 0.05595903 | 2073.062 |\n",
       "| 5 |  6 | 43846.05 | 0.7045166 | 28895.48 | 5453.385 | 0.05807368 | 1997.600 |\n",
       "| 6 |  7 | 43858.13 | 0.7059401 | 28883.74 | 5312.519 | 0.05558283 | 2045.240 |\n",
       "| 7 |  8 | 44181.13 | 0.7033657 | 29055.05 | 5390.066 | 0.05640060 | 2080.178 |\n",
       "| 8 |  9 | 44352.03 | 0.7028597 | 29109.00 | 5415.331 | 0.05508242 | 2122.550 |\n",
       "| 9 | 10 | 44332.46 | 0.7053884 | 29129.62 | 5356.370 | 0.05222803 | 2042.518 |\n",
       "| 10 | 11 | 44282.81 | 0.7083442 | 29081.39 | 5368.929 | 0.05093890 | 2067.444 |\n",
       "| 11 | 12 | 44486.34 | 0.7075253 | 29155.41 | 5367.955 | 0.05076783 | 2091.777 |\n",
       "| 12 | 13 | 44647.15 | 0.7076206 | 29256.68 | 5414.220 | 0.05020358 | 2138.177 |\n",
       "| 13 | 14 | 44790.79 | 0.7077073 | 29307.11 | 5452.667 | 0.04957349 | 2156.315 |\n",
       "| 14 | 15 | 45041.02 | 0.7063767 | 29423.86 | 5468.470 | 0.04878254 | 2211.308 |\n",
       "| 15 | 16 | 45119.37 | 0.7073844 | 29484.00 | 5524.232 | 0.04886787 | 2245.120 |\n",
       "| 16 | 17 | 45264.01 | 0.7070891 | 29586.22 | 5579.911 | 0.04942969 | 2232.981 |\n",
       "| 17 | 18 | 45366.02 | 0.7072968 | 29641.92 | 5512.154 | 0.04851836 | 2217.069 |\n",
       "| 18 | 19 | 45537.84 | 0.7066304 | 29766.52 | 5517.919 | 0.04871956 | 2214.870 |\n",
       "| 19 | 20 | 45746.63 | 0.7052851 | 29907.89 | 5586.628 | 0.04891075 | 2231.843 |\n",
       "| 20 | 21 | 45983.35 | 0.7031524 | 30058.55 | 5630.517 | 0.04962585 | 2250.760 |\n",
       "| 21 | 22 | 46187.92 | 0.7017539 | 30192.39 | 5637.096 | 0.04942774 | 2247.760 |\n",
       "| 22 | 23 | 46406.95 | 0.7001361 | 30329.98 | 5602.297 | 0.05018285 | 2292.117 |\n",
       "| 23 | 24 | 46605.01 | 0.6986611 | 30483.94 | 5681.042 | 0.05121853 | 2301.707 |\n",
       "| 24 | 25 | 46824.70 | 0.6971044 | 30617.33 | 5683.843 | 0.05191653 | 2326.107 |\n",
       "\n"
      ],
      "text/plain": [
       "   k  RMSE     Rsquared  MAE      RMSESD   RsquaredSD MAESD   \n",
       "1   2 47206.74 0.6596344 31133.25 4778.373 0.05494940 1948.269\n",
       "2   3 45684.91 0.6773635 30007.71 5268.428 0.05856942 2144.875\n",
       "3   4 44771.97 0.6901038 29276.09 5089.988 0.05419229 2105.170\n",
       "4   5 44064.54 0.7005790 28996.93 5353.736 0.05595903 2073.062\n",
       "5   6 43846.05 0.7045166 28895.48 5453.385 0.05807368 1997.600\n",
       "6   7 43858.13 0.7059401 28883.74 5312.519 0.05558283 2045.240\n",
       "7   8 44181.13 0.7033657 29055.05 5390.066 0.05640060 2080.178\n",
       "8   9 44352.03 0.7028597 29109.00 5415.331 0.05508242 2122.550\n",
       "9  10 44332.46 0.7053884 29129.62 5356.370 0.05222803 2042.518\n",
       "10 11 44282.81 0.7083442 29081.39 5368.929 0.05093890 2067.444\n",
       "11 12 44486.34 0.7075253 29155.41 5367.955 0.05076783 2091.777\n",
       "12 13 44647.15 0.7076206 29256.68 5414.220 0.05020358 2138.177\n",
       "13 14 44790.79 0.7077073 29307.11 5452.667 0.04957349 2156.315\n",
       "14 15 45041.02 0.7063767 29423.86 5468.470 0.04878254 2211.308\n",
       "15 16 45119.37 0.7073844 29484.00 5524.232 0.04886787 2245.120\n",
       "16 17 45264.01 0.7070891 29586.22 5579.911 0.04942969 2232.981\n",
       "17 18 45366.02 0.7072968 29641.92 5512.154 0.04851836 2217.069\n",
       "18 19 45537.84 0.7066304 29766.52 5517.919 0.04871956 2214.870\n",
       "19 20 45746.63 0.7052851 29907.89 5586.628 0.04891075 2231.843\n",
       "20 21 45983.35 0.7031524 30058.55 5630.517 0.04962585 2250.760\n",
       "21 22 46187.92 0.7017539 30192.39 5637.096 0.04942774 2247.760\n",
       "22 23 46406.95 0.7001361 30329.98 5602.297 0.05018285 2292.117\n",
       "23 24 46605.01 0.6986611 30483.94 5681.042 0.05121853 2301.707\n",
       "24 25 46824.70 0.6971044 30617.33 5683.843 0.05191653 2326.107"
      ]
     },
     "metadata": {},
     "output_type": "display_data"
    }
   ],
   "source": [
    "knn_fit$results"
   ]
  },
  {
   "cell_type": "code",
   "execution_count": 109,
   "id": "e45ac616",
   "metadata": {},
   "outputs": [
    {
     "data": {
      "image/png": "[encoded data removed]",
      "text/plain": [
       "plot without title"
      ]
     },
     "metadata": {
      "image/png": {
       "height": 420,
       "width": 420
      }
     },
     "output_type": "display_data"
    }
   ],
   "source": [
    "ggplot(knn_fit)"
   ]
  }
 ],
 "metadata": {
  "kernelspec": {
   "display_name": "R 4.1.3",
   "language": "R",
   "name": "ir32"
  },
  "language_info": {
   "codemirror_mode": "r",
   "file_extension": ".r",
   "mimetype": "text/x-r-source",
   "name": "R",
   "pygments_lexer": "r",
   "version": "4.1.3"
  }
 },
 "nbformat": 4,
 "nbformat_minor": 5
}
