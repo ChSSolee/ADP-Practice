{
 "cells": [
  {
   "cell_type": "code",
   "execution_count": 2,
   "id": "382d001b",
   "metadata": {},
   "outputs": [],
   "source": [
    "library(ggplot2)\n",
    "library(dplyr)\n",
    "\n",
    "library(rsample)\n",
    "library(recipes)\n",
    "\n",
    "library(caret)"
   ]
  },
  {
   "cell_type": "code",
   "execution_count": 3,
   "id": "441c84c8",
   "metadata": {},
   "outputs": [],
   "source": [
    "attrition <- read.csv(\"C:/Users/apf_temp_admin/Documents/Hands on Machine Learning/WA_Fn-UseC_-HR-Employee-Attrition.csv\",\n",
    "                     stringsAsFactors = T)\n",
    "colnames(attrition)[1] <- \"Age\""
   ]
  },
  {
   "cell_type": "code",
   "execution_count": 4,
   "id": "1c7329e4",
   "metadata": {},
   "outputs": [],
   "source": [
    "cats = vector()\n",
    "for (i in 1:length(attrition)) {\n",
    "    cats[i] = n_distinct(attrition[i])\n",
    "}"
   ]
  },
  {
   "cell_type": "code",
   "execution_count": 5,
   "id": "72e15c01",
   "metadata": {},
   "outputs": [],
   "source": [
    "df <- attrition[, -which(cats == 1)]"
   ]
  },
  {
   "cell_type": "code",
   "execution_count": 6,
   "id": "a9bd3a87",
   "metadata": {},
   "outputs": [
    {
     "data": {
      "text/html": [
       "<style>\n",
       ".list-inline {list-style: none; margin:0; padding: 0}\n",
       ".list-inline>li {display: inline-block}\n",
       ".list-inline>li:not(:last-child)::after {content: \"\\00b7\"; padding: 0 .5ex}\n",
       "</style>\n",
       "<ol class=list-inline><li>1028</li><li>32</li></ol>\n"
      ],
      "text/latex": [
       "\\begin{enumerate*}\n",
       "\\item 1028\n",
       "\\item 32\n",
       "\\end{enumerate*}\n"
      ],
      "text/markdown": [
       "1. 1028\n",
       "2. 32\n",
       "\n",
       "\n"
      ],
      "text/plain": [
       "[1] 1028   32"
      ]
     },
     "metadata": {},
     "output_type": "display_data"
    },
    {
     "data": {
      "text/html": [
       "<style>\n",
       ".list-inline {list-style: none; margin:0; padding: 0}\n",
       ".list-inline>li {display: inline-block}\n",
       ".list-inline>li:not(:last-child)::after {content: \"\\00b7\"; padding: 0 .5ex}\n",
       "</style>\n",
       "<ol class=list-inline><li>442</li><li>32</li></ol>\n"
      ],
      "text/latex": [
       "\\begin{enumerate*}\n",
       "\\item 442\n",
       "\\item 32\n",
       "\\end{enumerate*}\n"
      ],
      "text/markdown": [
       "1. 442\n",
       "2. 32\n",
       "\n",
       "\n"
      ],
      "text/plain": [
       "[1] 442  32"
      ]
     },
     "metadata": {},
     "output_type": "display_data"
    }
   ],
   "source": [
    "set.seed(123)\n",
    "churn_split <- initial_split(df, prop = 0.7, strata = \"Attrition\")\n",
    "churn_train <- training(churn_split)\n",
    "churn_test <- testing(churn_split)\n",
    "dim(churn_train) ; dim(churn_test)"
   ]
  },
  {
   "cell_type": "code",
   "execution_count": 7,
   "id": "17d0ced6",
   "metadata": {},
   "outputs": [],
   "source": [
    "mnist <- dslabs::read_mnist()"
   ]
  },
  {
   "cell_type": "code",
   "execution_count": 8,
   "id": "3f67c525",
   "metadata": {},
   "outputs": [
    {
     "data": {
      "text/html": [
       "<style>\n",
       ".list-inline {list-style: none; margin:0; padding: 0}\n",
       ".list-inline>li {display: inline-block}\n",
       ".list-inline>li:not(:last-child)::after {content: \"\\00b7\"; padding: 0 .5ex}\n",
       "</style>\n",
       "<ol class=list-inline><li>'train'</li><li>'test'</li></ol>\n"
      ],
      "text/latex": [
       "\\begin{enumerate*}\n",
       "\\item 'train'\n",
       "\\item 'test'\n",
       "\\end{enumerate*}\n"
      ],
      "text/markdown": [
       "1. 'train'\n",
       "2. 'test'\n",
       "\n",
       "\n"
      ],
      "text/plain": [
       "[1] \"train\" \"test\" "
      ]
     },
     "metadata": {},
     "output_type": "display_data"
    }
   ],
   "source": [
    "names(mnist)"
   ]
  },
  {
   "cell_type": "code",
   "execution_count": 9,
   "id": "7d5c1270",
   "metadata": {},
   "outputs": [
    {
     "data": {
      "text/html": [
       "<style>\n",
       ".list-inline {list-style: none; margin:0; padding: 0}\n",
       ".list-inline>li {display: inline-block}\n",
       ".list-inline>li:not(:last-child)::after {content: \"\\00b7\"; padding: 0 .5ex}\n",
       "</style>\n",
       "<ol class=list-inline><li>2051</li><li>81</li></ol>\n"
      ],
      "text/latex": [
       "\\begin{enumerate*}\n",
       "\\item 2051\n",
       "\\item 81\n",
       "\\end{enumerate*}\n"
      ],
      "text/markdown": [
       "1. 2051\n",
       "2. 81\n",
       "\n",
       "\n"
      ],
      "text/plain": [
       "[1] 2051   81"
      ]
     },
     "metadata": {},
     "output_type": "display_data"
    },
    {
     "data": {
      "text/html": [
       "<style>\n",
       ".list-inline {list-style: none; margin:0; padding: 0}\n",
       ".list-inline>li {display: inline-block}\n",
       ".list-inline>li:not(:last-child)::after {content: \"\\00b7\"; padding: 0 .5ex}\n",
       "</style>\n",
       "<ol class=list-inline><li>879</li><li>81</li></ol>\n"
      ],
      "text/latex": [
       "\\begin{enumerate*}\n",
       "\\item 879\n",
       "\\item 81\n",
       "\\end{enumerate*}\n"
      ],
      "text/markdown": [
       "1. 879\n",
       "2. 81\n",
       "\n",
       "\n"
      ],
      "text/plain": [
       "[1] 879  81"
      ]
     },
     "metadata": {},
     "output_type": "display_data"
    }
   ],
   "source": [
    "set.seed(123)\n",
    "ames <- AmesHousing::make_ames()\n",
    "index <- sample(1:dim(ames)[1], 0.7*dim(ames)[1])\n",
    "ames_train <- ames[index,]\n",
    "ames_test <- ames[-index,]\n",
    "dim(ames_train) ; dim(ames_test)"
   ]
  },
  {
   "cell_type": "markdown",
   "id": "ac24ac55",
   "metadata": {},
   "source": [
    "### KNN\n",
    "- 각 관찰이 다른 관찰과의 \"유사성\"을 기반으로 예측되는 매우 간단한 알고리즘"
   ]
  },
  {
   "cell_type": "markdown",
   "id": "2b9d0047",
   "metadata": {},
   "source": [
    "### 유사성 측정"
   ]
  },
  {
   "cell_type": "markdown",
   "id": "40f74b03",
   "metadata": {},
   "source": [
    "### 거리 측정"
   ]
  },
  {
   "cell_type": "code",
   "execution_count": 10,
   "id": "243dc089",
   "metadata": {
    "scrolled": true
   },
   "outputs": [
    {
     "data": {
      "text/html": [
       "<table class=\"dataframe\">\n",
       "<caption>A tibble: 2 × 2</caption>\n",
       "<thead>\n",
       "\t<tr><th scope=col>Gr_Liv_Area</th><th scope=col>Year_Built</th></tr>\n",
       "\t<tr><th scope=col>&lt;int&gt;</th><th scope=col>&lt;int&gt;</th></tr>\n",
       "</thead>\n",
       "<tbody>\n",
       "\t<tr><td>1489</td><td>2006</td></tr>\n",
       "\t<tr><td>1524</td><td>2000</td></tr>\n",
       "</tbody>\n",
       "</table>\n"
      ],
      "text/latex": [
       "A tibble: 2 × 2\n",
       "\\begin{tabular}{ll}\n",
       " Gr\\_Liv\\_Area & Year\\_Built\\\\\n",
       " <int> & <int>\\\\\n",
       "\\hline\n",
       "\t 1489 & 2006\\\\\n",
       "\t 1524 & 2000\\\\\n",
       "\\end{tabular}\n"
      ],
      "text/markdown": [
       "\n",
       "A tibble: 2 × 2\n",
       "\n",
       "| Gr_Liv_Area &lt;int&gt; | Year_Built &lt;int&gt; |\n",
       "|---|---|\n",
       "| 1489 | 2006 |\n",
       "| 1524 | 2000 |\n",
       "\n"
      ],
      "text/plain": [
       "  Gr_Liv_Area Year_Built\n",
       "1 1489        2006      \n",
       "2 1524        2000      "
      ]
     },
     "metadata": {},
     "output_type": "display_data"
    }
   ],
   "source": [
    "(two_houses <- ames_train[1:2, c(\"Gr_Liv_Area\", \"Year_Built\")])"
   ]
  },
  {
   "cell_type": "markdown",
   "id": "3c2049f7",
   "metadata": {},
   "source": [
    "### ```dist()```\n",
    "- ```method``` = ```\"euclidean\"```, ```\"maximum\"```, ```\"manhattan\"```, ```\"canberra\"```, ```\"binary\"```, ```\"minkowski\"```"
   ]
  },
  {
   "cell_type": "markdown",
   "id": "184ad402",
   "metadata": {},
   "source": [
    "#### 유클리디안 거리"
   ]
  },
  {
   "cell_type": "code",
   "execution_count": 11,
   "id": "0935d527",
   "metadata": {},
   "outputs": [
    {
     "data": {
      "text/plain": [
       "         1\n",
       "2 35.51056"
      ]
     },
     "metadata": {},
     "output_type": "display_data"
    }
   ],
   "source": [
    "dist(two_houses, method = \"euclidean\")"
   ]
  },
  {
   "cell_type": "markdown",
   "id": "6a10223c",
   "metadata": {},
   "source": [
    "#### 맨하탄 거리"
   ]
  },
  {
   "cell_type": "code",
   "execution_count": 12,
   "id": "c8faeec4",
   "metadata": {
    "scrolled": true
   },
   "outputs": [
    {
     "data": {
      "text/plain": [
       "   1\n",
       "2 41"
      ]
     },
     "metadata": {},
     "output_type": "display_data"
    }
   ],
   "source": [
    "dist(two_houses, method = \"manhattan\")"
   ]
  },
  {
   "cell_type": "code",
   "execution_count": 13,
   "id": "02b49dc2",
   "metadata": {},
   "outputs": [
    {
     "data": {
      "image/png": "[encoded data removed]",
      "text/plain": [
       "plot without title"
      ]
     },
     "metadata": {
      "image/png": {
       "height": 420,
       "width": 420
      }
     },
     "output_type": "display_data"
    }
   ],
   "source": [
    "p1 <- ggplot(two_houses, aes(Gr_Liv_Area, Year_Built)) +\n",
    "  geom_point() +\n",
    "  geom_line(lty = \"dashed\") +\n",
    "  ggtitle(\"(A) Euclidean distance\")\n",
    "  \n",
    "\n",
    "p2 <- ggplot(two_houses, aes(Gr_Liv_Area, Year_Built)) +\n",
    "  geom_point() +\n",
    "  geom_step(lty = \"dashed\") +\n",
    "  ggtitle(\"(B) Manhattan distance\")\n",
    "\n",
    "gridExtra::grid.arrange(p1, p2, nrow = 1)"
   ]
  },
  {
   "cell_type": "markdown",
   "id": "109bdb33",
   "metadata": {},
   "source": [
    "### 전처리\n",
    "- 유클리드 거리는 이상값에 민감, 또한 대부분의 거리 측정은 변수의 규모에 민감\n",
    "- 가장 큰 값을 가진 예측 변수가 두 샘플 사이의 거리에 가장 큰 영향을 미침\n",
    "- **척도가 다른 변수가 있는 데이터는 거리 측정에 편향이 발생**"
   ]
  },
  {
   "cell_type": "code",
   "execution_count": 14,
   "id": "4f959865",
   "metadata": {},
   "outputs": [],
   "source": [
    "home1 <- ames %>%\n",
    "  mutate(id = row_number()) %>%\n",
    "  select(Bedroom_AbvGr, Year_Built, id) %>%\n",
    "  filter(Bedroom_AbvGr == 4 & Year_Built == 2008) %>%\n",
    "  slice(1) %>%\n",
    "  mutate(home = \"home1\") %>%\n",
    "  select(home, everything())\n",
    "\n",
    "home2 <- ames %>%\n",
    "  mutate(id = row_number()) %>%\n",
    "  select(Bedroom_AbvGr, Year_Built, id) %>%\n",
    "  filter(Bedroom_AbvGr == 2 & Year_Built == 2008) %>%\n",
    "  slice(1) %>%\n",
    "  mutate(home = \"home2\") %>%\n",
    "  select(home, everything())\n",
    "\n",
    "home3 <- ames %>%\n",
    "  mutate(id = row_number()) %>%\n",
    "  select(Bedroom_AbvGr, Year_Built, id) %>%\n",
    "  filter(Bedroom_AbvGr == 3 & Year_Built == 1998) %>%\n",
    "  slice(1) %>%\n",
    "  mutate(home = \"home3\") %>%\n",
    "  select(home, everything())"
   ]
  },
  {
   "cell_type": "code",
   "execution_count": 15,
   "id": "85e5a94c",
   "metadata": {},
   "outputs": [
    {
     "data": {
      "text/html": [
       "<table class=\"dataframe\">\n",
       "<caption>A tibble: 1 × 4</caption>\n",
       "<thead>\n",
       "\t<tr><th scope=col>home</th><th scope=col>Bedroom_AbvGr</th><th scope=col>Year_Built</th><th scope=col>id</th></tr>\n",
       "\t<tr><th scope=col>&lt;chr&gt;</th><th scope=col>&lt;int&gt;</th><th scope=col>&lt;int&gt;</th><th scope=col>&lt;int&gt;</th></tr>\n",
       "</thead>\n",
       "<tbody>\n",
       "\t<tr><td>home1</td><td>4</td><td>2008</td><td>423</td></tr>\n",
       "</tbody>\n",
       "</table>\n"
      ],
      "text/latex": [
       "A tibble: 1 × 4\n",
       "\\begin{tabular}{llll}\n",
       " home & Bedroom\\_AbvGr & Year\\_Built & id\\\\\n",
       " <chr> & <int> & <int> & <int>\\\\\n",
       "\\hline\n",
       "\t home1 & 4 & 2008 & 423\\\\\n",
       "\\end{tabular}\n"
      ],
      "text/markdown": [
       "\n",
       "A tibble: 1 × 4\n",
       "\n",
       "| home &lt;chr&gt; | Bedroom_AbvGr &lt;int&gt; | Year_Built &lt;int&gt; | id &lt;int&gt; |\n",
       "|---|---|---|---|\n",
       "| home1 | 4 | 2008 | 423 |\n",
       "\n"
      ],
      "text/plain": [
       "  home  Bedroom_AbvGr Year_Built id \n",
       "1 home1 4             2008       423"
      ]
     },
     "metadata": {},
     "output_type": "display_data"
    },
    {
     "data": {
      "text/html": [
       "<table class=\"dataframe\">\n",
       "<caption>A tibble: 1 × 4</caption>\n",
       "<thead>\n",
       "\t<tr><th scope=col>home</th><th scope=col>Bedroom_AbvGr</th><th scope=col>Year_Built</th><th scope=col>id</th></tr>\n",
       "\t<tr><th scope=col>&lt;chr&gt;</th><th scope=col>&lt;int&gt;</th><th scope=col>&lt;int&gt;</th><th scope=col>&lt;int&gt;</th></tr>\n",
       "</thead>\n",
       "<tbody>\n",
       "\t<tr><td>home2</td><td>2</td><td>2008</td><td>424</td></tr>\n",
       "</tbody>\n",
       "</table>\n"
      ],
      "text/latex": [
       "A tibble: 1 × 4\n",
       "\\begin{tabular}{llll}\n",
       " home & Bedroom\\_AbvGr & Year\\_Built & id\\\\\n",
       " <chr> & <int> & <int> & <int>\\\\\n",
       "\\hline\n",
       "\t home2 & 2 & 2008 & 424\\\\\n",
       "\\end{tabular}\n"
      ],
      "text/markdown": [
       "\n",
       "A tibble: 1 × 4\n",
       "\n",
       "| home &lt;chr&gt; | Bedroom_AbvGr &lt;int&gt; | Year_Built &lt;int&gt; | id &lt;int&gt; |\n",
       "|---|---|---|---|\n",
       "| home2 | 2 | 2008 | 424 |\n",
       "\n"
      ],
      "text/plain": [
       "  home  Bedroom_AbvGr Year_Built id \n",
       "1 home2 2             2008       424"
      ]
     },
     "metadata": {},
     "output_type": "display_data"
    },
    {
     "data": {
      "text/html": [
       "<table class=\"dataframe\">\n",
       "<caption>A tibble: 1 × 4</caption>\n",
       "<thead>\n",
       "\t<tr><th scope=col>home</th><th scope=col>Bedroom_AbvGr</th><th scope=col>Year_Built</th><th scope=col>id</th></tr>\n",
       "\t<tr><th scope=col>&lt;chr&gt;</th><th scope=col>&lt;int&gt;</th><th scope=col>&lt;int&gt;</th><th scope=col>&lt;int&gt;</th></tr>\n",
       "</thead>\n",
       "<tbody>\n",
       "\t<tr><td>home3</td><td>3</td><td>1998</td><td>6</td></tr>\n",
       "</tbody>\n",
       "</table>\n"
      ],
      "text/latex": [
       "A tibble: 1 × 4\n",
       "\\begin{tabular}{llll}\n",
       " home & Bedroom\\_AbvGr & Year\\_Built & id\\\\\n",
       " <chr> & <int> & <int> & <int>\\\\\n",
       "\\hline\n",
       "\t home3 & 3 & 1998 & 6\\\\\n",
       "\\end{tabular}\n"
      ],
      "text/markdown": [
       "\n",
       "A tibble: 1 × 4\n",
       "\n",
       "| home &lt;chr&gt; | Bedroom_AbvGr &lt;int&gt; | Year_Built &lt;int&gt; | id &lt;int&gt; |\n",
       "|---|---|---|---|\n",
       "| home3 | 3 | 1998 | 6 |\n",
       "\n"
      ],
      "text/plain": [
       "  home  Bedroom_AbvGr Year_Built id\n",
       "1 home3 3             1998       6 "
      ]
     },
     "metadata": {},
     "output_type": "display_data"
    }
   ],
   "source": [
    "home1 ; home2 ; home3"
   ]
  },
  {
   "cell_type": "markdown",
   "id": "ca329c0f",
   "metadata": {},
   "source": [
    "#### Year_Built의 차이로 인하여 home1과 home2사이의 유클리드 거리보다, home1과 home3사이의 유클리드 거리가 더 크다"
   ]
  },
  {
   "cell_type": "code",
   "execution_count": 16,
   "id": "98d072b8",
   "metadata": {},
   "outputs": [
    {
     "data": {
      "text/plain": [
       "  1\n",
       "2 2"
      ]
     },
     "metadata": {},
     "output_type": "display_data"
    },
    {
     "data": {
      "text/plain": [
       "         1\n",
       "2 10.04988"
      ]
     },
     "metadata": {},
     "output_type": "display_data"
    }
   ],
   "source": [
    "features <- c(\"Bedroom_AbvGr\", \"Year_Built\")\n",
    "dist(rbind(home1[,features], home2[,features]))\n",
    "dist(rbind(home1[,features], home3[,features]))"
   ]
  },
  {
   "cell_type": "markdown",
   "id": "8927d8c1",
   "metadata": {},
   "source": [
    "#### 표준화 실행"
   ]
  },
  {
   "cell_type": "code",
   "execution_count": 17,
   "id": "26f54711",
   "metadata": {},
   "outputs": [],
   "source": [
    "scaled_ames <- recipe(Sale_Price ~ ., ames_train) %>%\n",
    "  step_center(all_numeric()) %>%\n",
    "  step_scale(all_numeric()) %>%\n",
    "  prep(ames, retain = TRUE) %>%\n",
    "  bake(ames)"
   ]
  },
  {
   "cell_type": "code",
   "execution_count": 18,
   "id": "196f863c",
   "metadata": {},
   "outputs": [],
   "source": [
    "home1_std <- scaled_ames %>%\n",
    "  mutate(id = row_number()) %>%\n",
    "  filter(id == home1$id) %>%\n",
    "  select(Bedroom_AbvGr, Year_Built, id) %>%\n",
    "  mutate(home = \"home1\") %>%\n",
    "  select(home, everything())\n",
    "\n",
    "home2_std <- scaled_ames %>%\n",
    "  mutate(id = row_number()) %>%\n",
    "  filter(id == home2$id) %>%\n",
    "  select(Bedroom_AbvGr, Year_Built, id) %>%\n",
    "  mutate(home = \"home2\") %>%\n",
    "  select(home, everything())\n",
    "\n",
    "home3_std <- scaled_ames %>%\n",
    "  mutate(id = row_number()) %>%\n",
    "  filter(id == home3$id) %>%\n",
    "  select(Bedroom_AbvGr, Year_Built, id) %>%\n",
    "  mutate(home = \"home3\") %>%\n",
    "  select(home, everything())"
   ]
  },
  {
   "cell_type": "code",
   "execution_count": 19,
   "id": "a2c8c1cc",
   "metadata": {},
   "outputs": [
    {
     "data": {
      "text/html": [
       "<table class=\"dataframe\">\n",
       "<caption>A tibble: 1 × 4</caption>\n",
       "<thead>\n",
       "\t<tr><th scope=col>home</th><th scope=col>Bedroom_AbvGr</th><th scope=col>Year_Built</th><th scope=col>id</th></tr>\n",
       "\t<tr><th scope=col>&lt;chr&gt;</th><th scope=col>&lt;dbl&gt;</th><th scope=col>&lt;dbl&gt;</th><th scope=col>&lt;int&gt;</th></tr>\n",
       "</thead>\n",
       "<tbody>\n",
       "\t<tr><td>home1</td><td>1.384186</td><td>1.211547</td><td>423</td></tr>\n",
       "</tbody>\n",
       "</table>\n"
      ],
      "text/latex": [
       "A tibble: 1 × 4\n",
       "\\begin{tabular}{llll}\n",
       " home & Bedroom\\_AbvGr & Year\\_Built & id\\\\\n",
       " <chr> & <dbl> & <dbl> & <int>\\\\\n",
       "\\hline\n",
       "\t home1 & 1.384186 & 1.211547 & 423\\\\\n",
       "\\end{tabular}\n"
      ],
      "text/markdown": [
       "\n",
       "A tibble: 1 × 4\n",
       "\n",
       "| home &lt;chr&gt; | Bedroom_AbvGr &lt;dbl&gt; | Year_Built &lt;dbl&gt; | id &lt;int&gt; |\n",
       "|---|---|---|---|\n",
       "| home1 | 1.384186 | 1.211547 | 423 |\n",
       "\n"
      ],
      "text/plain": [
       "  home  Bedroom_AbvGr Year_Built id \n",
       "1 home1 1.384186      1.211547   423"
      ]
     },
     "metadata": {},
     "output_type": "display_data"
    },
    {
     "data": {
      "text/html": [
       "<table class=\"dataframe\">\n",
       "<caption>A tibble: 1 × 4</caption>\n",
       "<thead>\n",
       "\t<tr><th scope=col>home</th><th scope=col>Bedroom_AbvGr</th><th scope=col>Year_Built</th><th scope=col>id</th></tr>\n",
       "\t<tr><th scope=col>&lt;chr&gt;</th><th scope=col>&lt;dbl&gt;</th><th scope=col>&lt;dbl&gt;</th><th scope=col>&lt;int&gt;</th></tr>\n",
       "</thead>\n",
       "<tbody>\n",
       "\t<tr><td>home2</td><td>-1.032058</td><td>1.211547</td><td>424</td></tr>\n",
       "</tbody>\n",
       "</table>\n"
      ],
      "text/latex": [
       "A tibble: 1 × 4\n",
       "\\begin{tabular}{llll}\n",
       " home & Bedroom\\_AbvGr & Year\\_Built & id\\\\\n",
       " <chr> & <dbl> & <dbl> & <int>\\\\\n",
       "\\hline\n",
       "\t home2 & -1.032058 & 1.211547 & 424\\\\\n",
       "\\end{tabular}\n"
      ],
      "text/markdown": [
       "\n",
       "A tibble: 1 × 4\n",
       "\n",
       "| home &lt;chr&gt; | Bedroom_AbvGr &lt;dbl&gt; | Year_Built &lt;dbl&gt; | id &lt;int&gt; |\n",
       "|---|---|---|---|\n",
       "| home2 | -1.032058 | 1.211547 | 424 |\n",
       "\n"
      ],
      "text/plain": [
       "  home  Bedroom_AbvGr Year_Built id \n",
       "1 home2 -1.032058     1.211547   424"
      ]
     },
     "metadata": {},
     "output_type": "display_data"
    },
    {
     "data": {
      "text/html": [
       "<table class=\"dataframe\">\n",
       "<caption>A tibble: 1 × 4</caption>\n",
       "<thead>\n",
       "\t<tr><th scope=col>home</th><th scope=col>Bedroom_AbvGr</th><th scope=col>Year_Built</th><th scope=col>id</th></tr>\n",
       "\t<tr><th scope=col>&lt;chr&gt;</th><th scope=col>&lt;dbl&gt;</th><th scope=col>&lt;dbl&gt;</th><th scope=col>&lt;int&gt;</th></tr>\n",
       "</thead>\n",
       "<tbody>\n",
       "\t<tr><td>home3</td><td>0.1760642</td><td>0.8809181</td><td>6</td></tr>\n",
       "</tbody>\n",
       "</table>\n"
      ],
      "text/latex": [
       "A tibble: 1 × 4\n",
       "\\begin{tabular}{llll}\n",
       " home & Bedroom\\_AbvGr & Year\\_Built & id\\\\\n",
       " <chr> & <dbl> & <dbl> & <int>\\\\\n",
       "\\hline\n",
       "\t home3 & 0.1760642 & 0.8809181 & 6\\\\\n",
       "\\end{tabular}\n"
      ],
      "text/markdown": [
       "\n",
       "A tibble: 1 × 4\n",
       "\n",
       "| home &lt;chr&gt; | Bedroom_AbvGr &lt;dbl&gt; | Year_Built &lt;dbl&gt; | id &lt;int&gt; |\n",
       "|---|---|---|---|\n",
       "| home3 | 0.1760642 | 0.8809181 | 6 |\n",
       "\n"
      ],
      "text/plain": [
       "  home  Bedroom_AbvGr Year_Built id\n",
       "1 home3 0.1760642     0.8809181  6 "
      ]
     },
     "metadata": {},
     "output_type": "display_data"
    }
   ],
   "source": [
    "home1_std ; home2_std ; home3_std"
   ]
  },
  {
   "cell_type": "markdown",
   "id": "dec9647e",
   "metadata": {},
   "source": [
    "#### 표준화 이후 유클리드 거리는 비슷해짐"
   ]
  },
  {
   "cell_type": "code",
   "execution_count": 20,
   "id": "759c02b7",
   "metadata": {},
   "outputs": [
    {
     "data": {
      "text/plain": [
       "         1\n",
       "2 2.416244"
      ]
     },
     "metadata": {},
     "output_type": "display_data"
    },
    {
     "data": {
      "text/plain": [
       "         1\n",
       "2 1.252547"
      ]
     },
     "metadata": {},
     "output_type": "display_data"
    }
   ],
   "source": [
    "dist(rbind(home1_std[,features], home2_std[,features]))\n",
    "dist(rbind(home1_std[,features], home3_std[,features]))"
   ]
  },
  {
   "cell_type": "markdown",
   "id": "00358fa1",
   "metadata": {},
   "source": [
    "- 숫자 특징을 표준화하는 것 외에도 모든 범주 특징은 원-핫 인코딩되거나 다른 방법(예: 순서 인코딩)을 사용하여 인코딩되어 모든 범주 특징이 숫자로 표현되어야함\n",
    "- KNN 방법은 유사한 샘플이 더 큰 크기와 거리 값의 가변성을 갖도록 하기 때문에 노이즈이 많은 예측 변수에 매우 민감\n",
    "- 결과적으로 관련이 없고 노이즈가 있는 변수들을 제거하면 종종 상당한 개선으로 이어짐"
   ]
  },
  {
   "cell_type": "markdown",
   "id": "37317f11",
   "metadata": {},
   "source": [
    "### K 선택하기\n",
    "- 일반적인 규칙은 없음\n",
    "- 홀수로 설정하는 것이 가장 좋음 (동점을 피할 수 있음)"
   ]
  },
  {
   "cell_type": "code",
   "execution_count": 21,
   "id": "7abb9363",
   "metadata": {},
   "outputs": [],
   "source": [
    "blueprint <- recipe(Attrition ~ ., data = churn_train) %>%\n",
    "  step_nzv(all_nominal()) %>%\n",
    "  step_integer(contains(\"Satisfaction\")) %>%\n",
    "  step_integer(WorkLifeBalance) %>%\n",
    "  step_integer(JobInvolvement) %>%\n",
    "  step_dummy(all_nominal(), -all_outcomes(), one_hot = TRUE) %>%\n",
    "  step_center(all_numeric(), -all_outcomes()) %>%\n",
    "  step_scale(all_numeric(), -all_outcomes())"
   ]
  },
  {
   "cell_type": "markdown",
   "id": "9dcb4cce",
   "metadata": {},
   "source": [
    "\n",
    "- ```summaryFunction```옵션은 관측값과 예측값을 취하여 성능 측도를 추정하는 함수에서 사용된다. **twoClassSummary는 ROC 곡선 아래의 면적, 민감도 및 특이도와 같은 2-집단(class) 문제에 대한 측도를 계산한다.**\n",
    "- ROC 곡선은 예측된 클래스 확률(자동으로 계산되지 않음)을 기반으로 하므로 다른 옵션이 필요하다. ```classProbs = TRUE``` 옵션은 이러한 계산을 포함하는 데 사용된다."
   ]
  },
  {
   "cell_type": "code",
   "execution_count": 22,
   "id": "63f5b564",
   "metadata": {},
   "outputs": [],
   "source": [
    "cv <- trainControl(\n",
    "  method = \"repeatedcv\", \n",
    "  number = 10, \n",
    "  repeats = 5,\n",
    "  classProbs = TRUE,                 \n",
    "  summaryFunction = twoClassSummary\n",
    ")"
   ]
  },
  {
   "cell_type": "code",
   "execution_count": 23,
   "id": "8fbec06d",
   "metadata": {},
   "outputs": [],
   "source": [
    "hyper_grid <- expand.grid(\n",
    "  k = floor(seq(1, nrow(churn_train)/3, length.out = 20))\n",
    ")"
   ]
  },
  {
   "cell_type": "code",
   "execution_count": 24,
   "id": "3a254caf",
   "metadata": {},
   "outputs": [],
   "source": [
    "knn_grid <- train(\n",
    "  blueprint, \n",
    "  data = churn_train, \n",
    "  method = \"knn\", \n",
    "  trControl = cv, \n",
    "  tuneGrid = hyper_grid,\n",
    "  metric = \"ROC\"\n",
    ")"
   ]
  },
  {
   "cell_type": "code",
   "execution_count": 25,
   "id": "5ff3fc8d",
   "metadata": {},
   "outputs": [
    {
     "data": {
      "image/png": "[encoded data removed]",
      "text/plain": [
       "plot without title"
      ]
     },
     "metadata": {
      "image/png": {
       "height": 420,
       "width": 420
      }
     },
     "output_type": "display_data"
    }
   ],
   "source": [
    "ggplot(knn_grid)"
   ]
  },
  {
   "cell_type": "markdown",
   "id": "f399a52b",
   "metadata": {},
   "source": [
    "### MNIST 예제"
   ]
  },
  {
   "cell_type": "markdown",
   "id": "8b72db8c",
   "metadata": {},
   "source": [
    "- MNIST 데이터는 손으로 쓴 숫자(0~9) 이미지에서 픽셀의 명도(0~255)를 나타내는 784개의 변수로 구성\n",
    "- KNN모델은 관련 없는 변수에의해 심각한 영향을 받을 수 있음 (0 또는 0에 가까운 분산을 가진 변수)"
   ]
  },
  {
   "cell_type": "code",
   "execution_count": 119,
   "id": "9e26c90c",
   "metadata": {},
   "outputs": [],
   "source": [
    "library(tidyr)\n",
    "library(purrr)"
   ]
  },
  {
   "cell_type": "code",
   "execution_count": 46,
   "id": "be8d13b5",
   "metadata": {
    "scrolled": false
   },
   "outputs": [
    {
     "name": "stdout",
     "output_type": "stream",
     "text": [
      "List of 2\n",
      " $ train:List of 2\n",
      "  ..$ images: int [1:60000, 1:784] 0 0 0 0 0 0 0 0 0 0 ...\n",
      "  ..$ labels: int [1:60000] 5 0 4 1 9 2 1 3 1 4 ...\n",
      " $ test :List of 2\n",
      "  ..$ images: int [1:10000, 1:784] 0 0 0 0 0 0 0 0 0 0 ...\n",
      "  ..$ labels: int [1:10000] 7 2 1 0 4 1 4 9 5 9 ...\n"
     ]
    }
   ],
   "source": [
    "str(mnist)"
   ]
  },
  {
   "cell_type": "code",
   "execution_count": 90,
   "id": "7743885d",
   "metadata": {},
   "outputs": [
    {
     "data": {
      "text/html": [
       "<style>\n",
       ".list-inline {list-style: none; margin:0; padding: 0}\n",
       ".list-inline>li {display: inline-block}\n",
       ".list-inline>li:not(:last-child)::after {content: \"\\00b7\"; padding: 0 .5ex}\n",
       "</style>\n",
       "<ol class=list-inline><li>60000</li><li>784</li></ol>\n"
      ],
      "text/latex": [
       "\\begin{enumerate*}\n",
       "\\item 60000\n",
       "\\item 784\n",
       "\\end{enumerate*}\n"
      ],
      "text/markdown": [
       "1. 60000\n",
       "2. 784\n",
       "\n",
       "\n"
      ],
      "text/plain": [
       "[1] 60000   784"
      ]
     },
     "metadata": {},
     "output_type": "display_data"
    }
   ],
   "source": [
    "dim(mnist$train$images)"
   ]
  },
  {
   "cell_type": "code",
   "execution_count": 47,
   "id": "298b71b3",
   "metadata": {},
   "outputs": [],
   "source": [
    "set.seed(123)\n",
    "index <- sample(nrow(mnist$train$images), size = 10000)\n",
    "mnist_x <- mnist$train$images[index, ]\n",
    "mnist_y <- factor(mnist$train$labels[index])"
   ]
  },
  {
   "cell_type": "code",
   "execution_count": 54,
   "id": "0490003f",
   "metadata": {
    "scrolled": true
   },
   "outputs": [
    {
     "data": {
      "text/html": [
       "<style>\n",
       ".list-inline {list-style: none; margin:0; padding: 0}\n",
       ".list-inline>li {display: inline-block}\n",
       ".list-inline>li:not(:last-child)::after {content: \"\\00b7\"; padding: 0 .5ex}\n",
       "</style>\n",
       "<ol class=list-inline><li>10000</li><li>784</li></ol>\n"
      ],
      "text/latex": [
       "\\begin{enumerate*}\n",
       "\\item 10000\n",
       "\\item 784\n",
       "\\end{enumerate*}\n"
      ],
      "text/markdown": [
       "1. 10000\n",
       "2. 784\n",
       "\n",
       "\n"
      ],
      "text/plain": [
       "[1] 10000   784"
      ]
     },
     "metadata": {},
     "output_type": "display_data"
    },
    {
     "data": {
      "text/html": [
       "10000"
      ],
      "text/latex": [
       "10000"
      ],
      "text/markdown": [
       "10000"
      ],
      "text/plain": [
       "[1] 10000"
      ]
     },
     "metadata": {},
     "output_type": "display_data"
    }
   ],
   "source": [
    "dim(mnist_x) ; length(mnist_y)"
   ]
  },
  {
   "cell_type": "markdown",
   "id": "9c5f5448",
   "metadata": {},
   "source": [
    "#### 분산이 0인 변수의 개수가 약 120개\n",
    "- KNN을 위해 제거필요"
   ]
  },
  {
   "cell_type": "code",
   "execution_count": 60,
   "id": "e03a13cd",
   "metadata": {
    "scrolled": true
   },
   "outputs": [
    {
     "data": {
      "text/html": [
       "<table class=\"dataframe\">\n",
       "<caption>A tibble: 6 × 2</caption>\n",
       "<thead>\n",
       "\t<tr><th scope=col>feature</th><th scope=col>sd</th></tr>\n",
       "\t<tr><th scope=col>&lt;chr&gt;</th><th scope=col>&lt;dbl&gt;</th></tr>\n",
       "</thead>\n",
       "<tbody>\n",
       "\t<tr><td>V1</td><td>0</td></tr>\n",
       "\t<tr><td>V2</td><td>0</td></tr>\n",
       "\t<tr><td>V3</td><td>0</td></tr>\n",
       "\t<tr><td>V4</td><td>0</td></tr>\n",
       "\t<tr><td>V5</td><td>0</td></tr>\n",
       "\t<tr><td>V6</td><td>0</td></tr>\n",
       "</tbody>\n",
       "</table>\n"
      ],
      "text/latex": [
       "A tibble: 6 × 2\n",
       "\\begin{tabular}{ll}\n",
       " feature & sd\\\\\n",
       " <chr> & <dbl>\\\\\n",
       "\\hline\n",
       "\t V1 & 0\\\\\n",
       "\t V2 & 0\\\\\n",
       "\t V3 & 0\\\\\n",
       "\t V4 & 0\\\\\n",
       "\t V5 & 0\\\\\n",
       "\t V6 & 0\\\\\n",
       "\\end{tabular}\n"
      ],
      "text/markdown": [
       "\n",
       "A tibble: 6 × 2\n",
       "\n",
       "| feature &lt;chr&gt; | sd &lt;dbl&gt; |\n",
       "|---|---|\n",
       "| V1 | 0 |\n",
       "| V2 | 0 |\n",
       "| V3 | 0 |\n",
       "| V4 | 0 |\n",
       "| V5 | 0 |\n",
       "| V6 | 0 |\n",
       "\n"
      ],
      "text/plain": [
       "  feature sd\n",
       "1 V1      0 \n",
       "2 V2      0 \n",
       "3 V3      0 \n",
       "4 V4      0 \n",
       "5 V5      0 \n",
       "6 V6      0 "
      ]
     },
     "metadata": {},
     "output_type": "display_data"
    }
   ],
   "source": [
    "mnist_x %>% as.data.frame() %>% map_df(sd) %>%  gather(feature, sd) %>% head"
   ]
  },
  {
   "cell_type": "code",
   "execution_count": 51,
   "id": "663ba629",
   "metadata": {
    "scrolled": true
   },
   "outputs": [
    {
     "data": {
      "image/png": "[encoded data removed]",
      "text/plain": [
       "plot without title"
      ]
     },
     "metadata": {
      "image/png": {
       "height": 420,
       "width": 420
      }
     },
     "output_type": "display_data"
    }
   ],
   "source": [
    "mnist_x %>%\n",
    "  as.data.frame() %>%\n",
    "  map_df(sd) %>%\n",
    "  gather(feature, sd) %>%\n",
    "  ggplot(aes(sd)) +\n",
    "  geom_histogram(binwidth = 1)"
   ]
  },
  {
   "cell_type": "markdown",
   "id": "ff117891",
   "metadata": {},
   "source": [
    "#### 분산이 0에 근접한 변수 식별"
   ]
  },
  {
   "cell_type": "code",
   "execution_count": 103,
   "id": "6b5262c1",
   "metadata": {},
   "outputs": [],
   "source": [
    "nzv <- nearZeroVar(mnist_x)"
   ]
  },
  {
   "cell_type": "code",
   "execution_count": 117,
   "id": "07a2ec85",
   "metadata": {},
   "outputs": [
    {
     "data": {
      "image/png": "[encoded data removed]",
      "text/plain": [
       "Plot with title \"(A) Example image \n",
       "for digit 2\""
      ]
     },
     "metadata": {
      "image/png": {
       "height": 420,
       "width": 420
      }
     },
     "output_type": "display_data"
    },
    {
     "data": {
      "image/png": "[encoded data removed]",
      "text/plain": [
       "Plot with title \"(B) Example image \n",
       "for digit 4\""
      ]
     },
     "metadata": {
      "image/png": {
       "height": 420,
       "width": 420
      }
     },
     "output_type": "display_data"
    },
    {
     "data": {
      "image/png": "[encoded data removed]",
      "text/plain": [
       "Plot with title \"(C) Example image \n",
       "for digit 5\""
      ]
     },
     "metadata": {
      "image/png": {
       "height": 420,
       "width": 420
      }
     },
     "output_type": "display_data"
    }
   ],
   "source": [
    "i <- 2\n",
    "image(1:28, 1:28, matrix(mnist$test$images[i,], nrow=28)[ , 28:1], \n",
    "      col = gray(seq(0, 1, 0.05)), xlab = \"\", ylab=\"\", \n",
    "      xaxt=\"n\", yaxt=\"n\", main = \"(A) Example image \\nfor digit 2\")\n",
    "\n",
    "i <- 7\n",
    "image(1:28, 1:28, matrix(mnist$test$images[i,], nrow=28)[ , 28:1], \n",
    "      col = gray(seq(0, 1, 0.05)), xlab = \"\", ylab=\"\", \n",
    "      xaxt=\"n\", yaxt=\"n\", main = \"(B) Example image \\nfor digit 4\")\n",
    "\n",
    "i <- 9\n",
    "image(1:28, 1:28, matrix(mnist$test$images[i,], nrow=28)[ , 28:1], \n",
    "      col = gray(seq(0, 1, 0.05)), xlab = \"\", ylab=\"\", \n",
    "      xaxt=\"n\", yaxt=\"n\", main = \"(C) Example image \\nfor digit 5\")"
   ]
  },
  {
   "cell_type": "code",
   "execution_count": 79,
   "id": "047814b1",
   "metadata": {},
   "outputs": [],
   "source": [
    "colnames(mnist_x) <- paste0(\"V\", 1:ncol(mnist_x))"
   ]
  },
  {
   "cell_type": "markdown",
   "id": "9a0eacc6",
   "metadata": {},
   "source": [
    "#### 0에 가까운 분산을 가진 열을 제거"
   ]
  },
  {
   "cell_type": "code",
   "execution_count": 150,
   "id": "6e7447cd",
   "metadata": {},
   "outputs": [],
   "source": [
    "nzv <- nearZeroVar(mnist_x)\n",
    "index <- setdiff(1:ncol(mnist_x), nzv)\n",
    "mnist_x <- mnist_x[, index]"
   ]
  },
  {
   "cell_type": "code",
   "execution_count": 82,
   "id": "7c8faced",
   "metadata": {},
   "outputs": [],
   "source": [
    "cv <- trainControl(\n",
    "  method = \"LGOCV\", \n",
    "  p = 0.7,\n",
    "  number = 1,\n",
    "  savePredictions = TRUE\n",
    ")"
   ]
  },
  {
   "cell_type": "code",
   "execution_count": 84,
   "id": "15d498db",
   "metadata": {},
   "outputs": [
    {
     "data": {
      "text/html": [
       "<table class=\"dataframe\">\n",
       "<caption>A data.frame: 6 × 1</caption>\n",
       "<thead>\n",
       "\t<tr><th></th><th scope=col>k</th></tr>\n",
       "\t<tr><th></th><th scope=col>&lt;dbl&gt;</th></tr>\n",
       "</thead>\n",
       "<tbody>\n",
       "\t<tr><th scope=row>1</th><td> 3</td></tr>\n",
       "\t<tr><th scope=row>2</th><td> 5</td></tr>\n",
       "\t<tr><th scope=row>3</th><td> 7</td></tr>\n",
       "\t<tr><th scope=row>4</th><td> 9</td></tr>\n",
       "\t<tr><th scope=row>5</th><td>11</td></tr>\n",
       "\t<tr><th scope=row>6</th><td>13</td></tr>\n",
       "</tbody>\n",
       "</table>\n"
      ],
      "text/latex": [
       "A data.frame: 6 × 1\n",
       "\\begin{tabular}{r|l}\n",
       "  & k\\\\\n",
       "  & <dbl>\\\\\n",
       "\\hline\n",
       "\t1 &  3\\\\\n",
       "\t2 &  5\\\\\n",
       "\t3 &  7\\\\\n",
       "\t4 &  9\\\\\n",
       "\t5 & 11\\\\\n",
       "\t6 & 13\\\\\n",
       "\\end{tabular}\n"
      ],
      "text/markdown": [
       "\n",
       "A data.frame: 6 × 1\n",
       "\n",
       "| <!--/--> | k &lt;dbl&gt; |\n",
       "|---|---|\n",
       "| 1 |  3 |\n",
       "| 2 |  5 |\n",
       "| 3 |  7 |\n",
       "| 4 |  9 |\n",
       "| 5 | 11 |\n",
       "| 6 | 13 |\n",
       "\n"
      ],
      "text/plain": [
       "  k \n",
       "1  3\n",
       "2  5\n",
       "3  7\n",
       "4  9\n",
       "5 11\n",
       "6 13"
      ]
     },
     "metadata": {},
     "output_type": "display_data"
    }
   ],
   "source": [
    "hyper_grid <- expand.grid(k = seq(3, 25, by = 2))\n",
    "hyper_grid %>% head"
   ]
  },
  {
   "cell_type": "code",
   "execution_count": 85,
   "id": "eac845ac",
   "metadata": {},
   "outputs": [],
   "source": [
    "knn_mnist <- train(\n",
    "  mnist_x,\n",
    "  mnist_y,\n",
    "  method = \"knn\",\n",
    "  tuneGrid = hyper_grid,\n",
    "  preProc = c(\"center\", \"scale\"),\n",
    "  trControl = cv\n",
    ")"
   ]
  },
  {
   "cell_type": "code",
   "execution_count": 86,
   "id": "c1081c80",
   "metadata": {},
   "outputs": [
    {
     "data": {
      "image/png": "[encoded data removed]",
      "text/plain": [
       "plot without title"
      ]
     },
     "metadata": {
      "image/png": {
       "height": 420,
       "width": 420
      }
     },
     "output_type": "display_data"
    }
   ],
   "source": [
    "ggplot(knn_mnist)"
   ]
  },
  {
   "cell_type": "markdown",
   "id": "a91631a3",
   "metadata": {},
   "source": [
    "### 혼동행령"
   ]
  },
  {
   "cell_type": "code",
   "execution_count": 109,
   "id": "7b422551",
   "metadata": {
    "scrolled": true
   },
   "outputs": [],
   "source": [
    "cm <- confusionMatrix(knn_mnist$pred$pred, knn_mnist$pred$obs)"
   ]
  },
  {
   "cell_type": "code",
   "execution_count": 110,
   "id": "fc6133f8",
   "metadata": {},
   "outputs": [
    {
     "data": {
      "text/html": [
       "<dl>\n",
       "\t<dt>$names</dt>\n",
       "\t\t<dd><style>\n",
       ".list-inline {list-style: none; margin:0; padding: 0}\n",
       ".list-inline>li {display: inline-block}\n",
       ".list-inline>li:not(:last-child)::after {content: \"\\00b7\"; padding: 0 .5ex}\n",
       "</style>\n",
       "<ol class=list-inline><li>'positive'</li><li>'table'</li><li>'overall'</li><li>'byClass'</li><li>'mode'</li><li>'dots'</li></ol>\n",
       "</dd>\n",
       "\t<dt>$class</dt>\n",
       "\t\t<dd>'confusionMatrix'</dd>\n",
       "</dl>\n"
      ],
      "text/latex": [
       "\\begin{description}\n",
       "\\item[\\$names] \\begin{enumerate*}\n",
       "\\item 'positive'\n",
       "\\item 'table'\n",
       "\\item 'overall'\n",
       "\\item 'byClass'\n",
       "\\item 'mode'\n",
       "\\item 'dots'\n",
       "\\end{enumerate*}\n",
       "\n",
       "\\item[\\$class] 'confusionMatrix'\n",
       "\\end{description}\n"
      ],
      "text/markdown": [
       "$names\n",
       ":   1. 'positive'\n",
       "2. 'table'\n",
       "3. 'overall'\n",
       "4. 'byClass'\n",
       "5. 'mode'\n",
       "6. 'dots'\n",
       "\n",
       "\n",
       "\n",
       "$class\n",
       ":   'confusionMatrix'\n",
       "\n",
       "\n"
      ],
      "text/plain": [
       "$names\n",
       "[1] \"positive\" \"table\"    \"overall\"  \"byClass\"  \"mode\"     \"dots\"    \n",
       "\n",
       "$class\n",
       "[1] \"confusionMatrix\"\n"
      ]
     },
     "metadata": {},
     "output_type": "display_data"
    }
   ],
   "source": [
    "attributes(cm)"
   ]
  },
  {
   "cell_type": "code",
   "execution_count": 111,
   "id": "5f7935f3",
   "metadata": {},
   "outputs": [
    {
     "data": {
      "text/html": [
       "<table class=\"dataframe\">\n",
       "<caption>A matrix: 10 × 11 of type dbl</caption>\n",
       "<thead>\n",
       "\t<tr><th></th><th scope=col>Sensitivity</th><th scope=col>Specificity</th><th scope=col>Pos Pred Value</th><th scope=col>Neg Pred Value</th><th scope=col>Precision</th><th scope=col>Recall</th><th scope=col>F1</th><th scope=col>Prevalence</th><th scope=col>Detection Rate</th><th scope=col>Detection Prevalence</th><th scope=col>Balanced Accuracy</th></tr>\n",
       "</thead>\n",
       "<tbody>\n",
       "\t<tr><th scope=row>Class: 0</th><td>0.9641638</td><td>0.9962374</td><td>0.9652620</td><td>0.9961145</td><td>0.9652620</td><td>0.9641638</td><td>0.9647126</td><td>0.09782972</td><td>0.09432387</td><td>0.09771842</td><td>0.9802006</td></tr>\n",
       "\t<tr><th scope=row>Class: 1</th><td>0.9916667</td><td>0.9841210</td><td>0.8920540</td><td>0.9988808</td><td>0.8920540</td><td>0.9916667</td><td>0.9392265</td><td>0.11686144</td><td>0.11588759</td><td>0.12991096</td><td>0.9878938</td></tr>\n",
       "\t<tr><th scope=row>Class: 2</th><td>0.9155666</td><td>0.9955114</td><td>0.9582614</td><td>0.9905440</td><td>0.9582614</td><td>0.9155666</td><td>0.9364276</td><td>0.10116861</td><td>0.09262660</td><td>0.09666110</td><td>0.9555390</td></tr>\n",
       "\t<tr><th scope=row>Class: 3</th><td>0.9163952</td><td>0.9920325</td><td>0.9292596</td><td>0.9904665</td><td>0.9292596</td><td>0.9163952</td><td>0.9227826</td><td>0.10250417</td><td>0.09393434</td><td>0.10108514</td><td>0.9542139</td></tr>\n",
       "\t<tr><th scope=row>Class: 4</th><td>0.8698630</td><td>0.9960538</td><td>0.9596977</td><td>0.9860823</td><td>0.9596977</td><td>0.8698630</td><td>0.9125749</td><td>0.09749583</td><td>0.08480801</td><td>0.08836950</td><td>0.9329584</td></tr>\n",
       "\t<tr><th scope=row>Class: 5</th><td>0.9151404</td><td>0.9914891</td><td>0.9151404</td><td>0.9914891</td><td>0.9151404</td><td>0.9151404</td><td>0.9151404</td><td>0.09115192</td><td>0.08341681</td><td>0.09115192</td><td>0.9533148</td></tr>\n",
       "\t<tr><th scope=row>Class: 6</th><td>0.9795322</td><td>0.9888684</td><td>0.9024784</td><td>0.9978280</td><td>0.9024784</td><td>0.9795322</td><td>0.9394279</td><td>0.09515860</td><td>0.09321091</td><td>0.10328325</td><td>0.9842003</td></tr>\n",
       "\t<tr><th scope=row>Class: 7</th><td>0.9326520</td><td>0.9896962</td><td>0.9149100</td><td>0.9919813</td><td>0.9149100</td><td>0.9326520</td><td>0.9236958</td><td>0.10617696</td><td>0.09902615</td><td>0.10823595</td><td>0.9611741</td></tr>\n",
       "\t<tr><th scope=row>Class: 8</th><td>0.8224382</td><td>0.9978798</td><td>0.9758910</td><td>0.9817704</td><td>0.9758910</td><td>0.8224382</td><td>0.8926174</td><td>0.09449082</td><td>0.07771285</td><td>0.07963272</td><td>0.9101590</td></tr>\n",
       "\t<tr><th scope=row>Class: 9</th><td>0.9329897</td><td>0.9852687</td><td>0.8720557</td><td>0.9927338</td><td>0.8720557</td><td>0.9329897</td><td>0.9014942</td><td>0.09716194</td><td>0.09065109</td><td>0.10395103</td><td>0.9591292</td></tr>\n",
       "</tbody>\n",
       "</table>\n"
      ],
      "text/latex": [
       "A matrix: 10 × 11 of type dbl\n",
       "\\begin{tabular}{r|lllllllllll}\n",
       "  & Sensitivity & Specificity & Pos Pred Value & Neg Pred Value & Precision & Recall & F1 & Prevalence & Detection Rate & Detection Prevalence & Balanced Accuracy\\\\\n",
       "\\hline\n",
       "\tClass: 0 & 0.9641638 & 0.9962374 & 0.9652620 & 0.9961145 & 0.9652620 & 0.9641638 & 0.9647126 & 0.09782972 & 0.09432387 & 0.09771842 & 0.9802006\\\\\n",
       "\tClass: 1 & 0.9916667 & 0.9841210 & 0.8920540 & 0.9988808 & 0.8920540 & 0.9916667 & 0.9392265 & 0.11686144 & 0.11588759 & 0.12991096 & 0.9878938\\\\\n",
       "\tClass: 2 & 0.9155666 & 0.9955114 & 0.9582614 & 0.9905440 & 0.9582614 & 0.9155666 & 0.9364276 & 0.10116861 & 0.09262660 & 0.09666110 & 0.9555390\\\\\n",
       "\tClass: 3 & 0.9163952 & 0.9920325 & 0.9292596 & 0.9904665 & 0.9292596 & 0.9163952 & 0.9227826 & 0.10250417 & 0.09393434 & 0.10108514 & 0.9542139\\\\\n",
       "\tClass: 4 & 0.8698630 & 0.9960538 & 0.9596977 & 0.9860823 & 0.9596977 & 0.8698630 & 0.9125749 & 0.09749583 & 0.08480801 & 0.08836950 & 0.9329584\\\\\n",
       "\tClass: 5 & 0.9151404 & 0.9914891 & 0.9151404 & 0.9914891 & 0.9151404 & 0.9151404 & 0.9151404 & 0.09115192 & 0.08341681 & 0.09115192 & 0.9533148\\\\\n",
       "\tClass: 6 & 0.9795322 & 0.9888684 & 0.9024784 & 0.9978280 & 0.9024784 & 0.9795322 & 0.9394279 & 0.09515860 & 0.09321091 & 0.10328325 & 0.9842003\\\\\n",
       "\tClass: 7 & 0.9326520 & 0.9896962 & 0.9149100 & 0.9919813 & 0.9149100 & 0.9326520 & 0.9236958 & 0.10617696 & 0.09902615 & 0.10823595 & 0.9611741\\\\\n",
       "\tClass: 8 & 0.8224382 & 0.9978798 & 0.9758910 & 0.9817704 & 0.9758910 & 0.8224382 & 0.8926174 & 0.09449082 & 0.07771285 & 0.07963272 & 0.9101590\\\\\n",
       "\tClass: 9 & 0.9329897 & 0.9852687 & 0.8720557 & 0.9927338 & 0.8720557 & 0.9329897 & 0.9014942 & 0.09716194 & 0.09065109 & 0.10395103 & 0.9591292\\\\\n",
       "\\end{tabular}\n"
      ],
      "text/markdown": [
       "\n",
       "A matrix: 10 × 11 of type dbl\n",
       "\n",
       "| <!--/--> | Sensitivity | Specificity | Pos Pred Value | Neg Pred Value | Precision | Recall | F1 | Prevalence | Detection Rate | Detection Prevalence | Balanced Accuracy |\n",
       "|---|---|---|---|---|---|---|---|---|---|---|---|\n",
       "| Class: 0 | 0.9641638 | 0.9962374 | 0.9652620 | 0.9961145 | 0.9652620 | 0.9641638 | 0.9647126 | 0.09782972 | 0.09432387 | 0.09771842 | 0.9802006 |\n",
       "| Class: 1 | 0.9916667 | 0.9841210 | 0.8920540 | 0.9988808 | 0.8920540 | 0.9916667 | 0.9392265 | 0.11686144 | 0.11588759 | 0.12991096 | 0.9878938 |\n",
       "| Class: 2 | 0.9155666 | 0.9955114 | 0.9582614 | 0.9905440 | 0.9582614 | 0.9155666 | 0.9364276 | 0.10116861 | 0.09262660 | 0.09666110 | 0.9555390 |\n",
       "| Class: 3 | 0.9163952 | 0.9920325 | 0.9292596 | 0.9904665 | 0.9292596 | 0.9163952 | 0.9227826 | 0.10250417 | 0.09393434 | 0.10108514 | 0.9542139 |\n",
       "| Class: 4 | 0.8698630 | 0.9960538 | 0.9596977 | 0.9860823 | 0.9596977 | 0.8698630 | 0.9125749 | 0.09749583 | 0.08480801 | 0.08836950 | 0.9329584 |\n",
       "| Class: 5 | 0.9151404 | 0.9914891 | 0.9151404 | 0.9914891 | 0.9151404 | 0.9151404 | 0.9151404 | 0.09115192 | 0.08341681 | 0.09115192 | 0.9533148 |\n",
       "| Class: 6 | 0.9795322 | 0.9888684 | 0.9024784 | 0.9978280 | 0.9024784 | 0.9795322 | 0.9394279 | 0.09515860 | 0.09321091 | 0.10328325 | 0.9842003 |\n",
       "| Class: 7 | 0.9326520 | 0.9896962 | 0.9149100 | 0.9919813 | 0.9149100 | 0.9326520 | 0.9236958 | 0.10617696 | 0.09902615 | 0.10823595 | 0.9611741 |\n",
       "| Class: 8 | 0.8224382 | 0.9978798 | 0.9758910 | 0.9817704 | 0.9758910 | 0.8224382 | 0.8926174 | 0.09449082 | 0.07771285 | 0.07963272 | 0.9101590 |\n",
       "| Class: 9 | 0.9329897 | 0.9852687 | 0.8720557 | 0.9927338 | 0.8720557 | 0.9329897 | 0.9014942 | 0.09716194 | 0.09065109 | 0.10395103 | 0.9591292 |\n",
       "\n"
      ],
      "text/plain": [
       "         Sensitivity Specificity Pos Pred Value Neg Pred Value Precision\n",
       "Class: 0 0.9641638   0.9962374   0.9652620      0.9961145      0.9652620\n",
       "Class: 1 0.9916667   0.9841210   0.8920540      0.9988808      0.8920540\n",
       "Class: 2 0.9155666   0.9955114   0.9582614      0.9905440      0.9582614\n",
       "Class: 3 0.9163952   0.9920325   0.9292596      0.9904665      0.9292596\n",
       "Class: 4 0.8698630   0.9960538   0.9596977      0.9860823      0.9596977\n",
       "Class: 5 0.9151404   0.9914891   0.9151404      0.9914891      0.9151404\n",
       "Class: 6 0.9795322   0.9888684   0.9024784      0.9978280      0.9024784\n",
       "Class: 7 0.9326520   0.9896962   0.9149100      0.9919813      0.9149100\n",
       "Class: 8 0.8224382   0.9978798   0.9758910      0.9817704      0.9758910\n",
       "Class: 9 0.9329897   0.9852687   0.8720557      0.9927338      0.8720557\n",
       "         Recall    F1        Prevalence Detection Rate Detection Prevalence\n",
       "Class: 0 0.9641638 0.9647126 0.09782972 0.09432387     0.09771842          \n",
       "Class: 1 0.9916667 0.9392265 0.11686144 0.11588759     0.12991096          \n",
       "Class: 2 0.9155666 0.9364276 0.10116861 0.09262660     0.09666110          \n",
       "Class: 3 0.9163952 0.9227826 0.10250417 0.09393434     0.10108514          \n",
       "Class: 4 0.8698630 0.9125749 0.09749583 0.08480801     0.08836950          \n",
       "Class: 5 0.9151404 0.9151404 0.09115192 0.08341681     0.09115192          \n",
       "Class: 6 0.9795322 0.9394279 0.09515860 0.09321091     0.10328325          \n",
       "Class: 7 0.9326520 0.9236958 0.10617696 0.09902615     0.10823595          \n",
       "Class: 8 0.8224382 0.8926174 0.09449082 0.07771285     0.07963272          \n",
       "Class: 9 0.9329897 0.9014942 0.09716194 0.09065109     0.10395103          \n",
       "         Balanced Accuracy\n",
       "Class: 0 0.9802006        \n",
       "Class: 1 0.9878938        \n",
       "Class: 2 0.9555390        \n",
       "Class: 3 0.9542139        \n",
       "Class: 4 0.9329584        \n",
       "Class: 5 0.9533148        \n",
       "Class: 6 0.9842003        \n",
       "Class: 7 0.9611741        \n",
       "Class: 8 0.9101590        \n",
       "Class: 9 0.9591292        "
      ]
     },
     "metadata": {},
     "output_type": "display_data"
    }
   ],
   "source": [
    "cm$byClass"
   ]
  },
  {
   "cell_type": "markdown",
   "id": "0e34888b",
   "metadata": {},
   "source": [
    "### 변수 중요도"
   ]
  },
  {
   "cell_type": "code",
   "execution_count": 133,
   "id": "35ead100",
   "metadata": {},
   "outputs": [
    {
     "data": {
      "text/plain": [
       "ROC curve variable importance\n",
       "\n",
       "  variables are sorted by maximum importance across the classes\n",
       "  only 20 most important variables shown (out of 249)\n",
       "\n",
       "         X0     X1     X2     X3     X4     X5     X6     X7     X8    X9\n",
       "V435 100.00 100.00 100.00 100.00 100.00 100.00 100.00 100.00 100.00 80.56\n",
       "V407  99.42  99.42  99.42  99.42  99.42  99.42  99.42  99.42  99.42 75.21\n",
       "V463  97.88  97.88  97.88  97.88  97.88  97.88  97.88  97.88  97.88 83.27\n",
       "V379  97.38  97.38  97.38  97.38  97.38  97.38  97.38  97.38  97.38 86.56\n",
       "V434  95.87  95.87  95.87  95.87  95.87  95.87  96.66  95.87  95.87 76.20\n",
       "V380  96.10  96.10  96.10  96.10  96.10  96.10  96.10  96.10  96.10 88.04\n",
       "V462  95.56  95.56  95.56  95.56  95.56  95.56  95.56  95.56  95.56 83.38\n",
       "V408  95.37  95.37  95.37  95.37  95.37  95.37  95.37  95.37  95.37 75.05\n",
       "V352  93.55  93.55  93.55  93.55  93.55  93.55  93.55  93.55  93.55 87.13\n",
       "V490  93.07  93.07  93.07  93.07  93.07  93.07  93.07  93.07  93.07 81.88\n",
       "V406  92.90  92.90  92.90  92.90  92.90  92.90  92.90  92.90  92.90 74.55\n",
       "V437  70.79  60.44  92.79  52.04  71.11  83.42  75.51  91.15  52.02 70.79\n",
       "V351  92.41  92.41  92.41  92.41  92.41  92.41  92.41  92.41  92.41 82.08\n",
       "V409  70.55  76.12  88.11  54.54  79.94  77.69  84.88  91.91  52.72 76.12\n",
       "V436  89.96  89.96  90.89  89.96  89.96  89.96  91.39  89.96  89.96 78.83\n",
       "V464  76.73  76.51  90.24  76.51  76.51  76.58  77.67  82.02  76.51 76.73\n",
       "V491  89.49  89.49  89.49  89.49  89.49  89.49  89.49  89.49  89.49 77.41\n",
       "V598  68.01  68.01  88.44  68.01  68.01  84.92  68.01  88.25  68.01 38.76\n",
       "V465  63.09  36.58  87.68  38.16  50.72  80.62  59.88  84.28  57.13 63.09\n",
       "V433  63.74  55.69  76.69  55.69  57.43  55.69  87.59  68.44  55.69 63.74"
      ]
     },
     "metadata": {},
     "output_type": "display_data"
    }
   ],
   "source": [
    "vi <- varImp(knn_mnist)\n",
    "vi"
   ]
  },
  {
   "cell_type": "code",
   "execution_count": 124,
   "id": "ffe4a2a3",
   "metadata": {},
   "outputs": [],
   "source": [
    "library(tibble)\n",
    "library(stringr)"
   ]
  },
  {
   "cell_type": "markdown",
   "id": "a9eb7776",
   "metadata": {},
   "source": [
    "#### 변수별 중앙값 "
   ]
  },
  {
   "cell_type": "code",
   "execution_count": 151,
   "id": "72c05dba",
   "metadata": {},
   "outputs": [
    {
     "data": {
      "text/html": [
       "<table class=\"dataframe\">\n",
       "<caption>A tibble: 6 × 2</caption>\n",
       "<thead>\n",
       "\t<tr><th scope=col>feature</th><th scope=col>imp</th></tr>\n",
       "\t<tr><th scope=col>&lt;chr&gt;</th><th scope=col>&lt;dbl&gt;</th></tr>\n",
       "</thead>\n",
       "<tbody>\n",
       "\t<tr><td>V153</td><td>36.53080</td></tr>\n",
       "\t<tr><td>V154</td><td>30.90408</td></tr>\n",
       "\t<tr><td>V155</td><td>28.74736</td></tr>\n",
       "\t<tr><td>V156</td><td>33.49078</td></tr>\n",
       "\t<tr><td>V157</td><td>34.60262</td></tr>\n",
       "\t<tr><td>V158</td><td>33.11361</td></tr>\n",
       "</tbody>\n",
       "</table>\n"
      ],
      "text/latex": [
       "A tibble: 6 × 2\n",
       "\\begin{tabular}{ll}\n",
       " feature & imp\\\\\n",
       " <chr> & <dbl>\\\\\n",
       "\\hline\n",
       "\t V153 & 36.53080\\\\\n",
       "\t V154 & 30.90408\\\\\n",
       "\t V155 & 28.74736\\\\\n",
       "\t V156 & 33.49078\\\\\n",
       "\t V157 & 34.60262\\\\\n",
       "\t V158 & 33.11361\\\\\n",
       "\\end{tabular}\n"
      ],
      "text/markdown": [
       "\n",
       "A tibble: 6 × 2\n",
       "\n",
       "| feature &lt;chr&gt; | imp &lt;dbl&gt; |\n",
       "|---|---|\n",
       "| V153 | 36.53080 |\n",
       "| V154 | 30.90408 |\n",
       "| V155 | 28.74736 |\n",
       "| V156 | 33.49078 |\n",
       "| V157 | 34.60262 |\n",
       "| V158 | 33.11361 |\n",
       "\n"
      ],
      "text/plain": [
       "  feature imp     \n",
       "1 V153    36.53080\n",
       "2 V154    30.90408\n",
       "3 V155    28.74736\n",
       "4 V156    33.49078\n",
       "5 V157    34.60262\n",
       "6 V158    33.11361"
      ]
     },
     "metadata": {},
     "output_type": "display_data"
    }
   ],
   "source": [
    "imp <- vi$importance %>%\n",
    "  rownames_to_column(var = \"feature\") %>%\n",
    "  gather(response, imp, -feature) %>%\n",
    "  group_by(feature) %>%\n",
    "  summarize(imp = median(imp))\n",
    "\n",
    "imp %>% head"
   ]
  },
  {
   "cell_type": "code",
   "execution_count": 152,
   "id": "4efee3ee",
   "metadata": {},
   "outputs": [
    {
     "data": {
      "text/html": [
       "<table class=\"dataframe\">\n",
       "<caption>A tibble: 1 × 2</caption>\n",
       "<thead>\n",
       "\t<tr><th scope=col>feature</th><th scope=col>imp</th></tr>\n",
       "\t<tr><th scope=col>&lt;chr&gt;</th><th scope=col>&lt;dbl&gt;</th></tr>\n",
       "</thead>\n",
       "<tbody>\n",
       "\t<tr><td>V</td><td>0</td></tr>\n",
       "</tbody>\n",
       "</table>\n"
      ],
      "text/latex": [
       "A tibble: 1 × 2\n",
       "\\begin{tabular}{ll}\n",
       " feature & imp\\\\\n",
       " <chr> & <dbl>\\\\\n",
       "\\hline\n",
       "\t V & 0\\\\\n",
       "\\end{tabular}\n"
      ],
      "text/markdown": [
       "\n",
       "A tibble: 1 × 2\n",
       "\n",
       "| feature &lt;chr&gt; | imp &lt;dbl&gt; |\n",
       "|---|---|\n",
       "| V | 0 |\n",
       "\n"
      ],
      "text/plain": [
       "  feature imp\n",
       "1 V       0  "
      ]
     },
     "metadata": {},
     "output_type": "display_data"
    }
   ],
   "source": [
    "edges <- tibble(\n",
    "  feature = paste0(\"V\", nzv),\n",
    "  imp = 0\n",
    ")\n",
    "edges %>% head"
   ]
  },
  {
   "cell_type": "code",
   "execution_count": 153,
   "id": "9e3ae9f5",
   "metadata": {},
   "outputs": [
    {
     "data": {
      "text/html": [
       "<table class=\"dataframe\">\n",
       "<caption>A tibble: 6 × 2</caption>\n",
       "<thead>\n",
       "\t<tr><th scope=col>feature</th><th scope=col>imp</th></tr>\n",
       "\t<tr><th scope=col>&lt;chr&gt;</th><th scope=col>&lt;dbl&gt;</th></tr>\n",
       "</thead>\n",
       "<tbody>\n",
       "\t<tr><td>V153</td><td>36.53080</td></tr>\n",
       "\t<tr><td>V154</td><td>30.90408</td></tr>\n",
       "\t<tr><td>V155</td><td>28.74736</td></tr>\n",
       "\t<tr><td>V156</td><td>33.49078</td></tr>\n",
       "\t<tr><td>V157</td><td>34.60262</td></tr>\n",
       "\t<tr><td>V158</td><td>33.11361</td></tr>\n",
       "</tbody>\n",
       "</table>\n"
      ],
      "text/latex": [
       "A tibble: 6 × 2\n",
       "\\begin{tabular}{ll}\n",
       " feature & imp\\\\\n",
       " <chr> & <dbl>\\\\\n",
       "\\hline\n",
       "\t V153 & 36.53080\\\\\n",
       "\t V154 & 30.90408\\\\\n",
       "\t V155 & 28.74736\\\\\n",
       "\t V156 & 33.49078\\\\\n",
       "\t V157 & 34.60262\\\\\n",
       "\t V158 & 33.11361\\\\\n",
       "\\end{tabular}\n"
      ],
      "text/markdown": [
       "\n",
       "A tibble: 6 × 2\n",
       "\n",
       "| feature &lt;chr&gt; | imp &lt;dbl&gt; |\n",
       "|---|---|\n",
       "| V153 | 36.53080 |\n",
       "| V154 | 30.90408 |\n",
       "| V155 | 28.74736 |\n",
       "| V156 | 33.49078 |\n",
       "| V157 | 34.60262 |\n",
       "| V158 | 33.11361 |\n",
       "\n"
      ],
      "text/plain": [
       "  feature imp     \n",
       "1 V153    36.53080\n",
       "2 V154    30.90408\n",
       "3 V155    28.74736\n",
       "4 V156    33.49078\n",
       "5 V157    34.60262\n",
       "6 V158    33.11361"
      ]
     },
     "metadata": {},
     "output_type": "display_data"
    }
   ],
   "source": [
    "rbind(imp, edges) %>% head"
   ]
  },
  {
   "cell_type": "code",
   "execution_count": 154,
   "id": "a369bab5",
   "metadata": {},
   "outputs": [
    {
     "data": {
      "text/html": [
       "<table class=\"dataframe\">\n",
       "<caption>A tibble: 6 × 3</caption>\n",
       "<thead>\n",
       "\t<tr><th scope=col>feature</th><th scope=col>imp</th><th scope=col>ID</th></tr>\n",
       "\t<tr><th scope=col>&lt;chr&gt;</th><th scope=col>&lt;dbl&gt;</th><th scope=col>&lt;dbl&gt;</th></tr>\n",
       "</thead>\n",
       "<tbody>\n",
       "\t<tr><td>V153</td><td>36.53080</td><td>153</td></tr>\n",
       "\t<tr><td>V154</td><td>30.90408</td><td>154</td></tr>\n",
       "\t<tr><td>V155</td><td>28.74736</td><td>155</td></tr>\n",
       "\t<tr><td>V156</td><td>33.49078</td><td>156</td></tr>\n",
       "\t<tr><td>V157</td><td>34.60262</td><td>157</td></tr>\n",
       "\t<tr><td>V158</td><td>33.11361</td><td>158</td></tr>\n",
       "</tbody>\n",
       "</table>\n"
      ],
      "text/latex": [
       "A tibble: 6 × 3\n",
       "\\begin{tabular}{lll}\n",
       " feature & imp & ID\\\\\n",
       " <chr> & <dbl> & <dbl>\\\\\n",
       "\\hline\n",
       "\t V153 & 36.53080 & 153\\\\\n",
       "\t V154 & 30.90408 & 154\\\\\n",
       "\t V155 & 28.74736 & 155\\\\\n",
       "\t V156 & 33.49078 & 156\\\\\n",
       "\t V157 & 34.60262 & 157\\\\\n",
       "\t V158 & 33.11361 & 158\\\\\n",
       "\\end{tabular}\n"
      ],
      "text/markdown": [
       "\n",
       "A tibble: 6 × 3\n",
       "\n",
       "| feature &lt;chr&gt; | imp &lt;dbl&gt; | ID &lt;dbl&gt; |\n",
       "|---|---|---|\n",
       "| V153 | 36.53080 | 153 |\n",
       "| V154 | 30.90408 | 154 |\n",
       "| V155 | 28.74736 | 155 |\n",
       "| V156 | 33.49078 | 156 |\n",
       "| V157 | 34.60262 | 157 |\n",
       "| V158 | 33.11361 | 158 |\n",
       "\n"
      ],
      "text/plain": [
       "  feature imp      ID \n",
       "1 V153    36.53080 153\n",
       "2 V154    30.90408 154\n",
       "3 V155    28.74736 155\n",
       "4 V156    33.49078 156\n",
       "5 V157    34.60262 157\n",
       "6 V158    33.11361 158"
      ]
     },
     "metadata": {},
     "output_type": "display_data"
    }
   ],
   "source": [
    "# Combine and plot\n",
    "imp <- rbind(imp, edges) %>%\n",
    "  mutate(ID  = as.numeric(str_extract(feature, \"\\\\d+\"))) %>%\n",
    "  arrange(ID)"
   ]
  },
  {
   "cell_type": "code",
   "execution_count": 156,
   "id": "ad01b2a0",
   "metadata": {},
   "outputs": [
    {
     "name": "stderr",
     "output_type": "stream",
     "text": [
      "Warning message in matrix(imp$imp, 28, 28):\n",
      "\"data length [250] is not a sub-multiple or multiple of the number of rows [28]\"\n"
     ]
    },
    {
     "data": {
      "image/png": "[encoded data removed]",
      "text/plain": [
       "plot without title"
      ]
     },
     "metadata": {
      "image/png": {
       "height": 420,
       "width": 420
      }
     },
     "output_type": "display_data"
    }
   ],
   "source": [
    "image(matrix(imp$imp, 28, 28), col = gray(seq(0, 1, 0.05)), \n",
    "      xaxt=\"n\", yaxt=\"n\")"
   ]
  },
  {
   "cell_type": "markdown",
   "id": "cfbdfda3",
   "metadata": {},
   "source": [
    "### 정분류, 오분류\n",
    "- 정분류 4개와, 오분류 4개를 추출"
   ]
  },
  {
   "cell_type": "code",
   "execution_count": 163,
   "id": "c96671eb",
   "metadata": {
    "scrolled": true
   },
   "outputs": [
    {
     "data": {
      "text/html": [
       "<style>\n",
       ".list-inline {list-style: none; margin:0; padding: 0}\n",
       ".list-inline>li {display: inline-block}\n",
       ".list-inline>li:not(:last-child)::after {content: \"\\00b7\"; padding: 0 .5ex}\n",
       "</style>\n",
       "<ol class=list-inline><li>8</li><li>5</li></ol>\n"
      ],
      "text/latex": [
       "\\begin{enumerate*}\n",
       "\\item 8\n",
       "\\item 5\n",
       "\\end{enumerate*}\n"
      ],
      "text/markdown": [
       "1. 8\n",
       "2. 5\n",
       "\n",
       "\n"
      ],
      "text/plain": [
       "[1] 8 5"
      ]
     },
     "metadata": {},
     "output_type": "display_data"
    },
    {
     "data": {
      "text/html": [
       "<table class=\"dataframe\">\n",
       "<caption>A data.frame: 6 × 5</caption>\n",
       "<thead>\n",
       "\t<tr><th></th><th scope=col>pred</th><th scope=col>obs</th><th scope=col>rowIndex</th><th scope=col>k</th><th scope=col>Resample</th></tr>\n",
       "\t<tr><th></th><th scope=col>&lt;fct&gt;</th><th scope=col>&lt;fct&gt;</th><th scope=col>&lt;int&gt;</th><th scope=col>&lt;dbl&gt;</th><th scope=col>&lt;chr&gt;</th></tr>\n",
       "</thead>\n",
       "<tbody>\n",
       "\t<tr><th scope=row>1</th><td>7</td><td>7</td><td>5685</td><td> 3</td><td>Resample1</td></tr>\n",
       "\t<tr><th scope=row>2</th><td>4</td><td>4</td><td> 603</td><td>13</td><td>Resample1</td></tr>\n",
       "\t<tr><th scope=row>3</th><td>1</td><td>1</td><td>1403</td><td> 9</td><td>Resample1</td></tr>\n",
       "\t<tr><th scope=row>4</th><td>2</td><td>2</td><td>6923</td><td>19</td><td>Resample1</td></tr>\n",
       "\t<tr><th scope=row>5</th><td>1</td><td>6</td><td>3527</td><td>23</td><td>Resample1</td></tr>\n",
       "\t<tr><th scope=row>6</th><td>2</td><td>1</td><td>6958</td><td>17</td><td>Resample1</td></tr>\n",
       "</tbody>\n",
       "</table>\n"
      ],
      "text/latex": [
       "A data.frame: 6 × 5\n",
       "\\begin{tabular}{r|lllll}\n",
       "  & pred & obs & rowIndex & k & Resample\\\\\n",
       "  & <fct> & <fct> & <int> & <dbl> & <chr>\\\\\n",
       "\\hline\n",
       "\t1 & 7 & 7 & 5685 &  3 & Resample1\\\\\n",
       "\t2 & 4 & 4 &  603 & 13 & Resample1\\\\\n",
       "\t3 & 1 & 1 & 1403 &  9 & Resample1\\\\\n",
       "\t4 & 2 & 2 & 6923 & 19 & Resample1\\\\\n",
       "\t5 & 1 & 6 & 3527 & 23 & Resample1\\\\\n",
       "\t6 & 2 & 1 & 6958 & 17 & Resample1\\\\\n",
       "\\end{tabular}\n"
      ],
      "text/markdown": [
       "\n",
       "A data.frame: 6 × 5\n",
       "\n",
       "| <!--/--> | pred &lt;fct&gt; | obs &lt;fct&gt; | rowIndex &lt;int&gt; | k &lt;dbl&gt; | Resample &lt;chr&gt; |\n",
       "|---|---|---|---|---|---|\n",
       "| 1 | 7 | 7 | 5685 |  3 | Resample1 |\n",
       "| 2 | 4 | 4 |  603 | 13 | Resample1 |\n",
       "| 3 | 1 | 1 | 1403 |  9 | Resample1 |\n",
       "| 4 | 2 | 2 | 6923 | 19 | Resample1 |\n",
       "| 5 | 1 | 6 | 3527 | 23 | Resample1 |\n",
       "| 6 | 2 | 1 | 6958 | 17 | Resample1 |\n",
       "\n"
      ],
      "text/plain": [
       "  pred obs rowIndex k  Resample \n",
       "1 7    7   5685      3 Resample1\n",
       "2 4    4    603     13 Resample1\n",
       "3 1    1   1403      9 Resample1\n",
       "4 2    2   6923     19 Resample1\n",
       "5 1    6   3527     23 Resample1\n",
       "6 2    1   6958     17 Resample1"
      ]
     },
     "metadata": {},
     "output_type": "display_data"
    }
   ],
   "source": [
    "set.seed(9)\n",
    "good <- knn_mnist$pred %>%\n",
    "  filter(pred == obs) %>%\n",
    "  sample_n(4)\n",
    "\n",
    "set.seed(9)\n",
    "bad <- knn_mnist$pred %>%\n",
    "  filter(pred != obs) %>%\n",
    "  sample_n(4)\n",
    "\n",
    "combine <- bind_rows(good, bad)\n",
    "dim(combine) ; head(combine)"
   ]
  },
  {
   "cell_type": "code",
   "execution_count": 157,
   "id": "e7db0533",
   "metadata": {},
   "outputs": [
    {
     "data": {
      "image/png": "[encoded data removed]",
      "text/plain": [
       "Plot with title \"Actual: 1    Predicted: 9\""
      ]
     },
     "metadata": {
      "image/png": {
       "height": 420,
       "width": 420
      }
     },
     "output_type": "display_data"
    }
   ],
   "source": [
    "set.seed(123)\n",
    "index <- sample(nrow(mnist$train$images), 10000)\n",
    "X <- mnist$train$images[index,]\n",
    "\n",
    "par(mfrow = c(4, 2), mar=c(1, 1, 1, 1))\n",
    "layout(matrix(seq_len(nrow(combine)), 4, 2, byrow = FALSE))\n",
    "\n",
    "for(i in seq_len(nrow(combine))) {\n",
    "  image(matrix(X[combine$rowIndex[i],], 28, 28)[, 28:1], \n",
    "        col = gray(seq(0, 1, 0.05)),\n",
    "        main = paste(\"Actual:\", combine$obs[i], \"  \", \n",
    "                     \"Predicted:\", combine$pred[i]),\n",
    "        xaxt=\"n\", yaxt=\"n\") \n",
    "}"
   ]
  }
 ],
 "metadata": {
  "kernelspec": {
   "display_name": "R 4.1.3",
   "language": "R",
   "name": "ir32"
  },
  "language_info": {
   "codemirror_mode": "r",
   "file_extension": ".r",
   "mimetype": "text/x-r-source",
   "name": "R",
   "pygments_lexer": "r",
   "version": "4.1.3"
  }
 },
 "nbformat": 4,
 "nbformat_minor": 5
}
