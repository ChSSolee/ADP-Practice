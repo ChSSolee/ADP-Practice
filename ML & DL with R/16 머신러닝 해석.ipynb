{
 "cells": [
  {
   "cell_type": "code",
   "execution_count": 9,
   "id": "a9c156fb",
   "metadata": {},
   "outputs": [],
   "source": [
    "library(tidyverse)\n",
    "library(h2o)\n",
    "library(recipes)\n",
    "library(rsample)\n",
    "\n",
    "library(xgboost)\n",
    "library(vip)\n",
    "library(vip)\n",
    "library(iml)\n",
    "library(DALEX)\n",
    "library(lime)"
   ]
  },
  {
   "cell_type": "markdown",
   "id": "7992f70c",
   "metadata": {},
   "source": [
    "## 머린러닝 해석\n",
    "1. 전역규모로 훈련한 모델을 이해하고, 데이터 또는 예측의 국소영역을 확대하고 설명하는 것이 중요"
   ]
  },
  {
   "cell_type": "markdown",
   "id": "7cbb40f9",
   "metadata": {},
   "source": [
    "### 전역해석\n",
    "- 전역해석 가능성은 변수에 대한 전체적인 관점과 기본 모델 구조에 미치는 영향을 기반으로 모델이 예측을 수행하는 방법을 이해하는 것\n",
    "- 어떤 변수가 상대적으로 영향력이 있는지, 이러한 변수가 반응변수에 어떤 영향을 미치는지, 어떤 종류의 잠재적 상호작용이 발생하는지에 대한 질문에 답함.\n",
    "- 전역해석 가능성은 반응변수와 개별 변수(또는 그 하위 집합)간의 관계를 이해하는 데 도움이 된다\n",
    "- 전역해석 가능성은 실제로 달성하기가 매우 어렵다. 소수의 변수를 초과하는 모델은 전체 모델구조를 한 번에 이해할 수 없기 때문에 완전히 파악하기 어렵다."
   ]
  },
  {
   "cell_type": "markdown",
   "id": "b1cfd1c5",
   "metadata": {},
   "source": [
    "- 전역모델 해석은 일반적으로 도달할 수 없지만 모듈 수준에서 최소한 일부 모델을 이해할 수 있는 더 나은 기회가 있다. \n",
    "- 일반적으로 어떤 변수가 가장 영향력이 있는지(변수 중요도) \n",
    "- 이해를 얻은 다음 가장 영향력 있는 변수가 어떻게 모델 출력을 유도하는지에 초점을 맞추는 것과 관련(변수효과 를 통해). \n",
    "- 100개의 변수가 있는 모델을 완전히 파악하지 못할 수도 있지만 일반적으로 이러한 변수 중 12개 정도만이 모델의 성능을 주도하는 데 실제로 영향을 미친다. 그리고 12개의 변수가 모델에 어떤 영향을 미치는지 확실히 파악할 수 있다."
   ]
  },
  {
   "cell_type": "markdown",
   "id": "74822235",
   "metadata": {},
   "source": [
    "### 국소해석\n",
    "- 전역해석 방법은 입력 및 반응변수와의 전반적인 관계를 이해하는 데 도움이 되지만 일부 경우(예: 강력한 상호 작용이 발생할 때) 매우 기만적일 수 있습니다. \n",
    "- 주어진 변수가 전체 모델의 예측 정확도에 영향을 미칠 수 있지만, 해당 변수가 주어진 관찰값(예: 고객, 집 또는 직원) 또는 그룹에 대한 예측 값에 가장 큰 영향을 미친다는 의미는 아니다. \n",
    "- 국소해석은 주어진 관찰값(또는 소규모 관찰 그룹)에 대한 예측 반응에 어떤 기능이 영향을 미치는지 이해하는 데 도움이 된다. \n",
    "- 이러한 기술은 고객이 무엇을 하기를 기대하는지 뿐만 아니라 우리 모델이 주어진 관찰에 대해 특정 예측을 하는 이유에 대해서도 답하는 데 도움이 된다."
   ]
  },
  {
   "cell_type": "markdown",
   "id": "98991267",
   "metadata": {},
   "source": [
    "#### 국소해석의 접근방식\n",
    "1. LIME\n",
    "2. Shapley values\n",
    "3. Localized step-wise procedures"
   ]
  },
  {
   "cell_type": "markdown",
   "id": "6176cd9f",
   "metadata": {},
   "source": [
    "- 어떤 변수가 일련의 관찰에 대한 목표를 예측하는 데 가장 영향력이 있는지 설명하는 것"
   ]
  },
  {
   "cell_type": "code",
   "execution_count": 24,
   "id": "c70edcb6",
   "metadata": {},
   "outputs": [
    {
     "name": "stdout",
     "output_type": "stream",
     "text": [
      "\n",
      "H2O is not running yet, starting it now...\n",
      "\n",
      "Note:  In case of errors look at the following log files:\n",
      "    C:\\Users\\APF_TE~1\\AppData\\Local\\Temp\\Rtmp8wxV0t\\file135444e42cc9/h2o_apf_temp_admin_started_from_r.out\n",
      "    C:\\Users\\APF_TE~1\\AppData\\Local\\Temp\\Rtmp8wxV0t\\file13543496540c/h2o_apf_temp_admin_started_from_r.err\n",
      "\n",
      "\n",
      "Starting H2O JVM and connecting: . Connection successful!\n",
      "\n",
      "R is connected to the H2O cluster: \n",
      "    H2O cluster uptime:         12 seconds 271 milliseconds \n",
      "    H2O cluster timezone:       Asia/Seoul \n",
      "    H2O data parsing timezone:  UTC \n",
      "    H2O cluster version:        3.36.0.4 \n",
      "    H2O cluster version age:    8 days  \n",
      "    H2O cluster name:           H2O_started_from_R_apf_temp_admin_trg721 \n",
      "    H2O cluster total nodes:    1 \n",
      "    H2O cluster total memory:   4.44 GB \n",
      "    H2O cluster total cores:    4 \n",
      "    H2O cluster allowed cores:  4 \n",
      "    H2O cluster healthy:        TRUE \n",
      "    H2O Connection ip:          localhost \n",
      "    H2O Connection port:        54321 \n",
      "    H2O Connection proxy:       NA \n",
      "    H2O Internal Security:      FALSE \n",
      "    R Version:                  R version 4.1.3 (2022-03-10) \n",
      "\n"
     ]
    }
   ],
   "source": [
    "h2o.no_progress()\n",
    "h2o.init(max_mem_size = \"5g\")\n",
    "\n",
    "ames <- AmesHousing::make_ames()\n",
    "set.seed(123)  # for reproducibility\n",
    "split <- initial_split(ames, strata = \"Sale_Price\")\n",
    "ames_train <- training(split)\n",
    "ames_test <- testing(split)\n",
    "\n",
    "blueprint <- recipe(Sale_Price ~ ., data = ames_train) %>%\n",
    "  step_other(all_nominal(), threshold = .005)\n",
    "\n",
    "train_h2o <- prep(blueprint, training = ames_train, retain = TRUE) %>%\n",
    "  juice() %>%\n",
    "  as.h2o()\n",
    "test_h2o <- prep(blueprint, training = ames_train) %>%\n",
    "  bake(new_data = ames_test) %>%\n",
    "  as.h2o()\n",
    "\n",
    "Y <- \"Sale_Price\"\n",
    "X <- setdiff(names(ames_train), Y)"
   ]
  },
  {
   "cell_type": "code",
   "execution_count": null,
   "id": "5f050c61",
   "metadata": {},
   "outputs": [],
   "source": [
    "best_glm <- h2o.glm(\n",
    "  x = X, y = Y, training_frame = train_h2o, alpha = 0.1,\n",
    "  remove_collinear_columns = TRUE, nfolds = 10, fold_assignment = \"Modulo\",\n",
    "  keep_cross_validation_predictions = TRUE, seed = 123\n",
    ")\n",
    "\n",
    "# Train & cross-validate a RF model\n",
    "best_rf <- h2o.randomForest(\n",
    "  x = X, y = Y, training_frame = train_h2o, ntrees = 1000, mtries = 20,\n",
    "  max_depth = 30, min_rows = 1, sample_rate = 0.8, nfolds = 10,\n",
    "  fold_assignment = \"Modulo\", keep_cross_validation_predictions = TRUE,\n",
    "  seed = 123, stopping_rounds = 50, stopping_metric = \"RMSE\",\n",
    "  stopping_tolerance = 0\n",
    ")\n",
    "\n",
    "# Train & cross-validate a GBM model\n",
    "best_gbm <- h2o.gbm(\n",
    "  x = X, y = Y, training_frame = train_h2o, ntrees = 5000, learn_rate = 0.01,\n",
    "  max_depth = 7, min_rows = 5, sample_rate = 0.8, nfolds = 10,\n",
    "  fold_assignment = \"Modulo\", keep_cross_validation_predictions = TRUE,\n",
    "  seed = 123, stopping_rounds = 50, stopping_metric = \"RMSE\",\n",
    "  stopping_tolerance = 0\n",
    ")\n",
    "\n",
    "# Train & cross-validate an XGBoost model\n",
    "best_xgb <- h2o.xgboost(\n",
    "  x = X, y = Y, training_frame = train_h2o, ntrees = 5000, learn_rate = 0.05,\n",
    "  max_depth = 3, min_rows = 3, sample_rate = 0.8, categorical_encoding = \"Enum\",\n",
    "  nfolds = 10, fold_assignment = \"Modulo\", \n",
    "  keep_cross_validation_predictions = TRUE, seed = 123, stopping_rounds = 50,\n",
    "  stopping_metric = \"RMSE\", stopping_tolerance = 0\n",
    ")\n",
    "\n",
    "# Train a stacked tree ensemble\n",
    "ensemble_tree <- h2o.stackedEnsemble(\n",
    "  x = X, y = Y, training_frame = train_h2o, model_id = \"my_tree_ensemble\",\n",
    "  base_models = list(best_glm, best_rf, best_gbm, best_xgb),\n",
    "  metalearner_algorithm = \"drf\"\n",
    ")"
   ]
  },
  {
   "cell_type": "code",
   "execution_count": null,
   "id": "d0f86755",
   "metadata": {},
   "outputs": [],
   "source": [
    "predictions <- predict(ensemble_tree, train_h2o) %>% as.vector()"
   ]
  },
  {
   "cell_type": "code",
   "execution_count": null,
   "id": "71929868",
   "metadata": {},
   "outputs": [],
   "source": [
    "paste(\"Observation\", which.max(predictions), \n",
    "      \"has a predicted sale price of\", scales::dollar(max(predictions))) "
   ]
  },
  {
   "cell_type": "markdown",
   "id": "0b1f811d",
   "metadata": {},
   "source": [
    "```\n",
    "## [1] \"Observation 1825 has a predicted sale price of $663,136\"\n",
    "```"
   ]
  },
  {
   "cell_type": "code",
   "execution_count": null,
   "id": "b64f37d4",
   "metadata": {},
   "outputs": [],
   "source": [
    "paste(\"Observation\", which.min(predictions), \n",
    "      \"has a predicted sale price of\", scales::dollar(min(predictions)))  "
   ]
  },
  {
   "cell_type": "markdown",
   "id": "3e4b5996",
   "metadata": {},
   "source": [
    "```\n",
    "## [1] \"Observation 139 has a predicted sale price of $47,245.45\"\n",
    "```"
   ]
  },
  {
   "cell_type": "code",
   "execution_count": null,
   "id": "61844ea6",
   "metadata": {},
   "outputs": [],
   "source": [
    "high_ob <- as.data.frame(train_h2o)[which.max(predictions), ] %>% select(-Sale_Price)\n",
    "low_ob  <- as.data.frame(train_h2o)[which.min(predictions), ] %>% select(-Sale_Price)"
   ]
  },
  {
   "cell_type": "markdown",
   "id": "ae52096d",
   "metadata": {},
   "source": [
    "### Model-specific vs. model-agnostic (모델별 접근 vs 모델 불가지론적 접근)\n",
    "- 선형 모델에서는 t-통계량의 절댓값\n",
    "- 랜덤포레스트는 데이터의 OOB 부분에 대한 예측 정확도를 기록할 수 있으며 각 예측 변수를 치환한 후 동일한 작업을 수행하고 두 정확도 간의 차이를 모든 트리에 대해 평균화하고 다음으로 정규화"
   ]
  },
  {
   "cell_type": "markdown",
   "id": "48f2153e",
   "metadata": {},
   "source": [
    "#### 궁극적으로 모델해석에 대한 최상의 접근 방식은 없다.\n",
    "#### 여러 접근방식을 적용"
   ]
  },
  {
   "cell_type": "markdown",
   "id": "eb414db6",
   "metadata": {},
   "source": [
    "### 모델 불가지론적 접근\n",
    "- iml\n",
    "- DALEX\n",
    "- LIME"
   ]
  },
  {
   "cell_type": "markdown",
   "id": "3f4e1f8f",
   "metadata": {},
   "source": [
    "#### 모형의 예측값을 계산하는 함수 및 객체 생성"
   ]
  },
  {
   "cell_type": "code",
   "execution_count": null,
   "id": "a828b5ad",
   "metadata": {},
   "outputs": [],
   "source": [
    "features <- as.data.frame(train_h2o) %>% select(-Sale_Price)\n",
    "\n",
    "response <- as.data.frame(train_h2o) %>% pull(Sale_Price)\n",
    "\n",
    "pred <- function(object, newdata)  {\n",
    "  results <- as.vector(h2o.predict(object, as.h2o(newdata)))\n",
    "  return(results)\n",
    "}\n",
    "\n",
    "pred(ensemble_tree, features) %>% head()"
   ]
  },
  {
   "cell_type": "markdown",
   "id": "19561d0b",
   "metadata": {},
   "source": [
    "```\n",
    "[1] 217750.2 109165.7 178811.5 200595.1 194434.3 209172.5\n",
    "```"
   ]
  },
  {
   "cell_type": "markdown",
   "id": "7af31a11",
   "metadata": {},
   "source": [
    "#### iml1및 DALEX객체 생성\n",
    "### ```iml::Predictor$new()```"
   ]
  },
  {
   "cell_type": "code",
   "execution_count": null,
   "id": "f6074f66",
   "metadata": {},
   "outputs": [],
   "source": [
    "# iml model agnostic object\n",
    "components_iml <- Predictor$new(\n",
    "  model = ensemble_tree, \n",
    "  data = features, \n",
    "  y = response, \n",
    "  predict.fun = pred\n",
    ")"
   ]
  },
  {
   "cell_type": "markdown",
   "id": "bb8642df",
   "metadata": {},
   "source": [
    "### ```DALEX::explain()```"
   ]
  },
  {
   "cell_type": "code",
   "execution_count": null,
   "id": "d67a1e00",
   "metadata": {},
   "outputs": [],
   "source": [
    "# DALEX model agnostic object\n",
    "components_dalex <- DALEX::explain(\n",
    "  model = ensemble_tree,\n",
    "  data = features,\n",
    "  y = response,\n",
    "  predict_function = pred\n",
    ")"
   ]
  },
  {
   "cell_type": "markdown",
   "id": "c1adb462",
   "metadata": {},
   "source": [
    "### 순열기반 변수 중요도\n",
    "- 순열접근방식은 일부 성능 측정(예: RMSE)과 훈련데이터의 특정 변수값을 순열한 후 얻은 동일한 성능 측정 간의 차이(또는 비율)를 사용\n",
    "- 주어진 손실함수에 대해 다음을 수행 \n",
    "1. 모델에 대한 손실함수 계산 \n",
    "2. {1,...,p}의 변수 i에 대해\n",
    "    * 값을 무작위화 \n",
    "    * 주어진 모델 적용 \n",
    "    * 손실함수 추정 \n",
    "    * 변수 중요도 계산(일부 차이/비율 측정 치환 손실과 최초 손실 사이) \n",
    "3. 변수 중요도 내림차순으로 변수 정렬"
   ]
  },
  {
   "cell_type": "markdown",
   "id": "5a5ebc5e",
   "metadata": {},
   "source": [
    "#### 1. iml \n",
    "- ```FeatureImp()``` : 순열접근방식을 사용하여 예측모델에 대한 변수 중요도\n",
    "- 사용자가 일반 손실 함수를 지정하거나 미리 정의된 목록(예: ```loss``` = \"mse\")을 지정\n",
    "- 사용자는 원래의 오차와 순열이후의 모델 오차의 차이 또는 비율로 측정되는지 여부를 지정할 수 있다. \n",
    "- 사용자는 절차의 변동성을 안정화하는 데 도움이 되도록 각 기능을 순열할 때 사용되는 반복 횟수를 지정할 수도 있다."
   ]
  },
  {
   "cell_type": "markdown",
   "id": "f09edf53",
   "metadata": {},
   "source": [
    "#### 2. DALEX\n",
    "- ```variable_importance()``` : 순열 기반 변수 중요도\n",
    "- 손실함수 및 중요도 가 계산되는 방법을 지정할 수 있음\n",
    "- 또한 중요도를 계산하기 위해 데이터를 섞기 전에 훈련데이터를 샘플링하는 옵션도 제공(```n_sample```) 이는 계산 속도를 높이는 데 도움"
   ]
  },
  {
   "cell_type": "markdown",
   "id": "5429ef74",
   "metadata": {},
   "source": [
    "#### 3. vip\n",
    "-  VIP(가변 중요도 플롯)에 중점을 두고 있으며 순열접근방식을 포함하여 변수 중요도를 계산하기 위해 모델별 접근방식과, 여러 모델 불가지론적 접근 방식을 모두제공\n",
    "-  vip를 사용하면 맞춤형 손실함수를 사용, 절차를 안정화하기 위해 몬테카를로 시뮬레이션을 수행, 관찰을 샘플링하고, 대규모 데이터 세트에서 런타임 속도를 높일 수 있는 병렬 계산을 수행"
   ]
  },
  {
   "cell_type": "markdown",
   "id": "6045458f",
   "metadata": {},
   "source": [
    "### ```vip()```\n",
    "- ```nsim``` : 시뮬레이션 횟수\n",
    "- ```method``` : 접근방식 (```\"permute\"``` : 순열접근방식)\n",
    "- ```metric``` : 성능 메트릭 (```\"RMSE\"```, ```\"MSE\"```)\n",
    "- ```sample_frac``` : 데이터의 샘플링 비율\n",
    "- ```pred_wrapper``` : 예측 함수"
   ]
  },
  {
   "cell_type": "code",
   "execution_count": null,
   "id": "d1a16699",
   "metadata": {},
   "outputs": [],
   "source": [
    "vip(\n",
    "  ensemble_tree, # 모델\n",
    "  train = as.data.frame(train_h2o),\n",
    "  method = \"permute\",\n",
    "  target = \"Sale_Price\",\n",
    "  metric = \"RMSE\",\n",
    "  nsim = 5, # 시뮬레이션 횟수\n",
    "  sample_frac = 0.5, # 샘플링 비율\n",
    "  pred_wrapper = pred # 예측함수\n",
    ")"
   ]
  },
  {
   "cell_type": "markdown",
   "id": "54893052",
   "metadata": {},
   "source": [
    "<img src = \"data:image/png;base64,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\">"
   ]
  },
  {
   "cell_type": "markdown",
   "id": "17dbda36",
   "metadata": {},
   "source": [
    "### 부분종속성 (PDP)\n",
    "- 예측된 결과에 대한 변수(또는 그 하위 집합)의 한계효과를 이해하는 데 도움\n",
    "- **모델에 있는 다른 모든 변수의 평균을 고려하면서 변수 값을 변경할 때 바응변수가 어떻게 변경되는지 이해**"
   ]
  },
  {
   "cell_type": "markdown",
   "id": "f7063833",
   "metadata": {},
   "source": [
    "선택한 예측 변수(x)에 대해 \n",
    "1. x의 분포에 걸쳐 균일한 간격의 j 값 그리드를 구성.{x1, x2, ..., xj} \n",
    "2. {1,...,j}의 i에 대해 \n",
    "    * 훈련 데이터를 복사하고 x의 원래 값을 상수 xi로 변경.  \n",
    "    * 주어진 모델 적용(예: 예측 벡터 획득) \n",
    "    * 함께 평균 예측 \n",
    "3. x1, x2, ..., xj에 대한 평균 예측을 플로팅"
   ]
  },
  {
   "cell_type": "markdown",
   "id": "1ca3e069",
   "metadata": {},
   "source": [
    "<img src = \"https://bradleyboehmke.github.io/HOML/images/pdp-illustration.png\">"
   ]
  },
  {
   "cell_type": "markdown",
   "id": "86933626",
   "metadata": {},
   "source": [
    "#### 1. PDP\n",
    "- 지원되지 않는 모델(h2o스택모델)의 경우 사용자 지정 예측함수를 wrap해야됨"
   ]
  },
  {
   "cell_type": "markdown",
   "id": "d52bd48d",
   "metadata": {},
   "source": [
    "#### 사용자 예측함수 지정 (예측된 값의 평균을 반환)"
   ]
  },
  {
   "cell_type": "code",
   "execution_count": null,
   "id": "a46c34eb",
   "metadata": {},
   "outputs": [],
   "source": [
    "pdp_pred <- function(object, newdata)  {\n",
    "  results <- mean(as.vector(h2o.predict(object, as.h2o(newdata))))\n",
    "  return(results)\n",
    "}"
   ]
  },
  {
   "cell_type": "code",
   "execution_count": null,
   "id": "65dd45fc",
   "metadata": {},
   "outputs": [],
   "source": [
    "pd_values <- partial(\n",
    "  ensemble_tree,\n",
    "  train = as.data.frame(train_h2o), \n",
    "  pred.var = \"Gr_Liv_Area\",\n",
    "  pred.fun = pdp_pred, # 예측값을 평균\n",
    "  grid.resolution = 20\n",
    ")"
   ]
  },
  {
   "cell_type": "code",
   "execution_count": null,
   "id": "5fad6958",
   "metadata": {},
   "outputs": [],
   "source": [
    "head(pd_values) "
   ]
  },
  {
   "cell_type": "markdown",
   "id": "dd5a72ee",
   "metadata": {},
   "source": [
    "```\n",
    "##   Gr_Liv_Area     yhat\n",
    "## 1         334 158858.2\n",
    "## 2         584 159566.6\n",
    "## 3         835 160878.2\n",
    "## 4        1085 165896.7\n",
    "## 5        1336 171665.9\n",
    "## 6        1586 180505.1\n",
    "```"
   ]
  },
  {
   "cell_type": "code",
   "execution_count": null,
   "id": "3e487e7a",
   "metadata": {},
   "outputs": [],
   "source": [
    "autoplot(pd_values, rug = TRUE, train = as.data.frame(train_h2o))"
   ]
  },
  {
   "cell_type": "markdown",
   "id": "98115052",
   "metadata": {},
   "source": [
    "<img src = \"https://bradleyboehmke.github.io/HOML/14-iml_files/figure-html/pdp-1.png\">"
   ]
  },
  {
   "cell_type": "markdown",
   "id": "68cf39cb",
   "metadata": {},
   "source": [
    "### #\n",
    "- PDP는 주로 기능이 예측 응답 값에 미치는 한계 효과를 설명\n",
    "- ```vip()```의  ```method = \"pdp\"``` : PDP기반 변수 중요도 측정\n",
    "- 변수 중요도와 변수 효과 모두의 플롯을 확인가능"
   ]
  },
  {
   "cell_type": "markdown",
   "id": "57189e1b",
   "metadata": {},
   "source": [
    "### 개별 조건부 예측값 (ICE)\n",
    "- 개별 조건부 예측 곡선 (ICE)는 PDP와 매우 유사\n",
    "- 모든 관찰에서 예측된 값을 평균하는 대신 **개별 관찰 수준 예측을 관찰**"
   ]
  },
  {
   "cell_type": "markdown",
   "id": "0e5ba2b8",
   "metadata": {},
   "source": [
    "- ICE 플롯은 각 변수에 대한 반응변수의 종속성을 개별적으로 시각화하여 PDP의 한 라인과 비교하여 각 관찰에 대해 하나씩 여러 라인을 생성. \n",
    "- **PDP는 ICE 플롯 라인의 평균.**\n",
    "- PDP가 예측 값을 평균한 마지막 줄을 제외하고는 PDP 알고리즘과 동일."
   ]
  },
  {
   "cell_type": "markdown",
   "id": "dfd7f1d6",
   "metadata": {},
   "source": [
    "선택한 예측 변수(x)에 대해 \n",
    "1. x의 분포에 걸쳐 균일한 간격의 j 값 그리드를 구성: {x1, x2, ..., xj} \n",
    "2. {1,...,j}의 i에 대해 | 훈련 데이터를 복사하고 x의 원래 값을 상수 xi로 변경.  \n",
    "    * 주어진 모델적용(예측 벡터 획득) \n",
    "3. x1, x2, ..., xj에 대해 훈련데이터의 동일한 행 번호에 해당하는 관측값을 연결하는 선으로, 예측을 플로팅. "
   ]
  },
  {
   "cell_type": "markdown",
   "id": "ac36c432",
   "metadata": {},
   "source": [
    "- PDP는 상호작용 효과로 인해 발생하는 이질적인 관계를 해석하기 어려움\n",
    "- **PDP는 변수 간의 평균 관계를 보여줌 (변수 간의 상호작용이 약한 경우에만 잘 작동)**\n",
    "- **상호 작용이 있는 경우 ICE 곡선이 더 좋음**"
   ]
  },
  {
   "cell_type": "markdown",
   "id": "66f55b50",
   "metadata": {},
   "source": [
    "#### 변수를 중앙값으로 scale해야함\n",
    "### - 반드시```center = TRUE```"
   ]
  },
  {
   "cell_type": "code",
   "execution_count": null,
   "id": "c738fd41",
   "metadata": {},
   "outputs": [],
   "source": [
    "# Construct ICE curves\n",
    "ice_non_centered <- partial(\n",
    "  ensemble_tree,\n",
    "  train = as.data.frame(train_h2o), \n",
    "  pred.var = \"Gr_Liv_Area\",\n",
    "  pred.fun = pred,\n",
    "  grid.resolution = 20\n",
    ") %>%\n",
    "  autoplot(alpha = 0.05, center = FALSE) +\n",
    "  ggtitle(\"A) Non-centered ICE curves\")\n",
    "\n",
    "# Construct c-ICE curves\n",
    "ice_centered <- partial(\n",
    "  ensemble_tree,\n",
    "  train = as.data.frame(train_h2o), \n",
    "  pred.var = \"Gr_Liv_Area\",\n",
    "  pred.fun = pred,\n",
    "  grid.resolution = 20\n",
    ") %>%\n",
    "  autoplot(alpha = 0.05, center = TRUE) +\n",
    "  ggtitle(\"B) Centered ICE curves\")\n",
    "\n",
    "# Display plots side by side\n",
    "gridExtra::grid.arrange(ice_non_centered, ice_centered, ncol = 2)"
   ]
  },
  {
   "cell_type": "markdown",
   "id": "7ea2e1f8",
   "metadata": {},
   "source": [
    "<img src = \"https://bradleyboehmke.github.io/HOML/14-iml_files/figure-html/ice-illustration-1.png\">"
   ]
  },
  {
   "cell_type": "code",
   "execution_count": null,
   "id": "2d61e52f",
   "metadata": {},
   "outputs": [],
   "source": [
    "partial(\n",
    "  ensemble_tree,\n",
    "  train = as.data.frame(train_h2o), \n",
    "  pred.var = \"Gr_Liv_Area\",\n",
    "  pred.fun = pred,\n",
    "  grid.resolution = 20,\n",
    "  plot = TRUE,\n",
    "  center = TRUE,\n",
    "  plot.engine = \"ggplot2\"\n",
    ")"
   ]
  },
  {
   "cell_type": "markdown",
   "id": "6d8ff564",
   "metadata": {},
   "source": [
    "<img src = \"https://bradleyboehmke.github.io/HOML/14-iml_files/figure-html/ice-pdp-1.png\">"
   ]
  },
  {
   "cell_type": "markdown",
   "id": "3cff833f",
   "metadata": {},
   "source": [
    "- **분류모델에 대한 PDP는 로짓유형 척도로 표시**"
   ]
  },
  {
   "cell_type": "markdown",
   "id": "e060f44e",
   "metadata": {},
   "source": [
    "### 변수의 상호작용\n",
    "- 예측 모델의 변수가 상호작용이 있을 때 예측 표면에 대한 변수의 영향은 가산적이지 않고 더 복잡\n",
    "\n",
    "#### - H-통계량을 통한 상호작용 평가의 유형\n",
    "\n",
    "- 특정 변수와 다른 모든 변수 간의 상호작용 평가\n",
    "1. {1,...,p}의 변수 i에 대해. \n",
    "    * f(x) = 원래 모델로 예측값 추정 \n",
    "    * pd(x) = 변수 i의 부분 의존성 \n",
    "    * pd(!x) = i를 제외한 모든 변수의 부분 종속성 \n",
    "    * upper = sum(f(x) - pd(x) - pd(!x)) \n",
    "    * lower = variance(f(x)) \n",
    "    * rho = upper / ;ower \n",
    "2. rho(상호작용 강도) 내림차순으로 변수 정렬"
   ]
  },
  {
   "cell_type": "markdown",
   "id": "860e7a4d",
   "metadata": {},
   "source": [
    "- 모델에서 두 개 변수의 상호작용 평가\n",
    "1. i = 관심 있는 변수 \n",
    "2. {1,...,p}의 나머지 변수 j에 대해 다음을 수행\n",
    "    * pd(ij) = 변수 i와 j의 상호작용 부분 의존성 \n",
    "    * pd(i) = 변수 i의 부분 의존성 \n",
    "    * pd(j) = 변수 j의 부분 의존성 \n",
    "    * upper = sum(pd(ij) - pd(i) - pd(j)) \n",
    "    * lower = variance(pd(ij)) \n",
    "    * rho = upper / lower\n",
    "3. rho(상호작용 강도) 내림차순으로 상호작용 관계 정렬"
   ]
  },
  {
   "cell_type": "markdown",
   "id": "0593e069",
   "metadata": {},
   "source": [
    "- 본질적으로, H-통계량은 예측된 결과의 변동이, 변수의 상호작용에 얼마나 의존하는지 측정합\n",
    "- 두 경우 모두, ρ=0(상호작용이 전혀 없을 때)과 1(예측된 결과의 모든 변동이 주어진 상호작용에 의존하는 경우) 사이의 상호작용 강도를 나타냄."
   ]
  },
  {
   "cell_type": "markdown",
   "id": "e588bcbe",
   "metadata": {},
   "source": [
    "### ```imp::Interaction$new()```"
   ]
  },
  {
   "cell_type": "markdown",
   "id": "85ef4a92",
   "metadata": {},
   "source": [
    "* 특정 변수와 다른 모든 변수 간의 상호작용 평가"
   ]
  },
  {
   "cell_type": "code",
   "execution_count": null,
   "id": "20e8df55",
   "metadata": {},
   "outputs": [],
   "source": [
    "interact <- Interaction$new(components_iml)\n",
    "interact$results %>% \n",
    "  arrange(desc(.interaction)) %>% \n",
    "  head()"
   ]
  },
  {
   "cell_type": "markdown",
   "id": "057dab51",
   "metadata": {},
   "source": [
    "```\n",
    "##        .feature .interaction\n",
    "## 1  First_Flr_SF   0.13917718\n",
    "## 2  Overall_Qual   0.11077722\n",
    "## 3  Kitchen_Qual   0.10531653\n",
    "## 4 Second_Flr_SF   0.10461824\n",
    "## 5      Lot_Area   0.10389242\n",
    "## 6   Gr_Liv_Area   0.09833997\n",
    "```"
   ]
  },
  {
   "cell_type": "code",
   "execution_count": null,
   "id": "c4287b26",
   "metadata": {},
   "outputs": [],
   "source": [
    "plot(interact)"
   ]
  },
  {
   "cell_type": "markdown",
   "id": "0d9fe2f3",
   "metadata": {},
   "source": [
    "<img src = \"https://bradleyboehmke.github.io/HOML/14-iml_files/figure-html/plot-h-stat-1.png\">"
   ]
  },
  {
   "cell_type": "markdown",
   "id": "bb3b6aad",
   "metadata": {},
   "source": [
    "* 모델에서 두 개 변수의 상호작용 평가"
   ]
  },
  {
   "cell_type": "code",
   "execution_count": null,
   "id": "fb66b0c1",
   "metadata": {},
   "outputs": [],
   "source": [
    "interact_2way <- Interaction$new(components_iml, feature = \"First_Flr_SF\")\n",
    "interact_2way$results %>% \n",
    "  arrange(desc(.interaction)) %>% \n",
    "  top_n(10)"
   ]
  },
  {
   "cell_type": "markdown",
   "id": "13443fd7",
   "metadata": {},
   "source": [
    "```\n",
    "##                      .feature .interaction\n",
    "## 1   Overall_Qual:First_Flr_SF   0.14385963\n",
    "## 2     Year_Built:First_Flr_SF   0.09314573\n",
    "## 3   Kitchen_Qual:First_Flr_SF   0.06567883\n",
    "## 4      Bsmt_Qual:First_Flr_SF   0.06228321\n",
    "## 5  Bsmt_Exposure:First_Flr_SF   0.05900530\n",
    "## 6  Second_Flr_SF:First_Flr_SF   0.05747438\n",
    "## 7  Kitchen_AbvGr:First_Flr_SF   0.05675684\n",
    "## 8    Bsmt_Unf_SF:First_Flr_SF   0.05476509\n",
    "## 9     Fireplaces:First_Flr_SF   0.05470992\n",
    "## 10  Mas_Vnr_Area:First_Flr_SF   0.05439255\n",
    "```"
   ]
  },
  {
   "cell_type": "markdown",
   "id": "6bfc9cef",
   "metadata": {},
   "source": [
    "#### 상호작용이 있는 PDP 또는 ICE 곡선을 사용하여 예측된 반응에 미치는 영향을 확인가능\n",
    "- First_Flr_SF위의 프로세스는 와 Overall_Qual가 상호작용 효과가 가장 높다는 것 확인\n",
    "- First_Flr_SF와 Overall_Qual의 관계 시각화"
   ]
  },
  {
   "cell_type": "code",
   "execution_count": null,
   "id": "7eb32920",
   "metadata": {},
   "outputs": [],
   "source": [
    "interaction_pdp <- Partial$new(\n",
    "  components_iml, \n",
    "  c(\"First_Flr_SF\", \"Overall_Qual\"), \n",
    "  ice = FALSE, \n",
    "  grid.size = 20\n",
    ") \n",
    "plot(interaction_pdp)"
   ]
  },
  {
   "cell_type": "code",
   "execution_count": null,
   "id": "4a7b7dda",
   "metadata": {},
   "outputs": [],
   "source": [
    "labels <- interaction_pdp$results %>% filter(First_Flr_SF == max(First_Flr_SF))\n",
    "plot(interaction_pdp) + \n",
    "  ggrepel::geom_label_repel(\n",
    "    data = labels, \n",
    "    aes(label = Overall_Qual),\n",
    "    label.size = .05, \n",
    "    label.padding = .15\n",
    "  )"
   ]
  },
  {
   "cell_type": "markdown",
   "id": "6f65ff2b",
   "metadata": {},
   "source": [
    "<img src = \"https://bradleyboehmke.github.io/HOML/14-iml_files/figure-html/interaction-pdp2-1.png\">"
   ]
  },
  {
   "cell_type": "markdown",
   "id": "57680abc",
   "metadata": {},
   "source": [
    "## LIME (Local interpretable model-agnostic explanations)\n",
    "- LIME은 훈련 데이터를 여러 번 샘플링하여 관심 있는 개별 레코드와 유사한 관찰을 식별합\n",
    "- 관심 인스턴스에 대한 샘플링된 관찰값의 근접성에 의해 가중치가 부여된 해석 가능한 모델(종종 LASSO 모델)을 훈련. \n",
    "- 결과 모델을 사용하여 관심 있는 관찰 범위에서 더 복잡한 모델의 예측을 설명"
   ]
  },
  {
   "cell_type": "markdown",
   "id": "3d4905e6",
   "metadata": {},
   "source": [
    "1. 훈련 데이터를 치환하여 약간의 값 수정으로 복제된 기능 데이터를 생성\n",
    "2. 관심 있는 관찰값과 치환된 각각의 관찰값 사이의 근접 측정 (예: 1 - 거리)을 계산\n",
    "3. 모델을 적용 하여 순열 데이터의 결과를 예측 합니다.\n",
    "4. 예측된 결과를 가장 잘 설명하는 m개의 변수 선택\n",
    "5. 간단한 모델을 순열 데이터에 맞추고 복잡한 모델 결과를 다음과 같이 설명. (m : 원래 관찰과의 유사성에 의해 가중치가 부여된 치환된 데이터의 변수.)\n",
    "6. 결과 변수 가중치를 사용하여 로컬 변동을 설명."
   ]
  },
  {
   "cell_type": "markdown",
   "id": "122eb192",
   "metadata": {},
   "source": [
    "### ```lime::lime()``` \n",
    "- ```\"explainer\"```객체를 생성, 이 객체는 적합된 모델과 훈련 데이터에 대한 변수분포를 포함하는 목록\n",
    "- 여기에 포함된 변수의 분포에는, 각 범주형 변수 수준에 대한 분포 통계와, 다음으로 분할된 각 연속 변수가 포함\n",
    "- 이러한 변수 속성은 데이터를 치환하는 데 사용"
   ]
  },
  {
   "cell_type": "code",
   "execution_count": null,
   "id": "fa0bf501",
   "metadata": {},
   "outputs": [],
   "source": [
    "components_lime <- lime(\n",
    "  x = features,\n",
    "  model = ensemble_tree, \n",
    "  n_bins = 10\n",
    ")"
   ]
  },
  {
   "cell_type": "code",
   "execution_count": null,
   "id": "9c4aa74d",
   "metadata": {},
   "outputs": [],
   "source": [
    "class(components_lime)"
   ]
  },
  {
   "cell_type": "markdown",
   "id": "6e8fac8b",
   "metadata": {},
   "source": [
    "```\n",
    "## [1] \"data_frame_explainer\" \"explainer\"            \"list\"\n",
    "```"
   ]
  },
  {
   "cell_type": "code",
   "execution_count": null,
   "id": "2b0e66a3",
   "metadata": {},
   "outputs": [],
   "source": [
    "summary(components_lime)"
   ]
  },
  {
   "cell_type": "markdown",
   "id": "435fdcd8",
   "metadata": {},
   "source": [
    "```\n",
    "##                      Length Class              Mode     \n",
    "## model                 1     H2ORegressionModel S4       \n",
    "## preprocess            1     -none-             function \n",
    "## bin_continuous        1     -none-             logical  \n",
    "## n_bins                1     -none-             numeric  \n",
    "## quantile_bins         1     -none-             logical  \n",
    "## use_density           1     -none-             logical  \n",
    "## feature_type         80     -none-             character\n",
    "## bin_cuts             80     -none-             list     \n",
    "## feature_distribution 80     -none-             list\n",
    "```"
   ]
  },
  {
   "cell_type": "markdown",
   "id": "8572e7ef",
   "metadata": {},
   "source": [
    "### ```lime::explain()```\n",
    "- ```x``` : 국소설명할 관측값\n",
    "- ```explainer``` : ```\"explainer\"```객체\n",
    "- ```n_permutations``` : 각 관차에 대해 생성할 순열의 수\n",
    "- ```dist_fun``` : 사용할 거리함수 (\"Gower\", \"Euclidean\", \"Manhattan\")\n",
    "- ```kernel_width``` : 거리 측정값을 유사도 점수로 변환하기 위해 사용자 정의 너비의 지수 커널, 값이 작을수록 국소영역의 크기가 제한\n",
    "- ```n_features``` : 예측된 결과를 가장 잘 설명하는 변수의 수\n",
    "- ```feature_select``` : ```\"forward_selection\"``` (전진선택법), ```\"highest_weights\"``` (릿지회귀), ```\"lasso_path\"``` (라쏘회귀), ```\"tree\"``` (결정트리)를 사용하여, 최상의 ```n_features```변수 선택"
   ]
  },
  {
   "cell_type": "markdown",
   "id": "f76d6cc1",
   "metadata": {},
   "source": [
    "#### 분류모델의 경우\n",
    "- ```labels``` : 설명할 특정 레이블(클래스)\n",
    "- ```n_labels``` : 설명할 범주의 수"
   ]
  },
  {
   "cell_type": "code",
   "execution_count": null,
   "id": "870c8420",
   "metadata": {},
   "outputs": [],
   "source": [
    "high_ob <- as.data.frame(train_h2o)[which.max(predictions), ] %>% select(-Sale_Price)\n",
    "low_ob  <- as.data.frame(train_h2o)[which.min(predictions), ] %>% select(-Sale_Price)"
   ]
  },
  {
   "cell_type": "markdown",
   "id": "25dd3f07",
   "metadata": {},
   "source": [
    "high_ob : Sale_Price의 가장 높은 예측값\n",
    "\n",
    "low_ob : \"\" 가장 낮은 예측값"
   ]
  },
  {
   "cell_type": "code",
   "execution_count": null,
   "id": "213b6959",
   "metadata": {},
   "outputs": [],
   "source": [
    "lime_explanation <- lime::explain(\n",
    "  x = rbind(high_ob, low_ob), \n",
    "  explainer = components_lime, \n",
    "  n_permutations = 5000,\n",
    "  dist_fun = \"gower\",\n",
    "  kernel_width = 0.25,\n",
    "  n_features = 10, \n",
    "  feature_select = \"highest_weights\"\n",
    ")"
   ]
  },
  {
   "cell_type": "markdown",
   "id": "c36075d0",
   "metadata": {},
   "source": [
    "- 회귀모델인 경우 모델의 출력을 직접 예측\n",
    "- 분류모델인 경우 선택한 클래스의 확률을 예측"
   ]
  },
  {
   "cell_type": "code",
   "execution_count": null,
   "id": "3d2231ac",
   "metadata": {},
   "outputs": [],
   "source": [
    "glimpse(lime_explanation)"
   ]
  },
  {
   "cell_type": "markdown",
   "id": "05cb0b8b",
   "metadata": {},
   "source": [
    "```\n",
    "## Observations: 20\n",
    "## Variables: 11\n",
    "## $ model_type       <chr> \"regression\", \"regression\", \"regression\", \"regr…\n",
    "## $ case             <chr> \"1825\", \"1825\", \"1825\", \"1825\", \"1825\", \"1825\",…\n",
    "## $ model_r2         <dbl> 0.41661172, 0.41661172, 0.41661172, 0.41661172,…\n",
    "## $ model_intercept  <dbl> 186253.6, 186253.6, 186253.6, 186253.6, 186253.…\n",
    "## $ model_prediction <dbl> 406033.5, 406033.5, 406033.5, 406033.5, 406033.…\n",
    "## $ feature          <chr> \"Gr_Liv_Area\", \"Overall_Qual\", \"Total_Bsmt_SF\",…\n",
    "## $ feature_value    <int> 3627, 8, 1930, 35760, 1796, 1831, 3, 14, 1, 3, …\n",
    "## $ feature_weight   <dbl> 55254.859, 50069.347, 40261.324, 20430.128, 193…\n",
    "## $ feature_desc     <chr> \"2141 < Gr_Liv_Area\", \"Overall_Qual = Very_Exce…\n",
    "## $ data             <list> [[Two_Story_1946_and_Newer, Residential_Low_De…\n",
    "## $ prediction       <dbl> 663136.38, 663136.38, 663136.38, 663136.38, 663…\n",
    "```"
   ]
  },
  {
   "cell_type": "code",
   "execution_count": null,
   "id": "d62b219e",
   "metadata": {},
   "outputs": [],
   "source": [
    "plot_features(lime_explanation, ncol = 1)"
   ]
  },
  {
   "cell_type": "markdown",
   "id": "15a3d56f",
   "metadata": {},
   "source": [
    "<img src = \"https://bradleyboehmke.github.io/HOML/14-iml_files/figure-html/first-lime-fit-1.png\">"
   ]
  },
  {
   "cell_type": "markdown",
   "id": "d48a6d3c",
   "metadata": {},
   "source": [
    "- Explanation Fit = R^2"
   ]
  },
  {
   "cell_type": "markdown",
   "id": "190e6cfd",
   "metadata": {},
   "source": [
    "### 튜닝"
   ]
  },
  {
   "cell_type": "code",
   "execution_count": null,
   "id": "5c37a29f",
   "metadata": {},
   "outputs": [],
   "source": [
    "lime_explanation2 <- explain(\n",
    "  x = rbind(high_ob, low_ob), \n",
    "  explainer = components_lime, \n",
    "  n_permutations = 5000,\n",
    "  dist_fun = \"euclidean\",\n",
    "  kernel_width = 0.75,\n",
    "  n_features = 10, \n",
    "  feature_select = \"lasso_path\"\n",
    ")"
   ]
  },
  {
   "cell_type": "code",
   "execution_count": null,
   "id": "971cd643",
   "metadata": {},
   "outputs": [],
   "source": [
    "plot_features(lime_explanation2, ncol = 1)"
   ]
  },
  {
   "cell_type": "markdown",
   "id": "b3fb2cdb",
   "metadata": {},
   "source": [
    "<img src = \"https://bradleyboehmke.github.io/HOML/14-iml_files/figure-html/lime-explain2-1.png\">"
   ]
  },
  {
   "cell_type": "markdown",
   "id": "3916f86d",
   "metadata": {},
   "source": [
    "## 샤플리 값"
   ]
  },
  {
   "cell_type": "markdown",
   "id": "e3097b38",
   "metadata": {},
   "source": [
    "- 일부 변수는 모델의 예측에 많은 영향을 미치고 다른 변수는 관련이 없을 수 있음\n",
    "- 결과적으로 각 변수의 효과는 해당 변수가 없었다면 예측이 어떠했을지 확인하여 측정할 수 있다\n",
    "- **모델 출력의 변화가 클수록 해당변수가 더 중요함을 의미 => 순열기반 변수 중요도**\n",
    "\n",
    "- **그러나 한 번에 하나의 변수 효과만 관찰하는 것은, 변수 간의 종속성이 고려되지 않다는 것을 의미**"
   ]
  },
  {
   "cell_type": "markdown",
   "id": "4142a2ec",
   "metadata": {},
   "source": [
    "- Shapley 값은 모든 예측 변수 조합을 평가하여 각 예측 변수가 미치는 영향을 결정\n",
    "- 변수에 xj를 포함하지 않는 모든 변수 조합의 정확도를 테스트\n",
    "- 다음 xj를 조합에 추가하여 얼마나 정확도가 향상되는지 테스트"
   ]
  },
  {
   "cell_type": "markdown",
   "id": "e414ec46",
   "metadata": {},
   "source": [
    "- **집계된 Shapley 값(phi) : 데이터 세트에 대한 평균예측과 비교하여, 예측값에 대한 각 변수의 기여도**"
   ]
  },
  {
   "cell_type": "markdown",
   "id": "3f72b679",
   "metadata": {},
   "source": [
    "(A) : 훈련데이터를 샘플링\n",
    "\n",
    "(B) : 샘플링된 행의 사본 두 개를 만들고, 변수의 순서를 무작위로 지정, \n",
    "- 첫 번째 사본 : \n",
    "    - 관심있는 변수를 포함하지 않은 변수조합의 변수값으로 추출한 샘플의 변수값을 사용, 나머지 변수들 (관심있는 변수 포함)에는 관심있는 관측치의 변수값을 사용\n",
    "- 두 번째 사본 :\n",
    "    - 관심있는 변수를 포함한 변수조합의 변수값으로 추출한 샘플의 변수값을 사용, 나머지 변수들에는 관심있는 관측치의 변수값을 사용\n",
    "    \n",
    "(C) : 이 행의 두 복사본에 모델을 적용\n",
    "\n",
    "(D) : 예측된 출력 간의 차이를 계산"
   ]
  },
  {
   "cell_type": "markdown",
   "id": "1243e76b",
   "metadata": {},
   "source": [
    "<img src = \"https://bradleyboehmke.github.io/HOML/images/approx-shapley-idea.png\">"
   ]
  },
  {
   "cell_type": "markdown",
   "id": "f14372df",
   "metadata": {},
   "source": [
    "- 샘플링된 모든 행에 대해 이 절차를 따르고, 샘플링된 모든 행의 평균 차이는 Shapley값\n",
    "- 샘플링 절차에 더 많은 관측값을 포함할수록, 정확한 Shapley값 계산"
   ]
  },
  {
   "cell_type": "markdown",
   "id": "42826ac1",
   "metadata": {},
   "source": [
    "### ```iml::Shaley$new()```"
   ]
  },
  {
   "cell_type": "code",
   "execution_count": null,
   "id": "242d3562",
   "metadata": {},
   "outputs": [],
   "source": [
    "(shapley <- Shapley$new(components_iml, x.interest = high_ob, sample.size = 1000))"
   ]
  },
  {
   "cell_type": "markdown",
   "id": "6b6198c0",
   "metadata": {},
   "source": [
    "```\n",
    "## Interpretation method:  Shapley \n",
    "## Predicted value: 663136.380000, Average prediction: 181338.963590 (diff = 481797.416410)\n",
    "## \n",
    "## Analysed predictor: \n",
    "## Prediction task: unknown \n",
    "## \n",
    "## \n",
    "## Analysed data:\n",
    "## Sampling from data.frame with 2199 rows and 80 columns.\n",
    "## \n",
    "## Head of results:\n",
    "##        feature         phi      phi.var\n",
    "## 1  MS_SubClass  1746.38653 4.269700e+07\n",
    "## 2    MS_Zoning   -24.01968 3.640500e+06\n",
    "## 3 Lot_Frontage  1104.17628 7.420201e+07\n",
    "## 4     Lot_Area 15471.49017 3.994880e+08\n",
    "## 5       Street     1.03684 6.198064e+03\n",
    "## 6        Alley    41.81164 5.831185e+05\n",
    "##                          feature.value\n",
    "## 1 MS_SubClass=Two_Story_1946_and_Newer\n",
    "## 2    MS_Zoning=Residential_Low_Density\n",
    "## 3                     Lot_Frontage=118\n",
    "## 4                       Lot_Area=35760\n",
    "## 5                          Street=Pave\n",
    "## 6                Alley=No_Alley_Access\n",
    "```"
   ]
  },
  {
   "cell_type": "code",
   "execution_count": null,
   "id": "8a07ea6e",
   "metadata": {},
   "outputs": [],
   "source": [
    "plot(shapley)"
   ]
  },
  {
   "cell_type": "markdown",
   "id": "a949a80d",
   "metadata": {},
   "source": [
    "<img src = \"https://bradleyboehmke.github.io/HOML/14-iml_files/figure-html/shapley-1.png\">"
   ]
  },
  {
   "cell_type": "markdown",
   "id": "6caccc0f",
   "metadata": {},
   "source": [
    "### ```iml::shapley$explain()```\n",
    "- ```x.interest``` : 관심있는 관측치"
   ]
  },
  {
   "cell_type": "code",
   "execution_count": null,
   "id": "a35a41f2",
   "metadata": {},
   "outputs": [],
   "source": [
    "shapley$explain(x.interest = low_ob)\n",
    "shapley$results %>%\n",
    "  top_n(25, wt = abs(phi)) %>%\n",
    "  ggplot(aes(phi, reorder(feature.value, phi), color = phi > 0)) +\n",
    "  geom_point(show.legend = FALSE)"
   ]
  },
  {
   "cell_type": "markdown",
   "id": "3432ebdd",
   "metadata": {},
   "source": [
    "<img src = \"https://bradleyboehmke.github.io/HOML/14-iml_files/figure-html/shapley2-1.png\">"
   ]
  },
  {
   "cell_type": "markdown",
   "id": "7151c18d",
   "metadata": {},
   "source": [
    "### XGBoost 내장 Shapley값"
   ]
  },
  {
   "cell_type": "code",
   "execution_count": null,
   "id": "f825e9d6",
   "metadata": {},
   "outputs": [],
   "source": [
    "X <- readr::read_rds(\"data/xgb-features.rds\")\n",
    "xgb.fit.final <- readr::read_rds(\"data/xgb-fit-final.rds\")"
   ]
  },
  {
   "cell_type": "markdown",
   "id": "9a73a385",
   "metadata": {},
   "source": [
    "#### ```predict(newdata = X, predcontrib = TRUE)``` : 데이터의 각 변수 및 관측치에 대한 예측 기여도 계산"
   ]
  },
  {
   "cell_type": "code",
   "execution_count": null,
   "id": "dadc3b10",
   "metadata": {},
   "outputs": [],
   "source": [
    "feature_values <- X %>%\n",
    "  as.data.frame() %>%\n",
    "  mutate_all(scale) %>%\n",
    "  gather(feature, feature_value) %>% \n",
    "  pull(feature_value)\n",
    "\n",
    "shap_df <- xgb.fit.final %>%\n",
    "  predict(newdata = X, predcontrib = TRUE) %>%\n",
    "  as.data.frame() %>%\n",
    "  select(-BIAS) %>%\n",
    "  gather(feature, shap_value) %>%\n",
    "  mutate(feature_value = feature_values) %>%\n",
    "  group_by(feature) %>%\n",
    "  mutate(shap_importance = mean(abs(shap_value)))\n",
    "\n",
    "p1 <- ggplot(shap_df, aes(x = shap_value, y = reorder(feature, shap_importance))) +\n",
    "  ggbeeswarm::geom_quasirandom(groupOnX = FALSE, varwidth = TRUE, size = 0.4, alpha = 0.25) +\n",
    "  xlab(\"SHAP value\") +\n",
    "  ylab(NULL)\n",
    "\n",
    "p2 <- shap_df %>% \n",
    "  select(feature, shap_importance) %>%\n",
    "  filter(row_number() == 1) %>%\n",
    "  ggplot(aes(x = reorder(feature, shap_importance), y = shap_importance)) +\n",
    "    geom_col() +\n",
    "    coord_flip() +\n",
    "    xlab(NULL) +\n",
    "    ylab(\"mean(|SHAP value|)\")\n",
    "\n",
    "gridExtra::grid.arrange(p1, p2, nrow = 1)"
   ]
  },
  {
   "cell_type": "markdown",
   "id": "314fbc33",
   "metadata": {},
   "source": [
    "<img src = \"https://bradleyboehmke.github.io/HOML/14-iml_files/figure-html/shap-vip-1.png\">"
   ]
  },
  {
   "cell_type": "markdown",
   "id": "df3ca4c7",
   "metadata": {},
   "source": [
    "- 기여도와 변수 중요도"
   ]
  },
  {
   "cell_type": "code",
   "execution_count": null,
   "id": "03d90a3d",
   "metadata": {},
   "outputs": [],
   "source": [
    "shap_df %>% \n",
    "  filter(feature %in% c(\"Overall_Qual\", \"Gr_Liv_Area\")) %>%\n",
    "  ggplot(aes(x = feature_value, y = shap_value)) +\n",
    "    geom_point(aes(color = shap_value)) +\n",
    "    scale_colour_viridis_c(name = \"Feature value\\n(standardized)\", option = \"C\") +\n",
    "    facet_wrap(~ feature, scales = \"free\") +\n",
    "    scale_y_continuous('Shapley value', labels = scales::comma) +\n",
    "    xlab('Normalized feature value')"
   ]
  },
  {
   "cell_type": "markdown",
   "id": "6287f3c3",
   "metadata": {},
   "source": [
    "<img src = \"https://bradleyboehmke.github.io/HOML/14-iml_files/figure-html/shap-pdp-1.png\">"
   ]
  },
  {
   "cell_type": "markdown",
   "id": "773d4466",
   "metadata": {},
   "source": [
    "### Localized step-wise procedure"
   ]
  },
  {
   "cell_type": "markdown",
   "id": "67578eb8",
   "metadata": {},
   "source": [
    "- 전체 평균 예측 반응에 대한 영향을 기반으로 반복적으로 특징을 식별하고 제거하기 위해 탐욕적인 전략을 사용하는 분류방법"
   ]
  },
  {
   "cell_type": "markdown",
   "id": "0579f03d",
   "metadata": {},
   "source": [
    "- 분류 방법은 두 가지 순차적 접근 방식을\n",
    "- 기본값은 step up 이라고 합니다 . \n",
    "- 이 절차는 기본적으로 관심 있는 단일 관찰값에서 주어진 변수에 대한 값을 취하고, 훈련데이터 세트의 모든 관찰값을 대체하며 예측 오류에 미치는 영향을 식별\n",
    "- 각 변수에 대해 이 프로세스를 반복적이고 독립적으로 수행하고 차이 점수가 가장 큰 것을 식별하고, 해당 변수를 목록에 가장 중요한 것으로 추가\n",
    "- 그런 다음 이 변수의 신호가 제거되고(무작위화를 통해) 절차는 나머지 예측자를 스윕하고 모든 변수가 평가될 때까지 동일한 프로세스를 적용합니다."
   ]
  },
  {
   "cell_type": "markdown",
   "id": "8cc04da0",
   "metadata": {},
   "source": [
    "Existing_data = \"explainer\"에서 사용되는 검증 데이터 세트 \n",
    "\n",
    "new_ob = 국소해석을 수행하기 위한 단일 관찰 \n",
    "\n",
    "p = 예측변수의 수 \n",
    "\n",
    "l = 예측변수 목록 \n",
    "\n",
    "baseline = Existing_data의 평균 예측 반응\n",
    "\n",
    "{1,...,p}의 변수 i에 대해 \n",
    "\n",
    "    {1,...,l}의 변수 j에 대해 \n",
    "        * Existing_data의 변수 j를 new_ob의 변수 j 값으로 교환 \n",
    "        * predicted_j = 변경된 기존 데이터의 평균 예측 응답 \n",
    "        * diff_j = 기준선 간의 절대 차이 - 예측값 \n",
    "        * Existing_data 재설정 \n",
    "    * t = diff 값이 가장 큰 변수 j \n",
    "    * 변수 t에 대한 기여 = 변수 t에 대한 차이 값 \n",
    "    * l에서 변수 t 제거"
   ]
  },
  {
   "cell_type": "markdown",
   "id": "fc70ebc6",
   "metadata": {},
   "source": [
    "### ```DALEX::prediction_breakdown()```\n",
    "- 단일 관측값에 대해 알고리즘 수행, ```\"prediction_breakdown_explainer\"```객체 출력\n",
    "- ```\"prediction_breakdown_explainer\"```는 각 변수에 대한 기여도를 나열하는 클래스가 있는 데이터프레임\n",
    "- ```observation``` : 관심있는 관측값\n",
    "- ```direction``` : 접근 방식 (default = ```\"up\"```)"
   ]
  },
  {
   "cell_type": "code",
   "execution_count": null,
   "id": "9f4b091b",
   "metadata": {},
   "outputs": [],
   "source": [
    "high_breakdown <- prediction_breakdown(components_dalex, observation = high_ob)\n",
    "\n",
    "class(high_breakdown)\n",
    "\n",
    "high_breakdown[1:10, 1:5]"
   ]
  },
  {
   "cell_type": "markdown",
   "id": "f44af513",
   "metadata": {},
   "source": [
    "```\n",
    "##                                      variable contribution variable_name variable_value cummulative\n",
    "## 1                                 (Intercept)    181338.96     Intercept              1    181338.9\n",
    "## Gr_Liv_Area              + Gr_Liv_Area = 4316     46971.64   Gr_Liv_Area           4316    228310.5\n",
    "## Second_Flr_SF          + Second_Flr_SF = 1872     52997.40 Second_Flr_SF           1872    281307.9\n",
    "## Total_Bsmt_SF          + Total_Bsmt_SF = 2444     41339.89 Total_Bsmt_SF           2444    322647.8\n",
    "## Overall_Qual  + Overall_Qual = Very_Excellent     47690.10  Overall_Qual Very_Excellent    370337.9\n",
    "## First_Flr_SF            + First_Flr_SF = 2444     56780.92  First_Flr_SF           2444    427118.8\n",
    "## Bsmt_Qual             + Bsmt_Qual = Excellent     49341.73     Bsmt_Qual      Excellent    476460.6\n",
    "## Neighborhood      + Neighborhood = Northridge     54289.27  Neighborhood     Northridge    530749.8\n",
    "## Garage_Cars                 + Garage_Cars = 3     41959.23   Garage_Cars              3    572709.1\n",
    "## Kitchen_Qual       + Kitchen_Qual = Excellent     59805.57  Kitchen_Qual      Excellent    632514.6\n",
    "```"
   ]
  },
  {
   "cell_type": "markdown",
   "id": "3a6f2460",
   "metadata": {},
   "source": [
    "- Gr_Liv_Area가 가장 영향력 있는 것으로 확인되었으며 그 다음이 Second_Flr_SF및 Total_Bsmt_SF\n",
    "- 하지만 기여도를 보면 Second_Flr_SF이 더 크다는 것을 알 수 Gr_Liv_Area있다. \n",
    "- Second_Flr_SF 기여도는 이미 Gr_Liv_Area의 기여도를 적용한 경우를 기준으로 함"
   ]
  },
  {
   "cell_type": "code",
   "execution_count": null,
   "id": "a42e6db7",
   "metadata": {},
   "outputs": [],
   "source": [
    "plot(high_breakdown)"
   ]
  },
  {
   "cell_type": "code",
   "execution_count": null,
   "id": "52aec438",
   "metadata": {},
   "outputs": [],
   "source": [
    "h2o.shutdown(prompt = FALSE)"
   ]
  }
 ],
 "metadata": {
  "kernelspec": {
   "display_name": "R 4.1.3",
   "language": "R",
   "name": "ir32"
  },
  "language_info": {
   "codemirror_mode": "r",
   "file_extension": ".r",
   "mimetype": "text/x-r-source",
   "name": "R",
   "pygments_lexer": "r",
   "version": "4.1.3"
  }
 },
 "nbformat": 4,
 "nbformat_minor": 5
}
