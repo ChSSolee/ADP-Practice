{
 "cells": [
  {
   "cell_type": "code",
   "execution_count": 3,
   "id": "9612d679",
   "metadata": {},
   "outputs": [],
   "source": [
    "library(tidyverse)\n",
    "\n",
    "library(gbm)\n",
    "library(h2o)\n",
    "library(xgboost)"
   ]
  },
  {
   "cell_type": "code",
   "execution_count": 4,
   "id": "b7eb7529",
   "metadata": {},
   "outputs": [],
   "source": [
    "ames <- ames <- AmesHousing::make_ames()\n",
    "index <- sample(1:dim(ames)[1], 0.7*dim(ames)[1])\n",
    "ames_train <- ames[index,]\n",
    "ames_test <- ames[-index,]"
   ]
  },
  {
   "cell_type": "markdown",
   "id": "899ad546",
   "metadata": {},
   "source": [
    "## GBM(Gradient Boosting Machine)\n",
    "- 각 트리가 이전 트리를 학습하고 개선하면서 순차적으로 얕은 트리의 앙상블을 구축\n",
    "- 얕은 나무 자체는 다소 약한 예측 모델이지만 적절하게 조정될 때 효과적"
   ]
  },
  {
   "cell_type": "markdown",
   "id": "193a7152",
   "metadata": {},
   "source": [
    "### 부스팅의 원리\n",
    "- 부스팅은 단순한 모델(결정트리)에서 앙상블을 구축하기 위한 일반적인 알고리즘\n",
    "- 높은 편향과 낮은 분산을 가진 모델에 더 효과적으로 적용"
   ]
  },
  {
   "cell_type": "markdown",
   "id": "fe93e9d7",
   "metadata": {},
   "source": [
    "### 순차 앙상블 접근\n",
    "- 부스팅의 주요 아이디어는, 새로운 모델을 앙상블에 순차적으로 추가\n",
    "- 약한모델에서 시작 => 편향-분산-트레이드오프 => 새로운 트리를 구축 => 순차적 성능향상 (이전 트리의 결점을 보완)\n",
    "- 시퀀스의 각 새로운 트리는 이전 트리에서 가장 큰 예측 오류가 있었던 변수에 초점을 맞춤\n",
    "\n",
    "<img src = \"https://bradleyboehmke.github.io/HOML/images/boosted-trees-process.png\">"
   ]
  },
  {
   "cell_type": "markdown",
   "id": "fe2d2d03",
   "metadata": {},
   "source": [
    "#### 1. 기본 학습기\n",
    "- 부스팅은 약한 학습 모델 을 반복적으로 개선하는 프레임워크. \n",
    "- 많은 그래디언트 부스팅 응용 프로그램을 사용하면 원하는 대로 다양한 클래스의 약한 학습기를 \"플러그인\"할 수 있음"
   ]
  },
  {
   "cell_type": "markdown",
   "id": "2f92df09",
   "metadata": {},
   "source": [
    "#### 2. 약한 모델 훈련\n",
    "- 약한 모델은 오류율이 무작위 추측보다 약간 더 나은 모델\n",
    "- 부스팅의 아이디어는 시퀀스의 각 모델이 이전 모델의 성능을 약간 향상시킨다는 것 (기본적으로 이전 트리에서 가장 큰 오류 또는 잔차가 있었던 훈련 데이터의 행에 초점을 맞춤). \n",
    "- 결정 트리와 관련하여 얕은 트리(즉, 분할이 상대적으로 적은 트리)는 약한 학습기를 나타냅니다. 부스팅에서는 1-6 분할이 있는 나무가 가장 일반적"
   ]
  },
  {
   "cell_type": "markdown",
   "id": "76e29af3",
   "metadata": {},
   "source": [
    "#### 3. 오류에 대한 순차 훈련 \n",
    "- 부스트된 트리는 순차적으로 성장\n",
    "- 각 트리는 성능을 향상시키기 위해 이전에 성장한 트리의 정보를 사용하여 성장\n",
    "- 시퀀스의 각 트리를 이전 트리의 잔차에 맞추면, 시퀀스의 각 새 트리가 이전 트리의 실수에 집중할 수 있다."
   ]
  },
  {
   "cell_type": "markdown",
   "id": "04454855",
   "metadata": {},
   "source": [
    "### 경사하강법\n",
    "- 경사하강법은 비용함수를 최소화하기 위해 매개변수를 반복적으로 조정\n",
    "- 경사하강법은 최소값에 도달할 때까지 매개변수를 반복적으로 조정하여 비용 함수(즉, MSE)를 점진적으로 감소시키는 프로세스\n",
    "<img src = \"https://bradleyboehmke.github.io/HOML/10-gradient-boosting_files/figure-html/gradient-descent-fig-1.png\">"
   ]
  },
  {
   "cell_type": "markdown",
   "id": "a857e964",
   "metadata": {},
   "source": [
    "- 기울기 하강법은 미분 가능한 모든 손실 함수에 대해 수행 가능\n",
    "- 경사하강법에서 중요한 매개변수는 학습률에 의해 제어되는 step의 크기\n",
    "- 학습률이 너무 작으면 알고리즘은 최소값을 찾기 위해 많은 반복(단계)을 수행\n",
    "- 반면에 학습률이 너무 높으면 최소값을 뛰어 넘어 시작했을 때보다 더 멀리 끝날 수 있음\n",
    "\n",
    "<img src = \"https://bradleyboehmke.github.io/HOML/10-gradient-boosting_files/figure-html/learning-rate-fig-1.png\">"
   ]
  },
  {
   "cell_type": "markdown",
   "id": "d5f122da",
   "metadata": {},
   "source": [
    "### 확률적 경사하강법"
   ]
  },
  {
   "cell_type": "markdown",
   "id": "197482e5",
   "metadata": {},
   "source": [
    "- 손실 함수의 국소 최소값, 고원 및 기타 불규칙한 지형에서 전역 최소값을 찾는 것을 어려움 \n",
    "- 확률적 경사하강법은 훈련 관찰의 일부를 비복원추출하고, 해당 하위 샘플을 사용하여 다음 트리를 성장시켜 이 문제를 해결하는 데 도움\n",
    "- 이것은 알고리즘을 더 빠르게 하지만 랜덤 샘플링의 확률적 특성은, 손실 함수의 기울기를 내림차순으로 약간의 무작위 특성을 추가\n",
    "- 이 무작위성은 알고리즘이 절대 전역 최소값을 찾는 것을 허용하지 않지만 실제로 알고리즘이 전역 최소값에 충분히 가까워지도록 국소 최소값과 고원에서 벗어나도록 도울 수 있음.\n",
    "\n",
    "\n",
    "<img src = \"https://bradleyboehmke.github.io/HOML/10-gradient-boosting_files/figure-html/stochastic-gradient-descent-fig-1.png\">\n",
    "\n",
    "- **확률적 경사 하강법은 종종 국소 최소값에서 벗어나 고원에서 벗어나 최적에 가까운 솔루션을 찾음**\n"
   ]
  },
  {
   "cell_type": "markdown",
   "id": "73a3fe63",
   "metadata": {},
   "source": [
    "## 기본 GBM\n",
    "### 초매개변수"
   ]
  },
  {
   "cell_type": "markdown",
   "id": "b22d42e1",
   "metadata": {},
   "source": [
    "#### 1. 나무의 수\n",
    "- 시퀀스 또는 앙상블의 총 나무 수\n",
    "- 배깅과 랜덤 포레스트에서 독립적으로 자란 나무의 평균을 구하면 너무 많은 나무로 과적합하기가 매우 어려움\n",
    "- GBM은 과거 트리의 실수를 수정하기 위해 각 트리가 순서대로 성장함에 따라 다르게 작동\n",
    "- GBM은 종종 많은 트리를 필요로 하지만, 쉽게 과적합될 수 있으므로 관심 손실 함수를 최소화하는 최적의 트리 수를 찾아야 함"
   ]
  },
  {
   "cell_type": "markdown",
   "id": "4fdfc95f",
   "metadata": {},
   "source": [
    "#### 2. 학습률\n",
    "- 최종 결과에 대한 각 트리의 기여도를 결정하고 알고리즘이 기울기 하강(학습)을 진행하는 속도를 제어\n",
    "- 값 범위는 0 ~ 1이고 일반적인 값은 0.001 ~ 0.3\n",
    "- 값이 작을수록 모델은 각 개별 트리의 특정 변수들에 대해 견고하므로 일반화할 수 있음. \n",
    "- 값이 작을수록 과적합 전에 중지하기가 더 쉬움. 그러나 고정된 수의 트리로 최적에 도달하지 못할 위험이 증가하고 더 많은 계산이 필요\n",
    "- 일반적으로 이 값이 작을수록 모델이 더 정확할 수 있지만 시퀀스에 더 많은 트리가 필요"
   ]
  },
  {
   "cell_type": "markdown",
   "id": "42315125",
   "metadata": {},
   "source": [
    "#### 3. 트리의 깊이 \n",
    "- 개별 나무의 깊이, 일반적인 값의 범위는 3 ~ 8\n",
    "- 깊은 트리를 사용하면 알고리즘이 고유한 상호 작용을 캡처할 수 있지만 과적합의 위험도 증가"
   ]
  },
  {
   "cell_type": "markdown",
   "id": "2bb5029f",
   "metadata": {},
   "source": [
    "#### 4. 터미널 노드의 최소 관측값 수 \n",
    "- 트리의 복잡성을 제어, 일반적인 값의 범위는 5 ~ 15\n",
    "- 값이 높을수록 모델이 트리에 대해 선택된 특정 샘플에 매우 특정한 관계(과적합)를 학습하는 것을 방지하는 데 도움이 되지만, 작은 값은 분류 문제의 불균형 대상 클래스에 도움이 될 수 있음"
   ]
  },
  {
   "cell_type": "markdown",
   "id": "2ee58af5",
   "metadata": {},
   "source": [
    "### ```gbm::gbm()``` \n",
    "- 수식 인터페이스를 사용하여 모델 지정 (Y ~ X)\n",
    "\n",
    "### ```gbm::gbm.fit()``` \n",
    "- 분리된 행렬로 모델 지정 ( y = Y, x = X)\n",
    "- 더 효율적"
   ]
  },
  {
   "cell_type": "markdown",
   "id": "5a0f8961",
   "metadata": {},
   "source": [
    "#### ```n.trees``` : 나무의 수\n",
    "#### ```shrinkage``` : 학습률\n",
    "#### ```interaction.depth``` : 트리의 깊이\n",
    "#### ```n.minobsinnode``` : 터미널 노드 최소 관측값 수\n",
    "#### ```cv.folds```\n",
    "#### ```distribution``` : ```\"gaussian\"``` = SSE  (squared error), \"```\"laplace\"\"``` (absolute loss), \"```\"tdist\"\"``` (t-distribution loss), \"```\"bernoulli\"\"``` (logistic regression for 0-1 outcomes), \"```\"huberized\"\"``` (huberized hinge loss for 0-1 outcomes), classes), \"```\"adaboost\"\"``` (the AdaBoost exponential loss for 0-1 outcomes), \"```\"poisson\"\"``` (count outcomes), \"```\"coxph\"\"``` (right censored observations), \"```\"quantile\"\"```, or \"```\"pairwise\"\"``` (ranking measure using the LambdaMart algorithm)."
   ]
  },
  {
   "cell_type": "code",
   "execution_count": 10,
   "id": "24ae967f",
   "metadata": {},
   "outputs": [
    {
     "name": "stderr",
     "output_type": "stream",
     "text": [
      "Warning message in gbm.fit(x = x, y = y, offset = offset, distribution = distribution, :\n",
      "\"variable 9: Utilities has no variation.\"\n"
     ]
    }
   ],
   "source": [
    "set.seed(123) \n",
    "ames_gbm1 <- gbm(\n",
    "  formula = Sale_Price ~ .,\n",
    "  data = ames_train,\n",
    "  distribution = \"gaussian\",  # SSE loss function\n",
    "  n.trees = 5000,\n",
    "  shrinkage = 0.1,\n",
    "  interaction.depth = 3,\n",
    "  n.minobsinnode = 10,\n",
    "  cv.folds = 10\n",
    ")"
   ]
  },
  {
   "cell_type": "code",
   "execution_count": 11,
   "id": "acce5a2d",
   "metadata": {},
   "outputs": [
    {
     "data": {
      "text/plain": [
       "gbm(formula = Sale_Price ~ ., distribution = \"gaussian\", data = ames_train, \n",
       "    n.trees = 5000, interaction.depth = 3, n.minobsinnode = 10, \n",
       "    shrinkage = 0.1, cv.folds = 10)\n",
       "A gradient boosted model with gaussian loss function.\n",
       "5000 iterations were performed.\n",
       "The best cross-validation iteration was 1164.\n",
       "There were 80 predictors of which 76 had non-zero influence."
      ]
     },
     "metadata": {},
     "output_type": "display_data"
    }
   ],
   "source": [
    "ames_gbm1"
   ]
  },
  {
   "cell_type": "code",
   "execution_count": 12,
   "id": "fb7e6f88",
   "metadata": {},
   "outputs": [
    {
     "data": {
      "text/html": [
       "<dl>\n",
       "\t<dt>$names</dt>\n",
       "\t\t<dd><style>\n",
       ".list-inline {list-style: none; margin:0; padding: 0}\n",
       ".list-inline>li {display: inline-block}\n",
       ".list-inline>li:not(:last-child)::after {content: \"\\00b7\"; padding: 0 .5ex}\n",
       "</style>\n",
       "<ol class=list-inline><li>'initF'</li><li>'fit'</li><li>'train.error'</li><li>'valid.error'</li><li>'oobag.improve'</li><li>'trees'</li><li>'c.splits'</li><li>'bag.fraction'</li><li>'distribution'</li><li>'interaction.depth'</li><li>'n.minobsinnode'</li><li>'num.classes'</li><li>'n.trees'</li><li>'nTrain'</li><li>'train.fraction'</li><li>'response.name'</li><li>'shrinkage'</li><li>'var.levels'</li><li>'var.monotone'</li><li>'var.names'</li><li>'var.type'</li><li>'verbose'</li><li>'data'</li><li>'Terms'</li><li>'cv.error'</li><li>'cv.folds'</li><li>'call'</li><li>'m'</li><li>'cv.fitted'</li></ol>\n",
       "</dd>\n",
       "\t<dt>$class</dt>\n",
       "\t\t<dd>'gbm'</dd>\n",
       "</dl>\n"
      ],
      "text/latex": [
       "\\begin{description}\n",
       "\\item[\\$names] \\begin{enumerate*}\n",
       "\\item 'initF'\n",
       "\\item 'fit'\n",
       "\\item 'train.error'\n",
       "\\item 'valid.error'\n",
       "\\item 'oobag.improve'\n",
       "\\item 'trees'\n",
       "\\item 'c.splits'\n",
       "\\item 'bag.fraction'\n",
       "\\item 'distribution'\n",
       "\\item 'interaction.depth'\n",
       "\\item 'n.minobsinnode'\n",
       "\\item 'num.classes'\n",
       "\\item 'n.trees'\n",
       "\\item 'nTrain'\n",
       "\\item 'train.fraction'\n",
       "\\item 'response.name'\n",
       "\\item 'shrinkage'\n",
       "\\item 'var.levels'\n",
       "\\item 'var.monotone'\n",
       "\\item 'var.names'\n",
       "\\item 'var.type'\n",
       "\\item 'verbose'\n",
       "\\item 'data'\n",
       "\\item 'Terms'\n",
       "\\item 'cv.error'\n",
       "\\item 'cv.folds'\n",
       "\\item 'call'\n",
       "\\item 'm'\n",
       "\\item 'cv.fitted'\n",
       "\\end{enumerate*}\n",
       "\n",
       "\\item[\\$class] 'gbm'\n",
       "\\end{description}\n"
      ],
      "text/markdown": [
       "$names\n",
       ":   1. 'initF'\n",
       "2. 'fit'\n",
       "3. 'train.error'\n",
       "4. 'valid.error'\n",
       "5. 'oobag.improve'\n",
       "6. 'trees'\n",
       "7. 'c.splits'\n",
       "8. 'bag.fraction'\n",
       "9. 'distribution'\n",
       "10. 'interaction.depth'\n",
       "11. 'n.minobsinnode'\n",
       "12. 'num.classes'\n",
       "13. 'n.trees'\n",
       "14. 'nTrain'\n",
       "15. 'train.fraction'\n",
       "16. 'response.name'\n",
       "17. 'shrinkage'\n",
       "18. 'var.levels'\n",
       "19. 'var.monotone'\n",
       "20. 'var.names'\n",
       "21. 'var.type'\n",
       "22. 'verbose'\n",
       "23. 'data'\n",
       "24. 'Terms'\n",
       "25. 'cv.error'\n",
       "26. 'cv.folds'\n",
       "27. 'call'\n",
       "28. 'm'\n",
       "29. 'cv.fitted'\n",
       "\n",
       "\n",
       "\n",
       "$class\n",
       ":   'gbm'\n",
       "\n",
       "\n"
      ],
      "text/plain": [
       "$names\n",
       " [1] \"initF\"             \"fit\"               \"train.error\"      \n",
       " [4] \"valid.error\"       \"oobag.improve\"     \"trees\"            \n",
       " [7] \"c.splits\"          \"bag.fraction\"      \"distribution\"     \n",
       "[10] \"interaction.depth\" \"n.minobsinnode\"    \"num.classes\"      \n",
       "[13] \"n.trees\"           \"nTrain\"            \"train.fraction\"   \n",
       "[16] \"response.name\"     \"shrinkage\"         \"var.levels\"       \n",
       "[19] \"var.monotone\"      \"var.names\"         \"var.type\"         \n",
       "[22] \"verbose\"           \"data\"              \"Terms\"            \n",
       "[25] \"cv.error\"          \"cv.folds\"          \"call\"             \n",
       "[28] \"m\"                 \"cv.fitted\"        \n",
       "\n",
       "$class\n",
       "[1] \"gbm\"\n"
      ]
     },
     "metadata": {},
     "output_type": "display_data"
    }
   ],
   "source": [
    "attributes(ames_gbm1)"
   ]
  },
  {
   "cell_type": "code",
   "execution_count": 17,
   "id": "7b10ff2c",
   "metadata": {},
   "outputs": [
    {
     "data": {
      "text/html": [
       "5000"
      ],
      "text/latex": [
       "5000"
      ],
      "text/markdown": [
       "5000"
      ],
      "text/plain": [
       "[1] 5000"
      ]
     },
     "metadata": {},
     "output_type": "display_data"
    }
   ],
   "source": [
    "ames_gbm1$cv.error %>% length"
   ]
  },
  {
   "cell_type": "markdown",
   "id": "12082438",
   "metadata": {},
   "source": [
    "#### 최소의 MSE값을 가지는 시퀀스의 RMSE\n",
    "- 1164개의 나무로 달성된 (교차검증 SSE : 21984)\n",
    "- 1164번째 시퀀스"
   ]
  },
  {
   "cell_type": "code",
   "execution_count": 18,
   "id": "ace34e84",
   "metadata": {},
   "outputs": [
    {
     "data": {
      "text/html": [
       "1164"
      ],
      "text/latex": [
       "1164"
      ],
      "text/markdown": [
       "1164"
      ],
      "text/plain": [
       "[1] 1164"
      ]
     },
     "metadata": {},
     "output_type": "display_data"
    },
    {
     "data": {
      "text/html": [
       "21984.9698781974"
      ],
      "text/latex": [
       "21984.9698781974"
      ],
      "text/markdown": [
       "21984.9698781974"
      ],
      "text/plain": [
       "[1] 21984.97"
      ]
     },
     "metadata": {},
     "output_type": "display_data"
    }
   ],
   "source": [
    "best <- which.min(ames_gbm1$cv.error) ; best\n",
    "sqrt(ames_gbm1$cv.error[best])"
   ]
  },
  {
   "cell_type": "code",
   "execution_count": 20,
   "id": "86842327",
   "metadata": {},
   "outputs": [
    {
     "data": {
      "text/html": [
       "1164"
      ],
      "text/latex": [
       "1164"
      ],
      "text/markdown": [
       "1164"
      ],
      "text/plain": [
       "[1] 1164"
      ]
     },
     "metadata": {},
     "output_type": "display_data"
    },
    {
     "data": {
      "image/png": "[encoded data removed]",
      "text/plain": [
       "plot without title"
      ]
     },
     "metadata": {
      "image/png": {
       "height": 420,
       "width": 420
      }
     },
     "output_type": "display_data"
    }
   ],
   "source": [
    "gbm.perf(ames_gbm1, method = \"cv\")"
   ]
  },
  {
   "cell_type": "markdown",
   "id": "0d5b4048",
   "metadata": {},
   "source": [
    "### 튜닝\n",
    "- GBM은 초매개변수 설정에 따라 정확도의 변동성이 큼"
   ]
  },
  {
   "cell_type": "markdown",
   "id": "e82ce78d",
   "metadata": {},
   "source": [
    "**1. 상대적으로 높은 학습률을 선택. 일반적으로 기본값 0.1이 작동하지만 0.05 ~ 0.2 사이의 어딘가에서 광범위한 문제에서 작동해야 함.**\n",
    "\n",
    "**2. 이 학습률에 대한 최적의 트리 수를 결정합니다.**\n",
    "\n",
    "**3. 트리 초매개변수 (트리의 깊이, 터미널 노드 관측값 수)를 수정하고 학습률을 조정하고 속도 대 성능을 평가.**\n",
    "\n",
    "**4. 결정된 학습률에 대해 트리별 매개변수를 조정합니다.**\n",
    "\n",
    "**5. 트리별 매개변수가 발견되면 학습률을 낮추어 정확도 향상을 평가.**\n",
    "\n",
    "**6. 최종 초매개변수 설정을 사용하고 CV 절차를 통해 강력한 추정치를 탐색. (종종 위의 단계는 계산 제약으로 인해 간단한 검증 절차 또는 5중 CV로 수행.)**\n",
    "\n",
    "#### - 1-5단계에서 k -fold CV 를 사용한 경우 이 단계가 필요하지 않음."
   ]
  },
  {
   "cell_type": "markdown",
   "id": "0d226901",
   "metadata": {},
   "source": [
    "## 1. 최적의 학습률 탐색"
   ]
  },
  {
   "cell_type": "code",
   "execution_count": 24,
   "id": "b02028a8",
   "metadata": {},
   "outputs": [
    {
     "data": {
      "text/html": [
       "<table class=\"dataframe\">\n",
       "<caption>A data.frame: 5 × 4</caption>\n",
       "<thead>\n",
       "\t<tr><th scope=col>learning_rate</th><th scope=col>RMSE</th><th scope=col>trees</th><th scope=col>time</th></tr>\n",
       "\t<tr><th scope=col>&lt;dbl&gt;</th><th scope=col>&lt;lgl&gt;</th><th scope=col>&lt;lgl&gt;</th><th scope=col>&lt;lgl&gt;</th></tr>\n",
       "</thead>\n",
       "<tbody>\n",
       "\t<tr><td>0.300</td><td>NA</td><td>NA</td><td>NA</td></tr>\n",
       "\t<tr><td>0.100</td><td>NA</td><td>NA</td><td>NA</td></tr>\n",
       "\t<tr><td>0.050</td><td>NA</td><td>NA</td><td>NA</td></tr>\n",
       "\t<tr><td>0.010</td><td>NA</td><td>NA</td><td>NA</td></tr>\n",
       "\t<tr><td>0.005</td><td>NA</td><td>NA</td><td>NA</td></tr>\n",
       "</tbody>\n",
       "</table>\n"
      ],
      "text/latex": [
       "A data.frame: 5 × 4\n",
       "\\begin{tabular}{llll}\n",
       " learning\\_rate & RMSE & trees & time\\\\\n",
       " <dbl> & <lgl> & <lgl> & <lgl>\\\\\n",
       "\\hline\n",
       "\t 0.300 & NA & NA & NA\\\\\n",
       "\t 0.100 & NA & NA & NA\\\\\n",
       "\t 0.050 & NA & NA & NA\\\\\n",
       "\t 0.010 & NA & NA & NA\\\\\n",
       "\t 0.005 & NA & NA & NA\\\\\n",
       "\\end{tabular}\n"
      ],
      "text/markdown": [
       "\n",
       "A data.frame: 5 × 4\n",
       "\n",
       "| learning_rate &lt;dbl&gt; | RMSE &lt;lgl&gt; | trees &lt;lgl&gt; | time &lt;lgl&gt; |\n",
       "|---|---|---|---|\n",
       "| 0.300 | NA | NA | NA |\n",
       "| 0.100 | NA | NA | NA |\n",
       "| 0.050 | NA | NA | NA |\n",
       "| 0.010 | NA | NA | NA |\n",
       "| 0.005 | NA | NA | NA |\n",
       "\n"
      ],
      "text/plain": [
       "  learning_rate RMSE trees time\n",
       "1 0.300         NA   NA    NA  \n",
       "2 0.100         NA   NA    NA  \n",
       "3 0.050         NA   NA    NA  \n",
       "4 0.010         NA   NA    NA  \n",
       "5 0.005         NA   NA    NA  "
      ]
     },
     "metadata": {},
     "output_type": "display_data"
    }
   ],
   "source": [
    "hyper_grid <- expand.grid(\n",
    "  learning_rate = c(0.3, 0.1, 0.05, 0.01, 0.005),\n",
    "  RMSE = NA,\n",
    "  trees = NA,\n",
    "  time = NA\n",
    ")\n",
    "hyper_grid"
   ]
  },
  {
   "cell_type": "code",
   "execution_count": 22,
   "id": "8788213a",
   "metadata": {},
   "outputs": [
    {
     "name": "stderr",
     "output_type": "stream",
     "text": [
      "Warning message in gbm.fit(x = x, y = y, offset = offset, distribution = distribution, :\n",
      "\"variable 9: Utilities has no variation.\"\n",
      "Warning message in gbm.fit(x = x, y = y, offset = offset, distribution = distribution, :\n",
      "\"variable 9: Utilities has no variation.\"\n",
      "Warning message in gbm.fit(x = x, y = y, offset = offset, distribution = distribution, :\n",
      "\"variable 9: Utilities has no variation.\"\n",
      "Warning message in gbm.fit(x = x, y = y, offset = offset, distribution = distribution, :\n",
      "\"variable 9: Utilities has no variation.\"\n",
      "Warning message in gbm.fit(x = x, y = y, offset = offset, distribution = distribution, :\n",
      "\"variable 9: Utilities has no variation.\"\n"
     ]
    }
   ],
   "source": [
    "for(i in seq_len(nrow(hyper_grid))) {\n",
    "  set.seed(123)  \n",
    "  train_time <- system.time({\n",
    "    m <- gbm(\n",
    "      formula = Sale_Price ~ .,\n",
    "      data = ames_train,\n",
    "      distribution = \"gaussian\",\n",
    "      n.trees = 5000, \n",
    "      shrinkage = hyper_grid$learning_rate[i], \n",
    "      interaction.depth = 3, \n",
    "      n.minobsinnode = 10,\n",
    "      cv.folds = 10 \n",
    "   )\n",
    "  })\n",
    "  \n",
    "  hyper_grid$RMSE[i]  <- sqrt(min(m$cv.error))\n",
    "  hyper_grid$trees[i] <- which.min(m$cv.error)\n",
    "  hyper_grid$Time[i]  <- train_time[[\"elapsed\"]]\n",
    "\n",
    "}"
   ]
  },
  {
   "cell_type": "code",
   "execution_count": 23,
   "id": "a55fcc3d",
   "metadata": {},
   "outputs": [
    {
     "data": {
      "text/html": [
       "<table class=\"dataframe\">\n",
       "<caption>A data.frame: 5 × 5</caption>\n",
       "<thead>\n",
       "\t<tr><th scope=col>learning_rate</th><th scope=col>RMSE</th><th scope=col>trees</th><th scope=col>time</th><th scope=col>Time</th></tr>\n",
       "\t<tr><th scope=col>&lt;dbl&gt;</th><th scope=col>&lt;dbl&gt;</th><th scope=col>&lt;int&gt;</th><th scope=col>&lt;lgl&gt;</th><th scope=col>&lt;dbl&gt;</th></tr>\n",
       "</thead>\n",
       "<tbody>\n",
       "\t<tr><td>0.050</td><td>21435.55</td><td>2280</td><td>NA</td><td>221.55</td></tr>\n",
       "\t<tr><td>0.010</td><td>21504.40</td><td>4990</td><td>NA</td><td>217.36</td></tr>\n",
       "\t<tr><td>0.100</td><td>21984.97</td><td>1164</td><td>NA</td><td>230.68</td></tr>\n",
       "\t<tr><td>0.005</td><td>22494.79</td><td>4994</td><td>NA</td><td>229.36</td></tr>\n",
       "\t<tr><td>0.300</td><td>23726.42</td><td> 631</td><td>NA</td><td>244.29</td></tr>\n",
       "</tbody>\n",
       "</table>\n"
      ],
      "text/latex": [
       "A data.frame: 5 × 5\n",
       "\\begin{tabular}{lllll}\n",
       " learning\\_rate & RMSE & trees & time & Time\\\\\n",
       " <dbl> & <dbl> & <int> & <lgl> & <dbl>\\\\\n",
       "\\hline\n",
       "\t 0.050 & 21435.55 & 2280 & NA & 221.55\\\\\n",
       "\t 0.010 & 21504.40 & 4990 & NA & 217.36\\\\\n",
       "\t 0.100 & 21984.97 & 1164 & NA & 230.68\\\\\n",
       "\t 0.005 & 22494.79 & 4994 & NA & 229.36\\\\\n",
       "\t 0.300 & 23726.42 &  631 & NA & 244.29\\\\\n",
       "\\end{tabular}\n"
      ],
      "text/markdown": [
       "\n",
       "A data.frame: 5 × 5\n",
       "\n",
       "| learning_rate &lt;dbl&gt; | RMSE &lt;dbl&gt; | trees &lt;int&gt; | time &lt;lgl&gt; | Time &lt;dbl&gt; |\n",
       "|---|---|---|---|---|\n",
       "| 0.050 | 21435.55 | 2280 | NA | 221.55 |\n",
       "| 0.010 | 21504.40 | 4990 | NA | 217.36 |\n",
       "| 0.100 | 21984.97 | 1164 | NA | 230.68 |\n",
       "| 0.005 | 22494.79 | 4994 | NA | 229.36 |\n",
       "| 0.300 | 23726.42 |  631 | NA | 244.29 |\n",
       "\n"
      ],
      "text/plain": [
       "  learning_rate RMSE     trees time Time  \n",
       "1 0.050         21435.55 2280  NA   221.55\n",
       "2 0.010         21504.40 4990  NA   217.36\n",
       "3 0.100         21984.97 1164  NA   230.68\n",
       "4 0.005         22494.79 4994  NA   229.36\n",
       "5 0.300         23726.42  631  NA   244.29"
      ]
     },
     "metadata": {},
     "output_type": "display_data"
    }
   ],
   "source": [
    "arrange(hyper_grid, RMSE)"
   ]
  },
  {
   "cell_type": "markdown",
   "id": "34befbda",
   "metadata": {},
   "source": [
    "#### 최적의 학습률 = 0.05"
   ]
  },
  {
   "cell_type": "markdown",
   "id": "56616cf4",
   "metadata": {},
   "source": [
    "### 2. 학습률에 대한 최적의 트리 수를 결정\n",
    "### 3. 트리 초매개변수 (트리의 깊이, 터미널 노드 관측값 수) 결정"
   ]
  },
  {
   "cell_type": "code",
   "execution_count": 25,
   "id": "a9b96b81",
   "metadata": {},
   "outputs": [],
   "source": [
    "hyper_grid <- expand.grid(\n",
    "  n.trees = 6000,\n",
    "  shrinkage = 0.01,\n",
    "  interaction.depth = c(3, 5, 7),\n",
    "  n.minobsinnode = c(5, 10, 15)\n",
    ")"
   ]
  },
  {
   "cell_type": "code",
   "execution_count": 26,
   "id": "8f72a4de",
   "metadata": {},
   "outputs": [],
   "source": [
    "model_fit <- function(n.trees, shrinkage, interaction.depth, n.minobsinnode) {\n",
    "  set.seed(123)\n",
    "  m <- gbm(\n",
    "    formula = Sale_Price ~ .,\n",
    "    data = ames_train,\n",
    "    distribution = \"gaussian\",\n",
    "    n.trees = n.trees,\n",
    "    shrinkage = shrinkage,\n",
    "    interaction.depth = interaction.depth,\n",
    "    n.minobsinnode = n.minobsinnode,\n",
    "    cv.folds = 10\n",
    "  )\n",
    "  # compute RMSE\n",
    "  sqrt(min(m$cv.error))\n",
    "}"
   ]
  },
  {
   "cell_type": "code",
   "execution_count": 27,
   "id": "19912713",
   "metadata": {},
   "outputs": [
    {
     "name": "stderr",
     "output_type": "stream",
     "text": [
      "Warning message in gbm.fit(x = x, y = y, offset = offset, distribution = distribution, :\n",
      "\"variable 9: Utilities has no variation.\"\n",
      "Warning message in gbm.fit(x = x, y = y, offset = offset, distribution = distribution, :\n",
      "\"variable 9: Utilities has no variation.\"\n",
      "Warning message in gbm.fit(x = x, y = y, offset = offset, distribution = distribution, :\n",
      "\"variable 9: Utilities has no variation.\"\n",
      "Warning message in gbm.fit(x = x, y = y, offset = offset, distribution = distribution, :\n",
      "\"variable 9: Utilities has no variation.\"\n",
      "Warning message in gbm.fit(x = x, y = y, offset = offset, distribution = distribution, :\n",
      "\"variable 9: Utilities has no variation.\"\n",
      "Warning message in gbm.fit(x = x, y = y, offset = offset, distribution = distribution, :\n",
      "\"variable 9: Utilities has no variation.\"\n",
      "Warning message in gbm.fit(x = x, y = y, offset = offset, distribution = distribution, :\n",
      "\"variable 9: Utilities has no variation.\"\n",
      "Warning message in gbm.fit(x = x, y = y, offset = offset, distribution = distribution, :\n",
      "\"variable 9: Utilities has no variation.\"\n",
      "Warning message in gbm.fit(x = x, y = y, offset = offset, distribution = distribution, :\n",
      "\"variable 9: Utilities has no variation.\"\n"
     ]
    }
   ],
   "source": [
    "hyper_grid$rmse <- purrr::pmap_dbl(\n",
    "  hyper_grid,\n",
    "  ~ model_fit(\n",
    "    n.trees = ..1,\n",
    "    shrinkage = ..2,\n",
    "    interaction.depth = ..3,\n",
    "    n.minobsinnode = ..4\n",
    "    )\n",
    ")"
   ]
  },
  {
   "cell_type": "code",
   "execution_count": 28,
   "id": "565d3b6e",
   "metadata": {},
   "outputs": [
    {
     "data": {
      "text/html": [
       "<table class=\"dataframe\">\n",
       "<caption>A data.frame: 9 × 5</caption>\n",
       "<thead>\n",
       "\t<tr><th scope=col>n.trees</th><th scope=col>shrinkage</th><th scope=col>interaction.depth</th><th scope=col>n.minobsinnode</th><th scope=col>rmse</th></tr>\n",
       "\t<tr><th scope=col>&lt;dbl&gt;</th><th scope=col>&lt;dbl&gt;</th><th scope=col>&lt;dbl&gt;</th><th scope=col>&lt;dbl&gt;</th><th scope=col>&lt;dbl&gt;</th></tr>\n",
       "</thead>\n",
       "<tbody>\n",
       "\t<tr><td>6000</td><td>0.01</td><td>7</td><td> 5</td><td>21218.69</td></tr>\n",
       "\t<tr><td>6000</td><td>0.01</td><td>5</td><td>10</td><td>21256.55</td></tr>\n",
       "\t<tr><td>6000</td><td>0.01</td><td>5</td><td> 5</td><td>21287.74</td></tr>\n",
       "\t<tr><td>6000</td><td>0.01</td><td>3</td><td>10</td><td>21352.52</td></tr>\n",
       "\t<tr><td>6000</td><td>0.01</td><td>7</td><td>10</td><td>21445.59</td></tr>\n",
       "\t<tr><td>6000</td><td>0.01</td><td>5</td><td>15</td><td>21493.72</td></tr>\n",
       "\t<tr><td>6000</td><td>0.01</td><td>7</td><td>15</td><td>21656.50</td></tr>\n",
       "\t<tr><td>6000</td><td>0.01</td><td>3</td><td> 5</td><td>21729.80</td></tr>\n",
       "\t<tr><td>6000</td><td>0.01</td><td>3</td><td>15</td><td>21757.75</td></tr>\n",
       "</tbody>\n",
       "</table>\n"
      ],
      "text/latex": [
       "A data.frame: 9 × 5\n",
       "\\begin{tabular}{lllll}\n",
       " n.trees & shrinkage & interaction.depth & n.minobsinnode & rmse\\\\\n",
       " <dbl> & <dbl> & <dbl> & <dbl> & <dbl>\\\\\n",
       "\\hline\n",
       "\t 6000 & 0.01 & 7 &  5 & 21218.69\\\\\n",
       "\t 6000 & 0.01 & 5 & 10 & 21256.55\\\\\n",
       "\t 6000 & 0.01 & 5 &  5 & 21287.74\\\\\n",
       "\t 6000 & 0.01 & 3 & 10 & 21352.52\\\\\n",
       "\t 6000 & 0.01 & 7 & 10 & 21445.59\\\\\n",
       "\t 6000 & 0.01 & 5 & 15 & 21493.72\\\\\n",
       "\t 6000 & 0.01 & 7 & 15 & 21656.50\\\\\n",
       "\t 6000 & 0.01 & 3 &  5 & 21729.80\\\\\n",
       "\t 6000 & 0.01 & 3 & 15 & 21757.75\\\\\n",
       "\\end{tabular}\n"
      ],
      "text/markdown": [
       "\n",
       "A data.frame: 9 × 5\n",
       "\n",
       "| n.trees &lt;dbl&gt; | shrinkage &lt;dbl&gt; | interaction.depth &lt;dbl&gt; | n.minobsinnode &lt;dbl&gt; | rmse &lt;dbl&gt; |\n",
       "|---|---|---|---|---|\n",
       "| 6000 | 0.01 | 7 |  5 | 21218.69 |\n",
       "| 6000 | 0.01 | 5 | 10 | 21256.55 |\n",
       "| 6000 | 0.01 | 5 |  5 | 21287.74 |\n",
       "| 6000 | 0.01 | 3 | 10 | 21352.52 |\n",
       "| 6000 | 0.01 | 7 | 10 | 21445.59 |\n",
       "| 6000 | 0.01 | 5 | 15 | 21493.72 |\n",
       "| 6000 | 0.01 | 7 | 15 | 21656.50 |\n",
       "| 6000 | 0.01 | 3 |  5 | 21729.80 |\n",
       "| 6000 | 0.01 | 3 | 15 | 21757.75 |\n",
       "\n"
      ],
      "text/plain": [
       "  n.trees shrinkage interaction.depth n.minobsinnode rmse    \n",
       "1 6000    0.01      7                  5             21218.69\n",
       "2 6000    0.01      5                 10             21256.55\n",
       "3 6000    0.01      5                  5             21287.74\n",
       "4 6000    0.01      3                 10             21352.52\n",
       "5 6000    0.01      7                 10             21445.59\n",
       "6 6000    0.01      5                 15             21493.72\n",
       "7 6000    0.01      7                 15             21656.50\n",
       "8 6000    0.01      3                  5             21729.80\n",
       "9 6000    0.01      3                 15             21757.75"
      ]
     },
     "metadata": {},
     "output_type": "display_data"
    }
   ],
   "source": [
    "arrange(hyper_grid, rmse)"
   ]
  },
  {
   "cell_type": "markdown",
   "id": "5e0a100f",
   "metadata": {},
   "source": [
    "#### 최적의 초매개변수 : ```n.tree``` = 6000,  ```shrinkage``` = 0.01, ```interaction.depth\t``` = 7, ```n.minobsinnode\t``` = 5"
   ]
  },
  {
   "cell_type": "markdown",
   "id": "990a93ce",
   "metadata": {},
   "source": [
    "### 4. 결정된 학습률에 대해 트리별 매개변수를 조정.\n",
    "### 5. 트리별 매개변수가 발견되면 학습률을 낮추어 정확도 향상을 평가.\n",
    "### 6. 최종 초매개변수 설정을 사용하고 CV 절차를 통해 강력한 추정치를 탐색. (간단한 검증 절차 또는 5중 CV로 수행.)"
   ]
  },
  {
   "cell_type": "markdown",
   "id": "93d9c815",
   "metadata": {},
   "source": [
    "#### 최적의 모형"
   ]
  },
  {
   "cell_type": "code",
   "execution_count": 69,
   "id": "871da694",
   "metadata": {},
   "outputs": [
    {
     "name": "stderr",
     "output_type": "stream",
     "text": [
      "Warning message in gbm.fit(x = x, y = y, offset = offset, distribution = distribution, :\n",
      "\"variable 9: Utilities has no variation.\"\n"
     ]
    }
   ],
   "source": [
    "gbm_final <- gbm(\n",
    "    formula = Sale_Price ~ .,\n",
    "    data = ames_train,\n",
    "    distribution = \"gaussian\",\n",
    "    n.trees = 6000,\n",
    "    shrinkage = 0.01,\n",
    "    interaction.depth = 7,\n",
    "    n.minobsinnode = 5,\n",
    "    cv.folds = 5\n",
    ")"
   ]
  },
  {
   "cell_type": "code",
   "execution_count": 76,
   "id": "2806cdba",
   "metadata": {
    "scrolled": true
   },
   "outputs": [
    {
     "data": {
      "text/plain": [
       "gbm(formula = Sale_Price ~ ., distribution = \"gaussian\", data = ames_train, \n",
       "    n.trees = 6000, interaction.depth = 7, n.minobsinnode = 5, \n",
       "    shrinkage = 0.01, cv.folds = 5)\n",
       "A gradient boosted model with gaussian loss function.\n",
       "6000 iterations were performed.\n",
       "The best cross-validation iteration was 4792.\n",
       "There were 80 predictors of which 79 had non-zero influence."
      ]
     },
     "metadata": {},
     "output_type": "display_data"
    }
   ],
   "source": [
    "gbm_final"
   ]
  },
  {
   "cell_type": "markdown",
   "id": "d0744476",
   "metadata": {},
   "source": [
    "#### 모델 평가 시각화\n",
    "### ```gbm.perf()```\n",
    "- ```method``` = ```\"OOB\"```, ```\"test\"```, ```\"cv\"```"
   ]
  },
  {
   "cell_type": "code",
   "execution_count": 75,
   "id": "398675d2",
   "metadata": {
    "scrolled": true
   },
   "outputs": [
    {
     "name": "stderr",
     "output_type": "stream",
     "text": [
      "OOB generally underestimates the optimal number of iterations although predictive performance is reasonably competitive. Using cv_folds>1 when calling gbm usually results in improved predictive performance.\n",
      "\n"
     ]
    },
    {
     "data": {
      "image/png": "[encoded data removed]",
      "text/plain": [
       "plot without title"
      ]
     },
     "metadata": {
      "image/png": {
       "height": 420,
       "width": 420
      }
     },
     "output_type": "display_data"
    },
    {
     "data": {
      "text/html": [
       "563"
      ],
      "text/latex": [
       "563"
      ],
      "text/markdown": [
       "563"
      ],
      "text/plain": [
       "[1] 563\n",
       "attr(,\"smoother\")\n",
       "Call:\n",
       "loess(formula = object$oobag.improve ~ x, enp.target = min(max(4, \n",
       "    length(x)/10), 50))\n",
       "\n",
       "Number of Observations: 6000 \n",
       "Equivalent Number of Parameters: 39.99 \n",
       "Residual Standard Error: 1145000 "
      ]
     },
     "metadata": {},
     "output_type": "display_data"
    },
    {
     "data": {
      "image/png": "[encoded data removed]",
      "text/plain": [
       "plot without title"
      ]
     },
     "metadata": {
      "image/png": {
       "height": 420,
       "width": 420
      }
     },
     "output_type": "display_data"
    }
   ],
   "source": [
    "gbm.perf(gbm_final, plot.it = T, oobag.curve = T, method = 'OOB')"
   ]
  },
  {
   "cell_type": "markdown",
   "id": "0c4b8581",
   "metadata": {},
   "source": [
    "### 변수 중요도\n",
    "### ```summary``` \n",
    "- ```method``` = ```ralative.infulence```, ```permutation.test.gbm```"
   ]
  },
  {
   "cell_type": "code",
   "execution_count": 74,
   "id": "883d044f",
   "metadata": {
    "scrolled": false
   },
   "outputs": [
    {
     "name": "stdout",
     "output_type": "stream",
     "text": [
      "'data.frame':\t80 obs. of  2 variables:\n",
      " $ var    : chr  \"Overall_Qual\" \"Gr_Liv_Area\" \"Neighborhood\" \"Total_Bsmt_SF\" ...\n",
      " $ rel.inf: num  39.98 12 10.9 4.81 3.67 ...\n"
     ]
    },
    {
     "data": {
      "image/png": "[encoded data removed]",
      "text/plain": [
       "plot without title"
      ]
     },
     "metadata": {
      "image/png": {
       "height": 420,
       "width": 420
      }
     },
     "output_type": "display_data"
    }
   ],
   "source": [
    "str(summary(\n",
    "  gbm_final, \n",
    "  cBars = 10,\n",
    "  method = relative.influence, \n",
    "))"
   ]
  },
  {
   "cell_type": "markdown",
   "id": "ea462df2",
   "metadata": {},
   "source": [
    "### 예측"
   ]
  },
  {
   "cell_type": "code",
   "execution_count": 77,
   "id": "39f0a06f",
   "metadata": {},
   "outputs": [
    {
     "name": "stderr",
     "output_type": "stream",
     "text": [
      "Using 4792 trees...\n",
      "\n",
      "\n"
     ]
    }
   ],
   "source": [
    "pred <- predict(gbm_final, newdata = ames_test)"
   ]
  },
  {
   "cell_type": "code",
   "execution_count": 78,
   "id": "92f398d7",
   "metadata": {},
   "outputs": [],
   "source": [
    "mse <- mean((ames_test$Sale_Price - pred)^2)\n",
    "rmse <- sqrt(mse)"
   ]
  },
  {
   "cell_type": "code",
   "execution_count": 79,
   "id": "3ee90663",
   "metadata": {
    "scrolled": true
   },
   "outputs": [
    {
     "data": {
      "text/html": [
       "512261542.088679"
      ],
      "text/latex": [
       "512261542.088679"
      ],
      "text/markdown": [
       "512261542.088679"
      ],
      "text/plain": [
       "[1] 512261542"
      ]
     },
     "metadata": {},
     "output_type": "display_data"
    },
    {
     "data": {
      "text/html": [
       "22633.1955783685"
      ],
      "text/latex": [
       "22633.1955783685"
      ],
      "text/markdown": [
       "22633.1955783685"
      ],
      "text/plain": [
       "[1] 22633.2"
      ]
     },
     "metadata": {},
     "output_type": "display_data"
    }
   ],
   "source": [
    "mse ; rmse"
   ]
  },
  {
   "cell_type": "markdown",
   "id": "3d191e5d",
   "metadata": {},
   "source": [
    "## 확률적 GBM (Stochastic  GBM)"
   ]
  },
  {
   "cell_type": "markdown",
   "id": "30eabf8e",
   "metadata": {},
   "source": [
    "### 초매개변수\n",
    "1. 각 트리를 만들기 전에 행을 재표본추출(gbm,h2o, xgboost 공통)\n",
    "2. 각 트리를 만들기 전에 열을 재표본추출(h2o, xgboost)\n",
    "3. 각 트리의 각 분할을 고려하기 전에 열을 재표본추출(h2o, xgboost)"
   ]
  },
  {
   "cell_type": "markdown",
   "id": "eba85331",
   "metadata": {},
   "source": [
    "- 훈련 데이터의 50% 이하만 선택하는 것과 같은 공격적인 행 서브샘플링은 유익한 것으로 나타남, 일반적인 값 범위는 0.5 ~ 0.8\n",
    "- 열의 재표본추출과 성능에 미치는 영향은 데이터의 특성과 강력한 다중 공선성이 있거나 잡음이 많은 기능이 있는지 여부에 크게 좌우"
   ]
  },
  {
   "cell_type": "markdown",
   "id": "93e3c1ec",
   "metadata": {},
   "source": [
    "- 랜덤 포레스트의 mtr 매개변수와 유사하게 상관관계가 있는 변수들이 적은 경우(혹은 노이즈) 열 재표본추출의 값이 높을수록, 신호가 가장 강한 특성을 선택할 가능성이 더 높기 때문에 성능이 더 좋은 경향이 있다. \n",
    "- 상관관계가 있는 변수가 많은 경우, 열 재표본추출 값이 낮을수록 성능이 좋은 경향이 있다."
   ]
  },
  {
   "cell_type": "markdown",
   "id": "28b6be12",
   "metadata": {},
   "source": [
    "### h2o"
   ]
  },
  {
   "cell_type": "code",
   "execution_count": 4,
   "id": "ec5f76ae",
   "metadata": {
    "scrolled": true
   },
   "outputs": [
    {
     "name": "stdout",
     "output_type": "stream",
     "text": [
      "\n",
      "H2O is not running yet, starting it now...\n",
      "\n",
      "Note:  In case of errors look at the following log files:\n",
      "    C:\\Users\\APF_TE~1\\AppData\\Local\\Temp\\RtmpMNNEhz\\file369432940ac/h2o_apf_temp_admin_started_from_r.out\n",
      "    C:\\Users\\APF_TE~1\\AppData\\Local\\Temp\\RtmpMNNEhz\\file36944ec6559/h2o_apf_temp_admin_started_from_r.err\n",
      "\n",
      "\n",
      "Starting H2O JVM and connecting: . Connection successful!\n",
      "\n",
      "R is connected to the H2O cluster: \n",
      "    H2O cluster uptime:         15 seconds 100 milliseconds \n",
      "    H2O cluster timezone:       Asia/Seoul \n",
      "    H2O data parsing timezone:  UTC \n",
      "    H2O cluster version:        3.36.0.4 \n",
      "    H2O cluster version age:    7 days, 11 hours and 2 minutes  \n",
      "    H2O cluster name:           H2O_started_from_R_apf_temp_admin_ohi942 \n",
      "    H2O cluster total nodes:    1 \n",
      "    H2O cluster total memory:   8.88 GB \n",
      "    H2O cluster total cores:    4 \n",
      "    H2O cluster allowed cores:  4 \n",
      "    H2O cluster healthy:        TRUE \n",
      "    H2O Connection ip:          localhost \n",
      "    H2O Connection port:        54321 \n",
      "    H2O Connection proxy:       NA \n",
      "    H2O Internal Security:      FALSE \n",
      "    R Version:                  R version 4.1.3 (2022-03-10) \n",
      "\n"
     ]
    }
   ],
   "source": [
    "h2o.no_progress()\n",
    "h2o.init(max_mem_size = \"10g\")"
   ]
  },
  {
   "cell_type": "code",
   "execution_count": 5,
   "id": "7b0cea59",
   "metadata": {},
   "outputs": [],
   "source": [
    "train_h2o <- as.h2o(ames_train)\n",
    "test_h2o <- as.h2o(ames_test)"
   ]
  },
  {
   "cell_type": "code",
   "execution_count": 6,
   "id": "7a1cebaf",
   "metadata": {},
   "outputs": [],
   "source": [
    "response <- \"Sale_Price\"\n",
    "predictors <- setdiff(colnames(ames_train), response)"
   ]
  },
  {
   "cell_type": "code",
   "execution_count": 7,
   "id": "14f721a1",
   "metadata": {},
   "outputs": [],
   "source": [
    "hyper_grid <- list(\n",
    "  sample_rate = c(0.5, 0.75, 1),              # 행 재표본추출 비율\n",
    "  col_sample_rate = c(0.5, 0.75, 1),          # 각 분할마다 열 재표본추출 비율\n",
    "  col_sample_rate_per_tree = c(0.5, 0.75, 1)  # 각 나무마다 열 재표본추출 비율\n",
    ")"
   ]
  },
  {
   "cell_type": "markdown",
   "id": "141b2d34",
   "metadata": {},
   "source": [
    "#### 그리드서치의 조기종료 옵션"
   ]
  },
  {
   "cell_type": "code",
   "execution_count": 8,
   "id": "4d9e0750",
   "metadata": {},
   "outputs": [],
   "source": [
    "search_criteria <- list(\n",
    "  strategy = \"RandomDiscrete\",\n",
    "  stopping_metric = \"mse\",\n",
    "  stopping_tolerance = 0.001,   \n",
    "  stopping_rounds = 10,         \n",
    "  max_runtime_secs = 60*10      \n",
    ")"
   ]
  },
  {
   "cell_type": "code",
   "execution_count": null,
   "id": "e25d0aee",
   "metadata": {},
   "outputs": [],
   "source": [
    "grid <- h2o.grid(\n",
    "  algorithm = \"gbm\",\n",
    "  grid_id = \"gbm_grid\",\n",
    "  x = predictors, \n",
    "  y = response,\n",
    "  training_frame = train_h2o,\n",
    "  hyper_params = hyper_grid,\n",
    "  ntrees = 6000, # 나무의 수\n",
    "  learn_rate = 0.01, # 학습률\n",
    "  max_depth = 7, # 트리의 깊이\n",
    "  min_rows = 5, # 터미널 노드 최소 관측값 수\n",
    "  nfolds = 10,\n",
    "  stopping_rounds = 10,\n",
    "  stopping_tolerance = 0,\n",
    "  search_criteria = search_criteria, # 그리드서치의 조기종료 옵션\n",
    "  seed = 123\n",
    ")"
   ]
  },
  {
   "cell_type": "code",
   "execution_count": null,
   "id": "8fc3f27d",
   "metadata": {},
   "outputs": [],
   "source": [
    "grid_perf <- h2o.getGrid(\n",
    "  grid_id = \"gbm_grid\", \n",
    "  sort_by = \"mse\", \n",
    "  decreasing = FALSE\n",
    ")\n",
    "grid_perf"
   ]
  },
  {
   "cell_type": "markdown",
   "id": "623def65",
   "metadata": {},
   "source": [
    "```\n",
    "H2O Grid Details\n",
    "================\n",
    "\n",
    "Grid ID: gbm_grid \n",
    "Used hyper parameters: \n",
    "  -  col_sample_rate \n",
    "  -  col_sample_rate_per_tree \n",
    "  -  sample_rate \n",
    "Number of models: 3 \n",
    "Number of failed models: 0 \n",
    "\n",
    "Hyper-Parameter Search Summary: ordered by increasing mse\n",
    "  col_sample_rate col_sample_rate_per_tree sample_rate\n",
    "1         0.50000                  0.50000     1.00000\n",
    "2         0.75000                  0.75000     0.50000\n",
    "3         1.00000                  0.75000     0.50000\n",
    "         model_ids              mse\n",
    "1 gbm_grid_model_1  486950528.27502\n",
    "2 gbm_grid_model_2 4589623927.78911\n",
    "3 gbm_grid_model_3 6127075830.59810\n",
    "```"
   ]
  },
  {
   "cell_type": "code",
   "execution_count": null,
   "id": "e3654a61",
   "metadata": {},
   "outputs": [],
   "source": [
    "grid_perf@summary_table %>% head"
   ]
  },
  {
   "cell_type": "markdown",
   "id": "1b6ed57e",
   "metadata": {},
   "source": [
    "```\n",
    "Hyper-Parameter Search Summary: ordered by increasing mse\n",
    "  col_sample_rate col_sample_rate_per_tree sample_rate\n",
    "1         0.50000                  0.50000     1.00000\n",
    "2         0.75000                  0.75000     0.50000\n",
    "3         1.00000                  0.75000     0.50000\n",
    "         model_ids              mse\n",
    "1 gbm_grid_model_1  486950528.27502\n",
    "2 gbm_grid_model_2 4589623927.78911\n",
    "3 gbm_grid_model_3 6127075830.59810\n",
    "```"
   ]
  },
  {
   "cell_type": "markdown",
   "id": "b6cc647f",
   "metadata": {},
   "source": [
    "#### 최적의 모델"
   ]
  },
  {
   "cell_type": "code",
   "execution_count": null,
   "id": "4f4bdeca",
   "metadata": {},
   "outputs": [],
   "source": [
    "best_model_id <- grid_perf@model_ids[[1]]\n",
    "best_model <- h2o.getModel(best_model_id)"
   ]
  },
  {
   "cell_type": "markdown",
   "id": "92d88b38",
   "metadata": {},
   "source": [
    "#### 모델 평가"
   ]
  },
  {
   "cell_type": "code",
   "execution_count": null,
   "id": "b4cc6798",
   "metadata": {},
   "outputs": [],
   "source": [
    "h2o.performance(model = best_model, xval = TRUE)"
   ]
  },
  {
   "cell_type": "markdown",
   "id": "f30cf129",
   "metadata": {},
   "source": [
    "```\n",
    "H2ORegressionMetrics: gbm\n",
    "** Reported on cross-validation data. **\n",
    "** 10-fold cross-validation on training data (Metrics computed for combined holdout predictions) **\n",
    "\n",
    "MSE:  486950528\n",
    "RMSE:  22066.96\n",
    "MAE:  13147.63\n",
    "RMSLE:  0.116763\n",
    "Mean Residual Deviance :  486950528\n",
    "```"
   ]
  },
  {
   "cell_type": "markdown",
   "id": "f7b9e884",
   "metadata": {},
   "source": [
    "#### 변수 중요도\n",
    "### ```h2o.varimp()```"
   ]
  },
  {
   "cell_type": "code",
   "execution_count": null,
   "id": "7e67e2bd",
   "metadata": {},
   "outputs": [],
   "source": [
    "h2o.varimp(best_model)"
   ]
  },
  {
   "cell_type": "code",
   "execution_count": 25,
   "id": "005876a1",
   "metadata": {},
   "outputs": [
    {
     "ename": "ERROR",
     "evalue": "Error in vip::vip(best_model): object 'best_model' not found\n",
     "output_type": "error",
     "traceback": [
      "Error in vip::vip(best_model): object 'best_model' not found\nTraceback:\n",
      "1. vip::vip(best_model)"
     ]
    }
   ],
   "source": [
    "vip::vip(best_model)"
   ]
  },
  {
   "cell_type": "markdown",
   "id": "626e6134",
   "metadata": {},
   "source": [
    "### 예측"
   ]
  },
  {
   "cell_type": "code",
   "execution_count": null,
   "id": "657837d4",
   "metadata": {},
   "outputs": [],
   "source": [
    "perf <- h2o.performance(model = best_model, newdata = test_h2o)\n",
    "perf"
   ]
  },
  {
   "cell_type": "markdown",
   "id": "ec6aa5b8",
   "metadata": {},
   "source": [
    "```\n",
    "H2ORegressionMetrics: gbm\n",
    "\n",
    "MSE:  477428821\n",
    "RMSE:  21850.14\n",
    "MAE:  14250.68\n",
    "RMSLE:  0.1332685\n",
    "Mean Residual Deviance :  477428821\n",
    "```"
   ]
  },
  {
   "cell_type": "code",
   "execution_count": null,
   "id": "18090ac6",
   "metadata": {},
   "outputs": [],
   "source": [
    "h2o.r2(perf)"
   ]
  },
  {
   "cell_type": "markdown",
   "id": "c97185af",
   "metadata": {},
   "source": [
    "[1] 0.9250505"
   ]
  },
  {
   "cell_type": "markdown",
   "id": "16baf84c",
   "metadata": {},
   "source": [
    "## XGBoost\n",
    "- 여러 언어에서 효율적이고 유연하며 이식 가능하도록 설계된 최적화된 분산 그래디언트 부스팅 라이브러리\n",
    "- 기존 부스팅에 비해 몇 가지 이점\n",
    "1. 정규화 : XGBoost는 과적합에 대한 추가 보호를 제공하는 추가 정규화 하이퍼파라미터를 제공\n",
    "2. 조기 중지 : h2o 와 유사하게 XGBoost는 조기 중지를 구현하여 추가 트리가 개선되지 않을 때 모델 평가를 중지할 수 있음\n",
    "3. 병렬 처리 : 그래디언트 부스팅은 본질적으로 순차적이기 때문에 병렬화하기가 매우 어렵습니다. XGBoost는 GPU 및 Spark 호환성을 지원하는 절차를 구현하여 강력한 분산 처리 엔진을 사용하여 그래디언트 부스팅을 맞출 수 있음\n",
    "4. 손실 함수 : XGBoost를 사용하면 사용자 정의 목표 및 평가 기준을 사용하여 그래디언트 부스팅 모델을 정의하고 최적화할 수 있음\n",
    "5. 기존 모델로 계속 : 사용자는 XGBoost 모델을 훈련하고 결과를 저장하고 나중에 해당 모델로 돌아가 결과를 계속 구축할 수 있음\n",
    "6. 다른 학습기 유형 : 대부분의 GBM 구현은 의사결정 트리로 구축되지만 XGBoost는 또한 부스트 일반화 선형 모델도 제공\n",
    "7. 다중 언어 : XGBoost는 R, Python, Julia, Scala, Java 및 C++로 구현을 제공"
   ]
  },
  {
   "cell_type": "markdown",
   "id": "aded77a1",
   "metadata": {},
   "source": [
    "### 초매개변수"
   ]
  },
  {
   "cell_type": "markdown",
   "id": "b9c21661",
   "metadata": {},
   "source": [
    "### 1. 정규화\n",
    "- 모델 복잡성을 줄이고 과적합을 방지하는 데 도움이 되는 여러 정규화 매개변수를 제공\n",
    "### ```gamma``` \n",
    "- ```gamma```는 Lagrangian 승수로 알려진 의사 정규화 하이퍼파라미터이며 주어진 트리의 복잡성을 제어\n",
    "- ```gamma```는 트리의 리프 노드에서 추가 파티션을 만드는 데 필요한 최소 손실 감소를 지정\n",
    "- 범위 : 0 ~ Inf, 손실 함수에 따라 다르지만 일반적으로 1~20 사이의 낮은 값\n",
    "### ```alpha``` & ```lambda```\n",
    "- ```gamma```와 ```alpha``` 모두 0보다 크게 설정하면 Elastic Net\n",
    "- 범위 : 0 ~ Inf"
   ]
  },
  {
   "cell_type": "markdown",
   "id": "3e0ad344",
   "metadata": {},
   "source": [
    "- (```gamma```, ```alpha```, ```lambda```)는 모두 모델 복잡성을 제한하고 과적합을 줄이는 데 사용"
   ]
  },
  {
   "cell_type": "markdown",
   "id": "a185c3db",
   "metadata": {},
   "source": [
    "### 2. 드롭아웃\n",
    "- 드롭아웃은 과적합을 줄이기 위한 대안적 접근 방식 (정규화와 유사)\n",
    "- GBM을 구성할 때 앙상블의 시작 부분에 추가된 처음 몇 개의 트리는 일반적으로 모델 성능을 지배하는 반면, 나중에 추가된 트리는 일반적으로 변수들의 작은 하위 집합에 대한 예측을 향상, **이것은 종종 과적합의 위험을 증가**\n",
    "- 드롭아웃의 아이디어는 부스팅 시퀀스에서 무작위로 트리를 드롭하여 앙상블을 구축하는 것"
   ]
  },
  {
   "cell_type": "markdown",
   "id": "0668eaa9",
   "metadata": {},
   "source": [
    "### 튜닝\n",
    "1. 조기 중지로 트리 수를 늘리고 학습률을 조정.\n",
    "2. 트리별 하이퍼파라미터 조정\n",
    "3. 확률적 GBM 속성 탐색\n",
    "4. 과적합이 발생하는 경우(예: 훈련오차와 CV 오차 간의 차이) 정규화 하이퍼파라미터 탐색\n",
    "5. 기본 설정과 상당히 다른 초매개변수 값을 찾으면 학습률을 다시 조정.\n",
    "7. 최종 \"최적\" 모델 획득"
   ]
  },
  {
   "cell_type": "markdown",
   "id": "acb473b0",
   "metadata": {},
   "source": [
    "### XGBoost 데이터 준비\n",
    "- xgboost 는 변수에 대한 행렬 입력이 필요하고 응답은 벡터\n",
    "- 결과적으로 변수의 행렬 입력을 제공하려면 범주형 변수를 숫자로 인코딩 (원-핫 인코딩, 레이블 인코딩). \n",
    "\n",
    "### - 모든 범주형 변수들을 수치형 레이블로 인코딩하고, 훈련 데이터 프레임을 행렬로 변환."
   ]
  },
  {
   "cell_type": "code",
   "execution_count": 6,
   "id": "a09909df",
   "metadata": {},
   "outputs": [],
   "source": [
    "library(recipes)\n",
    "xgb_trprep <- recipe(Sale_Price ~ ., data = ames_train) %>%\n",
    "  step_integer(all_nominal()) %>%\n",
    "  prep(training = ames_train, retain = TRUE) %>%\n",
    "  juice()\n",
    "\n",
    "xgb_tsprep <- recipe(Sale_Price ~ ., data = ames_test) %>%\n",
    "  step_integer(all_nominal()) %>%\n",
    "  prep(training = ames_test, retain = TRUE) %>%\n",
    "  juice()"
   ]
  },
  {
   "cell_type": "markdown",
   "id": "70e780d0",
   "metadata": {},
   "source": [
    "### ```xgb.DMatrix()```"
   ]
  },
  {
   "cell_type": "code",
   "execution_count": 7,
   "id": "f3863baa",
   "metadata": {},
   "outputs": [],
   "source": [
    "X_train <- as.matrix(xgb_trprep[setdiff(names(xgb_trprep), \"Sale_Price\")])\n",
    "Y_train <- xgb_trprep$Sale_Price\n",
    "\n",
    "X_test <- as.matrix(xgb_tsprep[setdiff(names(xgb_tsprep), \"Sale_Price\")])\n",
    "Y_test <- xgb_tsprep$Sale_Price"
   ]
  },
  {
   "cell_type": "code",
   "execution_count": 9,
   "id": "15c2fa32",
   "metadata": {},
   "outputs": [],
   "source": [
    "dtrain <- xgb.DMatrix(data = X_train, label = Y_train)\n",
    "dtest <- xgb.DMatrix(data = X_test, label = Y_test)"
   ]
  },
  {
   "cell_type": "markdown",
   "id": "492779a0",
   "metadata": {},
   "source": [
    "### ```xgb.cv()```\n",
    "- ```objective``` : ```reg:linear``` (선형회귀), ```binary:logistic``` (이진분류), ```multi:softmax``` (다지분류)"
   ]
  },
  {
   "cell_type": "code",
   "execution_count": 10,
   "id": "76469f57",
   "metadata": {},
   "outputs": [
    {
     "name": "stdout",
     "output_type": "stream",
     "text": [
      "[06:12:34] WARNING: amalgamation/../src/objective/regression_obj.cu:188: reg:linear is now deprecated in favor of reg:squarederror.\n",
      "[06:12:34] WARNING: amalgamation/../src/objective/regression_obj.cu:188: reg:linear is now deprecated in favor of reg:squarederror.\n",
      "[06:12:34] WARNING: amalgamation/../src/objective/regression_obj.cu:188: reg:linear is now deprecated in favor of reg:squarederror.\n",
      "[06:12:34] WARNING: amalgamation/../src/objective/regression_obj.cu:188: reg:linear is now deprecated in favor of reg:squarederror.\n",
      "[06:12:34] WARNING: amalgamation/../src/objective/regression_obj.cu:188: reg:linear is now deprecated in favor of reg:squarederror.\n",
      "[06:12:34] WARNING: amalgamation/../src/objective/regression_obj.cu:188: reg:linear is now deprecated in favor of reg:squarederror.\n",
      "[06:12:34] WARNING: amalgamation/../src/objective/regression_obj.cu:188: reg:linear is now deprecated in favor of reg:squarederror.\n",
      "[06:12:34] WARNING: amalgamation/../src/objective/regression_obj.cu:188: reg:linear is now deprecated in favor of reg:squarederror.\n",
      "[06:12:34] WARNING: amalgamation/../src/objective/regression_obj.cu:188: reg:linear is now deprecated in favor of reg:squarederror.\n",
      "[06:12:34] WARNING: amalgamation/../src/objective/regression_obj.cu:188: reg:linear is now deprecated in favor of reg:squarederror.\n"
     ]
    }
   ],
   "source": [
    "set.seed(123)\n",
    "ames_xgb <- xgb.cv(\n",
    "  data = dtrain,\n",
    "  nrounds = 6000,\n",
    "  objective = \"reg:linear\",\n",
    "  early_stopping_rounds = 50, \n",
    "  nfold = 10,\n",
    "  params = list(\n",
    "    eta = 0.1, \n",
    "    max_depth = 3, \n",
    "    min_child_weight = 3, \n",
    "    subsample = 0.8,\n",
    "    colsample_bytree = 1.0),\n",
    "  verbose = 0\n",
    ")  "
   ]
  },
  {
   "cell_type": "code",
   "execution_count": 22,
   "id": "6e2b9642",
   "metadata": {
    "scrolled": true
   },
   "outputs": [
    {
     "data": {
      "text/html": [
       "<dl>\n",
       "\t<dt>$names</dt>\n",
       "\t\t<dd><style>\n",
       ".list-inline {list-style: none; margin:0; padding: 0}\n",
       ".list-inline>li {display: inline-block}\n",
       ".list-inline>li:not(:last-child)::after {content: \"\\00b7\"; padding: 0 .5ex}\n",
       "</style>\n",
       "<ol class=list-inline><li>'call'</li><li>'params'</li><li>'callbacks'</li><li>'evaluation_log'</li><li>'niter'</li><li>'nfeatures'</li><li>'folds'</li><li>'best_iteration'</li><li>'best_ntreelimit'</li></ol>\n",
       "</dd>\n",
       "\t<dt>$class</dt>\n",
       "\t\t<dd>'xgb.cv.synchronous'</dd>\n",
       "</dl>\n"
      ],
      "text/latex": [
       "\\begin{description}\n",
       "\\item[\\$names] \\begin{enumerate*}\n",
       "\\item 'call'\n",
       "\\item 'params'\n",
       "\\item 'callbacks'\n",
       "\\item 'evaluation\\_log'\n",
       "\\item 'niter'\n",
       "\\item 'nfeatures'\n",
       "\\item 'folds'\n",
       "\\item 'best\\_iteration'\n",
       "\\item 'best\\_ntreelimit'\n",
       "\\end{enumerate*}\n",
       "\n",
       "\\item[\\$class] 'xgb.cv.synchronous'\n",
       "\\end{description}\n"
      ],
      "text/markdown": [
       "$names\n",
       ":   1. 'call'\n",
       "2. 'params'\n",
       "3. 'callbacks'\n",
       "4. 'evaluation_log'\n",
       "5. 'niter'\n",
       "6. 'nfeatures'\n",
       "7. 'folds'\n",
       "8. 'best_iteration'\n",
       "9. 'best_ntreelimit'\n",
       "\n",
       "\n",
       "\n",
       "$class\n",
       ":   'xgb.cv.synchronous'\n",
       "\n",
       "\n"
      ],
      "text/plain": [
       "$names\n",
       "[1] \"call\"            \"params\"          \"callbacks\"       \"evaluation_log\" \n",
       "[5] \"niter\"           \"nfeatures\"       \"folds\"           \"best_iteration\" \n",
       "[9] \"best_ntreelimit\"\n",
       "\n",
       "$class\n",
       "[1] \"xgb.cv.synchronous\"\n"
      ]
     },
     "metadata": {},
     "output_type": "display_data"
    }
   ],
   "source": [
    "attributes(ames_xgb)"
   ]
  },
  {
   "cell_type": "code",
   "execution_count": 21,
   "id": "1b24cbde",
   "metadata": {},
   "outputs": [
    {
     "data": {
      "text/html": [
       "<table class=\"dataframe\">\n",
       "<caption>A data.table: 6 × 5</caption>\n",
       "<thead>\n",
       "\t<tr><th scope=col>iter</th><th scope=col>train_rmse_mean</th><th scope=col>train_rmse_std</th><th scope=col>test_rmse_mean</th><th scope=col>test_rmse_std</th></tr>\n",
       "\t<tr><th scope=col>&lt;dbl&gt;</th><th scope=col>&lt;dbl&gt;</th><th scope=col>&lt;dbl&gt;</th><th scope=col>&lt;dbl&gt;</th><th scope=col>&lt;dbl&gt;</th></tr>\n",
       "</thead>\n",
       "<tbody>\n",
       "\t<tr><td>587</td><td>6798.699</td><td>89.26837</td><td>22415.22</td><td>4872.597</td></tr>\n",
       "\t<tr><td>595</td><td>6731.014</td><td>93.92283</td><td>22415.54</td><td>4879.457</td></tr>\n",
       "\t<tr><td>585</td><td>6817.408</td><td>89.08092</td><td>22416.37</td><td>4870.623</td></tr>\n",
       "\t<tr><td>594</td><td>6738.205</td><td>93.89295</td><td>22417.16</td><td>4880.208</td></tr>\n",
       "\t<tr><td>596</td><td>6721.908</td><td>93.01846</td><td>22417.19</td><td>4877.538</td></tr>\n",
       "\t<tr><td>588</td><td>6789.242</td><td>89.88376</td><td>22417.96</td><td>4869.480</td></tr>\n",
       "</tbody>\n",
       "</table>\n"
      ],
      "text/latex": [
       "A data.table: 6 × 5\n",
       "\\begin{tabular}{lllll}\n",
       " iter & train\\_rmse\\_mean & train\\_rmse\\_std & test\\_rmse\\_mean & test\\_rmse\\_std\\\\\n",
       " <dbl> & <dbl> & <dbl> & <dbl> & <dbl>\\\\\n",
       "\\hline\n",
       "\t 587 & 6798.699 & 89.26837 & 22415.22 & 4872.597\\\\\n",
       "\t 595 & 6731.014 & 93.92283 & 22415.54 & 4879.457\\\\\n",
       "\t 585 & 6817.408 & 89.08092 & 22416.37 & 4870.623\\\\\n",
       "\t 594 & 6738.205 & 93.89295 & 22417.16 & 4880.208\\\\\n",
       "\t 596 & 6721.908 & 93.01846 & 22417.19 & 4877.538\\\\\n",
       "\t 588 & 6789.242 & 89.88376 & 22417.96 & 4869.480\\\\\n",
       "\\end{tabular}\n"
      ],
      "text/markdown": [
       "\n",
       "A data.table: 6 × 5\n",
       "\n",
       "| iter &lt;dbl&gt; | train_rmse_mean &lt;dbl&gt; | train_rmse_std &lt;dbl&gt; | test_rmse_mean &lt;dbl&gt; | test_rmse_std &lt;dbl&gt; |\n",
       "|---|---|---|---|---|\n",
       "| 587 | 6798.699 | 89.26837 | 22415.22 | 4872.597 |\n",
       "| 595 | 6731.014 | 93.92283 | 22415.54 | 4879.457 |\n",
       "| 585 | 6817.408 | 89.08092 | 22416.37 | 4870.623 |\n",
       "| 594 | 6738.205 | 93.89295 | 22417.16 | 4880.208 |\n",
       "| 596 | 6721.908 | 93.01846 | 22417.19 | 4877.538 |\n",
       "| 588 | 6789.242 | 89.88376 | 22417.96 | 4869.480 |\n",
       "\n"
      ],
      "text/plain": [
       "  iter train_rmse_mean train_rmse_std test_rmse_mean test_rmse_std\n",
       "1 587  6798.699        89.26837       22415.22       4872.597     \n",
       "2 595  6731.014        93.92283       22415.54       4879.457     \n",
       "3 585  6817.408        89.08092       22416.37       4870.623     \n",
       "4 594  6738.205        93.89295       22417.16       4880.208     \n",
       "5 596  6721.908        93.01846       22417.19       4877.538     \n",
       "6 588  6789.242        89.88376       22417.96       4869.480     "
      ]
     },
     "metadata": {},
     "output_type": "display_data"
    }
   ],
   "source": [
    "ames_xgb$evaluation_log %>% arrange(test_rmse_mean) %>% head"
   ]
  },
  {
   "cell_type": "markdown",
   "id": "a37fd5e9",
   "metadata": {},
   "source": [
    "### 그리드서치\n",
    "- 과적합이 모델의 성능을 제한하는지 평가"
   ]
  },
  {
   "cell_type": "code",
   "execution_count": 23,
   "id": "40895686",
   "metadata": {},
   "outputs": [],
   "source": [
    "hyper_grid <- expand.grid(\n",
    "  eta = 0.1, # 학습율\n",
    "  max_depth = 3, # 트리의 깊이\n",
    "  min_child_weight = 3, # 터미널 노드 최소 관측값 수 \n",
    "  subsample = 0.5,  # 행 재표본추출 비율\n",
    "  colsample_bytree = 0.5, # 각 나무마다 열 재표본추출 비율\n",
    "  gamma = c(0, 1, 10, 100, 1000),\n",
    "  lambda = c(0, 1e-2, 0.1, 1, 100, 1000, 10000),\n",
    "  alpha = c(0, 1e-2, 0.1, 1, 100, 1000, 10000),\n",
    "  rmse = 0,          \n",
    "  trees = 0          \n",
    ")"
   ]
  },
  {
   "cell_type": "code",
   "execution_count": null,
   "id": "bc185217",
   "metadata": {},
   "outputs": [],
   "source": [
    "for(i in seq_len(nrow(hyper_grid))) {\n",
    "  set.seed(123)\n",
    "  m <- xgb.cv(\n",
    "    data = dtrain,\n",
    "    nrounds = 4000,\n",
    "    objective = \"reg:linear\",\n",
    "    early_stopping_rounds = 50, \n",
    "    nfold = 10,\n",
    "    verbose = 0,\n",
    "    params = list( \n",
    "      eta = hyper_grid$eta[i], \n",
    "      max_depth = hyper_grid$max_depth[i],\n",
    "      min_child_weight = hyper_grid$min_child_weight[i],\n",
    "      subsample = hyper_grid$subsample[i],\n",
    "      colsample_bytree = hyper_grid$colsample_bytree[i],\n",
    "      gamma = hyper_grid$gamma[i], \n",
    "      lambda = hyper_grid$lambda[i], \n",
    "      alpha = hyper_grid$alpha[i]\n",
    "    ) \n",
    "  )\n",
    "  hyper_grid$rmse[i] <- min(m$evaluation_log$test_rmse_mean)\n",
    "  hyper_grid$trees[i] <- m$best_iteration\n",
    "}"
   ]
  },
  {
   "cell_type": "code",
   "execution_count": 26,
   "id": "efcb2747",
   "metadata": {},
   "outputs": [
    {
     "data": {
      "text/html": [
       "<table class=\"dataframe\">\n",
       "<caption>A data.frame: 6 × 10</caption>\n",
       "<thead>\n",
       "\t<tr><th></th><th scope=col>eta</th><th scope=col>max_depth</th><th scope=col>min_child_weight</th><th scope=col>subsample</th><th scope=col>colsample_bytree</th><th scope=col>gamma</th><th scope=col>lambda</th><th scope=col>alpha</th><th scope=col>rmse</th><th scope=col>trees</th></tr>\n",
       "\t<tr><th></th><th scope=col>&lt;dbl&gt;</th><th scope=col>&lt;dbl&gt;</th><th scope=col>&lt;dbl&gt;</th><th scope=col>&lt;dbl&gt;</th><th scope=col>&lt;dbl&gt;</th><th scope=col>&lt;dbl&gt;</th><th scope=col>&lt;dbl&gt;</th><th scope=col>&lt;dbl&gt;</th><th scope=col>&lt;dbl&gt;</th><th scope=col>&lt;dbl&gt;</th></tr>\n",
       "</thead>\n",
       "<tbody>\n",
       "\t<tr><th scope=row>1</th><td>0.1</td><td>3</td><td>3</td><td>0.5</td><td>0.5</td><td>   1</td><td>100</td><td>100.0</td><td>21909.91</td><td> 978</td></tr>\n",
       "\t<tr><th scope=row>2</th><td>0.1</td><td>3</td><td>3</td><td>0.5</td><td>0.5</td><td>   0</td><td>100</td><td>100.0</td><td>21909.91</td><td> 978</td></tr>\n",
       "\t<tr><th scope=row>3</th><td>0.1</td><td>3</td><td>3</td><td>0.5</td><td>0.5</td><td>  10</td><td>100</td><td>100.0</td><td>21909.91</td><td> 978</td></tr>\n",
       "\t<tr><th scope=row>4</th><td>0.1</td><td>3</td><td>3</td><td>0.5</td><td>0.5</td><td> 100</td><td>100</td><td>100.0</td><td>21909.91</td><td> 978</td></tr>\n",
       "\t<tr><th scope=row>5</th><td>0.1</td><td>3</td><td>3</td><td>0.5</td><td>0.5</td><td>1000</td><td>100</td><td>100.0</td><td>21909.91</td><td> 978</td></tr>\n",
       "\t<tr><th scope=row>6</th><td>0.1</td><td>3</td><td>3</td><td>0.5</td><td>0.5</td><td>   0</td><td>100</td><td>  0.1</td><td>21938.10</td><td>1011</td></tr>\n",
       "</tbody>\n",
       "</table>\n"
      ],
      "text/latex": [
       "A data.frame: 6 × 10\n",
       "\\begin{tabular}{r|llllllllll}\n",
       "  & eta & max\\_depth & min\\_child\\_weight & subsample & colsample\\_bytree & gamma & lambda & alpha & rmse & trees\\\\\n",
       "  & <dbl> & <dbl> & <dbl> & <dbl> & <dbl> & <dbl> & <dbl> & <dbl> & <dbl> & <dbl>\\\\\n",
       "\\hline\n",
       "\t1 & 0.1 & 3 & 3 & 0.5 & 0.5 &    1 & 100 & 100.0 & 21909.91 &  978\\\\\n",
       "\t2 & 0.1 & 3 & 3 & 0.5 & 0.5 &    0 & 100 & 100.0 & 21909.91 &  978\\\\\n",
       "\t3 & 0.1 & 3 & 3 & 0.5 & 0.5 &   10 & 100 & 100.0 & 21909.91 &  978\\\\\n",
       "\t4 & 0.1 & 3 & 3 & 0.5 & 0.5 &  100 & 100 & 100.0 & 21909.91 &  978\\\\\n",
       "\t5 & 0.1 & 3 & 3 & 0.5 & 0.5 & 1000 & 100 & 100.0 & 21909.91 &  978\\\\\n",
       "\t6 & 0.1 & 3 & 3 & 0.5 & 0.5 &    0 & 100 &   0.1 & 21938.10 & 1011\\\\\n",
       "\\end{tabular}\n"
      ],
      "text/markdown": [
       "\n",
       "A data.frame: 6 × 10\n",
       "\n",
       "| <!--/--> | eta &lt;dbl&gt; | max_depth &lt;dbl&gt; | min_child_weight &lt;dbl&gt; | subsample &lt;dbl&gt; | colsample_bytree &lt;dbl&gt; | gamma &lt;dbl&gt; | lambda &lt;dbl&gt; | alpha &lt;dbl&gt; | rmse &lt;dbl&gt; | trees &lt;dbl&gt; |\n",
       "|---|---|---|---|---|---|---|---|---|---|---|\n",
       "| 1 | 0.1 | 3 | 3 | 0.5 | 0.5 |    1 | 100 | 100.0 | 21909.91 |  978 |\n",
       "| 2 | 0.1 | 3 | 3 | 0.5 | 0.5 |    0 | 100 | 100.0 | 21909.91 |  978 |\n",
       "| 3 | 0.1 | 3 | 3 | 0.5 | 0.5 |   10 | 100 | 100.0 | 21909.91 |  978 |\n",
       "| 4 | 0.1 | 3 | 3 | 0.5 | 0.5 |  100 | 100 | 100.0 | 21909.91 |  978 |\n",
       "| 5 | 0.1 | 3 | 3 | 0.5 | 0.5 | 1000 | 100 | 100.0 | 21909.91 |  978 |\n",
       "| 6 | 0.1 | 3 | 3 | 0.5 | 0.5 |    0 | 100 |   0.1 | 21938.10 | 1011 |\n",
       "\n"
      ],
      "text/plain": [
       "  eta max_depth min_child_weight subsample colsample_bytree gamma lambda alpha\n",
       "1 0.1 3         3                0.5       0.5                 1  100    100.0\n",
       "2 0.1 3         3                0.5       0.5                 0  100    100.0\n",
       "3 0.1 3         3                0.5       0.5                10  100    100.0\n",
       "4 0.1 3         3                0.5       0.5               100  100    100.0\n",
       "5 0.1 3         3                0.5       0.5              1000  100    100.0\n",
       "6 0.1 3         3                0.5       0.5                 0  100      0.1\n",
       "  rmse     trees\n",
       "1 21909.91  978 \n",
       "2 21909.91  978 \n",
       "3 21909.91  978 \n",
       "4 21909.91  978 \n",
       "5 21909.91  978 \n",
       "6 21938.10 1011 "
      ]
     },
     "metadata": {},
     "output_type": "display_data"
    }
   ],
   "source": [
    "hyper_grid %>%\n",
    "  filter(rmse > 0) %>%\n",
    "  arrange(rmse) %>% head"
   ]
  },
  {
   "cell_type": "markdown",
   "id": "664db308",
   "metadata": {},
   "source": [
    "#### 최적의 초매개변수 \n",
    "- ```eta``` = 0.1, ```max_depth``` = 3, ```min_child_weight``` = 3, ```subsample``` = 0.5, ```colsample_bytree``` = 0.5`, ```gamma``` = 1, ```lambda``` = 100, ```alpha``` = 100, ```nrounds``` = 978"
   ]
  },
  {
   "cell_type": "code",
   "execution_count": 34,
   "id": "4694d99c",
   "metadata": {},
   "outputs": [],
   "source": [
    "params <- list(\n",
    "  eta = 0.1,\n",
    "  max_depth = 3,\n",
    "  min_child_weight = 3,\n",
    "  subsample = 0.5,\n",
    "  colsample_bytree = 0.5,\n",
    "  gamma = 1,\n",
    "  lambda = 100,\n",
    "  alpha = 100\n",
    ")"
   ]
  },
  {
   "cell_type": "code",
   "execution_count": 35,
   "id": "17aa0dc8",
   "metadata": {
    "scrolled": true
   },
   "outputs": [
    {
     "name": "stdout",
     "output_type": "stream",
     "text": [
      "[17:22:28] WARNING: amalgamation/../src/objective/regression_obj.cu:188: reg:linear is now deprecated in favor of reg:squarederror.\n"
     ]
    }
   ],
   "source": [
    "xgb.fit.final <- xgboost(\n",
    "  params = params,\n",
    "  dtrain,\n",
    "  nrounds = 978,\n",
    "  objective = \"reg:linear\",\n",
    "  verbose = 0\n",
    ")"
   ]
  },
  {
   "cell_type": "code",
   "execution_count": 39,
   "id": "98a9b8a4",
   "metadata": {
    "scrolled": true
   },
   "outputs": [
    {
     "data": {
      "text/html": [
       "<dl>\n",
       "\t<dt>$names</dt>\n",
       "\t\t<dd><style>\n",
       ".list-inline {list-style: none; margin:0; padding: 0}\n",
       ".list-inline>li {display: inline-block}\n",
       ".list-inline>li:not(:last-child)::after {content: \"\\00b7\"; padding: 0 .5ex}\n",
       "</style>\n",
       "<ol class=list-inline><li>'handle'</li><li>'raw'</li><li>'niter'</li><li>'evaluation_log'</li><li>'call'</li><li>'params'</li><li>'callbacks'</li><li>'feature_names'</li><li>'nfeatures'</li></ol>\n",
       "</dd>\n",
       "\t<dt>$class</dt>\n",
       "\t\t<dd>'xgb.Booster'</dd>\n",
       "</dl>\n"
      ],
      "text/latex": [
       "\\begin{description}\n",
       "\\item[\\$names] \\begin{enumerate*}\n",
       "\\item 'handle'\n",
       "\\item 'raw'\n",
       "\\item 'niter'\n",
       "\\item 'evaluation\\_log'\n",
       "\\item 'call'\n",
       "\\item 'params'\n",
       "\\item 'callbacks'\n",
       "\\item 'feature\\_names'\n",
       "\\item 'nfeatures'\n",
       "\\end{enumerate*}\n",
       "\n",
       "\\item[\\$class] 'xgb.Booster'\n",
       "\\end{description}\n"
      ],
      "text/markdown": [
       "$names\n",
       ":   1. 'handle'\n",
       "2. 'raw'\n",
       "3. 'niter'\n",
       "4. 'evaluation_log'\n",
       "5. 'call'\n",
       "6. 'params'\n",
       "7. 'callbacks'\n",
       "8. 'feature_names'\n",
       "9. 'nfeatures'\n",
       "\n",
       "\n",
       "\n",
       "$class\n",
       ":   'xgb.Booster'\n",
       "\n",
       "\n"
      ],
      "text/plain": [
       "$names\n",
       "[1] \"handle\"         \"raw\"            \"niter\"          \"evaluation_log\"\n",
       "[5] \"call\"           \"params\"         \"callbacks\"      \"feature_names\" \n",
       "[9] \"nfeatures\"     \n",
       "\n",
       "$class\n",
       "[1] \"xgb.Booster\"\n"
      ]
     },
     "metadata": {},
     "output_type": "display_data"
    }
   ],
   "source": [
    "attributes(xgb.fit.final)"
   ]
  },
  {
   "cell_type": "markdown",
   "id": "ee937aa1",
   "metadata": {},
   "source": [
    "### 변수 중요도\n",
    "### ```xgb.importance()``` \n",
    "- 변수 중요도 행렬\n",
    "\n",
    "### ```xgb.ggplot.importance()```"
   ]
  },
  {
   "cell_type": "code",
   "execution_count": 81,
   "id": "f6115c68",
   "metadata": {
    "scrolled": true
   },
   "outputs": [
    {
     "data": {
      "text/html": [
       "<table class=\"dataframe\">\n",
       "<caption>A data.table: 6 × 4</caption>\n",
       "<thead>\n",
       "\t<tr><th scope=col>Feature</th><th scope=col>Gain</th><th scope=col>Cover</th><th scope=col>Frequency</th></tr>\n",
       "\t<tr><th scope=col>&lt;chr&gt;</th><th scope=col>&lt;dbl&gt;</th><th scope=col>&lt;dbl&gt;</th><th scope=col>&lt;dbl&gt;</th></tr>\n",
       "</thead>\n",
       "<tbody>\n",
       "\t<tr><td>Overall_Qual </td><td>0.24232202</td><td>0.048219193</td><td>0.032110092</td></tr>\n",
       "\t<tr><td>Gr_Liv_Area  </td><td>0.21833439</td><td>0.071477949</td><td>0.059158494</td></tr>\n",
       "\t<tr><td>Total_Bsmt_SF</td><td>0.05798422</td><td>0.070694535</td><td>0.053622271</td></tr>\n",
       "\t<tr><td>First_Flr_SF </td><td>0.04000017</td><td>0.055797649</td><td>0.051407782</td></tr>\n",
       "\t<tr><td>Garage_Area  </td><td>0.03716736</td><td>0.042604780</td><td>0.039228092</td></tr>\n",
       "\t<tr><td>Garage_Cars  </td><td>0.03629188</td><td>0.004372032</td><td>0.004112623</td></tr>\n",
       "</tbody>\n",
       "</table>\n"
      ],
      "text/latex": [
       "A data.table: 6 × 4\n",
       "\\begin{tabular}{llll}\n",
       " Feature & Gain & Cover & Frequency\\\\\n",
       " <chr> & <dbl> & <dbl> & <dbl>\\\\\n",
       "\\hline\n",
       "\t Overall\\_Qual  & 0.24232202 & 0.048219193 & 0.032110092\\\\\n",
       "\t Gr\\_Liv\\_Area   & 0.21833439 & 0.071477949 & 0.059158494\\\\\n",
       "\t Total\\_Bsmt\\_SF & 0.05798422 & 0.070694535 & 0.053622271\\\\\n",
       "\t First\\_Flr\\_SF  & 0.04000017 & 0.055797649 & 0.051407782\\\\\n",
       "\t Garage\\_Area   & 0.03716736 & 0.042604780 & 0.039228092\\\\\n",
       "\t Garage\\_Cars   & 0.03629188 & 0.004372032 & 0.004112623\\\\\n",
       "\\end{tabular}\n"
      ],
      "text/markdown": [
       "\n",
       "A data.table: 6 × 4\n",
       "\n",
       "| Feature &lt;chr&gt; | Gain &lt;dbl&gt; | Cover &lt;dbl&gt; | Frequency &lt;dbl&gt; |\n",
       "|---|---|---|---|\n",
       "| Overall_Qual  | 0.24232202 | 0.048219193 | 0.032110092 |\n",
       "| Gr_Liv_Area   | 0.21833439 | 0.071477949 | 0.059158494 |\n",
       "| Total_Bsmt_SF | 0.05798422 | 0.070694535 | 0.053622271 |\n",
       "| First_Flr_SF  | 0.04000017 | 0.055797649 | 0.051407782 |\n",
       "| Garage_Area   | 0.03716736 | 0.042604780 | 0.039228092 |\n",
       "| Garage_Cars   | 0.03629188 | 0.004372032 | 0.004112623 |\n",
       "\n"
      ],
      "text/plain": [
       "  Feature       Gain       Cover       Frequency  \n",
       "1 Overall_Qual  0.24232202 0.048219193 0.032110092\n",
       "2 Gr_Liv_Area   0.21833439 0.071477949 0.059158494\n",
       "3 Total_Bsmt_SF 0.05798422 0.070694535 0.053622271\n",
       "4 First_Flr_SF  0.04000017 0.055797649 0.051407782\n",
       "5 Garage_Area   0.03716736 0.042604780 0.039228092\n",
       "6 Garage_Cars   0.03629188 0.004372032 0.004112623"
      ]
     },
     "metadata": {},
     "output_type": "display_data"
    }
   ],
   "source": [
    "imp <- xgb.importance(model = xgb.fit.final) %>% arrange(desc(Gain))\n",
    "head(imp)"
   ]
  },
  {
   "cell_type": "code",
   "execution_count": 108,
   "id": "840e53ef",
   "metadata": {
    "scrolled": true
   },
   "outputs": [
    {
     "name": "stderr",
     "output_type": "stream",
     "text": [
      "Warning message in `[.data.table`(importance_matrix, , `:=`(Importance, sum(get(measure))), :\n",
      "\"Invalid .internal.selfref detected and fixed by taking a (shallow) copy of the data.table so that := can add this new column by reference. At an earlier point, this data.table has been copied by R (or was created manually using structure() or similar). Avoid names<- and attr<- which in R currently (and oddly) may copy the whole data.table. Use set* syntax instead to avoid copying: ?set, ?setnames and ?setattr. If this message doesn't help, please report your use case to the data.table issue tracker so the root cause can be fixed or this message improved.\"\n"
     ]
    },
    {
     "data": {
      "image/png": "[encoded data removed]",
      "text/plain": [
       "plot without title"
      ]
     },
     "metadata": {
      "image/png": {
       "height": 420,
       "width": 420
      }
     },
     "output_type": "display_data"
    }
   ],
   "source": [
    "xgboost::xgb.ggplot.importance(importance_matrix = imp, top_n = 10)"
   ]
  },
  {
   "cell_type": "code",
   "execution_count": 95,
   "id": "f29b84b3",
   "metadata": {
    "scrolled": true
   },
   "outputs": [
    {
     "data": {
      "image/png": "[encoded data removed]",
      "text/plain": [
       "plot without title"
      ]
     },
     "metadata": {
      "image/png": {
       "height": 420,
       "width": 420
      }
     },
     "output_type": "display_data"
    }
   ],
   "source": [
    "vip::vip(xgb.fit.final)"
   ]
  },
  {
   "cell_type": "markdown",
   "id": "54af0c8a",
   "metadata": {},
   "source": [
    "### 예측"
   ]
  },
  {
   "cell_type": "code",
   "execution_count": 109,
   "id": "5a688c48",
   "metadata": {},
   "outputs": [],
   "source": [
    "pred <- predict(xgb.fit.final, newdata = dtest)"
   ]
  },
  {
   "cell_type": "code",
   "execution_count": 110,
   "id": "fbfd4919",
   "metadata": {},
   "outputs": [],
   "source": [
    "mse = mean((Y_test - pred)^2)\n",
    "rmse = sqrt(mse)"
   ]
  },
  {
   "cell_type": "code",
   "execution_count": 111,
   "id": "2ab6653a",
   "metadata": {},
   "outputs": [
    {
     "data": {
      "text/html": [
       "641601978.176933"
      ],
      "text/latex": [
       "641601978.176933"
      ],
      "text/markdown": [
       "641601978.176933"
      ],
      "text/plain": [
       "[1] 641601978"
      ]
     },
     "metadata": {},
     "output_type": "display_data"
    },
    {
     "data": {
      "text/html": [
       "25329.8633667245"
      ],
      "text/latex": [
       "25329.8633667245"
      ],
      "text/markdown": [
       "25329.8633667245"
      ],
      "text/plain": [
       "[1] 25329.86"
      ]
     },
     "metadata": {},
     "output_type": "display_data"
    }
   ],
   "source": [
    "mse ; rmse"
   ]
  },
  {
   "cell_type": "markdown",
   "id": "45a0dd57",
   "metadata": {},
   "source": [
    "### Save & Load\n",
    "### ```xgb.save()```"
   ]
  },
  {
   "cell_type": "code",
   "execution_count": 112,
   "id": "cd3c321f",
   "metadata": {},
   "outputs": [
    {
     "data": {
      "text/html": [
       "TRUE"
      ],
      "text/latex": [
       "TRUE"
      ],
      "text/markdown": [
       "TRUE"
      ],
      "text/plain": [
       "[1] TRUE"
      ]
     },
     "metadata": {},
     "output_type": "display_data"
    }
   ],
   "source": [
    "xgb.save(xgb.fit.final, \"xgboost.model\")"
   ]
  },
  {
   "cell_type": "code",
   "execution_count": 113,
   "id": "7dbb07b6",
   "metadata": {},
   "outputs": [
    {
     "name": "stdout",
     "output_type": "stream",
     "text": [
      "[17:55:11] WARNING: amalgamation/../src/objective/regression_obj.cu:188: reg:linear is now deprecated in favor of reg:squarederror.\n"
     ]
    }
   ],
   "source": [
    "xgb.fit.final2 <- xgb.load(\"xgboost.model\")"
   ]
  },
  {
   "cell_type": "code",
   "execution_count": 114,
   "id": "9f0c77fc",
   "metadata": {},
   "outputs": [
    {
     "data": {
      "text/plain": [
       "##### xgb.Booster\n",
       "raw: 1 Mb \n",
       "xgb.attributes:\n",
       "  niter\n",
       "niter: 977"
      ]
     },
     "metadata": {},
     "output_type": "display_data"
    }
   ],
   "source": [
    "xgb.fit.final2"
   ]
  },
  {
   "cell_type": "code",
   "execution_count": 115,
   "id": "3a866d71",
   "metadata": {},
   "outputs": [],
   "source": [
    "pred2 <- predict(xgb.fit.final2, newdata= dtest)"
   ]
  },
  {
   "cell_type": "code",
   "execution_count": 116,
   "id": "ac21fc58",
   "metadata": {},
   "outputs": [
    {
     "data": {
      "text/html": [
       "641601978.176933"
      ],
      "text/latex": [
       "641601978.176933"
      ],
      "text/markdown": [
       "641601978.176933"
      ],
      "text/plain": [
       "[1] 641601978"
      ]
     },
     "metadata": {},
     "output_type": "display_data"
    },
    {
     "data": {
      "text/html": [
       "25329.8633667245"
      ],
      "text/latex": [
       "25329.8633667245"
      ],
      "text/markdown": [
       "25329.8633667245"
      ],
      "text/plain": [
       "[1] 25329.86"
      ]
     },
     "metadata": {},
     "output_type": "display_data"
    }
   ],
   "source": [
    "mse2 = mean((Y_test - pred2)^2)\n",
    "rmse2 = sqrt(mse)\n",
    "mse2 ; rmse2"
   ]
  }
 ],
 "metadata": {
  "kernelspec": {
   "display_name": "R 4.1.3",
   "language": "R",
   "name": "ir32"
  },
  "language_info": {
   "codemirror_mode": "r",
   "file_extension": ".r",
   "mimetype": "text/x-r-source",
   "name": "R",
   "pygments_lexer": "r",
   "version": "4.1.3"
  }
 },
 "nbformat": 4,
 "nbformat_minor": 5
}
