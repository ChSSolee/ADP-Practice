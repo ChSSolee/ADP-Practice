{
 "cells": [
  {
   "cell_type": "code",
   "execution_count": 2,
   "id": "55842c85",
   "metadata": {},
   "outputs": [],
   "source": [
    "library(tidyverse)\n",
    "library(h2o)"
   ]
  },
  {
   "cell_type": "code",
   "execution_count": 3,
   "id": "9a7f8f0d",
   "metadata": {},
   "outputs": [
    {
     "name": "stderr",
     "output_type": "stream",
     "text": [
      "\u001b[1mRows: \u001b[22m\u001b[34m2000\u001b[39m \u001b[1mColumns: \u001b[22m\u001b[34m42\u001b[39m\n",
      "\u001b[36m--\u001b[39m \u001b[1mColumn specification\u001b[22m \u001b[36m------------------------------------------------------------------------------------------------\u001b[39m\n",
      "\u001b[1mDelimiter:\u001b[22m \",\"\n",
      "\u001b[32mdbl\u001b[39m (42): 7up, lasagna, pepsi, yop, red.wine, cheese, bbq, bulmers, mayonnai...\n",
      "\n",
      "\u001b[36mi\u001b[39m Use `spec()` to retrieve the full column specification for this data.\n",
      "\u001b[36mi\u001b[39m Specify the column types or set `show_col_types = FALSE` to quiet this message.\n"
     ]
    }
   ],
   "source": [
    "url <- \"https://koalaverse.github.io/homlr/data/my_basket.csv\"\n",
    "my_basket <- readr::read_csv(url)"
   ]
  },
  {
   "cell_type": "markdown",
   "id": "1e809737",
   "metadata": {},
   "source": [
    "## 일반화 하위모델 Generalized Low Rank Models\n",
    "- **PCA는 본질적으로 PC의 선형 => 비선형관계를 포착하는데 결점**\n",
    "- **PCA는 숫자 데이터로 제한되지만 GLRM은 임의 개수의 결측값이 있는 혼합 숫자, 범주, 순서 및 부울 데이터를 처리할 수 있음**\n",
    "- 사용자가 정규화를 적용할 수 있으며, 비음성(non-negative)등의 제한을 부과\n",
    "- 여러 유형의 변수로 구성된 데이터 세트를 분석하고 해석하는 유연한 방식"
   ]
  },
  {
   "cell_type": "markdown",
   "id": "e1a0e7d9",
   "metadata": {},
   "source": [
    "#### 행렬분해 방식\n",
    "- A = X * Y\n",
    "- (m x n) = (m x k) * (k x n)"
   ]
  },
  {
   "cell_type": "markdown",
   "id": "a2a2d301",
   "metadata": {},
   "source": [
    "- k는 사용자가 지정, m과 n보다 훨씬 작도록 선택\n",
    "- k가 작을수록 낮은 순위표현에서 더 많은 압축을 얻음"
   ]
  },
  {
   "cell_type": "code",
   "execution_count": 5,
   "id": "cf730238",
   "metadata": {},
   "outputs": [
    {
     "data": {
      "text/html": [
       "<table class=\"dataframe\">\n",
       "<caption>A data.frame: 6 × 11</caption>\n",
       "<thead>\n",
       "\t<tr><th></th><th scope=col>mpg</th><th scope=col>cyl</th><th scope=col>disp</th><th scope=col>hp</th><th scope=col>drat</th><th scope=col>wt</th><th scope=col>qsec</th><th scope=col>vs</th><th scope=col>am</th><th scope=col>gear</th><th scope=col>carb</th></tr>\n",
       "\t<tr><th></th><th scope=col>&lt;dbl&gt;</th><th scope=col>&lt;dbl&gt;</th><th scope=col>&lt;dbl&gt;</th><th scope=col>&lt;dbl&gt;</th><th scope=col>&lt;dbl&gt;</th><th scope=col>&lt;dbl&gt;</th><th scope=col>&lt;dbl&gt;</th><th scope=col>&lt;dbl&gt;</th><th scope=col>&lt;dbl&gt;</th><th scope=col>&lt;dbl&gt;</th><th scope=col>&lt;dbl&gt;</th></tr>\n",
       "</thead>\n",
       "<tbody>\n",
       "\t<tr><th scope=row>Mazda RX4</th><td>21.0</td><td>6</td><td>160</td><td>110</td><td>3.90</td><td>2.620</td><td>16.46</td><td>0</td><td>1</td><td>4</td><td>4</td></tr>\n",
       "\t<tr><th scope=row>Mazda RX4 Wag</th><td>21.0</td><td>6</td><td>160</td><td>110</td><td>3.90</td><td>2.875</td><td>17.02</td><td>0</td><td>1</td><td>4</td><td>4</td></tr>\n",
       "\t<tr><th scope=row>Datsun 710</th><td>22.8</td><td>4</td><td>108</td><td> 93</td><td>3.85</td><td>2.320</td><td>18.61</td><td>1</td><td>1</td><td>4</td><td>1</td></tr>\n",
       "\t<tr><th scope=row>Hornet 4 Drive</th><td>21.4</td><td>6</td><td>258</td><td>110</td><td>3.08</td><td>3.215</td><td>19.44</td><td>1</td><td>0</td><td>3</td><td>1</td></tr>\n",
       "\t<tr><th scope=row>Hornet Sportabout</th><td>18.7</td><td>8</td><td>360</td><td>175</td><td>3.15</td><td>3.440</td><td>17.02</td><td>0</td><td>0</td><td>3</td><td>2</td></tr>\n",
       "\t<tr><th scope=row>Valiant</th><td>18.1</td><td>6</td><td>225</td><td>105</td><td>2.76</td><td>3.460</td><td>20.22</td><td>1</td><td>0</td><td>3</td><td>1</td></tr>\n",
       "</tbody>\n",
       "</table>\n"
      ],
      "text/latex": [
       "A data.frame: 6 × 11\n",
       "\\begin{tabular}{r|lllllllllll}\n",
       "  & mpg & cyl & disp & hp & drat & wt & qsec & vs & am & gear & carb\\\\\n",
       "  & <dbl> & <dbl> & <dbl> & <dbl> & <dbl> & <dbl> & <dbl> & <dbl> & <dbl> & <dbl> & <dbl>\\\\\n",
       "\\hline\n",
       "\tMazda RX4 & 21.0 & 6 & 160 & 110 & 3.90 & 2.620 & 16.46 & 0 & 1 & 4 & 4\\\\\n",
       "\tMazda RX4 Wag & 21.0 & 6 & 160 & 110 & 3.90 & 2.875 & 17.02 & 0 & 1 & 4 & 4\\\\\n",
       "\tDatsun 710 & 22.8 & 4 & 108 &  93 & 3.85 & 2.320 & 18.61 & 1 & 1 & 4 & 1\\\\\n",
       "\tHornet 4 Drive & 21.4 & 6 & 258 & 110 & 3.08 & 3.215 & 19.44 & 1 & 0 & 3 & 1\\\\\n",
       "\tHornet Sportabout & 18.7 & 8 & 360 & 175 & 3.15 & 3.440 & 17.02 & 0 & 0 & 3 & 2\\\\\n",
       "\tValiant & 18.1 & 6 & 225 & 105 & 2.76 & 3.460 & 20.22 & 1 & 0 & 3 & 1\\\\\n",
       "\\end{tabular}\n"
      ],
      "text/markdown": [
       "\n",
       "A data.frame: 6 × 11\n",
       "\n",
       "| <!--/--> | mpg &lt;dbl&gt; | cyl &lt;dbl&gt; | disp &lt;dbl&gt; | hp &lt;dbl&gt; | drat &lt;dbl&gt; | wt &lt;dbl&gt; | qsec &lt;dbl&gt; | vs &lt;dbl&gt; | am &lt;dbl&gt; | gear &lt;dbl&gt; | carb &lt;dbl&gt; |\n",
       "|---|---|---|---|---|---|---|---|---|---|---|---|\n",
       "| Mazda RX4 | 21.0 | 6 | 160 | 110 | 3.90 | 2.620 | 16.46 | 0 | 1 | 4 | 4 |\n",
       "| Mazda RX4 Wag | 21.0 | 6 | 160 | 110 | 3.90 | 2.875 | 17.02 | 0 | 1 | 4 | 4 |\n",
       "| Datsun 710 | 22.8 | 4 | 108 |  93 | 3.85 | 2.320 | 18.61 | 1 | 1 | 4 | 1 |\n",
       "| Hornet 4 Drive | 21.4 | 6 | 258 | 110 | 3.08 | 3.215 | 19.44 | 1 | 0 | 3 | 1 |\n",
       "| Hornet Sportabout | 18.7 | 8 | 360 | 175 | 3.15 | 3.440 | 17.02 | 0 | 0 | 3 | 2 |\n",
       "| Valiant | 18.1 | 6 | 225 | 105 | 2.76 | 3.460 | 20.22 | 1 | 0 | 3 | 1 |\n",
       "\n"
      ],
      "text/plain": [
       "                  mpg  cyl disp hp  drat wt    qsec  vs am gear carb\n",
       "Mazda RX4         21.0 6   160  110 3.90 2.620 16.46 0  1  4    4   \n",
       "Mazda RX4 Wag     21.0 6   160  110 3.90 2.875 17.02 0  1  4    4   \n",
       "Datsun 710        22.8 4   108   93 3.85 2.320 18.61 1  1  4    1   \n",
       "Hornet 4 Drive    21.4 6   258  110 3.08 3.215 19.44 1  0  3    1   \n",
       "Hornet Sportabout 18.7 8   360  175 3.15 3.440 17.02 0  0  3    2   \n",
       "Valiant           18.1 6   225  105 2.76 3.460 20.22 1  0  3    1   "
      ]
     },
     "metadata": {},
     "output_type": "display_data"
    },
    {
     "data": {
      "text/html": [
       "<style>\n",
       ".list-inline {list-style: none; margin:0; padding: 0}\n",
       ".list-inline>li {display: inline-block}\n",
       ".list-inline>li:not(:last-child)::after {content: \"\\00b7\"; padding: 0 .5ex}\n",
       "</style>\n",
       "<ol class=list-inline><li>32</li><li>11</li></ol>\n"
      ],
      "text/latex": [
       "\\begin{enumerate*}\n",
       "\\item 32\n",
       "\\item 11\n",
       "\\end{enumerate*}\n"
      ],
      "text/markdown": [
       "1. 32\n",
       "2. 11\n",
       "\n",
       "\n"
      ],
      "text/plain": [
       "[1] 32 11"
      ]
     },
     "metadata": {},
     "output_type": "display_data"
    }
   ],
   "source": [
    "head(mtcars)\n",
    "dim(mtcars)"
   ]
  },
  {
   "cell_type": "markdown",
   "id": "68ad939c",
   "metadata": {},
   "source": [
    "#### 순위를 3으로 축소"
   ]
  },
  {
   "cell_type": "markdown",
   "id": "8f9f1a8f",
   "metadata": {},
   "source": [
    "<img src = \"https://bradleyboehmke.github.io/HOML/images/glrm-example.png\">"
   ]
  },
  {
   "cell_type": "markdown",
   "id": "ad1ee0b1",
   "metadata": {},
   "source": [
    "- GLRM은 원형 값을 어떻게 생성?\n",
    "- k 에 대한 적절한 값을 어떻게 선택?"
   ]
  },
  {
   "cell_type": "markdown",
   "id": "384c0ae2",
   "metadata": {},
   "source": [
    "### 하위 순위 찾기\n",
    "#### Alternating minimalization\n",
    "- 각 X와 Y의 각 변수에 대한 일부 손실함수 최소화를 번갈아가며 수행\n",
    "- 본질적으로 랜덤값은 초기 X및 Y의 원형 값에 대해 설정"
   ]
  },
  {
   "cell_type": "markdown",
   "id": "e1361f3e",
   "metadata": {},
   "source": [
    "#### 손실함수\n",
    "- 최적의 원형값은 일부 손실함수를 최소화하여 선택\n",
    "- 가장 일반적인 손실함수는 quadratic loss (2차 손실), 2차 손실은 SSE 기준과 매우 유사\n",
    "- 2차 손실은 이상값의 영향을 크게 받음\n",
    "- 데이터 세트의 이상값을 강조하지 않으려는 경우 또는 높은 값 외에 낮은 값에 대한 오류를 최소화하려는 경우, Huber 손실 함수를 사용.\n",
    "- 질적으로 작은 오류에는 2차 손실을 적용하고 큰 값을 가진 오류에는 절대값을 사용"
   ]
  },
  {
   "cell_type": "markdown",
   "id": "349cf941",
   "metadata": {},
   "source": [
    "- Huber 손실과(green), 2차 손실(blue)의 비교\n",
    "- Huber 손실은 선형손실을 생성\n",
    "<img src = \"https://bradleyboehmke.github.io/HOML/images/quadratic-huber-loss.png\">"
   ]
  },
  {
   "cell_type": "markdown",
   "id": "c9fe9309",
   "metadata": {},
   "source": [
    "#### 정규화\n",
    "- 다중공선성 도는 노이즈의 영향을 완화\n",
    "- 단순히 데이터를 설명하고 관찰 및/또는 기능이 어떻게 유사한지 더 잘 이해하기 위해 GLRM을 사용하는 경우 정규화를 사용할 필요가 없음\n",
    "- 새로운 관측값 및/또는 변수를 할당하는 데 사용할 모델을 생성하거나 대치에 GLRM을 사용하려는 경우 모델을 보이지 않는 데이터에 더 잘 일반화할 수 있으므로 정규화를 사용\n",
    "- 행렬 X와 Y를 모두 정규화, \n",
    "- 릿지 정규화를 사용하여 모든 열을 유지하지만 많은 값을 0에 가깝게 만들 수 있다.\n",
    "- 많은 열을 0으로 만드는 데 도움이 되는 라쏘 정규화 프로그램을 사용, LASSO는 자동으로 변수 선택을 수행\n",
    "- Non-negative 정규는 변수 값이 항상 0 또는 양수여야 할 때 사용할 수 있다.(예: 장바구니 분석을 수행할 때).\n",
    "- 정규화의 주요 목적은 과적합을 최소화하는 것. \n",
    "- 결과적으로, 단일 데이터 세트에만 집중하는 경우 정규화 없이 GRLM을 수행하는 것이, 정규화를 사용할 때보다 더 나은 성능"
   ]
  },
  {
   "cell_type": "markdown",
   "id": "1763a15a",
   "metadata": {},
   "source": [
    "#### K 선택\n",
    "1. 데이터를 설명하기 위해 GLRM을 사용하는 경우, k의 값이 손실 함수를 최소화 하는지를 평가\n",
    "- 축소된 차원에 향후 관찰을 할당하는 데 사용할 모델을 생성하기 위해 GLRM을 사용하는 경우 CV의 형태를 사용"
   ]
  },
  {
   "cell_type": "markdown",
   "id": "50f35b9e",
   "metadata": {},
   "source": [
    "### GLRM"
   ]
  },
  {
   "cell_type": "code",
   "execution_count": 6,
   "id": "1837c70c",
   "metadata": {},
   "outputs": [
    {
     "name": "stdout",
     "output_type": "stream",
     "text": [
      " Connection successful!\n",
      "\n",
      "R is connected to the H2O cluster: \n",
      "    H2O cluster uptime:         1 hours 48 minutes \n",
      "    H2O cluster timezone:       Asia/Seoul \n",
      "    H2O data parsing timezone:  UTC \n",
      "    H2O cluster version:        3.36.0.4 \n",
      "    H2O cluster version age:    8 days  \n",
      "    H2O cluster name:           H2O_started_from_R_apf_temp_admin_trg721 \n",
      "    H2O cluster total nodes:    1 \n",
      "    H2O cluster total memory:   4.43 GB \n",
      "    H2O cluster total cores:    4 \n",
      "    H2O cluster allowed cores:  4 \n",
      "    H2O cluster healthy:        TRUE \n",
      "    H2O Connection ip:          localhost \n",
      "    H2O Connection port:        54321 \n",
      "    H2O Connection proxy:       NA \n",
      "    H2O Internal Security:      FALSE \n",
      "    R Version:                  R version 4.1.3 (2022-03-10) \n",
      "\n"
     ]
    }
   ],
   "source": [
    "h2o.no_progress()\n",
    "h2o.init(max_mem_size = \"5g\")"
   ]
  },
  {
   "cell_type": "markdown",
   "id": "b5dd0377",
   "metadata": {},
   "source": [
    "### ```h2o.glrm()```\n",
    "- ```k``` : 축소차원크기\n",
    "- ```loss``` : 손실함수 (default = “Quadratic\") [\"Quadratic\", \"Absolute\", \"Huber\", \"Poisson\", \"Hinge\", \"Logistic\",\n",
    "    \"Periodic]\n",
    "- ```regularization_x``` : 행렬 X에 적용할 정규화 [\"None\", \"Quadratic\", \"L2\", \"L1\", \"NonNegative\", \"OneSparse\",\n",
    "    \"UnitOneSparse\", \"Simplex\"]\n",
    "- ```regularization_y``` : 행렬 Y에 적용할 정규화\n",
    "- ```transform``` : 데이터 정규화 [\"NONE\", \"STANDARDIZE\", \"NORMALIZE\", \"DEMEAN\", \"DESCALE\"]\n",
    "- ```max_iterations``` : 손실함수가 수렴하기 위해 적용할 반복 횟수\n",
    "- ```seed``` \n",
    "- ```max_runtime_secs``` : 런타임 제한\n",
    "- ```multi_loss``` : 범주형일 경우 [\"Categorical\", \"Ordinal\"]\n",
    "- ```gamma_x```, ```gamma_y``` : 정규화 가중치"
   ]
  },
  {
   "cell_type": "code",
   "execution_count": 44,
   "id": "ce5a5668",
   "metadata": {},
   "outputs": [],
   "source": [
    "?h2o.glrm()"
   ]
  },
  {
   "cell_type": "code",
   "execution_count": 8,
   "id": "123bcb0d",
   "metadata": {},
   "outputs": [],
   "source": [
    "my_basket.h2o <- as.h2o(my_basket)"
   ]
  },
  {
   "cell_type": "code",
   "execution_count": 9,
   "id": "77f6a316",
   "metadata": {},
   "outputs": [],
   "source": [
    "basic_glrm <- h2o.glrm(\n",
    "  training_frame = my_basket.h2o,\n",
    "  k = 20, \n",
    "  loss = \"Quadratic\",\n",
    "  regularization_x = \"None\", \n",
    "  regularization_y = \"None\", \n",
    "  transform = \"STANDARDIZE\", \n",
    "  max_iterations = 2000,\n",
    "  seed = 123\n",
    ")"
   ]
  },
  {
   "cell_type": "code",
   "execution_count": 15,
   "id": "b4599250",
   "metadata": {},
   "outputs": [
    {
     "data": {
      "text/plain": [
       "Model Details:\n",
       "==============\n",
       "\n",
       "H2ODimReductionModel: glrm\n",
       "Model ID:  GLRM_model_R_1649355762627_2 \n",
       "Model Summary: \n",
       "  number_of_iterations final_step_size final_objective_value\n",
       "1                 1000         0.30792           31004.58940\n",
       "\n",
       "\n",
       "H2ODimReductionMetrics: glrm\n",
       "** Reported on training data. **\n",
       "\n",
       "Sum of Squared Error (Numeric):  31004.59\n",
       "Misclassification Error (Categorical):  0\n",
       "Number of Numeric Entries:  84000\n",
       "Number of Categorical Entries:  0\n",
       "\n"
      ]
     },
     "metadata": {},
     "output_type": "display_data"
    }
   ],
   "source": [
    "basic_glrm"
   ]
  },
  {
   "cell_type": "markdown",
   "id": "acde30aa",
   "metadata": {},
   "source": [
    "- 최종 2차 손실 값(SSE)가 31004.58940\n",
    "- 손실함수가 최소값으로 수렴하는데 1000번 반복 필요"
   ]
  },
  {
   "cell_type": "code",
   "execution_count": 14,
   "id": "b1c670e9",
   "metadata": {},
   "outputs": [
    {
     "data": {
      "image/png": "[encoded data removed]",
      "text/plain": [
       "Plot with title \"Objective Function Value per Iteration\""
      ]
     },
     "metadata": {
      "image/png": {
       "height": 420,
       "width": 420
      }
     },
     "output_type": "display_data"
    }
   ],
   "source": [
    "plot(basic_glrm)"
   ]
  },
  {
   "cell_type": "code",
   "execution_count": 16,
   "id": "d37bb5c7",
   "metadata": {},
   "outputs": [
    {
     "data": {
      "text/html": [
       "<table class=\"dataframe\">\n",
       "<caption>A H2OTable: 3 × 20</caption>\n",
       "<thead>\n",
       "\t<tr><th></th><th scope=col>pc1</th><th scope=col>pc2</th><th scope=col>pc3</th><th scope=col>pc4</th><th scope=col>pc5</th><th scope=col>pc6</th><th scope=col>pc7</th><th scope=col>pc8</th><th scope=col>pc9</th><th scope=col>pc10</th><th scope=col>pc11</th><th scope=col>pc12</th><th scope=col>pc13</th><th scope=col>pc14</th><th scope=col>pc15</th><th scope=col>pc16</th><th scope=col>pc17</th><th scope=col>pc18</th><th scope=col>pc19</th><th scope=col>pc20</th></tr>\n",
       "\t<tr><th></th><th scope=col>&lt;dbl&gt;</th><th scope=col>&lt;dbl&gt;</th><th scope=col>&lt;dbl&gt;</th><th scope=col>&lt;dbl&gt;</th><th scope=col>&lt;dbl&gt;</th><th scope=col>&lt;dbl&gt;</th><th scope=col>&lt;dbl&gt;</th><th scope=col>&lt;dbl&gt;</th><th scope=col>&lt;dbl&gt;</th><th scope=col>&lt;dbl&gt;</th><th scope=col>&lt;dbl&gt;</th><th scope=col>&lt;dbl&gt;</th><th scope=col>&lt;dbl&gt;</th><th scope=col>&lt;dbl&gt;</th><th scope=col>&lt;dbl&gt;</th><th scope=col>&lt;dbl&gt;</th><th scope=col>&lt;dbl&gt;</th><th scope=col>&lt;dbl&gt;</th><th scope=col>&lt;dbl&gt;</th><th scope=col>&lt;dbl&gt;</th></tr>\n",
       "</thead>\n",
       "<tbody>\n",
       "\t<tr><th scope=row>Standard deviation</th><td>1.51391887</td><td>1.47376825</td><td>1.45911373</td><td>1.44063487</td><td>1.43527873</td><td>1.41154352</td><td>1.2533073</td><td>1.0263865</td><td>1.01023787</td><td>1.00725266</td><td>0.98872380</td><td>0.98532001</td><td>0.97045298</td><td>0.96430274</td><td>0.95161001</td><td>0.94797772</td><td>0.94482594</td><td>0.93294275</td><td>0.93174514</td><td>0.92420709</td></tr>\n",
       "\t<tr><th scope=row>Proportion of Variance</th><td>0.05457025</td><td>0.05171412</td><td>0.05069078</td><td>0.04941497</td><td>0.04904821</td><td>0.04743941</td><td>0.0373995</td><td>0.0250826</td><td>0.02429954</td><td>0.02415614</td><td>0.02327559</td><td>0.02311561</td><td>0.02242331</td><td>0.02213999</td><td>0.02156099</td><td>0.02139671</td><td>0.02125467</td><td>0.02072338</td><td>0.02067021</td><td>0.02033711</td></tr>\n",
       "\t<tr><th scope=row>Cumulative Proportion</th><td>0.05457025</td><td>0.10628436</td><td>0.15697514</td><td>0.20639012</td><td>0.25543833</td><td>0.30287774</td><td>0.3402772</td><td>0.3653598</td><td>0.38965938</td><td>0.41381552</td><td>0.43709111</td><td>0.46020672</td><td>0.48263003</td><td>0.50477002</td><td>0.52633101</td><td>0.54772772</td><td>0.56898239</td><td>0.58970577</td><td>0.61037599</td><td>0.63071310</td></tr>\n",
       "</tbody>\n",
       "</table>\n"
      ],
      "text/latex": [
       "A H2OTable: 3 × 20\n",
       "\\begin{tabular}{r|llllllllllllllllllll}\n",
       "  & pc1 & pc2 & pc3 & pc4 & pc5 & pc6 & pc7 & pc8 & pc9 & pc10 & pc11 & pc12 & pc13 & pc14 & pc15 & pc16 & pc17 & pc18 & pc19 & pc20\\\\\n",
       "  & <dbl> & <dbl> & <dbl> & <dbl> & <dbl> & <dbl> & <dbl> & <dbl> & <dbl> & <dbl> & <dbl> & <dbl> & <dbl> & <dbl> & <dbl> & <dbl> & <dbl> & <dbl> & <dbl> & <dbl>\\\\\n",
       "\\hline\n",
       "\tStandard deviation & 1.51391887 & 1.47376825 & 1.45911373 & 1.44063487 & 1.43527873 & 1.41154352 & 1.2533073 & 1.0263865 & 1.01023787 & 1.00725266 & 0.98872380 & 0.98532001 & 0.97045298 & 0.96430274 & 0.95161001 & 0.94797772 & 0.94482594 & 0.93294275 & 0.93174514 & 0.92420709\\\\\n",
       "\tProportion of Variance & 0.05457025 & 0.05171412 & 0.05069078 & 0.04941497 & 0.04904821 & 0.04743941 & 0.0373995 & 0.0250826 & 0.02429954 & 0.02415614 & 0.02327559 & 0.02311561 & 0.02242331 & 0.02213999 & 0.02156099 & 0.02139671 & 0.02125467 & 0.02072338 & 0.02067021 & 0.02033711\\\\\n",
       "\tCumulative Proportion & 0.05457025 & 0.10628436 & 0.15697514 & 0.20639012 & 0.25543833 & 0.30287774 & 0.3402772 & 0.3653598 & 0.38965938 & 0.41381552 & 0.43709111 & 0.46020672 & 0.48263003 & 0.50477002 & 0.52633101 & 0.54772772 & 0.56898239 & 0.58970577 & 0.61037599 & 0.63071310\\\\\n",
       "\\end{tabular}\n"
      ],
      "text/markdown": [
       "\n",
       "A H2OTable: 3 × 20\n",
       "\n",
       "| <!--/--> | pc1 &lt;dbl&gt; | pc2 &lt;dbl&gt; | pc3 &lt;dbl&gt; | pc4 &lt;dbl&gt; | pc5 &lt;dbl&gt; | pc6 &lt;dbl&gt; | pc7 &lt;dbl&gt; | pc8 &lt;dbl&gt; | pc9 &lt;dbl&gt; | pc10 &lt;dbl&gt; | pc11 &lt;dbl&gt; | pc12 &lt;dbl&gt; | pc13 &lt;dbl&gt; | pc14 &lt;dbl&gt; | pc15 &lt;dbl&gt; | pc16 &lt;dbl&gt; | pc17 &lt;dbl&gt; | pc18 &lt;dbl&gt; | pc19 &lt;dbl&gt; | pc20 &lt;dbl&gt; |\n",
       "|---|---|---|---|---|---|---|---|---|---|---|---|---|---|---|---|---|---|---|---|---|\n",
       "| Standard deviation | 1.51391887 | 1.47376825 | 1.45911373 | 1.44063487 | 1.43527873 | 1.41154352 | 1.2533073 | 1.0263865 | 1.01023787 | 1.00725266 | 0.98872380 | 0.98532001 | 0.97045298 | 0.96430274 | 0.95161001 | 0.94797772 | 0.94482594 | 0.93294275 | 0.93174514 | 0.92420709 |\n",
       "| Proportion of Variance | 0.05457025 | 0.05171412 | 0.05069078 | 0.04941497 | 0.04904821 | 0.04743941 | 0.0373995 | 0.0250826 | 0.02429954 | 0.02415614 | 0.02327559 | 0.02311561 | 0.02242331 | 0.02213999 | 0.02156099 | 0.02139671 | 0.02125467 | 0.02072338 | 0.02067021 | 0.02033711 |\n",
       "| Cumulative Proportion | 0.05457025 | 0.10628436 | 0.15697514 | 0.20639012 | 0.25543833 | 0.30287774 | 0.3402772 | 0.3653598 | 0.38965938 | 0.41381552 | 0.43709111 | 0.46020672 | 0.48263003 | 0.50477002 | 0.52633101 | 0.54772772 | 0.56898239 | 0.58970577 | 0.61037599 | 0.63071310 |\n",
       "\n"
      ],
      "text/plain": [
       "                       pc1        pc2        pc3        pc4        pc5       \n",
       "Standard deviation     1.51391887 1.47376825 1.45911373 1.44063487 1.43527873\n",
       "Proportion of Variance 0.05457025 0.05171412 0.05069078 0.04941497 0.04904821\n",
       "Cumulative Proportion  0.05457025 0.10628436 0.15697514 0.20639012 0.25543833\n",
       "                       pc6        pc7       pc8       pc9        pc10      \n",
       "Standard deviation     1.41154352 1.2533073 1.0263865 1.01023787 1.00725266\n",
       "Proportion of Variance 0.04743941 0.0373995 0.0250826 0.02429954 0.02415614\n",
       "Cumulative Proportion  0.30287774 0.3402772 0.3653598 0.38965938 0.41381552\n",
       "                       pc11       pc12       pc13       pc14       pc15      \n",
       "Standard deviation     0.98872380 0.98532001 0.97045298 0.96430274 0.95161001\n",
       "Proportion of Variance 0.02327559 0.02311561 0.02242331 0.02213999 0.02156099\n",
       "Cumulative Proportion  0.43709111 0.46020672 0.48263003 0.50477002 0.52633101\n",
       "                       pc16       pc17       pc18       pc19       pc20      \n",
       "Standard deviation     0.94797772 0.94482594 0.93294275 0.93174514 0.92420709\n",
       "Proportion of Variance 0.02139671 0.02125467 0.02072338 0.02067021 0.02033711\n",
       "Cumulative Proportion  0.54772772 0.56898239 0.58970577 0.61037599 0.63071310"
      ]
     },
     "metadata": {},
     "output_type": "display_data"
    }
   ],
   "source": [
    "basic_glrm@model$importance"
   ]
  },
  {
   "cell_type": "code",
   "execution_count": 18,
   "id": "d105075f",
   "metadata": {},
   "outputs": [
    {
     "data": {
      "text/html": [
       "<table class=\"dataframe\">\n",
       "<caption>A data.frame: 6 × 3</caption>\n",
       "<thead>\n",
       "\t<tr><th></th><th scope=col>PC</th><th scope=col>PVE</th><th scope=col>CVE</th></tr>\n",
       "\t<tr><th></th><th scope=col>&lt;int&gt;</th><th scope=col>&lt;dbl&gt;</th><th scope=col>&lt;dbl&gt;</th></tr>\n",
       "</thead>\n",
       "<tbody>\n",
       "\t<tr><th scope=row>pc1</th><td>1</td><td>0.05457025</td><td>0.05457025</td></tr>\n",
       "\t<tr><th scope=row>pc2</th><td>2</td><td>0.05171412</td><td>0.10628436</td></tr>\n",
       "\t<tr><th scope=row>pc3</th><td>3</td><td>0.05069078</td><td>0.15697514</td></tr>\n",
       "\t<tr><th scope=row>pc4</th><td>4</td><td>0.04941497</td><td>0.20639012</td></tr>\n",
       "\t<tr><th scope=row>pc5</th><td>5</td><td>0.04904821</td><td>0.25543833</td></tr>\n",
       "\t<tr><th scope=row>pc6</th><td>6</td><td>0.04743941</td><td>0.30287774</td></tr>\n",
       "</tbody>\n",
       "</table>\n"
      ],
      "text/latex": [
       "A data.frame: 6 × 3\n",
       "\\begin{tabular}{r|lll}\n",
       "  & PC & PVE & CVE\\\\\n",
       "  & <int> & <dbl> & <dbl>\\\\\n",
       "\\hline\n",
       "\tpc1 & 1 & 0.05457025 & 0.05457025\\\\\n",
       "\tpc2 & 2 & 0.05171412 & 0.10628436\\\\\n",
       "\tpc3 & 3 & 0.05069078 & 0.15697514\\\\\n",
       "\tpc4 & 4 & 0.04941497 & 0.20639012\\\\\n",
       "\tpc5 & 5 & 0.04904821 & 0.25543833\\\\\n",
       "\tpc6 & 6 & 0.04743941 & 0.30287774\\\\\n",
       "\\end{tabular}\n"
      ],
      "text/markdown": [
       "\n",
       "A data.frame: 6 × 3\n",
       "\n",
       "| <!--/--> | PC &lt;int&gt; | PVE &lt;dbl&gt; | CVE &lt;dbl&gt; |\n",
       "|---|---|---|---|\n",
       "| pc1 | 1 | 0.05457025 | 0.05457025 |\n",
       "| pc2 | 2 | 0.05171412 | 0.10628436 |\n",
       "| pc3 | 3 | 0.05069078 | 0.15697514 |\n",
       "| pc4 | 4 | 0.04941497 | 0.20639012 |\n",
       "| pc5 | 5 | 0.04904821 | 0.25543833 |\n",
       "| pc6 | 6 | 0.04743941 | 0.30287774 |\n",
       "\n"
      ],
      "text/plain": [
       "    PC PVE        CVE       \n",
       "pc1 1  0.05457025 0.05457025\n",
       "pc2 2  0.05171412 0.10628436\n",
       "pc3 3  0.05069078 0.15697514\n",
       "pc4 4  0.04941497 0.20639012\n",
       "pc5 5  0.04904821 0.25543833\n",
       "pc6 6  0.04743941 0.30287774"
      ]
     },
     "metadata": {},
     "output_type": "display_data"
    }
   ],
   "source": [
    "ve <- data.frame(\n",
    "    PC  = basic_glrm@model$importance %>% seq_along(),\n",
    "    PVE = basic_glrm@model$importance %>% .[2,] %>% unlist(),\n",
    "    CVE = basic_glrm@model$importance %>% .[3,] %>% unlist()\n",
    ")\n",
    "ve %>% head"
   ]
  },
  {
   "cell_type": "code",
   "execution_count": 21,
   "id": "e1227e28",
   "metadata": {
    "scrolled": true
   },
   "outputs": [
    {
     "data": {
      "image/png": "[encoded data removed]",
      "text/plain": [
       "plot without title"
      ]
     },
     "metadata": {
      "image/png": {
       "height": 420,
       "width": 420
      }
     },
     "output_type": "display_data"
    }
   ],
   "source": [
    "p1 <- ggplot(ve, aes(PC, CVE)) + geom_point()\n",
    "p2 <- ggplot(ve, aes(PC, PVE)) + geom_point()\n",
    "gridExtra::grid.arrange(p1, p2, nrow = 1)"
   ]
  },
  {
   "cell_type": "markdown",
   "id": "60bc93d1",
   "metadata": {},
   "source": [
    "### 각 Arch에대한 변수별 영향력"
   ]
  },
  {
   "cell_type": "code",
   "execution_count": 24,
   "id": "cbb79048",
   "metadata": {
    "scrolled": true
   },
   "outputs": [
    {
     "data": {
      "text/html": [
       "<table class=\"dataframe\">\n",
       "<caption>A matrix: 6 × 20 of type dbl</caption>\n",
       "<thead>\n",
       "\t<tr><th></th><th scope=col>Arch1</th><th scope=col>Arch2</th><th scope=col>Arch3</th><th scope=col>Arch4</th><th scope=col>Arch5</th><th scope=col>Arch6</th><th scope=col>Arch7</th><th scope=col>Arch8</th><th scope=col>Arch9</th><th scope=col>Arch10</th><th scope=col>Arch11</th><th scope=col>Arch12</th><th scope=col>Arch13</th><th scope=col>Arch14</th><th scope=col>Arch15</th><th scope=col>Arch16</th><th scope=col>Arch17</th><th scope=col>Arch18</th><th scope=col>Arch19</th><th scope=col>Arch20</th></tr>\n",
       "</thead>\n",
       "<tbody>\n",
       "\t<tr><th scope=row>7up</th><td>-0.57463071</td><td>-1.5702621</td><td> 0.9907660</td><td>-0.9335919</td><td> 0.17678524</td><td> 0.3490532</td><td> 1.4509611</td><td> 0.22944182</td><td>-0.2603724</td><td> 0.56534298</td><td> 0.2588362</td><td>-1.2532674</td><td> 1.31523600</td><td> 0.3766145</td><td> 1.6222527</td><td> 3.3458560</td><td> 0.5794821</td><td>-0.09590671</td><td>-0.06239634</td><td> 0.3926856</td></tr>\n",
       "\t<tr><th scope=row>lasagna</th><td> 0.21901025</td><td> 0.1213471</td><td>-0.7069038</td><td> 0.8441723</td><td> 3.56183778</td><td>-0.9601863</td><td> 0.2637698</td><td> 0.08335172</td><td>-0.4267591</td><td>-0.19529287</td><td>-0.9520205</td><td> 1.0143890</td><td>-0.43890816</td><td> 0.2733041</td><td>-0.2446949</td><td> 0.2383382</td><td> 0.3919773</td><td> 2.92312728</td><td> 0.20319387</td><td> 0.7217228</td></tr>\n",
       "\t<tr><th scope=row>pepsi</th><td>-0.24897154</td><td>-0.8155085</td><td>-0.7669151</td><td>-1.2563080</td><td>-0.47583355</td><td> 0.6209472</td><td> 3.4646346</td><td> 0.79150394</td><td>-0.5544192</td><td> 0.02318496</td><td> 0.4415946</td><td>-0.9589086</td><td>-0.07071473</td><td> 0.1478579</td><td> 0.8105671</td><td> 1.8191354</td><td> 0.7688919</td><td>-1.04537840</td><td>-0.31201227</td><td> 0.5426494</td></tr>\n",
       "\t<tr><th scope=row>yop</th><td>-0.18871778</td><td> 0.3997875</td><td>-0.4856819</td><td> 1.1622885</td><td>-0.26246037</td><td>-1.6578109</td><td> 5.2989491</td><td>-0.82291372</td><td> 0.8842261</td><td> 0.44352700</td><td> 0.7112739</td><td> 0.0849247</td><td>-0.90782340</td><td>-0.1064536</td><td> 0.2906010</td><td>-0.9557427</td><td>-0.1821650</td><td>-1.15081385</td><td>-1.67568774</td><td> 1.0490059</td></tr>\n",
       "\t<tr><th scope=row>redwine</th><td>-0.13603233</td><td>-0.1058262</td><td>-0.9579185</td><td> 0.4632044</td><td>-0.08498506</td><td> 0.0925273</td><td> 0.5359363</td><td> 2.73662608</td><td> 0.4843709</td><td> 0.98043885</td><td>-0.6401542</td><td> 3.1828435</td><td>-0.27318343</td><td> 0.3661761</td><td> 1.2722608</td><td>-0.2521197</td><td>-0.7531580</td><td>-0.44729627</td><td>-1.19175937</td><td>-0.1337714</td></tr>\n",
       "\t<tr><th scope=row>cheese</th><td> 0.01426308</td><td>-0.6411114</td><td>-0.7574530</td><td>-0.1895783</td><td> 0.46579762</td><td> 1.5573037</td><td>-0.6570389</td><td>-0.32236044</td><td>-0.4334573</td><td> 2.95961680</td><td> 2.9706845</td><td>-0.1226705</td><td>-0.28507666</td><td> 0.7370642</td><td> 1.9268408</td><td>-0.8302708</td><td>-0.3491758</td><td>-0.42336476</td><td>-0.52780551</td><td> 1.3105851</td></tr>\n",
       "</tbody>\n",
       "</table>\n"
      ],
      "text/latex": [
       "A matrix: 6 × 20 of type dbl\n",
       "\\begin{tabular}{r|llllllllllllllllllll}\n",
       "  & Arch1 & Arch2 & Arch3 & Arch4 & Arch5 & Arch6 & Arch7 & Arch8 & Arch9 & Arch10 & Arch11 & Arch12 & Arch13 & Arch14 & Arch15 & Arch16 & Arch17 & Arch18 & Arch19 & Arch20\\\\\n",
       "\\hline\n",
       "\t7up & -0.57463071 & -1.5702621 &  0.9907660 & -0.9335919 &  0.17678524 &  0.3490532 &  1.4509611 &  0.22944182 & -0.2603724 &  0.56534298 &  0.2588362 & -1.2532674 &  1.31523600 &  0.3766145 &  1.6222527 &  3.3458560 &  0.5794821 & -0.09590671 & -0.06239634 &  0.3926856\\\\\n",
       "\tlasagna &  0.21901025 &  0.1213471 & -0.7069038 &  0.8441723 &  3.56183778 & -0.9601863 &  0.2637698 &  0.08335172 & -0.4267591 & -0.19529287 & -0.9520205 &  1.0143890 & -0.43890816 &  0.2733041 & -0.2446949 &  0.2383382 &  0.3919773 &  2.92312728 &  0.20319387 &  0.7217228\\\\\n",
       "\tpepsi & -0.24897154 & -0.8155085 & -0.7669151 & -1.2563080 & -0.47583355 &  0.6209472 &  3.4646346 &  0.79150394 & -0.5544192 &  0.02318496 &  0.4415946 & -0.9589086 & -0.07071473 &  0.1478579 &  0.8105671 &  1.8191354 &  0.7688919 & -1.04537840 & -0.31201227 &  0.5426494\\\\\n",
       "\tyop & -0.18871778 &  0.3997875 & -0.4856819 &  1.1622885 & -0.26246037 & -1.6578109 &  5.2989491 & -0.82291372 &  0.8842261 &  0.44352700 &  0.7112739 &  0.0849247 & -0.90782340 & -0.1064536 &  0.2906010 & -0.9557427 & -0.1821650 & -1.15081385 & -1.67568774 &  1.0490059\\\\\n",
       "\tredwine & -0.13603233 & -0.1058262 & -0.9579185 &  0.4632044 & -0.08498506 &  0.0925273 &  0.5359363 &  2.73662608 &  0.4843709 &  0.98043885 & -0.6401542 &  3.1828435 & -0.27318343 &  0.3661761 &  1.2722608 & -0.2521197 & -0.7531580 & -0.44729627 & -1.19175937 & -0.1337714\\\\\n",
       "\tcheese &  0.01426308 & -0.6411114 & -0.7574530 & -0.1895783 &  0.46579762 &  1.5573037 & -0.6570389 & -0.32236044 & -0.4334573 &  2.95961680 &  2.9706845 & -0.1226705 & -0.28507666 &  0.7370642 &  1.9268408 & -0.8302708 & -0.3491758 & -0.42336476 & -0.52780551 &  1.3105851\\\\\n",
       "\\end{tabular}\n"
      ],
      "text/markdown": [
       "\n",
       "A matrix: 6 × 20 of type dbl\n",
       "\n",
       "| <!--/--> | Arch1 | Arch2 | Arch3 | Arch4 | Arch5 | Arch6 | Arch7 | Arch8 | Arch9 | Arch10 | Arch11 | Arch12 | Arch13 | Arch14 | Arch15 | Arch16 | Arch17 | Arch18 | Arch19 | Arch20 |\n",
       "|---|---|---|---|---|---|---|---|---|---|---|---|---|---|---|---|---|---|---|---|---|\n",
       "| 7up | -0.57463071 | -1.5702621 |  0.9907660 | -0.9335919 |  0.17678524 |  0.3490532 |  1.4509611 |  0.22944182 | -0.2603724 |  0.56534298 |  0.2588362 | -1.2532674 |  1.31523600 |  0.3766145 |  1.6222527 |  3.3458560 |  0.5794821 | -0.09590671 | -0.06239634 |  0.3926856 |\n",
       "| lasagna |  0.21901025 |  0.1213471 | -0.7069038 |  0.8441723 |  3.56183778 | -0.9601863 |  0.2637698 |  0.08335172 | -0.4267591 | -0.19529287 | -0.9520205 |  1.0143890 | -0.43890816 |  0.2733041 | -0.2446949 |  0.2383382 |  0.3919773 |  2.92312728 |  0.20319387 |  0.7217228 |\n",
       "| pepsi | -0.24897154 | -0.8155085 | -0.7669151 | -1.2563080 | -0.47583355 |  0.6209472 |  3.4646346 |  0.79150394 | -0.5544192 |  0.02318496 |  0.4415946 | -0.9589086 | -0.07071473 |  0.1478579 |  0.8105671 |  1.8191354 |  0.7688919 | -1.04537840 | -0.31201227 |  0.5426494 |\n",
       "| yop | -0.18871778 |  0.3997875 | -0.4856819 |  1.1622885 | -0.26246037 | -1.6578109 |  5.2989491 | -0.82291372 |  0.8842261 |  0.44352700 |  0.7112739 |  0.0849247 | -0.90782340 | -0.1064536 |  0.2906010 | -0.9557427 | -0.1821650 | -1.15081385 | -1.67568774 |  1.0490059 |\n",
       "| redwine | -0.13603233 | -0.1058262 | -0.9579185 |  0.4632044 | -0.08498506 |  0.0925273 |  0.5359363 |  2.73662608 |  0.4843709 |  0.98043885 | -0.6401542 |  3.1828435 | -0.27318343 |  0.3661761 |  1.2722608 | -0.2521197 | -0.7531580 | -0.44729627 | -1.19175937 | -0.1337714 |\n",
       "| cheese |  0.01426308 | -0.6411114 | -0.7574530 | -0.1895783 |  0.46579762 |  1.5573037 | -0.6570389 | -0.32236044 | -0.4334573 |  2.95961680 |  2.9706845 | -0.1226705 | -0.28507666 |  0.7370642 |  1.9268408 | -0.8302708 | -0.3491758 | -0.42336476 | -0.52780551 |  1.3105851 |\n",
       "\n"
      ],
      "text/plain": [
       "        Arch1       Arch2      Arch3      Arch4      Arch5       Arch6     \n",
       "7up     -0.57463071 -1.5702621  0.9907660 -0.9335919  0.17678524  0.3490532\n",
       "lasagna  0.21901025  0.1213471 -0.7069038  0.8441723  3.56183778 -0.9601863\n",
       "pepsi   -0.24897154 -0.8155085 -0.7669151 -1.2563080 -0.47583355  0.6209472\n",
       "yop     -0.18871778  0.3997875 -0.4856819  1.1622885 -0.26246037 -1.6578109\n",
       "redwine -0.13603233 -0.1058262 -0.9579185  0.4632044 -0.08498506  0.0925273\n",
       "cheese   0.01426308 -0.6411114 -0.7574530 -0.1895783  0.46579762  1.5573037\n",
       "        Arch7      Arch8       Arch9      Arch10      Arch11     Arch12    \n",
       "7up      1.4509611  0.22944182 -0.2603724  0.56534298  0.2588362 -1.2532674\n",
       "lasagna  0.2637698  0.08335172 -0.4267591 -0.19529287 -0.9520205  1.0143890\n",
       "pepsi    3.4646346  0.79150394 -0.5544192  0.02318496  0.4415946 -0.9589086\n",
       "yop      5.2989491 -0.82291372  0.8842261  0.44352700  0.7112739  0.0849247\n",
       "redwine  0.5359363  2.73662608  0.4843709  0.98043885 -0.6401542  3.1828435\n",
       "cheese  -0.6570389 -0.32236044 -0.4334573  2.95961680  2.9706845 -0.1226705\n",
       "        Arch13      Arch14     Arch15     Arch16     Arch17     Arch18     \n",
       "7up      1.31523600  0.3766145  1.6222527  3.3458560  0.5794821 -0.09590671\n",
       "lasagna -0.43890816  0.2733041 -0.2446949  0.2383382  0.3919773  2.92312728\n",
       "pepsi   -0.07071473  0.1478579  0.8105671  1.8191354  0.7688919 -1.04537840\n",
       "yop     -0.90782340 -0.1064536  0.2906010 -0.9557427 -0.1821650 -1.15081385\n",
       "redwine -0.27318343  0.3661761  1.2722608 -0.2521197 -0.7531580 -0.44729627\n",
       "cheese  -0.28507666  0.7370642  1.9268408 -0.8302708 -0.3491758 -0.42336476\n",
       "        Arch19      Arch20    \n",
       "7up     -0.06239634  0.3926856\n",
       "lasagna  0.20319387  0.7217228\n",
       "pepsi   -0.31201227  0.5426494\n",
       "yop     -1.67568774  1.0490059\n",
       "redwine -1.19175937 -0.1337714\n",
       "cheese  -0.52780551  1.3105851"
      ]
     },
     "metadata": {},
     "output_type": "display_data"
    }
   ],
   "source": [
    "t(basic_glrm@model$archetypes) %>% head"
   ]
  },
  {
   "cell_type": "code",
   "execution_count": 30,
   "id": "37d891df",
   "metadata": {},
   "outputs": [
    {
     "data": {
      "image/png": "[encoded data removed]",
      "text/plain": [
       "plot without title"
      ]
     },
     "metadata": {
      "image/png": {
       "height": 420,
       "width": 420
      }
     },
     "output_type": "display_data"
    }
   ],
   "source": [
    "p1 <- t(basic_glrm@model$archetypes) %>% \n",
    "  as.data.frame() %>% \n",
    "  mutate(feature = row.names(.)) %>%\n",
    "  ggplot(aes(Arch1, reorder(feature, Arch1))) +\n",
    "  geom_point()\n",
    "p1"
   ]
  },
  {
   "cell_type": "code",
   "execution_count": 28,
   "id": "70211d8a",
   "metadata": {},
   "outputs": [
    {
     "data": {
      "image/png": "[encoded data removed]",
      "text/plain": [
       "plot without title"
      ]
     },
     "metadata": {
      "image/png": {
       "height": 420,
       "width": 420
      }
     },
     "output_type": "display_data"
    }
   ],
   "source": [
    "p2 <- t(basic_glrm@model$archetypes) %>% \n",
    "  as.data.frame() %>% \n",
    "  mutate(feature = row.names(.)) %>%\n",
    "  ggplot(aes(Arch1, Arch2, label = feature)) +\n",
    "  geom_text()\n",
    "p2"
   ]
  },
  {
   "cell_type": "markdown",
   "id": "1b2559af",
   "metadata": {},
   "source": [
    "### ```h2o.reconstruct()```\n",
    "- 데이터 세트에 적용하여 예측"
   ]
  },
  {
   "cell_type": "markdown",
   "id": "50d1e3c4",
   "metadata": {},
   "source": [
    "#### k = 8을 적용"
   ]
  },
  {
   "cell_type": "code",
   "execution_count": 38,
   "id": "43ee66f3",
   "metadata": {},
   "outputs": [],
   "source": [
    "k8_glrm <- h2o.glrm(\n",
    "  training_frame = my_basket.h2o,\n",
    "  k = 8, \n",
    "  loss = \"Quadratic\",\n",
    "  regularization_x = \"None\", \n",
    "  regularization_y = \"None\", \n",
    "  transform = \"STANDARDIZE\", \n",
    "  max_iterations = 2000,\n",
    "  seed = 123\n",
    ")"
   ]
  },
  {
   "cell_type": "code",
   "execution_count": 39,
   "id": "36f45e4f",
   "metadata": {},
   "outputs": [],
   "source": [
    "my_reconstruction <- h2o.reconstruct(k8_glrm, my_basket.h2o, reverse_transform = TRUE)"
   ]
  },
  {
   "cell_type": "markdown",
   "id": "a11530b0",
   "metadata": {},
   "source": [
    "- my_basket 데이터가 구매한 각 제품의 수라는 점을 고려할 때, 값을 반올림"
   ]
  },
  {
   "cell_type": "code",
   "execution_count": 43,
   "id": "d9f96da5",
   "metadata": {
    "scrolled": false
   },
   "outputs": [
    {
     "data": {
      "text/html": [
       "<table class=\"dataframe\">\n",
       "<caption>A data.frame: 6 × 42</caption>\n",
       "<thead>\n",
       "\t<tr><th></th><th scope=col>reconstr_7up</th><th scope=col>reconstr_lasagna</th><th scope=col>reconstr_pepsi</th><th scope=col>reconstr_yop</th><th scope=col>reconstr_red.wine</th><th scope=col>reconstr_cheese</th><th scope=col>reconstr_bbq</th><th scope=col>reconstr_bulmers</th><th scope=col>reconstr_mayonnaise</th><th scope=col>reconstr_horlics</th><th scope=col>...</th><th scope=col>reconstr_instant.coffee</th><th scope=col>reconstr_twix</th><th scope=col>reconstr_potatoes</th><th scope=col>reconstr_fosters</th><th scope=col>reconstr_soup</th><th scope=col>reconstr_toad.in.hole</th><th scope=col>reconstr_coco.pops</th><th scope=col>reconstr_kitkat</th><th scope=col>reconstr_broccoli</th><th scope=col>reconstr_cigarettes</th></tr>\n",
       "\t<tr><th></th><th scope=col>&lt;dbl&gt;</th><th scope=col>&lt;dbl&gt;</th><th scope=col>&lt;dbl&gt;</th><th scope=col>&lt;dbl&gt;</th><th scope=col>&lt;dbl&gt;</th><th scope=col>&lt;dbl&gt;</th><th scope=col>&lt;dbl&gt;</th><th scope=col>&lt;dbl&gt;</th><th scope=col>&lt;dbl&gt;</th><th scope=col>&lt;dbl&gt;</th><th scope=col>...</th><th scope=col>&lt;dbl&gt;</th><th scope=col>&lt;dbl&gt;</th><th scope=col>&lt;dbl&gt;</th><th scope=col>&lt;dbl&gt;</th><th scope=col>&lt;dbl&gt;</th><th scope=col>&lt;dbl&gt;</th><th scope=col>&lt;dbl&gt;</th><th scope=col>&lt;dbl&gt;</th><th scope=col>&lt;dbl&gt;</th><th scope=col>&lt;dbl&gt;</th></tr>\n",
       "</thead>\n",
       "<tbody>\n",
       "\t<tr><th scope=row>1</th><td>0</td><td>0</td><td>0</td><td>0</td><td>0</td><td>1</td><td>0</td><td>0</td><td>0</td><td>0</td><td>...</td><td>0</td><td>1</td><td>0</td><td>0</td><td>0</td><td>0</td><td>0</td><td>1</td><td>0</td><td>0</td></tr>\n",
       "\t<tr><th scope=row>2</th><td>0</td><td>0</td><td>0</td><td>0</td><td>0</td><td>0</td><td>0</td><td>0</td><td>0</td><td>0</td><td>...</td><td>0</td><td>0</td><td>1</td><td>0</td><td>0</td><td>0</td><td>0</td><td>0</td><td>1</td><td>0</td></tr>\n",
       "\t<tr><th scope=row>3</th><td>0</td><td>0</td><td>0</td><td>0</td><td>0</td><td>0</td><td>0</td><td>0</td><td>0</td><td>0</td><td>...</td><td>1</td><td>0</td><td>0</td><td>0</td><td>0</td><td>0</td><td>0</td><td>0</td><td>0</td><td>0</td></tr>\n",
       "\t<tr><th scope=row>4</th><td>0</td><td>0</td><td>0</td><td>0</td><td>1</td><td>0</td><td>0</td><td>1</td><td>0</td><td>0</td><td>...</td><td>0</td><td>1</td><td>0</td><td>0</td><td>0</td><td>0</td><td>0</td><td>1</td><td>0</td><td>1</td></tr>\n",
       "\t<tr><th scope=row>5</th><td>0</td><td>0</td><td>0</td><td>0</td><td>1</td><td>0</td><td>0</td><td>1</td><td>0</td><td>0</td><td>...</td><td>0</td><td>0</td><td>0</td><td>0</td><td>0</td><td>0</td><td>0</td><td>0</td><td>0</td><td>0</td></tr>\n",
       "\t<tr><th scope=row>6</th><td>0</td><td>0</td><td>1</td><td>0</td><td>0</td><td>0</td><td>0</td><td>0</td><td>0</td><td>0</td><td>...</td><td>0</td><td>0</td><td>0</td><td>0</td><td>0</td><td>0</td><td>0</td><td>0</td><td>0</td><td>0</td></tr>\n",
       "</tbody>\n",
       "</table>\n"
      ],
      "text/latex": [
       "A data.frame: 6 × 42\n",
       "\\begin{tabular}{r|lllllllllllllllllllll}\n",
       "  & reconstr\\_7up & reconstr\\_lasagna & reconstr\\_pepsi & reconstr\\_yop & reconstr\\_red.wine & reconstr\\_cheese & reconstr\\_bbq & reconstr\\_bulmers & reconstr\\_mayonnaise & reconstr\\_horlics & ... & reconstr\\_instant.coffee & reconstr\\_twix & reconstr\\_potatoes & reconstr\\_fosters & reconstr\\_soup & reconstr\\_toad.in.hole & reconstr\\_coco.pops & reconstr\\_kitkat & reconstr\\_broccoli & reconstr\\_cigarettes\\\\\n",
       "  & <dbl> & <dbl> & <dbl> & <dbl> & <dbl> & <dbl> & <dbl> & <dbl> & <dbl> & <dbl> & ... & <dbl> & <dbl> & <dbl> & <dbl> & <dbl> & <dbl> & <dbl> & <dbl> & <dbl> & <dbl>\\\\\n",
       "\\hline\n",
       "\t1 & 0 & 0 & 0 & 0 & 0 & 1 & 0 & 0 & 0 & 0 & ... & 0 & 1 & 0 & 0 & 0 & 0 & 0 & 1 & 0 & 0\\\\\n",
       "\t2 & 0 & 0 & 0 & 0 & 0 & 0 & 0 & 0 & 0 & 0 & ... & 0 & 0 & 1 & 0 & 0 & 0 & 0 & 0 & 1 & 0\\\\\n",
       "\t3 & 0 & 0 & 0 & 0 & 0 & 0 & 0 & 0 & 0 & 0 & ... & 1 & 0 & 0 & 0 & 0 & 0 & 0 & 0 & 0 & 0\\\\\n",
       "\t4 & 0 & 0 & 0 & 0 & 1 & 0 & 0 & 1 & 0 & 0 & ... & 0 & 1 & 0 & 0 & 0 & 0 & 0 & 1 & 0 & 1\\\\\n",
       "\t5 & 0 & 0 & 0 & 0 & 1 & 0 & 0 & 1 & 0 & 0 & ... & 0 & 0 & 0 & 0 & 0 & 0 & 0 & 0 & 0 & 0\\\\\n",
       "\t6 & 0 & 0 & 1 & 0 & 0 & 0 & 0 & 0 & 0 & 0 & ... & 0 & 0 & 0 & 0 & 0 & 0 & 0 & 0 & 0 & 0\\\\\n",
       "\\end{tabular}\n"
      ],
      "text/markdown": [
       "\n",
       "A data.frame: 6 × 42\n",
       "\n",
       "| <!--/--> | reconstr_7up &lt;dbl&gt; | reconstr_lasagna &lt;dbl&gt; | reconstr_pepsi &lt;dbl&gt; | reconstr_yop &lt;dbl&gt; | reconstr_red.wine &lt;dbl&gt; | reconstr_cheese &lt;dbl&gt; | reconstr_bbq &lt;dbl&gt; | reconstr_bulmers &lt;dbl&gt; | reconstr_mayonnaise &lt;dbl&gt; | reconstr_horlics &lt;dbl&gt; | ... ... | reconstr_instant.coffee &lt;dbl&gt; | reconstr_twix &lt;dbl&gt; | reconstr_potatoes &lt;dbl&gt; | reconstr_fosters &lt;dbl&gt; | reconstr_soup &lt;dbl&gt; | reconstr_toad.in.hole &lt;dbl&gt; | reconstr_coco.pops &lt;dbl&gt; | reconstr_kitkat &lt;dbl&gt; | reconstr_broccoli &lt;dbl&gt; | reconstr_cigarettes &lt;dbl&gt; |\n",
       "|---|---|---|---|---|---|---|---|---|---|---|---|---|---|---|---|---|---|---|---|---|---|\n",
       "| 1 | 0 | 0 | 0 | 0 | 0 | 1 | 0 | 0 | 0 | 0 | ... | 0 | 1 | 0 | 0 | 0 | 0 | 0 | 1 | 0 | 0 |\n",
       "| 2 | 0 | 0 | 0 | 0 | 0 | 0 | 0 | 0 | 0 | 0 | ... | 0 | 0 | 1 | 0 | 0 | 0 | 0 | 0 | 1 | 0 |\n",
       "| 3 | 0 | 0 | 0 | 0 | 0 | 0 | 0 | 0 | 0 | 0 | ... | 1 | 0 | 0 | 0 | 0 | 0 | 0 | 0 | 0 | 0 |\n",
       "| 4 | 0 | 0 | 0 | 0 | 1 | 0 | 0 | 1 | 0 | 0 | ... | 0 | 1 | 0 | 0 | 0 | 0 | 0 | 1 | 0 | 1 |\n",
       "| 5 | 0 | 0 | 0 | 0 | 1 | 0 | 0 | 1 | 0 | 0 | ... | 0 | 0 | 0 | 0 | 0 | 0 | 0 | 0 | 0 | 0 |\n",
       "| 6 | 0 | 0 | 1 | 0 | 0 | 0 | 0 | 0 | 0 | 0 | ... | 0 | 0 | 0 | 0 | 0 | 0 | 0 | 0 | 0 | 0 |\n",
       "\n"
      ],
      "text/plain": [
       "  reconstr_7up reconstr_lasagna reconstr_pepsi reconstr_yop reconstr_red.wine\n",
       "1 0            0                0              0            0                \n",
       "2 0            0                0              0            0                \n",
       "3 0            0                0              0            0                \n",
       "4 0            0                0              0            1                \n",
       "5 0            0                0              0            1                \n",
       "6 0            0                1              0            0                \n",
       "  reconstr_cheese reconstr_bbq reconstr_bulmers reconstr_mayonnaise\n",
       "1 1               0            0                0                  \n",
       "2 0               0            0                0                  \n",
       "3 0               0            0                0                  \n",
       "4 0               0            1                0                  \n",
       "5 0               0            1                0                  \n",
       "6 0               0            0                0                  \n",
       "  reconstr_horlics ... reconstr_instant.coffee reconstr_twix reconstr_potatoes\n",
       "1 0                ... 0                       1             0                \n",
       "2 0                ... 0                       0             1                \n",
       "3 0                ... 1                       0             0                \n",
       "4 0                ... 0                       1             0                \n",
       "5 0                ... 0                       0             0                \n",
       "6 0                ... 0                       0             0                \n",
       "  reconstr_fosters reconstr_soup reconstr_toad.in.hole reconstr_coco.pops\n",
       "1 0                0             0                     0                 \n",
       "2 0                0             0                     0                 \n",
       "3 0                0             0                     0                 \n",
       "4 0                0             0                     0                 \n",
       "5 0                0             0                     0                 \n",
       "6 0                0             0                     0                 \n",
       "  reconstr_kitkat reconstr_broccoli reconstr_cigarettes\n",
       "1 1               0                 0                  \n",
       "2 0               1                 0                  \n",
       "3 0               0                 0                  \n",
       "4 1               0                 1                  \n",
       "5 0               0                 0                  \n",
       "6 0               0                 0                  "
      ]
     },
     "metadata": {},
     "output_type": "display_data"
    }
   ],
   "source": [
    "my_reconstruction %>% round %>% head"
   ]
  },
  {
   "cell_type": "markdown",
   "id": "26823317",
   "metadata": {},
   "source": [
    "### 미래의 데이터에 대한 최적화 튜닝\n",
    "- GLRM을 사용하여 향후 관찰에 점수를 매길 때 최종 모델을 결정하는 데 선호되는 접근 방식은 검증 프로세스를 수행하여 최적으로 조정된 모델을 선택하는 것\n",
    "- **최종 모델이 미래의 데이터에 적용할 때 정규화를 사용하면 과적합을 줄이고 모델을 더 잘 일반화하는 데 도움**"
   ]
  },
  {
   "cell_type": "markdown",
   "id": "e52ce812",
   "metadata": {},
   "source": [
    "정규화 모델 생성"
   ]
  },
  {
   "cell_type": "code",
   "execution_count": 45,
   "id": "6ba2602c",
   "metadata": {},
   "outputs": [],
   "source": [
    "k8_glrm_regularized <- h2o.glrm(\n",
    "  training_frame = my_basket.h2o,\n",
    "  k = 8, \n",
    "  loss = \"Quadratic\",\n",
    "  regularization_x = \"NonNegative\", \n",
    "  regularization_y = \"NonNegative\",\n",
    "  gamma_x = 0.5,\n",
    "  gamma_y = 0.5,\n",
    "  transform = \"STANDARDIZE\", \n",
    "  max_iterations = 2000,\n",
    "  seed = 123\n",
    ")"
   ]
  },
  {
   "cell_type": "code",
   "execution_count": 46,
   "id": "e31ff632",
   "metadata": {},
   "outputs": [
    {
     "data": {
      "text/html": [
       "<table class=\"dataframe\">\n",
       "<caption>A data.frame: 6 × 42</caption>\n",
       "<thead>\n",
       "\t<tr><th></th><th scope=col>reconstr_7up</th><th scope=col>reconstr_lasagna</th><th scope=col>reconstr_pepsi</th><th scope=col>reconstr_yop</th><th scope=col>reconstr_red.wine</th><th scope=col>reconstr_cheese</th><th scope=col>reconstr_bbq</th><th scope=col>reconstr_bulmers</th><th scope=col>reconstr_mayonnaise</th><th scope=col>reconstr_horlics</th><th scope=col>...</th><th scope=col>reconstr_instant.coffee</th><th scope=col>reconstr_twix</th><th scope=col>reconstr_potatoes</th><th scope=col>reconstr_fosters</th><th scope=col>reconstr_soup</th><th scope=col>reconstr_toad.in.hole</th><th scope=col>reconstr_coco.pops</th><th scope=col>reconstr_kitkat</th><th scope=col>reconstr_broccoli</th><th scope=col>reconstr_cigarettes</th></tr>\n",
       "\t<tr><th></th><th scope=col>&lt;dbl&gt;</th><th scope=col>&lt;dbl&gt;</th><th scope=col>&lt;dbl&gt;</th><th scope=col>&lt;dbl&gt;</th><th scope=col>&lt;dbl&gt;</th><th scope=col>&lt;dbl&gt;</th><th scope=col>&lt;dbl&gt;</th><th scope=col>&lt;dbl&gt;</th><th scope=col>&lt;dbl&gt;</th><th scope=col>&lt;dbl&gt;</th><th scope=col>...</th><th scope=col>&lt;dbl&gt;</th><th scope=col>&lt;dbl&gt;</th><th scope=col>&lt;dbl&gt;</th><th scope=col>&lt;dbl&gt;</th><th scope=col>&lt;dbl&gt;</th><th scope=col>&lt;dbl&gt;</th><th scope=col>&lt;dbl&gt;</th><th scope=col>&lt;dbl&gt;</th><th scope=col>&lt;dbl&gt;</th><th scope=col>&lt;dbl&gt;</th></tr>\n",
       "</thead>\n",
       "<tbody>\n",
       "\t<tr><th scope=row>1</th><td>0.0000000</td><td>0</td><td>0.0000000</td><td>0.0000000</td><td>0.0000000</td><td>0.7305819</td><td>0</td><td>0.0000000</td><td>0.7039545</td><td>0.0000000</td><td>...</td><td>0.0000000</td><td>1.183933</td><td>0.000000</td><td>0.0000000</td><td>0</td><td>0</td><td>0.0000000</td><td>0.946048</td><td>0.000000</td><td>0.8713888</td></tr>\n",
       "\t<tr><th scope=row>2</th><td>0.0000000</td><td>0</td><td>0.0000000</td><td>0.0000000</td><td>0.0000000</td><td>0.0000000</td><td>0</td><td>0.0000000</td><td>0.0000000</td><td>0.4368386</td><td>...</td><td>0.6582171</td><td>0.000000</td><td>1.289529</td><td>0.0000000</td><td>0</td><td>0</td><td>0.5065563</td><td>0.000000</td><td>1.441665</td><td>0.0000000</td></tr>\n",
       "\t<tr><th scope=row>3</th><td>0.0000000</td><td>0</td><td>0.0000000</td><td>0.0000000</td><td>0.0000000</td><td>0.0000000</td><td>0</td><td>0.0000000</td><td>0.0000000</td><td>1.0311949</td><td>...</td><td>1.5537779</td><td>0.000000</td><td>0.000000</td><td>0.0000000</td><td>0</td><td>0</td><td>1.1957694</td><td>0.000000</td><td>0.000000</td><td>0.0000000</td></tr>\n",
       "\t<tr><th scope=row>4</th><td>0.6096557</td><td>0</td><td>0.6311423</td><td>0.4565652</td><td>0.6697341</td><td>0.0000000</td><td>0</td><td>0.6892642</td><td>0.0000000</td><td>0.0000000</td><td>...</td><td>0.0000000</td><td>1.378748</td><td>0.000000</td><td>0.6714834</td><td>0</td><td>0</td><td>0.0000000</td><td>1.101719</td><td>0.000000</td><td>1.0147751</td></tr>\n",
       "\t<tr><th scope=row>5</th><td>0.0000000</td><td>0</td><td>0.0000000</td><td>0.0000000</td><td>0.8257145</td><td>0.0000000</td><td>0</td><td>0.8497932</td><td>0.0000000</td><td>0.0000000</td><td>...</td><td>0.0000000</td><td>0.000000</td><td>0.000000</td><td>0.8278713</td><td>0</td><td>0</td><td>0.0000000</td><td>0.000000</td><td>0.000000</td><td>0.0000000</td></tr>\n",
       "\t<tr><th scope=row>6</th><td>0.7549035</td><td>0</td><td>0.7815091</td><td>0.5653399</td><td>0.0000000</td><td>0.0000000</td><td>0</td><td>0.0000000</td><td>0.0000000</td><td>0.0000000</td><td>...</td><td>0.0000000</td><td>0.000000</td><td>0.000000</td><td>0.0000000</td><td>0</td><td>0</td><td>0.0000000</td><td>0.000000</td><td>0.000000</td><td>0.0000000</td></tr>\n",
       "</tbody>\n",
       "</table>\n"
      ],
      "text/latex": [
       "A data.frame: 6 × 42\n",
       "\\begin{tabular}{r|lllllllllllllllllllll}\n",
       "  & reconstr\\_7up & reconstr\\_lasagna & reconstr\\_pepsi & reconstr\\_yop & reconstr\\_red.wine & reconstr\\_cheese & reconstr\\_bbq & reconstr\\_bulmers & reconstr\\_mayonnaise & reconstr\\_horlics & ... & reconstr\\_instant.coffee & reconstr\\_twix & reconstr\\_potatoes & reconstr\\_fosters & reconstr\\_soup & reconstr\\_toad.in.hole & reconstr\\_coco.pops & reconstr\\_kitkat & reconstr\\_broccoli & reconstr\\_cigarettes\\\\\n",
       "  & <dbl> & <dbl> & <dbl> & <dbl> & <dbl> & <dbl> & <dbl> & <dbl> & <dbl> & <dbl> & ... & <dbl> & <dbl> & <dbl> & <dbl> & <dbl> & <dbl> & <dbl> & <dbl> & <dbl> & <dbl>\\\\\n",
       "\\hline\n",
       "\t1 & 0.0000000 & 0 & 0.0000000 & 0.0000000 & 0.0000000 & 0.7305819 & 0 & 0.0000000 & 0.7039545 & 0.0000000 & ... & 0.0000000 & 1.183933 & 0.000000 & 0.0000000 & 0 & 0 & 0.0000000 & 0.946048 & 0.000000 & 0.8713888\\\\\n",
       "\t2 & 0.0000000 & 0 & 0.0000000 & 0.0000000 & 0.0000000 & 0.0000000 & 0 & 0.0000000 & 0.0000000 & 0.4368386 & ... & 0.6582171 & 0.000000 & 1.289529 & 0.0000000 & 0 & 0 & 0.5065563 & 0.000000 & 1.441665 & 0.0000000\\\\\n",
       "\t3 & 0.0000000 & 0 & 0.0000000 & 0.0000000 & 0.0000000 & 0.0000000 & 0 & 0.0000000 & 0.0000000 & 1.0311949 & ... & 1.5537779 & 0.000000 & 0.000000 & 0.0000000 & 0 & 0 & 1.1957694 & 0.000000 & 0.000000 & 0.0000000\\\\\n",
       "\t4 & 0.6096557 & 0 & 0.6311423 & 0.4565652 & 0.6697341 & 0.0000000 & 0 & 0.6892642 & 0.0000000 & 0.0000000 & ... & 0.0000000 & 1.378748 & 0.000000 & 0.6714834 & 0 & 0 & 0.0000000 & 1.101719 & 0.000000 & 1.0147751\\\\\n",
       "\t5 & 0.0000000 & 0 & 0.0000000 & 0.0000000 & 0.8257145 & 0.0000000 & 0 & 0.8497932 & 0.0000000 & 0.0000000 & ... & 0.0000000 & 0.000000 & 0.000000 & 0.8278713 & 0 & 0 & 0.0000000 & 0.000000 & 0.000000 & 0.0000000\\\\\n",
       "\t6 & 0.7549035 & 0 & 0.7815091 & 0.5653399 & 0.0000000 & 0.0000000 & 0 & 0.0000000 & 0.0000000 & 0.0000000 & ... & 0.0000000 & 0.000000 & 0.000000 & 0.0000000 & 0 & 0 & 0.0000000 & 0.000000 & 0.000000 & 0.0000000\\\\\n",
       "\\end{tabular}\n"
      ],
      "text/markdown": [
       "\n",
       "A data.frame: 6 × 42\n",
       "\n",
       "| <!--/--> | reconstr_7up &lt;dbl&gt; | reconstr_lasagna &lt;dbl&gt; | reconstr_pepsi &lt;dbl&gt; | reconstr_yop &lt;dbl&gt; | reconstr_red.wine &lt;dbl&gt; | reconstr_cheese &lt;dbl&gt; | reconstr_bbq &lt;dbl&gt; | reconstr_bulmers &lt;dbl&gt; | reconstr_mayonnaise &lt;dbl&gt; | reconstr_horlics &lt;dbl&gt; | ... ... | reconstr_instant.coffee &lt;dbl&gt; | reconstr_twix &lt;dbl&gt; | reconstr_potatoes &lt;dbl&gt; | reconstr_fosters &lt;dbl&gt; | reconstr_soup &lt;dbl&gt; | reconstr_toad.in.hole &lt;dbl&gt; | reconstr_coco.pops &lt;dbl&gt; | reconstr_kitkat &lt;dbl&gt; | reconstr_broccoli &lt;dbl&gt; | reconstr_cigarettes &lt;dbl&gt; |\n",
       "|---|---|---|---|---|---|---|---|---|---|---|---|---|---|---|---|---|---|---|---|---|---|\n",
       "| 1 | 0.0000000 | 0 | 0.0000000 | 0.0000000 | 0.0000000 | 0.7305819 | 0 | 0.0000000 | 0.7039545 | 0.0000000 | ... | 0.0000000 | 1.183933 | 0.000000 | 0.0000000 | 0 | 0 | 0.0000000 | 0.946048 | 0.000000 | 0.8713888 |\n",
       "| 2 | 0.0000000 | 0 | 0.0000000 | 0.0000000 | 0.0000000 | 0.0000000 | 0 | 0.0000000 | 0.0000000 | 0.4368386 | ... | 0.6582171 | 0.000000 | 1.289529 | 0.0000000 | 0 | 0 | 0.5065563 | 0.000000 | 1.441665 | 0.0000000 |\n",
       "| 3 | 0.0000000 | 0 | 0.0000000 | 0.0000000 | 0.0000000 | 0.0000000 | 0 | 0.0000000 | 0.0000000 | 1.0311949 | ... | 1.5537779 | 0.000000 | 0.000000 | 0.0000000 | 0 | 0 | 1.1957694 | 0.000000 | 0.000000 | 0.0000000 |\n",
       "| 4 | 0.6096557 | 0 | 0.6311423 | 0.4565652 | 0.6697341 | 0.0000000 | 0 | 0.6892642 | 0.0000000 | 0.0000000 | ... | 0.0000000 | 1.378748 | 0.000000 | 0.6714834 | 0 | 0 | 0.0000000 | 1.101719 | 0.000000 | 1.0147751 |\n",
       "| 5 | 0.0000000 | 0 | 0.0000000 | 0.0000000 | 0.8257145 | 0.0000000 | 0 | 0.8497932 | 0.0000000 | 0.0000000 | ... | 0.0000000 | 0.000000 | 0.000000 | 0.8278713 | 0 | 0 | 0.0000000 | 0.000000 | 0.000000 | 0.0000000 |\n",
       "| 6 | 0.7549035 | 0 | 0.7815091 | 0.5653399 | 0.0000000 | 0.0000000 | 0 | 0.0000000 | 0.0000000 | 0.0000000 | ... | 0.0000000 | 0.000000 | 0.000000 | 0.0000000 | 0 | 0 | 0.0000000 | 0.000000 | 0.000000 | 0.0000000 |\n",
       "\n"
      ],
      "text/plain": [
       "  reconstr_7up reconstr_lasagna reconstr_pepsi reconstr_yop reconstr_red.wine\n",
       "1 0.0000000    0                0.0000000      0.0000000    0.0000000        \n",
       "2 0.0000000    0                0.0000000      0.0000000    0.0000000        \n",
       "3 0.0000000    0                0.0000000      0.0000000    0.0000000        \n",
       "4 0.6096557    0                0.6311423      0.4565652    0.6697341        \n",
       "5 0.0000000    0                0.0000000      0.0000000    0.8257145        \n",
       "6 0.7549035    0                0.7815091      0.5653399    0.0000000        \n",
       "  reconstr_cheese reconstr_bbq reconstr_bulmers reconstr_mayonnaise\n",
       "1 0.7305819       0            0.0000000        0.7039545          \n",
       "2 0.0000000       0            0.0000000        0.0000000          \n",
       "3 0.0000000       0            0.0000000        0.0000000          \n",
       "4 0.0000000       0            0.6892642        0.0000000          \n",
       "5 0.0000000       0            0.8497932        0.0000000          \n",
       "6 0.0000000       0            0.0000000        0.0000000          \n",
       "  reconstr_horlics ... reconstr_instant.coffee reconstr_twix reconstr_potatoes\n",
       "1 0.0000000        ... 0.0000000               1.183933      0.000000         \n",
       "2 0.4368386        ... 0.6582171               0.000000      1.289529         \n",
       "3 1.0311949        ... 1.5537779               0.000000      0.000000         \n",
       "4 0.0000000        ... 0.0000000               1.378748      0.000000         \n",
       "5 0.0000000        ... 0.0000000               0.000000      0.000000         \n",
       "6 0.0000000        ... 0.0000000               0.000000      0.000000         \n",
       "  reconstr_fosters reconstr_soup reconstr_toad.in.hole reconstr_coco.pops\n",
       "1 0.0000000        0             0                     0.0000000         \n",
       "2 0.0000000        0             0                     0.5065563         \n",
       "3 0.0000000        0             0                     1.1957694         \n",
       "4 0.6714834        0             0                     0.0000000         \n",
       "5 0.8278713        0             0                     0.0000000         \n",
       "6 0.0000000        0             0                     0.0000000         \n",
       "  reconstr_kitkat reconstr_broccoli reconstr_cigarettes\n",
       "1 0.946048        0.000000          0.8713888          \n",
       "2 0.000000        1.441665          0.0000000          \n",
       "3 0.000000        0.000000          0.0000000          \n",
       "4 1.101719        0.000000          1.0147751          \n",
       "5 0.000000        0.000000          0.0000000          \n",
       "6 0.000000        0.000000          0.0000000          "
      ]
     },
     "metadata": {},
     "output_type": "display_data"
    }
   ],
   "source": [
    "predict(k8_glrm_regularized, my_basket.h2o) %>% head"
   ]
  },
  {
   "cell_type": "code",
   "execution_count": 48,
   "id": "55c60086",
   "metadata": {},
   "outputs": [
    {
     "data": {
      "image/png": "[encoded data removed]",
      "text/plain": [
       "Plot with title \"Objective Function Value per Iteration\""
      ]
     },
     "metadata": {
      "image/png": {
       "height": 420,
       "width": 420
      }
     },
     "output_type": "display_data"
    }
   ],
   "source": [
    "par(mfrow = c(1, 2))\n",
    "plot(k8_glrm) ; plot(k8_glrm_regularized)"
   ]
  },
  {
   "cell_type": "markdown",
   "id": "6419a8a1",
   "metadata": {},
   "source": [
    "### 그리드서치"
   ]
  },
  {
   "cell_type": "code",
   "execution_count": 49,
   "id": "6d34c39c",
   "metadata": {},
   "outputs": [],
   "source": [
    "split <- h2o.splitFrame(my_basket.h2o, ratios = 0.75, seed = 123)\n",
    "train <- split[[1]]\n",
    "valid <- split[[2]]"
   ]
  },
  {
   "cell_type": "code",
   "execution_count": 52,
   "id": "11a93374",
   "metadata": {},
   "outputs": [
    {
     "data": {
      "text/html": [
       "<table class=\"dataframe\">\n",
       "<caption>A data.frame: 6 × 5</caption>\n",
       "<thead>\n",
       "\t<tr><th></th><th scope=col>regularization_x</th><th scope=col>regularization_y</th><th scope=col>gamma_x</th><th scope=col>gamma_y</th><th scope=col>error</th></tr>\n",
       "\t<tr><th></th><th scope=col>&lt;chr&gt;</th><th scope=col>&lt;chr&gt;</th><th scope=col>&lt;dbl&gt;</th><th scope=col>&lt;dbl&gt;</th><th scope=col>&lt;dbl&gt;</th></tr>\n",
       "</thead>\n",
       "<tbody>\n",
       "\t<tr><th scope=row>1</th><td>None       </td><td>None       </td><td>0</td><td>0</td><td>0</td></tr>\n",
       "\t<tr><th scope=row>2</th><td>NonNegative</td><td>None       </td><td>0</td><td>0</td><td>0</td></tr>\n",
       "\t<tr><th scope=row>3</th><td>L1         </td><td>None       </td><td>0</td><td>0</td><td>0</td></tr>\n",
       "\t<tr><th scope=row>4</th><td>None       </td><td>NonNegative</td><td>0</td><td>0</td><td>0</td></tr>\n",
       "\t<tr><th scope=row>5</th><td>NonNegative</td><td>NonNegative</td><td>0</td><td>0</td><td>0</td></tr>\n",
       "\t<tr><th scope=row>6</th><td>L1         </td><td>NonNegative</td><td>0</td><td>0</td><td>0</td></tr>\n",
       "</tbody>\n",
       "</table>\n"
      ],
      "text/latex": [
       "A data.frame: 6 × 5\n",
       "\\begin{tabular}{r|lllll}\n",
       "  & regularization\\_x & regularization\\_y & gamma\\_x & gamma\\_y & error\\\\\n",
       "  & <chr> & <chr> & <dbl> & <dbl> & <dbl>\\\\\n",
       "\\hline\n",
       "\t1 & None        & None        & 0 & 0 & 0\\\\\n",
       "\t2 & NonNegative & None        & 0 & 0 & 0\\\\\n",
       "\t3 & L1          & None        & 0 & 0 & 0\\\\\n",
       "\t4 & None        & NonNegative & 0 & 0 & 0\\\\\n",
       "\t5 & NonNegative & NonNegative & 0 & 0 & 0\\\\\n",
       "\t6 & L1          & NonNegative & 0 & 0 & 0\\\\\n",
       "\\end{tabular}\n"
      ],
      "text/markdown": [
       "\n",
       "A data.frame: 6 × 5\n",
       "\n",
       "| <!--/--> | regularization_x &lt;chr&gt; | regularization_y &lt;chr&gt; | gamma_x &lt;dbl&gt; | gamma_y &lt;dbl&gt; | error &lt;dbl&gt; |\n",
       "|---|---|---|---|---|---|\n",
       "| 1 | None        | None        | 0 | 0 | 0 |\n",
       "| 2 | NonNegative | None        | 0 | 0 | 0 |\n",
       "| 3 | L1          | None        | 0 | 0 | 0 |\n",
       "| 4 | None        | NonNegative | 0 | 0 | 0 |\n",
       "| 5 | NonNegative | NonNegative | 0 | 0 | 0 |\n",
       "| 6 | L1          | NonNegative | 0 | 0 | 0 |\n",
       "\n"
      ],
      "text/plain": [
       "  regularization_x regularization_y gamma_x gamma_y error\n",
       "1 None             None             0       0       0    \n",
       "2 NonNegative      None             0       0       0    \n",
       "3 L1               None             0       0       0    \n",
       "4 None             NonNegative      0       0       0    \n",
       "5 NonNegative      NonNegative      0       0       0    \n",
       "6 L1               NonNegative      0       0       0    "
      ]
     },
     "metadata": {},
     "output_type": "display_data"
    },
    {
     "data": {
      "text/html": [
       "<style>\n",
       ".list-inline {list-style: none; margin:0; padding: 0}\n",
       ".list-inline>li {display: inline-block}\n",
       ".list-inline>li:not(:last-child)::after {content: \"\\00b7\"; padding: 0 .5ex}\n",
       "</style>\n",
       "<ol class=list-inline><li>225</li><li>5</li></ol>\n"
      ],
      "text/latex": [
       "\\begin{enumerate*}\n",
       "\\item 225\n",
       "\\item 5\n",
       "\\end{enumerate*}\n"
      ],
      "text/markdown": [
       "1. 225\n",
       "2. 5\n",
       "\n",
       "\n"
      ],
      "text/plain": [
       "[1] 225   5"
      ]
     },
     "metadata": {},
     "output_type": "display_data"
    }
   ],
   "source": [
    "params <- expand.grid(\n",
    "  regularization_x = c(\"None\", \"NonNegative\", \"L1\"),\n",
    "  regularization_y = c(\"None\", \"NonNegative\", \"L1\"),\n",
    "  gamma_x = seq(0, 1, by = .25),\n",
    "  gamma_y = seq(0, 1, by = .25),\n",
    "  error = 0,\n",
    "  stringsAsFactors = FALSE\n",
    "  )\n",
    "head(params) ; dim(params)"
   ]
  },
  {
   "cell_type": "code",
   "execution_count": 53,
   "id": "0b4ab732",
   "metadata": {},
   "outputs": [],
   "source": [
    "for(i in seq_len(nrow(params))) {\n",
    "  \n",
    "  glrm_model <- h2o.glrm(\n",
    "    training_frame = train,\n",
    "    k = 8, \n",
    "    loss = \"Quadratic\",\n",
    "    regularization_x = params$regularization_x[i], \n",
    "    regularization_y = params$regularization_y[i],\n",
    "    gamma_x = params$gamma_x[i],\n",
    "    gamma_y = params$gamma_y[i],\n",
    "    transform = \"STANDARDIZE\", \n",
    "    max_runtime_secs = 1000,\n",
    "    seed = 123\n",
    "  )\n",
    "  \n",
    "  validate <- h2o.performance(glrm_model, valid)\n",
    "  params$error[i] <- validate@metrics$numerr\n",
    "}"
   ]
  },
  {
   "cell_type": "code",
   "execution_count": 55,
   "id": "0d9beb28",
   "metadata": {},
   "outputs": [
    {
     "data": {
      "text/html": [
       "<table class=\"dataframe\">\n",
       "<caption>A data.frame: 6 × 5</caption>\n",
       "<thead>\n",
       "\t<tr><th></th><th scope=col>regularization_x</th><th scope=col>regularization_y</th><th scope=col>gamma_x</th><th scope=col>gamma_y</th><th scope=col>error</th></tr>\n",
       "\t<tr><th></th><th scope=col>&lt;chr&gt;</th><th scope=col>&lt;chr&gt;</th><th scope=col>&lt;dbl&gt;</th><th scope=col>&lt;dbl&gt;</th><th scope=col>&lt;dbl&gt;</th></tr>\n",
       "</thead>\n",
       "<tbody>\n",
       "\t<tr><th scope=row>1</th><td>None</td><td>None</td><td>0.00</td><td>0</td><td>13779.36</td></tr>\n",
       "\t<tr><th scope=row>2</th><td>L1  </td><td>None</td><td>0.00</td><td>0</td><td>13779.36</td></tr>\n",
       "\t<tr><th scope=row>3</th><td>None</td><td>L1  </td><td>0.00</td><td>0</td><td>13779.36</td></tr>\n",
       "\t<tr><th scope=row>4</th><td>L1  </td><td>L1  </td><td>0.00</td><td>0</td><td>13779.36</td></tr>\n",
       "\t<tr><th scope=row>5</th><td>None</td><td>None</td><td>0.25</td><td>0</td><td>13779.36</td></tr>\n",
       "\t<tr><th scope=row>6</th><td>None</td><td>L1  </td><td>0.25</td><td>0</td><td>13779.36</td></tr>\n",
       "</tbody>\n",
       "</table>\n"
      ],
      "text/latex": [
       "A data.frame: 6 × 5\n",
       "\\begin{tabular}{r|lllll}\n",
       "  & regularization\\_x & regularization\\_y & gamma\\_x & gamma\\_y & error\\\\\n",
       "  & <chr> & <chr> & <dbl> & <dbl> & <dbl>\\\\\n",
       "\\hline\n",
       "\t1 & None & None & 0.00 & 0 & 13779.36\\\\\n",
       "\t2 & L1   & None & 0.00 & 0 & 13779.36\\\\\n",
       "\t3 & None & L1   & 0.00 & 0 & 13779.36\\\\\n",
       "\t4 & L1   & L1   & 0.00 & 0 & 13779.36\\\\\n",
       "\t5 & None & None & 0.25 & 0 & 13779.36\\\\\n",
       "\t6 & None & L1   & 0.25 & 0 & 13779.36\\\\\n",
       "\\end{tabular}\n"
      ],
      "text/markdown": [
       "\n",
       "A data.frame: 6 × 5\n",
       "\n",
       "| <!--/--> | regularization_x &lt;chr&gt; | regularization_y &lt;chr&gt; | gamma_x &lt;dbl&gt; | gamma_y &lt;dbl&gt; | error &lt;dbl&gt; |\n",
       "|---|---|---|---|---|---|\n",
       "| 1 | None | None | 0.00 | 0 | 13779.36 |\n",
       "| 2 | L1   | None | 0.00 | 0 | 13779.36 |\n",
       "| 3 | None | L1   | 0.00 | 0 | 13779.36 |\n",
       "| 4 | L1   | L1   | 0.00 | 0 | 13779.36 |\n",
       "| 5 | None | None | 0.25 | 0 | 13779.36 |\n",
       "| 6 | None | L1   | 0.25 | 0 | 13779.36 |\n",
       "\n"
      ],
      "text/plain": [
       "  regularization_x regularization_y gamma_x gamma_y error   \n",
       "1 None             None             0.00    0       13779.36\n",
       "2 L1               None             0.00    0       13779.36\n",
       "3 None             L1               0.00    0       13779.36\n",
       "4 L1               L1               0.00    0       13779.36\n",
       "5 None             None             0.25    0       13779.36\n",
       "6 None             L1               0.25    0       13779.36"
      ]
     },
     "metadata": {},
     "output_type": "display_data"
    }
   ],
   "source": [
    "params %>% arrange(error) %>% head"
   ]
  },
  {
   "cell_type": "markdown",
   "id": "a51f158b",
   "metadata": {},
   "source": [
    "#### 최적의 초매개변수를 적용"
   ]
  },
  {
   "cell_type": "code",
   "execution_count": 56,
   "id": "de3971e0",
   "metadata": {},
   "outputs": [],
   "source": [
    "final_glrm_model <- h2o.glrm(\n",
    "  training_frame = my_basket.h2o,\n",
    "  k = 8, \n",
    "  loss = \"Quadratic\",\n",
    "  regularization_x = \"L1\", \n",
    "  regularization_y = \"NonNegative\",\n",
    "  gamma_x = 1,\n",
    "  gamma_y = 0.25,\n",
    "  transform = \"STANDARDIZE\", \n",
    "  max_iterations = 2000,\n",
    "  seed = 123\n",
    ")"
   ]
  },
  {
   "cell_type": "code",
   "execution_count": 57,
   "id": "041a9b30",
   "metadata": {},
   "outputs": [],
   "source": [
    "new_observations <- as.h2o(sample_n(my_basket, 2))"
   ]
  },
  {
   "cell_type": "code",
   "execution_count": 58,
   "id": "2dc9ed41",
   "metadata": {},
   "outputs": [
    {
     "data": {
      "text/plain": [
       "  reconstr_7up reconstr_lasagna reconstr_pepsi reconstr_yop reconstr_red.wine\n",
       "1            0                0              0            0                 0\n",
       "2            0                0              0            0                 0\n",
       "  reconstr_cheese reconstr_bbq reconstr_bulmers reconstr_mayonnaise\n",
       "1               0            0                0                   0\n",
       "2               0            0                0                   0\n",
       "  reconstr_horlics reconstr_chicken.tikka reconstr_milk reconstr_mars\n",
       "1                0                      0             0             0\n",
       "2                0                      0             0             0\n",
       "  reconstr_coke reconstr_lottery reconstr_bread reconstr_pizza\n",
       "1             0                0              0              0\n",
       "2             0                0              0              0\n",
       "  reconstr_sunny.delight reconstr_ham reconstr_lettuce reconstr_kronenbourg\n",
       "1                      0            0                0                    0\n",
       "2                      0            0                0                    0\n",
       "  reconstr_leeks reconstr_fanta reconstr_tea reconstr_whiskey reconstr_peas\n",
       "1              0              0            0                0             0\n",
       "2              0              0            0                0             0\n",
       "  reconstr_newspaper reconstr_muesli reconstr_white.wine reconstr_carrots\n",
       "1                  0               0                   0                0\n",
       "2                  0               0                   0                0\n",
       "  reconstr_spinach reconstr_pate reconstr_instant.coffee reconstr_twix\n",
       "1                0             0                       0             0\n",
       "2                0             0                       0             0\n",
       "  reconstr_potatoes reconstr_fosters reconstr_soup reconstr_toad.in.hole\n",
       "1                 0                0             0                     0\n",
       "2                 0                0             0                     0\n",
       "  reconstr_coco.pops reconstr_kitkat reconstr_broccoli reconstr_cigarettes\n",
       "1                  0               0                 0                   0\n",
       "2                  0               0                 0                   0\n",
       "\n",
       "[2 rows x 42 columns] "
      ]
     },
     "metadata": {},
     "output_type": "display_data"
    }
   ],
   "source": [
    "predict(final_glrm_model, new_observations) %>% round"
   ]
  },
  {
   "cell_type": "code",
   "execution_count": 59,
   "id": "09de6ef2",
   "metadata": {},
   "outputs": [],
   "source": [
    "h2o.shutdown(prompt = FALSE)"
   ]
  }
 ],
 "metadata": {
  "kernelspec": {
   "display_name": "R 4.1.3",
   "language": "R",
   "name": "ir32"
  },
  "language_info": {
   "codemirror_mode": "r",
   "file_extension": ".r",
   "mimetype": "text/x-r-source",
   "name": "R",
   "pygments_lexer": "r",
   "version": "4.1.3"
  }
 },
 "nbformat": 4,
 "nbformat_minor": 5
}
