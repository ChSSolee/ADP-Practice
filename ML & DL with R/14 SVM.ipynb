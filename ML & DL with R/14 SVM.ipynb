{
 "cells": [
  {
   "cell_type": "code",
   "execution_count": 14,
   "id": "874a8631",
   "metadata": {},
   "outputs": [],
   "source": [
    "library(tidyverse)\n",
    "\n",
    "library(rsample)\n",
    "library(caret)\n",
    "library(kernlab)\n",
    "library(svmpath)\n",
    "\n",
    "library(pdp)\n",
    "library(vip)"
   ]
  },
  {
   "cell_type": "code",
   "execution_count": 5,
   "id": "04a8b4b3",
   "metadata": {},
   "outputs": [
    {
     "data": {
      "text/html": [
       "<style>\n",
       ".list-inline {list-style: none; margin:0; padding: 0}\n",
       ".list-inline>li {display: inline-block}\n",
       ".list-inline>li:not(:last-child)::after {content: \"\\00b7\"; padding: 0 .5ex}\n",
       "</style>\n",
       "<ol class=list-inline><li>9</li><li>22</li><li>27</li></ol>\n"
      ],
      "text/latex": [
       "\\begin{enumerate*}\n",
       "\\item 9\n",
       "\\item 22\n",
       "\\item 27\n",
       "\\end{enumerate*}\n"
      ],
      "text/markdown": [
       "1. 9\n",
       "2. 22\n",
       "3. 27\n",
       "\n",
       "\n"
      ],
      "text/plain": [
       "[1]  9 22 27"
      ]
     },
     "metadata": {},
     "output_type": "display_data"
    }
   ],
   "source": [
    "attrition <- read.csv(\"C:/Users/apf_temp_admin/Documents/Hands on Machine Learning/WA_Fn-UseC_-HR-Employee-Attrition.csv\",\n",
    "                     stringsAsFactors = T)\n",
    "colnames(attrition)[1] <- \"Age\"\n",
    "cats = vector()\n",
    "for (i in 1:length(attrition)) {\n",
    "    cats[i] = n_distinct(attrition[i])\n",
    "}\n",
    "which(cats == 1)\n",
    "df <- attrition[,-which(cats == 1)]"
   ]
  },
  {
   "cell_type": "code",
   "execution_count": 8,
   "id": "2edee600",
   "metadata": {
    "scrolled": true
   },
   "outputs": [
    {
     "data": {
      "text/html": [
       "<style>\n",
       ".list-inline {list-style: none; margin:0; padding: 0}\n",
       ".list-inline>li {display: inline-block}\n",
       ".list-inline>li:not(:last-child)::after {content: \"\\00b7\"; padding: 0 .5ex}\n",
       "</style>\n",
       "<ol class=list-inline><li>1470</li><li>35</li></ol>\n"
      ],
      "text/latex": [
       "\\begin{enumerate*}\n",
       "\\item 1470\n",
       "\\item 35\n",
       "\\end{enumerate*}\n"
      ],
      "text/markdown": [
       "1. 1470\n",
       "2. 35\n",
       "\n",
       "\n"
      ],
      "text/plain": [
       "[1] 1470   35"
      ]
     },
     "metadata": {},
     "output_type": "display_data"
    },
    {
     "data": {
      "text/html": [
       "<style>\n",
       ".list-inline {list-style: none; margin:0; padding: 0}\n",
       ".list-inline>li {display: inline-block}\n",
       ".list-inline>li:not(:last-child)::after {content: \"\\00b7\"; padding: 0 .5ex}\n",
       "</style>\n",
       "<ol class=list-inline><li>1470</li><li>32</li></ol>\n"
      ],
      "text/latex": [
       "\\begin{enumerate*}\n",
       "\\item 1470\n",
       "\\item 32\n",
       "\\end{enumerate*}\n"
      ],
      "text/markdown": [
       "1. 1470\n",
       "2. 32\n",
       "\n",
       "\n"
      ],
      "text/plain": [
       "[1] 1470   32"
      ]
     },
     "metadata": {},
     "output_type": "display_data"
    }
   ],
   "source": [
    "dim(attrition)\n",
    "dim(df)"
   ]
  },
  {
   "cell_type": "code",
   "execution_count": 9,
   "id": "507b0f88",
   "metadata": {},
   "outputs": [
    {
     "data": {
      "text/html": [
       "<style>\n",
       ".list-inline {list-style: none; margin:0; padding: 0}\n",
       ".list-inline>li {display: inline-block}\n",
       ".list-inline>li:not(:last-child)::after {content: \"\\00b7\"; padding: 0 .5ex}\n",
       "</style>\n",
       "<ol class=list-inline><li>1028</li><li>32</li></ol>\n"
      ],
      "text/latex": [
       "\\begin{enumerate*}\n",
       "\\item 1028\n",
       "\\item 32\n",
       "\\end{enumerate*}\n"
      ],
      "text/markdown": [
       "1. 1028\n",
       "2. 32\n",
       "\n",
       "\n"
      ],
      "text/plain": [
       "[1] 1028   32"
      ]
     },
     "metadata": {},
     "output_type": "display_data"
    },
    {
     "data": {
      "text/html": [
       "<style>\n",
       ".list-inline {list-style: none; margin:0; padding: 0}\n",
       ".list-inline>li {display: inline-block}\n",
       ".list-inline>li:not(:last-child)::after {content: \"\\00b7\"; padding: 0 .5ex}\n",
       "</style>\n",
       "<ol class=list-inline><li>442</li><li>32</li></ol>\n"
      ],
      "text/latex": [
       "\\begin{enumerate*}\n",
       "\\item 442\n",
       "\\item 32\n",
       "\\end{enumerate*}\n"
      ],
      "text/markdown": [
       "1. 442\n",
       "2. 32\n",
       "\n",
       "\n"
      ],
      "text/plain": [
       "[1] 442  32"
      ]
     },
     "metadata": {},
     "output_type": "display_data"
    }
   ],
   "source": [
    "set.seed(123)\n",
    "churn_split <- rsample::initial_split(df, prop = 0.7, strata = \"Attrition\")\n",
    "churn_train <- training(churn_split)\n",
    "churn_test <- testing(churn_split)\n",
    "dim(churn_train) ; dim(churn_test)"
   ]
  },
  {
   "cell_type": "code",
   "execution_count": 10,
   "id": "7ad18a9f",
   "metadata": {},
   "outputs": [],
   "source": [
    "ggplot2::theme_set(ggplot2::theme_light())"
   ]
  },
  {
   "cell_type": "markdown",
   "id": "49fd9b13",
   "metadata": {},
   "source": [
    "## SVM\n",
    "- 이진분류에 대한 접근\n",
    "- 두 클래스를 최상으로 분리하는 일부 기능 공간에서 초평면 탐색"
   ]
  },
  {
   "cell_type": "markdown",
   "id": "9f74f6fd",
   "metadata": {},
   "source": [
    "### 하드 마진 분류기\n",
    "1. 각 클래스 주위에 블록shell을 형성\n",
    "2. 두 개의 블록 shell을 연결하는 가장 짧은 선분을 그림\n",
    "3. 이 선분의 수직이등분선 = 하드 마진 분류기\n",
    "4. **마진(여백) 경계는 서포트 벡터를 통과하고 분리 초평면과 평행한 선을 그려서 형성**\n",
    "\n",
    "<img src = \"https://bradleyboehmke.github.io/HOML/11b-svm_files/figure-html/svm-hmc-1.png\">\n",
    "\n",
    "- 검은색 실선은 결정 경계 (분리 초형면)을 형성\n",
    "- 점선은 초평면의 각 측면에서 여백의 경계를 형성\n",
    "- **두 클래스의 최단거리 (두 블록 shell을 연결하는 점선) = 2M**\n",
    "- **관측치중 2개는 여백 경계에 접함 => 이 두 점은 서포트 벡터를 형성**"
   ]
  },
  {
   "cell_type": "markdown",
   "id": "6a44148f",
   "metadata": {},
   "source": [
    "#### 하드 마진 분류기는 두 클래스 사이에서 가장 큰 마진/갭을 제공하는 분리 초평면을 탐색 = Maximize(M)"
   ]
  },
  {
   "cell_type": "markdown",
   "id": "03973e55",
   "metadata": {},
   "source": [
    "### 소프트 마진 분류기\n",
    "- 일부 포인트가, 마진의 잘못된 쪽에 있도록 허용 => **제약을 완화**\n",
    "- 두 클래스 사이에 가장 큰 마진/갭을 제공하지만 일부 포인트가 경계를 넘어갈 수 있도록 하는 분리 초평면을 탐색\n",
    "\n",
    "#### C = 허용 가능한 정도 (초매개변수)\n",
    "- C를 조정하여, 이상치에 대응 (K-fold CV를 통해 결정)\n",
    "\n",
    "<img src = \"https://bradleyboehmke.github.io/HOML/11b-svm_files/figure-html/smc-1.png\">"
   ]
  },
  {
   "cell_type": "markdown",
   "id": "6183cf94",
   "metadata": {},
   "source": [
    "### 서포트 벡터 머신\n",
    "- 비선형 관계에 적용할 수 있는 커널 기능\n",
    "<img src = \"https://bradleyboehmke.github.io/HOML/11b-svm_files/figure-html/svm-circle-1.png\">"
   ]
  },
  {
   "cell_type": "markdown",
   "id": "d264010b",
   "metadata": {},
   "source": [
    "- 본질적으로SVM은 기본 함수(MARS 또는 polynomial)를 사용하여 기능 공간을 확장하기 위해 커널을 사용"
   ]
  },
  {
   "cell_type": "markdown",
   "id": "cea9ec6f",
   "metadata": {},
   "source": [
    "#### 커널별 초매개변수"
   ]
  },
  {
   "cell_type": "code",
   "execution_count": 18,
   "id": "d3f6bee8",
   "metadata": {},
   "outputs": [
    {
     "data": {
      "text/html": [
       "<table class=\"dataframe\">\n",
       "<caption>A data.frame: 1 × 3</caption>\n",
       "<thead>\n",
       "\t<tr><th scope=col>parameter</th><th scope=col>class</th><th scope=col>label</th></tr>\n",
       "\t<tr><th scope=col>&lt;chr&gt;</th><th scope=col>&lt;chr&gt;</th><th scope=col>&lt;chr&gt;</th></tr>\n",
       "</thead>\n",
       "<tbody>\n",
       "\t<tr><td>C</td><td>numeric</td><td>Cost</td></tr>\n",
       "</tbody>\n",
       "</table>\n"
      ],
      "text/latex": [
       "A data.frame: 1 × 3\n",
       "\\begin{tabular}{lll}\n",
       " parameter & class & label\\\\\n",
       " <chr> & <chr> & <chr>\\\\\n",
       "\\hline\n",
       "\t C & numeric & Cost\\\\\n",
       "\\end{tabular}\n"
      ],
      "text/markdown": [
       "\n",
       "A data.frame: 1 × 3\n",
       "\n",
       "| parameter &lt;chr&gt; | class &lt;chr&gt; | label &lt;chr&gt; |\n",
       "|---|---|---|\n",
       "| C | numeric | Cost |\n",
       "\n"
      ],
      "text/plain": [
       "  parameter class   label\n",
       "1 C         numeric Cost "
      ]
     },
     "metadata": {},
     "output_type": "display_data"
    }
   ],
   "source": [
    "caret::getModelInfo(\"svmLinear\")$svmLinear$parameters"
   ]
  },
  {
   "cell_type": "code",
   "execution_count": 19,
   "id": "6cd0d723",
   "metadata": {},
   "outputs": [
    {
     "data": {
      "text/html": [
       "<table class=\"dataframe\">\n",
       "<caption>A data.frame: 3 × 3</caption>\n",
       "<thead>\n",
       "\t<tr><th scope=col>parameter</th><th scope=col>class</th><th scope=col>label</th></tr>\n",
       "\t<tr><th scope=col>&lt;chr&gt;</th><th scope=col>&lt;chr&gt;</th><th scope=col>&lt;chr&gt;</th></tr>\n",
       "</thead>\n",
       "<tbody>\n",
       "\t<tr><td>degree</td><td>numeric</td><td>Polynomial Degree</td></tr>\n",
       "\t<tr><td>scale </td><td>numeric</td><td>Scale            </td></tr>\n",
       "\t<tr><td>C     </td><td>numeric</td><td>Cost             </td></tr>\n",
       "</tbody>\n",
       "</table>\n"
      ],
      "text/latex": [
       "A data.frame: 3 × 3\n",
       "\\begin{tabular}{lll}\n",
       " parameter & class & label\\\\\n",
       " <chr> & <chr> & <chr>\\\\\n",
       "\\hline\n",
       "\t degree & numeric & Polynomial Degree\\\\\n",
       "\t scale  & numeric & Scale            \\\\\n",
       "\t C      & numeric & Cost             \\\\\n",
       "\\end{tabular}\n"
      ],
      "text/markdown": [
       "\n",
       "A data.frame: 3 × 3\n",
       "\n",
       "| parameter &lt;chr&gt; | class &lt;chr&gt; | label &lt;chr&gt; |\n",
       "|---|---|---|\n",
       "| degree | numeric | Polynomial Degree |\n",
       "| scale  | numeric | Scale             |\n",
       "| C      | numeric | Cost              |\n",
       "\n"
      ],
      "text/plain": [
       "  parameter class   label            \n",
       "1 degree    numeric Polynomial Degree\n",
       "2 scale     numeric Scale            \n",
       "3 C         numeric Cost             "
      ]
     },
     "metadata": {},
     "output_type": "display_data"
    }
   ],
   "source": [
    "caret::getModelInfo(\"svmPoly\")$svmPoly$parameters"
   ]
  },
  {
   "cell_type": "code",
   "execution_count": 20,
   "id": "b814597f",
   "metadata": {
    "scrolled": true
   },
   "outputs": [
    {
     "data": {
      "text/html": [
       "<table class=\"dataframe\">\n",
       "<caption>A data.frame: 2 × 3</caption>\n",
       "<thead>\n",
       "\t<tr><th scope=col>parameter</th><th scope=col>class</th><th scope=col>label</th></tr>\n",
       "\t<tr><th scope=col>&lt;chr&gt;</th><th scope=col>&lt;chr&gt;</th><th scope=col>&lt;chr&gt;</th></tr>\n",
       "</thead>\n",
       "<tbody>\n",
       "\t<tr><td>sigma</td><td>numeric</td><td>Sigma</td></tr>\n",
       "\t<tr><td>C    </td><td>numeric</td><td>Cost </td></tr>\n",
       "</tbody>\n",
       "</table>\n"
      ],
      "text/latex": [
       "A data.frame: 2 × 3\n",
       "\\begin{tabular}{lll}\n",
       " parameter & class & label\\\\\n",
       " <chr> & <chr> & <chr>\\\\\n",
       "\\hline\n",
       "\t sigma & numeric & Sigma\\\\\n",
       "\t C     & numeric & Cost \\\\\n",
       "\\end{tabular}\n"
      ],
      "text/markdown": [
       "\n",
       "A data.frame: 2 × 3\n",
       "\n",
       "| parameter &lt;chr&gt; | class &lt;chr&gt; | label &lt;chr&gt; |\n",
       "|---|---|---|\n",
       "| sigma | numeric | Sigma |\n",
       "| C     | numeric | Cost  |\n",
       "\n"
      ],
      "text/plain": [
       "  parameter class   label\n",
       "1 sigma     numeric Sigma\n",
       "2 C         numeric Cost "
      ]
     },
     "metadata": {},
     "output_type": "display_data"
    }
   ],
   "source": [
    "caret::getModelInfo(\"svmRadial\")$svmRadial$parameters"
   ]
  },
  {
   "cell_type": "markdown",
   "id": "b10a9d4b",
   "metadata": {},
   "source": [
    "### 2개 이상의 클래스"
   ]
  },
  {
   "cell_type": "markdown",
   "id": "42b32653",
   "metadata": {},
   "source": [
    "### 서포트 벡터 회귀 (SVR)"
   ]
  },
  {
   "cell_type": "code",
   "execution_count": 22,
   "id": "14009235",
   "metadata": {},
   "outputs": [],
   "source": [
    "set.seed(1854) \n",
    "churn_svm <- train(\n",
    "  Attrition ~ ., \n",
    "  data = churn_train,\n",
    "  method = \"svmRadial\",               \n",
    "  preProcess = c(\"center\", \"scale\"),  \n",
    "  trControl = trainControl(method = \"cv\", number = 10),\n",
    "  tuneLength = 10\n",
    ")"
   ]
  },
  {
   "cell_type": "code",
   "execution_count": 23,
   "id": "4178857a",
   "metadata": {
    "scrolled": true
   },
   "outputs": [
    {
     "data": {
      "image/png": "[encoded data removed]",
      "text/plain": [
       "plot without title"
      ]
     },
     "metadata": {
      "image/png": {
       "height": 420,
       "width": 420
      }
     },
     "output_type": "display_data"
    }
   ],
   "source": [
    "ggplot(churn_svm) + theme_light()"
   ]
  },
  {
   "cell_type": "code",
   "execution_count": 38,
   "id": "5a54823d",
   "metadata": {
    "scrolled": true
   },
   "outputs": [
    {
     "data": {
      "text/html": [
       "<table class=\"dataframe\">\n",
       "<caption>A data.frame: 1 × 2</caption>\n",
       "<thead>\n",
       "\t<tr><th></th><th scope=col>sigma</th><th scope=col>C</th></tr>\n",
       "\t<tr><th></th><th scope=col>&lt;dbl&gt;</th><th scope=col>&lt;dbl&gt;</th></tr>\n",
       "</thead>\n",
       "<tbody>\n",
       "\t<tr><th scope=row>5</th><td>0.01262583</td><td>4</td></tr>\n",
       "</tbody>\n",
       "</table>\n"
      ],
      "text/latex": [
       "A data.frame: 1 × 2\n",
       "\\begin{tabular}{r|ll}\n",
       "  & sigma & C\\\\\n",
       "  & <dbl> & <dbl>\\\\\n",
       "\\hline\n",
       "\t5 & 0.01262583 & 4\\\\\n",
       "\\end{tabular}\n"
      ],
      "text/markdown": [
       "\n",
       "A data.frame: 1 × 2\n",
       "\n",
       "| <!--/--> | sigma &lt;dbl&gt; | C &lt;dbl&gt; |\n",
       "|---|---|---|\n",
       "| 5 | 0.01262583 | 4 |\n",
       "\n"
      ],
      "text/plain": [
       "  sigma      C\n",
       "5 0.01262583 4"
      ]
     },
     "metadata": {},
     "output_type": "display_data"
    }
   ],
   "source": [
    "churn_svm$bestTune"
   ]
  },
  {
   "cell_type": "markdown",
   "id": "b8fb9cac",
   "metadata": {},
   "source": [
    "#### C = 4, sigma = 0.01262583일때 가장 높은 정확도"
   ]
  },
  {
   "cell_type": "code",
   "execution_count": 70,
   "id": "cf798895",
   "metadata": {},
   "outputs": [],
   "source": [
    "pred <- predict(churn_svm, churn_test)"
   ]
  },
  {
   "cell_type": "code",
   "execution_count": 59,
   "id": "207fa8c3",
   "metadata": {},
   "outputs": [
    {
     "data": {
      "text/plain": [
       "Confusion Matrix and Statistics\n",
       "\n",
       "          Reference\n",
       "Prediction  No Yes\n",
       "       No  356  49\n",
       "       Yes  14  23\n",
       "                                          \n",
       "               Accuracy : 0.8575          \n",
       "                 95% CI : (0.8214, 0.8887)\n",
       "    No Information Rate : 0.8371          \n",
       "    P-Value [Acc > NIR] : 0.136           \n",
       "                                          \n",
       "                  Kappa : 0.3502          \n",
       "                                          \n",
       " Mcnemar's Test P-Value : 1.839e-05       \n",
       "                                          \n",
       "            Sensitivity : 0.9622          \n",
       "            Specificity : 0.3194          \n",
       "         Pos Pred Value : 0.8790          \n",
       "         Neg Pred Value : 0.6216          \n",
       "             Prevalence : 0.8371          \n",
       "         Detection Rate : 0.8054          \n",
       "   Detection Prevalence : 0.9163          \n",
       "      Balanced Accuracy : 0.6408          \n",
       "                                          \n",
       "       'Positive' Class : No              \n",
       "                                          "
      ]
     },
     "metadata": {},
     "output_type": "display_data"
    }
   ],
   "source": [
    "confusionMatrix(pred, churn_test$Attrition)"
   ]
  },
  {
   "cell_type": "markdown",
   "id": "f83663fb",
   "metadata": {},
   "source": [
    "### 등급 가중치\n",
    "- 심각한 클래스 불균형이 있는 상황\n",
    "- 특정 오분류 비용을 "
   ]
  },
  {
   "cell_type": "code",
   "execution_count": 35,
   "id": "541165e6",
   "metadata": {
    "scrolled": true
   },
   "outputs": [
    {
     "data": {
      "text/plain": [
       "\n",
       "       No       Yes \n",
       "0.8394942 0.1605058 "
      ]
     },
     "metadata": {},
     "output_type": "display_data"
    }
   ],
   "source": [
    "table(churn_train$Attrition) %>% prop.table"
   ]
  },
  {
   "cell_type": "code",
   "execution_count": 61,
   "id": "f8e43624",
   "metadata": {},
   "outputs": [],
   "source": [
    "set.seed(1854) \n",
    "churn_svm <- train(\n",
    "  Attrition ~ ., \n",
    "  data = churn_train,\n",
    "  method = \"svmRadial\",               \n",
    "  preProcess = c(\"center\", \"scale\"),  \n",
    "  trControl = trainControl(method = \"cv\", number = 10),\n",
    "  tuneLength = 10,\n",
    "  class.weights = c(\"No\" = 1, \"Yes\" = 10)\n",
    ")"
   ]
  },
  {
   "cell_type": "code",
   "execution_count": 62,
   "id": "35409627",
   "metadata": {},
   "outputs": [
    {
     "data": {
      "image/png": "[encoded data removed]",
      "text/plain": [
       "plot without title"
      ]
     },
     "metadata": {
      "image/png": {
       "height": 420,
       "width": 420
      }
     },
     "output_type": "display_data"
    }
   ],
   "source": [
    "ggplot(churn_svm) + theme_light()"
   ]
  },
  {
   "cell_type": "code",
   "execution_count": 63,
   "id": "c84af926",
   "metadata": {
    "scrolled": false
   },
   "outputs": [
    {
     "data": {
      "text/html": [
       "<table class=\"dataframe\">\n",
       "<caption>A data.frame: 1 × 2</caption>\n",
       "<thead>\n",
       "\t<tr><th></th><th scope=col>sigma</th><th scope=col>C</th></tr>\n",
       "\t<tr><th></th><th scope=col>&lt;dbl&gt;</th><th scope=col>&lt;dbl&gt;</th></tr>\n",
       "</thead>\n",
       "<tbody>\n",
       "\t<tr><th scope=row>5</th><td>0.01262583</td><td>4</td></tr>\n",
       "</tbody>\n",
       "</table>\n"
      ],
      "text/latex": [
       "A data.frame: 1 × 2\n",
       "\\begin{tabular}{r|ll}\n",
       "  & sigma & C\\\\\n",
       "  & <dbl> & <dbl>\\\\\n",
       "\\hline\n",
       "\t5 & 0.01262583 & 4\\\\\n",
       "\\end{tabular}\n"
      ],
      "text/markdown": [
       "\n",
       "A data.frame: 1 × 2\n",
       "\n",
       "| <!--/--> | sigma &lt;dbl&gt; | C &lt;dbl&gt; |\n",
       "|---|---|---|\n",
       "| 5 | 0.01262583 | 4 |\n",
       "\n"
      ],
      "text/plain": [
       "  sigma      C\n",
       "5 0.01262583 4"
      ]
     },
     "metadata": {},
     "output_type": "display_data"
    }
   ],
   "source": [
    "churn_svm$bestTune"
   ]
  },
  {
   "cell_type": "code",
   "execution_count": 71,
   "id": "cf56c7ff",
   "metadata": {},
   "outputs": [],
   "source": [
    "pred <- predict(churn_svm, churn_test)"
   ]
  },
  {
   "cell_type": "code",
   "execution_count": 72,
   "id": "0bbb3a4b",
   "metadata": {},
   "outputs": [
    {
     "data": {
      "text/plain": [
       "Confusion Matrix and Statistics\n",
       "\n",
       "          Reference\n",
       "Prediction  No Yes\n",
       "       No  337  46\n",
       "       Yes  33  26\n",
       "                                          \n",
       "               Accuracy : 0.8213          \n",
       "                 95% CI : (0.7823, 0.8559)\n",
       "    No Information Rate : 0.8371          \n",
       "    P-Value [Acc > NIR] : 0.8333          \n",
       "                                          \n",
       "                  Kappa : 0.2932          \n",
       "                                          \n",
       " Mcnemar's Test P-Value : 0.1770          \n",
       "                                          \n",
       "            Sensitivity : 0.9108          \n",
       "            Specificity : 0.3611          \n",
       "         Pos Pred Value : 0.8799          \n",
       "         Neg Pred Value : 0.4407          \n",
       "             Prevalence : 0.8371          \n",
       "         Detection Rate : 0.7624          \n",
       "   Detection Prevalence : 0.8665          \n",
       "      Balanced Accuracy : 0.6360          \n",
       "                                          \n",
       "       'Positive' Class : No              \n",
       "                                          "
      ]
     },
     "metadata": {},
     "output_type": "display_data"
    }
   ],
   "source": [
    "confusionMatrix(pred, churn_test$Attrition)"
   ]
  },
  {
   "cell_type": "markdown",
   "id": "cd48e8a1",
   "metadata": {},
   "source": [
    "### 클래스 확률\n",
    "- 예측된 클래스 확률을 제공\n",
    "#### ```classProbs = T```\n",
    "\n",
    "#### AUC값 제공\n",
    "- \n",
    "#### ```summaryFunction = twoClassSummary```"
   ]
  },
  {
   "cell_type": "code",
   "execution_count": 73,
   "id": "c3643e97",
   "metadata": {},
   "outputs": [],
   "source": [
    "ctrl <- trainControl(\n",
    "  method = \"cv\", \n",
    "  number = 10, \n",
    "  classProbs = TRUE,                 \n",
    "  summaryFunction = twoClassSummary  \n",
    ")"
   ]
  },
  {
   "cell_type": "markdown",
   "id": "cbddfe48",
   "metadata": {},
   "source": [
    "#### ```metric = \"ROC```"
   ]
  },
  {
   "cell_type": "code",
   "execution_count": 74,
   "id": "6b19a748",
   "metadata": {},
   "outputs": [],
   "source": [
    "set.seed(5628)  \n",
    "churn_svm_auc <- train(\n",
    "  Attrition ~ ., \n",
    "  data = churn_train,\n",
    "  method = \"svmRadial\",               \n",
    "  preProcess = c(\"center\", \"scale\"),  \n",
    "  metric = \"ROC\",  # area under ROC curve (AUC)       \n",
    "  trControl = ctrl,\n",
    "  tuneLength = 10\n",
    ")"
   ]
  },
  {
   "cell_type": "code",
   "execution_count": 75,
   "id": "6585616d",
   "metadata": {},
   "outputs": [
    {
     "data": {
      "text/html": [
       "<table class=\"dataframe\">\n",
       "<caption>A data.frame: 6 × 8</caption>\n",
       "<thead>\n",
       "\t<tr><th></th><th scope=col>sigma</th><th scope=col>C</th><th scope=col>ROC</th><th scope=col>Sens</th><th scope=col>Spec</th><th scope=col>ROCSD</th><th scope=col>SensSD</th><th scope=col>SpecSD</th></tr>\n",
       "\t<tr><th></th><th scope=col>&lt;dbl&gt;</th><th scope=col>&lt;dbl&gt;</th><th scope=col>&lt;dbl&gt;</th><th scope=col>&lt;dbl&gt;</th><th scope=col>&lt;dbl&gt;</th><th scope=col>&lt;dbl&gt;</th><th scope=col>&lt;dbl&gt;</th><th scope=col>&lt;dbl&gt;</th></tr>\n",
       "</thead>\n",
       "<tbody>\n",
       "\t<tr><th scope=row>1</th><td>0.0124187</td><td>0.25</td><td>0.8361406</td><td>0.9640470</td><td>0.4238971</td><td>0.06416954</td><td>0.01934812</td><td>0.09188807</td></tr>\n",
       "\t<tr><th scope=row>2</th><td>0.0124187</td><td>0.50</td><td>0.8361448</td><td>0.9628843</td><td>0.4062500</td><td>0.06435236</td><td>0.01962416</td><td>0.08215813</td></tr>\n",
       "\t<tr><th scope=row>3</th><td>0.0124187</td><td>1.00</td><td>0.8373488</td><td>0.9733226</td><td>0.3878676</td><td>0.06482474</td><td>0.01816977</td><td>0.07562873</td></tr>\n",
       "\t<tr><th scope=row>4</th><td>0.0124187</td><td>2.00</td><td>0.8364065</td><td>0.9744587</td><td>0.3996324</td><td>0.06507527</td><td>0.02037644</td><td>0.05400645</td></tr>\n",
       "\t<tr><th scope=row>5</th><td>0.0124187</td><td>4.00</td><td>0.8284923</td><td>0.9802593</td><td>0.3327206</td><td>0.06638424</td><td>0.01902255</td><td>0.06706130</td></tr>\n",
       "\t<tr><th scope=row>6</th><td>0.0124187</td><td>8.00</td><td>0.8204771</td><td>0.9767843</td><td>0.3264706</td><td>0.06323881</td><td>0.01734405</td><td>0.08816378</td></tr>\n",
       "</tbody>\n",
       "</table>\n"
      ],
      "text/latex": [
       "A data.frame: 6 × 8\n",
       "\\begin{tabular}{r|llllllll}\n",
       "  & sigma & C & ROC & Sens & Spec & ROCSD & SensSD & SpecSD\\\\\n",
       "  & <dbl> & <dbl> & <dbl> & <dbl> & <dbl> & <dbl> & <dbl> & <dbl>\\\\\n",
       "\\hline\n",
       "\t1 & 0.0124187 & 0.25 & 0.8361406 & 0.9640470 & 0.4238971 & 0.06416954 & 0.01934812 & 0.09188807\\\\\n",
       "\t2 & 0.0124187 & 0.50 & 0.8361448 & 0.9628843 & 0.4062500 & 0.06435236 & 0.01962416 & 0.08215813\\\\\n",
       "\t3 & 0.0124187 & 1.00 & 0.8373488 & 0.9733226 & 0.3878676 & 0.06482474 & 0.01816977 & 0.07562873\\\\\n",
       "\t4 & 0.0124187 & 2.00 & 0.8364065 & 0.9744587 & 0.3996324 & 0.06507527 & 0.02037644 & 0.05400645\\\\\n",
       "\t5 & 0.0124187 & 4.00 & 0.8284923 & 0.9802593 & 0.3327206 & 0.06638424 & 0.01902255 & 0.06706130\\\\\n",
       "\t6 & 0.0124187 & 8.00 & 0.8204771 & 0.9767843 & 0.3264706 & 0.06323881 & 0.01734405 & 0.08816378\\\\\n",
       "\\end{tabular}\n"
      ],
      "text/markdown": [
       "\n",
       "A data.frame: 6 × 8\n",
       "\n",
       "| <!--/--> | sigma &lt;dbl&gt; | C &lt;dbl&gt; | ROC &lt;dbl&gt; | Sens &lt;dbl&gt; | Spec &lt;dbl&gt; | ROCSD &lt;dbl&gt; | SensSD &lt;dbl&gt; | SpecSD &lt;dbl&gt; |\n",
       "|---|---|---|---|---|---|---|---|---|\n",
       "| 1 | 0.0124187 | 0.25 | 0.8361406 | 0.9640470 | 0.4238971 | 0.06416954 | 0.01934812 | 0.09188807 |\n",
       "| 2 | 0.0124187 | 0.50 | 0.8361448 | 0.9628843 | 0.4062500 | 0.06435236 | 0.01962416 | 0.08215813 |\n",
       "| 3 | 0.0124187 | 1.00 | 0.8373488 | 0.9733226 | 0.3878676 | 0.06482474 | 0.01816977 | 0.07562873 |\n",
       "| 4 | 0.0124187 | 2.00 | 0.8364065 | 0.9744587 | 0.3996324 | 0.06507527 | 0.02037644 | 0.05400645 |\n",
       "| 5 | 0.0124187 | 4.00 | 0.8284923 | 0.9802593 | 0.3327206 | 0.06638424 | 0.01902255 | 0.06706130 |\n",
       "| 6 | 0.0124187 | 8.00 | 0.8204771 | 0.9767843 | 0.3264706 | 0.06323881 | 0.01734405 | 0.08816378 |\n",
       "\n"
      ],
      "text/plain": [
       "  sigma     C    ROC       Sens      Spec      ROCSD      SensSD     SpecSD    \n",
       "1 0.0124187 0.25 0.8361406 0.9640470 0.4238971 0.06416954 0.01934812 0.09188807\n",
       "2 0.0124187 0.50 0.8361448 0.9628843 0.4062500 0.06435236 0.01962416 0.08215813\n",
       "3 0.0124187 1.00 0.8373488 0.9733226 0.3878676 0.06482474 0.01816977 0.07562873\n",
       "4 0.0124187 2.00 0.8364065 0.9744587 0.3996324 0.06507527 0.02037644 0.05400645\n",
       "5 0.0124187 4.00 0.8284923 0.9802593 0.3327206 0.06638424 0.01902255 0.06706130\n",
       "6 0.0124187 8.00 0.8204771 0.9767843 0.3264706 0.06323881 0.01734405 0.08816378"
      ]
     },
     "metadata": {},
     "output_type": "display_data"
    }
   ],
   "source": [
    "churn_svm_auc$results %>% head"
   ]
  },
  {
   "cell_type": "code",
   "execution_count": 76,
   "id": "7192d43d",
   "metadata": {
    "scrolled": true
   },
   "outputs": [
    {
     "data": {
      "text/html": [
       "<table class=\"dataframe\">\n",
       "<caption>A data.frame: 1 × 2</caption>\n",
       "<thead>\n",
       "\t<tr><th></th><th scope=col>sigma</th><th scope=col>C</th></tr>\n",
       "\t<tr><th></th><th scope=col>&lt;dbl&gt;</th><th scope=col>&lt;dbl&gt;</th></tr>\n",
       "</thead>\n",
       "<tbody>\n",
       "\t<tr><th scope=row>3</th><td>0.0124187</td><td>1</td></tr>\n",
       "</tbody>\n",
       "</table>\n"
      ],
      "text/latex": [
       "A data.frame: 1 × 2\n",
       "\\begin{tabular}{r|ll}\n",
       "  & sigma & C\\\\\n",
       "  & <dbl> & <dbl>\\\\\n",
       "\\hline\n",
       "\t3 & 0.0124187 & 1\\\\\n",
       "\\end{tabular}\n"
      ],
      "text/markdown": [
       "\n",
       "A data.frame: 1 × 2\n",
       "\n",
       "| <!--/--> | sigma &lt;dbl&gt; | C &lt;dbl&gt; |\n",
       "|---|---|---|\n",
       "| 3 | 0.0124187 | 1 |\n",
       "\n"
      ],
      "text/plain": [
       "  sigma     C\n",
       "3 0.0124187 1"
      ]
     },
     "metadata": {},
     "output_type": "display_data"
    }
   ],
   "source": [
    "churn_svm_auc$bestTune"
   ]
  },
  {
   "cell_type": "markdown",
   "id": "49af255a",
   "metadata": {},
   "source": [
    "### 변수 중요도"
   ]
  },
  {
   "cell_type": "code",
   "execution_count": 86,
   "id": "8d8071ff",
   "metadata": {
    "scrolled": true
   },
   "outputs": [
    {
     "data": {
      "text/html": [
       "<table class=\"dataframe\">\n",
       "<caption>A data.frame: 6 × 2</caption>\n",
       "<thead>\n",
       "\t<tr><th></th><th scope=col>No</th><th scope=col>Yes</th></tr>\n",
       "\t<tr><th></th><th scope=col>&lt;dbl&gt;</th><th scope=col>&lt;dbl&gt;</th></tr>\n",
       "</thead>\n",
       "<tbody>\n",
       "\t<tr><th scope=row>1</th><td>0.4931757</td><td>0.50682428</td></tr>\n",
       "\t<tr><th scope=row>2</th><td>0.9719103</td><td>0.02808971</td></tr>\n",
       "\t<tr><th scope=row>3</th><td>0.7540866</td><td>0.24591340</td></tr>\n",
       "\t<tr><th scope=row>4</th><td>0.8520125</td><td>0.14798752</td></tr>\n",
       "\t<tr><th scope=row>5</th><td>0.8269005</td><td>0.17309948</td></tr>\n",
       "\t<tr><th scope=row>6</th><td>0.9117876</td><td>0.08821241</td></tr>\n",
       "</tbody>\n",
       "</table>\n"
      ],
      "text/latex": [
       "A data.frame: 6 × 2\n",
       "\\begin{tabular}{r|ll}\n",
       "  & No & Yes\\\\\n",
       "  & <dbl> & <dbl>\\\\\n",
       "\\hline\n",
       "\t1 & 0.4931757 & 0.50682428\\\\\n",
       "\t2 & 0.9719103 & 0.02808971\\\\\n",
       "\t3 & 0.7540866 & 0.24591340\\\\\n",
       "\t4 & 0.8520125 & 0.14798752\\\\\n",
       "\t5 & 0.8269005 & 0.17309948\\\\\n",
       "\t6 & 0.9117876 & 0.08821241\\\\\n",
       "\\end{tabular}\n"
      ],
      "text/markdown": [
       "\n",
       "A data.frame: 6 × 2\n",
       "\n",
       "| <!--/--> | No &lt;dbl&gt; | Yes &lt;dbl&gt; |\n",
       "|---|---|---|\n",
       "| 1 | 0.4931757 | 0.50682428 |\n",
       "| 2 | 0.9719103 | 0.02808971 |\n",
       "| 3 | 0.7540866 | 0.24591340 |\n",
       "| 4 | 0.8520125 | 0.14798752 |\n",
       "| 5 | 0.8269005 | 0.17309948 |\n",
       "| 6 | 0.9117876 | 0.08821241 |\n",
       "\n"
      ],
      "text/plain": [
       "  No        Yes       \n",
       "1 0.4931757 0.50682428\n",
       "2 0.9719103 0.02808971\n",
       "3 0.7540866 0.24591340\n",
       "4 0.8520125 0.14798752\n",
       "5 0.8269005 0.17309948\n",
       "6 0.9117876 0.08821241"
      ]
     },
     "metadata": {},
     "output_type": "display_data"
    }
   ],
   "source": [
    "pred <- predict(churn_svm_auc, churn_test, type = \"prob\")\n",
    "head(pred)\n",
    "pred_yes <- pred$Yes"
   ]
  },
  {
   "cell_type": "code",
   "execution_count": 95,
   "id": "ce3754ff",
   "metadata": {},
   "outputs": [],
   "source": [
    "prob_yes <- function(object, newdata) {\n",
    "  predict(object, newdata = newdata, type = \"prob\")[, \"Yes\"]\n",
    "}"
   ]
  },
  {
   "cell_type": "code",
   "execution_count": 96,
   "id": "053de6b3",
   "metadata": {
    "scrolled": true
   },
   "outputs": [
    {
     "data": {
      "image/png": "[encoded data removed]",
      "text/plain": [
       "plot without title"
      ]
     },
     "metadata": {
      "image/png": {
       "height": 420,
       "width": 420
      }
     },
     "output_type": "display_data"
    }
   ],
   "source": [
    "set.seed(2827)  # for reproducibility\n",
    "vip(churn_svm_auc, method = \"permute\", nsim = 5, train = churn_train, \n",
    "    target = \"Attrition\", metric = \"auc\", reference_class = \"Yes\", \n",
    "    pred_wrapper = prob_yes)"
   ]
  },
  {
   "cell_type": "code",
   "execution_count": 93,
   "id": "f2ae8be9",
   "metadata": {
    "scrolled": true
   },
   "outputs": [
    {
     "data": {
      "image/png": "[encoded data removed]",
      "text/plain": [
       "plot without title"
      ]
     },
     "metadata": {
      "image/png": {
       "height": 420,
       "width": 420
      }
     },
     "output_type": "display_data"
    }
   ],
   "source": [
    "plot(caret::varImp(churn_svm_auc, scale = F))"
   ]
  },
  {
   "cell_type": "code",
   "execution_count": 94,
   "id": "49f668a7",
   "metadata": {
    "scrolled": false
   },
   "outputs": [
    {
     "data": {
      "text/plain": [
       "ROC curve variable importance\n",
       "\n",
       "  only 20 most important variables shown (out of 31)\n",
       "\n",
       "                        Importance\n",
       "TotalWorkingYears           100.00\n",
       "YearsInCurrentRole           97.37\n",
       "MonthlyIncome                96.65\n",
       "YearsAtCompany               96.33\n",
       "YearsWithCurrManager         90.30\n",
       "OverTime                     88.62\n",
       "JobLevel                     84.16\n",
       "Age                          82.74\n",
       "MaritalStatus                72.06\n",
       "StockOptionLevel             68.16\n",
       "JobInvolvement               50.22\n",
       "EnvironmentSatisfaction      44.07\n",
       "JobSatisfaction              43.21\n",
       "DistanceFromHome             42.55\n",
       "YearsSinceLastPromotion      39.42\n",
       "JobRole                      32.29\n",
       "DailyRate                    25.72\n",
       "PercentSalaryHike            24.21\n",
       "Department                   23.04\n",
       "TrainingTimesLastYear        18.91"
      ]
     },
     "metadata": {},
     "output_type": "display_data"
    }
   ],
   "source": [
    "varImp(churn_svm_auc)"
   ]
  },
  {
   "cell_type": "markdown",
   "id": "66443647",
   "metadata": {},
   "source": [
    "### PDP"
   ]
  },
  {
   "cell_type": "code",
   "execution_count": 97,
   "id": "9647a7a3",
   "metadata": {},
   "outputs": [
    {
     "name": "stderr",
     "output_type": "stream",
     "text": [
      "Warning message:\n",
      "\"Use of `object[[1L]]` is discouraged. Use `.data[[1L]]` instead.\"\n",
      "Warning message:\n",
      "\"Use of `object[[\"yhat\"]]` is discouraged. Use `.data[[\"yhat\"]]` instead.\"\n",
      "Warning message:\n",
      "\"Use of `object[[1L]]` is discouraged. Use `.data[[1L]]` instead.\"\n",
      "Warning message:\n",
      "\"Use of `object[[\"yhat\"]]` is discouraged. Use `.data[[\"yhat\"]]` instead.\"\n",
      "Warning message:\n",
      "\"Use of `object[[1L]]` is discouraged. Use `.data[[1L]]` instead.\"\n",
      "Warning message:\n",
      "\"Use of `object[[\"yhat\"]]` is discouraged. Use `.data[[\"yhat\"]]` instead.\"\n",
      "Warning message:\n",
      "\"Use of `object[[1L]]` is discouraged. Use `.data[[1L]]` instead.\"\n",
      "Warning message:\n",
      "\"Use of `object[[\"yhat\"]]` is discouraged. Use `.data[[\"yhat\"]]` instead.\"\n"
     ]
    },
    {
     "data": {
      "image/png": "[encoded data removed]",
      "text/plain": [
       "plot without title"
      ]
     },
     "metadata": {
      "image/png": {
       "height": 420,
       "width": 420
      }
     },
     "output_type": "display_data"
    }
   ],
   "source": [
    "features <- c(\"OverTime\", \"WorkLifeBalance\", \n",
    "              \"JobSatisfaction\", \"JobRole\")\n",
    "pdps <- lapply(features, function(x) {\n",
    "  partial(churn_svm_auc, pred.var = x, which.class = 2,  \n",
    "          prob = TRUE, plot = TRUE, plot.engine = \"ggplot2\") +\n",
    "    coord_flip()\n",
    "})\n",
    "grid.arrange(grobs = pdps,  ncol = 2)"
   ]
  }
 ],
 "metadata": {
  "kernelspec": {
   "display_name": "R 4.1.3",
   "language": "R",
   "name": "ir32"
  },
  "language_info": {
   "codemirror_mode": "r",
   "file_extension": ".r",
   "mimetype": "text/x-r-source",
   "name": "R",
   "pygments_lexer": "r",
   "version": "4.1.3"
  }
 },
 "nbformat": 4,
 "nbformat_minor": 5
}
