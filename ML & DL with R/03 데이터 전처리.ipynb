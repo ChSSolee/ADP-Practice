{
 "cells": [
  {
   "cell_type": "code",
   "execution_count": 2,
   "id": "c396a34e",
   "metadata": {},
   "outputs": [],
   "source": [
    "library(tidyverse)\n",
    "\n",
    "library(caret)\n",
    "library(recipes)"
   ]
  },
  {
   "cell_type": "markdown",
   "id": "4ffec6ab",
   "metadata": {},
   "source": [
    "### 타겟 엔지니어링"
   ]
  },
  {
   "cell_type": "code",
   "execution_count": 14,
   "id": "c95d8177",
   "metadata": {
    "scrolled": true
   },
   "outputs": [
    {
     "data": {
      "text/html": [
       "<style>\n",
       ".list-inline {list-style: none; margin:0; padding: 0}\n",
       ".list-inline>li {display: inline-block}\n",
       ".list-inline>li:not(:last-child)::after {content: \"\\00b7\"; padding: 0 .5ex}\n",
       "</style>\n",
       "<ol class=list-inline><li>2053</li><li>81</li></ol>\n"
      ],
      "text/latex": [
       "\\begin{enumerate*}\n",
       "\\item 2053\n",
       "\\item 81\n",
       "\\end{enumerate*}\n"
      ],
      "text/markdown": [
       "1. 2053\n",
       "2. 81\n",
       "\n",
       "\n"
      ],
      "text/plain": [
       "[1] 2053   81"
      ]
     },
     "metadata": {},
     "output_type": "display_data"
    },
    {
     "data": {
      "text/html": [
       "<style>\n",
       ".list-inline {list-style: none; margin:0; padding: 0}\n",
       ".list-inline>li {display: inline-block}\n",
       ".list-inline>li:not(:last-child)::after {content: \"\\00b7\"; padding: 0 .5ex}\n",
       "</style>\n",
       "<ol class=list-inline><li>877</li><li>81</li></ol>\n"
      ],
      "text/latex": [
       "\\begin{enumerate*}\n",
       "\\item 877\n",
       "\\item 81\n",
       "\\end{enumerate*}\n"
      ],
      "text/markdown": [
       "1. 877\n",
       "2. 81\n",
       "\n",
       "\n"
      ],
      "text/plain": [
       "[1] 877  81"
      ]
     },
     "metadata": {},
     "output_type": "display_data"
    }
   ],
   "source": [
    "ames <- AmesHousing::make_ames()\n",
    "set.seed(123)\n",
    "index <- createDataPartition(ames$Sale_Price, p = 0.7,\n",
    "                            list = F)\n",
    "ames_train <- ames[index,]\n",
    "ames_test <- ames[-index, ]\n",
    "dim(ames_train) ; dim(ames_test)"
   ]
  },
  {
   "cell_type": "code",
   "execution_count": 11,
   "id": "9704fa42",
   "metadata": {
    "scrolled": true
   },
   "outputs": [
    {
     "name": "stderr",
     "output_type": "stream",
     "text": [
      "`stat_bin()` using `bins = 30`. Pick better value with `binwidth`.\n",
      "\n"
     ]
    },
    {
     "data": {
      "image/png": "[encoded data removed]",
      "text/plain": [
       "plot without title"
      ]
     },
     "metadata": {
      "image/png": {
       "height": 420,
       "width": 420
      }
     },
     "output_type": "display_data"
    }
   ],
   "source": [
    "ggplot(ames) + geom_histogram(aes(Sale_Price, y = ..density..))"
   ]
  },
  {
   "cell_type": "markdown",
   "id": "8356b973",
   "metadata": {},
   "source": [
    "- 일반 선형 회귀 모델은 예측 오류(반응변수)가 정규 분포를 따른다고 가정\n",
    "- 예측 대상에 이상치가 있거나 한 방향 또는 다른 방향으로 치우친 경우를 제외하고는 일반적으로 문제가 없음.\n",
    "- 이러한 경우 정규성 가정이 성립하지 않음"
   ]
  },
  {
   "cell_type": "markdown",
   "id": "9c01e8f9",
   "metadata": {},
   "source": [
    "### - 반응 왜도를 최소화 하기 위해서 \n",
    "### 1. 로그변환"
   ]
  },
  {
   "cell_type": "markdown",
   "id": "918507a6",
   "metadata": {},
   "source": [
    "1."
   ]
  },
  {
   "cell_type": "code",
   "execution_count": 24,
   "id": "3ff10505",
   "metadata": {
    "scrolled": true
   },
   "outputs": [],
   "source": [
    "transformed_response <- log(ames_train$Sale_Price)"
   ]
  },
  {
   "cell_type": "markdown",
   "id": "fc727860",
   "metadata": {},
   "source": [
    "2.  ```caret::preProcess()```"
   ]
  },
  {
   "cell_type": "code",
   "execution_count": 27,
   "id": "a3560d1a",
   "metadata": {},
   "outputs": [
    {
     "data": {
      "text/plain": [
       "Recipe\n",
       "\n",
       "Inputs:\n",
       "\n",
       "      role #variables\n",
       "   outcome          1\n",
       " predictor         80\n",
       "\n",
       "Operations:\n",
       "\n",
       "Log transformation on all_outcomes()"
      ]
     },
     "metadata": {},
     "output_type": "display_data"
    }
   ],
   "source": [
    "ames_recipe <- recipe(Sale_Price ~ ., data = ames_train) %>%\n",
    "  step_log(all_outcomes())\n",
    "ames_recipe"
   ]
  },
  {
   "cell_type": "markdown",
   "id": "2d127e34",
   "metadata": {},
   "source": [
    "- 반응변수에 음수 값이나 0이 있는 경우 로그 변환은 각각 ```NaN```과 ```-Inf```를 생성"
   ]
  },
  {
   "cell_type": "markdown",
   "id": "752a0a93",
   "metadata": {},
   "source": [
    "### 2. Box Cox변환\n",
    "<img src = \"https://miro.medium.com/max/884/1*_nHvGg-OQYtNSSZph-424g.png\">\n",
    "\n",
    "- Box Cox 변환은 로그 변환보다 유연하며(특별한 경우도 포함) 정규 분포에 최대한 가깝게 변수를 변환하는 거듭제곱 변환 계열에서 적절한 변환을 찾음"
   ]
  },
  {
   "cell_type": "code",
   "execution_count": null,
   "id": "31180a1e",
   "metadata": {},
   "outputs": [],
   "source": [
    "library(forecast)\n",
    "forecast::BoxCox(10, lambda)"
   ]
  },
  {
   "cell_type": "markdown",
   "id": "28ae8598",
   "metadata": {},
   "source": [
    "### 결측값"
   ]
  },
  {
   "cell_type": "code",
   "execution_count": 29,
   "id": "2ebdf2dd",
   "metadata": {},
   "outputs": [
    {
     "data": {
      "text/html": [
       "13997"
      ],
      "text/latex": [
       "13997"
      ],
      "text/markdown": [
       "13997"
      ],
      "text/plain": [
       "[1] 13997"
      ]
     },
     "metadata": {},
     "output_type": "display_data"
    }
   ],
   "source": [
    "sum(is.na(AmesHousing::ames_raw))"
   ]
  },
  {
   "cell_type": "markdown",
   "id": "bb8686dd",
   "metadata": {},
   "source": [
    "#### 결측값 시각화\n",
    "### - ```geom_raster()```"
   ]
  },
  {
   "cell_type": "code",
   "execution_count": 30,
   "id": "9574ed56",
   "metadata": {},
   "outputs": [
    {
     "data": {
      "image/png": "[encoded data removed]",
      "text/plain": [
       "plot without title"
      ]
     },
     "metadata": {
      "image/png": {
       "height": 420,
       "width": 420
      }
     },
     "output_type": "display_data"
    }
   ],
   "source": [
    "AmesHousing::ames_raw %>%\n",
    "  is.na() %>%\n",
    "  reshape2::melt() %>%\n",
    "  ggplot(aes(Var2, Var1, fill = value)) + \n",
    "    geom_raster() + \n",
    "    coord_flip() +\n",
    "    scale_y_continuous(NULL, expand = c(0, 0)) +\n",
    "    scale_fill_grey(name = \"\", \n",
    "                    labels = c(\"Present\", \n",
    "                               \"Missing\")) +\n",
    "    xlab(\"Observation\") +\n",
    "    theme(axis.text.y  = element_text(size = 4))"
   ]
  },
  {
   "cell_type": "code",
   "execution_count": 31,
   "id": "61d00f8c",
   "metadata": {},
   "outputs": [
    {
     "name": "stdout",
     "output_type": "stream",
     "text": [
      "\u001b[90m# A tibble: 157 x 3\u001b[39m\n",
      "   `Garage Type` `Garage Cars` `Garage Area`\n",
      "   \u001b[3m\u001b[90m<chr>\u001b[39m\u001b[23m                 \u001b[3m\u001b[90m<int>\u001b[39m\u001b[23m         \u001b[3m\u001b[90m<int>\u001b[39m\u001b[23m\n",
      "\u001b[90m 1\u001b[39m \u001b[31mNA\u001b[39m                        0             0\n",
      "\u001b[90m 2\u001b[39m \u001b[31mNA\u001b[39m                        0             0\n",
      "\u001b[90m 3\u001b[39m \u001b[31mNA\u001b[39m                        0             0\n",
      "\u001b[90m 4\u001b[39m \u001b[31mNA\u001b[39m                        0             0\n",
      "\u001b[90m 5\u001b[39m \u001b[31mNA\u001b[39m                        0             0\n",
      "\u001b[90m 6\u001b[39m \u001b[31mNA\u001b[39m                        0             0\n",
      "\u001b[90m 7\u001b[39m \u001b[31mNA\u001b[39m                        0             0\n",
      "\u001b[90m 8\u001b[39m \u001b[31mNA\u001b[39m                        0             0\n",
      "\u001b[90m 9\u001b[39m \u001b[31mNA\u001b[39m                        0             0\n",
      "\u001b[90m10\u001b[39m \u001b[31mNA\u001b[39m                        0             0\n",
      "\u001b[90m# ... with 147 more rows\u001b[39m\n"
     ]
    }
   ],
   "source": [
    "AmesHousing::ames_raw %>% \n",
    "  filter(is.na(`Garage Type`)) %>% \n",
    "  select(`Garage Type`, `Garage Cars`, `Garage Area`) %>% print"
   ]
  },
  {
   "cell_type": "markdown",
   "id": "7d1bf166",
   "metadata": {},
   "source": [
    "### - ```vis_miss()```"
   ]
  },
  {
   "cell_type": "code",
   "execution_count": 38,
   "id": "5ddeb250",
   "metadata": {
    "scrolled": true
   },
   "outputs": [
    {
     "data": {
      "image/png": "[encoded data removed]",
      "text/plain": [
       "plot without title"
      ]
     },
     "metadata": {
      "image/png": {
       "height": 420,
       "width": 420
      }
     },
     "output_type": "display_data"
    }
   ],
   "source": [
    "library(visdat)\n",
    "vis_miss(AmesHousing::ames_raw, cluster = T)"
   ]
  },
  {
   "cell_type": "markdown",
   "id": "03a00038",
   "metadata": {},
   "source": [
    "#### 결측값 대체"
   ]
  },
  {
   "cell_type": "markdown",
   "id": "46a9e8bb",
   "metadata": {},
   "source": [
    "- 중앙값 대체 : ```step_medianimpute()```\n",
    "- 최빈값 대체 : ```step_modeimpute()```\n",
    "- KNN 대체 : ```step_knnimpute()```\n",
    "- 트리기반 대체 : ```step_bagimpute()```"
   ]
  },
  {
   "cell_type": "code",
   "execution_count": 49,
   "id": "9ac0a2ec",
   "metadata": {},
   "outputs": [
    {
     "data": {
      "text/plain": [
       "Recipe\n",
       "\n",
       "Inputs:\n",
       "\n",
       "      role #variables\n",
       "   outcome          1\n",
       " predictor         80\n",
       "\n",
       "Operations:\n",
       "\n",
       "Log transformation on all_outcomes()\n",
       "Median imputation for Gr_Liv_Area"
      ]
     },
     "metadata": {},
     "output_type": "display_data"
    }
   ],
   "source": [
    "# 결측값을 Gr_Liv_Area의 중앙값으로 대체\n",
    "ames_recipe %>%\n",
    "  step_medianimpute(Gr_Liv_Area)"
   ]
  },
  {
   "cell_type": "code",
   "execution_count": 50,
   "id": "1a67d996",
   "metadata": {},
   "outputs": [
    {
     "data": {
      "text/plain": [
       "Recipe\n",
       "\n",
       "Inputs:\n",
       "\n",
       "      role #variables\n",
       "   outcome          1\n",
       " predictor         80\n",
       "\n",
       "Operations:\n",
       "\n",
       "Log transformation on all_outcomes()\n",
       "K-nearest neighbor imputation for all_predictors()"
      ]
     },
     "metadata": {},
     "output_type": "display_data"
    }
   ],
   "source": [
    "ames_recipe %>%\n",
    "  step_knnimpute(all_predictors(), neighbors = 6)"
   ]
  },
  {
   "cell_type": "code",
   "execution_count": 52,
   "id": "fee26423",
   "metadata": {},
   "outputs": [
    {
     "data": {
      "text/plain": [
       "Recipe\n",
       "\n",
       "Inputs:\n",
       "\n",
       "      role #variables\n",
       "   outcome          1\n",
       " predictor         80\n",
       "\n",
       "Operations:\n",
       "\n",
       "Log transformation on all_outcomes()\n",
       "Bagged tree imputation for all_predictors()"
      ]
     },
     "metadata": {},
     "output_type": "display_data"
    }
   ],
   "source": [
    "ames_recipe %>%\n",
    "  step_bagimpute(all_predictors())"
   ]
  },
  {
   "cell_type": "markdown",
   "id": "55079105",
   "metadata": {},
   "source": [
    "### 전처리\n",
    "- 0 및 거의 0에 가까운 분산 변수는 제거해야 할 낮은 결과\n",
    "- 특성이 단일 고유 값만 포함한다는 의미의 제로 분산 변수는 모델에 유용한 정보를 제공하지 않는다."
   ]
  },
  {
   "cell_type": "markdown",
   "id": "9c75bf53",
   "metadata": {},
   "source": [
    "#### Normalization\n",
    "\n",
    "- step_center(var) - 평균을 빼서 중심 이동\n",
    "- step_normalize(var) - 평균 빼고, 분산으로 나눠서 표준화\n",
    "\n",
    "##### Filters\n",
    "\n",
    "- step_corr(threshold = 0.9) - 상관계수 절대값이 큰 변수 제거\n",
    "\n",
    "- step_rm(var) - 변수 제거\n",
    "\n",
    "- step_zv() - 분산이 0인 변수 제거\n",
    "\n",
    "- step_nzv() - 분산이 거의 0인 변수 제거\n",
    "\n",
    "#### Transformations\n",
    "\n",
    "- step_log(var, base = exp(1) ) - 로그 변환\n",
    "\n",
    "- step_logit(var) - 로짓 변환\n",
    "\n",
    "- step_poly(var, degree = 2) - 변수에 polynomial term 추가(glm에서 poly() 와 동일, 즉 orthogonal polynomial 이용)\n",
    "\n",
    "- step_BoxCox() - Boxcox 변환\n",
    "\n",
    "- step_YeoJohnson - YeoJohnson 변환\n",
    "\n",
    "#### Discretization\n",
    "\n",
    "- step_discretize(var, num_breaks = 4) - 연속형 변수 이산형으로 변환\n",
    "\n",
    "- step_cut() - 연속형 변수를 지정한 값을 기준으로 이산형으로 변환\n",
    "\n",
    "     -include_outside_range - 지정한 범위를 넘어선 값을 양끝 break에 포함시킬지 여부. default = FALSE이며 결측치 처리됨\n",
    "\n",
    "     - breaks - 절단 기준이 되는 값\n",
    "\n",
    "#### Dummy variables and encodings\n",
    "\n",
    "- step_string2factor - 문자를 요인형으로\n",
    "\n",
    "- step_date() - date 변수에서 year, month, day of week 변수를 새롭게 생성\n",
    "\n",
    "     - feature = c(‘dow’, ‘month’, ‘year’) - 요일, 달, 연도 변수 추가\n",
    "\n",
    "     - abbr = T - Sunday or Sun\n",
    "\n",
    "     - label = Sunday or number\n",
    "\n",
    "- step_holiday() - date 변수에서 공휴일에 관한 이진변수 새롭게 생성\n",
    "\n",
    "     - holidays = c(‘LaborDay’, ‘NewYearDay’, ‘ChristmasDay’)\n",
    "\n",
    "     - holidays = timeDate::listHolidays(‘US’)\n",
    "\n",
    "- step_dummy() - character or factor 변수를 더미변수로 변환\n",
    "\n",
    "     - one_hot = TRUE - C +1개의 더미변수 생성(one_hot = F: C-1개 더미변수 생성\n",
    "\n",
    "- step_other() - 범주형 변수의 level이 여러개일 때, 하위 범주를 기타로 묶음\n",
    "\n",
    "    - threshold = 0.05 - 하위 5% 범주는 기타로 묶임\n",
    "\n",
    "    - other : 기타로 지정할 level 이름 지정\n",
    "\n",
    "- step_interact() - 상호작용 항 추가"
   ]
  },
  {
   "cell_type": "markdown",
   "id": "166b9968",
   "metadata": {},
   "source": [
    "* 거의 0에 가까운 분산 특성을 감지하기 위한 경험 법칙\n",
    "1. 표본 크기에 대한 고유 값의 비율이 낮습니다(예: ≤10%).\n",
    "2. 가장 널리 퍼진 값의 빈도 대 두 번째로 널리 퍼진 값의 빈도 비율이 큽니다(예: ≥20%)."
   ]
  },
  {
   "cell_type": "markdown",
   "id": "d403af48",
   "metadata": {},
   "source": [
    "- 두 기준이 모두 참이면 모델에서 변수를 제거하는 것이 종종 유리 \n",
    "- Ames 데이터의 경우 분산 예측 변수가 0이 아니지만 거의 0에 가까운 임계값을 충족하는 기능이 20개"
   ]
  },
  {
   "cell_type": "code",
   "execution_count": 62,
   "id": "12d112c4",
   "metadata": {},
   "outputs": [
    {
     "data": {
      "text/html": [
       "<table class=\"dataframe\">\n",
       "<caption>A data.frame: 6 × 5</caption>\n",
       "<thead>\n",
       "\t<tr><th></th><th scope=col>rowname</th><th scope=col>freqRatio</th><th scope=col>percentUnique</th><th scope=col>zeroVar</th><th scope=col>nzv</th></tr>\n",
       "\t<tr><th></th><th scope=col>&lt;chr&gt;</th><th scope=col>&lt;dbl&gt;</th><th scope=col>&lt;dbl&gt;</th><th scope=col>&lt;lgl&gt;</th><th scope=col>&lt;lgl&gt;</th></tr>\n",
       "</thead>\n",
       "<tbody>\n",
       "\t<tr><th scope=row>1</th><td>Street      </td><td> 170.08333</td><td>0.09741841</td><td>FALSE</td><td>TRUE</td></tr>\n",
       "\t<tr><th scope=row>2</th><td>Alley       </td><td>  23.03614</td><td>0.14612762</td><td>FALSE</td><td>TRUE</td></tr>\n",
       "\t<tr><th scope=row>3</th><td>Land_Contour</td><td>  20.69663</td><td>0.19483682</td><td>FALSE</td><td>TRUE</td></tr>\n",
       "\t<tr><th scope=row>4</th><td>Utilities   </td><td>1025.00000</td><td>0.14612762</td><td>FALSE</td><td>TRUE</td></tr>\n",
       "\t<tr><th scope=row>5</th><td>Land_Slope  </td><td>  21.67778</td><td>0.14612762</td><td>FALSE</td><td>TRUE</td></tr>\n",
       "\t<tr><th scope=row>6</th><td>Condition_2 </td><td> 254.37500</td><td>0.29225524</td><td>FALSE</td><td>TRUE</td></tr>\n",
       "</tbody>\n",
       "</table>\n"
      ],
      "text/latex": [
       "A data.frame: 6 × 5\n",
       "\\begin{tabular}{r|lllll}\n",
       "  & rowname & freqRatio & percentUnique & zeroVar & nzv\\\\\n",
       "  & <chr> & <dbl> & <dbl> & <lgl> & <lgl>\\\\\n",
       "\\hline\n",
       "\t1 & Street       &  170.08333 & 0.09741841 & FALSE & TRUE\\\\\n",
       "\t2 & Alley        &   23.03614 & 0.14612762 & FALSE & TRUE\\\\\n",
       "\t3 & Land\\_Contour &   20.69663 & 0.19483682 & FALSE & TRUE\\\\\n",
       "\t4 & Utilities    & 1025.00000 & 0.14612762 & FALSE & TRUE\\\\\n",
       "\t5 & Land\\_Slope   &   21.67778 & 0.14612762 & FALSE & TRUE\\\\\n",
       "\t6 & Condition\\_2  &  254.37500 & 0.29225524 & FALSE & TRUE\\\\\n",
       "\\end{tabular}\n"
      ],
      "text/markdown": [
       "\n",
       "A data.frame: 6 × 5\n",
       "\n",
       "| <!--/--> | rowname &lt;chr&gt; | freqRatio &lt;dbl&gt; | percentUnique &lt;dbl&gt; | zeroVar &lt;lgl&gt; | nzv &lt;lgl&gt; |\n",
       "|---|---|---|---|---|---|\n",
       "| 1 | Street       |  170.08333 | 0.09741841 | FALSE | TRUE |\n",
       "| 2 | Alley        |   23.03614 | 0.14612762 | FALSE | TRUE |\n",
       "| 3 | Land_Contour |   20.69663 | 0.19483682 | FALSE | TRUE |\n",
       "| 4 | Utilities    | 1025.00000 | 0.14612762 | FALSE | TRUE |\n",
       "| 5 | Land_Slope   |   21.67778 | 0.14612762 | FALSE | TRUE |\n",
       "| 6 | Condition_2  |  254.37500 | 0.29225524 | FALSE | TRUE |\n",
       "\n"
      ],
      "text/plain": [
       "  rowname      freqRatio  percentUnique zeroVar nzv \n",
       "1 Street        170.08333 0.09741841    FALSE   TRUE\n",
       "2 Alley          23.03614 0.14612762    FALSE   TRUE\n",
       "3 Land_Contour   20.69663 0.19483682    FALSE   TRUE\n",
       "4 Utilities    1025.00000 0.14612762    FALSE   TRUE\n",
       "5 Land_Slope     21.67778 0.14612762    FALSE   TRUE\n",
       "6 Condition_2   254.37500 0.29225524    FALSE   TRUE"
      ]
     },
     "metadata": {},
     "output_type": "display_data"
    }
   ],
   "source": [
    "# nzv = near zero variance\n",
    "caret::nearZeroVar(ames_train, saveMetrics = TRUE) %>% \n",
    "  tibble::rownames_to_column() %>% \n",
    "  filter(nzv) %>% head"
   ]
  },
  {
   "cell_type": "markdown",
   "id": "b65ba03c",
   "metadata": {},
   "source": [
    "#### 0 또는 0에 가까운 분산 기능을 제거하기 위해 .ames_recipe에 ```step_zv()```및 ```step_nzv()```를 추가가능"
   ]
  },
  {
   "cell_type": "markdown",
   "id": "54e33695",
   "metadata": {},
   "source": [
    "### 수치형 변수 엔지니어링"
   ]
  },
  {
   "cell_type": "markdown",
   "id": "39cef6fb",
   "metadata": {},
   "source": [
    "### 왜도\n",
    "- 비모수 모델은 편향된 기능의 영향을 거의 받지 않음. \n",
    "- 그러나 기능을 정규화하는 것은 이러한 모델의 성능에 부정적인 영향을 미치지 않는다. - 예를 들어, 기능을 정규화하면 트리 기반 알고리즘에서 최적의 분할점만 이동. 따라서 의심스러운 경우 정규화"
   ]
  },
  {
   "cell_type": "markdown",
   "id": "fe5e4413",
   "metadata": {},
   "source": [
    "### 정규화"
   ]
  },
  {
   "cell_type": "code",
   "execution_count": 63,
   "id": "e49d0c9e",
   "metadata": {},
   "outputs": [
    {
     "data": {
      "text/plain": [
       "Recipe\n",
       "\n",
       "Inputs:\n",
       "\n",
       "      role #variables\n",
       "   outcome          1\n",
       " predictor         80\n",
       "\n",
       "Operations:\n",
       "\n",
       "Yeo-Johnson transformation on all_numeric()"
      ]
     },
     "metadata": {},
     "output_type": "display_data"
    }
   ],
   "source": [
    "recipe(Sale_Price ~ ., data = ames_train) %>%\n",
    "  step_YeoJohnson(all_numeric()) "
   ]
  },
  {
   "cell_type": "markdown",
   "id": "8f67a65e",
   "metadata": {},
   "source": [
    "### 표준화"
   ]
  },
  {
   "cell_type": "code",
   "execution_count": 64,
   "id": "7db31cec",
   "metadata": {},
   "outputs": [
    {
     "data": {
      "text/plain": [
       "Recipe\n",
       "\n",
       "Inputs:\n",
       "\n",
       "      role #variables\n",
       "   outcome          1\n",
       " predictor         80\n",
       "\n",
       "Operations:\n",
       "\n",
       "Log transformation on all_outcomes()\n",
       "Centering for all_numeric(), -all_outcomes()\n",
       "Scaling for all_numeric(), -all_outcomes()"
      ]
     },
     "metadata": {},
     "output_type": "display_data"
    }
   ],
   "source": [
    "ames_recipe %>%\n",
    "  step_center(all_numeric(), -all_outcomes()) %>%\n",
    "  step_scale(all_numeric(), -all_outcomes())"
   ]
  },
  {
   "cell_type": "markdown",
   "id": "7290aa11",
   "metadata": {},
   "source": [
    "### 범주형 변수 엔지니어링"
   ]
  },
  {
   "cell_type": "markdown",
   "id": "94667747",
   "metadata": {},
   "source": [
    "### 덩어리 lumping"
   ]
  },
  {
   "cell_type": "code",
   "execution_count": 71,
   "id": "fbcffa41",
   "metadata": {},
   "outputs": [
    {
     "name": "stdout",
     "output_type": "stream",
     "text": [
      "\u001b[90m# A tibble: 28 x 2\u001b[39m\n",
      "   Neighborhood            n\n",
      "   \u001b[3m\u001b[90m<fct>\u001b[39m\u001b[23m               \u001b[3m\u001b[90m<int>\u001b[39m\u001b[23m\n",
      "\u001b[90m 1\u001b[39m Green_Hills             1\n",
      "\u001b[90m 2\u001b[39m Landmark                1\n",
      "\u001b[90m 3\u001b[39m Greens                  4\n",
      "\u001b[90m 4\u001b[39m Blueste                 8\n",
      "\u001b[90m 5\u001b[39m Veenker                16\n",
      "\u001b[90m 6\u001b[39m Northpark_Villa        17\n",
      "\u001b[90m 7\u001b[39m Bloomington_Heights    18\n",
      "\u001b[90m 8\u001b[39m Meadow_Village         22\n",
      "\u001b[90m 9\u001b[39m Briardale              23\n",
      "\u001b[90m10\u001b[39m Clear_Creek            26\n",
      "\u001b[90m# ... with 18 more rows\u001b[39m\n"
     ]
    }
   ],
   "source": [
    "count(ames_train, Neighborhood) %>% arrange(n) %>% print"
   ]
  },
  {
   "cell_type": "markdown",
   "id": "157570fb",
   "metadata": {},
   "source": [
    "- Neighborhood변수에는 28개의 범주가 있지만, 그중 몇개는 관찰 값 수가 적다"
   ]
  },
  {
   "cell_type": "code",
   "execution_count": 88,
   "id": "8c4de06f",
   "metadata": {},
   "outputs": [
    {
     "data": {
      "text/html": [
       "<table class=\"dataframe\">\n",
       "<caption>A tibble: 6 × 2</caption>\n",
       "<thead>\n",
       "\t<tr><th scope=col>Screen_Porch</th><th scope=col>n</th></tr>\n",
       "\t<tr><th scope=col>&lt;int&gt;</th><th scope=col>&lt;int&gt;</th></tr>\n",
       "</thead>\n",
       "<tbody>\n",
       "\t<tr><td> 0</td><td>1873</td></tr>\n",
       "\t<tr><td>40</td><td>   1</td></tr>\n",
       "\t<tr><td>60</td><td>   1</td></tr>\n",
       "\t<tr><td>80</td><td>   1</td></tr>\n",
       "\t<tr><td>84</td><td>   1</td></tr>\n",
       "\t<tr><td>88</td><td>   1</td></tr>\n",
       "</tbody>\n",
       "</table>\n"
      ],
      "text/latex": [
       "A tibble: 6 × 2\n",
       "\\begin{tabular}{ll}\n",
       " Screen\\_Porch & n\\\\\n",
       " <int> & <int>\\\\\n",
       "\\hline\n",
       "\t  0 & 1873\\\\\n",
       "\t 40 &    1\\\\\n",
       "\t 60 &    1\\\\\n",
       "\t 80 &    1\\\\\n",
       "\t 84 &    1\\\\\n",
       "\t 88 &    1\\\\\n",
       "\\end{tabular}\n"
      ],
      "text/markdown": [
       "\n",
       "A tibble: 6 × 2\n",
       "\n",
       "| Screen_Porch &lt;int&gt; | n &lt;int&gt; |\n",
       "|---|---|\n",
       "|  0 | 1873 |\n",
       "| 40 |    1 |\n",
       "| 60 |    1 |\n",
       "| 80 |    1 |\n",
       "| 84 |    1 |\n",
       "| 88 |    1 |\n",
       "\n"
      ],
      "text/plain": [
       "  Screen_Porch n   \n",
       "1  0           1873\n",
       "2 40              1\n",
       "3 60              1\n",
       "4 80              1\n",
       "5 84              1\n",
       "6 88              1"
      ]
     },
     "metadata": {},
     "output_type": "display_data"
    }
   ],
   "source": [
    "count(ames_train, Screen_Porch) %>% head"
   ]
  },
  {
   "cell_type": "markdown",
   "id": "e2f9b82d",
   "metadata": {},
   "source": [
    "- Screen_Porch변수는 수치형 변수이지만 대부분의 값이 0\n",
    "#### 이러한 항목을 더 적은 수의 범주로 축소하거나, 집합"
   ]
  },
  {
   "cell_type": "markdown",
   "id": "77fcf143",
   "metadata": {},
   "source": [
    "#### ```step_other()```"
   ]
  },
  {
   "cell_type": "code",
   "execution_count": 123,
   "id": "a11f9b05",
   "metadata": {},
   "outputs": [],
   "source": [
    "# Neighborhood의 하위 1%의 범주들을 other범주로\n",
    "# Screen_Porch의 하위 10%의 범주들을 >0 범주로\n",
    "lumping <- recipe(Sale_Price ~ ., data = ames_train) %>%\n",
    "  step_other(Neighborhood, threshold = 0.01, \n",
    "             other = \"other\") %>% \n",
    "  step_other(Screen_Porch, threshold = 0.1, \n",
    "             other = \">0\")"
   ]
  },
  {
   "cell_type": "code",
   "execution_count": 83,
   "id": "9a441bf9",
   "metadata": {},
   "outputs": [],
   "source": [
    "apply_2_training <- prep(lumping, training = ames_train) %>%\n",
    "  bake(ames_train)"
   ]
  },
  {
   "cell_type": "code",
   "execution_count": 95,
   "id": "24f9b436",
   "metadata": {},
   "outputs": [
    {
     "name": "stdout",
     "output_type": "stream",
     "text": [
      "\u001b[90m# A tibble: 22 x 2\u001b[39m\n",
      "   Neighborhood                                n\n",
      "   \u001b[3m\u001b[90m<fct>\u001b[39m\u001b[23m                                   \u001b[3m\u001b[90m<int>\u001b[39m\u001b[23m\n",
      "\u001b[90m 1\u001b[39m Meadow_Village                             22\n",
      "\u001b[90m 2\u001b[39m Briardale                                  23\n",
      "\u001b[90m 3\u001b[39m Clear_Creek                                26\n",
      "\u001b[90m 4\u001b[39m South_and_West_of_Iowa_State_University    33\n",
      "\u001b[90m 5\u001b[39m Stone_Brook                                37\n",
      "\u001b[90m 6\u001b[39m Northridge                                 49\n",
      "\u001b[90m 7\u001b[39m Timberland                                 50\n",
      "\u001b[90m 8\u001b[39m other                                      65\n",
      "\u001b[90m 9\u001b[39m Iowa_DOT_and_Rail_Road                     73\n",
      "\u001b[90m10\u001b[39m Brookside                                  74\n",
      "\u001b[90m# ... with 12 more rows\u001b[39m\n"
     ]
    }
   ],
   "source": [
    "count(apply_2_training, Neighborhood) %>% arrange(n) %>% print"
   ]
  },
  {
   "cell_type": "code",
   "execution_count": 86,
   "id": "9b182bf9",
   "metadata": {
    "scrolled": true
   },
   "outputs": [
    {
     "data": {
      "text/html": [
       "<table class=\"dataframe\">\n",
       "<caption>A tibble: 2 × 2</caption>\n",
       "<thead>\n",
       "\t<tr><th scope=col>Screen_Porch</th><th scope=col>n</th></tr>\n",
       "\t<tr><th scope=col>&lt;fct&gt;</th><th scope=col>&lt;int&gt;</th></tr>\n",
       "</thead>\n",
       "<tbody>\n",
       "\t<tr><td>&gt;0</td><td> 180</td></tr>\n",
       "\t<tr><td>0 </td><td>1873</td></tr>\n",
       "</tbody>\n",
       "</table>\n"
      ],
      "text/latex": [
       "A tibble: 2 × 2\n",
       "\\begin{tabular}{ll}\n",
       " Screen\\_Porch & n\\\\\n",
       " <fct> & <int>\\\\\n",
       "\\hline\n",
       "\t >0 &  180\\\\\n",
       "\t 0  & 1873\\\\\n",
       "\\end{tabular}\n"
      ],
      "text/markdown": [
       "\n",
       "A tibble: 2 × 2\n",
       "\n",
       "| Screen_Porch &lt;fct&gt; | n &lt;int&gt; |\n",
       "|---|---|\n",
       "| &gt;0 |  180 |\n",
       "| 0  | 1873 |\n",
       "\n"
      ],
      "text/plain": [
       "  Screen_Porch n   \n",
       "1 >0            180\n",
       "2 0            1873"
      ]
     },
     "metadata": {},
     "output_type": "display_data"
    }
   ],
   "source": [
    "count(apply_2_training, Screen_Porch) %>% arrange(n)"
   ]
  },
  {
   "cell_type": "markdown",
   "id": "c05b92af",
   "metadata": {},
   "source": [
    "### 원-핫 인코딩"
   ]
  },
  {
   "cell_type": "markdown",
   "id": "ad796f5c",
   "metadata": {},
   "source": [
    "<img src = \"https://bradleyboehmke.github.io/HOML/images/ohe-vs-dummy.png\">"
   ]
  },
  {
   "cell_type": "markdown",
   "id": "5c42d616",
   "metadata": {},
   "source": [
    "#### ```step_dummy()```"
   ]
  },
  {
   "cell_type": "code",
   "execution_count": 98,
   "id": "5e56b2cb",
   "metadata": {},
   "outputs": [
    {
     "data": {
      "text/plain": [
       "Recipe\n",
       "\n",
       "Inputs:\n",
       "\n",
       "      role #variables\n",
       "   outcome          1\n",
       " predictor         80\n",
       "\n",
       "Operations:\n",
       "\n",
       "Dummy variables from all_nominal()"
      ]
     },
     "metadata": {},
     "output_type": "display_data"
    }
   ],
   "source": [
    "recipe(Sale_Price ~ ., data = ames_train) %>%\n",
    "  step_dummy(all_nominal(), one_hot = TRUE)"
   ]
  },
  {
   "cell_type": "markdown",
   "id": "195a96a6",
   "metadata": {},
   "source": [
    "### 라벨 인코딩"
   ]
  },
  {
   "cell_type": "code",
   "execution_count": 102,
   "id": "e2162348",
   "metadata": {},
   "outputs": [
    {
     "data": {
      "text/html": [
       "<table class=\"dataframe\">\n",
       "<caption>A tibble: 6 × 2</caption>\n",
       "<thead>\n",
       "\t<tr><th scope=col>MS_SubClass</th><th scope=col>n</th></tr>\n",
       "\t<tr><th scope=col>&lt;fct&gt;</th><th scope=col>&lt;int&gt;</th></tr>\n",
       "</thead>\n",
       "<tbody>\n",
       "\t<tr><td>One_Story_1946_and_Newer_All_Styles   </td><td>750</td></tr>\n",
       "\t<tr><td>One_Story_1945_and_Older              </td><td> 95</td></tr>\n",
       "\t<tr><td>One_Story_with_Finished_Attic_All_Ages</td><td>  4</td></tr>\n",
       "\t<tr><td>One_and_Half_Story_Unfinished_All_Ages</td><td> 13</td></tr>\n",
       "\t<tr><td>One_and_Half_Story_Finished_All_Ages  </td><td>208</td></tr>\n",
       "\t<tr><td>Two_Story_1946_and_Newer              </td><td>403</td></tr>\n",
       "</tbody>\n",
       "</table>\n"
      ],
      "text/latex": [
       "A tibble: 6 × 2\n",
       "\\begin{tabular}{ll}\n",
       " MS\\_SubClass & n\\\\\n",
       " <fct> & <int>\\\\\n",
       "\\hline\n",
       "\t One\\_Story\\_1946\\_and\\_Newer\\_All\\_Styles    & 750\\\\\n",
       "\t One\\_Story\\_1945\\_and\\_Older               &  95\\\\\n",
       "\t One\\_Story\\_with\\_Finished\\_Attic\\_All\\_Ages &   4\\\\\n",
       "\t One\\_and\\_Half\\_Story\\_Unfinished\\_All\\_Ages &  13\\\\\n",
       "\t One\\_and\\_Half\\_Story\\_Finished\\_All\\_Ages   & 208\\\\\n",
       "\t Two\\_Story\\_1946\\_and\\_Newer               & 403\\\\\n",
       "\\end{tabular}\n"
      ],
      "text/markdown": [
       "\n",
       "A tibble: 6 × 2\n",
       "\n",
       "| MS_SubClass &lt;fct&gt; | n &lt;int&gt; |\n",
       "|---|---|\n",
       "| One_Story_1946_and_Newer_All_Styles    | 750 |\n",
       "| One_Story_1945_and_Older               |  95 |\n",
       "| One_Story_with_Finished_Attic_All_Ages |   4 |\n",
       "| One_and_Half_Story_Unfinished_All_Ages |  13 |\n",
       "| One_and_Half_Story_Finished_All_Ages   | 208 |\n",
       "| Two_Story_1946_and_Newer               | 403 |\n",
       "\n"
      ],
      "text/plain": [
       "  MS_SubClass                            n  \n",
       "1 One_Story_1946_and_Newer_All_Styles    750\n",
       "2 One_Story_1945_and_Older                95\n",
       "3 One_Story_with_Finished_Attic_All_Ages   4\n",
       "4 One_and_Half_Story_Unfinished_All_Ages  13\n",
       "5 One_and_Half_Story_Finished_All_Ages   208\n",
       "6 Two_Story_1946_and_Newer               403"
      ]
     },
     "metadata": {},
     "output_type": "display_data"
    }
   ],
   "source": [
    "count(ames_train, MS_SubClass) %>% head"
   ]
  },
  {
   "cell_type": "markdown",
   "id": "85dd9cc5",
   "metadata": {},
   "source": [
    "#### MS_SubClass 변수에는 16개의 범주들이 존재"
   ]
  },
  {
   "cell_type": "markdown",
   "id": "14bb15da",
   "metadata": {},
   "source": [
    "#### ```step_integer() ```"
   ]
  },
  {
   "cell_type": "code",
   "execution_count": 106,
   "id": "62f7a509",
   "metadata": {},
   "outputs": [
    {
     "data": {
      "text/html": [
       "<table class=\"dataframe\">\n",
       "<caption>A tibble: 6 × 2</caption>\n",
       "<thead>\n",
       "\t<tr><th scope=col>MS_SubClass</th><th scope=col>n</th></tr>\n",
       "\t<tr><th scope=col>&lt;dbl&gt;</th><th scope=col>&lt;int&gt;</th></tr>\n",
       "</thead>\n",
       "<tbody>\n",
       "\t<tr><td>1</td><td>750</td></tr>\n",
       "\t<tr><td>2</td><td> 95</td></tr>\n",
       "\t<tr><td>3</td><td>  4</td></tr>\n",
       "\t<tr><td>4</td><td> 13</td></tr>\n",
       "\t<tr><td>5</td><td>208</td></tr>\n",
       "\t<tr><td>6</td><td>403</td></tr>\n",
       "</tbody>\n",
       "</table>\n"
      ],
      "text/latex": [
       "A tibble: 6 × 2\n",
       "\\begin{tabular}{ll}\n",
       " MS\\_SubClass & n\\\\\n",
       " <dbl> & <int>\\\\\n",
       "\\hline\n",
       "\t 1 & 750\\\\\n",
       "\t 2 &  95\\\\\n",
       "\t 3 &   4\\\\\n",
       "\t 4 &  13\\\\\n",
       "\t 5 & 208\\\\\n",
       "\t 6 & 403\\\\\n",
       "\\end{tabular}\n"
      ],
      "text/markdown": [
       "\n",
       "A tibble: 6 × 2\n",
       "\n",
       "| MS_SubClass &lt;dbl&gt; | n &lt;int&gt; |\n",
       "|---|---|\n",
       "| 1 | 750 |\n",
       "| 2 |  95 |\n",
       "| 3 |   4 |\n",
       "| 4 |  13 |\n",
       "| 5 | 208 |\n",
       "| 6 | 403 |\n",
       "\n"
      ],
      "text/plain": [
       "  MS_SubClass n  \n",
       "1 1           750\n",
       "2 2            95\n",
       "3 3             4\n",
       "4 4            13\n",
       "5 5           208\n",
       "6 6           403"
      ]
     },
     "metadata": {},
     "output_type": "display_data"
    }
   ],
   "source": [
    "# MS_SubClass의 범주 라벨을 숫자로 변경\n",
    "recipe(Sale_Price ~ ., data = ames_train) %>%\n",
    "  step_integer(MS_SubClass) %>%\n",
    "  prep(ames_train) %>%\n",
    "  bake(ames_train) %>%\n",
    "  count(MS_SubClass) %>% head"
   ]
  },
  {
   "cell_type": "markdown",
   "id": "6e93bf30",
   "metadata": {},
   "source": [
    "#### 순서형 변수들의 범주 라벨을 변경"
   ]
  },
  {
   "cell_type": "code",
   "execution_count": 110,
   "id": "107639dd",
   "metadata": {},
   "outputs": [
    {
     "data": {
      "text/html": [
       "<table class=\"dataframe\">\n",
       "<caption>A tibble: 6 × 2</caption>\n",
       "<thead>\n",
       "\t<tr><th scope=col>Overall_Qual</th><th scope=col>n</th></tr>\n",
       "\t<tr><th scope=col>&lt;fct&gt;</th><th scope=col>&lt;int&gt;</th></tr>\n",
       "</thead>\n",
       "<tbody>\n",
       "\t<tr><td>Very_Poor    </td><td>  3</td></tr>\n",
       "\t<tr><td>Poor         </td><td>  9</td></tr>\n",
       "\t<tr><td>Fair         </td><td> 33</td></tr>\n",
       "\t<tr><td>Below_Average</td><td>147</td></tr>\n",
       "\t<tr><td>Average      </td><td>583</td></tr>\n",
       "\t<tr><td>Above_Average</td><td>514</td></tr>\n",
       "</tbody>\n",
       "</table>\n"
      ],
      "text/latex": [
       "A tibble: 6 × 2\n",
       "\\begin{tabular}{ll}\n",
       " Overall\\_Qual & n\\\\\n",
       " <fct> & <int>\\\\\n",
       "\\hline\n",
       "\t Very\\_Poor     &   3\\\\\n",
       "\t Poor          &   9\\\\\n",
       "\t Fair          &  33\\\\\n",
       "\t Below\\_Average & 147\\\\\n",
       "\t Average       & 583\\\\\n",
       "\t Above\\_Average & 514\\\\\n",
       "\\end{tabular}\n"
      ],
      "text/markdown": [
       "\n",
       "A tibble: 6 × 2\n",
       "\n",
       "| Overall_Qual &lt;fct&gt; | n &lt;int&gt; |\n",
       "|---|---|\n",
       "| Very_Poor     |   3 |\n",
       "| Poor          |   9 |\n",
       "| Fair          |  33 |\n",
       "| Below_Average | 147 |\n",
       "| Average       | 583 |\n",
       "| Above_Average | 514 |\n",
       "\n"
      ],
      "text/plain": [
       "  Overall_Qual  n  \n",
       "1 Very_Poor       3\n",
       "2 Poor            9\n",
       "3 Fair           33\n",
       "4 Below_Average 147\n",
       "5 Average       583\n",
       "6 Above_Average 514"
      ]
     },
     "metadata": {},
     "output_type": "display_data"
    }
   ],
   "source": [
    "count(ames_train, Overall_Qual) %>% head"
   ]
  },
  {
   "cell_type": "code",
   "execution_count": 111,
   "id": "62c15eb8",
   "metadata": {},
   "outputs": [
    {
     "data": {
      "text/html": [
       "<table class=\"dataframe\">\n",
       "<caption>A tibble: 6 × 2</caption>\n",
       "<thead>\n",
       "\t<tr><th scope=col>Overall_Qual</th><th scope=col>n</th></tr>\n",
       "\t<tr><th scope=col>&lt;dbl&gt;</th><th scope=col>&lt;int&gt;</th></tr>\n",
       "</thead>\n",
       "<tbody>\n",
       "\t<tr><td>1</td><td>  3</td></tr>\n",
       "\t<tr><td>2</td><td>  9</td></tr>\n",
       "\t<tr><td>3</td><td> 33</td></tr>\n",
       "\t<tr><td>4</td><td>147</td></tr>\n",
       "\t<tr><td>5</td><td>583</td></tr>\n",
       "\t<tr><td>6</td><td>514</td></tr>\n",
       "</tbody>\n",
       "</table>\n"
      ],
      "text/latex": [
       "A tibble: 6 × 2\n",
       "\\begin{tabular}{ll}\n",
       " Overall\\_Qual & n\\\\\n",
       " <dbl> & <int>\\\\\n",
       "\\hline\n",
       "\t 1 &   3\\\\\n",
       "\t 2 &   9\\\\\n",
       "\t 3 &  33\\\\\n",
       "\t 4 & 147\\\\\n",
       "\t 5 & 583\\\\\n",
       "\t 6 & 514\\\\\n",
       "\\end{tabular}\n"
      ],
      "text/markdown": [
       "\n",
       "A tibble: 6 × 2\n",
       "\n",
       "| Overall_Qual &lt;dbl&gt; | n &lt;int&gt; |\n",
       "|---|---|\n",
       "| 1 |   3 |\n",
       "| 2 |   9 |\n",
       "| 3 |  33 |\n",
       "| 4 | 147 |\n",
       "| 5 | 583 |\n",
       "| 6 | 514 |\n",
       "\n"
      ],
      "text/plain": [
       "  Overall_Qual n  \n",
       "1 1              3\n",
       "2 2              9\n",
       "3 3             33\n",
       "4 4            147\n",
       "5 5            583\n",
       "6 6            514"
      ]
     },
     "metadata": {},
     "output_type": "display_data"
    }
   ],
   "source": [
    "recipe(Sale_Price ~ ., data = ames_train) %>%\n",
    "  step_integer(Overall_Qual) %>%\n",
    "  prep(ames_train) %>%\n",
    "  bake(ames_train) %>%\n",
    "  count(Overall_Qual) %>% head"
   ]
  },
  {
   "cell_type": "markdown",
   "id": "087ab108",
   "metadata": {},
   "source": [
    "### 차원 축소"
   ]
  },
  {
   "cell_type": "code",
   "execution_count": 113,
   "id": "d8800bb9",
   "metadata": {},
   "outputs": [
    {
     "data": {
      "text/plain": [
       "Recipe\n",
       "\n",
       "Inputs:\n",
       "\n",
       "      role #variables\n",
       "   outcome          1\n",
       " predictor         80\n",
       "\n",
       "Operations:\n",
       "\n",
       "Centering for all_numeric()\n",
       "Scaling for all_numeric()\n",
       "PCA extraction with all_numeric()"
      ]
     },
     "metadata": {},
     "output_type": "display_data"
    }
   ],
   "source": [
    "recipe(Sale_Price ~ ., data = ames_train) %>%\n",
    "  step_center(all_numeric()) %>%\n",
    "  step_scale(all_numeric()) %>%\n",
    "  step_pca(all_numeric(), threshold = .95)"
   ]
  },
  {
   "cell_type": "markdown",
   "id": "84e57741",
   "metadata": {},
   "source": [
    "### 순차적 단계\n",
    "1. 0 또는 0에 가까운 분산 기능을 필터링합니다.\n",
    "2. 필요한 경우 결측값 대체를 수행합니다.\n",
    "3. 숫자 특징 왜곡을 해결하기 위해 정규화합니다.\n",
    "4. 숫자 기능을 표준화합니다.\n",
    "5. 숫자 기능에 대해 차원 축소(예: PCA)를 수행합니다.\n",
    "6. 원-핫 또는 더미는 범주형 기능을 인코딩합니다."
   ]
  },
  {
   "cell_type": "markdown",
   "id": "5a78b75e",
   "metadata": {},
   "source": [
    "### #\n",
    "### recipe \n",
    "1. recipe : 전처리 단계 정의\n",
    "2. prep : 훈련 데이터 기반으로 변수 매개변수 추정\n",
    "3. bake : 새로운 데이터에 적용"
   ]
  },
  {
   "cell_type": "code",
   "execution_count": 117,
   "id": "53324b2e",
   "metadata": {},
   "outputs": [
    {
     "data": {
      "text/plain": [
       "Recipe\n",
       "\n",
       "Inputs:\n",
       "\n",
       "      role #variables\n",
       "   outcome          1\n",
       " predictor         80\n",
       "\n",
       "Operations:\n",
       "\n",
       "Sparse, unbalanced variable filter on all_nominal()\n",
       "Integer encoding for matches(\"Qual|Cond|QC|Qu\")\n",
       "Centering for all_numeric(), -all_outcomes()\n",
       "Scaling for all_numeric(), -all_outcomes()\n",
       "PCA extraction with all_numeric(), -all_outcomes()"
      ]
     },
     "metadata": {},
     "output_type": "display_data"
    }
   ],
   "source": [
    "blueprint <- recipe(Sale_Price ~ ., data = ames_train) %>%\n",
    "    step_nzv(all_nominal())  %>% \n",
    "    # 분산이 0에 가까운 범주형 변수를 제거\n",
    "    step_integer(matches(\"Qual|Cond|QC|Qu\")) %>%\n",
    "    # 순서형 변수들의 라벨을 숫자로 변경\n",
    "    step_center(all_numeric(), -all_outcomes()) %>%\n",
    "    step_scale(all_numeric(), -all_outcomes()) %>%\n",
    "    # 모든 수치형 변수들을 표준화\n",
    "    step_pca(all_numeric(), -all_outcomes())\n",
    "    # 모든 수치형 변수들에 PCA를 적용하여 차원 축소를 수행\n",
    "blueprint"
   ]
  },
  {
   "cell_type": "code",
   "execution_count": 118,
   "id": "9a167df7",
   "metadata": {},
   "outputs": [
    {
     "data": {
      "text/plain": [
       "Recipe\n",
       "\n",
       "Inputs:\n",
       "\n",
       "      role #variables\n",
       "   outcome          1\n",
       " predictor         80\n",
       "\n",
       "Training data contained 2053 data points and no missing data.\n",
       "\n",
       "Operations:\n",
       "\n",
       "Sparse, unbalanced variable filter removed Street, Alley, Land_Contour, Utilities,... [trained]\n",
       "Integer encoding for Condition_1, Overall_Qual, Overall_Cond, Exter_Qual, Exte... [trained]\n",
       "Centering for Lot_Frontage, Lot_Area, Condition_1, Overall_Qu... [trained]\n",
       "Scaling for Lot_Frontage, Lot_Area, Condition_1, Overall_Qu... [trained]\n",
       "PCA extraction with Lot_Frontage, Lot_Area, Condition_1, Overall_Qua... [trained]"
      ]
     },
     "metadata": {},
     "output_type": "display_data"
    }
   ],
   "source": [
    "prepare <- prep(blueprint, training = ames_train)\n",
    "prepare"
   ]
  },
  {
   "cell_type": "code",
   "execution_count": 124,
   "id": "f274b89b",
   "metadata": {},
   "outputs": [
    {
     "data": {
      "text/html": [
       "<style>\n",
       ".list-inline {list-style: none; margin:0; padding: 0}\n",
       ".list-inline>li {display: inline-block}\n",
       ".list-inline>li:not(:last-child)::after {content: \"\\00b7\"; padding: 0 .5ex}\n",
       "</style>\n",
       "<ol class=list-inline><li>2053</li><li>27</li></ol>\n"
      ],
      "text/latex": [
       "\\begin{enumerate*}\n",
       "\\item 2053\n",
       "\\item 27\n",
       "\\end{enumerate*}\n"
      ],
      "text/markdown": [
       "1. 2053\n",
       "2. 27\n",
       "\n",
       "\n"
      ],
      "text/plain": [
       "[1] 2053   27"
      ]
     },
     "metadata": {},
     "output_type": "display_data"
    },
    {
     "data": {
      "text/html": [
       "<style>\n",
       ".list-inline {list-style: none; margin:0; padding: 0}\n",
       ".list-inline>li {display: inline-block}\n",
       ".list-inline>li:not(:last-child)::after {content: \"\\00b7\"; padding: 0 .5ex}\n",
       "</style>\n",
       "<ol class=list-inline><li>2053</li><li>81</li></ol>\n"
      ],
      "text/latex": [
       "\\begin{enumerate*}\n",
       "\\item 2053\n",
       "\\item 81\n",
       "\\end{enumerate*}\n"
      ],
      "text/markdown": [
       "1. 2053\n",
       "2. 81\n",
       "\n",
       "\n"
      ],
      "text/plain": [
       "[1] 2053   81"
      ]
     },
     "metadata": {},
     "output_type": "display_data"
    }
   ],
   "source": [
    "baked_train <- bake(prepare, new_data = ames_train)\n",
    "baked_test <- bake(prepare, new_data = ames_test)\n",
    "baked_train %>% dim\n",
    "ames_train %>% dim"
   ]
  },
  {
   "cell_type": "code",
   "execution_count": 125,
   "id": "d5d3864f",
   "metadata": {
    "scrolled": true
   },
   "outputs": [],
   "source": [
    "blueprint <- recipe(Sale_Price ~ ., data = ames_train) %>%\n",
    "  step_nzv(all_nominal()) %>%\n",
    "  step_integer(matches(\"Qual|Cond|QC|Qu\")) %>%\n",
    "  step_center(all_numeric(), -all_outcomes()) %>%\n",
    "  step_scale(all_numeric(), -all_outcomes()) %>%\n",
    "  step_dummy(all_nominal(), -all_outcomes(), one_hot = TRUE)"
   ]
  },
  {
   "cell_type": "code",
   "execution_count": 141,
   "id": "10545c38",
   "metadata": {},
   "outputs": [],
   "source": [
    "library(caret)\n",
    "cv <- trainControl(\n",
    "    method = \"repeatedcv\",\n",
    "    number = 10,\n",
    "    repeats = 5\n",
    ")"
   ]
  },
  {
   "cell_type": "code",
   "execution_count": 133,
   "id": "83051a41",
   "metadata": {},
   "outputs": [],
   "source": [
    "hyper_grid <- expand.grid(k = seq(2, 25, by = 1))"
   ]
  },
  {
   "cell_type": "code",
   "execution_count": 134,
   "id": "f047cec0",
   "metadata": {},
   "outputs": [],
   "source": [
    "knn_fit2 <- train(\n",
    "  blueprint, \n",
    "  data = ames_train, \n",
    "  method = \"knn\", \n",
    "  trControl = cv, \n",
    "  tuneGrid = hyper_grid,\n",
    "  metric = \"RMSE\"\n",
    ")"
   ]
  },
  {
   "cell_type": "code",
   "execution_count": 135,
   "id": "2d4aee90",
   "metadata": {
    "scrolled": true
   },
   "outputs": [
    {
     "data": {
      "text/html": [
       "<dl>\n",
       "\t<dt>$names</dt>\n",
       "\t\t<dd><style>\n",
       ".list-inline {list-style: none; margin:0; padding: 0}\n",
       ".list-inline>li {display: inline-block}\n",
       ".list-inline>li:not(:last-child)::after {content: \"\\00b7\"; padding: 0 .5ex}\n",
       "</style>\n",
       "<ol class=list-inline><li>'method'</li><li>'modelInfo'</li><li>'modelType'</li><li>'recipe'</li><li>'results'</li><li>'pred'</li><li>'bestTune'</li><li>'call'</li><li>'dots'</li><li>'metric'</li><li>'control'</li><li>'finalModel'</li><li>'trainingData'</li><li>'resample'</li><li>'resampledCM'</li><li>'perfNames'</li><li>'maximize'</li><li>'yLimits'</li><li>'times'</li><li>'levels'</li><li>'rs_seed'</li></ol>\n",
       "</dd>\n",
       "\t<dt>$class</dt>\n",
       "\t\t<dd><style>\n",
       ".list-inline {list-style: none; margin:0; padding: 0}\n",
       ".list-inline>li {display: inline-block}\n",
       ".list-inline>li:not(:last-child)::after {content: \"\\00b7\"; padding: 0 .5ex}\n",
       "</style>\n",
       "<ol class=list-inline><li>'train.recipe'</li><li>'train'</li></ol>\n",
       "</dd>\n",
       "</dl>\n"
      ],
      "text/latex": [
       "\\begin{description}\n",
       "\\item[\\$names] \\begin{enumerate*}\n",
       "\\item 'method'\n",
       "\\item 'modelInfo'\n",
       "\\item 'modelType'\n",
       "\\item 'recipe'\n",
       "\\item 'results'\n",
       "\\item 'pred'\n",
       "\\item 'bestTune'\n",
       "\\item 'call'\n",
       "\\item 'dots'\n",
       "\\item 'metric'\n",
       "\\item 'control'\n",
       "\\item 'finalModel'\n",
       "\\item 'trainingData'\n",
       "\\item 'resample'\n",
       "\\item 'resampledCM'\n",
       "\\item 'perfNames'\n",
       "\\item 'maximize'\n",
       "\\item 'yLimits'\n",
       "\\item 'times'\n",
       "\\item 'levels'\n",
       "\\item 'rs\\_seed'\n",
       "\\end{enumerate*}\n",
       "\n",
       "\\item[\\$class] \\begin{enumerate*}\n",
       "\\item 'train.recipe'\n",
       "\\item 'train'\n",
       "\\end{enumerate*}\n",
       "\n",
       "\\end{description}\n"
      ],
      "text/markdown": [
       "$names\n",
       ":   1. 'method'\n",
       "2. 'modelInfo'\n",
       "3. 'modelType'\n",
       "4. 'recipe'\n",
       "5. 'results'\n",
       "6. 'pred'\n",
       "7. 'bestTune'\n",
       "8. 'call'\n",
       "9. 'dots'\n",
       "10. 'metric'\n",
       "11. 'control'\n",
       "12. 'finalModel'\n",
       "13. 'trainingData'\n",
       "14. 'resample'\n",
       "15. 'resampledCM'\n",
       "16. 'perfNames'\n",
       "17. 'maximize'\n",
       "18. 'yLimits'\n",
       "19. 'times'\n",
       "20. 'levels'\n",
       "21. 'rs_seed'\n",
       "\n",
       "\n",
       "\n",
       "$class\n",
       ":   1. 'train.recipe'\n",
       "2. 'train'\n",
       "\n",
       "\n",
       "\n",
       "\n",
       "\n"
      ],
      "text/plain": [
       "$names\n",
       " [1] \"method\"       \"modelInfo\"    \"modelType\"    \"recipe\"       \"results\"     \n",
       " [6] \"pred\"         \"bestTune\"     \"call\"         \"dots\"         \"metric\"      \n",
       "[11] \"control\"      \"finalModel\"   \"trainingData\" \"resample\"     \"resampledCM\" \n",
       "[16] \"perfNames\"    \"maximize\"     \"yLimits\"      \"times\"        \"levels\"      \n",
       "[21] \"rs_seed\"     \n",
       "\n",
       "$class\n",
       "[1] \"train.recipe\" \"train\"       \n"
      ]
     },
     "metadata": {},
     "output_type": "display_data"
    }
   ],
   "source": [
    "attributes(knn_fit2)"
   ]
  },
  {
   "cell_type": "code",
   "execution_count": 140,
   "id": "41f35796",
   "metadata": {},
   "outputs": [
    {
     "name": "stdout",
     "output_type": "stream",
     "text": [
      "  k\n",
      "8 9\n"
     ]
    }
   ],
   "source": [
    "knn_fit2$bestTune %>% print"
   ]
  },
  {
   "cell_type": "code",
   "execution_count": 136,
   "id": "63ef5fa5",
   "metadata": {},
   "outputs": [
    {
     "data": {
      "image/png": "[encoded data removed]",
      "text/plain": [
       "plot without title"
      ]
     },
     "metadata": {
      "image/png": {
       "height": 420,
       "width": 420
      }
     },
     "output_type": "display_data"
    }
   ],
   "source": [
    "ggplot(knn_fit2)"
   ]
  }
 ],
 "metadata": {
  "kernelspec": {
   "display_name": "R 4.1.3",
   "language": "R",
   "name": "ir32"
  },
  "language_info": {
   "codemirror_mode": "r",
   "file_extension": ".r",
   "mimetype": "text/x-r-source",
   "name": "R",
   "pygments_lexer": "r",
   "version": "4.1.3"
  }
 },
 "nbformat": 4,
 "nbformat_minor": 5
}
