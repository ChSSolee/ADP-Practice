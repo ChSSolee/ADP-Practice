{
 "cells": [
  {
   "cell_type": "code",
   "execution_count": 3,
   "id": "f4e16f25",
   "metadata": {},
   "outputs": [],
   "source": [
    "library(tidyverse)\n",
    "library(doParallel)\n",
    "library(foreach)\n",
    "\n",
    "library(caret)\n",
    "library(rpart)\n",
    "library(ipred)"
   ]
  },
  {
   "cell_type": "code",
   "execution_count": 4,
   "id": "61d9236e",
   "metadata": {},
   "outputs": [],
   "source": [
    "ames <- ames <- AmesHousing::make_ames()\n",
    "index <- sample(1:dim(ames)[1], 0.7*dim(ames)[1])\n",
    "ames_train <- ames[index,]\n",
    "ames_test <- ames[-index,]"
   ]
  },
  {
   "cell_type": "markdown",
   "id": "7759714d",
   "metadata": {},
   "source": [
    "## 배깅\n",
    "- 부트스트랩 예측모델 \n",
    "- 예측 모델의 여러 버전을 맞춘 다음 이를 집계 (앙상블)\n",
    "- 회귀문제 : 개별 기본 회귀모형의 예측을 함께 평균화 하여 새로운 예측이 이루어짐\n",
    "- 분류문제 : 개별 기본 분류모형의 투표 (보팅) 혹은 추정된 클래스 확률을 함꼐 평균화 하여 결합\n",
    "\n",
    "- **개별 기본 모형의 분산을 줄임 (평균화는 분산을 줄임)**\n",
    "* 불안정하고 분산이 큰 기본 모형에 대해 잘 작동\n",
    "* 안정적이거나 편향이 큰 기본 모형에 대해서는 개선이 덜함\n",
    "\n",
    "\n",
    "- 노이즈가 많거나 강력한 변수가 여러 개인 데이터 세트에는 트리수가 많이 필요\n",
    "- 많은 트리를 사용하면 과적합이 발생하지 않음 (but 시간이 오래걸림)\n",
    "- K-fold CV를 수행"
   ]
  },
  {
   "cell_type": "markdown",
   "id": "9db1c45e",
   "metadata": {},
   "source": [
    "* OOB샘플을 사용하여 예측 성능에 대한 자체 내부 평가 가능\n",
    "- 데이터 세트가 충분히 크다고 가정할 때(n > 1000) K-fold CV와 잘 비교\n",
    "- 데이터 세트가 커지고, 배깅 반복이 증가함에 따라 예측 성능을 위한 프록시로 OOB오류 추정치를 사용"
   ]
  },
  {
   "cell_type": "markdown",
   "id": "995cd78e",
   "metadata": {},
   "source": [
    "### 트리상관관계"
   ]
  },
  {
   "cell_type": "markdown",
   "id": "e26fdcda",
   "metadata": {},
   "source": [
    "#### - 나무를 배깅할 대 문제 : 모델 구축 단계는 독립적이지만, 배깅트리는 원래 모든 트리의 모든 분할에서 고려되게 때문에, 서로 완전히 독립적이지 않음\n",
    "\n",
    "#### - 다른 부트스트랩 샘플이라도, 강력한 관계로 인해, 일반적으로 서로 유사한 구조를 가짐\n",
    "### => 상관관계를 줄이고, 전체 앙상블의 정확도를 개선하는 랜덤포레스트 필요"
   ]
  },
  {
   "cell_type": "markdown",
   "id": "8d09a099",
   "metadata": {},
   "source": [
    "### 구현\n",
    "### ```ipred::bagging()```\n",
    "- ```nbagg``` : 반복 횟수\n",
    "- ```coob = TRUE``` : OOB 오류율을 표시\n",
    "- ```control = rpart.control()``` : ```minsplit``` : 개별 나무의 분리 수, ```cp``` : 비용복잡도"
   ]
  },
  {
   "cell_type": "code",
   "execution_count": null,
   "id": "de073f8a",
   "metadata": {},
   "outputs": [],
   "source": [
    "set.seed(123)\n",
    "ames_bag1 <- bagging(\n",
    "  formula = Sale_Price ~ .,\n",
    "  data = ames_train,\n",
    "  nbagg = 100,  \n",
    "  coob = TRUE,\n",
    "  control = rpart.control(minsplit = 2, cp = 0)\n",
    ")"
   ]
  },
  {
   "cell_type": "code",
   "execution_count": 7,
   "id": "985134fb",
   "metadata": {
    "scrolled": false
   },
   "outputs": [
    {
     "data": {
      "text/plain": [
       "\n",
       "Bagging regression trees with 100 bootstrap replications \n",
       "\n",
       "Call: bagging.data.frame(formula = Sale_Price ~ ., data = ames_train, \n",
       "    nbagg = 100, coob = TRUE, control = rpart.control(minsplit = 2, \n",
       "        cp = 0))\n",
       "\n",
       "Out-of-bag estimate of root mean squared error:  27979.33 \n"
      ]
     },
     "metadata": {},
     "output_type": "display_data"
    }
   ],
   "source": [
    "ames_bag1"
   ]
  },
  {
   "cell_type": "markdown",
   "id": "23f4cedd",
   "metadata": {},
   "source": [
    "### 10-folds CV 배깅"
   ]
  },
  {
   "cell_type": "code",
   "execution_count": 11,
   "id": "f1ae5b75",
   "metadata": {},
   "outputs": [
    {
     "data": {
      "text/plain": [
       "Bagged CART \n",
       "\n",
       "2051 samples\n",
       "  80 predictor\n",
       "\n",
       "No pre-processing\n",
       "Resampling: Cross-Validated (10 fold) \n",
       "Summary of sample sizes: 1845, 1846, 1845, 1845, 1847, 1846, ... \n",
       "Resampling results:\n",
       "\n",
       "  RMSE     Rsquared   MAE     \n",
       "  26844.1  0.8906583  16440.84\n"
      ]
     },
     "metadata": {},
     "output_type": "display_data"
    }
   ],
   "source": [
    "ames_bag2 <- train(\n",
    "    Sale_Price ~ .,\n",
    "    data = ames_train,\n",
    "    method = \"treebag\",\n",
    "    trControl = trainControl(method = \"cv\", number = 10),\n",
    "    nbagg = 200,\n",
    "    control = rpart.control(minsplit = 2, cp = 0)\n",
    ")\n",
    "ames_bag2"
   ]
  },
  {
   "cell_type": "code",
   "execution_count": 12,
   "id": "323f39e6",
   "metadata": {
    "scrolled": false
   },
   "outputs": [
    {
     "data": {
      "text/html": [
       "<dl>\n",
       "\t<dt>$names</dt>\n",
       "\t\t<dd><style>\n",
       ".list-inline {list-style: none; margin:0; padding: 0}\n",
       ".list-inline>li {display: inline-block}\n",
       ".list-inline>li:not(:last-child)::after {content: \"\\00b7\"; padding: 0 .5ex}\n",
       "</style>\n",
       "<ol class=list-inline><li>'method'</li><li>'modelInfo'</li><li>'modelType'</li><li>'results'</li><li>'pred'</li><li>'bestTune'</li><li>'call'</li><li>'dots'</li><li>'metric'</li><li>'control'</li><li>'finalModel'</li><li>'preProcess'</li><li>'trainingData'</li><li>'ptype'</li><li>'resample'</li><li>'resampledCM'</li><li>'perfNames'</li><li>'maximize'</li><li>'yLimits'</li><li>'times'</li><li>'levels'</li><li>'terms'</li><li>'coefnames'</li><li>'contrasts'</li><li>'xlevels'</li></ol>\n",
       "</dd>\n",
       "\t<dt>$class</dt>\n",
       "\t\t<dd><style>\n",
       ".list-inline {list-style: none; margin:0; padding: 0}\n",
       ".list-inline>li {display: inline-block}\n",
       ".list-inline>li:not(:last-child)::after {content: \"\\00b7\"; padding: 0 .5ex}\n",
       "</style>\n",
       "<ol class=list-inline><li>'train'</li><li>'train.formula'</li></ol>\n",
       "</dd>\n",
       "</dl>\n"
      ],
      "text/latex": [
       "\\begin{description}\n",
       "\\item[\\$names] \\begin{enumerate*}\n",
       "\\item 'method'\n",
       "\\item 'modelInfo'\n",
       "\\item 'modelType'\n",
       "\\item 'results'\n",
       "\\item 'pred'\n",
       "\\item 'bestTune'\n",
       "\\item 'call'\n",
       "\\item 'dots'\n",
       "\\item 'metric'\n",
       "\\item 'control'\n",
       "\\item 'finalModel'\n",
       "\\item 'preProcess'\n",
       "\\item 'trainingData'\n",
       "\\item 'ptype'\n",
       "\\item 'resample'\n",
       "\\item 'resampledCM'\n",
       "\\item 'perfNames'\n",
       "\\item 'maximize'\n",
       "\\item 'yLimits'\n",
       "\\item 'times'\n",
       "\\item 'levels'\n",
       "\\item 'terms'\n",
       "\\item 'coefnames'\n",
       "\\item 'contrasts'\n",
       "\\item 'xlevels'\n",
       "\\end{enumerate*}\n",
       "\n",
       "\\item[\\$class] \\begin{enumerate*}\n",
       "\\item 'train'\n",
       "\\item 'train.formula'\n",
       "\\end{enumerate*}\n",
       "\n",
       "\\end{description}\n"
      ],
      "text/markdown": [
       "$names\n",
       ":   1. 'method'\n",
       "2. 'modelInfo'\n",
       "3. 'modelType'\n",
       "4. 'results'\n",
       "5. 'pred'\n",
       "6. 'bestTune'\n",
       "7. 'call'\n",
       "8. 'dots'\n",
       "9. 'metric'\n",
       "10. 'control'\n",
       "11. 'finalModel'\n",
       "12. 'preProcess'\n",
       "13. 'trainingData'\n",
       "14. 'ptype'\n",
       "15. 'resample'\n",
       "16. 'resampledCM'\n",
       "17. 'perfNames'\n",
       "18. 'maximize'\n",
       "19. 'yLimits'\n",
       "20. 'times'\n",
       "21. 'levels'\n",
       "22. 'terms'\n",
       "23. 'coefnames'\n",
       "24. 'contrasts'\n",
       "25. 'xlevels'\n",
       "\n",
       "\n",
       "\n",
       "$class\n",
       ":   1. 'train'\n",
       "2. 'train.formula'\n",
       "\n",
       "\n",
       "\n",
       "\n",
       "\n"
      ],
      "text/plain": [
       "$names\n",
       " [1] \"method\"       \"modelInfo\"    \"modelType\"    \"results\"      \"pred\"        \n",
       " [6] \"bestTune\"     \"call\"         \"dots\"         \"metric\"       \"control\"     \n",
       "[11] \"finalModel\"   \"preProcess\"   \"trainingData\" \"ptype\"        \"resample\"    \n",
       "[16] \"resampledCM\"  \"perfNames\"    \"maximize\"     \"yLimits\"      \"times\"       \n",
       "[21] \"levels\"       \"terms\"        \"coefnames\"    \"contrasts\"    \"xlevels\"     \n",
       "\n",
       "$class\n",
       "[1] \"train\"         \"train.formula\"\n"
      ]
     },
     "metadata": {},
     "output_type": "display_data"
    }
   ],
   "source": [
    "attributes(ames_bag2)"
   ]
  },
  {
   "cell_type": "markdown",
   "id": "443741a5",
   "metadata": {},
   "source": [
    "<img src = \"https://bradleyboehmke.github.io/HOML/08-bagging_files/figure-html/n-bags-plot-1.png\"> "
   ]
  },
  {
   "cell_type": "markdown",
   "id": "647c06c4",
   "metadata": {},
   "source": [
    "* 일반적으로 나무가 많을수록 성능이 좋음\n",
    "- 많은 트리를 추가함에 따라, 더 많은 고분산 결정트리에 대해 평균을 냄\n",
    "- 초기에 편차(오류)가 크게 감소하지만 결국 오류는 일반적으로 평평해지고, 적절한 수의 트리에 도달함을 알 수 있음\n",
    "- **오류를 안정화하기 위해서는 50~100개의 트리면 충분**"
   ]
  },
  {
   "cell_type": "markdown",
   "id": "e3720e7f",
   "metadata": {},
   "source": [
    "### 병렬화\n",
    "- 배깅 프로세스에는 서로 완전히 독립적인 각 부트스트랩 샘플에 모델을 맞추는 작업이 포함\n",
    "- 각 모델을 병렬로 학습할 수 있고, 결과를 최종 모델에 대해 집계"
   ]
  },
  {
   "cell_type": "code",
   "execution_count": 15,
   "id": "cccce8cf",
   "metadata": {},
   "outputs": [],
   "source": [
    "cl <- makeCluster(8) \n",
    "registerDoParallel(cl)"
   ]
  },
  {
   "cell_type": "code",
   "execution_count": 16,
   "id": "155a6f9e",
   "metadata": {},
   "outputs": [],
   "source": [
    "predictions <- foreach(\n",
    "  icount(160), \n",
    "  .packages = \"rpart\", \n",
    "  .combine = cbind\n",
    "  ) %dopar% {\n",
    "    index <- sample(nrow(ames_train), replace = TRUE)\n",
    "    ames_train_boot <- ames_train[index, ]  \n",
    "  \n",
    "    bagged_tree <- rpart(\n",
    "      Sale_Price ~ ., \n",
    "      control = rpart.control(minsplit = 2, cp = 0),\n",
    "      data = ames_train_boot\n",
    "      ) \n",
    "    \n",
    "    predict(bagged_tree, newdata = ames_test)\n",
    "}"
   ]
  },
  {
   "cell_type": "code",
   "execution_count": 18,
   "id": "bd9c21af",
   "metadata": {},
   "outputs": [
    {
     "data": {
      "text/html": [
       "<table class=\"dataframe\">\n",
       "<caption>A matrix: 6 × 160 of type dbl</caption>\n",
       "<thead>\n",
       "\t<tr><th></th><th scope=col>result.1</th><th scope=col>result.2</th><th scope=col>result.3</th><th scope=col>result.4</th><th scope=col>result.5</th><th scope=col>result.6</th><th scope=col>result.7</th><th scope=col>result.8</th><th scope=col>result.9</th><th scope=col>result.10</th><th scope=col>...</th><th scope=col>result.151</th><th scope=col>result.152</th><th scope=col>result.153</th><th scope=col>result.154</th><th scope=col>result.155</th><th scope=col>result.156</th><th scope=col>result.157</th><th scope=col>result.158</th><th scope=col>result.159</th><th scope=col>result.160</th></tr>\n",
       "</thead>\n",
       "<tbody>\n",
       "\t<tr><th scope=row>1</th><td>132000</td><td>139000</td><td>145000</td><td>147000</td><td>147000</td><td>154000</td><td>157500</td><td>180000</td><td>153000</td><td>145250</td><td>...</td><td>140000</td><td>171500</td><td>169000</td><td>157900</td><td>145250</td><td>180000</td><td>163000</td><td>166800</td><td>256000</td><td>242500</td></tr>\n",
       "\t<tr><th scope=row>2</th><td>183000</td><td>244000</td><td>244000</td><td>174850</td><td>244000</td><td>242000</td><td>256000</td><td>200000</td><td>244000</td><td>244000</td><td>...</td><td>237500</td><td>244000</td><td>159500</td><td>235000</td><td>242000</td><td>163000</td><td>229000</td><td>169000</td><td>196750</td><td>160000</td></tr>\n",
       "\t<tr><th scope=row>3</th><td>155000</td><td>226500</td><td>225000</td><td>180000</td><td>236500</td><td>189000</td><td>213750</td><td>180000</td><td>190000</td><td>212000</td><td>...</td><td>180000</td><td>212000</td><td>180000</td><td>191500</td><td>180000</td><td>212000</td><td>236500</td><td>213750</td><td>180000</td><td>180000</td></tr>\n",
       "\t<tr><th scope=row>4</th><td>171500</td><td>189900</td><td>187000</td><td>186500</td><td>168000</td><td>185000</td><td>163000</td><td>171500</td><td>181000</td><td>171500</td><td>...</td><td>170000</td><td>190000</td><td>168000</td><td>198444</td><td>163000</td><td>195500</td><td>181000</td><td>185101</td><td>172400</td><td>198444</td></tr>\n",
       "\t<tr><th scope=row>5</th><td>155000</td><td>221370</td><td>213750</td><td>324000</td><td>162500</td><td>180500</td><td>209500</td><td>247900</td><td>188500</td><td>155000</td><td>...</td><td>214000</td><td>278000</td><td>270000</td><td>212000</td><td>212000</td><td>392000</td><td>214000</td><td>294464</td><td>193800</td><td>217500</td></tr>\n",
       "\t<tr><th scope=row>6</th><td>349265</td><td>315000</td><td>375000</td><td>310000</td><td>403000</td><td>310000</td><td>318300</td><td>582933</td><td>350000</td><td>337000</td><td>...</td><td>556581</td><td>305000</td><td>460000</td><td>361919</td><td>438780</td><td>361919</td><td>457347</td><td>370000</td><td>410000</td><td>325000</td></tr>\n",
       "</tbody>\n",
       "</table>\n"
      ],
      "text/latex": [
       "A matrix: 6 × 160 of type dbl\n",
       "\\begin{tabular}{r|lllllllllllllllllllll}\n",
       "  & result.1 & result.2 & result.3 & result.4 & result.5 & result.6 & result.7 & result.8 & result.9 & result.10 & ... & result.151 & result.152 & result.153 & result.154 & result.155 & result.156 & result.157 & result.158 & result.159 & result.160\\\\\n",
       "\\hline\n",
       "\t1 & 132000 & 139000 & 145000 & 147000 & 147000 & 154000 & 157500 & 180000 & 153000 & 145250 & ... & 140000 & 171500 & 169000 & 157900 & 145250 & 180000 & 163000 & 166800 & 256000 & 242500\\\\\n",
       "\t2 & 183000 & 244000 & 244000 & 174850 & 244000 & 242000 & 256000 & 200000 & 244000 & 244000 & ... & 237500 & 244000 & 159500 & 235000 & 242000 & 163000 & 229000 & 169000 & 196750 & 160000\\\\\n",
       "\t3 & 155000 & 226500 & 225000 & 180000 & 236500 & 189000 & 213750 & 180000 & 190000 & 212000 & ... & 180000 & 212000 & 180000 & 191500 & 180000 & 212000 & 236500 & 213750 & 180000 & 180000\\\\\n",
       "\t4 & 171500 & 189900 & 187000 & 186500 & 168000 & 185000 & 163000 & 171500 & 181000 & 171500 & ... & 170000 & 190000 & 168000 & 198444 & 163000 & 195500 & 181000 & 185101 & 172400 & 198444\\\\\n",
       "\t5 & 155000 & 221370 & 213750 & 324000 & 162500 & 180500 & 209500 & 247900 & 188500 & 155000 & ... & 214000 & 278000 & 270000 & 212000 & 212000 & 392000 & 214000 & 294464 & 193800 & 217500\\\\\n",
       "\t6 & 349265 & 315000 & 375000 & 310000 & 403000 & 310000 & 318300 & 582933 & 350000 & 337000 & ... & 556581 & 305000 & 460000 & 361919 & 438780 & 361919 & 457347 & 370000 & 410000 & 325000\\\\\n",
       "\\end{tabular}\n"
      ],
      "text/markdown": [
       "\n",
       "A matrix: 6 × 160 of type dbl\n",
       "\n",
       "| <!--/--> | result.1 | result.2 | result.3 | result.4 | result.5 | result.6 | result.7 | result.8 | result.9 | result.10 | ... | result.151 | result.152 | result.153 | result.154 | result.155 | result.156 | result.157 | result.158 | result.159 | result.160 |\n",
       "|---|---|---|---|---|---|---|---|---|---|---|---|---|---|---|---|---|---|---|---|---|---|\n",
       "| 1 | 132000 | 139000 | 145000 | 147000 | 147000 | 154000 | 157500 | 180000 | 153000 | 145250 | ... | 140000 | 171500 | 169000 | 157900 | 145250 | 180000 | 163000 | 166800 | 256000 | 242500 |\n",
       "| 2 | 183000 | 244000 | 244000 | 174850 | 244000 | 242000 | 256000 | 200000 | 244000 | 244000 | ... | 237500 | 244000 | 159500 | 235000 | 242000 | 163000 | 229000 | 169000 | 196750 | 160000 |\n",
       "| 3 | 155000 | 226500 | 225000 | 180000 | 236500 | 189000 | 213750 | 180000 | 190000 | 212000 | ... | 180000 | 212000 | 180000 | 191500 | 180000 | 212000 | 236500 | 213750 | 180000 | 180000 |\n",
       "| 4 | 171500 | 189900 | 187000 | 186500 | 168000 | 185000 | 163000 | 171500 | 181000 | 171500 | ... | 170000 | 190000 | 168000 | 198444 | 163000 | 195500 | 181000 | 185101 | 172400 | 198444 |\n",
       "| 5 | 155000 | 221370 | 213750 | 324000 | 162500 | 180500 | 209500 | 247900 | 188500 | 155000 | ... | 214000 | 278000 | 270000 | 212000 | 212000 | 392000 | 214000 | 294464 | 193800 | 217500 |\n",
       "| 6 | 349265 | 315000 | 375000 | 310000 | 403000 | 310000 | 318300 | 582933 | 350000 | 337000 | ... | 556581 | 305000 | 460000 | 361919 | 438780 | 361919 | 457347 | 370000 | 410000 | 325000 |\n",
       "\n"
      ],
      "text/plain": [
       "  result.1 result.2 result.3 result.4 result.5 result.6 result.7 result.8\n",
       "1 132000   139000   145000   147000   147000   154000   157500   180000  \n",
       "2 183000   244000   244000   174850   244000   242000   256000   200000  \n",
       "3 155000   226500   225000   180000   236500   189000   213750   180000  \n",
       "4 171500   189900   187000   186500   168000   185000   163000   171500  \n",
       "5 155000   221370   213750   324000   162500   180500   209500   247900  \n",
       "6 349265   315000   375000   310000   403000   310000   318300   582933  \n",
       "  result.9 result.10 ... result.151 result.152 result.153 result.154 result.155\n",
       "1 153000   145250    ... 140000     171500     169000     157900     145250    \n",
       "2 244000   244000    ... 237500     244000     159500     235000     242000    \n",
       "3 190000   212000    ... 180000     212000     180000     191500     180000    \n",
       "4 181000   171500    ... 170000     190000     168000     198444     163000    \n",
       "5 188500   155000    ... 214000     278000     270000     212000     212000    \n",
       "6 350000   337000    ... 556581     305000     460000     361919     438780    \n",
       "  result.156 result.157 result.158 result.159 result.160\n",
       "1 180000     163000     166800     256000     242500    \n",
       "2 163000     229000     169000     196750     160000    \n",
       "3 212000     236500     213750     180000     180000    \n",
       "4 195500     181000     185101     172400     198444    \n",
       "5 392000     214000     294464     193800     217500    \n",
       "6 361919     457347     370000     410000     325000    "
      ]
     },
     "metadata": {},
     "output_type": "display_data"
    }
   ],
   "source": [
    "predictions %>% head"
   ]
  },
  {
   "cell_type": "code",
   "execution_count": 27,
   "id": "c956e6cd",
   "metadata": {},
   "outputs": [
    {
     "data": {
      "text/html": [
       "<table class=\"dataframe\">\n",
       "<caption>A data.frame: 6 × 4</caption>\n",
       "<thead>\n",
       "\t<tr><th></th><th scope=col>observation</th><th scope=col>actual</th><th scope=col>tree</th><th scope=col>predicted</th></tr>\n",
       "\t<tr><th></th><th scope=col>&lt;int&gt;</th><th scope=col>&lt;int&gt;</th><th scope=col>&lt;chr&gt;</th><th scope=col>&lt;dbl&gt;</th></tr>\n",
       "</thead>\n",
       "<tbody>\n",
       "\t<tr><th scope=row>1</th><td>1</td><td>172000</td><td>result.1</td><td>132000</td></tr>\n",
       "\t<tr><th scope=row>2</th><td>2</td><td>244000</td><td>result.1</td><td>183000</td></tr>\n",
       "\t<tr><th scope=row>3</th><td>3</td><td>213500</td><td>result.1</td><td>155000</td></tr>\n",
       "\t<tr><th scope=row>4</th><td>4</td><td>175900</td><td>result.1</td><td>171500</td></tr>\n",
       "\t<tr><th scope=row>5</th><td>5</td><td>212000</td><td>result.1</td><td>155000</td></tr>\n",
       "\t<tr><th scope=row>6</th><td>6</td><td>538000</td><td>result.1</td><td>349265</td></tr>\n",
       "</tbody>\n",
       "</table>\n"
      ],
      "text/latex": [
       "A data.frame: 6 × 4\n",
       "\\begin{tabular}{r|llll}\n",
       "  & observation & actual & tree & predicted\\\\\n",
       "  & <int> & <int> & <chr> & <dbl>\\\\\n",
       "\\hline\n",
       "\t1 & 1 & 172000 & result.1 & 132000\\\\\n",
       "\t2 & 2 & 244000 & result.1 & 183000\\\\\n",
       "\t3 & 3 & 213500 & result.1 & 155000\\\\\n",
       "\t4 & 4 & 175900 & result.1 & 171500\\\\\n",
       "\t5 & 5 & 212000 & result.1 & 155000\\\\\n",
       "\t6 & 6 & 538000 & result.1 & 349265\\\\\n",
       "\\end{tabular}\n"
      ],
      "text/markdown": [
       "\n",
       "A data.frame: 6 × 4\n",
       "\n",
       "| <!--/--> | observation &lt;int&gt; | actual &lt;int&gt; | tree &lt;chr&gt; | predicted &lt;dbl&gt; |\n",
       "|---|---|---|---|---|\n",
       "| 1 | 1 | 172000 | result.1 | 132000 |\n",
       "| 2 | 2 | 244000 | result.1 | 183000 |\n",
       "| 3 | 3 | 213500 | result.1 | 155000 |\n",
       "| 4 | 4 | 175900 | result.1 | 171500 |\n",
       "| 5 | 5 | 212000 | result.1 | 155000 |\n",
       "| 6 | 6 | 538000 | result.1 | 349265 |\n",
       "\n"
      ],
      "text/plain": [
       "  observation actual tree     predicted\n",
       "1 1           172000 result.1 132000   \n",
       "2 2           244000 result.1 183000   \n",
       "3 3           213500 result.1 155000   \n",
       "4 4           175900 result.1 171500   \n",
       "5 5           212000 result.1 155000   \n",
       "6 6           538000 result.1 349265   "
      ]
     },
     "metadata": {},
     "output_type": "display_data"
    }
   ],
   "source": [
    "predictions %>%\n",
    "  as.data.frame() %>%\n",
    "  mutate(\n",
    "    observation = 1:n(),\n",
    "    actual = ames_test$Sale_Price) %>% \n",
    "  tidyr::gather(tree, predicted, -c(observation, actual)) %>% head"
   ]
  },
  {
   "cell_type": "code",
   "execution_count": 29,
   "id": "f05a0743",
   "metadata": {},
   "outputs": [
    {
     "data": {
      "text/html": [
       "<table class=\"dataframe\">\n",
       "<caption>A tibble: 6 × 4</caption>\n",
       "<thead>\n",
       "\t<tr><th scope=col>observation</th><th scope=col>actual</th><th scope=col>tree</th><th scope=col>predicted</th></tr>\n",
       "\t<tr><th scope=col>&lt;int&gt;</th><th scope=col>&lt;int&gt;</th><th scope=col>&lt;dbl&gt;</th><th scope=col>&lt;dbl&gt;</th></tr>\n",
       "</thead>\n",
       "<tbody>\n",
       "\t<tr><td>1</td><td>172000</td><td>1</td><td>132000</td></tr>\n",
       "\t<tr><td>1</td><td>172000</td><td>2</td><td>139000</td></tr>\n",
       "\t<tr><td>1</td><td>172000</td><td>3</td><td>145000</td></tr>\n",
       "\t<tr><td>1</td><td>172000</td><td>4</td><td>147000</td></tr>\n",
       "\t<tr><td>1</td><td>172000</td><td>5</td><td>147000</td></tr>\n",
       "\t<tr><td>1</td><td>172000</td><td>6</td><td>154000</td></tr>\n",
       "</tbody>\n",
       "</table>\n"
      ],
      "text/latex": [
       "A tibble: 6 × 4\n",
       "\\begin{tabular}{llll}\n",
       " observation & actual & tree & predicted\\\\\n",
       " <int> & <int> & <dbl> & <dbl>\\\\\n",
       "\\hline\n",
       "\t 1 & 172000 & 1 & 132000\\\\\n",
       "\t 1 & 172000 & 2 & 139000\\\\\n",
       "\t 1 & 172000 & 3 & 145000\\\\\n",
       "\t 1 & 172000 & 4 & 147000\\\\\n",
       "\t 1 & 172000 & 5 & 147000\\\\\n",
       "\t 1 & 172000 & 6 & 154000\\\\\n",
       "\\end{tabular}\n"
      ],
      "text/markdown": [
       "\n",
       "A tibble: 6 × 4\n",
       "\n",
       "| observation &lt;int&gt; | actual &lt;int&gt; | tree &lt;dbl&gt; | predicted &lt;dbl&gt; |\n",
       "|---|---|---|---|\n",
       "| 1 | 172000 | 1 | 132000 |\n",
       "| 1 | 172000 | 2 | 139000 |\n",
       "| 1 | 172000 | 3 | 145000 |\n",
       "| 1 | 172000 | 4 | 147000 |\n",
       "| 1 | 172000 | 5 | 147000 |\n",
       "| 1 | 172000 | 6 | 154000 |\n",
       "\n"
      ],
      "text/plain": [
       "  observation actual tree predicted\n",
       "1 1           172000 1    132000   \n",
       "2 1           172000 2    139000   \n",
       "3 1           172000 3    145000   \n",
       "4 1           172000 4    147000   \n",
       "5 1           172000 5    147000   \n",
       "6 1           172000 6    154000   "
      ]
     },
     "metadata": {},
     "output_type": "display_data"
    }
   ],
   "source": [
    "predictions %>%\n",
    "  as.data.frame() %>%\n",
    "  mutate(\n",
    "    observation = 1:n(),\n",
    "    actual = ames_test$Sale_Price) %>% \n",
    "  tidyr::gather(tree, predicted, -c(observation, actual)) %>% \n",
    "  group_by(observation) %>%\n",
    "  mutate(tree = stringr::str_extract(tree, '\\\\d+') %>% as.numeric()) %>%\n",
    "  ungroup() %>%\n",
    "  arrange(observation, tree) %>% head"
   ]
  },
  {
   "cell_type": "code",
   "execution_count": 30,
   "id": "f450060d",
   "metadata": {},
   "outputs": [
    {
     "data": {
      "text/html": [
       "<table class=\"dataframe\">\n",
       "<caption>A tibble: 6 × 2</caption>\n",
       "<thead>\n",
       "\t<tr><th scope=col>tree</th><th scope=col>RMSE</th></tr>\n",
       "\t<tr><th scope=col>&lt;dbl&gt;</th><th scope=col>&lt;dbl&gt;</th></tr>\n",
       "</thead>\n",
       "<tbody>\n",
       "\t<tr><td>1</td><td>41221.63</td></tr>\n",
       "\t<tr><td>2</td><td>37230.25</td></tr>\n",
       "\t<tr><td>3</td><td>34529.76</td></tr>\n",
       "\t<tr><td>4</td><td>33050.74</td></tr>\n",
       "\t<tr><td>5</td><td>32720.39</td></tr>\n",
       "\t<tr><td>6</td><td>32073.40</td></tr>\n",
       "</tbody>\n",
       "</table>\n"
      ],
      "text/latex": [
       "A tibble: 6 × 2\n",
       "\\begin{tabular}{ll}\n",
       " tree & RMSE\\\\\n",
       " <dbl> & <dbl>\\\\\n",
       "\\hline\n",
       "\t 1 & 41221.63\\\\\n",
       "\t 2 & 37230.25\\\\\n",
       "\t 3 & 34529.76\\\\\n",
       "\t 4 & 33050.74\\\\\n",
       "\t 5 & 32720.39\\\\\n",
       "\t 6 & 32073.40\\\\\n",
       "\\end{tabular}\n"
      ],
      "text/markdown": [
       "\n",
       "A tibble: 6 × 2\n",
       "\n",
       "| tree &lt;dbl&gt; | RMSE &lt;dbl&gt; |\n",
       "|---|---|\n",
       "| 1 | 41221.63 |\n",
       "| 2 | 37230.25 |\n",
       "| 3 | 34529.76 |\n",
       "| 4 | 33050.74 |\n",
       "| 5 | 32720.39 |\n",
       "| 6 | 32073.40 |\n",
       "\n"
      ],
      "text/plain": [
       "  tree RMSE    \n",
       "1 1    41221.63\n",
       "2 2    37230.25\n",
       "3 3    34529.76\n",
       "4 4    33050.74\n",
       "5 5    32720.39\n",
       "6 6    32073.40"
      ]
     },
     "metadata": {},
     "output_type": "display_data"
    }
   ],
   "source": [
    "predictions %>%\n",
    "  as.data.frame() %>%\n",
    "  mutate(\n",
    "    observation = 1:n(),\n",
    "    actual = ames_test$Sale_Price) %>%\n",
    "  tidyr::gather(tree, predicted, -c(observation, actual)) %>%\n",
    "  group_by(observation) %>%\n",
    "  mutate(tree = stringr::str_extract(tree, '\\\\d+') %>% as.numeric()) %>%\n",
    "  ungroup() %>%\n",
    "  arrange(observation, tree) %>%\n",
    "  group_by(observation) %>%\n",
    "  mutate(avg_prediction = cummean(predicted)) %>%\n",
    "  group_by(tree) %>%\n",
    "  summarize(RMSE = RMSE(avg_prediction, actual)) %>% head"
   ]
  },
  {
   "cell_type": "code",
   "execution_count": 19,
   "id": "f6a7dae1",
   "metadata": {},
   "outputs": [
    {
     "data": {
      "image/png": "[encoded data removed]",
      "text/plain": [
       "plot without title"
      ]
     },
     "metadata": {
      "image/png": {
       "height": 420,
       "width": 420
      }
     },
     "output_type": "display_data"
    }
   ],
   "source": [
    "predictions %>%\n",
    "  as.data.frame() %>%\n",
    "  mutate(\n",
    "    observation = 1:n(),\n",
    "    actual = ames_test$Sale_Price) %>%\n",
    "  tidyr::gather(tree, predicted, -c(observation, actual)) %>%\n",
    "  group_by(observation) %>%\n",
    "  mutate(tree = stringr::str_extract(tree, '\\\\d+') %>% as.numeric()) %>%\n",
    "  ungroup() %>%\n",
    "  arrange(observation, tree) %>%\n",
    "  group_by(observation) %>%\n",
    "  mutate(avg_prediction = cummean(predicted)) %>%\n",
    "  group_by(tree) %>%\n",
    "  summarize(RMSE = RMSE(avg_prediction, actual)) %>%\n",
    "  ggplot(aes(tree, RMSE)) +\n",
    "  geom_line() +\n",
    "  xlab('Number of trees')"
   ]
  },
  {
   "cell_type": "code",
   "execution_count": 20,
   "id": "77df9481",
   "metadata": {},
   "outputs": [],
   "source": [
    "stopCluster(cl)"
   ]
  },
  {
   "cell_type": "markdown",
   "id": "5d962a1c",
   "metadata": {},
   "source": [
    "### 변수 중요도"
   ]
  },
  {
   "cell_type": "code",
   "execution_count": 26,
   "id": "be8715ff",
   "metadata": {},
   "outputs": [
    {
     "data": {
      "image/png": "[encoded data removed]",
      "text/plain": [
       "plot without title"
      ]
     },
     "metadata": {
      "image/png": {
       "height": 420,
       "width": 420
      }
     },
     "output_type": "display_data"
    }
   ],
   "source": [
    "vip::vip(ames_bag2, num_features = 20)"
   ]
  },
  {
   "cell_type": "markdown",
   "id": "25c992b6",
   "metadata": {},
   "source": [
    "### PDP"
   ]
  },
  {
   "cell_type": "code",
   "execution_count": 28,
   "id": "2ec8fdd4",
   "metadata": {},
   "outputs": [
    {
     "name": "stderr",
     "output_type": "stream",
     "text": [
      "Warning message:\n",
      "\"Use of `object[[1L]]` is discouraged. Use `.data[[1L]]` instead.\"\n",
      "Warning message:\n",
      "\"Use of `object[[\"yhat\"]]` is discouraged. Use `.data[[\"yhat\"]]` instead.\"\n",
      "Warning message:\n",
      "\"Use of `object[[1L]]` is discouraged. Use `.data[[1L]]` instead.\"\n",
      "Warning message:\n",
      "\"Use of `object[[\"yhat\"]]` is discouraged. Use `.data[[\"yhat\"]]` instead.\"\n"
     ]
    },
    {
     "data": {
      "image/png": "[encoded data removed]",
      "text/plain": [
       "plot without title"
      ]
     },
     "metadata": {
      "image/png": {
       "height": 420,
       "width": 420
      }
     },
     "output_type": "display_data"
    }
   ],
   "source": [
    "p1 <- pdp::partial(\n",
    "  ames_bag2, \n",
    "  pred.var = \"Lot_Area\",\n",
    "  grid.resolution = 20\n",
    "  ) %>% \n",
    "  autoplot()\n",
    "\n",
    "p2 <- pdp::partial(\n",
    "  ames_bag2, \n",
    "  pred.var = \"Lot_Frontage\", \n",
    "  grid.resolution = 20\n",
    "  ) %>% \n",
    "  autoplot()\n",
    "\n",
    "gridExtra::grid.arrange(p1, p2, nrow = 1)"
   ]
  }
 ],
 "metadata": {
  "kernelspec": {
   "display_name": "R 4.1.3",
   "language": "R",
   "name": "ir32"
  },
  "language_info": {
   "codemirror_mode": "r",
   "file_extension": ".r",
   "mimetype": "text/x-r-source",
   "name": "R",
   "pygments_lexer": "r",
   "version": "4.1.3"
  }
 },
 "nbformat": 4,
 "nbformat_minor": 5
}
