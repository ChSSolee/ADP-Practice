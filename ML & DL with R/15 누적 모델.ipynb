{
 "cells": [
  {
   "cell_type": "code",
   "execution_count": 2,
   "id": "f758b35e",
   "metadata": {},
   "outputs": [],
   "source": [
    "library(rsample)\n",
    "library(recipes)\n",
    "library(h2o)"
   ]
  },
  {
   "cell_type": "code",
   "execution_count": 3,
   "id": "508c9050",
   "metadata": {},
   "outputs": [],
   "source": [
    "ames <- AmesHousing::make_ames()\n",
    "set.seed(123) \n",
    "split <- initial_split(ames, strata = \"Sale_Price\")\n",
    "ames_train <- training(split)\n",
    "ames_test <- testing(split)"
   ]
  },
  {
   "cell_type": "code",
   "execution_count": 10,
   "id": "7d4ad064",
   "metadata": {},
   "outputs": [
    {
     "name": "stdout",
     "output_type": "stream",
     "text": [
      " Connection successful!\n",
      "\n",
      "R is connected to the H2O cluster: \n",
      "    H2O cluster uptime:         15 hours 41 minutes \n",
      "    H2O cluster timezone:       Asia/Seoul \n",
      "    H2O data parsing timezone:  UTC \n",
      "    H2O cluster version:        3.36.0.4 \n",
      "    H2O cluster version age:    8 days  \n",
      "    H2O cluster name:           H2O_started_from_R_apf_temp_admin_tgm898 \n",
      "    H2O cluster total nodes:    1 \n",
      "    H2O cluster total memory:   8.59 GB \n",
      "    H2O cluster total cores:    4 \n",
      "    H2O cluster allowed cores:  4 \n",
      "    H2O cluster healthy:        TRUE \n",
      "    H2O Connection ip:          localhost \n",
      "    H2O Connection port:        54321 \n",
      "    H2O Connection proxy:       NA \n",
      "    H2O Internal Security:      FALSE \n",
      "    R Version:                  R version 4.1.3 (2022-03-10) \n",
      "\n"
     ]
    }
   ],
   "source": [
    "h2o.no_progress()\n",
    "h2o.init()"
   ]
  },
  {
   "cell_type": "markdown",
   "id": "53002952",
   "metadata": {},
   "source": [
    "- step_other() - 범주형 변수의 level이 여러개일 때, 하위 범주를 기타로 묶음\n",
    "\n",
    "    -threshold = 0.05 - 하위 5% 범주는 기타로 묶임\n"
   ]
  },
  {
   "cell_type": "code",
   "execution_count": 4,
   "id": "64e4c8e2",
   "metadata": {},
   "outputs": [],
   "source": [
    "blueprint <- recipe(Sale_Price ~ ., data = ames_train) %>%\n",
    "    step_other(all_nominal(), threshold = 0.005)"
   ]
  },
  {
   "cell_type": "code",
   "execution_count": 11,
   "id": "569f29a1",
   "metadata": {},
   "outputs": [],
   "source": [
    "train_h2o <- prep(blueprint, training = ames_train, retain = T) %>%\n",
    "    juice() %>%\n",
    "    as.h2o()\n",
    "test_h2o <- prep(blueprint, training = ames_test) %>%\n",
    "    juice() %>%\n",
    "    as.h2o()"
   ]
  },
  {
   "cell_type": "code",
   "execution_count": 12,
   "id": "d480bec0",
   "metadata": {},
   "outputs": [],
   "source": [
    "Y <- \"Sale_Price\" ; X <- setdiff(names(ames_train), Y)"
   ]
  },
  {
   "cell_type": "markdown",
   "id": "be967657",
   "metadata": {},
   "source": [
    "## 누적 모델\n",
    "- 여러 기본 학습기의 예측을 결합"
   ]
  },
  {
   "cell_type": "markdown",
   "id": "e65663df",
   "metadata": {},
   "source": [
    "### 공통 앙상블 방법\n",
    "- 하나의 최상의 모델을 선택하는 것이 아닌, 여러 모델을 결합"
   ]
  },
  {
   "cell_type": "markdown",
   "id": "f11b8e37",
   "metadata": {},
   "source": [
    "### 슈퍼 러닝 알고리즘\n",
    "\n",
    "1. 앙상블 구성\n",
    "    - 학습기로 구성된 목록 L 구성\n",
    "    - 메타 학습 알고리즘 구성 (대부분은 일종의 정규화 회귀)\n",
    "2. 훈련\n",
    "    - 각각의 각습기에 대해 K-fold CV수행\n",
    "    - 각각에서 교차 검증된 예측 수집\n",
    "3. 예측\n",
    "    - 앙상블 예측을 생성하려면 먼저 기본 학습기로부터 예측을 생성\n",
    "    - 앙상블 예측을 생성하기 위해 이러한 예측을 메타 학습기에 제공"
   ]
  },
  {
   "cell_type": "markdown",
   "id": "479aadaa",
   "metadata": {},
   "source": [
    "### 기존 모델 쌓기 (Stacking)"
   ]
  },
  {
   "cell_type": "markdown",
   "id": "ba19f984",
   "metadata": {},
   "source": [
    "#### 1. 정규화 회귀\n",
    "#### 2. 랜덤포레스트\n",
    "#### 3. GBM\n",
    "#### 4. XGBoost"
   ]
  },
  {
   "cell_type": "markdown",
   "id": "b373740c",
   "metadata": {},
   "source": [
    "- 각 모델을 개별적으로 훈련\n",
    "1. 모든 모델은 동일한 훈련 세트에서 훈련\n",
    "2. 모든 모델은 동일한 수의 CV폴드로 훈련\n",
    "3. 모든 모델은 동일한 관측값이 사용되도록 동일한 fold 할당을 사용\n",
    "- ```fold_assignment = \"Modulo\"```\n",
    "4. 모든 모델의 교차검증된 예측값은 보존되어야 함\n",
    "- ```keep_cross_validation_prerdictions = T```"
   ]
  },
  {
   "cell_type": "code",
   "execution_count": 15,
   "id": "68a8c208",
   "metadata": {},
   "outputs": [],
   "source": [
    "best_glm <- h2o.glm(\n",
    "    x = X, y = Y, \n",
    "    training_frame = train_h2o, alpha = 0.1,\n",
    "    remove_collinear_columns = TRUE, nfolds = 10, \n",
    "    fold_assignment = \"Modulo\",\n",
    "    keep_cross_validation_predictions = TRUE, \n",
    "    seed = 123\n",
    ")"
   ]
  },
  {
   "cell_type": "code",
   "execution_count": null,
   "id": "50557375",
   "metadata": {},
   "outputs": [],
   "source": [
    "best_rf <- h2o.randomForest(\n",
    "    x = X, y = Y, training_frame = train_h2o, \n",
    "    ntrees = 1000, mtries = 20,\n",
    "    max_depth = 30, min_rows = 1, sample_rate = 0.8, nfolds = 10,\n",
    "    fold_assignment = \"Modulo\", keep_cross_validation_predictions = TRUE,\n",
    "    seed = 123, \n",
    "    stopping_rounds = 50, stopping_metric = \"RMSE\", stopping_tolerance = 0\n",
    ")"
   ]
  },
  {
   "cell_type": "code",
   "execution_count": null,
   "id": "c3cec0c9",
   "metadata": {},
   "outputs": [],
   "source": [
    "best_gbm <- h2o.gbm(\n",
    "    x = X, y = Y, training_frame = train_h2o, \n",
    "    ntrees = 5000, learn_rate = 0.01,\n",
    "    max_depth = 7, min_rows = 5, sample_rate = 0.8, nfolds = 10,\n",
    "    fold_assignment = \"Modulo\", keep_cross_validation_predictions = TRUE,\n",
    "    seed = 123, \n",
    "    stopping_rounds = 50, stopping_metric = \"RMSE\", stopping_tolerance = 0\n",
    ")"
   ]
  },
  {
   "cell_type": "code",
   "execution_count": null,
   "id": "105155dd",
   "metadata": {},
   "outputs": [],
   "source": [
    "best_xgb <- h2o.xgboost(\n",
    "    x = X, y = Y, training_frame = train_h2o, \n",
    "    ntrees = 5000, learn_rate = 0.05,\n",
    "    max_depth = 3, min_rows = 3, sample_rate = 0.8, categorical_encoding = \"Enum\",\n",
    "    nfolds = 10, fold_assignment = \"Modulo\", \n",
    "    keep_cross_validation_predictions = TRUE, \n",
    "    seed = 123, \n",
    "    stopping_rounds = 50, stopping_metric = \"RMSE\", stopping_tolerance = 0\n",
    ")"
   ]
  },
  {
   "cell_type": "markdown",
   "id": "9e32a20e",
   "metadata": {},
   "source": [
    "### 앙상블 모형 생성 & 적합\n",
    "### ```h2o.stackedEnsemble()```\n",
    "- 모델 스택\n",
    "- ```base_models = list()``` \n",
    "- ```metalearner_algorithm``` : ```\"AUTO\"```, ```\"deeplearning\"```, ```\"drf\"```, ```\"gbm\"```, ```\"glm\"```, ```\"naivebayes\"```, ```\"xgboost\"```"
   ]
  },
  {
   "cell_type": "markdown",
   "id": "86942a2c",
   "metadata": {},
   "source": [
    "- 메타 학습 알고리즘으로 랜덤포레스트 적용"
   ]
  },
  {
   "cell_type": "code",
   "execution_count": 14,
   "id": "d4835fd2",
   "metadata": {},
   "outputs": [],
   "source": [
    "ensemble_tree <- h2o.stackedEnsemble(\n",
    "  x = X, y = Y, training_frame = train_h2o, model_id = \"my_tree_ensemble\",\n",
    "  base_models = list(best_glm, best_rf, best_gbm, best_xgb),\n",
    "  metalearner_algorithm = \"drf\"\n",
    ")"
   ]
  },
  {
   "cell_type": "code",
   "execution_count": null,
   "id": "ac9600b6",
   "metadata": {},
   "outputs": [],
   "source": [
    "ensemble_tree\n",
    "attributes(ensemble_tree)"
   ]
  },
  {
   "cell_type": "markdown",
   "id": "b4590320",
   "metadata": {},
   "source": [
    "### 앙상블 모형 평가"
   ]
  },
  {
   "cell_type": "code",
   "execution_count": null,
   "id": "07329048",
   "metadata": {},
   "outputs": [],
   "source": [
    "h2o.performance(ensemble_tree, newdata = test_h2o)"
   ]
  },
  {
   "cell_type": "markdown",
   "id": "e7ddf011",
   "metadata": {},
   "source": [
    "### 학습기별 예측값의 상관관계"
   ]
  },
  {
   "cell_type": "code",
   "execution_count": null,
   "id": "a9d56463",
   "metadata": {},
   "outputs": [],
   "source": [
    "glm_res <- h2o.performance(best_glm, newdata = test_h2o)\n",
    "rf_res <- h2o.performance(best_rf, newdata = test_h2o)\n",
    "gbm_res <- h2o.performance(best_gbm, newdata = test_h2o)\n",
    "xgb_res <- h2o.performance(best_xgboost, newdata = test_h2o)"
   ]
  },
  {
   "cell_type": "markdown",
   "id": "379b8a83",
   "metadata": {},
   "source": [
    "### 그리드 서치 Stacking\n",
    "#### - 그리드 서치에서 각 모델의 이점을 활용하여 메타모델 생성 \n",
    "#### - 각 그리드서치 모델의 결과에서 높은 변동성을 보이는 경우 유용"
   ]
  },
  {
   "cell_type": "code",
   "execution_count": null,
   "id": "e631b82f",
   "metadata": {},
   "outputs": [],
   "source": [
    "hyper_grid <- list(\n",
    "  max_depth = c(1, 3, 5),\n",
    "  min_rows = c(1, 5, 10),\n",
    "  learn_rate = c(0.01, 0.05, 0.1),\n",
    "  learn_rate_annealing = c(0.99, 1),\n",
    "  sample_rate = c(0.5, 0.75, 1),\n",
    "  col_sample_rate = c(0.8, 0.9, 1)\n",
    ")"
   ]
  },
  {
   "cell_type": "code",
   "execution_count": null,
   "id": "d6665a9c",
   "metadata": {},
   "outputs": [],
   "source": [
    "search_criteria <- list(\n",
    "  strategy = \"RandomDiscrete\",\n",
    "  max_models = 25\n",
    ")"
   ]
  },
  {
   "cell_type": "code",
   "execution_count": null,
   "id": "eed40ea3",
   "metadata": {},
   "outputs": [],
   "source": [
    "random_grid <- h2o.grid(\n",
    "  algorithm = \"gbm\", grid_id = \"gbm_grid\", x = X, y = Y,\n",
    "  training_frame = train_h2o, hyper_params = hyper_grid,\n",
    "  search_criteria = search_criteria, ntrees = 5000, stopping_metric = \"RMSE\",     \n",
    "  stopping_rounds = 10, stopping_tolerance = 0, nfolds = 10, \n",
    "  fold_assignment = \"Modulo\", keep_cross_validation_predictions = TRUE,\n",
    "  seed = 123\n",
    ")"
   ]
  },
  {
   "cell_type": "markdown",
   "id": "046ef49d",
   "metadata": {},
   "source": [
    "#### - hyper_grid에서 랜덤으로 조합된 25개의 조합으로 25개의 모형을 생성"
   ]
  },
  {
   "cell_type": "code",
   "execution_count": null,
   "id": "85429b0a",
   "metadata": {},
   "outputs": [],
   "source": [
    "h2o.getGrid(\n",
    "  grid_id = \"gbm_grid\", \n",
    "  sort_by = \"rmse\"\n",
    ")"
   ]
  },
  {
   "cell_type": "markdown",
   "id": "7e1a2a41",
   "metadata": {},
   "source": [
    "#### 25개중 최적 모델"
   ]
  },
  {
   "cell_type": "code",
   "execution_count": null,
   "id": "5da1e372",
   "metadata": {},
   "outputs": [],
   "source": [
    "best_model_id <- random_grid_perf@model_ids[[1]]\n",
    "best_model <- h2o.getModel(best_model_id)\n",
    "h2o.performance(best_model, newdata = test_h2o)"
   ]
  },
  {
   "cell_type": "markdown",
   "id": "816f225d",
   "metadata": {},
   "source": [
    "#### 최적의모델 1개만 사용하는 대신, 그리드서치의 모든 모델을 결합\n",
    "- ```base_models```를 그리드서치의 모델들로"
   ]
  },
  {
   "cell_type": "code",
   "execution_count": null,
   "id": "19278143",
   "metadata": {},
   "outputs": [],
   "source": [
    "ensemble <- h2o.stackedEnsemble(\n",
    "    x = X, y = Y, training_frame = train_h2o, model_id = \"ensemble_gbm_grid\",\n",
    "    base_models = random_grid@model_ids, # 그리드서치의 모든 모델\n",
    "    metalearner_algorithm = \"gbm\"\n",
    ")"
   ]
  },
  {
   "cell_type": "markdown",
   "id": "896f38fd",
   "metadata": {},
   "source": [
    "### 자동화된 머신러닝 (AutoML)\n",
    "- 여러 학습기에 대해 자동화된 검색을 수행한 다음 결과 모델을 쌓는 것"
   ]
  },
  {
   "cell_type": "markdown",
   "id": "4763848e",
   "metadata": {},
   "source": [
    "### ```h2o.automl()```"
   ]
  },
  {
   "cell_type": "code",
   "execution_count": 2,
   "id": "01980aa1",
   "metadata": {},
   "outputs": [],
   "source": [
    "auto_ml <- h2o.automl(\n",
    "  x = X, y = Y, training_frame = train_h2o, nfolds = 5, \n",
    "  max_runtime_secs = 60 * 10, max_models = 50,\n",
    "  keep_cross_validation_predictions = TRUE, sort_metric = \"RMSE\", \n",
    "    seed = 123,\n",
    "  stopping_rounds = 50, stopping_metric = \"RMSE\", stopping_tolerance = 0\n",
    ")"
   ]
  },
  {
   "cell_type": "code",
   "execution_count": null,
   "id": "5e9b23c5",
   "metadata": {},
   "outputs": [],
   "source": [
    "auto_ml"
   ]
  },
  {
   "cell_type": "code",
   "execution_count": null,
   "id": "07bd568f",
   "metadata": {},
   "outputs": [],
   "source": [
    "attributes(auto_ml)"
   ]
  },
  {
   "cell_type": "code",
   "execution_count": null,
   "id": "fc3db692",
   "metadata": {},
   "outputs": [],
   "source": [
    "auto_ml@leaderboard %>% \n",
    "  as.data.frame() %>%\n",
    "  dplyr::select(model_id, rmse) %>%\n",
    "  dplyr::slice(1:25)"
   ]
  }
 ],
 "metadata": {
  "kernelspec": {
   "display_name": "R 4.1.3",
   "language": "R",
   "name": "ir32"
  },
  "language_info": {
   "codemirror_mode": "r",
   "file_extension": ".r",
   "mimetype": "text/x-r-source",
   "name": "R",
   "pygments_lexer": "r",
   "version": "4.1.3"
  }
 },
 "nbformat": 4,
 "nbformat_minor": 5
}
