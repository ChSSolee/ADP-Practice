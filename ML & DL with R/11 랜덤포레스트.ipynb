{
 "cells": [
  {
   "cell_type": "code",
   "execution_count": 2,
   "id": "da826cba",
   "metadata": {},
   "outputs": [],
   "source": [
    "library(tidyverse)\n",
    "\n",
    "library(ranger)\n",
    "library(h2o)"
   ]
  },
  {
   "cell_type": "code",
   "execution_count": 3,
   "id": "612d616e",
   "metadata": {},
   "outputs": [],
   "source": [
    "ames <- ames <- AmesHousing::make_ames()\n",
    "index <- sample(1:dim(ames)[1], 0.7*dim(ames)[1])\n",
    "ames_train <- ames[index,]\n",
    "ames_test <- ames[-index,]"
   ]
  },
  {
   "cell_type": "markdown",
   "id": "fea6bf09",
   "metadata": {},
   "source": [
    "## 랜덤포레스트\n",
    "- 예측 성능을 향상시키기위해 상관관계가 없는 트리의 대규모 컬렉션\n",
    "- 비교적 적은 초매개변수로 우수한 예측 성능"
   ]
  },
  {
   "cell_type": "markdown",
   "id": "56c61e1c",
   "metadata": {},
   "source": [
    "### 배깅의 확장\n",
    "#### - 랜덤포레스트는 트리 성장과정에 더 많은 무작위성을 주임하여 트리상관관계를 줄임\n",
    "- 트리를 성장시키는 동안 **분할 변수의 랜덤화**\n",
    "- 회귀의 경우 mtry = p / 3\n",
    "- 분류의 경우 mtry = sqrt(p)\n",
    "- 훈련할 부트스트랩 샘플과 각 분할에서 사용할 변수를 무작위로 선택하기 대문에, 더 다양한 트리세트가 생성되어, 상관관계가 줄어들고 예측력이 증가"
   ]
  },
  {
   "cell_type": "markdown",
   "id": "1609d95f",
   "metadata": {},
   "source": [
    "1. 주어진 훈련 데이터 세트 \n",
    "2. 구축할 트리 수 선택(n_trees) \n",
    "3. i = 1에서 n_trees까지 \n",
    "4. | 원본 데이터의 부트스트랩 샘플 생성 \n",
    "5. | 부트스트랩된 데이터로 회귀/분류 트리 성장 \n",
    "6. | 각 분할에 대해 \n",
    "7. | | 모든 p 변수에서 무작위로 m_try 변수 선택 \n",
    "8. | | m_try 중에서 가장 좋은 변수/분할점을 선택.\n",
    "9. | | 노드를 두 개의 자식 노드로 분할 \n",
    "10. | 끝\n",
    "11. | 일반적인 트리 모델 정지기준을 사용하여 언제 나무가 완성되는지 결정 (하지만 가지치기는 안함) \n",
    "12. 끝 \n",
    "13. 트리 출력 앙상블"
   ]
  },
  {
   "cell_type": "markdown",
   "id": "4e4bfa43",
   "metadata": {},
   "source": [
    "### ```ranger::ranger()```\n",
    "- ```mtry``` : 트리 생성에 사용할 변수의 수\n",
    "- ```respect.unordered.factors = \"order\"``` : 이것은 정렬되지 않은 범주형 변수를 순서로 정렬"
   ]
  },
  {
   "cell_type": "code",
   "execution_count": 9,
   "id": "c58c44cd",
   "metadata": {},
   "outputs": [
    {
     "data": {
      "text/html": [
       "80"
      ],
      "text/latex": [
       "80"
      ],
      "text/markdown": [
       "80"
      ],
      "text/plain": [
       "[1] 80"
      ]
     },
     "metadata": {},
     "output_type": "display_data"
    }
   ],
   "source": [
    "(n_features <- length(setdiff(names(ames_train), \"Sale_Price\")))"
   ]
  },
  {
   "cell_type": "code",
   "execution_count": 5,
   "id": "9f758d6b",
   "metadata": {},
   "outputs": [],
   "source": [
    "ames_rf1 <- ranger(\n",
    "  Sale_Price ~ ., \n",
    "  data = ames_train,\n",
    "  mtry = floor(n_features / 3),\n",
    "  respect.unordered.factors = \"order\",\n",
    "  seed = 123\n",
    ")"
   ]
  },
  {
   "cell_type": "code",
   "execution_count": 6,
   "id": "4c90b3d5",
   "metadata": {
    "scrolled": true
   },
   "outputs": [
    {
     "data": {
      "text/html": [
       "<dl>\n",
       "\t<dt>$names</dt>\n",
       "\t\t<dd><style>\n",
       ".list-inline {list-style: none; margin:0; padding: 0}\n",
       ".list-inline>li {display: inline-block}\n",
       ".list-inline>li:not(:last-child)::after {content: \"\\00b7\"; padding: 0 .5ex}\n",
       "</style>\n",
       "<ol class=list-inline><li>'predictions'</li><li>'num.trees'</li><li>'num.independent.variables'</li><li>'mtry'</li><li>'min.node.size'</li><li>'prediction.error'</li><li>'forest'</li><li>'splitrule'</li><li>'treetype'</li><li>'r.squared'</li><li>'call'</li><li>'importance.mode'</li><li>'num.samples'</li><li>'replace'</li></ol>\n",
       "</dd>\n",
       "\t<dt>$class</dt>\n",
       "\t\t<dd>'ranger'</dd>\n",
       "</dl>\n"
      ],
      "text/latex": [
       "\\begin{description}\n",
       "\\item[\\$names] \\begin{enumerate*}\n",
       "\\item 'predictions'\n",
       "\\item 'num.trees'\n",
       "\\item 'num.independent.variables'\n",
       "\\item 'mtry'\n",
       "\\item 'min.node.size'\n",
       "\\item 'prediction.error'\n",
       "\\item 'forest'\n",
       "\\item 'splitrule'\n",
       "\\item 'treetype'\n",
       "\\item 'r.squared'\n",
       "\\item 'call'\n",
       "\\item 'importance.mode'\n",
       "\\item 'num.samples'\n",
       "\\item 'replace'\n",
       "\\end{enumerate*}\n",
       "\n",
       "\\item[\\$class] 'ranger'\n",
       "\\end{description}\n"
      ],
      "text/markdown": [
       "$names\n",
       ":   1. 'predictions'\n",
       "2. 'num.trees'\n",
       "3. 'num.independent.variables'\n",
       "4. 'mtry'\n",
       "5. 'min.node.size'\n",
       "6. 'prediction.error'\n",
       "7. 'forest'\n",
       "8. 'splitrule'\n",
       "9. 'treetype'\n",
       "10. 'r.squared'\n",
       "11. 'call'\n",
       "12. 'importance.mode'\n",
       "13. 'num.samples'\n",
       "14. 'replace'\n",
       "\n",
       "\n",
       "\n",
       "$class\n",
       ":   'ranger'\n",
       "\n",
       "\n"
      ],
      "text/plain": [
       "$names\n",
       " [1] \"predictions\"               \"num.trees\"                \n",
       " [3] \"num.independent.variables\" \"mtry\"                     \n",
       " [5] \"min.node.size\"             \"prediction.error\"         \n",
       " [7] \"forest\"                    \"splitrule\"                \n",
       " [9] \"treetype\"                  \"r.squared\"                \n",
       "[11] \"call\"                      \"importance.mode\"          \n",
       "[13] \"num.samples\"               \"replace\"                  \n",
       "\n",
       "$class\n",
       "[1] \"ranger\"\n"
      ]
     },
     "metadata": {},
     "output_type": "display_data"
    }
   ],
   "source": [
    "attributes(ames_rf1)"
   ]
  },
  {
   "cell_type": "code",
   "execution_count": 7,
   "id": "369259a6",
   "metadata": {},
   "outputs": [
    {
     "data": {
      "text/plain": [
       "Ranger result\n",
       "\n",
       "Call:\n",
       " ranger(Sale_Price ~ ., data = ames_train, mtry = floor(n_features/3),      respect.unordered.factors = \"order\", seed = 123) \n",
       "\n",
       "Type:                             Regression \n",
       "Number of trees:                  500 \n",
       "Sample size:                      2051 \n",
       "Number of independent variables:  80 \n",
       "Mtry:                             26 \n",
       "Target node size:                 5 \n",
       "Variable importance mode:         none \n",
       "Splitrule:                        variance \n",
       "OOB prediction error (MSE):       644747484 \n",
       "R squared (OOB):                  0.8985528 "
      ]
     },
     "metadata": {},
     "output_type": "display_data"
    }
   ],
   "source": [
    "ames_rf1"
   ]
  },
  {
   "cell_type": "code",
   "execution_count": 8,
   "id": "87de2526",
   "metadata": {},
   "outputs": [
    {
     "data": {
      "text/html": [
       "25391.8783007981"
      ],
      "text/latex": [
       "25391.8783007981"
      ],
      "text/markdown": [
       "25391.8783007981"
      ],
      "text/plain": [
       "[1] 25391.88"
      ]
     },
     "metadata": {},
     "output_type": "display_data"
    }
   ],
   "source": [
    "(default_rmse <- sqrt(ames_rf1$prediction.error))"
   ]
  },
  {
   "cell_type": "markdown",
   "id": "0516a581",
   "metadata": {},
   "source": [
    "### 튜닝\n",
    "#### 초매개변수\n",
    "1. 나무의 수\n",
    "2. mtry\n",
    "3. 각 트리의 복잡성\n",
    "4. 샘플링방식\n",
    "5. 트리생성에 사용할 분할규칙"
   ]
  },
  {
   "cell_type": "markdown",
   "id": "2e5f0935",
   "metadata": {},
   "source": [
    "### 1. 나무의 수\n",
    "- 오류율을 안정화하려면 트리수가 충분히 커야함\n",
    "- p X 10으로 시작\n",
    "- mtry나 노드 크기에 따라 더 많거나 적은 수의 트리가 필요함\n",
    "- 많은 트리는 더 강력하고 안정한 오류추정값과 변수 중요도를 제공"
   ]
  },
  {
   "cell_type": "markdown",
   "id": "cd882763",
   "metadata": {},
   "source": [
    "### 2. mtry\n",
    "- 분할 변수 무작위의 기능을 제어\n",
    "- 낮은 트리 상관관계와 합리적인 예측강도의 균형을 맞춤\n",
    "- 회귀의 경우 mtry = p / 3\n",
    "- 분류의 경우 mtry = sqrt(p)"
   ]
  },
  {
   "cell_type": "markdown",
   "id": "e0869584",
   "metadata": {},
   "source": [
    "### 3. 트리의 복잡성\n",
    "- **노드 크기, 최대 깊이, 최대 터미널 노드 수, 추가분할 허용 여부**\n",
    "- 회귀의 경우 : 5\n",
    "- 분류의 경우 : 1\n",
    "- 데이터에 노이즈가 많은 경우 노드 크기를 증가 (트리 깊이 및 복잡성 감소)하여 성능을 향상"
   ]
  },
  {
   "cell_type": "markdown",
   "id": "c22f02d7",
   "metadata": {},
   "source": [
    "### 4. 샘플링 방식\n",
    "- 샘플링 크기와 복원추출 여부를 모두 조정 가능\n",
    "- 샘플링 크기를 줄이면 트리가 다양해지고, 트리간 상관관게가 낮아짐 => 긍정적 영향\n",
    "- **범주의 수가 많은 범주형 변수의 경우, 복원추출은 변수 분할에 편향이 발생 가능**\n",
    "- **균형이 맞지 않는 범주가 있는 경우, 비복원 추출을 사용하면 편향이 감소**"
   ]
  },
  {
   "cell_type": "markdown",
   "id": "465a77c4",
   "metadata": {},
   "source": [
    "### 5. 분할규칙\n",
    "- 분류의 경우 : 지니 불순도\n",
    "- 히귀의 경우 : SSE"
   ]
  },
  {
   "cell_type": "markdown",
   "id": "aba36dca",
   "metadata": {},
   "source": [
    "### 튜닝"
   ]
  },
  {
   "cell_type": "code",
   "execution_count": 9,
   "id": "bb1ca433",
   "metadata": {},
   "outputs": [
    {
     "data": {
      "text/html": [
       "<table class=\"dataframe\">\n",
       "<caption>A data.frame: 6 × 5</caption>\n",
       "<thead>\n",
       "\t<tr><th></th><th scope=col>mtry</th><th scope=col>min.node.size</th><th scope=col>replace</th><th scope=col>sample.fraction</th><th scope=col>rmse</th></tr>\n",
       "\t<tr><th></th><th scope=col>&lt;dbl&gt;</th><th scope=col>&lt;dbl&gt;</th><th scope=col>&lt;lgl&gt;</th><th scope=col>&lt;dbl&gt;</th><th scope=col>&lt;lgl&gt;</th></tr>\n",
       "</thead>\n",
       "<tbody>\n",
       "\t<tr><th scope=row>1</th><td> 4</td><td>1</td><td>TRUE</td><td>0.5</td><td>NA</td></tr>\n",
       "\t<tr><th scope=row>2</th><td>12</td><td>1</td><td>TRUE</td><td>0.5</td><td>NA</td></tr>\n",
       "\t<tr><th scope=row>3</th><td>20</td><td>1</td><td>TRUE</td><td>0.5</td><td>NA</td></tr>\n",
       "\t<tr><th scope=row>4</th><td>26</td><td>1</td><td>TRUE</td><td>0.5</td><td>NA</td></tr>\n",
       "\t<tr><th scope=row>5</th><td>32</td><td>1</td><td>TRUE</td><td>0.5</td><td>NA</td></tr>\n",
       "\t<tr><th scope=row>6</th><td> 4</td><td>3</td><td>TRUE</td><td>0.5</td><td>NA</td></tr>\n",
       "</tbody>\n",
       "</table>\n"
      ],
      "text/latex": [
       "A data.frame: 6 × 5\n",
       "\\begin{tabular}{r|lllll}\n",
       "  & mtry & min.node.size & replace & sample.fraction & rmse\\\\\n",
       "  & <dbl> & <dbl> & <lgl> & <dbl> & <lgl>\\\\\n",
       "\\hline\n",
       "\t1 &  4 & 1 & TRUE & 0.5 & NA\\\\\n",
       "\t2 & 12 & 1 & TRUE & 0.5 & NA\\\\\n",
       "\t3 & 20 & 1 & TRUE & 0.5 & NA\\\\\n",
       "\t4 & 26 & 1 & TRUE & 0.5 & NA\\\\\n",
       "\t5 & 32 & 1 & TRUE & 0.5 & NA\\\\\n",
       "\t6 &  4 & 3 & TRUE & 0.5 & NA\\\\\n",
       "\\end{tabular}\n"
      ],
      "text/markdown": [
       "\n",
       "A data.frame: 6 × 5\n",
       "\n",
       "| <!--/--> | mtry &lt;dbl&gt; | min.node.size &lt;dbl&gt; | replace &lt;lgl&gt; | sample.fraction &lt;dbl&gt; | rmse &lt;lgl&gt; |\n",
       "|---|---|---|---|---|---|\n",
       "| 1 |  4 | 1 | TRUE | 0.5 | NA |\n",
       "| 2 | 12 | 1 | TRUE | 0.5 | NA |\n",
       "| 3 | 20 | 1 | TRUE | 0.5 | NA |\n",
       "| 4 | 26 | 1 | TRUE | 0.5 | NA |\n",
       "| 5 | 32 | 1 | TRUE | 0.5 | NA |\n",
       "| 6 |  4 | 3 | TRUE | 0.5 | NA |\n",
       "\n"
      ],
      "text/plain": [
       "  mtry min.node.size replace sample.fraction rmse\n",
       "1  4   1             TRUE    0.5             NA  \n",
       "2 12   1             TRUE    0.5             NA  \n",
       "3 20   1             TRUE    0.5             NA  \n",
       "4 26   1             TRUE    0.5             NA  \n",
       "5 32   1             TRUE    0.5             NA  \n",
       "6  4   3             TRUE    0.5             NA  "
      ]
     },
     "metadata": {},
     "output_type": "display_data"
    },
    {
     "data": {
      "text/html": [
       "<style>\n",
       ".list-inline {list-style: none; margin:0; padding: 0}\n",
       ".list-inline>li {display: inline-block}\n",
       ".list-inline>li:not(:last-child)::after {content: \"\\00b7\"; padding: 0 .5ex}\n",
       "</style>\n",
       "<ol class=list-inline><li>120</li><li>5</li></ol>\n"
      ],
      "text/latex": [
       "\\begin{enumerate*}\n",
       "\\item 120\n",
       "\\item 5\n",
       "\\end{enumerate*}\n"
      ],
      "text/markdown": [
       "1. 120\n",
       "2. 5\n",
       "\n",
       "\n"
      ],
      "text/plain": [
       "[1] 120   5"
      ]
     },
     "metadata": {},
     "output_type": "display_data"
    }
   ],
   "source": [
    "hyper_grid <- expand.grid(\n",
    "    mtry = floor(n_features * c(0.05, 0.15, 0.25, 0.333, 0.4)), # 사용할 변수 수\n",
    "    min.node.size = c(1, 3, 5, 10), # 노드 크기 (정지규칙)\n",
    "    replace = c(TRUE, FALSE), # 복원추출, 비복원추출\n",
    "    sample.fraction = c(.5, .63, .8), # # 추출비율\n",
    "    rmse = NA\n",
    ")\n",
    "hyper_grid %>% head\n",
    "dim(hyper_grid)"
   ]
  },
  {
   "cell_type": "markdown",
   "id": "acec7f1e",
   "metadata": {},
   "source": [
    "#### 120개의 설정 조합중 그리드서치"
   ]
  },
  {
   "cell_type": "code",
   "execution_count": 10,
   "id": "e190b4a2",
   "metadata": {},
   "outputs": [],
   "source": [
    "for(i in seq_len(nrow(hyper_grid))) {\n",
    "  fit <- ranger(\n",
    "    formula         = Sale_Price ~ ., \n",
    "    data            = ames_train, \n",
    "    num.trees       = n_features * 10,\n",
    "    mtry            = hyper_grid$mtry[i],\n",
    "    min.node.size   = hyper_grid$min.node.size[i],\n",
    "    replace         = hyper_grid$replace[i],\n",
    "    sample.fraction = hyper_grid$sample.fraction[i],\n",
    "    verbose         = FALSE,\n",
    "    seed            = 123,\n",
    "    respect.unordered.factors = 'order',\n",
    "  )\n",
    "  hyper_grid$rmse[i] <- sqrt(fit$prediction.error)\n",
    "}"
   ]
  },
  {
   "cell_type": "code",
   "execution_count": 11,
   "id": "3d6f4edb",
   "metadata": {},
   "outputs": [
    {
     "data": {
      "text/html": [
       "25391.8783007981"
      ],
      "text/latex": [
       "25391.8783007981"
      ],
      "text/markdown": [
       "25391.8783007981"
      ],
      "text/plain": [
       "[1] 25391.88"
      ]
     },
     "metadata": {},
     "output_type": "display_data"
    }
   ],
   "source": [
    "default_rmse"
   ]
  },
  {
   "cell_type": "code",
   "execution_count": 12,
   "id": "6a2d7c3b",
   "metadata": {
    "scrolled": true
   },
   "outputs": [
    {
     "data": {
      "text/html": [
       "<table class=\"dataframe\">\n",
       "<caption>A data.frame: 10 × 6</caption>\n",
       "<thead>\n",
       "\t<tr><th></th><th scope=col>mtry</th><th scope=col>min.node.size</th><th scope=col>replace</th><th scope=col>sample.fraction</th><th scope=col>rmse</th><th scope=col>perc_gain</th></tr>\n",
       "\t<tr><th></th><th scope=col>&lt;dbl&gt;</th><th scope=col>&lt;dbl&gt;</th><th scope=col>&lt;lgl&gt;</th><th scope=col>&lt;dbl&gt;</th><th scope=col>&lt;dbl&gt;</th><th scope=col>&lt;dbl&gt;</th></tr>\n",
       "</thead>\n",
       "<tbody>\n",
       "\t<tr><th scope=row>1</th><td>20</td><td> 1</td><td>FALSE</td><td>0.8</td><td>24657.85</td><td>2.890790</td></tr>\n",
       "\t<tr><th scope=row>2</th><td>20</td><td> 5</td><td>FALSE</td><td>0.8</td><td>24796.21</td><td>2.345897</td></tr>\n",
       "\t<tr><th scope=row>3</th><td>32</td><td> 1</td><td>FALSE</td><td>0.8</td><td>24808.84</td><td>2.296153</td></tr>\n",
       "\t<tr><th scope=row>4</th><td>20</td><td> 3</td><td>FALSE</td><td>0.8</td><td>24809.02</td><td>2.295465</td></tr>\n",
       "\t<tr><th scope=row>5</th><td>32</td><td> 5</td><td>FALSE</td><td>0.8</td><td>24840.40</td><td>2.171855</td></tr>\n",
       "\t<tr><th scope=row>6</th><td>32</td><td> 3</td><td>FALSE</td><td>0.8</td><td>24892.08</td><td>1.968346</td></tr>\n",
       "\t<tr><th scope=row>7</th><td>26</td><td> 1</td><td>FALSE</td><td>0.8</td><td>24938.06</td><td>1.787277</td></tr>\n",
       "\t<tr><th scope=row>8</th><td>12</td><td> 1</td><td>FALSE</td><td>0.8</td><td>24985.82</td><td>1.599166</td></tr>\n",
       "\t<tr><th scope=row>9</th><td>20</td><td>10</td><td>FALSE</td><td>0.8</td><td>24998.93</td><td>1.547529</td></tr>\n",
       "\t<tr><th scope=row>10</th><td>26</td><td> 3</td><td>FALSE</td><td>0.8</td><td>25019.14</td><td>1.467955</td></tr>\n",
       "</tbody>\n",
       "</table>\n"
      ],
      "text/latex": [
       "A data.frame: 10 × 6\n",
       "\\begin{tabular}{r|llllll}\n",
       "  & mtry & min.node.size & replace & sample.fraction & rmse & perc\\_gain\\\\\n",
       "  & <dbl> & <dbl> & <lgl> & <dbl> & <dbl> & <dbl>\\\\\n",
       "\\hline\n",
       "\t1 & 20 &  1 & FALSE & 0.8 & 24657.85 & 2.890790\\\\\n",
       "\t2 & 20 &  5 & FALSE & 0.8 & 24796.21 & 2.345897\\\\\n",
       "\t3 & 32 &  1 & FALSE & 0.8 & 24808.84 & 2.296153\\\\\n",
       "\t4 & 20 &  3 & FALSE & 0.8 & 24809.02 & 2.295465\\\\\n",
       "\t5 & 32 &  5 & FALSE & 0.8 & 24840.40 & 2.171855\\\\\n",
       "\t6 & 32 &  3 & FALSE & 0.8 & 24892.08 & 1.968346\\\\\n",
       "\t7 & 26 &  1 & FALSE & 0.8 & 24938.06 & 1.787277\\\\\n",
       "\t8 & 12 &  1 & FALSE & 0.8 & 24985.82 & 1.599166\\\\\n",
       "\t9 & 20 & 10 & FALSE & 0.8 & 24998.93 & 1.547529\\\\\n",
       "\t10 & 26 &  3 & FALSE & 0.8 & 25019.14 & 1.467955\\\\\n",
       "\\end{tabular}\n"
      ],
      "text/markdown": [
       "\n",
       "A data.frame: 10 × 6\n",
       "\n",
       "| <!--/--> | mtry &lt;dbl&gt; | min.node.size &lt;dbl&gt; | replace &lt;lgl&gt; | sample.fraction &lt;dbl&gt; | rmse &lt;dbl&gt; | perc_gain &lt;dbl&gt; |\n",
       "|---|---|---|---|---|---|---|\n",
       "| 1 | 20 |  1 | FALSE | 0.8 | 24657.85 | 2.890790 |\n",
       "| 2 | 20 |  5 | FALSE | 0.8 | 24796.21 | 2.345897 |\n",
       "| 3 | 32 |  1 | FALSE | 0.8 | 24808.84 | 2.296153 |\n",
       "| 4 | 20 |  3 | FALSE | 0.8 | 24809.02 | 2.295465 |\n",
       "| 5 | 32 |  5 | FALSE | 0.8 | 24840.40 | 2.171855 |\n",
       "| 6 | 32 |  3 | FALSE | 0.8 | 24892.08 | 1.968346 |\n",
       "| 7 | 26 |  1 | FALSE | 0.8 | 24938.06 | 1.787277 |\n",
       "| 8 | 12 |  1 | FALSE | 0.8 | 24985.82 | 1.599166 |\n",
       "| 9 | 20 | 10 | FALSE | 0.8 | 24998.93 | 1.547529 |\n",
       "| 10 | 26 |  3 | FALSE | 0.8 | 25019.14 | 1.467955 |\n",
       "\n"
      ],
      "text/plain": [
       "   mtry min.node.size replace sample.fraction rmse     perc_gain\n",
       "1  20    1            FALSE   0.8             24657.85 2.890790 \n",
       "2  20    5            FALSE   0.8             24796.21 2.345897 \n",
       "3  32    1            FALSE   0.8             24808.84 2.296153 \n",
       "4  20    3            FALSE   0.8             24809.02 2.295465 \n",
       "5  32    5            FALSE   0.8             24840.40 2.171855 \n",
       "6  32    3            FALSE   0.8             24892.08 1.968346 \n",
       "7  26    1            FALSE   0.8             24938.06 1.787277 \n",
       "8  12    1            FALSE   0.8             24985.82 1.599166 \n",
       "9  20   10            FALSE   0.8             24998.93 1.547529 \n",
       "10 26    3            FALSE   0.8             25019.14 1.467955 "
      ]
     },
     "metadata": {},
     "output_type": "display_data"
    }
   ],
   "source": [
    "hyper_grid %>%\n",
    "  arrange(rmse) %>%\n",
    "  mutate(perc_gain = (default_rmse - rmse) / default_rmse * 100) %>%\n",
    "  head(10)"
   ]
  },
  {
   "cell_type": "markdown",
   "id": "622b957d",
   "metadata": {},
   "source": [
    "#### 0.8의 비율로 비복원추출(replace = FALSE)을 하는것이 가장 높은 성능을 보임"
   ]
  },
  {
   "cell_type": "markdown",
   "id": "6a0c7af7",
   "metadata": {},
   "source": [
    "### 예측\n",
    "- 그리드서치된 초매개변수들을 기반으로 최종모형 생성\n",
    "\n",
    "### ```predict()``` \n",
    "- ```object``` : ranger 모형\n",
    "- ```data``` : test데이터"
   ]
  },
  {
   "cell_type": "code",
   "execution_count": 25,
   "id": "b48ca0a4",
   "metadata": {},
   "outputs": [],
   "source": [
    "ames_rf_g <- ranger(\n",
    "    Sale_Price ~ ., \n",
    "    data = ames_train,\n",
    "    mtry = 20,\n",
    "    num.trees = n_features * 10,\n",
    "    min.node.size = hyper_grid$min.node.size[i],\n",
    "    replace = FALSE,\n",
    "    sample.fraction = 0.8,\n",
    "    respect.unordered.factors = \"order\",\n",
    "    seed = 123\n",
    ")"
   ]
  },
  {
   "cell_type": "code",
   "execution_count": 27,
   "id": "aa0d57fb",
   "metadata": {
    "scrolled": true
   },
   "outputs": [
    {
     "data": {
      "text/plain": [
       "Ranger result\n",
       "\n",
       "Call:\n",
       " ranger(Sale_Price ~ ., data = ames_train, mtry = 20, num.trees = n_features *      10, min.node.size = hyper_grid$min.node.size[i], replace = FALSE,      sample.fraction = 0.8, respect.unordered.factors = \"order\",      seed = 123) \n",
       "\n",
       "Type:                             Regression \n",
       "Number of trees:                  800 \n",
       "Sample size:                      2051 \n",
       "Number of independent variables:  80 \n",
       "Mtry:                             20 \n",
       "Target node size:                 5 \n",
       "Variable importance mode:         none \n",
       "Splitrule:                        variance \n",
       "OOB prediction error (MSE):       614852076 \n",
       "R squared (OOB):                  0.9032567 "
      ]
     },
     "metadata": {},
     "output_type": "display_data"
    }
   ],
   "source": [
    "ames_rf_g"
   ]
  },
  {
   "cell_type": "code",
   "execution_count": 36,
   "id": "3bc0f5e5",
   "metadata": {},
   "outputs": [],
   "source": [
    "pred <- predict(object = ames_rf_g, data = ames_test)"
   ]
  },
  {
   "cell_type": "code",
   "execution_count": 33,
   "id": "b2bab395",
   "metadata": {
    "scrolled": true
   },
   "outputs": [
    {
     "data": {
      "text/html": [
       "<dl>\n",
       "\t<dt>$names</dt>\n",
       "\t\t<dd><style>\n",
       ".list-inline {list-style: none; margin:0; padding: 0}\n",
       ".list-inline>li {display: inline-block}\n",
       ".list-inline>li:not(:last-child)::after {content: \"\\00b7\"; padding: 0 .5ex}\n",
       "</style>\n",
       "<ol class=list-inline><li>'predictions'</li><li>'num.trees'</li><li>'num.independent.variables'</li><li>'num.samples'</li><li>'treetype'</li></ol>\n",
       "</dd>\n",
       "\t<dt>$class</dt>\n",
       "\t\t<dd>'ranger.prediction'</dd>\n",
       "</dl>\n"
      ],
      "text/latex": [
       "\\begin{description}\n",
       "\\item[\\$names] \\begin{enumerate*}\n",
       "\\item 'predictions'\n",
       "\\item 'num.trees'\n",
       "\\item 'num.independent.variables'\n",
       "\\item 'num.samples'\n",
       "\\item 'treetype'\n",
       "\\end{enumerate*}\n",
       "\n",
       "\\item[\\$class] 'ranger.prediction'\n",
       "\\end{description}\n"
      ],
      "text/markdown": [
       "$names\n",
       ":   1. 'predictions'\n",
       "2. 'num.trees'\n",
       "3. 'num.independent.variables'\n",
       "4. 'num.samples'\n",
       "5. 'treetype'\n",
       "\n",
       "\n",
       "\n",
       "$class\n",
       ":   'ranger.prediction'\n",
       "\n",
       "\n"
      ],
      "text/plain": [
       "$names\n",
       "[1] \"predictions\"               \"num.trees\"                \n",
       "[3] \"num.independent.variables\" \"num.samples\"              \n",
       "[5] \"treetype\"                 \n",
       "\n",
       "$class\n",
       "[1] \"ranger.prediction\"\n"
      ]
     },
     "metadata": {},
     "output_type": "display_data"
    }
   ],
   "source": [
    "attributes(pred)"
   ]
  },
  {
   "cell_type": "code",
   "execution_count": 37,
   "id": "dccf2267",
   "metadata": {},
   "outputs": [
    {
     "data": {
      "text/html": [
       "<style>\n",
       ".list-inline {list-style: none; margin:0; padding: 0}\n",
       ".list-inline>li {display: inline-block}\n",
       ".list-inline>li:not(:last-child)::after {content: \"\\00b7\"; padding: 0 .5ex}\n",
       "</style>\n",
       "<ol class=list-inline><li>237224.8946875</li><li>172217.375291667</li><li>175213.980375</li><li>386755.702270833</li><li>117938.122125</li><li>215751.571833333</li></ol>\n"
      ],
      "text/latex": [
       "\\begin{enumerate*}\n",
       "\\item 237224.8946875\n",
       "\\item 172217.375291667\n",
       "\\item 175213.980375\n",
       "\\item 386755.702270833\n",
       "\\item 117938.122125\n",
       "\\item 215751.571833333\n",
       "\\end{enumerate*}\n"
      ],
      "text/markdown": [
       "1. 237224.8946875\n",
       "2. 172217.375291667\n",
       "3. 175213.980375\n",
       "4. 386755.702270833\n",
       "5. 117938.122125\n",
       "6. 215751.571833333\n",
       "\n",
       "\n"
      ],
      "text/plain": [
       "[1] 237224.9 172217.4 175214.0 386755.7 117938.1 215751.6"
      ]
     },
     "metadata": {},
     "output_type": "display_data"
    },
    {
     "data": {
      "text/html": [
       "<style>\n",
       ".list-inline {list-style: none; margin:0; padding: 0}\n",
       ".list-inline>li {display: inline-block}\n",
       ".list-inline>li:not(:last-child)::after {content: \"\\00b7\"; padding: 0 .5ex}\n",
       "</style>\n",
       "<ol class=list-inline><li>244000</li><li>185000</li><li>180400</li><li>538000</li><li>141000</li><li>210000</li></ol>\n"
      ],
      "text/latex": [
       "\\begin{enumerate*}\n",
       "\\item 244000\n",
       "\\item 185000\n",
       "\\item 180400\n",
       "\\item 538000\n",
       "\\item 141000\n",
       "\\item 210000\n",
       "\\end{enumerate*}\n"
      ],
      "text/markdown": [
       "1. 244000\n",
       "2. 185000\n",
       "3. 180400\n",
       "4. 538000\n",
       "5. 141000\n",
       "6. 210000\n",
       "\n",
       "\n"
      ],
      "text/plain": [
       "[1] 244000 185000 180400 538000 141000 210000"
      ]
     },
     "metadata": {},
     "output_type": "display_data"
    }
   ],
   "source": [
    "pred$predictions %>% head\n",
    "ames_test$Sale_Price %>% head"
   ]
  },
  {
   "cell_type": "code",
   "execution_count": 38,
   "id": "2d78d555",
   "metadata": {},
   "outputs": [
    {
     "data": {
      "text/html": [
       "563403712.06164"
      ],
      "text/latex": [
       "563403712.06164"
      ],
      "text/markdown": [
       "563403712.06164"
      ],
      "text/plain": [
       "[1] 563403712"
      ]
     },
     "metadata": {},
     "output_type": "display_data"
    },
    {
     "data": {
      "text/html": [
       "23736.1267282941"
      ],
      "text/latex": [
       "23736.1267282941"
      ],
      "text/markdown": [
       "23736.1267282941"
      ],
      "text/plain": [
       "[1] 23736.13"
      ]
     },
     "metadata": {},
     "output_type": "display_data"
    }
   ],
   "source": [
    "mse <- mean((ames_test$Sale_Price - pred$predictions)^2) \n",
    "rmse <- sqrt(mse)\n",
    "mse ; rmse"
   ]
  },
  {
   "cell_type": "markdown",
   "id": "3724e97e",
   "metadata": {},
   "source": [
    "## h2o"
   ]
  },
  {
   "cell_type": "markdown",
   "id": "1143d252",
   "metadata": {},
   "source": [
    "#### 1. h2o세션 시작\n",
    "### ```h2o.no_progress()```\n",
    "### ```h2o.init()```"
   ]
  },
  {
   "cell_type": "code",
   "execution_count": 4,
   "id": "186eef9b",
   "metadata": {},
   "outputs": [],
   "source": [
    "h2o.no_progress()"
   ]
  },
  {
   "cell_type": "code",
   "execution_count": 5,
   "id": "0d574753",
   "metadata": {},
   "outputs": [
    {
     "name": "stdout",
     "output_type": "stream",
     "text": [
      "\n",
      "H2O is not running yet, starting it now...\n",
      "\n",
      "Note:  In case of errors look at the following log files:\n",
      "    C:\\Users\\APF_TE~1\\AppData\\Local\\Temp\\RtmpAbD1qt\\file48447446196/h2o_apf_temp_admin_started_from_r.out\n",
      "    C:\\Users\\APF_TE~1\\AppData\\Local\\Temp\\RtmpAbD1qt\\file4845f28e/h2o_apf_temp_admin_started_from_r.err\n",
      "\n",
      "\n",
      "Starting H2O JVM and connecting: . Connection successful!\n",
      "\n",
      "R is connected to the H2O cluster: \n",
      "    H2O cluster uptime:         12 seconds 117 milliseconds \n",
      "    H2O cluster timezone:       Asia/Seoul \n",
      "    H2O data parsing timezone:  UTC \n",
      "    H2O cluster version:        3.36.0.4 \n",
      "    H2O cluster version age:    7 days, 10 hours and 45 minutes  \n",
      "    H2O cluster name:           H2O_started_from_R_apf_temp_admin_zni088 \n",
      "    H2O cluster total nodes:    1 \n",
      "    H2O cluster total memory:   4.44 GB \n",
      "    H2O cluster total cores:    4 \n",
      "    H2O cluster allowed cores:  4 \n",
      "    H2O cluster healthy:        TRUE \n",
      "    H2O Connection ip:          localhost \n",
      "    H2O Connection port:        54321 \n",
      "    H2O Connection proxy:       NA \n",
      "    H2O Internal Security:      FALSE \n",
      "    R Version:                  R version 4.1.3 (2022-03-10) \n",
      "\n"
     ]
    }
   ],
   "source": [
    "h2o.init(max_mem_size = \"5g\")"
   ]
  },
  {
   "cell_type": "markdown",
   "id": "eba558be",
   "metadata": {},
   "source": [
    "#### 2. h2o 객체 변환\n",
    "### ```as.h2o()```"
   ]
  },
  {
   "cell_type": "code",
   "execution_count": 6,
   "id": "b9f18808",
   "metadata": {},
   "outputs": [],
   "source": [
    "train_h2o <- as.h2o(ames_train)\n",
    "test_h2o <- as.h2o(ames_test)\n",
    "\n",
    "response <- \"Sale_Price\"\n",
    "predictors <- setdiff(colnames(ames_train), response)"
   ]
  },
  {
   "cell_type": "markdown",
   "id": "381fc524",
   "metadata": {},
   "source": [
    "### ```h2o.randomForest()```"
   ]
  },
  {
   "cell_type": "code",
   "execution_count": null,
   "id": "86dd4950",
   "metadata": {},
   "outputs": [],
   "source": [
    "h2o_rf1 <- h2o.randomForest(\n",
    "    x = predictors, \n",
    "    y = response,\n",
    "    training_frame = train_h2o, \n",
    "    ntrees = n_features * 10,\n",
    "    seed = 123\n",
    ")"
   ]
  },
  {
   "cell_type": "code",
   "execution_count": 19,
   "id": "ce463429",
   "metadata": {},
   "outputs": [
    {
     "data": {
      "text/plain": [
       "Model Details:\n",
       "==============\n",
       "\n",
       "H2ORegressionModel: drf\n",
       "Model ID:  DRF_model_R_1649257930169_1 \n",
       "Model Summary: \n",
       "  number_of_trees number_of_internal_trees model_size_in_bytes min_depth\n",
       "1             800                      800            12342446        19\n",
       "  max_depth mean_depth min_leaves max_leaves mean_leaves\n",
       "1        20   19.99750       1121       1290  1222.83500\n",
       "\n",
       "\n",
       "H2ORegressionMetrics: drf\n",
       "** Reported on training data. **\n",
       "** Metrics reported on Out-Of-Bag training samples **\n",
       "\n",
       "MSE:  628652661\n",
       "RMSE:  25072.95\n",
       "MAE:  15191.58\n",
       "RMSLE:  0.1344573\n",
       "Mean Residual Deviance :  628652661\n",
       "\n",
       "\n",
       "\n"
      ]
     },
     "metadata": {},
     "output_type": "display_data"
    }
   ],
   "source": [
    "h2o_rf1"
   ]
  },
  {
   "cell_type": "markdown",
   "id": "294c651f",
   "metadata": {},
   "source": [
    "#### 그리드서치\n",
    "- 파라미터 그리드가 list여야됨\n",
    "\n",
    "### ```h2o.grid()```"
   ]
  },
  {
   "cell_type": "code",
   "execution_count": 22,
   "id": "68e71a75",
   "metadata": {},
   "outputs": [],
   "source": [
    "hyper_grid <- list(\n",
    "    mtries = floor(n_features * c(.05, .15, .25, .333, .4)),\n",
    "    min_rows = c(1, 3, 5, 10),\n",
    "    max_depth = c(10, 20, 30),\n",
    "    sample_rate = c(.55, .632, .7, .8)\n",
    ")"
   ]
  },
  {
   "cell_type": "markdown",
   "id": "b6d6a066",
   "metadata": {},
   "source": [
    "#### 조기종료 옵션\n",
    "- 마지막 10개 모델 중 어느 것도 그 이전의 최상의 모델과 비교하여 MSE에서 0.1%개선을 달성하지 못하면 조기 종료\n",
    "- 계속해서 개선사항을 찾으면 60 X 10초후에 그리드서치를 중지"
   ]
  },
  {
   "cell_type": "code",
   "execution_count": 23,
   "id": "17f60c59",
   "metadata": {},
   "outputs": [],
   "source": [
    "search_criteria <- list(\n",
    "    strategy = \"RandomDiscrete\",\n",
    "    stopping_metric = \"mse\",\n",
    "    stopping_tolerance = 0.001,\n",
    "    stopping_rounds = 10,\n",
    "    max_runtime_secs = 60 * 10\n",
    ")"
   ]
  },
  {
   "cell_type": "markdown",
   "id": "1a468db6",
   "metadata": {},
   "source": [
    "#### h2o.grid() \n",
    "- 마지막 10개 트리에서 전체 OOB 오류가 0.05%이상 개선되지 않은 경우 개별 랜덤포레스트 모델의 성장을 중지"
   ]
  },
  {
   "cell_type": "code",
   "execution_count": 24,
   "id": "0957d2ea",
   "metadata": {},
   "outputs": [],
   "source": [
    "random_grid <- h2o.grid(\n",
    "  algorithm = \"randomForest\",\n",
    "  grid_id = \"rf_random_grid\",\n",
    "  x = predictors, \n",
    "  y = response, \n",
    "  training_frame = train_h2o,\n",
    "  hyper_params = hyper_grid,\n",
    "  ntrees = n_features * 10,\n",
    "  seed = 123,\n",
    "  stopping_metric = \"RMSE\",   \n",
    "  stopping_rounds = 10,            \n",
    "  stopping_tolerance = 0.005,     \n",
    "  search_criteria = search_criteria\n",
    ")"
   ]
  },
  {
   "cell_type": "markdown",
   "id": "56392e5b",
   "metadata": {},
   "source": [
    "#### 총 32개의 모델을 평가"
   ]
  },
  {
   "cell_type": "code",
   "execution_count": 42,
   "id": "278c19d1",
   "metadata": {
    "scrolled": true
   },
   "outputs": [
    {
     "data": {
      "text/plain": [
       "H2O Grid Details\n",
       "================\n",
       "\n",
       "Grid ID: rf_random_grid \n",
       "Used hyper parameters: \n",
       "  -  max_depth \n",
       "  -  min_rows \n",
       "  -  mtries \n",
       "  -  sample_rate \n",
       "Number of models: 32 \n",
       "Number of failed models: 0 \n",
       "\n",
       "Hyper-Parameter Search Summary: ordered by increasing mse\n",
       "  max_depth min_rows   mtries sample_rate               model_ids\n",
       "1  30.00000  1.00000 20.00000     0.70000 rf_random_grid_model_24\n",
       "2  20.00000  1.00000 20.00000     0.70000 rf_random_grid_model_18\n",
       "3  20.00000  1.00000 32.00000     0.80000 rf_random_grid_model_32\n",
       "4  30.00000  1.00000 26.00000     0.63200 rf_random_grid_model_28\n",
       "5  30.00000  3.00000 26.00000     0.80000 rf_random_grid_model_10\n",
       "              mse\n",
       "1 618831638.44738\n",
       "2 619871989.94588\n",
       "3 623205415.06437\n",
       "4 627774216.53959\n",
       "5 631286427.23519\n",
       "\n",
       "---\n",
       "   max_depth min_rows  mtries sample_rate               model_ids\n",
       "27  20.00000  5.00000 4.00000     0.80000  rf_random_grid_model_2\n",
       "28  10.00000  5.00000 4.00000     0.55000  rf_random_grid_model_5\n",
       "29  30.00000 10.00000 4.00000     0.80000 rf_random_grid_model_15\n",
       "30  30.00000 10.00000 4.00000     0.63200  rf_random_grid_model_9\n",
       "31  10.00000 10.00000 4.00000     0.63200 rf_random_grid_model_26\n",
       "32  30.00000 10.00000 4.00000     0.55000 rf_random_grid_model_20\n",
       "                mse\n",
       "27  992576375.76560\n",
       "28 1002179117.85052\n",
       "29 1063544133.04621\n",
       "30 1068134927.17127\n",
       "31 1072221454.87267\n",
       "32 1153803707.31930"
      ]
     },
     "metadata": {},
     "output_type": "display_data"
    }
   ],
   "source": [
    "random_grid_perf <- h2o.getGrid(\n",
    "  grid_id = \"rf_random_grid\", \n",
    "  sort_by = \"mse\", \n",
    "  decreasing = FALSE\n",
    ")\n",
    "random_grid_perf"
   ]
  },
  {
   "cell_type": "code",
   "execution_count": 73,
   "id": "3b9b3954",
   "metadata": {},
   "outputs": [
    {
     "data": {
      "text/html": [
       "<table class=\"dataframe\">\n",
       "<caption>A H2OTable: 6 × 6</caption>\n",
       "<thead>\n",
       "\t<tr><th></th><th scope=col>max_depth</th><th scope=col>min_rows</th><th scope=col>mtries</th><th scope=col>sample_rate</th><th scope=col>model_ids</th><th scope=col>mse</th></tr>\n",
       "\t<tr><th></th><th scope=col>&lt;dbl&gt;</th><th scope=col>&lt;dbl&gt;</th><th scope=col>&lt;dbl&gt;</th><th scope=col>&lt;dbl&gt;</th><th scope=col>&lt;chr&gt;</th><th scope=col>&lt;dbl&gt;</th></tr>\n",
       "</thead>\n",
       "<tbody>\n",
       "\t<tr><th scope=row>1</th><td>30</td><td>1</td><td>20</td><td>0.700</td><td>rf_random_grid_model_24</td><td>618831638</td></tr>\n",
       "\t<tr><th scope=row>2</th><td>20</td><td>1</td><td>20</td><td>0.700</td><td>rf_random_grid_model_18</td><td>619871990</td></tr>\n",
       "\t<tr><th scope=row>3</th><td>20</td><td>1</td><td>32</td><td>0.800</td><td>rf_random_grid_model_32</td><td>623205415</td></tr>\n",
       "\t<tr><th scope=row>4</th><td>30</td><td>1</td><td>26</td><td>0.632</td><td>rf_random_grid_model_28</td><td>627774217</td></tr>\n",
       "\t<tr><th scope=row>5</th><td>30</td><td>3</td><td>26</td><td>0.800</td><td>rf_random_grid_model_10</td><td>631286427</td></tr>\n",
       "\t<tr><th scope=row>6</th><td>30</td><td>1</td><td>12</td><td>0.632</td><td>rf_random_grid_model_3 </td><td>650548596</td></tr>\n",
       "</tbody>\n",
       "</table>\n"
      ],
      "text/latex": [
       "A H2OTable: 6 × 6\n",
       "\\begin{tabular}{r|llllll}\n",
       "  & max\\_depth & min\\_rows & mtries & sample\\_rate & model\\_ids & mse\\\\\n",
       "  & <dbl> & <dbl> & <dbl> & <dbl> & <chr> & <dbl>\\\\\n",
       "\\hline\n",
       "\t1 & 30 & 1 & 20 & 0.700 & rf\\_random\\_grid\\_model\\_24 & 618831638\\\\\n",
       "\t2 & 20 & 1 & 20 & 0.700 & rf\\_random\\_grid\\_model\\_18 & 619871990\\\\\n",
       "\t3 & 20 & 1 & 32 & 0.800 & rf\\_random\\_grid\\_model\\_32 & 623205415\\\\\n",
       "\t4 & 30 & 1 & 26 & 0.632 & rf\\_random\\_grid\\_model\\_28 & 627774217\\\\\n",
       "\t5 & 30 & 3 & 26 & 0.800 & rf\\_random\\_grid\\_model\\_10 & 631286427\\\\\n",
       "\t6 & 30 & 1 & 12 & 0.632 & rf\\_random\\_grid\\_model\\_3  & 650548596\\\\\n",
       "\\end{tabular}\n"
      ],
      "text/markdown": [
       "\n",
       "A H2OTable: 6 × 6\n",
       "\n",
       "| <!--/--> | max_depth &lt;dbl&gt; | min_rows &lt;dbl&gt; | mtries &lt;dbl&gt; | sample_rate &lt;dbl&gt; | model_ids &lt;chr&gt; | mse &lt;dbl&gt; |\n",
       "|---|---|---|---|---|---|---|\n",
       "| 1 | 30 | 1 | 20 | 0.700 | rf_random_grid_model_24 | 618831638 |\n",
       "| 2 | 20 | 1 | 20 | 0.700 | rf_random_grid_model_18 | 619871990 |\n",
       "| 3 | 20 | 1 | 32 | 0.800 | rf_random_grid_model_32 | 623205415 |\n",
       "| 4 | 30 | 1 | 26 | 0.632 | rf_random_grid_model_28 | 627774217 |\n",
       "| 5 | 30 | 3 | 26 | 0.800 | rf_random_grid_model_10 | 631286427 |\n",
       "| 6 | 30 | 1 | 12 | 0.632 | rf_random_grid_model_3  | 650548596 |\n",
       "\n"
      ],
      "text/plain": [
       "  max_depth min_rows mtries sample_rate model_ids               mse      \n",
       "1 30        1        20     0.700       rf_random_grid_model_24 618831638\n",
       "2 20        1        20     0.700       rf_random_grid_model_18 619871990\n",
       "3 20        1        32     0.800       rf_random_grid_model_32 623205415\n",
       "4 30        1        26     0.632       rf_random_grid_model_28 627774217\n",
       "5 30        3        26     0.800       rf_random_grid_model_10 631286427\n",
       "6 30        1        12     0.632       rf_random_grid_model_3  650548596"
      ]
     },
     "metadata": {},
     "output_type": "display_data"
    }
   ],
   "source": [
    "random_grid_perf@summary_table %>% head"
   ]
  },
  {
   "cell_type": "code",
   "execution_count": 75,
   "id": "fb95b3e5",
   "metadata": {},
   "outputs": [],
   "source": [
    "bestmodel <- h2o.getModel(random_grid_perf@model_ids[[1]])"
   ]
  },
  {
   "cell_type": "markdown",
   "id": "c4ceba74",
   "metadata": {},
   "source": [
    "#### - ```max_depth``` = 30, ```min_rows``` = 1, ```mtries``` = 20, ```sample_rate``` = 0.7이 가장 가장 낮은 mse를 가지는, 최적의 모델"
   ]
  },
  {
   "cell_type": "code",
   "execution_count": 76,
   "id": "b65cfa91",
   "metadata": {},
   "outputs": [
    {
     "data": {
      "text/html": [
       "0.902582997460274"
      ],
      "text/latex": [
       "0.902582997460274"
      ],
      "text/markdown": [
       "0.902582997460274"
      ],
      "text/plain": [
       "[1] 0.902583"
      ]
     },
     "metadata": {},
     "output_type": "display_data"
    }
   ],
   "source": [
    "h2o.r2(bestmodel)"
   ]
  },
  {
   "cell_type": "markdown",
   "id": "90004748",
   "metadata": {},
   "source": [
    "### ```h2o.performance()```\n",
    "- ```model``` : h2o모델\n",
    "- ```newdata``` : test데이터"
   ]
  },
  {
   "cell_type": "code",
   "execution_count": 77,
   "id": "616607f0",
   "metadata": {},
   "outputs": [],
   "source": [
    "perf <- h2o.performance(model = bestmodel, newdata = test_h2o)"
   ]
  },
  {
   "cell_type": "code",
   "execution_count": 78,
   "id": "4002940c",
   "metadata": {
    "scrolled": false
   },
   "outputs": [
    {
     "data": {
      "text/plain": [
       "H2ORegressionMetrics: drf\n",
       "\n",
       "MSE:  590003385\n",
       "RMSE:  24289.99\n",
       "MAE:  14993.2\n",
       "RMSLE:  0.1354787\n",
       "Mean Residual Deviance :  590003385\n"
      ]
     },
     "metadata": {},
     "output_type": "display_data"
    }
   ],
   "source": [
    "perf"
   ]
  },
  {
   "cell_type": "code",
   "execution_count": 79,
   "id": "b5e76c84",
   "metadata": {},
   "outputs": [
    {
     "data": {
      "text/html": [
       "0.908433210458386"
      ],
      "text/latex": [
       "0.908433210458386"
      ],
      "text/markdown": [
       "0.908433210458386"
      ],
      "text/plain": [
       "[1] 0.9084332"
      ]
     },
     "metadata": {},
     "output_type": "display_data"
    }
   ],
   "source": [
    "h2o.r2(perf)"
   ]
  },
  {
   "cell_type": "markdown",
   "id": "31d3f51e",
   "metadata": {},
   "source": [
    "### 변수 중요도\n",
    "### ```importance``` : 변수 중요도의 측정값\n",
    "- ```impurity``` : 불순도\n",
    "- ```permutation``` : 각 트리에 대해 OOB샘플이 트리 아래로 전달되고, 예측 정확도가 기록, 각 변수의 값이 무작위로 치환되고 정확도가 다시 계산, 변수 값의 무작위 셔플링으로인한 정확도 감소는 각 예측 변수의 모든 트리에 대해 평균화, 정확도의 평균 감소가 가장 큰 변수가 가장 중요한 것으로 간주"
   ]
  },
  {
   "cell_type": "code",
   "execution_count": 80,
   "id": "2edfdd97",
   "metadata": {},
   "outputs": [],
   "source": [
    "rf_impurity <- ranger(\n",
    "  formula = Sale_Price ~ ., \n",
    "  data = ames_train, \n",
    "  num.trees = 2000,\n",
    "  mtry = 32,\n",
    "  min.node.size = 1,\n",
    "  sample.fraction = .80,\n",
    "  replace = FALSE,\n",
    "  importance = \"impurity\",\n",
    "  respect.unordered.factors = \"order\",\n",
    "  verbose = FALSE,\n",
    "  seed  = 123\n",
    ")"
   ]
  },
  {
   "cell_type": "code",
   "execution_count": 81,
   "id": "ddb82707",
   "metadata": {},
   "outputs": [],
   "source": [
    "rf_permutation <- ranger(\n",
    "  formula = Sale_Price ~ ., \n",
    "  data = ames_train, \n",
    "  num.trees = 2000,\n",
    "  mtry = 32,\n",
    "  min.node.size = 1,\n",
    "  sample.fraction = .80,\n",
    "  replace = FALSE,\n",
    "  importance = \"permutation\",\n",
    "  respect.unordered.factors = \"order\",\n",
    "  verbose = FALSE,\n",
    "  seed  = 123\n",
    ")"
   ]
  },
  {
   "cell_type": "code",
   "execution_count": 82,
   "id": "ede1f2ee",
   "metadata": {},
   "outputs": [
    {
     "data": {
      "image/png": "[encoded data removed]",
      "text/plain": [
       "plot without title"
      ]
     },
     "metadata": {
      "image/png": {
       "height": 420,
       "width": 420
      }
     },
     "output_type": "display_data"
    }
   ],
   "source": [
    "p1 <- vip::vip(rf_impurity, num_features = 25, bar = FALSE)\n",
    "p2 <- vip::vip(rf_permutation, num_features = 25, bar = FALSE)\n",
    "\n",
    "gridExtra::grid.arrange(p1, p2, nrow = 1)"
   ]
  }
 ],
 "metadata": {
  "kernelspec": {
   "display_name": "R 4.1.3",
   "language": "R",
   "name": "ir32"
  },
  "language_info": {
   "codemirror_mode": "r",
   "file_extension": ".r",
   "mimetype": "text/x-r-source",
   "name": "R",
   "pygments_lexer": "r",
   "version": "4.1.3"
  }
 },
 "nbformat": 4,
 "nbformat_minor": 5
}
