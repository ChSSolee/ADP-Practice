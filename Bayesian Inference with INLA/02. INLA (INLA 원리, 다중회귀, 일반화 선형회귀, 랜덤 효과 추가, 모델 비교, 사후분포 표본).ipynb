{
 "cells": [
  {
   "cell_type": "markdown",
   "id": "d09dc97c",
   "metadata": {},
   "source": [
    "# 02. 통합 중첩 라플라스 근사 (INLA, The Integrated Nested Laplace Approximation)"
   ]
  },
  {
   "cell_type": "markdown",
   "id": "c88d4abb",
   "metadata": {},
   "source": [
    "<br>\n",
    "\n",
    "## 02.01. \n",
    "- 수년 동안 베이지안 추론은 모델 매개변수의 사후 결합분포를 계산하기 위해 Markov Chain Monte Carlo 방법(Gilks et al. 1996; Brooks et al. 2011)에 의존\n",
    "- 이 방법을 통하여 추론된 사후분포는 고차원 공간에 있기 때문에 일반적으로 계산 비용이 매우 많이 듬\n",
    "- Havard Rue, Martino 및 Chopin(2009)은 베이지안 추론을 더 빠르게 만드는 새로운 접근 방식을 제안\n",
    "\n",
    "    우선, 모델 매개변수의 사후 결합분포를 추정하는 것을 목표로 하기보다는, 모델 매개변수의 사후 주변분포(posterior margin)에 초점을 맞출 것을 제안\n",
    "    \n",
    "    1. 많은 경우, 주변분포의 추론만으로도 모델 매개변수와 잠재 효과를 추론하기에 충분하며, 구하기 어려운 다변량 사후분포를 다룰 필요가 없음 \n",
    "    \n",
    "    2. GMRF(Latent Gaussian Markov Random Field)로 표현될 수 있는 모델에 중점\n",
    "    \n",
    "    - 모델 적합의 계산 시간을 줄이는 계산상의 이점을 제공(Rue and Held 2005 참조). \n",
    "    - Havard Rue, Martino 및 Chopin(2009)은 Laplace 근사를 기반으로 모델 매개변수의 사후 주변분포에 대한 새로운 근사를 개발(MacKay 2003)"
   ]
  },
  {
   "cell_type": "markdown",
   "id": "d97ecbd8",
   "metadata": {},
   "source": [
    "<br>\n",
    "\n",
    "## 02.02. 통합 중첩 라플라스 근사 (INLA, The Integrated Nested Laplace Approximation)"
   ]
  },
  {
   "cell_type": "markdown",
   "id": "7ce05e33",
   "metadata": {},
   "source": [
    "- $n$개의 관측값 $y=(y_1, \\dots, y_n)$이 담긴 벡터에 대하여 (결측값 존재 가능성 가정)\n",
    "    \n",
    "    일반적으로 관측값 $y_i$의 평균 $\\mu_i$은 회귀식을 통하여 예측변수 $\\eta_i$로 표현될 수 있음\n",
    "    \n",
    "- 관측값들은 선형 예측변수가 주어졌을 때 서로 독립적이라고 가정 \n",
    "\n",
    "    <br>\n",
    "\n",
    "    $$\\eta_i = \\alpha + \\sum_{j=1}^{n_\\beta} \\beta_j z_{ji} +\n",
    "    \\sum_{k=1}^{n_f} f^{(k)}(u_{ki})+\\varepsilon_i;\\ i=1,\\ldots,n$$\n",
    "\n",
    "    - $\\alpha$ : 절편\n",
    "    - $\\beta_j,\\;(j=1, \\dots, n_\\beta)$ : 공변량 $\\{\\mathbf{z}_j\\}_{j=1}^{n_{\\beta}}$의 회귀계수\n",
    "    - $f^{*(k)}$ : $n_f$개의 공변량 $\\{\\mathbf{u}_k\\}_{k=1}^{n_f}$의 관점에서 정의된 함수\n",
    "        - $f^{*(k)}$는 공변량의 부드러운 또는 비선형 효과, 시간 추세와 계절적인 효과, 시간적이거나 또는 공간적인 랜덤 효과 뿐만아니라, 랜덤 절편과 기울기 등 다양한 형태들을 가정할 수 있음\n",
    "    - $\\epsilon_i$ : 오차항"
   ]
  },
  {
   "cell_type": "markdown",
   "id": "b083bf8e",
   "metadata": {},
   "source": [
    "<br>\n",
    "\n",
    "- INLA에서, 관심있는 잠재요소들에 대한 집합 $x$\n",
    "\n",
    "$$\\mathbf{x} = \\left(\\eta_1, \\ldots,\\eta_n, \\alpha, \\beta_1, \\ldots \\right)$$\n",
    "\n",
    "<br>\n",
    "\n",
    "- 초매개변수의 집합 $\\theta$\n",
    "\n",
    "$$\\theta = (\\theta_1, \\dots)$$"
   ]
  },
  {
   "cell_type": "markdown",
   "id": "837cff60",
   "metadata": {},
   "source": [
    "<br>\n",
    "\n",
    "#### 잠재요인 $x$와 초매개변수 $\\theta$의 사후 결합분포\n",
    "\n",
    "$$\\pi(\\mathbf{x}, \\theta \\mid \\mathbf{y})  = \\frac{\\pi(\\mathbf{y} \\mid \\mathbf{x},\n",
    "\\theta) \\pi(\\mathbf{x},\\theta)}{\\pi(\\mathbf{y})}\\propto \\pi(\\mathbf{y} \\mid \\mathbf{x}, \\theta) \\pi(\\mathbf{x}, \\theta)$$\n",
    "\n",
    "- 베이지안 추론에서 $\\pi(y)$는 정규화 상수로서 주변 가능도를 의미하며, 계산의 복잡성으로 인하여 제외되는 경우가 많음\n",
    "    \n",
    "    하지만 INLA는 이 $\\pi(y)$라는 양적변수에 대해서 정확한 근사치를 제공\n",
    "    \n",
    "<br>\n",
    "\n",
    "- 또한 $\\pi(y|x,\\theta)$는, **관측값 ($y_1, \\dots, y_n$)이 잠재요인 $x$와 $\\theta$가 고려되었을 때, 독립이라는 가정(조건부 독립)에 의하여**, 아래와 같이 표현\n",
    "\n",
    "    ($n$개의 관측값들은, 초매개변수 $\\theta$에 의존하는 분포를 가진, 잠재요소 $x$가 주어졌을 때 독립적인 것으로 가정 **(조건부 독립)**\n",
    ")\n",
    "\n",
    "    $$\\pi(\\mathbf{y} \\mid \\mathbf{x}, \\theta) = \n",
    "    \\prod_{i\\in \\mathit{I}} \\pi(y_i \\mid x_i, \\theta)$$\n",
    "    \n",
    "    - **각 관측값 $y_i$는 $x_i$ 하나의 원소에 연결**\n",
    "    - **여기서 $I$는 관측값의 모든 인덱스에 해당되는 정수의 집합이며, 만약 관측값에 결측값이 포함되어 있다면, 해당 결측값의 인덱스는 $I$에서 제외됨**\n",
    "    \n",
    "    (관측값에 결측값이 있어도 INLA를 통하여 사후 예측분포를 계산할 수 있음)"
   ]
  },
  {
   "cell_type": "markdown",
   "id": "1a60ed6e",
   "metadata": {},
   "source": [
    "<br>\n",
    "\n",
    "- $\\theta$에 대하여 평균이 0이고 정도행렬 (precision matrix) $Q(\\theta)$인 다변량 정규 사전분포를 가정\n",
    "\n",
    "    즉, $x \\sim N(0, Q^{-1}(\\theta))$이고, 밀도함수는 아래와 같음\n",
    "    \n",
    "    (정도행렬 : 공분산 행렬의 역행렬)\n",
    "    \n",
    "$$\\pi(\\mathbf{x} \\mid \\theta) = (2\\pi)^{-\\frac{n}{2}}|\\mathbf{Q}(\\theta)|^{1/2}\\exp\\{-\\frac{1}{2}\\mathbf{x}^T \\mathbf{Q}(\\theta)\\mathbf{x}\\} \\\\\n",
    "\\propto |\\mathbf{Q}(\\theta)|^{1/2}\\exp\\{-\\frac{1}{2}\\mathbf{x}^T \\mathbf{Q}(\\theta)\\mathbf{x}\\}$$"
   ]
  },
  {
   "cell_type": "markdown",
   "id": "b0898cc5",
   "metadata": {},
   "source": [
    "<br>\n",
    "\n",
    "- 잠재 가우스 필드 (latent Gaussian field) $x$의 성분은 GMRF (Gaussian Markov random field)를 따르며,\n",
    "\n",
    "    GMRF는 $x$의 성분이 조건부 독립을 가정하기 때문에, $Q(\\theta)$가 희박한 정도행렬 (sparse precision matrix)이 됨\n",
    "    \n",
    "    $\\rightarrow$ 계산 시간이 감소"
   ]
  },
  {
   "cell_type": "markdown",
   "id": "3671467d",
   "metadata": {},
   "source": [
    "<br>\n",
    "\n",
    "- **랜덤 효과에 대한 결합분포와, 초매개변수 $\\pi(x, \\theta)$는 $\\pi(x|\\theta)$, $\\pi(\\theta)$로 치환될 수 있으며**\n",
    "\n",
    "    **$\\pi(\\theta)$는 초매개변수 $\\theta$의 사전 혼합분포 (prior ensemble distribution)**\n",
    "    \n"
   ]
  },
  {
   "cell_type": "markdown",
   "id": "e8a11f4c",
   "metadata": {},
   "source": [
    "<br>\n",
    "\n",
    "#### 따라서, 위의 모든 사항을 고려하였을 때, 잠재요인 초매개변수의 사후 결합분포는 아래와 같음\n",
    "\n",
    "$$\\pi(\\mathbf{x}, \\theta \\mid \\mathbf{y}) \\propto \\pi(\\theta) \\pi(x|\\theta) \\pi(y|x, \\theta)$$\n",
    "\n",
    "$$\\propto \\pi(\\theta) \\pi(x|\\theta)  \\prod \\pi(y_i | x_i, \\theta)$$\n",
    "\n",
    "$$\\propto  \\pi(\\theta) |\\mathbf{Q}(\\theta)|^{1/2}\\exp\\{-\\frac{1}{2}\\mathbf{x}^T \\mathbf{Q}(\\theta)\\mathbf{x}\\}\\prod_{i\\in \\mathit{I}} \\pi(y_i \\mid x_i, \\theta)=$$\n",
    "\n",
    "$$\\pi(\\theta) |\\mathbf{Q}(\\theta)|^{1/2}\\exp\\{-\\frac{1}{2}\\mathbf{x}^T \\mathbf{Q}(\\theta)\\mathbf{x} + \\sum_{i\\in \\mathit{I}} \\log(\\pi(y_i \\mid x_i, \\theta))\\}$$"
   ]
  },
  {
   "cell_type": "markdown",
   "id": "4fb1eeb3",
   "metadata": {},
   "source": [
    "<br>\n",
    "\n",
    "#### 다만 INLA는 사후 결합분포의 추정에 목적이 있는것이 아닌, 잠재요인 및 초매개변수별 주변분포를 추정하는 것이 목적\n",
    "- **잠재요인 $x_l$의 주변분포**\n",
    "\n",
    "$$\\pi(x_l \\mid \\mathbf{y}) = \\int \\pi(x_i, \\theta | y) d\\theta= \\int \\pi(x_l \\mid \\theta,  \\mathbf{y}) \\pi(\\theta \\mid \\mathbf{y}) d\\theta$$\n",
    "\n",
    "<br>\n",
    "\n",
    "- **초매개변수 $\\theta_k$의 사후 주변분포**\n",
    "    - $\\theta_{-k}$ : $\\theta_k$가 제외된 $\\theta$ 집합 $(\\theta_1, \\dots \\theta_{k-1}, \\theta_{k+1}, \\dots)$\n",
    "\n",
    "$$\\pi(\\theta_k \\mid  \\mathbf{y}) = \\int \\pi(\\theta \\mid \\mathbf{y}) d\\theta_{-k}$$"
   ]
  },
  {
   "cell_type": "markdown",
   "id": "179aa84a",
   "metadata": {},
   "source": [
    "<br>\n",
    "\n",
    "### 근사 베이지안 추론"
   ]
  },
  {
   "cell_type": "markdown",
   "id": "43674ed0",
   "metadata": {},
   "source": [
    "\n",
    "\n",
    "#### 위 식을 통하여, 아래의 두 가지 식을 구해야, 잠재요인과 초매개변수의 사후 주변분포를 계산할 수 있음\n",
    "\n",
    "<br>\n",
    "\n",
    "#### (1) $\\pi(\\theta|y)$를 계산 $\\rightarrow$ 이로부터 모든 주변함수 $\\pi(\\theta_k |y)$를 계산 가능"
   ]
  },
  {
   "cell_type": "markdown",
   "id": "0a631f06",
   "metadata": {},
   "source": [
    "1. **가우스 근사를 통하여 $\\pi(\\theta|y)$를 계산**   \n",
    "- **$x^*(\\theta)$ = 주어진 $\\theta$에 대한 최빈값**\n",
    "- **$\\tilde{\\pi}(x|\\theta, y)$는 $\\pi(x|\\theta, y)$의 가우스 근사**\n",
    "\n",
    "$${\\pi}(\\theta|y) = \\frac{\\pi(x, \\theta, y)}{\\pi(x|\\theta, y)} = \\frac{\\pi(y|x,\\theta)\\pi(x, \\theta)}{\\pi(y)} \\frac{1}{\\pi(x|\\theta, y)}$$\n",
    "\n",
    "$$=\\frac{\\pi(y|x, \\theta)\\pi(y|\\theta) \\pi(\\theta)}{\\pi(y)}\\frac{1}{\\pi(x|\\theta, y)}$$\n",
    "\n",
    "$$\\propto \\frac{\\pi(y|x, \\theta)\\pi(y|\\theta) \\pi(\\theta)}{\\pi(x|\\theta, y)}$$\n",
    "\n",
    "$$\\simeq \\frac{\\pi(y|x, \\theta)\\pi(x|\\theta) \\pi(\\theta)}{\\tilde{\\pi}(x|\\theta, y)} |_{x=x^*(\\theta)} =: \\tilde{\\pi}(\\theta|y)$$"
   ]
  },
  {
   "cell_type": "markdown",
   "id": "3e60d94c",
   "metadata": {},
   "source": [
    "\n",
    "\n",
    "<br>\n"
   ]
  },
  {
   "cell_type": "markdown",
   "id": "1a6b2913",
   "metadata": {},
   "source": [
    "2. **가우스 근사 $\\tilde{\\pi}(\\theta|y)$에 각 $\\theta_{-k}$들에 대한 적분을 통하여,**\n",
    "\n",
    "    **초매개변수 $\\theta_k$의 사후 주변분포를 계산**\n",
    "    \n",
    "$$\\tilde{\\pi}(\\theta_k \\mid  \\mathbf{y}) = \\int \\tilde{\\pi}(\\theta \\mid \\mathbf{y}) d\\theta_{-k}$$\n",
    "\n",
    "- $\\pi(x|\\theta, y)$가 GMRF와 같은 사전분포처럼 거의 가우스 분포이므로, 이 가우스 근사는 정확"
   ]
  },
  {
   "cell_type": "markdown",
   "id": "9350be13",
   "metadata": {},
   "source": [
    "#### (2) $\\pi(x_i | \\theta, y)$를 계산 $\\rightarrow$ 이로부터 잠재요인의 사후 주변분포 $\\pi(x_i|y)$를 계산 가능\n",
    "\n",
    "<br>\n",
    "\n"
   ]
  },
  {
   "cell_type": "markdown",
   "id": "3d5fa35e",
   "metadata": {},
   "source": [
    "#### $\\pi(x_i|\\theta, y)$를 근사하는 3가지 방법\n",
    "\n",
    "<br>\n",
    "\n",
    "#### A. 가우스 근사\n",
    "- (1)의 $\\pi(\\theta|y)$에 대한 근사과정에서 도출되는 $\\pi(x|\\theta, y)$의 가우스 근사 $\\tilde{\\pi_G}(x|\\theta, y)$를 사용 "
   ]
  },
  {
   "cell_type": "markdown",
   "id": "32920a6c",
   "metadata": {},
   "source": [
    "<br>\n",
    "\n",
    "#### B. 라플라스 근사\n",
    "- $\\pi_{GG}(x_{-i}|x_i, \\theta, y)$ : $x_{-i}|x_i, \\theta, y$에 대한 가우스 근사\n",
    "- $x^*_{-i}(x_i, \\theta)$ : 주어진 $x_i,\\;\\theta$에 대한 최빈값\n",
    "\n",
    "$$\\pi_{LA}(x_i|\\theta, y) \\propto \\frac{\\pi(x, \\theta, y)}{\\pi_{GG}(x_{-i}|x_i, \\theta, y)}|_{x_{-i}=x^*_{-i}(x_i, \\theta)}$$\n",
    "\n",
    "* 모든 $x_i$ 값에 대하여 계산이 필요하므로, 계산 시간이 오래 걸림 \n",
    "\n",
    "    $\\rightarrow$ Havard Rue, Martino, and Chopin (2009)는 다른 형태의 라플라스 근사를 제안\n",
    "    \n",
    "    $$\\pi_{LA}(x_i \\mid \\theta, \\mathbf{y}) \\propto N(x_i \\mid \\mu_i(\\theta), \\sigma_i^2(\\theta)) \\exp(spline(x_i))$$\n",
    "    \n",
    "    <br>\n",
    "    \n",
    "    $\\rightarrow$ **가우스 근사와, $x_i$에 대한 3차 스플라인(cubic spline)의 곱에 의존하는 형태**\n",
    "    \n",
    "    (3차 스플라인은 가우스 근사의 값을 보정)"
   ]
  },
  {
   "cell_type": "markdown",
   "id": "6827f806",
   "metadata": {},
   "source": [
    "<br>\n",
    "\n",
    "#### C. 간소화된 라플라스 근사\n",
    "- $x_i = \\mu_i(\\theta)$인근의 값에 대해서만 라플라스 근사 계산\n",
    "- 일부 값에 대해서만 라플라스 근사를 적용함으로서, 계산이 더욱더 간소화"
   ]
  },
  {
   "cell_type": "markdown",
   "id": "b0595db0",
   "metadata": {},
   "source": [
    "<br>\n",
    "\n",
    "<hr>\n",
    "\n",
    "#### 근사된 $\\tilde{\\pi}(x_i|\\theta, y)$와 $\\tilde{\\pi}(\\theta, y)$를 통하여, 잠재요인에 대한 사후 주변분포를 근사\n",
    "\n",
    "$$\\tilde{\\pi}({x_i|y}) = \\int \\tilde{\\pi}(x_i|\\theta, y) \\tilde{\\pi}(\\theta| y) d\\theta$$\n",
    "\n",
    "- 여기서 적분은 유한개의 가중치 합으로 수치적으로 해결\n",
    "- 적분점 $\\{\\theta^{(k)}\\}_{k=1}^K$과 가중치 $\\Delta_k$는 서로 대응되는 값을 가짐\n",
    "\n",
    "$$\\tilde{\\pi}({x_i|y}) \\simeq\n",
    "\\sum_{k=1}^K \\tilde\\pi(x_i \\mid \\theta^{(k)}, \\mathbf{y}) \\tilde\\pi(\\theta^{(k)} \\mid \\mathbf{y}) \\Delta_k$$\n",
    "\n",
    "\n",
    "<br>\n",
    "\n",
    "- **수치적 적분의 좋은 적분 점 $\\{\\theta^{(k)}\\}_{k=1}^K$을 찾기 위해, 초매개변수의 사후 결합분포 $\\tilde{\\theta|y}$를 비모수적 방법(그리드 탐색, 중심 합성 설계 등)으로 탐색**\n",
    "    \n",
    "    **비모수적 방법을 적용하기 위하여,최빈값을 중심으로 좋은 적분점을 찾기 위하여, $\\theta$-공간의 재매개화(reparameterization)이 필요**\n",
    "\n",
    "<br>\n",
    "\n",
    "1. $log(\\tilde{\\pi}(\\theta|y)$를 $\\theta$에 따라 최적화시켜 $\\tilde{\\pi}(\\theta|y)$의 최빈값 $\\theta^*$를 Newton-Raphson 방법을 이용하여 탐색\n",
    "\n",
    "\n",
    "2. 최빈값에서 음의 헤시안 (negative Hessian) $H$를 계산 (사후분포가 가우스 분포라면 $H^{-1}$는 분산행렬)\n",
    "\n",
    "    - 헤시안 행렬 : 함수의 2계 도함수를 이용하여 만든 행렬\n",
    "    - 함수 $f(x_, \\dots x_n)$에 대한 헤시안 행렬 $H =\n",
    "\\begin{bmatrix}\n",
    " \\frac{\\partial^2f}{\\partial x_1^2} & \\frac{\\partial^2f}{\\partial x_1\\partial x_2} & \\cdots & \\frac{\\partial^2f}{\\partial x_1\\partial x_n}  \\\\\\\\\n",
    " \\frac{\\partial^2f}{\\partial x_2\\partial x_1} & \\frac{\\partial^2f}{\\partial x_2^2} & \\cdots & \\vdots  \\\\\\\\\n",
    " \\vdots & \\vdots & \\ddots & \\vdots  \\\\\\\\\n",
    " \\frac{\\partial^2f}{\\partial x_n\\partial x_1} & \\cdots & \\cdots &  \\frac{\\partial^2f}{\\partial x_n^2}\n",
    " \\end{bmatrix}$\n",
    "\n",
    "\n",
    "3. 고윳값 분해를 사용하여 $H^{-1}=V \\Lambda V^T$로 분해\n",
    "\n",
    "4. 초매개변수 $\\theta$의 각 값에 대해, 표준화되고 상호 직교하는 성분으로 이루어진 새로운 변수 $z$를 재정의\n",
    "\n",
    "$$\\theta(z)=\\theta^* + VA^{1/2}z$$"
   ]
  },
  {
   "cell_type": "markdown",
   "id": "e168ffc5",
   "metadata": {},
   "source": [
    "<br>\n",
    "\n",
    "#### $\\theta$-공간의 재매개화 이후, 두 가지 방법을 적용하여 적분점 $\\theta^{(k)}$ 탐색\n",
    "\n",
    "#### 1. 그리드 탐색\n",
    "- 최빈값($z=0$)을 중심으로하는 $h$개의 정규 그리드를 사용하며, 그리드의 포인트는 주어진 임곗점 $\\delta$에 대해, 아래의 조건을 만족할 때 정의됨\n",
    "\n",
    "$$|\\log(\\tilde\\pi(\\theta(\\mathbf{0}) \\mid \\mathbf{y})) - \\log(\\tilde\\pi(\\theta(\\mathbf{z}) \\mid \\mathbf{y})) | < \\delta$$\n",
    "\n",
    "- 그리드에 대한 탐색은 $z$ 매개화에서 축을 따라 수행되며, 조건을 충족하는 모든 중간점이 선택\n",
    "\n",
    " 이를 통하여 적분에 사용될 수 있는, 사후분포 최빈값에 대한 초매개변수의 구성 (적분점  $\\theta^{(k)}$)을 얻음\n",
    "\n",
    "<br>\n",
    "\n",
    "#### 2. 중심 합성 설계\n",
    "- $θ(0)$을 중심으로 한 중심 합성 설계(CCD, Box and Draper 1987)를 사용하여 정규 그리드에서 점을 사용하는 대신 전략적으로 배치된 몇 개의 지점을 탐색\n",
    "    \n",
    "    초매개변수의 공간의 차원이 증가할수록 그리드 전략보다 더 효율적\n",
    "    \n",
    "    \n",
    "<br>\n",
    "\n",
    "#### 탐색 이후, 각 사후 주변분포 $\\pi(\\theta_k|y)$는 $\\pi(\\theta |y)$를 적분점 $\\theta^{(k)}$에서 계산된 적분 알고리즘을 이용하여 계산\n"
   ]
  },
  {
   "cell_type": "markdown",
   "id": "b18c7b08",
   "metadata": {},
   "source": [
    "<br>\n",
    "\n",
    "## 02.03. `INLA` 패키지\n",
    "\n",
    "<br>\n",
    "\n",
    "### 다중회귀"
   ]
  },
  {
   "cell_type": "code",
   "execution_count": 11,
   "id": "6dde09b9",
   "metadata": {},
   "outputs": [],
   "source": [
    "library(MASS)\n",
    "library(tidyverse)\n",
    "library(tidymodels)\n",
    "library(INLA)"
   ]
  },
  {
   "cell_type": "code",
   "execution_count": 22,
   "id": "a933adcb",
   "metadata": {},
   "outputs": [
    {
     "data": {
      "text/html": [
       "<style>\n",
       ".list-inline {list-style: none; margin:0; padding: 0}\n",
       ".list-inline>li {display: inline-block}\n",
       ".list-inline>li:not(:last-child)::after {content: \"\\00b7\"; padding: 0 .5ex}\n",
       "</style>\n",
       "<ol class=list-inline><li>13</li><li>5</li></ol>\n"
      ],
      "text/latex": [
       "\\begin{enumerate*}\n",
       "\\item 13\n",
       "\\item 5\n",
       "\\end{enumerate*}\n"
      ],
      "text/markdown": [
       "1. 13\n",
       "2. 5\n",
       "\n",
       "\n"
      ],
      "text/plain": [
       "[1] 13  5"
      ]
     },
     "metadata": {},
     "output_type": "display_data"
    },
    {
     "data": {
      "text/html": [
       "<table class=\"dataframe\">\n",
       "<caption>A data.frame: 6 × 5</caption>\n",
       "<thead>\n",
       "\t<tr><th></th><th scope=col>x1</th><th scope=col>x2</th><th scope=col>x3</th><th scope=col>x4</th><th scope=col>y</th></tr>\n",
       "\t<tr><th></th><th scope=col>&lt;int&gt;</th><th scope=col>&lt;int&gt;</th><th scope=col>&lt;int&gt;</th><th scope=col>&lt;int&gt;</th><th scope=col>&lt;dbl&gt;</th></tr>\n",
       "</thead>\n",
       "<tbody>\n",
       "\t<tr><th scope=row>1</th><td> 7</td><td>26</td><td> 6</td><td>60</td><td> 78.5</td></tr>\n",
       "\t<tr><th scope=row>2</th><td> 1</td><td>29</td><td>15</td><td>52</td><td> 74.3</td></tr>\n",
       "\t<tr><th scope=row>3</th><td>11</td><td>56</td><td> 8</td><td>20</td><td>104.3</td></tr>\n",
       "\t<tr><th scope=row>4</th><td>11</td><td>31</td><td> 8</td><td>47</td><td> 87.6</td></tr>\n",
       "\t<tr><th scope=row>5</th><td> 7</td><td>52</td><td> 6</td><td>33</td><td> 95.9</td></tr>\n",
       "\t<tr><th scope=row>6</th><td>11</td><td>55</td><td> 9</td><td>22</td><td>109.2</td></tr>\n",
       "</tbody>\n",
       "</table>\n"
      ],
      "text/latex": [
       "A data.frame: 6 × 5\n",
       "\\begin{tabular}{r|lllll}\n",
       "  & x1 & x2 & x3 & x4 & y\\\\\n",
       "  & <int> & <int> & <int> & <int> & <dbl>\\\\\n",
       "\\hline\n",
       "\t1 &  7 & 26 &  6 & 60 &  78.5\\\\\n",
       "\t2 &  1 & 29 & 15 & 52 &  74.3\\\\\n",
       "\t3 & 11 & 56 &  8 & 20 & 104.3\\\\\n",
       "\t4 & 11 & 31 &  8 & 47 &  87.6\\\\\n",
       "\t5 &  7 & 52 &  6 & 33 &  95.9\\\\\n",
       "\t6 & 11 & 55 &  9 & 22 & 109.2\\\\\n",
       "\\end{tabular}\n"
      ],
      "text/markdown": [
       "\n",
       "A data.frame: 6 × 5\n",
       "\n",
       "| <!--/--> | x1 &lt;int&gt; | x2 &lt;int&gt; | x3 &lt;int&gt; | x4 &lt;int&gt; | y &lt;dbl&gt; |\n",
       "|---|---|---|---|---|---|\n",
       "| 1 |  7 | 26 |  6 | 60 |  78.5 |\n",
       "| 2 |  1 | 29 | 15 | 52 |  74.3 |\n",
       "| 3 | 11 | 56 |  8 | 20 | 104.3 |\n",
       "| 4 | 11 | 31 |  8 | 47 |  87.6 |\n",
       "| 5 |  7 | 52 |  6 | 33 |  95.9 |\n",
       "| 6 | 11 | 55 |  9 | 22 | 109.2 |\n",
       "\n"
      ],
      "text/plain": [
       "  x1 x2 x3 x4 y    \n",
       "1  7 26  6 60  78.5\n",
       "2  1 29 15 52  74.3\n",
       "3 11 56  8 20 104.3\n",
       "4 11 31  8 47  87.6\n",
       "5  7 52  6 33  95.9\n",
       "6 11 55  9 22 109.2"
      ]
     },
     "metadata": {},
     "output_type": "display_data"
    }
   ],
   "source": [
    "cement %>% dim\n",
    "cement %>% head"
   ]
  },
  {
   "cell_type": "markdown",
   "id": "27944c45",
   "metadata": {},
   "source": [
    "<br>\n",
    "\n",
    "#### 회귀모형\n",
    "$$y_i = \\beta_0 + \\sum_{j=1}^4\\beta_j x_{j,i}+ \\varepsilon_i$$\n",
    "\n",
    "**사전분포**\n",
    "- $\\varepsilon \\sim ~ N(0, \\tau)$\n",
    "- $\\tau \\sim Gamma(1, 0.00005)$\n",
    "- $\\beta_0 \\sim N(0, \\sigma(\\beta_0)))$\n",
    "- $\\beta_j \\sim N(0, 0.001)$\n",
    "\n"
   ]
  },
  {
   "cell_type": "markdown",
   "id": "dd10b0e3",
   "metadata": {},
   "source": [
    "<br>\n",
    "\n",
    "#### `inla()`\n",
    "- `control.fixed` : 절편과 회귀계수에 대한 사전분포의 매개변수 설정\n",
    "\n",
    "    예) `control.fixed = list(prec = 0.01, compute = \"mode\", name = \"f\", solve = TRUE)`\n",
    "    \n",
    "    - list의 원소의 구성\n",
    "        - `prec.intercept` : 절편의 가우스 사전분포에 대한 정밀도 설정 (`default : 0`)\n",
    "        - `mean.intercept` : 절편의 가우스 사전분포에 대한 평균 설정 (`default : 0`)\n",
    "        - `prec` : 회귀계수의 가우스 사전분포에 대한 정밀도 설정 (`default : 0.001`)\n",
    "        - `mean` : 회귀계수의 가우스 사전분포에 대한 평균 설정 (`default : 0`)\n",
    "        - `compute` : 회귀계수의 사후분포에 대해 계산해야할 통계량 입력 (`default : mean`)"
   ]
  },
  {
   "cell_type": "code",
   "execution_count": 23,
   "id": "d7680313",
   "metadata": {},
   "outputs": [],
   "source": [
    "m1 <- inla(y ~ x1 + x2 + x3 + x4, data = cement)"
   ]
  },
  {
   "cell_type": "code",
   "execution_count": 24,
   "id": "d364bdd8",
   "metadata": {},
   "outputs": [
    {
     "data": {
      "text/plain": [
       "\n",
       "Call:\n",
       "   c(\"inla.core(formula = formula, family = family, contrasts = contrasts, \n",
       "   \", \" data = data, quantiles = quantiles, E = E, offset = offset, \", \" \n",
       "   scale = scale, weights = weights, Ntrials = Ntrials, strata = strata, \n",
       "   \", \" lp.scale = lp.scale, link.covariates = link.covariates, verbose = \n",
       "   verbose, \", \" lincomb = lincomb, selection = selection, control.compute \n",
       "   = control.compute, \", \" control.predictor = control.predictor, \n",
       "   control.family = control.family, \", \" control.inla = control.inla, \n",
       "   control.fixed = control.fixed, \", \" control.mode = control.mode, \n",
       "   control.expert = control.expert, \", \" control.hazard = control.hazard, \n",
       "   control.lincomb = control.lincomb, \", \" control.update = \n",
       "   control.update, control.lp.scale = control.lp.scale, \", \" \n",
       "   control.pardiso = control.pardiso, only.hyperparam = only.hyperparam, \n",
       "   \", \" inla.call = inla.call, inla.arg = inla.arg, num.threads = \n",
       "   num.threads, \", \" keep = keep, working.directory = working.directory, \n",
       "   silent = silent, \", \" inla.mode = inla.mode, safe = FALSE, debug = \n",
       "   debug, .parent.frame = .parent.frame)\" ) \n",
       "Time used:\n",
       "    Pre = 0.283, Running = 0.148, Post = 0.0285, Total = 0.46 \n",
       "Fixed effects:\n",
       "              mean     sd 0.025quant 0.5quant 0.975quant   mode kld\n",
       "(Intercept) 62.503 68.365    -74.061   62.493    199.131 62.495   0\n",
       "x1           1.550  0.727      0.098    1.550      3.002  1.550   0\n",
       "x2           0.509  0.706     -0.902    0.509      1.920  0.509   0\n",
       "x3           0.101  0.736     -1.371    0.101      1.572  0.101   0\n",
       "x4          -0.145  0.692     -1.528   -0.145      1.237 -0.145   0\n",
       "\n",
       "Model hyperparameters:\n",
       "                                         mean    sd 0.025quant 0.5quant\n",
       "Precision for the Gaussian observations 0.209 0.093      0.069    0.195\n",
       "                                        0.975quant  mode\n",
       "Precision for the Gaussian observations      0.428 0.168\n",
       "\n",
       "Marginal log-Likelihood:  -59.58 \n",
       " is computed \n",
       "Posterior summaries for the linear predictor and the fitted values are computed\n",
       "(Posterior marginals needs also 'control.compute=list(return.marginals.predictor=TRUE)')\n"
      ]
     },
     "metadata": {},
     "output_type": "display_data"
    }
   ],
   "source": [
    "summary(m1)"
   ]
  },
  {
   "cell_type": "markdown",
   "id": "96bad9dc",
   "metadata": {},
   "source": [
    "<br>\n",
    "\n",
    "#### `inla`객체의 요소\n",
    "- `summary.fitted.values` : 적합값의 요약 통계량\n",
    "- `summary.fixed` : 회귀계수에 대한 요약 통계량\n",
    "- `summary.random` : 랜덤효과에 대한 요약 통계량\n",
    "- `summary.linear.predictor` : 예측값에 대한 요약 통계량\n",
    "- `marginals.fitted.values` : 적합값에 대한 사후 주변분포\n",
    "- `marginals.fixed` : 회귀계수에 대한 사후 주변분포\n",
    "- `marginals.random` :  랜덤효과에 대한 사후 주변분포\n",
    "- `marginals.linear.predictor` : 예측값에 대한 사후 주변분포\n",
    "- `milk` : 주변 가능도 추정치"
   ]
  },
  {
   "cell_type": "code",
   "execution_count": 30,
   "id": "c64de634",
   "metadata": {},
   "outputs": [
    {
     "data": {
      "text/html": [
       "<table class=\"dataframe\">\n",
       "<caption>A data.frame: 13 × 6</caption>\n",
       "<thead>\n",
       "\t<tr><th></th><th scope=col>mean</th><th scope=col>sd</th><th scope=col>0.025quant</th><th scope=col>0.5quant</th><th scope=col>0.975quant</th><th scope=col>mode</th></tr>\n",
       "\t<tr><th></th><th scope=col>&lt;dbl&gt;</th><th scope=col>&lt;dbl&gt;</th><th scope=col>&lt;dbl&gt;</th><th scope=col>&lt;dbl&gt;</th><th scope=col>&lt;dbl&gt;</th><th scope=col>&lt;dbl&gt;</th></tr>\n",
       "</thead>\n",
       "<tbody>\n",
       "\t<tr><th scope=row>fitted.Predictor.01</th><td> 78.49486</td><td>1.7618230</td><td> 74.97566</td><td> 78.49473</td><td> 82.01527</td><td> 78.49471</td></tr>\n",
       "\t<tr><th scope=row>fitted.Predictor.02</th><td> 72.78995</td><td>1.3709343</td><td> 70.05199</td><td> 72.78971</td><td> 75.52973</td><td> 72.78948</td></tr>\n",
       "\t<tr><th scope=row>fitted.Predictor.03</th><td>105.97348</td><td>1.8025230</td><td>102.37401</td><td>105.97307</td><td>109.57593</td><td>105.97262</td></tr>\n",
       "\t<tr><th scope=row>fitted.Predictor.04</th><td> 89.32802</td><td>1.2903818</td><td> 86.75088</td><td> 89.32781</td><td> 91.90676</td><td> 89.32762</td></tr>\n",
       "\t<tr><th scope=row>fitted.Predictor.05</th><td> 95.64935</td><td>1.4203868</td><td> 92.81228</td><td> 95.64921</td><td> 98.48766</td><td> 95.64913</td></tr>\n",
       "\t<tr><th scope=row>fitted.Predictor.06</th><td>105.27493</td><td>0.8369143</td><td>103.60337</td><td>105.27481</td><td>106.94739</td><td>105.27472</td></tr>\n",
       "\t<tr><th scope=row>fitted.Predictor.07</th><td>104.14885</td><td>1.4391250</td><td>101.27436</td><td>104.14870</td><td>107.02463</td><td>104.14861</td></tr>\n",
       "\t<tr><th scope=row>fitted.Predictor.08</th><td> 75.67460</td><td>1.5180679</td><td> 72.64228</td><td> 75.67450</td><td> 78.70794</td><td> 75.67449</td></tr>\n",
       "\t<tr><th scope=row>fitted.Predictor.09</th><td> 91.72304</td><td>1.2880602</td><td> 89.15071</td><td> 91.72278</td><td> 94.29725</td><td> 91.72252</td></tr>\n",
       "\t<tr><th scope=row>fitted.Predictor.10</th><td>115.61784</td><td>1.9877533</td><td>111.64729</td><td>115.61772</td><td>119.58966</td><td>115.61772</td></tr>\n",
       "\t<tr><th scope=row>fitted.Predictor.11</th><td> 81.80841</td><td>1.5491479</td><td> 78.71396</td><td> 81.80832</td><td> 84.90377</td><td> 81.80835</td></tr>\n",
       "\t<tr><th scope=row>fitted.Predictor.12</th><td>112.32631</td><td>1.2177177</td><td>109.89384</td><td>112.32626</td><td>114.75935</td><td>112.32631</td></tr>\n",
       "\t<tr><th scope=row>fitted.Predictor.13</th><td>111.69378</td><td>1.3087478</td><td>109.07952</td><td>111.69371</td><td>114.30877</td><td>111.69373</td></tr>\n",
       "</tbody>\n",
       "</table>\n"
      ],
      "text/latex": [
       "A data.frame: 13 × 6\n",
       "\\begin{tabular}{r|llllll}\n",
       "  & mean & sd & 0.025quant & 0.5quant & 0.975quant & mode\\\\\n",
       "  & <dbl> & <dbl> & <dbl> & <dbl> & <dbl> & <dbl>\\\\\n",
       "\\hline\n",
       "\tfitted.Predictor.01 &  78.49486 & 1.7618230 &  74.97566 &  78.49473 &  82.01527 &  78.49471\\\\\n",
       "\tfitted.Predictor.02 &  72.78995 & 1.3709343 &  70.05199 &  72.78971 &  75.52973 &  72.78948\\\\\n",
       "\tfitted.Predictor.03 & 105.97348 & 1.8025230 & 102.37401 & 105.97307 & 109.57593 & 105.97262\\\\\n",
       "\tfitted.Predictor.04 &  89.32802 & 1.2903818 &  86.75088 &  89.32781 &  91.90676 &  89.32762\\\\\n",
       "\tfitted.Predictor.05 &  95.64935 & 1.4203868 &  92.81228 &  95.64921 &  98.48766 &  95.64913\\\\\n",
       "\tfitted.Predictor.06 & 105.27493 & 0.8369143 & 103.60337 & 105.27481 & 106.94739 & 105.27472\\\\\n",
       "\tfitted.Predictor.07 & 104.14885 & 1.4391250 & 101.27436 & 104.14870 & 107.02463 & 104.14861\\\\\n",
       "\tfitted.Predictor.08 &  75.67460 & 1.5180679 &  72.64228 &  75.67450 &  78.70794 &  75.67449\\\\\n",
       "\tfitted.Predictor.09 &  91.72304 & 1.2880602 &  89.15071 &  91.72278 &  94.29725 &  91.72252\\\\\n",
       "\tfitted.Predictor.10 & 115.61784 & 1.9877533 & 111.64729 & 115.61772 & 119.58966 & 115.61772\\\\\n",
       "\tfitted.Predictor.11 &  81.80841 & 1.5491479 &  78.71396 &  81.80832 &  84.90377 &  81.80835\\\\\n",
       "\tfitted.Predictor.12 & 112.32631 & 1.2177177 & 109.89384 & 112.32626 & 114.75935 & 112.32631\\\\\n",
       "\tfitted.Predictor.13 & 111.69378 & 1.3087478 & 109.07952 & 111.69371 & 114.30877 & 111.69373\\\\\n",
       "\\end{tabular}\n"
      ],
      "text/markdown": [
       "\n",
       "A data.frame: 13 × 6\n",
       "\n",
       "| <!--/--> | mean &lt;dbl&gt; | sd &lt;dbl&gt; | 0.025quant &lt;dbl&gt; | 0.5quant &lt;dbl&gt; | 0.975quant &lt;dbl&gt; | mode &lt;dbl&gt; |\n",
       "|---|---|---|---|---|---|---|\n",
       "| fitted.Predictor.01 |  78.49486 | 1.7618230 |  74.97566 |  78.49473 |  82.01527 |  78.49471 |\n",
       "| fitted.Predictor.02 |  72.78995 | 1.3709343 |  70.05199 |  72.78971 |  75.52973 |  72.78948 |\n",
       "| fitted.Predictor.03 | 105.97348 | 1.8025230 | 102.37401 | 105.97307 | 109.57593 | 105.97262 |\n",
       "| fitted.Predictor.04 |  89.32802 | 1.2903818 |  86.75088 |  89.32781 |  91.90676 |  89.32762 |\n",
       "| fitted.Predictor.05 |  95.64935 | 1.4203868 |  92.81228 |  95.64921 |  98.48766 |  95.64913 |\n",
       "| fitted.Predictor.06 | 105.27493 | 0.8369143 | 103.60337 | 105.27481 | 106.94739 | 105.27472 |\n",
       "| fitted.Predictor.07 | 104.14885 | 1.4391250 | 101.27436 | 104.14870 | 107.02463 | 104.14861 |\n",
       "| fitted.Predictor.08 |  75.67460 | 1.5180679 |  72.64228 |  75.67450 |  78.70794 |  75.67449 |\n",
       "| fitted.Predictor.09 |  91.72304 | 1.2880602 |  89.15071 |  91.72278 |  94.29725 |  91.72252 |\n",
       "| fitted.Predictor.10 | 115.61784 | 1.9877533 | 111.64729 | 115.61772 | 119.58966 | 115.61772 |\n",
       "| fitted.Predictor.11 |  81.80841 | 1.5491479 |  78.71396 |  81.80832 |  84.90377 |  81.80835 |\n",
       "| fitted.Predictor.12 | 112.32631 | 1.2177177 | 109.89384 | 112.32626 | 114.75935 | 112.32631 |\n",
       "| fitted.Predictor.13 | 111.69378 | 1.3087478 | 109.07952 | 111.69371 | 114.30877 | 111.69373 |\n",
       "\n"
      ],
      "text/plain": [
       "                    mean      sd        0.025quant 0.5quant  0.975quant\n",
       "fitted.Predictor.01  78.49486 1.7618230  74.97566   78.49473  82.01527 \n",
       "fitted.Predictor.02  72.78995 1.3709343  70.05199   72.78971  75.52973 \n",
       "fitted.Predictor.03 105.97348 1.8025230 102.37401  105.97307 109.57593 \n",
       "fitted.Predictor.04  89.32802 1.2903818  86.75088   89.32781  91.90676 \n",
       "fitted.Predictor.05  95.64935 1.4203868  92.81228   95.64921  98.48766 \n",
       "fitted.Predictor.06 105.27493 0.8369143 103.60337  105.27481 106.94739 \n",
       "fitted.Predictor.07 104.14885 1.4391250 101.27436  104.14870 107.02463 \n",
       "fitted.Predictor.08  75.67460 1.5180679  72.64228   75.67450  78.70794 \n",
       "fitted.Predictor.09  91.72304 1.2880602  89.15071   91.72278  94.29725 \n",
       "fitted.Predictor.10 115.61784 1.9877533 111.64729  115.61772 119.58966 \n",
       "fitted.Predictor.11  81.80841 1.5491479  78.71396   81.80832  84.90377 \n",
       "fitted.Predictor.12 112.32631 1.2177177 109.89384  112.32626 114.75935 \n",
       "fitted.Predictor.13 111.69378 1.3087478 109.07952  111.69371 114.30877 \n",
       "                    mode     \n",
       "fitted.Predictor.01  78.49471\n",
       "fitted.Predictor.02  72.78948\n",
       "fitted.Predictor.03 105.97262\n",
       "fitted.Predictor.04  89.32762\n",
       "fitted.Predictor.05  95.64913\n",
       "fitted.Predictor.06 105.27472\n",
       "fitted.Predictor.07 104.14861\n",
       "fitted.Predictor.08  75.67449\n",
       "fitted.Predictor.09  91.72252\n",
       "fitted.Predictor.10 115.61772\n",
       "fitted.Predictor.11  81.80835\n",
       "fitted.Predictor.12 112.32631\n",
       "fitted.Predictor.13 111.69373"
      ]
     },
     "metadata": {},
     "output_type": "display_data"
    }
   ],
   "source": [
    "m1$summary.fitted.values"
   ]
  },
  {
   "cell_type": "markdown",
   "id": "edcec148",
   "metadata": {},
   "source": [
    "<br>\n",
    "\n",
    "### 일반화 선형회귀"
   ]
  },
  {
   "cell_type": "markdown",
   "id": "b90bd603",
   "metadata": {},
   "source": [
    "#### `inla.models()` : `INLA`에서 설정 가능한 가능도, 연결함수 등의 목록 확인 가능\n",
    "- `latent` : 사용가능한 잠재모형 목록\n",
    "- `group` : 관측값들을 그룹화할 때 사용 가능한 모형 목록\n",
    "- `link` : 사용가능한 연결함수 목록\n",
    "- `hazard` : 사용가능한 위험함수 목록\n",
    "- `likelihood` : 사용가능한 가능도 목록\n",
    "- `prior` : 사용가능한 사전분포 목록\n",
    "\n",
    "<br>\n",
    "\n"
   ]
  },
  {
   "cell_type": "code",
   "execution_count": 36,
   "id": "8d1910cc",
   "metadata": {
    "scrolled": false
   },
   "outputs": [
    {
     "data": {
      "text/html": [
       "<style>\n",
       ".list-inline {list-style: none; margin:0; padding: 0}\n",
       ".list-inline>li {display: inline-block}\n",
       ".list-inline>li:not(:last-child)::after {content: \"\\00b7\"; padding: 0 .5ex}\n",
       "</style>\n",
       "<ol class=list-inline><li>'exchangeable'</li><li>'exchangeablepos'</li><li>'ar1'</li><li>'ar'</li><li>'rw1'</li><li>'rw2'</li><li>'besag'</li><li>'iid'</li></ol>\n"
      ],
      "text/latex": [
       "\\begin{enumerate*}\n",
       "\\item 'exchangeable'\n",
       "\\item 'exchangeablepos'\n",
       "\\item 'ar1'\n",
       "\\item 'ar'\n",
       "\\item 'rw1'\n",
       "\\item 'rw2'\n",
       "\\item 'besag'\n",
       "\\item 'iid'\n",
       "\\end{enumerate*}\n"
      ],
      "text/markdown": [
       "1. 'exchangeable'\n",
       "2. 'exchangeablepos'\n",
       "3. 'ar1'\n",
       "4. 'ar'\n",
       "5. 'rw1'\n",
       "6. 'rw2'\n",
       "7. 'besag'\n",
       "8. 'iid'\n",
       "\n",
       "\n"
      ],
      "text/plain": [
       "[1] \"exchangeable\"    \"exchangeablepos\" \"ar1\"             \"ar\"             \n",
       "[5] \"rw1\"             \"rw2\"             \"besag\"           \"iid\"            "
      ]
     },
     "metadata": {},
     "output_type": "display_data"
    }
   ],
   "source": [
    "names(inla.models()$group)"
   ]
  },
  {
   "cell_type": "markdown",
   "id": "34dd81cb",
   "metadata": {},
   "source": [
    "- `INLA`에서 사용가능한 연결함수 목록"
   ]
  },
  {
   "cell_type": "code",
   "execution_count": 35,
   "id": "1bc40583",
   "metadata": {},
   "outputs": [
    {
     "data": {
      "text/html": [
       "<style>\n",
       ".list-inline {list-style: none; margin:0; padding: 0}\n",
       ".list-inline>li {display: inline-block}\n",
       ".list-inline>li:not(:last-child)::after {content: \"\\00b7\"; padding: 0 .5ex}\n",
       "</style>\n",
       "<ol class=list-inline><li>'default'</li><li>'cloglog'</li><li>'ccloglog'</li><li>'loglog'</li><li>'identity'</li><li>'inverse'</li><li>'log'</li><li>'loga'</li><li>'neglog'</li><li>'logit'</li><li>'probit'</li><li>'cauchit'</li><li>'tan'</li><li>'quantile'</li><li>'pquantile'</li><li>'sslogit'</li><li>'logoffset'</li><li>'logitoffset'</li><li>'robit'</li><li>'sn'</li><li>'powerlogit'</li><li>'test1'</li><li>'special1'</li><li>'special2'</li></ol>\n"
      ],
      "text/latex": [
       "\\begin{enumerate*}\n",
       "\\item 'default'\n",
       "\\item 'cloglog'\n",
       "\\item 'ccloglog'\n",
       "\\item 'loglog'\n",
       "\\item 'identity'\n",
       "\\item 'inverse'\n",
       "\\item 'log'\n",
       "\\item 'loga'\n",
       "\\item 'neglog'\n",
       "\\item 'logit'\n",
       "\\item 'probit'\n",
       "\\item 'cauchit'\n",
       "\\item 'tan'\n",
       "\\item 'quantile'\n",
       "\\item 'pquantile'\n",
       "\\item 'sslogit'\n",
       "\\item 'logoffset'\n",
       "\\item 'logitoffset'\n",
       "\\item 'robit'\n",
       "\\item 'sn'\n",
       "\\item 'powerlogit'\n",
       "\\item 'test1'\n",
       "\\item 'special1'\n",
       "\\item 'special2'\n",
       "\\end{enumerate*}\n"
      ],
      "text/markdown": [
       "1. 'default'\n",
       "2. 'cloglog'\n",
       "3. 'ccloglog'\n",
       "4. 'loglog'\n",
       "5. 'identity'\n",
       "6. 'inverse'\n",
       "7. 'log'\n",
       "8. 'loga'\n",
       "9. 'neglog'\n",
       "10. 'logit'\n",
       "11. 'probit'\n",
       "12. 'cauchit'\n",
       "13. 'tan'\n",
       "14. 'quantile'\n",
       "15. 'pquantile'\n",
       "16. 'sslogit'\n",
       "17. 'logoffset'\n",
       "18. 'logitoffset'\n",
       "19. 'robit'\n",
       "20. 'sn'\n",
       "21. 'powerlogit'\n",
       "22. 'test1'\n",
       "23. 'special1'\n",
       "24. 'special2'\n",
       "\n",
       "\n"
      ],
      "text/plain": [
       " [1] \"default\"     \"cloglog\"     \"ccloglog\"    \"loglog\"      \"identity\"   \n",
       " [6] \"inverse\"     \"log\"         \"loga\"        \"neglog\"      \"logit\"      \n",
       "[11] \"probit\"      \"cauchit\"     \"tan\"         \"quantile\"    \"pquantile\"  \n",
       "[16] \"sslogit\"     \"logoffset\"   \"logitoffset\" \"robit\"       \"sn\"         \n",
       "[21] \"powerlogit\"  \"test1\"       \"special1\"    \"special2\"   "
      ]
     },
     "metadata": {},
     "output_type": "display_data"
    }
   ],
   "source": [
    "names(inla.models()$link)"
   ]
  },
  {
   "cell_type": "markdown",
   "id": "7f16ce56",
   "metadata": {},
   "source": [
    "<br>\n",
    "\n",
    "#### `INLA`를 사용하여 일반화 선형회귀 적합"
   ]
  },
  {
   "cell_type": "code",
   "execution_count": 38,
   "id": "e41ce511",
   "metadata": {},
   "outputs": [],
   "source": [
    "library(spdep)"
   ]
  },
  {
   "cell_type": "code",
   "execution_count": 39,
   "id": "e88448f0",
   "metadata": {},
   "outputs": [],
   "source": [
    "data(nc.sids)"
   ]
  },
  {
   "cell_type": "code",
   "execution_count": 41,
   "id": "eaa86392",
   "metadata": {},
   "outputs": [
    {
     "data": {
      "text/html": [
       "<style>\n",
       ".list-inline {list-style: none; margin:0; padding: 0}\n",
       ".list-inline>li {display: inline-block}\n",
       ".list-inline>li:not(:last-child)::after {content: \"\\00b7\"; padding: 0 .5ex}\n",
       "</style>\n",
       "<ol class=list-inline><li>100</li><li>15</li></ol>\n"
      ],
      "text/latex": [
       "\\begin{enumerate*}\n",
       "\\item 100\n",
       "\\item 15\n",
       "\\end{enumerate*}\n"
      ],
      "text/markdown": [
       "1. 100\n",
       "2. 15\n",
       "\n",
       "\n"
      ],
      "text/plain": [
       "[1] 100  15"
      ]
     },
     "metadata": {},
     "output_type": "display_data"
    },
    {
     "data": {
      "text/html": [
       "<table class=\"dataframe\">\n",
       "<caption>A data.frame: 6 × 15</caption>\n",
       "<thead>\n",
       "\t<tr><th></th><th scope=col>CNTY.ID</th><th scope=col>BIR74</th><th scope=col>SID74</th><th scope=col>NWBIR74</th><th scope=col>BIR79</th><th scope=col>SID79</th><th scope=col>NWBIR79</th><th scope=col>east</th><th scope=col>north</th><th scope=col>x</th><th scope=col>y</th><th scope=col>lon</th><th scope=col>lat</th><th scope=col>L.id</th><th scope=col>M.id</th></tr>\n",
       "\t<tr><th></th><th scope=col>&lt;dbl&gt;</th><th scope=col>&lt;dbl&gt;</th><th scope=col>&lt;dbl&gt;</th><th scope=col>&lt;dbl&gt;</th><th scope=col>&lt;dbl&gt;</th><th scope=col>&lt;dbl&gt;</th><th scope=col>&lt;dbl&gt;</th><th scope=col>&lt;dbl&gt;</th><th scope=col>&lt;dbl&gt;</th><th scope=col>&lt;dbl&gt;</th><th scope=col>&lt;dbl&gt;</th><th scope=col>&lt;dbl&gt;</th><th scope=col>&lt;dbl&gt;</th><th scope=col>&lt;dbl&gt;</th><th scope=col>&lt;dbl&gt;</th></tr>\n",
       "</thead>\n",
       "<tbody>\n",
       "\t<tr><th scope=row>Ashe</th><td>1825</td><td>1091</td><td>1</td><td>  10</td><td>1364</td><td>0</td><td>  19</td><td>164</td><td>176</td><td>-81.67</td><td>4052.29</td><td>-81.48594</td><td>36.43940</td><td>1</td><td>2</td></tr>\n",
       "\t<tr><th scope=row>Alleghany</th><td>1827</td><td> 487</td><td>0</td><td>  10</td><td> 542</td><td>3</td><td>  12</td><td>183</td><td>182</td><td>-50.06</td><td>4059.70</td><td>-81.14061</td><td>36.52443</td><td>1</td><td>2</td></tr>\n",
       "\t<tr><th scope=row>Surry</th><td>1828</td><td>3188</td><td>5</td><td> 208</td><td>3616</td><td>6</td><td> 260</td><td>204</td><td>174</td><td>-16.14</td><td>4043.76</td><td>-80.75312</td><td>36.40033</td><td>1</td><td>2</td></tr>\n",
       "\t<tr><th scope=row>Currituck</th><td>1831</td><td> 508</td><td>1</td><td> 123</td><td> 830</td><td>2</td><td> 145</td><td>461</td><td>182</td><td>406.01</td><td>4035.10</td><td>-76.04892</td><td>36.45655</td><td>1</td><td>4</td></tr>\n",
       "\t<tr><th scope=row>Northampton</th><td>1832</td><td>1421</td><td>9</td><td>1066</td><td>1606</td><td>3</td><td>1197</td><td>385</td><td>176</td><td>281.10</td><td>4029.75</td><td>-77.44057</td><td>36.38799</td><td>1</td><td>4</td></tr>\n",
       "\t<tr><th scope=row>Hertford</th><td>1833</td><td>1452</td><td>7</td><td> 954</td><td>1838</td><td>5</td><td>1237</td><td>411</td><td>176</td><td>323.77</td><td>4028.10</td><td>-76.96474</td><td>36.38189</td><td>1</td><td>4</td></tr>\n",
       "</tbody>\n",
       "</table>\n"
      ],
      "text/latex": [
       "A data.frame: 6 × 15\n",
       "\\begin{tabular}{r|lllllllllllllll}\n",
       "  & CNTY.ID & BIR74 & SID74 & NWBIR74 & BIR79 & SID79 & NWBIR79 & east & north & x & y & lon & lat & L.id & M.id\\\\\n",
       "  & <dbl> & <dbl> & <dbl> & <dbl> & <dbl> & <dbl> & <dbl> & <dbl> & <dbl> & <dbl> & <dbl> & <dbl> & <dbl> & <dbl> & <dbl>\\\\\n",
       "\\hline\n",
       "\tAshe & 1825 & 1091 & 1 &   10 & 1364 & 0 &   19 & 164 & 176 & -81.67 & 4052.29 & -81.48594 & 36.43940 & 1 & 2\\\\\n",
       "\tAlleghany & 1827 &  487 & 0 &   10 &  542 & 3 &   12 & 183 & 182 & -50.06 & 4059.70 & -81.14061 & 36.52443 & 1 & 2\\\\\n",
       "\tSurry & 1828 & 3188 & 5 &  208 & 3616 & 6 &  260 & 204 & 174 & -16.14 & 4043.76 & -80.75312 & 36.40033 & 1 & 2\\\\\n",
       "\tCurrituck & 1831 &  508 & 1 &  123 &  830 & 2 &  145 & 461 & 182 & 406.01 & 4035.10 & -76.04892 & 36.45655 & 1 & 4\\\\\n",
       "\tNorthampton & 1832 & 1421 & 9 & 1066 & 1606 & 3 & 1197 & 385 & 176 & 281.10 & 4029.75 & -77.44057 & 36.38799 & 1 & 4\\\\\n",
       "\tHertford & 1833 & 1452 & 7 &  954 & 1838 & 5 & 1237 & 411 & 176 & 323.77 & 4028.10 & -76.96474 & 36.38189 & 1 & 4\\\\\n",
       "\\end{tabular}\n"
      ],
      "text/markdown": [
       "\n",
       "A data.frame: 6 × 15\n",
       "\n",
       "| <!--/--> | CNTY.ID &lt;dbl&gt; | BIR74 &lt;dbl&gt; | SID74 &lt;dbl&gt; | NWBIR74 &lt;dbl&gt; | BIR79 &lt;dbl&gt; | SID79 &lt;dbl&gt; | NWBIR79 &lt;dbl&gt; | east &lt;dbl&gt; | north &lt;dbl&gt; | x &lt;dbl&gt; | y &lt;dbl&gt; | lon &lt;dbl&gt; | lat &lt;dbl&gt; | L.id &lt;dbl&gt; | M.id &lt;dbl&gt; |\n",
       "|---|---|---|---|---|---|---|---|---|---|---|---|---|---|---|---|\n",
       "| Ashe | 1825 | 1091 | 1 |   10 | 1364 | 0 |   19 | 164 | 176 | -81.67 | 4052.29 | -81.48594 | 36.43940 | 1 | 2 |\n",
       "| Alleghany | 1827 |  487 | 0 |   10 |  542 | 3 |   12 | 183 | 182 | -50.06 | 4059.70 | -81.14061 | 36.52443 | 1 | 2 |\n",
       "| Surry | 1828 | 3188 | 5 |  208 | 3616 | 6 |  260 | 204 | 174 | -16.14 | 4043.76 | -80.75312 | 36.40033 | 1 | 2 |\n",
       "| Currituck | 1831 |  508 | 1 |  123 |  830 | 2 |  145 | 461 | 182 | 406.01 | 4035.10 | -76.04892 | 36.45655 | 1 | 4 |\n",
       "| Northampton | 1832 | 1421 | 9 | 1066 | 1606 | 3 | 1197 | 385 | 176 | 281.10 | 4029.75 | -77.44057 | 36.38799 | 1 | 4 |\n",
       "| Hertford | 1833 | 1452 | 7 |  954 | 1838 | 5 | 1237 | 411 | 176 | 323.77 | 4028.10 | -76.96474 | 36.38189 | 1 | 4 |\n",
       "\n"
      ],
      "text/plain": [
       "            CNTY.ID BIR74 SID74 NWBIR74 BIR79 SID79 NWBIR79 east north x     \n",
       "Ashe        1825    1091  1       10    1364  0       19    164  176   -81.67\n",
       "Alleghany   1827     487  0       10     542  3       12    183  182   -50.06\n",
       "Surry       1828    3188  5      208    3616  6      260    204  174   -16.14\n",
       "Currituck   1831     508  1      123     830  2      145    461  182   406.01\n",
       "Northampton 1832    1421  9     1066    1606  3     1197    385  176   281.10\n",
       "Hertford    1833    1452  7      954    1838  5     1237    411  176   323.77\n",
       "            y       lon       lat      L.id M.id\n",
       "Ashe        4052.29 -81.48594 36.43940 1    2   \n",
       "Alleghany   4059.70 -81.14061 36.52443 1    2   \n",
       "Surry       4043.76 -80.75312 36.40033 1    2   \n",
       "Currituck   4035.10 -76.04892 36.45655 1    4   \n",
       "Northampton 4029.75 -77.44057 36.38799 1    4   \n",
       "Hertford    4028.10 -76.96474 36.38189 1    4   "
      ]
     },
     "metadata": {},
     "output_type": "display_data"
    }
   ],
   "source": [
    "nc.sids %>% dim\n",
    "nc.sids %>% head"
   ]
  },
  {
   "cell_type": "markdown",
   "id": "57ffcace",
   "metadata": {},
   "source": [
    "<br>\n",
    "\n",
    "#### 포아송 회귀 분석 예시\n",
    "\n",
    "$$O_i \\sim Po(\\mu_i),\\ i=1,\\ldots, 100$$\n",
    "\n",
    "$$\\log(\\mu_i) = \\log(E_i) + \\beta_0 +\\beta_1 nw_i,\\ i=1,\\ldots, 100$$\n",
    "\n",
    "<br>\n",
    "\n",
    "* $P_i$ : $i$ 지역의 출생아 수\n",
    "- $O_i$ : $i$ 지역에서 발생한 유아 돌연사 발생 수\n",
    "- $E_i$ : $i$ 지역 유아 돌연사 발생 기댓값\n",
    "\n",
    "$$E_i = P_i \\frac{\\sum_{i=1}^{100} O_i}{\\sum_{i=1}^{100} P_i}$$\n"
   ]
  },
  {
   "cell_type": "code",
   "execution_count": 43,
   "id": "e441cab9",
   "metadata": {},
   "outputs": [],
   "source": [
    "r <- sum(nc.sids$SID74) / sum(nc.sids$BIR74)\n",
    "nc.sids$EXP74 <- r * nc.sids$BIR74"
   ]
  },
  {
   "cell_type": "markdown",
   "id": "55006d57",
   "metadata": {},
   "source": [
    "- $nw_i $ : $i$ 지역의 전체 출생 비율에서의 유색인종 비율"
   ]
  },
  {
   "cell_type": "code",
   "execution_count": 45,
   "id": "501c483c",
   "metadata": {},
   "outputs": [],
   "source": [
    "nc.sids$NWPROP74 <- nc.sids$NWBIR74 / nc.sids$BIR74"
   ]
  },
  {
   "cell_type": "markdown",
   "id": "5ecadf3a",
   "metadata": {},
   "source": [
    "<br>\n",
    "\n",
    "- 포아송 회귀 적합\n",
    "    - 유색인종의 출생 비율이 높은 지역에서, 유아 돌연사 발생이 높음을 확인"
   ]
  },
  {
   "cell_type": "code",
   "execution_count": 46,
   "id": "19a01a8e",
   "metadata": {
    "scrolled": false
   },
   "outputs": [
    {
     "data": {
      "text/plain": [
       "\n",
       "Call:\n",
       "   c(\"inla.core(formula = formula, family = family, contrasts = contrasts, \n",
       "   \", \" data = data, quantiles = quantiles, E = E, offset = offset, \", \" \n",
       "   scale = scale, weights = weights, Ntrials = Ntrials, strata = strata, \n",
       "   \", \" lp.scale = lp.scale, link.covariates = link.covariates, verbose = \n",
       "   verbose, \", \" lincomb = lincomb, selection = selection, control.compute \n",
       "   = control.compute, \", \" control.predictor = control.predictor, \n",
       "   control.family = control.family, \", \" control.inla = control.inla, \n",
       "   control.fixed = control.fixed, \", \" control.mode = control.mode, \n",
       "   control.expert = control.expert, \", \" control.hazard = control.hazard, \n",
       "   control.lincomb = control.lincomb, \", \" control.update = \n",
       "   control.update, control.lp.scale = control.lp.scale, \", \" \n",
       "   control.pardiso = control.pardiso, only.hyperparam = only.hyperparam, \n",
       "   \", \" inla.call = inla.call, inla.arg = inla.arg, num.threads = \n",
       "   num.threads, \", \" keep = keep, working.directory = working.directory, \n",
       "   silent = silent, \", \" inla.mode = inla.mode, safe = FALSE, debug = \n",
       "   debug, .parent.frame = .parent.frame)\" ) \n",
       "Time used:\n",
       "    Pre = 0.241, Running = 0.164, Post = 0.0203, Total = 0.425 \n",
       "Fixed effects:\n",
       "              mean    sd 0.025quant 0.5quant 0.975quant   mode kld\n",
       "(Intercept) -0.647 0.090     -0.824   -0.647     -0.471 -0.647   0\n",
       "NWPROP74     1.867 0.217      1.441    1.867      2.293  1.867   0\n",
       "\n",
       "Marginal log-Likelihood:  -226.13 \n",
       " is computed \n",
       "Posterior summaries for the linear predictor and the fitted values are computed\n",
       "(Posterior marginals needs also 'control.compute=list(return.marginals.predictor=TRUE)')\n"
      ]
     },
     "metadata": {},
     "output_type": "display_data"
    }
   ],
   "source": [
    "m.pois <- inla(SID74 ~ NWPROP74, data = nc.sids, family = \"poisson\", E = EXP74)\n",
    "summary(m.pois)"
   ]
  },
  {
   "cell_type": "markdown",
   "id": "09781458",
   "metadata": {},
   "source": [
    "<br>\n",
    "\n",
    "- **모형 수정 : 각 관측값 (인덱스)에 따른 가우스 랜덤 효과 변수 포함**\n",
    "    - 모든 관측값이 동일한 랜덤 효과를 공유하는 경우 적용 가능\n",
    "\n",
    "\n",
    "    \n",
    "$$\\log(\\mu_i) = \\log(E_i) + \\beta_0 +\\beta_1 nw_i + u_i,\\ i=1,\\ldots, 100$$\n",
    "\n",
    "$$u_i \\sim N_{iid}(0, \\tau_u)$$\n",
    "\n",
    "$$\\tau_u \\sim Gamma(1, 0.0005)$$"
   ]
  },
  {
   "cell_type": "code",
   "execution_count": 47,
   "id": "23ab0b34",
   "metadata": {},
   "outputs": [],
   "source": [
    "m.poisover <- inla(SID74 ~ NWPROP74 + f(CNTY.ID, model = \"iid\"),\n",
    "                   data = nc.sids, family = \"poisson\", E = EXP74)"
   ]
  },
  {
   "cell_type": "markdown",
   "id": "92662006",
   "metadata": {},
   "source": [
    "- **추가된 가우스 랜덤 효과 변수의 정밀도는 큰 사후 평균과 사후 중위수를 가짐 $\\rightarrow$ 해당 변수가 데이터의 과분산을 잘 설명함을 의미**\n",
    "\n",
    "- **수정된 모델의 Marginal likelihood는 이전 모델보다 작음 (-226.13 > -227.87) $\\rightarrow$ 수정된 모형이 더 나은 적합도를 가진 모델이 아님**\n",
    "- **수정된 모델은 구조 측면에서도 더 복잡하며, 따라서 수정된 모델을 채택할 근거가 없다고 할 수 있음**"
   ]
  },
  {
   "cell_type": "code",
   "execution_count": 48,
   "id": "436e9280",
   "metadata": {
    "scrolled": false
   },
   "outputs": [
    {
     "data": {
      "text/plain": [
       "\n",
       "Call:\n",
       "   c(\"inla.core(formula = formula, family = family, contrasts = contrasts, \n",
       "   \", \" data = data, quantiles = quantiles, E = E, offset = offset, \", \" \n",
       "   scale = scale, weights = weights, Ntrials = Ntrials, strata = strata, \n",
       "   \", \" lp.scale = lp.scale, link.covariates = link.covariates, verbose = \n",
       "   verbose, \", \" lincomb = lincomb, selection = selection, control.compute \n",
       "   = control.compute, \", \" control.predictor = control.predictor, \n",
       "   control.family = control.family, \", \" control.inla = control.inla, \n",
       "   control.fixed = control.fixed, \", \" control.mode = control.mode, \n",
       "   control.expert = control.expert, \", \" control.hazard = control.hazard, \n",
       "   control.lincomb = control.lincomb, \", \" control.update = \n",
       "   control.update, control.lp.scale = control.lp.scale, \", \" \n",
       "   control.pardiso = control.pardiso, only.hyperparam = only.hyperparam, \n",
       "   \", \" inla.call = inla.call, inla.arg = inla.arg, num.threads = \n",
       "   num.threads, \", \" keep = keep, working.directory = working.directory, \n",
       "   silent = silent, \", \" inla.mode = inla.mode, safe = FALSE, debug = \n",
       "   debug, .parent.frame = .parent.frame)\" ) \n",
       "Time used:\n",
       "    Pre = 0.302, Running = 0.149, Post = 0.029, Total = 0.48 \n",
       "Fixed effects:\n",
       "              mean    sd 0.025quant 0.5quant 0.975quant   mode kld\n",
       "(Intercept) -0.650 0.105     -0.857   -0.650     -0.446 -0.650   0\n",
       "NWPROP74     1.883 0.255      1.385    1.883      2.387  1.883   0\n",
       "\n",
       "Random effects:\n",
       "  Name\t  Model\n",
       "    CNTY.ID IID model\n",
       "\n",
       "Model hyperparameters:\n",
       "                       mean     sd 0.025quant 0.5quant 0.975quant  mode\n",
       "Precision for CNTY.ID 82.02 125.87       9.48    28.66     256.80 15.74\n",
       "\n",
       "Marginal log-Likelihood:  -227.87 \n",
       " is computed \n",
       "Posterior summaries for the linear predictor and the fitted values are computed\n",
       "(Posterior marginals needs also 'control.compute=list(return.marginals.predictor=TRUE)')\n"
      ]
     },
     "metadata": {},
     "output_type": "display_data"
    }
   ],
   "source": [
    "summary(m.poisover)"
   ]
  },
  {
   "cell_type": "markdown",
   "id": "011c7ce6",
   "metadata": {},
   "source": [
    "<br>\n",
    "\n",
    "## 02.04. 모델 평가 및 선택\n",
    "- `INLA`는 모델 평가와 선택을 위한 다양한 베이지안 척도를 사용 가능\n",
    "- **`INLA`객체를 통하여 모델을 적합할 때 `control.compute` 매개변수에 사용할 척도를 입력**\n",
    "\n",
    "    예) `control.compute = list(cpo = TRUE, dic = TRUE, waic = TRUE)`\n",
    "    \n",
    "    <br>\n",
    "    \n",
    "    - `milk` : Marginal likelihood (Default)\n",
    "    - `cpo` : CPO (Conditional Predictive Ordinate)\n",
    "    - `cpo` : PIT (Predictive integral transform)\n",
    "    - `dic` : DIC (Deviance information criterion)\t\n",
    "    - `waic` : WAIC (Widely applicable Bayesian information criterion)"
   ]
  },
  {
   "cell_type": "markdown",
   "id": "50119b31",
   "metadata": {},
   "source": [
    "<br>\n",
    "\n",
    "### Marginal likelihood (주변 가능도)\n",
    "* 주어진 모델에서 관측값의 데이터가 관측될 확률 $\\pi(y)$\n",
    "    - $M$개의 모델 세트 $\\{\\mathcal{M}_m\\}_{m=1}^M$에 대하여, 각각의 주변 가능도는 $\\pi(\\mathbf{y} \\mid \\mathcal{M}_m)$이며, 모델마다 주변 가능도 값이 서로 다름\n",
    "- `INLA`에서의 주변 가능도 근사치는 아래와 같음\n",
    "\n",
    "$$\\tilde{\\pi}(\\mathbf{y}) = \\int \\frac{\\pi(\\theta, \\mathbf{x},\n",
    "    \\mathbf{y})}\n",
    "{\\tilde{\\pi}_{\\mathrm{G}}(\\mathbf{x} \\mid \\theta,\\mathbf{y})}\n",
    "\\bigg\\lvert_{\\mathbf{x}=\\mathbf{x}^*(\\theta)}d {\\theta}.$$"
   ]
  },
  {
   "cell_type": "markdown",
   "id": "ffaf5b52",
   "metadata": {},
   "source": [
    "- 주변 가능도는, 적합된 모델의 사후 확률을 계산되는데 사용 될 수  있음\n",
    "    - ($\\pi(\\mathcal{M}_m)$ = 각 모델의 사전 확률)\n",
    "\n",
    "$$\\pi(\\mathcal{M}_m \\mid \\mathbf{y})  \\propto \\pi(\\mathbf{y} \\mid \\mathcal{M}_m) \\pi(\\mathcal{M}_m)$$"
   ]
  },
  {
   "cell_type": "markdown",
   "id": "9d5b56a5",
   "metadata": {},
   "source": [
    "- **주어진 두 모델을 비교하기 위해 주변 가능도를 사용하여 Bayes 요인을 계산**\n",
    "    - 모델 $\\mathcal{M}_1$과 $\\mathcal{M}_2$의 베이즈 요인\n",
    "\n",
    "    $$\\frac{\\pi(\\mathcal{M}_1 \\mid \\mathbf{y})}{\\pi(\\mathcal{M}_2 \\mid \\mathbf{y})} =\n",
    "    \\frac{\\pi(\\mathbf{y} \\mid \\mathcal{M}_1) \\pi(\\mathcal{M}_1)}\n",
    "    {\\pi(\\mathbf{y} \\mid \\mathcal{M}_2) \\pi(\\mathcal{M}_2)}$$"
   ]
  },
  {
   "cell_type": "markdown",
   "id": "1c75c486",
   "metadata": {},
   "source": [
    "<br>\n",
    "\n",
    "### CPO (Conditional predictive ordinates)\n",
    "- CPO (Pettit 1990)는 각 관측값에 대해 다음과 같이 계산되는 모델 평가에 대한 교차검증 척도\n",
    "\n",
    "$$CPO_i = \\pi(y_i  \\mid y_{-i})$$\n",
    "\n",
    "- **관측값 $y_i$에 대한 CPO는, 모델이 $y_i$를 제외한 모든 데이터를 사용하여 적합할 때, 해당 관측값을 관측할 사후 확률**\n",
    "- CPO 값이 크면 모델이 데이터에 잘 적함됨을 의미하며, \n",
    "\n",
    "    CPO 값이 작으면 해당 관측값에 모델이 잘 적합되지 않거나, $y_i$가 이상치임을 의미\n",
    "\n",
    "<br>\n",
    "\n",
    "- **CPO를 활용한 아래의 척도는, 값이 작을수록 더 나은 모델 적합성을 의미**\n",
    "\n",
    "$$-\\sum_{i=1}^n \\log(CPO_i)$$"
   ]
  },
  {
   "cell_type": "markdown",
   "id": "c412d0bd",
   "metadata": {},
   "source": [
    "<br>\n",
    "\n",
    "### PIT (Predictive integral transform)\n",
    "- **각 관측값에 대하여, 새로운 값이 실제 관측된 값보다 낮을 확률을 측정**\n",
    "\n",
    "$$PIT_i = \\pi(y_i^{new} \\leq y_i \\mid y_{-i})$$"
   ]
  },
  {
   "cell_type": "markdown",
   "id": "6deea7da",
   "metadata": {},
   "source": [
    "- **이산형 데이터의 경우 조정된 PIT 값은**\n",
    "\n",
    "    $$PIT_i^{adjusted} =  PIT_i - 0.5 * CPO_i$$이며, $y_i^{new} = y_i$인 경우, 절반의 값으로 계산\n",
    "    \n",
    "<br>\n",
    "\n",
    "- **모델이 관측값을 잘 나타내는 경우, 다른 값들에 대한 분포는 0과 1 사이의 균일 분포에 가까워야 함**"
   ]
  },
  {
   "cell_type": "markdown",
   "id": "8125992a",
   "metadata": {},
   "source": [
    "<br>\n",
    "\n",
    "### DIC & WAIC ( Information-based criteria)\n",
    "\n",
    "- 이탈도 정보 기준(DIC)은 AIC와 유사한 모델 선택에 대한 대중적인 기준\n",
    "- 추정된 유효 매개변수의 수를 통하여, 모델의 복잡성을 기반으로 하는 페널티 항과 적합도를 통하여 계산\n",
    "\n",
    "<br>\n",
    "\n",
    "$$DIC = D(\\hat{\\mathbf{x}}, \\hat{\\theta}) + 2 p_D$$\n",
    "- $D(\\cdot)$ : 이탈도\n",
    "- $\\hat{x}$,  $\\hat{\\theta}$ : 잠재효과와 초매개변수의 사후 기댓값)\n",
    "- $p_d$ : 모델 설명변수의 개수 (유효 매개변수 개수)\n",
    "\n",
    "\n",
    "$$p_D = E[D(\\cdot)] - D(\\hat{\\mathbf{x}}, \\hat{\\theta})$$\n",
    "\n",
    "<br>\n",
    "\n",
    "- WAIC (Watanabe-Akaike Information-based criterio)는 DIC와 유사하나, 유효 매개변수의 수가 다른 방식으로 계산\n",
    "\n"
   ]
  },
  {
   "cell_type": "markdown",
   "id": "cfc7a87e",
   "metadata": {},
   "source": [
    "<br>\n",
    "\n",
    "### 모델 비교 예제"
   ]
  },
  {
   "cell_type": "markdown",
   "id": "c87fabb1",
   "metadata": {},
   "source": [
    "- 단순 포아송 모델"
   ]
  },
  {
   "cell_type": "code",
   "execution_count": 49,
   "id": "b528e5c9",
   "metadata": {},
   "outputs": [],
   "source": [
    "m.pois <- inla(SID74 ~ NWPROP74, data = nc.sids, family = \"poisson\", \n",
    "               E = EXP74, control.compute = list(cpo = TRUE, dic = TRUE, waic = TRUE))"
   ]
  },
  {
   "cell_type": "markdown",
   "id": "48cdfb2c",
   "metadata": {},
   "source": [
    "- 가우스 랜덤 효과항 추가 모델"
   ]
  },
  {
   "cell_type": "code",
   "execution_count": 50,
   "id": "4638cc73",
   "metadata": {},
   "outputs": [],
   "source": [
    "m.poisover <- inla(SID74 ~ NWPROP74 + f(CNTY.ID, model = \"iid\"),\n",
    "                   data = nc.sids, family = \"poisson\", E = EXP74, \n",
    "                   control.compute = list(cpo = TRUE, dic = TRUE, waic = TRUE))"
   ]
  },
  {
   "cell_type": "markdown",
   "id": "b526c17d",
   "metadata": {},
   "source": [
    "- 두 모델의 CPO와 PIT 비교결과, 매우 유사함을 확인\n",
    "    \n",
    "    $\\rightarrow$ 모델의 성능이 비슷하다면, 더 간단한 모델인 '단순 포아송 모델'을 선택하는 것이 바람직"
   ]
  },
  {
   "cell_type": "code",
   "execution_count": 61,
   "id": "4227b905",
   "metadata": {},
   "outputs": [
    {
     "data": {
      "text/html": [
       "<table class=\"dataframe\">\n",
       "<caption>A data.frame: 2 × 5</caption>\n",
       "<thead>\n",
       "\t<tr><th scope=col>Model</th><th scope=col>DIC</th><th scope=col>WAIC</th><th scope=col>CPO</th><th scope=col>MLIK</th></tr>\n",
       "\t<tr><th scope=col>&lt;chr&gt;</th><th scope=col>&lt;dbl&gt;</th><th scope=col>&lt;dbl&gt;</th><th scope=col>&lt;dbl&gt;</th><th scope=col>&lt;dbl&gt;</th></tr>\n",
       "</thead>\n",
       "<tbody>\n",
       "\t<tr><td>Poisson          </td><td>441.6218</td><td>442.7613</td><td>221.3927</td><td>-226.1261</td></tr>\n",
       "\t<tr><td>Poisson + r. eff.</td><td>430.7559</td><td>436.8614</td><td>224.0755</td><td>-227.2356</td></tr>\n",
       "</tbody>\n",
       "</table>\n"
      ],
      "text/latex": [
       "A data.frame: 2 × 5\n",
       "\\begin{tabular}{lllll}\n",
       " Model & DIC & WAIC & CPO & MLIK\\\\\n",
       " <chr> & <dbl> & <dbl> & <dbl> & <dbl>\\\\\n",
       "\\hline\n",
       "\t Poisson           & 441.6218 & 442.7613 & 221.3927 & -226.1261\\\\\n",
       "\t Poisson + r. eff. & 430.7559 & 436.8614 & 224.0755 & -227.2356\\\\\n",
       "\\end{tabular}\n"
      ],
      "text/markdown": [
       "\n",
       "A data.frame: 2 × 5\n",
       "\n",
       "| Model &lt;chr&gt; | DIC &lt;dbl&gt; | WAIC &lt;dbl&gt; | CPO &lt;dbl&gt; | MLIK &lt;dbl&gt; |\n",
       "|---|---|---|---|---|\n",
       "| Poisson           | 441.6218 | 442.7613 | 221.3927 | -226.1261 |\n",
       "| Poisson + r. eff. | 430.7559 | 436.8614 | 224.0755 | -227.2356 |\n",
       "\n"
      ],
      "text/plain": [
       "  Model             DIC      WAIC     CPO      MLIK     \n",
       "1 Poisson           441.6218 442.7613 221.3927 -226.1261\n",
       "2 Poisson + r. eff. 430.7559 436.8614 224.0755 -227.2356"
      ]
     },
     "metadata": {},
     "output_type": "display_data"
    }
   ],
   "source": [
    "(d <- data.frame(Model = c(\"Poisson\", \"Poisson + r. eff.\"), \n",
    "                DIC = c(m.pois$dic$dic, m.poisover$dic$dic),\n",
    "                WAIC = c(m.pois$waic$waic, m.poisover$waic$waic),\n",
    "                CPO = c(-sum(log(m.pois$cpo$cpo)), -sum(log(m.poisover$cpo$cpo))),\n",
    "                MLIK = c(m.pois$mlik[1, 1], m.poisover$mlik[1, 1])\n",
    "))"
   ]
  },
  {
   "cell_type": "code",
   "execution_count": 63,
   "id": "b17092b5",
   "metadata": {},
   "outputs": [],
   "source": [
    "library(\"ggplot2\")\n",
    "library(\"gridExtra\")"
   ]
  },
  {
   "cell_type": "code",
   "execution_count": 64,
   "id": "fd25a370",
   "metadata": {},
   "outputs": [
    {
     "data": {
      "image/png": "[encoded data removed]",
      "text/plain": [
       "plot without title"
      ]
     },
     "metadata": {
      "image/png": {
       "height": 420,
       "width": 420
      }
     },
     "output_type": "display_data"
    }
   ],
   "source": [
    "tab <- data.frame(county = rep(1:100, 2), \n",
    "  cpo = c(m.pois$cpo$cpo, m.poisover$cpo$cpo),\n",
    "  pit = c(m.pois$cpo$pit, m.poisover$cpo$pit))\n",
    "tab$model <- rep(c(\"Poisson\", \"Poisson + r.eff.\"), each = 100)\n",
    "\n",
    "p1 <- ggplot(tab, aes(x = county, y = cpo, shape = model)) +\n",
    "  geom_point() +\n",
    "  scale_shape_manual(values = c(2, 3)) +\n",
    "  theme(legend.position = c(0.2, 0.9), legend.title = element_blank(),\n",
    "    legend.background = element_rect(fill = \"transparent\")) +\n",
    "  ggtitle(\"CPO\") +\n",
    "  xlab(\"County\") + ylab(\"Value\")\n",
    "\n",
    "p2 <- ggplot(tab, aes(x = county, y = pit, shape = model)) +\n",
    "  geom_point() +\n",
    "  scale_shape_manual(values = c(2, 3)) +\n",
    "  theme(legend.position = c(0.2, 0.9), legend.title = element_blank(),\n",
    "    legend.background = element_rect(fill = \"transparent\")) +\n",
    "  ggtitle(\"PIT\") +\n",
    "  xlab(\"County\") + ylab(\"Value\") +\n",
    "  ylim(0, 1.2)\n",
    "\n",
    "grid.arrange(p1, p2, ncol = 2)"
   ]
  },
  {
   "cell_type": "markdown",
   "id": "46f62f56",
   "metadata": {},
   "source": [
    "<br>\n",
    "\n",
    "## 02.05. 그 외 옵션\n",
    "- `INLA`에 추정 프로세스가 수행되고, 결과 출력 방법에 대한 여러 옵션 존재\n",
    "    - `control.compute` : 모델 적합 중 계산되는 항목들 (CPO, milk 등)에 대한 옵션\n",
    "    - `control.expert` : 내부 문제에 대한 옵션\n",
    "    - `control.family` :  모델의 가능도에 대한 옵션\n",
    "    - `control.fixed` : 모델의 회귀계수에 대한 옵션\n",
    "    - `control.hazard` : 생존모델에서 위험함수가 어떻게 계산되는지에 대한 옵션\n",
    "    - `control.inla` : 모델 적합중 어떻게 INLA가 사용되는지에 대한 옵션\n",
    "    - `control.lincomb` : 선형 조합에 대한 옵션\n",
    "    - `control.mode` : 모델 적합을 위한 초매개변수의 초기값에 대한 옴션\n",
    "    - `control.predictor` : 선형 예측이 계산되는 방법에 대한 옵션\n",
    "    - `control.results` : 주변분포가 계산되는 방법에 대한 옵션\n",
    "    - `control.update` : 사후분포가 갱신되는 방법에 대한 옵션\n",
    "    "
   ]
  },
  {
   "cell_type": "markdown",
   "id": "2a696ca8",
   "metadata": {},
   "source": [
    "<br>\n",
    "\n",
    "### 모델 적합 전략\n",
    "- `control.inla`를 통하여, 모델 적합 방법에 대한 옵션 설정 가능\n",
    "    \n",
    "    예) `control.inla = list(strategy = st, int.strategy = int.st)`\n",
    "    \n",
    "    <br>\n",
    "    \n",
    "    - `starategy` : 근사 방법 (`'gaussian'`, `'simplified.laplace'` (default), `'laplace'`, `'adaptive'`)\n",
    "    - `int.strategy` : 적분 방법 (`'auto'` (default), `'ccd'`, `'grid'`, `'eb'` (실증적 베이지안 추론), `'user'`, `'user.std'`)\n",
    "    - `adaptive.max` : 잠재효과의 최대길이 (default : 10)\n",
    "        - `strategy`가 `adaptive`일 경우, `adaptive.max` 이하의 길이를 가진 모든 고정 효과 및 잠재 효과에, 선택된 근사 방법이 적용되며, 다른 모든 효과들에 대해서는 `gauissian`이 자동으로 적용    \n",
    "    - `int.design` : 초매개변수 값 및 관련 가중치의 행렬 (default : `NULL`)"
   ]
  },
  {
   "cell_type": "markdown",
   "id": "d0414c57",
   "metadata": {},
   "source": [
    "<br>\n",
    "\n",
    "#### `control.inla` 사용 예시\n",
    "- 각기 다른 `strategy` 적용"
   ]
  },
  {
   "cell_type": "code",
   "execution_count": 73,
   "id": "04efe42a",
   "metadata": {},
   "outputs": [],
   "source": [
    "m.strategy <- lapply(c(\"gaussian\", \"simplified.laplace\", \"laplace\"), \n",
    "    function(st) {\n",
    "        return(lapply(c(\"ccd\", \"grid\", \"eb\"), function(int.st) {\n",
    "            inla(SID74 ~ NWPROP74 + f(CNTY.ID, model = \"iid\"),\n",
    "            data = nc.sids, family = \"poisson\", E = EXP74,\n",
    "            control.inla = list(strategy = st, int.strategy = int.st),\n",
    "            control.compute = list(cpo = TRUE, dic = TRUE, waic = TRUE))\n",
    "    }))\n",
    "})"
   ]
  },
  {
   "cell_type": "markdown",
   "id": "bc5fc358",
   "metadata": {},
   "source": [
    "- 절편 $\\beta_0$에 대한 사후 주변분포 : 근사/적분 방법에 따라 큰 차이가 존재하지 않음"
   ]
  },
  {
   "attachments": {
    "02-INLA-stintercept-1%5B1%5D.png": {
     "image/png": "[encoded data removed]"
    }
   },
   "cell_type": "markdown",
   "id": "b3db8355",
   "metadata": {},
   "source": [
    "![02-INLA-stintercept-1%5B1%5D.png](attachment:02-INLA-stintercept-1%5B1%5D.png)"
   ]
  },
  {
   "cell_type": "markdown",
   "id": "60342511",
   "metadata": {},
   "source": [
    "- $\\beta_1$에 대한 사후 주변분포 : 근사/적분 방법에 따라 큰 차이가 존재하지 않음"
   ]
  },
  {
   "attachments": {
    "02-INLA-stfixed-1%5B1%5D.png": {
     "image/png": "[encoded data removed]"
    }
   },
   "cell_type": "markdown",
   "id": "9e922040",
   "metadata": {},
   "source": [
    "![02-INLA-stfixed-1%5B1%5D.png](attachment:02-INLA-stfixed-1%5B1%5D.png)"
   ]
  },
  {
   "cell_type": "markdown",
   "id": "9b007a6f",
   "metadata": {},
   "source": [
    "<br>\n",
    "\n",
    "* 랜덤효과의 정밀도 $\\tau_u$의 사후 주변분포 : 근사/적분 방법에 따라 큰 차이가 존재"
   ]
  },
  {
   "attachments": {
    "02-INLA-stprec-1%5B1%5D.png": {
     "image/png": "[encoded data removed]"
    }
   },
   "cell_type": "markdown",
   "id": "a5614b1b",
   "metadata": {},
   "source": [
    "![02-INLA-stprec-1%5B1%5D.png](attachment:02-INLA-stprec-1%5B1%5D.png)"
   ]
  },
  {
   "cell_type": "markdown",
   "id": "60052921",
   "metadata": {},
   "source": [
    "<br>\n",
    "\n",
    "\n",
    "## 02.06. 사후 주변분포 분석\n",
    "- **`INLA`는 잠재 효과와 초매개변수의 사후 주변분포에 중점을 두기 때문에, 추론을 위해 이를 활용하는 것이 매우 중요**\n",
    "- `INLA`는 사후 주변분포에 대한 계산을 수행하는 다양한 기능을 제공\n",
    "    - `inla.dmarginal` : 사후 주변분포의 확률밀도함수\n",
    "    - `inla.pmarginal` : 사후 주변분포의 누적분포함수\n",
    "    - `inla.qmarginal` : 사후 주변분포의 분위수\n",
    "    - `inla.rmarginal` : 사후 주변분포에서의 랜덤 샘플링\n",
    "    - `inla.hpdmarginal` : 사후 주변분포에서의 신용구간\n",
    "    - `inla.smarginal` : 사후 주변분포에 대한 스플라인 평활\n",
    "    - `inla.emarginal` : 사후 주변분포의 기댓값\n",
    "    - `inla.mmarginal` : 사후 주변분포의 최빈값\n",
    "    - `inla.tmarginal` : 사후 주변분포의 매개변수에 대한 주변분포 생성\n",
    "    - `inla.zmarginal` : 사후 주변분포의 요약통계량"
   ]
  },
  {
   "cell_type": "markdown",
   "id": "780e1cae",
   "metadata": {},
   "source": [
    "<br>\n",
    "\n",
    "#### 설명변수 `x1`의 회귀계수와, 가우시안 가능도의 정밀도 $\\tau$에 대한 사후 주변분포 분석"
   ]
  },
  {
   "cell_type": "code",
   "execution_count": 83,
   "id": "7d384164",
   "metadata": {},
   "outputs": [],
   "source": [
    "plot1 <- ggplot(as.data.frame(m1$marginals.fixed$x1)) + \n",
    "  geom_line(aes(x = x, y = y)) +\n",
    "  ylab (expression(paste(pi, \"(\", \"x\", \" | \", bold(y), \")\")))"
   ]
  },
  {
   "cell_type": "code",
   "execution_count": 84,
   "id": "ae860497",
   "metadata": {},
   "outputs": [],
   "source": [
    "plot2 <- ggplot(as.data.frame(m1$marginals.hyperpar[[1]])) + \n",
    "  geom_line(aes(x = x, y = y)) +\n",
    "  ylab (expression(paste(pi, \"(\", tau, \" | \", bold(y), \")\")))"
   ]
  },
  {
   "cell_type": "code",
   "execution_count": 85,
   "id": "6d0548e7",
   "metadata": {},
   "outputs": [
    {
     "data": {
      "image/png": "[encoded data removed]",
      "text/plain": [
       "plot without title"
      ]
     },
     "metadata": {
      "image/png": {
       "height": 420,
       "width": 420
      }
     },
     "output_type": "display_data"
    }
   ],
   "source": [
    "grid.arrange(plot1, plot2, nrow = 2)"
   ]
  },
  {
   "cell_type": "markdown",
   "id": "38f78cb0",
   "metadata": {},
   "source": [
    "<br>\n",
    "\n",
    "- `x1`의 회귀계수가 1보다 높을 확률"
   ]
  },
  {
   "cell_type": "code",
   "execution_count": 91,
   "id": "257a2bc2",
   "metadata": {
    "scrolled": true
   },
   "outputs": [
    {
     "data": {
      "text/html": [
       "0.980695192983327"
      ],
      "text/latex": [
       "0.980695192983327"
      ],
      "text/markdown": [
       "0.980695192983327"
      ],
      "text/plain": [
       "[1] 0.9806952"
      ]
     },
     "metadata": {},
     "output_type": "display_data"
    }
   ],
   "source": [
    "1 - inla.pmarginal(q = 0, m1$marginals.fixed$x1)"
   ]
  },
  {
   "cell_type": "markdown",
   "id": "108cc8ec",
   "metadata": {},
   "source": [
    "- $\\tau$의 95% 신용구간"
   ]
  },
  {
   "cell_type": "code",
   "execution_count": 92,
   "id": "94716dff",
   "metadata": {},
   "outputs": [
    {
     "data": {
      "text/html": [
       "<table class=\"dataframe\">\n",
       "<caption>A matrix: 1 × 2 of type dbl</caption>\n",
       "<thead>\n",
       "\t<tr><th></th><th scope=col>low</th><th scope=col>high</th></tr>\n",
       "</thead>\n",
       "<tbody>\n",
       "\t<tr><th scope=row>level:0.95</th><td>0.05051549</td><td>0.3918717</td></tr>\n",
       "</tbody>\n",
       "</table>\n"
      ],
      "text/latex": [
       "A matrix: 1 × 2 of type dbl\n",
       "\\begin{tabular}{r|ll}\n",
       "  & low & high\\\\\n",
       "\\hline\n",
       "\tlevel:0.95 & 0.05051549 & 0.3918717\\\\\n",
       "\\end{tabular}\n"
      ],
      "text/markdown": [
       "\n",
       "A matrix: 1 × 2 of type dbl\n",
       "\n",
       "| <!--/--> | low | high |\n",
       "|---|---|---|\n",
       "| level:0.95 | 0.05051549 | 0.3918717 |\n",
       "\n"
      ],
      "text/plain": [
       "           low        high     \n",
       "level:0.95 0.05051549 0.3918717"
      ]
     },
     "metadata": {},
     "output_type": "display_data"
    }
   ],
   "source": [
    "inla.hpdmarginal(0.95, m1$marginals.hyperpar[[1]])"
   ]
  },
  {
   "cell_type": "markdown",
   "id": "ffac3d3d",
   "metadata": {},
   "source": [
    "- 가우시안 가능도 표준편차의 사후 주변분포 $\\sigma_u = \\tau^{-1/2}_u$"
   ]
  },
  {
   "cell_type": "code",
   "execution_count": 95,
   "id": "e0c4484c",
   "metadata": {},
   "outputs": [],
   "source": [
    "marg.stdev <- inla.tmarginal(function(tau) tau^(-1/2),\n",
    "  m1$marginals.hyperpar[[1]])"
   ]
  },
  {
   "attachments": {
    "02-INLA-pmstdev-1%5B1%5D.png": {
     "image/png": "[encoded data removed]"
    }
   },
   "cell_type": "markdown",
   "id": "b12cfb40",
   "metadata": {},
   "source": [
    "![02-INLA-pmstdev-1%5B1%5D.png](attachment:02-INLA-pmstdev-1%5B1%5D.png)"
   ]
  },
  {
   "cell_type": "markdown",
   "id": "a5be18a3",
   "metadata": {},
   "source": [
    "<br>\n",
    "\n",
    "- 가우스 가능도 표준편차의 사후 주변분포의 요약통계량"
   ]
  },
  {
   "cell_type": "code",
   "execution_count": 96,
   "id": "b579ecf0",
   "metadata": {},
   "outputs": [
    {
     "name": "stdout",
     "output_type": "stream",
     "text": [
      "Mean            2.36443 \n",
      "Stdev           0.579045 \n",
      "Quantile  0.025 1.52929 \n",
      "Quantile  0.25  1.95203 \n",
      "Quantile  0.5   2.26191 \n",
      "Quantile  0.75  2.661 \n",
      "Quantile  0.975 3.80385 \n"
     ]
    }
   ],
   "source": [
    "inla.zmarginal(marg.stdev)"
   ]
  },
  {
   "cell_type": "markdown",
   "id": "4486f9d2",
   "metadata": {},
   "source": [
    "- 가우스 가능도 표준편차의 평균 = $\\int \\sigma \\pi(\\sigma \\mid \\mathbf{y}) d\\sigma$"
   ]
  },
  {
   "cell_type": "code",
   "execution_count": 97,
   "id": "b06346c0",
   "metadata": {},
   "outputs": [
    {
     "data": {
      "text/html": [
       "2.36442760217678"
      ],
      "text/latex": [
       "2.36442760217678"
      ],
      "text/markdown": [
       "2.36442760217678"
      ],
      "text/plain": [
       "[1] 2.364428"
      ]
     },
     "metadata": {},
     "output_type": "display_data"
    }
   ],
   "source": [
    "inla.emarginal(function(sigma) sigma, marg.stdev)"
   ]
  },
  {
   "cell_type": "markdown",
   "id": "6d355594",
   "metadata": {},
   "source": [
    "- 가우스 가능도 표준편차의 최빈값"
   ]
  },
  {
   "cell_type": "code",
   "execution_count": 98,
   "id": "80821e43",
   "metadata": {},
   "outputs": [
    {
     "data": {
      "text/html": [
       "2.09214418097833"
      ],
      "text/latex": [
       "2.09214418097833"
      ],
      "text/markdown": [
       "2.09214418097833"
      ],
      "text/plain": [
       "[1] 2.092144"
      ]
     },
     "metadata": {},
     "output_type": "display_data"
    }
   ],
   "source": [
    "inla.mmarginal(marg.stdev)"
   ]
  },
  {
   "cell_type": "markdown",
   "id": "7d22831d",
   "metadata": {},
   "source": [
    "<br>\n",
    "\n",
    "## 02.07. 사후 주변분포 샘플링"
   ]
  },
  {
   "cell_type": "markdown",
   "id": "40fb452c",
   "metadata": {},
   "source": [
    "####  `inla.posterior.sample()` : 잠재 효과와 초매개변수의 결합 사후분포에서 샘플 추출\n",
    "- `INLA`가 적합될 때, `control.coumpute` 매개변수의 `config`가 `TRUE`로 설정되어있어야 함\n",
    "\n",
    "    예) `control.compute = list(config = TRUE)`\n",
    "    \n",
    "    $\\rightarrow$ `inla()`에 의해 반환된 개체에 잠재 GMRF의 내부 표현을 유지\n",
    "    \n",
    "    $\\rightarrow$ `inla.posterior.sample.eval()` 함수를 사용하여 추출된 샘플에 대한 함수를 평가할 수 있음\n",
    "    \n",
    "<br>\n",
    "\n",
    "- `n` : 샘플링 크기 (default = `\"1L\"`)\n",
    "- `result` : `inla`객체\n",
    "- `selection` : 반환할 모델의 구성 요소가 포함된 리스트\n",
    "- `intern` : 샘플이 초매개변수의 내부 범위에 포함되어있는지 여부 (default : `FALSE`)\n",
    "- `use.improved.mean\t` : 사후 주변분포의 평균을 사용할지의 여부 (default : `TRUE`)"
   ]
  },
  {
   "cell_type": "markdown",
   "id": "b59791fa",
   "metadata": {},
   "source": [
    "<br>\n",
    "\n",
    "- **INLA가 처리할 수 없는 잠재 효과 및 초매개변수에 대한 함수를 추론해야 할 때, 이러한 사후 주변분포 샘플링이 유용** \n",
    "    \n",
    "    예) 여러 매개변수에 대한 다변량 추론이 필요한, 여러 초매개변수에 의존하는 비선형 함수 등\n",
    "  "
   ]
  },
  {
   "cell_type": "markdown",
   "id": "cc736bdc",
   "metadata": {},
   "source": [
    "<br>\n",
    "\n",
    "#### `x1`과 `x2`의 회귀계수 곱에 대한 사후분포 샘플링 예시"
   ]
  },
  {
   "cell_type": "markdown",
   "id": "e928267b",
   "metadata": {},
   "source": [
    "- 모델 적합"
   ]
  },
  {
   "cell_type": "code",
   "execution_count": 135,
   "id": "5caf26f2",
   "metadata": {},
   "outputs": [],
   "source": [
    "m1 <- inla(y ~ x1 + x2 + x3 + x4, data = cement, control.compute = list(config = TRUE))"
   ]
  },
  {
   "cell_type": "markdown",
   "id": "8d194978",
   "metadata": {},
   "source": [
    "- 사후분포 샘플링"
   ]
  },
  {
   "cell_type": "code",
   "execution_count": 136,
   "id": "2303da55",
   "metadata": {},
   "outputs": [],
   "source": [
    "m1.samp <- inla.posterior.sample(100, m1, selection = list(x1 = 1, x2 = 1))"
   ]
  },
  {
   "cell_type": "code",
   "execution_count": 137,
   "id": "a7fb043f",
   "metadata": {},
   "outputs": [
    {
     "data": {
      "text/html": [
       "100"
      ],
      "text/latex": [
       "100"
      ],
      "text/markdown": [
       "100"
      ],
      "text/plain": [
       "[1] 100"
      ]
     },
     "metadata": {},
     "output_type": "display_data"
    }
   ],
   "source": [
    "m1.samp %>% length"
   ]
  },
  {
   "cell_type": "code",
   "execution_count": 138,
   "id": "421fa379",
   "metadata": {},
   "outputs": [
    {
     "data": {
      "text/html": [
       "<style>\n",
       ".list-inline {list-style: none; margin:0; padding: 0}\n",
       ".list-inline>li {display: inline-block}\n",
       ".list-inline>li:not(:last-child)::after {content: \"\\00b7\"; padding: 0 .5ex}\n",
       "</style>\n",
       "<ol class=list-inline><li>'hyperpar'</li><li>'latent'</li><li>'logdens'</li></ol>\n"
      ],
      "text/latex": [
       "\\begin{enumerate*}\n",
       "\\item 'hyperpar'\n",
       "\\item 'latent'\n",
       "\\item 'logdens'\n",
       "\\end{enumerate*}\n"
      ],
      "text/markdown": [
       "1. 'hyperpar'\n",
       "2. 'latent'\n",
       "3. 'logdens'\n",
       "\n",
       "\n"
      ],
      "text/plain": [
       "[1] \"hyperpar\" \"latent\"   \"logdens\" "
      ]
     },
     "metadata": {},
     "output_type": "display_data"
    }
   ],
   "source": [
    "names(m1.samp[[1]])"
   ]
  },
  {
   "cell_type": "code",
   "execution_count": 139,
   "id": "e31199d8",
   "metadata": {
    "scrolled": true
   },
   "outputs": [
    {
     "data": {
      "text/html": [
       "<dl>\n",
       "\t<dt>$hyperpar</dt>\n",
       "\t\t<dd><strong>Precision for the Gaussian observations:</strong> 0.0605771313509957</dd>\n",
       "\t<dt>$latent</dt>\n",
       "\t\t<dd><table class=\"dataframe\">\n",
       "<caption>A matrix: 2 × 1 of type dbl</caption>\n",
       "<tbody>\n",
       "\t<tr><th scope=row>x1:1</th><td>2.978077</td></tr>\n",
       "\t<tr><th scope=row>x2:1</th><td>2.564763</td></tr>\n",
       "</tbody>\n",
       "</table>\n",
       "</dd>\n",
       "\t<dt>$logdens</dt>\n",
       "\t\t<dd><dl>\n",
       "\t<dt>$hyperpar</dt>\n",
       "\t\t<dd>0.271539800147646</dd>\n",
       "\t<dt>$latent</dt>\n",
       "\t\t<dd>-3.06321831709388</dd>\n",
       "\t<dt>$joint</dt>\n",
       "\t\t<dd>-2.79167851694623</dd>\n",
       "</dl>\n",
       "</dd>\n",
       "</dl>\n"
      ],
      "text/latex": [
       "\\begin{description}\n",
       "\\item[\\$hyperpar] \\textbf{Precision for the Gaussian observations:} 0.0605771313509957\n",
       "\\item[\\$latent] A matrix: 2 × 1 of type dbl\n",
       "\\begin{tabular}{r|l}\n",
       "\tx1:1 & 2.978077\\\\\n",
       "\tx2:1 & 2.564763\\\\\n",
       "\\end{tabular}\n",
       "\n",
       "\\item[\\$logdens] \\begin{description}\n",
       "\\item[\\$hyperpar] 0.271539800147646\n",
       "\\item[\\$latent] -3.06321831709388\n",
       "\\item[\\$joint] -2.79167851694623\n",
       "\\end{description}\n",
       "\n",
       "\\end{description}\n"
      ],
      "text/markdown": [
       "$hyperpar\n",
       ":   **Precision for the Gaussian observations:** 0.0605771313509957\n",
       "$latent\n",
       ":   \n",
       "A matrix: 2 × 1 of type dbl\n",
       "\n",
       "| x1:1 | 2.978077 |\n",
       "| x2:1 | 2.564763 |\n",
       "\n",
       "\n",
       "$logdens\n",
       ":   $hyperpar\n",
       ":   0.271539800147646\n",
       "$latent\n",
       ":   -3.06321831709388\n",
       "$joint\n",
       ":   -2.79167851694623\n",
       "\n",
       "\n",
       "\n",
       "\n",
       "\n"
      ],
      "text/plain": [
       "$hyperpar\n",
       "Precision for the Gaussian observations \n",
       "                             0.06057713 \n",
       "\n",
       "$latent\n",
       "         [,1]\n",
       "x1:1 2.978077\n",
       "x2:1 2.564763\n",
       "\n",
       "$logdens\n",
       "$logdens$hyperpar\n",
       "[1] 0.2715398\n",
       "\n",
       "$logdens$latent\n",
       "[1] -3.063218\n",
       "\n",
       "$logdens$joint\n",
       "[1] -2.791679\n",
       "\n"
      ]
     },
     "metadata": {},
     "output_type": "display_data"
    }
   ],
   "source": [
    "m1.samp[[1]]"
   ]
  },
  {
   "cell_type": "markdown",
   "id": "b8d6a17f",
   "metadata": {},
   "source": [
    "- 두 계수의 샘플값에 대한 곱의 분포"
   ]
  },
  {
   "cell_type": "code",
   "execution_count": 162,
   "id": "f0d7cb9f",
   "metadata": {},
   "outputs": [],
   "source": [
    "x1_ = c(); x2_ = c()\n",
    "\n",
    "for (i in c(1:100)) {\n",
    "    x1_ = x1_ %>% append((m1.samp[[i]]$latent)[1])\n",
    "    x2_ = x2_ %>% append((m1.samp[[i]]$latent)[2])\n",
    "}\n",
    "\n",
    "x1x2.samp <- c(x1_ * x2_)\n",
    "\n",
    "# x1x2.samp <- inla.posterior.sample.eval(function(...) {x1 * x2}, m1.samp)"
   ]
  },
  {
   "cell_type": "code",
   "execution_count": 163,
   "id": "f2bf77d2",
   "metadata": {},
   "outputs": [
    {
     "data": {
      "text/plain": [
       "    Min.  1st Qu.   Median     Mean  3rd Qu.     Max. \n",
       "-0.40828  0.08689  0.73781  1.14598  1.49404  7.75347 "
      ]
     },
     "metadata": {},
     "output_type": "display_data"
    }
   ],
   "source": [
    "x1x2.samp %>% summary"
   ]
  },
  {
   "cell_type": "markdown",
   "id": "82d653af",
   "metadata": {},
   "source": [
    "<br>\n",
    "\n",
    "#### `inla.hyperpar.sample()`  : 초매개변수의의 사후 결합분포 근사 로부터 샘플을 추출\n",
    "- `n` : 샘플링 크기\n",
    "- `result` : `inla` 객체\n",
    "- `intern\t` : 샘플이 초매개변수의 내부 범위에 포함되어있는지 여부 (default : `FALSE`)\n",
    "- `improve.marginals\t` : 더 나은 주변분포의 추정치를 사용하여 샘플을 개선할지의 여부 (default : `FALSE`)"
   ]
  },
  {
   "cell_type": "markdown",
   "id": "8891f007",
   "metadata": {},
   "source": [
    "<br>\n",
    "\n",
    "- 모델에는 하나의 초매개변수(즉, 가우시안 가능도의 정밀도)만 있으므로 추론에 사후 주변분포가 사용 \n",
    "\n",
    "- 이를 사용하여 랜덤 샘플을 얻고, 값의 분포를 사후 주변분포와 비교"
   ]
  },
  {
   "cell_type": "code",
   "execution_count": 164,
   "id": "ada53cbd",
   "metadata": {},
   "outputs": [],
   "source": [
    "set.seed(123)\n",
    "prec.samp <- inla.hyperpar.sample(1000, m1)"
   ]
  },
  {
   "cell_type": "markdown",
   "id": "f3f93c68",
   "metadata": {},
   "source": [
    "- 초매개변수 $\\tau$의 사후분포 샘플과, 사후 분포와의 비교"
   ]
  },
  {
   "attachments": {
    "02-INLA-hypsamp-1%5B1%5D.png": {
     "image/png": "[encoded data removed]"
    }
   },
   "cell_type": "markdown",
   "id": "254605bc",
   "metadata": {},
   "source": [
    "![02-INLA-hypsamp-1%5B1%5D.png](attachment:02-INLA-hypsamp-1%5B1%5D.png)"
   ]
  }
 ],
 "metadata": {
  "kernelspec": {
   "display_name": "R-4.3.2",
   "language": "R",
   "name": "ir"
  },
  "language_info": {
   "codemirror_mode": "r",
   "file_extension": ".r",
   "mimetype": "text/x-r-source",
   "name": "R",
   "pygments_lexer": "r",
   "version": "4.3.2"
  }
 },
 "nbformat": 4,
 "nbformat_minor": 5
}
