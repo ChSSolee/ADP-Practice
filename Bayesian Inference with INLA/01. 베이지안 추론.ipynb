{
 "cells": [
  {
   "cell_type": "markdown",
   "id": "0a720a9e",
   "metadata": {},
   "source": [
    "# 01. 베이지안 추론"
   ]
  },
  {
   "cell_type": "markdown",
   "id": "e1ff04d2",
   "metadata": {},
   "source": [
    "<br>\n",
    "\n",
    "## 01.01.\n",
    "- INLA는 빠르고 정확한 모델 적합을 가능하게 하는 베이지안 통계 분야의 최신 기술 중 하나\n",
    "\n",
    "<br>\n",
    "\n",
    "## 01.02. 베이지안 추론\n",
    "- 베이지안 추론에서 모델의 모든 알려지지 않은 양적변수가 확률변수로 처리되며, 목표는 사후 결합 분포를 계산(또는 추정)하는 것\n",
    "- 매개변수 $\\theta$의 분포와, 관측값 $y$에 대하여, 베이즈 정리에 따른 사후분포는 아래와 같음\n",
    "\n",
    "$$\\pi(\\theta \\mid \\mathbf{y}) = \\frac{\\pi(\\mathbf{y} \\mid \\theta)\\pi(\\theta)}{\\pi(\\mathbf{y})}$$\n",
    "\n",
    "<br>\n",
    "\n",
    "- $\\pi(y|\\theta)$는 매개변수 $\\theta$ ($\\Theta$의 범위안에 존재)가 주어졌을 때의 관측값 $y$의 가능도\n",
    "- $\\pi(\\theta)$는 매개변수와 주변 가능도 $\\pi(y)$의 사후분포이며, 정규화 상수로서 아래와 같이 계산\n",
    "\n",
    "$$\\int_{\\Theta} \\pi(\\mathbf{y} \\mid \\theta)\\pi(\\theta) d\\theta$$"
   ]
  },
  {
   "cell_type": "markdown",
   "id": "a5fe81ed",
   "metadata": {},
   "source": [
    "<br>\n",
    "\n",
    "- 사후분포는 사전분포와 가능도의 곱과 비례\n",
    "\n",
    "$$\\pi(\\theta \\mid \\mathbf{y}) \\propto \\pi(\\mathbf{y} \\mid \\theta)\\pi(\\theta)$$"
   ]
  },
  {
   "cell_type": "markdown",
   "id": "7ebfc061",
   "metadata": {},
   "source": [
    "<br>\n",
    "\n",
    "- 모델의 가능도는 주어진 매개변수에 대한 데이터 생성 프로세스를 설명하며, 사전분포는 일반적으로 모델 매개변수에 대한 사전 지식을 반영\n",
    "* 사전 지식이 부족한 경우, 관측된 데이터에 따라 사후분포가 결정되도록 비교적 모호한 사전분포가 가정\n"
   ]
  },
  {
   "cell_type": "markdown",
   "id": "09d7b0f8",
   "metadata": {},
   "source": [
    "<br>\n",
    "\n",
    "- 모델의 매개변수에 대한 요약통계량 $\\theta$, 결합분포 $\\pi(\\theta|y)$를 통해서 얻을 수 있으며, \n",
    "\n",
    "    개별 $\\theta$에 대한 각각의 사후주변분포는, 나머지 매개변수를 통합하여 얻을 수 있음\n",
    "    \n",
    "    $$\\pi(\\theta_i \\mid \\mathbf{y}) = \\int \\pi(\\theta \\mid \\mathbf{y}) d\\theta_{-i},\\ i=1,\\ldots, \\textrm{dim}(\\theta)$$\n",
    "    \n",
    "    - $\\theta_{-i}$는 매개변수 집합 $\\theta$에서 $\\theta_i$를 제외한 형태를 의미\n",
    "    - 사후 주변분포는 개별 매개변수를 요약하고, 요약 통계량을 계산하는 데 매우 유용\n",
    "    "
   ]
  },
  {
   "cell_type": "markdown",
   "id": "6b3fd1c5",
   "metadata": {},
   "source": [
    "<br>\n",
    "\n",
    "## 01.03. 켤레 사전분포\n",
    "- 켤레 분포가 있는 모델은, 정규화 상수를 계산하지 않고 사후분포를 추정할 수 있음\n",
    "- 예를 들어, 관측값 $\\{y_i\\}_{i=1}^n$이 가우스 분포를 따르고,\n",
    "\n",
    "    $$y_i \\mid \\mu,\\tau \\sim N(\\mu, \\tau),\\ i=1,\\ldots, n$$\n",
    "    \n",
    "    $\\mu$가 알려지지 않은 평균이고, $\\tau$가 알려지지 않은 표준편차일 때,\n",
    "    \n",
    "    $\\mu$에 대한 사전분포는 $\\mu_0$과 $\\tau_0$을 각각 매개변수로 가지는 가우스 분포로 정의될 수 있음\n",
    "    \n",
    "<br>\n",
    "\n",
    "- 또한 $\\mu$에 대한 사후분포 ($y$의 조건에 대한 $\\mu$의 조건부 분포)는 \n",
    "\n",
    "    $$\\mu_1 = \\mu_0 \\frac{\\tau_0}{\\tau_0 + \\tau n} + \\overline{y}\\frac{\\tau n}{\\tau_0 + \\tau n}$$\n",
    "    \n",
    "    $$\\tau_1 = \\tau_0 + n\\tau$$를 각각 매개변수로 가지는 정규분포 $N(\\mu_1,\\tau_1)$를 따름\n"
   ]
  },
  {
   "cell_type": "markdown",
   "id": "bedd6bc3",
   "metadata": {},
   "source": [
    "<br>\n",
    "\n",
    "## 01.04. 계산 방법\n",
    "- 정규화 상수를 계산할 수 없는 복잡한 형태(닫힌 형태)의 경우, 다른 방법으로 사후분포를 추정하거나, 표본을 추출\n",
    "    - 사후 분포에서 표본이 주어지면 에르고딕 정리(Ergodic theorem)를 통해 적률기반 통계량과 관심 있는 양적 변수을 추정(Brooks et al. 2011).\n",
    "\n",
    "<br>\n",
    "\n",
    "- 일반적으로 이상적인 계산 형태는, 적분을 사용하여 추정하는 아래와 같은 경우\n",
    "\n",
    "    - 에) 매개변수 $\\theta_i$($\\Theta 범위 안에 존재$)에 대한 사후 평균의 계산\n",
    "\n",
    "    $$\\int_{\\Theta_i} \\theta_i \\pi(\\theta_i \\mid \\mathbf{y}) d\\theta_i$$\n",
    "    \n",
    "    - $\\pi(\\theta_i|y)$의 분포는, 다변량 매개변수 $\\theta_i$의 사후 주변분포이며, 사후 분산 등의 다른 적률 기반의 통계량을 추정\n",
    "    - 이러한 유형의 적분은, 수치 적분 방법과 라플라스 근사(Tierney and Kadane 1986)를 사용하여 근사화할 수 있음\n",
    "    \n",
    "<br>\n",
    "    \n",
    "- 또한 상수까지 알려진 밀도함수에서 표본을 추출하는 전형적인 몬테카를로 방법을 사용하여, 사후분포에서 표본을 추출 할 수 있음\n",
    "    -  그러나 이러한 방법의 대부분은 고차원 공간에서는 잘 작동하지 않음\n",
    "\n",
    "<br>\n",
    "\n",
    "- 매개변수의 점 추정치는 가능도와 사전분포의 곱을 최대화함으로써 얻을 수 있으며,(MAP, Maximum A Posteri) \n",
    "    - 사후분포의 최대화는 일반적으로 로그 스케일에서 수행되며 뉴턴-랩슨 알고리즘 또는 EM 알고리즘과 같은 다양한 방법을 사용하여 구현(Gelman et al. 2013).\n"
   ]
  },
  {
   "cell_type": "markdown",
   "id": "cf63996c",
   "metadata": {},
   "source": [
    "<br>\n",
    "\n",
    "## 01.05. MCMC\n",
    "- Markovchain Monte Carlo (MCMC) (Gilks et al. 1996; Brooks et al. 2011)는 사후 결합분포에서 표본을 추출하는 계산법\n",
    "- 사후분포로의 수렴은 여러번의 반복을 통해 구현되며, 추론을 위해 시뮬레이션의 첫 번째 배치(burn-in 단계)에서의 체인값들은 사용되지 않음"
   ]
  },
  {
   "cell_type": "markdown",
   "id": "71ad0f56",
   "metadata": {},
   "source": [
    "<br>\n",
    "\n",
    "## 01.06. INLA\n",
    "* Havard Rue, Martino 및 Chopin(2009)이 개발한 베이지안 추론 계산법\n",
    "- 다변량 분포인 사후 결합분포 $\\pi(\\theta|y)$를 추정하는 대신, 모델 매개변수의 사후 주변분포를 추정하는 데 중점 (일변량 사후분포 $\\pi(\\theta_i|y)$)\n"
   ]
  },
  {
   "cell_type": "markdown",
   "id": "09784669",
   "metadata": {},
   "source": [
    "<br>\n",
    "\n",
    "## 01.07. 베이지안 추론 방법론별 비교\n",
    "\n",
    "<br>\n",
    "\n",
    "### 왕자의 게임 예제\n",
    "- 왕자의 게임 소설 책들의 한 페이지당, 알파벳 'u'의 평균 개수를 추정"
   ]
  },
  {
   "cell_type": "code",
   "execution_count": 2,
   "id": "a0b4c282",
   "metadata": {},
   "outputs": [],
   "source": [
    "library(tidyverse)"
   ]
  },
  {
   "cell_type": "code",
   "execution_count": 3,
   "id": "51753134",
   "metadata": {},
   "outputs": [
    {
     "data": {
      "text/html": [
       "<style>\n",
       ".list-inline {list-style: none; margin:0; padding: 0}\n",
       ".list-inline>li {display: inline-block}\n",
       ".list-inline>li:not(:last-child)::after {content: \"\\00b7\"; padding: 0 .5ex}\n",
       "</style>\n",
       "<ol class=list-inline><li>31</li><li>1</li></ol>\n"
      ],
      "text/latex": [
       "\\begin{enumerate*}\n",
       "\\item 31\n",
       "\\item 1\n",
       "\\end{enumerate*}\n"
      ],
      "text/markdown": [
       "1. 31\n",
       "2. 1\n",
       "\n",
       "\n"
      ],
      "text/plain": [
       "[1] 31  1"
      ]
     },
     "metadata": {},
     "output_type": "display_data"
    },
    {
     "data": {
      "text/plain": [
       "       Us       \n",
       " Min.   :15.00  \n",
       " 1st Qu.:27.50  \n",
       " Median :31.00  \n",
       " Mean   :33.03  \n",
       " 3rd Qu.:36.50  \n",
       " Max.   :62.00  "
      ]
     },
     "metadata": {},
     "output_type": "display_data"
    }
   ],
   "source": [
    "GoT <- read.csv2(file = \"data/GoT.csv\")\n",
    "GoT %>% dim\n",
    "summary(GoT)"
   ]
  },
  {
   "cell_type": "markdown",
   "id": "6811fe79",
   "metadata": {},
   "source": [
    "<br>\n",
    "\n",
    "### 켤레분포"
   ]
  },
  {
   "cell_type": "markdown",
   "id": "4e04bea2",
   "metadata": {},
   "source": [
    "- 총 31개의 관측치들이 존재하며, 관측값의 분포를 포아송분포로 설정\n",
    "\n",
    "$$U_i \\sim Po(\\lambda),\\ i=1,\\ldots,31$$\n",
    "\n",
    "$$P(X = x \\mid\\lambda) = \\frac{\\exp(-\\lambda)\\lambda^x}{x!}$$"
   ]
  },
  {
   "cell_type": "markdown",
   "id": "e09bcdd8",
   "metadata": {},
   "source": [
    "- 포아송 분포의 매개변수 $\\lambda$에 대한 사전분포로, 포아송분포의 켤레분포인 감마분포를 설정\n",
    "\n",
    "$$f_X(x \\mid a, b) = b\\exp(-b\\cdot x)\\frac{(b\\cdot x)^{a-1}}{\\Gamma(a)}$$"
   ]
  },
  {
   "cell_type": "code",
   "execution_count": 4,
   "id": "7deb5e95",
   "metadata": {},
   "outputs": [],
   "source": [
    "xx <- seq(1, 60, by = 0.01)\n",
    "\n",
    "got.prior <- dgamma(xx, 180, 6)\n",
    "got.lik <- sapply(xx, function(lambda) {\n",
    " exp(sum(dpois(GoT$Us, lambda, log = TRUE)))\n",
    "})"
   ]
  },
  {
   "cell_type": "code",
   "execution_count": 5,
   "id": "414a2174",
   "metadata": {},
   "outputs": [
    {
     "data": {
      "image/png": "[encoded data removed]",
      "text/plain": [
       "plot without title"
      ]
     },
     "metadata": {
      "image/png": {
       "height": 420,
       "width": 420
      }
     },
     "output_type": "display_data"
    }
   ],
   "source": [
    "tab1 <- data.frame(xx, got.prior)\n",
    "p1 <- ggplot(tab1, aes(x = xx, y = got.prior)) + geom_line() +\n",
    "  ggtitle(\"Prior distribution\") +\n",
    "  xlab(expression(lambda)) + ylab(\"density\")\n",
    "\n",
    "tab2 <- data.frame(xx, got.lik)\n",
    "p2 <- ggplot(tab2, aes(x = xx, y = got.lik)) + geom_line() +\n",
    "  ggtitle(\"Likelihood\") +\n",
    "  xlab(expression(lambda)) + ylab(\"likelihood\")\n",
    "\n",
    "gridExtra::grid.arrange(p1, p2, ncol = 1)"
   ]
  },
  {
   "cell_type": "markdown",
   "id": "b79ae973",
   "metadata": {},
   "source": [
    "- 감마분포와 포아송분포는 켤레분포 관계이며, 사후분포는 $a + \\sum_{i=1}^{31} U_i$와 $b+n$을 매개변수로 가지는 감마분포"
   ]
  },
  {
   "cell_type": "code",
   "execution_count": 6,
   "id": "1279edd5",
   "metadata": {},
   "outputs": [],
   "source": [
    "a.post <- 180 + sum(GoT$Us)\n",
    "b.post <- 6 + nrow(GoT)\n",
    "\n",
    "got.post <- dgamma(xx, a.post, b.post)"
   ]
  },
  {
   "cell_type": "code",
   "execution_count": 7,
   "id": "46760d95",
   "metadata": {},
   "outputs": [
    {
     "name": "stderr",
     "output_type": "stream",
     "text": [
      "Warning message:\n",
      "\"\u001b[1m\u001b[22mRemoved 4400 rows containing missing values (`geom_line()`).\"\n"
     ]
    },
    {
     "data": {
      "image/png": "[encoded data removed]",
      "text/plain": [
       "plot without title"
      ]
     },
     "metadata": {
      "image/png": {
       "height": 420,
       "width": 420
      }
     },
     "output_type": "display_data"
    }
   ],
   "source": [
    "tab.cp <- data.frame(xx, got.post)\n",
    "ggplot(tab.cp, aes(x = xx, y = got.post)) + geom_line() +\n",
    "  ggtitle(\"Posterior distribution\") +\n",
    "  xlab(expression(lambda)) + \n",
    "  ylab(expression(paste(pi, \"(\", lambda, \" | \", bold(y), \")\"))) +\n",
    "  xlim(25, 40)"
   ]
  },
  {
   "cell_type": "markdown",
   "id": "29fcbd4a",
   "metadata": {},
   "source": [
    "<br>\n",
    "\n",
    "### 최대 가능도 추정 (MLE)\n",
    "- 최대 가능도 추정량은 관측값의 평균"
   ]
  },
  {
   "cell_type": "code",
   "execution_count": 8,
   "id": "ffb8d9de",
   "metadata": {},
   "outputs": [
    {
     "data": {
      "text/html": [
       "33.0322580645161"
      ],
      "text/latex": [
       "33.0322580645161"
      ],
      "text/markdown": [
       "33.0322580645161"
      ],
      "text/plain": [
       "[1] 33.03226"
      ]
     },
     "metadata": {},
     "output_type": "display_data"
    }
   ],
   "source": [
    "mean(GoT$Us)"
   ]
  },
  {
   "cell_type": "markdown",
   "id": "0aa0e156",
   "metadata": {},
   "source": [
    "<br>\n",
    "\n",
    "### MAP (Maximum A Posteriori)\n",
    "- MAP 추정치는 로그 사전분포와 로그 가능도의 합을 최대화 하여 계산"
   ]
  },
  {
   "cell_type": "code",
   "execution_count": 9,
   "id": "72aba9db",
   "metadata": {},
   "outputs": [],
   "source": [
    "got.logposterior <- function(lambda) {\n",
    "  dgamma(lambda, 180, 6, log = TRUE) + sum(dpois(GoT$Us, lambda,\n",
    "    log = TRUE))\n",
    "}"
   ]
  },
  {
   "cell_type": "code",
   "execution_count": 10,
   "id": "a7ab5a58",
   "metadata": {},
   "outputs": [
    {
     "name": "stderr",
     "output_type": "stream",
     "text": [
      "Warning message in optim(30, got.logposterior, control = list(fnscale = -1)):\n",
      "\"one-dimensional optimization by Nelder-Mead is unreliable:\n",
      "use \"Brent\" or optimize() directly\"\n"
     ]
    },
    {
     "data": {
      "text/html": [
       "32.513671875"
      ],
      "text/latex": [
       "32.513671875"
      ],
      "text/markdown": [
       "32.513671875"
      ],
      "text/plain": [
       "[1] 32.51367"
      ]
     },
     "metadata": {},
     "output_type": "display_data"
    }
   ],
   "source": [
    "got.MAP <- optim(30, got.logposterior, control = list(fnscale = -1))\n",
    "got.MAP$par"
   ]
  },
  {
   "cell_type": "code",
   "execution_count": 11,
   "id": "bd2db63c",
   "metadata": {},
   "outputs": [
    {
     "name": "stderr",
     "output_type": "stream",
     "text": [
      "Warning message:\n",
      "\"\u001b[1m\u001b[22mRemoved 4400 rows containing missing values (`geom_line()`).\"\n"
     ]
    },
    {
     "data": {
      "image/png": "[encoded data removed]",
      "text/plain": [
       "plot without title"
      ]
     },
     "metadata": {
      "image/png": {
       "height": 420,
       "width": 420
      }
     },
     "output_type": "display_data"
    }
   ],
   "source": [
    "tab.cp <- data.frame(xx, got.post)\n",
    "ggplot(tab.cp, aes(x = xx, y = got.post)) + geom_line() +\n",
    "  ggtitle(\"Posterior distribution\") +\n",
    "  xlab(expression(lambda)) + \n",
    "  ylab(expression(paste(pi, \"(\", lambda, \" | \", bold(y), \")\"))) +\n",
    "  geom_vline(xintercept = got.MAP$par, linetype = \"dotted\", colour = \"red\") +\n",
    "  xlim(25, 40)"
   ]
  },
  {
   "cell_type": "markdown",
   "id": "2892a266",
   "metadata": {},
   "source": [
    "<br>\n",
    "\n",
    "###  Metropolis-Hastings\n",
    "- 제안분포를, 현재의 체인값 $\\lambda$와 0.05를 각각 평균과 표준편차로 가지는 로그 정규분포로 설정\n",
    "\n",
    "    초기값 20이며, 2100개의 $\\lambda$ 체인값을 추출하는 Metropolis-Hastings"
   ]
  },
  {
   "cell_type": "code",
   "execution_count": 12,
   "id": "5585f53f",
   "metadata": {},
   "outputs": [],
   "source": [
    "n.sim <- 2100\n",
    "lambda <- rep(NA, n.sim)\n",
    "lambda[1] <- 20"
   ]
  },
  {
   "cell_type": "code",
   "execution_count": 13,
   "id": "006f3aed",
   "metadata": {},
   "outputs": [],
   "source": [
    "set.seed(1)\n",
    "for (i in 2:n.sim) {\n",
    "\n",
    "  lambda.new <- rlnorm(1, log(lambda[i - 1]), 0.05)\n",
    "\n",
    "  acc.prob <- dlnorm(lambda[i -1], log(lambda.new), 0.05, log = TRUE) + \n",
    "    dgamma(lambda.new, 180, 6, log = TRUE) +\n",
    "    sum(dpois(GoT$Us, lambda.new, log = TRUE)) -\n",
    "    dlnorm(lambda.new, log(lambda[i - 1]), 0.05, log = TRUE) -\n",
    "    dgamma(lambda[i - 1], 180, 6, log = TRUE) -\n",
    "    sum(dpois(GoT$Us, lambda[i - 1], log = TRUE))\n",
    "\n",
    "  acc.prob <- min(1, exp(acc.prob))\n",
    "\n",
    "  if(runif(1) < acc.prob) {\n",
    "    lambda[i] <- lambda.new\n",
    "  } else {\n",
    "    lambda[i] <- lambda[i -1]\n",
    "  }\n",
    "\n",
    "}"
   ]
  },
  {
   "cell_type": "markdown",
   "id": "0b146881",
   "metadata": {},
   "source": [
    "- **체인값의 초반 구간은, 초기값과 너무 가까운 값이 가능성이 높음 $\\rightarrow$ 번인(burn-in)으로 간주되어 제거**\n",
    "- **또한 체인의 값들 사이에 높은 상관관계가 존재할 가능성이 높음 $\\rightarrow$ 전체 체인값에서 일부만 사용**\n",
    "\n",
    "    **$\\rightarrow$ 2100개의 체인값 중 초반 100개의 체인값을 burn-in으로 간주 & 나머지 2000개의 체인값에서 400개의 체인값만 사용**"
   ]
  },
  {
   "cell_type": "code",
   "execution_count": 14,
   "id": "e11ec0fa",
   "metadata": {},
   "outputs": [],
   "source": [
    "lambda2 <- lambda[seq(101, n.sim, by = 5)]"
   ]
  },
  {
   "cell_type": "markdown",
   "id": "92d0f9ce",
   "metadata": {},
   "source": [
    "- Metropolis-Hastings 를 통한 사후분포"
   ]
  },
  {
   "cell_type": "code",
   "execution_count": 15,
   "id": "a6b969a6",
   "metadata": {},
   "outputs": [
    {
     "data": {
      "text/plain": [
       "   Min. 1st Qu.  Median    Mean 3rd Qu.    Max. \n",
       "  29.99   32.03   32.69   32.60   33.22   36.22 "
      ]
     },
     "metadata": {},
     "output_type": "display_data"
    }
   ],
   "source": [
    "summary(lambda2)"
   ]
  },
  {
   "cell_type": "code",
   "execution_count": 16,
   "id": "709930bc",
   "metadata": {},
   "outputs": [],
   "source": [
    "tab.sim <- data.frame(iter = 1:n.sim, lambda = lambda)\n",
    "\n",
    "tab.labels <- data.frame(\n",
    "  x = c(0, 500),\n",
    "  y = c(36, 36),\n",
    "  text = c(\"burn-in\", \"inference\")\n",
    ")"
   ]
  },
  {
   "cell_type": "code",
   "execution_count": 17,
   "id": "3338adc8",
   "metadata": {},
   "outputs": [
    {
     "data": {
      "image/png": "[encoded data removed]",
      "text/plain": [
       "plot without title"
      ]
     },
     "metadata": {
      "image/png": {
       "height": 420,
       "width": 420
      }
     },
     "output_type": "display_data"
    }
   ],
   "source": [
    "p1 <- ggplot(tab.sim, aes(x = iter, y = lambda)) + geom_line() +\n",
    "  xlab(\"Iteration\") + \n",
    "  ylab(expression(lambda)) + \n",
    "  geom_vline(xintercept = 100, linetype = \"dashed\", colour = \"red\") +\n",
    "  geom_text(data = tab.labels, aes(x = x, y = y, label = text)) +\n",
    "  ggtitle(\"Metropolis-Hastings samples\")\n",
    "\n",
    "dens.lambda <- as.data.frame(density(lambda2, bw = 0.4)[c(\"x\", \"y\")])\n",
    "p2 <- ggplot(dens.lambda, aes(x = x, y = y)) + geom_line() +\n",
    "  xlab(expression(lambda)) +\n",
    "  ylab(expression(paste(pi, \"(\", lambda, \" | \", bold(y), \")\"))) +\n",
    "  ggtitle(\"Posterior density\")\n",
    "\n",
    "gridExtra::grid.arrange(p1, p2, ncol = 1)"
   ]
  },
  {
   "cell_type": "markdown",
   "id": "d12be5fe",
   "metadata": {},
   "source": [
    "<br>\n",
    "\n",
    "### INLA"
   ]
  },
  {
   "cell_type": "markdown",
   "id": "54bc37a9",
   "metadata": {},
   "source": [
    "$$U_i \\sim Po(\\lambda),\\ i=1,\\ldots, 31$$\n",
    "\n",
    "$$\\log(\\lambda) = \\alpha$$\n",
    "\n",
    "$$\\pi(\\alpha) \\propto 1$$"
   ]
  },
  {
   "cell_type": "markdown",
   "id": "02b09cc1",
   "metadata": {},
   "source": [
    "- $\\alpha$는 선형 예측에서의 절편이며, 상수 사전분포로 할당\n",
    "    - 하나로 통합 되지 않기에 부적절한 사전분포의 형태이지만, 사전정보가 부족한 경우 (모호한 사전분포)에 유용\n",
    "    \n",
    "- 로그변환된 $\\lambda$는 $\\alpha$를 절편으로 가지는 회귀식으로 모델링"
   ]
  },
  {
   "cell_type": "code",
   "execution_count": 19,
   "id": "c3a41e6f",
   "metadata": {},
   "outputs": [],
   "source": [
    "library(INLA)"
   ]
  },
  {
   "cell_type": "markdown",
   "id": "d9835a6a",
   "metadata": {},
   "source": [
    "- $\\alpha$의 사후분포"
   ]
  },
  {
   "cell_type": "code",
   "execution_count": 20,
   "id": "6b10e32d",
   "metadata": {},
   "outputs": [
    {
     "name": "stderr",
     "output_type": "stream",
     "text": [
      "Warning message in .recacheSubclasses(def@className, def, env):\n",
      "\"undefined subclass \"ndiMatrix\" of class \"replValueSp\"; definition not updated\"\n"
     ]
    }
   ],
   "source": [
    "GoT.inla <- inla(Us ~ 1, data = GoT, family = \"poisson\",\n",
    "  control.predictor = list(compute = TRUE)\n",
    ") "
   ]
  },
  {
   "cell_type": "code",
   "execution_count": 21,
   "id": "081e395e",
   "metadata": {},
   "outputs": [
    {
     "data": {
      "text/html": [
       "<table class=\"dataframe\">\n",
       "<caption>A data.frame: 1 × 7</caption>\n",
       "<thead>\n",
       "\t<tr><th></th><th scope=col>mean</th><th scope=col>sd</th><th scope=col>0.025quant</th><th scope=col>0.5quant</th><th scope=col>0.975quant</th><th scope=col>mode</th><th scope=col>kld</th></tr>\n",
       "\t<tr><th></th><th scope=col>&lt;dbl&gt;</th><th scope=col>&lt;dbl&gt;</th><th scope=col>&lt;dbl&gt;</th><th scope=col>&lt;dbl&gt;</th><th scope=col>&lt;dbl&gt;</th><th scope=col>&lt;dbl&gt;</th><th scope=col>&lt;dbl&gt;</th></tr>\n",
       "</thead>\n",
       "<tbody>\n",
       "\t<tr><th scope=row>(Intercept)</th><td>3.496996</td><td>0.03125285</td><td>3.435742</td><td>3.496996</td><td>3.558251</td><td>3.496996</td><td>0</td></tr>\n",
       "</tbody>\n",
       "</table>\n"
      ],
      "text/latex": [
       "A data.frame: 1 × 7\n",
       "\\begin{tabular}{r|lllllll}\n",
       "  & mean & sd & 0.025quant & 0.5quant & 0.975quant & mode & kld\\\\\n",
       "  & <dbl> & <dbl> & <dbl> & <dbl> & <dbl> & <dbl> & <dbl>\\\\\n",
       "\\hline\n",
       "\t(Intercept) & 3.496996 & 0.03125285 & 3.435742 & 3.496996 & 3.558251 & 3.496996 & 0\\\\\n",
       "\\end{tabular}\n"
      ],
      "text/markdown": [
       "\n",
       "A data.frame: 1 × 7\n",
       "\n",
       "| <!--/--> | mean &lt;dbl&gt; | sd &lt;dbl&gt; | 0.025quant &lt;dbl&gt; | 0.5quant &lt;dbl&gt; | 0.975quant &lt;dbl&gt; | mode &lt;dbl&gt; | kld &lt;dbl&gt; |\n",
       "|---|---|---|---|---|---|---|---|\n",
       "| (Intercept) | 3.496996 | 0.03125285 | 3.435742 | 3.496996 | 3.558251 | 3.496996 | 0 |\n",
       "\n"
      ],
      "text/plain": [
       "            mean     sd         0.025quant 0.5quant 0.975quant mode     kld\n",
       "(Intercept) 3.496996 0.03125285 3.435742   3.496996 3.558251   3.496996 0  "
      ]
     },
     "metadata": {},
     "output_type": "display_data"
    }
   ],
   "source": [
    "GoT.inla$summary.fixed"
   ]
  },
  {
   "cell_type": "markdown",
   "id": "06050f6c",
   "metadata": {},
   "source": [
    "- $\\lambda$의 사후분포는, $\\alpha$의 사후분포를 통하여 계산\n",
    "$$\\lambda = exp(\\alpha)$$"
   ]
  },
  {
   "cell_type": "code",
   "execution_count": 22,
   "id": "24a3043e",
   "metadata": {},
   "outputs": [
    {
     "name": "stdout",
     "output_type": "stream",
     "text": [
      "Mean            33.032 \n",
      "Stdev           1.02615 \n",
      "Quantile  0.025 31.0609 \n",
      "Quantile  0.25  32.3267 \n",
      "Quantile  0.5   33.0145 \n",
      "Quantile  0.75  33.7169 \n",
      "Quantile  0.975 35.0908 \n"
     ]
    }
   ],
   "source": [
    "marg.lambda <- inla.tmarginal(exp, GoT.inla$marginals.fixed[[1]])\n",
    "inla.est <- inla.zmarginal(marg.lambda)"
   ]
  }
 ],
 "metadata": {
  "kernelspec": {
   "display_name": "R-4.3.2",
   "language": "R",
   "name": "ir"
  },
  "language_info": {
   "codemirror_mode": "r",
   "file_extension": ".r",
   "mimetype": "text/x-r-source",
   "name": "R",
   "pygments_lexer": "r",
   "version": "4.3.2"
  }
 },
 "nbformat": 4,
 "nbformat_minor": 5
}
