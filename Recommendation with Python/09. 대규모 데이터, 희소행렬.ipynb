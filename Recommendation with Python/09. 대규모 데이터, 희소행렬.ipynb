{
 "cells": [
  {
   "cell_type": "markdown",
   "id": "c2d2afef",
   "metadata": {},
   "source": [
    "# 09. 대규모 데이터 처리를 위한 희소행렬\n",
    "- 현실에서 다루어야 하는 데이터는 방대한 데이터\n",
    "    - 예) `MovieLens 20M`데이터는 138,494명의 사용자가 131,263개의 영화에 대해서 평가한 약 2,000만 개의 데이터를 포함\n",
    "    \n",
    "    $\\rightarrow$ 이런 데이터를 처리할 때 가장 흔하게 직면하는 문제는 메모리의 한계\n",
    "\n",
    "    - 이전에는 Full Matrix로 변환 (Pivot Wider)하여 처리하였지만, 방대한 데이터에서는 불가\n",
    "    \n",
    "- **추천 시스템에서 사용되는 대부분의 데이터는 Full Matrix로 변환하면 많은 원소가 비어있는 (결측값, 평가되지 않음) 희소행렬 (Sparse Matrix)**\n",
    "\n",
    "    - 예) `MovieLens 100K` 데이터를 Full Matrix로 변환하면 원소 중 값(평점)을 갖는 비율이 약 0.6%에 불과\n"
   ]
  },
  {
   "cell_type": "markdown",
   "id": "af677f0d",
   "metadata": {},
   "source": [
    "<br>\n",
    "\n",
    "## 09.01. Sparse Matrix의 사용\n",
    "- 희소행렬을 다룬다면, 전체 행렬을 저장하는 대신, 원소 중 실제로 값을 갖는 것 만 그 인덱스와 같이 저장하는 것이 훨씬 효율적\n",
    "- **아래와 같이 Full Matrix를 Sparse Matrix로 처리하면, 원소의 인덱스와 그 값에 대한 정보만 저장**\n",
    "\n",
    "    $\\rightarrow$ **데이터가 희박할수록 (실제 데이터가 있는 원소의 비율이 적을수록) 저장공간이 절약되는 정도가 증가**\n",
    "    \n",
    "<img src ='https://www.researchgate.net/publication/328995968/figure/fig4/AS:693582436528129@1542374347304/Illustration-of-the-sparse-matrix-format-A-Example-matrix-of-size-8-8-with-5.png' width=\"800\">"
   ]
  },
  {
   "cell_type": "markdown",
   "id": "65a3a742",
   "metadata": {},
   "source": [
    "<br>\n",
    "\n",
    "#### 희소행렬의 단점\n",
    "- **데이터를 저장하거나 읽어올 때마다 값이 존재하는지 확인하여, 그에 맞는 처리가 필요**\n",
    "    \n",
    "    $\\rightarrow$ **데이터 처리의 overhead cost가 높음**\n",
    "    \n",
    "    $\\rightarrow$ **데이터가 희소하지 않은 경우에는 장점보다 단점이 더 부각됨**\n",
    "    "
   ]
  },
  {
   "cell_type": "markdown",
   "id": "7e4d386d",
   "metadata": {},
   "source": [
    "<br>\n",
    "\n",
    "### 희소행렬 구현\n",
    "- Python에서의 희소행렬 종류\n",
    "1. `csc_matrix` : Compressed Sparse Column Format - 효율적인 컬럼 슬라이싱\n",
    "2. `csr_matric` : Compressed SParse Rows Format - 효율적인 로우 슬라이싱\n",
    "3. `bsr_matrix` : Block Sparse Rows Format\n",
    "4. `lil_matrix` : List of Lists Format\n",
    "5. `dok_matrix` : Dictionary of Keys Format\n",
    "6. `coo_matrix` : COOrdinate Format (AKA. IJV, Triplet Format)\n",
    "7. `dia_matrix` : DIAgonal Format"
   ]
  },
  {
   "cell_type": "markdown",
   "id": "79f8702d",
   "metadata": {},
   "source": [
    "<br>\n",
    "\n",
    "- `csr_matrix` "
   ]
  },
  {
   "cell_type": "code",
   "execution_count": 1,
   "id": "b9e868a3",
   "metadata": {},
   "outputs": [],
   "source": [
    "import numpy as np\n",
    "import pandas as pd\n",
    "from scipy.sparse import csr_matrix"
   ]
  },
  {
   "cell_type": "markdown",
   "id": "1abf859d",
   "metadata": {},
   "source": [
    "- 임의의 DF"
   ]
  },
  {
   "cell_type": "code",
   "execution_count": 9,
   "id": "ceecbbe9",
   "metadata": {},
   "outputs": [
    {
     "data": {
      "text/html": [
       "<div>\n",
       "<style scoped>\n",
       "    .dataframe tbody tr th:only-of-type {\n",
       "        vertical-align: middle;\n",
       "    }\n",
       "\n",
       "    .dataframe tbody tr th {\n",
       "        vertical-align: top;\n",
       "    }\n",
       "\n",
       "    .dataframe thead th {\n",
       "        text-align: right;\n",
       "    }\n",
       "</style>\n",
       "<table border=\"1\" class=\"dataframe\">\n",
       "  <thead>\n",
       "    <tr style=\"text-align: right;\">\n",
       "      <th></th>\n",
       "      <th>user_id</th>\n",
       "      <th>movie_id</th>\n",
       "      <th>rating</th>\n",
       "    </tr>\n",
       "  </thead>\n",
       "  <tbody>\n",
       "    <tr>\n",
       "      <th>0</th>\n",
       "      <td>1</td>\n",
       "      <td>2</td>\n",
       "      <td>4</td>\n",
       "    </tr>\n",
       "    <tr>\n",
       "      <th>1</th>\n",
       "      <td>2</td>\n",
       "      <td>3</td>\n",
       "      <td>3</td>\n",
       "    </tr>\n",
       "    <tr>\n",
       "      <th>2</th>\n",
       "      <td>4</td>\n",
       "      <td>7</td>\n",
       "      <td>1</td>\n",
       "    </tr>\n",
       "  </tbody>\n",
       "</table>\n",
       "</div>"
      ],
      "text/plain": [
       "   user_id  movie_id  rating\n",
       "0        1         2       4\n",
       "1        2         3       3\n",
       "2        4         7       1"
      ]
     },
     "execution_count": 9,
     "metadata": {},
     "output_type": "execute_result"
    }
   ],
   "source": [
    "ratings = {\n",
    "    'user_id': [1,2,4], \n",
    "    'movie_id': [2,3,7], \n",
    "    'rating': [4,3,1]\n",
    "}\n",
    "\n",
    "ratings = pd.DataFrame(ratings)\n",
    "ratings"
   ]
  },
  {
   "cell_type": "markdown",
   "id": "66b2fa97",
   "metadata": {},
   "source": [
    "- `pandas`를 이용한 Full Matrix"
   ]
  },
  {
   "cell_type": "code",
   "execution_count": 10,
   "id": "deccdaf0",
   "metadata": {},
   "outputs": [
    {
     "data": {
      "text/plain": [
       "array([[4., 0., 0.],\n",
       "       [0., 3., 0.],\n",
       "       [0., 0., 1.]])"
      ]
     },
     "execution_count": 10,
     "metadata": {},
     "output_type": "execute_result"
    }
   ],
   "source": [
    "rating_matrix = ratings.pivot(index = 'user_id', columns ='movie_id', values = 'rating').fillna(0)\n",
    "full_matrix1 = np.array(rating_matrix)\n",
    "full_matrix1"
   ]
  },
  {
   "cell_type": "markdown",
   "id": "d913d5a0",
   "metadata": {},
   "source": [
    "<br>\n",
    "\n",
    "- Full Matrix를 희소행렬로 변환 & 희소행렬 연산"
   ]
  },
  {
   "cell_type": "code",
   "execution_count": 19,
   "id": "d7013cd8",
   "metadata": {},
   "outputs": [],
   "source": [
    "data = np.array(ratings['rating']) # 값 저장\n",
    "row_indices = np.array(ratings['user_id']) # 행 인덱스 저장\n",
    "col_indices = np.array(ratings['movie_id']) # 열 인덱스 저장"
   ]
  },
  {
   "cell_type": "code",
   "execution_count": 30,
   "id": "0d58bad9",
   "metadata": {},
   "outputs": [
    {
     "name": "stdout",
     "output_type": "stream",
     "text": [
      "  (1, 2)\t4\n",
      "  (2, 3)\t3\n",
      "  (4, 7)\t1\n"
     ]
    }
   ],
   "source": [
    "rating_matrix = csr_matrix((data, (row_indices, col_indices)), dtype=int)\n",
    "print(rating_matrix)"
   ]
  },
  {
   "cell_type": "code",
   "execution_count": 29,
   "id": "d97b21ac",
   "metadata": {},
   "outputs": [
    {
     "name": "stdout",
     "output_type": "stream",
     "text": [
      "  (1, 2)\t8\n",
      "  (2, 3)\t6\n",
      "  (4, 7)\t2\n"
     ]
    }
   ],
   "source": [
    "print(rating_matrix * 2)"
   ]
  },
  {
   "cell_type": "code",
   "execution_count": 26,
   "id": "085a49e4",
   "metadata": {},
   "outputs": [
    {
     "name": "stdout",
     "output_type": "stream",
     "text": [
      "  (2, 1)\t4\n",
      "  (3, 2)\t3\n",
      "  (7, 4)\t1\n"
     ]
    }
   ],
   "source": [
    "print(rating_matrix.T)"
   ]
  },
  {
   "cell_type": "code",
   "execution_count": 27,
   "id": "e3e52417",
   "metadata": {},
   "outputs": [
    {
     "name": "stdout",
     "output_type": "stream",
     "text": [
      "  (1, 1)\t16\n",
      "  (2, 2)\t9\n",
      "  (4, 4)\t1\n"
     ]
    }
   ],
   "source": [
    "print(rating_matrix.dot(rating_matrix.T))"
   ]
  },
  {
   "cell_type": "markdown",
   "id": "1aaec173",
   "metadata": {},
   "source": [
    "<br>\n",
    "\n",
    "- 희소행렬을 Full Matrix로 변환"
   ]
  },
  {
   "cell_type": "code",
   "execution_count": 22,
   "id": "188b5d00",
   "metadata": {},
   "outputs": [
    {
     "data": {
      "text/plain": [
       "array([[0, 0, 0, 0, 0, 0, 0, 0],\n",
       "       [0, 0, 4, 0, 0, 0, 0, 0],\n",
       "       [0, 0, 0, 3, 0, 0, 0, 0],\n",
       "       [0, 0, 0, 0, 0, 0, 0, 0],\n",
       "       [0, 0, 0, 0, 0, 0, 0, 1]], dtype=int32)"
      ]
     },
     "execution_count": 22,
     "metadata": {},
     "output_type": "execute_result"
    }
   ],
   "source": [
    "full_matrix2 = rating_matrix.toarray()\n",
    "full_matrix2"
   ]
  },
  {
   "cell_type": "markdown",
   "id": "00ab1d3c",
   "metadata": {},
   "source": [
    "<br>\n",
    "\n",
    "## 09.02. 희소행렬의 추천 알고리즘 적용"
   ]
  },
  {
   "cell_type": "code",
   "execution_count": 43,
   "id": "65348203",
   "metadata": {},
   "outputs": [],
   "source": [
    "import numpy as np\n",
    "import pandas as pd"
   ]
  },
  {
   "cell_type": "code",
   "execution_count": 44,
   "id": "793f7022",
   "metadata": {},
   "outputs": [],
   "source": [
    "r_cols = ['user_id', 'movie_id', 'rating', 'timestamp']\n",
    "ratings = pd.read_csv('ratings-20m.csv', names=r_cols,  sep=',',encoding='latin-1')\n",
    "ratings = ratings[['user_id', 'movie_id', 'rating']].astype(int) "
   ]
  },
  {
   "cell_type": "markdown",
   "id": "558a9f20",
   "metadata": {},
   "source": [
    "- **인덱스와, 값을 가지는 희소행렬**"
   ]
  },
  {
   "cell_type": "code",
   "execution_count": 45,
   "id": "1d36e024",
   "metadata": {},
   "outputs": [
    {
     "name": "stdout",
     "output_type": "stream",
     "text": [
      "(20000263, 3)\n"
     ]
    },
    {
     "data": {
      "text/html": [
       "<div>\n",
       "<style scoped>\n",
       "    .dataframe tbody tr th:only-of-type {\n",
       "        vertical-align: middle;\n",
       "    }\n",
       "\n",
       "    .dataframe tbody tr th {\n",
       "        vertical-align: top;\n",
       "    }\n",
       "\n",
       "    .dataframe thead th {\n",
       "        text-align: right;\n",
       "    }\n",
       "</style>\n",
       "<table border=\"1\" class=\"dataframe\">\n",
       "  <thead>\n",
       "    <tr style=\"text-align: right;\">\n",
       "      <th></th>\n",
       "      <th>user_id</th>\n",
       "      <th>movie_id</th>\n",
       "      <th>rating</th>\n",
       "    </tr>\n",
       "  </thead>\n",
       "  <tbody>\n",
       "    <tr>\n",
       "      <th>0</th>\n",
       "      <td>1</td>\n",
       "      <td>2</td>\n",
       "      <td>3</td>\n",
       "    </tr>\n",
       "    <tr>\n",
       "      <th>1</th>\n",
       "      <td>1</td>\n",
       "      <td>29</td>\n",
       "      <td>3</td>\n",
       "    </tr>\n",
       "    <tr>\n",
       "      <th>2</th>\n",
       "      <td>1</td>\n",
       "      <td>32</td>\n",
       "      <td>3</td>\n",
       "    </tr>\n",
       "    <tr>\n",
       "      <th>3</th>\n",
       "      <td>1</td>\n",
       "      <td>47</td>\n",
       "      <td>3</td>\n",
       "    </tr>\n",
       "    <tr>\n",
       "      <th>4</th>\n",
       "      <td>1</td>\n",
       "      <td>50</td>\n",
       "      <td>3</td>\n",
       "    </tr>\n",
       "  </tbody>\n",
       "</table>\n",
       "</div>"
      ],
      "text/plain": [
       "   user_id  movie_id  rating\n",
       "0        1         2       3\n",
       "1        1        29       3\n",
       "2        1        32       3\n",
       "3        1        47       3\n",
       "4        1        50       3"
      ]
     },
     "execution_count": 45,
     "metadata": {},
     "output_type": "execute_result"
    }
   ],
   "source": [
    "print(ratings.shape)\n",
    "ratings.head()"
   ]
  },
  {
   "cell_type": "code",
   "execution_count": 46,
   "id": "eeaf3fc1",
   "metadata": {},
   "outputs": [],
   "source": [
    "from sklearn.utils import shuffle"
   ]
  },
  {
   "cell_type": "code",
   "execution_count": 47,
   "id": "e469bc68",
   "metadata": {},
   "outputs": [],
   "source": [
    "TRAIN_SIZE = 0.75\n",
    "ratings = shuffle(ratings, random_state=1)\n",
    "cutoff = int(TRAIN_SIZE * len(ratings))\n",
    "ratings_train = ratings.iloc[:cutoff]\n",
    "ratings_test = ratings.iloc[cutoff:]"
   ]
  },
  {
   "cell_type": "markdown",
   "id": "3e8547cd",
   "metadata": {},
   "source": [
    "- 희소행렬 객체로 저장"
   ]
  },
  {
   "cell_type": "code",
   "execution_count": 48,
   "id": "598236f9",
   "metadata": {},
   "outputs": [],
   "source": [
    "from scipy.sparse import csr_matrix"
   ]
  },
  {
   "cell_type": "code",
   "execution_count": 49,
   "id": "4d75bd95",
   "metadata": {},
   "outputs": [],
   "source": [
    "data = np.array(ratings['rating'])\n",
    "row_indices = np.array(ratings['user_id'])\n",
    "col_indices = np.array(ratings['movie_id'])\n",
    "ratings = csr_matrix((data, (row_indices, col_indices)), dtype=int)"
   ]
  },
  {
   "cell_type": "markdown",
   "id": "053d99f1",
   "metadata": {},
   "source": [
    "- MF 엔진 구현"
   ]
  },
  {
   "cell_type": "code",
   "execution_count": 51,
   "id": "c3c94827",
   "metadata": {},
   "outputs": [],
   "source": [
    "class NEW_MF():\n",
    "    def __init__(self, ratings, K, alpha, beta, iterations, verbose=True):\n",
    "        self.R = ratings # 희소행렬 객체를 그대로 사용\n",
    "        self.num_users, self.num_items = np.shape(self.R)\n",
    "        self.K = K\n",
    "        self.alpha = alpha\n",
    "        self.beta = beta\n",
    "        self.iterations = iterations\n",
    "        self.verbose = verbose\n",
    "\n",
    "    \n",
    "    def rmse(self):\n",
    "        xs, ys = self.R.nonzero()\n",
    "        self.predictions = []\n",
    "        self.errors = []\n",
    "        for x, y in zip(xs, ys):\n",
    "            prediction = self.get_prediction(x, y)\n",
    "            self.predictions.append(prediction)\n",
    "            self.errors.append(self.R[x, y] - prediction)\n",
    "        self.predictions = np.array(self.predictions)\n",
    "        self.errors = np.array(self.errors)\n",
    "        \n",
    "        return np.sqrt(np.mean(self.errors**2))\n",
    "\n",
    "    \n",
    "    def get_prediction(self, i, j):\n",
    "        prediction = self.b + self.b_u[i] + self.b_d[j] + self.P[i, :].dot(self.Q[j, :].T)\n",
    "        return prediction\n",
    "\n",
    "    \n",
    "    def sgd(self):\n",
    "        for i, j, r in self.samples:\n",
    "            prediction = self.get_prediction(i, j)\n",
    "            e = (r - prediction)\n",
    "\n",
    "            self.b_u[i] += self.alpha * (e - self.beta * self.b_u[i])\n",
    "            self.b_d[j] += self.alpha * (e - self.beta * self.b_d[j])\n",
    "\n",
    "            self.P[i, :] += self.alpha * (e * self.Q[j, :] - self.beta * self.P[i,:])\n",
    "            self.Q[j, :] += self.alpha * (e * self.P[i, :] - self.beta * self.Q[j,:])\n",
    "\n",
    "    \n",
    "    def set_test(self, ratings_test):\n",
    "        \n",
    "        test_set = []\n",
    "        for i in range(len(ratings_test)):              # 테스트 데이터에 있는 각 데이터에 대해서\n",
    "            x, y, z = ratings_test.iloc[i]              # 인덱스 (사용자 ID, 아이템ID), 값 (평점) 가져오기\n",
    "            test_set.append([x, y, z])\n",
    "            self.R[x, y] = 0                       \n",
    "            \n",
    "        self.test_set = test_set\n",
    "        \n",
    "        return test_set               \n",
    "    \n",
    "    def test_rmse(self):\n",
    "        \n",
    "        error = 0\n",
    "        for one_set in self.test_set:\n",
    "            predicted = self.get_prediction(one_set[0], one_set[1])\n",
    "            error += pow(one_set[2] - predicted, 2)\n",
    "            \n",
    "        return np.sqrt(error/len(self.test_set))\n",
    "\n",
    "    def test(self):\n",
    "        self.P = np.random.normal(scale=1./self.K, size=(self.num_users, self.K))\n",
    "        self.Q = np.random.normal(scale=1./self.K, size=(self.num_items, self.K))\n",
    "\n",
    "        self.b_u = np.zeros(self.num_users)\n",
    "        self.b_d = np.zeros(self.num_items)\n",
    "        self.b = np.mean(self.R[self.R.nonzero()])\n",
    "\n",
    "        rows, columns = self.R.nonzero()\n",
    "        self.samples = [(i, j, self.R[i,j]) for i, j in zip(rows, columns)]\n",
    "\n",
    "        training_process = []\n",
    "        for i in range(self.iterations):\n",
    "            np.random.shuffle(self.samples)\n",
    "            self.sgd()\n",
    "            rmse1 = self.rmse()\n",
    "            rmse2 = self.test_rmse()\n",
    "            training_process.append((i+1, rmse1, rmse2))\n",
    "            if self.verbose:\n",
    "#                 if (i+1) % 10 == 0:\n",
    "                    print(\"Iteration: %d ; Train RMSE = %.4f ; Test RMSE = %.4f\" % (i+1, rmse1, rmse2))\n",
    "                    \n",
    "        return training_process\n",
    "\n",
    "    def get_one_prediction(self, user_id, item_id):\n",
    "        return self.get_prediction(user_id, item_id)"
   ]
  },
  {
   "cell_type": "code",
   "execution_count": null,
   "id": "fbf14dd9",
   "metadata": {},
   "outputs": [
    {
     "name": "stdout",
     "output_type": "stream",
     "text": [
      "Iteration: 1 ; Train RMSE = 0.9058 ; Test RMSE = 0.9648\n",
      "Iteration: 2 ; Train RMSE = 0.8867 ; Test RMSE = 0.9448\n",
      "Iteration: 3 ; Train RMSE = 0.8763 ; Test RMSE = 0.9341\n",
      "Iteration: 4 ; Train RMSE = 0.8695 ; Test RMSE = 0.9273\n"
     ]
    }
   ],
   "source": [
    "R_temp = ratings.copy()\n",
    "mf = NEW_MF(R_temp, K=200, alpha=0.001, beta=0.02, iterations=10, verbose=True)\n",
    "test_set = mf.set_test(ratings_test)\n",
    "result = mf.test()"
   ]
  }
 ],
 "metadata": {
  "kernelspec": {
   "display_name": "Python 3 (ipykernel)",
   "language": "python",
   "name": "python3"
  },
  "language_info": {
   "codemirror_mode": {
    "name": "ipython",
    "version": 3
   },
   "file_extension": ".py",
   "mimetype": "text/x-python",
   "name": "python",
   "nbconvert_exporter": "python",
   "pygments_lexer": "ipython3",
   "version": "3.9.13"
  }
 },
 "nbformat": 4,
 "nbformat_minor": 5
}
