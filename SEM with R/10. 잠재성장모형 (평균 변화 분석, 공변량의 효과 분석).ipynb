{
 "cells": [
  {
   "cell_type": "markdown",
   "id": "3163e720",
   "metadata": {},
   "source": [
    "# 10. 잠재성장모형\n",
    "\n",
    "- 구조방정식모형에는 공분산 구조에 주요 관심을 두고 있으며, 특별한 경우에만 평균 구조에 관심을 두게 됨\n",
    "- 평균 구조를 분석하는 대표적인 방법으로는 분산분석이 존재\n",
    "\n",
    "<br>\n",
    "\n",
    "**반복측정 데이터 (종단 데이터): 동일한 개체에 대하여 여러 시점에 걸쳐 반복적으로 측정된 데이터**\n",
    "- 종단 데이터에 대하여 평균구조를 분석하는 기법 : 반복측정 분산분석, 위계선형모형 (HLM), 잠재성장모형(LGM)"
   ]
  },
  {
   "cell_type": "markdown",
   "id": "5d22c8a9",
   "metadata": {},
   "source": [
    "<br>\n",
    "\n",
    "## 10.01. 평균 변화에 대한 분석\n",
    "- 잠재성장모형은 종단 데이터의 평균 구조를 분석하는데 사용하는 구조방정식모형의 특수한 형태 중 하나\n",
    "- **구조방정식모형에서 잠재성장모형을 분석하기 위해서는 적어도 세 번의 시점에서 측정된 데이터가 필요**\n",
    "\n",
    "<br>\n",
    "\n",
    "- 300명의 청소년을 대상으로 4년에 걸쳐 매년 조사가 실시된 데이터"
   ]
  },
  {
   "cell_type": "code",
   "execution_count": 3,
   "id": "88dd0392",
   "metadata": {},
   "outputs": [],
   "source": [
    "library(lavaan)\n",
    "library(sem)\n",
    "library(semPlot)\n",
    "library(semptools)\n",
    "library(psych)\n",
    "library(tidyverse)"
   ]
  },
  {
   "cell_type": "code",
   "execution_count": 4,
   "id": "04bd9fc6",
   "metadata": {},
   "outputs": [
    {
     "name": "stderr",
     "output_type": "stream",
     "text": [
      "Warning message:\n",
      "\"'sem' namespace cannot be unloaded:\n",
      "  namespace 'sem' is imported by 'semPlot' so cannot be unloaded\"\n"
     ]
    }
   ],
   "source": [
    "detach(\"package:sem\",unload=TRUE)"
   ]
  },
  {
   "cell_type": "markdown",
   "id": "668af699",
   "metadata": {},
   "source": [
    "- **각 시점별 평균은 1.94, 2.12, 2.23, 2.48로서, 시간에 따라 평균이 상승하는 추세가 존재**"
   ]
  },
  {
   "cell_type": "code",
   "execution_count": 7,
   "id": "4f69641d",
   "metadata": {
    "scrolled": true
   },
   "outputs": [],
   "source": [
    "Cigarette <- read.csv(paste0(getwd(), \"/Data/Cigarette.csv\"), header = TRUE)\n",
    "Cigarette.desc = describe(Cigarette %>% select(starts_with(\"Cigar\")))"
   ]
  },
  {
   "cell_type": "code",
   "execution_count": 8,
   "id": "e9c5afc3",
   "metadata": {
    "scrolled": true
   },
   "outputs": [
    {
     "data": {
      "text/html": [
       "<table class=\"dataframe\">\n",
       "<caption>A psych: 4 × 13</caption>\n",
       "<thead>\n",
       "\t<tr><th></th><th scope=col>vars</th><th scope=col>n</th><th scope=col>mean</th><th scope=col>sd</th><th scope=col>median</th><th scope=col>trimmed</th><th scope=col>mad</th><th scope=col>min</th><th scope=col>max</th><th scope=col>range</th><th scope=col>skew</th><th scope=col>kurtosis</th><th scope=col>se</th></tr>\n",
       "\t<tr><th></th><th scope=col>&lt;int&gt;</th><th scope=col>&lt;dbl&gt;</th><th scope=col>&lt;dbl&gt;</th><th scope=col>&lt;dbl&gt;</th><th scope=col>&lt;dbl&gt;</th><th scope=col>&lt;dbl&gt;</th><th scope=col>&lt;dbl&gt;</th><th scope=col>&lt;dbl&gt;</th><th scope=col>&lt;dbl&gt;</th><th scope=col>&lt;dbl&gt;</th><th scope=col>&lt;dbl&gt;</th><th scope=col>&lt;dbl&gt;</th><th scope=col>&lt;dbl&gt;</th></tr>\n",
       "</thead>\n",
       "<tbody>\n",
       "\t<tr><th scope=row>Cigarette1</th><td>1</td><td>300</td><td>1.943333</td><td>0.9071191</td><td>2</td><td>1.858333</td><td>1.4826</td><td>1</td><td>5</td><td>4</td><td>0.6201947</td><td>-0.4118504</td><td>0.05237255</td></tr>\n",
       "\t<tr><th scope=row>Cigarette2</th><td>2</td><td>300</td><td>2.123333</td><td>1.0416681</td><td>2</td><td>2.004167</td><td>1.4826</td><td>1</td><td>5</td><td>4</td><td>0.6735633</td><td>-0.2972664</td><td>0.06014074</td></tr>\n",
       "\t<tr><th scope=row>Cigarette3</th><td>3</td><td>300</td><td>2.233333</td><td>1.0532108</td><td>2</td><td>2.125000</td><td>1.4826</td><td>1</td><td>5</td><td>4</td><td>0.6391810</td><td>-0.1563645</td><td>0.06080716</td></tr>\n",
       "\t<tr><th scope=row>Cigarette4</th><td>4</td><td>300</td><td>2.480000</td><td>1.1665345</td><td>2</td><td>2.408333</td><td>1.4826</td><td>1</td><td>5</td><td>4</td><td>0.3504951</td><td>-0.7586898</td><td>0.06734990</td></tr>\n",
       "</tbody>\n",
       "</table>\n"
      ],
      "text/latex": [
       "A psych: 4 × 13\n",
       "\\begin{tabular}{r|lllllllllllll}\n",
       "  & vars & n & mean & sd & median & trimmed & mad & min & max & range & skew & kurtosis & se\\\\\n",
       "  & <int> & <dbl> & <dbl> & <dbl> & <dbl> & <dbl> & <dbl> & <dbl> & <dbl> & <dbl> & <dbl> & <dbl> & <dbl>\\\\\n",
       "\\hline\n",
       "\tCigarette1 & 1 & 300 & 1.943333 & 0.9071191 & 2 & 1.858333 & 1.4826 & 1 & 5 & 4 & 0.6201947 & -0.4118504 & 0.05237255\\\\\n",
       "\tCigarette2 & 2 & 300 & 2.123333 & 1.0416681 & 2 & 2.004167 & 1.4826 & 1 & 5 & 4 & 0.6735633 & -0.2972664 & 0.06014074\\\\\n",
       "\tCigarette3 & 3 & 300 & 2.233333 & 1.0532108 & 2 & 2.125000 & 1.4826 & 1 & 5 & 4 & 0.6391810 & -0.1563645 & 0.06080716\\\\\n",
       "\tCigarette4 & 4 & 300 & 2.480000 & 1.1665345 & 2 & 2.408333 & 1.4826 & 1 & 5 & 4 & 0.3504951 & -0.7586898 & 0.06734990\\\\\n",
       "\\end{tabular}\n"
      ],
      "text/markdown": [
       "\n",
       "A psych: 4 × 13\n",
       "\n",
       "| <!--/--> | vars &lt;int&gt; | n &lt;dbl&gt; | mean &lt;dbl&gt; | sd &lt;dbl&gt; | median &lt;dbl&gt; | trimmed &lt;dbl&gt; | mad &lt;dbl&gt; | min &lt;dbl&gt; | max &lt;dbl&gt; | range &lt;dbl&gt; | skew &lt;dbl&gt; | kurtosis &lt;dbl&gt; | se &lt;dbl&gt; |\n",
       "|---|---|---|---|---|---|---|---|---|---|---|---|---|---|\n",
       "| Cigarette1 | 1 | 300 | 1.943333 | 0.9071191 | 2 | 1.858333 | 1.4826 | 1 | 5 | 4 | 0.6201947 | -0.4118504 | 0.05237255 |\n",
       "| Cigarette2 | 2 | 300 | 2.123333 | 1.0416681 | 2 | 2.004167 | 1.4826 | 1 | 5 | 4 | 0.6735633 | -0.2972664 | 0.06014074 |\n",
       "| Cigarette3 | 3 | 300 | 2.233333 | 1.0532108 | 2 | 2.125000 | 1.4826 | 1 | 5 | 4 | 0.6391810 | -0.1563645 | 0.06080716 |\n",
       "| Cigarette4 | 4 | 300 | 2.480000 | 1.1665345 | 2 | 2.408333 | 1.4826 | 1 | 5 | 4 | 0.3504951 | -0.7586898 | 0.06734990 |\n",
       "\n"
      ],
      "text/plain": [
       "           vars n   mean     sd        median trimmed  mad    min max range\n",
       "Cigarette1 1    300 1.943333 0.9071191 2      1.858333 1.4826 1   5   4    \n",
       "Cigarette2 2    300 2.123333 1.0416681 2      2.004167 1.4826 1   5   4    \n",
       "Cigarette3 3    300 2.233333 1.0532108 2      2.125000 1.4826 1   5   4    \n",
       "Cigarette4 4    300 2.480000 1.1665345 2      2.408333 1.4826 1   5   4    \n",
       "           skew      kurtosis   se        \n",
       "Cigarette1 0.6201947 -0.4118504 0.05237255\n",
       "Cigarette2 0.6735633 -0.2972664 0.06014074\n",
       "Cigarette3 0.6391810 -0.1563645 0.06080716\n",
       "Cigarette4 0.3504951 -0.7586898 0.06734990"
      ]
     },
     "metadata": {},
     "output_type": "display_data"
    }
   ],
   "source": [
    "Cigarette.desc"
   ]
  },
  {
   "cell_type": "markdown",
   "id": "8311fec2",
   "metadata": {},
   "source": [
    "<br>\n",
    "\n",
    "- **잠재성장모형에서 평균 구조의 변화를 수식으로 표현**\n",
    "    - $\\mu_t$는 t시점에서의 평균, $\\epsilon_t$는 오차항\n",
    "    - 잠재변수 SLOPE의 경로계수를 어떻게 설정하느냐 따라 평균 변화의 형태에 대한 가정이 달라짐\n",
    "    \n",
    "$$\\mu_t = ICEPT + b_t SLOPE + \\epsilon_t$$\n"
   ]
  },
  {
   "cell_type": "markdown",
   "id": "aac65afe",
   "metadata": {},
   "source": [
    "<br>\n",
    "\n",
    "#### 잠재성장모형 - 평균변화\n",
    "- **잠재변수 'i'는 절편향(ICEPT), 's'는 기울기 (SLOPE)**\n",
    "\n",
    "<br>\n",
    "\n",
    "- 아래 결과와 같이, $b_1=0, b_2 = 1, b_3 = 2, b_4 = 3$으로 설정 \n",
    "\n",
    "    $\\rightarrow$ 첫 번째 시점의 평균은 $\\hat{\\mu}_1 = ICEPT$이고, 두 번째 시점부터 SLOPE의 크기만큼 매번 평균이 증가한다고 가정\n",
    "\n",
    "<br>\n",
    "\n",
    "- 만약 $b_1 = 0, b_2 = 1, b_3 = 1, b_4 = 1$로 설정\n",
    "\n",
    "    $\\rightarrow$ 두 번째 시점에서 평균이 SLOPE 크기만큼 증가하고, 세 번째와 네 번째 시점의 평균은 두 번째 시점과 동일하다고 가정"
   ]
  },
  {
   "cell_type": "code",
   "execution_count": 11,
   "id": "79dc4268",
   "metadata": {},
   "outputs": [],
   "source": [
    "Cigarette.A <- \"\n",
    "    i =~ 1 * Cigarette1 + 1 * Cigarette2 + 1 * Cigarette3 + 1 * Cigarette4\n",
    "    s =~ 0 * Cigarette1 + 1 * Cigarette2 + 2 * Cigarette3 + 3 * Cigarette4\n",
    "\""
   ]
  },
  {
   "cell_type": "code",
   "execution_count": 13,
   "id": "a0abea93",
   "metadata": {},
   "outputs": [
    {
     "data": {
      "image/png": "[encoded data removed]",
      "text/plain": [
       "plot without title"
      ]
     },
     "metadata": {
      "image/png": {
       "height": 420,
       "width": 420
      }
     },
     "output_type": "display_data"
    }
   ],
   "source": [
    "Cigarette.A.fit <- growth(Cigarette.A, data = Cigarette)\n",
    "semPaths(Cigarette.A.fit, whatLabels = \"std\", style = \"lisrel\", rotation = 2, nCharNodes = 0)"
   ]
  },
  {
   "cell_type": "markdown",
   "id": "4202001a",
   "metadata": {},
   "source": [
    "- 적합도 출력 : 대부분의 적합도 지수들이 우수"
   ]
  },
  {
   "cell_type": "code",
   "execution_count": 16,
   "id": "2ec253a8",
   "metadata": {},
   "outputs": [],
   "source": [
    "library(tidymodels)"
   ]
  },
  {
   "cell_type": "code",
   "execution_count": 17,
   "id": "a75a5c42",
   "metadata": {},
   "outputs": [
    {
     "name": "stderr",
     "output_type": "stream",
     "text": [
      "Warning message:\n",
      "\"'tidy.numeric' is deprecated.\n",
      "See help(\"Deprecated\")\"\n"
     ]
    },
    {
     "data": {
      "text/html": [
       "<table class=\"dataframe\">\n",
       "<caption>A tibble: 8 × 2</caption>\n",
       "<thead>\n",
       "\t<tr><th scope=col>names</th><th scope=col>x</th></tr>\n",
       "\t<tr><th scope=col>&lt;chr&gt;</th><th scope=col>&lt;lvn.vctr&gt;</th></tr>\n",
       "</thead>\n",
       "<tbody>\n",
       "\t<tr><td>chisq</td><td>7.50167781</td></tr>\n",
       "\t<tr><td>df   </td><td>5.00000000</td></tr>\n",
       "\t<tr><td>cfi  </td><td>0.99664948</td></tr>\n",
       "\t<tr><td>tli  </td><td>0.99597938</td></tr>\n",
       "\t<tr><td>rmsea</td><td>0.04083853</td></tr>\n",
       "\t<tr><td>srmr </td><td>0.03217576</td></tr>\n",
       "\t<tr><td>gfi  </td><td>0.99687882</td></tr>\n",
       "\t<tr><td>agfi </td><td>0.99126068</td></tr>\n",
       "</tbody>\n",
       "</table>\n"
      ],
      "text/latex": [
       "A tibble: 8 × 2\n",
       "\\begin{tabular}{ll}\n",
       " names & x\\\\\n",
       " <chr> & <lvn.vctr>\\\\\n",
       "\\hline\n",
       "\t chisq & 7.50167781\\\\\n",
       "\t df    & 5.00000000\\\\\n",
       "\t cfi   & 0.99664948\\\\\n",
       "\t tli   & 0.99597938\\\\\n",
       "\t rmsea & 0.04083853\\\\\n",
       "\t srmr  & 0.03217576\\\\\n",
       "\t gfi   & 0.99687882\\\\\n",
       "\t agfi  & 0.99126068\\\\\n",
       "\\end{tabular}\n"
      ],
      "text/markdown": [
       "\n",
       "A tibble: 8 × 2\n",
       "\n",
       "| names &lt;chr&gt; | x &lt;lvn.vctr&gt; |\n",
       "|---|---|\n",
       "| chisq | 7.50167781 |\n",
       "| df    | 5.00000000 |\n",
       "| cfi   | 0.99664948 |\n",
       "| tli   | 0.99597938 |\n",
       "| rmsea | 0.04083853 |\n",
       "| srmr  | 0.03217576 |\n",
       "| gfi   | 0.99687882 |\n",
       "| agfi  | 0.99126068 |\n",
       "\n"
      ],
      "text/plain": [
       "  names x         \n",
       "1 chisq 7.50167781\n",
       "2 df    5.00000000\n",
       "3 cfi   0.99664948\n",
       "4 tli   0.99597938\n",
       "5 rmsea 0.04083853\n",
       "6 srmr  0.03217576\n",
       "7 gfi   0.99687882\n",
       "8 agfi  0.99126068"
      ]
     },
     "metadata": {},
     "output_type": "display_data"
    }
   ],
   "source": [
    "tidy(fitMeasures(Cigarette.A.fit)) %>%\n",
    "    filter(names %in% c(\"chisq\", \"df\", \"gfi\", \"agfi\", \"cfi\", \"tli\", \"rmsea\", \"srmr\"))"
   ]
  },
  {
   "cell_type": "markdown",
   "id": "4a80917c",
   "metadata": {},
   "source": [
    "- 계수 추정치\n",
    "    - 첫 번째 시점에서 흡연수준의 평균은 1.942이고, 매 시점에서 0.167정도 흡연수준이 증가\n",
    "\n",
    "$$\\begin{cases}\n",
    "\\hat{\\mu_1} = 1.942 + 0 \\times 0.167 = 1.942\\\\\n",
    "\\hat{\\mu_2} = 1.942 + 1 \\times 0.167 = 2.109\\\\\n",
    "\\hat{\\mu_3} = 1.942 + 2 \\times 0.167 = 2.273\\\\\n",
    "\\hat{\\mu_4} = 1.942 + 3 \\times 0.167 = 2.443\\\\\n",
    "\\end{cases}$$"
   ]
  },
  {
   "cell_type": "code",
   "execution_count": 21,
   "id": "a223d8a4",
   "metadata": {},
   "outputs": [
    {
     "data": {
      "text/html": [
       "<table class=\"dataframe\">\n",
       "<caption>A data.frame: 8 × 4</caption>\n",
       "<thead>\n",
       "\t<tr><th scope=col>lhs</th><th scope=col>op</th><th scope=col>rhs</th><th scope=col>est</th></tr>\n",
       "\t<tr><th scope=col>&lt;chr&gt;</th><th scope=col>&lt;chr&gt;</th><th scope=col>&lt;chr&gt;</th><th scope=col>&lt;dbl&gt;</th></tr>\n",
       "</thead>\n",
       "<tbody>\n",
       "\t<tr><td>i</td><td>=~</td><td>Cigarette1</td><td>1</td></tr>\n",
       "\t<tr><td>i</td><td>=~</td><td>Cigarette2</td><td>1</td></tr>\n",
       "\t<tr><td>i</td><td>=~</td><td>Cigarette3</td><td>1</td></tr>\n",
       "\t<tr><td>i</td><td>=~</td><td>Cigarette4</td><td>1</td></tr>\n",
       "\t<tr><td>s</td><td>=~</td><td>Cigarette1</td><td>0</td></tr>\n",
       "\t<tr><td>s</td><td>=~</td><td>Cigarette2</td><td>1</td></tr>\n",
       "\t<tr><td>s</td><td>=~</td><td>Cigarette3</td><td>2</td></tr>\n",
       "\t<tr><td>s</td><td>=~</td><td>Cigarette4</td><td>3</td></tr>\n",
       "</tbody>\n",
       "</table>\n"
      ],
      "text/latex": [
       "A data.frame: 8 × 4\n",
       "\\begin{tabular}{llll}\n",
       " lhs & op & rhs & est\\\\\n",
       " <chr> & <chr> & <chr> & <dbl>\\\\\n",
       "\\hline\n",
       "\t i & =\\textasciitilde{} & Cigarette1 & 1\\\\\n",
       "\t i & =\\textasciitilde{} & Cigarette2 & 1\\\\\n",
       "\t i & =\\textasciitilde{} & Cigarette3 & 1\\\\\n",
       "\t i & =\\textasciitilde{} & Cigarette4 & 1\\\\\n",
       "\t s & =\\textasciitilde{} & Cigarette1 & 0\\\\\n",
       "\t s & =\\textasciitilde{} & Cigarette2 & 1\\\\\n",
       "\t s & =\\textasciitilde{} & Cigarette3 & 2\\\\\n",
       "\t s & =\\textasciitilde{} & Cigarette4 & 3\\\\\n",
       "\\end{tabular}\n"
      ],
      "text/markdown": [
       "\n",
       "A data.frame: 8 × 4\n",
       "\n",
       "| lhs &lt;chr&gt; | op &lt;chr&gt; | rhs &lt;chr&gt; | est &lt;dbl&gt; |\n",
       "|---|---|---|---|\n",
       "| i | =~ | Cigarette1 | 1 |\n",
       "| i | =~ | Cigarette2 | 1 |\n",
       "| i | =~ | Cigarette3 | 1 |\n",
       "| i | =~ | Cigarette4 | 1 |\n",
       "| s | =~ | Cigarette1 | 0 |\n",
       "| s | =~ | Cigarette2 | 1 |\n",
       "| s | =~ | Cigarette3 | 2 |\n",
       "| s | =~ | Cigarette4 | 3 |\n",
       "\n"
      ],
      "text/plain": [
       "  lhs op rhs        est\n",
       "1 i   =~ Cigarette1 1  \n",
       "2 i   =~ Cigarette2 1  \n",
       "3 i   =~ Cigarette3 1  \n",
       "4 i   =~ Cigarette4 1  \n",
       "5 s   =~ Cigarette1 0  \n",
       "6 s   =~ Cigarette2 1  \n",
       "7 s   =~ Cigarette3 2  \n",
       "8 s   =~ Cigarette4 3  "
      ]
     },
     "metadata": {},
     "output_type": "display_data"
    }
   ],
   "source": [
    "summary(Cigarette.A.fit, fit.measures = TRUE, rsquare = TRUE, standardized = TRUE)$pe %>%\n",
    "    filter(op == \"=~\") %>% select(lhs, op, rhs, est)"
   ]
  },
  {
   "cell_type": "markdown",
   "id": "ee75dc0a",
   "metadata": {},
   "source": [
    "- 또한 절편향 ICEPT와 기울기 SLOPE 사이의 공분산이 통계적으로 유의하며, 상관계수가 -0.276으로 추정\n",
    "    - 초기 시점의 평균이 크면 기울기가 작아지는 관계가 있음을 나타냄"
   ]
  },
  {
   "cell_type": "code",
   "execution_count": 25,
   "id": "d059cac6",
   "metadata": {},
   "outputs": [
    {
     "data": {
      "text/html": [
       "<table class=\"dataframe\">\n",
       "<caption>A data.frame: 1 × 6</caption>\n",
       "<thead>\n",
       "\t<tr><th scope=col>lhs</th><th scope=col>op</th><th scope=col>rhs</th><th scope=col>est</th><th scope=col>std.all</th><th scope=col>pvalue</th></tr>\n",
       "\t<tr><th scope=col>&lt;chr&gt;</th><th scope=col>&lt;chr&gt;</th><th scope=col>&lt;chr&gt;</th><th scope=col>&lt;dbl&gt;</th><th scope=col>&lt;dbl&gt;</th><th scope=col>&lt;dbl&gt;</th></tr>\n",
       "</thead>\n",
       "<tbody>\n",
       "\t<tr><td>i</td><td>~~</td><td>s</td><td>-0.06234184</td><td>-0.2755999</td><td>0.004768809</td></tr>\n",
       "</tbody>\n",
       "</table>\n"
      ],
      "text/latex": [
       "A data.frame: 1 × 6\n",
       "\\begin{tabular}{llllll}\n",
       " lhs & op & rhs & est & std.all & pvalue\\\\\n",
       " <chr> & <chr> & <chr> & <dbl> & <dbl> & <dbl>\\\\\n",
       "\\hline\n",
       "\t i & \\textasciitilde{}\\textasciitilde{} & s & -0.06234184 & -0.2755999 & 0.004768809\\\\\n",
       "\\end{tabular}\n"
      ],
      "text/markdown": [
       "\n",
       "A data.frame: 1 × 6\n",
       "\n",
       "| lhs &lt;chr&gt; | op &lt;chr&gt; | rhs &lt;chr&gt; | est &lt;dbl&gt; | std.all &lt;dbl&gt; | pvalue &lt;dbl&gt; |\n",
       "|---|---|---|---|---|---|\n",
       "| i | ~~ | s | -0.06234184 | -0.2755999 | 0.004768809 |\n",
       "\n"
      ],
      "text/plain": [
       "  lhs op rhs est         std.all    pvalue     \n",
       "1 i   ~~ s   -0.06234184 -0.2755999 0.004768809"
      ]
     },
     "metadata": {},
     "output_type": "display_data"
    }
   ],
   "source": [
    "summary(Cigarette.A.fit, fit.measures = TRUE, rsquare = TRUE, standardized = TRUE)$pe %>%\n",
    "    filter(op == \"~~\") %>% select(lhs, op, rhs, est, std.all, pvalue) %>% filter(lhs == \"i\", rhs == \"s\")"
   ]
  },
  {
   "cell_type": "markdown",
   "id": "8255ed3e",
   "metadata": {},
   "source": [
    "- 오차변수들의 분산이 모두 다르게 추정되어 있으며, 네 번째 시점의 오차 분산이 가장 큼"
   ]
  },
  {
   "cell_type": "code",
   "execution_count": 27,
   "id": "5d14e311",
   "metadata": {},
   "outputs": [
    {
     "data": {
      "text/html": [
       "<table class=\"dataframe\">\n",
       "<caption>A data.frame: 4 × 6</caption>\n",
       "<thead>\n",
       "\t<tr><th scope=col>lhs</th><th scope=col>op</th><th scope=col>rhs</th><th scope=col>est</th><th scope=col>std.all</th><th scope=col>pvalue</th></tr>\n",
       "\t<tr><th scope=col>&lt;chr&gt;</th><th scope=col>&lt;chr&gt;</th><th scope=col>&lt;chr&gt;</th><th scope=col>&lt;dbl&gt;</th><th scope=col>&lt;dbl&gt;</th><th scope=col>&lt;dbl&gt;</th></tr>\n",
       "</thead>\n",
       "<tbody>\n",
       "\t<tr><td>Cigarette1</td><td>~~</td><td>Cigarette1</td><td>0.04238704</td><td>0.05130151</td><td>2.132979e-01</td></tr>\n",
       "\t<tr><td>Cigarette2</td><td>~~</td><td>Cigarette2</td><td>0.30477879</td><td>0.29612588</td><td>0.000000e+00</td></tr>\n",
       "\t<tr><td>Cigarette3</td><td>~~</td><td>Cigarette3</td><td>0.27796969</td><td>0.25892256</td><td>0.000000e+00</td></tr>\n",
       "\t<tr><td>Cigarette4</td><td>~~</td><td>Cigarette4</td><td>0.42369981</td><td>0.29816979</td><td>3.198775e-12</td></tr>\n",
       "</tbody>\n",
       "</table>\n"
      ],
      "text/latex": [
       "A data.frame: 4 × 6\n",
       "\\begin{tabular}{llllll}\n",
       " lhs & op & rhs & est & std.all & pvalue\\\\\n",
       " <chr> & <chr> & <chr> & <dbl> & <dbl> & <dbl>\\\\\n",
       "\\hline\n",
       "\t Cigarette1 & \\textasciitilde{}\\textasciitilde{} & Cigarette1 & 0.04238704 & 0.05130151 & 2.132979e-01\\\\\n",
       "\t Cigarette2 & \\textasciitilde{}\\textasciitilde{} & Cigarette2 & 0.30477879 & 0.29612588 & 0.000000e+00\\\\\n",
       "\t Cigarette3 & \\textasciitilde{}\\textasciitilde{} & Cigarette3 & 0.27796969 & 0.25892256 & 0.000000e+00\\\\\n",
       "\t Cigarette4 & \\textasciitilde{}\\textasciitilde{} & Cigarette4 & 0.42369981 & 0.29816979 & 3.198775e-12\\\\\n",
       "\\end{tabular}\n"
      ],
      "text/markdown": [
       "\n",
       "A data.frame: 4 × 6\n",
       "\n",
       "| lhs &lt;chr&gt; | op &lt;chr&gt; | rhs &lt;chr&gt; | est &lt;dbl&gt; | std.all &lt;dbl&gt; | pvalue &lt;dbl&gt; |\n",
       "|---|---|---|---|---|---|\n",
       "| Cigarette1 | ~~ | Cigarette1 | 0.04238704 | 0.05130151 | 2.132979e-01 |\n",
       "| Cigarette2 | ~~ | Cigarette2 | 0.30477879 | 0.29612588 | 0.000000e+00 |\n",
       "| Cigarette3 | ~~ | Cigarette3 | 0.27796969 | 0.25892256 | 0.000000e+00 |\n",
       "| Cigarette4 | ~~ | Cigarette4 | 0.42369981 | 0.29816979 | 3.198775e-12 |\n",
       "\n"
      ],
      "text/plain": [
       "  lhs        op rhs        est        std.all    pvalue      \n",
       "1 Cigarette1 ~~ Cigarette1 0.04238704 0.05130151 2.132979e-01\n",
       "2 Cigarette2 ~~ Cigarette2 0.30477879 0.29612588 0.000000e+00\n",
       "3 Cigarette3 ~~ Cigarette3 0.27796969 0.25892256 0.000000e+00\n",
       "4 Cigarette4 ~~ Cigarette4 0.42369981 0.29816979 3.198775e-12"
      ]
     },
     "metadata": {},
     "output_type": "display_data"
    }
   ],
   "source": [
    "summary(Cigarette.A.fit, fit.measures = TRUE, rsquare = TRUE, standardized = TRUE)$pe %>%\n",
    "    filter(op == \"~~\") %>% select(lhs, op, rhs, est, std.all, pvalue) %>% filter(str_detect(lhs, \"Cigar\"))"
   ]
  },
  {
   "cell_type": "markdown",
   "id": "fb1f4ee4",
   "metadata": {},
   "source": [
    "<br>\n",
    "\n",
    "## 10.02. 공변량의 효과에 대한 분석"
   ]
  },
  {
   "cell_type": "code",
   "execution_count": 28,
   "id": "a6baf548",
   "metadata": {},
   "outputs": [],
   "source": [
    "Cigarette.B <- \"\n",
    "    # Intercept and Slope\n",
    "    i =~ 1 * Cigarette1 + 1 * Cigarette2 + 1 * Cigarette3 + 1 * Cigarette4\n",
    "    s =~ 0 * Cigarette1 + 1 * Cigarette2 + 2 * Cigarette3 + 3 * Cigarette4\n",
    "\n",
    "    # regression\n",
    "    i ~ Gender + Family\n",
    "    s ~ Gender + Family\n",
    "\""
   ]
  },
  {
   "cell_type": "code",
   "execution_count": 29,
   "id": "19c6ff43",
   "metadata": {},
   "outputs": [
    {
     "data": {
      "image/png": "[encoded data removed]",
      "text/plain": [
       "plot without title"
      ]
     },
     "metadata": {
      "image/png": {
       "height": 420,
       "width": 420
      }
     },
     "output_type": "display_data"
    }
   ],
   "source": [
    "Cigarette.B.fit <- growth(Cigarette.B, data = Cigarette)\n",
    "semPaths(Cigarette.B.fit, whatLabels = \"std\", style = \"lisrel\", rotation = 2, nCharNodes = 0)"
   ]
  },
  {
   "cell_type": "markdown",
   "id": "cc52c0bd",
   "metadata": {},
   "source": [
    "- 대부분의 적합도 지수들이 우수"
   ]
  },
  {
   "cell_type": "code",
   "execution_count": 30,
   "id": "53c7288d",
   "metadata": {},
   "outputs": [
    {
     "name": "stderr",
     "output_type": "stream",
     "text": [
      "Warning message:\n",
      "\"'tidy.numeric' is deprecated.\n",
      "See help(\"Deprecated\")\"\n"
     ]
    },
    {
     "data": {
      "text/html": [
       "<table class=\"dataframe\">\n",
       "<caption>A tibble: 8 × 2</caption>\n",
       "<thead>\n",
       "\t<tr><th scope=col>names</th><th scope=col>x</th></tr>\n",
       "\t<tr><th scope=col>&lt;chr&gt;</th><th scope=col>&lt;lvn.vctr&gt;</th></tr>\n",
       "</thead>\n",
       "<tbody>\n",
       "\t<tr><td>chisq</td><td>11.02212947</td></tr>\n",
       "\t<tr><td>df   </td><td> 9.00000000</td></tr>\n",
       "\t<tr><td>cfi  </td><td> 0.99732595</td></tr>\n",
       "\t<tr><td>tli  </td><td> 0.99584037</td></tr>\n",
       "\t<tr><td>rmsea</td><td> 0.02736671</td></tr>\n",
       "\t<tr><td>srmr </td><td> 0.02610877</td></tr>\n",
       "\t<tr><td>gfi  </td><td> 0.99547175</td></tr>\n",
       "\t<tr><td>agfi </td><td> 0.98641525</td></tr>\n",
       "</tbody>\n",
       "</table>\n"
      ],
      "text/latex": [
       "A tibble: 8 × 2\n",
       "\\begin{tabular}{ll}\n",
       " names & x\\\\\n",
       " <chr> & <lvn.vctr>\\\\\n",
       "\\hline\n",
       "\t chisq & 11.02212947\\\\\n",
       "\t df    &  9.00000000\\\\\n",
       "\t cfi   &  0.99732595\\\\\n",
       "\t tli   &  0.99584037\\\\\n",
       "\t rmsea &  0.02736671\\\\\n",
       "\t srmr  &  0.02610877\\\\\n",
       "\t gfi   &  0.99547175\\\\\n",
       "\t agfi  &  0.98641525\\\\\n",
       "\\end{tabular}\n"
      ],
      "text/markdown": [
       "\n",
       "A tibble: 8 × 2\n",
       "\n",
       "| names &lt;chr&gt; | x &lt;lvn.vctr&gt; |\n",
       "|---|---|\n",
       "| chisq | 11.02212947 |\n",
       "| df    |  9.00000000 |\n",
       "| cfi   |  0.99732595 |\n",
       "| tli   |  0.99584037 |\n",
       "| rmsea |  0.02736671 |\n",
       "| srmr  |  0.02610877 |\n",
       "| gfi   |  0.99547175 |\n",
       "| agfi  |  0.98641525 |\n",
       "\n"
      ],
      "text/plain": [
       "  names x          \n",
       "1 chisq 11.02212947\n",
       "2 df     9.00000000\n",
       "3 cfi    0.99732595\n",
       "4 tli    0.99584037\n",
       "5 rmsea  0.02736671\n",
       "6 srmr   0.02610877\n",
       "7 gfi    0.99547175\n",
       "8 agfi   0.98641525"
      ]
     },
     "metadata": {},
     "output_type": "display_data"
    }
   ],
   "source": [
    "tidy(fitMeasures(Cigarette.B.fit)) %>%\n",
    "    filter(names %in% c(\"chisq\", \"df\", \"gfi\", \"agfi\", \"cfi\", \"tli\", \"rmsea\", \"srmr\"))"
   ]
  },
  {
   "cell_type": "markdown",
   "id": "84ef4989",
   "metadata": {},
   "source": [
    "- 경로 'SLOPE $\\leftarrow$ Gender'에 대한 추정치는 통계적으로 유의\n",
    "- 경로 'ICEPT $\\leftarrow$ Gender'에 대한 추정치는 통계적으로 유의하지 않음\n",
    "\n",
    "#### $\\rightarrow$ 성별에 따른 흡연수준의 평균은 차이가 없으나, 시점이 지나면서 평균의 변화량은 성별에 따라 달라짐을 의미\n",
    "**즉, 여자의 경우 (Gender = 1)가 남자의 경우 (Gender = 0)에 비하여 기울기의 크기가 더 작다**\n",
    "\n",
    "<br>\n",
    "\n",
    "- 경로 'SLOPE $\\leftarrow$ Family'에 대한 추정치는 통계적으로 유의하지 않음\n",
    "\n",
    "**가족특성에 따른 초기 시점의 평균과 기울기의 변화에 모두 차이가 없음**"
   ]
  },
  {
   "cell_type": "code",
   "execution_count": 36,
   "id": "4bd5e283",
   "metadata": {},
   "outputs": [
    {
     "data": {
      "text/html": [
       "<table class=\"dataframe\">\n",
       "<caption>A data.frame: 4 × 6</caption>\n",
       "<thead>\n",
       "\t<tr><th scope=col>lhs</th><th scope=col>op</th><th scope=col>rhs</th><th scope=col>est</th><th scope=col>std.all</th><th scope=col>pvalue</th></tr>\n",
       "\t<tr><th scope=col>&lt;chr&gt;</th><th scope=col>&lt;chr&gt;</th><th scope=col>&lt;chr&gt;</th><th scope=col>&lt;dbl&gt;</th><th scope=col>&lt;dbl&gt;</th><th scope=col>&lt;dbl&gt;</th></tr>\n",
       "</thead>\n",
       "<tbody>\n",
       "\t<tr><td>i</td><td>~</td><td>Gender</td><td> 0.08477937</td><td> 0.04739435</td><td>0.422063634</td></tr>\n",
       "\t<tr><td>i</td><td>~</td><td>Family</td><td>-0.14557778</td><td>-0.08220645</td><td>0.163755117</td></tr>\n",
       "\t<tr><td>s</td><td>~</td><td>Gender</td><td>-0.10689904</td><td>-0.20741104</td><td>0.003088764</td></tr>\n",
       "\t<tr><td>s</td><td>~</td><td>Family</td><td>-0.04776792</td><td>-0.09362001</td><td>0.181709622</td></tr>\n",
       "</tbody>\n",
       "</table>\n"
      ],
      "text/latex": [
       "A data.frame: 4 × 6\n",
       "\\begin{tabular}{llllll}\n",
       " lhs & op & rhs & est & std.all & pvalue\\\\\n",
       " <chr> & <chr> & <chr> & <dbl> & <dbl> & <dbl>\\\\\n",
       "\\hline\n",
       "\t i & \\textasciitilde{} & Gender &  0.08477937 &  0.04739435 & 0.422063634\\\\\n",
       "\t i & \\textasciitilde{} & Family & -0.14557778 & -0.08220645 & 0.163755117\\\\\n",
       "\t s & \\textasciitilde{} & Gender & -0.10689904 & -0.20741104 & 0.003088764\\\\\n",
       "\t s & \\textasciitilde{} & Family & -0.04776792 & -0.09362001 & 0.181709622\\\\\n",
       "\\end{tabular}\n"
      ],
      "text/markdown": [
       "\n",
       "A data.frame: 4 × 6\n",
       "\n",
       "| lhs &lt;chr&gt; | op &lt;chr&gt; | rhs &lt;chr&gt; | est &lt;dbl&gt; | std.all &lt;dbl&gt; | pvalue &lt;dbl&gt; |\n",
       "|---|---|---|---|---|---|\n",
       "| i | ~ | Gender |  0.08477937 |  0.04739435 | 0.422063634 |\n",
       "| i | ~ | Family | -0.14557778 | -0.08220645 | 0.163755117 |\n",
       "| s | ~ | Gender | -0.10689904 | -0.20741104 | 0.003088764 |\n",
       "| s | ~ | Family | -0.04776792 | -0.09362001 | 0.181709622 |\n",
       "\n"
      ],
      "text/plain": [
       "  lhs op rhs    est         std.all     pvalue     \n",
       "1 i   ~  Gender  0.08477937  0.04739435 0.422063634\n",
       "2 i   ~  Family -0.14557778 -0.08220645 0.163755117\n",
       "3 s   ~  Gender -0.10689904 -0.20741104 0.003088764\n",
       "4 s   ~  Family -0.04776792 -0.09362001 0.181709622"
      ]
     },
     "metadata": {},
     "output_type": "display_data"
    }
   ],
   "source": [
    "summary(Cigarette.B.fit, fit.measures = TRUE, rsquare = TRUE, standardized = TRUE)$pe %>%\n",
    "    filter(op == \"~\") %>% select(lhs, op, rhs, est, std.all, pvalue)"
   ]
  }
 ],
 "metadata": {
  "kernelspec": {
   "display_name": "R",
   "language": "R",
   "name": "ir"
  },
  "language_info": {
   "codemirror_mode": "r",
   "file_extension": ".r",
   "mimetype": "text/x-r-source",
   "name": "R",
   "pygments_lexer": "r",
   "version": "4.2.2"
  }
 },
 "nbformat": 4,
 "nbformat_minor": 5
}
