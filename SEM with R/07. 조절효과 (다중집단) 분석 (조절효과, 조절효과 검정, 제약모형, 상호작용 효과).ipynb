{
 "cells": [
  {
   "cell_type": "markdown",
   "id": "2e5c5880",
   "metadata": {},
   "source": [
    "# 07. 조절효과 (다중집단) 분석\n",
    "- 여러집단에 대해서 변수들 간의 구조적 관계를 분석 $\\rightarrow$ A집단에서의 영향력의 정도가 B집단에서도 동일한지 분석\n",
    "\n",
    "    경로계수 및 인자구조의 동일성 여부 검정 필요\n",
    "    \n",
    "<br>\n",
    "\n",
    "## 07.01. 조절효과\n",
    "- **조절변수 : 변수들 사이의 인과관계에서 상황적으로 유의한 영향을 미치는 변수**\n",
    "    - 조절변수의 수준에 따라서 경로계수의 크기가 다를 때 조절효과(moderationg effect)가 존재\n",
    "- 조절변수는 이산형일 수도, 연속형일 수도 있음\n",
    "- **조절변수가 이산형일 때 $\\rightarrow$ 다중집단분석 (multiple group analysis)**\n",
    "    "
   ]
  },
  {
   "cell_type": "markdown",
   "id": "704595ad",
   "metadata": {},
   "source": [
    "<br>\n",
    "\n",
    "## 07.02. 회귀분석을 이용한 조절효과 검정\n",
    "\n",
    "<br>\n",
    "\n",
    "### 집단별 (다중집단 분석)\n",
    "\n",
    "$$\\begin{cases}\n",
    "Y = a_1 + b_1 X + \\epsilon\\;\\; if\\;Group = 1\\\\\n",
    "Y = a_2 + b_2 X + \\epsilon\\;\\; if\\;Group = 2\\\\\n",
    "\\end{cases}$$"
   ]
  },
  {
   "cell_type": "code",
   "execution_count": 6,
   "id": "e11aac3c",
   "metadata": {},
   "outputs": [],
   "source": [
    "library(lavaan)\n",
    "library(sem)\n",
    "library(semPlot)\n",
    "library(semptools)\n",
    "library(psych)\n",
    "library(tidyverse)"
   ]
  },
  {
   "cell_type": "code",
   "execution_count": 7,
   "id": "6e85e07f",
   "metadata": {},
   "outputs": [
    {
     "name": "stderr",
     "output_type": "stream",
     "text": [
      "Warning message:\n",
      "\"'sem' namespace cannot be unloaded:\n",
      "  namespace 'sem' is imported by 'semPlot' so cannot be unloaded\"\n"
     ]
    }
   ],
   "source": [
    "detach(\"package:sem\",unload=TRUE)"
   ]
  },
  {
   "cell_type": "code",
   "execution_count": 8,
   "id": "8647ed1f",
   "metadata": {},
   "outputs": [
    {
     "data": {
      "text/html": [
       "<table class=\"dataframe\">\n",
       "<caption>A data.frame: 6 × 3</caption>\n",
       "<thead>\n",
       "\t<tr><th></th><th scope=col>Group</th><th scope=col>X</th><th scope=col>Y</th></tr>\n",
       "\t<tr><th></th><th scope=col>&lt;int&gt;</th><th scope=col>&lt;dbl&gt;</th><th scope=col>&lt;dbl&gt;</th></tr>\n",
       "</thead>\n",
       "<tbody>\n",
       "\t<tr><th scope=row>1</th><td>1</td><td>88.88889</td><td>88.88889</td></tr>\n",
       "\t<tr><th scope=row>2</th><td>1</td><td>96.29630</td><td>94.44444</td></tr>\n",
       "\t<tr><th scope=row>3</th><td>1</td><td>77.77778</td><td>83.33333</td></tr>\n",
       "\t<tr><th scope=row>4</th><td>1</td><td>70.37037</td><td>66.66667</td></tr>\n",
       "\t<tr><th scope=row>5</th><td>1</td><td>77.77778</td><td>83.33333</td></tr>\n",
       "\t<tr><th scope=row>6</th><td>1</td><td>85.18519</td><td>77.77778</td></tr>\n",
       "</tbody>\n",
       "</table>\n"
      ],
      "text/latex": [
       "A data.frame: 6 × 3\n",
       "\\begin{tabular}{r|lll}\n",
       "  & Group & X & Y\\\\\n",
       "  & <int> & <dbl> & <dbl>\\\\\n",
       "\\hline\n",
       "\t1 & 1 & 88.88889 & 88.88889\\\\\n",
       "\t2 & 1 & 96.29630 & 94.44444\\\\\n",
       "\t3 & 1 & 77.77778 & 83.33333\\\\\n",
       "\t4 & 1 & 70.37037 & 66.66667\\\\\n",
       "\t5 & 1 & 77.77778 & 83.33333\\\\\n",
       "\t6 & 1 & 85.18519 & 77.77778\\\\\n",
       "\\end{tabular}\n"
      ],
      "text/markdown": [
       "\n",
       "A data.frame: 6 × 3\n",
       "\n",
       "| <!--/--> | Group &lt;int&gt; | X &lt;dbl&gt; | Y &lt;dbl&gt; |\n",
       "|---|---|---|---|\n",
       "| 1 | 1 | 88.88889 | 88.88889 |\n",
       "| 2 | 1 | 96.29630 | 94.44444 |\n",
       "| 3 | 1 | 77.77778 | 83.33333 |\n",
       "| 4 | 1 | 70.37037 | 66.66667 |\n",
       "| 5 | 1 | 77.77778 | 83.33333 |\n",
       "| 6 | 1 | 85.18519 | 77.77778 |\n",
       "\n"
      ],
      "text/plain": [
       "  Group X        Y       \n",
       "1 1     88.88889 88.88889\n",
       "2 1     96.29630 94.44444\n",
       "3 1     77.77778 83.33333\n",
       "4 1     70.37037 66.66667\n",
       "5 1     77.77778 83.33333\n",
       "6 1     85.18519 77.77778"
      ]
     },
     "metadata": {},
     "output_type": "display_data"
    }
   ],
   "source": [
    "Moderator <- read.csv(paste0(getwd(), \"/Data/Moderator.csv\"), header = TRUE)\n",
    "Moderator %>% head"
   ]
  },
  {
   "cell_type": "code",
   "execution_count": 14,
   "id": "57071507",
   "metadata": {},
   "outputs": [],
   "source": [
    "library(lm.beta)\n",
    "library(tidymodels)"
   ]
  },
  {
   "cell_type": "code",
   "execution_count": 16,
   "id": "f9ff98dc",
   "metadata": {},
   "outputs": [
    {
     "data": {
      "text/html": [
       "<table class=\"dataframe\">\n",
       "<caption>A tibble: 2 × 6</caption>\n",
       "<thead>\n",
       "\t<tr><th scope=col>term</th><th scope=col>estimate</th><th scope=col>std_estimate</th><th scope=col>std.error</th><th scope=col>statistic</th><th scope=col>p.value</th></tr>\n",
       "\t<tr><th scope=col>&lt;chr&gt;</th><th scope=col>&lt;dbl&gt;</th><th scope=col>&lt;dbl&gt;</th><th scope=col>&lt;dbl&gt;</th><th scope=col>&lt;dbl&gt;</th><th scope=col>&lt;dbl&gt;</th></tr>\n",
       "</thead>\n",
       "<tbody>\n",
       "\t<tr><td>(Intercept)</td><td>35.3591240</td><td>       NA</td><td>2.55918410</td><td>13.81656</td><td>6.979145e-38</td></tr>\n",
       "\t<tr><td>X          </td><td> 0.4990429</td><td>0.5238457</td><td>0.03318396</td><td>15.03868</td><td>1.374755e-43</td></tr>\n",
       "</tbody>\n",
       "</table>\n"
      ],
      "text/latex": [
       "A tibble: 2 × 6\n",
       "\\begin{tabular}{llllll}\n",
       " term & estimate & std\\_estimate & std.error & statistic & p.value\\\\\n",
       " <chr> & <dbl> & <dbl> & <dbl> & <dbl> & <dbl>\\\\\n",
       "\\hline\n",
       "\t (Intercept) & 35.3591240 &        NA & 2.55918410 & 13.81656 & 6.979145e-38\\\\\n",
       "\t X           &  0.4990429 & 0.5238457 & 0.03318396 & 15.03868 & 1.374755e-43\\\\\n",
       "\\end{tabular}\n"
      ],
      "text/markdown": [
       "\n",
       "A tibble: 2 × 6\n",
       "\n",
       "| term &lt;chr&gt; | estimate &lt;dbl&gt; | std_estimate &lt;dbl&gt; | std.error &lt;dbl&gt; | statistic &lt;dbl&gt; | p.value &lt;dbl&gt; |\n",
       "|---|---|---|---|---|---|\n",
       "| (Intercept) | 35.3591240 |        NA | 2.55918410 | 13.81656 | 6.979145e-38 |\n",
       "| X           |  0.4990429 | 0.5238457 | 0.03318396 | 15.03868 | 1.374755e-43 |\n",
       "\n"
      ],
      "text/plain": [
       "  term        estimate   std_estimate std.error  statistic p.value     \n",
       "1 (Intercept) 35.3591240        NA    2.55918410 13.81656  6.979145e-38\n",
       "2 X            0.4990429 0.5238457    0.03318396 15.03868  1.374755e-43"
      ]
     },
     "metadata": {},
     "output_type": "display_data"
    }
   ],
   "source": [
    "Moderator.1.fit <- lm(Y ~ X, data = filter(Moderator, Group == 1))\n",
    "Moderator.1.beta <- lm.beta(Moderator.1.fit)\n",
    "tidy(Moderator.1.beta)"
   ]
  },
  {
   "cell_type": "code",
   "execution_count": 17,
   "id": "94d1539e",
   "metadata": {},
   "outputs": [
    {
     "data": {
      "text/html": [
       "<table class=\"dataframe\">\n",
       "<caption>A tibble: 2 × 6</caption>\n",
       "<thead>\n",
       "\t<tr><th scope=col>term</th><th scope=col>estimate</th><th scope=col>std_estimate</th><th scope=col>std.error</th><th scope=col>statistic</th><th scope=col>p.value</th></tr>\n",
       "\t<tr><th scope=col>&lt;chr&gt;</th><th scope=col>&lt;dbl&gt;</th><th scope=col>&lt;dbl&gt;</th><th scope=col>&lt;dbl&gt;</th><th scope=col>&lt;dbl&gt;</th><th scope=col>&lt;dbl&gt;</th></tr>\n",
       "</thead>\n",
       "<tbody>\n",
       "\t<tr><td>(Intercept)</td><td>16.0621218</td><td>       NA</td><td>3.73190504</td><td> 4.304001</td><td>2.278014e-05</td></tr>\n",
       "\t<tr><td>X          </td><td> 0.6952368</td><td>0.6439261</td><td>0.04785196</td><td>14.528908</td><td>1.583249e-36</td></tr>\n",
       "</tbody>\n",
       "</table>\n"
      ],
      "text/latex": [
       "A tibble: 2 × 6\n",
       "\\begin{tabular}{llllll}\n",
       " term & estimate & std\\_estimate & std.error & statistic & p.value\\\\\n",
       " <chr> & <dbl> & <dbl> & <dbl> & <dbl> & <dbl>\\\\\n",
       "\\hline\n",
       "\t (Intercept) & 16.0621218 &        NA & 3.73190504 &  4.304001 & 2.278014e-05\\\\\n",
       "\t X           &  0.6952368 & 0.6439261 & 0.04785196 & 14.528908 & 1.583249e-36\\\\\n",
       "\\end{tabular}\n"
      ],
      "text/markdown": [
       "\n",
       "A tibble: 2 × 6\n",
       "\n",
       "| term &lt;chr&gt; | estimate &lt;dbl&gt; | std_estimate &lt;dbl&gt; | std.error &lt;dbl&gt; | statistic &lt;dbl&gt; | p.value &lt;dbl&gt; |\n",
       "|---|---|---|---|---|---|\n",
       "| (Intercept) | 16.0621218 |        NA | 3.73190504 |  4.304001 | 2.278014e-05 |\n",
       "| X           |  0.6952368 | 0.6439261 | 0.04785196 | 14.528908 | 1.583249e-36 |\n",
       "\n"
      ],
      "text/plain": [
       "  term        estimate   std_estimate std.error  statistic p.value     \n",
       "1 (Intercept) 16.0621218        NA    3.73190504  4.304001 2.278014e-05\n",
       "2 X            0.6952368 0.6439261    0.04785196 14.528908 1.583249e-36"
      ]
     },
     "metadata": {},
     "output_type": "display_data"
    }
   ],
   "source": [
    "Moderator.2.fit <- lm(Y ~ X, data = filter(Moderator, Group == 2))\n",
    "Moderator.2.beta <- lm.beta(Moderator.2.fit)\n",
    "tidy(Moderator.2.beta)"
   ]
  },
  {
   "cell_type": "markdown",
   "id": "1017dcb9",
   "metadata": {},
   "source": [
    "* Group이 1일 때 $\\hat{b} = 0.499$, 2일 때 $\\hat{b}=0.685$\n",
    "- 가설 $H_0 = b_1 = b_2$가 기각되면 조정효과가 존재하며, 이에 대한 검정은 z-통계량을 이용\n",
    "\n",
    "$$z_b = {{\\hat{b_1} - \\hat{b_2}}\\over{\\sqrt{SE^2_{\\hat{b}_1}+SE^2_{\\hat{b}_2}}}}$$"
   ]
  },
  {
   "cell_type": "markdown",
   "id": "25bf2d38",
   "metadata": {},
   "source": [
    "- 검정결과, z-통계량이 통계적으로 유의 $\\rightarrow$ 집단 2에서 강도가 집단 1에서의 강도가 더 큼"
   ]
  },
  {
   "cell_type": "code",
   "execution_count": 18,
   "id": "ecc561d0",
   "metadata": {},
   "outputs": [
    {
     "data": {
      "text/html": [
       "-3.31774770842111"
      ],
      "text/latex": [
       "-3.31774770842111"
      ],
      "text/markdown": [
       "-3.31774770842111"
      ],
      "text/plain": [
       "[1] -3.317748"
      ]
     },
     "metadata": {},
     "output_type": "display_data"
    }
   ],
   "source": [
    "b1 <- 0.499; b2 <- 0.695;\n",
    "SE_b1 <- 0.033; SE_b2 <- 0.049\n",
    "\n",
    "z_value <- (b1 - b2) / (sqrt(SE_b1^2 + SE_b2^2))\n",
    "z_value"
   ]
  },
  {
   "cell_type": "code",
   "execution_count": 21,
   "id": "b9caf5e4",
   "metadata": {
    "scrolled": true
   },
   "outputs": [
    {
     "data": {
      "text/html": [
       "0.000907464108270029"
      ],
      "text/latex": [
       "0.000907464108270029"
      ],
      "text/markdown": [
       "0.000907464108270029"
      ],
      "text/plain": [
       "[1] 0.0009074641"
      ]
     },
     "metadata": {},
     "output_type": "display_data"
    }
   ],
   "source": [
    "p_value <- 2 * (1 - pnorm(abs(z_value)))\n",
    "p_value"
   ]
  },
  {
   "cell_type": "markdown",
   "id": "73217e7b",
   "metadata": {},
   "source": [
    "<br>\n",
    "\n",
    "### 가변수를 이용하는 방법\n",
    "\n",
    "$$Z=\\begin{cases}\n",
    "1,\\;\\;if\\;Group=1,\\\\\n",
    "2,\\;\\;if\\;Group=2\\\\\n",
    "\\end{cases}$$\n",
    "\n",
    "<br>\n",
    "\n",
    "$$Y = a + b X + c Z + d XZ + \\epsilon$$\n",
    "\n",
    "<br>\n",
    "\n",
    "- $a = a_2, b = b_2, c = a_1 - a_2, d = b_1 - b_2$의 관계가 성립\n",
    "    - 가설 $H_0:b_1 = b_2$에 대한 검정은 가설 $H_0:d=0$을 검정하는 것과 동일"
   ]
  },
  {
   "cell_type": "markdown",
   "id": "3485f90a",
   "metadata": {},
   "source": [
    "<br>\n",
    "\n",
    "- 가변수 Z 생성"
   ]
  },
  {
   "cell_type": "code",
   "execution_count": 22,
   "id": "bc8add20",
   "metadata": {},
   "outputs": [],
   "source": [
    "# Dummy Variable\n",
    "Moderator <- Moderator %>% mutate(Z = ifelse(Group == 1, 1, 0))"
   ]
  },
  {
   "cell_type": "markdown",
   "id": "cd4ea373",
   "metadata": {},
   "source": [
    "- 설명변수 X와 가변수 Z를 곱하여 상호작용 변수 생성"
   ]
  },
  {
   "cell_type": "code",
   "execution_count": null,
   "id": "cf1f7102",
   "metadata": {},
   "outputs": [],
   "source": [
    "# Interaction Variable\n",
    "Moderator <- Moderator %>% mutate(X_Z = X * Z)"
   ]
  },
  {
   "cell_type": "markdown",
   "id": "54fa2434",
   "metadata": {},
   "source": [
    "- 상호작용 효과의 추정치는 통계적으로 유의 $\\rightarrow$ X와 Y 사이의 인과관계에 있어서 Group에 의한 조절효과가 존재"
   ]
  },
  {
   "cell_type": "code",
   "execution_count": 23,
   "id": "9cc3a302",
   "metadata": {},
   "outputs": [
    {
     "data": {
      "text/html": [
       "<table class=\"dataframe\">\n",
       "<caption>A tibble: 4 × 6</caption>\n",
       "<thead>\n",
       "\t<tr><th scope=col>term</th><th scope=col>estimate</th><th scope=col>std_estimate</th><th scope=col>std.error</th><th scope=col>statistic</th><th scope=col>p.value</th></tr>\n",
       "\t<tr><th scope=col>&lt;chr&gt;</th><th scope=col>&lt;dbl&gt;</th><th scope=col>&lt;dbl&gt;</th><th scope=col>&lt;dbl&gt;</th><th scope=col>&lt;dbl&gt;</th><th scope=col>&lt;dbl&gt;</th></tr>\n",
       "</thead>\n",
       "<tbody>\n",
       "\t<tr><td>(Intercept)</td><td>16.0621218</td><td>        NA</td><td>3.95643291</td><td> 4.059748</td><td>5.341999e-05</td></tr>\n",
       "\t<tr><td>X          </td><td> 0.6952368</td><td> 0.6979180</td><td>0.05073095</td><td>13.704392</td><td>6.010593e-39</td></tr>\n",
       "\t<tr><td>Z          </td><td>19.2970022</td><td> 0.5681345</td><td>4.67563986</td><td> 4.127136</td><td>4.015659e-05</td></tr>\n",
       "\t<tr><td>X_Z        </td><td>-0.1961939</td><td>-0.4656384</td><td>0.06014517</td><td>-3.262007</td><td>1.148069e-03</td></tr>\n",
       "</tbody>\n",
       "</table>\n"
      ],
      "text/latex": [
       "A tibble: 4 × 6\n",
       "\\begin{tabular}{llllll}\n",
       " term & estimate & std\\_estimate & std.error & statistic & p.value\\\\\n",
       " <chr> & <dbl> & <dbl> & <dbl> & <dbl> & <dbl>\\\\\n",
       "\\hline\n",
       "\t (Intercept) & 16.0621218 &         NA & 3.95643291 &  4.059748 & 5.341999e-05\\\\\n",
       "\t X           &  0.6952368 &  0.6979180 & 0.05073095 & 13.704392 & 6.010593e-39\\\\\n",
       "\t Z           & 19.2970022 &  0.5681345 & 4.67563986 &  4.127136 & 4.015659e-05\\\\\n",
       "\t X\\_Z         & -0.1961939 & -0.4656384 & 0.06014517 & -3.262007 & 1.148069e-03\\\\\n",
       "\\end{tabular}\n"
      ],
      "text/markdown": [
       "\n",
       "A tibble: 4 × 6\n",
       "\n",
       "| term &lt;chr&gt; | estimate &lt;dbl&gt; | std_estimate &lt;dbl&gt; | std.error &lt;dbl&gt; | statistic &lt;dbl&gt; | p.value &lt;dbl&gt; |\n",
       "|---|---|---|---|---|---|\n",
       "| (Intercept) | 16.0621218 |         NA | 3.95643291 |  4.059748 | 5.341999e-05 |\n",
       "| X           |  0.6952368 |  0.6979180 | 0.05073095 | 13.704392 | 6.010593e-39 |\n",
       "| Z           | 19.2970022 |  0.5681345 | 4.67563986 |  4.127136 | 4.015659e-05 |\n",
       "| X_Z         | -0.1961939 | -0.4656384 | 0.06014517 | -3.262007 | 1.148069e-03 |\n",
       "\n"
      ],
      "text/plain": [
       "  term        estimate   std_estimate std.error  statistic p.value     \n",
       "1 (Intercept) 16.0621218         NA   3.95643291  4.059748 5.341999e-05\n",
       "2 X            0.6952368  0.6979180   0.05073095 13.704392 6.010593e-39\n",
       "3 Z           19.2970022  0.5681345   4.67563986  4.127136 4.015659e-05\n",
       "4 X_Z         -0.1961939 -0.4656384   0.06014517 -3.262007 1.148069e-03"
      ]
     },
     "metadata": {},
     "output_type": "display_data"
    }
   ],
   "source": [
    "Moderator.fit <- lm(Y ~ X + Z + X_Z, Moderator)\n",
    "Moderator.beta <- lm.beta(Moderator.fit)\n",
    "tidy(Moderator.beta)"
   ]
  },
  {
   "cell_type": "markdown",
   "id": "bc094236",
   "metadata": {},
   "source": [
    "<br>\n",
    "\n",
    "## 07.03. 잠재변수가 없는 모형"
   ]
  },
  {
   "cell_type": "markdown",
   "id": "3e4ab774",
   "metadata": {},
   "source": [
    "<br>\n",
    "\n",
    "### 기본모형에 대한 적합도 평가\n",
    "\n",
    "<br>\n",
    "\n",
    "#### `sem()`의 `group`변수에 조절변수 (Group)을 입력"
   ]
  },
  {
   "cell_type": "code",
   "execution_count": 50,
   "id": "efd9043d",
   "metadata": {},
   "outputs": [
    {
     "data": {
      "text/html": [
       "<table class=\"dataframe\">\n",
       "<caption>A data.frame: 6 × 7</caption>\n",
       "<thead>\n",
       "\t<tr><th></th><th scope=col>Group</th><th scope=col>Expect</th><th scope=col>Quality</th><th scope=col>Value</th><th scope=col>Satisfact</th><th scope=col>Complaint</th><th scope=col>Loyalty</th></tr>\n",
       "\t<tr><th></th><th scope=col>&lt;int&gt;</th><th scope=col>&lt;dbl&gt;</th><th scope=col>&lt;dbl&gt;</th><th scope=col>&lt;dbl&gt;</th><th scope=col>&lt;dbl&gt;</th><th scope=col>&lt;int&gt;</th><th scope=col>&lt;dbl&gt;</th></tr>\n",
       "</thead>\n",
       "<tbody>\n",
       "\t<tr><th scope=row>1</th><td>1</td><td>85.18519</td><td>88.88889</td><td>88.88889</td><td> 96.29630</td><td>0</td><td>77.77778</td></tr>\n",
       "\t<tr><th scope=row>2</th><td>1</td><td>92.59259</td><td>96.29630</td><td>94.44444</td><td>100.00000</td><td>0</td><td>44.44444</td></tr>\n",
       "\t<tr><th scope=row>3</th><td>1</td><td>77.77778</td><td>77.77778</td><td>83.33333</td><td> 70.37037</td><td>0</td><td>77.77778</td></tr>\n",
       "\t<tr><th scope=row>4</th><td>1</td><td>70.37037</td><td>70.37037</td><td>66.66667</td><td> 70.37037</td><td>0</td><td>44.44444</td></tr>\n",
       "\t<tr><th scope=row>5</th><td>1</td><td>77.77778</td><td>77.77778</td><td>83.33333</td><td> 81.48148</td><td>0</td><td>66.66667</td></tr>\n",
       "\t<tr><th scope=row>6</th><td>1</td><td>81.48148</td><td>85.18519</td><td>77.77778</td><td> 77.77778</td><td>0</td><td>77.77778</td></tr>\n",
       "</tbody>\n",
       "</table>\n"
      ],
      "text/latex": [
       "A data.frame: 6 × 7\n",
       "\\begin{tabular}{r|lllllll}\n",
       "  & Group & Expect & Quality & Value & Satisfact & Complaint & Loyalty\\\\\n",
       "  & <int> & <dbl> & <dbl> & <dbl> & <dbl> & <int> & <dbl>\\\\\n",
       "\\hline\n",
       "\t1 & 1 & 85.18519 & 88.88889 & 88.88889 &  96.29630 & 0 & 77.77778\\\\\n",
       "\t2 & 1 & 92.59259 & 96.29630 & 94.44444 & 100.00000 & 0 & 44.44444\\\\\n",
       "\t3 & 1 & 77.77778 & 77.77778 & 83.33333 &  70.37037 & 0 & 77.77778\\\\\n",
       "\t4 & 1 & 70.37037 & 70.37037 & 66.66667 &  70.37037 & 0 & 44.44444\\\\\n",
       "\t5 & 1 & 77.77778 & 77.77778 & 83.33333 &  81.48148 & 0 & 66.66667\\\\\n",
       "\t6 & 1 & 81.48148 & 85.18519 & 77.77778 &  77.77778 & 0 & 77.77778\\\\\n",
       "\\end{tabular}\n"
      ],
      "text/markdown": [
       "\n",
       "A data.frame: 6 × 7\n",
       "\n",
       "| <!--/--> | Group &lt;int&gt; | Expect &lt;dbl&gt; | Quality &lt;dbl&gt; | Value &lt;dbl&gt; | Satisfact &lt;dbl&gt; | Complaint &lt;int&gt; | Loyalty &lt;dbl&gt; |\n",
       "|---|---|---|---|---|---|---|---|\n",
       "| 1 | 1 | 85.18519 | 88.88889 | 88.88889 |  96.29630 | 0 | 77.77778 |\n",
       "| 2 | 1 | 92.59259 | 96.29630 | 94.44444 | 100.00000 | 0 | 44.44444 |\n",
       "| 3 | 1 | 77.77778 | 77.77778 | 83.33333 |  70.37037 | 0 | 77.77778 |\n",
       "| 4 | 1 | 70.37037 | 70.37037 | 66.66667 |  70.37037 | 0 | 44.44444 |\n",
       "| 5 | 1 | 77.77778 | 77.77778 | 83.33333 |  81.48148 | 0 | 66.66667 |\n",
       "| 6 | 1 | 81.48148 | 85.18519 | 77.77778 |  77.77778 | 0 | 77.77778 |\n",
       "\n"
      ],
      "text/plain": [
       "  Group Expect   Quality  Value    Satisfact Complaint Loyalty \n",
       "1 1     85.18519 88.88889 88.88889  96.29630 0         77.77778\n",
       "2 1     92.59259 96.29630 94.44444 100.00000 0         44.44444\n",
       "3 1     77.77778 77.77778 83.33333  70.37037 0         77.77778\n",
       "4 1     70.37037 70.37037 66.66667  70.37037 0         44.44444\n",
       "5 1     77.77778 77.77778 83.33333  81.48148 0         66.66667\n",
       "6 1     81.48148 85.18519 77.77778  77.77778 0         77.77778"
      ]
     },
     "metadata": {},
     "output_type": "display_data"
    }
   ],
   "source": [
    "Customer <- read.csv(paste0(getwd(), \"/Data/Customer.csv\"), header = TRUE)\n",
    "Customer %>% head"
   ]
  },
  {
   "cell_type": "code",
   "execution_count": 51,
   "id": "ceda3006",
   "metadata": {},
   "outputs": [],
   "source": [
    "Customer.A <- \"\n",
    "    # regression\n",
    "    Quality ~ Expect\n",
    "    Value ~ Expect + Quality\n",
    "    Satisfact ~ Expect + Quality + Value\n",
    "    Loyalty ~ Expect + Quality + Satisfact\n",
    "\""
   ]
  },
  {
   "cell_type": "code",
   "execution_count": 52,
   "id": "f0dcb00f",
   "metadata": {},
   "outputs": [
    {
     "data": {
      "image/png": "[encoded data removed]",
      "text/plain": [
       "Plot with title \"1\""
      ]
     },
     "metadata": {
      "image/png": {
       "height": 420,
       "width": 420
      }
     },
     "output_type": "display_data"
    },
    {
     "data": {
      "image/png": "[encoded data removed]",
      "text/plain": [
       "Plot with title \"2\""
      ]
     },
     "metadata": {
      "image/png": {
       "height": 420,
       "width": 420
      }
     },
     "output_type": "display_data"
    }
   ],
   "source": [
    "Cus_Multi.A.fit <- sem(Customer.A, Customer, group = \"Group\")\n",
    "semPaths(Cus_Multi.A.fit, whatLabels = \"std\", style = \"lisrel\", rotation = 2)"
   ]
  },
  {
   "cell_type": "markdown",
   "id": "ea9125c0",
   "metadata": {},
   "source": [
    "- 적합도가 우수한 수준"
   ]
  },
  {
   "cell_type": "code",
   "execution_count": 53,
   "id": "2bd428aa",
   "metadata": {},
   "outputs": [
    {
     "name": "stderr",
     "output_type": "stream",
     "text": [
      "Warning message:\n",
      "\"'tidy.numeric' is deprecated.\n",
      "See help(\"Deprecated\")\"\n"
     ]
    },
    {
     "data": {
      "text/html": [
       "<table class=\"dataframe\">\n",
       "<caption>A tibble: 8 × 2</caption>\n",
       "<thead>\n",
       "\t<tr><th scope=col>names</th><th scope=col>x</th></tr>\n",
       "\t<tr><th scope=col>&lt;chr&gt;</th><th scope=col>&lt;lvn.vctr&gt;</th></tr>\n",
       "</thead>\n",
       "<tbody>\n",
       "\t<tr><td>chisq</td><td>3.557511303</td></tr>\n",
       "\t<tr><td>df   </td><td>2.000000000</td></tr>\n",
       "\t<tr><td>cfi  </td><td>0.999234594</td></tr>\n",
       "\t<tr><td>tli  </td><td>0.992345938</td></tr>\n",
       "\t<tr><td>rmsea</td><td>0.041600098</td></tr>\n",
       "\t<tr><td>srmr </td><td>0.007954207</td></tr>\n",
       "\t<tr><td>gfi  </td><td>0.999896477</td></tr>\n",
       "\t<tr><td>agfi </td><td>0.997929549</td></tr>\n",
       "</tbody>\n",
       "</table>\n"
      ],
      "text/latex": [
       "A tibble: 8 × 2\n",
       "\\begin{tabular}{ll}\n",
       " names & x\\\\\n",
       " <chr> & <lvn.vctr>\\\\\n",
       "\\hline\n",
       "\t chisq & 3.557511303\\\\\n",
       "\t df    & 2.000000000\\\\\n",
       "\t cfi   & 0.999234594\\\\\n",
       "\t tli   & 0.992345938\\\\\n",
       "\t rmsea & 0.041600098\\\\\n",
       "\t srmr  & 0.007954207\\\\\n",
       "\t gfi   & 0.999896477\\\\\n",
       "\t agfi  & 0.997929549\\\\\n",
       "\\end{tabular}\n"
      ],
      "text/markdown": [
       "\n",
       "A tibble: 8 × 2\n",
       "\n",
       "| names &lt;chr&gt; | x &lt;lvn.vctr&gt; |\n",
       "|---|---|\n",
       "| chisq | 3.557511303 |\n",
       "| df    | 2.000000000 |\n",
       "| cfi   | 0.999234594 |\n",
       "| tli   | 0.992345938 |\n",
       "| rmsea | 0.041600098 |\n",
       "| srmr  | 0.007954207 |\n",
       "| gfi   | 0.999896477 |\n",
       "| agfi  | 0.997929549 |\n",
       "\n"
      ],
      "text/plain": [
       "  names x          \n",
       "1 chisq 3.557511303\n",
       "2 df    2.000000000\n",
       "3 cfi   0.999234594\n",
       "4 tli   0.992345938\n",
       "5 rmsea 0.041600098\n",
       "6 srmr  0.007954207\n",
       "7 gfi   0.999896477\n",
       "8 agfi  0.997929549"
      ]
     },
     "metadata": {},
     "output_type": "display_data"
    }
   ],
   "source": [
    "tidy(fitMeasures(Cus_Multi.A.fit)) %>%\n",
    "    filter(names %in% c(\"chisq\", \"df\", \"gfi\", \"agfi\", \"cfi\", \"tli\", \"rmsea\", \"srmr\"))"
   ]
  },
  {
   "cell_type": "markdown",
   "id": "900756ee",
   "metadata": {},
   "source": [
    "- 계수 추정치 출력"
   ]
  },
  {
   "cell_type": "code",
   "execution_count": 54,
   "id": "a808c6c8",
   "metadata": {},
   "outputs": [],
   "source": [
    "# summary(Cus_Multi.A.fit, fit.measure = T, rsquare = T, standardized = T)$pe "
   ]
  },
  {
   "cell_type": "markdown",
   "id": "324ed68e",
   "metadata": {},
   "source": [
    "<br>\n",
    "\n",
    "### 구조계수 제약모형에 대한 적합도 평가\n",
    "- **비제약모형 : 집단별 경로계수 및 공분산에 대하여 어떤 동일성 가정도 하지 않은 모형**\n",
    "- **제약모형 : 일부 경로계수 또는 공분산에 대하여 동일성 가정**"
   ]
  },
  {
   "cell_type": "markdown",
   "id": "fa85b38a",
   "metadata": {},
   "source": [
    "<br>\n",
    "\n",
    "#### 집단 간 회귀계수들이 모두 동일하다는 제약모형 $\\rightarrow$ `sem()`의 `group.equal`에 `c(\"regressions\")`를 입력"
   ]
  },
  {
   "cell_type": "code",
   "execution_count": 55,
   "id": "90bfd253",
   "metadata": {},
   "outputs": [],
   "source": [
    "Cus_Multi.B.fit <- sem(Customer.A, Customer, group = \"Group\", group.equal = c(\"regressions\"), estimator = \"WLS\")"
   ]
  },
  {
   "cell_type": "code",
   "execution_count": 56,
   "id": "4c8143f9",
   "metadata": {},
   "outputs": [
    {
     "name": "stderr",
     "output_type": "stream",
     "text": [
      "Warning message:\n",
      "\"'tidy.numeric' is deprecated.\n",
      "See help(\"Deprecated\")\"\n"
     ]
    },
    {
     "data": {
      "text/html": [
       "<table class=\"dataframe\">\n",
       "<caption>A tibble: 8 × 2</caption>\n",
       "<thead>\n",
       "\t<tr><th scope=col>names</th><th scope=col>x</th></tr>\n",
       "\t<tr><th scope=col>&lt;chr&gt;</th><th scope=col>&lt;lvn.vctr&gt;</th></tr>\n",
       "</thead>\n",
       "<tbody>\n",
       "\t<tr><td>chisq</td><td>22.73596158</td></tr>\n",
       "\t<tr><td>df   </td><td>11.00000000</td></tr>\n",
       "\t<tr><td>cfi  </td><td> 0.96351411</td></tr>\n",
       "\t<tr><td>tli  </td><td> 0.93366203</td></tr>\n",
       "\t<tr><td>rmsea</td><td> 0.04874609</td></tr>\n",
       "\t<tr><td>srmr </td><td> 0.04401376</td></tr>\n",
       "\t<tr><td>gfi  </td><td> 0.99968107</td></tr>\n",
       "\t<tr><td>agfi </td><td> 0.99884026</td></tr>\n",
       "</tbody>\n",
       "</table>\n"
      ],
      "text/latex": [
       "A tibble: 8 × 2\n",
       "\\begin{tabular}{ll}\n",
       " names & x\\\\\n",
       " <chr> & <lvn.vctr>\\\\\n",
       "\\hline\n",
       "\t chisq & 22.73596158\\\\\n",
       "\t df    & 11.00000000\\\\\n",
       "\t cfi   &  0.96351411\\\\\n",
       "\t tli   &  0.93366203\\\\\n",
       "\t rmsea &  0.04874609\\\\\n",
       "\t srmr  &  0.04401376\\\\\n",
       "\t gfi   &  0.99968107\\\\\n",
       "\t agfi  &  0.99884026\\\\\n",
       "\\end{tabular}\n"
      ],
      "text/markdown": [
       "\n",
       "A tibble: 8 × 2\n",
       "\n",
       "| names &lt;chr&gt; | x &lt;lvn.vctr&gt; |\n",
       "|---|---|\n",
       "| chisq | 22.73596158 |\n",
       "| df    | 11.00000000 |\n",
       "| cfi   |  0.96351411 |\n",
       "| tli   |  0.93366203 |\n",
       "| rmsea |  0.04874609 |\n",
       "| srmr  |  0.04401376 |\n",
       "| gfi   |  0.99968107 |\n",
       "| agfi  |  0.99884026 |\n",
       "\n"
      ],
      "text/plain": [
       "  names x          \n",
       "1 chisq 22.73596158\n",
       "2 df    11.00000000\n",
       "3 cfi    0.96351411\n",
       "4 tli    0.93366203\n",
       "5 rmsea  0.04874609\n",
       "6 srmr   0.04401376\n",
       "7 gfi    0.99968107\n",
       "8 agfi   0.99884026"
      ]
     },
     "metadata": {},
     "output_type": "display_data"
    }
   ],
   "source": [
    "tidy(fitMeasures(Cus_Multi.B.fit)) %>%\n",
    "    filter(names %in% c(\"chisq\", \"df\", \"gfi\", \"agfi\", \"cfi\", \"tli\", \"rmsea\", \"srmr\"))"
   ]
  },
  {
   "cell_type": "markdown",
   "id": "35aafac3",
   "metadata": {},
   "source": [
    "- anova함수를 사용하여 두 모형의 적합도 차이에 대한 카이제곱검정을 쉽게 수행"
   ]
  },
  {
   "cell_type": "code",
   "execution_count": 61,
   "id": "d7649ccd",
   "metadata": {},
   "outputs": [
    {
     "data": {
      "text/html": [
       "<table class=\"dataframe\">\n",
       "<caption>A anova: 2 × 8</caption>\n",
       "<thead>\n",
       "\t<tr><th></th><th scope=col>Df</th><th scope=col>AIC</th><th scope=col>BIC</th><th scope=col>Chisq</th><th scope=col>Chisq diff</th><th scope=col>RMSEA</th><th scope=col>Df diff</th><th scope=col>Pr(&gt;Chisq)</th></tr>\n",
       "\t<tr><th></th><th scope=col>&lt;int&gt;</th><th scope=col>&lt;lgl&gt;</th><th scope=col>&lt;lgl&gt;</th><th scope=col>&lt;dbl&gt;</th><th scope=col>&lt;dbl&gt;</th><th scope=col>&lt;dbl&gt;</th><th scope=col>&lt;int&gt;</th><th scope=col>&lt;dbl&gt;</th></tr>\n",
       "</thead>\n",
       "<tbody>\n",
       "\t<tr><th scope=row>Cus_Multi.A.fit</th><td> 2</td><td>NA</td><td>NA</td><td> 3.557511</td><td>      NA</td><td>       NA</td><td>NA</td><td>        NA</td></tr>\n",
       "\t<tr><th scope=row>Cus_Multi.B.fit</th><td>11</td><td>NA</td><td>NA</td><td>22.735962</td><td>19.17845</td><td>0.0501318</td><td> 9</td><td>0.02371761</td></tr>\n",
       "</tbody>\n",
       "</table>\n"
      ],
      "text/latex": [
       "A anova: 2 × 8\n",
       "\\begin{tabular}{r|llllllll}\n",
       "  & Df & AIC & BIC & Chisq & Chisq diff & RMSEA & Df diff & Pr(>Chisq)\\\\\n",
       "  & <int> & <lgl> & <lgl> & <dbl> & <dbl> & <dbl> & <int> & <dbl>\\\\\n",
       "\\hline\n",
       "\tCus\\_Multi.A.fit &  2 & NA & NA &  3.557511 &       NA &        NA & NA &         NA\\\\\n",
       "\tCus\\_Multi.B.fit & 11 & NA & NA & 22.735962 & 19.17845 & 0.0501318 &  9 & 0.02371761\\\\\n",
       "\\end{tabular}\n"
      ],
      "text/markdown": [
       "\n",
       "A anova: 2 × 8\n",
       "\n",
       "| <!--/--> | Df &lt;int&gt; | AIC &lt;lgl&gt; | BIC &lt;lgl&gt; | Chisq &lt;dbl&gt; | Chisq diff &lt;dbl&gt; | RMSEA &lt;dbl&gt; | Df diff &lt;int&gt; | Pr(&gt;Chisq) &lt;dbl&gt; |\n",
       "|---|---|---|---|---|---|---|---|---|\n",
       "| Cus_Multi.A.fit |  2 | NA | NA |  3.557511 |       NA |        NA | NA |         NA |\n",
       "| Cus_Multi.B.fit | 11 | NA | NA | 22.735962 | 19.17845 | 0.0501318 |  9 | 0.02371761 |\n",
       "\n"
      ],
      "text/plain": [
       "                Df AIC BIC Chisq     Chisq diff RMSEA     Df diff Pr(>Chisq)\n",
       "Cus_Multi.A.fit  2 NA  NA   3.557511       NA          NA NA              NA\n",
       "Cus_Multi.B.fit 11 NA  NA  22.735962 19.17845   0.0501318  9      0.02371761"
      ]
     },
     "metadata": {},
     "output_type": "display_data"
    }
   ],
   "source": [
    "anova(Cus_Multi.B.fit, Cus_Multi.A.fit)"
   ]
  },
  {
   "cell_type": "markdown",
   "id": "45cb6561",
   "metadata": {},
   "source": [
    "<br>\n",
    "\n",
    "- 비제약모형의 적합도는 우수해야 함 \n",
    "    - 연구자가 설정한 기본모형이 모든 집단의 데이터에 대하여 잘 적합되는 것을 의미\n",
    "- 인과관계를 나타내는 구조계수들이 두 집단 간에 서로 다르다면, 조절효과가 존재한다는 의미\n",
    "    - 구조계수 제약모형의 적합도는 비제약모형의 적합도와 큰 차이를 가져야 함\n",
    "    - 구조계수 제약모형의 모든 구조계수(회귀계수)들이 집단 간에 동일하다고 가정하는 모형이기 때문\n",
    "    \n",
    "<br>\n",
    "\n",
    "\n",
    "| 구분 | $\\chi^2$ | df | p-값 | NFI | IFI | RFI | TLI |\n",
    "| - | - | - | - | - | - | - | - | \n",
    "| 구조계수 제약모형 | 22.736 | 11 | - | 0.933 | 0.965 | 0.879 | 0.934 |\n",
    "| 비제약모형 (기본모형) | 3.533 | 2 | - | 0.990 | 0.995 | 0.995 | 0.952 |\n",
    "| | \n",
    "| 차이 ($\\Delta$) | 19.203 | 9 | 0.024 | -0.057 | -0.030 | -0.116 | -0.018 |\n",
    "\n",
    "<hr>\n",
    "\n",
    "\n",
    "- 두 모형의 $\\chi^2$값에 대한 차이는 19.203이며, 자유도의 차이는 9\n",
    "- **이에 대응하는 p-값은 0.024로서 통계적으로 유의 $\\rightarrow$ 조절효과가 존재 (구조계수 제약모형과 비제약모형의 적합도가 다름)**\n",
    "\n",
    "#### 적어도 몇 개의 구조계수들은 두 집단 간에 서로 다르다는 결론"
   ]
  },
  {
   "cell_type": "markdown",
   "id": "f857fad0",
   "metadata": {},
   "source": [
    "<br>\n",
    "\n",
    "- **회귀계수 추정치들이 모두 두 집단에서 동일하게 출력 (집단 간 회귀계수가 동일하다는 제약이 들어갔기 때문)** "
   ]
  },
  {
   "cell_type": "code",
   "execution_count": 64,
   "id": "16eb6bd2",
   "metadata": {},
   "outputs": [
    {
     "data": {
      "text/html": [
       "<table class=\"dataframe\">\n",
       "<caption>A data.frame: 18 × 14</caption>\n",
       "<thead>\n",
       "\t<tr><th scope=col>lhs</th><th scope=col>op</th><th scope=col>rhs</th><th scope=col>block</th><th scope=col>group</th><th scope=col>label</th><th scope=col>exo</th><th scope=col>est</th><th scope=col>se</th><th scope=col>z</th><th scope=col>pvalue</th><th scope=col>std.lv</th><th scope=col>std.all</th><th scope=col>std.nox</th></tr>\n",
       "\t<tr><th scope=col>&lt;chr&gt;</th><th scope=col>&lt;chr&gt;</th><th scope=col>&lt;chr&gt;</th><th scope=col>&lt;int&gt;</th><th scope=col>&lt;int&gt;</th><th scope=col>&lt;chr&gt;</th><th scope=col>&lt;int&gt;</th><th scope=col>&lt;dbl&gt;</th><th scope=col>&lt;dbl&gt;</th><th scope=col>&lt;dbl&gt;</th><th scope=col>&lt;dbl&gt;</th><th scope=col>&lt;dbl&gt;</th><th scope=col>&lt;dbl&gt;</th><th scope=col>&lt;dbl&gt;</th></tr>\n",
       "</thead>\n",
       "<tbody>\n",
       "\t<tr><td>Quality  </td><td>~</td><td>Expect   </td><td>1</td><td>1</td><td>.p1.</td><td>0</td><td> 0.53480848</td><td>0.04463019</td><td>11.9831092</td><td>0.000000e+00</td><td> 0.53480848</td><td> 0.436277267</td><td> 0.0333649653</td></tr>\n",
       "\t<tr><td>Value    </td><td>~</td><td>Expect   </td><td>1</td><td>1</td><td>.p2.</td><td>0</td><td> 0.10351071</td><td>0.03838920</td><td> 2.6963495</td><td>7.010407e-03</td><td> 0.10351071</td><td> 0.084741314</td><td> 0.0064807204</td></tr>\n",
       "\t<tr><td>Value    </td><td>~</td><td>Quality  </td><td>1</td><td>1</td><td>.p3.</td><td>0</td><td> 0.53419158</td><td>0.03832952</td><td>13.9368196</td><td>0.000000e+00</td><td> 0.53419158</td><td> 0.536096083</td><td> 0.5360960831</td></tr>\n",
       "\t<tr><td>Satisfact</td><td>~</td><td>Expect   </td><td>1</td><td>1</td><td>.p4.</td><td>0</td><td> 0.01077386</td><td>0.02968242</td><td> 0.3629711</td><td>7.166264e-01</td><td> 0.01077386</td><td> 0.008923222</td><td> 0.0006824170</td></tr>\n",
       "\t<tr><td>Satisfact</td><td>~</td><td>Quality  </td><td>1</td><td>1</td><td>.p5.</td><td>0</td><td> 0.57850327</td><td>0.03259303</td><td>17.7492966</td><td>0.000000e+00</td><td> 0.57850327</td><td> 0.587342981</td><td> 0.5873429814</td></tr>\n",
       "\t<tr><td>Satisfact</td><td>~</td><td>Value    </td><td>1</td><td>1</td><td>.p6.</td><td>0</td><td> 0.33156224</td><td>0.02785776</td><td>11.9019715</td><td>0.000000e+00</td><td> 0.33156224</td><td> 0.335432723</td><td> 0.3354327229</td></tr>\n",
       "\t<tr><td>Loyalty  </td><td>~</td><td>Expect   </td><td>1</td><td>1</td><td>.p7.</td><td>0</td><td>-0.19966054</td><td>0.05245217</td><td>-3.8065254</td><td>1.409328e-04</td><td>-0.19966054</td><td>-0.112069999</td><td>-0.0085707231</td></tr>\n",
       "\t<tr><td>Loyalty  </td><td>~</td><td>Quality  </td><td>1</td><td>1</td><td>.p8.</td><td>0</td><td> 0.65616520</td><td>0.06324654</td><td>10.3747211</td><td>0.000000e+00</td><td> 0.65616520</td><td> 0.451487810</td><td> 0.4514878099</td></tr>\n",
       "\t<tr><td>Loyalty  </td><td>~</td><td>Satisfact</td><td>1</td><td>1</td><td>.p9.</td><td>0</td><td> 0.27143766</td><td>0.06429189</td><td> 4.2219577</td><td>2.421896e-05</td><td> 0.27143766</td><td> 0.183957276</td><td> 0.1839572763</td></tr>\n",
       "\t<tr><td>Quality  </td><td>~</td><td>Expect   </td><td>2</td><td>2</td><td>.p1.</td><td>0</td><td> 0.53480848</td><td>0.04463019</td><td>11.9831092</td><td>0.000000e+00</td><td> 0.53480848</td><td> 0.444425488</td><td> 0.0358322095</td></tr>\n",
       "\t<tr><td>Value    </td><td>~</td><td>Expect   </td><td>2</td><td>2</td><td>.p2.</td><td>0</td><td> 0.10351071</td><td>0.03838920</td><td> 2.6963495</td><td>7.010407e-03</td><td> 0.10351071</td><td> 0.085823822</td><td> 0.0069196238</td></tr>\n",
       "\t<tr><td>Value    </td><td>~</td><td>Quality  </td><td>2</td><td>2</td><td>.p3.</td><td>0</td><td> 0.53419158</td><td>0.03832952</td><td>13.9368196</td><td>0.000000e+00</td><td> 0.53419158</td><td> 0.532989828</td><td> 0.5329898285</td></tr>\n",
       "\t<tr><td>Satisfact</td><td>~</td><td>Expect   </td><td>2</td><td>2</td><td>.p4.</td><td>0</td><td> 0.01077386</td><td>0.02968242</td><td> 0.3629711</td><td>7.166264e-01</td><td> 0.01077386</td><td> 0.009242342</td><td> 0.0007451722</td></tr>\n",
       "\t<tr><td>Satisfact</td><td>~</td><td>Quality  </td><td>2</td><td>2</td><td>.p5.</td><td>0</td><td> 0.57850327</td><td>0.03259303</td><td>17.7492966</td><td>0.000000e+00</td><td> 0.57850327</td><td> 0.597194403</td><td> 0.5971944027</td></tr>\n",
       "\t<tr><td>Satisfact</td><td>~</td><td>Value    </td><td>2</td><td>2</td><td>.p6.</td><td>0</td><td> 0.33156224</td><td>0.02785776</td><td>11.9019715</td><td>0.000000e+00</td><td> 0.33156224</td><td> 0.343046574</td><td> 0.3430465736</td></tr>\n",
       "\t<tr><td>Loyalty  </td><td>~</td><td>Expect   </td><td>2</td><td>2</td><td>.p7.</td><td>0</td><td>-0.19966054</td><td>0.05245217</td><td>-3.8065254</td><td>1.409328e-04</td><td>-0.19966054</td><td>-0.123532861</td><td>-0.0099599494</td></tr>\n",
       "\t<tr><td>Loyalty  </td><td>~</td><td>Quality  </td><td>2</td><td>2</td><td>.p8.</td><td>0</td><td> 0.65616520</td><td>0.06324654</td><td>10.3747211</td><td>0.000000e+00</td><td> 0.65616520</td><td> 0.488542990</td><td> 0.4885429896</td></tr>\n",
       "\t<tr><td>Loyalty  </td><td>~</td><td>Satisfact</td><td>2</td><td>2</td><td>.p9.</td><td>0</td><td> 0.27143766</td><td>0.06429189</td><td> 4.2219577</td><td>2.421896e-05</td><td> 0.27143766</td><td> 0.195771642</td><td> 0.1957716416</td></tr>\n",
       "</tbody>\n",
       "</table>\n"
      ],
      "text/latex": [
       "A data.frame: 18 × 14\n",
       "\\begin{tabular}{llllllllllllll}\n",
       " lhs & op & rhs & block & group & label & exo & est & se & z & pvalue & std.lv & std.all & std.nox\\\\\n",
       " <chr> & <chr> & <chr> & <int> & <int> & <chr> & <int> & <dbl> & <dbl> & <dbl> & <dbl> & <dbl> & <dbl> & <dbl>\\\\\n",
       "\\hline\n",
       "\t Quality   & \\textasciitilde{} & Expect    & 1 & 1 & .p1. & 0 &  0.53480848 & 0.04463019 & 11.9831092 & 0.000000e+00 &  0.53480848 &  0.436277267 &  0.0333649653\\\\\n",
       "\t Value     & \\textasciitilde{} & Expect    & 1 & 1 & .p2. & 0 &  0.10351071 & 0.03838920 &  2.6963495 & 7.010407e-03 &  0.10351071 &  0.084741314 &  0.0064807204\\\\\n",
       "\t Value     & \\textasciitilde{} & Quality   & 1 & 1 & .p3. & 0 &  0.53419158 & 0.03832952 & 13.9368196 & 0.000000e+00 &  0.53419158 &  0.536096083 &  0.5360960831\\\\\n",
       "\t Satisfact & \\textasciitilde{} & Expect    & 1 & 1 & .p4. & 0 &  0.01077386 & 0.02968242 &  0.3629711 & 7.166264e-01 &  0.01077386 &  0.008923222 &  0.0006824170\\\\\n",
       "\t Satisfact & \\textasciitilde{} & Quality   & 1 & 1 & .p5. & 0 &  0.57850327 & 0.03259303 & 17.7492966 & 0.000000e+00 &  0.57850327 &  0.587342981 &  0.5873429814\\\\\n",
       "\t Satisfact & \\textasciitilde{} & Value     & 1 & 1 & .p6. & 0 &  0.33156224 & 0.02785776 & 11.9019715 & 0.000000e+00 &  0.33156224 &  0.335432723 &  0.3354327229\\\\\n",
       "\t Loyalty   & \\textasciitilde{} & Expect    & 1 & 1 & .p7. & 0 & -0.19966054 & 0.05245217 & -3.8065254 & 1.409328e-04 & -0.19966054 & -0.112069999 & -0.0085707231\\\\\n",
       "\t Loyalty   & \\textasciitilde{} & Quality   & 1 & 1 & .p8. & 0 &  0.65616520 & 0.06324654 & 10.3747211 & 0.000000e+00 &  0.65616520 &  0.451487810 &  0.4514878099\\\\\n",
       "\t Loyalty   & \\textasciitilde{} & Satisfact & 1 & 1 & .p9. & 0 &  0.27143766 & 0.06429189 &  4.2219577 & 2.421896e-05 &  0.27143766 &  0.183957276 &  0.1839572763\\\\\n",
       "\t Quality   & \\textasciitilde{} & Expect    & 2 & 2 & .p1. & 0 &  0.53480848 & 0.04463019 & 11.9831092 & 0.000000e+00 &  0.53480848 &  0.444425488 &  0.0358322095\\\\\n",
       "\t Value     & \\textasciitilde{} & Expect    & 2 & 2 & .p2. & 0 &  0.10351071 & 0.03838920 &  2.6963495 & 7.010407e-03 &  0.10351071 &  0.085823822 &  0.0069196238\\\\\n",
       "\t Value     & \\textasciitilde{} & Quality   & 2 & 2 & .p3. & 0 &  0.53419158 & 0.03832952 & 13.9368196 & 0.000000e+00 &  0.53419158 &  0.532989828 &  0.5329898285\\\\\n",
       "\t Satisfact & \\textasciitilde{} & Expect    & 2 & 2 & .p4. & 0 &  0.01077386 & 0.02968242 &  0.3629711 & 7.166264e-01 &  0.01077386 &  0.009242342 &  0.0007451722\\\\\n",
       "\t Satisfact & \\textasciitilde{} & Quality   & 2 & 2 & .p5. & 0 &  0.57850327 & 0.03259303 & 17.7492966 & 0.000000e+00 &  0.57850327 &  0.597194403 &  0.5971944027\\\\\n",
       "\t Satisfact & \\textasciitilde{} & Value     & 2 & 2 & .p6. & 0 &  0.33156224 & 0.02785776 & 11.9019715 & 0.000000e+00 &  0.33156224 &  0.343046574 &  0.3430465736\\\\\n",
       "\t Loyalty   & \\textasciitilde{} & Expect    & 2 & 2 & .p7. & 0 & -0.19966054 & 0.05245217 & -3.8065254 & 1.409328e-04 & -0.19966054 & -0.123532861 & -0.0099599494\\\\\n",
       "\t Loyalty   & \\textasciitilde{} & Quality   & 2 & 2 & .p8. & 0 &  0.65616520 & 0.06324654 & 10.3747211 & 0.000000e+00 &  0.65616520 &  0.488542990 &  0.4885429896\\\\\n",
       "\t Loyalty   & \\textasciitilde{} & Satisfact & 2 & 2 & .p9. & 0 &  0.27143766 & 0.06429189 &  4.2219577 & 2.421896e-05 &  0.27143766 &  0.195771642 &  0.1957716416\\\\\n",
       "\\end{tabular}\n"
      ],
      "text/markdown": [
       "\n",
       "A data.frame: 18 × 14\n",
       "\n",
       "| lhs &lt;chr&gt; | op &lt;chr&gt; | rhs &lt;chr&gt; | block &lt;int&gt; | group &lt;int&gt; | label &lt;chr&gt; | exo &lt;int&gt; | est &lt;dbl&gt; | se &lt;dbl&gt; | z &lt;dbl&gt; | pvalue &lt;dbl&gt; | std.lv &lt;dbl&gt; | std.all &lt;dbl&gt; | std.nox &lt;dbl&gt; |\n",
       "|---|---|---|---|---|---|---|---|---|---|---|---|---|---|\n",
       "| Quality   | ~ | Expect    | 1 | 1 | .p1. | 0 |  0.53480848 | 0.04463019 | 11.9831092 | 0.000000e+00 |  0.53480848 |  0.436277267 |  0.0333649653 |\n",
       "| Value     | ~ | Expect    | 1 | 1 | .p2. | 0 |  0.10351071 | 0.03838920 |  2.6963495 | 7.010407e-03 |  0.10351071 |  0.084741314 |  0.0064807204 |\n",
       "| Value     | ~ | Quality   | 1 | 1 | .p3. | 0 |  0.53419158 | 0.03832952 | 13.9368196 | 0.000000e+00 |  0.53419158 |  0.536096083 |  0.5360960831 |\n",
       "| Satisfact | ~ | Expect    | 1 | 1 | .p4. | 0 |  0.01077386 | 0.02968242 |  0.3629711 | 7.166264e-01 |  0.01077386 |  0.008923222 |  0.0006824170 |\n",
       "| Satisfact | ~ | Quality   | 1 | 1 | .p5. | 0 |  0.57850327 | 0.03259303 | 17.7492966 | 0.000000e+00 |  0.57850327 |  0.587342981 |  0.5873429814 |\n",
       "| Satisfact | ~ | Value     | 1 | 1 | .p6. | 0 |  0.33156224 | 0.02785776 | 11.9019715 | 0.000000e+00 |  0.33156224 |  0.335432723 |  0.3354327229 |\n",
       "| Loyalty   | ~ | Expect    | 1 | 1 | .p7. | 0 | -0.19966054 | 0.05245217 | -3.8065254 | 1.409328e-04 | -0.19966054 | -0.112069999 | -0.0085707231 |\n",
       "| Loyalty   | ~ | Quality   | 1 | 1 | .p8. | 0 |  0.65616520 | 0.06324654 | 10.3747211 | 0.000000e+00 |  0.65616520 |  0.451487810 |  0.4514878099 |\n",
       "| Loyalty   | ~ | Satisfact | 1 | 1 | .p9. | 0 |  0.27143766 | 0.06429189 |  4.2219577 | 2.421896e-05 |  0.27143766 |  0.183957276 |  0.1839572763 |\n",
       "| Quality   | ~ | Expect    | 2 | 2 | .p1. | 0 |  0.53480848 | 0.04463019 | 11.9831092 | 0.000000e+00 |  0.53480848 |  0.444425488 |  0.0358322095 |\n",
       "| Value     | ~ | Expect    | 2 | 2 | .p2. | 0 |  0.10351071 | 0.03838920 |  2.6963495 | 7.010407e-03 |  0.10351071 |  0.085823822 |  0.0069196238 |\n",
       "| Value     | ~ | Quality   | 2 | 2 | .p3. | 0 |  0.53419158 | 0.03832952 | 13.9368196 | 0.000000e+00 |  0.53419158 |  0.532989828 |  0.5329898285 |\n",
       "| Satisfact | ~ | Expect    | 2 | 2 | .p4. | 0 |  0.01077386 | 0.02968242 |  0.3629711 | 7.166264e-01 |  0.01077386 |  0.009242342 |  0.0007451722 |\n",
       "| Satisfact | ~ | Quality   | 2 | 2 | .p5. | 0 |  0.57850327 | 0.03259303 | 17.7492966 | 0.000000e+00 |  0.57850327 |  0.597194403 |  0.5971944027 |\n",
       "| Satisfact | ~ | Value     | 2 | 2 | .p6. | 0 |  0.33156224 | 0.02785776 | 11.9019715 | 0.000000e+00 |  0.33156224 |  0.343046574 |  0.3430465736 |\n",
       "| Loyalty   | ~ | Expect    | 2 | 2 | .p7. | 0 | -0.19966054 | 0.05245217 | -3.8065254 | 1.409328e-04 | -0.19966054 | -0.123532861 | -0.0099599494 |\n",
       "| Loyalty   | ~ | Quality   | 2 | 2 | .p8. | 0 |  0.65616520 | 0.06324654 | 10.3747211 | 0.000000e+00 |  0.65616520 |  0.488542990 |  0.4885429896 |\n",
       "| Loyalty   | ~ | Satisfact | 2 | 2 | .p9. | 0 |  0.27143766 | 0.06429189 |  4.2219577 | 2.421896e-05 |  0.27143766 |  0.195771642 |  0.1957716416 |\n",
       "\n"
      ],
      "text/plain": [
       "   lhs       op rhs       block group label exo est         se        \n",
       "1  Quality   ~  Expect    1     1     .p1.  0    0.53480848 0.04463019\n",
       "2  Value     ~  Expect    1     1     .p2.  0    0.10351071 0.03838920\n",
       "3  Value     ~  Quality   1     1     .p3.  0    0.53419158 0.03832952\n",
       "4  Satisfact ~  Expect    1     1     .p4.  0    0.01077386 0.02968242\n",
       "5  Satisfact ~  Quality   1     1     .p5.  0    0.57850327 0.03259303\n",
       "6  Satisfact ~  Value     1     1     .p6.  0    0.33156224 0.02785776\n",
       "7  Loyalty   ~  Expect    1     1     .p7.  0   -0.19966054 0.05245217\n",
       "8  Loyalty   ~  Quality   1     1     .p8.  0    0.65616520 0.06324654\n",
       "9  Loyalty   ~  Satisfact 1     1     .p9.  0    0.27143766 0.06429189\n",
       "10 Quality   ~  Expect    2     2     .p1.  0    0.53480848 0.04463019\n",
       "11 Value     ~  Expect    2     2     .p2.  0    0.10351071 0.03838920\n",
       "12 Value     ~  Quality   2     2     .p3.  0    0.53419158 0.03832952\n",
       "13 Satisfact ~  Expect    2     2     .p4.  0    0.01077386 0.02968242\n",
       "14 Satisfact ~  Quality   2     2     .p5.  0    0.57850327 0.03259303\n",
       "15 Satisfact ~  Value     2     2     .p6.  0    0.33156224 0.02785776\n",
       "16 Loyalty   ~  Expect    2     2     .p7.  0   -0.19966054 0.05245217\n",
       "17 Loyalty   ~  Quality   2     2     .p8.  0    0.65616520 0.06324654\n",
       "18 Loyalty   ~  Satisfact 2     2     .p9.  0    0.27143766 0.06429189\n",
       "   z          pvalue       std.lv      std.all      std.nox      \n",
       "1  11.9831092 0.000000e+00  0.53480848  0.436277267  0.0333649653\n",
       "2   2.6963495 7.010407e-03  0.10351071  0.084741314  0.0064807204\n",
       "3  13.9368196 0.000000e+00  0.53419158  0.536096083  0.5360960831\n",
       "4   0.3629711 7.166264e-01  0.01077386  0.008923222  0.0006824170\n",
       "5  17.7492966 0.000000e+00  0.57850327  0.587342981  0.5873429814\n",
       "6  11.9019715 0.000000e+00  0.33156224  0.335432723  0.3354327229\n",
       "7  -3.8065254 1.409328e-04 -0.19966054 -0.112069999 -0.0085707231\n",
       "8  10.3747211 0.000000e+00  0.65616520  0.451487810  0.4514878099\n",
       "9   4.2219577 2.421896e-05  0.27143766  0.183957276  0.1839572763\n",
       "10 11.9831092 0.000000e+00  0.53480848  0.444425488  0.0358322095\n",
       "11  2.6963495 7.010407e-03  0.10351071  0.085823822  0.0069196238\n",
       "12 13.9368196 0.000000e+00  0.53419158  0.532989828  0.5329898285\n",
       "13  0.3629711 7.166264e-01  0.01077386  0.009242342  0.0007451722\n",
       "14 17.7492966 0.000000e+00  0.57850327  0.597194403  0.5971944027\n",
       "15 11.9019715 0.000000e+00  0.33156224  0.343046574  0.3430465736\n",
       "16 -3.8065254 1.409328e-04 -0.19966054 -0.123532861 -0.0099599494\n",
       "17 10.3747211 0.000000e+00  0.65616520  0.488542990  0.4885429896\n",
       "18  4.2219577 2.421896e-05  0.27143766  0.195771642  0.1957716416"
      ]
     },
     "metadata": {},
     "output_type": "display_data"
    }
   ],
   "source": [
    "summary(Cus_Multi.B.fit, fit.measure = T, rsquare = T, standardized = T)$pe %>%\n",
    "    filter(op == \"~\")"
   ]
  },
  {
   "cell_type": "markdown",
   "id": "696204aa",
   "metadata": {},
   "source": [
    "<br>\n",
    "\n",
    "### 개별 계수들에 대한 평가\n",
    "- **조절효과가 존재하는 것으로 나타남 $\\rightarrow$ 어떤 구조계수가 차이를 가지는가 탐색**\n",
    "- 두 집단 회귀계수의 차이에 대한 검정은 z-통계량을 사용하여 수행\n",
    "\n",
    "<br>\n",
    "\n",
    "**회귀계수 추정치 일부**\n",
    "\n",
    "- **Group A**\n",
    "\n",
    "| 내생변수 | 설명변수 | 추정치 | 표준화추정치 | p-val | SMC | \n",
    "| - | - | - | - | - | - |\n",
    "| Quality | Expect | 0.534 | 0.429 | <.001 | 0.184 | \n",
    "| | \n",
    "| Value | Expect | 0.125 | 0.106 | 0.006 | 0.284 | \n",
    "|  | Quality | 0.454 | 0.479 | <.001 |  | \n",
    "\n",
    "- **Group B**\n",
    "\n",
    "| 내생변수 | 설명변수 | 추정치 | 표준화추정치 | p-val | SMC | \n",
    "| - | - | - | - | - | - |\n",
    "| Quality | Expect | 0.580 | 0.486 | <.001 | 0.237 | \n",
    "| | \n",
    "| Value | Expect | 0.072 | 0.056 | 0.307 | 0.420 | \n",
    "|  | Quality | 0.665 | 0.619 | <.001 |  | \n",
    "\n",
    "\n",
    "- **두 집단 회귀계수 차이**\n",
    "\n",
    "| 내생변수 | 설명변수 | 추정치 | 표준화추정치 | p-val |\n",
    "| - | - | - | - | - | \n",
    "| Quality | Expect | -0.046 | -0.057 | <.610 | \n",
    "| | \n",
    "| Value | Expect | 0.050 | 0.043 | 0.529 |\n",
    "|  | Quality | -0.211 | -0.140 | 0.014 |\n",
    "\n",
    "<hr>\n",
    "\n",
    "- **인과관계 'Value $\\leftarrow$ Expect'의 경우 Group 1에서의 추정치는 0.125, Group 2에서의 추정치는 0.072**\n",
    "    - **Group 1에서만 회귀계수가 통계적으로 유의**\n",
    "    - **추정치의 차이는 0.050으로 크지 않으며, 두 집단 회귀계수의 차이는 통계적으로 유의하지 않음**\n",
    "\n",
    "<br>\n",
    "\n",
    "- **인과관계 'Value $\\leftarrow$ Quality'의 경우 Group 1에서의 추정치는 0.454, Group 2에서의 추정치는 0.665**\n",
    "    - **모든 Group에서 회귀계수가 통계적으로 유의**\n",
    "    - **추정치의 차이는 -0.211으로 크며, 두 집단 회귀계수의 차이는 통계적으로 유의**"
   ]
  },
  {
   "cell_type": "markdown",
   "id": "38ced2b7",
   "metadata": {},
   "source": [
    "<br>\n",
    "\n",
    "## 07.04. 잠재변수가 있는 모형\n",
    "\n",
    "<br>\n",
    "\n",
    "### 기본모형에 대한 적합도 평가"
   ]
  },
  {
   "cell_type": "code",
   "execution_count": 66,
   "id": "1237fbfe",
   "metadata": {},
   "outputs": [],
   "source": [
    "Satisfact <- read.csv(paste0(getwd(), \"/Data/Satisfact.csv\"), header = TRUE)"
   ]
  },
  {
   "cell_type": "code",
   "execution_count": 68,
   "id": "90713c1a",
   "metadata": {},
   "outputs": [],
   "source": [
    "Satisfact.B <- \"\n",
    "    # measurement model\n",
    "    Expect =~ f1_1 + f1_2 + f1_3\n",
    "    Quality =~ f2_1 + f2_2 + f2_3\n",
    "    Value =~ f3_1 + f3_2\n",
    "    Satisfact =~ f4_1 + f4_2 + f4_3\n",
    "    \n",
    "    # regression\n",
    "    Quality ~ Expect\n",
    "    Value ~ Expect + Quality\n",
    "    Satisfact ~ Expect + Quality + Value\n",
    "\n",
    "    # error covariance\n",
    "    f1_1 ~~ f2_1\n",
    "    f1_2 ~~ f2_2\n",
    "    f1_3 ~~ f2_3\n",
    "\""
   ]
  },
  {
   "cell_type": "code",
   "execution_count": 72,
   "id": "9d3f0b9d",
   "metadata": {},
   "outputs": [
    {
     "data": {
      "image/png": "[encoded data removed]",
      "text/plain": [
       "Plot with title \"1\""
      ]
     },
     "metadata": {
      "image/png": {
       "height": 420,
       "width": 420
      }
     },
     "output_type": "display_data"
    },
    {
     "data": {
      "image/png": "[encoded data removed]",
      "text/plain": [
       "Plot with title \"2\""
      ]
     },
     "metadata": {
      "image/png": {
       "height": 420,
       "width": 420
      }
     },
     "output_type": "display_data"
    }
   ],
   "source": [
    "Sat_Multi.A.fit <- sem(Satisfact.B, Satisfact, group = \"Group\", estimator = \"WLS\")\n",
    "semPaths(Sat_Multi.A.fit, whatLabels = \"std\", style = \"lisrel\", nCharNodes = 0, rotation = 2)"
   ]
  },
  {
   "cell_type": "markdown",
   "id": "645c548d",
   "metadata": {},
   "source": [
    "- 적합도 지수들이 나쁘지 않음"
   ]
  },
  {
   "cell_type": "code",
   "execution_count": 73,
   "id": "8b3faa94",
   "metadata": {},
   "outputs": [
    {
     "name": "stderr",
     "output_type": "stream",
     "text": [
      "Warning message:\n",
      "\"'tidy.numeric' is deprecated.\n",
      "See help(\"Deprecated\")\"\n"
     ]
    },
    {
     "data": {
      "text/html": [
       "<table class=\"dataframe\">\n",
       "<caption>A tibble: 8 × 2</caption>\n",
       "<thead>\n",
       "\t<tr><th scope=col>names</th><th scope=col>x</th></tr>\n",
       "\t<tr><th scope=col>&lt;chr&gt;</th><th scope=col>&lt;lvn.vctr&gt;</th></tr>\n",
       "</thead>\n",
       "<tbody>\n",
       "\t<tr><td>chisq</td><td>140.88997160</td></tr>\n",
       "\t<tr><td>df   </td><td> 70.00000000</td></tr>\n",
       "\t<tr><td>cfi  </td><td>  0.91632530</td></tr>\n",
       "\t<tr><td>tli  </td><td>  0.86851118</td></tr>\n",
       "\t<tr><td>rmsea</td><td>  0.04749197</td></tr>\n",
       "\t<tr><td>srmr </td><td>  0.07510060</td></tr>\n",
       "\t<tr><td>gfi  </td><td>  0.99859433</td></tr>\n",
       "\t<tr><td>agfi </td><td>  0.99690753</td></tr>\n",
       "</tbody>\n",
       "</table>\n"
      ],
      "text/latex": [
       "A tibble: 8 × 2\n",
       "\\begin{tabular}{ll}\n",
       " names & x\\\\\n",
       " <chr> & <lvn.vctr>\\\\\n",
       "\\hline\n",
       "\t chisq & 140.88997160\\\\\n",
       "\t df    &  70.00000000\\\\\n",
       "\t cfi   &   0.91632530\\\\\n",
       "\t tli   &   0.86851118\\\\\n",
       "\t rmsea &   0.04749197\\\\\n",
       "\t srmr  &   0.07510060\\\\\n",
       "\t gfi   &   0.99859433\\\\\n",
       "\t agfi  &   0.99690753\\\\\n",
       "\\end{tabular}\n"
      ],
      "text/markdown": [
       "\n",
       "A tibble: 8 × 2\n",
       "\n",
       "| names &lt;chr&gt; | x &lt;lvn.vctr&gt; |\n",
       "|---|---|\n",
       "| chisq | 140.88997160 |\n",
       "| df    |  70.00000000 |\n",
       "| cfi   |   0.91632530 |\n",
       "| tli   |   0.86851118 |\n",
       "| rmsea |   0.04749197 |\n",
       "| srmr  |   0.07510060 |\n",
       "| gfi   |   0.99859433 |\n",
       "| agfi  |   0.99690753 |\n",
       "\n"
      ],
      "text/plain": [
       "  names x           \n",
       "1 chisq 140.88997160\n",
       "2 df     70.00000000\n",
       "3 cfi     0.91632530\n",
       "4 tli     0.86851118\n",
       "5 rmsea   0.04749197\n",
       "6 srmr    0.07510060\n",
       "7 gfi     0.99859433\n",
       "8 agfi    0.99690753"
      ]
     },
     "metadata": {},
     "output_type": "display_data"
    }
   ],
   "source": [
    "tidy(fitMeasures(Sat_Multi.A.fit)) %>%\n",
    "    filter(names %in% c(\"chisq\", \"df\", \"gfi\", \"agfi\", \"cfi\", \"tli\", \"rmsea\", \"srmr\"))"
   ]
  },
  {
   "cell_type": "markdown",
   "id": "ec924cb3",
   "metadata": {},
   "source": [
    "- 회귀계수|"
   ]
  },
  {
   "cell_type": "code",
   "execution_count": 75,
   "id": "c6089fe4",
   "metadata": {},
   "outputs": [],
   "source": [
    "# summary(Sat_Multi.A.fit, fit.measures = TRUE, rsquare = TRUE, standardized = TRUE) %>% print"
   ]
  },
  {
   "cell_type": "markdown",
   "id": "7a90f206",
   "metadata": {},
   "source": [
    "<br>\n",
    "\n",
    "### 측정계수 제약모형에 대한 적합도 평가 (measurement weights constrained model)\n",
    "- **측정계수 제약모형 : 두 집단에 대하여 관찰변수와 잠재변수의 관계를 나타내는 인자적재값이 모두 동일하다는 가정**\n",
    "- **측정계수 비 제약모형 : 두 집단에 대하여 관찰변수와 잠재변수의 관계에 제약이 없음**\n",
    "\n",
    "<br>\n",
    "\n",
    "#### 집단 간 인자적재값들이 모두 동일하다는 제약 $\\rightarrow$ `sem()`의 `group.equal`을 `c(\"loadings\")`로 입력\n"
   ]
  },
  {
   "cell_type": "code",
   "execution_count": 76,
   "id": "34b01c2d",
   "metadata": {},
   "outputs": [
    {
     "name": "stderr",
     "output_type": "stream",
     "text": [
      "Warning message:\n",
      "\"'tidy.numeric' is deprecated.\n",
      "See help(\"Deprecated\")\"\n"
     ]
    },
    {
     "data": {
      "text/html": [
       "<table class=\"dataframe\">\n",
       "<caption>A tibble: 8 × 2</caption>\n",
       "<thead>\n",
       "\t<tr><th scope=col>names</th><th scope=col>x</th></tr>\n",
       "\t<tr><th scope=col>&lt;chr&gt;</th><th scope=col>&lt;lvn.vctr&gt;</th></tr>\n",
       "</thead>\n",
       "<tbody>\n",
       "\t<tr><td>chisq</td><td>144.42615500</td></tr>\n",
       "\t<tr><td>df   </td><td> 77.00000000</td></tr>\n",
       "\t<tr><td>cfi  </td><td>  0.92041380</td></tr>\n",
       "\t<tr><td>tli  </td><td>  0.88630543</td></tr>\n",
       "\t<tr><td>rmsea</td><td>  0.04416169</td></tr>\n",
       "\t<tr><td>srmr </td><td>  0.08329010</td></tr>\n",
       "\t<tr><td>gfi  </td><td>  0.99855899</td></tr>\n",
       "\t<tr><td>agfi </td><td>  0.99711798</td></tr>\n",
       "</tbody>\n",
       "</table>\n"
      ],
      "text/latex": [
       "A tibble: 8 × 2\n",
       "\\begin{tabular}{ll}\n",
       " names & x\\\\\n",
       " <chr> & <lvn.vctr>\\\\\n",
       "\\hline\n",
       "\t chisq & 144.42615500\\\\\n",
       "\t df    &  77.00000000\\\\\n",
       "\t cfi   &   0.92041380\\\\\n",
       "\t tli   &   0.88630543\\\\\n",
       "\t rmsea &   0.04416169\\\\\n",
       "\t srmr  &   0.08329010\\\\\n",
       "\t gfi   &   0.99855899\\\\\n",
       "\t agfi  &   0.99711798\\\\\n",
       "\\end{tabular}\n"
      ],
      "text/markdown": [
       "\n",
       "A tibble: 8 × 2\n",
       "\n",
       "| names &lt;chr&gt; | x &lt;lvn.vctr&gt; |\n",
       "|---|---|\n",
       "| chisq | 144.42615500 |\n",
       "| df    |  77.00000000 |\n",
       "| cfi   |   0.92041380 |\n",
       "| tli   |   0.88630543 |\n",
       "| rmsea |   0.04416169 |\n",
       "| srmr  |   0.08329010 |\n",
       "| gfi   |   0.99855899 |\n",
       "| agfi  |   0.99711798 |\n",
       "\n"
      ],
      "text/plain": [
       "  names x           \n",
       "1 chisq 144.42615500\n",
       "2 df     77.00000000\n",
       "3 cfi     0.92041380\n",
       "4 tli     0.88630543\n",
       "5 rmsea   0.04416169\n",
       "6 srmr    0.08329010\n",
       "7 gfi     0.99855899\n",
       "8 agfi    0.99711798"
      ]
     },
     "metadata": {},
     "output_type": "display_data"
    }
   ],
   "source": [
    "Sat_Multi.B.fit<- sem (Satisfact.B, Satisfact, group = \"Group\", group.equal = c(\"loadings\"), estimator = \"WLS\")\n",
    "tidy(fitMeasures(Sat_Multi.B.fit)) %>%\n",
    "    filter(names %in% c(\"chisq\", \"df\", \"gfi\", \"agfi\", \"cfi\", \"tli\", \"rmsea\", \"srmr\"))"
   ]
  },
  {
   "cell_type": "code",
   "execution_count": 77,
   "id": "eaf62703",
   "metadata": {},
   "outputs": [
    {
     "data": {
      "text/html": [
       "<table class=\"dataframe\">\n",
       "<caption>A anova: 2 × 8</caption>\n",
       "<thead>\n",
       "\t<tr><th></th><th scope=col>Df</th><th scope=col>AIC</th><th scope=col>BIC</th><th scope=col>Chisq</th><th scope=col>Chisq diff</th><th scope=col>RMSEA</th><th scope=col>Df diff</th><th scope=col>Pr(&gt;Chisq)</th></tr>\n",
       "\t<tr><th></th><th scope=col>&lt;int&gt;</th><th scope=col>&lt;lgl&gt;</th><th scope=col>&lt;lgl&gt;</th><th scope=col>&lt;dbl&gt;</th><th scope=col>&lt;dbl&gt;</th><th scope=col>&lt;dbl&gt;</th><th scope=col>&lt;int&gt;</th><th scope=col>&lt;dbl&gt;</th></tr>\n",
       "</thead>\n",
       "<tbody>\n",
       "\t<tr><th scope=row>Sat_Multi.A.fit</th><td>70</td><td>NA</td><td>NA</td><td>140.8900</td><td>      NA</td><td>NA</td><td>NA</td><td>       NA</td></tr>\n",
       "\t<tr><th scope=row>Sat_Multi.B.fit</th><td>77</td><td>NA</td><td>NA</td><td>144.4262</td><td>3.536183</td><td> 0</td><td> 7</td><td>0.8313782</td></tr>\n",
       "</tbody>\n",
       "</table>\n"
      ],
      "text/latex": [
       "A anova: 2 × 8\n",
       "\\begin{tabular}{r|llllllll}\n",
       "  & Df & AIC & BIC & Chisq & Chisq diff & RMSEA & Df diff & Pr(>Chisq)\\\\\n",
       "  & <int> & <lgl> & <lgl> & <dbl> & <dbl> & <dbl> & <int> & <dbl>\\\\\n",
       "\\hline\n",
       "\tSat\\_Multi.A.fit & 70 & NA & NA & 140.8900 &       NA & NA & NA &        NA\\\\\n",
       "\tSat\\_Multi.B.fit & 77 & NA & NA & 144.4262 & 3.536183 &  0 &  7 & 0.8313782\\\\\n",
       "\\end{tabular}\n"
      ],
      "text/markdown": [
       "\n",
       "A anova: 2 × 8\n",
       "\n",
       "| <!--/--> | Df &lt;int&gt; | AIC &lt;lgl&gt; | BIC &lt;lgl&gt; | Chisq &lt;dbl&gt; | Chisq diff &lt;dbl&gt; | RMSEA &lt;dbl&gt; | Df diff &lt;int&gt; | Pr(&gt;Chisq) &lt;dbl&gt; |\n",
       "|---|---|---|---|---|---|---|---|---|\n",
       "| Sat_Multi.A.fit | 70 | NA | NA | 140.8900 |       NA | NA | NA |        NA |\n",
       "| Sat_Multi.B.fit | 77 | NA | NA | 144.4262 | 3.536183 |  0 |  7 | 0.8313782 |\n",
       "\n"
      ],
      "text/plain": [
       "                Df AIC BIC Chisq    Chisq diff RMSEA Df diff Pr(>Chisq)\n",
       "Sat_Multi.A.fit 70 NA  NA  140.8900       NA   NA    NA             NA \n",
       "Sat_Multi.B.fit 77 NA  NA  144.4262 3.536183    0     7      0.8313782 "
      ]
     },
     "metadata": {},
     "output_type": "display_data"
    }
   ],
   "source": [
    "anova(Sat_Multi.B.fit, Sat_Multi.A.fit)"
   ]
  },
  {
   "cell_type": "markdown",
   "id": "02f5396d",
   "metadata": {},
   "source": [
    "\n",
    "| 구분 | $\\chi^2$ | df | p-값 | NFI | IFI | RFI | TLI |\n",
    "| - | - | - | - | - | - | - | - | \n",
    "| 구조계수 제약모형 | 144.426 | 77 | - | 0.849 | 0.923 | 0.784 | 0.886 |\n",
    "| 비제약모형 (기본모형) | 140.890 | 70 | - | 0.853 | 0.920 | 0.769 | 0.869 |\n",
    "| | \n",
    "| 차이 ($\\Delta$) | 3.536 | 7 | 0.831 | -0.004 | 0.003 | 0.015 | 0.017 |\n",
    "\n",
    "<br>\n",
    "\n",
    "- 두 모형의 $\\chi^2$값에 대한 차이는 3.536이며, 자유도의 차이는 7\n",
    "- **이에 대응하는 p-값은 0.831로서 통계적으로 유의하지 않음 \n",
    "- 주요 증분 적합도 지수들의 차이도 매우 작음\n",
    "\n",
    "#### 측정계수 제약모형을 채택 $\\rightarrow$ 각 집단에서 잠재변수의 의미가 동일"
   ]
  },
  {
   "cell_type": "markdown",
   "id": "6a63d112",
   "metadata": {},
   "source": [
    "<br>\n",
    "\n",
    "- 측정모형의 계수들은 두 집단에서 같게 추정"
   ]
  },
  {
   "cell_type": "code",
   "execution_count": 82,
   "id": "d00b848a",
   "metadata": {},
   "outputs": [
    {
     "data": {
      "text/html": [
       "<table class=\"dataframe\">\n",
       "<caption>A data.frame: 22 × 14</caption>\n",
       "<thead>\n",
       "\t<tr><th scope=col>lhs</th><th scope=col>op</th><th scope=col>rhs</th><th scope=col>block</th><th scope=col>group</th><th scope=col>label</th><th scope=col>exo</th><th scope=col>est</th><th scope=col>se</th><th scope=col>z</th><th scope=col>pvalue</th><th scope=col>std.lv</th><th scope=col>std.all</th><th scope=col>std.nox</th></tr>\n",
       "\t<tr><th scope=col>&lt;chr&gt;</th><th scope=col>&lt;chr&gt;</th><th scope=col>&lt;chr&gt;</th><th scope=col>&lt;int&gt;</th><th scope=col>&lt;int&gt;</th><th scope=col>&lt;chr&gt;</th><th scope=col>&lt;int&gt;</th><th scope=col>&lt;dbl&gt;</th><th scope=col>&lt;dbl&gt;</th><th scope=col>&lt;dbl&gt;</th><th scope=col>&lt;dbl&gt;</th><th scope=col>&lt;dbl&gt;</th><th scope=col>&lt;dbl&gt;</th><th scope=col>&lt;dbl&gt;</th></tr>\n",
       "</thead>\n",
       "<tbody>\n",
       "\t<tr><td>Expect   </td><td>=~</td><td>f1_1</td><td>1</td><td>1</td><td>     </td><td>0</td><td>1.0000000</td><td>0.00000000</td><td>      NA</td><td>NA</td><td>0.11963333</td><td>0.7782990</td><td>0.7782990</td></tr>\n",
       "\t<tr><td>Expect   </td><td>=~</td><td>f1_2</td><td>1</td><td>1</td><td>.p2. </td><td>0</td><td>0.9475070</td><td>0.04945828</td><td>19.15770</td><td> 0</td><td>0.11335342</td><td>0.7847356</td><td>0.7847356</td></tr>\n",
       "\t<tr><td>Expect   </td><td>=~</td><td>f1_3</td><td>1</td><td>1</td><td>.p3. </td><td>0</td><td>0.8302732</td><td>0.04997496</td><td>16.61378</td><td> 0</td><td>0.09932834</td><td>0.6316569</td><td>0.6316569</td></tr>\n",
       "\t<tr><td>Quality  </td><td>=~</td><td>f2_1</td><td>1</td><td>1</td><td>     </td><td>0</td><td>1.0000000</td><td>0.00000000</td><td>      NA</td><td>NA</td><td>0.15955760</td><td>0.8906698</td><td>0.8906698</td></tr>\n",
       "\t<tr><td>Quality  </td><td>=~</td><td>f2_2</td><td>1</td><td>1</td><td>.p5. </td><td>0</td><td>0.9902009</td><td>0.03398779</td><td>29.13402</td><td> 0</td><td>0.15799408</td><td>0.8744775</td><td>0.8744775</td></tr>\n",
       "\t<tr><td>Quality  </td><td>=~</td><td>f2_3</td><td>1</td><td>1</td><td>.p6. </td><td>0</td><td>0.7301155</td><td>0.04123754</td><td>17.70512</td><td> 0</td><td>0.11649548</td><td>0.6265661</td><td>0.6265661</td></tr>\n",
       "\t<tr><td>Value    </td><td>=~</td><td>f3_1</td><td>1</td><td>1</td><td>     </td><td>0</td><td>1.0000000</td><td>0.00000000</td><td>      NA</td><td>NA</td><td>0.13695773</td><td>0.7750566</td><td>0.7750566</td></tr>\n",
       "\t<tr><td>Value    </td><td>=~</td><td>f3_2</td><td>1</td><td>1</td><td>.p8. </td><td>0</td><td>1.1055229</td><td>0.05057581</td><td>21.85873</td><td> 0</td><td>0.15140991</td><td>0.9722237</td><td>0.9722237</td></tr>\n",
       "\t<tr><td>Satisfact</td><td>=~</td><td>f4_1</td><td>1</td><td>1</td><td>     </td><td>0</td><td>1.0000000</td><td>0.00000000</td><td>      NA</td><td>NA</td><td>0.14688114</td><td>0.8958579</td><td>0.8958579</td></tr>\n",
       "\t<tr><td>Satisfact</td><td>=~</td><td>f4_2</td><td>1</td><td>1</td><td>.p10.</td><td>0</td><td>1.0142924</td><td>0.02774877</td><td>36.55270</td><td> 0</td><td>0.14898043</td><td>0.8856513</td><td>0.8856513</td></tr>\n",
       "\t<tr><td>Satisfact</td><td>=~</td><td>f4_3</td><td>1</td><td>1</td><td>.p11.</td><td>0</td><td>0.9877737</td><td>0.02789217</td><td>35.41401</td><td> 0</td><td>0.14508533</td><td>0.8599548</td><td>0.8599548</td></tr>\n",
       "\t<tr><td>Expect   </td><td>=~</td><td>f1_1</td><td>2</td><td>2</td><td>     </td><td>0</td><td>1.0000000</td><td>0.00000000</td><td>      NA</td><td>NA</td><td>0.11747523</td><td>0.8636847</td><td>0.8636847</td></tr>\n",
       "\t<tr><td>Expect   </td><td>=~</td><td>f1_2</td><td>2</td><td>2</td><td>.p2. </td><td>0</td><td>0.9475070</td><td>0.04945828</td><td>19.15770</td><td> 0</td><td>0.11130860</td><td>0.8357817</td><td>0.8357817</td></tr>\n",
       "\t<tr><td>Expect   </td><td>=~</td><td>f1_3</td><td>2</td><td>2</td><td>.p3. </td><td>0</td><td>0.8302732</td><td>0.04997496</td><td>16.61378</td><td> 0</td><td>0.09753653</td><td>0.7047798</td><td>0.7047798</td></tr>\n",
       "\t<tr><td>Quality  </td><td>=~</td><td>f2_1</td><td>2</td><td>2</td><td>     </td><td>0</td><td>1.0000000</td><td>0.00000000</td><td>      NA</td><td>NA</td><td>0.13491132</td><td>0.8825841</td><td>0.8825841</td></tr>\n",
       "\t<tr><td>Quality  </td><td>=~</td><td>f2_2</td><td>2</td><td>2</td><td>.p5. </td><td>0</td><td>0.9902009</td><td>0.03398779</td><td>29.13402</td><td> 0</td><td>0.13358932</td><td>0.8741276</td><td>0.8741276</td></tr>\n",
       "\t<tr><td>Quality  </td><td>=~</td><td>f2_3</td><td>2</td><td>2</td><td>.p6. </td><td>0</td><td>0.7301155</td><td>0.04123754</td><td>17.70512</td><td> 0</td><td>0.09850085</td><td>0.6616708</td><td>0.6616708</td></tr>\n",
       "\t<tr><td>Value    </td><td>=~</td><td>f3_1</td><td>2</td><td>2</td><td>     </td><td>0</td><td>1.0000000</td><td>0.00000000</td><td>      NA</td><td>NA</td><td>0.12435779</td><td>0.7339402</td><td>0.7339402</td></tr>\n",
       "\t<tr><td>Value    </td><td>=~</td><td>f3_2</td><td>2</td><td>2</td><td>.p8. </td><td>0</td><td>1.1055229</td><td>0.05057581</td><td>21.85873</td><td> 0</td><td>0.13748039</td><td>0.9430811</td><td>0.9430811</td></tr>\n",
       "\t<tr><td>Satisfact</td><td>=~</td><td>f4_1</td><td>2</td><td>2</td><td>     </td><td>0</td><td>1.0000000</td><td>0.00000000</td><td>      NA</td><td>NA</td><td>0.12724295</td><td>0.9053612</td><td>0.9053612</td></tr>\n",
       "\t<tr><td>Satisfact</td><td>=~</td><td>f4_2</td><td>2</td><td>2</td><td>.p10.</td><td>0</td><td>1.0142924</td><td>0.02774877</td><td>36.55270</td><td> 0</td><td>0.12906156</td><td>0.8504125</td><td>0.8504125</td></tr>\n",
       "\t<tr><td>Satisfact</td><td>=~</td><td>f4_3</td><td>2</td><td>2</td><td>.p11.</td><td>0</td><td>0.9877737</td><td>0.02789217</td><td>35.41401</td><td> 0</td><td>0.12568723</td><td>0.8609313</td><td>0.8609313</td></tr>\n",
       "</tbody>\n",
       "</table>\n"
      ],
      "text/latex": [
       "A data.frame: 22 × 14\n",
       "\\begin{tabular}{llllllllllllll}\n",
       " lhs & op & rhs & block & group & label & exo & est & se & z & pvalue & std.lv & std.all & std.nox\\\\\n",
       " <chr> & <chr> & <chr> & <int> & <int> & <chr> & <int> & <dbl> & <dbl> & <dbl> & <dbl> & <dbl> & <dbl> & <dbl>\\\\\n",
       "\\hline\n",
       "\t Expect    & =\\textasciitilde{} & f1\\_1 & 1 & 1 &       & 0 & 1.0000000 & 0.00000000 &       NA & NA & 0.11963333 & 0.7782990 & 0.7782990\\\\\n",
       "\t Expect    & =\\textasciitilde{} & f1\\_2 & 1 & 1 & .p2.  & 0 & 0.9475070 & 0.04945828 & 19.15770 &  0 & 0.11335342 & 0.7847356 & 0.7847356\\\\\n",
       "\t Expect    & =\\textasciitilde{} & f1\\_3 & 1 & 1 & .p3.  & 0 & 0.8302732 & 0.04997496 & 16.61378 &  0 & 0.09932834 & 0.6316569 & 0.6316569\\\\\n",
       "\t Quality   & =\\textasciitilde{} & f2\\_1 & 1 & 1 &       & 0 & 1.0000000 & 0.00000000 &       NA & NA & 0.15955760 & 0.8906698 & 0.8906698\\\\\n",
       "\t Quality   & =\\textasciitilde{} & f2\\_2 & 1 & 1 & .p5.  & 0 & 0.9902009 & 0.03398779 & 29.13402 &  0 & 0.15799408 & 0.8744775 & 0.8744775\\\\\n",
       "\t Quality   & =\\textasciitilde{} & f2\\_3 & 1 & 1 & .p6.  & 0 & 0.7301155 & 0.04123754 & 17.70512 &  0 & 0.11649548 & 0.6265661 & 0.6265661\\\\\n",
       "\t Value     & =\\textasciitilde{} & f3\\_1 & 1 & 1 &       & 0 & 1.0000000 & 0.00000000 &       NA & NA & 0.13695773 & 0.7750566 & 0.7750566\\\\\n",
       "\t Value     & =\\textasciitilde{} & f3\\_2 & 1 & 1 & .p8.  & 0 & 1.1055229 & 0.05057581 & 21.85873 &  0 & 0.15140991 & 0.9722237 & 0.9722237\\\\\n",
       "\t Satisfact & =\\textasciitilde{} & f4\\_1 & 1 & 1 &       & 0 & 1.0000000 & 0.00000000 &       NA & NA & 0.14688114 & 0.8958579 & 0.8958579\\\\\n",
       "\t Satisfact & =\\textasciitilde{} & f4\\_2 & 1 & 1 & .p10. & 0 & 1.0142924 & 0.02774877 & 36.55270 &  0 & 0.14898043 & 0.8856513 & 0.8856513\\\\\n",
       "\t Satisfact & =\\textasciitilde{} & f4\\_3 & 1 & 1 & .p11. & 0 & 0.9877737 & 0.02789217 & 35.41401 &  0 & 0.14508533 & 0.8599548 & 0.8599548\\\\\n",
       "\t Expect    & =\\textasciitilde{} & f1\\_1 & 2 & 2 &       & 0 & 1.0000000 & 0.00000000 &       NA & NA & 0.11747523 & 0.8636847 & 0.8636847\\\\\n",
       "\t Expect    & =\\textasciitilde{} & f1\\_2 & 2 & 2 & .p2.  & 0 & 0.9475070 & 0.04945828 & 19.15770 &  0 & 0.11130860 & 0.8357817 & 0.8357817\\\\\n",
       "\t Expect    & =\\textasciitilde{} & f1\\_3 & 2 & 2 & .p3.  & 0 & 0.8302732 & 0.04997496 & 16.61378 &  0 & 0.09753653 & 0.7047798 & 0.7047798\\\\\n",
       "\t Quality   & =\\textasciitilde{} & f2\\_1 & 2 & 2 &       & 0 & 1.0000000 & 0.00000000 &       NA & NA & 0.13491132 & 0.8825841 & 0.8825841\\\\\n",
       "\t Quality   & =\\textasciitilde{} & f2\\_2 & 2 & 2 & .p5.  & 0 & 0.9902009 & 0.03398779 & 29.13402 &  0 & 0.13358932 & 0.8741276 & 0.8741276\\\\\n",
       "\t Quality   & =\\textasciitilde{} & f2\\_3 & 2 & 2 & .p6.  & 0 & 0.7301155 & 0.04123754 & 17.70512 &  0 & 0.09850085 & 0.6616708 & 0.6616708\\\\\n",
       "\t Value     & =\\textasciitilde{} & f3\\_1 & 2 & 2 &       & 0 & 1.0000000 & 0.00000000 &       NA & NA & 0.12435779 & 0.7339402 & 0.7339402\\\\\n",
       "\t Value     & =\\textasciitilde{} & f3\\_2 & 2 & 2 & .p8.  & 0 & 1.1055229 & 0.05057581 & 21.85873 &  0 & 0.13748039 & 0.9430811 & 0.9430811\\\\\n",
       "\t Satisfact & =\\textasciitilde{} & f4\\_1 & 2 & 2 &       & 0 & 1.0000000 & 0.00000000 &       NA & NA & 0.12724295 & 0.9053612 & 0.9053612\\\\\n",
       "\t Satisfact & =\\textasciitilde{} & f4\\_2 & 2 & 2 & .p10. & 0 & 1.0142924 & 0.02774877 & 36.55270 &  0 & 0.12906156 & 0.8504125 & 0.8504125\\\\\n",
       "\t Satisfact & =\\textasciitilde{} & f4\\_3 & 2 & 2 & .p11. & 0 & 0.9877737 & 0.02789217 & 35.41401 &  0 & 0.12568723 & 0.8609313 & 0.8609313\\\\\n",
       "\\end{tabular}\n"
      ],
      "text/markdown": [
       "\n",
       "A data.frame: 22 × 14\n",
       "\n",
       "| lhs &lt;chr&gt; | op &lt;chr&gt; | rhs &lt;chr&gt; | block &lt;int&gt; | group &lt;int&gt; | label &lt;chr&gt; | exo &lt;int&gt; | est &lt;dbl&gt; | se &lt;dbl&gt; | z &lt;dbl&gt; | pvalue &lt;dbl&gt; | std.lv &lt;dbl&gt; | std.all &lt;dbl&gt; | std.nox &lt;dbl&gt; |\n",
       "|---|---|---|---|---|---|---|---|---|---|---|---|---|---|\n",
       "| Expect    | =~ | f1_1 | 1 | 1 | <!----> | 0 | 1.0000000 | 0.00000000 |       NA | NA | 0.11963333 | 0.7782990 | 0.7782990 |\n",
       "| Expect    | =~ | f1_2 | 1 | 1 | .p2.  | 0 | 0.9475070 | 0.04945828 | 19.15770 |  0 | 0.11335342 | 0.7847356 | 0.7847356 |\n",
       "| Expect    | =~ | f1_3 | 1 | 1 | .p3.  | 0 | 0.8302732 | 0.04997496 | 16.61378 |  0 | 0.09932834 | 0.6316569 | 0.6316569 |\n",
       "| Quality   | =~ | f2_1 | 1 | 1 | <!----> | 0 | 1.0000000 | 0.00000000 |       NA | NA | 0.15955760 | 0.8906698 | 0.8906698 |\n",
       "| Quality   | =~ | f2_2 | 1 | 1 | .p5.  | 0 | 0.9902009 | 0.03398779 | 29.13402 |  0 | 0.15799408 | 0.8744775 | 0.8744775 |\n",
       "| Quality   | =~ | f2_3 | 1 | 1 | .p6.  | 0 | 0.7301155 | 0.04123754 | 17.70512 |  0 | 0.11649548 | 0.6265661 | 0.6265661 |\n",
       "| Value     | =~ | f3_1 | 1 | 1 | <!----> | 0 | 1.0000000 | 0.00000000 |       NA | NA | 0.13695773 | 0.7750566 | 0.7750566 |\n",
       "| Value     | =~ | f3_2 | 1 | 1 | .p8.  | 0 | 1.1055229 | 0.05057581 | 21.85873 |  0 | 0.15140991 | 0.9722237 | 0.9722237 |\n",
       "| Satisfact | =~ | f4_1 | 1 | 1 | <!----> | 0 | 1.0000000 | 0.00000000 |       NA | NA | 0.14688114 | 0.8958579 | 0.8958579 |\n",
       "| Satisfact | =~ | f4_2 | 1 | 1 | .p10. | 0 | 1.0142924 | 0.02774877 | 36.55270 |  0 | 0.14898043 | 0.8856513 | 0.8856513 |\n",
       "| Satisfact | =~ | f4_3 | 1 | 1 | .p11. | 0 | 0.9877737 | 0.02789217 | 35.41401 |  0 | 0.14508533 | 0.8599548 | 0.8599548 |\n",
       "| Expect    | =~ | f1_1 | 2 | 2 | <!----> | 0 | 1.0000000 | 0.00000000 |       NA | NA | 0.11747523 | 0.8636847 | 0.8636847 |\n",
       "| Expect    | =~ | f1_2 | 2 | 2 | .p2.  | 0 | 0.9475070 | 0.04945828 | 19.15770 |  0 | 0.11130860 | 0.8357817 | 0.8357817 |\n",
       "| Expect    | =~ | f1_3 | 2 | 2 | .p3.  | 0 | 0.8302732 | 0.04997496 | 16.61378 |  0 | 0.09753653 | 0.7047798 | 0.7047798 |\n",
       "| Quality   | =~ | f2_1 | 2 | 2 | <!----> | 0 | 1.0000000 | 0.00000000 |       NA | NA | 0.13491132 | 0.8825841 | 0.8825841 |\n",
       "| Quality   | =~ | f2_2 | 2 | 2 | .p5.  | 0 | 0.9902009 | 0.03398779 | 29.13402 |  0 | 0.13358932 | 0.8741276 | 0.8741276 |\n",
       "| Quality   | =~ | f2_3 | 2 | 2 | .p6.  | 0 | 0.7301155 | 0.04123754 | 17.70512 |  0 | 0.09850085 | 0.6616708 | 0.6616708 |\n",
       "| Value     | =~ | f3_1 | 2 | 2 | <!----> | 0 | 1.0000000 | 0.00000000 |       NA | NA | 0.12435779 | 0.7339402 | 0.7339402 |\n",
       "| Value     | =~ | f3_2 | 2 | 2 | .p8.  | 0 | 1.1055229 | 0.05057581 | 21.85873 |  0 | 0.13748039 | 0.9430811 | 0.9430811 |\n",
       "| Satisfact | =~ | f4_1 | 2 | 2 | <!----> | 0 | 1.0000000 | 0.00000000 |       NA | NA | 0.12724295 | 0.9053612 | 0.9053612 |\n",
       "| Satisfact | =~ | f4_2 | 2 | 2 | .p10. | 0 | 1.0142924 | 0.02774877 | 36.55270 |  0 | 0.12906156 | 0.8504125 | 0.8504125 |\n",
       "| Satisfact | =~ | f4_3 | 2 | 2 | .p11. | 0 | 0.9877737 | 0.02789217 | 35.41401 |  0 | 0.12568723 | 0.8609313 | 0.8609313 |\n",
       "\n"
      ],
      "text/plain": [
       "   lhs       op rhs  block group label exo est       se         z        pvalue\n",
       "1  Expect    =~ f1_1 1     1           0   1.0000000 0.00000000       NA NA    \n",
       "2  Expect    =~ f1_2 1     1     .p2.  0   0.9475070 0.04945828 19.15770  0    \n",
       "3  Expect    =~ f1_3 1     1     .p3.  0   0.8302732 0.04997496 16.61378  0    \n",
       "4  Quality   =~ f2_1 1     1           0   1.0000000 0.00000000       NA NA    \n",
       "5  Quality   =~ f2_2 1     1     .p5.  0   0.9902009 0.03398779 29.13402  0    \n",
       "6  Quality   =~ f2_3 1     1     .p6.  0   0.7301155 0.04123754 17.70512  0    \n",
       "7  Value     =~ f3_1 1     1           0   1.0000000 0.00000000       NA NA    \n",
       "8  Value     =~ f3_2 1     1     .p8.  0   1.1055229 0.05057581 21.85873  0    \n",
       "9  Satisfact =~ f4_1 1     1           0   1.0000000 0.00000000       NA NA    \n",
       "10 Satisfact =~ f4_2 1     1     .p10. 0   1.0142924 0.02774877 36.55270  0    \n",
       "11 Satisfact =~ f4_3 1     1     .p11. 0   0.9877737 0.02789217 35.41401  0    \n",
       "12 Expect    =~ f1_1 2     2           0   1.0000000 0.00000000       NA NA    \n",
       "13 Expect    =~ f1_2 2     2     .p2.  0   0.9475070 0.04945828 19.15770  0    \n",
       "14 Expect    =~ f1_3 2     2     .p3.  0   0.8302732 0.04997496 16.61378  0    \n",
       "15 Quality   =~ f2_1 2     2           0   1.0000000 0.00000000       NA NA    \n",
       "16 Quality   =~ f2_2 2     2     .p5.  0   0.9902009 0.03398779 29.13402  0    \n",
       "17 Quality   =~ f2_3 2     2     .p6.  0   0.7301155 0.04123754 17.70512  0    \n",
       "18 Value     =~ f3_1 2     2           0   1.0000000 0.00000000       NA NA    \n",
       "19 Value     =~ f3_2 2     2     .p8.  0   1.1055229 0.05057581 21.85873  0    \n",
       "20 Satisfact =~ f4_1 2     2           0   1.0000000 0.00000000       NA NA    \n",
       "21 Satisfact =~ f4_2 2     2     .p10. 0   1.0142924 0.02774877 36.55270  0    \n",
       "22 Satisfact =~ f4_3 2     2     .p11. 0   0.9877737 0.02789217 35.41401  0    \n",
       "   std.lv     std.all   std.nox  \n",
       "1  0.11963333 0.7782990 0.7782990\n",
       "2  0.11335342 0.7847356 0.7847356\n",
       "3  0.09932834 0.6316569 0.6316569\n",
       "4  0.15955760 0.8906698 0.8906698\n",
       "5  0.15799408 0.8744775 0.8744775\n",
       "6  0.11649548 0.6265661 0.6265661\n",
       "7  0.13695773 0.7750566 0.7750566\n",
       "8  0.15140991 0.9722237 0.9722237\n",
       "9  0.14688114 0.8958579 0.8958579\n",
       "10 0.14898043 0.8856513 0.8856513\n",
       "11 0.14508533 0.8599548 0.8599548\n",
       "12 0.11747523 0.8636847 0.8636847\n",
       "13 0.11130860 0.8357817 0.8357817\n",
       "14 0.09753653 0.7047798 0.7047798\n",
       "15 0.13491132 0.8825841 0.8825841\n",
       "16 0.13358932 0.8741276 0.8741276\n",
       "17 0.09850085 0.6616708 0.6616708\n",
       "18 0.12435779 0.7339402 0.7339402\n",
       "19 0.13748039 0.9430811 0.9430811\n",
       "20 0.12724295 0.9053612 0.9053612\n",
       "21 0.12906156 0.8504125 0.8504125\n",
       "22 0.12568723 0.8609313 0.8609313"
      ]
     },
     "metadata": {},
     "output_type": "display_data"
    }
   ],
   "source": [
    "summary(Sat_Multi.B.fit, fit.measures = TRUE, rsquare = TRUE, standardized = TRUE)$pe %>%\n",
    "    filter(op == \"=~\")"
   ]
  },
  {
   "cell_type": "markdown",
   "id": "1da2c267",
   "metadata": {},
   "source": [
    "<br>\n",
    "\n",
    "\n",
    "- 구조모형의 계수들에 대해서는 집단별로 추정치들이 다름\n"
   ]
  },
  {
   "cell_type": "code",
   "execution_count": 83,
   "id": "7f7a23ac",
   "metadata": {},
   "outputs": [
    {
     "data": {
      "text/html": [
       "<table class=\"dataframe\">\n",
       "<caption>A data.frame: 12 × 14</caption>\n",
       "<thead>\n",
       "\t<tr><th scope=col>lhs</th><th scope=col>op</th><th scope=col>rhs</th><th scope=col>block</th><th scope=col>group</th><th scope=col>label</th><th scope=col>exo</th><th scope=col>est</th><th scope=col>se</th><th scope=col>z</th><th scope=col>pvalue</th><th scope=col>std.lv</th><th scope=col>std.all</th><th scope=col>std.nox</th></tr>\n",
       "\t<tr><th scope=col>&lt;chr&gt;</th><th scope=col>&lt;chr&gt;</th><th scope=col>&lt;chr&gt;</th><th scope=col>&lt;int&gt;</th><th scope=col>&lt;int&gt;</th><th scope=col>&lt;chr&gt;</th><th scope=col>&lt;int&gt;</th><th scope=col>&lt;dbl&gt;</th><th scope=col>&lt;dbl&gt;</th><th scope=col>&lt;dbl&gt;</th><th scope=col>&lt;dbl&gt;</th><th scope=col>&lt;dbl&gt;</th><th scope=col>&lt;dbl&gt;</th><th scope=col>&lt;dbl&gt;</th></tr>\n",
       "</thead>\n",
       "<tbody>\n",
       "\t<tr><td>Quality  </td><td>~</td><td>Expect </td><td>1</td><td>1</td><td></td><td>0</td><td> 0.658115369</td><td>0.07029749</td><td> 9.36186196</td><td>0.000000e+00</td><td> 0.493442716</td><td> 0.493442716</td><td> 0.493442716</td></tr>\n",
       "\t<tr><td>Value    </td><td>~</td><td>Expect </td><td>1</td><td>1</td><td></td><td>0</td><td> 0.065803510</td><td>0.05464627</td><td> 1.20417207</td><td>2.285231e-01</td><td> 0.057479730</td><td> 0.057479730</td><td> 0.057479730</td></tr>\n",
       "\t<tr><td>Value    </td><td>~</td><td>Quality</td><td>1</td><td>1</td><td></td><td>0</td><td> 0.556987678</td><td>0.04838391</td><td>11.51183743</td><td>0.000000e+00</td><td> 0.648898147</td><td> 0.648898147</td><td> 0.648898147</td></tr>\n",
       "\t<tr><td>Satisfact</td><td>~</td><td>Expect </td><td>1</td><td>1</td><td></td><td>0</td><td> 0.022635897</td><td>0.05015193</td><td> 0.45134650</td><td>6.517398e-01</td><td> 0.018436729</td><td> 0.018436729</td><td> 0.018436729</td></tr>\n",
       "\t<tr><td>Satisfact</td><td>~</td><td>Quality</td><td>1</td><td>1</td><td></td><td>0</td><td> 0.620771550</td><td>0.05974067</td><td>10.39110516</td><td>0.000000e+00</td><td> 0.674346716</td><td> 0.674346716</td><td> 0.674346716</td></tr>\n",
       "\t<tr><td>Satisfact</td><td>~</td><td>Value  </td><td>1</td><td>1</td><td></td><td>0</td><td> 0.327219119</td><td>0.04927584</td><td> 6.64055942</td><td>3.124945e-11</td><td> 0.305111914</td><td> 0.305111914</td><td> 0.305111914</td></tr>\n",
       "\t<tr><td>Quality  </td><td>~</td><td>Expect </td><td>2</td><td>2</td><td></td><td>0</td><td> 0.748328443</td><td>0.06619352</td><td>11.30516147</td><td>0.000000e+00</td><td> 0.651613606</td><td> 0.651613606</td><td> 0.651613606</td></tr>\n",
       "\t<tr><td>Value    </td><td>~</td><td>Expect </td><td>2</td><td>2</td><td></td><td>0</td><td>-0.008250962</td><td>0.08346913</td><td>-0.09885047</td><td>9.212570e-01</td><td>-0.007794314</td><td>-0.007794314</td><td>-0.007794314</td></tr>\n",
       "\t<tr><td>Value    </td><td>~</td><td>Quality</td><td>2</td><td>2</td><td></td><td>0</td><td> 0.749805167</td><td>0.10136345</td><td> 7.39719467</td><td>1.389999e-13</td><td> 0.813436805</td><td> 0.813436805</td><td> 0.813436805</td></tr>\n",
       "\t<tr><td>Satisfact</td><td>~</td><td>Expect </td><td>2</td><td>2</td><td></td><td>0</td><td> 0.088648350</td><td>0.06153862</td><td> 1.44053197</td><td>1.497170e-01</td><td> 0.081843318</td><td> 0.081843318</td><td> 0.081843318</td></tr>\n",
       "\t<tr><td>Satisfact</td><td>~</td><td>Quality</td><td>2</td><td>2</td><td></td><td>0</td><td> 0.537845561</td><td>0.11480696</td><td> 4.68478177</td><td>2.802584e-06</td><td> 0.570259156</td><td> 0.570259156</td><td> 0.570259156</td></tr>\n",
       "\t<tr><td>Satisfact</td><td>~</td><td>Value  </td><td>2</td><td>2</td><td></td><td>0</td><td> 0.362579695</td><td>0.10680973</td><td> 3.39463163</td><td>6.872100e-04</td><td> 0.354358430</td><td> 0.354358430</td><td> 0.354358430</td></tr>\n",
       "</tbody>\n",
       "</table>\n"
      ],
      "text/latex": [
       "A data.frame: 12 × 14\n",
       "\\begin{tabular}{llllllllllllll}\n",
       " lhs & op & rhs & block & group & label & exo & est & se & z & pvalue & std.lv & std.all & std.nox\\\\\n",
       " <chr> & <chr> & <chr> & <int> & <int> & <chr> & <int> & <dbl> & <dbl> & <dbl> & <dbl> & <dbl> & <dbl> & <dbl>\\\\\n",
       "\\hline\n",
       "\t Quality   & \\textasciitilde{} & Expect  & 1 & 1 &  & 0 &  0.658115369 & 0.07029749 &  9.36186196 & 0.000000e+00 &  0.493442716 &  0.493442716 &  0.493442716\\\\\n",
       "\t Value     & \\textasciitilde{} & Expect  & 1 & 1 &  & 0 &  0.065803510 & 0.05464627 &  1.20417207 & 2.285231e-01 &  0.057479730 &  0.057479730 &  0.057479730\\\\\n",
       "\t Value     & \\textasciitilde{} & Quality & 1 & 1 &  & 0 &  0.556987678 & 0.04838391 & 11.51183743 & 0.000000e+00 &  0.648898147 &  0.648898147 &  0.648898147\\\\\n",
       "\t Satisfact & \\textasciitilde{} & Expect  & 1 & 1 &  & 0 &  0.022635897 & 0.05015193 &  0.45134650 & 6.517398e-01 &  0.018436729 &  0.018436729 &  0.018436729\\\\\n",
       "\t Satisfact & \\textasciitilde{} & Quality & 1 & 1 &  & 0 &  0.620771550 & 0.05974067 & 10.39110516 & 0.000000e+00 &  0.674346716 &  0.674346716 &  0.674346716\\\\\n",
       "\t Satisfact & \\textasciitilde{} & Value   & 1 & 1 &  & 0 &  0.327219119 & 0.04927584 &  6.64055942 & 3.124945e-11 &  0.305111914 &  0.305111914 &  0.305111914\\\\\n",
       "\t Quality   & \\textasciitilde{} & Expect  & 2 & 2 &  & 0 &  0.748328443 & 0.06619352 & 11.30516147 & 0.000000e+00 &  0.651613606 &  0.651613606 &  0.651613606\\\\\n",
       "\t Value     & \\textasciitilde{} & Expect  & 2 & 2 &  & 0 & -0.008250962 & 0.08346913 & -0.09885047 & 9.212570e-01 & -0.007794314 & -0.007794314 & -0.007794314\\\\\n",
       "\t Value     & \\textasciitilde{} & Quality & 2 & 2 &  & 0 &  0.749805167 & 0.10136345 &  7.39719467 & 1.389999e-13 &  0.813436805 &  0.813436805 &  0.813436805\\\\\n",
       "\t Satisfact & \\textasciitilde{} & Expect  & 2 & 2 &  & 0 &  0.088648350 & 0.06153862 &  1.44053197 & 1.497170e-01 &  0.081843318 &  0.081843318 &  0.081843318\\\\\n",
       "\t Satisfact & \\textasciitilde{} & Quality & 2 & 2 &  & 0 &  0.537845561 & 0.11480696 &  4.68478177 & 2.802584e-06 &  0.570259156 &  0.570259156 &  0.570259156\\\\\n",
       "\t Satisfact & \\textasciitilde{} & Value   & 2 & 2 &  & 0 &  0.362579695 & 0.10680973 &  3.39463163 & 6.872100e-04 &  0.354358430 &  0.354358430 &  0.354358430\\\\\n",
       "\\end{tabular}\n"
      ],
      "text/markdown": [
       "\n",
       "A data.frame: 12 × 14\n",
       "\n",
       "| lhs &lt;chr&gt; | op &lt;chr&gt; | rhs &lt;chr&gt; | block &lt;int&gt; | group &lt;int&gt; | label &lt;chr&gt; | exo &lt;int&gt; | est &lt;dbl&gt; | se &lt;dbl&gt; | z &lt;dbl&gt; | pvalue &lt;dbl&gt; | std.lv &lt;dbl&gt; | std.all &lt;dbl&gt; | std.nox &lt;dbl&gt; |\n",
       "|---|---|---|---|---|---|---|---|---|---|---|---|---|---|\n",
       "| Quality   | ~ | Expect  | 1 | 1 | <!----> | 0 |  0.658115369 | 0.07029749 |  9.36186196 | 0.000000e+00 |  0.493442716 |  0.493442716 |  0.493442716 |\n",
       "| Value     | ~ | Expect  | 1 | 1 | <!----> | 0 |  0.065803510 | 0.05464627 |  1.20417207 | 2.285231e-01 |  0.057479730 |  0.057479730 |  0.057479730 |\n",
       "| Value     | ~ | Quality | 1 | 1 | <!----> | 0 |  0.556987678 | 0.04838391 | 11.51183743 | 0.000000e+00 |  0.648898147 |  0.648898147 |  0.648898147 |\n",
       "| Satisfact | ~ | Expect  | 1 | 1 | <!----> | 0 |  0.022635897 | 0.05015193 |  0.45134650 | 6.517398e-01 |  0.018436729 |  0.018436729 |  0.018436729 |\n",
       "| Satisfact | ~ | Quality | 1 | 1 | <!----> | 0 |  0.620771550 | 0.05974067 | 10.39110516 | 0.000000e+00 |  0.674346716 |  0.674346716 |  0.674346716 |\n",
       "| Satisfact | ~ | Value   | 1 | 1 | <!----> | 0 |  0.327219119 | 0.04927584 |  6.64055942 | 3.124945e-11 |  0.305111914 |  0.305111914 |  0.305111914 |\n",
       "| Quality   | ~ | Expect  | 2 | 2 | <!----> | 0 |  0.748328443 | 0.06619352 | 11.30516147 | 0.000000e+00 |  0.651613606 |  0.651613606 |  0.651613606 |\n",
       "| Value     | ~ | Expect  | 2 | 2 | <!----> | 0 | -0.008250962 | 0.08346913 | -0.09885047 | 9.212570e-01 | -0.007794314 | -0.007794314 | -0.007794314 |\n",
       "| Value     | ~ | Quality | 2 | 2 | <!----> | 0 |  0.749805167 | 0.10136345 |  7.39719467 | 1.389999e-13 |  0.813436805 |  0.813436805 |  0.813436805 |\n",
       "| Satisfact | ~ | Expect  | 2 | 2 | <!----> | 0 |  0.088648350 | 0.06153862 |  1.44053197 | 1.497170e-01 |  0.081843318 |  0.081843318 |  0.081843318 |\n",
       "| Satisfact | ~ | Quality | 2 | 2 | <!----> | 0 |  0.537845561 | 0.11480696 |  4.68478177 | 2.802584e-06 |  0.570259156 |  0.570259156 |  0.570259156 |\n",
       "| Satisfact | ~ | Value   | 2 | 2 | <!----> | 0 |  0.362579695 | 0.10680973 |  3.39463163 | 6.872100e-04 |  0.354358430 |  0.354358430 |  0.354358430 |\n",
       "\n"
      ],
      "text/plain": [
       "   lhs       op rhs     block group label exo est          se        \n",
       "1  Quality   ~  Expect  1     1           0    0.658115369 0.07029749\n",
       "2  Value     ~  Expect  1     1           0    0.065803510 0.05464627\n",
       "3  Value     ~  Quality 1     1           0    0.556987678 0.04838391\n",
       "4  Satisfact ~  Expect  1     1           0    0.022635897 0.05015193\n",
       "5  Satisfact ~  Quality 1     1           0    0.620771550 0.05974067\n",
       "6  Satisfact ~  Value   1     1           0    0.327219119 0.04927584\n",
       "7  Quality   ~  Expect  2     2           0    0.748328443 0.06619352\n",
       "8  Value     ~  Expect  2     2           0   -0.008250962 0.08346913\n",
       "9  Value     ~  Quality 2     2           0    0.749805167 0.10136345\n",
       "10 Satisfact ~  Expect  2     2           0    0.088648350 0.06153862\n",
       "11 Satisfact ~  Quality 2     2           0    0.537845561 0.11480696\n",
       "12 Satisfact ~  Value   2     2           0    0.362579695 0.10680973\n",
       "   z           pvalue       std.lv       std.all      std.nox     \n",
       "1   9.36186196 0.000000e+00  0.493442716  0.493442716  0.493442716\n",
       "2   1.20417207 2.285231e-01  0.057479730  0.057479730  0.057479730\n",
       "3  11.51183743 0.000000e+00  0.648898147  0.648898147  0.648898147\n",
       "4   0.45134650 6.517398e-01  0.018436729  0.018436729  0.018436729\n",
       "5  10.39110516 0.000000e+00  0.674346716  0.674346716  0.674346716\n",
       "6   6.64055942 3.124945e-11  0.305111914  0.305111914  0.305111914\n",
       "7  11.30516147 0.000000e+00  0.651613606  0.651613606  0.651613606\n",
       "8  -0.09885047 9.212570e-01 -0.007794314 -0.007794314 -0.007794314\n",
       "9   7.39719467 1.389999e-13  0.813436805  0.813436805  0.813436805\n",
       "10  1.44053197 1.497170e-01  0.081843318  0.081843318  0.081843318\n",
       "11  4.68478177 2.802584e-06  0.570259156  0.570259156  0.570259156\n",
       "12  3.39463163 6.872100e-04  0.354358430  0.354358430  0.354358430"
      ]
     },
     "metadata": {},
     "output_type": "display_data"
    }
   ],
   "source": [
    "summary(Sat_Multi.B.fit, fit.measures = TRUE, rsquare = TRUE, standardized = TRUE)$pe %>%\n",
    "    filter(op == \"~\")"
   ]
  },
  {
   "cell_type": "markdown",
   "id": "5a2c4bbc",
   "metadata": {},
   "source": [
    "<br>\n",
    "\n",
    "### 구조계수 제약모형에 대한 적합도 평가\n",
    "- **제약모형 : 일부 경로계수 또는 공분산에 대하여 동일성 가정**\n",
    "- **비제약모형 : 집단별 경로계수 및 공분산에 대하여 어떤 동일성 가정도 하지 않은 모형**\n",
    "\n",
    "<br>\n",
    "\n",
    "#### 집단 간 인자적재값들과 회귀계수들이 모두 동일하다는 제약 $\\rightarrow$ `sem()`의 `group.equal`을 `c(\"loadings\", \"regressions\")`로 입력\n"
   ]
  },
  {
   "cell_type": "code",
   "execution_count": 85,
   "id": "26c2c67f",
   "metadata": {},
   "outputs": [
    {
     "name": "stderr",
     "output_type": "stream",
     "text": [
      "Warning message:\n",
      "\"'tidy.numeric' is deprecated.\n",
      "See help(\"Deprecated\")\"\n"
     ]
    },
    {
     "data": {
      "text/html": [
       "<table class=\"dataframe\">\n",
       "<caption>A tibble: 8 × 2</caption>\n",
       "<thead>\n",
       "\t<tr><th scope=col>names</th><th scope=col>x</th></tr>\n",
       "\t<tr><th scope=col>&lt;chr&gt;</th><th scope=col>&lt;lvn.vctr&gt;</th></tr>\n",
       "</thead>\n",
       "<tbody>\n",
       "\t<tr><td>chisq</td><td>151.93975616</td></tr>\n",
       "\t<tr><td>df   </td><td> 83.00000000</td></tr>\n",
       "\t<tr><td>cfi  </td><td>  0.91862723</td></tr>\n",
       "\t<tr><td>tli  </td><td>  0.89215656</td></tr>\n",
       "\t<tr><td>rmsea</td><td>  0.04301032</td></tr>\n",
       "\t<tr><td>srmr </td><td>  0.08872439</td></tr>\n",
       "\t<tr><td>gfi  </td><td>  0.99848476</td></tr>\n",
       "\t<tr><td>agfi </td><td>  0.99718859</td></tr>\n",
       "</tbody>\n",
       "</table>\n"
      ],
      "text/latex": [
       "A tibble: 8 × 2\n",
       "\\begin{tabular}{ll}\n",
       " names & x\\\\\n",
       " <chr> & <lvn.vctr>\\\\\n",
       "\\hline\n",
       "\t chisq & 151.93975616\\\\\n",
       "\t df    &  83.00000000\\\\\n",
       "\t cfi   &   0.91862723\\\\\n",
       "\t tli   &   0.89215656\\\\\n",
       "\t rmsea &   0.04301032\\\\\n",
       "\t srmr  &   0.08872439\\\\\n",
       "\t gfi   &   0.99848476\\\\\n",
       "\t agfi  &   0.99718859\\\\\n",
       "\\end{tabular}\n"
      ],
      "text/markdown": [
       "\n",
       "A tibble: 8 × 2\n",
       "\n",
       "| names &lt;chr&gt; | x &lt;lvn.vctr&gt; |\n",
       "|---|---|\n",
       "| chisq | 151.93975616 |\n",
       "| df    |  83.00000000 |\n",
       "| cfi   |   0.91862723 |\n",
       "| tli   |   0.89215656 |\n",
       "| rmsea |   0.04301032 |\n",
       "| srmr  |   0.08872439 |\n",
       "| gfi   |   0.99848476 |\n",
       "| agfi  |   0.99718859 |\n",
       "\n"
      ],
      "text/plain": [
       "  names x           \n",
       "1 chisq 151.93975616\n",
       "2 df     83.00000000\n",
       "3 cfi     0.91862723\n",
       "4 tli     0.89215656\n",
       "5 rmsea   0.04301032\n",
       "6 srmr    0.08872439\n",
       "7 gfi     0.99848476\n",
       "8 agfi    0.99718859"
      ]
     },
     "metadata": {},
     "output_type": "display_data"
    }
   ],
   "source": [
    "Sat_Multi.C.fit<- sem (Satisfact.B, Satisfact, group = \"Group\", group.equal = c(\"loadings\", \"regressions\"), estimator = \"WLS\")\n",
    "tidy(fitMeasures(Sat_Multi.C.fit)) %>%\n",
    "    filter(names %in% c(\"chisq\", \"df\", \"gfi\", \"agfi\", \"cfi\", \"tli\", \"rmsea\", \"srmr\"))"
   ]
  },
  {
   "cell_type": "code",
   "execution_count": 90,
   "id": "d2e0d3ce",
   "metadata": {},
   "outputs": [
    {
     "data": {
      "text/html": [
       "<table class=\"dataframe\">\n",
       "<caption>A anova: 2 × 8</caption>\n",
       "<thead>\n",
       "\t<tr><th></th><th scope=col>Df</th><th scope=col>AIC</th><th scope=col>BIC</th><th scope=col>Chisq</th><th scope=col>Chisq diff</th><th scope=col>RMSEA</th><th scope=col>Df diff</th><th scope=col>Pr(&gt;Chisq)</th></tr>\n",
       "\t<tr><th></th><th scope=col>&lt;int&gt;</th><th scope=col>&lt;lgl&gt;</th><th scope=col>&lt;lgl&gt;</th><th scope=col>&lt;dbl&gt;</th><th scope=col>&lt;dbl&gt;</th><th scope=col>&lt;dbl&gt;</th><th scope=col>&lt;int&gt;</th><th scope=col>&lt;dbl&gt;</th></tr>\n",
       "</thead>\n",
       "<tbody>\n",
       "\t<tr><th scope=row>Sat_Multi.B.fit</th><td>77</td><td>NA</td><td>NA</td><td>144.4262</td><td>      NA</td><td>        NA</td><td>NA</td><td>       NA</td></tr>\n",
       "\t<tr><th scope=row>Sat_Multi.C.fit</th><td>83</td><td>NA</td><td>NA</td><td>151.9398</td><td>7.513601</td><td>0.02367685</td><td> 6</td><td>0.2759457</td></tr>\n",
       "</tbody>\n",
       "</table>\n"
      ],
      "text/latex": [
       "A anova: 2 × 8\n",
       "\\begin{tabular}{r|llllllll}\n",
       "  & Df & AIC & BIC & Chisq & Chisq diff & RMSEA & Df diff & Pr(>Chisq)\\\\\n",
       "  & <int> & <lgl> & <lgl> & <dbl> & <dbl> & <dbl> & <int> & <dbl>\\\\\n",
       "\\hline\n",
       "\tSat\\_Multi.B.fit & 77 & NA & NA & 144.4262 &       NA &         NA & NA &        NA\\\\\n",
       "\tSat\\_Multi.C.fit & 83 & NA & NA & 151.9398 & 7.513601 & 0.02367685 &  6 & 0.2759457\\\\\n",
       "\\end{tabular}\n"
      ],
      "text/markdown": [
       "\n",
       "A anova: 2 × 8\n",
       "\n",
       "| <!--/--> | Df &lt;int&gt; | AIC &lt;lgl&gt; | BIC &lt;lgl&gt; | Chisq &lt;dbl&gt; | Chisq diff &lt;dbl&gt; | RMSEA &lt;dbl&gt; | Df diff &lt;int&gt; | Pr(&gt;Chisq) &lt;dbl&gt; |\n",
       "|---|---|---|---|---|---|---|---|---|\n",
       "| Sat_Multi.B.fit | 77 | NA | NA | 144.4262 |       NA |         NA | NA |        NA |\n",
       "| Sat_Multi.C.fit | 83 | NA | NA | 151.9398 | 7.513601 | 0.02367685 |  6 | 0.2759457 |\n",
       "\n"
      ],
      "text/plain": [
       "                Df AIC BIC Chisq    Chisq diff RMSEA      Df diff Pr(>Chisq)\n",
       "Sat_Multi.B.fit 77 NA  NA  144.4262       NA           NA NA             NA \n",
       "Sat_Multi.C.fit 83 NA  NA  151.9398 7.513601   0.02367685  6      0.2759457 "
      ]
     },
     "metadata": {},
     "output_type": "display_data"
    }
   ],
   "source": [
    "anova(Sat_Multi.C.fit, Sat_Multi.B.fit)"
   ]
  },
  {
   "cell_type": "markdown",
   "id": "5b52ecb2",
   "metadata": {},
   "source": [
    "<br>\n",
    "\n",
    "- **만약 잠재변수들 간의 인과관계를 나타내는 구조계수들이 두 집단 간에 서로 다르다면, 조절효과가 존재한다는 의미**\n",
    "    - 이 경우, 구조계수 제약모형의 적합도는 좋지 않음\n",
    "    - 측정계수 제약모형과 구조계수 제약모형의 적합도 차이도 큼\n",
    "\n",
    "<br>\n",
    "\n",
    "| 구분 | $\\chi^2$ | df | p-값 | NFI | IFI | RFI | TLI |\n",
    "| - | - | - | - | - | - | - | - | \n",
    "| 측정계수 제약모형 | 151.94 | 83 | - | 0.841 | 0.921 | 0.790 | 0.891 |\n",
    "| 구조계수 제약모형 | 144.426 | 77 | - | 0.849 | 0.923 | 0.784 | 0.886 |\n",
    "| | \n",
    "| 차이 ($\\Delta$) | 7.514 | 6 | 0.276 | -0.008 | -0.002 | 0.006 | 0.005 |\n",
    "\n",
    "<br>\n",
    "\n",
    "- 두 모형의 $\\chi^2$값에 대한 차이는 7.514이며, 자유도의 차이는 6\n",
    "- 이에 대응하는 p-값은 0.276으로서 통계적으로 유의하지 않음 \n",
    "\n",
    "#### 두 모형의 적합도는 서로 다르지 않음 $\\rightarrow$ 측정계수와 구조계수 모두에서 조절효과가 존재하지 않음 $\\rightarrow$ 모든 회귀계수들은 두 집단간에 서로 다르지 않음"
   ]
  },
  {
   "cell_type": "markdown",
   "id": "8d2c53f1",
   "metadata": {},
   "source": [
    "<br>\n",
    "\n",
    "### 개별계수들에 대한 평가\n",
    "\n",
    "<br>\n",
    "\n",
    "**회귀계수 추정치 일부**\n",
    "\n",
    "- **Group A**\n",
    "\n",
    "| 내생변수 | 설명변수 | 추정치 | 표준화추정치 | p-val | SMC | \n",
    "| - | - | - | - | - | - |\n",
    "| Quality | Expect | 0.658 | 0.493 | <.001 | 0.243 | \n",
    "| | \n",
    "| Value | Expect | 0.066 | 0.057 | 0.229 | 0.461 | \n",
    "|  | Quality | 0.557 | 0.649 | <.001 |  | \n",
    "| |\n",
    "| Satisfact | Expect | 0.023 | 0.018 | 0.652 | 0.843 | \n",
    "|  | Quality | 0.621 | 0.674 | <.001 |  | \n",
    "|  | Value | 0.327 | 0.305 | <.001 |  | \n",
    "\n",
    "- **Group B**\n",
    "\n",
    "| 내생변수 | 설명변수 | 추정치 | 표준화추정치 | p-val | SMC | \n",
    "| - | - | - | - | - | - |\n",
    "| Quality | Expect | 0.748 | 0.652 | <.001 | 0.425 | \n",
    "| | \n",
    "| Value | Expect | -0.008 | -0.008 | 0.921 | 0.653 | \n",
    "|  | Quality | 0.750 | 0.813 | <.001 |  | \n",
    "| |\n",
    "| Satisfact | Expect | 0.089 | 0.082 | 0.150 | 0.875 | \n",
    "|  | Quality | 0.538 | 0.570 | <.001 |  | \n",
    "|  | Value | 0.363 | 0.354 | 0.001 |  | \n",
    "\n",
    "- **두 집단 회귀계수 차이**\n",
    "\n",
    "| 내생변수 | 설명변수 | 추정치 | 표준화추정치 | p-val |\n",
    "| - | - | - | - | - | \n",
    "| Quality | Expect | -0.090 | -0.159 | <.350 | \n",
    "| | \n",
    "| Value | Expect | 0.074 | 0.065 | 0.458 |\n",
    "|  | Quality | -0.193 | -0.164 | 0.062 |\n",
    "| |\n",
    "| Value | Expect | -0.082 | -0.074 | 0.409 |\n",
    "|  | Quality | 0.083 | 0.104 | 0.513 |\n",
    "|  | Value | -0.036 | -0.049 | 0.764 |\n",
    "\n",
    "\n",
    "<hr>"
   ]
  },
  {
   "attachments": {
    "7_6.jpg": {
     "image/jpeg": "[encoded data removed]"
    }
   },
   "cell_type": "markdown",
   "id": "97715082",
   "metadata": {},
   "source": [
    "<br>\n",
    "\n",
    "## 07.05. 상호작용 효과를 이용한 조절효과 분석\n",
    "\n",
    "![7_6.jpg](attachment:7_6.jpg)"
   ]
  },
  {
   "cell_type": "markdown",
   "id": "2475143e",
   "metadata": {},
   "source": [
    "$$\\begin{cases}\n",
    "X_2 = \\beta_1 X_1 + \\beta_3 + X_3 + \\beta_{13} X_1 X_3 + \\epsilon_{x_2}\\\\\n",
    "Y = \\gamma_{1}X_1 + \\gamma_2 X_2 + \\gamma_3 X_3 + \\epsilon_y\\\\\n",
    "\\end{cases}$$"
   ]
  },
  {
   "cell_type": "code",
   "execution_count": 92,
   "id": "2745dca7",
   "metadata": {},
   "outputs": [],
   "source": [
    "Interaction <- read.csv(paste0(getwd(), \"/Data/Interaction.csv\"), header = TRUE)\n",
    "Interaction <- Interaction %>% mutate(X1_X3 = X1 * X3)"
   ]
  },
  {
   "cell_type": "code",
   "execution_count": 93,
   "id": "c34d0527",
   "metadata": {},
   "outputs": [
    {
     "data": {
      "image/png": "[encoded data removed]",
      "text/plain": [
       "plot without title"
      ]
     },
     "metadata": {
      "image/png": {
       "height": 420,
       "width": 420
      }
     },
     "output_type": "display_data"
    }
   ],
   "source": [
    "Interaction.A <- \"\n",
    "    # regression\n",
    "    X2 ~ X1 + X3 + X1_X3\n",
    "    Y ~ X1 + X2 + X3\n",
    "\"\n",
    "Interaction.A.fit <- sem(Interaction.A, Interaction)\n",
    "semPaths(Interaction.A.fit, whatLabels = \"std\", style = \"lisrel\", nCharNodes = 0, rotation = 2)"
   ]
  },
  {
   "cell_type": "code",
   "execution_count": 94,
   "id": "6fcb62e6",
   "metadata": {},
   "outputs": [
    {
     "name": "stderr",
     "output_type": "stream",
     "text": [
      "Warning message:\n",
      "\"'tidy.numeric' is deprecated.\n",
      "See help(\"Deprecated\")\"\n"
     ]
    },
    {
     "data": {
      "text/html": [
       "<table class=\"dataframe\">\n",
       "<caption>A tibble: 8 × 2</caption>\n",
       "<thead>\n",
       "\t<tr><th scope=col>names</th><th scope=col>x</th></tr>\n",
       "\t<tr><th scope=col>&lt;chr&gt;</th><th scope=col>&lt;lvn.vctr&gt;</th></tr>\n",
       "</thead>\n",
       "<tbody>\n",
       "\t<tr><td>chisq</td><td>0.484655751</td></tr>\n",
       "\t<tr><td>df   </td><td>1.000000000</td></tr>\n",
       "\t<tr><td>cfi  </td><td>1.000000000</td></tr>\n",
       "\t<tr><td>tli  </td><td>1.018596794</td></tr>\n",
       "\t<tr><td>rmsea</td><td>0.000000000</td></tr>\n",
       "\t<tr><td>srmr </td><td>0.003529478</td></tr>\n",
       "\t<tr><td>gfi  </td><td>0.999414694</td></tr>\n",
       "\t<tr><td>agfi </td><td>0.991220410</td></tr>\n",
       "</tbody>\n",
       "</table>\n"
      ],
      "text/latex": [
       "A tibble: 8 × 2\n",
       "\\begin{tabular}{ll}\n",
       " names & x\\\\\n",
       " <chr> & <lvn.vctr>\\\\\n",
       "\\hline\n",
       "\t chisq & 0.484655751\\\\\n",
       "\t df    & 1.000000000\\\\\n",
       "\t cfi   & 1.000000000\\\\\n",
       "\t tli   & 1.018596794\\\\\n",
       "\t rmsea & 0.000000000\\\\\n",
       "\t srmr  & 0.003529478\\\\\n",
       "\t gfi   & 0.999414694\\\\\n",
       "\t agfi  & 0.991220410\\\\\n",
       "\\end{tabular}\n"
      ],
      "text/markdown": [
       "\n",
       "A tibble: 8 × 2\n",
       "\n",
       "| names &lt;chr&gt; | x &lt;lvn.vctr&gt; |\n",
       "|---|---|\n",
       "| chisq | 0.484655751 |\n",
       "| df    | 1.000000000 |\n",
       "| cfi   | 1.000000000 |\n",
       "| tli   | 1.018596794 |\n",
       "| rmsea | 0.000000000 |\n",
       "| srmr  | 0.003529478 |\n",
       "| gfi   | 0.999414694 |\n",
       "| agfi  | 0.991220410 |\n",
       "\n"
      ],
      "text/plain": [
       "  names x          \n",
       "1 chisq 0.484655751\n",
       "2 df    1.000000000\n",
       "3 cfi   1.000000000\n",
       "4 tli   1.018596794\n",
       "5 rmsea 0.000000000\n",
       "6 srmr  0.003529478\n",
       "7 gfi   0.999414694\n",
       "8 agfi  0.991220410"
      ]
     },
     "metadata": {},
     "output_type": "display_data"
    }
   ],
   "source": [
    "tidy(fitMeasures(Interaction.A.fit)) %>%\n",
    "    filter(names %in% c(\"chisq\", \"df\", \"gfi\", \"agfi\", \"cfi\", \"tli\", \"rmsea\", \"srmr\"))"
   ]
  },
  {
   "cell_type": "code",
   "execution_count": 97,
   "id": "6ef34aec",
   "metadata": {},
   "outputs": [
    {
     "name": "stdout",
     "output_type": "stream",
     "text": [
      "lavaan 0.6.16 ended normally after 1 iteration\n",
      "\n",
      "  Estimator                                         ML\n",
      "  Optimization method                           NLMINB\n",
      "  Number of model parameters                         8\n",
      "\n",
      "  Number of observations                            90\n",
      "\n",
      "Model Test User Model:\n",
      "                                                      \n",
      "  Test statistic                                 0.485\n",
      "  Degrees of freedom                                 1\n",
      "  P-value (Chi-square)                           0.486\n",
      "\n",
      "Model Test Baseline Model:\n",
      "\n",
      "  Test statistic                               200.980\n",
      "  Degrees of freedom                                 7\n",
      "  P-value                                        0.000\n",
      "\n",
      "User Model versus Baseline Model:\n",
      "\n",
      "  Comparative Fit Index (CFI)                    1.000\n",
      "  Tucker-Lewis Index (TLI)                       1.019\n",
      "\n",
      "Loglikelihood and Information Criteria:\n",
      "\n",
      "  Loglikelihood user model (H0)               -456.453\n",
      "  Loglikelihood unrestricted model (H1)       -456.211\n",
      "                                                      \n",
      "  Akaike (AIC)                                 928.906\n",
      "  Bayesian (BIC)                               948.905\n",
      "  Sample-size adjusted Bayesian (SABIC)        923.656\n",
      "\n",
      "Root Mean Square Error of Approximation:\n",
      "\n",
      "  RMSEA                                          0.000\n",
      "  90 Percent confidence interval - lower         0.000\n",
      "  90 Percent confidence interval - upper         0.246\n",
      "  P-value H_0: RMSEA <= 0.050                    0.533\n",
      "  P-value H_0: RMSEA >= 0.080                    0.402\n",
      "\n",
      "Standardized Root Mean Square Residual:\n",
      "\n",
      "  SRMR                                           0.004\n",
      "\n",
      "Parameter Estimates:\n",
      "\n",
      "  Standard errors                             Standard\n",
      "  Information                                 Expected\n",
      "  Information saturated (h1) model          Structured\n",
      "\n",
      "Regressions:\n",
      "                   Estimate   Std.Err  z-value  P(>|z|)   Std.lv   Std.all\n",
      "  X2 ~                                                                    \n",
      "    X1                 1.268    0.109   11.600    0.000     1.268    1.063\n",
      "    X3                 0.248    0.074    3.329    0.001     0.248    0.463\n",
      "    X1_X3             -0.017    0.006   -2.921    0.003    -0.017   -0.518\n",
      "  Y ~                                                                     \n",
      "    X1                 0.761    0.392    1.940    0.052     0.761    0.297\n",
      "    X2                 0.603    0.333    1.807    0.071     0.603    0.281\n",
      "    X3                 0.305    0.093    3.269    0.001     0.305    0.265\n",
      "\n",
      "Variances:\n",
      "                   Estimate   Std.Err  z-value  P(>|z|)   Std.lv   Std.all\n",
      "   .X2                 2.820    0.420    6.708    0.000     2.820    0.213\n",
      "   .Y                 30.901    4.606    6.708    0.000    30.901    0.506\n",
      "\n",
      "R-Square:\n",
      "                   Estimate \n",
      "    X2                 0.787\n",
      "    Y                  0.494\n",
      "\n"
     ]
    }
   ],
   "source": [
    "summary(Interaction.A.fit, fit.measures = T, rsquare = T, standardized = T) %>% print"
   ]
  },
  {
   "cell_type": "markdown",
   "id": "7aa3899a",
   "metadata": {},
   "source": [
    "<br>\n",
    "\n",
    "**상호작용 모형 계수 추정치**\n",
    "\n",
    "| 내생변수 | 설명변수 | 추정치 | 표준화추정치 | p-val | SMC |\n",
    "| - | - | - | - | - | - | \n",
    "| X2 | X1 | 1.268 | 1.063 | <.001 | 0.787 | \n",
    "|  | X3 | 0.248 | 0.463 | <.001 | | \n",
    "|  | X1 * X3 | -0.017 | -0.518 | 0.004 |  | \n",
    "| | \n",
    "| Y | X1 | 0.761 | 0.297 | 0.054 | 0.494 | \n",
    "|  | X1 | 0.603 | 0.281 | 0.072 |  | \n",
    "|  | X1 | 0.305 | 0.265 | 0.001 | | \n",
    "\n",
    "<br>\n",
    "\n",
    "- $X_2 \\leftarrow X_1$의 계수추정치는 1.268이며, 통계적으로 유의 $\\rightarrow$ 설명변수 $X_1$과 내생변수 $X_2$는 양의 인과관계\n",
    "- $X_2 \\leftarrow X1_X3$의 계수추정치는 통계적으로 유의 $\\rightarrow$ 조절효과가 존재\n",
    "    - 상호작용 효과에 대한 부호가 음수이므로, $X_3$이 커질수록, $X_1$과 $X_2$사이의 인과관계의 강도가 작아짐"
   ]
  }
 ],
 "metadata": {
  "kernelspec": {
   "display_name": "R",
   "language": "R",
   "name": "ir"
  },
  "language_info": {
   "codemirror_mode": "r",
   "file_extension": ".r",
   "mimetype": "text/x-r-source",
   "name": "R",
   "pygments_lexer": "r",
   "version": "4.2.2"
  }
 },
 "nbformat": 4,
 "nbformat_minor": 5
}
