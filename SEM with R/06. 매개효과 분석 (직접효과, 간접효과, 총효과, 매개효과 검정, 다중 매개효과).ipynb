{
 "cells": [
  {
   "cell_type": "markdown",
   "id": "93a2ffd4",
   "metadata": {},
   "source": [
    "# 06. 매개효과 분석"
   ]
  },
  {
   "attachments": {
    "6_1-2.jpg": {
     "image/jpeg": "[encoded data removed]"
    }
   },
   "cell_type": "markdown",
   "id": "813127a0",
   "metadata": {},
   "source": [
    "\n",
    "- **매개변수** : 구조방정식모형에서 다른 변수들의 인과관계 사이에 존재하는 변수\n",
    "\n",
    "<br>\n",
    "\n",
    "## 06.01. 직접효과, 간접효과, 총효과\n",
    "- **인과관계 (한방향 화살표)에 해당하는 수치들은 회귀계수이며, 두 변수 사이의 인과관계에 대한 강도**\n",
    "\n",
    "![6_1-2.jpg](attachment:6_1-2.jpg)"
   ]
  },
  {
   "cell_type": "markdown",
   "id": "68433b08",
   "metadata": {},
   "source": [
    "#### 직접효과\n",
    "- **두 변수 사이의 직접적인 인과관계를 나타냄 $\\rightarrow$ 직접효과 (direct effect)**\n",
    "    * Suppo $\\leftarrow$ Age에 해당하는 회귀계수 : 0.057 : Age가 1단위 증가하면 Suppo가 0.057단위 증가함을 의미\n",
    "   \n",
    "<br>\n",
    "\n",
    "#### 매개효과 (mediating effect)\n",
    "- **어떤 원인변수가 매개변수를 통해 결과변수(내생변수)에 영향을 미치는 정도**\n",
    "    - **관련된 경로들에 대한 회귀계수들의 곱으로 계산**\n",
    "\n",
    "        - Age $\\rightarrow$ Defer $\\rightarrow$ Suppo : -0.057 X -0.263 = 0.015\n",
    "    \n",
    "        - Age $\\rightarrow$ Senti :\n",
    "        \n",
    "            - Age $\\rightarrow$ Defer $\\rightarrow$ Senti = -0.055 X -0.227 = 0.012\n",
    "            - Age $\\rightarrow$ Suppo $\\rightarrow$ Senti = 0.057 X 1.064 = 0.061\n",
    "            - Age $\\rightarrow$ Defer $\\rightarrow$ Senti = -0.055 X -0.263 X 1.064 = 0.015\n",
    "\n",
    "<br>\n",
    "\n",
    "#### 간접효과 (in-direct effect)\n",
    "- **관련된 매개효과의 합**\n",
    "    -  Age $\\rightarrow$ Senti의 간접효과 : 0.012 + 0.061 + 0.015 = 0.089\n",
    "\n",
    "<br>\n",
    "\n",
    "#### 총효과 (total effect)\n",
    "- **직접효과와 간접효과를 더함**\n",
    "    - Age $\\rightarrow$ Suppo의 총효과 : 0.057 + 0.015 = 0.072\n",
    "   "
   ]
  },
  {
   "attachments": {
    "6_2-2.png": {
     "image/png": "[encoded data removed]"
    }
   },
   "cell_type": "markdown",
   "id": "cb936c4b",
   "metadata": {},
   "source": [
    "<br>\n",
    "\n",
    "## 06.02. 회귀분석을 통한 매개효과 검정\n",
    "\n",
    "![6_2-2.png](attachment:6_2-2.png)"
   ]
  },
  {
   "cell_type": "markdown",
   "id": "ce1bbcb1",
   "metadata": {},
   "source": [
    "#### 0. 설명변수와 종속변수의 인과관계 검토\n",
    "- 설명변수가 종속변수와 연관되어 있는지 검정\n",
    "\n",
    "$$Y = \\alpha+ eX + \\epsilon$$\n",
    "\n",
    "- **가설 $H_0 : e = 0$이 기각되면, 설명변수 X가 종속변수 Y와 연관되어 있는 것으로 결론**\n",
    "\n",
    "<br>\n",
    "\n",
    "#### 1. 설명변수와 매개변수의 인과관계 검토\n",
    "- 설명변수가 매개변수와 연관되어 있는지를 검정\n",
    "\n",
    "$$M = \\alpha_1 + a X + \\zeta_1$$\n",
    "\n",
    "- **가설 $H_0 : a = 0$이 기각되면, 설명변수 X가 매개변수 M과 연관되어 있는 것으로 결론**\n",
    "\n",
    "<br>\n",
    "\n",
    "#### 2. 간접효과에 대한 검정\n",
    "- 설명변수를 통제한 상태에서 매개변수가 반응변수에 영향을 주는 지를 검정\n",
    "\n",
    "$$Y = \\alpha_2 + bM + cX + \\zeta_2$$\n",
    "\n",
    "- **가설 $H_0 : b = 0$이 기각되면, 설명변수 X를 통제한 상태에서 매개변수 M이 반응변수 Y에 영향을 미치는 것으로 결론**\n",
    "\n",
    "    **또한, $d=ab$라고 할 때, 가설 $H_0:d=0$이 기각되면 매개효과가 있는 것으로 결론**\n",
    "\n",
    "<br>\n",
    "\n",
    "\n",
    "#### 3. 직접효과에 대한 검정\n",
    "- 매개변수가 설명변수와 반응변수의 관계를 완전매개하는지를 검정\n",
    "\n",
    "$$Y = \\alpha_2 + bM + cX + \\zeta_2$$\n",
    "\n",
    "- **가설 $H_0 : c = 0$이 기각되면, '부분매개'효과가 있다고 결론, 그렇지 않으면 '완전매개'효과가 있다고 결론**"
   ]
  },
  {
   "cell_type": "markdown",
   "id": "18943d9c",
   "metadata": {},
   "source": [
    "<br>\n",
    "\n",
    "#### 불일치매개 (inconsistent mediation)\n",
    "- **직접효과 c와 간접효과 d의 부호가 다를 경우**\n",
    "    - c와 d의 크기가 상쇄되어 총효과 $e\\;(=c+d)$가 매우 작을 수 있음\n",
    "    - 이런 경우, 매개변수는 억제변수 (supressor variable)의 역할을 수행"
   ]
  },
  {
   "cell_type": "markdown",
   "id": "9aa9b31f",
   "metadata": {},
   "source": [
    "<br>\n",
    "\n",
    "### 회귀분석을 이용한 매개효과 검정"
   ]
  },
  {
   "cell_type": "code",
   "execution_count": 2,
   "id": "d811c9a6",
   "metadata": {},
   "outputs": [],
   "source": [
    "library(lavaan)\n",
    "library(sem)\n",
    "library(semPlot)\n",
    "library(semptools)\n",
    "library(psych)\n",
    "library(tidyverse)"
   ]
  },
  {
   "cell_type": "code",
   "execution_count": 3,
   "id": "0db5898b",
   "metadata": {
    "scrolled": true
   },
   "outputs": [
    {
     "name": "stderr",
     "output_type": "stream",
     "text": [
      "Warning message:\n",
      "\"'sem' namespace cannot be unloaded:\n",
      "  namespace 'sem' is imported by 'semPlot' so cannot be unloaded\"\n"
     ]
    }
   ],
   "source": [
    "detach(\"package:sem\",unload=TRUE)"
   ]
  },
  {
   "cell_type": "code",
   "execution_count": 4,
   "id": "a07ae278",
   "metadata": {},
   "outputs": [
    {
     "data": {
      "text/html": [
       "<table class=\"dataframe\">\n",
       "<caption>A data.frame: 6 × 3</caption>\n",
       "<thead>\n",
       "\t<tr><th></th><th scope=col>X</th><th scope=col>M</th><th scope=col>Y</th></tr>\n",
       "\t<tr><th></th><th scope=col>&lt;int&gt;</th><th scope=col>&lt;int&gt;</th><th scope=col>&lt;int&gt;</th></tr>\n",
       "</thead>\n",
       "<tbody>\n",
       "\t<tr><th scope=row>1</th><td>55</td><td>49</td><td>44</td></tr>\n",
       "\t<tr><th scope=row>2</th><td>53</td><td>45</td><td>42</td></tr>\n",
       "\t<tr><th scope=row>3</th><td>54</td><td>51</td><td>54</td></tr>\n",
       "\t<tr><th scope=row>4</th><td>48</td><td>48</td><td>44</td></tr>\n",
       "\t<tr><th scope=row>5</th><td>51</td><td>54</td><td>52</td></tr>\n",
       "\t<tr><th scope=row>6</th><td>53</td><td>46</td><td>44</td></tr>\n",
       "</tbody>\n",
       "</table>\n"
      ],
      "text/latex": [
       "A data.frame: 6 × 3\n",
       "\\begin{tabular}{r|lll}\n",
       "  & X & M & Y\\\\\n",
       "  & <int> & <int> & <int>\\\\\n",
       "\\hline\n",
       "\t1 & 55 & 49 & 44\\\\\n",
       "\t2 & 53 & 45 & 42\\\\\n",
       "\t3 & 54 & 51 & 54\\\\\n",
       "\t4 & 48 & 48 & 44\\\\\n",
       "\t5 & 51 & 54 & 52\\\\\n",
       "\t6 & 53 & 46 & 44\\\\\n",
       "\\end{tabular}\n"
      ],
      "text/markdown": [
       "\n",
       "A data.frame: 6 × 3\n",
       "\n",
       "| <!--/--> | X &lt;int&gt; | M &lt;int&gt; | Y &lt;int&gt; |\n",
       "|---|---|---|---|\n",
       "| 1 | 55 | 49 | 44 |\n",
       "| 2 | 53 | 45 | 42 |\n",
       "| 3 | 54 | 51 | 54 |\n",
       "| 4 | 48 | 48 | 44 |\n",
       "| 5 | 51 | 54 | 52 |\n",
       "| 6 | 53 | 46 | 44 |\n",
       "\n"
      ],
      "text/plain": [
       "  X  M  Y \n",
       "1 55 49 44\n",
       "2 53 45 42\n",
       "3 54 51 54\n",
       "4 48 48 44\n",
       "5 51 54 52\n",
       "6 53 46 44"
      ]
     },
     "metadata": {},
     "output_type": "display_data"
    }
   ],
   "source": [
    "Mediator <- read.csv(paste0(getwd(), \"/Data/Mediator.csv\"), header = TRUE)\n",
    "Mediator %>% head"
   ]
  },
  {
   "cell_type": "code",
   "execution_count": 8,
   "id": "e27064e0",
   "metadata": {},
   "outputs": [],
   "source": [
    "library(lm.beta)\n",
    "library(tidymodels)"
   ]
  },
  {
   "cell_type": "markdown",
   "id": "644079ea",
   "metadata": {},
   "source": [
    "#### 0. 설명변수와 종속변수의 인과관계 검토\n",
    "- Y에 대한 X의 회귀계수는 통계적으로 유의 $\\rightarrow$ 설명변수 X와 종속변수 Y사이에 인과관계 있는 것으로 결론"
   ]
  },
  {
   "cell_type": "code",
   "execution_count": 14,
   "id": "fc9103cc",
   "metadata": {},
   "outputs": [
    {
     "data": {
      "text/html": [
       "<table class=\"dataframe\">\n",
       "<caption>A tibble: 2 × 6</caption>\n",
       "<thead>\n",
       "\t<tr><th scope=col>term</th><th scope=col>estimate</th><th scope=col>std_estimate</th><th scope=col>std.error</th><th scope=col>statistic</th><th scope=col>p.value</th></tr>\n",
       "\t<tr><th scope=col>&lt;chr&gt;</th><th scope=col>&lt;dbl&gt;</th><th scope=col>&lt;dbl&gt;</th><th scope=col>&lt;dbl&gt;</th><th scope=col>&lt;dbl&gt;</th><th scope=col>&lt;dbl&gt;</th></tr>\n",
       "</thead>\n",
       "<tbody>\n",
       "\t<tr><td>(Intercept)</td><td>77.1158525</td><td>        NA</td><td>4.8506479</td><td>15.898052</td><td>1.580490e-35</td></tr>\n",
       "\t<tr><td>X          </td><td>-0.5439071</td><td>-0.3956923</td><td>0.0965368</td><td>-5.634194</td><td>7.110871e-08</td></tr>\n",
       "</tbody>\n",
       "</table>\n"
      ],
      "text/latex": [
       "A tibble: 2 × 6\n",
       "\\begin{tabular}{llllll}\n",
       " term & estimate & std\\_estimate & std.error & statistic & p.value\\\\\n",
       " <chr> & <dbl> & <dbl> & <dbl> & <dbl> & <dbl>\\\\\n",
       "\\hline\n",
       "\t (Intercept) & 77.1158525 &         NA & 4.8506479 & 15.898052 & 1.580490e-35\\\\\n",
       "\t X           & -0.5439071 & -0.3956923 & 0.0965368 & -5.634194 & 7.110871e-08\\\\\n",
       "\\end{tabular}\n"
      ],
      "text/markdown": [
       "\n",
       "A tibble: 2 × 6\n",
       "\n",
       "| term &lt;chr&gt; | estimate &lt;dbl&gt; | std_estimate &lt;dbl&gt; | std.error &lt;dbl&gt; | statistic &lt;dbl&gt; | p.value &lt;dbl&gt; |\n",
       "|---|---|---|---|---|---|\n",
       "| (Intercept) | 77.1158525 |         NA | 4.8506479 | 15.898052 | 1.580490e-35 |\n",
       "| X           | -0.5439071 | -0.3956923 | 0.0965368 | -5.634194 | 7.110871e-08 |\n",
       "\n"
      ],
      "text/plain": [
       "  term        estimate   std_estimate std.error statistic p.value     \n",
       "1 (Intercept) 77.1158525         NA   4.8506479 15.898052 1.580490e-35\n",
       "2 X           -0.5439071 -0.3956923   0.0965368 -5.634194 7.110871e-08"
      ]
     },
     "metadata": {},
     "output_type": "display_data"
    }
   ],
   "source": [
    "Mediator.0.fit <- lm(Y ~ X, Mediator)\n",
    "Mediator.0.beta <- lm.beta(Mediator.0.fit)\n",
    "tidy(Mediator.0.beta)"
   ]
  },
  {
   "cell_type": "markdown",
   "id": "65b47aba",
   "metadata": {},
   "source": [
    "<br>\n",
    "\n",
    "#### 1. 설명변수와 매개변수의 인과관계 검토\n",
    "- M에 대한 X의 회귀계수가 통계적으로 유의 $\\rightarrow$ 설명변수 X와 매개변수 M사이에 인과관계가 있는 것으로 결론"
   ]
  },
  {
   "cell_type": "code",
   "execution_count": 30,
   "id": "0b690ace",
   "metadata": {},
   "outputs": [
    {
     "data": {
      "text/html": [
       "<table class=\"dataframe\">\n",
       "<caption>A tibble: 2 × 6</caption>\n",
       "<thead>\n",
       "\t<tr><th scope=col>term</th><th scope=col>estimate</th><th scope=col>std_estimate</th><th scope=col>std.error</th><th scope=col>statistic</th><th scope=col>p.value</th></tr>\n",
       "\t<tr><th scope=col>&lt;chr&gt;</th><th scope=col>&lt;dbl&gt;</th><th scope=col>&lt;dbl&gt;</th><th scope=col>&lt;dbl&gt;</th><th scope=col>&lt;dbl&gt;</th><th scope=col>&lt;dbl&gt;</th></tr>\n",
       "</thead>\n",
       "<tbody>\n",
       "\t<tr><td>(Intercept)</td><td>65.249035</td><td>        NA</td><td>2.72926024</td><td>23.907224</td><td>2.064179e-56</td></tr>\n",
       "\t<tr><td>X          </td><td>-0.301498</td><td>-0.3907283</td><td>0.05431729</td><td>-5.550681</td><td>1.067868e-07</td></tr>\n",
       "</tbody>\n",
       "</table>\n"
      ],
      "text/latex": [
       "A tibble: 2 × 6\n",
       "\\begin{tabular}{llllll}\n",
       " term & estimate & std\\_estimate & std.error & statistic & p.value\\\\\n",
       " <chr> & <dbl> & <dbl> & <dbl> & <dbl> & <dbl>\\\\\n",
       "\\hline\n",
       "\t (Intercept) & 65.249035 &         NA & 2.72926024 & 23.907224 & 2.064179e-56\\\\\n",
       "\t X           & -0.301498 & -0.3907283 & 0.05431729 & -5.550681 & 1.067868e-07\\\\\n",
       "\\end{tabular}\n"
      ],
      "text/markdown": [
       "\n",
       "A tibble: 2 × 6\n",
       "\n",
       "| term &lt;chr&gt; | estimate &lt;dbl&gt; | std_estimate &lt;dbl&gt; | std.error &lt;dbl&gt; | statistic &lt;dbl&gt; | p.value &lt;dbl&gt; |\n",
       "|---|---|---|---|---|---|\n",
       "| (Intercept) | 65.249035 |         NA | 2.72926024 | 23.907224 | 2.064179e-56 |\n",
       "| X           | -0.301498 | -0.3907283 | 0.05431729 | -5.550681 | 1.067868e-07 |\n",
       "\n"
      ],
      "text/plain": [
       "  term        estimate  std_estimate std.error  statistic p.value     \n",
       "1 (Intercept) 65.249035         NA   2.72926024 23.907224 2.064179e-56\n",
       "2 X           -0.301498 -0.3907283   0.05431729 -5.550681 1.067868e-07"
      ]
     },
     "metadata": {},
     "output_type": "display_data"
    }
   ],
   "source": [
    "Mediator.1.fit <- lm(M ~ X, Mediator)\n",
    "Mediator.1.beta <- lm.beta(Mediator.1.fit)\n",
    "tidy(Mediator.1.beta)"
   ]
  },
  {
   "cell_type": "markdown",
   "id": "7ce9b012",
   "metadata": {},
   "source": [
    "<br>\n",
    "\n",
    "#### 2. 간접효과에 대한 검정\n",
    "- 매개변수 M에 대한 회귀계수는 통계적으로 유의 $\\rightarrow$ 간접효과의 추정치 $\\hat{d} = \\hat{a} \\times \\hat{b} =-0.302 \\times 1.081=-0.326$\n"
   ]
  },
  {
   "cell_type": "code",
   "execution_count": 31,
   "id": "c5a6dacc",
   "metadata": {},
   "outputs": [
    {
     "data": {
      "text/html": [
       "<table class=\"dataframe\">\n",
       "<caption>A tibble: 3 × 6</caption>\n",
       "<thead>\n",
       "\t<tr><th scope=col>term</th><th scope=col>estimate</th><th scope=col>std_estimate</th><th scope=col>std.error</th><th scope=col>statistic</th><th scope=col>p.value</th></tr>\n",
       "\t<tr><th scope=col>&lt;chr&gt;</th><th scope=col>&lt;dbl&gt;</th><th scope=col>&lt;dbl&gt;</th><th scope=col>&lt;dbl&gt;</th><th scope=col>&lt;dbl&gt;</th><th scope=col>&lt;dbl&gt;</th></tr>\n",
       "</thead>\n",
       "<tbody>\n",
       "\t<tr><td>(Intercept)</td><td> 6.6080602</td><td>        NA</td><td>8.04864978</td><td> 0.8210147</td><td>4.127877e-01</td></tr>\n",
       "\t<tr><td>M          </td><td> 1.0805952</td><td> 0.6066043</td><td>0.10822153</td><td> 9.9850296</td><td>9.143872e-19</td></tr>\n",
       "\t<tr><td>X          </td><td>-0.2181098</td><td>-0.1586748</td><td>0.08350706</td><td>-2.6118725</td><td>9.810546e-03</td></tr>\n",
       "</tbody>\n",
       "</table>\n"
      ],
      "text/latex": [
       "A tibble: 3 × 6\n",
       "\\begin{tabular}{llllll}\n",
       " term & estimate & std\\_estimate & std.error & statistic & p.value\\\\\n",
       " <chr> & <dbl> & <dbl> & <dbl> & <dbl> & <dbl>\\\\\n",
       "\\hline\n",
       "\t (Intercept) &  6.6080602 &         NA & 8.04864978 &  0.8210147 & 4.127877e-01\\\\\n",
       "\t M           &  1.0805952 &  0.6066043 & 0.10822153 &  9.9850296 & 9.143872e-19\\\\\n",
       "\t X           & -0.2181098 & -0.1586748 & 0.08350706 & -2.6118725 & 9.810546e-03\\\\\n",
       "\\end{tabular}\n"
      ],
      "text/markdown": [
       "\n",
       "A tibble: 3 × 6\n",
       "\n",
       "| term &lt;chr&gt; | estimate &lt;dbl&gt; | std_estimate &lt;dbl&gt; | std.error &lt;dbl&gt; | statistic &lt;dbl&gt; | p.value &lt;dbl&gt; |\n",
       "|---|---|---|---|---|---|\n",
       "| (Intercept) |  6.6080602 |         NA | 8.04864978 |  0.8210147 | 4.127877e-01 |\n",
       "| M           |  1.0805952 |  0.6066043 | 0.10822153 |  9.9850296 | 9.143872e-19 |\n",
       "| X           | -0.2181098 | -0.1586748 | 0.08350706 | -2.6118725 | 9.810546e-03 |\n",
       "\n"
      ],
      "text/plain": [
       "  term        estimate   std_estimate std.error  statistic  p.value     \n",
       "1 (Intercept)  6.6080602         NA   8.04864978  0.8210147 4.127877e-01\n",
       "2 M            1.0805952  0.6066043   0.10822153  9.9850296 9.143872e-19\n",
       "3 X           -0.2181098 -0.1586748   0.08350706 -2.6118725 9.810546e-03"
      ]
     },
     "metadata": {},
     "output_type": "display_data"
    }
   ],
   "source": [
    "Mediator.2.fit <- lm(Y ~ M + X, Mediator)\n",
    "Mediator.2.beta <- lm.beta(Mediator.2.fit)\n",
    "tidy(Mediator.2.beta)"
   ]
  },
  {
   "cell_type": "markdown",
   "id": "7e28d3ea",
   "metadata": {},
   "source": [
    "- 가설 $H_0:d=0$에 대한 검정은 z-통계량을 이용하여 수행 (Soble's Test)\n",
    "\n",
    "$$z_{\\hat{d}} = {{\\hat{a}\\times\\hat{b}}\\over{SE_{\\hat{a}\\times\\hat{b}}}}={{\\hat{a}\\times\\hat{b}}\\over{\\sqrt{\\hat{b}^2 \\times SE^2_{\\hat{a}}+\\hat{a}^2 \\times SE^2_{\\hat{b}}}}}$$\n",
    "\n",
    "$$(SE = \\;각\\;통계량들에\\;대한\\;표준오차)$$"
   ]
  },
  {
   "cell_type": "code",
   "execution_count": 32,
   "id": "d5583a6e",
   "metadata": {},
   "outputs": [
    {
     "data": {
      "text/html": [
       "-4.8514586164125"
      ],
      "text/latex": [
       "-4.8514586164125"
      ],
      "text/markdown": [
       "-4.8514586164125"
      ],
      "text/plain": [
       "[1] -4.851459"
      ]
     },
     "metadata": {},
     "output_type": "display_data"
    }
   ],
   "source": [
    "a = -0.301498; b = 1.0805952; SE_a = 0.05431729; SE_b = 0.10822153\n",
    "z_value <- (a * b) / sqrt(b^2 * SE_a^2 + a^2 * SE_b^2); z_value"
   ]
  },
  {
   "cell_type": "markdown",
   "id": "644a5d03",
   "metadata": {},
   "source": [
    "* Soble Test p-value < 0.05"
   ]
  },
  {
   "cell_type": "code",
   "execution_count": 34,
   "id": "1c87a464",
   "metadata": {},
   "outputs": [
    {
     "data": {
      "text/html": [
       "1.22556784432071e-06"
      ],
      "text/latex": [
       "1.22556784432071e-06"
      ],
      "text/markdown": [
       "1.22556784432071e-06"
      ],
      "text/plain": [
       "[1] 1.225568e-06"
      ]
     },
     "metadata": {},
     "output_type": "display_data"
    }
   ],
   "source": [
    "p_value <- 2 * (1 - pnorm(abs(z_value))); p_value"
   ]
  },
  {
   "cell_type": "markdown",
   "id": "2d65b4e0",
   "metadata": {},
   "source": [
    "<br>\n",
    "\n",
    "#### 3. 직접효과에 대한 검정\n",
    "$$Y = \\alpha_2 + bM + cX + \\zeta_2 = 6.608 + 1.081M -0.218X + \\zeta_2$$\n",
    "\n",
    "- **c(=-0.218)가 통계적으로 유의 $\\rightarrow$ 가설 $H_0 : c=0$에 기각 $\\rightarrow$ 부분매개 효과 결론**\n",
    "* 총효과 추정치 $\\hat{e} = \\hat{c} + \\hat{d} = -0.218 - 0.326 = -0.544$\n",
    "    - 0단계에서 얻은 단순 회귀분석의 계수와 동일\n",
    "   "
   ]
  },
  {
   "cell_type": "markdown",
   "id": "a3bc4a47",
   "metadata": {},
   "source": [
    "<br>\n",
    "\n",
    "### 경로분석을 통한 매개효과 검정\n",
    "* 구조방정식모형을 이용하면 매개효과 검정과, 관련된 모수의 추정, 간접효과와 총효과에 대한 추정/검정을 쉽게 수행할 수 있음\n",
    "- 잠재변수를 고려하는 경우에도 매개효과 분석을 수행 할 수 있고, 여러 개의 설명변수, 매개변수, 종속변수들을 포함하여 분석을 수행 가능\n",
    "$$\\begin{cases}\n",
    "M = aX + \\zeta_1\\\\\n",
    "Y = bM + cX + \\zeta_2\\\\\n",
    "\\end{cases}$$\n",
    "\n",
    "$$Y = (c+ab)X + \\epsilon = (c+d)X + \\epsilon$$"
   ]
  },
  {
   "cell_type": "markdown",
   "id": "308d98b8",
   "metadata": {},
   "source": [
    "<br>\n",
    "\n",
    "#### 간접효과 및 총효과에 대한 추정과 검정을 위해서는 모형설정 부분에서 먼저 경로계수의 이름을 지정해야 함\n",
    "- **간접효과 및 총효과의 내용을 `:=`로 지정**"
   ]
  },
  {
   "cell_type": "code",
   "execution_count": 41,
   "id": "8802d0ab",
   "metadata": {},
   "outputs": [],
   "source": [
    "Mediator.A <- \"\n",
    "    # regression\n",
    "    M ~ a * X\n",
    "    Y ~ b * M + c * X\n",
    "    \n",
    "    # Indirect Effect\n",
    "    d := a * b\n",
    "    \n",
    "    # Total Effect\n",
    "    e := c + a * b\n",
    "\""
   ]
  },
  {
   "cell_type": "code",
   "execution_count": 36,
   "id": "019e2072",
   "metadata": {},
   "outputs": [
    {
     "data": {
      "image/png": "[encoded data removed]",
      "text/plain": [
       "plot without title"
      ]
     },
     "metadata": {
      "image/png": {
       "height": 420,
       "width": 420
      }
     },
     "output_type": "display_data"
    }
   ],
   "source": [
    "Mediator.A.fit <- sem(Mediator.A, Mediator)\n",
    "semPaths(Mediator.A.fit, whatLabels = \"std\", style = \"lisrel\", nCharNodes = 0, rotation = 2)"
   ]
  },
  {
   "cell_type": "markdown",
   "id": "200b9e47",
   "metadata": {},
   "source": []
  },
  {
   "cell_type": "code",
   "execution_count": 50,
   "id": "34331032",
   "metadata": {},
   "outputs": [
    {
     "data": {
      "text/html": [
       "<table class=\"dataframe\">\n",
       "<caption>A data.frame: 3 × 12</caption>\n",
       "<thead>\n",
       "\t<tr><th scope=col>lhs</th><th scope=col>op</th><th scope=col>rhs</th><th scope=col>label</th><th scope=col>exo</th><th scope=col>est</th><th scope=col>se</th><th scope=col>z</th><th scope=col>pvalue</th><th scope=col>std.lv</th><th scope=col>std.all</th><th scope=col>std.nox</th></tr>\n",
       "\t<tr><th scope=col>&lt;chr&gt;</th><th scope=col>&lt;chr&gt;</th><th scope=col>&lt;chr&gt;</th><th scope=col>&lt;chr&gt;</th><th scope=col>&lt;int&gt;</th><th scope=col>&lt;dbl&gt;</th><th scope=col>&lt;dbl&gt;</th><th scope=col>&lt;dbl&gt;</th><th scope=col>&lt;dbl&gt;</th><th scope=col>&lt;dbl&gt;</th><th scope=col>&lt;dbl&gt;</th><th scope=col>&lt;dbl&gt;</th></tr>\n",
       "</thead>\n",
       "<tbody>\n",
       "\t<tr><td>M</td><td>~</td><td>X</td><td>a</td><td>0</td><td>-0.3014980</td><td>0.05400241</td><td>-5.583047</td><td>2.363407e-08</td><td>-0.3014980</td><td>-0.3907283</td><td>-0.10127017</td></tr>\n",
       "\t<tr><td>Y</td><td>~</td><td>M</td><td>b</td><td>0</td><td> 1.0805952</td><td>0.10727909</td><td>10.072747</td><td>0.000000e+00</td><td> 1.0805952</td><td> 0.6066043</td><td> 0.60660429</td></tr>\n",
       "\t<tr><td>Y</td><td>~</td><td>X</td><td>c</td><td>0</td><td>-0.2181098</td><td>0.08277984</td><td>-2.634818</td><td>8.418251e-03</td><td>-0.2181098</td><td>-0.1586748</td><td>-0.04112584</td></tr>\n",
       "</tbody>\n",
       "</table>\n"
      ],
      "text/latex": [
       "A data.frame: 3 × 12\n",
       "\\begin{tabular}{llllllllllll}\n",
       " lhs & op & rhs & label & exo & est & se & z & pvalue & std.lv & std.all & std.nox\\\\\n",
       " <chr> & <chr> & <chr> & <chr> & <int> & <dbl> & <dbl> & <dbl> & <dbl> & <dbl> & <dbl> & <dbl>\\\\\n",
       "\\hline\n",
       "\t M & \\textasciitilde{} & X & a & 0 & -0.3014980 & 0.05400241 & -5.583047 & 2.363407e-08 & -0.3014980 & -0.3907283 & -0.10127017\\\\\n",
       "\t Y & \\textasciitilde{} & M & b & 0 &  1.0805952 & 0.10727909 & 10.072747 & 0.000000e+00 &  1.0805952 &  0.6066043 &  0.60660429\\\\\n",
       "\t Y & \\textasciitilde{} & X & c & 0 & -0.2181098 & 0.08277984 & -2.634818 & 8.418251e-03 & -0.2181098 & -0.1586748 & -0.04112584\\\\\n",
       "\\end{tabular}\n"
      ],
      "text/markdown": [
       "\n",
       "A data.frame: 3 × 12\n",
       "\n",
       "| lhs &lt;chr&gt; | op &lt;chr&gt; | rhs &lt;chr&gt; | label &lt;chr&gt; | exo &lt;int&gt; | est &lt;dbl&gt; | se &lt;dbl&gt; | z &lt;dbl&gt; | pvalue &lt;dbl&gt; | std.lv &lt;dbl&gt; | std.all &lt;dbl&gt; | std.nox &lt;dbl&gt; |\n",
       "|---|---|---|---|---|---|---|---|---|---|---|---|\n",
       "| M | ~ | X | a | 0 | -0.3014980 | 0.05400241 | -5.583047 | 2.363407e-08 | -0.3014980 | -0.3907283 | -0.10127017 |\n",
       "| Y | ~ | M | b | 0 |  1.0805952 | 0.10727909 | 10.072747 | 0.000000e+00 |  1.0805952 |  0.6066043 |  0.60660429 |\n",
       "| Y | ~ | X | c | 0 | -0.2181098 | 0.08277984 | -2.634818 | 8.418251e-03 | -0.2181098 | -0.1586748 | -0.04112584 |\n",
       "\n"
      ],
      "text/plain": [
       "  lhs op rhs label exo est        se         z         pvalue       std.lv    \n",
       "1 M   ~  X   a     0   -0.3014980 0.05400241 -5.583047 2.363407e-08 -0.3014980\n",
       "2 Y   ~  M   b     0    1.0805952 0.10727909 10.072747 0.000000e+00  1.0805952\n",
       "3 Y   ~  X   c     0   -0.2181098 0.08277984 -2.634818 8.418251e-03 -0.2181098\n",
       "  std.all    std.nox    \n",
       "1 -0.3907283 -0.10127017\n",
       "2  0.6066043  0.60660429\n",
       "3 -0.1586748 -0.04112584"
      ]
     },
     "metadata": {},
     "output_type": "display_data"
    }
   ],
   "source": [
    "summary(Mediator.A.fit, fit.measures = TRUE, rsquare = TRUE, standardized = TRUE)$pe %>%\n",
    "    filter(op == \"~\")"
   ]
  },
  {
   "cell_type": "code",
   "execution_count": 55,
   "id": "75e57918",
   "metadata": {},
   "outputs": [
    {
     "data": {
      "text/html": [
       "<table class=\"dataframe\">\n",
       "<caption>A data.frame: 2 × 12</caption>\n",
       "<thead>\n",
       "\t<tr><th scope=col>lhs</th><th scope=col>op</th><th scope=col>rhs</th><th scope=col>label</th><th scope=col>exo</th><th scope=col>est</th><th scope=col>se</th><th scope=col>z</th><th scope=col>pvalue</th><th scope=col>std.lv</th><th scope=col>std.all</th><th scope=col>std.nox</th></tr>\n",
       "\t<tr><th scope=col>&lt;chr&gt;</th><th scope=col>&lt;chr&gt;</th><th scope=col>&lt;chr&gt;</th><th scope=col>&lt;chr&gt;</th><th scope=col>&lt;int&gt;</th><th scope=col>&lt;dbl&gt;</th><th scope=col>&lt;dbl&gt;</th><th scope=col>&lt;dbl&gt;</th><th scope=col>&lt;dbl&gt;</th><th scope=col>&lt;dbl&gt;</th><th scope=col>&lt;dbl&gt;</th><th scope=col>&lt;dbl&gt;</th></tr>\n",
       "</thead>\n",
       "<tbody>\n",
       "\t<tr><td>d</td><td>:=</td><td>a*b  </td><td>d</td><td>0</td><td>-0.3257973</td><td>0.06671910</td><td>-4.883119</td><td>1.04421e-06</td><td>-0.3257973</td><td>-0.2370175</td><td>-0.06143092</td></tr>\n",
       "\t<tr><td>e</td><td>:=</td><td>c+a*b</td><td>e</td><td>0</td><td>-0.5439071</td><td>0.09597717</td><td>-5.667046</td><td>1.45280e-08</td><td>-0.5439071</td><td>-0.3956923</td><td>-0.10255676</td></tr>\n",
       "</tbody>\n",
       "</table>\n"
      ],
      "text/latex": [
       "A data.frame: 2 × 12\n",
       "\\begin{tabular}{llllllllllll}\n",
       " lhs & op & rhs & label & exo & est & se & z & pvalue & std.lv & std.all & std.nox\\\\\n",
       " <chr> & <chr> & <chr> & <chr> & <int> & <dbl> & <dbl> & <dbl> & <dbl> & <dbl> & <dbl> & <dbl>\\\\\n",
       "\\hline\n",
       "\t d & := & a*b   & d & 0 & -0.3257973 & 0.06671910 & -4.883119 & 1.04421e-06 & -0.3257973 & -0.2370175 & -0.06143092\\\\\n",
       "\t e & := & c+a*b & e & 0 & -0.5439071 & 0.09597717 & -5.667046 & 1.45280e-08 & -0.5439071 & -0.3956923 & -0.10255676\\\\\n",
       "\\end{tabular}\n"
      ],
      "text/markdown": [
       "\n",
       "A data.frame: 2 × 12\n",
       "\n",
       "| lhs &lt;chr&gt; | op &lt;chr&gt; | rhs &lt;chr&gt; | label &lt;chr&gt; | exo &lt;int&gt; | est &lt;dbl&gt; | se &lt;dbl&gt; | z &lt;dbl&gt; | pvalue &lt;dbl&gt; | std.lv &lt;dbl&gt; | std.all &lt;dbl&gt; | std.nox &lt;dbl&gt; |\n",
       "|---|---|---|---|---|---|---|---|---|---|---|---|\n",
       "| d | := | a*b   | d | 0 | -0.3257973 | 0.06671910 | -4.883119 | 1.04421e-06 | -0.3257973 | -0.2370175 | -0.06143092 |\n",
       "| e | := | c+a*b | e | 0 | -0.5439071 | 0.09597717 | -5.667046 | 1.45280e-08 | -0.5439071 | -0.3956923 | -0.10255676 |\n",
       "\n"
      ],
      "text/plain": [
       "  lhs op rhs   label exo est        se         z         pvalue      std.lv    \n",
       "1 d   := a*b   d     0   -0.3257973 0.06671910 -4.883119 1.04421e-06 -0.3257973\n",
       "2 e   := c+a*b e     0   -0.5439071 0.09597717 -5.667046 1.45280e-08 -0.5439071\n",
       "  std.all    std.nox    \n",
       "1 -0.2370175 -0.06143092\n",
       "2 -0.3956923 -0.10255676"
      ]
     },
     "metadata": {},
     "output_type": "display_data"
    }
   ],
   "source": [
    "summary(Mediator.A.fit, fit.measures = TRUE, rsquare = TRUE, standardized = TRUE)$pe %>%\n",
    "    filter(op == ':=')"
   ]
  },
  {
   "cell_type": "markdown",
   "id": "5a027fa2",
   "metadata": {},
   "source": [
    "<br>\n",
    "\n",
    "**경로분석을 이용한 매개변수 효과**\n",
    "- 경로계수\n",
    "\n",
    "| 내생변수 | 설명변수 | 추정치 | 표준화추정치 | p-val | SMC |\n",
    "| - | - | - | - | - | - |\n",
    "| M | X | -0.301 | -0.391 | <.001 | 0.153 |\n",
    "| | \n",
    "| Y | M | 1.081 | 0.607 | <.001 | 0.468 |\n",
    "| | X | -0.218 | -0.159 | 0.008 | |\n",
    "\n",
    "<br>\n",
    "\n",
    "- 매개효과 ($X \\rightarrow Y$)\n",
    "\n",
    "| 효과 | 추정치 | 표준화추정치 | p-val |\n",
    "| - | - | - | - |\n",
    "| 직접효과 | -0.218 | -0.159 | 0.008 |\n",
    "| 간접효과 | -0.326 | -0.237 | <0.001 |\n",
    "| 총효과 | -0.544 | -0.396 | <0.001 |"
   ]
  },
  {
   "cell_type": "markdown",
   "id": "0f8003cc",
   "metadata": {},
   "source": [
    "<br>\n",
    "\n",
    "## 06.03. 잠재변수가 없는 모형"
   ]
  },
  {
   "cell_type": "code",
   "execution_count": 67,
   "id": "2df96269",
   "metadata": {},
   "outputs": [],
   "source": [
    "Union <- read.csv(paste0(getwd(), \"/Data/Union.csv\"), header = TRUE)"
   ]
  },
  {
   "cell_type": "code",
   "execution_count": 43,
   "id": "bb6478ec",
   "metadata": {},
   "outputs": [],
   "source": [
    "Union.C <- \"\n",
    "    # regression\n",
    "    Defer ~ a * Age\n",
    "    Suppo ~ b * Age + c * Defer\n",
    "    Senti ~ d * Years + e * Defer + f * Suppo\n",
    "    \n",
    "    # Indirect Effect\n",
    "    Ind_Suppo_Age := a * c\n",
    "    Ind_Senti_Age := a * e + b * f + a * c * f\n",
    "    Ind_Senti_Defer := c * f\n",
    "\n",
    "    # Total Effect\n",
    "    Tot_Suppo_Age := b + a * c\n",
    "    Tot_Senti_Defer := e + c * f\n",
    "\""
   ]
  },
  {
   "cell_type": "code",
   "execution_count": 45,
   "id": "09a1e107",
   "metadata": {},
   "outputs": [
    {
     "data": {
      "image/png": "[encoded data removed]",
      "text/plain": [
       "plot without title"
      ]
     },
     "metadata": {
      "image/png": {
       "height": 420,
       "width": 420
      }
     },
     "output_type": "display_data"
    }
   ],
   "source": [
    "Union.C.fit <- sem(Union.C, Union)\n",
    "semPaths(Union.C.fit, whatLabels = \"std\", style = \"lisrel\", nCharNodes = 0, rotation = 2)"
   ]
  },
  {
   "cell_type": "code",
   "execution_count": 47,
   "id": "7289d4cd",
   "metadata": {},
   "outputs": [
    {
     "name": "stderr",
     "output_type": "stream",
     "text": [
      "Warning message:\n",
      "\"'tidy.numeric' is deprecated.\n",
      "See help(\"Deprecated\")\"\n"
     ]
    },
    {
     "data": {
      "text/html": [
       "<table class=\"dataframe\">\n",
       "<caption>A tibble: 8 × 2</caption>\n",
       "<thead>\n",
       "\t<tr><th scope=col>names</th><th scope=col>x</th></tr>\n",
       "\t<tr><th scope=col>&lt;chr&gt;</th><th scope=col>&lt;lvn.vctr&gt;</th></tr>\n",
       "</thead>\n",
       "<tbody>\n",
       "\t<tr><td>chisq</td><td>2.20807302</td></tr>\n",
       "\t<tr><td>df   </td><td>3.00000000</td></tr>\n",
       "\t<tr><td>cfi  </td><td>1.00000000</td></tr>\n",
       "\t<tr><td>tli  </td><td>1.01524796</td></tr>\n",
       "\t<tr><td>rmsea</td><td>0.00000000</td></tr>\n",
       "\t<tr><td>srmr </td><td>0.03250038</td></tr>\n",
       "\t<tr><td>gfi  </td><td>0.99166959</td></tr>\n",
       "\t<tr><td>agfi </td><td>0.95834796</td></tr>\n",
       "</tbody>\n",
       "</table>\n"
      ],
      "text/latex": [
       "A tibble: 8 × 2\n",
       "\\begin{tabular}{ll}\n",
       " names & x\\\\\n",
       " <chr> & <lvn.vctr>\\\\\n",
       "\\hline\n",
       "\t chisq & 2.20807302\\\\\n",
       "\t df    & 3.00000000\\\\\n",
       "\t cfi   & 1.00000000\\\\\n",
       "\t tli   & 1.01524796\\\\\n",
       "\t rmsea & 0.00000000\\\\\n",
       "\t srmr  & 0.03250038\\\\\n",
       "\t gfi   & 0.99166959\\\\\n",
       "\t agfi  & 0.95834796\\\\\n",
       "\\end{tabular}\n"
      ],
      "text/markdown": [
       "\n",
       "A tibble: 8 × 2\n",
       "\n",
       "| names &lt;chr&gt; | x &lt;lvn.vctr&gt; |\n",
       "|---|---|\n",
       "| chisq | 2.20807302 |\n",
       "| df    | 3.00000000 |\n",
       "| cfi   | 1.00000000 |\n",
       "| tli   | 1.01524796 |\n",
       "| rmsea | 0.00000000 |\n",
       "| srmr  | 0.03250038 |\n",
       "| gfi   | 0.99166959 |\n",
       "| agfi  | 0.95834796 |\n",
       "\n"
      ],
      "text/plain": [
       "  names x         \n",
       "1 chisq 2.20807302\n",
       "2 df    3.00000000\n",
       "3 cfi   1.00000000\n",
       "4 tli   1.01524796\n",
       "5 rmsea 0.00000000\n",
       "6 srmr  0.03250038\n",
       "7 gfi   0.99166959\n",
       "8 agfi  0.95834796"
      ]
     },
     "metadata": {},
     "output_type": "display_data"
    }
   ],
   "source": [
    "tidy(fitMeasures(Union.C.fit)) %>%\n",
    "    filter(names %in% c(\"chisq\", \"df\", \"gfi\", \"agfi\", \"cfi\", \"tli\", \"rmsea\", \"srmr\"))"
   ]
  },
  {
   "cell_type": "markdown",
   "id": "348709a4",
   "metadata": {},
   "source": [
    "- 직접효과"
   ]
  },
  {
   "cell_type": "code",
   "execution_count": 57,
   "id": "a8463d5b",
   "metadata": {},
   "outputs": [
    {
     "data": {
      "text/html": [
       "<table class=\"dataframe\">\n",
       "<caption>A data.frame: 6 × 5</caption>\n",
       "<thead>\n",
       "\t<tr><th scope=col>lhs</th><th scope=col>op</th><th scope=col>rhs</th><th scope=col>est</th><th scope=col>std.all</th></tr>\n",
       "\t<tr><th scope=col>&lt;chr&gt;</th><th scope=col>&lt;chr&gt;</th><th scope=col>&lt;chr&gt;</th><th scope=col>&lt;dbl&gt;</th><th scope=col>&lt;dbl&gt;</th></tr>\n",
       "</thead>\n",
       "<tbody>\n",
       "\t<tr><td>Defer</td><td>~</td><td>Age  </td><td>-0.05517988</td><td>-0.1922468</td></tr>\n",
       "\t<tr><td>Suppo</td><td>~</td><td>Age  </td><td> 0.05747751</td><td> 0.2595176</td></tr>\n",
       "\t<tr><td>Suppo</td><td>~</td><td>Defer</td><td>-0.26300024</td><td>-0.3408369</td></tr>\n",
       "\t<tr><td>Senti</td><td>~</td><td>Years</td><td> 0.60448739</td><td> 0.1145623</td></tr>\n",
       "\t<tr><td>Senti</td><td>~</td><td>Defer</td><td>-0.22679321</td><td>-0.1640180</td></tr>\n",
       "\t<tr><td>Senti</td><td>~</td><td>Suppo</td><td> 1.06386807</td><td> 0.5936886</td></tr>\n",
       "</tbody>\n",
       "</table>\n"
      ],
      "text/latex": [
       "A data.frame: 6 × 5\n",
       "\\begin{tabular}{lllll}\n",
       " lhs & op & rhs & est & std.all\\\\\n",
       " <chr> & <chr> & <chr> & <dbl> & <dbl>\\\\\n",
       "\\hline\n",
       "\t Defer & \\textasciitilde{} & Age   & -0.05517988 & -0.1922468\\\\\n",
       "\t Suppo & \\textasciitilde{} & Age   &  0.05747751 &  0.2595176\\\\\n",
       "\t Suppo & \\textasciitilde{} & Defer & -0.26300024 & -0.3408369\\\\\n",
       "\t Senti & \\textasciitilde{} & Years &  0.60448739 &  0.1145623\\\\\n",
       "\t Senti & \\textasciitilde{} & Defer & -0.22679321 & -0.1640180\\\\\n",
       "\t Senti & \\textasciitilde{} & Suppo &  1.06386807 &  0.5936886\\\\\n",
       "\\end{tabular}\n"
      ],
      "text/markdown": [
       "\n",
       "A data.frame: 6 × 5\n",
       "\n",
       "| lhs &lt;chr&gt; | op &lt;chr&gt; | rhs &lt;chr&gt; | est &lt;dbl&gt; | std.all &lt;dbl&gt; |\n",
       "|---|---|---|---|---|\n",
       "| Defer | ~ | Age   | -0.05517988 | -0.1922468 |\n",
       "| Suppo | ~ | Age   |  0.05747751 |  0.2595176 |\n",
       "| Suppo | ~ | Defer | -0.26300024 | -0.3408369 |\n",
       "| Senti | ~ | Years |  0.60448739 |  0.1145623 |\n",
       "| Senti | ~ | Defer | -0.22679321 | -0.1640180 |\n",
       "| Senti | ~ | Suppo |  1.06386807 |  0.5936886 |\n",
       "\n"
      ],
      "text/plain": [
       "  lhs   op rhs   est         std.all   \n",
       "1 Defer ~  Age   -0.05517988 -0.1922468\n",
       "2 Suppo ~  Age    0.05747751  0.2595176\n",
       "3 Suppo ~  Defer -0.26300024 -0.3408369\n",
       "4 Senti ~  Years  0.60448739  0.1145623\n",
       "5 Senti ~  Defer -0.22679321 -0.1640180\n",
       "6 Senti ~  Suppo  1.06386807  0.5936886"
      ]
     },
     "metadata": {},
     "output_type": "display_data"
    }
   ],
   "source": [
    "summary(Union.C.fit, fit.measures = TRUE, rsquare = TRUE, standardized = TRUE)$pe %>%\n",
    "    filter(op == \"~\") %>% select(lhs, op, rhs, est, std.all)"
   ]
  },
  {
   "cell_type": "markdown",
   "id": "29f4ff88",
   "metadata": {},
   "source": [
    "- 간접효과 & 총효과"
   ]
  },
  {
   "cell_type": "code",
   "execution_count": 60,
   "id": "d93c497a",
   "metadata": {},
   "outputs": [
    {
     "data": {
      "text/html": [
       "<table class=\"dataframe\">\n",
       "<caption>A data.frame: 5 × 5</caption>\n",
       "<thead>\n",
       "\t<tr><th scope=col>lhs</th><th scope=col>op</th><th scope=col>rhs</th><th scope=col>est</th><th scope=col>std.all</th></tr>\n",
       "\t<tr><th scope=col>&lt;chr&gt;</th><th scope=col>&lt;chr&gt;</th><th scope=col>&lt;chr&gt;</th><th scope=col>&lt;dbl&gt;</th><th scope=col>&lt;dbl&gt;</th></tr>\n",
       "</thead>\n",
       "<tbody>\n",
       "\t<tr><td>Ind_Suppo_Age  </td><td>:=</td><td>a*c          </td><td> 0.01451232</td><td> 0.06552479</td></tr>\n",
       "\t<tr><td>Ind_Senti_Age  </td><td>:=</td><td>a*e+b*f+a*c*f</td><td> 0.08910210</td><td> 0.22450588</td></tr>\n",
       "\t<tr><td>Ind_Senti_Defer</td><td>:=</td><td>c*f          </td><td>-0.27979755</td><td>-0.20235099</td></tr>\n",
       "\t<tr><td>Tot_Suppo_Age  </td><td>:=</td><td>b+a*c        </td><td> 0.07198983</td><td> 0.32504235</td></tr>\n",
       "\t<tr><td>Tot_Senti_Defer</td><td>:=</td><td>e+c*f        </td><td>-0.50659077</td><td>-0.36636898</td></tr>\n",
       "</tbody>\n",
       "</table>\n"
      ],
      "text/latex": [
       "A data.frame: 5 × 5\n",
       "\\begin{tabular}{lllll}\n",
       " lhs & op & rhs & est & std.all\\\\\n",
       " <chr> & <chr> & <chr> & <dbl> & <dbl>\\\\\n",
       "\\hline\n",
       "\t Ind\\_Suppo\\_Age   & := & a*c           &  0.01451232 &  0.06552479\\\\\n",
       "\t Ind\\_Senti\\_Age   & := & a*e+b*f+a*c*f &  0.08910210 &  0.22450588\\\\\n",
       "\t Ind\\_Senti\\_Defer & := & c*f           & -0.27979755 & -0.20235099\\\\\n",
       "\t Tot\\_Suppo\\_Age   & := & b+a*c         &  0.07198983 &  0.32504235\\\\\n",
       "\t Tot\\_Senti\\_Defer & := & e+c*f         & -0.50659077 & -0.36636898\\\\\n",
       "\\end{tabular}\n"
      ],
      "text/markdown": [
       "\n",
       "A data.frame: 5 × 5\n",
       "\n",
       "| lhs &lt;chr&gt; | op &lt;chr&gt; | rhs &lt;chr&gt; | est &lt;dbl&gt; | std.all &lt;dbl&gt; |\n",
       "|---|---|---|---|---|\n",
       "| Ind_Suppo_Age   | := | a*c           |  0.01451232 |  0.06552479 |\n",
       "| Ind_Senti_Age   | := | a*e+b*f+a*c*f |  0.08910210 |  0.22450588 |\n",
       "| Ind_Senti_Defer | := | c*f           | -0.27979755 | -0.20235099 |\n",
       "| Tot_Suppo_Age   | := | b+a*c         |  0.07198983 |  0.32504235 |\n",
       "| Tot_Senti_Defer | := | e+c*f         | -0.50659077 | -0.36636898 |\n",
       "\n"
      ],
      "text/plain": [
       "  lhs             op rhs           est         std.all    \n",
       "1 Ind_Suppo_Age   := a*c            0.01451232  0.06552479\n",
       "2 Ind_Senti_Age   := a*e+b*f+a*c*f  0.08910210  0.22450588\n",
       "3 Ind_Senti_Defer := c*f           -0.27979755 -0.20235099\n",
       "4 Tot_Suppo_Age   := b+a*c          0.07198983  0.32504235\n",
       "5 Tot_Senti_Defer := e+c*f         -0.50659077 -0.36636898"
      ]
     },
     "metadata": {},
     "output_type": "display_data"
    }
   ],
   "source": [
    "summary(Union.C.fit, fit.measures = TRUE, rsquare = TRUE, standardized = TRUE)$pe %>%\n",
    "    filter(op == \":=\") %>% select(lhs, op, rhs, est, std.all)"
   ]
  },
  {
   "cell_type": "markdown",
   "id": "54392e13",
   "metadata": {},
   "source": [
    "<br>\n",
    "\n",
    "| 내생변수 | 설명변수 | 직접효과 | 간접효과 | 총효과 |\n",
    "| - | - | - | - | - |\n",
    "| Defer | Age | -0.055 | - | -0.055 |\n",
    "| |\n",
    "| Suppo | Age | 0.057 | 0.015 | 0.072 |\n",
    "|  | Defer | -0.263 | - | -0.263 |\n",
    "| | \n",
    "| Senti | Years | -0.604 | - | -0.604 |\n",
    "|  | Age | - | 0.089 | 0.089 |\n",
    "|  | Defer | -0.227 | -0.280 | -0.507 |\n",
    "|  | Suppo | 1.064 | - | 1.064 |"
   ]
  },
  {
   "cell_type": "markdown",
   "id": "37f9c0a4",
   "metadata": {},
   "source": [
    "<br>\n",
    "\n",
    "## 06.04. 다중 매개효과의 계산과 검정"
   ]
  },
  {
   "cell_type": "markdown",
   "id": "221079ab",
   "metadata": {},
   "source": [
    "- 인과관계 'Age $\\rightarrow$ Senti'의 경우 3개의 매개효과 경로가 존재"
   ]
  },
  {
   "cell_type": "code",
   "execution_count": 63,
   "id": "bffcc550",
   "metadata": {},
   "outputs": [],
   "source": [
    "Union.C <- \"\n",
    "    # regression\n",
    "    Defer ~ a * Age\n",
    "    Suppo ~ b * Age + c * Defer\n",
    "    Senti ~ d * Years + e * Defer + f * Suppo\n",
    "    \n",
    "    # Multiple Mediating Effect\n",
    "    ae := a * e\n",
    "    bf := b * f\n",
    "    acf  := a* c * f\n",
    "\""
   ]
  },
  {
   "cell_type": "code",
   "execution_count": 65,
   "id": "6bb11492",
   "metadata": {},
   "outputs": [],
   "source": [
    "Union.C.fit <- sem(Union.C, Union)"
   ]
  },
  {
   "cell_type": "code",
   "execution_count": null,
   "id": "c58de625",
   "metadata": {},
   "outputs": [],
   "source": [
    "tidy(fitMeasures(Union.C.fit)) %>%\n",
    "    filter(names %in% c(\"chisq\", \"df\", \"gfi\", \"agfi\", \"cfi\", \"tli\", \"rmsea\", \"srmr\"))"
   ]
  },
  {
   "cell_type": "code",
   "execution_count": 66,
   "id": "24c582ec",
   "metadata": {},
   "outputs": [
    {
     "data": {
      "text/html": [
       "<table class=\"dataframe\">\n",
       "<caption>A data.frame: 3 × 5</caption>\n",
       "<thead>\n",
       "\t<tr><th scope=col>lhs</th><th scope=col>op</th><th scope=col>rhs</th><th scope=col>est</th><th scope=col>std.all</th></tr>\n",
       "\t<tr><th scope=col>&lt;chr&gt;</th><th scope=col>&lt;chr&gt;</th><th scope=col>&lt;chr&gt;</th><th scope=col>&lt;dbl&gt;</th><th scope=col>&lt;dbl&gt;</th></tr>\n",
       "</thead>\n",
       "<tbody>\n",
       "\t<tr><td>ae </td><td>:=</td><td>a*e  </td><td>0.01251442</td><td>0.03153193</td></tr>\n",
       "\t<tr><td>bf </td><td>:=</td><td>b*f  </td><td>0.06114849</td><td>0.15407262</td></tr>\n",
       "\t<tr><td>acf</td><td>:=</td><td>a*c*f</td><td>0.01543919</td><td>0.03890132</td></tr>\n",
       "</tbody>\n",
       "</table>\n"
      ],
      "text/latex": [
       "A data.frame: 3 × 5\n",
       "\\begin{tabular}{lllll}\n",
       " lhs & op & rhs & est & std.all\\\\\n",
       " <chr> & <chr> & <chr> & <dbl> & <dbl>\\\\\n",
       "\\hline\n",
       "\t ae  & := & a*e   & 0.01251442 & 0.03153193\\\\\n",
       "\t bf  & := & b*f   & 0.06114849 & 0.15407262\\\\\n",
       "\t acf & := & a*c*f & 0.01543919 & 0.03890132\\\\\n",
       "\\end{tabular}\n"
      ],
      "text/markdown": [
       "\n",
       "A data.frame: 3 × 5\n",
       "\n",
       "| lhs &lt;chr&gt; | op &lt;chr&gt; | rhs &lt;chr&gt; | est &lt;dbl&gt; | std.all &lt;dbl&gt; |\n",
       "|---|---|---|---|---|\n",
       "| ae  | := | a*e   | 0.01251442 | 0.03153193 |\n",
       "| bf  | := | b*f   | 0.06114849 | 0.15407262 |\n",
       "| acf | := | a*c*f | 0.01543919 | 0.03890132 |\n",
       "\n"
      ],
      "text/plain": [
       "  lhs op rhs   est        std.all   \n",
       "1 ae  := a*e   0.01251442 0.03153193\n",
       "2 bf  := b*f   0.06114849 0.15407262\n",
       "3 acf := a*c*f 0.01543919 0.03890132"
      ]
     },
     "metadata": {},
     "output_type": "display_data"
    }
   ],
   "source": [
    "summary(Union.C.fit, fit.measures = TRUE, rsquare = TRUE, standardized = TRUE)$pe %>%\n",
    "    filter(op == \":=\") %>% select(lhs, op, rhs, est, std.all)"
   ]
  },
  {
   "cell_type": "markdown",
   "id": "e920ee99",
   "metadata": {},
   "source": [
    "**인과관계 'Age $\\rightarrow$Senti'에 대한 효과 분해**\n",
    "\n",
    "|구분| 효과 | 추정치 | 표준화추정치 | p-val |\n",
    "| -| - | - | - | - |\n",
    "| 간접효과 | Age - Defer - Senti | 0.013 | 0.032 | 0.059 |\n",
    "|  | Age - Defer - Senti | 0.061 | 0.154 | 0.001 |\n",
    "|  | Age - Defer - Senti | 0.015 | 0.039 | 0.026 |\n",
    "| 총효과 |  | 0.089 | 0.025 | <.001 |"
   ]
  },
  {
   "cell_type": "markdown",
   "id": "57f62fb6",
   "metadata": {},
   "source": [
    "<br>\n",
    "\n",
    "## 06.05. 잠재변수가 있는 모형"
   ]
  },
  {
   "cell_type": "code",
   "execution_count": 68,
   "id": "5d1b4179",
   "metadata": {},
   "outputs": [],
   "source": [
    "Jobsatis <- read.csv(paste0(getwd(), \"/Data/Jobsatis.csv\"), header = TRUE)"
   ]
  },
  {
   "cell_type": "code",
   "execution_count": 69,
   "id": "52bad1f5",
   "metadata": {},
   "outputs": [],
   "source": [
    "Jobsatis.C <- \"\n",
    "    # measurement\n",
    "    ACHMOT =~ Achmot1 + Achmot2\n",
    "    TSSE =~ Tsse1 + Tsse2\n",
    "    VERBINT =~ Verbint1\n",
    "    PERFORM =~ Perform1\n",
    "    JOBSATIS =~ Jobsatis1 + Jobsatis2\n",
    "\n",
    "    # structure\n",
    "    PERFORM ~ a * TSSE\n",
    "    JOBSATIS ~ b * ACHMOT + c * VERBINT + d * PERFORM\n",
    "\n",
    "    # error variance\n",
    "    Verbint1 ~~ 0.509 * Verbint1\n",
    "    Perform1 ~~ 0 * Perform1\n",
    "\n",
    "    # indirect effect\n",
    "    Ind_JOBSATIS_TSSE := a * d\n",
    "\""
   ]
  },
  {
   "cell_type": "code",
   "execution_count": 71,
   "id": "98ae0351",
   "metadata": {},
   "outputs": [],
   "source": [
    "Jobsatis.C.fit <- sem(Jobsatis.C, Jobsatis)"
   ]
  },
  {
   "cell_type": "code",
   "execution_count": 83,
   "id": "bad5642f",
   "metadata": {},
   "outputs": [
    {
     "data": {
      "image/png": "[encoded data removed]",
      "text/plain": [
       "plot without title"
      ]
     },
     "metadata": {
      "image/png": {
       "height": 420,
       "width": 420
      }
     },
     "output_type": "display_data"
    }
   ],
   "source": [
    "semPaths(Jobsatis.C.fit, whatLabels = \"std\", style = \"lisrel\", nCharNodes = 0, rotation = 2)"
   ]
  },
  {
   "cell_type": "markdown",
   "id": "2c5fa7f7",
   "metadata": {},
   "source": [
    "**매개 분해**\n",
    "\n",
    "|내생변수| 설명변수 | 직접효과 | 간접효과 | 총효과l |\n",
    "| -| - | - | - | - |\n",
    "| PERFORM | TSSE | 0.739 | - | 0.739 |\n",
    "| |\n",
    "| JOBSATIS | ACHMOT | 2.554 | - | 2.554 |\n",
    "|  | TSSE | - | 0.322 | 0.322 |\n",
    "|  | VERBINT | 0.660 | - | 0.606 |\n",
    "|  | VERBINT | 0.436 | - | 0.436 |"
   ]
  },
  {
   "cell_type": "code",
   "execution_count": 76,
   "id": "e6f01b16",
   "metadata": {},
   "outputs": [
    {
     "data": {
      "text/html": [
       "<table class=\"dataframe\">\n",
       "<caption>A data.frame: 5 × 5</caption>\n",
       "<thead>\n",
       "\t<tr><th scope=col>lhs</th><th scope=col>op</th><th scope=col>rhs</th><th scope=col>est</th><th scope=col>std.all</th></tr>\n",
       "\t<tr><th scope=col>&lt;chr&gt;</th><th scope=col>&lt;chr&gt;</th><th scope=col>&lt;chr&gt;</th><th scope=col>&lt;dbl&gt;</th><th scope=col>&lt;dbl&gt;</th></tr>\n",
       "</thead>\n",
       "<tbody>\n",
       "\t<tr><td>PERFORM          </td><td>~ </td><td>TSSE   </td><td>0.7389525</td><td>0.6994333</td></tr>\n",
       "\t<tr><td>JOBSATIS         </td><td>~ </td><td>ACHMOT </td><td>2.5539420</td><td>1.1012525</td></tr>\n",
       "\t<tr><td>JOBSATIS         </td><td>~ </td><td>VERBINT</td><td>0.6062814</td><td>0.7345907</td></tr>\n",
       "\t<tr><td>JOBSATIS         </td><td>~ </td><td>PERFORM</td><td>0.4360882</td><td>0.3173645</td></tr>\n",
       "\t<tr><td>Ind_JOBSATIS_TSSE</td><td>:=</td><td>a*d    </td><td>0.3222485</td><td>0.2219753</td></tr>\n",
       "</tbody>\n",
       "</table>\n"
      ],
      "text/latex": [
       "A data.frame: 5 × 5\n",
       "\\begin{tabular}{lllll}\n",
       " lhs & op & rhs & est & std.all\\\\\n",
       " <chr> & <chr> & <chr> & <dbl> & <dbl>\\\\\n",
       "\\hline\n",
       "\t PERFORM           & \\textasciitilde{}  & TSSE    & 0.7389525 & 0.6994333\\\\\n",
       "\t JOBSATIS          & \\textasciitilde{}  & ACHMOT  & 2.5539420 & 1.1012525\\\\\n",
       "\t JOBSATIS          & \\textasciitilde{}  & VERBINT & 0.6062814 & 0.7345907\\\\\n",
       "\t JOBSATIS          & \\textasciitilde{}  & PERFORM & 0.4360882 & 0.3173645\\\\\n",
       "\t Ind\\_JOBSATIS\\_TSSE & := & a*d     & 0.3222485 & 0.2219753\\\\\n",
       "\\end{tabular}\n"
      ],
      "text/markdown": [
       "\n",
       "A data.frame: 5 × 5\n",
       "\n",
       "| lhs &lt;chr&gt; | op &lt;chr&gt; | rhs &lt;chr&gt; | est &lt;dbl&gt; | std.all &lt;dbl&gt; |\n",
       "|---|---|---|---|---|\n",
       "| PERFORM           | ~  | TSSE    | 0.7389525 | 0.6994333 |\n",
       "| JOBSATIS          | ~  | ACHMOT  | 2.5539420 | 1.1012525 |\n",
       "| JOBSATIS          | ~  | VERBINT | 0.6062814 | 0.7345907 |\n",
       "| JOBSATIS          | ~  | PERFORM | 0.4360882 | 0.3173645 |\n",
       "| Ind_JOBSATIS_TSSE | := | a*d     | 0.3222485 | 0.2219753 |\n",
       "\n"
      ],
      "text/plain": [
       "  lhs               op rhs     est       std.all  \n",
       "1 PERFORM           ~  TSSE    0.7389525 0.6994333\n",
       "2 JOBSATIS          ~  ACHMOT  2.5539420 1.1012525\n",
       "3 JOBSATIS          ~  VERBINT 0.6062814 0.7345907\n",
       "4 JOBSATIS          ~  PERFORM 0.4360882 0.3173645\n",
       "5 Ind_JOBSATIS_TSSE := a*d     0.3222485 0.2219753"
      ]
     },
     "metadata": {},
     "output_type": "display_data"
    }
   ],
   "source": [
    "summary(Jobsatis.C.fit, fit.measures = TRUE, rsquare = TRUE, standardized = TRUE)$pe %>%\n",
    "    filter(op %in% c(\"~\", \":=\")) %>% select(lhs, op, rhs, est, std.all)"
   ]
  }
 ],
 "metadata": {
  "kernelspec": {
   "display_name": "R",
   "language": "R",
   "name": "ir"
  },
  "language_info": {
   "codemirror_mode": "r",
   "file_extension": ".r",
   "mimetype": "text/x-r-source",
   "name": "R",
   "pygments_lexer": "r",
   "version": "4.2.2"
  }
 },
 "nbformat": 4,
 "nbformat_minor": 5
}
