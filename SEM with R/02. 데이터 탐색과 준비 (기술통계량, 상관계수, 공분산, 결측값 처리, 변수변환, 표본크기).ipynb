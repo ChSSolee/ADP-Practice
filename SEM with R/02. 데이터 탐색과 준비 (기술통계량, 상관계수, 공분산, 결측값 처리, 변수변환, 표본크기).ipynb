{
 "cells": [
  {
   "cell_type": "markdown",
   "id": "dbf5255b",
   "metadata": {},
   "source": [
    "# 02. 데이터 탐색과 준비"
   ]
  },
  {
   "cell_type": "code",
   "execution_count": 2,
   "id": "b0dbb6aa",
   "metadata": {},
   "outputs": [],
   "source": [
    "library(lavaan)\n",
    "library(sem)\n",
    "library(semPlot)\n",
    "library(semptools)"
   ]
  },
  {
   "cell_type": "code",
   "execution_count": 12,
   "id": "05f0fb18",
   "metadata": {},
   "outputs": [],
   "source": [
    "library(psych)\n",
    "library(tidyverse)"
   ]
  },
  {
   "cell_type": "markdown",
   "id": "b00e43c3",
   "metadata": {},
   "source": [
    "<br>\n",
    "\n",
    "<br>\n",
    "\n",
    "## 02-01. 데이터탐색\n",
    "\n",
    "<br>\n",
    "\n",
    "#### `psych::describe()` : 평균, 표준편차, 최솟값, 최댓값, 왜도(skewness), 첨도(kurtosis)"
   ]
  },
  {
   "cell_type": "code",
   "execution_count": 8,
   "id": "d770e642",
   "metadata": {},
   "outputs": [],
   "source": [
    "Stu_Outlier <- read.csv(paste0(getwd(), \"/Data/Stu_Outlier.csv\"), header = TRUE)"
   ]
  },
  {
   "cell_type": "code",
   "execution_count": 14,
   "id": "3502e445",
   "metadata": {},
   "outputs": [
    {
     "name": "stdout",
     "output_type": "stream",
     "text": [
      "Rows: 15\n",
      "Columns: 6\n",
      "$ ID \u001b[3m\u001b[90m<int>\u001b[39m\u001b[23m 1, 2, 3, 4, 5, 6, 7, 8, 9, 10, 11, 12, 13, 14, 15\n",
      "$ Y1 \u001b[3m\u001b[90m<dbl>\u001b[39m\u001b[23m 0.8, 2.2, 1.6, 2.6, 2.7, 2.1, 3.1, 3.0, 3.2, 2.6, 2.7, 3.0, 1.6, 0.…\n",
      "$ Y2 \u001b[3m\u001b[90m<dbl>\u001b[39m\u001b[23m 2.0, 2.2, 2.0, 3.7, 3.2, 3.2, 3.7, 3.1, 2.6, 3.2, 2.8, 2.4, 1.4, 1.…\n",
      "$ X1 \u001b[3m\u001b[90m<int>\u001b[39m\u001b[23m 72, 78, 84, 95, 88, 83, 92, 86, 88, 80, 87, 94, 73, 80, 83\n",
      "$ X2 \u001b[3m\u001b[90m<int>\u001b[39m\u001b[23m 114, 117, 117, 120, 117, 123, 118, 114, 114, 115, 114, 112, 115, 11…\n",
      "$ X3 \u001b[3m\u001b[90m<dbl>\u001b[39m\u001b[23m 17.3, 17.6, 15.0, 18.0, 18.7, 17.9, 17.3, 18.1, 16.0, 16.4, 17.6, 1…\n"
     ]
    }
   ],
   "source": [
    "Stu_Outlier %>% glimpse"
   ]
  },
  {
   "cell_type": "code",
   "execution_count": 9,
   "id": "a13c03f7",
   "metadata": {},
   "outputs": [
    {
     "data": {
      "text/html": [
       "<table class=\"dataframe\">\n",
       "<caption>A psych: 6 × 13</caption>\n",
       "<thead>\n",
       "\t<tr><th></th><th scope=col>vars</th><th scope=col>n</th><th scope=col>mean</th><th scope=col>sd</th><th scope=col>median</th><th scope=col>trimmed</th><th scope=col>mad</th><th scope=col>min</th><th scope=col>max</th><th scope=col>range</th><th scope=col>skew</th><th scope=col>kurtosis</th><th scope=col>se</th></tr>\n",
       "\t<tr><th></th><th scope=col>&lt;int&gt;</th><th scope=col>&lt;dbl&gt;</th><th scope=col>&lt;dbl&gt;</th><th scope=col>&lt;dbl&gt;</th><th scope=col>&lt;dbl&gt;</th><th scope=col>&lt;dbl&gt;</th><th scope=col>&lt;dbl&gt;</th><th scope=col>&lt;dbl&gt;</th><th scope=col>&lt;dbl&gt;</th><th scope=col>&lt;dbl&gt;</th><th scope=col>&lt;dbl&gt;</th><th scope=col>&lt;dbl&gt;</th><th scope=col>&lt;dbl&gt;</th></tr>\n",
       "</thead>\n",
       "<tbody>\n",
       "\t<tr><th scope=row>ID</th><td>1</td><td>15</td><td>  8.000000</td><td> 4.4721360</td><td>  8.0</td><td>  8.000000</td><td>5.93040</td><td>  1.0</td><td> 15.0</td><td>14.0</td><td> 0.0000000</td><td>-1.4413333</td><td>1.1547005</td></tr>\n",
       "\t<tr><th scope=row>Y1</th><td>2</td><td>15</td><td>  2.266667</td><td> 0.7705904</td><td>  2.6</td><td>  2.307692</td><td>0.74130</td><td>  0.8</td><td>  3.2</td><td> 2.4</td><td>-0.5736086</td><td>-1.0252936</td><td>0.1989656</td></tr>\n",
       "\t<tr><th scope=row>Y2</th><td>3</td><td>15</td><td>  2.513333</td><td> 0.8683866</td><td>  2.6</td><td>  2.538462</td><td>0.88956</td><td>  1.0</td><td>  3.7</td><td> 2.7</td><td>-0.2926213</td><td>-1.2809593</td><td>0.2242164</td></tr>\n",
       "\t<tr><th scope=row>X1</th><td>4</td><td>15</td><td> 84.200000</td><td> 6.8889145</td><td> 84.0</td><td> 84.307692</td><td>5.93040</td><td> 72.0</td><td> 95.0</td><td>23.0</td><td>-0.1626779</td><td>-1.0163896</td><td>1.7787101</td></tr>\n",
       "\t<tr><th scope=row>X2</th><td>5</td><td>15</td><td>118.733333</td><td>11.8168564</td><td>115.0</td><td>116.153846</td><td>2.96520</td><td>111.0</td><td>160.0</td><td>49.0</td><td> 2.7894442</td><td> 6.9438161</td><td>3.0510992</td></tr>\n",
       "\t<tr><th scope=row>X3</th><td>6</td><td>15</td><td> 17.013333</td><td> 1.6413699</td><td> 17.3</td><td> 17.153846</td><td>1.18608</td><td> 12.7</td><td> 19.5</td><td> 6.8</td><td>-1.0082410</td><td> 0.8026455</td><td>0.4237999</td></tr>\n",
       "</tbody>\n",
       "</table>\n"
      ],
      "text/latex": [
       "A psych: 6 × 13\n",
       "\\begin{tabular}{r|lllllllllllll}\n",
       "  & vars & n & mean & sd & median & trimmed & mad & min & max & range & skew & kurtosis & se\\\\\n",
       "  & <int> & <dbl> & <dbl> & <dbl> & <dbl> & <dbl> & <dbl> & <dbl> & <dbl> & <dbl> & <dbl> & <dbl> & <dbl>\\\\\n",
       "\\hline\n",
       "\tID & 1 & 15 &   8.000000 &  4.4721360 &   8.0 &   8.000000 & 5.93040 &   1.0 &  15.0 & 14.0 &  0.0000000 & -1.4413333 & 1.1547005\\\\\n",
       "\tY1 & 2 & 15 &   2.266667 &  0.7705904 &   2.6 &   2.307692 & 0.74130 &   0.8 &   3.2 &  2.4 & -0.5736086 & -1.0252936 & 0.1989656\\\\\n",
       "\tY2 & 3 & 15 &   2.513333 &  0.8683866 &   2.6 &   2.538462 & 0.88956 &   1.0 &   3.7 &  2.7 & -0.2926213 & -1.2809593 & 0.2242164\\\\\n",
       "\tX1 & 4 & 15 &  84.200000 &  6.8889145 &  84.0 &  84.307692 & 5.93040 &  72.0 &  95.0 & 23.0 & -0.1626779 & -1.0163896 & 1.7787101\\\\\n",
       "\tX2 & 5 & 15 & 118.733333 & 11.8168564 & 115.0 & 116.153846 & 2.96520 & 111.0 & 160.0 & 49.0 &  2.7894442 &  6.9438161 & 3.0510992\\\\\n",
       "\tX3 & 6 & 15 &  17.013333 &  1.6413699 &  17.3 &  17.153846 & 1.18608 &  12.7 &  19.5 &  6.8 & -1.0082410 &  0.8026455 & 0.4237999\\\\\n",
       "\\end{tabular}\n"
      ],
      "text/markdown": [
       "\n",
       "A psych: 6 × 13\n",
       "\n",
       "| <!--/--> | vars &lt;int&gt; | n &lt;dbl&gt; | mean &lt;dbl&gt; | sd &lt;dbl&gt; | median &lt;dbl&gt; | trimmed &lt;dbl&gt; | mad &lt;dbl&gt; | min &lt;dbl&gt; | max &lt;dbl&gt; | range &lt;dbl&gt; | skew &lt;dbl&gt; | kurtosis &lt;dbl&gt; | se &lt;dbl&gt; |\n",
       "|---|---|---|---|---|---|---|---|---|---|---|---|---|---|\n",
       "| ID | 1 | 15 |   8.000000 |  4.4721360 |   8.0 |   8.000000 | 5.93040 |   1.0 |  15.0 | 14.0 |  0.0000000 | -1.4413333 | 1.1547005 |\n",
       "| Y1 | 2 | 15 |   2.266667 |  0.7705904 |   2.6 |   2.307692 | 0.74130 |   0.8 |   3.2 |  2.4 | -0.5736086 | -1.0252936 | 0.1989656 |\n",
       "| Y2 | 3 | 15 |   2.513333 |  0.8683866 |   2.6 |   2.538462 | 0.88956 |   1.0 |   3.7 |  2.7 | -0.2926213 | -1.2809593 | 0.2242164 |\n",
       "| X1 | 4 | 15 |  84.200000 |  6.8889145 |  84.0 |  84.307692 | 5.93040 |  72.0 |  95.0 | 23.0 | -0.1626779 | -1.0163896 | 1.7787101 |\n",
       "| X2 | 5 | 15 | 118.733333 | 11.8168564 | 115.0 | 116.153846 | 2.96520 | 111.0 | 160.0 | 49.0 |  2.7894442 |  6.9438161 | 3.0510992 |\n",
       "| X3 | 6 | 15 |  17.013333 |  1.6413699 |  17.3 |  17.153846 | 1.18608 |  12.7 |  19.5 |  6.8 | -1.0082410 |  0.8026455 | 0.4237999 |\n",
       "\n"
      ],
      "text/plain": [
       "   vars n  mean       sd         median trimmed    mad     min   max   range\n",
       "ID 1    15   8.000000  4.4721360   8.0    8.000000 5.93040   1.0  15.0 14.0 \n",
       "Y1 2    15   2.266667  0.7705904   2.6    2.307692 0.74130   0.8   3.2  2.4 \n",
       "Y2 3    15   2.513333  0.8683866   2.6    2.538462 0.88956   1.0   3.7  2.7 \n",
       "X1 4    15  84.200000  6.8889145  84.0   84.307692 5.93040  72.0  95.0 23.0 \n",
       "X2 5    15 118.733333 11.8168564 115.0  116.153846 2.96520 111.0 160.0 49.0 \n",
       "X3 6    15  17.013333  1.6413699  17.3   17.153846 1.18608  12.7  19.5  6.8 \n",
       "   skew       kurtosis   se       \n",
       "ID  0.0000000 -1.4413333 1.1547005\n",
       "Y1 -0.5736086 -1.0252936 0.1989656\n",
       "Y2 -0.2926213 -1.2809593 0.2242164\n",
       "X1 -0.1626779 -1.0163896 1.7787101\n",
       "X2  2.7894442  6.9438161 3.0510992\n",
       "X3 -1.0082410  0.8026455 0.4237999"
      ]
     },
     "metadata": {},
     "output_type": "display_data"
    }
   ],
   "source": [
    "psych::describe(Stu_Outlier)"
   ]
  },
  {
   "cell_type": "markdown",
   "id": "1f6172d0",
   "metadata": {},
   "source": [
    "<br>\n",
    "\n",
    "#### `DescTools::Desc()` : 요약 통계량, 히스토그램, 상자그림, 누적분포함수 등의 그래프 출력"
   ]
  },
  {
   "cell_type": "code",
   "execution_count": 19,
   "id": "76cc3ba4",
   "metadata": {},
   "outputs": [],
   "source": [
    "library(DescTools)\n",
    "options(scipen = 100)"
   ]
  },
  {
   "cell_type": "code",
   "execution_count": 22,
   "id": "a5e77db0",
   "metadata": {},
   "outputs": [
    {
     "data": {
      "text/html": [
       "<style>\n",
       ".list-inline {list-style: none; margin:0; padding: 0}\n",
       ".list-inline>li {display: inline-block}\n",
       ".list-inline>li:not(:last-child)::after {content: \"\\00b7\"; padding: 0 .5ex}\n",
       "</style>\n",
       "<ol class=list-inline><li>'ID'</li><li>'Y1'</li><li>'Y2'</li><li>'X1'</li><li>'X2'</li><li>'X3'</li></ol>\n"
      ],
      "text/latex": [
       "\\begin{enumerate*}\n",
       "\\item 'ID'\n",
       "\\item 'Y1'\n",
       "\\item 'Y2'\n",
       "\\item 'X1'\n",
       "\\item 'X2'\n",
       "\\item 'X3'\n",
       "\\end{enumerate*}\n"
      ],
      "text/markdown": [
       "1. 'ID'\n",
       "2. 'Y1'\n",
       "3. 'Y2'\n",
       "4. 'X1'\n",
       "5. 'X2'\n",
       "6. 'X3'\n",
       "\n",
       "\n"
      ],
      "text/plain": [
       "[1] \"ID\" \"Y1\" \"Y2\" \"X1\" \"X2\" \"X3\""
      ]
     },
     "metadata": {},
     "output_type": "display_data"
    }
   ],
   "source": [
    "colnames(Stu_Outlier)"
   ]
  },
  {
   "cell_type": "code",
   "execution_count": 20,
   "id": "0b2ac293",
   "metadata": {
    "scrolled": false
   },
   "outputs": [
    {
     "data": {
      "image/png": "[encoded data removed]",
      "text/plain": [
       "Plot with title \"1 - ID (integer)\""
      ]
     },
     "metadata": {
      "image/png": {
       "height": 420,
       "width": 420
      }
     },
     "output_type": "display_data"
    },
    {
     "data": {
      "image/png": "[encoded data removed]",
      "text/plain": [
       "Plot with title \"2 - Y1 (numeric)\""
      ]
     },
     "metadata": {
      "image/png": {
       "height": 420,
       "width": 420
      }
     },
     "output_type": "display_data"
    },
    {
     "data": {
      "image/png": "[encoded data removed]",
      "text/plain": [
       "Plot with title \"3 - Y2 (numeric)\""
      ]
     },
     "metadata": {
      "image/png": {
       "height": 420,
       "width": 420
      }
     },
     "output_type": "display_data"
    },
    {
     "data": {
      "image/png": "[encoded data removed]",
      "text/plain": [
       "Plot with title \"4 - X1 (integer)\""
      ]
     },
     "metadata": {
      "image/png": {
       "height": 420,
       "width": 420
      }
     },
     "output_type": "display_data"
    },
    {
     "data": {
      "text/plain": [
       "------------------------------------------------------------------------------ \n",
       "\u001b[1mDescribe Stu_Outlier (data.frame):\u001b[22m\n",
       "\n",
       "data frame:\t15 obs. of  6 variables\n",
       "\t\t15 complete cases (100.0%)\n",
       "\n",
       "  Nr  ColName  Class    NAs  Levels\n",
       "  1   ID       integer  .          \n",
       "  2   Y1       numeric  .          \n",
       "  3   Y2       numeric  .          \n",
       "  4   X1       integer  .          \n",
       "  5   X2       integer  .          \n",
       "  6   X3       numeric  .          \n",
       "\n",
       "\n",
       "------------------------------------------------------------------------------ \n",
       "\u001b[1m1 - ID (integer)\u001b[22m\n",
       "\n",
       "  length       n    NAs  unique      0s    mean  meanCI'\n",
       "      15      15      0     = n       0   8.000   5.523\n",
       "          100.0%   0.0%            0.0%          10.477\n",
       "                                                       \n",
       "     .05     .10    .25  median     .75     .90     .95\n",
       "   1.700   2.400  4.500   8.000  11.500  13.600  14.300\n",
       "                                                       \n",
       "   range      sd  vcoef     mad     IQR    skew    kurt\n",
       "  14.000   4.472  0.559   5.930   7.000   0.000  -1.441\n",
       "                                                       \n",
       "lowest : 1, 2, 3, 4, 5\n",
       "highest: 11, 12, 13, 14, 15\n",
       "\n",
       "\u001b[38;5;244m' 95%-CI (classic)\u001b[39m\n",
       "\n",
       "------------------------------------------------------------------------------ \n",
       "\u001b[1m2 - Y1 (numeric)\u001b[22m\n",
       "\n",
       "  length       n    NAs  unique     0s    mean  meanCI'\n",
       "      15      15      0      11      0   2.267   1.840\n",
       "          100.0%   0.0%           0.0%           2.693\n",
       "                                                      \n",
       "     .05     .10    .25  median    .75     .90     .95\n",
       "   0.870   1.180  1.750   2.600  2.850   3.060   3.130\n",
       "                                                      \n",
       "   range      sd  vcoef     mad    IQR    skew    kurt\n",
       "   2.400   0.771  0.340   0.741  1.100  -0.574  -1.025\n",
       "                                                      \n",
       "\n",
       "    value  freq   perc  cumfreq  cumperc\n",
       "1     0.8     1   6.7%        1     6.7%\n",
       "2     0.9     1   6.7%        2    13.3%\n",
       "3     1.6     2  13.3%        4    26.7%\n",
       "4     1.9     1   6.7%        5    33.3%\n",
       "5     2.1     1   6.7%        6    40.0%\n",
       "6     2.2     1   6.7%        7    46.7%\n",
       "7     2.6     2  13.3%        9    60.0%\n",
       "8     2.7     2  13.3%       11    73.3%\n",
       "9       3     2  13.3%       13    86.7%\n",
       "10    3.1     1   6.7%       14    93.3%\n",
       "11    3.2     1   6.7%       15   100.0%\n",
       "\n",
       "\u001b[38;5;244m' 95%-CI (classic)\u001b[39m\n",
       "\n",
       "------------------------------------------------------------------------------ \n",
       "\u001b[1m3 - Y2 (numeric)\u001b[22m\n",
       "\n",
       "  length       n    NAs  unique     0s    mean  meanCI'\n",
       "      15      15      0      11      0   2.513   2.032\n",
       "          100.0%   0.0%           0.0%           2.994\n",
       "                                                      \n",
       "     .05     .10    .25  median    .75     .90     .95\n",
       "   1.140   1.280  2.000   2.600  3.200   3.500   3.700\n",
       "                                                      \n",
       "   range      sd  vcoef     mad    IQR    skew    kurt\n",
       "   2.700   0.868  0.346   0.890  1.200  -0.293  -1.281\n",
       "                                                      \n",
       "\n",
       "    value  freq   perc  cumfreq  cumperc\n",
       "1       1     1   6.7%        1     6.7%\n",
       "2     1.2     1   6.7%        2    13.3%\n",
       "3     1.4     1   6.7%        3    20.0%\n",
       "4       2     2  13.3%        5    33.3%\n",
       "5     2.2     1   6.7%        6    40.0%\n",
       "6     2.4     1   6.7%        7    46.7%\n",
       "7     2.6     1   6.7%        8    53.3%\n",
       "8     2.8     1   6.7%        9    60.0%\n",
       "9     3.1     1   6.7%       10    66.7%\n",
       "10    3.2     3  20.0%       13    86.7%\n",
       "11    3.7     2  13.3%       15   100.0%\n",
       "\n",
       "\u001b[38;5;244m' 95%-CI (classic)\u001b[39m\n",
       "\n",
       "------------------------------------------------------------------------------ \n",
       "\u001b[1m4 - X1 (integer)\u001b[22m\n",
       "\n",
       "  length       n     NAs  unique      0s    mean  meanCI'\n",
       "      15      15       0      12       0  84.200  80.385\n",
       "          100.0%    0.0%            0.0%          88.015\n",
       "                                                        \n",
       "     .05     .10     .25  median     .75     .90     .95\n",
       "  72.700  75.000  80.000  84.000  88.000  93.200  94.300\n",
       "                                                        \n",
       "   range      sd   vcoef     mad     IQR    skew    kurt\n",
       "  23.000   6.889   0.082   5.930   8.000  -0.163  -1.016\n",
       "                                                        \n",
       "\n",
       "    value  freq   perc  cumfreq  cumperc\n",
       "1      72     1   6.7%        1     6.7%\n",
       "2      73     1   6.7%        2    13.3%\n",
       "3      78     1   6.7%        3    20.0%\n",
       "4      80     2  13.3%        5    33.3%\n",
       "5      83     2  13.3%        7    46.7%\n",
       "6      84     1   6.7%        8    53.3%\n",
       "7      86     1   6.7%        9    60.0%\n",
       "8      87     1   6.7%       10    66.7%\n",
       "9      88     2  13.3%       12    80.0%\n",
       "10     92     1   6.7%       13    86.7%\n",
       "11     94     1   6.7%       14    93.3%\n",
       "12     95     1   6.7%       15   100.0%\n",
       "\n",
       "\u001b[38;5;244m' 95%-CI (classic)\u001b[39m\n",
       "\n",
       "------------------------------------------------------------------------------ \n",
       "\u001b[1m5 - X2 (integer)\u001b[22m\n",
       "\n",
       "   length        n      NAs   unique       0s     mean   meanCI'\n",
       "       15       15        0        9        0  118.733  112.189\n",
       "            100.0%     0.0%              0.0%           125.277\n",
       "                                                               \n",
       "      .05      .10      .25   median      .75      .90      .95\n",
       "  111.700  112.800  114.000  115.000  117.500  121.800  134.100\n",
       "                                                               \n",
       "    range       sd    vcoef      mad      IQR     skew     kurt\n",
       "   49.000   11.817    0.100    2.965    3.500    2.789    6.944\n",
       "                                                               \n",
       "\n",
       "   value  freq   perc  cumfreq  cumperc\n",
       "1    111     1   6.7%        1     6.7%\n",
       "2    112     1   6.7%        2    13.3%\n",
       "3    114     4  26.7%        6    40.0%\n",
       "4    115     2  13.3%        8    53.3%\n",
       "5    117     3  20.0%       11    73.3%\n",
       "6    118     1   6.7%       12    80.0%\n",
       "7    120     1   6.7%       13    86.7%\n",
       "8    123     1   6.7%       14    93.3%\n",
       "9    160     1   6.7%       15   100.0%\n",
       "\n",
       "\u001b[38;5;244m' 95%-CI (classic)\u001b[39m\n",
       "\n",
       "------------------------------------------------------------------------------ \n",
       "\u001b[1m6 - X3 (numeric)\u001b[22m\n",
       "\n",
       "  length       n     NAs  unique      0s    mean  meanCI'\n",
       "      15      15       0      13       0  17.013  16.104\n",
       "          100.0%    0.0%            0.0%          17.922\n",
       "                                                        \n",
       "     .05     .10     .25  median     .75     .90     .95\n",
       "  14.310  15.400  16.250  17.300  17.950  18.460  18.940\n",
       "                                                        \n",
       "   range      sd   vcoef     mad     IQR    skew    kurt\n",
       "   6.800   1.641   0.096   1.186   1.700  -1.008   0.803\n",
       "                                                        \n",
       "lowest : 12.700, 15.000, 16.000, 16.100, 16.400\n",
       "highest: 17.900, 18.000, 18.100, 18.700, 19.500\n",
       "\n",
       "\u001b[38;5;244m' 95%-CI (classic)\u001b[39m\n"
      ]
     },
     "metadata": {},
     "output_type": "display_data"
    },
    {
     "data": {
      "image/png": "[encoded data removed]",
      "text/plain": [
       "Plot with title \"5 - X2 (integer)\""
      ]
     },
     "metadata": {
      "image/png": {
       "height": 420,
       "width": 420
      }
     },
     "output_type": "display_data"
    },
    {
     "data": {
      "image/png": "[encoded data removed]",
      "text/plain": [
       "Plot with title \"6 - X3 (numeric)\""
      ]
     },
     "metadata": {
      "image/png": {
       "height": 420,
       "width": 420
      }
     },
     "output_type": "display_data"
    }
   ],
   "source": [
    "Desc(Stu_Outlier, lotit=True, digits=3)"
   ]
  },
  {
   "cell_type": "markdown",
   "id": "7f793586",
   "metadata": {},
   "source": [
    "<br>\n",
    "\n",
    "## 02.02. 기술통계량\n",
    "\n",
    "<br>\n",
    "\n",
    "### 표본평균 : n개의 표본으로부터 관찰값 ($x_{1i}, \\dots, x_{ni}$)을 얻은 경우\n",
    "- 평균은 대푯값의 측도 $rightarrow$ 평균을 통해 관찰값들이 전체적으로 어디에 몰려있는지 진단\n",
    "\n",
    "$$\\bar{x_i}={1 \\over n}\\sum^n_{k=1} x_{ki}$$\n",
    "\n",
    "<br>\n",
    "\n",
    "### 분산, 표준편차, 변동계수\n",
    "- 한 변수의 변이정도 (variability)는 분산(variance)로 측정\n",
    "- 자료들이 평균으로부터 얼마만큼 떨어져 있는지를 측정하는 산포도(measure of dispersion)를 측도\n",
    "- **변수 $x_i$의 표본분산 $s^2_{i}$**\n",
    "    - 분산에 제곱근인 $s_i$는 표준편차 (standard deviation)\n",
    "- **표준편차가 너무 크면 특이값이 존재할 가능성 증가, 표준편차가 너무 작게 나타나면 측정변수가 가지고 있는 정보가 많지 않다는 것을 의미**\n",
    "\n",
    "$$s^2_i = {1 \\over {n-1}}\\sum^n_{j=1}(x_{ki} - \\bar{x_i})^2$$\n",
    "\n",
    "- 표준편차는 측정단위를 가지고 있기에, 측정단위가 다른 자료들의 산포도를 비교할 때에는 **변수 $x_i$의 변동계수 (coefficient of variation, 변이계수)**는 평균에 대한 표준편차의 백분율로 정의\n",
    "\n",
    "$$CV_i = {s_i \\over \\bar{x_i}} \\times 100(\\%)$$\n",
    "\n",
    "- 이는 측정단위에 의존하지 않으므로, 측정단위나 상대크기가 서로 다른 자료들의 산포도를 비교할 때 유용\n",
    "\n",
    "<br>\n",
    "\n",
    "### 왜도, 첨도\n",
    "- **왜도 : 데이터 값들의 분포에 대한 비대칭의 정도**\n",
    "    - 왜도가 0 : 자료분포의 형태가 좌우 대칭\n",
    "    - 왜도 > 0 : 자료분포가 왼쪽으로 치우침 (오른쪽으로 긴 꼬리)\n",
    "    - 왜도 < 0 : 자료분포가 오른쪽으로 치우침 (왼쪽으로 긴 꼬리)\n",
    "\n",
    "$$Skewness = {1 \\over {n-1}}\\sum^n_{i=1}({{x_i - \\bar{x}} \\over {s}})^3$$\n",
    "\n",
    "<br>\n",
    "\n",
    "- **첨도 : 데이터 분포의 뾰족한 정도**\n",
    "    - 표준정규분포의 첨도는 0\n",
    "    - 첨도 > 0 : 자료분포의 형태가 표준정규분포보다 더 뾰족함\n",
    "    - 첨도 < 0 : 자료분포의 형태가 표준정규분포보다 더 납작\n",
    "\n",
    "$$Kurtosis = {1 \\over {n-1}} \\sum^n_{i=1}({{x_i - \\bar{x}} \\over {s}})^4 - 3$$\n",
    "\n",
    "<br>\n",
    "\n",
    "#### 데이터의 왜도 및 첨도가 정규분포와 유의하게 다른가를 검토하기 위해서는 표준화값 (standardized score) 계산 필요\n",
    "- 왜도와 첨도의 표준화값 (Z-값)\n",
    "    - Z-값은 근사적으로 표준정규분포를 따르므로, 일반적으로 $|Z|>3\\;(또는\\;2)$일 경우, 정규분포를 따르지 않는 것으로 판정\n",
    "    - 표준오차는 표분크기에 영향을 받은 $\\rightarrow$ 표본크기가 매우 클 경우에는 왜도와 첨도, Z-값, 히스토그램, 상자그림 등을 통해 전체적으로 검토하는 것이 바람직\n",
    "\n",
    "$$Z-값 = {통계량 \\over 표준오차}$$\n",
    "\n",
    "$$왜도의\\;표준오차\\;=\\;\\sqrt{6/n}$$\n",
    "$$첨도의\\;표준오차\\;=\\;\\sqrt{24/n}$$"
   ]
  },
  {
   "cell_type": "markdown",
   "id": "ae329c58",
   "metadata": {},
   "source": [
    "<br>\n",
    "\n",
    "- 왜도와 첨도에 대한 Z-값 계산"
   ]
  },
  {
   "cell_type": "code",
   "execution_count": 29,
   "id": "f27aa1a0",
   "metadata": {},
   "outputs": [
    {
     "data": {
      "text/html": [
       "<table class=\"dataframe\">\n",
       "<caption>A psych: 6 × 15</caption>\n",
       "<thead>\n",
       "\t<tr><th></th><th scope=col>vars</th><th scope=col>n</th><th scope=col>mean</th><th scope=col>sd</th><th scope=col>median</th><th scope=col>trimmed</th><th scope=col>mad</th><th scope=col>min</th><th scope=col>max</th><th scope=col>range</th><th scope=col>skew</th><th scope=col>kurtosis</th><th scope=col>se</th><th scope=col>skew.z</th><th scope=col>kurt.z</th></tr>\n",
       "\t<tr><th></th><th scope=col>&lt;int&gt;</th><th scope=col>&lt;dbl&gt;</th><th scope=col>&lt;dbl&gt;</th><th scope=col>&lt;dbl&gt;</th><th scope=col>&lt;dbl&gt;</th><th scope=col>&lt;dbl&gt;</th><th scope=col>&lt;dbl&gt;</th><th scope=col>&lt;dbl&gt;</th><th scope=col>&lt;dbl&gt;</th><th scope=col>&lt;dbl&gt;</th><th scope=col>&lt;dbl&gt;</th><th scope=col>&lt;dbl&gt;</th><th scope=col>&lt;dbl&gt;</th><th scope=col>&lt;dbl&gt;</th><th scope=col>&lt;dbl&gt;</th></tr>\n",
       "</thead>\n",
       "<tbody>\n",
       "\t<tr><th scope=row>ID</th><td>1</td><td>15</td><td>  8.000000</td><td> 4.4721360</td><td>  8.0</td><td>  8.000000</td><td>5.93040</td><td>  1.0</td><td> 15.0</td><td>14.0</td><td> 0.0000000</td><td>-1.4413333</td><td>1.1547005</td><td> 0.0000000</td><td>-1.1394741</td></tr>\n",
       "\t<tr><th scope=row>Y1</th><td>2</td><td>15</td><td>  2.266667</td><td> 0.7705904</td><td>  2.6</td><td>  2.307692</td><td>0.74130</td><td>  0.8</td><td>  3.2</td><td> 2.4</td><td>-0.5736086</td><td>-1.0252936</td><td>0.1989656</td><td>-0.9069549</td><td>-0.8105657</td></tr>\n",
       "\t<tr><th scope=row>Y2</th><td>3</td><td>15</td><td>  2.513333</td><td> 0.8683866</td><td>  2.6</td><td>  2.538462</td><td>0.88956</td><td>  1.0</td><td>  3.7</td><td> 2.7</td><td>-0.2926213</td><td>-1.2809593</td><td>0.2242164</td><td>-0.4626749</td><td>-1.0126872</td></tr>\n",
       "\t<tr><th scope=row>X1</th><td>4</td><td>15</td><td> 84.200000</td><td> 6.8889145</td><td> 84.0</td><td> 84.307692</td><td>5.93040</td><td> 72.0</td><td> 95.0</td><td>23.0</td><td>-0.1626779</td><td>-1.0163896</td><td>1.7787101</td><td>-0.2572164</td><td>-0.8035265</td></tr>\n",
       "\t<tr><th scope=row>X2</th><td>5</td><td>15</td><td>118.733333</td><td>11.8168564</td><td>115.0</td><td>116.153846</td><td>2.96520</td><td>111.0</td><td>160.0</td><td>49.0</td><td> 2.7894442</td><td> 6.9438161</td><td>3.0510992</td><td> 4.4104986</td><td> 5.4895686</td></tr>\n",
       "\t<tr><th scope=row>X3</th><td>6</td><td>15</td><td> 17.013333</td><td> 1.6413699</td><td> 17.3</td><td> 17.153846</td><td>1.18608</td><td> 12.7</td><td> 19.5</td><td> 6.8</td><td>-1.0082410</td><td> 0.8026455</td><td>0.4237999</td><td>-1.5941690</td><td> 0.6345470</td></tr>\n",
       "</tbody>\n",
       "</table>\n"
      ],
      "text/latex": [
       "A psych: 6 × 15\n",
       "\\begin{tabular}{r|lllllllllllllll}\n",
       "  & vars & n & mean & sd & median & trimmed & mad & min & max & range & skew & kurtosis & se & skew.z & kurt.z\\\\\n",
       "  & <int> & <dbl> & <dbl> & <dbl> & <dbl> & <dbl> & <dbl> & <dbl> & <dbl> & <dbl> & <dbl> & <dbl> & <dbl> & <dbl> & <dbl>\\\\\n",
       "\\hline\n",
       "\tID & 1 & 15 &   8.000000 &  4.4721360 &   8.0 &   8.000000 & 5.93040 &   1.0 &  15.0 & 14.0 &  0.0000000 & -1.4413333 & 1.1547005 &  0.0000000 & -1.1394741\\\\\n",
       "\tY1 & 2 & 15 &   2.266667 &  0.7705904 &   2.6 &   2.307692 & 0.74130 &   0.8 &   3.2 &  2.4 & -0.5736086 & -1.0252936 & 0.1989656 & -0.9069549 & -0.8105657\\\\\n",
       "\tY2 & 3 & 15 &   2.513333 &  0.8683866 &   2.6 &   2.538462 & 0.88956 &   1.0 &   3.7 &  2.7 & -0.2926213 & -1.2809593 & 0.2242164 & -0.4626749 & -1.0126872\\\\\n",
       "\tX1 & 4 & 15 &  84.200000 &  6.8889145 &  84.0 &  84.307692 & 5.93040 &  72.0 &  95.0 & 23.0 & -0.1626779 & -1.0163896 & 1.7787101 & -0.2572164 & -0.8035265\\\\\n",
       "\tX2 & 5 & 15 & 118.733333 & 11.8168564 & 115.0 & 116.153846 & 2.96520 & 111.0 & 160.0 & 49.0 &  2.7894442 &  6.9438161 & 3.0510992 &  4.4104986 &  5.4895686\\\\\n",
       "\tX3 & 6 & 15 &  17.013333 &  1.6413699 &  17.3 &  17.153846 & 1.18608 &  12.7 &  19.5 &  6.8 & -1.0082410 &  0.8026455 & 0.4237999 & -1.5941690 &  0.6345470\\\\\n",
       "\\end{tabular}\n"
      ],
      "text/markdown": [
       "\n",
       "A psych: 6 × 15\n",
       "\n",
       "| <!--/--> | vars &lt;int&gt; | n &lt;dbl&gt; | mean &lt;dbl&gt; | sd &lt;dbl&gt; | median &lt;dbl&gt; | trimmed &lt;dbl&gt; | mad &lt;dbl&gt; | min &lt;dbl&gt; | max &lt;dbl&gt; | range &lt;dbl&gt; | skew &lt;dbl&gt; | kurtosis &lt;dbl&gt; | se &lt;dbl&gt; | skew.z &lt;dbl&gt; | kurt.z &lt;dbl&gt; |\n",
       "|---|---|---|---|---|---|---|---|---|---|---|---|---|---|---|---|\n",
       "| ID | 1 | 15 |   8.000000 |  4.4721360 |   8.0 |   8.000000 | 5.93040 |   1.0 |  15.0 | 14.0 |  0.0000000 | -1.4413333 | 1.1547005 |  0.0000000 | -1.1394741 |\n",
       "| Y1 | 2 | 15 |   2.266667 |  0.7705904 |   2.6 |   2.307692 | 0.74130 |   0.8 |   3.2 |  2.4 | -0.5736086 | -1.0252936 | 0.1989656 | -0.9069549 | -0.8105657 |\n",
       "| Y2 | 3 | 15 |   2.513333 |  0.8683866 |   2.6 |   2.538462 | 0.88956 |   1.0 |   3.7 |  2.7 | -0.2926213 | -1.2809593 | 0.2242164 | -0.4626749 | -1.0126872 |\n",
       "| X1 | 4 | 15 |  84.200000 |  6.8889145 |  84.0 |  84.307692 | 5.93040 |  72.0 |  95.0 | 23.0 | -0.1626779 | -1.0163896 | 1.7787101 | -0.2572164 | -0.8035265 |\n",
       "| X2 | 5 | 15 | 118.733333 | 11.8168564 | 115.0 | 116.153846 | 2.96520 | 111.0 | 160.0 | 49.0 |  2.7894442 |  6.9438161 | 3.0510992 |  4.4104986 |  5.4895686 |\n",
       "| X3 | 6 | 15 |  17.013333 |  1.6413699 |  17.3 |  17.153846 | 1.18608 |  12.7 |  19.5 |  6.8 | -1.0082410 |  0.8026455 | 0.4237999 | -1.5941690 |  0.6345470 |\n",
       "\n"
      ],
      "text/plain": [
       "   vars n  mean       sd         median trimmed    mad     min   max   range\n",
       "ID 1    15   8.000000  4.4721360   8.0    8.000000 5.93040   1.0  15.0 14.0 \n",
       "Y1 2    15   2.266667  0.7705904   2.6    2.307692 0.74130   0.8   3.2  2.4 \n",
       "Y2 3    15   2.513333  0.8683866   2.6    2.538462 0.88956   1.0   3.7  2.7 \n",
       "X1 4    15  84.200000  6.8889145  84.0   84.307692 5.93040  72.0  95.0 23.0 \n",
       "X2 5    15 118.733333 11.8168564 115.0  116.153846 2.96520 111.0 160.0 49.0 \n",
       "X3 6    15  17.013333  1.6413699  17.3   17.153846 1.18608  12.7  19.5  6.8 \n",
       "   skew       kurtosis   se        skew.z     kurt.z    \n",
       "ID  0.0000000 -1.4413333 1.1547005  0.0000000 -1.1394741\n",
       "Y1 -0.5736086 -1.0252936 0.1989656 -0.9069549 -0.8105657\n",
       "Y2 -0.2926213 -1.2809593 0.2242164 -0.4626749 -1.0126872\n",
       "X1 -0.1626779 -1.0163896 1.7787101 -0.2572164 -0.8035265\n",
       "X2  2.7894442  6.9438161 3.0510992  4.4104986  5.4895686\n",
       "X3 -1.0082410  0.8026455 0.4237999 -1.5941690  0.6345470"
      ]
     },
     "metadata": {},
     "output_type": "display_data"
    }
   ],
   "source": [
    "Stu.desc <- describe(Stu_Outlier)\n",
    "Stu.desc$skew.z = Stu.desc$skew / sqrt(x = 6/Stu.desc$n)\n",
    "Stu.desc$kurt.z <- Stu.desc$kurtosis / sqrt(x = 24/Stu.desc$n)\n",
    "\n",
    "Stu.desc"
   ]
  },
  {
   "cell_type": "markdown",
   "id": "7028293d",
   "metadata": {},
   "source": [
    "<br>\n",
    "\n",
    "### 정규성 검정\n",
    "- 정규성 검정법 중 가장 널리 알려진 **샤피로-윌크(Shapiro-Wilk) 검정**\n",
    "   - **샤피로-윌크 통계량 W는 0과 1 사이의 값을 가지며, W가 1에 가까우면 자료가 정규분포에 따름**\n",
    "- **귀무가설 ($H_0$) : 모집단의 분포가 정규분포이다 (= $H_0\\;:\\;x_1, x_2, \\dots, x_n\\; \\sim\\;N(\\mu, \\sigma^2)$)**"
   ]
  },
  {
   "cell_type": "code",
   "execution_count": 30,
   "id": "f94b86c0",
   "metadata": {},
   "outputs": [
    {
     "data": {
      "text/plain": [
       "\n",
       "\tShapiro-Wilk normality test\n",
       "\n",
       "data:  Stu_Outlier$X2\n",
       "W = 0.51977, p-value = 0.000005101\n"
      ]
     },
     "metadata": {},
     "output_type": "display_data"
    }
   ],
   "source": [
    "shapiro.test(Stu_Outlier$X2)"
   ]
  },
  {
   "cell_type": "markdown",
   "id": "c0775996",
   "metadata": {},
   "source": [
    "<br>\n",
    "\n",
    "## 02.03. 상관계수\n",
    "\n",
    "<br>\n",
    "\n",
    "### 산점도 작성"
   ]
  },
  {
   "cell_type": "code",
   "execution_count": 31,
   "id": "eb496a2a",
   "metadata": {},
   "outputs": [],
   "source": [
    "Student <- read.csv(paste0(getwd(), \"/Data/Student.csv\"), header = TRUE)"
   ]
  },
  {
   "cell_type": "code",
   "execution_count": 34,
   "id": "862b92bf",
   "metadata": {},
   "outputs": [
    {
     "data": {
      "image/png": "[encoded data removed]",
      "text/plain": [
       "plot without title"
      ]
     },
     "metadata": {
      "image/png": {
       "height": 420,
       "width": 420
      }
     },
     "output_type": "display_data"
    }
   ],
   "source": [
    "GGally::ggpairs(Student)"
   ]
  },
  {
   "cell_type": "markdown",
   "id": "1288d051",
   "metadata": {},
   "source": [
    "<br>\n",
    "\n",
    "### 상관계수 계산\n",
    "- 모상관계수가 0이라는 가설 ($H_0\\;:\\;\\rho=0,\\;H_1\\;:\\;\\rho\\neq0$)\n",
    "\n",
    "- **상관계수는 구조방정식모형의 직접적인 분석 대상**\n",
    "    - 상관계수의 부호과 크기가 이론적, 경험적 기대와 일치하는지를 검토\n",
    "    - **상관계수가 기대되는 바와 다르게 나타나면, 이 데이터에 근거한 분석결과는 타당하지 않음**\n",
    "    - **특히 잠재변수가 있는 모형을 설정할 경우, 각 관찰변수는 같은 잠재변수를 규정하는 변수 그룹들과 상대적으로 높은 상관계수를 가져야 함**\n",
    "    \n",
    "<br>\n",
    "\n",
    "- 최소한의 상관성 : $\\rho \\pm 0.3$\n",
    "- 중요한 상관성 : $\\rho \\pm 0.4$\n",
    "- 실제적으로 유의한 상관성 : $\\rho \\pm 0.5$\n",
    "\n",
    "<br>\n",
    "\n",
    "#### 다중공선성\n",
    "- **상관계수가 너무 커서 절댓값이 1에 가까울 경우 $\\rightarrow$ 두 변수가 거의 동일한 의미이거나 같은 정보를 가지고 있다는 것을 나타냄**|"
   ]
  },
  {
   "cell_type": "code",
   "execution_count": 37,
   "id": "233a71c0",
   "metadata": {},
   "outputs": [
    {
     "data": {
      "text/html": [
       "<table class=\"dataframe\">\n",
       "<caption>A matrix: 6 × 6 of type dbl</caption>\n",
       "<thead>\n",
       "\t<tr><th></th><th scope=col>ID</th><th scope=col>Y1</th><th scope=col>Y2</th><th scope=col>X1</th><th scope=col>X2</th><th scope=col>X3</th></tr>\n",
       "</thead>\n",
       "<tbody>\n",
       "\t<tr><th scope=row>ID</th><td> 1.00000000</td><td>0.05388982</td><td>-0.4285483</td><td>0.03941442</td><td>-0.6031532</td><td>-0.2442442</td></tr>\n",
       "\t<tr><th scope=row>Y1</th><td> 0.05388982</td><td>1.00000000</td><td> 0.7212200</td><td>0.75215855</td><td> 0.1726098</td><td> 0.3945590</td></tr>\n",
       "\t<tr><th scope=row>Y2</th><td>-0.42854831</td><td>0.72122003</td><td> 1.0000000</td><td>0.60607963</td><td> 0.6313374</td><td> 0.5020009</td></tr>\n",
       "\t<tr><th scope=row>X1</th><td> 0.03941442</td><td>0.75215855</td><td> 0.6060796</td><td>1.00000000</td><td> 0.1857455</td><td> 0.5537531</td></tr>\n",
       "\t<tr><th scope=row>X2</th><td>-0.60315316</td><td>0.17260979</td><td> 0.6313374</td><td>0.18574551</td><td> 1.0000000</td><td> 0.1058459</td></tr>\n",
       "\t<tr><th scope=row>X3</th><td>-0.24424418</td><td>0.39455898</td><td> 0.5020009</td><td>0.55375309</td><td> 0.1058459</td><td> 1.0000000</td></tr>\n",
       "</tbody>\n",
       "</table>\n"
      ],
      "text/latex": [
       "A matrix: 6 × 6 of type dbl\n",
       "\\begin{tabular}{r|llllll}\n",
       "  & ID & Y1 & Y2 & X1 & X2 & X3\\\\\n",
       "\\hline\n",
       "\tID &  1.00000000 & 0.05388982 & -0.4285483 & 0.03941442 & -0.6031532 & -0.2442442\\\\\n",
       "\tY1 &  0.05388982 & 1.00000000 &  0.7212200 & 0.75215855 &  0.1726098 &  0.3945590\\\\\n",
       "\tY2 & -0.42854831 & 0.72122003 &  1.0000000 & 0.60607963 &  0.6313374 &  0.5020009\\\\\n",
       "\tX1 &  0.03941442 & 0.75215855 &  0.6060796 & 1.00000000 &  0.1857455 &  0.5537531\\\\\n",
       "\tX2 & -0.60315316 & 0.17260979 &  0.6313374 & 0.18574551 &  1.0000000 &  0.1058459\\\\\n",
       "\tX3 & -0.24424418 & 0.39455898 &  0.5020009 & 0.55375309 &  0.1058459 &  1.0000000\\\\\n",
       "\\end{tabular}\n"
      ],
      "text/markdown": [
       "\n",
       "A matrix: 6 × 6 of type dbl\n",
       "\n",
       "| <!--/--> | ID | Y1 | Y2 | X1 | X2 | X3 |\n",
       "|---|---|---|---|---|---|---|\n",
       "| ID |  1.00000000 | 0.05388982 | -0.4285483 | 0.03941442 | -0.6031532 | -0.2442442 |\n",
       "| Y1 |  0.05388982 | 1.00000000 |  0.7212200 | 0.75215855 |  0.1726098 |  0.3945590 |\n",
       "| Y2 | -0.42854831 | 0.72122003 |  1.0000000 | 0.60607963 |  0.6313374 |  0.5020009 |\n",
       "| X1 |  0.03941442 | 0.75215855 |  0.6060796 | 1.00000000 |  0.1857455 |  0.5537531 |\n",
       "| X2 | -0.60315316 | 0.17260979 |  0.6313374 | 0.18574551 |  1.0000000 |  0.1058459 |\n",
       "| X3 | -0.24424418 | 0.39455898 |  0.5020009 | 0.55375309 |  0.1058459 |  1.0000000 |\n",
       "\n"
      ],
      "text/plain": [
       "   ID          Y1         Y2         X1         X2         X3        \n",
       "ID  1.00000000 0.05388982 -0.4285483 0.03941442 -0.6031532 -0.2442442\n",
       "Y1  0.05388982 1.00000000  0.7212200 0.75215855  0.1726098  0.3945590\n",
       "Y2 -0.42854831 0.72122003  1.0000000 0.60607963  0.6313374  0.5020009\n",
       "X1  0.03941442 0.75215855  0.6060796 1.00000000  0.1857455  0.5537531\n",
       "X2 -0.60315316 0.17260979  0.6313374 0.18574551  1.0000000  0.1058459\n",
       "X3 -0.24424418 0.39455898  0.5020009 0.55375309  0.1058459  1.0000000"
      ]
     },
     "metadata": {},
     "output_type": "display_data"
    }
   ],
   "source": [
    "cor(Student)"
   ]
  },
  {
   "cell_type": "markdown",
   "id": "336b276d",
   "metadata": {},
   "source": [
    "- 상관계수와 p-값을 함께 출력"
   ]
  },
  {
   "cell_type": "code",
   "execution_count": 39,
   "id": "d3e9d2e4",
   "metadata": {},
   "outputs": [],
   "source": [
    "library(Hmisc)"
   ]
  },
  {
   "cell_type": "code",
   "execution_count": 41,
   "id": "19c0f31e",
   "metadata": {},
   "outputs": [],
   "source": [
    "Student.matrix <- rcorr(as.matrix(Student))"
   ]
  },
  {
   "cell_type": "code",
   "execution_count": 42,
   "id": "c0692745",
   "metadata": {},
   "outputs": [
    {
     "data": {
      "text/plain": [
       "      ID   Y1    Y2   X1    X2    X3\n",
       "ID  1.00 0.05 -0.43 0.04 -0.60 -0.24\n",
       "Y1  0.05 1.00  0.72 0.75  0.17  0.39\n",
       "Y2 -0.43 0.72  1.00 0.61  0.63  0.50\n",
       "X1  0.04 0.75  0.61 1.00  0.19  0.55\n",
       "X2 -0.60 0.17  0.63 0.19  1.00  0.11\n",
       "X3 -0.24 0.39  0.50 0.55  0.11  1.00\n",
       "\n",
       "n= 15 \n",
       "\n",
       "\n",
       "P\n",
       "   ID     Y1     Y2     X1     X2     X3    \n",
       "ID        0.8487 0.1110 0.8891 0.0173 0.3803\n",
       "Y1 0.8487        0.0024 0.0012 0.5384 0.1456\n",
       "Y2 0.1110 0.0024        0.0166 0.0116 0.0565\n",
       "X1 0.8891 0.0012 0.0166        0.5075 0.0322\n",
       "X2 0.0173 0.5384 0.0116 0.5075        0.7073\n",
       "X3 0.3803 0.1456 0.0565 0.0322 0.7073       "
      ]
     },
     "metadata": {},
     "output_type": "display_data"
    }
   ],
   "source": [
    "Student.matrix"
   ]
  },
  {
   "cell_type": "markdown",
   "id": "06c4f1be",
   "metadata": {},
   "source": [
    "<br>\n",
    "\n",
    "## 02.04. 공분산과 상관계수\n",
    "\n",
    "<br>\n",
    "\n",
    "### 공분산\n",
    "- 두 변수 $x_i$, $x_j$에 대해서 n개의 쌍으로 관찰된 표본 $(x_{1i}, x_{1j}), \\dots, (x_{ni}, x_{nj})$에 대하여, **두 변수의 성형적 연관성을 측정하는 공분산 (Covariance) $s_{ij}$**\n",
    "    - 변수 $x_i$의 증가에 따른 변수 $x_j$의 증가 또는 감소의 경향을 나타내는 측도\n",
    "    \n",
    "$$s_{ij} = {1 \\over {n-1}} \\sum^n_{k=1} (x_{ki} - \\bar{x}_i)(x_{kj}-\\bar{x_j})$$\n",
    "\n",
    "<br>\n",
    "\n",
    "### 상관계수\n",
    "\n",
    "- **공분산은 변수를 측정하는 단위에 의존하며, 그 값의 범위가 제한되어 있지 않아 크기를 상대적으로 비교하기 곤란함**\n",
    "- **공분산 $s_{ij}$를 각 변수의 표준편차 $s_i$와 $s_j$로 나누면 상관계수 (Pearson's correlation coefficient)**\n",
    "    - $x_i$, $x_j$의 선형성 정도를 나타내는 측도\n",
    "    - $r_{ij}$측정단위에 무관하고, 값은 -1과 1사이에 있음\n",
    "    - $r_{ij}$가 1에 가까우면, 큰 양의 상관, -1에 가까우면 큰 음의 상관을 가짐을 의미\n",
    "\n",
    "$$r_{ij} = {{s_{ij}}\\over{s_i\\;s_j}} = {{\\sum^n_{k=1}(x_{ki}-\\bar{x_{i}})(x_{kj}-\\bar{x_j})}} \\over {{\\sqrt{\\sum^n_{k=1}(x_{ki}-\\bar{x_i})^2}} {\\sqrt{\\sum^n_{k=1} (x_{kj}-\\bar{x_j})^2}}}$$\n",
    "\n",
    "<br>\n",
    "\n",
    "* 표준화된 변수 $z_i = (z_{1i}, \\dots, z_{ni})$, $z_j=(z_{1j}, \\dots, z_{nj})$에 대해서 공분산을 구하면, 이는 상관계수와 동일\n",
    "\n",
    "    (상관계수 = 표준화된 공분산)\n",
    "\n",
    "#### 상관계수 행렬을 구조방정식의 분석대상으로 한다는 것은, 모든 변수를 표준화한 후 분석한다는 것과 같은 의미\n",
    "\n",
    "<br>\n",
    "\n",
    "#### 사회과학분야에서는 측정단위에 대한 명백한 의미를 부여하기 어려운 경우가 빈번\n",
    "- 임의적인 척도를 사용하여 관찰변수를 츶겅 $\\rightarrow$ 해석의 용이성이란 측면에서, 공분산 행렬 $S$보다는 상관계수 행렬 $R$을 분석하기도 함\n",
    "    - 그러나 대부분의 구조방정식 모형에 관한 이론은 $S$에 기반하기에, $R$을 분석대상으로 하는 경우, 카이제곱 통계량과 같은 적합도의 척도나 추정치에 대한 표준오차 등이 바르게 제고오디지 않을 수 있음\n",
    "    - 따라서 구조방정식모형을 분석함에 있어, 특별한 경우가 아니라면, 공분산 행렬 $S$에 기초하여 분석하는 것을 원칙으로 하고 있으며\n",
    "    - 모수에 대해 측정단위에 의존하지 않는 해석을 하는 경우 표준화추정치 (standardized estimates)를 이용하는 것이 바람직"
   ]
  },
  {
   "cell_type": "markdown",
   "id": "9c824285",
   "metadata": {},
   "source": [
    "<br>\n",
    "\n",
    "## 02.05. 결측값 처리"
   ]
  },
  {
   "cell_type": "code",
   "execution_count": 44,
   "id": "d7134c32",
   "metadata": {},
   "outputs": [
    {
     "data": {
      "text/html": [
       "<table class=\"dataframe\">\n",
       "<caption>A psych: 6 × 13</caption>\n",
       "<thead>\n",
       "\t<tr><th></th><th scope=col>vars</th><th scope=col>n</th><th scope=col>mean</th><th scope=col>sd</th><th scope=col>median</th><th scope=col>trimmed</th><th scope=col>mad</th><th scope=col>min</th><th scope=col>max</th><th scope=col>range</th><th scope=col>skew</th><th scope=col>kurtosis</th><th scope=col>se</th></tr>\n",
       "\t<tr><th></th><th scope=col>&lt;int&gt;</th><th scope=col>&lt;dbl&gt;</th><th scope=col>&lt;dbl&gt;</th><th scope=col>&lt;dbl&gt;</th><th scope=col>&lt;dbl&gt;</th><th scope=col>&lt;dbl&gt;</th><th scope=col>&lt;dbl&gt;</th><th scope=col>&lt;dbl&gt;</th><th scope=col>&lt;dbl&gt;</th><th scope=col>&lt;dbl&gt;</th><th scope=col>&lt;dbl&gt;</th><th scope=col>&lt;dbl&gt;</th><th scope=col>&lt;dbl&gt;</th></tr>\n",
       "</thead>\n",
       "<tbody>\n",
       "\t<tr><th scope=row>ID</th><td>1</td><td>15</td><td>  8.000000</td><td>4.4721360</td><td>  8.0</td><td>  8.000000</td><td>5.93040</td><td>  1.0</td><td> 15.0</td><td>14.0</td><td> 0.0000000</td><td>-1.4413333</td><td>1.1547005</td></tr>\n",
       "\t<tr><th scope=row>Y1</th><td>2</td><td>14</td><td>  2.214286</td><td>0.7714693</td><td>  2.4</td><td>  2.250000</td><td>0.81543</td><td>  0.8</td><td>  3.2</td><td> 2.4</td><td>-0.4843769</td><td>-1.1094445</td><td>0.2061838</td></tr>\n",
       "\t<tr><th scope=row>Y2</th><td>3</td><td>14</td><td>  2.592857</td><td>0.8425824</td><td>  2.7</td><td>  2.633333</td><td>0.74130</td><td>  1.0</td><td>  3.7</td><td> 2.7</td><td>-0.4421961</td><td>-1.0224689</td><td>0.2251896</td></tr>\n",
       "\t<tr><th scope=row>X1</th><td>4</td><td>12</td><td> 84.666667</td><td>6.1987291</td><td> 85.0</td><td> 84.900000</td><td>4.44780</td><td> 72.0</td><td> 95.0</td><td>23.0</td><td>-0.2984030</td><td>-0.5853292</td><td>1.7894190</td></tr>\n",
       "\t<tr><th scope=row>X2</th><td>5</td><td>14</td><td>115.785714</td><td>3.1666185</td><td>115.0</td><td>115.583333</td><td>2.96520</td><td>111.0</td><td>123.0</td><td>12.0</td><td> 0.6274710</td><td>-0.2819931</td><td>0.8463144</td></tr>\n",
       "\t<tr><th scope=row>X3</th><td>6</td><td>15</td><td> 17.013333</td><td>1.6413699</td><td> 17.3</td><td> 17.153846</td><td>1.18608</td><td> 12.7</td><td> 19.5</td><td> 6.8</td><td>-1.0082410</td><td> 0.8026455</td><td>0.4237999</td></tr>\n",
       "</tbody>\n",
       "</table>\n"
      ],
      "text/latex": [
       "A psych: 6 × 13\n",
       "\\begin{tabular}{r|lllllllllllll}\n",
       "  & vars & n & mean & sd & median & trimmed & mad & min & max & range & skew & kurtosis & se\\\\\n",
       "  & <int> & <dbl> & <dbl> & <dbl> & <dbl> & <dbl> & <dbl> & <dbl> & <dbl> & <dbl> & <dbl> & <dbl> & <dbl>\\\\\n",
       "\\hline\n",
       "\tID & 1 & 15 &   8.000000 & 4.4721360 &   8.0 &   8.000000 & 5.93040 &   1.0 &  15.0 & 14.0 &  0.0000000 & -1.4413333 & 1.1547005\\\\\n",
       "\tY1 & 2 & 14 &   2.214286 & 0.7714693 &   2.4 &   2.250000 & 0.81543 &   0.8 &   3.2 &  2.4 & -0.4843769 & -1.1094445 & 0.2061838\\\\\n",
       "\tY2 & 3 & 14 &   2.592857 & 0.8425824 &   2.7 &   2.633333 & 0.74130 &   1.0 &   3.7 &  2.7 & -0.4421961 & -1.0224689 & 0.2251896\\\\\n",
       "\tX1 & 4 & 12 &  84.666667 & 6.1987291 &  85.0 &  84.900000 & 4.44780 &  72.0 &  95.0 & 23.0 & -0.2984030 & -0.5853292 & 1.7894190\\\\\n",
       "\tX2 & 5 & 14 & 115.785714 & 3.1666185 & 115.0 & 115.583333 & 2.96520 & 111.0 & 123.0 & 12.0 &  0.6274710 & -0.2819931 & 0.8463144\\\\\n",
       "\tX3 & 6 & 15 &  17.013333 & 1.6413699 &  17.3 &  17.153846 & 1.18608 &  12.7 &  19.5 &  6.8 & -1.0082410 &  0.8026455 & 0.4237999\\\\\n",
       "\\end{tabular}\n"
      ],
      "text/markdown": [
       "\n",
       "A psych: 6 × 13\n",
       "\n",
       "| <!--/--> | vars &lt;int&gt; | n &lt;dbl&gt; | mean &lt;dbl&gt; | sd &lt;dbl&gt; | median &lt;dbl&gt; | trimmed &lt;dbl&gt; | mad &lt;dbl&gt; | min &lt;dbl&gt; | max &lt;dbl&gt; | range &lt;dbl&gt; | skew &lt;dbl&gt; | kurtosis &lt;dbl&gt; | se &lt;dbl&gt; |\n",
       "|---|---|---|---|---|---|---|---|---|---|---|---|---|---|\n",
       "| ID | 1 | 15 |   8.000000 | 4.4721360 |   8.0 |   8.000000 | 5.93040 |   1.0 |  15.0 | 14.0 |  0.0000000 | -1.4413333 | 1.1547005 |\n",
       "| Y1 | 2 | 14 |   2.214286 | 0.7714693 |   2.4 |   2.250000 | 0.81543 |   0.8 |   3.2 |  2.4 | -0.4843769 | -1.1094445 | 0.2061838 |\n",
       "| Y2 | 3 | 14 |   2.592857 | 0.8425824 |   2.7 |   2.633333 | 0.74130 |   1.0 |   3.7 |  2.7 | -0.4421961 | -1.0224689 | 0.2251896 |\n",
       "| X1 | 4 | 12 |  84.666667 | 6.1987291 |  85.0 |  84.900000 | 4.44780 |  72.0 |  95.0 | 23.0 | -0.2984030 | -0.5853292 | 1.7894190 |\n",
       "| X2 | 5 | 14 | 115.785714 | 3.1666185 | 115.0 | 115.583333 | 2.96520 | 111.0 | 123.0 | 12.0 |  0.6274710 | -0.2819931 | 0.8463144 |\n",
       "| X3 | 6 | 15 |  17.013333 | 1.6413699 |  17.3 |  17.153846 | 1.18608 |  12.7 |  19.5 |  6.8 | -1.0082410 |  0.8026455 | 0.4237999 |\n",
       "\n"
      ],
      "text/plain": [
       "   vars n  mean       sd        median trimmed    mad     min   max   range\n",
       "ID 1    15   8.000000 4.4721360   8.0    8.000000 5.93040   1.0  15.0 14.0 \n",
       "Y1 2    14   2.214286 0.7714693   2.4    2.250000 0.81543   0.8   3.2  2.4 \n",
       "Y2 3    14   2.592857 0.8425824   2.7    2.633333 0.74130   1.0   3.7  2.7 \n",
       "X1 4    12  84.666667 6.1987291  85.0   84.900000 4.44780  72.0  95.0 23.0 \n",
       "X2 5    14 115.785714 3.1666185 115.0  115.583333 2.96520 111.0 123.0 12.0 \n",
       "X3 6    15  17.013333 1.6413699  17.3   17.153846 1.18608  12.7  19.5  6.8 \n",
       "   skew       kurtosis   se       \n",
       "ID  0.0000000 -1.4413333 1.1547005\n",
       "Y1 -0.4843769 -1.1094445 0.2061838\n",
       "Y2 -0.4421961 -1.0224689 0.2251896\n",
       "X1 -0.2984030 -0.5853292 1.7894190\n",
       "X2  0.6274710 -0.2819931 0.8463144\n",
       "X3 -1.0082410  0.8026455 0.4237999"
      ]
     },
     "metadata": {},
     "output_type": "display_data"
    }
   ],
   "source": [
    "Stu_Missing <- read.csv(paste0(getwd(), \"/Data/Stu_Missing.csv\"), header = TRUE)\n",
    "psych::describe(Stu_Missing)"
   ]
  },
  {
   "cell_type": "markdown",
   "id": "78d287df",
   "metadata": {},
   "source": [
    "<br>\n",
    "\n",
    "### 결측값 파악 및 제거"
   ]
  },
  {
   "cell_type": "code",
   "execution_count": 45,
   "id": "e3c962f6",
   "metadata": {},
   "outputs": [
    {
     "data": {
      "text/html": [
       "<table class=\"dataframe\">\n",
       "<caption>A data.frame: 15 × 7</caption>\n",
       "<thead>\n",
       "\t<tr><th scope=col>ID</th><th scope=col>Y1</th><th scope=col>Y2</th><th scope=col>X1</th><th scope=col>X2</th><th scope=col>X3</th><th scope=col>Nmiss</th></tr>\n",
       "\t<tr><th scope=col>&lt;int&gt;</th><th scope=col>&lt;dbl&gt;</th><th scope=col>&lt;dbl&gt;</th><th scope=col>&lt;int&gt;</th><th scope=col>&lt;int&gt;</th><th scope=col>&lt;dbl&gt;</th><th scope=col>&lt;dbl&gt;</th></tr>\n",
       "</thead>\n",
       "<tbody>\n",
       "\t<tr><td> 1</td><td>0.8</td><td>2.0</td><td>72</td><td>114</td><td>17.3</td><td>0</td></tr>\n",
       "\t<tr><td> 2</td><td>2.2</td><td>2.2</td><td>78</td><td>117</td><td>17.6</td><td>0</td></tr>\n",
       "\t<tr><td> 3</td><td>1.6</td><td>2.0</td><td>84</td><td>117</td><td>15.0</td><td>0</td></tr>\n",
       "\t<tr><td> 4</td><td>2.6</td><td>3.7</td><td>95</td><td>120</td><td>18.0</td><td>0</td></tr>\n",
       "\t<tr><td> 5</td><td>2.7</td><td>3.2</td><td>88</td><td>117</td><td>18.7</td><td>0</td></tr>\n",
       "\t<tr><td> 6</td><td>2.1</td><td>3.2</td><td>83</td><td>123</td><td>17.9</td><td>0</td></tr>\n",
       "\t<tr><td> 7</td><td>3.1</td><td>3.7</td><td>92</td><td>118</td><td>17.3</td><td>0</td></tr>\n",
       "\t<tr><td> 8</td><td>3.0</td><td>3.1</td><td>86</td><td>114</td><td>18.1</td><td>0</td></tr>\n",
       "\t<tr><td> 9</td><td>3.2</td><td>2.6</td><td>88</td><td>114</td><td>16.0</td><td>0</td></tr>\n",
       "\t<tr><td>10</td><td>2.6</td><td>3.2</td><td>80</td><td>115</td><td>16.4</td><td>0</td></tr>\n",
       "\t<tr><td>11</td><td>2.7</td><td>2.8</td><td>87</td><td>114</td><td>17.6</td><td>0</td></tr>\n",
       "\t<tr><td>12</td><td> NA</td><td>2.4</td><td>NA</td><td>112</td><td>19.5</td><td>2</td></tr>\n",
       "\t<tr><td>13</td><td>1.6</td><td> NA</td><td>NA</td><td>115</td><td>12.7</td><td>2</td></tr>\n",
       "\t<tr><td>14</td><td>0.9</td><td>1.0</td><td>NA</td><td>111</td><td>17.0</td><td>1</td></tr>\n",
       "\t<tr><td>15</td><td>1.9</td><td>1.2</td><td>83</td><td> NA</td><td>16.1</td><td>1</td></tr>\n",
       "</tbody>\n",
       "</table>\n"
      ],
      "text/latex": [
       "A data.frame: 15 × 7\n",
       "\\begin{tabular}{lllllll}\n",
       " ID & Y1 & Y2 & X1 & X2 & X3 & Nmiss\\\\\n",
       " <int> & <dbl> & <dbl> & <int> & <int> & <dbl> & <dbl>\\\\\n",
       "\\hline\n",
       "\t  1 & 0.8 & 2.0 & 72 & 114 & 17.3 & 0\\\\\n",
       "\t  2 & 2.2 & 2.2 & 78 & 117 & 17.6 & 0\\\\\n",
       "\t  3 & 1.6 & 2.0 & 84 & 117 & 15.0 & 0\\\\\n",
       "\t  4 & 2.6 & 3.7 & 95 & 120 & 18.0 & 0\\\\\n",
       "\t  5 & 2.7 & 3.2 & 88 & 117 & 18.7 & 0\\\\\n",
       "\t  6 & 2.1 & 3.2 & 83 & 123 & 17.9 & 0\\\\\n",
       "\t  7 & 3.1 & 3.7 & 92 & 118 & 17.3 & 0\\\\\n",
       "\t  8 & 3.0 & 3.1 & 86 & 114 & 18.1 & 0\\\\\n",
       "\t  9 & 3.2 & 2.6 & 88 & 114 & 16.0 & 0\\\\\n",
       "\t 10 & 2.6 & 3.2 & 80 & 115 & 16.4 & 0\\\\\n",
       "\t 11 & 2.7 & 2.8 & 87 & 114 & 17.6 & 0\\\\\n",
       "\t 12 &  NA & 2.4 & NA & 112 & 19.5 & 2\\\\\n",
       "\t 13 & 1.6 &  NA & NA & 115 & 12.7 & 2\\\\\n",
       "\t 14 & 0.9 & 1.0 & NA & 111 & 17.0 & 1\\\\\n",
       "\t 15 & 1.9 & 1.2 & 83 &  NA & 16.1 & 1\\\\\n",
       "\\end{tabular}\n"
      ],
      "text/markdown": [
       "\n",
       "A data.frame: 15 × 7\n",
       "\n",
       "| ID &lt;int&gt; | Y1 &lt;dbl&gt; | Y2 &lt;dbl&gt; | X1 &lt;int&gt; | X2 &lt;int&gt; | X3 &lt;dbl&gt; | Nmiss &lt;dbl&gt; |\n",
       "|---|---|---|---|---|---|---|\n",
       "|  1 | 0.8 | 2.0 | 72 | 114 | 17.3 | 0 |\n",
       "|  2 | 2.2 | 2.2 | 78 | 117 | 17.6 | 0 |\n",
       "|  3 | 1.6 | 2.0 | 84 | 117 | 15.0 | 0 |\n",
       "|  4 | 2.6 | 3.7 | 95 | 120 | 18.0 | 0 |\n",
       "|  5 | 2.7 | 3.2 | 88 | 117 | 18.7 | 0 |\n",
       "|  6 | 2.1 | 3.2 | 83 | 123 | 17.9 | 0 |\n",
       "|  7 | 3.1 | 3.7 | 92 | 118 | 17.3 | 0 |\n",
       "|  8 | 3.0 | 3.1 | 86 | 114 | 18.1 | 0 |\n",
       "|  9 | 3.2 | 2.6 | 88 | 114 | 16.0 | 0 |\n",
       "| 10 | 2.6 | 3.2 | 80 | 115 | 16.4 | 0 |\n",
       "| 11 | 2.7 | 2.8 | 87 | 114 | 17.6 | 0 |\n",
       "| 12 |  NA | 2.4 | NA | 112 | 19.5 | 2 |\n",
       "| 13 | 1.6 |  NA | NA | 115 | 12.7 | 2 |\n",
       "| 14 | 0.9 | 1.0 | NA | 111 | 17.0 | 1 |\n",
       "| 15 | 1.9 | 1.2 | 83 |  NA | 16.1 | 1 |\n",
       "\n"
      ],
      "text/plain": [
       "   ID Y1  Y2  X1 X2  X3   Nmiss\n",
       "1   1 0.8 2.0 72 114 17.3 0    \n",
       "2   2 2.2 2.2 78 117 17.6 0    \n",
       "3   3 1.6 2.0 84 117 15.0 0    \n",
       "4   4 2.6 3.7 95 120 18.0 0    \n",
       "5   5 2.7 3.2 88 117 18.7 0    \n",
       "6   6 2.1 3.2 83 123 17.9 0    \n",
       "7   7 3.1 3.7 92 118 17.3 0    \n",
       "8   8 3.0 3.1 86 114 18.1 0    \n",
       "9   9 3.2 2.6 88 114 16.0 0    \n",
       "10 10 2.6 3.2 80 115 16.4 0    \n",
       "11 11 2.7 2.8 87 114 17.6 0    \n",
       "12 12  NA 2.4 NA 112 19.5 2    \n",
       "13 13 1.6  NA NA 115 12.7 2    \n",
       "14 14 0.9 1.0 NA 111 17.0 1    \n",
       "15 15 1.9 1.2 83  NA 16.1 1    "
      ]
     },
     "metadata": {},
     "output_type": "display_data"
    }
   ],
   "source": [
    "Stu_Missing$Nmiss <- rowSums(is.na(Stu_Missing))\n",
    "Stu_Missing"
   ]
  },
  {
   "cell_type": "markdown",
   "id": "1b6267f5",
   "metadata": {},
   "source": [
    "<br>\n",
    "\n",
    "#### 결측값 패턴 파악"
   ]
  },
  {
   "cell_type": "code",
   "execution_count": 60,
   "id": "1c304383",
   "metadata": {},
   "outputs": [],
   "source": [
    "# install.packages(\"VIM_6.2.2.tar.gz\")\n",
    "library(VIM)"
   ]
  },
  {
   "cell_type": "code",
   "execution_count": 61,
   "id": "1e50be35",
   "metadata": {},
   "outputs": [
    {
     "data": {
      "image/png": "[encoded data removed]",
      "text/plain": [
       "plot without title"
      ]
     },
     "metadata": {
      "image/png": {
       "height": 420,
       "width": 420
      }
     },
     "output_type": "display_data"
    }
   ],
   "source": [
    "aggr(Stu_Missing, numbers=TRUE, prop=FALSE)"
   ]
  },
  {
   "cell_type": "markdown",
   "id": "1416b764",
   "metadata": {},
   "source": [
    "<br>\n",
    "\n",
    "#### 결측값이 있는 데이터에 대한 상관분석\n",
    "\n",
    "<br>\n",
    "\n",
    "**목록별 결측값 제외 (listwise deletion)**\n",
    "- 결측값이 하나라도 있는 개체를 모두 제거하고 완전한 데이터만 사용"
   ]
  },
  {
   "cell_type": "code",
   "execution_count": 55,
   "id": "175f05c9",
   "metadata": {},
   "outputs": [
    {
     "data": {
      "text/html": [
       "<table class=\"dataframe\">\n",
       "<caption>A matrix: 6 × 6 of type dbl</caption>\n",
       "<thead>\n",
       "\t<tr><th></th><th scope=col>ID</th><th scope=col>Y1</th><th scope=col>Y2</th><th scope=col>X1</th><th scope=col>X2</th><th scope=col>X3</th></tr>\n",
       "</thead>\n",
       "<tbody>\n",
       "\t<tr><th scope=row>ID</th><td> 1.00000000</td><td> 0.72364140</td><td>0.4453087</td><td>0.3770093</td><td>-0.29034647</td><td>-0.04234856</td></tr>\n",
       "\t<tr><th scope=row>Y1</th><td> 0.72364140</td><td> 1.00000000</td><td>0.6682608</td><td>0.7374460</td><td>-0.05441361</td><td> 0.19940268</td></tr>\n",
       "\t<tr><th scope=row>Y2</th><td> 0.44530867</td><td> 0.66826085</td><td>1.0000000</td><td>0.7256591</td><td> 0.42573587</td><td> 0.49583887</td></tr>\n",
       "\t<tr><th scope=row>X1</th><td> 0.37700935</td><td> 0.73744602</td><td>0.7256591</td><td>1.0000000</td><td> 0.29344668</td><td> 0.17529531</td></tr>\n",
       "\t<tr><th scope=row>X2</th><td>-0.29034647</td><td>-0.05441361</td><td>0.4257359</td><td>0.2934467</td><td> 1.00000000</td><td> 0.25616155</td></tr>\n",
       "\t<tr><th scope=row>X3</th><td>-0.04234856</td><td> 0.19940268</td><td>0.4958389</td><td>0.1752953</td><td> 0.25616155</td><td> 1.00000000</td></tr>\n",
       "</tbody>\n",
       "</table>\n"
      ],
      "text/latex": [
       "A matrix: 6 × 6 of type dbl\n",
       "\\begin{tabular}{r|llllll}\n",
       "  & ID & Y1 & Y2 & X1 & X2 & X3\\\\\n",
       "\\hline\n",
       "\tID &  1.00000000 &  0.72364140 & 0.4453087 & 0.3770093 & -0.29034647 & -0.04234856\\\\\n",
       "\tY1 &  0.72364140 &  1.00000000 & 0.6682608 & 0.7374460 & -0.05441361 &  0.19940268\\\\\n",
       "\tY2 &  0.44530867 &  0.66826085 & 1.0000000 & 0.7256591 &  0.42573587 &  0.49583887\\\\\n",
       "\tX1 &  0.37700935 &  0.73744602 & 0.7256591 & 1.0000000 &  0.29344668 &  0.17529531\\\\\n",
       "\tX2 & -0.29034647 & -0.05441361 & 0.4257359 & 0.2934467 &  1.00000000 &  0.25616155\\\\\n",
       "\tX3 & -0.04234856 &  0.19940268 & 0.4958389 & 0.1752953 &  0.25616155 &  1.00000000\\\\\n",
       "\\end{tabular}\n"
      ],
      "text/markdown": [
       "\n",
       "A matrix: 6 × 6 of type dbl\n",
       "\n",
       "| <!--/--> | ID | Y1 | Y2 | X1 | X2 | X3 |\n",
       "|---|---|---|---|---|---|---|\n",
       "| ID |  1.00000000 |  0.72364140 | 0.4453087 | 0.3770093 | -0.29034647 | -0.04234856 |\n",
       "| Y1 |  0.72364140 |  1.00000000 | 0.6682608 | 0.7374460 | -0.05441361 |  0.19940268 |\n",
       "| Y2 |  0.44530867 |  0.66826085 | 1.0000000 | 0.7256591 |  0.42573587 |  0.49583887 |\n",
       "| X1 |  0.37700935 |  0.73744602 | 0.7256591 | 1.0000000 |  0.29344668 |  0.17529531 |\n",
       "| X2 | -0.29034647 | -0.05441361 | 0.4257359 | 0.2934467 |  1.00000000 |  0.25616155 |\n",
       "| X3 | -0.04234856 |  0.19940268 | 0.4958389 | 0.1752953 |  0.25616155 |  1.00000000 |\n",
       "\n"
      ],
      "text/plain": [
       "   ID          Y1          Y2        X1        X2          X3         \n",
       "ID  1.00000000  0.72364140 0.4453087 0.3770093 -0.29034647 -0.04234856\n",
       "Y1  0.72364140  1.00000000 0.6682608 0.7374460 -0.05441361  0.19940268\n",
       "Y2  0.44530867  0.66826085 1.0000000 0.7256591  0.42573587  0.49583887\n",
       "X1  0.37700935  0.73744602 0.7256591 1.0000000  0.29344668  0.17529531\n",
       "X2 -0.29034647 -0.05441361 0.4257359 0.2934467  1.00000000  0.25616155\n",
       "X3 -0.04234856  0.19940268 0.4958389 0.1752953  0.25616155  1.00000000"
      ]
     },
     "metadata": {},
     "output_type": "display_data"
    }
   ],
   "source": [
    "cor(select(Stu_Missing, -\"Nmiss\"), use=\"complete.obs\")"
   ]
  },
  {
   "cell_type": "markdown",
   "id": "b2f33e31",
   "metadata": {},
   "source": [
    "<br>\n",
    "\n",
    "**대응별 결측값 제외 (pairwise deletion)**\n",
    "- 각각의 상관계수를 계산할 때 관련된 변수에 결측값이 있는 개체만 제거"
   ]
  },
  {
   "cell_type": "code",
   "execution_count": 58,
   "id": "20cee898",
   "metadata": {},
   "outputs": [
    {
     "data": {
      "text/html": [
       "<table class=\"dataframe\">\n",
       "<caption>A matrix: 6 × 6 of type dbl</caption>\n",
       "<thead>\n",
       "\t<tr><th></th><th scope=col>ID</th><th scope=col>Y1</th><th scope=col>Y2</th><th scope=col>X1</th><th scope=col>X2</th><th scope=col>X3</th></tr>\n",
       "</thead>\n",
       "<tbody>\n",
       "\t<tr><th scope=row>ID</th><td> 1.00000000</td><td>-0.01203747</td><td>-0.3586027</td><td>0.2365055</td><td>-0.54874894</td><td>-0.24424418</td></tr>\n",
       "\t<tr><th scope=row>Y1</th><td>-0.01203747</td><td> 1.00000000</td><td> 0.7436853</td><td>0.7358149</td><td> 0.25196522</td><td> 0.32448824</td></tr>\n",
       "\t<tr><th scope=row>Y2</th><td>-0.35860273</td><td> 0.74368535</td><td> 1.0000000</td><td>0.6112946</td><td> 0.61123291</td><td> 0.38030013</td></tr>\n",
       "\t<tr><th scope=row>X1</th><td> 0.23650547</td><td> 0.73581492</td><td> 0.6112946</td><td>1.0000000</td><td> 0.29344668</td><td> 0.19239960</td></tr>\n",
       "\t<tr><th scope=row>X2</th><td>-0.54874894</td><td> 0.25196522</td><td> 0.6112329</td><td>0.2934467</td><td> 1.00000000</td><td> 0.06257924</td></tr>\n",
       "\t<tr><th scope=row>X3</th><td>-0.24424418</td><td> 0.32448824</td><td> 0.3803001</td><td>0.1923996</td><td> 0.06257924</td><td> 1.00000000</td></tr>\n",
       "</tbody>\n",
       "</table>\n"
      ],
      "text/latex": [
       "A matrix: 6 × 6 of type dbl\n",
       "\\begin{tabular}{r|llllll}\n",
       "  & ID & Y1 & Y2 & X1 & X2 & X3\\\\\n",
       "\\hline\n",
       "\tID &  1.00000000 & -0.01203747 & -0.3586027 & 0.2365055 & -0.54874894 & -0.24424418\\\\\n",
       "\tY1 & -0.01203747 &  1.00000000 &  0.7436853 & 0.7358149 &  0.25196522 &  0.32448824\\\\\n",
       "\tY2 & -0.35860273 &  0.74368535 &  1.0000000 & 0.6112946 &  0.61123291 &  0.38030013\\\\\n",
       "\tX1 &  0.23650547 &  0.73581492 &  0.6112946 & 1.0000000 &  0.29344668 &  0.19239960\\\\\n",
       "\tX2 & -0.54874894 &  0.25196522 &  0.6112329 & 0.2934467 &  1.00000000 &  0.06257924\\\\\n",
       "\tX3 & -0.24424418 &  0.32448824 &  0.3803001 & 0.1923996 &  0.06257924 &  1.00000000\\\\\n",
       "\\end{tabular}\n"
      ],
      "text/markdown": [
       "\n",
       "A matrix: 6 × 6 of type dbl\n",
       "\n",
       "| <!--/--> | ID | Y1 | Y2 | X1 | X2 | X3 |\n",
       "|---|---|---|---|---|---|---|\n",
       "| ID |  1.00000000 | -0.01203747 | -0.3586027 | 0.2365055 | -0.54874894 | -0.24424418 |\n",
       "| Y1 | -0.01203747 |  1.00000000 |  0.7436853 | 0.7358149 |  0.25196522 |  0.32448824 |\n",
       "| Y2 | -0.35860273 |  0.74368535 |  1.0000000 | 0.6112946 |  0.61123291 |  0.38030013 |\n",
       "| X1 |  0.23650547 |  0.73581492 |  0.6112946 | 1.0000000 |  0.29344668 |  0.19239960 |\n",
       "| X2 | -0.54874894 |  0.25196522 |  0.6112329 | 0.2934467 |  1.00000000 |  0.06257924 |\n",
       "| X3 | -0.24424418 |  0.32448824 |  0.3803001 | 0.1923996 |  0.06257924 |  1.00000000 |\n",
       "\n"
      ],
      "text/plain": [
       "   ID          Y1          Y2         X1        X2          X3         \n",
       "ID  1.00000000 -0.01203747 -0.3586027 0.2365055 -0.54874894 -0.24424418\n",
       "Y1 -0.01203747  1.00000000  0.7436853 0.7358149  0.25196522  0.32448824\n",
       "Y2 -0.35860273  0.74368535  1.0000000 0.6112946  0.61123291  0.38030013\n",
       "X1  0.23650547  0.73581492  0.6112946 1.0000000  0.29344668  0.19239960\n",
       "X2 -0.54874894  0.25196522  0.6112329 0.2934467  1.00000000  0.06257924\n",
       "X3 -0.24424418  0.32448824  0.3803001 0.1923996  0.06257924  1.00000000"
      ]
     },
     "metadata": {},
     "output_type": "display_data"
    }
   ],
   "source": [
    "cor(select(Stu_Missing, -\"Nmiss\"), use=\"pairwise.complete.obs\")"
   ]
  },
  {
   "cell_type": "markdown",
   "id": "d8dbc0e6",
   "metadata": {},
   "source": [
    "<br>\n",
    "\n",
    "#### 결측값 대체\n",
    "- **pmm (Predictive Mean Matching, 예측평균 매칭) : 수치형 (numeric) 변수에 대하여 회귀모형에 의해 결측값들을 대체**\n",
    "- **logreg (logistic regression, 로지스틱 회귀) : 이항형 (binomial) 변수에 대하여 로지스틱 회귀모형에 의해 결측값들을 대체**\n",
    "- **poly reg (Polynomous logistic regression, 다항 로지스틱 회귀) : 다항형 변수에 대하여 다항 로지스틱 회귀모형에 의해 결측값들을 대체**\n",
    "\n",
    "- **polr (Proportional Odds Model, 비례오즈 모형) : 순서형 (ordinal) 변수에 대하여 비례오즈 모형 (순서형 로지스틱 회귀모형)에 의해 결측값들을 대체**"
   ]
  },
  {
   "cell_type": "code",
   "execution_count": 63,
   "id": "f0a7635a",
   "metadata": {},
   "outputs": [],
   "source": [
    "library(mice)"
   ]
  },
  {
   "cell_type": "code",
   "execution_count": 66,
   "id": "733c4965",
   "metadata": {},
   "outputs": [
    {
     "name": "stdout",
     "output_type": "stream",
     "text": [
      "\n",
      " iter imp variable\n",
      "  1   1  Y1  Y2  X1  X2\n",
      "  1   2  Y1  Y2  X1  X2\n",
      "  1   3  Y1  Y2  X1  X2\n",
      "  1   4  Y1  Y2  X1  X2\n",
      "  1   5  Y1  Y2  X1  X2\n",
      "  2   1  Y1  Y2  X1  X2\n",
      "  2   2  Y1  Y2  X1  X2\n",
      "  2   3  Y1  Y2  X1  X2\n",
      "  2   4  Y1  Y2  X1  X2\n",
      "  2   5  Y1  Y2  X1  X2\n",
      "  3   1  Y1  Y2  X1  X2\n",
      "  3   2  Y1  Y2  X1  X2\n",
      "  3   3  Y1  Y2  X1  X2\n",
      "  3   4  Y1  Y2  X1  X2\n",
      "  3   5  Y1  Y2  X1  X2\n",
      "  4   1  Y1  Y2  X1  X2\n",
      "  4   2  Y1  Y2  X1  X2\n",
      "  4   3  Y1  Y2  X1  X2\n",
      "  4   4  Y1  Y2  X1  X2\n",
      "  4   5  Y1  Y2  X1  X2\n",
      "  5   1  Y1  Y2  X1  X2\n",
      "  5   2  Y1  Y2  X1  X2\n",
      "  5   3  Y1  Y2  X1  X2\n",
      "  5   4  Y1  Y2  X1  X2\n",
      "  5   5  Y1  Y2  X1  X2\n"
     ]
    },
    {
     "data": {
      "text/html": [
       "<table class=\"dataframe\">\n",
       "<caption>A data.frame: 15 × 6</caption>\n",
       "<thead>\n",
       "\t<tr><th scope=col>ID</th><th scope=col>Y1</th><th scope=col>Y2</th><th scope=col>X1</th><th scope=col>X2</th><th scope=col>X3</th></tr>\n",
       "\t<tr><th scope=col>&lt;int&gt;</th><th scope=col>&lt;dbl&gt;</th><th scope=col>&lt;dbl&gt;</th><th scope=col>&lt;int&gt;</th><th scope=col>&lt;int&gt;</th><th scope=col>&lt;dbl&gt;</th></tr>\n",
       "</thead>\n",
       "<tbody>\n",
       "\t<tr><td> 1</td><td>0.8</td><td>2.0</td><td>72</td><td>114</td><td>17.3</td></tr>\n",
       "\t<tr><td> 2</td><td>2.2</td><td>2.2</td><td>78</td><td>117</td><td>17.6</td></tr>\n",
       "\t<tr><td> 3</td><td>1.6</td><td>2.0</td><td>84</td><td>117</td><td>15.0</td></tr>\n",
       "\t<tr><td> 4</td><td>2.6</td><td>3.7</td><td>95</td><td>120</td><td>18.0</td></tr>\n",
       "\t<tr><td> 5</td><td>2.7</td><td>3.2</td><td>88</td><td>117</td><td>18.7</td></tr>\n",
       "\t<tr><td> 6</td><td>2.1</td><td>3.2</td><td>83</td><td>123</td><td>17.9</td></tr>\n",
       "\t<tr><td> 7</td><td>3.1</td><td>3.7</td><td>92</td><td>118</td><td>17.3</td></tr>\n",
       "\t<tr><td> 8</td><td>3.0</td><td>3.1</td><td>86</td><td>114</td><td>18.1</td></tr>\n",
       "\t<tr><td> 9</td><td>3.2</td><td>2.6</td><td>88</td><td>114</td><td>16.0</td></tr>\n",
       "\t<tr><td>10</td><td>2.6</td><td>3.2</td><td>80</td><td>115</td><td>16.4</td></tr>\n",
       "\t<tr><td>11</td><td>2.7</td><td>2.8</td><td>87</td><td>114</td><td>17.6</td></tr>\n",
       "\t<tr><td>12</td><td>2.6</td><td>2.4</td><td>86</td><td>112</td><td>19.5</td></tr>\n",
       "\t<tr><td>13</td><td>1.6</td><td>1.0</td><td>72</td><td>115</td><td>12.7</td></tr>\n",
       "\t<tr><td>14</td><td>0.9</td><td>1.0</td><td>88</td><td>111</td><td>17.0</td></tr>\n",
       "\t<tr><td>15</td><td>1.9</td><td>1.2</td><td>83</td><td>115</td><td>16.1</td></tr>\n",
       "</tbody>\n",
       "</table>\n"
      ],
      "text/latex": [
       "A data.frame: 15 × 6\n",
       "\\begin{tabular}{llllll}\n",
       " ID & Y1 & Y2 & X1 & X2 & X3\\\\\n",
       " <int> & <dbl> & <dbl> & <int> & <int> & <dbl>\\\\\n",
       "\\hline\n",
       "\t  1 & 0.8 & 2.0 & 72 & 114 & 17.3\\\\\n",
       "\t  2 & 2.2 & 2.2 & 78 & 117 & 17.6\\\\\n",
       "\t  3 & 1.6 & 2.0 & 84 & 117 & 15.0\\\\\n",
       "\t  4 & 2.6 & 3.7 & 95 & 120 & 18.0\\\\\n",
       "\t  5 & 2.7 & 3.2 & 88 & 117 & 18.7\\\\\n",
       "\t  6 & 2.1 & 3.2 & 83 & 123 & 17.9\\\\\n",
       "\t  7 & 3.1 & 3.7 & 92 & 118 & 17.3\\\\\n",
       "\t  8 & 3.0 & 3.1 & 86 & 114 & 18.1\\\\\n",
       "\t  9 & 3.2 & 2.6 & 88 & 114 & 16.0\\\\\n",
       "\t 10 & 2.6 & 3.2 & 80 & 115 & 16.4\\\\\n",
       "\t 11 & 2.7 & 2.8 & 87 & 114 & 17.6\\\\\n",
       "\t 12 & 2.6 & 2.4 & 86 & 112 & 19.5\\\\\n",
       "\t 13 & 1.6 & 1.0 & 72 & 115 & 12.7\\\\\n",
       "\t 14 & 0.9 & 1.0 & 88 & 111 & 17.0\\\\\n",
       "\t 15 & 1.9 & 1.2 & 83 & 115 & 16.1\\\\\n",
       "\\end{tabular}\n"
      ],
      "text/markdown": [
       "\n",
       "A data.frame: 15 × 6\n",
       "\n",
       "| ID &lt;int&gt; | Y1 &lt;dbl&gt; | Y2 &lt;dbl&gt; | X1 &lt;int&gt; | X2 &lt;int&gt; | X3 &lt;dbl&gt; |\n",
       "|---|---|---|---|---|---|\n",
       "|  1 | 0.8 | 2.0 | 72 | 114 | 17.3 |\n",
       "|  2 | 2.2 | 2.2 | 78 | 117 | 17.6 |\n",
       "|  3 | 1.6 | 2.0 | 84 | 117 | 15.0 |\n",
       "|  4 | 2.6 | 3.7 | 95 | 120 | 18.0 |\n",
       "|  5 | 2.7 | 3.2 | 88 | 117 | 18.7 |\n",
       "|  6 | 2.1 | 3.2 | 83 | 123 | 17.9 |\n",
       "|  7 | 3.1 | 3.7 | 92 | 118 | 17.3 |\n",
       "|  8 | 3.0 | 3.1 | 86 | 114 | 18.1 |\n",
       "|  9 | 3.2 | 2.6 | 88 | 114 | 16.0 |\n",
       "| 10 | 2.6 | 3.2 | 80 | 115 | 16.4 |\n",
       "| 11 | 2.7 | 2.8 | 87 | 114 | 17.6 |\n",
       "| 12 | 2.6 | 2.4 | 86 | 112 | 19.5 |\n",
       "| 13 | 1.6 | 1.0 | 72 | 115 | 12.7 |\n",
       "| 14 | 0.9 | 1.0 | 88 | 111 | 17.0 |\n",
       "| 15 | 1.9 | 1.2 | 83 | 115 | 16.1 |\n",
       "\n"
      ],
      "text/plain": [
       "   ID Y1  Y2  X1 X2  X3  \n",
       "1   1 0.8 2.0 72 114 17.3\n",
       "2   2 2.2 2.2 78 117 17.6\n",
       "3   3 1.6 2.0 84 117 15.0\n",
       "4   4 2.6 3.7 95 120 18.0\n",
       "5   5 2.7 3.2 88 117 18.7\n",
       "6   6 2.1 3.2 83 123 17.9\n",
       "7   7 3.1 3.7 92 118 17.3\n",
       "8   8 3.0 3.1 86 114 18.1\n",
       "9   9 3.2 2.6 88 114 16.0\n",
       "10 10 2.6 3.2 80 115 16.4\n",
       "11 11 2.7 2.8 87 114 17.6\n",
       "12 12 2.6 2.4 86 112 19.5\n",
       "13 13 1.6 1.0 72 115 12.7\n",
       "14 14 0.9 1.0 88 111 17.0\n",
       "15 15 1.9 1.2 83 115 16.1"
      ]
     },
     "metadata": {},
     "output_type": "display_data"
    }
   ],
   "source": [
    "imp <- mice(select(Stu_Missing, -\"Nmiss\"), method='pmm')\n",
    "Stu_Imputed <- complete(imp)\n",
    "Stu_Imputed"
   ]
  },
  {
   "cell_type": "markdown",
   "id": "753d85be",
   "metadata": {},
   "source": [
    "<br>\n",
    "\n",
    "## 02.06. 변수변환\n",
    "- 데이터가 정규분포를 따르지 않을 때, **변수변환 (variable transformation)**\n",
    "- 변수변환의 가장 일반적인 형태는 **멱변환 (power transformation)**\n",
    "    - $\\lambda$의 값에 따라 변환의 형태가 결정\n",
    "    - 변수가 왼쪽으로 치우쳐진 분포를 가지는 경우 로그 ($\\lambda =0$), 제곱근($\\lambda = 1/2$), 역수 ($\\lambda = -1$)변환 등 $\\lambda < 1$인 값을 취할 수 있음\n",
    "    - 변수가 오른쪽으로 치우쳐진 분포를 가지는 경우 제곱 ($\\lambda=2$)변환 등 $\\lambda > 1$인 값을 취함\n",
    "- **변수를 변환하면, 그 변수가 가지고 있는 원래의 단위를 잃게 되므로, 이후의 분석에서 결과를 해석할 때 해석이 어려워진다는 단점이 존재**\n",
    "\n",
    "$$Y=\n",
    "\\begin{cases}\n",
    "-X^{\\lambda},\\;if\\;\\lambda \\neq 0\\\\\n",
    "log_e {X},\\;if\\;\\lambda = 0\n",
    "\\end{cases}$$"
   ]
  },
  {
   "cell_type": "markdown",
   "id": "40ea6055",
   "metadata": {},
   "source": [
    "<br>\n",
    "\n",
    "## 02.07. 표본크기\n",
    "\n",
    "<br>\n",
    "\n",
    "### 절대적 기준\n",
    "- 다변량 자료분석 및 구조방정식 분야에서 최소 표본크기에 대한 경험적 기준 중 하나는 절대적 기준\n",
    "    - Kline(2011)은 100개 이하의 경우 '작은', 100개에서 200개 사이는 '중간', 200개 이상의 경우 '큰' 표본크기로 규정\n",
    "    - Comrey & Lee (1992)를 인용한 여러 문헌들에서는 표본크기가 100이면 '나쁜 표본', 200 정도면 '괜찮은 표본', 300 정도면 '좋은 표본', 500정도면 '매우 좋은 표본', 1000이상이면 '훌륭한 표본'\n",
    "- **절대적 기준은 모형이나 자료의 특성을 고려하지 않기에, 특히 잠재변수가 없는 간단한 모형에 대하여 일반적으로 절대적 기준은 너무 큰 표본크기를 요구**\n",
    "\n",
    "<br>\n",
    "\n",
    "### 변수의 개수를 기준\n",
    "- **관찰변수, 잠재변수, 자유모수의 개수를 기준으로 표본의 크기를 결정하는 방법이 가장 널리 사용**\n",
    "\n",
    "<br>\n",
    "\n",
    "#### 관찰변수의 수를 기준\n",
    "- Nunnally(1967)가 변수의 개수에 대하여 적어도 10배의 표본크기를 가지는 것이 바람직하다고 언급 (10배수의 기준, $rule\\;of\\;10$)\n",
    "- $n\\;:p-비$(사례수 대 측정변수의 비율)에 대하여 5:1 또는 20:1과 같은 기준 사용\n",
    "\n",
    "<br>\n",
    "\n",
    "#### 자유모수의 수를 기준\n",
    "- 모형의 복잡도를 고려하여 10배수의 기준이 자유모수(free parameter, 추정해야할 모수)의 수에 대하여 적용되는 것이 더 바람직하다고 언급\n",
    "- Kline(2011)은 사례수와 자유모수의 비가 20:1정도 되면 좋을 것이나, 현실적으로는 10:1의 비를 목표로 하면 무난하다고 언급\n",
    "- 사례수와 모수의 비가 5:1보다 작다면, 통계의 정확성이 의문시될 가능성 존재\n",
    "\n",
    "<br>\n",
    "\n",
    "#### 관찰변수와 잠재변수의 비를 기준\n",
    "- 잠재변수가 있는 구조방정식 모형의 경우 '10배수의 기준'은 지나치게 많은 표본크기를 요구할 가능성이 존재\n",
    "- Boomsma(1982)는 '잠재변수당 관찰변수의 비 $r(=p/k,\\;p=관찰변수의\\;개수,\\;k=잠재변수의\\;개수)$'를 사용할 것을 제안\n",
    "\n",
    "$$n \\geq 50r^2 - 450r+1100$$"
   ]
  },
  {
   "cell_type": "markdown",
   "id": "fe371534",
   "metadata": {},
   "source": [
    "<br>\n",
    "\n",
    "#### 검정력 분석을 이용하는 방법\n",
    "- 일반적으로 표본크기를 결정하는 데 있어, 고려되는 사항은 모수 추정치에 대한 통계적 정확도와 검정력\n",
    "- 정확도 (precision)는 추정에 일치성이 있는지 또는 추정치와 표준오차가 얼마나 정확하게 산출되었는지를 의미\n",
    "- 검정력 (power)는 $1-\\beta$로 정의($\\beta$는 제 2종 오류를 범활 확률), 대립가설이 사실일 때 대립가설을 채택할 확률\n",
    "    - 일반적으로 검정력은 0.8을 넘는 것이 바람직\n",
    "- 적절한 검정력이 확보될 때, 모수 추정치들에 대한 정확도도 실현된다는 점에서, 표본크기 결정에 대한 많은 접근법들은 검정력에 초점을 두는 경우가 많음\n"
   ]
  },
  {
   "cell_type": "markdown",
   "id": "574e2bab",
   "metadata": {},
   "source": [
    "- 일반적으로 표본크기는 일정 기준의 검정력을 넘도록 유구\n",
    "- 유의수준 $\\alpha$와 효과크기 등 필요한 정보들이 주어진 상태에서, 검정통계량의 분포를 이용하여 주어진 검정력을 넘게되는 표본크기를 찾는 것\n",
    "\n",
    "<br>\n",
    "\n",
    "**잠재변수들 간의 상관계수를 기준**\n",
    "- 관찰변수와 잠재변수의 비를 기준으로 하는 방법\n",
    "\n",
    "    - 잠재변수가 있는 구조방정식모형에서 어떤 두 잠재변수들 간의 상관계수에 대하여 다음과 같은 가설이 존재한다고 가정\n",
    "\n",
    "$$H_0; \\rho=0\\;vs\\;H_1:\\rho=\\rho_1(\\neq0)$$"
   ]
  },
  {
   "cell_type": "markdown",
   "id": "f53f643b",
   "metadata": {},
   "source": [
    "<br>\n",
    "- Westland(2010)은 위의 가설에 대한 검정력 분석을 통해 표본크기를 계산하는 방법을 제안 \n",
    "\n",
    "(https://danielsoper.com/statcalc/) \n",
    "\n",
    "1. 예를 들어, 잠재변수가 3개이고 관찰변수가 10개일 때, 요구되는 표본크기는 $n_1 = 156$(Minimum sample size for model structure)\n",
    "2. 유의수준 ($\\alpha$) = 0.05, 검정력 ($1-\\beta$)=0.9, 기대되는 상관계수($\\rho_1=0.3$)의 조건하에서 요구되는 표본크기는 $n_2 = 153$(Minimum sample size to detect effect)\n",
    "3. 마지막으로 $n_1$과 $n_2$ 중 더 큰값을 취하면 $n = max(n_1, n_2)=156$(Recommended minimum sample size)"
   ]
  },
  {
   "cell_type": "markdown",
   "id": "52cae710",
   "metadata": {},
   "source": [
    "<br>\n",
    "\n",
    "#### 결정계수 $R^2$를 기준으로 하는 방법\n",
    "- 경로분석모형 또는 잠재변수가 있는 구조방정식모형에서 경로계수에 대한 통계적 검정력을 추정하는 한 가지 방법은 다중 회귀분석을 이용하는 것\n",
    "- 회귀분석에서 설명변수들에 의해 반응변수가 설명되는 정도를 평가하는 측도 중 하나는 결정계수 (coefficient of determination) $R^2$ (= SMC, Squared Multiple Correlation, 제곱 다중 상관)\n",
    "\n",
    "$$f^2 = {{R^2}\\over{1-R^2}}$$\n",
    "\n",
    "**호과크기 $f^2$에 대한 일반적인 기준**\n",
    "* 작은 효과크기 : $f^2 = 0.1\\;(R^2=0.02)$\n",
    "* 중간 효과크기 : $f^2 = 0.15\\;(R^2=0.13)$\n",
    "* 큰 효과크기 : $f^2 = 0.35\\;(R^2=0.26)$\n",
    "\n",
    "<br>\n",
    "\n",
    "#### RMSEA를 기준으로 하는 방법\n",
    "- **RMSEA(root mean square error of approximation)는 그 값이 0일 때 완벽한 적합도, 클수록 적합도가 좋지 않음을 나타내는 부적합도의 지수**\n",
    "\n",
    "- RMSEA의 특징은 다른 적합도지수와는 달리 신뢰구간을 산출할 수 있음\n",
    "- MacCallum 등 (1996)dms RMSEA에 기초하여 검정력 분석을 통한 표본크기 계산방법을 제안\n",
    "    - $H_0:\\epsilon_0 \\leq 0.05$ (모형이 근사 적합도를 가짐) 라는 '근사 적합도' (close-fit)가설과, $H_0:\\epsilon \\geq 0.05$ (모형이 근사 적합도를 가지지 않음) 라는 '비근사 적합도' (not-close-fit) 가설에 대한 검정력 분석을 적용\n",
    "- MacCallum 등 (1996)은 자유도에 따른 최소 표본크기를 계산하여 표로 제시, 다양한 웹 사이트, 프로그램에서 이 방법 사용 가능 \n",
    "\n",
    "(https://quantpsy.org/rmsea/rmsea.htm)\n",
    "\n",
    "- **그러나 이 방법은 일반적인 상황 (특히 자유도가 작은 경우)에서 지나치게 많은 표본크기를 요구하는 경향이 존재**"
   ]
  },
  {
   "cell_type": "markdown",
   "id": "b015c7b1",
   "metadata": {},
   "source": [
    "<br>\n",
    "\n",
    "#### 모의실험을 이용하는 방법\n",
    "- Satorra & Saris(1985)는 주어진 가정하에서 예측공분산행렬을 만들고, 관심이 되는 모수에 대한 검정력 분석을 수행하는 절차를 제시\n",
    "- Muthen & Muthen (2002)는 Monte-Carlo 모의실험을 통해 주어진 모형에 대하여 검정력 분석을 수행하는 방법을 제시"
   ]
  }
 ],
 "metadata": {
  "kernelspec": {
   "display_name": "R",
   "language": "R",
   "name": "ir"
  },
  "language_info": {
   "codemirror_mode": "r",
   "file_extension": ".r",
   "mimetype": "text/x-r-source",
   "name": "R",
   "pygments_lexer": "r",
   "version": "4.2.2"
  }
 },
 "nbformat": 4,
 "nbformat_minor": 5
}
