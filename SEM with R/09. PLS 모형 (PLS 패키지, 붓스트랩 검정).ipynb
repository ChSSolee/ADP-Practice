{
 "cells": [
  {
   "cell_type": "markdown",
   "id": "eeb5a29e",
   "metadata": {},
   "source": [
    "# 09. PLS 모형\n",
    "\n",
    "<br>\n",
    "\n",
    "## 09.01. PLS모형과 추정방법\n",
    "- PLS (partial least square) : PLS모형 혹은 PLS추정 방법\n",
    "\n",
    "<br>\n",
    "\n",
    "### PLS모형\n",
    "- **전통적인 구조방정식모형에서는 모든 잠재변수가 반영적 지표임을 가정**\n",
    "    - 공분산 구조를 분석하는데 초점 (이런 측면에서, 전통적인 구조방정식모형을 CB-SEM이라고 부름)\n",
    "    - 일반적으로 CB-SEM은 제안된 이론 모형이 표본에 잘 적합되는 지를 검증하는데 목적\n",
    "    \n",
    "        **즉, 확증된 이론 모형에 대하여 검증하고 확인하는 것이 연구의 주요 목적**\n",
    "        \n",
    "- **PLS모형의 경우에는 잠재변수를 규정하는 형태에 대한 제한이 없음**\n",
    "\n",
    "    **내생변수가 가지는 변이(분산)를 설명하는데 초점을 두고 있으며, 내생변수에 대한 예측과 이론에 대한 탐색이 주요 목적**\n",
    "\n",
    "<br>\n",
    "\n",
    "**반영적 지표에서 잠재변수와 관찰변수들의 관계를 수식으로 표현**\n",
    "- $\\lambda_i$는 각 관찰변수가 해당 잠재변수와 얼마나 관련되어 있는지를 나타냄 (적재값)\n",
    "- $\\delta_i$는 관찰변수의 측정값 중 잠재변수와 구별되는 부분 (측정오차)\n",
    "    - 해당 관찰변수의 특수성 또는 유일성으로 불림\n",
    "\n",
    "$$\\begin{cases}\n",
    "X_1 = \\lambda_1 Reflective + \\delta_1\\\\\n",
    "X_2 = \\lambda_2 Reflective + \\delta_2\\\\\n",
    "X_3 = \\lambda_3 Reflective + \\delta_3\\\\\n",
    "\\end{cases}$$\n",
    "\n",
    "<br>\n",
    "\n",
    "**조형적 지표에서 잠재변수와 관찰변수들의 관계를 수식으로 표현**\n",
    "$$Formative = w_1 X_1 + w_2 X_2 + w_3 X_3$$\n",
    "\n",
    "- 즉, 잠재변수는 관찰변수들의 가중합으로 정의"
   ]
  },
  {
   "cell_type": "markdown",
   "id": "96515bad",
   "metadata": {},
   "source": [
    "<br>\n",
    "\n",
    "### PLS 추정방법\n",
    "- 전통적인 구조방정식모형에서는 다변량 정규분포에 근거한 최대우도 추정법을 사용하며, 관측된 공분산행렬과 예측된 공분산행렬이 가장 가깝게 되도록 모수를 추정\n",
    "- **반면 PLS-SEM에서는 표본크기나 분포에 대한 가정이 강하지 않음**\n",
    "    - 따라서 PLS-SEM은 어떤 상황에서는 CB-SEM에 대한 방법론적 대안이 될 수 있음\n",
    "    - **또한 최소제곱법에 기반한 PLS(부분최소제곱) 추정법을 사용하며, 내상변수의 분산에 대한 설명력이 최대가 되도록 모수를 추정**\n",
    "    \n",
    "<br>\n",
    "\n",
    "#### PLS-SEM을 사용할 때 주의사항\n",
    "1. **PLS-SEM이 표본크기 문제에 대하여 완전히 자유로운 것이 아님**\n",
    "    - 모든 통계적 방법은 모형과 데이터의 특성에 따라 적절한 표본크기가 요구되며 PLS-SEM도 예외가 아님\n",
    "    \n",
    "2. **정규성을 가정하지 않는 반대급부로서 기본적인 모수 추정치에 대한 유의성 검정이 불가능**\n",
    "    - 대신 PLS-SEM에서는 비모수적 붓스트랩 방법을 사용하여 유의성 검정을 수행\n",
    "    \n",
    "3. **대부분의 적합도 측도들이 예측된 공분산행렬이 관측된 공분산행렬에 얼마나 적합되는지를 계산하므로, PLS-SEM에서는 모형의 적합도를 계산할 수 있는 측도가 제한적**\n",
    "    \n",
    "4. **CB-SEM과 PLS-SEM에 의한 추정치의 차이가 크지 않은 경우도 있으나, PLS-SEM에서는 구조모형의 계수는 과소추정되고 측정모형의 계수는 과대추정되는 경향 존재 (PLS-SEM 평향)**\n"
   ]
  },
  {
   "cell_type": "markdown",
   "id": "09a4fdee",
   "metadata": {},
   "source": [
    "<br>\n",
    "\n",
    "## 09.02. semPLS 패키지"
   ]
  },
  {
   "cell_type": "code",
   "execution_count": 2,
   "id": "2c67b868",
   "metadata": {},
   "outputs": [],
   "source": [
    "library(lavaan)\n",
    "library(sem)\n",
    "library(semPlot)\n",
    "library(semptools)\n",
    "library(psych)\n",
    "library(tidyverse)"
   ]
  },
  {
   "cell_type": "code",
   "execution_count": 3,
   "id": "068040d0",
   "metadata": {},
   "outputs": [
    {
     "name": "stderr",
     "output_type": "stream",
     "text": [
      "Warning message:\n",
      "\"'sem' namespace cannot be unloaded:\n",
      "  namespace 'sem' is imported by 'semPlot' so cannot be unloaded\"\n"
     ]
    }
   ],
   "source": [
    "detach(\"package:sem\",unload=TRUE)"
   ]
  },
  {
   "cell_type": "code",
   "execution_count": 4,
   "id": "b9309dec",
   "metadata": {},
   "outputs": [],
   "source": [
    "Jobsatis <- read.csv(paste0(getwd(), \"/Data/Jobsatis.csv\"), header = TRUE)"
   ]
  },
  {
   "cell_type": "code",
   "execution_count": 11,
   "id": "238f1e89",
   "metadata": {},
   "outputs": [
    {
     "name": "stderr",
     "output_type": "stream",
     "text": [
      "Loading required package: lattice\n",
      "\n"
     ]
    }
   ],
   "source": [
    "library(semPLS)"
   ]
  },
  {
   "cell_type": "code",
   "execution_count": 12,
   "id": "b1c24c68",
   "metadata": {},
   "outputs": [
    {
     "data": {
      "text/html": [
       "<table class=\"dataframe\">\n",
       "<caption>A matrix: 8 × 2 of type chr</caption>\n",
       "<thead>\n",
       "\t<tr><th scope=col>Source</th><th scope=col>Target</th></tr>\n",
       "</thead>\n",
       "<tbody>\n",
       "\t<tr><td>Achmot1 </td><td>ACHMOT   </td></tr>\n",
       "\t<tr><td>Achmot2 </td><td>ACHMOT   </td></tr>\n",
       "\t<tr><td>Tsse1   </td><td>TSSE     </td></tr>\n",
       "\t<tr><td>Tsse2   </td><td>TSSE     </td></tr>\n",
       "\t<tr><td>Verbint1</td><td>VERBINT  </td></tr>\n",
       "\t<tr><td>PERFORM </td><td>Perform1 </td></tr>\n",
       "\t<tr><td>JOBSATIS</td><td>Jobsatis1</td></tr>\n",
       "\t<tr><td>JOBSATIS</td><td>Jobsatis2</td></tr>\n",
       "</tbody>\n",
       "</table>\n"
      ],
      "text/latex": [
       "A matrix: 8 × 2 of type chr\n",
       "\\begin{tabular}{ll}\n",
       " Source & Target\\\\\n",
       "\\hline\n",
       "\t Achmot1  & ACHMOT   \\\\\n",
       "\t Achmot2  & ACHMOT   \\\\\n",
       "\t Tsse1    & TSSE     \\\\\n",
       "\t Tsse2    & TSSE     \\\\\n",
       "\t Verbint1 & VERBINT  \\\\\n",
       "\t PERFORM  & Perform1 \\\\\n",
       "\t JOBSATIS & Jobsatis1\\\\\n",
       "\t JOBSATIS & Jobsatis2\\\\\n",
       "\\end{tabular}\n"
      ],
      "text/markdown": [
       "\n",
       "A matrix: 8 × 2 of type chr\n",
       "\n",
       "| Source | Target |\n",
       "|---|---|\n",
       "| Achmot1  | ACHMOT    |\n",
       "| Achmot2  | ACHMOT    |\n",
       "| Tsse1    | TSSE      |\n",
       "| Tsse2    | TSSE      |\n",
       "| Verbint1 | VERBINT   |\n",
       "| PERFORM  | Perform1  |\n",
       "| JOBSATIS | Jobsatis1 |\n",
       "| JOBSATIS | Jobsatis2 |\n",
       "\n"
      ],
      "text/plain": [
       "     Source   Target   \n",
       "[1,] Achmot1  ACHMOT   \n",
       "[2,] Achmot2  ACHMOT   \n",
       "[3,] Tsse1    TSSE     \n",
       "[4,] Tsse2    TSSE     \n",
       "[5,] Verbint1 VERBINT  \n",
       "[6,] PERFORM  Perform1 \n",
       "[7,] JOBSATIS Jobsatis1\n",
       "[8,] JOBSATIS Jobsatis2"
      ]
     },
     "metadata": {},
     "output_type": "display_data"
    }
   ],
   "source": [
    "Job_mm <- read.csv(paste0(getwd(), \"/Data/Job_mm.csv\"), header = TRUE) %>% as.matrix()\n",
    "Job_mm"
   ]
  },
  {
   "cell_type": "code",
   "execution_count": 13,
   "id": "4d99a1fc",
   "metadata": {},
   "outputs": [
    {
     "data": {
      "text/html": [
       "<table class=\"dataframe\">\n",
       "<caption>A matrix: 4 × 2 of type chr</caption>\n",
       "<thead>\n",
       "\t<tr><th scope=col>Source</th><th scope=col>Target</th></tr>\n",
       "</thead>\n",
       "<tbody>\n",
       "\t<tr><td>TSSE   </td><td>PERFORM </td></tr>\n",
       "\t<tr><td>ACHMOT </td><td>JOBSATIS</td></tr>\n",
       "\t<tr><td>VERBINT</td><td>JOBSATIS</td></tr>\n",
       "\t<tr><td>PERFORM</td><td>JOBSATIS</td></tr>\n",
       "</tbody>\n",
       "</table>\n"
      ],
      "text/latex": [
       "A matrix: 4 × 2 of type chr\n",
       "\\begin{tabular}{ll}\n",
       " Source & Target\\\\\n",
       "\\hline\n",
       "\t TSSE    & PERFORM \\\\\n",
       "\t ACHMOT  & JOBSATIS\\\\\n",
       "\t VERBINT & JOBSATIS\\\\\n",
       "\t PERFORM & JOBSATIS\\\\\n",
       "\\end{tabular}\n"
      ],
      "text/markdown": [
       "\n",
       "A matrix: 4 × 2 of type chr\n",
       "\n",
       "| Source | Target |\n",
       "|---|---|\n",
       "| TSSE    | PERFORM  |\n",
       "| ACHMOT  | JOBSATIS |\n",
       "| VERBINT | JOBSATIS |\n",
       "| PERFORM | JOBSATIS |\n",
       "\n"
      ],
      "text/plain": [
       "     Source  Target  \n",
       "[1,] TSSE    PERFORM \n",
       "[2,] ACHMOT  JOBSATIS\n",
       "[3,] VERBINT JOBSATIS\n",
       "[4,] PERFORM JOBSATIS"
      ]
     },
     "metadata": {},
     "output_type": "display_data"
    }
   ],
   "source": [
    "Job_sm <- read.csv(paste0(getwd(), \"/Data/Job_sm.csv\"), header = TRUE) %>% as.matrix()\n",
    "Job_sm"
   ]
  },
  {
   "cell_type": "markdown",
   "id": "93284eb6",
   "metadata": {},
   "source": [
    "<br>\n",
    "\n",
    "#### `plsm(data, measuremod, strucmod)` : 측정모형과 구조모형으로 PLS객체 생성\n",
    "- `measuremod` : 측정모형에 대한 행렬\n",
    "- `strucmod` : 구조모형에 대한 행렬"
   ]
  },
  {
   "cell_type": "code",
   "execution_count": 19,
   "id": "0e23df47",
   "metadata": {},
   "outputs": [
    {
     "name": "stderr",
     "output_type": "stream",
     "text": [
      "Warning message in ncol(strucmod) != 2 || mode(strucmod) != \"character\" || class(strucmod) != :\n",
      "\"'length(x) = 2 > 1' in coercion to 'logical(1)'\"\n",
      "Warning message in ncol(measuremod) != 2 || mode(measuremod) != \"character\" || class(measuremod) != :\n",
      "\"'length(x) = 2 > 1' in coercion to 'logical(1)'\"\n"
     ]
    }
   ],
   "source": [
    "Job_PLS <- plsm(Jobsatis, measuremod = Job_mm, strucmod = Job_sm)"
   ]
  },
  {
   "cell_type": "markdown",
   "id": "43e0eec1",
   "metadata": {},
   "source": [
    "#### `mvpairs()` : 각 잠재변수들을 구성하는 관찰변수들에 대하여 상관계수, 산점도, 분포도 출력"
   ]
  },
  {
   "cell_type": "code",
   "execution_count": 20,
   "id": "77dd2f6f",
   "metadata": {},
   "outputs": [
    {
     "name": "stderr",
     "output_type": "stream",
     "text": [
      "Warning message in par(usr):\n",
      "\"argument 1 does not name a graphical parameter\"\n",
      "Warning message in par(usr):\n",
      "\"argument 1 does not name a graphical parameter\"\n",
      "Warning message in par(usr):\n",
      "\"argument 1 does not name a graphical parameter\"\n",
      "Warning message in par(usr):\n",
      "\"argument 1 does not name a graphical parameter\"\n",
      "Warning message in par(usr):\n",
      "\"argument 1 does not name a graphical parameter\"\n",
      "Warning message in par(usr):\n",
      "\"argument 1 does not name a graphical parameter\"\n"
     ]
    },
    {
     "data": {
      "image/png": "[encoded data removed]",
      "text/plain": [
       "plot without title"
      ]
     },
     "metadata": {
      "image/png": {
       "height": 420,
       "width": 420
      }
     },
     "output_type": "display_data"
    },
    {
     "name": "stderr",
     "output_type": "stream",
     "text": [
      "Warning message in par(usr):\n",
      "\"argument 1 does not name a graphical parameter\"\n",
      "Warning message in par(usr):\n",
      "\"argument 1 does not name a graphical parameter\"\n",
      "Warning message in par(usr):\n",
      "\"argument 1 does not name a graphical parameter\"\n"
     ]
    },
    {
     "data": {
      "image/png": "[encoded data removed]",
      "text/plain": [
       "plot without title"
      ]
     },
     "metadata": {
      "image/png": {
       "height": 420,
       "width": 420
      }
     },
     "output_type": "display_data"
    },
    {
     "data": {
      "image/png": "[encoded data removed]",
      "text/plain": [
       "plot without title"
      ]
     },
     "metadata": {
      "image/png": {
       "height": 420,
       "width": 420
      }
     },
     "output_type": "display_data"
    }
   ],
   "source": [
    "mvpairs(model = Job_PLS, Jobsatis)"
   ]
  },
  {
   "cell_type": "markdown",
   "id": "a41efc8f",
   "metadata": {},
   "source": [
    "#### `sempls()` : 설정된 모형과 데이터를 기초로 모형을 적합하고, 그 결과를 새로운 객체에 저장"
   ]
  },
  {
   "cell_type": "code",
   "execution_count": 21,
   "id": "5ff3af30",
   "metadata": {},
   "outputs": [
    {
     "name": "stdout",
     "output_type": "stream",
     "text": [
      "All 200 observations are valid.\n",
      "Converged after 9 iterations.\n",
      "Tolerance: 1e-07\n",
      "Scheme: centroid\n"
     ]
    }
   ],
   "source": [
    "Job_PLS.fit <- sempls(Job_PLS, Jobsatis)"
   ]
  },
  {
   "cell_type": "markdown",
   "id": "2704108e",
   "metadata": {},
   "source": [
    "<br>\n",
    "\n",
    "### `pathCoeff()` : 구조모형에서의 경로계수에 대한 추정치 출력"
   ]
  },
  {
   "cell_type": "markdown",
   "id": "70f9ba2c",
   "metadata": {},
   "source": [
    "<br>\n",
    "\n",
    "- 'TSSE $\\rightarrow$ PERFORM'에 대한 추정치는 0.646"
   ]
  },
  {
   "cell_type": "code",
   "execution_count": 24,
   "id": "3423c75b",
   "metadata": {},
   "outputs": [
    {
     "name": "stdout",
     "output_type": "stream",
     "text": [
      "         TSSE ACHMOT PERFORM VERBINT JOBSATIS\n",
      "TSSE        .      .   0.646       .        .\n",
      "ACHMOT      .      .       .       .    0.383\n",
      "PERFORM     .      .       .       .    0.472\n",
      "VERBINT     .      .       .       .    0.160\n",
      "JOBSATIS    .      .       .       .        .\n"
     ]
    }
   ],
   "source": [
    "print(pathCoeff(Job_PLS.fit), digits = 3)"
   ]
  },
  {
   "cell_type": "markdown",
   "id": "cf46df50",
   "metadata": {},
   "source": [
    "<br>\n",
    "\n",
    "### `rSquared()` : 구조모형에서의 결정계수 출력"
   ]
  },
  {
   "cell_type": "markdown",
   "id": "d9474873",
   "metadata": {},
   "source": [
    "<br>\n",
    "\n",
    "- 'PERFORM'에 결정계수는 41.7%"
   ]
  },
  {
   "cell_type": "code",
   "execution_count": 26,
   "id": "23a903b2",
   "metadata": {},
   "outputs": [
    {
     "name": "stdout",
     "output_type": "stream",
     "text": [
      "         R-squared\n",
      "TSSE             .\n",
      "ACHMOT           .\n",
      "PERFORM       0.42\n",
      "VERBINT          .\n",
      "JOBSATIS      0.38\n"
     ]
    }
   ],
   "source": [
    "print(rSquared(Job_PLS.fit), digis = 3)"
   ]
  },
  {
   "cell_type": "markdown",
   "id": "dd1480e7",
   "metadata": {},
   "source": [
    "<br>\n",
    "\n",
    "### `totalEffects()` : 구주모형에서의 총효과 출력\n",
    "\n",
    "<br>\n",
    "\n",
    "- TSSE $\\rightarrow$ PERFORM에 대한 총효과는 0.646"
   ]
  },
  {
   "cell_type": "code",
   "execution_count": 28,
   "id": "51c3fd96",
   "metadata": {},
   "outputs": [
    {
     "name": "stdout",
     "output_type": "stream",
     "text": [
      "         TSSE ACHMOT PERFORM VERBINT JOBSATIS\n",
      "TSSE        .      .   0.646       .    0.305\n",
      "ACHMOT      .      .       .       .    0.383\n",
      "PERFORM     .      .       .       .    0.472\n",
      "VERBINT     .      .       .       .    0.160\n",
      "JOBSATIS    .      .       .       .        .\n"
     ]
    }
   ],
   "source": [
    "print(totalEffects(Job_PLS.fit), digits = 3)"
   ]
  },
  {
   "cell_type": "markdown",
   "id": "a05615c1",
   "metadata": {},
   "source": [
    "<br>\n",
    "\n",
    "### `plsWeights()` : 측정모형에서 조형적 지표에 대한 가중치를 출력\n",
    "- 반영적 지표에 대하여는 적재값이 먼저 추정되고, 가중치가 계산\n",
    "\n",
    "<br>\n",
    "\n",
    "- 잠재변수 TSSE는 아래와 같이 규정\n",
    "\n",
    "$$TSSE = 0.792 \\times Tsse1 + 0.291 \\times Tsse2$$"
   ]
  },
  {
   "cell_type": "code",
   "execution_count": 30,
   "id": "997c0593",
   "metadata": {},
   "outputs": [
    {
     "name": "stdout",
     "output_type": "stream",
     "text": [
      "           TSSE ACHMOT PERFORM VERBINT JOBSATIS\n",
      "Tsse1     0.792      .       .       .        .\n",
      "Tsse2     0.291      .       .       .        .\n",
      "Achmot1       .  0.678       .       .        .\n",
      "Achmot2       .  0.500       .       .        .\n",
      "Perform1      .      .   1.000       .        .\n",
      "Verbint1      .      .       .   1.000        .\n",
      "Jobsatis1     .      .       .       .    0.565\n",
      "Jobsatis2     .      .       .       .    0.534\n"
     ]
    }
   ],
   "source": [
    "print(plsWeights(Job_PLS.fit), digits = 3)"
   ]
  },
  {
   "cell_type": "markdown",
   "id": "4c38e6d3",
   "metadata": {},
   "source": [
    "<br>\n",
    "\n",
    "### `plsLoadings()` : 측정모형에서 반영적 지표에 대한 적재값 출력\n",
    "- 적재값은 각 관찰변수와 잠재변수의 연관성(상관계수)를 의미"
   ]
  },
  {
   "cell_type": "markdown",
   "id": "68a29d2d",
   "metadata": {},
   "source": [
    "**판별 적재값 : 잠재변수와 그 잠재변수를 규정하는 관찰변수들의 상관계수**\n",
    "- **따라서 판별 적재값이 높아야 집중 타당도에 문제가 없는 것으로 평가**\n",
    "- 아래 결과에서는 적재값이 모두 0.7이상 $\\rightarrow$ 집중 타당도에 문제가 없음\n"
   ]
  },
  {
   "cell_type": "code",
   "execution_count": 32,
   "id": "bb0993c3",
   "metadata": {},
   "outputs": [
    {
     "name": "stdout",
     "output_type": "stream",
     "text": [
      "           TSSE ACHMOT PERFORM VERBINT JOBSATIS\n",
      "Tsse1     0.974      .       .       .        .\n",
      "Tsse2     0.785      .       .       .        .\n",
      "Achmot1       .  0.892       .       .        .\n",
      "Achmot2       .  0.790       .       .        .\n",
      "Perform1      .      .   1.000       .        .\n",
      "Verbint1      .      .       .   1.000        .\n",
      "Jobsatis1     .      .       .       .    0.916\n",
      "Jobsatis2     .      .       .       .    0.905\n"
     ]
    }
   ],
   "source": [
    "print(plsLoadings(Job_PLS.fit), type = c(\"discriminant\"), digits = 3)"
   ]
  },
  {
   "cell_type": "markdown",
   "id": "81cd1444",
   "metadata": {},
   "source": [
    "<br>\n",
    "\n",
    "**교차 적재값 : 잠재변수와 그 잠재변수를 규정하지 않는 관찰변수들의 상관계수**\n",
    "- **따라서 교차 적재값이 낮아야 변별 타당도에 문제가 없는 것으로 평가**\n",
    "- 아래 결과에서는 판별 적재값과 교차 적재값이 출력"
   ]
  },
  {
   "cell_type": "code",
   "execution_count": 33,
   "id": "5bd858e0",
   "metadata": {},
   "outputs": [
    {
     "name": "stdout",
     "output_type": "stream",
     "text": [
      "             TSSE  ACHMOT PERFORM VERBINT JOBSATIS\n",
      "Tsse1      0.9738  0.3751  0.6291 -0.3333   0.5428\n",
      "Tsse2      0.7851  0.3398  0.5072 -0.2771   0.4354\n",
      "Achmot1    0.3383  0.8918  0.1789 -0.3886   0.3708\n",
      "Achmot2    0.3332  0.7903  0.2152 -0.4081   0.3286\n",
      "Perform1   0.6460  0.2290  1.0000 -0.2788   0.5149\n",
      "Verbint1  -0.3447 -0.4676 -0.2788  1.0000  -0.1502\n",
      "Jobsatis1  0.4945  0.3765  0.4588 -0.1760   0.9157\n",
      "Jobsatis2  0.5200  0.3808  0.4794 -0.0951   0.9050\n"
     ]
    }
   ],
   "source": [
    "print(plsLoadings(Job_PLS.fit), type = c(\"cross\"), digits = 3)"
   ]
  },
  {
   "cell_type": "markdown",
   "id": "ff9d85da",
   "metadata": {},
   "source": [
    "<br>\n",
    "\n",
    "## 09.03. 붓스트랩 검정\n",
    "- **PLS-SEM은 정규성을 가정하지 않음으로서, 붓스트랩 방법을 사용하여 유의성 검정을 수행**"
   ]
  },
  {
   "cell_type": "markdown",
   "id": "640992c5",
   "metadata": {},
   "source": [
    "<br>\n",
    "\n",
    "#### `bootsempls(nboot)` : 붓스트랩 방법을 통한 유의성 검정"
   ]
  },
  {
   "cell_type": "code",
   "execution_count": 36,
   "id": "6e0925a3",
   "metadata": {},
   "outputs": [],
   "source": [
    "Job_PLS.Boot <- bootsempls(Job_PLS.fit , nboot = 1000, verbose = FALSE)"
   ]
  },
  {
   "cell_type": "code",
   "execution_count": 35,
   "id": "2fc80119",
   "metadata": {},
   "outputs": [
    {
     "data": {
      "text/plain": [
       "Call: bootsempls(object = Job_PLS.fit, nboot = 1000, verbose = FALSE)\n",
       "\n",
       "                      Estimate      Bias Std.Error\n",
       "Tsse1 -> TSSE            0.792 -1.34e-03  9.42e-02\n",
       "Tsse2 -> TSSE            0.291 -3.64e-03  1.17e-01\n",
       "Achmot1 -> ACHMOT        0.678 -1.45e-02  1.46e-01\n",
       "Achmot2 -> ACHMOT        0.500  8.58e-04  1.60e-01\n",
       "PERFORM -> Perform1      1.000  1.11e-16  5.72e-17\n",
       "Verbint1 -> VERBINT      1.000  0.00e+00  1.14e-16\n",
       "JOBSATIS -> Jobsatis1    0.916 -7.51e-04  1.46e-02\n",
       "JOBSATIS -> Jobsatis2    0.905 -1.90e-03  1.88e-02\n",
       "TSSE -> PERFORM          0.646  2.48e-03  3.81e-02\n",
       "ACHMOT -> JOBSATIS       0.383  4.58e-03  6.15e-02\n",
       "PERFORM -> JOBSATIS      0.472 -6.88e-03  5.42e-02\n",
       "VERBINT -> JOBSATIS      0.160 -4.77e-03  5.45e-02"
      ]
     },
     "metadata": {},
     "output_type": "display_data"
    }
   ],
   "source": [
    "Job_PLS.Boot"
   ]
  },
  {
   "cell_type": "markdown",
   "id": "e04bfa0e",
   "metadata": {},
   "source": [
    "- 붓스트랩 신뢰구간 출력\n",
    "    - 편향 조정 (bias-corrected) 신뢰구간 출력 : `type`을 `\"bca\"`로 입력 "
   ]
  },
  {
   "cell_type": "markdown",
   "id": "ac7d9e76",
   "metadata": {},
   "source": [
    "- 아래 결과에서 `gam`으로 표현된 계수들은 조형적 지표에 대한 가중치\n",
    "\n",
    "    `lam`으로 표현된 계수들은 반영적 지표에 대한 적재값\n",
    "    \n",
    "    `beta`로 표현된 계수들은 구조모형에서의 경로계수\n",
    "    \n",
    "- **신뢰구간이 0을 포함하고 있지 않으면 귀무가설 $H_0 : \\beta_i = 0$을 기각**"
   ]
  },
  {
   "cell_type": "code",
   "execution_count": 37,
   "id": "9bd17070",
   "metadata": {},
   "outputs": [
    {
     "data": {
      "text/plain": [
       "Call: bootsempls(object = Job_PLS.fit, nboot = 1000, verbose = FALSE)\n",
       "\n",
       "Lower and upper limits are for the 95 percent bca confidence interval\n",
       "\n",
       "         Estimate      Bias Std.Error  Lower Upper\n",
       "gam_1_1     0.792 -4.06e-03  9.38e-02 0.5965 0.967\n",
       "gam_1_2     0.291 -3.49e-04  1.16e-01 0.0505 0.509\n",
       "gam_2_1     0.678 -1.34e-02  1.45e-01 0.3722 0.928\n",
       "gam_2_2     0.500 -5.73e-04  1.63e-01 0.1389 0.774\n",
       "lam_3_1     1.000  1.11e-16  5.87e-17      .     .\n",
       "gam_4_1     1.000  0.00e+00  1.16e-16      .     .\n",
       "lam_5_1     0.916 -3.03e-04  1.44e-02 0.8820 0.939\n",
       "lam_5_2     0.905 -1.13e-03  1.85e-02 0.8565 0.932\n",
       "beta_1_3    0.646  1.47e-03  3.62e-02 0.5625 0.708\n",
       "beta_2_5    0.383  1.06e-03  6.01e-02 0.2621 0.497\n",
       "beta_3_5    0.472 -1.07e-04  5.44e-02 0.3462 0.564\n",
       "beta_4_5    0.160 -3.72e-03  5.79e-02 0.0543 0.285\n",
       "Call: bootsempls(object = Job_PLS.fit, nboot = 1000, verbose = FALSE)\n",
       "\n",
       "Lower and upper limits are for the 95 percent bca confidence interval\n",
       "\n",
       "         Estimate      Bias Std.Error  Lower Upper\n",
       "gam_1_1     0.792 -4.06e-03  9.38e-02 0.5965 0.967\n",
       "gam_1_2     0.291 -3.49e-04  1.16e-01 0.0505 0.509\n",
       "gam_2_1     0.678 -1.34e-02  1.45e-01 0.3722 0.928\n",
       "gam_2_2     0.500 -5.73e-04  1.63e-01 0.1389 0.774\n",
       "lam_3_1     1.000  1.11e-16  5.87e-17      .     .\n",
       "gam_4_1     1.000  0.00e+00  1.16e-16      .     .\n",
       "lam_5_1     0.916 -3.03e-04  1.44e-02 0.8820 0.939\n",
       "lam_5_2     0.905 -1.13e-03  1.85e-02 0.8565 0.932\n",
       "beta_1_3    0.646  1.47e-03  3.62e-02 0.5625 0.708\n",
       "beta_2_5    0.383  1.06e-03  6.01e-02 0.2621 0.497\n",
       "beta_3_5    0.472 -1.07e-04  5.44e-02 0.3462 0.564\n",
       "beta_4_5    0.160 -3.72e-03  5.79e-02 0.0543 0.285"
      ]
     },
     "metadata": {},
     "output_type": "display_data"
    }
   ],
   "source": [
    "summary(Job_PLS.Boot, type = \"bca\", level = 0.95)"
   ]
  }
 ],
 "metadata": {
  "kernelspec": {
   "display_name": "R",
   "language": "R",
   "name": "ir"
  },
  "language_info": {
   "codemirror_mode": "r",
   "file_extension": ".r",
   "mimetype": "text/x-r-source",
   "name": "R",
   "pygments_lexer": "r",
   "version": "4.2.2"
  }
 },
 "nbformat": 4,
 "nbformat_minor": 5
}
