{
 "cells": [
  {
   "cell_type": "markdown",
   "id": "ab2e92f0",
   "metadata": {},
   "source": [
    "# 04. 잠재변수가 없는 구조방정식 모형\n",
    "- 잠재변수는 고려하지 않고, 외생관찰변수와 내생관찰변수들 간의 구조적 관계만을 분석 $\\rightarrow$ **경로분석 (Path Analysis)**"
   ]
  },
  {
   "cell_type": "markdown",
   "id": "ee597ea8",
   "metadata": {},
   "source": [
    "<br>\n",
    "\n",
    "## 04.01. 연구모형의 구축과 해석\n",
    "\n",
    "<br>\n",
    "\n",
    "### 1. 모형에 대한 적합도 평가\n",
    "- **카이제곱 통계량, GFI, RMSEA 등 적합도 통계량들을 활용하여 연구자가 설정한 모형의 전반적 적합도를 평가**\n",
    "- 연구모형이 데이터(실제)에 잘 적용되는지를 평가 하는 것\n",
    "- 모형의 전반적 적합도가 좋은 것으로 평가된다면, 이 모형을 통해 얻어진 데이터 분석의 결과를 해석할 수 있으며,\n",
    "\n",
    "    **적합도가 좋지 않은 것으로 평가된다면 연구모형을 다시 설정하거나 수정**\n",
    "    \n",
    "<br>\n",
    "\n",
    "### 2. 모형 수정\n",
    "- 모형 수정의 2가지 방향\n",
    "\n",
    "1. **모형에 모수를 추가하여 더 복잡한 형태의 모형을 생성**\n",
    "- **모형의 적합도가 좋지 않은 통상적인 이유는 모형이 너무 단순하여 데이터의 구조를 제대로 나타내지 못하기 때문**\n",
    "    - 이런 경우 모형에 추가적인 경로계수 또는 공분산을 도입하여 모형에 대한 제약을 완화\n",
    "    - 이때 **수정지수(modification index)**를 이용하면, 어떤 모수를 추가해야 할지에 대한 정보를 얻음\n",
    "    \n",
    "2. **불필요한 모수를 삭제하여 더 간단한 형태의 모형을 생성**\n",
    "- 통계적 모형 구축의 목적이 데이터에 내재되어 있는 복잡한 데이터의 구조를 단순화하여 설명하는 것에 있다고 할 때, 모수의 절약이 시도되지 않은 모형은 **간명성(parsimony)**의 측면에서 모형으로서의 가치가 떨어진다고 할 수 있음\n",
    "    - 즉, 연구자는 간명한 모형에 의해서 가급적으로 데이터의 구조를 설명할 필요가 있다\n",
    "    - 이때, 모수 추정치들에 대한 통계적 가설검정의 결과를 이용\n",
    "    \n",
    "<br>\n",
    "\n",
    "### 3. 모수 추정치들에 대한 검정 및 해석\n",
    "\n",
    "- 개별 모수 (경로계수 및 공분산)들의 추정치에 대하여 통계적 유의성을 평가하고, 각 추정치들의 부호와 크기를 고려하여 그 의미를 해석\n",
    "- 직접(direct), 간접 (indirect), 총 (total) 효과 등에 대한 평가와 해석을 수행\n",
    "\n",
    "<br>\n",
    "\n",
    "#### 위의 모형 구축 절차는 대부분 한 번에 끝나지 않으며, 분석가는 좋은 적합도와 간명성이라는 목표를 달성하기 위하여 여러 번 모형을 수정하고 평가할 필요가 있게 된다"
   ]
  },
  {
   "attachments": {
    "4.1.png": {
     "image/png": "[encoded data removed]"
    }
   },
   "cell_type": "markdown",
   "id": "47d38816",
   "metadata": {},
   "source": [
    "<br>\n",
    "\n",
    "## 04.02. 초기모형\n",
    "\n",
    "![4.1.png](attachment:4.1.png)"
   ]
  },
  {
   "cell_type": "markdown",
   "id": "cb47f0cd",
   "metadata": {},
   "source": [
    "**외생 관찰변수 (Exogenous Observed Variable)** : Years, Age\n",
    "- **다른 변수의 변화에 원인이나 동기의 역할을 하는 변수** \n",
    "- **외생변수의 변이는 모형 외부에 있는 다른 원인**\n",
    "\n",
    "<br>\n",
    "\n",
    "**내생 관찰변수 (Endogenous Observed Variable)** : Defer, Suppo, Senti\n",
    "- **설명변수들 (외생변수, 다른 내생변수)에 의해여 영향을 받는 변수**\n",
    "- **내생변수의 변이는 모형을 통해 적극적으로 설명하려는 부분**\n",
    "\n",
    "$$\n",
    "\\begin{cases}\n",
    "Defer\\;=\\;\\rho_{12}Age + \\;\\zeta_1\\\\\n",
    "Suppo\\;=\\;\\rho_{21}Years + \\rho_{22}Age + \\;\\zeta_2\\\\\n",
    "Senti\\;=\\;\\rho_{31}Years + \\beta_{31}Defer + \\beta_{32}Suppo + \\zeta_3\\\\\n",
    "\\end{cases}$$\n",
    "\n",
    "<br>\n",
    "\n",
    "**오차변수 (Error Variable)** : $\\zeta_1$, $\\zeta_2$, $\\zeta_3$\n",
    "- **모형에 포함된 인과관계로는 설명불가**\n",
    "- 내생변수의 변이를 발생시키는 원인"
   ]
  },
  {
   "cell_type": "code",
   "execution_count": 2,
   "id": "0215151c",
   "metadata": {},
   "outputs": [],
   "source": [
    "library(lavaan)\n",
    "library(sem)\n",
    "library(semPlot)\n",
    "library(semptools)\n",
    "library(psych)\n",
    "library(tidyverse)"
   ]
  },
  {
   "cell_type": "code",
   "execution_count": 4,
   "id": "7baff377",
   "metadata": {},
   "outputs": [],
   "source": [
    "library(tidymodels)"
   ]
  },
  {
   "cell_type": "code",
   "execution_count": 5,
   "id": "53f037c4",
   "metadata": {},
   "outputs": [
    {
     "name": "stderr",
     "output_type": "stream",
     "text": [
      "Warning message:\n",
      "\"'sem' namespace cannot be unloaded:\n",
      "  namespace 'sem' is imported by 'semPlot' so cannot be unloaded\"\n"
     ]
    }
   ],
   "source": [
    "detach(\"package:sem\",unload=TRUE)"
   ]
  },
  {
   "cell_type": "code",
   "execution_count": 6,
   "id": "f5e64d74",
   "metadata": {},
   "outputs": [],
   "source": [
    "Union <- read.csv(paste0(getwd(), \"/Data/Union.csv\"), header = TRUE)"
   ]
  },
  {
   "cell_type": "code",
   "execution_count": 7,
   "id": "a3750f56",
   "metadata": {},
   "outputs": [],
   "source": [
    "Union.A <- '\n",
    "    # regression\n",
    "    Defer ~ Age\n",
    "    Suppo ~ Years + Age\n",
    "    Senti ~ Years + Defer + Suppo\n",
    "'"
   ]
  },
  {
   "cell_type": "code",
   "execution_count": 8,
   "id": "e42e6657",
   "metadata": {},
   "outputs": [
    {
     "name": "stdout",
     "output_type": "stream",
     "text": [
      "lavaan 0.6.16 ended normally after 1 iteration\n",
      "\n",
      "  Estimator                                         ML\n",
      "  Optimization method                           NLMINB\n",
      "  Number of model parameters                        12\n",
      "\n",
      "  Number of observations                           173\n",
      "\n",
      "Model Test User Model:\n",
      "                                                      \n",
      "  Test statistic                                24.505\n",
      "  Degrees of freedom                                 3\n",
      "  P-value (Chi-square)                           0.000\n",
      "\n",
      "Model Test Baseline Model:\n",
      "\n",
      "  Test statistic                               164.810\n",
      "  Degrees of freedom                                 9\n",
      "  P-value                                        0.000\n",
      "\n",
      "User Model versus Baseline Model:\n",
      "\n",
      "  Comparative Fit Index (CFI)                    0.862\n",
      "  Tucker-Lewis Index (TLI)                       0.586\n",
      "\n",
      "Loglikelihood and Information Criteria:\n",
      "\n",
      "  Loglikelihood user model (H0)              -2306.811\n",
      "  Loglikelihood unrestricted model (H1)      -2294.558\n",
      "                                                      \n",
      "  Akaike (AIC)                                4637.621\n",
      "  Bayesian (BIC)                              4675.461\n",
      "  Sample-size adjusted Bayesian (SABIC)       4637.462\n",
      "\n",
      "Root Mean Square Error of Approximation:\n",
      "\n",
      "  RMSEA                                          0.204\n",
      "  90 Percent confidence interval - lower         0.134\n",
      "  90 Percent confidence interval - upper         0.282\n",
      "  P-value H_0: RMSEA <= 0.050                    0.000\n",
      "  P-value H_0: RMSEA >= 0.080                    0.997\n",
      "\n",
      "Standardized Root Mean Square Residual:\n",
      "\n",
      "  SRMR                                           0.103\n",
      "\n",
      "Parameter Estimates:\n",
      "\n",
      "  Standard errors                             Standard\n",
      "  Information                                 Expected\n",
      "  Information saturated (h1) model          Structured\n",
      "\n",
      "Regressions:\n",
      "                   Estimate  Std.Err  z-value  P(>|z|)   Std.lv  Std.all\n",
      "  Defer ~                                                               \n",
      "    Age              -0.055    0.021   -2.577    0.010   -0.055   -0.192\n",
      "  Suppo ~                                                               \n",
      "    Years            -0.207    0.227   -0.908    0.364   -0.207   -0.070\n",
      "    Age               0.078    0.017    4.545    0.000    0.078    0.351\n",
      "  Senti ~                                                               \n",
      "    Years             0.604    0.288    2.097    0.036    0.604    0.119\n",
      "    Defer            -0.227    0.076   -3.001    0.003   -0.227   -0.170\n",
      "    Suppo             1.064    0.098   10.871    0.000    1.064    0.616\n",
      "\n",
      "Covariances:\n",
      "                   Estimate  Std.Err  z-value  P(>|z|)   Std.lv  Std.all\n",
      "  Age ~~                                                                \n",
      "    Years             5.041    1.102    4.574    0.000    5.041    0.371\n",
      "\n",
      "Variances:\n",
      "                   Estimate  Std.Err  z-value  P(>|z|)   Std.lv  Std.all\n",
      "   .Defer            14.336    1.541    9.301    0.000   14.336    0.963\n",
      "   .Suppo             7.889    0.848    9.301    0.000    7.889    0.890\n",
      "   .Senti            14.582    1.568    9.301    0.000   14.582    0.552\n",
      "    Age             180.694   19.428    9.301    0.000  180.694    1.000\n",
      "    Years             1.022    0.110    9.301    0.000    1.022    1.000\n",
      "\n",
      "R-Square:\n",
      "                   Estimate\n",
      "    Defer             0.037\n",
      "    Suppo             0.110\n",
      "    Senti             0.448\n",
      "\n"
     ]
    }
   ],
   "source": [
    "Union.A.fit <- sem(Union.A, data = Union, fixed.x = FALSE)\n",
    "summary(Union.A.fit, fit.measures=TRUE, # 적합도 통계량 출력\n",
    "        rsquare=TRUE, standardized=TRUE) %>% print"
   ]
  },
  {
   "cell_type": "code",
   "execution_count": 9,
   "id": "3177901b",
   "metadata": {},
   "outputs": [
    {
     "data": {
      "image/png": "[encoded data removed]",
      "text/plain": [
       "plot without title"
      ]
     },
     "metadata": {
      "image/png": {
       "height": 420,
       "width": 420
      }
     },
     "output_type": "display_data"
    }
   ],
   "source": [
    "semPaths(Union.A.fit, whatLabels = \"std\", rotation = 2)"
   ]
  },
  {
   "cell_type": "markdown",
   "id": "1ae32cba",
   "metadata": {},
   "source": [
    "<br>\n",
    "\n",
    "## 04.03. 적합도 평가\n",
    "- **구조방정식의 일차적 목적 : 연구자가 가정한 모형이 데이터에 의해서 얼마나 지지되는가를 평가 (= 연구자의 모형에 의해서 추정된 공분산행렬이 관측된 공분산행렬과 얼마나 부합하는지를 평가)**\n",
    "- 만약 적합도 (goodness of fit)이 좋지 않다면 모수에 대한 추가적인 해석은 의미가 없음\n",
    "\n",
    "<br>\n",
    "\n",
    "### 주요 적합도 통계량들에 대한 요약\n",
    "\n",
    "- **절대 적합도 지수 (Absolute Fit Index)**\n",
    "\n",
    "<table class=\"dataframe\">\n",
    "<caption></caption>\n",
    "<thead>\n",
    "\t<tr><th scope=col>적합도 지수</th><th scope=col>범위</th><th scope=col>기준</th>\n",
    "\t<tr><th scope=col></th><th scope=col>&lt;범위&gt;</th><th scope=col></th>\n",
    "</thead>\n",
    "<tbody>\n",
    "\t<tr><td>$\\chi^2 / df$(Normed Chi-squared)</td><td>0$\\sim\\infty$</td><td>$\\leq$ 2 (또는 3)</td>\n",
    "        <tr><td>GFI (Goodness of Fit Index)</td><td>0$\\sim$1</td><td>$\\geq0.9$</td>\n",
    "            <tr><td>AGFI (Adjusted Goodness of Fit Index)</td><td>0$\\sim$1</td><td>$\\geq0.9$</td>\n",
    "                <tr><td>RMSEA (Root Mean Square Error of Approximation)</td><td>0$\\sim\\infty$</td><td>$\\leq$ 0.08 (또는 0.1)</td>\n",
    "                    <tr><td>RMR (Root Mean square Residual)</td><td>0$\\sim\\infty$</td><td>작을수록 좋음</td>\n",
    "                        <tr><td>SMRM (Standardized RMR)</td><td>0$\\sim\\infty$</td><td>$\\leq$ 0.05 (또는 0.1)</td>\n",
    "                            <tr><td>CN (Hoelter's Critical N)</td><td>0$\\sim\\infty$</td><td>$\\geq$ 200</td>\n",
    "</tbody>\n",
    "</table>"
   ]
  },
  {
   "cell_type": "markdown",
   "id": "4e3e6ea4",
   "metadata": {},
   "source": [
    "- **증분 적합도 지수 (Incremental Fit Index)**\n",
    "\n",
    "<table class=\"dataframe\">\n",
    "<caption></caption>\n",
    "<thead>\n",
    "\t<tr><th scope=col>적합도 지수</th><th scope=col>범위</th><th scope=col>기준</th>\n",
    "\t<tr><th scope=col></th><th scope=col>&lt;범위&gt;</th><th scope=col></th>\n",
    "</thead>\n",
    "<tbody>\n",
    "<tr><td>CFI (Comparative Fit Index)</td><td>0$\\sim$1</td><td>$\\geq$ 0.9</td>\n",
    "   <tr><td>TLI (Tucker-Lewis Index, NNFI)</td><td>0$\\sim$1</td><td>$\\geq$ 0.9</td>\n",
    "       <tr><td>NFI (Normed Fit Index)</td><td>0$\\sim$1</td><td>$\\geq$ 0.9</td>\n",
    "</tbody>\n",
    "</table>\n",
    "\n",
    "- **간명 적합도 지수 (Parsimony Fit Index)**\n",
    "\n",
    "<table class=\"dataframe\">\n",
    "<caption></caption>\n",
    "<thead>\n",
    "\t<tr><th scope=col>적합도 지수</th><th scope=col>범위</th><th scope=col>기준</th>\n",
    "\t<tr><th scope=col></th><th scope=col>&lt;범위&gt;</th><th scope=col></th>\n",
    "</thead>\n",
    "<tbody>\n",
    "<tr><td>PGFI (Parsimony Goodness of Fit Index)</td><td>0$\\;\\sim$1</td><td>클수록 좋음</td>\n",
    "   <tr><td>PNFI (Parsimony Normed Fit Index)</td><td>0$\\;\\sim$1</td><td>클수록 좋음</td>\n",
    "       <tr><td>PCFI (Parsimony Comparative Fit Index)</td><td>0$\\;\\sim$1</td><td>클수록 좋음</td>\n",
    "</tbody>\n",
    "</table>\n",
    "\n",
    "- **정보기준에 근거한 적합도 지수 (Fit Index based Information Criterion)**\n",
    "<table class=\"dataframe\">\n",
    "<caption></caption>\n",
    "<thead>\n",
    "\t<tr><th scope=col>적합도 지수</th><th scope=col>범위</th><th scope=col>기준</th>\n",
    "\t<tr><th scope=col></th><th scope=col>&lt;범위&gt;</th><th scope=col></th>\n",
    "</thead>\n",
    "<tbody>\n",
    "<tr><td>AIC, BCC, BIC, CAIC</td><td>0$\\;\\sim\\infty$</td><td>작을수록 좋음</td>\n",
    "   <tr><td>ECVI (Expected Cross-Validation Index)</td><td>0$\\;\\sim\\infty$</td><td>작을수록 좋음</td>\n",
    "</tbody>\n",
    "</table>"
   ]
  },
  {
   "cell_type": "markdown",
   "id": "53e4a30f",
   "metadata": {},
   "source": [
    "- **간명 적합도 지수와 정보기준 적합도 지수는 두 개 이상의 경쟁모형에 대하여 적합도를 비교할 때 유용**\n",
    "\n",
    "<br>\n",
    "\n",
    "### 적합도 지수에 의한 모형평가\n",
    "- GFI를 제외한 대부분의 적합도 지수들이 기준에 미달 $\\rightarrow$ 모형 설정에 문제가 있음을 확인"
   ]
  },
  {
   "cell_type": "code",
   "execution_count": 10,
   "id": "a0b292a0",
   "metadata": {},
   "outputs": [
    {
     "name": "stderr",
     "output_type": "stream",
     "text": [
      "Warning message:\n",
      "\"'tidy.numeric' is deprecated.\n",
      "See help(\"Deprecated\")\"\n"
     ]
    },
    {
     "data": {
      "text/html": [
       "<table class=\"dataframe\">\n",
       "<caption>A tibble: 8 × 2</caption>\n",
       "<thead>\n",
       "\t<tr><th scope=col>names</th><th scope=col>x</th></tr>\n",
       "\t<tr><th scope=col>&lt;chr&gt;</th><th scope=col>&lt;lvn.vctr&gt;</th></tr>\n",
       "</thead>\n",
       "<tbody>\n",
       "\t<tr><td>chisq</td><td>24.5045262</td></tr>\n",
       "\t<tr><td>df   </td><td> 3.0000000</td></tr>\n",
       "\t<tr><td>cfi  </td><td> 0.8619822</td></tr>\n",
       "\t<tr><td>tli  </td><td> 0.5859465</td></tr>\n",
       "\t<tr><td>rmsea</td><td> 0.2035548</td></tr>\n",
       "\t<tr><td>srmr </td><td> 0.1026775</td></tr>\n",
       "\t<tr><td>gfi  </td><td> 0.9497794</td></tr>\n",
       "\t<tr><td>agfi </td><td> 0.7488968</td></tr>\n",
       "</tbody>\n",
       "</table>\n"
      ],
      "text/latex": [
       "A tibble: 8 × 2\n",
       "\\begin{tabular}{ll}\n",
       " names & x\\\\\n",
       " <chr> & <lvn.vctr>\\\\\n",
       "\\hline\n",
       "\t chisq & 24.5045262\\\\\n",
       "\t df    &  3.0000000\\\\\n",
       "\t cfi   &  0.8619822\\\\\n",
       "\t tli   &  0.5859465\\\\\n",
       "\t rmsea &  0.2035548\\\\\n",
       "\t srmr  &  0.1026775\\\\\n",
       "\t gfi   &  0.9497794\\\\\n",
       "\t agfi  &  0.7488968\\\\\n",
       "\\end{tabular}\n"
      ],
      "text/markdown": [
       "\n",
       "A tibble: 8 × 2\n",
       "\n",
       "| names &lt;chr&gt; | x &lt;lvn.vctr&gt; |\n",
       "|---|---|\n",
       "| chisq | 24.5045262 |\n",
       "| df    |  3.0000000 |\n",
       "| cfi   |  0.8619822 |\n",
       "| tli   |  0.5859465 |\n",
       "| rmsea |  0.2035548 |\n",
       "| srmr  |  0.1026775 |\n",
       "| gfi   |  0.9497794 |\n",
       "| agfi  |  0.7488968 |\n",
       "\n"
      ],
      "text/plain": [
       "  names x         \n",
       "1 chisq 24.5045262\n",
       "2 df     3.0000000\n",
       "3 cfi    0.8619822\n",
       "4 tli    0.5859465\n",
       "5 rmsea  0.2035548\n",
       "6 srmr   0.1026775\n",
       "7 gfi    0.9497794\n",
       "8 agfi   0.7488968"
      ]
     },
     "metadata": {},
     "output_type": "display_data"
    }
   ],
   "source": [
    "tidy(fitMeasures(Union.A.fit)) %>%\n",
    "    filter(names %in% c(\"chisq\", \"df\", \"gfi\", \"agfi\", \"cfi\", \"tli\", \"rmsea\", \"srmr\"))"
   ]
  },
  {
   "cell_type": "markdown",
   "id": "805f3eaf",
   "metadata": {},
   "source": [
    "<br>\n",
    "\n",
    "### 적합도 지수에 대한 해석\n",
    "\n",
    "<br>\n",
    "\n",
    "#### $\\chi^2$ 통계량\n",
    "- $\\chi^2$통계량은 적합도가 얼마나 좋지 않은지를 나타내는 부적합도의 지수\n",
    "    - **즉, 이 값이 클수록 데이터에 대한 모형의 적합도가 나쁘다는 것을 의미**\n",
    "- **$\\chi^2$ 통계량은 설정된 모형이 타당하다는 귀무가설 ($H_0:\\beta_1=\\beta_2=\\dots\\beta_m=0$)을 검정하는데 사용**\n",
    "    - 귀무가설의 내용이 너무 엄격하다는 것과 $\\chi^2$통계량이 표본크기, 관찰변수들의 상관계수의 크기, 정규분포성에 대하여 민감하든 단점 존재\n",
    "\n",
    "<br>\n",
    "    \n",
    "**$\\rightarrow \\chi^2$통계량을 이용한 검정은 구조방정식 모형의 평가에 많이 사용되지 않음**\n",
    "\n",
    "- **대신, 표본크기에 대한 민감도를 낮추기 위해 $\\chi^2$값을 자유도로 나눈 포준카이제곱(normed chi-square)을 사용**\n",
    "    - **표준카이제곱이 2 혹은 3보다 작으면 좋다는 기준이 통용되고 있지만, 표준카이제곱 값이 얼마나 작아야 모형을 수용할 수 있는 지에 대한 명확한 지침 존재 X**\n",
    "    - 표준카이제곱도 표본크기의 영향에서 완전히 자유로울 수 없음\n",
    "\n",
    "<br>\n",
    "\n",
    "**$\\chi^2$ 통계량을 적합도 지수로 사용하는 데 문제가 있지만, 일반적으로 $\\chi^2$값 과 자유도 (degree of freedom)를 사용하는 것이 바람직**\n",
    "- **대부분의 적합도 지수들이 $\\chi^2$값에 근거하여 산출되기 때문**\n",
    "\n",
    "<br>\n",
    "\n",
    "**대부분의 적합도 지수들은 관찰변수의 수가 많을 수록 나빠지는 경향 존재**\n",
    "- **단순히 적합도만을 향상시키고자 한다면, 관찰변수의 수를 줄이면 되지만, 구조방정식 모형 분석의 목적은 연구자의 모형(가설, 이론)을 검증하기 위한 것이지 적합도를 높이는 것에 목적을 두지 않음**\n",
    "- **대게, 가장 기본적인 적합도 지수인 $\\chi^2$통계량과 함께, 절대 적합도 지수와 증분 적합도 중 1개 이상의 값으로 모형의 적합도 및 간명도 증명**\n",
    "\n",
    "<br>\n",
    "\n",
    "#### 적합도와 좋은 모형의 관계\n",
    "- 적합도는 연구자의 모형(가설, 이론)이 데이터를 통해 나타난 실제의 현상을 얼마나 잘 재현하는지를 측정\n",
    "- **하지만, '좋은 적합도'가 '좋은 모형'으로 이어지는 것은 아님**\n",
    "    - 적합도가 높다는 것은 좋은 모형이기 위한 여러 가지 필요조건 중 하나 (필요충분조건이 아님)\n",
    "\n",
    "<br>\n",
    "\n",
    "#### 적합도와 설명력\n",
    "- **적합도는 모형의 적절성을 나타내지만, 설명력은 어떤 내생변수와 설명변수들의 관계에 대한 강도를 나타냄**\n",
    "    - 즉, 설명력은 '설명변수들이 내생변수의 변이를 설명하는 정도' ($=R^2$)\n",
    "\n",
    "<br>\n",
    "\n",
    "#### 결론\n",
    "- **적합도 지수들은 연구결과가 이론적으로 의미가 있는지 아닌지에 대해서 말해주지 않음**\n",
    "- **적합도가 높게 나타났다고 해서 반드시 내생변수의 설명력이 높게 나타나지 않음**\n",
    "- **데이터가 일반적인 가정을 만족하지 않은 경우 (비정규성, 특이값의 존재, 다중공선성 등이 존재 시), 적합도가 높더라도 어떤 계수들이 값이 기대와 달리 매우 낮거나 부호가 예상과 반대로 나올 수 있음**"
   ]
  },
  {
   "cell_type": "markdown",
   "id": "39f73bca",
   "metadata": {},
   "source": [
    "<br>\n",
    "\n",
    "#### 포화모형 (Saturated Model)\n",
    "- **포화모형 : 카이제곱 통계량의 자유도가 0이 되는 모형**\n",
    "    - 고려하고 있는 관찰변수들로 만들 수 있는 가장 복잡한 모형 중 하나\n",
    "    - 모통계적 모형구축의 목적이 데이터에 내재되어 있는 복잡한 구조를 단순화하여 설명하려는 것에 있다고 할 때, **모수의 절약이 시도되지 않은 모형 (간명성의 측면에서 가치가 없음)**\n",
    "- 잠재변수가 있는 구조방정식모형의 경우에는 포화모형이 나타나지 않음"
   ]
  },
  {
   "cell_type": "markdown",
   "id": "a8fbbb7c",
   "metadata": {},
   "source": [
    "<br>\n",
    "\n",
    "## 04.04. 수정지수를 이용한 모형\n",
    "- 모형의 적합도가 좋지 않은 통상적인 이유는 모형이 너무 단순하여 구조를 제대로 나타내지 못하기 때문\n",
    "    - 적합도가 낮은 경우 일차적으로 모형에 추가적인 모수를 도입하여 모형에 대한 제약을 완호시킬 필요가 있는지를 검토\n",
    "\n",
    "<br>\n",
    "\n",
    "### **수정지수 (modification index)** : **해당 모수를 모형에 추가할 경우 감소하는 카이제곱 값**\n",
    "- **수정지수가 큰 모수를 추가하면 적합도 지수들이 좋아질 가능성이 증가**\n",
    "- **어떤 두 변수의 인과(연관)관계에 높은 수정지수가 발견된다면, 두 변수 간에는 추정되지 않고 남아 있는 어떤 관계가 있다는 것을 암시**\n",
    "- **일반적으로 수정지수가 4 이상의 값을 가질 때, 유의한 카이제곱 값의 감소를 가져옴**\n",
    "\n",
    "<br>\n",
    "\n",
    "#### 주의점\n",
    "- **수정지수는 수치적인 방향을 제시해 주는 것에 불과, 어떤 모수를 모형에 추가할 것인지는 당연히 해당 분야의 이론이나 가설에 근거하여 결정**\n",
    "- 어떤 모수를 추가하여 모형을 수정하는 경우, 다른 모수에 대한 추정과 검정에도 영향\n",
    "    - 수정지수가 큰 것들이 여러개가 있다고해도 한번에 추가하면 안됨\n",
    "- **동치모형(equivalent model) : 변수들 간에 설정된 경로는 다르지만, 동일한 예측공분산을 산출하는 모형**\n",
    "    - (동치모형은 동일한 적합도와 자유도를 가지므로, 적합도만으로는 동치관계에 있는 모형들 중 어느 것이 더 우수한지 결정 할 수 없음)\n",
    "    \n"
   ]
  },
  {
   "cell_type": "code",
   "execution_count": 17,
   "id": "d1aae9bf",
   "metadata": {},
   "outputs": [
    {
     "data": {
      "text/html": [
       "<span style=white-space:pre-wrap>'\\n    # regression\\n    Defer ~ Age\\n    Suppo ~ Years + Age\\n    Senti ~ Years + Defer + Suppo\\n'</span>"
      ],
      "text/latex": [
       "'\\textbackslash{}n    \\# regression\\textbackslash{}n    Defer \\textasciitilde{} Age\\textbackslash{}n    Suppo \\textasciitilde{} Years + Age\\textbackslash{}n    Senti \\textasciitilde{} Years + Defer + Suppo\\textbackslash{}n'"
      ],
      "text/markdown": [
       "<span style=white-space:pre-wrap>'\\n    # regression\\n    Defer ~ Age\\n    Suppo ~ Years + Age\\n    Senti ~ Years + Defer + Suppo\\n'</span>"
      ],
      "text/plain": [
       "[1] \"\\n    # regression\\n    Defer ~ Age\\n    Suppo ~ Years + Age\\n    Senti ~ Years + Defer + Suppo\\n\""
      ]
     },
     "metadata": {},
     "output_type": "display_data"
    }
   ],
   "source": [
    "Union.A"
   ]
  },
  {
   "cell_type": "code",
   "execution_count": 11,
   "id": "d481fac8",
   "metadata": {},
   "outputs": [
    {
     "data": {
      "text/html": [
       "<table class=\"dataframe\">\n",
       "<caption>A lavaan.data.frame: 13 × 8</caption>\n",
       "<thead>\n",
       "\t<tr><th></th><th scope=col>lhs</th><th scope=col>op</th><th scope=col>rhs</th><th scope=col>mi</th><th scope=col>epc</th><th scope=col>sepc.lv</th><th scope=col>sepc.all</th><th scope=col>sepc.nox</th></tr>\n",
       "\t<tr><th></th><th scope=col>&lt;chr&gt;</th><th scope=col>&lt;chr&gt;</th><th scope=col>&lt;chr&gt;</th><th scope=col>&lt;dbl&gt;</th><th scope=col>&lt;dbl&gt;</th><th scope=col>&lt;dbl&gt;</th><th scope=col>&lt;dbl&gt;</th><th scope=col>&lt;dbl&gt;</th></tr>\n",
       "</thead>\n",
       "<tbody>\n",
       "\t<tr><th scope=row>16</th><td>Defer</td><td>~ </td><td>Suppo</td><td>21.6410285</td><td>-0.475637027</td><td>-0.475637027</td><td>-0.36701616</td><td>-0.367016158</td></tr>\n",
       "\t<tr><th scope=row>13</th><td>Defer</td><td>~~</td><td>Suppo</td><td>20.8768031</td><td>-3.694434549</td><td>-3.694434549</td><td>-0.34738331</td><td>-0.347383307</td></tr>\n",
       "\t<tr><th scope=row>19</th><td>Suppo</td><td>~ </td><td>Defer</td><td>20.8768031</td><td>-0.257701189</td><td>-0.257701189</td><td>-0.33396957</td><td>-0.333969567</td></tr>\n",
       "\t<tr><th scope=row>17</th><td>Defer</td><td>~ </td><td>Senti</td><td>17.6088268</td><td>-0.392359408</td><td>-0.392359408</td><td>-0.52258932</td><td>-0.522589323</td></tr>\n",
       "\t<tr><th scope=row>20</th><td>Suppo</td><td>~ </td><td>Senti</td><td> 5.3334856</td><td> 0.328917029</td><td> 0.328917029</td><td> 0.56774496</td><td> 0.567744965</td></tr>\n",
       "\t<tr><th scope=row>22</th><td>Age  </td><td>~ </td><td>Defer</td><td> 1.8515985</td><td>-0.919637887</td><td>-0.919637887</td><td>-0.26396025</td><td>-0.263960247</td></tr>\n",
       "\t<tr><th scope=row>18</th><td>Defer</td><td>~ </td><td>Years</td><td> 1.8515985</td><td> 0.417173335</td><td> 0.417173335</td><td> 0.10932247</td><td> 0.108124271</td></tr>\n",
       "\t<tr><th scope=row>26</th><td>Years</td><td>~ </td><td>Defer</td><td> 1.8515985</td><td> 0.025655719</td><td> 0.025655719</td><td> 0.09790194</td><td> 0.097901943</td></tr>\n",
       "\t<tr><th scope=row>28</th><td>Years</td><td>~ </td><td>Senti</td><td> 1.1161157</td><td>-0.047911483</td><td>-0.047911483</td><td>-0.24351359</td><td>-0.243513587</td></tr>\n",
       "\t<tr><th scope=row>24</th><td>Age  </td><td>~ </td><td>Senti</td><td> 0.2447423</td><td> 0.131475954</td><td> 0.131475954</td><td> 0.05026254</td><td> 0.050262544</td></tr>\n",
       "\t<tr><th scope=row>15</th><td>Suppo</td><td>~~</td><td>Senti</td><td> 0.1405160</td><td>-0.949665613</td><td>-0.949665613</td><td>-0.08853991</td><td>-0.088539906</td></tr>\n",
       "\t<tr><th scope=row>14</th><td>Defer</td><td>~~</td><td>Senti</td><td> 0.1405160</td><td> 2.431566908</td><td> 2.431566908</td><td> 0.16817524</td><td> 0.168175236</td></tr>\n",
       "\t<tr><th scope=row>21</th><td>Senti</td><td>~ </td><td>Age  </td><td> 0.1405160</td><td> 0.009359128</td><td> 0.009359128</td><td> 0.02448146</td><td> 0.001821233</td></tr>\n",
       "</tbody>\n",
       "</table>\n"
      ],
      "text/latex": [
       "A lavaan.data.frame: 13 × 8\n",
       "\\begin{tabular}{r|llllllll}\n",
       "  & lhs & op & rhs & mi & epc & sepc.lv & sepc.all & sepc.nox\\\\\n",
       "  & <chr> & <chr> & <chr> & <dbl> & <dbl> & <dbl> & <dbl> & <dbl>\\\\\n",
       "\\hline\n",
       "\t16 & Defer & \\textasciitilde{}  & Suppo & 21.6410285 & -0.475637027 & -0.475637027 & -0.36701616 & -0.367016158\\\\\n",
       "\t13 & Defer & \\textasciitilde{}\\textasciitilde{} & Suppo & 20.8768031 & -3.694434549 & -3.694434549 & -0.34738331 & -0.347383307\\\\\n",
       "\t19 & Suppo & \\textasciitilde{}  & Defer & 20.8768031 & -0.257701189 & -0.257701189 & -0.33396957 & -0.333969567\\\\\n",
       "\t17 & Defer & \\textasciitilde{}  & Senti & 17.6088268 & -0.392359408 & -0.392359408 & -0.52258932 & -0.522589323\\\\\n",
       "\t20 & Suppo & \\textasciitilde{}  & Senti &  5.3334856 &  0.328917029 &  0.328917029 &  0.56774496 &  0.567744965\\\\\n",
       "\t22 & Age   & \\textasciitilde{}  & Defer &  1.8515985 & -0.919637887 & -0.919637887 & -0.26396025 & -0.263960247\\\\\n",
       "\t18 & Defer & \\textasciitilde{}  & Years &  1.8515985 &  0.417173335 &  0.417173335 &  0.10932247 &  0.108124271\\\\\n",
       "\t26 & Years & \\textasciitilde{}  & Defer &  1.8515985 &  0.025655719 &  0.025655719 &  0.09790194 &  0.097901943\\\\\n",
       "\t28 & Years & \\textasciitilde{}  & Senti &  1.1161157 & -0.047911483 & -0.047911483 & -0.24351359 & -0.243513587\\\\\n",
       "\t24 & Age   & \\textasciitilde{}  & Senti &  0.2447423 &  0.131475954 &  0.131475954 &  0.05026254 &  0.050262544\\\\\n",
       "\t15 & Suppo & \\textasciitilde{}\\textasciitilde{} & Senti &  0.1405160 & -0.949665613 & -0.949665613 & -0.08853991 & -0.088539906\\\\\n",
       "\t14 & Defer & \\textasciitilde{}\\textasciitilde{} & Senti &  0.1405160 &  2.431566908 &  2.431566908 &  0.16817524 &  0.168175236\\\\\n",
       "\t21 & Senti & \\textasciitilde{}  & Age   &  0.1405160 &  0.009359128 &  0.009359128 &  0.02448146 &  0.001821233\\\\\n",
       "\\end{tabular}\n"
      ],
      "text/markdown": [
       "\n",
       "A lavaan.data.frame: 13 × 8\n",
       "\n",
       "| <!--/--> | lhs &lt;chr&gt; | op &lt;chr&gt; | rhs &lt;chr&gt; | mi &lt;dbl&gt; | epc &lt;dbl&gt; | sepc.lv &lt;dbl&gt; | sepc.all &lt;dbl&gt; | sepc.nox &lt;dbl&gt; |\n",
       "|---|---|---|---|---|---|---|---|---|\n",
       "| 16 | Defer | ~  | Suppo | 21.6410285 | -0.475637027 | -0.475637027 | -0.36701616 | -0.367016158 |\n",
       "| 13 | Defer | ~~ | Suppo | 20.8768031 | -3.694434549 | -3.694434549 | -0.34738331 | -0.347383307 |\n",
       "| 19 | Suppo | ~  | Defer | 20.8768031 | -0.257701189 | -0.257701189 | -0.33396957 | -0.333969567 |\n",
       "| 17 | Defer | ~  | Senti | 17.6088268 | -0.392359408 | -0.392359408 | -0.52258932 | -0.522589323 |\n",
       "| 20 | Suppo | ~  | Senti |  5.3334856 |  0.328917029 |  0.328917029 |  0.56774496 |  0.567744965 |\n",
       "| 22 | Age   | ~  | Defer |  1.8515985 | -0.919637887 | -0.919637887 | -0.26396025 | -0.263960247 |\n",
       "| 18 | Defer | ~  | Years |  1.8515985 |  0.417173335 |  0.417173335 |  0.10932247 |  0.108124271 |\n",
       "| 26 | Years | ~  | Defer |  1.8515985 |  0.025655719 |  0.025655719 |  0.09790194 |  0.097901943 |\n",
       "| 28 | Years | ~  | Senti |  1.1161157 | -0.047911483 | -0.047911483 | -0.24351359 | -0.243513587 |\n",
       "| 24 | Age   | ~  | Senti |  0.2447423 |  0.131475954 |  0.131475954 |  0.05026254 |  0.050262544 |\n",
       "| 15 | Suppo | ~~ | Senti |  0.1405160 | -0.949665613 | -0.949665613 | -0.08853991 | -0.088539906 |\n",
       "| 14 | Defer | ~~ | Senti |  0.1405160 |  2.431566908 |  2.431566908 |  0.16817524 |  0.168175236 |\n",
       "| 21 | Senti | ~  | Age   |  0.1405160 |  0.009359128 |  0.009359128 |  0.02448146 |  0.001821233 |\n",
       "\n"
      ],
      "text/plain": [
       "   lhs   op rhs   mi         epc          sepc.lv      sepc.all    sepc.nox    \n",
       "16 Defer ~  Suppo 21.6410285 -0.475637027 -0.475637027 -0.36701616 -0.367016158\n",
       "13 Defer ~~ Suppo 20.8768031 -3.694434549 -3.694434549 -0.34738331 -0.347383307\n",
       "19 Suppo ~  Defer 20.8768031 -0.257701189 -0.257701189 -0.33396957 -0.333969567\n",
       "17 Defer ~  Senti 17.6088268 -0.392359408 -0.392359408 -0.52258932 -0.522589323\n",
       "20 Suppo ~  Senti  5.3334856  0.328917029  0.328917029  0.56774496  0.567744965\n",
       "22 Age   ~  Defer  1.8515985 -0.919637887 -0.919637887 -0.26396025 -0.263960247\n",
       "18 Defer ~  Years  1.8515985  0.417173335  0.417173335  0.10932247  0.108124271\n",
       "26 Years ~  Defer  1.8515985  0.025655719  0.025655719  0.09790194  0.097901943\n",
       "28 Years ~  Senti  1.1161157 -0.047911483 -0.047911483 -0.24351359 -0.243513587\n",
       "24 Age   ~  Senti  0.2447423  0.131475954  0.131475954  0.05026254  0.050262544\n",
       "15 Suppo ~~ Senti  0.1405160 -0.949665613 -0.949665613 -0.08853991 -0.088539906\n",
       "14 Defer ~~ Senti  0.1405160  2.431566908  2.431566908  0.16817524  0.168175236\n",
       "21 Senti ~  Age    0.1405160  0.009359128  0.009359128  0.02448146  0.001821233"
      ]
     },
     "metadata": {},
     "output_type": "display_data"
    }
   ],
   "source": [
    "modificationindices(Union.A.fit, sort=T)"
   ]
  },
  {
   "cell_type": "markdown",
   "id": "f39bc5dc",
   "metadata": {},
   "source": [
    "<br>\n",
    "\n",
    "- $Suppo \\sim Defer$ $(Suppo \\leftarrow Defer)$ : Suppo에 대한 인과관계에 Defer를 추가\n",
    "- $Defer \\sim Suppo$ $(Defer \\leftarrow Suppo)$ : Defer에 대한 인과관계에 Suppo를 추가\n",
    "- $Defer \\sim\\sim Suppo$ $(zeta_1 \\leftrightarrow zeta_2)$ : Suppo에 대한 오차변수와, Defer에 대한 오차변수의 연관관계 (양방향 화살표 추가)"
   ]
  },
  {
   "cell_type": "markdown",
   "id": "fbfa2e1a",
   "metadata": {},
   "source": [
    "<br>\n",
    "\n",
    "* 수정모형 1\n",
    "\n",
    "$$\n",
    "\\begin{cases}\n",
    "Defer\\;=\\;\\rho_{12}Age + \\;\\zeta_1\\\\\n",
    "Suppo\\;=\\;\\rho_{21}Years + \\rho_{22}Age + \\beta_{21}Defer + \\;\\zeta_2\\\\\n",
    "Senti\\;=\\;\\rho_{31}Years + \\beta_{31}Defer + \\beta_{32}Suppo + \\zeta_3\\\\\n",
    "\\end{cases}$$"
   ]
  },
  {
   "cell_type": "code",
   "execution_count": 18,
   "id": "f1241aec",
   "metadata": {},
   "outputs": [],
   "source": [
    "Union.B <- '\n",
    "    # regression\n",
    "    Defer ~ Age\n",
    "    Suppo ~ Years + Age + Defer\n",
    "    Senti ~ Years + Defer + Suppo\n",
    "'"
   ]
  },
  {
   "cell_type": "code",
   "execution_count": 22,
   "id": "ab2617e3",
   "metadata": {},
   "outputs": [
    {
     "data": {
      "image/png": "[encoded data removed]",
      "text/plain": [
       "plot without title"
      ]
     },
     "metadata": {
      "image/png": {
       "height": 420,
       "width": 420
      }
     },
     "output_type": "display_data"
    }
   ],
   "source": [
    "Union.B.fit <- sem(Union.B, data = Union, fixed.x=TRUE)\n",
    "semPaths(Union.B.fit, whatLabels = \"std\", style = \"lisrel\", nCharNodes = 0, rotation = 2)"
   ]
  },
  {
   "cell_type": "markdown",
   "id": "2f726ecb",
   "metadata": {},
   "source": [
    "<br>\n",
    "\n",
    "- 수정된 모형의 $\\chi^2 = 2.000$. $df=2$로서, 표준카이제곱 값이 1이며, GFI, TLI, RMSEA 등 거의 모든 적합도 지수들이 매우 향상"
   ]
  },
  {
   "cell_type": "code",
   "execution_count": 41,
   "id": "d9d1e6df",
   "metadata": {},
   "outputs": [
    {
     "name": "stderr",
     "output_type": "stream",
     "text": [
      "Warning message:\n",
      "\"'tidy.numeric' is deprecated.\n",
      "See help(\"Deprecated\")\"\n",
      "Warning message:\n",
      "\"'tidy.numeric' is deprecated.\n",
      "See help(\"Deprecated\")\"\n",
      "\u001b[1m\u001b[22mJoining, by = \"names\"\n"
     ]
    },
    {
     "data": {
      "text/html": [
       "<table class=\"dataframe\">\n",
       "<caption>A tibble: 8 × 3</caption>\n",
       "<thead>\n",
       "\t<tr><th scope=col>names</th><th scope=col>A</th><th scope=col>B</th></tr>\n",
       "\t<tr><th scope=col>&lt;chr&gt;</th><th scope=col>&lt;dbl&gt;</th><th scope=col>&lt;dbl&gt;</th></tr>\n",
       "</thead>\n",
       "<tbody>\n",
       "\t<tr><td>chisq</td><td>24.5045262</td><td>1.99952502</td></tr>\n",
       "\t<tr><td>df   </td><td> 3.0000000</td><td>2.00000000</td></tr>\n",
       "\t<tr><td>cfi  </td><td> 0.8619822</td><td>1.00000000</td></tr>\n",
       "\t<tr><td>tli  </td><td> 0.5859465</td><td>1.00001372</td></tr>\n",
       "\t<tr><td>rmsea</td><td> 0.2035548</td><td>0.00000000</td></tr>\n",
       "\t<tr><td>srmr </td><td> 0.1026775</td><td>0.02775428</td></tr>\n",
       "\t<tr><td>gfi  </td><td> 0.9497794</td><td>0.99244322</td></tr>\n",
       "\t<tr><td>agfi </td><td> 0.7488968</td><td>0.94332417</td></tr>\n",
       "</tbody>\n",
       "</table>\n"
      ],
      "text/latex": [
       "A tibble: 8 × 3\n",
       "\\begin{tabular}{lll}\n",
       " names & A & B\\\\\n",
       " <chr> & <dbl> & <dbl>\\\\\n",
       "\\hline\n",
       "\t chisq & 24.5045262 & 1.99952502\\\\\n",
       "\t df    &  3.0000000 & 2.00000000\\\\\n",
       "\t cfi   &  0.8619822 & 1.00000000\\\\\n",
       "\t tli   &  0.5859465 & 1.00001372\\\\\n",
       "\t rmsea &  0.2035548 & 0.00000000\\\\\n",
       "\t srmr  &  0.1026775 & 0.02775428\\\\\n",
       "\t gfi   &  0.9497794 & 0.99244322\\\\\n",
       "\t agfi  &  0.7488968 & 0.94332417\\\\\n",
       "\\end{tabular}\n"
      ],
      "text/markdown": [
       "\n",
       "A tibble: 8 × 3\n",
       "\n",
       "| names &lt;chr&gt; | A &lt;dbl&gt; | B &lt;dbl&gt; |\n",
       "|---|---|---|\n",
       "| chisq | 24.5045262 | 1.99952502 |\n",
       "| df    |  3.0000000 | 2.00000000 |\n",
       "| cfi   |  0.8619822 | 1.00000000 |\n",
       "| tli   |  0.5859465 | 1.00001372 |\n",
       "| rmsea |  0.2035548 | 0.00000000 |\n",
       "| srmr  |  0.1026775 | 0.02775428 |\n",
       "| gfi   |  0.9497794 | 0.99244322 |\n",
       "| agfi  |  0.7488968 | 0.94332417 |\n",
       "\n"
      ],
      "text/plain": [
       "  names A          B         \n",
       "1 chisq 24.5045262 1.99952502\n",
       "2 df     3.0000000 2.00000000\n",
       "3 cfi    0.8619822 1.00000000\n",
       "4 tli    0.5859465 1.00001372\n",
       "5 rmsea  0.2035548 0.00000000\n",
       "6 srmr   0.1026775 0.02775428\n",
       "7 gfi    0.9497794 0.99244322\n",
       "8 agfi   0.7488968 0.94332417"
      ]
     },
     "metadata": {},
     "output_type": "display_data"
    }
   ],
   "source": [
    "tidy(fitMeasures(Union.A.fit)) %>%\n",
    "                  filter(names %in% c(\"chisq\", \"df\", \"gfi\", \"agfi\", \"cfi\", \"tli\", \"rmsea\", \"srmr\")) %>%\n",
    "                  mutate(x = as.numeric(x)) %>%\n",
    "                  rename(A = x) %>%\n",
    "    left_join(tidy(fitMeasures(Union.B.fit)) %>%\n",
    "                filter(names %in% c(\"chisq\", \"df\", \"gfi\", \"agfi\", \"cfi\", \"tli\", \"rmsea\", \"srmr\")) %>%\n",
    "                mutate(x = as.numeric(x)) %>%\n",
    "                rename(B = x))"
   ]
  },
  {
   "cell_type": "markdown",
   "id": "9780d3e4",
   "metadata": {},
   "source": [
    "<br>\n",
    "\n",
    "* 수정모형은 4보다 큰 수정지수를 가지는 추가경로는 없음"
   ]
  },
  {
   "cell_type": "code",
   "execution_count": 42,
   "id": "9cb8b1ec",
   "metadata": {},
   "outputs": [
    {
     "data": {
      "text/html": [
       "<table class=\"dataframe\">\n",
       "<caption>A lavaan.data.frame: 17 × 8</caption>\n",
       "<thead>\n",
       "\t<tr><th></th><th scope=col>lhs</th><th scope=col>op</th><th scope=col>rhs</th><th scope=col>mi</th><th scope=col>epc</th><th scope=col>sepc.lv</th><th scope=col>sepc.all</th><th scope=col>sepc.nox</th></tr>\n",
       "\t<tr><th></th><th scope=col>&lt;chr&gt;</th><th scope=col>&lt;chr&gt;</th><th scope=col>&lt;chr&gt;</th><th scope=col>&lt;dbl&gt;</th><th scope=col>&lt;dbl&gt;</th><th scope=col>&lt;dbl&gt;</th><th scope=col>&lt;dbl&gt;</th><th scope=col>&lt;dbl&gt;</th></tr>\n",
       "</thead>\n",
       "<tbody>\n",
       "\t<tr><th scope=row>17</th><td>Defer</td><td>~ </td><td>Suppo</td><td>1.851599e+00</td><td>-4.262294e+00</td><td>-4.262294e+00</td><td>-3.285436e+00</td><td>-3.285436e+00</td></tr>\n",
       "\t<tr><th scope=row>19</th><td>Defer</td><td>~ </td><td>Years</td><td>1.851599e+00</td><td> 4.171733e-01</td><td> 4.171733e-01</td><td> 1.093225e-01</td><td> 1.081243e-01</td></tr>\n",
       "\t<tr><th scope=row>26</th><td>Years</td><td>~ </td><td>Defer</td><td>1.716289e+00</td><td> 2.378088e-02</td><td> 2.378088e-02</td><td> 9.074756e-02</td><td> 9.074756e-02</td></tr>\n",
       "\t<tr><th scope=row>22</th><td>Age  </td><td>~ </td><td>Defer</td><td>1.715518e+00</td><td>-8.520504e-01</td><td>-8.520504e-01</td><td>-2.445608e-01</td><td>-2.445608e-01</td></tr>\n",
       "\t<tr><th scope=row>28</th><td>Years</td><td>~ </td><td>Senti</td><td>1.528038e+00</td><td>-3.529295e-02</td><td>-3.529295e-02</td><td>-1.857331e-01</td><td>-1.857331e-01</td></tr>\n",
       "\t<tr><th scope=row>27</th><td>Years</td><td>~ </td><td>Suppo</td><td>1.286490e+00</td><td>-6.843119e-02</td><td>-6.843119e-02</td><td>-2.012847e-01</td><td>-2.012847e-01</td></tr>\n",
       "\t<tr><th scope=row>23</th><td>Age  </td><td>~ </td><td>Suppo</td><td>1.195809e+00</td><td> 2.280038e+00</td><td> 2.280038e+00</td><td> 5.044445e-01</td><td> 5.044445e-01</td></tr>\n",
       "\t<tr><th scope=row>18</th><td>Defer</td><td>~ </td><td>Senti</td><td>1.189929e+00</td><td> 3.884229e-01</td><td> 3.884229e-01</td><td> 5.356722e-01</td><td> 5.356722e-01</td></tr>\n",
       "\t<tr><th scope=row>24</th><td>Age  </td><td>~ </td><td>Senti</td><td>3.560453e-01</td><td> 1.471588e-01</td><td> 1.471588e-01</td><td> 5.825083e-02</td><td> 5.825083e-02</td></tr>\n",
       "\t<tr><th scope=row>20</th><td>Suppo</td><td>~ </td><td>Senti</td><td>1.359458e-01</td><td>-7.127817e-02</td><td>-7.127817e-02</td><td>-1.275268e-01</td><td>-1.275268e-01</td></tr>\n",
       "\t<tr><th scope=row>16</th><td>Suppo</td><td>~~</td><td>Senti</td><td>1.359458e-01</td><td>-1.039378e+00</td><td>-1.039378e+00</td><td>-1.034165e-01</td><td>-1.034165e-01</td></tr>\n",
       "\t<tr><th scope=row>21</th><td>Senti</td><td>~ </td><td>Age  </td><td>1.359458e-01</td><td> 9.054726e-03</td><td> 9.054726e-03</td><td> 2.287491e-02</td><td> 1.701718e-03</td></tr>\n",
       "\t<tr><th scope=row>15</th><td>Defer</td><td>~~</td><td>Senti</td><td>1.359458e-01</td><td> 2.352481e+00</td><td> 2.352481e+00</td><td> 1.627054e-01</td><td> 1.627054e-01</td></tr>\n",
       "\t<tr><th scope=row>25</th><td>Age  </td><td>~ </td><td>Years</td><td>1.017890e-31</td><td> 1.017890e-31</td><td> 1.017890e-31</td><td> 7.656234e-33</td><td> 7.572320e-33</td></tr>\n",
       "\t<tr><th scope=row>29</th><td>Years</td><td>~ </td><td>Age  </td><td>4.790376e-32</td><td>-4.988193e-18</td><td>-4.988193e-18</td><td>-6.631759e-17</td><td>-4.933522e-18</td></tr>\n",
       "\t<tr><th scope=row>13</th><td>Years</td><td>~~</td><td>Years</td><td>1.979674e-32</td><td> 1.979674e-32</td><td> 0.000000e+00</td><td> 0.000000e+00</td><td> 0.000000e+00</td></tr>\n",
       "\t<tr><th scope=row>12</th><td>Age  </td><td>~~</td><td>Years</td><td>1.209923e-33</td><td> 1.209923e-33</td><td> 1.209923e-33</td><td>           NA</td><td> 1.209923e-33</td></tr>\n",
       "</tbody>\n",
       "</table>\n"
      ],
      "text/latex": [
       "A lavaan.data.frame: 17 × 8\n",
       "\\begin{tabular}{r|llllllll}\n",
       "  & lhs & op & rhs & mi & epc & sepc.lv & sepc.all & sepc.nox\\\\\n",
       "  & <chr> & <chr> & <chr> & <dbl> & <dbl> & <dbl> & <dbl> & <dbl>\\\\\n",
       "\\hline\n",
       "\t17 & Defer & \\textasciitilde{}  & Suppo & 1.851599e+00 & -4.262294e+00 & -4.262294e+00 & -3.285436e+00 & -3.285436e+00\\\\\n",
       "\t19 & Defer & \\textasciitilde{}  & Years & 1.851599e+00 &  4.171733e-01 &  4.171733e-01 &  1.093225e-01 &  1.081243e-01\\\\\n",
       "\t26 & Years & \\textasciitilde{}  & Defer & 1.716289e+00 &  2.378088e-02 &  2.378088e-02 &  9.074756e-02 &  9.074756e-02\\\\\n",
       "\t22 & Age   & \\textasciitilde{}  & Defer & 1.715518e+00 & -8.520504e-01 & -8.520504e-01 & -2.445608e-01 & -2.445608e-01\\\\\n",
       "\t28 & Years & \\textasciitilde{}  & Senti & 1.528038e+00 & -3.529295e-02 & -3.529295e-02 & -1.857331e-01 & -1.857331e-01\\\\\n",
       "\t27 & Years & \\textasciitilde{}  & Suppo & 1.286490e+00 & -6.843119e-02 & -6.843119e-02 & -2.012847e-01 & -2.012847e-01\\\\\n",
       "\t23 & Age   & \\textasciitilde{}  & Suppo & 1.195809e+00 &  2.280038e+00 &  2.280038e+00 &  5.044445e-01 &  5.044445e-01\\\\\n",
       "\t18 & Defer & \\textasciitilde{}  & Senti & 1.189929e+00 &  3.884229e-01 &  3.884229e-01 &  5.356722e-01 &  5.356722e-01\\\\\n",
       "\t24 & Age   & \\textasciitilde{}  & Senti & 3.560453e-01 &  1.471588e-01 &  1.471588e-01 &  5.825083e-02 &  5.825083e-02\\\\\n",
       "\t20 & Suppo & \\textasciitilde{}  & Senti & 1.359458e-01 & -7.127817e-02 & -7.127817e-02 & -1.275268e-01 & -1.275268e-01\\\\\n",
       "\t16 & Suppo & \\textasciitilde{}\\textasciitilde{} & Senti & 1.359458e-01 & -1.039378e+00 & -1.039378e+00 & -1.034165e-01 & -1.034165e-01\\\\\n",
       "\t21 & Senti & \\textasciitilde{}  & Age   & 1.359458e-01 &  9.054726e-03 &  9.054726e-03 &  2.287491e-02 &  1.701718e-03\\\\\n",
       "\t15 & Defer & \\textasciitilde{}\\textasciitilde{} & Senti & 1.359458e-01 &  2.352481e+00 &  2.352481e+00 &  1.627054e-01 &  1.627054e-01\\\\\n",
       "\t25 & Age   & \\textasciitilde{}  & Years & 1.017890e-31 &  1.017890e-31 &  1.017890e-31 &  7.656234e-33 &  7.572320e-33\\\\\n",
       "\t29 & Years & \\textasciitilde{}  & Age   & 4.790376e-32 & -4.988193e-18 & -4.988193e-18 & -6.631759e-17 & -4.933522e-18\\\\\n",
       "\t13 & Years & \\textasciitilde{}\\textasciitilde{} & Years & 1.979674e-32 &  1.979674e-32 &  0.000000e+00 &  0.000000e+00 &  0.000000e+00\\\\\n",
       "\t12 & Age   & \\textasciitilde{}\\textasciitilde{} & Years & 1.209923e-33 &  1.209923e-33 &  1.209923e-33 &            NA &  1.209923e-33\\\\\n",
       "\\end{tabular}\n"
      ],
      "text/markdown": [
       "\n",
       "A lavaan.data.frame: 17 × 8\n",
       "\n",
       "| <!--/--> | lhs &lt;chr&gt; | op &lt;chr&gt; | rhs &lt;chr&gt; | mi &lt;dbl&gt; | epc &lt;dbl&gt; | sepc.lv &lt;dbl&gt; | sepc.all &lt;dbl&gt; | sepc.nox &lt;dbl&gt; |\n",
       "|---|---|---|---|---|---|---|---|---|\n",
       "| 17 | Defer | ~  | Suppo | 1.851599e+00 | -4.262294e+00 | -4.262294e+00 | -3.285436e+00 | -3.285436e+00 |\n",
       "| 19 | Defer | ~  | Years | 1.851599e+00 |  4.171733e-01 |  4.171733e-01 |  1.093225e-01 |  1.081243e-01 |\n",
       "| 26 | Years | ~  | Defer | 1.716289e+00 |  2.378088e-02 |  2.378088e-02 |  9.074756e-02 |  9.074756e-02 |\n",
       "| 22 | Age   | ~  | Defer | 1.715518e+00 | -8.520504e-01 | -8.520504e-01 | -2.445608e-01 | -2.445608e-01 |\n",
       "| 28 | Years | ~  | Senti | 1.528038e+00 | -3.529295e-02 | -3.529295e-02 | -1.857331e-01 | -1.857331e-01 |\n",
       "| 27 | Years | ~  | Suppo | 1.286490e+00 | -6.843119e-02 | -6.843119e-02 | -2.012847e-01 | -2.012847e-01 |\n",
       "| 23 | Age   | ~  | Suppo | 1.195809e+00 |  2.280038e+00 |  2.280038e+00 |  5.044445e-01 |  5.044445e-01 |\n",
       "| 18 | Defer | ~  | Senti | 1.189929e+00 |  3.884229e-01 |  3.884229e-01 |  5.356722e-01 |  5.356722e-01 |\n",
       "| 24 | Age   | ~  | Senti | 3.560453e-01 |  1.471588e-01 |  1.471588e-01 |  5.825083e-02 |  5.825083e-02 |\n",
       "| 20 | Suppo | ~  | Senti | 1.359458e-01 | -7.127817e-02 | -7.127817e-02 | -1.275268e-01 | -1.275268e-01 |\n",
       "| 16 | Suppo | ~~ | Senti | 1.359458e-01 | -1.039378e+00 | -1.039378e+00 | -1.034165e-01 | -1.034165e-01 |\n",
       "| 21 | Senti | ~  | Age   | 1.359458e-01 |  9.054726e-03 |  9.054726e-03 |  2.287491e-02 |  1.701718e-03 |\n",
       "| 15 | Defer | ~~ | Senti | 1.359458e-01 |  2.352481e+00 |  2.352481e+00 |  1.627054e-01 |  1.627054e-01 |\n",
       "| 25 | Age   | ~  | Years | 1.017890e-31 |  1.017890e-31 |  1.017890e-31 |  7.656234e-33 |  7.572320e-33 |\n",
       "| 29 | Years | ~  | Age   | 4.790376e-32 | -4.988193e-18 | -4.988193e-18 | -6.631759e-17 | -4.933522e-18 |\n",
       "| 13 | Years | ~~ | Years | 1.979674e-32 |  1.979674e-32 |  0.000000e+00 |  0.000000e+00 |  0.000000e+00 |\n",
       "| 12 | Age   | ~~ | Years | 1.209923e-33 |  1.209923e-33 |  1.209923e-33 |            NA |  1.209923e-33 |\n",
       "\n"
      ],
      "text/plain": [
       "   lhs   op rhs   mi           epc           sepc.lv       sepc.all     \n",
       "17 Defer ~  Suppo 1.851599e+00 -4.262294e+00 -4.262294e+00 -3.285436e+00\n",
       "19 Defer ~  Years 1.851599e+00  4.171733e-01  4.171733e-01  1.093225e-01\n",
       "26 Years ~  Defer 1.716289e+00  2.378088e-02  2.378088e-02  9.074756e-02\n",
       "22 Age   ~  Defer 1.715518e+00 -8.520504e-01 -8.520504e-01 -2.445608e-01\n",
       "28 Years ~  Senti 1.528038e+00 -3.529295e-02 -3.529295e-02 -1.857331e-01\n",
       "27 Years ~  Suppo 1.286490e+00 -6.843119e-02 -6.843119e-02 -2.012847e-01\n",
       "23 Age   ~  Suppo 1.195809e+00  2.280038e+00  2.280038e+00  5.044445e-01\n",
       "18 Defer ~  Senti 1.189929e+00  3.884229e-01  3.884229e-01  5.356722e-01\n",
       "24 Age   ~  Senti 3.560453e-01  1.471588e-01  1.471588e-01  5.825083e-02\n",
       "20 Suppo ~  Senti 1.359458e-01 -7.127817e-02 -7.127817e-02 -1.275268e-01\n",
       "16 Suppo ~~ Senti 1.359458e-01 -1.039378e+00 -1.039378e+00 -1.034165e-01\n",
       "21 Senti ~  Age   1.359458e-01  9.054726e-03  9.054726e-03  2.287491e-02\n",
       "15 Defer ~~ Senti 1.359458e-01  2.352481e+00  2.352481e+00  1.627054e-01\n",
       "25 Age   ~  Years 1.017890e-31  1.017890e-31  1.017890e-31  7.656234e-33\n",
       "29 Years ~  Age   4.790376e-32 -4.988193e-18 -4.988193e-18 -6.631759e-17\n",
       "13 Years ~~ Years 1.979674e-32  1.979674e-32  0.000000e+00  0.000000e+00\n",
       "12 Age   ~~ Years 1.209923e-33  1.209923e-33  1.209923e-33            NA\n",
       "   sepc.nox     \n",
       "17 -3.285436e+00\n",
       "19  1.081243e-01\n",
       "26  9.074756e-02\n",
       "22 -2.445608e-01\n",
       "28 -1.857331e-01\n",
       "27 -2.012847e-01\n",
       "23  5.044445e-01\n",
       "18  5.356722e-01\n",
       "24  5.825083e-02\n",
       "20 -1.275268e-01\n",
       "16 -1.034165e-01\n",
       "21  1.701718e-03\n",
       "15  1.627054e-01\n",
       "25  7.572320e-33\n",
       "29 -4.933522e-18\n",
       "13  0.000000e+00\n",
       "12  1.209923e-33"
      ]
     },
     "metadata": {},
     "output_type": "display_data"
    }
   ],
   "source": [
    "modificationindices(Union.B.fit, sort = TRUE)"
   ]
  },
  {
   "cell_type": "markdown",
   "id": "2b283858",
   "metadata": {},
   "source": [
    "<br>\n",
    "\n",
    "## 04.05. 개별 모수들에 대한 검정\n",
    "- 적합도가 만족스러운 것으로 판정 시, 개별 모수에 대한 추론을 진행\n",
    "- 수정모형의 회귀계수 "
   ]
  },
  {
   "cell_type": "code",
   "execution_count": 46,
   "id": "32494935",
   "metadata": {},
   "outputs": [
    {
     "name": "stdout",
     "output_type": "stream",
     "text": [
      "lavaan 0.6.16 ended normally after 1 iteration\n",
      "\n",
      "  Estimator                                         ML\n",
      "  Optimization method                           NLMINB\n",
      "  Number of model parameters                        10\n",
      "\n",
      "  Number of observations                           173\n",
      "\n",
      "Model Test User Model:\n",
      "                                                      \n",
      "  Test statistic                                 2.000\n",
      "  Degrees of freedom                                 2\n",
      "  P-value (Chi-square)                           0.368\n",
      "\n",
      "Model Test Baseline Model:\n",
      "\n",
      "  Test statistic                               164.810\n",
      "  Degrees of freedom                                 9\n",
      "  P-value                                        0.000\n",
      "\n",
      "User Model versus Baseline Model:\n",
      "\n",
      "  Comparative Fit Index (CFI)                    1.000\n",
      "  Tucker-Lewis Index (TLI)                       1.000\n",
      "\n",
      "Loglikelihood and Information Criteria:\n",
      "\n",
      "  Loglikelihood user model (H0)              -1365.977\n",
      "  Loglikelihood unrestricted model (H1)      -1364.977\n",
      "                                                      \n",
      "  Akaike (AIC)                                2751.954\n",
      "  Bayesian (BIC)                              2783.487\n",
      "  Sample-size adjusted Bayesian (SABIC)       2751.821\n",
      "\n",
      "Root Mean Square Error of Approximation:\n",
      "\n",
      "  RMSEA                                          0.000\n",
      "  90 Percent confidence interval - lower         0.000\n",
      "  90 Percent confidence interval - upper         0.150\n",
      "  P-value H_0: RMSEA <= 0.050                    0.511\n",
      "  P-value H_0: RMSEA >= 0.080                    0.323\n",
      "\n",
      "Standardized Root Mean Square Residual:\n",
      "\n",
      "  SRMR                                           0.028\n",
      "\n",
      "Parameter Estimates:\n",
      "\n",
      "  Standard errors                             Standard\n",
      "  Information                                 Expected\n",
      "  Information saturated (h1) model          Structured\n",
      "\n",
      "Regressions:\n",
      "                   Estimate  Std.Err  z-value  P(>|z|)   Std.lv  Std.all\n",
      "  Defer ~                                                               \n",
      "    Age              -0.055    0.021   -2.577    0.010   -0.055   -0.192\n",
      "  Suppo ~                                                               \n",
      "    Years            -0.098    0.213   -0.459    0.646   -0.098   -0.033\n",
      "    Age               0.060    0.016    3.704    0.000    0.060    0.273\n",
      "    Defer            -0.260    0.053   -4.929    0.000   -0.260   -0.338\n",
      "  Senti ~                                                               \n",
      "    Years             0.604    0.289    2.095    0.036    0.604    0.115\n",
      "    Defer            -0.227    0.082   -2.776    0.006   -0.227   -0.164\n",
      "    Suppo             1.064    0.106   10.020    0.000    1.064    0.595\n",
      "\n",
      "Variances:\n",
      "                   Estimate  Std.Err  z-value  P(>|z|)   Std.lv  Std.all\n",
      "   .Defer            14.336    1.541    9.301    0.000   14.336    0.963\n",
      "   .Suppo             6.927    0.745    9.301    0.000    6.927    0.783\n",
      "   .Senti            14.582    1.568    9.301    0.000   14.582    0.515\n",
      "\n",
      "R-Square:\n",
      "                   Estimate\n",
      "    Defer             0.037\n",
      "    Suppo             0.217\n",
      "    Senti             0.485\n",
      "\n"
     ]
    }
   ],
   "source": [
    "summary(Union.B.fit, fit.measures=TRUE, rsquare=TRUE, standardized=TRUE) %>% print"
   ]
  },
  {
   "cell_type": "markdown",
   "id": "f2033e42",
   "metadata": {},
   "source": [
    "<br>\n",
    "\n",
    "#### **회귀계수의 추정과 함께, 개별 회귀계수에 대한 검정 $H_0:\\beta_{ij}=0$**\n",
    "- $z-값$사용\n",
    "- 붓스트랩\n",
    "\n",
    "<br>\n",
    "\n",
    "**회귀계수 (Regression Weight)**\n",
    "\n",
    "| 내생변수 | 설명변수 | 추정치 | 표준화추정치 | p-값 | SMC$R^2$ |\n",
    "| - | - | - | - | - | - |\n",
    "| Defer | Age | -0.055 | -0.192 | 0.010 | 0.037 |\n",
    "| |\n",
    "| Suppo | Years | -0.098 | -0.033 | 0.646 | 0.217 |\n",
    "|  | Age | 0.060 | -0.273 | < .001 |  |\n",
    "|  | Defer | -0.260 | -0.338 | < .001 |  |\n",
    "| |\n",
    "| Senti | Years | 0.604 | 0.115 | 0.036 | 0.485 |\n",
    "| | Defer | -0.227 | -0.164 | 0.006 | |\n",
    "| | Suppo | 1.064 | 0.595 | < .001| |"
   ]
  },
  {
   "cell_type": "markdown",
   "id": "1be78e41",
   "metadata": {},
   "source": [
    "<br>\n",
    "\n",
    "### Z-값\n",
    "$$z-값 = {{추정치(Estimate)}\\over{표준오차(Standard\\;Error)}}$$\n",
    "\n",
    "- 표본크기가 충분히 크다는 조건하에서 z-값은 근사적으로 표준정규분포를 따름\n",
    "\n",
    "    $\\rightarrow$ '해당 모수가 0과 같다' 라는 가설에 대한 검정 수행\n",
    "    \n",
    "- 위의 표에서 $Suppo \\sim Years$에 대응되는 회귀계수를 제외한 모든 계수가 통계적으로 유의"
   ]
  },
  {
   "cell_type": "markdown",
   "id": "eabff758",
   "metadata": {},
   "source": [
    "<br>\n",
    "\n",
    "## 04.06 붓스트랩 방법\n",
    "\n",
    "- 재표본(resampling)기법에 기초한 비모수적 방법 중 하나\n",
    "    - **분포에 대한 가정이나 표본크기 문제에 큰 영향을 받지 않고 사용**\n",
    "- **`sem()`의 `se`매개변수를 `\"bootstrap\"`으로 설정, `\"bootstrap\"`매개변수에 리샘플링 횟수 지정**\n",
    "    - z-값을 이용한 방법의 표준오차 (p-값)과 붓스트랩 방법의 표준오차 (p-값)은 다르며, 두 결과 중 어느 것은 선택할지에 대해서는 데이터의 분포 및 표본크기 등을 종합적으로 고려하여 결정\n",
    "    - **다만, z-값을 이용하는 방법이 통계량의 정규분포성과 큰 표본크기를 요구한다는 점을 고려할 때, 일반적으로는 붓스트랩 방법의 표준오차(p-값)이 더 선호될 수 있음**"
   ]
  },
  {
   "cell_type": "code",
   "execution_count": 47,
   "id": "c2eae3a7",
   "metadata": {},
   "outputs": [],
   "source": [
    "Union.B.fit <- sem(Union.B.fit, data = Union, fixed.x = FALSE, \n",
    "                   se = \"bootstrap\", bootstrap = 1000)"
   ]
  },
  {
   "cell_type": "code",
   "execution_count": 52,
   "id": "6bf9e788",
   "metadata": {},
   "outputs": [
    {
     "name": "stdout",
     "output_type": "stream",
     "text": [
      "lavaan 0.6.16 ended normally after 1 iteration\n",
      "\n",
      "  Estimator                                         ML\n",
      "  Optimization method                           NLMINB\n",
      "  Number of model parameters                        10\n",
      "\n",
      "  Number of observations                           173\n",
      "\n",
      "Model Test User Model:\n",
      "                                                      \n",
      "  Test statistic                                 2.000\n",
      "  Degrees of freedom                                 2\n",
      "  P-value (Chi-square)                           0.368\n",
      "\n",
      "Model Test Baseline Model:\n",
      "\n",
      "  Test statistic                               164.810\n",
      "  Degrees of freedom                                 9\n",
      "  P-value                                        0.000\n",
      "\n",
      "User Model versus Baseline Model:\n",
      "\n",
      "  Comparative Fit Index (CFI)                    1.000\n",
      "  Tucker-Lewis Index (TLI)                       1.000\n",
      "\n",
      "Loglikelihood and Information Criteria:\n",
      "\n",
      "  Loglikelihood user model (H0)              -2295.558\n",
      "  Loglikelihood unrestricted model (H1)      -2294.558\n",
      "                                                      \n",
      "  Akaike (AIC)                                4611.116\n",
      "  Bayesian (BIC)                              4642.649\n",
      "  Sample-size adjusted Bayesian (SABIC)       4610.984\n",
      "\n",
      "Root Mean Square Error of Approximation:\n",
      "\n",
      "  RMSEA                                          0.000\n",
      "  90 Percent confidence interval - lower         0.000\n",
      "  90 Percent confidence interval - upper         0.150\n",
      "  P-value H_0: RMSEA <= 0.050                    0.511\n",
      "  P-value H_0: RMSEA >= 0.080                    0.323\n",
      "\n",
      "Standardized Root Mean Square Residual:\n",
      "\n",
      "  SRMR                                           0.028\n",
      "\n",
      "Parameter Estimates:\n",
      "\n",
      "  Standard errors                            Bootstrap\n",
      "  Number of requested bootstrap draws             1000\n",
      "  Number of successful bootstrap draws            1000\n",
      "\n",
      "Regressions:\n",
      "                   Estimate  Std.Err  z-value  P(>|z|)   Std.lv  Std.all\n",
      "  Defer ~                                                               \n",
      "    Age              -0.055    0.021   -2.650    0.008   -0.055   -0.192\n",
      "  Suppo ~                                                               \n",
      "    Years            -0.098    0.212   -0.462    0.644   -0.098   -0.033\n",
      "    Age               0.060    0.017    3.639    0.000    0.060    0.273\n",
      "    Defer            -0.260    0.058   -4.463    0.000   -0.260   -0.338\n",
      "  Senti ~                                                               \n",
      "    Years             0.604    0.290    2.082    0.037    0.604    0.115\n",
      "    Defer            -0.227    0.081   -2.800    0.005   -0.227   -0.164\n",
      "    Suppo             1.064    0.092   11.583    0.000    1.064    0.595\n",
      "\n",
      "Variances:\n",
      "                   Estimate  Std.Err  z-value  P(>|z|)   Std.lv  Std.all\n",
      "   .Defer            14.336    1.447    9.910    0.000   14.336    0.963\n",
      "   .Suppo             6.927    0.711    9.742    0.000    6.927    0.783\n",
      "   .Senti            14.582    1.331   10.958    0.000   14.582    0.515\n",
      "\n",
      "R-Square:\n",
      "                   Estimate\n",
      "    Defer             0.037\n",
      "    Suppo             0.217\n",
      "    Senti             0.485\n",
      "\n"
     ]
    }
   ],
   "source": [
    "print(summary(Union.B.fit, fit.measures = TRUE, rsquare = TRUE, standardized = TRUE))"
   ]
  },
  {
   "cell_type": "markdown",
   "id": "dbc6ce41",
   "metadata": {},
   "source": [
    "<br>\n",
    "\n",
    "## 04.07. 간명한 모형 구축"
   ]
  },
  {
   "cell_type": "code",
   "execution_count": 62,
   "id": "b0a5284b",
   "metadata": {},
   "outputs": [],
   "source": [
    "Union.C <- '\n",
    "    # regression\n",
    "    Defer ~ Age\n",
    "    Suppo ~ Age + Defer\n",
    "    Senti ~ Years + Defer + Suppo\n",
    "'"
   ]
  },
  {
   "cell_type": "code",
   "execution_count": 63,
   "id": "aa99292d",
   "metadata": {},
   "outputs": [
    {
     "data": {
      "image/png": "[encoded data removed]",
      "text/plain": [
       "plot without title"
      ]
     },
     "metadata": {
      "image/png": {
       "height": 420,
       "width": 420
      }
     },
     "output_type": "display_data"
    }
   ],
   "source": [
    "Union.C.fit <- sem(Union.C, data = Union, fixed.x=TRUE)\n",
    "semPaths(Union.C.fit, whatLabels = \"std\", style = \"lisrel\", nCharNodes = 0, rotation = 2)"
   ]
  },
  {
   "cell_type": "markdown",
   "id": "63be9bec",
   "metadata": {},
   "source": [
    "<br>\n",
    "\n",
    "- 초기모형 (Union.A.fit)과 비교해서 모형의 적합도 지수가 향상"
   ]
  },
  {
   "cell_type": "code",
   "execution_count": 64,
   "id": "d288a543",
   "metadata": {},
   "outputs": [
    {
     "name": "stderr",
     "output_type": "stream",
     "text": [
      "Warning message:\n",
      "\"'tidy.numeric' is deprecated.\n",
      "See help(\"Deprecated\")\"\n"
     ]
    },
    {
     "data": {
      "text/html": [
       "<table class=\"dataframe\">\n",
       "<caption>A tibble: 8 × 2</caption>\n",
       "<thead>\n",
       "\t<tr><th scope=col>names</th><th scope=col>x</th></tr>\n",
       "\t<tr><th scope=col>&lt;chr&gt;</th><th scope=col>&lt;lvn.vctr&gt;</th></tr>\n",
       "</thead>\n",
       "<tbody>\n",
       "\t<tr><td>chisq</td><td>2.20807302</td></tr>\n",
       "\t<tr><td>df   </td><td>3.00000000</td></tr>\n",
       "\t<tr><td>cfi  </td><td>1.00000000</td></tr>\n",
       "\t<tr><td>tli  </td><td>1.01524796</td></tr>\n",
       "\t<tr><td>rmsea</td><td>0.00000000</td></tr>\n",
       "\t<tr><td>srmr </td><td>0.03250038</td></tr>\n",
       "\t<tr><td>gfi  </td><td>0.99166959</td></tr>\n",
       "\t<tr><td>agfi </td><td>0.95834796</td></tr>\n",
       "</tbody>\n",
       "</table>\n"
      ],
      "text/latex": [
       "A tibble: 8 × 2\n",
       "\\begin{tabular}{ll}\n",
       " names & x\\\\\n",
       " <chr> & <lvn.vctr>\\\\\n",
       "\\hline\n",
       "\t chisq & 2.20807302\\\\\n",
       "\t df    & 3.00000000\\\\\n",
       "\t cfi   & 1.00000000\\\\\n",
       "\t tli   & 1.01524796\\\\\n",
       "\t rmsea & 0.00000000\\\\\n",
       "\t srmr  & 0.03250038\\\\\n",
       "\t gfi   & 0.99166959\\\\\n",
       "\t agfi  & 0.95834796\\\\\n",
       "\\end{tabular}\n"
      ],
      "text/markdown": [
       "\n",
       "A tibble: 8 × 2\n",
       "\n",
       "| names &lt;chr&gt; | x &lt;lvn.vctr&gt; |\n",
       "|---|---|\n",
       "| chisq | 2.20807302 |\n",
       "| df    | 3.00000000 |\n",
       "| cfi   | 1.00000000 |\n",
       "| tli   | 1.01524796 |\n",
       "| rmsea | 0.00000000 |\n",
       "| srmr  | 0.03250038 |\n",
       "| gfi   | 0.99166959 |\n",
       "| agfi  | 0.95834796 |\n",
       "\n"
      ],
      "text/plain": [
       "  names x         \n",
       "1 chisq 2.20807302\n",
       "2 df    3.00000000\n",
       "3 cfi   1.00000000\n",
       "4 tli   1.01524796\n",
       "5 rmsea 0.00000000\n",
       "6 srmr  0.03250038\n",
       "7 gfi   0.99166959\n",
       "8 agfi  0.95834796"
      ]
     },
     "metadata": {},
     "output_type": "display_data"
    }
   ],
   "source": [
    "tidy(fitMeasures(Union.C.fit)) %>%\n",
    "    filter(names %in% c(\"chisq\", \"df\", \"gfi\", \"agfi\", \"cfi\", \"tli\", \"rmsea\", \"srmr\"))"
   ]
  },
  {
   "cell_type": "markdown",
   "id": "0202a3e9",
   "metadata": {},
   "source": [
    "<br>\n",
    "\n",
    "- 모든 수정지수가 4가 넘지 않음"
   ]
  },
  {
   "cell_type": "code",
   "execution_count": 65,
   "id": "c4657607",
   "metadata": {},
   "outputs": [
    {
     "data": {
      "text/html": [
       "<table class=\"dataframe\">\n",
       "<caption>A lavaan.data.frame: 17 × 8</caption>\n",
       "<thead>\n",
       "\t<tr><th></th><th scope=col>lhs</th><th scope=col>op</th><th scope=col>rhs</th><th scope=col>mi</th><th scope=col>epc</th><th scope=col>sepc.lv</th><th scope=col>sepc.all</th><th scope=col>sepc.nox</th></tr>\n",
       "\t<tr><th></th><th scope=col>&lt;chr&gt;</th><th scope=col>&lt;chr&gt;</th><th scope=col>&lt;chr&gt;</th><th scope=col>&lt;dbl&gt;</th><th scope=col>&lt;dbl&gt;</th><th scope=col>&lt;dbl&gt;</th><th scope=col>&lt;dbl&gt;</th><th scope=col>&lt;dbl&gt;</th></tr>\n",
       "</thead>\n",
       "<tbody>\n",
       "\t<tr><th scope=row>18</th><td>Defer</td><td>~ </td><td>Years</td><td>1.851599e+00</td><td> 4.171733e-01</td><td> 4.171733e-01</td><td> 1.093225e-01</td><td> 1.081243e-01</td></tr>\n",
       "\t<tr><th scope=row>26</th><td>Years</td><td>~ </td><td>Defer</td><td>1.711044e+00</td><td> 2.370820e-02</td><td> 2.370820e-02</td><td> 9.047024e-02</td><td> 9.047024e-02</td></tr>\n",
       "\t<tr><th scope=row>22</th><td>Age  </td><td>~ </td><td>Defer</td><td>1.710296e+00</td><td>-8.494566e-01</td><td>-8.494566e-01</td><td>-2.438164e-01</td><td>-2.438164e-01</td></tr>\n",
       "\t<tr><th scope=row>17</th><td>Defer</td><td>~ </td><td>Senti</td><td>1.358895e+00</td><td> 3.854314e-01</td><td> 3.854314e-01</td><td> 5.329490e-01</td><td> 5.329490e-01</td></tr>\n",
       "\t<tr><th scope=row>28</th><td>Years</td><td>~ </td><td>Senti</td><td>1.147475e+00</td><td>-1.871604e-02</td><td>-1.871604e-02</td><td>-9.875514e-02</td><td>-9.875514e-02</td></tr>\n",
       "\t<tr><th scope=row>27</th><td>Years</td><td>~ </td><td>Suppo</td><td>6.551748e-01</td><td>-1.833570e-02</td><td>-1.833570e-02</td><td>-5.399011e-02</td><td>-5.399011e-02</td></tr>\n",
       "\t<tr><th scope=row>23</th><td>Age  </td><td>~ </td><td>Suppo</td><td>6.544131e-01</td><td> 6.564853e-01</td><td> 6.564853e-01</td><td> 1.453973e-01</td><td> 1.453973e-01</td></tr>\n",
       "\t<tr><th scope=row>24</th><td>Age  </td><td>~ </td><td>Senti</td><td>4.783798e-01</td><td> 1.637161e-01</td><td> 1.637161e-01</td><td> 6.497580e-02</td><td> 6.497580e-02</td></tr>\n",
       "\t<tr><th scope=row>19</th><td>Suppo</td><td>~ </td><td>Senti</td><td>2.967331e-01</td><td>-9.567011e-02</td><td>-9.567011e-02</td><td>-1.714373e-01</td><td>-1.714373e-01</td></tr>\n",
       "\t<tr><th scope=row>20</th><td>Suppo</td><td>~ </td><td>Years</td><td>2.061916e-01</td><td>-9.682777e-02</td><td>-9.682777e-02</td><td>-3.288390e-02</td><td>-3.252348e-02</td></tr>\n",
       "\t<tr><th scope=row>15</th><td>Suppo</td><td>~~</td><td>Senti</td><td>1.350076e-01</td><td>-1.085036e+00</td><td>-1.085036e+00</td><td>-1.078944e-01</td><td>-1.078944e-01</td></tr>\n",
       "\t<tr><th scope=row>14</th><td>Defer</td><td>~~</td><td>Senti</td><td>1.350076e-01</td><td> 2.336247e+00</td><td> 2.336247e+00</td><td> 1.615826e-01</td><td> 1.615826e-01</td></tr>\n",
       "\t<tr><th scope=row>21</th><td>Senti</td><td>~ </td><td>Age  </td><td>1.350076e-01</td><td> 8.992243e-03</td><td> 8.992243e-03</td><td> 2.265728e-02</td><td> 1.685528e-03</td></tr>\n",
       "\t<tr><th scope=row>25</th><td>Age  </td><td>~ </td><td>Years</td><td>5.290283e-32</td><td> 5.290283e-32</td><td> 5.290283e-32</td><td> 3.979179e-33</td><td> 3.935566e-33</td></tr>\n",
       "\t<tr><th scope=row>29</th><td>Years</td><td>~ </td><td>Age  </td><td>2.343575e-32</td><td>-2.169202e-18</td><td>-2.169202e-18</td><td>-2.883935e-17</td><td>-2.145428e-18</td></tr>\n",
       "\t<tr><th scope=row>11</th><td>Age  </td><td>~~</td><td>Years</td><td>1.325010e-32</td><td> 1.325010e-32</td><td> 1.325010e-32</td><td>           NA</td><td> 1.325010e-32</td></tr>\n",
       "\t<tr><th scope=row>12</th><td>Years</td><td>~~</td><td>Years</td><td>5.183489e-33</td><td> 5.183489e-33</td><td> 0.000000e+00</td><td> 0.000000e+00</td><td> 0.000000e+00</td></tr>\n",
       "</tbody>\n",
       "</table>\n"
      ],
      "text/latex": [
       "A lavaan.data.frame: 17 × 8\n",
       "\\begin{tabular}{r|llllllll}\n",
       "  & lhs & op & rhs & mi & epc & sepc.lv & sepc.all & sepc.nox\\\\\n",
       "  & <chr> & <chr> & <chr> & <dbl> & <dbl> & <dbl> & <dbl> & <dbl>\\\\\n",
       "\\hline\n",
       "\t18 & Defer & \\textasciitilde{}  & Years & 1.851599e+00 &  4.171733e-01 &  4.171733e-01 &  1.093225e-01 &  1.081243e-01\\\\\n",
       "\t26 & Years & \\textasciitilde{}  & Defer & 1.711044e+00 &  2.370820e-02 &  2.370820e-02 &  9.047024e-02 &  9.047024e-02\\\\\n",
       "\t22 & Age   & \\textasciitilde{}  & Defer & 1.710296e+00 & -8.494566e-01 & -8.494566e-01 & -2.438164e-01 & -2.438164e-01\\\\\n",
       "\t17 & Defer & \\textasciitilde{}  & Senti & 1.358895e+00 &  3.854314e-01 &  3.854314e-01 &  5.329490e-01 &  5.329490e-01\\\\\n",
       "\t28 & Years & \\textasciitilde{}  & Senti & 1.147475e+00 & -1.871604e-02 & -1.871604e-02 & -9.875514e-02 & -9.875514e-02\\\\\n",
       "\t27 & Years & \\textasciitilde{}  & Suppo & 6.551748e-01 & -1.833570e-02 & -1.833570e-02 & -5.399011e-02 & -5.399011e-02\\\\\n",
       "\t23 & Age   & \\textasciitilde{}  & Suppo & 6.544131e-01 &  6.564853e-01 &  6.564853e-01 &  1.453973e-01 &  1.453973e-01\\\\\n",
       "\t24 & Age   & \\textasciitilde{}  & Senti & 4.783798e-01 &  1.637161e-01 &  1.637161e-01 &  6.497580e-02 &  6.497580e-02\\\\\n",
       "\t19 & Suppo & \\textasciitilde{}  & Senti & 2.967331e-01 & -9.567011e-02 & -9.567011e-02 & -1.714373e-01 & -1.714373e-01\\\\\n",
       "\t20 & Suppo & \\textasciitilde{}  & Years & 2.061916e-01 & -9.682777e-02 & -9.682777e-02 & -3.288390e-02 & -3.252348e-02\\\\\n",
       "\t15 & Suppo & \\textasciitilde{}\\textasciitilde{} & Senti & 1.350076e-01 & -1.085036e+00 & -1.085036e+00 & -1.078944e-01 & -1.078944e-01\\\\\n",
       "\t14 & Defer & \\textasciitilde{}\\textasciitilde{} & Senti & 1.350076e-01 &  2.336247e+00 &  2.336247e+00 &  1.615826e-01 &  1.615826e-01\\\\\n",
       "\t21 & Senti & \\textasciitilde{}  & Age   & 1.350076e-01 &  8.992243e-03 &  8.992243e-03 &  2.265728e-02 &  1.685528e-03\\\\\n",
       "\t25 & Age   & \\textasciitilde{}  & Years & 5.290283e-32 &  5.290283e-32 &  5.290283e-32 &  3.979179e-33 &  3.935566e-33\\\\\n",
       "\t29 & Years & \\textasciitilde{}  & Age   & 2.343575e-32 & -2.169202e-18 & -2.169202e-18 & -2.883935e-17 & -2.145428e-18\\\\\n",
       "\t11 & Age   & \\textasciitilde{}\\textasciitilde{} & Years & 1.325010e-32 &  1.325010e-32 &  1.325010e-32 &            NA &  1.325010e-32\\\\\n",
       "\t12 & Years & \\textasciitilde{}\\textasciitilde{} & Years & 5.183489e-33 &  5.183489e-33 &  0.000000e+00 &  0.000000e+00 &  0.000000e+00\\\\\n",
       "\\end{tabular}\n"
      ],
      "text/markdown": [
       "\n",
       "A lavaan.data.frame: 17 × 8\n",
       "\n",
       "| <!--/--> | lhs &lt;chr&gt; | op &lt;chr&gt; | rhs &lt;chr&gt; | mi &lt;dbl&gt; | epc &lt;dbl&gt; | sepc.lv &lt;dbl&gt; | sepc.all &lt;dbl&gt; | sepc.nox &lt;dbl&gt; |\n",
       "|---|---|---|---|---|---|---|---|---|\n",
       "| 18 | Defer | ~  | Years | 1.851599e+00 |  4.171733e-01 |  4.171733e-01 |  1.093225e-01 |  1.081243e-01 |\n",
       "| 26 | Years | ~  | Defer | 1.711044e+00 |  2.370820e-02 |  2.370820e-02 |  9.047024e-02 |  9.047024e-02 |\n",
       "| 22 | Age   | ~  | Defer | 1.710296e+00 | -8.494566e-01 | -8.494566e-01 | -2.438164e-01 | -2.438164e-01 |\n",
       "| 17 | Defer | ~  | Senti | 1.358895e+00 |  3.854314e-01 |  3.854314e-01 |  5.329490e-01 |  5.329490e-01 |\n",
       "| 28 | Years | ~  | Senti | 1.147475e+00 | -1.871604e-02 | -1.871604e-02 | -9.875514e-02 | -9.875514e-02 |\n",
       "| 27 | Years | ~  | Suppo | 6.551748e-01 | -1.833570e-02 | -1.833570e-02 | -5.399011e-02 | -5.399011e-02 |\n",
       "| 23 | Age   | ~  | Suppo | 6.544131e-01 |  6.564853e-01 |  6.564853e-01 |  1.453973e-01 |  1.453973e-01 |\n",
       "| 24 | Age   | ~  | Senti | 4.783798e-01 |  1.637161e-01 |  1.637161e-01 |  6.497580e-02 |  6.497580e-02 |\n",
       "| 19 | Suppo | ~  | Senti | 2.967331e-01 | -9.567011e-02 | -9.567011e-02 | -1.714373e-01 | -1.714373e-01 |\n",
       "| 20 | Suppo | ~  | Years | 2.061916e-01 | -9.682777e-02 | -9.682777e-02 | -3.288390e-02 | -3.252348e-02 |\n",
       "| 15 | Suppo | ~~ | Senti | 1.350076e-01 | -1.085036e+00 | -1.085036e+00 | -1.078944e-01 | -1.078944e-01 |\n",
       "| 14 | Defer | ~~ | Senti | 1.350076e-01 |  2.336247e+00 |  2.336247e+00 |  1.615826e-01 |  1.615826e-01 |\n",
       "| 21 | Senti | ~  | Age   | 1.350076e-01 |  8.992243e-03 |  8.992243e-03 |  2.265728e-02 |  1.685528e-03 |\n",
       "| 25 | Age   | ~  | Years | 5.290283e-32 |  5.290283e-32 |  5.290283e-32 |  3.979179e-33 |  3.935566e-33 |\n",
       "| 29 | Years | ~  | Age   | 2.343575e-32 | -2.169202e-18 | -2.169202e-18 | -2.883935e-17 | -2.145428e-18 |\n",
       "| 11 | Age   | ~~ | Years | 1.325010e-32 |  1.325010e-32 |  1.325010e-32 |            NA |  1.325010e-32 |\n",
       "| 12 | Years | ~~ | Years | 5.183489e-33 |  5.183489e-33 |  0.000000e+00 |  0.000000e+00 |  0.000000e+00 |\n",
       "\n"
      ],
      "text/plain": [
       "   lhs   op rhs   mi           epc           sepc.lv       sepc.all     \n",
       "18 Defer ~  Years 1.851599e+00  4.171733e-01  4.171733e-01  1.093225e-01\n",
       "26 Years ~  Defer 1.711044e+00  2.370820e-02  2.370820e-02  9.047024e-02\n",
       "22 Age   ~  Defer 1.710296e+00 -8.494566e-01 -8.494566e-01 -2.438164e-01\n",
       "17 Defer ~  Senti 1.358895e+00  3.854314e-01  3.854314e-01  5.329490e-01\n",
       "28 Years ~  Senti 1.147475e+00 -1.871604e-02 -1.871604e-02 -9.875514e-02\n",
       "27 Years ~  Suppo 6.551748e-01 -1.833570e-02 -1.833570e-02 -5.399011e-02\n",
       "23 Age   ~  Suppo 6.544131e-01  6.564853e-01  6.564853e-01  1.453973e-01\n",
       "24 Age   ~  Senti 4.783798e-01  1.637161e-01  1.637161e-01  6.497580e-02\n",
       "19 Suppo ~  Senti 2.967331e-01 -9.567011e-02 -9.567011e-02 -1.714373e-01\n",
       "20 Suppo ~  Years 2.061916e-01 -9.682777e-02 -9.682777e-02 -3.288390e-02\n",
       "15 Suppo ~~ Senti 1.350076e-01 -1.085036e+00 -1.085036e+00 -1.078944e-01\n",
       "14 Defer ~~ Senti 1.350076e-01  2.336247e+00  2.336247e+00  1.615826e-01\n",
       "21 Senti ~  Age   1.350076e-01  8.992243e-03  8.992243e-03  2.265728e-02\n",
       "25 Age   ~  Years 5.290283e-32  5.290283e-32  5.290283e-32  3.979179e-33\n",
       "29 Years ~  Age   2.343575e-32 -2.169202e-18 -2.169202e-18 -2.883935e-17\n",
       "11 Age   ~~ Years 1.325010e-32  1.325010e-32  1.325010e-32            NA\n",
       "12 Years ~~ Years 5.183489e-33  5.183489e-33  0.000000e+00  0.000000e+00\n",
       "   sepc.nox     \n",
       "18  1.081243e-01\n",
       "26  9.047024e-02\n",
       "22 -2.438164e-01\n",
       "17  5.329490e-01\n",
       "28 -9.875514e-02\n",
       "27 -5.399011e-02\n",
       "23  1.453973e-01\n",
       "24  6.497580e-02\n",
       "19 -1.714373e-01\n",
       "20 -3.252348e-02\n",
       "15 -1.078944e-01\n",
       "14  1.615826e-01\n",
       "21  1.685528e-03\n",
       "25  3.935566e-33\n",
       "29 -2.145428e-18\n",
       "11  1.325010e-32\n",
       "12  0.000000e+00"
      ]
     },
     "metadata": {},
     "output_type": "display_data"
    }
   ],
   "source": [
    "modificationindices(Union.C.fit, sort = TRUE)"
   ]
  },
  {
   "cell_type": "markdown",
   "id": "e5c4f750",
   "metadata": {},
   "source": [
    "<br>\n",
    "\n",
    "- 모든 회귀계수가 통계적으로 유의"
   ]
  },
  {
   "cell_type": "code",
   "execution_count": 67,
   "id": "eb3948b3",
   "metadata": {},
   "outputs": [
    {
     "name": "stdout",
     "output_type": "stream",
     "text": [
      "lavaan 0.6.16 ended normally after 1 iteration\n",
      "\n",
      "  Estimator                                         ML\n",
      "  Optimization method                           NLMINB\n",
      "  Number of model parameters                         9\n",
      "\n",
      "  Number of observations                           173\n",
      "\n",
      "Model Test User Model:\n",
      "                                                      \n",
      "  Test statistic                                 2.208\n",
      "  Degrees of freedom                                 3\n",
      "  P-value (Chi-square)                           0.530\n",
      "\n",
      "Model Test Baseline Model:\n",
      "\n",
      "  Test statistic                               164.810\n",
      "  Degrees of freedom                                 9\n",
      "  P-value                                        0.000\n",
      "\n",
      "User Model versus Baseline Model:\n",
      "\n",
      "  Comparative Fit Index (CFI)                    1.000\n",
      "  Tucker-Lewis Index (TLI)                       1.015\n",
      "\n",
      "Loglikelihood and Information Criteria:\n",
      "\n",
      "  Loglikelihood user model (H0)              -1366.081\n",
      "  Loglikelihood unrestricted model (H1)      -1364.977\n",
      "                                                      \n",
      "  Akaike (AIC)                                2750.162\n",
      "  Bayesian (BIC)                              2778.542\n",
      "  Sample-size adjusted Bayesian (SABIC)       2750.043\n",
      "\n",
      "Root Mean Square Error of Approximation:\n",
      "\n",
      "  RMSEA                                          0.000\n",
      "  90 Percent confidence interval - lower         0.000\n",
      "  90 Percent confidence interval - upper         0.114\n",
      "  P-value H_0: RMSEA <= 0.050                    0.687\n",
      "  P-value H_0: RMSEA >= 0.080                    0.162\n",
      "\n",
      "Standardized Root Mean Square Residual:\n",
      "\n",
      "  SRMR                                           0.033\n",
      "\n",
      "Parameter Estimates:\n",
      "\n",
      "  Standard errors                             Standard\n",
      "  Information                                 Expected\n",
      "  Information saturated (h1) model          Structured\n",
      "\n",
      "Regressions:\n",
      "                   Estimate  Std.Err  z-value  P(>|z|)   Std.lv  Std.all\n",
      "  Defer ~                                                               \n",
      "    Age              -0.055    0.021   -2.577    0.010   -0.055   -0.192\n",
      "  Suppo ~                                                               \n",
      "    Age               0.057    0.015    3.787    0.000    0.057    0.260\n",
      "    Defer            -0.263    0.053   -4.973    0.000   -0.263   -0.341\n",
      "  Senti ~                                                               \n",
      "    Years             0.604    0.289    2.089    0.037    0.604    0.115\n",
      "    Defer            -0.227    0.082   -2.773    0.006   -0.227   -0.164\n",
      "    Suppo             1.064    0.106    9.991    0.000    1.064    0.594\n",
      "\n",
      "Variances:\n",
      "                   Estimate  Std.Err  z-value  P(>|z|)   Std.lv  Std.all\n",
      "   .Defer            14.336    1.541    9.301    0.000   14.336    0.963\n",
      "   .Suppo             6.935    0.746    9.301    0.000    6.935    0.782\n",
      "   .Senti            14.582    1.568    9.301    0.000   14.582    0.512\n",
      "\n",
      "R-Square:\n",
      "                   Estimate\n",
      "    Defer             0.037\n",
      "    Suppo             0.218\n",
      "    Senti             0.488\n",
      "\n"
     ]
    }
   ],
   "source": [
    "print(summary(Union.C.fit, fit.measures = TRUE, rsquare = TRUE, standardized = TRUE))"
   ]
  },
  {
   "cell_type": "markdown",
   "id": "c9ec6b37",
   "metadata": {},
   "source": [
    "<br>\n",
    "\n",
    "## 04.08. 내생 오차변수들 간의 연관성\n",
    "- **오차변수는 모형에 포함되어 있는 인과관계로는 설명될 수 없으나, 내생변수의 변이를 발생시키는 원인으로 모형에 도입되는 일종의 외생변수**\n",
    "- 모형구축의 과정에서 내생 (endogenous) 오차변수들 간에 연관성이 상정될 수 있으나, 이는 오차들간의 연관성이라는 단순한 의미를 갖는 것이 아니라 **관련된 설명변수들이 통제된 상황에서 내생변수들 간의 편상관(partial correlation)으로 해석되어야 함**"
   ]
  },
  {
   "cell_type": "markdown",
   "id": "a32938a1",
   "metadata": {},
   "source": [
    "<br>\n",
    "\n",
    "**회귀계수 (Regression Weight)**\n",
    "\n",
    "| 내생변수 | 설명변수 | 추정치 | 표준화추정치 | p-값 | SMC $R^2$ | \n",
    "| - | - | - | - | - | - |\n",
    "| Defer | Age | -0.055 | -0.192 | 0.005 | 0.037 |\n",
    "| Suppo | Age | 0.072 | 0.325 | <.001 | 0.106 | \n",
    "| Senti | Years | 0.604 | 0.115 | 0.037 | 0.488 |\n",
    "| | Defer | -0.227 | -0.164 | 0.006 | |\n",
    "| | Suppo | 1.064 | 0.594 | <.001 | | \n",
    "\n",
    "<br>\n",
    "\n",
    "**편상관 (Partial Correlation)**\n",
    "\n",
    "| 내생변수 | 공분산 | 상관계수 | p-값 | \n",
    "| - | - | - | - |\n",
    "| Defer, Suppo | -3.770 | -0.354 | <.001 |\n",
    "\n",
    "<br>\n",
    "\n",
    "**공분산 (Covariace)**\n",
    "\n",
    "| 외생변수 | 공분산 | 상관계수 | p-값 |\n",
    "| - | - | - | - |\n",
    "| Years, Age | 5.041 | 0.371 | < .001 |\n",
    "\n",
    "<br>\n",
    "\n",
    "- **오차변수 $\\zeta_1,\\; \\zeta_2$간의 상관계수 -0.354는 대응되는 내생변수 (Defer, Suppo) 간의 편상관 (연관성)으로 해석 될 수 있음**\n",
    "- **앞의 Union.C.fit 모형과 비교하였을 때, 경로 '$Suppo\\sim Age$'에 대한 추정치가 조금 다른 것을 제외하고는 나머지는 모두 동일 (내생변수 Suppo에 대한 SMC도 조금 변화)** \n",
    "\n",
    "    **$\\rightarrow$ Union.C.fit과 동치모형 $\\rightarrow$ 동일한 적합도와 자유도**\n",
    "    \n",
    "    **만약, Suppo, Age 사이의 인과관계가 존재하는 것이 이론적으로 타당하다면 Union.C.fit을 채택**\n",
    "    \n",
    "    **두 변수사이에 연관관계가 존재하는 것이 타당하다면 Union.D.fit을 선택**\n"
   ]
  },
  {
   "cell_type": "code",
   "execution_count": 78,
   "id": "00423e98",
   "metadata": {
    "scrolled": false
   },
   "outputs": [
    {
     "name": "stdout",
     "output_type": "stream",
     "text": [
      "lavaan 0.6.16 ended normally after 15 iterations\n",
      "\n",
      "  Estimator                                         ML\n",
      "  Optimization method                           NLMINB\n",
      "  Number of model parameters                         9\n",
      "\n",
      "  Number of observations                           173\n",
      "\n",
      "Model Test User Model:\n",
      "                                                      \n",
      "  Test statistic                                 2.208\n",
      "  Degrees of freedom                                 3\n",
      "  P-value (Chi-square)                           0.530\n",
      "\n",
      "Model Test Baseline Model:\n",
      "\n",
      "  Test statistic                               164.810\n",
      "  Degrees of freedom                                 9\n",
      "  P-value                                        0.000\n",
      "\n",
      "User Model versus Baseline Model:\n",
      "\n",
      "  Comparative Fit Index (CFI)                    1.000\n",
      "  Tucker-Lewis Index (TLI)                       1.015\n",
      "\n",
      "Loglikelihood and Information Criteria:\n",
      "\n",
      "  Loglikelihood user model (H0)              -1366.081\n",
      "  Loglikelihood unrestricted model (H1)      -1364.977\n",
      "                                                      \n",
      "  Akaike (AIC)                                2750.162\n",
      "  Bayesian (BIC)                              2778.542\n",
      "  Sample-size adjusted Bayesian (SABIC)       2750.043\n",
      "\n",
      "Root Mean Square Error of Approximation:\n",
      "\n",
      "  RMSEA                                          0.000\n",
      "  90 Percent confidence interval - lower         0.000\n",
      "  90 Percent confidence interval - upper         0.114\n",
      "  P-value H_0: RMSEA <= 0.050                    0.687\n",
      "  P-value H_0: RMSEA >= 0.080                    0.162\n",
      "\n",
      "Standardized Root Mean Square Residual:\n",
      "\n",
      "  SRMR                                           0.033\n",
      "\n",
      "Parameter Estimates:\n",
      "\n",
      "  Standard errors                             Standard\n",
      "  Information                                 Expected\n",
      "  Information saturated (h1) model          Structured\n",
      "\n",
      "Regressions:\n",
      "                   Estimate  Std.Err  z-value  P(>|z|)   Std.lv  Std.all\n",
      "  Defer ~                                                               \n",
      "    Age              -0.055    0.021   -2.577    0.010   -0.055   -0.192\n",
      "  Suppo ~                                                               \n",
      "    Age               0.072    0.016    4.521    0.000    0.072    0.325\n",
      "  Senti ~                                                               \n",
      "    Years             0.604    0.289    2.089    0.037    0.604    0.115\n",
      "    Defer            -0.227    0.082   -2.773    0.006   -0.227   -0.164\n",
      "    Suppo             1.064    0.106    9.991    0.000    1.064    0.594\n",
      "\n",
      "Covariances:\n",
      "                   Estimate  Std.Err  z-value  P(>|z|)   Std.lv  Std.all\n",
      " .Defer ~~                                                              \n",
      "   .Suppo            -3.770    0.860   -4.386    0.000   -3.770   -0.354\n",
      "\n",
      "Variances:\n",
      "                   Estimate  Std.Err  z-value  P(>|z|)   Std.lv  Std.all\n",
      "   .Defer            14.336    1.541    9.301    0.000   14.336    0.963\n",
      "   .Suppo             7.927    0.852    9.301    0.000    7.927    0.894\n",
      "   .Senti            14.582    1.568    9.301    0.000   14.582    0.512\n",
      "\n",
      "R-Square:\n",
      "                   Estimate\n",
      "    Defer             0.037\n",
      "    Suppo             0.106\n",
      "    Senti             0.488\n",
      "\n"
     ]
    },
    {
     "data": {
      "image/png": "[encoded data removed]",
      "text/plain": [
       "plot without title"
      ]
     },
     "metadata": {
      "image/png": {
       "height": 420,
       "width": 420
      }
     },
     "output_type": "display_data"
    }
   ],
   "source": [
    "Union.D <- '\n",
    "    # regression\n",
    "    Defer ~ Age\n",
    "    Suppo ~ Age \n",
    "    Senti ~ Years + Defer + Suppo\n",
    "\n",
    "    # Error Covariance\n",
    "    Defer ~~ Suppo\n",
    "'\n",
    "Union.D.fit <- sem(Union.D, data = Union, fixed.x=TRUE)\n",
    "semPaths(Union.D.fit, whatLabels = \"std\", style = \"lisrel\", nCharNodes = 0, rotation = 2)\n",
    "print(summary(Union.D.fit, fit.measures = TRUE, rsquare = TRUE, standardized = TRUE))"
   ]
  },
  {
   "cell_type": "code",
   "execution_count": 74,
   "id": "7b274faa",
   "metadata": {},
   "outputs": [
    {
     "name": "stdout",
     "output_type": "stream",
     "text": [
      "                 npar                  fmin                 chisq \n",
      "               10.000                 0.006                 2.208 \n",
      "                   df                pvalue        baseline.chisq \n",
      "                2.000                 0.332               164.810 \n",
      "          baseline.df       baseline.pvalue                   cfi \n",
      "                9.000                 0.000                 0.999 \n",
      "                  tli                  nnfi                   rfi \n",
      "                0.994                 0.994                 0.940 \n",
      "                  nfi                  pnfi                   ifi \n",
      "                0.987                 0.219                 0.999 \n",
      "                  rni                  logl     unrestricted.logl \n",
      "                0.999             -1366.081             -1364.977 \n",
      "                  aic                   bic                ntotal \n",
      "             2752.162              2783.695               173.000 \n",
      "                 bic2                 rmsea        rmsea.ci.lower \n",
      "             2752.030                 0.025                 0.000 \n",
      "       rmsea.ci.upper        rmsea.ci.level          rmsea.pvalue \n",
      "                0.155                 0.900                 0.475 \n",
      "       rmsea.close.h0 rmsea.notclose.pvalue     rmsea.notclose.h0 \n",
      "                0.050                 0.354                 0.080 \n",
      "                  rmr            rmr_nomean                  srmr \n",
      "                0.367                 0.367                 0.033 \n",
      "         srmr_bentler   srmr_bentler_nomean                  crmr \n",
      "                0.033                 0.033                 0.039 \n",
      "          crmr_nomean            srmr_mplus     srmr_mplus_nomean \n",
      "                0.039                 0.032                 0.032 \n",
      "                cn_05                 cn_01                   gfi \n",
      "              470.424               722.620                 0.992 \n",
      "                 agfi                  pgfi                   mfi \n",
      "                0.938                 0.132                 0.999 \n",
      "                 ecvi \n",
      "                0.128 \n"
     ]
    }
   ],
   "source": [
    "print(fitMeasures(Union.D.fit))"
   ]
  },
  {
   "cell_type": "markdown",
   "id": "d1472b9a",
   "metadata": {},
   "source": [
    "<br>\n",
    "\n",
    "## 04.09. 정규분포를 따르지 않는 데이터\n",
    "- 구조방정식모형에 대한 계수들을 추정할 떄 가장 기본이 되는 추정방법은 **최대우도법 (maximum likelihood)**\n",
    "    - 모든 관찰변수들이 정규분포를 따를 때 타당한 방법\n",
    "    \n",
    "        **관찰변수들 중 일부가 정규분포로부터 심하게 이탈되어 있는 경우에는 올바르지 않음**"
   ]
  },
  {
   "cell_type": "code",
   "execution_count": 79,
   "id": "23a5f69a",
   "metadata": {},
   "outputs": [],
   "source": [
    "Customer <- read.csv(paste0(getwd(), \"/Data/Customer.csv\"), header = TRUE)"
   ]
  },
  {
   "cell_type": "code",
   "execution_count": 82,
   "id": "bf768a2b",
   "metadata": {},
   "outputs": [
    {
     "name": "stdout",
     "output_type": "stream",
     "text": [
      "Rows: 900\n",
      "Columns: 7\n",
      "$ Group     \u001b[3m\u001b[90m<int>\u001b[39m\u001b[23m 1, 1, 1, 1, 1, 1, 1, 1, 1, 1, 1, 1, 1, 1, 1, 1, 1, 1, 1, 1, …\n",
      "$ Expect    \u001b[3m\u001b[90m<dbl>\u001b[39m\u001b[23m 85.18519, 92.59259, 77.77778, 70.37037, 77.77778, 81.48148, …\n",
      "$ Quality   \u001b[3m\u001b[90m<dbl>\u001b[39m\u001b[23m 88.88889, 96.29630, 77.77778, 70.37037, 77.77778, 85.18519, …\n",
      "$ Value     \u001b[3m\u001b[90m<dbl>\u001b[39m\u001b[23m 88.88889, 94.44444, 83.33333, 66.66667, 83.33333, 77.77778, …\n",
      "$ Satisfact \u001b[3m\u001b[90m<dbl>\u001b[39m\u001b[23m 96.29630, 100.00000, 70.37037, 70.37037, 81.48148, 77.77778,…\n",
      "$ Complaint \u001b[3m\u001b[90m<int>\u001b[39m\u001b[23m 0, 0, 0, 0, 0, 0, 0, 0, 0, 0, 0, 0, 0, 0, 100, 0, 0, 100, 0,…\n",
      "$ Loyalty   \u001b[3m\u001b[90m<dbl>\u001b[39m\u001b[23m 77.77778, 44.44444, 77.77778, 44.44444, 66.66667, 77.77778, …\n"
     ]
    }
   ],
   "source": [
    "Customer %>% glimpse"
   ]
  },
  {
   "cell_type": "markdown",
   "id": "29bf9920",
   "metadata": {},
   "source": [
    "<br>\n",
    "\n",
    "### 정규성 검토\n",
    "- 데이터에 대한 기술통계량 및 정규성평가 결과"
   ]
  },
  {
   "cell_type": "code",
   "execution_count": 85,
   "id": "8d00b1ba",
   "metadata": {},
   "outputs": [
    {
     "data": {
      "text/html": [
       "<table class=\"dataframe\">\n",
       "<caption>A psych: 5 × 13</caption>\n",
       "<thead>\n",
       "\t<tr><th></th><th scope=col>vars</th><th scope=col>n</th><th scope=col>mean</th><th scope=col>sd</th><th scope=col>median</th><th scope=col>trimmed</th><th scope=col>mad</th><th scope=col>min</th><th scope=col>max</th><th scope=col>range</th><th scope=col>skew</th><th scope=col>kurtosis</th><th scope=col>se</th></tr>\n",
       "\t<tr><th></th><th scope=col>&lt;int&gt;</th><th scope=col>&lt;dbl&gt;</th><th scope=col>&lt;dbl&gt;</th><th scope=col>&lt;dbl&gt;</th><th scope=col>&lt;dbl&gt;</th><th scope=col>&lt;dbl&gt;</th><th scope=col>&lt;dbl&gt;</th><th scope=col>&lt;dbl&gt;</th><th scope=col>&lt;dbl&gt;</th><th scope=col>&lt;dbl&gt;</th><th scope=col>&lt;dbl&gt;</th><th scope=col>&lt;dbl&gt;</th><th scope=col>&lt;dbl&gt;</th></tr>\n",
       "</thead>\n",
       "<tbody>\n",
       "\t<tr><th scope=row>Expect</th><td>1</td><td>900</td><td>83.51440</td><td>13.07437</td><td>85.18519</td><td>84.69650</td><td>10.98222</td><td>14.814815</td><td>100</td><td> 85.18519</td><td>-0.8877839</td><td>1.16083840</td><td>0.4358122</td></tr>\n",
       "\t<tr><th scope=row>Quality</th><td>2</td><td>900</td><td>75.72428</td><td>16.08220</td><td>77.77778</td><td>77.28395</td><td>10.98222</td><td> 0.000000</td><td>100</td><td>100.00000</td><td>-1.2531644</td><td>2.83477641</td><td>0.5360734</td></tr>\n",
       "\t<tr><th scope=row>Value</th><td>3</td><td>900</td><td>71.72222</td><td>16.02042</td><td>72.22222</td><td>72.59259</td><td>16.47333</td><td> 5.555556</td><td>100</td><td> 94.44444</td><td>-0.5471307</td><td>0.08706885</td><td>0.5340140</td></tr>\n",
       "\t<tr><th scope=row>Satisfact</th><td>4</td><td>900</td><td>72.27984</td><td>15.73812</td><td>74.07407</td><td>73.54424</td><td>13.72778</td><td> 0.000000</td><td>100</td><td>100.00000</td><td>-0.9088180</td><td>1.36879745</td><td>0.5246040</td></tr>\n",
       "\t<tr><th scope=row>Loyalty</th><td>5</td><td>900</td><td>62.39506</td><td>22.72628</td><td>66.66667</td><td>63.93519</td><td>16.47333</td><td> 0.000000</td><td>100</td><td>100.00000</td><td>-0.6421383</td><td>0.37123980</td><td>0.7575425</td></tr>\n",
       "</tbody>\n",
       "</table>\n"
      ],
      "text/latex": [
       "A psych: 5 × 13\n",
       "\\begin{tabular}{r|lllllllllllll}\n",
       "  & vars & n & mean & sd & median & trimmed & mad & min & max & range & skew & kurtosis & se\\\\\n",
       "  & <int> & <dbl> & <dbl> & <dbl> & <dbl> & <dbl> & <dbl> & <dbl> & <dbl> & <dbl> & <dbl> & <dbl> & <dbl>\\\\\n",
       "\\hline\n",
       "\tExpect & 1 & 900 & 83.51440 & 13.07437 & 85.18519 & 84.69650 & 10.98222 & 14.814815 & 100 &  85.18519 & -0.8877839 & 1.16083840 & 0.4358122\\\\\n",
       "\tQuality & 2 & 900 & 75.72428 & 16.08220 & 77.77778 & 77.28395 & 10.98222 &  0.000000 & 100 & 100.00000 & -1.2531644 & 2.83477641 & 0.5360734\\\\\n",
       "\tValue & 3 & 900 & 71.72222 & 16.02042 & 72.22222 & 72.59259 & 16.47333 &  5.555556 & 100 &  94.44444 & -0.5471307 & 0.08706885 & 0.5340140\\\\\n",
       "\tSatisfact & 4 & 900 & 72.27984 & 15.73812 & 74.07407 & 73.54424 & 13.72778 &  0.000000 & 100 & 100.00000 & -0.9088180 & 1.36879745 & 0.5246040\\\\\n",
       "\tLoyalty & 5 & 900 & 62.39506 & 22.72628 & 66.66667 & 63.93519 & 16.47333 &  0.000000 & 100 & 100.00000 & -0.6421383 & 0.37123980 & 0.7575425\\\\\n",
       "\\end{tabular}\n"
      ],
      "text/markdown": [
       "\n",
       "A psych: 5 × 13\n",
       "\n",
       "| <!--/--> | vars &lt;int&gt; | n &lt;dbl&gt; | mean &lt;dbl&gt; | sd &lt;dbl&gt; | median &lt;dbl&gt; | trimmed &lt;dbl&gt; | mad &lt;dbl&gt; | min &lt;dbl&gt; | max &lt;dbl&gt; | range &lt;dbl&gt; | skew &lt;dbl&gt; | kurtosis &lt;dbl&gt; | se &lt;dbl&gt; |\n",
       "|---|---|---|---|---|---|---|---|---|---|---|---|---|---|\n",
       "| Expect | 1 | 900 | 83.51440 | 13.07437 | 85.18519 | 84.69650 | 10.98222 | 14.814815 | 100 |  85.18519 | -0.8877839 | 1.16083840 | 0.4358122 |\n",
       "| Quality | 2 | 900 | 75.72428 | 16.08220 | 77.77778 | 77.28395 | 10.98222 |  0.000000 | 100 | 100.00000 | -1.2531644 | 2.83477641 | 0.5360734 |\n",
       "| Value | 3 | 900 | 71.72222 | 16.02042 | 72.22222 | 72.59259 | 16.47333 |  5.555556 | 100 |  94.44444 | -0.5471307 | 0.08706885 | 0.5340140 |\n",
       "| Satisfact | 4 | 900 | 72.27984 | 15.73812 | 74.07407 | 73.54424 | 13.72778 |  0.000000 | 100 | 100.00000 | -0.9088180 | 1.36879745 | 0.5246040 |\n",
       "| Loyalty | 5 | 900 | 62.39506 | 22.72628 | 66.66667 | 63.93519 | 16.47333 |  0.000000 | 100 | 100.00000 | -0.6421383 | 0.37123980 | 0.7575425 |\n",
       "\n"
      ],
      "text/plain": [
       "          vars n   mean     sd       median   trimmed  mad      min       max\n",
       "Expect    1    900 83.51440 13.07437 85.18519 84.69650 10.98222 14.814815 100\n",
       "Quality   2    900 75.72428 16.08220 77.77778 77.28395 10.98222  0.000000 100\n",
       "Value     3    900 71.72222 16.02042 72.22222 72.59259 16.47333  5.555556 100\n",
       "Satisfact 4    900 72.27984 15.73812 74.07407 73.54424 13.72778  0.000000 100\n",
       "Loyalty   5    900 62.39506 22.72628 66.66667 63.93519 16.47333  0.000000 100\n",
       "          range     skew       kurtosis   se       \n",
       "Expect     85.18519 -0.8877839 1.16083840 0.4358122\n",
       "Quality   100.00000 -1.2531644 2.83477641 0.5360734\n",
       "Value      94.44444 -0.5471307 0.08706885 0.5340140\n",
       "Satisfact 100.00000 -0.9088180 1.36879745 0.5246040\n",
       "Loyalty   100.00000 -0.6421383 0.37123980 0.7575425"
      ]
     },
     "metadata": {},
     "output_type": "display_data"
    }
   ],
   "source": [
    "describe(Customer |> select(-c(\"Group\", \"Complaint\")))"
   ]
  },
  {
   "cell_type": "markdown",
   "id": "06326cf4",
   "metadata": {},
   "source": [
    "<br>\n",
    "\n",
    "### WLS (가중최소제곱, weighted least square) 법\n",
    "- WLS (= ADF, asymptotically distribution-free)\n",
    "- **관찰변수들에 대하여 특별한 분포를 가정하지 않는 비모수적 방법**\n",
    "- **`sem()`의 `estimator`을 `\"WLS\"`로 설정**"
   ]
  },
  {
   "cell_type": "code",
   "execution_count": 86,
   "id": "f978967f",
   "metadata": {},
   "outputs": [],
   "source": [
    "Customer.A <- '\n",
    "    # regression\n",
    "    Quality ~ Expect\n",
    "    Value ~ Expect + Quality\n",
    "    Satisfact ~ Expect + Quality + Value\n",
    "    Loyalty ~ Expect + Quality + Satisfact\n",
    "'"
   ]
  },
  {
   "cell_type": "code",
   "execution_count": 87,
   "id": "a52a0b23",
   "metadata": {},
   "outputs": [],
   "source": [
    "Customer.A.fit <- sem(Customer.A, data= Customer, estimator = \"WLS\")"
   ]
  },
  {
   "cell_type": "markdown",
   "id": "4b91edf8",
   "metadata": {},
   "source": [
    "<br>\n",
    "\n",
    "- 거의 모든 적합도 지수들이 좋음"
   ]
  },
  {
   "cell_type": "code",
   "execution_count": 89,
   "id": "1178e6ec",
   "metadata": {},
   "outputs": [
    {
     "name": "stdout",
     "output_type": "stream",
     "text": [
      "                 npar                  fmin                 chisq \n",
      "               14.000                 0.001                 2.491 \n",
      "                   df                pvalue        baseline.chisq \n",
      "                1.000                 0.114               323.764 \n",
      "          baseline.df       baseline.pvalue                   cfi \n",
      "               10.000                 0.000                 0.995 \n",
      "                  tli                  nnfi                   rfi \n",
      "                0.952                 0.952                 0.923 \n",
      "                  nfi                  pnfi                   ifi \n",
      "                0.992                 0.099                 0.995 \n",
      "                  rni                 rmsea        rmsea.ci.lower \n",
      "                0.995                 0.041                 0.000 \n",
      "       rmsea.ci.upper        rmsea.ci.level          rmsea.pvalue \n",
      "                0.108                 0.900                 0.469 \n",
      "       rmsea.close.h0 rmsea.notclose.pvalue     rmsea.notclose.h0 \n",
      "                0.050                 0.206                 0.080 \n",
      "                  rmr            rmr_nomean                  srmr \n",
      "                3.579                 3.579                 0.010 \n",
      "         srmr_bentler   srmr_bentler_nomean                  crmr \n",
      "                0.010                 0.010                 0.012 \n",
      "          crmr_nomean            srmr_mplus     srmr_mplus_nomean \n",
      "                0.012                 0.010                 0.010 \n",
      "                cn_05                 cn_01                   gfi \n",
      "             1387.237              2395.284                 0.998 \n",
      "                 agfi                  pgfi                   mfi \n",
      "                0.964                 0.067                 0.999 \n",
      "                 ecvi \n",
      "                0.034 \n"
     ]
    },
    {
     "data": {
      "image/png": "[encoded data removed]",
      "text/plain": [
       "plot without title"
      ]
     },
     "metadata": {
      "image/png": {
       "height": 420,
       "width": 420
      }
     },
     "output_type": "display_data"
    }
   ],
   "source": [
    "semPaths(Customer.A.fit, whatLabels = \"std\", style = \"lisrel\", nCharNodes = 0, rotation = 2)\n",
    "print(fitMeasures(Customer.A.fit))"
   ]
  },
  {
   "cell_type": "code",
   "execution_count": 90,
   "id": "3fc0c31d",
   "metadata": {
    "scrolled": false
   },
   "outputs": [
    {
     "name": "stdout",
     "output_type": "stream",
     "text": [
      "lavaan 0.6.16 ended normally after 18 iterations\n",
      "\n",
      "  Estimator                                        WLS\n",
      "  Optimization method                           NLMINB\n",
      "  Number of model parameters                        14\n",
      "\n",
      "  Number of observations                           900\n",
      "\n",
      "Model Test User Model:\n",
      "                                                      \n",
      "  Test statistic                                 2.491\n",
      "  Degrees of freedom                                 1\n",
      "  P-value (Chi-square)                           0.114\n",
      "\n",
      "Model Test Baseline Model:\n",
      "\n",
      "  Test statistic                               323.764\n",
      "  Degrees of freedom                                10\n",
      "  P-value                                        0.000\n",
      "\n",
      "User Model versus Baseline Model:\n",
      "\n",
      "  Comparative Fit Index (CFI)                    0.995\n",
      "  Tucker-Lewis Index (TLI)                       0.952\n",
      "\n",
      "Root Mean Square Error of Approximation:\n",
      "\n",
      "  RMSEA                                          0.041\n",
      "  90 Percent confidence interval - lower         0.000\n",
      "  90 Percent confidence interval - upper         0.108\n",
      "  P-value H_0: RMSEA <= 0.050                    0.469\n",
      "  P-value H_0: RMSEA >= 0.080                    0.206\n",
      "\n",
      "Standardized Root Mean Square Residual:\n",
      "\n",
      "  SRMR                                           0.010\n",
      "\n",
      "Parameter Estimates:\n",
      "\n",
      "  Standard errors                             Standard\n",
      "  Information                                 Expected\n",
      "  Information saturated (h1) model        Unstructured\n",
      "\n",
      "Regressions:\n",
      "                   Estimate  Std.Err  z-value  P(>|z|)   Std.lv  Std.all\n",
      "  Quality ~                                                             \n",
      "    Expect            0.547    0.045   12.165    0.000    0.547    0.444\n",
      "  Value ~                                                               \n",
      "    Expect            0.114    0.039    2.918    0.004    0.114    0.093\n",
      "    Quality           0.508    0.038   13.317    0.000    0.508    0.512\n",
      "  Satisfact ~                                                           \n",
      "    Expect           -0.019    0.032   -0.584    0.559   -0.019   -0.016\n",
      "    Quality           0.606    0.035   17.230    0.000    0.606    0.619\n",
      "    Value             0.314    0.027   11.522    0.000    0.314    0.319\n",
      "  Loyalty ~                                                             \n",
      "    Expect           -0.252    0.057   -4.376    0.000   -0.252   -0.144\n",
      "    Quality           0.637    0.065    9.856    0.000    0.637    0.450\n",
      "    Satisfact         0.331    0.064    5.130    0.000    0.331    0.229\n",
      "\n",
      "Variances:\n",
      "                   Estimate  Std.Err  z-value  P(>|z|)   Std.lv  Std.all\n",
      "   .Quality         207.906   18.675   11.133    0.000  207.906    0.802\n",
      "   .Value           175.314    9.787   17.913    0.000  175.314    0.687\n",
      "   .Satisfact        76.467    4.916   15.556    0.000   76.467    0.308\n",
      "   .Loyalty         334.335   21.911   15.258    0.000  334.335    0.644\n",
      "    Expect          171.031   10.139   16.868    0.000  171.031    1.000\n",
      "\n",
      "R-Square:\n",
      "                   Estimate\n",
      "    Quality           0.198\n",
      "    Value             0.313\n",
      "    Satisfact         0.692\n",
      "    Loyalty           0.356\n",
      "\n"
     ]
    }
   ],
   "source": [
    "print(summary(Customer.A.fit, fit.measures = TRUE, rsquare = TRUE, standardized = TRUE))"
   ]
  }
 ],
 "metadata": {
  "kernelspec": {
   "display_name": "R",
   "language": "R",
   "name": "ir"
  },
  "language_info": {
   "codemirror_mode": "r",
   "file_extension": ".r",
   "mimetype": "text/x-r-source",
   "name": "R",
   "pygments_lexer": "r",
   "version": "4.2.2"
  }
 },
 "nbformat": 4,
 "nbformat_minor": 5
}
