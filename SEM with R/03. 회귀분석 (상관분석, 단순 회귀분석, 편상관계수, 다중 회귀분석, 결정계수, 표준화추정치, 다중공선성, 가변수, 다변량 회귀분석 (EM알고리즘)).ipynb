{
 "cells": [
  {
   "cell_type": "markdown",
   "id": "cac09544",
   "metadata": {},
   "source": [
    "# 03. 회귀분석"
   ]
  },
  {
   "cell_type": "markdown",
   "id": "2e52d9c5",
   "metadata": {},
   "source": [
    "<br>\n",
    "\n",
    "## 03.01. 상관분석"
   ]
  },
  {
   "cell_type": "code",
   "execution_count": 2,
   "id": "4449aa59",
   "metadata": {},
   "outputs": [],
   "source": [
    "library(lavaan)\n",
    "library(sem)\n",
    "library(semPlot)\n",
    "library(semptools)\n",
    "library(psych)\n",
    "library(tidyverse)"
   ]
  },
  {
   "cell_type": "code",
   "execution_count": 5,
   "id": "f12fecd5",
   "metadata": {},
   "outputs": [],
   "source": [
    "library(car)"
   ]
  },
  {
   "cell_type": "markdown",
   "id": "0aa2cfa4",
   "metadata": {},
   "source": [
    "- X, Y, Z 사이에 모두 상당히 큰 양의 연관성"
   ]
  },
  {
   "cell_type": "code",
   "execution_count": 14,
   "id": "60703987",
   "metadata": {},
   "outputs": [
    {
     "data": {
      "image/png": "[encoded data removed]",
      "text/plain": [
       "plot without title"
      ]
     },
     "metadata": {
      "image/png": {
       "height": 420,
       "width": 420
      }
     },
     "output_type": "display_data"
    }
   ],
   "source": [
    "Blood <- read.csv(paste0(getwd(), \"/Data/Blood.csv\"), header = TRUE)\n",
    "scatterplotMatrix(~ X + Z + Y, data=Blood, ellipse=TRUE, smooth=FALSE)"
   ]
  },
  {
   "cell_type": "markdown",
   "id": "7d7fb0e2",
   "metadata": {},
   "source": [
    "<br>\n",
    "\n",
    "### 상관분석"
   ]
  },
  {
   "cell_type": "markdown",
   "id": "c6adf6fb",
   "metadata": {},
   "source": [
    "- 모든 상관계수가 큰 양의 값을 가짐\n",
    "- p-값 (유의확률)이 모두 0.001보다 작으므로, 모든 상관계수에 대하여 모상관계수가 0이라는 가설 ($H_0:\\rho=0$)을 기각"
   ]
  },
  {
   "cell_type": "code",
   "execution_count": 12,
   "id": "6580e1b7",
   "metadata": {},
   "outputs": [],
   "source": [
    "library(Hmisc)"
   ]
  },
  {
   "cell_type": "code",
   "execution_count": 11,
   "id": "c592f429",
   "metadata": {},
   "outputs": [
    {
     "data": {
      "text/plain": [
       "     X    Z    Y\n",
       "X 1.00 0.74 0.64\n",
       "Z 0.74 1.00 0.82\n",
       "Y 0.64 0.82 1.00\n",
       "\n",
       "n= 100 \n",
       "\n",
       "\n",
       "P\n",
       "  X  Z  Y \n",
       "X     0  0\n",
       "Z  0     0\n",
       "Y  0  0   "
      ]
     },
     "metadata": {},
     "output_type": "display_data"
    }
   ],
   "source": [
    "rcorr(as.matrix(Blood))"
   ]
  },
  {
   "cell_type": "markdown",
   "id": "4f936ed7",
   "metadata": {},
   "source": [
    "<br>\n",
    "\n",
    "## 03.02. 단순 회귀분석\n",
    "- 상관분석은 방향성을 고려하지 않고, 연관관계를 분석하는데 반해, **회귀분석은 방향성을 고려한 인과관계를 분석**\n",
    "- **결과의 역할을 하는 변수를 종속변수(dependent variable), 원인의 역할을 하는 변수를 설명변수 (explortary variable)**\n",
    "\n",
    "- 단순 회귀보형은 설명변수가 하나만 있는 경우\n",
    "\n",
    "$$Y = \\alpha + \\beta X + \\epsilon$$\n",
    "\n",
    "- 오차항 $\\epsilon$은 평균 0과 분산 $\\sigma^2$을 가지는 정규본포를 따르는 것으로 가정"
   ]
  },
  {
   "cell_type": "code",
   "execution_count": 15,
   "id": "3258a399",
   "metadata": {},
   "outputs": [
    {
     "data": {
      "text/plain": [
       "\n",
       "Call:\n",
       "lm(formula = Y ~ X, data = Blood)\n",
       "\n",
       "Residuals:\n",
       "    Min      1Q  Median      3Q     Max \n",
       "-25.559  -8.084   0.526   7.059  35.733 \n",
       "\n",
       "Coefficients:\n",
       "            Estimate Std. Error t value Pr(>|t|)    \n",
       "(Intercept) -141.440     24.719  -5.722 1.15e-07 ***\n",
       "X              1.715      0.210   8.168 1.11e-12 ***\n",
       "---\n",
       "Signif. codes:  0 '***' 0.001 '**' 0.01 '*' 0.05 '.' 0.1 ' ' 1\n",
       "\n",
       "Residual standard error: 12.16 on 98 degrees of freedom\n",
       "Multiple R-squared:  0.405,\tAdjusted R-squared:  0.3989 \n",
       "F-statistic: 66.71 on 1 and 98 DF,  p-value: 1.112e-12\n"
      ]
     },
     "metadata": {},
     "output_type": "display_data"
    }
   ],
   "source": [
    "Blood.A.fit <- lm(Y ~ X, data = Blood)\n",
    "summary(Blood.A.fit)"
   ]
  },
  {
   "cell_type": "markdown",
   "id": "e760c57c",
   "metadata": {},
   "source": [
    "<br>\n",
    "\n",
    "#### 표준화 추정치\n",
    "- **표준화 추정치(standardized estimates)는 모든 변수들을 표준화하여 회귀분석을 수행하여 얻은 추정치**\n",
    "    - 기울기의 표준화 추정치 0.636은 단순 상관계수 $Cor(X_1, Y)$과 동일\n",
    "    - 단순 회귀분석의 $R^2$는 상관계수의 제곱과 동일\n",
    "- **즉, 단순 상관모형과 단순 회귀모형은 수리적으로 동치관계를 가짐**"
   ]
  },
  {
   "cell_type": "code",
   "execution_count": 19,
   "id": "9a913970",
   "metadata": {},
   "outputs": [],
   "source": [
    "library(lm.beta)"
   ]
  },
  {
   "cell_type": "code",
   "execution_count": 20,
   "id": "b810fac0",
   "metadata": {},
   "outputs": [
    {
     "data": {
      "text/plain": [
       "\n",
       "Call:\n",
       "lm(formula = Y ~ X, data = Blood)\n",
       "\n",
       "Residuals:\n",
       "    Min      1Q  Median      3Q     Max \n",
       "-25.559  -8.084   0.526   7.059  35.733 \n",
       "\n",
       "Coefficients:\n",
       "             Estimate Standardized Std. Error t value Pr(>|t|)    \n",
       "(Intercept) -141.4403           NA    24.7192  -5.722 1.15e-07 ***\n",
       "X              1.7154       0.6364     0.2100   8.168 1.11e-12 ***\n",
       "---\n",
       "Signif. codes:  0 '***' 0.001 '**' 0.01 '*' 0.05 '.' 0.1 ' ' 1\n",
       "\n",
       "Residual standard error: 12.16 on 98 degrees of freedom\n",
       "Multiple R-squared:  0.405,\tAdjusted R-squared:  0.3989 \n",
       "F-statistic: 66.71 on 1 and 98 DF,  p-value: 1.112e-12\n"
      ]
     },
     "metadata": {},
     "output_type": "display_data"
    }
   ],
   "source": [
    "Blood.A.beta <- lm.beta(Blood.A.fit)\n",
    "summary(Blood.A.beta)"
   ]
  },
  {
   "cell_type": "markdown",
   "id": "a3477368",
   "metadata": {},
   "source": [
    "<br>\n",
    "\n",
    "#### 기울기 $\\hat{\\beta} = 141.44$로 추정되었으며, 유의수준 5%하에서 통계적으로 유의\n",
    "#### $\\rightarrow$ 이러한 결과들로부터 설명변수가 종속변수에 영향을 미친다고 결론을 내릴 수 있는가?\n",
    "#### $\\rightarrow$ 다른 원인에 의하여 이와 같은 결과가 얻어졌는지를 탐색할 필요성 존재"
   ]
  },
  {
   "cell_type": "markdown",
   "id": "c2e5f0be",
   "metadata": {},
   "source": [
    "<br>\n",
    "\n",
    "## 03.03. 편상관 계수\n",
    "\n",
    "- **Z와 X의 상관계수가 0.736, Z와 Y의 상관계수가 0.82 $\\rightarrow$ Z에 의하여 X와 Y의 상관관계가 높게 나타날 수 있다는 짐작 가능**\n",
    "- **이와 같이 다른 변수의 효과로 인해 나타나는 상관성을 의사상관(pseudo correlation)**\n",
    "- **의사상관을 제거하고 두 변수 사이의 상관성을 분석하는 한 가지 방법은 편상관계수(partial correlation coefficient)를 계산하는 것**\n",
    "    - 효과를 제거하고자 하는 다른변수를 **통제변수(control variable, 제어변수)**\n",
    "    - **통제 : 모든 개체에 대하여 통제변수의 값이 동일하다는 가정하에서 상관계수를 추정**"
   ]
  },
  {
   "cell_type": "markdown",
   "id": "256c202e",
   "metadata": {},
   "source": [
    "<br>\n",
    "\n",
    "### pcor"
   ]
  },
  {
   "cell_type": "markdown",
   "id": "59cd2b25",
   "metadata": {},
   "source": [
    "* ggm (function for graphical markov models)"
   ]
  },
  {
   "cell_type": "code",
   "execution_count": 25,
   "id": "6fb25c65",
   "metadata": {},
   "outputs": [],
   "source": [
    "library(ggm)"
   ]
  },
  {
   "cell_type": "markdown",
   "id": "cd97e281",
   "metadata": {},
   "source": [
    "- **Z를 통제한 상태에서 X와 Y의 상관계수 $Cor(X,Y|X_2)=0.083$**\n",
    "    - p-값이 0.415로서 편상관계수가 통계적으로 유의하지 않음\n",
    "- **따라서 X와 Y의 상관성은 Z의 효과로 인하여 높은 것 처럼 나타난 것이며, 실제 두 변수 사의의 상관성은 낮다고 결론**"
   ]
  },
  {
   "cell_type": "code",
   "execution_count": 31,
   "id": "1713bad4",
   "metadata": {},
   "outputs": [
    {
     "data": {
      "text/html": [
       "0.0828488166056266"
      ],
      "text/latex": [
       "0.0828488166056266"
      ],
      "text/markdown": [
       "0.0828488166056266"
      ],
      "text/plain": [
       "[1] 0.08284882"
      ]
     },
     "metadata": {},
     "output_type": "display_data"
    }
   ],
   "source": [
    "Blood.cov <- cov(Blood)\n",
    "Blood.pcor <- pcor(c(\"X\", \"Y\", \"Z\"),Blood.cov)\n",
    "\n",
    "Blood.pcor"
   ]
  },
  {
   "cell_type": "code",
   "execution_count": 39,
   "id": "6f506cc6",
   "metadata": {},
   "outputs": [
    {
     "data": {
      "text/html": [
       "<dl>\n",
       "\t<dt>$tval</dt>\n",
       "\t\t<dd>0.818781078906814</dd>\n",
       "\t<dt>$df</dt>\n",
       "\t\t<dd>97</dd>\n",
       "\t<dt>$pvalue</dt>\n",
       "\t\t<dd>0.414918371790848</dd>\n",
       "</dl>\n"
      ],
      "text/latex": [
       "\\begin{description}\n",
       "\\item[\\$tval] 0.818781078906814\n",
       "\\item[\\$df] 97\n",
       "\\item[\\$pvalue] 0.414918371790848\n",
       "\\end{description}\n"
      ],
      "text/markdown": [
       "$tval\n",
       ":   0.818781078906814\n",
       "$df\n",
       ":   97\n",
       "$pvalue\n",
       ":   0.414918371790848\n",
       "\n",
       "\n"
      ],
      "text/plain": [
       "$tval\n",
       "[1] 0.8187811\n",
       "\n",
       "$df\n",
       "[1] 97\n",
       "\n",
       "$pvalue\n",
       "[1] 0.4149184\n"
      ]
     },
     "metadata": {},
     "output_type": "display_data"
    }
   ],
   "source": [
    "pcor.test(Blood.pcor, 1, n = nrow(Blood))"
   ]
  },
  {
   "cell_type": "markdown",
   "id": "b7ca856e",
   "metadata": {},
   "source": [
    "<br>\n",
    "\n",
    "### sem"
   ]
  },
  {
   "cell_type": "markdown",
   "id": "c21b6d9b",
   "metadata": {},
   "source": [
    "- 아래 그림에는 편상관분석을 위한 경로도\n",
    "- **내생 오차변수 간에 연관관계 (양방향 화살표)가 존재, 내생오차들간의 연관관계는 편상관의 의미를 가짐 (내생오차는 설명변수들에 의해 설명되지 않는 부분을 의미)**"
   ]
  },
  {
   "attachments": {
    "image%5B1%5D.png": {
     "image/png": "[encoded data removed]"
    }
   },
   "cell_type": "markdown",
   "id": "9b05d0a6",
   "metadata": {},
   "source": [
    "![image%5B1%5D.png](attachment:image%5B1%5D.png)"
   ]
  },
  {
   "cell_type": "markdown",
   "id": "b474565c",
   "metadata": {},
   "source": [
    "<br>\n",
    "\n",
    "#### `sem(model, data, fixed.x, missing)`\n",
    "- **`fixed.x`** : `FALSE`로 입력시 외생변수들의 공분산 및 상관계수 출력 \n",
    "\n",
    "    - **$'\\sim\\sim'$로 연결되어 있는 부분의 `Estimate`은 두 변수 사이의 공분산 추정치, `std.all`은 상관계수 (표준화된 공분산)**\n",
    "- **`missing`** : 결측값 처리 방법 \n",
    "    - `'listwise'` : 목록별 결측값 제거\n",
    "    - `'pairwise'` : 대응별 결측값 제거\n",
    "    - `'ml'` : FIML을 통한 결측값 대체 (= `'direct'`, `'fiml'`) + **절편출력**"
   ]
  },
  {
   "cell_type": "code",
   "execution_count": 68,
   "id": "e9f40b48",
   "metadata": {},
   "outputs": [],
   "source": [
    "# detach(\"package:sem\",unload=TRUE)\n",
    "library(lavaan)"
   ]
  },
  {
   "cell_type": "code",
   "execution_count": 104,
   "id": "300cba9c",
   "metadata": {},
   "outputs": [],
   "source": [
    "Blood.B.model <- '\n",
    "    # regression\n",
    "    X ~ Z\n",
    "    Y ~ Z\n",
    "    \n",
    "    # residual correlations\n",
    "    X ~~ Y\n",
    "'"
   ]
  },
  {
   "cell_type": "code",
   "execution_count": 100,
   "id": "c3728ea7",
   "metadata": {},
   "outputs": [
    {
     "data": {
      "text/html": [
       "<table class=\"dataframe\">\n",
       "<caption>A data.frame: 6 × 11</caption>\n",
       "<thead>\n",
       "\t<tr><th scope=col>lhs</th><th scope=col>op</th><th scope=col>rhs</th><th scope=col>exo</th><th scope=col>est</th><th scope=col>se</th><th scope=col>z</th><th scope=col>pvalue</th><th scope=col>std.lv</th><th scope=col>std.all</th><th scope=col>std.nox</th></tr>\n",
       "\t<tr><th scope=col>&lt;chr&gt;</th><th scope=col>&lt;chr&gt;</th><th scope=col>&lt;chr&gt;</th><th scope=col>&lt;int&gt;</th><th scope=col>&lt;dbl&gt;</th><th scope=col>&lt;dbl&gt;</th><th scope=col>&lt;dbl&gt;</th><th scope=col>&lt;dbl&gt;</th><th scope=col>&lt;dbl&gt;</th><th scope=col>&lt;dbl&gt;</th><th scope=col>&lt;dbl&gt;</th></tr>\n",
       "</thead>\n",
       "<tbody>\n",
       "\t<tr><td>X</td><td>~ </td><td>Z</td><td>0</td><td> 0.5486769</td><td> 0.0505394</td><td>10.8564191</td><td>0.000000e+00</td><td> 0.5486769</td><td>0.73552260</td><td> 0.09475804</td></tr>\n",
       "\t<tr><td>Y</td><td>~ </td><td>Z</td><td>0</td><td> 1.6523641</td><td> 0.1145826</td><td>14.4207238</td><td>0.000000e+00</td><td> 1.6523641</td><td>0.82175400</td><td> 0.10586731</td></tr>\n",
       "\t<tr><td>X</td><td>~~</td><td>Y</td><td>0</td><td> 2.8906465</td><td> 3.5010157</td><td> 0.8256594</td><td>4.089973e-01</td><td> 2.8906465</td><td>0.08284882</td><td> 0.08284882</td></tr>\n",
       "\t<tr><td>X</td><td>~~</td><td>X</td><td>0</td><td>15.3893406</td><td> 2.1763814</td><td> 7.0710678</td><td>1.537437e-12</td><td>15.3893406</td><td>0.45900651</td><td> 0.45900651</td></tr>\n",
       "\t<tr><td>Y</td><td>~~</td><td>Y</td><td>0</td><td>79.1037978</td><td>11.1869664</td><td> 7.0710678</td><td>1.537437e-12</td><td>79.1037978</td><td>0.32472037</td><td> 0.32472037</td></tr>\n",
       "\t<tr><td>Z</td><td>~~</td><td>Z</td><td>1</td><td>60.2504000</td><td> 0.0000000</td><td>        NA</td><td>          NA</td><td>60.2504000</td><td>1.00000000</td><td>60.25040000</td></tr>\n",
       "</tbody>\n",
       "</table>\n"
      ],
      "text/latex": [
       "A data.frame: 6 × 11\n",
       "\\begin{tabular}{lllllllllll}\n",
       " lhs & op & rhs & exo & est & se & z & pvalue & std.lv & std.all & std.nox\\\\\n",
       " <chr> & <chr> & <chr> & <int> & <dbl> & <dbl> & <dbl> & <dbl> & <dbl> & <dbl> & <dbl>\\\\\n",
       "\\hline\n",
       "\t X & \\textasciitilde{}  & Z & 0 &  0.5486769 &  0.0505394 & 10.8564191 & 0.000000e+00 &  0.5486769 & 0.73552260 &  0.09475804\\\\\n",
       "\t Y & \\textasciitilde{}  & Z & 0 &  1.6523641 &  0.1145826 & 14.4207238 & 0.000000e+00 &  1.6523641 & 0.82175400 &  0.10586731\\\\\n",
       "\t X & \\textasciitilde{}\\textasciitilde{} & Y & 0 &  2.8906465 &  3.5010157 &  0.8256594 & 4.089973e-01 &  2.8906465 & 0.08284882 &  0.08284882\\\\\n",
       "\t X & \\textasciitilde{}\\textasciitilde{} & X & 0 & 15.3893406 &  2.1763814 &  7.0710678 & 1.537437e-12 & 15.3893406 & 0.45900651 &  0.45900651\\\\\n",
       "\t Y & \\textasciitilde{}\\textasciitilde{} & Y & 0 & 79.1037978 & 11.1869664 &  7.0710678 & 1.537437e-12 & 79.1037978 & 0.32472037 &  0.32472037\\\\\n",
       "\t Z & \\textasciitilde{}\\textasciitilde{} & Z & 1 & 60.2504000 &  0.0000000 &         NA &           NA & 60.2504000 & 1.00000000 & 60.25040000\\\\\n",
       "\\end{tabular}\n"
      ],
      "text/markdown": [
       "\n",
       "A data.frame: 6 × 11\n",
       "\n",
       "| lhs &lt;chr&gt; | op &lt;chr&gt; | rhs &lt;chr&gt; | exo &lt;int&gt; | est &lt;dbl&gt; | se &lt;dbl&gt; | z &lt;dbl&gt; | pvalue &lt;dbl&gt; | std.lv &lt;dbl&gt; | std.all &lt;dbl&gt; | std.nox &lt;dbl&gt; |\n",
       "|---|---|---|---|---|---|---|---|---|---|---|\n",
       "| X | ~  | Z | 0 |  0.5486769 |  0.0505394 | 10.8564191 | 0.000000e+00 |  0.5486769 | 0.73552260 |  0.09475804 |\n",
       "| Y | ~  | Z | 0 |  1.6523641 |  0.1145826 | 14.4207238 | 0.000000e+00 |  1.6523641 | 0.82175400 |  0.10586731 |\n",
       "| X | ~~ | Y | 0 |  2.8906465 |  3.5010157 |  0.8256594 | 4.089973e-01 |  2.8906465 | 0.08284882 |  0.08284882 |\n",
       "| X | ~~ | X | 0 | 15.3893406 |  2.1763814 |  7.0710678 | 1.537437e-12 | 15.3893406 | 0.45900651 |  0.45900651 |\n",
       "| Y | ~~ | Y | 0 | 79.1037978 | 11.1869664 |  7.0710678 | 1.537437e-12 | 79.1037978 | 0.32472037 |  0.32472037 |\n",
       "| Z | ~~ | Z | 1 | 60.2504000 |  0.0000000 |         NA |           NA | 60.2504000 | 1.00000000 | 60.25040000 |\n",
       "\n"
      ],
      "text/plain": [
       "  lhs op rhs exo est        se         z          pvalue       std.lv    \n",
       "1 X   ~  Z   0    0.5486769  0.0505394 10.8564191 0.000000e+00  0.5486769\n",
       "2 Y   ~  Z   0    1.6523641  0.1145826 14.4207238 0.000000e+00  1.6523641\n",
       "3 X   ~~ Y   0    2.8906465  3.5010157  0.8256594 4.089973e-01  2.8906465\n",
       "4 X   ~~ X   0   15.3893406  2.1763814  7.0710678 1.537437e-12 15.3893406\n",
       "5 Y   ~~ Y   0   79.1037978 11.1869664  7.0710678 1.537437e-12 79.1037978\n",
       "6 Z   ~~ Z   1   60.2504000  0.0000000         NA           NA 60.2504000\n",
       "  std.all    std.nox    \n",
       "1 0.73552260  0.09475804\n",
       "2 0.82175400  0.10586731\n",
       "3 0.08284882  0.08284882\n",
       "4 0.45900651  0.45900651\n",
       "5 0.32472037  0.32472037\n",
       "6 1.00000000 60.25040000"
      ]
     },
     "metadata": {},
     "output_type": "display_data"
    }
   ],
   "source": [
    "Blood.B.fit <- sem(Blood.B.model, data = Blood)\n",
    "summary(Blood.B.fit, rsquare=FALSE, standardized=TRUE)$pe"
   ]
  },
  {
   "cell_type": "markdown",
   "id": "8e8c470e",
   "metadata": {},
   "source": [
    "**편상관분석의 결과**\n",
    "\n",
    "<br>\n",
    "\n",
    "**회귀계수 (Regression)**\n",
    "\n",
    "| 내생변수 | 설명변수 | 회귀계수 | 표준화추정치 | p-값 | SMC |\n",
    "| - | - | - | - | - | - | \n",
    "| X | Z | 0.549 | 0.736 | < 0.001 | 0.541 | \n",
    "| Y | Z | 1.652 | 0.822 | <0.001 | 0.675 | \n",
    "\n",
    "<br>\n",
    "\n",
    "**편상관 (Partial correlation)**\n",
    "\n",
    "| 내생변수 | 공분산 | 상관계수 | p-값 | \n",
    "| - | - | - | - | \n",
    "| X, Y | 2.891 | 0.083 | 0.409 |"
   ]
  },
  {
   "cell_type": "markdown",
   "id": "677f0e15",
   "metadata": {},
   "source": [
    "<br>\n",
    "\n",
    "#### 경로도 시각화"
   ]
  },
  {
   "cell_type": "code",
   "execution_count": 101,
   "id": "99619dc9",
   "metadata": {},
   "outputs": [],
   "source": [
    "library(semPlot)"
   ]
  },
  {
   "cell_type": "code",
   "execution_count": 103,
   "id": "61bd2038",
   "metadata": {},
   "outputs": [
    {
     "data": {
      "image/png": "[encoded data removed]",
      "text/plain": [
       "plot without title"
      ]
     },
     "metadata": {
      "image/png": {
       "height": 420,
       "width": 420
      }
     },
     "output_type": "display_data"
    }
   ],
   "source": [
    "semPaths(Blood.B.fit, whatLabels = \"std\", style=\"lisrel\", nCharNodes = 0)"
   ]
  },
  {
   "cell_type": "markdown",
   "id": "17d3e342",
   "metadata": {},
   "source": [
    "<br>\n",
    "\n",
    "## 03.04. 다중 회귀분석\n",
    "- 통제변수의 효과를 분석하는 다른 하나의 방법은 **다중 회귀분석**\n",
    "- 종속변수 Y와 $p$개의 설명변수가 있을 때\n",
    "\n",
    "$$Y = \\alpha + \\beta_1 X_1 + \\dots + \\beta_p X_p + \\epsilon$$"
   ]
  },
  {
   "cell_type": "markdown",
   "id": "e95c6251",
   "metadata": {},
   "source": [
    "#### 다중 회귀분석의 결과\n",
    "\n",
    "| 설명변수 | 회귀계수 | 표준화 추정치 | p-값 | SMC($R^2$ |\n",
    "| - | - | - | - | - |\n",
    "| Intercept | -31.031 | - | 0.161 | 0.678 | \n",
    "| X | 0.188 | 0.070 | 0.415 | | \n",
    "| Z | 1.549 | 0.771 | < .001 | |\n",
    "\n",
    "- $R^2$는 0.678이므로, 종속변수의 변이 중 두 개의 설명변수 X와 Z에 설명되는 비율은 67.8%\n",
    "- X에 대한 표준화 추정치는 p-값이 0.415로서 통계적으로 유의하지 않음 **(편상관분석의 p-값과 동일)**\n",
    "    - **따라서 Z가 통제된 상태에서 X은 Y에 영향을 미치지 않는다는 결론**\n",
    "- **Z는 X가 통제된 상태에서도 Y에 유의한 영향을 미침 (p-값 < 0.05)**"
   ]
  },
  {
   "cell_type": "code",
   "execution_count": 105,
   "id": "a34add42",
   "metadata": {},
   "outputs": [
    {
     "data": {
      "text/plain": [
       "\n",
       "Call:\n",
       "lm(formula = Y ~ X + Z, data = Blood)\n",
       "\n",
       "Residuals:\n",
       "    Min      1Q  Median      3Q     Max \n",
       "-23.989  -6.413  -1.153   6.693  21.725 \n",
       "\n",
       "Coefficients:\n",
       "             Estimate Standardized Std. Error t value Pr(>|t|)    \n",
       "(Intercept) -31.03085           NA   21.98482  -1.411    0.161    \n",
       "X             0.18783      0.06968    0.22941   0.819    0.415    \n",
       "Z             1.54930      0.77050    0.17113   9.053 1.48e-14 ***\n",
       "---\n",
       "Signif. codes:  0 '***' 0.001 '**' 0.01 '*' 0.05 '.' 0.1 ' ' 1\n",
       "\n",
       "Residual standard error: 8.999 on 97 degrees of freedom\n",
       "Multiple R-squared:  0.6775,\tAdjusted R-squared:  0.6709 \n",
       "F-statistic: 101.9 on 2 and 97 DF,  p-value: < 2.2e-16\n"
      ]
     },
     "metadata": {},
     "output_type": "display_data"
    }
   ],
   "source": [
    "Blood.C.fit <- lm(Y ~ X + Z, data = Blood)\n",
    "Blood.C.beta <- lm.beta(Blood.C.fit)\n",
    "summary(Blood.C.beta)"
   ]
  },
  {
   "cell_type": "markdown",
   "id": "4c6ca375",
   "metadata": {},
   "source": [
    "<br>\n",
    "\n",
    "## 03.05. 다중 회귀분석 (2)"
   ]
  },
  {
   "cell_type": "code",
   "execution_count": 110,
   "id": "9fd69e67",
   "metadata": {},
   "outputs": [],
   "source": [
    "Ability <- read.csv(paste0(getwd(), \"/Data/Ability.csv\"), header = TRUE)\n",
    "Ability.A.fit <- lm(Y ~ X1 + X2 + X3 + X4, data = Ability)"
   ]
  },
  {
   "cell_type": "code",
   "execution_count": 111,
   "id": "37e19238",
   "metadata": {},
   "outputs": [
    {
     "data": {
      "text/plain": [
       "\n",
       "Call:\n",
       "lm(formula = Y ~ X1 + X2 + X3 + X4, data = Ability)\n",
       "\n",
       "Residuals:\n",
       "   Min     1Q Median     3Q    Max \n",
       "-5.614 -1.264 -0.224  1.058  4.059 \n",
       "\n",
       "Coefficients:\n",
       "            Estimate Standardized Std. Error t value Pr(>|t|)    \n",
       "(Intercept) 73.15526           NA    1.68258  43.478  < 2e-16 ***\n",
       "X1           0.14245      0.05498    0.10157   1.403    0.168    \n",
       "X2           0.84501      0.28250    0.13186   6.408 7.72e-08 ***\n",
       "X3          -0.27220     -0.06116    0.16825  -1.618    0.113    \n",
       "X4           0.76269      0.79383    0.03949  19.312  < 2e-16 ***\n",
       "---\n",
       "Signif. codes:  0 '***' 0.001 '**' 0.01 '*' 0.05 '.' 0.1 ' ' 1\n",
       "\n",
       "Residual standard error: 2.138 on 45 degrees of freedom\n",
       "Multiple R-squared:  0.9591,\tAdjusted R-squared:  0.9554 \n",
       "F-statistic: 263.5 on 4 and 45 DF,  p-value: < 2.2e-16\n"
      ]
     },
     "metadata": {},
     "output_type": "display_data"
    }
   ],
   "source": [
    "Ability.A.beta <- lm.beta(Ability.A.fit)\n",
    "summary(Ability.A.beta)"
   ]
  },
  {
   "cell_type": "markdown",
   "id": "e2e0a5ab",
   "metadata": {},
   "source": [
    "$$\\hat{Y} = 73.155 + 0.142X_1 + 0.845X_2 - 0.272X_3 + 0.763X_4$$\n",
    "\n",
    "- 각 회귀계수에 대한 t-검정의 p-값을 살펴보면, $X_2$, $X_4$에 대한 p-값은 유의수준 5%보다 작음으로, 이 변수들은 종속변수를 설명하는데 유의하게 기여\n",
    "    - 나머지 변수는 유의하지 않음\n",
    "\n",
    "<br>\n",
    "\n",
    "**다중 회귀분석에서 회귀계순 $\\beta_k$는 '설명변수 $X_k$를 제외한 다른 모든 설명변수의 값이 동일할 때 (즉, 다른 모든 설명변수의 값이 같도록 통제되어 있을 때), $X_k$가 1단위 증가하면 종속변수 Y가 $\\beta_k$만큼 증가한다'는 것을 의미**\n",
    "* **즉, 다중 회귀분석에서는 어떤 설명변수들을 함께 고려하느냐에 따라서 결과가 달라짐 $\\rightarrow$ 회귀계수를 편회귀계수(partial regression coefficient)라고 부름**"
   ]
  },
  {
   "cell_type": "markdown",
   "id": "506995d2",
   "metadata": {},
   "source": [
    "<br>\n",
    "\n",
    "- `sem`을 적용한 결과도, 위의 결과와 동일"
   ]
  },
  {
   "cell_type": "code",
   "execution_count": 133,
   "id": "3b670b50",
   "metadata": {},
   "outputs": [],
   "source": [
    "Ability.B.model <- '\n",
    "    # regression\n",
    "    Y ~ X1 + X2 + X3 + X4\n",
    "'"
   ]
  },
  {
   "cell_type": "markdown",
   "id": "aa0a2ece",
   "metadata": {},
   "source": [
    "<br>\n",
    "\n",
    "- **`sem()`의 `missing` 매개변수를 `\"ml\"`로 입력 시, 절편 출력**"
   ]
  },
  {
   "cell_type": "code",
   "execution_count": 134,
   "id": "89501c91",
   "metadata": {},
   "outputs": [],
   "source": [
    "Ability.B.fit <- sem(Ability.B.model, data = Ability, missing=\"ml\")"
   ]
  },
  {
   "cell_type": "code",
   "execution_count": 130,
   "id": "2d719345",
   "metadata": {},
   "outputs": [
    {
     "data": {
      "text/html": [
       "<table class=\"dataframe\">\n",
       "<caption>A data.frame: 20 × 11</caption>\n",
       "<thead>\n",
       "\t<tr><th scope=col>lhs</th><th scope=col>op</th><th scope=col>rhs</th><th scope=col>exo</th><th scope=col>est</th><th scope=col>se</th><th scope=col>z</th><th scope=col>pvalue</th><th scope=col>std.lv</th><th scope=col>std.all</th><th scope=col>std.nox</th></tr>\n",
       "\t<tr><th scope=col>&lt;chr&gt;</th><th scope=col>&lt;chr&gt;</th><th scope=col>&lt;chr&gt;</th><th scope=col>&lt;int&gt;</th><th scope=col>&lt;dbl&gt;</th><th scope=col>&lt;dbl&gt;</th><th scope=col>&lt;dbl&gt;</th><th scope=col>&lt;dbl&gt;</th><th scope=col>&lt;dbl&gt;</th><th scope=col>&lt;dbl&gt;</th><th scope=col>&lt;dbl&gt;</th></tr>\n",
       "</thead>\n",
       "<tbody>\n",
       "\t<tr><td>Y </td><td>~ </td><td>X1</td><td>0</td><td>  0.1424510</td><td>0.09635708</td><td> 1.478365</td><td>1.393100e-01</td><td>  0.1424510</td><td> 0.05497633</td><td>  0.01421303</td></tr>\n",
       "\t<tr><td>Y </td><td>~ </td><td>X2</td><td>0</td><td>  0.8450082</td><td>0.12509460</td><td> 6.754953</td><td>1.428813e-11</td><td>  0.8450082</td><td> 0.28250470</td><td>  0.08431061</td></tr>\n",
       "\t<tr><td>Y </td><td>~ </td><td>X3</td><td>0</td><td> -0.2722029</td><td>0.15961475</td><td>-1.705375</td><td>8.812457e-02</td><td> -0.2722029</td><td>-0.06115546</td><td> -0.02715902</td></tr>\n",
       "\t<tr><td>Y </td><td>~ </td><td>X4</td><td>0</td><td>  0.7626917</td><td>0.03746641</td><td>20.356676</td><td>0.000000e+00</td><td>  0.7626917</td><td> 0.79383359</td><td>  0.07609749</td></tr>\n",
       "\t<tr><td>Y </td><td>~~</td><td>Y </td><td>0</td><td>  4.1124281</td><td>0.82248562</td><td> 5.000000</td><td>5.733031e-07</td><td>  4.1124281</td><td> 0.04093935</td><td>  0.04093935</td></tr>\n",
       "\t<tr><td>X1</td><td>~~</td><td>X1</td><td>1</td><td> 14.9616000</td><td>0.00000000</td><td>       NA</td><td>          NA</td><td> 14.9616000</td><td> 1.00000000</td><td> 14.96160000</td></tr>\n",
       "\t<tr><td>X1</td><td>~~</td><td>X2</td><td>1</td><td>  7.7896000</td><td>0.00000000</td><td>       NA</td><td>          NA</td><td>  7.7896000</td><td> 0.60101135</td><td>  7.78960000</td></tr>\n",
       "\t<tr><td>X1</td><td>~~</td><td>X3</td><td>1</td><td>  0.8992000</td><td>0.00000000</td><td>       NA</td><td>          NA</td><td>  0.8992000</td><td> 0.10323957</td><td>  0.89920000</td></tr>\n",
       "\t<tr><td>X1</td><td>~~</td><td>X4</td><td>1</td><td> 15.8872000</td><td>0.00000000</td><td>       NA</td><td>          NA</td><td> 15.8872000</td><td> 0.39373062</td><td> 15.88720000</td></tr>\n",
       "\t<tr><td>X2</td><td>~~</td><td>X2</td><td>1</td><td> 11.2276000</td><td>0.00000000</td><td>       NA</td><td>          NA</td><td> 11.2276000</td><td> 1.00000000</td><td> 11.22760000</td></tr>\n",
       "\t<tr><td>X2</td><td>~~</td><td>X3</td><td>1</td><td>  3.1752000</td><td>0.00000000</td><td>       NA</td><td>          NA</td><td>  3.1752000</td><td> 0.42082982</td><td>  3.17520000</td></tr>\n",
       "\t<tr><td>X2</td><td>~~</td><td>X4</td><td>1</td><td> 20.0832000</td><td>0.00000000</td><td>       NA</td><td>          NA</td><td> 20.0832000</td><td> 0.57455327</td><td> 20.08320000</td></tr>\n",
       "\t<tr><td>X3</td><td>~~</td><td>X3</td><td>1</td><td>  5.0704000</td><td>0.00000000</td><td>       NA</td><td>          NA</td><td>  5.0704000</td><td> 1.00000000</td><td>  5.07040000</td></tr>\n",
       "\t<tr><td>X3</td><td>~~</td><td>X4</td><td>1</td><td> 12.8664000</td><td>0.00000000</td><td>       NA</td><td>          NA</td><td> 12.8664000</td><td> 0.54774294</td><td> 12.86640000</td></tr>\n",
       "\t<tr><td>X4</td><td>~~</td><td>X4</td><td>1</td><td>108.8224000</td><td>0.00000000</td><td>       NA</td><td>          NA</td><td>108.8224000</td><td> 1.00000000</td><td>108.82240000</td></tr>\n",
       "\t<tr><td>Y </td><td>~1</td><td>  </td><td>0</td><td> 73.1552561</td><td>1.59623431</td><td>45.829898</td><td>0.000000e+00</td><td> 73.1552561</td><td> 7.29905868</td><td>  7.29905868</td></tr>\n",
       "\t<tr><td>X1</td><td>~1</td><td>  </td><td>1</td><td> 11.2800000</td><td>0.00000000</td><td>       NA</td><td>          NA</td><td> 11.2800000</td><td> 2.91621863</td><td> 11.28000000</td></tr>\n",
       "\t<tr><td>X2</td><td>~1</td><td>  </td><td>1</td><td> 14.1800000</td><td>0.00000000</td><td>       NA</td><td>          NA</td><td> 14.1800000</td><td> 4.23187435</td><td> 14.18000000</td></tr>\n",
       "\t<tr><td>X3</td><td>~1</td><td>  </td><td>1</td><td> 10.3600000</td><td>0.00000000</td><td>       NA</td><td>          NA</td><td> 10.3600000</td><td> 4.60085604</td><td> 10.36000000</td></tr>\n",
       "\t<tr><td>X4</td><td>~1</td><td>  </td><td>1</td><td> 29.7600000</td><td>0.00000000</td><td>       NA</td><td>          NA</td><td> 29.7600000</td><td> 2.85281610</td><td> 29.76000000</td></tr>\n",
       "</tbody>\n",
       "</table>\n"
      ],
      "text/latex": [
       "A data.frame: 20 × 11\n",
       "\\begin{tabular}{lllllllllll}\n",
       " lhs & op & rhs & exo & est & se & z & pvalue & std.lv & std.all & std.nox\\\\\n",
       " <chr> & <chr> & <chr> & <int> & <dbl> & <dbl> & <dbl> & <dbl> & <dbl> & <dbl> & <dbl>\\\\\n",
       "\\hline\n",
       "\t Y  & \\textasciitilde{}  & X1 & 0 &   0.1424510 & 0.09635708 &  1.478365 & 1.393100e-01 &   0.1424510 &  0.05497633 &   0.01421303\\\\\n",
       "\t Y  & \\textasciitilde{}  & X2 & 0 &   0.8450082 & 0.12509460 &  6.754953 & 1.428813e-11 &   0.8450082 &  0.28250470 &   0.08431061\\\\\n",
       "\t Y  & \\textasciitilde{}  & X3 & 0 &  -0.2722029 & 0.15961475 & -1.705375 & 8.812457e-02 &  -0.2722029 & -0.06115546 &  -0.02715902\\\\\n",
       "\t Y  & \\textasciitilde{}  & X4 & 0 &   0.7626917 & 0.03746641 & 20.356676 & 0.000000e+00 &   0.7626917 &  0.79383359 &   0.07609749\\\\\n",
       "\t Y  & \\textasciitilde{}\\textasciitilde{} & Y  & 0 &   4.1124281 & 0.82248562 &  5.000000 & 5.733031e-07 &   4.1124281 &  0.04093935 &   0.04093935\\\\\n",
       "\t X1 & \\textasciitilde{}\\textasciitilde{} & X1 & 1 &  14.9616000 & 0.00000000 &        NA &           NA &  14.9616000 &  1.00000000 &  14.96160000\\\\\n",
       "\t X1 & \\textasciitilde{}\\textasciitilde{} & X2 & 1 &   7.7896000 & 0.00000000 &        NA &           NA &   7.7896000 &  0.60101135 &   7.78960000\\\\\n",
       "\t X1 & \\textasciitilde{}\\textasciitilde{} & X3 & 1 &   0.8992000 & 0.00000000 &        NA &           NA &   0.8992000 &  0.10323957 &   0.89920000\\\\\n",
       "\t X1 & \\textasciitilde{}\\textasciitilde{} & X4 & 1 &  15.8872000 & 0.00000000 &        NA &           NA &  15.8872000 &  0.39373062 &  15.88720000\\\\\n",
       "\t X2 & \\textasciitilde{}\\textasciitilde{} & X2 & 1 &  11.2276000 & 0.00000000 &        NA &           NA &  11.2276000 &  1.00000000 &  11.22760000\\\\\n",
       "\t X2 & \\textasciitilde{}\\textasciitilde{} & X3 & 1 &   3.1752000 & 0.00000000 &        NA &           NA &   3.1752000 &  0.42082982 &   3.17520000\\\\\n",
       "\t X2 & \\textasciitilde{}\\textasciitilde{} & X4 & 1 &  20.0832000 & 0.00000000 &        NA &           NA &  20.0832000 &  0.57455327 &  20.08320000\\\\\n",
       "\t X3 & \\textasciitilde{}\\textasciitilde{} & X3 & 1 &   5.0704000 & 0.00000000 &        NA &           NA &   5.0704000 &  1.00000000 &   5.07040000\\\\\n",
       "\t X3 & \\textasciitilde{}\\textasciitilde{} & X4 & 1 &  12.8664000 & 0.00000000 &        NA &           NA &  12.8664000 &  0.54774294 &  12.86640000\\\\\n",
       "\t X4 & \\textasciitilde{}\\textasciitilde{} & X4 & 1 & 108.8224000 & 0.00000000 &        NA &           NA & 108.8224000 &  1.00000000 & 108.82240000\\\\\n",
       "\t Y  & \\textasciitilde{}1 &    & 0 &  73.1552561 & 1.59623431 & 45.829898 & 0.000000e+00 &  73.1552561 &  7.29905868 &   7.29905868\\\\\n",
       "\t X1 & \\textasciitilde{}1 &    & 1 &  11.2800000 & 0.00000000 &        NA &           NA &  11.2800000 &  2.91621863 &  11.28000000\\\\\n",
       "\t X2 & \\textasciitilde{}1 &    & 1 &  14.1800000 & 0.00000000 &        NA &           NA &  14.1800000 &  4.23187435 &  14.18000000\\\\\n",
       "\t X3 & \\textasciitilde{}1 &    & 1 &  10.3600000 & 0.00000000 &        NA &           NA &  10.3600000 &  4.60085604 &  10.36000000\\\\\n",
       "\t X4 & \\textasciitilde{}1 &    & 1 &  29.7600000 & 0.00000000 &        NA &           NA &  29.7600000 &  2.85281610 &  29.76000000\\\\\n",
       "\\end{tabular}\n"
      ],
      "text/markdown": [
       "\n",
       "A data.frame: 20 × 11\n",
       "\n",
       "| lhs &lt;chr&gt; | op &lt;chr&gt; | rhs &lt;chr&gt; | exo &lt;int&gt; | est &lt;dbl&gt; | se &lt;dbl&gt; | z &lt;dbl&gt; | pvalue &lt;dbl&gt; | std.lv &lt;dbl&gt; | std.all &lt;dbl&gt; | std.nox &lt;dbl&gt; |\n",
       "|---|---|---|---|---|---|---|---|---|---|---|\n",
       "| Y  | ~  | X1 | 0 |   0.1424510 | 0.09635708 |  1.478365 | 1.393100e-01 |   0.1424510 |  0.05497633 |   0.01421303 |\n",
       "| Y  | ~  | X2 | 0 |   0.8450082 | 0.12509460 |  6.754953 | 1.428813e-11 |   0.8450082 |  0.28250470 |   0.08431061 |\n",
       "| Y  | ~  | X3 | 0 |  -0.2722029 | 0.15961475 | -1.705375 | 8.812457e-02 |  -0.2722029 | -0.06115546 |  -0.02715902 |\n",
       "| Y  | ~  | X4 | 0 |   0.7626917 | 0.03746641 | 20.356676 | 0.000000e+00 |   0.7626917 |  0.79383359 |   0.07609749 |\n",
       "| Y  | ~~ | Y  | 0 |   4.1124281 | 0.82248562 |  5.000000 | 5.733031e-07 |   4.1124281 |  0.04093935 |   0.04093935 |\n",
       "| X1 | ~~ | X1 | 1 |  14.9616000 | 0.00000000 |        NA |           NA |  14.9616000 |  1.00000000 |  14.96160000 |\n",
       "| X1 | ~~ | X2 | 1 |   7.7896000 | 0.00000000 |        NA |           NA |   7.7896000 |  0.60101135 |   7.78960000 |\n",
       "| X1 | ~~ | X3 | 1 |   0.8992000 | 0.00000000 |        NA |           NA |   0.8992000 |  0.10323957 |   0.89920000 |\n",
       "| X1 | ~~ | X4 | 1 |  15.8872000 | 0.00000000 |        NA |           NA |  15.8872000 |  0.39373062 |  15.88720000 |\n",
       "| X2 | ~~ | X2 | 1 |  11.2276000 | 0.00000000 |        NA |           NA |  11.2276000 |  1.00000000 |  11.22760000 |\n",
       "| X2 | ~~ | X3 | 1 |   3.1752000 | 0.00000000 |        NA |           NA |   3.1752000 |  0.42082982 |   3.17520000 |\n",
       "| X2 | ~~ | X4 | 1 |  20.0832000 | 0.00000000 |        NA |           NA |  20.0832000 |  0.57455327 |  20.08320000 |\n",
       "| X3 | ~~ | X3 | 1 |   5.0704000 | 0.00000000 |        NA |           NA |   5.0704000 |  1.00000000 |   5.07040000 |\n",
       "| X3 | ~~ | X4 | 1 |  12.8664000 | 0.00000000 |        NA |           NA |  12.8664000 |  0.54774294 |  12.86640000 |\n",
       "| X4 | ~~ | X4 | 1 | 108.8224000 | 0.00000000 |        NA |           NA | 108.8224000 |  1.00000000 | 108.82240000 |\n",
       "| Y  | ~1 | <!----> | 0 |  73.1552561 | 1.59623431 | 45.829898 | 0.000000e+00 |  73.1552561 |  7.29905868 |   7.29905868 |\n",
       "| X1 | ~1 | <!----> | 1 |  11.2800000 | 0.00000000 |        NA |           NA |  11.2800000 |  2.91621863 |  11.28000000 |\n",
       "| X2 | ~1 | <!----> | 1 |  14.1800000 | 0.00000000 |        NA |           NA |  14.1800000 |  4.23187435 |  14.18000000 |\n",
       "| X3 | ~1 | <!----> | 1 |  10.3600000 | 0.00000000 |        NA |           NA |  10.3600000 |  4.60085604 |  10.36000000 |\n",
       "| X4 | ~1 | <!----> | 1 |  29.7600000 | 0.00000000 |        NA |           NA |  29.7600000 |  2.85281610 |  29.76000000 |\n",
       "\n"
      ],
      "text/plain": [
       "   lhs op rhs exo est         se         z         pvalue       std.lv     \n",
       "1  Y   ~  X1  0     0.1424510 0.09635708  1.478365 1.393100e-01   0.1424510\n",
       "2  Y   ~  X2  0     0.8450082 0.12509460  6.754953 1.428813e-11   0.8450082\n",
       "3  Y   ~  X3  0    -0.2722029 0.15961475 -1.705375 8.812457e-02  -0.2722029\n",
       "4  Y   ~  X4  0     0.7626917 0.03746641 20.356676 0.000000e+00   0.7626917\n",
       "5  Y   ~~ Y   0     4.1124281 0.82248562  5.000000 5.733031e-07   4.1124281\n",
       "6  X1  ~~ X1  1    14.9616000 0.00000000        NA           NA  14.9616000\n",
       "7  X1  ~~ X2  1     7.7896000 0.00000000        NA           NA   7.7896000\n",
       "8  X1  ~~ X3  1     0.8992000 0.00000000        NA           NA   0.8992000\n",
       "9  X1  ~~ X4  1    15.8872000 0.00000000        NA           NA  15.8872000\n",
       "10 X2  ~~ X2  1    11.2276000 0.00000000        NA           NA  11.2276000\n",
       "11 X2  ~~ X3  1     3.1752000 0.00000000        NA           NA   3.1752000\n",
       "12 X2  ~~ X4  1    20.0832000 0.00000000        NA           NA  20.0832000\n",
       "13 X3  ~~ X3  1     5.0704000 0.00000000        NA           NA   5.0704000\n",
       "14 X3  ~~ X4  1    12.8664000 0.00000000        NA           NA  12.8664000\n",
       "15 X4  ~~ X4  1   108.8224000 0.00000000        NA           NA 108.8224000\n",
       "16 Y   ~1     0    73.1552561 1.59623431 45.829898 0.000000e+00  73.1552561\n",
       "17 X1  ~1     1    11.2800000 0.00000000        NA           NA  11.2800000\n",
       "18 X2  ~1     1    14.1800000 0.00000000        NA           NA  14.1800000\n",
       "19 X3  ~1     1    10.3600000 0.00000000        NA           NA  10.3600000\n",
       "20 X4  ~1     1    29.7600000 0.00000000        NA           NA  29.7600000\n",
       "   std.all     std.nox     \n",
       "1   0.05497633   0.01421303\n",
       "2   0.28250470   0.08431061\n",
       "3  -0.06115546  -0.02715902\n",
       "4   0.79383359   0.07609749\n",
       "5   0.04093935   0.04093935\n",
       "6   1.00000000  14.96160000\n",
       "7   0.60101135   7.78960000\n",
       "8   0.10323957   0.89920000\n",
       "9   0.39373062  15.88720000\n",
       "10  1.00000000  11.22760000\n",
       "11  0.42082982   3.17520000\n",
       "12  0.57455327  20.08320000\n",
       "13  1.00000000   5.07040000\n",
       "14  0.54774294  12.86640000\n",
       "15  1.00000000 108.82240000\n",
       "16  7.29905868   7.29905868\n",
       "17  2.91621863  11.28000000\n",
       "18  4.23187435  14.18000000\n",
       "19  4.60085604  10.36000000\n",
       "20  2.85281610  29.76000000"
      ]
     },
     "metadata": {},
     "output_type": "display_data"
    },
    {
     "data": {
      "image/png": "[encoded data removed]",
      "text/plain": [
       "plot without title"
      ]
     },
     "metadata": {
      "image/png": {
       "height": 420,
       "width": 420
      }
     },
     "output_type": "display_data"
    }
   ],
   "source": [
    "semPaths(Ability.B.fit, whatLabels = \"std\", style = \"lisrel\", nCharNodes = 0, rotation = 4)\n",
    "summary(Ability.B.fit, rsquare = FALSE, standardized = TRUE)$pe"
   ]
  },
  {
   "cell_type": "markdown",
   "id": "157f116d",
   "metadata": {},
   "source": [
    "#### 외생변수들의 공분산 및 상관계수 출력 \n",
    "\n",
    "- **$'\\sim\\sim'$로 연결되어 있는 부분의 `Estimate`은 두 변수 사이의 공분산 추정치, `std.all`은 상관계수 (표준화된 공분산)**"
   ]
  },
  {
   "cell_type": "code",
   "execution_count": 135,
   "id": "e2f634f7",
   "metadata": {},
   "outputs": [],
   "source": [
    "Ability.B.fit <- sem(Ability.B.model, data = Ability, missing=\"ml\", fixed.x = FALSE)"
   ]
  },
  {
   "cell_type": "code",
   "execution_count": 137,
   "id": "208a1565",
   "metadata": {},
   "outputs": [
    {
     "data": {
      "text/html": [
       "<table class=\"dataframe\">\n",
       "<caption>A data.frame: 20 × 11</caption>\n",
       "<thead>\n",
       "\t<tr><th scope=col>lhs</th><th scope=col>op</th><th scope=col>rhs</th><th scope=col>exo</th><th scope=col>est</th><th scope=col>se</th><th scope=col>z</th><th scope=col>pvalue</th><th scope=col>std.lv</th><th scope=col>std.all</th><th scope=col>std.nox</th></tr>\n",
       "\t<tr><th scope=col>&lt;chr&gt;</th><th scope=col>&lt;chr&gt;</th><th scope=col>&lt;chr&gt;</th><th scope=col>&lt;int&gt;</th><th scope=col>&lt;dbl&gt;</th><th scope=col>&lt;dbl&gt;</th><th scope=col>&lt;dbl&gt;</th><th scope=col>&lt;dbl&gt;</th><th scope=col>&lt;dbl&gt;</th><th scope=col>&lt;dbl&gt;</th><th scope=col>&lt;dbl&gt;</th></tr>\n",
       "</thead>\n",
       "<tbody>\n",
       "\t<tr><td>Y </td><td>~ </td><td>X1</td><td>0</td><td>  0.1424510</td><td> 0.09635708</td><td> 1.4783653</td><td>1.393100e-01</td><td>  0.1424510</td><td> 0.05497633</td><td>  0.01421303</td></tr>\n",
       "\t<tr><td>Y </td><td>~ </td><td>X2</td><td>0</td><td>  0.8450082</td><td> 0.12509460</td><td> 6.7549528</td><td>1.428813e-11</td><td>  0.8450082</td><td> 0.28250470</td><td>  0.08431061</td></tr>\n",
       "\t<tr><td>Y </td><td>~ </td><td>X3</td><td>0</td><td> -0.2722029</td><td> 0.15961475</td><td>-1.7053746</td><td>8.812457e-02</td><td> -0.2722029</td><td>-0.06115546</td><td> -0.02715902</td></tr>\n",
       "\t<tr><td>Y </td><td>~ </td><td>X4</td><td>0</td><td>  0.7626917</td><td> 0.03746641</td><td>20.3566762</td><td>0.000000e+00</td><td>  0.7626917</td><td> 0.79383359</td><td>  0.07609749</td></tr>\n",
       "\t<tr><td>Y </td><td>~~</td><td>Y </td><td>0</td><td>  4.1124281</td><td> 0.82248562</td><td> 5.0000000</td><td>5.733032e-07</td><td>  4.1124281</td><td> 0.04093935</td><td>  0.04093935</td></tr>\n",
       "\t<tr><td>X1</td><td>~~</td><td>X1</td><td>0</td><td> 14.9615998</td><td> 2.99231990</td><td> 5.0000001</td><td>5.733029e-07</td><td> 14.9615998</td><td> 1.00000000</td><td> 14.96159975</td></tr>\n",
       "\t<tr><td>X1</td><td>~~</td><td>X2</td><td>0</td><td>  7.7895999</td><td> 2.13850753</td><td> 3.6425403</td><td>2.699607e-04</td><td>  7.7895999</td><td> 0.60101135</td><td>  7.78959994</td></tr>\n",
       "\t<tr><td>X1</td><td>~~</td><td>X3</td><td>0</td><td>  0.8992000</td><td> 1.23830412</td><td> 0.7261544</td><td>4.677441e-01</td><td>  0.8992000</td><td> 0.10323957</td><td>  0.89920000</td></tr>\n",
       "\t<tr><td>X1</td><td>~~</td><td>X4</td><td>0</td><td> 15.8871995</td><td> 6.13279760</td><td> 2.5905305</td><td>9.582812e-03</td><td> 15.8871995</td><td> 0.39373061</td><td> 15.88719950</td></tr>\n",
       "\t<tr><td>X2</td><td>~~</td><td>X2</td><td>0</td><td> 11.2276001</td><td> 2.24552002</td><td> 5.0000000</td><td>5.733032e-07</td><td> 11.2276001</td><td> 1.00000000</td><td> 11.22760006</td></tr>\n",
       "\t<tr><td>X2</td><td>~~</td><td>X3</td><td>0</td><td>  3.1752000</td><td> 1.15767282</td><td> 2.7427438</td><td>6.092820e-03</td><td>  3.1752000</td><td> 0.42082982</td><td>  3.17519999</td></tr>\n",
       "\t<tr><td>X2</td><td>~~</td><td>X4</td><td>0</td><td> 20.0832002</td><td> 5.70113914</td><td> 3.5226645</td><td>4.272319e-04</td><td> 20.0832002</td><td> 0.57455326</td><td> 20.08320021</td></tr>\n",
       "\t<tr><td>X3</td><td>~~</td><td>X3</td><td>0</td><td>  5.0704000</td><td> 1.01407999</td><td> 5.0000000</td><td>5.733031e-07</td><td>  5.0704000</td><td> 1.00000000</td><td>  5.07039999</td></tr>\n",
       "\t<tr><td>X3</td><td>~~</td><td>X4</td><td>0</td><td> 12.8664004</td><td> 3.78765728</td><td> 3.3969283</td><td>6.814681e-04</td><td> 12.8664004</td><td> 0.54774295</td><td> 12.86640035</td></tr>\n",
       "\t<tr><td>X4</td><td>~~</td><td>X4</td><td>0</td><td>108.8224020</td><td>21.76448082</td><td> 4.9999999</td><td>5.733034e-07</td><td>108.8224020</td><td> 1.00000000</td><td>108.82240199</td></tr>\n",
       "\t<tr><td>Y </td><td>~1</td><td>  </td><td>0</td><td> 73.1552562</td><td> 1.59623431</td><td>45.8298985</td><td>0.000000e+00</td><td> 73.1552562</td><td> 7.29905866</td><td>  7.29905866</td></tr>\n",
       "\t<tr><td>X1</td><td>~1</td><td>  </td><td>0</td><td> 11.2800000</td><td> 0.54702102</td><td>20.6207798</td><td>0.000000e+00</td><td> 11.2800000</td><td> 2.91621865</td><td> 11.28000000</td></tr>\n",
       "\t<tr><td>X2</td><td>~1</td><td>  </td><td>0</td><td> 14.1800000</td><td> 0.47386918</td><td>29.9238704</td><td>0.000000e+00</td><td> 14.1800000</td><td> 4.23187434</td><td> 14.18000000</td></tr>\n",
       "\t<tr><td>X3</td><td>~1</td><td>  </td><td>0</td><td> 10.3600000</td><td> 0.31844623</td><td>32.5329651</td><td>0.000000e+00</td><td> 10.3600000</td><td> 4.60085605</td><td> 10.36000000</td></tr>\n",
       "\t<tr><td>X4</td><td>~1</td><td>  </td><td>0</td><td> 29.7600000</td><td> 1.47527897</td><td>20.1724559</td><td>0.000000e+00</td><td> 29.7600000</td><td> 2.85281608</td><td> 29.76000000</td></tr>\n",
       "</tbody>\n",
       "</table>\n"
      ],
      "text/latex": [
       "A data.frame: 20 × 11\n",
       "\\begin{tabular}{lllllllllll}\n",
       " lhs & op & rhs & exo & est & se & z & pvalue & std.lv & std.all & std.nox\\\\\n",
       " <chr> & <chr> & <chr> & <int> & <dbl> & <dbl> & <dbl> & <dbl> & <dbl> & <dbl> & <dbl>\\\\\n",
       "\\hline\n",
       "\t Y  & \\textasciitilde{}  & X1 & 0 &   0.1424510 &  0.09635708 &  1.4783653 & 1.393100e-01 &   0.1424510 &  0.05497633 &   0.01421303\\\\\n",
       "\t Y  & \\textasciitilde{}  & X2 & 0 &   0.8450082 &  0.12509460 &  6.7549528 & 1.428813e-11 &   0.8450082 &  0.28250470 &   0.08431061\\\\\n",
       "\t Y  & \\textasciitilde{}  & X3 & 0 &  -0.2722029 &  0.15961475 & -1.7053746 & 8.812457e-02 &  -0.2722029 & -0.06115546 &  -0.02715902\\\\\n",
       "\t Y  & \\textasciitilde{}  & X4 & 0 &   0.7626917 &  0.03746641 & 20.3566762 & 0.000000e+00 &   0.7626917 &  0.79383359 &   0.07609749\\\\\n",
       "\t Y  & \\textasciitilde{}\\textasciitilde{} & Y  & 0 &   4.1124281 &  0.82248562 &  5.0000000 & 5.733032e-07 &   4.1124281 &  0.04093935 &   0.04093935\\\\\n",
       "\t X1 & \\textasciitilde{}\\textasciitilde{} & X1 & 0 &  14.9615998 &  2.99231990 &  5.0000001 & 5.733029e-07 &  14.9615998 &  1.00000000 &  14.96159975\\\\\n",
       "\t X1 & \\textasciitilde{}\\textasciitilde{} & X2 & 0 &   7.7895999 &  2.13850753 &  3.6425403 & 2.699607e-04 &   7.7895999 &  0.60101135 &   7.78959994\\\\\n",
       "\t X1 & \\textasciitilde{}\\textasciitilde{} & X3 & 0 &   0.8992000 &  1.23830412 &  0.7261544 & 4.677441e-01 &   0.8992000 &  0.10323957 &   0.89920000\\\\\n",
       "\t X1 & \\textasciitilde{}\\textasciitilde{} & X4 & 0 &  15.8871995 &  6.13279760 &  2.5905305 & 9.582812e-03 &  15.8871995 &  0.39373061 &  15.88719950\\\\\n",
       "\t X2 & \\textasciitilde{}\\textasciitilde{} & X2 & 0 &  11.2276001 &  2.24552002 &  5.0000000 & 5.733032e-07 &  11.2276001 &  1.00000000 &  11.22760006\\\\\n",
       "\t X2 & \\textasciitilde{}\\textasciitilde{} & X3 & 0 &   3.1752000 &  1.15767282 &  2.7427438 & 6.092820e-03 &   3.1752000 &  0.42082982 &   3.17519999\\\\\n",
       "\t X2 & \\textasciitilde{}\\textasciitilde{} & X4 & 0 &  20.0832002 &  5.70113914 &  3.5226645 & 4.272319e-04 &  20.0832002 &  0.57455326 &  20.08320021\\\\\n",
       "\t X3 & \\textasciitilde{}\\textasciitilde{} & X3 & 0 &   5.0704000 &  1.01407999 &  5.0000000 & 5.733031e-07 &   5.0704000 &  1.00000000 &   5.07039999\\\\\n",
       "\t X3 & \\textasciitilde{}\\textasciitilde{} & X4 & 0 &  12.8664004 &  3.78765728 &  3.3969283 & 6.814681e-04 &  12.8664004 &  0.54774295 &  12.86640035\\\\\n",
       "\t X4 & \\textasciitilde{}\\textasciitilde{} & X4 & 0 & 108.8224020 & 21.76448082 &  4.9999999 & 5.733034e-07 & 108.8224020 &  1.00000000 & 108.82240199\\\\\n",
       "\t Y  & \\textasciitilde{}1 &    & 0 &  73.1552562 &  1.59623431 & 45.8298985 & 0.000000e+00 &  73.1552562 &  7.29905866 &   7.29905866\\\\\n",
       "\t X1 & \\textasciitilde{}1 &    & 0 &  11.2800000 &  0.54702102 & 20.6207798 & 0.000000e+00 &  11.2800000 &  2.91621865 &  11.28000000\\\\\n",
       "\t X2 & \\textasciitilde{}1 &    & 0 &  14.1800000 &  0.47386918 & 29.9238704 & 0.000000e+00 &  14.1800000 &  4.23187434 &  14.18000000\\\\\n",
       "\t X3 & \\textasciitilde{}1 &    & 0 &  10.3600000 &  0.31844623 & 32.5329651 & 0.000000e+00 &  10.3600000 &  4.60085605 &  10.36000000\\\\\n",
       "\t X4 & \\textasciitilde{}1 &    & 0 &  29.7600000 &  1.47527897 & 20.1724559 & 0.000000e+00 &  29.7600000 &  2.85281608 &  29.76000000\\\\\n",
       "\\end{tabular}\n"
      ],
      "text/markdown": [
       "\n",
       "A data.frame: 20 × 11\n",
       "\n",
       "| lhs &lt;chr&gt; | op &lt;chr&gt; | rhs &lt;chr&gt; | exo &lt;int&gt; | est &lt;dbl&gt; | se &lt;dbl&gt; | z &lt;dbl&gt; | pvalue &lt;dbl&gt; | std.lv &lt;dbl&gt; | std.all &lt;dbl&gt; | std.nox &lt;dbl&gt; |\n",
       "|---|---|---|---|---|---|---|---|---|---|---|\n",
       "| Y  | ~  | X1 | 0 |   0.1424510 |  0.09635708 |  1.4783653 | 1.393100e-01 |   0.1424510 |  0.05497633 |   0.01421303 |\n",
       "| Y  | ~  | X2 | 0 |   0.8450082 |  0.12509460 |  6.7549528 | 1.428813e-11 |   0.8450082 |  0.28250470 |   0.08431061 |\n",
       "| Y  | ~  | X3 | 0 |  -0.2722029 |  0.15961475 | -1.7053746 | 8.812457e-02 |  -0.2722029 | -0.06115546 |  -0.02715902 |\n",
       "| Y  | ~  | X4 | 0 |   0.7626917 |  0.03746641 | 20.3566762 | 0.000000e+00 |   0.7626917 |  0.79383359 |   0.07609749 |\n",
       "| Y  | ~~ | Y  | 0 |   4.1124281 |  0.82248562 |  5.0000000 | 5.733032e-07 |   4.1124281 |  0.04093935 |   0.04093935 |\n",
       "| X1 | ~~ | X1 | 0 |  14.9615998 |  2.99231990 |  5.0000001 | 5.733029e-07 |  14.9615998 |  1.00000000 |  14.96159975 |\n",
       "| X1 | ~~ | X2 | 0 |   7.7895999 |  2.13850753 |  3.6425403 | 2.699607e-04 |   7.7895999 |  0.60101135 |   7.78959994 |\n",
       "| X1 | ~~ | X3 | 0 |   0.8992000 |  1.23830412 |  0.7261544 | 4.677441e-01 |   0.8992000 |  0.10323957 |   0.89920000 |\n",
       "| X1 | ~~ | X4 | 0 |  15.8871995 |  6.13279760 |  2.5905305 | 9.582812e-03 |  15.8871995 |  0.39373061 |  15.88719950 |\n",
       "| X2 | ~~ | X2 | 0 |  11.2276001 |  2.24552002 |  5.0000000 | 5.733032e-07 |  11.2276001 |  1.00000000 |  11.22760006 |\n",
       "| X2 | ~~ | X3 | 0 |   3.1752000 |  1.15767282 |  2.7427438 | 6.092820e-03 |   3.1752000 |  0.42082982 |   3.17519999 |\n",
       "| X2 | ~~ | X4 | 0 |  20.0832002 |  5.70113914 |  3.5226645 | 4.272319e-04 |  20.0832002 |  0.57455326 |  20.08320021 |\n",
       "| X3 | ~~ | X3 | 0 |   5.0704000 |  1.01407999 |  5.0000000 | 5.733031e-07 |   5.0704000 |  1.00000000 |   5.07039999 |\n",
       "| X3 | ~~ | X4 | 0 |  12.8664004 |  3.78765728 |  3.3969283 | 6.814681e-04 |  12.8664004 |  0.54774295 |  12.86640035 |\n",
       "| X4 | ~~ | X4 | 0 | 108.8224020 | 21.76448082 |  4.9999999 | 5.733034e-07 | 108.8224020 |  1.00000000 | 108.82240199 |\n",
       "| Y  | ~1 | <!----> | 0 |  73.1552562 |  1.59623431 | 45.8298985 | 0.000000e+00 |  73.1552562 |  7.29905866 |   7.29905866 |\n",
       "| X1 | ~1 | <!----> | 0 |  11.2800000 |  0.54702102 | 20.6207798 | 0.000000e+00 |  11.2800000 |  2.91621865 |  11.28000000 |\n",
       "| X2 | ~1 | <!----> | 0 |  14.1800000 |  0.47386918 | 29.9238704 | 0.000000e+00 |  14.1800000 |  4.23187434 |  14.18000000 |\n",
       "| X3 | ~1 | <!----> | 0 |  10.3600000 |  0.31844623 | 32.5329651 | 0.000000e+00 |  10.3600000 |  4.60085605 |  10.36000000 |\n",
       "| X4 | ~1 | <!----> | 0 |  29.7600000 |  1.47527897 | 20.1724559 | 0.000000e+00 |  29.7600000 |  2.85281608 |  29.76000000 |\n",
       "\n"
      ],
      "text/plain": [
       "   lhs op rhs exo est         se          z          pvalue       std.lv     \n",
       "1  Y   ~  X1  0     0.1424510  0.09635708  1.4783653 1.393100e-01   0.1424510\n",
       "2  Y   ~  X2  0     0.8450082  0.12509460  6.7549528 1.428813e-11   0.8450082\n",
       "3  Y   ~  X3  0    -0.2722029  0.15961475 -1.7053746 8.812457e-02  -0.2722029\n",
       "4  Y   ~  X4  0     0.7626917  0.03746641 20.3566762 0.000000e+00   0.7626917\n",
       "5  Y   ~~ Y   0     4.1124281  0.82248562  5.0000000 5.733032e-07   4.1124281\n",
       "6  X1  ~~ X1  0    14.9615998  2.99231990  5.0000001 5.733029e-07  14.9615998\n",
       "7  X1  ~~ X2  0     7.7895999  2.13850753  3.6425403 2.699607e-04   7.7895999\n",
       "8  X1  ~~ X3  0     0.8992000  1.23830412  0.7261544 4.677441e-01   0.8992000\n",
       "9  X1  ~~ X4  0    15.8871995  6.13279760  2.5905305 9.582812e-03  15.8871995\n",
       "10 X2  ~~ X2  0    11.2276001  2.24552002  5.0000000 5.733032e-07  11.2276001\n",
       "11 X2  ~~ X3  0     3.1752000  1.15767282  2.7427438 6.092820e-03   3.1752000\n",
       "12 X2  ~~ X4  0    20.0832002  5.70113914  3.5226645 4.272319e-04  20.0832002\n",
       "13 X3  ~~ X3  0     5.0704000  1.01407999  5.0000000 5.733031e-07   5.0704000\n",
       "14 X3  ~~ X4  0    12.8664004  3.78765728  3.3969283 6.814681e-04  12.8664004\n",
       "15 X4  ~~ X4  0   108.8224020 21.76448082  4.9999999 5.733034e-07 108.8224020\n",
       "16 Y   ~1     0    73.1552562  1.59623431 45.8298985 0.000000e+00  73.1552562\n",
       "17 X1  ~1     0    11.2800000  0.54702102 20.6207798 0.000000e+00  11.2800000\n",
       "18 X2  ~1     0    14.1800000  0.47386918 29.9238704 0.000000e+00  14.1800000\n",
       "19 X3  ~1     0    10.3600000  0.31844623 32.5329651 0.000000e+00  10.3600000\n",
       "20 X4  ~1     0    29.7600000  1.47527897 20.1724559 0.000000e+00  29.7600000\n",
       "   std.all     std.nox     \n",
       "1   0.05497633   0.01421303\n",
       "2   0.28250470   0.08431061\n",
       "3  -0.06115546  -0.02715902\n",
       "4   0.79383359   0.07609749\n",
       "5   0.04093935   0.04093935\n",
       "6   1.00000000  14.96159975\n",
       "7   0.60101135   7.78959994\n",
       "8   0.10323957   0.89920000\n",
       "9   0.39373061  15.88719950\n",
       "10  1.00000000  11.22760006\n",
       "11  0.42082982   3.17519999\n",
       "12  0.57455326  20.08320021\n",
       "13  1.00000000   5.07039999\n",
       "14  0.54774295  12.86640035\n",
       "15  1.00000000 108.82240199\n",
       "16  7.29905866   7.29905866\n",
       "17  2.91621865  11.28000000\n",
       "18  4.23187434  14.18000000\n",
       "19  4.60085605  10.36000000\n",
       "20  2.85281608  29.76000000"
      ]
     },
     "metadata": {},
     "output_type": "display_data"
    }
   ],
   "source": [
    "summary(Ability.B.fit, rsquare = FALSE, standardized = TRUE)$pe"
   ]
  },
  {
   "cell_type": "markdown",
   "id": "533d1e86",
   "metadata": {},
   "source": [
    "<br>\n",
    "\n",
    "## 03.06. 결정계수 (R-Square)\n",
    "- **결정계수 (coefficient of determination, $R^2$)** : 종속변수 Y의 전체 분산 중에서 회귀식이 설명하는 비율 ($0\\leq R^2 \\leq 1$\n",
    "    - 1에 가까울 수록 추정된 회귀식이 데이터를 잘 설명\n",
    "- 종속변수의 실젯값 Y와 예측값 $\\hat{Y}$에 대한 상관계수의 제곱과 동일함으로 **제곱다중상관 (SMC, squared multiple correlation)**\n",
    "\n",
    "$$R^2 = {{회귀식에\\;의하여\\;설명되는\\;분산} \\over {종속변수의\\;전체\\;분산}}$$"
   ]
  },
  {
   "cell_type": "markdown",
   "id": "3a17cbef",
   "metadata": {},
   "source": [
    "<br>\n",
    "\n",
    "## 03.07. 표준화 추정치\n",
    "- 광고비 Y와 매출액 X의 단위가 모두 천 만원이라고 가정,\n",
    "\n",
    "    추정된 회귀식이 $\\hat{Y}=3.285 + 1.597 X$\n",
    "\n",
    "- 매출액의 단위는 그대로 둔 상태에서 광고비의 단위를 백만 원으로 바꾸어 데이터를 입력한 후 회귀분석 수행 시\n",
    "\n",
    "    $\\hat{Y}=3.285+0.1597X$\n",
    "    \n",
    "<br>\n",
    "\n",
    "**회귀계수의 크기가 설명변수의 단위에 의존하기 때문에, 그 크기를 절대비교할 수가 없고 (즉, 회귀계수 자체만을 가지고 그 값이 얼마나 큰 것인지를 판단할 수 없음), 설명변수들의 단위가 서로 다른 경우에는 회귀계수들을 상대비교하는 것에도 문제가 발생**\n",
    "\n",
    "### 표준화 추정치 (standardized coefficient)\n",
    "- 표준화 추정치는 종속변수 및 각 설명변수들을 아래와 같이 표준화하여, 설명변수들의 단위를 모두 없앤 후에, 표준화된 변수들 $Z_1, \\dots, Z_p$를 이용하여 얻은 회귀 계수\n",
    "- **표준화 변수는 원래 변수의 측정단위나 변이의 영향을 제거하는 효과를 가지기 때문에, 표준화 추정치는 설명변수들이 종속변수에 미치는 효과의 크기를 비교하는데 이용**\n",
    "\n",
    "$$Z_k = {{X_k - \\bar{X_k}}\\over{s_k}}$$\n",
    "\n"
   ]
  },
  {
   "cell_type": "markdown",
   "id": "a246c84a",
   "metadata": {},
   "source": [
    "<br>\n",
    "\n",
    "## 03.08. 다중공선성 (multicollinearity)\n",
    "\n",
    "<br>\n",
    "\n",
    "### 다중공선성\n",
    "- 설명변수들 간의 완전한 또는 거의 완전한 선형종속 (linear dependency)의 관계를 의미\n",
    "\n",
    "<br>\n",
    "\n",
    "**종속변수 Y와 4개의 설명변수가 주어져 있는 경우**\n",
    "- 설명변수들 간 완전한 다중공선성이 존재할 시\n",
    "\n",
    "    $a_0 + a_1 X_1 + \\dots a_4 X_4 = 0$를 만족하는 상수 ($a_0 = \\dots a_4 = 0$을 만족하지 않음)가 존재\n",
    "\n",
    "- 이는 4개의 설명변수들 중 다른 3개의 설명변수를 알게되면 나머지 하나의 설명변수를 알 수 있어 **불필요한 정보가 중복**되어 있음을 의미하며, 수치적으로도 통상적인 최소제곱추정치 (LSE)를 구할 수 없음\n",
    "    \n",
    "    **(다중공선성의 문제는 종속변수 Y와는 관련이 없음)**\n",
    "\n",
    "- 완전한 다중공선성이 아니더라도, 위 식의 좌변이 거의 0에 가까워서, 설명변수들 간에 상당히 높은 선형종속의 관계가 존재하게 되면\n",
    "\n",
    "    **LSE가 이론상으로는 존재하나, 실제로 구하기가 어려울 뿐만 아니라 최소제곱추정치의 분산이 매우 커져서 구해진 추정치를 신뢰할 수 없게 됨**\n",
    "    \n",
    "<br>\n",
    "\n",
    "#### 다중공선성으로 인하여 나타나는 현상\n",
    "1. 중요하다고 생각되는 회귀계수에 대한 검정결과가 유의하지 않게 나타남\n",
    "2. 회귀계수 추정치의 부호가 경험적 또는 이론적 기대와 상반\n",
    "3. 하나 이상의 설명변수를 추가(제거)하면 회귀계수 추정치에 큰 변화가 발생\n",
    "4. 몇 개의 관측개체를 추가(제거)하면 회귀계수 추정치에 큰 변화가 생김\n",
    "\n",
    "<br>\n",
    "\n",
    "### 다중공선성 진단\n",
    " <br>\n",
    "\n",
    "#### 공차한계 (tolerance)\n",
    "\n",
    "$$Tolerance\\;=\\;1-R^2_{k}$$\n",
    "\n",
    "- **$R^2_{k}$는 $X_k$를 반응변수로 하고 나머지 변수들을 설명변수로 하여 회귀분석을 수행하였을 때의 결정계수**\n",
    "    - **따라서 공차한계가 작다는 것은 변수 $X_k$의 변이가 다른 설명변수들에 의해 설명되는 비율이 높다는 것을 의미**\n",
    "<br>\n",
    "\n",
    "#### 분산팽창인자 (VIF, variance inflation factor)\n",
    "- 공차한계의 역수\n",
    "\n",
    "$$VIF = {1 \\over {1-R^2_{k}}}$$\n",
    "\n",
    "- **분산팽창인자가 10보다 크면 (즉, 해당 변수의 변이가 다른 설명변수들에 의해서 90%이상 설명되면) 다중 공선성이 심각한 것으로 간주**\n",
    "\n",
    "<br>\n",
    "\n",
    "#### 상태지수 (condition index)\n",
    "\n",
    "$$CI_k = \\sqrt{{\\lambda_1}\\over{\\lambda_k}}$$\n",
    "\n",
    "- $\\lambda_k$는 설명변수들의 상관행렬 (또는 공분산행렬)에 대한 $k$번째 고윳값을 나타냄\n",
    "- **상태지수가 15보다 크면 다중공선성이 어느정도 존재하는 것으로, 100보다 크면 매우 심각한 것으로 간주**"
   ]
  },
  {
   "cell_type": "markdown",
   "id": "7ab8a839",
   "metadata": {},
   "source": [
    "<br>\n",
    "\n",
    "- 다중공선성 진단"
   ]
  },
  {
   "cell_type": "code",
   "execution_count": 140,
   "id": "980874c8",
   "metadata": {},
   "outputs": [],
   "source": [
    "library(olsrr)"
   ]
  },
  {
   "cell_type": "code",
   "execution_count": 142,
   "id": "ef3e4dd6",
   "metadata": {},
   "outputs": [
    {
     "data": {
      "text/html": [
       "<table class=\"dataframe\">\n",
       "<caption>A data.frame: 4 × 3</caption>\n",
       "<thead>\n",
       "\t<tr><th scope=col>Variables</th><th scope=col>Tolerance</th><th scope=col>VIF</th></tr>\n",
       "\t<tr><th scope=col>&lt;chr&gt;</th><th scope=col>&lt;dbl&gt;</th><th scope=col>&lt;dbl&gt;</th></tr>\n",
       "</thead>\n",
       "<tbody>\n",
       "\t<tr><td>X1</td><td>0.5920836</td><td>1.688951</td></tr>\n",
       "\t<tr><td>X2</td><td>0.4681276</td><td>2.136170</td></tr>\n",
       "\t<tr><td>X3</td><td>0.6367076</td><td>1.570580</td></tr>\n",
       "\t<tr><td>X4</td><td>0.5384257</td><td>1.857267</td></tr>\n",
       "</tbody>\n",
       "</table>\n"
      ],
      "text/latex": [
       "A data.frame: 4 × 3\n",
       "\\begin{tabular}{lll}\n",
       " Variables & Tolerance & VIF\\\\\n",
       " <chr> & <dbl> & <dbl>\\\\\n",
       "\\hline\n",
       "\t X1 & 0.5920836 & 1.688951\\\\\n",
       "\t X2 & 0.4681276 & 2.136170\\\\\n",
       "\t X3 & 0.6367076 & 1.570580\\\\\n",
       "\t X4 & 0.5384257 & 1.857267\\\\\n",
       "\\end{tabular}\n"
      ],
      "text/markdown": [
       "\n",
       "A data.frame: 4 × 3\n",
       "\n",
       "| Variables &lt;chr&gt; | Tolerance &lt;dbl&gt; | VIF &lt;dbl&gt; |\n",
       "|---|---|---|\n",
       "| X1 | 0.5920836 | 1.688951 |\n",
       "| X2 | 0.4681276 | 2.136170 |\n",
       "| X3 | 0.6367076 | 1.570580 |\n",
       "| X4 | 0.5384257 | 1.857267 |\n",
       "\n"
      ],
      "text/plain": [
       "  Variables Tolerance VIF     \n",
       "1 X1        0.5920836 1.688951\n",
       "2 X2        0.4681276 2.136170\n",
       "3 X3        0.6367076 1.570580\n",
       "4 X4        0.5384257 1.857267"
      ]
     },
     "metadata": {},
     "output_type": "display_data"
    }
   ],
   "source": [
    "Ability.A.fit <- lm(Y ~ X1 + X2 + X3 + X4, data = Ability)\n",
    "ols_vif_tol(Ability.A.fit)"
   ]
  },
  {
   "cell_type": "markdown",
   "id": "d12eeda7",
   "metadata": {},
   "source": [
    "<br>\n",
    "\n",
    "### 다중공선성 해결 방법\n",
    "1. 다중공선성에 관련되어 있는 일부 변수를 제거 (전진 선택법, 후진 제거법, 단계적 방법 등)\n",
    "2. 다중공선성에 관련되어 있는 변수들을 결합하여, 하나의 합성변수를 생성\n",
    "3. 더 넓은 범위의 독립변수들의 값에서 새로운 관측치를 얻어냄\n",
    "4. 능형회귀(ridge regression) 또는 주성분회귀(PCR) 등 편희 추정법 사용\n",
    "\n",
    "<br>\n",
    "\n",
    "#### 다중공선성은 잠재변수들 간에도 발생 가능\n",
    "- 잠재변수들 간의 상관성이 높게 나타나면, 그 잠재변수들이 구별되지 않는 변수들이라는 것을 의미"
   ]
  },
  {
   "cell_type": "markdown",
   "id": "bc8ffd72",
   "metadata": {},
   "source": [
    "<br>\n",
    "\n",
    "## 03.09. 가변수 - 질적 설명변수의 처리\n",
    "- 범주형 (categorical) 변수를 가변수(dummy variable)로 변환\n",
    "- 범주형 변수가 m개의 범주가 존재 $\\rightarrow$ m-1개의 가변수를 생성"
   ]
  },
  {
   "cell_type": "code",
   "execution_count": 144,
   "id": "2c5b3d66",
   "metadata": {},
   "outputs": [],
   "source": [
    "Ability %>% mutate(Educ1 = ifelse(Education == 1, 1, 0),\n",
    "                   Educ2 = ifelse(Education == 2, 1, 0)) -> Ability"
   ]
  },
  {
   "cell_type": "code",
   "execution_count": 145,
   "id": "0283b5e1",
   "metadata": {},
   "outputs": [
    {
     "data": {
      "text/plain": [
       "\n",
       "Call:\n",
       "lm(formula = Y ~ X1 + X2 + X3 + X4 + Educ1 + Educ2, data = Ability)\n",
       "\n",
       "Residuals:\n",
       "    Min      1Q  Median      3Q     Max \n",
       "-5.8525 -0.6615 -0.1012  1.0679  4.0231 \n",
       "\n",
       "Coefficients:\n",
       "            Estimate Standardized Std. Error t value Pr(>|t|)    \n",
       "(Intercept) 69.50862           NA    2.27601  30.540  < 2e-16 ***\n",
       "X1           0.10107      0.03901    0.10020   1.009   0.3188    \n",
       "X2           0.92921      0.31065    0.13449   6.909 1.74e-08 ***\n",
       "X3          -0.35956     -0.08078    0.16693  -2.154   0.0369 *  \n",
       "X4           0.84968      0.88438    0.05386  15.775  < 2e-16 ***\n",
       "Educ1        3.25538      0.13455    1.42417   2.286   0.0273 *  \n",
       "Educ2        0.96193      0.04783    0.77015   1.249   0.2184    \n",
       "---\n",
       "Signif. codes:  0 '***' 0.001 '**' 0.01 '*' 0.05 '.' 0.1 ' ' 1\n",
       "\n",
       "Residual standard error: 2.064 on 43 degrees of freedom\n",
       "Multiple R-squared:  0.9635,\tAdjusted R-squared:  0.9584 \n",
       "F-statistic: 189.2 on 6 and 43 DF,  p-value: < 2.2e-16\n"
      ]
     },
     "metadata": {},
     "output_type": "display_data"
    }
   ],
   "source": [
    "Ability.C.fit <- lm(Y ~ X1 + X2 + X3 + X4 + Educ1 + Educ2, Ability)\n",
    "Ability.C.beta <- lm.beta(Ability.C.fit)\n",
    "summary(Ability.C.beta)"
   ]
  },
  {
   "cell_type": "code",
   "execution_count": 148,
   "id": "259e6f93",
   "metadata": {},
   "outputs": [
    {
     "data": {
      "text/plain": [
       "\n",
       " Descriptive statistics by group \n",
       "group: 1\n",
       "  vars  n  mean   sd median trimmed  mad  min  max range skew kurtosis   se\n",
       "Y    1 11 93.07 3.29   92.8      93 2.97 87.3 99.5  12.2 0.16    -0.62 0.99\n",
       "------------------------------------------------------------ \n",
       "group: 2\n",
       "  vars  n  mean   sd median trimmed  mad min max range skew kurtosis   se\n",
       "Y    1 27 109.1 6.71  109.3  109.06 6.97  96 121    25 0.11    -0.94 1.29\n",
       "------------------------------------------------------------ \n",
       "group: 3\n",
       "  vars  n   mean   sd median trimmed mad  min   max range  skew kurtosis   se\n",
       "Y    1 12 113.47 9.51  117.5  114.18 6.3 97.5 122.3  24.8 -0.57    -1.53 2.75"
      ]
     },
     "metadata": {},
     "output_type": "display_data"
    }
   ],
   "source": [
    "psych::describeBy(select(Ability, \"Y\"), group = Ability$Education)"
   ]
  },
  {
   "cell_type": "markdown",
   "id": "e3b0b396",
   "metadata": {},
   "source": [
    "<br>\n",
    "\n",
    "### 요인변수를 이용한 다중 회귀분석"
   ]
  },
  {
   "cell_type": "code",
   "execution_count": 151,
   "id": "4c33a3f5",
   "metadata": {},
   "outputs": [
    {
     "data": {
      "text/plain": [
       "\n",
       "Call:\n",
       "lm(formula = Y ~ X1 + X2 + X3 + X4 + Education, data = Ability)\n",
       "\n",
       "Residuals:\n",
       "    Min      1Q  Median      3Q     Max \n",
       "-5.8525 -0.6615 -0.1012  1.0679  4.0231 \n",
       "\n",
       "Coefficients:\n",
       "            Estimate Standardized Std. Error t value Pr(>|t|)    \n",
       "(Intercept) 72.76400           NA    1.63410  44.529  < 2e-16 ***\n",
       "X1           0.10107      0.03901    0.10020   1.009   0.3188    \n",
       "X2           0.92921      0.31065    0.13449   6.909 1.74e-08 ***\n",
       "X3          -0.35956     -0.08078    0.16693  -2.154   0.0369 *  \n",
       "X4           0.84968      0.88438    0.05386  15.775  < 2e-16 ***\n",
       "Education2  -2.29346     -0.11405    1.14540  -2.002   0.0516 .  \n",
       "Education3  -3.25538     -0.13872    1.42417  -2.286   0.0273 *  \n",
       "---\n",
       "Signif. codes:  0 '***' 0.001 '**' 0.01 '*' 0.05 '.' 0.1 ' ' 1\n",
       "\n",
       "Residual standard error: 2.064 on 43 degrees of freedom\n",
       "Multiple R-squared:  0.9635,\tAdjusted R-squared:  0.9584 \n",
       "F-statistic: 189.2 on 6 and 43 DF,  p-value: < 2.2e-16\n"
      ]
     },
     "metadata": {},
     "output_type": "display_data"
    }
   ],
   "source": [
    "Ability %>% mutate(Education = as.factor(Education)) -> Ability\n",
    "\n",
    "Ability.D.fit <- lm(Y ~ X1 + X2 + X3 + X4 + Education, data = Ability)\n",
    "Ability.D.beta <- lm.beta(Ability.D.fit)\n",
    "summary(Ability.D.beta)"
   ]
  },
  {
   "cell_type": "markdown",
   "id": "9e90d9f9",
   "metadata": {},
   "source": [
    "<br>\n",
    "\n",
    "## 03.10. 다변량 회귀분석 (multivariate regression model)\n",
    "\n",
    "<br>\n",
    "\n",
    "### 다변량 회귀분석\n",
    "- **종속변수가 여러개**\n",
    "- **다변량 회귀모형에서는 일반적으로 내생 오차변수들 간에 서로 연관관계가 있는 것으로 가정되며, 내생오차들 간의 상관은 편상관의 의미를 가짐**"
   ]
  },
  {
   "cell_type": "code",
   "execution_count": 161,
   "id": "b7ce0467",
   "metadata": {},
   "outputs": [],
   "source": [
    "Student <- read.csv(paste0(getwd(), \"/Data/Student.csv\"), header = TRUE)"
   ]
  },
  {
   "cell_type": "code",
   "execution_count": 162,
   "id": "7116deeb",
   "metadata": {},
   "outputs": [],
   "source": [
    "Student.model <- '\n",
    "    # regression\n",
    "    Y1 ~ X1 + X2 + X3\n",
    "    Y2 ~ X1 + X2 + X3\n",
    "\n",
    "    # residual correlations\n",
    "    Y1 ~~ Y2\n",
    "'"
   ]
  },
  {
   "cell_type": "code",
   "execution_count": 169,
   "id": "aaca1efc",
   "metadata": {},
   "outputs": [
    {
     "data": {
      "text/html": [
       "<table class=\"dataframe\">\n",
       "<caption>A data.frame: 22 × 11</caption>\n",
       "<thead>\n",
       "\t<tr><th scope=col>lhs</th><th scope=col>op</th><th scope=col>rhs</th><th scope=col>exo</th><th scope=col>est</th><th scope=col>se</th><th scope=col>z</th><th scope=col>pvalue</th><th scope=col>std.lv</th><th scope=col>std.all</th><th scope=col>std.nox</th></tr>\n",
       "\t<tr><th scope=col>&lt;chr&gt;</th><th scope=col>&lt;chr&gt;</th><th scope=col>&lt;chr&gt;</th><th scope=col>&lt;int&gt;</th><th scope=col>&lt;dbl&gt;</th><th scope=col>&lt;dbl&gt;</th><th scope=col>&lt;dbl&gt;</th><th scope=col>&lt;dbl&gt;</th><th scope=col>&lt;dbl&gt;</th><th scope=col>&lt;dbl&gt;</th><th scope=col>&lt;dbl&gt;</th></tr>\n",
       "</thead>\n",
       "<tbody>\n",
       "\t<tr><td>Y1</td><td>~ </td><td>X1</td><td>0</td><td>  0.085396195</td><td>0.02308286</td><td> 3.6995507</td><td>0.0002159815</td><td>  0.085396195</td><td>  0.76342387</td><td>  0.11470875</td></tr>\n",
       "\t<tr><td>Y1</td><td>~ </td><td>X2</td><td>0</td><td>  0.008218687</td><td>0.04155762</td><td> 0.1977660</td><td>0.8432281210</td><td>  0.008218687</td><td>  0.03417382</td><td>  0.01103978</td></tr>\n",
       "\t<tr><td>Y1</td><td>~ </td><td>X3</td><td>0</td><td> -0.014932517</td><td>0.09573179</td><td>-0.1559828</td><td>0.8760465482</td><td> -0.014932517</td><td> -0.03180650</td><td> -0.02005816</td></tr>\n",
       "\t<tr><td>Y2</td><td>~ </td><td>X1</td><td>0</td><td>  0.047247442</td><td>0.02219326</td><td> 2.1289096</td><td>0.0332617389</td><td>  0.047247442</td><td>  0.37481416</td><td>  0.05631795</td></tr>\n",
       "\t<tr><td>Y2</td><td>~ </td><td>X2</td><td>0</td><td>  0.145418237</td><td>0.03995602</td><td> 3.6394572</td><td>0.0002732134</td><td>  0.145418237</td><td>  0.53656273</td><td>  0.17333545</td></tr>\n",
       "\t<tr><td>Y2</td><td>~ </td><td>X3</td><td>0</td><td>  0.125733434</td><td>0.09204236</td><td> 1.3660388</td><td>0.1719267796</td><td>  0.125733434</td><td>  0.23765346</td><td>  0.14987158</td></tr>\n",
       "\t<tr><td>Y1</td><td>~~</td><td>Y2</td><td>0</td><td>  0.157960996</td><td>0.07213367</td><td> 2.1898371</td><td>0.0285360538</td><td>  0.157960996</td><td>  0.68550958</td><td>  0.68550958</td></tr>\n",
       "\t<tr><td>Y1</td><td>~~</td><td>Y1</td><td>0</td><td>  0.239665095</td><td>0.08751332</td><td> 2.7386128</td><td>0.0061698997</td><td>  0.239665095</td><td>  0.43243501</td><td>  0.43243501</td></tr>\n",
       "\t<tr><td>Y2</td><td>~~</td><td>Y2</td><td>0</td><td>  0.221548023</td><td>0.08089790</td><td> 2.7386128</td><td>0.0061698994</td><td>  0.221548023</td><td>  0.31477838</td><td>  0.31477838</td></tr>\n",
       "\t<tr><td>X1</td><td>~~</td><td>X1</td><td>1</td><td> 44.293333333</td><td>0.00000000</td><td>        NA</td><td>          NA</td><td> 44.293333333</td><td>  1.00000000</td><td> 44.29333333</td></tr>\n",
       "\t<tr><td>X1</td><td>~~</td><td>X2</td><td>1</td><td>  3.826666667</td><td>0.00000000</td><td>        NA</td><td>          NA</td><td>  3.826666667</td><td>  0.18574551</td><td>  3.82666667</td></tr>\n",
       "\t<tr><td>X1</td><td>~~</td><td>X3</td><td>1</td><td>  5.844000000</td><td>0.00000000</td><td>        NA</td><td>          NA</td><td>  5.844000000</td><td>  0.55375309</td><td>  5.84400000</td></tr>\n",
       "\t<tr><td>X2</td><td>~~</td><td>X2</td><td>1</td><td>  9.582222222</td><td>0.00000000</td><td>        NA</td><td>          NA</td><td>  9.582222222</td><td>  1.00000000</td><td>  9.58222222</td></tr>\n",
       "\t<tr><td>X2</td><td>~~</td><td>X3</td><td>1</td><td>  0.519555556</td><td>0.00000000</td><td>        NA</td><td>          NA</td><td>  0.519555556</td><td>  0.10584589</td><td>  0.51955556</td></tr>\n",
       "\t<tr><td>X3</td><td>~~</td><td>X3</td><td>1</td><td>  2.514488889</td><td>0.00000000</td><td>        NA</td><td>          NA</td><td>  2.514488889</td><td>  1.00000000</td><td>  2.51448889</td></tr>\n",
       "\t<tr><td>Y1</td><td>~1</td><td>  </td><td>0</td><td> -5.619173314</td><td>4.80782101</td><td>-1.1687568</td><td>0.2425016456</td><td> -5.619173314</td><td> -7.54797511</td><td> -7.54797511</td></tr>\n",
       "\t<tr><td>Y2</td><td>~1</td><td>  </td><td>0</td><td>-20.404699836</td><td>4.62253105</td><td>-4.4141834</td><td>0.0000101392</td><td>-20.404699836</td><td>-24.32196836</td><td>-24.32196836</td></tr>\n",
       "\t<tr><td>X1</td><td>~1</td><td>  </td><td>1</td><td> 84.200000000</td><td>0.00000000</td><td>        NA</td><td>          NA</td><td> 84.200000000</td><td> 12.65152591</td><td> 84.20000000</td></tr>\n",
       "\t<tr><td>X2</td><td>~1</td><td>  </td><td>1</td><td>115.533333333</td><td>0.00000000</td><td>        NA</td><td>          NA</td><td>115.533333333</td><td> 37.32279715</td><td>115.53333333</td></tr>\n",
       "\t<tr><td>X3</td><td>~1</td><td>  </td><td>1</td><td> 17.013333333</td><td>0.00000000</td><td>        NA</td><td>          NA</td><td> 17.013333333</td><td> 10.72913106</td><td> 17.01333333</td></tr>\n",
       "\t<tr><td>Y1</td><td>r2</td><td>Y1</td><td>0</td><td>  0.567564986</td><td>        NA</td><td>        NA</td><td>          NA</td><td>           NA</td><td>          NA</td><td>          NA</td></tr>\n",
       "\t<tr><td>Y2</td><td>r2</td><td>Y2</td><td>0</td><td>  0.685221619</td><td>        NA</td><td>        NA</td><td>          NA</td><td>           NA</td><td>          NA</td><td>          NA</td></tr>\n",
       "</tbody>\n",
       "</table>\n"
      ],
      "text/latex": [
       "A data.frame: 22 × 11\n",
       "\\begin{tabular}{lllllllllll}\n",
       " lhs & op & rhs & exo & est & se & z & pvalue & std.lv & std.all & std.nox\\\\\n",
       " <chr> & <chr> & <chr> & <int> & <dbl> & <dbl> & <dbl> & <dbl> & <dbl> & <dbl> & <dbl>\\\\\n",
       "\\hline\n",
       "\t Y1 & \\textasciitilde{}  & X1 & 0 &   0.085396195 & 0.02308286 &  3.6995507 & 0.0002159815 &   0.085396195 &   0.76342387 &   0.11470875\\\\\n",
       "\t Y1 & \\textasciitilde{}  & X2 & 0 &   0.008218687 & 0.04155762 &  0.1977660 & 0.8432281210 &   0.008218687 &   0.03417382 &   0.01103978\\\\\n",
       "\t Y1 & \\textasciitilde{}  & X3 & 0 &  -0.014932517 & 0.09573179 & -0.1559828 & 0.8760465482 &  -0.014932517 &  -0.03180650 &  -0.02005816\\\\\n",
       "\t Y2 & \\textasciitilde{}  & X1 & 0 &   0.047247442 & 0.02219326 &  2.1289096 & 0.0332617389 &   0.047247442 &   0.37481416 &   0.05631795\\\\\n",
       "\t Y2 & \\textasciitilde{}  & X2 & 0 &   0.145418237 & 0.03995602 &  3.6394572 & 0.0002732134 &   0.145418237 &   0.53656273 &   0.17333545\\\\\n",
       "\t Y2 & \\textasciitilde{}  & X3 & 0 &   0.125733434 & 0.09204236 &  1.3660388 & 0.1719267796 &   0.125733434 &   0.23765346 &   0.14987158\\\\\n",
       "\t Y1 & \\textasciitilde{}\\textasciitilde{} & Y2 & 0 &   0.157960996 & 0.07213367 &  2.1898371 & 0.0285360538 &   0.157960996 &   0.68550958 &   0.68550958\\\\\n",
       "\t Y1 & \\textasciitilde{}\\textasciitilde{} & Y1 & 0 &   0.239665095 & 0.08751332 &  2.7386128 & 0.0061698997 &   0.239665095 &   0.43243501 &   0.43243501\\\\\n",
       "\t Y2 & \\textasciitilde{}\\textasciitilde{} & Y2 & 0 &   0.221548023 & 0.08089790 &  2.7386128 & 0.0061698994 &   0.221548023 &   0.31477838 &   0.31477838\\\\\n",
       "\t X1 & \\textasciitilde{}\\textasciitilde{} & X1 & 1 &  44.293333333 & 0.00000000 &         NA &           NA &  44.293333333 &   1.00000000 &  44.29333333\\\\\n",
       "\t X1 & \\textasciitilde{}\\textasciitilde{} & X2 & 1 &   3.826666667 & 0.00000000 &         NA &           NA &   3.826666667 &   0.18574551 &   3.82666667\\\\\n",
       "\t X1 & \\textasciitilde{}\\textasciitilde{} & X3 & 1 &   5.844000000 & 0.00000000 &         NA &           NA &   5.844000000 &   0.55375309 &   5.84400000\\\\\n",
       "\t X2 & \\textasciitilde{}\\textasciitilde{} & X2 & 1 &   9.582222222 & 0.00000000 &         NA &           NA &   9.582222222 &   1.00000000 &   9.58222222\\\\\n",
       "\t X2 & \\textasciitilde{}\\textasciitilde{} & X3 & 1 &   0.519555556 & 0.00000000 &         NA &           NA &   0.519555556 &   0.10584589 &   0.51955556\\\\\n",
       "\t X3 & \\textasciitilde{}\\textasciitilde{} & X3 & 1 &   2.514488889 & 0.00000000 &         NA &           NA &   2.514488889 &   1.00000000 &   2.51448889\\\\\n",
       "\t Y1 & \\textasciitilde{}1 &    & 0 &  -5.619173314 & 4.80782101 & -1.1687568 & 0.2425016456 &  -5.619173314 &  -7.54797511 &  -7.54797511\\\\\n",
       "\t Y2 & \\textasciitilde{}1 &    & 0 & -20.404699836 & 4.62253105 & -4.4141834 & 0.0000101392 & -20.404699836 & -24.32196836 & -24.32196836\\\\\n",
       "\t X1 & \\textasciitilde{}1 &    & 1 &  84.200000000 & 0.00000000 &         NA &           NA &  84.200000000 &  12.65152591 &  84.20000000\\\\\n",
       "\t X2 & \\textasciitilde{}1 &    & 1 & 115.533333333 & 0.00000000 &         NA &           NA & 115.533333333 &  37.32279715 & 115.53333333\\\\\n",
       "\t X3 & \\textasciitilde{}1 &    & 1 &  17.013333333 & 0.00000000 &         NA &           NA &  17.013333333 &  10.72913106 &  17.01333333\\\\\n",
       "\t Y1 & r2 & Y1 & 0 &   0.567564986 &         NA &         NA &           NA &            NA &           NA &           NA\\\\\n",
       "\t Y2 & r2 & Y2 & 0 &   0.685221619 &         NA &         NA &           NA &            NA &           NA &           NA\\\\\n",
       "\\end{tabular}\n"
      ],
      "text/markdown": [
       "\n",
       "A data.frame: 22 × 11\n",
       "\n",
       "| lhs &lt;chr&gt; | op &lt;chr&gt; | rhs &lt;chr&gt; | exo &lt;int&gt; | est &lt;dbl&gt; | se &lt;dbl&gt; | z &lt;dbl&gt; | pvalue &lt;dbl&gt; | std.lv &lt;dbl&gt; | std.all &lt;dbl&gt; | std.nox &lt;dbl&gt; |\n",
       "|---|---|---|---|---|---|---|---|---|---|---|\n",
       "| Y1 | ~  | X1 | 0 |   0.085396195 | 0.02308286 |  3.6995507 | 0.0002159815 |   0.085396195 |   0.76342387 |   0.11470875 |\n",
       "| Y1 | ~  | X2 | 0 |   0.008218687 | 0.04155762 |  0.1977660 | 0.8432281210 |   0.008218687 |   0.03417382 |   0.01103978 |\n",
       "| Y1 | ~  | X3 | 0 |  -0.014932517 | 0.09573179 | -0.1559828 | 0.8760465482 |  -0.014932517 |  -0.03180650 |  -0.02005816 |\n",
       "| Y2 | ~  | X1 | 0 |   0.047247442 | 0.02219326 |  2.1289096 | 0.0332617389 |   0.047247442 |   0.37481416 |   0.05631795 |\n",
       "| Y2 | ~  | X2 | 0 |   0.145418237 | 0.03995602 |  3.6394572 | 0.0002732134 |   0.145418237 |   0.53656273 |   0.17333545 |\n",
       "| Y2 | ~  | X3 | 0 |   0.125733434 | 0.09204236 |  1.3660388 | 0.1719267796 |   0.125733434 |   0.23765346 |   0.14987158 |\n",
       "| Y1 | ~~ | Y2 | 0 |   0.157960996 | 0.07213367 |  2.1898371 | 0.0285360538 |   0.157960996 |   0.68550958 |   0.68550958 |\n",
       "| Y1 | ~~ | Y1 | 0 |   0.239665095 | 0.08751332 |  2.7386128 | 0.0061698997 |   0.239665095 |   0.43243501 |   0.43243501 |\n",
       "| Y2 | ~~ | Y2 | 0 |   0.221548023 | 0.08089790 |  2.7386128 | 0.0061698994 |   0.221548023 |   0.31477838 |   0.31477838 |\n",
       "| X1 | ~~ | X1 | 1 |  44.293333333 | 0.00000000 |         NA |           NA |  44.293333333 |   1.00000000 |  44.29333333 |\n",
       "| X1 | ~~ | X2 | 1 |   3.826666667 | 0.00000000 |         NA |           NA |   3.826666667 |   0.18574551 |   3.82666667 |\n",
       "| X1 | ~~ | X3 | 1 |   5.844000000 | 0.00000000 |         NA |           NA |   5.844000000 |   0.55375309 |   5.84400000 |\n",
       "| X2 | ~~ | X2 | 1 |   9.582222222 | 0.00000000 |         NA |           NA |   9.582222222 |   1.00000000 |   9.58222222 |\n",
       "| X2 | ~~ | X3 | 1 |   0.519555556 | 0.00000000 |         NA |           NA |   0.519555556 |   0.10584589 |   0.51955556 |\n",
       "| X3 | ~~ | X3 | 1 |   2.514488889 | 0.00000000 |         NA |           NA |   2.514488889 |   1.00000000 |   2.51448889 |\n",
       "| Y1 | ~1 | <!----> | 0 |  -5.619173314 | 4.80782101 | -1.1687568 | 0.2425016456 |  -5.619173314 |  -7.54797511 |  -7.54797511 |\n",
       "| Y2 | ~1 | <!----> | 0 | -20.404699836 | 4.62253105 | -4.4141834 | 0.0000101392 | -20.404699836 | -24.32196836 | -24.32196836 |\n",
       "| X1 | ~1 | <!----> | 1 |  84.200000000 | 0.00000000 |         NA |           NA |  84.200000000 |  12.65152591 |  84.20000000 |\n",
       "| X2 | ~1 | <!----> | 1 | 115.533333333 | 0.00000000 |         NA |           NA | 115.533333333 |  37.32279715 | 115.53333333 |\n",
       "| X3 | ~1 | <!----> | 1 |  17.013333333 | 0.00000000 |         NA |           NA |  17.013333333 |  10.72913106 |  17.01333333 |\n",
       "| Y1 | r2 | Y1 | 0 |   0.567564986 |         NA |         NA |           NA |            NA |           NA |           NA |\n",
       "| Y2 | r2 | Y2 | 0 |   0.685221619 |         NA |         NA |           NA |            NA |           NA |           NA |\n",
       "\n"
      ],
      "text/plain": [
       "   lhs op rhs exo est           se         z          pvalue      \n",
       "1  Y1  ~  X1  0     0.085396195 0.02308286  3.6995507 0.0002159815\n",
       "2  Y1  ~  X2  0     0.008218687 0.04155762  0.1977660 0.8432281210\n",
       "3  Y1  ~  X3  0    -0.014932517 0.09573179 -0.1559828 0.8760465482\n",
       "4  Y2  ~  X1  0     0.047247442 0.02219326  2.1289096 0.0332617389\n",
       "5  Y2  ~  X2  0     0.145418237 0.03995602  3.6394572 0.0002732134\n",
       "6  Y2  ~  X3  0     0.125733434 0.09204236  1.3660388 0.1719267796\n",
       "7  Y1  ~~ Y2  0     0.157960996 0.07213367  2.1898371 0.0285360538\n",
       "8  Y1  ~~ Y1  0     0.239665095 0.08751332  2.7386128 0.0061698997\n",
       "9  Y2  ~~ Y2  0     0.221548023 0.08089790  2.7386128 0.0061698994\n",
       "10 X1  ~~ X1  1    44.293333333 0.00000000         NA           NA\n",
       "11 X1  ~~ X2  1     3.826666667 0.00000000         NA           NA\n",
       "12 X1  ~~ X3  1     5.844000000 0.00000000         NA           NA\n",
       "13 X2  ~~ X2  1     9.582222222 0.00000000         NA           NA\n",
       "14 X2  ~~ X3  1     0.519555556 0.00000000         NA           NA\n",
       "15 X3  ~~ X3  1     2.514488889 0.00000000         NA           NA\n",
       "16 Y1  ~1     0    -5.619173314 4.80782101 -1.1687568 0.2425016456\n",
       "17 Y2  ~1     0   -20.404699836 4.62253105 -4.4141834 0.0000101392\n",
       "18 X1  ~1     1    84.200000000 0.00000000         NA           NA\n",
       "19 X2  ~1     1   115.533333333 0.00000000         NA           NA\n",
       "20 X3  ~1     1    17.013333333 0.00000000         NA           NA\n",
       "21 Y1  r2 Y1  0     0.567564986         NA         NA           NA\n",
       "22 Y2  r2 Y2  0     0.685221619         NA         NA           NA\n",
       "   std.lv        std.all      std.nox     \n",
       "1    0.085396195   0.76342387   0.11470875\n",
       "2    0.008218687   0.03417382   0.01103978\n",
       "3   -0.014932517  -0.03180650  -0.02005816\n",
       "4    0.047247442   0.37481416   0.05631795\n",
       "5    0.145418237   0.53656273   0.17333545\n",
       "6    0.125733434   0.23765346   0.14987158\n",
       "7    0.157960996   0.68550958   0.68550958\n",
       "8    0.239665095   0.43243501   0.43243501\n",
       "9    0.221548023   0.31477838   0.31477838\n",
       "10  44.293333333   1.00000000  44.29333333\n",
       "11   3.826666667   0.18574551   3.82666667\n",
       "12   5.844000000   0.55375309   5.84400000\n",
       "13   9.582222222   1.00000000   9.58222222\n",
       "14   0.519555556   0.10584589   0.51955556\n",
       "15   2.514488889   1.00000000   2.51448889\n",
       "16  -5.619173314  -7.54797511  -7.54797511\n",
       "17 -20.404699836 -24.32196836 -24.32196836\n",
       "18  84.200000000  12.65152591  84.20000000\n",
       "19 115.533333333  37.32279715 115.53333333\n",
       "20  17.013333333  10.72913106  17.01333333\n",
       "21            NA           NA           NA\n",
       "22            NA           NA           NA"
      ]
     },
     "metadata": {},
     "output_type": "display_data"
    }
   ],
   "source": [
    "Student.fit <- sem(Student.model, data = Student, missing=\"ml\", fixed.x = TRUE)\n",
    "summary(Student.fit, rsquare = TRUE, standardized = TRUE)$pe"
   ]
  },
  {
   "cell_type": "code",
   "execution_count": 168,
   "id": "511c161b",
   "metadata": {},
   "outputs": [
    {
     "data": {
      "image/png": "[encoded data removed]",
      "text/plain": [
       "plot without title"
      ]
     },
     "metadata": {
      "image/png": {
       "height": 420,
       "width": 420
      }
     },
     "output_type": "display_data"
    }
   ],
   "source": [
    "semPaths(Student.fit, whatLabels = \"std\", nCharNodes = 0, rotation = 2)"
   ]
  },
  {
   "cell_type": "markdown",
   "id": "4871a7af",
   "metadata": {},
   "source": [
    "<br>\n",
    "\n",
    "#### 다변량 회귀분석의 결과\n",
    "* **회귀계수**\n",
    "\n",
    "| 내생변수 | 설명변수 | 회귀계수 | 표준화 추정치 | p-값 | SMC ($R^2$) |\n",
    "| - | - | - | - | - | - |\n",
    "| Y1 | Intercept | -5.619 | - | 0.243 | 0.568 |\n",
    "| Y1 | X1 | 0.085 | 0.763 | <0.001 |  |\n",
    "| Y1 | X2 | 0.008 | 0.034 | 0.843 |  |\n",
    "| Y1 | X3 | -0.015 | -0.032 | 0.876 | |\n",
    "|   |\n",
    "| Y2 | Intercept | -20.405 | - | <0.001 | 0.685 |\n",
    "| Y2 | X1 | 0.0.047 | 0.375 | 0.033 |  |\n",
    "| Y2 | X2 | 0.145 | 0.537 | <0.001 |  |\n",
    "| Y2 | X3 | -0.015 | -0.126 | 0.172 | |\n",
    "\n",
    "\n",
    "* **편상관**\n",
    "| 내생변수 | 공분산 | 상관계수 | p-값 | \n",
    "| - | - | - | - |\n",
    "| Y1, Y2 | 0.158 | 0.686 | 0.029 |\n"
   ]
  },
  {
   "cell_type": "markdown",
   "id": "cc475651",
   "metadata": {},
   "source": [
    "<br>\n",
    "\n",
    "#### 결측값이 있는 경우의 다변량 회귀분석\n",
    "- 15개의 행 중 11개만 사용"
   ]
  },
  {
   "cell_type": "code",
   "execution_count": 181,
   "id": "5e689c3a",
   "metadata": {},
   "outputs": [
    {
     "data": {
      "text/plain": [
       "lavaan 0.6.16 ended normally after 68 iterations\n",
       "\n",
       "  Estimator                                         ML\n",
       "  Optimization method                           NLMINB\n",
       "  Number of model parameters                        20\n",
       "\n",
       "  Number of observations                            15\n",
       "  Number of missing patterns                         5\n",
       "\n",
       "Model Test User Model:\n",
       "                                                      \n",
       "  Test statistic                                 0.000\n",
       "  Degrees of freedom                                 0"
      ]
     },
     "metadata": {},
     "output_type": "display_data"
    }
   ],
   "source": [
    "Stu_Missing <- read.csv(paste0(getwd(), \"/Data/Stu_Missing.csv\"), header = TRUE)\n",
    "Stu_MissingA.fit <- sem(Student.model, data = Stu_Missing, fixed.x = FALSE, missing=\"ml\")\n",
    "Stu_MissingA.fit"
   ]
  },
  {
   "cell_type": "code",
   "execution_count": 177,
   "id": "65906e87",
   "metadata": {},
   "outputs": [
    {
     "data": {
      "text/html": [
       "<table class=\"dataframe\">\n",
       "<caption>A data.frame: 22 × 11</caption>\n",
       "<thead>\n",
       "\t<tr><th scope=col>lhs</th><th scope=col>op</th><th scope=col>rhs</th><th scope=col>exo</th><th scope=col>est</th><th scope=col>se</th><th scope=col>z</th><th scope=col>pvalue</th><th scope=col>std.lv</th><th scope=col>std.all</th><th scope=col>std.nox</th></tr>\n",
       "\t<tr><th scope=col>&lt;chr&gt;</th><th scope=col>&lt;chr&gt;</th><th scope=col>&lt;chr&gt;</th><th scope=col>&lt;int&gt;</th><th scope=col>&lt;dbl&gt;</th><th scope=col>&lt;dbl&gt;</th><th scope=col>&lt;dbl&gt;</th><th scope=col>&lt;dbl&gt;</th><th scope=col>&lt;dbl&gt;</th><th scope=col>&lt;dbl&gt;</th><th scope=col>&lt;dbl&gt;</th></tr>\n",
       "</thead>\n",
       "<tbody>\n",
       "\t<tr><td>Y1</td><td>~ </td><td>X1</td><td>0</td><td>  0.08988341</td><td> 0.02043331</td><td>  4.3988675</td><td>1.088172e-05</td><td>  0.08988341</td><td>  0.80956637</td><td>  0.12371157</td></tr>\n",
       "\t<tr><td>Y1</td><td>~ </td><td>X2</td><td>0</td><td> -0.02986909</td><td> 0.04723512</td><td> -0.6323493</td><td>5.271587e-01</td><td> -0.02986909</td><td> -0.13033093</td><td> -0.04111050</td></tr>\n",
       "\t<tr><td>Y1</td><td>~ </td><td>X3</td><td>0</td><td>  0.10045069</td><td> 0.11135503</td><td>  0.9020759</td><td>3.670166e-01</td><td>  0.10045069</td><td>  0.21923433</td><td>  0.13825591</td></tr>\n",
       "\t<tr><td>Y2</td><td>~ </td><td>X1</td><td>0</td><td>  0.05936976</td><td> 0.01974907</td><td>  3.0062049</td><td>2.645307e-03</td><td>  0.05936976</td><td>  0.45926301</td><td>  0.07018096</td></tr>\n",
       "\t<tr><td>Y2</td><td>~ </td><td>X2</td><td>0</td><td>  0.09892284</td><td> 0.04429804</td><td>  2.2331198</td><td>2.554104e-02</td><td>  0.09892284</td><td>  0.37071935</td><td>  0.11693663</td></tr>\n",
       "\t<tr><td>Y2</td><td>~ </td><td>X3</td><td>0</td><td>  0.22320460</td><td> 0.11456793</td><td>  1.9482294</td><td>5.138752e-02</td><td>  0.22320460</td><td>  0.41839068</td><td>  0.26385002</td></tr>\n",
       "\t<tr><td>Y1</td><td>~~</td><td>Y2</td><td>0</td><td>  0.10721248</td><td> 0.06059457</td><td>  1.7693415</td><td>7.683690e-02</td><td>  0.10721248</td><td>  0.59173988</td><td>  0.59173988</td></tr>\n",
       "\t<tr><td>Y1</td><td>~~</td><td>Y1</td><td>0</td><td>  0.18308886</td><td> 0.07607844</td><td>  2.4065801</td><td>1.610267e-02</td><td>  0.18308886</td><td>  0.34683545</td><td>  0.34683545</td></tr>\n",
       "\t<tr><td>Y2</td><td>~~</td><td>Y2</td><td>0</td><td>  0.17929456</td><td> 0.07405478</td><td>  2.4211072</td><td>1.547331e-02</td><td>  0.17929456</td><td>  0.25053886</td><td>  0.25053886</td></tr>\n",
       "\t<tr><td>X1</td><td>~~</td><td>X1</td><td>0</td><td> 42.82371182</td><td>18.38822054</td><td>  2.3288666</td><td>1.986614e-02</td><td> 42.82371182</td><td>  1.00000000</td><td> 42.82371182</td></tr>\n",
       "\t<tr><td>X1</td><td>~~</td><td>X2</td><td>0</td><td>  9.43051495</td><td> 6.35247974</td><td>  1.4845407</td><td>1.376655e-01</td><td>  9.43051495</td><td>  0.45456769</td><td>  9.43051495</td></tr>\n",
       "\t<tr><td>X1</td><td>~~</td><td>X3</td><td>0</td><td>  1.01803307</td><td> 3.56548793</td><td>  0.2855242</td><td>7.752426e-01</td><td>  1.01803307</td><td>  0.09810584</td><td>  1.01803307</td></tr>\n",
       "\t<tr><td>X2</td><td>~~</td><td>X2</td><td>0</td><td> 10.05053963</td><td> 3.96837536</td><td>  2.5326585</td><td>1.132012e-02</td><td> 10.05053963</td><td>  1.00000000</td><td> 10.05053963</td></tr>\n",
       "\t<tr><td>X2</td><td>~~</td><td>X3</td><td>0</td><td>  0.54394394</td><td> 1.31665691</td><td>  0.4131250</td><td>6.795150e-01</td><td>  0.54394394</td><td>  0.10820183</td><td>  0.54394394</td></tr>\n",
       "\t<tr><td>X3</td><td>~~</td><td>X3</td><td>0</td><td>  2.51448887</td><td> 0.91816151</td><td>  2.7386128</td><td>6.169899e-03</td><td>  2.51448887</td><td>  1.00000000</td><td>  2.51448887</td></tr>\n",
       "\t<tr><td>Y1</td><td>~1</td><td>  </td><td>0</td><td> -3.53020469</td><td> 4.85164877</td><td> -0.7276299</td><td>4.668402e-01</td><td> -3.53020469</td><td> -4.85881841</td><td> -4.85881841</td></tr>\n",
       "\t<tr><td>Y2</td><td>~1</td><td>  </td><td>0</td><td>-17.65446745</td><td> 4.47527074</td><td> -3.9448937</td><td>7.983538e-05</td><td>-17.65446745</td><td>-20.86933507</td><td>-20.86933507</td></tr>\n",
       "\t<tr><td>X1</td><td>~1</td><td>  </td><td>0</td><td> 83.24648003</td><td> 1.81435359</td><td> 45.8821700</td><td>0.000000e+00</td><td> 83.24648003</td><td> 12.72107242</td><td> 83.24648003</td></tr>\n",
       "\t<tr><td>X2</td><td>~1</td><td>  </td><td>0</td><td>115.50663070</td><td> 0.83956869</td><td>137.5785357</td><td>0.000000e+00</td><td>115.50663070</td><td> 36.43445063</td><td>115.50663070</td></tr>\n",
       "\t<tr><td>X3</td><td>~1</td><td>  </td><td>0</td><td> 17.01333333</td><td> 0.40942959</td><td> 41.5537461</td><td>0.000000e+00</td><td> 17.01333333</td><td> 10.72913110</td><td> 17.01333333</td></tr>\n",
       "\t<tr><td>Y1</td><td>r2</td><td>Y1</td><td>0</td><td>  0.65316455</td><td>         NA</td><td>         NA</td><td>          NA</td><td>          NA</td><td>          NA</td><td>          NA</td></tr>\n",
       "\t<tr><td>Y2</td><td>r2</td><td>Y2</td><td>0</td><td>  0.74946114</td><td>         NA</td><td>         NA</td><td>          NA</td><td>          NA</td><td>          NA</td><td>          NA</td></tr>\n",
       "</tbody>\n",
       "</table>\n"
      ],
      "text/latex": [
       "A data.frame: 22 × 11\n",
       "\\begin{tabular}{lllllllllll}\n",
       " lhs & op & rhs & exo & est & se & z & pvalue & std.lv & std.all & std.nox\\\\\n",
       " <chr> & <chr> & <chr> & <int> & <dbl> & <dbl> & <dbl> & <dbl> & <dbl> & <dbl> & <dbl>\\\\\n",
       "\\hline\n",
       "\t Y1 & \\textasciitilde{}  & X1 & 0 &   0.08988341 &  0.02043331 &   4.3988675 & 1.088172e-05 &   0.08988341 &   0.80956637 &   0.12371157\\\\\n",
       "\t Y1 & \\textasciitilde{}  & X2 & 0 &  -0.02986909 &  0.04723512 &  -0.6323493 & 5.271587e-01 &  -0.02986909 &  -0.13033093 &  -0.04111050\\\\\n",
       "\t Y1 & \\textasciitilde{}  & X3 & 0 &   0.10045069 &  0.11135503 &   0.9020759 & 3.670166e-01 &   0.10045069 &   0.21923433 &   0.13825591\\\\\n",
       "\t Y2 & \\textasciitilde{}  & X1 & 0 &   0.05936976 &  0.01974907 &   3.0062049 & 2.645307e-03 &   0.05936976 &   0.45926301 &   0.07018096\\\\\n",
       "\t Y2 & \\textasciitilde{}  & X2 & 0 &   0.09892284 &  0.04429804 &   2.2331198 & 2.554104e-02 &   0.09892284 &   0.37071935 &   0.11693663\\\\\n",
       "\t Y2 & \\textasciitilde{}  & X3 & 0 &   0.22320460 &  0.11456793 &   1.9482294 & 5.138752e-02 &   0.22320460 &   0.41839068 &   0.26385002\\\\\n",
       "\t Y1 & \\textasciitilde{}\\textasciitilde{} & Y2 & 0 &   0.10721248 &  0.06059457 &   1.7693415 & 7.683690e-02 &   0.10721248 &   0.59173988 &   0.59173988\\\\\n",
       "\t Y1 & \\textasciitilde{}\\textasciitilde{} & Y1 & 0 &   0.18308886 &  0.07607844 &   2.4065801 & 1.610267e-02 &   0.18308886 &   0.34683545 &   0.34683545\\\\\n",
       "\t Y2 & \\textasciitilde{}\\textasciitilde{} & Y2 & 0 &   0.17929456 &  0.07405478 &   2.4211072 & 1.547331e-02 &   0.17929456 &   0.25053886 &   0.25053886\\\\\n",
       "\t X1 & \\textasciitilde{}\\textasciitilde{} & X1 & 0 &  42.82371182 & 18.38822054 &   2.3288666 & 1.986614e-02 &  42.82371182 &   1.00000000 &  42.82371182\\\\\n",
       "\t X1 & \\textasciitilde{}\\textasciitilde{} & X2 & 0 &   9.43051495 &  6.35247974 &   1.4845407 & 1.376655e-01 &   9.43051495 &   0.45456769 &   9.43051495\\\\\n",
       "\t X1 & \\textasciitilde{}\\textasciitilde{} & X3 & 0 &   1.01803307 &  3.56548793 &   0.2855242 & 7.752426e-01 &   1.01803307 &   0.09810584 &   1.01803307\\\\\n",
       "\t X2 & \\textasciitilde{}\\textasciitilde{} & X2 & 0 &  10.05053963 &  3.96837536 &   2.5326585 & 1.132012e-02 &  10.05053963 &   1.00000000 &  10.05053963\\\\\n",
       "\t X2 & \\textasciitilde{}\\textasciitilde{} & X3 & 0 &   0.54394394 &  1.31665691 &   0.4131250 & 6.795150e-01 &   0.54394394 &   0.10820183 &   0.54394394\\\\\n",
       "\t X3 & \\textasciitilde{}\\textasciitilde{} & X3 & 0 &   2.51448887 &  0.91816151 &   2.7386128 & 6.169899e-03 &   2.51448887 &   1.00000000 &   2.51448887\\\\\n",
       "\t Y1 & \\textasciitilde{}1 &    & 0 &  -3.53020469 &  4.85164877 &  -0.7276299 & 4.668402e-01 &  -3.53020469 &  -4.85881841 &  -4.85881841\\\\\n",
       "\t Y2 & \\textasciitilde{}1 &    & 0 & -17.65446745 &  4.47527074 &  -3.9448937 & 7.983538e-05 & -17.65446745 & -20.86933507 & -20.86933507\\\\\n",
       "\t X1 & \\textasciitilde{}1 &    & 0 &  83.24648003 &  1.81435359 &  45.8821700 & 0.000000e+00 &  83.24648003 &  12.72107242 &  83.24648003\\\\\n",
       "\t X2 & \\textasciitilde{}1 &    & 0 & 115.50663070 &  0.83956869 & 137.5785357 & 0.000000e+00 & 115.50663070 &  36.43445063 & 115.50663070\\\\\n",
       "\t X3 & \\textasciitilde{}1 &    & 0 &  17.01333333 &  0.40942959 &  41.5537461 & 0.000000e+00 &  17.01333333 &  10.72913110 &  17.01333333\\\\\n",
       "\t Y1 & r2 & Y1 & 0 &   0.65316455 &          NA &          NA &           NA &           NA &           NA &           NA\\\\\n",
       "\t Y2 & r2 & Y2 & 0 &   0.74946114 &          NA &          NA &           NA &           NA &           NA &           NA\\\\\n",
       "\\end{tabular}\n"
      ],
      "text/markdown": [
       "\n",
       "A data.frame: 22 × 11\n",
       "\n",
       "| lhs &lt;chr&gt; | op &lt;chr&gt; | rhs &lt;chr&gt; | exo &lt;int&gt; | est &lt;dbl&gt; | se &lt;dbl&gt; | z &lt;dbl&gt; | pvalue &lt;dbl&gt; | std.lv &lt;dbl&gt; | std.all &lt;dbl&gt; | std.nox &lt;dbl&gt; |\n",
       "|---|---|---|---|---|---|---|---|---|---|---|\n",
       "| Y1 | ~  | X1 | 0 |   0.08988341 |  0.02043331 |   4.3988675 | 1.088172e-05 |   0.08988341 |   0.80956637 |   0.12371157 |\n",
       "| Y1 | ~  | X2 | 0 |  -0.02986909 |  0.04723512 |  -0.6323493 | 5.271587e-01 |  -0.02986909 |  -0.13033093 |  -0.04111050 |\n",
       "| Y1 | ~  | X3 | 0 |   0.10045069 |  0.11135503 |   0.9020759 | 3.670166e-01 |   0.10045069 |   0.21923433 |   0.13825591 |\n",
       "| Y2 | ~  | X1 | 0 |   0.05936976 |  0.01974907 |   3.0062049 | 2.645307e-03 |   0.05936976 |   0.45926301 |   0.07018096 |\n",
       "| Y2 | ~  | X2 | 0 |   0.09892284 |  0.04429804 |   2.2331198 | 2.554104e-02 |   0.09892284 |   0.37071935 |   0.11693663 |\n",
       "| Y2 | ~  | X3 | 0 |   0.22320460 |  0.11456793 |   1.9482294 | 5.138752e-02 |   0.22320460 |   0.41839068 |   0.26385002 |\n",
       "| Y1 | ~~ | Y2 | 0 |   0.10721248 |  0.06059457 |   1.7693415 | 7.683690e-02 |   0.10721248 |   0.59173988 |   0.59173988 |\n",
       "| Y1 | ~~ | Y1 | 0 |   0.18308886 |  0.07607844 |   2.4065801 | 1.610267e-02 |   0.18308886 |   0.34683545 |   0.34683545 |\n",
       "| Y2 | ~~ | Y2 | 0 |   0.17929456 |  0.07405478 |   2.4211072 | 1.547331e-02 |   0.17929456 |   0.25053886 |   0.25053886 |\n",
       "| X1 | ~~ | X1 | 0 |  42.82371182 | 18.38822054 |   2.3288666 | 1.986614e-02 |  42.82371182 |   1.00000000 |  42.82371182 |\n",
       "| X1 | ~~ | X2 | 0 |   9.43051495 |  6.35247974 |   1.4845407 | 1.376655e-01 |   9.43051495 |   0.45456769 |   9.43051495 |\n",
       "| X1 | ~~ | X3 | 0 |   1.01803307 |  3.56548793 |   0.2855242 | 7.752426e-01 |   1.01803307 |   0.09810584 |   1.01803307 |\n",
       "| X2 | ~~ | X2 | 0 |  10.05053963 |  3.96837536 |   2.5326585 | 1.132012e-02 |  10.05053963 |   1.00000000 |  10.05053963 |\n",
       "| X2 | ~~ | X3 | 0 |   0.54394394 |  1.31665691 |   0.4131250 | 6.795150e-01 |   0.54394394 |   0.10820183 |   0.54394394 |\n",
       "| X3 | ~~ | X3 | 0 |   2.51448887 |  0.91816151 |   2.7386128 | 6.169899e-03 |   2.51448887 |   1.00000000 |   2.51448887 |\n",
       "| Y1 | ~1 | <!----> | 0 |  -3.53020469 |  4.85164877 |  -0.7276299 | 4.668402e-01 |  -3.53020469 |  -4.85881841 |  -4.85881841 |\n",
       "| Y2 | ~1 | <!----> | 0 | -17.65446745 |  4.47527074 |  -3.9448937 | 7.983538e-05 | -17.65446745 | -20.86933507 | -20.86933507 |\n",
       "| X1 | ~1 | <!----> | 0 |  83.24648003 |  1.81435359 |  45.8821700 | 0.000000e+00 |  83.24648003 |  12.72107242 |  83.24648003 |\n",
       "| X2 | ~1 | <!----> | 0 | 115.50663070 |  0.83956869 | 137.5785357 | 0.000000e+00 | 115.50663070 |  36.43445063 | 115.50663070 |\n",
       "| X3 | ~1 | <!----> | 0 |  17.01333333 |  0.40942959 |  41.5537461 | 0.000000e+00 |  17.01333333 |  10.72913110 |  17.01333333 |\n",
       "| Y1 | r2 | Y1 | 0 |   0.65316455 |          NA |          NA |           NA |           NA |           NA |           NA |\n",
       "| Y2 | r2 | Y2 | 0 |   0.74946114 |          NA |          NA |           NA |           NA |           NA |           NA |\n",
       "\n"
      ],
      "text/plain": [
       "   lhs op rhs exo est          se          z           pvalue      \n",
       "1  Y1  ~  X1  0     0.08988341  0.02043331   4.3988675 1.088172e-05\n",
       "2  Y1  ~  X2  0    -0.02986909  0.04723512  -0.6323493 5.271587e-01\n",
       "3  Y1  ~  X3  0     0.10045069  0.11135503   0.9020759 3.670166e-01\n",
       "4  Y2  ~  X1  0     0.05936976  0.01974907   3.0062049 2.645307e-03\n",
       "5  Y2  ~  X2  0     0.09892284  0.04429804   2.2331198 2.554104e-02\n",
       "6  Y2  ~  X3  0     0.22320460  0.11456793   1.9482294 5.138752e-02\n",
       "7  Y1  ~~ Y2  0     0.10721248  0.06059457   1.7693415 7.683690e-02\n",
       "8  Y1  ~~ Y1  0     0.18308886  0.07607844   2.4065801 1.610267e-02\n",
       "9  Y2  ~~ Y2  0     0.17929456  0.07405478   2.4211072 1.547331e-02\n",
       "10 X1  ~~ X1  0    42.82371182 18.38822054   2.3288666 1.986614e-02\n",
       "11 X1  ~~ X2  0     9.43051495  6.35247974   1.4845407 1.376655e-01\n",
       "12 X1  ~~ X3  0     1.01803307  3.56548793   0.2855242 7.752426e-01\n",
       "13 X2  ~~ X2  0    10.05053963  3.96837536   2.5326585 1.132012e-02\n",
       "14 X2  ~~ X3  0     0.54394394  1.31665691   0.4131250 6.795150e-01\n",
       "15 X3  ~~ X3  0     2.51448887  0.91816151   2.7386128 6.169899e-03\n",
       "16 Y1  ~1     0    -3.53020469  4.85164877  -0.7276299 4.668402e-01\n",
       "17 Y2  ~1     0   -17.65446745  4.47527074  -3.9448937 7.983538e-05\n",
       "18 X1  ~1     0    83.24648003  1.81435359  45.8821700 0.000000e+00\n",
       "19 X2  ~1     0   115.50663070  0.83956869 137.5785357 0.000000e+00\n",
       "20 X3  ~1     0    17.01333333  0.40942959  41.5537461 0.000000e+00\n",
       "21 Y1  r2 Y1  0     0.65316455          NA          NA           NA\n",
       "22 Y2  r2 Y2  0     0.74946114          NA          NA           NA\n",
       "   std.lv       std.all      std.nox     \n",
       "1    0.08988341   0.80956637   0.12371157\n",
       "2   -0.02986909  -0.13033093  -0.04111050\n",
       "3    0.10045069   0.21923433   0.13825591\n",
       "4    0.05936976   0.45926301   0.07018096\n",
       "5    0.09892284   0.37071935   0.11693663\n",
       "6    0.22320460   0.41839068   0.26385002\n",
       "7    0.10721248   0.59173988   0.59173988\n",
       "8    0.18308886   0.34683545   0.34683545\n",
       "9    0.17929456   0.25053886   0.25053886\n",
       "10  42.82371182   1.00000000  42.82371182\n",
       "11   9.43051495   0.45456769   9.43051495\n",
       "12   1.01803307   0.09810584   1.01803307\n",
       "13  10.05053963   1.00000000  10.05053963\n",
       "14   0.54394394   0.10820183   0.54394394\n",
       "15   2.51448887   1.00000000   2.51448887\n",
       "16  -3.53020469  -4.85881841  -4.85881841\n",
       "17 -17.65446745 -20.86933507 -20.86933507\n",
       "18  83.24648003  12.72107242  83.24648003\n",
       "19 115.50663070  36.43445063 115.50663070\n",
       "20  17.01333333  10.72913110  17.01333333\n",
       "21           NA           NA           NA\n",
       "22           NA           NA           NA"
      ]
     },
     "metadata": {},
     "output_type": "display_data"
    }
   ],
   "source": [
    "summary(Stu_MissingA.fit, rsquare = TRUE, standardized = TRUE)$pe"
   ]
  },
  {
   "cell_type": "markdown",
   "id": "7ced57d2",
   "metadata": {},
   "source": [
    "<br>\n",
    "\n",
    "### FIML (Full Information Maximum Likelihood)\n",
    "- 특별한 형태의 최대우도법\n",
    "- **EM 알고리즘 (Expectation-Maximization)**\n",
    "    1. **E(기대)-단계 : 결측값들이 추정된 통계적 정보들에 의해 예측된 값으로 대체**\n",
    "    2. **M(최대화)-단계 : 관측된 자료와 대체된 자료를 모두 이용하여 통계적 정보(분산, 공분산 등)을 추정한 후, 안정된 값들이 생성될 때 까지 두 단계를 반복**\n",
    "    \n",
    "- FIML 방법은 개체를 제거하거나, 결측값을 대체하지 않고서도 모수들을 추정할 수도 있는 장점 존재\n",
    "    - **하지만, 최대우도법 이외에 다른 추정법을 사용할 수 없으며, 중요한 통계량들이 계산되지 않을 수 있고, 결측값이 많거나, 결측값에 특정한 패턴이 존재할 경우 편향된 결과를 얻을 수 있음**"
   ]
  }
 ],
 "metadata": {
  "kernelspec": {
   "display_name": "R",
   "language": "R",
   "name": "ir"
  },
  "language_info": {
   "codemirror_mode": "r",
   "file_extension": ".r",
   "mimetype": "text/x-r-source",
   "name": "R",
   "pygments_lexer": "r",
   "version": "4.2.2"
  }
 },
 "nbformat": 4,
 "nbformat_minor": 5
}
