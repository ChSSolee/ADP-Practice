{
 "cells": [
  {
   "cell_type": "markdown",
   "id": "225d94b0",
   "metadata": {},
   "source": [
    "# 08. 요인분석 (인자분석)\n",
    "- **측정도구 : 평균 또는 합 점수를 사용을 염두해 두고 개발된 질문지 등의 도구**\n",
    "\n",
    "<br>\n",
    "\n",
    "## 08.01. 측정도구의 타당도와 신뢰도\n",
    "- 추상적인 개념일수록 측정이 쉽지 않음\n",
    "\n",
    "<br>\n",
    "\n",
    "### 측정도구의 타당도\n",
    "- 타당도 (validity) : 질문이 원래 의도한 개념을 충실히 반영하는가 하는 것\n",
    "\n",
    "<br>\n",
    "\n",
    "#### 내용 타당도 (content validity)\n",
    "- 타당도의 질적 평가\n",
    "- 측정도구에 반영되는 '그 무엇'의 실체를 내용적으로 분석하는 것\n",
    "- 전문가 집단의 판단에 의해 평가\n",
    "\n",
    "<br>\n",
    "\n",
    "#### 준거 타당도 (criterion validity) \n",
    "- 타당도의 양적 평가\n",
    "\n",
    "- **준거 타당도** : 측정에 의한 점수와 어떤 준거와의 상관관계를 평가\n",
    "    - 공인 타당도 (concurrent validity) : 현재의 측정과 타당성을 이미 입증 받은 측정도구 간의 상관관계\n",
    "    - 예측 타당도 (predictive validyty) : 측정도구와 향후 실현되는 의도된 것과의 상관관계로 정의\n",
    "    \n",
    "<br>\n",
    "\n",
    "#### 구성 타당도 (construct validity, 구인 타당도)\n",
    "- 타당도의 양적 평가\n",
    "- 기존의 확립된 몇 가지 심리적 구인들 간의 연관성을 파악\n",
    "- 각각의 구인들이 여러 개의 문항들에 의해 측정되도록 구성된 측정도구의 경우, 요인분석을 통해 구인 타당도를 평가\n",
    "    - 같은 개념을 측정하는 문항들 간에는 상대적으로 높은 상관성을, 다른 개념을 측정하는 문항들 간에는 상대적으로 낮은 상관성(변별성)을 가져야 함\n",
    "\n",
    "<br>\n",
    "\n",
    "### 측정도구와 신뢰도\n",
    "\n",
    "<br>\n",
    "\n",
    "#### 재검사 신뢰도\n",
    "- 동일한 측정도구에 의한 측정을 동일한 응답자 집단에게 시간 간격을 두고 실시\n",
    "    \n",
    "    두 측정값들의 상관계수에 의해 신뢰도를 평가\n",
    "- 측정의 일관성이라는 개념에 가장 부합하는 지표\n",
    "\n",
    "<br>\n",
    "\n",
    "#### 동형검사 신뢰도\n",
    "- 두 개의 동형검사 (내용, 형태, 개수, 난이도, 변별도 등이 동일한 측정도구)를 제작하여 동일한 응답자 집단에게 측정을 실시하고\n",
    "    \n",
    "    여기서 얻은 두 측정값들의 상관계수에 의해 신뢰도를 평가\n",
    "    \n",
    "    \n",
    "<br>\n",
    "\n",
    "#### 내적일관성 신뢰도\n",
    "- 재검사 신뢰도와 같은 직접적인 신뢰도 측정은 현실적으로 어려움\n",
    "- 내적일관성 신뢰도는 이의 대안으로, \n",
    "\n",
    "    (1) p개의 문항들로 측정도구가 정의된 경우\n",
    "    \n",
    "    (2) 그 측정도구의 신뢰도는 문항들 사이의 상관계수가 클수록 증가한다는 점을 활용\n",
    "    \n",
    "<br>\n",
    "\n",
    "- p개의 문항 $X_1, \\dots X_p$로 측정하도록 구성되어 있을 시,\n",
    "\n",
    "    반분법 (split halves method)에 의한 내적일관성 신뢰도 추정방벙 :\n",
    "    \n",
    "    1. p개의 문항을 두 개의 그룹으로 나누고, 각각의 합점수 $C_1$과 $C_2$를 응답자별로 구함\n",
    "    2. $C_1$, $C_2$의 상관계수 $rho_0 = Cor(C_1, C_2)$를 계산하고, Spearman-Brown 공식에 의한 신뢰도를 계산\n",
    "    \n",
    "    $$\\rho = {{2\\rho_0}\\over{1+\\rho_0}}$$\n",
    "    \n",
    "- 반분법은 내적일관성 신뢰도를 쉽게 계산할 수 있다는 장점이 있지만,\n",
    "\n",
    "    문항을 2개의 그룹으로 나누는 방법에 따라 신뢰도가 달라짐\n",
    "    \n",
    "- 문항들에 대한 내적일관성 신뢰도의 추정을 위해 가장 널리 사용되는 방법은 크론바흐 알파(Cronbach's alpha) 계수\n",
    "    - $\\alpha$는 반분신뢰도 $\\rho$의 하한으로 간주될 수 있으며, 모든 문항이 이항으로 측정된 경우 KR-20(Kuder-Richardson 20)계수와 동일한 것으로 알려짐\n",
    "    \n",
    "$$\\alpha = ({{p}\\over{p-1}}) ({1 - {{\\sum^p_{j=1} Var(X_j)}\\over{Var \\sum^p_{j=1} X_j}}})$$\n",
    "\n"
   ]
  },
  {
   "cell_type": "markdown",
   "id": "0491a0ed",
   "metadata": {},
   "source": [
    "<br>\n",
    "\n",
    "## 08.02. 탐색적 요인분석\n",
    "- **요인분석 (factor analysis, 인자분석)은 여러 관찰가능한 특성들로부터 소수의 일반적인 잠재변수를 발견해 내거나 만들어 내는 통계적 과정**\n",
    "    - 잠재변수는 측정변수들 간의 상관관계를 생성시키는 이론적인, 관찰불가능한 인자를 의미\n",
    "- 요인분석은 상관행렬긔 구조에 관한 통계적 모형을 구축하고, 그와 같은 구조를 생성시키는 소수 몇 개의 요인을 유도하여,\n",
    "\n",
    "    측정변수들 간의 구조적 관계를 해석하는 자료분석 기법\n",
    "    \n",
    "- 요인분석은 탐색적 요인분석 (EFA)와 확증적 요인분석 (CFA)로 구분\n",
    "\n",
    "<br>\n",
    "\n",
    "### 데이터 탐색\n",
    "\n",
    "- 5점 척도 리커트 문항\n",
    "    - 내적성향 : Q1, Q2, Q3, Q4, Q5\n",
    "    - 타인의존성향 : Q6, Q7, Q8, Q9\n",
    "    - 우연성향 : Q10, Q11, Q12"
   ]
  },
  {
   "cell_type": "code",
   "execution_count": 49,
   "id": "0e6e96af",
   "metadata": {},
   "outputs": [],
   "source": [
    "Construct <- read.csv(paste0(getwd(), \"/Data/Construct.csv\"), header = TRUE)"
   ]
  },
  {
   "cell_type": "code",
   "execution_count": 12,
   "id": "dcdd6f67",
   "metadata": {},
   "outputs": [],
   "source": [
    "Con.desc <- psych::describe(Construct)\n",
    "Con.desc$skew.z <- Con.desc$skew/sqrt(6/Con.desc$n)\n",
    "Con.desc$kurt.z <- Con.desc$kurtosis/sqrt(24/Con.desc$n)"
   ]
  },
  {
   "cell_type": "markdown",
   "id": "012a4db2",
   "metadata": {},
   "source": [
    "<br>\n",
    "\n",
    "#### 기술통계량\n",
    "- 측정문항들에 대한 기술통계량\n",
    "- Q2, Q3, Q4의 평균이 높음을 확인"
   ]
  },
  {
   "cell_type": "code",
   "execution_count": 8,
   "id": "d8919d3b",
   "metadata": {},
   "outputs": [],
   "source": [
    "library(lavaan)\n",
    "library(sem)\n",
    "library(semPlot)\n",
    "library(semptools)\n",
    "library(psych)\n",
    "library(tidyverse)"
   ]
  },
  {
   "cell_type": "code",
   "execution_count": 9,
   "id": "dbcf0886",
   "metadata": {},
   "outputs": [
    {
     "name": "stderr",
     "output_type": "stream",
     "text": [
      "Warning message:\n",
      "\"'sem' namespace cannot be unloaded:\n",
      "  namespace 'sem' is imported by 'semPlot' so cannot be unloaded\"\n"
     ]
    }
   ],
   "source": [
    "detach(\"package:sem\",unload=TRUE)"
   ]
  },
  {
   "cell_type": "markdown",
   "id": "d2259f94",
   "metadata": {},
   "source": [
    "- 대부분의 문항들에 대한 왜도(skewness)가 음의 값을 가지며, 오른쪽으로 치우쳐짐\n",
    "    - Q1, Q2, Q3, Q4, Q5에 대한 표준화 왜도의 절댓값이 큼을 확인\n",
    "- Q2, Q3에 대한 표준화 첨도의 절댓값이 큼"
   ]
  },
  {
   "cell_type": "code",
   "execution_count": 19,
   "id": "ec199863",
   "metadata": {},
   "outputs": [
    {
     "data": {
      "text/html": [
       "<table class=\"dataframe\">\n",
       "<caption>A data.frame: 12 × 6</caption>\n",
       "<thead>\n",
       "\t<tr><th></th><th scope=col>mean</th><th scope=col>sd</th><th scope=col>skew</th><th scope=col>skew.z</th><th scope=col>kurtosis</th><th scope=col>kurt.z</th></tr>\n",
       "\t<tr><th></th><th scope=col>&lt;dbl&gt;</th><th scope=col>&lt;dbl&gt;</th><th scope=col>&lt;dbl&gt;</th><th scope=col>&lt;dbl&gt;</th><th scope=col>&lt;dbl&gt;</th><th scope=col>&lt;dbl&gt;</th></tr>\n",
       "</thead>\n",
       "<tbody>\n",
       "\t<tr><th scope=row>Q1</th><td>3.862857</td><td>0.9670092</td><td>-0.749506753</td><td>-4.04779910</td><td> 0.2838766</td><td> 0.7665543</td></tr>\n",
       "\t<tr><th scope=row>Q2</th><td>4.285714</td><td>0.8831575</td><td>-1.330680957</td><td>-7.18649853</td><td> 1.8626724</td><td> 5.0297903</td></tr>\n",
       "\t<tr><th scope=row>Q3</th><td>4.251429</td><td>0.8405565</td><td>-1.246145180</td><td>-6.72995315</td><td> 1.8183240</td><td> 4.9100360</td></tr>\n",
       "\t<tr><th scope=row>Q4</th><td>4.320000</td><td>0.7353160</td><td>-0.920591862</td><td>-4.97176429</td><td> 0.5642348</td><td> 1.5236080</td></tr>\n",
       "\t<tr><th scope=row>Q5</th><td>3.994286</td><td>0.9678578</td><td>-1.009730407</td><td>-5.45316745</td><td> 0.7724534</td><td> 2.0858625</td></tr>\n",
       "\t<tr><th scope=row>Q6</th><td>3.365714</td><td>1.1411687</td><td>-0.212121517</td><td>-1.14558712</td><td>-0.8511767</td><td>-2.2984397</td></tr>\n",
       "\t<tr><th scope=row>Q7</th><td>3.537143</td><td>1.1025273</td><td>-0.451755338</td><td>-2.43975767</td><td>-0.5368280</td><td>-1.4496013</td></tr>\n",
       "\t<tr><th scope=row>Q8</th><td>3.617143</td><td>1.0431731</td><td>-0.461590079</td><td>-2.49287134</td><td>-0.3349995</td><td>-0.9046020</td></tr>\n",
       "\t<tr><th scope=row>Q9</th><td>3.537143</td><td>1.0100318</td><td>-0.217189217</td><td>-1.17295583</td><td>-0.5496087</td><td>-1.4841130</td></tr>\n",
       "\t<tr><th scope=row>Q10</th><td>3.520000</td><td>0.9519490</td><td>-0.116497769</td><td>-0.62915986</td><td>-0.5996004</td><td>-1.6191062</td></tr>\n",
       "\t<tr><th scope=row>Q11</th><td>3.045714</td><td>1.0328909</td><td> 0.096062436</td><td> 0.51879645</td><td>-0.5285037</td><td>-1.4271231</td></tr>\n",
       "\t<tr><th scope=row>Q12</th><td>3.577143</td><td>0.9368220</td><td> 0.006627156</td><td> 0.03579073</td><td>-0.9213679</td><td>-2.4879777</td></tr>\n",
       "</tbody>\n",
       "</table>\n"
      ],
      "text/latex": [
       "A data.frame: 12 × 6\n",
       "\\begin{tabular}{r|llllll}\n",
       "  & mean & sd & skew & skew.z & kurtosis & kurt.z\\\\\n",
       "  & <dbl> & <dbl> & <dbl> & <dbl> & <dbl> & <dbl>\\\\\n",
       "\\hline\n",
       "\tQ1 & 3.862857 & 0.9670092 & -0.749506753 & -4.04779910 &  0.2838766 &  0.7665543\\\\\n",
       "\tQ2 & 4.285714 & 0.8831575 & -1.330680957 & -7.18649853 &  1.8626724 &  5.0297903\\\\\n",
       "\tQ3 & 4.251429 & 0.8405565 & -1.246145180 & -6.72995315 &  1.8183240 &  4.9100360\\\\\n",
       "\tQ4 & 4.320000 & 0.7353160 & -0.920591862 & -4.97176429 &  0.5642348 &  1.5236080\\\\\n",
       "\tQ5 & 3.994286 & 0.9678578 & -1.009730407 & -5.45316745 &  0.7724534 &  2.0858625\\\\\n",
       "\tQ6 & 3.365714 & 1.1411687 & -0.212121517 & -1.14558712 & -0.8511767 & -2.2984397\\\\\n",
       "\tQ7 & 3.537143 & 1.1025273 & -0.451755338 & -2.43975767 & -0.5368280 & -1.4496013\\\\\n",
       "\tQ8 & 3.617143 & 1.0431731 & -0.461590079 & -2.49287134 & -0.3349995 & -0.9046020\\\\\n",
       "\tQ9 & 3.537143 & 1.0100318 & -0.217189217 & -1.17295583 & -0.5496087 & -1.4841130\\\\\n",
       "\tQ10 & 3.520000 & 0.9519490 & -0.116497769 & -0.62915986 & -0.5996004 & -1.6191062\\\\\n",
       "\tQ11 & 3.045714 & 1.0328909 &  0.096062436 &  0.51879645 & -0.5285037 & -1.4271231\\\\\n",
       "\tQ12 & 3.577143 & 0.9368220 &  0.006627156 &  0.03579073 & -0.9213679 & -2.4879777\\\\\n",
       "\\end{tabular}\n"
      ],
      "text/markdown": [
       "\n",
       "A data.frame: 12 × 6\n",
       "\n",
       "| <!--/--> | mean &lt;dbl&gt; | sd &lt;dbl&gt; | skew &lt;dbl&gt; | skew.z &lt;dbl&gt; | kurtosis &lt;dbl&gt; | kurt.z &lt;dbl&gt; |\n",
       "|---|---|---|---|---|---|---|\n",
       "| Q1 | 3.862857 | 0.9670092 | -0.749506753 | -4.04779910 |  0.2838766 |  0.7665543 |\n",
       "| Q2 | 4.285714 | 0.8831575 | -1.330680957 | -7.18649853 |  1.8626724 |  5.0297903 |\n",
       "| Q3 | 4.251429 | 0.8405565 | -1.246145180 | -6.72995315 |  1.8183240 |  4.9100360 |\n",
       "| Q4 | 4.320000 | 0.7353160 | -0.920591862 | -4.97176429 |  0.5642348 |  1.5236080 |\n",
       "| Q5 | 3.994286 | 0.9678578 | -1.009730407 | -5.45316745 |  0.7724534 |  2.0858625 |\n",
       "| Q6 | 3.365714 | 1.1411687 | -0.212121517 | -1.14558712 | -0.8511767 | -2.2984397 |\n",
       "| Q7 | 3.537143 | 1.1025273 | -0.451755338 | -2.43975767 | -0.5368280 | -1.4496013 |\n",
       "| Q8 | 3.617143 | 1.0431731 | -0.461590079 | -2.49287134 | -0.3349995 | -0.9046020 |\n",
       "| Q9 | 3.537143 | 1.0100318 | -0.217189217 | -1.17295583 | -0.5496087 | -1.4841130 |\n",
       "| Q10 | 3.520000 | 0.9519490 | -0.116497769 | -0.62915986 | -0.5996004 | -1.6191062 |\n",
       "| Q11 | 3.045714 | 1.0328909 |  0.096062436 |  0.51879645 | -0.5285037 | -1.4271231 |\n",
       "| Q12 | 3.577143 | 0.9368220 |  0.006627156 |  0.03579073 | -0.9213679 | -2.4879777 |\n",
       "\n"
      ],
      "text/plain": [
       "    mean     sd        skew         skew.z      kurtosis   kurt.z    \n",
       "Q1  3.862857 0.9670092 -0.749506753 -4.04779910  0.2838766  0.7665543\n",
       "Q2  4.285714 0.8831575 -1.330680957 -7.18649853  1.8626724  5.0297903\n",
       "Q3  4.251429 0.8405565 -1.246145180 -6.72995315  1.8183240  4.9100360\n",
       "Q4  4.320000 0.7353160 -0.920591862 -4.97176429  0.5642348  1.5236080\n",
       "Q5  3.994286 0.9678578 -1.009730407 -5.45316745  0.7724534  2.0858625\n",
       "Q6  3.365714 1.1411687 -0.212121517 -1.14558712 -0.8511767 -2.2984397\n",
       "Q7  3.537143 1.1025273 -0.451755338 -2.43975767 -0.5368280 -1.4496013\n",
       "Q8  3.617143 1.0431731 -0.461590079 -2.49287134 -0.3349995 -0.9046020\n",
       "Q9  3.537143 1.0100318 -0.217189217 -1.17295583 -0.5496087 -1.4841130\n",
       "Q10 3.520000 0.9519490 -0.116497769 -0.62915986 -0.5996004 -1.6191062\n",
       "Q11 3.045714 1.0328909  0.096062436  0.51879645 -0.5285037 -1.4271231\n",
       "Q12 3.577143 0.9368220  0.006627156  0.03579073 -0.9213679 -2.4879777"
      ]
     },
     "metadata": {},
     "output_type": "display_data"
    }
   ],
   "source": [
    "data.frame(Con.desc) %>% select(mean, sd, skew, skew.z, kurtosis, kurt.z)"
   ]
  },
  {
   "cell_type": "markdown",
   "id": "a21c07c6",
   "metadata": {},
   "source": [
    "<br>\n",
    "\n",
    "#### 상관계수\n",
    "* **상관계수는 요인분석의 직접적인 대상이 됨**\n",
    "    - **너무 낮은 상관성은 해당 변수가 요인분석에 적합하지 않음**\n",
    "    - **각 측정변수는 같은 요인으로 묶일 것으로 기대되는 변수 그룹들과 상대적으로 높은 상관계수를 가져야 함**\n",
    "    \n",
    "    - 상관계수가 너무 커서 절댓값이 1에 가깝다면 $\\rightarrow$ 두 변수가 거의 동일한 의미이거나 같은 정보를 가지고 있음\n",
    "    \n",
    "    "
   ]
  },
  {
   "cell_type": "code",
   "execution_count": 22,
   "id": "b9264ab2",
   "metadata": {},
   "outputs": [],
   "source": [
    "library(Hmisc)\n",
    "Construct.matrix = as.matrix(Construct)"
   ]
  },
  {
   "cell_type": "code",
   "execution_count": 24,
   "id": "b61b7727",
   "metadata": {},
   "outputs": [
    {
     "name": "stdout",
     "output_type": "stream",
     "text": [
      "      Q1   Q2   Q3    Q4   Q5   Q6    Q7    Q8    Q9   Q10   Q11   Q12\n",
      "Q1  1.00 0.23 0.47  0.43 0.20 0.06  0.16  0.00  0.13  0.12  0.14  0.11\n",
      "Q2  0.23 1.00 0.37  0.50 0.36 0.12  0.16  0.13  0.16  0.12  0.08  0.14\n",
      "Q3  0.47 0.37 1.00  0.49 0.25 0.14  0.14  0.08  0.25  0.12  0.03  0.13\n",
      "Q4  0.43 0.50 0.49  1.00 0.24 0.06  0.19 -0.01  0.19  0.10  0.19  0.18\n",
      "Q5  0.20 0.36 0.25  0.24 1.00 0.06  0.13  0.04  0.13  0.21  0.26  0.21\n",
      "Q6  0.06 0.12 0.14  0.06 0.06 1.00  0.43  0.31  0.28  0.12  0.08  0.08\n",
      "Q7  0.16 0.16 0.14  0.19 0.13 0.43  1.00  0.46  0.49 -0.02  0.02 -0.03\n",
      "Q8  0.00 0.13 0.08 -0.01 0.04 0.31  0.46  1.00  0.27  0.00 -0.02  0.01\n",
      "Q9  0.13 0.16 0.25  0.19 0.13 0.28  0.49  0.27  1.00 -0.08 -0.08  0.07\n",
      "Q10 0.12 0.12 0.12  0.10 0.21 0.12 -0.02  0.00 -0.08  1.00  0.44  0.58\n",
      "Q11 0.14 0.08 0.03  0.19 0.26 0.08  0.02 -0.02 -0.08  0.44  1.00  0.43\n",
      "Q12 0.11 0.14 0.13  0.18 0.21 0.08 -0.03  0.01  0.07  0.58  0.43  1.00\n",
      "\n",
      "n= 175 \n",
      "\n",
      "\n",
      "P\n",
      "    Q1     Q2     Q3     Q4     Q5     Q6     Q7     Q8     Q9     Q10   \n",
      "Q1         0.0018 0.0000 0.0000 0.0074 0.4607 0.0396 0.9516 0.0755 0.1089\n",
      "Q2  0.0018        0.0000 0.0000 0.0000 0.1026 0.0342 0.0819 0.0322 0.1047\n",
      "Q3  0.0000 0.0000        0.0000 0.0009 0.0701 0.0557 0.3071 0.0007 0.1050\n",
      "Q4  0.0000 0.0000 0.0000        0.0011 0.4430 0.0114 0.8780 0.0106 0.1991\n",
      "Q5  0.0074 0.0000 0.0009 0.0011        0.3976 0.0813 0.5689 0.0805 0.0055\n",
      "Q6  0.4607 0.1026 0.0701 0.4430 0.3976        0.0000 0.0000 0.0002 0.1131\n",
      "Q7  0.0396 0.0342 0.0557 0.0114 0.0813 0.0000        0.0000 0.0000 0.7802\n",
      "Q8  0.9516 0.0819 0.3071 0.8780 0.5689 0.0000 0.0000        0.0003 0.9903\n",
      "Q9  0.0755 0.0322 0.0007 0.0106 0.0805 0.0002 0.0000 0.0003        0.3112\n",
      "Q10 0.1089 0.1047 0.1050 0.1991 0.0055 0.1131 0.7802 0.9903 0.3112       \n",
      "Q11 0.0566 0.2920 0.7287 0.0107 0.0005 0.3026 0.8061 0.7827 0.2675 0.0000\n",
      "Q12 0.1591 0.0648 0.0901 0.0166 0.0047 0.2868 0.6477 0.8975 0.3480 0.0000\n",
      "    Q11    Q12   \n",
      "Q1  0.0566 0.1591\n",
      "Q2  0.2920 0.0648\n",
      "Q3  0.7287 0.0901\n",
      "Q4  0.0107 0.0166\n",
      "Q5  0.0005 0.0047\n",
      "Q6  0.3026 0.2868\n",
      "Q7  0.8061 0.6477\n",
      "Q8  0.7827 0.8975\n",
      "Q9  0.2675 0.3480\n",
      "Q10 0.0000 0.0000\n",
      "Q11        0.0000\n",
      "Q12 0.0000       \n"
     ]
    }
   ],
   "source": [
    "rcorr(Construct.matrix) %>% print"
   ]
  },
  {
   "cell_type": "markdown",
   "id": "9d153941",
   "metadata": {},
   "source": [
    "<br>\n",
    "\n",
    "#### KMO 표본적합성 측도\n",
    "- **Kaiser Meyer Olkin의 표본적합성 측도 : 관측된 상관계수들의 값과 편상관계수의 값을 비교하는 지수**\n",
    "    - **값이 클수록 측정변수들 저변에 공통적인 잠재요인이 존재**\n",
    "    - **값이 작으면, 요인분석을 위한 변수들의 선정히 좋지 못함**\n",
    "    \n",
    "        - $\\geq$ 0.9 : 훌륭함\n",
    "\n",
    "        - $0.8 \\sim 0.89$ : 가치 있음\n",
    "\n",
    "        - $0.7 \\sim 0.79$ : 중간\n",
    "\n",
    "        - $0.60 \\sim 0.69$ : 평범함\n",
    "\n",
    "        - $0.5 \\sim 0.59$ : 빈약함\n",
    "\n",
    "        - $< 0.5$ : 수용 불가능\n",
    "    \n",
    "\n",
    "<br>\n",
    "\n",
    "#### `KMO()`"
   ]
  },
  {
   "cell_type": "code",
   "execution_count": 26,
   "id": "1614da6c",
   "metadata": {},
   "outputs": [
    {
     "data": {
      "text/plain": [
       "Kaiser-Meyer-Olkin factor adequacy\n",
       "Call: KMO(r = Construct)\n",
       "Overall MSA =  0.71\n",
       "MSA for each item = \n",
       "  Q1   Q2   Q3   Q4   Q5   Q6   Q7   Q8   Q9  Q10  Q11  Q12 \n",
       "0.77 0.73 0.75 0.71 0.78 0.76 0.65 0.69 0.70 0.66 0.70 0.65 "
      ]
     },
     "metadata": {},
     "output_type": "display_data"
    }
   ],
   "source": [
    "KMO(Construct)"
   ]
  },
  {
   "cell_type": "markdown",
   "id": "519b9d4b",
   "metadata": {},
   "source": [
    "- KMO측도가 0.71로 출력 $\\rightarrow$ 데이터의 변수 선정정도는 중간\n",
    "\n",
    "<br>\n",
    "\n",
    "#### Bartlett 구형성 검정\n",
    "- **Bartlett의 구형성 검정 (sphericity test)**\n",
    "    - **귀무가설 : '상관계수 행렬이 단위행렬이다라는 귀무가설' (공통요인이 존재하지 않음)**\n",
    "    - **대립가설 : 공통요인이 존재하지 않음**"
   ]
  },
  {
   "cell_type": "markdown",
   "id": "a38d503a",
   "metadata": {},
   "source": [
    "<br>\n",
    "\n",
    "* **카이제곱 값 : 493, (p-value : <.001) $\\rightarrow$ 귀무가설 기각 $\\rightarrow$ 1개 이상의 공통요인이 존재**"
   ]
  },
  {
   "cell_type": "code",
   "execution_count": 30,
   "id": "25b79202",
   "metadata": {},
   "outputs": [
    {
     "data": {
      "text/html": [
       "<dl>\n",
       "\t<dt>$chisq</dt>\n",
       "\t\t<dd>493.021745155629</dd>\n",
       "\t<dt>$p.value</dt>\n",
       "\t\t<dd>1.31934727210164e-66</dd>\n",
       "\t<dt>$df</dt>\n",
       "\t\t<dd>66</dd>\n",
       "</dl>\n"
      ],
      "text/latex": [
       "\\begin{description}\n",
       "\\item[\\$chisq] 493.021745155629\n",
       "\\item[\\$p.value] 1.31934727210164e-66\n",
       "\\item[\\$df] 66\n",
       "\\end{description}\n"
      ],
      "text/markdown": [
       "$chisq\n",
       ":   493.021745155629\n",
       "$p.value\n",
       ":   1.31934727210164e-66\n",
       "$df\n",
       ":   66\n",
       "\n",
       "\n"
      ],
      "text/plain": [
       "$chisq\n",
       "[1] 493.0217\n",
       "\n",
       "$p.value\n",
       "[1] 1.319347e-66\n",
       "\n",
       "$df\n",
       "[1] 66\n"
      ]
     },
     "metadata": {},
     "output_type": "display_data"
    }
   ],
   "source": [
    "Construct.cor <- cor(Construct)\n",
    "cortest.bartlett(Construct.cor, n = nrow(Construct))"
   ]
  },
  {
   "cell_type": "markdown",
   "id": "52d01fa6",
   "metadata": {},
   "source": [
    "<br>\n",
    "\n",
    "### 요인의 개수\n",
    "\n",
    "<br>\n",
    "\n",
    "#### Kaiser 규칙\n",
    "- **표본상관행렬의 고윳값 중 1보다 큰 개수만큼 요인을 보유하는 것**\n",
    "    - 대부분의 통계분석 소프트웨어에서 설정\n",
    "    - 종종 보유되어야 할 것보다 적은 개수의 요인을 결정할 수도 있음\n",
    "- **상관행렬에 대한 고윳값은 주성분분석을 통해 얻음**\n",
    "\n",
    "<br>\n",
    "\n",
    "#### 상관행렬을 분석대상 $\\rightarrow$ `princomp()`의 `cor`을 `TRUE`로 설정\n",
    "\n",
    "<br>\n",
    "\n",
    "- **각 주성분의 표준편차 (standard deviation) = 고윳값의 제곱근 (고윳값은 주성분의 분산을 의미)**\n",
    "- 고윳값이 1보다 큰 것이 3개 임을 확인"
   ]
  },
  {
   "cell_type": "code",
   "execution_count": 31,
   "id": "ecb8ab58",
   "metadata": {},
   "outputs": [],
   "source": [
    "Construct.pca <- princomp(~., data= Construct, cor = TRUE)"
   ]
  },
  {
   "cell_type": "code",
   "execution_count": 32,
   "id": "b0aba5bc",
   "metadata": {},
   "outputs": [
    {
     "data": {
      "text/plain": [
       "Importance of components:\n",
       "                          Comp.1    Comp.2    Comp.3     Comp.4     Comp.5\n",
       "Standard deviation     1.7494619 1.4335486 1.2494926 0.94463996 0.86085488\n",
       "Proportion of Variance 0.2550514 0.1712551 0.1301027 0.07436205 0.06175593\n",
       "Cumulative Proportion  0.2550514 0.4263066 0.5564092 0.63077126 0.69252719\n",
       "                           Comp.6     Comp.7     Comp.8     Comp.9    Comp.10\n",
       "Standard deviation     0.85911493 0.82404884 0.81046913 0.69479843 0.65436492\n",
       "Proportion of Variance 0.06150654 0.05658804 0.05473835 0.04022874 0.03568279\n",
       "Cumulative Proportion  0.75403372 0.81062176 0.86536012 0.90558885 0.94127164\n",
       "                          Comp.11    Comp.12\n",
       "Standard deviation     0.62469102 0.56080428\n",
       "Proportion of Variance 0.03251991 0.02620845\n",
       "Cumulative Proportion  0.97379155 1.00000000"
      ]
     },
     "metadata": {},
     "output_type": "display_data"
    }
   ],
   "source": [
    "summary(Construct.pca)"
   ]
  },
  {
   "cell_type": "markdown",
   "id": "c14305c0",
   "metadata": {},
   "source": [
    "<br>\n",
    "\n",
    "#### 주성분의 설명분산을 기준\n",
    "- 하나의 주성분이 실제적으로 중요한 의미를 가지기 위해서는, 그 주성분이 전체 변이에 대해 가지는 공헌도가 최소한 얼마 이상이 되어야 한다는 것을 규정\n",
    "    - 사회과학분야에서 누적 설명분산이 50~60%는 되어야 한다고 제시\n",
    "    \n",
    "- 측정변수가 많을 경우에는 지나치게 많은 요인의 수를 요구"
   ]
  },
  {
   "cell_type": "markdown",
   "id": "54f8e5a0",
   "metadata": {},
   "source": [
    "<br>\n",
    "\n",
    "#### 스크리 검사 (Scree test)\n",
    "- 그래프에 나타낸 도형에 근거하여 적절한 요인의 수를 결정\n",
    "    - **고윳값의 크기를 단순히 그래프화 $\\rightarrow$ 요인의 개수를 결정함에 주관성이 개입**\n",
    "    "
   ]
  },
  {
   "cell_type": "markdown",
   "id": "d2b27888",
   "metadata": {},
   "source": [
    "<br>\n",
    "\n",
    "#### `fa.parallel()`의 `fa`를 `\"pc\"`로 입력\n",
    "\n",
    "<br>\n",
    "\n",
    "- 주성분의 수가 3을 넘어서면, 그래프의 경사가 완만해 짐 $\\rightarrow$ 3개의 주성분 개수가 적절"
   ]
  },
  {
   "cell_type": "code",
   "execution_count": 33,
   "id": "116af182",
   "metadata": {},
   "outputs": [
    {
     "name": "stdout",
     "output_type": "stream",
     "text": [
      "Parallel analysis suggests that the number of factors =  NA  and the number of components =  3 \n"
     ]
    },
    {
     "data": {
      "image/png": "[encoded data removed]",
      "text/plain": [
       "Plot with title \"Parallel Analysis Scree Plots\""
      ]
     },
     "metadata": {
      "image/png": {
       "height": 420,
       "width": 420
      }
     },
     "output_type": "display_data"
    }
   ],
   "source": [
    "fa.parallel(Construct, fa = \"pc\")"
   ]
  },
  {
   "cell_type": "markdown",
   "id": "24b945cd",
   "metadata": {},
   "source": [
    "<br>\n",
    "\n",
    "#### 요인추출 방법\n",
    "- **요인을 추출한다는 것은 자료(상관행렬)로 부터 요인적재값과 유일성(특수성)을 추정하는 것**\n",
    "    - 주성분분석법, 주축요인법, 최대우도법 등 사용\n",
    "\n",
    "<br>\n",
    "\n",
    "**주성분분석 (principal component analysis)**\n",
    "- **서로 연관되어 있는 측정변수들을 서로 독립적인 소수의 인공변수인 주성분으로 차원축소**\n",
    "- 처음 일부의 주성분을 요인으로 취함 $\\rightarrow$ 전체 분산이 최대한 설명될 수 있도록 추출\n",
    "\n",
    "- 요인적재값의 크기가 실제보다 크게 나타나는 경향 존재"
   ]
  },
  {
   "cell_type": "code",
   "execution_count": 34,
   "id": "913f9781",
   "metadata": {},
   "outputs": [
    {
     "data": {
      "text/plain": [
       "Principal Components Analysis\n",
       "Call: principal(r = Construct, nfactors = 3, rotate = \"varimax\")\n",
       "Standardized loadings (pattern matrix) based upon correlation matrix\n",
       "      RC1   RC2   RC3   h2   u2 com\n",
       "Q1   0.69  0.01  0.06 0.48 0.52 1.0\n",
       "Q2   0.66  0.14  0.10 0.47 0.53 1.1\n",
       "Q3   0.76  0.11  0.01 0.60 0.40 1.0\n",
       "Q4   0.80  0.03  0.09 0.65 0.35 1.0\n",
       "Q5   0.45  0.09  0.34 0.32 0.68 2.0\n",
       "Q6   0.01  0.69  0.17 0.51 0.49 1.1\n",
       "Q7   0.17  0.82 -0.05 0.70 0.30 1.1\n",
       "Q8  -0.05  0.73  0.00 0.53 0.47 1.0\n",
       "Q9   0.27  0.65 -0.12 0.50 0.50 1.4\n",
       "Q10  0.06  0.00  0.83 0.69 0.31 1.0\n",
       "Q11  0.09 -0.03  0.75 0.57 0.43 1.0\n",
       "Q12  0.12  0.02  0.80 0.65 0.35 1.0\n",
       "\n",
       "                       RC1  RC2  RC3\n",
       "SS loadings           2.47 2.14 2.07\n",
       "Proportion Var        0.21 0.18 0.17\n",
       "Cumulative Var        0.21 0.38 0.56\n",
       "Proportion Explained  0.37 0.32 0.31\n",
       "Cumulative Proportion 0.37 0.69 1.00\n",
       "\n",
       "Mean item complexity =  1.2\n",
       "Test of the hypothesis that 3 components are sufficient.\n",
       "\n",
       "The root mean square of the residuals (RMSR) is  0.09 \n",
       " with the empirical chi square  167.54  with prob <  6.3e-20 \n",
       "\n",
       "Fit based upon off diagonal values = 0.87"
      ]
     },
     "metadata": {},
     "output_type": "display_data"
    }
   ],
   "source": [
    "principal(Construct, nfactors = 3, rotate = \"varimax\")"
   ]
  },
  {
   "cell_type": "markdown",
   "id": "248f0810",
   "metadata": {},
   "source": [
    "<br>\n",
    "\n",
    "**주축요인법 (principal axis factor methor) / 최대우도법 (maximum likelihood method)**\n",
    "- 요인분석 모형을 상정하여 측정변수들의 공분산이 최대한 설명될 수 있도록 요인을 추출\n",
    "\n",
    "    -    주성분분석법에 비하여 전체 분산에 대한 설명비율은 작아질 수 있음\n",
    "    \n",
    "    (요인분석의 목적이 많은 측정변수들이 공통적으로 갖고 있는 의미있는 구조를 추출하는 것일 때, 주축요인법이나 최대우도법이 더 타당)"
   ]
  },
  {
   "cell_type": "markdown",
   "id": "ee94ebec",
   "metadata": {},
   "source": [
    "<br>\n",
    "\n",
    "#### `fa()`의 `fm`이 `\"pa\"`이면 주출요인법 / `\"ml\"`이면 최대우도법\n",
    "\n",
    "<br>\n",
    "\n",
    "- 주축요인법"
   ]
  },
  {
   "cell_type": "code",
   "execution_count": 37,
   "id": "8a46cd98",
   "metadata": {},
   "outputs": [
    {
     "data": {
      "text/plain": [
       "Factor Analysis using method =  pa\n",
       "Call: fa(r = Construct, rotate = \"varimax\", fm = \"pa\")\n",
       "Standardized loadings (pattern matrix) based upon correlation matrix\n",
       "     PA1    h2   u2 com\n",
       "Q1  0.50 0.251 0.75   1\n",
       "Q2  0.56 0.317 0.68   1\n",
       "Q3  0.60 0.361 0.64   1\n",
       "Q4  0.64 0.410 0.59   1\n",
       "Q5  0.46 0.209 0.79   1\n",
       "Q6  0.31 0.096 0.90   1\n",
       "Q7  0.40 0.157 0.84   1\n",
       "Q8  0.23 0.052 0.95   1\n",
       "Q9  0.38 0.142 0.86   1\n",
       "Q10 0.32 0.100 0.90   1\n",
       "Q11 0.30 0.089 0.91   1\n",
       "Q12 0.35 0.126 0.87   1\n",
       "\n",
       "                PA1\n",
       "SS loadings    2.31\n",
       "Proportion Var 0.19\n",
       "\n",
       "Mean item complexity =  1\n",
       "Test of the hypothesis that 1 factor is sufficient.\n",
       "\n",
       "df null model =  66  with the objective function =  2.91 with Chi Square =  493.02\n",
       "df of  the model are 54  and the objective function was  1.64 \n",
       "\n",
       "The root mean square of the residuals (RMSR) is  0.14 \n",
       "The df corrected root mean square of the residuals is  0.16 \n",
       "\n",
       "The harmonic n.obs is  175 with the empirical chi square  478.24  with prob <  2.7e-69 \n",
       "The total n.obs was  175  with Likelihood Chi Square =  276.14  with prob <  1.5e-31 \n",
       "\n",
       "Tucker Lewis Index of factoring reliability =  0.361\n",
       "RMSEA index =  0.153  and the 90 % confidence intervals are  0.136 0.172\n",
       "BIC =  -2.76\n",
       "Fit based upon off diagonal values = 0.63\n",
       "Measures of factor score adequacy             \n",
       "                                                   PA1\n",
       "Correlation of (regression) scores with factors   0.87\n",
       "Multiple R square of scores with factors          0.76\n",
       "Minimum correlation of possible factor scores     0.52"
      ]
     },
     "metadata": {},
     "output_type": "display_data"
    }
   ],
   "source": [
    "fa(Construct, fm = \"pa\", rotate = \"varimax\")"
   ]
  },
  {
   "cell_type": "markdown",
   "id": "943af198",
   "metadata": {},
   "source": [
    "- 최대우도법"
   ]
  },
  {
   "cell_type": "code",
   "execution_count": 38,
   "id": "617aff33",
   "metadata": {},
   "outputs": [
    {
     "data": {
      "text/plain": [
       "Factor Analysis using method =  ml\n",
       "Call: fa(r = Construct, rotate = \"varimax\", fm = \"ml\")\n",
       "Standardized loadings (pattern matrix) based upon correlation matrix\n",
       "     ML1    h2   u2 com\n",
       "Q1  0.55 0.299 0.70   1\n",
       "Q2  0.59 0.351 0.65   1\n",
       "Q3  0.65 0.422 0.58   1\n",
       "Q4  0.70 0.492 0.51   1\n",
       "Q5  0.44 0.192 0.81   1\n",
       "Q6  0.24 0.059 0.94   1\n",
       "Q7  0.34 0.113 0.89   1\n",
       "Q8  0.17 0.028 0.97   1\n",
       "Q9  0.34 0.119 0.88   1\n",
       "Q10 0.26 0.069 0.93   1\n",
       "Q11 0.26 0.066 0.93   1\n",
       "Q12 0.31 0.093 0.91   1\n",
       "\n",
       "                ML1\n",
       "SS loadings    2.30\n",
       "Proportion Var 0.19\n",
       "\n",
       "Mean item complexity =  1\n",
       "Test of the hypothesis that 1 factor is sufficient.\n",
       "\n",
       "df null model =  66  with the objective function =  2.91 with Chi Square =  493.02\n",
       "df of  the model are 54  and the objective function was  1.62 \n",
       "\n",
       "The root mean square of the residuals (RMSR) is  0.15 \n",
       "The df corrected root mean square of the residuals is  0.16 \n",
       "\n",
       "The harmonic n.obs is  175 with the empirical chi square  489.72  with prob <  1.6e-71 \n",
       "The total n.obs was  175  with Likelihood Chi Square =  273.03  with prob <  5.2e-31 \n",
       "\n",
       "Tucker Lewis Index of factoring reliability =  0.37\n",
       "RMSEA index =  0.152  and the 90 % confidence intervals are  0.135 0.171\n",
       "BIC =  -5.87\n",
       "Fit based upon off diagonal values = 0.63\n",
       "Measures of factor score adequacy             \n",
       "                                                   ML1\n",
       "Correlation of (regression) scores with factors   0.88\n",
       "Multiple R square of scores with factors          0.78\n",
       "Minimum correlation of possible factor scores     0.56"
      ]
     },
     "metadata": {},
     "output_type": "display_data"
    }
   ],
   "source": [
    "fa(Construct, fm = \"ml\", rotate = \"varimax\")"
   ]
  },
  {
   "cell_type": "markdown",
   "id": "3e3a668f",
   "metadata": {},
   "source": [
    "<br>\n",
    "\n",
    "### 요인구조의 회전\n",
    "- **구성 타당도를 평가하기 위한 요인분석이 동일한 구성개념을 측정하는 변수들 간에는 상대적으로 높은 상관성(집중성)을,**\n",
    "\n",
    "    **반면 서로 다른 구성개념을 측정하는 변수들 간에는 상대적으로 낮은 상관성(변별성)을 가지는 지 파악하기 위해서**\n",
    "    \n",
    "    **요인구조를 단순화하기 위한 회전은 실제로 필수적**\n",
    "    \n",
    "- **요인구조 회전 방법론 :** \n",
    "    - **직교회전** : 베리맥스 (varimax), 쿼터맥스 (quartimax)\n",
    "    - **사각회전** : 오블리민 (oblimin), 프로맥스 (promax)\n",
    "    \n",
    "<br>\n",
    "\n",
    "#### 직교회전 (orthogonal rotation)\n",
    "- **요인의 직교성(독립성)을 유지하면서 요인구조를 회전**\n",
    "- 요인분석의 실제 목적이 서로 상대적으로 독립적인 소수 몇 개의 요인을 유도하여, 측정변수들 간의 구조를 파악하는데 있다는 점을 중시할 때, 통상적으로 직교회전을 이용하는 것이 더 바람직\n",
    "\n",
    "- varimax가 가장 많이 추천되고 사용\n",
    "\n",
    "<br>\n",
    "\n",
    "#### 사각회전 (oblique rotation)\n",
    "- **요인의 직교성을 포기하고, 단순성이라는 측면에서 요인구조의 해석 자체에 더 큰 비중을 둠**\n",
    "- 사각회전에 따라 요인구조를 얻었을 경우, 요인의 해석은 더 쉬워질 수 있으나, 요인들 간의 상관관계가 도입되어 관찰될 수 없는 요인들 사이의 상관성을 또 다시 설명해야 하는 문제가 발생\n",
    "    \n",
    "    따라서 사각회전은 보조적인 도구로 조심스럽게 사용\n",
    "    \n",
    "<br>\n",
    "\n",
    "#### `principal()`의 `rotate`을 입력하여 조절"
   ]
  },
  {
   "cell_type": "code",
   "execution_count": 42,
   "id": "ec94f4f8",
   "metadata": {},
   "outputs": [
    {
     "name": "stdout",
     "output_type": "stream",
     "text": [
      "Principal Components Analysis\n",
      "Call: principal(r = Construct, nfactors = 3, rotate = \"varimax\")\n",
      "Standardized loadings (pattern matrix) based upon correlation matrix\n",
      "      RC1   RC2   RC3   h2   u2 com\n",
      "Q1   0.69  0.01  0.06 0.48 0.52 1.0\n",
      "Q2   0.66  0.14  0.10 0.47 0.53 1.1\n",
      "Q3   0.76  0.11  0.01 0.60 0.40 1.0\n",
      "Q4   0.80  0.03  0.09 0.65 0.35 1.0\n",
      "Q5   0.45  0.09  0.34 0.32 0.68 2.0\n",
      "Q6   0.01  0.69  0.17 0.51 0.49 1.1\n",
      "Q7   0.17  0.82 -0.05 0.70 0.30 1.1\n",
      "Q8  -0.05  0.73  0.00 0.53 0.47 1.0\n",
      "Q9   0.27  0.65 -0.12 0.50 0.50 1.4\n",
      "Q10  0.06  0.00  0.83 0.69 0.31 1.0\n",
      "Q11  0.09 -0.03  0.75 0.57 0.43 1.0\n",
      "Q12  0.12  0.02  0.80 0.65 0.35 1.0\n",
      "\n",
      "                       RC1  RC2  RC3\n",
      "SS loadings           2.47 2.14 2.07\n",
      "Proportion Var        0.21 0.18 0.17\n",
      "Cumulative Var        0.21 0.38 0.56\n",
      "Proportion Explained  0.37 0.32 0.31\n",
      "Cumulative Proportion 0.37 0.69 1.00\n",
      "\n",
      "Mean item complexity =  1.2\n",
      "Test of the hypothesis that 3 components are sufficient.\n",
      "\n",
      "The root mean square of the residuals (RMSR) is  0.09 \n",
      " with the empirical chi square  167.54  with prob <  6.3e-20 \n",
      " 3\n",
      "Fit based upon off diagonal values = 0.87"
     ]
    }
   ],
   "source": [
    "construct.fit <- principal(Construct, nfactors = 3, rotate = \"varimax\")\n",
    "print(construct.fit, digis = 3)"
   ]
  },
  {
   "cell_type": "markdown",
   "id": "4178b1cd",
   "metadata": {},
   "source": [
    "<br>\n",
    "\n",
    "### 요인적재값과 설명분산\n",
    "- **요인분석 결과 해석 시 요인구조를 통해 어느 측정변수가 어느 요인에 속하는지를 결정하고, 높은 적재값을 갖는 측정변수들의 공통적인 의미가 무엇인지를 파악하여 요인의 의미를 부여**\n",
    "\n",
    "- 요인적재값 : 측정변수와 요인 간의 연관성의 크기\n",
    "    - 높은 적재값에 대한 기준은 다양 (보통 절댓값 0.3, 0.4, 0.5 정도가 사용)"
   ]
  },
  {
   "cell_type": "markdown",
   "id": "d9f19755",
   "metadata": {},
   "source": [
    "<br>\n",
    "\n",
    "**위 결과에 대한 요인적재값과 설명분산**\n",
    "- 첫 번째 요인에 높은 적재값을 갖는 문항 : Q1, Q2, Q3, Q4 $\\rightarrow$ 내적 성향\n",
    "- 두 번재 요인에 높은 적재값을 갖는 문항 : Q6, Q7, Q8, Q9 $\\rightarrow$ 타인 의존성향\n",
    "- 세 번째 요인에 높은 적재값을 갖는 문항 : Q9, Q10, Q11 $\\rightarrow$ 우연성향\n",
    "\n",
    "<br>\n",
    "\n",
    "- **문항 Q5는 첫 번째 요인에 다소 낮은 적재값을, 세 번째 요인에 조금 높은 적재값을 가짐 $\\rightarrow$ 내적 구조의 평가에 있어서 약간의 문제를 일으키는 문항으로 판단**\n",
    "\n",
    "    만약 예비조사의 단계라면 Q5를 수정하여 실시\n",
    "    \n",
    "    데이터 수집이 완료된 상황이라면 Q5를 제외하고 이후의 분석을 진행\n",
    "    \n",
    "<br>\n",
    "\n",
    "- **각 행의 원소들의 제곱합 : 공통성 (communality)**\n",
    "    - 해당 변수의 분산 중 3개의 요인들에 대하여 설명되는 부분\n",
    "    \n",
    "- **각 열의 원소들의 제곱합을 요인들의 설명분산 (explained variance)**    \n",
    "    - 전체 변수들의 분산(변이) 중 각 요인에 의해 설명되는 부분을 의미\n",
    "- 설명분산 (SS loadings), 설명비율 (Proportion Var), 누적비율 (Cumulative Var)\n",
    "    \n",
    "    \n",
    "<hr>\n",
    "\n",
    "\n",
    "\n",
    "| 문항 | 요인1 | 요인2 | 요인3 | 공통성 |\n",
    "| - | - | - | - | - |\n",
    "| Q1 | 0.689 | 0.006 | 0.058 | 0.478 |\n",
    "| Q2 | 0.662 | 0.138 | 0.099 | 0.467 |\n",
    "| Q3 | 0.764 | 0.111 | 0.007 | 0.597 |\n",
    "| Q4 | 0.802 | 0.031 | 0.091 | 0.653 |\n",
    "| Q5 | 0.448 | 0.090 | 0.340 | 0.325 |\n",
    "| |\n",
    "| Q6 | 0.007 | 0.693 | 0.165 | 0.508 |\n",
    "| Q7 | 0.165 | 0.817 | -0.049 | 0.697 |\n",
    "| Q8 | -0.048 | 0.726 | 0.004 | 0.530 |\n",
    "| Q9 | 0.269 | 0.647 | -0.118 | 0.505 |\n",
    "| |\n",
    "| Q10 | 0.063 | -0.001 | 0.829 | 0.691 |\n",
    "| Q11 | 0.090 | -0.026 | 0.752 | 0.574 |\n",
    "| Q12 | 0.117 | 0.025 | 0.799 | 0.653 |\n",
    "| |\n",
    "| 설명분산 | 2.471 | 2.135 | 2.071 |  |\n",
    "| 설명비율 | 20.6% | 17.8% | 17.3% |  |\n",
    "| 누적비율 | 20.6% | 38.4% | 55.6% |  |\n"
   ]
  },
  {
   "cell_type": "markdown",
   "id": "538a967b",
   "metadata": {},
   "source": [
    "<br>\n",
    "\n",
    "- 문항 Q5를 제외하고 다시 요인분석 시행"
   ]
  },
  {
   "cell_type": "code",
   "execution_count": 45,
   "id": "70fc3d81",
   "metadata": {},
   "outputs": [
    {
     "name": "stdout",
     "output_type": "stream",
     "text": [
      "Principal Components Analysis\n",
      "Call: principal(r = Construct %>% select(-Q5), nfactors = 3, rotate = \"varimax\")\n",
      "Standardized loadings (pattern matrix) based upon correlation matrix\n",
      "      RC1   RC3   RC2   h2   u2 com\n",
      "Q1   0.71  0.01  0.08 0.51 0.49 1.0\n",
      "Q2   0.64  0.14  0.09 0.44 0.56 1.1\n",
      "Q3   0.78  0.11  0.02 0.62 0.38 1.0\n",
      "Q4   0.82  0.04  0.11 0.68 0.32 1.0\n",
      "Q6   0.01  0.69  0.17 0.51 0.49 1.1\n",
      "Q7   0.16  0.82 -0.05 0.70 0.30 1.1\n",
      "Q8  -0.05  0.73  0.00 0.53 0.47 1.0\n",
      "Q9   0.27  0.65 -0.12 0.50 0.50 1.4\n",
      "Q10  0.07  0.00  0.84 0.71 0.29 1.0\n",
      "Q11  0.08 -0.02  0.75 0.57 0.43 1.0\n",
      "Q12  0.12  0.03  0.81 0.67 0.33 1.0\n",
      "\n",
      "                       RC1  RC3  RC2\n",
      "SS loadings           2.31 2.13 2.00\n",
      "Proportion Var        0.21 0.19 0.18\n",
      "Cumulative Var        0.21 0.40 0.59\n",
      "Proportion Explained  0.36 0.33 0.31\n",
      "Cumulative Proportion 0.36 0.69 1.00\n",
      "\n",
      "Mean item complexity =  1.1\n",
      "Test of the hypothesis that 3 components are sufficient.\n",
      "\n",
      "The root mean square of the residuals (RMSR) is  0.09 \n",
      " with the empirical chi square  148.27  with prob <  1.8e-19 \n",
      " 3\n",
      "Fit based upon off diagonal values = 0.87"
     ]
    }
   ],
   "source": [
    "construct.fit.A <- principal(Construct %>% select(-Q5), nfactors = 3, rotate = \"varimax\")\n",
    "print(construct.fit.A, digis = 3)"
   ]
  },
  {
   "cell_type": "markdown",
   "id": "b1533b2e",
   "metadata": {},
   "source": [
    "* 모든문항들이 관련 요인과 0.5이상의 적재값을 가지며, 다른 요인들과는 낮은 적재값을 가짐\n",
    "- 전체 분산 중 각 요인들에 의해 설명되는 비율은 각각 21.0% ,19.4%, 18.1% 이고, 세 요인들에 의한 누적 설명비율은 58.5%\n",
    "\n",
    "<hr>\n",
    "\n",
    "| 문항 | 요인1 | 요인2 | 요인3 | 공통성 |\n",
    "| - | - | - | - | - |\n",
    "| Q1 | 0.706 | 0.009 | 0.080 | 0.506 |\n",
    "| Q2 | 0.644 | 0.144 | 0.091 | 0.444 |\n",
    "| Q3 | 0.776 | 0.114 | 0.024 | 0.616 |\n",
    "| Q4 | 0.818 | 0.036 | 0.112 | 0.683 |\n",
    "| |\n",
    "| Q6 | 0.012 | 0.693 | 0.169 | 0.510 |\n",
    "| Q7 | 0.159 | 0.817 | -0.054 | 0.696 |\n",
    "| Q8 | -0.052 | 0.726 | -0.001 | 0.531 |\n",
    "| Q9 | 0.266 | 0.647 | -0.121 | 0.505 |\n",
    "| |\n",
    "| Q10 | 0.065 | 0.004 | 0.838 | 0.707 |\n",
    "| Q11 | 0.080 | -0.020 | 0.750 | 0.569 |\n",
    "| Q12 | 0.122 | 0.030 | 0.811 | 0.673 |\n",
    "| |\n",
    "| 설명분산 | 2.310 | 2.133 | 1.996 |  |\n",
    "| 설명비율 | 21.0% | 19.4% | 18.1% |  |\n",
    "| 누적비율 | 21.0% | 40.4% | 58.5% |  |"
   ]
  },
  {
   "cell_type": "markdown",
   "id": "f995474e",
   "metadata": {},
   "source": [
    "<br>\n",
    "\n",
    "### 구인점수들 간의 상관성\n",
    "- 내적성향 점수 (Construct 1) = (Q1 + Q2 + Q3 + Q4) / 4\n",
    "- 타인의존성향  점수 (Construct 2) = (Q6 + Q7 + Q8 + Q9) / 4\n",
    "- 우연성향 점수 (Construct 3) = (Q10 + Q11 + Q12) / 3\n",
    "\n",
    "<br>\n",
    "\n",
    "- 우연성향 점수 (Construct 3)은 다른 구인점수들과 낮은 상관을 보이며, Construct 2와는 유의하지 않은 상관성을 가짐\n",
    "\n",
    "    $\\rightarrow$ 우연성향 점수는 다른 구인들과 동일한 개념을 측정한다고 보기 어려울 수 있으며, 전체 점수를 구할 경우에는 제외하는 것이 바람직"
   ]
  },
  {
   "cell_type": "code",
   "execution_count": 50,
   "id": "1d285eda",
   "metadata": {},
   "outputs": [
    {
     "data": {
      "text/html": [
       "<table class=\"dataframe\">\n",
       "<caption>A matrix: 3 × 3 of type dbl</caption>\n",
       "<thead>\n",
       "\t<tr><th></th><th scope=col>Con1</th><th scope=col>Con2</th><th scope=col>Con3</th></tr>\n",
       "</thead>\n",
       "<tbody>\n",
       "\t<tr><th scope=row>Con1</th><td>1.0000000</td><td>0.22420932</td><td>0.19999894</td></tr>\n",
       "\t<tr><th scope=row>Con2</th><td>0.2242093</td><td>1.00000000</td><td>0.02218169</td></tr>\n",
       "\t<tr><th scope=row>Con3</th><td>0.1999989</td><td>0.02218169</td><td>1.00000000</td></tr>\n",
       "</tbody>\n",
       "</table>\n"
      ],
      "text/latex": [
       "A matrix: 3 × 3 of type dbl\n",
       "\\begin{tabular}{r|lll}\n",
       "  & Con1 & Con2 & Con3\\\\\n",
       "\\hline\n",
       "\tCon1 & 1.0000000 & 0.22420932 & 0.19999894\\\\\n",
       "\tCon2 & 0.2242093 & 1.00000000 & 0.02218169\\\\\n",
       "\tCon3 & 0.1999989 & 0.02218169 & 1.00000000\\\\\n",
       "\\end{tabular}\n"
      ],
      "text/markdown": [
       "\n",
       "A matrix: 3 × 3 of type dbl\n",
       "\n",
       "| <!--/--> | Con1 | Con2 | Con3 |\n",
       "|---|---|---|---|\n",
       "| Con1 | 1.0000000 | 0.22420932 | 0.19999894 |\n",
       "| Con2 | 0.2242093 | 1.00000000 | 0.02218169 |\n",
       "| Con3 | 0.1999989 | 0.02218169 | 1.00000000 |\n",
       "\n"
      ],
      "text/plain": [
       "     Con1      Con2       Con3      \n",
       "Con1 1.0000000 0.22420932 0.19999894\n",
       "Con2 0.2242093 1.00000000 0.02218169\n",
       "Con3 0.1999989 0.02218169 1.00000000"
      ]
     },
     "metadata": {},
     "output_type": "display_data"
    }
   ],
   "source": [
    "Construct %>% mutate(Con1 = (Q1 + Q2 + Q3 + Q4) / 4,\n",
    "                     Con2 = (Q6 + Q7 + Q8 + Q9) / 4,\n",
    "                     Con3 = (Q10 + Q11 + Q12) / 3) -> Construct\n",
    "\n",
    "cor(Construct %>% select(starts_with(\"Con\")))"
   ]
  },
  {
   "cell_type": "markdown",
   "id": "a46924f7",
   "metadata": {},
   "source": [
    "<br>\n",
    "\n",
    "### 집중 타당도와 변별 타당도\n",
    "- **구성 타당도 : 측정도구와 기존의 확립된 몇 가지 심리적 구인들 간 연관성을 확인**\n",
    "- **집중 타당도(수렴 타당도) : 같은 개념을 측정하는 문항들 간에는 상대적으로 높은 상관성(일관성)을 가져야 한다는 것**\n",
    "- **변별 타당도 : 다른 개념을 측정하는 문항들 간에는 상대적으로 낮은 상관성을 가져야 한다는 것**\n",
    "\n",
    "<br>\n",
    "\n",
    "- 탐색적 요인분석에서는 요인적재값을 통해 이러한 타당도를 평가\n",
    "    - **각 문항들이 관련 요인들과 높은 적재값을 가지는지를 통해 집중 타당도를 평가**\n",
    "    - **각 문항들이 다른 요인들과 낮은 적재값을 가지는지를 통해 변별 타당도를 평가**\n",
    "    \n",
    "<br>\n",
    "\n",
    "- **구인점수들 사이에 지나치게 높은 상관성이 있으면 변별 타당도에 문제가 있는 것**\n",
    "- **구인점수들 사이에 상관성이 너무 낮으면 구인들이 동일한 개념을 측정한다고 볼 수 없음**"
   ]
  },
  {
   "cell_type": "markdown",
   "id": "51ad94dd",
   "metadata": {},
   "source": [
    "<br>\n",
    "\n",
    "## 08.03. 확증적 요인분석\n",
    "- **탐색적 요인분석 : 요인의 개수나 구조에 대한 특별한 가정 없이, 데이터에 내재되어 있는 특성을 탐색하여 관심 있는 가설이나 모형 및 구조 등을 생성**\n",
    "    - 몇 가지 제한 사항 존재:\n",
    "    \n",
    "        1. 연구자는 모든 요인들이 서로 상관되어 있지 않거나 (직교회전), 모두 상관되어 있는 (사각회전) 것으로 가정해야 함\n",
    "        \n",
    "            **즉, 특정한 요인들 사이에만 상관성을 두거나 없앨 수 없음**\n",
    "            \n",
    "        2. 모든 측정변수들은 모든 요인에 적재된다고 가정해야 함\n",
    "        \n",
    "            **즉, 특정 측정변수를 특정 요인에 배정하거나, 다른 요인에 배정할 수 없음**\n",
    "            \n",
    "            \n",
    "<br>\n",
    "\n",
    "- **확증적 요인분석 : **\n",
    "    - 탐색적 요인분석의 단점을 해소\n",
    "    - 요인구조에 대한 연구자의 가설을 모형화하고, 실제 데이터에 의한 가설의 지지여부를 모형의 부합도라는 관점에서 검증\n",
    "    \n",
    "<br>\n",
    "\n",
    "- 확증적 요인분석이 가설검정에 필요한 통계적 도구를 제공하지만, 어떠한 과정을 어디까지 사용할 것인지는 궁극적으로 연구자에게 달림\n",
    "    - 구체적으로 계획된 예측이 있어도, 연구자는 탐색적 요인분석을 사용할 수 있음\n",
    "    - 확증적 요인분석도 상당히 탐색적 방식으로 사용될 수 있음\n",
    "    \n",
    "<br>\n"
   ]
  },
  {
   "cell_type": "markdown",
   "id": "2a3b50c9",
   "metadata": {},
   "source": [
    "### 초기 모형"
   ]
  },
  {
   "cell_type": "code",
   "execution_count": 51,
   "id": "19ae91c0",
   "metadata": {},
   "outputs": [],
   "source": [
    "Construct.A <- \"\n",
    "\n",
    "    # measurement\n",
    "    Factor1 =~ Q1 + Q2 + Q3 + Q4 + Q5\n",
    "    Factor2 =~ Q6 + Q7 + Q8 + Q9\n",
    "    Factor3 =~ Q10 + Q11 + Q12\n",
    "\""
   ]
  },
  {
   "cell_type": "code",
   "execution_count": 53,
   "id": "cd36a3df",
   "metadata": {},
   "outputs": [
    {
     "data": {
      "image/png": "[encoded data removed]",
      "text/plain": [
       "plot without title"
      ]
     },
     "metadata": {
      "image/png": {
       "height": 420,
       "width": 420
      }
     },
     "output_type": "display_data"
    }
   ],
   "source": [
    "Construct.A.fit <- sem(Construct.A, Construct)\n",
    "semPaths(Construct.A.fit, whatLabels = \"std\", style = \"lisrel\", nCharNodes = 0, rotation = 2)"
   ]
  },
  {
   "cell_type": "markdown",
   "id": "ba08baa3",
   "metadata": {},
   "source": [
    "- 적합도 지수들이 비교적 우수"
   ]
  },
  {
   "cell_type": "code",
   "execution_count": 56,
   "id": "ff59b280",
   "metadata": {},
   "outputs": [],
   "source": [
    "library(tidymodels)"
   ]
  },
  {
   "cell_type": "code",
   "execution_count": 57,
   "id": "5be62fe2",
   "metadata": {},
   "outputs": [
    {
     "name": "stderr",
     "output_type": "stream",
     "text": [
      "Warning message:\n",
      "\"'tidy.numeric' is deprecated.\n",
      "See help(\"Deprecated\")\"\n"
     ]
    },
    {
     "data": {
      "text/html": [
       "<table class=\"dataframe\">\n",
       "<caption>A tibble: 8 × 2</caption>\n",
       "<thead>\n",
       "\t<tr><th scope=col>names</th><th scope=col>x</th></tr>\n",
       "\t<tr><th scope=col>&lt;chr&gt;</th><th scope=col>&lt;lvn.vctr&gt;</th></tr>\n",
       "</thead>\n",
       "<tbody>\n",
       "\t<tr><td>chisq</td><td>69.84869022</td></tr>\n",
       "\t<tr><td>df   </td><td>51.00000000</td></tr>\n",
       "\t<tr><td>cfi  </td><td> 0.95755015</td></tr>\n",
       "\t<tr><td>tli  </td><td> 0.94506489</td></tr>\n",
       "\t<tr><td>rmsea</td><td> 0.04595539</td></tr>\n",
       "\t<tr><td>srmr </td><td> 0.05589785</td></tr>\n",
       "\t<tr><td>gfi  </td><td> 0.94047771</td></tr>\n",
       "\t<tr><td>agfi </td><td> 0.90896591</td></tr>\n",
       "</tbody>\n",
       "</table>\n"
      ],
      "text/latex": [
       "A tibble: 8 × 2\n",
       "\\begin{tabular}{ll}\n",
       " names & x\\\\\n",
       " <chr> & <lvn.vctr>\\\\\n",
       "\\hline\n",
       "\t chisq & 69.84869022\\\\\n",
       "\t df    & 51.00000000\\\\\n",
       "\t cfi   &  0.95755015\\\\\n",
       "\t tli   &  0.94506489\\\\\n",
       "\t rmsea &  0.04595539\\\\\n",
       "\t srmr  &  0.05589785\\\\\n",
       "\t gfi   &  0.94047771\\\\\n",
       "\t agfi  &  0.90896591\\\\\n",
       "\\end{tabular}\n"
      ],
      "text/markdown": [
       "\n",
       "A tibble: 8 × 2\n",
       "\n",
       "| names &lt;chr&gt; | x &lt;lvn.vctr&gt; |\n",
       "|---|---|\n",
       "| chisq | 69.84869022 |\n",
       "| df    | 51.00000000 |\n",
       "| cfi   |  0.95755015 |\n",
       "| tli   |  0.94506489 |\n",
       "| rmsea |  0.04595539 |\n",
       "| srmr  |  0.05589785 |\n",
       "| gfi   |  0.94047771 |\n",
       "| agfi  |  0.90896591 |\n",
       "\n"
      ],
      "text/plain": [
       "  names x          \n",
       "1 chisq 69.84869022\n",
       "2 df    51.00000000\n",
       "3 cfi    0.95755015\n",
       "4 tli    0.94506489\n",
       "5 rmsea  0.04595539\n",
       "6 srmr   0.05589785\n",
       "7 gfi    0.94047771\n",
       "8 agfi   0.90896591"
      ]
     },
     "metadata": {},
     "output_type": "display_data"
    }
   ],
   "source": [
    "tidy(fitMeasures(Construct.A.fit)) %>%\n",
    "    filter(names %in% c(\"chisq\", \"df\", \"gfi\", \"agfi\", \"cfi\", \"tli\", \"rmsea\", \"srmr\"))"
   ]
  },
  {
   "cell_type": "markdown",
   "id": "9d36a2b1",
   "metadata": {},
   "source": [
    "- 계수 추정치"
   ]
  },
  {
   "cell_type": "code",
   "execution_count": 70,
   "id": "ca2f432e",
   "metadata": {
    "scrolled": false
   },
   "outputs": [],
   "source": [
    "# summary(Construct.A.fit, fit.measures = T, rsquare = T, standardized = T)$pe "
   ]
  },
  {
   "cell_type": "markdown",
   "id": "fe848dc4",
   "metadata": {},
   "source": [
    "- 수정지수"
   ]
  },
  {
   "cell_type": "code",
   "execution_count": 63,
   "id": "3c177142",
   "metadata": {},
   "outputs": [],
   "source": [
    "# modificationindices(Construct.A.fit, sort = T)"
   ]
  },
  {
   "cell_type": "markdown",
   "id": "9e6c3c89",
   "metadata": {},
   "source": [
    "<br>\n",
    "\n",
    "### 합성 신뢰도와 평균분산추출\n",
    "- 확증적 요인분석에는 요인적재값과 함께 몇 가지 추가적인 통계량들을 이용\n",
    "\n",
    "<br>\n",
    "\n",
    "- 요인적재값"
   ]
  },
  {
   "cell_type": "code",
   "execution_count": 66,
   "id": "5890e7fd",
   "metadata": {},
   "outputs": [
    {
     "data": {
      "text/html": [
       "<table class=\"dataframe\">\n",
       "<caption>A data.frame: 12 × 6</caption>\n",
       "<thead>\n",
       "\t<tr><th scope=col>lhs</th><th scope=col>op</th><th scope=col>rhs</th><th scope=col>est</th><th scope=col>std.all</th><th scope=col>pvalue</th></tr>\n",
       "\t<tr><th scope=col>&lt;chr&gt;</th><th scope=col>&lt;chr&gt;</th><th scope=col>&lt;chr&gt;</th><th scope=col>&lt;dbl&gt;</th><th scope=col>&lt;dbl&gt;</th><th scope=col>&lt;dbl&gt;</th></tr>\n",
       "</thead>\n",
       "<tbody>\n",
       "\t<tr><td>Factor1</td><td>=~</td><td>Q1 </td><td>1.0000000</td><td>0.5683059</td><td>          NA</td></tr>\n",
       "\t<tr><td>Factor1</td><td>=~</td><td>Q2 </td><td>0.9694507</td><td>0.6032540</td><td>1.306741e-08</td></tr>\n",
       "\t<tr><td>Factor1</td><td>=~</td><td>Q3 </td><td>1.0233307</td><td>0.6690551</td><td>1.620021e-09</td></tr>\n",
       "\t<tr><td>Factor1</td><td>=~</td><td>Q4 </td><td>1.0002992</td><td>0.7475988</td><td>2.955918e-10</td></tr>\n",
       "\t<tr><td>Factor1</td><td>=~</td><td>Q5 </td><td>0.7223793</td><td>0.4101721</td><td>1.710425e-05</td></tr>\n",
       "\t<tr><td>Factor2</td><td>=~</td><td>Q6 </td><td>1.0000000</td><td>0.5032708</td><td>          NA</td></tr>\n",
       "\t<tr><td>Factor2</td><td>=~</td><td>Q7 </td><td>1.6630848</td><td>0.8663160</td><td>4.155905e-08</td></tr>\n",
       "\t<tr><td>Factor2</td><td>=~</td><td>Q8 </td><td>0.9607288</td><td>0.5289268</td><td>6.486288e-07</td></tr>\n",
       "\t<tr><td>Factor2</td><td>=~</td><td>Q9 </td><td>1.0048955</td><td>0.5713964</td><td>1.882783e-07</td></tr>\n",
       "\t<tr><td>Factor3</td><td>=~</td><td>Q10</td><td>1.0000000</td><td>0.7540240</td><td>          NA</td></tr>\n",
       "\t<tr><td>Factor3</td><td>=~</td><td>Q11</td><td>0.8278134</td><td>0.5752769</td><td>8.436130e-10</td></tr>\n",
       "\t<tr><td>Factor3</td><td>=~</td><td>Q12</td><td>0.9940830</td><td>0.7616657</td><td>5.684653e-11</td></tr>\n",
       "</tbody>\n",
       "</table>\n"
      ],
      "text/latex": [
       "A data.frame: 12 × 6\n",
       "\\begin{tabular}{llllll}\n",
       " lhs & op & rhs & est & std.all & pvalue\\\\\n",
       " <chr> & <chr> & <chr> & <dbl> & <dbl> & <dbl>\\\\\n",
       "\\hline\n",
       "\t Factor1 & =\\textasciitilde{} & Q1  & 1.0000000 & 0.5683059 &           NA\\\\\n",
       "\t Factor1 & =\\textasciitilde{} & Q2  & 0.9694507 & 0.6032540 & 1.306741e-08\\\\\n",
       "\t Factor1 & =\\textasciitilde{} & Q3  & 1.0233307 & 0.6690551 & 1.620021e-09\\\\\n",
       "\t Factor1 & =\\textasciitilde{} & Q4  & 1.0002992 & 0.7475988 & 2.955918e-10\\\\\n",
       "\t Factor1 & =\\textasciitilde{} & Q5  & 0.7223793 & 0.4101721 & 1.710425e-05\\\\\n",
       "\t Factor2 & =\\textasciitilde{} & Q6  & 1.0000000 & 0.5032708 &           NA\\\\\n",
       "\t Factor2 & =\\textasciitilde{} & Q7  & 1.6630848 & 0.8663160 & 4.155905e-08\\\\\n",
       "\t Factor2 & =\\textasciitilde{} & Q8  & 0.9607288 & 0.5289268 & 6.486288e-07\\\\\n",
       "\t Factor2 & =\\textasciitilde{} & Q9  & 1.0048955 & 0.5713964 & 1.882783e-07\\\\\n",
       "\t Factor3 & =\\textasciitilde{} & Q10 & 1.0000000 & 0.7540240 &           NA\\\\\n",
       "\t Factor3 & =\\textasciitilde{} & Q11 & 0.8278134 & 0.5752769 & 8.436130e-10\\\\\n",
       "\t Factor3 & =\\textasciitilde{} & Q12 & 0.9940830 & 0.7616657 & 5.684653e-11\\\\\n",
       "\\end{tabular}\n"
      ],
      "text/markdown": [
       "\n",
       "A data.frame: 12 × 6\n",
       "\n",
       "| lhs &lt;chr&gt; | op &lt;chr&gt; | rhs &lt;chr&gt; | est &lt;dbl&gt; | std.all &lt;dbl&gt; | pvalue &lt;dbl&gt; |\n",
       "|---|---|---|---|---|---|\n",
       "| Factor1 | =~ | Q1  | 1.0000000 | 0.5683059 |           NA |\n",
       "| Factor1 | =~ | Q2  | 0.9694507 | 0.6032540 | 1.306741e-08 |\n",
       "| Factor1 | =~ | Q3  | 1.0233307 | 0.6690551 | 1.620021e-09 |\n",
       "| Factor1 | =~ | Q4  | 1.0002992 | 0.7475988 | 2.955918e-10 |\n",
       "| Factor1 | =~ | Q5  | 0.7223793 | 0.4101721 | 1.710425e-05 |\n",
       "| Factor2 | =~ | Q6  | 1.0000000 | 0.5032708 |           NA |\n",
       "| Factor2 | =~ | Q7  | 1.6630848 | 0.8663160 | 4.155905e-08 |\n",
       "| Factor2 | =~ | Q8  | 0.9607288 | 0.5289268 | 6.486288e-07 |\n",
       "| Factor2 | =~ | Q9  | 1.0048955 | 0.5713964 | 1.882783e-07 |\n",
       "| Factor3 | =~ | Q10 | 1.0000000 | 0.7540240 |           NA |\n",
       "| Factor3 | =~ | Q11 | 0.8278134 | 0.5752769 | 8.436130e-10 |\n",
       "| Factor3 | =~ | Q12 | 0.9940830 | 0.7616657 | 5.684653e-11 |\n",
       "\n"
      ],
      "text/plain": [
       "   lhs     op rhs est       std.all   pvalue      \n",
       "1  Factor1 =~ Q1  1.0000000 0.5683059           NA\n",
       "2  Factor1 =~ Q2  0.9694507 0.6032540 1.306741e-08\n",
       "3  Factor1 =~ Q3  1.0233307 0.6690551 1.620021e-09\n",
       "4  Factor1 =~ Q4  1.0002992 0.7475988 2.955918e-10\n",
       "5  Factor1 =~ Q5  0.7223793 0.4101721 1.710425e-05\n",
       "6  Factor2 =~ Q6  1.0000000 0.5032708           NA\n",
       "7  Factor2 =~ Q7  1.6630848 0.8663160 4.155905e-08\n",
       "8  Factor2 =~ Q8  0.9607288 0.5289268 6.486288e-07\n",
       "9  Factor2 =~ Q9  1.0048955 0.5713964 1.882783e-07\n",
       "10 Factor3 =~ Q10 1.0000000 0.7540240           NA\n",
       "11 Factor3 =~ Q11 0.8278134 0.5752769 8.436130e-10\n",
       "12 Factor3 =~ Q12 0.9940830 0.7616657 5.684653e-11"
      ]
     },
     "metadata": {},
     "output_type": "display_data"
    }
   ],
   "source": [
    "summary(Construct.A.fit, fit.measures = T, rsquare = T, standardized = T)$pe %>%\n",
    "    filter(op == \"=~\") %>% select(1:3, est, std.all, pvalue)"
   ]
  },
  {
   "cell_type": "code",
   "execution_count": 69,
   "id": "bb76a434",
   "metadata": {},
   "outputs": [
    {
     "data": {
      "text/html": [
       "<table class=\"dataframe\">\n",
       "<caption>A data.frame: 12 × 4</caption>\n",
       "<thead>\n",
       "\t<tr><th scope=col>lhs</th><th scope=col>op</th><th scope=col>rhs</th><th scope=col>est</th></tr>\n",
       "\t<tr><th scope=col>&lt;chr&gt;</th><th scope=col>&lt;chr&gt;</th><th scope=col>&lt;chr&gt;</th><th scope=col>&lt;dbl&gt;</th></tr>\n",
       "</thead>\n",
       "<tbody>\n",
       "\t<tr><td>Q1 </td><td>r2</td><td>Q1 </td><td>0.3229716</td></tr>\n",
       "\t<tr><td>Q2 </td><td>r2</td><td>Q2 </td><td>0.3639153</td></tr>\n",
       "\t<tr><td>Q3 </td><td>r2</td><td>Q3 </td><td>0.4476347</td></tr>\n",
       "\t<tr><td>Q4 </td><td>r2</td><td>Q4 </td><td>0.5589040</td></tr>\n",
       "\t<tr><td>Q5 </td><td>r2</td><td>Q5 </td><td>0.1682412</td></tr>\n",
       "\t<tr><td>Q6 </td><td>r2</td><td>Q6 </td><td>0.2532815</td></tr>\n",
       "\t<tr><td>Q7 </td><td>r2</td><td>Q7 </td><td>0.7505035</td></tr>\n",
       "\t<tr><td>Q8 </td><td>r2</td><td>Q8 </td><td>0.2797635</td></tr>\n",
       "\t<tr><td>Q9 </td><td>r2</td><td>Q9 </td><td>0.3264938</td></tr>\n",
       "\t<tr><td>Q10</td><td>r2</td><td>Q10</td><td>0.5685522</td></tr>\n",
       "\t<tr><td>Q11</td><td>r2</td><td>Q11</td><td>0.3309435</td></tr>\n",
       "\t<tr><td>Q12</td><td>r2</td><td>Q12</td><td>0.5801346</td></tr>\n",
       "</tbody>\n",
       "</table>\n"
      ],
      "text/latex": [
       "A data.frame: 12 × 4\n",
       "\\begin{tabular}{llll}\n",
       " lhs & op & rhs & est\\\\\n",
       " <chr> & <chr> & <chr> & <dbl>\\\\\n",
       "\\hline\n",
       "\t Q1  & r2 & Q1  & 0.3229716\\\\\n",
       "\t Q2  & r2 & Q2  & 0.3639153\\\\\n",
       "\t Q3  & r2 & Q3  & 0.4476347\\\\\n",
       "\t Q4  & r2 & Q4  & 0.5589040\\\\\n",
       "\t Q5  & r2 & Q5  & 0.1682412\\\\\n",
       "\t Q6  & r2 & Q6  & 0.2532815\\\\\n",
       "\t Q7  & r2 & Q7  & 0.7505035\\\\\n",
       "\t Q8  & r2 & Q8  & 0.2797635\\\\\n",
       "\t Q9  & r2 & Q9  & 0.3264938\\\\\n",
       "\t Q10 & r2 & Q10 & 0.5685522\\\\\n",
       "\t Q11 & r2 & Q11 & 0.3309435\\\\\n",
       "\t Q12 & r2 & Q12 & 0.5801346\\\\\n",
       "\\end{tabular}\n"
      ],
      "text/markdown": [
       "\n",
       "A data.frame: 12 × 4\n",
       "\n",
       "| lhs &lt;chr&gt; | op &lt;chr&gt; | rhs &lt;chr&gt; | est &lt;dbl&gt; |\n",
       "|---|---|---|---|\n",
       "| Q1  | r2 | Q1  | 0.3229716 |\n",
       "| Q2  | r2 | Q2  | 0.3639153 |\n",
       "| Q3  | r2 | Q3  | 0.4476347 |\n",
       "| Q4  | r2 | Q4  | 0.5589040 |\n",
       "| Q5  | r2 | Q5  | 0.1682412 |\n",
       "| Q6  | r2 | Q6  | 0.2532815 |\n",
       "| Q7  | r2 | Q7  | 0.7505035 |\n",
       "| Q8  | r2 | Q8  | 0.2797635 |\n",
       "| Q9  | r2 | Q9  | 0.3264938 |\n",
       "| Q10 | r2 | Q10 | 0.5685522 |\n",
       "| Q11 | r2 | Q11 | 0.3309435 |\n",
       "| Q12 | r2 | Q12 | 0.5801346 |\n",
       "\n"
      ],
      "text/plain": [
       "   lhs op rhs est      \n",
       "1  Q1  r2 Q1  0.3229716\n",
       "2  Q2  r2 Q2  0.3639153\n",
       "3  Q3  r2 Q3  0.4476347\n",
       "4  Q4  r2 Q4  0.5589040\n",
       "5  Q5  r2 Q5  0.1682412\n",
       "6  Q6  r2 Q6  0.2532815\n",
       "7  Q7  r2 Q7  0.7505035\n",
       "8  Q8  r2 Q8  0.2797635\n",
       "9  Q9  r2 Q9  0.3264938\n",
       "10 Q10 r2 Q10 0.5685522\n",
       "11 Q11 r2 Q11 0.3309435\n",
       "12 Q12 r2 Q12 0.5801346"
      ]
     },
     "metadata": {},
     "output_type": "display_data"
    }
   ],
   "source": [
    "summary(Construct.A.fit, fit.measures = T, rsquare = T, standardized = T)$pe %>%\n",
    "    filter(op == \"r2\") %>% select(1:3, est)"
   ]
  },
  {
   "cell_type": "markdown",
   "id": "127fa464",
   "metadata": {},
   "source": [
    "* 요인 간 상관계수"
   ]
  },
  {
   "cell_type": "code",
   "execution_count": 73,
   "id": "93169f17",
   "metadata": {},
   "outputs": [
    {
     "data": {
      "text/html": [
       "<table class=\"dataframe\">\n",
       "<caption>A data.frame: 6 × 4</caption>\n",
       "<thead>\n",
       "\t<tr><th scope=col>lhs</th><th scope=col>op</th><th scope=col>rhs</th><th scope=col>std.all</th></tr>\n",
       "\t<tr><th scope=col>&lt;chr&gt;</th><th scope=col>&lt;chr&gt;</th><th scope=col>&lt;chr&gt;</th><th scope=col>&lt;dbl&gt;</th></tr>\n",
       "</thead>\n",
       "<tbody>\n",
       "\t<tr><td>Factor1</td><td>~~</td><td>Factor1</td><td> 1.000000000</td></tr>\n",
       "\t<tr><td>Factor2</td><td>~~</td><td>Factor2</td><td> 1.000000000</td></tr>\n",
       "\t<tr><td>Factor3</td><td>~~</td><td>Factor3</td><td> 1.000000000</td></tr>\n",
       "\t<tr><td>Factor1</td><td>~~</td><td>Factor2</td><td> 0.301441656</td></tr>\n",
       "\t<tr><td>Factor1</td><td>~~</td><td>Factor3</td><td> 0.294510318</td></tr>\n",
       "\t<tr><td>Factor2</td><td>~~</td><td>Factor3</td><td>-0.005445575</td></tr>\n",
       "</tbody>\n",
       "</table>\n"
      ],
      "text/latex": [
       "A data.frame: 6 × 4\n",
       "\\begin{tabular}{llll}\n",
       " lhs & op & rhs & std.all\\\\\n",
       " <chr> & <chr> & <chr> & <dbl>\\\\\n",
       "\\hline\n",
       "\t Factor1 & \\textasciitilde{}\\textasciitilde{} & Factor1 &  1.000000000\\\\\n",
       "\t Factor2 & \\textasciitilde{}\\textasciitilde{} & Factor2 &  1.000000000\\\\\n",
       "\t Factor3 & \\textasciitilde{}\\textasciitilde{} & Factor3 &  1.000000000\\\\\n",
       "\t Factor1 & \\textasciitilde{}\\textasciitilde{} & Factor2 &  0.301441656\\\\\n",
       "\t Factor1 & \\textasciitilde{}\\textasciitilde{} & Factor3 &  0.294510318\\\\\n",
       "\t Factor2 & \\textasciitilde{}\\textasciitilde{} & Factor3 & -0.005445575\\\\\n",
       "\\end{tabular}\n"
      ],
      "text/markdown": [
       "\n",
       "A data.frame: 6 × 4\n",
       "\n",
       "| lhs &lt;chr&gt; | op &lt;chr&gt; | rhs &lt;chr&gt; | std.all &lt;dbl&gt; |\n",
       "|---|---|---|---|\n",
       "| Factor1 | ~~ | Factor1 |  1.000000000 |\n",
       "| Factor2 | ~~ | Factor2 |  1.000000000 |\n",
       "| Factor3 | ~~ | Factor3 |  1.000000000 |\n",
       "| Factor1 | ~~ | Factor2 |  0.301441656 |\n",
       "| Factor1 | ~~ | Factor3 |  0.294510318 |\n",
       "| Factor2 | ~~ | Factor3 | -0.005445575 |\n",
       "\n"
      ],
      "text/plain": [
       "  lhs     op rhs     std.all     \n",
       "1 Factor1 ~~ Factor1  1.000000000\n",
       "2 Factor2 ~~ Factor2  1.000000000\n",
       "3 Factor3 ~~ Factor3  1.000000000\n",
       "4 Factor1 ~~ Factor2  0.301441656\n",
       "5 Factor1 ~~ Factor3  0.294510318\n",
       "6 Factor2 ~~ Factor3 -0.005445575"
      ]
     },
     "metadata": {},
     "output_type": "display_data"
    }
   ],
   "source": [
    "summary(Construct.A.fit, fit.measures = T, rsquare = T, standardized = T)$pe %>%\n",
    "    filter(op == \"~~\") %>% filter(str_detect(lhs, \"Factor\")) %>% \n",
    "    select(1:3, std.all)"
   ]
  },
  {
   "cell_type": "markdown",
   "id": "5d00c88b",
   "metadata": {},
   "source": [
    "- **요인 간 합성 신뢰도 : 동일한 요인을 구성하는 문항 들 간에 내적일관성이 있는지 측정**\n",
    "    \n",
    "    $\\hat{\\lambda_{ij}}$= i번째 요인과 j번째 문항에 대한 요인적재값 표준화 추정치\n",
    "    \n",
    "    i번째 요인의 합성 신뢰도\n",
    "    \n",
    "    $$합성\\;신뢰도(F_i)= {{(\\sum^{p_i}_{j=1} \\hat{\\lambda_{ij}})^2}\\over{(\\sum^{p_i}_{j=1} \\hat{\\lambda_{ij}})^2+(\\sum^{p_i}_{j=1} (1-\\hat{\\lambda^2_{ij}}))}}$$\n",
    "\n",
    "- 요인 간 평균분산추출 (AVE) : 측정문항들의 분산 중 해당요인이 설명하는 분산의 비율을 의미\n",
    "\n",
    "    i번째 요인의 AVE\n",
    "    \n",
    "    $$AVE(F_i)\\;={{\\sum^{p_i}_{j=1} \\hat{\\lambda^2_{ij}}}\\over{\\sum^{p_i}_{j=1} \\hat{\\lambda^2_{ij}}+ \\lambda^{p_i}_{j=1} (1-\\hat{\\lambda^2_{ij}})}} = {1\\over{p_i}} \\sum^{p_i}_{j=1}\\hat{\\lambda^2_{ij}}$$\n",
    "    \n",
    "<br>\n",
    "\n",
    "**요인 간 상관계수, 합성 신뢰도, 평균분산추출**\n",
    "\n",
    "| 요인 | Factor1 | Factor 2 | Factor 3 | 합성 신뢰도 | 평균분산추출 |\n",
    "| - | - | - | - | - | - |\n",
    "| Factor1 | 1 | | | 0.741 | 0.373 |\n",
    "| Factor2 | 0.301* | 1| | 0.718 | 0.402 |\n",
    "| Factor3 | 0.295* | -0.005| 1| 0.742 | 0.493 |"
   ]
  },
  {
   "cell_type": "markdown",
   "id": "acf61bf1",
   "metadata": {},
   "source": [
    "<br>\n",
    "\n",
    "### 집중 타당도 평가\n",
    "- **집중 타당도 : 같은 개념을 측정하는 문항들 간에 상대적으로 높은 상관성 (일관성)을 평가**\n",
    "\n",
    "<br>\n",
    "\n",
    "1. **$H_0 :$요인적재값이 0이다 라는 가설에 대한 검정**\n",
    "\n",
    "    위 결과에서 모든 경로계수가 통계적으로 유의 $\\rightarrow$ 귀무가설 기각\n",
    "\n",
    "<br>\n",
    "\n",
    "2. **표준화 적재값이 권장 기준을 넘는지를 평가** \n",
    "\n",
    "    위 결과에서 문항 Q5에 대한 표준화 적재값이 0.5에 미치지 못함을 확인 (0.4101721) $\\rightarrow$ 집중 타당도에 있어서 문제를 일으키는 문항\n",
    "    \n",
    "<br>\n",
    "\n",
    "3. **합성 신뢰도가 권장 기준을 넘는지 평가 (보통 신뢰도가 0.7이상이면 집중 타당도에 문제가 없는 것으로 평가)**\n",
    "\n",
    "    위 결과에서 모든 요인에 대한 합성 신뢰도가 0.7이상임을 확인\n",
    "    \n",
    "<br>\n",
    "\n",
    "4. **평균분산추출(AVE)이 권장기준을 넘는지를 평가** \n",
    "\n",
    "    **(보통 평균분산추출이 0.3이상이면 수용 가능한 수준 / 0.5이상이면 집중 타당도가 양호한 것으로 평가)**\n",
    "\n",
    "    위 결과에서 0.3과 0.5 사이에 있으므로 수용 가능한 수준"
   ]
  },
  {
   "cell_type": "markdown",
   "id": "0d5a4516",
   "metadata": {},
   "source": [
    "<br>\n",
    "\n",
    "### 변별 타당도 평가\n",
    "\n",
    "* 변별 타당도 (판별 타당도) : 다른 개념을 측정하는 문항들 간에 상대적으로 낮은 상관성(변별성)을 가지는지 평가\n",
    "\n",
    "<br>\n",
    "\n",
    "1. **각 문항들과 관련된 수정지수에 대하여 상대적으로 큰 값이 있는지를 평가**\n",
    "\n",
    "    'Factor3 $\\rightarrow$ Q5'등 문항 Q5와 관련된 수정지수들이 조금 큼을 확인 $\\rightarrow$ Q5는 변별 타당도에 있어서 약간의 문제를 일으키는 문항\n",
    "    \n",
    "<br>\n",
    "\n",
    "2. **요인들 간에 낮은 상관계수를 가지는지 평가**\n",
    "\n",
    "    보통 상관계수의 제곱이 평균추출분산(AVE)에 비하여 작으면 변별 타당도에 문제가 없는 것으로 평가\n",
    "    \n",
    "    위 결과에서는 요인들 간의 상관계수가 작다는 것을 확인\n",
    "    \n",
    "<br>\n",
    "\n",
    "#### 집중 타당도와 변별 타당도 평가에서 여러 기준치들은 절대적인 기준이 아님\n"
   ]
  },
  {
   "cell_type": "markdown",
   "id": "3cbc2085",
   "metadata": {},
   "source": [
    "<br>\n",
    "\n",
    "### 수정모형\n",
    "- 문제가되는 Q5를 제거\n",
    "\n"
   ]
  },
  {
   "cell_type": "code",
   "execution_count": 80,
   "id": "b7ed494f",
   "metadata": {},
   "outputs": [],
   "source": [
    "Construct.B <- \"\n",
    "    Factor1 =~ Q1 + Q2 + Q3 + Q4\n",
    "    Factor2 =~ Q6 + Q7 + Q8 + Q9\n",
    "    Factor3 =~ Q10 + Q11 + Q12\n",
    "\""
   ]
  },
  {
   "cell_type": "code",
   "execution_count": 81,
   "id": "cfce4877",
   "metadata": {},
   "outputs": [
    {
     "data": {
      "image/png": "[encoded data removed]",
      "text/plain": [
       "plot without title"
      ]
     },
     "metadata": {
      "image/png": {
       "height": 420,
       "width": 420
      }
     },
     "output_type": "display_data"
    }
   ],
   "source": [
    "Construct.B.fit <- sem(Construct.B, Construct)\n",
    "semPaths(Construct.B.fit, whatLabels = \"std\", style = \"lisrel\", nCharNodes = 0, rotation = 2)"
   ]
  },
  {
   "cell_type": "markdown",
   "id": "770f69dc",
   "metadata": {},
   "source": [
    "- 적합 지수가 향상됨을 확인"
   ]
  },
  {
   "cell_type": "code",
   "execution_count": 82,
   "id": "1b58e78d",
   "metadata": {},
   "outputs": [
    {
     "name": "stderr",
     "output_type": "stream",
     "text": [
      "Warning message:\n",
      "\"'tidy.numeric' is deprecated.\n",
      "See help(\"Deprecated\")\"\n"
     ]
    },
    {
     "data": {
      "text/html": [
       "<table class=\"dataframe\">\n",
       "<caption>A tibble: 8 × 2</caption>\n",
       "<thead>\n",
       "\t<tr><th scope=col>names</th><th scope=col>x</th></tr>\n",
       "\t<tr><th scope=col>&lt;chr&gt;</th><th scope=col>&lt;lvn.vctr&gt;</th></tr>\n",
       "</thead>\n",
       "<tbody>\n",
       "\t<tr><td>chisq</td><td>50.87742792</td></tr>\n",
       "\t<tr><td>df   </td><td>41.00000000</td></tr>\n",
       "\t<tr><td>cfi  </td><td> 0.97605187</td></tr>\n",
       "\t<tr><td>tli  </td><td> 0.96787446</td></tr>\n",
       "\t<tr><td>rmsea</td><td> 0.03710317</td></tr>\n",
       "\t<tr><td>srmr </td><td> 0.04838987</td></tr>\n",
       "\t<tr><td>gfi  </td><td> 0.95008928</td></tr>\n",
       "\t<tr><td>agfi </td><td> 0.91965592</td></tr>\n",
       "</tbody>\n",
       "</table>\n"
      ],
      "text/latex": [
       "A tibble: 8 × 2\n",
       "\\begin{tabular}{ll}\n",
       " names & x\\\\\n",
       " <chr> & <lvn.vctr>\\\\\n",
       "\\hline\n",
       "\t chisq & 50.87742792\\\\\n",
       "\t df    & 41.00000000\\\\\n",
       "\t cfi   &  0.97605187\\\\\n",
       "\t tli   &  0.96787446\\\\\n",
       "\t rmsea &  0.03710317\\\\\n",
       "\t srmr  &  0.04838987\\\\\n",
       "\t gfi   &  0.95008928\\\\\n",
       "\t agfi  &  0.91965592\\\\\n",
       "\\end{tabular}\n"
      ],
      "text/markdown": [
       "\n",
       "A tibble: 8 × 2\n",
       "\n",
       "| names &lt;chr&gt; | x &lt;lvn.vctr&gt; |\n",
       "|---|---|\n",
       "| chisq | 50.87742792 |\n",
       "| df    | 41.00000000 |\n",
       "| cfi   |  0.97605187 |\n",
       "| tli   |  0.96787446 |\n",
       "| rmsea |  0.03710317 |\n",
       "| srmr  |  0.04838987 |\n",
       "| gfi   |  0.95008928 |\n",
       "| agfi  |  0.91965592 |\n",
       "\n"
      ],
      "text/plain": [
       "  names x          \n",
       "1 chisq 50.87742792\n",
       "2 df    41.00000000\n",
       "3 cfi    0.97605187\n",
       "4 tli    0.96787446\n",
       "5 rmsea  0.03710317\n",
       "6 srmr   0.04838987\n",
       "7 gfi    0.95008928\n",
       "8 agfi   0.91965592"
      ]
     },
     "metadata": {},
     "output_type": "display_data"
    }
   ],
   "source": [
    "tidy(fitMeasures(Construct.B.fit)) %>%\n",
    "    filter(names %in% c(\"chisq\", \"df\", \"gfi\", \"agfi\", \"cfi\", \"tli\", \"rmsea\", \"srmr\"))"
   ]
  },
  {
   "cell_type": "markdown",
   "id": "294e8630",
   "metadata": {},
   "source": [
    "- 요인 적재값\n",
    "    - Factor3이 다른 요인들과 낮은 상관을 보이며, 특히 Factor2와는 유의하지 않은 상관성을 가짐 \n",
    "    \n",
    "        $\\rightarrow$ Factor3은 다른 요인들과 동일한 개념을 측정한다고 보기어려우며, 전체 점수를 구할 경우에는 Factor3을 제외하는 것이 바람직"
   ]
  },
  {
   "cell_type": "code",
   "execution_count": 84,
   "id": "e55c13c1",
   "metadata": {},
   "outputs": [
    {
     "data": {
      "text/html": [
       "<table class=\"dataframe\">\n",
       "<caption>A data.frame: 11 × 6</caption>\n",
       "<thead>\n",
       "\t<tr><th scope=col>lhs</th><th scope=col>op</th><th scope=col>rhs</th><th scope=col>est</th><th scope=col>std.all</th><th scope=col>pvalue</th></tr>\n",
       "\t<tr><th scope=col>&lt;chr&gt;</th><th scope=col>&lt;chr&gt;</th><th scope=col>&lt;chr&gt;</th><th scope=col>&lt;dbl&gt;</th><th scope=col>&lt;dbl&gt;</th><th scope=col>&lt;dbl&gt;</th></tr>\n",
       "</thead>\n",
       "<tbody>\n",
       "\t<tr><td>Factor1</td><td>=~</td><td>Q1 </td><td>1.0000000</td><td>0.5745482</td><td>          NA</td></tr>\n",
       "\t<tr><td>Factor1</td><td>=~</td><td>Q2 </td><td>0.9189244</td><td>0.5780943</td><td>2.855907e-08</td></tr>\n",
       "\t<tr><td>Factor1</td><td>=~</td><td>Q3 </td><td>1.0149129</td><td>0.6708396</td><td>1.371537e-09</td></tr>\n",
       "\t<tr><td>Factor1</td><td>=~</td><td>Q4 </td><td>1.0203677</td><td>0.7709736</td><td>2.846605e-10</td></tr>\n",
       "\t<tr><td>Factor2</td><td>=~</td><td>Q6 </td><td>1.0000000</td><td>0.5032289</td><td>          NA</td></tr>\n",
       "\t<tr><td>Factor2</td><td>=~</td><td>Q7 </td><td>1.6649186</td><td>0.8671998</td><td>4.426345e-08</td></tr>\n",
       "\t<tr><td>Factor2</td><td>=~</td><td>Q8 </td><td>0.9604608</td><td>0.5287359</td><td>6.454901e-07</td></tr>\n",
       "\t<tr><td>Factor2</td><td>=~</td><td>Q9 </td><td>1.0033167</td><td>0.5704514</td><td>1.910880e-07</td></tr>\n",
       "\t<tr><td>Factor3</td><td>=~</td><td>Q10</td><td>1.0000000</td><td>0.7545023</td><td>          NA</td></tr>\n",
       "\t<tr><td>Factor3</td><td>=~</td><td>Q11</td><td>0.8254133</td><td>0.5739727</td><td>1.005871e-09</td></tr>\n",
       "\t<tr><td>Factor3</td><td>=~</td><td>Q12</td><td>0.9940462</td><td>0.7621207</td><td>8.784107e-11</td></tr>\n",
       "</tbody>\n",
       "</table>\n"
      ],
      "text/latex": [
       "A data.frame: 11 × 6\n",
       "\\begin{tabular}{llllll}\n",
       " lhs & op & rhs & est & std.all & pvalue\\\\\n",
       " <chr> & <chr> & <chr> & <dbl> & <dbl> & <dbl>\\\\\n",
       "\\hline\n",
       "\t Factor1 & =\\textasciitilde{} & Q1  & 1.0000000 & 0.5745482 &           NA\\\\\n",
       "\t Factor1 & =\\textasciitilde{} & Q2  & 0.9189244 & 0.5780943 & 2.855907e-08\\\\\n",
       "\t Factor1 & =\\textasciitilde{} & Q3  & 1.0149129 & 0.6708396 & 1.371537e-09\\\\\n",
       "\t Factor1 & =\\textasciitilde{} & Q4  & 1.0203677 & 0.7709736 & 2.846605e-10\\\\\n",
       "\t Factor2 & =\\textasciitilde{} & Q6  & 1.0000000 & 0.5032289 &           NA\\\\\n",
       "\t Factor2 & =\\textasciitilde{} & Q7  & 1.6649186 & 0.8671998 & 4.426345e-08\\\\\n",
       "\t Factor2 & =\\textasciitilde{} & Q8  & 0.9604608 & 0.5287359 & 6.454901e-07\\\\\n",
       "\t Factor2 & =\\textasciitilde{} & Q9  & 1.0033167 & 0.5704514 & 1.910880e-07\\\\\n",
       "\t Factor3 & =\\textasciitilde{} & Q10 & 1.0000000 & 0.7545023 &           NA\\\\\n",
       "\t Factor3 & =\\textasciitilde{} & Q11 & 0.8254133 & 0.5739727 & 1.005871e-09\\\\\n",
       "\t Factor3 & =\\textasciitilde{} & Q12 & 0.9940462 & 0.7621207 & 8.784107e-11\\\\\n",
       "\\end{tabular}\n"
      ],
      "text/markdown": [
       "\n",
       "A data.frame: 11 × 6\n",
       "\n",
       "| lhs &lt;chr&gt; | op &lt;chr&gt; | rhs &lt;chr&gt; | est &lt;dbl&gt; | std.all &lt;dbl&gt; | pvalue &lt;dbl&gt; |\n",
       "|---|---|---|---|---|---|\n",
       "| Factor1 | =~ | Q1  | 1.0000000 | 0.5745482 |           NA |\n",
       "| Factor1 | =~ | Q2  | 0.9189244 | 0.5780943 | 2.855907e-08 |\n",
       "| Factor1 | =~ | Q3  | 1.0149129 | 0.6708396 | 1.371537e-09 |\n",
       "| Factor1 | =~ | Q4  | 1.0203677 | 0.7709736 | 2.846605e-10 |\n",
       "| Factor2 | =~ | Q6  | 1.0000000 | 0.5032289 |           NA |\n",
       "| Factor2 | =~ | Q7  | 1.6649186 | 0.8671998 | 4.426345e-08 |\n",
       "| Factor2 | =~ | Q8  | 0.9604608 | 0.5287359 | 6.454901e-07 |\n",
       "| Factor2 | =~ | Q9  | 1.0033167 | 0.5704514 | 1.910880e-07 |\n",
       "| Factor3 | =~ | Q10 | 1.0000000 | 0.7545023 |           NA |\n",
       "| Factor3 | =~ | Q11 | 0.8254133 | 0.5739727 | 1.005871e-09 |\n",
       "| Factor3 | =~ | Q12 | 0.9940462 | 0.7621207 | 8.784107e-11 |\n",
       "\n"
      ],
      "text/plain": [
       "   lhs     op rhs est       std.all   pvalue      \n",
       "1  Factor1 =~ Q1  1.0000000 0.5745482           NA\n",
       "2  Factor1 =~ Q2  0.9189244 0.5780943 2.855907e-08\n",
       "3  Factor1 =~ Q3  1.0149129 0.6708396 1.371537e-09\n",
       "4  Factor1 =~ Q4  1.0203677 0.7709736 2.846605e-10\n",
       "5  Factor2 =~ Q6  1.0000000 0.5032289           NA\n",
       "6  Factor2 =~ Q7  1.6649186 0.8671998 4.426345e-08\n",
       "7  Factor2 =~ Q8  0.9604608 0.5287359 6.454901e-07\n",
       "8  Factor2 =~ Q9  1.0033167 0.5704514 1.910880e-07\n",
       "9  Factor3 =~ Q10 1.0000000 0.7545023           NA\n",
       "10 Factor3 =~ Q11 0.8254133 0.5739727 1.005871e-09\n",
       "11 Factor3 =~ Q12 0.9940462 0.7621207 8.784107e-11"
      ]
     },
     "metadata": {},
     "output_type": "display_data"
    }
   ],
   "source": [
    "summary(Construct.B.fit, fit.measures = T, rsquare = T, standardized = T)$pe %>%\n",
    "    filter(op == \"=~\") %>% select(1:3, est, std.all, pvalue)"
   ]
  },
  {
   "cell_type": "markdown",
   "id": "95cfb079",
   "metadata": {},
   "source": [
    "| 요인 | Factor1 | Factor 2 | Factor 3 | 합성 신뢰도 | 평균분산추출 |\n",
    "| - | - | - | - | - | - |\n",
    "| Factor1 | 1 | | | 0.746 | 0.427 |\n",
    "| Factor2 | 0.292* | 1| | 0.718 | 0.403 |\n",
    "| Factor3 | 0.263* | -0.006| 1| 0.742 | 0.493 |"
   ]
  },
  {
   "cell_type": "markdown",
   "id": "7ca428a9",
   "metadata": {},
   "source": [
    "<br>\n",
    "\n",
    "## 08.04. 내적일관성 신뢰도"
   ]
  },
  {
   "cell_type": "markdown",
   "id": "db039fa5",
   "metadata": {},
   "source": [
    "- 내적성향을 측정하는 5개의 문항들에 대하여, 신뢰도 분석을 수행\n",
    "\n",
    "<br>\n",
    "\n",
    "#### `psych::alpha()`\n",
    "- **`raw_alpha` : 크론바흐의 알파 계수**\n",
    "    - **이 결과에서는 알파 계수의 값이 0.72로서, 내적일관성 신뢰도가 높음**\n",
    "        \n",
    "        (일반적으로 알파 계수가 0.5이상이면 좋음 / 0.7이상이면 우수한 정도)\n",
    "        \n",
    "* **`std_alpha` : 모든 변수들을 표준화 할 경우의 알파 계수**\n",
    "    - 문항들의 척도가 동일하지 않는 경우에 사용\n",
    "    \n",
    "- **`Reliability if an item is dropped - raw_alpha` : 해당 변수가 제거될 경우의 알파 계수**\n",
    "    - **어떤 변수가 내적일관성 신뢰도를 저해하는지 파악**\n",
    "    - **어떤 변수가 제외됬을 때 크론바흐 $\\alpha$계수가 높게된다면, 그 변수를 제거함으로써 내적일관성 신뢰도가 높아진다는 것을 의미**\n",
    "    \n",
    "        **즉, 해당 변수가 신뢰도를 저해하는 변수**\n",
    "    - **이 결과에서는 Q5가 제거될 경우 알파계수 값이 0.73으로 조금 증가,** \n",
    "    \n",
    "        **그러나 앞 절에서 Q5가 구성 타당도에 약간의 문제를 일으키는 것으로 나타났으므로 Q5를 제거하는 것이 바람직**\n",
    "        \n",
    "        \n",
    "- **`Item statistics - n` : 해당 변수에 대하여 결측값이 아닌 개체의 수**\n",
    "    - 이 결과에 경우 모든 변수들에 대해 결측값이 없음\n",
    "    \n",
    "- **`Item statistics - r.drop` : 해당 변수와 나머지 변수의 합계와의 상관계수** \n",
    "    - **이 수치가 매우 낮다면, 내적일관성에 문제를 일으키는 문항**\n",
    "    - **특히, 이 수치가 음의 값을 가진다면 역산을 검토**\n",
    "    \n",
    "- **`Non missing response frequency for each item` : 해당 변수에 대한 빈도**\n",
    "    - Q1의 경우 4에 응답한 사람이 42%"
   ]
  },
  {
   "cell_type": "code",
   "execution_count": 85,
   "id": "2c494e61",
   "metadata": {},
   "outputs": [
    {
     "data": {
      "text/plain": [
       "\n",
       "Reliability analysis   \n",
       "Call: psych::alpha(x = Construct %>% select(c(\"Q1\", \"Q2\", \"Q3\", \"Q4\", \n",
       "    \"Q5\")))\n",
       "\n",
       "  raw_alpha std.alpha G6(smc) average_r S/N   ase mean   sd median_r\n",
       "      0.72      0.73    0.71      0.35 2.7 0.034  4.1 0.61     0.36\n",
       "\n",
       "    95% confidence boundaries \n",
       "         lower alpha upper\n",
       "Feldt     0.65  0.72  0.78\n",
       "Duhachek  0.66  0.72  0.79\n",
       "\n",
       " Reliability if an item is dropped:\n",
       "   raw_alpha std.alpha G6(smc) average_r S/N alpha se var.r med.r\n",
       "Q1      0.69      0.70    0.65      0.37 2.3    0.039 0.012  0.36\n",
       "Q2      0.67      0.68    0.63      0.35 2.1    0.042 0.017  0.34\n",
       "Q3      0.65      0.66    0.62      0.33 2.0    0.044 0.014  0.30\n",
       "Q4      0.64      0.65    0.60      0.31 1.8    0.045 0.010  0.30\n",
       "Q5      0.73      0.74    0.70      0.42 2.8    0.034 0.010  0.45\n",
       "\n",
       " Item statistics \n",
       "     n raw.r std.r r.cor r.drop mean   sd\n",
       "Q1 175  0.69  0.67  0.55   0.45  3.9 0.97\n",
       "Q2 175  0.70  0.71  0.61   0.50  4.3 0.88\n",
       "Q3 175  0.73  0.74  0.66   0.55  4.3 0.84\n",
       "Q4 175  0.74  0.77  0.71   0.59  4.3 0.74\n",
       "Q5 175  0.62  0.59  0.41   0.35  4.0 0.97\n",
       "\n",
       "Non missing response frequency for each item\n",
       "      1    2    3    4    5 miss\n",
       "Q1 0.02 0.06 0.22 0.42 0.27    0\n",
       "Q2 0.02 0.02 0.13 0.33 0.50    0\n",
       "Q3 0.01 0.03 0.10 0.41 0.45    0\n",
       "Q4 0.00 0.02 0.09 0.43 0.46    0\n",
       "Q5 0.02 0.06 0.14 0.44 0.33    0"
      ]
     },
     "metadata": {},
     "output_type": "display_data"
    }
   ],
   "source": [
    "psych::alpha(Construct %>% select(c(\"Q1\", \"Q2\", \"Q3\", \"Q4\", \"Q5\")))"
   ]
  },
  {
   "attachments": {
    "8_4.jpg": {
     "image/jpeg": "[encoded data removed]"
    }
   },
   "cell_type": "markdown",
   "id": "22f351b7",
   "metadata": {},
   "source": [
    "<br>\n",
    "\n",
    "## 08.05. 2-단계 확증적 요인분석\n",
    "- 저차원 요인들을 설명할 수 있을 것으로 여겨지는 고차원 요인 고려\n",
    "\n",
    "![8_4.jpg](attachment:8_4.jpg)"
   ]
  },
  {
   "cell_type": "markdown",
   "id": "56914a54",
   "metadata": {},
   "source": [
    "<br>\n",
    "\n",
    "### 2-단계 확증적 요인분석에 대한 경로도 작성 시 주의사항\n",
    "1. 2-차원 요인에는 관찰변수가 되응되지 않으며, 2-차원 요인은 외생 잠재변수로 취금\n",
    "2. 1차원 요인들은 내생 잠재변수로 취급되므로 오차변수가 대응 되어야 함\n",
    "3. 모형식별의 문제를 해결하기 위하여, 2-차원 요인의 분산을 1로 고정하거나,\n",
    "\n",
    "    2차원 요인에서 1차원 요인으로 연결되는 회귀계수 중 하나를 1로 고정\n",
    "    \n",
    "<br>\n",
    "\n",
    "**2-단계 요인모형과 1단계 요인모형의 기본적인 개념은 동일**\n",
    "- 만약 1차원 요인들 간에 상관성이 전체적으로 비슷하다면, 2차원 요인모형에서 회귀계수들의 크기도 비슷하게 됨\n",
    "- 반면, 1차원 요인들 간에 낮은 상관성이 일부 존재한다면, 2차원 요인모형에서 회귀계수 중 일부는 상당히 낮게 됨\n",
    "\n",
    "<br>\n",
    "\n",
    "#### 1차원 요인의 수에 따른 2단계 요인모형과, 1단계 요인모형의 관계\n",
    "\n",
    "1. 1차원 요인이 2개일 경우, 2단계 요인모형은 식별되지 않으며, 이를 해결하기 위해서는 추가적인 제약이 필요\n",
    "2. 1차원 요인이 3개일 경우 2단계 요인모형과 1단계 요인모형은 동치 관계를 가짐 (두 모형의 자유도와 적합도가 동일)\n",
    "3. 1차원 요인이 4개 이상일 경우, 2단계 요인모형은 1단계 요인모형에 비하여 간명한 구조를 가짐"
   ]
  }
 ],
 "metadata": {
  "kernelspec": {
   "display_name": "R",
   "language": "R",
   "name": "ir"
  },
  "language_info": {
   "codemirror_mode": "r",
   "file_extension": ".r",
   "mimetype": "text/x-r-source",
   "name": "R",
   "pygments_lexer": "r",
   "version": "4.2.2"
  }
 },
 "nbformat": 4,
 "nbformat_minor": 5
}
