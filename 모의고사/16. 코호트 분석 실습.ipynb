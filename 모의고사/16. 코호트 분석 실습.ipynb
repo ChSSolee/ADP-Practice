{
 "cells": [
  {
   "cell_type": "markdown",
   "id": "08396b11",
   "metadata": {},
   "source": [
    "## 코호트 분석 : 사용자 행동을 그룹으로 나눠, 지표별로 수치화한 뒤 분석\n",
    "(특정기간 동안 특정 집단의 행동패턴을 관찰하고 분석)\n",
    "### 코호트 : 특정 시간에 비슷한 성향을 보이는 그룹\n"
   ]
  },
  {
   "cell_type": "code",
   "execution_count": 433,
   "id": "01e3e997",
   "metadata": {},
   "outputs": [],
   "source": [
    "library(tidyverse)\n",
    "library(lubridate)\n",
    "library(readxl)\n",
    "ggplot2::theme_set(theme_bw())"
   ]
  },
  {
   "cell_type": "code",
   "execution_count": 3,
   "id": "b59e33de",
   "metadata": {},
   "outputs": [],
   "source": [
    "data <- read_xlsx(\"C:/Soongsil/R/실무 예제/Online Retail.xlsx\")"
   ]
  },
  {
   "cell_type": "code",
   "execution_count": 4,
   "id": "e4f8f55d",
   "metadata": {},
   "outputs": [
    {
     "data": {
      "text/html": [
       "<table class=\"dataframe\">\n",
       "<caption>A tibble: 2 × 8</caption>\n",
       "<thead>\n",
       "\t<tr><th scope=col>InvoiceNo</th><th scope=col>StockCode</th><th scope=col>Description</th><th scope=col>Quantity</th><th scope=col>InvoiceDate</th><th scope=col>UnitPrice</th><th scope=col>CustomerID</th><th scope=col>Country</th></tr>\n",
       "\t<tr><th scope=col>&lt;chr&gt;</th><th scope=col>&lt;chr&gt;</th><th scope=col>&lt;chr&gt;</th><th scope=col>&lt;dbl&gt;</th><th scope=col>&lt;dttm&gt;</th><th scope=col>&lt;dbl&gt;</th><th scope=col>&lt;dbl&gt;</th><th scope=col>&lt;chr&gt;</th></tr>\n",
       "</thead>\n",
       "<tbody>\n",
       "\t<tr><td>536365</td><td>85123A</td><td>WHITE HANGING HEART T-LIGHT HOLDER</td><td>6</td><td>2010-12-01 08:26:00</td><td>2.55</td><td>17850</td><td>United Kingdom</td></tr>\n",
       "\t<tr><td>536365</td><td>71053 </td><td>WHITE METAL LANTERN               </td><td>6</td><td>2010-12-01 08:26:00</td><td>3.39</td><td>17850</td><td>United Kingdom</td></tr>\n",
       "</tbody>\n",
       "</table>\n"
      ],
      "text/latex": [
       "A tibble: 2 × 8\n",
       "\\begin{tabular}{llllllll}\n",
       " InvoiceNo & StockCode & Description & Quantity & InvoiceDate & UnitPrice & CustomerID & Country\\\\\n",
       " <chr> & <chr> & <chr> & <dbl> & <dttm> & <dbl> & <dbl> & <chr>\\\\\n",
       "\\hline\n",
       "\t 536365 & 85123A & WHITE HANGING HEART T-LIGHT HOLDER & 6 & 2010-12-01 08:26:00 & 2.55 & 17850 & United Kingdom\\\\\n",
       "\t 536365 & 71053  & WHITE METAL LANTERN                & 6 & 2010-12-01 08:26:00 & 3.39 & 17850 & United Kingdom\\\\\n",
       "\\end{tabular}\n"
      ],
      "text/markdown": [
       "\n",
       "A tibble: 2 × 8\n",
       "\n",
       "| InvoiceNo &lt;chr&gt; | StockCode &lt;chr&gt; | Description &lt;chr&gt; | Quantity &lt;dbl&gt; | InvoiceDate &lt;dttm&gt; | UnitPrice &lt;dbl&gt; | CustomerID &lt;dbl&gt; | Country &lt;chr&gt; |\n",
       "|---|---|---|---|---|---|---|---|\n",
       "| 536365 | 85123A | WHITE HANGING HEART T-LIGHT HOLDER | 6 | 2010-12-01 08:26:00 | 2.55 | 17850 | United Kingdom |\n",
       "| 536365 | 71053  | WHITE METAL LANTERN                | 6 | 2010-12-01 08:26:00 | 3.39 | 17850 | United Kingdom |\n",
       "\n"
      ],
      "text/plain": [
       "  InvoiceNo StockCode Description                        Quantity\n",
       "1 536365    85123A    WHITE HANGING HEART T-LIGHT HOLDER 6       \n",
       "2 536365    71053     WHITE METAL LANTERN                6       \n",
       "  InvoiceDate         UnitPrice CustomerID Country       \n",
       "1 2010-12-01 08:26:00 2.55      17850      United Kingdom\n",
       "2 2010-12-01 08:26:00 3.39      17850      United Kingdom"
      ]
     },
     "metadata": {},
     "output_type": "display_data"
    }
   ],
   "source": [
    "data1 <- data %>% mutate(InvoiceDate = lubridate::as_datetime(InvoiceDate))\n",
    "data1 %>% head(2)"
   ]
  },
  {
   "cell_type": "markdown",
   "id": "6e7dc8e5",
   "metadata": {},
   "source": [
    "**중복행 제거**"
   ]
  },
  {
   "cell_type": "code",
   "execution_count": 5,
   "id": "aec15723",
   "metadata": {
    "scrolled": true
   },
   "outputs": [
    {
     "data": {
      "text/html": [
       "541909"
      ],
      "text/latex": [
       "541909"
      ],
      "text/markdown": [
       "541909"
      ],
      "text/plain": [
       "[1] 541909"
      ]
     },
     "metadata": {},
     "output_type": "display_data"
    },
    {
     "data": {
      "text/html": [
       "536641"
      ],
      "text/latex": [
       "536641"
      ],
      "text/markdown": [
       "536641"
      ],
      "text/plain": [
       "[1] 536641"
      ]
     },
     "metadata": {},
     "output_type": "display_data"
    }
   ],
   "source": [
    "nrow(data1) # 전체 데이터 행 수\n",
    "nrow(unique(data1)) # 중복되지 않은 행 수"
   ]
  },
  {
   "cell_type": "code",
   "execution_count": 6,
   "id": "b92949f3",
   "metadata": {},
   "outputs": [],
   "source": [
    "data2 <- data1[which(duplicated(data1) == FALSE), ]"
   ]
  },
  {
   "cell_type": "code",
   "execution_count": 7,
   "id": "b6a268fd",
   "metadata": {},
   "outputs": [
    {
     "data": {
      "text/html": [
       "536641"
      ],
      "text/latex": [
       "536641"
      ],
      "text/markdown": [
       "536641"
      ],
      "text/plain": [
       "[1] 536641"
      ]
     },
     "metadata": {},
     "output_type": "display_data"
    },
    {
     "data": {
      "text/html": [
       "536641"
      ],
      "text/latex": [
       "536641"
      ],
      "text/markdown": [
       "536641"
      ],
      "text/plain": [
       "[1] 536641"
      ]
     },
     "metadata": {},
     "output_type": "display_data"
    }
   ],
   "source": [
    "nrow(data2)\n",
    "nrow(unique(data2))"
   ]
  },
  {
   "cell_type": "markdown",
   "id": "6a6d9e76",
   "metadata": {},
   "source": [
    "**결측값 확인**"
   ]
  },
  {
   "cell_type": "code",
   "execution_count": 8,
   "id": "7370944e",
   "metadata": {},
   "outputs": [
    {
     "data": {
      "text/html": [
       "136491"
      ],
      "text/latex": [
       "136491"
      ],
      "text/markdown": [
       "136491"
      ],
      "text/plain": [
       "[1] 136491"
      ]
     },
     "metadata": {},
     "output_type": "display_data"
    }
   ],
   "source": [
    "sum(is.na(data2))"
   ]
  },
  {
   "cell_type": "code",
   "execution_count": 9,
   "id": "0ac3e8f4",
   "metadata": {
    "scrolled": true
   },
   "outputs": [
    {
     "data": {
      "text/html": [
       "401604"
      ],
      "text/latex": [
       "401604"
      ],
      "text/markdown": [
       "401604"
      ],
      "text/plain": [
       "[1] 401604"
      ]
     },
     "metadata": {},
     "output_type": "display_data"
    }
   ],
   "source": [
    "data3 <- na.omit(data2)\n",
    "nrow(data3)"
   ]
  },
  {
   "cell_type": "markdown",
   "id": "4b0622ca",
   "metadata": {},
   "source": [
    "### \n",
    "### 데이터 조작 & 코호트 생성\n",
    "(예를 들어, 온라인데이터에서 제공되는 날짜변수를 통해 월별/주별/분기별/년별 등으로 고객들을 세분화 시키는 분석법)"
   ]
  },
  {
   "cell_type": "markdown",
   "id": "64116848",
   "metadata": {},
   "source": [
    "**2011년 데이터만 추출**"
   ]
  },
  {
   "cell_type": "code",
   "execution_count": 10,
   "id": "1703e118",
   "metadata": {},
   "outputs": [
    {
     "data": {
      "text/html": [
       "375250"
      ],
      "text/latex": [
       "375250"
      ],
      "text/markdown": [
       "375250"
      ],
      "text/plain": [
       "[1] 375250"
      ]
     },
     "metadata": {},
     "output_type": "display_data"
    }
   ],
   "source": [
    "data4 <- data3 %>% mutate(InvoiceYear = year(InvoiceDate)) %>%\n",
    "    filter(InvoiceYear == 2011)\n",
    "data4 %>% nrow"
   ]
  },
  {
   "cell_type": "markdown",
   "id": "18832074",
   "metadata": {},
   "source": [
    "**A. 각 ID별 구매 횟수**"
   ]
  },
  {
   "cell_type": "code",
   "execution_count": 11,
   "id": "e75b56f6",
   "metadata": {},
   "outputs": [
    {
     "data": {
      "text/html": [
       "<table class=\"dataframe\">\n",
       "<caption>A grouped_df: 2 × 2</caption>\n",
       "<thead>\n",
       "\t<tr><th scope=col>CustomerID</th><th scope=col>n</th></tr>\n",
       "\t<tr><th scope=col>&lt;dbl&gt;</th><th scope=col>&lt;int&gt;</th></tr>\n",
       "</thead>\n",
       "<tbody>\n",
       "\t<tr><td>12346</td><td>  2</td></tr>\n",
       "\t<tr><td>12347</td><td>151</td></tr>\n",
       "</tbody>\n",
       "</table>\n"
      ],
      "text/latex": [
       "A grouped\\_df: 2 × 2\n",
       "\\begin{tabular}{ll}\n",
       " CustomerID & n\\\\\n",
       " <dbl> & <int>\\\\\n",
       "\\hline\n",
       "\t 12346 &   2\\\\\n",
       "\t 12347 & 151\\\\\n",
       "\\end{tabular}\n"
      ],
      "text/markdown": [
       "\n",
       "A grouped_df: 2 × 2\n",
       "\n",
       "| CustomerID &lt;dbl&gt; | n &lt;int&gt; |\n",
       "|---|---|\n",
       "| 12346 |   2 |\n",
       "| 12347 | 151 |\n",
       "\n"
      ],
      "text/plain": [
       "  CustomerID n  \n",
       "1 12346        2\n",
       "2 12347      151"
      ]
     },
     "metadata": {},
     "output_type": "display_data"
    }
   ],
   "source": [
    "order.frequency <- data4 %>% group_by(CustomerID) %>% count() \n",
    "order.frequency %>% head(2)"
   ]
  },
  {
   "cell_type": "markdown",
   "id": "1b53e60a",
   "metadata": {},
   "source": [
    "**B. 각 ID별 최초 구매일**"
   ]
  },
  {
   "cell_type": "code",
   "execution_count": 12,
   "id": "a26dfb28",
   "metadata": {},
   "outputs": [
    {
     "data": {
      "text/html": [
       "<table class=\"dataframe\">\n",
       "<caption>A tibble: 2 × 2</caption>\n",
       "<thead>\n",
       "\t<tr><th scope=col>CustomerID</th><th scope=col>Join_Date</th></tr>\n",
       "\t<tr><th scope=col>&lt;dbl&gt;</th><th scope=col>&lt;dttm&gt;</th></tr>\n",
       "</thead>\n",
       "<tbody>\n",
       "\t<tr><td>12346</td><td>2011-01-18 10:01:00</td></tr>\n",
       "\t<tr><td>12347</td><td>2011-01-26 14:30:00</td></tr>\n",
       "</tbody>\n",
       "</table>\n"
      ],
      "text/latex": [
       "A tibble: 2 × 2\n",
       "\\begin{tabular}{ll}\n",
       " CustomerID & Join\\_Date\\\\\n",
       " <dbl> & <dttm>\\\\\n",
       "\\hline\n",
       "\t 12346 & 2011-01-18 10:01:00\\\\\n",
       "\t 12347 & 2011-01-26 14:30:00\\\\\n",
       "\\end{tabular}\n"
      ],
      "text/markdown": [
       "\n",
       "A tibble: 2 × 2\n",
       "\n",
       "| CustomerID &lt;dbl&gt; | Join_Date &lt;dttm&gt; |\n",
       "|---|---|\n",
       "| 12346 | 2011-01-18 10:01:00 |\n",
       "| 12347 | 2011-01-26 14:30:00 |\n",
       "\n"
      ],
      "text/plain": [
       "  CustomerID Join_Date          \n",
       "1 12346      2011-01-18 10:01:00\n",
       "2 12347      2011-01-26 14:30:00"
      ]
     },
     "metadata": {},
     "output_type": "display_data"
    }
   ],
   "source": [
    "Join_date <- data4 %>% group_by(CustomerID) %>% summarise(Join_Date = min(InvoiceDate))\n",
    "Join_date %>% head(2)"
   ]
  },
  {
   "cell_type": "markdown",
   "id": "6fc388fd",
   "metadata": {},
   "source": [
    "**C. 초기 데이터와 B 병합 (초기 데이터에 각 ID별 최초 구매일 변수 추가)**"
   ]
  },
  {
   "cell_type": "code",
   "execution_count": 13,
   "id": "b8a5e6d0",
   "metadata": {},
   "outputs": [
    {
     "data": {
      "text/html": [
       "<table class=\"dataframe\">\n",
       "<caption>A tibble: 1 × 10</caption>\n",
       "<thead>\n",
       "\t<tr><th scope=col>InvoiceNo</th><th scope=col>StockCode</th><th scope=col>Description</th><th scope=col>Quantity</th><th scope=col>InvoiceDate</th><th scope=col>UnitPrice</th><th scope=col>CustomerID</th><th scope=col>Country</th><th scope=col>InvoiceYear</th><th scope=col>Join_Date</th></tr>\n",
       "\t<tr><th scope=col>&lt;chr&gt;</th><th scope=col>&lt;chr&gt;</th><th scope=col>&lt;chr&gt;</th><th scope=col>&lt;dbl&gt;</th><th scope=col>&lt;dttm&gt;</th><th scope=col>&lt;dbl&gt;</th><th scope=col>&lt;dbl&gt;</th><th scope=col>&lt;chr&gt;</th><th scope=col>&lt;dbl&gt;</th><th scope=col>&lt;dttm&gt;</th></tr>\n",
       "</thead>\n",
       "<tbody>\n",
       "\t<tr><td>581587</td><td>22138</td><td>BAKING SET 9 PIECE RETROSPOT</td><td>3</td><td>2011-12-09 12:50:00</td><td>4.95</td><td>12680</td><td>France</td><td>2011</td><td>2011-08-18 15:44:00</td></tr>\n",
       "</tbody>\n",
       "</table>\n"
      ],
      "text/latex": [
       "A tibble: 1 × 10\n",
       "\\begin{tabular}{llllllllll}\n",
       " InvoiceNo & StockCode & Description & Quantity & InvoiceDate & UnitPrice & CustomerID & Country & InvoiceYear & Join\\_Date\\\\\n",
       " <chr> & <chr> & <chr> & <dbl> & <dttm> & <dbl> & <dbl> & <chr> & <dbl> & <dttm>\\\\\n",
       "\\hline\n",
       "\t 581587 & 22138 & BAKING SET 9 PIECE RETROSPOT & 3 & 2011-12-09 12:50:00 & 4.95 & 12680 & France & 2011 & 2011-08-18 15:44:00\\\\\n",
       "\\end{tabular}\n"
      ],
      "text/markdown": [
       "\n",
       "A tibble: 1 × 10\n",
       "\n",
       "| InvoiceNo &lt;chr&gt; | StockCode &lt;chr&gt; | Description &lt;chr&gt; | Quantity &lt;dbl&gt; | InvoiceDate &lt;dttm&gt; | UnitPrice &lt;dbl&gt; | CustomerID &lt;dbl&gt; | Country &lt;chr&gt; | InvoiceYear &lt;dbl&gt; | Join_Date &lt;dttm&gt; |\n",
       "|---|---|---|---|---|---|---|---|---|---|\n",
       "| 581587 | 22138 | BAKING SET 9 PIECE RETROSPOT | 3 | 2011-12-09 12:50:00 | 4.95 | 12680 | France | 2011 | 2011-08-18 15:44:00 |\n",
       "\n"
      ],
      "text/plain": [
       "  InvoiceNo StockCode Description                  Quantity InvoiceDate        \n",
       "1 581587    22138     BAKING SET 9 PIECE RETROSPOT 3        2011-12-09 12:50:00\n",
       "  UnitPrice CustomerID Country InvoiceYear Join_Date          \n",
       "1 4.95      12680      France  2011        2011-08-18 15:44:00"
      ]
     },
     "metadata": {},
     "output_type": "display_data"
    }
   ],
   "source": [
    "cohorts <- data4 %>% left_join(Join_date, by = \"CustomerID\")\n",
    "cohorts %>% tail(1)"
   ]
  },
  {
   "cell_type": "markdown",
   "id": "9f2ec279",
   "metadata": {},
   "source": [
    "### 최초 구매일의 월 단위로 코호트 지정\n",
    "**D. 각 ID별 최초 구매일의 월 변수 추출 => 코호트 변수 (Cohort) 생성**"
   ]
  },
  {
   "cell_type": "code",
   "execution_count": 14,
   "id": "4d0f7fb7",
   "metadata": {},
   "outputs": [
    {
     "data": {
      "text/html": [
       "<table class=\"dataframe\">\n",
       "<caption>A tibble: 1 × 11</caption>\n",
       "<thead>\n",
       "\t<tr><th scope=col>InvoiceNo</th><th scope=col>StockCode</th><th scope=col>Description</th><th scope=col>Quantity</th><th scope=col>InvoiceDate</th><th scope=col>UnitPrice</th><th scope=col>CustomerID</th><th scope=col>Country</th><th scope=col>InvoiceYear</th><th scope=col>Join_Date</th><th scope=col>Cohort</th></tr>\n",
       "\t<tr><th scope=col>&lt;chr&gt;</th><th scope=col>&lt;chr&gt;</th><th scope=col>&lt;chr&gt;</th><th scope=col>&lt;dbl&gt;</th><th scope=col>&lt;dttm&gt;</th><th scope=col>&lt;dbl&gt;</th><th scope=col>&lt;dbl&gt;</th><th scope=col>&lt;chr&gt;</th><th scope=col>&lt;dbl&gt;</th><th scope=col>&lt;dttm&gt;</th><th scope=col>&lt;dbl&gt;</th></tr>\n",
       "</thead>\n",
       "<tbody>\n",
       "\t<tr><td>539993</td><td>22386</td><td>JUMBO BAG PINK POLKADOT</td><td>10</td><td>2011-01-04 10:00:00</td><td>1.95</td><td>13313</td><td>United Kingdom</td><td>2011</td><td>2011-01-04 10:00:00</td><td>1</td></tr>\n",
       "</tbody>\n",
       "</table>\n"
      ],
      "text/latex": [
       "A tibble: 1 × 11\n",
       "\\begin{tabular}{lllllllllll}\n",
       " InvoiceNo & StockCode & Description & Quantity & InvoiceDate & UnitPrice & CustomerID & Country & InvoiceYear & Join\\_Date & Cohort\\\\\n",
       " <chr> & <chr> & <chr> & <dbl> & <dttm> & <dbl> & <dbl> & <chr> & <dbl> & <dttm> & <dbl>\\\\\n",
       "\\hline\n",
       "\t 539993 & 22386 & JUMBO BAG PINK POLKADOT & 10 & 2011-01-04 10:00:00 & 1.95 & 13313 & United Kingdom & 2011 & 2011-01-04 10:00:00 & 1\\\\\n",
       "\\end{tabular}\n"
      ],
      "text/markdown": [
       "\n",
       "A tibble: 1 × 11\n",
       "\n",
       "| InvoiceNo &lt;chr&gt; | StockCode &lt;chr&gt; | Description &lt;chr&gt; | Quantity &lt;dbl&gt; | InvoiceDate &lt;dttm&gt; | UnitPrice &lt;dbl&gt; | CustomerID &lt;dbl&gt; | Country &lt;chr&gt; | InvoiceYear &lt;dbl&gt; | Join_Date &lt;dttm&gt; | Cohort &lt;dbl&gt; |\n",
       "|---|---|---|---|---|---|---|---|---|---|---|\n",
       "| 539993 | 22386 | JUMBO BAG PINK POLKADOT | 10 | 2011-01-04 10:00:00 | 1.95 | 13313 | United Kingdom | 2011 | 2011-01-04 10:00:00 | 1 |\n",
       "\n"
      ],
      "text/plain": [
       "  InvoiceNo StockCode Description             Quantity InvoiceDate        \n",
       "1 539993    22386     JUMBO BAG PINK POLKADOT 10       2011-01-04 10:00:00\n",
       "  UnitPrice CustomerID Country        InvoiceYear Join_Date           Cohort\n",
       "1 1.95      13313      United Kingdom 2011        2011-01-04 10:00:00 1     "
      ]
     },
     "metadata": {},
     "output_type": "display_data"
    }
   ],
   "source": [
    "cohorts2 <- cohorts %>% mutate(Cohort = month(Join_Date))\n",
    "cohorts2 %>% head(1)"
   ]
  },
  {
   "cell_type": "markdown",
   "id": "fc8e7db5",
   "metadata": {},
   "source": [
    "### \n",
    "\n",
    "### 가입 날짜 (Join_Date) 와 구매 날짜 (InvoiceDate)의 차이를 구해서, 활동하는 고객에 대한 코호트 설정"
   ]
  },
  {
   "cell_type": "markdown",
   "id": "269c588f",
   "metadata": {},
   "source": [
    "**InvoiceDate와 Join_Date의 날짜 차이를 뜻하는 Days변수 생성**"
   ]
  },
  {
   "cell_type": "code",
   "execution_count": 15,
   "id": "f18c7980",
   "metadata": {},
   "outputs": [
    {
     "data": {
      "text/html": [
       "<table class=\"dataframe\">\n",
       "<caption>A tibble: 1 × 12</caption>\n",
       "<thead>\n",
       "\t<tr><th scope=col>InvoiceNo</th><th scope=col>StockCode</th><th scope=col>Description</th><th scope=col>Quantity</th><th scope=col>InvoiceDate</th><th scope=col>UnitPrice</th><th scope=col>CustomerID</th><th scope=col>Country</th><th scope=col>InvoiceYear</th><th scope=col>Join_Date</th><th scope=col>Cohort</th><th scope=col>Days</th></tr>\n",
       "\t<tr><th scope=col>&lt;chr&gt;</th><th scope=col>&lt;chr&gt;</th><th scope=col>&lt;chr&gt;</th><th scope=col>&lt;dbl&gt;</th><th scope=col>&lt;dttm&gt;</th><th scope=col>&lt;dbl&gt;</th><th scope=col>&lt;dbl&gt;</th><th scope=col>&lt;chr&gt;</th><th scope=col>&lt;dbl&gt;</th><th scope=col>&lt;dttm&gt;</th><th scope=col>&lt;dbl&gt;</th><th scope=col>&lt;drtn&gt;</th></tr>\n",
       "</thead>\n",
       "<tbody>\n",
       "\t<tr><td>581587</td><td>22138</td><td>BAKING SET 9 PIECE RETROSPOT</td><td>3</td><td>2011-12-09 12:50:00</td><td>4.95</td><td>12680</td><td>France</td><td>2011</td><td>2011-08-18 15:44:00</td><td>8</td><td>113 days</td></tr>\n",
       "</tbody>\n",
       "</table>\n"
      ],
      "text/latex": [
       "A tibble: 1 × 12\n",
       "\\begin{tabular}{llllllllllll}\n",
       " InvoiceNo & StockCode & Description & Quantity & InvoiceDate & UnitPrice & CustomerID & Country & InvoiceYear & Join\\_Date & Cohort & Days\\\\\n",
       " <chr> & <chr> & <chr> & <dbl> & <dttm> & <dbl> & <dbl> & <chr> & <dbl> & <dttm> & <dbl> & <drtn>\\\\\n",
       "\\hline\n",
       "\t 581587 & 22138 & BAKING SET 9 PIECE RETROSPOT & 3 & 2011-12-09 12:50:00 & 4.95 & 12680 & France & 2011 & 2011-08-18 15:44:00 & 8 & 113 days\\\\\n",
       "\\end{tabular}\n"
      ],
      "text/markdown": [
       "\n",
       "A tibble: 1 × 12\n",
       "\n",
       "| InvoiceNo &lt;chr&gt; | StockCode &lt;chr&gt; | Description &lt;chr&gt; | Quantity &lt;dbl&gt; | InvoiceDate &lt;dttm&gt; | UnitPrice &lt;dbl&gt; | CustomerID &lt;dbl&gt; | Country &lt;chr&gt; | InvoiceYear &lt;dbl&gt; | Join_Date &lt;dttm&gt; | Cohort &lt;dbl&gt; | Days &lt;drtn&gt; |\n",
       "|---|---|---|---|---|---|---|---|---|---|---|---|\n",
       "| 581587 | 22138 | BAKING SET 9 PIECE RETROSPOT | 3 | 2011-12-09 12:50:00 | 4.95 | 12680 | France | 2011 | 2011-08-18 15:44:00 | 8 | 113 days |\n",
       "\n"
      ],
      "text/plain": [
       "  InvoiceNo StockCode Description                  Quantity InvoiceDate        \n",
       "1 581587    22138     BAKING SET 9 PIECE RETROSPOT 3        2011-12-09 12:50:00\n",
       "  UnitPrice CustomerID Country InvoiceYear Join_Date           Cohort Days    \n",
       "1 4.95      12680      France  2011        2011-08-18 15:44:00 8      113 days"
      ]
     },
     "metadata": {},
     "output_type": "display_data"
    }
   ],
   "source": [
    "cohorts3 <- cohorts2 %>% mutate(Days = as_date(InvoiceDate) - as_date(Join_Date))\n",
    "cohorts3 %>% tail(1)"
   ]
  },
  {
   "cell_type": "markdown",
   "id": "ffa5af06",
   "metadata": {},
   "source": [
    "**Months = Days / 30 (월 단위로 변경)**\n",
    "\n",
    "**InvoiceDate과 Join_Date의 포맷을 \"%Y-%m\"으로 변경**"
   ]
  },
  {
   "cell_type": "code",
   "execution_count": 16,
   "id": "915f5a5f",
   "metadata": {},
   "outputs": [
    {
     "data": {
      "text/html": [
       "<table class=\"dataframe\">\n",
       "<caption>A tibble: 1 × 13</caption>\n",
       "<thead>\n",
       "\t<tr><th scope=col>InvoiceNo</th><th scope=col>StockCode</th><th scope=col>Description</th><th scope=col>Quantity</th><th scope=col>InvoiceDate</th><th scope=col>UnitPrice</th><th scope=col>CustomerID</th><th scope=col>Country</th><th scope=col>InvoiceYear</th><th scope=col>Join_Date</th><th scope=col>Cohort</th><th scope=col>Days</th><th scope=col>Months</th></tr>\n",
       "\t<tr><th scope=col>&lt;chr&gt;</th><th scope=col>&lt;chr&gt;</th><th scope=col>&lt;chr&gt;</th><th scope=col>&lt;dbl&gt;</th><th scope=col>&lt;chr&gt;</th><th scope=col>&lt;dbl&gt;</th><th scope=col>&lt;dbl&gt;</th><th scope=col>&lt;chr&gt;</th><th scope=col>&lt;dbl&gt;</th><th scope=col>&lt;chr&gt;</th><th scope=col>&lt;dbl&gt;</th><th scope=col>&lt;drtn&gt;</th><th scope=col>&lt;dbl&gt;</th></tr>\n",
       "</thead>\n",
       "<tbody>\n",
       "\t<tr><td>581587</td><td>22138</td><td>BAKING SET 9 PIECE RETROSPOT</td><td>3</td><td>2011-12</td><td>4.95</td><td>12680</td><td>France</td><td>2011</td><td>2011-08</td><td>8</td><td>113 days</td><td>4</td></tr>\n",
       "</tbody>\n",
       "</table>\n"
      ],
      "text/latex": [
       "A tibble: 1 × 13\n",
       "\\begin{tabular}{lllllllllllll}\n",
       " InvoiceNo & StockCode & Description & Quantity & InvoiceDate & UnitPrice & CustomerID & Country & InvoiceYear & Join\\_Date & Cohort & Days & Months\\\\\n",
       " <chr> & <chr> & <chr> & <dbl> & <chr> & <dbl> & <dbl> & <chr> & <dbl> & <chr> & <dbl> & <drtn> & <dbl>\\\\\n",
       "\\hline\n",
       "\t 581587 & 22138 & BAKING SET 9 PIECE RETROSPOT & 3 & 2011-12 & 4.95 & 12680 & France & 2011 & 2011-08 & 8 & 113 days & 4\\\\\n",
       "\\end{tabular}\n"
      ],
      "text/markdown": [
       "\n",
       "A tibble: 1 × 13\n",
       "\n",
       "| InvoiceNo &lt;chr&gt; | StockCode &lt;chr&gt; | Description &lt;chr&gt; | Quantity &lt;dbl&gt; | InvoiceDate &lt;chr&gt; | UnitPrice &lt;dbl&gt; | CustomerID &lt;dbl&gt; | Country &lt;chr&gt; | InvoiceYear &lt;dbl&gt; | Join_Date &lt;chr&gt; | Cohort &lt;dbl&gt; | Days &lt;drtn&gt; | Months &lt;dbl&gt; |\n",
       "|---|---|---|---|---|---|---|---|---|---|---|---|---|\n",
       "| 581587 | 22138 | BAKING SET 9 PIECE RETROSPOT | 3 | 2011-12 | 4.95 | 12680 | France | 2011 | 2011-08 | 8 | 113 days | 4 |\n",
       "\n"
      ],
      "text/plain": [
       "  InvoiceNo StockCode Description                  Quantity InvoiceDate\n",
       "1 581587    22138     BAKING SET 9 PIECE RETROSPOT 3        2011-12    \n",
       "  UnitPrice CustomerID Country InvoiceYear Join_Date Cohort Days     Months\n",
       "1 4.95      12680      France  2011        2011-08   8      113 days 4     "
      ]
     },
     "metadata": {},
     "output_type": "display_data"
    }
   ],
   "source": [
    "cohorts3 %>% mutate(Months = round(as.numeric(Days) / 30),\n",
    "                    InvoiceDate = format(InvoiceDate, \"%Y-%m\"),\n",
    "                    Join_Date = format(Join_Date, \"%Y-%m\")) -> cohorts4\n",
    "cohorts4 %>% tail(1)"
   ]
  },
  {
   "cell_type": "markdown",
   "id": "db8d117f",
   "metadata": {},
   "source": [
    "### \n",
    "### 코호트 생성"
   ]
  },
  {
   "cell_type": "markdown",
   "id": "31b1570a",
   "metadata": {},
   "source": [
    "**코호트변수 Cohort를 순서형변수로 변환하고, 변수 범주를 '월'이름으로 변경**\n",
    "\n",
    "**가입날짜와 구매날짜의 차이를 30으로 나눈 변수 Months를 순서형 변수로 변환**"
   ]
  },
  {
   "cell_type": "code",
   "execution_count": 59,
   "id": "c0c57294",
   "metadata": {},
   "outputs": [],
   "source": [
    "groups <- c(\"Jan Cohort\", \"Feb Cohort\", \"Mar Cohort\", \"Apr Cohort\", \"May Cohort\", \"Jun Cohort\",\n",
    "            \"Jul Cohort\", \"Aug Cohort\", \"Sep Cohort\", \"Oct Cohort\", \"Nov Cohort\", \"Dec Cohort\")"
   ]
  },
  {
   "cell_type": "code",
   "execution_count": 73,
   "id": "607aa7d8",
   "metadata": {},
   "outputs": [],
   "source": [
    "cohorts5 <- cohorts4 %>% \n",
    "    mutate(Cohort = factor(Cohort, ordered = TRUE,\n",
    "                           levels = c(\"1\", \"2\", \"3\", \"4\", \"5\", \"6\",\n",
    "                                                            \"7\", \"8\", \"9\", \"10\", \"11\", \"12\"))) %>%\n",
    "    mutate(Months = factor(Months, ordered = TRUE,\n",
    "                          levels = c(\"0\", \"1\", \"2\", \"3\", \"4\", \"5\",\n",
    "                                     \"6\", \"7\", \"8\", \"9\", \"10\", \"11\")))"
   ]
  },
  {
   "cell_type": "code",
   "execution_count": 74,
   "id": "c319a50a",
   "metadata": {},
   "outputs": [],
   "source": [
    "levels(cohorts5$Cohort) <- groups"
   ]
  },
  {
   "cell_type": "code",
   "execution_count": 75,
   "id": "d9c8e55e",
   "metadata": {},
   "outputs": [
    {
     "data": {
      "text/html": [
       "<table class=\"dataframe\">\n",
       "<caption>A tibble: 1 × 13</caption>\n",
       "<thead>\n",
       "\t<tr><th scope=col>InvoiceNo</th><th scope=col>StockCode</th><th scope=col>Description</th><th scope=col>Quantity</th><th scope=col>InvoiceDate</th><th scope=col>UnitPrice</th><th scope=col>CustomerID</th><th scope=col>Country</th><th scope=col>InvoiceYear</th><th scope=col>Join_Date</th><th scope=col>Cohort</th><th scope=col>Days</th><th scope=col>Months</th></tr>\n",
       "\t<tr><th scope=col>&lt;chr&gt;</th><th scope=col>&lt;chr&gt;</th><th scope=col>&lt;chr&gt;</th><th scope=col>&lt;dbl&gt;</th><th scope=col>&lt;chr&gt;</th><th scope=col>&lt;dbl&gt;</th><th scope=col>&lt;dbl&gt;</th><th scope=col>&lt;chr&gt;</th><th scope=col>&lt;dbl&gt;</th><th scope=col>&lt;chr&gt;</th><th scope=col>&lt;ord&gt;</th><th scope=col>&lt;drtn&gt;</th><th scope=col>&lt;ord&gt;</th></tr>\n",
       "</thead>\n",
       "<tbody>\n",
       "\t<tr><td>539993</td><td>22386</td><td>JUMBO BAG PINK POLKADOT</td><td>10</td><td>2011-01</td><td>1.95</td><td>13313</td><td>United Kingdom</td><td>2011</td><td>2011-01</td><td>Jan Cohort</td><td>0 days</td><td>0</td></tr>\n",
       "</tbody>\n",
       "</table>\n"
      ],
      "text/latex": [
       "A tibble: 1 × 13\n",
       "\\begin{tabular}{lllllllllllll}\n",
       " InvoiceNo & StockCode & Description & Quantity & InvoiceDate & UnitPrice & CustomerID & Country & InvoiceYear & Join\\_Date & Cohort & Days & Months\\\\\n",
       " <chr> & <chr> & <chr> & <dbl> & <chr> & <dbl> & <dbl> & <chr> & <dbl> & <chr> & <ord> & <drtn> & <ord>\\\\\n",
       "\\hline\n",
       "\t 539993 & 22386 & JUMBO BAG PINK POLKADOT & 10 & 2011-01 & 1.95 & 13313 & United Kingdom & 2011 & 2011-01 & Jan Cohort & 0 days & 0\\\\\n",
       "\\end{tabular}\n"
      ],
      "text/markdown": [
       "\n",
       "A tibble: 1 × 13\n",
       "\n",
       "| InvoiceNo &lt;chr&gt; | StockCode &lt;chr&gt; | Description &lt;chr&gt; | Quantity &lt;dbl&gt; | InvoiceDate &lt;chr&gt; | UnitPrice &lt;dbl&gt; | CustomerID &lt;dbl&gt; | Country &lt;chr&gt; | InvoiceYear &lt;dbl&gt; | Join_Date &lt;chr&gt; | Cohort &lt;ord&gt; | Days &lt;drtn&gt; | Months &lt;ord&gt; |\n",
       "|---|---|---|---|---|---|---|---|---|---|---|---|---|\n",
       "| 539993 | 22386 | JUMBO BAG PINK POLKADOT | 10 | 2011-01 | 1.95 | 13313 | United Kingdom | 2011 | 2011-01 | Jan Cohort | 0 days | 0 |\n",
       "\n"
      ],
      "text/plain": [
       "  InvoiceNo StockCode Description             Quantity InvoiceDate UnitPrice\n",
       "1 539993    22386     JUMBO BAG PINK POLKADOT 10       2011-01     1.95     \n",
       "  CustomerID Country        InvoiceYear Join_Date Cohort     Days   Months\n",
       "1 13313      United Kingdom 2011        2011-01   Jan Cohort 0 days 0     "
      ]
     },
     "metadata": {},
     "output_type": "display_data"
    }
   ],
   "source": [
    "cohorts5 %>% head(1)"
   ]
  },
  {
   "cell_type": "markdown",
   "id": "1d8d8953",
   "metadata": {},
   "source": [
    "### \n",
    "### Rolling Retention : 특정시점을 기준으로, 기간 후에 얼마나 고객이 남아있는지 확인하는 지표\n",
    "### 시각화"
   ]
  },
  {
   "cell_type": "markdown",
   "id": "5a3018ea",
   "metadata": {},
   "source": [
    "**최초 구매월(코호트 변수), Month(최초 구입과 최근 구매와의 일자 차이)고객 수 누적표**"
   ]
  },
  {
   "cell_type": "code",
   "execution_count": 151,
   "id": "ff9c49b9",
   "metadata": {},
   "outputs": [
    {
     "name": "stderr",
     "output_type": "stream",
     "text": [
      "\u001b[1m\u001b[22m`summarise()` has grouped output by 'Cohort'. You can override using the `.groups` argument.\n"
     ]
    },
    {
     "data": {
      "text/html": [
       "<table class=\"dataframe\">\n",
       "<caption>A grouped_df: 12 × 13</caption>\n",
       "<thead>\n",
       "\t<tr><th scope=col>Cohort</th><th scope=col>0</th><th scope=col>1</th><th scope=col>2</th><th scope=col>3</th><th scope=col>4</th><th scope=col>5</th><th scope=col>6</th><th scope=col>7</th><th scope=col>8</th><th scope=col>9</th><th scope=col>10</th><th scope=col>11</th></tr>\n",
       "\t<tr><th scope=col>&lt;ord&gt;</th><th scope=col>&lt;int&gt;</th><th scope=col>&lt;int&gt;</th><th scope=col>&lt;int&gt;</th><th scope=col>&lt;int&gt;</th><th scope=col>&lt;int&gt;</th><th scope=col>&lt;int&gt;</th><th scope=col>&lt;int&gt;</th><th scope=col>&lt;int&gt;</th><th scope=col>&lt;int&gt;</th><th scope=col>&lt;int&gt;</th><th scope=col>&lt;int&gt;</th><th scope=col>&lt;int&gt;</th></tr>\n",
       "</thead>\n",
       "<tbody>\n",
       "\t<tr><td>Jan Cohort</td><td>783</td><td>307</td><td>343</td><td>306</td><td>349</td><td>328</td><td>314</td><td>298</td><td>342</td><td>337</td><td>414</td><td>244</td></tr>\n",
       "\t<tr><td>Feb Cohort</td><td>499</td><td>123</td><td>148</td><td>155</td><td>156</td><td>126</td><td>160</td><td>160</td><td>168</td><td>169</td><td> 98</td><td> NA</td></tr>\n",
       "\t<tr><td>Mar Cohort</td><td>530</td><td>110</td><td>135</td><td>123</td><td>132</td><td>101</td><td>132</td><td>142</td><td>156</td><td> 79</td><td> NA</td><td> NA</td></tr>\n",
       "\t<tr><td>Apr Cohort</td><td>360</td><td> 86</td><td> 97</td><td> 75</td><td> 82</td><td> 76</td><td> 95</td><td>100</td><td> 62</td><td> NA</td><td> NA</td><td> NA</td></tr>\n",
       "\t<tr><td>May Cohort</td><td>317</td><td> 65</td><td> 56</td><td> 57</td><td> 70</td><td> 77</td><td> 87</td><td> 52</td><td> NA</td><td> NA</td><td> NA</td><td> NA</td></tr>\n",
       "\t<tr><td>Jun Cohort</td><td>263</td><td> 55</td><td> 47</td><td> 59</td><td> 66</td><td> 90</td><td> 31</td><td> NA</td><td> NA</td><td> NA</td><td> NA</td><td> NA</td></tr>\n",
       "\t<tr><td>Jul Cohort</td><td>218</td><td> 46</td><td> 40</td><td> 58</td><td> 57</td><td> 31</td><td> NA</td><td> NA</td><td> NA</td><td> NA</td><td> NA</td><td> NA</td></tr>\n",
       "\t<tr><td>Aug Cohort</td><td>184</td><td> 46</td><td> 51</td><td> 51</td><td> 23</td><td> NA</td><td> NA</td><td> NA</td><td> NA</td><td> NA</td><td> NA</td><td> NA</td></tr>\n",
       "\t<tr><td>Sep Cohort</td><td>313</td><td> 86</td><td>104</td><td> 30</td><td> NA</td><td> NA</td><td> NA</td><td> NA</td><td> NA</td><td> NA</td><td> NA</td><td> NA</td></tr>\n",
       "\t<tr><td>Oct Cohort</td><td>371</td><td> 98</td><td> 48</td><td> NA</td><td> NA</td><td> NA</td><td> NA</td><td> NA</td><td> NA</td><td> NA</td><td> NA</td><td> NA</td></tr>\n",
       "\t<tr><td>Nov Cohort</td><td>359</td><td> 41</td><td> NA</td><td> NA</td><td> NA</td><td> NA</td><td> NA</td><td> NA</td><td> NA</td><td> NA</td><td> NA</td><td> NA</td></tr>\n",
       "\t<tr><td>Dec Cohort</td><td> 47</td><td> NA</td><td> NA</td><td> NA</td><td> NA</td><td> NA</td><td> NA</td><td> NA</td><td> NA</td><td> NA</td><td> NA</td><td> NA</td></tr>\n",
       "</tbody>\n",
       "</table>\n"
      ],
      "text/latex": [
       "A grouped\\_df: 12 × 13\n",
       "\\begin{tabular}{lllllllllllll}\n",
       " Cohort & 0 & 1 & 2 & 3 & 4 & 5 & 6 & 7 & 8 & 9 & 10 & 11\\\\\n",
       " <ord> & <int> & <int> & <int> & <int> & <int> & <int> & <int> & <int> & <int> & <int> & <int> & <int>\\\\\n",
       "\\hline\n",
       "\t Jan Cohort & 783 & 307 & 343 & 306 & 349 & 328 & 314 & 298 & 342 & 337 & 414 & 244\\\\\n",
       "\t Feb Cohort & 499 & 123 & 148 & 155 & 156 & 126 & 160 & 160 & 168 & 169 &  98 &  NA\\\\\n",
       "\t Mar Cohort & 530 & 110 & 135 & 123 & 132 & 101 & 132 & 142 & 156 &  79 &  NA &  NA\\\\\n",
       "\t Apr Cohort & 360 &  86 &  97 &  75 &  82 &  76 &  95 & 100 &  62 &  NA &  NA &  NA\\\\\n",
       "\t May Cohort & 317 &  65 &  56 &  57 &  70 &  77 &  87 &  52 &  NA &  NA &  NA &  NA\\\\\n",
       "\t Jun Cohort & 263 &  55 &  47 &  59 &  66 &  90 &  31 &  NA &  NA &  NA &  NA &  NA\\\\\n",
       "\t Jul Cohort & 218 &  46 &  40 &  58 &  57 &  31 &  NA &  NA &  NA &  NA &  NA &  NA\\\\\n",
       "\t Aug Cohort & 184 &  46 &  51 &  51 &  23 &  NA &  NA &  NA &  NA &  NA &  NA &  NA\\\\\n",
       "\t Sep Cohort & 313 &  86 & 104 &  30 &  NA &  NA &  NA &  NA &  NA &  NA &  NA &  NA\\\\\n",
       "\t Oct Cohort & 371 &  98 &  48 &  NA &  NA &  NA &  NA &  NA &  NA &  NA &  NA &  NA\\\\\n",
       "\t Nov Cohort & 359 &  41 &  NA &  NA &  NA &  NA &  NA &  NA &  NA &  NA &  NA &  NA\\\\\n",
       "\t Dec Cohort &  47 &  NA &  NA &  NA &  NA &  NA &  NA &  NA &  NA &  NA &  NA &  NA\\\\\n",
       "\\end{tabular}\n"
      ],
      "text/markdown": [
       "\n",
       "A grouped_df: 12 × 13\n",
       "\n",
       "| Cohort &lt;ord&gt; | 0 &lt;int&gt; | 1 &lt;int&gt; | 2 &lt;int&gt; | 3 &lt;int&gt; | 4 &lt;int&gt; | 5 &lt;int&gt; | 6 &lt;int&gt; | 7 &lt;int&gt; | 8 &lt;int&gt; | 9 &lt;int&gt; | 10 &lt;int&gt; | 11 &lt;int&gt; |\n",
       "|---|---|---|---|---|---|---|---|---|---|---|---|---|\n",
       "| Jan Cohort | 783 | 307 | 343 | 306 | 349 | 328 | 314 | 298 | 342 | 337 | 414 | 244 |\n",
       "| Feb Cohort | 499 | 123 | 148 | 155 | 156 | 126 | 160 | 160 | 168 | 169 |  98 |  NA |\n",
       "| Mar Cohort | 530 | 110 | 135 | 123 | 132 | 101 | 132 | 142 | 156 |  79 |  NA |  NA |\n",
       "| Apr Cohort | 360 |  86 |  97 |  75 |  82 |  76 |  95 | 100 |  62 |  NA |  NA |  NA |\n",
       "| May Cohort | 317 |  65 |  56 |  57 |  70 |  77 |  87 |  52 |  NA |  NA |  NA |  NA |\n",
       "| Jun Cohort | 263 |  55 |  47 |  59 |  66 |  90 |  31 |  NA |  NA |  NA |  NA |  NA |\n",
       "| Jul Cohort | 218 |  46 |  40 |  58 |  57 |  31 |  NA |  NA |  NA |  NA |  NA |  NA |\n",
       "| Aug Cohort | 184 |  46 |  51 |  51 |  23 |  NA |  NA |  NA |  NA |  NA |  NA |  NA |\n",
       "| Sep Cohort | 313 |  86 | 104 |  30 |  NA |  NA |  NA |  NA |  NA |  NA |  NA |  NA |\n",
       "| Oct Cohort | 371 |  98 |  48 |  NA |  NA |  NA |  NA |  NA |  NA |  NA |  NA |  NA |\n",
       "| Nov Cohort | 359 |  41 |  NA |  NA |  NA |  NA |  NA |  NA |  NA |  NA |  NA |  NA |\n",
       "| Dec Cohort |  47 |  NA |  NA |  NA |  NA |  NA |  NA |  NA |  NA |  NA |  NA |  NA |\n",
       "\n"
      ],
      "text/plain": [
       "   Cohort     0   1   2   3   4   5   6   7   8   9   10  11 \n",
       "1  Jan Cohort 783 307 343 306 349 328 314 298 342 337 414 244\n",
       "2  Feb Cohort 499 123 148 155 156 126 160 160 168 169  98  NA\n",
       "3  Mar Cohort 530 110 135 123 132 101 132 142 156  79  NA  NA\n",
       "4  Apr Cohort 360  86  97  75  82  76  95 100  62  NA  NA  NA\n",
       "5  May Cohort 317  65  56  57  70  77  87  52  NA  NA  NA  NA\n",
       "6  Jun Cohort 263  55  47  59  66  90  31  NA  NA  NA  NA  NA\n",
       "7  Jul Cohort 218  46  40  58  57  31  NA  NA  NA  NA  NA  NA\n",
       "8  Aug Cohort 184  46  51  51  23  NA  NA  NA  NA  NA  NA  NA\n",
       "9  Sep Cohort 313  86 104  30  NA  NA  NA  NA  NA  NA  NA  NA\n",
       "10 Oct Cohort 371  98  48  NA  NA  NA  NA  NA  NA  NA  NA  NA\n",
       "11 Nov Cohort 359  41  NA  NA  NA  NA  NA  NA  NA  NA  NA  NA\n",
       "12 Dec Cohort  47  NA  NA  NA  NA  NA  NA  NA  NA  NA  NA  NA"
      ]
     },
     "metadata": {},
     "output_type": "display_data"
    }
   ],
   "source": [
    "cohorts5 %>% group_by(Cohort, Months) %>% \n",
    "    summarise(n = n_distinct(CustomerID)) %>% \n",
    "    spread(Months, n)"
   ]
  },
  {
   "cell_type": "code",
   "execution_count": 154,
   "id": "17727f2a",
   "metadata": {
    "scrolled": false
   },
   "outputs": [
    {
     "name": "stderr",
     "output_type": "stream",
     "text": [
      "\u001b[1m\u001b[22m`summarise()` has grouped output by 'Cohort'. You can override using the `.groups` argument.\n"
     ]
    },
    {
     "data": {
      "image/png": "[encoded data removed]",
      "text/plain": [
       "plot without title"
      ]
     },
     "metadata": {
      "image/png": {
       "height": 420,
       "width": 420
      }
     },
     "output_type": "display_data"
    }
   ],
   "source": [
    "cohorts5 %>% group_by(Cohort, Months) %>% \n",
    "    summarise(n = n_distinct(CustomerID)) %>% \n",
    "    ggplot(aes(Months, fct_relevel(Cohort, rev(levels(cohorts5$Cohort))), fill = n)) + \n",
    "    geom_tile() +\n",
    "    scale_x_discrete(position = \"top\") +\n",
    "    geom_text(aes(label = n), size = 3) +    \n",
    "    theme(axis.title.y = element_blank(),\n",
    "          axis.text = element_text(face = \"bold\")) + \n",
    "    scale_fill_distiller(palette = \"Oranges\", direction = 1)"
   ]
  },
  {
   "cell_type": "markdown",
   "id": "0ef29433",
   "metadata": {},
   "source": [
    "- **히트맵의 제일 좌측 열은 해당 월(코호트)의 신규 가입자**\n",
    "- **1월에 신규 가입자가 제일 많음, 12월로 갈 수록 신규 가입자가 감소 (세로축)**\n",
    "- **1월의 신규 가입자 중, 11개월 뒤에도 물건을 구매한 가입자는 244명**"
   ]
  },
  {
   "cell_type": "markdown",
   "id": "1f175365",
   "metadata": {},
   "source": [
    "### \n",
    "### Retention Rate : 신규가입자가 남아있을 확률"
   ]
  },
  {
   "cell_type": "markdown",
   "id": "4e64ee0b",
   "metadata": {},
   "source": [
    "- **월 별 신규 구매자 수**"
   ]
  },
  {
   "cell_type": "code",
   "execution_count": 236,
   "id": "5d3c561d",
   "metadata": {},
   "outputs": [
    {
     "data": {
      "text/html": [
       "<table class=\"dataframe\">\n",
       "<caption>A tibble: 3 × 2</caption>\n",
       "<thead>\n",
       "\t<tr><th scope=col>Cohort</th><th scope=col>new</th></tr>\n",
       "\t<tr><th scope=col>&lt;ord&gt;</th><th scope=col>&lt;int&gt;</th></tr>\n",
       "</thead>\n",
       "<tbody>\n",
       "\t<tr><td>Jan Cohort</td><td>783</td></tr>\n",
       "\t<tr><td>Feb Cohort</td><td>499</td></tr>\n",
       "\t<tr><td>Mar Cohort</td><td>530</td></tr>\n",
       "</tbody>\n",
       "</table>\n"
      ],
      "text/latex": [
       "A tibble: 3 × 2\n",
       "\\begin{tabular}{ll}\n",
       " Cohort & new\\\\\n",
       " <ord> & <int>\\\\\n",
       "\\hline\n",
       "\t Jan Cohort & 783\\\\\n",
       "\t Feb Cohort & 499\\\\\n",
       "\t Mar Cohort & 530\\\\\n",
       "\\end{tabular}\n"
      ],
      "text/markdown": [
       "\n",
       "A tibble: 3 × 2\n",
       "\n",
       "| Cohort &lt;ord&gt; | new &lt;int&gt; |\n",
       "|---|---|\n",
       "| Jan Cohort | 783 |\n",
       "| Feb Cohort | 499 |\n",
       "| Mar Cohort | 530 |\n",
       "\n"
      ],
      "text/plain": [
       "  Cohort     new\n",
       "1 Jan Cohort 783\n",
       "2 Feb Cohort 499\n",
       "3 Mar Cohort 530"
      ]
     },
     "metadata": {},
     "output_type": "display_data"
    }
   ],
   "source": [
    "new <- cohorts5 %>% group_by(Cohort) %>% \n",
    "    summarise(new = n_distinct(CustomerID)) \n",
    "new %>% head(3)"
   ]
  },
  {
   "cell_type": "markdown",
   "id": "de7b6e24",
   "metadata": {},
   "source": [
    "**코호트별 Retention Rate**"
   ]
  },
  {
   "cell_type": "code",
   "execution_count": 187,
   "id": "3482f0ed",
   "metadata": {},
   "outputs": [
    {
     "name": "stderr",
     "output_type": "stream",
     "text": [
      "\u001b[1m\u001b[22m`summarise()` has grouped output by 'Cohort'. You can override using the `.groups` argument.\n"
     ]
    },
    {
     "data": {
      "image/png": "[encoded data removed]",
      "text/plain": [
       "plot without title"
      ]
     },
     "metadata": {
      "image/png": {
       "height": 420,
       "width": 420
      }
     },
     "output_type": "display_data"
    }
   ],
   "source": [
    "cohorts5 %>% group_by(Cohort, Months) %>% \n",
    "    summarise(n = n_distinct(CustomerID)) %>%   \n",
    "    merge(new, by = \"Cohort\") %>%\n",
    "    mutate(rate = round(n / new * 100, 3)) %>% \n",
    "    ggplot(aes(Months, fct_relevel(Cohort, rev(levels(cohorts5$Cohort))), fill = rate)) + \n",
    "    geom_tile() +\n",
    "    geom_text(aes(label = n), size = 3) +    \n",
    "    theme(axis.title.y = element_blank(),\n",
    "          axis.text = element_text(face = \"bold\")) + \n",
    "    scale_fill_gradientn(\n",
    "        colours = c(\"White\", \"gray\", \"red\"),\n",
    "        na.value = \"White\") + \n",
    "    ggtitle(\"Retention Rate (in %)\")"
   ]
  },
  {
   "cell_type": "markdown",
   "id": "c58c5dc4",
   "metadata": {},
   "source": [
    "**코호트별 평균 구매 수량**"
   ]
  },
  {
   "cell_type": "code",
   "execution_count": 237,
   "id": "bf049695",
   "metadata": {},
   "outputs": [
    {
     "name": "stderr",
     "output_type": "stream",
     "text": [
      "\u001b[1m\u001b[22m`summarise()` has grouped output by 'Cohort'. You can override using the `.groups` argument.\n"
     ]
    },
    {
     "data": {
      "image/png": "[encoded data removed]",
      "text/plain": [
       "plot without title"
      ]
     },
     "metadata": {
      "image/png": {
       "height": 420,
       "width": 420
      }
     },
     "output_type": "display_data"
    }
   ],
   "source": [
    "cohorts5 %>% group_by(Cohort, Months) %>% \n",
    "    summarise(avg_quan = mean(Quantity)) %>%\n",
    "    ggplot(aes(Months, fct_relevel(Cohort, rev(levels(cohorts5$Cohort))), fill = avg_quan)) + \n",
    "    geom_tile() +\n",
    "    scale_x_discrete(position = \"top\") +\n",
    "    geom_text(aes(label = round(avg_quan, 3)), size = 3) +    \n",
    "    theme(axis.title.y = element_blank(),\n",
    "          axis.text = element_text(face = \"bold\")) + \n",
    "    scale_fill_distiller(palette = \"Greens\", direction = 1) + \n",
    "    ggtitle(\"Quantity Average\")"
   ]
  },
  {
   "cell_type": "markdown",
   "id": "be66df63",
   "metadata": {},
   "source": [
    "### \n",
    "# \n",
    "## RFM with Modeling\n",
    "- R (Recent): 최근 / F (Frequency): 자주 / M (Monetary): 통화량"
   ]
  },
  {
   "cell_type": "markdown",
   "id": "24aa1c5c",
   "metadata": {},
   "source": [
    "**구매 금액 (Purchase) = 구매수량 (Quantity)$\\times$ 가격 (UnitPrice)**"
   ]
  },
  {
   "cell_type": "code",
   "execution_count": 199,
   "id": "cd286a41",
   "metadata": {},
   "outputs": [
    {
     "data": {
      "text/html": [
       "<table class=\"dataframe\">\n",
       "<caption>A data.frame: 1 × 11</caption>\n",
       "<thead>\n",
       "\t<tr><th></th><th scope=col>CustomerID</th><th scope=col>InvoiceNo</th><th scope=col>StockCode</th><th scope=col>Description</th><th scope=col>Quantity</th><th scope=col>InvoiceDate</th><th scope=col>UnitPrice</th><th scope=col>Country</th><th scope=col>InvoiceMonth</th><th scope=col>Month</th><th scope=col>Purchase</th></tr>\n",
       "\t<tr><th></th><th scope=col>&lt;dbl&gt;</th><th scope=col>&lt;chr&gt;</th><th scope=col>&lt;chr&gt;</th><th scope=col>&lt;chr&gt;</th><th scope=col>&lt;dbl&gt;</th><th scope=col>&lt;dttm&gt;</th><th scope=col>&lt;dbl&gt;</th><th scope=col>&lt;chr&gt;</th><th scope=col>&lt;dttm&gt;</th><th scope=col>&lt;dttm&gt;</th><th scope=col>&lt;dbl&gt;</th></tr>\n",
       "</thead>\n",
       "<tbody>\n",
       "\t<tr><th scope=row>1</th><td>12346</td><td>541431</td><td>23166</td><td>MEDIUM CERAMIC TOP STORAGE JAR</td><td>74215</td><td>2011-01-18 10:01:00</td><td>1.04</td><td>United Kingdom</td><td>2011-01-01</td><td>2011-01-01</td><td>77183.6</td></tr>\n",
       "</tbody>\n",
       "</table>\n"
      ],
      "text/latex": [
       "A data.frame: 1 × 11\n",
       "\\begin{tabular}{r|lllllllllll}\n",
       "  & CustomerID & InvoiceNo & StockCode & Description & Quantity & InvoiceDate & UnitPrice & Country & InvoiceMonth & Month & Purchase\\\\\n",
       "  & <dbl> & <chr> & <chr> & <chr> & <dbl> & <dttm> & <dbl> & <chr> & <dttm> & <dttm> & <dbl>\\\\\n",
       "\\hline\n",
       "\t1 & 12346 & 541431 & 23166 & MEDIUM CERAMIC TOP STORAGE JAR & 74215 & 2011-01-18 10:01:00 & 1.04 & United Kingdom & 2011-01-01 & 2011-01-01 & 77183.6\\\\\n",
       "\\end{tabular}\n"
      ],
      "text/markdown": [
       "\n",
       "A data.frame: 1 × 11\n",
       "\n",
       "| <!--/--> | CustomerID &lt;dbl&gt; | InvoiceNo &lt;chr&gt; | StockCode &lt;chr&gt; | Description &lt;chr&gt; | Quantity &lt;dbl&gt; | InvoiceDate &lt;dttm&gt; | UnitPrice &lt;dbl&gt; | Country &lt;chr&gt; | InvoiceMonth &lt;dttm&gt; | Month &lt;dttm&gt; | Purchase &lt;dbl&gt; |\n",
       "|---|---|---|---|---|---|---|---|---|---|---|---|\n",
       "| 1 | 12346 | 541431 | 23166 | MEDIUM CERAMIC TOP STORAGE JAR | 74215 | 2011-01-18 10:01:00 | 1.04 | United Kingdom | 2011-01-01 | 2011-01-01 | 77183.6 |\n",
       "\n"
      ],
      "text/plain": [
       "  CustomerID InvoiceNo StockCode Description                    Quantity\n",
       "1 12346      541431    23166     MEDIUM CERAMIC TOP STORAGE JAR 74215   \n",
       "  InvoiceDate         UnitPrice Country        InvoiceMonth Month      Purchase\n",
       "1 2011-01-18 10:01:00 1.04      United Kingdom 2011-01-01   2011-01-01 77183.6 "
      ]
     },
     "metadata": {},
     "output_type": "display_data"
    }
   ],
   "source": [
    "retail_merge %>%\n",
    "    mutate(Purchase = (Quantity * UnitPrice)) -> rfm\n",
    "rfm %>% head(1)"
   ]
  },
  {
   "cell_type": "markdown",
   "id": "c2656707",
   "metadata": {},
   "source": [
    "### \n",
    "**snapshot_date (분석 기준 날짜): 데이터상 최근 구매 일자 + 1**"
   ]
  },
  {
   "cell_type": "code",
   "execution_count": 202,
   "id": "92c7315d",
   "metadata": {},
   "outputs": [
    {
     "data": {
      "text/plain": [
       "[1] \"2011-12-10 12:50:00 UTC\""
      ]
     },
     "metadata": {},
     "output_type": "display_data"
    }
   ],
   "source": [
    "snapshot_date <- max(rfm$InvoiceDate) + days(1); snapshot_date"
   ]
  },
  {
   "cell_type": "markdown",
   "id": "f55d7c1b",
   "metadata": {},
   "source": [
    "**데이터상 최초 구매 일자**"
   ]
  },
  {
   "cell_type": "code",
   "execution_count": 203,
   "id": "ae17dfc5",
   "metadata": {},
   "outputs": [
    {
     "data": {
      "text/plain": [
       "[1] \"2010-12-01 08:26:00 UTC\""
      ]
     },
     "metadata": {},
     "output_type": "display_data"
    }
   ],
   "source": [
    "min(rfm$InvoiceDate)"
   ]
  },
  {
   "cell_type": "markdown",
   "id": "94f6940d",
   "metadata": {},
   "source": [
    "### \n",
    "### R : 분석 기준 날짜 - 고객별 데이터상 최근 구매 일자"
   ]
  },
  {
   "cell_type": "markdown",
   "id": "b71c32e1",
   "metadata": {},
   "source": [
    "**고객별 최근 구매 일자**"
   ]
  },
  {
   "cell_type": "code",
   "execution_count": 233,
   "id": "dab746ee",
   "metadata": {},
   "outputs": [
    {
     "data": {
      "text/html": [
       "<table class=\"dataframe\">\n",
       "<caption>A tibble: 1 × 2</caption>\n",
       "<thead>\n",
       "\t<tr><th scope=col>CustomerID</th><th scope=col>Recent_date</th></tr>\n",
       "\t<tr><th scope=col>&lt;dbl&gt;</th><th scope=col>&lt;dttm&gt;</th></tr>\n",
       "</thead>\n",
       "<tbody>\n",
       "\t<tr><td>12346</td><td>2011-01-18 10:01:00</td></tr>\n",
       "</tbody>\n",
       "</table>\n"
      ],
      "text/latex": [
       "A tibble: 1 × 2\n",
       "\\begin{tabular}{ll}\n",
       " CustomerID & Recent\\_date\\\\\n",
       " <dbl> & <dttm>\\\\\n",
       "\\hline\n",
       "\t 12346 & 2011-01-18 10:01:00\\\\\n",
       "\\end{tabular}\n"
      ],
      "text/markdown": [
       "\n",
       "A tibble: 1 × 2\n",
       "\n",
       "| CustomerID &lt;dbl&gt; | Recent_date &lt;dttm&gt; |\n",
       "|---|---|\n",
       "| 12346 | 2011-01-18 10:01:00 |\n",
       "\n"
      ],
      "text/plain": [
       "  CustomerID Recent_date        \n",
       "1 12346      2011-01-18 10:01:00"
      ]
     },
     "metadata": {},
     "output_type": "display_data"
    }
   ],
   "source": [
    "rfm %>% group_by(CustomerID) %>%\n",
    "    summarise(Recent_date = max(InvoiceDate)) -> Recent\n",
    "Recent %>% head(1)"
   ]
  },
  {
   "cell_type": "markdown",
   "id": "91bd9830",
   "metadata": {},
   "source": [
    "**분석 기준 일자와, 고객별 최근 구매 일자의 차이 => 고객별 가장 최근 구매 날짜로 부터 지난 기간**"
   ]
  },
  {
   "cell_type": "code",
   "execution_count": 234,
   "id": "8dbe6d46",
   "metadata": {},
   "outputs": [
    {
     "data": {
      "text/html": [
       "<table class=\"dataframe\">\n",
       "<caption>A tibble: 1 × 3</caption>\n",
       "<thead>\n",
       "\t<tr><th scope=col>CustomerID</th><th scope=col>Recent_date</th><th scope=col>Recent</th></tr>\n",
       "\t<tr><th scope=col>&lt;dbl&gt;</th><th scope=col>&lt;dttm&gt;</th><th scope=col>&lt;dbl&gt;</th></tr>\n",
       "</thead>\n",
       "<tbody>\n",
       "\t<tr><td>12346</td><td>2011-01-18 10:01:00</td><td>326</td></tr>\n",
       "</tbody>\n",
       "</table>\n"
      ],
      "text/latex": [
       "A tibble: 1 × 3\n",
       "\\begin{tabular}{lll}\n",
       " CustomerID & Recent\\_date & Recent\\\\\n",
       " <dbl> & <dttm> & <dbl>\\\\\n",
       "\\hline\n",
       "\t 12346 & 2011-01-18 10:01:00 & 326\\\\\n",
       "\\end{tabular}\n"
      ],
      "text/markdown": [
       "\n",
       "A tibble: 1 × 3\n",
       "\n",
       "| CustomerID &lt;dbl&gt; | Recent_date &lt;dttm&gt; | Recent &lt;dbl&gt; |\n",
       "|---|---|---|\n",
       "| 12346 | 2011-01-18 10:01:00 | 326 |\n",
       "\n"
      ],
      "text/plain": [
       "  CustomerID Recent_date         Recent\n",
       "1 12346      2011-01-18 10:01:00 326   "
      ]
     },
     "metadata": {},
     "output_type": "display_data"
    }
   ],
   "source": [
    "Recent %>% mutate(Recent = round(as.numeric(snapshot_date - Recent_date), 0)) -> Recent1\n",
    "Recent1 %>% head(1)"
   ]
  },
  {
   "cell_type": "markdown",
   "id": "0b533ef7",
   "metadata": {},
   "source": [
    "### \n",
    "### F : 고객별 구매 횟수"
   ]
  },
  {
   "cell_type": "code",
   "execution_count": 230,
   "id": "9e7d3b96",
   "metadata": {},
   "outputs": [
    {
     "data": {
      "text/html": [
       "<table class=\"dataframe\">\n",
       "<caption>A tibble: 1 × 2</caption>\n",
       "<thead>\n",
       "\t<tr><th scope=col>CustomerID</th><th scope=col>Frequency</th></tr>\n",
       "\t<tr><th scope=col>&lt;dbl&gt;</th><th scope=col>&lt;int&gt;</th></tr>\n",
       "</thead>\n",
       "<tbody>\n",
       "\t<tr><td>12346</td><td>1</td></tr>\n",
       "</tbody>\n",
       "</table>\n"
      ],
      "text/latex": [
       "A tibble: 1 × 2\n",
       "\\begin{tabular}{ll}\n",
       " CustomerID & Frequency\\\\\n",
       " <dbl> & <int>\\\\\n",
       "\\hline\n",
       "\t 12346 & 1\\\\\n",
       "\\end{tabular}\n"
      ],
      "text/markdown": [
       "\n",
       "A tibble: 1 × 2\n",
       "\n",
       "| CustomerID &lt;dbl&gt; | Frequency &lt;int&gt; |\n",
       "|---|---|\n",
       "| 12346 | 1 |\n",
       "\n"
      ],
      "text/plain": [
       "  CustomerID Frequency\n",
       "1 12346      1        "
      ]
     },
     "metadata": {},
     "output_type": "display_data"
    }
   ],
   "source": [
    "rfm %>% group_by(CustomerID) %>% \n",
    "    summarise(Frequency = n()) -> Frequency\n",
    "Frequency %>% head(1)"
   ]
  },
  {
   "cell_type": "markdown",
   "id": "51abc853",
   "metadata": {},
   "source": [
    "### \n",
    "### M : 고객별 누적 구매 금액"
   ]
  },
  {
   "cell_type": "code",
   "execution_count": 226,
   "id": "2998cc59",
   "metadata": {},
   "outputs": [
    {
     "data": {
      "text/html": [
       "<table class=\"dataframe\">\n",
       "<caption>A tibble: 1 × 2</caption>\n",
       "<thead>\n",
       "\t<tr><th scope=col>CustomerID</th><th scope=col>Monetary</th></tr>\n",
       "\t<tr><th scope=col>&lt;dbl&gt;</th><th scope=col>&lt;dbl&gt;</th></tr>\n",
       "</thead>\n",
       "<tbody>\n",
       "\t<tr><td>12346</td><td>77183.6</td></tr>\n",
       "</tbody>\n",
       "</table>\n"
      ],
      "text/latex": [
       "A tibble: 1 × 2\n",
       "\\begin{tabular}{ll}\n",
       " CustomerID & Monetary\\\\\n",
       " <dbl> & <dbl>\\\\\n",
       "\\hline\n",
       "\t 12346 & 77183.6\\\\\n",
       "\\end{tabular}\n"
      ],
      "text/markdown": [
       "\n",
       "A tibble: 1 × 2\n",
       "\n",
       "| CustomerID &lt;dbl&gt; | Monetary &lt;dbl&gt; |\n",
       "|---|---|\n",
       "| 12346 | 77183.6 |\n",
       "\n"
      ],
      "text/plain": [
       "  CustomerID Monetary\n",
       "1 12346      77183.6 "
      ]
     },
     "metadata": {},
     "output_type": "display_data"
    }
   ],
   "source": [
    "rfm %>% group_by(CustomerID) %>%\n",
    "    summarise(Monetary = sum(Purchase)) -> Monetary\n",
    "Monetary %>% head(1)"
   ]
  },
  {
   "cell_type": "markdown",
   "id": "48fe0fb8",
   "metadata": {},
   "source": [
    "### \n",
    "### RFM 병합"
   ]
  },
  {
   "cell_type": "code",
   "execution_count": 239,
   "id": "678d0874",
   "metadata": {},
   "outputs": [
    {
     "data": {
      "text/html": [
       "<table class=\"dataframe\">\n",
       "<caption>A data.frame: 3 × 5</caption>\n",
       "<thead>\n",
       "\t<tr><th></th><th scope=col>CustomerID</th><th scope=col>Recent_date</th><th scope=col>Recent</th><th scope=col>Frequency</th><th scope=col>Monetary</th></tr>\n",
       "\t<tr><th></th><th scope=col>&lt;dbl&gt;</th><th scope=col>&lt;dttm&gt;</th><th scope=col>&lt;dbl&gt;</th><th scope=col>&lt;int&gt;</th><th scope=col>&lt;dbl&gt;</th></tr>\n",
       "</thead>\n",
       "<tbody>\n",
       "\t<tr><th scope=row>1</th><td>12346</td><td>2011-01-18 10:01:00</td><td>326</td><td>  1</td><td>77183.60</td></tr>\n",
       "\t<tr><th scope=row>2</th><td>12347</td><td>2011-12-07 15:52:00</td><td>  3</td><td>182</td><td> 4310.00</td></tr>\n",
       "\t<tr><th scope=row>3</th><td>12348</td><td>2011-09-25 13:13:00</td><td> 76</td><td> 31</td><td> 1797.24</td></tr>\n",
       "</tbody>\n",
       "</table>\n"
      ],
      "text/latex": [
       "A data.frame: 3 × 5\n",
       "\\begin{tabular}{r|lllll}\n",
       "  & CustomerID & Recent\\_date & Recent & Frequency & Monetary\\\\\n",
       "  & <dbl> & <dttm> & <dbl> & <int> & <dbl>\\\\\n",
       "\\hline\n",
       "\t1 & 12346 & 2011-01-18 10:01:00 & 326 &   1 & 77183.60\\\\\n",
       "\t2 & 12347 & 2011-12-07 15:52:00 &   3 & 182 &  4310.00\\\\\n",
       "\t3 & 12348 & 2011-09-25 13:13:00 &  76 &  31 &  1797.24\\\\\n",
       "\\end{tabular}\n"
      ],
      "text/markdown": [
       "\n",
       "A data.frame: 3 × 5\n",
       "\n",
       "| <!--/--> | CustomerID &lt;dbl&gt; | Recent_date &lt;dttm&gt; | Recent &lt;dbl&gt; | Frequency &lt;int&gt; | Monetary &lt;dbl&gt; |\n",
       "|---|---|---|---|---|---|\n",
       "| 1 | 12346 | 2011-01-18 10:01:00 | 326 |   1 | 77183.60 |\n",
       "| 2 | 12347 | 2011-12-07 15:52:00 |   3 | 182 |  4310.00 |\n",
       "| 3 | 12348 | 2011-09-25 13:13:00 |  76 |  31 |  1797.24 |\n",
       "\n"
      ],
      "text/plain": [
       "  CustomerID Recent_date         Recent Frequency Monetary\n",
       "1 12346      2011-01-18 10:01:00 326      1       77183.60\n",
       "2 12347      2011-12-07 15:52:00   3    182        4310.00\n",
       "3 12348      2011-09-25 13:13:00  76     31        1797.24"
      ]
     },
     "metadata": {},
     "output_type": "display_data"
    }
   ],
   "source": [
    "Recent1 %>% merge(Frequency, by = \"CustomerID\") %>% merge(Monetary, by = \"CustomerID\")  -> RFM\n",
    "RFM %>% head(3)"
   ]
  },
  {
   "cell_type": "markdown",
   "id": "2b9d50cf",
   "metadata": {},
   "source": [
    "### \n",
    "### RFM을 통한 고객 분류"
   ]
  },
  {
   "cell_type": "markdown",
   "id": "6ee7dcb4",
   "metadata": {},
   "source": [
    "### ```ntile(data, n)``` : data를 n 분위로 나누고, 데이터 별 분위수 계산\n",
    "- data의 값이 높을수록 높은 분위수 반환 (오름차순)\n",
    "\n",
    "### \n",
    "\n",
    "\n",
    "**Recent는 낮을수록 높은 점수 / Frequency와 Monetary는 높을수록 높은 점수**\n",
    "\n",
    "**각 점수의 총합 => RFM_score**"
   ]
  },
  {
   "cell_type": "code",
   "execution_count": 241,
   "id": "3bc5e2ee",
   "metadata": {},
   "outputs": [
    {
     "data": {
      "text/html": [
       "<table class=\"dataframe\">\n",
       "<caption>A data.frame: 3 × 9</caption>\n",
       "<thead>\n",
       "\t<tr><th></th><th scope=col>CustomerID</th><th scope=col>Recent_date</th><th scope=col>Recent</th><th scope=col>Frequency</th><th scope=col>Monetary</th><th scope=col>R</th><th scope=col>Fr</th><th scope=col>M</th><th scope=col>RFM_score</th></tr>\n",
       "\t<tr><th></th><th scope=col>&lt;dbl&gt;</th><th scope=col>&lt;dttm&gt;</th><th scope=col>&lt;dbl&gt;</th><th scope=col>&lt;int&gt;</th><th scope=col>&lt;dbl&gt;</th><th scope=col>&lt;int&gt;</th><th scope=col>&lt;int&gt;</th><th scope=col>&lt;int&gt;</th><th scope=col>&lt;int&gt;</th></tr>\n",
       "</thead>\n",
       "<tbody>\n",
       "\t<tr><th scope=row>1</th><td>12346</td><td>2011-01-18 10:01:00</td><td>326</td><td>  1</td><td>77183.60</td><td>1</td><td>1</td><td>4</td><td> 6</td></tr>\n",
       "\t<tr><th scope=row>2</th><td>12347</td><td>2011-12-07 15:52:00</td><td>  3</td><td>182</td><td> 4310.00</td><td>4</td><td>4</td><td>4</td><td>12</td></tr>\n",
       "\t<tr><th scope=row>3</th><td>12348</td><td>2011-09-25 13:13:00</td><td> 76</td><td> 31</td><td> 1797.24</td><td>2</td><td>2</td><td>4</td><td> 8</td></tr>\n",
       "</tbody>\n",
       "</table>\n"
      ],
      "text/latex": [
       "A data.frame: 3 × 9\n",
       "\\begin{tabular}{r|lllllllll}\n",
       "  & CustomerID & Recent\\_date & Recent & Frequency & Monetary & R & Fr & M & RFM\\_score\\\\\n",
       "  & <dbl> & <dttm> & <dbl> & <int> & <dbl> & <int> & <int> & <int> & <int>\\\\\n",
       "\\hline\n",
       "\t1 & 12346 & 2011-01-18 10:01:00 & 326 &   1 & 77183.60 & 1 & 1 & 4 &  6\\\\\n",
       "\t2 & 12347 & 2011-12-07 15:52:00 &   3 & 182 &  4310.00 & 4 & 4 & 4 & 12\\\\\n",
       "\t3 & 12348 & 2011-09-25 13:13:00 &  76 &  31 &  1797.24 & 2 & 2 & 4 &  8\\\\\n",
       "\\end{tabular}\n"
      ],
      "text/markdown": [
       "\n",
       "A data.frame: 3 × 9\n",
       "\n",
       "| <!--/--> | CustomerID &lt;dbl&gt; | Recent_date &lt;dttm&gt; | Recent &lt;dbl&gt; | Frequency &lt;int&gt; | Monetary &lt;dbl&gt; | R &lt;int&gt; | Fr &lt;int&gt; | M &lt;int&gt; | RFM_score &lt;int&gt; |\n",
       "|---|---|---|---|---|---|---|---|---|---|\n",
       "| 1 | 12346 | 2011-01-18 10:01:00 | 326 |   1 | 77183.60 | 1 | 1 | 4 |  6 |\n",
       "| 2 | 12347 | 2011-12-07 15:52:00 |   3 | 182 |  4310.00 | 4 | 4 | 4 | 12 |\n",
       "| 3 | 12348 | 2011-09-25 13:13:00 |  76 |  31 |  1797.24 | 2 | 2 | 4 |  8 |\n",
       "\n"
      ],
      "text/plain": [
       "  CustomerID Recent_date         Recent Frequency Monetary R Fr M RFM_score\n",
       "1 12346      2011-01-18 10:01:00 326      1       77183.60 1 1  4  6       \n",
       "2 12347      2011-12-07 15:52:00   3    182        4310.00 4 4  4 12       \n",
       "3 12348      2011-09-25 13:13:00  76     31        1797.24 2 2  4  8       "
      ]
     },
     "metadata": {},
     "output_type": "display_data"
    }
   ],
   "source": [
    "RFM %>% \n",
    "    mutate(R = ntile(-Recent, 4), \n",
    "           Fr = ntile(Frequency, 4),\n",
    "           M = ntile(Monetary, 4),\n",
    "           RFM_score = R + Fr + M) -> RFM1\n",
    "RFM1 %>% head(3)"
   ]
  },
  {
   "cell_type": "markdown",
   "id": "f919bd22",
   "metadata": {},
   "source": [
    "### \n",
    "### 세그먼트(Segment) 생성 : RFM_score로, 고객의 등급을 Gold / Silver / Bronze로 구분\n",
    "- RFM_score의 상위 25%를 Gold / 상위 50%를 Silver / 나머지 Bronze"
   ]
  },
  {
   "cell_type": "code",
   "execution_count": 252,
   "id": "1070010a",
   "metadata": {},
   "outputs": [
    {
     "data": {
      "text/html": [
       "<strong>75%:</strong> 10"
      ],
      "text/latex": [
       "\\textbf{75\\textbackslash{}\\%:} 10"
      ],
      "text/markdown": [
       "**75%:** 10"
      ],
      "text/plain": [
       "75% \n",
       " 10 "
      ]
     },
     "metadata": {},
     "output_type": "display_data"
    },
    {
     "data": {
      "text/html": [
       "<strong>50%:</strong> 7"
      ],
      "text/latex": [
       "\\textbf{50\\textbackslash{}\\%:} 7"
      ],
      "text/markdown": [
       "**50%:** 7"
      ],
      "text/plain": [
       "50% \n",
       "  7 "
      ]
     },
     "metadata": {},
     "output_type": "display_data"
    }
   ],
   "source": [
    "quantile(RFM1$RFM_score, 0.75)\n",
    "quantile(RFM1$RFM_score, 0.5)"
   ]
  },
  {
   "cell_type": "code",
   "execution_count": 253,
   "id": "b94cbe51",
   "metadata": {},
   "outputs": [
    {
     "data": {
      "text/html": [
       "<table class=\"dataframe\">\n",
       "<caption>A data.frame: 3 × 10</caption>\n",
       "<thead>\n",
       "\t<tr><th></th><th scope=col>CustomerID</th><th scope=col>Recent_date</th><th scope=col>Recent</th><th scope=col>Frequency</th><th scope=col>Monetary</th><th scope=col>R</th><th scope=col>Fr</th><th scope=col>M</th><th scope=col>RFM_score</th><th scope=col>Segment</th></tr>\n",
       "\t<tr><th></th><th scope=col>&lt;dbl&gt;</th><th scope=col>&lt;dttm&gt;</th><th scope=col>&lt;dbl&gt;</th><th scope=col>&lt;int&gt;</th><th scope=col>&lt;dbl&gt;</th><th scope=col>&lt;int&gt;</th><th scope=col>&lt;int&gt;</th><th scope=col>&lt;int&gt;</th><th scope=col>&lt;int&gt;</th><th scope=col>&lt;chr&gt;</th></tr>\n",
       "</thead>\n",
       "<tbody>\n",
       "\t<tr><th scope=row>1</th><td>12346</td><td>2011-01-18 10:01:00</td><td>326</td><td>  1</td><td>77183.60</td><td>1</td><td>1</td><td>4</td><td> 6</td><td>Bronze</td></tr>\n",
       "\t<tr><th scope=row>2</th><td>12347</td><td>2011-12-07 15:52:00</td><td>  3</td><td>182</td><td> 4310.00</td><td>4</td><td>4</td><td>4</td><td>12</td><td>Gold  </td></tr>\n",
       "\t<tr><th scope=row>3</th><td>12348</td><td>2011-09-25 13:13:00</td><td> 76</td><td> 31</td><td> 1797.24</td><td>2</td><td>2</td><td>4</td><td> 8</td><td>Silver</td></tr>\n",
       "</tbody>\n",
       "</table>\n"
      ],
      "text/latex": [
       "A data.frame: 3 × 10\n",
       "\\begin{tabular}{r|llllllllll}\n",
       "  & CustomerID & Recent\\_date & Recent & Frequency & Monetary & R & Fr & M & RFM\\_score & Segment\\\\\n",
       "  & <dbl> & <dttm> & <dbl> & <int> & <dbl> & <int> & <int> & <int> & <int> & <chr>\\\\\n",
       "\\hline\n",
       "\t1 & 12346 & 2011-01-18 10:01:00 & 326 &   1 & 77183.60 & 1 & 1 & 4 &  6 & Bronze\\\\\n",
       "\t2 & 12347 & 2011-12-07 15:52:00 &   3 & 182 &  4310.00 & 4 & 4 & 4 & 12 & Gold  \\\\\n",
       "\t3 & 12348 & 2011-09-25 13:13:00 &  76 &  31 &  1797.24 & 2 & 2 & 4 &  8 & Silver\\\\\n",
       "\\end{tabular}\n"
      ],
      "text/markdown": [
       "\n",
       "A data.frame: 3 × 10\n",
       "\n",
       "| <!--/--> | CustomerID &lt;dbl&gt; | Recent_date &lt;dttm&gt; | Recent &lt;dbl&gt; | Frequency &lt;int&gt; | Monetary &lt;dbl&gt; | R &lt;int&gt; | Fr &lt;int&gt; | M &lt;int&gt; | RFM_score &lt;int&gt; | Segment &lt;chr&gt; |\n",
       "|---|---|---|---|---|---|---|---|---|---|---|\n",
       "| 1 | 12346 | 2011-01-18 10:01:00 | 326 |   1 | 77183.60 | 1 | 1 | 4 |  6 | Bronze |\n",
       "| 2 | 12347 | 2011-12-07 15:52:00 |   3 | 182 |  4310.00 | 4 | 4 | 4 | 12 | Gold   |\n",
       "| 3 | 12348 | 2011-09-25 13:13:00 |  76 |  31 |  1797.24 | 2 | 2 | 4 |  8 | Silver |\n",
       "\n"
      ],
      "text/plain": [
       "  CustomerID Recent_date         Recent Frequency Monetary R Fr M RFM_score\n",
       "1 12346      2011-01-18 10:01:00 326      1       77183.60 1 1  4  6       \n",
       "2 12347      2011-12-07 15:52:00   3    182        4310.00 4 4  4 12       \n",
       "3 12348      2011-09-25 13:13:00  76     31        1797.24 2 2  4  8       \n",
       "  Segment\n",
       "1 Bronze \n",
       "2 Gold   \n",
       "3 Silver "
      ]
     },
     "metadata": {},
     "output_type": "display_data"
    }
   ],
   "source": [
    "RFM1 %>% mutate(Segment = ifelse(RFM_score > 10, \"Gold\",\n",
    "                                  ifelse(RFM_score > 7, \"Silver\", \"Bronze\"))) -> RFM2\n",
    "RFM2 %>% head(3)"
   ]
  },
  {
   "cell_type": "markdown",
   "id": "4a59cbf4",
   "metadata": {},
   "source": [
    "**각 Segment별 평균**"
   ]
  },
  {
   "cell_type": "code",
   "execution_count": 255,
   "id": "841895e1",
   "metadata": {},
   "outputs": [
    {
     "data": {
      "text/html": [
       "<table class=\"dataframe\">\n",
       "<caption>A tibble: 3 × 5</caption>\n",
       "<thead>\n",
       "\t<tr><th scope=col>Segment</th><th scope=col>Recent_avg</th><th scope=col>Frequency_avg</th><th scope=col>Monetary_avg</th><th scope=col>RFM_score_avg</th></tr>\n",
       "\t<tr><th scope=col>&lt;chr&gt;</th><th scope=col>&lt;dbl&gt;</th><th scope=col>&lt;dbl&gt;</th><th scope=col>&lt;dbl&gt;</th><th scope=col>&lt;dbl&gt;</th></tr>\n",
       "</thead>\n",
       "<tbody>\n",
       "\t<tr><td>Bronze</td><td>149.36620</td><td> 22.45116</td><td> 482.8572</td><td> 5.103135</td></tr>\n",
       "\t<tr><td>Gold  </td><td> 14.15024</td><td>285.18750</td><td>6897.7626</td><td>11.527644</td></tr>\n",
       "\t<tr><td>Silver</td><td> 48.40153</td><td> 81.22682</td><td>1598.0856</td><td> 8.970115</td></tr>\n",
       "</tbody>\n",
       "</table>\n"
      ],
      "text/latex": [
       "A tibble: 3 × 5\n",
       "\\begin{tabular}{lllll}\n",
       " Segment & Recent\\_avg & Frequency\\_avg & Monetary\\_avg & RFM\\_score\\_avg\\\\\n",
       " <chr> & <dbl> & <dbl> & <dbl> & <dbl>\\\\\n",
       "\\hline\n",
       "\t Bronze & 149.36620 &  22.45116 &  482.8572 &  5.103135\\\\\n",
       "\t Gold   &  14.15024 & 285.18750 & 6897.7626 & 11.527644\\\\\n",
       "\t Silver &  48.40153 &  81.22682 & 1598.0856 &  8.970115\\\\\n",
       "\\end{tabular}\n"
      ],
      "text/markdown": [
       "\n",
       "A tibble: 3 × 5\n",
       "\n",
       "| Segment &lt;chr&gt; | Recent_avg &lt;dbl&gt; | Frequency_avg &lt;dbl&gt; | Monetary_avg &lt;dbl&gt; | RFM_score_avg &lt;dbl&gt; |\n",
       "|---|---|---|---|---|\n",
       "| Bronze | 149.36620 |  22.45116 |  482.8572 |  5.103135 |\n",
       "| Gold   |  14.15024 | 285.18750 | 6897.7626 | 11.527644 |\n",
       "| Silver |  48.40153 |  81.22682 | 1598.0856 |  8.970115 |\n",
       "\n"
      ],
      "text/plain": [
       "  Segment Recent_avg Frequency_avg Monetary_avg RFM_score_avg\n",
       "1 Bronze  149.36620   22.45116      482.8572     5.103135    \n",
       "2 Gold     14.15024  285.18750     6897.7626    11.527644    \n",
       "3 Silver   48.40153   81.22682     1598.0856     8.970115    "
      ]
     },
     "metadata": {},
     "output_type": "display_data"
    }
   ],
   "source": [
    "RFM2 %>% group_by(Segment) %>% summarise(Recent_avg = mean(Recent),\n",
    "                                          Frequency_avg = mean(Frequency),\n",
    "                                          Monetary_avg = mean(Monetary),\n",
    "                                          RFM_score_avg = mean(RFM_score)) -> RFM_seg\n",
    "RFM_seg"
   ]
  },
  {
   "cell_type": "markdown",
   "id": "704add30",
   "metadata": {},
   "source": [
    "### \n",
    "### K-Means Clustering"
   ]
  },
  {
   "cell_type": "markdown",
   "id": "bfe5b861",
   "metadata": {},
   "source": [
    "**Recent, Frequency, Monetary 변수에 표준화**"
   ]
  },
  {
   "cell_type": "code",
   "execution_count": 258,
   "id": "e087a514",
   "metadata": {},
   "outputs": [],
   "source": [
    "RFM2 %>% select(c(\"Recent\", \"Frequency\", \"Monetary\")) %>% scale() -> RFM_scale"
   ]
  },
  {
   "cell_type": "markdown",
   "id": "6208a3a0",
   "metadata": {},
   "source": [
    "**거리행렬**"
   ]
  },
  {
   "cell_type": "code",
   "execution_count": 262,
   "id": "e1963ba6",
   "metadata": {},
   "outputs": [],
   "source": [
    "library(factoextra)"
   ]
  },
  {
   "cell_type": "code",
   "execution_count": 263,
   "id": "d310f7d7",
   "metadata": {},
   "outputs": [],
   "source": [
    "RFM_dist <- dist(RFM_scale)"
   ]
  },
  {
   "cell_type": "markdown",
   "id": "80bcf19b",
   "metadata": {},
   "source": [
    "### **최적의 군집수 탐색**"
   ]
  },
  {
   "cell_type": "code",
   "execution_count": 267,
   "id": "b9f56a7b",
   "metadata": {},
   "outputs": [
    {
     "data": {
      "image/png": "[encoded data removed]",
      "text/plain": [
       "plot without title"
      ]
     },
     "metadata": {
      "image/png": {
       "height": 420,
       "width": 420
      }
     },
     "output_type": "display_data"
    }
   ],
   "source": [
    "fviz_nbclust(RFM_scale, FUN = kmeans, method = \"wss\", k.max = 10)\n",
    "# fviz_nbclust(RFM_scale, FUN = kmeans, method = \"silhouette\", k.max = 10)"
   ]
  },
  {
   "cell_type": "markdown",
   "id": "53aadb3e",
   "metadata": {},
   "source": [
    "### \n",
    "### K = 3의 군집분석 실시 및 시각화"
   ]
  },
  {
   "cell_type": "markdown",
   "id": "ae1175a0",
   "metadata": {},
   "source": [
    "**주성분분석(PCA)에 의해 생성된 성분간의 관계를 표현**"
   ]
  },
  {
   "cell_type": "code",
   "execution_count": 270,
   "id": "094f6a7a",
   "metadata": {},
   "outputs": [
    {
     "data": {
      "image/png": "[encoded data removed]",
      "text/plain": [
       "plot without title"
      ]
     },
     "metadata": {
      "image/png": {
       "height": 420,
       "width": 420
      }
     },
     "output_type": "display_data"
    }
   ],
   "source": [
    "k3 <- kmeans(RFM_scale, 3)\n",
    "fviz_cluster(k3, data = RFM_scale) + theme_classic()"
   ]
  },
  {
   "cell_type": "markdown",
   "id": "50098eda",
   "metadata": {},
   "source": [
    "**각 주성분들에 대한 정보**\n",
    "- **주성분1에는 Frequency, Monetary가 높은 기여도를 가짐**\n",
    "- **주성분2에는 Recent가 높은 기여도를 가짐**"
   ]
  },
  {
   "cell_type": "code",
   "execution_count": 273,
   "id": "2e1c4c01",
   "metadata": {},
   "outputs": [],
   "source": [
    "library(FactoMineR)"
   ]
  },
  {
   "cell_type": "code",
   "execution_count": 276,
   "id": "2ed0533c",
   "metadata": {},
   "outputs": [],
   "source": [
    "pca <- PCA(RFM_scale, graph = FALSE)\n",
    "a <- fviz_contrib(pca, choice = \"var\", axes = 1) + theme_classic()\n",
    "b <- fviz_contrib(pca, choice = \"var\", axes = 2) + theme_classic()"
   ]
  },
  {
   "cell_type": "code",
   "execution_count": 281,
   "id": "3b382434",
   "metadata": {
    "scrolled": false
   },
   "outputs": [
    {
     "data": {
      "image/png": "[encoded data removed]",
      "text/plain": [
       "plot without title"
      ]
     },
     "metadata": {
      "image/png": {
       "height": 420,
       "width": 420
      }
     },
     "output_type": "display_data"
    }
   ],
   "source": [
    "library(gridExtra)\n",
    "gridExtra::grid.arrange(a, b, nrow = 1)"
   ]
  },
  {
   "cell_type": "markdown",
   "id": "53813d7a",
   "metadata": {},
   "source": [
    "### 군집의 응집도"
   ]
  },
  {
   "cell_type": "code",
   "execution_count": 287,
   "id": "e2fea567",
   "metadata": {},
   "outputs": [],
   "source": [
    "library(cluster)"
   ]
  },
  {
   "cell_type": "markdown",
   "id": "534b02ac",
   "metadata": {},
   "source": [
    "- \"실루엣 값이 1에 가까우면 다른 군집과의 거리보다 동일 군집 내 객체 간 거리가 가깝다는 뜻이므로, 객체 i가 잘 군집화가 되었다는 의미\"\n",
    "- 만약 대부분의 객체가 높은 실루엣 값을 가진다면 군집의 구성이 적절하게 잘 되었다고 평가. \n",
    "- 반면 많은 객체들이 낮거나 혹은 음(-)의 실루엣 값을 가진다면 군집 구성이 너무 많거나 또는 너무 적은 수의 군집을 가졌기 때문이라고 판단"
   ]
  },
  {
   "cell_type": "markdown",
   "id": "1251e97d",
   "metadata": {},
   "source": [
    "**군집간 평균 실루엣 계수**"
   ]
  },
  {
   "cell_type": "code",
   "execution_count": 309,
   "id": "3f84529f",
   "metadata": {},
   "outputs": [
    {
     "name": "stdout",
     "output_type": "stream",
     "text": [
      "  cluster size ave.sil.width\n",
      "1       1   13          0.09\n",
      "2       2 3244          0.61\n",
      "3       3 1081          0.59\n"
     ]
    },
    {
     "data": {
      "image/png": "[encoded data removed]",
      "text/plain": [
       "plot without title"
      ]
     },
     "metadata": {
      "image/png": {
       "height": 420,
       "width": 420
      }
     },
     "output_type": "display_data"
    }
   ],
   "source": [
    "sil <- cluster::silhouette(k3$cluster, RFM_dist) \n",
    "fviz_silhouette(sil)"
   ]
  },
  {
   "cell_type": "markdown",
   "id": "bbba40b1",
   "metadata": {},
   "source": [
    "**실루엣 계수평균**"
   ]
  },
  {
   "cell_type": "code",
   "execution_count": 310,
   "id": "fac322fe",
   "metadata": {},
   "outputs": [
    {
     "data": {
      "text/html": [
       "0.602096963043825"
      ],
      "text/latex": [
       "0.602096963043825"
      ],
      "text/markdown": [
       "0.602096963043825"
      ],
      "text/plain": [
       "[1] 0.602097"
      ]
     },
     "metadata": {},
     "output_type": "display_data"
    }
   ],
   "source": [
    "mean(sil %>% data.frame() %>% .$sil_width)"
   ]
  },
  {
   "cell_type": "markdown",
   "id": "4d621d2c",
   "metadata": {},
   "source": [
    "**군집의 응집도**"
   ]
  },
  {
   "cell_type": "code",
   "execution_count": 304,
   "id": "b8cf7bce",
   "metadata": {},
   "outputs": [
    {
     "data": {
      "text/html": [
       "5444.7846280697"
      ],
      "text/latex": [
       "5444.7846280697"
      ],
      "text/markdown": [
       "5444.7846280697"
      ],
      "text/plain": [
       "[1] 5444.785"
      ]
     },
     "metadata": {},
     "output_type": "display_data"
    }
   ],
   "source": [
    "k3$tot.withinss"
   ]
  },
  {
   "cell_type": "markdown",
   "id": "4ea2e7dc",
   "metadata": {},
   "source": [
    "**설명된 분산의 비율 = 군집간 분산 / 전체 분산**"
   ]
  },
  {
   "cell_type": "code",
   "execution_count": 305,
   "id": "40a460d9",
   "metadata": {},
   "outputs": [
    {
     "data": {
      "text/html": [
       "0.581524507872593"
      ],
      "text/latex": [
       "0.581524507872593"
      ],
      "text/markdown": [
       "0.581524507872593"
      ],
      "text/plain": [
       "[1] 0.5815245"
      ]
     },
     "metadata": {},
     "output_type": "display_data"
    }
   ],
   "source": [
    "k3$betweenss / k3$totss"
   ]
  },
  {
   "cell_type": "markdown",
   "id": "096be59c",
   "metadata": {},
   "source": [
    "### \n",
    "### 군집별 정보"
   ]
  },
  {
   "cell_type": "markdown",
   "id": "4dc7b389",
   "metadata": {},
   "source": [
    "**군집 라벨링, 군집별 Recent, Frequency, Monetary의 평균값**"
   ]
  },
  {
   "cell_type": "code",
   "execution_count": 316,
   "id": "1a358e05",
   "metadata": {},
   "outputs": [],
   "source": [
    "RFM2 %>% mutate(Cluster = k3$cluster) -> RFM3"
   ]
  },
  {
   "cell_type": "code",
   "execution_count": 357,
   "id": "9c1607c5",
   "metadata": {},
   "outputs": [
    {
     "data": {
      "text/html": [
       "<table class=\"dataframe\">\n",
       "<caption>A tibble: 3 × 5</caption>\n",
       "<thead>\n",
       "\t<tr><th scope=col>Cluster</th><th scope=col>Recent_avg</th><th scope=col>Frequency_avg</th><th scope=col>Monetary_avg</th><th scope=col>RFM_score_avg</th></tr>\n",
       "\t<tr><th scope=col>&lt;fct&gt;</th><th scope=col>&lt;dbl&gt;</th><th scope=col>&lt;dbl&gt;</th><th scope=col>&lt;dbl&gt;</th><th scope=col>&lt;dbl&gt;</th></tr>\n",
       "</thead>\n",
       "<tbody>\n",
       "\t<tr><td>1</td><td>  5.00000</td><td>2535.92308</td><td>125981.3400</td><td>11.692308</td></tr>\n",
       "\t<tr><td>2</td><td> 41.87608</td><td> 101.76757</td><td>  2023.3204</td><td> 8.483354</td></tr>\n",
       "\t<tr><td>3</td><td>247.71600</td><td>  27.37373</td><td>   634.4126</td><td> 4.493062</td></tr>\n",
       "</tbody>\n",
       "</table>\n"
      ],
      "text/latex": [
       "A tibble: 3 × 5\n",
       "\\begin{tabular}{lllll}\n",
       " Cluster & Recent\\_avg & Frequency\\_avg & Monetary\\_avg & RFM\\_score\\_avg\\\\\n",
       " <fct> & <dbl> & <dbl> & <dbl> & <dbl>\\\\\n",
       "\\hline\n",
       "\t 1 &   5.00000 & 2535.92308 & 125981.3400 & 11.692308\\\\\n",
       "\t 2 &  41.87608 &  101.76757 &   2023.3204 &  8.483354\\\\\n",
       "\t 3 & 247.71600 &   27.37373 &    634.4126 &  4.493062\\\\\n",
       "\\end{tabular}\n"
      ],
      "text/markdown": [
       "\n",
       "A tibble: 3 × 5\n",
       "\n",
       "| Cluster &lt;fct&gt; | Recent_avg &lt;dbl&gt; | Frequency_avg &lt;dbl&gt; | Monetary_avg &lt;dbl&gt; | RFM_score_avg &lt;dbl&gt; |\n",
       "|---|---|---|---|---|\n",
       "| 1 |   5.00000 | 2535.92308 | 125981.3400 | 11.692308 |\n",
       "| 2 |  41.87608 |  101.76757 |   2023.3204 |  8.483354 |\n",
       "| 3 | 247.71600 |   27.37373 |    634.4126 |  4.493062 |\n",
       "\n"
      ],
      "text/plain": [
       "  Cluster Recent_avg Frequency_avg Monetary_avg RFM_score_avg\n",
       "1 1         5.00000  2535.92308    125981.3400  11.692308    \n",
       "2 2        41.87608   101.76757      2023.3204   8.483354    \n",
       "3 3       247.71600    27.37373       634.4126   4.493062    "
      ]
     },
     "metadata": {},
     "output_type": "display_data"
    }
   ],
   "source": [
    "RFM3 %>% mutate(Cluster = factor(Cluster)) %>%\n",
    "    group_by(Cluster) %>% \n",
    "    summarise(Recent_avg = mean(Recent), \n",
    "              Frequency_avg = mean(Frequency), \n",
    "              Monetary_avg = mean(Monetary),\n",
    "              RFM_score_avg = mean(RFM_score)) -> cluster_mean\n",
    "cluster_mean"
   ]
  },
  {
   "cell_type": "code",
   "execution_count": 410,
   "id": "fdc8eb96",
   "metadata": {},
   "outputs": [
    {
     "data": {
      "text/html": [
       "<table class=\"dataframe\">\n",
       "<caption>A tibble: 12 × 3</caption>\n",
       "<thead>\n",
       "\t<tr><th scope=col>Cluster</th><th scope=col>value</th><th scope=col>Clusters</th></tr>\n",
       "\t<tr><th scope=col>&lt;chr&gt;</th><th scope=col>&lt;dbl&gt;</th><th scope=col>&lt;fct&gt;</th></tr>\n",
       "</thead>\n",
       "<tbody>\n",
       "\t<tr><td>Recent_avg   </td><td>5.000000e+00</td><td>1</td></tr>\n",
       "\t<tr><td>Recent_avg   </td><td>4.187608e+01</td><td>2</td></tr>\n",
       "\t<tr><td>Recent_avg   </td><td>2.477160e+02</td><td>3</td></tr>\n",
       "\t<tr><td>Frequency_avg</td><td>2.535923e+03</td><td>1</td></tr>\n",
       "\t<tr><td>Frequency_avg</td><td>1.017676e+02</td><td>2</td></tr>\n",
       "\t<tr><td>Frequency_avg</td><td>2.737373e+01</td><td>3</td></tr>\n",
       "\t<tr><td>Monetary_avg </td><td>1.259813e+05</td><td>1</td></tr>\n",
       "\t<tr><td>Monetary_avg </td><td>2.023320e+03</td><td>2</td></tr>\n",
       "\t<tr><td>Monetary_avg </td><td>6.344126e+02</td><td>3</td></tr>\n",
       "\t<tr><td>RFM_score_avg</td><td>1.169231e+01</td><td>1</td></tr>\n",
       "\t<tr><td>RFM_score_avg</td><td>8.483354e+00</td><td>2</td></tr>\n",
       "\t<tr><td>RFM_score_avg</td><td>4.493062e+00</td><td>3</td></tr>\n",
       "</tbody>\n",
       "</table>\n"
      ],
      "text/latex": [
       "A tibble: 12 × 3\n",
       "\\begin{tabular}{lll}\n",
       " Cluster & value & Clusters\\\\\n",
       " <chr> & <dbl> & <fct>\\\\\n",
       "\\hline\n",
       "\t Recent\\_avg    & 5.000000e+00 & 1\\\\\n",
       "\t Recent\\_avg    & 4.187608e+01 & 2\\\\\n",
       "\t Recent\\_avg    & 2.477160e+02 & 3\\\\\n",
       "\t Frequency\\_avg & 2.535923e+03 & 1\\\\\n",
       "\t Frequency\\_avg & 1.017676e+02 & 2\\\\\n",
       "\t Frequency\\_avg & 2.737373e+01 & 3\\\\\n",
       "\t Monetary\\_avg  & 1.259813e+05 & 1\\\\\n",
       "\t Monetary\\_avg  & 2.023320e+03 & 2\\\\\n",
       "\t Monetary\\_avg  & 6.344126e+02 & 3\\\\\n",
       "\t RFM\\_score\\_avg & 1.169231e+01 & 1\\\\\n",
       "\t RFM\\_score\\_avg & 8.483354e+00 & 2\\\\\n",
       "\t RFM\\_score\\_avg & 4.493062e+00 & 3\\\\\n",
       "\\end{tabular}\n"
      ],
      "text/markdown": [
       "\n",
       "A tibble: 12 × 3\n",
       "\n",
       "| Cluster &lt;chr&gt; | value &lt;dbl&gt; | Clusters &lt;fct&gt; |\n",
       "|---|---|---|\n",
       "| Recent_avg    | 5.000000e+00 | 1 |\n",
       "| Recent_avg    | 4.187608e+01 | 2 |\n",
       "| Recent_avg    | 2.477160e+02 | 3 |\n",
       "| Frequency_avg | 2.535923e+03 | 1 |\n",
       "| Frequency_avg | 1.017676e+02 | 2 |\n",
       "| Frequency_avg | 2.737373e+01 | 3 |\n",
       "| Monetary_avg  | 1.259813e+05 | 1 |\n",
       "| Monetary_avg  | 2.023320e+03 | 2 |\n",
       "| Monetary_avg  | 6.344126e+02 | 3 |\n",
       "| RFM_score_avg | 1.169231e+01 | 1 |\n",
       "| RFM_score_avg | 8.483354e+00 | 2 |\n",
       "| RFM_score_avg | 4.493062e+00 | 3 |\n",
       "\n"
      ],
      "text/plain": [
       "   Cluster       value        Clusters\n",
       "1  Recent_avg    5.000000e+00 1       \n",
       "2  Recent_avg    4.187608e+01 2       \n",
       "3  Recent_avg    2.477160e+02 3       \n",
       "4  Frequency_avg 2.535923e+03 1       \n",
       "5  Frequency_avg 1.017676e+02 2       \n",
       "6  Frequency_avg 2.737373e+01 3       \n",
       "7  Monetary_avg  1.259813e+05 1       \n",
       "8  Monetary_avg  2.023320e+03 2       \n",
       "9  Monetary_avg  6.344126e+02 3       \n",
       "10 RFM_score_avg 1.169231e+01 1       \n",
       "11 RFM_score_avg 8.483354e+00 2       \n",
       "12 RFM_score_avg 4.493062e+00 3       "
      ]
     },
     "metadata": {},
     "output_type": "display_data"
    }
   ],
   "source": [
    "cluster_mean %>% gather(key = \"Cluster\", value = \"value\") %>%\n",
    "    mutate(Clusters = rep(cluster_mean$Cluster, 4))"
   ]
  },
  {
   "cell_type": "code",
   "execution_count": 435,
   "id": "9e245da9",
   "metadata": {},
   "outputs": [
    {
     "data": {
      "image/png": "[encoded data removed]",
      "text/plain": [
       "plot without title"
      ]
     },
     "metadata": {
      "image/png": {
       "height": 420,
       "width": 420
      }
     },
     "output_type": "display_data"
    }
   ],
   "source": [
    "cluster_mean %>% gather(key = \"Cluster\", value = \"value\") %>%\n",
    "    mutate(Clusters = rep(cluster_mean$Cluster, 4)) %>%\n",
    "    ggplot(aes(x = Clusters, y = value, fill = Cluster)) + \n",
    "    geom_bar(position = position_dodge(0.5), stat = \"identity\") + \n",
    "    facet_wrap(~ Clusters, scales = \"free\") + \n",
    "    theme(strip.background = element_rect(colour = \"white\", fill = \"white\"),\n",
    "          panel.grid = element_blank()) "
   ]
  }
 ],
 "metadata": {
  "kernelspec": {
   "display_name": "R 4.1.3",
   "language": "R",
   "name": "ir32"
  },
  "language_info": {
   "codemirror_mode": "r",
   "file_extension": ".r",
   "mimetype": "text/x-r-source",
   "name": "R",
   "pygments_lexer": "r",
   "version": "4.1.3"
  }
 },
 "nbformat": 4,
 "nbformat_minor": 5
}
