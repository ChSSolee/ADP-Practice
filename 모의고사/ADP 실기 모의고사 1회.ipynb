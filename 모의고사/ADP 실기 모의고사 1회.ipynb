{
 "cells": [
  {
   "cell_type": "markdown",
   "id": "61ebdc95",
   "metadata": {},
   "source": [
    "## 01. 정형 데이터마이닝"
   ]
  },
  {
   "cell_type": "markdown",
   "id": "1890ba5f",
   "metadata": {},
   "source": [
    "### 1)\n",
    "\n",
    "\n",
    "- 연관규칙분석을 수행하기 위해 lotto 데이터셋을 transaction 데이터로 변환하시오. (단, 본 분석에서 로또번호가 추첨된 순서는 고려하지 않고 분석을 수행하도록 한다.) 그리고 변환된 데이터에서 가장 많이 등장한 상위 10개의 로또번호를 막대그래프로 출력하고 이에 대해 설명하시오"
   ]
  },
  {
   "cell_type": "code",
   "execution_count": 24,
   "id": "bd81d3fe",
   "metadata": {
    "scrolled": false
   },
   "outputs": [],
   "source": [
    "library(tidyverse)"
   ]
  },
  {
   "cell_type": "code",
   "execution_count": 2,
   "id": "5d0eeecd",
   "metadata": {},
   "outputs": [],
   "source": [
    "setwd(\"C:/Soongsil/R/ADP/모의고사 R코드 및 데이터/모의고사 1회\")"
   ]
  },
  {
   "cell_type": "code",
   "execution_count": 3,
   "id": "133c280e",
   "metadata": {},
   "outputs": [],
   "source": [
    "lotto <- read.csv(\"lotto.csv\")"
   ]
  },
  {
   "cell_type": "code",
   "execution_count": 4,
   "id": "1c5d330e",
   "metadata": {
    "scrolled": true
   },
   "outputs": [
    {
     "name": "stdout",
     "output_type": "stream",
     "text": [
      "'data.frame':\t859 obs. of  7 variables:\n",
      " $ time_id: int  859 858 857 856 855 854 853 852 851 850 ...\n",
      " $ num1   : int  8 9 6 10 8 20 2 11 14 16 ...\n",
      " $ num2   : int  22 13 10 24 15 25 8 17 18 20 ...\n",
      " $ num3   : int  35 32 16 40 17 31 23 28 22 24 ...\n",
      " $ num4   : int  38 38 28 41 19 32 26 30 26 28 ...\n",
      " $ num5   : int  39 39 34 43 43 36 27 33 31 36 ...\n",
      " $ num6   : int  41 43 38 44 44 43 44 35 44 39 ...\n"
     ]
    }
   ],
   "source": [
    "str(lotto)"
   ]
  },
  {
   "cell_type": "code",
   "execution_count": 5,
   "id": "79362f0e",
   "metadata": {},
   "outputs": [
    {
     "data": {
      "text/html": [
       "0"
      ],
      "text/latex": [
       "0"
      ],
      "text/markdown": [
       "0"
      ],
      "text/plain": [
       "[1] 0"
      ]
     },
     "metadata": {},
     "output_type": "display_data"
    }
   ],
   "source": [
    "sum(is.na(lotto))"
   ]
  },
  {
   "cell_type": "code",
   "execution_count": 25,
   "id": "a91696e2",
   "metadata": {
    "scrolled": true
   },
   "outputs": [],
   "source": [
    "library(reshape2)"
   ]
  },
  {
   "cell_type": "code",
   "execution_count": 7,
   "id": "9f6a5bf5",
   "metadata": {},
   "outputs": [
    {
     "name": "stdout",
     "output_type": "stream",
     "text": [
      "'data.frame':\t5154 obs. of  2 variables:\n",
      " $ time_id: int  859 858 857 856 855 854 853 852 851 850 ...\n",
      " $ value  : int  8 9 6 10 8 20 2 11 14 16 ...\n"
     ]
    }
   ],
   "source": [
    "lot_melt <- melt(lotto, id.vars = 1)\n",
    "lot_melt2 <- lot_melt[, -2]\n",
    "str(lot_melt2)"
   ]
  },
  {
   "cell_type": "code",
   "execution_count": 26,
   "id": "b8affae0",
   "metadata": {
    "scrolled": true
   },
   "outputs": [],
   "source": [
    "library(arules)"
   ]
  },
  {
   "cell_type": "code",
   "execution_count": 9,
   "id": "06f22b65",
   "metadata": {},
   "outputs": [],
   "source": [
    "lot_sp <- split(lot_melt2$value, lot_melt2$time_id)\n",
    "lot_ts <- as(lot_sp, \"transactions\")"
   ]
  },
  {
   "cell_type": "code",
   "execution_count": 10,
   "id": "82b436ec",
   "metadata": {},
   "outputs": [
    {
     "data": {
      "text/plain": [
       "transactions in sparse format with\n",
       " 859 transactions (rows) and\n",
       " 45 items (columns)"
      ]
     },
     "metadata": {},
     "output_type": "display_data"
    }
   ],
   "source": [
    "lot_ts"
   ]
  },
  {
   "cell_type": "code",
   "execution_count": 11,
   "id": "0977fbbd",
   "metadata": {
    "scrolled": true
   },
   "outputs": [
    {
     "name": "stdout",
     "output_type": "stream",
     "text": [
      "    items                    transactionID\n",
      "[1] {10, 23, 29, 33, 37, 40} 1            \n",
      "[2] {9, 13, 21, 25, 32, 42}  2            \n",
      "[3] {11, 16, 19, 21, 27, 31} 3            \n",
      "[4] {14, 27, 30, 31, 40, 42} 4            \n",
      "[5] {16, 24, 29, 40, 41, 42} 5            \n",
      "[6] {14, 15, 26, 27, 40, 42} 6            \n"
     ]
    }
   ],
   "source": [
    "inspect(lot_ts %>% head) "
   ]
  },
  {
   "cell_type": "code",
   "execution_count": 12,
   "id": "41d723d6",
   "metadata": {},
   "outputs": [
    {
     "data": {
      "image/png": "[encoded data removed]",
      "text/plain": [
       "plot without title"
      ]
     },
     "metadata": {
      "image/png": {
       "height": 420,
       "width": 420
      }
     },
     "output_type": "display_data"
    }
   ],
   "source": [
    "itemFrequencyPlot(lot_ts, topN = 10, type = \"absolute\") # 도수를 기준으로 막대그래프 생성"
   ]
  },
  {
   "cell_type": "code",
   "execution_count": 13,
   "id": "731d0c38",
   "metadata": {},
   "outputs": [
    {
     "data": {
      "image/png": "[encoded data removed]",
      "text/plain": [
       "plot without title"
      ]
     },
     "metadata": {
      "image/png": {
       "height": 420,
       "width": 420
      }
     },
     "output_type": "display_data"
    }
   ],
   "source": [
    "itemFrequencyPlot(lot_ts, topN = 10) # 상대도수를 기준으로 막대그래프 생성"
   ]
  },
  {
   "cell_type": "markdown",
   "id": "6f8d063c",
   "metadata": {},
   "source": [
    "- **대부분의 번호가 비슷한 빈도로 추첨, 하지만 그 중에서도 34번이 가장 많이 추첨됨**"
   ]
  },
  {
   "cell_type": "markdown",
   "id": "af5ced27",
   "metadata": {},
   "source": [
    "### 2)\n",
    "\n",
    "- 변환한 데이터에 대해 apriori함수를 사용하여 다음 괄호 안의 조건을 반영하여 연관규칙을 생성하고, 이를 ‘rules_1’이라는 변수에 저장하여 결과를 해석하시오. (최소 지지도 : 0.002, 최소 신뢰도 : 0.8, 최소조합 항목 수 : 2개, 최대조합 항목 수 : 6개) 그리고 도출된 연관규칙들을 향상도를 기준으로 내림차순 정렬하여 상위 30개의 규칙을 확인하고, 이를 데이터프레임으로 변환하여 csv파일로 출력하시오.  "
   ]
  },
  {
   "cell_type": "code",
   "execution_count": 14,
   "id": "0fe46ba2",
   "metadata": {},
   "outputs": [
    {
     "name": "stdout",
     "output_type": "stream",
     "text": [
      "Apriori\n",
      "\n",
      "Parameter specification:\n",
      " confidence minval smax arem  aval originalSupport maxtime support minlen\n",
      "        0.8    0.1    1 none FALSE            TRUE       5   0.002      2\n",
      " maxlen target  ext\n",
      "      6  rules TRUE\n",
      "\n",
      "Algorithmic control:\n",
      " filter tree heap memopt load sort verbose\n",
      "    0.1 TRUE TRUE  FALSE TRUE    2    TRUE\n",
      "\n",
      "Absolute minimum support count: 1 \n",
      "\n",
      "set item appearances ...[0 item(s)] done [0.00s].\n",
      "set transactions ...[45 item(s), 859 transaction(s)] done [0.00s].\n",
      "sorting and recoding items ... [45 item(s)] done [0.00s].\n",
      "creating transaction tree ... done [0.00s].\n",
      "checking subsets of size 1 2 3 4 5 done [0.01s].\n",
      "writing ... [679 rule(s)] done [0.00s].\n",
      "creating S4 object  ... done [0.00s].\n"
     ]
    },
    {
     "data": {
      "text/plain": [
       "set of 679 rules "
      ]
     },
     "metadata": {},
     "output_type": "display_data"
    }
   ],
   "source": [
    "rules_1 <- apriori(lot_ts, \n",
    "                   parameter = list(supp = 0.002, conf = 0.8, minlen = 2, maxlen = 6))\n",
    "rules_1"
   ]
  },
  {
   "cell_type": "code",
   "execution_count": 15,
   "id": "16adb104",
   "metadata": {},
   "outputs": [
    {
     "data": {
      "text/plain": [
       "set of 30 rules "
      ]
     },
     "metadata": {},
     "output_type": "display_data"
    }
   ],
   "source": [
    "rules_2 <- sort(rules_1, by = \"lift\", decreasing = T) %>% head(30)\n",
    "rules_2"
   ]
  },
  {
   "cell_type": "code",
   "execution_count": 16,
   "id": "1120fd0d",
   "metadata": {},
   "outputs": [
    {
     "name": "stdout",
     "output_type": "stream",
     "text": [
      "     lhs                 rhs  support     confidence coverage    lift     count\n",
      "[1]  {32, 38, 43}     => {9}  0.002328289 1          0.002328289 9.651685 2    \n",
      "[2]  {7, 23, 28}      => {9}  0.002328289 1          0.002328289 9.651685 2    \n",
      "[3]  {18, 23, 35}     => {9}  0.002328289 1          0.002328289 9.651685 2    \n",
      "[4]  {14, 17, 33}     => {9}  0.002328289 1          0.002328289 9.651685 2    \n",
      "[5]  {7, 23, 29}      => {22} 0.002328289 1          0.002328289 9.336957 2    \n",
      "[6]  {10, 27, 42}     => {22} 0.002328289 1          0.002328289 9.336957 2    \n",
      "[7]  {25, 31, 45}     => {22} 0.002328289 1          0.002328289 9.336957 2    \n",
      "[8]  {21, 26, 37}     => {22} 0.002328289 1          0.002328289 9.336957 2    \n",
      "[9]  {24, 36, 38}     => {22} 0.002328289 1          0.002328289 9.336957 2    \n",
      "[10] {7, 24, 31}      => {22} 0.002328289 1          0.002328289 9.336957 2    \n",
      "[11] {7, 31, 34}      => {22} 0.002328289 1          0.002328289 9.336957 2    \n",
      "[12] {33, 36, 37}     => {22} 0.002328289 1          0.002328289 9.336957 2    \n",
      "[13] {10, 34, 36}     => {22} 0.002328289 1          0.002328289 9.336957 2    \n",
      "[14] {10, 34, 36, 44} => {22} 0.002328289 1          0.002328289 9.336957 2    \n",
      "[15] {7, 24, 31, 34}  => {22} 0.002328289 1          0.002328289 9.336957 2    \n",
      "[16] {9, 38, 43}      => {32} 0.002328289 1          0.002328289 8.855670 2    \n",
      "[17] {14, 29, 33}     => {32} 0.002328289 1          0.002328289 8.855670 2    \n",
      "[18] {14, 36, 42}     => {32} 0.002328289 1          0.002328289 8.855670 2    \n",
      "[19] {3, 24, 45}      => {32} 0.002328289 1          0.002328289 8.855670 2    \n",
      "[20] {3, 13, 31}      => {32} 0.002328289 1          0.002328289 8.855670 2    \n",
      "[21] {3, 12, 18}      => {32} 0.002328289 1          0.002328289 8.855670 2    \n",
      "[22] {3, 18, 40}      => {32} 0.002328289 1          0.002328289 8.855670 2    \n",
      "[23] {10, 18, 31}     => {32} 0.002328289 1          0.002328289 8.855670 2    \n",
      "[24] {17, 18, 31}     => {32} 0.002328289 1          0.002328289 8.855670 2    \n",
      "[25] {17, 33, 34}     => {32} 0.003492433 1          0.003492433 8.855670 3    \n",
      "[26] {7, 9, 28}       => {23} 0.002328289 1          0.002328289 8.676768 2    \n",
      "[27] {9, 18, 35}      => {23} 0.002328289 1          0.002328289 8.676768 2    \n",
      "[28] {28, 30, 44}     => {23} 0.002328289 1          0.002328289 8.676768 2    \n",
      "[29] {25, 38, 42}     => {23} 0.002328289 1          0.002328289 8.676768 2    \n",
      "[30] {18, 21, 39}     => {23} 0.002328289 1          0.002328289 8.676768 2    \n"
     ]
    }
   ],
   "source": [
    "rules_3 <- inspect(rules_2) %>% as(\"data.frame\")"
   ]
  },
  {
   "cell_type": "code",
   "execution_count": 17,
   "id": "7e904a48",
   "metadata": {},
   "outputs": [],
   "source": [
    "write.csv(rules_3, \"lotto_rules.csv\")"
   ]
  },
  {
   "cell_type": "markdown",
   "id": "5d74068f",
   "metadata": {},
   "source": [
    "### 3)\n",
    "\n",
    "- 생성된 연관규칙 'rules_1'에 대한 정보를 해석하고, 1)번 문제를 통해 확인했을 때 가장 많이 추첨된 번호가 우측항에 존재하는 규칙들만을 ‘rules_most_freq’라는 변수에 저장하시오. 그리고 해당 규칙들을 해석하여 인사이트를 도출한 후 서술하시오."
   ]
  },
  {
   "cell_type": "code",
   "execution_count": 18,
   "id": "e203c334",
   "metadata": {},
   "outputs": [
    {
     "data": {
      "text/plain": [
       "set of 679 rules\n",
       "\n",
       "rule length distribution (lhs + rhs):sizes\n",
       "  4   5 \n",
       "632  47 \n",
       "\n",
       "   Min. 1st Qu.  Median    Mean 3rd Qu.    Max. \n",
       "  4.000   4.000   4.000   4.069   4.000   5.000 \n",
       "\n",
       "summary of quality measures:\n",
       "    support           confidence    coverage             lift      \n",
       " Min.   :0.002328   Min.   :1    Min.   :0.002328   Min.   :6.410  \n",
       " 1st Qu.:0.002328   1st Qu.:1    1st Qu.:0.002328   1st Qu.:7.041  \n",
       " Median :0.002328   Median :1    Median :0.002328   Median :7.280  \n",
       " Mean   :0.002364   Mean   :1    Mean   :0.002364   Mean   :7.434  \n",
       " 3rd Qu.:0.002328   3rd Qu.:1    3rd Qu.:0.002328   3rd Qu.:7.670  \n",
       " Max.   :0.003492   Max.   :1    Max.   :0.003492   Max.   :9.652  \n",
       "     count      \n",
       " Min.   :2.000  \n",
       " 1st Qu.:2.000  \n",
       " Median :2.000  \n",
       " Mean   :2.031  \n",
       " 3rd Qu.:2.000  \n",
       " Max.   :3.000  \n",
       "\n",
       "mining info:\n",
       "   data ntransactions support confidence\n",
       " lot_ts           859   0.002        0.8\n",
       "                                                                                       call\n",
       " apriori(data = lot_ts, parameter = list(supp = 0.002, conf = 0.8, minlen = 2, maxlen = 6))"
      ]
     },
     "metadata": {},
     "output_type": "display_data"
    }
   ],
   "source": [
    "summary(rules_1)"
   ]
  },
  {
   "cell_type": "markdown",
   "id": "ead3f12d",
   "metadata": {},
   "source": [
    "- **총 679개의 연관규칙이 도출, 그 중 632개의 규칙은 4개의 로또번호로 구성, 47개는 5개의 로또번호로 구성**\n",
    "- **규칙들에 대한 최소 향상도는 6.41, 추첨번호들의 교집합 확률을 의미하는 지지도의 평균은 0.002364**\n",
    "- **트랜잭션 데이터의 개수는 859개, 트랜잭션 데이터는 859회 동안의 로또 당첨번호들을 의미**"
   ]
  },
  {
   "cell_type": "code",
   "execution_count": 19,
   "id": "c1fbdc81",
   "metadata": {},
   "outputs": [],
   "source": [
    "rules_most_freq <- subset(rules_1, rhs %in% \"34\")"
   ]
  },
  {
   "cell_type": "code",
   "execution_count": 20,
   "id": "cdb72f64",
   "metadata": {},
   "outputs": [
    {
     "name": "stdout",
     "output_type": "stream",
     "text": [
      "     lhs                 rhs  support     confidence coverage    lift     count\n",
      "[1]  {7, 22, 31}      => {34} 0.002328289 1          0.002328289 6.410448 2    \n",
      "[2]  {22, 24, 31}     => {34} 0.002328289 1          0.002328289 6.410448 2    \n",
      "[3]  {17, 32, 33}     => {34} 0.003492433 1          0.003492433 6.410448 3    \n",
      "[4]  {23, 42, 45}     => {34} 0.002328289 1          0.002328289 6.410448 2    \n",
      "[5]  {15, 19, 41}     => {34} 0.002328289 1          0.002328289 6.410448 2    \n",
      "[6]  {2, 15, 28}      => {34} 0.002328289 1          0.002328289 6.410448 2    \n",
      "[7]  {5, 13, 29}      => {34} 0.002328289 1          0.002328289 6.410448 2    \n",
      "[8]  {5, 17, 29}      => {34} 0.002328289 1          0.002328289 6.410448 2    \n",
      "[9]  {17, 42, 45}     => {34} 0.002328289 1          0.002328289 6.410448 2    \n",
      "[10] {14, 25, 44}     => {34} 0.002328289 1          0.002328289 6.410448 2    \n",
      "[11] {2, 15, 21}      => {34} 0.002328289 1          0.002328289 6.410448 2    \n",
      "[12] {19, 21, 44}     => {34} 0.002328289 1          0.002328289 6.410448 2    \n",
      "[13] {2, 4, 31}       => {34} 0.003492433 1          0.003492433 6.410448 3    \n",
      "[14] {7, 24, 31}      => {34} 0.002328289 1          0.002328289 6.410448 2    \n",
      "[15] {12, 36, 37}     => {34} 0.002328289 1          0.002328289 6.410448 2    \n",
      "[16] {1, 5, 13}       => {34} 0.002328289 1          0.002328289 6.410448 2    \n",
      "[17] {10, 22, 36, 44} => {34} 0.002328289 1          0.002328289 6.410448 2    \n",
      "[18] {7, 22, 24, 31}  => {34} 0.002328289 1          0.002328289 6.410448 2    \n",
      "[19] {15, 19, 21, 44} => {34} 0.002328289 1          0.002328289 6.410448 2    \n"
     ]
    }
   ],
   "source": [
    "inspect(rules_most_freq)"
   ]
  },
  {
   "cell_type": "markdown",
   "id": "98abd95a",
   "metadata": {},
   "source": [
    "- **총 19개의 규칙**\n",
    "- {7, 22, 31}번과 {34}가 함께 추첨될 확률은 support를 확인한 결과 0.002328289, 이 규칙의 lift는 6.410448로, {34}만 추첨됏을 때 보다 {7, 22, 31}번이 뽑히고 {34}도 뽑힐 확률이 약 6배 높다는 것을 의미\n",
    "- 하지만 이러한 규칙들은 로또번호가 추첨되는 순서를 고려하지 않고 단순히 조합에 대한 확률만을 고려한 규칙이므로, 향상도가 높은 숫자들의 조합이 로또 추첨번호가 될 가능성이 높응 것은 아니다."
   ]
  },
  {
   "cell_type": "markdown",
   "id": "4c3cc05d",
   "metadata": {},
   "source": [
    " ## 02. 통계분석"
   ]
  },
  {
   "cell_type": "markdown",
   "id": "ce0b8aff",
   "metadata": {},
   "source": [
    "### 1)\n",
    "- FIFA 데이터에서 각 선수의 키는 Height변수에 피트와 인치로 입력되있음, 이를 cm로 변환하여 새로운 변수 Height_cm을 생성\n",
    "- (1피트 = 30cm, 1인치 = 2.5cm)"
   ]
  },
  {
   "cell_type": "code",
   "execution_count": 21,
   "id": "388185ac",
   "metadata": {},
   "outputs": [
    {
     "data": {
      "text/html": [
       "0"
      ],
      "text/latex": [
       "0"
      ],
      "text/markdown": [
       "0"
      ],
      "text/plain": [
       "[1] 0"
      ]
     },
     "metadata": {},
     "output_type": "display_data"
    }
   ],
   "source": [
    "fifa <- read.csv(\"FIFA.csv\")\n",
    "sum(is.na(fifa))"
   ]
  },
  {
   "cell_type": "code",
   "execution_count": 22,
   "id": "7d79b175",
   "metadata": {
    "scrolled": true
   },
   "outputs": [
    {
     "data": {
      "text/html": [
       "<table class=\"dataframe\">\n",
       "<caption>A data.frame: 6 × 16</caption>\n",
       "<thead>\n",
       "\t<tr><th></th><th scope=col>ID</th><th scope=col>Name</th><th scope=col>Age</th><th scope=col>Nationality</th><th scope=col>Overall</th><th scope=col>Club</th><th scope=col>Preferred_Foot</th><th scope=col>Work_Rate</th><th scope=col>Position</th><th scope=col>Jersey_Number</th><th scope=col>Contract_Valid_Until</th><th scope=col>Height</th><th scope=col>Weight_lb</th><th scope=col>Release_Clause</th><th scope=col>Value</th><th scope=col>Wage</th></tr>\n",
       "\t<tr><th></th><th scope=col>&lt;int&gt;</th><th scope=col>&lt;chr&gt;</th><th scope=col>&lt;int&gt;</th><th scope=col>&lt;chr&gt;</th><th scope=col>&lt;int&gt;</th><th scope=col>&lt;chr&gt;</th><th scope=col>&lt;chr&gt;</th><th scope=col>&lt;chr&gt;</th><th scope=col>&lt;chr&gt;</th><th scope=col>&lt;int&gt;</th><th scope=col>&lt;int&gt;</th><th scope=col>&lt;chr&gt;</th><th scope=col>&lt;int&gt;</th><th scope=col>&lt;int&gt;</th><th scope=col>&lt;int&gt;</th><th scope=col>&lt;int&gt;</th></tr>\n",
       "</thead>\n",
       "<tbody>\n",
       "\t<tr><th scope=row>1</th><td>158023</td><td>L. Messi         </td><td>31</td><td>Argentina</td><td>94</td><td>FC Barcelona       </td><td>Left </td><td>Medium/ Medium</td><td>RF </td><td>10</td><td>2021</td><td>5'7 </td><td>159</td><td>226500</td><td>110500</td><td>565</td></tr>\n",
       "\t<tr><th scope=row>2</th><td> 20801</td><td>Cristiano Ronaldo</td><td>33</td><td>Portugal </td><td>94</td><td>Juventus           </td><td>Right</td><td>High/ Low     </td><td>ST </td><td> 7</td><td>2022</td><td>6'2 </td><td>183</td><td>127100</td><td> 77000</td><td>405</td></tr>\n",
       "\t<tr><th scope=row>3</th><td>190871</td><td>Neymar Jr        </td><td>26</td><td>Brazil   </td><td>92</td><td>Paris Saint-Germain</td><td>Right</td><td>High/ Medium  </td><td>LW </td><td>10</td><td>2022</td><td>5'9 </td><td>150</td><td>228100</td><td>118500</td><td>290</td></tr>\n",
       "\t<tr><th scope=row>4</th><td>193080</td><td>De Gea           </td><td>27</td><td>Spain    </td><td>91</td><td>Manchester United  </td><td>Right</td><td>Medium/ Medium</td><td>GK </td><td> 1</td><td>2020</td><td>6'4 </td><td>168</td><td>138600</td><td> 72000</td><td>260</td></tr>\n",
       "\t<tr><th scope=row>5</th><td>192985</td><td>K. De Bruyne     </td><td>27</td><td>Belgium  </td><td>91</td><td>Manchester City    </td><td>Right</td><td>High/ High    </td><td>RCM</td><td> 7</td><td>2023</td><td>5'11</td><td>154</td><td>196400</td><td>102000</td><td>355</td></tr>\n",
       "\t<tr><th scope=row>6</th><td>183277</td><td>E. Hazard        </td><td>27</td><td>Belgium  </td><td>91</td><td>Chelsea            </td><td>Right</td><td>High/ Medium  </td><td>LF </td><td>10</td><td>2020</td><td>5'8 </td><td>163</td><td>172100</td><td> 93000</td><td>340</td></tr>\n",
       "</tbody>\n",
       "</table>\n"
      ],
      "text/latex": [
       "A data.frame: 6 × 16\n",
       "\\begin{tabular}{r|llllllllllllllll}\n",
       "  & ID & Name & Age & Nationality & Overall & Club & Preferred\\_Foot & Work\\_Rate & Position & Jersey\\_Number & Contract\\_Valid\\_Until & Height & Weight\\_lb & Release\\_Clause & Value & Wage\\\\\n",
       "  & <int> & <chr> & <int> & <chr> & <int> & <chr> & <chr> & <chr> & <chr> & <int> & <int> & <chr> & <int> & <int> & <int> & <int>\\\\\n",
       "\\hline\n",
       "\t1 & 158023 & L. Messi          & 31 & Argentina & 94 & FC Barcelona        & Left  & Medium/ Medium & RF  & 10 & 2021 & 5'7  & 159 & 226500 & 110500 & 565\\\\\n",
       "\t2 &  20801 & Cristiano Ronaldo & 33 & Portugal  & 94 & Juventus            & Right & High/ Low      & ST  &  7 & 2022 & 6'2  & 183 & 127100 &  77000 & 405\\\\\n",
       "\t3 & 190871 & Neymar Jr         & 26 & Brazil    & 92 & Paris Saint-Germain & Right & High/ Medium   & LW  & 10 & 2022 & 5'9  & 150 & 228100 & 118500 & 290\\\\\n",
       "\t4 & 193080 & De Gea            & 27 & Spain     & 91 & Manchester United   & Right & Medium/ Medium & GK  &  1 & 2020 & 6'4  & 168 & 138600 &  72000 & 260\\\\\n",
       "\t5 & 192985 & K. De Bruyne      & 27 & Belgium   & 91 & Manchester City     & Right & High/ High     & RCM &  7 & 2023 & 5'11 & 154 & 196400 & 102000 & 355\\\\\n",
       "\t6 & 183277 & E. Hazard         & 27 & Belgium   & 91 & Chelsea             & Right & High/ Medium   & LF  & 10 & 2020 & 5'8  & 163 & 172100 &  93000 & 340\\\\\n",
       "\\end{tabular}\n"
      ],
      "text/markdown": [
       "\n",
       "A data.frame: 6 × 16\n",
       "\n",
       "| <!--/--> | ID &lt;int&gt; | Name &lt;chr&gt; | Age &lt;int&gt; | Nationality &lt;chr&gt; | Overall &lt;int&gt; | Club &lt;chr&gt; | Preferred_Foot &lt;chr&gt; | Work_Rate &lt;chr&gt; | Position &lt;chr&gt; | Jersey_Number &lt;int&gt; | Contract_Valid_Until &lt;int&gt; | Height &lt;chr&gt; | Weight_lb &lt;int&gt; | Release_Clause &lt;int&gt; | Value &lt;int&gt; | Wage &lt;int&gt; |\n",
       "|---|---|---|---|---|---|---|---|---|---|---|---|---|---|---|---|---|\n",
       "| 1 | 158023 | L. Messi          | 31 | Argentina | 94 | FC Barcelona        | Left  | Medium/ Medium | RF  | 10 | 2021 | 5'7  | 159 | 226500 | 110500 | 565 |\n",
       "| 2 |  20801 | Cristiano Ronaldo | 33 | Portugal  | 94 | Juventus            | Right | High/ Low      | ST  |  7 | 2022 | 6'2  | 183 | 127100 |  77000 | 405 |\n",
       "| 3 | 190871 | Neymar Jr         | 26 | Brazil    | 92 | Paris Saint-Germain | Right | High/ Medium   | LW  | 10 | 2022 | 5'9  | 150 | 228100 | 118500 | 290 |\n",
       "| 4 | 193080 | De Gea            | 27 | Spain     | 91 | Manchester United   | Right | Medium/ Medium | GK  |  1 | 2020 | 6'4  | 168 | 138600 |  72000 | 260 |\n",
       "| 5 | 192985 | K. De Bruyne      | 27 | Belgium   | 91 | Manchester City     | Right | High/ High     | RCM |  7 | 2023 | 5'11 | 154 | 196400 | 102000 | 355 |\n",
       "| 6 | 183277 | E. Hazard         | 27 | Belgium   | 91 | Chelsea             | Right | High/ Medium   | LF  | 10 | 2020 | 5'8  | 163 | 172100 |  93000 | 340 |\n",
       "\n"
      ],
      "text/plain": [
       "  ID     Name              Age Nationality Overall Club               \n",
       "1 158023 L. Messi          31  Argentina   94      FC Barcelona       \n",
       "2  20801 Cristiano Ronaldo 33  Portugal    94      Juventus           \n",
       "3 190871 Neymar Jr         26  Brazil      92      Paris Saint-Germain\n",
       "4 193080 De Gea            27  Spain       91      Manchester United  \n",
       "5 192985 K. De Bruyne      27  Belgium     91      Manchester City    \n",
       "6 183277 E. Hazard         27  Belgium     91      Chelsea            \n",
       "  Preferred_Foot Work_Rate      Position Jersey_Number Contract_Valid_Until\n",
       "1 Left           Medium/ Medium RF       10            2021                \n",
       "2 Right          High/ Low      ST        7            2022                \n",
       "3 Right          High/ Medium   LW       10            2022                \n",
       "4 Right          Medium/ Medium GK        1            2020                \n",
       "5 Right          High/ High     RCM       7            2023                \n",
       "6 Right          High/ Medium   LF       10            2020                \n",
       "  Height Weight_lb Release_Clause Value  Wage\n",
       "1 5'7    159       226500         110500 565 \n",
       "2 6'2    183       127100          77000 405 \n",
       "3 5'9    150       228100         118500 290 \n",
       "4 6'4    168       138600          72000 260 \n",
       "5 5'11   154       196400         102000 355 \n",
       "6 5'8    163       172100          93000 340 "
      ]
     },
     "metadata": {},
     "output_type": "display_data"
    },
    {
     "name": "stdout",
     "output_type": "stream",
     "text": [
      "'data.frame':\t16642 obs. of  16 variables:\n",
      " $ ID                  : int  158023 20801 190871 193080 192985 183277 177003 176580 155862 200389 ...\n",
      " $ Name                : chr  \"L. Messi\" \"Cristiano Ronaldo\" \"Neymar Jr\" \"De Gea\" ...\n",
      " $ Age                 : int  31 33 26 27 27 27 32 31 32 25 ...\n",
      " $ Nationality         : chr  \"Argentina\" \"Portugal\" \"Brazil\" \"Spain\" ...\n",
      " $ Overall             : int  94 94 92 91 91 91 91 91 91 90 ...\n",
      " $ Club                : chr  \"FC Barcelona\" \"Juventus\" \"Paris Saint-Germain\" \"Manchester United\" ...\n",
      " $ Preferred_Foot      : chr  \"Left\" \"Right\" \"Right\" \"Right\" ...\n",
      " $ Work_Rate           : chr  \"Medium/ Medium\" \"High/ Low\" \"High/ Medium\" \"Medium/ Medium\" ...\n",
      " $ Position            : chr  \"RF\" \"ST\" \"LW\" \"GK\" ...\n",
      " $ Jersey_Number       : int  10 7 10 1 7 10 10 9 15 1 ...\n",
      " $ Contract_Valid_Until: int  2021 2022 2022 2020 2023 2020 2020 2021 2020 2021 ...\n",
      " $ Height              : chr  \"5'7\" \"6'2\" \"5'9\" \"6'4\" ...\n",
      " $ Weight_lb           : int  159 183 150 168 154 163 146 190 181 192 ...\n",
      " $ Release_Clause      : int  226500 127100 228100 138600 196400 172100 137400 164000 104600 144500 ...\n",
      " $ Value               : int  110500 77000 118500 72000 102000 93000 67000 80000 51000 68000 ...\n",
      " $ Wage                : int  565 405 290 260 355 340 420 455 380 94 ...\n"
     ]
    }
   ],
   "source": [
    "head(fifa)\n",
    "str(fifa)"
   ]
  },
  {
   "cell_type": "code",
   "execution_count": 23,
   "id": "5de1bc6f",
   "metadata": {},
   "outputs": [
    {
     "name": "stdout",
     "output_type": "stream",
     "text": [
      " chr [1:16642] \"5'7\" \"6'2\" \"5'9\" \"6'4\" \"5'11\" \"5'8\" \"5'8\" \"6'0\" \"6'0\" \"6'2\" ...\n"
     ]
    }
   ],
   "source": [
    "str(fifa$Height)"
   ]
  },
  {
   "cell_type": "code",
   "execution_count": 39,
   "id": "25e18bf7",
   "metadata": {},
   "outputs": [],
   "source": [
    "fifa$Height_cm <- as.numeric(fifa$Height %>% str_sub(1, 1)) * 30 + \n",
    "    as.numeric(fifa$Height %>% str_sub(3, 3)) * 2.5 "
   ]
  },
  {
   "cell_type": "markdown",
   "id": "d39dc7ad",
   "metadata": {},
   "source": [
    "### 2)\n",
    "- 포지션을 의미하는 Position변수를 아래 표를 참고하여 “Forward”, “Midfielder”, “Defender”, “GoalKeeper”로 재범주화하고, factor형으로 변환하여 Position_Class 라는 변수를 생성하고 저장하시오."
   ]
  },
  {
   "cell_type": "code",
   "execution_count": 59,
   "id": "99549270",
   "metadata": {},
   "outputs": [],
   "source": [
    "Forward <- c(\"LS\", \"ST\", \"RS\", \"LW\", \"LF\", \"CF\", \"RF\", \"RW\")\n",
    "Midfielder <- c(\"LAM\", \"CAM\", \"RAM\", \"LM\", \"LCM\", \"CM\", \"RCM\", \"RM\")\n",
    "Defender <- c(\"LWB\", \"LDM\", \"CDM\", \"RDM\", \"RWB\", \"LB\", \"LCB\", \"CB\", \"RCB\", \"RB\")\n",
    "GoalKeeper <- c(\"GK\")"
   ]
  },
  {
   "cell_type": "code",
   "execution_count": 60,
   "id": "a2751fa7",
   "metadata": {},
   "outputs": [
    {
     "name": "stdout",
     "output_type": "stream",
     "text": [
      " chr [1:16642] \"RF\" \"ST\" \"LW\" \"GK\" \"RCM\" \"LF\" \"RCM\" \"RS\" \"RCB\" \"GK\" \"ST\" ...\n"
     ]
    }
   ],
   "source": [
    "fifa$Position <- as.character(fifa$Position)\n",
    "str(fifa$Position)"
   ]
  },
  {
   "cell_type": "code",
   "execution_count": 61,
   "id": "aa4216fe",
   "metadata": {},
   "outputs": [],
   "source": [
    "fifa <- fifa %>% \n",
    "    mutate(Position_Class = ifelse(fifa$Position %in% Forward, \"Forward\",\n",
    "                                        ifelse(fifa$Position %in% Midfielder, \"Midfielder\",\n",
    "                                               ifelse(fifa$Position %in% Defender, \"Defender\", \"GoalKeeper\"))) %>%\n",
    "              as.factor())"
   ]
  },
  {
   "cell_type": "code",
   "execution_count": 62,
   "id": "3c9f0c9c",
   "metadata": {},
   "outputs": [
    {
     "name": "stdout",
     "output_type": "stream",
     "text": [
      " Factor w/ 4 levels \"Defender\",\"Forward\",..: 2 2 2 3 4 2 4 2 1 3 ...\n"
     ]
    }
   ],
   "source": [
    "str(fifa$Position_Class)"
   ]
  },
  {
   "cell_type": "markdown",
   "id": "9b185f0e",
   "metadata": {},
   "source": [
    "### 3)\n",
    "- 새로 생성한 Position_Class 변수의 각 범주에 따른 Value(선수의 시장가치)의 평균값의 차이를 비교하는 일원배치 분산분석을 수행하고 결과를 해석하시오. 그리고 평균값의 차이가 통계적으로 유의하다면 사후검정을 수행하고 설명하시오."
   ]
  },
  {
   "cell_type": "code",
   "execution_count": 64,
   "id": "888d6754",
   "metadata": {},
   "outputs": [],
   "source": [
    "fifa_result <- aov(Value ~ Position_Class, data = fifa)"
   ]
  },
  {
   "cell_type": "code",
   "execution_count": 67,
   "id": "f7d0756b",
   "metadata": {},
   "outputs": [
    {
     "data": {
      "text/plain": [
       "Call:\n",
       "   aov(formula = Value ~ Position_Class, data = fifa)\n",
       "\n",
       "Terms:\n",
       "                Position_Class    Residuals\n",
       "Sum of Squares      4081180735 540533010212\n",
       "Deg. of Freedom              3        16638\n",
       "\n",
       "Residual standard error: 5699.812\n",
       "Estimated effects may be unbalanced"
      ]
     },
     "metadata": {},
     "output_type": "display_data"
    }
   ],
   "source": [
    "fifa_result "
   ]
  },
  {
   "cell_type": "code",
   "execution_count": 68,
   "id": "d3a9727e",
   "metadata": {},
   "outputs": [
    {
     "data": {
      "text/plain": [
       "                  Df    Sum Sq   Mean Sq F value Pr(>F)    \n",
       "Position_Class     3 4.081e+09 1.360e+09   41.87 <2e-16 ***\n",
       "Residuals      16638 5.405e+11 3.249e+07                   \n",
       "---\n",
       "Signif. codes:  0 '***' 0.001 '**' 0.01 '*' 0.05 '.' 0.1 ' ' 1"
      ]
     },
     "metadata": {},
     "output_type": "display_data"
    }
   ],
   "source": [
    "fifa_result %>% summary"
   ]
  },
  {
   "cell_type": "markdown",
   "id": "181da35c",
   "metadata": {},
   "source": [
    "- 귀무가설 : 4가지 포지션에 대해 Value의 평균은 모두 같다\n",
    "- 대립가설 : 4가지 포지션에 대해 Value의 평균은 차이가 있다.\n",
    "- P-value < 0.05 => 귀무가설 기각, 4가지 포지션에 대해 Value의 평균에 통계적으로 유의한 차이가 있다."
   ]
  },
  {
   "cell_type": "code",
   "execution_count": 71,
   "id": "92556920",
   "metadata": {
    "scrolled": true
   },
   "outputs": [
    {
     "data": {
      "text/plain": [
       "  Tukey multiple comparisons of means\n",
       "    95% family-wise confidence level\n",
       "\n",
       "Fit: aov(formula = Value ~ Position_Class, data = fifa)\n",
       "\n",
       "$Position_Class\n",
       "                            diff        lwr        upr     p adj\n",
       "Forward-Defender        930.3730   610.7412  1250.0048 0.0000000\n",
       "GoalKeeper-Defender    -507.3848  -887.6282  -127.1415 0.0034079\n",
       "Midfielder-Defender     760.8787   486.7108  1035.0465 0.0000000\n",
       "GoalKeeper-Forward    -1437.7579 -1865.9257 -1009.5900 0.0000000\n",
       "Midfielder-Forward     -169.4944  -507.0010   168.0122 0.5691282\n",
       "Midfielder-GoalKeeper  1268.2635   872.8761  1663.6509 0.0000000\n"
      ]
     },
     "metadata": {},
     "output_type": "display_data"
    }
   ],
   "source": [
    "TukeyHSD(fifa_result)"
   ]
  },
  {
   "cell_type": "markdown",
   "id": "3a097041",
   "metadata": {},
   "source": [
    "- 귀무가설 : 집단들 사이의 평균은 같다\n",
    "- 대립가설 : 집단들 사이의 평균은 같지않다.\n",
    "\n",
    "Midfielder-Forward 비교의 P값은 0.05보다 큼으로, 귀무가설 기각 불가, 나머지 비교는 모두 귀무가설 기각 "
   ]
  },
  {
   "cell_type": "markdown",
   "id": "4d7afe73",
   "metadata": {},
   "source": [
    "### 4)\n",
    "- Preferred Foot(주로 사용하는 발)과 Position_Class(재범주화 된 포지션)변수에 따라 Value(이적료)의 차이가 있는지를 알아보기 위해 이원배치분산분석을 수행하고 결과를 해석하시오."
   ]
  },
  {
   "cell_type": "code",
   "execution_count": 72,
   "id": "1c0da26f",
   "metadata": {},
   "outputs": [],
   "source": [
    "fifa_twoway_anova <- aov(Value ~ Preferred_Foot + Position_Class + Preferred_Foot:Position_Class,\n",
    "                        data = fifa) "
   ]
  },
  {
   "cell_type": "code",
   "execution_count": 74,
   "id": "57fc29e0",
   "metadata": {},
   "outputs": [
    {
     "data": {
      "text/plain": [
       "                                 Df    Sum Sq   Mean Sq F value  Pr(>F)    \n",
       "Preferred_Foot                    1 1.461e+08 1.461e+08   4.501 0.03390 *  \n",
       "Position_Class                    3 4.087e+09 1.362e+09  41.976 < 2e-16 ***\n",
       "Preferred_Foot:Position_Class     3 4.736e+08 1.579e+08   4.864 0.00221 ** \n",
       "Residuals                     16634 5.399e+11 3.246e+07                    \n",
       "---\n",
       "Signif. codes:  0 '***' 0.001 '**' 0.01 '*' 0.05 '.' 0.1 ' ' 1"
      ]
     },
     "metadata": {},
     "output_type": "display_data"
    }
   ],
   "source": [
    "fifa_twoway_anova %>% summary"
   ]
  },
  {
   "cell_type": "markdown",
   "id": "c7b4b4dc",
   "metadata": {},
   "source": [
    "- 귀무가설 : 선수의 주발에 따른 선수의 가치에는 차이가 없다.\n",
    "\n",
    "    선수의 포지션에 따른 선수의 가치에는 차이가 없다.\n",
    "    \n",
    "    주발과 포지션간의 상호작용 효과가 없다\n",
    "    \n",
    "- 대립가설 : not 귀무가설\n",
    "\n",
    "- 모든 P값 < 0.05, 귀무가설 모두 기각"
   ]
  },
  {
   "cell_type": "markdown",
   "id": "0dc00baf",
   "metadata": {},
   "source": [
    "### 5)\n",
    "\n",
    "- Age, Overall, Wage, Height_cm, Weight_lb 가 Value에 영향을 미치는지 알아보는 회귀분석을 단계적 선택법을 사용하여 수행하고 결과를 해석하시오. "
   ]
  },
  {
   "cell_type": "code",
   "execution_count": 81,
   "id": "15816b60",
   "metadata": {},
   "outputs": [
    {
     "name": "stdout",
     "output_type": "stream",
     "text": [
      "Start:  AIC=287969.5\n",
      "Value ~ 1\n",
      "\n",
      "            Df  Sum of Sq        RSS    AIC\n",
      "+ Wage       1 4.0424e+11 1.4037e+11 265409\n",
      "+ Overall    1 2.1561e+11 3.2900e+11 279584\n",
      "+ Age        1 3.1824e+09 5.4143e+11 287874\n",
      "+ Weight_lb  1 1.0611e+09 5.4355e+11 287939\n",
      "+ Height_cm  1 7.6986e+07 5.4454e+11 287969\n",
      "<none>                    5.4461e+11 287969\n",
      "\n",
      "Step:  AIC=265408.8\n",
      "Value ~ Wage\n",
      "\n",
      "            Df  Sum of Sq        RSS    AIC\n",
      "+ Overall    1 1.4741e+10 1.2563e+11 263564\n",
      "+ Age        1 1.4800e+09 1.3889e+11 265234\n",
      "+ Weight_lb  1 7.9650e+07 1.4029e+11 265401\n",
      "+ Height_cm  1 3.6839e+07 1.4034e+11 265406\n",
      "<none>                    1.4037e+11 265409\n",
      "- Wage       1 4.0424e+11 5.4461e+11 287969\n",
      "\n",
      "Step:  AIC=263564.5\n",
      "Value ~ Wage + Overall\n",
      "\n",
      "            Df  Sum of Sq        RSS    AIC\n",
      "+ Age        1 1.1662e+10 1.1397e+11 261945\n",
      "+ Weight_lb  1 7.0549e+08 1.2493e+11 263473\n",
      "+ Height_cm  1 1.0706e+08 1.2553e+11 263552\n",
      "<none>                    1.2563e+11 263564\n",
      "- Overall    1 1.4741e+10 1.4037e+11 265409\n",
      "- Wage       1 2.0337e+11 3.2900e+11 279584\n",
      "\n",
      "Step:  AIC=261945.2\n",
      "Value ~ Wage + Overall + Age\n",
      "\n",
      "            Df  Sum of Sq        RSS    AIC\n",
      "+ Weight_lb  1 4.9934e+07 1.1392e+11 261940\n",
      "+ Height_cm  1 2.5950e+07 1.1395e+11 261943\n",
      "<none>                    1.1397e+11 261945\n",
      "- Age        1 1.1662e+10 1.2563e+11 263564\n",
      "- Overall    1 2.4922e+10 1.3889e+11 265234\n",
      "- Wage       1 1.8259e+11 2.9656e+11 277858\n",
      "\n",
      "Step:  AIC=261939.9\n",
      "Value ~ Wage + Overall + Age + Weight_lb\n",
      "\n",
      "            Df  Sum of Sq        RSS    AIC\n",
      "<none>                    1.1392e+11 261940\n",
      "+ Height_cm  1 3.3613e+06 1.1392e+11 261941\n",
      "- Weight_lb  1 4.9934e+07 1.1397e+11 261945\n",
      "- Age        1 1.1006e+10 1.2493e+11 263473\n",
      "- Overall    1 2.4972e+10 1.3889e+11 265236\n",
      "- Wage       1 1.8260e+11 2.9652e+11 277858\n"
     ]
    },
    {
     "data": {
      "text/plain": [
       "\n",
       "Call:\n",
       "lm(formula = Value ~ Wage + Overall + Age + Weight_lb, data = fifa)\n",
       "\n",
       "Coefficients:\n",
       "(Intercept)         Wage      Overall          Age    Weight_lb  \n",
       "  -9667.525      184.156      241.887     -200.744       -3.621  \n"
      ]
     },
     "metadata": {},
     "output_type": "display_data"
    }
   ],
   "source": [
    "step(lm(Value ~ 1, data = fifa), \n",
    "      scope = list(lower = ~ 1, upper = ~ Age + Overall + Wage + Height_cm + Weight_lb),\n",
    "      direction = \"both\")"
   ]
  },
  {
   "cell_type": "markdown",
   "id": "27b78d8b",
   "metadata": {},
   "source": [
    "AIC값 기준으로 단계적선택법을 진행한 결과, 가장 낮은 AIC값을 가지는 최적모형은 Value = -9667.525 + 184.156 * Wage + 241.887 * Overall - 200.744 * Age - 3.621 * Weight_lb"
   ]
  },
  {
   "cell_type": "code",
   "execution_count": 80,
   "id": "d66edcd4",
   "metadata": {},
   "outputs": [
    {
     "data": {
      "text/plain": [
       "\n",
       "Call:\n",
       "lm(formula = Value ~ Wage + Overall + Age + Weight_lb, data = fifa)\n",
       "\n",
       "Residuals:\n",
       "   Min     1Q Median     3Q    Max \n",
       "-24244   -837   -120    665  58271 \n",
       "\n",
       "Coefficients:\n",
       "             Estimate Std. Error t value Pr(>|t|)    \n",
       "(Intercept) -9667.525    296.257  -32.63  < 2e-16 ***\n",
       "Wage          184.156      1.128  163.30  < 2e-16 ***\n",
       "Overall       241.887      4.005   60.39  < 2e-16 ***\n",
       "Age          -200.744      5.007  -40.09  < 2e-16 ***\n",
       "Weight_lb      -3.621      1.341   -2.70  0.00693 ** \n",
       "---\n",
       "Signif. codes:  0 '***' 0.001 '**' 0.01 '*' 0.05 '.' 0.1 ' ' 1\n",
       "\n",
       "Residual standard error: 2617 on 16637 degrees of freedom\n",
       "Multiple R-squared:  0.7908,\tAdjusted R-squared:  0.7908 \n",
       "F-statistic: 1.572e+04 on 4 and 16637 DF,  p-value: < 2.2e-16\n"
      ]
     },
     "metadata": {},
     "output_type": "display_data"
    }
   ],
   "source": [
    "fifa.lm %>% summary"
   ]
  },
  {
   "cell_type": "markdown",
   "id": "f65ed7c1",
   "metadata": {},
   "source": [
    "- 상수항을 포함한 모든 설명변수는 통계적으로 유의\n",
    "- 해당 모형의 F검정 결과 P-값은 0.05보다 작음으로, 통계적으로 유의\n",
    "- 해당 모형의 R^2값은 0.7908로써, 전체 데이터의 약 79%를 설명"
   ]
  },
  {
   "cell_type": "markdown",
   "id": "8be56fc5",
   "metadata": {},
   "source": [
    "## 03. 비정형 텍스트 마이닝"
   ]
  },
  {
   "cell_type": "markdown",
   "id": "010496e3",
   "metadata": {},
   "source": [
    "### 1)\n",
    "- ‘영화 기생충_review.txt’ 데이터를 읽어온 뒤 숫자, 특수 문자 등을 제거하는 전처리 작업을 시행하시오. 그리고 ‘영화 기생충_review.txt’을 사전에 등록하라."
   ]
  },
  {
   "cell_type": "code",
   "execution_count": 83,
   "id": "f3e80007",
   "metadata": {},
   "outputs": [],
   "source": [
    "library(KoNLP)\n",
    "library(rJava)\n",
    "library(tm)\n",
    "library(wordcloud)\n",
    "library(plyr)"
   ]
  },
  {
   "cell_type": "code",
   "execution_count": 84,
   "id": "aa6d8f57",
   "metadata": {},
   "outputs": [
    {
     "name": "stdout",
     "output_type": "stream",
     "text": [
      "Backup was just finished!\n",
      "370957 words dictionary was built.\n"
     ]
    }
   ],
   "source": [
    "useSejongDic()"
   ]
  },
  {
   "cell_type": "code",
   "execution_count": 85,
   "id": "5e06c822",
   "metadata": {},
   "outputs": [],
   "source": [
    "movie <- readLines(\"영화 기생충_review.txt\")\n",
    "dic <- readLines(\"영화 기생충_사전.txt\")"
   ]
  },
  {
   "cell_type": "code",
   "execution_count": 87,
   "id": "889e45f9",
   "metadata": {},
   "outputs": [
    {
     "name": "stdout",
     "output_type": "stream",
     "text": [
      "629914 words dictionary was built.\n"
     ]
    }
   ],
   "source": [
    "buildDictionary(ext_dic = \"woorimalsam\", \n",
    "                user_dic = data.frame(readLines(\"영화 기생충_사전.txt\"), \"ncn\"),\n",
    "                replace_usr_dic = T)"
   ]
  },
  {
   "cell_type": "code",
   "execution_count": 89,
   "id": "2ff00398",
   "metadata": {},
   "outputs": [
    {
     "name": "stdout",
     "output_type": "stream",
     "text": [
      "[1] \"별1개  준 사람들은   나베당임\"                                        \n",
      "[2] \"역쉬\"                                                                 \n",
      "[3] \"영화가 끝나고 가슴이 먹먹하고 답답햇습니다 너무나 충격적이었습니다..\" \n",
      "[4] \"지금까지 나온 감독의 모든 작품이 압축되어있다는 느낌을 받음.  Bomb!!!\"\n",
      "[5] \"대단한 영화. 몰입력 장난아님. 후아\"                                   \n",
      "[6] \"그닥\"                                                                 \n"
     ]
    }
   ],
   "source": [
    "movie %>% head %>% print"
   ]
  },
  {
   "cell_type": "code",
   "execution_count": 90,
   "id": "8d1225fc",
   "metadata": {},
   "outputs": [],
   "source": [
    "clean_txt <- function(txt) {\n",
    "    txt <- tolower(txt)\n",
    "    txt <- removePunctuation(txt)\n",
    "    txt <- removeNumbers(txt)\n",
    "    txt <- stripWhitespace(txt)\n",
    "    \n",
    "    return(txt)\n",
    "}"
   ]
  },
  {
   "cell_type": "code",
   "execution_count": 91,
   "id": "dd77bc43",
   "metadata": {},
   "outputs": [],
   "source": [
    "movie_clean <- clean_txt(movie)"
   ]
  },
  {
   "cell_type": "code",
   "execution_count": 93,
   "id": "34a5c827",
   "metadata": {},
   "outputs": [
    {
     "name": "stdout",
     "output_type": "stream",
     "text": [
      "[1] \"별개 준 사람들은 나베당임\"                                         \n",
      "[2] \"역쉬\"                                                              \n",
      "[3] \"영화가 끝나고 가슴이 먹먹하고 답답햇습니다 너무나 충격적이었습니다\"\n",
      "[4] \"지금까지 나온 감독의 모든 작품이 압축되어있다는 느낌을 받음 bomb\"  \n",
      "[5] \"대단한 영화 몰입력 장난아님 후아\"                                  \n",
      "[6] \"그닥\"                                                              \n"
     ]
    }
   ],
   "source": [
    "movie_clean %>% head %>% print"
   ]
  },
  {
   "cell_type": "markdown",
   "id": "75ea6847",
   "metadata": {},
   "source": [
    "### 2)\n",
    "- ‘영화 기생충_사전.txt’를 단어 사전으로 하는 TDM을 구축하고 빈도를 파악하고 시각화하라."
   ]
  },
  {
   "cell_type": "code",
   "execution_count": 94,
   "id": "368c3a13",
   "metadata": {},
   "outputs": [],
   "source": [
    "b <- VCorpus(VectorSource(movie))\n",
    "\n",
    "clean_corpus <- function(corpus) {\n",
    "    corpus <- tm_map(corpus, stripWhitespace)\n",
    "    corpus <- tm_map(corpus, removePunctuation)\n",
    "    corpus <- tm_map(corpus, removeNumbers)\n",
    "    corpus <- tm_map(corpus, content_transformer(tolower))\n",
    "    return(corpus)\n",
    "}"
   ]
  },
  {
   "cell_type": "code",
   "execution_count": 95,
   "id": "48347356",
   "metadata": {},
   "outputs": [],
   "source": [
    "c <- clean_corpus(b)"
   ]
  },
  {
   "cell_type": "code",
   "execution_count": 96,
   "id": "e5e35e15",
   "metadata": {},
   "outputs": [],
   "source": [
    "dtm <- TermDocumentMatrix(c, control = list(dictionary = dic))"
   ]
  },
  {
   "cell_type": "code",
   "execution_count": 97,
   "id": "aee231f5",
   "metadata": {},
   "outputs": [],
   "source": [
    "m <- as.matrix(dtm)"
   ]
  },
  {
   "cell_type": "code",
   "execution_count": 98,
   "id": "94ebb810",
   "metadata": {},
   "outputs": [],
   "source": [
    "v <- sort(rowSums(m), decreasing = T)"
   ]
  },
  {
   "cell_type": "code",
   "execution_count": 99,
   "id": "c09dfcba",
   "metadata": {},
   "outputs": [],
   "source": [
    "d <- data.frame(word = names(v), freq = v)"
   ]
  },
  {
   "cell_type": "code",
   "execution_count": 101,
   "id": "5a5f2999",
   "metadata": {},
   "outputs": [
    {
     "data": {
      "text/html": [
       "<table class=\"dataframe\">\n",
       "<caption>A data.frame: 6 × 2</caption>\n",
       "<thead>\n",
       "\t<tr><th></th><th scope=col>word</th><th scope=col>freq</th></tr>\n",
       "\t<tr><th></th><th scope=col>&lt;chr&gt;</th><th scope=col>&lt;dbl&gt;</th></tr>\n",
       "</thead>\n",
       "<tbody>\n",
       "\t<tr><th scope=row>봉준호</th><td>봉준호</td><td>78</td></tr>\n",
       "\t<tr><th scope=row>송강호</th><td>송강호</td><td>29</td></tr>\n",
       "\t<tr><th scope=row>기생충</th><td>기생충</td><td>17</td></tr>\n",
       "\t<tr><th scope=row>이선균</th><td>이선균</td><td>10</td></tr>\n",
       "\t<tr><th scope=row>조여정</th><td>조여정</td><td>10</td></tr>\n",
       "\t<tr><th scope=row>최우식</th><td>최우식</td><td> 4</td></tr>\n",
       "</tbody>\n",
       "</table>\n"
      ],
      "text/latex": [
       "A data.frame: 6 × 2\n",
       "\\begin{tabular}{r|ll}\n",
       "  & word & freq\\\\\n",
       "  & <chr> & <dbl>\\\\\n",
       "\\hline\n",
       "\t봉준호 & 봉준호 & 78\\\\\n",
       "\t송강호 & 송강호 & 29\\\\\n",
       "\t기생충 & 기생충 & 17\\\\\n",
       "\t이선균 & 이선균 & 10\\\\\n",
       "\t조여정 & 조여정 & 10\\\\\n",
       "\t최우식 & 최우식 &  4\\\\\n",
       "\\end{tabular}\n"
      ],
      "text/markdown": [
       "\n",
       "A data.frame: 6 × 2\n",
       "\n",
       "| <!--/--> | word &lt;chr&gt; | freq &lt;dbl&gt; |\n",
       "|---|---|---|\n",
       "| 봉준호 | 봉준호 | 78 |\n",
       "| 송강호 | 송강호 | 29 |\n",
       "| 기생충 | 기생충 | 17 |\n",
       "| 이선균 | 이선균 | 10 |\n",
       "| 조여정 | 조여정 | 10 |\n",
       "| 최우식 | 최우식 |  4 |\n",
       "\n"
      ],
      "text/plain": [
       "       word   freq\n",
       "봉준호 봉준호 78  \n",
       "송강호 송강호 29  \n",
       "기생충 기생충 17  \n",
       "이선균 이선균 10  \n",
       "조여정 조여정 10  \n",
       "최우식 최우식  4  "
      ]
     },
     "metadata": {},
     "output_type": "display_data"
    }
   ],
   "source": [
    "head(d)"
   ]
  },
  {
   "cell_type": "code",
   "execution_count": 103,
   "id": "c918667c",
   "metadata": {},
   "outputs": [
    {
     "name": "stderr",
     "output_type": "stream",
     "text": [
      "Loading required package: sysfonts\n",
      "\n",
      "Loading required package: showtextdb\n",
      "\n"
     ]
    }
   ],
   "source": [
    "library(showtext)\n",
    "font_add_google(name = \"Black Han Sans\", family = \"blackhansans\")\n",
    "showtext_auto()"
   ]
  },
  {
   "cell_type": "code",
   "execution_count": 104,
   "id": "43d6270d",
   "metadata": {},
   "outputs": [
    {
     "data": {
      "image/png": "[encoded data removed]",
      "text/plain": [
       "Plot with title \"기생충 review 빈출 명사\""
      ]
     },
     "metadata": {
      "image/png": {
       "height": 420,
       "width": 420
      }
     },
     "output_type": "display_data"
    }
   ],
   "source": [
    "colors <- rainbow(nrow(d))\n",
    "barplot(v[1:10], main = \"기생충 review 빈출 명사\", col = colors)\n",
    "legend(\"right\", names(v[1:10]), fill = colors)"
   ]
  },
  {
   "cell_type": "markdown",
   "id": "b6806c21",
   "metadata": {},
   "source": [
    "### 3)\n",
    "- extraNoun으로 명사를 추출하여 워드클라우드를 그리고 특성을 파악하시오."
   ]
  },
  {
   "cell_type": "code",
   "execution_count": 105,
   "id": "7da3a492",
   "metadata": {},
   "outputs": [],
   "source": [
    "movie_exN <- sapply(movie_clean, extractNoun)"
   ]
  },
  {
   "cell_type": "code",
   "execution_count": 106,
   "id": "3860e6b1",
   "metadata": {},
   "outputs": [],
   "source": [
    "Noun <- as.vector(unlist(movie_exN))"
   ]
  },
  {
   "cell_type": "code",
   "execution_count": 107,
   "id": "9b5aed5c",
   "metadata": {},
   "outputs": [],
   "source": [
    "Noun_2 <- Noun[nchar(Noun) >= 2]"
   ]
  },
  {
   "cell_type": "code",
   "execution_count": 108,
   "id": "70bc6edb",
   "metadata": {},
   "outputs": [
    {
     "data": {
      "image/png": "[encoded data removed]",
      "text/plain": [
       "plot without title"
      ]
     },
     "metadata": {
      "image/png": {
       "height": 420,
       "width": 420
      }
     },
     "output_type": "display_data"
    }
   ],
   "source": [
    "result <- data.frame(sort(table(Noun_2), decreasing = T))\n",
    "t <- wordcloud(result$Noun_2, result$Freq, color = brewer.pal(8, \"Dark2\"), min.freq = 30)"
   ]
  }
 ],
 "metadata": {
  "kernelspec": {
   "display_name": "R 4.1.3",
   "language": "R",
   "name": "ir32"
  },
  "language_info": {
   "codemirror_mode": "r",
   "file_extension": ".r",
   "mimetype": "text/x-r-source",
   "name": "R",
   "pygments_lexer": "r",
   "version": "4.1.3"
  }
 },
 "nbformat": 4,
 "nbformat_minor": 5
}
