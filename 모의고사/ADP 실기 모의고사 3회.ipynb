{
 "cells": [
  {
   "cell_type": "code",
   "execution_count": 3,
   "id": "15fd9989",
   "metadata": {},
   "outputs": [],
   "source": [
    "library(tidyverse)\n",
    "setwd(\"C:/Soongsil/R/ADP/모의고사 R코드 및 데이터/모의고사 3회\")"
   ]
  },
  {
   "cell_type": "code",
   "execution_count": 2,
   "id": "8e5ce852",
   "metadata": {},
   "outputs": [
    {
     "name": "stderr",
     "output_type": "stream",
     "text": [
      "Loading required package: sysfonts\n",
      "\n",
      "Loading required package: showtextdb\n",
      "\n"
     ]
    }
   ],
   "source": [
    "library(showtext)\n",
    "font_add_google(name = \"Black Han Sans\", family = \"blackhansans\")\n",
    "showtext_auto()"
   ]
  },
  {
   "cell_type": "markdown",
   "id": "dffb6611",
   "metadata": {},
   "source": [
    "## 01. 통계분석"
   ]
  },
  {
   "cell_type": "markdown",
   "id": "b63b4e2e",
   "metadata": {},
   "source": [
    "### 1)\n",
    "-  Urban변수에 따른 Sales의 차이가 있는지를 통계적으로 검증하기 위한 통계분석을 수행하고, 결과를 해석하시오.(데이터는 정규성을 만족한다고 가정하고 유의수준 0.05 하에서 검정"
   ]
  },
  {
   "cell_type": "code",
   "execution_count": 4,
   "id": "99a95ad2",
   "metadata": {},
   "outputs": [],
   "source": [
    "library(ISLR)\n",
    "data(Carseats)"
   ]
  },
  {
   "cell_type": "code",
   "execution_count": 5,
   "id": "c8dba67f",
   "metadata": {},
   "outputs": [
    {
     "data": {
      "text/html": [
       "0"
      ],
      "text/latex": [
       "0"
      ],
      "text/markdown": [
       "0"
      ],
      "text/plain": [
       "[1] 0"
      ]
     },
     "metadata": {},
     "output_type": "display_data"
    }
   ],
   "source": [
    "sum(is.na(Carseats))"
   ]
  },
  {
   "cell_type": "code",
   "execution_count": 6,
   "id": "cdff14fc",
   "metadata": {},
   "outputs": [
    {
     "name": "stdout",
     "output_type": "stream",
     "text": [
      "Rows: 400\n",
      "Columns: 11\n",
      "$ Sales       \u001b[3m\u001b[90m<dbl>\u001b[39m\u001b[23m 9.50, 11.22, 10.06, 7.40, 4.15, 10.81, 6.63, 11.85, 6.54, ~\n",
      "$ CompPrice   \u001b[3m\u001b[90m<dbl>\u001b[39m\u001b[23m 138, 111, 113, 117, 141, 124, 115, 136, 132, 132, 121, 117~\n",
      "$ Income      \u001b[3m\u001b[90m<dbl>\u001b[39m\u001b[23m 73, 48, 35, 100, 64, 113, 105, 81, 110, 113, 78, 94, 35, 2~\n",
      "$ Advertising \u001b[3m\u001b[90m<dbl>\u001b[39m\u001b[23m 11, 16, 10, 4, 3, 13, 0, 15, 0, 0, 9, 4, 2, 11, 11, 5, 0, ~\n",
      "$ Population  \u001b[3m\u001b[90m<dbl>\u001b[39m\u001b[23m 276, 260, 269, 466, 340, 501, 45, 425, 108, 131, 150, 503,~\n",
      "$ Price       \u001b[3m\u001b[90m<dbl>\u001b[39m\u001b[23m 120, 83, 80, 97, 128, 72, 108, 120, 124, 124, 100, 94, 136~\n",
      "$ ShelveLoc   \u001b[3m\u001b[90m<fct>\u001b[39m\u001b[23m Bad, Good, Medium, Medium, Bad, Bad, Medium, Good, Medium,~\n",
      "$ Age         \u001b[3m\u001b[90m<dbl>\u001b[39m\u001b[23m 42, 65, 59, 55, 38, 78, 71, 67, 76, 76, 26, 50, 62, 53, 52~\n",
      "$ Education   \u001b[3m\u001b[90m<dbl>\u001b[39m\u001b[23m 17, 10, 12, 14, 13, 16, 15, 10, 10, 17, 10, 13, 18, 18, 18~\n",
      "$ Urban       \u001b[3m\u001b[90m<fct>\u001b[39m\u001b[23m Yes, Yes, Yes, Yes, Yes, No, Yes, Yes, No, No, No, Yes, Ye~\n",
      "$ US          \u001b[3m\u001b[90m<fct>\u001b[39m\u001b[23m Yes, Yes, Yes, Yes, No, Yes, No, Yes, No, Yes, Yes, Yes, N~\n"
     ]
    }
   ],
   "source": [
    "glimpse(Carseats)"
   ]
  },
  {
   "cell_type": "markdown",
   "id": "5313ef50",
   "metadata": {},
   "source": [
    "- Urban변수에 따른 Sales의 차이를 통계적으로 검증 => 독립표본 t-검정\n",
    "- 귀무가설 : 도시인지의 여부에 따른 판매량에는 차이가 없다."
   ]
  },
  {
   "cell_type": "markdown",
   "id": "52adbbf7",
   "metadata": {},
   "source": [
    "- t-검정에 앞서, 두 집단 간의 데이터가 등분산성을 만족하는지 확인 => 등분산 검정\n",
    "- 귀무가설 : 두 집단의 분산이 동일"
   ]
  },
  {
   "cell_type": "code",
   "execution_count": 7,
   "id": "04f0c742",
   "metadata": {},
   "outputs": [
    {
     "data": {
      "text/plain": [
       "\n",
       "\tF test to compare two variances\n",
       "\n",
       "data:  Sales by Urban\n",
       "F = 0.9787, num df = 117, denom df = 281, p-value = 0.9072\n",
       "alternative hypothesis: true ratio of variances is not equal to 1\n",
       "95 percent confidence interval:\n",
       " 0.7276615 1.3423111\n",
       "sample estimates:\n",
       "ratio of variances \n",
       "         0.9786966 \n"
      ]
     },
     "metadata": {},
     "output_type": "display_data"
    }
   ],
   "source": [
    "var.test(Sales ~ Urban, data = Carseats, alternative = \"two.sided\")"
   ]
  },
  {
   "cell_type": "markdown",
   "id": "ad133b5d",
   "metadata": {},
   "source": [
    "- P-value > 0.05 => 귀무가설 기각 X => 두 집단의 분산이 동일"
   ]
  },
  {
   "cell_type": "code",
   "execution_count": 8,
   "id": "394a9ae3",
   "metadata": {},
   "outputs": [
    {
     "data": {
      "text/plain": [
       "\n",
       "\tTwo Sample t-test\n",
       "\n",
       "data:  Sales by Urban\n",
       "t = 0.30765, df = 398, p-value = 0.7585\n",
       "alternative hypothesis: true difference in means between group No and group Yes is not equal to 0\n",
       "95 percent confidence interval:\n",
       " -0.5140440  0.7047797\n",
       "sample estimates:\n",
       " mean in group No mean in group Yes \n",
       "         7.563559          7.468191 \n"
      ]
     },
     "metadata": {},
     "output_type": "display_data"
    }
   ],
   "source": [
    "t.test(Sales ~ Urban, data = Carseats, alternative = \"two.sided\", var.equal = T)"
   ]
  },
  {
   "cell_type": "markdown",
   "id": "bceaf533",
   "metadata": {},
   "source": [
    "- P-value > 0.05 => 귀무가설 기각 X => 도시인지의 여부에 따른 판매량에는 차이가 없다"
   ]
  },
  {
   "cell_type": "markdown",
   "id": "36b3f634",
   "metadata": {},
   "source": [
    "### 2)\n",
    "- Sales변수와 CompPrice, Income, Advertising, Population, Price, Age, Education 변수들 간에 피어슨 상관계수를 이용한 상관관계 분석을 수행하고 이를 해석하시오."
   ]
  },
  {
   "cell_type": "code",
   "execution_count": 9,
   "id": "888647db",
   "metadata": {},
   "outputs": [],
   "source": [
    "attach(Carseats)"
   ]
  },
  {
   "cell_type": "code",
   "execution_count": 12,
   "id": "02c10874",
   "metadata": {
    "scrolled": true
   },
   "outputs": [
    {
     "data": {
      "text/html": [
       "0.0640787295506215"
      ],
      "text/latex": [
       "0.0640787295506215"
      ],
      "text/markdown": [
       "0.0640787295506215"
      ],
      "text/plain": [
       "[1] 0.06407873"
      ]
     },
     "metadata": {},
     "output_type": "display_data"
    },
    {
     "data": {
      "text/plain": [
       "\n",
       "\tPearson's product-moment correlation\n",
       "\n",
       "data:  Sales and CompPrice\n",
       "t = 1.281, df = 398, p-value = 0.2009\n",
       "alternative hypothesis: true correlation is not equal to 0\n",
       "95 percent confidence interval:\n",
       " -0.03418779  0.16111814\n",
       "sample estimates:\n",
       "       cor \n",
       "0.06407873 \n"
      ]
     },
     "metadata": {},
     "output_type": "display_data"
    }
   ],
   "source": [
    "cor(Sales, CompPrice)\n",
    "cor.test(Sales, CompPrice)"
   ]
  },
  {
   "cell_type": "markdown",
   "id": "45deaa7b",
   "metadata": {},
   "source": [
    "- 상관계수는 약 0.064로 Sales와 Comprice 간 상관성이 거의 존재하지 않는다\n",
    "- p-value < 0.05 => 두 변수간의 상관관계는 통계적으로 유의"
   ]
  },
  {
   "cell_type": "code",
   "execution_count": 13,
   "id": "890603c1",
   "metadata": {
    "scrolled": true
   },
   "outputs": [
    {
     "data": {
      "text/html": [
       "0.151950979467544"
      ],
      "text/latex": [
       "0.151950979467544"
      ],
      "text/markdown": [
       "0.151950979467544"
      ],
      "text/plain": [
       "[1] 0.151951"
      ]
     },
     "metadata": {},
     "output_type": "display_data"
    },
    {
     "data": {
      "text/plain": [
       "\n",
       "\tPearson's product-moment correlation\n",
       "\n",
       "data:  Sales and Income\n",
       "t = 3.067, df = 398, p-value = 0.00231\n",
       "alternative hypothesis: true correlation is not equal to 0\n",
       "95 percent confidence interval:\n",
       " 0.05471445 0.24633258\n",
       "sample estimates:\n",
       "     cor \n",
       "0.151951 \n"
      ]
     },
     "metadata": {},
     "output_type": "display_data"
    }
   ],
   "source": [
    "cor(Sales, Income)\n",
    "cor.test(Sales, Income)"
   ]
  },
  {
   "cell_type": "markdown",
   "id": "6fe51f3d",
   "metadata": {},
   "source": [
    "- 상관계수는 약 0.152로 Sales와 Income 간 상관성이 거의 존재하지 않는다\n",
    "- p-value < 0.05 => 두 변수간의 상관관계는 통계적으로 유의"
   ]
  },
  {
   "cell_type": "code",
   "execution_count": 14,
   "id": "90046d14",
   "metadata": {
    "scrolled": true
   },
   "outputs": [
    {
     "data": {
      "text/html": [
       "0.269506781376902"
      ],
      "text/latex": [
       "0.269506781376902"
      ],
      "text/markdown": [
       "0.269506781376902"
      ],
      "text/plain": [
       "[1] 0.2695068"
      ]
     },
     "metadata": {},
     "output_type": "display_data"
    },
    {
     "data": {
      "text/plain": [
       "\n",
       "\tPearson's product-moment correlation\n",
       "\n",
       "data:  Sales and Advertising\n",
       "t = 5.5832, df = 398, p-value = 4.378e-08\n",
       "alternative hypothesis: true correlation is not equal to 0\n",
       "95 percent confidence interval:\n",
       " 0.1761088 0.3580956\n",
       "sample estimates:\n",
       "      cor \n",
       "0.2695068 \n"
      ]
     },
     "metadata": {},
     "output_type": "display_data"
    }
   ],
   "source": [
    "cor(Sales, Advertising)\n",
    "cor.test(Sales, Advertising)"
   ]
  },
  {
   "cell_type": "markdown",
   "id": "2f9ae0a7",
   "metadata": {},
   "source": [
    "- 상관계수는 약 0.27로 Sales와 Advertising 간 상관성이 거의 존재하지 않는다\n",
    "- p-value < 0.05 => 두 변수간의 상관관계는 통계적으로 유의"
   ]
  },
  {
   "cell_type": "code",
   "execution_count": 15,
   "id": "276c3e19",
   "metadata": {
    "scrolled": true
   },
   "outputs": [
    {
     "data": {
      "text/html": [
       "0.0504709844720392"
      ],
      "text/latex": [
       "0.0504709844720392"
      ],
      "text/markdown": [
       "0.0504709844720392"
      ],
      "text/plain": [
       "[1] 0.05047098"
      ]
     },
     "metadata": {},
     "output_type": "display_data"
    },
    {
     "data": {
      "text/plain": [
       "\n",
       "\tPearson's product-moment correlation\n",
       "\n",
       "data:  Sales and Population\n",
       "t = 1.0082, df = 398, p-value = 0.314\n",
       "alternative hypothesis: true correlation is not equal to 0\n",
       "95 percent confidence interval:\n",
       " -0.04781737  0.14779132\n",
       "sample estimates:\n",
       "       cor \n",
       "0.05047098 \n"
      ]
     },
     "metadata": {},
     "output_type": "display_data"
    }
   ],
   "source": [
    "cor(Sales, Population)\n",
    "cor.test(Sales, Population)"
   ]
  },
  {
   "cell_type": "markdown",
   "id": "9bba1678",
   "metadata": {},
   "source": [
    "- 상관계수는 약 0.05로 Sales와 Population 간 상관성이 거의 존재하지 않는다\n",
    "- p-value > 0.05 => 두 변수간의 상관관계는 통계적으로 유의하지 않음"
   ]
  },
  {
   "cell_type": "code",
   "execution_count": 16,
   "id": "a3d6f65b",
   "metadata": {
    "scrolled": true
   },
   "outputs": [
    {
     "data": {
      "text/html": [
       "-0.444950727846573"
      ],
      "text/latex": [
       "-0.444950727846573"
      ],
      "text/markdown": [
       "-0.444950727846573"
      ],
      "text/plain": [
       "[1] -0.4449507"
      ]
     },
     "metadata": {},
     "output_type": "display_data"
    },
    {
     "data": {
      "text/plain": [
       "\n",
       "\tPearson's product-moment correlation\n",
       "\n",
       "data:  Sales and Price\n",
       "t = -9.912, df = 398, p-value < 2.2e-16\n",
       "alternative hypothesis: true correlation is not equal to 0\n",
       "95 percent confidence interval:\n",
       " -0.5203026 -0.3627240\n",
       "sample estimates:\n",
       "       cor \n",
       "-0.4449507 \n"
      ]
     },
     "metadata": {},
     "output_type": "display_data"
    }
   ],
   "source": [
    "cor(Sales, Price)\n",
    "cor.test(Sales, Price)"
   ]
  },
  {
   "cell_type": "markdown",
   "id": "bc387f79",
   "metadata": {},
   "source": [
    "- 상관계수는 약 -0.44로 Sales와 Price 간 약한 음의 상관관계 존재\n",
    "- p-value < 0.05 => 두 변수간의 상관관계는 통계적으로 유의"
   ]
  },
  {
   "cell_type": "code",
   "execution_count": 17,
   "id": "da3dcae9",
   "metadata": {
    "scrolled": true
   },
   "outputs": [
    {
     "data": {
      "text/html": [
       "-0.231815439604576"
      ],
      "text/latex": [
       "-0.231815439604576"
      ],
      "text/markdown": [
       "-0.231815439604576"
      ],
      "text/plain": [
       "[1] -0.2318154"
      ]
     },
     "metadata": {},
     "output_type": "display_data"
    },
    {
     "data": {
      "text/plain": [
       "\n",
       "\tPearson's product-moment correlation\n",
       "\n",
       "data:  Sales and Age\n",
       "t = -4.7542, df = 398, p-value = 2.789e-06\n",
       "alternative hypothesis: true correlation is not equal to 0\n",
       "95 percent confidence interval:\n",
       " -0.3225359 -0.1368749\n",
       "sample estimates:\n",
       "       cor \n",
       "-0.2318154 \n"
      ]
     },
     "metadata": {},
     "output_type": "display_data"
    }
   ],
   "source": [
    "cor(Sales, Age)\n",
    "cor.test(Sales, Age)"
   ]
  },
  {
   "cell_type": "markdown",
   "id": "d437f853",
   "metadata": {},
   "source": [
    "- 상관계수는 약 -0.23로 Sales와 Age 간 약한 음의 상관관계 존재\n",
    "- p-value < 0.05 => 두 변수간의 상관관계는 통계적으로 유의"
   ]
  },
  {
   "cell_type": "code",
   "execution_count": 18,
   "id": "605340e5",
   "metadata": {},
   "outputs": [
    {
     "data": {
      "text/html": [
       "-0.0519552419681342"
      ],
      "text/latex": [
       "-0.0519552419681342"
      ],
      "text/markdown": [
       "-0.0519552419681342"
      ],
      "text/plain": [
       "[1] -0.05195524"
      ]
     },
     "metadata": {},
     "output_type": "display_data"
    },
    {
     "data": {
      "text/plain": [
       "\n",
       "\tPearson's product-moment correlation\n",
       "\n",
       "data:  Sales and Education\n",
       "t = -1.0379, df = 398, p-value = 0.2999\n",
       "alternative hypothesis: true correlation is not equal to 0\n",
       "95 percent confidence interval:\n",
       " -0.14924665  0.04633251\n",
       "sample estimates:\n",
       "        cor \n",
       "-0.05195524 \n"
      ]
     },
     "metadata": {},
     "output_type": "display_data"
    }
   ],
   "source": [
    "cor(Sales, Education)\n",
    "cor.test(Sales, Education)"
   ]
  },
  {
   "cell_type": "markdown",
   "id": "179ac051",
   "metadata": {},
   "source": [
    "- 상관계수는 약 -0.05로 Sales와 Comprice 간 상관성이 거의 존재하지 않는다\n",
    "- p-value > 0.05 => 두 변수간의 상관관계는 통계적으로 유의하지 않음"
   ]
  },
  {
   "cell_type": "code",
   "execution_count": 22,
   "id": "7a2cb707",
   "metadata": {},
   "outputs": [
    {
     "data": {
      "text/html": [
       "<table class=\"dataframe\">\n",
       "<caption>A matrix: 8 × 8 of type dbl</caption>\n",
       "<thead>\n",
       "\t<tr><th></th><th scope=col>Sales</th><th scope=col>CompPrice</th><th scope=col>Income</th><th scope=col>Advertising</th><th scope=col>Population</th><th scope=col>Price</th><th scope=col>Age</th><th scope=col>Education</th></tr>\n",
       "</thead>\n",
       "<tbody>\n",
       "\t<tr><th scope=row>Sales</th><td> 1.00000000</td><td> 0.06407873</td><td> 0.151950979</td><td> 0.269506781</td><td> 0.050470984</td><td>-0.44495073</td><td>-0.231815440</td><td>-0.051955242</td></tr>\n",
       "\t<tr><th scope=row>CompPrice</th><td> 0.06407873</td><td> 1.00000000</td><td>-0.080653423</td><td>-0.024198788</td><td>-0.094706516</td><td> 0.58484777</td><td>-0.100238817</td><td> 0.025197050</td></tr>\n",
       "\t<tr><th scope=row>Income</th><td> 0.15195098</td><td>-0.08065342</td><td> 1.000000000</td><td> 0.058994706</td><td>-0.007876994</td><td>-0.05669820</td><td>-0.004670094</td><td>-0.056855422</td></tr>\n",
       "\t<tr><th scope=row>Advertising</th><td> 0.26950678</td><td>-0.02419879</td><td> 0.058994706</td><td> 1.000000000</td><td> 0.265652145</td><td> 0.04453687</td><td>-0.004557497</td><td>-0.033594307</td></tr>\n",
       "\t<tr><th scope=row>Population</th><td> 0.05047098</td><td>-0.09470652</td><td>-0.007876994</td><td> 0.265652145</td><td> 1.000000000</td><td>-0.01214362</td><td>-0.042663355</td><td>-0.106378231</td></tr>\n",
       "\t<tr><th scope=row>Price</th><td>-0.44495073</td><td> 0.58484777</td><td>-0.056698202</td><td> 0.044536874</td><td>-0.012143620</td><td> 1.00000000</td><td>-0.102176839</td><td> 0.011746599</td></tr>\n",
       "\t<tr><th scope=row>Age</th><td>-0.23181544</td><td>-0.10023882</td><td>-0.004670094</td><td>-0.004557497</td><td>-0.042663355</td><td>-0.10217684</td><td> 1.000000000</td><td> 0.006488032</td></tr>\n",
       "\t<tr><th scope=row>Education</th><td>-0.05195524</td><td> 0.02519705</td><td>-0.056855422</td><td>-0.033594307</td><td>-0.106378231</td><td> 0.01174660</td><td> 0.006488032</td><td> 1.000000000</td></tr>\n",
       "</tbody>\n",
       "</table>\n"
      ],
      "text/latex": [
       "A matrix: 8 × 8 of type dbl\n",
       "\\begin{tabular}{r|llllllll}\n",
       "  & Sales & CompPrice & Income & Advertising & Population & Price & Age & Education\\\\\n",
       "\\hline\n",
       "\tSales &  1.00000000 &  0.06407873 &  0.151950979 &  0.269506781 &  0.050470984 & -0.44495073 & -0.231815440 & -0.051955242\\\\\n",
       "\tCompPrice &  0.06407873 &  1.00000000 & -0.080653423 & -0.024198788 & -0.094706516 &  0.58484777 & -0.100238817 &  0.025197050\\\\\n",
       "\tIncome &  0.15195098 & -0.08065342 &  1.000000000 &  0.058994706 & -0.007876994 & -0.05669820 & -0.004670094 & -0.056855422\\\\\n",
       "\tAdvertising &  0.26950678 & -0.02419879 &  0.058994706 &  1.000000000 &  0.265652145 &  0.04453687 & -0.004557497 & -0.033594307\\\\\n",
       "\tPopulation &  0.05047098 & -0.09470652 & -0.007876994 &  0.265652145 &  1.000000000 & -0.01214362 & -0.042663355 & -0.106378231\\\\\n",
       "\tPrice & -0.44495073 &  0.58484777 & -0.056698202 &  0.044536874 & -0.012143620 &  1.00000000 & -0.102176839 &  0.011746599\\\\\n",
       "\tAge & -0.23181544 & -0.10023882 & -0.004670094 & -0.004557497 & -0.042663355 & -0.10217684 &  1.000000000 &  0.006488032\\\\\n",
       "\tEducation & -0.05195524 &  0.02519705 & -0.056855422 & -0.033594307 & -0.106378231 &  0.01174660 &  0.006488032 &  1.000000000\\\\\n",
       "\\end{tabular}\n"
      ],
      "text/markdown": [
       "\n",
       "A matrix: 8 × 8 of type dbl\n",
       "\n",
       "| <!--/--> | Sales | CompPrice | Income | Advertising | Population | Price | Age | Education |\n",
       "|---|---|---|---|---|---|---|---|---|\n",
       "| Sales |  1.00000000 |  0.06407873 |  0.151950979 |  0.269506781 |  0.050470984 | -0.44495073 | -0.231815440 | -0.051955242 |\n",
       "| CompPrice |  0.06407873 |  1.00000000 | -0.080653423 | -0.024198788 | -0.094706516 |  0.58484777 | -0.100238817 |  0.025197050 |\n",
       "| Income |  0.15195098 | -0.08065342 |  1.000000000 |  0.058994706 | -0.007876994 | -0.05669820 | -0.004670094 | -0.056855422 |\n",
       "| Advertising |  0.26950678 | -0.02419879 |  0.058994706 |  1.000000000 |  0.265652145 |  0.04453687 | -0.004557497 | -0.033594307 |\n",
       "| Population |  0.05047098 | -0.09470652 | -0.007876994 |  0.265652145 |  1.000000000 | -0.01214362 | -0.042663355 | -0.106378231 |\n",
       "| Price | -0.44495073 |  0.58484777 | -0.056698202 |  0.044536874 | -0.012143620 |  1.00000000 | -0.102176839 |  0.011746599 |\n",
       "| Age | -0.23181544 | -0.10023882 | -0.004670094 | -0.004557497 | -0.042663355 | -0.10217684 |  1.000000000 |  0.006488032 |\n",
       "| Education | -0.05195524 |  0.02519705 | -0.056855422 | -0.033594307 | -0.106378231 |  0.01174660 |  0.006488032 |  1.000000000 |\n",
       "\n"
      ],
      "text/plain": [
       "            Sales       CompPrice   Income       Advertising  Population  \n",
       "Sales        1.00000000  0.06407873  0.151950979  0.269506781  0.050470984\n",
       "CompPrice    0.06407873  1.00000000 -0.080653423 -0.024198788 -0.094706516\n",
       "Income       0.15195098 -0.08065342  1.000000000  0.058994706 -0.007876994\n",
       "Advertising  0.26950678 -0.02419879  0.058994706  1.000000000  0.265652145\n",
       "Population   0.05047098 -0.09470652 -0.007876994  0.265652145  1.000000000\n",
       "Price       -0.44495073  0.58484777 -0.056698202  0.044536874 -0.012143620\n",
       "Age         -0.23181544 -0.10023882 -0.004670094 -0.004557497 -0.042663355\n",
       "Education   -0.05195524  0.02519705 -0.056855422 -0.033594307 -0.106378231\n",
       "            Price       Age          Education   \n",
       "Sales       -0.44495073 -0.231815440 -0.051955242\n",
       "CompPrice    0.58484777 -0.100238817  0.025197050\n",
       "Income      -0.05669820 -0.004670094 -0.056855422\n",
       "Advertising  0.04453687 -0.004557497 -0.033594307\n",
       "Population  -0.01214362 -0.042663355 -0.106378231\n",
       "Price        1.00000000 -0.102176839  0.011746599\n",
       "Age         -0.10217684  1.000000000  0.006488032\n",
       "Education    0.01174660  0.006488032  1.000000000"
      ]
     },
     "metadata": {},
     "output_type": "display_data"
    }
   ],
   "source": [
    "var <- c(\"Sales\", \"CompPrice\", \"Income\", \"Advertising\", \"Population\", \"Price\", \"Age\", \"Education\")\n",
    "Carseats_cor <- Carseats[, var]\n",
    "cor(Carseats_cor)"
   ]
  },
  {
   "cell_type": "code",
   "execution_count": 24,
   "id": "157d9d80",
   "metadata": {},
   "outputs": [
    {
     "data": {
      "image/png": "[encoded data removed]",
      "text/plain": [
       "Plot with title \"\""
      ]
     },
     "metadata": {
      "image/png": {
       "height": 420,
       "width": 420
      }
     },
     "output_type": "display_data"
    }
   ],
   "source": [
    "library(corrplot)\n",
    "corrplot(cor(Carseats_cor), \"circle\")"
   ]
  },
  {
   "cell_type": "markdown",
   "id": "c5587440",
   "metadata": {},
   "source": [
    "### 3)\n",
    "- 종속변수를 Sales, 독립변수를 CompPrice, Income, Advertising, Population, Price Age, Education으로 설정하고 후진제거법을 활용하여 회귀분석을 실시하고, 추정된 회귀식을 작성하시오. "
   ]
  },
  {
   "cell_type": "code",
   "execution_count": 31,
   "id": "e0d84da7",
   "metadata": {},
   "outputs": [
    {
     "name": "stdout",
     "output_type": "stream",
     "text": [
      "Start:  AIC=533.5\n",
      "Sales ~ CompPrice + Income + Advertising + Population + Price + \n",
      "    Age + Education\n",
      "\n",
      "              Df Sum of Sq    RSS    AIC\n",
      "- Population   1      0.12 1458.7 531.53\n",
      "- Education    1      4.32 1462.9 532.68\n",
      "<none>                     1458.6 533.50\n",
      "- Income       1     51.03 1509.6 545.25\n",
      "- Age          1    208.48 1667.0 584.94\n",
      "- Advertising  1    278.65 1737.2 601.43\n",
      "- CompPrice    1    533.98 1992.5 656.28\n",
      "- Price        1   1247.94 2706.5 778.78\n",
      "\n",
      "Step:  AIC=531.53\n",
      "Sales ~ CompPrice + Income + Advertising + Price + Age + Education\n",
      "\n",
      "              Df Sum of Sq    RSS    AIC\n",
      "- Education    1      4.21 1462.9 530.68\n",
      "<none>                     1458.7 531.53\n",
      "- Income       1     51.29 1510.0 543.35\n",
      "- Age          1    208.51 1667.2 582.97\n",
      "- Advertising  1    295.91 1754.6 603.41\n",
      "- CompPrice    1    540.75 1999.4 655.66\n",
      "- Price        1   1250.06 2708.7 777.11\n",
      "\n",
      "Step:  AIC=530.68\n",
      "Sales ~ CompPrice + Income + Advertising + Price + Age\n",
      "\n",
      "              Df Sum of Sq    RSS    AIC\n",
      "<none>                     1462.9 530.68\n",
      "- Income       1     53.02 1515.9 542.92\n",
      "- Age          1    209.00 1671.9 582.10\n",
      "- Advertising  1    298.27 1761.2 602.91\n",
      "- CompPrice    1    539.21 2002.1 654.20\n",
      "- Price        1   1249.81 2712.7 775.70\n"
     ]
    }
   ],
   "source": [
    "backward <- lm(Sales ~ ., data = Carseats_cor) %>% step(direction = \"backward\")"
   ]
  },
  {
   "cell_type": "code",
   "execution_count": 32,
   "id": "68f42def",
   "metadata": {
    "scrolled": true
   },
   "outputs": [
    {
     "data": {
      "text/plain": [
       "\n",
       "Call:\n",
       "lm(formula = Sales ~ CompPrice + Income + Advertising + Price + \n",
       "    Age, data = Carseats_cor)\n",
       "\n",
       "Residuals:\n",
       "    Min      1Q  Median      3Q     Max \n",
       "-4.9071 -1.3081 -0.1892  1.1495  4.6980 \n",
       "\n",
       "Coefficients:\n",
       "             Estimate Std. Error t value Pr(>|t|)    \n",
       "(Intercept)  7.109190   0.943940   7.531 3.46e-13 ***\n",
       "CompPrice    0.093904   0.007792  12.051  < 2e-16 ***\n",
       "Income       0.013092   0.003465   3.779 0.000182 ***\n",
       "Advertising  0.130611   0.014572   8.963  < 2e-16 ***\n",
       "Price       -0.092543   0.005044 -18.347  < 2e-16 ***\n",
       "Age         -0.044971   0.005994  -7.503 4.20e-13 ***\n",
       "---\n",
       "Signif. codes:  0 '***' 0.001 '**' 0.01 '*' 0.05 '.' 0.1 ' ' 1\n",
       "\n",
       "Residual standard error: 1.927 on 394 degrees of freedom\n",
       "Multiple R-squared:  0.5403,\tAdjusted R-squared:  0.5345 \n",
       "F-statistic: 92.62 on 5 and 394 DF,  p-value: < 2.2e-16\n"
      ]
     },
     "metadata": {},
     "output_type": "display_data"
    }
   ],
   "source": [
    "backward %>% summary"
   ]
  },
  {
   "cell_type": "markdown",
   "id": "e4233d61",
   "metadata": {},
   "source": [
    "- AIC값을 기준으로 후진제거법 실행 결과 Population 변수가 초기 모형에서 소거됨\n",
    "- 추정된 회귀식 : Sales = 7.109190  + 0.093904 * CompPrice + 0.013092 * Income + 0.130611 * Advertising - 0.092543 * Price - 0.044971 * Age "
   ]
  },
  {
   "cell_type": "markdown",
   "id": "d7137c70",
   "metadata": {},
   "source": [
    "### 4)\n",
    "- 앞서 생성한 회귀모델에 대해 해석하시오."
   ]
  },
  {
   "cell_type": "markdown",
   "id": "b1000f65",
   "metadata": {},
   "source": [
    "- 모든 설명변수는 통계적으로 유의하며, 해당 모형은 전체 데이터의 약 54.03%를 설명\n",
    "- 모형의 F-통게량은 P-value는 0.05보다 작음으로, 해당 모형은 통계적으로 유의"
   ]
  },
  {
   "cell_type": "markdown",
   "id": "bf0ea645",
   "metadata": {},
   "source": [
    "## 02. 정형 데이터마이닝"
   ]
  },
  {
   "cell_type": "markdown",
   "id": "7a8ee719",
   "metadata": {},
   "source": [
    "### 1)\n",
    "- \"BlackFriday\"데이터에서 Product_Category_2, Product_Category_3의 NA 값에 0값으로 대체하고 Product_categry_1, 2, 3 변수의 값을 다 더한 Product_all 변수를 생성하여 추가하라. 그리고 User_ID를 character 변수로, Occupation, Marital_Status, Product_Category_1, Product_Category_2, Product_Category_3 변수를 범주형 변수로 변환하시오. 마지막으로 범주형 변수인 Gender, Age, City_Category, Stay_In_Current_City_Years를 더미변수로 변환해서 BlackFriday 데이터에 추가하시오."
   ]
  },
  {
   "cell_type": "code",
   "execution_count": 33,
   "id": "d5c3fcd3",
   "metadata": {},
   "outputs": [],
   "source": [
    "blackfriday <- read.csv(\"BlackFriday.csv\")"
   ]
  },
  {
   "cell_type": "code",
   "execution_count": 37,
   "id": "ea2adfc8",
   "metadata": {},
   "outputs": [
    {
     "data": {
      "text/html": [
       "<style>\n",
       ".list-inline {list-style: none; margin:0; padding: 0}\n",
       ".list-inline>li {display: inline-block}\n",
       ".list-inline>li:not(:last-child)::after {content: \"\\00b7\"; padding: 0 .5ex}\n",
       "</style>\n",
       "<ol class=list-inline><li>537577</li><li>12</li></ol>\n"
      ],
      "text/latex": [
       "\\begin{enumerate*}\n",
       "\\item 537577\n",
       "\\item 12\n",
       "\\end{enumerate*}\n"
      ],
      "text/markdown": [
       "1. 537577\n",
       "2. 12\n",
       "\n",
       "\n"
      ],
      "text/plain": [
       "[1] 537577     12"
      ]
     },
     "metadata": {},
     "output_type": "display_data"
    },
    {
     "data": {
      "text/html": [
       "540285"
      ],
      "text/latex": [
       "540285"
      ],
      "text/markdown": [
       "540285"
      ],
      "text/plain": [
       "[1] 540285"
      ]
     },
     "metadata": {},
     "output_type": "display_data"
    },
    {
     "name": "stdout",
     "output_type": "stream",
     "text": [
      "'data.frame':\t537577 obs. of  12 variables:\n",
      " $ User_ID                   : int  1000001 1000001 1000001 1000001 1000002 1000003 1000004 1000004 1000004 1000005 ...\n",
      " $ Product_ID                : chr  \"P00069042\" \"P00248942\" \"P00087842\" \"P00085442\" ...\n",
      " $ Gender                    : chr  \"F\" \"F\" \"F\" \"F\" ...\n",
      " $ Age                       : chr  \"0-17\" \"0-17\" \"0-17\" \"0-17\" ...\n",
      " $ Occupation                : int  10 10 10 10 16 15 7 7 7 20 ...\n",
      " $ City_Category             : chr  \"A\" \"A\" \"A\" \"A\" ...\n",
      " $ Stay_In_Current_City_Years: chr  \"2\" \"2\" \"2\" \"2\" ...\n",
      " $ Marital_Status            : int  0 0 0 0 0 0 1 1 1 1 ...\n",
      " $ Product_Category_1        : int  3 1 12 12 8 1 1 1 1 8 ...\n",
      " $ Product_Category_2        : int  NA 6 NA 14 NA 2 8 15 16 NA ...\n",
      " $ Product_Category_3        : int  NA 14 NA NA NA NA 17 NA NA NA ...\n",
      " $ Purchase                  : int  8370 15200 1422 1057 7969 15227 19215 15854 15686 7871 ...\n"
     ]
    }
   ],
   "source": [
    "blackfriday %>% dim\n",
    "sum(is.na(blackfriday))\n",
    "str(blackfriday)"
   ]
  },
  {
   "cell_type": "code",
   "execution_count": 182,
   "id": "ae252aa4",
   "metadata": {},
   "outputs": [],
   "source": [
    "blackfriday <- blackfriday %>%\n",
    "    mutate(Product_Category_1 = ifelse(is.na(Product_Category_1), 0, Product_Category_1),\n",
    "           Product_Category_2 = ifelse(is.na(Product_Category_2), 0, Product_Category_2),\n",
    "           Product_Category_3 = ifelse(is.na(Product_Category_3), 0, Product_Category_3)) %>%\n",
    "    mutate(Product_all = Product_Category_1 + Product_Category_2 + Product_Category_3) %>%\n",
    "    mutate(User_ID = as.character(User_ID),\n",
    "           Occupation = as.factor(Occupation),\n",
    "           Marital_Status = as.factor(Marital_Status),\n",
    "           Product_Category_1 = as.factor(Product_Category_1),\n",
    "           Product_Category_2 = as.factor(Product_Category_2),\n",
    "           Product_Category_3 = as.factor(Product_Category_3))"
   ]
  },
  {
   "cell_type": "code",
   "execution_count": 187,
   "id": "9c4e06e5",
   "metadata": {},
   "outputs": [],
   "source": [
    "library(caret)"
   ]
  },
  {
   "cell_type": "code",
   "execution_count": 188,
   "id": "800b10b6",
   "metadata": {},
   "outputs": [],
   "source": [
    "dummy <- dummyVars(\"~ Gender + Age + City_Category + Stay_In_Current_City_Years\", data = blkday2) "
   ]
  },
  {
   "cell_type": "code",
   "execution_count": 197,
   "id": "30ce27e3",
   "metadata": {},
   "outputs": [],
   "source": [
    "blkday2 <- blackfriday %>% cbind(predict(dummy, newdata = blkday2))"
   ]
  },
  {
   "cell_type": "markdown",
   "id": "64444d91",
   "metadata": {},
   "source": [
    "### 2) \n",
    "- BlackFriday_1 데이터에서 User_ID, Product_ID, Gender, Age, City_Category, Stay_In_Current_City_Years, Product_all  변수를 제외한 나머지 변수들을 활용하여 kmeans 군집분석을 수행하고 해석하시오.(범주형 변수는 수치형 변수로 변환하여 분석에 활용하시오.) 그리고 최적의 군집 개수를 찾아서 만일 군집 개수가 이전 결과와 다르면 분석을 다시 수행하여 해석하시오."
   ]
  },
  {
   "cell_type": "code",
   "execution_count": 198,
   "id": "44f05005",
   "metadata": {},
   "outputs": [],
   "source": [
    "vars <- c(\"User_ID\", \"Product_ID\", \"Gender\", \"Age\", \"City_Category\", \"Stay_In_Current_City_Years\", \"Product_all\")"
   ]
  },
  {
   "cell_type": "code",
   "execution_count": 199,
   "id": "6b93d34a",
   "metadata": {},
   "outputs": [],
   "source": [
    "blkday3 <- blkday2 %>% select(- vars) %>%\n",
    "    mutate(Occupation = as.numeric(Occupation),\n",
    "           Marital_Status = as.numeric(Marital_Status),\n",
    "           Product_Category_1 = as.numeric(Product_Category_1),\n",
    "           Product_Category_2 = as.numeric(Product_Category_2),\n",
    "           Product_Category_3 = as.numeric(Product_Category_3))"
   ]
  },
  {
   "cell_type": "code",
   "execution_count": 200,
   "id": "a42f9e8e",
   "metadata": {},
   "outputs": [],
   "source": [
    "set.seed(1234)\n",
    "km3 <- kmeans(blkday3, 3)"
   ]
  },
  {
   "cell_type": "code",
   "execution_count": 201,
   "id": "953d0a55",
   "metadata": {},
   "outputs": [
    {
     "data": {
      "text/html": [
       "<dl>\n",
       "\t<dt>$names</dt>\n",
       "\t\t<dd><style>\n",
       ".list-inline {list-style: none; margin:0; padding: 0}\n",
       ".list-inline>li {display: inline-block}\n",
       ".list-inline>li:not(:last-child)::after {content: \"\\00b7\"; padding: 0 .5ex}\n",
       "</style>\n",
       "<ol class=list-inline><li>'cluster'</li><li>'centers'</li><li>'totss'</li><li>'withinss'</li><li>'tot.withinss'</li><li>'betweenss'</li><li>'size'</li><li>'iter'</li><li>'ifault'</li></ol>\n",
       "</dd>\n",
       "\t<dt>$class</dt>\n",
       "\t\t<dd>'kmeans'</dd>\n",
       "</dl>\n"
      ],
      "text/latex": [
       "\\begin{description}\n",
       "\\item[\\$names] \\begin{enumerate*}\n",
       "\\item 'cluster'\n",
       "\\item 'centers'\n",
       "\\item 'totss'\n",
       "\\item 'withinss'\n",
       "\\item 'tot.withinss'\n",
       "\\item 'betweenss'\n",
       "\\item 'size'\n",
       "\\item 'iter'\n",
       "\\item 'ifault'\n",
       "\\end{enumerate*}\n",
       "\n",
       "\\item[\\$class] 'kmeans'\n",
       "\\end{description}\n"
      ],
      "text/markdown": [
       "$names\n",
       ":   1. 'cluster'\n",
       "2. 'centers'\n",
       "3. 'totss'\n",
       "4. 'withinss'\n",
       "5. 'tot.withinss'\n",
       "6. 'betweenss'\n",
       "7. 'size'\n",
       "8. 'iter'\n",
       "9. 'ifault'\n",
       "\n",
       "\n",
       "\n",
       "$class\n",
       ":   'kmeans'\n",
       "\n",
       "\n"
      ],
      "text/plain": [
       "$names\n",
       "[1] \"cluster\"      \"centers\"      \"totss\"        \"withinss\"     \"tot.withinss\"\n",
       "[6] \"betweenss\"    \"size\"         \"iter\"         \"ifault\"      \n",
       "\n",
       "$class\n",
       "[1] \"kmeans\"\n"
      ]
     },
     "metadata": {},
     "output_type": "display_data"
    }
   ],
   "source": [
    "km3 %>% attributes"
   ]
  },
  {
   "cell_type": "code",
   "execution_count": 202,
   "id": "329bed64",
   "metadata": {},
   "outputs": [
    {
     "data": {
      "text/html": [
       "<style>\n",
       ".list-inline {list-style: none; margin:0; padding: 0}\n",
       ".list-inline>li {display: inline-block}\n",
       ".list-inline>li:not(:last-child)::after {content: \"\\00b7\"; padding: 0 .5ex}\n",
       "</style>\n",
       "<ol class=list-inline><li>119245</li><li>252697</li><li>165635</li></ol>\n"
      ],
      "text/latex": [
       "\\begin{enumerate*}\n",
       "\\item 119245\n",
       "\\item 252697\n",
       "\\item 165635\n",
       "\\end{enumerate*}\n"
      ],
      "text/markdown": [
       "1. 119245\n",
       "2. 252697\n",
       "3. 165635\n",
       "\n",
       "\n"
      ],
      "text/plain": [
       "[1] 119245 252697 165635"
      ]
     },
     "metadata": {},
     "output_type": "display_data"
    }
   ],
   "source": [
    "km3$size"
   ]
  },
  {
   "cell_type": "code",
   "execution_count": 203,
   "id": "09c5e54f",
   "metadata": {},
   "outputs": [
    {
     "data": {
      "text/html": [
       "13337637129998.6"
      ],
      "text/latex": [
       "13337637129998.6"
      ],
      "text/markdown": [
       "13337637129998.6"
      ],
      "text/plain": [
       "[1] 1.333764e+13"
      ]
     },
     "metadata": {},
     "output_type": "display_data"
    },
    {
     "data": {
      "text/html": [
       "11468389514772.3"
      ],
      "text/latex": [
       "11468389514772.3"
      ],
      "text/markdown": [
       "11468389514772.3"
      ],
      "text/plain": [
       "[1] 1.146839e+13"
      ]
     },
     "metadata": {},
     "output_type": "display_data"
    },
    {
     "data": {
      "text/html": [
       "<style>\n",
       ".list-inline {list-style: none; margin:0; padding: 0}\n",
       ".list-inline>li {display: inline-block}\n",
       ".list-inline>li:not(:last-child)::after {content: \"\\00b7\"; padding: 0 .5ex}\n",
       "</style>\n",
       "<ol class=list-inline><li>636141159429.442</li><li>810472759392.483</li><li>422633696404.337</li></ol>\n"
      ],
      "text/latex": [
       "\\begin{enumerate*}\n",
       "\\item 636141159429.442\n",
       "\\item 810472759392.483\n",
       "\\item 422633696404.337\n",
       "\\end{enumerate*}\n"
      ],
      "text/markdown": [
       "1. 636141159429.442\n",
       "2. 810472759392.483\n",
       "3. 422633696404.337\n",
       "\n",
       "\n"
      ],
      "text/plain": [
       "[1] 636141159429 810472759392 422633696404"
      ]
     },
     "metadata": {},
     "output_type": "display_data"
    },
    {
     "data": {
      "text/html": [
       "1869247615226.26"
      ],
      "text/latex": [
       "1869247615226.26"
      ],
      "text/markdown": [
       "1869247615226.26"
      ],
      "text/plain": [
       "[1] 1.869248e+12"
      ]
     },
     "metadata": {},
     "output_type": "display_data"
    }
   ],
   "source": [
    "km3$totss # 전체 변동\n",
    "km3$betweenss # 군집간 변동\n",
    "\n",
    "km3$withinss # 군집별 군집내 변동\n",
    "km3$tot.withinss # 군집내 총변동"
   ]
  },
  {
   "cell_type": "code",
   "execution_count": 204,
   "id": "89d5ab52",
   "metadata": {},
   "outputs": [
    {
     "data": {
      "text/html": [
       "0.859851666602774"
      ],
      "text/latex": [
       "0.859851666602774"
      ],
      "text/markdown": [
       "0.859851666602774"
      ],
      "text/plain": [
       "[1] 0.8598517"
      ]
     },
     "metadata": {},
     "output_type": "display_data"
    }
   ],
   "source": [
    "km3$betweenss / km3$totss"
   ]
  },
  {
   "cell_type": "markdown",
   "id": "7df530b1",
   "metadata": {},
   "source": [
    "- K-Means Clustering with Elbow\n",
    "\n",
    "\n",
    "- 군집의 집단 내 제곱합 그래프는 얼마나 군집화가 잘되었는가를 알려주는 척도로 군집내 총 제곱합(WSS, Total Within Sum of Squares)를 최소화 하는 것을 목적으로 한다.\n",
    "- 군집 수에 따른 군집 내 총 제곱합의 그래프를 그려 최적의 군집수 선정, 급격히 감소하는 지점까지 군집으로 설정하여 최적의 군집 개수 결정\n",
    "\n",
    "\n",
    "\n",
    "- K = 3으로 하여 3-Means 군집화 시행결과, 각 군집에 각각 119227, 165635, 252715개씩 형성이 되었다.\n",
    "- Within cluster sum of squares by cluster은 각 군집의 중심과 각 군집에 속한 개체간 거리의 제곱합이며, \n",
    "- between_ss / total_SS의 값은 전체 변동에서 군집간 변동이 차지하는 비율\n",
    "- WSS = between_SS / total_SS값이 86%로 나타나 군집이 잘 되었다고 판단할 수 있다."
   ]
  },
  {
   "cell_type": "code",
   "execution_count": 205,
   "id": "74632d65",
   "metadata": {},
   "outputs": [],
   "source": [
    "library(NbClust)\n",
    "library(cluster)\n",
    "library(factoextra)\n",
    "library(FactoMineR)"
   ]
  },
  {
   "cell_type": "code",
   "execution_count": 206,
   "id": "a8a881ae",
   "metadata": {},
   "outputs": [],
   "source": [
    "## fviz_nbclust(blkday3, kmeans, k.max = 15, method = \"wss\")\n",
    "## NbClust(blkday3, min.nc = 2, max.nc = 15, method = \"kmeans\")"
   ]
  },
  {
   "cell_type": "code",
   "execution_count": 207,
   "id": "c2e7ca8c",
   "metadata": {},
   "outputs": [],
   "source": [
    "wss <- c()\n",
    "k = 15\n",
    "for (i in 1:k) {\n",
    "    set.seed(1234)\n",
    "    km <- kmeans(blkday3, i)\n",
    "    wss[i] <- km$tot.withinss\n",
    "}"
   ]
  },
  {
   "cell_type": "code",
   "execution_count": 208,
   "id": "43e40d87",
   "metadata": {},
   "outputs": [
    {
     "data": {
      "image/png": "[encoded data removed]",
      "text/plain": [
       "plot without title"
      ]
     },
     "metadata": {
      "image/png": {
       "height": 420,
       "width": 420
      }
     },
     "output_type": "display_data"
    }
   ],
   "source": [
    "elbow <- data.frame(wss = wss[-1], k = 2:k)\n",
    "elbow %>% ggplot(aes(k, wss)) + geom_point() + geom_line()"
   ]
  },
  {
   "cell_type": "markdown",
   "id": "88072179",
   "metadata": {},
   "source": [
    "- 곡선이 급격하게 감소하는 지점이 4로 나타나 최적의 군집 수를 4개로 지정"
   ]
  },
  {
   "cell_type": "code",
   "execution_count": 209,
   "id": "e4a10aee",
   "metadata": {},
   "outputs": [],
   "source": [
    "km4 <- kmeans(blkday3, 4)"
   ]
  },
  {
   "cell_type": "code",
   "execution_count": 210,
   "id": "1882a451",
   "metadata": {},
   "outputs": [
    {
     "data": {
      "text/html": [
       "<style>\n",
       ".list-inline {list-style: none; margin:0; padding: 0}\n",
       ".list-inline>li {display: inline-block}\n",
       ".list-inline>li:not(:last-child)::after {content: \"\\00b7\"; padding: 0 .5ex}\n",
       "</style>\n",
       "<ol class=list-inline><li>109575</li><li>89439</li><li>106191</li><li>232372</li></ol>\n"
      ],
      "text/latex": [
       "\\begin{enumerate*}\n",
       "\\item 109575\n",
       "\\item 89439\n",
       "\\item 106191\n",
       "\\item 232372\n",
       "\\end{enumerate*}\n"
      ],
      "text/markdown": [
       "1. 109575\n",
       "2. 89439\n",
       "3. 106191\n",
       "4. 232372\n",
       "\n",
       "\n"
      ],
      "text/plain": [
       "[1] 109575  89439 106191 232372"
      ]
     },
     "metadata": {},
     "output_type": "display_data"
    }
   ],
   "source": [
    "km4$size"
   ]
  },
  {
   "cell_type": "code",
   "execution_count": 211,
   "id": "db9f0a00",
   "metadata": {},
   "outputs": [
    {
     "data": {
      "text/html": [
       "0.918645774249377"
      ],
      "text/latex": [
       "0.918645774249377"
      ],
      "text/markdown": [
       "0.918645774249377"
      ],
      "text/plain": [
       "[1] 0.9186458"
      ]
     },
     "metadata": {},
     "output_type": "display_data"
    }
   ],
   "source": [
    "km4$betweenss / km4$totss"
   ]
  },
  {
   "cell_type": "markdown",
   "id": "d74cfd99",
   "metadata": {},
   "source": [
    "- K = 4으로 하여 4-Means 군집화 시행결과, 각 군집에 각각 109575, 89439, 106191, 232372개씩 형성이 되었다.\n",
    "- Within cluster sum of squares by cluster은 각 군집의 중심과 각 군집에 속한 개체간 거리의 제곱합이며, \n",
    "- between_ss / total_SS의 값은 전체 변동에서 군집간 변동이 차지하는 비율이다\n",
    "- WSS = between_SS / total_SS값이 91%로 나타나, 이전의 군집화보다 군집이 잘 되었다고 판단할 수 있다."
   ]
  },
  {
   "cell_type": "markdown",
   "id": "71f73818",
   "metadata": {},
   "source": [
    "### 3)\n",
    "- 최적의 군집 개수를 찾아 재수행한 군집분석의 결과로 분류된 군집번호를 원본 데이터인 BlackFriday데이터의 각 행에 맞게 labelling하여 clust라는 변수로 저장하고 csv 파일로 출력하시오 마지막으로 clust별 Gender, Age, Purchase으로 특성을 파악하시오."
   ]
  },
  {
   "cell_type": "code",
   "execution_count": 212,
   "id": "a2b875bb",
   "metadata": {},
   "outputs": [],
   "source": [
    "submission <- blackfriday %>% \n",
    "    mutate(clust = km4$cluster %>% as.numeric)"
   ]
  },
  {
   "cell_type": "code",
   "execution_count": 213,
   "id": "2537385b",
   "metadata": {},
   "outputs": [
    {
     "name": "stdout",
     "output_type": "stream",
     "text": [
      "'data.frame':\t537577 obs. of  14 variables:\n",
      " $ User_ID                   : chr  \"1000001\" \"1000001\" \"1000001\" \"1000001\" ...\n",
      " $ Product_ID                : chr  \"P00069042\" \"P00248942\" \"P00087842\" \"P00085442\" ...\n",
      " $ Gender                    : chr  \"F\" \"F\" \"F\" \"F\" ...\n",
      " $ Age                       : chr  \"0-17\" \"0-17\" \"0-17\" \"0-17\" ...\n",
      " $ Occupation                : Factor w/ 21 levels \"0\",\"1\",\"2\",\"3\",..: 11 11 11 11 17 16 8 8 8 21 ...\n",
      " $ City_Category             : chr  \"A\" \"A\" \"A\" \"A\" ...\n",
      " $ Stay_In_Current_City_Years: chr  \"2\" \"2\" \"2\" \"2\" ...\n",
      " $ Marital_Status            : Factor w/ 2 levels \"0\",\"1\": 1 1 1 1 1 1 2 2 2 2 ...\n",
      " $ Product_Category_1        : Factor w/ 18 levels \"1\",\"2\",\"3\",\"4\",..: 3 1 12 12 8 1 1 1 1 8 ...\n",
      " $ Product_Category_2        : Factor w/ 18 levels \"0\",\"2\",\"3\",\"4\",..: 1 6 1 14 1 2 8 15 16 1 ...\n",
      " $ Product_Category_3        : Factor w/ 16 levels \"0\",\"3\",\"4\",\"5\",..: 1 12 1 1 1 1 15 1 1 1 ...\n",
      " $ Purchase                  : int  8370 15200 1422 1057 7969 15227 19215 15854 15686 7871 ...\n",
      " $ Product_all               : num  3 21 12 26 8 3 26 16 17 8 ...\n",
      " $ clust                     : num  4 1 2 2 4 1 1 1 1 4 ...\n"
     ]
    }
   ],
   "source": [
    "submission %>% str"
   ]
  },
  {
   "cell_type": "code",
   "execution_count": 214,
   "id": "fb71a271",
   "metadata": {},
   "outputs": [],
   "source": [
    "write.csv(submission, \"BlackFriday_clust.csv\")"
   ]
  },
  {
   "cell_type": "code",
   "execution_count": 215,
   "id": "cd868207",
   "metadata": {},
   "outputs": [
    {
     "data": {
      "text/plain": [
       "\n",
       "     1      2      3      4 \n",
       "109575  89439 106191 232372 "
      ]
     },
     "metadata": {},
     "output_type": "display_data"
    }
   ],
   "source": [
    "table(submission$clust)"
   ]
  },
  {
   "cell_type": "code",
   "execution_count": 251,
   "id": "5a3db68e",
   "metadata": {
    "scrolled": true
   },
   "outputs": [
    {
     "data": {
      "text/html": [
       "<table class=\"dataframe\">\n",
       "<caption>A tibble: 4 × 3</caption>\n",
       "<thead>\n",
       "\t<tr><th scope=col>clust</th><th scope=col>F</th><th scope=col>M</th></tr>\n",
       "\t<tr><th scope=col>&lt;dbl&gt;</th><th scope=col>&lt;int&gt;</th><th scope=col>&lt;int&gt;</th></tr>\n",
       "</thead>\n",
       "<tbody>\n",
       "\t<tr><td>1</td><td>21244</td><td> 88331</td></tr>\n",
       "\t<tr><td>2</td><td>22650</td><td> 66789</td></tr>\n",
       "\t<tr><td>3</td><td>25180</td><td> 81011</td></tr>\n",
       "\t<tr><td>4</td><td>63123</td><td>169249</td></tr>\n",
       "</tbody>\n",
       "</table>\n"
      ],
      "text/latex": [
       "A tibble: 4 × 3\n",
       "\\begin{tabular}{lll}\n",
       " clust & F & M\\\\\n",
       " <dbl> & <int> & <int>\\\\\n",
       "\\hline\n",
       "\t 1 & 21244 &  88331\\\\\n",
       "\t 2 & 22650 &  66789\\\\\n",
       "\t 3 & 25180 &  81011\\\\\n",
       "\t 4 & 63123 & 169249\\\\\n",
       "\\end{tabular}\n"
      ],
      "text/markdown": [
       "\n",
       "A tibble: 4 × 3\n",
       "\n",
       "| clust &lt;dbl&gt; | F &lt;int&gt; | M &lt;int&gt; |\n",
       "|---|---|---|\n",
       "| 1 | 21244 |  88331 |\n",
       "| 2 | 22650 |  66789 |\n",
       "| 3 | 25180 |  81011 |\n",
       "| 4 | 63123 | 169249 |\n",
       "\n"
      ],
      "text/plain": [
       "  clust F     M     \n",
       "1 1     21244  88331\n",
       "2 2     22650  66789\n",
       "3 3     25180  81011\n",
       "4 4     63123 169249"
      ]
     },
     "metadata": {},
     "output_type": "display_data"
    }
   ],
   "source": [
    "submission %>% group_by(Gender) %>%\n",
    "    count(clust) %>%\n",
    "    spread(key = Gender, value = n)"
   ]
  },
  {
   "cell_type": "markdown",
   "id": "87617a9a",
   "metadata": {},
   "source": [
    "- clust별 Gender를 확인한 결과 모든 clust에서 Male의 숫자가 높았으며, 비율의 차이가 가장 많이 나는 군집은 3번 군집으로 나타났다."
   ]
  },
  {
   "cell_type": "code",
   "execution_count": 250,
   "id": "456afc3e",
   "metadata": {},
   "outputs": [
    {
     "data": {
      "text/html": [
       "<table class=\"dataframe\">\n",
       "<caption>A tibble: 4 × 8</caption>\n",
       "<thead>\n",
       "\t<tr><th scope=col>clust</th><th scope=col>0-17</th><th scope=col>18-25</th><th scope=col>26-35</th><th scope=col>36-45</th><th scope=col>46-50</th><th scope=col>51-55</th><th scope=col>55+</th></tr>\n",
       "\t<tr><th scope=col>&lt;dbl&gt;</th><th scope=col>&lt;int&gt;</th><th scope=col>&lt;int&gt;</th><th scope=col>&lt;int&gt;</th><th scope=col>&lt;int&gt;</th><th scope=col>&lt;int&gt;</th><th scope=col>&lt;int&gt;</th><th scope=col>&lt;int&gt;</th></tr>\n",
       "</thead>\n",
       "<tbody>\n",
       "\t<tr><td>1</td><td>2736</td><td>19563</td><td>43837</td><td>22331</td><td> 8756</td><td> 8151</td><td>4201</td></tr>\n",
       "\t<tr><td>2</td><td>2977</td><td>17694</td><td>36319</td><td>17091</td><td> 7136</td><td> 5263</td><td>2959</td></tr>\n",
       "\t<tr><td>3</td><td>2916</td><td>18918</td><td>41601</td><td>21543</td><td> 8859</td><td> 7842</td><td>4512</td></tr>\n",
       "\t<tr><td>4</td><td>6078</td><td>41459</td><td>92933</td><td>46534</td><td>19775</td><td>16362</td><td>9231</td></tr>\n",
       "</tbody>\n",
       "</table>\n"
      ],
      "text/latex": [
       "A tibble: 4 × 8\n",
       "\\begin{tabular}{llllllll}\n",
       " clust & 0-17 & 18-25 & 26-35 & 36-45 & 46-50 & 51-55 & 55+\\\\\n",
       " <dbl> & <int> & <int> & <int> & <int> & <int> & <int> & <int>\\\\\n",
       "\\hline\n",
       "\t 1 & 2736 & 19563 & 43837 & 22331 &  8756 &  8151 & 4201\\\\\n",
       "\t 2 & 2977 & 17694 & 36319 & 17091 &  7136 &  5263 & 2959\\\\\n",
       "\t 3 & 2916 & 18918 & 41601 & 21543 &  8859 &  7842 & 4512\\\\\n",
       "\t 4 & 6078 & 41459 & 92933 & 46534 & 19775 & 16362 & 9231\\\\\n",
       "\\end{tabular}\n"
      ],
      "text/markdown": [
       "\n",
       "A tibble: 4 × 8\n",
       "\n",
       "| clust &lt;dbl&gt; | 0-17 &lt;int&gt; | 18-25 &lt;int&gt; | 26-35 &lt;int&gt; | 36-45 &lt;int&gt; | 46-50 &lt;int&gt; | 51-55 &lt;int&gt; | 55+ &lt;int&gt; |\n",
       "|---|---|---|---|---|---|---|---|\n",
       "| 1 | 2736 | 19563 | 43837 | 22331 |  8756 |  8151 | 4201 |\n",
       "| 2 | 2977 | 17694 | 36319 | 17091 |  7136 |  5263 | 2959 |\n",
       "| 3 | 2916 | 18918 | 41601 | 21543 |  8859 |  7842 | 4512 |\n",
       "| 4 | 6078 | 41459 | 92933 | 46534 | 19775 | 16362 | 9231 |\n",
       "\n"
      ],
      "text/plain": [
       "  clust 0-17 18-25 26-35 36-45 46-50 51-55 55+ \n",
       "1 1     2736 19563 43837 22331  8756  8151 4201\n",
       "2 2     2977 17694 36319 17091  7136  5263 2959\n",
       "3 3     2916 18918 41601 21543  8859  7842 4512\n",
       "4 4     6078 41459 92933 46534 19775 16362 9231"
      ]
     },
     "metadata": {},
     "output_type": "display_data"
    }
   ],
   "source": [
    "submission %>% group_by(Age) %>%\n",
    "    count(clust) %>% \n",
    "    spread(key = Age, value = n)"
   ]
  },
  {
   "cell_type": "code",
   "execution_count": 246,
   "id": "fa8a844f",
   "metadata": {},
   "outputs": [
    {
     "data": {
      "text/html": [
       "<table class=\"dataframe\">\n",
       "<caption>A matrix: 2 × 7 of type chr</caption>\n",
       "<tbody>\n",
       "\t<tr><th scope=row>Age</th><td>0-17  </td><td>18-25 </td><td>26-35 </td><td>36-45 </td><td>46-50 </td><td>51-55 </td><td>55+   </td></tr>\n",
       "\t<tr><th scope=row>n</th><td> 14707</td><td> 97634</td><td>214690</td><td>107499</td><td> 44526</td><td> 37618</td><td> 20903</td></tr>\n",
       "</tbody>\n",
       "</table>\n"
      ],
      "text/latex": [
       "A matrix: 2 × 7 of type chr\n",
       "\\begin{tabular}{r|lllllll}\n",
       "\tAge & 0-17   & 18-25  & 26-35  & 36-45  & 46-50  & 51-55  & 55+   \\\\\n",
       "\tn &  14707 &  97634 & 214690 & 107499 &  44526 &  37618 &  20903\\\\\n",
       "\\end{tabular}\n"
      ],
      "text/markdown": [
       "\n",
       "A matrix: 2 × 7 of type chr\n",
       "\n",
       "| Age | 0-17   | 18-25  | 26-35  | 36-45  | 46-50  | 51-55  | 55+    |\n",
       "| n |  14707 |  97634 | 214690 | 107499 |  44526 |  37618 |  20903 |\n",
       "\n"
      ],
      "text/plain": [
       "    [,1]   [,2]   [,3]   [,4]   [,5]   [,6]   [,7]  \n",
       "Age 0-17   18-25  26-35  36-45  46-50  51-55  55+   \n",
       "n    14707  97634 214690 107499  44526  37618  20903"
      ]
     },
     "metadata": {},
     "output_type": "display_data"
    }
   ],
   "source": [
    "submission %>% group_by(Age) %>%\n",
    "    count() %>% t()"
   ]
  },
  {
   "cell_type": "markdown",
   "id": "12c20e8b",
   "metadata": {},
   "source": [
    "- 전체의 연령대를 확인한 결과, \"26-35\"가 214690로 가장 높게 나타났으며, 그 다음으로 \"36-45\", \"18-25\", \"46-50\", \"51-55\", \"55+\", \"0-17\"순으로 구매가 많음을 확인할 수 있다.\n",
    "- clust별 Age를 확인한 결과 모든 clust에서 \"26-35\"의 숫자가 가장 높았으며, 4번 군집을 제외하고 전체 연령대의 결과와 동일한 결과로 구매가 있음을 확인할 수 있다."
   ]
  },
  {
   "cell_type": "code",
   "execution_count": 223,
   "id": "2c57ee42",
   "metadata": {
    "scrolled": true
   },
   "outputs": [
    {
     "data": {
      "text/html": [
       "<table class=\"dataframe\">\n",
       "<caption>A tibble: 4 × 2</caption>\n",
       "<thead>\n",
       "\t<tr><th scope=col>clust</th><th scope=col>mean</th></tr>\n",
       "\t<tr><th scope=col>&lt;dbl&gt;</th><th scope=col>&lt;dbl&gt;</th></tr>\n",
       "</thead>\n",
       "<tbody>\n",
       "\t<tr><td>1</td><td>17380.202</td></tr>\n",
       "\t<tr><td>2</td><td> 3000.617</td></tr>\n",
       "\t<tr><td>3</td><td>11276.081</td></tr>\n",
       "\t<tr><td>4</td><td> 7089.676</td></tr>\n",
       "</tbody>\n",
       "</table>\n"
      ],
      "text/latex": [
       "A tibble: 4 × 2\n",
       "\\begin{tabular}{ll}\n",
       " clust & mean\\\\\n",
       " <dbl> & <dbl>\\\\\n",
       "\\hline\n",
       "\t 1 & 17380.202\\\\\n",
       "\t 2 &  3000.617\\\\\n",
       "\t 3 & 11276.081\\\\\n",
       "\t 4 &  7089.676\\\\\n",
       "\\end{tabular}\n"
      ],
      "text/markdown": [
       "\n",
       "A tibble: 4 × 2\n",
       "\n",
       "| clust &lt;dbl&gt; | mean &lt;dbl&gt; |\n",
       "|---|---|\n",
       "| 1 | 17380.202 |\n",
       "| 2 |  3000.617 |\n",
       "| 3 | 11276.081 |\n",
       "| 4 |  7089.676 |\n",
       "\n"
      ],
      "text/plain": [
       "  clust mean     \n",
       "1 1     17380.202\n",
       "2 2      3000.617\n",
       "3 3     11276.081\n",
       "4 4      7089.676"
      ]
     },
     "metadata": {},
     "output_type": "display_data"
    }
   ],
   "source": [
    "submission %>% group_by(clust) %>%\n",
    "    summarise(mean = mean(Purchase))"
   ]
  },
  {
   "cell_type": "markdown",
   "id": "193863c3",
   "metadata": {},
   "source": [
    "- clust별 Purchase를 확인한 결과, 1번 군집의 평균 물건 구매 값이 가장 높게 나타났으며, 1 > 3 > 4 > 2 순으로 평균 가격이 높다.\n"
   ]
  },
  {
   "cell_type": "code",
   "execution_count": 224,
   "id": "a5a4be43",
   "metadata": {
    "scrolled": true
   },
   "outputs": [
    {
     "data": {
      "text/html": [
       "<table class=\"dataframe\">\n",
       "<caption>A tibble: 7 × 2</caption>\n",
       "<thead>\n",
       "\t<tr><th scope=col>Age</th><th scope=col>mean</th></tr>\n",
       "\t<tr><th scope=col>&lt;chr&gt;</th><th scope=col>&lt;dbl&gt;</th></tr>\n",
       "</thead>\n",
       "<tbody>\n",
       "\t<tr><td>0-17 </td><td>9020.127</td></tr>\n",
       "\t<tr><td>18-25</td><td>9235.198</td></tr>\n",
       "\t<tr><td>26-35</td><td>9314.589</td></tr>\n",
       "\t<tr><td>36-45</td><td>9401.479</td></tr>\n",
       "\t<tr><td>46-50</td><td>9284.872</td></tr>\n",
       "\t<tr><td>51-55</td><td>9620.617</td></tr>\n",
       "\t<tr><td>55+  </td><td>9453.899</td></tr>\n",
       "</tbody>\n",
       "</table>\n"
      ],
      "text/latex": [
       "A tibble: 7 × 2\n",
       "\\begin{tabular}{ll}\n",
       " Age & mean\\\\\n",
       " <chr> & <dbl>\\\\\n",
       "\\hline\n",
       "\t 0-17  & 9020.127\\\\\n",
       "\t 18-25 & 9235.198\\\\\n",
       "\t 26-35 & 9314.589\\\\\n",
       "\t 36-45 & 9401.479\\\\\n",
       "\t 46-50 & 9284.872\\\\\n",
       "\t 51-55 & 9620.617\\\\\n",
       "\t 55+   & 9453.899\\\\\n",
       "\\end{tabular}\n"
      ],
      "text/markdown": [
       "\n",
       "A tibble: 7 × 2\n",
       "\n",
       "| Age &lt;chr&gt; | mean &lt;dbl&gt; |\n",
       "|---|---|\n",
       "| 0-17  | 9020.127 |\n",
       "| 18-25 | 9235.198 |\n",
       "| 26-35 | 9314.589 |\n",
       "| 36-45 | 9401.479 |\n",
       "| 46-50 | 9284.872 |\n",
       "| 51-55 | 9620.617 |\n",
       "| 55+   | 9453.899 |\n",
       "\n"
      ],
      "text/plain": [
       "  Age   mean    \n",
       "1 0-17  9020.127\n",
       "2 18-25 9235.198\n",
       "3 26-35 9314.589\n",
       "4 36-45 9401.479\n",
       "5 46-50 9284.872\n",
       "6 51-55 9620.617\n",
       "7 55+   9453.899"
      ]
     },
     "metadata": {},
     "output_type": "display_data"
    }
   ],
   "source": [
    "submission %>% group_by(Age) %>%\n",
    "    summarise(mean = mean(Purchase))"
   ]
  },
  {
   "cell_type": "markdown",
   "id": "446c3ca6",
   "metadata": {},
   "source": [
    "- Age별로 Purchase를 확인한 결과, \"51-55\"가 평균적으로 가장 많은 지출을 함을 알 수 있다."
   ]
  },
  {
   "cell_type": "code",
   "execution_count": 225,
   "id": "30f0ba1e",
   "metadata": {},
   "outputs": [
    {
     "data": {
      "text/html": [
       "<table class=\"dataframe\">\n",
       "<caption>A tibble: 2 × 2</caption>\n",
       "<thead>\n",
       "\t<tr><th scope=col>Gender</th><th scope=col>mean</th></tr>\n",
       "\t<tr><th scope=col>&lt;chr&gt;</th><th scope=col>&lt;dbl&gt;</th></tr>\n",
       "</thead>\n",
       "<tbody>\n",
       "\t<tr><td>F</td><td>8809.761</td></tr>\n",
       "\t<tr><td>M</td><td>9504.772</td></tr>\n",
       "</tbody>\n",
       "</table>\n"
      ],
      "text/latex": [
       "A tibble: 2 × 2\n",
       "\\begin{tabular}{ll}\n",
       " Gender & mean\\\\\n",
       " <chr> & <dbl>\\\\\n",
       "\\hline\n",
       "\t F & 8809.761\\\\\n",
       "\t M & 9504.772\\\\\n",
       "\\end{tabular}\n"
      ],
      "text/markdown": [
       "\n",
       "A tibble: 2 × 2\n",
       "\n",
       "| Gender &lt;chr&gt; | mean &lt;dbl&gt; |\n",
       "|---|---|\n",
       "| F | 8809.761 |\n",
       "| M | 9504.772 |\n",
       "\n"
      ],
      "text/plain": [
       "  Gender mean    \n",
       "1 F      8809.761\n",
       "2 M      9504.772"
      ]
     },
     "metadata": {},
     "output_type": "display_data"
    }
   ],
   "source": [
    "submission %>% group_by(Gender) %>%\n",
    "    summarise(mean = mean(Purchase))"
   ]
  },
  {
   "cell_type": "markdown",
   "id": "b699eaf4",
   "metadata": {},
   "source": [
    "- Male의 평균 구입 금액이 Female보다 높음을 알 수 잇다."
   ]
  },
  {
   "cell_type": "markdown",
   "id": "319a8d19",
   "metadata": {},
   "source": [
    "## 03. 비정형 데이터마이닝"
   ]
  },
  {
   "cell_type": "markdown",
   "id": "cd688d7f",
   "metadata": {},
   "source": [
    "### 1)\n",
    "- ‘공구 블로그 댓글.txt’ 파일을 읽어 들여 숫자, 특수 문자 등을 제거하는 전처리 작업을 시행하시오."
   ]
  },
  {
   "cell_type": "code",
   "execution_count": 254,
   "id": "f96daffb",
   "metadata": {},
   "outputs": [],
   "source": [
    "library(KoNLP)\n",
    "library(rJava)\n",
    "library(tm)\n",
    "library(wordcloud)\n",
    "library(plyr)\n",
    "library(dplyr)"
   ]
  },
  {
   "cell_type": "code",
   "execution_count": 253,
   "id": "eb8fd5b0",
   "metadata": {},
   "outputs": [
    {
     "name": "stdout",
     "output_type": "stream",
     "text": [
      "Backup was just finished!\n",
      "370957 words dictionary was built.\n"
     ]
    }
   ],
   "source": [
    "useSejongDic()"
   ]
  },
  {
   "cell_type": "code",
   "execution_count": 263,
   "id": "317e0ba0",
   "metadata": {},
   "outputs": [],
   "source": [
    "cmt <- read.csv(\"공구 블로그 댓글.txt\", sep = \"\\t\")"
   ]
  },
  {
   "cell_type": "code",
   "execution_count": 265,
   "id": "2e18b10c",
   "metadata": {},
   "outputs": [
    {
     "data": {
      "text/html": [
       "<table class=\"dataframe\">\n",
       "<caption>A data.frame: 6 × 4</caption>\n",
       "<thead>\n",
       "\t<tr><th></th><th scope=col>Date</th><th scope=col>Good</th><th scope=col>Hate</th><th scope=col>Content</th></tr>\n",
       "\t<tr><th></th><th scope=col>&lt;chr&gt;</th><th scope=col>&lt;int&gt;</th><th scope=col>&lt;int&gt;</th><th scope=col>&lt;chr&gt;</th></tr>\n",
       "</thead>\n",
       "<tbody>\n",
       "\t<tr><th scope=row>1</th><td>2014.02.14\t</td><td> 71</td><td>0</td><td>두두월드님.담번엔 실리콘스티머공구도부탁요. </td></tr>\n",
       "\t<tr><th scope=row>2</th><td>2014.02.14\t</td><td>118</td><td>0</td><td>김다미돈까스 공구 일정 궁금해요             </td></tr>\n",
       "\t<tr><th scope=row>3</th><td>2014.02.14\t</td><td> 42</td><td>0</td><td>빌보나 헹켈 커트러리요~                     </td></tr>\n",
       "\t<tr><th scope=row>4</th><td>2014.02.14\t</td><td> 84</td><td>0</td><td>드롱기 아이코다 빈티지 공구 부탁드려요..ㅠㅠ</td></tr>\n",
       "\t<tr><th scope=row>5</th><td>2014.02.14\t</td><td>145</td><td>0</td><td>폴란드그릇 다른패턴으로공구희망유           </td></tr>\n",
       "\t<tr><th scope=row>6</th><td>2014.02.13\t</td><td>112</td><td>0</td><td>러버메이드 밀대청소기                       </td></tr>\n",
       "</tbody>\n",
       "</table>\n"
      ],
      "text/latex": [
       "A data.frame: 6 × 4\n",
       "\\begin{tabular}{r|llll}\n",
       "  & Date & Good & Hate & Content\\\\\n",
       "  & <chr> & <int> & <int> & <chr>\\\\\n",
       "\\hline\n",
       "\t1 & 2014.02.14\t &  71 & 0 & 두두월드님.담번엔 실리콘스티머공구도부탁요. \\\\\n",
       "\t2 & 2014.02.14\t & 118 & 0 & 김다미돈까스 공구 일정 궁금해요             \\\\\n",
       "\t3 & 2014.02.14\t &  42 & 0 & 빌보나 헹켈 커트러리요\\textasciitilde{}                     \\\\\n",
       "\t4 & 2014.02.14\t &  84 & 0 & 드롱기 아이코다 빈티지 공구 부탁드려요..ㅠㅠ\\\\\n",
       "\t5 & 2014.02.14\t & 145 & 0 & 폴란드그릇 다른패턴으로공구희망유           \\\\\n",
       "\t6 & 2014.02.13\t & 112 & 0 & 러버메이드 밀대청소기                       \\\\\n",
       "\\end{tabular}\n"
      ],
      "text/markdown": [
       "\n",
       "A data.frame: 6 × 4\n",
       "\n",
       "| <!--/--> | Date &lt;chr&gt; | Good &lt;int&gt; | Hate &lt;int&gt; | Content &lt;chr&gt; |\n",
       "|---|---|---|---|---|\n",
       "| 1 | 2014.02.14\t |  71 | 0 | 두두월드님.담번엔 실리콘스티머공구도부탁요.  |\n",
       "| 2 | 2014.02.14\t | 118 | 0 | 김다미돈까스 공구 일정 궁금해요              |\n",
       "| 3 | 2014.02.14\t |  42 | 0 | 빌보나 헹켈 커트러리요~                      |\n",
       "| 4 | 2014.02.14\t |  84 | 0 | 드롱기 아이코다 빈티지 공구 부탁드려요..ㅠㅠ |\n",
       "| 5 | 2014.02.14\t | 145 | 0 | 폴란드그릇 다른패턴으로공구희망유            |\n",
       "| 6 | 2014.02.13\t | 112 | 0 | 러버메이드 밀대청소기                        |\n",
       "\n"
      ],
      "text/plain": [
       "  Date         Good Hate Content                                     \n",
       "1 2014.02.14\\t  71  0    두두월드님.담번엔 실리콘스티머공구도부탁요. \n",
       "2 2014.02.14\\t 118  0    김다미돈까스 공구 일정 궁금해요             \n",
       "3 2014.02.14\\t  42  0    빌보나 헹켈 커트러리요~                     \n",
       "4 2014.02.14\\t  84  0    드롱기 아이코다 빈티지 공구 부탁드려요..ㅠㅠ\n",
       "5 2014.02.14\\t 145  0    폴란드그릇 다른패턴으로공구희망유           \n",
       "6 2014.02.13\\t 112  0    러버메이드 밀대청소기                       "
      ]
     },
     "metadata": {},
     "output_type": "display_data"
    }
   ],
   "source": [
    "cmt %>% head"
   ]
  },
  {
   "cell_type": "code",
   "execution_count": 285,
   "id": "8aff533d",
   "metadata": {},
   "outputs": [],
   "source": [
    "clean_txt <- function(txt) {\n",
    "    txt <- gsub(\"[\\r\\n\\t]\", \" \", txt) \n",
    "    txt <- gsub(\"[[:punct:]]\", \" \", txt) \n",
    "    txt <- gsub(\"[[:cntrl:]]\", \" \", txt) \n",
    "    txt <- gsub(\"\\\\d+\", \" \", txt)     \n",
    "    return(txt)\n",
    "}"
   ]
  },
  {
   "cell_type": "code",
   "execution_count": 286,
   "id": "83d799a1",
   "metadata": {},
   "outputs": [],
   "source": [
    "cmt1 <- cmt %>% \n",
    "    mutate(Content = Content %>% clean_txt)"
   ]
  },
  {
   "cell_type": "code",
   "execution_count": 290,
   "id": "a4881964",
   "metadata": {},
   "outputs": [
    {
     "data": {
      "text/html": [
       "<table class=\"dataframe\">\n",
       "<caption>A data.frame: 6 × 4</caption>\n",
       "<thead>\n",
       "\t<tr><th></th><th scope=col>Date</th><th scope=col>Good</th><th scope=col>Hate</th><th scope=col>Content</th></tr>\n",
       "\t<tr><th></th><th scope=col>&lt;chr&gt;</th><th scope=col>&lt;int&gt;</th><th scope=col>&lt;int&gt;</th><th scope=col>&lt;chr&gt;</th></tr>\n",
       "</thead>\n",
       "<tbody>\n",
       "\t<tr><th scope=row>1</th><td>2014.02.14\t</td><td> 71</td><td>0</td><td>두두월드님 담번엔 실리콘스티머공구도부탁요  </td></tr>\n",
       "\t<tr><th scope=row>2</th><td>2014.02.14\t</td><td>118</td><td>0</td><td>김다미돈까스 공구 일정 궁금해요             </td></tr>\n",
       "\t<tr><th scope=row>3</th><td>2014.02.14\t</td><td> 42</td><td>0</td><td>빌보나 헹켈 커트러리요                      </td></tr>\n",
       "\t<tr><th scope=row>4</th><td>2014.02.14\t</td><td> 84</td><td>0</td><td>드롱기 아이코다 빈티지 공구 부탁드려요  ㅠㅠ</td></tr>\n",
       "\t<tr><th scope=row>5</th><td>2014.02.14\t</td><td>145</td><td>0</td><td>폴란드그릇 다른패턴으로공구희망유           </td></tr>\n",
       "\t<tr><th scope=row>6</th><td>2014.02.13\t</td><td>112</td><td>0</td><td>러버메이드 밀대청소기                       </td></tr>\n",
       "</tbody>\n",
       "</table>\n"
      ],
      "text/latex": [
       "A data.frame: 6 × 4\n",
       "\\begin{tabular}{r|llll}\n",
       "  & Date & Good & Hate & Content\\\\\n",
       "  & <chr> & <int> & <int> & <chr>\\\\\n",
       "\\hline\n",
       "\t1 & 2014.02.14\t &  71 & 0 & 두두월드님 담번엔 실리콘스티머공구도부탁요  \\\\\n",
       "\t2 & 2014.02.14\t & 118 & 0 & 김다미돈까스 공구 일정 궁금해요             \\\\\n",
       "\t3 & 2014.02.14\t &  42 & 0 & 빌보나 헹켈 커트러리요                      \\\\\n",
       "\t4 & 2014.02.14\t &  84 & 0 & 드롱기 아이코다 빈티지 공구 부탁드려요  ㅠㅠ\\\\\n",
       "\t5 & 2014.02.14\t & 145 & 0 & 폴란드그릇 다른패턴으로공구희망유           \\\\\n",
       "\t6 & 2014.02.13\t & 112 & 0 & 러버메이드 밀대청소기                       \\\\\n",
       "\\end{tabular}\n"
      ],
      "text/markdown": [
       "\n",
       "A data.frame: 6 × 4\n",
       "\n",
       "| <!--/--> | Date &lt;chr&gt; | Good &lt;int&gt; | Hate &lt;int&gt; | Content &lt;chr&gt; |\n",
       "|---|---|---|---|---|\n",
       "| 1 | 2014.02.14\t |  71 | 0 | 두두월드님 담번엔 실리콘스티머공구도부탁요   |\n",
       "| 2 | 2014.02.14\t | 118 | 0 | 김다미돈까스 공구 일정 궁금해요              |\n",
       "| 3 | 2014.02.14\t |  42 | 0 | 빌보나 헹켈 커트러리요                       |\n",
       "| 4 | 2014.02.14\t |  84 | 0 | 드롱기 아이코다 빈티지 공구 부탁드려요  ㅠㅠ |\n",
       "| 5 | 2014.02.14\t | 145 | 0 | 폴란드그릇 다른패턴으로공구희망유            |\n",
       "| 6 | 2014.02.13\t | 112 | 0 | 러버메이드 밀대청소기                        |\n",
       "\n"
      ],
      "text/plain": [
       "  Date         Good Hate Content                                     \n",
       "1 2014.02.14\\t  71  0    두두월드님 담번엔 실리콘스티머공구도부탁요  \n",
       "2 2014.02.14\\t 118  0    김다미돈까스 공구 일정 궁금해요             \n",
       "3 2014.02.14\\t  42  0    빌보나 헹켈 커트러리요                      \n",
       "4 2014.02.14\\t  84  0    드롱기 아이코다 빈티지 공구 부탁드려요  ㅠㅠ\n",
       "5 2014.02.14\\t 145  0    폴란드그릇 다른패턴으로공구희망유           \n",
       "6 2014.02.13\\t 112  0    러버메이드 밀대청소기                       "
      ]
     },
     "metadata": {},
     "output_type": "display_data"
    }
   ],
   "source": [
    "cmt1 %>% head"
   ]
  },
  {
   "cell_type": "markdown",
   "id": "8215d810",
   "metadata": {},
   "source": [
    "### 2)\n",
    "- ‘사전.txt’를 사전에 추가하고 문서에서 형용사를 추출하여라. "
   ]
  },
  {
   "cell_type": "code",
   "execution_count": 291,
   "id": "19082716",
   "metadata": {},
   "outputs": [
    {
     "data": {
      "text/html": [
       "<style>\n",
       ".list-inline {list-style: none; margin:0; padding: 0}\n",
       ".list-inline>li {display: inline-block}\n",
       ".list-inline>li:not(:last-child)::after {content: \"\\00b7\"; padding: 0 .5ex}\n",
       "</style>\n",
       "<ol class=list-inline><li>'공구'</li><li>'실리콘스티머'</li><li>'김다미돈까스'</li><li>'빌보'</li><li>'헹켈'</li><li>'커트러리'</li></ol>\n"
      ],
      "text/latex": [
       "\\begin{enumerate*}\n",
       "\\item '공구'\n",
       "\\item '실리콘스티머'\n",
       "\\item '김다미돈까스'\n",
       "\\item '빌보'\n",
       "\\item '헹켈'\n",
       "\\item '커트러리'\n",
       "\\end{enumerate*}\n"
      ],
      "text/markdown": [
       "1. '공구'\n",
       "2. '실리콘스티머'\n",
       "3. '김다미돈까스'\n",
       "4. '빌보'\n",
       "5. '헹켈'\n",
       "6. '커트러리'\n",
       "\n",
       "\n"
      ],
      "text/plain": [
       "[1] \"공구\"         \"실리콘스티머\" \"김다미돈까스\" \"빌보\"         \"헹켈\"        \n",
       "[6] \"커트러리\"    "
      ]
     },
     "metadata": {},
     "output_type": "display_data"
    }
   ],
   "source": [
    "dict <- readLines(\"사전.txt\")\n",
    "dict %>% head"
   ]
  },
  {
   "cell_type": "code",
   "execution_count": 292,
   "id": "e8d91d90",
   "metadata": {},
   "outputs": [
    {
     "name": "stdout",
     "output_type": "stream",
     "text": [
      "630126 words dictionary was built.\n"
     ]
    }
   ],
   "source": [
    "buildDictionary(ext_dic = \"woorimalsam\", \n",
    "                user_dic = data.frame(readLines(\"사전.txt\"), \"ncn\"),\n",
    "                replace_usr_dic = T)"
   ]
  },
  {
   "cell_type": "code",
   "execution_count": 293,
   "id": "3f97e261",
   "metadata": {},
   "outputs": [],
   "source": [
    "library(stringr)"
   ]
  },
  {
   "cell_type": "code",
   "execution_count": 329,
   "id": "88ea5c9f",
   "metadata": {},
   "outputs": [],
   "source": [
    "doc <- SimplePos22(cmt1$Content)"
   ]
  },
  {
   "cell_type": "code",
   "execution_count": 360,
   "id": "b5911066",
   "metadata": {},
   "outputs": [],
   "source": [
    "pos <- paste(doc)"
   ]
  },
  {
   "cell_type": "code",
   "execution_count": 367,
   "id": "d464e2ff",
   "metadata": {},
   "outputs": [],
   "source": [
    "extracted <- str_match(pos, '([가-힣]+)/[PA]')"
   ]
  },
  {
   "cell_type": "code",
   "execution_count": 368,
   "id": "c2f1cac7",
   "metadata": {},
   "outputs": [
    {
     "data": {
      "text/html": [
       "<table class=\"dataframe\">\n",
       "<caption>A matrix: 6 × 2 of type chr</caption>\n",
       "<tbody>\n",
       "\t<tr><td>NA        </td><td>NA      </td></tr>\n",
       "\t<tr><td>NA        </td><td>NA      </td></tr>\n",
       "\t<tr><td>NA        </td><td>NA      </td></tr>\n",
       "\t<tr><td>부탁드리/P</td><td>부탁드리</td></tr>\n",
       "\t<tr><td>NA        </td><td>NA      </td></tr>\n",
       "\t<tr><td>NA        </td><td>NA      </td></tr>\n",
       "</tbody>\n",
       "</table>\n"
      ],
      "text/latex": [
       "A matrix: 6 × 2 of type chr\n",
       "\\begin{tabular}{ll}\n",
       "\t NA         & NA      \\\\\n",
       "\t NA         & NA      \\\\\n",
       "\t NA         & NA      \\\\\n",
       "\t 부탁드리/P & 부탁드리\\\\\n",
       "\t NA         & NA      \\\\\n",
       "\t NA         & NA      \\\\\n",
       "\\end{tabular}\n"
      ],
      "text/markdown": [
       "\n",
       "A matrix: 6 × 2 of type chr\n",
       "\n",
       "| NA         | NA       |\n",
       "| NA         | NA       |\n",
       "| NA         | NA       |\n",
       "| 부탁드리/P | 부탁드리 |\n",
       "| NA         | NA       |\n",
       "| NA         | NA       |\n",
       "\n"
      ],
      "text/plain": [
       "     [,1]       [,2]    \n",
       "[1,] NA         NA      \n",
       "[2,] NA         NA      \n",
       "[3,] NA         NA      \n",
       "[4,] 부탁드리/P 부탁드리\n",
       "[5,] NA         NA      \n",
       "[6,] NA         NA      "
      ]
     },
     "metadata": {},
     "output_type": "display_data"
    }
   ],
   "source": [
    "extracted %>% head"
   ]
  },
  {
   "cell_type": "code",
   "execution_count": 369,
   "id": "b973171b",
   "metadata": {},
   "outputs": [],
   "source": [
    "keyword <- extracted[,2] %>%\n",
    "    .[!is.na(.)]"
   ]
  },
  {
   "cell_type": "code",
   "execution_count": 370,
   "id": "869e3c5b",
   "metadata": {
    "scrolled": true
   },
   "outputs": [
    {
     "data": {
      "text/html": [
       "<style>\n",
       ".list-inline {list-style: none; margin:0; padding: 0}\n",
       ".list-inline>li {display: inline-block}\n",
       ".list-inline>li:not(:last-child)::after {content: \"\\00b7\"; padding: 0 .5ex}\n",
       "</style>\n",
       "<ol class=list-inline><li>'부탁드리'</li><li>'원하'</li><li>'하'</li><li>'안되'</li><li>'하'</li><li>'하'</li><li>'주'</li><li>'부탁드리'</li><li>'기다리'</li><li>'보'</li><li>'부탁드리'</li><li>'일'</li><li>'부탁드리'</li><li>'하'</li><li>'있'</li><li>'놓치'</li><li>'하'</li><li>'베'</li><li>'안되'</li><li>'주'</li><li>'부탁드리'</li><li>'부탁드리'</li><li>'부탁드리'</li><li>'되'</li><li>'편하'</li><li>'하'</li><li>'원하'</li><li>'부탁드리'</li><li>'부탁드리'</li><li>'하'</li><li>'열리'</li><li>'하'</li><li>'없'</li><li>'뜨'</li><li>'생각나'</li><li>'맛있'</li><li>'하'</li><li>'원하'</li><li>'하'</li><li>'되'</li><li>'크'</li><li>'하'</li><li>'크'</li><li>'하'</li><li>'늘'</li><li>'기다리'</li><li>'하'</li><li>'크'</li><li>'주'</li><li>'어렵'</li><li>'부탁드리'</li><li>'서'</li><li>'없애'</li><li>'안하'</li></ol>\n"
      ],
      "text/latex": [
       "\\begin{enumerate*}\n",
       "\\item '부탁드리'\n",
       "\\item '원하'\n",
       "\\item '하'\n",
       "\\item '안되'\n",
       "\\item '하'\n",
       "\\item '하'\n",
       "\\item '주'\n",
       "\\item '부탁드리'\n",
       "\\item '기다리'\n",
       "\\item '보'\n",
       "\\item '부탁드리'\n",
       "\\item '일'\n",
       "\\item '부탁드리'\n",
       "\\item '하'\n",
       "\\item '있'\n",
       "\\item '놓치'\n",
       "\\item '하'\n",
       "\\item '베'\n",
       "\\item '안되'\n",
       "\\item '주'\n",
       "\\item '부탁드리'\n",
       "\\item '부탁드리'\n",
       "\\item '부탁드리'\n",
       "\\item '되'\n",
       "\\item '편하'\n",
       "\\item '하'\n",
       "\\item '원하'\n",
       "\\item '부탁드리'\n",
       "\\item '부탁드리'\n",
       "\\item '하'\n",
       "\\item '열리'\n",
       "\\item '하'\n",
       "\\item '없'\n",
       "\\item '뜨'\n",
       "\\item '생각나'\n",
       "\\item '맛있'\n",
       "\\item '하'\n",
       "\\item '원하'\n",
       "\\item '하'\n",
       "\\item '되'\n",
       "\\item '크'\n",
       "\\item '하'\n",
       "\\item '크'\n",
       "\\item '하'\n",
       "\\item '늘'\n",
       "\\item '기다리'\n",
       "\\item '하'\n",
       "\\item '크'\n",
       "\\item '주'\n",
       "\\item '어렵'\n",
       "\\item '부탁드리'\n",
       "\\item '서'\n",
       "\\item '없애'\n",
       "\\item '안하'\n",
       "\\end{enumerate*}\n"
      ],
      "text/markdown": [
       "1. '부탁드리'\n",
       "2. '원하'\n",
       "3. '하'\n",
       "4. '안되'\n",
       "5. '하'\n",
       "6. '하'\n",
       "7. '주'\n",
       "8. '부탁드리'\n",
       "9. '기다리'\n",
       "10. '보'\n",
       "11. '부탁드리'\n",
       "12. '일'\n",
       "13. '부탁드리'\n",
       "14. '하'\n",
       "15. '있'\n",
       "16. '놓치'\n",
       "17. '하'\n",
       "18. '베'\n",
       "19. '안되'\n",
       "20. '주'\n",
       "21. '부탁드리'\n",
       "22. '부탁드리'\n",
       "23. '부탁드리'\n",
       "24. '되'\n",
       "25. '편하'\n",
       "26. '하'\n",
       "27. '원하'\n",
       "28. '부탁드리'\n",
       "29. '부탁드리'\n",
       "30. '하'\n",
       "31. '열리'\n",
       "32. '하'\n",
       "33. '없'\n",
       "34. '뜨'\n",
       "35. '생각나'\n",
       "36. '맛있'\n",
       "37. '하'\n",
       "38. '원하'\n",
       "39. '하'\n",
       "40. '되'\n",
       "41. '크'\n",
       "42. '하'\n",
       "43. '크'\n",
       "44. '하'\n",
       "45. '늘'\n",
       "46. '기다리'\n",
       "47. '하'\n",
       "48. '크'\n",
       "49. '주'\n",
       "50. '어렵'\n",
       "51. '부탁드리'\n",
       "52. '서'\n",
       "53. '없애'\n",
       "54. '안하'\n",
       "\n",
       "\n"
      ],
      "text/plain": [
       " [1] \"부탁드리\" \"원하\"     \"하\"       \"안되\"     \"하\"       \"하\"      \n",
       " [7] \"주\"       \"부탁드리\" \"기다리\"   \"보\"       \"부탁드리\" \"일\"      \n",
       "[13] \"부탁드리\" \"하\"       \"있\"       \"놓치\"     \"하\"       \"베\"      \n",
       "[19] \"안되\"     \"주\"       \"부탁드리\" \"부탁드리\" \"부탁드리\" \"되\"      \n",
       "[25] \"편하\"     \"하\"       \"원하\"     \"부탁드리\" \"부탁드리\" \"하\"      \n",
       "[31] \"열리\"     \"하\"       \"없\"       \"뜨\"       \"생각나\"   \"맛있\"    \n",
       "[37] \"하\"       \"원하\"     \"하\"       \"되\"       \"크\"       \"하\"      \n",
       "[43] \"크\"       \"하\"       \"늘\"       \"기다리\"   \"하\"       \"크\"      \n",
       "[49] \"주\"       \"어렵\"     \"부탁드리\" \"서\"       \"없애\"     \"안하\"    "
      ]
     },
     "metadata": {},
     "output_type": "display_data"
    }
   ],
   "source": [
    "keyword"
   ]
  },
  {
   "cell_type": "code",
   "execution_count": 377,
   "id": "f4990b3d",
   "metadata": {},
   "outputs": [
    {
     "data": {
      "text/html": [
       "<table class=\"dataframe\">\n",
       "<caption>A data.frame: 6 × 2</caption>\n",
       "<thead>\n",
       "\t<tr><th></th><th scope=col>x</th><th scope=col>freq</th></tr>\n",
       "\t<tr><th></th><th scope=col>&lt;fct&gt;</th><th scope=col>&lt;int&gt;</th></tr>\n",
       "</thead>\n",
       "<tbody>\n",
       "\t<tr><th scope=row>1</th><td>하      </td><td>13</td></tr>\n",
       "\t<tr><th scope=row>2</th><td>부탁드리</td><td>10</td></tr>\n",
       "\t<tr><th scope=row>3</th><td>원하    </td><td> 3</td></tr>\n",
       "\t<tr><th scope=row>4</th><td>주      </td><td> 3</td></tr>\n",
       "\t<tr><th scope=row>5</th><td>크      </td><td> 3</td></tr>\n",
       "\t<tr><th scope=row>6</th><td>기다리  </td><td> 2</td></tr>\n",
       "</tbody>\n",
       "</table>\n"
      ],
      "text/latex": [
       "A data.frame: 6 × 2\n",
       "\\begin{tabular}{r|ll}\n",
       "  & x & freq\\\\\n",
       "  & <fct> & <int>\\\\\n",
       "\\hline\n",
       "\t1 & 하       & 13\\\\\n",
       "\t2 & 부탁드리 & 10\\\\\n",
       "\t3 & 원하     &  3\\\\\n",
       "\t4 & 주       &  3\\\\\n",
       "\t5 & 크       &  3\\\\\n",
       "\t6 & 기다리   &  2\\\\\n",
       "\\end{tabular}\n"
      ],
      "text/markdown": [
       "\n",
       "A data.frame: 6 × 2\n",
       "\n",
       "| <!--/--> | x &lt;fct&gt; | freq &lt;int&gt; |\n",
       "|---|---|---|\n",
       "| 1 | 하       | 13 |\n",
       "| 2 | 부탁드리 | 10 |\n",
       "| 3 | 원하     |  3 |\n",
       "| 4 | 주       |  3 |\n",
       "| 5 | 크       |  3 |\n",
       "| 6 | 기다리   |  2 |\n",
       "\n"
      ],
      "text/plain": [
       "  x        freq\n",
       "1 하       13  \n",
       "2 부탁드리 10  \n",
       "3 원하      3  \n",
       "4 주        3  \n",
       "5 크        3  \n",
       "6 기다리    2  "
      ]
     },
     "metadata": {},
     "output_type": "display_data"
    }
   ],
   "source": [
    "keyword %>% as.factor() %>% count() %>% arrange(-freq) %>% head"
   ]
  },
  {
   "cell_type": "markdown",
   "id": "f30418ad",
   "metadata": {},
   "source": [
    "### 3)\n",
    "- 2월에 게시된 댓글의 명사를 추출하고 빈도수를 시각화하시오."
   ]
  },
  {
   "cell_type": "code",
   "execution_count": 380,
   "id": "0631dca3",
   "metadata": {},
   "outputs": [],
   "source": [
    "cmt1 <- cmt1 %>% \n",
    "    mutate(Date = as.Date(Date, format = \"%Y.%m.%d\"))"
   ]
  },
  {
   "cell_type": "code",
   "execution_count": 387,
   "id": "6189998c",
   "metadata": {},
   "outputs": [],
   "source": [
    "feb_cmt1 <- cmt1 %>%\n",
    "    filter(Date > \"2014-01-31\")"
   ]
  },
  {
   "cell_type": "code",
   "execution_count": 411,
   "id": "dbe94a6f",
   "metadata": {},
   "outputs": [],
   "source": [
    "noun <- extractNoun(feb_cmt1$Content) %>% unlist"
   ]
  },
  {
   "cell_type": "code",
   "execution_count": 412,
   "id": "e06c02d0",
   "metadata": {},
   "outputs": [],
   "source": [
    "noun1 <- noun[nchar(noun) >= 2]"
   ]
  },
  {
   "cell_type": "code",
   "execution_count": 428,
   "id": "ca56ecbc",
   "metadata": {},
   "outputs": [
    {
     "data": {
      "image/png": "[encoded data removed]",
      "text/plain": [
       "plot without title"
      ]
     },
     "metadata": {
      "image/png": {
       "height": 420,
       "width": 420
      }
     },
     "output_type": "display_data"
    }
   ],
   "source": [
    "ggplot2::theme_set(theme_minimal())\n",
    "\n",
    "noun1 %>% count() %>% arrange(-freq) %>%\n",
    "    head(10) %>%\n",
    "    ggplot(aes(fct_reorder(x, freq), freq)) + geom_col() + coord_flip() + \n",
    "    xlab(\"단어\") + ylab(\"빈도\") + \n",
    "    ggtitle(label = \"2월 댓글 명사 빈도수\") "
   ]
  },
  {
   "cell_type": "markdown",
   "id": "97bc594d",
   "metadata": {},
   "source": [
    "- 시각화 결과, 공동구매를 나타내는 \"공구\"라는 단어가 가장 많이 나타났으며, 다음으로 \"해주\"라는 단어가 많이 나타낫다. 그 이외에 \"빌보\", \"드롱기\"와 같은 제품 브랜드도 언급이 되었으며, 청소와 관련된 제품에 대해서도 많이 언급되었음을 알 수 있다."
   ]
  }
 ],
 "metadata": {
  "kernelspec": {
   "display_name": "R 4.1.3",
   "language": "R",
   "name": "ir32"
  },
  "language_info": {
   "codemirror_mode": "r",
   "file_extension": ".r",
   "mimetype": "text/x-r-source",
   "name": "R",
   "pygments_lexer": "r",
   "version": "4.1.3"
  }
 },
 "nbformat": 4,
 "nbformat_minor": 5
}
