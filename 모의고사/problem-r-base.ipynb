{
 "cells": [
  {
   "cell_type": "code",
   "execution_count": 2,
   "id": "0fde4e81",
   "metadata": {
    "_execution_state": "idle",
    "_uuid": "051d70d956493feee0c6d64651c6a088724dca2a",
    "execution": {
     "iopub.execute_input": "2022-02-12T13:03:58.351964Z",
     "iopub.status.busy": "2022-02-12T13:03:58.346495Z",
     "iopub.status.idle": "2022-02-12T13:03:59.416209Z",
     "shell.execute_reply": "2022-02-12T13:03:59.414899Z"
    },
    "papermill": {
     "duration": 1.145254,
     "end_time": "2022-02-12T13:03:59.416357",
     "exception": false,
     "start_time": "2022-02-12T13:03:58.271103",
     "status": "completed"
    },
    "tags": []
   },
   "outputs": [],
   "source": [
    "library(tidyverse)\n",
    "ggplot2::theme_set(theme_bw())"
   ]
  },
  {
   "cell_type": "code",
   "execution_count": 3,
   "id": "09675b36",
   "metadata": {},
   "outputs": [
    {
     "name": "stderr",
     "output_type": "stream",
     "text": [
      "Loading required package: sysfonts\n",
      "\n",
      "Loading required package: showtextdb\n",
      "\n"
     ]
    }
   ],
   "source": [
    "library(showtext)\n",
    "font_add_google(name = \"Black Han Sans\", family = \"blackhansans\")\n",
    "showtext_auto()"
   ]
  },
  {
   "cell_type": "code",
   "execution_count": 4,
   "id": "0855c6f1",
   "metadata": {},
   "outputs": [],
   "source": [
    "setwd(\"C:/Users/이찬솔/Documents/ADP/problem/problem1\")"
   ]
  },
  {
   "cell_type": "markdown",
   "id": "a69030a9",
   "metadata": {
    "papermill": {
     "duration": 0.074312,
     "end_time": "2022-02-12T13:03:59.567748",
     "exception": false,
     "start_time": "2022-02-12T13:03:59.493436",
     "status": "completed"
    },
    "tags": []
   },
   "source": [
    "# 1번\n",
    "온,습도,조도,CO2농도에 따른 객실의 사용유무 판별     \n",
    "종속변수 Occupancy, 0: 비어있음 , 1: 사용중    \n",
    "\n",
    "데이터 경로 : /kaggle/input/adp-kr-p1/problem1.csv"
   ]
  },
  {
   "cell_type": "markdown",
   "id": "8ec3413e",
   "metadata": {
    "papermill": {
     "duration": 0.075024,
     "end_time": "2022-02-12T13:03:59.718351",
     "exception": false,
     "start_time": "2022-02-12T13:03:59.643327",
     "status": "completed"
    },
    "tags": []
   },
   "source": [
    "### 1 - (1)\n",
    "데이터 EDA 수행 후, 분석가 입장에서 의미있는 탐색"
   ]
  },
  {
   "cell_type": "code",
   "execution_count": 19,
   "id": "b3db9ad8",
   "metadata": {},
   "outputs": [
    {
     "data": {
      "text/html": [
       "<style>\n",
       ".dl-inline {width: auto; margin:0; padding: 0}\n",
       ".dl-inline>dt, .dl-inline>dd {float: none; width: auto; display: inline-block}\n",
       ".dl-inline>dt::after {content: \":\\0020\"; padding-right: .5ex}\n",
       ".dl-inline>dt:not(:first-of-type) {padding-left: .5ex}\n",
       "</style><dl class=dl-inline><dt>date</dt><dd>0</dd><dt>Temperature</dt><dd>0</dd><dt>Humidity</dt><dd>0</dd><dt>Light</dt><dd>0</dd><dt>CO2</dt><dd>21</dd><dt>HumidityRatio</dt><dd>0</dd><dt>Occupancy</dt><dd>0</dd></dl>\n"
      ],
      "text/latex": [
       "\\begin{description*}\n",
       "\\item[date] 0\n",
       "\\item[Temperature] 0\n",
       "\\item[Humidity] 0\n",
       "\\item[Light] 0\n",
       "\\item[CO2] 21\n",
       "\\item[HumidityRatio] 0\n",
       "\\item[Occupancy] 0\n",
       "\\end{description*}\n"
      ],
      "text/markdown": [
       "date\n",
       ":   0Temperature\n",
       ":   0Humidity\n",
       ":   0Light\n",
       ":   0CO2\n",
       ":   21HumidityRatio\n",
       ":   0Occupancy\n",
       ":   0\n",
       "\n"
      ],
      "text/plain": [
       "         date   Temperature      Humidity         Light           CO2 \n",
       "            0             0             0             0            21 \n",
       "HumidityRatio     Occupancy \n",
       "            0             0 "
      ]
     },
     "metadata": {},
     "output_type": "display_data"
    }
   ],
   "source": [
    "problem1 <- read.csv(\"problem1.csv\")\n",
    "colSums(is.na(problem1))"
   ]
  },
  {
   "cell_type": "code",
   "execution_count": 22,
   "id": "69c1cb23",
   "metadata": {
    "scrolled": true
   },
   "outputs": [],
   "source": [
    "library(lubridate)\n",
    "problem1$date <-  as_datetime(problem1$date)\n",
    "problem1$Occupancy <- as.factor(problem1$Occupancy)"
   ]
  },
  {
   "cell_type": "code",
   "execution_count": 8,
   "id": "9836c896",
   "metadata": {},
   "outputs": [],
   "source": [
    "# summary(problem1)\n",
    "# map(problem1 %>% select(-c(date, CO2)), sd)\n",
    "# sd(problem1$CO2, na.rm = T)"
   ]
  },
  {
   "cell_type": "markdown",
   "id": "b6ad4ee6",
   "metadata": {},
   "source": [
    "- 관측시간별 변수들의 변화"
   ]
  },
  {
   "cell_type": "code",
   "execution_count": 25,
   "id": "ed97bf09",
   "metadata": {},
   "outputs": [],
   "source": [
    "date <- rep(problem1$date, 5)"
   ]
  },
  {
   "cell_type": "code",
   "execution_count": 44,
   "id": "9e433d1a",
   "metadata": {},
   "outputs": [
    {
     "data": {
      "image/png": "[encoded data removed]",
      "text/plain": [
       "plot without title"
      ]
     },
     "metadata": {
      "image/png": {
       "height": 420,
       "width": 420
      }
     },
     "output_type": "display_data"
    }
   ],
   "source": [
    "gather(problem1 %>% select(-c(date, Occupancy))) %>% mutate(date = date) %>% \n",
    "    group_by(key, date) %>%\n",
    "    ggplot(aes(date, value, group = key, colour = key)) + geom_line() + \n",
    "    theme(axis.text.x = element_blank()) +\n",
    "    facet_wrap(~ key, scales = \"free_y\")"
   ]
  },
  {
   "cell_type": "markdown",
   "id": "5b1e4248",
   "metadata": {},
   "source": [
    "- 날짜별 변수들의 평균 변화"
   ]
  },
  {
   "cell_type": "code",
   "execution_count": null,
   "id": "3aaebd1d",
   "metadata": {},
   "outputs": [],
   "source": [
    "gather(problem1 %>% select(-c(date, Occupancy))) %>% \n",
    "    mutate(date = format(date, \"%Y-%m-%d\")) %>% \n",
    "    group_by(key, date) %>% summarise(mean = mean(value, na.rm = T)) %>% \n",
    "    ggplot(aes(date, mean, group = key, colour = key)) + geom_line() +\n",
    "    theme(axis.text.x = element_blank()) +\n",
    "    facet_wrap(~ key, scales = \"free_y\")"
   ]
  },
  {
   "cell_type": "markdown",
   "id": "ebdaf32f",
   "metadata": {},
   "source": [
    "- 시간대별 변수들의 평균 변화"
   ]
  },
  {
   "cell_type": "code",
   "execution_count": null,
   "id": "10ddb2a7",
   "metadata": {},
   "outputs": [],
   "source": [
    "gather(problem1 %>% select(-c(date, Occupancy))) %>% \n",
    "    mutate(date = format(date, \"%H\")) %>% \n",
    "    group_by(key, date) %>% summarise(mean = mean(value, na.rm = T)) %>% \n",
    "    ggplot(aes(date, mean, group = key, colour = key)) + geom_line() +\n",
    "    theme(axis.text.x = element_blank()) +\n",
    "    facet_wrap(~ key, scales = \"free_y\")"
   ]
  },
  {
   "cell_type": "markdown",
   "id": "7ecafe28",
   "metadata": {},
   "source": [
    "- 변수별 빈도분포"
   ]
  },
  {
   "cell_type": "code",
   "execution_count": null,
   "id": "38482016",
   "metadata": {},
   "outputs": [],
   "source": [
    "gather(problem1 %>% select(-c(date, Occupancy))) %>%\n",
    "    ggplot(aes(value)) + geom_histogram(bins = 50) + \n",
    "    facet_wrap(~ key, scales = \"free_x\")"
   ]
  },
  {
   "cell_type": "markdown",
   "id": "59212573",
   "metadata": {},
   "source": [
    "- datetime형 변수별 변수들의 변동"
   ]
  },
  {
   "cell_type": "code",
   "execution_count": 14,
   "id": "72356691",
   "metadata": {},
   "outputs": [],
   "source": [
    "library(\"PerformanceAnalytics\")"
   ]
  },
  {
   "cell_type": "code",
   "execution_count": 15,
   "id": "71068146",
   "metadata": {},
   "outputs": [
    {
     "data": {
      "image/png": "[encoded data removed]",
      "text/plain": [
       "Plot with title \"\""
      ]
     },
     "metadata": {
      "image/png": {
       "height": 420,
       "width": 420
      }
     },
     "output_type": "display_data"
    }
   ],
   "source": [
    "problem1 %>% na.omit %>% \n",
    "    select(-date) %>%\n",
    "    chart.Correlation(histogram = , pch = \"+\")"
   ]
  },
  {
   "cell_type": "markdown",
   "id": "25726d6b",
   "metadata": {},
   "source": [
    "- 수치형 변수중 종속변수에 가장 큰 영향을 미치는 변수는 Light이며, 모든 상관관계는 통계적으로 유의"
   ]
  },
  {
   "cell_type": "code",
   "execution_count": null,
   "id": "ca9e8fcc",
   "metadata": {},
   "outputs": [],
   "source": [
    "library(\"corrgram\")\n",
    "\n",
    "problem1 %>% na.omit %>% \n",
    "    select(-date) %>% cor\n",
    "problem1 %>% na.omit %>% \n",
    "    select(-date) %>% cor %>% corrgram(upper.panel = panel.conf)"
   ]
  },
  {
   "cell_type": "markdown",
   "id": "1146541e",
   "metadata": {
    "papermill": {
     "duration": 0.073861,
     "end_time": "2022-02-12T13:04:00.017682",
     "exception": false,
     "start_time": "2022-02-12T13:03:59.943821",
     "status": "completed"
    },
    "tags": []
   },
   "source": [
    "### 1 - (2)\n",
    "결측치를 대체하는 방식 선택하고 근거제시, 대체 수행"
   ]
  },
  {
   "cell_type": "code",
   "execution_count": 19,
   "id": "861ea964",
   "metadata": {},
   "outputs": [
    {
     "data": {
      "text/html": [
       "0.00117252931323283"
      ],
      "text/latex": [
       "0.00117252931323283"
      ],
      "text/markdown": [
       "0.00117252931323283"
      ],
      "text/plain": [
       "[1] 0.001172529"
      ]
     },
     "metadata": {},
     "output_type": "display_data"
    }
   ],
   "source": [
    "21 / nrow(problem1)"
   ]
  },
  {
   "cell_type": "markdown",
   "id": "6762c7db",
   "metadata": {},
   "source": [
    "- 완전 분석법을 선택하여 결측값을 모두 제거\n",
    "- 결측값이 데이터에서 차지하는 비율이 0.5%미만이기에, 자료가 삭제되어 발생하는 효율성 상실과, 통계적 추론 타당성 문제의 부작용이 감쇄됨"
   ]
  },
  {
   "cell_type": "code",
   "execution_count": 20,
   "id": "05b76a5d",
   "metadata": {},
   "outputs": [],
   "source": [
    "problem1 <- read.csv(\"problem1.csv\")\n",
    "problem1_clean <- na.omit(problem1)"
   ]
  },
  {
   "cell_type": "markdown",
   "id": "7bf2c030",
   "metadata": {
    "papermill": {
     "duration": 0.075179,
     "end_time": "2022-02-12T13:04:00.317496",
     "exception": false,
     "start_time": "2022-02-12T13:04:00.242317",
     "status": "completed"
    },
    "tags": []
   },
   "source": [
    "### 1 - (3)\n",
    "추가적으로 데이터의 질 및 품질관리를 향상시킬만한 내용 작성"
   ]
  },
  {
   "cell_type": "markdown",
   "id": "fce36d60",
   "metadata": {},
   "source": [
    "- 종속변수 Occupancy를 범주형 변수로 변경\n",
    "- 수치형 변수들의 단위가 각각 상이함으로, 이에 따라 표준화를 시행"
   ]
  },
  {
   "cell_type": "code",
   "execution_count": 22,
   "id": "3c322104",
   "metadata": {},
   "outputs": [],
   "source": [
    "library(recipes)"
   ]
  },
  {
   "cell_type": "code",
   "execution_count": 23,
   "id": "095a00cd",
   "metadata": {
    "papermill": {
     "duration": 0.075965,
     "end_time": "2022-02-12T13:04:00.470403",
     "exception": false,
     "start_time": "2022-02-12T13:04:00.394438",
     "status": "completed"
    },
    "tags": []
   },
   "outputs": [],
   "source": [
    "problem1_clean$Occupancy <- as.factor(problem1_clean$Occupancy)"
   ]
  },
  {
   "cell_type": "code",
   "execution_count": 24,
   "id": "03873d2c",
   "metadata": {},
   "outputs": [],
   "source": [
    "problem1_rec <- recipe(Occupancy ~ ., data = problem1_clean) %>%\n",
    "    step_center(all_numeric()) %>%\n",
    "    step_scale(all_numeric()) %>%\n",
    "    prep(training = problem1_clean, retain = T) %>%\n",
    "    juice()"
   ]
  },
  {
   "cell_type": "markdown",
   "id": "6249130f",
   "metadata": {},
   "source": [
    "- date변수를 파싱하여 월, 일, 시, 분, 초 별로 변수 생성"
   ]
  },
  {
   "cell_type": "code",
   "execution_count": 25,
   "id": "c940d27a",
   "metadata": {
    "scrolled": false
   },
   "outputs": [],
   "source": [
    "problem1_rec$date <- as.POSIXlt(problem1_rec$date)"
   ]
  },
  {
   "cell_type": "code",
   "execution_count": 26,
   "id": "35dd29bf",
   "metadata": {},
   "outputs": [],
   "source": [
    "problem1_rec <- problem1_rec %>%\n",
    "    mutate(mon = unclass(problem1_rec$date)$mon,\n",
    "           mday = unclass(problem1_rec$date)$mday,\n",
    "           hour = unclass(problem1_rec$date)$hour,\n",
    "           min = unclass(problem1_rec$date)$min,\n",
    "           sec = unclass(problem1_rec$date)$sec) %>%\n",
    "    select(-date)"
   ]
  },
  {
   "cell_type": "code",
   "execution_count": 27,
   "id": "58256f7c",
   "metadata": {},
   "outputs": [
    {
     "data": {
      "text/html": [
       "<table class=\"dataframe\">\n",
       "<caption>A tibble: 6 × 11</caption>\n",
       "<thead>\n",
       "\t<tr><th scope=col>Temperature</th><th scope=col>Humidity</th><th scope=col>Light</th><th scope=col>CO2</th><th scope=col>HumidityRatio</th><th scope=col>Occupancy</th><th scope=col>mon</th><th scope=col>mday</th><th scope=col>hour</th><th scope=col>min</th><th scope=col>sec</th></tr>\n",
       "\t<tr><th scope=col>&lt;dbl&gt;</th><th scope=col>&lt;dbl&gt;</th><th scope=col>&lt;dbl&gt;</th><th scope=col>&lt;dbl&gt;</th><th scope=col>&lt;dbl&gt;</th><th scope=col>&lt;fct&gt;</th><th scope=col>&lt;int&gt;</th><th scope=col>&lt;int&gt;</th><th scope=col>&lt;int&gt;</th><th scope=col>&lt;int&gt;</th><th scope=col>&lt;dbl&gt;</th></tr>\n",
       "</thead>\n",
       "<tbody>\n",
       "\t<tr><td>2.988318</td><td>-0.2573837</td><td>2.966159</td><td>0.3940566</td><td>0.7917802</td><td>1</td><td>1</td><td>2</td><td>14</td><td>19</td><td>59</td></tr>\n",
       "\t<tr><td>2.992848</td><td>-0.2900848</td><td>2.464166</td><td>0.4442319</td><td>0.7535430</td><td>1</td><td>1</td><td>2</td><td>14</td><td>22</td><td> 0</td></tr>\n",
       "\t<tr><td>3.024552</td><td>-0.2752206</td><td>2.433625</td><td>0.4590922</td><td>0.7837496</td><td>1</td><td>1</td><td>2</td><td>14</td><td>23</td><td> 0</td></tr>\n",
       "\t<tr><td>3.030591</td><td>-0.2633293</td><td>2.908439</td><td>0.4975540</td><td>0.8006109</td><td>1</td><td>1</td><td>2</td><td>14</td><td>23</td><td>59</td></tr>\n",
       "\t<tr><td>3.024552</td><td>-0.2573837</td><td>2.554602</td><td>0.5220298</td><td>0.8055895</td><td>1</td><td>1</td><td>2</td><td>14</td><td>25</td><td>59</td></tr>\n",
       "\t<tr><td>3.006435</td><td>-0.2375649</td><td>2.560532</td><td>0.5639882</td><td>0.8229227</td><td>1</td><td>1</td><td>2</td><td>14</td><td>28</td><td> 0</td></tr>\n",
       "</tbody>\n",
       "</table>\n"
      ],
      "text/latex": [
       "A tibble: 6 × 11\n",
       "\\begin{tabular}{lllllllllll}\n",
       " Temperature & Humidity & Light & CO2 & HumidityRatio & Occupancy & mon & mday & hour & min & sec\\\\\n",
       " <dbl> & <dbl> & <dbl> & <dbl> & <dbl> & <fct> & <int> & <int> & <int> & <int> & <dbl>\\\\\n",
       "\\hline\n",
       "\t 2.988318 & -0.2573837 & 2.966159 & 0.3940566 & 0.7917802 & 1 & 1 & 2 & 14 & 19 & 59\\\\\n",
       "\t 2.992848 & -0.2900848 & 2.464166 & 0.4442319 & 0.7535430 & 1 & 1 & 2 & 14 & 22 &  0\\\\\n",
       "\t 3.024552 & -0.2752206 & 2.433625 & 0.4590922 & 0.7837496 & 1 & 1 & 2 & 14 & 23 &  0\\\\\n",
       "\t 3.030591 & -0.2633293 & 2.908439 & 0.4975540 & 0.8006109 & 1 & 1 & 2 & 14 & 23 & 59\\\\\n",
       "\t 3.024552 & -0.2573837 & 2.554602 & 0.5220298 & 0.8055895 & 1 & 1 & 2 & 14 & 25 & 59\\\\\n",
       "\t 3.006435 & -0.2375649 & 2.560532 & 0.5639882 & 0.8229227 & 1 & 1 & 2 & 14 & 28 &  0\\\\\n",
       "\\end{tabular}\n"
      ],
      "text/markdown": [
       "\n",
       "A tibble: 6 × 11\n",
       "\n",
       "| Temperature &lt;dbl&gt; | Humidity &lt;dbl&gt; | Light &lt;dbl&gt; | CO2 &lt;dbl&gt; | HumidityRatio &lt;dbl&gt; | Occupancy &lt;fct&gt; | mon &lt;int&gt; | mday &lt;int&gt; | hour &lt;int&gt; | min &lt;int&gt; | sec &lt;dbl&gt; |\n",
       "|---|---|---|---|---|---|---|---|---|---|---|\n",
       "| 2.988318 | -0.2573837 | 2.966159 | 0.3940566 | 0.7917802 | 1 | 1 | 2 | 14 | 19 | 59 |\n",
       "| 2.992848 | -0.2900848 | 2.464166 | 0.4442319 | 0.7535430 | 1 | 1 | 2 | 14 | 22 |  0 |\n",
       "| 3.024552 | -0.2752206 | 2.433625 | 0.4590922 | 0.7837496 | 1 | 1 | 2 | 14 | 23 |  0 |\n",
       "| 3.030591 | -0.2633293 | 2.908439 | 0.4975540 | 0.8006109 | 1 | 1 | 2 | 14 | 23 | 59 |\n",
       "| 3.024552 | -0.2573837 | 2.554602 | 0.5220298 | 0.8055895 | 1 | 1 | 2 | 14 | 25 | 59 |\n",
       "| 3.006435 | -0.2375649 | 2.560532 | 0.5639882 | 0.8229227 | 1 | 1 | 2 | 14 | 28 |  0 |\n",
       "\n"
      ],
      "text/plain": [
       "  Temperature Humidity   Light    CO2       HumidityRatio Occupancy mon mday\n",
       "1 2.988318    -0.2573837 2.966159 0.3940566 0.7917802     1         1   2   \n",
       "2 2.992848    -0.2900848 2.464166 0.4442319 0.7535430     1         1   2   \n",
       "3 3.024552    -0.2752206 2.433625 0.4590922 0.7837496     1         1   2   \n",
       "4 3.030591    -0.2633293 2.908439 0.4975540 0.8006109     1         1   2   \n",
       "5 3.024552    -0.2573837 2.554602 0.5220298 0.8055895     1         1   2   \n",
       "6 3.006435    -0.2375649 2.560532 0.5639882 0.8229227     1         1   2   \n",
       "  hour min sec\n",
       "1 14   19  59 \n",
       "2 14   22   0 \n",
       "3 14   23   0 \n",
       "4 14   23  59 \n",
       "5 14   25  59 \n",
       "6 14   28   0 "
      ]
     },
     "metadata": {},
     "output_type": "display_data"
    }
   ],
   "source": [
    "problem1_rec %>% head"
   ]
  },
  {
   "cell_type": "markdown",
   "id": "9e680d5c",
   "metadata": {
    "papermill": {
     "duration": 0.073604,
     "end_time": "2022-02-12T13:04:00.620151",
     "exception": false,
     "start_time": "2022-02-12T13:04:00.546547",
     "status": "completed"
    },
    "tags": []
   },
   "source": [
    "### 2 - (1)\n",
    "데이터에 불균형이 있는지 확인, 불균형 판단 근거 작성\n"
   ]
  },
  {
   "cell_type": "code",
   "execution_count": 28,
   "id": "e5722351",
   "metadata": {
    "papermill": {
     "duration": 0.074868,
     "end_time": "2022-02-12T13:04:00.770103",
     "exception": false,
     "start_time": "2022-02-12T13:04:00.695235",
     "status": "completed"
    },
    "scrolled": false,
    "tags": []
   },
   "outputs": [
    {
     "data": {
      "text/html": [
       "<table class=\"dataframe\">\n",
       "<caption>A matrix: 2 × 2 of type chr</caption>\n",
       "<tbody>\n",
       "\t<tr><th scope=row>Occupancy</th><td>0    </td><td>1    </td></tr>\n",
       "\t<tr><th scope=row>n</th><td>15790</td><td> 2099</td></tr>\n",
       "</tbody>\n",
       "</table>\n"
      ],
      "text/latex": [
       "A matrix: 2 × 2 of type chr\n",
       "\\begin{tabular}{r|ll}\n",
       "\tOccupancy & 0     & 1    \\\\\n",
       "\tn & 15790 &  2099\\\\\n",
       "\\end{tabular}\n"
      ],
      "text/markdown": [
       "\n",
       "A matrix: 2 × 2 of type chr\n",
       "\n",
       "| Occupancy | 0     | 1     |\n",
       "| n | 15790 |  2099 |\n",
       "\n"
      ],
      "text/plain": [
       "          [,1]  [,2] \n",
       "Occupancy 0     1    \n",
       "n         15790  2099"
      ]
     },
     "metadata": {},
     "output_type": "display_data"
    },
    {
     "data": {
      "image/png": "[encoded data removed]",
      "text/plain": [
       "plot without title"
      ]
     },
     "metadata": {
      "image/png": {
       "height": 420,
       "width": 420
      }
     },
     "output_type": "display_data"
    }
   ],
   "source": [
    "problem1_rec %>% group_by(Occupancy) %>%\n",
    "    count() %>% t()\n",
    "problem1_rec %>% ggplot(aes(Occupancy)) + geom_bar(fill = \"white\", col = \"black\")"
   ]
  },
  {
   "cell_type": "markdown",
   "id": "71d2585b",
   "metadata": {},
   "source": [
    "- 위와같이 반응변수 Occupancy의 범주별 분포가 불균형한 것을 알 수 있다. => 데이터 불균형 존재"
   ]
  },
  {
   "cell_type": "markdown",
   "id": "df6b6d23",
   "metadata": {
    "papermill": {
     "duration": 0.074318,
     "end_time": "2022-02-12T13:04:00.919124",
     "exception": false,
     "start_time": "2022-02-12T13:04:00.844806",
     "status": "completed"
    },
    "tags": []
   },
   "source": [
    "### 2 - (2)\n",
    "- 오버샘플링 방법들 중 2개 선택하고 장단점 등 선정 이유 제시"
   ]
  },
  {
   "cell_type": "markdown",
   "id": "c4cf1d61",
   "metadata": {
    "papermill": {
     "duration": 0.074591,
     "end_time": "2022-02-12T13:04:01.067996",
     "exception": false,
     "start_time": "2022-02-12T13:04:00.993405",
     "status": "completed"
    },
    "tags": []
   },
   "source": [
    "### 오버 샘플링 : 소수 클래스의 데이터를 복제 또는 생성하여 데이터의 비율을 맞추는 방법\n",
    "\n",
    "#### 장점\n",
    "- 정보가 손실되지 않음\n",
    "- 알고리즘의 성능이 언더샘플링에 비해 증가\n",
    "\n",
    "#### 단점\n",
    "- 데이터 증가로 인한 계산시간의 증가\n",
    "- 과적합을 초래하여, 검증의 성능이 감소할 가능성 존재\n",
    "\n",
    "1. 랜덤 과대표집 (ROS) \n",
    "- 무작위로 소수 클래스 데이터를 복제하여 데이터의 비율을 맞추는 **간단한 방법**이지만, 데이터의 중복으로 인하여 과적합 문제 발생 가능성이 증가\n",
    "\n",
    "2. SMOTE (Synthetic Minority Oversampling Technique)\n",
    "- 소수 클래스에서 중심이 되는 데이터와 주변 데이터 사이에 가상의 직선을 만든 후, 그 위에 데이터를 추가하는 방법\n",
    "- 랜덤 과대표집과 달리 중복을 사용하는 알고리즘이 아님 => ROS에 비해 과적합 문제 발생 가능성이 낮음, 하지만 마찬가지로 과적합 가능성 존재"
   ]
  },
  {
   "cell_type": "markdown",
   "id": "4b29cc18",
   "metadata": {
    "papermill": {
     "duration": 0.073958,
     "end_time": "2022-02-12T13:04:01.217217",
     "exception": false,
     "start_time": "2022-02-12T13:04:01.143259",
     "status": "completed"
    },
    "tags": []
   },
   "source": [
    "### 2 - (3)\n",
    "오버샘플링 수행 및 결과, 잘 되었다는 것을 판단해라"
   ]
  },
  {
   "cell_type": "code",
   "execution_count": 30,
   "id": "1449042a",
   "metadata": {
    "papermill": {
     "duration": 0.074502,
     "end_time": "2022-02-12T13:04:01.366532",
     "exception": false,
     "start_time": "2022-02-12T13:04:01.292030",
     "status": "completed"
    },
    "tags": []
   },
   "outputs": [],
   "source": [
    "library(caret)\n",
    "UpSamp <- caret::upSample(problem1_rec %>% select(-Occupancy), \n",
    "                           problem1_rec$Occupancy)"
   ]
  },
  {
   "cell_type": "code",
   "execution_count": 31,
   "id": "1d453ccb",
   "metadata": {
    "scrolled": false
   },
   "outputs": [
    {
     "data": {
      "text/html": [
       "<table class=\"dataframe\">\n",
       "<caption>A matrix: 2 × 2 of type chr</caption>\n",
       "<tbody>\n",
       "\t<tr><th scope=row>Class</th><td>0    </td><td>1    </td></tr>\n",
       "\t<tr><th scope=row>n</th><td>15790</td><td>15790</td></tr>\n",
       "</tbody>\n",
       "</table>\n"
      ],
      "text/latex": [
       "A matrix: 2 × 2 of type chr\n",
       "\\begin{tabular}{r|ll}\n",
       "\tClass & 0     & 1    \\\\\n",
       "\tn & 15790 & 15790\\\\\n",
       "\\end{tabular}\n"
      ],
      "text/markdown": [
       "\n",
       "A matrix: 2 × 2 of type chr\n",
       "\n",
       "| Class | 0     | 1     |\n",
       "| n | 15790 | 15790 |\n",
       "\n"
      ],
      "text/plain": [
       "      [,1]  [,2] \n",
       "Class 0     1    \n",
       "n     15790 15790"
      ]
     },
     "metadata": {},
     "output_type": "display_data"
    },
    {
     "data": {
      "image/png": "[encoded data removed]",
      "text/plain": [
       "plot without title"
      ]
     },
     "metadata": {
      "image/png": {
       "height": 420,
       "width": 420
      }
     },
     "output_type": "display_data"
    }
   ],
   "source": [
    "UpSamp %>% group_by(Class) %>%\n",
    "    count() %>% t()\n",
    "UpSamp %>% ggplot(aes(Class)) + geom_bar()"
   ]
  },
  {
   "cell_type": "markdown",
   "id": "80bc28db",
   "metadata": {},
   "source": [
    "- 랜덤 과대표집(ROS) 시행결과, Occupancy의 범주별 수가 각각 15790으로 동일하게 되어 균형이 맞추어졌다."
   ]
  },
  {
   "cell_type": "code",
   "execution_count": 33,
   "id": "c75bbe55",
   "metadata": {},
   "outputs": [],
   "source": [
    "library(smotefamily)"
   ]
  },
  {
   "cell_type": "code",
   "execution_count": 34,
   "id": "3f4d97d2",
   "metadata": {},
   "outputs": [],
   "source": [
    "Smote <- smotefamily::SMOTE(problem1_rec %>% select(-Occupancy),\n",
    "                            problem1_rec$Occupancy)"
   ]
  },
  {
   "cell_type": "code",
   "execution_count": 35,
   "id": "eed08225",
   "metadata": {},
   "outputs": [],
   "source": [
    "Smote_data <- Smote$data\n",
    "Smote_data$class <- Smote_data$class %>% as.factor()"
   ]
  },
  {
   "cell_type": "code",
   "execution_count": 36,
   "id": "b5a290b4",
   "metadata": {
    "scrolled": false
   },
   "outputs": [
    {
     "data": {
      "text/html": [
       "<table class=\"dataframe\">\n",
       "<caption>A matrix: 2 × 2 of type chr</caption>\n",
       "<tbody>\n",
       "\t<tr><th scope=row>class</th><td>0    </td><td>1    </td></tr>\n",
       "\t<tr><th scope=row>n</th><td>15790</td><td>14693</td></tr>\n",
       "</tbody>\n",
       "</table>\n"
      ],
      "text/latex": [
       "A matrix: 2 × 2 of type chr\n",
       "\\begin{tabular}{r|ll}\n",
       "\tclass & 0     & 1    \\\\\n",
       "\tn & 15790 & 14693\\\\\n",
       "\\end{tabular}\n"
      ],
      "text/markdown": [
       "\n",
       "A matrix: 2 × 2 of type chr\n",
       "\n",
       "| class | 0     | 1     |\n",
       "| n | 15790 | 14693 |\n",
       "\n"
      ],
      "text/plain": [
       "      [,1]  [,2] \n",
       "class 0     1    \n",
       "n     15790 14693"
      ]
     },
     "metadata": {},
     "output_type": "display_data"
    },
    {
     "data": {
      "image/png": "[encoded data removed]",
      "text/plain": [
       "plot without title"
      ]
     },
     "metadata": {
      "image/png": {
       "height": 420,
       "width": 420
      }
     },
     "output_type": "display_data"
    }
   ],
   "source": [
    "Smote_data %>% group_by(class) %>%\n",
    "    count() %>% t()\n",
    "Smote_data %>% ggplot(aes(class)) + geom_bar()"
   ]
  },
  {
   "cell_type": "markdown",
   "id": "31e095ab",
   "metadata": {},
   "source": [
    "- SMOTE 시행결과, Occupancy의 \"1\"범주 수가 14693으로 증가하게 되어 균형이 맞추어졌다."
   ]
  },
  {
   "cell_type": "markdown",
   "id": "03e7bbc7",
   "metadata": {},
   "source": [
    "- problem1_rec : 오버샘플링 전\n",
    "\n",
    "- UpSamp : ROS\n",
    "\n",
    "- Smote_data : SMOTE"
   ]
  },
  {
   "cell_type": "markdown",
   "id": "34c92f5f",
   "metadata": {
    "papermill": {
     "duration": 0.074487,
     "end_time": "2022-02-12T13:04:01.515309",
     "exception": false,
     "start_time": "2022-02-12T13:04:01.440822",
     "status": "completed"
    },
    "tags": []
   },
   "source": [
    "### 3 - (1)\n",
    "속도측면, 정확도측면 모델 1개씩 선택, 선택 이유도 기술"
   ]
  },
  {
   "cell_type": "markdown",
   "id": "04ceaa99",
   "metadata": {},
   "source": [
    "#### 속도측면 : 로지스틱 회귀 분석\n",
    "- 반응변수가 범주형인 경우 적용되는 기본적인 회귀 분석 모형\n",
    "- 하이퍼 파라미터의 조정이 필요없음\n",
    "\n",
    "#### 정확도측면 : 랜덤 포레스트\n",
    "- 랜덤 포레스트 모델은 기본적으로 원 데이터를 대상으로 복원추출 방식으로 데이터의 양을 증가시킨 후 모델을 생성하기 대문에 데이터의 양이 부족해서 발생하는 과적합의 원인을 해결할 수 있다.\n",
    "- 이는 오버 샘플링이 가진 단점인 과적합을 보완해줄 것"
   ]
  },
  {
   "cell_type": "markdown",
   "id": "236e87f1",
   "metadata": {
    "papermill": {
     "duration": 0.074139,
     "end_time": "2022-02-12T13:04:01.812213",
     "exception": false,
     "start_time": "2022-02-12T13:04:01.738074",
     "status": "completed"
    },
    "tags": []
   },
   "source": [
    "### 3 - (2)\n",
    "위에서 오버샘플링 한 데이터 2개, 오버샘플링 하기 전 데이터 1개에 대해 모델 2개를 적용하고 성능 보여주기"
   ]
  },
  {
   "cell_type": "markdown",
   "id": "fe00d129",
   "metadata": {},
   "source": [
    "- 로지스틱 회귀"
   ]
  },
  {
   "cell_type": "code",
   "execution_count": 37,
   "id": "a1c2cfa4",
   "metadata": {},
   "outputs": [],
   "source": [
    "library(rsample)\n",
    "\n",
    "set.seed(1234)\n",
    "split_raw <- initial_split(problem1_rec, 0.7)\n",
    "train_raw <- training(split_raw)\n",
    "test_raw <- testing(split_raw)\n",
    "\n",
    "split_Up <- initial_split(UpSamp, 0.7)\n",
    "train_Up <- training(split_Up)\n",
    "test_Up <- testing(split_Up)\n",
    "\n",
    "split_Smote <- initial_split(Smote_data, 0.7)\n",
    "train_Smote <- training(split_Smote)\n",
    "test_Smote <- testing(split_Smote)"
   ]
  },
  {
   "cell_type": "code",
   "execution_count": 38,
   "id": "9680edf4",
   "metadata": {},
   "outputs": [
    {
     "name": "stderr",
     "output_type": "stream",
     "text": [
      "Warning message in predict.lm(object, newdata, se.fit, scale = 1, type = if (type == :\n",
      "\"prediction from a rank-deficient fit may be misleading\"\n"
     ]
    },
    {
     "data": {
      "text/html": [
       "0.990394764618957"
      ],
      "text/latex": [
       "0.990394764618957"
      ],
      "text/markdown": [
       "0.990394764618957"
      ],
      "text/plain": [
       "[1] 0.9903948"
      ]
     },
     "metadata": {},
     "output_type": "display_data"
    }
   ],
   "source": [
    "model1_1 <- glm(Class ~ ., data = train_Up,\n",
    "                family = binomial)\n",
    "\n",
    "pred1_1 <- predict(model1_1, newdata = test_Up, type = \"response\") %>% round\n",
    "\n",
    "mean(pred1_1 == test_Up$Class)"
   ]
  },
  {
   "cell_type": "code",
   "execution_count": 39,
   "id": "b9bce706",
   "metadata": {},
   "outputs": [
    {
     "name": "stderr",
     "output_type": "stream",
     "text": [
      "Warning message:\n",
      "\"glm.fit: fitted probabilities numerically 0 or 1 occurred\"\n",
      "Warning message in predict.lm(object, newdata, se.fit, scale = 1, type = if (type == :\n",
      "\"prediction from a rank-deficient fit may be misleading\"\n"
     ]
    },
    {
     "data": {
      "text/html": [
       "0.991580098414434"
      ],
      "text/latex": [
       "0.991580098414434"
      ],
      "text/markdown": [
       "0.991580098414434"
      ],
      "text/plain": [
       "[1] 0.9915801"
      ]
     },
     "metadata": {},
     "output_type": "display_data"
    }
   ],
   "source": [
    "model1_2 <- glm(class ~ ., data = train_Smote,\n",
    "                family = binomial)\n",
    "\n",
    "pred1_2 <- predict(model1_2, newdata = test_Smote, type = \"response\") %>% round\n",
    "\n",
    "mean(pred1_2 == test_Smote$class)"
   ]
  },
  {
   "cell_type": "code",
   "execution_count": 40,
   "id": "cc4eb5c1",
   "metadata": {
    "scrolled": false
   },
   "outputs": [
    {
     "name": "stderr",
     "output_type": "stream",
     "text": [
      "Warning message in predict.lm(object, newdata, se.fit, scale = 1, type = if (type == :\n",
      "\"prediction from a rank-deficient fit may be misleading\"\n"
     ]
    },
    {
     "data": {
      "text/html": [
       "0.986025712688653"
      ],
      "text/latex": [
       "0.986025712688653"
      ],
      "text/markdown": [
       "0.986025712688653"
      ],
      "text/plain": [
       "[1] 0.9860257"
      ]
     },
     "metadata": {},
     "output_type": "display_data"
    }
   ],
   "source": [
    "model1_3 <- glm(Occupancy ~ ., data = train_raw,\n",
    "                family = binomial)\n",
    "\n",
    "pred1_3 <- predict(model1_3, newdata = test_raw, type = \"response\") %>% round\n",
    "\n",
    "mean(pred1_3 == test_raw$Occupancy)"
   ]
  },
  {
   "cell_type": "markdown",
   "id": "fddf9538",
   "metadata": {},
   "source": [
    "- ROS, SMOTE, 오버 샘플링 이전 데이터로 생성된 로지스틱 회귀 모형의 분류 정확도는 각각 98.997%, 99.06%, 98.6026%퍼센트의 높은 정확도를 가진다\n",
    "- 정확도의 성능은 SMOTE, ROS, 오버 샘플링 이전 데이터 순으로 높으며, 오버 샘플링 이전 데이터의 성능이 가장 낮다."
   ]
  },
  {
   "cell_type": "markdown",
   "id": "5b8d846a",
   "metadata": {},
   "source": [
    "- Random FOrest"
   ]
  },
  {
   "cell_type": "code",
   "execution_count": 42,
   "id": "cfa29e26",
   "metadata": {},
   "outputs": [],
   "source": [
    "library(randomForest)"
   ]
  },
  {
   "cell_type": "code",
   "execution_count": 53,
   "id": "b7e8a283",
   "metadata": {},
   "outputs": [
    {
     "name": "stderr",
     "output_type": "stream",
     "text": [
      "Warning message in Ops.factor(left, right):\n",
      "\"'-' not meaningful for factors\"\n"
     ]
    }
   ],
   "source": [
    "model2_1 <- randomForest(Class ~ ., data = train_Up, \n",
    "                   mtry = round(sqrt(ncol(train_Up - 1))))"
   ]
  },
  {
   "cell_type": "code",
   "execution_count": 67,
   "id": "ca19ab95",
   "metadata": {},
   "outputs": [
    {
     "data": {
      "text/plain": [
       "\n",
       "Call:\n",
       " randomForest(formula = Class ~ ., data = train_Up, mtry = round(sqrt(ncol(train_Up -      1)))) \n",
       "               Type of random forest: classification\n",
       "                     Number of trees: 500\n",
       "No. of variables tried at each split: 3\n",
       "\n",
       "        OOB estimate of  error rate: 0.31%\n",
       "Confusion matrix:\n",
       "      0     1 class.error\n",
       "0 10998    68 0.006144948\n",
       "1     0 11040 0.000000000"
      ]
     },
     "metadata": {},
     "output_type": "display_data"
    }
   ],
   "source": [
    "model2_1"
   ]
  },
  {
   "cell_type": "code",
   "execution_count": 54,
   "id": "b1ce2134",
   "metadata": {},
   "outputs": [],
   "source": [
    "pred2_1 <- predict(model2_1, test_Up)"
   ]
  },
  {
   "cell_type": "code",
   "execution_count": 55,
   "id": "ebfd5670",
   "metadata": {},
   "outputs": [
    {
     "data": {
      "text/html": [
       "0.997783407219759"
      ],
      "text/latex": [
       "0.997783407219759"
      ],
      "text/markdown": [
       "0.997783407219759"
      ],
      "text/plain": [
       "[1] 0.9977834"
      ]
     },
     "metadata": {},
     "output_type": "display_data"
    }
   ],
   "source": [
    "mean(pred2_1 == test_Up$Class)"
   ]
  },
  {
   "cell_type": "code",
   "execution_count": 56,
   "id": "e73ad33b",
   "metadata": {
    "scrolled": true
   },
   "outputs": [
    {
     "name": "stderr",
     "output_type": "stream",
     "text": [
      "Warning message in Ops.factor(left, right):\n",
      "\"'-' not meaningful for factors\"\n"
     ]
    }
   ],
   "source": [
    "model2_2 <- randomForest(class ~ ., data = train_Smote, \n",
    "                   mtry = round(sqrt(ncol(train_Smote - 1))))"
   ]
  },
  {
   "cell_type": "code",
   "execution_count": 66,
   "id": "9d84a2bc",
   "metadata": {},
   "outputs": [
    {
     "data": {
      "text/plain": [
       "\n",
       "Call:\n",
       " randomForest(formula = class ~ ., data = train_Smote, mtry = round(sqrt(ncol(train_Smote -      1)))) \n",
       "               Type of random forest: classification\n",
       "                     Number of trees: 500\n",
       "No. of variables tried at each split: 3\n",
       "\n",
       "        OOB estimate of  error rate: 0.4%\n",
       "Confusion matrix:\n",
       "      0     1 class.error\n",
       "0 10936    65 0.005908554\n",
       "1    20 10317 0.001934797"
      ]
     },
     "metadata": {},
     "output_type": "display_data"
    }
   ],
   "source": [
    "model2_2"
   ]
  },
  {
   "cell_type": "code",
   "execution_count": 57,
   "id": "ecfef07d",
   "metadata": {},
   "outputs": [],
   "source": [
    "pred2_2 <- predict(model2_2, test_Smote)"
   ]
  },
  {
   "cell_type": "code",
   "execution_count": 58,
   "id": "f0a6f57e",
   "metadata": {},
   "outputs": [
    {
     "data": {
      "text/html": [
       "0.996610169491525"
      ],
      "text/latex": [
       "0.996610169491525"
      ],
      "text/markdown": [
       "0.996610169491525"
      ],
      "text/plain": [
       "[1] 0.9966102"
      ]
     },
     "metadata": {},
     "output_type": "display_data"
    }
   ],
   "source": [
    "mean(pred2_2 == test_Smote$class)"
   ]
  },
  {
   "cell_type": "code",
   "execution_count": 59,
   "id": "ebe2071a",
   "metadata": {},
   "outputs": [
    {
     "name": "stderr",
     "output_type": "stream",
     "text": [
      "Warning message in Ops.factor(left, right):\n",
      "\"'-' not meaningful for factors\"\n"
     ]
    }
   ],
   "source": [
    "model2_3 <- randomForest(Occupancy ~ ., data = train_raw, \n",
    "                   mtry = round(sqrt(ncol(train_raw - 1))))"
   ]
  },
  {
   "cell_type": "code",
   "execution_count": 65,
   "id": "05837e75",
   "metadata": {},
   "outputs": [
    {
     "data": {
      "text/plain": [
       "\n",
       "Call:\n",
       " randomForest(formula = Occupancy ~ ., data = train_raw, mtry = round(sqrt(ncol(train_raw -      1)))) \n",
       "               Type of random forest: classification\n",
       "                     Number of trees: 500\n",
       "No. of variables tried at each split: 3\n",
       "\n",
       "        OOB estimate of  error rate: 0.51%\n",
       "Confusion matrix:\n",
       "      0    1 class.error\n",
       "0 11011   38 0.003439225\n",
       "1    26 1447 0.017651052"
      ]
     },
     "metadata": {},
     "output_type": "display_data"
    }
   ],
   "source": [
    "model2_3"
   ]
  },
  {
   "cell_type": "code",
   "execution_count": 60,
   "id": "703123b5",
   "metadata": {},
   "outputs": [],
   "source": [
    "pred2_3 <- predict(model2_3, test_raw)"
   ]
  },
  {
   "cell_type": "code",
   "execution_count": 61,
   "id": "e92bd972",
   "metadata": {
    "scrolled": true
   },
   "outputs": [
    {
     "data": {
      "text/html": [
       "0.9927333705981"
      ],
      "text/latex": [
       "0.9927333705981"
      ],
      "text/markdown": [
       "0.9927333705981"
      ],
      "text/plain": [
       "[1] 0.9927334"
      ]
     },
     "metadata": {},
     "output_type": "display_data"
    }
   ],
   "source": [
    "mean(pred2_3 == test_raw$Occupancy)"
   ]
  },
  {
   "cell_type": "markdown",
   "id": "8cad783f",
   "metadata": {},
   "source": [
    "- ROS, SMOTE, 오버 샘플링 이전 데이터로 생성된 로지스틱 회귀 모형의 분류 정확도는 각각 99.7783%, 99.661%, 99.2733%퍼센트의 높은 정확도를 가진다\n",
    "- 정확도의 성능은 ROS, SMOTE, 오버 샘플링 이전 데이터 순으로 높으며, 오버 샘플링 이전 데이터의 성능이 가장 낮다.\n",
    "- OOB 검정 에러율 역시 ROS, SMOTE, 오버 샘플링 이전 데이터 순으로 낮다."
   ]
  },
  {
   "cell_type": "markdown",
   "id": "5c0666f5",
   "metadata": {
    "papermill": {
     "duration": 0.073808,
     "end_time": "2022-02-12T13:04:02.107705",
     "exception": false,
     "start_time": "2022-02-12T13:04:02.033897",
     "status": "completed"
    },
    "tags": []
   },
   "source": [
    "### 3 - (3)\n",
    "위 예측결과 사용해서 오버샘플링이 미친 영향에 대해 작성하라\n",
    "\n"
   ]
  },
  {
   "cell_type": "markdown",
   "id": "f294cef8",
   "metadata": {
    "papermill": {
     "duration": 0.07383,
     "end_time": "2022-02-12T13:04:02.254769",
     "exception": false,
     "start_time": "2022-02-12T13:04:02.180939",
     "status": "completed"
    },
    "tags": []
   },
   "source": [
    "- 오버 샘플링한 데이터로 생성한 모형이, 오버 샘플링 이전 데이터로 생성한 모형보다 전체적으로 분류 정확도가 높음을 알 수 있다.\n",
    "- 이는 오버 샘플링의 장점인 \"알고리즘 성능의 증가\"라고 해석 할 수 있다."
   ]
  },
  {
   "cell_type": "markdown",
   "id": "8e613d8c",
   "metadata": {
    "papermill": {
     "duration": 0.074588,
     "end_time": "2022-02-12T13:04:02.403873",
     "exception": false,
     "start_time": "2022-02-12T13:04:02.329285",
     "status": "completed"
    },
    "tags": []
   },
   "source": [
    "# 2번\n",
    "공장에서는 진공관 수명이 1만 시간이라고 주장하여 품질관리팀에서 12개 샘플을 뽑았음 유의수준 5%에서 부호 검정하시오    \n",
    "데이터 경로 : /kaggle/input/adp-kr-p1/problem2.csv"
   ]
  },
  {
   "cell_type": "code",
   "execution_count": 247,
   "id": "5d225ba1",
   "metadata": {
    "papermill": {
     "duration": 0.073825,
     "end_time": "2022-02-12T13:04:02.551822",
     "exception": false,
     "start_time": "2022-02-12T13:04:02.477997",
     "status": "completed"
    },
    "scrolled": true,
    "tags": []
   },
   "outputs": [
    {
     "data": {
      "text/html": [
       "0"
      ],
      "text/latex": [
       "0"
      ],
      "text/markdown": [
       "0"
      ],
      "text/plain": [
       "[1] 0"
      ]
     },
     "metadata": {},
     "output_type": "display_data"
    }
   ],
   "source": [
    "problem2 <- read.csv(\"problem2.csv\")\n",
    "sum(is.na(problem2))"
   ]
  },
  {
   "cell_type": "code",
   "execution_count": 248,
   "id": "94e85544",
   "metadata": {},
   "outputs": [
    {
     "name": "stdout",
     "output_type": "stream",
     "text": [
      "Rows: 12\n",
      "Columns: 2\n",
      "$ name      \u001b[3m\u001b[90m<chr>\u001b[39m\u001b[23m \"sample1\", \"sample2\", \"sample3\", \"sample4\", \"sample5\", \"samp~\n",
      "$ life.span \u001b[3m\u001b[90m<int>\u001b[39m\u001b[23m 10000, 9000, 9500, 10000, 10000, 8900, 9900, 10100, 10300, 1~\n"
     ]
    },
    {
     "data": {
      "text/html": [
       "9793.33333333333"
      ],
      "text/latex": [
       "9793.33333333333"
      ],
      "text/markdown": [
       "9793.33333333333"
      ],
      "text/plain": [
       "[1] 9793.333"
      ]
     },
     "metadata": {},
     "output_type": "display_data"
    }
   ],
   "source": [
    "glimpse(problem2)\n",
    "mean(problem2$life.span)"
   ]
  },
  {
   "cell_type": "markdown",
   "id": "1ad12b56",
   "metadata": {
    "papermill": {
     "duration": 0.074219,
     "end_time": "2022-02-12T13:04:02.700803",
     "exception": false,
     "start_time": "2022-02-12T13:04:02.626584",
     "status": "completed"
    },
    "tags": []
   },
   "source": [
    "### 1\n",
    "귀무가설, 연구가설 세우기"
   ]
  },
  {
   "cell_type": "markdown",
   "id": "d9dbf2cd",
   "metadata": {
    "papermill": {
     "duration": 0.075217,
     "end_time": "2022-02-12T13:04:02.852265",
     "exception": false,
     "start_time": "2022-02-12T13:04:02.777048",
     "status": "completed"
    },
    "tags": []
   },
   "source": [
    "- 귀무가설 : 진공관 수명이 (life.span)의 중위수는 1만시간이다.\n",
    "- 대립가설 : 진공관 수명의 중위수는 1만시간이 아니다."
   ]
  },
  {
   "cell_type": "markdown",
   "id": "dd0bf206",
   "metadata": {
    "papermill": {
     "duration": 0.073186,
     "end_time": "2022-02-12T13:04:03.001741",
     "exception": false,
     "start_time": "2022-02-12T13:04:02.928555",
     "status": "completed"
    },
    "tags": []
   },
   "source": [
    "### 2\n",
    "유효한 데이터의 개수는?"
   ]
  },
  {
   "cell_type": "markdown",
   "id": "484829c7",
   "metadata": {},
   "source": [
    "- 중위수와 동일한 값들은 순위 부호 검정에서 불필요한 데이터"
   ]
  },
  {
   "cell_type": "code",
   "execution_count": 260,
   "id": "ca965e02",
   "metadata": {},
   "outputs": [
    {
     "data": {
      "text/html": [
       "8"
      ],
      "text/latex": [
       "8"
      ],
      "text/markdown": [
       "8"
      ],
      "text/plain": [
       "[1] 8"
      ]
     },
     "metadata": {},
     "output_type": "display_data"
    }
   ],
   "source": [
    "problem2 %>% filter(life.span != 10000) %>% nrow"
   ]
  },
  {
   "cell_type": "markdown",
   "id": "57e6e44e",
   "metadata": {},
   "source": [
    "유효한 데이터의ㅣ 개수는 8개"
   ]
  },
  {
   "cell_type": "markdown",
   "id": "9b74846a",
   "metadata": {
    "papermill": {
     "duration": 0.073757,
     "end_time": "2022-02-12T13:04:03.297127",
     "exception": false,
     "start_time": "2022-02-12T13:04:03.223370",
     "status": "completed"
    },
    "tags": []
   },
   "source": [
    "### 3\n",
    "검정통계량 및 연구가설 채택 여부를 작성하라"
   ]
  },
  {
   "cell_type": "code",
   "execution_count": 263,
   "id": "20794ab6",
   "metadata": {},
   "outputs": [
    {
     "name": "stderr",
     "output_type": "stream",
     "text": [
      "Warning message in wilcox.test.default(problem2 %>% filter(life.span != 10000) %>% :\n",
      "\"cannot compute exact p-value with ties\"\n"
     ]
    },
    {
     "data": {
      "text/plain": [
       "\n",
       "\tWilcoxon signed rank test with continuity correction\n",
       "\n",
       "data:  problem2 %>% filter(life.span != 10000) %>% .$life.span\n",
       "V = 8.5, p-value = 0.207\n",
       "alternative hypothesis: true location is not equal to 10000\n"
      ]
     },
     "metadata": {},
     "output_type": "display_data"
    }
   ],
   "source": [
    "wilcox.test(problem2 %>% filter(life.span != 10000) %>% .$life.span, \n",
    "            alternative = \"two.sided\", mu = 10000)"
   ]
  },
  {
   "cell_type": "markdown",
   "id": "ddd5458a",
   "metadata": {},
   "source": [
    "- 검정통계량 s는 8.5이며 P-value > 0.05 => 귀무가설 기각 불가 => 진공관 수명의 평균은 10000시간이 아니다."
   ]
  },
  {
   "cell_type": "markdown",
   "id": "a7e56a64",
   "metadata": {
    "papermill": {
     "duration": 0.074294,
     "end_time": "2022-02-12T13:04:03.592698",
     "exception": false,
     "start_time": "2022-02-12T13:04:03.518404",
     "status": "completed"
    },
    "tags": []
   },
   "source": [
    "# 3번\n",
    "코로나 시계열 데이터     \n",
    "데이터 출처(후처리과정 미포함) :https://www.kaggle.com/antgoldbloom/covid19panels?select=country_panel.csv    \n",
    "     \n",
    "데이터 경로 : /kaggle/input/adp-kr-p1/problem3_covid.csv"
   ]
  },
  {
   "cell_type": "code",
   "execution_count": 158,
   "id": "9a373a10",
   "metadata": {
    "papermill": {
     "duration": 0.07252,
     "end_time": "2022-02-12T13:04:03.738471",
     "exception": false,
     "start_time": "2022-02-12T13:04:03.665951",
     "status": "completed"
    },
    "tags": []
   },
   "outputs": [],
   "source": [
    "problem3 <- read.csv(\"problem3_covid2.csv\")"
   ]
  },
  {
   "cell_type": "code",
   "execution_count": 159,
   "id": "a3e990ba",
   "metadata": {
    "scrolled": true
   },
   "outputs": [
    {
     "data": {
      "text/html": [
       "<style>\n",
       ".dl-inline {width: auto; margin:0; padding: 0}\n",
       ".dl-inline>dt, .dl-inline>dd {float: none; width: auto; display: inline-block}\n",
       ".dl-inline>dt::after {content: \":\\0020\"; padding-right: .5ex}\n",
       ".dl-inline>dt:not(:first-of-type) {padding-left: .5ex}\n",
       "</style><dl class=dl-inline><dt>location</dt><dd>0</dd><dt>date</dt><dd>0</dd><dt>new_cases</dt><dd>233</dd></dl>\n"
      ],
      "text/latex": [
       "\\begin{description*}\n",
       "\\item[location] 0\n",
       "\\item[date] 0\n",
       "\\item[new\\textbackslash{}\\_cases] 233\n",
       "\\end{description*}\n"
      ],
      "text/markdown": [
       "location\n",
       ":   0date\n",
       ":   0new_cases\n",
       ":   233\n",
       "\n"
      ],
      "text/plain": [
       " location      date new_cases \n",
       "        0         0       233 "
      ]
     },
     "metadata": {},
     "output_type": "display_data"
    }
   ],
   "source": [
    "colSums(is.na(problem3))"
   ]
  },
  {
   "cell_type": "code",
   "execution_count": 160,
   "id": "f118642c",
   "metadata": {},
   "outputs": [],
   "source": [
    "problem3$date <- as_date(problem3$date)"
   ]
  },
  {
   "cell_type": "code",
   "execution_count": 161,
   "id": "b8f89f78",
   "metadata": {
    "scrolled": true
   },
   "outputs": [
    {
     "data": {
      "text/html": [
       "<table class=\"dataframe\">\n",
       "<caption>A tibble: 6 × 2</caption>\n",
       "<thead>\n",
       "\t<tr><th scope=col>location</th><th scope=col>NAs</th></tr>\n",
       "\t<tr><th scope=col>&lt;chr&gt;</th><th scope=col>&lt;int&gt;</th></tr>\n",
       "</thead>\n",
       "<tbody>\n",
       "\t<tr><td>Palau     </td><td>233</td></tr>\n",
       "\t<tr><td>Austria   </td><td>  0</td></tr>\n",
       "\t<tr><td>Bangladesh</td><td>  0</td></tr>\n",
       "\t<tr><td>Bhutan    </td><td>  0</td></tr>\n",
       "\t<tr><td>Chile     </td><td>  0</td></tr>\n",
       "\t<tr><td>Colombia  </td><td>  0</td></tr>\n",
       "</tbody>\n",
       "</table>\n"
      ],
      "text/latex": [
       "A tibble: 6 × 2\n",
       "\\begin{tabular}{ll}\n",
       " location & NAs\\\\\n",
       " <chr> & <int>\\\\\n",
       "\\hline\n",
       "\t Palau      & 233\\\\\n",
       "\t Austria    &   0\\\\\n",
       "\t Bangladesh &   0\\\\\n",
       "\t Bhutan     &   0\\\\\n",
       "\t Chile      &   0\\\\\n",
       "\t Colombia   &   0\\\\\n",
       "\\end{tabular}\n"
      ],
      "text/markdown": [
       "\n",
       "A tibble: 6 × 2\n",
       "\n",
       "| location &lt;chr&gt; | NAs &lt;int&gt; |\n",
       "|---|---|\n",
       "| Palau      | 233 |\n",
       "| Austria    |   0 |\n",
       "| Bangladesh |   0 |\n",
       "| Bhutan     |   0 |\n",
       "| Chile      |   0 |\n",
       "| Colombia   |   0 |\n",
       "\n"
      ],
      "text/plain": [
       "  location   NAs\n",
       "1 Palau      233\n",
       "2 Austria      0\n",
       "3 Bangladesh   0\n",
       "4 Bhutan       0\n",
       "5 Chile        0\n",
       "6 Colombia     0"
      ]
     },
     "metadata": {},
     "output_type": "display_data"
    }
   ],
   "source": [
    "problem3 %>% group_by(location) %>%\n",
    "    summarise(NAs = sum(is.na(new_cases))) %>% arrange(-NAs) %>% head"
   ]
  },
  {
   "cell_type": "code",
   "execution_count": 163,
   "id": "4ddd4317",
   "metadata": {},
   "outputs": [],
   "source": [
    "problem3 <- problem3 %>%\n",
    "    mutate(location = as.factor(location),\n",
    "           new_cases = ifelse(is.na(new_cases), 0, new_cases))"
   ]
  },
  {
   "cell_type": "markdown",
   "id": "5b9ce6fc",
   "metadata": {
    "papermill": {
     "duration": 0.074344,
     "end_time": "2022-02-12T13:04:03.886129",
     "exception": false,
     "start_time": "2022-02-12T13:04:03.811785",
     "status": "completed"
    },
    "tags": []
   },
   "source": [
    "### 1 \n",
    "데이터는 일자별 각 나라의 일일 확진자수를 나타낸다. 각 나라의 일자별 누적확진자 수를 나타내는 데이터 프레임을 생성하라"
   ]
  },
  {
   "cell_type": "code",
   "execution_count": 289,
   "id": "f77874ae",
   "metadata": {
    "papermill": {
     "duration": 0.073743,
     "end_time": "2022-02-12T13:04:04.033816",
     "exception": false,
     "start_time": "2022-02-12T13:04:03.960073",
     "status": "completed"
    },
    "tags": []
   },
   "outputs": [
    {
     "name": "stderr",
     "output_type": "stream",
     "text": [
      "\u001b[1m\u001b[22m`summarise()` has grouped output by 'location'. You can override using the `.groups` argument.\n"
     ]
    }
   ],
   "source": [
    "problem31 <- problem3 %>%\n",
    "    group_by(location) %>%\n",
    "    summarise(cumsum = cumsum(new_cases)) %>% ungroup() %>%\n",
    "    mutate(date = problem3$date) %>% select(location, date, cumsum)"
   ]
  },
  {
   "cell_type": "code",
   "execution_count": 290,
   "id": "215e8740",
   "metadata": {},
   "outputs": [
    {
     "name": "stdout",
     "output_type": "stream",
     "text": [
      "\u001b[90m# A tibble: 11,895 x 3\u001b[39m\n",
      "   location date       cumsum\n",
      "   \u001b[3m\u001b[90m<fct>\u001b[39m\u001b[23m    \u001b[3m\u001b[90m<date>\u001b[39m\u001b[23m      \u001b[3m\u001b[90m<dbl>\u001b[39m\u001b[23m\n",
      "\u001b[90m 1\u001b[39m Austria  2021-01-01   \u001b[4m2\u001b[24m096\n",
      "\u001b[90m 2\u001b[39m Austria  2021-01-02   \u001b[4m3\u001b[24m487\n",
      "\u001b[90m 3\u001b[39m Austria  2021-01-03   \u001b[4m4\u001b[24m953\n",
      "\u001b[90m 4\u001b[39m Austria  2021-01-04   \u001b[4m6\u001b[24m595\n",
      "\u001b[90m 5\u001b[39m Austria  2021-01-05   \u001b[4m8\u001b[24m906\n",
      "\u001b[90m 6\u001b[39m Austria  2021-01-06  \u001b[4m1\u001b[24m\u001b[4m1\u001b[24m375\n",
      "\u001b[90m 7\u001b[39m Austria  2021-01-07  \u001b[4m1\u001b[24m\u001b[4m3\u001b[24m915\n",
      "\u001b[90m 8\u001b[39m Austria  2021-01-08  \u001b[4m1\u001b[24m\u001b[4m5\u001b[24m978\n",
      "\u001b[90m 9\u001b[39m Austria  2021-01-09  \u001b[4m1\u001b[24m\u001b[4m8\u001b[24m256\n",
      "\u001b[90m10\u001b[39m Austria  2021-01-10  \u001b[4m1\u001b[24m\u001b[4m9\u001b[24m907\n",
      "\u001b[90m# ... with 11,885 more rows\u001b[39m\n"
     ]
    }
   ],
   "source": [
    "problem31 %>% print"
   ]
  },
  {
   "cell_type": "markdown",
   "id": "d5035d50",
   "metadata": {
    "papermill": {
     "duration": 0.074179,
     "end_time": "2022-02-12T13:04:04.182682",
     "exception": false,
     "start_time": "2022-02-12T13:04:04.108503",
     "status": "completed"
    },
    "tags": []
   },
   "source": [
    "### 2\n",
    "1에서 구한 데이터를 각 나라별로 acf값을 구하고(lag는 50개까지 구하고 첫번째 값을 제외하라) 국가를 기준으로 유클리디안 거리를 기준으로 클러스터링을 진행 후 계층적 군집 분석을 위해 덴드로그램 작성하라\n",
    "\n"
   ]
  },
  {
   "cell_type": "code",
   "execution_count": 346,
   "id": "42393dd4",
   "metadata": {
    "scrolled": true
   },
   "outputs": [],
   "source": [
    "problem32 <- problem31 %>% spread(location, cumsum) %>% select(-date)"
   ]
  },
  {
   "cell_type": "code",
   "execution_count": 342,
   "id": "4576e24d",
   "metadata": {},
   "outputs": [],
   "source": [
    "acfs <- matrix(nrow = ncol(problem32), ncol = 49)\n",
    "for (i in 1:ncol(problem32)) {\n",
    "    acfs[i, ] <- acf(problem32[, i], lag.max = 50, plot = F)$acf[2:50]  \n",
    "}"
   ]
  },
  {
   "cell_type": "code",
   "execution_count": 345,
   "id": "ca6da790",
   "metadata": {},
   "outputs": [
    {
     "data": {
      "text/html": [
       "<table class=\"dataframe\">\n",
       "<caption>A data.frame: 6 × 49</caption>\n",
       "<thead>\n",
       "\t<tr><th></th><th scope=col>X1</th><th scope=col>X2</th><th scope=col>X3</th><th scope=col>X4</th><th scope=col>X5</th><th scope=col>X6</th><th scope=col>X7</th><th scope=col>X8</th><th scope=col>X9</th><th scope=col>X10</th><th scope=col>...</th><th scope=col>X40</th><th scope=col>X41</th><th scope=col>X42</th><th scope=col>X43</th><th scope=col>X44</th><th scope=col>X45</th><th scope=col>X46</th><th scope=col>X47</th><th scope=col>X48</th><th scope=col>X49</th></tr>\n",
       "\t<tr><th></th><th scope=col>&lt;dbl&gt;</th><th scope=col>&lt;dbl&gt;</th><th scope=col>&lt;dbl&gt;</th><th scope=col>&lt;dbl&gt;</th><th scope=col>&lt;dbl&gt;</th><th scope=col>&lt;dbl&gt;</th><th scope=col>&lt;dbl&gt;</th><th scope=col>&lt;dbl&gt;</th><th scope=col>&lt;dbl&gt;</th><th scope=col>&lt;dbl&gt;</th><th scope=col>...</th><th scope=col>&lt;dbl&gt;</th><th scope=col>&lt;dbl&gt;</th><th scope=col>&lt;dbl&gt;</th><th scope=col>&lt;dbl&gt;</th><th scope=col>&lt;dbl&gt;</th><th scope=col>&lt;dbl&gt;</th><th scope=col>&lt;dbl&gt;</th><th scope=col>&lt;dbl&gt;</th><th scope=col>&lt;dbl&gt;</th><th scope=col>&lt;dbl&gt;</th></tr>\n",
       "</thead>\n",
       "<tbody>\n",
       "\t<tr><th scope=row>Austria</th><td>0.9869103</td><td>0.9738945</td><td>0.9610272</td><td>0.9483469</td><td>0.9358839</td><td>0.9235627</td><td>0.9113884</td><td>0.8992865</td><td>0.8872453</td><td>0.8752772</td><td>...</td><td>0.5317045</td><td>0.5204199</td><td>0.5091831</td><td>0.4979598</td><td>0.4867449</td><td>0.4755426</td><td>0.4643703</td><td>0.4532669</td><td>0.4422424</td><td>0.4313336</td></tr>\n",
       "\t<tr><th scope=row>Bangladesh</th><td>0.9939576</td><td>0.9877566</td><td>0.9814014</td><td>0.9748946</td><td>0.9682402</td><td>0.9614389</td><td>0.9544910</td><td>0.9473939</td><td>0.9401497</td><td>0.9327650</td><td>...</td><td>0.6551037</td><td>0.6444044</td><td>0.6336432</td><td>0.6228244</td><td>0.6119496</td><td>0.6010194</td><td>0.5900345</td><td>0.5790055</td><td>0.5679337</td><td>0.5568202</td></tr>\n",
       "\t<tr><th scope=row>Bhutan</th><td>0.9945855</td><td>0.9891467</td><td>0.9835901</td><td>0.9779759</td><td>0.9722264</td><td>0.9664591</td><td>0.9606362</td><td>0.9546784</td><td>0.9487972</td><td>0.9427963</td><td>...</td><td>0.7102043</td><td>0.7007492</td><td>0.6911933</td><td>0.6815638</td><td>0.6718471</td><td>0.6620470</td><td>0.6521654</td><td>0.6421743</td><td>0.6320912</td><td>0.6219113</td></tr>\n",
       "\t<tr><th scope=row>Chile</th><td>0.9924549</td><td>0.9848461</td><td>0.9771647</td><td>0.9694148</td><td>0.9615983</td><td>0.9537113</td><td>0.9457676</td><td>0.9377683</td><td>0.9297230</td><td>0.9216348</td><td>...</td><td>0.6574334</td><td>0.6478904</td><td>0.6383022</td><td>0.6286721</td><td>0.6189985</td><td>0.6092850</td><td>0.5995266</td><td>0.5897102</td><td>0.5798314</td><td>0.5699112</td></tr>\n",
       "\t<tr><th scope=row>Colombia</th><td>0.9933398</td><td>0.9865957</td><td>0.9797601</td><td>0.9728376</td><td>0.9658572</td><td>0.9588198</td><td>0.9517289</td><td>0.9445868</td><td>0.9373843</td><td>0.9301208</td><td>...</td><td>0.6884212</td><td>0.6794712</td><td>0.6704593</td><td>0.6613823</td><td>0.6522379</td><td>0.6430293</td><td>0.6337511</td><td>0.6244062</td><td>0.6150000</td><td>0.6055322</td></tr>\n",
       "\t<tr><th scope=row>Costa Rica</th><td>0.9918104</td><td>0.9835349</td><td>0.9751530</td><td>0.9667514</td><td>0.9582855</td><td>0.9497913</td><td>0.9412421</td><td>0.9325714</td><td>0.9238242</td><td>0.9149723</td><td>...</td><td>0.6278797</td><td>0.6180374</td><td>0.6082169</td><td>0.5983956</td><td>0.5887287</td><td>0.5789864</td><td>0.5691815</td><td>0.5594356</td><td>0.5497661</td><td>0.5401296</td></tr>\n",
       "</tbody>\n",
       "</table>\n"
      ],
      "text/latex": [
       "A data.frame: 6 × 49\n",
       "\\begin{tabular}{r|lllllllllllllllllllll}\n",
       "  & X1 & X2 & X3 & X4 & X5 & X6 & X7 & X8 & X9 & X10 & ... & X40 & X41 & X42 & X43 & X44 & X45 & X46 & X47 & X48 & X49\\\\\n",
       "  & <dbl> & <dbl> & <dbl> & <dbl> & <dbl> & <dbl> & <dbl> & <dbl> & <dbl> & <dbl> & ... & <dbl> & <dbl> & <dbl> & <dbl> & <dbl> & <dbl> & <dbl> & <dbl> & <dbl> & <dbl>\\\\\n",
       "\\hline\n",
       "\tAustria & 0.9869103 & 0.9738945 & 0.9610272 & 0.9483469 & 0.9358839 & 0.9235627 & 0.9113884 & 0.8992865 & 0.8872453 & 0.8752772 & ... & 0.5317045 & 0.5204199 & 0.5091831 & 0.4979598 & 0.4867449 & 0.4755426 & 0.4643703 & 0.4532669 & 0.4422424 & 0.4313336\\\\\n",
       "\tBangladesh & 0.9939576 & 0.9877566 & 0.9814014 & 0.9748946 & 0.9682402 & 0.9614389 & 0.9544910 & 0.9473939 & 0.9401497 & 0.9327650 & ... & 0.6551037 & 0.6444044 & 0.6336432 & 0.6228244 & 0.6119496 & 0.6010194 & 0.5900345 & 0.5790055 & 0.5679337 & 0.5568202\\\\\n",
       "\tBhutan & 0.9945855 & 0.9891467 & 0.9835901 & 0.9779759 & 0.9722264 & 0.9664591 & 0.9606362 & 0.9546784 & 0.9487972 & 0.9427963 & ... & 0.7102043 & 0.7007492 & 0.6911933 & 0.6815638 & 0.6718471 & 0.6620470 & 0.6521654 & 0.6421743 & 0.6320912 & 0.6219113\\\\\n",
       "\tChile & 0.9924549 & 0.9848461 & 0.9771647 & 0.9694148 & 0.9615983 & 0.9537113 & 0.9457676 & 0.9377683 & 0.9297230 & 0.9216348 & ... & 0.6574334 & 0.6478904 & 0.6383022 & 0.6286721 & 0.6189985 & 0.6092850 & 0.5995266 & 0.5897102 & 0.5798314 & 0.5699112\\\\\n",
       "\tColombia & 0.9933398 & 0.9865957 & 0.9797601 & 0.9728376 & 0.9658572 & 0.9588198 & 0.9517289 & 0.9445868 & 0.9373843 & 0.9301208 & ... & 0.6884212 & 0.6794712 & 0.6704593 & 0.6613823 & 0.6522379 & 0.6430293 & 0.6337511 & 0.6244062 & 0.6150000 & 0.6055322\\\\\n",
       "\tCosta Rica & 0.9918104 & 0.9835349 & 0.9751530 & 0.9667514 & 0.9582855 & 0.9497913 & 0.9412421 & 0.9325714 & 0.9238242 & 0.9149723 & ... & 0.6278797 & 0.6180374 & 0.6082169 & 0.5983956 & 0.5887287 & 0.5789864 & 0.5691815 & 0.5594356 & 0.5497661 & 0.5401296\\\\\n",
       "\\end{tabular}\n"
      ],
      "text/markdown": [
       "\n",
       "A data.frame: 6 × 49\n",
       "\n",
       "| <!--/--> | X1 &lt;dbl&gt; | X2 &lt;dbl&gt; | X3 &lt;dbl&gt; | X4 &lt;dbl&gt; | X5 &lt;dbl&gt; | X6 &lt;dbl&gt; | X7 &lt;dbl&gt; | X8 &lt;dbl&gt; | X9 &lt;dbl&gt; | X10 &lt;dbl&gt; | ... ... | X40 &lt;dbl&gt; | X41 &lt;dbl&gt; | X42 &lt;dbl&gt; | X43 &lt;dbl&gt; | X44 &lt;dbl&gt; | X45 &lt;dbl&gt; | X46 &lt;dbl&gt; | X47 &lt;dbl&gt; | X48 &lt;dbl&gt; | X49 &lt;dbl&gt; |\n",
       "|---|---|---|---|---|---|---|---|---|---|---|---|---|---|---|---|---|---|---|---|---|---|\n",
       "| Austria | 0.9869103 | 0.9738945 | 0.9610272 | 0.9483469 | 0.9358839 | 0.9235627 | 0.9113884 | 0.8992865 | 0.8872453 | 0.8752772 | ... | 0.5317045 | 0.5204199 | 0.5091831 | 0.4979598 | 0.4867449 | 0.4755426 | 0.4643703 | 0.4532669 | 0.4422424 | 0.4313336 |\n",
       "| Bangladesh | 0.9939576 | 0.9877566 | 0.9814014 | 0.9748946 | 0.9682402 | 0.9614389 | 0.9544910 | 0.9473939 | 0.9401497 | 0.9327650 | ... | 0.6551037 | 0.6444044 | 0.6336432 | 0.6228244 | 0.6119496 | 0.6010194 | 0.5900345 | 0.5790055 | 0.5679337 | 0.5568202 |\n",
       "| Bhutan | 0.9945855 | 0.9891467 | 0.9835901 | 0.9779759 | 0.9722264 | 0.9664591 | 0.9606362 | 0.9546784 | 0.9487972 | 0.9427963 | ... | 0.7102043 | 0.7007492 | 0.6911933 | 0.6815638 | 0.6718471 | 0.6620470 | 0.6521654 | 0.6421743 | 0.6320912 | 0.6219113 |\n",
       "| Chile | 0.9924549 | 0.9848461 | 0.9771647 | 0.9694148 | 0.9615983 | 0.9537113 | 0.9457676 | 0.9377683 | 0.9297230 | 0.9216348 | ... | 0.6574334 | 0.6478904 | 0.6383022 | 0.6286721 | 0.6189985 | 0.6092850 | 0.5995266 | 0.5897102 | 0.5798314 | 0.5699112 |\n",
       "| Colombia | 0.9933398 | 0.9865957 | 0.9797601 | 0.9728376 | 0.9658572 | 0.9588198 | 0.9517289 | 0.9445868 | 0.9373843 | 0.9301208 | ... | 0.6884212 | 0.6794712 | 0.6704593 | 0.6613823 | 0.6522379 | 0.6430293 | 0.6337511 | 0.6244062 | 0.6150000 | 0.6055322 |\n",
       "| Costa Rica | 0.9918104 | 0.9835349 | 0.9751530 | 0.9667514 | 0.9582855 | 0.9497913 | 0.9412421 | 0.9325714 | 0.9238242 | 0.9149723 | ... | 0.6278797 | 0.6180374 | 0.6082169 | 0.5983956 | 0.5887287 | 0.5789864 | 0.5691815 | 0.5594356 | 0.5497661 | 0.5401296 |\n",
       "\n"
      ],
      "text/plain": [
       "           X1        X2        X3        X4        X5        X6       \n",
       "Austria    0.9869103 0.9738945 0.9610272 0.9483469 0.9358839 0.9235627\n",
       "Bangladesh 0.9939576 0.9877566 0.9814014 0.9748946 0.9682402 0.9614389\n",
       "Bhutan     0.9945855 0.9891467 0.9835901 0.9779759 0.9722264 0.9664591\n",
       "Chile      0.9924549 0.9848461 0.9771647 0.9694148 0.9615983 0.9537113\n",
       "Colombia   0.9933398 0.9865957 0.9797601 0.9728376 0.9658572 0.9588198\n",
       "Costa Rica 0.9918104 0.9835349 0.9751530 0.9667514 0.9582855 0.9497913\n",
       "           X7        X8        X9        X10       ... X40       X41      \n",
       "Austria    0.9113884 0.8992865 0.8872453 0.8752772 ... 0.5317045 0.5204199\n",
       "Bangladesh 0.9544910 0.9473939 0.9401497 0.9327650 ... 0.6551037 0.6444044\n",
       "Bhutan     0.9606362 0.9546784 0.9487972 0.9427963 ... 0.7102043 0.7007492\n",
       "Chile      0.9457676 0.9377683 0.9297230 0.9216348 ... 0.6574334 0.6478904\n",
       "Colombia   0.9517289 0.9445868 0.9373843 0.9301208 ... 0.6884212 0.6794712\n",
       "Costa Rica 0.9412421 0.9325714 0.9238242 0.9149723 ... 0.6278797 0.6180374\n",
       "           X42       X43       X44       X45       X46       X47      \n",
       "Austria    0.5091831 0.4979598 0.4867449 0.4755426 0.4643703 0.4532669\n",
       "Bangladesh 0.6336432 0.6228244 0.6119496 0.6010194 0.5900345 0.5790055\n",
       "Bhutan     0.6911933 0.6815638 0.6718471 0.6620470 0.6521654 0.6421743\n",
       "Chile      0.6383022 0.6286721 0.6189985 0.6092850 0.5995266 0.5897102\n",
       "Colombia   0.6704593 0.6613823 0.6522379 0.6430293 0.6337511 0.6244062\n",
       "Costa Rica 0.6082169 0.5983956 0.5887287 0.5789864 0.5691815 0.5594356\n",
       "           X48       X49      \n",
       "Austria    0.4422424 0.4313336\n",
       "Bangladesh 0.5679337 0.5568202\n",
       "Bhutan     0.6320912 0.6219113\n",
       "Chile      0.5798314 0.5699112\n",
       "Colombia   0.6150000 0.6055322\n",
       "Costa Rica 0.5497661 0.5401296"
      ]
     },
     "metadata": {},
     "output_type": "display_data"
    }
   ],
   "source": [
    "acfs <- acfs %>% data.frame()\n",
    "rownames(acfs) <- colnames(problem32)\n",
    "acfs %>% head"
   ]
  },
  {
   "cell_type": "code",
   "execution_count": 348,
   "id": "229f4e8c",
   "metadata": {},
   "outputs": [],
   "source": [
    "library(cluster)\n",
    "library(factoextra)"
   ]
  },
  {
   "cell_type": "code",
   "execution_count": 351,
   "id": "ec921753",
   "metadata": {},
   "outputs": [],
   "source": [
    "d <- dist(acfs, method = \"euclidean\")\n",
    "hc <- hclust(d, method = \"ward.D\")"
   ]
  },
  {
   "cell_type": "markdown",
   "id": "525ac84e",
   "metadata": {},
   "source": [
    "- 와드 연결법 :다른 연결법 보다 분산(variance)이 가장 적고 노이즈나, 이상치에 덜 민감"
   ]
  },
  {
   "cell_type": "code",
   "execution_count": 363,
   "id": "040137b5",
   "metadata": {},
   "outputs": [
    {
     "data": {
      "image/png": "[encoded data removed]",
      "text/plain": [
       "plot without title"
      ]
     },
     "metadata": {
      "image/png": {
       "height": 420,
       "width": 420
      }
     },
     "output_type": "display_data"
    }
   ],
   "source": [
    "p1 <- fviz_nbclust(acfs, FUN = hcut, \"wss\")\n",
    "p2 <- fviz_dend(hc, k = 3)\n",
    "\n",
    "gridExtra::grid.arrange(grobs = list(p1, p2))"
   ]
  },
  {
   "cell_type": "markdown",
   "id": "54578a55",
   "metadata": {
    "papermill": {
     "duration": 0.074726,
     "end_time": "2022-02-12T13:04:04.482675",
     "exception": false,
     "start_time": "2022-02-12T13:04:04.407949",
     "status": "completed"
    },
    "tags": []
   },
   "source": [
    "# 4번\n",
    "아래 이미지와 같은 학과별 학점 분포 인원수 표가 있다. 학과와 성적이 관계있는지를 검정하라    \n",
    "![image](https://github.com/Datamanim/datarepo/blob/main/adp/p1/problem4.png?raw=true)\n"
   ]
  },
  {
   "cell_type": "markdown",
   "id": "cb80e79e",
   "metadata": {
    "papermill": {
     "duration": 0.07369,
     "end_time": "2022-02-12T13:04:04.630462",
     "exception": false,
     "start_time": "2022-02-12T13:04:04.556772",
     "status": "completed"
    },
    "tags": []
   },
   "source": [
    "### 1번\n",
    "귀무가설, 연구가설 세우기"
   ]
  },
  {
   "cell_type": "code",
   "execution_count": 199,
   "id": "f2738190",
   "metadata": {},
   "outputs": [],
   "source": [
    "score <- c(\"1.5 ~ 2.5\", \"2.5 ~ 3.5\", \"3.5 ~ 4.5\")\n",
    "major <- c(\"사회과학\", \"자연과학\", \"공학\")\n",
    "problem4 <- matrix(nrow = 3, ncol = 3, data = c(15, 60, 24, 25, 69, 5, 10 ,77, 13),\n",
    "                   byrow = F)"
   ]
  },
  {
   "cell_type": "code",
   "execution_count": 220,
   "id": "b0945c32",
   "metadata": {},
   "outputs": [
    {
     "data": {
      "text/html": [
       "<table class=\"dataframe\">\n",
       "<caption>A matrix: 4 × 4 of type dbl</caption>\n",
       "<thead>\n",
       "\t<tr><th></th><th scope=col>사회과학</th><th scope=col>자연과학</th><th scope=col>공학</th><th scope=col>Sum</th></tr>\n",
       "</thead>\n",
       "<tbody>\n",
       "\t<tr><th scope=row>1.5 ~ 2.5</th><td>15</td><td>25</td><td> 10</td><td> 50</td></tr>\n",
       "\t<tr><th scope=row>2.5 ~ 3.5</th><td>60</td><td>69</td><td> 77</td><td>206</td></tr>\n",
       "\t<tr><th scope=row>3.5 ~ 4.5</th><td>24</td><td> 5</td><td> 13</td><td> 42</td></tr>\n",
       "\t<tr><th scope=row>Sum</th><td>99</td><td>99</td><td>100</td><td>298</td></tr>\n",
       "</tbody>\n",
       "</table>\n"
      ],
      "text/latex": [
       "A matrix: 4 × 4 of type dbl\n",
       "\\begin{tabular}{r|llll}\n",
       "  & 사회과학 & 자연과학 & 공학 & Sum\\\\\n",
       "\\hline\n",
       "\t1.5 \\textasciitilde{} 2.5 & 15 & 25 &  10 &  50\\\\\n",
       "\t2.5 \\textasciitilde{} 3.5 & 60 & 69 &  77 & 206\\\\\n",
       "\t3.5 \\textasciitilde{} 4.5 & 24 &  5 &  13 &  42\\\\\n",
       "\tSum & 99 & 99 & 100 & 298\\\\\n",
       "\\end{tabular}\n"
      ],
      "text/markdown": [
       "\n",
       "A matrix: 4 × 4 of type dbl\n",
       "\n",
       "| <!--/--> | 사회과학 | 자연과학 | 공학 | Sum |\n",
       "|---|---|---|---|---|\n",
       "| 1.5 ~ 2.5 | 15 | 25 |  10 |  50 |\n",
       "| 2.5 ~ 3.5 | 60 | 69 |  77 | 206 |\n",
       "| 3.5 ~ 4.5 | 24 |  5 |  13 |  42 |\n",
       "| Sum | 99 | 99 | 100 | 298 |\n",
       "\n"
      ],
      "text/plain": [
       "          사회과학 자연과학 공학 Sum\n",
       "1.5 ~ 2.5 15       25        10   50\n",
       "2.5 ~ 3.5 60       69        77  206\n",
       "3.5 ~ 4.5 24        5        13   42\n",
       "Sum       99       99       100  298"
      ]
     },
     "metadata": {},
     "output_type": "display_data"
    }
   ],
   "source": [
    "rownames(problem4) <- score\n",
    "colnames(problem4) <- major\n",
    "(table <- addmargins(problem4))"
   ]
  },
  {
   "cell_type": "markdown",
   "id": "e95bde6a",
   "metadata": {},
   "source": [
    "- 귀무가설 : 학과에 따라 성적의 차이가 없다. (두 변수는 독립이다)\n",
    "- 대립가설 : 학과에 따라 성적의 차이가 있다. (두 변수는 독립이 아니다)"
   ]
  },
  {
   "cell_type": "markdown",
   "id": "2b557957",
   "metadata": {
    "papermill": {
     "duration": 0.074355,
     "end_time": "2022-02-12T13:04:04.927898",
     "exception": false,
     "start_time": "2022-02-12T13:04:04.853543",
     "status": "completed"
    },
    "tags": []
   },
   "source": [
    "### 2번\n",
    "학과와 성적이 독립일 경우의 기댓값을 구하시오"
   ]
  },
  {
   "cell_type": "code",
   "execution_count": 230,
   "id": "57e7bc1a",
   "metadata": {},
   "outputs": [
    {
     "data": {
      "text/html": [
       "<table class=\"dataframe\">\n",
       "<caption>A matrix: 3 × 3 of type dbl</caption>\n",
       "<thead>\n",
       "\t<tr><th></th><th scope=col>사회과학</th><th scope=col>자연과학</th><th scope=col>공학</th></tr>\n",
       "</thead>\n",
       "<tbody>\n",
       "\t<tr><th scope=row>1.5 ~ 2.5</th><td>16.61074</td><td>16.61074</td><td>16.77852</td></tr>\n",
       "\t<tr><th scope=row>2.5 ~ 3.5</th><td>68.43624</td><td>68.43624</td><td>69.12752</td></tr>\n",
       "\t<tr><th scope=row>3.5 ~ 4.5</th><td>13.95302</td><td>13.95302</td><td>14.09396</td></tr>\n",
       "</tbody>\n",
       "</table>\n"
      ],
      "text/latex": [
       "A matrix: 3 × 3 of type dbl\n",
       "\\begin{tabular}{r|lll}\n",
       "  & 사회과학 & 자연과학 & 공학\\\\\n",
       "\\hline\n",
       "\t1.5 \\textasciitilde{} 2.5 & 16.61074 & 16.61074 & 16.77852\\\\\n",
       "\t2.5 \\textasciitilde{} 3.5 & 68.43624 & 68.43624 & 69.12752\\\\\n",
       "\t3.5 \\textasciitilde{} 4.5 & 13.95302 & 13.95302 & 14.09396\\\\\n",
       "\\end{tabular}\n"
      ],
      "text/markdown": [
       "\n",
       "A matrix: 3 × 3 of type dbl\n",
       "\n",
       "| <!--/--> | 사회과학 | 자연과학 | 공학 |\n",
       "|---|---|---|---|\n",
       "| 1.5 ~ 2.5 | 16.61074 | 16.61074 | 16.77852 |\n",
       "| 2.5 ~ 3.5 | 68.43624 | 68.43624 | 69.12752 |\n",
       "| 3.5 ~ 4.5 | 13.95302 | 13.95302 | 14.09396 |\n",
       "\n"
      ],
      "text/plain": [
       "          사회과학 자연과학 공학    \n",
       "1.5 ~ 2.5 16.61074 16.61074 16.77852\n",
       "2.5 ~ 3.5 68.43624 68.43624 69.12752\n",
       "3.5 ~ 4.5 13.95302 13.95302 14.09396"
      ]
     },
     "metadata": {},
     "output_type": "display_data"
    }
   ],
   "source": [
    "E <- matrix(nrow = 3, ncol = 3)\n",
    "for (i in 1:3) {\n",
    "    for (j in 1:3) {\n",
    "        E[i, j] <- table[i, 4] * table[4, j] / 298\n",
    "    }\n",
    "}\n",
    "rownames(E) <- score\n",
    "colnames(E) <- major\n",
    "E"
   ]
  },
  {
   "cell_type": "markdown",
   "id": "d4a17c79",
   "metadata": {
    "papermill": {
     "duration": 0.073553,
     "end_time": "2022-02-12T13:04:05.223657",
     "exception": false,
     "start_time": "2022-02-12T13:04:05.150104",
     "status": "completed"
    },
    "tags": []
   },
   "source": [
    "### 3번\n",
    "검정통계량 구하고 연구가설의 채택여부 작성"
   ]
  },
  {
   "cell_type": "code",
   "execution_count": 213,
   "id": "777ecca4",
   "metadata": {
    "papermill": {
     "duration": 0.073514,
     "end_time": "2022-02-12T13:04:05.371903",
     "exception": false,
     "start_time": "2022-02-12T13:04:05.298389",
     "status": "completed"
    },
    "tags": []
   },
   "outputs": [
    {
     "name": "stdout",
     "output_type": "stream",
     "text": [
      "\n",
      " \n",
      "   Cell Contents\n",
      "|-------------------------|\n",
      "|                       N |\n",
      "| Chi-square contribution |\n",
      "|           N / Row Total |\n",
      "|           N / Col Total |\n",
      "|         N / Table Total |\n",
      "|-------------------------|\n",
      "\n",
      " \n",
      "Total Observations in Table:  298 \n",
      "\n",
      " \n",
      "             |  \n",
      "             |  사회과학 |  자연과학 |      공학 | Row Total | \n",
      "-------------|-----------|-----------|-----------|-----------|\n",
      "   1.5 ~ 2.5 |        15 |        25 |        10 |        50 | \n",
      "             |     0.156 |     4.237 |     2.739 |           | \n",
      "             |     0.300 |     0.500 |     0.200 |     0.168 | \n",
      "             |     0.152 |     0.253 |     0.100 |           | \n",
      "             |     0.050 |     0.084 |     0.034 |           | \n",
      "-------------|-----------|-----------|-----------|-----------|\n",
      "   2.5 ~ 3.5 |        60 |        69 |        77 |       206 | \n",
      "             |     1.040 |     0.005 |     0.897 |           | \n",
      "             |     0.291 |     0.335 |     0.374 |     0.691 | \n",
      "             |     0.606 |     0.697 |     0.770 |           | \n",
      "             |     0.201 |     0.232 |     0.258 |           | \n",
      "-------------|-----------|-----------|-----------|-----------|\n",
      "   3.5 ~ 4.5 |        24 |         5 |        13 |        42 | \n",
      "             |     7.234 |     5.745 |     0.085 |           | \n",
      "             |     0.571 |     0.119 |     0.310 |     0.141 | \n",
      "             |     0.242 |     0.051 |     0.130 |           | \n",
      "             |     0.081 |     0.017 |     0.044 |           | \n",
      "-------------|-----------|-----------|-----------|-----------|\n",
      "Column Total |        99 |        99 |       100 |       298 | \n",
      "             |     0.332 |     0.332 |     0.336 |           | \n",
      "-------------|-----------|-----------|-----------|-----------|\n",
      "\n",
      " \n",
      "Statistics for All Table Factors\n",
      "\n",
      "\n",
      "Pearson's Chi-squared test \n",
      "------------------------------------------------------------\n",
      "Chi^2 =  22.13692     d.f. =  4     p =  0.0001882265 \n",
      "\n",
      "\n",
      " \n"
     ]
    }
   ],
   "source": [
    "library(\"gmodels\")\n",
    "ct <- CrossTable(problem4, chisq = T)\n",
    "# chisq.test(problem4)"
   ]
  },
  {
   "cell_type": "markdown",
   "id": "b4a6a1d1",
   "metadata": {},
   "source": [
    "- 검정통계량 : 22.13692, P-value < 0.05 => 귀무가설 기각 \n",
    "- 학과와 성적의 관련성은 있는 것으로 나타났다."
   ]
  }
 ],
 "metadata": {
  "kernelspec": {
   "display_name": "R 4.1.3",
   "language": "R",
   "name": "ir32"
  },
  "language_info": {
   "codemirror_mode": "r",
   "file_extension": ".r",
   "mimetype": "text/x-r-source",
   "name": "R",
   "pygments_lexer": "r",
   "version": "4.1.3"
  },
  "papermill": {
   "default_parameters": {},
   "duration": 9.968413,
   "end_time": "2022-02-12T13:04:05.554939",
   "environment_variables": {},
   "exception": null,
   "input_path": "__notebook__.ipynb",
   "output_path": "__notebook__.ipynb",
   "parameters": {},
   "start_time": "2022-02-12T13:03:55.586526",
   "version": "2.3.3"
  }
 },
 "nbformat": 4,
 "nbformat_minor": 5
}
