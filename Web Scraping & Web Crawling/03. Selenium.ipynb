{
 "cells": [
  {
   "cell_type": "markdown",
   "id": "b5cbbb20",
   "metadata": {},
   "source": [
    "# Selenium"
   ]
  },
  {
   "cell_type": "markdown",
   "id": "fbfd32da",
   "metadata": {},
   "source": [
    "## Selenium 및 웹 드라이버 설치"
   ]
  },
  {
   "cell_type": "code",
   "execution_count": 1,
   "id": "a85d92da",
   "metadata": {},
   "outputs": [],
   "source": [
    "import selenium"
   ]
  },
  {
   "cell_type": "code",
   "execution_count": 2,
   "id": "448b713c",
   "metadata": {},
   "outputs": [
    {
     "data": {
      "text/plain": [
       "'4.4.3'"
      ]
     },
     "execution_count": 2,
     "metadata": {},
     "output_type": "execute_result"
    }
   ],
   "source": [
    "selenium.__version__"
   ]
  },
  {
   "cell_type": "code",
   "execution_count": 3,
   "id": "79919f82",
   "metadata": {},
   "outputs": [],
   "source": [
    "from selenium import webdriver"
   ]
  },
  {
   "cell_type": "code",
   "execution_count": 9,
   "id": "2acdfbf1",
   "metadata": {},
   "outputs": [
    {
     "name": "stderr",
     "output_type": "stream",
     "text": [
      "C:\\Users\\이찬솔\\AppData\\Local\\Temp\\ipykernel_6828\\1978562881.py:1: DeprecationWarning: executable_path has been deprecated, please pass in a Service object\n",
      "  browser = webdriver.Chrome('./chromedriver.exe')\n"
     ]
    }
   ],
   "source": [
    "browser = webdriver.Chrome('./chromedriver.exe')"
   ]
  },
  {
   "cell_type": "code",
   "execution_count": 10,
   "id": "acb3ae3e",
   "metadata": {},
   "outputs": [],
   "source": [
    "url = \"http://naver.com\"\n",
    "\n",
    "browser.get(url)"
   ]
  },
  {
   "cell_type": "markdown",
   "id": "bb00b00f",
   "metadata": {},
   "source": [
    "#### **NAVER 로그인 창**"
   ]
  },
  {
   "cell_type": "code",
   "execution_count": 11,
   "id": "5c93310c",
   "metadata": {},
   "outputs": [],
   "source": [
    "from selenium.webdriver.common.by import By"
   ]
  },
  {
   "cell_type": "code",
   "execution_count": 13,
   "id": "9d6e67a6",
   "metadata": {},
   "outputs": [
    {
     "data": {
      "text/plain": [
       "<selenium.webdriver.remote.webelement.WebElement (session=\"bbb5ebe4e844def3b5c2943ea8ad176f\", element=\"b547e754-8e96-4da7-9b0d-0d8a257a8693\")>"
      ]
     },
     "execution_count": 13,
     "metadata": {},
     "output_type": "execute_result"
    }
   ],
   "source": [
    "element = browser.find_element(By.CLASS_NAME, 'link_login')\n",
    "element"
   ]
  },
  {
   "cell_type": "markdown",
   "id": "47cc85ac",
   "metadata": {},
   "source": [
    "- **선택한 링크 클릭**"
   ]
  },
  {
   "cell_type": "code",
   "execution_count": 14,
   "id": "fc550e08",
   "metadata": {},
   "outputs": [],
   "source": [
    "element.click()"
   ]
  },
  {
   "cell_type": "markdown",
   "id": "563cc5e4",
   "metadata": {},
   "source": [
    "- **이전 페이지 돌아가기**"
   ]
  },
  {
   "cell_type": "code",
   "execution_count": 15,
   "id": "e5d6acd4",
   "metadata": {},
   "outputs": [],
   "source": [
    "browser.back()"
   ]
  },
  {
   "cell_type": "markdown",
   "id": "24647a39",
   "metadata": {},
   "source": [
    "- **다음 페이지 넘어가기**"
   ]
  },
  {
   "cell_type": "code",
   "execution_count": null,
   "id": "06a94ed9",
   "metadata": {},
   "outputs": [],
   "source": [
    "browser.forward()"
   ]
  },
  {
   "cell_type": "markdown",
   "id": "574b7544",
   "metadata": {},
   "source": [
    "- **페이지 새로고침**"
   ]
  },
  {
   "cell_type": "code",
   "execution_count": 16,
   "id": "77382aaa",
   "metadata": {},
   "outputs": [],
   "source": [
    "browser.refresh()"
   ]
  },
  {
   "cell_type": "markdown",
   "id": "a08ac622",
   "metadata": {},
   "source": [
    "- **창 최대화**"
   ]
  },
  {
   "cell_type": "code",
   "execution_count": null,
   "id": "94c34e2f",
   "metadata": {},
   "outputs": [],
   "source": [
    "browser.maximize_window()"
   ]
  },
  {
   "cell_type": "markdown",
   "id": "2ccb0136",
   "metadata": {},
   "source": [
    "- **창 최소화**"
   ]
  },
  {
   "cell_type": "code",
   "execution_count": null,
   "id": "84a6ee3a",
   "metadata": {},
   "outputs": [],
   "source": [
    "browser.minimize_window()"
   ]
  },
  {
   "cell_type": "markdown",
   "id": "3aca98d8",
   "metadata": {},
   "source": [
    "- **브라우저 HTML 정보 출력**"
   ]
  },
  {
   "cell_type": "code",
   "execution_count": null,
   "id": "2df94c4b",
   "metadata": {},
   "outputs": [],
   "source": [
    "browser.page_source"
   ]
  },
  {
   "cell_type": "markdown",
   "id": "55368b40",
   "metadata": {},
   "source": [
    "- **탭 닫기**"
   ]
  },
  {
   "cell_type": "code",
   "execution_count": null,
   "id": "ce8b2d5a",
   "metadata": {},
   "outputs": [],
   "source": [
    "browser.close()"
   ]
  },
  {
   "cell_type": "markdown",
   "id": "e961cba7",
   "metadata": {},
   "source": [
    "- **창 닫기**"
   ]
  },
  {
   "cell_type": "code",
   "execution_count": null,
   "id": "a9e52c27",
   "metadata": {},
   "outputs": [],
   "source": [
    "browser.quit()"
   ]
  },
  {
   "cell_type": "markdown",
   "id": "1e7c8799",
   "metadata": {},
   "source": [
    "# \n",
    "#### NAVER 검색창에 검색어 입력"
   ]
  },
  {
   "cell_type": "code",
   "execution_count": null,
   "id": "55c24d47",
   "metadata": {},
   "outputs": [],
   "source": [
    "from selenium.webdriver.common.keys import Keys"
   ]
  },
  {
   "cell_type": "code",
   "execution_count": 32,
   "id": "d2dcbb78",
   "metadata": {},
   "outputs": [],
   "source": [
    "element = browser.find_element(By.ID, 'query')\n",
    "\n",
    "element.send_keys('이강인')\n",
    "element.send_keys(Keys.ENTER)"
   ]
  },
  {
   "cell_type": "markdown",
   "id": "0646a7e0",
   "metadata": {},
   "source": [
    "# \n",
    "#### 검색창 결과에서 태그로 정보 가져오기"
   ]
  },
  {
   "cell_type": "code",
   "execution_count": 35,
   "id": "e5bd6ad7",
   "metadata": {},
   "outputs": [],
   "source": [
    "element = browser.find_elements(By.TAG_NAME, 'a')"
   ]
  },
  {
   "cell_type": "code",
   "execution_count": 39,
   "id": "fa8c4fca",
   "metadata": {},
   "outputs": [],
   "source": [
    "elements_attributes = []\n",
    "for e in element:\n",
    "    elements_attributes.append(e.get_attribute('href'))"
   ]
  },
  {
   "cell_type": "code",
   "execution_count": 42,
   "id": "0f1a001e",
   "metadata": {},
   "outputs": [
    {
     "data": {
      "text/plain": [
       "['https://search.naver.com/search.naver?where=nexearch&sm=top_hty&fbm=0&ie=utf8&query=%EC%9D%B4%EA%B0%95%EC%9D%B8#lnb',\n",
       " 'https://search.naver.com/search.naver?where=nexearch&sm=top_hty&fbm=0&ie=utf8&query=%EC%9D%B4%EA%B0%95%EC%9D%B8#content',\n",
       " 'https://www.naver.com/']"
      ]
     },
     "execution_count": 42,
     "metadata": {},
     "output_type": "execute_result"
    }
   ],
   "source": [
    "elements_attributes[:3]"
   ]
  },
  {
   "cell_type": "markdown",
   "id": "d44fefef",
   "metadata": {},
   "source": [
    "# \n",
    "#### 다른 웹 사이트로 이동 (DAUM)"
   ]
  },
  {
   "cell_type": "code",
   "execution_count": 49,
   "id": "8979df4f",
   "metadata": {},
   "outputs": [],
   "source": [
    "browser.get(\"http://daum.net\")"
   ]
  },
  {
   "cell_type": "code",
   "execution_count": 55,
   "id": "31372786",
   "metadata": {},
   "outputs": [],
   "source": [
    "element = browser.find_element(By.ID, 'q')"
   ]
  },
  {
   "cell_type": "code",
   "execution_count": 51,
   "id": "b471aeaa",
   "metadata": {},
   "outputs": [],
   "source": [
    "element.send_keys('이강인')\n",
    "element.send_keys(Keys.ENTER)"
   ]
  },
  {
   "cell_type": "code",
   "execution_count": 69,
   "id": "b12dcaa0",
   "metadata": {},
   "outputs": [],
   "source": [
    "browser.back()"
   ]
  },
  {
   "cell_type": "markdown",
   "id": "51f886a0",
   "metadata": {},
   "source": [
    "# \n",
    "#### XPATH로 검색"
   ]
  },
  {
   "cell_type": "code",
   "execution_count": 70,
   "id": "694f1af0",
   "metadata": {},
   "outputs": [],
   "source": [
    "element = browser.find_element(By.ID, 'q')\n",
    "element.send_keys('이강인')"
   ]
  },
  {
   "cell_type": "code",
   "execution_count": 71,
   "id": "c2ef2b2f",
   "metadata": {},
   "outputs": [],
   "source": [
    "element = browser.find_element(By.XPATH, \n",
    "                               \"//*[@id='daumSearch']/fieldset/div/div/button[3]\")\n",
    "element.click()"
   ]
  },
  {
   "cell_type": "code",
   "execution_count": 72,
   "id": "f73343e7",
   "metadata": {},
   "outputs": [],
   "source": [
    "browser.quit()"
   ]
  },
  {
   "cell_type": "markdown",
   "id": "dd131007",
   "metadata": {},
   "source": [
    "# \n",
    "# \n",
    "# \n",
    "## 네이버 로그인"
   ]
  },
  {
   "cell_type": "markdown",
   "id": "97c39e68",
   "metadata": {},
   "source": [
    "1. 네이버 접속"
   ]
  },
  {
   "cell_type": "code",
   "execution_count": 74,
   "id": "c7804a7a",
   "metadata": {},
   "outputs": [],
   "source": [
    "browser = webdriver.Chrome()\n",
    "browser.get(\"http://naver.com\")"
   ]
  },
  {
   "cell_type": "markdown",
   "id": "4f9382c5",
   "metadata": {},
   "source": [
    "2. 로그인 창 클릭"
   ]
  },
  {
   "cell_type": "code",
   "execution_count": 81,
   "id": "4327b0a2",
   "metadata": {},
   "outputs": [],
   "source": [
    "element = browser.find_element(By.CLASS_NAME, 'link_login')\n",
    "element.click()"
   ]
  },
  {
   "cell_type": "markdown",
   "id": "dcb1067f",
   "metadata": {},
   "source": [
    "3. ID, PW 입력\n",
    "- ID와 PW가 동시에 입력될 경우, NAVER에서 해킹을 의심하여 자동입력 방지 문자 표시 => 5초의 간격을 두고 입력"
   ]
  },
  {
   "cell_type": "code",
   "execution_count": 86,
   "id": "b1b5b3b8",
   "metadata": {},
   "outputs": [],
   "source": [
    "import time"
   ]
  },
  {
   "cell_type": "code",
   "execution_count": 87,
   "id": "c04d6cf5",
   "metadata": {},
   "outputs": [],
   "source": [
    "browser.find_element(By.ID, 'id').send_keys('coldkid1124')\n",
    "time.sleep(5)\n",
    "browser.find_element(By.ID, 'pw').send_keys('skt1te!ddy')"
   ]
  },
  {
   "cell_type": "markdown",
   "id": "1dfd6e04",
   "metadata": {},
   "source": [
    "4. 로그인 버튼 클릭"
   ]
  },
  {
   "cell_type": "code",
   "execution_count": null,
   "id": "0d9ae5c5",
   "metadata": {},
   "outputs": [],
   "source": [
    "browser.find_element(By.CLASS_NAME, 'btn_login').click()"
   ]
  },
  {
   "cell_type": "markdown",
   "id": "efe65ed4",
   "metadata": {},
   "source": [
    "5. html 정보 출력"
   ]
  },
  {
   "cell_type": "code",
   "execution_count": 90,
   "id": "0586edba",
   "metadata": {},
   "outputs": [],
   "source": [
    "# browser.page_source"
   ]
  },
  {
   "cell_type": "markdown",
   "id": "76ec641e",
   "metadata": {},
   "source": [
    "6. 브라우저 종료"
   ]
  },
  {
   "cell_type": "code",
   "execution_count": 91,
   "id": "353382a8",
   "metadata": {},
   "outputs": [],
   "source": [
    "browser.quit()"
   ]
  }
 ],
 "metadata": {
  "kernelspec": {
   "display_name": "Python 3 (ipykernel)",
   "language": "python",
   "name": "python3"
  },
  "language_info": {
   "codemirror_mode": {
    "name": "ipython",
    "version": 3
   },
   "file_extension": ".py",
   "mimetype": "text/x-python",
   "name": "python",
   "nbconvert_exporter": "python",
   "pygments_lexer": "ipython3",
   "version": "3.9.7"
  }
 },
 "nbformat": 4,
 "nbformat_minor": 5
}
