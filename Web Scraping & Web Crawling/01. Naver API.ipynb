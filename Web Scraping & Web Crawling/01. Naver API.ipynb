{
 "cells": [
  {
   "cell_type": "markdown",
   "id": "d4a617bf",
   "metadata": {},
   "source": [
    "# 네이버 검색 API 서비스\n",
    "\n",
    "\n",
    "# \n",
    "# \n",
    "\n",
    "## 네이버 웹문서 검색 API\n",
    "https://developers.naver.com/docs/serviceapi/search/web/web.md#%EC%9B%B9%EB%AC%B8%EC%84%9C"
   ]
  },
  {
   "cell_type": "code",
   "execution_count": 1,
   "id": "5f734b0d",
   "metadata": {},
   "outputs": [],
   "source": [
    "import os\n",
    "import sys\n",
    "import urllib.request\n",
    "\n",
    "import pandas as pd\n",
    "import json\n",
    "import re"
   ]
  },
  {
   "cell_type": "code",
   "execution_count": 2,
   "id": "ada740f1",
   "metadata": {},
   "outputs": [],
   "source": [
    "client_id = \"Mt8I_pQDaWDTGHwSd_pN\"\n",
    "client_secret = \"0BGjzmfDrz\""
   ]
  },
  {
   "cell_type": "code",
   "execution_count": 3,
   "id": "c82696f6",
   "metadata": {},
   "outputs": [
    {
     "name": "stdout",
     "output_type": "stream",
     "text": [
      "검색 질의: 이강인\n"
     ]
    }
   ],
   "source": [
    "query = urllib.parse.quote(input(\"검색 질의: \"))\n",
    "\n",
    "idx = 0\n",
    "display = 100\n",
    "start = 1\n",
    "end = 1000\n",
    "\n",
    "web_df = pd.DataFrame(columns = ('Title', 'Link', 'Description'))\n",
    "\n",
    "for start_index in range(start, end, display):\n",
    "    \n",
    "    url = \"https://openapi.naver.com/v1/search/webkr?query=\" + query + \\\n",
    "        \"&display=\" + str(display) + \\\n",
    "        \"&start=\" + str(start_index)\n",
    "    \n",
    "    request = urllib.request.Request(url)\n",
    "    request.add_header(\"X-Naver-Client-Id\",client_id)\n",
    "    request.add_header(\"X-Naver-Client-Secret\",client_secret)\n",
    "    response = urllib.request.urlopen(request)\n",
    "    rescode = response.getcode()\n",
    "\n",
    "    if(rescode==200):\n",
    "        response_body = response.read()\n",
    "        response_dict = json.loads(response_body.decode('utf-8'))\n",
    "        items = response_dict['items']\n",
    "        for item_index in range(0, len(items)):\n",
    "            remove_tag = re.compile('<.*?>|&.*?;')\n",
    "            title = re.sub(remove_tag, '', items[item_index]['title'])\n",
    "            link = items[item_index]['link']\n",
    "            description = re.sub(remove_tag, '', items[item_index]['description'])\n",
    "            web_df.loc[idx] = [title, link, description]\n",
    "            idx += 1\n",
    "    else:\n",
    "        print(\"Error Code:\" + rescode)"
   ]
  },
  {
   "cell_type": "code",
   "execution_count": 4,
   "id": "4d2fcb80",
   "metadata": {},
   "outputs": [
    {
     "data": {
      "text/plain": [
       "(156, 3)"
      ]
     },
     "execution_count": 4,
     "metadata": {},
     "output_type": "execute_result"
    }
   ],
   "source": [
    "web_df.shape"
   ]
  },
  {
   "cell_type": "code",
   "execution_count": 5,
   "id": "5bfb13b2",
   "metadata": {},
   "outputs": [
    {
     "data": {
      "text/html": [
       "<div>\n",
       "<style scoped>\n",
       "    .dataframe tbody tr th:only-of-type {\n",
       "        vertical-align: middle;\n",
       "    }\n",
       "\n",
       "    .dataframe tbody tr th {\n",
       "        vertical-align: top;\n",
       "    }\n",
       "\n",
       "    .dataframe thead th {\n",
       "        text-align: right;\n",
       "    }\n",
       "</style>\n",
       "<table border=\"1\" class=\"dataframe\">\n",
       "  <thead>\n",
       "    <tr style=\"text-align: right;\">\n",
       "      <th></th>\n",
       "      <th>Title</th>\n",
       "      <th>Link</th>\n",
       "      <th>Description</th>\n",
       "    </tr>\n",
       "  </thead>\n",
       "  <tbody>\n",
       "    <tr>\n",
       "      <th>0</th>\n",
       "      <td>이강인 - 나무위키</td>\n",
       "      <td>https://namu.wiki/w/%EC%9D%B4%EA%B0%95%EC%9D%B8</td>\n",
       "      <td>대한민국 국적의 RCD 마요르카 소속 축구선수. 포지션은 공격형 미드필더.</td>\n",
       "    </tr>\n",
       "    <tr>\n",
       "      <th>1</th>\n",
       "      <td>'골때녀' 이강인 누나 이정은 동생, 요즘 골 너무 못 넣어 - 매일경제</td>\n",
       "      <td>https://www.mk.co.kr/star/broadcasting-service...</td>\n",
       "      <td>`골때녀` 이강인 누나 이정은 동생, 요즘 골 너무 못 넣어 - 스타투데이, 작성자...</td>\n",
       "    </tr>\n",
       "    <tr>\n",
       "      <th>2</th>\n",
       "      <td>이강인-KANG IN LEE🇰🇷🇪🇸(@kanginleeoficial) • Insta...</td>\n",
       "      <td>https://www.instagram.com/kanginleeoficial/</td>\n",
       "      <td>팔로워 22.2만명, 팔로잉 176명, 게시물 33개 - 이강인-KANG IN LE...</td>\n",
       "    </tr>\n",
       "  </tbody>\n",
       "</table>\n",
       "</div>"
      ],
      "text/plain": [
       "                                               Title  \\\n",
       "0                                         이강인 - 나무위키   \n",
       "1           '골때녀' 이강인 누나 이정은 동생, 요즘 골 너무 못 넣어 - 매일경제   \n",
       "2  이강인-KANG IN LEE🇰🇷🇪🇸(@kanginleeoficial) • Insta...   \n",
       "\n",
       "                                                Link  \\\n",
       "0    https://namu.wiki/w/%EC%9D%B4%EA%B0%95%EC%9D%B8   \n",
       "1  https://www.mk.co.kr/star/broadcasting-service...   \n",
       "2        https://www.instagram.com/kanginleeoficial/   \n",
       "\n",
       "                                         Description  \n",
       "0          대한민국 국적의 RCD 마요르카 소속 축구선수. 포지션은 공격형 미드필더.  \n",
       "1  `골때녀` 이강인 누나 이정은 동생, 요즘 골 너무 못 넣어 - 스타투데이, 작성자...  \n",
       "2  팔로워 22.2만명, 팔로잉 176명, 게시물 33개 - 이강인-KANG IN LE...  "
      ]
     },
     "execution_count": 5,
     "metadata": {},
     "output_type": "execute_result"
    }
   ],
   "source": [
    "web_df.head(3)"
   ]
  },
  {
   "cell_type": "markdown",
   "id": "a12b74d3",
   "metadata": {},
   "source": [
    "# \n",
    "# \n",
    "## 네이버 지식 iN 검색 API\n",
    "https://developers.naver.com/docs/serviceapi/search/kin/kin.md#%EC%A7%80%EC%8B%9DiN"
   ]
  },
  {
   "cell_type": "code",
   "execution_count": 6,
   "id": "cc85b42c",
   "metadata": {},
   "outputs": [
    {
     "name": "stdout",
     "output_type": "stream",
     "text": [
      "검색 질의: 이강인\n"
     ]
    }
   ],
   "source": [
    "query = urllib.parse.quote(input(\"검색 질의: \"))\n",
    "\n",
    "idx = 0\n",
    "display = 100\n",
    "start = 1\n",
    "end = 1000\n",
    "sort = \"sim\" \n",
    "# \"sim\" : 유사도 순 / \"date\"  : 날짜 순 / \"point\" : 평점 순\n",
    "\n",
    "kin_df = pd.DataFrame(columns = ('Title', 'Link', 'Description'))\n",
    "\n",
    "for start_index in range(start, end, display):\n",
    "    \n",
    "    url = \"https://openapi.naver.com/v1/search/kin?query=\" + query + \\\n",
    "        \"&display=\" + str(display) + \\\n",
    "        \"&start=\" + str(start_index) + \\\n",
    "        \"&sort=\" + sort\n",
    "    \n",
    "    request = urllib.request.Request(url)\n",
    "    request.add_header(\"X-Naver-Client-Id\",client_id)\n",
    "    request.add_header(\"X-Naver-Client-Secret\",client_secret)\n",
    "    response = urllib.request.urlopen(request)\n",
    "    rescode = response.getcode()\n",
    "\n",
    "    if(rescode==200):\n",
    "        response_body = response.read()\n",
    "        response_dict = json.loads(response_body.decode('utf-8'))\n",
    "        items = response_dict['items']\n",
    "        for item_index in range(0, len(items)):\n",
    "            remove_tag = re.compile('<.*?>|&.*?;')\n",
    "            \n",
    "            title = re.sub(remove_tag, '', items[item_index]['title'])\n",
    "            link = items[item_index]['link']\n",
    "            description = re.sub(remove_tag, '', items[item_index]['description'])\n",
    "            \n",
    "            kin_df.loc[idx] = [title, link, description]\n",
    "            \n",
    "            idx += 1\n",
    "    else:\n",
    "        print(\"Error Code:\" + rescode)"
   ]
  },
  {
   "cell_type": "code",
   "execution_count": 7,
   "id": "54e5438e",
   "metadata": {},
   "outputs": [
    {
     "data": {
      "text/plain": [
       "(1000, 3)"
      ]
     },
     "execution_count": 7,
     "metadata": {},
     "output_type": "execute_result"
    }
   ],
   "source": [
    "kin_df.shape"
   ]
  },
  {
   "cell_type": "code",
   "execution_count": 8,
   "id": "2de25e1c",
   "metadata": {},
   "outputs": [
    {
     "data": {
      "text/html": [
       "<div>\n",
       "<style scoped>\n",
       "    .dataframe tbody tr th:only-of-type {\n",
       "        vertical-align: middle;\n",
       "    }\n",
       "\n",
       "    .dataframe tbody tr th {\n",
       "        vertical-align: top;\n",
       "    }\n",
       "\n",
       "    .dataframe thead th {\n",
       "        text-align: right;\n",
       "    }\n",
       "</style>\n",
       "<table border=\"1\" class=\"dataframe\">\n",
       "  <thead>\n",
       "    <tr style=\"text-align: right;\">\n",
       "      <th></th>\n",
       "      <th>Title</th>\n",
       "      <th>Link</th>\n",
       "      <th>Description</th>\n",
       "    </tr>\n",
       "  </thead>\n",
       "  <tbody>\n",
       "    <tr>\n",
       "      <th>0</th>\n",
       "      <td>이강인 월드컵</td>\n",
       "      <td>https://kin.naver.com/qna/detail.naver?d1id=10...</td>\n",
       "      <td>이강인 선수 월드컵에 출전 가능하겠죠?  벤투감독라인에선 희망이 보이 지 않으나.....</td>\n",
       "    </tr>\n",
       "    <tr>\n",
       "      <th>1</th>\n",
       "      <td>이강인 국가대표</td>\n",
       "      <td>https://kin.naver.com/qna/detail.naver?d1id=10...</td>\n",
       "      <td>아직은 황인범 이나 황희찬이 이강인보다는 잘하죠? 황희찬 황인범 교체멤버로 이강인 ...</td>\n",
       "    </tr>\n",
       "    <tr>\n",
       "      <th>2</th>\n",
       "      <td>손흥민과 이강인</td>\n",
       "      <td>https://kin.naver.com/qna/detail.naver?d1id=10...</td>\n",
       "      <td>손흥민과 이강인 닮았나요? 친구들이 닮았다고 해서 좀 의문이네여ㅠㅠ 진짜 닮았어요?...</td>\n",
       "    </tr>\n",
       "  </tbody>\n",
       "</table>\n",
       "</div>"
      ],
      "text/plain": [
       "      Title                                               Link  \\\n",
       "0   이강인 월드컵  https://kin.naver.com/qna/detail.naver?d1id=10...   \n",
       "1  이강인 국가대표  https://kin.naver.com/qna/detail.naver?d1id=10...   \n",
       "2  손흥민과 이강인  https://kin.naver.com/qna/detail.naver?d1id=10...   \n",
       "\n",
       "                                         Description  \n",
       "0  이강인 선수 월드컵에 출전 가능하겠죠?  벤투감독라인에선 희망이 보이 지 않으나.....  \n",
       "1  아직은 황인범 이나 황희찬이 이강인보다는 잘하죠? 황희찬 황인범 교체멤버로 이강인 ...  \n",
       "2  손흥민과 이강인 닮았나요? 친구들이 닮았다고 해서 좀 의문이네여ㅠㅠ 진짜 닮았어요?...  "
      ]
     },
     "execution_count": 8,
     "metadata": {},
     "output_type": "execute_result"
    }
   ],
   "source": [
    "kin_df.head(3)"
   ]
  },
  {
   "cell_type": "markdown",
   "id": "dc50e197",
   "metadata": {},
   "source": [
    "# \n",
    "# \n",
    "## 네이버 블로그 검색 API\n",
    "https://developers.naver.com/docs/serviceapi/search/blog/blog.md#%EB%B8%94%EB%A1%9C%EA%B7%B8"
   ]
  },
  {
   "cell_type": "code",
   "execution_count": 12,
   "id": "5b46bd01",
   "metadata": {},
   "outputs": [
    {
     "name": "stdout",
     "output_type": "stream",
     "text": [
      "검색 질의: 이강인\n"
     ]
    }
   ],
   "source": [
    "query = urllib.parse.quote(input(\"검색 질의: \"))\n",
    "\n",
    "idx = 0\n",
    "display = 100\n",
    "start = 1\n",
    "end = 1000\n",
    "sort = \"sim\" \n",
    "# \"sim\" : 유사도 순 / \"date\"  : 날짜 순 \n",
    "\n",
    "blog_df = pd.DataFrame(columns = ('Title', 'Link', 'Description', \n",
    "                                  'Blogger Name', 'Blogger Link', 'Post Date'))\n",
    "\n",
    "for start_index in range(start, end, display):\n",
    "    \n",
    "    url = \"https://openapi.naver.com/v1/search/blog?query=\" + query + \\\n",
    "        \"&display=\" + str(display) + \\\n",
    "        \"&start=\" + str(start_index) + \\\n",
    "        \"&sort=\" + sort\n",
    "    \n",
    "    request = urllib.request.Request(url)\n",
    "    request.add_header(\"X-Naver-Client-Id\",client_id)\n",
    "    request.add_header(\"X-Naver-Client-Secret\",client_secret)\n",
    "    response = urllib.request.urlopen(request)\n",
    "    rescode = response.getcode()\n",
    "\n",
    "    if(rescode==200):\n",
    "        response_body = response.read()\n",
    "        response_dict = json.loads(response_body.decode('utf-8'))\n",
    "        items = response_dict['items']\n",
    "        for item_index in range(0, len(items)):\n",
    "            remove_tag = re.compile('<.*?>|&.*?;')\n",
    "            \n",
    "            title = re.sub(remove_tag, '', items[item_index]['title'])\n",
    "            link = items[item_index]['link']\n",
    "            description = re.sub(remove_tag, '', items[item_index]['description'])\n",
    "            blogger_name = items[item_index]['bloggername']\n",
    "            blogger_link = items[item_index]['bloggerlink']\n",
    "            post_date = items[item_index]['postdate']\n",
    "            \n",
    "            blog_df.loc[idx] = [title, link, description, \n",
    "                                blogger_name, blogger_link, post_date]\n",
    "            \n",
    "            idx += 1\n",
    "    else:\n",
    "        print(\"Error Code:\" + rescode)"
   ]
  },
  {
   "cell_type": "code",
   "execution_count": 13,
   "id": "8ab04d5c",
   "metadata": {},
   "outputs": [
    {
     "data": {
      "text/plain": [
       "(1000, 6)"
      ]
     },
     "execution_count": 13,
     "metadata": {},
     "output_type": "execute_result"
    }
   ],
   "source": [
    "blog_df.shape"
   ]
  },
  {
   "cell_type": "code",
   "execution_count": 14,
   "id": "8c40dd71",
   "metadata": {
    "scrolled": false
   },
   "outputs": [
    {
     "data": {
      "text/html": [
       "<div>\n",
       "<style scoped>\n",
       "    .dataframe tbody tr th:only-of-type {\n",
       "        vertical-align: middle;\n",
       "    }\n",
       "\n",
       "    .dataframe tbody tr th {\n",
       "        vertical-align: top;\n",
       "    }\n",
       "\n",
       "    .dataframe thead th {\n",
       "        text-align: right;\n",
       "    }\n",
       "</style>\n",
       "<table border=\"1\" class=\"dataframe\">\n",
       "  <thead>\n",
       "    <tr style=\"text-align: right;\">\n",
       "      <th></th>\n",
       "      <th>Title</th>\n",
       "      <th>Link</th>\n",
       "      <th>Description</th>\n",
       "      <th>Blogger Name</th>\n",
       "      <th>Blogger Link</th>\n",
       "      <th>Post Date</th>\n",
       "    </tr>\n",
       "  </thead>\n",
       "  <tbody>\n",
       "    <tr>\n",
       "      <th>0</th>\n",
       "      <td>마요르카 레알마드리드 중계 이강인 선발 라리가 무료중계...</td>\n",
       "      <td>https://blog.naver.com/olengelight?Redirect=Lo...</td>\n",
       "      <td>마요르카 레알마드리드 중계 이강인 선발 라리가 무료중계 레알마드리드 CF 마요르카 ...</td>\n",
       "      <td>:: 밀감색 조명 ♥ 희나 ::</td>\n",
       "      <td>https://blog.naver.com/olengelight</td>\n",
       "      <td>20220911</td>\n",
       "    </tr>\n",
       "    <tr>\n",
       "      <th>1</th>\n",
       "      <td>레알 마드리드 마요르카 중계 무료 프리뷰 이강인 경기...</td>\n",
       "      <td>https://blog.naver.com/tigger9157?Redirect=Log...</td>\n",
       "      <td>레알 마드리드 마요르카 중계 무료 프리뷰 이강인 경기 하이라이트 레알 마드리드는 산...</td>\n",
       "      <td>행동가 울쓰의 성장일기</td>\n",
       "      <td>https://blog.naver.com/tigger9157</td>\n",
       "      <td>20220911</td>\n",
       "    </tr>\n",
       "    <tr>\n",
       "      <th>2</th>\n",
       "      <td>마드리드 마요르카 중계 이강인 선발 라인업 스포티비나우</td>\n",
       "      <td>https://blog.naver.com/jh061158?Redirect=Log&amp;l...</td>\n",
       "      <td>2022년9월11일 레알 마드리드 CF RCD 마요르카 경기 레알 마드리드 마요르카...</td>\n",
       "      <td>콩콩 식구들</td>\n",
       "      <td>https://blog.naver.com/jh061158</td>\n",
       "      <td>20220911</td>\n",
       "    </tr>\n",
       "  </tbody>\n",
       "</table>\n",
       "</div>"
      ],
      "text/plain": [
       "                                Title  \\\n",
       "0  마요르카 레알마드리드 중계 이강인 선발 라리가 무료중계...    \n",
       "1   레알 마드리드 마요르카 중계 무료 프리뷰 이강인 경기...    \n",
       "2      마드리드 마요르카 중계 이강인 선발 라인업 스포티비나우   \n",
       "\n",
       "                                                Link  \\\n",
       "0  https://blog.naver.com/olengelight?Redirect=Lo...   \n",
       "1  https://blog.naver.com/tigger9157?Redirect=Log...   \n",
       "2  https://blog.naver.com/jh061158?Redirect=Log&l...   \n",
       "\n",
       "                                         Description       Blogger Name  \\\n",
       "0  마요르카 레알마드리드 중계 이강인 선발 라리가 무료중계 레알마드리드 CF 마요르카 ...  :: 밀감색 조명 ♥ 희나 ::   \n",
       "1  레알 마드리드 마요르카 중계 무료 프리뷰 이강인 경기 하이라이트 레알 마드리드는 산...       행동가 울쓰의 성장일기   \n",
       "2  2022년9월11일 레알 마드리드 CF RCD 마요르카 경기 레알 마드리드 마요르카...             콩콩 식구들   \n",
       "\n",
       "                         Blogger Link Post Date  \n",
       "0  https://blog.naver.com/olengelight  20220911  \n",
       "1   https://blog.naver.com/tigger9157  20220911  \n",
       "2     https://blog.naver.com/jh061158  20220911  "
      ]
     },
     "execution_count": 14,
     "metadata": {},
     "output_type": "execute_result"
    }
   ],
   "source": [
    "blog_df.head(3)"
   ]
  },
  {
   "cell_type": "markdown",
   "id": "9e94befc",
   "metadata": {},
   "source": [
    "# \n",
    "# \n",
    "## 네이버 책 검색 API\n",
    "https://developers.naver.com/docs/serviceapi/search/book/book.md#%EC%B1%85"
   ]
  },
  {
   "cell_type": "code",
   "execution_count": 16,
   "id": "440e1808",
   "metadata": {},
   "outputs": [
    {
     "name": "stdout",
     "output_type": "stream",
     "text": [
      "검색 질의: python\n"
     ]
    }
   ],
   "source": [
    "query = urllib.parse.quote(input(\"검색 질의: \"))\n",
    "\n",
    "idx = 0\n",
    "display = 100\n",
    "start = 1\n",
    "end = 1000\n",
    "sort = \"sim\" \n",
    "# \"sim\" : 유사도 순 / \"date\"  : 날짜 순 \n",
    "\n",
    "book_df = pd.DataFrame(columns = ('Title', 'Link', 'Image', \n",
    "                                  'Author', 'Discount', 'Publisher',\n",
    "                                  'ISBN', 'Description', 'Publication Date'))\n",
    "\n",
    "for start_index in range(start, end, display):\n",
    "    \n",
    "    url = \"https://openapi.naver.com/v1/search/book?query=\" + query + \\\n",
    "        \"&display=\" + str(display) + \\\n",
    "        \"&start=\" + str(start_index) + \\\n",
    "        \"&sort=\" + sort\n",
    "    \n",
    "    request = urllib.request.Request(url)\n",
    "    request.add_header(\"X-Naver-Client-Id\",client_id)\n",
    "    request.add_header(\"X-Naver-Client-Secret\",client_secret)\n",
    "    response = urllib.request.urlopen(request)\n",
    "    rescode = response.getcode()\n",
    "\n",
    "    if(rescode==200):\n",
    "        response_body = response.read()\n",
    "        response_dict = json.loads(response_body.decode('utf-8'))\n",
    "        items = response_dict['items']\n",
    "        for item_index in range(0, len(items)):\n",
    "            remove_tag = re.compile('<.*?>|&.*?;')\n",
    "            \n",
    "            title = re.sub(remove_tag, '', items[item_index]['title'])\n",
    "            link = items[item_index]['link']\n",
    "            image = items[item_index]['image']\n",
    "            author = items[item_index]['author']\n",
    "            discount = items[item_index]['discount']\n",
    "            publisher = items[item_index]['publisher']\n",
    "            isbn = items[item_index]['isbn']\n",
    "            description = re.sub(remove_tag, '', items[item_index]['description'])\n",
    "            pubdate = items[item_index]['pubdate']\n",
    "            \n",
    "            book_df.loc[idx] = [title, link, image, author,\n",
    "                                discount, publisher, isbn, description, pubdate]\n",
    "            \n",
    "            idx += 1\n",
    "    else:\n",
    "        print(\"Error Code:\" + rescode)"
   ]
  },
  {
   "cell_type": "code",
   "execution_count": 17,
   "id": "79cc1dec",
   "metadata": {},
   "outputs": [
    {
     "data": {
      "text/plain": [
       "(1000, 9)"
      ]
     },
     "execution_count": 17,
     "metadata": {},
     "output_type": "execute_result"
    }
   ],
   "source": [
    "book_df.shape"
   ]
  },
  {
   "cell_type": "code",
   "execution_count": 18,
   "id": "bf7f3561",
   "metadata": {},
   "outputs": [
    {
     "data": {
      "text/html": [
       "<div>\n",
       "<style scoped>\n",
       "    .dataframe tbody tr th:only-of-type {\n",
       "        vertical-align: middle;\n",
       "    }\n",
       "\n",
       "    .dataframe tbody tr th {\n",
       "        vertical-align: top;\n",
       "    }\n",
       "\n",
       "    .dataframe thead th {\n",
       "        text-align: right;\n",
       "    }\n",
       "</style>\n",
       "<table border=\"1\" class=\"dataframe\">\n",
       "  <thead>\n",
       "    <tr style=\"text-align: right;\">\n",
       "      <th></th>\n",
       "      <th>Title</th>\n",
       "      <th>Link</th>\n",
       "      <th>Image</th>\n",
       "      <th>Author</th>\n",
       "      <th>Discount</th>\n",
       "      <th>Publisher</th>\n",
       "      <th>ISBN</th>\n",
       "      <th>Description</th>\n",
       "      <th>Publication Date</th>\n",
       "    </tr>\n",
       "  </thead>\n",
       "  <tbody>\n",
       "    <tr>\n",
       "      <th>0</th>\n",
       "      <td>Python (Python basics for Beginners)</td>\n",
       "      <td>https://search.shopping.naver.com/book/catalog...</td>\n",
       "      <td>https://shopping-phinf.pstatic.net/main_324603...</td>\n",
       "      <td></td>\n",
       "      <td>40650</td>\n",
       "      <td>Ladoo Publishing LLC</td>\n",
       "      <td>9781955786331</td>\n",
       "      <td>Are you thinking about learning how to use the...</td>\n",
       "      <td>20210801</td>\n",
       "    </tr>\n",
       "    <tr>\n",
       "      <th>1</th>\n",
       "      <td>Python (This book includes : Python basics for...</td>\n",
       "      <td>https://search.shopping.naver.com/book/catalog...</td>\n",
       "      <td>https://shopping-phinf.pstatic.net/main_324449...</td>\n",
       "      <td></td>\n",
       "      <td>97590</td>\n",
       "      <td>Ladoo Publishing LLC</td>\n",
       "      <td>9781955786324</td>\n",
       "      <td>Are you thinking about learning how to use the...</td>\n",
       "      <td>20210730</td>\n",
       "    </tr>\n",
       "    <tr>\n",
       "      <th>2</th>\n",
       "      <td>Python</td>\n",
       "      <td>https://search.shopping.naver.com/book/catalog...</td>\n",
       "      <td>https://shopping-phinf.pstatic.net/main_325494...</td>\n",
       "      <td></td>\n",
       "      <td>47150</td>\n",
       "      <td>Davide Cicatiello</td>\n",
       "      <td>9781801157032</td>\n",
       "      <td>DescriptionAre you one of those individuals wh...</td>\n",
       "      <td>20201102</td>\n",
       "    </tr>\n",
       "  </tbody>\n",
       "</table>\n",
       "</div>"
      ],
      "text/plain": [
       "                                               Title  \\\n",
       "0               Python (Python basics for Beginners)   \n",
       "1  Python (This book includes : Python basics for...   \n",
       "2                                             Python   \n",
       "\n",
       "                                                Link  \\\n",
       "0  https://search.shopping.naver.com/book/catalog...   \n",
       "1  https://search.shopping.naver.com/book/catalog...   \n",
       "2  https://search.shopping.naver.com/book/catalog...   \n",
       "\n",
       "                                               Image Author Discount  \\\n",
       "0  https://shopping-phinf.pstatic.net/main_324603...           40650   \n",
       "1  https://shopping-phinf.pstatic.net/main_324449...           97590   \n",
       "2  https://shopping-phinf.pstatic.net/main_325494...           47150   \n",
       "\n",
       "              Publisher           ISBN  \\\n",
       "0  Ladoo Publishing LLC  9781955786331   \n",
       "1  Ladoo Publishing LLC  9781955786324   \n",
       "2     Davide Cicatiello  9781801157032   \n",
       "\n",
       "                                         Description Publication Date  \n",
       "0  Are you thinking about learning how to use the...         20210801  \n",
       "1  Are you thinking about learning how to use the...         20210730  \n",
       "2  DescriptionAre you one of those individuals wh...         20201102  "
      ]
     },
     "execution_count": 18,
     "metadata": {},
     "output_type": "execute_result"
    }
   ],
   "source": [
    "book_df.head(3)"
   ]
  },
  {
   "cell_type": "markdown",
   "id": "40ec896a",
   "metadata": {},
   "source": [
    "# \n",
    "# \n",
    "## 네이버 영화 검색 API\n",
    "https://developers.naver.com/docs/serviceapi/search/movie/movie.md#%EC%98%81%ED%99%94"
   ]
  },
  {
   "cell_type": "code",
   "execution_count": 28,
   "id": "c34a0af1",
   "metadata": {},
   "outputs": [
    {
     "name": "stdout",
     "output_type": "stream",
     "text": [
      "검색 질의: 원스\n"
     ]
    }
   ],
   "source": [
    "query = urllib.parse.quote(input(\"검색 질의: \"))\n",
    "\n",
    "idx = 0\n",
    "display = 100\n",
    "start = 1\n",
    "end = 1000\n",
    "\n",
    "movie_df = pd.DataFrame(columns = ('Title', 'Link', 'Image', \n",
    "                                  'Subtitle', 'Publication Date', 'Director',\n",
    "                                  'Actor', 'User Rating'))\n",
    "\n",
    "for start_index in range(start, end, display):\n",
    "    \n",
    "    url = \"https://openapi.naver.com/v1/search/movie?query=\" + query + \\\n",
    "        \"&display=\" + str(display) + \\\n",
    "        \"&start=\" + str(start_index) \n",
    "    \n",
    "    request = urllib.request.Request(url)\n",
    "    request.add_header(\"X-Naver-Client-Id\",client_id)\n",
    "    request.add_header(\"X-Naver-Client-Secret\",client_secret)\n",
    "    response = urllib.request.urlopen(request)\n",
    "    rescode = response.getcode()\n",
    "\n",
    "    if(rescode==200):\n",
    "        response_body = response.read()\n",
    "        response_dict = json.loads(response_body.decode('utf-8'))\n",
    "        items = response_dict['items']\n",
    "        for item_index in range(0, len(items)):\n",
    "            remove_tag = re.compile('<.*?>|&.*?;')\n",
    "            \n",
    "            title = re.sub(remove_tag, '', items[item_index]['title'])\n",
    "            link = items[item_index]['link']\n",
    "            image = items[item_index]['image']\n",
    "            subtitle = items[item_index]['subtitle']\n",
    "            pubDate = items[item_index]['pubDate']\n",
    "            director = items[item_index]['director']\n",
    "            actor = items[item_index]['actor']\n",
    "            userRating = items[item_index]['userRating']\n",
    "            \n",
    "            movie_df.loc[idx] = [title, link, image, subtitle,\n",
    "                                pubDate, director, actor, userRating]\n",
    "            \n",
    "            idx += 1\n",
    "    else:\n",
    "        print(\"Error Code:\" + rescode)"
   ]
  },
  {
   "cell_type": "code",
   "execution_count": 29,
   "id": "c22ef060",
   "metadata": {},
   "outputs": [
    {
     "data": {
      "text/plain": [
       "(811, 8)"
      ]
     },
     "execution_count": 29,
     "metadata": {},
     "output_type": "execute_result"
    }
   ],
   "source": [
    "movie_df.shape"
   ]
  },
  {
   "cell_type": "code",
   "execution_count": 30,
   "id": "c2b8d2c5",
   "metadata": {},
   "outputs": [
    {
     "data": {
      "text/html": [
       "<div>\n",
       "<style scoped>\n",
       "    .dataframe tbody tr th:only-of-type {\n",
       "        vertical-align: middle;\n",
       "    }\n",
       "\n",
       "    .dataframe tbody tr th {\n",
       "        vertical-align: top;\n",
       "    }\n",
       "\n",
       "    .dataframe thead th {\n",
       "        text-align: right;\n",
       "    }\n",
       "</style>\n",
       "<table border=\"1\" class=\"dataframe\">\n",
       "  <thead>\n",
       "    <tr style=\"text-align: right;\">\n",
       "      <th></th>\n",
       "      <th>Title</th>\n",
       "      <th>Link</th>\n",
       "      <th>Image</th>\n",
       "      <th>Subtitle</th>\n",
       "      <th>Publication Date</th>\n",
       "      <th>Director</th>\n",
       "      <th>Actor</th>\n",
       "      <th>User Rating</th>\n",
       "    </tr>\n",
       "  </thead>\n",
       "  <tbody>\n",
       "    <tr>\n",
       "      <th>0</th>\n",
       "      <td>에브리씽 에브리웨어 올 앳 원스</td>\n",
       "      <td>https://movie.naver.com/movie/bi/mi/basic.nhn?...</td>\n",
       "      <td>https://ssl.pstatic.net/imgmovie/mdi/mit110/21...</td>\n",
       "      <td>Everything Everywhere All At Once</td>\n",
       "      <td>2022</td>\n",
       "      <td>다니엘 콴|다니엘 쉐이너트|</td>\n",
       "      <td>양자경|스테파니 수|키 호이 콴|제이미 리 커티스|</td>\n",
       "      <td>0.00</td>\n",
       "    </tr>\n",
       "    <tr>\n",
       "      <th>1</th>\n",
       "      <td>한때는 바다가 있었지</td>\n",
       "      <td>https://movie.naver.com/movie/bi/mi/basic.nhn?...</td>\n",
       "      <td>https://ssl.pstatic.net/imgmovie/mdi/mit110/21...</td>\n",
       "      <td>ONCE THERE WAS A SEA...</td>\n",
       "      <td>2022</td>\n",
       "      <td>요한나 코주크|</td>\n",
       "      <td></td>\n",
       "      <td>0.00</td>\n",
       "    </tr>\n",
       "    <tr>\n",
       "      <th>2</th>\n",
       "      <td>옵스큐어 나이트 - 와일드 리브스 (더 버닝 원스, 더 옵스티네이트)</td>\n",
       "      <td>https://movie.naver.com/movie/bi/mi/basic.nhn?...</td>\n",
       "      <td>https://ssl.pstatic.net/imgmovie/mdi/mit110/21...</td>\n",
       "      <td>Obscure night - Wild leaves (The burning ones,...</td>\n",
       "      <td>2022</td>\n",
       "      <td>실뱅 조지|</td>\n",
       "      <td></td>\n",
       "      <td>0.00</td>\n",
       "    </tr>\n",
       "  </tbody>\n",
       "</table>\n",
       "</div>"
      ],
      "text/plain": [
       "                                    Title  \\\n",
       "0                       에브리씽 에브리웨어 올 앳 원스   \n",
       "1                             한때는 바다가 있었지   \n",
       "2  옵스큐어 나이트 - 와일드 리브스 (더 버닝 원스, 더 옵스티네이트)   \n",
       "\n",
       "                                                Link  \\\n",
       "0  https://movie.naver.com/movie/bi/mi/basic.nhn?...   \n",
       "1  https://movie.naver.com/movie/bi/mi/basic.nhn?...   \n",
       "2  https://movie.naver.com/movie/bi/mi/basic.nhn?...   \n",
       "\n",
       "                                               Image  \\\n",
       "0  https://ssl.pstatic.net/imgmovie/mdi/mit110/21...   \n",
       "1  https://ssl.pstatic.net/imgmovie/mdi/mit110/21...   \n",
       "2  https://ssl.pstatic.net/imgmovie/mdi/mit110/21...   \n",
       "\n",
       "                                            Subtitle Publication Date  \\\n",
       "0                  Everything Everywhere All At Once             2022   \n",
       "1                            ONCE THERE WAS A SEA...             2022   \n",
       "2  Obscure night - Wild leaves (The burning ones,...             2022   \n",
       "\n",
       "          Director                         Actor User Rating  \n",
       "0  다니엘 콴|다니엘 쉐이너트|  양자경|스테파니 수|키 호이 콴|제이미 리 커티스|        0.00  \n",
       "1         요한나 코주크|                                      0.00  \n",
       "2           실뱅 조지|                                      0.00  "
      ]
     },
     "execution_count": 30,
     "metadata": {},
     "output_type": "execute_result"
    }
   ],
   "source": [
    "movie_df.head(3)"
   ]
  },
  {
   "cell_type": "markdown",
   "id": "73a9e17e",
   "metadata": {},
   "source": [
    "# \n",
    "# \n",
    "## 네이버 쇼핑 검색 API\n",
    "https://developers.naver.com/docs/serviceapi/search/shopping/shopping.md#%EC%87%BC%ED%95%91"
   ]
  },
  {
   "cell_type": "code",
   "execution_count": 31,
   "id": "1c8a4d8d",
   "metadata": {},
   "outputs": [
    {
     "name": "stdout",
     "output_type": "stream",
     "text": [
      "검색 질의: 베드 테이블\n"
     ]
    }
   ],
   "source": [
    "query = urllib.parse.quote(input(\"검색 질의: \"))\n",
    "\n",
    "idx = 0\n",
    "display = 100\n",
    "start = 1\n",
    "end = 1000\n",
    "sort = \"sim\" \n",
    "# \"sim\" : 유사도 순 / \"date\"  : 날짜 순 / \"asc\" : 가격 오름차순 / \"dsc\" : 가격 내림차순\n",
    "\n",
    "shop_df = pd.DataFrame(columns = ('Title', 'Link', 'Image', \n",
    "                                  'Low Price', 'High Price', 'Mall Name',\n",
    "                                  'Product ID', 'Product Type', 'Maker', 'Brand',\n",
    "                                  'Category 1', 'Category 2', 'Category 3', 'Category 4'))\n",
    "\n",
    "for start_index in range(start, end, display):\n",
    "    \n",
    "    url = \"https://openapi.naver.com/v1/search/shop?query=\" + query + \\\n",
    "        \"&display=\" + str(display) + \\\n",
    "        \"&start=\" + str(start_index) + \\\n",
    "        \"&sort=\" + sort\n",
    "    \n",
    "    request = urllib.request.Request(url)\n",
    "    request.add_header(\"X-Naver-Client-Id\",client_id)\n",
    "    request.add_header(\"X-Naver-Client-Secret\",client_secret)\n",
    "    response = urllib.request.urlopen(request)\n",
    "    rescode = response.getcode()\n",
    "\n",
    "    if(rescode==200):\n",
    "        response_body = response.read()\n",
    "        response_dict = json.loads(response_body.decode('utf-8'))\n",
    "        items = response_dict['items']\n",
    "        for item_index in range(0, len(items)):\n",
    "            remove_tag = re.compile('<.*?>|&.*?;')\n",
    "            \n",
    "            title = re.sub(remove_tag, '', items[item_index]['title'])\n",
    "            link = items[item_index]['link']\n",
    "            image = items[item_index]['image']\n",
    "            lprice = items[item_index]['lprice']\n",
    "            hprice = items[item_index]['hprice']\n",
    "            mallName = items[item_index]['mallName']\n",
    "            productId = items[item_index]['productId']\n",
    "            productType = items[item_index]['productType']\n",
    "            maker = items[item_index]['maker']\n",
    "            brand = items[item_index]['brand']\n",
    "            category1 = items[item_index]['category1']\n",
    "            category2 = items[item_index]['category2']\n",
    "            category3 = items[item_index]['category3']\n",
    "            category4 = items[item_index]['category4']\n",
    "                        \n",
    "            shop_df.loc[idx] = [title, link, image, lprice, hprice,\n",
    "                                mallName, productId, productType, maker,\n",
    "                                brand, category1, category2, category3, category4]\n",
    "            \n",
    "            idx += 1\n",
    "    else:\n",
    "        print(\"Error Code:\" + rescode)"
   ]
  },
  {
   "cell_type": "code",
   "execution_count": 32,
   "id": "d0b63ff4",
   "metadata": {},
   "outputs": [
    {
     "data": {
      "text/plain": [
       "(1000, 14)"
      ]
     },
     "execution_count": 32,
     "metadata": {},
     "output_type": "execute_result"
    }
   ],
   "source": [
    "shop_df.shape"
   ]
  },
  {
   "cell_type": "code",
   "execution_count": 33,
   "id": "826c2060",
   "metadata": {},
   "outputs": [
    {
     "data": {
      "text/html": [
       "<div>\n",
       "<style scoped>\n",
       "    .dataframe tbody tr th:only-of-type {\n",
       "        vertical-align: middle;\n",
       "    }\n",
       "\n",
       "    .dataframe tbody tr th {\n",
       "        vertical-align: top;\n",
       "    }\n",
       "\n",
       "    .dataframe thead th {\n",
       "        text-align: right;\n",
       "    }\n",
       "</style>\n",
       "<table border=\"1\" class=\"dataframe\">\n",
       "  <thead>\n",
       "    <tr style=\"text-align: right;\">\n",
       "      <th></th>\n",
       "      <th>Title</th>\n",
       "      <th>Link</th>\n",
       "      <th>Image</th>\n",
       "      <th>Low Price</th>\n",
       "      <th>High Price</th>\n",
       "      <th>Mall Name</th>\n",
       "      <th>Product ID</th>\n",
       "      <th>Product Type</th>\n",
       "      <th>Maker</th>\n",
       "      <th>Brand</th>\n",
       "      <th>Category 1</th>\n",
       "      <th>Category 2</th>\n",
       "      <th>Category 3</th>\n",
       "      <th>Category 4</th>\n",
       "    </tr>\n",
       "  </thead>\n",
       "  <tbody>\n",
       "    <tr>\n",
       "      <th>0</th>\n",
       "      <td>루나랩 침대 좌식 접이식 테이블 책상 LBT01</td>\n",
       "      <td>https://search.shopping.naver.com/gate.nhn?id=...</td>\n",
       "      <td>https://shopping-phinf.pstatic.net/main_334683...</td>\n",
       "      <td>39000</td>\n",
       "      <td></td>\n",
       "      <td>네이버</td>\n",
       "      <td>33468344621</td>\n",
       "      <td>1</td>\n",
       "      <td></td>\n",
       "      <td>루나랩</td>\n",
       "      <td>가구/인테리어</td>\n",
       "      <td>거실가구</td>\n",
       "      <td>테이블</td>\n",
       "      <td>접이식테이블</td>\n",
       "    </tr>\n",
       "    <tr>\n",
       "      <th>1</th>\n",
       "      <td>슈퍼쉘 침대 핸드폰 태블릿 아이패드 자바라 스탠드 거치대</td>\n",
       "      <td>https://search.shopping.naver.com/gate.nhn?id=...</td>\n",
       "      <td>https://shopping-phinf.pstatic.net/main_237378...</td>\n",
       "      <td>15900</td>\n",
       "      <td></td>\n",
       "      <td>네이버</td>\n",
       "      <td>23737852490</td>\n",
       "      <td>1</td>\n",
       "      <td>슈퍼쉘</td>\n",
       "      <td>슈퍼쉘</td>\n",
       "      <td>디지털/가전</td>\n",
       "      <td>휴대폰액세서리</td>\n",
       "      <td>휴대폰거치대</td>\n",
       "      <td></td>\n",
       "    </tr>\n",
       "    <tr>\n",
       "      <th>2</th>\n",
       "      <td>모벵스턴 접이식 좌식 테이블 베드 트레이 CNT001</td>\n",
       "      <td>https://search.shopping.naver.com/gate.nhn?id=...</td>\n",
       "      <td>https://shopping-phinf.pstatic.net/main_305907...</td>\n",
       "      <td>14500</td>\n",
       "      <td></td>\n",
       "      <td>네이버</td>\n",
       "      <td>30590767618</td>\n",
       "      <td>1</td>\n",
       "      <td>데몬하우스</td>\n",
       "      <td>모벵스턴</td>\n",
       "      <td>가구/인테리어</td>\n",
       "      <td>거실가구</td>\n",
       "      <td>테이블</td>\n",
       "      <td>접이식테이블</td>\n",
       "    </tr>\n",
       "  </tbody>\n",
       "</table>\n",
       "</div>"
      ],
      "text/plain": [
       "                             Title  \\\n",
       "0       루나랩 침대 좌식 접이식 테이블 책상 LBT01   \n",
       "1  슈퍼쉘 침대 핸드폰 태블릿 아이패드 자바라 스탠드 거치대   \n",
       "2    모벵스턴 접이식 좌식 테이블 베드 트레이 CNT001   \n",
       "\n",
       "                                                Link  \\\n",
       "0  https://search.shopping.naver.com/gate.nhn?id=...   \n",
       "1  https://search.shopping.naver.com/gate.nhn?id=...   \n",
       "2  https://search.shopping.naver.com/gate.nhn?id=...   \n",
       "\n",
       "                                               Image Low Price High Price  \\\n",
       "0  https://shopping-phinf.pstatic.net/main_334683...     39000              \n",
       "1  https://shopping-phinf.pstatic.net/main_237378...     15900              \n",
       "2  https://shopping-phinf.pstatic.net/main_305907...     14500              \n",
       "\n",
       "  Mall Name   Product ID Product Type  Maker Brand Category 1 Category 2  \\\n",
       "0       네이버  33468344621            1          루나랩    가구/인테리어       거실가구   \n",
       "1       네이버  23737852490            1    슈퍼쉘   슈퍼쉘     디지털/가전    휴대폰액세서리   \n",
       "2       네이버  30590767618            1  데몬하우스  모벵스턴    가구/인테리어       거실가구   \n",
       "\n",
       "  Category 3 Category 4  \n",
       "0        테이블     접이식테이블  \n",
       "1     휴대폰거치대             \n",
       "2        테이블     접이식테이블  "
      ]
     },
     "execution_count": 33,
     "metadata": {},
     "output_type": "execute_result"
    }
   ],
   "source": [
    "shop_df.head(3)"
   ]
  },
  {
   "cell_type": "markdown",
   "id": "d0e4e43c",
   "metadata": {},
   "source": [
    "# \n",
    "# \n",
    "## 네이버 뉴스 검색 API\n",
    "https://developers.naver.com/docs/serviceapi/search/news/news.md#%EB%89%B4%EC%8A%A4"
   ]
  },
  {
   "cell_type": "code",
   "execution_count": 34,
   "id": "8ea011c1",
   "metadata": {},
   "outputs": [
    {
     "name": "stdout",
     "output_type": "stream",
     "text": [
      "검색 질의: 이강인\n"
     ]
    }
   ],
   "source": [
    "query = urllib.parse.quote(input(\"검색 질의: \"))\n",
    "\n",
    "idx = 0\n",
    "display = 100\n",
    "start = 1\n",
    "end = 1000\n",
    "sort = \"sim\" \n",
    "# \"sim\" : 유사도 순 / \"date\"  : 날짜 순 \n",
    "\n",
    "news_df = pd.DataFrame(columns = ('Title', 'Original Link', 'Link', \n",
    "                                  'Description', 'Publication Date'))\n",
    "\n",
    "for start_index in range(start, end, display):\n",
    "    \n",
    "    url = \"https://openapi.naver.com/v1/search/news?query=\" + query + \\\n",
    "        \"&display=\" + str(display) + \\\n",
    "        \"&start=\" + str(start_index) + \\\n",
    "        \"&sort=\" + sort\n",
    "    \n",
    "    request = urllib.request.Request(url)\n",
    "    request.add_header(\"X-Naver-Client-Id\",client_id)\n",
    "    request.add_header(\"X-Naver-Client-Secret\",client_secret)\n",
    "    response = urllib.request.urlopen(request)\n",
    "    rescode = response.getcode()\n",
    "\n",
    "    if(rescode==200):\n",
    "        response_body = response.read()\n",
    "        response_dict = json.loads(response_body.decode('utf-8'))\n",
    "        items = response_dict['items']\n",
    "        for item_index in range(0, len(items)):\n",
    "            remove_tag = re.compile('<.*?>|&.*?;')\n",
    "            \n",
    "            title = re.sub(remove_tag, '', items[item_index]['title'])\n",
    "            originallink = items[item_index]['originallink']\n",
    "            link = items[item_index]['link']\n",
    "            description = re.sub(remove_tag, '', items[item_index]['description'])\n",
    "            pubDate = items[item_index]['pubDate']\n",
    "                        \n",
    "            news_df.loc[idx] = [title, originallink, link, description, pubDate]\n",
    "            \n",
    "            idx += 1\n",
    "    else:\n",
    "        print(\"Error Code:\" + rescode)"
   ]
  },
  {
   "cell_type": "code",
   "execution_count": 35,
   "id": "475a11c9",
   "metadata": {},
   "outputs": [
    {
     "data": {
      "text/plain": [
       "(1000, 5)"
      ]
     },
     "execution_count": 35,
     "metadata": {},
     "output_type": "execute_result"
    }
   ],
   "source": [
    "news_df.shape"
   ]
  },
  {
   "cell_type": "code",
   "execution_count": 36,
   "id": "54b49836",
   "metadata": {},
   "outputs": [
    {
     "data": {
      "text/html": [
       "<div>\n",
       "<style scoped>\n",
       "    .dataframe tbody tr th:only-of-type {\n",
       "        vertical-align: middle;\n",
       "    }\n",
       "\n",
       "    .dataframe tbody tr th {\n",
       "        vertical-align: top;\n",
       "    }\n",
       "\n",
       "    .dataframe thead th {\n",
       "        text-align: right;\n",
       "    }\n",
       "</style>\n",
       "<table border=\"1\" class=\"dataframe\">\n",
       "  <thead>\n",
       "    <tr style=\"text-align: right;\">\n",
       "      <th></th>\n",
       "      <th>Title</th>\n",
       "      <th>Original Link</th>\n",
       "      <th>Link</th>\n",
       "      <th>Description</th>\n",
       "      <th>Publication Date</th>\n",
       "    </tr>\n",
       "  </thead>\n",
       "  <tbody>\n",
       "    <tr>\n",
       "      <th>0</th>\n",
       "      <td>스페인 프로축구 이강인, 레알 마드리드 상대로 도움 기록</td>\n",
       "      <td>https://www.yna.co.kr/view/AKR2022091103450000...</td>\n",
       "      <td>https://sports.news.naver.com/news.nhn?oid=001...</td>\n",
       "      <td>스페인 프로축구 마요르카에서 활약하는 이강인(21)이 거함 레알 마드리드를 상대로 ...</td>\n",
       "      <td>Sun, 11 Sep 2022 22:02:00 +0900</td>\n",
       "    </tr>\n",
       "    <tr>\n",
       "      <th>1</th>\n",
       "      <td>이강인, 레알 마드리드 상대로 4경기 연속 공격포인트</td>\n",
       "      <td>http://www.newsis.com/view/?id=NISX20220911_00...</td>\n",
       "      <td>https://sports.news.naver.com/news.nhn?oid=003...</td>\n",
       "      <td>기사내용 요약 소속팀 마요르카, 1-4 역전패 스페인 프로축구 라리가 마요르카에서 ...</td>\n",
       "      <td>Sun, 11 Sep 2022 23:29:00 +0900</td>\n",
       "    </tr>\n",
       "    <tr>\n",
       "      <th>2</th>\n",
       "      <td>이강인, 레알 마드리드 전에서 시즌 3호 도움</td>\n",
       "      <td>https://imnews.imbc.com/news/2022/sports/artic...</td>\n",
       "      <td>https://sports.news.naver.com/news.nhn?oid=214...</td>\n",
       "      <td>스페인 프로축구 마요르카에서 뛰는 이강인이 시즌 3번째 도움을 기록했습니다. 이강인...</td>\n",
       "      <td>Sun, 11 Sep 2022 23:04:00 +0900</td>\n",
       "    </tr>\n",
       "  </tbody>\n",
       "</table>\n",
       "</div>"
      ],
      "text/plain": [
       "                             Title  \\\n",
       "0  스페인 프로축구 이강인, 레알 마드리드 상대로 도움 기록   \n",
       "1    이강인, 레알 마드리드 상대로 4경기 연속 공격포인트   \n",
       "2        이강인, 레알 마드리드 전에서 시즌 3호 도움   \n",
       "\n",
       "                                       Original Link  \\\n",
       "0  https://www.yna.co.kr/view/AKR2022091103450000...   \n",
       "1  http://www.newsis.com/view/?id=NISX20220911_00...   \n",
       "2  https://imnews.imbc.com/news/2022/sports/artic...   \n",
       "\n",
       "                                                Link  \\\n",
       "0  https://sports.news.naver.com/news.nhn?oid=001...   \n",
       "1  https://sports.news.naver.com/news.nhn?oid=003...   \n",
       "2  https://sports.news.naver.com/news.nhn?oid=214...   \n",
       "\n",
       "                                         Description  \\\n",
       "0  스페인 프로축구 마요르카에서 활약하는 이강인(21)이 거함 레알 마드리드를 상대로 ...   \n",
       "1  기사내용 요약 소속팀 마요르카, 1-4 역전패 스페인 프로축구 라리가 마요르카에서 ...   \n",
       "2  스페인 프로축구 마요르카에서 뛰는 이강인이 시즌 3번째 도움을 기록했습니다. 이강인...   \n",
       "\n",
       "                  Publication Date  \n",
       "0  Sun, 11 Sep 2022 22:02:00 +0900  \n",
       "1  Sun, 11 Sep 2022 23:29:00 +0900  \n",
       "2  Sun, 11 Sep 2022 23:04:00 +0900  "
      ]
     },
     "execution_count": 36,
     "metadata": {},
     "output_type": "execute_result"
    }
   ],
   "source": [
    "news_df.head(3)"
   ]
  },
  {
   "cell_type": "code",
   "execution_count": null,
   "id": "f80b9360",
   "metadata": {},
   "outputs": [],
   "source": []
  }
 ],
 "metadata": {
  "kernelspec": {
   "display_name": "Python 3 (ipykernel)",
   "language": "python",
   "name": "python3"
  },
  "language_info": {
   "codemirror_mode": {
    "name": "ipython",
    "version": 3
   },
   "file_extension": ".py",
   "mimetype": "text/x-python",
   "name": "python",
   "nbconvert_exporter": "python",
   "pygments_lexer": "ipython3",
   "version": "3.9.7"
  }
 },
 "nbformat": 4,
 "nbformat_minor": 5
}
