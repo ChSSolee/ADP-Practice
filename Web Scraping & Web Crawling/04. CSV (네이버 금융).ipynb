{
 "cells": [
  {
   "cell_type": "markdown",
   "id": "7a296ad7",
   "metadata": {},
   "source": [
    "# 네이버 금융\n",
    "https://finance.naver.com/sise/sise_market_sum.nhn?&page=1\n",
    "\n",
    "# \n",
    "## BeautifulSoup"
   ]
  },
  {
   "cell_type": "code",
   "execution_count": 1,
   "id": "d2203524",
   "metadata": {},
   "outputs": [],
   "source": [
    "import pandas as pd\n",
    "import numpy as np"
   ]
  },
  {
   "cell_type": "code",
   "execution_count": 2,
   "id": "67c94524",
   "metadata": {},
   "outputs": [],
   "source": [
    "import csv\n",
    "import urllib.request\n",
    "from bs4 import BeautifulSoup"
   ]
  },
  {
   "cell_type": "code",
   "execution_count": 3,
   "id": "465a1a10",
   "metadata": {},
   "outputs": [],
   "source": [
    "def scrape_stock():\n",
    "    \n",
    "    url = \"https://finance.naver.com/sise/sise_market_sum.nhn?&page=1\"    \n",
    "    stock_url = urllib.request.urlopen(url).read() \n",
    "    soup = BeautifulSoup(stock_url, 'html.parser', from_encoding='euc-kr')\n",
    "    \n",
    "    colnames = soup.find('table', {'class': 'type_2'}).find('thead').find_all('th')\n",
    "    columns = [names.get_text() for names in colnames]\n",
    "    stock_df = pd.DataFrame(columns=columns)\n",
    "    stock_df\n",
    "\n",
    "    idx = 0\n",
    "    \n",
    "    for page in range(1, 6):\n",
    "\n",
    "        url = \"https://finance.naver.com/sise/sise_market_sum.nhn?&page=\" + str(page)    \n",
    "        stock_url = urllib.request.urlopen(url).read() \n",
    "        soup = BeautifulSoup(stock_url, 'html.parser', from_encoding='euc-kr')\n",
    "\n",
    "        data_rows = soup.find('table', {'class': 'type_2'}).find('tbody').find_all('tr')\n",
    "        for row in data_rows:\n",
    "            columns = row.find_all('td')\n",
    "\n",
    "            if len(columns) <= 1:\n",
    "                continue\n",
    "            data = [column.get_text().strip() for column in columns]\n",
    "            stock_df.loc[idx] = data\n",
    "\n",
    "            idx += 1\n",
    "    \n",
    "    stock_df.drop('N', axis=1).to_csv('stock_df.csv', index=False)"
   ]
  },
  {
   "cell_type": "code",
   "execution_count": 4,
   "id": "9a31687c",
   "metadata": {},
   "outputs": [],
   "source": [
    "scrape_stock()"
   ]
  },
  {
   "cell_type": "code",
   "execution_count": 6,
   "id": "1bacfc79",
   "metadata": {},
   "outputs": [],
   "source": [
    "stock_df = pd.read_csv('stock_df.csv')"
   ]
  },
  {
   "cell_type": "code",
   "execution_count": 7,
   "id": "48802b01",
   "metadata": {},
   "outputs": [
    {
     "data": {
      "text/plain": [
       "(250, 12)"
      ]
     },
     "execution_count": 7,
     "metadata": {},
     "output_type": "execute_result"
    }
   ],
   "source": [
    "stock_df.shape"
   ]
  },
  {
   "cell_type": "code",
   "execution_count": 8,
   "id": "829ccbb5",
   "metadata": {},
   "outputs": [
    {
     "data": {
      "text/html": [
       "<div>\n",
       "<style scoped>\n",
       "    .dataframe tbody tr th:only-of-type {\n",
       "        vertical-align: middle;\n",
       "    }\n",
       "\n",
       "    .dataframe tbody tr th {\n",
       "        vertical-align: top;\n",
       "    }\n",
       "\n",
       "    .dataframe thead th {\n",
       "        text-align: right;\n",
       "    }\n",
       "</style>\n",
       "<table border=\"1\" class=\"dataframe\">\n",
       "  <thead>\n",
       "    <tr style=\"text-align: right;\">\n",
       "      <th></th>\n",
       "      <th>종목명</th>\n",
       "      <th>현재가</th>\n",
       "      <th>전일비</th>\n",
       "      <th>등락률</th>\n",
       "      <th>액면가</th>\n",
       "      <th>시가총액</th>\n",
       "      <th>상장주식수</th>\n",
       "      <th>외국인비율</th>\n",
       "      <th>거래량</th>\n",
       "      <th>PER</th>\n",
       "      <th>ROE</th>\n",
       "      <th>토론실</th>\n",
       "    </tr>\n",
       "  </thead>\n",
       "  <tbody>\n",
       "    <tr>\n",
       "      <th>0</th>\n",
       "      <td>삼성전자</td>\n",
       "      <td>56,200</td>\n",
       "      <td>200</td>\n",
       "      <td>+0.36%</td>\n",
       "      <td>100</td>\n",
       "      <td>3,355,018</td>\n",
       "      <td>5,969,783</td>\n",
       "      <td>49.5</td>\n",
       "      <td>12,738,632</td>\n",
       "      <td>8.52</td>\n",
       "      <td>13.92</td>\n",
       "      <td>NaN</td>\n",
       "    </tr>\n",
       "  </tbody>\n",
       "</table>\n",
       "</div>"
      ],
      "text/plain": [
       "    종목명     현재가  전일비     등락률  액면가       시가총액      상장주식수  외국인비율         거래량  \\\n",
       "0  삼성전자  56,200  200  +0.36%  100  3,355,018  5,969,783   49.5  12,738,632   \n",
       "\n",
       "    PER    ROE  토론실  \n",
       "0  8.52  13.92  NaN  "
      ]
     },
     "execution_count": 8,
     "metadata": {},
     "output_type": "execute_result"
    }
   ],
   "source": [
    "stock_df.head(1)"
   ]
  },
  {
   "cell_type": "markdown",
   "id": "675b9fe3",
   "metadata": {},
   "source": [
    "# \n",
    "# \n",
    "# \n",
    "# \n",
    "## Selenium"
   ]
  },
  {
   "cell_type": "code",
   "execution_count": 96,
   "id": "4d367588",
   "metadata": {},
   "outputs": [],
   "source": [
    "import pandas as pd\n",
    "import selenium\n",
    "from selenium import webdriver\n",
    "from selenium.webdriver.common.by import By"
   ]
  },
  {
   "cell_type": "code",
   "execution_count": 97,
   "id": "cdd78f21",
   "metadata": {},
   "outputs": [
    {
     "name": "stderr",
     "output_type": "stream",
     "text": [
      "C:\\Users\\이찬솔\\AppData\\Local\\Temp\\ipykernel_12136\\1978562881.py:1: DeprecationWarning: executable_path has been deprecated, please pass in a Service object\n",
      "  browser = webdriver.Chrome('./chromedriver.exe')\n"
     ]
    }
   ],
   "source": [
    "browser = webdriver.Chrome('./chromedriver.exe')"
   ]
  },
  {
   "cell_type": "markdown",
   "id": "357c8c93",
   "metadata": {},
   "source": [
    "# \n",
    "#### 1. 페이지 이동"
   ]
  },
  {
   "cell_type": "code",
   "execution_count": 98,
   "id": "59bd249f",
   "metadata": {},
   "outputs": [],
   "source": [
    "url = \"https://finance.naver.com/sise/sise_market_sum.nhn?&page=\"\n",
    "browser.get(url)"
   ]
  },
  {
   "cell_type": "markdown",
   "id": "07866ac6",
   "metadata": {},
   "source": [
    "# \n",
    "#### 2. 조회 항목 (체크되어 있는 항목) 초기화\n",
    "- **각 항목들은 체크가 되어있을 시 class='choice'로 표시되어 있음**\n",
    "- **각 항목의 체크박스 \\<td>태그 들은 name='fieldIds'를 보유**"
   ]
  },
  {
   "cell_type": "code",
   "execution_count": 99,
   "id": "4c57568b",
   "metadata": {},
   "outputs": [],
   "source": [
    "checkboxes = browser.find_elements(By.NAME, 'fieldIds')"
   ]
  },
  {
   "cell_type": "markdown",
   "id": "264283ef",
   "metadata": {},
   "source": [
    "- **총 27개의 조회 가능 항목**"
   ]
  },
  {
   "attachments": {
    "Cap%202022-09-12%2021-36-36-622.png": {
     "image/png": "[encoded data removed]"
    }
   },
   "cell_type": "markdown",
   "id": "23e897ab",
   "metadata": {},
   "source": [
    "![Cap%202022-09-12%2021-36-36-622.png](attachment:Cap%202022-09-12%2021-36-36-622.png)"
   ]
  },
  {
   "cell_type": "code",
   "execution_count": 100,
   "id": "7255f736",
   "metadata": {},
   "outputs": [
    {
     "data": {
      "text/plain": [
       "27"
      ]
     },
     "execution_count": 100,
     "metadata": {},
     "output_type": "execute_result"
    }
   ],
   "source": [
    "len(checkboxes)"
   ]
  },
  {
   "cell_type": "code",
   "execution_count": 101,
   "id": "489a4ef5",
   "metadata": {},
   "outputs": [],
   "source": [
    "for checkbox in checkboxes:\n",
    "    if checkbox.is_selected(): # 만약 체크박스가 체크되어 있을 시\n",
    "        checkbox.click() # 클릭 (체크 헤제)"
   ]
  },
  {
   "cell_type": "markdown",
   "id": "a2489097",
   "metadata": {},
   "source": [
    "# \n",
    "#### 3. 원하는 항목 체크"
   ]
  },
  {
   "cell_type": "code",
   "execution_count": 102,
   "id": "7cbfe9c7",
   "metadata": {},
   "outputs": [],
   "source": [
    "from bs4 import BeautifulSoup"
   ]
  },
  {
   "cell_type": "code",
   "execution_count": 103,
   "id": "6c4d1549",
   "metadata": {},
   "outputs": [],
   "source": [
    "url = \"https://finance.naver.com/sise/sise_market_sum.nhn?&page=\"\n",
    "stock_url = urllib.request.urlopen(url).read() \n",
    "soup = BeautifulSoup(stock_url, 'html.parser', from_encoding='euc-kr')"
   ]
  },
  {
   "cell_type": "code",
   "execution_count": 104,
   "id": "31710840",
   "metadata": {},
   "outputs": [],
   "source": [
    "item_list = soup.find('div', {'class': 'subcnt_sise_item_top sub810t'}).\\\n",
    "    find('table', {'class': 'item_list'}).find_all('td')\n",
    "\n",
    "items = []\n",
    "for item in item_list:\n",
    "    if item.find('label') == None:\n",
    "        continue\n",
    "    items.append(item.find('label').get_text())"
   ]
  },
  {
   "cell_type": "code",
   "execution_count": 105,
   "id": "7a5a4182",
   "metadata": {},
   "outputs": [
    {
     "data": {
      "text/plain": [
       "['거래량',\n",
       " '매수호가',\n",
       " '거래대금',\n",
       " '시가총액',\n",
       " '영업이익',\n",
       " 'PER',\n",
       " '시가',\n",
       " '매도호가',\n",
       " '전일거래량',\n",
       " '자산총계',\n",
       " '영업이익증가율',\n",
       " 'ROE',\n",
       " '고가',\n",
       " '매수총잔량',\n",
       " '외국인비율',\n",
       " '부채총계',\n",
       " '당기순이익',\n",
       " 'ROA',\n",
       " '저가',\n",
       " '매도총잔량',\n",
       " '상장주식수',\n",
       " '매출액',\n",
       " '주당순이익',\n",
       " 'PBR',\n",
       " '매출액증가율',\n",
       " '보통주배당금',\n",
       " '유보율']"
      ]
     },
     "execution_count": 105,
     "metadata": {},
     "output_type": "execute_result"
    }
   ],
   "source": [
    "items"
   ]
  },
  {
   "cell_type": "markdown",
   "id": "dffd5470",
   "metadata": {},
   "source": [
    "# "
   ]
  },
  {
   "cell_type": "markdown",
   "id": "a4efb17c",
   "metadata": {},
   "source": [
    "- **원하는 항목 선택**"
   ]
  },
  {
   "cell_type": "code",
   "execution_count": 106,
   "id": "828e3d39",
   "metadata": {},
   "outputs": [
    {
     "data": {
      "text/plain": [
       "['거래량', '매수호가', '거래대금']"
      ]
     },
     "execution_count": 106,
     "metadata": {},
     "output_type": "execute_result"
    }
   ],
   "source": [
    "items_to_select = items[:3]\n",
    "items_to_select"
   ]
  },
  {
   "cell_type": "markdown",
   "id": "87c8d38e",
   "metadata": {},
   "source": [
    "- **checkbox의 부모 element 안에서, \\<label> element를 탐색하여 클릭**"
   ]
  },
  {
   "cell_type": "code",
   "execution_count": 107,
   "id": "447ddddb",
   "metadata": {},
   "outputs": [],
   "source": [
    "for checkbox in checkboxes:\n",
    "    parent = checkbox.find_element(By.XPATH, '..') # 부모 element\n",
    "    label = parent.find_element(By.TAG_NAME, 'label') \n",
    "    if label.text in items_to_select:\n",
    "        checkbox.click()"
   ]
  },
  {
   "cell_type": "markdown",
   "id": "9ab3f972",
   "metadata": {},
   "source": [
    "# \n",
    "#### 4. 적용하기 버튼 클릭"
   ]
  },
  {
   "cell_type": "code",
   "execution_count": 108,
   "id": "33364a6f",
   "metadata": {},
   "outputs": [],
   "source": [
    "btn_apply = browser.find_element(By.XPATH, '//a[@href=\"javascript:fieldSubmit()\"]')\n",
    "btn_apply.click()"
   ]
  },
  {
   "cell_type": "markdown",
   "id": "07a137ee",
   "metadata": {},
   "source": [
    "- **초기화 버튼**"
   ]
  },
  {
   "cell_type": "code",
   "execution_count": 109,
   "id": "5a05950f",
   "metadata": {},
   "outputs": [],
   "source": [
    "# btn_reset = browser.find_element(By.XPATH, '//a[@href=\"javascript:fieldDefault()\"]')\n",
    "# btn_reset.click()"
   ]
  },
  {
   "cell_type": "markdown",
   "id": "0932a384",
   "metadata": {},
   "source": [
    "# \n",
    "#### 5. 데이터 추출"
   ]
  },
  {
   "cell_type": "code",
   "execution_count": 110,
   "id": "7b4fd4d7",
   "metadata": {},
   "outputs": [],
   "source": [
    "import lxml"
   ]
  },
  {
   "cell_type": "code",
   "execution_count": 111,
   "id": "422a7759",
   "metadata": {},
   "outputs": [],
   "source": [
    "df = pd.read_html(browser.page_source)"
   ]
  },
  {
   "cell_type": "code",
   "execution_count": 112,
   "id": "e55b85f1",
   "metadata": {},
   "outputs": [
    {
     "data": {
      "text/html": [
       "<div>\n",
       "<style scoped>\n",
       "    .dataframe tbody tr th:only-of-type {\n",
       "        vertical-align: middle;\n",
       "    }\n",
       "\n",
       "    .dataframe tbody tr th {\n",
       "        vertical-align: top;\n",
       "    }\n",
       "\n",
       "    .dataframe thead th {\n",
       "        text-align: right;\n",
       "    }\n",
       "</style>\n",
       "<table border=\"1\" class=\"dataframe\">\n",
       "  <thead>\n",
       "    <tr style=\"text-align: right;\">\n",
       "      <th></th>\n",
       "      <th>0</th>\n",
       "      <th>1</th>\n",
       "      <th>2</th>\n",
       "      <th>3</th>\n",
       "      <th>4</th>\n",
       "      <th>5</th>\n",
       "    </tr>\n",
       "  </thead>\n",
       "  <tbody>\n",
       "    <tr>\n",
       "      <th>0</th>\n",
       "      <td>거래량</td>\n",
       "      <td>매수호가</td>\n",
       "      <td>거래대금(백만)</td>\n",
       "      <td>시가총액(억)</td>\n",
       "      <td>영업이익(억)</td>\n",
       "      <td>PER(배)</td>\n",
       "    </tr>\n",
       "    <tr>\n",
       "      <th>1</th>\n",
       "      <td>시가</td>\n",
       "      <td>매도호가</td>\n",
       "      <td>전일거래량</td>\n",
       "      <td>자산총계(억)</td>\n",
       "      <td>영업이익증가율</td>\n",
       "      <td>ROE(%)</td>\n",
       "    </tr>\n",
       "    <tr>\n",
       "      <th>2</th>\n",
       "      <td>고가</td>\n",
       "      <td>매수총잔량</td>\n",
       "      <td>외국인비율</td>\n",
       "      <td>부채총계(억)</td>\n",
       "      <td>당기순이익(억)</td>\n",
       "      <td>ROA(%)</td>\n",
       "    </tr>\n",
       "    <tr>\n",
       "      <th>3</th>\n",
       "      <td>저가</td>\n",
       "      <td>매도총잔량</td>\n",
       "      <td>상장주식수(천주)</td>\n",
       "      <td>매출액(억)</td>\n",
       "      <td>주당순이익(원)</td>\n",
       "      <td>PBR(배)</td>\n",
       "    </tr>\n",
       "    <tr>\n",
       "      <th>4</th>\n",
       "      <td>NaN</td>\n",
       "      <td>NaN</td>\n",
       "      <td>NaN</td>\n",
       "      <td>매출액증가율</td>\n",
       "      <td>보통주배당금(원)</td>\n",
       "      <td>유보율(%)</td>\n",
       "    </tr>\n",
       "  </tbody>\n",
       "</table>\n",
       "</div>"
      ],
      "text/plain": [
       "     0      1          2        3          4       5\n",
       "0  거래량   매수호가   거래대금(백만)  시가총액(억)    영업이익(억)  PER(배)\n",
       "1   시가   매도호가      전일거래량  자산총계(억)    영업이익증가율  ROE(%)\n",
       "2   고가  매수총잔량      외국인비율  부채총계(억)   당기순이익(억)  ROA(%)\n",
       "3   저가  매도총잔량  상장주식수(천주)   매출액(억)   주당순이익(원)  PBR(배)\n",
       "4  NaN    NaN        NaN   매출액증가율  보통주배당금(원)  유보율(%)"
      ]
     },
     "execution_count": 112,
     "metadata": {},
     "output_type": "execute_result"
    }
   ],
   "source": [
    "df[0]"
   ]
  },
  {
   "cell_type": "code",
   "execution_count": 113,
   "id": "10fcada3",
   "metadata": {},
   "outputs": [
    {
     "data": {
      "text/html": [
       "<div>\n",
       "<style scoped>\n",
       "    .dataframe tbody tr th:only-of-type {\n",
       "        vertical-align: middle;\n",
       "    }\n",
       "\n",
       "    .dataframe tbody tr th {\n",
       "        vertical-align: top;\n",
       "    }\n",
       "\n",
       "    .dataframe thead th {\n",
       "        text-align: right;\n",
       "    }\n",
       "</style>\n",
       "<table border=\"1\" class=\"dataframe\">\n",
       "  <thead>\n",
       "    <tr style=\"text-align: right;\">\n",
       "      <th></th>\n",
       "      <th>N</th>\n",
       "      <th>종목명</th>\n",
       "      <th>현재가</th>\n",
       "      <th>전일비</th>\n",
       "      <th>등락률</th>\n",
       "      <th>액면가</th>\n",
       "      <th>거래량</th>\n",
       "      <th>거래대금</th>\n",
       "      <th>매수호가</th>\n",
       "      <th>토론실</th>\n",
       "      <th>Unnamed: 10</th>\n",
       "      <th>Unnamed: 11</th>\n",
       "      <th>Unnamed: 12</th>\n",
       "    </tr>\n",
       "  </thead>\n",
       "  <tbody>\n",
       "    <tr>\n",
       "      <th>0</th>\n",
       "      <td>NaN</td>\n",
       "      <td>NaN</td>\n",
       "      <td>NaN</td>\n",
       "      <td>NaN</td>\n",
       "      <td>NaN</td>\n",
       "      <td>NaN</td>\n",
       "      <td>NaN</td>\n",
       "      <td>NaN</td>\n",
       "      <td>NaN</td>\n",
       "      <td>NaN</td>\n",
       "      <td>NaN</td>\n",
       "      <td>NaN</td>\n",
       "      <td>NaN</td>\n",
       "    </tr>\n",
       "    <tr>\n",
       "      <th>1</th>\n",
       "      <td>1.0</td>\n",
       "      <td>삼성전자</td>\n",
       "      <td>56200.0</td>\n",
       "      <td>200.0</td>\n",
       "      <td>+0.36%</td>\n",
       "      <td>100.0</td>\n",
       "      <td>12738632.0</td>\n",
       "      <td>712230.0</td>\n",
       "      <td>56200.0</td>\n",
       "      <td>NaN</td>\n",
       "      <td>NaN</td>\n",
       "      <td>NaN</td>\n",
       "      <td>NaN</td>\n",
       "    </tr>\n",
       "    <tr>\n",
       "      <th>2</th>\n",
       "      <td>2.0</td>\n",
       "      <td>LG에너지솔루션</td>\n",
       "      <td>506000.0</td>\n",
       "      <td>5000.0</td>\n",
       "      <td>-0.98%</td>\n",
       "      <td>500.0</td>\n",
       "      <td>914537.0</td>\n",
       "      <td>463762.0</td>\n",
       "      <td>505000.0</td>\n",
       "      <td>NaN</td>\n",
       "      <td>NaN</td>\n",
       "      <td>NaN</td>\n",
       "      <td>NaN</td>\n",
       "    </tr>\n",
       "  </tbody>\n",
       "</table>\n",
       "</div>"
      ],
      "text/plain": [
       "     N       종목명       현재가     전일비     등락률    액면가         거래량      거래대금  \\\n",
       "0  NaN       NaN       NaN     NaN     NaN    NaN         NaN       NaN   \n",
       "1  1.0      삼성전자   56200.0   200.0  +0.36%  100.0  12738632.0  712230.0   \n",
       "2  2.0  LG에너지솔루션  506000.0  5000.0  -0.98%  500.0    914537.0  463762.0   \n",
       "\n",
       "       매수호가  토론실  Unnamed: 10  Unnamed: 11  Unnamed: 12  \n",
       "0       NaN  NaN          NaN          NaN          NaN  \n",
       "1   56200.0  NaN          NaN          NaN          NaN  \n",
       "2  505000.0  NaN          NaN          NaN          NaN  "
      ]
     },
     "execution_count": 113,
     "metadata": {},
     "output_type": "execute_result"
    }
   ],
   "source": [
    "df[1].head(3)"
   ]
  },
  {
   "cell_type": "code",
   "execution_count": 115,
   "id": "a4c4db3a",
   "metadata": {},
   "outputs": [
    {
     "data": {
      "text/plain": [
       "(81, 13)"
      ]
     },
     "execution_count": 115,
     "metadata": {},
     "output_type": "execute_result"
    }
   ],
   "source": [
    "df = pd.read_html(browser.page_source)[1]\n",
    "df.shape"
   ]
  },
  {
   "cell_type": "markdown",
   "id": "6919d9c7",
   "metadata": {},
   "source": [
    "- **결측값 제거**"
   ]
  },
  {
   "cell_type": "code",
   "execution_count": 118,
   "id": "a61efd6e",
   "metadata": {},
   "outputs": [
    {
     "data": {
      "text/plain": [
       "(50, 13)"
      ]
     },
     "execution_count": 118,
     "metadata": {},
     "output_type": "execute_result"
    }
   ],
   "source": [
    "df1 = df.dropna(axis='index', how='all')\n",
    "df1.shape\n",
    "# 행 전체가 결측치일 경우 해당 열 제거"
   ]
  },
  {
   "cell_type": "code",
   "execution_count": 119,
   "id": "9974e0f5",
   "metadata": {},
   "outputs": [
    {
     "data": {
      "text/plain": [
       "(50, 9)"
      ]
     },
     "execution_count": 119,
     "metadata": {},
     "output_type": "execute_result"
    }
   ],
   "source": [
    "df2 = df1.dropna(axis='columns', how='all')\n",
    "df2.shape"
   ]
  },
  {
   "cell_type": "markdown",
   "id": "757f5520",
   "metadata": {},
   "source": [
    "# \n",
    "#### 6. 파일 저장"
   ]
  },
  {
   "cell_type": "code",
   "execution_count": 38,
   "id": "dc6026d1",
   "metadata": {},
   "outputs": [],
   "source": [
    "import os\n",
    "import time"
   ]
  },
  {
   "cell_type": "code",
   "execution_count": 39,
   "id": "3b367b95",
   "metadata": {},
   "outputs": [],
   "source": [
    "f_name = 'stock.csv'"
   ]
  },
  {
   "cell_type": "code",
   "execution_count": 41,
   "id": "26f6b7e4",
   "metadata": {},
   "outputs": [],
   "source": [
    "f_name = 'stock.csv'\n",
    "if os.path.exists(f_name): # 파일이 있다면 => 헤더 미포함한 데이터를 추가\n",
    "    df2.to_csv(f_name, encoding='utf-8-sig', index=False, mode='a', header=False)\n",
    "else: # 파일이 없다면 => 헤더 포함\n",
    "    df2.to_csv(f_name, encoding='utf-8-sig', index=False)"
   ]
  },
  {
   "cell_type": "markdown",
   "id": "9a3a4bfe",
   "metadata": {},
   "source": [
    "# \n",
    "# \n",
    "# \n",
    "# "
   ]
  },
  {
   "cell_type": "code",
   "execution_count": 42,
   "id": "44b97632",
   "metadata": {},
   "outputs": [],
   "source": [
    "chrome_options = webdriver.ChromeOptions()\n",
    "chrome_options.add_argument('--headless')\n",
    "chrome_options.add_argument('--no-sandbox')\n",
    "chrome_options.add_argument('--disable-dev-shm-usage')"
   ]
  },
  {
   "cell_type": "code",
   "execution_count": 201,
   "id": "a589b18e",
   "metadata": {},
   "outputs": [],
   "source": [
    "def scrape_stock_info(page_num=100):\n",
    "    \n",
    "    print(\"생성할 csv 파일 이름을 입력하세요\")\n",
    "    print(\"(현재 존재하는 csv 파일 이름과 중복되지 않아야 합니다.)\")\n",
    "    print(\"\\n현재 폴더 내 csv 파일 목록 : \")\n",
    "    print(\"----------------------------\")\n",
    "    for i in range(len(os.listdir())):\n",
    "        if \".csv\" in os.listdir()[i]:\n",
    "            print(os.listdir()[i])\n",
    "            \n",
    "    print(\"\\n----------------------------\")\n",
    "    \n",
    "    time.sleep(1)\n",
    "    file_name = input('\\n생성할 csv 파일 이름 (.csv 제외하고 입력) : ')\n",
    "    print('\\n')\n",
    "\n",
    "    url = \"https://finance.naver.com/sise/sise_market_sum.nhn?&page=\"\n",
    "    stock_url = urllib.request.urlopen(url).read() \n",
    "    soup = BeautifulSoup(stock_url, 'html.parser', from_encoding='euc-kr')\n",
    "\n",
    "    print(\"\\n\\n아래 항목 중 조회하고자 하는 항목 (최대 6개)들을 입력하시오\")\n",
    "    print(\"{입력 예시 : 거래량, 매수호가, 시가총액}\")\n",
    "    print(\"\\n----------------------------\")\n",
    "\n",
    "    item_list = soup.find('div', {'class': 'subcnt_sise_item_top sub810t'}).\\\n",
    "    find('table', {'class': 'item_list'}).find_all('td')\n",
    "\n",
    "    time.sleep(1)\n",
    "    items = []\n",
    "    for item in item_list:\n",
    "        if item.find('label') == None:\n",
    "            continue\n",
    "        \n",
    "        print(item.find('label').get_text())\n",
    "    print(\"\\n----------------------------\")\n",
    "\n",
    "    time.sleep(2)\n",
    "    items_to_select = list(input('조회 항목 : ').replace(\" \", \"\").split(','))\n",
    "    \n",
    "    time.sleep(1)\n",
    "    print(\"\\n\")\n",
    "    print(str(items_to_select)+ \" 항목들에 대한 데이터를 수집합니다.\")\n",
    "    \n",
    "    chrome_options = webdriver.ChromeOptions()\n",
    "    chrome_options.add_argument('--headless')\n",
    "    chrome_options.add_argument('--no-sandbox')\n",
    "    chrome_options.add_argument('--disable-dev-shm-usage')\n",
    "    browser = webdriver.Chrome('./chromedriver.exe', options=chrome_options)\n",
    "    url = \"https://finance.naver.com/sise/sise_market_sum.nhn?&page=\"\n",
    "    browser.get(url)\n",
    "\n",
    "    checkboxes = browser.find_elements(By.NAME, 'fieldIds')\n",
    "    for checkbox in checkboxes:\n",
    "        if checkbox.is_selected(): # 만약 체크박스가 체크되어 있을 시\n",
    "            checkbox.click() # 클릭 (체크 헤제)\n",
    "\n",
    "    for checkbox in checkboxes:\n",
    "        parent = checkbox.find_element(By.XPATH, '..') # 부모 element\n",
    "        label = parent.find_element(By.TAG_NAME, 'label') \n",
    "        if label.text in items_to_select:\n",
    "            checkbox.click()\n",
    "\n",
    "    btn_apply = browser.find_element(By.XPATH, '//a[@href=\"javascript:fieldSubmit()\"]')\n",
    "    btn_apply.click()\n",
    "\n",
    "    for page in range(1, page_num):\n",
    "        if page == 1:\n",
    "            df = pd.read_html(browser.page_source)[1]\n",
    "            df1 = df.dropna(axis='index', how='all')\n",
    "            df2 = df1.dropna(axis='columns', how='all')\n",
    "            \n",
    "            f_name = str(file_name) + '.csv'\n",
    "            if os.path.exists(f_name): \n",
    "                df2.to_csv(f_name, encoding='utf-8-sig', index=False, mode='a', header=False)\n",
    "            else: \n",
    "                df2.to_csv(f_name, encoding='utf-8-sig', index=False)\n",
    "        else:\n",
    "            url = \"https://finance.naver.com/sise/sise_market_sum.nhn?&page=\" + str(page)\n",
    "            browser.get(url)\n",
    "            \n",
    "            df = pd.read_html(browser.page_source)[1]\n",
    "            df1 = df.dropna(axis='index', how='all')\n",
    "            df2 = df1.dropna(axis='columns', how='all')\n",
    "\n",
    "            if df2.shape == (0, 0):\n",
    "                break\n",
    "            else:\n",
    "                df2.to_csv(f_name, encoding='utf-8-sig', index=False, mode='a', header=False)\n",
    "    \n",
    "    print(\"수집 완료! \\n\"+ str(file_name) + \".csv 파일이 생성되었습니다!\")\n",
    "    data = pd.read_csv(str(file_name + \".csv\"))"
   ]
  },
  {
   "cell_type": "code",
   "execution_count": 202,
   "id": "ccf67deb",
   "metadata": {
    "scrolled": false
   },
   "outputs": [
    {
     "name": "stdout",
     "output_type": "stream",
     "text": [
      "생성할 csv 파일 이름을 입력하세요\n",
      "(현재 존재하는 csv 파일 이름과 중복되지 않아야 합니다.)\n",
      "\n",
      "현재 폴더 내 csv 파일 목록 : \n",
      "----------------------------\n",
      "stock.csv\n",
      "stock_df.csv\n",
      "\n",
      "----------------------------\n",
      "\n",
      "생성할 csv 파일 이름 (.csv 제외하고 입력) : 이찬솔\n",
      "\n",
      "\n",
      "\n",
      "\n",
      "아래 항목 중 조회하고자 하는 항목 (최대 6개)들을 입력하시오\n",
      "{입력 예시 : 거래량, 매수호가, 시가총액}\n",
      "\n",
      "----------------------------\n",
      "거래량\n",
      "매수호가\n",
      "거래대금\n",
      "시가총액\n",
      "영업이익\n",
      "PER\n",
      "시가\n",
      "매도호가\n",
      "전일거래량\n",
      "자산총계\n",
      "영업이익증가율\n",
      "ROE\n",
      "고가\n",
      "매수총잔량\n",
      "외국인비율\n",
      "부채총계\n",
      "당기순이익\n",
      "ROA\n",
      "저가\n",
      "매도총잔량\n",
      "상장주식수\n",
      "매출액\n",
      "주당순이익\n",
      "PBR\n",
      "매출액증가율\n",
      "보통주배당금\n",
      "유보율\n",
      "\n",
      "----------------------------\n",
      "조회 항목 : 거래량, PER\n",
      "\n",
      "\n",
      "['거래량', 'PER'] 항목들에 대한 데이터를 수집합니다.\n"
     ]
    },
    {
     "name": "stderr",
     "output_type": "stream",
     "text": [
      "C:\\Users\\이찬솔\\AppData\\Local\\Temp\\ipykernel_12136\\2369596010.py:48: DeprecationWarning: executable_path has been deprecated, please pass in a Service object\n",
      "  browser = webdriver.Chrome('./chromedriver.exe', options=chrome_options)\n"
     ]
    },
    {
     "name": "stdout",
     "output_type": "stream",
     "text": [
      "수집 완료! \n",
      "이찬솔.csv 파일이 생성되었습니다!\n"
     ]
    }
   ],
   "source": [
    "scrape_stock_info()"
   ]
  },
  {
   "cell_type": "code",
   "execution_count": 208,
   "id": "5cbd1355",
   "metadata": {},
   "outputs": [
    {
     "data": {
      "text/plain": [
       "((1861, 8),\n",
       " N      float64\n",
       " 종목명     object\n",
       " 현재가    float64\n",
       " 전일비    float64\n",
       " 등락률     object\n",
       " 액면가    float64\n",
       " 거래량    float64\n",
       " PER    float64\n",
       " dtype: object)"
      ]
     },
     "execution_count": 208,
     "metadata": {},
     "output_type": "execute_result"
    }
   ],
   "source": [
    "df = pd.read_csv(\"이찬솔.csv\")\n",
    "df.shape, df.dtypes"
   ]
  },
  {
   "cell_type": "code",
   "execution_count": 209,
   "id": "40d94712",
   "metadata": {},
   "outputs": [
    {
     "data": {
      "text/html": [
       "<div>\n",
       "<style scoped>\n",
       "    .dataframe tbody tr th:only-of-type {\n",
       "        vertical-align: middle;\n",
       "    }\n",
       "\n",
       "    .dataframe tbody tr th {\n",
       "        vertical-align: top;\n",
       "    }\n",
       "\n",
       "    .dataframe thead th {\n",
       "        text-align: right;\n",
       "    }\n",
       "</style>\n",
       "<table border=\"1\" class=\"dataframe\">\n",
       "  <thead>\n",
       "    <tr style=\"text-align: right;\">\n",
       "      <th></th>\n",
       "      <th>N</th>\n",
       "      <th>종목명</th>\n",
       "      <th>현재가</th>\n",
       "      <th>전일비</th>\n",
       "      <th>등락률</th>\n",
       "      <th>액면가</th>\n",
       "      <th>거래량</th>\n",
       "      <th>PER</th>\n",
       "    </tr>\n",
       "  </thead>\n",
       "  <tbody>\n",
       "    <tr>\n",
       "      <th>0</th>\n",
       "      <td>1</td>\n",
       "      <td>삼성전자</td>\n",
       "      <td>56200.0</td>\n",
       "      <td>200.0</td>\n",
       "      <td>+0.36%</td>\n",
       "      <td>100.0</td>\n",
       "      <td>12738632.0</td>\n",
       "      <td>8.52</td>\n",
       "    </tr>\n",
       "    <tr>\n",
       "      <th>1</th>\n",
       "      <td>2</td>\n",
       "      <td>LG에너지솔루션</td>\n",
       "      <td>506000.0</td>\n",
       "      <td>5000.0</td>\n",
       "      <td>-0.98%</td>\n",
       "      <td>500.0</td>\n",
       "      <td>914537.0</td>\n",
       "      <td>840.53</td>\n",
       "    </tr>\n",
       "    <tr>\n",
       "      <th>2</th>\n",
       "      <td>3</td>\n",
       "      <td>SK하이닉스</td>\n",
       "      <td>91200.0</td>\n",
       "      <td>800.0</td>\n",
       "      <td>-0.87%</td>\n",
       "      <td>5000.0</td>\n",
       "      <td>2210421.0</td>\n",
       "      <td>5.78</td>\n",
       "    </tr>\n",
       "    <tr>\n",
       "      <th>3</th>\n",
       "      <td>4</td>\n",
       "      <td>삼성바이오로직스</td>\n",
       "      <td>802000.0</td>\n",
       "      <td>5000.0</td>\n",
       "      <td>-0.62%</td>\n",
       "      <td>2500.0</td>\n",
       "      <td>38088.0</td>\n",
       "      <td>106.66</td>\n",
       "    </tr>\n",
       "    <tr>\n",
       "      <th>4</th>\n",
       "      <td>5</td>\n",
       "      <td>LG화학</td>\n",
       "      <td>635000.0</td>\n",
       "      <td>23000.0</td>\n",
       "      <td>-3.50%</td>\n",
       "      <td>5000.0</td>\n",
       "      <td>266934.0</td>\n",
       "      <td>22.39</td>\n",
       "    </tr>\n",
       "  </tbody>\n",
       "</table>\n",
       "</div>"
      ],
      "text/plain": [
       "   N       종목명       현재가      전일비     등락률     액면가         거래량     PER\n",
       "0  1      삼성전자   56200.0    200.0  +0.36%   100.0  12738632.0    8.52\n",
       "1  2  LG에너지솔루션  506000.0   5000.0  -0.98%   500.0    914537.0  840.53\n",
       "2  3    SK하이닉스   91200.0    800.0  -0.87%  5000.0   2210421.0    5.78\n",
       "3  4  삼성바이오로직스  802000.0   5000.0  -0.62%  2500.0     38088.0  106.66\n",
       "4  5      LG화학  635000.0  23000.0  -3.50%  5000.0    266934.0   22.39"
      ]
     },
     "execution_count": 209,
     "metadata": {},
     "output_type": "execute_result"
    }
   ],
   "source": [
    "df.N = df.N.apply(int)\n",
    "df.head()"
   ]
  },
  {
   "cell_type": "code",
   "execution_count": 210,
   "id": "c5fcf5aa",
   "metadata": {},
   "outputs": [
    {
     "data": {
      "text/html": [
       "<div>\n",
       "<style scoped>\n",
       "    .dataframe tbody tr th:only-of-type {\n",
       "        vertical-align: middle;\n",
       "    }\n",
       "\n",
       "    .dataframe tbody tr th {\n",
       "        vertical-align: top;\n",
       "    }\n",
       "\n",
       "    .dataframe thead th {\n",
       "        text-align: right;\n",
       "    }\n",
       "</style>\n",
       "<table border=\"1\" class=\"dataframe\">\n",
       "  <thead>\n",
       "    <tr style=\"text-align: right;\">\n",
       "      <th></th>\n",
       "      <th>N</th>\n",
       "      <th>종목명</th>\n",
       "      <th>현재가</th>\n",
       "      <th>전일비</th>\n",
       "      <th>등락률</th>\n",
       "      <th>액면가</th>\n",
       "      <th>거래량</th>\n",
       "      <th>PER</th>\n",
       "    </tr>\n",
       "  </thead>\n",
       "  <tbody>\n",
       "    <tr>\n",
       "      <th>1856</th>\n",
       "      <td>1857</td>\n",
       "      <td>ARIRANG 코스닥150</td>\n",
       "      <td>10775.0</td>\n",
       "      <td>155.0</td>\n",
       "      <td>-1.42%</td>\n",
       "      <td>0.0</td>\n",
       "      <td>580.0</td>\n",
       "      <td>NaN</td>\n",
       "    </tr>\n",
       "    <tr>\n",
       "      <th>1857</th>\n",
       "      <td>1858</td>\n",
       "      <td>KBSTAR 200커뮤니케이션서비스</td>\n",
       "      <td>12145.0</td>\n",
       "      <td>65.0</td>\n",
       "      <td>-0.53%</td>\n",
       "      <td>0.0</td>\n",
       "      <td>9.0</td>\n",
       "      <td>NaN</td>\n",
       "    </tr>\n",
       "    <tr>\n",
       "      <th>1858</th>\n",
       "      <td>1859</td>\n",
       "      <td>KBSTAR 200에너지화학</td>\n",
       "      <td>10780.0</td>\n",
       "      <td>340.0</td>\n",
       "      <td>-3.06%</td>\n",
       "      <td>0.0</td>\n",
       "      <td>218.0</td>\n",
       "      <td>NaN</td>\n",
       "    </tr>\n",
       "    <tr>\n",
       "      <th>1859</th>\n",
       "      <td>1860</td>\n",
       "      <td>KBSTAR 200산업재</td>\n",
       "      <td>11240.0</td>\n",
       "      <td>260.0</td>\n",
       "      <td>-2.26%</td>\n",
       "      <td>0.0</td>\n",
       "      <td>4005.0</td>\n",
       "      <td>NaN</td>\n",
       "    </tr>\n",
       "    <tr>\n",
       "      <th>1860</th>\n",
       "      <td>1861</td>\n",
       "      <td>KBSTAR 200경기소비재</td>\n",
       "      <td>9780.0</td>\n",
       "      <td>15.0</td>\n",
       "      <td>-0.15%</td>\n",
       "      <td>0.0</td>\n",
       "      <td>231.0</td>\n",
       "      <td>NaN</td>\n",
       "    </tr>\n",
       "  </tbody>\n",
       "</table>\n",
       "</div>"
      ],
      "text/plain": [
       "         N                  종목명      현재가    전일비     등락률  액면가     거래량  PER\n",
       "1856  1857       ARIRANG 코스닥150  10775.0  155.0  -1.42%  0.0   580.0  NaN\n",
       "1857  1858  KBSTAR 200커뮤니케이션서비스  12145.0   65.0  -0.53%  0.0     9.0  NaN\n",
       "1858  1859      KBSTAR 200에너지화학  10780.0  340.0  -3.06%  0.0   218.0  NaN\n",
       "1859  1860        KBSTAR 200산업재  11240.0  260.0  -2.26%  0.0  4005.0  NaN\n",
       "1860  1861      KBSTAR 200경기소비재   9780.0   15.0  -0.15%  0.0   231.0  NaN"
      ]
     },
     "execution_count": 210,
     "metadata": {},
     "output_type": "execute_result"
    }
   ],
   "source": [
    "df.tail()"
   ]
  }
 ],
 "metadata": {
  "kernelspec": {
   "display_name": "Python 3 (ipykernel)",
   "language": "python",
   "name": "python3"
  },
  "language_info": {
   "codemirror_mode": {
    "name": "ipython",
    "version": 3
   },
   "file_extension": ".py",
   "mimetype": "text/x-python",
   "name": "python",
   "nbconvert_exporter": "python",
   "pygments_lexer": "ipython3",
   "version": "3.9.7"
  }
 },
 "nbformat": 4,
 "nbformat_minor": 5
}
