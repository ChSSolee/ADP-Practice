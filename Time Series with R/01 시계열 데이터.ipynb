{
 "cells": [
  {
   "cell_type": "markdown",
   "id": "5bc866c4",
   "metadata": {},
   "source": [
    "## 시게열 데이터\n",
    "- 일정한 시간 간격에 따른 정보량을 기록\n",
    "- **설명변수가 시간으로 고정**\n",
    "- **기록되는 시간 간격이 동일**"
   ]
  },
  {
   "cell_type": "markdown",
   "id": "1c289557",
   "metadata": {},
   "source": [
    "### 자기상관 관계\n",
    "- **과거의 데이터가 현재의 데이터에 영향을 주는 경향**\n",
    "\n",
    "### 추세 경향성\n",
    "- **시간의 흐름에 다라 영향을 받는 데이터의 중장기적인 지속적 데이터의 변동**\n",
    "- 추세 경향성을 선형 회귀로 분석할 때는 자기상관 관계가 있는지를 먼저 확인한 후 적용\n",
    "- 자기상관 관계가 있는 경우에는 섢ㅇ 회귀 외에 다른 시계열 분석 방법을 함께 고려"
   ]
  },
  {
   "cell_type": "markdown",
   "id": "5b60a86f",
   "metadata": {},
   "source": [
    "### 계절성, 순환성\n",
    "- 계절성 : 봄/여름/가을/겨울, 일/주/월/분기와 같은 기간의 변화등에 따라 주기적으로 변동하는 성질, 데이터의 피크의 예측 가능\n",
    "\n",
    "- 순환성 : 일정한 기간과는 상관없이 데이터의 변동성이 반복, 1년을 넘겨 주기적으로 발생하는 데이터의 반복성, 데이터의 피크 예측이 어려움\n",
    "\n",
    "- 불확실성 : 확률분포에 다른 신뢰구간이 같이 제공되어 평가"
   ]
  },
  {
   "cell_type": "markdown",
   "id": "55b8593a",
   "metadata": {},
   "source": [
    "### 시계열 객체\n",
    "- date, POSIXct, POsiXlt, yearmon, yearqt"
   ]
  },
  {
   "cell_type": "markdown",
   "id": "240dfeff",
   "metadata": {},
   "source": [
    "### date : 'yyyy-mm-dd' 형태"
   ]
  },
  {
   "cell_type": "code",
   "execution_count": 1,
   "id": "d4764c84",
   "metadata": {
    "scrolled": true
   },
   "outputs": [
    {
     "data": {
      "text/html": [
       "<style>\n",
       ".list-inline {list-style: none; margin:0; padding: 0}\n",
       ".list-inline>li {display: inline-block}\n",
       ".list-inline>li:not(:last-child)::after {content: \"\\00b7\"; padding: 0 .5ex}\n",
       "</style>\n",
       "<ol class=list-inline><li><time datetime=\"2021-01-31\">2021-01-31</time></li><li><time datetime=\"2021-02-28\">2021-02-28</time></li><li><time datetime=\"2021-03-31\">2021-03-31</time></li></ol>\n"
      ],
      "text/latex": [
       "\\begin{enumerate*}\n",
       "\\item 2021-01-31\n",
       "\\item 2021-02-28\n",
       "\\item 2021-03-31\n",
       "\\end{enumerate*}\n"
      ],
      "text/markdown": [
       "1. 2021-01-31\n",
       "2. 2021-02-28\n",
       "3. 2021-03-31\n",
       "\n",
       "\n"
      ],
      "text/plain": [
       "[1] \"2021-01-31\" \"2021-02-28\" \"2021-03-31\""
      ]
     },
     "metadata": {},
     "output_type": "display_data"
    }
   ],
   "source": [
    "(date <- as.Date(c(\"2021-01-31\", \"2021-02-28\", \"2021-03-31\")))"
   ]
  },
  {
   "cell_type": "code",
   "execution_count": 3,
   "id": "4d131e87",
   "metadata": {},
   "outputs": [
    {
     "data": {
      "text/html": [
       "<style>\n",
       ".list-inline {list-style: none; margin:0; padding: 0}\n",
       ".list-inline>li {display: inline-block}\n",
       ".list-inline>li:not(:last-child)::after {content: \"\\00b7\"; padding: 0 .5ex}\n",
       "</style>\n",
       "<ol class=list-inline><li><time datetime=\"2021-01-31\">2021-01-31</time></li><li><time datetime=\"2021-02-28\">2021-02-28</time></li><li><time datetime=\"2021-03-31\">2021-03-31</time></li></ol>\n"
      ],
      "text/latex": [
       "\\begin{enumerate*}\n",
       "\\item 2021-01-31\n",
       "\\item 2021-02-28\n",
       "\\item 2021-03-31\n",
       "\\end{enumerate*}\n"
      ],
      "text/markdown": [
       "1. 2021-01-31\n",
       "2. 2021-02-28\n",
       "3. 2021-03-31\n",
       "\n",
       "\n"
      ],
      "text/plain": [
       "[1] \"2021-01-31\" \"2021-02-28\" \"2021-03-31\""
      ]
     },
     "metadata": {},
     "output_type": "display_data"
    }
   ],
   "source": [
    "(date <- as.Date(c('21/01/31', '21/02/28', '21/03/31'), format = '%y/%m/%d'))"
   ]
  },
  {
   "cell_type": "markdown",
   "id": "959b932f",
   "metadata": {},
   "source": [
    "date class의 클래스를 unclass하면 내부적으로 저장된 1970년 이후의 날짜"
   ]
  },
  {
   "cell_type": "code",
   "execution_count": 4,
   "id": "a9f6d646",
   "metadata": {
    "scrolled": true
   },
   "outputs": [
    {
     "data": {
      "text/html": [
       "<style>\n",
       ".list-inline {list-style: none; margin:0; padding: 0}\n",
       ".list-inline>li {display: inline-block}\n",
       ".list-inline>li:not(:last-child)::after {content: \"\\00b7\"; padding: 0 .5ex}\n",
       "</style>\n",
       "<ol class=list-inline><li>18658</li><li>18686</li><li>18717</li></ol>\n"
      ],
      "text/latex": [
       "\\begin{enumerate*}\n",
       "\\item 18658\n",
       "\\item 18686\n",
       "\\item 18717\n",
       "\\end{enumerate*}\n"
      ],
      "text/markdown": [
       "1. 18658\n",
       "2. 18686\n",
       "3. 18717\n",
       "\n",
       "\n"
      ],
      "text/plain": [
       "[1] 18658 18686 18717"
      ]
     },
     "metadata": {},
     "output_type": "display_data"
    }
   ],
   "source": [
    "unclass(date)"
   ]
  },
  {
   "cell_type": "markdown",
   "id": "e7fcf8a9",
   "metadata": {},
   "source": [
    "### POSIXct, POSIXlt : 1970년 이후의 시간을 초 단위로 기록\n",
    "- POSIXct는 1970년 이후의 시간을 초 단위의 정수로 기록\n",
    "- POSIXlt는 연, 월, 일, 시, 분, 초의 정보를 리스트 형태로 기록 (1900년 이후로 계산되어 리스트 생성)"
   ]
  },
  {
   "cell_type": "code",
   "execution_count": 7,
   "id": "779d5d49",
   "metadata": {},
   "outputs": [
    {
     "data": {
      "text/plain": [
       "[1] \"2021-01-31 12:34:56 KST\""
      ]
     },
     "metadata": {},
     "output_type": "display_data"
    }
   ],
   "source": [
    "# character를 POSIXct class로 변환\n",
    "as.POSIXct('2021-01-31 12:34:56')"
   ]
  },
  {
   "cell_type": "code",
   "execution_count": 8,
   "id": "78ec9e72",
   "metadata": {},
   "outputs": [
    {
     "data": {
      "text/html": [
       "1612064096"
      ],
      "text/latex": [
       "1612064096"
      ],
      "text/markdown": [
       "1612064096"
      ],
      "text/plain": [
       "[1] 1612064096\n",
       "attr(,\"tzone\")\n",
       "[1] \"\""
      ]
     },
     "metadata": {},
     "output_type": "display_data"
    }
   ],
   "source": [
    "# POSIXct를 해제하면 정수\n",
    "unclass(as.POSIXct('2021-01-31 12:34:56'))"
   ]
  },
  {
   "cell_type": "code",
   "execution_count": 9,
   "id": "7c7dfba3",
   "metadata": {},
   "outputs": [
    {
     "data": {
      "text/plain": [
       "[1] \"2021-01-31 12:34:56 KST\""
      ]
     },
     "metadata": {},
     "output_type": "display_data"
    }
   ],
   "source": [
    "# character를 POSIXlt class로 변환\n",
    "as.POSIXlt('2021-01-31 12:34:56')"
   ]
  },
  {
   "cell_type": "code",
   "execution_count": 10,
   "id": "930d268d",
   "metadata": {
    "scrolled": true
   },
   "outputs": [
    {
     "data": {
      "text/html": [
       "<dl>\n",
       "\t<dt>$sec</dt>\n",
       "\t\t<dd>56</dd>\n",
       "\t<dt>$min</dt>\n",
       "\t\t<dd>34</dd>\n",
       "\t<dt>$hour</dt>\n",
       "\t\t<dd>12</dd>\n",
       "\t<dt>$mday</dt>\n",
       "\t\t<dd>31</dd>\n",
       "\t<dt>$mon</dt>\n",
       "\t\t<dd>11</dd>\n",
       "\t<dt>$year</dt>\n",
       "\t\t<dd>121</dd>\n",
       "\t<dt>$wday</dt>\n",
       "\t\t<dd>5</dd>\n",
       "\t<dt>$yday</dt>\n",
       "\t\t<dd>364</dd>\n",
       "\t<dt>$isdst</dt>\n",
       "\t\t<dd>0</dd>\n",
       "\t<dt>$zone</dt>\n",
       "\t\t<dd>'KST'</dd>\n",
       "\t<dt>$gmtoff</dt>\n",
       "\t\t<dd>&lt;NA&gt;</dd>\n",
       "</dl>\n"
      ],
      "text/latex": [
       "\\begin{description}\n",
       "\\item[\\$sec] 56\n",
       "\\item[\\$min] 34\n",
       "\\item[\\$hour] 12\n",
       "\\item[\\$mday] 31\n",
       "\\item[\\$mon] 11\n",
       "\\item[\\$year] 121\n",
       "\\item[\\$wday] 5\n",
       "\\item[\\$yday] 364\n",
       "\\item[\\$isdst] 0\n",
       "\\item[\\$zone] 'KST'\n",
       "\\item[\\$gmtoff] <NA>\n",
       "\\end{description}\n"
      ],
      "text/markdown": [
       "$sec\n",
       ":   56\n",
       "$min\n",
       ":   34\n",
       "$hour\n",
       ":   12\n",
       "$mday\n",
       ":   31\n",
       "$mon\n",
       ":   11\n",
       "$year\n",
       ":   121\n",
       "$wday\n",
       ":   5\n",
       "$yday\n",
       ":   364\n",
       "$isdst\n",
       ":   0\n",
       "$zone\n",
       ":   'KST'\n",
       "$gmtoff\n",
       ":   &lt;NA&gt;\n",
       "\n",
       "\n"
      ],
      "text/plain": [
       "$sec\n",
       "[1] 56\n",
       "\n",
       "$min\n",
       "[1] 34\n",
       "\n",
       "$hour\n",
       "[1] 12\n",
       "\n",
       "$mday\n",
       "[1] 31\n",
       "\n",
       "$mon\n",
       "[1] 11\n",
       "\n",
       "$year\n",
       "[1] 121\n",
       "\n",
       "$wday\n",
       "[1] 5\n",
       "\n",
       "$yday\n",
       "[1] 364\n",
       "\n",
       "$isdst\n",
       "[1] 0\n",
       "\n",
       "$zone\n",
       "[1] \"KST\"\n",
       "\n",
       "$gmtoff\n",
       "[1] NA\n"
      ]
     },
     "metadata": {},
     "output_type": "display_data"
    }
   ],
   "source": [
    "# POSIXlt에서 1900년 이후 연도를 추출\n",
    "unclass(as.POSIXlt('2021-12-31 12:34:56'))"
   ]
  },
  {
   "cell_type": "code",
   "execution_count": 11,
   "id": "68db278c",
   "metadata": {},
   "outputs": [
    {
     "data": {
      "text/html": [
       "121"
      ],
      "text/latex": [
       "121"
      ],
      "text/markdown": [
       "121"
      ],
      "text/plain": [
       "[1] 121"
      ]
     },
     "metadata": {},
     "output_type": "display_data"
    }
   ],
   "source": [
    "# POSIXlt에서 1900년 이후 연도를 추출\n",
    "as.POSIXlt('2021-12-31 12:34:56')$year"
   ]
  },
  {
   "cell_type": "markdown",
   "id": "368afdb1",
   "metadata": {},
   "source": [
    "### yearmon, yearqtr : 연, 월로 표현되거나 연, 분기로 표현된 시간 데이터가 있을 때 사용\n",
    "\n",
    "- yearmon : 1월을 0으로, 2웡를 1/12, 12월을 11/12\n",
    "- yearqtr : 분기마다 0.25씩 더해서 저장"
   ]
  },
  {
   "cell_type": "code",
   "execution_count": 13,
   "id": "0d09333d",
   "metadata": {},
   "outputs": [],
   "source": [
    "library(zoo)"
   ]
  },
  {
   "cell_type": "code",
   "execution_count": 15,
   "id": "1f61fc02",
   "metadata": {},
   "outputs": [
    {
     "data": {
      "text/plain": [
       "[1] \"2 2007\""
      ]
     },
     "metadata": {},
     "output_type": "display_data"
    }
   ],
   "source": [
    "# character를 yearmon class로 변환\n",
    "as.yearmon(\"2007-02\")"
   ]
  },
  {
   "cell_type": "code",
   "execution_count": 16,
   "id": "4b1fb8b4",
   "metadata": {},
   "outputs": [
    {
     "data": {
      "text/html": [
       "2007.08333333333"
      ],
      "text/latex": [
       "2007.08333333333"
      ],
      "text/markdown": [
       "2007.08333333333"
      ],
      "text/plain": [
       "[1] 2007.083"
      ]
     },
     "metadata": {},
     "output_type": "display_data"
    }
   ],
   "source": [
    "# yearmon class를 해제하면 double\n",
    "unclass(as.yearmon(\"2007-02\"))"
   ]
  },
  {
   "cell_type": "code",
   "execution_count": 18,
   "id": "8a268edf",
   "metadata": {},
   "outputs": [
    {
     "data": {
      "text/plain": [
       "[1] \"2 2007\""
      ]
     },
     "metadata": {},
     "output_type": "display_data"
    }
   ],
   "source": [
    "# 날짜가 있어도 yearmon은 연, 월까지만 인식\n",
    "as.yearmon(\"2007-02-01\")\n",
    "?as.yearmon"
   ]
  },
  {
   "cell_type": "code",
   "execution_count": 19,
   "id": "4558ef98",
   "metadata": {},
   "outputs": [
    {
     "data": {
      "text/plain": [
       "[1] \"2007 Q1\""
      ]
     },
     "metadata": {},
     "output_type": "display_data"
    }
   ],
   "source": [
    "# character를 yearqtr class로 변환(1분기)\n",
    "as.yearqtr(\"2007-01\")"
   ]
  },
  {
   "cell_type": "code",
   "execution_count": 22,
   "id": "8c44103f",
   "metadata": {},
   "outputs": [
    {
     "data": {
      "text/plain": [
       "[1] \"2007 Q4\""
      ]
     },
     "metadata": {},
     "output_type": "display_data"
    },
    {
     "data": {
      "text/html": [
       "2007.75"
      ],
      "text/latex": [
       "2007.75"
      ],
      "text/markdown": [
       "2007.75"
      ],
      "text/plain": [
       "[1] 2007.75"
      ]
     },
     "metadata": {},
     "output_type": "display_data"
    }
   ],
   "source": [
    "# yearqtr class를 해제하면 double\n",
    "as.yearqtr(\"2007-04\")\n",
    "unclass(as.yearqtr(\"2007-04\"))"
   ]
  },
  {
   "cell_type": "markdown",
   "id": "c9bb32d2",
   "metadata": {},
   "source": [
    "### 날짜, 시간 포맷\n",
    "\n",
    "| 표준 코드 | 설명 | 예 |\n",
    "| -- | -- | -- |\n",
    "| %d | 월의 날짜(정수) | 23 |\n",
    "| %m | 월(정수) | 12 |\n",
    "| %B | 전체 월 이름 | January |\n",
    "| %b | 축약형 월 이름 | Jan |\n",
    "| %Y | 4자리 연도 | 2010 |\n",
    "| %y | 2자리 연도 | 10 |\n",
    "| %a | 요일 | 수 |\n"
   ]
  },
  {
   "cell_type": "code",
   "execution_count": 23,
   "id": "14cf746f",
   "metadata": {},
   "outputs": [
    {
     "data": {
      "text/html": [
       "<time datetime=\"2010-12-01\">2010-12-01</time>"
      ],
      "text/latex": [
       "2010-12-01"
      ],
      "text/markdown": [
       "2010-12-01"
      ],
      "text/plain": [
       "[1] \"2010-12-01\""
      ]
     },
     "metadata": {},
     "output_type": "display_data"
    }
   ],
   "source": [
    "as.Date('01/12/2010', format = '%d/%m/%Y')"
   ]
  },
  {
   "cell_type": "code",
   "execution_count": 24,
   "id": "bb3cd203",
   "metadata": {},
   "outputs": [
    {
     "data": {
      "text/html": [
       "'LC_COLLATE=English_United States.1252;LC_CTYPE=English_United States.1252;LC_MONETARY=English_United States.1252;LC_NUMERIC=C;LC_TIME=English_United States.1252'"
      ],
      "text/latex": [
       "'LC\\_COLLATE=English\\_United States.1252;LC\\_CTYPE=English\\_United States.1252;LC\\_MONETARY=English\\_United States.1252;LC\\_NUMERIC=C;LC\\_TIME=English\\_United States.1252'"
      ],
      "text/markdown": [
       "'LC_COLLATE=English_United States.1252;LC_CTYPE=English_United States.1252;LC_MONETARY=English_United States.1252;LC_NUMERIC=C;LC_TIME=English_United States.1252'"
      ],
      "text/plain": [
       "[1] \"LC_COLLATE=English_United States.1252;LC_CTYPE=English_United States.1252;LC_MONETARY=English_United States.1252;LC_NUMERIC=C;LC_TIME=English_United States.1252\""
      ]
     },
     "metadata": {},
     "output_type": "display_data"
    }
   ],
   "source": [
    "Sys.setlocale(\"LC_ALL\", \"English\")"
   ]
  },
  {
   "cell_type": "code",
   "execution_count": 25,
   "id": "df488eed",
   "metadata": {},
   "outputs": [
    {
     "data": {
      "text/html": [
       "<time datetime=\"2021-01-01\">2021-01-01</time>"
      ],
      "text/latex": [
       "2021-01-01"
      ],
      "text/markdown": [
       "2021-01-01"
      ],
      "text/plain": [
       "[1] \"2021-01-01\""
      ]
     },
     "metadata": {},
     "output_type": "display_data"
    }
   ],
   "source": [
    "as.Date('01jan21', format = '%d%b%y')"
   ]
  },
  {
   "cell_type": "code",
   "execution_count": 26,
   "id": "9fb7e2b0",
   "metadata": {},
   "outputs": [
    {
     "data": {
      "text/html": [
       "'LC_COLLATE=Korean_Korea.949;LC_CTYPE=Korean_Korea.949;LC_MONETARY=Korean_Korea.949;LC_NUMERIC=C;LC_TIME=Korean_Korea.949'"
      ],
      "text/latex": [
       "'LC\\_COLLATE=Korean\\_Korea.949;LC\\_CTYPE=Korean\\_Korea.949;LC\\_MONETARY=Korean\\_Korea.949;LC\\_NUMERIC=C;LC\\_TIME=Korean\\_Korea.949'"
      ],
      "text/markdown": [
       "'LC_COLLATE=Korean_Korea.949;LC_CTYPE=Korean_Korea.949;LC_MONETARY=Korean_Korea.949;LC_NUMERIC=C;LC_TIME=Korean_Korea.949'"
      ],
      "text/plain": [
       "[1] \"LC_COLLATE=Korean_Korea.949;LC_CTYPE=Korean_Korea.949;LC_MONETARY=Korean_Korea.949;LC_NUMERIC=C;LC_TIME=Korean_Korea.949\""
      ]
     },
     "metadata": {},
     "output_type": "display_data"
    }
   ],
   "source": [
    "Sys.setlocale(\"LC_ALL\", \"Korean\")"
   ]
  },
  {
   "cell_type": "code",
   "execution_count": 27,
   "id": "2cceef7b",
   "metadata": {},
   "outputs": [
    {
     "data": {
      "text/html": [
       "<time datetime=\"2021-01-01\">2021-01-01</time>"
      ],
      "text/latex": [
       "2021-01-01"
      ],
      "text/markdown": [
       "2021-01-01"
      ],
      "text/plain": [
       "[1] \"2021-01-01\""
      ]
     },
     "metadata": {},
     "output_type": "display_data"
    }
   ],
   "source": [
    "as.Date('011월21', format = '%d%b%y')"
   ]
  },
  {
   "cell_type": "markdown",
   "id": "a9035443",
   "metadata": {},
   "source": [
    "### 시계열 데이터 객체\n",
    "\n",
    "### ts : 시계열 데이터 타입"
   ]
  },
  {
   "cell_type": "markdown",
   "id": "3a6f3a58",
   "metadata": {},
   "source": [
    "1959년 2분기부터 주기가 분기인 ts객체\n",
    "\n",
    "- **frequency = 4 : 분기**\n",
    "- **frequency = 12 : 월**"
   ]
  },
  {
   "cell_type": "code",
   "execution_count": 28,
   "id": "b1acf2f3",
   "metadata": {},
   "outputs": [
    {
     "data": {
      "text/html": [
       "<table class=\"dataframe\">\n",
       "<caption>A Time Series: 3 × 4</caption>\n",
       "<thead>\n",
       "\t<tr><th></th><th scope=col>Qtr1</th><th scope=col>Qtr2</th><th scope=col>Qtr3</th><th scope=col>Qtr4</th></tr>\n",
       "</thead>\n",
       "<tbody>\n",
       "\t<tr><th scope=row>1959</th><td>  </td><td> 1</td><td> 2</td><td> 3</td></tr>\n",
       "\t<tr><th scope=row>1960</th><td> 4</td><td> 5</td><td> 6</td><td> 7</td></tr>\n",
       "\t<tr><th scope=row>1961</th><td> 8</td><td> 9</td><td>10</td><td>  </td></tr>\n",
       "</tbody>\n",
       "</table>\n"
      ],
      "text/latex": [
       "A Time Series: 3 × 4\n",
       "\\begin{tabular}{r|llll}\n",
       "  & Qtr1 & Qtr2 & Qtr3 & Qtr4\\\\\n",
       "\\hline\n",
       "\t1959 &    &  1 &  2 &  3\\\\\n",
       "\t1960 &  4 &  5 &  6 &  7\\\\\n",
       "\t1961 &  8 &  9 & 10 &   \\\\\n",
       "\\end{tabular}\n"
      ],
      "text/markdown": [
       "\n",
       "A Time Series: 3 × 4\n",
       "\n",
       "| <!--/--> | Qtr1 | Qtr2 | Qtr3 | Qtr4 |\n",
       "|---|---|---|---|---|\n",
       "| 1959 | <!----> |  1 |  2 |  3 |\n",
       "| 1960 |  4 |  5 |  6 |  7 |\n",
       "| 1961 |  8 |  9 | 10 | <!----> |\n",
       "\n"
      ],
      "text/plain": [
       "     Qtr1 Qtr2 Qtr3 Qtr4\n",
       "1959       1    2    3  \n",
       "1960  4    5    6    7  \n",
       "1961  8    9   10       "
      ]
     },
     "metadata": {},
     "output_type": "display_data"
    }
   ],
   "source": [
    "ts(1:10, frequency = 4, start = c(1959, 2))"
   ]
  },
  {
   "cell_type": "markdown",
   "id": "395ea680",
   "metadata": {},
   "source": [
    "### xts"
   ]
  },
  {
   "cell_type": "code",
   "execution_count": 29,
   "id": "cc7c5758",
   "metadata": {},
   "outputs": [],
   "source": [
    "library(xts)"
   ]
  },
  {
   "cell_type": "markdown",
   "id": "77045a2f",
   "metadata": {},
   "source": [
    "2008 8월 1일부터 5일치 데이터를 가지는 xts object"
   ]
  },
  {
   "cell_type": "code",
   "execution_count": 30,
   "id": "9d22ac85",
   "metadata": {},
   "outputs": [
    {
     "data": {
      "text/plain": [
       "                  [,1]\n",
       "2008-08-01 -0.78490816\n",
       "2008-08-02 -0.27951436\n",
       "2008-08-03 -0.16145790\n",
       "2008-08-04 -0.29059656\n",
       "2008-08-05 -0.06753159"
      ]
     },
     "metadata": {},
     "output_type": "display_data"
    }
   ],
   "source": [
    "set.seed(345)\n",
    "xts(rnorm(5), as.Date(\"2008-08-01\") + 0:4)"
   ]
  },
  {
   "cell_type": "code",
   "execution_count": 36,
   "id": "02723d76",
   "metadata": {},
   "outputs": [
    {
     "data": {
      "text/plain": [
       "        [,1]\n",
       "1959 Q2    1\n",
       "1959 Q3    2\n",
       "1959 Q4    3\n",
       "1960 Q1    4\n",
       "1960 Q2    5\n",
       "1960 Q3    6\n",
       "1960 Q4    7\n",
       "1961 Q1    8\n",
       "1961 Q2    9\n",
       "1961 Q3   10"
      ]
     },
     "metadata": {},
     "output_type": "display_data"
    }
   ],
   "source": [
    "ts <- ts(1:10, frequency = 4, start = c(1959, 2))\n",
    "as.xts(ts)"
   ]
  },
  {
   "cell_type": "code",
   "execution_count": 38,
   "id": "4d63e766",
   "metadata": {},
   "outputs": [
    {
     "data": {
      "text/html": [
       "<style>\n",
       ".list-inline {list-style: none; margin:0; padding: 0}\n",
       ".list-inline>li {display: inline-block}\n",
       ".list-inline>li:not(:last-child)::after {content: \"\\00b7\"; padding: 0 .5ex}\n",
       "</style>\n",
       "<ol class=list-inline><li>1</li><li>2</li><li>3</li><li>4</li><li>5</li><li>6</li></ol>\n"
      ],
      "text/latex": [
       "\\begin{enumerate*}\n",
       "\\item 1\n",
       "\\item 2\n",
       "\\item 3\n",
       "\\item 4\n",
       "\\item 5\n",
       "\\item 6\n",
       "\\end{enumerate*}\n"
      ],
      "text/markdown": [
       "1. 1\n",
       "2. 2\n",
       "3. 3\n",
       "4. 4\n",
       "5. 5\n",
       "6. 6\n",
       "\n",
       "\n"
      ],
      "text/plain": [
       "[1] 1 2 3 4 5 6"
      ]
     },
     "metadata": {},
     "output_type": "display_data"
    }
   ],
   "source": [
    "# 시계열 데이터 형태로 보이지 않음\n",
    "head(ts)"
   ]
  },
  {
   "cell_type": "code",
   "execution_count": 39,
   "id": "f3eaf5b7",
   "metadata": {},
   "outputs": [
    {
     "data": {
      "text/plain": [
       "        [,1]\n",
       "1959 Q2    1\n",
       "1959 Q3    2\n",
       "1959 Q4    3\n",
       "1960 Q1    4\n",
       "1960 Q2    5\n",
       "1960 Q3    6"
      ]
     },
     "metadata": {},
     "output_type": "display_data"
    }
   ],
   "source": [
    "# 시계열 형태로 보임\n",
    "head(as.xts(ts))"
   ]
  },
  {
   "cell_type": "markdown",
   "id": "c7bdfd9d",
   "metadata": {},
   "source": [
    "### tsibble : tsibble, fable, feast, prophet 패키지 적용 가능\n",
    "\n",
    "- 각 관찰값을 고유하게 식별할 수 있는 칼럼 혹은 칼럼의 집합인 key와 시간의 순서가 지정되는 index를 필요\n",
    "- tibble 객체에서는 key로 특정 데이터의 관찰값을 식별할 수 있지만, tsibble에서는 key를 통해 특정 데이터를 식별하고 index를 통해 식별된 데이터의 특정 시간의 데이터 값을 식별 가능"
   ]
  },
  {
   "cell_type": "code",
   "execution_count": 43,
   "id": "45cb11f0",
   "metadata": {},
   "outputs": [],
   "source": [
    "library(tsibble)\n",
    "library(tidyverse)"
   ]
  },
  {
   "cell_type": "markdown",
   "id": "95fdca29",
   "metadata": {},
   "source": [
    "### as_tsibble(x, key, index)"
   ]
  },
  {
   "cell_type": "code",
   "execution_count": 49,
   "id": "c673ae1f",
   "metadata": {},
   "outputs": [
    {
     "data": {
      "text/html": [
       "<table class=\"dataframe\">\n",
       "<caption>A tbl_ts: 10 × 4</caption>\n",
       "<thead>\n",
       "\t<tr><th scope=col>date</th><th scope=col>id</th><th scope=col>x1</th><th scope=col>x2</th></tr>\n",
       "\t<tr><th scope=col>&lt;date&gt;</th><th scope=col>&lt;int&gt;</th><th scope=col>&lt;dbl&gt;</th><th scope=col>&lt;chr&gt;</th></tr>\n",
       "</thead>\n",
       "<tbody>\n",
       "\t<tr><td>2008-01-01</td><td> 1</td><td>-0.78490816</td><td>a</td></tr>\n",
       "\t<tr><td>2008-01-02</td><td> 2</td><td>-0.27951436</td><td>a</td></tr>\n",
       "\t<tr><td>2008-01-03</td><td> 3</td><td>-0.16145790</td><td>a</td></tr>\n",
       "\t<tr><td>2008-01-04</td><td> 4</td><td>-0.29059656</td><td>a</td></tr>\n",
       "\t<tr><td>2008-01-05</td><td> 5</td><td>-0.06753159</td><td>a</td></tr>\n",
       "\t<tr><td>2008-01-06</td><td> 6</td><td>-0.63352041</td><td>a</td></tr>\n",
       "\t<tr><td>2008-01-07</td><td> 7</td><td>-0.92772397</td><td>a</td></tr>\n",
       "\t<tr><td>2008-01-08</td><td> 8</td><td> 1.71077101</td><td>a</td></tr>\n",
       "\t<tr><td>2008-01-09</td><td> 9</td><td> 1.65476865</td><td>a</td></tr>\n",
       "\t<tr><td>2008-01-10</td><td>10</td><td> 1.81048251</td><td>a</td></tr>\n",
       "</tbody>\n",
       "</table>\n"
      ],
      "text/latex": [
       "A tbl\\_ts: 10 × 4\n",
       "\\begin{tabular}{llll}\n",
       " date & id & x1 & x2\\\\\n",
       " <date> & <int> & <dbl> & <chr>\\\\\n",
       "\\hline\n",
       "\t 2008-01-01 &  1 & -0.78490816 & a\\\\\n",
       "\t 2008-01-02 &  2 & -0.27951436 & a\\\\\n",
       "\t 2008-01-03 &  3 & -0.16145790 & a\\\\\n",
       "\t 2008-01-04 &  4 & -0.29059656 & a\\\\\n",
       "\t 2008-01-05 &  5 & -0.06753159 & a\\\\\n",
       "\t 2008-01-06 &  6 & -0.63352041 & a\\\\\n",
       "\t 2008-01-07 &  7 & -0.92772397 & a\\\\\n",
       "\t 2008-01-08 &  8 &  1.71077101 & a\\\\\n",
       "\t 2008-01-09 &  9 &  1.65476865 & a\\\\\n",
       "\t 2008-01-10 & 10 &  1.81048251 & a\\\\\n",
       "\\end{tabular}\n"
      ],
      "text/markdown": [
       "\n",
       "A tbl_ts: 10 × 4\n",
       "\n",
       "| date &lt;date&gt; | id &lt;int&gt; | x1 &lt;dbl&gt; | x2 &lt;chr&gt; |\n",
       "|---|---|---|---|\n",
       "| 2008-01-01 |  1 | -0.78490816 | a |\n",
       "| 2008-01-02 |  2 | -0.27951436 | a |\n",
       "| 2008-01-03 |  3 | -0.16145790 | a |\n",
       "| 2008-01-04 |  4 | -0.29059656 | a |\n",
       "| 2008-01-05 |  5 | -0.06753159 | a |\n",
       "| 2008-01-06 |  6 | -0.63352041 | a |\n",
       "| 2008-01-07 |  7 | -0.92772397 | a |\n",
       "| 2008-01-08 |  8 |  1.71077101 | a |\n",
       "| 2008-01-09 |  9 |  1.65476865 | a |\n",
       "| 2008-01-10 | 10 |  1.81048251 | a |\n",
       "\n"
      ],
      "text/plain": [
       "   date       id x1          x2\n",
       "1  2008-01-01  1 -0.78490816 a \n",
       "2  2008-01-02  2 -0.27951436 a \n",
       "3  2008-01-03  3 -0.16145790 a \n",
       "4  2008-01-04  4 -0.29059656 a \n",
       "5  2008-01-05  5 -0.06753159 a \n",
       "6  2008-01-06  6 -0.63352041 a \n",
       "7  2008-01-07  7 -0.92772397 a \n",
       "8  2008-01-08  8  1.71077101 a \n",
       "9  2008-01-09  9  1.65476865 a \n",
       "10 2008-01-10 10  1.81048251 a "
      ]
     },
     "metadata": {},
     "output_type": "display_data"
    }
   ],
   "source": [
    "set.seed(345)\n",
    "x <- data.frame(date = as.Date('2008-01-01') + 0:9, id = 1:10, \n",
    "                x1 = rnorm(10), \n",
    "                x2= rep('a', 10))\n",
    "\n",
    "as_tsibble(x, key = id, index = date)"
   ]
  },
  {
   "cell_type": "code",
   "execution_count": 46,
   "id": "062a8a69",
   "metadata": {},
   "outputs": [
    {
     "data": {
      "text/html": [
       "<table class=\"dataframe\">\n",
       "<caption>A tbl_ts: 10 × 4</caption>\n",
       "<thead>\n",
       "\t<tr><th scope=col>date</th><th scope=col>id</th><th scope=col>x1</th><th scope=col>x2</th></tr>\n",
       "\t<tr><th scope=col>&lt;date&gt;</th><th scope=col>&lt;int&gt;</th><th scope=col>&lt;dbl&gt;</th><th scope=col>&lt;chr&gt;</th></tr>\n",
       "</thead>\n",
       "<tbody>\n",
       "\t<tr><td>2008-01-01</td><td> 1</td><td>-0.78490816</td><td>a</td></tr>\n",
       "\t<tr><td>2008-01-02</td><td> 2</td><td>-0.27951436</td><td>a</td></tr>\n",
       "\t<tr><td>2008-01-03</td><td> 3</td><td>-0.16145790</td><td>a</td></tr>\n",
       "\t<tr><td>2008-01-04</td><td> 4</td><td>-0.29059656</td><td>a</td></tr>\n",
       "\t<tr><td>2008-01-05</td><td> 5</td><td>-0.06753159</td><td>a</td></tr>\n",
       "\t<tr><td>2008-01-06</td><td> 6</td><td>-0.63352041</td><td>a</td></tr>\n",
       "\t<tr><td>2008-01-07</td><td> 7</td><td>-0.92772397</td><td>a</td></tr>\n",
       "\t<tr><td>2008-01-08</td><td> 8</td><td> 1.71077101</td><td>a</td></tr>\n",
       "\t<tr><td>2008-01-09</td><td> 9</td><td> 1.65476865</td><td>a</td></tr>\n",
       "\t<tr><td>2008-01-10</td><td>10</td><td> 1.81048251</td><td>a</td></tr>\n",
       "</tbody>\n",
       "</table>\n"
      ],
      "text/latex": [
       "A tbl\\_ts: 10 × 4\n",
       "\\begin{tabular}{llll}\n",
       " date & id & x1 & x2\\\\\n",
       " <date> & <int> & <dbl> & <chr>\\\\\n",
       "\\hline\n",
       "\t 2008-01-01 &  1 & -0.78490816 & a\\\\\n",
       "\t 2008-01-02 &  2 & -0.27951436 & a\\\\\n",
       "\t 2008-01-03 &  3 & -0.16145790 & a\\\\\n",
       "\t 2008-01-04 &  4 & -0.29059656 & a\\\\\n",
       "\t 2008-01-05 &  5 & -0.06753159 & a\\\\\n",
       "\t 2008-01-06 &  6 & -0.63352041 & a\\\\\n",
       "\t 2008-01-07 &  7 & -0.92772397 & a\\\\\n",
       "\t 2008-01-08 &  8 &  1.71077101 & a\\\\\n",
       "\t 2008-01-09 &  9 &  1.65476865 & a\\\\\n",
       "\t 2008-01-10 & 10 &  1.81048251 & a\\\\\n",
       "\\end{tabular}\n"
      ],
      "text/markdown": [
       "\n",
       "A tbl_ts: 10 × 4\n",
       "\n",
       "| date &lt;date&gt; | id &lt;int&gt; | x1 &lt;dbl&gt; | x2 &lt;chr&gt; |\n",
       "|---|---|---|---|\n",
       "| 2008-01-01 |  1 | -0.78490816 | a |\n",
       "| 2008-01-02 |  2 | -0.27951436 | a |\n",
       "| 2008-01-03 |  3 | -0.16145790 | a |\n",
       "| 2008-01-04 |  4 | -0.29059656 | a |\n",
       "| 2008-01-05 |  5 | -0.06753159 | a |\n",
       "| 2008-01-06 |  6 | -0.63352041 | a |\n",
       "| 2008-01-07 |  7 | -0.92772397 | a |\n",
       "| 2008-01-08 |  8 |  1.71077101 | a |\n",
       "| 2008-01-09 |  9 |  1.65476865 | a |\n",
       "| 2008-01-10 | 10 |  1.81048251 | a |\n",
       "\n"
      ],
      "text/plain": [
       "   date       id x1          x2\n",
       "1  2008-01-01  1 -0.78490816 a \n",
       "2  2008-01-02  2 -0.27951436 a \n",
       "3  2008-01-03  3 -0.16145790 a \n",
       "4  2008-01-04  4 -0.29059656 a \n",
       "5  2008-01-05  5 -0.06753159 a \n",
       "6  2008-01-06  6 -0.63352041 a \n",
       "7  2008-01-07  7 -0.92772397 a \n",
       "8  2008-01-08  8  1.71077101 a \n",
       "9  2008-01-09  9  1.65476865 a \n",
       "10 2008-01-10 10  1.81048251 a "
      ]
     },
     "metadata": {},
     "output_type": "display_data"
    }
   ],
   "source": [
    "as_tsibble(x, index = date)"
   ]
  },
  {
   "cell_type": "markdown",
   "id": "52c34237",
   "metadata": {},
   "source": [
    "### 데이터 import"
   ]
  },
  {
   "cell_type": "code",
   "execution_count": 50,
   "id": "5ae0a3a4",
   "metadata": {},
   "outputs": [
    {
     "data": {
      "text/html": [
       "<table class=\"dataframe\">\n",
       "<caption>A tibble: 6 × 17</caption>\n",
       "<thead>\n",
       "\t<tr><th scope=col>연도</th><th scope=col>학생수계</th><th scope=col>유치원</th><th scope=col>초등학교</th><th scope=col>중학교</th><th scope=col>고등학교계</th><th scope=col>일반계고</th><th scope=col>전문계고</th><th scope=col>일반고</th><th scope=col>특목고</th><th scope=col>특성화고</th><th scope=col>자율고</th><th scope=col>특수학교</th><th scope=col>공민학교</th><th scope=col>고등공민</th><th scope=col>고등기술학교</th><th scope=col>각종학교</th></tr>\n",
       "\t<tr><th scope=col>&lt;chr&gt;</th><th scope=col>&lt;dbl&gt;</th><th scope=col>&lt;dbl&gt;</th><th scope=col>&lt;dbl&gt;</th><th scope=col>&lt;dbl&gt;</th><th scope=col>&lt;dbl&gt;</th><th scope=col>&lt;dbl&gt;</th><th scope=col>&lt;dbl&gt;</th><th scope=col>&lt;dbl&gt;</th><th scope=col>&lt;dbl&gt;</th><th scope=col>&lt;dbl&gt;</th><th scope=col>&lt;dbl&gt;</th><th scope=col>&lt;dbl&gt;</th><th scope=col>&lt;dbl&gt;</th><th scope=col>&lt;dbl&gt;</th><th scope=col>&lt;dbl&gt;</th><th scope=col>&lt;dbl&gt;</th></tr>\n",
       "</thead>\n",
       "<tbody>\n",
       "\t<tr><td>1999</td><td>8658358</td><td>534166</td><td>3935537</td><td>1896956</td><td>2251140</td><td>1399389</td><td>851751</td><td>0</td><td>0</td><td>0</td><td>0</td><td>23490</td><td>150</td><td>511</td><td>8399</td><td>8009</td></tr>\n",
       "\t<tr><td>2000</td><td>8535867</td><td>545263</td><td>4019991</td><td>1860539</td><td>2071468</td><td>1324482</td><td>746986</td><td>0</td><td>0</td><td>0</td><td>0</td><td>23605</td><td>150</td><td>297</td><td>6601</td><td>7953</td></tr>\n",
       "\t<tr><td>2001</td><td>8414423</td><td>545142</td><td>4089429</td><td>1831152</td><td>1911173</td><td>1259975</td><td>651198</td><td>0</td><td>0</td><td>0</td><td>0</td><td>23769</td><td>140</td><td>302</td><td>5408</td><td>7908</td></tr>\n",
       "\t<tr><td>2002</td><td>8361933</td><td>550256</td><td>4138366</td><td>1841030</td><td>1795509</td><td>1220146</td><td>575363</td><td>0</td><td>0</td><td>0</td><td>0</td><td>23453</td><td>145</td><td>156</td><td>4911</td><td>8107</td></tr>\n",
       "\t<tr><td>2003</td><td>8379775</td><td>546531</td><td>4175626</td><td>1854641</td><td>1766529</td><td>1224452</td><td>542077</td><td>0</td><td>0</td><td>0</td><td>0</td><td>24119</td><td>105</td><td>150</td><td>4324</td><td>7750</td></tr>\n",
       "\t<tr><td>2004</td><td>8371630</td><td>541713</td><td>4116195</td><td>1933543</td><td>1746560</td><td>1232010</td><td>514550</td><td>0</td><td>0</td><td>0</td><td>0</td><td>23876</td><td>106</td><td>147</td><td>3457</td><td>6033</td></tr>\n",
       "</tbody>\n",
       "</table>\n"
      ],
      "text/latex": [
       "A tibble: 6 × 17\n",
       "\\begin{tabular}{lllllllllllllllll}\n",
       " 연도 & 학생수계 & 유치원 & 초등학교 & 중학교 & 고등학교계 & 일반계고 & 전문계고 & 일반고 & 특목고 & 특성화고 & 자율고 & 특수학교 & 공민학교 & 고등공민 & 고등기술학교 & 각종학교\\\\\n",
       " <chr> & <dbl> & <dbl> & <dbl> & <dbl> & <dbl> & <dbl> & <dbl> & <dbl> & <dbl> & <dbl> & <dbl> & <dbl> & <dbl> & <dbl> & <dbl> & <dbl>\\\\\n",
       "\\hline\n",
       "\t 1999 & 8658358 & 534166 & 3935537 & 1896956 & 2251140 & 1399389 & 851751 & 0 & 0 & 0 & 0 & 23490 & 150 & 511 & 8399 & 8009\\\\\n",
       "\t 2000 & 8535867 & 545263 & 4019991 & 1860539 & 2071468 & 1324482 & 746986 & 0 & 0 & 0 & 0 & 23605 & 150 & 297 & 6601 & 7953\\\\\n",
       "\t 2001 & 8414423 & 545142 & 4089429 & 1831152 & 1911173 & 1259975 & 651198 & 0 & 0 & 0 & 0 & 23769 & 140 & 302 & 5408 & 7908\\\\\n",
       "\t 2002 & 8361933 & 550256 & 4138366 & 1841030 & 1795509 & 1220146 & 575363 & 0 & 0 & 0 & 0 & 23453 & 145 & 156 & 4911 & 8107\\\\\n",
       "\t 2003 & 8379775 & 546531 & 4175626 & 1854641 & 1766529 & 1224452 & 542077 & 0 & 0 & 0 & 0 & 24119 & 105 & 150 & 4324 & 7750\\\\\n",
       "\t 2004 & 8371630 & 541713 & 4116195 & 1933543 & 1746560 & 1232010 & 514550 & 0 & 0 & 0 & 0 & 23876 & 106 & 147 & 3457 & 6033\\\\\n",
       "\\end{tabular}\n"
      ],
      "text/markdown": [
       "\n",
       "A tibble: 6 × 17\n",
       "\n",
       "| 연도 &lt;chr&gt; | 학생수계 &lt;dbl&gt; | 유치원 &lt;dbl&gt; | 초등학교 &lt;dbl&gt; | 중학교 &lt;dbl&gt; | 고등학교계 &lt;dbl&gt; | 일반계고 &lt;dbl&gt; | 전문계고 &lt;dbl&gt; | 일반고 &lt;dbl&gt; | 특목고 &lt;dbl&gt; | 특성화고 &lt;dbl&gt; | 자율고 &lt;dbl&gt; | 특수학교 &lt;dbl&gt; | 공민학교 &lt;dbl&gt; | 고등공민 &lt;dbl&gt; | 고등기술학교 &lt;dbl&gt; | 각종학교 &lt;dbl&gt; |\n",
       "|---|---|---|---|---|---|---|---|---|---|---|---|---|---|---|---|---|\n",
       "| 1999 | 8658358 | 534166 | 3935537 | 1896956 | 2251140 | 1399389 | 851751 | 0 | 0 | 0 | 0 | 23490 | 150 | 511 | 8399 | 8009 |\n",
       "| 2000 | 8535867 | 545263 | 4019991 | 1860539 | 2071468 | 1324482 | 746986 | 0 | 0 | 0 | 0 | 23605 | 150 | 297 | 6601 | 7953 |\n",
       "| 2001 | 8414423 | 545142 | 4089429 | 1831152 | 1911173 | 1259975 | 651198 | 0 | 0 | 0 | 0 | 23769 | 140 | 302 | 5408 | 7908 |\n",
       "| 2002 | 8361933 | 550256 | 4138366 | 1841030 | 1795509 | 1220146 | 575363 | 0 | 0 | 0 | 0 | 23453 | 145 | 156 | 4911 | 8107 |\n",
       "| 2003 | 8379775 | 546531 | 4175626 | 1854641 | 1766529 | 1224452 | 542077 | 0 | 0 | 0 | 0 | 24119 | 105 | 150 | 4324 | 7750 |\n",
       "| 2004 | 8371630 | 541713 | 4116195 | 1933543 | 1746560 | 1232010 | 514550 | 0 | 0 | 0 | 0 | 23876 | 106 | 147 | 3457 | 6033 |\n",
       "\n"
      ],
      "text/plain": [
       "  연도 학생수계 유치원 초등학교 중학교  고등학교계 일반계고 전문계고 일반고\n",
       "1 1999 8658358  534166 3935537  1896956 2251140    1399389  851751   0     \n",
       "2 2000 8535867  545263 4019991  1860539 2071468    1324482  746986   0     \n",
       "3 2001 8414423  545142 4089429  1831152 1911173    1259975  651198   0     \n",
       "4 2002 8361933  550256 4138366  1841030 1795509    1220146  575363   0     \n",
       "5 2003 8379775  546531 4175626  1854641 1766529    1224452  542077   0     \n",
       "6 2004 8371630  541713 4116195  1933543 1746560    1232010  514550   0     \n",
       "  특목고 특성화고 자율고 특수학교 공민학교 고등공민 고등기술학교 각종학교\n",
       "1 0      0        0      23490    150      511      8399         8009    \n",
       "2 0      0        0      23605    150      297      6601         7953    \n",
       "3 0      0        0      23769    140      302      5408         7908    \n",
       "4 0      0        0      23453    145      156      4911         8107    \n",
       "5 0      0        0      24119    105      150      4324         7750    \n",
       "6 0      0        0      23876    106      147      3457         6033    "
      ]
     },
     "metadata": {},
     "output_type": "display_data"
    }
   ],
   "source": [
    "library(readxl)\n",
    "\n",
    "students.all <- read_excel(\"C:/Users/이찬솔/Documents/시계열/students.xlsx\", \n",
    "                           skip = 16, na = '-', sheet = 1, \n",
    "                           col_types = c('text', 'text', 'numeric', 'numeric', 'numeric', 'numeric', 'numeric', 'numeric', 'numeric', 'numeric', 'numeric', 'numeric', 'numeric', 'numeric', 'numeric','numeric', 'numeric', 'numeric'))\n",
    "\n",
    "students <- students.all %>%\n",
    "  filter(지역규모 == '계') %>% select(-지역규모)\n",
    "\n",
    "head(students)"
   ]
  },
  {
   "cell_type": "code",
   "execution_count": 57,
   "id": "7ffbb7ba",
   "metadata": {},
   "outputs": [
    {
     "data": {
      "text/html": [
       "<table class=\"dataframe\">\n",
       "<caption>A tibble: 6 × 17</caption>\n",
       "<thead>\n",
       "\t<tr><th scope=col>연도</th><th scope=col>학생수계</th><th scope=col>유치원</th><th scope=col>초등학교</th><th scope=col>중학교</th><th scope=col>고등학교계</th><th scope=col>일반계고</th><th scope=col>전문계고</th><th scope=col>일반고</th><th scope=col>특목고</th><th scope=col>특성화고</th><th scope=col>자율고</th><th scope=col>특수학교</th><th scope=col>공민학교</th><th scope=col>고등공민</th><th scope=col>고등기술학교</th><th scope=col>각종학교</th></tr>\n",
       "\t<tr><th scope=col>&lt;date&gt;</th><th scope=col>&lt;dbl&gt;</th><th scope=col>&lt;dbl&gt;</th><th scope=col>&lt;dbl&gt;</th><th scope=col>&lt;dbl&gt;</th><th scope=col>&lt;dbl&gt;</th><th scope=col>&lt;dbl&gt;</th><th scope=col>&lt;dbl&gt;</th><th scope=col>&lt;dbl&gt;</th><th scope=col>&lt;dbl&gt;</th><th scope=col>&lt;dbl&gt;</th><th scope=col>&lt;dbl&gt;</th><th scope=col>&lt;dbl&gt;</th><th scope=col>&lt;dbl&gt;</th><th scope=col>&lt;dbl&gt;</th><th scope=col>&lt;dbl&gt;</th><th scope=col>&lt;dbl&gt;</th></tr>\n",
       "</thead>\n",
       "<tbody>\n",
       "\t<tr><td>1999-01-01</td><td>8658358</td><td>534166</td><td>3935537</td><td>1896956</td><td>2251140</td><td>1399389</td><td>851751</td><td>0</td><td>0</td><td>0</td><td>0</td><td>23490</td><td>150</td><td>511</td><td>8399</td><td>8009</td></tr>\n",
       "\t<tr><td>2000-01-01</td><td>8535867</td><td>545263</td><td>4019991</td><td>1860539</td><td>2071468</td><td>1324482</td><td>746986</td><td>0</td><td>0</td><td>0</td><td>0</td><td>23605</td><td>150</td><td>297</td><td>6601</td><td>7953</td></tr>\n",
       "\t<tr><td>2001-01-01</td><td>8414423</td><td>545142</td><td>4089429</td><td>1831152</td><td>1911173</td><td>1259975</td><td>651198</td><td>0</td><td>0</td><td>0</td><td>0</td><td>23769</td><td>140</td><td>302</td><td>5408</td><td>7908</td></tr>\n",
       "\t<tr><td>2002-01-01</td><td>8361933</td><td>550256</td><td>4138366</td><td>1841030</td><td>1795509</td><td>1220146</td><td>575363</td><td>0</td><td>0</td><td>0</td><td>0</td><td>23453</td><td>145</td><td>156</td><td>4911</td><td>8107</td></tr>\n",
       "\t<tr><td>2003-01-01</td><td>8379775</td><td>546531</td><td>4175626</td><td>1854641</td><td>1766529</td><td>1224452</td><td>542077</td><td>0</td><td>0</td><td>0</td><td>0</td><td>24119</td><td>105</td><td>150</td><td>4324</td><td>7750</td></tr>\n",
       "\t<tr><td>2004-01-01</td><td>8371630</td><td>541713</td><td>4116195</td><td>1933543</td><td>1746560</td><td>1232010</td><td>514550</td><td>0</td><td>0</td><td>0</td><td>0</td><td>23876</td><td>106</td><td>147</td><td>3457</td><td>6033</td></tr>\n",
       "</tbody>\n",
       "</table>\n"
      ],
      "text/latex": [
       "A tibble: 6 × 17\n",
       "\\begin{tabular}{lllllllllllllllll}\n",
       " 연도 & 학생수계 & 유치원 & 초등학교 & 중학교 & 고등학교계 & 일반계고 & 전문계고 & 일반고 & 특목고 & 특성화고 & 자율고 & 특수학교 & 공민학교 & 고등공민 & 고등기술학교 & 각종학교\\\\\n",
       " <date> & <dbl> & <dbl> & <dbl> & <dbl> & <dbl> & <dbl> & <dbl> & <dbl> & <dbl> & <dbl> & <dbl> & <dbl> & <dbl> & <dbl> & <dbl> & <dbl>\\\\\n",
       "\\hline\n",
       "\t 1999-01-01 & 8658358 & 534166 & 3935537 & 1896956 & 2251140 & 1399389 & 851751 & 0 & 0 & 0 & 0 & 23490 & 150 & 511 & 8399 & 8009\\\\\n",
       "\t 2000-01-01 & 8535867 & 545263 & 4019991 & 1860539 & 2071468 & 1324482 & 746986 & 0 & 0 & 0 & 0 & 23605 & 150 & 297 & 6601 & 7953\\\\\n",
       "\t 2001-01-01 & 8414423 & 545142 & 4089429 & 1831152 & 1911173 & 1259975 & 651198 & 0 & 0 & 0 & 0 & 23769 & 140 & 302 & 5408 & 7908\\\\\n",
       "\t 2002-01-01 & 8361933 & 550256 & 4138366 & 1841030 & 1795509 & 1220146 & 575363 & 0 & 0 & 0 & 0 & 23453 & 145 & 156 & 4911 & 8107\\\\\n",
       "\t 2003-01-01 & 8379775 & 546531 & 4175626 & 1854641 & 1766529 & 1224452 & 542077 & 0 & 0 & 0 & 0 & 24119 & 105 & 150 & 4324 & 7750\\\\\n",
       "\t 2004-01-01 & 8371630 & 541713 & 4116195 & 1933543 & 1746560 & 1232010 & 514550 & 0 & 0 & 0 & 0 & 23876 & 106 & 147 & 3457 & 6033\\\\\n",
       "\\end{tabular}\n"
      ],
      "text/markdown": [
       "\n",
       "A tibble: 6 × 17\n",
       "\n",
       "| 연도 &lt;date&gt; | 학생수계 &lt;dbl&gt; | 유치원 &lt;dbl&gt; | 초등학교 &lt;dbl&gt; | 중학교 &lt;dbl&gt; | 고등학교계 &lt;dbl&gt; | 일반계고 &lt;dbl&gt; | 전문계고 &lt;dbl&gt; | 일반고 &lt;dbl&gt; | 특목고 &lt;dbl&gt; | 특성화고 &lt;dbl&gt; | 자율고 &lt;dbl&gt; | 특수학교 &lt;dbl&gt; | 공민학교 &lt;dbl&gt; | 고등공민 &lt;dbl&gt; | 고등기술학교 &lt;dbl&gt; | 각종학교 &lt;dbl&gt; |\n",
       "|---|---|---|---|---|---|---|---|---|---|---|---|---|---|---|---|---|\n",
       "| 1999-01-01 | 8658358 | 534166 | 3935537 | 1896956 | 2251140 | 1399389 | 851751 | 0 | 0 | 0 | 0 | 23490 | 150 | 511 | 8399 | 8009 |\n",
       "| 2000-01-01 | 8535867 | 545263 | 4019991 | 1860539 | 2071468 | 1324482 | 746986 | 0 | 0 | 0 | 0 | 23605 | 150 | 297 | 6601 | 7953 |\n",
       "| 2001-01-01 | 8414423 | 545142 | 4089429 | 1831152 | 1911173 | 1259975 | 651198 | 0 | 0 | 0 | 0 | 23769 | 140 | 302 | 5408 | 7908 |\n",
       "| 2002-01-01 | 8361933 | 550256 | 4138366 | 1841030 | 1795509 | 1220146 | 575363 | 0 | 0 | 0 | 0 | 23453 | 145 | 156 | 4911 | 8107 |\n",
       "| 2003-01-01 | 8379775 | 546531 | 4175626 | 1854641 | 1766529 | 1224452 | 542077 | 0 | 0 | 0 | 0 | 24119 | 105 | 150 | 4324 | 7750 |\n",
       "| 2004-01-01 | 8371630 | 541713 | 4116195 | 1933543 | 1746560 | 1232010 | 514550 | 0 | 0 | 0 | 0 | 23876 | 106 | 147 | 3457 | 6033 |\n",
       "\n"
      ],
      "text/plain": [
       "  연도       학생수계 유치원 초등학교 중학교  고등학교계 일반계고 전문계고\n",
       "1 1999-01-01 8658358  534166 3935537  1896956 2251140    1399389  851751  \n",
       "2 2000-01-01 8535867  545263 4019991  1860539 2071468    1324482  746986  \n",
       "3 2001-01-01 8414423  545142 4089429  1831152 1911173    1259975  651198  \n",
       "4 2002-01-01 8361933  550256 4138366  1841030 1795509    1220146  575363  \n",
       "5 2003-01-01 8379775  546531 4175626  1854641 1766529    1224452  542077  \n",
       "6 2004-01-01 8371630  541713 4116195  1933543 1746560    1232010  514550  \n",
       "  일반고 특목고 특성화고 자율고 특수학교 공민학교 고등공민 고등기술학교\n",
       "1 0      0      0        0      23490    150      511      8399        \n",
       "2 0      0      0        0      23605    150      297      6601        \n",
       "3 0      0      0        0      23769    140      302      5408        \n",
       "4 0      0      0        0      23453    145      156      4911        \n",
       "5 0      0      0        0      24119    105      150      4324        \n",
       "6 0      0      0        0      23876    106      147      3457        \n",
       "  각종학교\n",
       "1 8009    \n",
       "2 7953    \n",
       "3 7908    \n",
       "4 8107    \n",
       "5 7750    \n",
       "6 6033    "
      ]
     },
     "metadata": {},
     "output_type": "display_data"
    }
   ],
   "source": [
    "students$연도 <- as.Date(paste0(students$연도, '-01-01'))\n",
    "head(students)"
   ]
  },
  {
   "cell_type": "code",
   "execution_count": 58,
   "id": "d3f90079",
   "metadata": {},
   "outputs": [
    {
     "data": {
      "text/html": [
       "<table class=\"dataframe\">\n",
       "<caption>A matrix: 6 × 17 of type dbl</caption>\n",
       "<thead>\n",
       "\t<tr><th scope=col>연도</th><th scope=col>학생수계</th><th scope=col>유치원</th><th scope=col>초등학교</th><th scope=col>중학교</th><th scope=col>고등학교계</th><th scope=col>일반계고</th><th scope=col>전문계고</th><th scope=col>일반고</th><th scope=col>특목고</th><th scope=col>특성화고</th><th scope=col>자율고</th><th scope=col>특수학교</th><th scope=col>공민학교</th><th scope=col>고등공민</th><th scope=col>고등기술학교</th><th scope=col>각종학교</th></tr>\n",
       "</thead>\n",
       "<tbody>\n",
       "\t<tr><td>10592</td><td>8658358</td><td>534166</td><td>3935537</td><td>1896956</td><td>2251140</td><td>1399389</td><td>851751</td><td>0</td><td>0</td><td>0</td><td>0</td><td>23490</td><td>150</td><td>511</td><td>8399</td><td>8009</td></tr>\n",
       "\t<tr><td>10957</td><td>8535867</td><td>545263</td><td>4019991</td><td>1860539</td><td>2071468</td><td>1324482</td><td>746986</td><td>0</td><td>0</td><td>0</td><td>0</td><td>23605</td><td>150</td><td>297</td><td>6601</td><td>7953</td></tr>\n",
       "\t<tr><td>11323</td><td>8414423</td><td>545142</td><td>4089429</td><td>1831152</td><td>1911173</td><td>1259975</td><td>651198</td><td>0</td><td>0</td><td>0</td><td>0</td><td>23769</td><td>140</td><td>302</td><td>5408</td><td>7908</td></tr>\n",
       "\t<tr><td>11688</td><td>8361933</td><td>550256</td><td>4138366</td><td>1841030</td><td>1795509</td><td>1220146</td><td>575363</td><td>0</td><td>0</td><td>0</td><td>0</td><td>23453</td><td>145</td><td>156</td><td>4911</td><td>8107</td></tr>\n",
       "\t<tr><td>12053</td><td>8379775</td><td>546531</td><td>4175626</td><td>1854641</td><td>1766529</td><td>1224452</td><td>542077</td><td>0</td><td>0</td><td>0</td><td>0</td><td>24119</td><td>105</td><td>150</td><td>4324</td><td>7750</td></tr>\n",
       "\t<tr><td>12418</td><td>8371630</td><td>541713</td><td>4116195</td><td>1933543</td><td>1746560</td><td>1232010</td><td>514550</td><td>0</td><td>0</td><td>0</td><td>0</td><td>23876</td><td>106</td><td>147</td><td>3457</td><td>6033</td></tr>\n",
       "</tbody>\n",
       "</table>\n"
      ],
      "text/latex": [
       "A matrix: 6 × 17 of type dbl\n",
       "\\begin{tabular}{lllllllllllllllll}\n",
       " 연도 & 학생수계 & 유치원 & 초등학교 & 중학교 & 고등학교계 & 일반계고 & 전문계고 & 일반고 & 특목고 & 특성화고 & 자율고 & 특수학교 & 공민학교 & 고등공민 & 고등기술학교 & 각종학교\\\\\n",
       "\\hline\n",
       "\t 10592 & 8658358 & 534166 & 3935537 & 1896956 & 2251140 & 1399389 & 851751 & 0 & 0 & 0 & 0 & 23490 & 150 & 511 & 8399 & 8009\\\\\n",
       "\t 10957 & 8535867 & 545263 & 4019991 & 1860539 & 2071468 & 1324482 & 746986 & 0 & 0 & 0 & 0 & 23605 & 150 & 297 & 6601 & 7953\\\\\n",
       "\t 11323 & 8414423 & 545142 & 4089429 & 1831152 & 1911173 & 1259975 & 651198 & 0 & 0 & 0 & 0 & 23769 & 140 & 302 & 5408 & 7908\\\\\n",
       "\t 11688 & 8361933 & 550256 & 4138366 & 1841030 & 1795509 & 1220146 & 575363 & 0 & 0 & 0 & 0 & 23453 & 145 & 156 & 4911 & 8107\\\\\n",
       "\t 12053 & 8379775 & 546531 & 4175626 & 1854641 & 1766529 & 1224452 & 542077 & 0 & 0 & 0 & 0 & 24119 & 105 & 150 & 4324 & 7750\\\\\n",
       "\t 12418 & 8371630 & 541713 & 4116195 & 1933543 & 1746560 & 1232010 & 514550 & 0 & 0 & 0 & 0 & 23876 & 106 & 147 & 3457 & 6033\\\\\n",
       "\\end{tabular}\n"
      ],
      "text/markdown": [
       "\n",
       "A matrix: 6 × 17 of type dbl\n",
       "\n",
       "| 연도 | 학생수계 | 유치원 | 초등학교 | 중학교 | 고등학교계 | 일반계고 | 전문계고 | 일반고 | 특목고 | 특성화고 | 자율고 | 특수학교 | 공민학교 | 고등공민 | 고등기술학교 | 각종학교 |\n",
       "|---|---|---|---|---|---|---|---|---|---|---|---|---|---|---|---|---|\n",
       "| 10592 | 8658358 | 534166 | 3935537 | 1896956 | 2251140 | 1399389 | 851751 | 0 | 0 | 0 | 0 | 23490 | 150 | 511 | 8399 | 8009 |\n",
       "| 10957 | 8535867 | 545263 | 4019991 | 1860539 | 2071468 | 1324482 | 746986 | 0 | 0 | 0 | 0 | 23605 | 150 | 297 | 6601 | 7953 |\n",
       "| 11323 | 8414423 | 545142 | 4089429 | 1831152 | 1911173 | 1259975 | 651198 | 0 | 0 | 0 | 0 | 23769 | 140 | 302 | 5408 | 7908 |\n",
       "| 11688 | 8361933 | 550256 | 4138366 | 1841030 | 1795509 | 1220146 | 575363 | 0 | 0 | 0 | 0 | 23453 | 145 | 156 | 4911 | 8107 |\n",
       "| 12053 | 8379775 | 546531 | 4175626 | 1854641 | 1766529 | 1224452 | 542077 | 0 | 0 | 0 | 0 | 24119 | 105 | 150 | 4324 | 7750 |\n",
       "| 12418 | 8371630 | 541713 | 4116195 | 1933543 | 1746560 | 1232010 | 514550 | 0 | 0 | 0 | 0 | 23876 | 106 | 147 | 3457 | 6033 |\n",
       "\n"
      ],
      "text/plain": [
       "     연도  학생수계 유치원 초등학교 중학교  고등학교계 일반계고 전문계고 일반고\n",
       "[1,] 10592 8658358  534166 3935537  1896956 2251140    1399389  851751   0     \n",
       "[2,] 10957 8535867  545263 4019991  1860539 2071468    1324482  746986   0     \n",
       "[3,] 11323 8414423  545142 4089429  1831152 1911173    1259975  651198   0     \n",
       "[4,] 11688 8361933  550256 4138366  1841030 1795509    1220146  575363   0     \n",
       "[5,] 12053 8379775  546531 4175626  1854641 1766529    1224452  542077   0     \n",
       "[6,] 12418 8371630  541713 4116195  1933543 1746560    1232010  514550   0     \n",
       "     특목고 특성화고 자율고 특수학교 공민학교 고등공민 고등기술학교 각종학교\n",
       "[1,] 0      0        0      23490    150      511      8399         8009    \n",
       "[2,] 0      0        0      23605    150      297      6601         7953    \n",
       "[3,] 0      0        0      23769    140      302      5408         7908    \n",
       "[4,] 0      0        0      23453    145      156      4911         8107    \n",
       "[5,] 0      0        0      24119    105      150      4324         7750    \n",
       "[6,] 0      0        0      23876    106      147      3457         6033    "
      ]
     },
     "metadata": {},
     "output_type": "display_data"
    }
   ],
   "source": [
    "students.ts <- ts(students, frequency = 1, start = 1999)\n",
    "head(students.ts)"
   ]
  },
  {
   "cell_type": "code",
   "execution_count": 59,
   "id": "a2708d78",
   "metadata": {},
   "outputs": [
    {
     "data": {
      "text/plain": [
       "           학생수계 유치원 초등학교  중학교 고등학교계 일반계고 전문계고 일반고\n",
       "1999-01-01  8658358 534166  3935537 1896956    2251140  1399389   851751      0\n",
       "2000-01-01  8535867 545263  4019991 1860539    2071468  1324482   746986      0\n",
       "2001-01-01  8414423 545142  4089429 1831152    1911173  1259975   651198      0\n",
       "2002-01-01  8361933 550256  4138366 1841030    1795509  1220146   575363      0\n",
       "2003-01-01  8379775 546531  4175626 1854641    1766529  1224452   542077      0\n",
       "2004-01-01  8371630 541713  4116195 1933543    1746560  1232010   514550      0\n",
       "           특목고 특성화고 자율고 특수학교 공민학교 고등공민 고등기술학교\n",
       "1999-01-01      0        0      0    23490      150      511         8399\n",
       "2000-01-01      0        0      0    23605      150      297         6601\n",
       "2001-01-01      0        0      0    23769      140      302         5408\n",
       "2002-01-01      0        0      0    23453      145      156         4911\n",
       "2003-01-01      0        0      0    24119      105      150         4324\n",
       "2004-01-01      0        0      0    23876      106      147         3457\n",
       "           각종학교\n",
       "1999-01-01     8009\n",
       "2000-01-01     7953\n",
       "2001-01-01     7908\n",
       "2002-01-01     8107\n",
       "2003-01-01     7750\n",
       "2004-01-01     6033"
      ]
     },
     "metadata": {},
     "output_type": "display_data"
    }
   ],
   "source": [
    "students.xts <- as.xts(students[,-1], order.by = students$연도)\n",
    "head(students.xts)"
   ]
  },
  {
   "cell_type": "code",
   "execution_count": 60,
   "id": "25ee28df",
   "metadata": {},
   "outputs": [
    {
     "data": {
      "text/html": [
       "<table class=\"dataframe\">\n",
       "<caption>A tibble: 6 × 17</caption>\n",
       "<thead>\n",
       "\t<tr><th scope=col>연도</th><th scope=col>학생수계</th><th scope=col>유치원</th><th scope=col>초등학교</th><th scope=col>중학교</th><th scope=col>고등학교계</th><th scope=col>일반계고</th><th scope=col>전문계고</th><th scope=col>일반고</th><th scope=col>특목고</th><th scope=col>특성화고</th><th scope=col>자율고</th><th scope=col>특수학교</th><th scope=col>공민학교</th><th scope=col>고등공민</th><th scope=col>고등기술학교</th><th scope=col>각종학교</th></tr>\n",
       "\t<tr><th scope=col>&lt;mth&gt;</th><th scope=col>&lt;dbl&gt;</th><th scope=col>&lt;dbl&gt;</th><th scope=col>&lt;dbl&gt;</th><th scope=col>&lt;dbl&gt;</th><th scope=col>&lt;dbl&gt;</th><th scope=col>&lt;dbl&gt;</th><th scope=col>&lt;dbl&gt;</th><th scope=col>&lt;dbl&gt;</th><th scope=col>&lt;dbl&gt;</th><th scope=col>&lt;dbl&gt;</th><th scope=col>&lt;dbl&gt;</th><th scope=col>&lt;dbl&gt;</th><th scope=col>&lt;dbl&gt;</th><th scope=col>&lt;dbl&gt;</th><th scope=col>&lt;dbl&gt;</th><th scope=col>&lt;dbl&gt;</th></tr>\n",
       "</thead>\n",
       "<tbody>\n",
       "\t<tr><td>1999 1</td><td>8658358</td><td>534166</td><td>3935537</td><td>1896956</td><td>2251140</td><td>1399389</td><td>851751</td><td>0</td><td>0</td><td>0</td><td>0</td><td>23490</td><td>150</td><td>511</td><td>8399</td><td>8009</td></tr>\n",
       "\t<tr><td>2000 1</td><td>8535867</td><td>545263</td><td>4019991</td><td>1860539</td><td>2071468</td><td>1324482</td><td>746986</td><td>0</td><td>0</td><td>0</td><td>0</td><td>23605</td><td>150</td><td>297</td><td>6601</td><td>7953</td></tr>\n",
       "\t<tr><td>2001 1</td><td>8414423</td><td>545142</td><td>4089429</td><td>1831152</td><td>1911173</td><td>1259975</td><td>651198</td><td>0</td><td>0</td><td>0</td><td>0</td><td>23769</td><td>140</td><td>302</td><td>5408</td><td>7908</td></tr>\n",
       "\t<tr><td>2002 1</td><td>8361933</td><td>550256</td><td>4138366</td><td>1841030</td><td>1795509</td><td>1220146</td><td>575363</td><td>0</td><td>0</td><td>0</td><td>0</td><td>23453</td><td>145</td><td>156</td><td>4911</td><td>8107</td></tr>\n",
       "\t<tr><td>2003 1</td><td>8379775</td><td>546531</td><td>4175626</td><td>1854641</td><td>1766529</td><td>1224452</td><td>542077</td><td>0</td><td>0</td><td>0</td><td>0</td><td>24119</td><td>105</td><td>150</td><td>4324</td><td>7750</td></tr>\n",
       "\t<tr><td>2004 1</td><td>8371630</td><td>541713</td><td>4116195</td><td>1933543</td><td>1746560</td><td>1232010</td><td>514550</td><td>0</td><td>0</td><td>0</td><td>0</td><td>23876</td><td>106</td><td>147</td><td>3457</td><td>6033</td></tr>\n",
       "</tbody>\n",
       "</table>\n"
      ],
      "text/latex": [
       "A tibble: 6 × 17\n",
       "\\begin{tabular}{lllllllllllllllll}\n",
       " 연도 & 학생수계 & 유치원 & 초등학교 & 중학교 & 고등학교계 & 일반계고 & 전문계고 & 일반고 & 특목고 & 특성화고 & 자율고 & 특수학교 & 공민학교 & 고등공민 & 고등기술학교 & 각종학교\\\\\n",
       " <mth> & <dbl> & <dbl> & <dbl> & <dbl> & <dbl> & <dbl> & <dbl> & <dbl> & <dbl> & <dbl> & <dbl> & <dbl> & <dbl> & <dbl> & <dbl> & <dbl>\\\\\n",
       "\\hline\n",
       "\t 1999 1 & 8658358 & 534166 & 3935537 & 1896956 & 2251140 & 1399389 & 851751 & 0 & 0 & 0 & 0 & 23490 & 150 & 511 & 8399 & 8009\\\\\n",
       "\t 2000 1 & 8535867 & 545263 & 4019991 & 1860539 & 2071468 & 1324482 & 746986 & 0 & 0 & 0 & 0 & 23605 & 150 & 297 & 6601 & 7953\\\\\n",
       "\t 2001 1 & 8414423 & 545142 & 4089429 & 1831152 & 1911173 & 1259975 & 651198 & 0 & 0 & 0 & 0 & 23769 & 140 & 302 & 5408 & 7908\\\\\n",
       "\t 2002 1 & 8361933 & 550256 & 4138366 & 1841030 & 1795509 & 1220146 & 575363 & 0 & 0 & 0 & 0 & 23453 & 145 & 156 & 4911 & 8107\\\\\n",
       "\t 2003 1 & 8379775 & 546531 & 4175626 & 1854641 & 1766529 & 1224452 & 542077 & 0 & 0 & 0 & 0 & 24119 & 105 & 150 & 4324 & 7750\\\\\n",
       "\t 2004 1 & 8371630 & 541713 & 4116195 & 1933543 & 1746560 & 1232010 & 514550 & 0 & 0 & 0 & 0 & 23876 & 106 & 147 & 3457 & 6033\\\\\n",
       "\\end{tabular}\n"
      ],
      "text/markdown": [
       "\n",
       "A tibble: 6 × 17\n",
       "\n",
       "| 연도 &lt;mth&gt; | 학생수계 &lt;dbl&gt; | 유치원 &lt;dbl&gt; | 초등학교 &lt;dbl&gt; | 중학교 &lt;dbl&gt; | 고등학교계 &lt;dbl&gt; | 일반계고 &lt;dbl&gt; | 전문계고 &lt;dbl&gt; | 일반고 &lt;dbl&gt; | 특목고 &lt;dbl&gt; | 특성화고 &lt;dbl&gt; | 자율고 &lt;dbl&gt; | 특수학교 &lt;dbl&gt; | 공민학교 &lt;dbl&gt; | 고등공민 &lt;dbl&gt; | 고등기술학교 &lt;dbl&gt; | 각종학교 &lt;dbl&gt; |\n",
       "|---|---|---|---|---|---|---|---|---|---|---|---|---|---|---|---|---|\n",
       "| 1999 1 | 8658358 | 534166 | 3935537 | 1896956 | 2251140 | 1399389 | 851751 | 0 | 0 | 0 | 0 | 23490 | 150 | 511 | 8399 | 8009 |\n",
       "| 2000 1 | 8535867 | 545263 | 4019991 | 1860539 | 2071468 | 1324482 | 746986 | 0 | 0 | 0 | 0 | 23605 | 150 | 297 | 6601 | 7953 |\n",
       "| 2001 1 | 8414423 | 545142 | 4089429 | 1831152 | 1911173 | 1259975 | 651198 | 0 | 0 | 0 | 0 | 23769 | 140 | 302 | 5408 | 7908 |\n",
       "| 2002 1 | 8361933 | 550256 | 4138366 | 1841030 | 1795509 | 1220146 | 575363 | 0 | 0 | 0 | 0 | 23453 | 145 | 156 | 4911 | 8107 |\n",
       "| 2003 1 | 8379775 | 546531 | 4175626 | 1854641 | 1766529 | 1224452 | 542077 | 0 | 0 | 0 | 0 | 24119 | 105 | 150 | 4324 | 7750 |\n",
       "| 2004 1 | 8371630 | 541713 | 4116195 | 1933543 | 1746560 | 1232010 | 514550 | 0 | 0 | 0 | 0 | 23876 | 106 | 147 | 3457 | 6033 |\n",
       "\n"
      ],
      "text/plain": [
       "  연도   학생수계 유치원 초등학교 중학교  고등학교계 일반계고 전문계고 일반고\n",
       "1 1999 1 8658358  534166 3935537  1896956 2251140    1399389  851751   0     \n",
       "2 2000 1 8535867  545263 4019991  1860539 2071468    1324482  746986   0     \n",
       "3 2001 1 8414423  545142 4089429  1831152 1911173    1259975  651198   0     \n",
       "4 2002 1 8361933  550256 4138366  1841030 1795509    1220146  575363   0     \n",
       "5 2003 1 8379775  546531 4175626  1854641 1766529    1224452  542077   0     \n",
       "6 2004 1 8371630  541713 4116195  1933543 1746560    1232010  514550   0     \n",
       "  특목고 특성화고 자율고 특수학교 공민학교 고등공민 고등기술학교 각종학교\n",
       "1 0      0        0      23490    150      511      8399         8009    \n",
       "2 0      0        0      23605    150      297      6601         7953    \n",
       "3 0      0        0      23769    140      302      5408         7908    \n",
       "4 0      0        0      23453    145      156      4911         8107    \n",
       "5 0      0        0      24119    105      150      4324         7750    \n",
       "6 0      0        0      23876    106      147      3457         6033    "
      ]
     },
     "metadata": {},
     "output_type": "display_data"
    }
   ],
   "source": [
    "students.tsibble <- students %>%\n",
    "  mutate(연도 = yearmonth(paste0(students$연도, '-01-01')))\n",
    "head(students.tsibble)"
   ]
  },
  {
   "cell_type": "code",
   "execution_count": 61,
   "id": "4451f60b",
   "metadata": {},
   "outputs": [
    {
     "data": {
      "text/html": [
       "<table class=\"dataframe\">\n",
       "<caption>A tbl_ts: 6 × 17</caption>\n",
       "<thead>\n",
       "\t<tr><th scope=col>연도</th><th scope=col>학생수계</th><th scope=col>유치원</th><th scope=col>초등학교</th><th scope=col>중학교</th><th scope=col>고등학교계</th><th scope=col>일반계고</th><th scope=col>전문계고</th><th scope=col>일반고</th><th scope=col>특목고</th><th scope=col>특성화고</th><th scope=col>자율고</th><th scope=col>특수학교</th><th scope=col>공민학교</th><th scope=col>고등공민</th><th scope=col>고등기술학교</th><th scope=col>각종학교</th></tr>\n",
       "\t<tr><th scope=col>&lt;mth&gt;</th><th scope=col>&lt;dbl&gt;</th><th scope=col>&lt;dbl&gt;</th><th scope=col>&lt;dbl&gt;</th><th scope=col>&lt;dbl&gt;</th><th scope=col>&lt;dbl&gt;</th><th scope=col>&lt;dbl&gt;</th><th scope=col>&lt;dbl&gt;</th><th scope=col>&lt;dbl&gt;</th><th scope=col>&lt;dbl&gt;</th><th scope=col>&lt;dbl&gt;</th><th scope=col>&lt;dbl&gt;</th><th scope=col>&lt;dbl&gt;</th><th scope=col>&lt;dbl&gt;</th><th scope=col>&lt;dbl&gt;</th><th scope=col>&lt;dbl&gt;</th><th scope=col>&lt;dbl&gt;</th></tr>\n",
       "</thead>\n",
       "<tbody>\n",
       "\t<tr><td>1999 1</td><td>8658358</td><td>534166</td><td>3935537</td><td>1896956</td><td>2251140</td><td>1399389</td><td>851751</td><td>0</td><td>0</td><td>0</td><td>0</td><td>23490</td><td>150</td><td>511</td><td>8399</td><td>8009</td></tr>\n",
       "\t<tr><td>2000 1</td><td>8535867</td><td>545263</td><td>4019991</td><td>1860539</td><td>2071468</td><td>1324482</td><td>746986</td><td>0</td><td>0</td><td>0</td><td>0</td><td>23605</td><td>150</td><td>297</td><td>6601</td><td>7953</td></tr>\n",
       "\t<tr><td>2001 1</td><td>8414423</td><td>545142</td><td>4089429</td><td>1831152</td><td>1911173</td><td>1259975</td><td>651198</td><td>0</td><td>0</td><td>0</td><td>0</td><td>23769</td><td>140</td><td>302</td><td>5408</td><td>7908</td></tr>\n",
       "\t<tr><td>2002 1</td><td>8361933</td><td>550256</td><td>4138366</td><td>1841030</td><td>1795509</td><td>1220146</td><td>575363</td><td>0</td><td>0</td><td>0</td><td>0</td><td>23453</td><td>145</td><td>156</td><td>4911</td><td>8107</td></tr>\n",
       "\t<tr><td>2003 1</td><td>8379775</td><td>546531</td><td>4175626</td><td>1854641</td><td>1766529</td><td>1224452</td><td>542077</td><td>0</td><td>0</td><td>0</td><td>0</td><td>24119</td><td>105</td><td>150</td><td>4324</td><td>7750</td></tr>\n",
       "\t<tr><td>2004 1</td><td>8371630</td><td>541713</td><td>4116195</td><td>1933543</td><td>1746560</td><td>1232010</td><td>514550</td><td>0</td><td>0</td><td>0</td><td>0</td><td>23876</td><td>106</td><td>147</td><td>3457</td><td>6033</td></tr>\n",
       "</tbody>\n",
       "</table>\n"
      ],
      "text/latex": [
       "A tbl\\_ts: 6 × 17\n",
       "\\begin{tabular}{lllllllllllllllll}\n",
       " 연도 & 학생수계 & 유치원 & 초등학교 & 중학교 & 고등학교계 & 일반계고 & 전문계고 & 일반고 & 특목고 & 특성화고 & 자율고 & 특수학교 & 공민학교 & 고등공민 & 고등기술학교 & 각종학교\\\\\n",
       " <mth> & <dbl> & <dbl> & <dbl> & <dbl> & <dbl> & <dbl> & <dbl> & <dbl> & <dbl> & <dbl> & <dbl> & <dbl> & <dbl> & <dbl> & <dbl> & <dbl>\\\\\n",
       "\\hline\n",
       "\t 1999 1 & 8658358 & 534166 & 3935537 & 1896956 & 2251140 & 1399389 & 851751 & 0 & 0 & 0 & 0 & 23490 & 150 & 511 & 8399 & 8009\\\\\n",
       "\t 2000 1 & 8535867 & 545263 & 4019991 & 1860539 & 2071468 & 1324482 & 746986 & 0 & 0 & 0 & 0 & 23605 & 150 & 297 & 6601 & 7953\\\\\n",
       "\t 2001 1 & 8414423 & 545142 & 4089429 & 1831152 & 1911173 & 1259975 & 651198 & 0 & 0 & 0 & 0 & 23769 & 140 & 302 & 5408 & 7908\\\\\n",
       "\t 2002 1 & 8361933 & 550256 & 4138366 & 1841030 & 1795509 & 1220146 & 575363 & 0 & 0 & 0 & 0 & 23453 & 145 & 156 & 4911 & 8107\\\\\n",
       "\t 2003 1 & 8379775 & 546531 & 4175626 & 1854641 & 1766529 & 1224452 & 542077 & 0 & 0 & 0 & 0 & 24119 & 105 & 150 & 4324 & 7750\\\\\n",
       "\t 2004 1 & 8371630 & 541713 & 4116195 & 1933543 & 1746560 & 1232010 & 514550 & 0 & 0 & 0 & 0 & 23876 & 106 & 147 & 3457 & 6033\\\\\n",
       "\\end{tabular}\n"
      ],
      "text/markdown": [
       "\n",
       "A tbl_ts: 6 × 17\n",
       "\n",
       "| 연도 &lt;mth&gt; | 학생수계 &lt;dbl&gt; | 유치원 &lt;dbl&gt; | 초등학교 &lt;dbl&gt; | 중학교 &lt;dbl&gt; | 고등학교계 &lt;dbl&gt; | 일반계고 &lt;dbl&gt; | 전문계고 &lt;dbl&gt; | 일반고 &lt;dbl&gt; | 특목고 &lt;dbl&gt; | 특성화고 &lt;dbl&gt; | 자율고 &lt;dbl&gt; | 특수학교 &lt;dbl&gt; | 공민학교 &lt;dbl&gt; | 고등공민 &lt;dbl&gt; | 고등기술학교 &lt;dbl&gt; | 각종학교 &lt;dbl&gt; |\n",
       "|---|---|---|---|---|---|---|---|---|---|---|---|---|---|---|---|---|\n",
       "| 1999 1 | 8658358 | 534166 | 3935537 | 1896956 | 2251140 | 1399389 | 851751 | 0 | 0 | 0 | 0 | 23490 | 150 | 511 | 8399 | 8009 |\n",
       "| 2000 1 | 8535867 | 545263 | 4019991 | 1860539 | 2071468 | 1324482 | 746986 | 0 | 0 | 0 | 0 | 23605 | 150 | 297 | 6601 | 7953 |\n",
       "| 2001 1 | 8414423 | 545142 | 4089429 | 1831152 | 1911173 | 1259975 | 651198 | 0 | 0 | 0 | 0 | 23769 | 140 | 302 | 5408 | 7908 |\n",
       "| 2002 1 | 8361933 | 550256 | 4138366 | 1841030 | 1795509 | 1220146 | 575363 | 0 | 0 | 0 | 0 | 23453 | 145 | 156 | 4911 | 8107 |\n",
       "| 2003 1 | 8379775 | 546531 | 4175626 | 1854641 | 1766529 | 1224452 | 542077 | 0 | 0 | 0 | 0 | 24119 | 105 | 150 | 4324 | 7750 |\n",
       "| 2004 1 | 8371630 | 541713 | 4116195 | 1933543 | 1746560 | 1232010 | 514550 | 0 | 0 | 0 | 0 | 23876 | 106 | 147 | 3457 | 6033 |\n",
       "\n"
      ],
      "text/plain": [
       "  연도   학생수계 유치원 초등학교 중학교  고등학교계 일반계고 전문계고 일반고\n",
       "1 1999 1 8658358  534166 3935537  1896956 2251140    1399389  851751   0     \n",
       "2 2000 1 8535867  545263 4019991  1860539 2071468    1324482  746986   0     \n",
       "3 2001 1 8414423  545142 4089429  1831152 1911173    1259975  651198   0     \n",
       "4 2002 1 8361933  550256 4138366  1841030 1795509    1220146  575363   0     \n",
       "5 2003 1 8379775  546531 4175626  1854641 1766529    1224452  542077   0     \n",
       "6 2004 1 8371630  541713 4116195  1933543 1746560    1232010  514550   0     \n",
       "  특목고 특성화고 자율고 특수학교 공민학교 고등공민 고등기술학교 각종학교\n",
       "1 0      0        0      23490    150      511      8399         8009    \n",
       "2 0      0        0      23605    150      297      6601         7953    \n",
       "3 0      0        0      23769    140      302      5408         7908    \n",
       "4 0      0        0      23453    145      156      4911         8107    \n",
       "5 0      0        0      24119    105      150      4324         7750    \n",
       "6 0      0        0      23876    106      147      3457         6033    "
      ]
     },
     "metadata": {},
     "output_type": "display_data"
    }
   ],
   "source": [
    "students.tsibble <- as_tsibble(students.tsibble, index = 연도)\n",
    "head(students.tsibble)"
   ]
  },
  {
   "cell_type": "markdown",
   "id": "b6668004",
   "metadata": {},
   "source": [
    "### CSV 파일"
   ]
  },
  {
   "cell_type": "code",
   "execution_count": 67,
   "id": "284ae4c1",
   "metadata": {},
   "outputs": [
    {
     "data": {
      "text/html": [
       "<table class=\"dataframe\">\n",
       "<caption>A data.frame: 6 × 3</caption>\n",
       "<thead>\n",
       "\t<tr><th></th><th scope=col>time</th><th scope=col>total</th><th scope=col>employees.edu</th></tr>\n",
       "\t<tr><th></th><th scope=col>&lt;date&gt;</th><th scope=col>&lt;int&gt;</th><th scope=col>&lt;int&gt;</th></tr>\n",
       "</thead>\n",
       "<tbody>\n",
       "\t<tr><th scope=row>1</th><td>2013-01-01</td><td>24287</td><td>1710</td></tr>\n",
       "\t<tr><th scope=row>2</th><td>2013-02-01</td><td>24215</td><td>1681</td></tr>\n",
       "\t<tr><th scope=row>3</th><td>2013-03-01</td><td>24736</td><td>1716</td></tr>\n",
       "\t<tr><th scope=row>4</th><td>2013-04-01</td><td>25322</td><td>1745</td></tr>\n",
       "\t<tr><th scope=row>5</th><td>2013-05-01</td><td>25610</td><td>1774</td></tr>\n",
       "\t<tr><th scope=row>6</th><td>2013-06-01</td><td>25686</td><td>1786</td></tr>\n",
       "</tbody>\n",
       "</table>\n"
      ],
      "text/latex": [
       "A data.frame: 6 × 3\n",
       "\\begin{tabular}{r|lll}\n",
       "  & time & total & employees.edu\\\\\n",
       "  & <date> & <int> & <int>\\\\\n",
       "\\hline\n",
       "\t1 & 2013-01-01 & 24287 & 1710\\\\\n",
       "\t2 & 2013-02-01 & 24215 & 1681\\\\\n",
       "\t3 & 2013-03-01 & 24736 & 1716\\\\\n",
       "\t4 & 2013-04-01 & 25322 & 1745\\\\\n",
       "\t5 & 2013-05-01 & 25610 & 1774\\\\\n",
       "\t6 & 2013-06-01 & 25686 & 1786\\\\\n",
       "\\end{tabular}\n"
      ],
      "text/markdown": [
       "\n",
       "A data.frame: 6 × 3\n",
       "\n",
       "| <!--/--> | time &lt;date&gt; | total &lt;int&gt; | employees.edu &lt;int&gt; |\n",
       "|---|---|---|---|\n",
       "| 1 | 2013-01-01 | 24287 | 1710 |\n",
       "| 2 | 2013-02-01 | 24215 | 1681 |\n",
       "| 3 | 2013-03-01 | 24736 | 1716 |\n",
       "| 4 | 2013-04-01 | 25322 | 1745 |\n",
       "| 5 | 2013-05-01 | 25610 | 1774 |\n",
       "| 6 | 2013-06-01 | 25686 | 1786 |\n",
       "\n"
      ],
      "text/plain": [
       "  time       total employees.edu\n",
       "1 2013-01-01 24287 1710         \n",
       "2 2013-02-01 24215 1681         \n",
       "3 2013-03-01 24736 1716         \n",
       "4 2013-04-01 25322 1745         \n",
       "5 2013-05-01 25610 1774         \n",
       "6 2013-06-01 25686 1786         "
      ]
     },
     "metadata": {},
     "output_type": "display_data"
    }
   ],
   "source": [
    "employees <- read.csv('C:/Users/이찬솔/Documents/시계열/산업별_취업자_20210206234505.csv', \n",
    "                      header = TRUE, # 철 줄은 헤더 줄로 설정\n",
    "                      na = '-',  # '-'로 기록된 데이터는 NA로 설정\n",
    "                      strip.white = TRUE, # 빈칸은 제거\n",
    "                      stringsAsFactors = TRUE)\n",
    "\n",
    "colnames(employees) <- c('time', 'total', 'employees.edu')\n",
    "employees$time <- as.Date(paste0(employees$time, '. 01'), format = '%Y. %m. %d')\n",
    "head(employees)"
   ]
  },
  {
   "cell_type": "code",
   "execution_count": 68,
   "id": "5689bb4d",
   "metadata": {},
   "outputs": [
    {
     "data": {
      "text/html": [
       "<table class=\"dataframe\">\n",
       "<caption>A matrix: 6 × 3 of type dbl</caption>\n",
       "<thead>\n",
       "\t<tr><th scope=col>time</th><th scope=col>total</th><th scope=col>employees.edu</th></tr>\n",
       "</thead>\n",
       "<tbody>\n",
       "\t<tr><td>15706</td><td>24287</td><td>1710</td></tr>\n",
       "\t<tr><td>15737</td><td>24215</td><td>1681</td></tr>\n",
       "\t<tr><td>15765</td><td>24736</td><td>1716</td></tr>\n",
       "\t<tr><td>15796</td><td>25322</td><td>1745</td></tr>\n",
       "\t<tr><td>15826</td><td>25610</td><td>1774</td></tr>\n",
       "\t<tr><td>15857</td><td>25686</td><td>1786</td></tr>\n",
       "</tbody>\n",
       "</table>\n"
      ],
      "text/latex": [
       "A matrix: 6 × 3 of type dbl\n",
       "\\begin{tabular}{lll}\n",
       " time & total & employees.edu\\\\\n",
       "\\hline\n",
       "\t 15706 & 24287 & 1710\\\\\n",
       "\t 15737 & 24215 & 1681\\\\\n",
       "\t 15765 & 24736 & 1716\\\\\n",
       "\t 15796 & 25322 & 1745\\\\\n",
       "\t 15826 & 25610 & 1774\\\\\n",
       "\t 15857 & 25686 & 1786\\\\\n",
       "\\end{tabular}\n"
      ],
      "text/markdown": [
       "\n",
       "A matrix: 6 × 3 of type dbl\n",
       "\n",
       "| time | total | employees.edu |\n",
       "|---|---|---|\n",
       "| 15706 | 24287 | 1710 |\n",
       "| 15737 | 24215 | 1681 |\n",
       "| 15765 | 24736 | 1716 |\n",
       "| 15796 | 25322 | 1745 |\n",
       "| 15826 | 25610 | 1774 |\n",
       "| 15857 | 25686 | 1786 |\n",
       "\n"
      ],
      "text/plain": [
       "     time  total employees.edu\n",
       "[1,] 15706 24287 1710         \n",
       "[2,] 15737 24215 1681         \n",
       "[3,] 15765 24736 1716         \n",
       "[4,] 15796 25322 1745         \n",
       "[5,] 15826 25610 1774         \n",
       "[6,] 15857 25686 1786         "
      ]
     },
     "metadata": {},
     "output_type": "display_data"
    },
    {
     "data": {
      "text/plain": [
       "           total employees.edu\n",
       "2013-01-01 24287          1710\n",
       "2013-02-01 24215          1681\n",
       "2013-03-01 24736          1716\n",
       "2013-04-01 25322          1745\n",
       "2013-05-01 25610          1774\n",
       "2013-06-01 25686          1786"
      ]
     },
     "metadata": {},
     "output_type": "display_data"
    },
    {
     "data": {
      "text/html": [
       "<table class=\"dataframe\">\n",
       "<caption>A tbl_ts: 6 × 3</caption>\n",
       "<thead>\n",
       "\t<tr><th scope=col>time</th><th scope=col>total</th><th scope=col>employees.edu</th></tr>\n",
       "\t<tr><th scope=col>&lt;date&gt;</th><th scope=col>&lt;int&gt;</th><th scope=col>&lt;int&gt;</th></tr>\n",
       "</thead>\n",
       "<tbody>\n",
       "\t<tr><td>2013-01-01</td><td>24287</td><td>1710</td></tr>\n",
       "\t<tr><td>2013-02-01</td><td>24215</td><td>1681</td></tr>\n",
       "\t<tr><td>2013-03-01</td><td>24736</td><td>1716</td></tr>\n",
       "\t<tr><td>2013-04-01</td><td>25322</td><td>1745</td></tr>\n",
       "\t<tr><td>2013-05-01</td><td>25610</td><td>1774</td></tr>\n",
       "\t<tr><td>2013-06-01</td><td>25686</td><td>1786</td></tr>\n",
       "</tbody>\n",
       "</table>\n"
      ],
      "text/latex": [
       "A tbl\\_ts: 6 × 3\n",
       "\\begin{tabular}{lll}\n",
       " time & total & employees.edu\\\\\n",
       " <date> & <int> & <int>\\\\\n",
       "\\hline\n",
       "\t 2013-01-01 & 24287 & 1710\\\\\n",
       "\t 2013-02-01 & 24215 & 1681\\\\\n",
       "\t 2013-03-01 & 24736 & 1716\\\\\n",
       "\t 2013-04-01 & 25322 & 1745\\\\\n",
       "\t 2013-05-01 & 25610 & 1774\\\\\n",
       "\t 2013-06-01 & 25686 & 1786\\\\\n",
       "\\end{tabular}\n"
      ],
      "text/markdown": [
       "\n",
       "A tbl_ts: 6 × 3\n",
       "\n",
       "| time &lt;date&gt; | total &lt;int&gt; | employees.edu &lt;int&gt; |\n",
       "|---|---|---|\n",
       "| 2013-01-01 | 24287 | 1710 |\n",
       "| 2013-02-01 | 24215 | 1681 |\n",
       "| 2013-03-01 | 24736 | 1716 |\n",
       "| 2013-04-01 | 25322 | 1745 |\n",
       "| 2013-05-01 | 25610 | 1774 |\n",
       "| 2013-06-01 | 25686 | 1786 |\n",
       "\n"
      ],
      "text/plain": [
       "  time       total employees.edu\n",
       "1 2013-01-01 24287 1710         \n",
       "2 2013-02-01 24215 1681         \n",
       "3 2013-03-01 24736 1716         \n",
       "4 2013-04-01 25322 1745         \n",
       "5 2013-05-01 25610 1774         \n",
       "6 2013-06-01 25686 1786         "
      ]
     },
     "metadata": {},
     "output_type": "display_data"
    }
   ],
   "source": [
    "employees.ts <- ts(employees, start = c(2013, 01), frequency = 12)\n",
    "head(employees.ts)\n",
    "\n",
    "employees.xts <- xts(employees[,2:3], order.by = employees[,1])\n",
    "head(employees.xts)\n",
    "\n",
    "employees.tsibble <- as_tsibble(employees, index = time)\n",
    "head(employees.tsibble)"
   ]
  },
  {
   "cell_type": "markdown",
   "id": "3db76dad",
   "metadata": {},
   "source": [
    "### 추가 실습 데이터 생성"
   ]
  },
  {
   "cell_type": "code",
   "execution_count": 82,
   "id": "b37f1037",
   "metadata": {},
   "outputs": [
    {
     "data": {
      "text/html": [
       "<table class=\"dataframe\">\n",
       "<caption>A data.frame: 6 × 4</caption>\n",
       "<thead>\n",
       "\t<tr><th></th><th scope=col>date</th><th scope=col>category</th><th scope=col>status</th><th scope=col>value</th></tr>\n",
       "\t<tr><th></th><th scope=col>&lt;date&gt;</th><th scope=col>&lt;fct&gt;</th><th scope=col>&lt;fct&gt;</th><th scope=col>&lt;dbl&gt;</th></tr>\n",
       "</thead>\n",
       "<tbody>\n",
       "\t<tr><th scope=row>1</th><td>2020-04-09</td><td>0-9세</td><td>신규</td><td>2</td></tr>\n",
       "\t<tr><th scope=row>2</th><td>2020-04-10</td><td>0-9세</td><td>신규</td><td>1</td></tr>\n",
       "\t<tr><th scope=row>3</th><td>2020-04-11</td><td>0-9세</td><td>신규</td><td>1</td></tr>\n",
       "\t<tr><th scope=row>4</th><td>2020-04-12</td><td>0-9세</td><td>신규</td><td>0</td></tr>\n",
       "\t<tr><th scope=row>5</th><td>2020-04-13</td><td>0-9세</td><td>신규</td><td>2</td></tr>\n",
       "\t<tr><th scope=row>6</th><td>2020-04-14</td><td>0-9세</td><td>신규</td><td>0</td></tr>\n",
       "</tbody>\n",
       "</table>\n"
      ],
      "text/latex": [
       "A data.frame: 6 × 4\n",
       "\\begin{tabular}{r|llll}\n",
       "  & date & category & status & value\\\\\n",
       "  & <date> & <fct> & <fct> & <dbl>\\\\\n",
       "\\hline\n",
       "\t1 & 2020-04-09 & 0-9세 & 신규 & 2\\\\\n",
       "\t2 & 2020-04-10 & 0-9세 & 신규 & 1\\\\\n",
       "\t3 & 2020-04-11 & 0-9세 & 신규 & 1\\\\\n",
       "\t4 & 2020-04-12 & 0-9세 & 신규 & 0\\\\\n",
       "\t5 & 2020-04-13 & 0-9세 & 신규 & 2\\\\\n",
       "\t6 & 2020-04-14 & 0-9세 & 신규 & 0\\\\\n",
       "\\end{tabular}\n"
      ],
      "text/markdown": [
       "\n",
       "A data.frame: 6 × 4\n",
       "\n",
       "| <!--/--> | date &lt;date&gt; | category &lt;fct&gt; | status &lt;fct&gt; | value &lt;dbl&gt; |\n",
       "|---|---|---|---|---|\n",
       "| 1 | 2020-04-09 | 0-9세 | 신규 | 2 |\n",
       "| 2 | 2020-04-10 | 0-9세 | 신규 | 1 |\n",
       "| 3 | 2020-04-11 | 0-9세 | 신규 | 1 |\n",
       "| 4 | 2020-04-12 | 0-9세 | 신규 | 0 |\n",
       "| 5 | 2020-04-13 | 0-9세 | 신규 | 2 |\n",
       "| 6 | 2020-04-14 | 0-9세 | 신규 | 0 |\n",
       "\n"
      ],
      "text/plain": [
       "  date       category status value\n",
       "1 2020-04-09 0-9세    신규   2    \n",
       "2 2020-04-10 0-9세    신규   1    \n",
       "3 2020-04-11 0-9세    신규   1    \n",
       "4 2020-04-12 0-9세    신규   0    \n",
       "5 2020-04-13 0-9세    신규   2    \n",
       "6 2020-04-14 0-9세    신규   0    "
      ]
     },
     "metadata": {},
     "output_type": "display_data"
    }
   ],
   "source": [
    "covid19 <- read.csv('C:/Users/이찬솔/Documents/시계열/covid19.csv', \n",
    "                    header = TRUE, \n",
    "                    na = '-', \n",
    "                    strip.white = TRUE, \n",
    "                    stringsAsFactors = TRUE)\n",
    "colnames(covid19) <- c('category', 'status', 'date', 'value')\n",
    "covid19 <- covid19[, c(3, 1, 2, 4)]\n",
    "covid19$date <- as.Date(covid19$date, \"%Y. %m. %d\")\n",
    "\n",
    "covid19 <- covid19 %>%\n",
    "  filter(grepl('세', category)) %>%\n",
    "  filter(category != '세종')\n",
    "\n",
    "covid19$value <- ifelse(is.na(covid19$value), 0, covid19$value)\n",
    "\n",
    "head(covid19)"
   ]
  },
  {
   "cell_type": "code",
   "execution_count": 83,
   "id": "ac8e8a31",
   "metadata": {},
   "outputs": [
    {
     "data": {
      "text/html": [
       "<table class=\"dataframe\">\n",
       "<caption>A data.frame: 6 × 11</caption>\n",
       "<thead>\n",
       "\t<tr><th></th><th scope=col>date</th><th scope=col>status</th><th scope=col>0-9세</th><th scope=col>10-19세</th><th scope=col>20-29세</th><th scope=col>30-39세</th><th scope=col>40-49세</th><th scope=col>50-59세</th><th scope=col>60-69세</th><th scope=col>70-79세</th><th scope=col>80세 이상</th></tr>\n",
       "\t<tr><th></th><th scope=col>&lt;date&gt;</th><th scope=col>&lt;fct&gt;</th><th scope=col>&lt;dbl&gt;</th><th scope=col>&lt;dbl&gt;</th><th scope=col>&lt;dbl&gt;</th><th scope=col>&lt;dbl&gt;</th><th scope=col>&lt;dbl&gt;</th><th scope=col>&lt;dbl&gt;</th><th scope=col>&lt;dbl&gt;</th><th scope=col>&lt;dbl&gt;</th><th scope=col>&lt;dbl&gt;</th></tr>\n",
       "</thead>\n",
       "<tbody>\n",
       "\t<tr><th scope=row>1</th><td>2020-04-09</td><td>신규</td><td>2</td><td>4</td><td>12</td><td>7</td><td>7</td><td>2</td><td>2</td><td>0</td><td>3</td></tr>\n",
       "\t<tr><th scope=row>2</th><td>2020-04-10</td><td>신규</td><td>1</td><td>1</td><td> 7</td><td>4</td><td>2</td><td>3</td><td>6</td><td>2</td><td>1</td></tr>\n",
       "\t<tr><th scope=row>3</th><td>2020-04-11</td><td>신규</td><td>1</td><td>5</td><td> 5</td><td>2</td><td>3</td><td>6</td><td>7</td><td>0</td><td>1</td></tr>\n",
       "\t<tr><th scope=row>4</th><td>2020-04-12</td><td>신규</td><td>0</td><td>3</td><td>13</td><td>5</td><td>1</td><td>4</td><td>3</td><td>3</td><td>0</td></tr>\n",
       "\t<tr><th scope=row>5</th><td>2020-04-13</td><td>신규</td><td>2</td><td>1</td><td>10</td><td>2</td><td>1</td><td>2</td><td>5</td><td>1</td><td>1</td></tr>\n",
       "\t<tr><th scope=row>6</th><td>2020-04-14</td><td>신규</td><td>0</td><td>3</td><td> 7</td><td>4</td><td>4</td><td>3</td><td>3</td><td>2</td><td>1</td></tr>\n",
       "</tbody>\n",
       "</table>\n"
      ],
      "text/latex": [
       "A data.frame: 6 × 11\n",
       "\\begin{tabular}{r|lllllllllll}\n",
       "  & date & status & 0-9세 & 10-19세 & 20-29세 & 30-39세 & 40-49세 & 50-59세 & 60-69세 & 70-79세 & 80세 이상\\\\\n",
       "  & <date> & <fct> & <dbl> & <dbl> & <dbl> & <dbl> & <dbl> & <dbl> & <dbl> & <dbl> & <dbl>\\\\\n",
       "\\hline\n",
       "\t1 & 2020-04-09 & 신규 & 2 & 4 & 12 & 7 & 7 & 2 & 2 & 0 & 3\\\\\n",
       "\t2 & 2020-04-10 & 신규 & 1 & 1 &  7 & 4 & 2 & 3 & 6 & 2 & 1\\\\\n",
       "\t3 & 2020-04-11 & 신규 & 1 & 5 &  5 & 2 & 3 & 6 & 7 & 0 & 1\\\\\n",
       "\t4 & 2020-04-12 & 신규 & 0 & 3 & 13 & 5 & 1 & 4 & 3 & 3 & 0\\\\\n",
       "\t5 & 2020-04-13 & 신규 & 2 & 1 & 10 & 2 & 1 & 2 & 5 & 1 & 1\\\\\n",
       "\t6 & 2020-04-14 & 신규 & 0 & 3 &  7 & 4 & 4 & 3 & 3 & 2 & 1\\\\\n",
       "\\end{tabular}\n"
      ],
      "text/markdown": [
       "\n",
       "A data.frame: 6 × 11\n",
       "\n",
       "| <!--/--> | date &lt;date&gt; | status &lt;fct&gt; | 0-9세 &lt;dbl&gt; | 10-19세 &lt;dbl&gt; | 20-29세 &lt;dbl&gt; | 30-39세 &lt;dbl&gt; | 40-49세 &lt;dbl&gt; | 50-59세 &lt;dbl&gt; | 60-69세 &lt;dbl&gt; | 70-79세 &lt;dbl&gt; | 80세 이상 &lt;dbl&gt; |\n",
       "|---|---|---|---|---|---|---|---|---|---|---|---|\n",
       "| 1 | 2020-04-09 | 신규 | 2 | 4 | 12 | 7 | 7 | 2 | 2 | 0 | 3 |\n",
       "| 2 | 2020-04-10 | 신규 | 1 | 1 |  7 | 4 | 2 | 3 | 6 | 2 | 1 |\n",
       "| 3 | 2020-04-11 | 신규 | 1 | 5 |  5 | 2 | 3 | 6 | 7 | 0 | 1 |\n",
       "| 4 | 2020-04-12 | 신규 | 0 | 3 | 13 | 5 | 1 | 4 | 3 | 3 | 0 |\n",
       "| 5 | 2020-04-13 | 신규 | 2 | 1 | 10 | 2 | 1 | 2 | 5 | 1 | 1 |\n",
       "| 6 | 2020-04-14 | 신규 | 0 | 3 |  7 | 4 | 4 | 3 | 3 | 2 | 1 |\n",
       "\n"
      ],
      "text/plain": [
       "  date       status 0-9세 10-19세 20-29세 30-39세 40-49세 50-59세 60-69세\n",
       "1 2020-04-09 신규   2     4       12      7       7       2       2      \n",
       "2 2020-04-10 신규   1     1        7      4       2       3       6      \n",
       "3 2020-04-11 신규   1     5        5      2       3       6       7      \n",
       "4 2020-04-12 신규   0     3       13      5       1       4       3      \n",
       "5 2020-04-13 신규   2     1       10      2       1       2       5      \n",
       "6 2020-04-14 신규   0     3        7      4       4       3       3      \n",
       "  70-79세 80세 이상\n",
       "1 0       3        \n",
       "2 2       1        \n",
       "3 0       1        \n",
       "4 3       0        \n",
       "5 1       1        \n",
       "6 2       1        "
      ]
     },
     "metadata": {},
     "output_type": "display_data"
    }
   ],
   "source": [
    "covid19 <- spread(covid19, category, value)\n",
    "\n",
    "head(covid19)"
   ]
  },
  {
   "cell_type": "code",
   "execution_count": 84,
   "id": "655d3d23",
   "metadata": {},
   "outputs": [
    {
     "data": {
      "text/html": [
       "<table class=\"dataframe\">\n",
       "<caption>A matrix: 6 × 9 of type dbl</caption>\n",
       "<thead>\n",
       "\t<tr><th scope=col>status</th><th scope=col>0-9세</th><th scope=col>10-19세</th><th scope=col>20-29세</th><th scope=col>30-39세</th><th scope=col>40-49세</th><th scope=col>50-59세</th><th scope=col>60-69세</th><th scope=col>70-79세</th></tr>\n",
       "</thead>\n",
       "<tbody>\n",
       "\t<tr><td>1</td><td>2</td><td>4</td><td>12</td><td>7</td><td>7</td><td>2</td><td>2</td><td>0</td></tr>\n",
       "\t<tr><td>1</td><td>1</td><td>1</td><td> 7</td><td>4</td><td>2</td><td>3</td><td>6</td><td>2</td></tr>\n",
       "\t<tr><td>1</td><td>1</td><td>5</td><td> 5</td><td>2</td><td>3</td><td>6</td><td>7</td><td>0</td></tr>\n",
       "\t<tr><td>1</td><td>0</td><td>3</td><td>13</td><td>5</td><td>1</td><td>4</td><td>3</td><td>3</td></tr>\n",
       "\t<tr><td>1</td><td>2</td><td>1</td><td>10</td><td>2</td><td>1</td><td>2</td><td>5</td><td>1</td></tr>\n",
       "\t<tr><td>1</td><td>0</td><td>3</td><td> 7</td><td>4</td><td>4</td><td>3</td><td>3</td><td>2</td></tr>\n",
       "</tbody>\n",
       "</table>\n"
      ],
      "text/latex": [
       "A matrix: 6 × 9 of type dbl\n",
       "\\begin{tabular}{lllllllll}\n",
       " status & 0-9세 & 10-19세 & 20-29세 & 30-39세 & 40-49세 & 50-59세 & 60-69세 & 70-79세\\\\\n",
       "\\hline\n",
       "\t 1 & 2 & 4 & 12 & 7 & 7 & 2 & 2 & 0\\\\\n",
       "\t 1 & 1 & 1 &  7 & 4 & 2 & 3 & 6 & 2\\\\\n",
       "\t 1 & 1 & 5 &  5 & 2 & 3 & 6 & 7 & 0\\\\\n",
       "\t 1 & 0 & 3 & 13 & 5 & 1 & 4 & 3 & 3\\\\\n",
       "\t 1 & 2 & 1 & 10 & 2 & 1 & 2 & 5 & 1\\\\\n",
       "\t 1 & 0 & 3 &  7 & 4 & 4 & 3 & 3 & 2\\\\\n",
       "\\end{tabular}\n"
      ],
      "text/markdown": [
       "\n",
       "A matrix: 6 × 9 of type dbl\n",
       "\n",
       "| status | 0-9세 | 10-19세 | 20-29세 | 30-39세 | 40-49세 | 50-59세 | 60-69세 | 70-79세 |\n",
       "|---|---|---|---|---|---|---|---|---|\n",
       "| 1 | 2 | 4 | 12 | 7 | 7 | 2 | 2 | 0 |\n",
       "| 1 | 1 | 1 |  7 | 4 | 2 | 3 | 6 | 2 |\n",
       "| 1 | 1 | 5 |  5 | 2 | 3 | 6 | 7 | 0 |\n",
       "| 1 | 0 | 3 | 13 | 5 | 1 | 4 | 3 | 3 |\n",
       "| 1 | 2 | 1 | 10 | 2 | 1 | 2 | 5 | 1 |\n",
       "| 1 | 0 | 3 |  7 | 4 | 4 | 3 | 3 | 2 |\n",
       "\n"
      ],
      "text/plain": [
       "     status 0-9세 10-19세 20-29세 30-39세 40-49세 50-59세 60-69세 70-79세\n",
       "[1,] 1      2     4       12      7       7       2       2       0      \n",
       "[2,] 1      1     1        7      4       2       3       6       2      \n",
       "[3,] 1      1     5        5      2       3       6       7       0      \n",
       "[4,] 1      0     3       13      5       1       4       3       3      \n",
       "[5,] 1      2     1       10      2       1       2       5       1      \n",
       "[6,] 1      0     3        7      4       4       3       3       2      "
      ]
     },
     "metadata": {},
     "output_type": "display_data"
    },
    {
     "data": {
      "text/plain": [
       "           0-9세 10-19세 20-29세 30-39세 40-49세 50-59세 60-69세 70-79세\n",
       "2020-04-09     2       4      12       7       7       2       2       0\n",
       "2020-04-10     1       1       7       4       2       3       6       2\n",
       "2020-04-11     1       5       5       2       3       6       7       0\n",
       "2020-04-12     0       3      13       5       1       4       3       3\n",
       "2020-04-13     2       1      10       2       1       2       5       1\n",
       "2020-04-14     0       3       7       4       4       3       3       2"
      ]
     },
     "metadata": {},
     "output_type": "display_data"
    },
    {
     "data": {
      "text/html": [
       "<table class=\"dataframe\">\n",
       "<caption>A tbl_ts: 6 × 11</caption>\n",
       "<thead>\n",
       "\t<tr><th scope=col>date</th><th scope=col>status</th><th scope=col>0-9세</th><th scope=col>10-19세</th><th scope=col>20-29세</th><th scope=col>30-39세</th><th scope=col>40-49세</th><th scope=col>50-59세</th><th scope=col>60-69세</th><th scope=col>70-79세</th><th scope=col>80세 이상</th></tr>\n",
       "\t<tr><th scope=col>&lt;date&gt;</th><th scope=col>&lt;fct&gt;</th><th scope=col>&lt;dbl&gt;</th><th scope=col>&lt;dbl&gt;</th><th scope=col>&lt;dbl&gt;</th><th scope=col>&lt;dbl&gt;</th><th scope=col>&lt;dbl&gt;</th><th scope=col>&lt;dbl&gt;</th><th scope=col>&lt;dbl&gt;</th><th scope=col>&lt;dbl&gt;</th><th scope=col>&lt;dbl&gt;</th></tr>\n",
       "</thead>\n",
       "<tbody>\n",
       "\t<tr><td>2020-04-09</td><td>신규</td><td>2</td><td>4</td><td>12</td><td>7</td><td>7</td><td>2</td><td>2</td><td>0</td><td>3</td></tr>\n",
       "\t<tr><td>2020-04-10</td><td>신규</td><td>1</td><td>1</td><td> 7</td><td>4</td><td>2</td><td>3</td><td>6</td><td>2</td><td>1</td></tr>\n",
       "\t<tr><td>2020-04-11</td><td>신규</td><td>1</td><td>5</td><td> 5</td><td>2</td><td>3</td><td>6</td><td>7</td><td>0</td><td>1</td></tr>\n",
       "\t<tr><td>2020-04-12</td><td>신규</td><td>0</td><td>3</td><td>13</td><td>5</td><td>1</td><td>4</td><td>3</td><td>3</td><td>0</td></tr>\n",
       "\t<tr><td>2020-04-13</td><td>신규</td><td>2</td><td>1</td><td>10</td><td>2</td><td>1</td><td>2</td><td>5</td><td>1</td><td>1</td></tr>\n",
       "\t<tr><td>2020-04-14</td><td>신규</td><td>0</td><td>3</td><td> 7</td><td>4</td><td>4</td><td>3</td><td>3</td><td>2</td><td>1</td></tr>\n",
       "</tbody>\n",
       "</table>\n"
      ],
      "text/latex": [
       "A tbl\\_ts: 6 × 11\n",
       "\\begin{tabular}{lllllllllll}\n",
       " date & status & 0-9세 & 10-19세 & 20-29세 & 30-39세 & 40-49세 & 50-59세 & 60-69세 & 70-79세 & 80세 이상\\\\\n",
       " <date> & <fct> & <dbl> & <dbl> & <dbl> & <dbl> & <dbl> & <dbl> & <dbl> & <dbl> & <dbl>\\\\\n",
       "\\hline\n",
       "\t 2020-04-09 & 신규 & 2 & 4 & 12 & 7 & 7 & 2 & 2 & 0 & 3\\\\\n",
       "\t 2020-04-10 & 신규 & 1 & 1 &  7 & 4 & 2 & 3 & 6 & 2 & 1\\\\\n",
       "\t 2020-04-11 & 신규 & 1 & 5 &  5 & 2 & 3 & 6 & 7 & 0 & 1\\\\\n",
       "\t 2020-04-12 & 신규 & 0 & 3 & 13 & 5 & 1 & 4 & 3 & 3 & 0\\\\\n",
       "\t 2020-04-13 & 신규 & 2 & 1 & 10 & 2 & 1 & 2 & 5 & 1 & 1\\\\\n",
       "\t 2020-04-14 & 신규 & 0 & 3 &  7 & 4 & 4 & 3 & 3 & 2 & 1\\\\\n",
       "\\end{tabular}\n"
      ],
      "text/markdown": [
       "\n",
       "A tbl_ts: 6 × 11\n",
       "\n",
       "| date &lt;date&gt; | status &lt;fct&gt; | 0-9세 &lt;dbl&gt; | 10-19세 &lt;dbl&gt; | 20-29세 &lt;dbl&gt; | 30-39세 &lt;dbl&gt; | 40-49세 &lt;dbl&gt; | 50-59세 &lt;dbl&gt; | 60-69세 &lt;dbl&gt; | 70-79세 &lt;dbl&gt; | 80세 이상 &lt;dbl&gt; |\n",
       "|---|---|---|---|---|---|---|---|---|---|---|\n",
       "| 2020-04-09 | 신규 | 2 | 4 | 12 | 7 | 7 | 2 | 2 | 0 | 3 |\n",
       "| 2020-04-10 | 신규 | 1 | 1 |  7 | 4 | 2 | 3 | 6 | 2 | 1 |\n",
       "| 2020-04-11 | 신규 | 1 | 5 |  5 | 2 | 3 | 6 | 7 | 0 | 1 |\n",
       "| 2020-04-12 | 신규 | 0 | 3 | 13 | 5 | 1 | 4 | 3 | 3 | 0 |\n",
       "| 2020-04-13 | 신규 | 2 | 1 | 10 | 2 | 1 | 2 | 5 | 1 | 1 |\n",
       "| 2020-04-14 | 신규 | 0 | 3 |  7 | 4 | 4 | 3 | 3 | 2 | 1 |\n",
       "\n"
      ],
      "text/plain": [
       "  date       status 0-9세 10-19세 20-29세 30-39세 40-49세 50-59세 60-69세\n",
       "1 2020-04-09 신규   2     4       12      7       7       2       2      \n",
       "2 2020-04-10 신규   1     1        7      4       2       3       6      \n",
       "3 2020-04-11 신규   1     5        5      2       3       6       7      \n",
       "4 2020-04-12 신규   0     3       13      5       1       4       3      \n",
       "5 2020-04-13 신규   2     1       10      2       1       2       5      \n",
       "6 2020-04-14 신규   0     3        7      4       4       3       3      \n",
       "  70-79세 80세 이상\n",
       "1 0       3        \n",
       "2 2       1        \n",
       "3 0       1        \n",
       "4 3       0        \n",
       "5 1       1        \n",
       "6 2       1        "
      ]
     },
     "metadata": {},
     "output_type": "display_data"
    }
   ],
   "source": [
    "covid19.ts <- ts(covid19[, 2:10], frequency = 365)\n",
    "head(covid19.ts)\n",
    "\n",
    "covid19.xts <- as.xts(covid19[, 3:10], order.by = covid19$date)\n",
    "head(covid19.xts)\n",
    "\n",
    "covid19.tsibble <- as_tsibble(covid19, index = date)\n",
    "head(covid19.tsibble)"
   ]
  }
 ],
 "metadata": {
  "kernelspec": {
   "display_name": "R 4.1.3",
   "language": "R",
   "name": "ir32"
  },
  "language_info": {
   "codemirror_mode": "r",
   "file_extension": ".r",
   "mimetype": "text/x-r-source",
   "name": "R",
   "pygments_lexer": "r",
   "version": "4.1.3"
  }
 },
 "nbformat": 4,
 "nbformat_minor": 5
}
