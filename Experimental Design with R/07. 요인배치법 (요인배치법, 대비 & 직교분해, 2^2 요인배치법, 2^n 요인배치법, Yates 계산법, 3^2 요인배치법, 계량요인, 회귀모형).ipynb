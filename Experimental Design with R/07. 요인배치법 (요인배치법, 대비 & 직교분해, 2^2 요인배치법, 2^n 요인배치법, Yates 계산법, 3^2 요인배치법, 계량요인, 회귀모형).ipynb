{
 "cells": [
  {
   "cell_type": "markdown",
   "id": "a35e5190",
   "metadata": {},
   "source": [
    "# 07. 요인배치법\n",
    "- 모든 요인의 각각의 수준조합에서 실험이 이루어지므로, 여러 요인의 주효과와 상호작용효과를 동시에 추정\n",
    "\n",
    "<br>\n",
    "\n",
    "## 07.01. 요인배치법 (factorial design)\n",
    "- 모든 요인의 각각의 수준조합에서 실험이 이루어짐\n",
    "    - **$2^n$요인배치법은 2수준인 요인을 n개 선택하여 모든 수준조합에서 랜덤한 순서대로 실험이 이루어짐 (모든 요인이 고정요인)**\n",
    "* 통상적인 다원배치법과 같음\n",
    "- **$k^n$요인배치법은 요인의 수가 n이고, 각 요인의 수준이 k인 실험**\n",
    "    - 모든 요인의 수준조합에서 실험이 랜덤한 순서대로 이루어짐\n",
    "    "
   ]
  },
  {
   "cell_type": "markdown",
   "id": "bdd66413",
   "metadata": {},
   "source": [
    "<br>\n",
    "\n",
    "## 07.02. 대비와 직교분해\n",
    "- 어떤 실험에서 $a$개의 처리조합 (treatment combination)을 고려할 때, 각 처리조합에서 측정값들의 합을 $T_1, \\dots T_a$라 하고\n",
    "\n",
    "    각 처리조합에서의 반복수를 일정하게 $r$이라고 하면 $T_1, \\dots T_a$의 정수계수 일차식\n",
    "    \n",
    "    $$L = c_1T_1 + \\dots c_a T_a$$를 선형식이라고 부름\n",
    "    \n",
    "    **이때 계수 $c_1, \\dots, c_a$중에는 0이 몇개 있어도 괜찮지만, 전부 0이면 안됨**\n",
    "    \n",
    "    또한 $c_1 \\sim c_a$의 제곱합을 $L$의 단위수 $D$는\n",
    "    \n",
    "    **$$D=\\sum^a_i c^2_i$$이며, $c_1 + c_2 +\\dots c_a=0$을 만족하는 조건이 나올때 이 선형식을 대비 (contrast)라고 부르며, 대비의 변동은**\n",
    "    \n",
    "    **$$SS_L = {{L^2}\\over{D\\times r}}$$주어지며 자유도 1을 가진다**\n",
    "    \n",
    "    <br>\n",
    "    \n",
    "    <hr>\n",
    "    \n",
    "    **2개의 대비가**\n",
    "    \n",
    "    $$L1 = c_1 T_1 + \\dots c_a T_a$$\n",
    "    \n",
    "    **$$L2 = d_1 T_1 + \\dots d_a T_a$$로 주어질 때**\n",
    "    \n",
    "    **$$c_1 d_1 + c_2 d_2 \\dots c_a d_a = 0$$이 성립하면 2개의 대비 $L_1$과 $L_2$는 서로 직교 (orthogonal)함**\n",
    "    \n",
    "    이 때 대비 $L_1$의 변동과 $L_2$의 변동은\n",
    "    \n",
    "    $$SS_{L_1} = {{L^2_1}\\over{\\sum_i c_i^2\\times r}}$$\n",
    "    \n",
    "    $$SS_{L_2} = {{L^2_2}\\over{\\sum_i d_i^2\\times r}}$$로 주어지고, 둘 다 자유도 1을 가짐\n",
    "    \n",
    "    <br>\n",
    "    \n",
    "    <hr>\n",
    "    \n",
    "    **수준수가 a인 $A$의 변동 $SS_A$는 각각의 자유도가 1인 서로 직교하는 $(a-1)$개의 대비에 의한 변동으로 분해할 수 있으며,**\n",
    "    \n",
    "    **이때 서로 직교하는 대비를 $L_1, L_2 \\dots ,L_{a-1}$라고 하면**\n",
    "    \n",
    "    $$SS_A = SS_{L_1} + \\dots SS_{L_{a-1}}$$\n",
    "    \n",
    "    **이처럼 $A$의 변동을 몇 개의 직교하는 대비의 변동으로 분해하는 것을 $SS_A$의 직교분해라고 함**\n",
    "    \n",
    "    **변동을 직교하는 대비의 변동으로 분해하는 이유는, 어떤 특정한 대비의 변동이 전체 변동 중에서 얼마나 차지하는지 알아볼 수 있기 때문**"
   ]
  },
  {
   "cell_type": "markdown",
   "id": "3557a52c",
   "metadata": {},
   "source": [
    "<br>\n",
    "\n",
    "#### 플라스틱 제조 공장 예시\n",
    "- 원료의 제조회사 $A$와 성형온도 $B$가 플라스틱 강도에 어떠한 영향을 미치는지 분석하기 위해 $3^2$요인배치법 적용\n",
    "\n",
    "| $\\;$ | $B_0$ | $B_1$ | $B_2$ | $T$$_{i.}$ |\n",
    "| - | - | - | - | - |\n",
    "| $A_0$ | 11 | 18| 25 | 54 |\n",
    "| $A_1$ | 1 | 6| 14 | 21 |\n",
    "| $A_2$ | 6 | 15| 18 | 39 |\n",
    "| |\n",
    "| $T_{.j}$ | 18 | 39| 57 | $T$=114 |"
   ]
  },
  {
   "cell_type": "code",
   "execution_count": 4,
   "id": "67c687db",
   "metadata": {},
   "outputs": [],
   "source": [
    "library(tidyverse)\n",
    "library(tidymodels)"
   ]
  },
  {
   "cell_type": "code",
   "execution_count": 5,
   "id": "5ec9adfe",
   "metadata": {},
   "outputs": [],
   "source": [
    "gang <- c(11, 18, 25, 1, 6, 14, 6, 15, 18)\n",
    "wol <- factor(c(rep(0, 3), rep(1, 3), rep(2, 3)))\n",
    "temp <- factor(c(rep(c(0, 1, 2), 3)))\n",
    "plastic.data <- tibble(gang, wol, temp)"
   ]
  },
  {
   "cell_type": "code",
   "execution_count": 6,
   "id": "d741f4e2",
   "metadata": {},
   "outputs": [
    {
     "ename": "ERROR",
     "evalue": "\u001b[1m\u001b[33mError\u001b[39m in `vec_c()`:\u001b[22m\n\u001b[33m!\u001b[39m Can't combine `wol` <factor<5da9e>> and `0` <double>.\n",
     "output_type": "error",
     "traceback": [
      "\u001b[1m\u001b[33mError\u001b[39m in `vec_c()`:\u001b[22m\n\u001b[33m!\u001b[39m Can't combine `wol` <factor<5da9e>> and `0` <double>.\nTraceback:\n",
      "1. plastic.data %>% pivot_wider(id_cols = wol, values_from = gang, \n .     names_from = temp) %>% row_number",
      "2. row_number(.)",
      "3. rank(x, ties.method = \"first\", na.last = \"keep\")",
      "4. x[!nas]",
      "5. `[.tbl_df`(x, !nas)",
      "6. tbl_subset_matrix(x, j, j_arg)",
      "7. unname(vec_c(!!!values, .name_spec = ~.x))",
      "8. vec_c(!!!values, .name_spec = ~.x)",
      "9. (function () \n . vec_default_ptype2(x = x, y = y, x_arg = x_arg, y_arg = y_arg, \n .     call = call, `vctrs:::from_dispatch` = `vctrs:::from_dispatch`, \n .     `vctrs:::s3_fallback` = `vctrs:::s3_fallback`))()",
      "10. vec_default_ptype2(x = x, y = y, x_arg = x_arg, y_arg = y_arg, \n  .     call = call, `vctrs:::from_dispatch` = `vctrs:::from_dispatch`, \n  .     `vctrs:::s3_fallback` = `vctrs:::s3_fallback`)",
      "11. withRestarts(stop_incompatible_type(x, y, x_arg = x_arg, y_arg = y_arg, \n  .     `vctrs:::from_dispatch` = match_from_dispatch(...), call = call), \n  .     vctrs_restart_ptype2 = function(ptype) {\n  .         ptype\n  .     })",
      "12. withOneRestart(expr, restarts[[1L]])",
      "13. doWithOneRestart(return(expr), restart)",
      "14. stop_incompatible_type(x, y, x_arg = x_arg, y_arg = y_arg, `vctrs:::from_dispatch` = match_from_dispatch(...), \n  .     call = call)",
      "15. stop_incompatible(x, y, x_arg = x_arg, y_arg = y_arg, details = details, \n  .     ..., message = message, class = c(class, subclass, \"vctrs_error_incompatible_type\"), \n  .     call = call)",
      "16. stop_vctrs(message, class = c(class, \"vctrs_error_incompatible\"), \n  .     x = x, y = y, details = details, ..., call = call)",
      "17. abort(message, class = c(class, \"vctrs_error\"), ..., call = vctrs_error_call(call))",
      "18. signal_abort(cnd, .file)"
     ]
    }
   ],
   "source": [
    "plastic.data %>% pivot_wider(id_cols = wol, values_from = gang, names_from = temp) %>%\n",
    "    row_number"
   ]
  },
  {
   "cell_type": "markdown",
   "id": "f7fd67c4",
   "metadata": {},
   "source": [
    "<br>\n",
    "\n",
    "- 분산분석 : 요인 $A$, $B$ 모두 특성값에 매우 유의한 영향을 미침"
   ]
  },
  {
   "cell_type": "code",
   "execution_count": 7,
   "id": "2f503761",
   "metadata": {},
   "outputs": [
    {
     "data": {
      "text/html": [
       "<table class=\"dataframe\">\n",
       "<caption>A tibble: 3 × 6</caption>\n",
       "<thead>\n",
       "\t<tr><th scope=col>term</th><th scope=col>df</th><th scope=col>sumsq</th><th scope=col>meansq</th><th scope=col>statistic</th><th scope=col>p.value</th></tr>\n",
       "\t<tr><th scope=col>&lt;chr&gt;</th><th scope=col>&lt;dbl&gt;</th><th scope=col>&lt;dbl&gt;</th><th scope=col>&lt;dbl&gt;</th><th scope=col>&lt;dbl&gt;</th><th scope=col>&lt;dbl&gt;</th></tr>\n",
       "</thead>\n",
       "<tbody>\n",
       "\t<tr><td>wol      </td><td>2</td><td>182</td><td> 91</td><td>45.5</td><td>0.0017728532</td></tr>\n",
       "\t<tr><td>temp     </td><td>2</td><td>254</td><td>127</td><td>63.5</td><td>0.0009323466</td></tr>\n",
       "\t<tr><td>Residuals</td><td>4</td><td>  8</td><td>  2</td><td>  NA</td><td>          NA</td></tr>\n",
       "</tbody>\n",
       "</table>\n"
      ],
      "text/latex": [
       "A tibble: 3 × 6\n",
       "\\begin{tabular}{llllll}\n",
       " term & df & sumsq & meansq & statistic & p.value\\\\\n",
       " <chr> & <dbl> & <dbl> & <dbl> & <dbl> & <dbl>\\\\\n",
       "\\hline\n",
       "\t wol       & 2 & 182 &  91 & 45.5 & 0.0017728532\\\\\n",
       "\t temp      & 2 & 254 & 127 & 63.5 & 0.0009323466\\\\\n",
       "\t Residuals & 4 &   8 &   2 &   NA &           NA\\\\\n",
       "\\end{tabular}\n"
      ],
      "text/markdown": [
       "\n",
       "A tibble: 3 × 6\n",
       "\n",
       "| term &lt;chr&gt; | df &lt;dbl&gt; | sumsq &lt;dbl&gt; | meansq &lt;dbl&gt; | statistic &lt;dbl&gt; | p.value &lt;dbl&gt; |\n",
       "|---|---|---|---|---|---|\n",
       "| wol       | 2 | 182 |  91 | 45.5 | 0.0017728532 |\n",
       "| temp      | 2 | 254 | 127 | 63.5 | 0.0009323466 |\n",
       "| Residuals | 4 |   8 |   2 |   NA |           NA |\n",
       "\n"
      ],
      "text/plain": [
       "  term      df sumsq meansq statistic p.value     \n",
       "1 wol       2  182    91    45.5      0.0017728532\n",
       "2 temp      2  254   127    63.5      0.0009323466\n",
       "3 Residuals 4    8     2      NA                NA"
      ]
     },
     "metadata": {},
     "output_type": "display_data"
    }
   ],
   "source": [
    "anova <- aov(gang ~ wol + temp, plastic.data)\n",
    "tidy(anova)"
   ]
  },
  {
   "cell_type": "markdown",
   "id": "6ea70b39",
   "metadata": {},
   "source": [
    "<br>\n",
    "\n",
    "- **$A$의 효과 분해** \n",
    "\n",
    "    $L_1$ : 국산과 외제의 차이 = ${1\\over6} (T_{0.}+T_{1.})-{1\\over3}T_{2.} = -0.5$\n",
    "    \n",
    "    $L_2$ : 자사와 국내 타 회사의 차이 = ${1\\over3} T_{0.}-{1\\over3}T_{1.} = 11$ 일때,\n",
    "    \n",
    "    2개의 선형식의 계수는 \n",
    "    \n",
    "    $$c_1 = 1/6,\\;c_2 = 1/6,\\;c_3 = -1/3$$\n",
    "    \n",
    "    **$$d_1 = 1/3.\\;d_2 = -1/3.\\;d_3 = 0$$이므로 선형식 $L_1, L_2$는 대비이며 서로 직교함**\n",
    "    "
   ]
  },
  {
   "cell_type": "code",
   "execution_count": 8,
   "id": "49806d9f",
   "metadata": {},
   "outputs": [],
   "source": [
    "c1 <- c(1/6, 1/6, -1/3)\n",
    "c2 <- c(1/3, -1/3, 0)\n",
    "mat.wol = cbind(c1, c2)\n",
    "contrasts(plastic.data$wol) = mat.wol"
   ]
  },
  {
   "cell_type": "code",
   "execution_count": 9,
   "id": "e6a21b24",
   "metadata": {},
   "outputs": [
    {
     "name": "stdout",
     "output_type": "stream",
     "text": [
      "[1] 0 0 0 1 1 1 2 2 2\n",
      "attr(,\"contrasts\")\n",
      "          c1         c2\n",
      "0  0.1666667  0.3333333\n",
      "1  0.1666667 -0.3333333\n",
      "2 -0.3333333  0.0000000\n",
      "Levels: 0 1 2\n"
     ]
    }
   ],
   "source": [
    "print(plastic.data$wol)"
   ]
  },
  {
   "cell_type": "markdown",
   "id": "f4d034d7",
   "metadata": {},
   "source": [
    "<br>\n",
    "\n",
    "- **$B$의 효과분석**\n",
    "    - **$B$ (온도)는 계량요인이고, 수준간격이 일정 ($B_0:100,\\;B_1:110\\;B_2:120$)하므로,**\n",
    "    \n",
    "        **요인 $B$의 1차효과 (linear effect)와 2차 효과 (quatratic effect)를 계산**\n",
    "        \n",
    "        <br>\n",
    "    \n",
    "    - **100, 110, 120에 걸쳐서 얻어지는 1차 효과는 100에서 110까지 변하는 동안의 1차효과 $(T_{.1}-T_{.0})$과**\n",
    "    \n",
    "        **110에서 120까지 변하는 동안의 1차효과 $(T_{.2}-T_{.1})$의 합으로 볼 수있으므로**\n",
    "        \n",
    "     **$L_l$ : $T_{.2}-T_{.0}=39$이고 $c_1 = -1, c_2 = 0, c_3 =1$이므로 대비**\n",
    "     \n",
    "     <br>\n",
    "    \n",
    "    - **100과 110간의 특성값 변화의 기울기와, 110에서 120간의 특성값 변화의 기울기의 차이는 2차 효과로 볼 수 있으므로**\n",
    "    \n",
    "        **2차 효과는**\n",
    "    \n",
    "     **$L_q$ : $(T_{.2}-T_{.1})- (T_{.1}-T_{.0}) =T_{.2}-2T_{.1}+T_{.0}=-3이고\\;\\;\\; d_1 = 1, d_2 = -2, d_3 =1$이므로 대비**\n",
    "    \n",
    "    <hr>\n",
    "    \n",
    "     **$L_l과\\;L_q$는 서로 직교**\n",
    "    "
   ]
  },
  {
   "cell_type": "code",
   "execution_count": 10,
   "id": "e1267317",
   "metadata": {},
   "outputs": [],
   "source": [
    "c3 = c(-1, 0, 1)\n",
    "c4 = c(1, -2, 1)\n",
    "mat.temp = cbind(c3, c4)\n",
    "contrasts(plastic.data$temp) = mat.temp"
   ]
  },
  {
   "cell_type": "code",
   "execution_count": 11,
   "id": "38db7a6b",
   "metadata": {},
   "outputs": [
    {
     "name": "stdout",
     "output_type": "stream",
     "text": [
      "[1] 0 1 2 0 1 2 0 1 2\n",
      "attr(,\"contrasts\")\n",
      "  c3 c4\n",
      "0 -1  1\n",
      "1  0 -2\n",
      "2  1  1\n",
      "Levels: 0 1 2\n"
     ]
    }
   ],
   "source": [
    "print(plastic.data$temp)"
   ]
  },
  {
   "cell_type": "markdown",
   "id": "0bb73326",
   "metadata": {},
   "source": [
    "<br>\n",
    "\n",
    "* **$A$와 $B$의 변동분해**\n",
    "\n",
    "    <br>\n",
    "    \n",
    "    - $SS_A$는 \n",
    "    \n",
    "        $$SS_A = SS_{L_1} + SS_{L_2}= 0.5 + 181.5 = 182$$로 분해되며,\n",
    "    \n",
    "        **$SS_{L_1} < SS_{L_2}$이므로, $A$에 의한 변동은 주로 자회사와 국내 타 회사 간의 차이 때문인 것을 알 수 있음**\n",
    "        \n",
    "    <br>\n",
    "    \n",
    "    - $SS_B$는 \n",
    "    \n",
    "        $$SS_B = SS_{l} + SS_{q}= 253.5 + 0.5 = 254$$로 분해되며,\n",
    "    \n",
    "        **$SS_{l} < SS_{q}$이므로, $B$에 의한 변동은 주로 1차 효과가 대부분을 차지하고 있음을 알 수 있음**"
   ]
  },
  {
   "cell_type": "code",
   "execution_count": 12,
   "id": "ee8f096d",
   "metadata": {},
   "outputs": [
    {
     "data": {
      "text/plain": [
       "                           Df Sum Sq Mean Sq F value   Pr(>F)    \n",
       "wol                         2  182.0    91.0   45.50 0.001773 ** \n",
       "  wol: 국산과 외제          1    0.5     0.5    0.25 0.643330    \n",
       "  wol: 자사와 국내 타 회사  1  181.5   181.5   90.75 0.000678 ***\n",
       "temp                        2  254.0   127.0   63.50 0.000932 ***\n",
       "  temp: linear              1  253.5   253.5  126.75 0.000355 ***\n",
       "  temp: quatratic           1    0.5     0.5    0.25 0.643330    \n",
       "Residuals                   4    8.0     2.0                     \n",
       "---\n",
       "Signif. codes:  0 '***' 0.001 '**' 0.01 '*' 0.05 '.' 0.1 ' ' 1"
      ]
     },
     "metadata": {},
     "output_type": "display_data"
    }
   ],
   "source": [
    "mod.contrast = aov(gang ~ wol + temp, plastic.data)\n",
    "summary(mod.contrast, split = list(wol = list(\"국산과 외제\" = 1, \"자사와 국내 타 회사\" = 2),\n",
    "                                   temp = list(\"linear\" = 1, \"quatratic\" = 2)))"
   ]
  },
  {
   "cell_type": "markdown",
   "id": "d2b080ff",
   "metadata": {},
   "source": [
    "<br>\n",
    "\n",
    "## 07.03. $2^2$요인배치법\n",
    "\n",
    "<br>\n",
    "\n",
    "### 반복이 없는 경우\n",
    "- **요인의 수가 2개이고, 각 요인의 수준이 2인 이원배치법**\n",
    "\n",
    "| | $A_0$ | $A_1$ | $T_{.j}$ |\n",
    "| - | - | - | - |\n",
    "| $B_0$ | $x_{00}$ | $x_{10}$| $T_{.0}$|\n",
    "| $B_1$ | $x_{01}$ | $x_{11}$| $T_{.1}$|\n",
    "| |\n",
    "| $T_{i.}$ | $T_{0.}$ | $T_{1.}$ | $T$ |\n",
    "\n",
    "- 반복이 없는 $2^2$ 요인배치법에서는 $x_{ij}$를 $a^ib^j$로 표현\n",
    "\n",
    "$$x_{00}=a^0 b^0 =(1)$$\n",
    "\n",
    "$$x_{01}=a^0 b^1 =b$$\n",
    "\n",
    "$$x_{10}=a^1 b^0 =a$$\n",
    "\n",
    "$$x_{11}=a^1 b^1 =ab$$\n",
    "\n",
    "- **$2^2$요인배치법의 처리조합은 사각형의 꼭지점으로 표현 가능**\n"
   ]
  },
  {
   "cell_type": "markdown",
   "id": "67038621",
   "metadata": {},
   "source": [
    "<br>\n",
    "\n",
    "#### 주효과\n",
    "\n",
    "- 위의 표로부터 주효과와 상호작용효과를 정의\n",
    "    \n",
    "    **A의 주효과**\n",
    "    \n",
    "    $$A = {1\\over2}(x_{11}+x_{10}-x_{01}-x_{00})$$\n",
    "    \n",
    "    $$= {1\\over2}(ab + a - b -(1))$$\n",
    "    \n",
    "    $$={1\\over2}(T_{1.}  -T_{0.})$$\n",
    "    \n",
    "    <br>\n",
    "    \n",
    "    **B의 주효과**\n",
    "    \n",
    "    $$B = {1\\over2}(x_{11}+x_{01}-x_{10}-x_{00})$$\n",
    "    \n",
    "    $$= {1\\over2}(ab + b - a -(1))$$\n",
    "    \n",
    "    $$={1\\over2}(T_{.1}  -T_{.0})$$"
   ]
  },
  {
   "cell_type": "markdown",
   "id": "27cf4ad2",
   "metadata": {},
   "source": [
    "<br>\n",
    "\n",
    "#### 상호작용효과\n",
    "- **특정한 요인의 수준조합에서 일어나는 효과**\n",
    "\n",
    "- A의 효과가 B의 수준 변화에 따라 다른경우 $\\rightarrow$ A, B사이에는 상호작용효과가 존재\n",
    "    \n",
    "    A, B간의 상호작용효과를 AB로 표시하면, A의 1수준에서 B의 효과는 $ab-a$이고,\n",
    "    \n",
    "    A의 0수준에서 B의 효과는 $b-(1)$이므로\n",
    "    \n",
    "    AB는 이들 차이의 평균\n",
    "    \n",
    "    $$AB = {1\\over2}[(x_{11}-x_{10})-(x_{01}-x_{00})]={1\\over2}(ab+(1)-a-b)$$\n",
    "    \n",
    "<br>\n",
    "\n",
    "#### 상호작용효과와 주효과는 인수분해의 형태를 이용하여 다음과 같이 계산\n",
    "\n",
    "$$A = {1\\over2}(ab + a - b -(1))$$\n",
    "\n",
    "$$B = {1\\over2}(ab + b - a -(1))$$\n",
    "\n",
    "$$AB = {1\\over2}(ab+(1)-a-b)$$\n",
    "\n",
    "<br>\n",
    "\n",
    "| 처리조합 | A | B | AB | \n",
    "| - | - | - | - |\n",
    "| $(1)$ | - | - | + |\n",
    "| $a$ | + | - | - | \n",
    "| $b$ | - | + | - |\n",
    "| $ab$ | + | + | + |"
   ]
  },
  {
   "cell_type": "markdown",
   "id": "c3b409e0",
   "metadata": {},
   "source": [
    "<br>\n",
    "\n",
    "#### 요인효과와 변동\n",
    "- $CT = {{T^2}\\over{4}}$일 떄\n",
    "\n",
    "$$SS_T = \\sum_i \\sum_j x^2_{ij} - CT$$\n",
    "\n",
    "$$SS_A = \\sum_i {{T^2_i}\\over{2}} - CT = {1\\over4}(T_i{i.}-T_{0.})^2 = (A)^2$$\n",
    "\n",
    "$$SS_B = {1\\over4}(T_i{.i}-T_{.0})^2 = (B)^2$$\n",
    "\n",
    "$$SS_{A\\times B} = SS_T - SS_A - SS_B = (AB)^2$$\n",
    "\n",
    "- **결국 변동은 주효과 $A, B$와 상호작용효과 $AB$를 안다면 계산 가능**\n",
    "\n",
    "<br>\n",
    "\n",
    "- **$A$의 주효과는 대비(contrast)이므로 ($B$의 주효과도 동일), 대비의 변동은**\n",
    "\n",
    "$$SS_A = {{(A)^2}\\over{{1\\over 2}\\times 2}}=(A)^2$$\n",
    "\n",
    "<br>\n",
    "\n",
    "#### 예이츠 계산법 (Yates)\n",
    "- **반복측정치가 $r$회인 경우, 각 요인의 효과와 변동은 예이츠(Yates)계산법으로 계산 가능**\n",
    "    - $M$은 평균을 의미\n",
    "    - 열 (1)의 상단부는 맨 왼쪽열들의 값을 가지고 위로부터 2개씩 짝을지어 합함\n",
    "    \n",
    "        하단부는 아래로부터 2개씩 짝을 지어 뺌\n",
    "    - 열 (2)에서도 상단부는 열 (1)의 값을 가지고 위로부터 2개씩 짝을 지어 합함\n",
    "    \n",
    "        하단부는 아래로부터 2개씩 짝을 지어 뺌\n",
    "\n",
    "| 처리조합 | (1) | (2) | 요인효과<br>(2)/($2^{n-1}$r) | 요인변동<br>$(2)^2$/($2^n$r) |\n",
    "| - | - | - | - | - | \n",
    "| (1) | (1) + a| (1)+a+b+ab| (2)/($2^n$r)=M | CT |\n",
    "| a | b+ab| a-(1)+ab-b| (2)/($2^{n-1}$r)=A | $SS_A$ |\n",
    "| |\n",
    "| b | a-(1) | b+ab-(1)-a| (2)/($2^{n-1}$r)=B | $SS_B$ |\n",
    "| ab | ab-b| ab-b-a+(1)| (2)/($2^{n-1}$r)=AB | $SS_{A\\times B}$ |\n",
    "\n",
    "<br>\n",
    "\n",
    "#### 분산분석표\n",
    "* **반복측정이 없어서 상호작용효과 $A\\times B$가 오차와 교락되어 있으므로, 각 요인의 효과는 파악할 수 없음**\n",
    "    - **상호작용효과를 무시할 수 없다면, 상호작용효과에 의한 변동을 오차에 의한 변동으로 보고 F검정 시행 가능**\n",
    "    - 상호작용효과가 무시되지 않는 경우에는 실험을 반복하여 상호작용효과를 오차와 분리시키는 것을 지양\n",
    "\n",
    "<br>\n",
    "\n",
    "| 요인 | 제곱합 | 자유도 | 평균제곱 |\n",
    "| - | - | - | - |\n",
    "| $A$ | $SS_A$| 1| $MS_A$ |\n",
    "| $B$ | $SS_B$| 1|  $MS_B$|\n",
    "| $A\\times$$B$ (또는 $E$)| $SS$$_{A\\times B}$| 1|  $MS$$_{A\\times B}$|\n",
    "| |\n",
    "| $T$ | $SS_T$| 3|  |"
   ]
  },
  {
   "cell_type": "markdown",
   "id": "44d5ffaf",
   "metadata": {},
   "source": [
    "<br>\n",
    "\n",
    "### 반복이 있는 경우\n",
    "- 반복이 r회 있는 $2^2$요인배치법\n",
    "    - **$T_{00.}, T_{10.}, T_{01.}, T_{11.}$은 4개의 수준조합에서의 r개의 자료합**\n",
    "\n",
    "| | $A_0$ | $A_1$ | $T_{.j.}$ |\n",
    "| - | - | - | - |\n",
    "| $B_0$ | $\\begin{pmatrix}x_{001}\\\\\\vdots\\\\x_{00r}\\end{pmatrix}=T_{00.}$ | $\\begin{pmatrix}x_{101}\\\\\\vdots\\\\x_{10r}\\end{pmatrix}=T_{10.}$| $T_{.0.}$|\n",
    "| $B_1$ | $\\begin{pmatrix}x_{011}\\\\\\vdots\\\\x_{01r}\\end{pmatrix}=T_{01.}$ | $\\begin{pmatrix}x_{111}\\\\\\vdots\\\\x_{11r}\\end{pmatrix}=T_{11.}$| $T_{.1.}$|\n",
    "| |\n",
    "| $T_{i..}$ | $T_{0..}$ | $T_{1..}$ | $T$ |"
   ]
  },
  {
   "cell_type": "markdown",
   "id": "ae8d0474",
   "metadata": {},
   "source": [
    "<br>\n",
    "\n",
    "#### 주효과\n",
    "\n",
    "- 위의 표로부터 주효과와 상호작용효과를 정의\n",
    "    \n",
    "    **A의 주효과**\n",
    "        \n",
    "    $$A= {1\\over{2r}}(ab + a - b -(1))$$\n",
    "    \n",
    "    $$={1\\over{2r}}(T_{1..}  -T_{0..})$$\n",
    "    \n",
    "    <br>\n",
    "    \n",
    "    **B의 주효과**\n",
    "    \n",
    "    $$B= {1\\over{2r}}(ab + b - a -(1))$$\n",
    "    \n",
    "    $$={1\\over{2r}}(T_{.1.}  -T_{.0.})$$"
   ]
  },
  {
   "cell_type": "markdown",
   "id": "2897a3da",
   "metadata": {},
   "source": [
    "<br>\n",
    "\n",
    "#### 상호작용효과   \n",
    "$$AB = {1\\over{2r}}(ab+(1)-a-b)$$\n",
    "\n",
    "$$AB = {1\\over{2r}}(T_{11.}-T_{00.}-T_{10.}-T_{01.})$$"
   ]
  },
  {
   "cell_type": "markdown",
   "id": "2e69d2f5",
   "metadata": {},
   "source": [
    "<br>\n",
    "\n",
    "#### 각 요인의 효과는 모두 대비(contrast)이므로\n",
    "\n",
    "$$SS_A = {1\\over{4r}}(T_{1..}-T_{0..})^2=r(A)^2$$\n",
    "\n",
    "$$SS_B = {1\\over{4r}}(T_{.1.}-T_{.0.})^2=r(B)^2$$\n",
    "\n",
    "$$SS_{A\\times B} = {1\\over{4r}}(T_{1..}-T_{0..})^2=r(AB)^2$$\n",
    "\n",
    "* 총변동은 \n",
    "\n",
    "$$SS_A = \\sum_i \\sum_j \\sum_k x^2_{ijk} - {{T^2}\\over{4r}}$$\n",
    "\n",
    "* 잔차변동은\n",
    "\n",
    "$$SS_E = SS_T - SS_A - SS_B - SS_{A\\times B}$$"
   ]
  },
  {
   "cell_type": "markdown",
   "id": "4052657c",
   "metadata": {},
   "source": [
    "#### 분산분석표\n",
    "\n",
    "<br>\n",
    "\n",
    "| 요인 | 제곱합 | 자유도 | 평균제곱 | $F_0$|\n",
    "| - | - | - | - | - | \n",
    "| $A$ | $SS_A$| 1| $MS_A$ | $MS_A / MS_E$|\n",
    "| $B$ | $SS_B$| 1|  $MS_B$| $MS_B / MS_E$|\n",
    "| $A\\times$$B$| $SS$$_{A\\times B}$| 1|  $MS$$_{A\\times B}$| $MS_{A\\times B}/MS_E$|\n",
    "| $E$| $SS$$_E$| 4(r-1)|  $MS$$_E$| |\n",
    "| |\n",
    "| $T$ | $SS_T$| 4r-1|  |"
   ]
  },
  {
   "cell_type": "markdown",
   "id": "fc8a42a9",
   "metadata": {},
   "source": [
    "<br>\n",
    "\n",
    "#### 제품강도 예시\n",
    "- 온도 A와 습도 B의 두 수준에서 반복이 2회인 $2^2$요인배치 실험\n"
   ]
  },
  {
   "cell_type": "code",
   "execution_count": 13,
   "id": "d884ad1d",
   "metadata": {},
   "outputs": [
    {
     "data": {
      "text/html": [
       "<table class=\"dataframe\">\n",
       "<caption>A tibble: 2 × 3</caption>\n",
       "<thead>\n",
       "\t<tr><th scope=col>humidity</th><th scope=col>0</th><th scope=col>1</th></tr>\n",
       "\t<tr><th scope=col>&lt;fct&gt;</th><th scope=col>&lt;list&gt;</th><th scope=col>&lt;list&gt;</th></tr>\n",
       "</thead>\n",
       "<tbody>\n",
       "\t<tr><td>0</td><td>4, 6</td><td>-2, 2</td></tr>\n",
       "\t<tr><td>1</td><td>3, 7</td><td>-4, -6</td></tr>\n",
       "</tbody>\n",
       "</table>\n"
      ],
      "text/latex": [
       "A tibble: 2 × 3\n",
       "\\begin{tabular}{lll}\n",
       " humidity & 0 & 1\\\\\n",
       " <fct> & <list> & <list>\\\\\n",
       "\\hline\n",
       "\t 0 & 4, 6 & -2, 2\\\\\n",
       "\t 1 & 3, 7 & -4, -6\\\\\n",
       "\\end{tabular}\n"
      ],
      "text/markdown": [
       "\n",
       "A tibble: 2 × 3\n",
       "\n",
       "| humidity &lt;fct&gt; | 0 &lt;list&gt; | 1 &lt;list&gt; |\n",
       "|---|---|---|\n",
       "| 0 | 4, 6 | -2, 2 |\n",
       "| 1 | 3, 7 | -4, -6 |\n",
       "\n"
      ],
      "text/plain": [
       "  humidity 0    1     \n",
       "1 0        4, 6 -2, 2 \n",
       "2 1        3, 7 -4, -6"
      ]
     },
     "metadata": {},
     "output_type": "display_data"
    }
   ],
   "source": [
    "gang <- c(4, 6, 3, 7, -2, 2, -4, -6)\n",
    "temp <- factor(c(0, 0, 0, 0, 1, 1, 1, 1))\n",
    "humidity <- factor(c(0, 0, 1, 1, 0,0, 1, 1))\n",
    "dat = tibble(temp, humidity, gang)\n",
    "\n",
    "dat %>% pivot_wider(id_cols = humidity, values_from = gang, names_from = temp, values_fn = list)"
   ]
  },
  {
   "cell_type": "code",
   "execution_count": 14,
   "id": "6dd3cb6f",
   "metadata": {},
   "outputs": [
    {
     "data": {
      "image/png": "[encoded data removed]",
      "text/plain": [
       "plot without title"
      ]
     },
     "metadata": {
      "image/png": {
       "height": 420,
       "width": 420
      }
     },
     "output_type": "display_data"
    }
   ],
   "source": [
    "dat %>% ggplot(aes(temp, gang, color = humidity)) + geom_boxplot()"
   ]
  },
  {
   "cell_type": "markdown",
   "id": "977aa59d",
   "metadata": {},
   "source": [
    "- 두 요인 간 상호작용효과와 습도 B의 주효과는 없으나, 온도 A의 주효과는 큰 것으로 보임\n",
    "    - A의 경우 $A_0$의 수준에서 강도가 제일 높음"
   ]
  },
  {
   "cell_type": "code",
   "execution_count": 15,
   "id": "6476c519",
   "metadata": {},
   "outputs": [
    {
     "data": {
      "text/html": [
       "<table class=\"dataframe\">\n",
       "<caption>A tibble: 4 × 6</caption>\n",
       "<thead>\n",
       "\t<tr><th scope=col>term</th><th scope=col>df</th><th scope=col>sumsq</th><th scope=col>meansq</th><th scope=col>statistic</th><th scope=col>p.value</th></tr>\n",
       "\t<tr><th scope=col>&lt;chr&gt;</th><th scope=col>&lt;dbl&gt;</th><th scope=col>&lt;dbl&gt;</th><th scope=col>&lt;dbl&gt;</th><th scope=col>&lt;dbl&gt;</th><th scope=col>&lt;dbl&gt;</th></tr>\n",
       "</thead>\n",
       "<tbody>\n",
       "\t<tr><td>temp         </td><td>1</td><td>112.5</td><td>112.5</td><td>22.5</td><td>0.009014481</td></tr>\n",
       "\t<tr><td>humidity     </td><td>1</td><td> 12.5</td><td> 12.5</td><td> 2.5</td><td>0.189003658</td></tr>\n",
       "\t<tr><td>temp:humidity</td><td>1</td><td> 12.5</td><td> 12.5</td><td> 2.5</td><td>0.189003658</td></tr>\n",
       "\t<tr><td>Residuals    </td><td>4</td><td> 20.0</td><td>  5.0</td><td>  NA</td><td>         NA</td></tr>\n",
       "</tbody>\n",
       "</table>\n"
      ],
      "text/latex": [
       "A tibble: 4 × 6\n",
       "\\begin{tabular}{llllll}\n",
       " term & df & sumsq & meansq & statistic & p.value\\\\\n",
       " <chr> & <dbl> & <dbl> & <dbl> & <dbl> & <dbl>\\\\\n",
       "\\hline\n",
       "\t temp          & 1 & 112.5 & 112.5 & 22.5 & 0.009014481\\\\\n",
       "\t humidity      & 1 &  12.5 &  12.5 &  2.5 & 0.189003658\\\\\n",
       "\t temp:humidity & 1 &  12.5 &  12.5 &  2.5 & 0.189003658\\\\\n",
       "\t Residuals     & 4 &  20.0 &   5.0 &   NA &          NA\\\\\n",
       "\\end{tabular}\n"
      ],
      "text/markdown": [
       "\n",
       "A tibble: 4 × 6\n",
       "\n",
       "| term &lt;chr&gt; | df &lt;dbl&gt; | sumsq &lt;dbl&gt; | meansq &lt;dbl&gt; | statistic &lt;dbl&gt; | p.value &lt;dbl&gt; |\n",
       "|---|---|---|---|---|---|\n",
       "| temp          | 1 | 112.5 | 112.5 | 22.5 | 0.009014481 |\n",
       "| humidity      | 1 |  12.5 |  12.5 |  2.5 | 0.189003658 |\n",
       "| temp:humidity | 1 |  12.5 |  12.5 |  2.5 | 0.189003658 |\n",
       "| Residuals     | 4 |  20.0 |   5.0 |   NA |          NA |\n",
       "\n"
      ],
      "text/plain": [
       "  term          df sumsq meansq statistic p.value    \n",
       "1 temp          1  112.5 112.5  22.5      0.009014481\n",
       "2 humidity      1   12.5  12.5   2.5      0.189003658\n",
       "3 temp:humidity 1   12.5  12.5   2.5      0.189003658\n",
       "4 Residuals     4   20.0   5.0    NA               NA"
      ]
     },
     "metadata": {},
     "output_type": "display_data"
    }
   ],
   "source": [
    "aov.out <- aov(gang ~ temp * humidity)\n",
    "tidy(aov.out)"
   ]
  },
  {
   "cell_type": "code",
   "execution_count": 16,
   "id": "979c4ae1",
   "metadata": {},
   "outputs": [
    {
     "data": {
      "text/html": [
       "'A의 주효과의 절댓값 : 7.5'"
      ],
      "text/latex": [
       "'A의 주효과의 절댓값 : 7.5'"
      ],
      "text/markdown": [
       "'A의 주효과의 절댓값 : 7.5'"
      ],
      "text/plain": [
       "[1] \"A의 주효과의 절댓값 : 7.5\""
      ]
     },
     "metadata": {},
     "output_type": "display_data"
    },
    {
     "data": {
      "text/html": [
       "'A의 주효과의 절댓값 : 2.5'"
      ],
      "text/latex": [
       "'A의 주효과의 절댓값 : 2.5'"
      ],
      "text/markdown": [
       "'A의 주효과의 절댓값 : 2.5'"
      ],
      "text/plain": [
       "[1] \"A의 주효과의 절댓값 : 2.5\""
      ]
     },
     "metadata": {},
     "output_type": "display_data"
    },
    {
     "data": {
      "text/html": [
       "'AB의 주효과의 절댓값 : 2.5'"
      ],
      "text/latex": [
       "'AB의 주효과의 절댓값 : 2.5'"
      ],
      "text/markdown": [
       "'AB의 주효과의 절댓값 : 2.5'"
      ],
      "text/plain": [
       "[1] \"AB의 주효과의 절댓값 : 2.5\""
      ]
     },
     "metadata": {},
     "output_type": "display_data"
    }
   ],
   "source": [
    "paste0(\"A의 주효과의 절댓값 : \",sqrt(112.5/2))\n",
    "paste0(\"A의 주효과의 절댓값 : \",sqrt(12.5/2))\n",
    "paste0(\"AB의 주효과의 절댓값 : \",sqrt(12.5/2))"
   ]
  },
  {
   "cell_type": "markdown",
   "id": "f8d3c422",
   "metadata": {},
   "source": [
    "<br>\n",
    "\n",
    "## 07.04. $2^3$요인배치법\n",
    "\n",
    "<br>\n",
    "\n",
    "### 반복이 없는 경우\n",
    "- **$2^3$요인배치법은 요인의 수가 3개이고, 각 요인의 수준이 2인 삼원배치법**\n",
    "- 각 요인이 고정요인이면 실험은 $2\\times 2\\times 2=8$회가 완전히 랜덤한 순서대로 진행\n",
    "\n",
    "- **$2^3$요인배치법의 처리조합은 정육면체의 꼭지점으로 표현 가능**\n",
    "\n",
    "<br>\n",
    "\n",
    "#### 주효과\n",
    "$$A = {1\\over4}(a-1)(b+1)(c+1) = {1\\over4}(a+ac+ab+abc-(1)-c-b-bc)={1\\over4}(T_{1..}-T_{0..})$$\n",
    "\n",
    "$$B = {1\\over4}(a+1)(b-1)(c+1) = {1\\over4}(b+bc+ab+abc-(1)-a-c-ac)={1\\over4}(T_{.1.}-T_{.0.})$$\n",
    "\n",
    "$$C = {1\\over4}(a+1)(b+1)(c-1) = {1\\over4}(c+ac+bc+abc-(1)-a-b-ab)={1\\over4}(T_{..1}-T_{..0})$$\n",
    "\n",
    "<br>\n",
    "\n",
    "#### 상호작용효과\n",
    "\n",
    "$$AB = {1\\over4}(a-1)(b-1)(c+1) = {1\\over4}(ab+(1)-a-b+abc+c-bc-ac)={1\\over4}(T_{11.}+ T_{00.}+T_{01.}-T_{10.})$$\n",
    "\n",
    "$$AC = {1\\over4}(a-1)(b+1)(c-1) = {1\\over4}(ac+(1)-a-c+abc+b-ab-bc)={1\\over4}(T_{1.1}+ T_{0.0}+T_{0.1}-T_{1.0})$$\n",
    "\n",
    "$$BC = {1\\over4}(a+1)(b-1)(c-1) = {1\\over4}(bc+(1)-b-c+abc+a-ab-ac)={1\\over4}(T_{.11}+ T_{.00}+T_{.01}-T_{.10})$$"
   ]
  },
  {
   "cell_type": "markdown",
   "id": "4fbf64fe",
   "metadata": {},
   "source": [
    "\n",
    "<br>\n",
    "\n",
    "| 처리조합 | A | B | AB | C| AC|BC|\n",
    "| - | - | - | - | - | - | - |\n",
    "| $(1)$ | - | - | + | - | + | + |\n",
    "| $a$ | + | - | - | - | - | + |\n",
    "| $b$ | - | + | - | - | + | - |\n",
    "| $ab$ | + | + | + | - | - | - |\n",
    "| $c$ | - | - | + | + | - | - |\n",
    "| $ac$ | + | - | - | + | + | - |\n",
    "| $bc$ | - | + | - | + | - | + |\n",
    "| $abc$ | + | + | + | + | + | + |"
   ]
  },
  {
   "cell_type": "markdown",
   "id": "375d067e",
   "metadata": {},
   "source": [
    "<br>\n",
    "\n",
    "#### 변동\n",
    "- **각 요인의 효과는 대비(contrast)로 볼 수 있으므로**\n",
    "\n",
    "$$SS_A = 2(A)^2 = {1\\over8}(T_{1..}-T_{0..})^2$$\n",
    "\n",
    "$$SS_B = 2(B)^2 = {1\\over8}(T_{.1.}-T_{.0.})^2$$\n",
    "\n",
    "$$SS_C = 2(C)^2 = {1\\over8}(T_{..1}-T_{..0})^2$$\n",
    "\n",
    "$$SS_{A\\times B} = 2(AB)^2 = {1\\over8}(T_{11.}+T_{00.}-T_{01.}-T_{10.})^2$$\n",
    "\n",
    "$$SS_{A\\times C} = 2(AC)^2 = {1\\over8}(T_{1.1}+T_{0.0}-T_{0.1}-T_{1.0})^2$$\n",
    "\n",
    "$$SS_{B\\times C} = 2(BC)^2 = {1\\over8}(T_{.11}+T_{.00}-T_{.01}-T_{.10})^2$$\n",
    "\n",
    "- 총변동은\n",
    "\n",
    "$$SS_T = \\sum_i \\sum_j \\sum_k =x^2_{ijk}- {{T^2}\\over{8}}$$\n",
    "\n",
    "- 잔차변동은\n",
    "\n",
    "$$SS_E = SS_T - SS_A - SS_B - SS_C - SS_{A\\times B} - SS_{A\\times C}-SS_{B\\times C}$$"
   ]
  },
  {
   "cell_type": "markdown",
   "id": "0de0f8e1",
   "metadata": {},
   "source": [
    "<br>\n",
    "\n",
    "#### 예이츠 계산법\n",
    "\n",
    "| 처리조합 | (1) | (2) | (3)|요인효과<br>(2)/($2^{n-1}$r) | 요인변동<br>$(2)^2$/($2^n$r) |\n",
    "| - | - | - | - | - |  - |\n",
    "| (1) | (1) + a| (1)+a+b+ab| abc+bc+ac+c+ab+b+a+(1)| (2)/($2^n$r)=M | CT |\n",
    "| a | b+ab| a-(1)+ab-b| abc-bc+ac-c+ab-b+a-(1)|(3)/($2^{n-1}$r)=A | $SS_A$ |\n",
    "| b | a-(1) | b+ab-(1)-a| abc+bc-ac-c+ab+b-a-(1)|(3)/($2^{n-1}$r)=B | $SS_B$ |\n",
    "| ab | ab-b| ab-b-a+(1)| abc-bc-ac+c+ab-b-a+(1) |(3)/($2^{n-1}$r)=AB | $SS_{A\\times B}$ |\n",
    "| | \n",
    "| (1) | (1) + a| (1)+a+b+ab| abc+bc+ac+c-ab-b-a-(1)|(3)/($2^n$r)=M | CT |\n",
    "| a | b+ab| a-(1)+ab-b| abc-bc+ac-c-ab+b-a+(1)|(3)/($2^{n-1}$r)=AC | $SS_C$ |\n",
    "| b | a-(1) | b+ab-(1)-a| abc+bc-ac-c-ab-b+a+(1)|(3)/($2^{n-1}$r)=BC | $SS_{A\\times C}$ |\n",
    "| ab | ab-b| ab-b-a+(1)| abc-bc-ac+c-ab+b+a-(1)|(3)/($2^{n-1}$r)=ABC | $SS_{B\\times C}$ |\n",
    "\n",
    "<br>\n",
    "\n",
    "#### 분산분석표\n",
    "- 변동이 아주 작은 상호작용효과나, 3요인 상호작용효과를 오차항에 풀링한 후 F검정을 하는 것이 바람직\n",
    "\n",
    "| 요인 | 제곱합 | 자유도 | 평균제곱 |\n",
    "| - | - | - | - |\n",
    "| $A$ | $SS_A$| 1| $MS_A$ |\n",
    "| $B$ | $SS_B$| 1|  $MS_B$|\n",
    "| $C$ | $SS_C$| 1|  $MS_C$|\n",
    "| $A\\times$$B$| $SS$$_{A\\times B}$| 1|  $MS$$_{A\\times B}$|\n",
    "| $A\\times$$C$ | $SS$$_{A\\times C}$| 1|  $MS$$_{A\\times C}$|\n",
    "| $B\\times$$C$| $SS$$_{B\\times C}$| 1|  $MS$$_{B\\times C}$|\n",
    "| $E$(=$A\\times$$B\\times$$C)$| $SS$$_E$| 1|  $MS_E$|\n",
    "| |\n",
    "| $T$ | $SS_T$| 7|  |"
   ]
  },
  {
   "cell_type": "markdown",
   "id": "b37db1ca",
   "metadata": {},
   "source": [
    "<br>\n",
    "\n",
    "#### 제품강도 예시\n",
    "- 온도 A, 습도 B, 압력 C 세 요인의 $2^3$요인배치 실험"
   ]
  },
  {
   "cell_type": "code",
   "execution_count": 17,
   "id": "38062008",
   "metadata": {},
   "outputs": [],
   "source": [
    "gang <- c(2, -5, -12, -17, 15, 13, -2, -7)\n",
    "temp <- factor(rep(c(0, 1), 4))\n",
    "humidity <- factor(c(rep(0, 4), rep(1, 4)))\n",
    "pressure <-factor(rep(c(0, 0, 1, 1), 2))\n",
    "dat = tibble(gang, temp, humidity, pressure)"
   ]
  },
  {
   "cell_type": "markdown",
   "id": "dc99d8a7",
   "metadata": {},
   "source": [
    "- **$SS_{A\\times B}, SS_{A\\times C}$의 효과는 작은 값을 가지므로, 오차항에 풀링 (모형에서 제거)**"
   ]
  },
  {
   "cell_type": "code",
   "execution_count": 18,
   "id": "cdab2465",
   "metadata": {},
   "outputs": [
    {
     "data": {
      "text/html": [
       "<table class=\"dataframe\">\n",
       "<caption>A tibble: 7 × 5</caption>\n",
       "<thead>\n",
       "\t<tr><th scope=col>term</th><th scope=col>df</th><th scope=col>sumsq</th><th scope=col>meansq</th><th scope=col>effect</th></tr>\n",
       "\t<tr><th scope=col>&lt;chr&gt;</th><th scope=col>&lt;dbl&gt;</th><th scope=col>&lt;dbl&gt;</th><th scope=col>&lt;dbl&gt;</th><th scope=col>&lt;dbl&gt;</th></tr>\n",
       "</thead>\n",
       "<tbody>\n",
       "\t<tr><td>temp                  </td><td>1</td><td> 45.125</td><td> 45.125</td><td> 4.75</td></tr>\n",
       "\t<tr><td>humidity              </td><td>1</td><td>325.125</td><td>325.125</td><td>12.75</td></tr>\n",
       "\t<tr><td>pressure              </td><td>1</td><td>496.125</td><td>496.125</td><td>15.75</td></tr>\n",
       "\t<tr><td>temp:humidity         </td><td>1</td><td>  3.125</td><td>  3.125</td><td> 1.25</td></tr>\n",
       "\t<tr><td>temp:pressure         </td><td>1</td><td>  0.125</td><td>  0.125</td><td> 0.25</td></tr>\n",
       "\t<tr><td>humidity:pressure     </td><td>1</td><td> 15.125</td><td> 15.125</td><td> 2.75</td></tr>\n",
       "\t<tr><td>temp:humidity:pressure</td><td>1</td><td>  3.125</td><td>  3.125</td><td> 1.25</td></tr>\n",
       "</tbody>\n",
       "</table>\n"
      ],
      "text/latex": [
       "A tibble: 7 × 5\n",
       "\\begin{tabular}{lllll}\n",
       " term & df & sumsq & meansq & effect\\\\\n",
       " <chr> & <dbl> & <dbl> & <dbl> & <dbl>\\\\\n",
       "\\hline\n",
       "\t temp                   & 1 &  45.125 &  45.125 &  4.75\\\\\n",
       "\t humidity               & 1 & 325.125 & 325.125 & 12.75\\\\\n",
       "\t pressure               & 1 & 496.125 & 496.125 & 15.75\\\\\n",
       "\t temp:humidity          & 1 &   3.125 &   3.125 &  1.25\\\\\n",
       "\t temp:pressure          & 1 &   0.125 &   0.125 &  0.25\\\\\n",
       "\t humidity:pressure      & 1 &  15.125 &  15.125 &  2.75\\\\\n",
       "\t temp:humidity:pressure & 1 &   3.125 &   3.125 &  1.25\\\\\n",
       "\\end{tabular}\n"
      ],
      "text/markdown": [
       "\n",
       "A tibble: 7 × 5\n",
       "\n",
       "| term &lt;chr&gt; | df &lt;dbl&gt; | sumsq &lt;dbl&gt; | meansq &lt;dbl&gt; | effect &lt;dbl&gt; |\n",
       "|---|---|---|---|---|\n",
       "| temp                   | 1 |  45.125 |  45.125 |  4.75 |\n",
       "| humidity               | 1 | 325.125 | 325.125 | 12.75 |\n",
       "| pressure               | 1 | 496.125 | 496.125 | 15.75 |\n",
       "| temp:humidity          | 1 |   3.125 |   3.125 |  1.25 |\n",
       "| temp:pressure          | 1 |   0.125 |   0.125 |  0.25 |\n",
       "| humidity:pressure      | 1 |  15.125 |  15.125 |  2.75 |\n",
       "| temp:humidity:pressure | 1 |   3.125 |   3.125 |  1.25 |\n",
       "\n"
      ],
      "text/plain": [
       "  term                   df sumsq   meansq  effect\n",
       "1 temp                   1   45.125  45.125  4.75 \n",
       "2 humidity               1  325.125 325.125 12.75 \n",
       "3 pressure               1  496.125 496.125 15.75 \n",
       "4 temp:humidity          1    3.125   3.125  1.25 \n",
       "5 temp:pressure          1    0.125   0.125  0.25 \n",
       "6 humidity:pressure      1   15.125  15.125  2.75 \n",
       "7 temp:humidity:pressure 1    3.125   3.125  1.25 "
      ]
     },
     "metadata": {},
     "output_type": "display_data"
    }
   ],
   "source": [
    "tidy(aov(gang ~ temp*humidity*pressure, dat)) %>% \n",
    "    mutate(effect = sqrt(sumsq/2))"
   ]
  },
  {
   "cell_type": "markdown",
   "id": "a1a4ad11",
   "metadata": {},
   "source": [
    "- B와 C간 어느정도 상호작용은 존재하지만, 크지 않음"
   ]
  },
  {
   "cell_type": "code",
   "execution_count": 19,
   "id": "8f5602c0",
   "metadata": {},
   "outputs": [
    {
     "data": {
      "text/html": [
       "<table class=\"dataframe\">\n",
       "<caption>A tibble: 5 × 7</caption>\n",
       "<thead>\n",
       "\t<tr><th scope=col>term</th><th scope=col>df</th><th scope=col>sumsq</th><th scope=col>meansq</th><th scope=col>statistic</th><th scope=col>p.value</th><th scope=col>effect</th></tr>\n",
       "\t<tr><th scope=col>&lt;chr&gt;</th><th scope=col>&lt;dbl&gt;</th><th scope=col>&lt;dbl&gt;</th><th scope=col>&lt;dbl&gt;</th><th scope=col>&lt;dbl&gt;</th><th scope=col>&lt;dbl&gt;</th><th scope=col>&lt;dbl&gt;</th></tr>\n",
       "</thead>\n",
       "<tbody>\n",
       "\t<tr><td>temp             </td><td>1</td><td> 45.125</td><td> 45.125</td><td> 21.235294</td><td>0.019220053</td><td> 4.75</td></tr>\n",
       "\t<tr><td>humidity         </td><td>1</td><td>325.125</td><td>325.125</td><td>153.000000</td><td>0.001138435</td><td>12.75</td></tr>\n",
       "\t<tr><td>pressure         </td><td>1</td><td>496.125</td><td>496.125</td><td>233.470588</td><td>0.000608788</td><td>15.75</td></tr>\n",
       "\t<tr><td>humidity:pressure</td><td>1</td><td> 15.125</td><td> 15.125</td><td>  7.117647</td><td>0.075826491</td><td> 2.75</td></tr>\n",
       "\t<tr><td>Residuals        </td><td>3</td><td>  6.375</td><td>  2.125</td><td>        NA</td><td>         NA</td><td>   NA</td></tr>\n",
       "</tbody>\n",
       "</table>\n"
      ],
      "text/latex": [
       "A tibble: 5 × 7\n",
       "\\begin{tabular}{lllllll}\n",
       " term & df & sumsq & meansq & statistic & p.value & effect\\\\\n",
       " <chr> & <dbl> & <dbl> & <dbl> & <dbl> & <dbl> & <dbl>\\\\\n",
       "\\hline\n",
       "\t temp              & 1 &  45.125 &  45.125 &  21.235294 & 0.019220053 &  4.75\\\\\n",
       "\t humidity          & 1 & 325.125 & 325.125 & 153.000000 & 0.001138435 & 12.75\\\\\n",
       "\t pressure          & 1 & 496.125 & 496.125 & 233.470588 & 0.000608788 & 15.75\\\\\n",
       "\t humidity:pressure & 1 &  15.125 &  15.125 &   7.117647 & 0.075826491 &  2.75\\\\\n",
       "\t Residuals         & 3 &   6.375 &   2.125 &         NA &          NA &    NA\\\\\n",
       "\\end{tabular}\n"
      ],
      "text/markdown": [
       "\n",
       "A tibble: 5 × 7\n",
       "\n",
       "| term &lt;chr&gt; | df &lt;dbl&gt; | sumsq &lt;dbl&gt; | meansq &lt;dbl&gt; | statistic &lt;dbl&gt; | p.value &lt;dbl&gt; | effect &lt;dbl&gt; |\n",
       "|---|---|---|---|---|---|---|\n",
       "| temp              | 1 |  45.125 |  45.125 |  21.235294 | 0.019220053 |  4.75 |\n",
       "| humidity          | 1 | 325.125 | 325.125 | 153.000000 | 0.001138435 | 12.75 |\n",
       "| pressure          | 1 | 496.125 | 496.125 | 233.470588 | 0.000608788 | 15.75 |\n",
       "| humidity:pressure | 1 |  15.125 |  15.125 |   7.117647 | 0.075826491 |  2.75 |\n",
       "| Residuals         | 3 |   6.375 |   2.125 |         NA |          NA |    NA |\n",
       "\n"
      ],
      "text/plain": [
       "  term              df sumsq   meansq  statistic  p.value     effect\n",
       "1 temp              1   45.125  45.125  21.235294 0.019220053  4.75 \n",
       "2 humidity          1  325.125 325.125 153.000000 0.001138435 12.75 \n",
       "3 pressure          1  496.125 496.125 233.470588 0.000608788 15.75 \n",
       "4 humidity:pressure 1   15.125  15.125   7.117647 0.075826491  2.75 \n",
       "5 Residuals         3    6.375   2.125         NA          NA    NA "
      ]
     },
     "metadata": {},
     "output_type": "display_data"
    }
   ],
   "source": [
    "tidy(aov(gang ~ temp + humidity + pressure + humidity:pressure)) %>%\n",
    "    mutate(effect = ifelse(!is.na(statistic), sqrt(sumsq/2), NA))"
   ]
  },
  {
   "cell_type": "markdown",
   "id": "3640fd4f",
   "metadata": {},
   "source": [
    "- 온도 A는 $A_0$수준, 습도 B는 $B_1$, 강도 C는 $C_0$수준의 제품의 강도를 가장 높게 하는 조건"
   ]
  },
  {
   "cell_type": "code",
   "execution_count": 20,
   "id": "757928e9",
   "metadata": {},
   "outputs": [
    {
     "data": {
      "text/html": [
       "<table class=\"dataframe\">\n",
       "<caption>A tibble: 2 × 2</caption>\n",
       "<thead>\n",
       "\t<tr><th scope=col>temp</th><th scope=col>mean(gang)</th></tr>\n",
       "\t<tr><th scope=col>&lt;fct&gt;</th><th scope=col>&lt;dbl&gt;</th></tr>\n",
       "</thead>\n",
       "<tbody>\n",
       "\t<tr><td>0</td><td> 0.75</td></tr>\n",
       "\t<tr><td>1</td><td>-4.00</td></tr>\n",
       "</tbody>\n",
       "</table>\n"
      ],
      "text/latex": [
       "A tibble: 2 × 2\n",
       "\\begin{tabular}{ll}\n",
       " temp & mean(gang)\\\\\n",
       " <fct> & <dbl>\\\\\n",
       "\\hline\n",
       "\t 0 &  0.75\\\\\n",
       "\t 1 & -4.00\\\\\n",
       "\\end{tabular}\n"
      ],
      "text/markdown": [
       "\n",
       "A tibble: 2 × 2\n",
       "\n",
       "| temp &lt;fct&gt; | mean(gang) &lt;dbl&gt; |\n",
       "|---|---|\n",
       "| 0 |  0.75 |\n",
       "| 1 | -4.00 |\n",
       "\n"
      ],
      "text/plain": [
       "  temp mean(gang)\n",
       "1 0     0.75     \n",
       "2 1    -4.00     "
      ]
     },
     "metadata": {},
     "output_type": "display_data"
    },
    {
     "data": {
      "text/html": [
       "<table class=\"dataframe\">\n",
       "<caption>A tibble: 2 × 2</caption>\n",
       "<thead>\n",
       "\t<tr><th scope=col>humidity</th><th scope=col>mean(gang)</th></tr>\n",
       "\t<tr><th scope=col>&lt;fct&gt;</th><th scope=col>&lt;dbl&gt;</th></tr>\n",
       "</thead>\n",
       "<tbody>\n",
       "\t<tr><td>0</td><td>-8.00</td></tr>\n",
       "\t<tr><td>1</td><td> 4.75</td></tr>\n",
       "</tbody>\n",
       "</table>\n"
      ],
      "text/latex": [
       "A tibble: 2 × 2\n",
       "\\begin{tabular}{ll}\n",
       " humidity & mean(gang)\\\\\n",
       " <fct> & <dbl>\\\\\n",
       "\\hline\n",
       "\t 0 & -8.00\\\\\n",
       "\t 1 &  4.75\\\\\n",
       "\\end{tabular}\n"
      ],
      "text/markdown": [
       "\n",
       "A tibble: 2 × 2\n",
       "\n",
       "| humidity &lt;fct&gt; | mean(gang) &lt;dbl&gt; |\n",
       "|---|---|\n",
       "| 0 | -8.00 |\n",
       "| 1 |  4.75 |\n",
       "\n"
      ],
      "text/plain": [
       "  humidity mean(gang)\n",
       "1 0        -8.00     \n",
       "2 1         4.75     "
      ]
     },
     "metadata": {},
     "output_type": "display_data"
    },
    {
     "data": {
      "text/html": [
       "<table class=\"dataframe\">\n",
       "<caption>A tibble: 2 × 2</caption>\n",
       "<thead>\n",
       "\t<tr><th scope=col>pressure</th><th scope=col>mean(gang)</th></tr>\n",
       "\t<tr><th scope=col>&lt;fct&gt;</th><th scope=col>&lt;dbl&gt;</th></tr>\n",
       "</thead>\n",
       "<tbody>\n",
       "\t<tr><td>0</td><td> 6.25</td></tr>\n",
       "\t<tr><td>1</td><td>-9.50</td></tr>\n",
       "</tbody>\n",
       "</table>\n"
      ],
      "text/latex": [
       "A tibble: 2 × 2\n",
       "\\begin{tabular}{ll}\n",
       " pressure & mean(gang)\\\\\n",
       " <fct> & <dbl>\\\\\n",
       "\\hline\n",
       "\t 0 &  6.25\\\\\n",
       "\t 1 & -9.50\\\\\n",
       "\\end{tabular}\n"
      ],
      "text/markdown": [
       "\n",
       "A tibble: 2 × 2\n",
       "\n",
       "| pressure &lt;fct&gt; | mean(gang) &lt;dbl&gt; |\n",
       "|---|---|\n",
       "| 0 |  6.25 |\n",
       "| 1 | -9.50 |\n",
       "\n"
      ],
      "text/plain": [
       "  pressure mean(gang)\n",
       "1 0         6.25     \n",
       "2 1        -9.50     "
      ]
     },
     "metadata": {},
     "output_type": "display_data"
    }
   ],
   "source": [
    "dat %>% group_by(temp) %>% summarise(mean(gang))\n",
    "\n",
    "dat %>% group_by(humidity) %>% summarise(mean(gang))\n",
    "\n",
    "dat %>% group_by(pressure) %>% summarise(mean(gang))"
   ]
  },
  {
   "cell_type": "markdown",
   "id": "d94cd5f4",
   "metadata": {},
   "source": [
    "<br>\n",
    "\n",
    "### 반복이 있는 경우\n",
    "- 반복이 r회 있는 $2^3$요인배치법은 8r회 실험을 완전랜덤하게 실행\n",
    "- **각 처리조합에서 반복이 있으므로, 3요인 간의 상호작용효과를 오차와 분리가능**\n",
    "\n",
    "$$x_{ijkl} = \\mu + \\alpha_i + \\beta_j + \\gamma_k + (\\alpha \\beta)_{ij} + (\\alpha \\gamma)_{jk}+(\\beta \\gamma)_{ik}+(\\alpha \\beta \\gamma)_{ijk}+\\epsilon_{ijkl}$$\n",
    "\n",
    "$$l=1, \\dots, r$$"
   ]
  },
  {
   "cell_type": "markdown",
   "id": "52ff94f6",
   "metadata": {},
   "source": [
    "<br>\n",
    "\n",
    "#### 효과와 변동\n",
    "- 각 요인의 효과는 대비(contrast) \n",
    "\n",
    "\n",
    "\n",
    "$$A = {1\\over{4r}}(T_{1...}-T_{0...}),\\;\\;\\;SS_A={1\\over{8r}}(T_{1...}-T_{0...})=2r(A)^2$$\n",
    "\n",
    "$$B = {1\\over{4r}}(T_{.1..}-T_{.0..}),\\;\\;\\;SS_B={1\\over{8r}}(T_{.1..}-T_{.0..})=2r(B)^2$$\n",
    "\n",
    "$$C = {1\\over{4r}}(T_{..1.}-T_{..0.}),\\;\\;\\;SS_C={1\\over{8r}}(T_{..1.}-T_{..0.})=2r(C)^2$$\n",
    "\n",
    "\n",
    "<br>\n",
    "\n",
    "$$AB = {1\\over{4r}}(T_{11..}-T_{00..}),\\;\\;\\;SS_{A\\times B}={1\\over{8r}}(T_{11..}-T_{00..}-T_{01..}-T_{10..})^2$$\n",
    "\n",
    "$$AC = {1\\over{4r}}(T_{1.1.}-T_{0.0.}),\\;\\;\\;SS_{A\\times C}={1\\over{8r}}(T_{1.1.}-T_{0.0.}-T_{0.1.}-T_{1.0.})^2$$\n",
    "\n",
    "$$BC = {1\\over{4r}}(T_{.11.}-T_{.00.}),\\;\\;\\;SS_{B\\times C}={1\\over{8r}}(T_{.11.}-T_{.00.}-T_{.01.}-T_{.10.})^2$$\n",
    "\n",
    "<br>\n",
    "\n",
    "$$ABC = {1\\over{4r}}(-(1)+a+b-ab+c-ac-bc+abc),\\;\\;\\;SS_{A\\times B\\times C}={1\\over{8r}}(T_{111.}+T_{100.}+T_{010.}+T_{001.}-T_{011.}-T_{101.}-T_{110.}-T_{000.})^2$$\n",
    "\n",
    "- 총변동은\n",
    "\n",
    "$$SS_T = \\sum_i \\sum_j \\sum_k \\sum_l x^2_{ijkl}-CT$$\n",
    "\n",
    "- 오차변동은\n",
    "\n",
    "$$SS_E = SS_T - (SS_A+SS_B+SS_C+SS_{A\\times B}+SS_{A\\times C}+SS_{B\\times C}+SS_{A\\times B\\times C})$$"
   ]
  },
  {
   "cell_type": "markdown",
   "id": "8f2adc9e",
   "metadata": {},
   "source": [
    "<br>\n",
    "\n",
    "#### 분산분석표\n",
    "\n",
    "\n",
    "| 요인 | 제곱합 | 자유도 | 평균제곱 |\n",
    "| - | - | - | - |\n",
    "| $A$ | $SS_A$| 1| $MS_A$ |\n",
    "| $B$ | $SS_B$| 1|  $MS_B$|\n",
    "| $C$ | $SS_C$| 1|  $MS_C$|\n",
    "| $A\\times$$B$| $SS$$_{A\\times B}$| 1|  $MS$$_{A\\times B}$|\n",
    "| $A\\times$$C$ | $SS$$_{A\\times C}$| 1|  $MS$$_{A\\times C}$|\n",
    "| $B\\times$$C$| $SS$$_{B\\times C}$| 1|  $MS$$_{B\\times C}$|\n",
    "| $A\\times$$B\\times$$C$| $SS$$_{A\\times B\\times C}$| 1|  $MS$$_{A\\times B\\times C}$|\n",
    "| $E$| $SS$$_E$| 8(r-1)|  $MS_E$|\n",
    "| |\n",
    "| $T$ | $SS_T$| 8r-1|  |"
   ]
  },
  {
   "cell_type": "markdown",
   "id": "da2ee570",
   "metadata": {},
   "source": [
    "<br>\n",
    "\n",
    "## 07.05. $2^n$요인배치법\n",
    "\n",
    "- 요인의 수가 n개이고 각 요인의 수준수가 2인 경우\n",
    "\n",
    "    실험횟수가 $2^n$이고, 각 처리의 조합에서 실험이 r회 반복된다면 총실험횟수는 $r\\times 2^n$회"
   ]
  },
  {
   "cell_type": "markdown",
   "id": "faf6d940",
   "metadata": {},
   "source": [
    "\n",
    "<br>\n",
    "\n",
    "| 처리조합 | A | B | AB | C| AC|BC|\n",
    "| - | - | - | - | - | - | - |\n",
    "| $(1)$ | - | - | + | - | + | + |\n",
    "| $a$ | + | - | - | - | - | + |\n",
    "| $b$ | - | + | - | - | + | - |\n",
    "| $ab$ | + | + | + | - | - | - |\n",
    "| $c$ | - | - | + | + | - | - |\n",
    "| $ac$ | + | - | - | + | + | - |\n",
    "| $bc$ | - | + | - | + | - | + |\n",
    "| $abc$ | + | + | + | + | + | + |\n",
    "\n",
    "와 같이 **주효과의 열은 그 주효과와 같은문자를 포함하는 행에 '+'를, 나머지에는 '-'를 표시**\n",
    "\n",
    "<br>\n",
    "\n",
    "**상호작용효과의 열은 그 상호작용효과를 구성하는 요인의 주효과에 '+', 나머지에는 '-'를 표시**\n",
    "\n",
    "<br>\n",
    "\n",
    "#### 효과\n",
    "- **구하고자하는 요인에 해당하는 곳은 -1, 해당하지 않는 곳은 +1을 넣어 계산**\n",
    "- 예를 들어\n",
    "\n",
    "    $$AC = {1\\over8}(a-1)(b+1)(c-1)(d+1)$$\n",
    "    \n",
    "    $$={1\\over8}((1)+b+d+ac+bd+abc+acd+abcd-a-ab-ad-abd-bc-bcd-c-cd)$$\n",
    "    \n",
    "<br>\n",
    "\n",
    "#### 변동\n",
    "\n",
    "- **각 요인의 변동은 각 요인효과를 대비로 볼 수 있으므로**\n",
    "\n",
    "    $$요인변동=2^{n-2}r(요인효과)^2$$가 성립\n",
    "    \n",
    "    예를 들어\n",
    "    \n",
    "    $$AC={1\\over{8r}}(T_{1.1..} + T_{010..}-T_{1.0..}-T_{0.1..})$$이 되고, 그 변동은\n",
    "    \n",
    "    $$SS_{A\\times C}={1\\over{16r}}(T_{1.1..} + T_{010..}-T_{1.0..}-T_{0.1..})^2$$"
   ]
  },
  {
   "cell_type": "markdown",
   "id": "094f3eb0",
   "metadata": {},
   "source": [
    "<br>\n",
    "\n",
    "#### 분산분석표\n",
    "- 오차항 위에 나열된 모든 요인의 자유도의 합은 $r=1$인 경우\n",
    "\n",
    "| | 요인 | 자유도 |\n",
    "| - | - | - |\n",
    "| 주효과 | A<br>B<br>$\\vdots$ | $\\begin{pmatrix}1\\\\1\\\\\\vdots\\end{pmatrix}$n$C_1$=$n$ |\n",
    "| |\n",
    "| 2요인 상호작용효과 | AB<br>AC<br>$\\vdots$ | $\\begin{pmatrix}1\\\\1\\\\\\vdots\\end{pmatrix}$n$C_2$ |\n",
    "| |\n",
    "| 3요인 상호작용효과 | ABC<br>ABD<br>$\\vdots$ | $\\begin{pmatrix}1\\\\1\\\\\\vdots\\end{pmatrix}$n$C_3$ |\n",
    "| |\n",
    "| n요인 상호작용효과 | ABCD<br>$\\vdots$ | $\\begin{pmatrix}1\\\\1\\\\\\vdots\\end{pmatrix}$n$C_n$=1 |\n",
    "| |\n",
    "| 오차 | E | $2^n$(n-1)|\n",
    "| | \n",
    "| 총 | T | r$2^n$-1|"
   ]
  },
  {
   "cell_type": "markdown",
   "id": "d89c8f76",
   "metadata": {},
   "source": [
    "<br>\n",
    "\n",
    "#### 그러나 일반적으로 3요인 이상의 상호작용효과는 실질적인 의미가 적음"
   ]
  },
  {
   "cell_type": "markdown",
   "id": "1bd02f31",
   "metadata": {},
   "source": [
    "<br>\n",
    "\n",
    "#### 제품강도 예시\n",
    "- 온도 A, 습도 B, 압력 C, 진동 D 네 요인의 $2^4$요인배치 실험"
   ]
  },
  {
   "cell_type": "code",
   "execution_count": 41,
   "id": "2eae6154",
   "metadata": {},
   "outputs": [],
   "source": [
    "strength <- c(-1, 5, 9, 11, 0, 3, 4, 8, -1, -9, 1, -5, -9, -13, 5, -4)\n",
    "temp <- rep(c(rep(-1, 4), rep(1, 4)), 2) %>% factor\n",
    "humid <- rep(c(-1, -1, 1, 1), 4) %>% factor\n",
    "press <- rep(c(-1, 1), 8) %>% factor\n",
    "vib <- c(rep(-1, 8), rep(1, 8)) %>% factor\n",
    "\n",
    "order = sample(16) # 전체 실험 랜덤화\n",
    "dat = data.frame(strength, temp, humid, press, vib, order)"
   ]
  },
  {
   "cell_type": "markdown",
   "id": "a51ec8f0",
   "metadata": {},
   "source": [
    "- 정규성 검정 : 정규분포 만족"
   ]
  },
  {
   "cell_type": "code",
   "execution_count": 42,
   "id": "adf8b1ed",
   "metadata": {},
   "outputs": [
    {
     "data": {
      "text/plain": [
       "\n",
       "\tShapiro-Wilk normality test\n",
       "\n",
       "data:  strength\n",
       "W = 0.97048, p-value = 0.8463\n"
      ]
     },
     "metadata": {},
     "output_type": "display_data"
    }
   ],
   "source": [
    "shapiro.test(strength)"
   ]
  },
  {
   "cell_type": "code",
   "execution_count": 43,
   "id": "60468345",
   "metadata": {},
   "outputs": [
    {
     "data": {
      "image/png": "[encoded data removed]",
      "text/plain": [
       "plot without title"
      ]
     },
     "metadata": {
      "image/png": {
       "height": 420,
       "width": 420
      }
     },
     "output_type": "display_data"
    }
   ],
   "source": [
    "p1 <- dat %>% ggplot(aes(sample = strength)) + stat_qq() + stat_qq_line(color = \"red\")\n",
    "p2 <- dat %>% ggplot() + geom_density(aes(x = strength))\n",
    "gridExtra::grid.arrange(p1, p2)"
   ]
  },
  {
   "cell_type": "markdown",
   "id": "bf93f0e7",
   "metadata": {},
   "source": [
    "- vib의 효과가 가장 크고, humidity가 그 다음으로 크다고 추정"
   ]
  },
  {
   "cell_type": "code",
   "execution_count": 44,
   "id": "145cbad0",
   "metadata": {
    "scrolled": false
   },
   "outputs": [
    {
     "data": {
      "image/png": "[encoded data removed]",
      "text/plain": [
       "plot without title"
      ]
     },
     "metadata": {
      "image/png": {
       "height": 420,
       "width": 420
      }
     },
     "output_type": "display_data"
    }
   ],
   "source": [
    "p1 <-dat %>% ggplot(aes(temp,strength)) + geom_boxplot() \n",
    "p2 <-dat %>% ggplot(aes(humid,strength)) + geom_boxplot() \n",
    "p3 <-dat %>% ggplot(aes(press,strength)) + geom_boxplot() \n",
    "p4 <-dat %>% ggplot(aes(vib,strength)) + geom_boxplot() \n",
    "gridExtra::grid.arrange(p1, p2, p3, p4, nrow =2)"
   ]
  },
  {
   "cell_type": "markdown",
   "id": "1d3a5df0",
   "metadata": {},
   "source": [
    "<br>\n",
    "\n",
    "- 유의한 효과 없음"
   ]
  },
  {
   "cell_type": "code",
   "execution_count": 45,
   "id": "9f7e4918",
   "metadata": {},
   "outputs": [
    {
     "data": {
      "text/html": [
       "<table class=\"dataframe\">\n",
       "<caption>A tibble: 15 × 6</caption>\n",
       "<thead>\n",
       "\t<tr><th scope=col>term</th><th scope=col>df</th><th scope=col>sumsq</th><th scope=col>meansq</th><th scope=col>statistic</th><th scope=col>p.value</th></tr>\n",
       "\t<tr><th scope=col>&lt;chr&gt;</th><th scope=col>&lt;dbl&gt;</th><th scope=col>&lt;dbl&gt;</th><th scope=col>&lt;dbl&gt;</th><th scope=col>&lt;dbl&gt;</th><th scope=col>&lt;dbl&gt;</th></tr>\n",
       "</thead>\n",
       "<tbody>\n",
       "\t<tr><td>temp            </td><td>1</td><td>1.600000e+01</td><td>1.600000e+01</td><td>1.777778e+00</td><td>0.4096655</td></tr>\n",
       "\t<tr><td>humid           </td><td>1</td><td>1.822500e+02</td><td>1.822500e+02</td><td>2.025000e+01</td><td>0.1392090</td></tr>\n",
       "\t<tr><td>press           </td><td>1</td><td>9.000000e+00</td><td>9.000000e+00</td><td>1.000000e+00</td><td>0.5000000</td></tr>\n",
       "\t<tr><td>vib             </td><td>1</td><td>3.422500e+02</td><td>3.422500e+02</td><td>3.802778e+01</td><td>0.1023447</td></tr>\n",
       "\t<tr><td>temp:humid      </td><td>1</td><td>6.250000e+00</td><td>6.250000e+00</td><td>6.944444e-01</td><td>0.5577159</td></tr>\n",
       "\t<tr><td>temp:press      </td><td>1</td><td>1.972152e-31</td><td>1.972152e-31</td><td>2.191280e-32</td><td>1.0000000</td></tr>\n",
       "\t<tr><td>temp:vib        </td><td>1</td><td>2.500000e-01</td><td>2.500000e-01</td><td>2.777778e-02</td><td>0.8948631</td></tr>\n",
       "\t<tr><td>humid:press     </td><td>1</td><td>2.250000e+00</td><td>2.250000e+00</td><td>2.500000e-01</td><td>0.7048328</td></tr>\n",
       "\t<tr><td>humid:vib       </td><td>1</td><td>1.000000e+00</td><td>1.000000e+00</td><td>1.111111e-01</td><td>0.7951672</td></tr>\n",
       "\t<tr><td>press:vib       </td><td>1</td><td>1.102500e+02</td><td>1.102500e+02</td><td>1.225000e+01</td><td>0.1771711</td></tr>\n",
       "\t<tr><td>temp:humid:press</td><td>1</td><td>2.500000e-01</td><td>2.500000e-01</td><td>2.777778e-02</td><td>0.8948631</td></tr>\n",
       "\t<tr><td>temp:humid:vib  </td><td>1</td><td>3.600000e+01</td><td>3.600000e+01</td><td>4.000000e+00</td><td>0.2951672</td></tr>\n",
       "\t<tr><td>temp:press:vib  </td><td>1</td><td>2.500000e-01</td><td>2.500000e-01</td><td>2.777778e-02</td><td>0.8948631</td></tr>\n",
       "\t<tr><td>humid:press:vib </td><td>1</td><td>1.972152e-29</td><td>1.972152e-29</td><td>2.191280e-30</td><td>1.0000000</td></tr>\n",
       "\t<tr><td>Residuals       </td><td>1</td><td>9.000000e+00</td><td>9.000000e+00</td><td>          NA</td><td>       NA</td></tr>\n",
       "</tbody>\n",
       "</table>\n"
      ],
      "text/latex": [
       "A tibble: 15 × 6\n",
       "\\begin{tabular}{llllll}\n",
       " term & df & sumsq & meansq & statistic & p.value\\\\\n",
       " <chr> & <dbl> & <dbl> & <dbl> & <dbl> & <dbl>\\\\\n",
       "\\hline\n",
       "\t temp             & 1 & 1.600000e+01 & 1.600000e+01 & 1.777778e+00 & 0.4096655\\\\\n",
       "\t humid            & 1 & 1.822500e+02 & 1.822500e+02 & 2.025000e+01 & 0.1392090\\\\\n",
       "\t press            & 1 & 9.000000e+00 & 9.000000e+00 & 1.000000e+00 & 0.5000000\\\\\n",
       "\t vib              & 1 & 3.422500e+02 & 3.422500e+02 & 3.802778e+01 & 0.1023447\\\\\n",
       "\t temp:humid       & 1 & 6.250000e+00 & 6.250000e+00 & 6.944444e-01 & 0.5577159\\\\\n",
       "\t temp:press       & 1 & 1.972152e-31 & 1.972152e-31 & 2.191280e-32 & 1.0000000\\\\\n",
       "\t temp:vib         & 1 & 2.500000e-01 & 2.500000e-01 & 2.777778e-02 & 0.8948631\\\\\n",
       "\t humid:press      & 1 & 2.250000e+00 & 2.250000e+00 & 2.500000e-01 & 0.7048328\\\\\n",
       "\t humid:vib        & 1 & 1.000000e+00 & 1.000000e+00 & 1.111111e-01 & 0.7951672\\\\\n",
       "\t press:vib        & 1 & 1.102500e+02 & 1.102500e+02 & 1.225000e+01 & 0.1771711\\\\\n",
       "\t temp:humid:press & 1 & 2.500000e-01 & 2.500000e-01 & 2.777778e-02 & 0.8948631\\\\\n",
       "\t temp:humid:vib   & 1 & 3.600000e+01 & 3.600000e+01 & 4.000000e+00 & 0.2951672\\\\\n",
       "\t temp:press:vib   & 1 & 2.500000e-01 & 2.500000e-01 & 2.777778e-02 & 0.8948631\\\\\n",
       "\t humid:press:vib  & 1 & 1.972152e-29 & 1.972152e-29 & 2.191280e-30 & 1.0000000\\\\\n",
       "\t Residuals        & 1 & 9.000000e+00 & 9.000000e+00 &           NA &        NA\\\\\n",
       "\\end{tabular}\n"
      ],
      "text/markdown": [
       "\n",
       "A tibble: 15 × 6\n",
       "\n",
       "| term &lt;chr&gt; | df &lt;dbl&gt; | sumsq &lt;dbl&gt; | meansq &lt;dbl&gt; | statistic &lt;dbl&gt; | p.value &lt;dbl&gt; |\n",
       "|---|---|---|---|---|---|\n",
       "| temp             | 1 | 1.600000e+01 | 1.600000e+01 | 1.777778e+00 | 0.4096655 |\n",
       "| humid            | 1 | 1.822500e+02 | 1.822500e+02 | 2.025000e+01 | 0.1392090 |\n",
       "| press            | 1 | 9.000000e+00 | 9.000000e+00 | 1.000000e+00 | 0.5000000 |\n",
       "| vib              | 1 | 3.422500e+02 | 3.422500e+02 | 3.802778e+01 | 0.1023447 |\n",
       "| temp:humid       | 1 | 6.250000e+00 | 6.250000e+00 | 6.944444e-01 | 0.5577159 |\n",
       "| temp:press       | 1 | 1.972152e-31 | 1.972152e-31 | 2.191280e-32 | 1.0000000 |\n",
       "| temp:vib         | 1 | 2.500000e-01 | 2.500000e-01 | 2.777778e-02 | 0.8948631 |\n",
       "| humid:press      | 1 | 2.250000e+00 | 2.250000e+00 | 2.500000e-01 | 0.7048328 |\n",
       "| humid:vib        | 1 | 1.000000e+00 | 1.000000e+00 | 1.111111e-01 | 0.7951672 |\n",
       "| press:vib        | 1 | 1.102500e+02 | 1.102500e+02 | 1.225000e+01 | 0.1771711 |\n",
       "| temp:humid:press | 1 | 2.500000e-01 | 2.500000e-01 | 2.777778e-02 | 0.8948631 |\n",
       "| temp:humid:vib   | 1 | 3.600000e+01 | 3.600000e+01 | 4.000000e+00 | 0.2951672 |\n",
       "| temp:press:vib   | 1 | 2.500000e-01 | 2.500000e-01 | 2.777778e-02 | 0.8948631 |\n",
       "| humid:press:vib  | 1 | 1.972152e-29 | 1.972152e-29 | 2.191280e-30 | 1.0000000 |\n",
       "| Residuals        | 1 | 9.000000e+00 | 9.000000e+00 |           NA |        NA |\n",
       "\n"
      ],
      "text/plain": [
       "   term             df sumsq        meansq       statistic    p.value  \n",
       "1  temp             1  1.600000e+01 1.600000e+01 1.777778e+00 0.4096655\n",
       "2  humid            1  1.822500e+02 1.822500e+02 2.025000e+01 0.1392090\n",
       "3  press            1  9.000000e+00 9.000000e+00 1.000000e+00 0.5000000\n",
       "4  vib              1  3.422500e+02 3.422500e+02 3.802778e+01 0.1023447\n",
       "5  temp:humid       1  6.250000e+00 6.250000e+00 6.944444e-01 0.5577159\n",
       "6  temp:press       1  1.972152e-31 1.972152e-31 2.191280e-32 1.0000000\n",
       "7  temp:vib         1  2.500000e-01 2.500000e-01 2.777778e-02 0.8948631\n",
       "8  humid:press      1  2.250000e+00 2.250000e+00 2.500000e-01 0.7048328\n",
       "9  humid:vib        1  1.000000e+00 1.000000e+00 1.111111e-01 0.7951672\n",
       "10 press:vib        1  1.102500e+02 1.102500e+02 1.225000e+01 0.1771711\n",
       "11 temp:humid:press 1  2.500000e-01 2.500000e-01 2.777778e-02 0.8948631\n",
       "12 temp:humid:vib   1  3.600000e+01 3.600000e+01 4.000000e+00 0.2951672\n",
       "13 temp:press:vib   1  2.500000e-01 2.500000e-01 2.777778e-02 0.8948631\n",
       "14 humid:press:vib  1  1.972152e-29 1.972152e-29 2.191280e-30 1.0000000\n",
       "15 Residuals        1  9.000000e+00 9.000000e+00           NA        NA"
      ]
     },
     "metadata": {},
     "output_type": "display_data"
    }
   ],
   "source": [
    "upto3 = aov(strength ~ (temp + humid + press + vib)^3, data = dat)\n",
    "tidy(upto3)"
   ]
  },
  {
   "cell_type": "markdown",
   "id": "7cb73d68",
   "metadata": {},
   "source": [
    "<br>\n",
    "\n",
    "- AIC에 근거한 단계적 회귀"
   ]
  },
  {
   "cell_type": "code",
   "execution_count": null,
   "id": "7c6464be",
   "metadata": {},
   "outputs": [],
   "source": [
    "sreg = step(upto3, direction = \"backward\")\n",
    "summary(sreg)"
   ]
  },
  {
   "cell_type": "markdown",
   "id": "a01b1f8e",
   "metadata": {},
   "source": [
    "```plaintext\n",
    "               Df Sum Sq Mean Sq F value   Pr(>F)\n",
    "temp            1   16.0    16.0   8.421 0.033716 *\n",
    "humid           1  182.2   182.2  95.921 0.000189 ***\n",
    "press           1    9.0     9.0   4.737 0.081479 .\n",
    "vib             1  342.3   342.3 180.132 4.11e-05 ***\n",
    "temp:humid      1    6.2     6.2   3.289 0.129456\n",
    "temp:vib        1    0.2     0.2   0.132 0.731630\n",
    "humid:press     1    2.2     2.2   1.184 0.326151\n",
    "humid:vib       1    1.0     1.0   0.526 0.500680\n",
    "press:vib       1  110.2   110.2  58.026 0.000620 ***\n",
    "temp:humid:vib  1   36.0    36.0  18.947 0.007339 **\n",
    "Residuals       5    9.5     1.9\n",
    "```"
   ]
  },
  {
   "cell_type": "code",
   "execution_count": 47,
   "id": "2de0fbd5",
   "metadata": {},
   "outputs": [
    {
     "data": {
      "text/html": [
       "<table class=\"dataframe\">\n",
       "<caption>A tibble: 7 × 6</caption>\n",
       "<thead>\n",
       "\t<tr><th scope=col>term</th><th scope=col>df</th><th scope=col>sumsq</th><th scope=col>meansq</th><th scope=col>statistic</th><th scope=col>p.value</th></tr>\n",
       "\t<tr><th scope=col>&lt;chr&gt;</th><th scope=col>&lt;dbl&gt;</th><th scope=col>&lt;dbl&gt;</th><th scope=col>&lt;dbl&gt;</th><th scope=col>&lt;dbl&gt;</th><th scope=col>&lt;dbl&gt;</th></tr>\n",
       "</thead>\n",
       "<tbody>\n",
       "\t<tr><td>temp          </td><td>1</td><td> 16.00</td><td> 16.000000</td><td>  8.170213</td><td>2.886369e-02</td></tr>\n",
       "\t<tr><td>humid         </td><td>1</td><td>182.25</td><td>182.250000</td><td> 93.063830</td><td>7.106861e-05</td></tr>\n",
       "\t<tr><td>press         </td><td>1</td><td>  9.00</td><td>  9.000000</td><td>  4.595745</td><td>7.575514e-02</td></tr>\n",
       "\t<tr><td>vib           </td><td>1</td><td>342.25</td><td>342.250000</td><td>174.765957</td><td>1.157271e-05</td></tr>\n",
       "\t<tr><td>press:vib     </td><td>1</td><td>110.25</td><td>110.250000</td><td> 56.297872</td><td>2.898877e-04</td></tr>\n",
       "\t<tr><td>temp:humid:vib</td><td>4</td><td> 43.50</td><td> 10.875000</td><td>  5.553191</td><td>3.233801e-02</td></tr>\n",
       "\t<tr><td>Residuals     </td><td>6</td><td> 11.75</td><td>  1.958333</td><td>        NA</td><td>          NA</td></tr>\n",
       "</tbody>\n",
       "</table>\n"
      ],
      "text/latex": [
       "A tibble: 7 × 6\n",
       "\\begin{tabular}{llllll}\n",
       " term & df & sumsq & meansq & statistic & p.value\\\\\n",
       " <chr> & <dbl> & <dbl> & <dbl> & <dbl> & <dbl>\\\\\n",
       "\\hline\n",
       "\t temp           & 1 &  16.00 &  16.000000 &   8.170213 & 2.886369e-02\\\\\n",
       "\t humid          & 1 & 182.25 & 182.250000 &  93.063830 & 7.106861e-05\\\\\n",
       "\t press          & 1 &   9.00 &   9.000000 &   4.595745 & 7.575514e-02\\\\\n",
       "\t vib            & 1 & 342.25 & 342.250000 & 174.765957 & 1.157271e-05\\\\\n",
       "\t press:vib      & 1 & 110.25 & 110.250000 &  56.297872 & 2.898877e-04\\\\\n",
       "\t temp:humid:vib & 4 &  43.50 &  10.875000 &   5.553191 & 3.233801e-02\\\\\n",
       "\t Residuals      & 6 &  11.75 &   1.958333 &         NA &           NA\\\\\n",
       "\\end{tabular}\n"
      ],
      "text/markdown": [
       "\n",
       "A tibble: 7 × 6\n",
       "\n",
       "| term &lt;chr&gt; | df &lt;dbl&gt; | sumsq &lt;dbl&gt; | meansq &lt;dbl&gt; | statistic &lt;dbl&gt; | p.value &lt;dbl&gt; |\n",
       "|---|---|---|---|---|---|\n",
       "| temp           | 1 |  16.00 |  16.000000 |   8.170213 | 2.886369e-02 |\n",
       "| humid          | 1 | 182.25 | 182.250000 |  93.063830 | 7.106861e-05 |\n",
       "| press          | 1 |   9.00 |   9.000000 |   4.595745 | 7.575514e-02 |\n",
       "| vib            | 1 | 342.25 | 342.250000 | 174.765957 | 1.157271e-05 |\n",
       "| press:vib      | 1 | 110.25 | 110.250000 |  56.297872 | 2.898877e-04 |\n",
       "| temp:humid:vib | 4 |  43.50 |  10.875000 |   5.553191 | 3.233801e-02 |\n",
       "| Residuals      | 6 |  11.75 |   1.958333 |         NA |           NA |\n",
       "\n"
      ],
      "text/plain": [
       "  term           df sumsq  meansq     statistic  p.value     \n",
       "1 temp           1   16.00  16.000000   8.170213 2.886369e-02\n",
       "2 humid          1  182.25 182.250000  93.063830 7.106861e-05\n",
       "3 press          1    9.00   9.000000   4.595745 7.575514e-02\n",
       "4 vib            1  342.25 342.250000 174.765957 1.157271e-05\n",
       "5 press:vib      1  110.25 110.250000  56.297872 2.898877e-04\n",
       "6 temp:humid:vib 4   43.50  10.875000   5.553191 3.233801e-02\n",
       "7 Residuals      6   11.75   1.958333         NA           NA"
      ]
     },
     "metadata": {},
     "output_type": "display_data"
    }
   ],
   "source": [
    "redmod = aov(strength ~ temp + humid + press + vib + press:vib + temp:humid:vib)\n",
    "tidy(redmod)"
   ]
  },
  {
   "cell_type": "markdown",
   "id": "88c0ba45",
   "metadata": {},
   "source": [
    "- 전체 분산 중 모델로 설명되는 변동의 비율"
   ]
  },
  {
   "cell_type": "code",
   "execution_count": 48,
   "id": "00016308",
   "metadata": {},
   "outputs": [
    {
     "data": {
      "text/html": [
       "0.958916083916084"
      ],
      "text/latex": [
       "0.958916083916084"
      ],
      "text/markdown": [
       "0.958916083916084"
      ],
      "text/plain": [
       "[1] 0.9589161"
      ]
     },
     "metadata": {},
     "output_type": "display_data"
    }
   ],
   "source": [
    "summary.lm(redmod)$adj.r.squared"
   ]
  },
  {
   "cell_type": "markdown",
   "id": "95f0f574",
   "metadata": {},
   "source": [
    "<br>\n",
    "\n",
    "**각 효과의 유의확률이 아닌, 각 효과의 값(크기)로 중요성을 판단**"
   ]
  },
  {
   "cell_type": "markdown",
   "id": "865d891a",
   "metadata": {},
   "source": [
    "1. 모든효과를 포함하는 모델 생성"
   ]
  },
  {
   "cell_type": "code",
   "execution_count": 50,
   "id": "67dc6354",
   "metadata": {},
   "outputs": [],
   "source": [
    "q = aov(strength ~ (temp + humid + press + vib)^4, data = dat)"
   ]
  },
  {
   "cell_type": "markdown",
   "id": "398ef322",
   "metadata": {},
   "source": [
    "-효과를 크기순으로 나열"
   ]
  },
  {
   "cell_type": "code",
   "execution_count": 56,
   "id": "af72e837",
   "metadata": {},
   "outputs": [],
   "source": [
    "qef = q$effects[-1]\n",
    "sef = qef[order(qef)]"
   ]
  },
  {
   "cell_type": "markdown",
   "id": "940de3d3",
   "metadata": {},
   "source": [
    "- 정규확률지에서 이론적인 quantile 계산"
   ]
  },
  {
   "cell_type": "code",
   "execution_count": 58,
   "id": "ce13d27d",
   "metadata": {},
   "outputs": [],
   "source": [
    "ip = ppoints(length(sef))\n",
    "zp = qnorm(ip)"
   ]
  },
  {
   "cell_type": "markdown",
   "id": "54163e7b",
   "metadata": {},
   "source": [
    "- 정규확률지에서 수평선에서 많이 벗어난 것이 효과가 큼, 적합된 직선에서 벗어날 수록 효과가 큼 \n",
    "    - 진동 D와 습도 B의 효과가 가장 큼"
   ]
  },
  {
   "cell_type": "code",
   "execution_count": 71,
   "id": "138cdb2f",
   "metadata": {},
   "outputs": [
    {
     "data": {
      "image/png": "[encoded data removed]",
      "text/plain": [
       "plot without title"
      ]
     },
     "metadata": {
      "image/png": {
       "height": 420,
       "width": 420
      }
     },
     "output_type": "display_data"
    }
   ],
   "source": [
    "tibble(zp, sef) %>% ggplot(aes(zp, sef)) + geom_point() + \n",
    "    stat_qq_line(aes(sample = sef), color = \"red\") + geom_hline(yintercept = 0, color = \"blue\") +\n",
    "    xlab(\"Theoretical Quantiles\") + ylab(\"Effects\")"
   ]
  },
  {
   "cell_type": "markdown",
   "id": "36c2bdfd",
   "metadata": {},
   "source": [
    "<br>\n",
    "\n",
    "## 07.03 $3^2$ 요인배치법\n",
    "- 요인수가 2개이고, 각 요인의 수가 3인 이원배치법\n",
    "\n",
    "<br>\n",
    "\n",
    "### 반복이 없는 경우\n",
    "\n",
    "- 요인 A는 수준수가 3이므로, 자유도는 2가 되고\n",
    "\n",
    "    $SS_A$는 2개의 직교하는 대비에 의한 변동으로 분해될 수 잇음\n",
    "    \n",
    "- 만약 요인 A가 계량요인이고, 수준간 간격이 일정할 때는\n",
    "\n",
    "    $SS_A$를 요인의 1차효과 (linear effect)와 2차효과 (quadratic effect)에 의한 변동으로 분해하는 것도 유익\n",
    "    \n",
    "    $$SS_A = SS_l + SS_q$$\n",
    "    \n",
    "<br>\n",
    "\n",
    "### 반복이 있는 경우\n",
    "- 반복이 r회인 $3^r$요인배치법에서, 실험은 $3\\times3\\times r=9r$회를 랜덤한 순서로 실시\n",
    "\n",
    "<br>\n",
    "\n",
    "- 만약 요인 A가 계량요인이고, 수준간 간격이 일정할 때는\n",
    "\n",
    "    $SS_A$를 요인의 1차효과 (linear effect)와 2차효과 (quadratic effect)에 의한 변동으로 분해하며, 마찬가지로\n",
    "    \n",
    "    $$SS_A = SS_l + SS_q$$가 성립"
   ]
  },
  {
   "cell_type": "markdown",
   "id": "3f5c3766",
   "metadata": {},
   "source": [
    "<br>\n",
    "\n",
    "## 07.07. 회귀모형\n",
    "\n",
    "<br>\n",
    "\n",
    "### $2^2$요인배치의 경우\n",
    "\n",
    "<br>\n",
    "\n",
    "#### 팝콘예시\n",
    "- 가열시간 A : $A_0, A_2$\n",
    "- 알맹이종류 B : $B_0, B_1$"
   ]
  },
  {
   "cell_type": "markdown",
   "id": "b98f5437",
   "metadata": {},
   "source": [
    "<br>\n",
    "\n",
    "#### **각 회귀계수는 각 요인의 효과**\n",
    "- 상호작용효과의 계수가 A, B의 주효과보다 작음"
   ]
  },
  {
   "cell_type": "code",
   "execution_count": 79,
   "id": "328b7f63",
   "metadata": {},
   "outputs": [],
   "source": [
    "A <- B <- c(-1, 1)\n",
    "design <- expand.grid(A = A, B = B)\n",
    "A <- design$A; B <- design$B\n",
    "y <- c(52, 74, 62, 80)"
   ]
  },
  {
   "cell_type": "code",
   "execution_count": 80,
   "id": "68e48d77",
   "metadata": {},
   "outputs": [
    {
     "data": {
      "text/html": [
       "<table class=\"dataframe\">\n",
       "<caption>A tibble: 4 × 5</caption>\n",
       "<thead>\n",
       "\t<tr><th scope=col>term</th><th scope=col>estimate</th><th scope=col>std.error</th><th scope=col>statistic</th><th scope=col>p.value</th></tr>\n",
       "\t<tr><th scope=col>&lt;chr&gt;</th><th scope=col>&lt;dbl&gt;</th><th scope=col>&lt;dbl&gt;</th><th scope=col>&lt;dbl&gt;</th><th scope=col>&lt;dbl&gt;</th></tr>\n",
       "</thead>\n",
       "<tbody>\n",
       "\t<tr><td>(Intercept)</td><td>67</td><td>NaN</td><td>NaN</td><td>NaN</td></tr>\n",
       "\t<tr><td>A          </td><td>10</td><td>NaN</td><td>NaN</td><td>NaN</td></tr>\n",
       "\t<tr><td>B          </td><td> 4</td><td>NaN</td><td>NaN</td><td>NaN</td></tr>\n",
       "\t<tr><td>A:B        </td><td>-1</td><td>NaN</td><td>NaN</td><td>NaN</td></tr>\n",
       "</tbody>\n",
       "</table>\n"
      ],
      "text/latex": [
       "A tibble: 4 × 5\n",
       "\\begin{tabular}{lllll}\n",
       " term & estimate & std.error & statistic & p.value\\\\\n",
       " <chr> & <dbl> & <dbl> & <dbl> & <dbl>\\\\\n",
       "\\hline\n",
       "\t (Intercept) & 67 & NaN & NaN & NaN\\\\\n",
       "\t A           & 10 & NaN & NaN & NaN\\\\\n",
       "\t B           &  4 & NaN & NaN & NaN\\\\\n",
       "\t A:B         & -1 & NaN & NaN & NaN\\\\\n",
       "\\end{tabular}\n"
      ],
      "text/markdown": [
       "\n",
       "A tibble: 4 × 5\n",
       "\n",
       "| term &lt;chr&gt; | estimate &lt;dbl&gt; | std.error &lt;dbl&gt; | statistic &lt;dbl&gt; | p.value &lt;dbl&gt; |\n",
       "|---|---|---|---|---|\n",
       "| (Intercept) | 67 | NaN | NaN | NaN |\n",
       "| A           | 10 | NaN | NaN | NaN |\n",
       "| B           |  4 | NaN | NaN | NaN |\n",
       "| A:B         | -1 | NaN | NaN | NaN |\n",
       "\n"
      ],
      "text/plain": [
       "  term        estimate std.error statistic p.value\n",
       "1 (Intercept) 67       NaN       NaN       NaN    \n",
       "2 A           10       NaN       NaN       NaN    \n",
       "3 B            4       NaN       NaN       NaN    \n",
       "4 A:B         -1       NaN       NaN       NaN    "
      ]
     },
     "metadata": {},
     "output_type": "display_data"
    }
   ],
   "source": [
    "popped_cornM1 <- lm(y ~ A*B)\n",
    "tidy(popped_cornM1)"
   ]
  },
  {
   "cell_type": "markdown",
   "id": "8e6d04a3",
   "metadata": {},
   "source": [
    "<br>\n",
    "\n",
    "- 상호작용효과 제거\n",
    "    - 모든 회귀계수 (효과)유의\n",
    "    - 이전 모형과 효과의 변화가 없음"
   ]
  },
  {
   "cell_type": "code",
   "execution_count": 82,
   "id": "ebda2d4f",
   "metadata": {},
   "outputs": [
    {
     "data": {
      "text/html": [
       "<table class=\"dataframe\">\n",
       "<caption>A tibble: 3 × 5</caption>\n",
       "<thead>\n",
       "\t<tr><th scope=col>term</th><th scope=col>estimate</th><th scope=col>std.error</th><th scope=col>statistic</th><th scope=col>p.value</th></tr>\n",
       "\t<tr><th scope=col>&lt;chr&gt;</th><th scope=col>&lt;dbl&gt;</th><th scope=col>&lt;dbl&gt;</th><th scope=col>&lt;dbl&gt;</th><th scope=col>&lt;dbl&gt;</th></tr>\n",
       "</thead>\n",
       "<tbody>\n",
       "\t<tr><td>(Intercept)</td><td>67</td><td>1</td><td>67</td><td>0.009501082</td></tr>\n",
       "\t<tr><td>A          </td><td>10</td><td>1</td><td>10</td><td>0.063451035</td></tr>\n",
       "\t<tr><td>B          </td><td> 4</td><td>1</td><td> 4</td><td>0.155958261</td></tr>\n",
       "</tbody>\n",
       "</table>\n"
      ],
      "text/latex": [
       "A tibble: 3 × 5\n",
       "\\begin{tabular}{lllll}\n",
       " term & estimate & std.error & statistic & p.value\\\\\n",
       " <chr> & <dbl> & <dbl> & <dbl> & <dbl>\\\\\n",
       "\\hline\n",
       "\t (Intercept) & 67 & 1 & 67 & 0.009501082\\\\\n",
       "\t A           & 10 & 1 & 10 & 0.063451035\\\\\n",
       "\t B           &  4 & 1 &  4 & 0.155958261\\\\\n",
       "\\end{tabular}\n"
      ],
      "text/markdown": [
       "\n",
       "A tibble: 3 × 5\n",
       "\n",
       "| term &lt;chr&gt; | estimate &lt;dbl&gt; | std.error &lt;dbl&gt; | statistic &lt;dbl&gt; | p.value &lt;dbl&gt; |\n",
       "|---|---|---|---|---|\n",
       "| (Intercept) | 67 | 1 | 67 | 0.009501082 |\n",
       "| A           | 10 | 1 | 10 | 0.063451035 |\n",
       "| B           |  4 | 1 |  4 | 0.155958261 |\n",
       "\n"
      ],
      "text/plain": [
       "  term        estimate std.error statistic p.value    \n",
       "1 (Intercept) 67       1         67        0.009501082\n",
       "2 A           10       1         10        0.063451035\n",
       "3 B            4       1          4        0.155958261"
      ]
     },
     "metadata": {},
     "output_type": "display_data"
    }
   ],
   "source": [
    "popped_cornM2 <- lm(y ~ A + B)\n",
    "tidy(popped_cornM2)"
   ]
  },
  {
   "cell_type": "markdown",
   "id": "6831a8e1",
   "metadata": {},
   "source": [
    "<br>\n",
    "\n",
    "### $2^4$요인배치의 경우"
   ]
  },
  {
   "cell_type": "code",
   "execution_count": 93,
   "id": "74b6c1f5",
   "metadata": {},
   "outputs": [],
   "source": [
    "strength <- c(-1, 5, 9, 11, 0, 3, 4, 8, -1, -9, 1, -5, -9, -13, 5, -4)\n",
    "temp <- rep(c(rep(-1, 4), rep(1, 4)), 2)\n",
    "humid <- rep(c(-1, -1, 1, 1), 4)\n",
    "press <- rep(c(-1, 1), 8)\n",
    "vib <- c(rep(-1, 8), rep(1, 8))\n",
    "\n",
    "dat = data.frame(strength, temp, humid, press, vib)"
   ]
  },
  {
   "cell_type": "markdown",
   "id": "a4bcc6de",
   "metadata": {},
   "source": [
    "<br>\n",
    "\n",
    "- 절댓값 1을 기준으로, $x_1, x_2, x_4, x_3x_4, x_1x_2x_4$의 효과가 유의"
   ]
  },
  {
   "cell_type": "code",
   "execution_count": 94,
   "id": "00f9cfe9",
   "metadata": {},
   "outputs": [
    {
     "data": {
      "text/html": [
       "<table class=\"dataframe\">\n",
       "<caption>A tibble: 16 × 5</caption>\n",
       "<thead>\n",
       "\t<tr><th scope=col>term</th><th scope=col>estimate</th><th scope=col>std.error</th><th scope=col>statistic</th><th scope=col>p.value</th></tr>\n",
       "\t<tr><th scope=col>&lt;chr&gt;</th><th scope=col>&lt;dbl&gt;</th><th scope=col>&lt;dbl&gt;</th><th scope=col>&lt;dbl&gt;</th><th scope=col>&lt;dbl&gt;</th></tr>\n",
       "</thead>\n",
       "<tbody>\n",
       "\t<tr><td>(Intercept)         </td><td> 2.500000e-01</td><td>NaN</td><td>NaN</td><td>NaN</td></tr>\n",
       "\t<tr><td>temp                </td><td>-1.000000e+00</td><td>NaN</td><td>NaN</td><td>NaN</td></tr>\n",
       "\t<tr><td>humid               </td><td> 3.375000e+00</td><td>NaN</td><td>NaN</td><td>NaN</td></tr>\n",
       "\t<tr><td>press               </td><td>-7.500000e-01</td><td>NaN</td><td>NaN</td><td>NaN</td></tr>\n",
       "\t<tr><td>vib                 </td><td>-4.625000e+00</td><td>NaN</td><td>NaN</td><td>NaN</td></tr>\n",
       "\t<tr><td>temp:humid          </td><td> 6.250000e-01</td><td>NaN</td><td>NaN</td><td>NaN</td></tr>\n",
       "\t<tr><td>temp:press          </td><td>-4.874573e-16</td><td>NaN</td><td>NaN</td><td>NaN</td></tr>\n",
       "\t<tr><td>temp:vib            </td><td> 1.250000e-01</td><td>NaN</td><td>NaN</td><td>NaN</td></tr>\n",
       "\t<tr><td>humid:press         </td><td>-3.750000e-01</td><td>NaN</td><td>NaN</td><td>NaN</td></tr>\n",
       "\t<tr><td>humid:vib           </td><td> 2.500000e-01</td><td>NaN</td><td>NaN</td><td>NaN</td></tr>\n",
       "\t<tr><td>press:vib           </td><td>-2.625000e+00</td><td>NaN</td><td>NaN</td><td>NaN</td></tr>\n",
       "\t<tr><td>temp:humid:press    </td><td>-1.250000e-01</td><td>NaN</td><td>NaN</td><td>NaN</td></tr>\n",
       "\t<tr><td>temp:humid:vib      </td><td> 1.500000e+00</td><td>NaN</td><td>NaN</td><td>NaN</td></tr>\n",
       "\t<tr><td>temp:press:vib      </td><td> 1.250000e-01</td><td>NaN</td><td>NaN</td><td>NaN</td></tr>\n",
       "\t<tr><td>humid:press:vib     </td><td>-9.436896e-16</td><td>NaN</td><td>NaN</td><td>NaN</td></tr>\n",
       "\t<tr><td>temp:humid:press:vib</td><td>-7.500000e-01</td><td>NaN</td><td>NaN</td><td>NaN</td></tr>\n",
       "</tbody>\n",
       "</table>\n"
      ],
      "text/latex": [
       "A tibble: 16 × 5\n",
       "\\begin{tabular}{lllll}\n",
       " term & estimate & std.error & statistic & p.value\\\\\n",
       " <chr> & <dbl> & <dbl> & <dbl> & <dbl>\\\\\n",
       "\\hline\n",
       "\t (Intercept)          &  2.500000e-01 & NaN & NaN & NaN\\\\\n",
       "\t temp                 & -1.000000e+00 & NaN & NaN & NaN\\\\\n",
       "\t humid                &  3.375000e+00 & NaN & NaN & NaN\\\\\n",
       "\t press                & -7.500000e-01 & NaN & NaN & NaN\\\\\n",
       "\t vib                  & -4.625000e+00 & NaN & NaN & NaN\\\\\n",
       "\t temp:humid           &  6.250000e-01 & NaN & NaN & NaN\\\\\n",
       "\t temp:press           & -4.874573e-16 & NaN & NaN & NaN\\\\\n",
       "\t temp:vib             &  1.250000e-01 & NaN & NaN & NaN\\\\\n",
       "\t humid:press          & -3.750000e-01 & NaN & NaN & NaN\\\\\n",
       "\t humid:vib            &  2.500000e-01 & NaN & NaN & NaN\\\\\n",
       "\t press:vib            & -2.625000e+00 & NaN & NaN & NaN\\\\\n",
       "\t temp:humid:press     & -1.250000e-01 & NaN & NaN & NaN\\\\\n",
       "\t temp:humid:vib       &  1.500000e+00 & NaN & NaN & NaN\\\\\n",
       "\t temp:press:vib       &  1.250000e-01 & NaN & NaN & NaN\\\\\n",
       "\t humid:press:vib      & -9.436896e-16 & NaN & NaN & NaN\\\\\n",
       "\t temp:humid:press:vib & -7.500000e-01 & NaN & NaN & NaN\\\\\n",
       "\\end{tabular}\n"
      ],
      "text/markdown": [
       "\n",
       "A tibble: 16 × 5\n",
       "\n",
       "| term &lt;chr&gt; | estimate &lt;dbl&gt; | std.error &lt;dbl&gt; | statistic &lt;dbl&gt; | p.value &lt;dbl&gt; |\n",
       "|---|---|---|---|---|\n",
       "| (Intercept)          |  2.500000e-01 | NaN | NaN | NaN |\n",
       "| temp                 | -1.000000e+00 | NaN | NaN | NaN |\n",
       "| humid                |  3.375000e+00 | NaN | NaN | NaN |\n",
       "| press                | -7.500000e-01 | NaN | NaN | NaN |\n",
       "| vib                  | -4.625000e+00 | NaN | NaN | NaN |\n",
       "| temp:humid           |  6.250000e-01 | NaN | NaN | NaN |\n",
       "| temp:press           | -4.874573e-16 | NaN | NaN | NaN |\n",
       "| temp:vib             |  1.250000e-01 | NaN | NaN | NaN |\n",
       "| humid:press          | -3.750000e-01 | NaN | NaN | NaN |\n",
       "| humid:vib            |  2.500000e-01 | NaN | NaN | NaN |\n",
       "| press:vib            | -2.625000e+00 | NaN | NaN | NaN |\n",
       "| temp:humid:press     | -1.250000e-01 | NaN | NaN | NaN |\n",
       "| temp:humid:vib       |  1.500000e+00 | NaN | NaN | NaN |\n",
       "| temp:press:vib       |  1.250000e-01 | NaN | NaN | NaN |\n",
       "| humid:press:vib      | -9.436896e-16 | NaN | NaN | NaN |\n",
       "| temp:humid:press:vib | -7.500000e-01 | NaN | NaN | NaN |\n",
       "\n"
      ],
      "text/plain": [
       "   term                 estimate      std.error statistic p.value\n",
       "1  (Intercept)           2.500000e-01 NaN       NaN       NaN    \n",
       "2  temp                 -1.000000e+00 NaN       NaN       NaN    \n",
       "3  humid                 3.375000e+00 NaN       NaN       NaN    \n",
       "4  press                -7.500000e-01 NaN       NaN       NaN    \n",
       "5  vib                  -4.625000e+00 NaN       NaN       NaN    \n",
       "6  temp:humid            6.250000e-01 NaN       NaN       NaN    \n",
       "7  temp:press           -4.874573e-16 NaN       NaN       NaN    \n",
       "8  temp:vib              1.250000e-01 NaN       NaN       NaN    \n",
       "9  humid:press          -3.750000e-01 NaN       NaN       NaN    \n",
       "10 humid:vib             2.500000e-01 NaN       NaN       NaN    \n",
       "11 press:vib            -2.625000e+00 NaN       NaN       NaN    \n",
       "12 temp:humid:press     -1.250000e-01 NaN       NaN       NaN    \n",
       "13 temp:humid:vib        1.500000e+00 NaN       NaN       NaN    \n",
       "14 temp:press:vib        1.250000e-01 NaN       NaN       NaN    \n",
       "15 humid:press:vib      -9.436896e-16 NaN       NaN       NaN    \n",
       "16 temp:humid:press:vib -7.500000e-01 NaN       NaN       NaN    "
      ]
     },
     "metadata": {},
     "output_type": "display_data"
    }
   ],
   "source": [
    "linear.mod1 <- lm(strength ~ (temp + humid + press + vib)^4, dat)\n",
    "tidy(linear.mod1)"
   ]
  },
  {
   "cell_type": "markdown",
   "id": "5768a2d4",
   "metadata": {},
   "source": [
    "<br>\n",
    "\n"
   ]
  },
  {
   "cell_type": "code",
   "execution_count": 96,
   "id": "9233266f",
   "metadata": {},
   "outputs": [
    {
     "data": {
      "text/html": [
       "<table class=\"dataframe\">\n",
       "<caption>A tibble: 15 × 5</caption>\n",
       "<thead>\n",
       "\t<tr><th scope=col>term</th><th scope=col>estimate</th><th scope=col>std.error</th><th scope=col>statistic</th><th scope=col>p.value</th></tr>\n",
       "\t<tr><th scope=col>&lt;chr&gt;</th><th scope=col>&lt;dbl&gt;</th><th scope=col>&lt;dbl&gt;</th><th scope=col>&lt;dbl&gt;</th><th scope=col>&lt;dbl&gt;</th></tr>\n",
       "</thead>\n",
       "<tbody>\n",
       "\t<tr><td>(Intercept)     </td><td> 2.500000e-01</td><td>0.75</td><td> 3.333333e-01</td><td>0.7951672</td></tr>\n",
       "\t<tr><td>temp            </td><td>-1.000000e+00</td><td>0.75</td><td>-1.333333e+00</td><td>0.4096655</td></tr>\n",
       "\t<tr><td>humid           </td><td> 3.375000e+00</td><td>0.75</td><td> 4.500000e+00</td><td>0.1392090</td></tr>\n",
       "\t<tr><td>press           </td><td>-7.500000e-01</td><td>0.75</td><td>-1.000000e+00</td><td>0.5000000</td></tr>\n",
       "\t<tr><td>vib             </td><td>-4.625000e+00</td><td>0.75</td><td>-6.166667e+00</td><td>0.1023447</td></tr>\n",
       "\t<tr><td>temp:humid      </td><td> 6.250000e-01</td><td>0.75</td><td> 8.333333e-01</td><td>0.5577159</td></tr>\n",
       "\t<tr><td>temp:press      </td><td>-4.041906e-16</td><td>0.75</td><td>-5.389208e-16</td><td>1.0000000</td></tr>\n",
       "\t<tr><td>temp:vib        </td><td> 1.250000e-01</td><td>0.75</td><td> 1.666667e-01</td><td>0.8948631</td></tr>\n",
       "\t<tr><td>humid:press     </td><td>-3.750000e-01</td><td>0.75</td><td>-5.000000e-01</td><td>0.7048328</td></tr>\n",
       "\t<tr><td>humid:vib       </td><td> 2.500000e-01</td><td>0.75</td><td> 3.333333e-01</td><td>0.7951672</td></tr>\n",
       "\t<tr><td>press:vib       </td><td>-2.625000e+00</td><td>0.75</td><td>-3.500000e+00</td><td>0.1771711</td></tr>\n",
       "\t<tr><td>temp:humid:press</td><td>-1.250000e-01</td><td>0.75</td><td>-1.666667e-01</td><td>0.8948631</td></tr>\n",
       "\t<tr><td>temp:humid:vib  </td><td> 1.500000e+00</td><td>0.75</td><td> 2.000000e+00</td><td>0.2951672</td></tr>\n",
       "\t<tr><td>temp:press:vib  </td><td> 1.250000e-01</td><td>0.75</td><td> 1.666667e-01</td><td>0.8948631</td></tr>\n",
       "\t<tr><td>humid:press:vib </td><td>-1.110223e-15</td><td>0.75</td><td>-1.480297e-15</td><td>1.0000000</td></tr>\n",
       "</tbody>\n",
       "</table>\n"
      ],
      "text/latex": [
       "A tibble: 15 × 5\n",
       "\\begin{tabular}{lllll}\n",
       " term & estimate & std.error & statistic & p.value\\\\\n",
       " <chr> & <dbl> & <dbl> & <dbl> & <dbl>\\\\\n",
       "\\hline\n",
       "\t (Intercept)      &  2.500000e-01 & 0.75 &  3.333333e-01 & 0.7951672\\\\\n",
       "\t temp             & -1.000000e+00 & 0.75 & -1.333333e+00 & 0.4096655\\\\\n",
       "\t humid            &  3.375000e+00 & 0.75 &  4.500000e+00 & 0.1392090\\\\\n",
       "\t press            & -7.500000e-01 & 0.75 & -1.000000e+00 & 0.5000000\\\\\n",
       "\t vib              & -4.625000e+00 & 0.75 & -6.166667e+00 & 0.1023447\\\\\n",
       "\t temp:humid       &  6.250000e-01 & 0.75 &  8.333333e-01 & 0.5577159\\\\\n",
       "\t temp:press       & -4.041906e-16 & 0.75 & -5.389208e-16 & 1.0000000\\\\\n",
       "\t temp:vib         &  1.250000e-01 & 0.75 &  1.666667e-01 & 0.8948631\\\\\n",
       "\t humid:press      & -3.750000e-01 & 0.75 & -5.000000e-01 & 0.7048328\\\\\n",
       "\t humid:vib        &  2.500000e-01 & 0.75 &  3.333333e-01 & 0.7951672\\\\\n",
       "\t press:vib        & -2.625000e+00 & 0.75 & -3.500000e+00 & 0.1771711\\\\\n",
       "\t temp:humid:press & -1.250000e-01 & 0.75 & -1.666667e-01 & 0.8948631\\\\\n",
       "\t temp:humid:vib   &  1.500000e+00 & 0.75 &  2.000000e+00 & 0.2951672\\\\\n",
       "\t temp:press:vib   &  1.250000e-01 & 0.75 &  1.666667e-01 & 0.8948631\\\\\n",
       "\t humid:press:vib  & -1.110223e-15 & 0.75 & -1.480297e-15 & 1.0000000\\\\\n",
       "\\end{tabular}\n"
      ],
      "text/markdown": [
       "\n",
       "A tibble: 15 × 5\n",
       "\n",
       "| term &lt;chr&gt; | estimate &lt;dbl&gt; | std.error &lt;dbl&gt; | statistic &lt;dbl&gt; | p.value &lt;dbl&gt; |\n",
       "|---|---|---|---|---|\n",
       "| (Intercept)      |  2.500000e-01 | 0.75 |  3.333333e-01 | 0.7951672 |\n",
       "| temp             | -1.000000e+00 | 0.75 | -1.333333e+00 | 0.4096655 |\n",
       "| humid            |  3.375000e+00 | 0.75 |  4.500000e+00 | 0.1392090 |\n",
       "| press            | -7.500000e-01 | 0.75 | -1.000000e+00 | 0.5000000 |\n",
       "| vib              | -4.625000e+00 | 0.75 | -6.166667e+00 | 0.1023447 |\n",
       "| temp:humid       |  6.250000e-01 | 0.75 |  8.333333e-01 | 0.5577159 |\n",
       "| temp:press       | -4.041906e-16 | 0.75 | -5.389208e-16 | 1.0000000 |\n",
       "| temp:vib         |  1.250000e-01 | 0.75 |  1.666667e-01 | 0.8948631 |\n",
       "| humid:press      | -3.750000e-01 | 0.75 | -5.000000e-01 | 0.7048328 |\n",
       "| humid:vib        |  2.500000e-01 | 0.75 |  3.333333e-01 | 0.7951672 |\n",
       "| press:vib        | -2.625000e+00 | 0.75 | -3.500000e+00 | 0.1771711 |\n",
       "| temp:humid:press | -1.250000e-01 | 0.75 | -1.666667e-01 | 0.8948631 |\n",
       "| temp:humid:vib   |  1.500000e+00 | 0.75 |  2.000000e+00 | 0.2951672 |\n",
       "| temp:press:vib   |  1.250000e-01 | 0.75 |  1.666667e-01 | 0.8948631 |\n",
       "| humid:press:vib  | -1.110223e-15 | 0.75 | -1.480297e-15 | 1.0000000 |\n",
       "\n"
      ],
      "text/plain": [
       "   term             estimate      std.error statistic     p.value  \n",
       "1  (Intercept)       2.500000e-01 0.75       3.333333e-01 0.7951672\n",
       "2  temp             -1.000000e+00 0.75      -1.333333e+00 0.4096655\n",
       "3  humid             3.375000e+00 0.75       4.500000e+00 0.1392090\n",
       "4  press            -7.500000e-01 0.75      -1.000000e+00 0.5000000\n",
       "5  vib              -4.625000e+00 0.75      -6.166667e+00 0.1023447\n",
       "6  temp:humid        6.250000e-01 0.75       8.333333e-01 0.5577159\n",
       "7  temp:press       -4.041906e-16 0.75      -5.389208e-16 1.0000000\n",
       "8  temp:vib          1.250000e-01 0.75       1.666667e-01 0.8948631\n",
       "9  humid:press      -3.750000e-01 0.75      -5.000000e-01 0.7048328\n",
       "10 humid:vib         2.500000e-01 0.75       3.333333e-01 0.7951672\n",
       "11 press:vib        -2.625000e+00 0.75      -3.500000e+00 0.1771711\n",
       "12 temp:humid:press -1.250000e-01 0.75      -1.666667e-01 0.8948631\n",
       "13 temp:humid:vib    1.500000e+00 0.75       2.000000e+00 0.2951672\n",
       "14 temp:press:vib    1.250000e-01 0.75       1.666667e-01 0.8948631\n",
       "15 humid:press:vib  -1.110223e-15 0.75      -1.480297e-15 1.0000000"
      ]
     },
     "metadata": {},
     "output_type": "display_data"
    }
   ],
   "source": [
    "linear.mod2 <- lm(strength ~ (temp + humid + press + vib)^3, dat)\n",
    "eff_df <- tidy(linear.mod2); eff_df"
   ]
  },
  {
   "cell_type": "code",
   "execution_count": 135,
   "id": "bc638a6e",
   "metadata": {},
   "outputs": [
    {
     "data": {
      "image/png": "[encoded data removed]",
      "text/plain": [
       "plot without title"
      ]
     },
     "metadata": {
      "image/png": {
       "height": 420,
       "width": 420
      }
     },
     "output_type": "display_data"
    }
   ],
   "source": [
    "eff_df %>% select(term ,estimate) %>% \n",
    "    mutate(pm = ifelse(estimate >= 0, \"Positive\", \"Negative\"),\n",
    "           estimate = abs(estimate)) %>%\n",
    "    filter(term != \"(Intercept)\") %>% \n",
    "    ggplot(aes(fct_reorder(term, rank((abs(estimate)))), estimate, fill = pm)) + \n",
    "    geom_col() + xlab(\"Effects\") + ylab(\"Magnitude of Effects\") + coord_flip()"
   ]
  }
 ],
 "metadata": {
  "kernelspec": {
   "display_name": "R",
   "language": "R",
   "name": "ir"
  },
  "language_info": {
   "codemirror_mode": "r",
   "file_extension": ".r",
   "mimetype": "text/x-r-source",
   "name": "R",
   "pygments_lexer": "r",
   "version": "4.2.2"
  }
 },
 "nbformat": 4,
 "nbformat_minor": 5
}
