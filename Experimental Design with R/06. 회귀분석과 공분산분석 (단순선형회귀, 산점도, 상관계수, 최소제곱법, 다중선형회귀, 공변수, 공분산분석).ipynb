{
 "cells": [
  {
   "cell_type": "markdown",
   "id": "304824f9",
   "metadata": {},
   "source": [
    "# 06. 회귀분석과 공분산분석\n",
    "\n",
    "<br>\n",
    "\n",
    "## 06.01. 회귀분석과 공분산분석\n",
    "\n",
    "<br>\n",
    "\n",
    "### 회귀분석\n",
    "- **종속변수 / 반응변수** : 관심을 갖는변수\n",
    "- **독립변수 / 설명변수 / 회귀변수** : 반응변수를 설명하는데 도움이 될 것으로 기대되는 변수\n",
    "\n",
    "#### **반응변수와 설명변수 간의 함수관계로 설명 $\\rightarrow$ 회귀분석**\n",
    "- 반응변수가 1개 / 회귀변수도 1개 $\\rightarrow$ 단순회귀분석\n",
    "- 반응변수가 1개 / 회귀변수가 2개이상 $\\rightarrow$ 다중회귀분석\n",
    "\n",
    "<br>\n",
    "\n",
    "$$y = \\beta_0 + \\beta_1 x_1 \\dots \\beta_k x_k + \\epsilon$$\n",
    "\n",
    "<br>\n",
    "\n",
    "- **다항회귀모형** \n",
    "\n",
    "$$y = \\beta_0 + \\beta_1 x_1 + \\beta_2 x^2 + \\dots \\beta_k x^k + \\epsilon$$\n",
    "\n",
    "<br>\n",
    "\n",
    "- **비선형회귀모형**\n",
    "\n",
    "$$y = \\beta_0 (1-e^{-\\beta_1 x})+\\epsilon$$\n",
    "\n",
    "$$y = {e^{\\beta_1 x} \\over {1+e^\\beta_1 x}} + \\epsilon$$"
   ]
  },
  {
   "cell_type": "markdown",
   "id": "645aa3fa",
   "metadata": {},
   "source": [
    "<br>\n",
    "\n",
    "### 산점도\n",
    "- 관계식의 함수형태가 직선식인지, 이차식인지, 지수식인지 여부를 결정"
   ]
  },
  {
   "cell_type": "markdown",
   "id": "b75b7e97",
   "metadata": {},
   "source": [
    "<br>\n",
    "\n",
    "### 단순선형회귀분석\n",
    "\n",
    "$$y = \\beta_0 + \\beta_1 x_1 + \\epsilon$$\n",
    "\n",
    "- $y$ : 반응변수, 관측에 오차가 따름 (확률변수)\n",
    "- $x$ : 회귀변수, 오차없이 실험자가 수준값을 조절\n",
    "- $\\beta_0, \\beta_1$ : 회귀계수, 데이터에서 추정해야 할 모수\n",
    "- $\\epsilon$ : 오차, 확률변수이며, $N(0, \\sigma^2)$를 따른다고 가정하며, $\\sigma^2$값은 알 수 없음\n",
    "\n",
    "<br>\n",
    "\n",
    "- 두 변수 (x, y)에 대한 n개의 관측 $(x_1, y_1) \\dots (x_n, y_n)$에 대해서\n",
    "\n",
    "    $$y_i = \\beta_0 + \\beta_1 x_i + \\epsilon_i,\\;\\;\\;i=1, 2, \\dots n$$ 오차항 $\\epsilon_i$는 서로 독립이며 평균이 0이고 분산이 $\\sigma^2$인 동일한 정규분포를 따름\n",
    "\n",
    "    $y_i$의 분포 역시 정규분포를 따르며 $y_i \\sim N(\\beta_0 + \\beta_1 x_i,\\;\\sigma^2),\\;\\;i=1, 2, \\dots, n$\n",
    "\n",
    "    <br>\n",
    "    \n",
    "    **양변에 기댓값을 취하면**\n",
    "    \n",
    "    $$E(y_i) = \\beta_0 + \\beta_1 x_i, \\;\\; i=1, 2, \\dots, n$$가 되며, 회귀분석에서 첫 번째 과정은 두 회귀계수를 추정하는 것\n",
    "    \n",
    "    $\\beta_0, \\beta_1$를 추정하는 $b_0, b_1$에 대해\n",
    "    \n",
    "    $$\\hat{y_i} = b_0 + b_1x_i,\\;\\;i=1, 2, \\dots, n$$이 되며, **적합된 회귀선**\n",
    "    \n",
    "    **$\\hat{y_i}$는 관측값이 $x_i$에 대해 회귀선에 의거한 반응변수에 대한 추측값**\n",
    "    \n",
    "    <br>\n",
    "    \n",
    "    <hr>\n",
    "    \n",
    "    **원래의 값 $y_i$와 적합된 회귀선에 의하여 추측된 $\\hat{y_i}$의 값의 차이를 잔차 $(e_i)$**\n",
    "    \n",
    "    $$e_i = y_i - \\hat{y_i},\\;\\;i=1, 2, \\dots, n$$\n",
    "    \n",
    "    **잔차는 오차 $\\epsilon_i$의 추정값**"
   ]
  },
  {
   "cell_type": "markdown",
   "id": "80da6364",
   "metadata": {},
   "source": [
    "<br>\n",
    "\n",
    "### 최소제곱법\n",
    "- 회귀계수는 최소제곱법을 사용하여 추정\n",
    "- 오차들의 제곱합을 최소로 하는 회귀계수의 추정값을 구하는 것\n",
    "\n",
    "    각각의 자료점에서 추정된 회귀직선 사이의 거리의 제곱을 모두 합한 값이 최소가 되도록 회귀계수를 추정\n",
    "    \n",
    "    $$\\epsilon_i = y_i - (\\beta_0 + \\beta_1 x_i)$$\n",
    "    \n",
    "    $$\\downarrow$$\n",
    "    \n",
    "    $$오차제곱합\\;=\\;\\sum^n_i \\epsilon_i^2 = \\sum^n_i [y_i-(\\beta_0+\\beta_1 x_i)]^2 = Q$$\n",
    "    \n",
    "    <br>\n",
    "    \n",
    "    **$Q$를 $\\beta_0$와 $\\beta_1$에 대하여 각각 편미분한 후, 나오는 식을 0으로 놓고 $\\beta_0$과 $\\beta_1$에 대하여 품 (정규방정식)**\n",
    "    \n",
    "    $${{\\delta Q}\\over{\\delta \\beta_0}}=0\\;\\;\\leftrightarrow \\;\\; \\sum^n_i [y_i-(\\beta_0 + \\beta_1 x_i)]=0$$\n",
    "    \n",
    "    $${{\\delta Q}\\over{\\delta \\beta_1}}=0\\;\\;\\leftrightarrow \\;\\; \\sum^n_i x_i[y_i-(\\beta_0 + \\beta_1 x_i)]=0$$\n",
    "    \n",
    "    <br>\n",
    "    \n",
    "    - 연립방정식을 $\\beta_0$과 $\\beta_1$에 대하여 풀어, 그 결과를 $b_0$과 $b_1$로 표기하면\n",
    "    \n",
    "    $$b_1 = {{S_{xy}}\\over{S_{xx}}},\\;\\;b_0=\\bar{y}-b_1\\bar{x}$$\n",
    "    \n",
    "    여기서\n",
    "    \n",
    "    $$\\bar{y}= \\sum^n_i y_i / n,\\;\\;\\;\\bar{x}=\\sum^n_i x_i /n$$\n",
    "    \n",
    "    $$S_{xy} = \\sum^n_i (x_i-\\bar{x})(y_i - \\bar{y})$$\n",
    "    \n",
    "    $$S_{xx} = \\sum^n_i (x_i-\\bar{x})(x_i - \\bar{x}) = \\sum^n_i(x_i -\\bar{x})^2$$\n",
    "    \n",
    "    #### $b_0, b_1$은 각각 $\\beta_0, \\beta_1$에 대한 불편추정량"
   ]
  },
  {
   "cell_type": "markdown",
   "id": "1dbe9cbc",
   "metadata": {},
   "source": [
    "<br>\n",
    "\n",
    "#### 페인트 불순도 예시"
   ]
  },
  {
   "cell_type": "code",
   "execution_count": 5,
   "id": "d2c1dd67",
   "metadata": {},
   "outputs": [],
   "source": [
    "library(tidyverse)\n",
    "library(tidymodels)"
   ]
  },
  {
   "cell_type": "code",
   "execution_count": 6,
   "id": "ea5674db",
   "metadata": {},
   "outputs": [],
   "source": [
    "x <- c(20, 22, 24, 26, 28, 30 ,32, 34, 36, 38, 40 ,42)\n",
    "y <- c(8.4, 9.5, 11.8, 10.4, 13.3, 14.8, 13.2, 14.7, 16.4, 16.5, 18.9, 18.5)\n",
    "df = tibble(y, x)\n",
    "lm.out <- lm(y ~ x, df)"
   ]
  },
  {
   "cell_type": "markdown",
   "id": "5494c908",
   "metadata": {},
   "source": [
    "- 산점도"
   ]
  },
  {
   "cell_type": "code",
   "execution_count": 13,
   "id": "0c71ec3d",
   "metadata": {},
   "outputs": [
    {
     "name": "stderr",
     "output_type": "stream",
     "text": [
      "\u001b[1m\u001b[22m`geom_smooth()` using formula = 'y ~ x'\n"
     ]
    },
    {
     "data": {
      "image/png": "[encoded data removed]",
      "text/plain": [
       "plot without title"
      ]
     },
     "metadata": {
      "image/png": {
       "height": 420,
       "width": 420
      }
     },
     "output_type": "display_data"
    }
   ],
   "source": [
    "df %>% ggplot(aes(x, y)) + geom_point() + geom_smooth(method = \"lm\")"
   ]
  },
  {
   "cell_type": "markdown",
   "id": "fa406429",
   "metadata": {},
   "source": [
    "- x와 y간의 유의한 양의 상관계수 존재"
   ]
  },
  {
   "cell_type": "code",
   "execution_count": 14,
   "id": "da2011fe",
   "metadata": {},
   "outputs": [
    {
     "data": {
      "text/plain": [
       "\n",
       "\tPearson's product-moment correlation\n",
       "\n",
       "data:  y and x\n",
       "t = 11.88, df = 10, p-value = 3.211e-07\n",
       "alternative hypothesis: true correlation is not equal to 0\n",
       "95 percent confidence interval:\n",
       " 0.8810937 0.9907768\n",
       "sample estimates:\n",
       "      cor \n",
       "0.9663498 \n"
      ]
     },
     "metadata": {},
     "output_type": "display_data"
    }
   ],
   "source": [
    "cor.test(y, x)"
   ]
  },
  {
   "cell_type": "code",
   "execution_count": 15,
   "id": "a0bea9bf",
   "metadata": {},
   "outputs": [
    {
     "data": {
      "text/html": [
       "<table class=\"dataframe\">\n",
       "<caption>A tibble: 2 × 5</caption>\n",
       "<thead>\n",
       "\t<tr><th scope=col>term</th><th scope=col>estimate</th><th scope=col>std.error</th><th scope=col>statistic</th><th scope=col>p.value</th></tr>\n",
       "\t<tr><th scope=col>&lt;chr&gt;</th><th scope=col>&lt;dbl&gt;</th><th scope=col>&lt;dbl&gt;</th><th scope=col>&lt;dbl&gt;</th><th scope=col>&lt;dbl&gt;</th></tr>\n",
       "</thead>\n",
       "<tbody>\n",
       "\t<tr><td>(Intercept)</td><td>-0.2892774</td><td>1.22078929</td><td>-0.2369593</td><td>8.174720e-01</td></tr>\n",
       "\t<tr><td>x          </td><td> 0.4566434</td><td>0.03843854</td><td>11.8798311</td><td>3.211246e-07</td></tr>\n",
       "</tbody>\n",
       "</table>\n"
      ],
      "text/latex": [
       "A tibble: 2 × 5\n",
       "\\begin{tabular}{lllll}\n",
       " term & estimate & std.error & statistic & p.value\\\\\n",
       " <chr> & <dbl> & <dbl> & <dbl> & <dbl>\\\\\n",
       "\\hline\n",
       "\t (Intercept) & -0.2892774 & 1.22078929 & -0.2369593 & 8.174720e-01\\\\\n",
       "\t x           &  0.4566434 & 0.03843854 & 11.8798311 & 3.211246e-07\\\\\n",
       "\\end{tabular}\n"
      ],
      "text/markdown": [
       "\n",
       "A tibble: 2 × 5\n",
       "\n",
       "| term &lt;chr&gt; | estimate &lt;dbl&gt; | std.error &lt;dbl&gt; | statistic &lt;dbl&gt; | p.value &lt;dbl&gt; |\n",
       "|---|---|---|---|---|\n",
       "| (Intercept) | -0.2892774 | 1.22078929 | -0.2369593 | 8.174720e-01 |\n",
       "| x           |  0.4566434 | 0.03843854 | 11.8798311 | 3.211246e-07 |\n",
       "\n"
      ],
      "text/plain": [
       "  term        estimate   std.error  statistic  p.value     \n",
       "1 (Intercept) -0.2892774 1.22078929 -0.2369593 8.174720e-01\n",
       "2 x            0.4566434 0.03843854 11.8798311 3.211246e-07"
      ]
     },
     "metadata": {},
     "output_type": "display_data"
    }
   ],
   "source": [
    "tidy(lm.outut)"
   ]
  },
  {
   "cell_type": "markdown",
   "id": "b677d33d",
   "metadata": {},
   "source": [
    "<br>\n",
    "\n",
    "### 회귀선의 유의성 검정\n",
    "- 두 변수 사이의 회귀관계가 없다면, 반응변수의 값은 회귀변수의 값의 변동 여하에 전혀 영향을 받지 않음\n",
    "\n",
    "    $\\rightarrow$ 모형축소\n",
    "    \n",
    "    $$y = \\beta_0 + \\epsilon$$과 같이 쓸 수 있으며, $\\beta_0$의 추정량 $b_0=\\bar{y}$가 됨\n",
    "    \n",
    "    **즉, 회귀관계가 없다면, 설명변수 $x$의 값에 관계없이 반응변수 $y$값의 예측치는 $\\bar{y}$가 되고, 자료평균에 의해서 설명할 수 없는 부분인 총 편차는 $y-\\bar{y}$가 됨**\n",
    "    \n",
    "    <br>\n",
    "    \n",
    "    총편차를 회귀선에 의해 설명할 수 있는 부분과 설명할 수 없는 부분으로 분해\n",
    "    \n",
    "    $$y-\\bar{y} = (y-\\hat{y})+(\\hat{y}-\\bar{y})$$\n",
    "    \n",
    "    $$(실제값과\\;평균의\\;차이) = (실제값과\\;적합된\\;값의\\;차이)+(적합된\\;값과\\;평균의\\;차이)$$\n",
    "    \n",
    "    **회귀선이 자료에 잘 적합되려면 $(실제값과\\;평균의\\;차이)$는 $(적합된\\;값과\\;평균의\\;차이)$로 나타나야 하며, 제곱합의 분할형태로 귀착되어야 함**\n",
    "    \n",
    "    $$\\sum^n_i (y_i - \\bar{y})^2 = \\sum^n_i [(y_i -\\hat{y})+(\\hat{y}-\\bar{y})]^2 = \\sum^n(y_i-\\hat{y})^2 + \\sum^n_i (\\hat{y}-\\bar{y})^2$$\n",
    "    \n",
    "    $$\\leftrightarrow SS_T=SS_E + SS_R \\;=\\;S_{yy}=[b_1 S_{xy}(=b^2_1 S_{xx})] + [S_{yy}-b_1S_{xy}]$$\n",
    "\n",
    "    $$\\leftrightarrow 총제곱합=잔차제곱합 + 회귀제곱합$$\n",
    "    \n",
    "    #### **자유도는**\n",
    "    \n",
    "    $$n-1=(n-2)+1$$\n",
    "    \n",
    "    $$\\phi_T = \\phi_E + \\phi_R$$\n",
    "    \n",
    "    <hr>\n",
    "    \n"
   ]
  },
  {
   "cell_type": "markdown",
   "id": "a36cb990",
   "metadata": {},
   "source": [
    "<br>\n",
    "\n",
    "- **총제곱합 $SS_T$ : (실제값과 평균의 차이)에 대한 제곱합으로, 관측이 평균에서 얼마나 벗어나 있는지를 평가하는 측도 $\\rightarrow$ 총변동**\n",
    "- **회귀제곱합 $SS_R$ : (적합된 값과 평균의 차이)에 대한 제곱합, 총변동 중 회귀선으로 설명할 수 있는 부분**\n",
    "    \n",
    "    <br>\n",
    "    \n",
    "    따라서 \n",
    "    \n",
    "    $$결정계수\\;R^2={{SS_R}\\over{SS_T}}={{회귀변동}\\over{총변동}}$$이며, 0과 1사이의 값을 가지며, 두 변수 사이의 피어슨 상관계수의 제곱\n",
    "    \n",
    "    **회귀선이 자료에 잘 적합된다 함은 결정계수의 값이 큼을 의미 (= 피어슨 상관계수의 절대값이 크다는 것)**\n",
    "    \n",
    "    <br>\n",
    "    \n",
    "#### 가설설정\n",
    "\n",
    "- $H_0 : 회귀관계가\\;없다$ vs $H_1 : 회귀관계가\\;있다$\n",
    "\n",
    "    $H_0 : \\beta_1 = 0$ vs $H_1 : \\beta_1 \\neq 0$\n",
    "    \n",
    "    **귀무가설을 기각해야 회귀분석이 의미가 있음**\n",
    "    \n",
    "    <br>\n",
    "    \n",
    "    #### 회귀의 유의성 검정은 평균제곱 (MS)를 기초\n",
    "    \n",
    "    > **회귀계수의 유의성 검정**\n",
    "    >\n",
    "    > $H_0 : \\beta_1 = 0$\n",
    "    > $H_1 : \\beta_1 \\neq 0$\n",
    "    >\n",
    "    > 검정통계량 $F_0 = {{SS_R / 1}\\over{SS_E/(n-2)}} = {{MS_R}\\over{MS_E}}$\n",
    "    >\n",
    "    > **만일 $F_0>F(1, n-2;\\;\\;\\alpha)이면\\;귀무가설을\\;기각$**\n",
    "    \n",
    "<br>\n",
    "\n",
    "#### 분산분석표\n",
    "- $E(MS_E)=\\sigma^2$로서, $MS_E$는 오차분산 $\\sigma^2$의 불편추정량 $(\\hat{\\sigma^2}=MS_E)$\n",
    "\n",
    "<br>\n",
    "\n",
    "| 변인 | $제곱합$ | 자유도 | 평균제곱 | $E(MS)$ | $F_0$ |\n",
    "| - | - | - | - | - | - |\n",
    "| 회귀 | $SS_R=b_1 S_{xy}$ | 1 | $MS_R$ | $\\sigma^2 + \\beta_1 S_{xx}$ | $MS_R$/$MS_E$|\n",
    "| 오차 | $SS_E=S_{yy}-b_1 S_x$ | n-2 | $MS_E$ | $\\sigma^2$ | |\n",
    "| | \n",
    "| 총 | $SS_T=S_{yy}$ | n-1 | |  | |"
   ]
  },
  {
   "cell_type": "markdown",
   "id": "94d3afee",
   "metadata": {},
   "source": [
    "- 분산분석표"
   ]
  },
  {
   "cell_type": "code",
   "execution_count": 17,
   "id": "8a9280ef",
   "metadata": {},
   "outputs": [
    {
     "data": {
      "text/html": [
       "<table class=\"dataframe\">\n",
       "<caption>A anova: 2 × 5</caption>\n",
       "<thead>\n",
       "\t<tr><th></th><th scope=col>Df</th><th scope=col>Sum Sq</th><th scope=col>Mean Sq</th><th scope=col>F value</th><th scope=col>Pr(&gt;F)</th></tr>\n",
       "\t<tr><th></th><th scope=col>&lt;int&gt;</th><th scope=col>&lt;dbl&gt;</th><th scope=col>&lt;dbl&gt;</th><th scope=col>&lt;dbl&gt;</th><th scope=col>&lt;dbl&gt;</th></tr>\n",
       "</thead>\n",
       "<tbody>\n",
       "\t<tr><th scope=row>x</th><td> 1</td><td>119.275245</td><td>119.2752448</td><td>141.1304</td><td>3.211246e-07</td></tr>\n",
       "\t<tr><th scope=row>Residuals</th><td>10</td><td>  8.451422</td><td>  0.8451422</td><td>      NA</td><td>          NA</td></tr>\n",
       "</tbody>\n",
       "</table>\n"
      ],
      "text/latex": [
       "A anova: 2 × 5\n",
       "\\begin{tabular}{r|lllll}\n",
       "  & Df & Sum Sq & Mean Sq & F value & Pr(>F)\\\\\n",
       "  & <int> & <dbl> & <dbl> & <dbl> & <dbl>\\\\\n",
       "\\hline\n",
       "\tx &  1 & 119.275245 & 119.2752448 & 141.1304 & 3.211246e-07\\\\\n",
       "\tResiduals & 10 &   8.451422 &   0.8451422 &       NA &           NA\\\\\n",
       "\\end{tabular}\n"
      ],
      "text/markdown": [
       "\n",
       "A anova: 2 × 5\n",
       "\n",
       "| <!--/--> | Df &lt;int&gt; | Sum Sq &lt;dbl&gt; | Mean Sq &lt;dbl&gt; | F value &lt;dbl&gt; | Pr(&gt;F) &lt;dbl&gt; |\n",
       "|---|---|---|---|---|---|\n",
       "| x |  1 | 119.275245 | 119.2752448 | 141.1304 | 3.211246e-07 |\n",
       "| Residuals | 10 |   8.451422 |   0.8451422 |       NA |           NA |\n",
       "\n"
      ],
      "text/plain": [
       "          Df Sum Sq     Mean Sq     F value  Pr(>F)      \n",
       "x          1 119.275245 119.2752448 141.1304 3.211246e-07\n",
       "Residuals 10   8.451422   0.8451422       NA           NA"
      ]
     },
     "metadata": {},
     "output_type": "display_data"
    }
   ],
   "source": [
    "anova(lm.out)"
   ]
  },
  {
   "cell_type": "markdown",
   "id": "9a0464c2",
   "metadata": {},
   "source": [
    "- $R^2=0.934$ "
   ]
  },
  {
   "cell_type": "code",
   "execution_count": 18,
   "id": "2c676edd",
   "metadata": {},
   "outputs": [
    {
     "data": {
      "text/html": [
       "0.933831969482144"
      ],
      "text/latex": [
       "0.933831969482144"
      ],
      "text/markdown": [
       "0.933831969482144"
      ],
      "text/plain": [
       "[1] 0.933832"
      ]
     },
     "metadata": {},
     "output_type": "display_data"
    }
   ],
   "source": [
    "119.275245 / (8.451422+119.275245)"
   ]
  },
  {
   "cell_type": "markdown",
   "id": "cc62f388",
   "metadata": {},
   "source": [
    "- $F_0=141.1304>F(1, 10;\\;0.01)$ "
   ]
  },
  {
   "cell_type": "code",
   "execution_count": 21,
   "id": "de20c44b",
   "metadata": {},
   "outputs": [
    {
     "data": {
      "text/html": [
       "141.130385868792"
      ],
      "text/latex": [
       "141.130385868792"
      ],
      "text/markdown": [
       "141.130385868792"
      ],
      "text/plain": [
       "[1] 141.1304"
      ]
     },
     "metadata": {},
     "output_type": "display_data"
    }
   ],
   "source": [
    "119.2752448 / ((8.451422)/10)"
   ]
  },
  {
   "cell_type": "code",
   "execution_count": 26,
   "id": "d3fb08d3",
   "metadata": {},
   "outputs": [
    {
     "data": {
      "text/html": [
       "10.0442892733966"
      ],
      "text/latex": [
       "10.0442892733966"
      ],
      "text/markdown": [
       "10.0442892733966"
      ],
      "text/plain": [
       "[1] 10.04429"
      ]
     },
     "metadata": {},
     "output_type": "display_data"
    }
   ],
   "source": [
    "qf(p = 0.01, df1 = 1, df2 = 10, lower.tail = F)"
   ]
  },
  {
   "cell_type": "markdown",
   "id": "cb9fcf1c",
   "metadata": {},
   "source": [
    "- 회귀계수 $\\beta_1$의 95% 신뢰구간"
   ]
  },
  {
   "cell_type": "code",
   "execution_count": 27,
   "id": "a1a2d8a8",
   "metadata": {},
   "outputs": [
    {
     "data": {
      "text/html": [
       "<table class=\"dataframe\">\n",
       "<caption>A matrix: 2 × 2 of type dbl</caption>\n",
       "<thead>\n",
       "\t<tr><th></th><th scope=col>2.5 %</th><th scope=col>97.5 %</th></tr>\n",
       "</thead>\n",
       "<tbody>\n",
       "\t<tr><th scope=row>(Intercept)</th><td>-3.009365</td><td>2.4308107</td></tr>\n",
       "\t<tr><th scope=row>x</th><td> 0.370997</td><td>0.5422898</td></tr>\n",
       "</tbody>\n",
       "</table>\n"
      ],
      "text/latex": [
       "A matrix: 2 × 2 of type dbl\n",
       "\\begin{tabular}{r|ll}\n",
       "  & 2.5 \\% & 97.5 \\%\\\\\n",
       "\\hline\n",
       "\t(Intercept) & -3.009365 & 2.4308107\\\\\n",
       "\tx &  0.370997 & 0.5422898\\\\\n",
       "\\end{tabular}\n"
      ],
      "text/markdown": [
       "\n",
       "A matrix: 2 × 2 of type dbl\n",
       "\n",
       "| <!--/--> | 2.5 % | 97.5 % |\n",
       "|---|---|---|\n",
       "| (Intercept) | -3.009365 | 2.4308107 |\n",
       "| x |  0.370997 | 0.5422898 |\n",
       "\n"
      ],
      "text/plain": [
       "            2.5 %     97.5 %   \n",
       "(Intercept) -3.009365 2.4308107\n",
       "x            0.370997 0.5422898"
      ]
     },
     "metadata": {},
     "output_type": "display_data"
    }
   ],
   "source": [
    "confint(lm.out, level=0.95)"
   ]
  },
  {
   "cell_type": "markdown",
   "id": "174a7422",
   "metadata": {},
   "source": [
    "<br>\n",
    "\n",
    "### 다중선형회귀분석\n",
    "- 반응변수에 영향을 미치는 설명변수가 $k$개일 때\n",
    "\n",
    "    $$y = \\beta_0 + \\beta_1 x_1 + \\beta_2 x_2 + \\dots \\beta_k x_k + \\epsilon,\\;\\;\\;\\epsilon \\sim N(0, \\sigma^2)$$\n",
    "\n",
    "    **$n \\geq k+1$을 만족하여야 함**"
   ]
  },
  {
   "cell_type": "markdown",
   "id": "22c7630a",
   "metadata": {},
   "source": [
    "<br>\n",
    "\n",
    "## 06.02. 공분산분석 (analysis of covariance)\n",
    "- 분산분석과 회귀분석이 결합된 형태\n",
    "- 블록화 계획을 일반화시킨 모형으로, \n",
    "\n",
    "    블록요인에 해당되는 계량적인 변수인 공변수(covariance)라 부르는 연속변수를 분산분석 모형에 추가하여 \n",
    "    \n",
    "    오차를 줄이면서 분석의 정밀도를 높임\n",
    "\n",
    "<br>\n",
    "\n",
    "#### 섬유제품 강도 예시\n",
    "- 각 기계로부터 생산된 섬유제품의 강도를 구해 그 차이($A$)로 기계의 효과를 파악\n",
    "- 섬유제품의 강도는 기계뿐만이 아닌 원사의 두께에도 영향을 받을 때\n",
    "    - 만약 원사의 두께를 '얇음'과 '두꺼움' 2가지 범주로 나눈 경우 $\\rightarrow$ **이원배치**\n",
    "    - 만약 원사의 두께를 정량적으로 mm단위로 측정 $\\rightarrow$ **공변수**\n",
    "    \n",
    "    <br>\n",
    "    \n",
    "    - **첫 번째 기계와 두 번째 기계로부터 나온 데이터에 대해 단순선형회귀를 적합**\n",
    "    \n",
    "    $\\rightarrow$ **두 선형회귀간의 기울기 간 차이가 없다면, 기계의 효과가 더 큼**\n",
    "\n",
    "<br>\n",
    "\n",
    "### 공분산분석 기초\n",
    "- **일원배치법 모형에 공변수가 하나 추가됨**\n",
    "- $y_{ij}$ : 관심요인 $A$의 $i$번째 수준에서 $j$번째 관측된 반응값\n",
    "- $\\mu'$ : 총평균\n",
    "* $\\alpha_i$ : $A$의 $i$번째 수준의 효과\n",
    "* $x_{ij}$ : $y_{ij}$에 대응되는 공변수의 값\n",
    "* $\\beta$ : 공변수로 반응변수를 설명하는 회귀계수\n",
    "\n",
    "<br>\n",
    "\n",
    "$$y_{ij} = \\mu' + \\alpha_i + \\beta x_{ij} + \\epsilon_{ij},\\;\\;\\;\\epsilon_{ij} \\sim N(0, \\sigma^2) = \\mu + \\alpha_i + \\beta(x_{ij}-\\bar{\\bar{x}})+\\epsilon_{ij}$$\n",
    "\n",
    "$$(i=1, 2, \\dots, a;\\;\\;\\;j=1, 2, \\dots, n)$$\n",
    "\n",
    "<br>\n",
    "\n",
    "- 위의 모형에서 $\\alpha_i$항이 빠지면, 공분산분석은 단순선형회귀와 같음\n",
    "\n",
    "    #### 공분산분석은 분산분석과 회귀분석이 결합된 것\n",
    "    \n",
    "<br>\n",
    "\n",
    "### 가설설정\n",
    "- $H_0 :\\alpha_i = \\alpha_2= \\dots = \\alpha_a = 0$ vs $H_1:not\\;H_0$\n",
    "\n",
    "<br>\n",
    "\n",
    "### 제곱합 및 자유도 분할\n",
    "\n",
    "$$\\mu + \\alpha_i + \\beta(x_{ij}-\\bar{\\bar{x}})+\\epsilon_{ij}$$에서\n",
    "\n",
    "$$S_{yy} = \\sum^a_i \\sum^n_j (y_{ij}-\\bar{\\bar{y}})^2$$\n",
    "\n",
    "$$S_{xx} = \\sum^a_i \\sum^n_j (x_{ij}-\\bar{\\bar{x}})^2$$\n",
    "\n",
    "$$S_{xy} = \\sum^a_i \\sum^n_j (x_{ij}-\\bar{\\bar{x}})(y_{ij}-\\bar{\\bar{y}})$$\n",
    "\n",
    "<br>\n",
    "\n",
    "$$T_{yy} = \\sum^a_i (\\bar{y}_{i.}-\\bar{\\bar{y}})^2$$\n",
    "\n",
    "$$T_{xx} = \\sum^a_i (\\bar{x}_{i.}-\\bar{\\bar{x}})^2$$\n",
    "\n",
    "$$T_{xy} = \\sum^a_i (\\bar{x}_{i.}-\\bar{\\bar{x}})(\\bar{y}_{i.}-\\bar{\\bar{y}})$$\n",
    "\n",
    "<br>\n",
    "\n",
    "$$E_{yy} = S_{yy}-T_{yy}$$\n",
    "\n",
    "$$E_{xx} = S_{xx}-T_{xx}$$\n",
    "\n",
    "$$E_{xy} = S_{xy}-T_{xy}$$\n",
    "\n",
    "<br>\n",
    "<hr>\n",
    "\n",
    "$$S = T + E가 성립$$"
   ]
  },
  {
   "cell_type": "markdown",
   "id": "de3ecae6",
   "metadata": {},
   "source": [
    "#### 각 모수들의 최소제곱 추정량\n",
    "\n",
    "$$\\hat{\\mu}=\\bar{y}$$\n",
    "\n",
    "$$\\hat{\\alpha_i}=(\\bar{y_{i.}}-\\bar{\\bar{y}})-\\hat{\\beta}(\\bar{x_{i.}}-\\bar{\\bar{x}})$$\n",
    "\n",
    "$$\\hat{\\beta} = {{E_{xy}}\\over{E_{xx}}}$$\n",
    "\n",
    "<br>\n",
    "\n",
    "#### 오차제곱합과 자유도\n",
    "\n",
    "$$SS_E = E_{yy}- {{(E_{xy})^2}\\over{E_{xx}}},\\;\\;\\;\\phi_E = a(n-1)-1$$\n",
    "\n",
    "$$\\hat{\\sigma^2}=MS_E = {{SS_E}\\over{a(n-1)-1}}$$\n",
    "\n",
    "<br>\n",
    "\n",
    "- 만약 귀무가설이 옳다면 ($\\alpha_i = 0$), 모형은 다음곽 같이 축소\n",
    "\n",
    "    $$y_{ij}=\\mu + \\beta(x_{ij}-\\bar{\\bar{x}})+\\epsilon_{ij}$$\n",
    "    \n",
    "    $$\\downarrow$$\n",
    "    \n",
    "    $$\\mu = \\bar{\\bar{y}}$$\n",
    "    \n",
    "    $$\\hat{\\beta} = {{S_{xy}}\\over{S_{xx}}}$$\n",
    "    \n",
    "    $$\\downarrow$$\n",
    "   \n",
    "    $$SS_{E'}=S_{yy}- {{(S_{xy})^2}\\over{S_{xx}}},\\;\\;\\;\\phi_{E'}=an-2$$**로서, 항상 $SS_E$가 $SS_{E'}$보다 작은 값을 가지게 됨**\n",
    "    \n",
    "    **이 차이가 순수한 $\\alpha_i$의 설명력에 해당**\n",
    "    \n",
    "    #### 공분산분석에서의 가설검정\n",
    "    > $H_0:\\alpha_{1} = \\dots, \\alpha_{a} =0$\n",
    "    >\n",
    "    > $H_1 : not\\;H_0$\n",
    "    >\n",
    "    > $검정통계량\\;=\\;F_0 ={{(SS_{E'}-SS_E)/(a-1)}\\over{MS_E}}$\n",
    "    > \n",
    "    > **$F_0 > F(a-1, a(n-1)-1;\\;\\;\\;\\alpha)$이면, 귀무가설을 기각**"
   ]
  },
  {
   "cell_type": "markdown",
   "id": "213dd5df",
   "metadata": {},
   "source": [
    "<br>\n",
    "\n",
    "#### 섬유제품 예시"
   ]
  },
  {
   "cell_type": "code",
   "execution_count": 29,
   "id": "db22d84b",
   "metadata": {},
   "outputs": [],
   "source": [
    "du <- c(20, 25, 24, 25, 32, 22, 28, 22, 30, 28, 21, 23, 26, 21, 15)\n",
    "gang <- c(36, 41, 39, 42, 49, 40, 48, 39, 45, 44, 35, 37, 42, 34, 32)\n",
    "machine <- rep(c(\"1\", \"2\", \"3\"), c(5, 5, 5))\n",
    "textile.data <- tibble(du, gang, machine)"
   ]
  },
  {
   "cell_type": "markdown",
   "id": "826437d6",
   "metadata": {},
   "source": [
    "- 기계 간 강도에 차이가 존재하는 것으로 추정"
   ]
  },
  {
   "cell_type": "code",
   "execution_count": 32,
   "id": "6f2ca116",
   "metadata": {},
   "outputs": [
    {
     "data": {
      "image/png": "[encoded data removed]",
      "text/plain": [
       "plot without title"
      ]
     },
     "metadata": {
      "image/png": {
       "height": 420,
       "width": 420
      }
     },
     "output_type": "display_data"
    }
   ],
   "source": [
    "textile.data %>% ggplot() + geom_boxplot(aes(machine, gang, color = machine))"
   ]
  },
  {
   "cell_type": "markdown",
   "id": "3f021541",
   "metadata": {},
   "source": [
    "<br>\n",
    "\n",
    "* **`du`의 영향력을 가정하지 않은 모형 : `machine`의 효과가 유의**"
   ]
  },
  {
   "cell_type": "code",
   "execution_count": 55,
   "id": "15910e26",
   "metadata": {},
   "outputs": [
    {
     "data": {
      "text/html": [
       "<table class=\"dataframe\">\n",
       "<caption>A tibble: 2 × 6</caption>\n",
       "<thead>\n",
       "\t<tr><th scope=col>term</th><th scope=col>df</th><th scope=col>sumsq</th><th scope=col>meansq</th><th scope=col>statistic</th><th scope=col>p.value</th></tr>\n",
       "\t<tr><th scope=col>&lt;chr&gt;</th><th scope=col>&lt;dbl&gt;</th><th scope=col>&lt;dbl&gt;</th><th scope=col>&lt;dbl&gt;</th><th scope=col>&lt;dbl&gt;</th><th scope=col>&lt;dbl&gt;</th></tr>\n",
       "</thead>\n",
       "<tbody>\n",
       "\t<tr><td>machine  </td><td> 2</td><td>140.4</td><td>70.20000</td><td>4.08932</td><td>0.04423194</td></tr>\n",
       "\t<tr><td>Residuals</td><td>12</td><td>206.0</td><td>17.16667</td><td>     NA</td><td>        NA</td></tr>\n",
       "</tbody>\n",
       "</table>\n"
      ],
      "text/latex": [
       "A tibble: 2 × 6\n",
       "\\begin{tabular}{llllll}\n",
       " term & df & sumsq & meansq & statistic & p.value\\\\\n",
       " <chr> & <dbl> & <dbl> & <dbl> & <dbl> & <dbl>\\\\\n",
       "\\hline\n",
       "\t machine   &  2 & 140.4 & 70.20000 & 4.08932 & 0.04423194\\\\\n",
       "\t Residuals & 12 & 206.0 & 17.16667 &      NA &         NA\\\\\n",
       "\\end{tabular}\n"
      ],
      "text/markdown": [
       "\n",
       "A tibble: 2 × 6\n",
       "\n",
       "| term &lt;chr&gt; | df &lt;dbl&gt; | sumsq &lt;dbl&gt; | meansq &lt;dbl&gt; | statistic &lt;dbl&gt; | p.value &lt;dbl&gt; |\n",
       "|---|---|---|---|---|---|\n",
       "| machine   |  2 | 140.4 | 70.20000 | 4.08932 | 0.04423194 |\n",
       "| Residuals | 12 | 206.0 | 17.16667 |      NA |         NA |\n",
       "\n"
      ],
      "text/plain": [
       "  term      df sumsq meansq   statistic p.value   \n",
       "1 machine    2 140.4 70.20000 4.08932   0.04423194\n",
       "2 Residuals 12 206.0 17.16667      NA           NA"
      ]
     },
     "metadata": {},
     "output_type": "display_data"
    }
   ],
   "source": [
    "a1 <- aov(gang ~ machine)\n",
    "tidy(a1)"
   ]
  },
  {
   "cell_type": "markdown",
   "id": "9a278bbc",
   "metadata": {},
   "source": [
    "<br>\n",
    "\n",
    "- **`du`의 영향력을 가정한 모형** : \n",
    "    - $SS_{E'}=13.28353+27.98589=41.27 (df=13),\\;\\;\\;SS_E=27.99 (df=11),\\;\\;\\;MS_E=2.55$\n",
    "    \n",
    "        $F_0 = 2.61 < F(2, 11;\\;\\;0.1)=2.86$\n",
    "\n",
    "    - **`du`의 영향력을 감안하면 `machine` 효과는 유의하지 않음**\n"
   ]
  },
  {
   "cell_type": "code",
   "execution_count": 57,
   "id": "d7c15d47",
   "metadata": {},
   "outputs": [
    {
     "data": {
      "text/html": [
       "<table class=\"dataframe\">\n",
       "<caption>A tibble: 3 × 6</caption>\n",
       "<thead>\n",
       "\t<tr><th scope=col>term</th><th scope=col>df</th><th scope=col>sumsq</th><th scope=col>meansq</th><th scope=col>statistic</th><th scope=col>p.value</th></tr>\n",
       "\t<tr><th scope=col>&lt;chr&gt;</th><th scope=col>&lt;dbl&gt;</th><th scope=col>&lt;dbl&gt;</th><th scope=col>&lt;dbl&gt;</th><th scope=col>&lt;dbl&gt;</th><th scope=col>&lt;dbl&gt;</th></tr>\n",
       "</thead>\n",
       "<tbody>\n",
       "\t<tr><td>du       </td><td> 1</td><td>305.13026</td><td>305.130260</td><td>119.933042</td><td>2.960132e-07</td></tr>\n",
       "\t<tr><td>machine  </td><td> 2</td><td> 13.28385</td><td>  6.641925</td><td>  2.610643</td><td>1.180839e-01</td></tr>\n",
       "\t<tr><td>Residuals</td><td>11</td><td> 27.98589</td><td>  2.544172</td><td>        NA</td><td>          NA</td></tr>\n",
       "</tbody>\n",
       "</table>\n"
      ],
      "text/latex": [
       "A tibble: 3 × 6\n",
       "\\begin{tabular}{llllll}\n",
       " term & df & sumsq & meansq & statistic & p.value\\\\\n",
       " <chr> & <dbl> & <dbl> & <dbl> & <dbl> & <dbl>\\\\\n",
       "\\hline\n",
       "\t du        &  1 & 305.13026 & 305.130260 & 119.933042 & 2.960132e-07\\\\\n",
       "\t machine   &  2 &  13.28385 &   6.641925 &   2.610643 & 1.180839e-01\\\\\n",
       "\t Residuals & 11 &  27.98589 &   2.544172 &         NA &           NA\\\\\n",
       "\\end{tabular}\n"
      ],
      "text/markdown": [
       "\n",
       "A tibble: 3 × 6\n",
       "\n",
       "| term &lt;chr&gt; | df &lt;dbl&gt; | sumsq &lt;dbl&gt; | meansq &lt;dbl&gt; | statistic &lt;dbl&gt; | p.value &lt;dbl&gt; |\n",
       "|---|---|---|---|---|---|\n",
       "| du        |  1 | 305.13026 | 305.130260 | 119.933042 | 2.960132e-07 |\n",
       "| machine   |  2 |  13.28385 |   6.641925 |   2.610643 | 1.180839e-01 |\n",
       "| Residuals | 11 |  27.98589 |   2.544172 |         NA |           NA |\n",
       "\n"
      ],
      "text/plain": [
       "  term      df sumsq     meansq     statistic  p.value     \n",
       "1 du         1 305.13026 305.130260 119.933042 2.960132e-07\n",
       "2 machine    2  13.28385   6.641925   2.610643 1.180839e-01\n",
       "3 Residuals 11  27.98589   2.544172         NA           NA"
      ]
     },
     "metadata": {},
     "output_type": "display_data"
    }
   ],
   "source": [
    "a2 <- aov(gang ~ du + machine, textile.data)\n",
    "tidy(a2)"
   ]
  },
  {
   "cell_type": "markdown",
   "id": "0eecd298",
   "metadata": {},
   "source": [
    "#### 결론적으로 어느 기계를 쓰든 섬유제품의 강도에 큰 차이는 없음"
   ]
  },
  {
   "cell_type": "markdown",
   "id": "83519ab1",
   "metadata": {},
   "source": [
    "<br>\n",
    "\n",
    "<hr>\n",
    "\n",
    "#### 모형비교 방식\n",
    "\n",
    "* 공통 기울기 및 공통 절편 모델 vs 공통 기울기지만 서로 다른 절편 모델 : \n",
    "    - 절편이 다른 모델이 통계적으로 의미가 있는지 판단 : 통계적으로 유의하지 않음"
   ]
  },
  {
   "cell_type": "code",
   "execution_count": 52,
   "id": "50c8580e",
   "metadata": {},
   "outputs": [
    {
     "data": {
      "text/html": [
       "<table class=\"dataframe\">\n",
       "<caption>A anova: 2 × 6</caption>\n",
       "<thead>\n",
       "\t<tr><th></th><th scope=col>Res.Df</th><th scope=col>RSS</th><th scope=col>Df</th><th scope=col>Sum of Sq</th><th scope=col>F</th><th scope=col>Pr(&gt;F)</th></tr>\n",
       "\t<tr><th></th><th scope=col>&lt;dbl&gt;</th><th scope=col>&lt;dbl&gt;</th><th scope=col>&lt;dbl&gt;</th><th scope=col>&lt;dbl&gt;</th><th scope=col>&lt;dbl&gt;</th><th scope=col>&lt;dbl&gt;</th></tr>\n",
       "</thead>\n",
       "<tbody>\n",
       "\t<tr><th scope=row>1</th><td>13</td><td>41.26974</td><td>NA</td><td>      NA</td><td>      NA</td><td>       NA</td></tr>\n",
       "\t<tr><th scope=row>2</th><td>11</td><td>27.98589</td><td> 2</td><td>13.28385</td><td>2.610643</td><td>0.1180839</td></tr>\n",
       "</tbody>\n",
       "</table>\n"
      ],
      "text/latex": [
       "A anova: 2 × 6\n",
       "\\begin{tabular}{r|llllll}\n",
       "  & Res.Df & RSS & Df & Sum of Sq & F & Pr(>F)\\\\\n",
       "  & <dbl> & <dbl> & <dbl> & <dbl> & <dbl> & <dbl>\\\\\n",
       "\\hline\n",
       "\t1 & 13 & 41.26974 & NA &       NA &       NA &        NA\\\\\n",
       "\t2 & 11 & 27.98589 &  2 & 13.28385 & 2.610643 & 0.1180839\\\\\n",
       "\\end{tabular}\n"
      ],
      "text/markdown": [
       "\n",
       "A anova: 2 × 6\n",
       "\n",
       "| <!--/--> | Res.Df &lt;dbl&gt; | RSS &lt;dbl&gt; | Df &lt;dbl&gt; | Sum of Sq &lt;dbl&gt; | F &lt;dbl&gt; | Pr(&gt;F) &lt;dbl&gt; |\n",
       "|---|---|---|---|---|---|---|\n",
       "| 1 | 13 | 41.26974 | NA |       NA |       NA |        NA |\n",
       "| 2 | 11 | 27.98589 |  2 | 13.28385 | 2.610643 | 0.1180839 |\n",
       "\n"
      ],
      "text/plain": [
       "  Res.Df RSS      Df Sum of Sq F        Pr(>F)   \n",
       "1 13     41.26974 NA       NA        NA        NA\n",
       "2 11     27.98589  2 13.28385  2.610643 0.1180839"
      ]
     },
     "metadata": {},
     "output_type": "display_data"
    }
   ],
   "source": [
    "model1 = lm(gang ~ du)\n",
    "model2 = lm(gang ~ du + machine)\n",
    "\n",
    "anova(model1, model2)"
   ]
  },
  {
   "cell_type": "markdown",
   "id": "8c8ac85f",
   "metadata": {},
   "source": [
    "<br>\n",
    "\n",
    "- vs 서로 다른 기울기와 서로 다른 절편 모델\n",
    "    - 기울기가 서로 다른 모델이 유의한지 판단 : 기울기가 서로 다른 모델까지는 필요 없음"
   ]
  },
  {
   "cell_type": "code",
   "execution_count": 53,
   "id": "162ca778",
   "metadata": {},
   "outputs": [
    {
     "data": {
      "text/html": [
       "<table class=\"dataframe\">\n",
       "<caption>A anova: 2 × 6</caption>\n",
       "<thead>\n",
       "\t<tr><th></th><th scope=col>Res.Df</th><th scope=col>RSS</th><th scope=col>Df</th><th scope=col>Sum of Sq</th><th scope=col>F</th><th scope=col>Pr(&gt;F)</th></tr>\n",
       "\t<tr><th></th><th scope=col>&lt;dbl&gt;</th><th scope=col>&lt;dbl&gt;</th><th scope=col>&lt;dbl&gt;</th><th scope=col>&lt;dbl&gt;</th><th scope=col>&lt;dbl&gt;</th><th scope=col>&lt;dbl&gt;</th></tr>\n",
       "</thead>\n",
       "<tbody>\n",
       "\t<tr><th scope=row>1</th><td>11</td><td>27.98589</td><td>NA</td><td>      NA</td><td>       NA</td><td>       NA</td></tr>\n",
       "\t<tr><th scope=row>2</th><td> 9</td><td>25.24871</td><td> 2</td><td>2.737177</td><td>0.4878387</td><td>0.6292895</td></tr>\n",
       "</tbody>\n",
       "</table>\n"
      ],
      "text/latex": [
       "A anova: 2 × 6\n",
       "\\begin{tabular}{r|llllll}\n",
       "  & Res.Df & RSS & Df & Sum of Sq & F & Pr(>F)\\\\\n",
       "  & <dbl> & <dbl> & <dbl> & <dbl> & <dbl> & <dbl>\\\\\n",
       "\\hline\n",
       "\t1 & 11 & 27.98589 & NA &       NA &        NA &        NA\\\\\n",
       "\t2 &  9 & 25.24871 &  2 & 2.737177 & 0.4878387 & 0.6292895\\\\\n",
       "\\end{tabular}\n"
      ],
      "text/markdown": [
       "\n",
       "A anova: 2 × 6\n",
       "\n",
       "| <!--/--> | Res.Df &lt;dbl&gt; | RSS &lt;dbl&gt; | Df &lt;dbl&gt; | Sum of Sq &lt;dbl&gt; | F &lt;dbl&gt; | Pr(&gt;F) &lt;dbl&gt; |\n",
       "|---|---|---|---|---|---|---|\n",
       "| 1 | 11 | 27.98589 | NA |       NA |        NA |        NA |\n",
       "| 2 |  9 | 25.24871 |  2 | 2.737177 | 0.4878387 | 0.6292895 |\n",
       "\n"
      ],
      "text/plain": [
       "  Res.Df RSS      Df Sum of Sq F         Pr(>F)   \n",
       "1 11     27.98589 NA       NA         NA        NA\n",
       "2  9     25.24871  2 2.737177  0.4878387 0.6292895"
      ]
     },
     "metadata": {},
     "output_type": "display_data"
    }
   ],
   "source": [
    "model3 = lm(gang ~ du + machine + du:machine)\n",
    "anova(model2, model3)"
   ]
  }
 ],
 "metadata": {
  "kernelspec": {
   "display_name": "R",
   "language": "R",
   "name": "ir"
  },
  "language_info": {
   "codemirror_mode": "r",
   "file_extension": ".r",
   "mimetype": "text/x-r-source",
   "name": "R",
   "pygments_lexer": "r",
   "version": "4.2.2"
  }
 },
 "nbformat": 4,
 "nbformat_minor": 5
}
