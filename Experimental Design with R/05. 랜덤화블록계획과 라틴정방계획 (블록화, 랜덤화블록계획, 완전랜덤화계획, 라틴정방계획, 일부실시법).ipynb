{
 "cells": [
  {
   "cell_type": "markdown",
   "id": "1ec8b4c9",
   "metadata": {},
   "source": [
    "# 05. 랜덤화블록계획과 라틴정방계획\n",
    "\n",
    "<br>\n",
    "\n",
    "## 05.01. 랜덤화블록계획\n",
    "\n",
    "### 랜덤화블록계획 (randomized block design)\n",
    "- **실험전체가 동질적이 아닌경우, 실험 전체를 될 수 있는 한 동질적인 블록으로 나눈 후**\n",
    "\n",
    "    **각 블록 내에서 랜덤화를 적용하여 요인의 효과를 파악하는 것**\n",
    "    \n",
    "    **(블록 내 동질적, 블록 간 이질적)**\n",
    "    \n",
    "* 블록화를 통하여 관심 있는 요인의 수준 간 효과의 차이를 더욱 확실히 파악\n",
    "\n",
    "\n",
    "<br>\n",
    "\n",
    "### 완전랜덤화계획 (completely randomized design)\n",
    "- 실험단위가 모두 비슷해야하는 조건 존재 \n",
    "\n",
    "    $\\rightarrow$ 조건 만족 못할 시, 동질적인 실험단위로 블록화\n",
    "\n",
    "\n",
    "\n",
    "<br>\n",
    "\n",
    "### 비료와 농지에 대한 예시 (완전랜덤화계획 $\\rightarrow$ 랜덤화블록계획)\n",
    "- 비료의 3가지의 효능 비교 $\\rightarrow$ 9개의 농지를 확보하여, 각 농지마다 랜덤하게 비료를 배정 $\\rightarrow$ 완전랜덤화게획\n",
    "    - **농지마다 토질이 다르다면, 완전랜덤화계획으로 인하여 실험 계획이 문제**\n",
    "    \n",
    "        분산분석결과가 나오더라도, 그 것이 비료의 차이때문인지, 토질의 차이인지 알 수 없음\n",
    "        \n",
    "        \n",
    "| 비료1 | 비료2 | 비료3 |\n",
    "| - | - | - |\n",
    "| 농지8 (모래) | 농지9 (모래) | 농지5 (진흙)|\n",
    "| 농지2 (흙)| 농지1 (진흙)| 농지7 (모래)|\n",
    "| 농지3 (흙)| 농지4 (진흙)| 농지6 (진흙)|\n",
    "    \n",
    "- 각 토질마다 세 가지 비료가 모두 나타나게끔 농지를 배정\n",
    "    \n",
    "    **$\\rightarrow$ 각 토질마다 세 가지 비료가 모두 나타나게 실험을 계획하는 것은 $\\rightarrow$ 완전랜덤화를 포기**\n",
    "    \n",
    "    **이러한 제한을 통해서 토질이 수확량에 미치는 영향은 상쇄, 순수한 비료효과만 계산할 수 있음**\n",
    "    \n",
    "    #### 이 경우 토질은 블록\n",
    "    \n",
    "    \n",
    "| 토질 | 비료1 | 비료2 | 비료3 |\n",
    "| - | - | - | - |\n",
    "| 흙 | 농지2 | 농지3 | 농지1 |\n",
    "| 진흙 | 농지4 | 농지6  | 농지5 |\n",
    "| 모래 | 농지9 | 농지8  | 농지7 |\n",
    "\n",
    "<br>\n",
    "\n",
    "\n"
   ]
  },
  {
   "cell_type": "markdown",
   "id": "0f120c73",
   "metadata": {},
   "source": [
    "<br>\n",
    "\n",
    "### 랜덤화블록계획의 설계방식\n",
    "($a$ = 반복횟수)\n",
    "\n",
    "$$블록 1 : x_{11} \\dots x_{a1}$$\n",
    "$$블록 2 : x_{11} \\dots x_{a1}$$\n",
    "$$\\vdots$$\n",
    "$$블록 b : x_{1b} \\dots x_{ab}$$\n",
    "\n",
    "<br>\n",
    "\n",
    "- **랜덤화블록계획의 본질은 블록의 차이에 따른 효과를 보는 것이 아닌**\n",
    "\n",
    "    **블록의 효과를 억제해주기 위함**\n",
    "    \n",
    "    - **$\\mu$ : 전체평균**\n",
    "    - **$\\gamma_i$ : 고정요인의 관심요인의 $i$번째 수준의 효과**\n",
    "    - **$\\beta_j$ : 블록요인의 $j$번째 수준의 효과**\n",
    "    - **$\\epsilon_{ij}$ : 오차항으로 서로 독립인 $N(0, \\sigma^2_E)$를 따름**\n",
    "    \n",
    "    $$x_{ij} =\\mu + \\gamma_i + \\beta_j + \\epsilon_{ij},\\;\\;\\;i=1, 2, \\dots , a;\\;\\;\\;j=1,2, \\dots, b$$\n",
    "    \n",
    "    <br>\n",
    "    \n",
    "#### 가설설정\n",
    "    \n",
    "- $H_0 : \\gamma_1 = \\gamma_a = 0$ vs $H_1 :\\;not\\;H_0$\n",
    "\n",
    "<br>\n",
    "\n",
    "#### 변동의 계산\n",
    "$$SS_T = SS_A - SS_B + SS_E$$\n",
    "\n",
    "$$총변동\\;=\\;요인\\;A의\\;변동\\;+\\;블록요인\\;B의\\;변동\\;+\\;+잔차변동$$\n",
    "\n",
    "- $CT(=수정항) = {{T^2}\\over{ab}}$일 떄,\n",
    "\n",
    "    $$SS_T = \\sum_i \\sum_j x^2_{ij} - CT$$\n",
    "    \n",
    "    $$SS_A = \\sum_i {{T^2_{i.}}\\over{b}} - CT$$\n",
    "    \n",
    "    $$SS_B = \\sum_j {{T^2_{.j}}\\over{a}} - CT$$\n",
    "    \n",
    "    $$SS_E = SS_T - SS_A$$\n",
    "    \n",
    "<br>\n",
    "\n",
    "#### 자유도 계산\n",
    "$$\\phi_T = ab-1$$\n",
    "\n",
    "$$\\phi_A = a-1$$\n",
    "\n",
    "$$\\phi_B = b-1$$\n",
    "\n",
    "$$\\phi_E = (a-1)(b-1)$$\n",
    "\n",
    "\n",
    "<br>\n",
    "\n",
    "#### 평균제곱의 기댓값과 F검정\n",
    "- **평균제곱 $MS_A, MS_B, MS_E$는 각각의 변동을 자유도로 나눠 준 값**\n",
    "- A에 대한 귀무가설 $H_0:\\gamma_1 = \\dots = \\gamma_a = 0$하에서는 $F_0 =MS_A / MS_E$가 자유도 ($\\phi_A, \\phi_E$)인 F분포를 따름\n",
    "\n",
    "    요인 A에 대한 귀무가설의 기각역은\n",
    "    \n",
    "    $$F_0 > F(\\phi_A, \\phi_E;\\;\\;\\alpha)$$\n",
    "\n",
    "    #### 귀무가설이 기각되면 A가 특성값에 유의한 영향을 줌\n",
    "\n",
    "<br>\n",
    "\n",
    "#### 분산분석표\n",
    "\n",
    "<br>\n",
    "\n",
    "| 요인 | 제곱합 | 자유도 | 평균제곱 | $F_0$ |\n",
    "| - | - | - | - | - |\n",
    "| $A$ | $SS_A$ | $a$-$1$ | $MS_A$ | $MS_A$/$MS_E$ |\n",
    "| 블록요인$B$ | $SS_B$ | $b$-$1$ | $MS_B$ | |\n",
    "| $E$ | $SS_E$ | $(a$-$1)b$-1$)$ | $MS_E$ | |\n",
    "| |\n",
    "| $T$ | $SS_T$ | $ab$-$1$ |   |  |"
   ]
  },
  {
   "cell_type": "markdown",
   "id": "03ea4bdb",
   "metadata": {},
   "source": [
    "#### 랜덤화블록계획은 블록 간에 서로 이질적일수록, 완전랜덤화법에 비하여 잔차변동을 줄일 수 있음\n",
    "**하지만, 블록 간에 별 차이가 없다면, 랜덤화블록계획은 완전랜덤화법에 비하여 자유도가 $a(b-1)-(a-1)(b-1) = b-1$만큼 줄어들어**\n",
    "\n",
    "   **검출력이 나빠질 수 있음**\n",
    "   \n",
    "   - 이 경우, 블록요인에 대한 유의확률을 구하여, 유의확률이 0.25이상이면 오차항에 풀링 (변수 제거) $\\rightarrow$ 블록효과가 존재하지 않는다고 판단"
   ]
  },
  {
   "cell_type": "markdown",
   "id": "6b7d8a7c",
   "metadata": {},
   "source": [
    "<br>\n",
    "\n",
    "#### 플라스팀 제품예시\n",
    "- 랜덤하게 4일 ($B_1, B_2, B_3, B_4$) \n",
    "- 실험일마다 공장의 가열온도를 3수준 ($A_1, A_2, A_3$)으로 랜덤하게 변화 (블록요인)\n"
   ]
  },
  {
   "cell_type": "code",
   "execution_count": 4,
   "id": "9d81463a",
   "metadata": {},
   "outputs": [],
   "source": [
    "library(tidymodels)\n",
    "library(tidyverse)"
   ]
  },
  {
   "cell_type": "code",
   "execution_count": 5,
   "id": "304cafda",
   "metadata": {},
   "outputs": [],
   "source": [
    "y <- c(98, 99, 98.6, 97.6, 97.7, 98, 98.2, 97.3, 96.5, 97.9, 96.9, 96.7)\n",
    "a <- c(rep(1, 4), c(rep(2, 4), rep(3, 4))); b <- c(rep(c(1:4), 3))\n",
    "\n",
    "strength = tibble(y, a, b) %>%\n",
    "    mutate(a = factor(a), b = factor(b))"
   ]
  },
  {
   "cell_type": "code",
   "execution_count": 15,
   "id": "fdc952d7",
   "metadata": {},
   "outputs": [
    {
     "data": {
      "text/html": [
       "<table class=\"dataframe\">\n",
       "<caption>A tibble: 3 × 5</caption>\n",
       "<thead>\n",
       "\t<tr><th scope=col>a</th><th scope=col>1</th><th scope=col>2</th><th scope=col>3</th><th scope=col>4</th></tr>\n",
       "\t<tr><th scope=col>&lt;fct&gt;</th><th scope=col>&lt;dbl&gt;</th><th scope=col>&lt;dbl&gt;</th><th scope=col>&lt;dbl&gt;</th><th scope=col>&lt;dbl&gt;</th></tr>\n",
       "</thead>\n",
       "<tbody>\n",
       "\t<tr><td>1</td><td>98.0</td><td>99.0</td><td>98.6</td><td>97.6</td></tr>\n",
       "\t<tr><td>2</td><td>97.7</td><td>98.0</td><td>98.2</td><td>97.3</td></tr>\n",
       "\t<tr><td>3</td><td>96.5</td><td>97.9</td><td>96.9</td><td>96.7</td></tr>\n",
       "</tbody>\n",
       "</table>\n"
      ],
      "text/latex": [
       "A tibble: 3 × 5\n",
       "\\begin{tabular}{lllll}\n",
       " a & 1 & 2 & 3 & 4\\\\\n",
       " <fct> & <dbl> & <dbl> & <dbl> & <dbl>\\\\\n",
       "\\hline\n",
       "\t 1 & 98.0 & 99.0 & 98.6 & 97.6\\\\\n",
       "\t 2 & 97.7 & 98.0 & 98.2 & 97.3\\\\\n",
       "\t 3 & 96.5 & 97.9 & 96.9 & 96.7\\\\\n",
       "\\end{tabular}\n"
      ],
      "text/markdown": [
       "\n",
       "A tibble: 3 × 5\n",
       "\n",
       "| a &lt;fct&gt; | 1 &lt;dbl&gt; | 2 &lt;dbl&gt; | 3 &lt;dbl&gt; | 4 &lt;dbl&gt; |\n",
       "|---|---|---|---|---|\n",
       "| 1 | 98.0 | 99.0 | 98.6 | 97.6 |\n",
       "| 2 | 97.7 | 98.0 | 98.2 | 97.3 |\n",
       "| 3 | 96.5 | 97.9 | 96.9 | 96.7 |\n",
       "\n"
      ],
      "text/plain": [
       "  a 1    2    3    4   \n",
       "1 1 98.0 99.0 98.6 97.6\n",
       "2 2 97.7 98.0 98.2 97.3\n",
       "3 3 96.5 97.9 96.9 96.7"
      ]
     },
     "metadata": {},
     "output_type": "display_data"
    }
   ],
   "source": [
    "strength %>% pivot_wider(id_cols = a, values_from = y, names_from = b)"
   ]
  },
  {
   "cell_type": "code",
   "execution_count": 9,
   "id": "df6b8baa",
   "metadata": {},
   "outputs": [
    {
     "data": {
      "image/png": "[encoded data removed]",
      "text/plain": [
       "plot without title"
      ]
     },
     "metadata": {
      "image/png": {
       "height": 420,
       "width": 420
      }
     },
     "output_type": "display_data"
    }
   ],
   "source": [
    "p1 <- strength %>% ggplot() + geom_boxplot(aes(a, y, color = a))\n",
    "p2 <- strength %>% ggplot() + geom_boxplot(aes(b, y, color = b))\n",
    "gridExtra::grid.arrange(p1, p2)"
   ]
  },
  {
   "cell_type": "markdown",
   "id": "8f517b2f",
   "metadata": {},
   "source": [
    "- 분산분석표"
   ]
  },
  {
   "cell_type": "code",
   "execution_count": 10,
   "id": "b3116c7e",
   "metadata": {},
   "outputs": [],
   "source": [
    "anova <- aov(y ~ a + b, strength)"
   ]
  },
  {
   "cell_type": "code",
   "execution_count": 11,
   "id": "50d4f99f",
   "metadata": {},
   "outputs": [
    {
     "data": {
      "text/html": [
       "<table class=\"dataframe\">\n",
       "<caption>A tibble: 3 × 6</caption>\n",
       "<thead>\n",
       "\t<tr><th scope=col>term</th><th scope=col>df</th><th scope=col>sumsq</th><th scope=col>meansq</th><th scope=col>statistic</th><th scope=col>p.value</th></tr>\n",
       "\t<tr><th scope=col>&lt;chr&gt;</th><th scope=col>&lt;dbl&gt;</th><th scope=col>&lt;dbl&gt;</th><th scope=col>&lt;dbl&gt;</th><th scope=col>&lt;dbl&gt;</th><th scope=col>&lt;dbl&gt;</th></tr>\n",
       "</thead>\n",
       "<tbody>\n",
       "\t<tr><td>a        </td><td>2</td><td>3.44</td><td>1.72000000</td><td>18.428571</td><td>0.0027440</td></tr>\n",
       "\t<tr><td>b        </td><td>3</td><td>2.22</td><td>0.74000000</td><td> 7.928571</td><td>0.0164702</td></tr>\n",
       "\t<tr><td>Residuals</td><td>6</td><td>0.56</td><td>0.09333333</td><td>       NA</td><td>       NA</td></tr>\n",
       "</tbody>\n",
       "</table>\n"
      ],
      "text/latex": [
       "A tibble: 3 × 6\n",
       "\\begin{tabular}{llllll}\n",
       " term & df & sumsq & meansq & statistic & p.value\\\\\n",
       " <chr> & <dbl> & <dbl> & <dbl> & <dbl> & <dbl>\\\\\n",
       "\\hline\n",
       "\t a         & 2 & 3.44 & 1.72000000 & 18.428571 & 0.0027440\\\\\n",
       "\t b         & 3 & 2.22 & 0.74000000 &  7.928571 & 0.0164702\\\\\n",
       "\t Residuals & 6 & 0.56 & 0.09333333 &        NA &        NA\\\\\n",
       "\\end{tabular}\n"
      ],
      "text/markdown": [
       "\n",
       "A tibble: 3 × 6\n",
       "\n",
       "| term &lt;chr&gt; | df &lt;dbl&gt; | sumsq &lt;dbl&gt; | meansq &lt;dbl&gt; | statistic &lt;dbl&gt; | p.value &lt;dbl&gt; |\n",
       "|---|---|---|---|---|---|\n",
       "| a         | 2 | 3.44 | 1.72000000 | 18.428571 | 0.0027440 |\n",
       "| b         | 3 | 2.22 | 0.74000000 |  7.928571 | 0.0164702 |\n",
       "| Residuals | 6 | 0.56 | 0.09333333 |        NA |        NA |\n",
       "\n"
      ],
      "text/plain": [
       "  term      df sumsq meansq     statistic p.value  \n",
       "1 a         2  3.44  1.72000000 18.428571 0.0027440\n",
       "2 b         3  2.22  0.74000000  7.928571 0.0164702\n",
       "3 Residuals 6  0.56  0.09333333        NA        NA"
      ]
     },
     "metadata": {},
     "output_type": "display_data"
    }
   ],
   "source": [
    "tidy(anova)"
   ]
  },
  {
   "cell_type": "markdown",
   "id": "fcdc1868",
   "metadata": {},
   "source": [
    "- F검정 $\\rightarrow$ : $F_0 = 1.72/0.093 = 18.4286$ > $F_{2, 6, 0.01}$\n",
    "    - 온도A는 유의수준 $\\alpha = 0.01$에서 유의 $\\rightarrow$ 가열온도에 따라 제품의 강도가 모두 같지는 않음\n"
   ]
  },
  {
   "cell_type": "code",
   "execution_count": 23,
   "id": "22dd6d49",
   "metadata": {},
   "outputs": [
    {
     "data": {
      "text/html": [
       "18.4285720867347"
      ],
      "text/latex": [
       "18.4285720867347"
      ],
      "text/markdown": [
       "18.4285720867347"
      ],
      "text/plain": [
       "[1] 18.42857"
      ]
     },
     "metadata": {},
     "output_type": "display_data"
    }
   ],
   "source": [
    "1.72000000 / 0.09333333"
   ]
  },
  {
   "cell_type": "code",
   "execution_count": 21,
   "id": "2d0d6d66",
   "metadata": {},
   "outputs": [
    {
     "data": {
      "text/html": [
       "10.9247665008383"
      ],
      "text/latex": [
       "10.9247665008383"
      ],
      "text/markdown": [
       "10.9247665008383"
      ],
      "text/plain": [
       "[1] 10.92477"
      ]
     },
     "metadata": {},
     "output_type": "display_data"
    }
   ],
   "source": [
    "qf(p = 0.01, df1 = 2, df2 = 6, lower.tail = F)"
   ]
  },
  {
   "cell_type": "markdown",
   "id": "9e5df16d",
   "metadata": {},
   "source": [
    "- 온도는 고정요인이므로, 사후분석 결과\n",
    "    - $A_1$과 $A_3$간에는 매우 유의한 차이가 존재"
   ]
  },
  {
   "cell_type": "code",
   "execution_count": 20,
   "id": "0d9b818b",
   "metadata": {},
   "outputs": [
    {
     "data": {
      "text/plain": [
       "\n",
       "\tPairwise comparisons using t tests with pooled SD \n",
       "\n",
       "data:  y and a \n",
       "\n",
       "  1     2    \n",
       "2 0.235 -    \n",
       "3 0.027 0.145\n",
       "\n",
       "P value adjustment method: holm "
      ]
     },
     "metadata": {},
     "output_type": "display_data"
    }
   ],
   "source": [
    "pairwise.t.test(y, a, p.adf = \"none\")"
   ]
  },
  {
   "cell_type": "markdown",
   "id": "b16a7910",
   "metadata": {},
   "source": [
    "- 온도의 3수준 중 $A_1$수준이 제품강도를 높이는데에는 최적"
   ]
  },
  {
   "cell_type": "code",
   "execution_count": 22,
   "id": "0ddfad69",
   "metadata": {},
   "outputs": [
    {
     "data": {
      "image/png": "[encoded data removed]",
      "text/plain": [
       "plot without title"
      ]
     },
     "metadata": {
      "image/png": {
       "height": 420,
       "width": 420
      }
     },
     "output_type": "display_data"
    }
   ],
   "source": [
    "strength %>% ggplot() + geom_boxplot(aes(a, y, color = a))"
   ]
  },
  {
   "cell_type": "markdown",
   "id": "5a865a0d",
   "metadata": {},
   "source": [
    "- 온도 이외에 실험일의 효과도 유의함\n",
    "    - 따라서, $\\hat{\\sigma^2_B} = {{MS_B - MS_E}\\over{a}} = {{0.74-0.093}\\over{3}}=0.216$"
   ]
  },
  {
   "cell_type": "markdown",
   "id": "ae6628e8",
   "metadata": {},
   "source": [
    "<br>\n",
    "\n",
    "## 05.02. 라틴정방계획\n",
    "- **실험단위의 동질성을 분류할 수 있는 블록요인이 2개 있는 경우, 랜덤화블록계획의 개념을 확장시킨 실험계획**\n",
    "    \n",
    "    규칙적인 두 방향의 블록화를 용인하여 처리효과의 유의성을 탐지하는데 장애가 되는 두 가지 변동의 근원을 제거\n",
    "    \n",
    "    (본래 농업실험에서, 변동의 원인인 2가지를 근원적으로 제거하는데 사용)\n",
    "    \n",
    "<br>\n",
    "\n",
    "### 비료실험 예시\n",
    "- 5가지 비료가 생산에 미치는 효과를 판정할 때, 농지에 5X5 격자선을 그어 모두 25개의 시험구를 생성\n",
    "\n",
    "||1|2|3|4|5|\n",
    "|-|-|-|-|-|-|\n",
    "|$I$ |A|B|C|D|E|\n",
    "|$II$ |C|D|E|A|B|\n",
    "|$III$ |E|A|B|C|D|\n",
    "|$IV$ |B|C|D|E|A|\n",
    "|$V$ |D|E|A|B|C\n",
    "\n",
    "- 라틴정방계획의 배열에서는 각 행과 열마다 처리들이 정확히 한 번씩 등장\n",
    "- **만약, 토양의 습윤도가 행을 따라 변화하며, 토지의 비옥도가 열을 따라 일정하지 않을 때**\n",
    "    \n",
    "    **시험구 내 두방향의 토지 비옥도 차이로 인한 감자 생산의 변동은 라틴정방계획으로 제거**\n",
    "    \n",
    "    **$\\rightarrow$ 두 방향의 비옥도 차이를 행블록과 열블록으로 잡아, 토지비옥도가 생산에 미치는 영향을 제거한 다음 비료의 효과만 분석**\n",
    "    \n",
    "<br>\n",
    "\n",
    "### $p\\times p$ 라틴정방\n",
    "- $p$개의 행과, $p$개의 열을 갖는 정사각형\n",
    "\n",
    "    행과 열이 교차하여 이루는 $p^2$개의 위치에는 각 위치마다 처리에 대응되는 $p$개의 라틴글자 중 하나를 늘 포함하며\n",
    "    \n",
    "    각 글자는 각 행과 열에서 단 한번만 나타남\n",
    "    \n",
    "- 행블록 요인 $R$, 열블록 요인 $C$, 관심요인 $Trt$일 때, $p\\times p$라틴 정방계획의 통계모형은\n",
    "    \n",
    "    - **$\\rho_i$ : $i$번째 행의 효과**\n",
    "    - **$\\gamma_j$ : $j$번째 열의 효과**\n",
    "    - **$\\tau_k$ : $k$번째 처리의 효과**\n",
    "    - **관심요인과 행블록, 열블록의 수준수가 반드시 모두 같아야 하며, 데이터의 수는 $p^2$개**\n",
    "\n",
    "\n",
    "$$x_{ijk} = \\mu + \\rho_i + \\gamma_j+ \\tau_k + \\epsilon_{ijk}\\;\\;\\;(i, j, k=1, \\dots, p)$$ \n",
    "\n",
    "\n",
    "**라틴정방계획에서 상호작용효과는 검증불가**\n",
    "- 오로지 주효과의 통계적 유의성을 검증할 수 있으며, 실험이 간단\n",
    "\n",
    "<br>\n",
    "\n",
    "### 제곱합 및 자유도 분할\n",
    "\n",
    "$$SS_T = SS_R + SS_C + SS_{Trt} + SS_E$$\n",
    "\n",
    "$$p^2 -1 = (p-1) + (p-1) + (p-1) + (p-1)(p-2)$$\n",
    "\n",
    "<br>\n",
    "\n",
    "$$SS_T = \\sum^p_i\\sum^p_j \\sum^p_k (x_{ijk} - \\bar{\\bar{x}})^2 = \\sum^p_i\\sum^p_j \\sum^p_k (x_{ijk})^2-{{T^2}\\over{p^2}}$$\n",
    "\n",
    "$$SS_R = \\sum^p_i\\sum^p_j \\sum^p_k (\\bar{x_{i..}}-\\bar{\\bar{x}})^2 = {1\\over p}\\sum^p_i T^2_{i..}-{{T^2}\\over{p^2}}$$\n",
    "\n",
    "$$SS_R = \\sum^p_i\\sum^p_j \\sum^p_k (\\bar{x_{.j.}}-\\bar{\\bar{x}})^2 = {1\\over p}\\sum^p_j T^2_{.j.}-{{T^2}\\over{p^2}}$$\n",
    "\n",
    "\n",
    "$$SS_{Trt} = \\sum^p_i\\sum^p_j \\sum^p_k (x_{..k} - \\bar{\\bar{x}})^2 = {1\\over p}\\sum^p_k T^2_{..k}-{{T^2}\\over{p^2}}$$\n",
    "\n",
    "$$SS_E = SS_T - SS_R - SS_C - SS_{Trt}$$\n",
    "\n",
    "<br>\n",
    "\n",
    "### 가설설정 및 검정통계량\n",
    "$$H_0 : \\tau_k = 0\\;\\;\\;(k=1. \\dots, p)$$\n",
    "\n",
    "\n",
    "<br>\n",
    "\n",
    "- 검정통계량\n",
    "\n",
    "<br>\n",
    "\n",
    "$$F_0 = {{MS_{Trt}}\\over{MS_E}}$$이며, 만일 $F_0 > F(p-1, (p-2)(p-1);\\;\\;\\alpha)$면 귀무가설을 기각\n",
    "\n",
    "$\\rightarrow$ 어느수준 간에는 효과의 차이가 존재한다고 결론\n",
    "\n",
    "<br>\n",
    "\n",
    "### 분산분석표\n",
    "\n",
    "\n",
    "| 변인 | 제곱합 | 자유도 | 평균제곱 | $F_0$ |\n",
    "| - | - | - | - | - |\n",
    "| $R$ | $SS_R$ | $p$-$1$ | $MS_R$ |  \n",
    "| $C$ | $SS_C$ | $p$-$1$ | $MS_C$ | |\n",
    "| $Trt$ | $SS$$_{Trt}$ | $p$-$1$ | $MS$$_{Trt}$ | $MS$$_{Trt}/MS_E$ |  \n",
    "| $E$ | $SS_E$ | $(p$-$1)$ | $MS_E$ | |\n",
    "| |\n",
    "| $T$ | $SS_T$ | $p^2$-$1$ |   |  |"
   ]
  },
  {
   "cell_type": "markdown",
   "id": "035a4229",
   "metadata": {},
   "source": [
    "<br>\n",
    "\n",
    "### 로켓성능 예시\n",
    "- 5가지 로켓 추진제 ($Trt$)\n",
    "- 원료 $R$와 기사 숙련도 $C$마다 추진제의 성능에 영향\n",
    "- 추진제의 성능평가를 위해, 원료 간의 변동과 기사 간 변동을 제거"
   ]
  },
  {
   "cell_type": "code",
   "execution_count": 30,
   "id": "64aacb55",
   "metadata": {},
   "outputs": [],
   "source": [
    "y <- c(-1, -5, -6, -1, -1, -8, -1, 5, 2, 11, -7, 13, 1, 2, -4, 1, 6, 1, -2, -3, -3, 5, -5, 4, 6)\n",
    "row <- factor(c(rep(1, 5), rep(2, 5), rep(3, 5), rep(4, 5), rep(5, 5)))\n",
    "col <- factor(c(rep(c(1, 2, 3, 4, 5), 5)))\n",
    "trt <- c(c(\"a\", \"b\", \"c\", \"d\", \"e\",\n",
    "           \"b\", \"c\", \"d\", \"e\", \"a\", \n",
    "           \"c\", \"d\", \"e\", \"a\", \"b\",  \n",
    "           \"d\", \"e\", \"a\", \"b\", \"c\", \n",
    "           \"e\", \"a\", \"b\", \"c\", \"d\"))\n",
    "rocket.data = tibble(y, row, col, trt)"
   ]
  },
  {
   "cell_type": "code",
   "execution_count": 37,
   "id": "e6fd123a",
   "metadata": {},
   "outputs": [
    {
     "data": {
      "text/html": [
       "<table class=\"dataframe\">\n",
       "<caption>A tibble: 5 × 6</caption>\n",
       "<thead>\n",
       "\t<tr><th scope=col>col</th><th scope=col>1</th><th scope=col>2</th><th scope=col>3</th><th scope=col>4</th><th scope=col>5</th></tr>\n",
       "\t<tr><th scope=col>&lt;fct&gt;</th><th scope=col>&lt;chr&gt;</th><th scope=col>&lt;chr&gt;</th><th scope=col>&lt;chr&gt;</th><th scope=col>&lt;chr&gt;</th><th scope=col>&lt;chr&gt;</th></tr>\n",
       "</thead>\n",
       "<tbody>\n",
       "\t<tr><td>1</td><td>1 (a)</td><td>1 (b)</td><td>1 (c)</td><td>1 (d)</td><td>1 (e)</td></tr>\n",
       "\t<tr><td>2</td><td>2 (b)</td><td>2 (c)</td><td>2 (d)</td><td>2 (e)</td><td>2 (a)</td></tr>\n",
       "\t<tr><td>3</td><td>3 (c)</td><td>3 (d)</td><td>3 (e)</td><td>3 (a)</td><td>3 (b)</td></tr>\n",
       "\t<tr><td>4</td><td>4 (d)</td><td>4 (e)</td><td>4 (a)</td><td>4 (b)</td><td>4 (c)</td></tr>\n",
       "\t<tr><td>5</td><td>5 (e)</td><td>5 (a)</td><td>5 (b)</td><td>5 (c)</td><td>5 (d)</td></tr>\n",
       "</tbody>\n",
       "</table>\n"
      ],
      "text/latex": [
       "A tibble: 5 × 6\n",
       "\\begin{tabular}{llllll}\n",
       " col & 1 & 2 & 3 & 4 & 5\\\\\n",
       " <fct> & <chr> & <chr> & <chr> & <chr> & <chr>\\\\\n",
       "\\hline\n",
       "\t 1 & 1 (a) & 1 (b) & 1 (c) & 1 (d) & 1 (e)\\\\\n",
       "\t 2 & 2 (b) & 2 (c) & 2 (d) & 2 (e) & 2 (a)\\\\\n",
       "\t 3 & 3 (c) & 3 (d) & 3 (e) & 3 (a) & 3 (b)\\\\\n",
       "\t 4 & 4 (d) & 4 (e) & 4 (a) & 4 (b) & 4 (c)\\\\\n",
       "\t 5 & 5 (e) & 5 (a) & 5 (b) & 5 (c) & 5 (d)\\\\\n",
       "\\end{tabular}\n"
      ],
      "text/markdown": [
       "\n",
       "A tibble: 5 × 6\n",
       "\n",
       "| col &lt;fct&gt; | 1 &lt;chr&gt; | 2 &lt;chr&gt; | 3 &lt;chr&gt; | 4 &lt;chr&gt; | 5 &lt;chr&gt; |\n",
       "|---|---|---|---|---|---|\n",
       "| 1 | 1 (a) | 1 (b) | 1 (c) | 1 (d) | 1 (e) |\n",
       "| 2 | 2 (b) | 2 (c) | 2 (d) | 2 (e) | 2 (a) |\n",
       "| 3 | 3 (c) | 3 (d) | 3 (e) | 3 (a) | 3 (b) |\n",
       "| 4 | 4 (d) | 4 (e) | 4 (a) | 4 (b) | 4 (c) |\n",
       "| 5 | 5 (e) | 5 (a) | 5 (b) | 5 (c) | 5 (d) |\n",
       "\n"
      ],
      "text/plain": [
       "  col 1     2     3     4     5    \n",
       "1 1   1 (a) 1 (b) 1 (c) 1 (d) 1 (e)\n",
       "2 2   2 (b) 2 (c) 2 (d) 2 (e) 2 (a)\n",
       "3 3   3 (c) 3 (d) 3 (e) 3 (a) 3 (b)\n",
       "4 4   4 (d) 4 (e) 4 (a) 4 (b) 4 (c)\n",
       "5 5   5 (e) 5 (a) 5 (b) 5 (c) 5 (d)"
      ]
     },
     "metadata": {},
     "output_type": "display_data"
    }
   ],
   "source": [
    "rocket.data %>% mutate(val = paste0(col, \" (\", trt, \")\")) %>%\n",
    "    pivot_wider(id_cols = col, values_from = val, names_from = row)"
   ]
  },
  {
   "cell_type": "markdown",
   "id": "cb18adf4",
   "metadata": {},
   "source": [
    "- 추진제($Trt$) 간 차이가 통계적으로 유의 $\\rightarrow$ 추진제에 따라 성능이 모두 같지 않음 $\\rightarrow$ 추후분석이 필요"
   ]
  },
  {
   "cell_type": "code",
   "execution_count": 39,
   "id": "e1b9bf7a",
   "metadata": {},
   "outputs": [
    {
     "data": {
      "text/html": [
       "<table class=\"dataframe\">\n",
       "<caption>A tibble: 4 × 6</caption>\n",
       "<thead>\n",
       "\t<tr><th scope=col>term</th><th scope=col>df</th><th scope=col>sumsq</th><th scope=col>meansq</th><th scope=col>statistic</th><th scope=col>p.value</th></tr>\n",
       "\t<tr><th scope=col>&lt;chr&gt;</th><th scope=col>&lt;dbl&gt;</th><th scope=col>&lt;dbl&gt;</th><th scope=col>&lt;dbl&gt;</th><th scope=col>&lt;dbl&gt;</th><th scope=col>&lt;dbl&gt;</th></tr>\n",
       "</thead>\n",
       "<tbody>\n",
       "\t<tr><td>row      </td><td> 4</td><td> 68</td><td>17.00000</td><td>1.593750</td><td>0.239058537</td></tr>\n",
       "\t<tr><td>col      </td><td> 4</td><td>150</td><td>37.50000</td><td>3.515625</td><td>0.040373048</td></tr>\n",
       "\t<tr><td>trt      </td><td> 4</td><td>330</td><td>82.50000</td><td>7.734375</td><td>0.002536502</td></tr>\n",
       "\t<tr><td>Residuals</td><td>12</td><td>128</td><td>10.66667</td><td>      NA</td><td>         NA</td></tr>\n",
       "</tbody>\n",
       "</table>\n"
      ],
      "text/latex": [
       "A tibble: 4 × 6\n",
       "\\begin{tabular}{llllll}\n",
       " term & df & sumsq & meansq & statistic & p.value\\\\\n",
       " <chr> & <dbl> & <dbl> & <dbl> & <dbl> & <dbl>\\\\\n",
       "\\hline\n",
       "\t row       &  4 &  68 & 17.00000 & 1.593750 & 0.239058537\\\\\n",
       "\t col       &  4 & 150 & 37.50000 & 3.515625 & 0.040373048\\\\\n",
       "\t trt       &  4 & 330 & 82.50000 & 7.734375 & 0.002536502\\\\\n",
       "\t Residuals & 12 & 128 & 10.66667 &       NA &          NA\\\\\n",
       "\\end{tabular}\n"
      ],
      "text/markdown": [
       "\n",
       "A tibble: 4 × 6\n",
       "\n",
       "| term &lt;chr&gt; | df &lt;dbl&gt; | sumsq &lt;dbl&gt; | meansq &lt;dbl&gt; | statistic &lt;dbl&gt; | p.value &lt;dbl&gt; |\n",
       "|---|---|---|---|---|---|\n",
       "| row       |  4 |  68 | 17.00000 | 1.593750 | 0.239058537 |\n",
       "| col       |  4 | 150 | 37.50000 | 3.515625 | 0.040373048 |\n",
       "| trt       |  4 | 330 | 82.50000 | 7.734375 | 0.002536502 |\n",
       "| Residuals | 12 | 128 | 10.66667 |       NA |          NA |\n",
       "\n"
      ],
      "text/plain": [
       "  term      df sumsq meansq   statistic p.value    \n",
       "1 row        4  68   17.00000 1.593750  0.239058537\n",
       "2 col        4 150   37.50000 3.515625  0.040373048\n",
       "3 trt        4 330   82.50000 7.734375  0.002536502\n",
       "4 Residuals 12 128   10.66667       NA           NA"
      ]
     },
     "metadata": {},
     "output_type": "display_data"
    }
   ],
   "source": [
    "anova <- aov(y ~ row + col + trt, rocket.data)\n",
    "tidy(anova)"
   ]
  },
  {
   "cell_type": "markdown",
   "id": "ed1e2a03",
   "metadata": {},
   "source": [
    "- $Trt_a$와 $Trt_b$, $Trt_b$와 $Trt_d$의 차이가 유의"
   ]
  },
  {
   "cell_type": "code",
   "execution_count": 43,
   "id": "e96405f5",
   "metadata": {},
   "outputs": [
    {
     "data": {
      "text/plain": [
       "\n",
       "\tPairwise comparisons using t tests with pooled SD \n",
       "\n",
       "data:  y and trt \n",
       "\n",
       "  a     b     c     d    \n",
       "b 0.041 -     -     -    \n",
       "c 0.201 1.000 -     -    \n",
       "d 1.000 0.016 0.086 -    \n",
       "e 1.000 0.236 0.820 0.820\n",
       "\n",
       "P value adjustment method: holm "
      ]
     },
     "metadata": {},
     "output_type": "display_data"
    }
   ],
   "source": [
    "pairwise.t.test(y, trt, p.adf = \"none\")"
   ]
  },
  {
   "cell_type": "code",
   "execution_count": 44,
   "id": "f8c777e5",
   "metadata": {},
   "outputs": [
    {
     "data": {
      "image/png": "[encoded data removed]",
      "text/plain": [
       "plot without title"
      ]
     },
     "metadata": {
      "image/png": {
       "height": 420,
       "width": 420
      }
     },
     "output_type": "display_data"
    }
   ],
   "source": [
    "ggplot(rocket.data) + geom_boxplot(aes(trt, y, color = trt))"
   ]
  },
  {
   "cell_type": "markdown",
   "id": "c3ea6da7",
   "metadata": {},
   "source": [
    "<br>\n",
    "\n",
    "## 05.03. 라틴정방의 구축\n",
    "\n",
    "### 1단계 \n",
    "- 2개의 블록요인을 행과 열에 랜덤하게 배치\n",
    "\n",
    "<br>\n",
    "\n",
    "### 2단계 \n",
    "- 표준형계획에서 행의 순서를 랜덤하게 배열, 열의 순서를 랜덤하게 배열\n",
    "\n",
    "$$\\begin{bmatrix}A&B&C\\\\B&C&A\\\\C&A&B \\end{bmatrix} \\rightarrow \\begin{bmatrix}B&C&A\\\\A&B&C\\\\C&A&B \\end{bmatrix} \\rightarrow \\begin{bmatrix}A&B&C\\\\C&A&B\\\\B&C&A \\end{bmatrix}$$\n",
    "\n",
    "$$표준형 \\rightarrow 행의\\;랜덤화 \\rightarrow 열의\\;랜덤화$$"
   ]
  },
  {
   "cell_type": "markdown",
   "id": "b3fced32",
   "metadata": {},
   "source": [
    "<br>\n",
    "\n",
    "#### 라틴정방계획은 일부실시법에 해당\n",
    "- 예\n",
    "    - 수준이 3개인 블록요인이 2개 있고, 관심요한 또한 수준이 3개인 경우\n",
    "    \n",
    "        표준형은 전체$3^3$ 실험 중 일부인 $3^{3-1}$개의 조건에 실험이 이루어짐\n",
    "        \n",
    "        <br>\n",
    "     \n",
    "    - 3원배치법인 $3^3$실험에서와 같이 모든 조건에서 실험이 이루어지지는 않았지만, 각 행과 열과 각 문자에서 3번씩 실험이 진행\n",
    "    \n",
    "    <br>\n",
    "    \n",
    "$$\\begin{bmatrix}A&B&C\\\\B&C&A\\\\C&A&B \\end{bmatrix}$$ $$\\downarrow$$\n",
    "\n",
    "| | | 열1 | 열2 | 열3 |\n",
    "| - | - | - | - | - |\n",
    "| 행1 | A <br> B <br> C | O <br> $\\;$ <br> $\\;$ | $\\;$ <br> O <br> $\\;$ | $\\;$<br> $\\;$ <br> O |\n",
    "| |\n",
    "| 행2 | A <br> B <br> C |  $\\;$ <br> O <br> $\\;$ |  $\\;$<br> $\\;$ <br> O | O <br> $\\;$ <br> $\\;$ |\n",
    "| | \n",
    "| 행3 | A <br> B <br> C | $\\;$<br> $\\;$ <br> O | O <br> $\\;$ <br> $\\;$ | $\\;$ <br> O <br> $\\;$  |"
   ]
  }
 ],
 "metadata": {
  "kernelspec": {
   "display_name": "R",
   "language": "R",
   "name": "ir"
  },
  "language_info": {
   "codemirror_mode": "r",
   "file_extension": ".r",
   "mimetype": "text/x-r-source",
   "name": "R",
   "pygments_lexer": "r",
   "version": "4.2.2"
  }
 },
 "nbformat": 4,
 "nbformat_minor": 5
}
