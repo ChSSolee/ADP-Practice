{
 "cells": [
  {
   "cell_type": "markdown",
   "id": "d09e6f66",
   "metadata": {},
   "source": [
    "# 02. 두 모집단의 비교\n",
    "\n",
    "<br>\n",
    "\n",
    "## 02.01. 기본 용어 정리\n",
    "- 모집단 (population) : 통계분석의 대상이 되는 단위 원소의 총 집합\n",
    "\n",
    "- 랜덤추출 (random sampling) : 모집단을 잘 대표할 수 있도록 모집단을 구성하는 모든 원소마다 표본으로 선택될 확률이 같고, 한 원소의 선택이 다른 원소의 선택에 영향을 미치지 않도록 표본을 추출\n",
    "- 랜덤표본 (random sample) : 랜덤추출을 통하여 얻어지는 모집단의 일부\n",
    "- 모수 (parameter) : 모평균, 모분산, 모비율 등과 같이 모집단을 묘사하거나 규정하는 데 도움이 되는 상수\n",
    "- 통계량 (statistic) : 표본평균, 표본분산, 표본비율 등과 같이 모수를 추정하기 위하여 관측된 랜덤표본으로부터 계산된 값\n",
    "- 추정 (estimation) : 표본통계량을 기초로 모수에 대한 추정값을 얻는 것\n",
    "- 점추정 (point estimation) : 단일 통계량 값으로 모수를 추정하는 것\n",
    "- 구간추정 (interval estimation) : 추정값 자체를 표본오차까지 고려하여 구간을 만들어 제시하는 추정방식\n",
    "\n",
    "$$추정값\\;\\pm\\;입계값\\times(추정량의\\;표준편차)$$\n",
    "\n",
    "<br>\n",
    "\n",
    "- 신뢰수준 (confidence level) : 구간추정에서 얻어진 신뢰구간이 모수 추정에 얼마나 신뢰성이 있는지를 나타내는 신뢰도를 말하며, 흔이 0.95나 0.99 사용\n",
    "\n",
    "<br>\n",
    "\n",
    "- 통계적 가설검정 (statistical hypothesis testing) : 자료를 기초로 실험자가 주장하고 싶은 가설의 옳고 그름을 판정하는 통계절차\n",
    "- 통계적 가설 (statistical hypothesis) : 모집단에 대한 주장이나 추측을 말하며, 귀무가설 ($H_0$ : null hypothesis)과 대립가설 ($H_1$ : alternative hypothesis)의 두 가설을 설정하여 자료에 담긴 정보를 토대로 두 가설 중 어느 하나로 결론을 내리는 형식을 취함\n",
    "    - **실험자가 주장하려는 사실을 대립가설로 설정**\n",
    "\n",
    "- 검정통계량 (test statistic) : 귀무가설 $H_0$의 기각여부를 결정할 때 사용되는 통계량으로 관심 있는 모수가 무엇이냐에 따라 결정\n",
    "- 기각역 (rejection region) : 귀무가설 $H_0$를 기각시키는 검정통계량의 영역\n",
    "- 제1종오류 (Type 1 error) & 제2종 오류 (Type 2 error)\n",
    "    - 제1종 오류를 범할 확률은 $\\alpha$, 제2종 오류를 범할 확률을 $\\beta$라 표기하면, $\\alpha$와 $\\beta$의 두 확률은 통계적 결정을 잘못 내릴 확률이므로 가능한 적을수록 좋음\n",
    "    - 그러나, 이론적으로 두 오류의 확률을 동시에 작게 만들 수 없으므로 일단 $\\alpha$의 값을 0.05, 0.01 등과 같이 작은 값으로 고정시킨 후 $\\beta$를 최소화 하는 방식을 취하여 통계적 가설검정방법을 만듬\n",
    "\n",
    "| 통계적 검정 | 귀무가설 참  | 귀머가설 거짓 |\n",
    "| - | - | - |\n",
    "| 귀무가설 채택 | 옳은 결정 (1-$\\alpha$) | 제2종 오류 ($\\beta$)|\n",
    "| 대립가설 기각 | 제1종 오류 ($\\alpha$) | 옳은 결정 (1-$\\beta$) |\n",
    "\n",
    "- 유의수준 (significance level) : 제1종 오류를 범하는 최대허용확률. 통상 0.05또는 0.01\n",
    "- 유의확률 (significance probability) : P-value라고 부르며, 실제로는 귀무가설이 참인데도 대립가설이 맞다고 할 확률. \n",
    "    - 이 확률이 작을수록 귀무가설이 참이라고 하는 가설을 받아들일 수 없음 (귀무가설 기각)\n",
    "    - 유의확률이 유의수준보다 작으면 대립가설을 채택"
   ]
  },
  {
   "cell_type": "markdown",
   "id": "31eaac1a",
   "metadata": {},
   "source": [
    "<br>\n",
    "\n",
    "## 02.02. 독립표본을 이용한 두 모평균 차이에 대한 추론\n",
    "- **독립표본** : 2개의 표본이 서로 아무런 관련 없이 수집\n",
    "\n",
    "<br>\n",
    "\n",
    "| 구분 | 모집단 1 | 모집단 2|\n",
    "| - | - | - |\n",
    "| 모평균 | $\\mu_1$ | $\\mu_2$|\n",
    "| 모분산 | $\\sigma_1^2$ | $\\sigma_2^2$|\n",
    "| 표본크기 | $n_1$ | $n_2$|\n",
    "| |\n",
    "| 랜덤표본 | $x_{11},\\dots,x_{1n_1}$ | $x_{21},\\dots,x_{2n_2}$ |\n",
    "|표본평균| $\\bar{x_1} = {{\\sum x_{1i}}\\over{n_1}}$ | $\\bar{x_2} = {{\\sum n_{2i}}\\over{n_2}}$|\n",
    "| 표본분산 | $V_1 = {{\\sum (x_{1i} - \\bar{x_1})^2}\\over{n_1 -1}}$ |  $V_2 = {{\\sum (x_{2i} - \\bar{x_2})^2}\\over{n_2 -1}}$|\n",
    "\n"
   ]
  },
  {
   "cell_type": "markdown",
   "id": "b7b76f8d",
   "metadata": {},
   "source": [
    "<br>\n",
    "\n",
    "- 모집단 1과 모집단 2가 있으며, 두 모집단의 모평균과 모분산은 각각 $\\mu_1$, $\\sigma^2_1$과 $\\mu_2$, $\\sigma^2_2$이다.\n",
    "- 모집단 1에서 $n_1$개의 랜덤표본을 추출하고, 그것을 $x_{1i}$로 표기 (모집단 2에서 $n_2$개의 랜덤표본을 추추랗고, $x_{2i}$로 표기)\n",
    "- **각 모집단에서 독립적으로 추출된 자료의 표본자료를 기초로 각각 표본평균과 표본분산을 계산하며, 추출된 2개의 랜덤표본을 독립표본**\n",
    "- 독립표본에 대한 추론은 표본이 대표본인가 소표본인가에 따라 상이\n",
    "    - **독립표본에 대한 추론에서는 표본크기 $n_1$과 $n_2$ 둘 다 30보다 크면 대표본이라 하고, 둘 다 30보다 작으면 소표본으로 취급**\n",
    "    - **소표본이 추출되었을 경우, 독립표본에 대한 추론에서는 일반적으로 다음과 같은 가정**\n",
    "        \n",
    "        1. 모집단 1은 정규분포 $N(\\mu_1, \\sigma^2$)를 따른다\n",
    "        2. 모집단 2는 정규분포 $N(\\mu_2, \\sigma^2$)를 따른다\n",
    "        3. 각 모집단에서 랜덤 추출된 두 표본은 서로 독립\n",
    "        \n",
    " - **가정 1과 2에서 두 모집단 분포의 모분산이 서로 같게 $\\sigma^2$로 설정되었음 (공통분산 가정)**\n",
    "\n",
    "<br>\n",
    "\n",
    "- **두 모집단에서 얻어진 랜덤표본을 이용하여 공통분산 $\\sigma^2$를 추정**\n",
    "    - **모집단 1에서는 표본분산 $V_1$으로 $\\sigma^2$를 추정, 모집단 2에서는 표본분사 $V_2$로 $\\sigma^2$를 추정**\n",
    "    - **공통분산 $\\sigma^2$은 하나의 고정된 상수값이므로 추정량이 2개 존재하면 안되며, $\\sigma^2$에 대한 정보는 $V_1$과 $V_2$에 모두 포함되어 있음**\n",
    "    \n",
    "        **따라서, 각각의 자유도에 기초한 두 표본분산의 가중평균을 취하여 합동표본분산 (pooled sample variance)로 공통분산을 추정**\n",
    "        \n",
    "        $$s^2_p = {{(n_1 -1)V_1 + (n_2-1)V_2}\\over{n_1 + n_2 -2}}$$\n",
    "    \n",
    "    **이때, 다음 통게량의 분포는 자유도 ($n_1 + n_2 + 2$)의 $t$분포를 따르며, 이를 이용하여 모수에 대한 검정을 하는 것을 $t$검정**\n",
    "    \n",
    "    $$t = {{(\\bar{x_1}-\\bar{x_2}) - (\\mu_1 - \\mu_2)}\\over{s_p \\sqrt{{1\\over{n_1}}+{1\\over{n_2}}}}}$$\n",
    "    \n",
    "<br>"
   ]
  },
  {
   "cell_type": "markdown",
   "id": "1297bb72",
   "metadata": {},
   "source": [
    "**독립 이표본에서 평균 차이 검정 : 소표본**\n",
    "> 귀무가설 : $H_0 : \\mu_1 - \\mu_2 = \\delta_0$\n",
    ">\n",
    "> 검정통계량의 값 : $t = {{(\\bar{x_1} - \\bar{x_2} - \\delta_0)}\\over{s_p \\sqrt{{1\\over{n_1}}+{1\\over{n_2}}}}}$\n",
    "\n",
    "> 대립가설 & 유의수준 $\\alpha$에서 귀무가설의 기각역\n",
    ">\n",
    "> $H_1 : \\mu_1 - \\mu_2 > \\delta_0\\;\\;\\;$ | $\\;\\;\\;t > t(n_1 + n_2 - 2; \\alpha)$\n",
    ">\n",
    "> $H_1 : \\mu_1 - \\mu_2 < \\delta_0\\;\\;\\;$ | $\\;\\;\\;t < t(n_1 + n_2 - 2; \\alpha)$\n",
    "> \n",
    "> $H_1 : \\mu_1 - \\mu_2 \\neq \\delta_0\\;\\;\\;$ | $\\;\\;\\;|t| > t(n_1 + n_2 - 2; \\alpha/2)$\n",
    "\n",
    "> \n",
    ">\n",
    "> 평균차이 ($\\mu_1 - \\mu_2$에 대한 100(1-$\\alpha$)% 신뢰구간\n",
    ">\n",
    "> $(\\bar{x_1}-\\bar{x_2}) \\pm t(n_1+n_2-2, \\alpha / 2)\\times {s_p \\sqrt{{1\\over{n_1}}+{1\\over{n_2}}}}$"
   ]
  },
  {
   "cell_type": "markdown",
   "id": "360393b2",
   "metadata": {},
   "source": [
    "<br>\n",
    "\n",
    "#### 제약회사 예시\n",
    "- 생산된 직후 $n_1=10$개의 약 (표본 1), 1년 묵은 $n_2=10$개의 약 (표본 2)\n",
    "- $\\mu_1$ (생산 직후의 모든 약에 대한 평균 약효), $\\mu_2$ (1년 묵은 모든 약에 대한 평균 약효)에 대한 가설검정\n",
    "\n",
    "    (1년이 지나도 약효는 보존되는가?)\n",
    "    \n",
    "    - $H_0 : \\mu_1 - \\mu_2 = 0$ vs $H_1 : \\mu_1 - \\mu2 \\neq 0$"
   ]
  },
  {
   "cell_type": "code",
   "execution_count": 1,
   "id": "8dfb42e5",
   "metadata": {},
   "outputs": [],
   "source": [
    "sample1 <- c(10.2, 10.5, 10.3, 10.8, 9.8, 10.6, 10.7, 10.2, 10, 10.1)\n",
    "sample2 <- c(9.8, 9.6, 10.1, 10.2, 10.1, 9.7, 9.5, 9.6, 9.8, 9.9)"
   ]
  },
  {
   "cell_type": "markdown",
   "id": "aa15b27f",
   "metadata": {},
   "source": [
    "- 각 표본의 표본평균/표본분산"
   ]
  },
  {
   "cell_type": "code",
   "execution_count": 8,
   "id": "f4006574",
   "metadata": {},
   "outputs": [
    {
     "data": {
      "text/html": [
       "10.32"
      ],
      "text/latex": [
       "10.32"
      ],
      "text/markdown": [
       "10.32"
      ],
      "text/plain": [
       "[1] 10.32"
      ]
     },
     "metadata": {},
     "output_type": "display_data"
    },
    {
     "data": {
      "text/html": [
       "0.104"
      ],
      "text/latex": [
       "0.104"
      ],
      "text/markdown": [
       "0.104"
      ],
      "text/plain": [
       "[1] 0.104"
      ]
     },
     "metadata": {},
     "output_type": "display_data"
    }
   ],
   "source": [
    "mean(sample1); var(sample1)"
   ]
  },
  {
   "cell_type": "code",
   "execution_count": 9,
   "id": "5f8d1b1e",
   "metadata": {},
   "outputs": [
    {
     "data": {
      "text/html": [
       "9.83"
      ],
      "text/latex": [
       "9.83"
      ],
      "text/markdown": [
       "9.83"
      ],
      "text/plain": [
       "[1] 9.83"
      ]
     },
     "metadata": {},
     "output_type": "display_data"
    },
    {
     "data": {
      "text/html": [
       "0.0578888888888888"
      ],
      "text/latex": [
       "0.0578888888888888"
      ],
      "text/markdown": [
       "0.0578888888888888"
      ],
      "text/plain": [
       "[1] 0.05788889"
      ]
     },
     "metadata": {},
     "output_type": "display_data"
    }
   ],
   "source": [
    "mean(sample2); var(sample2)"
   ]
  },
  {
   "cell_type": "markdown",
   "id": "9c2b839d",
   "metadata": {},
   "source": [
    "- **`t.test()`의 `var.equal`을 TRUE $\\rightarrow$ 등분산가정**"
   ]
  },
  {
   "cell_type": "code",
   "execution_count": 13,
   "id": "6391e09b",
   "metadata": {},
   "outputs": [
    {
     "data": {
      "text/plain": [
       "\n",
       "\tTwo Sample t-test\n",
       "\n",
       "data:  sample1 and sample2\n",
       "t = 3.8511, df = 18, p-value = 0.00117\n",
       "alternative hypothesis: true difference in means is not equal to 0\n",
       "95 percent confidence interval:\n",
       " 0.222688 0.757312\n",
       "sample estimates:\n",
       "mean of x mean of y \n",
       "    10.32      9.83 \n"
      ]
     },
     "metadata": {},
     "output_type": "display_data"
    }
   ],
   "source": [
    "t.test(sample1, sample2, mu = 0, var.equal = T)"
   ]
  },
  {
   "cell_type": "markdown",
   "id": "52f2852d",
   "metadata": {},
   "source": [
    "<br>\n",
    "\n",
    "## 02.03. 짝지어진 비교\n",
    "- **짝지어진 표본의 경우 n개의 데이터 쌍 $(x_{11}, x_{22}), \\dots (x_{1n}, x_{2n})$이 서로 독립적으로 측정되며, 이 때 두 모평균 간에 차이가 있는지를 통계적으로 검정 $\\rightarrow$ 짝지어진 t검정 (pairwise t-test)**\n",
    "- 각 쌍마다 나타나는 2개의 관찰값의 차이를 기초로 검정을 수행\n",
    "\n",
    "<br>\n",
    "\n",
    "| 쌍 | 표본 1 | 표본 2 | 차이 $d$ |\n",
    "| ------ | ------ | ------ | ------: |\n",
    "| 1 | $x_{11}$ | $x_{22}$ | $d_{1}=x_{11}-x_{21}$ |\n",
    "| $\\vdots$ | $\\vdots$ | $\\vdots$ | $\\vdots$ |\n",
    "| n | $x_{1n}$ | $x_{2n}$ | $d_{n}=x_{1n}-x_{2n}$ |\n",
    "\n",
    "<br>\n",
    "\n",
    "- 통계적 추론을 위하여 차이갔 $d_i$를 평균 $\\delta$, 분산 $\\sigma_{\\delta}^2$의 정규분포에서 추출된 랜덤표본이라고 가정\n",
    "\n",
    "    **짝지어진 표본**에서 검정을 할 때 다음과 같은 가정\n",
    "    \n",
    "    $$d_1, d_2, \\dots d_n \\sim N(\\delta, \\sigma^2_{\\delta}),\\;\\;\\;\\delta = \\mu_1 - \\mu_2$$\n",
    "    \n",
    "    이 경우 귀무가설은\n",
    "    \n",
    "    $$H_0 : \\delta = \\delta_0$$\n",
    "    \n",
    "    ($\\delta_0$는 두 모평균 간의 차이로 설정된 고정된 상수)\n",
    "    "
   ]
  },
  {
   "cell_type": "markdown",
   "id": "9574fd9c",
   "metadata": {},
   "source": [
    "- **차이값 $d_i$는 단일표본자료로 간주하므로, 검정통계량을 계산할 때는 차이값의 평균 $\\bar{d}$와 차이값의 분산 $V_d$를 계산**\n",
    "\n",
    "$$\\bar{d} = {{\\sum^n_{i=1}d_i}\\over{n}},\\;\\;\\; V_d = {{\\sum^n_{i=1}(d_i-\\bar{d})^2}\\over{n-1}}$$\n",
    "    \n",
    "- 또한 검정통계량의 공식은 다음과 같으며 자유도 (n-1)의 $t$분포를 따름\n",
    "    \n",
    "$$t = {{\\bar{d}-\\delta_0}\\over{s_d / \\sqrt{n}}},\\;\\;\\; s_d = \\sqrt{V_d}$$    "
   ]
  },
  {
   "cell_type": "markdown",
   "id": "3fb77c41",
   "metadata": {},
   "source": [
    "**짝지어진 t검정**\n",
    "> 데이터 : $(x_{11},\\dots,(x_{1n}, x_{2n}))$\n",
    ">\n",
    "> 귀무가설 : $H_0:\\delta = \\delta_0$\n",
    ">\n",
    "> 검정통계량의 값 : $t = {{(\\bar{\\delta} - \\delta_0)}\\over{s_d \\sqrt{n}}}, \\;\\;\\;(d_i = x_{1i}-x_{2i})$\n",
    "\n",
    "> 대립가설 & 유의수준 $\\alpha$에서 귀무가설의 기각역\n",
    ">\n",
    "> $H_1 : \\delta > \\delta_0\\;\\;\\;$ | $\\;\\;\\;t > t(n-1; \\alpha)$\n",
    ">\n",
    "> $H_1 : \\delta < \\delta_0\\;\\;\\;$ | $\\;\\;\\;t < t(n-1; \\alpha)$\n",
    "> \n",
    "> $H_1 : \\delta \\neq \\delta_0\\;\\;\\;$ | $\\;\\;\\;|t| > t(n-1; \\alpha/2)$\n",
    "\n",
    "> \n",
    ">\n",
    "> 평균차이 ($\\delta$에 대한 100(1-$\\alpha$)% 신뢰구간\n",
    ">\n",
    "> $\\bar{\\delta} \\pm t(n-1, \\alpha/2) {s_d \\over {\\sqrt{n}}}$"
   ]
  },
  {
   "cell_type": "markdown",
   "id": "191a2771",
   "metadata": {},
   "source": [
    "<br>\n",
    "\n",
    "#### 재질예시\n",
    "- 두 재질 간의 차이 $\\delta = \\mu_B-\\mu_A$라고 하면\n",
    "\n",
    "    $H_0 : \\delta = 0$ vs $H_1:\\delta > 0$"
   ]
  },
  {
   "cell_type": "code",
   "execution_count": 11,
   "id": "bf3c97e5",
   "metadata": {},
   "outputs": [],
   "source": [
    "a = c(13.2, 8.2, 10.9, 14.3, 10.7, 6.6, 9.5, 10.8, 8.8, 13.3)\n",
    "b = c(14.0, 8.8, 11.2, 14.2, 11.8, 6.4, 9.8, 11.3, 9.3, 13.6)\n",
    "diff = b - a"
   ]
  },
  {
   "cell_type": "code",
   "execution_count": 12,
   "id": "73968e38",
   "metadata": {},
   "outputs": [
    {
     "data": {
      "text/plain": [
       "\n",
       "\tOne Sample t-test\n",
       "\n",
       "data:  diff\n",
       "t = 3.3489, df = 9, p-value = 0.004269\n",
       "alternative hypothesis: true mean is greater than 0\n",
       "95 percent confidence interval:\n",
       " 0.1855736       Inf\n",
       "sample estimates:\n",
       "mean of x \n",
       "     0.41 \n"
      ]
     },
     "metadata": {},
     "output_type": "display_data"
    }
   ],
   "source": [
    "t.test(diff, mu = 0, alternative = \"greater\")"
   ]
  },
  {
   "cell_type": "markdown",
   "id": "8e60db04",
   "metadata": {},
   "source": [
    "<br>\n",
    "\n",
    "## 02.04. 두 모집단에서 두 모순산비에 대한 추론\n",
    "- **두 모분산이 서로 같은지 비교하는 검정은 t검정을 하기 전에 수행**\n",
    "- **2개의 모분산을 비교할 때에는 두 모분산의 비가 1인지 아닌지를 검정**\n",
    "\n",
    "    **2개의 모분산을 $\\sigma^2_1$과 $\\sigma^2_2$라고 할 때, $\\sigma^2_1 = \\sigma^2_2$는 $\\sigma^2_1 / \\sigma^2_2 = 1$로 표현하여도 동일**\n",
    "    \n",
    "<br>\n",
    "\n",
    "- **모분산이 $\\sigma^2_1$인 정규분포에서 크기 $n_1$의 랜덤표본이 추출되고, 모분산이 $\\sigma^2_2$인 정규분포에서 크기 $n_2$의 랜덤표본이 독립적으로 추출되었을 때**\n",
    "\n",
    "    두 표본에서 계산된 표본분산 $V_1$, $V_2$는 각각 $\\sigma^2_1$과 $\\sigma^2_2$의 추정량으로서, 대응되는 자유도 ($n_1$-1),과 ($n_2$-2)이며, 다음 통계량은 자유도 ($n_1$-1, $n_2$-1)인 $F$분포를 따름\n",
    "    \n",
    "    $${{V_1 / \\sigma^2_1}\\over{V_2/\\sigma^2_2}} \\sim F(n_1-1, n_2-1)$$\n",
    "    \n",
    "     **따라서 두 모분산의 비가 1 ($\\sigma^2_1 / \\sigma^2_2$=1)이라는 가정 하에서는, 표본분산비 $V_1 / V_2$는 $F(n_1 -1, n_2 -1)$의 분포를 따름**"
   ]
  },
  {
   "cell_type": "markdown",
   "id": "39e39ca0",
   "metadata": {},
   "source": [
    "<br>\n",
    "\n",
    "\n",
    "**분산비 검정**\n",
    "> 귀무가설 : $H_0:\\sigma^2_1 = \\sigma^2_2$\n",
    ">\n",
    "> 검정통계량의 값 : $F={{V_1}\\over{V_2}}$\n",
    "\n",
    "> 대립가설 & 유의수준 $\\alpha$에서 귀무가설의 기각역\n",
    ">\n",
    "> $H_1 : \\sigma^2_1>\\sigma^2_2\\;\\;\\;$ | $F > F(n_1 -1, n_2 -1;\\alpha)$\n",
    ">\n",
    "> $H_1 : \\sigma^2_1 < \\sigma^2_2\\;\\;\\;$ | $F < F(n_1 -1, n_2 -1;\\alpha)$\n",
    "> \n",
    "> $H_1 : \\sigma^2_1 = \\sigma^2_2\\;\\;\\;$ | $F > F(n_1 -1, n_2 -1;\\alpha/2)$ 또는 $F < F(n_1 -1, n_2 -1;1-\\alpha/2)$\n",
    "\n",
    "\n",
    "> \n",
    ">\n",
    "> $\\sigma^2_1 / \\sigma^2_2$에 대한 100(1-$\\alpha$)% 신뢰구간\n",
    ">\n",
    "> $({{V_1} \\over {V_2}} {1 \\over {F(n_1 -1, n_2-1; \\alpha/2)}}, {{V_1} \\over {V_2}} F(n_2 -1, n_1 -1; \\alpha/2))$"
   ]
  },
  {
   "cell_type": "markdown",
   "id": "7f85aa5a",
   "metadata": {},
   "source": [
    "<br>\n",
    "\n",
    "#### 제약회사 예시의 공통분산 가정이 적절한지 검정\n",
    "- $H_0:\\sigma^2_1 = \\sigma^2_2$ vs $H_1 : \\sigma^2_1 = \\sigma^2_2\\;\\;\\;$ "
   ]
  },
  {
   "cell_type": "code",
   "execution_count": 14,
   "id": "2d392fc8",
   "metadata": {},
   "outputs": [
    {
     "data": {
      "text/plain": [
       "\n",
       "\tF test to compare two variances\n",
       "\n",
       "data:  sample1 and sample2\n",
       "F = 1.7965, num df = 9, denom df = 9, p-value = 0.3959\n",
       "alternative hypothesis: true ratio of variances is not equal to 1\n",
       "95 percent confidence interval:\n",
       " 0.4462364 7.2328801\n",
       "sample estimates:\n",
       "ratio of variances \n",
       "          1.796545 \n"
      ]
     },
     "metadata": {},
     "output_type": "display_data"
    }
   ],
   "source": [
    "var.test(sample1, sample2, ratio = 1)"
   ]
  }
 ],
 "metadata": {
  "kernelspec": {
   "display_name": "R",
   "language": "R",
   "name": "ir"
  },
  "language_info": {
   "codemirror_mode": "r",
   "file_extension": ".r",
   "mimetype": "text/x-r-source",
   "name": "R",
   "pygments_lexer": "r",
   "version": "4.2.2"
  }
 },
 "nbformat": 4,
 "nbformat_minor": 5
}
