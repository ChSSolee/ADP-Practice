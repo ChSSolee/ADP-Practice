{
 "cells": [
  {
   "cell_type": "markdown",
   "id": "f0b90fd9",
   "metadata": {},
   "source": [
    "# 03 일원배치법\n",
    "\n",
    "<br>\n",
    "\n",
    "## 03.01. 일원배치법\n",
    "- **한 인자에서 3개 이상의 처리에서 모평균의 차이가 있는지를 비교**\n",
    "    - **특성값에 영향을 미치는 다양한 요인 중에서 특히 알고 싶은 특정 요인의 영향을 조사하고자 할 경우**\n",
    "    - **특성값에 영향을 미치는 여러 요인에 대한 검증이 어늦 정도 진척되고, 이들 요인 중에서 특성값에 큰 영향을 미칠 것으로 예상되는 특정한 한 요인의 영향을 조사하고자 할 경우**\n",
    "    \n",
    "<br>\n",
    "\n",
    "- 처리를 받는 대상 또는 **실험환경인 실험단위가 모두 동질적**이라는 가정에서 출발하므로, 처리를 실험단위에 배치할 때 제한조건이 없음\n",
    "    - 일원배치법은 수준수와 반복수에 제한이 없으며, 결측치가 있어도 분석이 용이\n",
    "- **일원배치법은 처리를 실험단위에 배치하는 순서 또는 실험실시의 순서를 랜덤하게 결정하므로, 완전확률화계획**\n",
    "    - 실험자는 회피할 수 없는 외부요인들의 영향을 상쇄시키고, 실험자료들이 독립이라는 가정을 충족\n",
    "    \n",
    "<br>\n",
    "\n",
    "### 요인수준의 선택\n",
    "1. **실험자가 스스로 특정한 실험수준을 선택**\n",
    "- **요인의 수준이 고정, 고정요인에 대응되는 모형을 고정모형(모수모형)**\n",
    "    - **고정요인의 예 : 온도, 압력, 품종 등**\n",
    "    - 각 수준이 기술적인 의미를 가짐 $\\rightarrow$ 특정 수준에서의 효과와 최적조건을 구하는데 관심\n",
    "2. **특정 범위 내에서 임의로 선택 (랜덤)**\n",
    "- **요인의 수준이 랜덤하게 선정, 랜덤요인에 대응되는 모형을 랜덤모형 (변량모형)**\n",
    "    - 랜덤요인 예 : 원자재 로트, 실험일, 작업자 등\n",
    "    - 이 경우 특정한 수준에서의 반응치가 기술적인 의미를 갖지 못함 $\\rightarrow$ 수준 간의 산포의 크기인 분산성분에 관심\n",
    "    \n",
    "    "
   ]
  },
  {
   "cell_type": "markdown",
   "id": "f6f02986",
   "metadata": {},
   "source": [
    "| 인자 (인자의 수준) | 실험의 반복 | 합계 | 평균\n",
    "| - | - | - | - |\n",
    "| $A_1$ | $x_{11}$...$x_{1r}$ | $T_1$ | $\\bar{x_1}$ |\n",
    "| $\\vdots$ |$\\vdots$ | $\\vdots$|$\\vdots$ |\n",
    "| $A_1$ | $x_{11}$...$x_{1r}$ | $T_1$ | $\\bar{x_1}$ |\n",
    "| |  |$T$  |$\\bar{\\bar{x}}$ |\n",
    "\n",
    "<br>\n",
    "\n",
    "- $T_i$와 $\\bar{x_i}$는 수준 $A_i$에서 실험된 $r$개의 데이터의 합과 평균이며, $T$와 $\\bar{\\bar{x}}$는 $ar$개 전체 데이터의 합과 평균\n",
    "\n",
    "<br>\n",
    "\n",
    "- **요인 $A$가 고정요인일 때, $a$개의 수준 간 효과에 차이가 있는지를 분석하기 위하여 각 수준에 대한 모집단 모형이 필요**\n",
    "    - **각각의 수준에 해당하는 $a$개의 모집단이 서로 독립적이고, 평균이 $\\mu_i$, 공통분산 $\\sigma^2_E$를 갖는 정규분포를 따른다고 가정하여, 가설을 검정**\n",
    "\n",
    "$$H_0:\\mu_1 = \\dots = \\mu_a$$\n",
    "\n",
    "$$H_1:not\\;H_0$$\n",
    "\n",
    "<br>\n",
    "\n",
    "* 모집단 가정에 의하여 $x_{ij}$는 $x_{ij} = \\mu_i + \\epsilon_{ij}$\n",
    "    - $\\epsilon_{ij}$는 실험오차에 해당되는 확률변수로서, 평균 0, 분산 $\\sigma^2_E$인 정규분포를 따른다고 가정\n",
    "- 실험전체의 모평균이 $\\mu$라 하면 $\\mu$는\n",
    "\n",
    "$$\\mu= {{\\sum^a_{i=1}\\mu_i}\\over{a}}$$\n",
    "\n",
    "- i번째 수준의 모평균 $\\mu_i$는 실험전체의 모평균 $\\mu$와 i번째 처리에서의 순수효과 (pure effect)인 $\\alpha_i$의 합으로 나타낼 수 있으므로, $\\mu_i = \\mu + \\alpha_i$로 대체하면, 일원배치 데이터의 구조모형은\n",
    "\n",
    "$$x_{ij} = \\mu + \\alpha_i+\\epsilon_{ij},\\;\\;\\;i=1, 2, \\dots,a;\\;\\;\\;j=1,2,\\dots,r$$"
   ]
  },
  {
   "cell_type": "markdown",
   "id": "3f2cacf5",
   "metadata": {},
   "source": [
    "- $\\mu$는 전체모평균이고, $\\alpha_i$는 요인 $A$의 순수효과로서 $\\sum\\alpha_i=0$이고, $\\epsilon_{ij}$는 오차항으로 서로 독립인 $N(0, \\sigma^2_E$)을 따름"
   ]
  },
  {
   "cell_type": "markdown",
   "id": "6a3c5cb5",
   "metadata": {},
   "source": [
    "<br>\n",
    "\n",
    "#### 일원배치법 구조모형에서 오차 $\\epsilon_{ij}$에 대한 가정은 다음 4가지\n",
    "1. **정규성 : 오차 $\\epsilon_{ij}$의 분포는 정규분포를 따름**\n",
    "2. **독립성 : 오차는 서로 독립**\n",
    "3. **불편성 : 오차의 기댓값은 0으로 치우침(bias)가 없다**\n",
    "4. **등분산성 : 오차 $\\epsilon{ij}$의 분산은 $\\sigma^2_E$으로 요인의 어떤 수준에서든 특성치의 분산은 일정**"
   ]
  },
  {
   "cell_type": "markdown",
   "id": "02277968",
   "metadata": {},
   "source": [
    "<br>\n",
    "\n",
    "## 03.02. 분산분석\n",
    "- a개의 모평균에 차이가 있는지를 거정하는 것은 a개의 수준효과 간 차이가 있는지 검정하는 것과 같으므로 가설은\n",
    "    - 자료의 총변동을 급간변동과 급내변동으로 분해하여 요인의 여러 수준이 특성값에 유의한 영향을 미치는지 탐색\n",
    "    \n",
    "$$H_0 :\\alpha_1=\\dots,\\alpha_a=0$$\n",
    "$$H_1 : not\\;H_0$$\n",
    "\n",
    "<br>\n",
    "\n",
    "#### 분산분석은 데이터의 총변동을 나누어 각 요인의 영향력을 탐색하는 것"
   ]
  },
  {
   "cell_type": "markdown",
   "id": "94a1526c",
   "metadata": {},
   "source": [
    "<br>\n",
    "\n",
    "### 총변동의 분할\n",
    "- 변동을 정의하기 위해, 어느 점으로부터의 산포인가를 나타내는 자료의 중심과 각 자료가 중심으로부터 얼마나 떨어져 있는가를 나타내는 거리의 개념이 필요 \n",
    "\n",
    "    $\\rightarrow$ 특성값 $x_{ij}$의 총평균 $\\bar{\\bar{x}}$로부터의 거리인 총편차 $x_{ij} - \\bar{\\bar{x}}$는 $\\alpha_i$에 기인하는 편차와 같은 수준에서 반복실험 하였을 때 생기는 잔차로 다음과 같이 분해\n",
    "    \n",
    "$$x_{ij}-\\bar{\\bar{x}}= (\\bar{x_i}-\\bar{\\bar{x}}) + (x_{ij}-\\bar{x_i})$$\n",
    "\n",
    "$$총편차=(\\alpha_i에\\;기인하는\\;편차)+(잔차)$$\n",
    "\n",
    "- 양변을 동시에 제곱하여 전체 $ar$개의 데이터의 제곱합을 계산\n",
    "\n",
    "$$\\sum_i \\sum_j (x_{ij}-\\bar{\\bar{x}})^2= \\sum_i r(\\bar{x_i}-\\bar{\\bar{x}})^2 + \\sum_i \\sum_j (x_{ij}-\\bar{x_i})^2$$\n",
    "\n",
    "$$총변동=급간변동+급내변동$$\n",
    "\n",
    "$$SS_T = SS_A + SS_E$$\n",
    "\n",
    "- 총변동은 요인 $A$에 의한 변동과 잔차변동으로 분할\n",
    "\n",
    "<br>\n",
    "\n",
    "#### $CT(=수정항) = {{T^2}\\over{ar}},\\;\\;\\;T = \\sum^a_{i=1}\\sum^r_{j=1}x_{ij}$일 때,\n",
    "\n",
    "$$SS_T = \\sum_i \\sum_j x^2_{ij} - CT$$\n",
    "\n",
    "$$SS_A = \\sum_i {{T^2_{i.}}\\over{r}} - CT$$\n",
    "\n",
    "$$SS_E = SS_T - SS_A$$\n",
    "\n",
    "<br>\n",
    "\n",
    "### 자유도의 분할\n",
    "- **각 제곱합의 자유도는 제곱을 한 편차의 개수에서 선형제약조건의 수를 뺸 것**\n",
    "\n",
    "| 제곱합 | 편차의 개수 | 선형제약조건 | 자유도 |\n",
    "| - | - | - | - |\n",
    "| $SS_T$ | ar | $\\sum_i \\sum_j (x_{ij}$-$\\bar{\\bar{x}})$=0 | $\\phi_T$ = $ar$-$1$|\n",
    "| $SS_A$ | a | $\\sum_i (\\bar{x_{i.}}$-$\\bar{\\bar{x}})$=0 | $\\phi_A$ = $a$-$1$|\n",
    "| $SS_E$ | ar | $\\sum_i \\sum_j (x_{ij}$-$\\bar{x_i})$=0<br>($i$=1,2..., a) | $\\phi_E$ = $a$$(r$-$1)$|\n",
    "\n",
    "<br>\n",
    "\n",
    "**총제곱합의 자유도 $\\Phi_T$는 총변도이 원인별로 분할 되는 것과 마찬가지로 처리제곱합의 자유도 $\\Phi_A$와 잔차제곱합의 자유도 $\\Phi_E$로 분할 됨**\n",
    "\n",
    "$$\\phi_T = \\phi_A + \\phi_E$$\n"
   ]
  },
  {
   "cell_type": "markdown",
   "id": "171b493b",
   "metadata": {},
   "source": [
    "<br>\n",
    "\n",
    "### 평균제곱의 기댓값과 F검정\n",
    "- **평균제곱 (MS : Mean Square)은 자유도 1개당 제곱합을 의미**\n",
    "\n",
    "$$MS_A = {{SS_A}\\over{a-1}}$$\n",
    "\n",
    "$$MS_E = {{SS_E}\\over{a(r-1)}}$$\n",
    "\n",
    "- 요인 A의 평균제곱 $MS_A$와 잔차의 평균제곱 $MS_E$의 기댓값은\n",
    "\n",
    "$$E(MA_A) = \\sigma^2_E + \\sum^a_{i=1} {{\\alpha^2_i}\\over{a-1}}$$\n",
    "\n",
    "$$E(MA_E) = \\sigma^2_E$$\n",
    "\n",
    "<br>\n",
    "\n",
    "- **잔차의 평균제곱 $MS_E$는 $\\sigma^2_E$의 불편추정량**\n",
    "- **요인 $A$의 평균제곱 $MS_A$는 귀무가설 $H_0:\\alpha_1=\\dots=\\alpha_a=0$하에서는 $E(MS_A)=\\sigma^2_E$가 됨으로서, $\\sigma^2_E$의 불편추정량이 되지만**\n",
    "\n",
    "    **귀무가설이 성립하지 않으면 $MS_A$의 기댓값이 $\\sigma^2_E$보다 더 크게 됨**\n",
    "    \n",
    "    **따라서, 귀무가설 $H_0 :\\alpha_1=\\dots,\\alpha_a=0$에 대한 검정통계량은, 두 평균제곱의 비율인**\n",
    "    \n",
    "    **$$F_0 = {{MS_A}\\over{MS_E}}$$가 되고, $F_0$이 커지면 귀무가설을 기각**\n",
    "    \n",
    "- 또한 귀무가설이 사실일 때, 검정통계량 $F_0$은 자유도 $(\\phi_A, \\phi_E)$인 F분포를 따름\n",
    "\n",
    "    따라서, 대립가설이 옳을 때 $MS_A$가 $MS_E$보다 상대적으로 클 것이므로, 귀무가설의 기각역은\n",
    "    \n",
    "    $$F_0 > F(\\phi_A, \\phi_E;\\;\\;\\alpha)$$"
   ]
  },
  {
   "cell_type": "markdown",
   "id": "350e05a2",
   "metadata": {},
   "source": [
    "<br>\n",
    "\n",
    "### 분산분석표\n",
    "- **$F_0$의 값이 $F(a-1, a(r-1);\\;\\;\\alpha)$보다 크게 되어 귀무가설을 기각할 때,**\n",
    "\n",
    "    **요인이 특성값에 유의한 영향을 미친다고 말하며, 요인의 어떤 수준들 간에는 차이가 있다고 통계적으로 결론**\n",
    "    \n",
    "\n",
    "| 요인 | 제곱합 | 자유도 | 평균제곱 | $F_0$ | $F(\\alpha)$| \n",
    "| - | - | - | - | - | - |\n",
    "| $A$ | $SS_A$ | $a$-$1$ | $MS_A$| ${{MS_A}\\over{MS_E}}$ | $F(a-1, a(r-1);\\;\\;\\alpha)$ |\n",
    "| $E$ | $SS_E$ | $a(r$-$1)$ | $MS_E$|  |  |\n",
    "| |\n",
    "| $T$ | $SS_T$ | $ar$-$1$ | | "
   ]
  },
  {
   "cell_type": "markdown",
   "id": "7f8b4184",
   "metadata": {},
   "source": [
    "<br>\n",
    "\n",
    "### 의류회사 예시\n",
    "- 납품업체 $A_1, \\dots A_4$의 제품을 마모도의 측면 **(고정요인)**에서 비교"
   ]
  },
  {
   "cell_type": "code",
   "execution_count": 19,
   "id": "1fc7afdb",
   "metadata": {},
   "outputs": [],
   "source": [
    "library(tidyverse)"
   ]
  },
  {
   "cell_type": "code",
   "execution_count": 44,
   "id": "d047a4bc",
   "metadata": {},
   "outputs": [
    {
     "data": {
      "text/html": [
       "<table class=\"dataframe\">\n",
       "<caption>A data.frame: 6 × 2</caption>\n",
       "<thead>\n",
       "\t<tr><th></th><th scope=col>group</th><th scope=col>wear</th></tr>\n",
       "\t<tr><th></th><th scope=col>&lt;chr&gt;</th><th scope=col>&lt;dbl&gt;</th></tr>\n",
       "</thead>\n",
       "<tbody>\n",
       "\t<tr><th scope=row>1</th><td>a1</td><td>1.93</td></tr>\n",
       "\t<tr><th scope=row>2</th><td>a1</td><td>2.38</td></tr>\n",
       "\t<tr><th scope=row>3</th><td>a1</td><td>2.20</td></tr>\n",
       "\t<tr><th scope=row>4</th><td>a1</td><td>2.25</td></tr>\n",
       "\t<tr><th scope=row>5</th><td>a2</td><td>2.55</td></tr>\n",
       "\t<tr><th scope=row>6</th><td>a2</td><td>2.72</td></tr>\n",
       "</tbody>\n",
       "</table>\n"
      ],
      "text/latex": [
       "A data.frame: 6 × 2\n",
       "\\begin{tabular}{r|ll}\n",
       "  & group & wear\\\\\n",
       "  & <chr> & <dbl>\\\\\n",
       "\\hline\n",
       "\t1 & a1 & 1.93\\\\\n",
       "\t2 & a1 & 2.38\\\\\n",
       "\t3 & a1 & 2.20\\\\\n",
       "\t4 & a1 & 2.25\\\\\n",
       "\t5 & a2 & 2.55\\\\\n",
       "\t6 & a2 & 2.72\\\\\n",
       "\\end{tabular}\n"
      ],
      "text/markdown": [
       "\n",
       "A data.frame: 6 × 2\n",
       "\n",
       "| <!--/--> | group &lt;chr&gt; | wear &lt;dbl&gt; |\n",
       "|---|---|---|\n",
       "| 1 | a1 | 1.93 |\n",
       "| 2 | a1 | 2.38 |\n",
       "| 3 | a1 | 2.20 |\n",
       "| 4 | a1 | 2.25 |\n",
       "| 5 | a2 | 2.55 |\n",
       "| 6 | a2 | 2.72 |\n",
       "\n"
      ],
      "text/plain": [
       "  group wear\n",
       "1 a1    1.93\n",
       "2 a1    2.38\n",
       "3 a1    2.20\n",
       "4 a1    2.25\n",
       "5 a2    2.55\n",
       "6 a2    2.72"
      ]
     },
     "metadata": {},
     "output_type": "display_data"
    }
   ],
   "source": [
    "a1 = c(1.93, 2.38, 2.20, 2.25)\n",
    "a2 = c(2.55, 2.72, 2.75, 2.70)\n",
    "a3 = c(2.40, 2.68, 2.32, 2.28)\n",
    "a4 = c(2.33, 2.38, 2.28, 2.25)\n",
    "wear = c(a1, a2, a3, a4)\n",
    "group = c(\"a1\", \"a2\", \"a3\", \"a4\"); group <- rep(group, c(4, 4, 4, 4))\n",
    "\n",
    "wear.dat <- data.frame(group, wear)\n",
    "wear.dat %>% head"
   ]
  },
  {
   "cell_type": "markdown",
   "id": "45408349",
   "metadata": {},
   "source": [
    "<br>\n",
    "\n",
    "#### 정규성 검정\n",
    "\n",
    "1. **Shpiro-Wilks test : 표본수가 2000미만인 데이터셋에 적합한 정규성 검정**\n",
    "2. **Kolmogorove-Smirov test : 표본수가 2000 초과인 데이터셋에 적합한 정규성 검정**\n",
    "3. **Quantile-Quantile plot (Grpahic test) : 데이터셋이 정규분포를 따르는지 판단하는 시각적 분석방법**\n",
    "- 분석할 데이터 종류가 많지 않다면, Q-Q plot을 통해 시각적으로 확인하는 것이 가장 간단하고 직관적\n",
    "\n",
    "<br>\n",
    "\n",
    "$H_0 : 데이터는\\;정규성을\\;만족한다$\n",
    "\n",
    "$H_1 : not\\;H_0$"
   ]
  },
  {
   "cell_type": "markdown",
   "id": "7f7dc371",
   "metadata": {},
   "source": [
    "<br>\n",
    "\n",
    "* 귀무가설 기각 불가 $\\rightarrow$ 데이터는 정규성을 만족"
   ]
  },
  {
   "cell_type": "code",
   "execution_count": 46,
   "id": "d7466ef8",
   "metadata": {},
   "outputs": [
    {
     "data": {
      "text/plain": [
       "\n",
       "\tShapiro-Wilk normality test\n",
       "\n",
       "data:  wear.dat$wear\n",
       "W = 0.92118, p-value = 0.1762\n"
      ]
     },
     "metadata": {},
     "output_type": "display_data"
    }
   ],
   "source": [
    "shapiro.test(x = wear.dat$wear)"
   ]
  },
  {
   "cell_type": "code",
   "execution_count": 47,
   "id": "5e4db8fa",
   "metadata": {},
   "outputs": [],
   "source": [
    "# ks.test(x = unique(wear.dat$wear), \"pnorm\")"
   ]
  },
  {
   "cell_type": "code",
   "execution_count": 48,
   "id": "f8737ab8",
   "metadata": {},
   "outputs": [
    {
     "data": {
      "image/png": "[encoded data removed]",
      "text/plain": [
       "Plot with title \"Normal Q-Q Plot\""
      ]
     },
     "metadata": {
      "image/png": {
       "height": 420,
       "width": 420
      }
     },
     "output_type": "display_data"
    }
   ],
   "source": [
    "qqnorm(wear.dat$wear); qqline(wear.dat$wear, col = \"red\")"
   ]
  },
  {
   "cell_type": "markdown",
   "id": "6873f7f4",
   "metadata": {},
   "source": [
    "#### 등분산 검정\n",
    "- **Barlett test : 데이터가 정규분포를 이룬다는 확신이 있을 때 사용**\n",
    "- **Levene test : 자료의 정규성 측면에서  Barlett test보다 덜 민감**\n",
    "\n",
    "<br>\n",
    "\n",
    "- 귀무가설 기각불가 $\\rightarrow$ 등분산성 만족"
   ]
  },
  {
   "cell_type": "code",
   "execution_count": 49,
   "id": "de4842b5",
   "metadata": {},
   "outputs": [
    {
     "data": {
      "text/plain": [
       "\n",
       "\tBartlett test of homogeneity of variances\n",
       "\n",
       "data:  wear by factor(group)\n",
       "Bartlett's K-squared = 4.3318, df = 3, p-value = 0.2278\n"
      ]
     },
     "metadata": {},
     "output_type": "display_data"
    }
   ],
   "source": [
    "bartlett.test(wear ~ factor(group), data = wear.dat)\n",
    "# car::leveneTest(wear ~ factor(group), data = wear.dat)"
   ]
  },
  {
   "cell_type": "markdown",
   "id": "ba214b83",
   "metadata": {},
   "source": [
    "<br>\n",
    "\n",
    "#### 분산분석\n",
    "* 귀무가설 기각 $\\rightarrow$ `group` (납품업체)에 따라 마모도에 차이가 존재"
   ]
  },
  {
   "cell_type": "code",
   "execution_count": 52,
   "id": "a9861bfa",
   "metadata": {},
   "outputs": [],
   "source": [
    "library(tidymodels)"
   ]
  },
  {
   "cell_type": "code",
   "execution_count": 54,
   "id": "bc954968",
   "metadata": {},
   "outputs": [
    {
     "data": {
      "text/html": [
       "<table class=\"dataframe\">\n",
       "<caption>A tibble: 2 × 6</caption>\n",
       "<thead>\n",
       "\t<tr><th scope=col>term</th><th scope=col>df</th><th scope=col>sumsq</th><th scope=col>meansq</th><th scope=col>statistic</th><th scope=col>p.value</th></tr>\n",
       "\t<tr><th scope=col>&lt;chr&gt;</th><th scope=col>&lt;dbl&gt;</th><th scope=col>&lt;dbl&gt;</th><th scope=col>&lt;dbl&gt;</th><th scope=col>&lt;dbl&gt;</th><th scope=col>&lt;dbl&gt;</th></tr>\n",
       "</thead>\n",
       "<tbody>\n",
       "\t<tr><td>factor(group)</td><td> 3</td><td>0.5240</td><td>0.17466667</td><td>8.784577</td><td>0.002352621</td></tr>\n",
       "\t<tr><td>Residuals    </td><td>12</td><td>0.2386</td><td>0.01988333</td><td>      NA</td><td>         NA</td></tr>\n",
       "</tbody>\n",
       "</table>\n"
      ],
      "text/latex": [
       "A tibble: 2 × 6\n",
       "\\begin{tabular}{llllll}\n",
       " term & df & sumsq & meansq & statistic & p.value\\\\\n",
       " <chr> & <dbl> & <dbl> & <dbl> & <dbl> & <dbl>\\\\\n",
       "\\hline\n",
       "\t factor(group) &  3 & 0.5240 & 0.17466667 & 8.784577 & 0.002352621\\\\\n",
       "\t Residuals     & 12 & 0.2386 & 0.01988333 &       NA &          NA\\\\\n",
       "\\end{tabular}\n"
      ],
      "text/markdown": [
       "\n",
       "A tibble: 2 × 6\n",
       "\n",
       "| term &lt;chr&gt; | df &lt;dbl&gt; | sumsq &lt;dbl&gt; | meansq &lt;dbl&gt; | statistic &lt;dbl&gt; | p.value &lt;dbl&gt; |\n",
       "|---|---|---|---|---|---|\n",
       "| factor(group) |  3 | 0.5240 | 0.17466667 | 8.784577 | 0.002352621 |\n",
       "| Residuals     | 12 | 0.2386 | 0.01988333 |       NA |          NA |\n",
       "\n"
      ],
      "text/plain": [
       "  term          df sumsq  meansq     statistic p.value    \n",
       "1 factor(group)  3 0.5240 0.17466667 8.784577  0.002352621\n",
       "2 Residuals     12 0.2386 0.01988333       NA           NA"
      ]
     },
     "metadata": {},
     "output_type": "display_data"
    }
   ],
   "source": [
    "aov.out = aov(wear ~ factor(group), data = wear.dat)\n",
    "tidy((aov.out))"
   ]
  },
  {
   "cell_type": "markdown",
   "id": "adcbe0ee",
   "metadata": {},
   "source": [
    "<br>\n",
    "\n",
    "## 03.03. 분산분석 후의 추정\n",
    "- **분산분석의 결과로, 대립가설이 채택되었을 시 (요인이 특성값에 영향을 끼침)    구체적으로 어느 수준들 간에 차이가 있는지 탐색**\n",
    "\n",
    "    **$\\rightarrow$ 사후분석**\n",
    "    \n",
    "- **요인의 각 수준에서 모평균 $\\mu_i=\\mu+\\alpha_i$의 추정값으로는 수준 $A_i$에서의 특성값들의 평균인 $\\bar{x}_i$가 적절**\n",
    "    \n",
    "    **$\\bar{x_i}$의 분포는 $N(\\mu_i, \\sigma^2_E / r)$를 가지며, $\\sigma^2_E$는 미지의 값이기에**\n",
    "    \n",
    "    **$\\sigma^2_E$의 불편추정값인 $MS_E$로 추정하면 요인 $A$의 $i$번째 수준에서 모평균 $\\mu_i$의 $100(1-\\alpha)$% 신뢰구간은**\n",
    "    \n",
    "    **$$\\bar{x_i} \\pm t(\\phi_E;\\;\\alpha/2)\\sqrt{{{MS_E}\\over{r}}}$$로 주어짐**\n",
    "    \n",
    "    신뢰구간의 폭은 오차의 자유도가 클수록, $MS_E$의 값이 작을수록 줄어듬\n",
    "    \n",
    "    **실험의 반복수 $r$이 어느 수준에서나 똑같기 때문에 신뢰구간의 폭은 어느 수준에서나 일정**"
   ]
  },
  {
   "cell_type": "markdown",
   "id": "de9e3228",
   "metadata": {},
   "source": [
    "<br>\n",
    "\n",
    "### 의류회사 예시\n",
    "- 각 수준에서의 직물마모도 모평균에 대한 95% 신뢰구간"
   ]
  },
  {
   "cell_type": "code",
   "execution_count": 74,
   "id": "a15339ce",
   "metadata": {},
   "outputs": [],
   "source": [
    "t12_0.975 = qt(df=(nrow(wear.dat)-length(unique(wear.dat$group))), 0.975) * sqrt(tidy(aov.out)[2, ]$meansq/4)\n",
    "t12_0.025 = qt(df=(nrow(wear.dat)-length(unique(wear.dat$group))), 0.025) * sqrt(tidy(aov.out)[2, ]$meansq/4)"
   ]
  },
  {
   "cell_type": "code",
   "execution_count": 81,
   "id": "ea9bcf15",
   "metadata": {},
   "outputs": [],
   "source": [
    "wear.dat %>% group_by(group) %>% summarise(mean = mean(wear)) %>%\n",
    "    mutate(lcl = mean + t12_0.025, ucl = mean + t12_0.975) -> ci"
   ]
  },
  {
   "cell_type": "code",
   "execution_count": 100,
   "id": "942a1ea5",
   "metadata": {},
   "outputs": [
    {
     "data": {
      "image/png": "[encoded data removed]",
      "text/plain": [
       "plot without title"
      ]
     },
     "metadata": {
      "image/png": {
       "height": 420,
       "width": 420
      }
     },
     "output_type": "display_data"
    }
   ],
   "source": [
    "ci %>% mutate(level = row_number()) %>%\n",
    "    ggplot() + geom_point(aes(level, mean, color = group)) + \n",
    "    geom_point(aes(level, lcl)) + geom_point(aes(level, ucl)) +\n",
    "    facet_wrap(~ group, nrow = 1, scales = 'free_x')"
   ]
  },
  {
   "cell_type": "markdown",
   "id": "5d453970",
   "metadata": {},
   "source": [
    "- $\\mu_1$과 $\\mu_2$의 95%신뢰구간이 겹치지 않음 $\\rightarrow$ 이 들 간에는 차이가 없음\n",
    "- $\\mu_2$과 $\\mu_4$의 95%신뢰구간이 겹침 $\\rightarrow$ 이 들 간에는 차이가 있음"
   ]
  },
  {
   "cell_type": "markdown",
   "id": "20bf997c",
   "metadata": {},
   "source": [
    "<br>\n",
    "\n",
    "- **수준 $A_i$와 $A_j$에서의 모평균 차이인 $(\\mu_i - \\mu_j)$에 대한 $100(1-\\alpha)$% 신뢰구간에서**\n",
    "\n",
    "    **모평균의 차이 $(\\mu_i - \\mu_j)$에 대한 추정값으로는 수준 $A_i$와 $A_j$에서의 특성값들의 평균의 차이인 $(\\bar{x_{i.}} - \\bar{x_{j.}})$이 적절**\n",
    "    \n",
    "    **$(\\bar{x_{i.}} - \\bar{x_{j.}})$의 분포는 $N(\\mu_i - \\mu_j, 2\\sigma^2_E / r)$이며,**\n",
    "    \n",
    "    **여기서 $\\sigma^2_E$는 불편추정량인 $MS_E$로 대체하여 계산하면 $(\\mu_i - \\mu_j)$의 $100(1-\\alpha)$% 신뢰구간은**\n",
    "    \n",
    "    **$$(\\bar{x_{i.}} - \\bar{x_{j.}}) \\pm t(\\phi_E;\\; \\alpha/2)\\sqrt{{{2MS_E}\\over{r}}}$$로 주어지며, 신뢰구간에 0이 포함되어 있지 않으면,**\n",
    "    \n",
    "    **가설 $H_0: \\mu_i - \\mu_j = 0$ $\\rightarrow$ $H_0: \\mu_i = \\mu_j$를 기각한다** \n",
    "    \n",
    "    #### 따라서 $|\\bar{x_{i.}} - \\bar{x_{j.}}|$가 다음 조건을 만족하면 귀무가설을 기각\n",
    "    \n",
    "    $$|\\bar{x_{i.}} - \\bar{x_{j.}}| > t(\\phi_E;\\;\\alpha/2)\\sqrt{{{2MS_E}\\over{r}}}$$\n",
    "    \n",
    "    #### 여기서 우변, $t(\\phi_E;\\;\\alpha/2)\\sqrt{{{2MS_E}\\over{r}}}$은 최소유의차 (LSD : least significant difference)"
   ]
  },
  {
   "cell_type": "markdown",
   "id": "e3feb8d4",
   "metadata": {},
   "source": [
    "<br>\n",
    "\n",
    "#### 사후분석은 제 1종 오류를 조정하는 방법에 따라 다양한 방법이 존재\n",
    "\n",
    "1. **Tukey**\n",
    "- **특징** : **비교 대상 표본수가 동일한 경우에만 사용 가능**, 모든 집단 조합에 대하여 분석\n",
    "- **장점** : 표본수가 동일한 경우 가장 많이 사용되는 사후 분석 기법\n",
    "- **단점** : 비교 대상 표본수가 동일하여하며, 표본수가 적을수록 정확도가 낮아짐\n",
    "\n",
    "<br>\n",
    "\n",
    "2. **Dunnett**\n",
    "- **특징** : **하나의 집단을 기준으로 다른 집단들과 차이에 대하여 분석**, 양측 검정 가능\n",
    "- **장점** : 1개의 대조군과 여러 실험군과의 비교를 하는 연구에 사용 가능\n",
    "- **단점** : 모든 집단 조합에 대한 검정을 하지 않음\n",
    "\n",
    "<br>\n",
    "\n",
    "3. **Duncan**\n",
    "- **특징** : **오차비율을 통제하지 않아 상대적으로 엄격하지 않은 기준**, 인접하는 평균값들을 단계적으로 비교\n",
    "- **장점** : 엄격하지 않은 기준으로 통계적 유의성을 도출하기 쉬움\n",
    "- **단점** : **기준이 엄격하지 않음 (제 1종 오류 발생활률을 통제하지 않음)**\n",
    "\n",
    "<br>\n",
    "\n",
    "4. **Fisher's LSD**\n",
    "- **특징** : **가장 엄격하지 않은 방법**, 오차비율을 통제하지 않아 상대적으로 엄격하지 않은 기준 (최근에는 선호되지 않음)\n",
    "- **장점** : 엄격하지 않은 기준으로 통계적 유의성을 도출하기 쉬움\n",
    "- **단점** : **기준이 엄격하지 않음 (제 1종 오류 발생활률을 통제하지 않음)**, t-test를 여러번 하는 방법에 지나지 않음\n",
    "\n",
    "<br>\n",
    "\n",
    "5. **Bonferroni**\n",
    "- **특징** : **응용 범위가 넓음 (모수, 비모수 적용 가능)**, Tukey보다 엄격하지만, Scheffe 보다는 관대 (전체적으로 1종 오류를 5%가 되게 만듬)\n",
    "- **장점** : ANOVA, 다중 t-test, 비모수 검정 등에 적용 가능\n",
    "- **단점** : **비교대상이 많아질수록 검정력이 약해짐**\n",
    "\n",
    "<br>\n",
    "\n",
    "6. **Scheffe**\n",
    "- **특징** : **가장 보수적이고 엄격한 방식**\n",
    "- **장점** : 엄격한 기준의 분석\n",
    "- **단점** : 통계적으로 유의한 차이를 도출하기가 쉽지 않음\n",
    "\n",
    "<br>\n",
    "\n",
    "7. **Games-Howell**\n",
    "- **특징** : **집단의 분산의 동질성이 확보되지 않았을 때 적용 가능**, Welch 분석 기법을 응용\n",
    "- **장점** : **집단별 표본수가 다르거나, 분산의 동질성이 확보되지 않아도 적용 가능**\n",
    "- **단점** : **표본수가 6개 미만일 경우, 제 1종 오류 발생률이 높아짐 (15개 이상 권장)**\n",
    "\n",
    "<br>\n",
    "\n",
    "8. **Tamhane T2**\n",
    "- **특징** : **집단의 분산의 동질성이 확보되지 않았을 때 적용 가능**, 유의수준 조정 및 t분포를 기준으로 분석\n",
    "- **장점** : Games-Howell보다 엄격한 기준\n",
    "- **단점** : 샘플이 많아질 수록 1종 오류 발생률 증가\n",
    "\n",
    "<br>\n",
    "\n",
    "9. **Dunnett T3**\n",
    "- **특징** : **집단의 분산의 동질성이 확보되지 않았을 때 적용 가능, 집단별 표본수가 동일한 경우에 적용 가능**, 유의수준 조정 및 t분포를 기준으로 분석\n",
    "- **장점** : 집단별 표본수가 50개 미만인 경우 Games-Hoewll보다 검정력 우수\n",
    "- **단점** : 집단별 표본수가 50개 이상일 경우 Games-Howell보다 1종 오류 발생률 증가\n",
    "\n",
    "<br>"
   ]
  },
  {
   "cell_type": "markdown",
   "id": "542412c1",
   "metadata": {},
   "source": [
    "<br>\n",
    "\n",
    "#### 각 경우별 많이 사용되는 사후검정 방법\n",
    "1. **집단별 표본의 수와 분산이 동일한 경우** : Tukey $\\rightarrow$ Dunnet $\\rightarrow$ Duncan\n",
    "\n",
    "<br>\n",
    "\n",
    "2. **집단별로 표본의 수는 다르지만 분산의 동질성은 확보된 경우** : Fisher's LSD $\\rightarrow$ Scheffe $\\rightarrow$ Bonferroni\n",
    "\n",
    "<br>\n",
    "\n",
    "3. **집단별로 표본의 수도 다르고 분산의 동질성도 확보되지 않은 경우** : Games-Howell $\\rightarrow$ Dunnett T3 $\\rightarrow$ Tamhance T2\n",
    "\n",
    "<br>"
   ]
  },
  {
   "cell_type": "code",
   "execution_count": 101,
   "id": "f1c5099b",
   "metadata": {},
   "outputs": [
    {
     "data": {
      "text/plain": [
       "  Tukey multiple comparisons of means\n",
       "    95% family-wise confidence level\n",
       "\n",
       "Fit: aov(formula = wear ~ factor(group), data = wear.dat)\n",
       "\n",
       "$`factor(group)`\n",
       "       diff         lwr         upr     p adj\n",
       "a2-a1  0.49  0.19397708  0.78602292 0.0017496\n",
       "a3-a1  0.23 -0.06602292  0.52602292 0.1509207\n",
       "a4-a1  0.12 -0.17602292  0.41602292 0.6362891\n",
       "a3-a2 -0.26 -0.55602292  0.03602292 0.0924227\n",
       "a4-a2 -0.37 -0.66602292 -0.07397708 0.0136804\n",
       "a4-a3 -0.11 -0.40602292  0.18602292 0.6943908\n"
      ]
     },
     "metadata": {},
     "output_type": "display_data"
    }
   ],
   "source": [
    "TukeyHSD(aov.out)\n",
    "\n",
    "### Dunnet Test\n",
    "# set.seed(1234)\n",
    "# DescTools::DunnettTest(x = wear.dat$wear, g = wear.dat$group)\n",
    "\n",
    "### Duncan Test\n",
    "# agricolae::duncan.test(aov.out, \"factor(group)\",console = T)\n",
    "\n",
    "### Fisher's LSD\n",
    "# agricolae::LSD.test(aov.out, \"factor(group)\", console = T)\n",
    "\n",
    "### Bonferroni\n",
    "# pairwise.t.test(x = wear.dat$wear, g = wear.dat$group, p.adjust.method= \"bonferroni\")\n",
    "\n",
    "### Scheffe\n",
    "# agricolae::scheffe.test(aov.out, \"factor(group)\", console = T)\n",
    "\n",
    "### Games-Howell\n",
    "# rstatix::games_howell_test(wear ~ group, data = wear.dat)\n",
    "\n",
    "### Tamhane T2\n",
    "# PMCMRplus::tamhaneT2Test(aov.out)\n",
    "\n",
    "### Dunnett T3\n",
    "# PMCMRplus::dunnettT3Test(aov.out)"
   ]
  },
  {
   "cell_type": "markdown",
   "id": "fcf6c4c5",
   "metadata": {},
   "source": [
    "- 5% 유의수준하에서, $\\mu_1$과 $\\mu_2$, $\\mu_1$과 $\\mu_3$, $\\mu_2$와 $\\mu_3$, $\\mu_2$와 $\\mu_4$간에는 차이가 있음"
   ]
  },
  {
   "cell_type": "code",
   "execution_count": 146,
   "id": "21c0a112",
   "metadata": {
    "scrolled": false
   },
   "outputs": [
    {
     "data": {
      "image/png": "[encoded data removed]",
      "text/plain": [
       "Plot with title \"95% family-wise confidence level\n",
       "\""
      ]
     },
     "metadata": {
      "image/png": {
       "height": 420,
       "width": 420
      }
     },
     "output_type": "display_data"
    }
   ],
   "source": [
    "# pairwise.t.test(wear, group, p.adj = \"none\")\n",
    "\n",
    "plot(TukeyHSD(aov(wear ~ group), conf.level = 0.95))"
   ]
  },
  {
   "cell_type": "markdown",
   "id": "fbf19e51",
   "metadata": {},
   "source": [
    "<br>\n",
    "\n",
    "## 03.04. 반복수가 같지 않은 실험\n",
    "- 실제 일원배치법에서는 각 수준마다 반복수가 다른 데이터가 존재 (불균형 자료) \n",
    "   \n",
    "- 반복수가 같지 않은 일원배치법의 총실험횟수 $N$\n",
    "\n",
    "$$N = r_1 + \\dots + r_a$$\n",
    "\n",
    "**반복수가 같지 않은 일원배치법의 자료의 구조, 구조모형과 분산분석은** \n",
    "\n",
    "**반복수 $r$ 대신 각 수준 $i$에서의 반복수 $r_i$로 대체한 것을 제외하고는 같음**"
   ]
  },
  {
   "cell_type": "markdown",
   "id": "509b658d",
   "metadata": {},
   "source": [
    "<br>\n",
    "\n",
    "#### 변동의 계산\n",
    "#### $CT(=수정항) = {{T^2}\\over{N}},\\;\\;\\;T = \\sum^a_{i=1}\\sum^{r_i}_{j=1}x_{ij},\\;\\;\\; N = \\sum^a_{i=1}r_i$일 때,\n",
    "\n",
    "$$SS_T = \\sum_i \\sum_j x^2_{ij} - CT$$\n",
    "\n",
    "$$SS_A = \\sum_i {{T^2_{i.}}\\over{r_i}} - CT$$\n",
    "\n",
    "$$SS_E = SS_T - SS_A$$"
   ]
  },
  {
   "cell_type": "markdown",
   "id": "5b929582",
   "metadata": {},
   "source": [
    "<br>\n",
    "\n",
    "#### 자유도 계산\n",
    "$$\\phi_T = N-1$$\n",
    "\n",
    "$$\\phi_A = a-1$$\n",
    "\n",
    "$$\\phi_E = \\phi_T - \\phi_A = N-a$$"
   ]
  },
  {
   "cell_type": "markdown",
   "id": "e65ebd79",
   "metadata": {},
   "source": [
    "<br>\n",
    "\n",
    "#### 분산분석표\n",
    "\n",
    "| 요인 | 제곱합 | 자유도 | 평균제곱 | $F_0$ | $F(\\alpha)$| \n",
    "| - | - | - | - | - | - |\n",
    "| $A$ | $SS_A$ | $a$-$1$ | $MS_A$| ${{MS_A}\\over{MS_E}}$ | $F(a-1, N-a;\\;\\;\\alpha)$ |\n",
    "| $E$ | $SS_E$ | $N$-$a$ | $MS_E$|  |  |\n",
    "| |\n",
    "| $T$ | $SS_T$ | $N$-$1$ | | "
   ]
  },
  {
   "cell_type": "markdown",
   "id": "f9a18ecc",
   "metadata": {},
   "source": [
    "<br>\n",
    "\n",
    "### 식이요법 예시\n",
    "- 실험목적 : 네 종류의 식단 $(A_1, \\dots, A_4)$에 따른 식이요법이 동물의 혈액응고시간에 영향을 주는가를 파악\n",
    "- 실험의 랜덤화 및 자료의 수집\n",
    "    - 실험단위를 처리에 랜덤하게 배리\n",
    "        1. 24마리의 동물에 1 ~ 24까지 일렬번호 지정\n",
    "        2. 1 ~ 24까지 번호를 랜덤으로 선택하여 순서 지정\n",
    "        3. 처음 6개에 $A_1$, $\\dots$, 네 번째 6개에 $A_4$ 배치\n",
    "    - 혈액응고시간 측정\n",
    "        - $A_1$에 할당된 실험체 하나가 제외\n",
    "        \n",
    "            $r_1 = 5, r_2 =6, r_3 = 6, r_4 = 6$"
   ]
  },
  {
   "cell_type": "code",
   "execution_count": 148,
   "id": "1bc8b2bb",
   "metadata": {},
   "outputs": [],
   "source": [
    "a1 <- c(62, 60, 63, 59, 61)\n",
    "a2 <- c(63, 67, 71, 64, 65, 66)\n",
    "a3 <- c(68, 66, 71, 67, 68, 68)\n",
    "a4 <- c(56, 62, 60, 61, 63, 64)\n",
    "y <- c(a1, a2, a3, a4)\n",
    "x <- c(\"a1\", \"a2\", \"a3\", \"a4\"); x <- rep(x, c(5, 6, 6, 6))"
   ]
  },
  {
   "cell_type": "markdown",
   "id": "e87dc82d",
   "metadata": {},
   "source": [
    "<br>\n",
    "\n",
    "- 귀무가설 기각 $\\rightarrow$ **식이요법이 달라도 혈액응고시간에 차이가 없지 않음**"
   ]
  },
  {
   "cell_type": "code",
   "execution_count": 150,
   "id": "cc22cf01",
   "metadata": {},
   "outputs": [
    {
     "data": {
      "text/html": [
       "<table class=\"dataframe\">\n",
       "<caption>A tibble: 2 × 6</caption>\n",
       "<thead>\n",
       "\t<tr><th scope=col>term</th><th scope=col>df</th><th scope=col>sumsq</th><th scope=col>meansq</th><th scope=col>statistic</th><th scope=col>p.value</th></tr>\n",
       "\t<tr><th scope=col>&lt;chr&gt;</th><th scope=col>&lt;dbl&gt;</th><th scope=col>&lt;dbl&gt;</th><th scope=col>&lt;dbl&gt;</th><th scope=col>&lt;dbl&gt;</th><th scope=col>&lt;dbl&gt;</th></tr>\n",
       "</thead>\n",
       "<tbody>\n",
       "\t<tr><td>x        </td><td> 3</td><td>218.6087</td><td>72.869565</td><td>13.31271</td><td>6.490997e-05</td></tr>\n",
       "\t<tr><td>Residuals</td><td>19</td><td>104.0000</td><td> 5.473684</td><td>      NA</td><td>          NA</td></tr>\n",
       "</tbody>\n",
       "</table>\n"
      ],
      "text/latex": [
       "A tibble: 2 × 6\n",
       "\\begin{tabular}{llllll}\n",
       " term & df & sumsq & meansq & statistic & p.value\\\\\n",
       " <chr> & <dbl> & <dbl> & <dbl> & <dbl> & <dbl>\\\\\n",
       "\\hline\n",
       "\t x         &  3 & 218.6087 & 72.869565 & 13.31271 & 6.490997e-05\\\\\n",
       "\t Residuals & 19 & 104.0000 &  5.473684 &       NA &           NA\\\\\n",
       "\\end{tabular}\n"
      ],
      "text/markdown": [
       "\n",
       "A tibble: 2 × 6\n",
       "\n",
       "| term &lt;chr&gt; | df &lt;dbl&gt; | sumsq &lt;dbl&gt; | meansq &lt;dbl&gt; | statistic &lt;dbl&gt; | p.value &lt;dbl&gt; |\n",
       "|---|---|---|---|---|---|\n",
       "| x         |  3 | 218.6087 | 72.869565 | 13.31271 | 6.490997e-05 |\n",
       "| Residuals | 19 | 104.0000 |  5.473684 |       NA |           NA |\n",
       "\n"
      ],
      "text/plain": [
       "  term      df sumsq    meansq    statistic p.value     \n",
       "1 x          3 218.6087 72.869565 13.31271  6.490997e-05\n",
       "2 Residuals 19 104.0000  5.473684       NA            NA"
      ]
     },
     "metadata": {},
     "output_type": "display_data"
    }
   ],
   "source": [
    "anova <- aov(y ~ x)\n",
    "tidy(anova)"
   ]
  },
  {
   "cell_type": "markdown",
   "id": "63db214d",
   "metadata": {},
   "source": [
    "- $mu_1$과 $\\mu_2$, $\\mu_3$은 다르며, $\\mu_2$와 $\\mu_4$는 다르고, $\\mu_3$과 $\\mu_4$는 다름"
   ]
  },
  {
   "cell_type": "code",
   "execution_count": 151,
   "id": "5e692f15",
   "metadata": {},
   "outputs": [
    {
     "data": {
      "text/plain": [
       "\n",
       "\tPairwise comparisons using t tests with pooled SD \n",
       "\n",
       "data:  y and x \n",
       "\n",
       "   a1      a2     a3     \n",
       "a2 0.0022  -      -      \n",
       "a3 9.1e-05 0.1551 -      \n",
       "a4 1.0000  0.0015 5.3e-05\n",
       "\n",
       "P value adjustment method: none "
      ]
     },
     "metadata": {},
     "output_type": "display_data"
    }
   ],
   "source": [
    "pairwise.t.test(y, x, p.adjust.method = \"none\")"
   ]
  },
  {
   "cell_type": "markdown",
   "id": "8c17810a",
   "metadata": {},
   "source": [
    "\n",
    "<br>\n",
    "\n",
    "- 수준간 등분산성 검정 $\\rightarrow$ 등분산성 만족\n"
   ]
  },
  {
   "cell_type": "code",
   "execution_count": 169,
   "id": "c45d6367",
   "metadata": {},
   "outputs": [
    {
     "data": {
      "text/plain": [
       "\n",
       "\tBartlett test of homogeneity of variances\n",
       "\n",
       "data:  y by x\n",
       "Bartlett's K-squared = 2.4724, df = 3, p-value = 0.4803\n"
      ]
     },
     "metadata": {},
     "output_type": "display_data"
    }
   ],
   "source": [
    "bartlett.test(y ~ x)"
   ]
  },
  {
   "cell_type": "markdown",
   "id": "94208f60",
   "metadata": {},
   "source": [
    "- 잔차 등분산성 검정 $\\rightarrow$ 등분산성 만족\n",
    "    - 각 예측치에서 잔차는 특정한 패턴을 보이지 않음"
   ]
  },
  {
   "cell_type": "code",
   "execution_count": 170,
   "id": "8c4a6e0f",
   "metadata": {},
   "outputs": [
    {
     "data": {
      "image/png": "[encoded data removed]",
      "text/plain": [
       "Plot with title \"\""
      ]
     },
     "metadata": {
      "image/png": {
       "height": 420,
       "width": 420
      }
     },
     "output_type": "display_data"
    }
   ],
   "source": [
    "plot(anova, 1)"
   ]
  },
  {
   "cell_type": "markdown",
   "id": "c2accaea",
   "metadata": {},
   "source": [
    "<br>\n",
    "\n",
    "- 잔차 정규성 검정 $\\rightarrow$ 정규성 만족"
   ]
  },
  {
   "cell_type": "code",
   "execution_count": 168,
   "id": "36abd126",
   "metadata": {},
   "outputs": [
    {
     "data": {
      "text/plain": [
       "\n",
       "\tShapiro-Wilk normality test\n",
       "\n",
       "data:  y\n",
       "W = 0.97847, p-value = 0.8786\n"
      ]
     },
     "metadata": {},
     "output_type": "display_data"
    }
   ],
   "source": [
    "shapiro.test(y)"
   ]
  },
  {
   "cell_type": "code",
   "execution_count": 162,
   "id": "f2da3909",
   "metadata": {
    "scrolled": false
   },
   "outputs": [
    {
     "data": {
      "image/png": "[encoded data removed]",
      "text/plain": [
       "Plot with title \"\""
      ]
     },
     "metadata": {
      "image/png": {
       "height": 420,
       "width": 420
      }
     },
     "output_type": "display_data"
    }
   ],
   "source": [
    "plot(anova, 2)"
   ]
  },
  {
   "cell_type": "markdown",
   "id": "637277f1",
   "metadata": {},
   "source": [
    "<br>\n",
    "\n",
    "## 03.05. 랜덤모형\n",
    "- 요인의 수준이 고정되지 않고 랜덤하게 선택된 구조모형 (실험일, 원료 로트 등)\n",
    "    - **각각의 수준에서의 값들이 기술적인 의미를 갖지 못하여, 수준들 간 차이가 있는지를 산포의 크기로 판단**\n",
    "    \n",
    "- **요인 수준들 간 산포가 존재해서 이질적인 경우에는, 자료의 총분산 중에서 순수하게 수준 간의 산포에만 기인하는 분산의 비율인 기여율의 추정에 관심**\n",
    "\n",
    "<br>\n",
    "\n",
    "- **랜덤모형의 구조모형은 요인$A$의 수준들이 랜덤하기 때문에, 분산이 $\\sigma^2_A$인 정규분포를 따름**\n",
    "\n",
    "<br>\n",
    "\n",
    "$$x_{ij} = \\mu + \\alpha_i+\\epsilon_{ij},\\;\\;\\;i=1, 2, \\dots,a;\\;\\;\\;j=1,2,\\dots,r$$\n",
    "\n",
    "$$\\alpha_i \\sim N(0, \\sigma^2_A)이고,\\;서로\\;독립$$\n",
    "\n",
    "$$\\epsilon_i \\sim N(0, \\sigma^2_E)이고,\\;서로\\;독립$$\n",
    "\n",
    "$$\\alpha_i와\\;\\epsilon_{ij}\\;:\\;서로\\;독립$$\n",
    "\n",
    "<br>\n",
    "\n",
    "* **일원배치법인 경우 랜덤모형에서의 변동의 계산, 자유도의 계산, F검정, 분산분석표는 은 고정모형과 동일**\n",
    "\n",
    "<br>\n",
    "\n",
    "#### 가설\n",
    "\n",
    "$$H_0 : \\sigma^2_A=0\\;(랜덤요인이\\;동질적)$$\n",
    "\n",
    "$$H_1 : \\sigma^2_A>0\\;(랜덤요인이\\;이질적)$$\n",
    "\n",
    "<br>\n",
    "\n",
    "- **분산분석을 통한 가설검정결과 귀무가설을 기각하게 되면 $\\sigma^2_A$을 추정**\n",
    "- 평균제곱 $MS$의 기댓값\n",
    "\n",
    "$$E(MS_E) = \\sigma^2_E$$\n",
    "\n",
    "$$E(MS_A) = \\sigma^2_E + r\\sigma^2_A$$\n",
    "\n",
    "<br>\n",
    "\n",
    "- **$\\sigma^2_E$의 불편추정치 $\\hat{\\sigma^2_E}$와, $\\sigma^2_A$의 불편추정치 $\\hat{\\sigma^2_A}$**\n",
    "\n",
    "$$\\hat{\\sigma^2_E} = MS_E$$\n",
    "\n",
    "$$\\hat{\\sigma^2_A} = {1\\over r}(MS_A - MS_E)$$\n",
    "\n",
    "<br>\n",
    "\n",
    "- **랜덤모형의 구조모형에서의 총분산은, 요인 $A$의 수준에서의 분산과, 오차의 분산의 합으로 표현**\n",
    "\n",
    "$$Var(x_{ij}) = Var(\\alpha_i) + Var(\\epsilon_{ij}) = \\sigma^2_A + \\sigma^2_E$$\n",
    "\n",
    "<br>\n",
    "\n",
    "- **총분산의 추정치의 $\\sigma^2_A$와 $\\sigma^2_E$를 각각의 불편추정치 $\\hat{\\sigma^2_A}$, $\\hat{\\sigma^2_E}$로 대체하여**\n",
    "\n",
    "$$\\hat{Var(x_{ij})} = \\hat{\\sigma^2_A} + \\hat{\\sigma^2_E}$$\n",
    "\n",
    "<br>\n",
    "\n",
    "- **따라서 자료의 총분산 중 요인 $A$의 수준 간 산포에만 기인하는 비율인 기여율 $\\rho$**\n",
    "\n",
    "$$\\rho = {{\\sigma^2_A}\\over{\\sigma^2_A + \\sigma^2_E}} \\times 100%$$\n",
    "\n",
    "$$\\hat{\\rho} = {{\\hat{\\sigma^2_A}}\\over{\\hat{Var(x_{ij})}}}\\times100%$$"
   ]
  },
  {
   "cell_type": "markdown",
   "id": "6f79c5bb",
   "metadata": {},
   "source": [
    "<br>\n",
    "\n",
    "#### 약품회사 예시\n",
    "- 매년 원자재의 수백 개의 배치(batch)를 정제\n",
    "- 수백 개의 배치 중 5개의 배치를 랜덤하게 선택하고, 선택된 배치당 3개의 시료를 채취하여 순도 측정"
   ]
  },
  {
   "cell_type": "code",
   "execution_count": 184,
   "id": "ba7643fc",
   "metadata": {},
   "outputs": [
    {
     "data": {
      "text/html": [
       "<table class=\"dataframe\">\n",
       "<caption>A tibble: 6 × 2</caption>\n",
       "<thead>\n",
       "\t<tr><th scope=col>y</th><th scope=col>x</th></tr>\n",
       "\t<tr><th scope=col>&lt;dbl&gt;</th><th scope=col>&lt;chr&gt;</th></tr>\n",
       "</thead>\n",
       "<tbody>\n",
       "\t<tr><td>74</td><td>b1</td></tr>\n",
       "\t<tr><td>76</td><td>b1</td></tr>\n",
       "\t<tr><td>75</td><td>b1</td></tr>\n",
       "\t<tr><td>68</td><td>b2</td></tr>\n",
       "\t<tr><td>71</td><td>b2</td></tr>\n",
       "\t<tr><td>72</td><td>b2</td></tr>\n",
       "</tbody>\n",
       "</table>\n"
      ],
      "text/latex": [
       "A tibble: 6 × 2\n",
       "\\begin{tabular}{ll}\n",
       " y & x\\\\\n",
       " <dbl> & <chr>\\\\\n",
       "\\hline\n",
       "\t 74 & b1\\\\\n",
       "\t 76 & b1\\\\\n",
       "\t 75 & b1\\\\\n",
       "\t 68 & b2\\\\\n",
       "\t 71 & b2\\\\\n",
       "\t 72 & b2\\\\\n",
       "\\end{tabular}\n"
      ],
      "text/markdown": [
       "\n",
       "A tibble: 6 × 2\n",
       "\n",
       "| y &lt;dbl&gt; | x &lt;chr&gt; |\n",
       "|---|---|\n",
       "| 74 | b1 |\n",
       "| 76 | b1 |\n",
       "| 75 | b1 |\n",
       "| 68 | b2 |\n",
       "| 71 | b2 |\n",
       "| 72 | b2 |\n",
       "\n"
      ],
      "text/plain": [
       "  y  x \n",
       "1 74 b1\n",
       "2 76 b1\n",
       "3 75 b1\n",
       "4 68 b2\n",
       "5 71 b2\n",
       "6 72 b2"
      ]
     },
     "metadata": {},
     "output_type": "display_data"
    }
   ],
   "source": [
    "b1 <- c(74, 76, 75)\n",
    "b2 <- c(68, 71, 72)\n",
    "b3 <- c(75, 77, 77)\n",
    "b4 <- c(72, 74, 73)\n",
    "b5 <- c(79, 81, 79)\n",
    "y <- c(b1, b2, b3, b4, b5)\n",
    "x <- c(\"b1\", \"b2\", \"b3\", \"b4\", \"b5\"); x <- rep(x, c(3, 3, 3, 3, 3))\n",
    "\n",
    "df = tibble(y, x); df %>% head"
   ]
  },
  {
   "cell_type": "markdown",
   "id": "d4820205",
   "metadata": {},
   "source": [
    "- 분산분석 : 배치 간의 산포가 존재하여, 배치가 동질적이 아님"
   ]
  },
  {
   "cell_type": "code",
   "execution_count": 185,
   "id": "4bdd6bb4",
   "metadata": {},
   "outputs": [
    {
     "data": {
      "text/html": [
       "<table class=\"dataframe\">\n",
       "<caption>A tibble: 2 × 6</caption>\n",
       "<thead>\n",
       "\t<tr><th scope=col>term</th><th scope=col>df</th><th scope=col>sumsq</th><th scope=col>meansq</th><th scope=col>statistic</th><th scope=col>p.value</th></tr>\n",
       "\t<tr><th scope=col>&lt;chr&gt;</th><th scope=col>&lt;dbl&gt;</th><th scope=col>&lt;dbl&gt;</th><th scope=col>&lt;dbl&gt;</th><th scope=col>&lt;dbl&gt;</th><th scope=col>&lt;dbl&gt;</th></tr>\n",
       "</thead>\n",
       "<tbody>\n",
       "\t<tr><td>factor(x)</td><td> 4</td><td>147.7333</td><td>36.93333</td><td>20.51852</td><td>8.24639e-05</td></tr>\n",
       "\t<tr><td>Residuals</td><td>10</td><td> 18.0000</td><td> 1.80000</td><td>      NA</td><td>         NA</td></tr>\n",
       "</tbody>\n",
       "</table>\n"
      ],
      "text/latex": [
       "A tibble: 2 × 6\n",
       "\\begin{tabular}{llllll}\n",
       " term & df & sumsq & meansq & statistic & p.value\\\\\n",
       " <chr> & <dbl> & <dbl> & <dbl> & <dbl> & <dbl>\\\\\n",
       "\\hline\n",
       "\t factor(x) &  4 & 147.7333 & 36.93333 & 20.51852 & 8.24639e-05\\\\\n",
       "\t Residuals & 10 &  18.0000 &  1.80000 &       NA &          NA\\\\\n",
       "\\end{tabular}\n"
      ],
      "text/markdown": [
       "\n",
       "A tibble: 2 × 6\n",
       "\n",
       "| term &lt;chr&gt; | df &lt;dbl&gt; | sumsq &lt;dbl&gt; | meansq &lt;dbl&gt; | statistic &lt;dbl&gt; | p.value &lt;dbl&gt; |\n",
       "|---|---|---|---|---|---|\n",
       "| factor(x) |  4 | 147.7333 | 36.93333 | 20.51852 | 8.24639e-05 |\n",
       "| Residuals | 10 |  18.0000 |  1.80000 |       NA |          NA |\n",
       "\n"
      ],
      "text/plain": [
       "  term      df sumsq    meansq   statistic p.value    \n",
       "1 factor(x)  4 147.7333 36.93333 20.51852  8.24639e-05\n",
       "2 Residuals 10  18.0000  1.80000       NA           NA"
      ]
     },
     "metadata": {},
     "output_type": "display_data"
    }
   ],
   "source": [
    "anova <- aov(y ~ factor(x), df)\n",
    "tidy(anova)"
   ]
  },
  {
   "cell_type": "markdown",
   "id": "bb37d616",
   "metadata": {},
   "source": [
    "<br>\n",
    "\n",
    "- $\\sigma^2_A = 3.422^2 = 11.17$, $\\sigma^2_E=1.342^2 = 1.8$로서, 배치 간 산포가 유의"
   ]
  },
  {
   "cell_type": "code",
   "execution_count": 188,
   "id": "d5216145",
   "metadata": {},
   "outputs": [],
   "source": [
    "library(lme4)"
   ]
  },
  {
   "cell_type": "code",
   "execution_count": 191,
   "id": "26829e89",
   "metadata": {},
   "outputs": [
    {
     "data": {
      "text/plain": [
       "Linear mixed model fit by REML ['lmerMod']\n",
       "Formula: y ~ (1 | x)\n",
       "REML criterion at convergence: 62.7527\n",
       "Random effects:\n",
       " Groups   Name        Std.Dev.\n",
       " x        (Intercept) 3.422   \n",
       " Residual             1.342   \n",
       "Number of obs: 15, groups:  x, 5\n",
       "Fixed Effects:\n",
       "(Intercept)  \n",
       "      74.87  "
      ]
     },
     "metadata": {},
     "output_type": "display_data"
    }
   ],
   "source": [
    "lmer(y ~ (1|x))"
   ]
  },
  {
   "cell_type": "code",
   "execution_count": 192,
   "id": "6a23eb02",
   "metadata": {},
   "outputs": [
    {
     "data": {
      "text/html": [
       "0.866704344474241"
      ],
      "text/latex": [
       "0.866704344474241"
      ],
      "text/markdown": [
       "0.866704344474241"
      ],
      "text/plain": [
       "[1] 0.8667043"
      ]
     },
     "metadata": {},
     "output_type": "display_data"
    }
   ],
   "source": [
    "3.422^2/(3.422^2 + 1.342^2)"
   ]
  },
  {
   "cell_type": "markdown",
   "id": "e07298f2",
   "metadata": {},
   "source": [
    "- **기여율의 추정** : $\\hat{\\rho}=  {{11.17} \\over {13.51}}=86.67%$"
   ]
  }
 ],
 "metadata": {
  "kernelspec": {
   "display_name": "R",
   "language": "R",
   "name": "ir"
  },
  "language_info": {
   "codemirror_mode": "r",
   "file_extension": ".r",
   "mimetype": "text/x-r-source",
   "name": "R",
   "pygments_lexer": "r",
   "version": "4.2.2"
  }
 },
 "nbformat": 4,
 "nbformat_minor": 5
}
