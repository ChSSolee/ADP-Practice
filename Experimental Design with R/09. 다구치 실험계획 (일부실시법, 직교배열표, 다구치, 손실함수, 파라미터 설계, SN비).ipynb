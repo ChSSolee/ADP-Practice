{
 "cells": [
  {
   "cell_type": "markdown",
   "id": "818aafa0",
   "metadata": {},
   "source": [
    "# 09. 다구치 실험계획\n",
    "\n",
    "<br>\n",
    "\n",
    "## 09.01. 직교배열표\n",
    "- 일반적으로 실험에서 고려해야 할 요인들의 개수는 10 ~ 20개, 주효과와 상호작용효과를 고려하면 총 실험횟수는 기하급수적으로 증가\n",
    "- 경험적으로 공업실험에서 잘 알려진 것은 **Factor Sparsity (유의한 요인의 수는 3, 4개이고 2요인 상호작용효과까지 포함하면 유의한 것은 5, 6개를 넘지 않음)의 원칙으로, 실질적으로 특성값에 유의한 영향을 미치는 요인의 수는 상당히 적음**\n",
    "- **이에 따라 직교배열표를 통한 일부실시법을 계획**\n",
    "\n",
    "<br>\n",
    "\n",
    "#### 직교배열표를 통하여, 정의대비를 사용하지 않고 실험조건을 구함\n",
    " \n",
    "<br>\n",
    "\n",
    "### $L_{16}(2^{15})$\n",
    "- $2^10=1024$의 실험조건들 중, 실제로 시험이 실시되어야 할 $2^{10-6}=16$개의 필요한 실험조건들을 결정하고, 각 효과들의 변동계산을 용이하게 하도록 도와줌\n",
    "- **직교배열에 의한 실험계획의 중요 목적 중 하나낙, 작언 실험횟수로 특성값에 영향을 주는 중요 요인들을 걸러 내는 일 (factors screening)**\n",
    "\n",
    "<br>\n",
    "\n",
    "- **2수준계 직교배열표는 일반적으로**\n",
    "\n",
    "    $$L_{2^m}(2^{2m-1})$$으로 표시\n",
    "\n",
    "    - **$2^m$은 실험의 크기, 2는 2수준계를 의미**\n",
    "    \n",
    "    - 2수준 직교배열표의 각 열은 0, 1로 구성되어 있어, 각 열의 자유도는 2-1=1\n",
    "    \n",
    "    - 직교배열표에서 열의 수는, 실험의 총자유도인 $2^m-1$\n",
    "    \n",
    "    - $L$자는 직교배열표를 처음에 라틴정방계획에 적용하면서 첫 글자를 취한 것\n",
    "    \n",
    "    <br>\n",
    "    \n",
    "    <hr>\n",
    "    \n",
    "### 2수준계 직교배열표에서 실험과정 \n",
    "    \n",
    "1. 요인들은 직교배열표의 열에 합리적으로 배치한 후에, 각 열에 배치된 요인의 2수준을 랜덤하게 0과 1에 할당\n",
    "    \n",
    "2. $2^m$번의 실험을 완전히 랜덤한 순서대로 실시\n",
    "    \n",
    "3. 직교배열표에 의한 실험을 실시한 후, 특성값에 대한 중요 요인의 영향을 연구할 때에는\n",
    "\n",
    "    유의한 요인에 대한 수준을 더 택해서 이원배치법 또는 삼원배치법에 의한 실험계획법에 의해 분석을 실시\n",
    "    \n",
    "    "
   ]
  },
  {
   "cell_type": "markdown",
   "id": "ef4c7842",
   "metadata": {},
   "source": [
    "<br>\n",
    "\n",
    "### 직교배열표의 장점\n",
    "1. 요인이 많은 경우, 적은 실험횟수로 관심이 있는 효과의 검출을 가능하게 하는 일부실시법의 실험배치를 쉽게 할 수 있음\n",
    "2. 실험자료로부터 요인변동의 계싼이 용이하게 분산분석표의 작성이 수월\n",
    "3. 각각의 실험조건에서 측정된 특성값은 실험에서 고려된 요인에 관한 정보를 포함\n",
    "\n",
    "    그러나 일부실시법 실험의 배치에서는 임의의 두 요인들 수준의 모든 가능한 결합이 골고루 나와\n",
    "    \n",
    "    정확히 균형이 잡혀 있으므로, 1개의 요인에 대한 효과를 구할 때 다른 요인의 영향에 치우침 없이 독자적으로 계산됨\n",
    "    \n",
    "    **즉, 총변동이 실험에서 고려된 각 요인효과들의 변동으로 분할 (직교화의 원리)**"
   ]
  },
  {
   "cell_type": "markdown",
   "id": "2c83d1b1",
   "metadata": {},
   "source": [
    "<br>\n",
    "\n",
    "## 09.02. $L_4(2^3)$직교배열표\n",
    "\n",
    "<br>\n",
    "\n",
    "### 2수준 직교배열표\n",
    "- $2^3$요인실험에서의 요인효과\n",
    "\n",
    "    | | A | B | A X B|\n",
    "    |- |- |- | -|\n",
    "    | $y_{00}$ | - | - | + |\n",
    "    | $y_{01}$ | - | + | - |\n",
    "    | $y_{10}$ | + | - | - |\n",
    "    | $y_{11}$ | + | + | + |\n",
    "\n",
    "    <br>\n",
    "\n",
    "    - **고려된 요인이 모두 2수준인 경우, 요인의 주효과의 자유도는 수준수에서 하나를 뺀 2-1=1**\n",
    "    - **상호작용효과의 자유도는 관련 요인 자유도의 곱이기에 1**\n",
    "\n",
    "    <br>\n",
    "\n",
    "    - **모든 효과는 대비(contrast)가 되고, 2수준 요인배치법 $2^2$실험에서 모든 효과를 직교대비에 의해 표시 가능**\n",
    "        - **A에 관한 대비는 8개의 특성값을, A의 수준에 따라 0, 1 두 그룹으로 나누어, 각 그룹에 속한 4개씩의 특성값들의 합계의 차이로 결정**\n",
    "        \n",
    "        - 3요인 상호작용효과 $A\\times B \\times C$에 관한 대비는 실험조건을 결정하는 3요인 각각의 수준을 2진법으로 더한 결과에 따라 0, 1 두그룹으로 나누어서, 각 그룹의 특성값의 합계의 차이로 결정\n",
    "        \n",
    "        "
   ]
  },
  {
   "cell_type": "markdown",
   "id": "df0b1024",
   "metadata": {},
   "source": [
    "<br>\n",
    "\n",
    "### $L_4(2^3)$직교배열표\n",
    "\n",
    "- $L_4(2^3)$직교배열표의 구성\n",
    "    \n",
    "    | | A | B | A X B|\n",
    "    |- |- |- | -|\n",
    "    | $y_{00}$ | - | - | + |\n",
    "    | $y_{01}$ | - | + | - |\n",
    "    | $y_{10}$ | + | - | - |\n",
    "    | $y_{11}$ | + | + | + |\n",
    "\n",
    "    $$\\downarrow$$\n",
    "    \n",
    "    | 실험번호 | 열번호 1 | 열번호 2 | 열번호 3 | 실험조건|\n",
    "    | - | - | - | - | - |\n",
    "    | 1 | 0 | 0 | 0 | |\n",
    "    | 2| 0 | 1 | 1 | \n",
    "    | 3| 1 | 0 | 1 | |\n",
    "    |4 |1| 1| 0| |\n",
    "    |기본표시 | a| b | ab | | \n",
    "    |실험배치 | | | | "
   ]
  },
  {
   "cell_type": "markdown",
   "id": "10fd2584",
   "metadata": {},
   "source": [
    "- 기본표시의 역할 (직교배열표 2개 열의 상호작용효과에 대한 정보)\n",
    "    \n",
    "    - **직교배열표의 3열 중 2열을 임의로 선택해서 2진법으로 더하면, 나머지 1열과 같아짐**\n",
    "    \n",
    "    - **2열과 3열의 상호작용효과 열 계산**. 2열과 3열에 해당되는 기본표시의 곱\n",
    "    \n",
    "    $$b\\bullet ab=ab^2=ab^0=a $$이며, 문자와 지수 모두 2진법으로 표시되기 때문에\n",
    "    \n",
    "    $$a^2=a^0=1$$따라서 기본표시 a에 해당하는 1열이, 2열과 3열의 상호작용효과 열\n",
    "    \n",
    "    <br>\n",
    "    \n",
    "#### 2요인실험\n",
    "- 2요인 A, B를 2개의 열에 어떻게 배치할 수 있는지를 표시\n",
    "- 실험조건은 A, B 요인이 배치된 1열, 2열에서의 값이 결정\n",
    "    - 실험번호 3번은 요인 A가 배치된 1열의 값이 1, 요인 B가 배치된 2열의 값이 0이므로, 실험조건은 $A_1 B_0$\n",
    "- 실험번호에서의 특성값은 첨자를 사용하여 $y_1, y_2,y_3, y_4$로 표시\n",
    "\n",
    "    | 실험번호 | 열번호 1 | 열번호 2 | 열번호 3 | 실험조건| 특성값|\n",
    "    | - | - | - | - | - | - |\n",
    "    | 1 | 0 | 0 | 0 | $A_0B_0$| $y_1$|\n",
    "    | 2| 0 | 1 | 1 | $A_0B_1$|$y_2$|\n",
    "    | 3| 1 | 0 | 1 | $A_1B_0$|$y_3$|\n",
    "    |4 |1| 1| 0| $A_1B_1$|$y_4$|\n",
    "    |기본표시 | a| b | ab | | \n",
    "    |실험배치 | A| B| | "
   ]
  },
  {
   "cell_type": "markdown",
   "id": "dd9d14da",
   "metadata": {},
   "source": [
    "<br>\n",
    "\n",
    "- **1열의 변동 $S_1$은, 1열의 값이 1에 해당되는 특성값의 그룹과, 0에 해당되는 특성값의 그룹간의 차이의 제곱을, 총실험횟수로 나눈 값**\n",
    "\n",
    "    $$S_1 = {1\\over4}(y_3+y_4-y_1-y_2)^2$$\n",
    "\n",
    "    - 1열에 요인 A가 배치되어서 1열의 0, 1 값이 요인 A의 수준을 나타내기 때문에, 1열의 변동인 $S_1$은 A의 변동 $SS_A$\n",
    "       \n",
    "<br>\n",
    "\n",
    "- **2열의 변동 $S_2$는 2열의 0그룹과 1그룹에 해당하는 특성값 간의 변동**\n",
    "\n",
    "    $$S_2 = \\frac{1}{4}(y_2+y_4-y_1-y_3)^2$$\n",
    "    \n",
    "    - 2열에 요인 B가 배치되어서 2열의 변동 $S_2$는 요인 B의 변동 $SS_B$\n",
    "    \n",
    "- **3열의 변동 $S_3$는 3열의 0그룹과 1그룹에 해당하는 특성값 간의 변동**\n",
    "\n",
    "    $$S_3 = \\frac{1}{4}(y_2+y_3-y_1-y_4)^2$$\n",
    "    \n",
    "    - 3열에는 오차 $e$가 배치되어, 3열의 변동은 잔차변동 $SS_E$\n",
    "    \n",
    "    <br>\n",
    "    \n",
    "    #### 따라서 총변동 $SS_T$는 \n",
    "    \n",
    "    $$SS_T = SS_1 + SS_2 + SS_3$$"
   ]
  },
  {
   "cell_type": "markdown",
   "id": "12a6a287",
   "metadata": {},
   "source": [
    "<br>\n",
    "\n",
    "#### 3요인실험\n",
    "- 3요인실험에서 3요인 A, B, C를 3개의 열에 배치\n",
    "\n",
    "    | 실험번호 | 열번호 1 | 열번호 2 | 열번호 3 | 배치1의 실험조건| 배치2의 실험조건| 특성값|\n",
    "    | - | - | - | - | - | - | - |\n",
    "    | 1 | 0 | 0 | 0 | $A_0B_0C_0$| $A_0B_0C_0$|$y_1$|\n",
    "    | 2| 0 | 1 | 1 | $A_0B_1C_1$|$A_1B_1C_0$|$y_2$|\n",
    "    | 3| 1 | 0 | 1 | $A_0B_0C_1$|$A_0B_1C_1$|$y_3$|\n",
    "    |4 |1| 1| 0| $A_1B_1C_0$|$A_1B_0C_1$|$y_4$|\n",
    "    |기본표시 | a| b | ab | | |\n",
    "    |실험배치 1| A| B| C| |\n",
    "    |실험배치 2| C|A|B| | "
   ]
  },
  {
   "cell_type": "markdown",
   "id": "4ee4d04c",
   "metadata": {},
   "source": [
    "- **$L_4(2^3)$에는 3개의 열이 있으므로, 요인 A, B, C를 어느 열에 배치해도 주 효과가 2요인 상호작용 효과와 교락**\n",
    "    \n",
    "    (정의대비 $I=ABC$이기 때문)\n",
    "    \n",
    "- 직교배열표의 각 열의 변동은\n",
    "\n",
    "    $$S_T = SS_A + SS_B + SS_C$$로 분할\n",
    "    \n",
    "    - 3개의 변동을 비교하여 3요인들의 상대적인 중요성 평가 가능\n",
    "    - **만약 3개의 변동들 중에서 상대적으로 작은 값이 존재한다면, 그 요인은 특성값에 영향을 미치지 않는 요인으로 간주하고 오차처리**"
   ]
  },
  {
   "cell_type": "markdown",
   "id": "b0de809c",
   "metadata": {},
   "source": [
    "<br>\n",
    "\n",
    "## 09.03. $L_8(2^7)$직교배열표\n",
    "\n",
    "| 실험번호 | 열번호 1 | 열번호 2 | 열번호 3 | 열번호 4| 열변호 5| 열번호 6| 열번호 7 | 실험조건 | \n",
    "| - | - | - | - | - | - | - | -| -|\n",
    "| 1 | 0 | 0| 0 | 0 | 0 | 0 | 0|  |\n",
    "| 2 | 0 | 0| 0 | 1 | 1 | 1 | 1|  |\n",
    "| 3 | 0 | 1| 1 | 0 | 0 | 1| 1|  |\n",
    "| 4 | 0 | 1| 1 | 1 | 1 | 0 | 0|  |\n",
    "| 5 | 1 | 0| 1 | 0 | 1 | 0 | 1|  |\n",
    "| 6 | 1 | 0| 1 | 1 | 0 | 1 | 0|  |\n",
    "| 7 | 1 | 1| 0 | 0 | 1 | 1 | 0|  |\n",
    "| 8 | 1 | 1| 0 | 1 | 0 | 0 | 1|  |\n",
    "| 기본표시 | a| b | ab| c | ac| bc | abc | |\n",
    "| 실험배치 |  |   |   |   |   |  | |"
   ]
  },
  {
   "cell_type": "markdown",
   "id": "a01dd877",
   "metadata": {},
   "source": [
    "- 2개의 열 간 상호작용효과가 있는 경우, 2개의 열의 상호작용효과에 해당하는 열은, 각 열의 기본표시의 곱과 기본표시가 똑같은 열\n",
    "\n",
    "    - 1열과 2열의 상호작용효과는 기본표시가 ab에 해당하는 3열\n",
    "    - 1열과 4열의 상호작용효과는 5열\n",
    "    - 5열과 7열의 상호작용효과열은\n",
    "    \n",
    "    $$ac \\bullet abc = a^2bc^2 = a^0bc^0=b$$가 되어 2열\n",
    "    \n",
    "<br>\n",
    "\n",
    "#### 상호작용효과 $A\\times B$의 유의성에 관심이 있는 경우\n",
    "- **5열에 요인 A, 7열에 요인 B가 배치되었을 때**\n",
    "    \n",
    "    **2열에는 관심있는 다른 요인을 배치해서는 안되며, 상호작용 효과 $A\\times B$가 배치되어야 함**\n",
    "    "
   ]
  },
  {
   "cell_type": "markdown",
   "id": "ccb155cf",
   "metadata": {},
   "source": [
    "<br>\n",
    "\n",
    "### 선점도\n",
    "- 직교배열표를 이용한 실험계획에서 요인의 주효과를 포함하여, 관심있는 2요인 상호작용효과를 직교배열표의 각 열에 쉽게 배치할 수 있도록 만들어 놓은 그림\n",
    "\n",
    "    - **점 및 선에 부여된 숫자는 직교배열표의 열 번호에 해당**\n",
    "    - **점을 연결하는 선에 나타난 숫자는 2개열에 배치된 요인 간 상호작용 효과**\n",
    "    \n",
    "- 여러 요인을 직교배열표의 열에 적절히 배치하기 위하여 선점도를 사용\n"
   ]
  },
  {
   "attachments": {
    "3_line_dot-diagram_2level%5B1%5D.gif": {
     "image/gif": "[encoded data removed]"
    }
   },
   "cell_type": "markdown",
   "id": "cea269c0",
   "metadata": {},
   "source": [
    "![3_line_dot-diagram_2level%5B1%5D.gif](attachment:3_line_dot-diagram_2level%5B1%5D.gif)"
   ]
  },
  {
   "cell_type": "markdown",
   "id": "09467954",
   "metadata": {},
   "source": [
    "<br>\n",
    "\n",
    "#### 직교배열표의 랜덤화\n",
    "1. 요인들을 직교배열표의 열에 배치한 후, 각 열에 배치된 요인의 2수준을 랜덤하게 0, 1에 할당\n",
    "2. $2^n$번의 실험을 완전히 랜덤한 순서대로 실시"
   ]
  },
  {
   "cell_type": "markdown",
   "id": "a1f3e819",
   "metadata": {},
   "source": [
    "<br>\n",
    "\n",
    "#### 플라스틱 제품 신도 예시\n",
    "- 온도 A, 습도 B, 압력 C, 진동 D"
   ]
  },
  {
   "cell_type": "code",
   "execution_count": 5,
   "id": "98770bfa",
   "metadata": {},
   "outputs": [],
   "source": [
    "library(tidyverse)\n",
    "library(tidymodels)"
   ]
  },
  {
   "cell_type": "code",
   "execution_count": 6,
   "id": "d3d399e2",
   "metadata": {},
   "outputs": [],
   "source": [
    "elastic <- c(13, 10, 19, 9, 14, 10 ,18 ,17)\n",
    "temp <- c(0, 0, 0, 0, 1, 1, 1, 1) %>% factor\n",
    "humid <- c(0, 0, 1, 1, 0, 0, 1, 1) %>% factor\n",
    "press <- c(0, 1, 0, 1, 0, 1, 0, 1) %>% factor\n",
    "vib <- c(0, 1, 1, 0, 1, 0 ,0, 1) %>% factor\n",
    "dat = tibble(elastic, temp, humid, press, vib)"
   ]
  },
  {
   "cell_type": "markdown",
   "id": "1ddc204b",
   "metadata": {},
   "source": [
    "- 요인 A와 D의 효과가 유의하지 않음"
   ]
  },
  {
   "cell_type": "code",
   "execution_count": 7,
   "id": "5e941fd9",
   "metadata": {},
   "outputs": [
    {
     "data": {
      "text/html": [
       "<table class=\"dataframe\">\n",
       "<caption>A tibble: 5 × 6</caption>\n",
       "<thead>\n",
       "\t<tr><th scope=col>term</th><th scope=col>df</th><th scope=col>sumsq</th><th scope=col>meansq</th><th scope=col>statistic</th><th scope=col>p.value</th></tr>\n",
       "\t<tr><th scope=col>&lt;chr&gt;</th><th scope=col>&lt;dbl&gt;</th><th scope=col>&lt;dbl&gt;</th><th scope=col>&lt;dbl&gt;</th><th scope=col>&lt;dbl&gt;</th><th scope=col>&lt;dbl&gt;</th></tr>\n",
       "</thead>\n",
       "<tbody>\n",
       "\t<tr><td>temp     </td><td>1</td><td> 8.0</td><td> 8.000000</td><td>1.655172</td><td>0.28854783</td></tr>\n",
       "\t<tr><td>humid    </td><td>1</td><td>32.0</td><td>32.000000</td><td>6.620690</td><td>0.08227332</td></tr>\n",
       "\t<tr><td>press    </td><td>1</td><td>40.5</td><td>40.500000</td><td>8.379310</td><td>0.06277211</td></tr>\n",
       "\t<tr><td>vib      </td><td>1</td><td>12.5</td><td>12.500000</td><td>2.586207</td><td>0.20616472</td></tr>\n",
       "\t<tr><td>Residuals</td><td>3</td><td>14.5</td><td> 4.833333</td><td>      NA</td><td>        NA</td></tr>\n",
       "</tbody>\n",
       "</table>\n"
      ],
      "text/latex": [
       "A tibble: 5 × 6\n",
       "\\begin{tabular}{llllll}\n",
       " term & df & sumsq & meansq & statistic & p.value\\\\\n",
       " <chr> & <dbl> & <dbl> & <dbl> & <dbl> & <dbl>\\\\\n",
       "\\hline\n",
       "\t temp      & 1 &  8.0 &  8.000000 & 1.655172 & 0.28854783\\\\\n",
       "\t humid     & 1 & 32.0 & 32.000000 & 6.620690 & 0.08227332\\\\\n",
       "\t press     & 1 & 40.5 & 40.500000 & 8.379310 & 0.06277211\\\\\n",
       "\t vib       & 1 & 12.5 & 12.500000 & 2.586207 & 0.20616472\\\\\n",
       "\t Residuals & 3 & 14.5 &  4.833333 &       NA &         NA\\\\\n",
       "\\end{tabular}\n"
      ],
      "text/markdown": [
       "\n",
       "A tibble: 5 × 6\n",
       "\n",
       "| term &lt;chr&gt; | df &lt;dbl&gt; | sumsq &lt;dbl&gt; | meansq &lt;dbl&gt; | statistic &lt;dbl&gt; | p.value &lt;dbl&gt; |\n",
       "|---|---|---|---|---|---|\n",
       "| temp      | 1 |  8.0 |  8.000000 | 1.655172 | 0.28854783 |\n",
       "| humid     | 1 | 32.0 | 32.000000 | 6.620690 | 0.08227332 |\n",
       "| press     | 1 | 40.5 | 40.500000 | 8.379310 | 0.06277211 |\n",
       "| vib       | 1 | 12.5 | 12.500000 | 2.586207 | 0.20616472 |\n",
       "| Residuals | 3 | 14.5 |  4.833333 |       NA |         NA |\n",
       "\n"
      ],
      "text/plain": [
       "  term      df sumsq meansq    statistic p.value   \n",
       "1 temp      1   8.0   8.000000 1.655172  0.28854783\n",
       "2 humid     1  32.0  32.000000 6.620690  0.08227332\n",
       "3 press     1  40.5  40.500000 8.379310  0.06277211\n",
       "4 vib       1  12.5  12.500000 2.586207  0.20616472\n",
       "5 Residuals 3  14.5   4.833333       NA          NA"
      ]
     },
     "metadata": {},
     "output_type": "display_data"
    }
   ],
   "source": [
    "model1 <- aov(elastic ~ temp + humid + press + vib, dat)\n",
    "tidy(model1)"
   ]
  },
  {
   "cell_type": "markdown",
   "id": "807dc736",
   "metadata": {},
   "source": [
    "- 유의하지 않은 변수들을 제거한 후 재분석\n",
    "    - 요인 B와 C가 신도에 영향을 미칠 것으로 기대"
   ]
  },
  {
   "cell_type": "code",
   "execution_count": 8,
   "id": "b488e64c",
   "metadata": {},
   "outputs": [
    {
     "data": {
      "text/html": [
       "<table class=\"dataframe\">\n",
       "<caption>A tibble: 4 × 6</caption>\n",
       "<thead>\n",
       "\t<tr><th scope=col>term</th><th scope=col>df</th><th scope=col>sumsq</th><th scope=col>meansq</th><th scope=col>statistic</th><th scope=col>p.value</th></tr>\n",
       "\t<tr><th scope=col>&lt;chr&gt;</th><th scope=col>&lt;dbl&gt;</th><th scope=col>&lt;dbl&gt;</th><th scope=col>&lt;dbl&gt;</th><th scope=col>&lt;dbl&gt;</th><th scope=col>&lt;dbl&gt;</th></tr>\n",
       "</thead>\n",
       "<tbody>\n",
       "\t<tr><td>humid    </td><td>1</td><td>32.0</td><td>32.000</td><td>5.688889</td><td>0.07556582</td></tr>\n",
       "\t<tr><td>press    </td><td>1</td><td>40.5</td><td>40.500</td><td>7.200000</td><td>0.05504061</td></tr>\n",
       "\t<tr><td>vib      </td><td>1</td><td>12.5</td><td>12.500</td><td>2.222222</td><td>0.21029538</td></tr>\n",
       "\t<tr><td>Residuals</td><td>4</td><td>22.5</td><td> 5.625</td><td>      NA</td><td>        NA</td></tr>\n",
       "</tbody>\n",
       "</table>\n"
      ],
      "text/latex": [
       "A tibble: 4 × 6\n",
       "\\begin{tabular}{llllll}\n",
       " term & df & sumsq & meansq & statistic & p.value\\\\\n",
       " <chr> & <dbl> & <dbl> & <dbl> & <dbl> & <dbl>\\\\\n",
       "\\hline\n",
       "\t humid     & 1 & 32.0 & 32.000 & 5.688889 & 0.07556582\\\\\n",
       "\t press     & 1 & 40.5 & 40.500 & 7.200000 & 0.05504061\\\\\n",
       "\t vib       & 1 & 12.5 & 12.500 & 2.222222 & 0.21029538\\\\\n",
       "\t Residuals & 4 & 22.5 &  5.625 &       NA &         NA\\\\\n",
       "\\end{tabular}\n"
      ],
      "text/markdown": [
       "\n",
       "A tibble: 4 × 6\n",
       "\n",
       "| term &lt;chr&gt; | df &lt;dbl&gt; | sumsq &lt;dbl&gt; | meansq &lt;dbl&gt; | statistic &lt;dbl&gt; | p.value &lt;dbl&gt; |\n",
       "|---|---|---|---|---|---|\n",
       "| humid     | 1 | 32.0 | 32.000 | 5.688889 | 0.07556582 |\n",
       "| press     | 1 | 40.5 | 40.500 | 7.200000 | 0.05504061 |\n",
       "| vib       | 1 | 12.5 | 12.500 | 2.222222 | 0.21029538 |\n",
       "| Residuals | 4 | 22.5 |  5.625 |       NA |         NA |\n",
       "\n"
      ],
      "text/plain": [
       "  term      df sumsq meansq statistic p.value   \n",
       "1 humid     1  32.0  32.000 5.688889  0.07556582\n",
       "2 press     1  40.5  40.500 7.200000  0.05504061\n",
       "3 vib       1  12.5  12.500 2.222222  0.21029538\n",
       "4 Residuals 4  22.5   5.625       NA          NA"
      ]
     },
     "metadata": {},
     "output_type": "display_data"
    }
   ],
   "source": [
    "model2 <- aov(elastic ~ humid + press + vib, dat)\n",
    "tidy(model2)"
   ]
  },
  {
   "cell_type": "markdown",
   "id": "6138c76a",
   "metadata": {},
   "source": [
    "- 최적조합에서의 모평균 추정치 = 14 + 4 = 18"
   ]
  },
  {
   "cell_type": "code",
   "execution_count": 16,
   "id": "91c2a0ad",
   "metadata": {},
   "outputs": [
    {
     "data": {
      "text/html": [
       "<table class=\"dataframe\">\n",
       "<caption>A tibble: 3 × 5</caption>\n",
       "<thead>\n",
       "\t<tr><th scope=col>term</th><th scope=col>estimate</th><th scope=col>std.error</th><th scope=col>statistic</th><th scope=col>p.value</th></tr>\n",
       "\t<tr><th scope=col>&lt;chr&gt;</th><th scope=col>&lt;dbl&gt;</th><th scope=col>&lt;dbl&gt;</th><th scope=col>&lt;dbl&gt;</th><th scope=col>&lt;dbl&gt;</th></tr>\n",
       "</thead>\n",
       "<tbody>\n",
       "\t<tr><td>(Intercept)</td><td>14.0</td><td>1.620185</td><td> 8.640988</td><td>0.0003428494</td></tr>\n",
       "\t<tr><td>humid1     </td><td> 4.0</td><td>1.870829</td><td> 2.138090</td><td>0.0855238045</td></tr>\n",
       "\t<tr><td>press1     </td><td>-4.5</td><td>1.870829</td><td>-2.405351</td><td>0.0612145983</td></tr>\n",
       "</tbody>\n",
       "</table>\n"
      ],
      "text/latex": [
       "A tibble: 3 × 5\n",
       "\\begin{tabular}{lllll}\n",
       " term & estimate & std.error & statistic & p.value\\\\\n",
       " <chr> & <dbl> & <dbl> & <dbl> & <dbl>\\\\\n",
       "\\hline\n",
       "\t (Intercept) & 14.0 & 1.620185 &  8.640988 & 0.0003428494\\\\\n",
       "\t humid1      &  4.0 & 1.870829 &  2.138090 & 0.0855238045\\\\\n",
       "\t press1      & -4.5 & 1.870829 & -2.405351 & 0.0612145983\\\\\n",
       "\\end{tabular}\n"
      ],
      "text/markdown": [
       "\n",
       "A tibble: 3 × 5\n",
       "\n",
       "| term &lt;chr&gt; | estimate &lt;dbl&gt; | std.error &lt;dbl&gt; | statistic &lt;dbl&gt; | p.value &lt;dbl&gt; |\n",
       "|---|---|---|---|---|\n",
       "| (Intercept) | 14.0 | 1.620185 |  8.640988 | 0.0003428494 |\n",
       "| humid1      |  4.0 | 1.870829 |  2.138090 | 0.0855238045 |\n",
       "| press1      | -4.5 | 1.870829 | -2.405351 | 0.0612145983 |\n",
       "\n"
      ],
      "text/plain": [
       "  term        estimate std.error statistic p.value     \n",
       "1 (Intercept) 14.0     1.620185   8.640988 0.0003428494\n",
       "2 humid1       4.0     1.870829   2.138090 0.0855238045\n",
       "3 press1      -4.5     1.870829  -2.405351 0.0612145983"
      ]
     },
     "metadata": {},
     "output_type": "display_data"
    }
   ],
   "source": [
    "lmmod <- lm(elastic ~ humid + press, dat)\n",
    "tidy(lmmod)"
   ]
  },
  {
   "cell_type": "markdown",
   "id": "2667a2ee",
   "metadata": {},
   "source": [
    "<br>\n",
    "\n",
    "## 09.04. 다구치 품질공학\n",
    "- **품질 : 제품이 출하된 시점으로부터, 성능특성값의 변동과 부작용으로 인하여 사용에 끼친 손실** \n",
    "\n",
    "<br>\n",
    "\n",
    "#### 설계단계\n",
    "1. **제품의 성능특성값에 변동에 가장 큰 영향을 미치는 단계를 제품의 설계단게 (제품설계 및 공정설계) $\\rightarrow$ QC필요**\n",
    "\n",
    "<br>\n",
    "\n",
    "#### 손실함수\n",
    "- **제품특성의 목표치가 $m$이고, 제품의 실제 특성값이 $y$인경우, 손실함수**\n",
    "\n",
    "    $$L(y) = k(y-m)^2$$\n",
    "    \n",
    "    특성값 $y$가 목표치 $m$에서 멀어질수록 그에 따른 손실은 더욱더 증가 ($k$는 상수)\n",
    "    \n",
    "    좋은 품질의 제품은 손실함수의 값을 작게 하는 것\n",
    "    \n",
    "<br>\n",
    "\n",
    "#### 잡음의 사용\n",
    "- 제품성능의 변동에 영향을 미치는 것은 '제어가능한 변수'와 '제어 불가능한 잡음'으로 분류\n",
    "1. 외부잡음 : 외부 사용환경조건의 변화에 의한 잡음\n",
    "2. 내부잡음 : 사용하면서 발생하는 내부 마모나 열화에 의한 잡음\n",
    "3. 제품 간 잡음 : 제품의 불완전제조에 의하여 발생되는 제품간 성능특성의 산포로 인한 잡음\n",
    "\n",
    "<br>\n",
    "\n",
    "#### 라인 외 품질관리와 라인 내 품질관리의 구분\n",
    "- 라인 내 품질관리 (online QC) : 생산라인에서의 품질관리 활동\n",
    "\n",
    "<br>\n",
    "\n",
    "#### 잡음제거의 기능\n",
    "- 잡음제거의 대부분은 설게$\\bullet$개발의 연구단계와 생산기술의 공정설계단계에서 이루어져야 함\n",
    "\n",
    "<br>\n",
    "\n",
    "\n",
    "    잡음제거방법 가능 여부\n",
    "\n",
    "| 품질관리 구분 | 담당부서 | 대응책 | 외부잡음 | 내부잡음 | 제품 간 잡음|\n",
    "| - | :- | :- | :- | :- | :- |\n",
    "| 라인 외 품질관리 | 설계& 개발<br>(research and development) | 1. 시스템설계 <br>2. 파라미터 설계 <br>3. 허용차 설계 | 대응가능<br>대응가능<br>대응가능 하나 최후의 수단 | 대응가능<br>대응가능<br>대응가능|대응가능<br>대응가능<br>대응가능|\n",
    "| | 생산기술<br>(production engineering) | 1. 시스템 설계 <br>2. 파라미터 설계 <br>3. 허용차 설계 | 대응 불가능<br>대응 불가능<br>대응 불가능 | 대응 블가능<br>대응 불가능<br>대응 불가능|대응가능<br>대응가능<br>대응가능|\n",
    "| |\n",
    "| 라인 내 품질관리| 생산<br>(production) | 1. 공정진단과 조정 <br>2. 예측과 수정 <br>3. 검사(측정과 조치) | 대응 불가능<br>대응 불가능<br>대응 불가능 | 대응 블가능<br>대응 불가능<br>대응 불가능|대응가능<br>대응가능<br>대응가능|\n",
    "| | 판매<br>(sales) | A/S | 대응 불가능| 예방보전의 의미로서 가능| 예방보전의 의미로서 가능|"
   ]
  },
  {
   "cell_type": "markdown",
   "id": "e68ab1a1",
   "metadata": {},
   "source": [
    "<br>\n",
    "\n",
    "#### 품질향상계획에서의 주안점\n",
    "1. 목표치에 대한 성능특성값의 변동을 끊임없이 감소\n",
    "2. 제품의 공정을 설계하거나 개선할 때, 제품의 성능특성값이 잡음에 둔감(robust)하도록 하여야 함\n",
    "3. 제품이나 공정을 설계할 때는 적은 비용이 소요되면서, 목표치의 허용한계를 만족시키는 설계변수들의 최적조건을 탐색\n",
    "4. 1.을 만족시키기 위해서 SN비를 특성값으로 사용하여, 변동을 최소화\n",
    "\n",
    "    2.와 3.을 만족시키기 위해 직교배열표를 사용"
   ]
  },
  {
   "cell_type": "markdown",
   "id": "9a51b16f",
   "metadata": {},
   "source": [
    "<br>\n",
    "\n",
    "### 제품설계의 3단계\n",
    "1. 시스템 설계\n",
    "- 제품의 원형 개발\n",
    "- 두 세가지의 가능성 있는 설계를 한 후, 다음 단계에서 보완\n",
    "\n",
    "<br>\n",
    "\n",
    "2. 파라미터 설계\n",
    "- 파라미터 : 제품성능의 특성값에 영향을 미치는 제어가능한 인자를 의미 (설게변수, design variable)\n",
    "    - (공학에서의 파라미터는 통계의 그 것과 의미가 다름)\n",
    "    \n",
    "    즉 파라미터 설계는인자의 최적수준을 정하는 것\n",
    "- 목표품질을 만족시키는 범위 내에서 가능하면 비용이 적게 드는 조건이나 부품을 사용\n",
    "    - 잡음을 포함시켜 최적설계하는 직교배열표를 사용\n",
    "\n",
    "<br>\n",
    "\n",
    "3. 허용차 설계\n",
    "- 최적조건을 구하였으나, 품질특성값의 변동이 만족할 만한 상태가 아닌 경우에 수행\n",
    "- 사용환경의 변화에 따르는 영향을 조사하여, 큰 영향을 미치는 원인을 탐색\n",
    "    \n",
    "    허용차를 줄일 수 있도록 부품을 선별적으로 교체하는 등의 작업방법에 대한 조치\n",
    "- 변동을 줄이기 위해서는 비용이 증가하므로, 만족스러운 허용차를 얻는 범위 내에서 최소비용이 드는 방법 고려 (직교배열표 사용)"
   ]
  },
  {
   "cell_type": "markdown",
   "id": "6f80bb8a",
   "metadata": {},
   "source": [
    "<br>\n",
    "\n",
    "## 09.06. 품질정보의 해석 (손실함수, SN비)\n",
    "\n",
    "<br>\n",
    "\n",
    "### 손실함수\n",
    "\n",
    "<br>\n",
    "\n",
    "- **망목특성 : 특정 목표치 ($m$)가 있는 특성으로, 손실함수는**\n",
    "\n",
    "    $$L(y) = k(y-m)^2$$\n",
    "    \n",
    "    **소비자 허용한계점 $m\\pm \\Delta$에서 소비자의 손실이 $A$면, $k=\\frac{A}{\\Delta^2}$**\n",
    "    \n",
    "    **기대손실은$$L=k[\\sigma^2+(\\mu-m)^2]$$**"
   ]
  },
  {
   "cell_type": "markdown",
   "id": "832c7523",
   "metadata": {},
   "source": [
    "<br>\n",
    "\n",
    "- **망소특성 : 특성값이 작을수록 좋은 것, $m=0$**\n",
    "\n",
    "    **손실함수는 $$L(y)=ky^2,\\;\\;\\;k=A/\\Delta^2$$이고, 기대손실은$$L=kE(y^2)=kE[(y-\\mu)+\\mu]^2=k(\\sigma^2+\\mu^2)$$**"
   ]
  },
  {
   "cell_type": "markdown",
   "id": "ef089976",
   "metadata": {},
   "source": [
    "<br>\n",
    "\n",
    "- **망대특성 : 특성값이 클수록 좋은 것, $m=0$**\n",
    "\n",
    "    **손실함수는 $$L(y)=k({1\\over{y^2}})^2,\\;\\;\\;k=A\\Delta^2$$이고, 기대손실은$$L=k({1\\over{\\mu}})^2(1+\\frac{3\\sigma^2}{\\mu^2})$$**"
   ]
  },
  {
   "attachments": {
    "1_graph_loss_func%5B1%5D.gif": {
     "image/gif": "[encoded data removed]"
    }
   },
   "cell_type": "markdown",
   "id": "0482bd42",
   "metadata": {},
   "source": [
    "![1_graph_loss_func%5B1%5D.gif](attachment:1_graph_loss_func%5B1%5D.gif)"
   ]
  },
  {
   "cell_type": "markdown",
   "id": "b6aac27b",
   "metadata": {},
   "source": [
    "<br>\n",
    "\n",
    "### SN비 (signal-to-noise ratio)\n",
    "- **SN비는 신호대 잡음의 비율**\n",
    "\n",
    "    $$SN = \\frac{목적이\\;산출물의\\;결과에\\;어느\\;정도\\;반영되는가?}{잡음의\\;크기가\\;산출물의\\;결과에\\;어느\\;정도\\;나쁜\\;영향을\\;미치는가?}=\\frac{신호입력이\\;산출물에\\;전달된\\;힘}{잡음이\\;산출물에\\;전달된\\;힘}$$\n",
    "\n",
    "    $$=\\frac{신호의\\;힘(power\\;of\\;signal)}{잡음의\\;힘(power\\;of\\;noise)}(=\\frac{\\mu^2}{\\sigma^2})$$"
   ]
  },
  {
   "cell_type": "markdown",
   "id": "25def33e",
   "metadata": {},
   "source": [
    "<br>\n",
    "\n",
    "### 망목특성인 경우\n",
    "- 만약 n개의 데이터 $y_1, \\dots y_n$이 얻어졌다면, $\\sigma^2$의 추정치\n",
    "\n",
    "    $$\\hat{\\sigma^2}=V=\\sum^n_i(y_i-\\bar{y})^2/(n-1)$$이 되고, $\\mu^2$의 추정치는 $S=(y_1 + \\dots+y_n)^2/n$으로 놓는 경우 \n",
    "    \n",
    "    $E(S_n)=\\sigma^2+n\\mu^2$로부터 $\\hat{\\mu}^2=\\frac{1}{n}(S_n-V)$이므로\n",
    "    \n",
    "    $$SN비 = \\frac{\\frac{1}{n}(S_n -V)}{V}$$를 얻음\n",
    "    \n",
    "    <br>\n",
    "    \n",
    "    <hr>\n",
    "    \n",
    "    #### 실제 사용되는 SN비는 로그를 취하고 10을 곱하여 데시벨 단위로 표현\n",
    "    \n",
    "    $$SN비 = 10log[\\frac{\\frac{1}{n}(S_n -V)}{V}]$$     $S_n=n(\\bar{y})^2$이므로, \n",
    "    \n",
    "    $$SN비 = 10log[\\frac{(\\bar{y})^2 -\\frac{V}{n}}{V}]$$이며, $n$이 충분히 크다면 [$\\bar{y}^2 >>> \\frac{V}{n}$], $\\frac{V}{n}$가 무시될 수 있을정도로 작아지므로, 표본분산 $V=s^2$($s$는 표본표준편차)로 나타내는 경우에\n",
    "    \n",
    "    $$SN비 = 10log[\\frac{(\\bar{y})^2}{V}]=10log[\\frac{(\\bar{y})^2}{s^2}]=20log[\\frac{(\\bar{y})^2}{s}]$$\n",
    "    \n",
    "    <br>\n",
    "    \n",
    "    **이 값은 크면 클수록 신호의 힘이 크고, 잡믐의 힘이 작아지는 것으로, SN값이 가장 크게 하는 조건이 곧 최적 조건**"
   ]
  },
  {
   "cell_type": "markdown",
   "id": "7c47c7fb",
   "metadata": {},
   "source": [
    "<br>\n",
    "\n",
    "### 망소특성인 경우\n",
    "\n",
    "$$SN비 = -10log[\\frac{1}{n}\\sum^n_i {y^2}]$$\n",
    "\n",
    "<br>\n",
    "\n",
    "### 망대특성인 경우\n",
    "\n",
    "$$SN비 = -10log[\\frac{1}{n}\\sum^n_i \\frac{1}{y^2}]$$"
   ]
  },
  {
   "cell_type": "markdown",
   "id": "cc5a0420",
   "metadata": {},
   "source": [
    "<br>\n",
    "\n",
    "## 09.07. 파라미터 설계\n",
    "- 각종 잡음의 영향하에서도 최적의 상태가 될 수 있도록 제어 가능한 인자의 최적조건을 탐색\n",
    "\n",
    "<br>\n",
    "\n",
    "### 주요 착안점\n",
    "- 산포의 감소\n",
    "- 평균치가 목표에 근접하도록\n",
    "- 비용의 최소화\n",
    "- 재현성 확인\n",
    "\n",
    "<br>\n",
    "\n",
    "### 설계 방법\n",
    "1. 망소특성 / 망태특성\n",
    "- 제어인자 및 비제어인자(소음)의 조합으로 이루어진 실험 실시 \n",
    "    \n",
    "    (제어인자를 내측에 배치, 비제어인자를 외측에 배치)\n",
    "    \n",
    "- 망소특성 또는 망대특성인 경우 해당 SN비 계산\n",
    "- SN비에 대한 분산분석으로 SN비에 영향을 미치는 제어인자 도출\n",
    "- 찾은 인자들의 최적수준 결정 (경제성, 작업성 고려)\n",
    "- 최적수준 조합에서 재현성 확인\n",
    "\n",
    "<br>\n",
    "\n",
    "2. 망목특성\n",
    "- 제어인자 및 비제어인자(소음)의 조합으로 이루어진 실험 실시 \n",
    "- 해당 SN비와 $S_n$의 계산\n",
    "- SN비에 대한 분산분석으로 SN비에 영향을 미치는 제어인자 도출\n",
    "    - 산포제어인자 : SN비에 유의한 영향을 미치는 인자\n",
    "    - 평균조정인자 : $\\bar{y}$에만 유의한 영향을 미치는 인자\n",
    "    - 기타제어인자 : SN비나 $\\bar{y}$에 유의한 영향을 미치지 못하는 인자\n",
    "    \n",
    "        (어떤 인자가 SN비와 $\\bar{y}$에 동시에 영향을 준다면 산포제어인자로 분류)\n",
    "- 찾은 인자들의 최적수준 결정 (경제성, 작업성 고려)\n",
    "- 최적수준 조합에서 재현성 확인"
   ]
  },
  {
   "cell_type": "markdown",
   "id": "fd2de66c",
   "metadata": {},
   "source": [
    "<br>\n",
    "\n",
    "### 전기회사 예시 (망소특성 파라미터 설계)\n",
    "- 설계상 제어인자 5가지\n",
    "- 상호작용을 무시한 주효과만 $L_8(2^7)$ 직교배열표 배치 (내측배열)\n",
    "- 잡음을 주는 비제어인자로는 여러 요인이 존재하지만, 이를 묶어 $N_0, N_1$로 분류 (=잡음인자 N), 반복은 3회 실시 (외측배열)"
   ]
  },
  {
   "attachments": {
    "KakaoTalk_20231030_023231691.jpg": {
     "image/jpeg": "[encoded data removed]"
    }
   },
   "cell_type": "markdown",
   "id": "324ffbb8",
   "metadata": {},
   "source": [
    "![KakaoTalk_20231030_023231691.jpg](attachment:KakaoTalk_20231030_023231691.jpg)"
   ]
  },
  {
   "cell_type": "code",
   "execution_count": 28,
   "id": "18192f2b",
   "metadata": {},
   "outputs": [],
   "source": [
    "sn <- c(-22.27, -22.1, -21.87, -21.88, -23.08, -23.05, -21.86, -20.54)\n",
    "A <- c(0, 0, 0, 0, 1, 1, 1, 1) %>% factor\n",
    "B <- c(0, 0, 1, 1, 0, 0, 1, 1) %>% factor\n",
    "C <- c(0, 0, 1, 1, 1, 1, 0, 0) %>% factor\n",
    "D <- c(0, 1, 0, 1, 0, 1, 0, 1) %>% factor\n",
    "F <- c(0, 1, 0, 1, 1, 0, 1, 0) %>% factor\n",
    "e1 <- c(0, 1, 1, 0, 0, 1, 1, 0) %>% factor\n",
    "e2 <- c(0, 1, 1, 0, 1, 0, 0, 1) %>% factor\n",
    "\n",
    "dat = tibble(sn, A, B, C, D, F, e1, e2)"
   ]
  },
  {
   "cell_type": "markdown",
   "id": "27851d0e",
   "metadata": {},
   "source": [
    "- 변동이 작은 2개 인자 A, F를 풀링"
   ]
  },
  {
   "cell_type": "code",
   "execution_count": 25,
   "id": "6cbd4bc5",
   "metadata": {},
   "outputs": [
    {
     "data": {
      "text/html": [
       "<table class=\"dataframe\">\n",
       "<caption>A tibble: 6 × 6</caption>\n",
       "<thead>\n",
       "\t<tr><th scope=col>term</th><th scope=col>df</th><th scope=col>sumsq</th><th scope=col>meansq</th><th scope=col>statistic</th><th scope=col>p.value</th></tr>\n",
       "\t<tr><th scope=col>&lt;chr&gt;</th><th scope=col>&lt;dbl&gt;</th><th scope=col>&lt;dbl&gt;</th><th scope=col>&lt;dbl&gt;</th><th scope=col>&lt;dbl&gt;</th><th scope=col>&lt;dbl&gt;</th></tr>\n",
       "</thead>\n",
       "<tbody>\n",
       "\t<tr><td>A        </td><td>1</td><td>0.0210125</td><td>0.0210125</td><td> 0.09908635</td><td>0.78273400</td></tr>\n",
       "\t<tr><td>B        </td><td>1</td><td>2.3653125</td><td>2.3653125</td><td>11.15384615</td><td>0.07915625</td></tr>\n",
       "\t<tr><td>C        </td><td>1</td><td>1.2090125</td><td>1.2090125</td><td> 5.70120837</td><td>0.13959283</td></tr>\n",
       "\t<tr><td>D        </td><td>1</td><td>0.2850125</td><td>0.2850125</td><td> 1.34400236</td><td>0.36603289</td></tr>\n",
       "\t<tr><td>F        </td><td>1</td><td>0.1770125</td><td>0.1770125</td><td> 0.83471854</td><td>0.45735593</td></tr>\n",
       "\t<tr><td>Residuals</td><td>2</td><td>0.4241250</td><td>0.2120625</td><td>         NA</td><td>        NA</td></tr>\n",
       "</tbody>\n",
       "</table>\n"
      ],
      "text/latex": [
       "A tibble: 6 × 6\n",
       "\\begin{tabular}{llllll}\n",
       " term & df & sumsq & meansq & statistic & p.value\\\\\n",
       " <chr> & <dbl> & <dbl> & <dbl> & <dbl> & <dbl>\\\\\n",
       "\\hline\n",
       "\t A         & 1 & 0.0210125 & 0.0210125 &  0.09908635 & 0.78273400\\\\\n",
       "\t B         & 1 & 2.3653125 & 2.3653125 & 11.15384615 & 0.07915625\\\\\n",
       "\t C         & 1 & 1.2090125 & 1.2090125 &  5.70120837 & 0.13959283\\\\\n",
       "\t D         & 1 & 0.2850125 & 0.2850125 &  1.34400236 & 0.36603289\\\\\n",
       "\t F         & 1 & 0.1770125 & 0.1770125 &  0.83471854 & 0.45735593\\\\\n",
       "\t Residuals & 2 & 0.4241250 & 0.2120625 &          NA &         NA\\\\\n",
       "\\end{tabular}\n"
      ],
      "text/markdown": [
       "\n",
       "A tibble: 6 × 6\n",
       "\n",
       "| term &lt;chr&gt; | df &lt;dbl&gt; | sumsq &lt;dbl&gt; | meansq &lt;dbl&gt; | statistic &lt;dbl&gt; | p.value &lt;dbl&gt; |\n",
       "|---|---|---|---|---|---|\n",
       "| A         | 1 | 0.0210125 | 0.0210125 |  0.09908635 | 0.78273400 |\n",
       "| B         | 1 | 2.3653125 | 2.3653125 | 11.15384615 | 0.07915625 |\n",
       "| C         | 1 | 1.2090125 | 1.2090125 |  5.70120837 | 0.13959283 |\n",
       "| D         | 1 | 0.2850125 | 0.2850125 |  1.34400236 | 0.36603289 |\n",
       "| F         | 1 | 0.1770125 | 0.1770125 |  0.83471854 | 0.45735593 |\n",
       "| Residuals | 2 | 0.4241250 | 0.2120625 |          NA |         NA |\n",
       "\n"
      ],
      "text/plain": [
       "  term      df sumsq     meansq    statistic   p.value   \n",
       "1 A         1  0.0210125 0.0210125  0.09908635 0.78273400\n",
       "2 B         1  2.3653125 2.3653125 11.15384615 0.07915625\n",
       "3 C         1  1.2090125 1.2090125  5.70120837 0.13959283\n",
       "4 D         1  0.2850125 0.2850125  1.34400236 0.36603289\n",
       "5 F         1  0.1770125 0.1770125  0.83471854 0.45735593\n",
       "6 Residuals 2  0.4241250 0.2120625          NA         NA"
      ]
     },
     "metadata": {},
     "output_type": "display_data"
    }
   ],
   "source": [
    "model1 <- aov(sn ~ A+B+C+D+F, dat)\n",
    "tidy(model1)"
   ]
  },
  {
   "cell_type": "markdown",
   "id": "3149b623",
   "metadata": {},
   "source": [
    "- B인자는 매우 유의하고, C인자 또한 유의, D인자는 유의하지 않음"
   ]
  },
  {
   "cell_type": "code",
   "execution_count": 20,
   "id": "a657e562",
   "metadata": {},
   "outputs": [
    {
     "data": {
      "text/html": [
       "<table class=\"dataframe\">\n",
       "<caption>A tibble: 4 × 6</caption>\n",
       "<thead>\n",
       "\t<tr><th scope=col>term</th><th scope=col>df</th><th scope=col>sumsq</th><th scope=col>meansq</th><th scope=col>statistic</th><th scope=col>p.value</th></tr>\n",
       "\t<tr><th scope=col>&lt;chr&gt;</th><th scope=col>&lt;dbl&gt;</th><th scope=col>&lt;dbl&gt;</th><th scope=col>&lt;dbl&gt;</th><th scope=col>&lt;dbl&gt;</th><th scope=col>&lt;dbl&gt;</th></tr>\n",
       "</thead>\n",
       "<tbody>\n",
       "\t<tr><td>B        </td><td>1</td><td>2.3653125</td><td>2.3653125</td><td>15.207345</td><td>0.01754652</td></tr>\n",
       "\t<tr><td>C        </td><td>1</td><td>1.2090125</td><td>1.2090125</td><td> 7.773125</td><td>0.04941122</td></tr>\n",
       "\t<tr><td>D        </td><td>1</td><td>0.2850125</td><td>0.2850125</td><td> 1.832436</td><td>0.24727510</td></tr>\n",
       "\t<tr><td>Residuals</td><td>4</td><td>0.6221500</td><td>0.1555375</td><td>       NA</td><td>        NA</td></tr>\n",
       "</tbody>\n",
       "</table>\n"
      ],
      "text/latex": [
       "A tibble: 4 × 6\n",
       "\\begin{tabular}{llllll}\n",
       " term & df & sumsq & meansq & statistic & p.value\\\\\n",
       " <chr> & <dbl> & <dbl> & <dbl> & <dbl> & <dbl>\\\\\n",
       "\\hline\n",
       "\t B         & 1 & 2.3653125 & 2.3653125 & 15.207345 & 0.01754652\\\\\n",
       "\t C         & 1 & 1.2090125 & 1.2090125 &  7.773125 & 0.04941122\\\\\n",
       "\t D         & 1 & 0.2850125 & 0.2850125 &  1.832436 & 0.24727510\\\\\n",
       "\t Residuals & 4 & 0.6221500 & 0.1555375 &        NA &         NA\\\\\n",
       "\\end{tabular}\n"
      ],
      "text/markdown": [
       "\n",
       "A tibble: 4 × 6\n",
       "\n",
       "| term &lt;chr&gt; | df &lt;dbl&gt; | sumsq &lt;dbl&gt; | meansq &lt;dbl&gt; | statistic &lt;dbl&gt; | p.value &lt;dbl&gt; |\n",
       "|---|---|---|---|---|---|\n",
       "| B         | 1 | 2.3653125 | 2.3653125 | 15.207345 | 0.01754652 |\n",
       "| C         | 1 | 1.2090125 | 1.2090125 |  7.773125 | 0.04941122 |\n",
       "| D         | 1 | 0.2850125 | 0.2850125 |  1.832436 | 0.24727510 |\n",
       "| Residuals | 4 | 0.6221500 | 0.1555375 |        NA |         NA |\n",
       "\n"
      ],
      "text/plain": [
       "  term      df sumsq     meansq    statistic p.value   \n",
       "1 B         1  2.3653125 2.3653125 15.207345 0.01754652\n",
       "2 C         1  1.2090125 1.2090125  7.773125 0.04941122\n",
       "3 D         1  0.2850125 0.2850125  1.832436 0.24727510\n",
       "4 Residuals 4  0.6221500 0.1555375        NA         NA"
      ]
     },
     "metadata": {},
     "output_type": "display_data"
    }
   ],
   "source": [
    "model2 <- aov(sn ~ B+C+D, dat)\n",
    "tidy(model2)"
   ]
  },
  {
   "cell_type": "markdown",
   "id": "7c7ec606",
   "metadata": {},
   "source": [
    "<br>\n",
    "\n",
    "- 유의한 인자 B, C의 최적수준조합 $B_0, C_1$에서 SN비의 점추정값 : $-23.065$"
   ]
  },
  {
   "cell_type": "code",
   "execution_count": 33,
   "id": "435bb6f1",
   "metadata": {},
   "outputs": [
    {
     "name": "stderr",
     "output_type": "stream",
     "text": [
      "\u001b[1m\u001b[22m`summarise()` has grouped output by 'B'. You can override using the `.groups` argument.\n"
     ]
    },
    {
     "data": {
      "text/html": [
       "<table class=\"dataframe\">\n",
       "<caption>A grouped_df: 4 × 3</caption>\n",
       "<thead>\n",
       "\t<tr><th scope=col>B</th><th scope=col>C</th><th scope=col>mean(sn)</th></tr>\n",
       "\t<tr><th scope=col>&lt;fct&gt;</th><th scope=col>&lt;fct&gt;</th><th scope=col>&lt;dbl&gt;</th></tr>\n",
       "</thead>\n",
       "<tbody>\n",
       "\t<tr><td>0</td><td>0</td><td>-22.185</td></tr>\n",
       "\t<tr><td>0</td><td>1</td><td>-23.065</td></tr>\n",
       "\t<tr><td>1</td><td>0</td><td>-21.200</td></tr>\n",
       "\t<tr><td>1</td><td>1</td><td>-21.875</td></tr>\n",
       "</tbody>\n",
       "</table>\n"
      ],
      "text/latex": [
       "A grouped\\_df: 4 × 3\n",
       "\\begin{tabular}{lll}\n",
       " B & C & mean(sn)\\\\\n",
       " <fct> & <fct> & <dbl>\\\\\n",
       "\\hline\n",
       "\t 0 & 0 & -22.185\\\\\n",
       "\t 0 & 1 & -23.065\\\\\n",
       "\t 1 & 0 & -21.200\\\\\n",
       "\t 1 & 1 & -21.875\\\\\n",
       "\\end{tabular}\n"
      ],
      "text/markdown": [
       "\n",
       "A grouped_df: 4 × 3\n",
       "\n",
       "| B &lt;fct&gt; | C &lt;fct&gt; | mean(sn) &lt;dbl&gt; |\n",
       "|---|---|---|\n",
       "| 0 | 0 | -22.185 |\n",
       "| 0 | 1 | -23.065 |\n",
       "| 1 | 0 | -21.200 |\n",
       "| 1 | 1 | -21.875 |\n",
       "\n"
      ],
      "text/plain": [
       "  B C mean(sn)\n",
       "1 0 0 -22.185 \n",
       "2 0 1 -23.065 \n",
       "3 1 0 -21.200 \n",
       "4 1 1 -21.875 "
      ]
     },
     "metadata": {},
     "output_type": "display_data"
    }
   ],
   "source": [
    "dat %>% group_by(B, C) %>% summarise(mean(sn))"
   ]
  }
 ],
 "metadata": {
  "kernelspec": {
   "display_name": "R",
   "language": "R",
   "name": "ir"
  },
  "language_info": {
   "codemirror_mode": "r",
   "file_extension": ".r",
   "mimetype": "text/x-r-source",
   "name": "R",
   "pygments_lexer": "r",
   "version": "4.2.2"
  }
 },
 "nbformat": 4,
 "nbformat_minor": 5
}
