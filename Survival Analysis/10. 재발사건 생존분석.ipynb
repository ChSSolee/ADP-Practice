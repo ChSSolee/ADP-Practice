{
 "cells": [
  {
   "cell_type": "markdown",
   "id": "3f6d0d51",
   "metadata": {},
   "source": [
    "# 10. 재발사건 생존분석\n",
    "#### 재발사건 : 추적기간동안 동일한 유형의 사건이 한 번 이상 발생\n",
    "#### 재바살사건 생존분석 (recurrent event survival analysis) : 관련있는 변수들과 재발사건 발생률의 관계를 연구"
   ]
  },
  {
   "cell_type": "code",
   "execution_count": 2,
   "id": "008d5e56",
   "metadata": {},
   "outputs": [],
   "source": [
    "library(tidyverse)\n",
    "library(autoReg)\n",
    "library(survival)"
   ]
  },
  {
   "cell_type": "markdown",
   "id": "32a5bdfe",
   "metadata": {},
   "source": [
    "# \n",
    "### 10-1 계수과정접근 (counting process, CP) \n",
    "#### 각 재발사건들이 동일하다고 가정하고 분석\n",
    "\n",
    "# \n",
    "#### 표1 : 2개의 치료법에 대한, 가상의 환자 2명\n",
    "- A는 치료 1을 받고, 3개월, 9개월, 21개월에 암이 재발. 23개월에는 재발 X. 23개월 이후에는 추적 X\n",
    "- B는 치료 0을 받고, 3개월, 15개월, 25개월에 재발하였고, 25개월에 추적탈락\n",
    "# \n",
    "\n",
    "| 환자 | Time interval | Event Indicator | Treatment Group |\n",
    "| - | - | - | - |\n",
    "| A | 0 to 3 | 1 | 1| \n",
    "| | 3 to 9 | 1 | 1 | \n",
    "| | 9 to 21 | 1 | 1|\n",
    "| | 21 to 23 | 0 | 1 |\n",
    "| B | 0 to 3 | 1 | 0 |\n",
    "| | 3 to 15 | 1 | 0 |\n",
    "| | 15 to 25 | 1 | 0 |\n",
    "\n",
    "# \n",
    "#### 표2 : 환자 위주의 데이터 형식 \n",
    "# \n",
    "\n",
    "| | A | B |\n",
    "| - | - | - |\n",
    "| 재발사건 수 | 3 | 3 |\n",
    "| 추적기간 | 23개월 | 25개월 |\n",
    "| 추적시작부터 재발까지 시간 | 3, 9, 21 | 3, 15, 25 |\n",
    "| 마지막 재발 후 추적기간 | 2개월 | 0개월 |\n",
    "\n",
    "# \n",
    "#### 표3 : 통계처리를 위한 데이터 형식\n",
    "# \n",
    "\n",
    "| subject | interval Number | Time Start | Time Stop | Event status | Treatment Group |\n",
    "| - | - | - | - | - | - |\n",
    "| A | 1 | 0 | 3 | 1 | 1 |\n",
    "| A | 2 | 3 | 9 | 1 | 1 |\n",
    "| A | 3 | 9 | 23 | 1 | 1 |\n",
    "| A | 4 | 21 | 23 | 0 | 1 |\n",
    "| B | 1 | 0 | 3 | 1 | 0 |\n",
    "| B | 2 | 3 | 5 | 1 | 0 |\n",
    "| B | 3 | 15 | 25 | 1 | 0 |"
   ]
  },
  {
   "cell_type": "markdown",
   "id": "da27e44b",
   "metadata": {},
   "source": [
    "# \n",
    "# \n",
    "### 10-2 계수과정모형과 방법\n",
    "- 계수과정접근으로 하는 생존분석은 표준적인 콕스비례위험모형이므로, 보통의 비례위험모형과 마찬가지로 **비례위험 가정에 합당한지 평가가 필요**\n",
    "- **비례위험 가정에 합당하지 않은 경우, 층화된 콕스모형을 사용하거나, 시간 의존 공변량이 있는 경우에는 확장된 콕스모형의 사용을 고려**\n",
    "\n",
    "# \n",
    "#### 재발사건을 다루지 않는 콕스모형과의 차이\n",
    "| 재발사건 데이터 | 재발사건이 없는 데이터 |\n",
    "| - | - |\n",
    "| 1개 이상의 재발사건을 갖는 대상환자는 마지막 재발 사건이 끝날 때까지 위험대상에서 제거되지 않음 | 실패나 중도절단된 대상환자는 위험대상에서 제외 |\n",
    "| 데이터의 각 행은 같은 환자의 자료라도 서로 독립적인 것으로 취급 | 데이터의 각 행은 서로 다른 환자의 자료이므로, 서로 독립적 |"
   ]
  },
  {
   "cell_type": "markdown",
   "id": "2544193b",
   "metadata": {},
   "source": [
    "# \n",
    "#### 실패시간 순서에 따른 위험대상\n",
    "- 위험대상환자 $n_1 = 20$\n",
    "- 첫 달에 17번 환자가 재발 (failed)\n",
    "- 1번 환자는 중도탈락(censored)\n",
    "- **1번 환자는 이후 기록이 없으므로, 두 번째 달의 위험대상환자에서 제외됬으나, 17번 환자는 두 번째 재발사건의 기록이 있으므로, 제외되지 않음 => $n_2 = 19$**\n",
    "# \n",
    "\n",
    "\n",
    "| Ordered failure time ($t_f$)  | at risk ($n_f$) | failed  ($m_f$) | Censored in $[t_f, t_{f+1}]$ ($q_f$) | Subject ID's for outcomes in $[t_f, t_{f+1}]$ (id) | \n",
    "| - | - | - | - | - | \n",
    "| 1 | 20 | 1 | 1 | 1, 17 | \n",
    "| 2 | 19 | 1 | 0 | 18 | \n",
    "| 3 | 19 | 3 | 1 | 2, 12, 13, 15 | \n",
    "| 5 | 18 | 1 | 1 | 8 | \n",
    "| 6 | 18 | 1 | 0 | 5 | \n",
    "| 7 | 18| 1 | 1 | 3, 14 | \n",
    "| 9 | 17 | 1 | 0 | 13 | \n",
    "| 10 | 17 | 2 | 0 | 4, 5, 11, 14 | \n",
    "| 12| 15 | 1 | 1 | 6, 9 | \n",
    "| 15 | 14 | 2 | 0 | 11, 15 | \n",
    "| 16 | 14 | 3 | 2 | 7, 8, 9, 12, 14 | \n",
    "| 21 | 11 | 1 | 1 | 13 | \n",
    "| 23 | 11 | 1 | 3 | 10, 11, 12, 13 | \n",
    "| 24 | 7 | 1 | 0 | 14 | \n",
    "| 25 | 6 | 2 | 0 | 15, 19 | \n",
    "| 26 | 5 | 1 | 4 | 16, 17, 18, 19, 20 | "
   ]
  },
  {
   "cell_type": "markdown",
   "id": "63a260d7",
   "metadata": {},
   "source": [
    "# \n",
    "#### 공변량이 $rx, number, size$3개 일 때, 콕스비례위험모형의 위험함수\n",
    "### $h(t, X) = h_0 (t) exp(\\beta_1 rx + \\beta_2 number + \\beta_3 size)$\n",
    "\n",
    "# \n",
    "#### 어떤 대상환자가 10개월째에 추적에서 탈락되었다가, 25개월째에 다시 위험대상에 합류하는 경우 => 10개월부터 25개월까지 단절\n",
    "- 부분가능도함수($L$)는 각각의 실패시간의 가능도의 곱 (**총 16개의 실패시간이 있는 것으로 간주**)\n",
    "\n",
    "### $L = L_1 \\times L_3 \\times ... \\times L_{16}$\n",
    "\n",
    " \n",
    "\n",
    "- **$t_f$ (f번째 실패시간)의 부분가능도 $L_f$는,  $t_f$까지 살아 있다는 조건하에 $t_f$에서 실패할 조건부확률**\n",
    "    - j번째 실패시간에 1명의 대상에서 실패가 일어났다면, $L_f$는 다음과 같이 표현\n",
    "    \n",
    "### $L_f = {{exp(\\beta_1 rx_f + \\beta_2 number_f + \\beta_3 size_f)}\\over{\\sum_{s in R(t_f)} exp(\\beta_1 rx_{s_f} + \\beta_2 number_{s_f} + \\beta_3 size_{s_f})}}$\n",
    "\n",
    "# \n",
    "- $rx_f, number_f, size_f$는 실패시간 $t_f$에서 실패한 대상의 예측변수 값\n",
    "- s는 실패시간 $t_f$에서의 위험대상환자\n",
    "- $rx_f, number_f, size_f$는 그 대상환자들의 예측변수 값"
   ]
  },
  {
   "cell_type": "markdown",
   "id": "872383ed",
   "metadata": {},
   "source": [
    "# \n",
    "#### 예 :\n",
    "- 14번 대상환자는 모두 4번의 재발을 경험\n",
    "- 그 중 4번째인 24개월째에 위험대상환자 $R(= at\\;risk)$은 모두 7명 ($subject\\;s_{14} = \\{14, 15, 16, 17, 18, 19, 20\\}$)\n",
    "- 이 때의 가능도 $L_14$\n",
    "\n",
    "### $L_14 = {{exp(\\beta_1 (1) + \\beta_2(2) + \\beta_3 (3))}\\over{\\sum_{s\\;in\\;R(t_{14})} exp(\\beta_1 rx_{s_{14}} + \\beta_2 number_{s_{14}} + \\beta_3 size_{s_{14}})}}$"
   ]
  },
  {
   "cell_type": "code",
   "execution_count": 18,
   "id": "e5982cd7",
   "metadata": {},
   "outputs": [
    {
     "data": {
      "text/html": [
       "<table class=\"dataframe\">\n",
       "<caption>A data.frame: 4 × 8</caption>\n",
       "<thead>\n",
       "\t<tr><th scope=col>id</th><th scope=col>rx</th><th scope=col>number</th><th scope=col>size</th><th scope=col>start</th><th scope=col>stop</th><th scope=col>event</th><th scope=col>enum</th></tr>\n",
       "\t<tr><th scope=col>&lt;int&gt;</th><th scope=col>&lt;dbl&gt;</th><th scope=col>&lt;int&gt;</th><th scope=col>&lt;int&gt;</th><th scope=col>&lt;int&gt;</th><th scope=col>&lt;int&gt;</th><th scope=col>&lt;dbl&gt;</th><th scope=col>&lt;dbl&gt;</th></tr>\n",
       "</thead>\n",
       "<tbody>\n",
       "\t<tr><td>14</td><td>1</td><td>2</td><td>3</td><td> 0</td><td> 7</td><td>1</td><td>1</td></tr>\n",
       "\t<tr><td>14</td><td>1</td><td>2</td><td>3</td><td> 7</td><td>10</td><td>1</td><td>2</td></tr>\n",
       "\t<tr><td>14</td><td>1</td><td>2</td><td>3</td><td>10</td><td>16</td><td>1</td><td>3</td></tr>\n",
       "\t<tr><td>14</td><td>1</td><td>2</td><td>3</td><td>16</td><td>24</td><td>1</td><td>4</td></tr>\n",
       "</tbody>\n",
       "</table>\n"
      ],
      "text/latex": [
       "A data.frame: 4 × 8\n",
       "\\begin{tabular}{llllllll}\n",
       " id & rx & number & size & start & stop & event & enum\\\\\n",
       " <int> & <dbl> & <int> & <int> & <int> & <int> & <dbl> & <dbl>\\\\\n",
       "\\hline\n",
       "\t 14 & 1 & 2 & 3 &  0 &  7 & 1 & 1\\\\\n",
       "\t 14 & 1 & 2 & 3 &  7 & 10 & 1 & 2\\\\\n",
       "\t 14 & 1 & 2 & 3 & 10 & 16 & 1 & 3\\\\\n",
       "\t 14 & 1 & 2 & 3 & 16 & 24 & 1 & 4\\\\\n",
       "\\end{tabular}\n"
      ],
      "text/markdown": [
       "\n",
       "A data.frame: 4 × 8\n",
       "\n",
       "| id &lt;int&gt; | rx &lt;dbl&gt; | number &lt;int&gt; | size &lt;int&gt; | start &lt;int&gt; | stop &lt;int&gt; | event &lt;dbl&gt; | enum &lt;dbl&gt; |\n",
       "|---|---|---|---|---|---|---|---|\n",
       "| 14 | 1 | 2 | 3 |  0 |  7 | 1 | 1 |\n",
       "| 14 | 1 | 2 | 3 |  7 | 10 | 1 | 2 |\n",
       "| 14 | 1 | 2 | 3 | 10 | 16 | 1 | 3 |\n",
       "| 14 | 1 | 2 | 3 | 16 | 24 | 1 | 4 |\n",
       "\n"
      ],
      "text/plain": [
       "  id rx number size start stop event enum\n",
       "1 14 1  2      3     0     7   1     1   \n",
       "2 14 1  2      3     7    10   1     2   \n",
       "3 14 1  2      3    10    16   1     3   \n",
       "4 14 1  2      3    16    24   1     4   "
      ]
     },
     "metadata": {},
     "output_type": "display_data"
    }
   ],
   "source": [
    "bladder2 %>% filter(id == 14)"
   ]
  },
  {
   "cell_type": "markdown",
   "id": "055ff62f",
   "metadata": {},
   "source": [
    "# \n",
    "# \n",
    "### 10-4 로버스트 추정\n",
    "#### 13번째 환자의 데이터\n",
    "- 13번 환자의 4행 자료들은, 1명의 환자에게 기록된 자료이지만, **콕스모형에서 분석할 때는 모두 돌깁된 사건으로 취급**\n",
    "- **같은 대상환자에게서 나온 연관성 높은 자료들을 보정하기 위해 사용되는 방법 : 로버스트 추정 (robust estimation, 경험적 추정)**"
   ]
  },
  {
   "cell_type": "code",
   "execution_count": 17,
   "id": "6ef2ab02",
   "metadata": {},
   "outputs": [
    {
     "data": {
      "text/html": [
       "<table class=\"dataframe\">\n",
       "<caption>A data.frame: 4 × 8</caption>\n",
       "<thead>\n",
       "\t<tr><th scope=col>id</th><th scope=col>rx</th><th scope=col>number</th><th scope=col>size</th><th scope=col>start</th><th scope=col>stop</th><th scope=col>event</th><th scope=col>enum</th></tr>\n",
       "\t<tr><th scope=col>&lt;int&gt;</th><th scope=col>&lt;dbl&gt;</th><th scope=col>&lt;int&gt;</th><th scope=col>&lt;int&gt;</th><th scope=col>&lt;int&gt;</th><th scope=col>&lt;int&gt;</th><th scope=col>&lt;dbl&gt;</th><th scope=col>&lt;dbl&gt;</th></tr>\n",
       "</thead>\n",
       "<tbody>\n",
       "\t<tr><td>13</td><td>1</td><td>3</td><td>1</td><td> 0</td><td> 3</td><td>1</td><td>1</td></tr>\n",
       "\t<tr><td>13</td><td>1</td><td>3</td><td>1</td><td> 3</td><td> 9</td><td>1</td><td>2</td></tr>\n",
       "\t<tr><td>13</td><td>1</td><td>3</td><td>1</td><td> 9</td><td>21</td><td>1</td><td>3</td></tr>\n",
       "\t<tr><td>13</td><td>1</td><td>3</td><td>1</td><td>21</td><td>23</td><td>0</td><td>4</td></tr>\n",
       "</tbody>\n",
       "</table>\n"
      ],
      "text/latex": [
       "A data.frame: 4 × 8\n",
       "\\begin{tabular}{llllllll}\n",
       " id & rx & number & size & start & stop & event & enum\\\\\n",
       " <int> & <dbl> & <int> & <int> & <int> & <int> & <dbl> & <dbl>\\\\\n",
       "\\hline\n",
       "\t 13 & 1 & 3 & 1 &  0 &  3 & 1 & 1\\\\\n",
       "\t 13 & 1 & 3 & 1 &  3 &  9 & 1 & 2\\\\\n",
       "\t 13 & 1 & 3 & 1 &  9 & 21 & 1 & 3\\\\\n",
       "\t 13 & 1 & 3 & 1 & 21 & 23 & 0 & 4\\\\\n",
       "\\end{tabular}\n"
      ],
      "text/markdown": [
       "\n",
       "A data.frame: 4 × 8\n",
       "\n",
       "| id &lt;int&gt; | rx &lt;dbl&gt; | number &lt;int&gt; | size &lt;int&gt; | start &lt;int&gt; | stop &lt;int&gt; | event &lt;dbl&gt; | enum &lt;dbl&gt; |\n",
       "|---|---|---|---|---|---|---|---|\n",
       "| 13 | 1 | 3 | 1 |  0 |  3 | 1 | 1 |\n",
       "| 13 | 1 | 3 | 1 |  3 |  9 | 1 | 2 |\n",
       "| 13 | 1 | 3 | 1 |  9 | 21 | 1 | 3 |\n",
       "| 13 | 1 | 3 | 1 | 21 | 23 | 0 | 4 |\n",
       "\n"
      ],
      "text/plain": [
       "  id rx number size start stop event enum\n",
       "1 13 1  3      1     0     3   1     1   \n",
       "2 13 1  3      1     3     9   1     2   \n",
       "3 13 1  3      1     9    21   1     3   \n",
       "4 13 1  3      1    21    23   0     4   "
      ]
     },
     "metadata": {},
     "output_type": "display_data"
    }
   ],
   "source": [
    "bladder2 %>% filter(id == 13)"
   ]
  },
  {
   "cell_type": "markdown",
   "id": "c60a68ee",
   "metadata": {},
   "source": [
    "# \n",
    "#### 로버스트추정은 적합된 모형의 회귀계수 추정분산을 보정\n",
    "- **모형의 회귀계수는 보정하지 않으며, 추정된 분산만을 보정** \n",
    "- 같은 환자로부터 나온 연관 데이터로 만든 모형의 가설검정과 신뢰구간 추정이 가능\n",
    "- **재발사건의 회귀계수 분산을 로버스트 방식으로 추정하려면, 적합된 콕스모형의 최대가능도 추정으로 얻은 분산과 공분산의 정보행렬의 행렬식으로 계산**\n",
    "\n",
    "### $\\hat{R}(\\hat{\\beta}) = \\hat{Var}(\\hat{\\beta}) [\\hat{R_s '}\\hat{R_s}]\\hat{Var}(\\hat{\\beta})$\n",
    "\n",
    "($\\hat{Var}(\\hat{\\beta})$ = 정보행렬, $\\hat{R}_s$ = 스코어잔차 행렬)"
   ]
  },
  {
   "cell_type": "markdown",
   "id": "1d1dca41",
   "metadata": {},
   "source": [
    "# \n",
    "# \n",
    "### 10-5 계수과정접근법의 결과"
   ]
  },
  {
   "cell_type": "code",
   "execution_count": 13,
   "id": "9dae9e7f",
   "metadata": {},
   "outputs": [
    {
     "data": {
      "text/plain": [
       "Call:\n",
       "coxph(formula = Surv(start, stop, event) ~ rx + number + size, \n",
       "    data = bladder2)\n",
       "\n",
       "  n= 178, number of events= 112 \n",
       "\n",
       "           coef exp(coef) se(coef)      z Pr(>|z|)    \n",
       "rx     -0.46469   0.62833  0.19973 -2.327 0.019989 *  \n",
       "number  0.17496   1.19120  0.04707  3.717 0.000202 ***\n",
       "size   -0.04366   0.95728  0.06905 -0.632 0.527196    \n",
       "---\n",
       "Signif. codes:  0 '***' 0.001 '**' 0.01 '*' 0.05 '.' 0.1 ' ' 1\n",
       "\n",
       "       exp(coef) exp(-coef) lower .95 upper .95\n",
       "rx        0.6283     1.5915    0.4248    0.9294\n",
       "number    1.1912     0.8395    1.0862    1.3063\n",
       "size      0.9573     1.0446    0.8361    1.0960\n",
       "\n",
       "Concordance= 0.634  (se = 0.032 )\n",
       "Likelihood ratio test= 17.52  on 3 df,   p=6e-04\n",
       "Wald test            = 19.11  on 3 df,   p=3e-04\n",
       "Score (logrank) test = 19.52  on 3 df,   p=2e-04\n"
      ]
     },
     "metadata": {},
     "output_type": "display_data"
    }
   ],
   "source": [
    "fit = coxph(Surv(start, stop, event) ~ rx + number + size, bladder2)\n",
    "summary(fit)"
   ]
  },
  {
   "cell_type": "markdown",
   "id": "c8abb40c",
   "metadata": {},
   "source": [
    "# \n",
    "#### ```cluster()``` : 로버스트 추정\n",
    "- ```rx```에 대한 회귀계수 : -0.46469 / 표준오차 : 0.19973\n",
    "- 로버스트 표준오차 : 0.26556"
   ]
  },
  {
   "cell_type": "code",
   "execution_count": 21,
   "id": "e4386994",
   "metadata": {},
   "outputs": [
    {
     "data": {
      "text/plain": [
       "Call:\n",
       "coxph(formula = Surv(start, stop, event) ~ rx + number + size, \n",
       "    data = bladder2, cluster = id)\n",
       "\n",
       "  n= 178, number of events= 112 \n",
       "\n",
       "           coef exp(coef) se(coef) robust se      z Pr(>|z|)   \n",
       "rx     -0.46469   0.62833  0.19973   0.26556 -1.750  0.08015 . \n",
       "number  0.17496   1.19120  0.04707   0.06304  2.775  0.00551 **\n",
       "size   -0.04366   0.95728  0.06905   0.07762 -0.563  0.57376   \n",
       "---\n",
       "Signif. codes:  0 '***' 0.001 '**' 0.01 '*' 0.05 '.' 0.1 ' ' 1\n",
       "\n",
       "       exp(coef) exp(-coef) lower .95 upper .95\n",
       "rx        0.6283     1.5915    0.3734     1.057\n",
       "number    1.1912     0.8395    1.0527     1.348\n",
       "size      0.9573     1.0446    0.8222     1.115\n",
       "\n",
       "Concordance= 0.634  (se = 0.032 )\n",
       "Likelihood ratio test= 17.52  on 3 df,   p=6e-04\n",
       "Wald test            = 11.54  on 3 df,   p=0.009\n",
       "Score (logrank) test = 19.52  on 3 df,   p=2e-04,   Robust = 11.27  p=0.01\n",
       "\n",
       "  (Note: the likelihood ratio and score tests assume independence of\n",
       "     observations within a cluster, the Wald and robust score tests do not)."
      ]
     },
     "metadata": {},
     "output_type": "display_data"
    }
   ],
   "source": [
    "fit1 = coxph(Surv(start, stop, event) ~ rx + number + size + cluster(id), bladder2)\n",
    "summary(fit1)"
   ]
  },
  {
   "cell_type": "markdown",
   "id": "e47d6607",
   "metadata": {},
   "source": [
    "- Wald 검정을 위한 z통계량은 회귀계수를 로버스트 표준오차로 나눔"
   ]
  },
  {
   "cell_type": "code",
   "execution_count": 22,
   "id": "d35961ec",
   "metadata": {},
   "outputs": [
    {
     "data": {
      "text/html": [
       "-1.74984937490586"
      ],
      "text/latex": [
       "-1.74984937490586"
      ],
      "text/markdown": [
       "-1.74984937490586"
      ],
      "text/plain": [
       "[1] -1.749849"
      ]
     },
     "metadata": {},
     "output_type": "display_data"
    }
   ],
   "source": [
    "-0.46469 / 0.26556"
   ]
  },
  {
   "cell_type": "code",
   "execution_count": 33,
   "id": "739f34ad",
   "metadata": {},
   "outputs": [
    {
     "data": {
      "image/png": "[encoded data removed]",
      "text/plain": [
       "plot without title"
      ]
     },
     "metadata": {
      "image/png": {
       "height": 420,
       "width": 420
      }
     },
     "output_type": "display_data"
    }
   ],
   "source": [
    "interpretCI::draw_n(z = -1.749849)"
   ]
  },
  {
   "cell_type": "code",
   "execution_count": 35,
   "id": "3ffe3476",
   "metadata": {},
   "outputs": [
    {
     "data": {
      "text/html": [
       "0.08014437292074"
      ],
      "text/latex": [
       "0.08014437292074"
      ],
      "text/markdown": [
       "0.08014437292074"
      ],
      "text/plain": [
       "[1] 0.08014437"
      ]
     },
     "metadata": {},
     "output_type": "display_data"
    }
   ],
   "source": [
    "pnorm(-abs(-1.749849))*2"
   ]
  },
  {
   "cell_type": "markdown",
   "id": "252bb515",
   "metadata": {},
   "source": [
    "- ```rx```에 대한 위험비(hazard ratio)는 회귀계수로부터 구함\n",
    "\n",
    "#### $HR = exp(-0.46469) = 0.62833$ => 38%의 위험을 감소"
   ]
  },
  {
   "cell_type": "code",
   "execution_count": 37,
   "id": "a7d5428d",
   "metadata": {},
   "outputs": [
    {
     "data": {
      "text/plain": [
       "a flextable object.\n",
       "col_keys: ` `, `coef`, `se(coef)`, `robust se`, `z`, `Pr(>|z|)`, `HR`, `lower`, `upper` \n",
       "header has 1 row(s) \n",
       "body has 3 row(s) \n",
       "original dataset sample: \n",
       "—————————————————————————————————————————————————————————————————————————————\n",
       "            coef  se(coef)  robust se        z  Pr(>|z|)     HR  lower  upper \n",
       "—————————————————————————————————————————————————————————————————————————————\n",
       "rx        -0.465     0.200      0.266  <-1.751     0.080  0.628  0.373  1.057 \n",
       "number     0.175     0.047      0.063    2.775     0.006  1.191  1.053  1.348 \n",
       "size      -0.044     0.069      0.078  <-0.563     0.574  0.957  0.822  1.115 \n",
       "—————————————————————————————————————————————————————————————————————————————\n",
       "n=178, events=112, Likelihood ratio test=17.52 on 3 df (p<.001) "
      ]
     },
     "metadata": {},
     "output_type": "display_data"
    }
   ],
   "source": [
    "gaze(fit1) %>% myft()"
   ]
  },
  {
   "cell_type": "code",
   "execution_count": 38,
   "id": "7e2ed20e",
   "metadata": {},
   "outputs": [
    {
     "data": {
      "image/png": "[encoded data removed]",
      "text/plain": [
       "plot without title"
      ]
     },
     "metadata": {
      "image/png": {
       "height": 420,
       "width": 420
      }
     },
     "output_type": "display_data"
    }
   ],
   "source": [
    "adjustedPlot(fit1, xnames = \"rx\")"
   ]
  },
  {
   "cell_type": "markdown",
   "id": "7d06ebfc",
   "metadata": {},
   "source": [
    "# \n",
    "# \n",
    "### 10-6 층화된 콕스모형 접근\n",
    "#### 층화된 콕스모형 (Stratified Cox, SC)는 재발사건이 일어난 순서를 구분\n",
    "1. **층화된 계수과정 (Stratified Counting Process)**\n",
    "2. **소요시간 (gap time)**\n",
    "3. **주변 (marginal)**\n",
    "\n",
    "#### 3가지 방법 모두 재발사건의 발생순서 (interval number)를 범주형변수로 바꾸어 층화변수(strata variable)로 사용"
   ]
  },
  {
   "cell_type": "markdown",
   "id": "e0057e26",
   "metadata": {},
   "source": [
    "# \n",
    "#### 자료의 형식 \n",
    "- **층화된 계수과정과 소요시간방법은 모두 재발사건 사이의 생존시간에 초점을 맞춤**\n",
    "    - 층화된 계수과정에서는 연구에 등록된 시간부터 두 재발사건 사이의 실제 시간을 사용\n",
    "- **주변방법에서는 연구등록 시점부터 재발사건까지의 전체 시간을 사용 =>** **각각의 재발사건을 서로 다른 유형의 사건으로 인식**\n",
    "\n",
    "# \n",
    "\n",
    "#### 층화된 계수과정을 위한 데이터 형식\n",
    "- (AG형식 (Anderson & Gill, 1982) : 시간이 start-stop형식으로 되어있음)"
   ]
  },
  {
   "cell_type": "code",
   "execution_count": 40,
   "id": "447bf83f",
   "metadata": {},
   "outputs": [
    {
     "data": {
      "text/html": [
       "<table class=\"dataframe\">\n",
       "<caption>A data.frame: 3 × 8</caption>\n",
       "<thead>\n",
       "\t<tr><th scope=col>id</th><th scope=col>rx</th><th scope=col>number</th><th scope=col>size</th><th scope=col>start</th><th scope=col>stop</th><th scope=col>event</th><th scope=col>enum</th></tr>\n",
       "\t<tr><th scope=col>&lt;int&gt;</th><th scope=col>&lt;dbl&gt;</th><th scope=col>&lt;int&gt;</th><th scope=col>&lt;int&gt;</th><th scope=col>&lt;int&gt;</th><th scope=col>&lt;int&gt;</th><th scope=col>&lt;dbl&gt;</th><th scope=col>&lt;dbl&gt;</th></tr>\n",
       "</thead>\n",
       "<tbody>\n",
       "\t<tr><td>9</td><td>1</td><td>1</td><td>1</td><td> 0</td><td>12</td><td>1</td><td>1</td></tr>\n",
       "\t<tr><td>9</td><td>1</td><td>1</td><td>1</td><td>12</td><td>16</td><td>1</td><td>2</td></tr>\n",
       "\t<tr><td>9</td><td>1</td><td>1</td><td>1</td><td>16</td><td>18</td><td>0</td><td>3</td></tr>\n",
       "</tbody>\n",
       "</table>\n"
      ],
      "text/latex": [
       "A data.frame: 3 × 8\n",
       "\\begin{tabular}{llllllll}\n",
       " id & rx & number & size & start & stop & event & enum\\\\\n",
       " <int> & <dbl> & <int> & <int> & <int> & <int> & <dbl> & <dbl>\\\\\n",
       "\\hline\n",
       "\t 9 & 1 & 1 & 1 &  0 & 12 & 1 & 1\\\\\n",
       "\t 9 & 1 & 1 & 1 & 12 & 16 & 1 & 2\\\\\n",
       "\t 9 & 1 & 1 & 1 & 16 & 18 & 0 & 3\\\\\n",
       "\\end{tabular}\n"
      ],
      "text/markdown": [
       "\n",
       "A data.frame: 3 × 8\n",
       "\n",
       "| id &lt;int&gt; | rx &lt;dbl&gt; | number &lt;int&gt; | size &lt;int&gt; | start &lt;int&gt; | stop &lt;int&gt; | event &lt;dbl&gt; | enum &lt;dbl&gt; |\n",
       "|---|---|---|---|---|---|---|---|\n",
       "| 9 | 1 | 1 | 1 |  0 | 12 | 1 | 1 |\n",
       "| 9 | 1 | 1 | 1 | 12 | 16 | 1 | 2 |\n",
       "| 9 | 1 | 1 | 1 | 16 | 18 | 0 | 3 |\n",
       "\n"
      ],
      "text/plain": [
       "  id rx number size start stop event enum\n",
       "1 9  1  1      1     0    12   1     1   \n",
       "2 9  1  1      1    12    16   1     2   \n",
       "3 9  1  1      1    16    18   0     3   "
      ]
     },
     "metadata": {},
     "output_type": "display_data"
    }
   ],
   "source": [
    "bladder2 %>% filter(id == 9)"
   ]
  },
  {
   "cell_type": "markdown",
   "id": "72488f59",
   "metadata": {},
   "source": [
    "# \n",
    "#### 소요시간 방법을 위한 데이터 형식 : \n",
    "- **start-stop 형식은 같지만, start는 언제나 0, stop은 바로 전 사건부터 현재 사건까지의 소요시간을 사용**"
   ]
  },
  {
   "cell_type": "code",
   "execution_count": 45,
   "id": "95276e6d",
   "metadata": {},
   "outputs": [
    {
     "data": {
      "text/html": [
       "<table class=\"dataframe\">\n",
       "<caption>A data.frame: 3 × 8</caption>\n",
       "<thead>\n",
       "\t<tr><th scope=col>id</th><th scope=col>rx</th><th scope=col>number</th><th scope=col>size</th><th scope=col>start</th><th scope=col>stop</th><th scope=col>event</th><th scope=col>enum</th></tr>\n",
       "\t<tr><th scope=col>&lt;int&gt;</th><th scope=col>&lt;dbl&gt;</th><th scope=col>&lt;int&gt;</th><th scope=col>&lt;int&gt;</th><th scope=col>&lt;dbl&gt;</th><th scope=col>&lt;int&gt;</th><th scope=col>&lt;dbl&gt;</th><th scope=col>&lt;dbl&gt;</th></tr>\n",
       "</thead>\n",
       "<tbody>\n",
       "\t<tr><td>9</td><td>1</td><td>1</td><td>1</td><td>0</td><td>12</td><td>1</td><td>1</td></tr>\n",
       "\t<tr><td>9</td><td>1</td><td>1</td><td>1</td><td>0</td><td> 4</td><td>1</td><td>2</td></tr>\n",
       "\t<tr><td>9</td><td>1</td><td>1</td><td>1</td><td>0</td><td> 2</td><td>0</td><td>3</td></tr>\n",
       "</tbody>\n",
       "</table>\n"
      ],
      "text/latex": [
       "A data.frame: 3 × 8\n",
       "\\begin{tabular}{llllllll}\n",
       " id & rx & number & size & start & stop & event & enum\\\\\n",
       " <int> & <dbl> & <int> & <int> & <dbl> & <int> & <dbl> & <dbl>\\\\\n",
       "\\hline\n",
       "\t 9 & 1 & 1 & 1 & 0 & 12 & 1 & 1\\\\\n",
       "\t 9 & 1 & 1 & 1 & 0 &  4 & 1 & 2\\\\\n",
       "\t 9 & 1 & 1 & 1 & 0 &  2 & 0 & 3\\\\\n",
       "\\end{tabular}\n"
      ],
      "text/markdown": [
       "\n",
       "A data.frame: 3 × 8\n",
       "\n",
       "| id &lt;int&gt; | rx &lt;dbl&gt; | number &lt;int&gt; | size &lt;int&gt; | start &lt;dbl&gt; | stop &lt;int&gt; | event &lt;dbl&gt; | enum &lt;dbl&gt; |\n",
       "|---|---|---|---|---|---|---|---|\n",
       "| 9 | 1 | 1 | 1 | 0 | 12 | 1 | 1 |\n",
       "| 9 | 1 | 1 | 1 | 0 |  4 | 1 | 2 |\n",
       "| 9 | 1 | 1 | 1 | 0 |  2 | 0 | 3 |\n",
       "\n"
      ],
      "text/plain": [
       "  id rx number size start stop event enum\n",
       "1 9  1  1      1    0     12   1     1   \n",
       "2 9  1  1      1    0      4   1     2   \n",
       "3 9  1  1      1    0      2   0     3   "
      ]
     },
     "metadata": {},
     "output_type": "display_data"
    }
   ],
   "source": [
    "bladder2 %>% mutate(stop = stop - start,\n",
    "                               start= 0) %>% filter(id == 9)"
   ]
  },
  {
   "cell_type": "markdown",
   "id": "907a3afc",
   "metadata": {},
   "source": [
    "# \n",
    "#### 주변방법을 위한 데이터 형식\n",
    "- **start시간은 없고, 이벤트가 발생한 시간만 기록**\n",
    "- 주변방법에 사용되는 데이터는 재발사건의 횟수와 관계없이, 각 환자에 대하여 모두 같은 행의 자료를 가짐\n",
    "    - **대상환자중 1명이라도 n회의 재발사건을 가진다면, 모든 환자의 데이터는 n개의 줄로 기록되어야 함**\n",
    "\n",
    "#### (WLW 형식 (Wei, Lin, Weissfelt, 1989)\n",
    "    \n",
    "# \n",
    "*9번째 환자의 재발사건은 3회이지만, 대상환자중 1명이 재발사건이 4회이기에, 4줄로 표현*"
   ]
  },
  {
   "cell_type": "code",
   "execution_count": 50,
   "id": "16be7878",
   "metadata": {},
   "outputs": [
    {
     "data": {
      "text/html": [
       "<table class=\"dataframe\">\n",
       "<caption>A data.frame: 4 × 7</caption>\n",
       "<thead>\n",
       "\t<tr><th scope=col>id</th><th scope=col>rx</th><th scope=col>number</th><th scope=col>size</th><th scope=col>stop</th><th scope=col>event</th><th scope=col>enum</th></tr>\n",
       "\t<tr><th scope=col>&lt;int&gt;</th><th scope=col>&lt;dbl&gt;</th><th scope=col>&lt;int&gt;</th><th scope=col>&lt;int&gt;</th><th scope=col>&lt;int&gt;</th><th scope=col>&lt;dbl&gt;</th><th scope=col>&lt;int&gt;</th></tr>\n",
       "</thead>\n",
       "<tbody>\n",
       "\t<tr><td>9</td><td>1</td><td>1</td><td>1</td><td>12</td><td>1</td><td>1</td></tr>\n",
       "\t<tr><td>9</td><td>1</td><td>1</td><td>1</td><td>16</td><td>1</td><td>2</td></tr>\n",
       "\t<tr><td>9</td><td>1</td><td>1</td><td>1</td><td>18</td><td>0</td><td>3</td></tr>\n",
       "\t<tr><td>9</td><td>1</td><td>1</td><td>1</td><td>18</td><td>0</td><td>4</td></tr>\n",
       "</tbody>\n",
       "</table>\n"
      ],
      "text/latex": [
       "A data.frame: 4 × 7\n",
       "\\begin{tabular}{lllllll}\n",
       " id & rx & number & size & stop & event & enum\\\\\n",
       " <int> & <dbl> & <int> & <int> & <int> & <dbl> & <int>\\\\\n",
       "\\hline\n",
       "\t 9 & 1 & 1 & 1 & 12 & 1 & 1\\\\\n",
       "\t 9 & 1 & 1 & 1 & 16 & 1 & 2\\\\\n",
       "\t 9 & 1 & 1 & 1 & 18 & 0 & 3\\\\\n",
       "\t 9 & 1 & 1 & 1 & 18 & 0 & 4\\\\\n",
       "\\end{tabular}\n"
      ],
      "text/markdown": [
       "\n",
       "A data.frame: 4 × 7\n",
       "\n",
       "| id &lt;int&gt; | rx &lt;dbl&gt; | number &lt;int&gt; | size &lt;int&gt; | stop &lt;int&gt; | event &lt;dbl&gt; | enum &lt;int&gt; |\n",
       "|---|---|---|---|---|---|---|\n",
       "| 9 | 1 | 1 | 1 | 12 | 1 | 1 |\n",
       "| 9 | 1 | 1 | 1 | 16 | 1 | 2 |\n",
       "| 9 | 1 | 1 | 1 | 18 | 0 | 3 |\n",
       "| 9 | 1 | 1 | 1 | 18 | 0 | 4 |\n",
       "\n"
      ],
      "text/plain": [
       "  id rx number size stop event enum\n",
       "1 9  1  1      1    12   1     1   \n",
       "2 9  1  1      1    16   1     2   \n",
       "3 9  1  1      1    18   0     3   \n",
       "4 9  1  1      1    18   0     4   "
      ]
     },
     "metadata": {},
     "output_type": "display_data"
    }
   ],
   "source": [
    "bladder %>% filter(id == 9) "
   ]
  },
  {
   "cell_type": "markdown",
   "id": "82b05098",
   "metadata": {},
   "source": [
    "# \n",
    "#### ```howto::AG2WLW()``` : AG 형식의 데이터를 WLW형식의 데이터로 변경\n",
    "#### ```howto::WLW2AG()``` : WLW 형식의 데이터를 AG형식의 데이터로 변경"
   ]
  },
  {
   "cell_type": "markdown",
   "id": "00f97b93",
   "metadata": {},
   "source": [
    "# \n",
    "#### 위험대상의 결정\n",
    "- 3가지 SC방법은 각각 위험대상을 결정하는 방법이 상이함\n",
    "\n",
    "#### **예**\n",
    "- A는 치료약을 투여받음 (tx = 1)\n",
    "- B와 C는 위약을 투여받음 (tx = 0)\n",
    "- 3명은 모두 다른 시간에 재발\n",
    "- A와 B는 재발이 2번, C는 3번의 재발\n",
    "\n",
    "# \n",
    "\n",
    "| id | status | stratum | start | stop | tx |\n",
    "| - | - | - | - | - | - | \n",
    "| A| 1| 1| 0| 100| 1| \n",
    "| A| 1| 2| 100| 105| 1| \n",
    "| B| 1| 1| 0| 30| 0| \n",
    "| B| 1| 2| 30| 50| 0| \n",
    "| C| 1| 1| 0| 20| 0| \n",
    "| C| 1| 2| 20| 60|0 | \n",
    "| C| 1| 3| 60| 85|0 | "
   ]
  },
  {
   "cell_type": "markdown",
   "id": "c4fbf521",
   "metadata": {},
   "source": [
    "# \n",
    "#### 층화된 CP방법\n",
    "- **첫 번째 사건의 발생시간이 다음 사건 발생 시 위험대상 구성에 영향을 미침**\n",
    "\n",
    "# \n",
    "- 각 Stratum의 1열 : 시점\n",
    "-  2열, 3열 : 위험대상의 수 및 위험대상\n",
    "\n",
    "# \n",
    "\n",
    "| Stratum 1 | | | Statum2 | | |\n",
    "| - | - | - | - | - | - |\n",
    "| 0 | 3 | A, B, C | 20 | 1 | C |\n",
    "| 20 | 3 | A, B, C | 30 | 2 | B, C |\n",
    "| 30 | 2 | A, B | 50 | 2 | B, C |\n",
    "| 100 | 1 | A | 60 | 1 | C |\n",
    "|  |  |  | 105 | 1 | A |"
   ]
  },
  {
   "cell_type": "markdown",
   "id": "ea073a5e",
   "metadata": {},
   "source": [
    "# \n",
    "#### 소요시간방법 \n",
    "- **첫 번째 사건의 발생시간이, 두 번째 혹은 그 이후의 사건 발생 시의 위험대상을 결정하는데 아무런 영향을 미치지 않음**\n",
    "- 이벤트가 발생하면 다시 시간이 0으로 돌아가기 때문\n",
    "\n",
    "# \n",
    "\n",
    "| Stratum 1 | | | Statum2 | | |\n",
    "| - | - | - | - | - | - |\n",
    "| 0 | 3 | A, B, C | 0 | 3 | A, B, C |\n",
    "| 20 | 3 | A, B, C | 5 | 3 | A, B, C |\n",
    "| 30 | 2 | A, B | 20 | 2 | B, C |\n",
    "| 100 | 1 | A | 40 | 1 | C |"
   ]
  },
  {
   "cell_type": "markdown",
   "id": "40ad89f3",
   "metadata": {},
   "source": [
    "# \n",
    "#### 주변방법\n",
    "- **k번째 사건의 위험대상은 연구 등록부터의 시간에 따라 결정**\n",
    "\n",
    "# \n",
    "\n",
    "| Stratum 1 | | | Statum2 | | | Stratum 3| | | \n",
    "| - | - | - | - | - | - | - | - | - |\n",
    "| 0 | 3 | A, B, C | 0 | 3 | A, B, C | 0 | 3 | A, B, C |\n",
    "| 20 | 3 | A, B, C | 50 | 3 | A, B, C |  85 | 2 | A, B |\n",
    "| 30 | 2 | A, B | 60 | 2 | B, C |   | |  |\n",
    "| 100 | 1 | A | 105 | 1 | C |   |  |  |"
   ]
  },
  {
   "cell_type": "markdown",
   "id": "e2b830f0",
   "metadata": {},
   "source": [
    "# \n",
    "# \n",
    "### 10-7\n",
    "#### 층화된 CP분석"
   ]
  },
  {
   "cell_type": "markdown",
   "id": "b17c5ad7",
   "metadata": {},
   "source": [
    "#### ```strata()``` : 층화변수 추가"
   ]
  },
  {
   "cell_type": "code",
   "execution_count": 56,
   "id": "162e2eb0",
   "metadata": {},
   "outputs": [
    {
     "data": {
      "text/plain": [
       "Call:\n",
       "coxph(formula = Surv(start, stop, event) ~ rx + number + size + \n",
       "    strata(enum), data = bladder2, cluster = id)\n",
       "\n",
       "  n= 178, number of events= 112 \n",
       "\n",
       "            coef exp(coef)  se(coef) robust se      z Pr(>|z|)  \n",
       "rx     -0.333489  0.716420  0.216168  0.204787 -1.628   0.1034  \n",
       "number  0.119617  1.127065  0.053338  0.051387  2.328   0.0199 *\n",
       "size   -0.008495  0.991541  0.072762  0.061635 -0.138   0.8904  \n",
       "---\n",
       "Signif. codes:  0 '***' 0.001 '**' 0.01 '*' 0.05 '.' 0.1 ' ' 1\n",
       "\n",
       "       exp(coef) exp(-coef) lower .95 upper .95\n",
       "rx        0.7164     1.3958    0.4796     1.070\n",
       "number    1.1271     0.8873    1.0191     1.246\n",
       "size      0.9915     1.0085    0.8787     1.119\n",
       "\n",
       "Concordance= 0.616  (se = 0.032 )\n",
       "Likelihood ratio test= 6.51  on 3 df,   p=0.09\n",
       "Wald test            = 7.26  on 3 df,   p=0.06\n",
       "Score (logrank) test = 6.91  on 3 df,   p=0.07,   Robust = 8.83  p=0.03\n",
       "\n",
       "  (Note: the likelihood ratio and score tests assume independence of\n",
       "     observations within a cluster, the Wald and robust score tests do not)."
      ]
     },
     "metadata": {},
     "output_type": "display_data"
    }
   ],
   "source": [
    "fit2 = coxph(Surv(start, stop, event) ~ rx + number + size + cluster(id) + strata(enum), bladder2)\n",
    "summary(fit2)"
   ]
  },
  {
   "cell_type": "code",
   "execution_count": 57,
   "id": "e64357ac",
   "metadata": {},
   "outputs": [
    {
     "data": {
      "image/png": "[encoded data removed]",
      "text/plain": [
       "plot without title"
      ]
     },
     "metadata": {
      "image/png": {
       "height": 420,
       "width": 420
      }
     },
     "output_type": "display_data"
    }
   ],
   "source": [
    "adjustedPlot(fit2, xnames = \"enum\")"
   ]
  },
  {
   "cell_type": "markdown",
   "id": "f2176ea2",
   "metadata": {},
   "source": [
    "# \n",
    "#### 소요시간방법"
   ]
  },
  {
   "cell_type": "code",
   "execution_count": 58,
   "id": "a92e41b3",
   "metadata": {},
   "outputs": [
    {
     "data": {
      "text/plain": [
       "Call:\n",
       "coxph(formula = Surv(start, stop, event) ~ rx + number + size + \n",
       "    strata(enum), data = bladder2 %>% mutate(stop = stop - start, \n",
       "    start = 0), cluster = id)\n",
       "\n",
       "  n= 178, number of events= 112 \n",
       "\n",
       "            coef exp(coef)  se(coef) robust se      z Pr(>|z|)   \n",
       "rx     -0.279005  0.756536  0.207348  0.215624 -1.294  0.19569   \n",
       "number  0.158046  1.171220  0.051942  0.050940  3.103  0.00192 **\n",
       "size    0.007415  1.007443  0.070023  0.064333  0.115  0.90824   \n",
       "---\n",
       "Signif. codes:  0 '***' 0.001 '**' 0.01 '*' 0.05 '.' 0.1 ' ' 1\n",
       "\n",
       "       exp(coef) exp(-coef) lower .95 upper .95\n",
       "rx        0.7565     1.3218    0.4958     1.154\n",
       "number    1.1712     0.8538    1.0599     1.294\n",
       "size      1.0074     0.9926    0.8881     1.143\n",
       "\n",
       "Concordance= 0.596  (se = 0.032 )\n",
       "Likelihood ratio test= 9.33  on 3 df,   p=0.03\n",
       "Wald test            = 11.84  on 3 df,   p=0.008\n",
       "Score (logrank) test = 10.27  on 3 df,   p=0.02,   Robust = 9.92  p=0.02\n",
       "\n",
       "  (Note: the likelihood ratio and score tests assume independence of\n",
       "     observations within a cluster, the Wald and robust score tests do not)."
      ]
     },
     "metadata": {},
     "output_type": "display_data"
    }
   ],
   "source": [
    "fit3 = coxph(Surv(start, stop, event) ~ rx + number + size + cluster(id) + strata(enum), \n",
    "             bladder2 %>% mutate(stop = stop - start, start= 0))\n",
    "summary(fit3)"
   ]
  },
  {
   "cell_type": "markdown",
   "id": "f1d11ece",
   "metadata": {},
   "source": [
    "# \n",
    "#### 주변방법"
   ]
  },
  {
   "cell_type": "code",
   "execution_count": 60,
   "id": "9c9a4475",
   "metadata": {},
   "outputs": [
    {
     "data": {
      "text/plain": [
       "Call:\n",
       "coxph(formula = Surv(stop, event) ~ rx + number + size + strata(enum), \n",
       "    data = bladder, cluster = id)\n",
       "\n",
       "  n= 340, number of events= 112 \n",
       "\n",
       "           coef exp(coef) se(coef) robust se      z Pr(>|z|)   \n",
       "rx     -0.58479   0.55722  0.20105   0.30795 -1.899   0.0576 . \n",
       "number  0.21029   1.23404  0.04675   0.06664  3.156   0.0016 **\n",
       "size   -0.05162   0.94969  0.06973   0.09459 -0.546   0.5853   \n",
       "---\n",
       "Signif. codes:  0 '***' 0.001 '**' 0.01 '*' 0.05 '.' 0.1 ' ' 1\n",
       "\n",
       "       exp(coef) exp(-coef) lower .95 upper .95\n",
       "rx        0.5572     1.7946    0.3047     1.019\n",
       "number    1.2340     0.8103    1.0829     1.406\n",
       "size      0.9497     1.0530    0.7890     1.143\n",
       "\n",
       "Concordance= 0.663  (se = 0.036 )\n",
       "Likelihood ratio test= 25.26  on 3 df,   p=1e-05\n",
       "Wald test            = 15.54  on 3 df,   p=0.001\n",
       "Score (logrank) test = 28.6  on 3 df,   p=3e-06,   Robust = 11.63  p=0.009\n",
       "\n",
       "  (Note: the likelihood ratio and score tests assume independence of\n",
       "     observations within a cluster, the Wald and robust score tests do not)."
      ]
     },
     "metadata": {},
     "output_type": "display_data"
    }
   ],
   "source": [
    "fit4 = coxph(Surv(stop, event) ~ rx + number + size + cluster(id) + strata(enum), bladder)\n",
    "summary(fit4)"
   ]
  },
  {
   "cell_type": "markdown",
   "id": "76390c91",
   "metadata": {},
   "source": [
    "# \n",
    "# \n",
    "### 10-4 4가지 방법에 의한 분석 정리"
   ]
  },
  {
   "cell_type": "code",
   "execution_count": 68,
   "id": "867421f1",
   "metadata": {},
   "outputs": [
    {
     "data": {
      "text/html": [
       "<table class=\"dataframe\">\n",
       "<caption>A autoReg: 3 × 8</caption>\n",
       "<thead>\n",
       "\t<tr><th scope=col>name</th><th scope=col>desc</th><th scope=col>stats</th><th scope=col>id</th><th scope=col>HR(Counting Process)</th><th scope=col>HR(Stratified CP)</th><th scope=col>HR(Gap Time)</th><th scope=col>HR(Marginal)</th></tr>\n",
       "\t<tr><th scope=col>&lt;chr&gt;</th><th scope=col>&lt;chr&gt;</th><th scope=col>&lt;chr&gt;</th><th scope=col>&lt;chr&gt;</th><th scope=col>&lt;chr&gt;</th><th scope=col>&lt;chr&gt;</th><th scope=col>&lt;chr&gt;</th><th scope=col>&lt;chr&gt;</th></tr>\n",
       "</thead>\n",
       "<tbody>\n",
       "\t<tr><td>rx    </td><td>Mean ± SD</td><td>1.4 ± 0.5</td><td>rx    </td><td>0.63 (0.37-1.06, p=.080)</td><td>0.72 (0.48-1.07, p=.103)</td><td>0.76 (0.50-1.15, p=.196)</td><td>0.56 (0.30-1.02, p=.058)</td></tr>\n",
       "\t<tr><td>number</td><td>Mean ± SD</td><td>2.3 ± 1.8</td><td>number</td><td>1.19 (1.05-1.35, p=.006)</td><td>1.13 (1.02-1.25, p=.020)</td><td>1.17 (1.06-1.29, p=.002)</td><td>1.23 (1.08-1.41, p=.002)</td></tr>\n",
       "\t<tr><td>size  </td><td>Mean ± SD</td><td>2.0 ± 1.4</td><td>size  </td><td>0.96 (0.82-1.11, p=.574)</td><td>0.99 (0.88-1.12, p=.890)</td><td>1.01 (0.89-1.14, p=.908)</td><td>0.95 (0.79-1.14, p=.585)</td></tr>\n",
       "</tbody>\n",
       "</table>\n"
      ],
      "text/latex": [
       "A autoReg: 3 × 8\n",
       "\\begin{tabular}{llllllll}\n",
       " name & desc & stats & id & HR(Counting Process) & HR(Stratified CP) & HR(Gap Time) & HR(Marginal)\\\\\n",
       " <chr> & <chr> & <chr> & <chr> & <chr> & <chr> & <chr> & <chr>\\\\\n",
       "\\hline\n",
       "\t rx     & Mean ± SD & 1.4 ± 0.5 & rx     & 0.63 (0.37-1.06, p=.080) & 0.72 (0.48-1.07, p=.103) & 0.76 (0.50-1.15, p=.196) & 0.56 (0.30-1.02, p=.058)\\\\\n",
       "\t number & Mean ± SD & 2.3 ± 1.8 & number & 1.19 (1.05-1.35, p=.006) & 1.13 (1.02-1.25, p=.020) & 1.17 (1.06-1.29, p=.002) & 1.23 (1.08-1.41, p=.002)\\\\\n",
       "\t size   & Mean ± SD & 2.0 ± 1.4 & size   & 0.96 (0.82-1.11, p=.574) & 0.99 (0.88-1.12, p=.890) & 1.01 (0.89-1.14, p=.908) & 0.95 (0.79-1.14, p=.585)\\\\\n",
       "\\end{tabular}\n"
      ],
      "text/markdown": [
       "\n",
       "A autoReg: 3 × 8\n",
       "\n",
       "| name &lt;chr&gt; | desc &lt;chr&gt; | stats &lt;chr&gt; | id &lt;chr&gt; | HR(Counting Process) &lt;chr&gt; | HR(Stratified CP) &lt;chr&gt; | HR(Gap Time) &lt;chr&gt; | HR(Marginal) &lt;chr&gt; |\n",
       "|---|---|---|---|---|---|---|---|\n",
       "| rx     | Mean ± SD | 1.4 ± 0.5 | rx     | 0.63 (0.37-1.06, p=.080) | 0.72 (0.48-1.07, p=.103) | 0.76 (0.50-1.15, p=.196) | 0.56 (0.30-1.02, p=.058) |\n",
       "| number | Mean ± SD | 2.3 ± 1.8 | number | 1.19 (1.05-1.35, p=.006) | 1.13 (1.02-1.25, p=.020) | 1.17 (1.06-1.29, p=.002) | 1.23 (1.08-1.41, p=.002) |\n",
       "| size   | Mean ± SD | 2.0 ± 1.4 | size   | 0.96 (0.82-1.11, p=.574) | 0.99 (0.88-1.12, p=.890) | 1.01 (0.89-1.14, p=.908) | 0.95 (0.79-1.14, p=.585) |\n",
       "\n"
      ],
      "text/plain": [
       "  name   desc       stats      id     HR(Counting Process)    \n",
       "1 rx     Mean ± SD 1.4 ± 0.5 rx     0.63 (0.37-1.06, p=.080)\n",
       "2 number Mean ± SD 2.3 ± 1.8 number 1.19 (1.05-1.35, p=.006)\n",
       "3 size   Mean ± SD 2.0 ± 1.4 size   0.96 (0.82-1.11, p=.574)\n",
       "  HR(Stratified CP)        HR(Gap Time)             HR(Marginal)            \n",
       "1 0.72 (0.48-1.07, p=.103) 0.76 (0.50-1.15, p=.196) 0.56 (0.30-1.02, p=.058)\n",
       "2 1.13 (1.02-1.25, p=.020) 1.17 (1.06-1.29, p=.002) 1.23 (1.08-1.41, p=.002)\n",
       "3 0.99 (0.88-1.12, p=.890) 1.01 (0.89-1.14, p=.908) 0.95 (0.79-1.14, p=.585)"
      ]
     },
     "metadata": {},
     "output_type": "display_data"
    }
   ],
   "source": [
    "result = autoReg(fit1) %>% rename(\"HR(Counting Process)\" = \"HR (multivariable)\")\n",
    "final = result %>%\n",
    "    addFitSummary(fit2, statsname = \"HR(Stratified CP)\") %>%\n",
    "    addFitSummary(fit3, statsname = \"HR(Gap Time)\") %>%\n",
    "    addFitSummary(fit4, statsname = \"HR(Marginal)\")\n",
    "final"
   ]
  },
  {
   "cell_type": "markdown",
   "id": "1b0ec6ea",
   "metadata": {},
   "source": [
    "# \n",
    "#### 예측변수 rx에 대한 추정된 회귀계수와 표준오차, p-value\n",
    "- 연구자가 각 대상환자에서 일어난 재발사건을 구별하기 원하지 않는 경우에는 계수과정접근법이 가장 적절한 방법\n",
    "- **연구자가 재발사건이 일어난 순서에 따라 치료효과를 구별하고자 할 경우, 층화된 콕스방법 3가지 중 하나를 선택**\n",
    "    - **층화된 계수과정(Stratified CP)방법은 연구의 목적이 연구에 등록된 시간으로부터 각 재발사건까지의 시간인 경우 선호\n",
    "    - **소요시간 방법(Gap Time)은 연구에 등록된 시간부터 재발사건까지의 시간이 아닌, 바로 전 재발사건으로부터 그 다음 재발사건까지의 시간(0부터 다시 시작)에 관심이 있는 경우 선호**\n",
    "    - **주변방법(Marginal) 방법은 각 재발사건의 게층을 서로 다른 질환의 상태라고 판단할 때 권장**\n",
    "    - **(층화된 계수과정 방법과 주변방법의 차이는 매우 미묘 : 각 계층이 확실하게 다른 양상의 재발사건이라고 할 수 없는 경우, 층화된 계수과정 방법을 선호 / 각 계층이 확실히 다른 양상의 사건이라고 할 수 있는 경우 주변방법 권장)**\n",
    "\n",
    "# \n",
    "| Model | coef | SE(NR) | SE(R) | p(NR) | p(R) |\n",
    "| - | - | - | - | - | - |\n",
    "| Counting Process | -0.465 | 0.2 | 0.266 | 0.02 | 0.08 |\n",
    "| Stratified CP | -0.333 |0.216 | 0.205| 0.123|0.103 |\n",
    "| Gap time | -0.279 | 0.207| 0.216| 0.178| 0.196|\n",
    "| Marginal | -0.585 |0.201 |0.308 | 0.004| 0.058|"
   ]
  }
 ],
 "metadata": {
  "kernelspec": {
   "display_name": "R-4.3.2",
   "language": "R",
   "name": "ir"
  },
  "language_info": {
   "codemirror_mode": "r",
   "file_extension": ".r",
   "mimetype": "text/x-r-source",
   "name": "R",
   "pygments_lexer": "r",
   "version": "4.3.2"
  }
 },
 "nbformat": 4,
 "nbformat_minor": 5
}
