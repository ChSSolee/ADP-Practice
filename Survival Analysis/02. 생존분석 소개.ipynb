{
 "cells": [
  {
   "cell_type": "markdown",
   "id": "191cb100",
   "metadata": {},
   "source": [
    "# 02. 생존분석 소개\n",
    "\n",
    "# \n",
    "\n",
    "### 2-1 생존분석이란?\n",
    "- **생존분석이란 어떤 사건이 일어날 때 까지의 시간을 관심있는 반응변수로 하는 통계적인 방법**\n",
    "- **시간** : 한 개인을 추적하기 시작하면서부터 어떤 사건이 일어날 때 까지의 며칠, 몇 개월, 몇 년에 걸친 기간을 의미 (때로는 연령이 시간이 되기도 함)\n",
    "- **사건** : 사망, 질병의 발생, 재발, 회복 또는 어떤 사람에게 일어날 수 있는 관심 있는 경험\n",
    "- 하나의 여구에서 여러 개의 사건이 발생할 수도 있지만, 보통 하나의 사건만이 일어나는 것으로 가정하고 분석을 진행\n",
    "- 생존분석에서는 시간변수를 '생존시간'이라고 표현하며, 사건의 발생을 '실패'로 표현 (보통 관심이 있는 사건이 사망이나 질병의 발생, 재발 또는 좋지 않은 경험인 경우가 대부분)"
   ]
  },
  {
   "cell_type": "markdown",
   "id": "b299e5a3",
   "metadata": {},
   "source": [
    "# \n",
    "\n",
    "### 생존시간\n",
    "**생존시간(Survival time) : 어떤 정의된 시점부터 특정한 사건(event)가 발생할 때까지의 시간을 의미한다. 따라서 항상 양(Positive)의 값을 갖고 매우 치우친 분포를 가짐**"
   ]
  },
  {
   "cell_type": "markdown",
   "id": "370a5392",
   "metadata": {},
   "source": [
    "# \n",
    "# \n",
    "### 2-2 자료의 중도절단\n",
    "- 대부분의 생존분석에서 중요한 문제는 자료의 중도절단(censoring)\n",
    "- 중도절단 자료는 생존 시간에 대한 어느 정도의 정보는 가지고 있지만, 정확한 생존시간을 모를 때 발생\n",
    "    - 예 : 백혈병 환자를 대상으로 관해상태에 들어간 후, 재발할 때 까지 관찰하는 연구에서 연구 종료 시점까지 환자가 관해상태를 유지한다면, 환자의 생존시간은 중도절단된 것\n",
    "    - 중도절단 발생의 3가지 이유 :\n",
    "        1. 연구 종료 시까지 사건이 일어나지 않은 경우\n",
    "        2. 연구 기간동안 추적관찰에 실패한 경우\n",
    "        3. 환자가 사망(사망이 관찰하고자 하는 사건이 아닌 경우)이나 다른 이유로(약물 부작용이나 다른 경쟁위험 때문에) 탈락한 경우"
   ]
  },
  {
   "attachments": {
    "%C4%B8%C3%B3.png": {
     "image/png": "[encoded data removed]"
    }
   },
   "cell_type": "markdown",
   "id": "069463d6",
   "metadata": {},
   "source": [
    "![%C4%B8%C3%B3.png](attachment:%C4%B8%C3%B3.png)\n",
    "\n",
    "\n",
    "# \n",
    "\n",
    "- **4명의 환자중에서 2명이 중도 절단**\n",
    "- **환자2번은 연구종료 시점까지 event가 발생하지 않았기 때문에, 환자3번은 중간에 다른 어떤 이유로 데이터를 얻을 수 없어 중도 절단**\n",
    "- **환자2, 3는 연구종료까지 이벤트가 발생하지 않았거나, 중도에 탈락하여 정확한 생존시간을 알 수 없는 경우로 우중도절단(right-censored)자료** (대부분의 생존자료는 우중도절단)\n",
    "- **관찰된 생존시간보다 실제 생존기간이 짧은 경우 좌중도절단(left-censored)자료**\n",
    "\n",
    "# "
   ]
  },
  {
   "cell_type": "markdown",
   "id": "1a0a5091",
   "metadata": {},
   "source": [
    "| 이름 | 생존시간 | 상태 |\n",
    "| - | - | - |\n",
    "| 환자1 | 4.0  | 1 |\n",
    "| 환자2 | 5.0 | 0 |\n",
    "| 환자3 | 6.0 | 0 |\n",
    "| 환자4 | 2.0 | 1 |\n",
    "\n",
    "(중도절단된 자료는 상태가 0, 이벤트가 발생한 자료는 1)"
   ]
  },
  {
   "cell_type": "markdown",
   "id": "27b4449e",
   "metadata": {},
   "source": [
    "# \n",
    "#### 좌중도 절단\n",
    "- **어떤 사람이 시간 t에서 좌중도절단 되었다고 하는 것은, 사건의 발생이 0과 t사이에 있었다는 것은 알지만, 정확한 시간은 모르는 경우** \n",
    "\n",
    "# \n",
    "\n",
    "#### 구간중도절단(interval-censored)\n",
    "- 실제 생존시간이 어떤 구간 내에 발생하는 경우\n",
    "- **t1에서 음성이 나오고, t2에서 양성으로 나왔지만, 정확한 바이러스 감염시간을 알지 못 할 경우, 시간구나 [t1, t2]사이에서 구간중도절단**"
   ]
  },
  {
   "cell_type": "markdown",
   "id": "2f1cc356",
   "metadata": {},
   "source": [
    "# \n",
    "# \n",
    "### 2-3 용어와 표기\n",
    "- **```T```** : 어떤 개인의 생존시간을 의미하는 확률변수 (random variable)로 시간을 표현 (양수)\n",
    "- **```t```** : 생존시간 ```T```중 관심있는 특정한 값을 표현\n",
    "   \n",
    "   예 : 수술 이후 5년 이상 생존하였는지 (Survival > 5years) 평가하고자 한다면, $t = 5$이며, $T > t = 5$인지 평가\n",
    " \n",
    "- **```d```** : 중도절단 또는 실패를 의미하는 무작위 변수 ($d = 0$ : 중도절단 / $d = 1$ : 사건발생(실패))\n",
    "    - 연구 대상자에게 이벤트가 발생하지 않은 경우 항상 중도절단\n",
    "    - $d=0$인 경우, 연구 종료 시까지 환자가 생존하거나 추적에 실패한 경우 (또는 중도 탈락)"
   ]
  },
  {
   "cell_type": "markdown",
   "id": "8bf4a273",
   "metadata": {},
   "source": [
    "# \n",
    "# \n",
    "### 생존함수 (Survivor function, ```S(t)```) \n",
    "- 특정시간 $t$보다 오래 생존할 확률 => **생존시간 $T$가 특정한 시간 $t$보다 클 확률을 의미**\n",
    "\n",
    "####    $S(t) = P(T > t) = 1 - P(T \\leq t)$,    [$0 < t < \\infty$]\n",
    "\n",
    "- **[$t, \\infty$]의 구간에서 생존함수는 이론적으로 매끈한 곡선으로 나타남. 하지만 실제 연구에 있어서는 계단 형태**\n",
    "- 생존함수는 감소함수\n",
    "- **$t = 0$일 때, $S(t) = S(0) = 1$**. 즉 연구가 시작되었을 때, 아직 이벤트가 일어나지 않았으므로 생존함수는 1\n",
    "- **$t = \\infty$일 때, $S(t) = S(\\infty) = 0$**. 즉 이론적으로는 연구 기간의 제한이 없다면, 결국 모든 대상자가 사망하므로 생존함수는 0\n",
    "    - 단, 모든 연구 대상자에게 이벤트가 생기지는 않을 수도 있기 때문에, 연구 종료 시 추정생존함수 $\\hat{S}(t)$가 반드시 0이 되지는 않음"
   ]
  },
  {
   "cell_type": "markdown",
   "id": "395c0ac0",
   "metadata": {},
   "source": [
    "# \n",
    "### 위험함수 (hazard function, ```h(t)```)  \n",
    "- **어떤 대상이 특정한 시간 $t$이상 생존하였다고 가정할 때**, $t$로부터 아주 짧은 시간 간격안에 실패할 확률을 그 짧은 시간 간격으로 나눈 것 (**순간적인 실패율**)\n",
    "- **위험함수는 시간 $t$에 대하여**\n",
    "    - **항상 양수**\n",
    "    - **0부터 무한대의 값을 가짐**\n",
    "\n",
    "# \n",
    "\n",
    "#### $h(t) = \\displaystyle\\lim_{\\Delta t \\to \\infty} {{P(t < T < t + \\Delta t | T > t)} \\over {\\Delta t}}$\n",
    "**($\\Delta t$ = 시간간격)**\n",
    "\n",
    "# \n",
    "\n",
    "| P | $\\Delta t$ | $P/\\Delta t = rate$ |\n",
    "| - | - | - |\n",
    "| 1 / 3 | 1 / 2 day | $(1 / 3)\\;\\div\\;(1/2)\\;=\\;0.67\\;/\\;day$ |\n",
    "| 1 / 3 | 1 / 14 week | $(1 / 3)\\;\\div\\;(1/14)\\;=\\;4.67\\;/\\;week$ |"
   ]
  },
  {
   "cell_type": "markdown",
   "id": "72be3f2e",
   "metadata": {},
   "source": [
    "# \n",
    "#### 생존분석을 할 때 위험하수에 관심을 갖는 이유\n",
    "1. 생존함수는 그 시간까지의 누적생존을 나타내지만, 위험하수는 순간적인 실패가능성을 \n",
    "2. 생존데이터에 맞는 특정 모형을 찾는 데 사용될 수 있다. 지수분포, 와이블분포, 로그정규분포 등\n",
    "3. 생존데이터를 수학적으로 분석할 때 매개가 됨"
   ]
  },
  {
   "cell_type": "markdown",
   "id": "3b7fb18a",
   "metadata": {},
   "source": [
    "# \n",
    "#### 생존분포의 다른 용어\n",
    "**1. 누적분포함수 (CDF, $F(t)$)**\n",
    "\n",
    "#### $F(t) = P(T \\leq t) = 1 - S(t),\\;\\;[0 < t < \\infty]$\n",
    "\n",
    "# \n",
    "\n",
    "**2. 확률밀도함수 (PDF, $f(t)$) : CDF의 변화율**\n",
    "\n",
    "#### $f(t) = {d \\over {dt}}F(t) = -{d \\over {dt}}S(t)$\n",
    "\n",
    "# \n",
    "\n",
    "- 위험함수는 PDF 및 생존함수와 관계가 있으며, 다음과 같이 표현\n",
    "#### $h(t) = {f(t) \\over {S(t)}}$\n",
    "\n",
    "# \n",
    "\n",
    "- 누적위험함수는 위험함수 아래의 면적을 특정시간 $t$까지 적분\n",
    "\n",
    "#### $H(t) = \\int^{t}_{0} h(u)\\;du$"
   ]
  },
  {
   "cell_type": "markdown",
   "id": "2749ac62",
   "metadata": {},
   "source": [
    "# \n",
    "# \n",
    "### 생존함수와 위험함수간의 관계\n",
    "### $S(t)=exp\\;[-\\int^{t}_{0}h(u)du]\\;=\\;exp(-H(t))$\n",
    "### $h(t)\\;=\\;-{}{{dS(t)\\;/\\;dt}\\over{S(t)}}\\;=\\;-{S^{'}(t) \\over {S(t)}}\\;=\\;-{d \\over dt}\\;log(S(t))$"
   ]
  },
  {
   "cell_type": "markdown",
   "id": "948a48a9",
   "metadata": {},
   "source": [
    "# \n",
    "# \n",
    "### 생존분석의 목표\n",
    "1. **생존데이터로부터 생존함수와 위험함수를 추정**\n",
    "2. **생존함수와 위험함수를 비교**\n",
    "3. **설명변수와 생존시간의 관계를 평가**\n",
    "\n",
    "# \n",
    "\n",
    "### 선형회귀 및 로지스틱 회귀와의 차이\n",
    "| 모형 | 반응변수 | 효과추정 |\n",
    "| - | - | - |\n",
    "| 생존분석 | time to event (이벤트 발생까지의 시간, with censoring) | Hazard ratio $e^\\beta$ |\n",
    "| 선형회귀 | 연속형변수 (정규분포) | 회귀계수 $\\beta$ |\n",
    "| 로지스틱회귀 | 이진변수 (이항분포) | Odds ratio $e^\\beta$ |"
   ]
  }
 ],
 "metadata": {
  "kernelspec": {
   "display_name": "R",
   "language": "R",
   "name": "ir"
  },
  "language_info": {
   "codemirror_mode": "r",
   "file_extension": ".r",
   "mimetype": "text/x-r-source",
   "name": "R",
   "pygments_lexer": "r",
   "version": "4.2.2"
  }
 },
 "nbformat": 4,
 "nbformat_minor": 5
}
