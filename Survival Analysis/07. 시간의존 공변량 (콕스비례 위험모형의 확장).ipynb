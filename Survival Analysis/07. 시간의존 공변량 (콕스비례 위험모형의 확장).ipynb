{
 "cells": [
  {
   "cell_type": "markdown",
   "id": "860b9b37",
   "metadata": {},
   "source": [
    "# 07. 시간의존 공변량 (콕스비례위험모형의 확장)\n",
    "- **콕스비례위험모형 (Cox proportional hazard(PH) model)의 중요한 가정 : 연구가 시작될 때 공변량이 결정되며, 시간이 지나도 공변량은 변하지 않는다는 것**\n",
    "- **하지만 특정경우 시간에 따라 변동 가능 => 시간의존공변량(time-dependent covariate)**\n",
    "    - **중간사건 (intermediate event) : 연구 기간 동안 그 발생 여부가 서로 다르며, 발생 시점 또한 다름**\n",
    "    - 예 : 백혈병 환자의 사망시점이 반응변수일 때, 골수이식과 같은 중간사건(intermediate event)의 발생여부는 사망시간을 예측하는 데 매우 중요한 영향"
   ]
  },
  {
   "cell_type": "markdown",
   "id": "3cf5eb19",
   "metadata": {},
   "source": [
    "# \n",
    "# \n",
    "### 7-1 심장이식 연구 예제\n",
    "#### 시간의존공변량을 다룰 때 주의점 : 미래의 공변량 값으로 생존을 예측할 수 없음 "
   ]
  },
  {
   "cell_type": "code",
   "execution_count": 3,
   "id": "730cc71d",
   "metadata": {},
   "outputs": [],
   "source": [
    "library(survival)\n",
    "library(tidyverse)\n",
    "library(flextable)\n",
    "library(autoReg)"
   ]
  },
  {
   "cell_type": "code",
   "execution_count": 4,
   "id": "ac84000b",
   "metadata": {},
   "outputs": [],
   "source": [
    "data(heart, package = \"survival\")"
   ]
  },
  {
   "cell_type": "markdown",
   "id": "c22a3964",
   "metadata": {},
   "source": [
    "# \n",
    "- ```transplant``` : 심장이식 여부 (심장이식을 받은경우 1)\n",
    "    - ```transplant```의 위험률은 0.18이며, p-value < 0.05 => ```transplant```가 환자의 수명을 늘리는데 매우 효과적"
   ]
  },
  {
   "cell_type": "code",
   "execution_count": 6,
   "id": "28fbd593",
   "metadata": {},
   "outputs": [
    {
     "data": {
      "text/plain": [
       "a flextable object.\n",
       "col_keys: ` `, `coef`, `se(coef)`, `z`, `Pr(>|z|)`, `HR`, `lower`, `upper` \n",
       "header has 1 row(s) \n",
       "body has 3 row(s) \n",
       "original dataset sample: \n",
       "—————————————————————————————————————————————————————————————————————\n",
       "                coef  se(coef)       z  Pr(>|z|)     HR  lower  upper \n",
       "—————————————————————————————————————————————————————————————————————\n",
       "transplant    -1.717     0.279  -6.165     <.001  0.180  0.104  0.310 \n",
       "age            0.059     0.015   3.913     <.001  1.061  1.030  1.092 \n",
       "surgery       -0.419     0.371  -1.129      .259  0.658  0.318  1.361 \n",
       "—————————————————————————————————————————————————————————————————————\n",
       "n=103, events=75, Likelihood ratio test=45.85 on 3 df (p<.001) "
      ]
     },
     "metadata": {},
     "output_type": "display_data"
    }
   ],
   "source": [
    "gaze(fit) %>% myft()"
   ]
  },
  {
   "cell_type": "markdown",
   "id": "df84c62c",
   "metadata": {},
   "source": [
    "# \n",
    "### 하지만, ```transplant```가 시간에 따라하는 공변량 => 환자가 심장이식을 받기 위해서는 심장이식을 받을 수 있을만큼  오래 살아야 함\n",
    "### 따라서, 오래산 환자가 오래 살지 못한 환자에 비해 오래 살았다는 것을 보여준 것에 지나지 않음 (항진명제 (tautology))\n",
    "\n",
    "# \n",
    "#### 이러한 문제에 대한 해결방법 : 랜드마크 시간을 정해 환자를 두 군으로 나누는 것\n",
    "- 랜드마크 시간 전에 심장이식을 받은 환자들을 환자군으로 하고, 심장이식을 받지 못한 환자들을 대조군으로 설정\n",
    "\n",
    "# \n",
    "\n",
    "#### 랜드마크 시간까지 생존한 환자들만 연구에 포함시키고, 모든 환자들(특히 대조군)은 랜드마크 시간 이후에 이식을 받더라도 대조군에 계속 남아있어야 함\n",
    "- 예 : 랜드마크 시간 = 30\n",
    "    1. 최소 30일 이상 생존한 환자들 선정 (103명중 79명)\n",
    "    2. 79명 중 33명이 30일 이내에 심장이식을 받았으며, **46명은 30일 이내에 받지 못함**\n",
    "    3. **46명 중 30명은 이후 심장이식을 받았으나, 여전히 30일 전에 심장이식을 받지 못한 환자로 분류**"
   ]
  },
  {
   "cell_type": "markdown",
   "id": "b1e30bfd",
   "metadata": {},
   "source": [
    "# \n",
    "- ```transplant30```의 위험률은 0.96, p-value > 0.05 => 통계적으로 유의하지 않음 \n",
    "\n",
    "#### 즉, 30일 이상 생존한 환자들에 대해서는 심장이식이 생존률에 영향을 주지 않음\n",
    "\n",
    "**랜드마크 분석결과 심장이식을 받은 환자와 받지 않은 환자 간의 생존차이는 없음**\n",
    "(랜드마크 기간 설정에 대해서는 명확한 방법은 없음)"
   ]
  },
  {
   "cell_type": "code",
   "execution_count": 14,
   "id": "99cc8f1e",
   "metadata": {},
   "outputs": [
    {
     "data": {
      "text/plain": [
       "a flextable object.\n",
       "col_keys: ` `, `coef`, `se(coef)`, `z`, `Pr(>|z|)`, `HR`, `lower`, `upper` \n",
       "header has 1 row(s) \n",
       "body has 3 row(s) \n",
       "original dataset sample: \n",
       "———————————————————————————————————————————————————————————————————————————\n",
       "                      coef  se(coef)       z  Pr(>|z|)     HR  lower  upper \n",
       "———————————————————————————————————————————————————————————————————————————\n",
       "transplant30TRUE    -0.042     0.284  -0.148      .882  0.959  0.550  1.672 \n",
       "age                  0.037     0.017   2.170      .030  1.038  1.004  1.073 \n",
       "surgery             -0.820     0.413  -1.985      .047  0.441  0.196  0.990 \n",
       "———————————————————————————————————————————————————————————————————————————\n",
       "n=79, events=52, Likelihood ratio test=9.5 on 3 df (p=.023) "
      ]
     },
     "metadata": {},
     "output_type": "display_data"
    }
   ],
   "source": [
    "ind30 = jasa$futime >= 30 # 30일 이상 생존한 환자\n",
    "\n",
    "transplant30 = (jasa$transplant==1) & (jasa$wait.time < 30) # 30일 이후 심장수술을 받았는지의 여부\n",
    "\n",
    "fit1 = coxph(Surv(futime, fustat) ~ transplant30 + age + surgery, jasa, subset = ind30)\n",
    "gaze(fit1) %>% myft()"
   ]
  },
  {
   "cell_type": "markdown",
   "id": "aeb148dd",
   "metadata": {},
   "source": [
    "# \n",
    "#### 랜드마크 분석 이외에는, ```transplant```를 시간의존공변량으로 사용\n",
    "- 전통적인 콕스비례위험모형의 틀 안에서 분석이 가능하지만, **편향되지 않는 추정량을 얻기 위해 자료를 변형해야함**"
   ]
  },
  {
   "cell_type": "markdown",
   "id": "e765c5a7",
   "metadata": {},
   "source": [
    "# \n",
    "#### 데이터 변형 방법 :\n",
    "- 심장이식을 받은 환자의 타임라인은 이식받기 전과 이식받은 후의 두 시기로 구분\n",
    "# \n",
    "원 데이터"
   ]
  },
  {
   "cell_type": "code",
   "execution_count": 29,
   "id": "ce8c8a0b",
   "metadata": {},
   "outputs": [
    {
     "data": {
      "text/html": [
       "<table class=\"dataframe\">\n",
       "<caption>A data.frame: 6 × 5</caption>\n",
       "<thead>\n",
       "\t<tr><th></th><th scope=col>id</th><th scope=col>wait.time</th><th scope=col>futime</th><th scope=col>fustat</th><th scope=col>transplant</th></tr>\n",
       "\t<tr><th></th><th scope=col>&lt;int&gt;</th><th scope=col>&lt;dbl&gt;</th><th scope=col>&lt;dbl&gt;</th><th scope=col>&lt;dbl&gt;</th><th scope=col>&lt;dbl&gt;</th></tr>\n",
       "</thead>\n",
       "<tbody>\n",
       "\t<tr><th scope=row>2</th><td> 2</td><td>NA</td><td> 5</td><td>1</td><td>0</td></tr>\n",
       "\t<tr><th scope=row>5</th><td> 5</td><td>NA</td><td>17</td><td>1</td><td>0</td></tr>\n",
       "\t<tr><th scope=row>10</th><td>10</td><td>11</td><td>57</td><td>1</td><td>1</td></tr>\n",
       "\t<tr><th scope=row>12</th><td>12</td><td>NA</td><td> 7</td><td>1</td><td>0</td></tr>\n",
       "\t<tr><th scope=row>28</th><td>28</td><td>70</td><td>71</td><td>1</td><td>1</td></tr>\n",
       "\t<tr><th scope=row>95</th><td>95</td><td> 1</td><td>15</td><td>1</td><td>1</td></tr>\n",
       "</tbody>\n",
       "</table>\n"
      ],
      "text/latex": [
       "A data.frame: 6 × 5\n",
       "\\begin{tabular}{r|lllll}\n",
       "  & id & wait.time & futime & fustat & transplant\\\\\n",
       "  & <int> & <dbl> & <dbl> & <dbl> & <dbl>\\\\\n",
       "\\hline\n",
       "\t2 &  2 & NA &  5 & 1 & 0\\\\\n",
       "\t5 &  5 & NA & 17 & 1 & 0\\\\\n",
       "\t10 & 10 & 11 & 57 & 1 & 1\\\\\n",
       "\t12 & 12 & NA &  7 & 1 & 0\\\\\n",
       "\t28 & 28 & 70 & 71 & 1 & 1\\\\\n",
       "\t95 & 95 &  1 & 15 & 1 & 1\\\\\n",
       "\\end{tabular}\n"
      ],
      "text/markdown": [
       "\n",
       "A data.frame: 6 × 5\n",
       "\n",
       "| <!--/--> | id &lt;int&gt; | wait.time &lt;dbl&gt; | futime &lt;dbl&gt; | fustat &lt;dbl&gt; | transplant &lt;dbl&gt; |\n",
       "|---|---|---|---|---|---|\n",
       "| 2 |  2 | NA |  5 | 1 | 0 |\n",
       "| 5 |  5 | NA | 17 | 1 | 0 |\n",
       "| 10 | 10 | 11 | 57 | 1 | 1 |\n",
       "| 12 | 12 | NA |  7 | 1 | 0 |\n",
       "| 28 | 28 | 70 | 71 | 1 | 1 |\n",
       "| 95 | 95 |  1 | 15 | 1 | 1 |\n",
       "\n"
      ],
      "text/plain": [
       "   id wait.time futime fustat transplant\n",
       "2   2 NA         5     1      0         \n",
       "5   5 NA        17     1      0         \n",
       "10 10 11        57     1      1         \n",
       "12 12 NA         7     1      0         \n",
       "28 28 70        71     1      1         \n",
       "95 95  1        15     1      1         "
      ]
     },
     "metadata": {},
     "output_type": "display_data"
    }
   ],
   "source": [
    "jasa %>% mutate(id = row_number()) %>% .[c(2, 5, 10 ,12 ,28, 95), ] %>% select(id, wait.time, futime, fustat, transplant)"
   ]
  },
  {
   "cell_type": "markdown",
   "id": "4a0ad849",
   "metadata": {},
   "source": [
    "변형 후 데이터 **(start-stop 형식)**"
   ]
  },
  {
   "cell_type": "code",
   "execution_count": 31,
   "id": "e7630b54",
   "metadata": {},
   "outputs": [
    {
     "data": {
      "text/html": [
       "<table class=\"dataframe\">\n",
       "<caption>A data.frame: 9 × 5</caption>\n",
       "<thead>\n",
       "\t<tr><th scope=col>id</th><th scope=col>start</th><th scope=col>stop</th><th scope=col>event</th><th scope=col>transplant</th></tr>\n",
       "\t<tr><th scope=col>&lt;dbl&gt;</th><th scope=col>&lt;dbl&gt;</th><th scope=col>&lt;dbl&gt;</th><th scope=col>&lt;dbl&gt;</th><th scope=col>&lt;dbl&gt;</th></tr>\n",
       "</thead>\n",
       "<tbody>\n",
       "\t<tr><td> 2</td><td> 0</td><td> 5</td><td>1</td><td>0</td></tr>\n",
       "\t<tr><td> 5</td><td> 0</td><td>17</td><td>1</td><td>0</td></tr>\n",
       "\t<tr><td>10</td><td> 0</td><td>11</td><td>0</td><td>0</td></tr>\n",
       "\t<tr><td>10</td><td>11</td><td>57</td><td>1</td><td>1</td></tr>\n",
       "\t<tr><td>12</td><td> 0</td><td> 7</td><td>1</td><td>0</td></tr>\n",
       "\t<tr><td>28</td><td> 0</td><td>70</td><td>0</td><td>0</td></tr>\n",
       "\t<tr><td>28</td><td>70</td><td>71</td><td>1</td><td>1</td></tr>\n",
       "\t<tr><td>95</td><td> 0</td><td> 1</td><td>0</td><td>0</td></tr>\n",
       "\t<tr><td>95</td><td> 1</td><td>15</td><td>1</td><td>1</td></tr>\n",
       "</tbody>\n",
       "</table>\n"
      ],
      "text/latex": [
       "A data.frame: 9 × 5\n",
       "\\begin{tabular}{lllll}\n",
       " id & start & stop & event & transplant\\\\\n",
       " <dbl> & <dbl> & <dbl> & <dbl> & <dbl>\\\\\n",
       "\\hline\n",
       "\t  2 &  0 &  5 & 1 & 0\\\\\n",
       "\t  5 &  0 & 17 & 1 & 0\\\\\n",
       "\t 10 &  0 & 11 & 0 & 0\\\\\n",
       "\t 10 & 11 & 57 & 1 & 1\\\\\n",
       "\t 12 &  0 &  7 & 1 & 0\\\\\n",
       "\t 28 &  0 & 70 & 0 & 0\\\\\n",
       "\t 28 & 70 & 71 & 1 & 1\\\\\n",
       "\t 95 &  0 &  1 & 0 & 0\\\\\n",
       "\t 95 &  1 & 15 & 1 & 1\\\\\n",
       "\\end{tabular}\n"
      ],
      "text/markdown": [
       "\n",
       "A data.frame: 9 × 5\n",
       "\n",
       "| id &lt;dbl&gt; | start &lt;dbl&gt; | stop &lt;dbl&gt; | event &lt;dbl&gt; | transplant &lt;dbl&gt; |\n",
       "|---|---|---|---|---|\n",
       "|  2 |  0 |  5 | 1 | 0 |\n",
       "|  5 |  0 | 17 | 1 | 0 |\n",
       "| 10 |  0 | 11 | 0 | 0 |\n",
       "| 10 | 11 | 57 | 1 | 1 |\n",
       "| 12 |  0 |  7 | 1 | 0 |\n",
       "| 28 |  0 | 70 | 0 | 0 |\n",
       "| 28 | 70 | 71 | 1 | 1 |\n",
       "| 95 |  0 |  1 | 0 | 0 |\n",
       "| 95 |  1 | 15 | 1 | 1 |\n",
       "\n"
      ],
      "text/plain": [
       "  id start stop event transplant\n",
       "1  2  0     5   1     0         \n",
       "2  5  0    17   1     0         \n",
       "3 10  0    11   0     0         \n",
       "4 10 11    57   1     1         \n",
       "5 12  0     7   1     0         \n",
       "6 28  0    70   0     0         \n",
       "7 28 70    71   1     1         \n",
       "8 95  0     1   0     0         \n",
       "9 95  1    15   1     1         "
      ]
     },
     "metadata": {},
     "output_type": "display_data"
    }
   ],
   "source": [
    "jasa1 %>% select(id, start, stop, event, transplant) %>% filter(id %in% c(2, 5, 10 ,12 ,28, 95) )"
   ]
  },
  {
   "cell_type": "markdown",
   "id": "425e1dc8",
   "metadata": {},
   "source": [
    "# \n",
    "변형된 최종데이터에 대한 분석\n",
    "- **심장이식이 생존을 증가시킨다는 통계적 근거는 없음**\n",
    "#### 랜드마크 분석과 같지만, 데이터의 손실이 없음"
   ]
  },
  {
   "cell_type": "code",
   "execution_count": 38,
   "id": "afcccdfb",
   "metadata": {},
   "outputs": [
    {
     "data": {
      "text/plain": [
       "a flextable object.\n",
       "col_keys: ` `, `coef`, `se(coef)`, `z`, `Pr(>|z|)`, `HR`, `lower`, `upper` \n",
       "header has 1 row(s) \n",
       "body has 3 row(s) \n",
       "original dataset sample: \n",
       "—————————————————————————————————————————————————————————————————————\n",
       "                coef  se(coef)       z  Pr(>|z|)     HR  lower  upper \n",
       "—————————————————————————————————————————————————————————————————————\n",
       "transplant     0.014     0.308   0.046      .964  1.014  0.554  1.856 \n",
       "surgery       -0.773     0.360  -2.150      .032  0.462  0.228  0.934 \n",
       "age            0.031     0.014   2.199      .028  1.031  1.003  1.059 \n",
       "—————————————————————————————————————————————————————————————————————\n",
       "n=170, events=75, Likelihood ratio test=10.72 on 3 df (p=.013) "
      ]
     },
     "metadata": {},
     "output_type": "display_data"
    }
   ],
   "source": [
    "fit2 = coxph(Surv(start, stop, event) ~ transplant + surgery + age, jasa1)\n",
    "gaze(fit2) %>% myft()"
   ]
  },
  {
   "cell_type": "markdown",
   "id": "d23a64ca",
   "metadata": {},
   "source": [
    "# \n",
    "#### 시간의존공변량이 있는 경우, $k$번째 subject의 시간 $t_i$의 공변량을 $Z_k (t_i)$라고 할 때, 위험함수를 $h(t) = h_0(t)e^{Z_k (t_i) \\beta}$라고 할 수 있으며, 이 때의 부분가능도함수는\n",
    "### $L(\\beta) = \\Pi^D_{i = 1} {{e^{z_i (t_i) \\beta}}\\over{\\sum_{k \\in R_i} e^{z_k (t_i) \\beta}}}$"
   ]
  },
  {
   "cell_type": "code",
   "execution_count": 39,
   "id": "d99c4a29",
   "metadata": {},
   "outputs": [
    {
     "data": {
      "text/html": [
       "<table class=\"dataframe\">\n",
       "<caption>A data.frame: 6 × 5</caption>\n",
       "<thead>\n",
       "\t<tr><th></th><th scope=col>id</th><th scope=col>wait.time</th><th scope=col>futime</th><th scope=col>fustat</th><th scope=col>transplant</th></tr>\n",
       "\t<tr><th></th><th scope=col>&lt;int&gt;</th><th scope=col>&lt;dbl&gt;</th><th scope=col>&lt;dbl&gt;</th><th scope=col>&lt;dbl&gt;</th><th scope=col>&lt;dbl&gt;</th></tr>\n",
       "</thead>\n",
       "<tbody>\n",
       "\t<tr><th scope=row>2</th><td> 2</td><td>NA</td><td> 5</td><td>1</td><td>0</td></tr>\n",
       "\t<tr><th scope=row>5</th><td> 5</td><td>NA</td><td>17</td><td>1</td><td>0</td></tr>\n",
       "\t<tr><th scope=row>10</th><td>10</td><td>11</td><td>57</td><td>1</td><td>1</td></tr>\n",
       "\t<tr><th scope=row>12</th><td>12</td><td>NA</td><td> 7</td><td>1</td><td>0</td></tr>\n",
       "\t<tr><th scope=row>28</th><td>28</td><td>70</td><td>71</td><td>1</td><td>1</td></tr>\n",
       "\t<tr><th scope=row>95</th><td>95</td><td> 1</td><td>15</td><td>1</td><td>1</td></tr>\n",
       "</tbody>\n",
       "</table>\n"
      ],
      "text/latex": [
       "A data.frame: 6 × 5\n",
       "\\begin{tabular}{r|lllll}\n",
       "  & id & wait.time & futime & fustat & transplant\\\\\n",
       "  & <int> & <dbl> & <dbl> & <dbl> & <dbl>\\\\\n",
       "\\hline\n",
       "\t2 &  2 & NA &  5 & 1 & 0\\\\\n",
       "\t5 &  5 & NA & 17 & 1 & 0\\\\\n",
       "\t10 & 10 & 11 & 57 & 1 & 1\\\\\n",
       "\t12 & 12 & NA &  7 & 1 & 0\\\\\n",
       "\t28 & 28 & 70 & 71 & 1 & 1\\\\\n",
       "\t95 & 95 &  1 & 15 & 1 & 1\\\\\n",
       "\\end{tabular}\n"
      ],
      "text/markdown": [
       "\n",
       "A data.frame: 6 × 5\n",
       "\n",
       "| <!--/--> | id &lt;int&gt; | wait.time &lt;dbl&gt; | futime &lt;dbl&gt; | fustat &lt;dbl&gt; | transplant &lt;dbl&gt; |\n",
       "|---|---|---|---|---|---|\n",
       "| 2 |  2 | NA |  5 | 1 | 0 |\n",
       "| 5 |  5 | NA | 17 | 1 | 0 |\n",
       "| 10 | 10 | 11 | 57 | 1 | 1 |\n",
       "| 12 | 12 | NA |  7 | 1 | 0 |\n",
       "| 28 | 28 | 70 | 71 | 1 | 1 |\n",
       "| 95 | 95 |  1 | 15 | 1 | 1 |\n",
       "\n"
      ],
      "text/plain": [
       "   id wait.time futime fustat transplant\n",
       "2   2 NA         5     1      0         \n",
       "5   5 NA        17     1      0         \n",
       "10 10 11        57     1      1         \n",
       "12 12 NA         7     1      0         \n",
       "28 28 70        71     1      1         \n",
       "95 95  1        15     1      1         "
      ]
     },
     "metadata": {},
     "output_type": "display_data"
    }
   ],
   "source": [
    "jasa %>% mutate(id = row_number()) %>% .[c(2, 5, 10 ,12 ,28, 95), ] %>% select(id, wait.time, futime, fustat, transplant)"
   ]
  },
  {
   "cell_type": "markdown",
   "id": "7c7a0435",
   "metadata": {},
   "source": [
    "#### $z_i(t)$ : t시점에 심장이식을 받았는지의 여부\n",
    "# \n",
    "\n",
    "| $subject(i)$ | $event$ | $z_i(5)$ | $z_i(7)$ |  $z_i(15)$ | $z_i(17)$ | $z_i(57)$ | $z_i(71)$ |\n",
    "| - | - | - | - | - | - | - | - |\n",
    "| $2$ | $5$ | $0$ | | | | | |\n",
    "| $5$ | $17$ | $0$ | $0$ | $0$ | $0$ | | |\n",
    "| $10$ | $57$ | $0$ | $0$ |$1$ | $1$| $1$| |\n",
    "| $12$ | $7$ | $0$ | $0$| | | | |\n",
    "| $28$ | $71$ | $0$ | $0$ |$0$ |$0$ |$0$ |$1$ |\n",
    "| $95$ | $15$ | $1$ |$1$ |$1$ | | | |"
   ]
  },
  {
   "cell_type": "markdown",
   "id": "6eb2314e",
   "metadata": {},
   "source": [
    "# \n",
    "#### 가장먼저 이벤트가 발생한 t=5에 patient at risk는 6명, 이중 심장이식을 바은 환자는 95번 환자 1명\n",
    "#### 따라서, t=5에서의 부분가능도함수 :\n",
    "### $ = {{e^{z_2 (5)\\beta}}\\over{e^{z_2 (5)\\beta} + e^{z_5 (5)\\beta}+ e^{z_10 (5)\\beta}+ e^{z_12 (5)\\beta}+ e^{z_28 (5)\\beta}+ e^{z_{95} (5)\\beta}}} = {{1}\\over{5+e^{\\beta}}}$"
   ]
  },
  {
   "cell_type": "markdown",
   "id": "8fc46c37",
   "metadata": {},
   "source": [
    "# \n",
    "#### 전체 부분가능도함수 : \n",
    "### $L(\\beta) = {{1}\\over{5+e^{\\beta}}}\\times{{1}\\over{4+e^{\\beta}}}\\times{{1}\\over{2+2e^{\\beta}}}\\times{{1}\\over{2+e^{\\beta}}}\\times{{e^{\\beta}}\\over{1+e^{\\beta}}}\\times{{e^{\\beta}}\\over{e^{\\beta}}}$"
   ]
  },
  {
   "cell_type": "markdown",
   "id": "48dfe950",
   "metadata": {},
   "source": [
    "# \n",
    "# \n",
    "### 7-2 예측 가능한 시간의존변수\n",
    "#### time transfer"
   ]
  },
  {
   "cell_type": "markdown",
   "id": "dd29d491",
   "metadata": {},
   "source": [
    "# \n",
    "- 가능도비검정 : p-value > 0.05 => ```stagen```에 따른 차이는 거의 없음"
   ]
  },
  {
   "cell_type": "code",
   "execution_count": 51,
   "id": "99a120a8",
   "metadata": {},
   "outputs": [
    {
     "data": {
      "text/plain": [
       "Call:\n",
       "coxph(formula = Surv(pfs, status) ~ stagen, data = pancreatic2)\n",
       "\n",
       "         coef exp(coef) se(coef)    z     p\n",
       "stagen 0.5931    1.8095   0.4007 1.48 0.139\n",
       "\n",
       "Likelihood ratio test=2.43  on 1 df, p=0.1188\n",
       "n= 41, number of events= 41 "
      ]
     },
     "metadata": {},
     "output_type": "display_data"
    }
   ],
   "source": [
    "data(pancreatic2, package = \"asaur\")\n",
    "pancreatic2$stagen = ifelse(pancreatic2$stage ==\"M\", 1, 0)\n",
    "(fit = coxph(Surv(pfs, status) ~ stagen, data = pancreatic2))"
   ]
  },
  {
   "cell_type": "markdown",
   "id": "b966bcc4",
   "metadata": {},
   "source": [
    "- 비례위험 가정 점검 : p-value > 0.05 => 반응변수와 비례위험 가정 성립X => 시간에 따른 위험률이 일정하지 않음"
   ]
  },
  {
   "cell_type": "code",
   "execution_count": 52,
   "id": "c3e6cca5",
   "metadata": {},
   "outputs": [
    {
     "data": {
      "text/plain": [
       "       chisq df     p\n",
       "stagen  4.52  1 0.034\n",
       "GLOBAL  4.52  1 0.034"
      ]
     },
     "metadata": {},
     "output_type": "display_data"
    }
   ],
   "source": [
    "cox.zph(fit)"
   ]
  },
  {
   "cell_type": "markdown",
   "id": "714c7b91",
   "metadata": {},
   "source": [
    "# \n",
    "#### 위험률의 변화를 $g(t) = z \\times log(t)$로 가정\n",
    "- **시간의존함수에 대한 p-value > 0.05이지만, 가능도비검정의 p-value < 0.05 => ```stage```와 시간의존함수의 조합은 차이가 있다는 근거**"
   ]
  },
  {
   "cell_type": "code",
   "execution_count": 54,
   "id": "24bbad36",
   "metadata": {},
   "outputs": [
    {
     "data": {
      "text/plain": [
       "Call:\n",
       "coxph(formula = Surv(pfs, status) ~ stage + tt(stagen), data = pancreatic2, \n",
       "    tt = function(x, t, ...) x * log(t))\n",
       "\n",
       "               coef exp(coef) se(coef)      z      p\n",
       "stageM       6.0096  407.3394   3.0598  1.964 0.0495\n",
       "tt(stagen)  -1.0858    0.3376   0.5889 -1.844 0.0652\n",
       "\n",
       "Likelihood ratio test=6.33  on 2 df, p=0.04229\n",
       "n= 41, number of events= 41 "
      ]
     },
     "metadata": {},
     "output_type": "display_data"
    }
   ],
   "source": [
    "(fit2 = coxph(Surv(pfs, status) ~ stage + tt(stagen), tt = function(x, t, ...) x * log(t), data = pancreatic2))"
   ]
  },
  {
   "cell_type": "markdown",
   "id": "0fa62a8e",
   "metadata": {},
   "source": [
    "# \n",
    "Schoenfeld 잔차그림 & 시간의존함수 시각화\n",
    "- 빨간선은 time transfer 함수의 적합선, 전체적인 로그 위험률이 시간에 따라 감소함을 나타냄"
   ]
  },
  {
   "cell_type": "code",
   "execution_count": 58,
   "id": "6c5d69fd",
   "metadata": {},
   "outputs": [
    {
     "data": {
      "image/png": "[encoded data removed]",
      "text/plain": [
       "plot without title"
      ]
     },
     "metadata": {
      "image/png": {
       "height": 420,
       "width": 420
      }
     },
     "output_type": "display_data"
    }
   ],
   "source": [
    "plot(cox.zph(fit, transform = function(pfs) log(pfs)))\n",
    "abline(coef(fit2), col = \"red\")"
   ]
  },
  {
   "cell_type": "markdown",
   "id": "26e8e321",
   "metadata": {},
   "source": [
    "# \n",
    "#### 다른 시간의존함수 \n",
    "#### 시간전달함수 : $g(t) = z \\times t$ 사용시\n",
    "- 가능도비검정 결과 : p-value > 0.05 => 유의하지 않음"
   ]
  },
  {
   "cell_type": "code",
   "execution_count": 60,
   "id": "d96afe24",
   "metadata": {},
   "outputs": [
    {
     "data": {
      "text/plain": [
       "Call:\n",
       "coxph(formula = Surv(pfs, status) ~ stage + tt(stagen), data = pancreatic2, \n",
       "    tt = function(x, t, ...) x * t)\n",
       "\n",
       "                coef exp(coef)  se(coef)      z      p\n",
       "stageM      1.278099  3.589808  0.661027  1.934 0.0532\n",
       "tt(stagen) -0.003656  0.996350  0.002532 -1.444 0.1487\n",
       "\n",
       "Likelihood ratio test=4.56  on 2 df, p=0.1025\n",
       "n= 41, number of events= 41 "
      ]
     },
     "metadata": {},
     "output_type": "display_data"
    }
   ],
   "source": [
    "coxph(Surv(pfs, status) ~ stage + tt(stagen), tt = function(x, t, ...) x * t, pancreatic2)"
   ]
  },
  {
   "cell_type": "markdown",
   "id": "618188a2",
   "metadata": {},
   "source": [
    "### 실제 위험률의 변화에 잘 근사하는 위험률 함수를 찾아내는 것이 중요"
   ]
  },
  {
   "cell_type": "markdown",
   "id": "a1fc804a",
   "metadata": {},
   "source": [
    "# \n",
    "# \n",
    "#### 시간에 따라직선적으로 증가하는 시간의존변수\n",
    "- 생존분석에서 연구시작 시의 환자나이를 공변량으로 사용하고, **이 값을 변화하지 않는 것으로 취급**\n",
    "\n",
    "#### 하지만 시간이 지남에 따라 환자의 나이도 증가하는 것을 알고 있으므로, 환자의 나이를 시간의존변수로 처리해야 하는가?\n",
    "- **=> YES, 하지만 나이를 시간의존변수로 처리하더라도 모형에는 변화가 없음**"
   ]
  },
  {
   "cell_type": "markdown",
   "id": "9be631ee",
   "metadata": {},
   "source": [
    "# \n",
    "- ```age```가 증가함에 따라 로그 위험률이 증가함을 확인"
   ]
  },
  {
   "cell_type": "code",
   "execution_count": 66,
   "id": "cd572506",
   "metadata": {
    "scrolled": true
   },
   "outputs": [
    {
     "data": {
      "text/plain": [
       "Call:\n",
       "coxph(formula = Surv(time, status == 2) ~ age, data = lung)\n",
       "\n",
       "        coef exp(coef) se(coef)     z      p\n",
       "age 0.018720  1.018897 0.009199 2.035 0.0419\n",
       "\n",
       "Likelihood ratio test=4.24  on 1 df, p=0.03946\n",
       "n= 228, number of events= 165 "
      ]
     },
     "metadata": {},
     "output_type": "display_data"
    }
   ],
   "source": [
    "coxph(Surv(time, status == 2) ~ age, lung)"
   ]
  },
  {
   "cell_type": "markdown",
   "id": "aae78e80",
   "metadata": {},
   "source": [
    "- **나이는 연수(year), 생존시간은 일 수(day)로 되어있으므로, 생존시간도 연 단위로 변경**\n",
    "    - 모형에 아무런 변화가 없음"
   ]
  },
  {
   "cell_type": "code",
   "execution_count": 67,
   "id": "23f70f5f",
   "metadata": {},
   "outputs": [
    {
     "data": {
      "text/plain": [
       "Call:\n",
       "coxph(formula = Surv(time, status == 2) ~ tt(age), data = lung, \n",
       "    tt = function(x, t, ...) {\n",
       "        x + t/365.25\n",
       "    })\n",
       "\n",
       "            coef exp(coef) se(coef)     z      p\n",
       "tt(age) 0.018720  1.018897 0.009199 2.035 0.0419\n",
       "\n",
       "Likelihood ratio test=4.24  on 1 df, p=0.03946\n",
       "n= 228, number of events= 165 "
      ]
     },
     "metadata": {},
     "output_type": "display_data"
    }
   ],
   "source": [
    "coxph(Surv(time, status == 2) ~ tt(age), lung, tt = function(x, t, ...) {x + t / 365.25})"
   ]
  },
  {
   "cell_type": "markdown",
   "id": "38eba4eb",
   "metadata": {},
   "source": [
    "# \n",
    "#### 왜 아무런 변화가 없을까?\n",
    "- 연구가 시작할 때의 나이를 $z(0)$으로하고, 현재 나이를 $z(t) = z(0) + t$로하면 위험함수는 아래와 같음\n",
    "\n",
    "### $h(t) = h_0(t) e^{\\beta_z (t)} = h_0 (t) e^{\\beta_t} \\times e^{\\beta_z (0)}$\n",
    "\n",
    "# \n",
    "- 위 식을 부분가능도 식에 대입하면, 시간의존부분인 $e^{\\beta_t}$가 분자 분모에 모두 있으므로, $z(0)$만 남음\n",
    "- 따라서 시간의존모형의 회귀계수 $\\beta$는 비시간의존모형의 회귀계수와 같게됨"
   ]
  }
 ],
 "metadata": {
  "kernelspec": {
   "display_name": "R-4.3.2",
   "language": "R",
   "name": "ir"
  },
  "language_info": {
   "codemirror_mode": "r",
   "file_extension": ".r",
   "mimetype": "text/x-r-source",
   "name": "R",
   "pygments_lexer": "r",
   "version": "4.3.2"
  }
 },
 "nbformat": 4,
 "nbformat_minor": 5
}
