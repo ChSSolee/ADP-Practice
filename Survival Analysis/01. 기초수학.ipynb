{
 "cells": [
  {
   "cell_type": "markdown",
   "id": "54efdc2f",
   "metadata": {},
   "source": [
    "# 01. 기초수학\n",
    "# \n",
    "# \n",
    "### 1-1 지수"
   ]
  },
  {
   "cell_type": "markdown",
   "id": "108b8274",
   "metadata": {},
   "source": [
    "#### $a$를 양의 실수$(a \\neq 0)$라고 할 때, $a^x$를 다음과 같이 정의\n",
    "1. $x$가 자연수일 때, $a^x$는 $a$를 $x$번 곱한다.\n",
    "2. $x$가 0일 때, $a^x = 1$\n",
    "3. $x$가 양의 정수 일 때, $a^{-x} = {{1} \\over {a^x}}$\n",
    "4. $x$가 유리수 $n / m$일 때, (단 $m, n$은 정수이며 $m > 0)$ $a^{n/m} = \\sqrt[m]{a^n}$ "
   ]
  },
  {
   "cell_type": "markdown",
   "id": "00db5a11",
   "metadata": {},
   "source": [
    "# \n",
    "# \n",
    "### 1-2 지수함수\n",
    "\n",
    "# \n",
    "# \n",
    "### 1-3 역함수\n",
    "- **함수 $y = f(x)$의 역함수가 존재하려면, $y = f(x)$는 정의역에서 단조증가(monotone increasing)하거나 단조감소(monotone decresing)한다는 조건 필요**\n",
    "\n",
    "# \n",
    "# \n",
    "### 1-4 로그함수\n",
    "- 로그함수 = 지수함수 $y = a^x (x > 0, a > 0, a \\neq 1)$의 역함수로, $y = log_ax$로 표기\n",
    "\n",
    "# \n",
    "# \n",
    "### 1-5 자연로그의 밑 $e$\n",
    "- **베르누이 (Jacob Bernoulli)는 자연로그의 밑 $e$를 극한값으로 표현**\n",
    "    $\\displaystyle\\lim_{n \\to \\infty}{({1 + {{1} \\over {n}}^n})} \\approx 2.71828$"
   ]
  },
  {
   "cell_type": "markdown",
   "id": "3c3963b4",
   "metadata": {},
   "source": [
    "# \n",
    "# \n",
    "### 1-6 미분\n",
    "\n",
    "#### 미분 가능과 미분계수\n",
    "- $x$의 함수 $y = f(x)$\n",
    "- $x = a$근처에서 $x$의 변화량 $\\Delta x$가 한없이 0에 가까워질 때, $y$의 변화량을 $x$의 변화량으로 나눈 값, **즉 ${{\\Delta y} \\over {\\Delta x}} = {{f(a + \\Delta x) - f(a)} \\over {\\Delta x}}$가 어떤 일정한 값에 수렴할 때, $x = a$에서 미분 가능하다고 표현**\n",
    "- **또한 이 이러한 값을 함수 $f(x)$에서의 미분계수라고 하며 $f^{'} (a)$라고 표현**\n",
    "- **미분계수가 이러한 값에 수렴할 때는 함수 $f(x)$의 그래프가 $x=a$에서 직성상태가 되며 AB를 지나가는 직선 $l$은 그 직선상태와 일치**\n",
    "- 이때의 직선 $l$은 $y = f(x)$그래프의 $x = a$에서의 접선이라고 볼 수 있다. **즉 점 $A(a, f(a))$를 지나고 기울기가 $f \\dot(a)$인 직선의 접선이라고 볼 수 있다.**\n",
    "- $y$축 위를 이동하는 점 $P$의 위치가 시간 $x$의 함수로써 $y = f(x)$로 표현될 대 ${{\\Delta y} \\over {\\Delta x}}$를 시각 $a$와 $a + \\Delta x$사이의 평균적인 빠르기, **$f^{'}(x)$를 $x=a$에서의 속도라고 정의**\n",
    "# \n",
    "\n",
    "#### 도함수와 기본함수의 도함수\n",
    "- $f(x)$의 정의역 안에 있는 임의의 $x$의 미분계수 $f\\dot(x)$를 대응시키는 함수를 함수 f(x)의 도함수라고 하며, 다음과 같이 표현\n",
    "\n",
    "####    **$f^{'}(x) = {{dy}\\over {dx}} = \\displaystyle\\lim_{\\Delta x \\to 0}{{\\Delta y} \\over {\\Delta x}} = \\displaystyle\\lim_{\\Delta x \\to 0}{{f(a + \\Delta x) - f(a)} \\over {\\Delta x}}$**\n",
    "\n",
    "# \n",
    "- 예1\n",
    "    $f^{'}(x) = \\displaystyle\\lim_{\\Delta x \\to 0}{{\\Delta y} \\over {\\Delta x}} = \\displaystyle\\lim_{\\Delta x \\to 0}{{f(a + \\Delta x) - f(a)} \\over {\\Delta x}} = \\displaystyle\\lim_{\\Delta x \\to 0}{{(x + \\Delta x)^2 - (x)^2} \\over {\\Delta x}} = \\displaystyle\\lim_{\\Delta x \\to 0} (2x + \\Delta x) = 2x$\n",
    "    \n",
    "# \n",
    "\n",
    "#### 기본함수의 도함수**\n",
    "- $e = \\displaystyle\\lim_{n \\to \\infty} {(1 + {1 \\over n})} = 2.71828$는 오일러 상수\n",
    "- $ln$은 오일러 상수 $e$를 밑으로 하는 자연로그 $(log)$. 이때 밑 $e$는 일반적으로 생략"
   ]
  },
  {
   "cell_type": "markdown",
   "id": "f234b859",
   "metadata": {},
   "source": [
    "|함수$f(x)$|도함수$f^{'}(x)$|\n",
    "|---|---|\n",
    "| c (상수)| 0 |\n",
    "| $x^n$($n$은 실수) | $n$ $x^{n-1}$  |\n",
    "| $e^x$ | $e^x$ |\n",
    "| $a^x$ | $a^x$ $\\ln a$ |\n",
    "| $\\ln x$ | $1 \\over x$ | \n",
    "| $\\log_a{x}$| ${1 \\over {x \\ln a}}$ |"
   ]
  },
  {
   "cell_type": "markdown",
   "id": "f20dfdfd",
   "metadata": {},
   "source": [
    "#### 도함수의 사칙연산\n",
    "- 두 함수 $f(x), g(x)$를 어떤 구간에서 미분할 수 있다면, 그 구간에서 다음과 같은 계산을 수행할 수 있다.\n",
    "1. {$f(x) \\pm g(x)$}$^{'}$ $= f^{'}(x) \\pm g^{'}(x)$\n",
    "2. {$k\\;f(x)$}$^{'}$ $= k f^{'}(x)$\n",
    "3. {$f(x) g(x)$}$^{'}$ $= f^{'}(x) g(x) + f(x) g^{'}(x)$\n",
    "4. {$f(x) \\over g(x)$}$^{'}$ $= {{f^{'}(x) g(x) - f(x)g^{'}(x)} \\over {g(x)}^2}$\n",
    "\n",
    "    특히 ${1 \\over {g(x)}}^{'} = {{-g^{'}(x)} \\over {g(x)}^2}$"
   ]
  },
  {
   "cell_type": "markdown",
   "id": "f340a790",
   "metadata": {},
   "source": [
    "# \n",
    "# \n",
    "#### 합성함수의 미분\n",
    "- $y = f(u)$가 $u$에 대해 미분 가능하고 $u = g(x)$가 $x$에 대해 미분 가능하면, 함성함수 $y = f(g(x))$는 $x$에 대해 미분 가능하며 그 도함수는\n",
    "\n",
    "    ${dy \\over dx} = {dy \\over du} {du \\over dy}$\n",
    "\n",
    "\n",
    "# \n",
    "\n",
    "- 예1\n",
    "\n",
    "$y = f(u) = u^2 = (g(x))^2 = (3x+5)^2$, ${dy \\over dx} = {dy \\over du} {du \\over dy}$ = $2(3x+5)\\;\\times\\;(3x+5)^{'} = 6(3x+5)$"
   ]
  },
  {
   "cell_type": "markdown",
   "id": "533c5fec",
   "metadata": {},
   "source": [
    "# \n",
    "# \n",
    "#### 역함수의 미분\n",
    "- **$y = f(x)$가 미분 가능하고 $f^{'}(x) > 0$또는 $f^{'}(x) < 0$일 때, 역함수 $x = g(y)$는 미분 가능한 함수이며,**\n",
    "\n",
    "    ${dy \\over dx} = {1 \\over {dx \\over dy}}$"
   ]
  },
  {
   "cell_type": "markdown",
   "id": "dbe68481",
   "metadata": {},
   "source": [
    "# \n",
    "# \n",
    "### 1-7 실전 예제\n",
    "#### 1. $log(2e^\\beta + 2)$를 $\\beta$에 대하여 미분\n",
    "\n",
    "- {$log(2e^\\beta + 2$}$^{'} = {{(2e^\\beta + 2)^{'}} \\over {2e^\\beta + 2}} = {{2e^\\beta} \\over {2e^\\beta + 2}} = {{e^\\beta}\\over {e^\\beta + 1}}$\n",
    "\n",
    "# \n",
    "\n",
    "#### 2. 콕스모형의 가능도 함수 (& 로그 가능도 함수)\n",
    "#### $L(\\beta) = {e^\\beta \\over {(2e^\\beta + 2)\\;\\times\\;(e^\\beta + 2)}}$\n",
    "#### $l(\\beta) = log(L(\\beta)) = log(e^\\beta) - log(2e^\\beta + 2) - (e^\\beta + 2)$"
   ]
  },
  {
   "cell_type": "code",
   "execution_count": 10,
   "id": "b219c178",
   "metadata": {},
   "outputs": [
    {
     "data": {
      "image/png": "[encoded data removed]",
      "text/plain": [
       "plot without title"
      ]
     },
     "metadata": {
      "image/png": {
       "height": 420,
       "width": 420
      }
     },
     "output_type": "display_data"
    }
   ],
   "source": [
    "pl <- function(beta) {\n",
    "    psi <- exp(beta)\n",
    "    result <- log(psi) - log(2 * psi + 2) - log(psi + 2)\n",
    "    result\n",
    "}\n",
    "\n",
    "beta <- seq(-2, 2, length.out = 100)\n",
    "plot(pl(beta) ~ beta, type = \"l\", xlab = \"beta\", ylab = \"log partial likelihood\",\n",
    "     cex.axis = 1.5, cex.lab = 1.5, lwd = 2, col = \"black\")"
   ]
  },
  {
   "cell_type": "markdown",
   "id": "4d0d4b3d",
   "metadata": {},
   "source": [
    "# \n",
    "#### 로그 가능도 함수를 미분한 함수 => 스코어 함수\n",
    "- **스코어 함수 값은 로그 가능도 함수 그래프의 기울기**\n",
    "\n",
    "# \n",
    "#### $U(\\beta) = l^{'}(\\beta) = (\\log (e^\\beta) - log(2e^\\beta + 2) - log(e^\\beta + 2))^{'}$ \n",
    "    \n",
    "$={e^\\beta \\over e^\\beta} - {2e^\\beta \\over {2e^\\beta + 2}} - {e^\\beta \\over {e^\\beta + 2}}$ $= 1 - {e^\\beta \\over {e^\\beta + 1}} - {e^\\beta \\over {e^\\beta + 2}}$"
   ]
  },
  {
   "cell_type": "code",
   "execution_count": 14,
   "id": "28389b23",
   "metadata": {},
   "outputs": [
    {
     "data": {
      "image/png": "[encoded data removed]",
      "text/plain": [
       "plot without title"
      ]
     },
     "metadata": {
      "image/png": {
       "height": 420,
       "width": 420
      }
     },
     "output_type": "display_data"
    }
   ],
   "source": [
    "scoref <- function(beta) {\n",
    "    psi <- exp(beta)\n",
    "    result = 1 - psi/(psi + 1) - psi/(psi + 2)\n",
    "    result\n",
    "}\n",
    "\n",
    "plot(scoref(beta) ~ beta, type = \"l\", xlab = \"beta\", ylab = \"score function\",\n",
    "     cex.axis = 1.5, cex.lab = 1.5, lwd = 2, col = \"black\")"
   ]
  },
  {
   "cell_type": "markdown",
   "id": "aa8704be",
   "metadata": {},
   "source": [
    "# \n",
    "**스코어 함수의 값이 0이되는 $\\beta$의 값**\n"
   ]
  },
  {
   "cell_type": "code",
   "execution_count": 15,
   "id": "bef812e3",
   "metadata": {},
   "outputs": [
    {
     "data": {
      "text/html": [
       "0.346573590279973"
      ],
      "text/latex": [
       "0.346573590279973"
      ],
      "text/markdown": [
       "0.346573590279973"
      ],
      "text/plain": [
       "[1] 0.3465736"
      ]
     },
     "metadata": {},
     "output_type": "display_data"
    }
   ],
   "source": [
    "result1 <- uniroot(f = scoref, interval = c(-5, 5), tol = .Machine$double.eps)\n",
    "result1$root"
   ]
  }
 ],
 "metadata": {
  "kernelspec": {
   "display_name": "R",
   "language": "R",
   "name": "ir"
  },
  "language_info": {
   "codemirror_mode": "r",
   "file_extension": ".r",
   "mimetype": "text/x-r-source",
   "name": "R",
   "pygments_lexer": "r",
   "version": "4.2.2"
  }
 },
 "nbformat": 4,
 "nbformat_minor": 5
}
