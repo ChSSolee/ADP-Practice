{
 "cells": [
  {
   "cell_type": "markdown",
   "id": "9977116b",
   "metadata": {},
   "source": [
    "# 03. Kaplan-Meier 생존곡선과 로그순위검정\n",
    "# \n",
    "\n",
    "### 3-1 KM 생존곡선"
   ]
  },
  {
   "cell_type": "code",
   "execution_count": 73,
   "id": "646377c7",
   "metadata": {},
   "outputs": [
    {
     "data": {
      "text/plain": [
       "── \u001b[1mConflicts\u001b[22m ───────────────────────────────────────────────────────────────────────────────── tidymodels_conflicts() ──\n",
       "\u001b[31m✖\u001b[39m \u001b[34mpurrr\u001b[39m::\u001b[32mcompose()\u001b[39m  masks \u001b[34mflextable\u001b[39m::compose()\n",
       "\u001b[31m✖\u001b[39m \u001b[34mscales\u001b[39m::\u001b[32mdiscard()\u001b[39m masks \u001b[34mpurrr\u001b[39m::discard()\n",
       "\u001b[31m✖\u001b[39m \u001b[34mdplyr\u001b[39m::\u001b[32mfilter()\u001b[39m   masks \u001b[34mstats\u001b[39m::filter()\n",
       "\u001b[31m✖\u001b[39m \u001b[34mrecipes\u001b[39m::\u001b[32mfixed()\u001b[39m  masks \u001b[34mstringr\u001b[39m::fixed()\n",
       "\u001b[31m✖\u001b[39m \u001b[34mdplyr\u001b[39m::\u001b[32mlag()\u001b[39m      masks \u001b[34mstats\u001b[39m::lag()\n",
       "\u001b[31m✖\u001b[39m \u001b[34myardstick\u001b[39m::\u001b[32mspec()\u001b[39m masks \u001b[34mreadr\u001b[39m::spec()\n",
       "\u001b[31m✖\u001b[39m \u001b[34mrecipes\u001b[39m::\u001b[32mstep()\u001b[39m   masks \u001b[34mstats\u001b[39m::step()\n",
       "\u001b[34m•\u001b[39m Use suppressPackageStartupMessages() to eliminate package startup messages"
      ]
     },
     "metadata": {},
     "output_type": "display_data"
    }
   ],
   "source": [
    "# install.packages(\"pak\")\n",
    "# pak::pkg_install(\"r-lib/rlang\")\n",
    "# devtools::install_github(\"cardiomoon/howto\")\n",
    "library(autoReg)\n",
    "library(survival)\n",
    "library(survminer)\n",
    "library(howto)\n",
    "library(flextable)\n",
    "library(ftExtra)\n",
    "library(tidyverse)\n",
    "library(parsnip)\n",
    "library(tidymodels)\n",
    "tidymodels::tidymodels_conflicts()"
   ]
  },
  {
   "cell_type": "markdown",
   "id": "170ee063",
   "metadata": {},
   "source": [
    "# \n",
    "#### anderson 데이터 : 42명의 백혈병 환자 데이터로\n",
    "- **```time```**은 추적 기간\n",
    "- **```status```** : 재발한 경우는 1, 재발하지 않은 경우(중도절단)\n",
    "- **```sex```** : 성별\n",
    "- **```logWBC```** : 백혈구 숫자의 로그값\n",
    "- **```rx```** : 치료군은 0, 대조군은 1 \n",
    "    - **콕스모형에서는 대조군을 1, 치료군을 0으로 표현. 위험비가 1보다 큰 것을 해석하는 것이 직관적이기**"
   ]
  },
  {
   "cell_type": "code",
   "execution_count": 3,
   "id": "83bf814e",
   "metadata": {},
   "outputs": [],
   "source": [
    "data = subset(anderson, rx == 0)"
   ]
  },
  {
   "cell_type": "markdown",
   "id": "2d8e6f57",
   "metadata": {},
   "source": [
    "# \n",
    "- 중도절단된 자료에는 숫자에 '+'를 붙여 중도절단임을 표시\n",
    "\n",
    "### ```Surv()```"
   ]
  },
  {
   "cell_type": "code",
   "execution_count": 4,
   "id": "0098f22d",
   "metadata": {},
   "outputs": [
    {
     "data": {
      "text/plain": [
       " [1] 35+ 34+ 32+ 32+ 25+ 23  22  20+ 19+ 17+ 16  13  11+ 10+ 10   9+  7   6+  6 \n",
       "[20]  6   6 "
      ]
     },
     "metadata": {},
     "output_type": "display_data"
    }
   ],
   "source": [
    "with(data, Surv(time, status))"
   ]
  },
  {
   "cell_type": "markdown",
   "id": "4aa075e7",
   "metadata": {},
   "source": [
    "# \n",
    "#### **평균생존시간 $\\bar{T}$** : 중도절단을 고려하지 않은, 생존시간의 평균\n",
    "    - 중도절단된 자료는 정확한 생존시간을 알 수 없으므로, 실제 생존시간은 평균생존시간보다 길다\n",
    "#### **평균 위험률 (average hazard rate, $\\bar{h}$)** : 전체 실패 수 (재발)를 생존시간의 합계로 나눈 값\n",
    "\n",
    "# \n",
    "- 치료군(rx = 0)에서 평균생존시간이 더 길고 평균위험률이 더 낮음"
   ]
  },
  {
   "cell_type": "code",
   "execution_count": 5,
   "id": "5fb0c087",
   "metadata": {},
   "outputs": [
    {
     "data": {
      "text/html": [
       "<table class=\"dataframe\">\n",
       "<caption>A tibble: 2 × 3</caption>\n",
       "<thead>\n",
       "\t<tr><th scope=col>rx</th><th scope=col>T</th><th scope=col>h</th></tr>\n",
       "\t<tr><th scope=col>&lt;dbl&gt;</th><th scope=col>&lt;dbl&gt;</th><th scope=col>&lt;dbl&gt;</th></tr>\n",
       "</thead>\n",
       "<tbody>\n",
       "\t<tr><td>0</td><td>17.095238</td><td>0.02506964</td></tr>\n",
       "\t<tr><td>1</td><td> 8.666667</td><td>0.11538462</td></tr>\n",
       "</tbody>\n",
       "</table>\n"
      ],
      "text/latex": [
       "A tibble: 2 × 3\n",
       "\\begin{tabular}{lll}\n",
       " rx & T & h\\\\\n",
       " <dbl> & <dbl> & <dbl>\\\\\n",
       "\\hline\n",
       "\t 0 & 17.095238 & 0.02506964\\\\\n",
       "\t 1 &  8.666667 & 0.11538462\\\\\n",
       "\\end{tabular}\n"
      ],
      "text/markdown": [
       "\n",
       "A tibble: 2 × 3\n",
       "\n",
       "| rx &lt;dbl&gt; | T &lt;dbl&gt; | h &lt;dbl&gt; |\n",
       "|---|---|---|\n",
       "| 0 | 17.095238 | 0.02506964 |\n",
       "| 1 |  8.666667 | 0.11538462 |\n",
       "\n"
      ],
      "text/plain": [
       "  rx T         h         \n",
       "1 0  17.095238 0.02506964\n",
       "2 1   8.666667 0.11538462"
      ]
     },
     "metadata": {},
     "output_type": "display_data"
    }
   ],
   "source": [
    "anderson %>% group_by(rx) %>% summarise(T = mean(time), h = sum(status) / sum(time))"
   ]
  },
  {
   "cell_type": "markdown",
   "id": "bf546bc1",
   "metadata": {},
   "source": [
    "- 치료군의 데이터를 대상으로 생존율을 계산\n",
    "# \n",
    "\n",
    "### ```survfit()```\n",
    "\n",
    "# \n",
    "\n",
    "#### **median survival (생존율이 50%인 시간)의 95% 신뢰구간**"
   ]
  },
  {
   "cell_type": "code",
   "execution_count": 6,
   "id": "d26ddebe",
   "metadata": {},
   "outputs": [
    {
     "data": {
      "text/plain": [
       "Call: survfit(formula = Surv(time, status) ~ 1, data = data)\n",
       "\n",
       "      n events median 0.95LCL 0.95UCL\n",
       "[1,] 21      9     23      16      NA"
      ]
     },
     "metadata": {},
     "output_type": "display_data"
    }
   ],
   "source": [
    "fit = survfit(Surv(time, status) ~ 1, data = data)\n",
    "fit "
   ]
  },
  {
   "cell_type": "markdown",
   "id": "be27b6b7",
   "metadata": {},
   "source": [
    "# \n",
    "- 각 시점별 생존율과 95% 신뢰구간"
   ]
  },
  {
   "cell_type": "code",
   "execution_count": 7,
   "id": "d22a7a6f",
   "metadata": {},
   "outputs": [
    {
     "data": {
      "text/html": [
       "<table class=\"dataframe\">\n",
       "<caption>A tibble: 16 × 8</caption>\n",
       "<thead>\n",
       "\t<tr><th scope=col>time</th><th scope=col>n.risk</th><th scope=col>n.event</th><th scope=col>n.censor</th><th scope=col>estimate</th><th scope=col>std.error</th><th scope=col>conf.high</th><th scope=col>conf.low</th></tr>\n",
       "\t<tr><th scope=col>&lt;dbl&gt;</th><th scope=col>&lt;dbl&gt;</th><th scope=col>&lt;dbl&gt;</th><th scope=col>&lt;dbl&gt;</th><th scope=col>&lt;dbl&gt;</th><th scope=col>&lt;dbl&gt;</th><th scope=col>&lt;dbl&gt;</th><th scope=col>&lt;dbl&gt;</th></tr>\n",
       "</thead>\n",
       "<tbody>\n",
       "\t<tr><td> 6</td><td>21</td><td>3</td><td>1</td><td>0.8571429</td><td>0.08908708</td><td>1.0000000</td><td>0.7198171</td></tr>\n",
       "\t<tr><td> 7</td><td>17</td><td>1</td><td>0</td><td>0.8067227</td><td>0.10776353</td><td>0.9964437</td><td>0.6531242</td></tr>\n",
       "\t<tr><td> 9</td><td>16</td><td>0</td><td>1</td><td>0.8067227</td><td>0.10776353</td><td>0.9964437</td><td>0.6531242</td></tr>\n",
       "\t<tr><td>10</td><td>15</td><td>1</td><td>1</td><td>0.7529412</td><td>0.12796438</td><td>0.9675748</td><td>0.5859190</td></tr>\n",
       "\t<tr><td>11</td><td>13</td><td>0</td><td>1</td><td>0.7529412</td><td>0.12796438</td><td>0.9675748</td><td>0.5859190</td></tr>\n",
       "\t<tr><td>13</td><td>12</td><td>1</td><td>0</td><td>0.6901961</td><td>0.15475995</td><td>0.9347692</td><td>0.5096131</td></tr>\n",
       "\t<tr><td>16</td><td>11</td><td>1</td><td>0</td><td>0.6274510</td><td>0.18177335</td><td>0.8959949</td><td>0.4393939</td></tr>\n",
       "\t<tr><td>17</td><td>10</td><td>0</td><td>1</td><td>0.6274510</td><td>0.18177335</td><td>0.8959949</td><td>0.4393939</td></tr>\n",
       "\t<tr><td>19</td><td> 9</td><td>0</td><td>1</td><td>0.6274510</td><td>0.18177335</td><td>0.8959949</td><td>0.4393939</td></tr>\n",
       "\t<tr><td>20</td><td> 8</td><td>0</td><td>1</td><td>0.6274510</td><td>0.18177335</td><td>0.8959949</td><td>0.4393939</td></tr>\n",
       "\t<tr><td>22</td><td> 7</td><td>1</td><td>0</td><td>0.5378151</td><td>0.23843463</td><td>0.8582008</td><td>0.3370366</td></tr>\n",
       "\t<tr><td>23</td><td> 6</td><td>1</td><td>0</td><td>0.4481793</td><td>0.30030719</td><td>0.8073720</td><td>0.2487882</td></tr>\n",
       "\t<tr><td>25</td><td> 5</td><td>0</td><td>1</td><td>0.4481793</td><td>0.30030719</td><td>0.8073720</td><td>0.2487882</td></tr>\n",
       "\t<tr><td>32</td><td> 4</td><td>0</td><td>2</td><td>0.4481793</td><td>0.30030719</td><td>0.8073720</td><td>0.2487882</td></tr>\n",
       "\t<tr><td>34</td><td> 2</td><td>0</td><td>1</td><td>0.4481793</td><td>0.30030719</td><td>0.8073720</td><td>0.2487882</td></tr>\n",
       "\t<tr><td>35</td><td> 1</td><td>0</td><td>1</td><td>0.4481793</td><td>0.30030719</td><td>0.8073720</td><td>0.2487882</td></tr>\n",
       "</tbody>\n",
       "</table>\n"
      ],
      "text/latex": [
       "A tibble: 16 × 8\n",
       "\\begin{tabular}{llllllll}\n",
       " time & n.risk & n.event & n.censor & estimate & std.error & conf.high & conf.low\\\\\n",
       " <dbl> & <dbl> & <dbl> & <dbl> & <dbl> & <dbl> & <dbl> & <dbl>\\\\\n",
       "\\hline\n",
       "\t  6 & 21 & 3 & 1 & 0.8571429 & 0.08908708 & 1.0000000 & 0.7198171\\\\\n",
       "\t  7 & 17 & 1 & 0 & 0.8067227 & 0.10776353 & 0.9964437 & 0.6531242\\\\\n",
       "\t  9 & 16 & 0 & 1 & 0.8067227 & 0.10776353 & 0.9964437 & 0.6531242\\\\\n",
       "\t 10 & 15 & 1 & 1 & 0.7529412 & 0.12796438 & 0.9675748 & 0.5859190\\\\\n",
       "\t 11 & 13 & 0 & 1 & 0.7529412 & 0.12796438 & 0.9675748 & 0.5859190\\\\\n",
       "\t 13 & 12 & 1 & 0 & 0.6901961 & 0.15475995 & 0.9347692 & 0.5096131\\\\\n",
       "\t 16 & 11 & 1 & 0 & 0.6274510 & 0.18177335 & 0.8959949 & 0.4393939\\\\\n",
       "\t 17 & 10 & 0 & 1 & 0.6274510 & 0.18177335 & 0.8959949 & 0.4393939\\\\\n",
       "\t 19 &  9 & 0 & 1 & 0.6274510 & 0.18177335 & 0.8959949 & 0.4393939\\\\\n",
       "\t 20 &  8 & 0 & 1 & 0.6274510 & 0.18177335 & 0.8959949 & 0.4393939\\\\\n",
       "\t 22 &  7 & 1 & 0 & 0.5378151 & 0.23843463 & 0.8582008 & 0.3370366\\\\\n",
       "\t 23 &  6 & 1 & 0 & 0.4481793 & 0.30030719 & 0.8073720 & 0.2487882\\\\\n",
       "\t 25 &  5 & 0 & 1 & 0.4481793 & 0.30030719 & 0.8073720 & 0.2487882\\\\\n",
       "\t 32 &  4 & 0 & 2 & 0.4481793 & 0.30030719 & 0.8073720 & 0.2487882\\\\\n",
       "\t 34 &  2 & 0 & 1 & 0.4481793 & 0.30030719 & 0.8073720 & 0.2487882\\\\\n",
       "\t 35 &  1 & 0 & 1 & 0.4481793 & 0.30030719 & 0.8073720 & 0.2487882\\\\\n",
       "\\end{tabular}\n"
      ],
      "text/markdown": [
       "\n",
       "A tibble: 16 × 8\n",
       "\n",
       "| time &lt;dbl&gt; | n.risk &lt;dbl&gt; | n.event &lt;dbl&gt; | n.censor &lt;dbl&gt; | estimate &lt;dbl&gt; | std.error &lt;dbl&gt; | conf.high &lt;dbl&gt; | conf.low &lt;dbl&gt; |\n",
       "|---|---|---|---|---|---|---|---|\n",
       "|  6 | 21 | 3 | 1 | 0.8571429 | 0.08908708 | 1.0000000 | 0.7198171 |\n",
       "|  7 | 17 | 1 | 0 | 0.8067227 | 0.10776353 | 0.9964437 | 0.6531242 |\n",
       "|  9 | 16 | 0 | 1 | 0.8067227 | 0.10776353 | 0.9964437 | 0.6531242 |\n",
       "| 10 | 15 | 1 | 1 | 0.7529412 | 0.12796438 | 0.9675748 | 0.5859190 |\n",
       "| 11 | 13 | 0 | 1 | 0.7529412 | 0.12796438 | 0.9675748 | 0.5859190 |\n",
       "| 13 | 12 | 1 | 0 | 0.6901961 | 0.15475995 | 0.9347692 | 0.5096131 |\n",
       "| 16 | 11 | 1 | 0 | 0.6274510 | 0.18177335 | 0.8959949 | 0.4393939 |\n",
       "| 17 | 10 | 0 | 1 | 0.6274510 | 0.18177335 | 0.8959949 | 0.4393939 |\n",
       "| 19 |  9 | 0 | 1 | 0.6274510 | 0.18177335 | 0.8959949 | 0.4393939 |\n",
       "| 20 |  8 | 0 | 1 | 0.6274510 | 0.18177335 | 0.8959949 | 0.4393939 |\n",
       "| 22 |  7 | 1 | 0 | 0.5378151 | 0.23843463 | 0.8582008 | 0.3370366 |\n",
       "| 23 |  6 | 1 | 0 | 0.4481793 | 0.30030719 | 0.8073720 | 0.2487882 |\n",
       "| 25 |  5 | 0 | 1 | 0.4481793 | 0.30030719 | 0.8073720 | 0.2487882 |\n",
       "| 32 |  4 | 0 | 2 | 0.4481793 | 0.30030719 | 0.8073720 | 0.2487882 |\n",
       "| 34 |  2 | 0 | 1 | 0.4481793 | 0.30030719 | 0.8073720 | 0.2487882 |\n",
       "| 35 |  1 | 0 | 1 | 0.4481793 | 0.30030719 | 0.8073720 | 0.2487882 |\n",
       "\n"
      ],
      "text/plain": [
       "   time n.risk n.event n.censor estimate  std.error  conf.high conf.low \n",
       "1   6   21     3       1        0.8571429 0.08908708 1.0000000 0.7198171\n",
       "2   7   17     1       0        0.8067227 0.10776353 0.9964437 0.6531242\n",
       "3   9   16     0       1        0.8067227 0.10776353 0.9964437 0.6531242\n",
       "4  10   15     1       1        0.7529412 0.12796438 0.9675748 0.5859190\n",
       "5  11   13     0       1        0.7529412 0.12796438 0.9675748 0.5859190\n",
       "6  13   12     1       0        0.6901961 0.15475995 0.9347692 0.5096131\n",
       "7  16   11     1       0        0.6274510 0.18177335 0.8959949 0.4393939\n",
       "8  17   10     0       1        0.6274510 0.18177335 0.8959949 0.4393939\n",
       "9  19    9     0       1        0.6274510 0.18177335 0.8959949 0.4393939\n",
       "10 20    8     0       1        0.6274510 0.18177335 0.8959949 0.4393939\n",
       "11 22    7     1       0        0.5378151 0.23843463 0.8582008 0.3370366\n",
       "12 23    6     1       0        0.4481793 0.30030719 0.8073720 0.2487882\n",
       "13 25    5     0       1        0.4481793 0.30030719 0.8073720 0.2487882\n",
       "14 32    4     0       2        0.4481793 0.30030719 0.8073720 0.2487882\n",
       "15 34    2     0       1        0.4481793 0.30030719 0.8073720 0.2487882\n",
       "16 35    1     0       1        0.4481793 0.30030719 0.8073720 0.2487882"
      ]
     },
     "metadata": {},
     "output_type": "display_data"
    }
   ],
   "source": [
    "tidy(fit)"
   ]
  },
  {
   "cell_type": "markdown",
   "id": "d6c759e2",
   "metadata": {},
   "source": [
    "# \n",
    "#### 생존율의 95% 신뢰구간\n",
    "#### $\\hat{S}(t)\\pm 1.96\\times \\sqrt{\\hat{Var}(\\hat{S}(t))}$\n",
    "\n",
    "# \n",
    "#### 생존율의 추정분산 $\\hat{Var}(\\hat{S}(t))$\n",
    "#### $\\hat{Var}(\\hat{S}(t)) = (\\hat{S}(t))^2 \\;\\times\\; \\sum_{f:\\;t_{f} \\leq t} \\;[{(m_f)\\over {n_f (n_f - m_f)}}]$\n",
    "- $t_{(f)}$ : 실패시간\n",
    "- $m_{f}$ : $t_f$에서의 실패수\n",
    "- $n_f$ : t_{(f)}에서의 number at risk"
   ]
  },
  {
   "cell_type": "markdown",
   "id": "d86fd173",
   "metadata": {},
   "source": [
    "# \n",
    "# \n",
    "### 생존율 계산 원리\n",
    "\n",
    "| time | n.risk | n.event | n.censor |  | surv |\n",
    "| - | - | - | - | - | - |\n",
    "| 0 | 21 | 0 | 0 |  | 1.0 |\n",
    "| 6 | 21 | 3 | 1 | $1.0\\;\\times\\;(18\\div21)$ | 0.8571 |\n",
    "| 7 | 17 | 1 | 0 | $0.8571\\;\\times\\;(16\\div17)$ | 0.8067 |\n",
    "| 10 | 15 | 1 | 2 | $0.8067\\;\\times\\;(14\\div15)$ | 0.7529 |\n",
    "| 13 | 12 | 1 | 1 | $0.7529\\;\\times\\;(11\\div12)$ | 0.6902 |\n",
    "| 16 | 11 | 1 | 0 | $0.6902\\;\\times\\;(10\\div11)$ | 0.6275 |\n",
    "| 22 | 7 | 1 | 3 | $0.6275\\;\\times\\;(6\\div7)$ | 0.5378 |\n",
    "| 23 | 6 | 1 | 0 | $0.5378\\;\\times\\;(5\\div6)$ | 0.4482 |\n",
    "\n",
    "# \n",
    "\n",
    "- 연구 시작 시점에서 대상환자수(number at risk, ```n.risk```) = 21\n",
    "    - 이벤트가 발생하지 않았으므로 (```n.event``` = 0)\n",
    "- 6주째에 3명에게 이벤트가 발생 -> 6주차의 **```n.risk``` = 21** => 이벤트가 발생한 3명을 제외하고 18명 생존\n",
    "    - **6주차의 생존율 : $\\hat{S}(6) = 1 \\; \\times {{(21-3)} \\over {21}} = 1\\times {18 \\over 21} = 0.8571$** = $P(T > 6 | T \\geq 6) = {18 \\over 21}$ = **6주까지 살아 있는 사람 중 6주를 초과하여 살아 있는 사람의 비율**\n",
    "\n",
    "- 13주차의 생존율 : $\\hat{S}(13) = 1\\;\\times\\;{18 \\over 21} \\times {16 \\over 17} \\times {14 \\over 15} \\times {11 \\over 12} = 0.6902$"
   ]
  },
  {
   "cell_type": "code",
   "execution_count": 15,
   "id": "0797dbb1",
   "metadata": {},
   "outputs": [
    {
     "data": {
      "image/png": "[encoded data removed]",
      "text/plain": [
       "plot without title"
      ]
     },
     "metadata": {
      "image/png": {
       "height": 420,
       "width": 420
      }
     },
     "output_type": "display_data"
    }
   ],
   "source": [
    "ggsurvplot(fit, data=data)"
   ]
  },
  {
   "cell_type": "markdown",
   "id": "e91f99d3",
   "metadata": {},
   "source": [
    "# \n",
    "#### KM 생존율의 일반화\n",
    "- **f번째 시간 $t_{f}$의 생존율 : 그 시간 전까지의 추정생존율에 조건부확률을 곱한 값**\n",
    "#### $\\hat{S}(t_{(f)}) = \\hat{S}(t_{(f-1)}) \\times \\hat{P}(T > t_{(f)} | T \\geq t_{(f)})$ \n",
    "\n",
    "# \n",
    "\n",
    "#### KM 생존율 승법극한추정량 (product limit estimator)\n",
    "#### $\\hat{S}(t_{(f)}) = \\Pi^f_{i=1}\\hat{P}(T > t_{(f)}|T \\geq t_{(f)})$"
   ]
  },
  {
   "cell_type": "markdown",
   "id": "882967d3",
   "metadata": {},
   "source": [
    "# \n",
    "# \n",
    "### 3-2 로그순위검정\n",
    "#### 두 군 간의 KM 생존곡선 비교\n",
    "\n",
    "# \n",
    "### 로그순위검정(log-rank test) : 2개의 생존곡선이 통계적으로 동등한지 검정\n",
    "#### 귀무가설 : 두 곡선은 동등하다\n",
    "\n",
    "# \n",
    "\n",
    "- **2개의 생존곡선이 통계적으로 동등하다는 것은 true survival curve가 다르다는 근거가 없다는 뜻**\n",
    "- 로그순위검정은 2개의 생존곡선을 전체적으로 비교하기 위해,**각각의 시간에서 두 군의 기대값과 관찰값의 차이를 구하여, 검정통계량을 계산하는 카이제곱 검정**"
   ]
  },
  {
   "cell_type": "code",
   "execution_count": 17,
   "id": "3c113203",
   "metadata": {},
   "outputs": [],
   "source": [
    "fit1 = survfit(Surv(time, status) ~ rx, data = anderson1)"
   ]
  },
  {
   "cell_type": "code",
   "execution_count": 18,
   "id": "44fa4974",
   "metadata": {},
   "outputs": [
    {
     "data": {
      "text/html": [
       "<table class=\"dataframe\">\n",
       "<caption>A tibble: 28 × 9</caption>\n",
       "<thead>\n",
       "\t<tr><th scope=col>time</th><th scope=col>n.risk</th><th scope=col>n.event</th><th scope=col>n.censor</th><th scope=col>estimate</th><th scope=col>std.error</th><th scope=col>conf.high</th><th scope=col>conf.low</th><th scope=col>strata</th></tr>\n",
       "\t<tr><th scope=col>&lt;dbl&gt;</th><th scope=col>&lt;dbl&gt;</th><th scope=col>&lt;dbl&gt;</th><th scope=col>&lt;dbl&gt;</th><th scope=col>&lt;dbl&gt;</th><th scope=col>&lt;dbl&gt;</th><th scope=col>&lt;dbl&gt;</th><th scope=col>&lt;dbl&gt;</th><th scope=col>&lt;chr&gt;</th></tr>\n",
       "</thead>\n",
       "<tbody>\n",
       "\t<tr><td> 6</td><td>21</td><td>3</td><td>1</td><td>0.85714286</td><td>0.08908708</td><td>1.0000000</td><td>0.71981708</td><td>rx=Treatment</td></tr>\n",
       "\t<tr><td> 7</td><td>17</td><td>1</td><td>0</td><td>0.80672269</td><td>0.10776353</td><td>0.9964437</td><td>0.65312422</td><td>rx=Treatment</td></tr>\n",
       "\t<tr><td> 9</td><td>16</td><td>0</td><td>1</td><td>0.80672269</td><td>0.10776353</td><td>0.9964437</td><td>0.65312422</td><td>rx=Treatment</td></tr>\n",
       "\t<tr><td>10</td><td>15</td><td>1</td><td>1</td><td>0.75294118</td><td>0.12796438</td><td>0.9675748</td><td>0.58591898</td><td>rx=Treatment</td></tr>\n",
       "\t<tr><td>11</td><td>13</td><td>0</td><td>1</td><td>0.75294118</td><td>0.12796438</td><td>0.9675748</td><td>0.58591898</td><td>rx=Treatment</td></tr>\n",
       "\t<tr><td>13</td><td>12</td><td>1</td><td>0</td><td>0.69019608</td><td>0.15475995</td><td>0.9347692</td><td>0.50961310</td><td>rx=Treatment</td></tr>\n",
       "\t<tr><td>16</td><td>11</td><td>1</td><td>0</td><td>0.62745098</td><td>0.18177335</td><td>0.8959949</td><td>0.43939392</td><td>rx=Treatment</td></tr>\n",
       "\t<tr><td>17</td><td>10</td><td>0</td><td>1</td><td>0.62745098</td><td>0.18177335</td><td>0.8959949</td><td>0.43939392</td><td>rx=Treatment</td></tr>\n",
       "\t<tr><td>19</td><td> 9</td><td>0</td><td>1</td><td>0.62745098</td><td>0.18177335</td><td>0.8959949</td><td>0.43939392</td><td>rx=Treatment</td></tr>\n",
       "\t<tr><td>20</td><td> 8</td><td>0</td><td>1</td><td>0.62745098</td><td>0.18177335</td><td>0.8959949</td><td>0.43939392</td><td>rx=Treatment</td></tr>\n",
       "\t<tr><td>22</td><td> 7</td><td>1</td><td>0</td><td>0.53781513</td><td>0.23843463</td><td>0.8582008</td><td>0.33703662</td><td>rx=Treatment</td></tr>\n",
       "\t<tr><td>23</td><td> 6</td><td>1</td><td>0</td><td>0.44817927</td><td>0.30030719</td><td>0.8073720</td><td>0.24878823</td><td>rx=Treatment</td></tr>\n",
       "\t<tr><td>25</td><td> 5</td><td>0</td><td>1</td><td>0.44817927</td><td>0.30030719</td><td>0.8073720</td><td>0.24878823</td><td>rx=Treatment</td></tr>\n",
       "\t<tr><td>32</td><td> 4</td><td>0</td><td>2</td><td>0.44817927</td><td>0.30030719</td><td>0.8073720</td><td>0.24878823</td><td>rx=Treatment</td></tr>\n",
       "\t<tr><td>34</td><td> 2</td><td>0</td><td>1</td><td>0.44817927</td><td>0.30030719</td><td>0.8073720</td><td>0.24878823</td><td>rx=Treatment</td></tr>\n",
       "\t<tr><td>35</td><td> 1</td><td>0</td><td>1</td><td>0.44817927</td><td>0.30030719</td><td>0.8073720</td><td>0.24878823</td><td>rx=Treatment</td></tr>\n",
       "\t<tr><td> 1</td><td>21</td><td>2</td><td>0</td><td>0.90476190</td><td>0.07079923</td><td>1.0000000</td><td>0.78753505</td><td>rx=Control  </td></tr>\n",
       "\t<tr><td> 2</td><td>19</td><td>2</td><td>0</td><td>0.80952381</td><td>0.10585122</td><td>0.9961629</td><td>0.65785306</td><td>rx=Control  </td></tr>\n",
       "\t<tr><td> 3</td><td>17</td><td>1</td><td>0</td><td>0.76190476</td><td>0.12198751</td><td>0.9676909</td><td>0.59988048</td><td>rx=Control  </td></tr>\n",
       "\t<tr><td> 4</td><td>16</td><td>2</td><td>0</td><td>0.66666667</td><td>0.15430335</td><td>0.9020944</td><td>0.49268063</td><td>rx=Control  </td></tr>\n",
       "\t<tr><td> 5</td><td>14</td><td>2</td><td>0</td><td>0.57142857</td><td>0.18898224</td><td>0.8276066</td><td>0.39454812</td><td>rx=Control  </td></tr>\n",
       "\t<tr><td> 8</td><td>12</td><td>4</td><td>0</td><td>0.38095238</td><td>0.27817432</td><td>0.6571327</td><td>0.22084536</td><td>rx=Control  </td></tr>\n",
       "\t<tr><td>11</td><td> 8</td><td>2</td><td>0</td><td>0.28571429</td><td>0.34503278</td><td>0.5618552</td><td>0.14529127</td><td>rx=Control  </td></tr>\n",
       "\t<tr><td>12</td><td> 6</td><td>2</td><td>0</td><td>0.19047619</td><td>0.44986771</td><td>0.4600116</td><td>0.07887014</td><td>rx=Control  </td></tr>\n",
       "\t<tr><td>15</td><td> 4</td><td>1</td><td>0</td><td>0.14285714</td><td>0.53452248</td><td>0.4072755</td><td>0.05010898</td><td>rx=Control  </td></tr>\n",
       "\t<tr><td>17</td><td> 3</td><td>1</td><td>0</td><td>0.09523810</td><td>0.67259271</td><td>0.3558956</td><td>0.02548583</td><td>rx=Control  </td></tr>\n",
       "\t<tr><td>22</td><td> 2</td><td>1</td><td>0</td><td>0.04761905</td><td>0.97590007</td><td>0.3224544</td><td>0.00703223</td><td>rx=Control  </td></tr>\n",
       "\t<tr><td>23</td><td> 1</td><td>1</td><td>0</td><td>0.00000000</td><td>       Inf</td><td>       NA</td><td>        NA</td><td>rx=Control  </td></tr>\n",
       "</tbody>\n",
       "</table>\n"
      ],
      "text/latex": [
       "A tibble: 28 × 9\n",
       "\\begin{tabular}{lllllllll}\n",
       " time & n.risk & n.event & n.censor & estimate & std.error & conf.high & conf.low & strata\\\\\n",
       " <dbl> & <dbl> & <dbl> & <dbl> & <dbl> & <dbl> & <dbl> & <dbl> & <chr>\\\\\n",
       "\\hline\n",
       "\t  6 & 21 & 3 & 1 & 0.85714286 & 0.08908708 & 1.0000000 & 0.71981708 & rx=Treatment\\\\\n",
       "\t  7 & 17 & 1 & 0 & 0.80672269 & 0.10776353 & 0.9964437 & 0.65312422 & rx=Treatment\\\\\n",
       "\t  9 & 16 & 0 & 1 & 0.80672269 & 0.10776353 & 0.9964437 & 0.65312422 & rx=Treatment\\\\\n",
       "\t 10 & 15 & 1 & 1 & 0.75294118 & 0.12796438 & 0.9675748 & 0.58591898 & rx=Treatment\\\\\n",
       "\t 11 & 13 & 0 & 1 & 0.75294118 & 0.12796438 & 0.9675748 & 0.58591898 & rx=Treatment\\\\\n",
       "\t 13 & 12 & 1 & 0 & 0.69019608 & 0.15475995 & 0.9347692 & 0.50961310 & rx=Treatment\\\\\n",
       "\t 16 & 11 & 1 & 0 & 0.62745098 & 0.18177335 & 0.8959949 & 0.43939392 & rx=Treatment\\\\\n",
       "\t 17 & 10 & 0 & 1 & 0.62745098 & 0.18177335 & 0.8959949 & 0.43939392 & rx=Treatment\\\\\n",
       "\t 19 &  9 & 0 & 1 & 0.62745098 & 0.18177335 & 0.8959949 & 0.43939392 & rx=Treatment\\\\\n",
       "\t 20 &  8 & 0 & 1 & 0.62745098 & 0.18177335 & 0.8959949 & 0.43939392 & rx=Treatment\\\\\n",
       "\t 22 &  7 & 1 & 0 & 0.53781513 & 0.23843463 & 0.8582008 & 0.33703662 & rx=Treatment\\\\\n",
       "\t 23 &  6 & 1 & 0 & 0.44817927 & 0.30030719 & 0.8073720 & 0.24878823 & rx=Treatment\\\\\n",
       "\t 25 &  5 & 0 & 1 & 0.44817927 & 0.30030719 & 0.8073720 & 0.24878823 & rx=Treatment\\\\\n",
       "\t 32 &  4 & 0 & 2 & 0.44817927 & 0.30030719 & 0.8073720 & 0.24878823 & rx=Treatment\\\\\n",
       "\t 34 &  2 & 0 & 1 & 0.44817927 & 0.30030719 & 0.8073720 & 0.24878823 & rx=Treatment\\\\\n",
       "\t 35 &  1 & 0 & 1 & 0.44817927 & 0.30030719 & 0.8073720 & 0.24878823 & rx=Treatment\\\\\n",
       "\t  1 & 21 & 2 & 0 & 0.90476190 & 0.07079923 & 1.0000000 & 0.78753505 & rx=Control  \\\\\n",
       "\t  2 & 19 & 2 & 0 & 0.80952381 & 0.10585122 & 0.9961629 & 0.65785306 & rx=Control  \\\\\n",
       "\t  3 & 17 & 1 & 0 & 0.76190476 & 0.12198751 & 0.9676909 & 0.59988048 & rx=Control  \\\\\n",
       "\t  4 & 16 & 2 & 0 & 0.66666667 & 0.15430335 & 0.9020944 & 0.49268063 & rx=Control  \\\\\n",
       "\t  5 & 14 & 2 & 0 & 0.57142857 & 0.18898224 & 0.8276066 & 0.39454812 & rx=Control  \\\\\n",
       "\t  8 & 12 & 4 & 0 & 0.38095238 & 0.27817432 & 0.6571327 & 0.22084536 & rx=Control  \\\\\n",
       "\t 11 &  8 & 2 & 0 & 0.28571429 & 0.34503278 & 0.5618552 & 0.14529127 & rx=Control  \\\\\n",
       "\t 12 &  6 & 2 & 0 & 0.19047619 & 0.44986771 & 0.4600116 & 0.07887014 & rx=Control  \\\\\n",
       "\t 15 &  4 & 1 & 0 & 0.14285714 & 0.53452248 & 0.4072755 & 0.05010898 & rx=Control  \\\\\n",
       "\t 17 &  3 & 1 & 0 & 0.09523810 & 0.67259271 & 0.3558956 & 0.02548583 & rx=Control  \\\\\n",
       "\t 22 &  2 & 1 & 0 & 0.04761905 & 0.97590007 & 0.3224544 & 0.00703223 & rx=Control  \\\\\n",
       "\t 23 &  1 & 1 & 0 & 0.00000000 &        Inf &        NA &         NA & rx=Control  \\\\\n",
       "\\end{tabular}\n"
      ],
      "text/markdown": [
       "\n",
       "A tibble: 28 × 9\n",
       "\n",
       "| time &lt;dbl&gt; | n.risk &lt;dbl&gt; | n.event &lt;dbl&gt; | n.censor &lt;dbl&gt; | estimate &lt;dbl&gt; | std.error &lt;dbl&gt; | conf.high &lt;dbl&gt; | conf.low &lt;dbl&gt; | strata &lt;chr&gt; |\n",
       "|---|---|---|---|---|---|---|---|---|\n",
       "|  6 | 21 | 3 | 1 | 0.85714286 | 0.08908708 | 1.0000000 | 0.71981708 | rx=Treatment |\n",
       "|  7 | 17 | 1 | 0 | 0.80672269 | 0.10776353 | 0.9964437 | 0.65312422 | rx=Treatment |\n",
       "|  9 | 16 | 0 | 1 | 0.80672269 | 0.10776353 | 0.9964437 | 0.65312422 | rx=Treatment |\n",
       "| 10 | 15 | 1 | 1 | 0.75294118 | 0.12796438 | 0.9675748 | 0.58591898 | rx=Treatment |\n",
       "| 11 | 13 | 0 | 1 | 0.75294118 | 0.12796438 | 0.9675748 | 0.58591898 | rx=Treatment |\n",
       "| 13 | 12 | 1 | 0 | 0.69019608 | 0.15475995 | 0.9347692 | 0.50961310 | rx=Treatment |\n",
       "| 16 | 11 | 1 | 0 | 0.62745098 | 0.18177335 | 0.8959949 | 0.43939392 | rx=Treatment |\n",
       "| 17 | 10 | 0 | 1 | 0.62745098 | 0.18177335 | 0.8959949 | 0.43939392 | rx=Treatment |\n",
       "| 19 |  9 | 0 | 1 | 0.62745098 | 0.18177335 | 0.8959949 | 0.43939392 | rx=Treatment |\n",
       "| 20 |  8 | 0 | 1 | 0.62745098 | 0.18177335 | 0.8959949 | 0.43939392 | rx=Treatment |\n",
       "| 22 |  7 | 1 | 0 | 0.53781513 | 0.23843463 | 0.8582008 | 0.33703662 | rx=Treatment |\n",
       "| 23 |  6 | 1 | 0 | 0.44817927 | 0.30030719 | 0.8073720 | 0.24878823 | rx=Treatment |\n",
       "| 25 |  5 | 0 | 1 | 0.44817927 | 0.30030719 | 0.8073720 | 0.24878823 | rx=Treatment |\n",
       "| 32 |  4 | 0 | 2 | 0.44817927 | 0.30030719 | 0.8073720 | 0.24878823 | rx=Treatment |\n",
       "| 34 |  2 | 0 | 1 | 0.44817927 | 0.30030719 | 0.8073720 | 0.24878823 | rx=Treatment |\n",
       "| 35 |  1 | 0 | 1 | 0.44817927 | 0.30030719 | 0.8073720 | 0.24878823 | rx=Treatment |\n",
       "|  1 | 21 | 2 | 0 | 0.90476190 | 0.07079923 | 1.0000000 | 0.78753505 | rx=Control   |\n",
       "|  2 | 19 | 2 | 0 | 0.80952381 | 0.10585122 | 0.9961629 | 0.65785306 | rx=Control   |\n",
       "|  3 | 17 | 1 | 0 | 0.76190476 | 0.12198751 | 0.9676909 | 0.59988048 | rx=Control   |\n",
       "|  4 | 16 | 2 | 0 | 0.66666667 | 0.15430335 | 0.9020944 | 0.49268063 | rx=Control   |\n",
       "|  5 | 14 | 2 | 0 | 0.57142857 | 0.18898224 | 0.8276066 | 0.39454812 | rx=Control   |\n",
       "|  8 | 12 | 4 | 0 | 0.38095238 | 0.27817432 | 0.6571327 | 0.22084536 | rx=Control   |\n",
       "| 11 |  8 | 2 | 0 | 0.28571429 | 0.34503278 | 0.5618552 | 0.14529127 | rx=Control   |\n",
       "| 12 |  6 | 2 | 0 | 0.19047619 | 0.44986771 | 0.4600116 | 0.07887014 | rx=Control   |\n",
       "| 15 |  4 | 1 | 0 | 0.14285714 | 0.53452248 | 0.4072755 | 0.05010898 | rx=Control   |\n",
       "| 17 |  3 | 1 | 0 | 0.09523810 | 0.67259271 | 0.3558956 | 0.02548583 | rx=Control   |\n",
       "| 22 |  2 | 1 | 0 | 0.04761905 | 0.97590007 | 0.3224544 | 0.00703223 | rx=Control   |\n",
       "| 23 |  1 | 1 | 0 | 0.00000000 |        Inf |        NA |         NA | rx=Control   |\n",
       "\n"
      ],
      "text/plain": [
       "   time n.risk n.event n.censor estimate   std.error  conf.high conf.low  \n",
       "1   6   21     3       1        0.85714286 0.08908708 1.0000000 0.71981708\n",
       "2   7   17     1       0        0.80672269 0.10776353 0.9964437 0.65312422\n",
       "3   9   16     0       1        0.80672269 0.10776353 0.9964437 0.65312422\n",
       "4  10   15     1       1        0.75294118 0.12796438 0.9675748 0.58591898\n",
       "5  11   13     0       1        0.75294118 0.12796438 0.9675748 0.58591898\n",
       "6  13   12     1       0        0.69019608 0.15475995 0.9347692 0.50961310\n",
       "7  16   11     1       0        0.62745098 0.18177335 0.8959949 0.43939392\n",
       "8  17   10     0       1        0.62745098 0.18177335 0.8959949 0.43939392\n",
       "9  19    9     0       1        0.62745098 0.18177335 0.8959949 0.43939392\n",
       "10 20    8     0       1        0.62745098 0.18177335 0.8959949 0.43939392\n",
       "11 22    7     1       0        0.53781513 0.23843463 0.8582008 0.33703662\n",
       "12 23    6     1       0        0.44817927 0.30030719 0.8073720 0.24878823\n",
       "13 25    5     0       1        0.44817927 0.30030719 0.8073720 0.24878823\n",
       "14 32    4     0       2        0.44817927 0.30030719 0.8073720 0.24878823\n",
       "15 34    2     0       1        0.44817927 0.30030719 0.8073720 0.24878823\n",
       "16 35    1     0       1        0.44817927 0.30030719 0.8073720 0.24878823\n",
       "17  1   21     2       0        0.90476190 0.07079923 1.0000000 0.78753505\n",
       "18  2   19     2       0        0.80952381 0.10585122 0.9961629 0.65785306\n",
       "19  3   17     1       0        0.76190476 0.12198751 0.9676909 0.59988048\n",
       "20  4   16     2       0        0.66666667 0.15430335 0.9020944 0.49268063\n",
       "21  5   14     2       0        0.57142857 0.18898224 0.8276066 0.39454812\n",
       "22  8   12     4       0        0.38095238 0.27817432 0.6571327 0.22084536\n",
       "23 11    8     2       0        0.28571429 0.34503278 0.5618552 0.14529127\n",
       "24 12    6     2       0        0.19047619 0.44986771 0.4600116 0.07887014\n",
       "25 15    4     1       0        0.14285714 0.53452248 0.4072755 0.05010898\n",
       "26 17    3     1       0        0.09523810 0.67259271 0.3558956 0.02548583\n",
       "27 22    2     1       0        0.04761905 0.97590007 0.3224544 0.00703223\n",
       "28 23    1     1       0        0.00000000        Inf        NA         NA\n",
       "   strata      \n",
       "1  rx=Treatment\n",
       "2  rx=Treatment\n",
       "3  rx=Treatment\n",
       "4  rx=Treatment\n",
       "5  rx=Treatment\n",
       "6  rx=Treatment\n",
       "7  rx=Treatment\n",
       "8  rx=Treatment\n",
       "9  rx=Treatment\n",
       "10 rx=Treatment\n",
       "11 rx=Treatment\n",
       "12 rx=Treatment\n",
       "13 rx=Treatment\n",
       "14 rx=Treatment\n",
       "15 rx=Treatment\n",
       "16 rx=Treatment\n",
       "17 rx=Control  \n",
       "18 rx=Control  \n",
       "19 rx=Control  \n",
       "20 rx=Control  \n",
       "21 rx=Control  \n",
       "22 rx=Control  \n",
       "23 rx=Control  \n",
       "24 rx=Control  \n",
       "25 rx=Control  \n",
       "26 rx=Control  \n",
       "27 rx=Control  \n",
       "28 rx=Control  "
      ]
     },
     "metadata": {},
     "output_type": "display_data"
    }
   ],
   "source": [
    "tidy(fit1)"
   ]
  },
  {
   "cell_type": "markdown",
   "id": "30338dcf",
   "metadata": {},
   "source": [
    "# \n",
    "- **로그순위검정 통계량 : 16.8 (자유도 1인 카이제곱분포를 따름)**\n",
    "    - 자유도 df = n-1 (n = 군의 개수)\n",
    "- **p-value < 0.05 => 두 곡선은 동등하지 않음**"
   ]
  },
  {
   "cell_type": "markdown",
   "id": "fb686b4a",
   "metadata": {},
   "source": [
    "### ```survdiff()```"
   ]
  },
  {
   "cell_type": "code",
   "execution_count": 28,
   "id": "f001feb9",
   "metadata": {},
   "outputs": [
    {
     "data": {
      "text/plain": [
       "Call:\n",
       "survdiff(formula = Surv(time, status) ~ rx, data = anderson1)\n",
       "\n",
       "              N Observed Expected (O-E)^2/E (O-E)^2/V\n",
       "rx=Treatment 21        9     19.3      5.46      16.8\n",
       "rx=Control   21       21     10.7      9.77      16.8\n",
       "\n",
       " Chisq= 16.8  on 1 degrees of freedom, p= 4e-05 "
      ]
     },
     "metadata": {},
     "output_type": "display_data"
    },
    {
     "data": {
      "text/html": [
       "4.15333028667767e-05"
      ],
      "text/latex": [
       "4.15333028667767e-05"
      ],
      "text/markdown": [
       "4.15333028667767e-05"
      ],
      "text/plain": [
       "[1] 4.15333e-05"
      ]
     },
     "metadata": {},
     "output_type": "display_data"
    },
    {
     "data": {
      "image/png": "[encoded data removed]",
      "text/plain": [
       "plot without title"
      ]
     },
     "metadata": {
      "image/png": {
       "height": 420,
       "width": 420
      }
     },
     "output_type": "display_data"
    }
   ],
   "source": [
    "survdiff(Surv(time, status) ~ rx, anderson1)\n",
    "pchisq(16.8, df = 1, lower.tail = F)\n",
    "ggsurvplot(fit1, anderson1, pval = T)"
   ]
  },
  {
   "cell_type": "markdown",
   "id": "1a77ca50",
   "metadata": {},
   "source": [
    "# \n",
    "\n",
    "- **```t```** : 시간\n",
    "- **```f1```, ```f2```** : 대조군과 치료군의 실패 수\n",
    "- **```n1```. ```n2```** : 대조군과 치료군의 number at risk\n",
    "- **```e1f```, ```e2f```** : 대조군과 치료군에서 실패 기댓값\n",
    "    - **e1f$ = (n1 / (n1 + n2)) \\times (n1 + n2)$**\n",
    "    - **e2f$ = (n2 / (n1 + n2)) \\times (n1 + n2)$**\n",
    "- **```f1-e1f```. ```f2-e2f```** : 관찰값 - 기댓값\n",
    "- **```varOE```** : '관찰값 - 기댓값'의 분산|\n",
    "    - $Var(O_i - E_i) = {{n1n2(f1+f2)(n1+n2-f1-f2} \\over {(n1+n2)^2(n1-n2-1)}}$\n",
    "# \n",
    "\n",
    "| **f1** | **f2** | **n1** | **n2**| **e1f** | **e2f** | **f1-e1f** | **f2-e2f** | **varOE** |\n",
    "| ---- | ---- | ---- | ---- | ---- | ---- | ---- | ---- | ----: | \n",
    "| 2 | 0 | 21 | 21 | (21$\\;\\div\\;$42)$\\;\\times\\;2$ | (21$\\;\\div\\;$42)$\\;\\times\\;$2 | 1.0 | -1.0 | | 0.49 | \n",
    "| 2 | 0 | 19 | 21 | (19$\\;\\div\\;$40)$\\;\\times\\;2$ | (21$\\;\\div\\;$40)$\\;\\times\\;$2 | 1.05 | -1.05 | | 0.49 | \n",
    "| $\\vdots$ | $\\vdots$ | $\\vdots$ | $\\vdots$ | $\\vdots$ | $\\vdots$ | $\\vdots$ |$\\vdots$ | $\\vdots$ |"
   ]
  },
  {
   "cell_type": "markdown",
   "id": "64b6b3fe",
   "metadata": {},
   "source": [
    "# \n",
    "#### 로그순위검정량(log-rank statistic) : $Log-rank statistic = {{(O_2 - E_2)^2} \\over {Var(O_2 - E_2)}} = {{(-10.25)^2} \\over {6.26}} \\approx 16.79$"
   ]
  },
  {
   "cell_type": "markdown",
   "id": "130a999b",
   "metadata": {},
   "source": [
    "# \n",
    "# \n",
    "#### 세 군 이상인 경우의 로그순위검정\n",
    "**귀무가설** : 모든 생존곡선이 동등하다"
   ]
  },
  {
   "cell_type": "code",
   "execution_count": 32,
   "id": "c923132c",
   "metadata": {},
   "outputs": [
    {
     "data": {
      "text/plain": [
       "Call:\n",
       "survdiff(formula = Surv(time, status) ~ rx, data = colon)\n",
       "\n",
       "             N Observed Expected (O-E)^2/E (O-E)^2/V\n",
       "rx=Obs     630      345      299      7.01     10.40\n",
       "rx=Lev     620      333      295      4.93      7.26\n",
       "rx=Lev+5FU 608      242      326     21.61     33.54\n",
       "\n",
       " Chisq= 33.6  on 2 degrees of freedom, p= 5e-08 "
      ]
     },
     "metadata": {},
     "output_type": "display_data"
    }
   ],
   "source": [
    "data(cancer, package = \"survival\")\n",
    "survdiff(Surv(time, status) ~ rx, data = colon)"
   ]
  },
  {
   "cell_type": "markdown",
   "id": "d9550ae2",
   "metadata": {},
   "source": [
    "#### $\\chi^2 = \\sum^n_{i=1} {{(O_i - E_i)^2} \\over {E_i}}$ = 33.6"
   ]
  },
  {
   "cell_type": "code",
   "execution_count": 42,
   "id": "86c6e9ee",
   "metadata": {},
   "outputs": [
    {
     "data": {
      "image/png": "[encoded data removed]",
      "text/plain": [
       "plot without title"
      ]
     },
     "metadata": {
      "image/png": {
       "height": 420,
       "width": 420
      }
     },
     "output_type": "display_data"
    }
   ],
   "source": [
    "fit2 = survfit(Surv(time, status) ~ rx, data = colon)\n",
    "ggsurvplot(fit2, pval = T)"
   ]
  },
  {
   "cell_type": "markdown",
   "id": "81c47e7f",
   "metadata": {},
   "source": [
    "# \n",
    "# \n",
    "#### 로그순위검정의 대안\n",
    "- Wilcoxon, Tarone-Ware, Peto, Flemington-Harrington 검정 등 : 초기 실패에 더 가중치\n",
    "#### $Test\\;statistic = {{(\\sum_f w(t_f) (O_i - E_i))^2}\\over {Var(\\sum_f w(t_f)(O_i - E_i))}}$\n",
    "\n",
    "    $W(t_f) = weight\\;at\\;fth\\;failure\\;time$"
   ]
  },
  {
   "cell_type": "markdown",
   "id": "cfdae66d",
   "metadata": {},
   "source": [
    "# \n",
    "\n",
    "| Test Statistic | $w(t_f)$ |\n",
    "| - | - |\n",
    "| Log Rank | $1$ |\n",
    "| Wilcoxon | $n_f$ |\n",
    "| Tarone-Ware | $\\sqrt{n_f}$ |\n",
    "| Peto | $s(t_f)$ | \n",
    "| Flemington-Harrington | $S(t_{f1})^P\\times[1\\;-\\;S(t_{(f1)})]^q$ |"
   ]
  },
  {
   "cell_type": "markdown",
   "id": "2df86735",
   "metadata": {},
   "source": [
    "# \n",
    "- 로그순위검정 결과 귀무가설 기각 X"
   ]
  },
  {
   "cell_type": "code",
   "execution_count": 45,
   "id": "f7eb9422",
   "metadata": {},
   "outputs": [
    {
     "data": {
      "text/plain": [
       "Call:\n",
       "survdiff(formula = Surv(pfs) ~ stage, data = pancreatic2)\n",
       "\n",
       "          N Observed Expected (O-E)^2/E (O-E)^2/V\n",
       "stage=LA  8        8     12.3      1.49      2.25\n",
       "stage=M  33       33     28.7      0.64      2.25\n",
       "\n",
       " Chisq= 2.2  on 1 degrees of freedom, p= 0.1 "
      ]
     },
     "metadata": {},
     "output_type": "display_data"
    }
   ],
   "source": [
    "data(pancreatic2, package = \"asaur\")\n",
    "(fit4 = survdiff(Surv(pfs) ~ stage, data = pancreatic2))"
   ]
  },
  {
   "cell_type": "code",
   "execution_count": 46,
   "id": "eac50573",
   "metadata": {
    "scrolled": false
   },
   "outputs": [
    {
     "data": {
      "image/png": "[encoded data removed]",
      "text/plain": [
       "plot without title"
      ]
     },
     "metadata": {
      "image/png": {
       "height": 420,
       "width": 420
      }
     },
     "output_type": "display_data"
    }
   ],
   "source": [
    "fit4 = survfit(Surv(pfs) ~ stage, data = pancreatic2)\n",
    "ggsurvplot(fit4, data = pancreatic2, pval = T)"
   ]
  },
  {
   "cell_type": "markdown",
   "id": "a27d61bd",
   "metadata": {},
   "source": [
    "# \n",
    "- **```survdiff()```의 ```rho```에 1을 설정하면, Peto 수정방법으로 검정**\n",
    "- => **P < 0.05 -> 귀무가설 기각**\n",
    "    - (초기 생존시간에 가중치를 주기 때문 => 초기 생존에 유리한 것으로 나타남)"
   ]
  },
  {
   "cell_type": "code",
   "execution_count": 47,
   "id": "0b53b108",
   "metadata": {},
   "outputs": [
    {
     "data": {
      "text/plain": [
       "Call:\n",
       "survdiff(formula = Surv(pfs) ~ stage, data = pancreatic2, rho = 1)\n",
       "\n",
       "          N Observed Expected (O-E)^2/E (O-E)^2/V\n",
       "stage=LA  8     2.34     5.88     2.128      4.71\n",
       "stage=M  33    18.76    15.22     0.822      4.71\n",
       "\n",
       " Chisq= 4.7  on 1 degrees of freedom, p= 0.03 "
      ]
     },
     "metadata": {},
     "output_type": "display_data"
    }
   ],
   "source": [
    "survdiff(Surv(pfs) ~ stage, data = pancreatic2, rho = 1)"
   ]
  },
  {
   "cell_type": "markdown",
   "id": "e660f0a6",
   "metadata": {},
   "source": [
    "# \n",
    "- ```ggsurvplot()```의 ```log.rank.weights```를 S1로 Peto 통계량 반영\n",
    "    - 1 : log-rank \n",
    "    - n : Gehan-Breslow (generalized Wilcoxon) \n",
    "    - sqrtN : Tarone-Ware \n",
    "    - S1 : Peto-Peto's modified survival estimate \n",
    "    - S2 : modified Peto-Peto (by Andersen) \n",
    "    - FH : Fleming-Harrington(p=1, q=1)."
   ]
  },
  {
   "cell_type": "code",
   "execution_count": 50,
   "id": "54d6a28a",
   "metadata": {},
   "outputs": [
    {
     "data": {
      "image/png": "[encoded data removed]",
      "text/plain": [
       "plot without title"
      ]
     },
     "metadata": {
      "image/png": {
       "height": 420,
       "width": 420
      }
     },
     "output_type": "display_data"
    }
   ],
   "source": [
    "ggsurvplot(fit4, data = pancreatic2, pval = T, log.rank.weights = \"S1\")"
   ]
  },
  {
   "cell_type": "markdown",
   "id": "98720b91",
   "metadata": {},
   "source": [
    "# \n",
    "# \n",
    "#### 층화된 로그순위검정\n",
    "- 두 군 간의 생존곡선을 비교할 때, 다른 공변량을 보정해야 할 경우 => 층화된 비례위험모형 사용\n",
    "- **보정할 공변량이 수준이 적을 때는 층화된 로그순위검정 사용**\n",
    "\n",
    "# \n",
    "\n",
    "**귀무가설 : $H_0:h_{0j}(t) = h_{1j(t)}\\;\\; for \\; j=1, 2, ..., G$**\n",
    "    - 두 번째 변수의 각 수준에 대해 스코어통계량 $U_{0g}$와 분산 $V_0g$계산 (g = 1, ..., G는 첫 번째 변수의 group))\n",
    "    \n",
    "#### 검정통계량 : ${{\\sum^G_{g=1}U_{0g})^2} \\over {\\sum^G_{g=1} V^2_{0g}}}\\;\\sim\\; \\chi^2_{1}$"
   ]
  },
  {
   "cell_type": "code",
   "execution_count": 52,
   "id": "54736049",
   "metadata": {},
   "outputs": [
    {
     "data": {
      "text/plain": [
       "Call:\n",
       "survdiff(formula = Surv(ttr, relapse) ~ grp, data = pharmacoSmoking)\n",
       "\n",
       "                 N Observed Expected (O-E)^2/E (O-E)^2/V\n",
       "grp=combination 61       37     49.9      3.36      8.03\n",
       "grp=patchOnly   64       52     39.1      4.29      8.03\n",
       "\n",
       " Chisq= 8  on 1 degrees of freedom, p= 0.005 "
      ]
     },
     "metadata": {},
     "output_type": "display_data"
    }
   ],
   "source": [
    "data(pharmacoSmoking, package = \"asaur\")\n",
    "survdiff(Surv(ttr, relapse) ~ grp, data = pharmacoSmoking)"
   ]
  },
  {
   "cell_type": "code",
   "execution_count": 54,
   "id": "7594cf3a",
   "metadata": {},
   "outputs": [
    {
     "data": {
      "image/png": "[encoded data removed]",
      "text/plain": [
       "plot without title"
      ]
     },
     "metadata": {
      "image/png": {
       "height": 420,
       "width": 420
      }
     },
     "output_type": "display_data"
    }
   ],
   "source": [
    "fit = survfit(Surv(ttr, relapse) ~ grp, data = pharmacoSmoking)\n",
    "ggsurvplot(fit, data = pharmacoSmoking, pval = T, legend = c(0.7, 0.85))"
   ]
  },
  {
   "cell_type": "markdown",
   "id": "30da783a",
   "metadata": {},
   "source": [
    "# \n",
    "- 나이의 영향을 보정하기 위해 ageGroup2를 사용하여, 층화된 로그순위검정"
   ]
  },
  {
   "cell_type": "code",
   "execution_count": 55,
   "id": "1a0692c8",
   "metadata": {},
   "outputs": [
    {
     "data": {
      "text/plain": [
       "Call:\n",
       "survdiff(formula = Surv(ttr, relapse) ~ grp + strata(ageGroup2), \n",
       "    data = pharmacoSmoking)\n",
       "\n",
       "                 N Observed Expected (O-E)^2/E (O-E)^2/V\n",
       "grp=combination 61       37     49.1      2.99      7.03\n",
       "grp=patchOnly   64       52     39.9      3.68      7.03\n",
       "\n",
       " Chisq= 7  on 1 degrees of freedom, p= 0.008 "
      ]
     },
     "metadata": {},
     "output_type": "display_data"
    }
   ],
   "source": [
    "survdiff(Surv(ttr, relapse) ~ grp + strata(ageGroup2), data = pharmacoSmoking)"
   ]
  },
  {
   "cell_type": "code",
   "execution_count": 60,
   "id": "f8783a1f",
   "metadata": {
    "scrolled": false
   },
   "outputs": [
    {
     "data": {
      "image/png": "[encoded data removed]",
      "text/plain": [
       "plot without title"
      ]
     },
     "metadata": {
      "image/png": {
       "height": 420,
       "width": 420
      }
     },
     "output_type": "display_data"
    }
   ],
   "source": [
    "labs = c(\"Combination, age 21-49\", \"Combination, age 50+\", \"patchOnly, age 21-49\", \"patchOnly, age 50+\")\n",
    "ggsurvplot(survfit(Surv(ttr, relapse) ~ grp + strata(ageGroup2), data = pharmacoSmoking),\n",
    "           data = pharmacoSmoking, legend = c(0.7, 0.85), legend.labs = labs, pval = T)"
   ]
  },
  {
   "cell_type": "markdown",
   "id": "d38425dc",
   "metadata": {},
   "source": [
    "- 공변량인 ageGroup2의 효과를 보정하기 전과 보정한 후의 차이가 크지 않음 => 층화 로그순위검정 필요X"
   ]
  },
  {
   "cell_type": "markdown",
   "id": "ef530d05",
   "metadata": {},
   "source": [
    "# \n",
    "# "
   ]
  },
  {
   "cell_type": "code",
   "execution_count": 61,
   "id": "4911fb45",
   "metadata": {},
   "outputs": [],
   "source": [
    "lambda.mutant.0 <- 0.03\n",
    "lambda.mutant.1 <- 0.03 * 0.55\n",
    "lambda.wt.0 <- 0.03 * 0.2\n",
    "lambda.wt.1 <- 0.03 * 0.2 * 0.55"
   ]
  },
  {
   "cell_type": "code",
   "execution_count": 63,
   "id": "8df53673",
   "metadata": {},
   "outputs": [],
   "source": [
    "set.seed(4231)\n",
    "tt.control.mutant <- rexp(25, rate = `lambda.mutant.0`)\n",
    "tt.treat.mutant <- rexp(125, rate = `lambda.mutant.1`)\n",
    "tt.control.wt <- rexp(125, rate = `lambda.wt.0`)\n",
    "tt.treat.wt <- rexp(25, rate = `lambda.wt.1`)\n",
    "ttAll <- c(tt.control.mutant, tt.treat.mutant, tt.control.wt, tt.treat.wt)\n",
    "\n",
    "status <- rep(1, length(ttAll))\n",
    "genotype <- c(rep(\"mutant\", 150), rep(\"wt\", 150))\n",
    "trt <- c(rep(0, 25), rep(1, 125), rep(0, 125), rep(1, 25))\n",
    "\n",
    "geneConfounder <- data.frame(ttAll, status, trt, genotype)"
   ]
  },
  {
   "cell_type": "markdown",
   "id": "c9c2a2df",
   "metadata": {},
   "source": [
    "# \n",
    "- p-value < 0.05 => 귀무가설 기각"
   ]
  },
  {
   "cell_type": "code",
   "execution_count": 64,
   "id": "67175c5b",
   "metadata": {},
   "outputs": [
    {
     "data": {
      "text/plain": [
       "Call:\n",
       "survdiff(formula = Surv(ttAll, status) ~ trt, data = geneConfounder)\n",
       "\n",
       "        N Observed Expected (O-E)^2/E (O-E)^2/V\n",
       "trt=0 150      150      184      6.16      16.3\n",
       "trt=1 150      150      116      9.71      16.3\n",
       "\n",
       " Chisq= 16.3  on 1 degrees of freedom, p= 5e-05 "
      ]
     },
     "metadata": {},
     "output_type": "display_data"
    }
   ],
   "source": [
    "survdiff(Surv(ttAll, status) ~ trt, data = geneConfounder)"
   ]
  },
  {
   "cell_type": "code",
   "execution_count": 65,
   "id": "03b9df2a",
   "metadata": {},
   "outputs": [
    {
     "data": {
      "image/png": "[encoded data removed]",
      "text/plain": [
       "plot without title"
      ]
     },
     "metadata": {
      "image/png": {
       "height": 420,
       "width": 420
      }
     },
     "output_type": "display_data"
    }
   ],
   "source": [
    "fit = survfit(Surv(ttAll, status) ~ trt, data = geneConfounder)\n",
    "labs = c(\"Control\", \"Treated\")\n",
    "ggsurvplot(fit, data = geneConfounder, legend = c(0.7, 0.9), legend.title = \"\",\n",
    "           legend.labs = labs, pval = T)"
   ]
  },
  {
   "cell_type": "markdown",
   "id": "f938ea45",
   "metadata": {},
   "source": [
    "# \n",
    "- 혼동변수인 genotype의 영향을 보정하여 로그순위검정\n",
    "- **p-value < 0.05 => 귀무가설 기각 => 군별, 유전자에 따라 생존확률의 유의한 차이 발생 => 유전자는 생존확률에 영향을 미치는 혼동변수**\n",
    "\n",
    "# \n",
    "\n",
    "1. **치료군은 대조군에 비해 우월한 생존**\n",
    "2. **wild type은 mutant에 비해 우월한 생존**\n",
    "3. **치료군의 mutant의 생존확률 곡선이 가장 급격히 감소 => 치료군에 mutant가 포함되어 있어, 유전자 타입을 고려하지 않은 경우, 치료군의 생존이 더 나쁜 것으로 보임**"
   ]
  },
  {
   "cell_type": "code",
   "execution_count": 67,
   "id": "39dceda1",
   "metadata": {},
   "outputs": [
    {
     "data": {
      "text/plain": [
       "Call:\n",
       "survdiff(formula = Surv(ttAll, status) ~ trt + strata(genotype), \n",
       "    data = geneConfounder)\n",
       "\n",
       "        N Observed Expected (O-E)^2/E (O-E)^2/V\n",
       "trt=0 150      150      130      3.23      10.9\n",
       "trt=1 150      150      170      2.46      10.9\n",
       "\n",
       " Chisq= 10.9  on 1 degrees of freedom, p= 0.001 "
      ]
     },
     "metadata": {},
     "output_type": "display_data"
    }
   ],
   "source": [
    "survdiff(Surv(ttAll, status) ~ trt + strata(genotype), data = geneConfounder)"
   ]
  },
  {
   "cell_type": "code",
   "execution_count": 71,
   "id": "bd19948e",
   "metadata": {},
   "outputs": [
    {
     "data": {
      "image/png": "[encoded data removed]",
      "text/plain": [
       "plot without title"
      ]
     },
     "metadata": {
      "image/png": {
       "height": 420,
       "width": 420
      }
     },
     "output_type": "display_data"
    }
   ],
   "source": [
    "fit = (survfit(Surv(ttAll, status) ~ trt + strata(genotype), data = geneConfounder))\n",
    "labs = c(\"control Mutant\", \"Control Wildtype\", \"Treated Mutant\", \"Treated Wildtype\")\n",
    "ggsurvplot(fit, geneConfounder, legend = c(0.75, 0.85), legend.labs = labs, pval = T)"
   ]
  }
 ],
 "metadata": {
  "kernelspec": {
   "display_name": "R",
   "language": "R",
   "name": "ir"
  },
  "language_info": {
   "codemirror_mode": "r",
   "file_extension": ".r",
   "mimetype": "text/x-r-source",
   "name": "R",
   "pygments_lexer": "r",
   "version": "4.2.2"
  }
 },
 "nbformat": 4,
 "nbformat_minor": 5
}
