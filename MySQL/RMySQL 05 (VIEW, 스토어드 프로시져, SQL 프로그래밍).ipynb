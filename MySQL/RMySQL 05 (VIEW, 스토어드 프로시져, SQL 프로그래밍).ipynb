{
 "cells": [
  {
   "cell_type": "markdown",
   "id": "fbb2e3c5",
   "metadata": {},
   "source": [
    "## VIEW\n",
    "### VIEW : 뷰는 DB에 존재하는 가상 테이블\n",
    "- 실제 테이블처럼 행과 열을 가지고 있지만, 실제로 데이터를 저장하진 않음\n",
    "- MySQL에서 뷰는 다른 테이블이나 다른 뷰에 저장되어 있는 데잍러르 보여주는 역할만 수행\n",
    "- 뷰를 사용하면 여러 테이블이나 뷰를 하나의 테이블처럼 볼 수 있음\n",
    "- 뷰의 장점 : 특정 사용자에게 테이블 전체가 아닌 필요한 컬렄만 보여줌, 복잡한 쿼리를 단순화, 쿼리 재사용 가능\n",
    "- 뷰의 단점 : 한번 정의된 뷰는 변경 불가, 삽입/삭제/갱신 작업에 많은 제약, 자신만의 인덱스를 가질 수 없음"
   ]
  },
  {
   "cell_type": "markdown",
   "id": "55f92b67",
   "metadata": {},
   "source": [
    "- **단순 뷰 : 하나의 테이블로 만든 뷰 (수정가능)**\n",
    "- **복합 뷰 : 두 개 이상의 테이블로 만든 뷰 (익기전용)** \n",
    "- **뷰가 참조하는 테이블 삭제시 뷰는 조회 불가 (뷰가 조회되지 않으면 CHECK TABLE 문으로 뷰의 상태 확인 가능)**"
   ]
  },
  {
   "cell_type": "markdown",
   "id": "042004b5",
   "metadata": {},
   "source": [
    "### ```CREATE VIEW AS``` : 뷰 생성\n",
    "- 테이블과 동일하게 select문을 사용하여 접근\n",
    "- 조건식도 추가 가능"
   ]
  },
  {
   "cell_type": "markdown",
   "id": "4f8e603f",
   "metadata": {},
   "source": [
    "**city, country, countrylanguage 테이블을 JOIN하고, 한국에 대한 정보만 뷰 생성**"
   ]
  },
  {
   "cell_type": "code",
   "execution_count": 38,
   "id": "06d30343",
   "metadata": {},
   "outputs": [
    {
     "data": {
      "text/html": [],
      "text/latex": [],
      "text/markdown": [],
      "text/plain": [
       "<0 x 0 matrix>"
      ]
     },
     "metadata": {},
     "output_type": "display_data"
    }
   ],
   "source": [
    "dbGetQuery(conn, \"CREATE VIEW allView \n",
    "                  AS \n",
    "                  SELECT city.Name, country.SurfaceArea, city.Population, countrylanguage.language\n",
    "                  FROM city\n",
    "                  JOIN country ON city.CountryCode = country.CODE\n",
    "                  JOIN countrylanguage ON city.CountryCode = countrylanguage.CountryCode\n",
    "                  WHERE city.CountryCode = 'KOR';\")"
   ]
  },
  {
   "cell_type": "code",
   "execution_count": 31,
   "id": "75d4497d",
   "metadata": {},
   "outputs": [
    {
     "data": {
      "text/html": [
       "<table class=\"dataframe\">\n",
       "<caption>A data.frame: 3 × 4</caption>\n",
       "<thead>\n",
       "\t<tr><th></th><th scope=col>Name</th><th scope=col>SurfaceArea</th><th scope=col>Population</th><th scope=col>language</th></tr>\n",
       "\t<tr><th></th><th scope=col>&lt;chr&gt;</th><th scope=col>&lt;dbl&gt;</th><th scope=col>&lt;int&gt;</th><th scope=col>&lt;chr&gt;</th></tr>\n",
       "</thead>\n",
       "<tbody>\n",
       "\t<tr><th scope=row>1</th><td>Seoul </td><td>99434</td><td>9981619</td><td>Chinese</td></tr>\n",
       "\t<tr><th scope=row>2</th><td>Pusan </td><td>99434</td><td>3804522</td><td>Chinese</td></tr>\n",
       "\t<tr><th scope=row>3</th><td>Inchon</td><td>99434</td><td>2559424</td><td>Chinese</td></tr>\n",
       "</tbody>\n",
       "</table>\n"
      ],
      "text/latex": [
       "A data.frame: 3 × 4\n",
       "\\begin{tabular}{r|llll}\n",
       "  & Name & SurfaceArea & Population & language\\\\\n",
       "  & <chr> & <dbl> & <int> & <chr>\\\\\n",
       "\\hline\n",
       "\t1 & Seoul  & 99434 & 9981619 & Chinese\\\\\n",
       "\t2 & Pusan  & 99434 & 3804522 & Chinese\\\\\n",
       "\t3 & Inchon & 99434 & 2559424 & Chinese\\\\\n",
       "\\end{tabular}\n"
      ],
      "text/markdown": [
       "\n",
       "A data.frame: 3 × 4\n",
       "\n",
       "| <!--/--> | Name &lt;chr&gt; | SurfaceArea &lt;dbl&gt; | Population &lt;int&gt; | language &lt;chr&gt; |\n",
       "|---|---|---|---|---|\n",
       "| 1 | Seoul  | 99434 | 9981619 | Chinese |\n",
       "| 2 | Pusan  | 99434 | 3804522 | Chinese |\n",
       "| 3 | Inchon | 99434 | 2559424 | Chinese |\n",
       "\n"
      ],
      "text/plain": [
       "  Name   SurfaceArea Population language\n",
       "1 Seoul  99434       9981619    Chinese \n",
       "2 Pusan  99434       3804522    Chinese \n",
       "3 Inchon 99434       2559424    Chinese "
      ]
     },
     "metadata": {},
     "output_type": "display_data"
    }
   ],
   "source": [
    "dbGetQuery(conn, \"SELECT * FROM allView;\")"
   ]
  },
  {
   "cell_type": "markdown",
   "id": "a21d3dad",
   "metadata": {},
   "source": [
    "### ```ALTER VIEW``` : 뷰의 수정"
   ]
  },
  {
   "cell_type": "code",
   "execution_count": 34,
   "id": "d515dabe",
   "metadata": {},
   "outputs": [
    {
     "data": {
      "text/html": [],
      "text/latex": [],
      "text/markdown": [],
      "text/plain": [
       "<0 x 0 matrix>"
      ]
     },
     "metadata": {},
     "output_type": "display_data"
    }
   ],
   "source": [
    "dbGetQuery(conn, \"ALTER VIEW allView \n",
    "                  AS\n",
    "                  SELECT mem_id FROM market_db.member;\")"
   ]
  },
  {
   "cell_type": "code",
   "execution_count": 37,
   "id": "12899238",
   "metadata": {},
   "outputs": [
    {
     "data": {
      "text/html": [
       "<table class=\"dataframe\">\n",
       "<caption>A data.frame: 5 × 1</caption>\n",
       "<thead>\n",
       "\t<tr><th></th><th scope=col>mem_id</th></tr>\n",
       "\t<tr><th></th><th scope=col>&lt;chr&gt;</th></tr>\n",
       "</thead>\n",
       "<tbody>\n",
       "\t<tr><th scope=row>1</th><td>BLK</td></tr>\n",
       "\t<tr><th scope=row>2</th><td>MMU</td></tr>\n",
       "\t<tr><th scope=row>3</th><td>RED</td></tr>\n",
       "\t<tr><th scope=row>4</th><td>ITZ</td></tr>\n",
       "\t<tr><th scope=row>5</th><td>APN</td></tr>\n",
       "</tbody>\n",
       "</table>\n"
      ],
      "text/latex": [
       "A data.frame: 5 × 1\n",
       "\\begin{tabular}{r|l}\n",
       "  & mem\\_id\\\\\n",
       "  & <chr>\\\\\n",
       "\\hline\n",
       "\t1 & BLK\\\\\n",
       "\t2 & MMU\\\\\n",
       "\t3 & RED\\\\\n",
       "\t4 & ITZ\\\\\n",
       "\t5 & APN\\\\\n",
       "\\end{tabular}\n"
      ],
      "text/markdown": [
       "\n",
       "A data.frame: 5 × 1\n",
       "\n",
       "| <!--/--> | mem_id &lt;chr&gt; |\n",
       "|---|---|\n",
       "| 1 | BLK |\n",
       "| 2 | MMU |\n",
       "| 3 | RED |\n",
       "| 4 | ITZ |\n",
       "| 5 | APN |\n",
       "\n"
      ],
      "text/plain": [
       "  mem_id\n",
       "1 BLK   \n",
       "2 MMU   \n",
       "3 RED   \n",
       "4 ITZ   \n",
       "5 APN   "
      ]
     },
     "metadata": {},
     "output_type": "display_data"
    }
   ],
   "source": [
    "dbGetQuery(conn, \"SELECT * FROM allView;\") "
   ]
  },
  {
   "cell_type": "markdown",
   "id": "94938b3c",
   "metadata": {},
   "source": [
    "### ```DESCRIBE {뷰_이름}``` : 뷰의 정보 확인"
   ]
  },
  {
   "cell_type": "code",
   "execution_count": 32,
   "id": "50e192ff",
   "metadata": {},
   "outputs": [
    {
     "data": {
      "text/html": [
       "<table class=\"dataframe\">\n",
       "<caption>A data.frame: 4 × 6</caption>\n",
       "<thead>\n",
       "\t<tr><th scope=col>Field</th><th scope=col>Type</th><th scope=col>Null</th><th scope=col>Key</th><th scope=col>Default</th><th scope=col>Extra</th></tr>\n",
       "\t<tr><th scope=col>&lt;chr&gt;</th><th scope=col>&lt;chr&gt;</th><th scope=col>&lt;chr&gt;</th><th scope=col>&lt;chr&gt;</th><th scope=col>&lt;chr&gt;</th><th scope=col>&lt;chr&gt;</th></tr>\n",
       "</thead>\n",
       "<tbody>\n",
       "\t<tr><td>Name       </td><td>char(35)   </td><td>NO</td><td></td><td>    </td><td></td></tr>\n",
       "\t<tr><td>SurfaceArea</td><td>float(10,2)</td><td>NO</td><td></td><td>0.00</td><td></td></tr>\n",
       "\t<tr><td>Population </td><td>int        </td><td>NO</td><td></td><td>0   </td><td></td></tr>\n",
       "\t<tr><td>language   </td><td>char(30)   </td><td>NO</td><td></td><td>    </td><td></td></tr>\n",
       "</tbody>\n",
       "</table>\n"
      ],
      "text/latex": [
       "A data.frame: 4 × 6\n",
       "\\begin{tabular}{llllll}\n",
       " Field & Type & Null & Key & Default & Extra\\\\\n",
       " <chr> & <chr> & <chr> & <chr> & <chr> & <chr>\\\\\n",
       "\\hline\n",
       "\t Name        & char(35)    & NO &  &      & \\\\\n",
       "\t SurfaceArea & float(10,2) & NO &  & 0.00 & \\\\\n",
       "\t Population  & int         & NO &  & 0    & \\\\\n",
       "\t language    & char(30)    & NO &  &      & \\\\\n",
       "\\end{tabular}\n"
      ],
      "text/markdown": [
       "\n",
       "A data.frame: 4 × 6\n",
       "\n",
       "| Field &lt;chr&gt; | Type &lt;chr&gt; | Null &lt;chr&gt; | Key &lt;chr&gt; | Default &lt;chr&gt; | Extra &lt;chr&gt; |\n",
       "|---|---|---|---|---|---|\n",
       "| Name        | char(35)    | NO | <!----> | <!----> | <!----> |\n",
       "| SurfaceArea | float(10,2) | NO | <!----> | 0.00 | <!----> |\n",
       "| Population  | int         | NO | <!----> | 0    | <!----> |\n",
       "| language    | char(30)    | NO | <!----> | <!----> | <!----> |\n",
       "\n"
      ],
      "text/plain": [
       "  Field       Type        Null Key Default Extra\n",
       "1 Name        char(35)    NO                    \n",
       "2 SurfaceArea float(10,2) NO       0.00         \n",
       "3 Population  int         NO       0            \n",
       "4 language    char(30)    NO                    "
      ]
     },
     "metadata": {},
     "output_type": "display_data"
    }
   ],
   "source": [
    "dbGetQuery(conn, \"DESC allVIew;\")"
   ]
  },
  {
   "cell_type": "markdown",
   "id": "40f7cac1",
   "metadata": {},
   "source": [
    "### ```SHOW CREATE VIEW {뷰_이름}``` : 뷰의 소스코드 확인"
   ]
  },
  {
   "cell_type": "code",
   "execution_count": 33,
   "id": "73664397",
   "metadata": {},
   "outputs": [
    {
     "data": {
      "text/html": [
       "<table class=\"dataframe\">\n",
       "<caption>A data.frame: 1 × 4</caption>\n",
       "<thead>\n",
       "\t<tr><th scope=col>View</th><th scope=col>Create View</th><th scope=col>character_set_client</th><th scope=col>collation_connection</th></tr>\n",
       "\t<tr><th scope=col>&lt;chr&gt;</th><th scope=col>&lt;chr&gt;</th><th scope=col>&lt;chr&gt;</th><th scope=col>&lt;chr&gt;</th></tr>\n",
       "</thead>\n",
       "<tbody>\n",
       "\t<tr><td>allview</td><td>CREATE ALGORITHM=UNDEFINED DEFINER=`root`@`localhost` SQL SECURITY DEFINER VIEW `allview` AS select `city`.`Name` AS `Name`,`country`.`SurfaceArea` AS `SurfaceArea`,`city`.`Population` AS `Population`,`countrylanguage`.`Language` AS `language` from ((`city` join `country` on((`city`.`CountryCode` = `country`.`Code`))) join `countrylanguage` on((`city`.`CountryCode` = `countrylanguage`.`CountryCode`))) where (`city`.`CountryCode` = 'KOR')</td><td>utf8mb4</td><td>utf8mb4_general_ci</td></tr>\n",
       "</tbody>\n",
       "</table>\n"
      ],
      "text/latex": [
       "A data.frame: 1 × 4\n",
       "\\begin{tabular}{llll}\n",
       " View & Create View & character\\_set\\_client & collation\\_connection\\\\\n",
       " <chr> & <chr> & <chr> & <chr>\\\\\n",
       "\\hline\n",
       "\t allview & CREATE ALGORITHM=UNDEFINED DEFINER=`root`@`localhost` SQL SECURITY DEFINER VIEW `allview` AS select `city`.`Name` AS `Name`,`country`.`SurfaceArea` AS `SurfaceArea`,`city`.`Population` AS `Population`,`countrylanguage`.`Language` AS `language` from ((`city` join `country` on((`city`.`CountryCode` = `country`.`Code`))) join `countrylanguage` on((`city`.`CountryCode` = `countrylanguage`.`CountryCode`))) where (`city`.`CountryCode` = 'KOR') & utf8mb4 & utf8mb4\\_general\\_ci\\\\\n",
       "\\end{tabular}\n"
      ],
      "text/markdown": [
       "\n",
       "A data.frame: 1 × 4\n",
       "\n",
       "| View &lt;chr&gt; | Create View &lt;chr&gt; | character_set_client &lt;chr&gt; | collation_connection &lt;chr&gt; |\n",
       "|---|---|---|---|\n",
       "| allview | CREATE ALGORITHM=UNDEFINED DEFINER=`root`@`localhost` SQL SECURITY DEFINER VIEW `allview` AS select `city`.`Name` AS `Name`,`country`.`SurfaceArea` AS `SurfaceArea`,`city`.`Population` AS `Population`,`countrylanguage`.`Language` AS `language` from ((`city` join `country` on((`city`.`CountryCode` = `country`.`Code`))) join `countrylanguage` on((`city`.`CountryCode` = `countrylanguage`.`CountryCode`))) where (`city`.`CountryCode` = 'KOR') | utf8mb4 | utf8mb4_general_ci |\n",
       "\n"
      ],
      "text/plain": [
       "  View   \n",
       "1 allview\n",
       "  Create View                                                                                                                                                                                                                                                                                                                                                                                                                                              \n",
       "1 CREATE ALGORITHM=UNDEFINED DEFINER=`root`@`localhost` SQL SECURITY DEFINER VIEW `allview` AS select `city`.`Name` AS `Name`,`country`.`SurfaceArea` AS `SurfaceArea`,`city`.`Population` AS `Population`,`countrylanguage`.`Language` AS `language` from ((`city` join `country` on((`city`.`CountryCode` = `country`.`Code`))) join `countrylanguage` on((`city`.`CountryCode` = `countrylanguage`.`CountryCode`))) where (`city`.`CountryCode` = 'KOR')\n",
       "  character_set_client collation_connection\n",
       "1 utf8mb4              utf8mb4_general_ci  "
      ]
     },
     "metadata": {},
     "output_type": "display_data"
    }
   ],
   "source": [
    "dbGetQuery(conn, \"SHOW CREATE VIEW allView;\")"
   ]
  },
  {
   "cell_type": "markdown",
   "id": "761917e7",
   "metadata": {},
   "source": [
    "### 뷰를 통한 데이터의 수정/삭제\n",
    "- 뷰를 통하여 데이터를 입력하려면, 뷰에서 보이지 안흔 테이블의 열에 NOT NULL이 없어야 함\n",
    "\n",
    "### ```UPDATE {뷰_이름}```"
   ]
  },
  {
   "cell_type": "markdown",
   "id": "5682b891",
   "metadata": {},
   "source": [
    "**allView 뷰에서 Name이 'Pusan'인 데이터의 Population을 0으로 수정**"
   ]
  },
  {
   "cell_type": "code",
   "execution_count": 44,
   "id": "adda7896",
   "metadata": {},
   "outputs": [
    {
     "data": {
      "text/html": [],
      "text/latex": [],
      "text/markdown": [],
      "text/plain": [
       "<0 x 0 matrix>"
      ]
     },
     "metadata": {},
     "output_type": "display_data"
    }
   ],
   "source": [
    "dbGetQuery(conn, \"UPDATE allView \n",
    "                  SET Population = 0\n",
    "                  WHERE Name = 'Pusan';\")"
   ]
  },
  {
   "cell_type": "code",
   "execution_count": 46,
   "id": "fea7d751",
   "metadata": {},
   "outputs": [
    {
     "data": {
      "text/html": [
       "<table class=\"dataframe\">\n",
       "<caption>A data.frame: 1 × 4</caption>\n",
       "<thead>\n",
       "\t<tr><th></th><th scope=col>Name</th><th scope=col>SurfaceArea</th><th scope=col>Population</th><th scope=col>language</th></tr>\n",
       "\t<tr><th></th><th scope=col>&lt;chr&gt;</th><th scope=col>&lt;dbl&gt;</th><th scope=col>&lt;int&gt;</th><th scope=col>&lt;chr&gt;</th></tr>\n",
       "</thead>\n",
       "<tbody>\n",
       "\t<tr><th scope=row>1</th><td>Pusan</td><td>99434</td><td>0</td><td>Chinese</td></tr>\n",
       "</tbody>\n",
       "</table>\n"
      ],
      "text/latex": [
       "A data.frame: 1 × 4\n",
       "\\begin{tabular}{r|llll}\n",
       "  & Name & SurfaceArea & Population & language\\\\\n",
       "  & <chr> & <dbl> & <int> & <chr>\\\\\n",
       "\\hline\n",
       "\t1 & Pusan & 99434 & 0 & Chinese\\\\\n",
       "\\end{tabular}\n"
      ],
      "text/markdown": [
       "\n",
       "A data.frame: 1 × 4\n",
       "\n",
       "| <!--/--> | Name &lt;chr&gt; | SurfaceArea &lt;dbl&gt; | Population &lt;int&gt; | language &lt;chr&gt; |\n",
       "|---|---|---|---|---|\n",
       "| 1 | Pusan | 99434 | 0 | Chinese |\n",
       "\n"
      ],
      "text/plain": [
       "  Name  SurfaceArea Population language\n",
       "1 Pusan 99434       0          Chinese "
      ]
     },
     "metadata": {},
     "output_type": "display_data"
    }
   ],
   "source": [
    "dbGetQuery(conn, \"SELECT * FROM allView\n",
    "                  WHERE Name = 'Pusan';\")"
   ]
  },
  {
   "cell_type": "markdown",
   "id": "f15ae711",
   "metadata": {},
   "source": [
    "### ```DELETE FROM {뷰_이름}``` "
   ]
  },
  {
   "cell_type": "markdown",
   "id": "3ef42619",
   "metadata": {},
   "source": [
    "### ```INSERT INTO {뷰_이름} VALUES ~``` : 뷰를 통한 데이터 입력"
   ]
  },
  {
   "cell_type": "markdown",
   "id": "109436ea",
   "metadata": {},
   "source": [
    "**뷰는 price가 50이상인 데이터만 표시**"
   ]
  },
  {
   "cell_type": "markdown",
   "id": "7dd48d0b",
   "metadata": {},
   "source": [
    "### ```WITH CHECK OPTION``` : price가 50이상이라는 조건을 만족하지 못하는 값은 입력되지 않도록 설정"
   ]
  },
  {
   "cell_type": "code",
   "execution_count": 115,
   "id": "27678ca7",
   "metadata": {},
   "outputs": [
    {
     "data": {
      "text/html": [],
      "text/latex": [],
      "text/markdown": [],
      "text/plain": [
       "<0 x 0 matrix>"
      ]
     },
     "metadata": {},
     "output_type": "display_data"
    }
   ],
   "source": [
    "dbGetQuery(conn, \"CREATE OR REPLACE VIEW price50\n",
    "                  AS \n",
    "                  SELECT mem_id, price, amount\n",
    "                  FROM market_db.buy\n",
    "                  WHERE price >= 50\n",
    "                  WITH CHECK OPTION;\")"
   ]
  },
  {
   "cell_type": "code",
   "execution_count": 116,
   "id": "6bb0d37d",
   "metadata": {},
   "outputs": [
    {
     "data": {
      "text/html": [
       "<table class=\"dataframe\">\n",
       "<caption>A data.frame: 4 × 3</caption>\n",
       "<thead>\n",
       "\t<tr><th scope=col>mem_id</th><th scope=col>price</th><th scope=col>amount</th></tr>\n",
       "\t<tr><th scope=col>&lt;chr&gt;</th><th scope=col>&lt;int&gt;</th><th scope=col>&lt;int&gt;</th></tr>\n",
       "</thead>\n",
       "<tbody>\n",
       "\t<tr><td>BLK</td><td>1000</td><td> 1</td></tr>\n",
       "\t<tr><td>BLK</td><td>  50</td><td> 3</td></tr>\n",
       "\t<tr><td>MMU</td><td>  80</td><td>10</td></tr>\n",
       "\t<tr><td>APN</td><td>  50</td><td> 1</td></tr>\n",
       "</tbody>\n",
       "</table>\n"
      ],
      "text/latex": [
       "A data.frame: 4 × 3\n",
       "\\begin{tabular}{lll}\n",
       " mem\\_id & price & amount\\\\\n",
       " <chr> & <int> & <int>\\\\\n",
       "\\hline\n",
       "\t BLK & 1000 &  1\\\\\n",
       "\t BLK &   50 &  3\\\\\n",
       "\t MMU &   80 & 10\\\\\n",
       "\t APN &   50 &  1\\\\\n",
       "\\end{tabular}\n"
      ],
      "text/markdown": [
       "\n",
       "A data.frame: 4 × 3\n",
       "\n",
       "| mem_id &lt;chr&gt; | price &lt;int&gt; | amount &lt;int&gt; |\n",
       "|---|---|---|\n",
       "| BLK | 1000 |  1 |\n",
       "| BLK |   50 |  3 |\n",
       "| MMU |   80 | 10 |\n",
       "| APN |   50 |  1 |\n",
       "\n"
      ],
      "text/plain": [
       "  mem_id price amount\n",
       "1 BLK    1000   1    \n",
       "2 BLK      50   3    \n",
       "3 MMU      80  10    \n",
       "4 APN      50   1    "
      ]
     },
     "metadata": {},
     "output_type": "display_data"
    }
   ],
   "source": [
    "dbGetQuery(conn, \"SELECT * FROM price50;\")"
   ]
  },
  {
   "cell_type": "markdown",
   "id": "e7a20133",
   "metadata": {},
   "source": [
    "**mem_id가 'APN'인 데이터 삭제**"
   ]
  },
  {
   "cell_type": "code",
   "execution_count": 117,
   "id": "1b63fff6",
   "metadata": {},
   "outputs": [
    {
     "data": {
      "text/html": [],
      "text/latex": [],
      "text/markdown": [],
      "text/plain": [
       "<0 x 0 matrix>"
      ]
     },
     "metadata": {},
     "output_type": "display_data"
    }
   ],
   "source": [
    "dbGetQuery(conn, \"DELETE FROM price50\n",
    "                  WHERE mem_id = 'APN';\")"
   ]
  },
  {
   "cell_type": "code",
   "execution_count": 118,
   "id": "49c2c2b6",
   "metadata": {},
   "outputs": [
    {
     "data": {
      "text/html": [
       "<table class=\"dataframe\">\n",
       "<caption>A data.frame: 3 × 3</caption>\n",
       "<thead>\n",
       "\t<tr><th scope=col>mem_id</th><th scope=col>price</th><th scope=col>amount</th></tr>\n",
       "\t<tr><th scope=col>&lt;chr&gt;</th><th scope=col>&lt;int&gt;</th><th scope=col>&lt;int&gt;</th></tr>\n",
       "</thead>\n",
       "<tbody>\n",
       "\t<tr><td>BLK</td><td>1000</td><td> 1</td></tr>\n",
       "\t<tr><td>BLK</td><td>  50</td><td> 3</td></tr>\n",
       "\t<tr><td>MMU</td><td>  80</td><td>10</td></tr>\n",
       "</tbody>\n",
       "</table>\n"
      ],
      "text/latex": [
       "A data.frame: 3 × 3\n",
       "\\begin{tabular}{lll}\n",
       " mem\\_id & price & amount\\\\\n",
       " <chr> & <int> & <int>\\\\\n",
       "\\hline\n",
       "\t BLK & 1000 &  1\\\\\n",
       "\t BLK &   50 &  3\\\\\n",
       "\t MMU &   80 & 10\\\\\n",
       "\\end{tabular}\n"
      ],
      "text/markdown": [
       "\n",
       "A data.frame: 3 × 3\n",
       "\n",
       "| mem_id &lt;chr&gt; | price &lt;int&gt; | amount &lt;int&gt; |\n",
       "|---|---|---|\n",
       "| BLK | 1000 |  1 |\n",
       "| BLK |   50 |  3 |\n",
       "| MMU |   80 | 10 |\n",
       "\n"
      ],
      "text/plain": [
       "  mem_id price amount\n",
       "1 BLK    1000   1    \n",
       "2 BLK      50   3    \n",
       "3 MMU      80  10    "
      ]
     },
     "metadata": {},
     "output_type": "display_data"
    }
   ],
   "source": [
    "dbGetQuery(conn, \"SELECT * FROM price50;\")"
   ]
  },
  {
   "cell_type": "markdown",
   "id": "b634c8d4",
   "metadata": {},
   "source": [
    "### ```WITH CHECK OPTION```로 인하여 price가 100이하인 값 입력 불가"
   ]
  },
  {
   "cell_type": "code",
   "execution_count": 119,
   "id": "98e07e75",
   "metadata": {},
   "outputs": [
    {
     "ename": "ERROR",
     "evalue": "Error in .local(conn, statement, ...): could not run statement: Field of view 'world.price50' underlying table doesn't have a default value\n",
     "output_type": "error",
     "traceback": [
      "Error in .local(conn, statement, ...): could not run statement: Field of view 'world.price50' underlying table doesn't have a default value\nTraceback:\n",
      "1. dbGetQuery(conn, \"INSERT INTO price50 \\n                  VALUES('AAA', 49, 1);\")",
      "2. dbGetQuery(conn, \"INSERT INTO price50 \\n                  VALUES('AAA', 49, 1);\")",
      "3. .local(conn, statement, ...)",
      "4. dbSendQuery(conn, statement, ...)",
      "5. dbSendQuery(conn, statement, ...)",
      "6. .local(conn, statement, ...)"
     ]
    }
   ],
   "source": [
    "dbGetQuery(conn, \"INSERT INTO price50 \n",
    "                  VALUES('AAA', 49, 1);\")"
   ]
  },
  {
   "cell_type": "markdown",
   "id": "1368db86",
   "metadata": {},
   "source": [
    "### 뷰가 참조하는 테이블 삭제"
   ]
  },
  {
   "cell_type": "code",
   "execution_count": 120,
   "id": "065da492",
   "metadata": {},
   "outputs": [
    {
     "data": {
      "text/html": [],
      "text/latex": [],
      "text/markdown": [],
      "text/plain": [
       "<0 x 0 matrix>"
      ]
     },
     "metadata": {},
     "output_type": "display_data"
    }
   ],
   "source": [
    "dbGetQuery(conn, \"DROP TABLE IF EXISTS market_db.buy;\")"
   ]
  },
  {
   "cell_type": "markdown",
   "id": "c3d666e3",
   "metadata": {},
   "source": [
    "**참조되는 테이블이 삭제되어 뷰 확인 불가**"
   ]
  },
  {
   "cell_type": "code",
   "execution_count": 121,
   "id": "8f2f32f4",
   "metadata": {},
   "outputs": [
    {
     "ename": "ERROR",
     "evalue": "Error in .local(conn, statement, ...): could not run statement: View 'world.price50' references invalid table(s) or column(s) or function(s) or definer/invoker of view lack rights to use them\n",
     "output_type": "error",
     "traceback": [
      "Error in .local(conn, statement, ...): could not run statement: View 'world.price50' references invalid table(s) or column(s) or function(s) or definer/invoker of view lack rights to use them\nTraceback:\n",
      "1. dbGetQuery(conn, \"SELECT * FROM price50;\")",
      "2. dbGetQuery(conn, \"SELECT * FROM price50;\")",
      "3. .local(conn, statement, ...)",
      "4. dbSendQuery(conn, statement, ...)",
      "5. dbSendQuery(conn, statement, ...)",
      "6. .local(conn, statement, ...)"
     ]
    }
   ],
   "source": [
    "dbGetQuery(conn, \"SELECT * FROM price50;\")"
   ]
  },
  {
   "cell_type": "markdown",
   "id": "5dcb7037",
   "metadata": {},
   "source": [
    "**CHECK TABLE 문으로 뷰의 상태 확인**"
   ]
  },
  {
   "cell_type": "code",
   "execution_count": 122,
   "id": "576efd4a",
   "metadata": {},
   "outputs": [
    {
     "data": {
      "text/html": [
       "<table class=\"dataframe\">\n",
       "<caption>A data.frame: 2 × 4</caption>\n",
       "<thead>\n",
       "\t<tr><th scope=col>Table</th><th scope=col>Op</th><th scope=col>Msg_type</th><th scope=col>Msg_text</th></tr>\n",
       "\t<tr><th scope=col>&lt;chr&gt;</th><th scope=col>&lt;chr&gt;</th><th scope=col>&lt;chr&gt;</th><th scope=col>&lt;chr&gt;</th></tr>\n",
       "</thead>\n",
       "<tbody>\n",
       "\t<tr><td>world.price50</td><td>check</td><td>Error</td><td>View 'world.price50' references invalid table(s) or column(s) or function(s) or definer/invoker of view lack rights to use them</td></tr>\n",
       "\t<tr><td>world.price50</td><td>check</td><td>error</td><td>Corrupt                                                                                                                        </td></tr>\n",
       "</tbody>\n",
       "</table>\n"
      ],
      "text/latex": [
       "A data.frame: 2 × 4\n",
       "\\begin{tabular}{llll}\n",
       " Table & Op & Msg\\_type & Msg\\_text\\\\\n",
       " <chr> & <chr> & <chr> & <chr>\\\\\n",
       "\\hline\n",
       "\t world.price50 & check & Error & View 'world.price50' references invalid table(s) or column(s) or function(s) or definer/invoker of view lack rights to use them\\\\\n",
       "\t world.price50 & check & error & Corrupt                                                                                                                        \\\\\n",
       "\\end{tabular}\n"
      ],
      "text/markdown": [
       "\n",
       "A data.frame: 2 × 4\n",
       "\n",
       "| Table &lt;chr&gt; | Op &lt;chr&gt; | Msg_type &lt;chr&gt; | Msg_text &lt;chr&gt; |\n",
       "|---|---|---|---|\n",
       "| world.price50 | check | Error | View 'world.price50' references invalid table(s) or column(s) or function(s) or definer/invoker of view lack rights to use them |\n",
       "| world.price50 | check | error | Corrupt                                                                                                                         |\n",
       "\n"
      ],
      "text/plain": [
       "  Table         Op    Msg_type\n",
       "1 world.price50 check Error   \n",
       "2 world.price50 check error   \n",
       "  Msg_text                                                                                                                       \n",
       "1 View 'world.price50' references invalid table(s) or column(s) or function(s) or definer/invoker of view lack rights to use them\n",
       "2 Corrupt                                                                                                                        "
      ]
     },
     "metadata": {},
     "output_type": "display_data"
    }
   ],
   "source": [
    "dbGetQuery(conn, \"CHECK TABLE price50;\")"
   ]
  },
  {
   "cell_type": "markdown",
   "id": "52c81b27",
   "metadata": {},
   "source": [
    "### ```DROP VIEW``` : 뷰의 삭제"
   ]
  },
  {
   "cell_type": "code",
   "execution_count": 123,
   "id": "2e534e62",
   "metadata": {},
   "outputs": [
    {
     "data": {
      "text/html": [],
      "text/latex": [],
      "text/markdown": [],
      "text/plain": [
       "<0 x 0 matrix>"
      ]
     },
     "metadata": {},
     "output_type": "display_data"
    }
   ],
   "source": [
    "dbGetQuery(conn, \"DROP VIEW price100;\")"
   ]
  },
  {
   "cell_type": "markdown",
   "id": "612eed19",
   "metadata": {},
   "source": [
    "#  \n",
    "\n",
    "## 스토어드 프로시저 (STORED PROCEDURE)\n",
    "### 스토어드 프로시저 (STORED PROCEDURE) : 함수/단축키, 여러 개의 SQL문을 하나로 묶음\n",
    "- 매개변수 사용가능"
   ]
  },
  {
   "cell_type": "markdown",
   "id": "ade5eaa7",
   "metadata": {},
   "source": [
    "### ```CREATE PROCEDURE {스토어드_프로시저} ~ ``` : 스토어드 프로시저 생성\n",
    "\n",
    "```SQL\n",
    "DELIMITER $$\n",
    "CREATE PROCEDURE {스토어드_프로시저} (\n",
    "    IN {입력 매개변수} {데이터_형식},\n",
    "    OUT {출력 매개변수} {데이터_형식}\n",
    "BEGIN\n",
    "\n",
    "~ \n",
    "\n",
    "END $$\n",
    "DELIMITER ;\n",
    "```"
   ]
  },
  {
   "cell_type": "markdown",
   "id": "b21f3fd7",
   "metadata": {},
   "source": [
    "### ```CALL {스토어드_프로시저}(입력값)``` : 스토어드 프로시저 실행\n",
    "```SQL\n",
    "CALL {스토어드_프로시저}(입력값);\n",
    "```"
   ]
  },
  {
   "cell_type": "markdown",
   "id": "f34c7bb6",
   "metadata": {},
   "source": [
    "### ```DROP PROCEDURE {스토어드_프로시저}``` : 스토어드 프로시저 삭제\n",
    "```SQL\n",
    "DROP PROCEDURE IF EXISTS {스토어드 프로시저};\n",
    "```"
   ]
  },
  {
   "cell_type": "markdown",
   "id": "0999e603",
   "metadata": {},
   "source": [
    "#  \n",
    "### 스토어드 프로시저 활용"
   ]
  },
  {
   "cell_type": "markdown",
   "id": "f09b4301",
   "metadata": {},
   "source": [
    "**성별을 입력하면, 데이터 내 성별에 해당하는 데이터의 개수를 반환하는 스토어드 프로시저 생성**"
   ]
  },
  {
   "cell_type": "markdown",
   "id": "3557781d",
   "metadata": {},
   "source": [
    "```SQL\n",
    "DROP PROCEDURE IF EXISTS SSOL.user_proc1;\n",
    "DELIMITER $$\n",
    "CREATE PROCEDURE SSOL.user_proc1(IN SEX_input CHAR(10))\n",
    "BEGIN\n",
    "\tSELECT Sex, count(*) AS n FROM heart \n",
    "    GROUP BY Sex \n",
    "    HAVING Sex = SEX_input;\n",
    "END $$\n",
    "DELIMITER ;\n",
    "```"
   ]
  },
  {
   "cell_type": "code",
   "execution_count": 149,
   "id": "e5443f40",
   "metadata": {},
   "outputs": [
    {
     "data": {
      "text/html": [
       "<table class=\"dataframe\">\n",
       "<caption>A grouped_df: 1 × 2</caption>\n",
       "<thead>\n",
       "\t<tr><th scope=col>Sex</th><th scope=col>n</th></tr>\n",
       "\t<tr><th scope=col>&lt;chr&gt;</th><th scope=col>&lt;int&gt;</th></tr>\n",
       "</thead>\n",
       "<tbody>\n",
       "\t<tr><td>M</td><td>725</td></tr>\n",
       "</tbody>\n",
       "</table>\n"
      ],
      "text/latex": [
       "A grouped\\_df: 1 × 2\n",
       "\\begin{tabular}{ll}\n",
       " Sex & n\\\\\n",
       " <chr> & <int>\\\\\n",
       "\\hline\n",
       "\t M & 725\\\\\n",
       "\\end{tabular}\n"
      ],
      "text/markdown": [
       "\n",
       "A grouped_df: 1 × 2\n",
       "\n",
       "| Sex &lt;chr&gt; | n &lt;int&gt; |\n",
       "|---|---|\n",
       "| M | 725 |\n",
       "\n"
      ],
      "text/plain": [
       "  Sex n  \n",
       "1 M   725"
      ]
     },
     "metadata": {},
     "output_type": "display_data"
    }
   ],
   "source": [
    "dbGetQuery(conn, \"CALL SSOL.user_proc1('M');\")"
   ]
  },
  {
   "cell_type": "code",
   "execution_count": 153,
   "id": "8f210966",
   "metadata": {},
   "outputs": [
    {
     "data": {
      "text/html": [
       "<table class=\"dataframe\">\n",
       "<caption>A grouped_df: 1 × 2</caption>\n",
       "<thead>\n",
       "\t<tr><th scope=col>Sex</th><th scope=col>n</th></tr>\n",
       "\t<tr><th scope=col>&lt;chr&gt;</th><th scope=col>&lt;int&gt;</th></tr>\n",
       "</thead>\n",
       "<tbody>\n",
       "\t<tr><td>F</td><td>193</td></tr>\n",
       "</tbody>\n",
       "</table>\n"
      ],
      "text/latex": [
       "A grouped\\_df: 1 × 2\n",
       "\\begin{tabular}{ll}\n",
       " Sex & n\\\\\n",
       " <chr> & <int>\\\\\n",
       "\\hline\n",
       "\t F & 193\\\\\n",
       "\\end{tabular}\n"
      ],
      "text/markdown": [
       "\n",
       "A grouped_df: 1 × 2\n",
       "\n",
       "| Sex &lt;chr&gt; | n &lt;int&gt; |\n",
       "|---|---|\n",
       "| F | 193 |\n",
       "\n"
      ],
      "text/plain": [
       "  Sex n  \n",
       "1 F   193"
      ]
     },
     "metadata": {},
     "output_type": "display_data"
    }
   ],
   "source": [
    "dbGetQuery(conn, \"CALL SSOL.user_proc1('F');\")"
   ]
  },
  {
   "cell_type": "markdown",
   "id": "2487868d",
   "metadata": {},
   "source": [
    "**매개변수가 2개인 함수** : 성별과 나이를 입력"
   ]
  },
  {
   "cell_type": "markdown",
   "id": "19518ab2",
   "metadata": {},
   "source": [
    "```SQL\n",
    "DROP PROCEDURE IF EXISTS SSOL.user_proc3;\n",
    "DELIMITER $$\n",
    "CREATE PROCEDURE SSOL.user_proc3(\n",
    "\tIN SEX_input CHAR(10),\n",
    "    IN Age_input INT(10)\n",
    "    )\n",
    "BEGIN\n",
    "\tSELECT Age, Sex, count(*) AS n FROM heart \n",
    "    GROUP BY Age, Sex \n",
    "    HAVING Sex = SEX_input AND Age > Age_input;\n",
    "END $$\n",
    "DELIMITER ;\n",
    "\n",
    "```"
   ]
  },
  {
   "cell_type": "code",
   "execution_count": 158,
   "id": "7c1fb650",
   "metadata": {},
   "outputs": [
    {
     "data": {
      "text/html": [
       "<table class=\"dataframe\">\n",
       "<caption>A grouped_df: 4 × 3</caption>\n",
       "<thead>\n",
       "\t<tr><th scope=col>Age</th><th scope=col>Sex</th><th scope=col>n</th></tr>\n",
       "\t<tr><th scope=col>&lt;int&gt;</th><th scope=col>&lt;chr&gt;</th><th scope=col>&lt;int&gt;</th></tr>\n",
       "</thead>\n",
       "<tbody>\n",
       "\t<tr><td>71</td><td>F</td><td>3</td></tr>\n",
       "\t<tr><td>73</td><td>F</td><td>1</td></tr>\n",
       "\t<tr><td>74</td><td>F</td><td>1</td></tr>\n",
       "\t<tr><td>76</td><td>F</td><td>1</td></tr>\n",
       "</tbody>\n",
       "</table>\n"
      ],
      "text/latex": [
       "A grouped\\_df: 4 × 3\n",
       "\\begin{tabular}{lll}\n",
       " Age & Sex & n\\\\\n",
       " <int> & <chr> & <int>\\\\\n",
       "\\hline\n",
       "\t 71 & F & 3\\\\\n",
       "\t 73 & F & 1\\\\\n",
       "\t 74 & F & 1\\\\\n",
       "\t 76 & F & 1\\\\\n",
       "\\end{tabular}\n"
      ],
      "text/markdown": [
       "\n",
       "A grouped_df: 4 × 3\n",
       "\n",
       "| Age &lt;int&gt; | Sex &lt;chr&gt; | n &lt;int&gt; |\n",
       "|---|---|---|\n",
       "| 71 | F | 3 |\n",
       "| 73 | F | 1 |\n",
       "| 74 | F | 1 |\n",
       "| 76 | F | 1 |\n",
       "\n"
      ],
      "text/plain": [
       "  Age Sex n\n",
       "1 71  F   3\n",
       "2 73  F   1\n",
       "3 74  F   1\n",
       "4 76  F   1"
      ]
     },
     "metadata": {},
     "output_type": "display_data"
    }
   ],
   "source": [
    "dbGetQuery(conn, \"CALL SSOL.user_proc3('F', 70);\")"
   ]
  },
  {
   "cell_type": "markdown",
   "id": "bd3c95ef",
   "metadata": {},
   "source": [
    "## \n",
    "### 출력 매개변수의 활용"
   ]
  },
  {
   "cell_type": "markdown",
   "id": "f514874e",
   "metadata": {},
   "source": [
    "**noTable이라는 이름의 테이블에 넘겨 받은 값을 입력**\n",
    "\n",
    "**id열의 최대 값을 알아내는 기능**\n",
    "\n",
    "**id열의 최대값은 결국 방금 입력한 행의 순차 번호**"
   ]
  },
  {
   "cell_type": "markdown",
   "id": "c171c874",
   "metadata": {},
   "source": [
    "```SQL    \n",
    "DELIMITER $$    \n",
    "CREATE PROCEDURE SSOL.user_proc4(\n",
    "    IN txtValue CHAR(10),\n",
    "    OUT outValue INT     )\n",
    "BEGIN\n",
    "  INSERT INTO noTable VALUES(NULL, txtValue);\n",
    "  SELECT MAX(id) INTO outValue FROM noTable; \n",
    "END $$\n",
    "DELIMITER ; \n",
    "```"
   ]
  },
  {
   "cell_type": "markdown",
   "id": "cb7ad755",
   "metadata": {},
   "source": [
    "```SQL\n",
    "CREATE TABLE IF NOT EXISTS noTable(\n",
    "    id INT AUTO_INCREMENT PRIMARY KEY, \n",
    "    txt CHAR(10));\n",
    "```"
   ]
  },
  {
   "cell_type": "code",
   "execution_count": 164,
   "id": "f8e02b07",
   "metadata": {},
   "outputs": [
    {
     "data": {
      "text/html": [
       "<table class=\"dataframe\">\n",
       "<caption>A data.frame: 2 × 6</caption>\n",
       "<thead>\n",
       "\t<tr><th scope=col>Field</th><th scope=col>Type</th><th scope=col>Null</th><th scope=col>Key</th><th scope=col>Default</th><th scope=col>Extra</th></tr>\n",
       "\t<tr><th scope=col>&lt;chr&gt;</th><th scope=col>&lt;chr&gt;</th><th scope=col>&lt;chr&gt;</th><th scope=col>&lt;chr&gt;</th><th scope=col>&lt;chr&gt;</th><th scope=col>&lt;chr&gt;</th></tr>\n",
       "</thead>\n",
       "<tbody>\n",
       "\t<tr><td>id </td><td>int     </td><td>NO </td><td>PRI</td><td>NA</td><td>auto_increment</td></tr>\n",
       "\t<tr><td>txt</td><td>char(10)</td><td>YES</td><td>   </td><td>NA</td><td>              </td></tr>\n",
       "</tbody>\n",
       "</table>\n"
      ],
      "text/latex": [
       "A data.frame: 2 × 6\n",
       "\\begin{tabular}{llllll}\n",
       " Field & Type & Null & Key & Default & Extra\\\\\n",
       " <chr> & <chr> & <chr> & <chr> & <chr> & <chr>\\\\\n",
       "\\hline\n",
       "\t id  & int      & NO  & PRI & NA & auto\\_increment\\\\\n",
       "\t txt & char(10) & YES &     & NA &               \\\\\n",
       "\\end{tabular}\n"
      ],
      "text/markdown": [
       "\n",
       "A data.frame: 2 × 6\n",
       "\n",
       "| Field &lt;chr&gt; | Type &lt;chr&gt; | Null &lt;chr&gt; | Key &lt;chr&gt; | Default &lt;chr&gt; | Extra &lt;chr&gt; |\n",
       "|---|---|---|---|---|---|\n",
       "| id  | int      | NO  | PRI | NA | auto_increment |\n",
       "| txt | char(10) | YES | <!----> | NA | <!----> |\n",
       "\n"
      ],
      "text/plain": [
       "  Field Type     Null Key Default Extra         \n",
       "1 id    int      NO   PRI NA      auto_increment\n",
       "2 txt   char(10) YES      NA                    "
      ]
     },
     "metadata": {},
     "output_type": "display_data"
    }
   ],
   "source": [
    "dbGetQuery(conn, \"desc noTable;\")"
   ]
  },
  {
   "cell_type": "markdown",
   "id": "f4723e02",
   "metadata": {},
   "source": [
    "- noTable의 txt열에 값들을 저장하고, 테이블의 id열 최댓값을 @myValue에 저장 "
   ]
  },
  {
   "cell_type": "code",
   "execution_count": 169,
   "id": "d8490612",
   "metadata": {},
   "outputs": [
    {
     "data": {
      "text/html": [],
      "text/latex": [],
      "text/markdown": [],
      "text/plain": [
       "<0 x 0 matrix>"
      ]
     },
     "metadata": {},
     "output_type": "display_data"
    },
    {
     "data": {
      "text/html": [],
      "text/latex": [],
      "text/markdown": [],
      "text/plain": [
       "<0 x 0 matrix>"
      ]
     },
     "metadata": {},
     "output_type": "display_data"
    }
   ],
   "source": [
    "dbGetQuery(conn, \"CALL SSOL.user_proc4 ('A', @myValue);\")\n",
    "dbGetQuery(conn, \"CALL SSOL.user_proc4 ('B', @myValue);\")\n",
    "dbGetQuery(conn, \"CALL SSOL.user_proc4 ('C', @myValue);\")\n",
    "dbGetQuery(conn, \"CALL SSOL.user_proc4 ('D', @myValue);\")"
   ]
  },
  {
   "cell_type": "code",
   "execution_count": 170,
   "id": "cfb43d61",
   "metadata": {},
   "outputs": [
    {
     "data": {
      "text/html": [
       "<table class=\"dataframe\">\n",
       "<caption>A data.frame: 1 × 1</caption>\n",
       "<thead>\n",
       "\t<tr><th scope=col>CONCAT('INPUT ID Value =&gt;', @myValue)</th></tr>\n",
       "\t<tr><th scope=col>&lt;chr&gt;</th></tr>\n",
       "</thead>\n",
       "<tbody>\n",
       "\t<tr><td>INPUT ID Value =&gt;4</td></tr>\n",
       "</tbody>\n",
       "</table>\n"
      ],
      "text/latex": [
       "A data.frame: 1 × 1\n",
       "\\begin{tabular}{l}\n",
       " CONCAT('INPUT ID Value =>', @myValue)\\\\\n",
       " <chr>\\\\\n",
       "\\hline\n",
       "\t INPUT ID Value =>4\\\\\n",
       "\\end{tabular}\n"
      ],
      "text/markdown": [
       "\n",
       "A data.frame: 1 × 1\n",
       "\n",
       "| CONCAT('INPUT ID Value =&gt;', @myValue) &lt;chr&gt; |\n",
       "|---|\n",
       "| INPUT ID Value =&gt;4 |\n",
       "\n"
      ],
      "text/plain": [
       "  CONCAT('INPUT ID Value =>', @myValue)\n",
       "1 INPUT ID Value =>4                   "
      ]
     },
     "metadata": {},
     "output_type": "display_data"
    }
   ],
   "source": [
    "dbGetQuery(conn, \"SELECT CONCAT('INPUT ID Value =>', @myValue);\")"
   ]
  },
  {
   "cell_type": "markdown",
   "id": "2eb6ebaa",
   "metadata": {},
   "source": [
    "## \n",
    "\n",
    "### SQL 프로그래밍 활용"
   ]
  },
  {
   "cell_type": "markdown",
   "id": "315a8e5c",
   "metadata": {},
   "source": [
    "### ```DECLARE``` : 지역변수 생성"
   ]
  },
  {
   "cell_type": "markdown",
   "id": "141431dc",
   "metadata": {},
   "source": [
    "\n",
    "### ```IF ``` : IF 조건문\n",
    "\n",
    "```SQL\n",
    "IF {조건1} THEN {SQL문1}\n",
    "ELSE {SQL문2}\n",
    "END IF;\n",
    "```"
   ]
  },
  {
   "cell_type": "markdown",
   "id": "b996e3c1",
   "metadata": {},
   "source": [
    "- debutDate, curDate, days 날짜 지역 변수 생성\n",
    "- member테이블에서 mem_id가 ‘APN’인 데이터의 debut_date를 debutDate에 저장\n",
    "- curDATE를 현재 날짜로 설정, days를 debutDate부터 curDATE까지 지난 일 수로 저장\n",
    "- days/365 > 5 조건을 만족하는지 여부에 따라 메시지 생성하는 스토어드 프로시져 생성"
   ]
  },
  {
   "cell_type": "code",
   "execution_count": 220,
   "id": "5fbf1917",
   "metadata": {},
   "outputs": [
    {
     "data": {
      "text/html": [
       "<table class=\"dataframe\">\n",
       "<caption>A data.frame: 6 × 8</caption>\n",
       "<thead>\n",
       "\t<tr><th></th><th scope=col>mem_id</th><th scope=col>mem_name</th><th scope=col>mem_number</th><th scope=col>addr</th><th scope=col>phone1</th><th scope=col>phone2</th><th scope=col>height</th><th scope=col>debut_date</th></tr>\n",
       "\t<tr><th></th><th scope=col>&lt;chr&gt;</th><th scope=col>&lt;chr&gt;</th><th scope=col>&lt;int&gt;</th><th scope=col>&lt;chr&gt;</th><th scope=col>&lt;chr&gt;</th><th scope=col>&lt;chr&gt;</th><th scope=col>&lt;int&gt;</th><th scope=col>&lt;chr&gt;</th></tr>\n",
       "</thead>\n",
       "<tbody>\n",
       "\t<tr><th scope=row>1</th><td>APN</td><td>에이핑크</td><td>6</td><td>경기</td><td>031</td><td>77777777</td><td>164</td><td>2011-02-10</td></tr>\n",
       "\t<tr><th scope=row>2</th><td>BLK</td><td>블랙핑크</td><td>4</td><td>경남</td><td>055</td><td>22222222</td><td>163</td><td>2016-08-08</td></tr>\n",
       "\t<tr><th scope=row>3</th><td>GRL</td><td>소녀시대</td><td>8</td><td>서울</td><td>02 </td><td>44444444</td><td>168</td><td>2007-08-02</td></tr>\n",
       "\t<tr><th scope=row>4</th><td>ITZ</td><td>잇지    </td><td>5</td><td>경남</td><td>NA </td><td>NA      </td><td>167</td><td>2019-02-12</td></tr>\n",
       "\t<tr><th scope=row>5</th><td>MMU</td><td>마마무  </td><td>4</td><td>전남</td><td>061</td><td>99999999</td><td>165</td><td>2014-06-19</td></tr>\n",
       "\t<tr><th scope=row>6</th><td>OMY</td><td>오마이걸</td><td>7</td><td>서울</td><td>NA </td><td>NA      </td><td>160</td><td>2015-04-21</td></tr>\n",
       "</tbody>\n",
       "</table>\n"
      ],
      "text/latex": [
       "A data.frame: 6 × 8\n",
       "\\begin{tabular}{r|llllllll}\n",
       "  & mem\\_id & mem\\_name & mem\\_number & addr & phone1 & phone2 & height & debut\\_date\\\\\n",
       "  & <chr> & <chr> & <int> & <chr> & <chr> & <chr> & <int> & <chr>\\\\\n",
       "\\hline\n",
       "\t1 & APN & 에이핑크 & 6 & 경기 & 031 & 77777777 & 164 & 2011-02-10\\\\\n",
       "\t2 & BLK & 블랙핑크 & 4 & 경남 & 055 & 22222222 & 163 & 2016-08-08\\\\\n",
       "\t3 & GRL & 소녀시대 & 8 & 서울 & 02  & 44444444 & 168 & 2007-08-02\\\\\n",
       "\t4 & ITZ & 잇지     & 5 & 경남 & NA  & NA       & 167 & 2019-02-12\\\\\n",
       "\t5 & MMU & 마마무   & 4 & 전남 & 061 & 99999999 & 165 & 2014-06-19\\\\\n",
       "\t6 & OMY & 오마이걸 & 7 & 서울 & NA  & NA       & 160 & 2015-04-21\\\\\n",
       "\\end{tabular}\n"
      ],
      "text/markdown": [
       "\n",
       "A data.frame: 6 × 8\n",
       "\n",
       "| <!--/--> | mem_id &lt;chr&gt; | mem_name &lt;chr&gt; | mem_number &lt;int&gt; | addr &lt;chr&gt; | phone1 &lt;chr&gt; | phone2 &lt;chr&gt; | height &lt;int&gt; | debut_date &lt;chr&gt; |\n",
       "|---|---|---|---|---|---|---|---|---|\n",
       "| 1 | APN | 에이핑크 | 6 | 경기 | 031 | 77777777 | 164 | 2011-02-10 |\n",
       "| 2 | BLK | 블랙핑크 | 4 | 경남 | 055 | 22222222 | 163 | 2016-08-08 |\n",
       "| 3 | GRL | 소녀시대 | 8 | 서울 | 02  | 44444444 | 168 | 2007-08-02 |\n",
       "| 4 | ITZ | 잇지     | 5 | 경남 | NA  | NA       | 167 | 2019-02-12 |\n",
       "| 5 | MMU | 마마무   | 4 | 전남 | 061 | 99999999 | 165 | 2014-06-19 |\n",
       "| 6 | OMY | 오마이걸 | 7 | 서울 | NA  | NA       | 160 | 2015-04-21 |\n",
       "\n"
      ],
      "text/plain": [
       "  mem_id mem_name mem_number addr phone1 phone2   height debut_date\n",
       "1 APN    에이핑크 6          경기 031    77777777 164    2011-02-10\n",
       "2 BLK    블랙핑크 4          경남 055    22222222 163    2016-08-08\n",
       "3 GRL    소녀시대 8          서울 02     44444444 168    2007-08-02\n",
       "4 ITZ    잇지     5          경남 NA     NA       167    2019-02-12\n",
       "5 MMU    마마무   4          전남 061    99999999 165    2014-06-19\n",
       "6 OMY    오마이걸 7          서울 NA     NA       160    2015-04-21"
      ]
     },
     "metadata": {},
     "output_type": "display_data"
    }
   ],
   "source": [
    "dbGetQuery(conn, \"SELECT * FROM market_db.member\")"
   ]
  },
  {
   "cell_type": "markdown",
   "id": "128bc393",
   "metadata": {},
   "source": [
    "```SQL\n",
    "DROP PROCEDURE IF EXISTS ifProc3;\n",
    "DELIMITER $$\n",
    "CREATE PROCEDURE ifProc3()\n",
    "BEGIN\n",
    "    DECLARE debutDate DATE; \n",
    "    DECLARE curDate DATE; \n",
    "    DECLARE days INT; \n",
    "    SELECT debut_date INTO debutDate \n",
    "       FROM market_db.member\n",
    "       WHERE mem_id = 'APN';\n",
    "    SET curDATE = CURRENT_DATE(); \n",
    "    SET days =  DATEDIFF(curDATE, debutDate); \n",
    "    IF (days/365) >= 5 THEN -- 5년이 지났다면\n",
    "          SELECT CONCAT('It has been ', days, 'days.');\n",
    "    ELSE\n",
    "          SELECT 'It has been only ' + days + 'days.' ;\n",
    "    END IF;\n",
    "END $$\n",
    "DELIMITER ;\n",
    "```"
   ]
  },
  {
   "cell_type": "code",
   "execution_count": 212,
   "id": "5221e304",
   "metadata": {},
   "outputs": [
    {
     "data": {
      "text/html": [
       "<table class=\"dataframe\">\n",
       "<caption>A data.frame: 1 × 1</caption>\n",
       "<thead>\n",
       "\t<tr><th scope=col>CONCAT('It has been ', days, 'days.')</th></tr>\n",
       "\t<tr><th scope=col>&lt;chr&gt;</th></tr>\n",
       "</thead>\n",
       "<tbody>\n",
       "\t<tr><td>It has been 4155days.</td></tr>\n",
       "</tbody>\n",
       "</table>\n"
      ],
      "text/latex": [
       "A data.frame: 1 × 1\n",
       "\\begin{tabular}{l}\n",
       " CONCAT('It has been ', days, 'days.')\\\\\n",
       " <chr>\\\\\n",
       "\\hline\n",
       "\t It has been 4155days.\\\\\n",
       "\\end{tabular}\n"
      ],
      "text/markdown": [
       "\n",
       "A data.frame: 1 × 1\n",
       "\n",
       "| CONCAT('It has been ', days, 'days.') &lt;chr&gt; |\n",
       "|---|\n",
       "| It has been 4155days. |\n",
       "\n"
      ],
      "text/plain": [
       "  CONCAT('It has been ', days, 'days.')\n",
       "1 It has been 4155days.                "
      ]
     },
     "metadata": {},
     "output_type": "display_data"
    }
   ],
   "source": [
    "dbGetQuery(conn, \"CALL market_db.ifProc3(); \")"
   ]
  },
  {
   "cell_type": "markdown",
   "id": "aee6f2db",
   "metadata": {},
   "source": [
    "# \n",
    "\n",
    "### ```CASE``` : CASE 조건문\n",
    "```SQL\n",
    "CASE\n",
    "WHEN {조건1} THEN {SQL문1}\n",
    "WHEN {조건2} THEN {SQL문2}\n",
    "~ \n",
    "ELSE {SQL문}\n",
    "END CASE;\n",
    "```\n",
    "- case문의 결과는 select문의 호출 대상이 될 수 있다\n"
   ]
  },
  {
   "cell_type": "markdown",
   "id": "9f485c51",
   "metadata": {},
   "source": [
    "**buy B 테이블과 member M 테이블에서, member M을 기준으로 결합하고**\n",
    "\n",
    "**결합한 데이터를 M.mem_id별 M.mem_id, M.mem_name, SUM(price*amount) (Total), CASE문에 따른 ‘Grade’를, Total의 내림차순으로 호출**"
   ]
  },
  {
   "cell_type": "markdown",
   "id": "b5d3acb4",
   "metadata": {},
   "source": [
    "```SQL\n",
    "CREATE TABLE Grade \n",
    "AS\n",
    "SELECT M.mem_id, M.mem_name, SUM(price*amount) AS Total,\n",
    "        CASE  \n",
    "           WHEN (SUM(price*amount)  >= 1500) THEN 'A grade'\n",
    "           WHEN (SUM(price*amount)  >= 1000) THEN 'B grade'\n",
    "           WHEN (SUM(price*amount) >= 1 ) THEN 'C grade'\n",
    "           ELSE 'D grade'\n",
    "        END \"Grade\"\n",
    "   FROM buy B\n",
    "         RIGHT OUTER JOIN member M\n",
    "         ON B.mem_id = M.mem_id\n",
    "   GROUP BY M.mem_id\n",
    "   ORDER BY Total DESC ; \n",
    "```"
   ]
  },
  {
   "cell_type": "code",
   "execution_count": 222,
   "id": "6417da6a",
   "metadata": {},
   "outputs": [
    {
     "name": "stderr",
     "output_type": "stream",
     "text": [
      "Warning message in .local(conn, statement, ...):\n",
      "\"Decimal MySQL column 1 imported as numeric\"\n"
     ]
    },
    {
     "data": {
      "text/html": [
       "<table class=\"dataframe\">\n",
       "<caption>A data.frame: 10 × 3</caption>\n",
       "<thead>\n",
       "\t<tr><th scope=col>mem_id</th><th scope=col>Total</th><th scope=col>Grade</th></tr>\n",
       "\t<tr><th scope=col>&lt;chr&gt;</th><th scope=col>&lt;dbl&gt;</th><th scope=col>&lt;chr&gt;</th></tr>\n",
       "</thead>\n",
       "<tbody>\n",
       "\t<tr><td>MMU</td><td>1950</td><td>A grade</td></tr>\n",
       "\t<tr><td>BLK</td><td>1210</td><td>B grade</td></tr>\n",
       "\t<tr><td>APN</td><td> 295</td><td>C grade</td></tr>\n",
       "\t<tr><td>GRL</td><td>  75</td><td>C grade</td></tr>\n",
       "\t<tr><td>ITZ</td><td>  NA</td><td>D grade</td></tr>\n",
       "\t<tr><td>OMY</td><td>  NA</td><td>D grade</td></tr>\n",
       "\t<tr><td>RED</td><td>  NA</td><td>D grade</td></tr>\n",
       "\t<tr><td>SPC</td><td>  NA</td><td>D grade</td></tr>\n",
       "\t<tr><td>TWC</td><td>  NA</td><td>D grade</td></tr>\n",
       "\t<tr><td>WMN</td><td>  NA</td><td>D grade</td></tr>\n",
       "</tbody>\n",
       "</table>\n"
      ],
      "text/latex": [
       "A data.frame: 10 × 3\n",
       "\\begin{tabular}{lll}\n",
       " mem\\_id & Total & Grade\\\\\n",
       " <chr> & <dbl> & <chr>\\\\\n",
       "\\hline\n",
       "\t MMU & 1950 & A grade\\\\\n",
       "\t BLK & 1210 & B grade\\\\\n",
       "\t APN &  295 & C grade\\\\\n",
       "\t GRL &   75 & C grade\\\\\n",
       "\t ITZ &   NA & D grade\\\\\n",
       "\t OMY &   NA & D grade\\\\\n",
       "\t RED &   NA & D grade\\\\\n",
       "\t SPC &   NA & D grade\\\\\n",
       "\t TWC &   NA & D grade\\\\\n",
       "\t WMN &   NA & D grade\\\\\n",
       "\\end{tabular}\n"
      ],
      "text/markdown": [
       "\n",
       "A data.frame: 10 × 3\n",
       "\n",
       "| mem_id &lt;chr&gt; | Total &lt;dbl&gt; | Grade &lt;chr&gt; |\n",
       "|---|---|---|\n",
       "| MMU | 1950 | A grade |\n",
       "| BLK | 1210 | B grade |\n",
       "| APN |  295 | C grade |\n",
       "| GRL |   75 | C grade |\n",
       "| ITZ |   NA | D grade |\n",
       "| OMY |   NA | D grade |\n",
       "| RED |   NA | D grade |\n",
       "| SPC |   NA | D grade |\n",
       "| TWC |   NA | D grade |\n",
       "| WMN |   NA | D grade |\n",
       "\n"
      ],
      "text/plain": [
       "   mem_id Total Grade  \n",
       "1  MMU    1950  A grade\n",
       "2  BLK    1210  B grade\n",
       "3  APN     295  C grade\n",
       "4  GRL      75  C grade\n",
       "5  ITZ      NA  D grade\n",
       "6  OMY      NA  D grade\n",
       "7  RED      NA  D grade\n",
       "8  SPC      NA  D grade\n",
       "9  TWC      NA  D grade\n",
       "10 WMN      NA  D grade"
      ]
     },
     "metadata": {},
     "output_type": "display_data"
    }
   ],
   "source": [
    "dbGetQuery(conn, \"select mem_id, Total, Grade from market_db.Grade;\")"
   ]
  },
  {
   "cell_type": "markdown",
   "id": "4cbb8104",
   "metadata": {},
   "source": [
    "# \n",
    "\n",
    "### ```WHILE``` : 반복문\n",
    "```SQL\n",
    "WHILE {조건문} DO {SQL문} END WHILE;\n",
    "```\n",
    "- <조건문>이 참인 동안 반복"
   ]
  },
  {
   "cell_type": "markdown",
   "id": "ab01ccea",
   "metadata": {},
   "source": [
    "**1부터 100까지의 합 계산**"
   ]
  },
  {
   "cell_type": "markdown",
   "id": "f8dd5de2",
   "metadata": {},
   "source": [
    "```SQL\n",
    "DROP PROCEDURE IF EXISTS whileProc;\n",
    "\n",
    "DELIMITER $$\n",
    "CREATE PROCEDURE whileProc()\n",
    "BEGIN\n",
    "    DECLARE i INT; \n",
    "    DECLARE hap INT; \n",
    "    SET i = 1;\n",
    "    SET hap = 0;\n",
    "    WHILE (i <= 100) DO\n",
    "        SET hap = hap + i;  \n",
    "        SET i = i + 1;     \n",
    "    END WHILE;\n",
    "    SELECT 'Sum of 1 to 100 ==>', hap;   \n",
    "END $$\n",
    "DELIMITER ;\n",
    "```"
   ]
  },
  {
   "cell_type": "code",
   "execution_count": 230,
   "id": "333cd92f",
   "metadata": {},
   "outputs": [
    {
     "data": {
      "text/html": [
       "<table class=\"dataframe\">\n",
       "<caption>A data.frame: 1 × 2</caption>\n",
       "<thead>\n",
       "\t<tr><th scope=col>Sum of 1 to 100 ==&gt;</th><th scope=col>hap</th></tr>\n",
       "\t<tr><th scope=col>&lt;chr&gt;</th><th scope=col>&lt;int&gt;</th></tr>\n",
       "</thead>\n",
       "<tbody>\n",
       "\t<tr><td>Sum of 1 to 100 ==&gt;</td><td>5050</td></tr>\n",
       "</tbody>\n",
       "</table>\n"
      ],
      "text/latex": [
       "A data.frame: 1 × 2\n",
       "\\begin{tabular}{ll}\n",
       " Sum of 1 to 100 ==> & hap\\\\\n",
       " <chr> & <int>\\\\\n",
       "\\hline\n",
       "\t Sum of 1 to 100 ==> & 5050\\\\\n",
       "\\end{tabular}\n"
      ],
      "text/markdown": [
       "\n",
       "A data.frame: 1 × 2\n",
       "\n",
       "| Sum of 1 to 100 ==&gt; &lt;chr&gt; | hap &lt;int&gt; |\n",
       "|---|---|\n",
       "| Sum of 1 to 100 ==&gt; | 5050 |\n",
       "\n"
      ],
      "text/plain": [
       "  Sum of 1 to 100 ==> hap \n",
       "1 Sum of 1 to 100 ==> 5050"
      ]
     },
     "metadata": {},
     "output_type": "display_data"
    }
   ],
   "source": [
    "dbGetQuery(conn, \"CALL whileProc();\")"
   ]
  },
  {
   "cell_type": "markdown",
   "id": "3dbbfb3f",
   "metadata": {},
   "source": [
    "# \n",
    "\n",
    "### ```ITERATE``` : 지정한 레이블로 가서 계속 진행\n",
    "\n",
    "### ```LEAVE``` : 지정한 레이블 탈출, WHILE문 종료"
   ]
  },
  {
   "cell_type": "markdown",
   "id": "6f6fc387",
   "metadata": {},
   "source": [
    "**4의 배수를 제외한 1부터 100까지의 합, 1000이 넘으면 종료**"
   ]
  },
  {
   "cell_type": "markdown",
   "id": "fc8d5439",
   "metadata": {},
   "source": [
    "```SQL\n",
    "DELIMITER $$\n",
    "CREATE PROCEDURE whileProc2()\n",
    "BEGIN\n",
    "    DECLARE i INT; -- 1에서 100까지 증가할 지역 변수\n",
    "    DECLARE hap INT; -- 더한 값을 누적할 지역 변수\n",
    "    SET i = 1;\n",
    "    SET hap = 0;\n",
    "\n",
    "    myWhile: \n",
    "    WHILE (i <= 100) DO  -- While문에 label을 지정\n",
    "       IF (i%4 = 0) THEN\n",
    "         SET i = i + 1;     \n",
    "         ITERATE myWhile; -- 지정한 label문으로 가서 계속 진행\n",
    "       END IF;\n",
    "       SET hap = hap + i; \n",
    "       IF (hap > 1000) THEN \n",
    "         LEAVE myWhile; -- 지정한 label문을 떠남. 즉, While 종료.\n",
    "       END IF;\n",
    "       SET i = i + 1;\n",
    "    END WHILE;\n",
    "    SELECT 'Sum from 1 to 100 (excluding multiples of 4), end when over 1000 ==>', hap; \n",
    "END $$\n",
    "DELIMITER ;\n",
    "```"
   ]
  },
  {
   "cell_type": "code",
   "execution_count": 233,
   "id": "5b226186",
   "metadata": {},
   "outputs": [
    {
     "data": {
      "text/html": [
       "<table class=\"dataframe\">\n",
       "<caption>A data.frame: 1 × 2</caption>\n",
       "<thead>\n",
       "\t<tr><th scope=col>Sum from 1 to 100 (excluding multiples of 4), ending when over 1000 ==&gt;</th><th scope=col>hap</th></tr>\n",
       "\t<tr><th scope=col>&lt;chr&gt;</th><th scope=col>&lt;int&gt;</th></tr>\n",
       "</thead>\n",
       "<tbody>\n",
       "\t<tr><td>Sum from 1 to 100 (excluding multiples of 4), ending when over 1000 ==&gt;</td><td>1014</td></tr>\n",
       "</tbody>\n",
       "</table>\n"
      ],
      "text/latex": [
       "A data.frame: 1 × 2\n",
       "\\begin{tabular}{ll}\n",
       " Sum from 1 to 100 (excluding multiples of 4), ending when over 1000 ==> & hap\\\\\n",
       " <chr> & <int>\\\\\n",
       "\\hline\n",
       "\t Sum from 1 to 100 (excluding multiples of 4), ending when over 1000 ==> & 1014\\\\\n",
       "\\end{tabular}\n"
      ],
      "text/markdown": [
       "\n",
       "A data.frame: 1 × 2\n",
       "\n",
       "| Sum from 1 to 100 (excluding multiples of 4), ending when over 1000 ==&gt; &lt;chr&gt; | hap &lt;int&gt; |\n",
       "|---|---|\n",
       "| Sum from 1 to 100 (excluding multiples of 4), ending when over 1000 ==&gt; | 1014 |\n",
       "\n"
      ],
      "text/plain": [
       "  Sum from 1 to 100 (excluding multiples of 4), ending when over 1000 ==> hap \n",
       "1 Sum from 1 to 100 (excluding multiples of 4), ending when over 1000 ==> 1014"
      ]
     },
     "metadata": {},
     "output_type": "display_data"
    }
   ],
   "source": [
    "dbGetQuery(conn, \"CALL whileProc2(); \")"
   ]
  }
 ],
 "metadata": {
  "kernelspec": {
   "display_name": "R 4.1.3",
   "language": "R",
   "name": "ir32"
  },
  "language_info": {
   "codemirror_mode": "r",
   "file_extension": ".r",
   "mimetype": "text/x-r-source",
   "name": "R",
   "pygments_lexer": "r",
   "version": "4.1.3"
  }
 },
 "nbformat": 4,
 "nbformat_minor": 5
}
