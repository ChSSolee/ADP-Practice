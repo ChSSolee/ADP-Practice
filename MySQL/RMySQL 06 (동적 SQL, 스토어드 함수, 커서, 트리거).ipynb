{
 "cells": [
  {
   "cell_type": "code",
   "execution_count": 1,
   "id": "537c7391",
   "metadata": {},
   "outputs": [
    {
     "name": "stderr",
     "output_type": "stream",
     "text": [
      "-- \u001b[1mAttaching packages\u001b[22m ------------------------------------------------------------------------------- tidyverse 1.3.1 --\n",
      "\n",
      "\u001b[32mv\u001b[39m \u001b[34mggplot2\u001b[39m 3.3.5.\u001b[31m9000\u001b[39m     \u001b[32mv\u001b[39m \u001b[34mpurrr  \u001b[39m 0.3.4     \n",
      "\u001b[32mv\u001b[39m \u001b[34mtibble \u001b[39m 3.1.6          \u001b[32mv\u001b[39m \u001b[34mdplyr  \u001b[39m 1.0.8     \n",
      "\u001b[32mv\u001b[39m \u001b[34mtidyr  \u001b[39m 1.2.0          \u001b[32mv\u001b[39m \u001b[34mstringr\u001b[39m 1.4.0     \n",
      "\u001b[32mv\u001b[39m \u001b[34mreadr  \u001b[39m 2.1.2          \u001b[32mv\u001b[39m \u001b[34mforcats\u001b[39m 0.5.1     \n",
      "\n",
      "-- \u001b[1mConflicts\u001b[22m ---------------------------------------------------------------------------------- tidyverse_conflicts() --\n",
      "\u001b[31mx\u001b[39m \u001b[34mdplyr\u001b[39m::\u001b[32mfilter()\u001b[39m masks \u001b[34mstats\u001b[39m::filter()\n",
      "\u001b[31mx\u001b[39m \u001b[34mdplyr\u001b[39m::\u001b[32mlag()\u001b[39m    masks \u001b[34mstats\u001b[39m::lag()\n",
      "\n",
      "Loading required package: DBI\n",
      "\n"
     ]
    },
    {
     "data": {
      "text/html": [],
      "text/latex": [],
      "text/markdown": [],
      "text/plain": [
       "<0 x 0 matrix>"
      ]
     },
     "metadata": {},
     "output_type": "display_data"
    }
   ],
   "source": [
    "library(tidyverse);library(RMySQL)\n",
    "conn <- dbConnect(\n",
    "  MySQL(),\n",
    "  user = 'root', \n",
    "  password = 'skt1fa!ker', \n",
    "  host = 'localhost',\n",
    "  client.flag = CLIENT_MULTI_RESULTS\n",
    ")\n",
    "dbGetQuery(conn, \"USE market_db\")"
   ]
  },
  {
   "cell_type": "markdown",
   "id": "223bc5f9",
   "metadata": {},
   "source": [
    "### 동적 SQL\n",
    "\n",
    "### ```PREPARE ~ FROM``` : SQL문을 준비만 해놓음\n",
    "### ```EXECUTE ~ USING``` : PREPARE한 것을 대입하여 실행\n",
    "### ```DEALLOCATE PREPARE``` : EXECUTE한 후 문장을 해제 (초기화)"
   ]
  },
  {
   "cell_type": "markdown",
   "id": "e4d8ac19",
   "metadata": {},
   "source": [
    "- **PREPARE은 ‘SELECT’문을 실행하지 않고 mySQL이라는 이름으로 준비**\n",
    "- **EXECUTE로 mySQL에 저장된 ‘SELECT’문을 실행할 때 USING으로 ‘?’에 @limit 변수 대입**"
   ]
  },
  {
   "cell_type": "code",
   "execution_count": 6,
   "id": "28b1a7eb",
   "metadata": {},
   "outputs": [
    {
     "data": {
      "text/html": [
       "<table class=\"dataframe\">\n",
       "<caption>A data.frame: 3 × 5</caption>\n",
       "<thead>\n",
       "\t<tr><th scope=col>ID</th><th scope=col>Name</th><th scope=col>CountryCode</th><th scope=col>District</th><th scope=col>Population</th></tr>\n",
       "\t<tr><th scope=col>&lt;int&gt;</th><th scope=col>&lt;chr&gt;</th><th scope=col>&lt;chr&gt;</th><th scope=col>&lt;chr&gt;</th><th scope=col>&lt;int&gt;</th></tr>\n",
       "</thead>\n",
       "<tbody>\n",
       "\t<tr><td>1024</td><td>Mumbai (Bombay)</td><td>IND</td><td>Maharashtra </td><td>10500000</td></tr>\n",
       "\t<tr><td>2331</td><td>Seoul          </td><td>KOR</td><td>Seoul       </td><td> 9981619</td></tr>\n",
       "\t<tr><td> 206</td><td>S횄짙o Paulo   </td><td>BRA</td><td>S횄짙o Paulo</td><td> 9968485</td></tr>\n",
       "</tbody>\n",
       "</table>\n"
      ],
      "text/latex": [
       "A data.frame: 3 × 5\n",
       "\\begin{tabular}{lllll}\n",
       " ID & Name & CountryCode & District & Population\\\\\n",
       " <int> & <chr> & <chr> & <chr> & <int>\\\\\n",
       "\\hline\n",
       "\t 1024 & Mumbai (Bombay) & IND & Maharashtra  & 10500000\\\\\n",
       "\t 2331 & Seoul           & KOR & Seoul        &  9981619\\\\\n",
       "\t  206 & S횄짙o Paulo    & BRA & S횄짙o Paulo &  9968485\\\\\n",
       "\\end{tabular}\n"
      ],
      "text/markdown": [
       "\n",
       "A data.frame: 3 × 5\n",
       "\n",
       "| ID &lt;int&gt; | Name &lt;chr&gt; | CountryCode &lt;chr&gt; | District &lt;chr&gt; | Population &lt;int&gt; |\n",
       "|---|---|---|---|---|\n",
       "| 1024 | Mumbai (Bombay) | IND | Maharashtra  | 10500000 |\n",
       "| 2331 | Seoul           | KOR | Seoul        |  9981619 |\n",
       "|  206 | S횄짙o Paulo    | BRA | S횄짙o Paulo |  9968485 |\n",
       "\n"
      ],
      "text/plain": [
       "  ID   Name            CountryCode District     Population\n",
       "1 1024 Mumbai (Bombay) IND         Maharashtra  10500000  \n",
       "2 2331 Seoul           KOR         Seoul         9981619  \n",
       "3  206 S횄짙o Paulo    BRA         S횄짙o Paulo  9968485  "
      ]
     },
     "metadata": {},
     "output_type": "display_data"
    }
   ],
   "source": [
    "dbGetQuery(conn, \"SET @limit = 3\")\n",
    "dbGetQuery(conn, \"PREPARE mySQL FROM \n",
    "                  'SELECT * FROM world.city ORDER BY Population DESC LIMIT ?';\")\n",
    "dbGetQuery(conn, \"EXECUTE mySQL USING @limit; \")"
   ]
  },
  {
   "cell_type": "markdown",
   "id": "7c0e3567",
   "metadata": {},
   "source": [
    "#### **"
   ]
  },
  {
   "cell_type": "code",
   "execution_count": 11,
   "id": "9fcda04e",
   "metadata": {},
   "outputs": [
    {
     "data": {
      "text/html": [],
      "text/latex": [],
      "text/markdown": [],
      "text/plain": [
       "<0 x 0 matrix>"
      ]
     },
     "metadata": {},
     "output_type": "display_data"
    },
    {
     "data": {
      "text/html": [],
      "text/latex": [],
      "text/markdown": [],
      "text/plain": [
       "<0 x 0 matrix>"
      ]
     },
     "metadata": {},
     "output_type": "display_data"
    },
    {
     "data": {
      "text/html": [],
      "text/latex": [],
      "text/markdown": [],
      "text/plain": [
       "<0 x 0 matrix>"
      ]
     },
     "metadata": {},
     "output_type": "display_data"
    },
    {
     "data": {
      "text/html": [],
      "text/latex": [],
      "text/markdown": [],
      "text/plain": [
       "<0 x 0 matrix>"
      ]
     },
     "metadata": {},
     "output_type": "display_data"
    },
    {
     "data": {
      "text/html": [],
      "text/latex": [],
      "text/markdown": [],
      "text/plain": [
       "<0 x 0 matrix>"
      ]
     },
     "metadata": {},
     "output_type": "display_data"
    },
    {
     "data": {
      "text/html": [
       "<table class=\"dataframe\">\n",
       "<caption>A data.frame: 1 × 2</caption>\n",
       "<thead>\n",
       "\t<tr><th scope=col>id</th><th scope=col>entry_time</th></tr>\n",
       "\t<tr><th scope=col>&lt;int&gt;</th><th scope=col>&lt;chr&gt;</th></tr>\n",
       "</thead>\n",
       "<tbody>\n",
       "\t<tr><td>1</td><td>2022-06-27 02:21:58</td></tr>\n",
       "</tbody>\n",
       "</table>\n"
      ],
      "text/latex": [
       "A data.frame: 1 × 2\n",
       "\\begin{tabular}{ll}\n",
       " id & entry\\_time\\\\\n",
       " <int> & <chr>\\\\\n",
       "\\hline\n",
       "\t 1 & 2022-06-27 02:21:58\\\\\n",
       "\\end{tabular}\n"
      ],
      "text/markdown": [
       "\n",
       "A data.frame: 1 × 2\n",
       "\n",
       "| id &lt;int&gt; | entry_time &lt;chr&gt; |\n",
       "|---|---|\n",
       "| 1 | 2022-06-27 02:21:58 |\n",
       "\n"
      ],
      "text/plain": [
       "  id entry_time         \n",
       "1 1  2022-06-27 02:21:58"
      ]
     },
     "metadata": {},
     "output_type": "display_data"
    }
   ],
   "source": [
    "# - gate_table 테이블 생성 (id는 정수형, 자동입력 / entry_time은 날자 시간형 )\n",
    "dbGetQuery(conn, \"CREATE TABLE gate_table (\n",
    "                  id INT AUTO_INCREMENT PRIMARY KEY, \n",
    "                  entry_time DATETIME);\")\n",
    "\n",
    "# - curDate를 현재 시간으로 설정\n",
    "dbGetQuery(conn, \"SET @curDate = CURRENT_TIMESTAMP();\")\n",
    "\n",
    "# - PREPARE로 ‘INSERT’문을 myQuery라는 이름으로 저장\n",
    "dbGetQuery(conn, \"PREPARE myQuery FROM 'INSERT INTO gate_table VALUES(NULL, ?)';\")\n",
    "\n",
    "# - EXECUTE로 ‘INSERT’문의 ‘?’에 @curDate가 대입, \n",
    "# 즉 EXECUTE문이 실행된 시점의 날짜시간이 gate_table테이블에 저장\n",
    "dbGetQuery(conn, \"EXECUTE myQuery USING @curDate;\")\n",
    "\n",
    "# - DEALLOCATE PREFARE로 문장 해제(myQuery문 초기화)\n",
    "dbGetQuery(conn, \"DEALLOCATE PREPARE myQuery;\")\n",
    "\n",
    "dbGetQuery(conn, \"SELECT * FROM gate_table;\") "
   ]
  },
  {
   "cell_type": "markdown",
   "id": "5ba931dd",
   "metadata": {},
   "source": [
    "### 동적 SQL 스토어드 프로시저"
   ]
  },
  {
   "cell_type": "markdown",
   "id": "a22f83d2",
   "metadata": {},
   "source": [
    "**tableName에 테이블 이름을 입력하면, 입력된 테이블을 호출하는 스토어드 프로시저**"
   ]
  },
  {
   "cell_type": "markdown",
   "id": "255be32a",
   "metadata": {},
   "source": [
    "```SQL\n",
    "DELIMITER $$\n",
    "CREATE PROCEDURE dynamic_proc(\n",
    "\tIn tableName VARCHAR(20)\n",
    ")\n",
    "BEGIN\n",
    "\tSET @sqlQuery = CONCAT('SELECT * FROM ', tableName);\n",
    "    PREPARE myQuery FROM @sqlQuery;\n",
    "    EXECUTE myQuery;\n",
    "    DEALLOCATE PREPARE myQuery;\n",
    "END $$\n",
    "DELIMITER ;\n",
    "```"
   ]
  },
  {
   "cell_type": "code",
   "execution_count": 16,
   "id": "60235355",
   "metadata": {},
   "outputs": [
    {
     "data": {
      "text/html": [
       "<table class=\"dataframe\">\n",
       "<caption>A data.frame: 5 × 12</caption>\n",
       "<thead>\n",
       "\t<tr><th></th><th scope=col>Age</th><th scope=col>SEX</th><th scope=col>ChestPainType</th><th scope=col>RestingBP</th><th scope=col>Cholesterol</th><th scope=col>FastingBS</th><th scope=col>RestingECG</th><th scope=col>MaxHR</th><th scope=col>ExerciseAngina</th><th scope=col>Olepeak</th><th scope=col>ST_Slope</th><th scope=col>HeartDisease</th></tr>\n",
       "\t<tr><th></th><th scope=col>&lt;int&gt;</th><th scope=col>&lt;chr&gt;</th><th scope=col>&lt;chr&gt;</th><th scope=col>&lt;int&gt;</th><th scope=col>&lt;int&gt;</th><th scope=col>&lt;int&gt;</th><th scope=col>&lt;chr&gt;</th><th scope=col>&lt;int&gt;</th><th scope=col>&lt;chr&gt;</th><th scope=col>&lt;dbl&gt;</th><th scope=col>&lt;chr&gt;</th><th scope=col>&lt;int&gt;</th></tr>\n",
       "</thead>\n",
       "<tbody>\n",
       "\t<tr><th scope=row>1</th><td>40</td><td>M</td><td>ATA</td><td>140</td><td>289</td><td>0</td><td>Normal</td><td>172</td><td>N</td><td>0.0</td><td>Up  </td><td>0</td></tr>\n",
       "\t<tr><th scope=row>2</th><td>49</td><td>F</td><td>NAP</td><td>160</td><td>180</td><td>0</td><td>Normal</td><td>156</td><td>N</td><td>1.0</td><td>Flat</td><td>1</td></tr>\n",
       "\t<tr><th scope=row>3</th><td>37</td><td>M</td><td>ATA</td><td>130</td><td>283</td><td>0</td><td>ST    </td><td> 98</td><td>N</td><td>0.0</td><td>Up  </td><td>0</td></tr>\n",
       "\t<tr><th scope=row>4</th><td>48</td><td>F</td><td>ASY</td><td>138</td><td>214</td><td>0</td><td>Normal</td><td>108</td><td>Y</td><td>1.5</td><td>Flat</td><td>1</td></tr>\n",
       "\t<tr><th scope=row>5</th><td>54</td><td>M</td><td>NAP</td><td>150</td><td>195</td><td>0</td><td>Normal</td><td>122</td><td>N</td><td>0.0</td><td>Up  </td><td>0</td></tr>\n",
       "</tbody>\n",
       "</table>\n"
      ],
      "text/latex": [
       "A data.frame: 5 × 12\n",
       "\\begin{tabular}{r|llllllllllll}\n",
       "  & Age & SEX & ChestPainType & RestingBP & Cholesterol & FastingBS & RestingECG & MaxHR & ExerciseAngina & Olepeak & ST\\_Slope & HeartDisease\\\\\n",
       "  & <int> & <chr> & <chr> & <int> & <int> & <int> & <chr> & <int> & <chr> & <dbl> & <chr> & <int>\\\\\n",
       "\\hline\n",
       "\t1 & 40 & M & ATA & 140 & 289 & 0 & Normal & 172 & N & 0.0 & Up   & 0\\\\\n",
       "\t2 & 49 & F & NAP & 160 & 180 & 0 & Normal & 156 & N & 1.0 & Flat & 1\\\\\n",
       "\t3 & 37 & M & ATA & 130 & 283 & 0 & ST     &  98 & N & 0.0 & Up   & 0\\\\\n",
       "\t4 & 48 & F & ASY & 138 & 214 & 0 & Normal & 108 & Y & 1.5 & Flat & 1\\\\\n",
       "\t5 & 54 & M & NAP & 150 & 195 & 0 & Normal & 122 & N & 0.0 & Up   & 0\\\\\n",
       "\\end{tabular}\n"
      ],
      "text/markdown": [
       "\n",
       "A data.frame: 5 × 12\n",
       "\n",
       "| <!--/--> | Age &lt;int&gt; | SEX &lt;chr&gt; | ChestPainType &lt;chr&gt; | RestingBP &lt;int&gt; | Cholesterol &lt;int&gt; | FastingBS &lt;int&gt; | RestingECG &lt;chr&gt; | MaxHR &lt;int&gt; | ExerciseAngina &lt;chr&gt; | Olepeak &lt;dbl&gt; | ST_Slope &lt;chr&gt; | HeartDisease &lt;int&gt; |\n",
       "|---|---|---|---|---|---|---|---|---|---|---|---|---|\n",
       "| 1 | 40 | M | ATA | 140 | 289 | 0 | Normal | 172 | N | 0.0 | Up   | 0 |\n",
       "| 2 | 49 | F | NAP | 160 | 180 | 0 | Normal | 156 | N | 1.0 | Flat | 1 |\n",
       "| 3 | 37 | M | ATA | 130 | 283 | 0 | ST     |  98 | N | 0.0 | Up   | 0 |\n",
       "| 4 | 48 | F | ASY | 138 | 214 | 0 | Normal | 108 | Y | 1.5 | Flat | 1 |\n",
       "| 5 | 54 | M | NAP | 150 | 195 | 0 | Normal | 122 | N | 0.0 | Up   | 0 |\n",
       "\n"
      ],
      "text/plain": [
       "  Age SEX ChestPainType RestingBP Cholesterol FastingBS RestingECG MaxHR\n",
       "1 40  M   ATA           140       289         0         Normal     172  \n",
       "2 49  F   NAP           160       180         0         Normal     156  \n",
       "3 37  M   ATA           130       283         0         ST          98  \n",
       "4 48  F   ASY           138       214         0         Normal     108  \n",
       "5 54  M   NAP           150       195         0         Normal     122  \n",
       "  ExerciseAngina Olepeak ST_Slope HeartDisease\n",
       "1 N              0.0     Up       0           \n",
       "2 N              1.0     Flat     1           \n",
       "3 N              0.0     Up       0           \n",
       "4 Y              1.5     Flat     1           \n",
       "5 N              0.0     Up       0           "
      ]
     },
     "metadata": {},
     "output_type": "display_data"
    }
   ],
   "source": [
    "dbGetQuery(conn, \"CALL dynamic_proc('SSOL.heart');\") "
   ]
  },
  {
   "cell_type": "markdown",
   "id": "6c633ef1",
   "metadata": {},
   "source": [
    "# \n",
    "\n",
    "### 스토어드 함수 : 직접 만들어서 사용하는 함수\n",
    "\n",
    "## \n",
    "### 스토어드 함수 생성 권한 부여\n",
    "### ```SET GLOBAL log_bin_trust_function_creators = 1;```"
   ]
  },
  {
   "cell_type": "markdown",
   "id": "884b218b",
   "metadata": {},
   "source": [
    "### 스토어드 함수 생성\n",
    "\n",
    "### ```CREATE FUNCTION ~ RETURNS```\n",
    "```SQL\n",
    "DELIMITER $$\n",
    "CREATE FUNCTION {스토어드_함수_이름} (매개변수)\n",
    "RETURNS {반환형식}\n",
    "BEGIN\n",
    "~ \n",
    "END $$\n",
    "DELIMITER ;\n",
    "```"
   ]
  },
  {
   "cell_type": "markdown",
   "id": "49173da6",
   "metadata": {},
   "source": [
    "### **시간형 데이터의 년 차이를 계산하는 스토어드 함수 생성**"
   ]
  },
  {
   "cell_type": "markdown",
   "id": "309e6b6d",
   "metadata": {},
   "source": [
    "```SQL\n",
    "DELIMITER $$\n",
    "CREATE FUNCTION calcYearFunc(dYear INT)\n",
    "    RETURNS INT\n",
    "BEGIN\n",
    "    DECLARE runYear INT;\n",
    "    SET runYear = YEAR(CURDATE()) - dYear;\n",
    "    RETURN runYear;\n",
    "END $$\n",
    "DELIMITER ; \n",
    "```"
   ]
  },
  {
   "cell_type": "code",
   "execution_count": 20,
   "id": "a4aa75e3",
   "metadata": {},
   "outputs": [
    {
     "data": {
      "text/html": [],
      "text/latex": [],
      "text/markdown": [],
      "text/plain": [
       "<0 x 0 matrix>"
      ]
     },
     "metadata": {},
     "output_type": "display_data"
    },
    {
     "data": {
      "text/html": [],
      "text/latex": [],
      "text/markdown": [],
      "text/plain": [
       "<0 x 0 matrix>"
      ]
     },
     "metadata": {},
     "output_type": "display_data"
    }
   ],
   "source": [
    "dbGetQuery(conn, \"SELECT calcYearFunc(2007) INTO @debut2007;\")\n",
    "dbGetQuery(conn, \"SELECT calcYearFunc(2013) INTO @debut2013;\")"
   ]
  },
  {
   "cell_type": "code",
   "execution_count": 21,
   "id": "020ce831",
   "metadata": {},
   "outputs": [
    {
     "data": {
      "text/html": [
       "<table class=\"dataframe\">\n",
       "<caption>A data.frame: 1 × 1</caption>\n",
       "<thead>\n",
       "\t<tr><th scope=col>DATE DIFF between 2007 and 2013</th></tr>\n",
       "\t<tr><th scope=col>&lt;dbl&gt;</th></tr>\n",
       "</thead>\n",
       "<tbody>\n",
       "\t<tr><td>6</td></tr>\n",
       "</tbody>\n",
       "</table>\n"
      ],
      "text/latex": [
       "A data.frame: 1 × 1\n",
       "\\begin{tabular}{l}\n",
       " DATE DIFF between 2007 and 2013\\\\\n",
       " <dbl>\\\\\n",
       "\\hline\n",
       "\t 6\\\\\n",
       "\\end{tabular}\n"
      ],
      "text/markdown": [
       "\n",
       "A data.frame: 1 × 1\n",
       "\n",
       "| DATE DIFF between 2007 and 2013 &lt;dbl&gt; |\n",
       "|---|\n",
       "| 6 |\n",
       "\n"
      ],
      "text/plain": [
       "  DATE DIFF between 2007 and 2013\n",
       "1 6                              "
      ]
     },
     "metadata": {},
     "output_type": "display_data"
    }
   ],
   "source": [
    "dbGetQuery(conn, \"SELECT @debut2007 - @debut2013 AS 'DATE DIFF between 2007 and 2013';\")"
   ]
  },
  {
   "cell_type": "markdown",
   "id": "c6ec0470",
   "metadata": {},
   "source": [
    "**스토어드 함수를 통해 member 테이블의 활동 햇수 계산**"
   ]
  },
  {
   "cell_type": "code",
   "execution_count": 19,
   "id": "fdf74315",
   "metadata": {},
   "outputs": [
    {
     "data": {
      "text/html": [
       "<table class=\"dataframe\">\n",
       "<caption>A data.frame: 10 × 2</caption>\n",
       "<thead>\n",
       "\t<tr><th scope=col>mem_id</th><th scope=col>debut_date</th></tr>\n",
       "\t<tr><th scope=col>&lt;chr&gt;</th><th scope=col>&lt;chr&gt;</th></tr>\n",
       "</thead>\n",
       "<tbody>\n",
       "\t<tr><td>APN</td><td>2011-02-10</td></tr>\n",
       "\t<tr><td>BLK</td><td>2016-08-08</td></tr>\n",
       "\t<tr><td>GRL</td><td>2007-08-02</td></tr>\n",
       "\t<tr><td>ITZ</td><td>2019-02-12</td></tr>\n",
       "\t<tr><td>MMU</td><td>2014-06-19</td></tr>\n",
       "\t<tr><td>OMY</td><td>2015-04-21</td></tr>\n",
       "\t<tr><td>RED</td><td>2014-08-01</td></tr>\n",
       "\t<tr><td>SPC</td><td>2016-02-25</td></tr>\n",
       "\t<tr><td>TWC</td><td>2015-10-19</td></tr>\n",
       "\t<tr><td>WMN</td><td>2015-01-15</td></tr>\n",
       "</tbody>\n",
       "</table>\n"
      ],
      "text/latex": [
       "A data.frame: 10 × 2\n",
       "\\begin{tabular}{ll}\n",
       " mem\\_id & debut\\_date\\\\\n",
       " <chr> & <chr>\\\\\n",
       "\\hline\n",
       "\t APN & 2011-02-10\\\\\n",
       "\t BLK & 2016-08-08\\\\\n",
       "\t GRL & 2007-08-02\\\\\n",
       "\t ITZ & 2019-02-12\\\\\n",
       "\t MMU & 2014-06-19\\\\\n",
       "\t OMY & 2015-04-21\\\\\n",
       "\t RED & 2014-08-01\\\\\n",
       "\t SPC & 2016-02-25\\\\\n",
       "\t TWC & 2015-10-19\\\\\n",
       "\t WMN & 2015-01-15\\\\\n",
       "\\end{tabular}\n"
      ],
      "text/markdown": [
       "\n",
       "A data.frame: 10 × 2\n",
       "\n",
       "| mem_id &lt;chr&gt; | debut_date &lt;chr&gt; |\n",
       "|---|---|\n",
       "| APN | 2011-02-10 |\n",
       "| BLK | 2016-08-08 |\n",
       "| GRL | 2007-08-02 |\n",
       "| ITZ | 2019-02-12 |\n",
       "| MMU | 2014-06-19 |\n",
       "| OMY | 2015-04-21 |\n",
       "| RED | 2014-08-01 |\n",
       "| SPC | 2016-02-25 |\n",
       "| TWC | 2015-10-19 |\n",
       "| WMN | 2015-01-15 |\n",
       "\n"
      ],
      "text/plain": [
       "   mem_id debut_date\n",
       "1  APN    2011-02-10\n",
       "2  BLK    2016-08-08\n",
       "3  GRL    2007-08-02\n",
       "4  ITZ    2019-02-12\n",
       "5  MMU    2014-06-19\n",
       "6  OMY    2015-04-21\n",
       "7  RED    2014-08-01\n",
       "8  SPC    2016-02-25\n",
       "9  TWC    2015-10-19\n",
       "10 WMN    2015-01-15"
      ]
     },
     "metadata": {},
     "output_type": "display_data"
    }
   ],
   "source": [
    "dbGetQuery(conn, \"SELECT mem_id, debut_date FROM member;\")"
   ]
  },
  {
   "cell_type": "code",
   "execution_count": 22,
   "id": "54a8ee83",
   "metadata": {},
   "outputs": [
    {
     "data": {
      "text/html": [
       "<table class=\"dataframe\">\n",
       "<caption>A data.frame: 10 × 2</caption>\n",
       "<thead>\n",
       "\t<tr><th scope=col>mem_id</th><th scope=col>Act Period</th></tr>\n",
       "\t<tr><th scope=col>&lt;chr&gt;</th><th scope=col>&lt;int&gt;</th></tr>\n",
       "</thead>\n",
       "<tbody>\n",
       "\t<tr><td>APN</td><td>11</td></tr>\n",
       "\t<tr><td>BLK</td><td> 6</td></tr>\n",
       "\t<tr><td>GRL</td><td>15</td></tr>\n",
       "\t<tr><td>ITZ</td><td> 3</td></tr>\n",
       "\t<tr><td>MMU</td><td> 8</td></tr>\n",
       "\t<tr><td>OMY</td><td> 7</td></tr>\n",
       "\t<tr><td>RED</td><td> 8</td></tr>\n",
       "\t<tr><td>SPC</td><td> 6</td></tr>\n",
       "\t<tr><td>TWC</td><td> 7</td></tr>\n",
       "\t<tr><td>WMN</td><td> 7</td></tr>\n",
       "</tbody>\n",
       "</table>\n"
      ],
      "text/latex": [
       "A data.frame: 10 × 2\n",
       "\\begin{tabular}{ll}\n",
       " mem\\_id & Act Period\\\\\n",
       " <chr> & <int>\\\\\n",
       "\\hline\n",
       "\t APN & 11\\\\\n",
       "\t BLK &  6\\\\\n",
       "\t GRL & 15\\\\\n",
       "\t ITZ &  3\\\\\n",
       "\t MMU &  8\\\\\n",
       "\t OMY &  7\\\\\n",
       "\t RED &  8\\\\\n",
       "\t SPC &  6\\\\\n",
       "\t TWC &  7\\\\\n",
       "\t WMN &  7\\\\\n",
       "\\end{tabular}\n"
      ],
      "text/markdown": [
       "\n",
       "A data.frame: 10 × 2\n",
       "\n",
       "| mem_id &lt;chr&gt; | Act Period &lt;int&gt; |\n",
       "|---|---|\n",
       "| APN | 11 |\n",
       "| BLK |  6 |\n",
       "| GRL | 15 |\n",
       "| ITZ |  3 |\n",
       "| MMU |  8 |\n",
       "| OMY |  7 |\n",
       "| RED |  8 |\n",
       "| SPC |  6 |\n",
       "| TWC |  7 |\n",
       "| WMN |  7 |\n",
       "\n"
      ],
      "text/plain": [
       "   mem_id Act Period\n",
       "1  APN    11        \n",
       "2  BLK     6        \n",
       "3  GRL    15        \n",
       "4  ITZ     3        \n",
       "5  MMU     8        \n",
       "6  OMY     7        \n",
       "7  RED     8        \n",
       "8  SPC     6        \n",
       "9  TWC     7        \n",
       "10 WMN     7        "
      ]
     },
     "metadata": {},
     "output_type": "display_data"
    }
   ],
   "source": [
    "dbGetQuery(conn, \"SELECT mem_id, calcYearFunc(YEAR(debut_date)) AS 'Act Period' \n",
    "                  FROM member; \")"
   ]
  },
  {
   "cell_type": "markdown",
   "id": "4a64e319",
   "metadata": {},
   "source": [
    "### ```DROP FUNCTION``` : 스토어드 함수 제거"
   ]
  },
  {
   "cell_type": "code",
   "execution_count": 23,
   "id": "35bb89e8",
   "metadata": {},
   "outputs": [
    {
     "data": {
      "text/html": [],
      "text/latex": [],
      "text/markdown": [],
      "text/plain": [
       "<0 x 0 matrix>"
      ]
     },
     "metadata": {},
     "output_type": "display_data"
    }
   ],
   "source": [
    "dbGetQuery(conn, \"DROP FUNCTION calcYearFunc;\")"
   ]
  },
  {
   "cell_type": "markdown",
   "id": "a8bac5cd",
   "metadata": {},
   "source": [
    "# \n",
    "\n",
    "## 커서 : 모든 행을 한 행씩 처리할 때 사용\n",
    "- 변수 준비 -> 커서 선언 -> 반복 조건 선언 -> 커서 열기 -> 데이터 가져오기 -> 데이터 처리하기 -> 커서 닫기"
   ]
  },
  {
   "cell_type": "markdown",
   "id": "5a7f2bdf",
   "metadata": {},
   "source": [
    "### 1. 변수 준비"
   ]
  },
  {
   "cell_type": "markdown",
   "id": "54395234",
   "metadata": {},
   "source": [
    "### 2. 커서 선언\n",
    "### ```DECLARE {커서} CURSOR FOR```\n",
    "\n",
    "```SQL\n",
    "DECLARE 커서_이름 CURSOR FOR\n",
    "\tSELECT문 ~ FROM 테이블 ;\n",
    "```\n",
    "- SELECT문에 해당하는 커서 생성"
   ]
  },
  {
   "cell_type": "markdown",
   "id": "609325d9",
   "metadata": {},
   "source": [
    "### 3. 반복조건 선언\n",
    "### ```DECLARE CONTINUE HANDLER``` \n",
    "### ```FOR NOT FOUND SET {SQL문}```\n",
    "\n",
    "- **DECLARE CONTINUE HANDLER로 반복 조건 준비**\n",
    "- **반복할 행이 없을 때 FOR NOT FOUND SET으로 SQL문 실행**\n",
    "- 예) : 행의 끝을 판단하기 위해 변수 endOfROW를 준비 => TRUE값인지 체크하는 방식"
   ]
  },
  {
   "cell_type": "markdown",
   "id": "2954f7a0",
   "metadata": {},
   "source": [
    "### 4. 커서 열기\n",
    "### ```OPEN {커서};```"
   ]
  },
  {
   "cell_type": "markdown",
   "id": "8a49f2f5",
   "metadata": {},
   "source": [
    "### 5. 행 반복\n",
    "\n",
    "### ```LOOP ~ FETCH {커서} INTO {변수}; ```\n",
    "### ```{조건문} END LOOP;```\n",
    "```SQL\n",
    "cursor_loop: LOOP\n",
    "\n",
    "   FETCH {커서} INTO {준비한_변수} ; \n",
    "\n",
    "   IF {조건문} THEN\n",
    "\tLEAVE cursor_loop ;\n",
    "   END iF ; \n",
    "\n",
    "END LOOP cursor_loop ;\n",
    "```\n",
    "- FETCH문을 통해 한 행씩 커서 실행\n",
    "- IF 조건문을 통해 반복 종료 조건 설정\n",
    "- END LOOP를 통해 커서 종료\n"
   ]
  },
  {
   "cell_type": "markdown",
   "id": "fa34beeb",
   "metadata": {},
   "source": [
    "### 6. 커서 닫기\n",
    "### ```CLOSE {커서};```"
   ]
  },
  {
   "cell_type": "markdown",
   "id": "08dd9da7",
   "metadata": {},
   "source": [
    "#  \n",
    "\n",
    "**회원의 평균 인원수를 계산하기 위한 스토어드 프로시저 생성**\n",
    "\n",
    "```SQL\n",
    "DELIMITER $$\n",
    "CREATE PROCEDURE cursor_proc()\n",
    "BEGIN\n",
    "    DECLARE memNumber INT; -- 지역변수 \n",
    "    DECLARE cnt INT DEFAULT 0; -- 지역변수 \n",
    "    DECLARE totNumber INT DEFAULT 0; -- 지역변수 \n",
    "    DECLARE endOfRow BOOLEAN DEFAULT FALSE; -- 행의 끝 여부(기본을 FALSE)\n",
    "\n",
    "    DECLARE memberCuror CURSOR FOR\n",
    "        SELECT mem_number FROM member;\n",
    " -- 커서 선언 (member테이블의 mem_number 호출)\n",
    "\n",
    "    DECLARE CONTINUE HANDLER\n",
    "        FOR NOT FOUND SET endOfRow = TRUE;\n",
    " -- 반복 조건을 준비하는 예약어\n",
    " -- 행의 끝이면 endOfRow 변수에 TRUE를 대입 \n",
    "\n",
    "    OPEN memberCuror;  -- 커서 열기\n",
    "    cursor_loop: LOOP\n",
    "        FETCH  memberCuror INTO memNumber; \n",
    " -- 커서로 선언한 select문의 조회 내용을 memNumber로 지정\n",
    "\n",
    "        IF endOfRow THEN \n",
    "            LEAVE cursor_loop ; -- endOfRow가 TRUE면 반복 중단\n",
    "        END IF ; \n",
    "        SET cnt = cnt + 1;\n",
    "        SET totNumber = totNumber + memNumber;        \n",
    "    END LOOP cursor_loop;\n",
    "\n",
    "    SELECT (totNumber/cnt) AS 'Average number of member';\n",
    "    CLOSE memberCuror; \n",
    "\n",
    "END $$\n",
    "DELIMITER ;\n",
    "```"
   ]
  },
  {
   "cell_type": "code",
   "execution_count": 27,
   "id": "bcc168fd",
   "metadata": {},
   "outputs": [
    {
     "name": "stderr",
     "output_type": "stream",
     "text": [
      "Warning message in .local(conn, statement, ...):\n",
      "\"Decimal MySQL column 0 imported as numeric\"\n"
     ]
    },
    {
     "data": {
      "text/html": [
       "<table class=\"dataframe\">\n",
       "<caption>A data.frame: 1 × 1</caption>\n",
       "<thead>\n",
       "\t<tr><th scope=col>Average number of member</th></tr>\n",
       "\t<tr><th scope=col>&lt;dbl&gt;</th></tr>\n",
       "</thead>\n",
       "<tbody>\n",
       "\t<tr><td>6.6</td></tr>\n",
       "</tbody>\n",
       "</table>\n"
      ],
      "text/latex": [
       "A data.frame: 1 × 1\n",
       "\\begin{tabular}{l}\n",
       " Average number of member\\\\\n",
       " <dbl>\\\\\n",
       "\\hline\n",
       "\t 6.6\\\\\n",
       "\\end{tabular}\n"
      ],
      "text/markdown": [
       "\n",
       "A data.frame: 1 × 1\n",
       "\n",
       "| Average number of member &lt;dbl&gt; |\n",
       "|---|\n",
       "| 6.6 |\n",
       "\n"
      ],
      "text/plain": [
       "  Average number of member\n",
       "1 6.6                     "
      ]
     },
     "metadata": {},
     "output_type": "display_data"
    }
   ],
   "source": [
    "dbGetQuery(conn, \"CALL cursor_proc();\")"
   ]
  },
  {
   "cell_type": "markdown",
   "id": "85c84b64",
   "metadata": {},
   "source": [
    "# \n",
    "\n",
    "### 트리거 : (Trigger) 하나의 SQL문이 실행되면, 자동으로 다른 SQL문 실행\n",
    "- 예 ; 테이블에서 하나 데이터가 삭제 -> 삭제가 되기전 자동으로 다른 테이블에 저장\n",
    "- 테이블에 DML문 (INSERT, UPDATE, DELETE) 실행 => 트리거가 자동으로 작동\n",
    "- **테이블에 입력/수정/삭제되는 정보를 백업하는 용도 활용 가능** (데이터의 무결성)"
   ]
  },
  {
   "cell_type": "markdown",
   "id": "de414a06",
   "metadata": {},
   "source": [
    "### ```CREATE TRIGGER {트리거}``` : 트리거 생성\n",
    "```SQL\n",
    "DELIMITER $$\n",
    "CREATE TRIGGER {트리거}\n",
    "   AFTER {DML문}\n",
    "   ON {테이블}\n",
    "   FOR EACH ROW\n",
    "BEGIN\n",
    "   {SQL문} ; \n",
    "   -- DML문이 실행되면, 자동으로 테이블의 모든 열에, BEGIN ~ END 사이의 SQL문이 실행 \n",
    "END $$\n",
    "DELIMITER ;\n",
    "```\n"
   ]
  },
  {
   "cell_type": "markdown",
   "id": "ba66cc85",
   "metadata": {},
   "source": [
    "### ```DELETE TRIGGER {트리거}``` : 트리거 삭제"
   ]
  },
  {
   "cell_type": "markdown",
   "id": "589bc38b",
   "metadata": {},
   "source": [
    "### 트리거 활용 \n",
    "**siger 테이블과, 백업 테이블인 backup_siger 생성**"
   ]
  },
  {
   "cell_type": "code",
   "execution_count": 30,
   "id": "7c96c131",
   "metadata": {},
   "outputs": [
    {
     "data": {
      "text/html": [],
      "text/latex": [],
      "text/markdown": [],
      "text/plain": [
       "<0 x 0 matrix>"
      ]
     },
     "metadata": {},
     "output_type": "display_data"
    },
    {
     "data": {
      "text/html": [],
      "text/latex": [],
      "text/markdown": [],
      "text/plain": [
       "<0 x 0 matrix>"
      ]
     },
     "metadata": {},
     "output_type": "display_data"
    }
   ],
   "source": [
    "dbGetQuery(conn, \"CREATE TABLE singer (SELECT mem_id, mem_number FROM member);\")\n",
    "dbGetQuery(conn, \"CREATE TABLE backup_singer(\n",
    "                  mem_id  CHAR(8) NOT NULL , \n",
    "                  mem_number INT NOT NULL, \n",
    "                  modType  CHAR(2), \n",
    "                  modDate  DATE, \n",
    "                  modUser  VARCHAR(30)) ;\")"
   ]
  },
  {
   "cell_type": "code",
   "execution_count": 12,
   "id": "d51dcdec",
   "metadata": {},
   "outputs": [
    {
     "data": {
      "text/html": [
       "<table class=\"dataframe\">\n",
       "<caption>A data.frame: 10 × 2</caption>\n",
       "<thead>\n",
       "\t<tr><th scope=col>mem_id</th><th scope=col>mem_number</th></tr>\n",
       "\t<tr><th scope=col>&lt;chr&gt;</th><th scope=col>&lt;int&gt;</th></tr>\n",
       "</thead>\n",
       "<tbody>\n",
       "\t<tr><td>APN</td><td> 6</td></tr>\n",
       "\t<tr><td>BLK</td><td> 4</td></tr>\n",
       "\t<tr><td>GRL</td><td> 8</td></tr>\n",
       "\t<tr><td>ITZ</td><td> 5</td></tr>\n",
       "\t<tr><td>MMU</td><td> 4</td></tr>\n",
       "\t<tr><td>OMY</td><td> 7</td></tr>\n",
       "\t<tr><td>RED</td><td> 4</td></tr>\n",
       "\t<tr><td>SPC</td><td>13</td></tr>\n",
       "\t<tr><td>TWC</td><td> 9</td></tr>\n",
       "\t<tr><td>WMN</td><td> 6</td></tr>\n",
       "</tbody>\n",
       "</table>\n"
      ],
      "text/latex": [
       "A data.frame: 10 × 2\n",
       "\\begin{tabular}{ll}\n",
       " mem\\_id & mem\\_number\\\\\n",
       " <chr> & <int>\\\\\n",
       "\\hline\n",
       "\t APN &  6\\\\\n",
       "\t BLK &  4\\\\\n",
       "\t GRL &  8\\\\\n",
       "\t ITZ &  5\\\\\n",
       "\t MMU &  4\\\\\n",
       "\t OMY &  7\\\\\n",
       "\t RED &  4\\\\\n",
       "\t SPC & 13\\\\\n",
       "\t TWC &  9\\\\\n",
       "\t WMN &  6\\\\\n",
       "\\end{tabular}\n"
      ],
      "text/markdown": [
       "\n",
       "A data.frame: 10 × 2\n",
       "\n",
       "| mem_id &lt;chr&gt; | mem_number &lt;int&gt; |\n",
       "|---|---|\n",
       "| APN |  6 |\n",
       "| BLK |  4 |\n",
       "| GRL |  8 |\n",
       "| ITZ |  5 |\n",
       "| MMU |  4 |\n",
       "| OMY |  7 |\n",
       "| RED |  4 |\n",
       "| SPC | 13 |\n",
       "| TWC |  9 |\n",
       "| WMN |  6 |\n",
       "\n"
      ],
      "text/plain": [
       "   mem_id mem_number\n",
       "1  APN     6        \n",
       "2  BLK     4        \n",
       "3  GRL     8        \n",
       "4  ITZ     5        \n",
       "5  MMU     4        \n",
       "6  OMY     7        \n",
       "7  RED     4        \n",
       "8  SPC    13        \n",
       "9  TWC     9        \n",
       "10 WMN     6        "
      ]
     },
     "metadata": {},
     "output_type": "display_data"
    },
    {
     "data": {
      "text/html": [
       "<table class=\"dataframe\">\n",
       "<caption>A data.frame: 0 × 5</caption>\n",
       "<thead>\n",
       "\t<tr><th scope=col>mem_id</th><th scope=col>mem_number</th><th scope=col>modType</th><th scope=col>modDate</th><th scope=col>modUser</th></tr>\n",
       "\t<tr><th scope=col>&lt;chr&gt;</th><th scope=col>&lt;int&gt;</th><th scope=col>&lt;chr&gt;</th><th scope=col>&lt;chr&gt;</th><th scope=col>&lt;chr&gt;</th></tr>\n",
       "</thead>\n",
       "<tbody>\n",
       "</tbody>\n",
       "</table>\n"
      ],
      "text/latex": [
       "A data.frame: 0 × 5\n",
       "\\begin{tabular}{lllll}\n",
       " mem\\_id & mem\\_number & modType & modDate & modUser\\\\\n",
       " <chr> & <int> & <chr> & <chr> & <chr>\\\\\n",
       "\\hline\n",
       "\\end{tabular}\n"
      ],
      "text/markdown": [
       "\n",
       "A data.frame: 0 × 5\n",
       "\n",
       "| mem_id &lt;chr&gt; | mem_number &lt;int&gt; | modType &lt;chr&gt; | modDate &lt;chr&gt; | modUser &lt;chr&gt; |\n",
       "|---|---|---|---|---|\n",
       "\n"
      ],
      "text/plain": [
       "     mem_id mem_number modType modDate modUser"
      ]
     },
     "metadata": {},
     "output_type": "display_data"
    }
   ],
   "source": [
    "dbGetQuery(conn, \"SELECT * FROM singer;\")\n",
    "dbGetQuery(conn, \"SELECT * FROM backup_singer;\")"
   ]
  },
  {
   "cell_type": "markdown",
   "id": "cb7044ea",
   "metadata": {},
   "source": [
    "#### 변경(UPDATE)이 발생했을 때, 변경된 이력과 데이터를 backup_singer 테이블에 저장하는 트리거 생성"
   ]
  },
  {
   "cell_type": "markdown",
   "id": "5a419183",
   "metadata": {},
   "source": [
    "```SQL\n",
    "DELIMITER $$\n",
    "CREATE TRIGGER singer_updateTrg \n",
    "    AFTER UPDATE -- 변경 후에 작동하도록 지정\n",
    "    ON singer -- 트리거를 부착할 테이블\n",
    "    FOR EACH ROW \n",
    "BEGIN\n",
    "    INSERT INTO backup_singer VALUES (OLD.mem_id, OLD.mem_number, 'Updated', CURDATE(), CURRENT_USER());\n",
    "END $$ \n",
    "DELIMITER ; \n",
    "```"
   ]
  },
  {
   "cell_type": "markdown",
   "id": "1004355a",
   "metadata": {},
   "source": [
    "#### 삭제(DELETE)가 발생했을 때, 삭제된 이력과 데이터를 backup_singer 테이블에 저장하는 트리거 생성\n",
    "- **TRUNATE문에는 DELETE 트리거가 작동하지 않음** "
   ]
  },
  {
   "cell_type": "markdown",
   "id": "f27cc5d1",
   "metadata": {},
   "source": [
    "```SQL\n",
    "DELIMITER $$\n",
    "CREATE TRIGGER singer_deleteTrg \n",
    "    AFTER DELETE -- 삭제 후에 작동하도록 지정\n",
    "    ON singer \n",
    "    FOR EACH ROW \n",
    "BEGIN\n",
    "    INSERT INTO backup_singer VALUES (OLD.mem_id, OLD.mem_number, 'Deleted', CURDATE(), CURRENT_USER());\n",
    "END $$ \n",
    "DELIMITER ; \n",
    "```"
   ]
  },
  {
   "cell_type": "markdown",
   "id": "e5093528",
   "metadata": {},
   "source": [
    "### SHOW TRIGGERS FROM {데이터베이스} : DB내 생성된 트리거 확인"
   ]
  },
  {
   "cell_type": "code",
   "execution_count": 6,
   "id": "dc1f3382",
   "metadata": {},
   "outputs": [
    {
     "name": "stderr",
     "output_type": "stream",
     "text": [
      "Warning message in .local(conn, statement, ...):\n",
      "\"unrecognized MySQL field type 7 in column 5 imported as character\"\n"
     ]
    },
    {
     "data": {
      "text/html": [
       "<table class=\"dataframe\">\n",
       "<caption>A data.frame: 2 × 11</caption>\n",
       "<thead>\n",
       "\t<tr><th scope=col>Trigger</th><th scope=col>Event</th><th scope=col>Table</th><th scope=col>Statement</th><th scope=col>Timing</th><th scope=col>Created</th><th scope=col>sql_mode</th><th scope=col>Definer</th><th scope=col>character_set_client</th><th scope=col>collation_connection</th><th scope=col>Database Collation</th></tr>\n",
       "\t<tr><th scope=col>&lt;chr&gt;</th><th scope=col>&lt;chr&gt;</th><th scope=col>&lt;chr&gt;</th><th scope=col>&lt;chr&gt;</th><th scope=col>&lt;chr&gt;</th><th scope=col>&lt;chr&gt;</th><th scope=col>&lt;chr&gt;</th><th scope=col>&lt;chr&gt;</th><th scope=col>&lt;chr&gt;</th><th scope=col>&lt;chr&gt;</th><th scope=col>&lt;chr&gt;</th></tr>\n",
       "</thead>\n",
       "<tbody>\n",
       "\t<tr><td>singer_updateTrg</td><td>UPDATE</td><td>singer</td><td>BEGIN\n",
       "    INSERT INTO backup_singer VALUES (OLD.mem_id, OLD.mem_number, 'Updated', CURDATE(), CURRENT_USER());\n",
       "END</td><td>AFTER</td><td>2022-06-27 03:57:03.11</td><td>STRICT_TRANS_TABLES,NO_ENGINE_SUBSTITUTION</td><td>root@localhost</td><td>utf8mb4</td><td>utf8mb4_0900_ai_ci</td><td>utf8mb4_0900_ai_ci</td></tr>\n",
       "\t<tr><td>singer_deleteTrg</td><td>DELETE</td><td>singer</td><td>BEGIN\n",
       "    INSERT INTO backup_singer VALUES (OLD.mem_id, OLD.mem_number, 'Deleted', CURDATE(), CURRENT_USER());\n",
       "END</td><td>AFTER</td><td>2022-06-27 03:57:05.09</td><td>STRICT_TRANS_TABLES,NO_ENGINE_SUBSTITUTION</td><td>root@localhost</td><td>utf8mb4</td><td>utf8mb4_0900_ai_ci</td><td>utf8mb4_0900_ai_ci</td></tr>\n",
       "</tbody>\n",
       "</table>\n"
      ],
      "text/latex": [
       "A data.frame: 2 × 11\n",
       "\\begin{tabular}{lllllllllll}\n",
       " Trigger & Event & Table & Statement & Timing & Created & sql\\_mode & Definer & character\\_set\\_client & collation\\_connection & Database Collation\\\\\n",
       " <chr> & <chr> & <chr> & <chr> & <chr> & <chr> & <chr> & <chr> & <chr> & <chr> & <chr>\\\\\n",
       "\\hline\n",
       "\t singer\\_updateTrg & UPDATE & singer & BEGIN\n",
       "    INSERT INTO backup\\_singer VALUES (OLD.mem\\_id, OLD.mem\\_number, 'Updated', CURDATE(), CURRENT\\_USER());\n",
       "END & AFTER & 2022-06-27 03:57:03.11 & STRICT\\_TRANS\\_TABLES,NO\\_ENGINE\\_SUBSTITUTION & root@localhost & utf8mb4 & utf8mb4\\_0900\\_ai\\_ci & utf8mb4\\_0900\\_ai\\_ci\\\\\n",
       "\t singer\\_deleteTrg & DELETE & singer & BEGIN\n",
       "    INSERT INTO backup\\_singer VALUES (OLD.mem\\_id, OLD.mem\\_number, 'Deleted', CURDATE(), CURRENT\\_USER());\n",
       "END & AFTER & 2022-06-27 03:57:05.09 & STRICT\\_TRANS\\_TABLES,NO\\_ENGINE\\_SUBSTITUTION & root@localhost & utf8mb4 & utf8mb4\\_0900\\_ai\\_ci & utf8mb4\\_0900\\_ai\\_ci\\\\\n",
       "\\end{tabular}\n"
      ],
      "text/markdown": [
       "\n",
       "A data.frame: 2 × 11\n",
       "\n",
       "| Trigger &lt;chr&gt; | Event &lt;chr&gt; | Table &lt;chr&gt; | Statement &lt;chr&gt; | Timing &lt;chr&gt; | Created &lt;chr&gt; | sql_mode &lt;chr&gt; | Definer &lt;chr&gt; | character_set_client &lt;chr&gt; | collation_connection &lt;chr&gt; | Database Collation &lt;chr&gt; |\n",
       "|---|---|---|---|---|---|---|---|---|---|---|\n",
       "| singer_updateTrg | UPDATE | singer | BEGIN\n",
       "    INSERT INTO backup_singer VALUES (OLD.mem_id, OLD.mem_number, 'Updated', CURDATE(), CURRENT_USER());\n",
       "END | AFTER | 2022-06-27 03:57:03.11 | STRICT_TRANS_TABLES,NO_ENGINE_SUBSTITUTION | root@localhost | utf8mb4 | utf8mb4_0900_ai_ci | utf8mb4_0900_ai_ci |\n",
       "| singer_deleteTrg | DELETE | singer | BEGIN\n",
       "    INSERT INTO backup_singer VALUES (OLD.mem_id, OLD.mem_number, 'Deleted', CURDATE(), CURRENT_USER());\n",
       "END | AFTER | 2022-06-27 03:57:05.09 | STRICT_TRANS_TABLES,NO_ENGINE_SUBSTITUTION | root@localhost | utf8mb4 | utf8mb4_0900_ai_ci | utf8mb4_0900_ai_ci |\n",
       "\n"
      ],
      "text/plain": [
       "  Trigger          Event  Table \n",
       "1 singer_updateTrg UPDATE singer\n",
       "2 singer_deleteTrg DELETE singer\n",
       "  Statement                                                                                                           \n",
       "1 BEGIN\\n    INSERT INTO backup_singer VALUES (OLD.mem_id, OLD.mem_number, 'Updated', CURDATE(), CURRENT_USER());\\nEND\n",
       "2 BEGIN\\n    INSERT INTO backup_singer VALUES (OLD.mem_id, OLD.mem_number, 'Deleted', CURDATE(), CURRENT_USER());\\nEND\n",
       "  Timing Created                sql_mode                                  \n",
       "1 AFTER  2022-06-27 03:57:03.11 STRICT_TRANS_TABLES,NO_ENGINE_SUBSTITUTION\n",
       "2 AFTER  2022-06-27 03:57:05.09 STRICT_TRANS_TABLES,NO_ENGINE_SUBSTITUTION\n",
       "  Definer        character_set_client collation_connection Database Collation\n",
       "1 root@localhost utf8mb4              utf8mb4_0900_ai_ci   utf8mb4_0900_ai_ci\n",
       "2 root@localhost utf8mb4              utf8mb4_0900_ai_ci   utf8mb4_0900_ai_ci"
      ]
     },
     "metadata": {},
     "output_type": "display_data"
    }
   ],
   "source": [
    "dbGetQuery(conn, \"SHOW TRIGGERS FROM market_db;\")"
   ]
  },
  {
   "cell_type": "markdown",
   "id": "25d29410",
   "metadata": {},
   "source": [
    "#### UPDATE와 DELETE 적용후, 이력과 데이터가 저장된 backup_singer 테이블 확인"
   ]
  },
  {
   "cell_type": "code",
   "execution_count": 13,
   "id": "6b290cd9",
   "metadata": {},
   "outputs": [
    {
     "data": {
      "text/html": [],
      "text/latex": [],
      "text/markdown": [],
      "text/plain": [
       "<0 x 0 matrix>"
      ]
     },
     "metadata": {},
     "output_type": "display_data"
    },
    {
     "data": {
      "text/html": [],
      "text/latex": [],
      "text/markdown": [],
      "text/plain": [
       "<0 x 0 matrix>"
      ]
     },
     "metadata": {},
     "output_type": "display_data"
    },
    {
     "data": {
      "text/html": [
       "<table class=\"dataframe\">\n",
       "<caption>A data.frame: 5 × 5</caption>\n",
       "<thead>\n",
       "\t<tr><th scope=col>mem_id</th><th scope=col>mem_number</th><th scope=col>modType</th><th scope=col>modDate</th><th scope=col>modUser</th></tr>\n",
       "\t<tr><th scope=col>&lt;chr&gt;</th><th scope=col>&lt;int&gt;</th><th scope=col>&lt;chr&gt;</th><th scope=col>&lt;chr&gt;</th><th scope=col>&lt;chr&gt;</th></tr>\n",
       "</thead>\n",
       "<tbody>\n",
       "\t<tr><td>APN</td><td> 6</td><td>Updated</td><td>2022-06-27</td><td>root@localhost</td></tr>\n",
       "\t<tr><td>GRL</td><td> 8</td><td>Deleted</td><td>2022-06-27</td><td>root@localhost</td></tr>\n",
       "\t<tr><td>OMY</td><td> 7</td><td>Deleted</td><td>2022-06-27</td><td>root@localhost</td></tr>\n",
       "\t<tr><td>SPC</td><td>13</td><td>Deleted</td><td>2022-06-27</td><td>root@localhost</td></tr>\n",
       "\t<tr><td>TWC</td><td> 9</td><td>Deleted</td><td>2022-06-27</td><td>root@localhost</td></tr>\n",
       "</tbody>\n",
       "</table>\n"
      ],
      "text/latex": [
       "A data.frame: 5 × 5\n",
       "\\begin{tabular}{lllll}\n",
       " mem\\_id & mem\\_number & modType & modDate & modUser\\\\\n",
       " <chr> & <int> & <chr> & <chr> & <chr>\\\\\n",
       "\\hline\n",
       "\t APN &  6 & Updated & 2022-06-27 & root@localhost\\\\\n",
       "\t GRL &  8 & Deleted & 2022-06-27 & root@localhost\\\\\n",
       "\t OMY &  7 & Deleted & 2022-06-27 & root@localhost\\\\\n",
       "\t SPC & 13 & Deleted & 2022-06-27 & root@localhost\\\\\n",
       "\t TWC &  9 & Deleted & 2022-06-27 & root@localhost\\\\\n",
       "\\end{tabular}\n"
      ],
      "text/markdown": [
       "\n",
       "A data.frame: 5 × 5\n",
       "\n",
       "| mem_id &lt;chr&gt; | mem_number &lt;int&gt; | modType &lt;chr&gt; | modDate &lt;chr&gt; | modUser &lt;chr&gt; |\n",
       "|---|---|---|---|---|\n",
       "| APN |  6 | Updated | 2022-06-27 | root@localhost |\n",
       "| GRL |  8 | Deleted | 2022-06-27 | root@localhost |\n",
       "| OMY |  7 | Deleted | 2022-06-27 | root@localhost |\n",
       "| SPC | 13 | Deleted | 2022-06-27 | root@localhost |\n",
       "| TWC |  9 | Deleted | 2022-06-27 | root@localhost |\n",
       "\n"
      ],
      "text/plain": [
       "  mem_id mem_number modType modDate    modUser       \n",
       "1 APN     6         Updated 2022-06-27 root@localhost\n",
       "2 GRL     8         Deleted 2022-06-27 root@localhost\n",
       "3 OMY     7         Deleted 2022-06-27 root@localhost\n",
       "4 SPC    13         Deleted 2022-06-27 root@localhost\n",
       "5 TWC     9         Deleted 2022-06-27 root@localhost"
      ]
     },
     "metadata": {},
     "output_type": "display_data"
    }
   ],
   "source": [
    "dbGetQuery(conn, \"UPDATE singer SET mem_number = 5 \n",
    "                  WHERE mem_id = 'APN';\")\n",
    "dbGetQuery(conn, \"DELETE FROM singer WHERE mem_number >= 7;\")\n",
    "dbGetQuery(conn, \"SELECT * FROM backup_singer;\")"
   ]
  },
  {
   "cell_type": "markdown",
   "id": "12952bdf",
   "metadata": {},
   "source": [
    "# \n",
    "\n",
    "### OLD / NEW : INSERT, UPDATE, DELETE작업이 수행되면 임시로 사용되는 MySQL 내장 테이블\n",
    "<img src = \"https://img1.daumcdn.net/thumb/R1280x0/?scode=mtistory2&fname=https%3A%2F%2Fblog.kakaocdn.net%2Fdn%2FcCWZjL%2FbtqRQTu5agJ%2FJmCfLJAr59HpkN6Ali4GQ1%2Fimg.png\">"
   ]
  }
 ],
 "metadata": {
  "kernelspec": {
   "display_name": "R 4.1.3",
   "language": "R",
   "name": "ir32"
  },
  "language_info": {
   "codemirror_mode": "r",
   "file_extension": ".r",
   "mimetype": "text/x-r-source",
   "name": "R",
   "pygments_lexer": "r",
   "version": "4.1.3"
  }
 },
 "nbformat": 4,
 "nbformat_minor": 5
}
