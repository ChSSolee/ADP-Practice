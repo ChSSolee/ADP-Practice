{
 "cells": [
  {
   "cell_type": "markdown",
   "id": "1758af32",
   "metadata": {},
   "source": [
    "## CSV 파일 \n",
    "### IMPORT\n",
    "### ```LOAD DATA INFILE ```\n",
    "### 1. DB에 CSV 저장할 테이블 생성"
   ]
  },
  {
   "cell_type": "code",
   "execution_count": 5,
   "id": "1f081065",
   "metadata": {
    "scrolled": true
   },
   "outputs": [
    {
     "data": {
      "text/html": [
       "<table class=\"dataframe\">\n",
       "<caption>A data.frame: 6 × 12</caption>\n",
       "<thead>\n",
       "\t<tr><th></th><th scope=col>Age</th><th scope=col>Sex</th><th scope=col>ChestPainType</th><th scope=col>RestingBP</th><th scope=col>Cholesterol</th><th scope=col>FastingBS</th><th scope=col>RestingECG</th><th scope=col>MaxHR</th><th scope=col>ExerciseAngina</th><th scope=col>Oldpeak</th><th scope=col>ST_Slope</th><th scope=col>HeartDisease</th></tr>\n",
       "\t<tr><th></th><th scope=col>&lt;int&gt;</th><th scope=col>&lt;chr&gt;</th><th scope=col>&lt;chr&gt;</th><th scope=col>&lt;int&gt;</th><th scope=col>&lt;int&gt;</th><th scope=col>&lt;int&gt;</th><th scope=col>&lt;chr&gt;</th><th scope=col>&lt;int&gt;</th><th scope=col>&lt;chr&gt;</th><th scope=col>&lt;dbl&gt;</th><th scope=col>&lt;chr&gt;</th><th scope=col>&lt;int&gt;</th></tr>\n",
       "</thead>\n",
       "<tbody>\n",
       "\t<tr><th scope=row>1</th><td>40</td><td>M</td><td>ATA</td><td>140</td><td>289</td><td>0</td><td>Normal</td><td>172</td><td>N</td><td>0.0</td><td>Up  </td><td>0</td></tr>\n",
       "\t<tr><th scope=row>2</th><td>49</td><td>F</td><td>NAP</td><td>160</td><td>180</td><td>0</td><td>Normal</td><td>156</td><td>N</td><td>1.0</td><td>Flat</td><td>1</td></tr>\n",
       "\t<tr><th scope=row>3</th><td>37</td><td>M</td><td>ATA</td><td>130</td><td>283</td><td>0</td><td>ST    </td><td> 98</td><td>N</td><td>0.0</td><td>Up  </td><td>0</td></tr>\n",
       "\t<tr><th scope=row>4</th><td>48</td><td>F</td><td>ASY</td><td>138</td><td>214</td><td>0</td><td>Normal</td><td>108</td><td>Y</td><td>1.5</td><td>Flat</td><td>1</td></tr>\n",
       "\t<tr><th scope=row>5</th><td>54</td><td>M</td><td>NAP</td><td>150</td><td>195</td><td>0</td><td>Normal</td><td>122</td><td>N</td><td>0.0</td><td>Up  </td><td>0</td></tr>\n",
       "\t<tr><th scope=row>6</th><td>39</td><td>M</td><td>NAP</td><td>120</td><td>339</td><td>0</td><td>Normal</td><td>170</td><td>N</td><td>0.0</td><td>Up  </td><td>0</td></tr>\n",
       "</tbody>\n",
       "</table>\n"
      ],
      "text/latex": [
       "A data.frame: 6 × 12\n",
       "\\begin{tabular}{r|llllllllllll}\n",
       "  & Age & Sex & ChestPainType & RestingBP & Cholesterol & FastingBS & RestingECG & MaxHR & ExerciseAngina & Oldpeak & ST\\_Slope & HeartDisease\\\\\n",
       "  & <int> & <chr> & <chr> & <int> & <int> & <int> & <chr> & <int> & <chr> & <dbl> & <chr> & <int>\\\\\n",
       "\\hline\n",
       "\t1 & 40 & M & ATA & 140 & 289 & 0 & Normal & 172 & N & 0.0 & Up   & 0\\\\\n",
       "\t2 & 49 & F & NAP & 160 & 180 & 0 & Normal & 156 & N & 1.0 & Flat & 1\\\\\n",
       "\t3 & 37 & M & ATA & 130 & 283 & 0 & ST     &  98 & N & 0.0 & Up   & 0\\\\\n",
       "\t4 & 48 & F & ASY & 138 & 214 & 0 & Normal & 108 & Y & 1.5 & Flat & 1\\\\\n",
       "\t5 & 54 & M & NAP & 150 & 195 & 0 & Normal & 122 & N & 0.0 & Up   & 0\\\\\n",
       "\t6 & 39 & M & NAP & 120 & 339 & 0 & Normal & 170 & N & 0.0 & Up   & 0\\\\\n",
       "\\end{tabular}\n"
      ],
      "text/markdown": [
       "\n",
       "A data.frame: 6 × 12\n",
       "\n",
       "| <!--/--> | Age &lt;int&gt; | Sex &lt;chr&gt; | ChestPainType &lt;chr&gt; | RestingBP &lt;int&gt; | Cholesterol &lt;int&gt; | FastingBS &lt;int&gt; | RestingECG &lt;chr&gt; | MaxHR &lt;int&gt; | ExerciseAngina &lt;chr&gt; | Oldpeak &lt;dbl&gt; | ST_Slope &lt;chr&gt; | HeartDisease &lt;int&gt; |\n",
       "|---|---|---|---|---|---|---|---|---|---|---|---|---|\n",
       "| 1 | 40 | M | ATA | 140 | 289 | 0 | Normal | 172 | N | 0.0 | Up   | 0 |\n",
       "| 2 | 49 | F | NAP | 160 | 180 | 0 | Normal | 156 | N | 1.0 | Flat | 1 |\n",
       "| 3 | 37 | M | ATA | 130 | 283 | 0 | ST     |  98 | N | 0.0 | Up   | 0 |\n",
       "| 4 | 48 | F | ASY | 138 | 214 | 0 | Normal | 108 | Y | 1.5 | Flat | 1 |\n",
       "| 5 | 54 | M | NAP | 150 | 195 | 0 | Normal | 122 | N | 0.0 | Up   | 0 |\n",
       "| 6 | 39 | M | NAP | 120 | 339 | 0 | Normal | 170 | N | 0.0 | Up   | 0 |\n",
       "\n"
      ],
      "text/plain": [
       "  Age Sex ChestPainType RestingBP Cholesterol FastingBS RestingECG MaxHR\n",
       "1 40  M   ATA           140       289         0         Normal     172  \n",
       "2 49  F   NAP           160       180         0         Normal     156  \n",
       "3 37  M   ATA           130       283         0         ST          98  \n",
       "4 48  F   ASY           138       214         0         Normal     108  \n",
       "5 54  M   NAP           150       195         0         Normal     122  \n",
       "6 39  M   NAP           120       339         0         Normal     170  \n",
       "  ExerciseAngina Oldpeak ST_Slope HeartDisease\n",
       "1 N              0.0     Up       0           \n",
       "2 N              1.0     Flat     1           \n",
       "3 N              0.0     Up       0           \n",
       "4 Y              1.5     Flat     1           \n",
       "5 N              0.0     Up       0           \n",
       "6 N              0.0     Up       0           "
      ]
     },
     "metadata": {},
     "output_type": "display_data"
    }
   ],
   "source": [
    "heart <- read.csv(\"heart.csv\")\n",
    "heart %>% head"
   ]
  },
  {
   "cell_type": "markdown",
   "id": "b4499502",
   "metadata": {},
   "source": [
    "```SQL\n",
    "CREATE TABLE heart(\n",
    "\tAge INT(10) NULL,\n",
    "    SEX CHAR(10) NULL,\n",
    "    ChestPainType CHAR(10) NULL,\n",
    "    RestingBP INT(10) NULL,\n",
    "    Cholesterol INT(10) NULL,\n",
    "    FastingBS INT(10) NULL,\n",
    "    RestingECG CHAR(10) NULL,\n",
    "    MaxHR INT(10) NULL,\n",
    "    ExerciseAngina CHAR(10) NULL,\n",
    "    Olepeak FLOAT(10) NULL,\n",
    "    ST_Slope CHAR(10) NULL,\n",
    "    HeartDisease INT(10) NULL\n",
    ");\n",
    "```"
   ]
  },
  {
   "cell_type": "markdown",
   "id": "847eb65a",
   "metadata": {},
   "source": [
    "### 2. SQL 경로 확인\n",
    "- LOAD할 경로 확인"
   ]
  },
  {
   "cell_type": "markdown",
   "id": "d58e66e2",
   "metadata": {},
   "source": [
    "```sql\n",
    "SHOW VARIABLES LIKE 'secure_file%';\n",
    "```"
   ]
  },
  {
   "cell_type": "code",
   "execution_count": 63,
   "id": "0795d569",
   "metadata": {},
   "outputs": [
    {
     "data": {
      "text/html": [
       "<table class=\"dataframe\">\n",
       "<caption>A data.frame: 1 × 2</caption>\n",
       "<thead>\n",
       "\t<tr><th scope=col>Variable_name</th><th scope=col>Value</th></tr>\n",
       "\t<tr><th scope=col>&lt;chr&gt;</th><th scope=col>&lt;chr&gt;</th></tr>\n",
       "</thead>\n",
       "<tbody>\n",
       "\t<tr><td>secure_file_priv</td><td>C:\\ProgramData\\MySQL\\MySQL Server 8.0\\Uploads\\</td></tr>\n",
       "</tbody>\n",
       "</table>\n"
      ],
      "text/latex": [
       "A data.frame: 1 × 2\n",
       "\\begin{tabular}{ll}\n",
       " Variable\\_name & Value\\\\\n",
       " <chr> & <chr>\\\\\n",
       "\\hline\n",
       "\t secure\\_file\\_priv & C:\\textbackslash{}ProgramData\\textbackslash{}MySQL\\textbackslash{}MySQL Server 8.0\\textbackslash{}Uploads\\textbackslash{}\\\\\n",
       "\\end{tabular}\n"
      ],
      "text/markdown": [
       "\n",
       "A data.frame: 1 × 2\n",
       "\n",
       "| Variable_name &lt;chr&gt; | Value &lt;chr&gt; |\n",
       "|---|---|\n",
       "| secure_file_priv | C:\\ProgramData\\MySQL\\MySQL Server 8.0\\Uploads\\ |\n",
       "\n"
      ],
      "text/plain": [
       "  Variable_name    Value                                              \n",
       "1 secure_file_priv C:\\\\ProgramData\\\\MySQL\\\\MySQL Server 8.0\\\\Uploads\\\\"
      ]
     },
     "metadata": {},
     "output_type": "display_data"
    }
   ],
   "source": []
  },
  {
   "cell_type": "markdown",
   "id": "15e4357f",
   "metadata": {},
   "source": [
    "### 3. 데이터 Load"
   ]
  },
  {
   "cell_type": "markdown",
   "id": "c3c258a7",
   "metadata": {},
   "source": [
    "```sql\n",
    "LOAD DATA \n",
    "INFILE 'C:/ProgramData/MySQL/MySQL Server 8.0/Uploads/heart1.csv' # 파일경로\n",
    "INTO TABLE heart\n",
    "FIELDS TERMINATED BY ',' # (csv는 ,로 열 구분)\n",
    "ENCLOSED BY '' \n",
    "LINES TERMINATED BY '/n' # (csv는 줄바꿈으로 행 구분)\n",
    "IGNORE 1 ROWS; # (첫번째 행은 컬럼명이므로 무시)\n",
    "```"
   ]
  },
  {
   "cell_type": "markdown",
   "id": "ca8ed1c1",
   "metadata": {},
   "source": [
    "##  \n",
    "\n",
    "### EXPORT"
   ]
  },
  {
   "cell_type": "code",
   "execution_count": 10,
   "id": "503a00a3",
   "metadata": {},
   "outputs": [
    {
     "data": {
      "text/html": [
       "<table class=\"dataframe\">\n",
       "<caption>A data.frame: 6 × 12</caption>\n",
       "<thead>\n",
       "\t<tr><th></th><th scope=col>Age</th><th scope=col>SEX</th><th scope=col>ChestPainType</th><th scope=col>RestingBP</th><th scope=col>Cholesterol</th><th scope=col>FastingBS</th><th scope=col>RestingECG</th><th scope=col>MaxHR</th><th scope=col>ExerciseAngina</th><th scope=col>Olepeak</th><th scope=col>ST_Slope</th><th scope=col>HeartDisease</th></tr>\n",
       "\t<tr><th></th><th scope=col>&lt;int&gt;</th><th scope=col>&lt;chr&gt;</th><th scope=col>&lt;chr&gt;</th><th scope=col>&lt;int&gt;</th><th scope=col>&lt;int&gt;</th><th scope=col>&lt;int&gt;</th><th scope=col>&lt;chr&gt;</th><th scope=col>&lt;int&gt;</th><th scope=col>&lt;chr&gt;</th><th scope=col>&lt;dbl&gt;</th><th scope=col>&lt;chr&gt;</th><th scope=col>&lt;int&gt;</th></tr>\n",
       "</thead>\n",
       "<tbody>\n",
       "\t<tr><th scope=row>1</th><td>40</td><td>M</td><td>ATA</td><td>140</td><td>289</td><td>0</td><td>Normal</td><td>172</td><td>N</td><td>0.0</td><td>Up  </td><td>0</td></tr>\n",
       "\t<tr><th scope=row>2</th><td>49</td><td>F</td><td>NAP</td><td>160</td><td>180</td><td>0</td><td>Normal</td><td>156</td><td>N</td><td>1.0</td><td>Flat</td><td>1</td></tr>\n",
       "\t<tr><th scope=row>3</th><td>37</td><td>M</td><td>ATA</td><td>130</td><td>283</td><td>0</td><td>ST    </td><td> 98</td><td>N</td><td>0.0</td><td>Up  </td><td>0</td></tr>\n",
       "\t<tr><th scope=row>4</th><td>48</td><td>F</td><td>ASY</td><td>138</td><td>214</td><td>0</td><td>Normal</td><td>108</td><td>Y</td><td>1.5</td><td>Flat</td><td>1</td></tr>\n",
       "\t<tr><th scope=row>5</th><td>54</td><td>M</td><td>NAP</td><td>150</td><td>195</td><td>0</td><td>Normal</td><td>122</td><td>N</td><td>0.0</td><td>Up  </td><td>0</td></tr>\n",
       "\t<tr><th scope=row>6</th><td>39</td><td>M</td><td>NAP</td><td>120</td><td>339</td><td>0</td><td>Normal</td><td>170</td><td>N</td><td>0.0</td><td>Up  </td><td>0</td></tr>\n",
       "</tbody>\n",
       "</table>\n"
      ],
      "text/latex": [
       "A data.frame: 6 × 12\n",
       "\\begin{tabular}{r|llllllllllll}\n",
       "  & Age & SEX & ChestPainType & RestingBP & Cholesterol & FastingBS & RestingECG & MaxHR & ExerciseAngina & Olepeak & ST\\_Slope & HeartDisease\\\\\n",
       "  & <int> & <chr> & <chr> & <int> & <int> & <int> & <chr> & <int> & <chr> & <dbl> & <chr> & <int>\\\\\n",
       "\\hline\n",
       "\t1 & 40 & M & ATA & 140 & 289 & 0 & Normal & 172 & N & 0.0 & Up   & 0\\\\\n",
       "\t2 & 49 & F & NAP & 160 & 180 & 0 & Normal & 156 & N & 1.0 & Flat & 1\\\\\n",
       "\t3 & 37 & M & ATA & 130 & 283 & 0 & ST     &  98 & N & 0.0 & Up   & 0\\\\\n",
       "\t4 & 48 & F & ASY & 138 & 214 & 0 & Normal & 108 & Y & 1.5 & Flat & 1\\\\\n",
       "\t5 & 54 & M & NAP & 150 & 195 & 0 & Normal & 122 & N & 0.0 & Up   & 0\\\\\n",
       "\t6 & 39 & M & NAP & 120 & 339 & 0 & Normal & 170 & N & 0.0 & Up   & 0\\\\\n",
       "\\end{tabular}\n"
      ],
      "text/markdown": [
       "\n",
       "A data.frame: 6 × 12\n",
       "\n",
       "| <!--/--> | Age &lt;int&gt; | SEX &lt;chr&gt; | ChestPainType &lt;chr&gt; | RestingBP &lt;int&gt; | Cholesterol &lt;int&gt; | FastingBS &lt;int&gt; | RestingECG &lt;chr&gt; | MaxHR &lt;int&gt; | ExerciseAngina &lt;chr&gt; | Olepeak &lt;dbl&gt; | ST_Slope &lt;chr&gt; | HeartDisease &lt;int&gt; |\n",
       "|---|---|---|---|---|---|---|---|---|---|---|---|---|\n",
       "| 1 | 40 | M | ATA | 140 | 289 | 0 | Normal | 172 | N | 0.0 | Up   | 0 |\n",
       "| 2 | 49 | F | NAP | 160 | 180 | 0 | Normal | 156 | N | 1.0 | Flat | 1 |\n",
       "| 3 | 37 | M | ATA | 130 | 283 | 0 | ST     |  98 | N | 0.0 | Up   | 0 |\n",
       "| 4 | 48 | F | ASY | 138 | 214 | 0 | Normal | 108 | Y | 1.5 | Flat | 1 |\n",
       "| 5 | 54 | M | NAP | 150 | 195 | 0 | Normal | 122 | N | 0.0 | Up   | 0 |\n",
       "| 6 | 39 | M | NAP | 120 | 339 | 0 | Normal | 170 | N | 0.0 | Up   | 0 |\n",
       "\n"
      ],
      "text/plain": [
       "  Age SEX ChestPainType RestingBP Cholesterol FastingBS RestingECG MaxHR\n",
       "1 40  M   ATA           140       289         0         Normal     172  \n",
       "2 49  F   NAP           160       180         0         Normal     156  \n",
       "3 37  M   ATA           130       283         0         ST          98  \n",
       "4 48  F   ASY           138       214         0         Normal     108  \n",
       "5 54  M   NAP           150       195         0         Normal     122  \n",
       "6 39  M   NAP           120       339         0         Normal     170  \n",
       "  ExerciseAngina Olepeak ST_Slope HeartDisease\n",
       "1 N              0.0     Up       0           \n",
       "2 N              1.0     Flat     1           \n",
       "3 N              0.0     Up       0           \n",
       "4 Y              1.5     Flat     1           \n",
       "5 N              0.0     Up       0           \n",
       "6 N              0.0     Up       0           "
      ]
     },
     "metadata": {},
     "output_type": "display_data"
    }
   ],
   "source": [
    "dbGetQuery(conn, \"SELECT * FROM heart\")"
   ]
  },
  {
   "cell_type": "markdown",
   "id": "77ab1d9e",
   "metadata": {},
   "source": [
    "```sql\n",
    "SELECT * INTO OUTFILE 'C:/ProgramData/MySQL/MySQL Server 8.0/Uploads/heart2.csv'\n",
    "FIELDS TERMINATED BY ','\n",
    "ENCLOSED BY \"\"\n",
    "ESCAPED BY '\\\\'\n",
    "LINES TERMINATED BY '\\n'\n",
    "FROM heart;\n",
    "```"
   ]
  },
  {
   "cell_type": "code",
   "execution_count": 9,
   "id": "6dc6ea1d",
   "metadata": {
    "scrolled": true
   },
   "outputs": [
    {
     "data": {
      "text/html": [
       "<table class=\"dataframe\">\n",
       "<caption>A data.frame: 6 × 12</caption>\n",
       "<thead>\n",
       "\t<tr><th></th><th scope=col>V1</th><th scope=col>V2</th><th scope=col>V3</th><th scope=col>V4</th><th scope=col>V5</th><th scope=col>V6</th><th scope=col>V7</th><th scope=col>V8</th><th scope=col>V9</th><th scope=col>V10</th><th scope=col>V11</th><th scope=col>V12</th></tr>\n",
       "\t<tr><th></th><th scope=col>&lt;int&gt;</th><th scope=col>&lt;chr&gt;</th><th scope=col>&lt;chr&gt;</th><th scope=col>&lt;int&gt;</th><th scope=col>&lt;int&gt;</th><th scope=col>&lt;int&gt;</th><th scope=col>&lt;chr&gt;</th><th scope=col>&lt;int&gt;</th><th scope=col>&lt;chr&gt;</th><th scope=col>&lt;dbl&gt;</th><th scope=col>&lt;chr&gt;</th><th scope=col>&lt;int&gt;</th></tr>\n",
       "</thead>\n",
       "<tbody>\n",
       "\t<tr><th scope=row>1</th><td>40</td><td>M</td><td>ATA</td><td>140</td><td>289</td><td>0</td><td>Normal</td><td>172</td><td>N</td><td>0.0</td><td>Up  </td><td>0</td></tr>\n",
       "\t<tr><th scope=row>2</th><td>49</td><td>F</td><td>NAP</td><td>160</td><td>180</td><td>0</td><td>Normal</td><td>156</td><td>N</td><td>1.0</td><td>Flat</td><td>1</td></tr>\n",
       "\t<tr><th scope=row>3</th><td>37</td><td>M</td><td>ATA</td><td>130</td><td>283</td><td>0</td><td>ST    </td><td> 98</td><td>N</td><td>0.0</td><td>Up  </td><td>0</td></tr>\n",
       "\t<tr><th scope=row>4</th><td>48</td><td>F</td><td>ASY</td><td>138</td><td>214</td><td>0</td><td>Normal</td><td>108</td><td>Y</td><td>1.5</td><td>Flat</td><td>1</td></tr>\n",
       "\t<tr><th scope=row>5</th><td>54</td><td>M</td><td>NAP</td><td>150</td><td>195</td><td>0</td><td>Normal</td><td>122</td><td>N</td><td>0.0</td><td>Up  </td><td>0</td></tr>\n",
       "\t<tr><th scope=row>6</th><td>39</td><td>M</td><td>NAP</td><td>120</td><td>339</td><td>0</td><td>Normal</td><td>170</td><td>N</td><td>0.0</td><td>Up  </td><td>0</td></tr>\n",
       "</tbody>\n",
       "</table>\n"
      ],
      "text/latex": [
       "A data.frame: 6 × 12\n",
       "\\begin{tabular}{r|llllllllllll}\n",
       "  & V1 & V2 & V3 & V4 & V5 & V6 & V7 & V8 & V9 & V10 & V11 & V12\\\\\n",
       "  & <int> & <chr> & <chr> & <int> & <int> & <int> & <chr> & <int> & <chr> & <dbl> & <chr> & <int>\\\\\n",
       "\\hline\n",
       "\t1 & 40 & M & ATA & 140 & 289 & 0 & Normal & 172 & N & 0.0 & Up   & 0\\\\\n",
       "\t2 & 49 & F & NAP & 160 & 180 & 0 & Normal & 156 & N & 1.0 & Flat & 1\\\\\n",
       "\t3 & 37 & M & ATA & 130 & 283 & 0 & ST     &  98 & N & 0.0 & Up   & 0\\\\\n",
       "\t4 & 48 & F & ASY & 138 & 214 & 0 & Normal & 108 & Y & 1.5 & Flat & 1\\\\\n",
       "\t5 & 54 & M & NAP & 150 & 195 & 0 & Normal & 122 & N & 0.0 & Up   & 0\\\\\n",
       "\t6 & 39 & M & NAP & 120 & 339 & 0 & Normal & 170 & N & 0.0 & Up   & 0\\\\\n",
       "\\end{tabular}\n"
      ],
      "text/markdown": [
       "\n",
       "A data.frame: 6 × 12\n",
       "\n",
       "| <!--/--> | V1 &lt;int&gt; | V2 &lt;chr&gt; | V3 &lt;chr&gt; | V4 &lt;int&gt; | V5 &lt;int&gt; | V6 &lt;int&gt; | V7 &lt;chr&gt; | V8 &lt;int&gt; | V9 &lt;chr&gt; | V10 &lt;dbl&gt; | V11 &lt;chr&gt; | V12 &lt;int&gt; |\n",
       "|---|---|---|---|---|---|---|---|---|---|---|---|---|\n",
       "| 1 | 40 | M | ATA | 140 | 289 | 0 | Normal | 172 | N | 0.0 | Up   | 0 |\n",
       "| 2 | 49 | F | NAP | 160 | 180 | 0 | Normal | 156 | N | 1.0 | Flat | 1 |\n",
       "| 3 | 37 | M | ATA | 130 | 283 | 0 | ST     |  98 | N | 0.0 | Up   | 0 |\n",
       "| 4 | 48 | F | ASY | 138 | 214 | 0 | Normal | 108 | Y | 1.5 | Flat | 1 |\n",
       "| 5 | 54 | M | NAP | 150 | 195 | 0 | Normal | 122 | N | 0.0 | Up   | 0 |\n",
       "| 6 | 39 | M | NAP | 120 | 339 | 0 | Normal | 170 | N | 0.0 | Up   | 0 |\n",
       "\n"
      ],
      "text/plain": [
       "  V1 V2 V3  V4  V5  V6 V7     V8  V9 V10 V11  V12\n",
       "1 40 M  ATA 140 289 0  Normal 172 N  0.0 Up   0  \n",
       "2 49 F  NAP 160 180 0  Normal 156 N  1.0 Flat 1  \n",
       "3 37 M  ATA 130 283 0  ST      98 N  0.0 Up   0  \n",
       "4 48 F  ASY 138 214 0  Normal 108 Y  1.5 Flat 1  \n",
       "5 54 M  NAP 150 195 0  Normal 122 N  0.0 Up   0  \n",
       "6 39 M  NAP 120 339 0  Normal 170 N  0.0 Up   0  "
      ]
     },
     "metadata": {},
     "output_type": "display_data"
    }
   ],
   "source": [
    "read.csv(\"C:/ProgramData/MySQL/MySQL Server 8.0/Uploads/heart1.csv\", header = F) %>% head"
   ]
  },
  {
   "cell_type": "markdown",
   "id": "58d858ca",
   "metadata": {},
   "source": [
    "#  \n",
    "\n",
    "## JOIN\n",
    "### ```INNER JOIN ~ ON``` : 내부 JOIN\n",
    "- 1 대 다 (one to many)\n",
    "- 두 테이블에 모두 데이터가 있어야 결과 가능 \n",
    "- 기본키 & 외래키"
   ]
  },
  {
   "cell_type": "markdown",
   "id": "cd497a0f",
   "metadata": {},
   "source": [
    "**city의 CountryCode와, country의 Code가 겹치는 값에 대해서 JOIN**"
   ]
  },
  {
   "cell_type": "code",
   "execution_count": 54,
   "id": "3bbbcf49",
   "metadata": {},
   "outputs": [
    {
     "name": "stdout",
     "output_type": "stream",
     "text": [
      "   ID       Name CountryCode         District Population Code        Name\n",
      "1 129 Oranjestad         ABW 횂\\xe2\\u0080\\x93      29034  ABW       Aruba\n",
      "2   1      Kabul         AFG            Kabol    1780000  AFG Afghanistan\n",
      "3   2   Qandahar         AFG         Qandahar     237500  AFG Afghanistan\n",
      "      Continent                    Region SurfaceArea IndepYear Population\n",
      "1 North America                 Caribbean         193        NA     103000\n",
      "2          Asia Southern and Central Asia      652090      1919   22720000\n",
      "3          Asia Southern and Central Asia      652090      1919   22720000\n",
      "  LifeExpectancy  GNP GNPOld             LocalName\n",
      "1           78.4  828    793                 Aruba\n",
      "2           45.9 5976     NA Afganistan/Afqanestan\n",
      "3           45.9 5976     NA Afganistan/Afqanestan\n",
      "                                GovernmentForm   HeadOfState Capital Code2\n",
      "1 Nonmetropolitan Territory of The Netherlands       Beatrix     129    AW\n",
      "2                              Islamic Emirate Mohammad Omar       1    AF\n",
      "3                              Islamic Emirate Mohammad Omar       1    AF\n"
     ]
    }
   ],
   "source": [
    "dbGetQuery(conn, \"SELECT * FROM world.city\n",
    "                  INNER JOIN world.country \n",
    "                  ON world.city.CountryCode = world.country.Code;\")"
   ]
  },
  {
   "cell_type": "markdown",
   "id": "8487997a",
   "metadata": {},
   "source": [
    "### 별칭(Alias) : 코드를 간결하게 하기 위해 사용"
   ]
  },
  {
   "cell_type": "markdown",
   "id": "5b4c0476",
   "metadata": {},
   "source": [
    "### ```OUTER JOIN ~ ON``` : 외부 JOIN\n",
    "- 한쪽에만 데이터가 있어도 결과 가능\n",
    "- OUTER JOIN문 기준으로 LEFT / RIGHT / FULL \n",
    "\n",
    "**world.city테이블을 C, world country 테이블을 CT로 지정**\n",
    "\n",
    "**=> world.city C의 CountryCode와 동일한 Code를 가진 C.CountryCode 데이터를 world.city.C 기준으로 결합**\n",
    "\n",
    "**=> 결합한 데이터의 C.ID, C.Name, C.CountryCode가 중복되지 않게, C.ID 오름차순으로 조회**"
   ]
  },
  {
   "cell_type": "code",
   "execution_count": 67,
   "id": "be2f02b0",
   "metadata": {},
   "outputs": [
    {
     "data": {
      "text/html": [
       "<table class=\"dataframe\">\n",
       "<caption>A data.frame: 6 × 3</caption>\n",
       "<thead>\n",
       "\t<tr><th></th><th scope=col>ID</th><th scope=col>Name</th><th scope=col>CountryCode</th></tr>\n",
       "\t<tr><th></th><th scope=col>&lt;int&gt;</th><th scope=col>&lt;chr&gt;</th><th scope=col>&lt;chr&gt;</th></tr>\n",
       "</thead>\n",
       "<tbody>\n",
       "\t<tr><th scope=row>1</th><td>1</td><td>Kabul         </td><td>AFG</td></tr>\n",
       "\t<tr><th scope=row>2</th><td>2</td><td>Qandahar      </td><td>AFG</td></tr>\n",
       "\t<tr><th scope=row>3</th><td>3</td><td>Herat         </td><td>AFG</td></tr>\n",
       "\t<tr><th scope=row>4</th><td>4</td><td>Mazar-e-Sharif</td><td>AFG</td></tr>\n",
       "\t<tr><th scope=row>5</th><td>5</td><td>Amsterdam     </td><td>NLD</td></tr>\n",
       "\t<tr><th scope=row>6</th><td>6</td><td>Rotterdam     </td><td>NLD</td></tr>\n",
       "</tbody>\n",
       "</table>\n"
      ],
      "text/latex": [
       "A data.frame: 6 × 3\n",
       "\\begin{tabular}{r|lll}\n",
       "  & ID & Name & CountryCode\\\\\n",
       "  & <int> & <chr> & <chr>\\\\\n",
       "\\hline\n",
       "\t1 & 1 & Kabul          & AFG\\\\\n",
       "\t2 & 2 & Qandahar       & AFG\\\\\n",
       "\t3 & 3 & Herat          & AFG\\\\\n",
       "\t4 & 4 & Mazar-e-Sharif & AFG\\\\\n",
       "\t5 & 5 & Amsterdam      & NLD\\\\\n",
       "\t6 & 6 & Rotterdam      & NLD\\\\\n",
       "\\end{tabular}\n"
      ],
      "text/markdown": [
       "\n",
       "A data.frame: 6 × 3\n",
       "\n",
       "| <!--/--> | ID &lt;int&gt; | Name &lt;chr&gt; | CountryCode &lt;chr&gt; |\n",
       "|---|---|---|---|\n",
       "| 1 | 1 | Kabul          | AFG |\n",
       "| 2 | 2 | Qandahar       | AFG |\n",
       "| 3 | 3 | Herat          | AFG |\n",
       "| 4 | 4 | Mazar-e-Sharif | AFG |\n",
       "| 5 | 5 | Amsterdam      | NLD |\n",
       "| 6 | 6 | Rotterdam      | NLD |\n",
       "\n"
      ],
      "text/plain": [
       "  ID Name           CountryCode\n",
       "1 1  Kabul          AFG        \n",
       "2 2  Qandahar       AFG        \n",
       "3 3  Herat          AFG        \n",
       "4 4  Mazar-e-Sharif AFG        \n",
       "5 5  Amsterdam      NLD        \n",
       "6 6  Rotterdam      NLD        "
      ]
     },
     "metadata": {},
     "output_type": "display_data"
    }
   ],
   "source": [
    "dbGetQuery(conn, \"SELECT C.ID, C.Name, C.CountryCode \n",
    "                  FROM world.city C\n",
    "                  LEFT OUTER JOIN world.country CT \n",
    "                  ON C.CountryCode = CT.Code\n",
    "                  ORDER BY C.ID;\") "
   ]
  },
  {
   "cell_type": "markdown",
   "id": "99e8fe1f",
   "metadata": {},
   "source": [
    "### ```CROSS JOIN``` : 상호JOIN, 카르테시안 곱\n",
    "- 한 쪽 테이블의 모든 행과 다른 쪽 테이블의 모든 행을 조인\n",
    "- 만약 한 쪽 테이블의 길이가 n, 다른 쪽 테이블의 길이가 m이면 \n",
    "- 상호 조인된 결과의 길이는 n X m\n",
    "- ON구문 사용 X\n",
    "- 결과의 내용은 의미없음 why? 랜덤 조인"
   ]
  },
  {
   "cell_type": "code",
   "execution_count": 25,
   "id": "fcc79598",
   "metadata": {},
   "outputs": [
    {
     "name": "stdout",
     "output_type": "stream",
     "text": [
      "  COUNT(*)\n",
      "1     4581\n",
      "  COUNT(*)\n",
      "1     4079\n",
      "  COUNT(*)\n",
      "1 18685899\n"
     ]
    }
   ],
   "source": [
    "dbGetQuery(conn, \"SELECT COUNT(*) FROM sakila.inventory\")\n",
    "dbGetQuery(conn, \"SELECT COUNT(*) FROM world.city;\") \n",
    "dbGetQuery(conn, \"SELECT COUNT(*) FROM sakila.inventory  \n",
    "                  CROSS JOIN world.city;\") "
   ]
  },
  {
   "cell_type": "markdown",
   "id": "4b9caa9c",
   "metadata": {},
   "source": [
    "### 자체JOIN\n",
    "- 자신이 자신과 조인\n",
    "- 별도의 테이블 필요X"
   ]
  },
  {
   "cell_type": "markdown",
   "id": "405cd498",
   "metadata": {},
   "source": [
    "**emp_table테이블의 manager열과 emp열이 동일한 데이터들을 내부결합**\n",
    "\n",
    "**=> - 결합한 데이터에서 emp가 ‘F’인 데이터의 A.emp, B.emp, B.phone를 조회**"
   ]
  },
  {
   "cell_type": "code",
   "execution_count": 68,
   "id": "df4165d6",
   "metadata": {},
   "outputs": [
    {
     "data": {
      "text/html": [
       "<table class=\"dataframe\">\n",
       "<caption>A data.frame: 9 × 3</caption>\n",
       "<thead>\n",
       "\t<tr><th scope=col>emp</th><th scope=col>manager</th><th scope=col>phone</th></tr>\n",
       "\t<tr><th scope=col>&lt;chr&gt;</th><th scope=col>&lt;chr&gt;</th><th scope=col>&lt;chr&gt;</th></tr>\n",
       "</thead>\n",
       "<tbody>\n",
       "\t<tr><td>A</td><td>NA</td><td>0000    </td></tr>\n",
       "\t<tr><td>B</td><td>A </td><td>1111    </td></tr>\n",
       "\t<tr><td>C</td><td>A </td><td>2222    </td></tr>\n",
       "\t<tr><td>D</td><td>A </td><td>3333    </td></tr>\n",
       "\t<tr><td>E</td><td>B </td><td>1111-1  </td></tr>\n",
       "\t<tr><td>F</td><td>C </td><td>2222-1  </td></tr>\n",
       "\t<tr><td>G</td><td>C </td><td>2222-2  </td></tr>\n",
       "\t<tr><td>H</td><td>D </td><td>3333-1  </td></tr>\n",
       "\t<tr><td>I</td><td>D </td><td>3333-1-1</td></tr>\n",
       "</tbody>\n",
       "</table>\n"
      ],
      "text/latex": [
       "A data.frame: 9 × 3\n",
       "\\begin{tabular}{lll}\n",
       " emp & manager & phone\\\\\n",
       " <chr> & <chr> & <chr>\\\\\n",
       "\\hline\n",
       "\t A & NA & 0000    \\\\\n",
       "\t B & A  & 1111    \\\\\n",
       "\t C & A  & 2222    \\\\\n",
       "\t D & A  & 3333    \\\\\n",
       "\t E & B  & 1111-1  \\\\\n",
       "\t F & C  & 2222-1  \\\\\n",
       "\t G & C  & 2222-2  \\\\\n",
       "\t H & D  & 3333-1  \\\\\n",
       "\t I & D  & 3333-1-1\\\\\n",
       "\\end{tabular}\n"
      ],
      "text/markdown": [
       "\n",
       "A data.frame: 9 × 3\n",
       "\n",
       "| emp &lt;chr&gt; | manager &lt;chr&gt; | phone &lt;chr&gt; |\n",
       "|---|---|---|\n",
       "| A | NA | 0000     |\n",
       "| B | A  | 1111     |\n",
       "| C | A  | 2222     |\n",
       "| D | A  | 3333     |\n",
       "| E | B  | 1111-1   |\n",
       "| F | C  | 2222-1   |\n",
       "| G | C  | 2222-2   |\n",
       "| H | D  | 3333-1   |\n",
       "| I | D  | 3333-1-1 |\n",
       "\n"
      ],
      "text/plain": [
       "  emp manager phone   \n",
       "1 A   NA      0000    \n",
       "2 B   A       1111    \n",
       "3 C   A       2222    \n",
       "4 D   A       3333    \n",
       "5 E   B       1111-1  \n",
       "6 F   C       2222-1  \n",
       "7 G   C       2222-2  \n",
       "8 H   D       3333-1  \n",
       "9 I   D       3333-1-1"
      ]
     },
     "metadata": {},
     "output_type": "display_data"
    }
   ],
   "source": [
    "dbGetQuery(conn, \"SELECT * FROM market_db.emp_table\")"
   ]
  },
  {
   "cell_type": "code",
   "execution_count": 70,
   "id": "b3e08a32",
   "metadata": {
    "scrolled": true
   },
   "outputs": [
    {
     "data": {
      "text/html": [
       "<table class=\"dataframe\">\n",
       "<caption>A data.frame: 1 × 3</caption>\n",
       "<thead>\n",
       "\t<tr><th scope=col>emp</th><th scope=col>emp</th><th scope=col>phone</th></tr>\n",
       "\t<tr><th scope=col>&lt;chr&gt;</th><th scope=col>&lt;chr&gt;</th><th scope=col>&lt;chr&gt;</th></tr>\n",
       "</thead>\n",
       "<tbody>\n",
       "\t<tr><td>F</td><td>C</td><td>2222</td></tr>\n",
       "</tbody>\n",
       "</table>\n"
      ],
      "text/latex": [
       "A data.frame: 1 × 3\n",
       "\\begin{tabular}{lll}\n",
       " emp & emp & phone\\\\\n",
       " <chr> & <chr> & <chr>\\\\\n",
       "\\hline\n",
       "\t F & C & 2222\\\\\n",
       "\\end{tabular}\n"
      ],
      "text/markdown": [
       "\n",
       "A data.frame: 1 × 3\n",
       "\n",
       "| emp &lt;chr&gt; | emp &lt;chr&gt; | phone &lt;chr&gt; |\n",
       "|---|---|---|\n",
       "| F | C | 2222 |\n",
       "\n"
      ],
      "text/plain": [
       "  emp emp phone\n",
       "1 F   C   2222 "
      ]
     },
     "metadata": {},
     "output_type": "display_data"
    }
   ],
   "source": [
    "dbGetQuery(conn, \"SELECT A.emp, B.emp, B.phone \n",
    "                  FROM emp_table A\n",
    "                  INNER JOIN emp_table B ON A.manager = B.emp\n",
    "                  WHERE A.emp = 'F';\") "
   ]
  },
  {
   "cell_type": "markdown",
   "id": "5e982d91",
   "metadata": {},
   "source": [
    "#  \n",
    "\n",
    "## 인덱스\n",
    "### INDEX : 테이블에서 원하는 데이터를 빠르게 찾기 위해 사용\n",
    "- 일반적으로 데이터를 검색할 때 순서대로 테이블 전체를 검색하므로 데이터가 많으면 많을수록 탐색 시간 증가\n",
    "- 검색과 질의를 할 때 테이블 전체를 읽지 않기 대문에 빠름\n",
    "- 설정된 컬럼 값을 포함한 데이터의 삽입, 삭제, 수정, 작업이 원본 테이블에서 이루어질 경우, 인덱스도 함꼐 수정\n",
    "- 인덱스가 있는 테입르은 처리 속도가 느려질 수 있음\n",
    "- 수정보다는 검색이 자주 사용되는 테이블에서 사용하는 것이 좋음\n",
    "\n",
    "- **INSERT, UPDATE, DELETE가 자주 발생한다면 성능 저하 발생 가능**"
   ]
  },
  {
   "cell_type": "markdown",
   "id": "47fbd717",
   "metadata": {},
   "source": [
    "### 클러스터형 인덱스\n",
    "- 기본 키로 **테이블에 1개만 생성 가능**\n",
    "- 어떤 열을 기본 키로 지정하면(클러스터형 인덱스가 생성), 그 열을 기준으로 자동 정렬 "
   ]
  },
  {
   "cell_type": "markdown",
   "id": "d8057365",
   "metadata": {},
   "source": [
    "### 균형트리구조 : 루트노드(root node) -> 리프노드 (leaf node)\n",
    "- 노드 = 페이지(16kb)\n",
    "- 데이터를 검색하는데 효율적 \n",
    "- (INSERT, UPDATE, DELETE)성능 나빠짐 why? 페이지 분할 (새로운 페이지를 준비해서 데이터를 나누는 작업)\n",
    "- INSERT로 데이터를 연속으로 추가하다 보면, 리프노드에서 페이지 분할로 인하여 새로운 리프노드 생성 -> 루트노드에 데이터 추가 -> 루트노드에 데이터가 꽉 참 (최대 7개) -> 루트노드에서 페이지 분할 -> 루트노드는 더 이상 루트노드가 아니게 됨.\n"
   ]
  },
  {
   "cell_type": "markdown",
   "id": "74555736",
   "metadata": {},
   "source": [
    "### 인덱스 내부 동작\n",
    "#### B-TREE (Balanced Tree : 균형 트리)"
   ]
  },
  {
   "attachments": {
    "Cap%202022-06-26%2021-04-16-108.png": {
     "image/png": "[encoded data removed]"
    }
   },
   "cell_type": "markdown",
   "id": "47ea0dd8",
   "metadata": {},
   "source": [
    "![Cap%202022-06-26%2021-04-16-108.png](attachment:Cap%202022-06-26%2021-04-16-108.png)"
   ]
  },
  {
   "attachments": {
    "Cap%202022-06-26%2021-11-02-996.png": {
     "image/png": "[encoded data removed]"
    }
   },
   "cell_type": "markdown",
   "id": "78967663",
   "metadata": {},
   "source": [
    "#### 삽입 동작 시 (EEE 삽입)\n",
    "![Cap%202022-06-26%2021-11-02-996.png](attachment:Cap%202022-06-26%2021-11-02-996.png)"
   ]
  },
  {
   "attachments": {
    "Cap%202022-06-26%2021-11-07-222.png": {
     "image/png": "[encoded data removed]"
    }
   },
   "cell_type": "markdown",
   "id": "1c2fea6c",
   "metadata": {},
   "source": [
    "#### 삽입 동작 시 (FFF 삽입) -> 페이지 분할\n",
    "\n",
    "![Cap%202022-06-26%2021-11-07-222.png](attachment:Cap%202022-06-26%2021-11-07-222.png)"
   ]
  },
  {
   "cell_type": "markdown",
   "id": "50d506f9",
   "metadata": {},
   "source": [
    "#### 균형트리는 무조건 루트 노드부터 검색 => 모든 리프 페이지를 Full Table Scan하는 것이 아니라 빠른 속도와 효율성 "
   ]
  },
  {
   "cell_type": "markdown",
   "id": "36d24185",
   "metadata": {},
   "source": [
    "### 인덱스 생성\n",
    "- 인덱스는 열 단위로 생성\n",
    "- 하나의 열에 인덱스 생성가능, 여러 열에 하나의 인덱스를 생성 가능\n",
    "- 테이블 생성시 하나의 열에 기본키를 지정하면 자동으로 클러스터형 인덱스가 생성\n",
    "- 기본키를 지정하는 열에 강제적으로 보조 인덱스 지정 가능\n",
    "- 제약 조건 없이 테이블 생성시에 인덱스 생성 가능 \n",
    "- 인덱스가 자동 생성되기 위한 열의 제약조건은 기본키 또는 고유기 뿐"
   ]
  },
  {
   "cell_type": "markdown",
   "id": "ed788722",
   "metadata": {},
   "source": [
    "### 클러스터형 인덱스 생성"
   ]
  },
  {
   "cell_type": "code",
   "execution_count": 17,
   "id": "9e4c7596",
   "metadata": {},
   "outputs": [
    {
     "data": {
      "text/html": [
       "<table class=\"dataframe\">\n",
       "<caption>A data.frame: 9 × 2</caption>\n",
       "<thead>\n",
       "\t<tr><th scope=col>id</th><th scope=col>nick</th></tr>\n",
       "\t<tr><th scope=col>&lt;int&gt;</th><th scope=col>&lt;chr&gt;</th></tr>\n",
       "</thead>\n",
       "<tbody>\n",
       "\t<tr><td> 1</td><td>asdf1</td></tr>\n",
       "\t<tr><td> 2</td><td>asdf2</td></tr>\n",
       "\t<tr><td> 3</td><td>asdf3</td></tr>\n",
       "\t<tr><td>11</td><td>asdf4</td></tr>\n",
       "\t<tr><td>12</td><td>asdf5</td></tr>\n",
       "\t<tr><td>21</td><td>asdf6</td></tr>\n",
       "\t<tr><td>22</td><td>asdf7</td></tr>\n",
       "\t<tr><td>31</td><td>asdf8</td></tr>\n",
       "\t<tr><td>32</td><td>asdf9</td></tr>\n",
       "</tbody>\n",
       "</table>\n"
      ],
      "text/latex": [
       "A data.frame: 9 × 2\n",
       "\\begin{tabular}{ll}\n",
       " id & nick\\\\\n",
       " <int> & <chr>\\\\\n",
       "\\hline\n",
       "\t  1 & asdf1\\\\\n",
       "\t  2 & asdf2\\\\\n",
       "\t  3 & asdf3\\\\\n",
       "\t 11 & asdf4\\\\\n",
       "\t 12 & asdf5\\\\\n",
       "\t 21 & asdf6\\\\\n",
       "\t 22 & asdf7\\\\\n",
       "\t 31 & asdf8\\\\\n",
       "\t 32 & asdf9\\\\\n",
       "\\end{tabular}\n"
      ],
      "text/markdown": [
       "\n",
       "A data.frame: 9 × 2\n",
       "\n",
       "| id &lt;int&gt; | nick &lt;chr&gt; |\n",
       "|---|---|\n",
       "|  1 | asdf1 |\n",
       "|  2 | asdf2 |\n",
       "|  3 | asdf3 |\n",
       "| 11 | asdf4 |\n",
       "| 12 | asdf5 |\n",
       "| 21 | asdf6 |\n",
       "| 22 | asdf7 |\n",
       "| 31 | asdf8 |\n",
       "| 32 | asdf9 |\n",
       "\n"
      ],
      "text/plain": [
       "  id nick \n",
       "1  1 asdf1\n",
       "2  2 asdf2\n",
       "3  3 asdf3\n",
       "4 11 asdf4\n",
       "5 12 asdf5\n",
       "6 21 asdf6\n",
       "7 22 asdf7\n",
       "8 31 asdf8\n",
       "9 32 asdf9"
      ]
     },
     "metadata": {},
     "output_type": "display_data"
    }
   ],
   "source": [
    "# mem_id가 기본키 \n",
    "dbGetQuery(conn, \"SELECT * FROM cluster\")"
   ]
  },
  {
   "cell_type": "code",
   "execution_count": 29,
   "id": "c8f4d4e6",
   "metadata": {},
   "outputs": [
    {
     "data": {
      "text/html": [],
      "text/latex": [],
      "text/markdown": [],
      "text/plain": [
       "<0 x 0 matrix>"
      ]
     },
     "metadata": {},
     "output_type": "display_data"
    }
   ],
   "source": [
    "dbGetQuery(conn, \"ALTER TABLE cluster \n",
    "                  ADD CONSTRAINT \n",
    "                  PRIMARY KEY (id);\")"
   ]
  },
  {
   "attachments": {
    "Cap%202022-06-26%2021-39-08-120.png": {
     "image/png": "[encoded data removed]"
    }
   },
   "cell_type": "markdown",
   "id": "9b91caa3",
   "metadata": {},
   "source": [
    "![Cap%202022-06-26%2021-39-08-120.png](attachment:Cap%202022-06-26%2021-39-08-120.png)"
   ]
  },
  {
   "cell_type": "markdown",
   "id": "25afa84e",
   "metadata": {},
   "source": [
    "- 클러스터형 인덱스를 구성하기 위해서 행 데이터를 해당 열로 정렬한 후에, 루트 노드를 만들게 된다.\n",
    "- 클러스터형 인덱스는 루트 노드와 리프 노드로 구성되며, 리프 노드는 데이터 그 자체\n",
    "- 클러스터형 인덱스는 검색 속도고 보조형 인덱스 보다 더 빠름"
   ]
  },
  {
   "cell_type": "markdown",
   "id": "c71699cc",
   "metadata": {},
   "source": [
    "### 보조 인덱스 생성\n",
    "- 고유 키\n",
    "- **테이블에 여러 개 생성 가능**, 만들 때 마다 공간 차지\n",
    "- 정렬되지 않음\n",
    "- 단순 보조 인덱스 : 데이터 중복\n",
    "- 고유 보조 인덱스 : 데이터 중복X\n",
    "- 업무상 절대로 중복되지 않는 열 (주민번호, 학번, 이메일 등)에만 UNIQUE 옵션 추가"
   ]
  },
  {
   "cell_type": "code",
   "execution_count": 21,
   "id": "0e92440c",
   "metadata": {},
   "outputs": [
    {
     "data": {
      "text/html": [
       "<table class=\"dataframe\">\n",
       "<caption>A data.frame: 9 × 2</caption>\n",
       "<thead>\n",
       "\t<tr><th scope=col>id</th><th scope=col>nick</th></tr>\n",
       "\t<tr><th scope=col>&lt;int&gt;</th><th scope=col>&lt;chr&gt;</th></tr>\n",
       "</thead>\n",
       "<tbody>\n",
       "\t<tr><td> 1</td><td>asdf1</td></tr>\n",
       "\t<tr><td> 2</td><td>asdf2</td></tr>\n",
       "\t<tr><td> 3</td><td>asdf3</td></tr>\n",
       "\t<tr><td>11</td><td>asdf4</td></tr>\n",
       "\t<tr><td>12</td><td>asdf5</td></tr>\n",
       "\t<tr><td>21</td><td>asdf6</td></tr>\n",
       "\t<tr><td>22</td><td>asdf7</td></tr>\n",
       "\t<tr><td>31</td><td>asdf8</td></tr>\n",
       "\t<tr><td>32</td><td>asdf9</td></tr>\n",
       "</tbody>\n",
       "</table>\n"
      ],
      "text/latex": [
       "A data.frame: 9 × 2\n",
       "\\begin{tabular}{ll}\n",
       " id & nick\\\\\n",
       " <int> & <chr>\\\\\n",
       "\\hline\n",
       "\t  1 & asdf1\\\\\n",
       "\t  2 & asdf2\\\\\n",
       "\t  3 & asdf3\\\\\n",
       "\t 11 & asdf4\\\\\n",
       "\t 12 & asdf5\\\\\n",
       "\t 21 & asdf6\\\\\n",
       "\t 22 & asdf7\\\\\n",
       "\t 31 & asdf8\\\\\n",
       "\t 32 & asdf9\\\\\n",
       "\\end{tabular}\n"
      ],
      "text/markdown": [
       "\n",
       "A data.frame: 9 × 2\n",
       "\n",
       "| id &lt;int&gt; | nick &lt;chr&gt; |\n",
       "|---|---|\n",
       "|  1 | asdf1 |\n",
       "|  2 | asdf2 |\n",
       "|  3 | asdf3 |\n",
       "| 11 | asdf4 |\n",
       "| 12 | asdf5 |\n",
       "| 21 | asdf6 |\n",
       "| 22 | asdf7 |\n",
       "| 31 | asdf8 |\n",
       "| 32 | asdf9 |\n",
       "\n"
      ],
      "text/plain": [
       "  id nick \n",
       "1  1 asdf1\n",
       "2  2 asdf2\n",
       "3  3 asdf3\n",
       "4 11 asdf4\n",
       "5 12 asdf5\n",
       "6 21 asdf6\n",
       "7 22 asdf7\n",
       "8 31 asdf8\n",
       "9 32 asdf9"
      ]
     },
     "metadata": {},
     "output_type": "display_data"
    }
   ],
   "source": [
    "dbGetQuery(conn, \"SELECT * FROM noncluster\")"
   ]
  },
  {
   "cell_type": "code",
   "execution_count": 22,
   "id": "977742fe",
   "metadata": {},
   "outputs": [
    {
     "data": {
      "text/html": [],
      "text/latex": [],
      "text/markdown": [],
      "text/plain": [
       "<0 x 0 matrix>"
      ]
     },
     "metadata": {},
     "output_type": "display_data"
    }
   ],
   "source": [
    "dbGetQuery(conn, \"ALTER TABLE cluster \n",
    "                  ADD CONSTRAINT \n",
    "                  UNIQUE (id);\")"
   ]
  },
  {
   "attachments": {
    "Cap%202022-06-26%2021-43-31-927.png": {
     "image/png": "[encoded data removed]"
    }
   },
   "cell_type": "markdown",
   "id": "ba7fc2bd",
   "metadata": {},
   "source": [
    "![Cap%202022-06-26%2021-43-31-927.png](attachment:Cap%202022-06-26%2021-43-31-927.png)"
   ]
  },
  {
   "cell_type": "markdown",
   "id": "9c144477",
   "metadata": {},
   "source": [
    "- 보조형 인덱스는 리프 노드를 건들지 않고, 별도의 장소에 인덱스 노드를 생성\n",
    "- 인덱스 노드의 리프 노드에 인덱스로 구성된 열을 정렬한 후 위치 포인터를 생성"
   ]
  },
  {
   "cell_type": "markdown",
   "id": "61456c8a",
   "metadata": {},
   "source": [
    "### ```CREATE INDEX {인덱스_이름} ON {테이블} ({열_이름})``` : 인덱스 생성\n",
    "- ```CREATE UNIQUE INDEX ~ ```일 경우 중복이 안되는 고유 인덱스 생성 (생략시 중복 허용)\n",
    "- 중복된 값이 있는 열에는 ```UNIQUE INDEX```생성 불가\n",
    "\n",
    "\n"
   ]
  },
  {
   "cell_type": "code",
   "execution_count": 42,
   "id": "ab5d0d0b",
   "metadata": {},
   "outputs": [
    {
     "data": {
      "text/html": [
       "<table class=\"dataframe\">\n",
       "<caption>A data.frame: 10 × 8</caption>\n",
       "<thead>\n",
       "\t<tr><th scope=col>mem_id</th><th scope=col>mem_name</th><th scope=col>mem_number</th><th scope=col>addr</th><th scope=col>phone1</th><th scope=col>phone2</th><th scope=col>height</th><th scope=col>debut_date</th></tr>\n",
       "\t<tr><th scope=col>&lt;chr&gt;</th><th scope=col>&lt;chr&gt;</th><th scope=col>&lt;int&gt;</th><th scope=col>&lt;chr&gt;</th><th scope=col>&lt;chr&gt;</th><th scope=col>&lt;chr&gt;</th><th scope=col>&lt;int&gt;</th><th scope=col>&lt;chr&gt;</th></tr>\n",
       "</thead>\n",
       "<tbody>\n",
       "\t<tr><td>APN</td><td>에이핑크</td><td> 6</td><td>경기</td><td>031</td><td>77777777</td><td>164</td><td>2011-02-10</td></tr>\n",
       "\t<tr><td>BLK</td><td>블랙핑크</td><td> 4</td><td>경남</td><td>055</td><td>22222222</td><td>163</td><td>2016-08-08</td></tr>\n",
       "\t<tr><td>GRL</td><td>소녀시대</td><td> 8</td><td>서울</td><td>02 </td><td>44444444</td><td>168</td><td>2007-08-02</td></tr>\n",
       "\t<tr><td>ITZ</td><td>잇지    </td><td> 5</td><td>경남</td><td>NA </td><td>NA      </td><td>167</td><td>2019-02-12</td></tr>\n",
       "\t<tr><td>MMU</td><td>마마무  </td><td> 4</td><td>전남</td><td>061</td><td>99999999</td><td>165</td><td>2014-06-19</td></tr>\n",
       "\t<tr><td>OMY</td><td>오마이걸</td><td> 7</td><td>서울</td><td>NA </td><td>NA      </td><td>160</td><td>2015-04-21</td></tr>\n",
       "\t<tr><td>RED</td><td>레드벨벳</td><td> 4</td><td>경북</td><td>054</td><td>55555555</td><td>161</td><td>2014-08-01</td></tr>\n",
       "\t<tr><td>SPC</td><td>우주소녀</td><td>13</td><td>서울</td><td>02 </td><td>88888888</td><td>162</td><td>2016-02-25</td></tr>\n",
       "\t<tr><td>TWC</td><td>트와이스</td><td> 9</td><td>서울</td><td>02 </td><td>11111111</td><td>167</td><td>2015-10-19</td></tr>\n",
       "\t<tr><td>WMN</td><td>여자친구</td><td> 6</td><td>경기</td><td>031</td><td>33333333</td><td>166</td><td>2015-01-15</td></tr>\n",
       "</tbody>\n",
       "</table>\n"
      ],
      "text/latex": [
       "A data.frame: 10 × 8\n",
       "\\begin{tabular}{llllllll}\n",
       " mem\\_id & mem\\_name & mem\\_number & addr & phone1 & phone2 & height & debut\\_date\\\\\n",
       " <chr> & <chr> & <int> & <chr> & <chr> & <chr> & <int> & <chr>\\\\\n",
       "\\hline\n",
       "\t APN & 에이핑크 &  6 & 경기 & 031 & 77777777 & 164 & 2011-02-10\\\\\n",
       "\t BLK & 블랙핑크 &  4 & 경남 & 055 & 22222222 & 163 & 2016-08-08\\\\\n",
       "\t GRL & 소녀시대 &  8 & 서울 & 02  & 44444444 & 168 & 2007-08-02\\\\\n",
       "\t ITZ & 잇지     &  5 & 경남 & NA  & NA       & 167 & 2019-02-12\\\\\n",
       "\t MMU & 마마무   &  4 & 전남 & 061 & 99999999 & 165 & 2014-06-19\\\\\n",
       "\t OMY & 오마이걸 &  7 & 서울 & NA  & NA       & 160 & 2015-04-21\\\\\n",
       "\t RED & 레드벨벳 &  4 & 경북 & 054 & 55555555 & 161 & 2014-08-01\\\\\n",
       "\t SPC & 우주소녀 & 13 & 서울 & 02  & 88888888 & 162 & 2016-02-25\\\\\n",
       "\t TWC & 트와이스 &  9 & 서울 & 02  & 11111111 & 167 & 2015-10-19\\\\\n",
       "\t WMN & 여자친구 &  6 & 경기 & 031 & 33333333 & 166 & 2015-01-15\\\\\n",
       "\\end{tabular}\n"
      ],
      "text/markdown": [
       "\n",
       "A data.frame: 10 × 8\n",
       "\n",
       "| mem_id &lt;chr&gt; | mem_name &lt;chr&gt; | mem_number &lt;int&gt; | addr &lt;chr&gt; | phone1 &lt;chr&gt; | phone2 &lt;chr&gt; | height &lt;int&gt; | debut_date &lt;chr&gt; |\n",
       "|---|---|---|---|---|---|---|---|\n",
       "| APN | 에이핑크 |  6 | 경기 | 031 | 77777777 | 164 | 2011-02-10 |\n",
       "| BLK | 블랙핑크 |  4 | 경남 | 055 | 22222222 | 163 | 2016-08-08 |\n",
       "| GRL | 소녀시대 |  8 | 서울 | 02  | 44444444 | 168 | 2007-08-02 |\n",
       "| ITZ | 잇지     |  5 | 경남 | NA  | NA       | 167 | 2019-02-12 |\n",
       "| MMU | 마마무   |  4 | 전남 | 061 | 99999999 | 165 | 2014-06-19 |\n",
       "| OMY | 오마이걸 |  7 | 서울 | NA  | NA       | 160 | 2015-04-21 |\n",
       "| RED | 레드벨벳 |  4 | 경북 | 054 | 55555555 | 161 | 2014-08-01 |\n",
       "| SPC | 우주소녀 | 13 | 서울 | 02  | 88888888 | 162 | 2016-02-25 |\n",
       "| TWC | 트와이스 |  9 | 서울 | 02  | 11111111 | 167 | 2015-10-19 |\n",
       "| WMN | 여자친구 |  6 | 경기 | 031 | 33333333 | 166 | 2015-01-15 |\n",
       "\n"
      ],
      "text/plain": [
       "   mem_id mem_name mem_number addr phone1 phone2   height debut_date\n",
       "1  APN    에이핑크  6         경기 031    77777777 164    2011-02-10\n",
       "2  BLK    블랙핑크  4         경남 055    22222222 163    2016-08-08\n",
       "3  GRL    소녀시대  8         서울 02     44444444 168    2007-08-02\n",
       "4  ITZ    잇지      5         경남 NA     NA       167    2019-02-12\n",
       "5  MMU    마마무    4         전남 061    99999999 165    2014-06-19\n",
       "6  OMY    오마이걸  7         서울 NA     NA       160    2015-04-21\n",
       "7  RED    레드벨벳  4         경북 054    55555555 161    2014-08-01\n",
       "8  SPC    우주소녀 13         서울 02     88888888 162    2016-02-25\n",
       "9  TWC    트와이스  9         서울 02     11111111 167    2015-10-19\n",
       "10 WMN    여자친구  6         경기 031    33333333 166    2015-01-15"
      ]
     },
     "metadata": {},
     "output_type": "display_data"
    }
   ],
   "source": [
    "dbGetQuery(conn, \"SELECT * FROM market_db.member\") "
   ]
  },
  {
   "cell_type": "code",
   "execution_count": 45,
   "id": "3fde482a",
   "metadata": {},
   "outputs": [
    {
     "data": {
      "text/html": [],
      "text/latex": [],
      "text/markdown": [],
      "text/plain": [
       "<0 x 0 matrix>"
      ]
     },
     "metadata": {},
     "output_type": "display_data"
    }
   ],
   "source": [
    "dbGetQuery(conn, \"CREATE UNIQUE INDEX IDX1\n",
    "                  ON market_db.member (mem_id);\")"
   ]
  },
  {
   "cell_type": "markdown",
   "id": "d2fc3733",
   "metadata": {},
   "source": [
    "### ```SHOW INDEX``` : 인덱스 정보 확인\n",
    "- Key_name이 PRIMARY이면 클러스터형 인덱스를 의미\n",
    "- Non_unique가 0 : 중복 허용 안함 (고유 보조 인덱스) -> 중복된 데이터 입력 불가 \n",
    "- Non_unique가 1 : 중복 허용 (단순 보조 인덱스)\n",
    "- Column_name : 클러스터형 인덱스가 설정된 열"
   ]
  },
  {
   "cell_type": "code",
   "execution_count": 54,
   "id": "904460ae",
   "metadata": {},
   "outputs": [
    {
     "name": "stderr",
     "output_type": "stream",
     "text": [
      "Warning message in .local(conn, statement, ...):\n",
      "\"Unsigned INTEGER in col 3 imported as numeric\"\n",
      "Warning message in .local(conn, statement, ...):\n",
      "\"unrecognized MySQL field type 6 in column 8 imported as character\"\n"
     ]
    },
    {
     "data": {
      "text/html": [
       "<table class=\"dataframe\">\n",
       "<caption>A data.frame: 1 × 15</caption>\n",
       "<thead>\n",
       "\t<tr><th scope=col>Table</th><th scope=col>Non_unique</th><th scope=col>Key_name</th><th scope=col>Seq_in_index</th><th scope=col>Column_name</th><th scope=col>Collation</th><th scope=col>Cardinality</th><th scope=col>Sub_part</th><th scope=col>Packed</th><th scope=col>Null</th><th scope=col>Index_type</th><th scope=col>Comment</th><th scope=col>Index_comment</th><th scope=col>Visible</th><th scope=col>Expression</th></tr>\n",
       "\t<tr><th scope=col>&lt;chr&gt;</th><th scope=col>&lt;int&gt;</th><th scope=col>&lt;chr&gt;</th><th scope=col>&lt;dbl&gt;</th><th scope=col>&lt;chr&gt;</th><th scope=col>&lt;chr&gt;</th><th scope=col>&lt;dbl&gt;</th><th scope=col>&lt;dbl&gt;</th><th scope=col>&lt;chr&gt;</th><th scope=col>&lt;chr&gt;</th><th scope=col>&lt;chr&gt;</th><th scope=col>&lt;chr&gt;</th><th scope=col>&lt;chr&gt;</th><th scope=col>&lt;chr&gt;</th><th scope=col>&lt;chr&gt;</th></tr>\n",
       "</thead>\n",
       "<tbody>\n",
       "\t<tr><td>member</td><td>0</td><td>IDX1</td><td>1</td><td>mem_id</td><td>A</td><td>10</td><td>NA</td><td>NA</td><td></td><td>BTREE</td><td></td><td></td><td>YES</td><td>NA</td></tr>\n",
       "</tbody>\n",
       "</table>\n"
      ],
      "text/latex": [
       "A data.frame: 1 × 15\n",
       "\\begin{tabular}{lllllllllllllll}\n",
       " Table & Non\\_unique & Key\\_name & Seq\\_in\\_index & Column\\_name & Collation & Cardinality & Sub\\_part & Packed & Null & Index\\_type & Comment & Index\\_comment & Visible & Expression\\\\\n",
       " <chr> & <int> & <chr> & <dbl> & <chr> & <chr> & <dbl> & <dbl> & <chr> & <chr> & <chr> & <chr> & <chr> & <chr> & <chr>\\\\\n",
       "\\hline\n",
       "\t member & 0 & IDX1 & 1 & mem\\_id & A & 10 & NA & NA &  & BTREE &  &  & YES & NA\\\\\n",
       "\\end{tabular}\n"
      ],
      "text/markdown": [
       "\n",
       "A data.frame: 1 × 15\n",
       "\n",
       "| Table &lt;chr&gt; | Non_unique &lt;int&gt; | Key_name &lt;chr&gt; | Seq_in_index &lt;dbl&gt; | Column_name &lt;chr&gt; | Collation &lt;chr&gt; | Cardinality &lt;dbl&gt; | Sub_part &lt;dbl&gt; | Packed &lt;chr&gt; | Null &lt;chr&gt; | Index_type &lt;chr&gt; | Comment &lt;chr&gt; | Index_comment &lt;chr&gt; | Visible &lt;chr&gt; | Expression &lt;chr&gt; |\n",
       "|---|---|---|---|---|---|---|---|---|---|---|---|---|---|---|\n",
       "| member | 0 | IDX1 | 1 | mem_id | A | 10 | NA | NA | <!----> | BTREE | <!----> | <!----> | YES | NA |\n",
       "\n"
      ],
      "text/plain": [
       "  Table  Non_unique Key_name Seq_in_index Column_name Collation Cardinality\n",
       "1 member 0          IDX1     1            mem_id      A         10         \n",
       "  Sub_part Packed Null Index_type Comment Index_comment Visible Expression\n",
       "1 NA       NA          BTREE                            YES     NA        "
      ]
     },
     "metadata": {},
     "output_type": "display_data"
    }
   ],
   "source": [
    "dbGetQuery(conn, \"SHOW INDEX FROM market_db.member;\")"
   ]
  },
  {
   "cell_type": "markdown",
   "id": "58c50a7c",
   "metadata": {},
   "source": [
    "**단순 보조 인덱스 생성**\n",
    "- **Non_unique가 1로 설정되어 있으므로 고유 보조 인덱스가 아님**"
   ]
  },
  {
   "cell_type": "code",
   "execution_count": 55,
   "id": "fc6843f8",
   "metadata": {},
   "outputs": [
    {
     "data": {
      "text/html": [],
      "text/latex": [],
      "text/markdown": [],
      "text/plain": [
       "<0 x 0 matrix>"
      ]
     },
     "metadata": {},
     "output_type": "display_data"
    }
   ],
   "source": [
    "dbGetQuery(conn, \"CREATE INDEX IDX2\n",
    "                  ON market_db.member (mem_number);\")"
   ]
  },
  {
   "cell_type": "code",
   "execution_count": 56,
   "id": "f3bf85af",
   "metadata": {},
   "outputs": [
    {
     "name": "stderr",
     "output_type": "stream",
     "text": [
      "Warning message in .local(conn, statement, ...):\n",
      "\"Unsigned INTEGER in col 3 imported as numeric\"\n",
      "Warning message in .local(conn, statement, ...):\n",
      "\"unrecognized MySQL field type 6 in column 8 imported as character\"\n"
     ]
    },
    {
     "data": {
      "text/html": [
       "<table class=\"dataframe\">\n",
       "<caption>A data.frame: 2 × 15</caption>\n",
       "<thead>\n",
       "\t<tr><th scope=col>Table</th><th scope=col>Non_unique</th><th scope=col>Key_name</th><th scope=col>Seq_in_index</th><th scope=col>Column_name</th><th scope=col>Collation</th><th scope=col>Cardinality</th><th scope=col>Sub_part</th><th scope=col>Packed</th><th scope=col>Null</th><th scope=col>Index_type</th><th scope=col>Comment</th><th scope=col>Index_comment</th><th scope=col>Visible</th><th scope=col>Expression</th></tr>\n",
       "\t<tr><th scope=col>&lt;chr&gt;</th><th scope=col>&lt;int&gt;</th><th scope=col>&lt;chr&gt;</th><th scope=col>&lt;dbl&gt;</th><th scope=col>&lt;chr&gt;</th><th scope=col>&lt;chr&gt;</th><th scope=col>&lt;dbl&gt;</th><th scope=col>&lt;dbl&gt;</th><th scope=col>&lt;chr&gt;</th><th scope=col>&lt;chr&gt;</th><th scope=col>&lt;chr&gt;</th><th scope=col>&lt;chr&gt;</th><th scope=col>&lt;chr&gt;</th><th scope=col>&lt;chr&gt;</th><th scope=col>&lt;chr&gt;</th></tr>\n",
       "</thead>\n",
       "<tbody>\n",
       "\t<tr><td>member</td><td>0</td><td>IDX1</td><td>1</td><td>mem_id    </td><td>A</td><td>10</td><td>NA</td><td>NA</td><td></td><td>BTREE</td><td></td><td></td><td>YES</td><td>NA</td></tr>\n",
       "\t<tr><td>member</td><td>1</td><td>IDX2</td><td>1</td><td>mem_number</td><td>A</td><td> 7</td><td>NA</td><td>NA</td><td></td><td>BTREE</td><td></td><td></td><td>YES</td><td>NA</td></tr>\n",
       "</tbody>\n",
       "</table>\n"
      ],
      "text/latex": [
       "A data.frame: 2 × 15\n",
       "\\begin{tabular}{lllllllllllllll}\n",
       " Table & Non\\_unique & Key\\_name & Seq\\_in\\_index & Column\\_name & Collation & Cardinality & Sub\\_part & Packed & Null & Index\\_type & Comment & Index\\_comment & Visible & Expression\\\\\n",
       " <chr> & <int> & <chr> & <dbl> & <chr> & <chr> & <dbl> & <dbl> & <chr> & <chr> & <chr> & <chr> & <chr> & <chr> & <chr>\\\\\n",
       "\\hline\n",
       "\t member & 0 & IDX1 & 1 & mem\\_id     & A & 10 & NA & NA &  & BTREE &  &  & YES & NA\\\\\n",
       "\t member & 1 & IDX2 & 1 & mem\\_number & A &  7 & NA & NA &  & BTREE &  &  & YES & NA\\\\\n",
       "\\end{tabular}\n"
      ],
      "text/markdown": [
       "\n",
       "A data.frame: 2 × 15\n",
       "\n",
       "| Table &lt;chr&gt; | Non_unique &lt;int&gt; | Key_name &lt;chr&gt; | Seq_in_index &lt;dbl&gt; | Column_name &lt;chr&gt; | Collation &lt;chr&gt; | Cardinality &lt;dbl&gt; | Sub_part &lt;dbl&gt; | Packed &lt;chr&gt; | Null &lt;chr&gt; | Index_type &lt;chr&gt; | Comment &lt;chr&gt; | Index_comment &lt;chr&gt; | Visible &lt;chr&gt; | Expression &lt;chr&gt; |\n",
       "|---|---|---|---|---|---|---|---|---|---|---|---|---|---|---|\n",
       "| member | 0 | IDX1 | 1 | mem_id     | A | 10 | NA | NA | <!----> | BTREE | <!----> | <!----> | YES | NA |\n",
       "| member | 1 | IDX2 | 1 | mem_number | A |  7 | NA | NA | <!----> | BTREE | <!----> | <!----> | YES | NA |\n",
       "\n"
      ],
      "text/plain": [
       "  Table  Non_unique Key_name Seq_in_index Column_name Collation Cardinality\n",
       "1 member 0          IDX1     1            mem_id      A         10         \n",
       "2 member 1          IDX2     1            mem_number  A          7         \n",
       "  Sub_part Packed Null Index_type Comment Index_comment Visible Expression\n",
       "1 NA       NA          BTREE                            YES     NA        \n",
       "2 NA       NA          BTREE                            YES     NA        "
      ]
     },
     "metadata": {},
     "output_type": "display_data"
    }
   ],
   "source": [
    "dbGetQuery(conn, \"SHOW INDEX FROM market_db.member;\")"
   ]
  },
  {
   "cell_type": "markdown",
   "id": "c2a3dbc5",
   "metadata": {},
   "source": [
    "### ```ANALYZE TABLE``` : 테이블 분석/처리, 생성한 인덱스 실제로 적용"
   ]
  },
  {
   "cell_type": "markdown",
   "id": "460b2aa0",
   "metadata": {},
   "source": [
    "- Data_length : 클러스터형 인덱스(또는 데이터)의 크기를 Byte단위로 표기 \n",
    "- Index_length : 보조 인덱스의 크기\n",
    "- 위에서 인덱스가 추가되었지만, Index_length (보조 인덱스 크기)는 아직 0"
   ]
  },
  {
   "cell_type": "code",
   "execution_count": 57,
   "id": "3f6a58c8",
   "metadata": {},
   "outputs": [
    {
     "name": "stderr",
     "output_type": "stream",
     "text": [
      "Warning message in .local(conn, statement, ...):\n",
      "\"unrecognized MySQL field type 7 in column 11 imported as character\"\n"
     ]
    },
    {
     "data": {
      "text/html": [
       "<table class=\"dataframe\">\n",
       "<caption>A data.frame: 1 × 18</caption>\n",
       "<thead>\n",
       "\t<tr><th scope=col>Name</th><th scope=col>Engine</th><th scope=col>Version</th><th scope=col>Row_format</th><th scope=col>Rows</th><th scope=col>Avg_row_length</th><th scope=col>Data_length</th><th scope=col>Max_data_length</th><th scope=col>Index_length</th><th scope=col>Data_free</th><th scope=col>Auto_increment</th><th scope=col>Create_time</th><th scope=col>Update_time</th><th scope=col>Check_time</th><th scope=col>Collation</th><th scope=col>Checksum</th><th scope=col>Create_options</th><th scope=col>Comment</th></tr>\n",
       "\t<tr><th scope=col>&lt;chr&gt;</th><th scope=col>&lt;chr&gt;</th><th scope=col>&lt;int&gt;</th><th scope=col>&lt;chr&gt;</th><th scope=col>&lt;dbl&gt;</th><th scope=col>&lt;dbl&gt;</th><th scope=col>&lt;dbl&gt;</th><th scope=col>&lt;dbl&gt;</th><th scope=col>&lt;dbl&gt;</th><th scope=col>&lt;dbl&gt;</th><th scope=col>&lt;dbl&gt;</th><th scope=col>&lt;chr&gt;</th><th scope=col>&lt;chr&gt;</th><th scope=col>&lt;chr&gt;</th><th scope=col>&lt;chr&gt;</th><th scope=col>&lt;dbl&gt;</th><th scope=col>&lt;chr&gt;</th><th scope=col>&lt;chr&gt;</th></tr>\n",
       "</thead>\n",
       "<tbody>\n",
       "\t<tr><td>member</td><td>InnoDB</td><td>10</td><td>Dynamic</td><td>10</td><td>1638</td><td>16384</td><td>0</td><td>0</td><td>0</td><td>NA</td><td>2022-06-26 22:22:21</td><td>NA</td><td>NA</td><td>utf8mb4_0900_ai_ci</td><td>NA</td><td></td><td></td></tr>\n",
       "</tbody>\n",
       "</table>\n"
      ],
      "text/latex": [
       "A data.frame: 1 × 18\n",
       "\\begin{tabular}{llllllllllllllllll}\n",
       " Name & Engine & Version & Row\\_format & Rows & Avg\\_row\\_length & Data\\_length & Max\\_data\\_length & Index\\_length & Data\\_free & Auto\\_increment & Create\\_time & Update\\_time & Check\\_time & Collation & Checksum & Create\\_options & Comment\\\\\n",
       " <chr> & <chr> & <int> & <chr> & <dbl> & <dbl> & <dbl> & <dbl> & <dbl> & <dbl> & <dbl> & <chr> & <chr> & <chr> & <chr> & <dbl> & <chr> & <chr>\\\\\n",
       "\\hline\n",
       "\t member & InnoDB & 10 & Dynamic & 10 & 1638 & 16384 & 0 & 0 & 0 & NA & 2022-06-26 22:22:21 & NA & NA & utf8mb4\\_0900\\_ai\\_ci & NA &  & \\\\\n",
       "\\end{tabular}\n"
      ],
      "text/markdown": [
       "\n",
       "A data.frame: 1 × 18\n",
       "\n",
       "| Name &lt;chr&gt; | Engine &lt;chr&gt; | Version &lt;int&gt; | Row_format &lt;chr&gt; | Rows &lt;dbl&gt; | Avg_row_length &lt;dbl&gt; | Data_length &lt;dbl&gt; | Max_data_length &lt;dbl&gt; | Index_length &lt;dbl&gt; | Data_free &lt;dbl&gt; | Auto_increment &lt;dbl&gt; | Create_time &lt;chr&gt; | Update_time &lt;chr&gt; | Check_time &lt;chr&gt; | Collation &lt;chr&gt; | Checksum &lt;dbl&gt; | Create_options &lt;chr&gt; | Comment &lt;chr&gt; |\n",
       "|---|---|---|---|---|---|---|---|---|---|---|---|---|---|---|---|---|---|\n",
       "| member | InnoDB | 10 | Dynamic | 10 | 1638 | 16384 | 0 | 0 | 0 | NA | 2022-06-26 22:22:21 | NA | NA | utf8mb4_0900_ai_ci | NA | <!----> | <!----> |\n",
       "\n"
      ],
      "text/plain": [
       "  Name   Engine Version Row_format Rows Avg_row_length Data_length\n",
       "1 member InnoDB 10      Dynamic    10   1638           16384      \n",
       "  Max_data_length Index_length Data_free Auto_increment Create_time        \n",
       "1 0               0            0         NA             2022-06-26 22:22:21\n",
       "  Update_time Check_time Collation          Checksum Create_options Comment\n",
       "1 NA          NA         utf8mb4_0900_ai_ci NA                             "
      ]
     },
     "metadata": {},
     "output_type": "display_data"
    }
   ],
   "source": [
    "dbGetQuery(conn, \"SHOW TABLE STATUS LIKE 'member'\")"
   ]
  },
  {
   "cell_type": "markdown",
   "id": "c4e11279",
   "metadata": {},
   "source": [
    "**보조 인덱스 생성 적용 및 확인**"
   ]
  },
  {
   "cell_type": "code",
   "execution_count": 58,
   "id": "17da2568",
   "metadata": {},
   "outputs": [
    {
     "data": {
      "text/html": [
       "<table class=\"dataframe\">\n",
       "<caption>A data.frame: 1 × 4</caption>\n",
       "<thead>\n",
       "\t<tr><th scope=col>Table</th><th scope=col>Op</th><th scope=col>Msg_type</th><th scope=col>Msg_text</th></tr>\n",
       "\t<tr><th scope=col>&lt;chr&gt;</th><th scope=col>&lt;chr&gt;</th><th scope=col>&lt;chr&gt;</th><th scope=col>&lt;chr&gt;</th></tr>\n",
       "</thead>\n",
       "<tbody>\n",
       "\t<tr><td>market_db.member</td><td>analyze</td><td>status</td><td>OK</td></tr>\n",
       "</tbody>\n",
       "</table>\n"
      ],
      "text/latex": [
       "A data.frame: 1 × 4\n",
       "\\begin{tabular}{llll}\n",
       " Table & Op & Msg\\_type & Msg\\_text\\\\\n",
       " <chr> & <chr> & <chr> & <chr>\\\\\n",
       "\\hline\n",
       "\t market\\_db.member & analyze & status & OK\\\\\n",
       "\\end{tabular}\n"
      ],
      "text/markdown": [
       "\n",
       "A data.frame: 1 × 4\n",
       "\n",
       "| Table &lt;chr&gt; | Op &lt;chr&gt; | Msg_type &lt;chr&gt; | Msg_text &lt;chr&gt; |\n",
       "|---|---|---|---|\n",
       "| market_db.member | analyze | status | OK |\n",
       "\n"
      ],
      "text/plain": [
       "  Table            Op      Msg_type Msg_text\n",
       "1 market_db.member analyze status   OK      "
      ]
     },
     "metadata": {},
     "output_type": "display_data"
    },
    {
     "name": "stderr",
     "output_type": "stream",
     "text": [
      "Warning message in .local(conn, statement, ...):\n",
      "\"unrecognized MySQL field type 7 in column 11 imported as character\"\n"
     ]
    },
    {
     "data": {
      "text/html": [
       "<table class=\"dataframe\">\n",
       "<caption>A data.frame: 1 × 18</caption>\n",
       "<thead>\n",
       "\t<tr><th scope=col>Name</th><th scope=col>Engine</th><th scope=col>Version</th><th scope=col>Row_format</th><th scope=col>Rows</th><th scope=col>Avg_row_length</th><th scope=col>Data_length</th><th scope=col>Max_data_length</th><th scope=col>Index_length</th><th scope=col>Data_free</th><th scope=col>Auto_increment</th><th scope=col>Create_time</th><th scope=col>Update_time</th><th scope=col>Check_time</th><th scope=col>Collation</th><th scope=col>Checksum</th><th scope=col>Create_options</th><th scope=col>Comment</th></tr>\n",
       "\t<tr><th scope=col>&lt;chr&gt;</th><th scope=col>&lt;chr&gt;</th><th scope=col>&lt;int&gt;</th><th scope=col>&lt;chr&gt;</th><th scope=col>&lt;dbl&gt;</th><th scope=col>&lt;dbl&gt;</th><th scope=col>&lt;dbl&gt;</th><th scope=col>&lt;dbl&gt;</th><th scope=col>&lt;dbl&gt;</th><th scope=col>&lt;dbl&gt;</th><th scope=col>&lt;dbl&gt;</th><th scope=col>&lt;chr&gt;</th><th scope=col>&lt;chr&gt;</th><th scope=col>&lt;chr&gt;</th><th scope=col>&lt;chr&gt;</th><th scope=col>&lt;dbl&gt;</th><th scope=col>&lt;chr&gt;</th><th scope=col>&lt;chr&gt;</th></tr>\n",
       "</thead>\n",
       "<tbody>\n",
       "\t<tr><td>member</td><td>InnoDB</td><td>10</td><td>Dynamic</td><td>10</td><td>1638</td><td>16384</td><td>0</td><td>16384</td><td>0</td><td>NA</td><td>2022-06-26 22:22:21</td><td>NA</td><td>NA</td><td>utf8mb4_0900_ai_ci</td><td>NA</td><td></td><td></td></tr>\n",
       "</tbody>\n",
       "</table>\n"
      ],
      "text/latex": [
       "A data.frame: 1 × 18\n",
       "\\begin{tabular}{llllllllllllllllll}\n",
       " Name & Engine & Version & Row\\_format & Rows & Avg\\_row\\_length & Data\\_length & Max\\_data\\_length & Index\\_length & Data\\_free & Auto\\_increment & Create\\_time & Update\\_time & Check\\_time & Collation & Checksum & Create\\_options & Comment\\\\\n",
       " <chr> & <chr> & <int> & <chr> & <dbl> & <dbl> & <dbl> & <dbl> & <dbl> & <dbl> & <dbl> & <chr> & <chr> & <chr> & <chr> & <dbl> & <chr> & <chr>\\\\\n",
       "\\hline\n",
       "\t member & InnoDB & 10 & Dynamic & 10 & 1638 & 16384 & 0 & 16384 & 0 & NA & 2022-06-26 22:22:21 & NA & NA & utf8mb4\\_0900\\_ai\\_ci & NA &  & \\\\\n",
       "\\end{tabular}\n"
      ],
      "text/markdown": [
       "\n",
       "A data.frame: 1 × 18\n",
       "\n",
       "| Name &lt;chr&gt; | Engine &lt;chr&gt; | Version &lt;int&gt; | Row_format &lt;chr&gt; | Rows &lt;dbl&gt; | Avg_row_length &lt;dbl&gt; | Data_length &lt;dbl&gt; | Max_data_length &lt;dbl&gt; | Index_length &lt;dbl&gt; | Data_free &lt;dbl&gt; | Auto_increment &lt;dbl&gt; | Create_time &lt;chr&gt; | Update_time &lt;chr&gt; | Check_time &lt;chr&gt; | Collation &lt;chr&gt; | Checksum &lt;dbl&gt; | Create_options &lt;chr&gt; | Comment &lt;chr&gt; |\n",
       "|---|---|---|---|---|---|---|---|---|---|---|---|---|---|---|---|---|---|\n",
       "| member | InnoDB | 10 | Dynamic | 10 | 1638 | 16384 | 0 | 16384 | 0 | NA | 2022-06-26 22:22:21 | NA | NA | utf8mb4_0900_ai_ci | NA | <!----> | <!----> |\n",
       "\n"
      ],
      "text/plain": [
       "  Name   Engine Version Row_format Rows Avg_row_length Data_length\n",
       "1 member InnoDB 10      Dynamic    10   1638           16384      \n",
       "  Max_data_length Index_length Data_free Auto_increment Create_time        \n",
       "1 0               16384        0         NA             2022-06-26 22:22:21\n",
       "  Update_time Check_time Collation          Checksum Create_options Comment\n",
       "1 NA          NA         utf8mb4_0900_ai_ci NA                             "
      ]
     },
     "metadata": {},
     "output_type": "display_data"
    }
   ],
   "source": [
    "dbGetQuery(conn, \"ANALYZE TABLE market_db.member;\")\n",
    "dbGetQuery(conn, \"SHOW TABLE STATUS LIKE 'member'\")"
   ]
  },
  {
   "cell_type": "markdown",
   "id": "86047026",
   "metadata": {},
   "source": [
    "## \n",
    "### 인덱스 중복값 입력"
   ]
  },
  {
   "cell_type": "markdown",
   "id": "1bca3772",
   "metadata": {},
   "source": [
    "**member테이블에 mem_number에는 이미 중복된 값이 있기 때문에, 고유 보조 인덱스 생성 불가** "
   ]
  },
  {
   "cell_type": "code",
   "execution_count": 59,
   "id": "fd19458d",
   "metadata": {},
   "outputs": [
    {
     "ename": "ERROR",
     "evalue": "Error in .local(conn, statement, ...): could not run statement: Duplicate entry '4' for key 'member.IDX3'\n",
     "output_type": "error",
     "traceback": [
      "Error in .local(conn, statement, ...): could not run statement: Duplicate entry '4' for key 'member.IDX3'\nTraceback:\n",
      "1. dbGetQuery(conn, \"CREATE UNIQUE INDEX IDX3\\n                  ON member (mem_number);\")",
      "2. dbGetQuery(conn, \"CREATE UNIQUE INDEX IDX3\\n                  ON member (mem_number);\")",
      "3. .local(conn, statement, ...)",
      "4. dbSendQuery(conn, statement, ...)",
      "5. dbSendQuery(conn, statement, ...)",
      "6. .local(conn, statement, ...)"
     ]
    }
   ],
   "source": [
    "dbGetQuery(conn, \"CREATE UNIQUE INDEX IDX3\n",
    "                  ON member (mem_number);\")"
   ]
  },
  {
   "cell_type": "markdown",
   "id": "66daf5d7",
   "metadata": {},
   "source": [
    "**mem_namd에 고유 보조 인덱스 생성**"
   ]
  },
  {
   "cell_type": "code",
   "execution_count": 61,
   "id": "be8aa819",
   "metadata": {},
   "outputs": [
    {
     "data": {
      "text/html": [],
      "text/latex": [],
      "text/markdown": [],
      "text/plain": [
       "<0 x 0 matrix>"
      ]
     },
     "metadata": {},
     "output_type": "display_data"
    }
   ],
   "source": [
    "dbGetQuery(conn, \"CREATE UNIQUE INDEX IDX4\n",
    "                  ON member (mem_name);\")"
   ]
  },
  {
   "cell_type": "code",
   "execution_count": 62,
   "id": "036d1afd",
   "metadata": {},
   "outputs": [
    {
     "name": "stderr",
     "output_type": "stream",
     "text": [
      "Warning message in .local(conn, statement, ...):\n",
      "\"Unsigned INTEGER in col 3 imported as numeric\"\n",
      "Warning message in .local(conn, statement, ...):\n",
      "\"unrecognized MySQL field type 6 in column 8 imported as character\"\n"
     ]
    },
    {
     "data": {
      "text/html": [
       "<table class=\"dataframe\">\n",
       "<caption>A data.frame: 3 × 15</caption>\n",
       "<thead>\n",
       "\t<tr><th scope=col>Table</th><th scope=col>Non_unique</th><th scope=col>Key_name</th><th scope=col>Seq_in_index</th><th scope=col>Column_name</th><th scope=col>Collation</th><th scope=col>Cardinality</th><th scope=col>Sub_part</th><th scope=col>Packed</th><th scope=col>Null</th><th scope=col>Index_type</th><th scope=col>Comment</th><th scope=col>Index_comment</th><th scope=col>Visible</th><th scope=col>Expression</th></tr>\n",
       "\t<tr><th scope=col>&lt;chr&gt;</th><th scope=col>&lt;int&gt;</th><th scope=col>&lt;chr&gt;</th><th scope=col>&lt;dbl&gt;</th><th scope=col>&lt;chr&gt;</th><th scope=col>&lt;chr&gt;</th><th scope=col>&lt;dbl&gt;</th><th scope=col>&lt;dbl&gt;</th><th scope=col>&lt;chr&gt;</th><th scope=col>&lt;chr&gt;</th><th scope=col>&lt;chr&gt;</th><th scope=col>&lt;chr&gt;</th><th scope=col>&lt;chr&gt;</th><th scope=col>&lt;chr&gt;</th><th scope=col>&lt;chr&gt;</th></tr>\n",
       "</thead>\n",
       "<tbody>\n",
       "\t<tr><td>member</td><td>0</td><td>IDX1</td><td>1</td><td>mem_id    </td><td>A</td><td>10</td><td>NA</td><td>NA</td><td></td><td>BTREE</td><td></td><td></td><td>YES</td><td>NA</td></tr>\n",
       "\t<tr><td>member</td><td>0</td><td>IDX4</td><td>1</td><td>mem_name  </td><td>A</td><td>10</td><td>NA</td><td>NA</td><td></td><td>BTREE</td><td></td><td></td><td>YES</td><td>NA</td></tr>\n",
       "\t<tr><td>member</td><td>1</td><td>IDX2</td><td>1</td><td>mem_number</td><td>A</td><td> 7</td><td>NA</td><td>NA</td><td></td><td>BTREE</td><td></td><td></td><td>YES</td><td>NA</td></tr>\n",
       "</tbody>\n",
       "</table>\n"
      ],
      "text/latex": [
       "A data.frame: 3 × 15\n",
       "\\begin{tabular}{lllllllllllllll}\n",
       " Table & Non\\_unique & Key\\_name & Seq\\_in\\_index & Column\\_name & Collation & Cardinality & Sub\\_part & Packed & Null & Index\\_type & Comment & Index\\_comment & Visible & Expression\\\\\n",
       " <chr> & <int> & <chr> & <dbl> & <chr> & <chr> & <dbl> & <dbl> & <chr> & <chr> & <chr> & <chr> & <chr> & <chr> & <chr>\\\\\n",
       "\\hline\n",
       "\t member & 0 & IDX1 & 1 & mem\\_id     & A & 10 & NA & NA &  & BTREE &  &  & YES & NA\\\\\n",
       "\t member & 0 & IDX4 & 1 & mem\\_name   & A & 10 & NA & NA &  & BTREE &  &  & YES & NA\\\\\n",
       "\t member & 1 & IDX2 & 1 & mem\\_number & A &  7 & NA & NA &  & BTREE &  &  & YES & NA\\\\\n",
       "\\end{tabular}\n"
      ],
      "text/markdown": [
       "\n",
       "A data.frame: 3 × 15\n",
       "\n",
       "| Table &lt;chr&gt; | Non_unique &lt;int&gt; | Key_name &lt;chr&gt; | Seq_in_index &lt;dbl&gt; | Column_name &lt;chr&gt; | Collation &lt;chr&gt; | Cardinality &lt;dbl&gt; | Sub_part &lt;dbl&gt; | Packed &lt;chr&gt; | Null &lt;chr&gt; | Index_type &lt;chr&gt; | Comment &lt;chr&gt; | Index_comment &lt;chr&gt; | Visible &lt;chr&gt; | Expression &lt;chr&gt; |\n",
       "|---|---|---|---|---|---|---|---|---|---|---|---|---|---|---|\n",
       "| member | 0 | IDX1 | 1 | mem_id     | A | 10 | NA | NA | <!----> | BTREE | <!----> | <!----> | YES | NA |\n",
       "| member | 0 | IDX4 | 1 | mem_name   | A | 10 | NA | NA | <!----> | BTREE | <!----> | <!----> | YES | NA |\n",
       "| member | 1 | IDX2 | 1 | mem_number | A |  7 | NA | NA | <!----> | BTREE | <!----> | <!----> | YES | NA |\n",
       "\n"
      ],
      "text/plain": [
       "  Table  Non_unique Key_name Seq_in_index Column_name Collation Cardinality\n",
       "1 member 0          IDX1     1            mem_id      A         10         \n",
       "2 member 0          IDX4     1            mem_name    A         10         \n",
       "3 member 1          IDX2     1            mem_number  A          7         \n",
       "  Sub_part Packed Null Index_type Comment Index_comment Visible Expression\n",
       "1 NA       NA          BTREE                            YES     NA        \n",
       "2 NA       NA          BTREE                            YES     NA        \n",
       "3 NA       NA          BTREE                            YES     NA        "
      ]
     },
     "metadata": {},
     "output_type": "display_data"
    }
   ],
   "source": [
    "dbGetQuery(conn, \"SHOW INDEX FROM member\")"
   ]
  },
  {
   "cell_type": "markdown",
   "id": "98eeda9d",
   "metadata": {},
   "source": [
    "**생성한 고유 보조 인덱스로 인하여 중복된 값 입력 불가**"
   ]
  },
  {
   "cell_type": "code",
   "execution_count": 63,
   "id": "49329ba5",
   "metadata": {},
   "outputs": [
    {
     "ename": "ERROR",
     "evalue": "Error in .local(conn, statement, ...): could not run statement: You have an error in your SQL syntax; check the manual that corresponds to your MySQL server version for the right syntax to use near 'BALUES('MOO', '??????', 2, '?짹?', '001', '12341234', 155, '2020.10.10')' at line 1\n",
     "output_type": "error",
     "traceback": [
      "Error in .local(conn, statement, ...): could not run statement: You have an error in your SQL syntax; check the manual that corresponds to your MySQL server version for the right syntax to use near 'BALUES('MOO', '??????', 2, '?짹?', '001', '12341234', 155, '2020.10.10')' at line 1\nTraceback:\n",
      "1. dbGetQuery(conn, \"INSERT INTO member BALUES('MOO', '마마무', 2, '태국', '001', '12341234', 155, '2020.10.10');\")",
      "2. dbGetQuery(conn, \"INSERT INTO member BALUES('MOO', '마마무', 2, '태국', '001', '12341234', 155, '2020.10.10');\")",
      "3. .local(conn, statement, ...)",
      "4. dbSendQuery(conn, statement, ...)",
      "5. dbSendQuery(conn, statement, ...)",
      "6. .local(conn, statement, ...)"
     ]
    }
   ],
   "source": [
    "dbGetQuery(conn, \"INSERT INTO member BALUES('MOO', '마마무', 2, '태국', '001', '12341234', 155, '2020.10.10');\")"
   ]
  },
  {
   "cell_type": "markdown",
   "id": "b2a00039",
   "metadata": {},
   "source": [
    "#### 오류의 발생 가능성을 고려하여, 무조건 고유 인덱스를 설정하면 안됨"
   ]
  },
  {
   "cell_type": "markdown",
   "id": "996f426c",
   "metadata": {},
   "source": [
    "## \n",
    "### 인덱스 사용 여부 확인\n",
    "- 실행창의 [Ececution Plan]창에서 Single Row (constant) / Index Range Scan이라면, 인덱스를 사용한 것\n",
    "- **단 where 문에 연산이 들어가면 인덱스 사용X**"
   ]
  },
  {
   "cell_type": "markdown",
   "id": "108fa0b9",
   "metadata": {},
   "source": [
    "#### 인덱스 사용X\n",
    "```SQL\n",
    "SELECT ~ FROM mem_number*2 >= 14\n",
    "\n",
    "```\n",
    "\n",
    "#### 인덱스 사용O\n",
    "```SQL\n",
    "SELECT ~ FROM mem_number >= 14/2\n",
    "```"
   ]
  },
  {
   "cell_type": "markdown",
   "id": "150bf448",
   "metadata": {},
   "source": [
    "## \n",
    "\n",
    "### 인덱스 제거 / 수정"
   ]
  },
  {
   "cell_type": "markdown",
   "id": "cbba37d1",
   "metadata": {},
   "source": [
    "### ```DROP INDEX {인덱스_이름} ON {테이블}``` : 인덱스 제거\n",
    "- 기본키, 고유 키로 자동 생섣된 인덱스는 DROP INDEX로 제거 불가\n",
    "\n",
    "### 기본 키를 제거하려면, 먼저 관련된 외래 키를 확인/제거 해야함"
   ]
  },
  {
   "cell_type": "code",
   "execution_count": 65,
   "id": "52659bb1",
   "metadata": {},
   "outputs": [
    {
     "data": {
      "text/html": [
       "<table class=\"dataframe\">\n",
       "<caption>A data.frame: 0 × 2</caption>\n",
       "<thead>\n",
       "\t<tr><th scope=col>TABLE_NAME</th><th scope=col>CONSTRAINT_NAME</th></tr>\n",
       "\t<tr><th scope=col>&lt;chr&gt;</th><th scope=col>&lt;chr&gt;</th></tr>\n",
       "</thead>\n",
       "<tbody>\n",
       "</tbody>\n",
       "</table>\n"
      ],
      "text/latex": [
       "A data.frame: 0 × 2\n",
       "\\begin{tabular}{ll}\n",
       " TABLE\\_NAME & CONSTRAINT\\_NAME\\\\\n",
       " <chr> & <chr>\\\\\n",
       "\\hline\n",
       "\\end{tabular}\n"
      ],
      "text/markdown": [
       "\n",
       "A data.frame: 0 × 2\n",
       "\n",
       "| TABLE_NAME &lt;chr&gt; | CONSTRAINT_NAME &lt;chr&gt; |\n",
       "|---|---|\n",
       "\n"
      ],
      "text/plain": [
       "     TABLE_NAME CONSTRAINT_NAME"
      ]
     },
     "metadata": {},
     "output_type": "display_data"
    }
   ],
   "source": [
    "dbGetQuery(conn, \"SELECT table_name, constraint_name\n",
    "                  FROM information_schema.referential_constraints\n",
    "                  WHERE constraint_schema = 'market_db';\")"
   ]
  },
  {
   "cell_type": "markdown",
   "id": "48b962d6",
   "metadata": {},
   "source": [
    "- **information_schema 데이터베이스의 refrential_constraints 테이블은 MySQL 안에 원래 포함되어 있는 시스템 데이터베이스와 테이블**\n",
    "- **MySQL 전체의 외래 키 정보 포함되어있음.**"
   ]
  },
  {
   "cell_type": "markdown",
   "id": "648070b2",
   "metadata": {},
   "source": [
    "### CONSTRAINT_NAME의 내용을 확인 후\n",
    "\n",
    "```SQL\n",
    "ALTER TABLE {테이블_명} \n",
    "    DROP FOREIGN KEY‘{CONSTRAINT_NAME 내용}’;\n",
    "```\n",
    "\n",
    "### 기본 키에 설정된 인덱스 제거\n",
    "```SQL\n",
    "ALTER TABLE {테이블_이름} \n",
    "    DROP PRIMARY KEY;\n",
    "```"
   ]
  },
  {
   "cell_type": "markdown",
   "id": "56be4e58",
   "metadata": {},
   "source": [
    "## \n",
    " \n",
    "### 인덱스를 효과적으로 사용하는 방법\n",
    "### 1. 인덱스는 열 단위에 생성\n",
    "- 하나의 열에 2개 이상의 인덱스를 만들 수도 있고, 2개 이상의 열을 묶어서 하나의 인덱스로 만들 수도 있음\n",
    "- 하지만 이런 경우는 드물기에 하나의 열에 하나의 인덱스를 만드는 것이 가장 일반적\n",
    "\n",
    "### 2. WHERE절에서 사용되는 열에 인덱스를 생성\n",
    "- SELECT 문을 사용할 때, WHERE 절의 조건에 해당 열이 나와야 인덱스를 사용\n",
    "\n",
    "```SQL\n",
    "SELECT mem_id, mem_name, mem_number, addr\n",
    "    FROM member\n",
    "    WHERE mem_name = 'A';\n",
    "```\n",
    "- 이 SQL에서 mem_id, mem_number, addr열에는 인덱스를 생성해도 전혀 사용X\n",
    "- WHERE 절에 있는 mem_name 열의 인덱스만 사용 => mem_name외의 열에 인덱스를 만드는 것은 낭비\n",
    "\n",
    "### 3. WHERE 절이 사용되더라도 자주 사용해야 가치 있음\n",
    "- 인덱스는 INSERT의 성능을 방해 할 수 있음\n",
    "\n",
    "### 4. 데이터의 중복이 높은 열은 인덱스를 만들어도 효과 없음\n",
    "\n",
    "### 5. 클러스터형 인덱스는 테이블당 하나만 생성 가능\n",
    "- 클러스터형 인덱스 (기본 키)는 조회할 때 가장 많이 사용되는 열에 지정\n",
    "\n",
    "### 6. 사용하지 않는 인덱스는 제거"
   ]
  }
 ],
 "metadata": {
  "kernelspec": {
   "display_name": "R 4.1.3",
   "language": "R",
   "name": "ir32"
  },
  "language_info": {
   "codemirror_mode": "r",
   "file_extension": ".r",
   "mimetype": "text/x-r-source",
   "name": "R",
   "pygments_lexer": "r",
   "version": "4.1.3"
  }
 },
 "nbformat": 4,
 "nbformat_minor": 5
}
