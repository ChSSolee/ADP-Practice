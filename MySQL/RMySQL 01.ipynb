{
 "cells": [
  {
   "cell_type": "markdown",
   "id": "227b39a2",
   "metadata": {},
   "source": [
    "## RMySQL"
   ]
  },
  {
   "cell_type": "code",
   "execution_count": 2,
   "id": "b7ed19e5",
   "metadata": {},
   "outputs": [],
   "source": [
    "library(tidyverse)\n",
    "library(RMySQL)"
   ]
  },
  {
   "cell_type": "code",
   "execution_count": 4,
   "id": "1069abe0",
   "metadata": {},
   "outputs": [],
   "source": [
    "password = \"sktafa!ker\""
   ]
  },
  {
   "cell_type": "markdown",
   "id": "22c66577",
   "metadata": {},
   "source": [
    "### ```dbConnect``` : host내 DB와 직접 연결\n",
    "- ```MySQL()``` : SQL종류 중 MySQL을 사용할 것이라고 선언\n",
    "- ```user``` : 사용자 명\n",
    "- ```password```\n",
    "- ```host``` : DB가 존재하는 host\n",
    "- ```dbname``` : 연결할 DB\n",
    "- ```client.flag = CLIENT_MULTI_RESULTS``` : 여러개의 쿼리결과들을 누락없이 다루기 위함"
   ]
  },
  {
   "cell_type": "code",
   "execution_count": 59,
   "id": "867d362b",
   "metadata": {},
   "outputs": [],
   "source": [
    "conn <- dbConnect(\n",
    "  MySQL(),\n",
    "  user = 'root', \n",
    "  password = pass, \n",
    "  host = 'localhost',\n",
    "  client.flag = CLIENT_MULTI_RESULTS\n",
    ")"
   ]
  },
  {
   "cell_type": "markdown",
   "id": "a2a06540",
   "metadata": {},
   "source": [
    "### ```dbGetQuery``` : 쿼리문 적용"
   ]
  },
  {
   "cell_type": "code",
   "execution_count": 22,
   "id": "8e005612",
   "metadata": {
    "scrolled": false
   },
   "outputs": [
    {
     "name": "stdout",
     "output_type": "stream",
     "text": [
      "             Database\n",
      "1  information_schema\n",
      "2           market_db\n",
      "3               mysql\n",
      "4            naver_db\n",
      "5          netflix_db\n",
      "6  performance_schema\n",
      "7              sakila\n",
      "8             shop_db\n",
      "9              solodb\n",
      "10                sys\n",
      "11              world\n"
     ]
    }
   ],
   "source": [
    "dbGetQuery(conn, \"SHOW DATABASES\") %>% print"
   ]
  },
  {
   "cell_type": "markdown",
   "id": "a22ed7e8",
   "metadata": {},
   "source": [
    "### ```dbListTables``` : 테이블 목록 조회"
   ]
  },
  {
   "cell_type": "code",
   "execution_count": 12,
   "id": "14d9f23a",
   "metadata": {},
   "outputs": [
    {
     "data": {
      "text/html": [],
      "text/latex": [],
      "text/markdown": [],
      "text/plain": [
       "<0 x 0 matrix>"
      ]
     },
     "metadata": {},
     "output_type": "display_data"
    }
   ],
   "source": [
    "dbGetQuery(conn, \"USE world\")"
   ]
  },
  {
   "cell_type": "code",
   "execution_count": 13,
   "id": "a0e95669",
   "metadata": {},
   "outputs": [
    {
     "data": {
      "text/html": [
       "<style>\n",
       ".list-inline {list-style: none; margin:0; padding: 0}\n",
       ".list-inline>li {display: inline-block}\n",
       ".list-inline>li:not(:last-child)::after {content: \"\\00b7\"; padding: 0 .5ex}\n",
       "</style>\n",
       "<ol class=list-inline><li>'allview'</li><li>'city'</li><li>'city2'</li><li>'country'</li><li>'countrylanguage'</li></ol>\n"
      ],
      "text/latex": [
       "\\begin{enumerate*}\n",
       "\\item 'allview'\n",
       "\\item 'city'\n",
       "\\item 'city2'\n",
       "\\item 'country'\n",
       "\\item 'countrylanguage'\n",
       "\\end{enumerate*}\n"
      ],
      "text/markdown": [
       "1. 'allview'\n",
       "2. 'city'\n",
       "3. 'city2'\n",
       "4. 'country'\n",
       "5. 'countrylanguage'\n",
       "\n",
       "\n"
      ],
      "text/plain": [
       "[1] \"allview\"         \"city\"            \"city2\"           \"country\"        \n",
       "[5] \"countrylanguage\""
      ]
     },
     "metadata": {},
     "output_type": "display_data"
    }
   ],
   "source": [
    "dbListTables(conn)"
   ]
  },
  {
   "cell_type": "markdown",
   "id": "ccbdde73",
   "metadata": {},
   "source": [
    "### ```dbListFields``` : 테이블 칼럼 정보 조회"
   ]
  },
  {
   "cell_type": "code",
   "execution_count": 17,
   "id": "973ba2de",
   "metadata": {},
   "outputs": [
    {
     "data": {
      "text/html": [
       "<style>\n",
       ".list-inline {list-style: none; margin:0; padding: 0}\n",
       ".list-inline>li {display: inline-block}\n",
       ".list-inline>li:not(:last-child)::after {content: \"\\00b7\"; padding: 0 .5ex}\n",
       "</style>\n",
       "<ol class=list-inline><li>'ID'</li><li>'Name'</li><li>'CountryCode'</li><li>'District'</li><li>'Population'</li></ol>\n"
      ],
      "text/latex": [
       "\\begin{enumerate*}\n",
       "\\item 'ID'\n",
       "\\item 'Name'\n",
       "\\item 'CountryCode'\n",
       "\\item 'District'\n",
       "\\item 'Population'\n",
       "\\end{enumerate*}\n"
      ],
      "text/markdown": [
       "1. 'ID'\n",
       "2. 'Name'\n",
       "3. 'CountryCode'\n",
       "4. 'District'\n",
       "5. 'Population'\n",
       "\n",
       "\n"
      ],
      "text/plain": [
       "[1] \"ID\"          \"Name\"        \"CountryCode\" \"District\"    \"Population\" "
      ]
     },
     "metadata": {},
     "output_type": "display_data"
    }
   ],
   "source": [
    "dbListFields(conn, \"city\")"
   ]
  },
  {
   "cell_type": "markdown",
   "id": "d5c66f7d",
   "metadata": {},
   "source": [
    "### ```dbReadTable``` : 테이블을 R데이터프레임으로 가져오기\n"
   ]
  },
  {
   "cell_type": "code",
   "execution_count": 51,
   "id": "d081c8df",
   "metadata": {},
   "outputs": [],
   "source": [
    "city <- dbReadTable(conn, \"city\")"
   ]
  },
  {
   "cell_type": "code",
   "execution_count": 53,
   "id": "e0df87fb",
   "metadata": {},
   "outputs": [
    {
     "data": {
      "text/html": [
       "'data.frame'"
      ],
      "text/latex": [
       "'data.frame'"
      ],
      "text/markdown": [
       "'data.frame'"
      ],
      "text/plain": [
       "[1] \"data.frame\""
      ]
     },
     "metadata": {},
     "output_type": "display_data"
    },
    {
     "name": "stdout",
     "output_type": "stream",
     "text": [
      "Rows: 4,079\n",
      "Columns: 5\n",
      "$ ID          \u001b[3m\u001b[90m<int>\u001b[39m\u001b[23m 1, 2, 3, 4, 5, 6, 7, 8, 9, 10, 11, 12, 13, 14, 15, 16, 17,~\n",
      "$ Name        \u001b[3m\u001b[90m<chr>\u001b[39m\u001b[23m \"Kabul\", \"Qandahar\", \"Herat\", \"Mazar-e-Sharif\", \"Amsterdam~\n",
      "$ CountryCode \u001b[3m\u001b[90m<chr>\u001b[39m\u001b[23m \"AFG\", \"AFG\", \"AFG\", \"AFG\", \"NLD\", \"NLD\", \"NLD\", \"NLD\", \"N~\n",
      "$ District    \u001b[3m\u001b[90m<chr>\u001b[39m\u001b[23m \"Kabol\", \"Qandahar\", \"Herat\", \"Balkh\", \"Noord-Holland\", \"Z~\n",
      "$ Population  \u001b[3m\u001b[90m<int>\u001b[39m\u001b[23m 1780000, 237500, 186800, 127800, 731200, 593321, 440900, 2~\n"
     ]
    }
   ],
   "source": [
    "class(city)\n",
    "glimpse(city)"
   ]
  },
  {
   "cell_type": "markdown",
   "id": "0f82353c",
   "metadata": {},
   "source": [
    "### ```dbWriteTable``` : 테이블에 데이터 입력 \n",
    "### ```dbSendUpdate``` : 테이블 수정 "
   ]
  },
  {
   "cell_type": "markdown",
   "id": "9d9f43f0",
   "metadata": {},
   "source": [
    "### 테이블에 한글 포함시"
   ]
  },
  {
   "cell_type": "code",
   "execution_count": null,
   "id": "89b75e45",
   "metadata": {},
   "outputs": [],
   "source": [
    "dbSendQuery(conn, \"SET NAMES utf8;\") \n",
    "dbSendQuery(conn, \"SET CHARACTER SET utf8;\") \n",
    "dbSendQuery(conn, \"SET character_set_connection=utf8;\")"
   ]
  },
  {
   "cell_type": "markdown",
   "id": "2b18747e",
   "metadata": {},
   "source": [
    "### ```dbDisconnect``` : 연결 종료"
   ]
  },
  {
   "cell_type": "code",
   "execution_count": 60,
   "id": "6db84147",
   "metadata": {},
   "outputs": [
    {
     "data": {
      "text/html": [
       "TRUE"
      ],
      "text/latex": [
       "TRUE"
      ],
      "text/markdown": [
       "TRUE"
      ],
      "text/plain": [
       "[1] TRUE"
      ]
     },
     "metadata": {},
     "output_type": "display_data"
    }
   ],
   "source": [
    "dbDisconnect(conn)"
   ]
  }
 ],
 "metadata": {
  "kernelspec": {
   "display_name": "R 4.1.3",
   "language": "R",
   "name": "ir32"
  },
  "language_info": {
   "codemirror_mode": "r",
   "file_extension": ".r",
   "mimetype": "text/x-r-source",
   "name": "R",
   "pygments_lexer": "r",
   "version": "4.1.3"
  }
 },
 "nbformat": 4,
 "nbformat_minor": 5
}
