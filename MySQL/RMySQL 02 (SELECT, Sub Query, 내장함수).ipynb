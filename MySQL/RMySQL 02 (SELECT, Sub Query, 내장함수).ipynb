{
 "cells": [
  {
   "cell_type": "markdown",
   "id": "421a9f7e",
   "metadata": {},
   "source": [
    "### DML : 데이터 조작언어\n",
    "- 데이터를 조작 (선택, 삽입, 수정, 삭제)\n",
    "- DML 구문이 사용되는 대상은 테이블의 행\n",
    "- DML이 사용되기 위해서는 꼭 이전에 테이블이 정의\n",
    "- SQL문중 SELECT, INSERT, UPDATE, DELETE가 이 구문에 해당\n",
    "- 트랜잭션이 발생하는 SQL도 DML에 속함\n",
    "- 테이블의 데이터를 변경할 때 실제 테이블에 완전히 적용하지 않고, 임시로 적용하는 것\n",
    "- 취소가능\n",
    "\n",
    "### DDL : 데이터 정의 언어\n",
    "- 데이터베이스, 테이블 뷰, 인덱스 등의 데이터 베이스 개체를 생성/삭제/변경\n",
    "- CREATE, DROP, ALTER구문\n",
    "- DDL은 트랜잭션 발생 없음\n",
    "- ROLLBACK이나 COMMIT 사용 불가\n",
    "- DDL문은 실행 즉시 MySQL에 적용\n",
    "\n",
    "### DCL : 데이터 제어 언어\n",
    "- 사용자에게 어떤 권한을 부여하거나 빼앗을 때 주로 사용\n"
   ]
  },
  {
   "cell_type": "code",
   "execution_count": 2,
   "id": "2d44bd0a",
   "metadata": {},
   "outputs": [],
   "source": [
    "library(tidyverse)\n",
    "library(RMySQL)"
   ]
  },
  {
   "cell_type": "code",
   "execution_count": 9,
   "id": "882c6613",
   "metadata": {},
   "outputs": [],
   "source": [
    "conn <- dbConnect(\n",
    "  MySQL(),\n",
    "  user = 'root', \n",
    "  password = pass, \n",
    "  host = 'localhost',\n",
    "  client.flag = CLIENT_MULTI_RESULTS\n",
    ")"
   ]
  },
  {
   "cell_type": "markdown",
   "id": "0e58b624",
   "metadata": {},
   "source": [
    "### ```SHOW DATABASES``` : 현재 서버의 DB확인\n",
    "### ```USE {DB}``` : 사용할 DB 지정\n",
    "- 지정해 놓은 후 특별히 다시 USE문 사용하거나 다른 DB를 사용한다는 명시가 없는 이상 모든 SQL문은 지정 DB에서 수행"
   ]
  },
  {
   "cell_type": "code",
   "execution_count": 12,
   "id": "a3893d36",
   "metadata": {},
   "outputs": [
    {
     "name": "stdout",
     "output_type": "stream",
     "text": [
      "             Database\n",
      "1  information_schema\n",
      "2           market_db\n",
      "3               mysql\n",
      "4            naver_db\n",
      "5          netflix_db\n",
      "6  performance_schema\n",
      "7              sakila\n",
      "8             shop_db\n",
      "9              solodb\n",
      "10                sys\n",
      "11              world\n"
     ]
    },
    {
     "data": {
      "text/html": [],
      "text/latex": [],
      "text/markdown": [],
      "text/plain": [
       "<0 x 0 matrix>"
      ]
     },
     "metadata": {},
     "output_type": "display_data"
    }
   ],
   "source": [
    "dbGetQuery(conn, \"SHOW DATABASES\") %>% print\n",
    "dbGetQuery(conn, \"USE world\")"
   ]
  },
  {
   "cell_type": "markdown",
   "id": "841035f9",
   "metadata": {},
   "source": [
    "### ```SHOW TABLES``` : DB의 테이블 이름 보기\n",
    "### ```SHOW TABLE STATUS``` : DB의 테이블 정보 조회\n",
    "### ```DESCRIBE {테이블}``` : 테이블에 구조 확인 (DESC)"
   ]
  },
  {
   "cell_type": "code",
   "execution_count": 21,
   "id": "49423124",
   "metadata": {},
   "outputs": [
    {
     "data": {
      "text/html": [
       "<table class=\"dataframe\">\n",
       "<caption>A data.frame: 3 × 1</caption>\n",
       "<thead>\n",
       "\t<tr><th scope=col>Tables_in_world</th></tr>\n",
       "\t<tr><th scope=col>&lt;chr&gt;</th></tr>\n",
       "</thead>\n",
       "<tbody>\n",
       "\t<tr><td>city           </td></tr>\n",
       "\t<tr><td>country        </td></tr>\n",
       "\t<tr><td>countrylanguage</td></tr>\n",
       "</tbody>\n",
       "</table>\n"
      ],
      "text/latex": [
       "A data.frame: 3 × 1\n",
       "\\begin{tabular}{l}\n",
       " Tables\\_in\\_world\\\\\n",
       " <chr>\\\\\n",
       "\\hline\n",
       "\t city           \\\\\n",
       "\t country        \\\\\n",
       "\t countrylanguage\\\\\n",
       "\\end{tabular}\n"
      ],
      "text/markdown": [
       "\n",
       "A data.frame: 3 × 1\n",
       "\n",
       "| Tables_in_world &lt;chr&gt; |\n",
       "|---|\n",
       "| city            |\n",
       "| country         |\n",
       "| countrylanguage |\n",
       "\n"
      ],
      "text/plain": [
       "  Tables_in_world\n",
       "1 city           \n",
       "2 country        \n",
       "3 countrylanguage"
      ]
     },
     "metadata": {},
     "output_type": "display_data"
    },
    {
     "name": "stderr",
     "output_type": "stream",
     "text": [
      "Warning message in .local(conn, statement, ...):\n",
      "\"unrecognized MySQL field type 7 in column 11 imported as character\"\n"
     ]
    },
    {
     "data": {
      "text/html": [
       "<table class=\"dataframe\">\n",
       "<caption>A data.frame: 3 × 18</caption>\n",
       "<thead>\n",
       "\t<tr><th scope=col>Name</th><th scope=col>Engine</th><th scope=col>Version</th><th scope=col>Row_format</th><th scope=col>Rows</th><th scope=col>Avg_row_length</th><th scope=col>Data_length</th><th scope=col>Max_data_length</th><th scope=col>Index_length</th><th scope=col>Data_free</th><th scope=col>Auto_increment</th><th scope=col>Create_time</th><th scope=col>Update_time</th><th scope=col>Check_time</th><th scope=col>Collation</th><th scope=col>Checksum</th><th scope=col>Create_options</th><th scope=col>Comment</th></tr>\n",
       "\t<tr><th scope=col>&lt;chr&gt;</th><th scope=col>&lt;chr&gt;</th><th scope=col>&lt;int&gt;</th><th scope=col>&lt;chr&gt;</th><th scope=col>&lt;dbl&gt;</th><th scope=col>&lt;dbl&gt;</th><th scope=col>&lt;dbl&gt;</th><th scope=col>&lt;dbl&gt;</th><th scope=col>&lt;dbl&gt;</th><th scope=col>&lt;dbl&gt;</th><th scope=col>&lt;dbl&gt;</th><th scope=col>&lt;chr&gt;</th><th scope=col>&lt;chr&gt;</th><th scope=col>&lt;chr&gt;</th><th scope=col>&lt;chr&gt;</th><th scope=col>&lt;dbl&gt;</th><th scope=col>&lt;chr&gt;</th><th scope=col>&lt;chr&gt;</th></tr>\n",
       "</thead>\n",
       "<tbody>\n",
       "\t<tr><td>city           </td><td>InnoDB</td><td>10</td><td>Dynamic</td><td>4188</td><td> 97</td><td>409600</td><td>0</td><td>131072</td><td>0</td><td>4079</td><td>2022-01-17 20:46:41</td><td>NA</td><td>NA</td><td>latin1_swedish_ci</td><td>NA</td><td></td><td></td></tr>\n",
       "\t<tr><td>country        </td><td>InnoDB</td><td>10</td><td>Dynamic</td><td> 239</td><td>411</td><td> 98304</td><td>0</td><td>     0</td><td>0</td><td>  NA</td><td>2022-01-17 20:46:44</td><td>NA</td><td>NA</td><td>latin1_swedish_ci</td><td>NA</td><td></td><td></td></tr>\n",
       "\t<tr><td>countrylanguage</td><td>InnoDB</td><td>10</td><td>Dynamic</td><td> 984</td><td> 99</td><td> 98304</td><td>0</td><td> 65536</td><td>0</td><td>  NA</td><td>2022-01-17 20:46:44</td><td>NA</td><td>NA</td><td>latin1_swedish_ci</td><td>NA</td><td></td><td></td></tr>\n",
       "</tbody>\n",
       "</table>\n"
      ],
      "text/latex": [
       "A data.frame: 3 × 18\n",
       "\\begin{tabular}{llllllllllllllllll}\n",
       " Name & Engine & Version & Row\\_format & Rows & Avg\\_row\\_length & Data\\_length & Max\\_data\\_length & Index\\_length & Data\\_free & Auto\\_increment & Create\\_time & Update\\_time & Check\\_time & Collation & Checksum & Create\\_options & Comment\\\\\n",
       " <chr> & <chr> & <int> & <chr> & <dbl> & <dbl> & <dbl> & <dbl> & <dbl> & <dbl> & <dbl> & <chr> & <chr> & <chr> & <chr> & <dbl> & <chr> & <chr>\\\\\n",
       "\\hline\n",
       "\t city            & InnoDB & 10 & Dynamic & 4188 &  97 & 409600 & 0 & 131072 & 0 & 4079 & 2022-01-17 20:46:41 & NA & NA & latin1\\_swedish\\_ci & NA &  & \\\\\n",
       "\t country         & InnoDB & 10 & Dynamic &  239 & 411 &  98304 & 0 &      0 & 0 &   NA & 2022-01-17 20:46:44 & NA & NA & latin1\\_swedish\\_ci & NA &  & \\\\\n",
       "\t countrylanguage & InnoDB & 10 & Dynamic &  984 &  99 &  98304 & 0 &  65536 & 0 &   NA & 2022-01-17 20:46:44 & NA & NA & latin1\\_swedish\\_ci & NA &  & \\\\\n",
       "\\end{tabular}\n"
      ],
      "text/markdown": [
       "\n",
       "A data.frame: 3 × 18\n",
       "\n",
       "| Name &lt;chr&gt; | Engine &lt;chr&gt; | Version &lt;int&gt; | Row_format &lt;chr&gt; | Rows &lt;dbl&gt; | Avg_row_length &lt;dbl&gt; | Data_length &lt;dbl&gt; | Max_data_length &lt;dbl&gt; | Index_length &lt;dbl&gt; | Data_free &lt;dbl&gt; | Auto_increment &lt;dbl&gt; | Create_time &lt;chr&gt; | Update_time &lt;chr&gt; | Check_time &lt;chr&gt; | Collation &lt;chr&gt; | Checksum &lt;dbl&gt; | Create_options &lt;chr&gt; | Comment &lt;chr&gt; |\n",
       "|---|---|---|---|---|---|---|---|---|---|---|---|---|---|---|---|---|---|\n",
       "| city            | InnoDB | 10 | Dynamic | 4188 |  97 | 409600 | 0 | 131072 | 0 | 4079 | 2022-01-17 20:46:41 | NA | NA | latin1_swedish_ci | NA | <!----> | <!----> |\n",
       "| country         | InnoDB | 10 | Dynamic |  239 | 411 |  98304 | 0 |      0 | 0 |   NA | 2022-01-17 20:46:44 | NA | NA | latin1_swedish_ci | NA | <!----> | <!----> |\n",
       "| countrylanguage | InnoDB | 10 | Dynamic |  984 |  99 |  98304 | 0 |  65536 | 0 |   NA | 2022-01-17 20:46:44 | NA | NA | latin1_swedish_ci | NA | <!----> | <!----> |\n",
       "\n"
      ],
      "text/plain": [
       "  Name            Engine Version Row_format Rows Avg_row_length Data_length\n",
       "1 city            InnoDB 10      Dynamic    4188  97            409600     \n",
       "2 country         InnoDB 10      Dynamic     239 411             98304     \n",
       "3 countrylanguage InnoDB 10      Dynamic     984  99             98304     \n",
       "  Max_data_length Index_length Data_free Auto_increment Create_time        \n",
       "1 0               131072       0         4079           2022-01-17 20:46:41\n",
       "2 0                    0       0           NA           2022-01-17 20:46:44\n",
       "3 0                65536       0           NA           2022-01-17 20:46:44\n",
       "  Update_time Check_time Collation         Checksum Create_options Comment\n",
       "1 NA          NA         latin1_swedish_ci NA                             \n",
       "2 NA          NA         latin1_swedish_ci NA                             \n",
       "3 NA          NA         latin1_swedish_ci NA                             "
      ]
     },
     "metadata": {},
     "output_type": "display_data"
    },
    {
     "data": {
      "text/html": [
       "<table class=\"dataframe\">\n",
       "<caption>A data.frame: 5 × 6</caption>\n",
       "<thead>\n",
       "\t<tr><th scope=col>Field</th><th scope=col>Type</th><th scope=col>Null</th><th scope=col>Key</th><th scope=col>Default</th><th scope=col>Extra</th></tr>\n",
       "\t<tr><th scope=col>&lt;chr&gt;</th><th scope=col>&lt;chr&gt;</th><th scope=col>&lt;chr&gt;</th><th scope=col>&lt;chr&gt;</th><th scope=col>&lt;chr&gt;</th><th scope=col>&lt;chr&gt;</th></tr>\n",
       "</thead>\n",
       "<tbody>\n",
       "\t<tr><td>ID         </td><td>int     </td><td>NO</td><td>PRI</td><td>NA</td><td>auto_increment</td></tr>\n",
       "\t<tr><td>Name       </td><td>char(35)</td><td>NO</td><td>   </td><td>  </td><td>              </td></tr>\n",
       "\t<tr><td>CountryCode</td><td>char(3) </td><td>NO</td><td>MUL</td><td>  </td><td>              </td></tr>\n",
       "\t<tr><td>District   </td><td>char(20)</td><td>NO</td><td>   </td><td>  </td><td>              </td></tr>\n",
       "\t<tr><td>Population </td><td>int     </td><td>NO</td><td>   </td><td>0 </td><td>              </td></tr>\n",
       "</tbody>\n",
       "</table>\n"
      ],
      "text/latex": [
       "A data.frame: 5 × 6\n",
       "\\begin{tabular}{llllll}\n",
       " Field & Type & Null & Key & Default & Extra\\\\\n",
       " <chr> & <chr> & <chr> & <chr> & <chr> & <chr>\\\\\n",
       "\\hline\n",
       "\t ID          & int      & NO & PRI & NA & auto\\_increment\\\\\n",
       "\t Name        & char(35) & NO &     &    &               \\\\\n",
       "\t CountryCode & char(3)  & NO & MUL &    &               \\\\\n",
       "\t District    & char(20) & NO &     &    &               \\\\\n",
       "\t Population  & int      & NO &     & 0  &               \\\\\n",
       "\\end{tabular}\n"
      ],
      "text/markdown": [
       "\n",
       "A data.frame: 5 × 6\n",
       "\n",
       "| Field &lt;chr&gt; | Type &lt;chr&gt; | Null &lt;chr&gt; | Key &lt;chr&gt; | Default &lt;chr&gt; | Extra &lt;chr&gt; |\n",
       "|---|---|---|---|---|---|\n",
       "| ID          | int      | NO | PRI | NA | auto_increment |\n",
       "| Name        | char(35) | NO | <!----> | <!----> | <!----> |\n",
       "| CountryCode | char(3)  | NO | MUL | <!----> | <!----> |\n",
       "| District    | char(20) | NO | <!----> | <!----> | <!----> |\n",
       "| Population  | int      | NO | <!----> | 0  | <!----> |\n",
       "\n"
      ],
      "text/plain": [
       "  Field       Type     Null Key Default Extra         \n",
       "1 ID          int      NO   PRI NA      auto_increment\n",
       "2 Name        char(35) NO                             \n",
       "3 CountryCode char(3)  NO   MUL                       \n",
       "4 District    char(20) NO                             \n",
       "5 Population  int      NO       0                     "
      ]
     },
     "metadata": {},
     "output_type": "display_data"
    }
   ],
   "source": [
    "dbGetQuery(conn, \"SHOW TABLES\") \n",
    "dbGetQuery(conn, \"SHOW TABLE STATUS\") \n",
    "dbGetQuery(conn, \"DESCRIBE city\") "
   ]
  },
  {
   "cell_type": "markdown",
   "id": "28cc6756",
   "metadata": {},
   "source": [
    "## SELECT \n",
    "### ```SELECT ~ FROM```"
   ]
  },
  {
   "cell_type": "code",
   "execution_count": 25,
   "id": "42b91d90",
   "metadata": {},
   "outputs": [
    {
     "data": {
      "text/html": [
       "<table class=\"dataframe\">\n",
       "<caption>A data.frame: 1 × 5</caption>\n",
       "<thead>\n",
       "\t<tr><th></th><th scope=col>ID</th><th scope=col>Name</th><th scope=col>CountryCode</th><th scope=col>District</th><th scope=col>Population</th></tr>\n",
       "\t<tr><th></th><th scope=col>&lt;int&gt;</th><th scope=col>&lt;chr&gt;</th><th scope=col>&lt;chr&gt;</th><th scope=col>&lt;chr&gt;</th><th scope=col>&lt;int&gt;</th></tr>\n",
       "</thead>\n",
       "<tbody>\n",
       "\t<tr><th scope=row>1</th><td>1</td><td>Kabul</td><td>AFG</td><td>Kabol</td><td>1780000</td></tr>\n",
       "</tbody>\n",
       "</table>\n"
      ],
      "text/latex": [
       "A data.frame: 1 × 5\n",
       "\\begin{tabular}{r|lllll}\n",
       "  & ID & Name & CountryCode & District & Population\\\\\n",
       "  & <int> & <chr> & <chr> & <chr> & <int>\\\\\n",
       "\\hline\n",
       "\t1 & 1 & Kabul & AFG & Kabol & 1780000\\\\\n",
       "\\end{tabular}\n"
      ],
      "text/markdown": [
       "\n",
       "A data.frame: 1 × 5\n",
       "\n",
       "| <!--/--> | ID &lt;int&gt; | Name &lt;chr&gt; | CountryCode &lt;chr&gt; | District &lt;chr&gt; | Population &lt;int&gt; |\n",
       "|---|---|---|---|---|---|\n",
       "| 1 | 1 | Kabul | AFG | Kabol | 1780000 |\n",
       "\n"
      ],
      "text/plain": [
       "  ID Name  CountryCode District Population\n",
       "1 1  Kabul AFG         Kabol    1780000   "
      ]
     },
     "metadata": {},
     "output_type": "display_data"
    },
    {
     "data": {
      "text/html": [
       "<table class=\"dataframe\">\n",
       "<caption>A data.frame: 1 × 1</caption>\n",
       "<thead>\n",
       "\t<tr><th></th><th scope=col>Name</th></tr>\n",
       "\t<tr><th></th><th scope=col>&lt;chr&gt;</th></tr>\n",
       "</thead>\n",
       "<tbody>\n",
       "\t<tr><th scope=row>1</th><td>Kabul</td></tr>\n",
       "</tbody>\n",
       "</table>\n"
      ],
      "text/latex": [
       "A data.frame: 1 × 1\n",
       "\\begin{tabular}{r|l}\n",
       "  & Name\\\\\n",
       "  & <chr>\\\\\n",
       "\\hline\n",
       "\t1 & Kabul\\\\\n",
       "\\end{tabular}\n"
      ],
      "text/markdown": [
       "\n",
       "A data.frame: 1 × 1\n",
       "\n",
       "| <!--/--> | Name &lt;chr&gt; |\n",
       "|---|---|\n",
       "| 1 | Kabul |\n",
       "\n"
      ],
      "text/plain": [
       "  Name \n",
       "1 Kabul"
      ]
     },
     "metadata": {},
     "output_type": "display_data"
    },
    {
     "data": {
      "text/html": [
       "<table class=\"dataframe\">\n",
       "<caption>A data.frame: 1 × 2</caption>\n",
       "<thead>\n",
       "\t<tr><th></th><th scope=col>Name</th><th scope=col>Population</th></tr>\n",
       "\t<tr><th></th><th scope=col>&lt;chr&gt;</th><th scope=col>&lt;int&gt;</th></tr>\n",
       "</thead>\n",
       "<tbody>\n",
       "\t<tr><th scope=row>1</th><td>Kabul</td><td>1780000</td></tr>\n",
       "</tbody>\n",
       "</table>\n"
      ],
      "text/latex": [
       "A data.frame: 1 × 2\n",
       "\\begin{tabular}{r|ll}\n",
       "  & Name & Population\\\\\n",
       "  & <chr> & <int>\\\\\n",
       "\\hline\n",
       "\t1 & Kabul & 1780000\\\\\n",
       "\\end{tabular}\n"
      ],
      "text/markdown": [
       "\n",
       "A data.frame: 1 × 2\n",
       "\n",
       "| <!--/--> | Name &lt;chr&gt; | Population &lt;int&gt; |\n",
       "|---|---|---|\n",
       "| 1 | Kabul | 1780000 |\n",
       "\n"
      ],
      "text/plain": [
       "  Name  Population\n",
       "1 Kabul 1780000   "
      ]
     },
     "metadata": {},
     "output_type": "display_data"
    }
   ],
   "source": [
    "dbGetQuery(conn, \"SELECT * FROM city\") # city 테이블 전체 확인\n",
    "dbGetQuery(conn, \"SELECT Name FROM city\") # city 테이블 Name열만 확인\n",
    "dbGetQuery(conn, \"SELECT Name, Population FROM city\") # 여러개의 열 확인"
   ]
  },
  {
   "cell_type": "markdown",
   "id": "717066f3",
   "metadata": {},
   "source": [
    "### ```WHERE``` 조건절\n",
    "- 조회하는 결과에 특정한 조건으로 원하는 데이터만 확인 "
   ]
  },
  {
   "cell_type": "code",
   "execution_count": 28,
   "id": "94e4c623",
   "metadata": {},
   "outputs": [
    {
     "data": {
      "text/html": [
       "<table class=\"dataframe\">\n",
       "<caption>A data.frame: 3 × 5</caption>\n",
       "<thead>\n",
       "\t<tr><th></th><th scope=col>ID</th><th scope=col>Name</th><th scope=col>CountryCode</th><th scope=col>District</th><th scope=col>Population</th></tr>\n",
       "\t<tr><th></th><th scope=col>&lt;int&gt;</th><th scope=col>&lt;chr&gt;</th><th scope=col>&lt;chr&gt;</th><th scope=col>&lt;chr&gt;</th><th scope=col>&lt;int&gt;</th></tr>\n",
       "</thead>\n",
       "<tbody>\n",
       "\t<tr><th scope=row>1</th><td> 1</td><td>Kabul </td><td>AFG</td><td>Kabol </td><td>1780000</td></tr>\n",
       "\t<tr><th scope=row>2</th><td>35</td><td>Alger </td><td>DZA</td><td>Alger </td><td>2168000</td></tr>\n",
       "\t<tr><th scope=row>3</th><td>56</td><td>Luanda</td><td>AGO</td><td>Luanda</td><td>2022000</td></tr>\n",
       "</tbody>\n",
       "</table>\n"
      ],
      "text/latex": [
       "A data.frame: 3 × 5\n",
       "\\begin{tabular}{r|lllll}\n",
       "  & ID & Name & CountryCode & District & Population\\\\\n",
       "  & <int> & <chr> & <chr> & <chr> & <int>\\\\\n",
       "\\hline\n",
       "\t1 &  1 & Kabul  & AFG & Kabol  & 1780000\\\\\n",
       "\t2 & 35 & Alger  & DZA & Alger  & 2168000\\\\\n",
       "\t3 & 56 & Luanda & AGO & Luanda & 2022000\\\\\n",
       "\\end{tabular}\n"
      ],
      "text/markdown": [
       "\n",
       "A data.frame: 3 × 5\n",
       "\n",
       "| <!--/--> | ID &lt;int&gt; | Name &lt;chr&gt; | CountryCode &lt;chr&gt; | District &lt;chr&gt; | Population &lt;int&gt; |\n",
       "|---|---|---|---|---|---|\n",
       "| 1 |  1 | Kabul  | AFG | Kabol  | 1780000 |\n",
       "| 2 | 35 | Alger  | DZA | Alger  | 2168000 |\n",
       "| 3 | 56 | Luanda | AGO | Luanda | 2022000 |\n",
       "\n"
      ],
      "text/plain": [
       "  ID Name   CountryCode District Population\n",
       "1  1 Kabul  AFG         Kabol    1780000   \n",
       "2 35 Alger  DZA         Alger    2168000   \n",
       "3 56 Luanda AGO         Luanda   2022000   "
      ]
     },
     "metadata": {},
     "output_type": "display_data"
    }
   ],
   "source": [
    "dbGetQuery(conn,\n",
    "          \"SELECT * FROM city\n",
    "           WHERE Population >= 800000\") %>% head(3)"
   ]
  },
  {
   "cell_type": "markdown",
   "id": "6447dc2c",
   "metadata": {},
   "source": [
    "### ```AND```, ```OR``` : 관계 연산자, 논리 연산자\n",
    "- 관계 연산자 (OR, AND, =, <, >, <=, >=, <>, !=)"
   ]
  },
  {
   "cell_type": "code",
   "execution_count": 31,
   "id": "76047bff",
   "metadata": {},
   "outputs": [
    {
     "data": {
      "text/html": [
       "<table class=\"dataframe\">\n",
       "<caption>A data.frame: 3 × 5</caption>\n",
       "<thead>\n",
       "\t<tr><th></th><th scope=col>ID</th><th scope=col>Name</th><th scope=col>CountryCode</th><th scope=col>District</th><th scope=col>Population</th></tr>\n",
       "\t<tr><th></th><th scope=col>&lt;int&gt;</th><th scope=col>&lt;chr&gt;</th><th scope=col>&lt;chr&gt;</th><th scope=col>&lt;chr&gt;</th><th scope=col>&lt;int&gt;</th></tr>\n",
       "</thead>\n",
       "<tbody>\n",
       "\t<tr><th scope=row>1</th><td>2331</td><td>Seoul </td><td>KOR</td><td>Seoul </td><td>9981619</td></tr>\n",
       "\t<tr><th scope=row>2</th><td>2332</td><td>Pusan </td><td>KOR</td><td>Pusan </td><td>3804522</td></tr>\n",
       "\t<tr><th scope=row>3</th><td>2333</td><td>Inchon</td><td>KOR</td><td>Inchon</td><td>2559424</td></tr>\n",
       "</tbody>\n",
       "</table>\n"
      ],
      "text/latex": [
       "A data.frame: 3 × 5\n",
       "\\begin{tabular}{r|lllll}\n",
       "  & ID & Name & CountryCode & District & Population\\\\\n",
       "  & <int> & <chr> & <chr> & <chr> & <int>\\\\\n",
       "\\hline\n",
       "\t1 & 2331 & Seoul  & KOR & Seoul  & 9981619\\\\\n",
       "\t2 & 2332 & Pusan  & KOR & Pusan  & 3804522\\\\\n",
       "\t3 & 2333 & Inchon & KOR & Inchon & 2559424\\\\\n",
       "\\end{tabular}\n"
      ],
      "text/markdown": [
       "\n",
       "A data.frame: 3 × 5\n",
       "\n",
       "| <!--/--> | ID &lt;int&gt; | Name &lt;chr&gt; | CountryCode &lt;chr&gt; | District &lt;chr&gt; | Population &lt;int&gt; |\n",
       "|---|---|---|---|---|---|\n",
       "| 1 | 2331 | Seoul  | KOR | Seoul  | 9981619 |\n",
       "| 2 | 2332 | Pusan  | KOR | Pusan  | 3804522 |\n",
       "| 3 | 2333 | Inchon | KOR | Inchon | 2559424 |\n",
       "\n"
      ],
      "text/plain": [
       "  ID   Name   CountryCode District Population\n",
       "1 2331 Seoul  KOR         Seoul    9981619   \n",
       "2 2332 Pusan  KOR         Pusan    3804522   \n",
       "3 2333 Inchon KOR         Inchon   2559424   "
      ]
     },
     "metadata": {},
     "output_type": "display_data"
    },
    {
     "data": {
      "text/html": [
       "<table class=\"dataframe\">\n",
       "<caption>A data.frame: 3 × 5</caption>\n",
       "<thead>\n",
       "\t<tr><th></th><th scope=col>ID</th><th scope=col>Name</th><th scope=col>CountryCode</th><th scope=col>District</th><th scope=col>Population</th></tr>\n",
       "\t<tr><th></th><th scope=col>&lt;int&gt;</th><th scope=col>&lt;chr&gt;</th><th scope=col>&lt;chr&gt;</th><th scope=col>&lt;chr&gt;</th><th scope=col>&lt;int&gt;</th></tr>\n",
       "</thead>\n",
       "<tbody>\n",
       "\t<tr><th scope=row>1</th><td>3793</td><td>New York   </td><td>USA</td><td>New York  </td><td>8008278</td></tr>\n",
       "\t<tr><th scope=row>2</th><td>3794</td><td>Los Angeles</td><td>USA</td><td>California</td><td>3694820</td></tr>\n",
       "\t<tr><th scope=row>3</th><td>3795</td><td>Chicago    </td><td>USA</td><td>Illinois  </td><td>2896016</td></tr>\n",
       "</tbody>\n",
       "</table>\n"
      ],
      "text/latex": [
       "A data.frame: 3 × 5\n",
       "\\begin{tabular}{r|lllll}\n",
       "  & ID & Name & CountryCode & District & Population\\\\\n",
       "  & <int> & <chr> & <chr> & <chr> & <int>\\\\\n",
       "\\hline\n",
       "\t1 & 3793 & New York    & USA & New York   & 8008278\\\\\n",
       "\t2 & 3794 & Los Angeles & USA & California & 3694820\\\\\n",
       "\t3 & 3795 & Chicago     & USA & Illinois   & 2896016\\\\\n",
       "\\end{tabular}\n"
      ],
      "text/markdown": [
       "\n",
       "A data.frame: 3 × 5\n",
       "\n",
       "| <!--/--> | ID &lt;int&gt; | Name &lt;chr&gt; | CountryCode &lt;chr&gt; | District &lt;chr&gt; | Population &lt;int&gt; |\n",
       "|---|---|---|---|---|---|\n",
       "| 1 | 3793 | New York    | USA | New York   | 8008278 |\n",
       "| 2 | 3794 | Los Angeles | USA | California | 3694820 |\n",
       "| 3 | 3795 | Chicago     | USA | Illinois   | 2896016 |\n",
       "\n"
      ],
      "text/plain": [
       "  ID   Name        CountryCode District   Population\n",
       "1 3793 New York    USA         New York   8008278   \n",
       "2 3794 Los Angeles USA         California 3694820   \n",
       "3 3795 Chicago     USA         Illinois   2896016   "
      ]
     },
     "metadata": {},
     "output_type": "display_data"
    }
   ],
   "source": [
    "dbGetQuery(conn, \"SELECT * FROM city WHERE CountryCode = 'KOR';\") \n",
    "# 한국 도시들 보기\n",
    "\n",
    "dbGetQuery(conn, \n",
    "           \"SELECT * FROM city \n",
    "            WHERE COuntryCode = 'USA'\n",
    "            AND Population >= 1000000;\")\n",
    "# 인구 100만 이상의 미국 도시들 보기"
   ]
  },
  {
   "cell_type": "markdown",
   "id": "81c275fe",
   "metadata": {},
   "source": [
    "### ```BETWEEN ~ AND``` : 수치형 데이터 구간"
   ]
  },
  {
   "cell_type": "code",
   "execution_count": 33,
   "id": "2827aaba",
   "metadata": {},
   "outputs": [
    {
     "data": {
      "text/html": [
       "<table class=\"dataframe\">\n",
       "<caption>A data.frame: 4 × 5</caption>\n",
       "<thead>\n",
       "\t<tr><th scope=col>ID</th><th scope=col>Name</th><th scope=col>CountryCode</th><th scope=col>District</th><th scope=col>Population</th></tr>\n",
       "\t<tr><th scope=col>&lt;int&gt;</th><th scope=col>&lt;chr&gt;</th><th scope=col>&lt;chr&gt;</th><th scope=col>&lt;chr&gt;</th><th scope=col>&lt;int&gt;</th></tr>\n",
       "</thead>\n",
       "<tbody>\n",
       "\t<tr><td> 456</td><td>London</td><td>GBR</td><td>England </td><td>7285000</td></tr>\n",
       "\t<tr><td>1025</td><td>Delhi </td><td>IND</td><td>Delhi   </td><td>7206704</td></tr>\n",
       "\t<tr><td>1532</td><td>Tokyo </td><td>JPN</td><td>Tokyo-to</td><td>7980230</td></tr>\n",
       "\t<tr><td>1891</td><td>Peking</td><td>CHN</td><td>Peking  </td><td>7472000</td></tr>\n",
       "</tbody>\n",
       "</table>\n"
      ],
      "text/latex": [
       "A data.frame: 4 × 5\n",
       "\\begin{tabular}{lllll}\n",
       " ID & Name & CountryCode & District & Population\\\\\n",
       " <int> & <chr> & <chr> & <chr> & <int>\\\\\n",
       "\\hline\n",
       "\t  456 & London & GBR & England  & 7285000\\\\\n",
       "\t 1025 & Delhi  & IND & Delhi    & 7206704\\\\\n",
       "\t 1532 & Tokyo  & JPN & Tokyo-to & 7980230\\\\\n",
       "\t 1891 & Peking & CHN & Peking   & 7472000\\\\\n",
       "\\end{tabular}\n"
      ],
      "text/markdown": [
       "\n",
       "A data.frame: 4 × 5\n",
       "\n",
       "| ID &lt;int&gt; | Name &lt;chr&gt; | CountryCode &lt;chr&gt; | District &lt;chr&gt; | Population &lt;int&gt; |\n",
       "|---|---|---|---|---|\n",
       "|  456 | London | GBR | England  | 7285000 |\n",
       "| 1025 | Delhi  | IND | Delhi    | 7206704 |\n",
       "| 1532 | Tokyo  | JPN | Tokyo-to | 7980230 |\n",
       "| 1891 | Peking | CHN | Peking   | 7472000 |\n",
       "\n"
      ],
      "text/plain": [
       "  ID   Name   CountryCode District Population\n",
       "1  456 London GBR         England  7285000   \n",
       "2 1025 Delhi  IND         Delhi    7206704   \n",
       "3 1532 Tokyo  JPN         Tokyo-to 7980230   \n",
       "4 1891 Peking CHN         Peking   7472000   "
      ]
     },
     "metadata": {},
     "output_type": "display_data"
    }
   ],
   "source": [
    "dbGetQuery(conn, \"SELECT * FROM city\n",
    "                  WHERE Population BETWEEN 7000000 AND 8000000;\") "
   ]
  },
  {
   "cell_type": "markdown",
   "id": "5e101a23",
   "metadata": {},
   "source": [
    "### ```IN``` : 이산형 데이터 조건 표시"
   ]
  },
  {
   "cell_type": "code",
   "execution_count": 41,
   "id": "9839375c",
   "metadata": {},
   "outputs": [
    {
     "data": {
      "text/html": [
       "<table class=\"dataframe\">\n",
       "<caption>A data.frame: 3 × 5</caption>\n",
       "<thead>\n",
       "\t<tr><th></th><th scope=col>ID</th><th scope=col>Name</th><th scope=col>CountryCode</th><th scope=col>District</th><th scope=col>Population</th></tr>\n",
       "\t<tr><th></th><th scope=col>&lt;int&gt;</th><th scope=col>&lt;chr&gt;</th><th scope=col>&lt;chr&gt;</th><th scope=col>&lt;chr&gt;</th><th scope=col>&lt;int&gt;</th></tr>\n",
       "</thead>\n",
       "<tbody>\n",
       "\t<tr><th scope=row>1</th><td>2331</td><td>Seoul </td><td>KOR</td><td>Seoul </td><td>9981619</td></tr>\n",
       "\t<tr><th scope=row>2</th><td>2332</td><td>Pusan </td><td>KOR</td><td>Pusan </td><td>3804522</td></tr>\n",
       "\t<tr><th scope=row>3</th><td>2333</td><td>Inchon</td><td>KOR</td><td>Inchon</td><td>2559424</td></tr>\n",
       "</tbody>\n",
       "</table>\n"
      ],
      "text/latex": [
       "A data.frame: 3 × 5\n",
       "\\begin{tabular}{r|lllll}\n",
       "  & ID & Name & CountryCode & District & Population\\\\\n",
       "  & <int> & <chr> & <chr> & <chr> & <int>\\\\\n",
       "\\hline\n",
       "\t1 & 2331 & Seoul  & KOR & Seoul  & 9981619\\\\\n",
       "\t2 & 2332 & Pusan  & KOR & Pusan  & 3804522\\\\\n",
       "\t3 & 2333 & Inchon & KOR & Inchon & 2559424\\\\\n",
       "\\end{tabular}\n"
      ],
      "text/markdown": [
       "\n",
       "A data.frame: 3 × 5\n",
       "\n",
       "| <!--/--> | ID &lt;int&gt; | Name &lt;chr&gt; | CountryCode &lt;chr&gt; | District &lt;chr&gt; | Population &lt;int&gt; |\n",
       "|---|---|---|---|---|---|\n",
       "| 1 | 2331 | Seoul  | KOR | Seoul  | 9981619 |\n",
       "| 2 | 2332 | Pusan  | KOR | Pusan  | 3804522 |\n",
       "| 3 | 2333 | Inchon | KOR | Inchon | 2559424 |\n",
       "\n"
      ],
      "text/plain": [
       "  ID   Name   CountryCode District Population\n",
       "1 2331 Seoul  KOR         Seoul    9981619   \n",
       "2 2332 Pusan  KOR         Pusan    3804522   \n",
       "3 2333 Inchon KOR         Inchon   2559424   "
      ]
     },
     "metadata": {},
     "output_type": "display_data"
    }
   ],
   "source": [
    "# 한국, 미국, 일본의 도시 \n",
    "dbGetQuery(conn, \"SELECT * FROM city\n",
    "                  WHERE CountryCode IN('KOR', 'JAP', 'USA')\") "
   ]
  },
  {
   "cell_type": "markdown",
   "id": "1810ed4c",
   "metadata": {},
   "source": [
    "### ```LIKE``` : 문자열의 내용 검색\n",
    "- 문자뒤에 '%' : 해당 문자로 시작하는 데이터 조회\n",
    "- 문자앞에 '_' : 해당 문자로 끝나는 데이터 조회"
   ]
  },
  {
   "cell_type": "code",
   "execution_count": 43,
   "id": "b386c878",
   "metadata": {},
   "outputs": [
    {
     "data": {
      "text/html": [
       "<table class=\"dataframe\">\n",
       "<caption>A data.frame: 1 × 5</caption>\n",
       "<thead>\n",
       "\t<tr><th scope=col>ID</th><th scope=col>Name</th><th scope=col>CountryCode</th><th scope=col>District</th><th scope=col>Population</th></tr>\n",
       "\t<tr><th scope=col>&lt;int&gt;</th><th scope=col>&lt;chr&gt;</th><th scope=col>&lt;chr&gt;</th><th scope=col>&lt;chr&gt;</th><th scope=col>&lt;int&gt;</th></tr>\n",
       "</thead>\n",
       "<tbody>\n",
       "\t<tr><td>1451</td><td>Tel Aviv-Jaffa</td><td>ISR</td><td>Tel Aviv</td><td>348100</td></tr>\n",
       "</tbody>\n",
       "</table>\n"
      ],
      "text/latex": [
       "A data.frame: 1 × 5\n",
       "\\begin{tabular}{lllll}\n",
       " ID & Name & CountryCode & District & Population\\\\\n",
       " <int> & <chr> & <chr> & <chr> & <int>\\\\\n",
       "\\hline\n",
       "\t 1451 & Tel Aviv-Jaffa & ISR & Tel Aviv & 348100\\\\\n",
       "\\end{tabular}\n"
      ],
      "text/markdown": [
       "\n",
       "A data.frame: 1 × 5\n",
       "\n",
       "| ID &lt;int&gt; | Name &lt;chr&gt; | CountryCode &lt;chr&gt; | District &lt;chr&gt; | Population &lt;int&gt; |\n",
       "|---|---|---|---|---|\n",
       "| 1451 | Tel Aviv-Jaffa | ISR | Tel Aviv | 348100 |\n",
       "\n"
      ],
      "text/plain": [
       "  ID   Name           CountryCode District Population\n",
       "1 1451 Tel Aviv-Jaffa ISR         Tel Aviv 348100    "
      ]
     },
     "metadata": {},
     "output_type": "display_data"
    }
   ],
   "source": [
    "# Name이 Tel로 시작하는 데이터\n",
    "dbGetQuery(conn, \"SELECT * FROM city\n",
    "                  WHERE Name LIKE 'Tel %'\")"
   ]
  },
  {
   "cell_type": "code",
   "execution_count": 45,
   "id": "de537f84",
   "metadata": {},
   "outputs": [
    {
     "data": {
      "text/html": [
       "<table class=\"dataframe\">\n",
       "<caption>A data.frame: 3 × 5</caption>\n",
       "<thead>\n",
       "\t<tr><th></th><th scope=col>ID</th><th scope=col>Name</th><th scope=col>CountryCode</th><th scope=col>District</th><th scope=col>Population</th></tr>\n",
       "\t<tr><th></th><th scope=col>&lt;int&gt;</th><th scope=col>&lt;chr&gt;</th><th scope=col>&lt;chr&gt;</th><th scope=col>&lt;chr&gt;</th><th scope=col>&lt;int&gt;</th></tr>\n",
       "</thead>\n",
       "<tbody>\n",
       "\t<tr><th scope=row>1</th><td>2331</td><td>Seoul </td><td>KOR</td><td>Seoul </td><td>9981619</td></tr>\n",
       "\t<tr><th scope=row>2</th><td>2332</td><td>Pusan </td><td>KOR</td><td>Pusan </td><td>3804522</td></tr>\n",
       "\t<tr><th scope=row>3</th><td>2333</td><td>Inchon</td><td>KOR</td><td>Inchon</td><td>2559424</td></tr>\n",
       "</tbody>\n",
       "</table>\n"
      ],
      "text/latex": [
       "A data.frame: 3 × 5\n",
       "\\begin{tabular}{r|lllll}\n",
       "  & ID & Name & CountryCode & District & Population\\\\\n",
       "  & <int> & <chr> & <chr> & <chr> & <int>\\\\\n",
       "\\hline\n",
       "\t1 & 2331 & Seoul  & KOR & Seoul  & 9981619\\\\\n",
       "\t2 & 2332 & Pusan  & KOR & Pusan  & 3804522\\\\\n",
       "\t3 & 2333 & Inchon & KOR & Inchon & 2559424\\\\\n",
       "\\end{tabular}\n"
      ],
      "text/markdown": [
       "\n",
       "A data.frame: 3 × 5\n",
       "\n",
       "| <!--/--> | ID &lt;int&gt; | Name &lt;chr&gt; | CountryCode &lt;chr&gt; | District &lt;chr&gt; | Population &lt;int&gt; |\n",
       "|---|---|---|---|---|---|\n",
       "| 1 | 2331 | Seoul  | KOR | Seoul  | 9981619 |\n",
       "| 2 | 2332 | Pusan  | KOR | Pusan  | 3804522 |\n",
       "| 3 | 2333 | Inchon | KOR | Inchon | 2559424 |\n",
       "\n"
      ],
      "text/plain": [
       "  ID   Name   CountryCode District Population\n",
       "1 2331 Seoul  KOR         Seoul    9981619   \n",
       "2 2332 Pusan  KOR         Pusan    3804522   \n",
       "3 2333 Inchon KOR         Inchon   2559424   "
      ]
     },
     "metadata": {},
     "output_type": "display_data"
    }
   ],
   "source": [
    "# CountryCode가 KO로 시작하는 데이터 \n",
    "dbGetQuery(conn, \"SELECT * FROM city\n",
    "                  WHERE CountryCode LIKE 'KO_'\") "
   ]
  },
  {
   "cell_type": "markdown",
   "id": "11489252",
   "metadata": {},
   "source": [
    "### ```ORDER BY``` : 결과가 출력되는 순서를 조정 (기본적으로 오름차순)\n",
    "- 오름차순 : ASC / 내림차순 : DESC"
   ]
  },
  {
   "cell_type": "code",
   "execution_count": 56,
   "id": "8229d7e5",
   "metadata": {},
   "outputs": [
    {
     "data": {
      "text/html": [
       "<table class=\"dataframe\">\n",
       "<caption>A data.frame: 3 × 5</caption>\n",
       "<thead>\n",
       "\t<tr><th></th><th scope=col>ID</th><th scope=col>Name</th><th scope=col>CountryCode</th><th scope=col>District</th><th scope=col>Population</th></tr>\n",
       "\t<tr><th></th><th scope=col>&lt;int&gt;</th><th scope=col>&lt;chr&gt;</th><th scope=col>&lt;chr&gt;</th><th scope=col>&lt;chr&gt;</th><th scope=col>&lt;int&gt;</th></tr>\n",
       "</thead>\n",
       "<tbody>\n",
       "\t<tr><th scope=row>1</th><td>2331</td><td>Seoul </td><td>KOR</td><td>Seoul </td><td>9981619</td></tr>\n",
       "\t<tr><th scope=row>2</th><td>2332</td><td>Pusan </td><td>KOR</td><td>Pusan </td><td>3804522</td></tr>\n",
       "\t<tr><th scope=row>3</th><td>2333</td><td>Inchon</td><td>KOR</td><td>Inchon</td><td>2559424</td></tr>\n",
       "</tbody>\n",
       "</table>\n"
      ],
      "text/latex": [
       "A data.frame: 3 × 5\n",
       "\\begin{tabular}{r|lllll}\n",
       "  & ID & Name & CountryCode & District & Population\\\\\n",
       "  & <int> & <chr> & <chr> & <chr> & <int>\\\\\n",
       "\\hline\n",
       "\t1 & 2331 & Seoul  & KOR & Seoul  & 9981619\\\\\n",
       "\t2 & 2332 & Pusan  & KOR & Pusan  & 3804522\\\\\n",
       "\t3 & 2333 & Inchon & KOR & Inchon & 2559424\\\\\n",
       "\\end{tabular}\n"
      ],
      "text/markdown": [
       "\n",
       "A data.frame: 3 × 5\n",
       "\n",
       "| <!--/--> | ID &lt;int&gt; | Name &lt;chr&gt; | CountryCode &lt;chr&gt; | District &lt;chr&gt; | Population &lt;int&gt; |\n",
       "|---|---|---|---|---|---|\n",
       "| 1 | 2331 | Seoul  | KOR | Seoul  | 9981619 |\n",
       "| 2 | 2332 | Pusan  | KOR | Pusan  | 3804522 |\n",
       "| 3 | 2333 | Inchon | KOR | Inchon | 2559424 |\n",
       "\n"
      ],
      "text/plain": [
       "  ID   Name   CountryCode District Population\n",
       "1 2331 Seoul  KOR         Seoul    9981619   \n",
       "2 2332 Pusan  KOR         Pusan    3804522   \n",
       "3 2333 Inchon KOR         Inchon   2559424   "
      ]
     },
     "metadata": {},
     "output_type": "display_data"
    }
   ],
   "source": [
    "# 인구수로 내림차순하여 한국의 도시 인구수 보기\n",
    "dbGetQuery(conn, \"SELECT * FROM city\n",
    "                  WHERE CountryCode = 'Kor'\n",
    "                  ORDER BY Population DESC\") "
   ]
  },
  {
   "cell_type": "markdown",
   "id": "b244dd3a",
   "metadata": {},
   "source": [
    "### ```DISTINCT``` : 중복된 것은 1개씩만 보이며 출력 (테이블의 크기가 클수록 효율적)"
   ]
  },
  {
   "cell_type": "code",
   "execution_count": 67,
   "id": "f4e70f1e",
   "metadata": {},
   "outputs": [
    {
     "data": {
      "text/html": [
       "<table class=\"dataframe\">\n",
       "<caption>A data.frame: 6 × 1</caption>\n",
       "<thead>\n",
       "\t<tr><th></th><th scope=col>CountryCode</th></tr>\n",
       "\t<tr><th></th><th scope=col>&lt;chr&gt;</th></tr>\n",
       "</thead>\n",
       "<tbody>\n",
       "\t<tr><th scope=row>1</th><td>ABW</td></tr>\n",
       "\t<tr><th scope=row>2</th><td>AFG</td></tr>\n",
       "\t<tr><th scope=row>3</th><td>AGO</td></tr>\n",
       "\t<tr><th scope=row>4</th><td>AIA</td></tr>\n",
       "\t<tr><th scope=row>5</th><td>ALB</td></tr>\n",
       "\t<tr><th scope=row>6</th><td>AND</td></tr>\n",
       "</tbody>\n",
       "</table>\n"
      ],
      "text/latex": [
       "A data.frame: 6 × 1\n",
       "\\begin{tabular}{r|l}\n",
       "  & CountryCode\\\\\n",
       "  & <chr>\\\\\n",
       "\\hline\n",
       "\t1 & ABW\\\\\n",
       "\t2 & AFG\\\\\n",
       "\t3 & AGO\\\\\n",
       "\t4 & AIA\\\\\n",
       "\t5 & ALB\\\\\n",
       "\t6 & AND\\\\\n",
       "\\end{tabular}\n"
      ],
      "text/markdown": [
       "\n",
       "A data.frame: 6 × 1\n",
       "\n",
       "| <!--/--> | CountryCode &lt;chr&gt; |\n",
       "|---|---|\n",
       "| 1 | ABW |\n",
       "| 2 | AFG |\n",
       "| 3 | AGO |\n",
       "| 4 | AIA |\n",
       "| 5 | ALB |\n",
       "| 6 | AND |\n",
       "\n"
      ],
      "text/plain": [
       "  CountryCode\n",
       "1 ABW        \n",
       "2 AFG        \n",
       "3 AGO        \n",
       "4 AIA        \n",
       "5 ALB        \n",
       "6 AND        "
      ]
     },
     "metadata": {},
     "output_type": "display_data"
    }
   ],
   "source": [
    "dbGetQuery(conn,\"SELECT DISTINCT CountryCode FROM city\") %>% head"
   ]
  },
  {
   "cell_type": "markdown",
   "id": "ec37a73d",
   "metadata": {},
   "source": [
    "### LIMIT : 출력 개수를 제한 (상위 N개만 출력)\n",
    "- 서버의 처리량을 많이 사용해 서버의 전반적인 성능을 나쁘게 하는 악성 쿼리문 개선할 때 사용 \n",
    "- 상단 Limit to **Rows를 통해 수정"
   ]
  },
  {
   "cell_type": "code",
   "execution_count": 69,
   "id": "f2e77120",
   "metadata": {
    "scrolled": true
   },
   "outputs": [
    {
     "data": {
      "text/html": [
       "<table class=\"dataframe\">\n",
       "<caption>A data.frame: 1 × 5</caption>\n",
       "<thead>\n",
       "\t<tr><th scope=col>ID</th><th scope=col>Name</th><th scope=col>CountryCode</th><th scope=col>District</th><th scope=col>Population</th></tr>\n",
       "\t<tr><th scope=col>&lt;int&gt;</th><th scope=col>&lt;chr&gt;</th><th scope=col>&lt;chr&gt;</th><th scope=col>&lt;chr&gt;</th><th scope=col>&lt;int&gt;</th></tr>\n",
       "</thead>\n",
       "<tbody>\n",
       "\t<tr><td>2331</td><td>Seoul</td><td>KOR</td><td>Seoul</td><td>9981619</td></tr>\n",
       "</tbody>\n",
       "</table>\n"
      ],
      "text/latex": [
       "A data.frame: 1 × 5\n",
       "\\begin{tabular}{lllll}\n",
       " ID & Name & CountryCode & District & Population\\\\\n",
       " <int> & <chr> & <chr> & <chr> & <int>\\\\\n",
       "\\hline\n",
       "\t 2331 & Seoul & KOR & Seoul & 9981619\\\\\n",
       "\\end{tabular}\n"
      ],
      "text/markdown": [
       "\n",
       "A data.frame: 1 × 5\n",
       "\n",
       "| ID &lt;int&gt; | Name &lt;chr&gt; | CountryCode &lt;chr&gt; | District &lt;chr&gt; | Population &lt;int&gt; |\n",
       "|---|---|---|---|---|\n",
       "| 2331 | Seoul | KOR | Seoul | 9981619 |\n",
       "\n"
      ],
      "text/plain": [
       "  ID   Name  CountryCode District Population\n",
       "1 2331 Seoul KOR         Seoul    9981619   "
      ]
     },
     "metadata": {},
     "output_type": "display_data"
    }
   ],
   "source": [
    "dbGetQuery(conn, \"SELECT * FROM city\n",
    "                  WHERE CountryCode = 'Kor'\n",
    "                  ORDER BY Population DESC \n",
    "                  LIMIT 1\") "
   ]
  },
  {
   "cell_type": "markdown",
   "id": "2def96d2",
   "metadata": {},
   "source": [
    "### ```GROUP BY``` : 데이터 그룹화\n",
    "- 집계함수와 함께 사용 \n",
    "\n",
    "#### 집계 함수 : WHERE절과 함께 사용 불가\n",
    "- (AVG, MIN, MAX, COUNT, COUNT(DISTINCT), STDEV, VARIANCE)"
   ]
  },
  {
   "cell_type": "code",
   "execution_count": 77,
   "id": "bc263b6c",
   "metadata": {},
   "outputs": [
    {
     "data": {
      "text/html": [
       "<table class=\"dataframe\">\n",
       "<caption>A data.frame: 3 × 2</caption>\n",
       "<thead>\n",
       "\t<tr><th></th><th scope=col>Name</th><th scope=col>MEAN</th></tr>\n",
       "\t<tr><th></th><th scope=col>&lt;chr&gt;</th><th scope=col>&lt;dbl&gt;</th></tr>\n",
       "</thead>\n",
       "<tbody>\n",
       "\t<tr><th scope=row>1</th><td>Kabul   </td><td>1780000</td></tr>\n",
       "\t<tr><th scope=row>2</th><td>Qandahar</td><td> 237500</td></tr>\n",
       "\t<tr><th scope=row>3</th><td>Herat   </td><td> 186800</td></tr>\n",
       "</tbody>\n",
       "</table>\n"
      ],
      "text/latex": [
       "A data.frame: 3 × 2\n",
       "\\begin{tabular}{r|ll}\n",
       "  & Name & MEAN\\\\\n",
       "  & <chr> & <dbl>\\\\\n",
       "\\hline\n",
       "\t1 & Kabul    & 1780000\\\\\n",
       "\t2 & Qandahar &  237500\\\\\n",
       "\t3 & Herat    &  186800\\\\\n",
       "\\end{tabular}\n"
      ],
      "text/markdown": [
       "\n",
       "A data.frame: 3 × 2\n",
       "\n",
       "| <!--/--> | Name &lt;chr&gt; | MEAN &lt;dbl&gt; |\n",
       "|---|---|---|\n",
       "| 1 | Kabul    | 1780000 |\n",
       "| 2 | Qandahar |  237500 |\n",
       "| 3 | Herat    |  186800 |\n",
       "\n"
      ],
      "text/plain": [
       "  Name     MEAN   \n",
       "1 Kabul    1780000\n",
       "2 Qandahar  237500\n",
       "3 Herat     186800"
      ]
     },
     "metadata": {},
     "output_type": "display_data"
    }
   ],
   "source": [
    "# 도시들의 평균 인구수 (평균 열 이름은 'MEAN'으로)\n",
    "dbGetQuery(conn, \"SELECT Name, AVG(Population) AS 'MEAN' FROM city\n",
    "                  GROUP BY Name\") "
   ]
  },
  {
   "cell_type": "code",
   "execution_count": 80,
   "id": "586bb37a",
   "metadata": {
    "scrolled": true
   },
   "outputs": [
    {
     "data": {
      "text/html": [
       "<table class=\"dataframe\">\n",
       "<caption>A data.frame: 1 × 1</caption>\n",
       "<thead>\n",
       "\t<tr><th scope=col>City Count</th></tr>\n",
       "\t<tr><th scope=col>&lt;dbl&gt;</th></tr>\n",
       "</thead>\n",
       "<tbody>\n",
       "\t<tr><td>4079</td></tr>\n",
       "</tbody>\n",
       "</table>\n"
      ],
      "text/latex": [
       "A data.frame: 1 × 1\n",
       "\\begin{tabular}{l}\n",
       " City Count\\\\\n",
       " <dbl>\\\\\n",
       "\\hline\n",
       "\t 4079\\\\\n",
       "\\end{tabular}\n"
      ],
      "text/markdown": [
       "\n",
       "A data.frame: 1 × 1\n",
       "\n",
       "| City Count &lt;dbl&gt; |\n",
       "|---|\n",
       "| 4079 |\n",
       "\n"
      ],
      "text/plain": [
       "  City Count\n",
       "1 4079      "
      ]
     },
     "metadata": {},
     "output_type": "display_data"
    }
   ],
   "source": [
    "# 데이터의 도시 개수\n",
    "dbGetQuery(conn, \"SELECT COUNT(*) AS 'City Count' FROM city\")"
   ]
  },
  {
   "cell_type": "markdown",
   "id": "1112b8cc",
   "metadata": {},
   "source": [
    "### ```HAVING``` : 집계함수에 대한 조건절\n",
    "- HAVING절은 반드시 GROUP BY절 다음 "
   ]
  },
  {
   "cell_type": "code",
   "execution_count": 83,
   "id": "26025bdd",
   "metadata": {},
   "outputs": [
    {
     "data": {
      "text/html": [
       "<table class=\"dataframe\">\n",
       "<caption>A data.frame: 1 × 2</caption>\n",
       "<thead>\n",
       "\t<tr><th scope=col>CountryCode</th><th scope=col>MAX(Population)</th></tr>\n",
       "\t<tr><th scope=col>&lt;chr&gt;</th><th scope=col>&lt;int&gt;</th></tr>\n",
       "</thead>\n",
       "<tbody>\n",
       "\t<tr><td>IND</td><td>10500000</td></tr>\n",
       "</tbody>\n",
       "</table>\n"
      ],
      "text/latex": [
       "A data.frame: 1 × 2\n",
       "\\begin{tabular}{ll}\n",
       " CountryCode & MAX(Population)\\\\\n",
       " <chr> & <int>\\\\\n",
       "\\hline\n",
       "\t IND & 10500000\\\\\n",
       "\\end{tabular}\n"
      ],
      "text/markdown": [
       "\n",
       "A data.frame: 1 × 2\n",
       "\n",
       "| CountryCode &lt;chr&gt; | MAX(Population) &lt;int&gt; |\n",
       "|---|---|\n",
       "| IND | 10500000 |\n",
       "\n"
      ],
      "text/plain": [
       "  CountryCode MAX(Population)\n",
       "1 IND         10500000       "
      ]
     },
     "metadata": {},
     "output_type": "display_data"
    }
   ],
   "source": [
    "# Population의 최댓값이 1000만 이상인 국가들만 표시\n",
    "dbGetQuery(conn, \"SELECT CountryCode, MAX(Population) FROM city\n",
    "                  GROUP BY CountryCode\n",
    "                  HAVING MAX(Population) > 10000000\")"
   ]
  },
  {
   "cell_type": "markdown",
   "id": "9feefc90",
   "metadata": {},
   "source": [
    "### ```ROLL UP``` : 총합 도는 중간합계\n",
    "- GROUP BY절과 함께 WITH ROLLUP문 사용"
   ]
  },
  {
   "cell_type": "code",
   "execution_count": 86,
   "id": "706a598d",
   "metadata": {},
   "outputs": [
    {
     "data": {
      "text/html": [
       "<table class=\"dataframe\">\n",
       "<caption>A data.frame: 7 × 3</caption>\n",
       "<thead>\n",
       "\t<tr><th></th><th scope=col>CountryCode</th><th scope=col>Name</th><th scope=col>SUM(Population)</th></tr>\n",
       "\t<tr><th></th><th scope=col>&lt;chr&gt;</th><th scope=col>&lt;chr&gt;</th><th scope=col>&lt;dbl&gt;</th></tr>\n",
       "</thead>\n",
       "<tbody>\n",
       "\t<tr><th scope=row>1</th><td>ABW</td><td>Oranjestad    </td><td>  29034</td></tr>\n",
       "\t<tr><th scope=row>2</th><td>ABW</td><td>NA            </td><td>  29034</td></tr>\n",
       "\t<tr><th scope=row>3</th><td>AFG</td><td>Herat         </td><td> 186800</td></tr>\n",
       "\t<tr><th scope=row>4</th><td>AFG</td><td>Kabul         </td><td>1780000</td></tr>\n",
       "\t<tr><th scope=row>5</th><td>AFG</td><td>Mazar-e-Sharif</td><td> 127800</td></tr>\n",
       "\t<tr><th scope=row>6</th><td>AFG</td><td>Qandahar      </td><td> 237500</td></tr>\n",
       "\t<tr><th scope=row>7</th><td>AFG</td><td>NA            </td><td>2332100</td></tr>\n",
       "</tbody>\n",
       "</table>\n"
      ],
      "text/latex": [
       "A data.frame: 7 × 3\n",
       "\\begin{tabular}{r|lll}\n",
       "  & CountryCode & Name & SUM(Population)\\\\\n",
       "  & <chr> & <chr> & <dbl>\\\\\n",
       "\\hline\n",
       "\t1 & ABW & Oranjestad     &   29034\\\\\n",
       "\t2 & ABW & NA             &   29034\\\\\n",
       "\t3 & AFG & Herat          &  186800\\\\\n",
       "\t4 & AFG & Kabul          & 1780000\\\\\n",
       "\t5 & AFG & Mazar-e-Sharif &  127800\\\\\n",
       "\t6 & AFG & Qandahar       &  237500\\\\\n",
       "\t7 & AFG & NA             & 2332100\\\\\n",
       "\\end{tabular}\n"
      ],
      "text/markdown": [
       "\n",
       "A data.frame: 7 × 3\n",
       "\n",
       "| <!--/--> | CountryCode &lt;chr&gt; | Name &lt;chr&gt; | SUM(Population) &lt;dbl&gt; |\n",
       "|---|---|---|---|\n",
       "| 1 | ABW | Oranjestad     |   29034 |\n",
       "| 2 | ABW | NA             |   29034 |\n",
       "| 3 | AFG | Herat          |  186800 |\n",
       "| 4 | AFG | Kabul          | 1780000 |\n",
       "| 5 | AFG | Mazar-e-Sharif |  127800 |\n",
       "| 6 | AFG | Qandahar       |  237500 |\n",
       "| 7 | AFG | NA             | 2332100 |\n",
       "\n"
      ],
      "text/plain": [
       "  CountryCode Name           SUM(Population)\n",
       "1 ABW         Oranjestad       29034        \n",
       "2 ABW         NA               29034        \n",
       "3 AFG         Herat           186800        \n",
       "4 AFG         Kabul          1780000        \n",
       "5 AFG         Mazar-e-Sharif  127800        \n",
       "6 AFG         Qandahar        237500        \n",
       "7 AFG         NA             2332100        "
      ]
     },
     "metadata": {},
     "output_type": "display_data"
    }
   ],
   "source": [
    "# 국가별 도시에 대한 합계\n",
    "dbGetQuery(conn, \"SELECT CountryCode, Name, SUM(Population) FROM city\n",
    " GROUP BY CountryCode, Name WITH ROLLUP\")"
   ]
  },
  {
   "cell_type": "markdown",
   "id": "741ad7bd",
   "metadata": {},
   "source": [
    "## Sub Query : 서브쿼리, 쿼리문 안에 또 쿼리문이 포함\n",
    "- 서브쿼리의 결과가 둘 이상이 되면 에러"
   ]
  },
  {
   "cell_type": "code",
   "execution_count": 47,
   "id": "3bfe1a23",
   "metadata": {},
   "outputs": [
    {
     "data": {
      "text/html": [
       "<table class=\"dataframe\">\n",
       "<caption>A data.frame: 3 × 5</caption>\n",
       "<thead>\n",
       "\t<tr><th></th><th scope=col>ID</th><th scope=col>Name</th><th scope=col>CountryCode</th><th scope=col>District</th><th scope=col>Population</th></tr>\n",
       "\t<tr><th></th><th scope=col>&lt;int&gt;</th><th scope=col>&lt;chr&gt;</th><th scope=col>&lt;chr&gt;</th><th scope=col>&lt;chr&gt;</th><th scope=col>&lt;int&gt;</th></tr>\n",
       "</thead>\n",
       "<tbody>\n",
       "\t<tr><th scope=row>1</th><td>2331</td><td>Seoul </td><td>KOR</td><td>Seoul </td><td>9981619</td></tr>\n",
       "\t<tr><th scope=row>2</th><td>2332</td><td>Pusan </td><td>KOR</td><td>Pusan </td><td>3804522</td></tr>\n",
       "\t<tr><th scope=row>3</th><td>2333</td><td>Inchon</td><td>KOR</td><td>Inchon</td><td>2559424</td></tr>\n",
       "</tbody>\n",
       "</table>\n"
      ],
      "text/latex": [
       "A data.frame: 3 × 5\n",
       "\\begin{tabular}{r|lllll}\n",
       "  & ID & Name & CountryCode & District & Population\\\\\n",
       "  & <int> & <chr> & <chr> & <chr> & <int>\\\\\n",
       "\\hline\n",
       "\t1 & 2331 & Seoul  & KOR & Seoul  & 9981619\\\\\n",
       "\t2 & 2332 & Pusan  & KOR & Pusan  & 3804522\\\\\n",
       "\t3 & 2333 & Inchon & KOR & Inchon & 2559424\\\\\n",
       "\\end{tabular}\n"
      ],
      "text/markdown": [
       "\n",
       "A data.frame: 3 × 5\n",
       "\n",
       "| <!--/--> | ID &lt;int&gt; | Name &lt;chr&gt; | CountryCode &lt;chr&gt; | District &lt;chr&gt; | Population &lt;int&gt; |\n",
       "|---|---|---|---|---|---|\n",
       "| 1 | 2331 | Seoul  | KOR | Seoul  | 9981619 |\n",
       "| 2 | 2332 | Pusan  | KOR | Pusan  | 3804522 |\n",
       "| 3 | 2333 | Inchon | KOR | Inchon | 2559424 |\n",
       "\n"
      ],
      "text/plain": [
       "  ID   Name   CountryCode District Population\n",
       "1 2331 Seoul  KOR         Seoul    9981619   \n",
       "2 2332 Pusan  KOR         Pusan    3804522   \n",
       "3 2333 Inchon KOR         Inchon   2559424   "
      ]
     },
     "metadata": {},
     "output_type": "display_data"
    }
   ],
   "source": [
    "# Name이 Seoul인 데이터의 CountryCode = KOR => CountryCode가 KOR인 모든 데이터 확인 \n",
    "dbGetQuery(conn, \"SELECT * FROM city\n",
    " WHERE CountryCode = (SELECT CountryCode FROM city \n",
    "                      WHERE Name = 'Seoul')\")"
   ]
  },
  {
   "cell_type": "markdown",
   "id": "fd84c0a2",
   "metadata": {},
   "source": [
    "### ```ANY``` : 서브쿼리의 여러 결과 중 한 가지만 만족해도 가능\n",
    "(SOME은 ANY와 동일한 의미)"
   ]
  },
  {
   "cell_type": "code",
   "execution_count": 50,
   "id": "bca1dd34",
   "metadata": {},
   "outputs": [
    {
     "data": {
      "text/html": [
       "<table class=\"dataframe\">\n",
       "<caption>A data.frame: 3 × 5</caption>\n",
       "<thead>\n",
       "\t<tr><th></th><th scope=col>ID</th><th scope=col>Name</th><th scope=col>CountryCode</th><th scope=col>District</th><th scope=col>Population</th></tr>\n",
       "\t<tr><th></th><th scope=col>&lt;int&gt;</th><th scope=col>&lt;chr&gt;</th><th scope=col>&lt;chr&gt;</th><th scope=col>&lt;chr&gt;</th><th scope=col>&lt;int&gt;</th></tr>\n",
       "</thead>\n",
       "<tbody>\n",
       "\t<tr><th scope=row>1</th><td> 206</td><td>S횄짙o Paulo   </td><td>BRA</td><td>S횄짙o Paulo</td><td> 9968485</td></tr>\n",
       "\t<tr><th scope=row>2</th><td> 939</td><td>Jakarta        </td><td>IDN</td><td>Jakarta Raya</td><td> 9604900</td></tr>\n",
       "\t<tr><th scope=row>3</th><td>1024</td><td>Mumbai (Bombay)</td><td>IND</td><td>Maharashtra </td><td>10500000</td></tr>\n",
       "</tbody>\n",
       "</table>\n"
      ],
      "text/latex": [
       "A data.frame: 3 × 5\n",
       "\\begin{tabular}{r|lllll}\n",
       "  & ID & Name & CountryCode & District & Population\\\\\n",
       "  & <int> & <chr> & <chr> & <chr> & <int>\\\\\n",
       "\\hline\n",
       "\t1 &  206 & S횄짙o Paulo    & BRA & S횄짙o Paulo &  9968485\\\\\n",
       "\t2 &  939 & Jakarta         & IDN & Jakarta Raya &  9604900\\\\\n",
       "\t3 & 1024 & Mumbai (Bombay) & IND & Maharashtra  & 10500000\\\\\n",
       "\\end{tabular}\n"
      ],
      "text/markdown": [
       "\n",
       "A data.frame: 3 × 5\n",
       "\n",
       "| <!--/--> | ID &lt;int&gt; | Name &lt;chr&gt; | CountryCode &lt;chr&gt; | District &lt;chr&gt; | Population &lt;int&gt; |\n",
       "|---|---|---|---|---|---|\n",
       "| 1 |  206 | S횄짙o Paulo    | BRA | S횄짙o Paulo |  9968485 |\n",
       "| 2 |  939 | Jakarta         | IDN | Jakarta Raya |  9604900 |\n",
       "| 3 | 1024 | Mumbai (Bombay) | IND | Maharashtra  | 10500000 |\n",
       "\n"
      ],
      "text/plain": [
       "  ID   Name            CountryCode District     Population\n",
       "1  206 S횄짙o Paulo    BRA         S횄짙o Paulo  9968485  \n",
       "2  939 Jakarta         IDN         Jakarta Raya  9604900  \n",
       "3 1024 Mumbai (Bombay) IND         Maharashtra  10500000  "
      ]
     },
     "metadata": {},
     "output_type": "display_data"
    }
   ],
   "source": [
    "dbGetQuery(conn, \"SELECT * FROM city\n",
    "                  WHERE Population > ANY(SELECT Population FROM city\n",
    "                                         WHERE District = 'New York')\") "
   ]
  },
  {
   "cell_type": "markdown",
   "id": "3fdee69a",
   "metadata": {},
   "source": [
    "### ```ALL``` : 서브쿼리의 여러 결과를 모두 만족 시켜야 함"
   ]
  },
  {
   "cell_type": "code",
   "execution_count": 51,
   "id": "1bf27ec5",
   "metadata": {},
   "outputs": [
    {
     "data": {
      "text/html": [
       "<table class=\"dataframe\">\n",
       "<caption>A data.frame: 3 × 5</caption>\n",
       "<thead>\n",
       "\t<tr><th></th><th scope=col>ID</th><th scope=col>Name</th><th scope=col>CountryCode</th><th scope=col>District</th><th scope=col>Population</th></tr>\n",
       "\t<tr><th></th><th scope=col>&lt;int&gt;</th><th scope=col>&lt;chr&gt;</th><th scope=col>&lt;chr&gt;</th><th scope=col>&lt;chr&gt;</th><th scope=col>&lt;int&gt;</th></tr>\n",
       "</thead>\n",
       "<tbody>\n",
       "\t<tr><th scope=row>1</th><td> 206</td><td>S횄짙o Paulo   </td><td>BRA</td><td>S횄짙o Paulo</td><td> 9968485</td></tr>\n",
       "\t<tr><th scope=row>2</th><td> 939</td><td>Jakarta        </td><td>IDN</td><td>Jakarta Raya</td><td> 9604900</td></tr>\n",
       "\t<tr><th scope=row>3</th><td>1024</td><td>Mumbai (Bombay)</td><td>IND</td><td>Maharashtra </td><td>10500000</td></tr>\n",
       "</tbody>\n",
       "</table>\n"
      ],
      "text/latex": [
       "A data.frame: 3 × 5\n",
       "\\begin{tabular}{r|lllll}\n",
       "  & ID & Name & CountryCode & District & Population\\\\\n",
       "  & <int> & <chr> & <chr> & <chr> & <int>\\\\\n",
       "\\hline\n",
       "\t1 &  206 & S횄짙o Paulo    & BRA & S횄짙o Paulo &  9968485\\\\\n",
       "\t2 &  939 & Jakarta         & IDN & Jakarta Raya &  9604900\\\\\n",
       "\t3 & 1024 & Mumbai (Bombay) & IND & Maharashtra  & 10500000\\\\\n",
       "\\end{tabular}\n"
      ],
      "text/markdown": [
       "\n",
       "A data.frame: 3 × 5\n",
       "\n",
       "| <!--/--> | ID &lt;int&gt; | Name &lt;chr&gt; | CountryCode &lt;chr&gt; | District &lt;chr&gt; | Population &lt;int&gt; |\n",
       "|---|---|---|---|---|---|\n",
       "| 1 |  206 | S횄짙o Paulo    | BRA | S횄짙o Paulo |  9968485 |\n",
       "| 2 |  939 | Jakarta         | IDN | Jakarta Raya |  9604900 |\n",
       "| 3 | 1024 | Mumbai (Bombay) | IND | Maharashtra  | 10500000 |\n",
       "\n"
      ],
      "text/plain": [
       "  ID   Name            CountryCode District     Population\n",
       "1  206 S횄짙o Paulo    BRA         S횄짙o Paulo  9968485  \n",
       "2  939 Jakarta         IDN         Jakarta Raya  9604900  \n",
       "3 1024 Mumbai (Bombay) IND         Maharashtra  10500000  "
      ]
     },
     "metadata": {},
     "output_type": "display_data"
    }
   ],
   "source": [
    "# District가 New York인 모든 데이터의 Population보다 큰 Population값을 가진 데이터 확인 \n",
    "dbGetQuery(conn, \"SELECT * FROM city\n",
    "                  WHERE Population > ALL(SELECT Population FROM city\n",
    "                                         WHERE District = 'New York')\") "
   ]
  },
  {
   "cell_type": "markdown",
   "id": "9c5e61a5",
   "metadata": {},
   "source": [
    "## MySQL 내장함수\n",
    "### 1. 문자열 함수"
   ]
  },
  {
   "cell_type": "markdown",
   "id": "6fdfeab2",
   "metadata": {},
   "source": [
    "### ```LENGTH``` : 문자열 길이\n",
    "### ```CONCAT``` : 문자열 결합\n",
    "### ```LOCATE``` : 문자열 위치 반환\n",
    "### ```REPLACE``` : 특정 문자열을 대체 문자열로 교체"
   ]
  },
  {
   "cell_type": "code",
   "execution_count": 90,
   "id": "1b882008",
   "metadata": {},
   "outputs": [
    {
     "data": {
      "text/html": [
       "<table class=\"dataframe\">\n",
       "<caption>A data.frame: 1 × 4</caption>\n",
       "<thead>\n",
       "\t<tr><th scope=col>LENGTH('abcdefg')</th><th scope=col>CONCAT('My', 'sql Op', 'en Source')</th><th scope=col>LOCATE('ABC', '123ABC12341234')</th><th scope=col>REPLACE('MSSQL', 'MS', 'My')</th></tr>\n",
       "\t<tr><th scope=col>&lt;dbl&gt;</th><th scope=col>&lt;chr&gt;</th><th scope=col>&lt;dbl&gt;</th><th scope=col>&lt;chr&gt;</th></tr>\n",
       "</thead>\n",
       "<tbody>\n",
       "\t<tr><td>7</td><td>Mysql Open Source</td><td>4</td><td>MySQL</td></tr>\n",
       "</tbody>\n",
       "</table>\n"
      ],
      "text/latex": [
       "A data.frame: 1 × 4\n",
       "\\begin{tabular}{llll}\n",
       " LENGTH('abcdefg') & CONCAT('My', 'sql Op', 'en Source') & LOCATE('ABC', '123ABC12341234') & REPLACE('MSSQL', 'MS', 'My')\\\\\n",
       " <dbl> & <chr> & <dbl> & <chr>\\\\\n",
       "\\hline\n",
       "\t 7 & Mysql Open Source & 4 & MySQL\\\\\n",
       "\\end{tabular}\n"
      ],
      "text/markdown": [
       "\n",
       "A data.frame: 1 × 4\n",
       "\n",
       "| LENGTH('abcdefg') &lt;dbl&gt; | CONCAT('My', 'sql Op', 'en Source') &lt;chr&gt; | LOCATE('ABC', '123ABC12341234') &lt;dbl&gt; | REPLACE('MSSQL', 'MS', 'My') &lt;chr&gt; |\n",
       "|---|---|---|---|\n",
       "| 7 | Mysql Open Source | 4 | MySQL |\n",
       "\n"
      ],
      "text/plain": [
       "  LENGTH('abcdefg') CONCAT('My', 'sql Op', 'en Source')\n",
       "1 7                 Mysql Open Source                  \n",
       "  LOCATE('ABC', '123ABC12341234') REPLACE('MSSQL', 'MS', 'My')\n",
       "1 4                               MySQL                       "
      ]
     },
     "metadata": {},
     "output_type": "display_data"
    }
   ],
   "source": [
    "dbGetQuery(conn, \"SELECT LENGTH('abcdefg'), \n",
    "                  CONCAT('My', 'sql Op', 'en Source'), \n",
    "                  LOCATE('ABC', '123ABC12341234'),\n",
    "                  REPLACE('MSSQL', 'MS', 'My');\")"
   ]
  },
  {
   "cell_type": "markdown",
   "id": "2adefa9e",
   "metadata": {},
   "source": [
    "### ```LEFT``` / ```RIGHT``` : 좌/우 기준 위치의 문자 반환"
   ]
  },
  {
   "cell_type": "code",
   "execution_count": 92,
   "id": "bf144ed0",
   "metadata": {},
   "outputs": [
    {
     "data": {
      "text/html": [
       "<table class=\"dataframe\">\n",
       "<caption>A data.frame: 1 × 2</caption>\n",
       "<thead>\n",
       "\t<tr><th scope=col>LEFT('MySQL is an open source', 5)</th><th scope=col>RIGHT('MySQL is an open source', 5)</th></tr>\n",
       "\t<tr><th scope=col>&lt;chr&gt;</th><th scope=col>&lt;chr&gt;</th></tr>\n",
       "</thead>\n",
       "<tbody>\n",
       "\t<tr><td>MySQL</td><td>ource</td></tr>\n",
       "</tbody>\n",
       "</table>\n"
      ],
      "text/latex": [
       "A data.frame: 1 × 2\n",
       "\\begin{tabular}{ll}\n",
       " LEFT('MySQL is an open source', 5) & RIGHT('MySQL is an open source', 5)\\\\\n",
       " <chr> & <chr>\\\\\n",
       "\\hline\n",
       "\t MySQL & ource\\\\\n",
       "\\end{tabular}\n"
      ],
      "text/markdown": [
       "\n",
       "A data.frame: 1 × 2\n",
       "\n",
       "| LEFT('MySQL is an open source', 5) &lt;chr&gt; | RIGHT('MySQL is an open source', 5) &lt;chr&gt; |\n",
       "|---|---|\n",
       "| MySQL | ource |\n",
       "\n"
      ],
      "text/plain": [
       "  LEFT('MySQL is an open source', 5) RIGHT('MySQL is an open source', 5)\n",
       "1 MySQL                              ource                              "
      ]
     },
     "metadata": {},
     "output_type": "display_data"
    }
   ],
   "source": [
    "# 문자열의 좌/우측부터 지정한 개수만큼 문자 반환\n",
    "dbGetQuery(conn, \"SELECT LEFT('MySQL is an open source', 5),\n",
    "                         RIGHT('MySQL is an open source', 5);\")"
   ]
  },
  {
   "cell_type": "markdown",
   "id": "37123799",
   "metadata": {},
   "source": [
    "### ```LOWER``` / ```UPPER``` : 대문자/소문자 변환"
   ]
  },
  {
   "cell_type": "code",
   "execution_count": 97,
   "id": "e8a0ffaf",
   "metadata": {},
   "outputs": [
    {
     "data": {
      "text/html": [
       "<table class=\"dataframe\">\n",
       "<caption>A data.frame: 1 × 2</caption>\n",
       "<thead>\n",
       "\t<tr><th scope=col>LOWER('MySQL is an open source')</th><th scope=col>UPPER('MySQL is an open source')</th></tr>\n",
       "\t<tr><th scope=col>&lt;chr&gt;</th><th scope=col>&lt;chr&gt;</th></tr>\n",
       "</thead>\n",
       "<tbody>\n",
       "\t<tr><td>mysql is an open source</td><td>MYSQL IS AN OPEN SOURCE</td></tr>\n",
       "</tbody>\n",
       "</table>\n"
      ],
      "text/latex": [
       "A data.frame: 1 × 2\n",
       "\\begin{tabular}{ll}\n",
       " LOWER('MySQL is an open source') & UPPER('MySQL is an open source')\\\\\n",
       " <chr> & <chr>\\\\\n",
       "\\hline\n",
       "\t mysql is an open source & MYSQL IS AN OPEN SOURCE\\\\\n",
       "\\end{tabular}\n"
      ],
      "text/markdown": [
       "\n",
       "A data.frame: 1 × 2\n",
       "\n",
       "| LOWER('MySQL is an open source') &lt;chr&gt; | UPPER('MySQL is an open source') &lt;chr&gt; |\n",
       "|---|---|\n",
       "| mysql is an open source | MYSQL IS AN OPEN SOURCE |\n",
       "\n"
      ],
      "text/plain": [
       "  LOWER('MySQL is an open source') UPPER('MySQL is an open source')\n",
       "1 mysql is an open source          MYSQL IS AN OPEN SOURCE         "
      ]
     },
     "metadata": {},
     "output_type": "display_data"
    }
   ],
   "source": [
    "dbGetQuery(conn, \"SELECT LOWER('MySQL is an open source'),\n",
    "                         UPPER('MySQL is an open source'); \")"
   ]
  },
  {
   "cell_type": "markdown",
   "id": "b0d8db6f",
   "metadata": {},
   "source": [
    "### ```FLOOR``` / ```CEIL``` / ```ROUND``` : 올림/내림/반올림"
   ]
  },
  {
   "cell_type": "code",
   "execution_count": 98,
   "id": "08a46fba",
   "metadata": {},
   "outputs": [
    {
     "data": {
      "text/html": [
       "<table class=\"dataframe\">\n",
       "<caption>A data.frame: 1 × 3</caption>\n",
       "<thead>\n",
       "\t<tr><th scope=col>FLOOR(10.95)</th><th scope=col>CEIL(10.95)</th><th scope=col>ROUND(10.95)</th></tr>\n",
       "\t<tr><th scope=col>&lt;dbl&gt;</th><th scope=col>&lt;dbl&gt;</th><th scope=col>&lt;dbl&gt;</th></tr>\n",
       "</thead>\n",
       "<tbody>\n",
       "\t<tr><td>10</td><td>11</td><td>11</td></tr>\n",
       "</tbody>\n",
       "</table>\n"
      ],
      "text/latex": [
       "A data.frame: 1 × 3\n",
       "\\begin{tabular}{lll}\n",
       " FLOOR(10.95) & CEIL(10.95) & ROUND(10.95)\\\\\n",
       " <dbl> & <dbl> & <dbl>\\\\\n",
       "\\hline\n",
       "\t 10 & 11 & 11\\\\\n",
       "\\end{tabular}\n"
      ],
      "text/markdown": [
       "\n",
       "A data.frame: 1 × 3\n",
       "\n",
       "| FLOOR(10.95) &lt;dbl&gt; | CEIL(10.95) &lt;dbl&gt; | ROUND(10.95) &lt;dbl&gt; |\n",
       "|---|---|---|\n",
       "| 10 | 11 | 11 |\n",
       "\n"
      ],
      "text/plain": [
       "  FLOOR(10.95) CEIL(10.95) ROUND(10.95)\n",
       "1 10           11          11          "
      ]
     },
     "metadata": {},
     "output_type": "display_data"
    }
   ],
   "source": [
    "dbGetQuery(conn, \"SELECT FLOOR(10.95), CEIL(10.95), ROUND(10.95);\")"
   ]
  },
  {
   "cell_type": "markdown",
   "id": "8a84c046",
   "metadata": {},
   "source": [
    "### ```TRIM``` :  문자열의 앞이나 뒤, 또는 양쪽 모두에 있는 특정 문자를 제거 \n",
    "1. BOTH : 전달받은 문자열의 양 끝에 존재하는 특정 문자를 제거\n",
    "2. LEADING : **전달받은 문자열 앞에 존재하는 특정 문자를 제거**\n",
    "3. TRAILING : **전달받은 문자열 뒤에 존재하는 특정 문자를 제거**\n",
    "- 제거할 문자를 명시하지 않으면, 자동으로 공백을 제거  "
   ]
  },
  {
   "cell_type": "code",
   "execution_count": 112,
   "id": "c581ec27",
   "metadata": {},
   "outputs": [
    {
     "data": {
      "text/html": [
       "<table class=\"dataframe\">\n",
       "<caption>A data.frame: 1 × 3</caption>\n",
       "<thead>\n",
       "\t<tr><th scope=col>TRIM('  MySQL  ')</th><th scope=col>TRIM(LEADING '-' FROM '--MySQL--')</th><th scope=col>TRIM(TRAILING '-' FROM '--MySQL--')</th></tr>\n",
       "\t<tr><th scope=col>&lt;chr&gt;</th><th scope=col>&lt;chr&gt;</th><th scope=col>&lt;chr&gt;</th></tr>\n",
       "</thead>\n",
       "<tbody>\n",
       "\t<tr><td>MySQL</td><td>MySQL--</td><td>--MySQL</td></tr>\n",
       "</tbody>\n",
       "</table>\n"
      ],
      "text/latex": [
       "A data.frame: 1 × 3\n",
       "\\begin{tabular}{lll}\n",
       " TRIM('  MySQL  ') & TRIM(LEADING '-' FROM '--MySQL--') & TRIM(TRAILING '-' FROM '--MySQL--')\\\\\n",
       " <chr> & <chr> & <chr>\\\\\n",
       "\\hline\n",
       "\t MySQL & MySQL-- & --MySQL\\\\\n",
       "\\end{tabular}\n"
      ],
      "text/markdown": [
       "\n",
       "A data.frame: 1 × 3\n",
       "\n",
       "| TRIM('  MySQL  ') &lt;chr&gt; | TRIM(LEADING '-' FROM '--MySQL--') &lt;chr&gt; | TRIM(TRAILING '-' FROM '--MySQL--') &lt;chr&gt; |\n",
       "|---|---|---|\n",
       "| MySQL | MySQL-- | --MySQL |\n",
       "\n"
      ],
      "text/plain": [
       "  TRIM('  MySQL  ') TRIM(LEADING '-' FROM '--MySQL--')\n",
       "1 MySQL             MySQL--                           \n",
       "  TRIM(TRAILING '-' FROM '--MySQL--')\n",
       "1 --MySQL                            "
      ]
     },
     "metadata": {},
     "output_type": "display_data"
    }
   ],
   "source": [
    "dbGetQuery(conn, \"SELECT TRIM('  MySQL  '),\n",
    "                         TRIM(LEADING '-' FROM '--MySQL--'),\n",
    "                         TRIM(TRAILING '-' FROM '--MySQL--')\")"
   ]
  },
  {
   "cell_type": "markdown",
   "id": "81269c9d",
   "metadata": {},
   "source": [
    "### ```FORMAT``` : 숫자 타입의 데이터를 세 자리마다 쉼표를 사용하는 형식으로 변환 "
   ]
  },
  {
   "cell_type": "code",
   "execution_count": 114,
   "id": "9447b6b1",
   "metadata": {},
   "outputs": [
    {
     "data": {
      "text/html": [
       "<table class=\"dataframe\">\n",
       "<caption>A data.frame: 1 × 1</caption>\n",
       "<thead>\n",
       "\t<tr><th scope=col>FORMAT('123123123123123123123', 7)</th></tr>\n",
       "\t<tr><th scope=col>&lt;chr&gt;</th></tr>\n",
       "</thead>\n",
       "<tbody>\n",
       "\t<tr><td>123,123,123,123,123,130,000.0000000</td></tr>\n",
       "</tbody>\n",
       "</table>\n"
      ],
      "text/latex": [
       "A data.frame: 1 × 1\n",
       "\\begin{tabular}{l}\n",
       " FORMAT('123123123123123123123', 7)\\\\\n",
       " <chr>\\\\\n",
       "\\hline\n",
       "\t 123,123,123,123,123,130,000.0000000\\\\\n",
       "\\end{tabular}\n"
      ],
      "text/markdown": [
       "\n",
       "A data.frame: 1 × 1\n",
       "\n",
       "| FORMAT('123123123123123123123', 7) &lt;chr&gt; |\n",
       "|---|\n",
       "| 123,123,123,123,123,130,000.0000000 |\n",
       "\n"
      ],
      "text/plain": [
       "  FORMAT('123123123123123123123', 7) \n",
       "1 123,123,123,123,123,130,000.0000000"
      ]
     },
     "metadata": {},
     "output_type": "display_data"
    }
   ],
   "source": [
    "dbGetQuery(conn, \"SELECT FORMAT('123123123123123123123', 7);\") \n",
    "# 7자리 소수점까지 표시 "
   ]
  },
  {
   "cell_type": "markdown",
   "id": "28340b95",
   "metadata": {},
   "source": [
    "### 2. 수학 함수"
   ]
  },
  {
   "cell_type": "markdown",
   "id": "0a7bfd65",
   "metadata": {},
   "source": [
    "### ```SORT``` : 양의 제곱근\n",
    "### ```POW``` : 거듭 제곱\n",
    "### ```EXP``` : 지수의 거듭 제곱\n",
    "### ```LOG``` : 자연로그 값"
   ]
  },
  {
   "cell_type": "code",
   "execution_count": 115,
   "id": "6f3b0026",
   "metadata": {},
   "outputs": [
    {
     "data": {
      "text/html": [
       "<table class=\"dataframe\">\n",
       "<caption>A data.frame: 1 × 4</caption>\n",
       "<thead>\n",
       "\t<tr><th scope=col>SQRT(3)</th><th scope=col>POW(2, 3)</th><th scope=col>EXP(3)</th><th scope=col>LOG(3)</th></tr>\n",
       "\t<tr><th scope=col>&lt;dbl&gt;</th><th scope=col>&lt;dbl&gt;</th><th scope=col>&lt;dbl&gt;</th><th scope=col>&lt;dbl&gt;</th></tr>\n",
       "</thead>\n",
       "<tbody>\n",
       "\t<tr><td>1.732051</td><td>8</td><td>20.08554</td><td>1.098612</td></tr>\n",
       "</tbody>\n",
       "</table>\n"
      ],
      "text/latex": [
       "A data.frame: 1 × 4\n",
       "\\begin{tabular}{llll}\n",
       " SQRT(3) & POW(2, 3) & EXP(3) & LOG(3)\\\\\n",
       " <dbl> & <dbl> & <dbl> & <dbl>\\\\\n",
       "\\hline\n",
       "\t 1.732051 & 8 & 20.08554 & 1.098612\\\\\n",
       "\\end{tabular}\n"
      ],
      "text/markdown": [
       "\n",
       "A data.frame: 1 × 4\n",
       "\n",
       "| SQRT(3) &lt;dbl&gt; | POW(2, 3) &lt;dbl&gt; | EXP(3) &lt;dbl&gt; | LOG(3) &lt;dbl&gt; |\n",
       "|---|---|---|---|\n",
       "| 1.732051 | 8 | 20.08554 | 1.098612 |\n",
       "\n"
      ],
      "text/plain": [
       "  SQRT(3)  POW(2, 3) EXP(3)   LOG(3)  \n",
       "1 1.732051 8         20.08554 1.098612"
      ]
     },
     "metadata": {},
     "output_type": "display_data"
    }
   ],
   "source": [
    "dbGetQuery(conn, \"SELECT SQRT(3), POW(2, 3), EXP(3), LOG(3);\")"
   ]
  },
  {
   "cell_type": "markdown",
   "id": "36d330b8",
   "metadata": {},
   "source": [
    "### ```SIN``` / ```COS``` / ```TAN``` : 삼각함수 "
   ]
  },
  {
   "cell_type": "code",
   "execution_count": 119,
   "id": "05297ec3",
   "metadata": {},
   "outputs": [
    {
     "data": {
      "text/html": [
       "<table class=\"dataframe\">\n",
       "<caption>A data.frame: 1 × 3</caption>\n",
       "<thead>\n",
       "\t<tr><th scope=col>SIN(PI() / 2)</th><th scope=col>COS(PI() / 2)</th><th scope=col>TAN(PI() / 2)</th></tr>\n",
       "\t<tr><th scope=col>&lt;dbl&gt;</th><th scope=col>&lt;dbl&gt;</th><th scope=col>&lt;dbl&gt;</th></tr>\n",
       "</thead>\n",
       "<tbody>\n",
       "\t<tr><td>1</td><td>6.123234e-17</td><td>1.633124e+16</td></tr>\n",
       "</tbody>\n",
       "</table>\n"
      ],
      "text/latex": [
       "A data.frame: 1 × 3\n",
       "\\begin{tabular}{lll}\n",
       " SIN(PI() / 2) & COS(PI() / 2) & TAN(PI() / 2)\\\\\n",
       " <dbl> & <dbl> & <dbl>\\\\\n",
       "\\hline\n",
       "\t 1 & 6.123234e-17 & 1.633124e+16\\\\\n",
       "\\end{tabular}\n"
      ],
      "text/markdown": [
       "\n",
       "A data.frame: 1 × 3\n",
       "\n",
       "| SIN(PI() / 2) &lt;dbl&gt; | COS(PI() / 2) &lt;dbl&gt; | TAN(PI() / 2) &lt;dbl&gt; |\n",
       "|---|---|---|\n",
       "| 1 | 6.123234e-17 | 1.633124e+16 |\n",
       "\n"
      ],
      "text/plain": [
       "  SIN(PI() / 2) COS(PI() / 2) TAN(PI() / 2)\n",
       "1 1             6.123234e-17  1.633124e+16 "
      ]
     },
     "metadata": {},
     "output_type": "display_data"
    }
   ],
   "source": [
    "dbGetQuery(conn, \"SELECT SIN(PI() / 2), COS(PI() / 2), TAN(PI() / 2);\")"
   ]
  },
  {
   "cell_type": "markdown",
   "id": "3fa0336f",
   "metadata": {},
   "source": [
    "### ```ABS```, ```RAND``` : 절댓값 / 0 ~ 1사이 랜덤 실수"
   ]
  },
  {
   "cell_type": "code",
   "execution_count": 121,
   "id": "eca626a9",
   "metadata": {},
   "outputs": [
    {
     "data": {
      "text/html": [
       "<table class=\"dataframe\">\n",
       "<caption>A data.frame: 1 × 3</caption>\n",
       "<thead>\n",
       "\t<tr><th scope=col>ABS(-5)</th><th scope=col>RAND()</th><th scope=col>ROUND(RAND()*100, 3)</th></tr>\n",
       "\t<tr><th scope=col>&lt;dbl&gt;</th><th scope=col>&lt;dbl&gt;</th><th scope=col>&lt;dbl&gt;</th></tr>\n",
       "</thead>\n",
       "<tbody>\n",
       "\t<tr><td>5</td><td>0.7833786</td><td>97.472</td></tr>\n",
       "</tbody>\n",
       "</table>\n"
      ],
      "text/latex": [
       "A data.frame: 1 × 3\n",
       "\\begin{tabular}{lll}\n",
       " ABS(-5) & RAND() & ROUND(RAND()*100, 3)\\\\\n",
       " <dbl> & <dbl> & <dbl>\\\\\n",
       "\\hline\n",
       "\t 5 & 0.7833786 & 97.472\\\\\n",
       "\\end{tabular}\n"
      ],
      "text/markdown": [
       "\n",
       "A data.frame: 1 × 3\n",
       "\n",
       "| ABS(-5) &lt;dbl&gt; | RAND() &lt;dbl&gt; | ROUND(RAND()*100, 3) &lt;dbl&gt; |\n",
       "|---|---|---|\n",
       "| 5 | 0.7833786 | 97.472 |\n",
       "\n"
      ],
      "text/plain": [
       "  ABS(-5) RAND()    ROUND(RAND()*100, 3)\n",
       "1 5       0.7833786 97.472              "
      ]
     },
     "metadata": {},
     "output_type": "display_data"
    }
   ],
   "source": [
    "dbGetQuery(conn, \"SELECT ABS(-5), RAND(), ROUND(RAND()*100, 3);\")"
   ]
  },
  {
   "cell_type": "markdown",
   "id": "6e30d517",
   "metadata": {},
   "source": [
    "### 3. 날짜와 시간 함수"
   ]
  },
  {
   "cell_type": "markdown",
   "id": "c49d1b26",
   "metadata": {},
   "source": [
    "### ```NOW``` : 현재 날짜와 시간을 반환 (YYYY-MM-DD HH:MM:SS | YYYYMMDDHHMMSS)\n",
    "### ```CURDATE``` : 현재 날짜를 반환 (YYYY-MM-DD | YYYYMMDD)\n",
    "### ```CURTIME``` : 현재 시각을 반환 (HH:MM:SS | HHMMSS)\n",
    "### ```CURRENT_TIMESTAMP``` : 오늘 날짜 및 시간\n",
    "### ```DATEDIFF``` : 시간 차이"
   ]
  },
  {
   "cell_type": "code",
   "execution_count": 125,
   "id": "a7a4b2c0",
   "metadata": {},
   "outputs": [
    {
     "data": {
      "text/html": [
       "<table class=\"dataframe\">\n",
       "<caption>A data.frame: 1 × 4</caption>\n",
       "<thead>\n",
       "\t<tr><th scope=col>NOW()</th><th scope=col>CURDATE()</th><th scope=col>CURTIME()</th><th scope=col>DATEDIFF(CURDATE(), '2021-06-25')</th></tr>\n",
       "\t<tr><th scope=col>&lt;chr&gt;</th><th scope=col>&lt;chr&gt;</th><th scope=col>&lt;chr&gt;</th><th scope=col>&lt;dbl&gt;</th></tr>\n",
       "</thead>\n",
       "<tbody>\n",
       "\t<tr><td>2022-06-25 00:15:14</td><td>2022-06-25</td><td>00:15:14</td><td>365</td></tr>\n",
       "</tbody>\n",
       "</table>\n"
      ],
      "text/latex": [
       "A data.frame: 1 × 4\n",
       "\\begin{tabular}{llll}\n",
       " NOW() & CURDATE() & CURTIME() & DATEDIFF(CURDATE(), '2021-06-25')\\\\\n",
       " <chr> & <chr> & <chr> & <dbl>\\\\\n",
       "\\hline\n",
       "\t 2022-06-25 00:15:14 & 2022-06-25 & 00:15:14 & 365\\\\\n",
       "\\end{tabular}\n"
      ],
      "text/markdown": [
       "\n",
       "A data.frame: 1 × 4\n",
       "\n",
       "| NOW() &lt;chr&gt; | CURDATE() &lt;chr&gt; | CURTIME() &lt;chr&gt; | DATEDIFF(CURDATE(), '2021-06-25') &lt;dbl&gt; |\n",
       "|---|---|---|---|\n",
       "| 2022-06-25 00:15:14 | 2022-06-25 | 00:15:14 | 365 |\n",
       "\n"
      ],
      "text/plain": [
       "  NOW()               CURDATE()  CURTIME() DATEDIFF(CURDATE(), '2021-06-25')\n",
       "1 2022-06-25 00:15:14 2022-06-25 00:15:14  365                              "
      ]
     },
     "metadata": {},
     "output_type": "display_data"
    }
   ],
   "source": [
    "dbGetQuery(conn, \"SELECT NOW(), CURDATE(), CURTIME(), \n",
    "                         DATEDIFF(CURDATE(), '2021-06-25');\")"
   ]
  },
  {
   "cell_type": "markdown",
   "id": "b097a146",
   "metadata": {},
   "source": [
    "### ```DATE```/ ```MONTH```/ ```DAY```/ ```HOUR```/ ```MINUTE```/ ```SECOND```"
   ]
  },
  {
   "cell_type": "code",
   "execution_count": 123,
   "id": "510cbbf2",
   "metadata": {},
   "outputs": [
    {
     "data": {
      "text/html": [
       "<table class=\"dataframe\">\n",
       "<caption>A data.frame: 1 × 6</caption>\n",
       "<thead>\n",
       "\t<tr><th scope=col>DATE(NOW())</th><th scope=col>MONTH(NOW())</th><th scope=col>DAY(NOW())</th><th scope=col>HOUR(NOW())</th><th scope=col>MINUTE(NOW())</th><th scope=col>SECOND(NOW())</th></tr>\n",
       "\t<tr><th scope=col>&lt;chr&gt;</th><th scope=col>&lt;dbl&gt;</th><th scope=col>&lt;dbl&gt;</th><th scope=col>&lt;dbl&gt;</th><th scope=col>&lt;dbl&gt;</th><th scope=col>&lt;dbl&gt;</th></tr>\n",
       "</thead>\n",
       "<tbody>\n",
       "\t<tr><td>2022-06-25</td><td>6</td><td>25</td><td>0</td><td>14</td><td>22</td></tr>\n",
       "</tbody>\n",
       "</table>\n"
      ],
      "text/latex": [
       "A data.frame: 1 × 6\n",
       "\\begin{tabular}{llllll}\n",
       " DATE(NOW()) & MONTH(NOW()) & DAY(NOW()) & HOUR(NOW()) & MINUTE(NOW()) & SECOND(NOW())\\\\\n",
       " <chr> & <dbl> & <dbl> & <dbl> & <dbl> & <dbl>\\\\\n",
       "\\hline\n",
       "\t 2022-06-25 & 6 & 25 & 0 & 14 & 22\\\\\n",
       "\\end{tabular}\n"
      ],
      "text/markdown": [
       "\n",
       "A data.frame: 1 × 6\n",
       "\n",
       "| DATE(NOW()) &lt;chr&gt; | MONTH(NOW()) &lt;dbl&gt; | DAY(NOW()) &lt;dbl&gt; | HOUR(NOW()) &lt;dbl&gt; | MINUTE(NOW()) &lt;dbl&gt; | SECOND(NOW()) &lt;dbl&gt; |\n",
       "|---|---|---|---|---|---|\n",
       "| 2022-06-25 | 6 | 25 | 0 | 14 | 22 |\n",
       "\n"
      ],
      "text/plain": [
       "  DATE(NOW()) MONTH(NOW()) DAY(NOW()) HOUR(NOW()) MINUTE(NOW()) SECOND(NOW())\n",
       "1 2022-06-25  6            25         0           14            22           "
      ]
     },
     "metadata": {},
     "output_type": "display_data"
    }
   ],
   "source": [
    "dbGetQuery(conn, \"SELECT DATE(NOW()), MONTH(NOW()), DAY(NOW()), HOUR(NOW()), MINUTE(NOW()), SECOND(NOW());\")"
   ]
  },
  {
   "cell_type": "markdown",
   "id": "701ade3e",
   "metadata": {},
   "source": [
    "### ```MONTHNAME``` / ```DAYNAME```"
   ]
  },
  {
   "cell_type": "code",
   "execution_count": 124,
   "id": "b637491f",
   "metadata": {},
   "outputs": [
    {
     "data": {
      "text/html": [
       "<table class=\"dataframe\">\n",
       "<caption>A data.frame: 1 × 2</caption>\n",
       "<thead>\n",
       "\t<tr><th scope=col>MONTHNAME(CURDATE())</th><th scope=col>DAYNAME(CURDATE())</th></tr>\n",
       "\t<tr><th scope=col>&lt;chr&gt;</th><th scope=col>&lt;chr&gt;</th></tr>\n",
       "</thead>\n",
       "<tbody>\n",
       "\t<tr><td>June</td><td>Saturday</td></tr>\n",
       "</tbody>\n",
       "</table>\n"
      ],
      "text/latex": [
       "A data.frame: 1 × 2\n",
       "\\begin{tabular}{ll}\n",
       " MONTHNAME(CURDATE()) & DAYNAME(CURDATE())\\\\\n",
       " <chr> & <chr>\\\\\n",
       "\\hline\n",
       "\t June & Saturday\\\\\n",
       "\\end{tabular}\n"
      ],
      "text/markdown": [
       "\n",
       "A data.frame: 1 × 2\n",
       "\n",
       "| MONTHNAME(CURDATE()) &lt;chr&gt; | DAYNAME(CURDATE()) &lt;chr&gt; |\n",
       "|---|---|\n",
       "| June | Saturday |\n",
       "\n"
      ],
      "text/plain": [
       "  MONTHNAME(CURDATE()) DAYNAME(CURDATE())\n",
       "1 June                 Saturday          "
      ]
     },
     "metadata": {},
     "output_type": "display_data"
    }
   ],
   "source": [
    "dbGetQuery(conn, \"SELECT MONTHNAME(CURDATE()), DAYNAME(CURDATE());\")"
   ]
  },
  {
   "cell_type": "markdown",
   "id": "f189c3de",
   "metadata": {},
   "source": [
    "### ```DAYOFWEEK``` : 일자가 해당 주에서 변번째 날인지 변환\n",
    "### ```DAYOFMONTH``` : 일자가 해당 월에서 몇번째 날인지 변환\n",
    "### ```DAYOFYEAR``` : 일자가 해당 연도에서 몇번째 날인지 반환"
   ]
  },
  {
   "cell_type": "code",
   "execution_count": 126,
   "id": "24246f82",
   "metadata": {},
   "outputs": [
    {
     "data": {
      "text/html": [
       "<table class=\"dataframe\">\n",
       "<caption>A data.frame: 1 × 3</caption>\n",
       "<thead>\n",
       "\t<tr><th scope=col>DAYOFWEEK(CURDATE())</th><th scope=col>DAYOFMONTH(CURDATE())</th><th scope=col>DAYOFYEAR(CURDATE())</th></tr>\n",
       "\t<tr><th scope=col>&lt;dbl&gt;</th><th scope=col>&lt;dbl&gt;</th><th scope=col>&lt;dbl&gt;</th></tr>\n",
       "</thead>\n",
       "<tbody>\n",
       "\t<tr><td>7</td><td>25</td><td>176</td></tr>\n",
       "</tbody>\n",
       "</table>\n"
      ],
      "text/latex": [
       "A data.frame: 1 × 3\n",
       "\\begin{tabular}{lll}\n",
       " DAYOFWEEK(CURDATE()) & DAYOFMONTH(CURDATE()) & DAYOFYEAR(CURDATE())\\\\\n",
       " <dbl> & <dbl> & <dbl>\\\\\n",
       "\\hline\n",
       "\t 7 & 25 & 176\\\\\n",
       "\\end{tabular}\n"
      ],
      "text/markdown": [
       "\n",
       "A data.frame: 1 × 3\n",
       "\n",
       "| DAYOFWEEK(CURDATE()) &lt;dbl&gt; | DAYOFMONTH(CURDATE()) &lt;dbl&gt; | DAYOFYEAR(CURDATE()) &lt;dbl&gt; |\n",
       "|---|---|---|\n",
       "| 7 | 25 | 176 |\n",
       "\n"
      ],
      "text/plain": [
       "  DAYOFWEEK(CURDATE()) DAYOFMONTH(CURDATE()) DAYOFYEAR(CURDATE())\n",
       "1 7                    25                    176                 "
      ]
     },
     "metadata": {},
     "output_type": "display_data"
    }
   ],
   "source": [
    "dbGetQuery(conn, \"SELECT DAYOFWEEK(CURDATE()), DAYOFMONTH(CURDATE()), DAYOFYEAR(CURDATE());\")"
   ]
  },
  {
   "cell_type": "markdown",
   "id": "ac8a54b8",
   "metadata": {},
   "source": [
    "### ```DATE_FORMAT``` : 전달받은 형식에 맞춰 날짜와 시간정보를 문자열ㄹ로 반환"
   ]
  },
  {
   "cell_type": "code",
   "execution_count": 130,
   "id": "3b531d4a",
   "metadata": {},
   "outputs": [
    {
     "data": {
      "text/html": [
       "<table class=\"dataframe\">\n",
       "<caption>A data.frame: 1 × 1</caption>\n",
       "<thead>\n",
       "\t<tr><th scope=col>DATE_FORMAT(NOW(), '%D %M %Y')</th></tr>\n",
       "\t<tr><th scope=col>&lt;chr&gt;</th></tr>\n",
       "</thead>\n",
       "<tbody>\n",
       "\t<tr><td>25th June 2022</td></tr>\n",
       "</tbody>\n",
       "</table>\n"
      ],
      "text/latex": [
       "A data.frame: 1 × 1\n",
       "\\begin{tabular}{l}\n",
       " DATE\\_FORMAT(NOW(), '\\%D \\%M \\%Y')\\\\\n",
       " <chr>\\\\\n",
       "\\hline\n",
       "\t 25th June 2022\\\\\n",
       "\\end{tabular}\n"
      ],
      "text/markdown": [
       "\n",
       "A data.frame: 1 × 1\n",
       "\n",
       "| DATE_FORMAT(NOW(), '%D %M %Y') &lt;chr&gt; |\n",
       "|---|\n",
       "| 25th June 2022 |\n",
       "\n"
      ],
      "text/plain": [
       "  DATE_FORMAT(NOW(), '%D %M %Y')\n",
       "1 25th June 2022                "
      ]
     },
     "metadata": {},
     "output_type": "display_data"
    }
   ],
   "source": [
    "dbGetQuery(conn, \"SELECT DATE_FORMAT(NOW(), '%D %M %Y');\")"
   ]
  }
 ],
 "metadata": {
  "kernelspec": {
   "display_name": "R 4.1.3",
   "language": "R",
   "name": "ir32"
  },
  "language_info": {
   "codemirror_mode": "r",
   "file_extension": ".r",
   "mimetype": "text/x-r-source",
   "name": "R",
   "pygments_lexer": "r",
   "version": "4.1.3"
  }
 },
 "nbformat": 4,
 "nbformat_minor": 5
}
