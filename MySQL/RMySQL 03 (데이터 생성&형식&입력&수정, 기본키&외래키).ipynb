{
 "cells": [
  {
   "cell_type": "markdown",
   "id": "aa9421ab",
   "metadata": {},
   "source": [
    "### DBMS분류 \n",
    "- 계층형 DBMS : 트리 형태\n",
    "- 망형 DBMS\n",
    "- 관계형 DBMS : RDBMS, 대부분의 DBMS, 테이블 구성(열, 행)\n",
    "\n",
    "### 폭포수 모델 : 각 단계가 구분되어 프로젝트의 진행 단계가 명확. but 앞 단계로 돌아가기가 어려움\n",
    "- 1. 프로젝트 계획 : 마트의 물건을 온라인으로 판매하기 위해 계획\n",
    "- 2. 업무 분석 : 마트에서의 업무 파악 (어떻게 물건을 들이는가? 물건을 어떻게 계산하는가?)\n",
    "- 3. 시스템 설계 : 업무 분석을 컴퓨터에 적용시키기 위해 더듬는 과정\n",
    "- 4. 프로그램 구현 : 실제 프로그래밍 언어로 코딩\n",
    "- 5. 테스트 : 코딩된 프로그램에 오류 확인\n",
    "- 6. 유지보수 : 운영하면서 기능 보완, 추가\n",
    "\n",
    "## 데이터베이스 모델링 : 현실세계 작업을 DBMS의 개체로 전환\n",
    "\n",
    "### 데이터베이스 구성\n",
    "- 데이터 : 하나의 단편적 정보\n",
    "- 테이블 : 데이터를 입력하기 위해 표 형태로 표현\n",
    "- 데이터베이스 : 테이블이 저장되는 저장소\n",
    "- DBMS : 데이터베이스 관리 시스템 (MySQL)\n",
    "- 열 : 테이블 세로\n",
    "- 열 이름\n",
    "- 데이터 형식 : 정수, 문자, 실수 etc\n",
    "- 행 : 실질적인 데이터\n",
    "- 기본 키 (Primary key) : 행을 구분하는 유일한 열, 중복X, 공백X (ID, 주민번호)\n",
    "- SQL : 구조화된 질의 언어\n",
    "\n",
    "데디터베이스 생성 : [Schemas] - 마우스 우클릭 [Create Schemas]\n",
    "\n",
    "테이블 생성 : [File] - [New Model] - [Add Diagram] - Place a new table (단축키 : t) - 클릭\n"
   ]
  },
  {
   "cell_type": "markdown",
   "id": "c5fa5506",
   "metadata": {},
   "source": [
    "### 데이터베이스 구축 절차\n",
    "1. 데이터베이스 생성\n",
    "2. 테이블 생성\n",
    "3. 데이터 입력/수정/삭제\n",
    "4. 데이터 조회/활용\n",
    "\n",
    "(스키마 = 데이터베이스)\n",
    "\n",
    "#### 테이블 생성\n",
    "- 선택 스키마 -> Tables 우클릭 -> Create Table -> Apply\n",
    "- PK : 기본키, NN (Not Null)\n",
    "\n",
    "#### 데이터 입력 : 선택 테이블 우클릭 -> Select Rows -> Result Grid에 입력 -> Apply\n",
    "```sql\n",
    "INSERT INTO 테이블명 VALUES( ‘ ’, ‘ ’, ... )\n",
    "```\n",
    "#### 데이터 삭제 : Result Grid내 행 우클릭 -> Delete Row\n",
    "- 기본 키 – 외래 키 관계로 연결된 테이블은, 외래 키가 설정된 테이블을 먼저 삭제"
   ]
  },
  {
   "cell_type": "code",
   "execution_count": null,
   "id": "50413d18",
   "metadata": {},
   "outputs": [],
   "source": [
    "library(tidyverse)\n",
    "library(RMySQL)"
   ]
  },
  {
   "cell_type": "markdown",
   "id": "516fc271",
   "metadata": {},
   "source": [
    "### ```CREATE DATABASE``` : DB 생성"
   ]
  },
  {
   "cell_type": "code",
   "execution_count": 7,
   "id": "a1abaaf4",
   "metadata": {},
   "outputs": [
    {
     "data": {
      "text/html": [],
      "text/latex": [],
      "text/markdown": [],
      "text/plain": [
       "<0 x 0 matrix>"
      ]
     },
     "metadata": {},
     "output_type": "display_data"
    }
   ],
   "source": [
    "dbGetQuery(conn, \"CREATE DATABASE SSOL\")"
   ]
  },
  {
   "cell_type": "code",
   "execution_count": 8,
   "id": "04b2185f",
   "metadata": {},
   "outputs": [
    {
     "data": {
      "text/html": [],
      "text/latex": [],
      "text/markdown": [],
      "text/plain": [
       "<0 x 0 matrix>"
      ]
     },
     "metadata": {},
     "output_type": "display_data"
    }
   ],
   "source": [
    "dbGetQuery(conn, \"USE SSOL\")"
   ]
  },
  {
   "cell_type": "markdown",
   "id": "c83d2fd5",
   "metadata": {},
   "source": [
    "### ```CREATE TABLE``` : 테이블 생성"
   ]
  },
  {
   "cell_type": "markdown",
   "id": "19b7290b",
   "metadata": {},
   "source": [
    "### 데이터 형식"
   ]
  },
  {
   "cell_type": "markdown",
   "id": "c9a7bd19",
   "metadata": {},
   "source": [
    "#### 1. 정수형\n",
    "| **데이터 형식** | **바이트** | **범위** |\n",
    "| -- | -- |-- | \n",
    "| TINYINT | 1 | -127 ~ 127 |\n",
    "| SMALLINT | 2 | -32768 ~ 32767 |\n",
    "| INT | 4 | -21억 ~ 21억 |\n",
    "| BIGINT | 8 | -900경 ~ 900경 |\n",
    "\n",
    "### ```UNSIGNED``` : 정수형 값의 범위가 0부터 시작\n",
    "\n",
    "#### 2. 문자형\n",
    "| **데이터 형식** | **바이트** | |\n",
    "| -- | -- | -- |\n",
    "| CHAR | 1 ~ 255 | 고정길이 문자형 |\n",
    "| VARCHAR | 1 ~ 16383 | 가변길이 문자형 | \n",
    "\n",
    "#### 3. 대량 데이터\n",
    "| **데이터 형식** | **바이트** | **범위** |\n",
    "| -- | -- | -- |\n",
    "| TEXT | TEXT  | 1 ~ 65535 |\n",
    "| | LONGTEXT  | 1 ~ 4294967295 |\n",
    "| BLOB [이미지/동영상/데이터] | BLOB | 1 ~ 65535 |\n",
    "| | LONGBLOB | 1 ~ 4294267295 |\n",
    "\n",
    "#### 4. 실수형\n",
    "| **데이터 형식** | **바이트** | |\n",
    "| -- | -- | -- |\n",
    "| FLOAT | 4 | 소수점 아래 7자리까지 표현 |\n",
    "| DOUBLE | 8 | 소수점 아래 15자리까지 표현 |\n",
    "\n",
    "#### 5. 날짜형\n",
    "| **데이터 형식** | **바이트** | |\n",
    "| -- | -- | -- |\n",
    "| DATE | 3 | YYYY-MM-DD | \n",
    "| TIME | 3 | HH:MM:SS | \n",
    "| DATETIME | 8 | YYYY-MM-DD HH:MM:SS |\n",
    "\n"
   ]
  },
  {
   "cell_type": "code",
   "execution_count": 91,
   "id": "d522b810",
   "metadata": {},
   "outputs": [
    {
     "data": {
      "text/html": [],
      "text/latex": [],
      "text/markdown": [],
      "text/plain": [
       "<0 x 0 matrix>"
      ]
     },
     "metadata": {},
     "output_type": "display_data"
    }
   ],
   "source": [
    "dbGetQuery(conn, \"CREATE TABLE table2 (\n",
    "                  id INT NOT NULL PRIMARY KEY,\n",
    "                  col1 INT UNSIGNED NULL,\n",
    "                  col2 FLOAT NULL,\n",
    "                  col3 VARCHAR(45) NULL)\")"
   ]
  },
  {
   "cell_type": "markdown",
   "id": "ba5c1226",
   "metadata": {},
   "source": [
    "### ```CREATE TABLE AS SELECT```"
   ]
  },
  {
   "cell_type": "code",
   "execution_count": 88,
   "id": "ce70e9b6",
   "metadata": {
    "scrolled": true
   },
   "outputs": [
    {
     "data": {
      "text/html": [
       "<table class=\"dataframe\">\n",
       "<caption>A data.frame: 3 × 5</caption>\n",
       "<thead>\n",
       "\t<tr><th></th><th scope=col>ID</th><th scope=col>Name</th><th scope=col>CountryCode</th><th scope=col>District</th><th scope=col>Population</th></tr>\n",
       "\t<tr><th></th><th scope=col>&lt;int&gt;</th><th scope=col>&lt;chr&gt;</th><th scope=col>&lt;chr&gt;</th><th scope=col>&lt;chr&gt;</th><th scope=col>&lt;int&gt;</th></tr>\n",
       "</thead>\n",
       "<tbody>\n",
       "\t<tr><th scope=row>1</th><td>1</td><td>Kabul   </td><td>AFG</td><td>Kabol   </td><td>1780000</td></tr>\n",
       "\t<tr><th scope=row>2</th><td>2</td><td>Qandahar</td><td>AFG</td><td>Qandahar</td><td> 237500</td></tr>\n",
       "\t<tr><th scope=row>3</th><td>3</td><td>Herat   </td><td>AFG</td><td>Herat   </td><td> 186800</td></tr>\n",
       "</tbody>\n",
       "</table>\n"
      ],
      "text/latex": [
       "A data.frame: 3 × 5\n",
       "\\begin{tabular}{r|lllll}\n",
       "  & ID & Name & CountryCode & District & Population\\\\\n",
       "  & <int> & <chr> & <chr> & <chr> & <int>\\\\\n",
       "\\hline\n",
       "\t1 & 1 & Kabul    & AFG & Kabol    & 1780000\\\\\n",
       "\t2 & 2 & Qandahar & AFG & Qandahar &  237500\\\\\n",
       "\t3 & 3 & Herat    & AFG & Herat    &  186800\\\\\n",
       "\\end{tabular}\n"
      ],
      "text/markdown": [
       "\n",
       "A data.frame: 3 × 5\n",
       "\n",
       "| <!--/--> | ID &lt;int&gt; | Name &lt;chr&gt; | CountryCode &lt;chr&gt; | District &lt;chr&gt; | Population &lt;int&gt; |\n",
       "|---|---|---|---|---|---|\n",
       "| 1 | 1 | Kabul    | AFG | Kabol    | 1780000 |\n",
       "| 2 | 2 | Qandahar | AFG | Qandahar |  237500 |\n",
       "| 3 | 3 | Herat    | AFG | Herat    |  186800 |\n",
       "\n"
      ],
      "text/plain": [
       "  ID Name     CountryCode District Population\n",
       "1 1  Kabul    AFG         Kabol    1780000   \n",
       "2 2  Qandahar AFG         Qandahar  237500   \n",
       "3 3  Herat    AFG         Herat     186800   "
      ]
     },
     "metadata": {},
     "output_type": "display_data"
    }
   ],
   "source": [
    "# city의 테이블로 city2를 생성\n",
    "dbGetQuery(conn, \"CREATE TABLE city2 AS SELECT * FROM city;\")\n",
    "dbGetQuery(conn, \"SELECT * FROM city2;\") "
   ]
  },
  {
   "cell_type": "markdown",
   "id": "430b06a2",
   "metadata": {},
   "source": [
    "### 데이터 형 변환 : 문자를 정수형 or 정수를 문자형으로\n",
    "### ```CAST ~ AS``` / ```CONVERT``` : 함수를 사용한 명시적인 변환"
   ]
  },
  {
   "cell_type": "markdown",
   "id": "3c61b8bf",
   "metadata": {},
   "source": [
    "**buy테이블의 price에 대한 평균을, 부호가 있는 정수(SIGNED)로 변환**"
   ]
  },
  {
   "cell_type": "code",
   "execution_count": 147,
   "id": "6eca4b07",
   "metadata": {},
   "outputs": [
    {
     "data": {
      "text/html": [
       "<table class=\"dataframe\">\n",
       "<caption>A data.frame: 1 × 1</caption>\n",
       "<thead>\n",
       "\t<tr><th scope=col>AVG</th></tr>\n",
       "\t<tr><th scope=col>&lt;dbl&gt;</th></tr>\n",
       "</thead>\n",
       "<tbody>\n",
       "\t<tr><td>143</td></tr>\n",
       "</tbody>\n",
       "</table>\n"
      ],
      "text/latex": [
       "A data.frame: 1 × 1\n",
       "\\begin{tabular}{l}\n",
       " AVG\\\\\n",
       " <dbl>\\\\\n",
       "\\hline\n",
       "\t 143\\\\\n",
       "\\end{tabular}\n"
      ],
      "text/markdown": [
       "\n",
       "A data.frame: 1 × 1\n",
       "\n",
       "| AVG &lt;dbl&gt; |\n",
       "|---|\n",
       "| 143 |\n",
       "\n"
      ],
      "text/plain": [
       "  AVG\n",
       "1 143"
      ]
     },
     "metadata": {},
     "output_type": "display_data"
    },
    {
     "data": {
      "text/html": [
       "<table class=\"dataframe\">\n",
       "<caption>A data.frame: 1 × 1</caption>\n",
       "<thead>\n",
       "\t<tr><th scope=col>AVG</th></tr>\n",
       "\t<tr><th scope=col>&lt;dbl&gt;</th></tr>\n",
       "</thead>\n",
       "<tbody>\n",
       "\t<tr><td>143</td></tr>\n",
       "</tbody>\n",
       "</table>\n"
      ],
      "text/latex": [
       "A data.frame: 1 × 1\n",
       "\\begin{tabular}{l}\n",
       " AVG\\\\\n",
       " <dbl>\\\\\n",
       "\\hline\n",
       "\t 143\\\\\n",
       "\\end{tabular}\n"
      ],
      "text/markdown": [
       "\n",
       "A data.frame: 1 × 1\n",
       "\n",
       "| AVG &lt;dbl&gt; |\n",
       "|---|\n",
       "| 143 |\n",
       "\n"
      ],
      "text/plain": [
       "  AVG\n",
       "1 143"
      ]
     },
     "metadata": {},
     "output_type": "display_data"
    }
   ],
   "source": [
    "dbGetQuery(conn, \"SELECT CAST(AVG(price) AS SIGNED) 'AVG' FROM market_db.buy;\")\n",
    "dbGetQuery(conn, \"SELECT CONVERT(AVG(price), SIGNED) 'AVG' FROM market_db.buy;\")"
   ]
  },
  {
   "cell_type": "code",
   "execution_count": 148,
   "id": "d8b6a460",
   "metadata": {},
   "outputs": [
    {
     "data": {
      "text/html": [
       "<table class=\"dataframe\">\n",
       "<caption>A data.frame: 1 × 1</caption>\n",
       "<thead>\n",
       "\t<tr><th scope=col>CAST('2022$12$12' AS DATE)</th></tr>\n",
       "\t<tr><th scope=col>&lt;chr&gt;</th></tr>\n",
       "</thead>\n",
       "<tbody>\n",
       "\t<tr><td>2022-12-12</td></tr>\n",
       "</tbody>\n",
       "</table>\n"
      ],
      "text/latex": [
       "A data.frame: 1 × 1\n",
       "\\begin{tabular}{l}\n",
       " CAST('2022\\$12\\$12' AS DATE)\\\\\n",
       " <chr>\\\\\n",
       "\\hline\n",
       "\t 2022-12-12\\\\\n",
       "\\end{tabular}\n"
      ],
      "text/markdown": [
       "\n",
       "A data.frame: 1 × 1\n",
       "\n",
       "| CAST('2022$12$12' AS DATE) &lt;chr&gt; |\n",
       "|---|\n",
       "| 2022-12-12 |\n",
       "\n"
      ],
      "text/plain": [
       "  CAST('2022$12$12' AS DATE)\n",
       "1 2022-12-12                "
      ]
     },
     "metadata": {},
     "output_type": "display_data"
    }
   ],
   "source": [
    "dbGetQuery(conn, \"SELECT CAST('2022$12$12' AS DATE);\")"
   ]
  },
  {
   "cell_type": "markdown",
   "id": "3d10dc7e",
   "metadata": {},
   "source": [
    "#    \n",
    "\n",
    "## 기본키/외래키"
   ]
  },
  {
   "cell_type": "markdown",
   "id": "f227dbbd",
   "metadata": {},
   "source": [
    "### 제약조건 : 데이터의 무결성을 지키기 위한 조건\n",
    "#### 데이터의 무결성 : 데이터의 결함이 없음 (중복, 공백 등)\n",
    "\n",
    "### ```PRIMARY KEY``` : 기본키\n",
    "- 기본 키 입력값은 중복X, \n",
    "- NULL X\n",
    "- 테이블당 1개\n",
    "\n",
    "#### 기본키 설정"
   ]
  },
  {
   "cell_type": "markdown",
   "id": "500574b1",
   "metadata": {},
   "source": [
    "1. 테이블 생성시 설정"
   ]
  },
  {
   "cell_type": "code",
   "execution_count": 31,
   "id": "4911d1e0",
   "metadata": {},
   "outputs": [
    {
     "data": {
      "text/html": [],
      "text/latex": [],
      "text/markdown": [],
      "text/plain": [
       "<0 x 0 matrix>"
      ]
     },
     "metadata": {},
     "output_type": "display_data"
    }
   ],
   "source": [
    "dbGetQuery(conn, \"CREATE TABLE member (\n",
    "                  mem_id CHAR(8) NOT NULL PRIMARY KEY);\")"
   ]
  },
  {
   "cell_type": "markdown",
   "id": "55a5f946",
   "metadata": {},
   "source": [
    "2. 테이블 생성에서 CONSTRAINT PRIMARY KEY로 제약조건 설정"
   ]
  },
  {
   "cell_type": "code",
   "execution_count": 112,
   "id": "10922634",
   "metadata": {},
   "outputs": [
    {
     "data": {
      "text/html": [],
      "text/latex": [],
      "text/markdown": [],
      "text/plain": [
       "<0 x 0 matrix>"
      ]
     },
     "metadata": {},
     "output_type": "display_data"
    }
   ],
   "source": [
    "dbGetQuery(conn, \"CREATE TABLE member (\n",
    "                  mem_id CHAR(8) NOT NULL, \n",
    "                  CONSTRAINT PRIMARY KEY (mem_id));\")"
   ]
  },
  {
   "cell_type": "markdown",
   "id": "ab362ec5",
   "metadata": {},
   "source": [
    "3. 테이블 생성이후 ALTER TABLE로 제약조건 추가(수정)"
   ]
  },
  {
   "cell_type": "code",
   "execution_count": 124,
   "id": "a3d57b59",
   "metadata": {},
   "outputs": [
    {
     "data": {
      "text/html": [],
      "text/latex": [],
      "text/markdown": [],
      "text/plain": [
       "<0 x 0 matrix>"
      ]
     },
     "metadata": {},
     "output_type": "display_data"
    },
    {
     "data": {
      "text/html": [],
      "text/latex": [],
      "text/markdown": [],
      "text/plain": [
       "<0 x 0 matrix>"
      ]
     },
     "metadata": {},
     "output_type": "display_data"
    }
   ],
   "source": [
    "dbGetQuery(conn, \"CREATE TABLE member (\n",
    "                  mem_id CHAR(8) NOT NULL);\")\n",
    "dbGetQuery(conn, \"ALTER TABLE member\n",
    "                  ADD CONSTRAINT PRIMARY KEY (mem_id);\")"
   ]
  },
  {
   "cell_type": "markdown",
   "id": "44f18246",
   "metadata": {},
   "source": [
    "### ```INSERT``` :  테이블 이름 다음에 나오는 열 생략 가능 \n",
    "- 생략할 경우 VALUE 다음에 나오는 값들의 순서 및 개수가 테이블이 정의된 열 순서 및 개수와 동일해야 함\n",
    "\n",
    "### ```INSERT INTO ~ VALUES``` : 데이터 입력"
   ]
  },
  {
   "cell_type": "code",
   "execution_count": 126,
   "id": "c42327d7",
   "metadata": {},
   "outputs": [
    {
     "data": {
      "text/html": [],
      "text/latex": [],
      "text/markdown": [],
      "text/plain": [
       "<0 x 0 matrix>"
      ]
     },
     "metadata": {},
     "output_type": "display_data"
    }
   ],
   "source": [
    "dbGetQuery(conn, \"INSERT INTO member VALUES ('SPC')\")"
   ]
  },
  {
   "cell_type": "code",
   "execution_count": 127,
   "id": "06bc36f1",
   "metadata": {},
   "outputs": [
    {
     "data": {
      "text/html": [
       "<table class=\"dataframe\">\n",
       "<caption>A data.frame: 1 × 1</caption>\n",
       "<thead>\n",
       "\t<tr><th scope=col>mem_id</th></tr>\n",
       "\t<tr><th scope=col>&lt;chr&gt;</th></tr>\n",
       "</thead>\n",
       "<tbody>\n",
       "\t<tr><td>SPC</td></tr>\n",
       "</tbody>\n",
       "</table>\n"
      ],
      "text/latex": [
       "A data.frame: 1 × 1\n",
       "\\begin{tabular}{l}\n",
       " mem\\_id\\\\\n",
       " <chr>\\\\\n",
       "\\hline\n",
       "\t SPC\\\\\n",
       "\\end{tabular}\n"
      ],
      "text/markdown": [
       "\n",
       "A data.frame: 1 × 1\n",
       "\n",
       "| mem_id &lt;chr&gt; |\n",
       "|---|\n",
       "| SPC |\n",
       "\n"
      ],
      "text/plain": [
       "  mem_id\n",
       "1 SPC   "
      ]
     },
     "metadata": {},
     "output_type": "display_data"
    }
   ],
   "source": [
    "dbGetQuery(conn, \"SELECT * FROM member\")"
   ]
  },
  {
   "cell_type": "markdown",
   "id": "c867700d",
   "metadata": {},
   "source": [
    "### ```INSERT INTO ~ SELECT``` : 다른 테이블의 데이터를 한 번에 입력"
   ]
  },
  {
   "cell_type": "markdown",
   "id": "6bb3b674",
   "metadata": {},
   "source": [
    "**wolrd DB의 city테이블의 Name, Population 컬럼을 popul로 입력**"
   ]
  },
  {
   "cell_type": "code",
   "execution_count": 136,
   "id": "d774fcd0",
   "metadata": {},
   "outputs": [
    {
     "data": {
      "text/html": [],
      "text/latex": [],
      "text/markdown": [],
      "text/plain": [
       "<0 x 0 matrix>"
      ]
     },
     "metadata": {},
     "output_type": "display_data"
    }
   ],
   "source": [
    "dbGetQuery(conn, \"CREATE TABLE popul (\n",
    "                  name CHAR(35), population INT);\")\n",
    "dbGetQuery(conn, \"INSERT INTO popul\n",
    "                  SELECT Name, Population FROM world.city;\")"
   ]
  },
  {
   "cell_type": "code",
   "execution_count": 129,
   "id": "da3fabe1",
   "metadata": {},
   "outputs": [
    {
     "data": {
      "text/html": [
       "<table class=\"dataframe\">\n",
       "<caption>A data.frame: 3 × 2</caption>\n",
       "<thead>\n",
       "\t<tr><th></th><th scope=col>name</th><th scope=col>population</th></tr>\n",
       "\t<tr><th></th><th scope=col>&lt;chr&gt;</th><th scope=col>&lt;int&gt;</th></tr>\n",
       "</thead>\n",
       "<tbody>\n",
       "\t<tr><th scope=row>1</th><td>Kabul   </td><td>1780000</td></tr>\n",
       "\t<tr><th scope=row>2</th><td>Qandahar</td><td> 237500</td></tr>\n",
       "\t<tr><th scope=row>3</th><td>Herat   </td><td> 186800</td></tr>\n",
       "</tbody>\n",
       "</table>\n"
      ],
      "text/latex": [
       "A data.frame: 3 × 2\n",
       "\\begin{tabular}{r|ll}\n",
       "  & name & population\\\\\n",
       "  & <chr> & <int>\\\\\n",
       "\\hline\n",
       "\t1 & Kabul    & 1780000\\\\\n",
       "\t2 & Qandahar &  237500\\\\\n",
       "\t3 & Herat    &  186800\\\\\n",
       "\\end{tabular}\n"
      ],
      "text/markdown": [
       "\n",
       "A data.frame: 3 × 2\n",
       "\n",
       "| <!--/--> | name &lt;chr&gt; | population &lt;int&gt; |\n",
       "|---|---|---|\n",
       "| 1 | Kabul    | 1780000 |\n",
       "| 2 | Qandahar |  237500 |\n",
       "| 3 | Herat    |  186800 |\n",
       "\n"
      ],
      "text/plain": [
       "  name     population\n",
       "1 Kabul    1780000   \n",
       "2 Qandahar  237500   \n",
       "3 Herat     186800   "
      ]
     },
     "metadata": {},
     "output_type": "display_data"
    }
   ],
   "source": [
    "dbGetQuery(conn, \"SELECT * FROM popul\")"
   ]
  },
  {
   "cell_type": "markdown",
   "id": "fc9a403b",
   "metadata": {},
   "source": [
    "### ```ALTER TABLE``` : 테이블 수정"
   ]
  },
  {
   "cell_type": "markdown",
   "id": "6c06baf6",
   "metadata": {},
   "source": [
    "### ```ADD``` : 추가\n",
    "### ```MODIFY``` : 수정\n",
    "### ```DROP``` : 삭제"
   ]
  },
  {
   "cell_type": "code",
   "execution_count": 92,
   "id": "eaacfa70",
   "metadata": {},
   "outputs": [
    {
     "data": {
      "text/html": [],
      "text/latex": [],
      "text/markdown": [],
      "text/plain": [
       "<0 x 0 matrix>"
      ]
     },
     "metadata": {},
     "output_type": "display_data"
    }
   ],
   "source": [
    "# table2에 col4 추가, col2의 type변환, col3을 삭제\n",
    "dbGetQuery(conn, \"ALTER TABLE table2\n",
    "                  ADD col4 INT NULL, \n",
    "                  MODIFY col2 VARCHAR(20) NULL,\n",
    "                  DROP col3\")"
   ]
  },
  {
   "cell_type": "markdown",
   "id": "baf714b6",
   "metadata": {},
   "source": [
    "- 자동 입력 시작값을 1000, 간격을 3으로 변경"
   ]
  },
  {
   "cell_type": "code",
   "execution_count": 105,
   "id": "4f46e6b6",
   "metadata": {},
   "outputs": [
    {
     "data": {
      "text/html": [],
      "text/latex": [],
      "text/markdown": [],
      "text/plain": [
       "<0 x 0 matrix>"
      ]
     },
     "metadata": {},
     "output_type": "display_data"
    },
    {
     "data": {
      "text/html": [],
      "text/latex": [],
      "text/markdown": [],
      "text/plain": [
       "<0 x 0 matrix>"
      ]
     },
     "metadata": {},
     "output_type": "display_data"
    }
   ],
   "source": [
    "dbGetQuery(conn, \"ALTER TABLE tt AUTO_INCREMENT = 1000\")\n",
    "dbGetQuery(conn, \"SET @@AUTO_INCREMENT_INCREMENT = 3;\")"
   ]
  },
  {
   "cell_type": "markdown",
   "id": "bc451a87",
   "metadata": {},
   "source": [
    "### ```UPDATE``` : 기존에 입력되어 있는 값 변경\n",
    "- WHERE절 생략 가능하나 테이블의 전채 행 내용 변경"
   ]
  },
  {
   "cell_type": "markdown",
   "id": "41aab5b4",
   "metadata": {},
   "source": [
    "**city_popul테이블에서 city_name이 ‘New York’인 데이터의 city_name과 population을 각각 ‘뉴욕’, 0으로 수정**"
   ]
  },
  {
   "cell_type": "code",
   "execution_count": 140,
   "id": "26c9bb1d",
   "metadata": {},
   "outputs": [
    {
     "data": {
      "text/html": [],
      "text/latex": [],
      "text/markdown": [],
      "text/plain": [
       "<0 x 0 matrix>"
      ]
     },
     "metadata": {},
     "output_type": "display_data"
    }
   ],
   "source": [
    "dbGetQuery(conn, \"UPDATE popul\n",
    "                  SET name = 'NY', population = 0\n",
    "                  WHERE name = 'New York'\")"
   ]
  },
  {
   "cell_type": "code",
   "execution_count": 141,
   "id": "f6cd227c",
   "metadata": {},
   "outputs": [
    {
     "data": {
      "text/html": [
       "<table class=\"dataframe\">\n",
       "<caption>A data.frame: 1 × 2</caption>\n",
       "<thead>\n",
       "\t<tr><th scope=col>name</th><th scope=col>population</th></tr>\n",
       "\t<tr><th scope=col>&lt;chr&gt;</th><th scope=col>&lt;int&gt;</th></tr>\n",
       "</thead>\n",
       "<tbody>\n",
       "\t<tr><td>NY</td><td>0</td></tr>\n",
       "</tbody>\n",
       "</table>\n"
      ],
      "text/latex": [
       "A data.frame: 1 × 2\n",
       "\\begin{tabular}{ll}\n",
       " name & population\\\\\n",
       " <chr> & <int>\\\\\n",
       "\\hline\n",
       "\t NY & 0\\\\\n",
       "\\end{tabular}\n"
      ],
      "text/markdown": [
       "\n",
       "A data.frame: 1 × 2\n",
       "\n",
       "| name &lt;chr&gt; | population &lt;int&gt; |\n",
       "|---|---|\n",
       "| NY | 0 |\n",
       "\n"
      ],
      "text/plain": [
       "  name population\n",
       "1 NY   0         "
      ]
     },
     "metadata": {},
     "output_type": "display_data"
    }
   ],
   "source": [
    "dbGetQuery(conn, \"SELECT * FROM popul\n",
    "                  WHERE name = 'NY'\")"
   ]
  },
  {
   "cell_type": "markdown",
   "id": "62842e04",
   "metadata": {},
   "source": [
    "### ```DELETE FROM``` : 행 단위로 데이터 삭제하는 구문\n",
    "- WHERE 생략시 전체 삭제\n",
    "- 데이터는 지워지지만 테이블 용량은 줄지 않음\n",
    "- 원하는 데이터만 삭제\n",
    "- 삭제 후 복구 가능"
   ]
  },
  {
   "cell_type": "markdown",
   "id": "19109562",
   "metadata": {},
   "source": [
    "**popul 테이블에서 name이 'New'로 시작하는 모든 데이터 삭제**"
   ]
  },
  {
   "cell_type": "code",
   "execution_count": 142,
   "id": "6d21504a",
   "metadata": {},
   "outputs": [
    {
     "data": {
      "text/html": [],
      "text/latex": [],
      "text/markdown": [],
      "text/plain": [
       "<0 x 0 matrix>"
      ]
     },
     "metadata": {},
     "output_type": "display_data"
    }
   ],
   "source": [
    "dbGetQuery(conn, \"DELETE FROM popul\n",
    "                  WHERE name LIKE 'New%';\")"
   ]
  },
  {
   "cell_type": "markdown",
   "id": "49baf47f",
   "metadata": {},
   "source": [
    "### ```TRUNCATE``` : 테이블의 구조는 남기고, 행 전부 삭제 (초기화)\n",
    "- 한거번에 다 삭제\n",
    "- 삭제 후 복구 불가"
   ]
  },
  {
   "cell_type": "markdown",
   "id": "2e7e1be0",
   "metadata": {},
   "source": [
    "### ```DROP TABLE``` : 테이블 전체를 삭제, 공간, 객체를 삭제\n",
    "- 삭제 후 복구 불가"
   ]
  },
  {
   "cell_type": "markdown",
   "id": "648ab402",
   "metadata": {},
   "source": [
    "### ```DROP DATABASE``` : DB삭제 \n",
    "\n",
    "###   \n"
   ]
  },
  {
   "cell_type": "markdown",
   "id": "b3398cea",
   "metadata": {},
   "source": [
    "### ```FOREIGN KEY``` : 외래키\n",
    "- 기준 테이블 : 기본 키가 있는 테이블\n",
    "- 참조 테이블 : 외래 키가 있는 테이블\n",
    "- 참조 테이블이 참조하는 기준 테이블의 열은 기본키 or 고유키 \n",
    "\n",
    "#### 외래키 지정\n",
    "### ```FOREIGN KEY(외래키 열) REFERENCE 기준테이블(기본키_열)```"
   ]
  },
  {
   "cell_type": "markdown",
   "id": "8a386bce",
   "metadata": {},
   "source": [
    "1."
   ]
  },
  {
   "cell_type": "code",
   "execution_count": 75,
   "id": "e20a5814",
   "metadata": {},
   "outputs": [
    {
     "data": {
      "text/html": [],
      "text/latex": [],
      "text/markdown": [],
      "text/plain": [
       "<0 x 0 matrix>"
      ]
     },
     "metadata": {},
     "output_type": "display_data"
    }
   ],
   "source": [
    "# buy테이블의 user_id를, member테이블의 mem_id를 참조하여 외래키로 설정\n",
    "dbGetQuery(conn, \"CREATE TABLE buy (\n",
    "                  num INT AUTO_INCREMENT NOT NULL PRIMARY KEY,\n",
    "                  user_id CHAR(8) NOT NULL,\n",
    "                  FOREIGN KEY(user_id) REFERENCES member(mem_id))\")"
   ]
  },
  {
   "cell_type": "markdown",
   "id": "d5948dd6",
   "metadata": {},
   "source": [
    "2."
   ]
  },
  {
   "cell_type": "code",
   "execution_count": 94,
   "id": "7f29d8a5",
   "metadata": {},
   "outputs": [
    {
     "data": {
      "text/html": [],
      "text/latex": [],
      "text/markdown": [],
      "text/plain": [
       "<0 x 0 matrix>"
      ]
     },
     "metadata": {},
     "output_type": "display_data"
    },
    {
     "data": {
      "text/html": [],
      "text/latex": [],
      "text/markdown": [],
      "text/plain": [
       "<0 x 0 matrix>"
      ]
     },
     "metadata": {},
     "output_type": "display_data"
    }
   ],
   "source": [
    "# buy테이블 생성 => ALTER TABLE로 테이블 수정 => ADD CONSTRAINT로 제약조건을 추가 => - buy테이블의 user_id를, member테이블의 mem_id를 참조하여 외래키로 설정\n",
    "dbGetQuery(conn, \"CREATE TABLE buy (\n",
    "                  num INT AUTO_INCREMENT NOT NULL PRIMARY KEY,\n",
    "                  user_id CHAR(8) NOT NULL);\")\n",
    "dbGetQuery(conn, \"ALTER TABLE buy \n",
    "                  ADD CONSTRAINT\n",
    "                  FOREIGN KEY(user_id) REFERENCES member(mem_id)\")"
   ]
  },
  {
   "cell_type": "markdown",
   "id": "48cd6e34",
   "metadata": {},
   "source": [
    "### ```UNIQUE``` : 고유키, 중복되지 않는 유일한 값\n",
    "- NULL 가능\n",
    "- 테이블에 여러개 가능\n",
    "- 데이터 입력 시 중복되는 데이터가 있다면 오류"
   ]
  },
  {
   "cell_type": "code",
   "execution_count": 117,
   "id": "dca98e11",
   "metadata": {},
   "outputs": [
    {
     "data": {
      "text/html": [],
      "text/latex": [],
      "text/markdown": [],
      "text/plain": [
       "<0 x 0 matrix>"
      ]
     },
     "metadata": {},
     "output_type": "display_data"
    }
   ],
   "source": [
    "dbGetQuery(conn, \"CREATE TABLE member (\n",
    "                  mem_id CHAR(8) NOT NULL PRIMARY KEY,\n",
    "                  email CHAR(30) NULL UNIQUE);\")"
   ]
  },
  {
   "cell_type": "markdown",
   "id": "7e7bc4ed",
   "metadata": {},
   "source": [
    "### ```AUTO_INCREMENT``` : 자동으로 1부터 증가하는 값 입력\n",
    "- **PRIMARY KEY에만 적용 가능**\n",
    "- 데이터 입력시에 해당 열은 NULL값으로 채워 넣음"
   ]
  },
  {
   "cell_type": "code",
   "execution_count": 104,
   "id": "d0c38db8",
   "metadata": {},
   "outputs": [
    {
     "data": {
      "text/html": [],
      "text/latex": [],
      "text/markdown": [],
      "text/plain": [
       "<0 x 0 matrix>"
      ]
     },
     "metadata": {},
     "output_type": "display_data"
    }
   ],
   "source": [
    "dbGetQuery(conn, \"CREATE TABLE tt (\n",
    "                  id INT AUTO_INCREMENT PRIMARY KEY,\n",
    "                  name CHAR(4),\n",
    "                  age INT);\")"
   ]
  },
  {
   "cell_type": "markdown",
   "id": "de3e6097",
   "metadata": {},
   "source": [
    "#### ```SELECT LAST_INSERT_ID``` : 자동증가로 어느 숫자까지 증가됬는지 확인"
   ]
  },
  {
   "cell_type": "code",
   "execution_count": 102,
   "id": "c943e737",
   "metadata": {
    "scrolled": false
   },
   "outputs": [
    {
     "data": {
      "text/html": [],
      "text/latex": [],
      "text/markdown": [],
      "text/plain": [
       "<0 x 0 matrix>"
      ]
     },
     "metadata": {},
     "output_type": "display_data"
    },
    {
     "data": {
      "text/html": [
       "<table class=\"dataframe\">\n",
       "<caption>A data.frame: 1 × 1</caption>\n",
       "<thead>\n",
       "\t<tr><th scope=col>LAST_INSERT_ID()</th></tr>\n",
       "\t<tr><th scope=col>&lt;dbl&gt;</th></tr>\n",
       "</thead>\n",
       "<tbody>\n",
       "\t<tr><td>1</td></tr>\n",
       "</tbody>\n",
       "</table>\n"
      ],
      "text/latex": [
       "A data.frame: 1 × 1\n",
       "\\begin{tabular}{l}\n",
       " LAST\\_INSERT\\_ID()\\\\\n",
       " <dbl>\\\\\n",
       "\\hline\n",
       "\t 1\\\\\n",
       "\\end{tabular}\n"
      ],
      "text/markdown": [
       "\n",
       "A data.frame: 1 × 1\n",
       "\n",
       "| LAST_INSERT_ID() &lt;dbl&gt; |\n",
       "|---|\n",
       "| 1 |\n",
       "\n"
      ],
      "text/plain": [
       "  LAST_INSERT_ID()\n",
       "1 1               "
      ]
     },
     "metadata": {},
     "output_type": "display_data"
    }
   ],
   "source": [
    "dbGetQuery(conn, \"INSERT INTO tt VALUES (NULL, 'b', 21);\")\n",
    "dbGetQuery(conn, \"SELECT LAST_INSERT_ID();\")"
   ]
  },
  {
   "cell_type": "markdown",
   "id": "38f200e8",
   "metadata": {},
   "source": [
    "### ```CHECK``` : 입력되는 데이터를 점검\n",
    "- 열에 조건을 설정\n",
    "\n",
    "**member 테이블의 height열은 100이상의 값만 입력 가능한 조건 설정**"
   ]
  },
  {
   "cell_type": "code",
   "execution_count": 118,
   "id": "e62f0edf",
   "metadata": {},
   "outputs": [
    {
     "data": {
      "text/html": [],
      "text/latex": [],
      "text/markdown": [],
      "text/plain": [
       "<0 x 0 matrix>"
      ]
     },
     "metadata": {},
     "output_type": "display_data"
    }
   ],
   "source": [
    "dbGetQuery(conn, \"CREATE TABLE member (\n",
    "                  mem_id CHAR(8) NOT NULL PRIMARY KEY,\n",
    "                  mem_name VARCHAR(10) NOT NULL,\n",
    "                  height TINYINT UNSIGNED NULL CHECK (height >= 100),\n",
    "                  phone CHAR(3) NULL);\")"
   ]
  },
  {
   "cell_type": "markdown",
   "id": "7c9f39db",
   "metadata": {},
   "source": [
    "**member 테이블의 phone열은 ('02', '031', '032', '054', '055', '061')중 에서만 입력가능한 제약 조건 추가**"
   ]
  },
  {
   "cell_type": "code",
   "execution_count": 119,
   "id": "3d7b1a92",
   "metadata": {},
   "outputs": [
    {
     "data": {
      "text/html": [],
      "text/latex": [],
      "text/markdown": [],
      "text/plain": [
       "<0 x 0 matrix>"
      ]
     },
     "metadata": {},
     "output_type": "display_data"
    }
   ],
   "source": [
    "dbGetQuery(conn, \"ALTER TABLE member\n",
    "                  ADD CONSTRAINT\n",
    "                  CHECK (phone IN ('02', '031', '032', '054', '055', '061'));\")"
   ]
  },
  {
   "cell_type": "markdown",
   "id": "51da44a6",
   "metadata": {},
   "source": [
    "### ```DEFAULT``` : 기본값\n",
    "- 값을 입력하지 않았을 때 자동으로 입력될 값을 미리 지정\n",
    "\n",
    "**member 테이블의 height열의 default 값을 160으로 설정**"
   ]
  },
  {
   "cell_type": "code",
   "execution_count": 151,
   "id": "a6686da9",
   "metadata": {},
   "outputs": [
    {
     "data": {
      "text/html": [],
      "text/latex": [],
      "text/markdown": [],
      "text/plain": [
       "<0 x 0 matrix>"
      ]
     },
     "metadata": {},
     "output_type": "display_data"
    }
   ],
   "source": [
    "dbGetQuery(conn, \"CREATE TABLE member (\n",
    "                  mem_id CHAR(8) NOT NULL PRIMARY KEY,\n",
    "                  height TINYINT UNSIGNED NULL DEFAULT 160,\n",
    "                  phone CHAR(3) NULL);\")"
   ]
  },
  {
   "cell_type": "markdown",
   "id": "1cb762ec",
   "metadata": {},
   "source": [
    "**member 테이블의 phone열의 default값을 '02'로 설정**"
   ]
  },
  {
   "cell_type": "code",
   "execution_count": 121,
   "id": "f88a0f99",
   "metadata": {},
   "outputs": [
    {
     "data": {
      "text/html": [],
      "text/latex": [],
      "text/markdown": [],
      "text/plain": [
       "<0 x 0 matrix>"
      ]
     },
     "metadata": {},
     "output_type": "display_data"
    }
   ],
   "source": [
    "dbGetQuery(conn, \"ALTER TABLE member\n",
    "                  ALTER COLUMN phone SET DEFAULT '02'\")"
   ]
  },
  {
   "cell_type": "code",
   "execution_count": 122,
   "id": "9bd586f8",
   "metadata": {},
   "outputs": [
    {
     "data": {
      "text/html": [],
      "text/latex": [],
      "text/markdown": [],
      "text/plain": [
       "<0 x 0 matrix>"
      ]
     },
     "metadata": {},
     "output_type": "display_data"
    }
   ],
   "source": [
    "dbGetQuery(conn, \"INSERT INTO member VALUES('SPC', default, default)\")"
   ]
  },
  {
   "cell_type": "code",
   "execution_count": 123,
   "id": "0fb185d4",
   "metadata": {
    "scrolled": true
   },
   "outputs": [
    {
     "name": "stderr",
     "output_type": "stream",
     "text": [
      "Warning message in .local(conn, statement, ...):\n",
      "\"Unsigned INTEGER in col 1 imported as numeric\"\n"
     ]
    },
    {
     "data": {
      "text/html": [
       "<table class=\"dataframe\">\n",
       "<caption>A data.frame: 1 × 3</caption>\n",
       "<thead>\n",
       "\t<tr><th scope=col>mem_id</th><th scope=col>height</th><th scope=col>phone</th></tr>\n",
       "\t<tr><th scope=col>&lt;chr&gt;</th><th scope=col>&lt;dbl&gt;</th><th scope=col>&lt;chr&gt;</th></tr>\n",
       "</thead>\n",
       "<tbody>\n",
       "\t<tr><td>SPC</td><td>160</td><td>02</td></tr>\n",
       "</tbody>\n",
       "</table>\n"
      ],
      "text/latex": [
       "A data.frame: 1 × 3\n",
       "\\begin{tabular}{lll}\n",
       " mem\\_id & height & phone\\\\\n",
       " <chr> & <dbl> & <chr>\\\\\n",
       "\\hline\n",
       "\t SPC & 160 & 02\\\\\n",
       "\\end{tabular}\n"
      ],
      "text/markdown": [
       "\n",
       "A data.frame: 1 × 3\n",
       "\n",
       "| mem_id &lt;chr&gt; | height &lt;dbl&gt; | phone &lt;chr&gt; |\n",
       "|---|---|---|\n",
       "| SPC | 160 | 02 |\n",
       "\n"
      ],
      "text/plain": [
       "  mem_id height phone\n",
       "1 SPC    160    02   "
      ]
     },
     "metadata": {},
     "output_type": "display_data"
    }
   ],
   "source": [
    "dbGetQuery(conn, \"SELECT * FROM member\")"
   ]
  },
  {
   "cell_type": "markdown",
   "id": "5126d8ad",
   "metadata": {},
   "source": [
    "### 열 이름 변경 / 열 삭제\n",
    "- 기본키 - 외래키로 맺어진 후에는, 기준 테이블의 기본키 이름 변경 불가\n",
    "- 기준 테이블의 기본키 열 삭제도 불가\n",
    "- 이를 보완하기 위해 ```ON UPDATE CASCADE```, ```ON DELETE CASCADE```필요"
   ]
  },
  {
   "cell_type": "markdown",
   "id": "fb6f2016",
   "metadata": {},
   "source": [
    "### ```ON UPDATE CASCADE``` : 기준 테이블과 참조 테이블의 수정이력이 연동\n",
    "### ```ON DELETE CASCADE``` : 기준 테이블과 참조 테이블의 삭제이력이 연동"
   ]
  },
  {
   "cell_type": "code",
   "execution_count": 152,
   "id": "f59bac47",
   "metadata": {},
   "outputs": [
    {
     "data": {
      "text/html": [],
      "text/latex": [],
      "text/markdown": [],
      "text/plain": [
       "<0 x 0 matrix>"
      ]
     },
     "metadata": {},
     "output_type": "display_data"
    }
   ],
   "source": [
    "dbGetQuery(conn, \"CREATE TABLE buy (\n",
    "                  num INT AUTO_INCREMENT NOT NULL PRIMARY KEY,\n",
    "                  user_id CHAR(8) NOT NULL,\n",
    "                  name CHAR(6) NOT NULL);\")"
   ]
  },
  {
   "cell_type": "code",
   "execution_count": 153,
   "id": "eb3a362c",
   "metadata": {
    "scrolled": true
   },
   "outputs": [
    {
     "data": {
      "text/html": [],
      "text/latex": [],
      "text/markdown": [],
      "text/plain": [
       "<0 x 0 matrix>"
      ]
     },
     "metadata": {},
     "output_type": "display_data"
    }
   ],
   "source": [
    "dbGetQuery(conn, \"ALTER TABLE buy\n",
    "                  ADD CONSTRAINT\n",
    "                  FOREIGN KEY(user_id) REFERENCES member(mem_id)\n",
    "                  ON UPDATE CASCADE\n",
    "                  ON DELETE CASCADE;\")"
   ]
  },
  {
   "cell_type": "code",
   "execution_count": 175,
   "id": "44713e0d",
   "metadata": {},
   "outputs": [
    {
     "name": "stderr",
     "output_type": "stream",
     "text": [
      "Warning message in .local(conn, statement, ...):\n",
      "\"Unsigned INTEGER in col 1 imported as numeric\"\n"
     ]
    },
    {
     "data": {
      "text/html": [
       "<table class=\"dataframe\">\n",
       "<caption>A data.frame: 1 × 3</caption>\n",
       "<thead>\n",
       "\t<tr><th scope=col>mem_id</th><th scope=col>height</th><th scope=col>phone</th></tr>\n",
       "\t<tr><th scope=col>&lt;chr&gt;</th><th scope=col>&lt;dbl&gt;</th><th scope=col>&lt;chr&gt;</th></tr>\n",
       "</thead>\n",
       "<tbody>\n",
       "\t<tr><td>BLK</td><td>160</td><td>111</td></tr>\n",
       "</tbody>\n",
       "</table>\n"
      ],
      "text/latex": [
       "A data.frame: 1 × 3\n",
       "\\begin{tabular}{lll}\n",
       " mem\\_id & height & phone\\\\\n",
       " <chr> & <dbl> & <chr>\\\\\n",
       "\\hline\n",
       "\t BLK & 160 & 111\\\\\n",
       "\\end{tabular}\n"
      ],
      "text/markdown": [
       "\n",
       "A data.frame: 1 × 3\n",
       "\n",
       "| mem_id &lt;chr&gt; | height &lt;dbl&gt; | phone &lt;chr&gt; |\n",
       "|---|---|---|\n",
       "| BLK | 160 | 111 |\n",
       "\n"
      ],
      "text/plain": [
       "  mem_id height phone\n",
       "1 BLK    160    111  "
      ]
     },
     "metadata": {},
     "output_type": "display_data"
    },
    {
     "data": {
      "text/html": [
       "<table class=\"dataframe\">\n",
       "<caption>A data.frame: 1 × 3</caption>\n",
       "<thead>\n",
       "\t<tr><th scope=col>num</th><th scope=col>user_id</th><th scope=col>name</th></tr>\n",
       "\t<tr><th scope=col>&lt;int&gt;</th><th scope=col>&lt;chr&gt;</th><th scope=col>&lt;chr&gt;</th></tr>\n",
       "</thead>\n",
       "<tbody>\n",
       "\t<tr><td>1</td><td>BLK</td><td>AAA</td></tr>\n",
       "</tbody>\n",
       "</table>\n"
      ],
      "text/latex": [
       "A data.frame: 1 × 3\n",
       "\\begin{tabular}{lll}\n",
       " num & user\\_id & name\\\\\n",
       " <int> & <chr> & <chr>\\\\\n",
       "\\hline\n",
       "\t 1 & BLK & AAA\\\\\n",
       "\\end{tabular}\n"
      ],
      "text/markdown": [
       "\n",
       "A data.frame: 1 × 3\n",
       "\n",
       "| num &lt;int&gt; | user_id &lt;chr&gt; | name &lt;chr&gt; |\n",
       "|---|---|---|\n",
       "| 1 | BLK | AAA |\n",
       "\n"
      ],
      "text/plain": [
       "  num user_id name\n",
       "1 1   BLK     AAA "
      ]
     },
     "metadata": {},
     "output_type": "display_data"
    }
   ],
   "source": [
    "dbGetQuery(conn, \"SELECT * FROM member\")\n",
    "dbGetQuery(conn, \"SELECT * FROM buy\")"
   ]
  },
  {
   "cell_type": "markdown",
   "id": "6c3599e4",
   "metadata": {},
   "source": [
    "**기준 테이블(member)에서 mem_id가 ‘BLK’인 데이터를 ‘PINK’로 변경**\n",
    "\n",
    "**자동으로 참조 테이블에도 적용** "
   ]
  },
  {
   "cell_type": "code",
   "execution_count": 176,
   "id": "7f732148",
   "metadata": {},
   "outputs": [
    {
     "data": {
      "text/html": [],
      "text/latex": [],
      "text/markdown": [],
      "text/plain": [
       "<0 x 0 matrix>"
      ]
     },
     "metadata": {},
     "output_type": "display_data"
    },
    {
     "name": "stderr",
     "output_type": "stream",
     "text": [
      "Warning message in .local(conn, statement, ...):\n",
      "\"Unsigned INTEGER in col 1 imported as numeric\"\n"
     ]
    },
    {
     "data": {
      "text/html": [
       "<table class=\"dataframe\">\n",
       "<caption>A data.frame: 1 × 3</caption>\n",
       "<thead>\n",
       "\t<tr><th scope=col>mem_id</th><th scope=col>height</th><th scope=col>phone</th></tr>\n",
       "\t<tr><th scope=col>&lt;chr&gt;</th><th scope=col>&lt;dbl&gt;</th><th scope=col>&lt;chr&gt;</th></tr>\n",
       "</thead>\n",
       "<tbody>\n",
       "\t<tr><td>PINK</td><td>160</td><td>111</td></tr>\n",
       "</tbody>\n",
       "</table>\n"
      ],
      "text/latex": [
       "A data.frame: 1 × 3\n",
       "\\begin{tabular}{lll}\n",
       " mem\\_id & height & phone\\\\\n",
       " <chr> & <dbl> & <chr>\\\\\n",
       "\\hline\n",
       "\t PINK & 160 & 111\\\\\n",
       "\\end{tabular}\n"
      ],
      "text/markdown": [
       "\n",
       "A data.frame: 1 × 3\n",
       "\n",
       "| mem_id &lt;chr&gt; | height &lt;dbl&gt; | phone &lt;chr&gt; |\n",
       "|---|---|---|\n",
       "| PINK | 160 | 111 |\n",
       "\n"
      ],
      "text/plain": [
       "  mem_id height phone\n",
       "1 PINK   160    111  "
      ]
     },
     "metadata": {},
     "output_type": "display_data"
    },
    {
     "data": {
      "text/html": [
       "<table class=\"dataframe\">\n",
       "<caption>A data.frame: 1 × 3</caption>\n",
       "<thead>\n",
       "\t<tr><th scope=col>num</th><th scope=col>user_id</th><th scope=col>name</th></tr>\n",
       "\t<tr><th scope=col>&lt;int&gt;</th><th scope=col>&lt;chr&gt;</th><th scope=col>&lt;chr&gt;</th></tr>\n",
       "</thead>\n",
       "<tbody>\n",
       "\t<tr><td>1</td><td>PINK</td><td>AAA</td></tr>\n",
       "</tbody>\n",
       "</table>\n"
      ],
      "text/latex": [
       "A data.frame: 1 × 3\n",
       "\\begin{tabular}{lll}\n",
       " num & user\\_id & name\\\\\n",
       " <int> & <chr> & <chr>\\\\\n",
       "\\hline\n",
       "\t 1 & PINK & AAA\\\\\n",
       "\\end{tabular}\n"
      ],
      "text/markdown": [
       "\n",
       "A data.frame: 1 × 3\n",
       "\n",
       "| num &lt;int&gt; | user_id &lt;chr&gt; | name &lt;chr&gt; |\n",
       "|---|---|---|\n",
       "| 1 | PINK | AAA |\n",
       "\n"
      ],
      "text/plain": [
       "  num user_id name\n",
       "1 1   PINK    AAA "
      ]
     },
     "metadata": {},
     "output_type": "display_data"
    }
   ],
   "source": [
    "dbGetQuery(conn, \"UPDATE member SET mem_id = 'PINK'\n",
    "                  WHERE mem_id = 'BLK'\")\n",
    "dbGetQuery(conn, \"SELECT * FROM member\")\n",
    "dbGetQuery(conn, \"SELECT * FROM buy\")"
   ]
  },
  {
   "cell_type": "code",
   "execution_count": 177,
   "id": "8191aeea",
   "metadata": {
    "scrolled": true
   },
   "outputs": [
    {
     "data": {
      "text/html": [],
      "text/latex": [],
      "text/markdown": [],
      "text/plain": [
       "<0 x 0 matrix>"
      ]
     },
     "metadata": {},
     "output_type": "display_data"
    },
    {
     "name": "stderr",
     "output_type": "stream",
     "text": [
      "Warning message in .local(conn, statement, ...):\n",
      "\"Unsigned INTEGER in col 1 imported as numeric\"\n"
     ]
    },
    {
     "data": {
      "text/html": [
       "<table class=\"dataframe\">\n",
       "<caption>A data.frame: 0 × 3</caption>\n",
       "<thead>\n",
       "\t<tr><th scope=col>mem_id</th><th scope=col>height</th><th scope=col>phone</th></tr>\n",
       "\t<tr><th scope=col>&lt;chr&gt;</th><th scope=col>&lt;dbl&gt;</th><th scope=col>&lt;chr&gt;</th></tr>\n",
       "</thead>\n",
       "<tbody>\n",
       "</tbody>\n",
       "</table>\n"
      ],
      "text/latex": [
       "A data.frame: 0 × 3\n",
       "\\begin{tabular}{lll}\n",
       " mem\\_id & height & phone\\\\\n",
       " <chr> & <dbl> & <chr>\\\\\n",
       "\\hline\n",
       "\\end{tabular}\n"
      ],
      "text/markdown": [
       "\n",
       "A data.frame: 0 × 3\n",
       "\n",
       "| mem_id &lt;chr&gt; | height &lt;dbl&gt; | phone &lt;chr&gt; |\n",
       "|---|---|---|\n",
       "\n"
      ],
      "text/plain": [
       "     mem_id height phone"
      ]
     },
     "metadata": {},
     "output_type": "display_data"
    },
    {
     "data": {
      "text/html": [
       "<table class=\"dataframe\">\n",
       "<caption>A data.frame: 0 × 3</caption>\n",
       "<thead>\n",
       "\t<tr><th scope=col>num</th><th scope=col>user_id</th><th scope=col>name</th></tr>\n",
       "\t<tr><th scope=col>&lt;int&gt;</th><th scope=col>&lt;chr&gt;</th><th scope=col>&lt;chr&gt;</th></tr>\n",
       "</thead>\n",
       "<tbody>\n",
       "</tbody>\n",
       "</table>\n"
      ],
      "text/latex": [
       "A data.frame: 0 × 3\n",
       "\\begin{tabular}{lll}\n",
       " num & user\\_id & name\\\\\n",
       " <int> & <chr> & <chr>\\\\\n",
       "\\hline\n",
       "\\end{tabular}\n"
      ],
      "text/markdown": [
       "\n",
       "A data.frame: 0 × 3\n",
       "\n",
       "| num &lt;int&gt; | user_id &lt;chr&gt; | name &lt;chr&gt; |\n",
       "|---|---|---|\n",
       "\n"
      ],
      "text/plain": [
       "     num user_id name"
      ]
     },
     "metadata": {},
     "output_type": "display_data"
    }
   ],
   "source": [
    "dbGetQuery(conn, \"DELETE FROM member WHERE mem_id = 'PINK'\")\n",
    "dbGetQuery(conn, \"SELECT * FROM member\")\n",
    "dbGetQuery(conn, \"SELECT * FROM buy\")"
   ]
  },
  {
   "cell_type": "markdown",
   "id": "4fe991a3",
   "metadata": {},
   "source": [
    "**기준 테이블(member)에서 mem_id가 ‘PINK’인 데이터를 삭제**\n",
    "\n",
    "**자동으로 참조 테이블에도 적용** "
   ]
  },
  {
   "cell_type": "markdown",
   "id": "cd2412b2",
   "metadata": {},
   "source": [
    "### 변수선언 "
   ]
  },
  {
   "cell_type": "code",
   "execution_count": 181,
   "id": "43d6338e",
   "metadata": {},
   "outputs": [
    {
     "data": {
      "text/html": [],
      "text/latex": [],
      "text/markdown": [],
      "text/plain": [
       "<0 x 0 matrix>"
      ]
     },
     "metadata": {},
     "output_type": "display_data"
    },
    {
     "data": {
      "text/html": [
       "<table class=\"dataframe\">\n",
       "<caption>A data.frame: 1 × 1</caption>\n",
       "<thead>\n",
       "\t<tr><th scope=col>@A</th></tr>\n",
       "\t<tr><th scope=col>&lt;dbl&gt;</th></tr>\n",
       "</thead>\n",
       "<tbody>\n",
       "\t<tr><td>10</td></tr>\n",
       "</tbody>\n",
       "</table>\n"
      ],
      "text/latex": [
       "A data.frame: 1 × 1\n",
       "\\begin{tabular}{l}\n",
       " @A\\\\\n",
       " <dbl>\\\\\n",
       "\\hline\n",
       "\t 10\\\\\n",
       "\\end{tabular}\n"
      ],
      "text/markdown": [
       "\n",
       "A data.frame: 1 × 1\n",
       "\n",
       "| @A &lt;dbl&gt; |\n",
       "|---|\n",
       "| 10 |\n",
       "\n"
      ],
      "text/plain": [
       "  @A\n",
       "1 10"
      ]
     },
     "metadata": {},
     "output_type": "display_data"
    }
   ],
   "source": [
    "dbGetQuery(conn, \"SET @A = 10\")\n",
    "dbGetQuery(conn, \"SELECT @A\")"
   ]
  }
 ],
 "metadata": {
  "kernelspec": {
   "display_name": "R 4.1.3",
   "language": "R",
   "name": "ir32"
  },
  "language_info": {
   "codemirror_mode": "r",
   "file_extension": ".r",
   "mimetype": "text/x-r-source",
   "name": "R",
   "pygments_lexer": "r",
   "version": "4.1.3"
  }
 },
 "nbformat": 4,
 "nbformat_minor": 5
}
