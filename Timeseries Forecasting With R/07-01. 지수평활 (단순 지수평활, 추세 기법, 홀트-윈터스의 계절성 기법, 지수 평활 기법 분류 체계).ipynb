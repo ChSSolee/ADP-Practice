{
 "cells": [
  {
   "cell_type": "markdown",
   "id": "77a88bff",
   "metadata": {},
   "source": [
    "# 07. 지수평활\n",
    "\n",
    "지수평활(exponential smoothing)은 1950년대 후반에 제안되었고 (Brown, 1959; Holt, 1957; Winters, 1960), 가장 성공적인 몇 가지 예측 기법에 영향을 주었습니다. **지수 평활을 사용하여 얻은 예측값은 과거 관측값의 가중평균(weighted average)입니다.** **여기에서 과거 관측값은 오래될 수록 지수적으로 감소하는 가중치를 갖습니다. 다르게 말하면, 가장 최근 관측값이 가장 높은 가중치를 갖는다는 말입니다.** 이러한 방식으로 다양한 종류의 시계열을 가지고 신뢰할만한 예측 작업을 빠르게 수행할 수 있다는 것은 엄청난 장점이고, **이는 산업 분야에 응용할 때 아주 중요한 부분입니다.**\n",
    "\n",
    "이 장은 두 부분으로 구성됩니다. 첫 번째 부분(7.1–7.4 절)에서는 가장 중요한 지수평활(exponential smoothing) 기법의 구체적인 작동 방식과 다양한 특징을 갖는 시계열을 예측에 응용하는 법을 다룹니다. 구체적인 작동 방식은 기법에 담긴 직관을 이해하는데 중요한 역할을 합니다. 이러한 설정에서, 예측 기법을 선택하고 사용하는 것이 어쩌면 즉흥적인 것처럼 보일 수도 있습니다. 일반적으로는 시계열의 핵심 성분(추세와 계절성)과 이러한 성분이 평활법에 (예를 들면, 덧셈, 감쇠, 또는 곱셈 방식이라는 측면에서) 어떻게 들어갈 지 감지하여 기법을 선택합니다.\n",
    "\n",
    "이 장의 두 번째 부분(7.5–7.7 절)에서는 지수평활(exponential smoothing) 기법의 기초를 이루는 통계적인 모델을 다룹니다. 이러한 모델은 이 장의 첫 번째 부분에서 다룬 예측 기법으로 얻은 점 예측치(point forecast)와 같습니다만, 예측구간(prediction interval)도 생성한다는 부분이 다릅니다. 더욱이, 이러한 통계적인 방식은 후보 모델 중에서 적절한 모델을 고를 때 도움이 됩니다."
   ]
  },
  {
   "cell_type": "markdown",
   "id": "6a39a145",
   "metadata": {},
   "source": [
    "<br>\n",
    "\n",
    "## 07.07. 단순 지수평활\n",
    "\n",
    "**지수적으로 평활하는 기법 중에서 가장 단순한 방법을 “단순 지수평활”(simple exponential smoothing, SES)이라고 부릅니다. 이 방법은 추세나 계절성 패턴이 없는 데이터를 예측할 때 쓰기 좋습니다.**\n",
    "\n",
    "**예를 들면, 그림에 있는 데이터를 보면 평균값이 시간에 따라 느리게 변하는 것 같긴 하지만, 분명한 추세나 계절성이 보이지 않습니다. (마지막 몇 년 동안 증가하는 사실이 추세가 있다는 것을 시사합니다.** 이 장의 뒷 부분에서 이 시계열에 추세 기법이 더 나을지 여부를 고려하겠습니다.) 단순(naïve) 기법과 평균기법을 이러한 데이터를 예측하기 위한 가능한 기법으로써 이미 다루었습니다"
   ]
  },
  {
   "cell_type": "code",
   "execution_count": 2,
   "id": "5af90203",
   "metadata": {},
   "outputs": [],
   "source": [
    "library(tidyverse)\n",
    "library(fpp3)\n",
    "library(fpp2)\n",
    "library(fpp)\n",
    "library(forecast)"
   ]
  },
  {
   "cell_type": "code",
   "execution_count": 3,
   "id": "890987ea",
   "metadata": {},
   "outputs": [
    {
     "data": {
      "image/png": "[encoded data removed]",
      "text/plain": [
       "plot without title"
      ]
     },
     "metadata": {
      "image/png": {
       "height": 420,
       "width": 420
      }
     },
     "output_type": "display_data"
    }
   ],
   "source": [
    "oildata <- window(oil, start=1996)\n",
    "autoplot(oildata) +\n",
    "  ylab(\"원유 (백만 톤)\") + xlab(\"연도\")"
   ]
  },
  {
   "cell_type": "markdown",
   "id": "bb529f79",
   "metadata": {},
   "source": [
    "<br>\n",
    "\n",
    "단순 기법을 사용할 때는, 모든 미래 예측값은 시계열의 마지막 관측값과 모두 같습니다. 즉, $h=1,2,\\dots$에 대해,\n",
    "\n",
    "$$\\hat{y}_{T+h|T} = y_{T},$$\n",
    "\n",
    "와 같습니다. 단순 기법에서는 가장 최근 관측값만 가장 중요한 유일한 값이고, 이전의 모든 관측값은 미래를 예측할 때 아무 정보도 주지 않는다고 가정합니다. 이 방법을 마지막 관측에만 모든 가중치를 할당하는 가중 평균으로 볼 수도 있습니다.\n",
    "\n",
    "평균 기법을 사용할 때는, 모든 미래 예측치는 관측된 데이터의 단순 평균과 같습니다. 즉, $h=1,2,\\dots$에 대해\n",
    "\n",
    "$$\\hat{y}_{T+h|T} = \\frac1T \\sum_{t=1}^T y_t,$$"
   ]
  },
  {
   "cell_type": "markdown",
   "id": "c72b5115",
   "metadata": {},
   "source": [
    "**평균 기법에서는 모든 관측값이 똑같이 중요하고, 예측값을 생성할 때 이러한 관측값에 같은 가중치를 부여합니다.**\n",
    "\n",
    "우리는 종종 방금 살펴본 양극단 사이의 무언가가 필요할 때가 있습니다. **예를 들면, 오래된 관측값보다 더 최근 관측값에 더 큰 가중치를 주는 경우 말입니다. 이것이 바로 단순 지수평활(simple exponential smoothing) 기법의 기본 개념입니다. 더 오래될수록 가중치가 지수적으로 감소하는(가장 오래된 관측값에 가장 작은 가중치가 붙는) 방식으로 예측치를 계산합니다:**\n",
    "\n",
    "$$\\begin{equation}\n",
    "  \\hat{y}_{T+1|T} = \\alpha y_T + \\alpha(1-\\alpha) y_{T-1} + \\alpha(1-\\alpha)^2 y_{T-2}+ \\cdots,   \\\n",
    "\\end{equation}$$"
   ]
  },
  {
   "cell_type": "markdown",
   "id": "45be0547",
   "metadata": {},
   "source": [
    "여기에서 $0 \\le \\alpha \\le 1$은 평활 매개변수입니다. 시간 $T+1$ 에 대한 한 단계 앞 예측치(one-step-ahead forecast)는 시계열 $y_1,\\dots,y_T$ 에서 모든 모든 관측값을 가중 평균하여 얻은 값입니다. 가중치가 감소하는 비율은 매개변수 $\\alpha$로 조절합니다.\n",
    "\n",
    "아래의 표는 단순 지수 평활로 예측할 때, 4개의 서로 다른 $\\alpha$ 로 관측값에 가중치를 할당한 것을 나타냅니다. 작은 $\\alpha$ 값이라도 가중치의 합은 어떠한 적절한 표본 크기에 대해서도 근사적으로 1이 될 것입니다.\n",
    "\n",
    "<table>\n",
    "<thead>\n",
    "<tr class=\"header\">\n",
    "<th align=\"left\"></th>\n",
    "<th align=\"right\"><span class=\"math inline\">\\(\\alpha=0.2\\)</span></th>\n",
    "<th align=\"right\"><span class=\"math inline\">\\(\\alpha=0.4\\)</span></th>\n",
    "<th align=\"right\"><span class=\"math inline\">\\(\\alpha=0.6\\)</span></th>\n",
    "<th align=\"right\"><span class=\"math inline\">\\(\\alpha=0.8\\)</span></th>\n",
    "</tr>\n",
    "</thead>\n",
    "<tbody>\n",
    "<tr class=\"odd\">\n",
    "<td align=\"left\"><span class=\"math inline\">\\(y_{T}\\)</span></td>\n",
    "<td align=\"right\">0.2000</td>\n",
    "<td align=\"right\">0.4000</td>\n",
    "<td align=\"right\">0.6000</td>\n",
    "<td align=\"right\">0.8000</td>\n",
    "</tr>\n",
    "<tr class=\"even\">\n",
    "<td align=\"left\"><span class=\"math inline\">\\(y_{T-1}\\)</span></td>\n",
    "<td align=\"right\">0.1600</td>\n",
    "<td align=\"right\">0.2400</td>\n",
    "<td align=\"right\">0.2400</td>\n",
    "<td align=\"right\">0.1600</td>\n",
    "</tr>\n",
    "<tr class=\"odd\">\n",
    "<td align=\"left\"><span class=\"math inline\">\\(y_{T-2}\\)</span></td>\n",
    "<td align=\"right\">0.1280</td>\n",
    "<td align=\"right\">0.1440</td>\n",
    "<td align=\"right\">0.0960</td>\n",
    "<td align=\"right\">0.0320</td>\n",
    "</tr>\n",
    "<tr class=\"even\">\n",
    "<td align=\"left\"><span class=\"math inline\">\\(y_{T-3}\\)</span></td>\n",
    "<td align=\"right\">0.1024</td>\n",
    "<td align=\"right\">0.0864</td>\n",
    "<td align=\"right\">0.0384</td>\n",
    "<td align=\"right\">0.0064</td>\n",
    "</tr>\n",
    "<tr class=\"odd\">\n",
    "<td align=\"left\"><span class=\"math inline\">\\(y_{T-4}\\)</span></td>\n",
    "<td align=\"right\">0.0819</td>\n",
    "<td align=\"right\">0.0518</td>\n",
    "<td align=\"right\">0.0154</td>\n",
    "<td align=\"right\">0.0013</td>\n",
    "</tr>\n",
    "<tr class=\"even\">\n",
    "<td align=\"left\"><span class=\"math inline\">\\(y_{T-5}\\)</span></td>\n",
    "<td align=\"right\">0.0655</td>\n",
    "<td align=\"right\">0.0311</td>\n",
    "<td align=\"right\">0.0061</td>\n",
    "<td align=\"right\">0.0003</td>\n",
    "</tr>\n",
    "</tbody>\n",
    "</table>"
   ]
  },
  {
   "cell_type": "markdown",
   "id": "86db6cbd",
   "metadata": {},
   "source": [
    "0과 1 사이의 어떤 $\\alpha$에 대해, 관측값에 붙는 가중치가 과거로 갈 수록 지수적으로 감소합니다. 그래서 “지수평활(exponential smoothing)”이라는 이름이 붙었습니다. 만약에 $\\alpha$가 가 작다면(즉, 0에 가깝다면), 더 먼 과거 관측값에 붙는 가중치가 늘어납니다. $\\alpha$가 크면(즉, 1에 가까운 경우), 더 최근 관측값에 붙는 가중치가 늘어납니다.  $\\hat{y}_{T+1|T}=y_T$ 인 극단적인 경우에는 예측값은 단순 기법으로 얻은 예측값과 같습니다.\n",
    "\n",
    "<br>\n",
    "\n",
    "### 가중 평균 형태\n",
    "\n",
    "시간 $T+1$의 예측은 가장 최근 관측값 $y_T$와 이전 예측값 $\\hat{y}_{T|T-1}$의 가중평균과 같습니다:\n",
    "\n",
    "$$\\hat{y}_{T+1|t} = \\alpha y_T + (1-\\alpha) \\hat{y}_{T|T-1}$$\n",
    "\n",
    "여기에서 $0 \\le \\alpha \\le 1$은 평활 매개변수입니다. 비슷하게, $t=1,\\dots,T$에 대해, 적합값(fitted value)도 다음과 같이 적을 수 있습니다.\n",
    "\n",
    "$$\\hat{y}_{t+1|t} = \\alpha y_t + (1-\\alpha) \\hat{y}_{t|t-1},$$\n",
    "\n",
    "(여기에서 적합값은 단순히 학습 데이터의 한 단계 예측(one-step forecast)이라는 것을 기억합시다.)\n",
    "\n",
    "진행 과정을 어디에선가 시작해야만 하니, (우리가 추정해야할) 시간 1에서의 첫 번째 적합값을  $\\ell_0$로 둡시다. 그러면,\n",
    "\n",
    "$$\\begin{align*}\n",
    "  \\hat{y}_{2|1} &= \\alpha y_1 + (1-\\alpha) \\ell_0\\\\\n",
    "  \\hat{y}_{3|2} &= \\alpha y_2 + (1-\\alpha) \\hat{y}_{2|1}\\\\\n",
    "  \\hat{y}_{4|3} &= \\alpha y_3 + (1-\\alpha) \\hat{y}_{3|2}\\\\\n",
    "  \\vdots\\\\\n",
    "  \\hat{y}_{T|T-1} &= \\alpha y_{T-1} + (1-\\alpha) \\hat{y}_{T-1|T-2}\\\\\n",
    "  \\hat{y}_{T+1|T} &= \\alpha y_T + (1-\\alpha) \\hat{y}_{T|T-1}.\n",
    "\\end{align*}$$\n",
    "\n",
    "각 식을 다음의 식에 대입하면 아래의 결과를 얻습니다.\n",
    "\n",
    "$$\\begin{align*}\n",
    "  \\hat{y}_{3|2}   & = \\alpha y_2 + (1-\\alpha) \\left[\\alpha y_1 + (1-\\alpha) \\ell_0\\right]              \\\\\n",
    "                 & = \\alpha y_2 + \\alpha(1-\\alpha) y_1 + (1-\\alpha)^2 \\ell_0                          \\\\\n",
    "  \\hat{y}_{4|3}   & = \\alpha y_3 + (1-\\alpha) [\\alpha y_2 + \\alpha(1-\\alpha) y_1 + (1-\\alpha)^2 \\ell_0]\\\\\n",
    "                 & = \\alpha y_3 + \\alpha(1-\\alpha) y_2 + \\alpha(1-\\alpha)^2 y_1 + (1-\\alpha)^3 \\ell_0 \\\\\n",
    "                 & ~~\\vdots                                                                           \\\\\n",
    "  \\hat{y}_{T+1|T} & =  \\sum_{j=0}^{T-1} \\alpha(1-\\alpha)^j y_{T-j} + (1-\\alpha)^T \\ell_{0}.\n",
    "\\end{align*}$$\n",
    "\n",
    "마지막 항은 $T$ 값이 클 때 작아집니다. 그래서 가중 평균 형태는 $\\begin{equation}\n",
    "  \\hat{y}_{T+1|T} = \\alpha y_T + \\alpha(1-\\alpha) y_{T-1} + \\alpha(1-\\alpha)^2 y_{T-2}+ \\cdots,   \\\n",
    "\\end{equation}$이 됩니다.\n",
    "\n"
   ]
  },
  {
   "cell_type": "markdown",
   "id": "32afea19",
   "metadata": {},
   "source": [
    "<br>\n",
    "\n",
    "### 성분 형태\n",
    "\n",
    "또 다른 표현 방식으로는 성분 형태가 있습니다. 단순 지수평활에서 포함된 유일한 성분은 수준값 $\\ell_t$입니다. (이 장의 뒷 부분에서 다루는 다른 기법에는 추세 $b_t$와 계절 성분 $s_t$도 포함할 수 있습니다.) 지수 평활 기법의 성분 형태 표현은 기법에 포함된 각 성분에 대한 예측식과 평활식으로 구성됩니다. 단순 지수 평활의 성분 형태는 다음과 같이 주어집니다:\n",
    "\n",
    "$$\\begin{align*}\n",
    "  \\text{Forecast equation}  && \\hat{y}_{t+h|t} & = \\ell_{t}\\\\\n",
    "  \\text{Smoothing equation} && \\ell_{t}        & = \\alpha y_{t} + (1 - \\alpha)\\ell_{t-1},\n",
    "\\end{align*}$$\n",
    "\n",
    "<br>\n",
    "\n",
    "여기에서 $\\ell_t$는 시간 $t$에서 시계열의 수준값(또는 평활화된 값)입니다.  $h=1$로 두면 적합값을 얻을 수 있고, $t=T$로 두면 학습 데이터 이후의 예측값을 얻을 수 있습니다.\n",
    "\n",
    "예측식은 시간 $t+1$의 예측값은 시간 $t$의 추정된 수준값입니다. (종종 수준식이라고 부르는) 수준에 대한 평활식으로 각 시기  $t$에서 시계열의 추정된 수준을 얻을 수 있습니다.\n",
    "\n",
    "평활식에서 $\\ell_t$을 $\\hat{y}_{t+1|t}$로 $\\ell_t$을 $\\hat{y}_{t|t-1}$로 바꾸면, 단순 지수평활의 가중 평균 형태를 얻을 수 있을 것입니다.\n",
    "\n",
    "단순 지수 평활의 성분 형태는 특별히 유용하진 않습니다만, 다른 성분을 추가할 때 가장 쉽게 사용할 수 있는 형태일 것입니다.\n",
    "\n",
    "<br>\n",
    "\n",
    "### 평평한 예측값\n",
    "\n",
    "단순 지수 평활은 “평평(flat)”한 예측 함수를 갖습니다:\n",
    "\n",
    "$$\\hat{y}_{T+h|T} = \\hat{y}_{T+1|T}=\\ell_T, \\qquad h=2,3,\\dots.$$\n",
    "\n",
    "즉, 모든 예측값이 마지막 수준 성분과 같은 값을 갖습니다. 이러한 예측은 시계열에 추세나 계절 성분이 없을 때 사용할 수 있다는 사실을 기억합시다.\n",
    "\n",
    "<br>\n",
    "\n",
    "### 최적화\n",
    "\n",
    "모든 지수 평활법을 응용할 때, 평활 매개변수와 초기값이 필요합니다. 특별히, 단순 지수평활의 경우에는, $\\alpha$와 $\\ell_0$을 선택해야 합니다. 이러한 값을 알면, 데이터로부터 모든 예측치를 계산할 수 있습니다. 다음에 소개하는 기법에는 보통 2개 이상의 매개변수가 있고 2개 이상의 초기 성분이 있습니다.\n",
    "\n",
    "평활 매개변수를 주관적으로 선택하는 몇몇 경우에는, 예측하는 사람이 이전의 경험에 근거하여 평활 매개변수의 값을 정합니다. 하지만, 알려지지 않은 매개변수 값을 얻는 더욱 안전하고 객관적인 방법은 관측된 데이터에서 이러한 값을 추정하는 것입니다.\n",
    "\n",
    "(흔히 SSE 또는 제곱오차합으로 알려진) 잔차(residual)의 제곱의 합을 최소화하여 회귀 모델의 계수를 추정하였습니다. 비슷하게, SSE를 최소화하여 어떤 지수 평활기법에 대해 알려지지 않은 매개변수와 초기값을 구할 수 있습니다.$t=1,\\dots,T$ 에 대해, 잔차는  $e_t=y_t - \\hat{y}_{t|t-1}$ 로 명시합니다. 이렇게하여, SSE를 최소화하는 알려지지 않은 매개변수와 초기값을 찾습니다. SSE는 다음과 같이 주어집니다.\n",
    "\n",
    "$$\\begin{equation}\n",
    "\\text{SSE}=\\sum_{t=1}^T(y_t - \\hat{y}_{t|t-1})^2=\\sum_{t=1}^Te_t^2. \\\n",
    "\\end{equation}$$\n",
    "\n",
    "(SSE를 최소화하는 회귀 계수값을 돌려 받는 공식이 있는) 회귀 모델 경우와는 다르게, 이 경우는 비선형 최소화 문제이고 최소화하기 위해 최적화 도구를 사용해야 합니다.\n",
    "\n"
   ]
  },
  {
   "cell_type": "markdown",
   "id": "c196f1b8",
   "metadata": {},
   "source": [
    "<br>\n",
    "\n",
    "### 예제: 원유 생산량\n",
    "\n",
    "이 예제에서는 사우디 아라비아의 원유 생산량을 예측하기 위해 단순 지수평활을 적용하였습니다."
   ]
  },
  {
   "cell_type": "code",
   "execution_count": 4,
   "id": "0bb982cc",
   "metadata": {},
   "outputs": [
    {
     "data": {
      "text/html": [
       "A Time Series:<br><style>\n",
       ".list-inline {list-style: none; margin:0; padding: 0}\n",
       ".list-inline>li {display: inline-block}\n",
       ".list-inline>li:not(:last-child)::after {content: \"\\00b7\"; padding: 0 .5ex}\n",
       "</style>\n",
       "<ol class=list-inline><li>446.6565229</li><li>454.4733065</li><li>455.662974</li><li>423.6322388</li><li>456.2713279</li><li>440.5880501</li></ol>\n"
      ],
      "text/latex": [
       "A Time Series:\\\\\\begin{enumerate*}\n",
       "\\item 446.6565229\n",
       "\\item 454.4733065\n",
       "\\item 455.662974\n",
       "\\item 423.6322388\n",
       "\\item 456.2713279\n",
       "\\item 440.5880501\n",
       "\\end{enumerate*}\n"
      ],
      "text/markdown": [
       "A Time Series:  \n",
       "1. 446.6565229\n",
       "2. 454.4733065\n",
       "3. 455.662974\n",
       "4. 423.6322388\n",
       "5. 456.2713279\n",
       "6. 440.5880501\n",
       "\n",
       "\n"
      ],
      "text/plain": [
       "A Time Series:\n",
       "[1] 446.6565 454.4733 455.6630 423.6322 456.2713 440.5881"
      ]
     },
     "metadata": {},
     "output_type": "display_data"
    }
   ],
   "source": [
    "oildata <- window(oil, start=1996)\n",
    "oildata %>% head"
   ]
  },
  {
   "cell_type": "markdown",
   "id": "99f00104",
   "metadata": {},
   "source": [
    "#### `ses(y, h)` : 단순 지수 평활\n",
    "- `h` : 지수 평활 차수"
   ]
  },
  {
   "cell_type": "code",
   "execution_count": 11,
   "id": "efa78e00",
   "metadata": {},
   "outputs": [
    {
     "data": {
      "text/plain": [
       "\n",
       "Forecast method: Simple exponential smoothing\n",
       "\n",
       "Model Information:\n",
       "Simple exponential smoothing \n",
       "\n",
       "Call:\n",
       " ses(y = oildata, h = 5) \n",
       "\n",
       "  Smoothing parameters:\n",
       "    alpha = 0.7864 \n",
       "\n",
       "  Initial states:\n",
       "    l = 448.1252 \n",
       "\n",
       "  sigma:  27.9726\n",
       "\n",
       "     AIC     AICc      BIC \n",
       "144.4110 146.5928 146.5352 \n",
       "\n",
       "Error measures:\n",
       "                   ME    RMSE      MAE       MPE     MAPE      MASE        ACF1\n",
       "Training set 1.792201 26.0411 20.80399 0.2056098 4.391753 0.9293825 -0.01079004\n",
       "\n",
       "Forecasts:\n",
       "     Point Forecast    Lo 80    Hi 80    Lo 95    Hi 95\n",
       "2011       469.2669 433.4186 505.1153 414.4416 524.0923\n",
       "2012       469.2669 423.6608 514.8730 399.5184 539.0155\n",
       "2013       469.2669 415.6505 522.8834 387.2676 551.2663\n",
       "2014       469.2669 408.6902 529.8437 376.6228 561.9110\n",
       "2015       469.2669 402.4512 536.0827 367.0810 571.4529"
      ]
     },
     "metadata": {},
     "output_type": "display_data"
    }
   ],
   "source": [
    "fc <- ses(oildata, h=5)\n",
    "fc %>% summary"
   ]
  },
  {
   "cell_type": "code",
   "execution_count": 7,
   "id": "c6e3b7f9",
   "metadata": {},
   "outputs": [
    {
     "data": {
      "text/html": [
       "<table class=\"dataframe\">\n",
       "<caption>A matrix: 1 × 7 of type dbl</caption>\n",
       "<thead>\n",
       "\t<tr><th></th><th scope=col>ME</th><th scope=col>RMSE</th><th scope=col>MAE</th><th scope=col>MPE</th><th scope=col>MAPE</th><th scope=col>MASE</th><th scope=col>ACF1</th></tr>\n",
       "</thead>\n",
       "<tbody>\n",
       "\t<tr><th scope=row>Training set</th><td>1.79</td><td>26.04</td><td>20.8</td><td>0.21</td><td>4.39</td><td>0.93</td><td>-0.01</td></tr>\n",
       "</tbody>\n",
       "</table>\n"
      ],
      "text/latex": [
       "A matrix: 1 × 7 of type dbl\n",
       "\\begin{tabular}{r|lllllll}\n",
       "  & ME & RMSE & MAE & MPE & MAPE & MASE & ACF1\\\\\n",
       "\\hline\n",
       "\tTraining set & 1.79 & 26.04 & 20.8 & 0.21 & 4.39 & 0.93 & -0.01\\\\\n",
       "\\end{tabular}\n"
      ],
      "text/markdown": [
       "\n",
       "A matrix: 1 × 7 of type dbl\n",
       "\n",
       "| <!--/--> | ME | RMSE | MAE | MPE | MAPE | MASE | ACF1 |\n",
       "|---|---|---|---|---|---|---|---|\n",
       "| Training set | 1.79 | 26.04 | 20.8 | 0.21 | 4.39 | 0.93 | -0.01 |\n",
       "\n"
      ],
      "text/plain": [
       "             ME   RMSE  MAE  MPE  MAPE MASE ACF1 \n",
       "Training set 1.79 26.04 20.8 0.21 4.39 0.93 -0.01"
      ]
     },
     "metadata": {},
     "output_type": "display_data"
    }
   ],
   "source": [
    "round(accuracy(fc),2)"
   ]
  },
  {
   "cell_type": "markdown",
   "id": "06b0f6d4",
   "metadata": {},
   "source": [
    "SSE(RMSE와 같은 것입니다)를 $0\\le\\alpha\\le1$라는 조건에서 시점 $t=1,2,\\dots,18$에 대해 최소화하여, 매개변수 $\\hat\\alpha=0.83$과 $\\hat\\ell_0=446.6$을 얻습니다.\n",
    "\n",
    "이러한 매개변수를 사용하여 계산한 결과를 나타냅니다. 마지막에서 두 번째 열은 시간 $t=0$부터 $t=18$까지에 대해 추정된 수준을 나타내고, 마지막 열의 마지막 몇 행들은 $h=1,2,3,4,5$에 대한 예측값을 나타냅니다.\n",
    "\n",
    "<table>\n",
    "<caption><span id=\"tab:oilses\">Table 7.1: </span>단순 지수평활을 이용하여 사우디 아라비아 전체 원유 생산량을 백만 톤 단위로 예측한 것.</caption>\n",
    "<thead>\n",
    "<tr class=\"header\">\n",
    "<th align=\"left\">연도</th>\n",
    "<th align=\"left\">시간</th>\n",
    "<th align=\"left\">관측값</th>\n",
    "<th align=\"left\">수준</th>\n",
    "<th align=\"left\">예측값</th>\n",
    "</tr>\n",
    "</thead>\n",
    "<tbody>\n",
    "<tr class=\"odd\">\n",
    "<td align=\"left\"></td>\n",
    "<td align=\"left\"><span class=\"math inline\">\\(t\\)</span></td>\n",
    "<td align=\"left\"><span class=\"math inline\">\\(y_t\\)</span></td>\n",
    "<td align=\"left\"><span class=\"math inline\">\\(\\ell_t\\)</span></td>\n",
    "<td align=\"left\"><span class=\"math inline\">\\(\\hat{y}_{t|t-1}\\)</span></td>\n",
    "</tr>\n",
    "<tr class=\"even\">\n",
    "<td align=\"left\">1995</td>\n",
    "<td align=\"left\">0</td>\n",
    "<td align=\"left\"></td>\n",
    "<td align=\"left\">446.59</td>\n",
    "<td align=\"left\"></td>\n",
    "</tr>\n",
    "<tr class=\"odd\">\n",
    "<td align=\"left\">1996</td>\n",
    "<td align=\"left\">1</td>\n",
    "<td align=\"left\">445.36</td>\n",
    "<td align=\"left\">445.57</td>\n",
    "<td align=\"left\">446.59</td>\n",
    "</tr>\n",
    "<tr class=\"even\">\n",
    "<td align=\"left\">1997</td>\n",
    "<td align=\"left\">2</td>\n",
    "<td align=\"left\">453.20</td>\n",
    "<td align=\"left\">451.93</td>\n",
    "<td align=\"left\">445.57</td>\n",
    "</tr>\n",
    "<tr class=\"odd\">\n",
    "<td align=\"left\">1998</td>\n",
    "<td align=\"left\">3</td>\n",
    "<td align=\"left\">454.41</td>\n",
    "<td align=\"left\">454.00</td>\n",
    "<td align=\"left\">451.93</td>\n",
    "</tr>\n",
    "<tr class=\"even\">\n",
    "<td align=\"left\">1999</td>\n",
    "<td align=\"left\">4</td>\n",
    "<td align=\"left\">422.38</td>\n",
    "<td align=\"left\">427.63</td>\n",
    "<td align=\"left\">454.00</td>\n",
    "</tr>\n",
    "<tr class=\"odd\">\n",
    "<td align=\"left\">2000</td>\n",
    "<td align=\"left\">5</td>\n",
    "<td align=\"left\">456.04</td>\n",
    "<td align=\"left\">451.32</td>\n",
    "<td align=\"left\">427.63</td>\n",
    "</tr>\n",
    "<tr class=\"even\">\n",
    "<td align=\"left\">2001</td>\n",
    "<td align=\"left\">6</td>\n",
    "<td align=\"left\">440.39</td>\n",
    "<td align=\"left\">442.20</td>\n",
    "<td align=\"left\">451.32</td>\n",
    "</tr>\n",
    "<tr class=\"odd\">\n",
    "<td align=\"left\">2002</td>\n",
    "<td align=\"left\">7</td>\n",
    "<td align=\"left\">425.19</td>\n",
    "<td align=\"left\">428.02</td>\n",
    "<td align=\"left\">442.20</td>\n",
    "</tr>\n",
    "<tr class=\"even\">\n",
    "<td align=\"left\">2003</td>\n",
    "<td align=\"left\">8</td>\n",
    "<td align=\"left\">486.21</td>\n",
    "<td align=\"left\">476.54</td>\n",
    "<td align=\"left\">428.02</td>\n",
    "</tr>\n",
    "<tr class=\"odd\">\n",
    "<td align=\"left\">2004</td>\n",
    "<td align=\"left\">9</td>\n",
    "<td align=\"left\">500.43</td>\n",
    "<td align=\"left\">496.46</td>\n",
    "<td align=\"left\">476.54</td>\n",
    "</tr>\n",
    "<tr class=\"even\">\n",
    "<td align=\"left\">2005</td>\n",
    "<td align=\"left\">10</td>\n",
    "<td align=\"left\">521.28</td>\n",
    "<td align=\"left\">517.15</td>\n",
    "<td align=\"left\">496.46</td>\n",
    "</tr>\n",
    "<tr class=\"odd\">\n",
    "<td align=\"left\">2006</td>\n",
    "<td align=\"left\">11</td>\n",
    "<td align=\"left\">508.95</td>\n",
    "<td align=\"left\">510.31</td>\n",
    "<td align=\"left\">517.15</td>\n",
    "</tr>\n",
    "<tr class=\"even\">\n",
    "<td align=\"left\">2007</td>\n",
    "<td align=\"left\">12</td>\n",
    "<td align=\"left\">488.89</td>\n",
    "<td align=\"left\">492.45</td>\n",
    "<td align=\"left\">510.31</td>\n",
    "</tr>\n",
    "<tr class=\"odd\">\n",
    "<td align=\"left\">2008</td>\n",
    "<td align=\"left\">13</td>\n",
    "<td align=\"left\">509.87</td>\n",
    "<td align=\"left\">506.98</td>\n",
    "<td align=\"left\">492.45</td>\n",
    "</tr>\n",
    "<tr class=\"even\">\n",
    "<td align=\"left\">2009</td>\n",
    "<td align=\"left\">14</td>\n",
    "<td align=\"left\">456.72</td>\n",
    "<td align=\"left\">465.07</td>\n",
    "<td align=\"left\">506.98</td>\n",
    "</tr>\n",
    "<tr class=\"odd\">\n",
    "<td align=\"left\">2010</td>\n",
    "<td align=\"left\">15</td>\n",
    "<td align=\"left\">473.82</td>\n",
    "<td align=\"left\">472.36</td>\n",
    "<td align=\"left\">465.07</td>\n",
    "</tr>\n",
    "<tr class=\"even\">\n",
    "<td align=\"left\">2011</td>\n",
    "<td align=\"left\">16</td>\n",
    "<td align=\"left\">525.95</td>\n",
    "<td align=\"left\">517.05</td>\n",
    "<td align=\"left\">472.36</td>\n",
    "</tr>\n",
    "<tr class=\"odd\">\n",
    "<td align=\"left\">2012</td>\n",
    "<td align=\"left\">17</td>\n",
    "<td align=\"left\">549.83</td>\n",
    "<td align=\"left\">544.39</td>\n",
    "<td align=\"left\">517.05</td>\n",
    "</tr>\n",
    "<tr class=\"even\">\n",
    "<td align=\"left\">2013</td>\n",
    "<td align=\"left\">18</td>\n",
    "<td align=\"left\">542.34</td>\n",
    "<td align=\"left\">542.68</td>\n",
    "<td align=\"left\">544.39</td>\n",
    "</tr>\n",
    "<tr class=\"odd\">\n",
    "<td align=\"left\"></td>\n",
    "<td align=\"left\"><span class=\"math inline\">\\(h\\)</span></td>\n",
    "<td align=\"left\"><span class=\"math inline\"></span></td>\n",
    "<td align=\"left\"><span class=\"math inline\"></span></td>\n",
    "<td align=\"left\"><span class=\"math inline\">\\(\\hat{y}_{T+h|T}\\)</span></td>\n",
    "</tr>\n",
    "<tr class=\"even\">\n",
    "<td align=\"left\">2014</td>\n",
    "<td align=\"left\">1</td>\n",
    "<td align=\"left\"></td>\n",
    "<td align=\"left\"></td>\n",
    "<td align=\"left\">542.68</td>\n",
    "</tr>\n",
    "<tr class=\"odd\">\n",
    "<td align=\"left\">2015</td>\n",
    "<td align=\"left\">2</td>\n",
    "<td align=\"left\"></td>\n",
    "<td align=\"left\"></td>\n",
    "<td align=\"left\">542.68</td>\n",
    "</tr>\n",
    "<tr class=\"even\">\n",
    "<td align=\"left\">2016</td>\n",
    "<td align=\"left\">3</td>\n",
    "<td align=\"left\"></td>\n",
    "<td align=\"left\"></td>\n",
    "<td align=\"left\">542.68</td>\n",
    "</tr>\n",
    "<tr class=\"odd\">\n",
    "<td align=\"left\">2017</td>\n",
    "<td align=\"left\">4</td>\n",
    "<td align=\"left\"></td>\n",
    "<td align=\"left\"></td>\n",
    "<td align=\"left\">542.68</td>\n",
    "</tr>\n",
    "<tr class=\"even\">\n",
    "<td align=\"left\">2018</td>\n",
    "<td align=\"left\">5</td>\n",
    "<td align=\"left\"></td>\n",
    "<td align=\"left\"></td>\n",
    "<td align=\"left\">542.68</td>\n",
    "</tr>\n",
    "</tbody>\n",
    "</table>"
   ]
  },
  {
   "cell_type": "code",
   "execution_count": 12,
   "id": "a9bce72e",
   "metadata": {},
   "outputs": [
    {
     "data": {
      "image/png": "[encoded data removed]",
      "text/plain": [
       "plot without title"
      ]
     },
     "metadata": {
      "image/png": {
       "height": 420,
       "width": 420
      }
     },
     "output_type": "display_data"
    }
   ],
   "source": [
    "autoplot(fc) +\n",
    "  autolayer(fitted(fc), series=\"적합값\") +\n",
    "  ylab(\"원유 (백만 톤)\") + xlab(\"연도\") +\n",
    "  ggtitle(\"단순 지수평활로 얻은 예측값\")"
   ]
  },
  {
   "cell_type": "markdown",
   "id": "bc7a6d16",
   "metadata": {},
   "source": [
    "2014–2018년에 해당하는 기간에 대한 예측값을 그래프로 나타낸 것입니다. 한 단계 앞 적합값(one-step-ahead fitted value)도 1996년부터 2013년에 해당하는 기간의 데이터와 함께 나타냈습니다. 이 예제에서 큰  $α$ 값은 각 시간의 추정된 수준 $ℓ_t$에 맞춰질 때 크게 조정되는 것을 의미합니다. $α$값이 작을 수록 더 작은 시간에 따른 변화로 이어질 것이고, 적합값의 시계열은 매끄러워질 것입니다.\n",
    "\n",
    "다룬 기법을 사용하여 여기에서 나타낸 예측구간(prediction interval)을 계산합니다. 예측구간은 5년의 예측구간에서 원유 생산량의 미래 값에 상당한 불확실성이 있다는 것을 나타냅니다. 따라서 큰 불확실성을 고려하지 않고 점 예측(point forecast)을 해석하면 아주 큰 오해의 소지가 생길 수 있습니다.\n",
    "\n"
   ]
  },
  {
   "cell_type": "markdown",
   "id": "6e24d4ed",
   "metadata": {},
   "source": [
    "<br>\n",
    "\n",
    "## 07.02. 추세 기법\n",
    "\n",
    "<br>\n",
    "\n",
    "### 홀트의 선형 추세 기법\n",
    "\n",
    "**Holt (1957) 에서는 추세가 있는 데이터를 예측할 수 있도록 단순 지수 평활을 확장했습니다. 이 방법은 예측식과 두 개의 평활식(하나는 수준에 관한 것, 다른 하나는 추세에 관한 것)을 포함합니다.**\n",
    "\n",
    "$$\\begin{align*}\n",
    "  \\text{Forecast equation}&& \\hat{y}_{t+h|t} &= \\ell_{t} + hb_{t} \\\\\n",
    "  \\text{Level equation}   && \\ell_{t} &= \\alpha y_{t} + (1 - \\alpha)(\\ell_{t-1} + b_{t-1})\\\\\n",
    "  \\text{Trend equation}   && b_{t}    &= \\beta^*(\\ell_{t} - \\ell_{t-1}) + (1 -\\beta^*)b_{t-1},\n",
    "\\end{align*}$$\n",
    "\n",
    "**여기에서  $ℓ_t$는 시간  $t$ 에서 시계열의 수준 추정 값,  $b_t$는 시간  $t$ 에서의 시계열의 추세(기울기) 추정 값,  $0≤α≤1$은 수준에 대한 매개변수,  $0≤β^∗≤1$은 추세에 대한 매개변수를 나타냅니다.**\n",
    "\n",
    "**단순 지수평활처럼, 수준식은  $ℓ_t$이 관측 $y_t$의 가중 평균이라는 것과, 여기에서 $ℓ_{t−1}+b_{t−1}$로 주어지는 시간  $t$에 대한 한 단계 앞 학습 예측(one-step-ahead training forecast)이라는 것을 나타냅니다. 추세식은 $b_t$가 추세의 이전 추정 값인 $\\ell_{t} - \\ell_{t-1}$와  $b_{t−1}$에 기초한, 시간  $t$에서의 추정된 추세의 이동 평균이라는 것을 나타냅니다.**\n",
    "\n",
    "**예측 함수는 더이상 평평하지 않고, 추세를 가집니다. $h$단계 앞 예측은 마지막 추정 수준에 마지막 추정 추세값의  $h$배 한 것을 더한 값입니다. 따라서 예측값은  $h$의 선형 함수입니다.**\n",
    "\n"
   ]
  },
  {
   "cell_type": "markdown",
   "id": "edda1331",
   "metadata": {},
   "source": [
    "<br>\n",
    "\n",
    "### 예제: 항공객\n"
   ]
  },
  {
   "cell_type": "markdown",
   "id": "ad2f8d97",
   "metadata": {},
   "source": [
    "#### `holt(y, h)` : Holt 선형 추세 기법\n",
    "\n",
    "<br>"
   ]
  },
  {
   "cell_type": "code",
   "execution_count": 13,
   "id": "d6960f35",
   "metadata": {},
   "outputs": [],
   "source": [
    "air <- window(ausair, start=1990)\n",
    "fc <- holt(air, h=5)"
   ]
  },
  {
   "cell_type": "code",
   "execution_count": 14,
   "id": "e973959f",
   "metadata": {},
   "outputs": [
    {
     "data": {
      "text/plain": [
       "\n",
       "Forecast method: Holt's method\n",
       "\n",
       "Model Information:\n",
       "Holt's method \n",
       "\n",
       "Call:\n",
       " holt(y = air, h = 5) \n",
       "\n",
       "  Smoothing parameters:\n",
       "    alpha = 0.796 \n",
       "    beta  = 1e-04 \n",
       "\n",
       "  Initial states:\n",
       "    l = 18.1302 \n",
       "    b = 1.6647 \n",
       "\n",
       "  sigma:  1.8313\n",
       "\n",
       "     AIC     AICc      BIC \n",
       "89.65302 93.93873 94.63168 \n",
       "\n",
       "Error measures:\n",
       "                      ME     RMSE      MAE       MPE     MAPE      MASE\n",
       "Training set -0.05066303 1.637973 1.365338 -0.396594 4.331257 0.7008604\n",
       "                     ACF1\n",
       "Training set -0.009109138\n",
       "\n",
       "Forecasts:\n",
       "     Point Forecast    Lo 80    Hi 80    Lo 95    Hi 95\n",
       "2010       52.28148 49.93456 54.62839 48.69218 55.87078\n",
       "2011       53.94611 50.94636 56.94587 49.35839 58.53384\n",
       "2012       55.61075 52.07665 59.14485 50.20581 61.01569\n",
       "2013       57.27539 53.27762 61.27315 51.16133 63.38944\n",
       "2014       58.94002 54.52694 63.35310 52.19080 65.68924"
      ]
     },
     "metadata": {},
     "output_type": "display_data"
    }
   ],
   "source": [
    "fc %>% summary"
   ]
  },
  {
   "cell_type": "markdown",
   "id": "8438cc73",
   "metadata": {},
   "source": [
    "호주 항공사에 대한 매년 탑승객 수에 홀트(Holt) 기법을 적용한 것을 설명합니다. 평활 매개변수  $α$ 와 $β^∗$ 그리고 초기값 $ℓ_0$과 $b_0$은 한-단계 학습 오차(one-step training error)에 대한 SSE를 최소화하여 추정합니다\n",
    "\n",
    "<table>\n",
    "<caption><span id=\"tab:airholt\">Table 7.2: </span><span class=\"math inline\">\\(\\alpha=0.8321\\)</span> 와 <span class=\"math inline\">\\(\\beta^*=0.0001\\)</span>인 홀트의 선형 기법을 호주 항공객 데이터에 적용한 것(단위: 백만 명).</caption>\n",
    "<thead>\n",
    "<tr class=\"header\">\n",
    "<th align=\"left\">연도</th>\n",
    "<th align=\"left\">시간</th>\n",
    "<th align=\"left\">관측값</th>\n",
    "<th align=\"left\">수준</th>\n",
    "<th align=\"left\">기울기</th>\n",
    "<th align=\"left\">예측값</th>\n",
    "</tr>\n",
    "</thead>\n",
    "<tbody>\n",
    "<tr class=\"odd\">\n",
    "<td align=\"left\"></td>\n",
    "<td align=\"left\"><span class=\"math inline\">\\(t\\)</span></td>\n",
    "<td align=\"left\"><span class=\"math inline\">\\(y_t\\)</span></td>\n",
    "<td align=\"left\"><span class=\"math inline\">\\(\\ell_t\\)</span></td>\n",
    "<td align=\"left\"><span class=\"math inline\">\\(b_t\\)</span></td>\n",
    "<td align=\"left\"><span class=\"math inline\">\\(\\hat{y}_{t|t-1}\\)</span></td>\n",
    "</tr>\n",
    "<tr class=\"even\">\n",
    "<td align=\"left\">1989</td>\n",
    "<td align=\"left\">0</td>\n",
    "<td align=\"left\"></td>\n",
    "<td align=\"left\">15.57</td>\n",
    "<td align=\"left\">2.102</td>\n",
    "<td align=\"left\"></td>\n",
    "</tr>\n",
    "<tr class=\"odd\">\n",
    "<td align=\"left\">1990</td>\n",
    "<td align=\"left\">1</td>\n",
    "<td align=\"left\">17.55</td>\n",
    "<td align=\"left\">17.57</td>\n",
    "<td align=\"left\">2.102</td>\n",
    "<td align=\"left\">17.67</td>\n",
    "</tr>\n",
    "<tr class=\"even\">\n",
    "<td align=\"left\">1991</td>\n",
    "<td align=\"left\">2</td>\n",
    "<td align=\"left\">21.86</td>\n",
    "<td align=\"left\">21.49</td>\n",
    "<td align=\"left\">2.102</td>\n",
    "<td align=\"left\">19.68</td>\n",
    "</tr>\n",
    "<tr class=\"odd\">\n",
    "<td align=\"left\">1992</td>\n",
    "<td align=\"left\">3</td>\n",
    "<td align=\"left\">23.89</td>\n",
    "<td align=\"left\">23.84</td>\n",
    "<td align=\"left\">2.102</td>\n",
    "<td align=\"left\">23.59</td>\n",
    "</tr>\n",
    "<tr class=\"even\">\n",
    "<td align=\"left\">1993</td>\n",
    "<td align=\"left\">4</td>\n",
    "<td align=\"left\">26.93</td>\n",
    "<td align=\"left\">26.76</td>\n",
    "<td align=\"left\">2.102</td>\n",
    "<td align=\"left\">25.94</td>\n",
    "</tr>\n",
    "<tr class=\"odd\">\n",
    "<td align=\"left\">1994</td>\n",
    "<td align=\"left\">5</td>\n",
    "<td align=\"left\">26.89</td>\n",
    "<td align=\"left\">27.22</td>\n",
    "<td align=\"left\">2.102</td>\n",
    "<td align=\"left\">28.86</td>\n",
    "</tr>\n",
    "<tr class=\"even\">\n",
    "<td align=\"left\">1995</td>\n",
    "<td align=\"left\">6</td>\n",
    "<td align=\"left\">28.83</td>\n",
    "<td align=\"left\">28.92</td>\n",
    "<td align=\"left\">2.102</td>\n",
    "<td align=\"left\">29.33</td>\n",
    "</tr>\n",
    "<tr class=\"odd\">\n",
    "<td align=\"left\">1996</td>\n",
    "<td align=\"left\">7</td>\n",
    "<td align=\"left\">30.08</td>\n",
    "<td align=\"left\">30.24</td>\n",
    "<td align=\"left\">2.102</td>\n",
    "<td align=\"left\">31.02</td>\n",
    "</tr>\n",
    "<tr class=\"even\">\n",
    "<td align=\"left\">1997</td>\n",
    "<td align=\"left\">8</td>\n",
    "<td align=\"left\">30.95</td>\n",
    "<td align=\"left\">31.19</td>\n",
    "<td align=\"left\">2.102</td>\n",
    "<td align=\"left\">32.34</td>\n",
    "</tr>\n",
    "<tr class=\"odd\">\n",
    "<td align=\"left\">1998</td>\n",
    "<td align=\"left\">9</td>\n",
    "<td align=\"left\">30.19</td>\n",
    "<td align=\"left\">30.71</td>\n",
    "<td align=\"left\">2.101</td>\n",
    "<td align=\"left\">33.29</td>\n",
    "</tr>\n",
    "<tr class=\"even\">\n",
    "<td align=\"left\">1999</td>\n",
    "<td align=\"left\">10</td>\n",
    "<td align=\"left\">31.58</td>\n",
    "<td align=\"left\">31.79</td>\n",
    "<td align=\"left\">2.101</td>\n",
    "<td align=\"left\">32.81</td>\n",
    "</tr>\n",
    "<tr class=\"odd\">\n",
    "<td align=\"left\">2000</td>\n",
    "<td align=\"left\">11</td>\n",
    "<td align=\"left\">32.58</td>\n",
    "<td align=\"left\">32.80</td>\n",
    "<td align=\"left\">2.101</td>\n",
    "<td align=\"left\">33.89</td>\n",
    "</tr>\n",
    "<tr class=\"even\">\n",
    "<td align=\"left\">2001</td>\n",
    "<td align=\"left\">12</td>\n",
    "<td align=\"left\">33.48</td>\n",
    "<td align=\"left\">33.72</td>\n",
    "<td align=\"left\">2.101</td>\n",
    "<td align=\"left\">34.90</td>\n",
    "</tr>\n",
    "<tr class=\"odd\">\n",
    "<td align=\"left\">2002</td>\n",
    "<td align=\"left\">13</td>\n",
    "<td align=\"left\">39.02</td>\n",
    "<td align=\"left\">38.48</td>\n",
    "<td align=\"left\">2.101</td>\n",
    "<td align=\"left\">35.82</td>\n",
    "</tr>\n",
    "<tr class=\"even\">\n",
    "<td align=\"left\">2003</td>\n",
    "<td align=\"left\">14</td>\n",
    "<td align=\"left\">41.39</td>\n",
    "<td align=\"left\">41.25</td>\n",
    "<td align=\"left\">2.101</td>\n",
    "<td align=\"left\">40.58</td>\n",
    "</tr>\n",
    "<tr class=\"odd\">\n",
    "<td align=\"left\">2004</td>\n",
    "<td align=\"left\">15</td>\n",
    "<td align=\"left\">41.60</td>\n",
    "<td align=\"left\">41.89</td>\n",
    "<td align=\"left\">2.101</td>\n",
    "<td align=\"left\">43.35</td>\n",
    "</tr>\n",
    "<tr class=\"even\">\n",
    "<td align=\"left\">2005</td>\n",
    "<td align=\"left\">16</td>\n",
    "<td align=\"left\">44.66</td>\n",
    "<td align=\"left\">44.54</td>\n",
    "<td align=\"left\">2.101</td>\n",
    "<td align=\"left\">44.00</td>\n",
    "</tr>\n",
    "<tr class=\"odd\">\n",
    "<td align=\"left\">2006</td>\n",
    "<td align=\"left\">17</td>\n",
    "<td align=\"left\">46.95</td>\n",
    "<td align=\"left\">46.90</td>\n",
    "<td align=\"left\">2.101</td>\n",
    "<td align=\"left\">46.65</td>\n",
    "</tr>\n",
    "<tr class=\"even\">\n",
    "<td align=\"left\">2007</td>\n",
    "<td align=\"left\">18</td>\n",
    "<td align=\"left\">48.73</td>\n",
    "<td align=\"left\">48.78</td>\n",
    "<td align=\"left\">2.101</td>\n",
    "<td align=\"left\">49.00</td>\n",
    "</tr>\n",
    "<tr class=\"odd\">\n",
    "<td align=\"left\">2008</td>\n",
    "<td align=\"left\">19</td>\n",
    "<td align=\"left\">51.49</td>\n",
    "<td align=\"left\">51.38</td>\n",
    "<td align=\"left\">2.101</td>\n",
    "<td align=\"left\">50.88</td>\n",
    "</tr>\n",
    "<tr class=\"even\">\n",
    "<td align=\"left\">2009</td>\n",
    "<td align=\"left\">20</td>\n",
    "<td align=\"left\">50.03</td>\n",
    "<td align=\"left\">50.61</td>\n",
    "<td align=\"left\">2.101</td>\n",
    "<td align=\"left\">53.49</td>\n",
    "</tr>\n",
    "<tr class=\"odd\">\n",
    "<td align=\"left\">2010</td>\n",
    "<td align=\"left\">21</td>\n",
    "<td align=\"left\">60.64</td>\n",
    "<td align=\"left\">59.30</td>\n",
    "<td align=\"left\">2.102</td>\n",
    "<td align=\"left\">52.72</td>\n",
    "</tr>\n",
    "<tr class=\"even\">\n",
    "<td align=\"left\">2011</td>\n",
    "<td align=\"left\">22</td>\n",
    "<td align=\"left\">63.36</td>\n",
    "<td align=\"left\">63.03</td>\n",
    "<td align=\"left\">2.102</td>\n",
    "<td align=\"left\">61.40</td>\n",
    "</tr>\n",
    "<tr class=\"odd\">\n",
    "<td align=\"left\">2012</td>\n",
    "<td align=\"left\">23</td>\n",
    "<td align=\"left\">66.36</td>\n",
    "<td align=\"left\">66.15</td>\n",
    "<td align=\"left\">2.102</td>\n",
    "<td align=\"left\">65.13</td>\n",
    "</tr>\n",
    "<tr class=\"even\">\n",
    "<td align=\"left\">2013</td>\n",
    "<td align=\"left\">24</td>\n",
    "<td align=\"left\">68.20</td>\n",
    "<td align=\"left\">68.21</td>\n",
    "<td align=\"left\">2.102</td>\n",
    "<td align=\"left\">68.25</td>\n",
    "</tr>\n",
    "<tr class=\"odd\">\n",
    "<td align=\"left\">2014</td>\n",
    "<td align=\"left\">25</td>\n",
    "<td align=\"left\">68.12</td>\n",
    "<td align=\"left\">68.49</td>\n",
    "<td align=\"left\">2.102</td>\n",
    "<td align=\"left\">70.31</td>\n",
    "</tr>\n",
    "<tr class=\"even\">\n",
    "<td align=\"left\">2015</td>\n",
    "<td align=\"left\">26</td>\n",
    "<td align=\"left\">69.78</td>\n",
    "<td align=\"left\">69.92</td>\n",
    "<td align=\"left\">2.102</td>\n",
    "<td align=\"left\">70.60</td>\n",
    "</tr>\n",
    "<tr class=\"odd\">\n",
    "<td align=\"left\">2016</td>\n",
    "<td align=\"left\">27</td>\n",
    "<td align=\"left\">72.60</td>\n",
    "<td align=\"left\">72.50</td>\n",
    "<td align=\"left\">2.102</td>\n",
    "<td align=\"left\">72.02</td>\n",
    "</tr>\n",
    "<tr class=\"even\">\n",
    "<td align=\"left\"></td>\n",
    "<td align=\"left\"><span class=\"math inline\">\\(h\\)</span></td>\n",
    "<td align=\"left\"></td>\n",
    "<td align=\"left\"></td>\n",
    "<td align=\"left\"></td>\n",
    "<td align=\"left\"><span class=\"math inline\">\\(\\hat{y}_{t+h|t}\\)</span></td>\n",
    "</tr>\n",
    "<tr class=\"odd\">\n",
    "<td align=\"left\"></td>\n",
    "<td align=\"left\">1</td>\n",
    "<td align=\"left\"></td>\n",
    "<td align=\"left\"></td>\n",
    "<td align=\"left\"></td>\n",
    "<td align=\"left\">74.60</td>\n",
    "</tr>\n",
    "<tr class=\"even\">\n",
    "<td align=\"left\"></td>\n",
    "<td align=\"left\">2</td>\n",
    "<td align=\"left\"></td>\n",
    "<td align=\"left\"></td>\n",
    "<td align=\"left\"></td>\n",
    "<td align=\"left\">76.70</td>\n",
    "</tr>\n",
    "<tr class=\"odd\">\n",
    "<td align=\"left\"></td>\n",
    "<td align=\"left\">3</td>\n",
    "<td align=\"left\"></td>\n",
    "<td align=\"left\"></td>\n",
    "<td align=\"left\"></td>\n",
    "<td align=\"left\">78.80</td>\n",
    "</tr>\n",
    "<tr class=\"even\">\n",
    "<td align=\"left\"></td>\n",
    "<td align=\"left\">4</td>\n",
    "<td align=\"left\"></td>\n",
    "<td align=\"left\"></td>\n",
    "<td align=\"left\"></td>\n",
    "<td align=\"left\">80.91</td>\n",
    "</tr>\n",
    "<tr class=\"odd\">\n",
    "<td align=\"left\"></td>\n",
    "<td align=\"left\">5</td>\n",
    "<td align=\"left\"></td>\n",
    "<td align=\"left\"></td>\n",
    "<td align=\"left\"></td>\n",
    "<td align=\"left\">83.01</td>\n",
    "</tr>\n",
    "</tbody>\n",
    "</table>"
   ]
  },
  {
   "cell_type": "markdown",
   "id": "ccb776aa",
   "metadata": {},
   "source": [
    "아주작은 $\\beta^*$값은 시간에 따라 기울기가 변하기 어렵다는 것을 의미합니다.\n",
    "\n",
    "<br>\n",
    "\n",
    "### 감쇠 추세 기법\n",
    "\n",
    "**홀트(Holt)의 선형 기법으로 얻은 예측값은 미래에도 계속 일정한 (증가 또는 감소) 추세를 나타냅니다. 이러한 기법은 과도하게 예측하는 경향이 있다는 것이 경험적으로 알려져 있습니다.** \n",
    "\n",
    "**특별히, 예측 범위(forecast horizon)이 늘어날 수록 더더욱 그렇습니다.** 이러한 사실에 착안하여, **Gardner & McKenzie (1985) 는 미래 어느 시점에 추세를 평평하게 감쇠시키는 한 가지 매개변수를 도입하였습니다.** 감쇠하는 추세(damped trend)를 포함하는 기법은 매우 성공적이라는 것이 증명되었으며, 자동으로 예측하는 일이 필요한 많은 시계열에 대해 거의 틀림없이 가장 인기있는 기법이라고 할 수 있습니다.\n",
    "\n",
    "**(홀트 기법처럼 0과 1 사이의 값인) 평활 매개변수 $\\alpha$와 $\\beta^*$ 외에도, 이 기법에는 감쇠 매개변수 $0<\\phi<1$도 있습니다:**\n",
    "\n",
    "$$\\begin{align*}\n",
    "  \\hat{y}_{t+h|t} &= \\ell_{t} + (\\phi+\\phi^2 + \\dots + \\phi^{h})b_{t} \\\\\n",
    "  \\ell_{t} &= \\alpha y_{t} + (1 - \\alpha)(\\ell_{t-1} + \\phi b_{t-1})\\\\\n",
    "  b_{t} &= \\beta^*(\\ell_{t} - \\ell_{t-1}) + (1 -\\beta^*)\\phi b_{t-1}.\n",
    "\\end{align*}$$\n",
    "\n",
    "**만약에 $\\phi=1$이면, 이 기법은 홀트(Holt)의 선형 기법과 완전히 같습니다.**\n",
    "\n",
    "**0과 1 사이의 값에 대해 $\\phi$는 추세를 감쇠시켜 미래 어떤 시점에 추세가 상수가 되도록 합니다. 사실 어떠한 $0<\\phi<1$에 대해, $h\\rightarrow\\infty$일 수록 예측치가 $\\ell_T+\\phi b_T/(1-\\phi)$로 수렴합니다. 이러한 효과에 의해 단기 예측값은 추세를 나타내고 장기 예측치는 상수가 됩니다.**\n",
    "\n",
    "**$\\phi$가 작을 수록 감쇠 효과가 매우 강하게 들어가기 때문에 실제 상황에서 $\\phi$가 0.8보다 작은 경우는 드뭅니다. $\\phi$ 값이 1에 가깝다는 것은 비-감쇠 모델과 다르지 않다는 것을 의미합니다. 이러한 이유에서 보통 $\\phi$의 최소값을 0.8로 잡고 최대값을 0.98로 제한합니다.**\n",
    "\n"
   ]
  },
  {
   "cell_type": "markdown",
   "id": "811e4072",
   "metadata": {},
   "source": [
    "<br>\n",
    "\n",
    "### 예제: 항공객 (계속)\n",
    "\n",
    "홀트(Holt)의 선형 추세 기법과 감쇠 추세 기법으로 2017년부터 2031년의 예측값을 생성한 것을 나타냅니다.\n"
   ]
  },
  {
   "cell_type": "markdown",
   "id": "59c0e5b5",
   "metadata": {},
   "source": [
    "<br>\n",
    "\n",
    "#### `holt(y, damped = TRUE, h, phi)` : Holt 선형 추세 기법\n",
    "- **`damped`** : `TRUE`일시 감쇠 추세 기법\n",
    "- **`phi`** : 감쇠 매개변수\n",
    "\n",
    "<br>"
   ]
  },
  {
   "cell_type": "code",
   "execution_count": 18,
   "id": "545c8152",
   "metadata": {},
   "outputs": [],
   "source": [
    "fc <- holt(air, h=15)\n",
    "fc2 <- holt(air, damped=TRUE, phi = 0.9, h=15)"
   ]
  },
  {
   "cell_type": "code",
   "execution_count": 32,
   "id": "5130b4a9",
   "metadata": {},
   "outputs": [
    {
     "data": {
      "text/plain": [
       "Damped Holt's method \n",
       "\n",
       "Call:\n",
       " holt(y = air, h = 15, damped = TRUE, phi = 0.9) \n",
       "\n",
       "  Smoothing parameters:\n",
       "    alpha = 0.7564 \n",
       "    beta  = 0.341 \n",
       "    phi   = 0.9 \n",
       "\n",
       "  Initial states:\n",
       "    l = 14.3515 \n",
       "    b = 3.9933 \n",
       "\n",
       "  sigma:  1.8987\n",
       "\n",
       "     AIC     AICc      BIC \n",
       "89.80721 94.09293 94.78587 "
      ]
     },
     "metadata": {},
     "output_type": "display_data"
    }
   ],
   "source": [
    "fc2$model"
   ]
  },
  {
   "cell_type": "code",
   "execution_count": 19,
   "id": "2ea6be56",
   "metadata": {},
   "outputs": [
    {
     "data": {
      "image/png": "[encoded data removed]",
      "text/plain": [
       "plot without title"
      ]
     },
     "metadata": {
      "image/png": {
       "height": 420,
       "width": 420
      }
     },
     "output_type": "display_data"
    }
   ],
   "source": [
    "autoplot(air) +\n",
    "  autolayer(fc, series=\"홀트 기법\", PI=FALSE) +\n",
    "  autolayer(fc2, series=\"감쇠 홀트 기법\", PI=FALSE) +\n",
    "  ggtitle(\"홀트 기법으로 얻은 예측값\") + xlab(\"연도\") +\n",
    "  ylab(\"호주 항공객 (백만 명)\") +\n",
    "  guides(colour=guide_legend(title=\"예측값\"))"
   ]
  },
  {
   "cell_type": "markdown",
   "id": "ce52de0a",
   "metadata": {},
   "source": [
    "비교 목적에서 감쇠 효과를 강조하기 위해 상대적으로 낮은  $(\\phi=0.90)$  값을 감쇠 매개변수로 사용했습니다. 보통은, $\\phi$를 다른 매개변수와 함께 추정합니다. 감쇠 추세와 선형 추세 사이의 차이를 강조하기 위해 꽤 큰 예측 범위 ($h=15$))도 사용했습니다. 보통 실제 상황에서는, 27년의 데이터를 가지고 이런 식으로 길게 예측하지는 않을 것입니다.\n",
    "\n"
   ]
  },
  {
   "cell_type": "markdown",
   "id": "9b5b3d9b",
   "metadata": {},
   "source": [
    "<br>\n",
    "\n",
    "### 예제: 아시아의 양 목축\n",
    "\n",
    "이 예제에서는 아시아 양 개체수 예측을 통해 지금까지 살펴본 모든 비-계절성 기법의 예측력을 비교합니다."
   ]
  },
  {
   "cell_type": "code",
   "execution_count": 20,
   "id": "16cd8edb",
   "metadata": {},
   "outputs": [
    {
     "data": {
      "image/png": "[encoded data removed]",
      "text/plain": [
       "plot without title"
      ]
     },
     "metadata": {
      "image/png": {
       "height": 420,
       "width": 420
      }
     },
     "output_type": "display_data"
    }
   ],
   "source": [
    "autoplot(livestock) +\n",
    "  xlab(\"연도\") + ylab(\"아시아의 양 목축 (단위: 백만)\")"
   ]
  },
  {
   "cell_type": "markdown",
   "id": "a7f1e1a2",
   "metadata": {},
   "source": [
    "이러한 3개의 기법의 한 단계 예측 정확도(one-step forecast accuracy)를 비교하기 위해 시계열 교차검증(cross-validation)을 사용하겠습니다.\n"
   ]
  },
  {
   "cell_type": "code",
   "execution_count": 21,
   "id": "7199d999",
   "metadata": {},
   "outputs": [],
   "source": [
    "e1 <- tsCV(livestock, ses, h=1)\n",
    "e2 <- tsCV(livestock, holt, h=1)\n",
    "e3 <- tsCV(livestock, holt, damped=TRUE, h=1)"
   ]
  },
  {
   "cell_type": "markdown",
   "id": "54e9db29",
   "metadata": {},
   "source": [
    "- MSE 비교"
   ]
  },
  {
   "cell_type": "code",
   "execution_count": 23,
   "id": "02ddf6c9",
   "metadata": {},
   "outputs": [
    {
     "data": {
      "text/html": [
       "178.25311317288"
      ],
      "text/latex": [
       "178.25311317288"
      ],
      "text/markdown": [
       "178.25311317288"
      ],
      "text/plain": [
       "[1] 178.2531"
      ]
     },
     "metadata": {},
     "output_type": "display_data"
    }
   ],
   "source": [
    "mean(e1^2, na.rm=TRUE)"
   ]
  },
  {
   "cell_type": "code",
   "execution_count": 24,
   "id": "f69116e4",
   "metadata": {},
   "outputs": [
    {
     "data": {
      "text/html": [
       "173.364985413827"
      ],
      "text/latex": [
       "173.364985413827"
      ],
      "text/markdown": [
       "173.364985413827"
      ],
      "text/plain": [
       "[1] 173.365"
      ]
     },
     "metadata": {},
     "output_type": "display_data"
    }
   ],
   "source": [
    "mean(e2^2, na.rm=TRUE)"
   ]
  },
  {
   "cell_type": "code",
   "execution_count": 25,
   "id": "2fbb87e0",
   "metadata": {},
   "outputs": [
    {
     "data": {
      "text/html": [
       "162.627434407659"
      ],
      "text/latex": [
       "162.627434407659"
      ],
      "text/markdown": [
       "162.627434407659"
      ],
      "text/plain": [
       "[1] 162.6274"
      ]
     },
     "metadata": {},
     "output_type": "display_data"
    }
   ],
   "source": [
    "mean(e3^2, na.rm=TRUE)"
   ]
  },
  {
   "cell_type": "markdown",
   "id": "74664be4",
   "metadata": {},
   "source": [
    "* MAE 비교"
   ]
  },
  {
   "cell_type": "code",
   "execution_count": 27,
   "id": "b3f4cd81",
   "metadata": {},
   "outputs": [
    {
     "data": {
      "text/html": [
       "8.53246027712138"
      ],
      "text/latex": [
       "8.53246027712138"
      ],
      "text/markdown": [
       "8.53246027712138"
      ],
      "text/plain": [
       "[1] 8.53246"
      ]
     },
     "metadata": {},
     "output_type": "display_data"
    }
   ],
   "source": [
    "mean(abs(e1), na.rm=TRUE)"
   ]
  },
  {
   "cell_type": "code",
   "execution_count": 28,
   "id": "646464b3",
   "metadata": {},
   "outputs": [
    {
     "data": {
      "text/html": [
       "8.80305810354674"
      ],
      "text/latex": [
       "8.80305810354674"
      ],
      "text/markdown": [
       "8.80305810354674"
      ],
      "text/plain": [
       "[1] 8.803058"
      ]
     },
     "metadata": {},
     "output_type": "display_data"
    }
   ],
   "source": [
    "mean(abs(e2), na.rm=TRUE)"
   ]
  },
  {
   "cell_type": "code",
   "execution_count": 26,
   "id": "e0038dbc",
   "metadata": {},
   "outputs": [
    {
     "data": {
      "text/html": [
       "8.02419247672085"
      ],
      "text/latex": [
       "8.02419247672085"
      ],
      "text/markdown": [
       "8.02419247672085"
      ],
      "text/plain": [
       "[1] 8.024192"
      ]
     },
     "metadata": {},
     "output_type": "display_data"
    }
   ],
   "source": [
    "mean(abs(e3), na.rm=TRUE)"
   ]
  },
  {
   "cell_type": "markdown",
   "id": "e8a319eb",
   "metadata": {},
   "source": [
    "MAE나 MSE 값들을 비교하더라도 감쇠 홀트(damped Holt) 기법이 가장 좋습니다. 그래서 감쇠 홀트(damped Holt) 기법을 사용하여 진행하고, 이 기법을 전체 데이터에 적용하여 미래 연도에 대한 예측값을 얻어보겠습니다."
   ]
  },
  {
   "cell_type": "code",
   "execution_count": 29,
   "id": "3c2c3d5e",
   "metadata": {},
   "outputs": [],
   "source": [
    "fc <- holt(livestock, damped=TRUE)"
   ]
  },
  {
   "cell_type": "code",
   "execution_count": 30,
   "id": "be2f1daf",
   "metadata": {},
   "outputs": [
    {
     "data": {
      "text/plain": [
       "Damped Holt's method \n",
       "\n",
       "Call:\n",
       " holt(y = livestock, damped = TRUE) \n",
       "\n",
       "  Smoothing parameters:\n",
       "    alpha = 0.9999 \n",
       "    beta  = 3e-04 \n",
       "    phi   = 0.9798 \n",
       "\n",
       "  Initial states:\n",
       "    l = 223.35 \n",
       "    b = 6.9046 \n",
       "\n",
       "  sigma:  12.8435\n",
       "\n",
       "     AIC     AICc      BIC \n",
       "427.6370 429.7370 438.7379 "
      ]
     },
     "metadata": {},
     "output_type": "display_data"
    }
   ],
   "source": [
    "fc[[\"model\"]]"
   ]
  },
  {
   "cell_type": "markdown",
   "id": "ae0e4f53",
   "metadata": {},
   "source": [
    "**기울기 $\\beta$에 대한 평활 매개변수가 본질적으로 0이라고 추정되었다는 이야기는 추세가 시간에 따라 변하지 않는다는 것을 의미합니다.**\n",
    "\n",
    "**$\\alpha$ 값이 1에 매우 가깝다면, 수준이 각각의 새로운 관측에 매우 민감하게 반응한다는 것을 나타냅니다.**"
   ]
  },
  {
   "cell_type": "code",
   "execution_count": 31,
   "id": "270acf27",
   "metadata": {},
   "outputs": [
    {
     "data": {
      "image/png": "[encoded data removed]",
      "text/plain": [
       "plot without title"
      ]
     },
     "metadata": {
      "image/png": {
       "height": 420,
       "width": 420
      }
     },
     "output_type": "display_data"
    }
   ],
   "source": [
    "autoplot(fc) +\n",
    "  xlab(\"연도\") + ylab(\"아시아의 양 목축 (단위: 백만)\") +\n",
    "  ggtitle(\"감쇠 홀트 기법으로 얻은 예측값\")"
   ]
  },
  {
   "cell_type": "markdown",
   "id": "af76270f",
   "metadata": {},
   "source": [
    "**결과 예측값이 증가 추세에 민감한 것처럼 보이고, 과거 데이터의 변동을 반영하여 비교적 넓은 예측 구간을 갖습니다.** \n",
    "\n",
    "이 예제에서는, MSE와 MAE 값이 감쇠 홀트(damped Holt) 기법을 제안했기 때문에 기법을 고르는 과정이 비교적 쉬웠습니다. **하지만, 종종 서로 다른 정확도 측정값이 다른 예측 기법을 제안할 것입니다.** 그리고 이런 경우에는 어떤 기법을 사용할 것인지 결정해야 합니다. \n",
    "\n",
    "**예측 범위(forecast horizon) 길이, 테스트 데이터 크기, 예측 오차 측정 방식, 데이터의 빈도 등 여러 변수에 의해 예측 작업이 변할 수 있기 때문에, 한 가지 기법이 모든 예측 시나리오에 대해 다른 모든 기법보다 좋을 것이라고 보장하기 어렵습니다. 어떤 한 가지 예측 기법에서 필요한 것은 일관적인 예측값입니다. 이렇게 얻은 예측값은 수작업으로 진행한 것과 자주 비교해야 합니다.**"
   ]
  },
  {
   "cell_type": "markdown",
   "id": "88c25a95",
   "metadata": {},
   "source": [
    "<br>\n",
    "\n",
    "## 07.02. 홀트-윈터스의 계절성 기법\n",
    "\n",
    "Holt (1957) 와 Winters (1960) 은 **계절성을 잡아내기 위해 홀트(Holt)의 기법을 확장하였습니다.**\n",
    "\n",
    "**홀트-윈터스(Holt-Winters) 계절성 기법은 예측식과 3개의 평활식으로 구성됩니다. 하나는 수준 $\\ell_t$에 대한 것, 하나는 추세 $b_t$에 대한 것, 하나는 계절 성분 $s_t$에 대한 것인데, 각각은 대응되는 평활 매개변수 $\\alpha$, $\\beta^*$, $\\gamma$로 이뤄져 있습니다.** \n",
    "\n",
    "**$m$을 계절성의 주기로 나타내겠습니다. 즉, 한 해의 계절의 수 같은 것을 가리킵니다. 예를 들면, 분기별 데이터에서는 $m=4$이고, 월별 데이터에서는 $m=12$입니다.**\n",
    "\n",
    "계절 성분의 성질에 따라 이 기법에 두 가지 변형이 있습니다. **덧셈 기법은 계절성 변동이 시계열 전반에 걸쳐 거의 일정할 때 사용하고,** **곱셈 기법은 계절성 변동이 시계열의 수준에 비례하게 변할 때 사용합니다.** \n",
    "\n",
    "**덧셈 기법에서 계절성분은 관측된 시계열의 척도로 나타내고, 수준식에서 계절성분을 빼서 시계열을 계절성으로 조절합니다.** 각 연도 내에서 계절성분은 근사적으로 0에 맞춰질 것입니다. \n",
    "\n",
    "**곱셈 기법에서, 계절성분은 상대적인 항(백분율)으로 표현하고 시계열은 계절성분으로 나누어 계절성으로 조절합니다.** 각 연도 안에서 계절성분은 근사적으로 $m$으로 맞춰질 것입니다."
   ]
  },
  {
   "cell_type": "markdown",
   "id": "09d57e82",
   "metadata": {},
   "source": [
    "<br>\n",
    "\n",
    "### 홀트-윈터스의 덧셈 기법\n",
    "\n",
    "덧셈 기법에 대한 성분 형태는 다음과 같습니다:\n",
    "\n",
    "$$\\begin{align*}\n",
    "  \\hat{y}_{t+h|t} &= \\ell_{t} + hb_{t} + s_{t+h-m(k+1)} \\\\\n",
    "  \\ell_{t} &= \\alpha(y_{t} - s_{t-m}) + (1 - \\alpha)(\\ell_{t-1} + b_{t-1})\\\\\n",
    "  b_{t} &= \\beta^*(\\ell_{t} - \\ell_{t-1}) + (1 - \\beta^*)b_{t-1}\\\\\n",
    "  s_{t} &= \\gamma (y_{t}-\\ell_{t-1}-b_{t-1}) + (1-\\gamma)s_{t-m},\n",
    "\\end{align*}$$\n",
    "\n",
    "여기에서 $k$는 $(h-1)/m$의 정수 부분입니다. 이 값은 예측을 위해 계절성 지수를 추정한 값이 표본의 마지막 연도에서 유래하도록 합니다. \n",
    "\n",
    "**수준식은 계절성으로 조정된 관측값 $(y_{t} - s_{t-m})$과 시간 $t$에 대한 비-계절성 예측 $(\\ell_{t-1}+b_{t-1})$ 을 나타냅니다. 홀트(Holt)의 선형 기법과 같습니다.** \n",
    "\n",
    "**계절성식은 현재 계절성 지수 $(y_{t}-\\ell_{t-1}-b_{t-1})$ 와 이전 연도 같은 계절(즉, $m$ 시점 이전)의 계절성 지표 사이의 가중 평균을 나타냅니다.**\n",
    "\n",
    "계절성 식은 종종 다음과 같이 나타냅니다.\n",
    "\n",
    "$$s_{t} = \\gamma^* (y_{t}-\\ell_{t})+ (1-\\gamma^*)s_{t-m}.$$\n",
    "\n",
    "평활식에서 $\\ell_t$ 를 위의 성분 형태의 수준식에 대입하면, 다음과 같은 식을 얻습니다.\n",
    "\n",
    "$$s_{t} = \\gamma^*(1-\\alpha) (y_{t}-\\ell_{t-1}-b_{t-1})+ [1-\\gamma^*(1-\\alpha)]s_{t-m},$$\n",
    "\n",
    "위의 식은 여기에서 $\\gamma=\\gamma^*(1-\\alpha)$ 으로 명시한 계절성에 대한 평활식과 같습니다. 보통의 매개변수 제한조건은  $0\\le\\gamma^*\\le1$인데, $0\\le\\gamma\\le 1-\\alpha$로 다시 쓸 수 있습니다.\n",
    "\n",
    "\n"
   ]
  },
  {
   "cell_type": "markdown",
   "id": "951838cc",
   "metadata": {},
   "source": [
    "<br>\n",
    "\n",
    "### 홀트-윈터스의 곱셈 기법\n",
    "\n",
    "곱셈 기법에 대한 성분 형태는 다음과 같습니다:\n",
    "\n",
    "$$\\begin{align*}\n",
    "  \\hat{y}_{t+h|t} &= (\\ell_{t} + hb_{t})s_{t+h-m(k+1)} \\\\\n",
    "  \\ell_{t} &= \\alpha \\frac{y_{t}}{s_{t-m}} + (1 - \\alpha)(\\ell_{t-1} + b_{t-1})\\\\\n",
    "  b_{t} &= \\beta^*(\\ell_{t}-\\ell_{t-1}) + (1 - \\beta^*)b_{t-1}                \\\\\n",
    "  s_{t} &= \\gamma \\frac{y_{t}}{(\\ell_{t-1} + b_{t-1})} + (1 - \\gamma)s_{t-m}\n",
    "\\end{align*}$$"
   ]
  },
  {
   "cell_type": "markdown",
   "id": "839acda1",
   "metadata": {},
   "source": [
    "<br>\n",
    "\n",
    "### 예제: 호주를 방문하는 국제선 여행객 숙박일 수\n",
    "\n",
    "국제선 여행객이 호주에서 보내는 분기별 숙박일수를 예측하기 위해 덧셈과 곱셈 계절성 홀트-윈터스(Holt-Winters) 기법 둘 다 적용하였습니다. 그림은 2005년부터의 데이터와 2016년과 2017년에 대한 예측치를 나타낸 것입니다. 매년 1분기에 정점을 찍는 계절성 패턴이 분명하게 보입니다. 이는 호주의 여름과 대응됩니다."
   ]
  },
  {
   "cell_type": "markdown",
   "id": "665a2ad9",
   "metadata": {},
   "source": [
    "<br>\n",
    "\n",
    "#### `hw(y, seasonal)` : 홀트-윈터스 계절성 기법\n",
    "- **`seasonal`** : `addictive` $\\rightarrow$ 덧셈 기법 / `multiplicative` $\\rightarrow$ 곱셈 기법"
   ]
  },
  {
   "cell_type": "code",
   "execution_count": 34,
   "id": "0d725b42",
   "metadata": {},
   "outputs": [],
   "source": [
    "aust <- window(austourists,start=2005)\n",
    "fit1 <- hw(aust,seasonal=\"additive\")\n",
    "fit2 <- hw(aust,seasonal=\"multiplicative\")"
   ]
  },
  {
   "cell_type": "code",
   "execution_count": 33,
   "id": "7e35cd22",
   "metadata": {},
   "outputs": [
    {
     "data": {
      "image/png": "[encoded data removed]",
      "text/plain": [
       "plot without title"
      ]
     },
     "metadata": {
      "image/png": {
       "height": 420,
       "width": 420
      }
     },
     "output_type": "display_data"
    }
   ],
   "source": [
    "autoplot(aust) +\n",
    "  autolayer(fit1, series=\"HW 덧셈 예측\", PI=FALSE) +\n",
    "  autolayer(fit2, series=\"HW 곱셈 예측\",\n",
    "    PI=FALSE) +\n",
    "  xlab(\"연도\") +\n",
    "  ylab(\"호주 국제선 여행객 숙박일 (단위: 백만)\") +\n",
    "  guides(colour=guide_legend(title=\"예측\"))"
   ]
  },
  {
   "cell_type": "markdown",
   "id": "d1c91c84",
   "metadata": {},
   "source": [
    "<table>\n",
    "<caption><span id=\"tab:tab75\">Table 7.3: </span>덧셈 계절성 홀트-윈터스 기법을 호주를 방문하는 국제선 여행객 예측에 적용한 것. 여기에서 덧셈 계절성을 더하면 근사적으로 0입니다. 평활 매개변수와 성분에 대한 초기 추정값은 RMSE를 최소화하여 추정하였습니다. (<span class=\"math inline\">\\(\\alpha=0.306\\)</span>, <span class=\"math inline\">\\(\\beta^*=0.0003\\)</span>, <span class=\"math inline\">\\(\\gamma=0.426\\)</span> 그리고 RMSE<span class=\"math inline\">\\(=1.763\\)</span>)</caption>\n",
    "<colgroup>\n",
    "<col width=\"11%\" />\n",
    "<col width=\"11%\" />\n",
    "<col width=\"11%\" />\n",
    "<col width=\"12%\" />\n",
    "<col width=\"11%\" />\n",
    "<col width=\"11%\" />\n",
    "<col width=\"31%\" />\n",
    "</colgroup>\n",
    "<thead>\n",
    "<tr class=\"header\">\n",
    "<th align=\"left\"></th>\n",
    "<th align=\"right\"><span class=\"math inline\">\\(t\\)</span></th>\n",
    "<th align=\"right\"><span class=\"math inline\">\\(y_t\\)</span></th>\n",
    "<th align=\"right\"><span class=\"math inline\">\\(\\ell_t\\)</span></th>\n",
    "<th align=\"right\"><span class=\"math inline\">\\(b_t\\)</span></th>\n",
    "<th align=\"right\"><span class=\"math inline\">\\(s_t\\)</span></th>\n",
    "<th align=\"right\"><span class=\"math inline\">\\(\\hat{y}_t\\)</span></th>\n",
    "</tr>\n",
    "</thead>\n",
    "<tbody>\n",
    "<tr class=\"odd\">\n",
    "<td align=\"left\">2004 Q1</td>\n",
    "<td align=\"right\">-3</td>\n",
    "<td align=\"right\"></td>\n",
    "<td align=\"right\"></td>\n",
    "<td align=\"right\"></td>\n",
    "<td align=\"right\">9.70</td>\n",
    "<td align=\"right\"></td>\n",
    "</tr>\n",
    "<tr class=\"even\">\n",
    "<td align=\"left\">2004 Q2</td>\n",
    "<td align=\"right\">-2</td>\n",
    "<td align=\"right\"></td>\n",
    "<td align=\"right\"></td>\n",
    "<td align=\"right\"></td>\n",
    "<td align=\"right\">-9.31</td>\n",
    "<td align=\"right\"></td>\n",
    "</tr>\n",
    "<tr class=\"odd\">\n",
    "<td align=\"left\">2004 Q3</td>\n",
    "<td align=\"right\">-1</td>\n",
    "<td align=\"right\"></td>\n",
    "<td align=\"right\"></td>\n",
    "<td align=\"right\"></td>\n",
    "<td align=\"right\">-1.69</td>\n",
    "<td align=\"right\"></td>\n",
    "</tr>\n",
    "<tr class=\"even\">\n",
    "<td align=\"left\">2004 Q4</td>\n",
    "<td align=\"right\">0</td>\n",
    "<td align=\"right\"></td>\n",
    "<td align=\"right\">32.26</td>\n",
    "<td align=\"right\">0.70</td>\n",
    "<td align=\"right\">1.31</td>\n",
    "<td align=\"right\"></td>\n",
    "</tr>\n",
    "<tr class=\"odd\">\n",
    "<td align=\"left\">2005 Q1</td>\n",
    "<td align=\"right\">1</td>\n",
    "<td align=\"right\">42.21</td>\n",
    "<td align=\"right\">32.82</td>\n",
    "<td align=\"right\">0.70</td>\n",
    "<td align=\"right\">9.50</td>\n",
    "<td align=\"right\">42.66</td>\n",
    "</tr>\n",
    "<tr class=\"even\">\n",
    "<td align=\"left\">2005 Q2</td>\n",
    "<td align=\"right\">2</td>\n",
    "<td align=\"right\">24.65</td>\n",
    "<td align=\"right\">33.66</td>\n",
    "<td align=\"right\">0.70</td>\n",
    "<td align=\"right\">-9.13</td>\n",
    "<td align=\"right\">24.21</td>\n",
    "</tr>\n",
    "<tr class=\"odd\">\n",
    "<td align=\"left\">2005 Q3</td>\n",
    "<td align=\"right\">3</td>\n",
    "<td align=\"right\">32.67</td>\n",
    "<td align=\"right\">34.36</td>\n",
    "<td align=\"right\">0.70</td>\n",
    "<td align=\"right\">-1.69</td>\n",
    "<td align=\"right\">32.67</td>\n",
    "</tr>\n",
    "<tr class=\"even\">\n",
    "<td align=\"left\">2005 Q4</td>\n",
    "<td align=\"right\">4</td>\n",
    "<td align=\"right\">37.26</td>\n",
    "<td align=\"right\">35.33</td>\n",
    "<td align=\"right\">0.70</td>\n",
    "<td align=\"right\">1.69</td>\n",
    "<td align=\"right\">36.37</td>\n",
    "</tr>\n",
    "<tr class=\"odd\">\n",
    "<td align=\"left\"></td>\n",
    "<td align=\"right\">⋮</td>\n",
    "<td align=\"right\">⋮</td>\n",
    "<td align=\"right\">⋮</td>\n",
    "<td align=\"right\">⋮</td>\n",
    "<td align=\"right\">⋮</td>\n",
    "<td align=\"right\">⋮</td>\n",
    "</tr>\n",
    "<tr class=\"even\">\n",
    "<td align=\"left\">2015 Q1</td>\n",
    "<td align=\"right\">41</td>\n",
    "<td align=\"right\">73.26</td>\n",
    "<td align=\"right\">59.96</td>\n",
    "<td align=\"right\">0.70</td>\n",
    "<td align=\"right\">12.18</td>\n",
    "<td align=\"right\">69.05</td>\n",
    "</tr>\n",
    "<tr class=\"odd\">\n",
    "<td align=\"left\">2015 Q2</td>\n",
    "<td align=\"right\">42</td>\n",
    "<td align=\"right\">47.70</td>\n",
    "<td align=\"right\">60.69</td>\n",
    "<td align=\"right\">0.70</td>\n",
    "<td align=\"right\">-13.02</td>\n",
    "<td align=\"right\">47.59</td>\n",
    "</tr>\n",
    "<tr class=\"even\">\n",
    "<td align=\"left\">2015 Q3</td>\n",
    "<td align=\"right\">43</td>\n",
    "<td align=\"right\">61.10</td>\n",
    "<td align=\"right\">61.96</td>\n",
    "<td align=\"right\">0.70</td>\n",
    "<td align=\"right\">-1.35</td>\n",
    "<td align=\"right\">59.24</td>\n",
    "</tr>\n",
    "<tr class=\"odd\">\n",
    "<td align=\"left\">2015 Q4</td>\n",
    "<td align=\"right\">44</td>\n",
    "<td align=\"right\">66.06</td>\n",
    "<td align=\"right\">63.22</td>\n",
    "<td align=\"right\">0.70</td>\n",
    "<td align=\"right\">2.35</td>\n",
    "<td align=\"right\">64.22</td>\n",
    "</tr>\n",
    "<tr class=\"even\">\n",
    "<td align=\"left\"></td>\n",
    "<td align=\"right\"><span class=\"math inline\">\\(h\\)</span></td>\n",
    "<td align=\"right\"></td>\n",
    "<td align=\"right\"></td>\n",
    "<td align=\"right\"></td>\n",
    "<td align=\"right\"></td>\n",
    "<td align=\"right\"><span class=\"math inline\">\\(\\hat{y}_{T+h|T}\\)</span></td>\n",
    "</tr>\n",
    "<tr class=\"odd\">\n",
    "<td align=\"left\">2016 Q1</td>\n",
    "<td align=\"right\">1</td>\n",
    "<td align=\"right\"></td>\n",
    "<td align=\"right\"></td>\n",
    "<td align=\"right\"></td>\n",
    "<td align=\"right\"></td>\n",
    "<td align=\"right\">76.10</td>\n",
    "</tr>\n",
    "<tr class=\"even\">\n",
    "<td align=\"left\">2016 Q2</td>\n",
    "<td align=\"right\">2</td>\n",
    "<td align=\"right\"></td>\n",
    "<td align=\"right\"></td>\n",
    "<td align=\"right\"></td>\n",
    "<td align=\"right\"></td>\n",
    "<td align=\"right\">51.60</td>\n",
    "</tr>\n",
    "<tr class=\"odd\">\n",
    "<td align=\"left\">2016 Q3</td>\n",
    "<td align=\"right\">3</td>\n",
    "<td align=\"right\"></td>\n",
    "<td align=\"right\"></td>\n",
    "<td align=\"right\"></td>\n",
    "<td align=\"right\"></td>\n",
    "<td align=\"right\">63.97</td>\n",
    "</tr>\n",
    "<tr class=\"even\">\n",
    "<td align=\"left\">2016 Q4</td>\n",
    "<td align=\"right\">4</td>\n",
    "<td align=\"right\"></td>\n",
    "<td align=\"right\"></td>\n",
    "<td align=\"right\"></td>\n",
    "<td align=\"right\"></td>\n",
    "<td align=\"right\">68.37</td>\n",
    "</tr>\n",
    "<tr class=\"odd\">\n",
    "<td align=\"left\">2017 Q1</td>\n",
    "<td align=\"right\">5</td>\n",
    "<td align=\"right\"></td>\n",
    "<td align=\"right\"></td>\n",
    "<td align=\"right\"></td>\n",
    "<td align=\"right\"></td>\n",
    "<td align=\"right\">78.90</td>\n",
    "</tr>\n",
    "<tr class=\"even\">\n",
    "<td align=\"left\">2017 Q2</td>\n",
    "<td align=\"right\">6</td>\n",
    "<td align=\"right\"></td>\n",
    "<td align=\"right\"></td>\n",
    "<td align=\"right\"></td>\n",
    "<td align=\"right\"></td>\n",
    "<td align=\"right\">54.41</td>\n",
    "</tr>\n",
    "<tr class=\"odd\">\n",
    "<td align=\"left\">2017 Q3</td>\n",
    "<td align=\"right\">7</td>\n",
    "<td align=\"right\"></td>\n",
    "<td align=\"right\"></td>\n",
    "<td align=\"right\"></td>\n",
    "<td align=\"right\"></td>\n",
    "<td align=\"right\">66.77</td>\n",
    "</tr>\n",
    "<tr class=\"even\">\n",
    "<td align=\"left\">2017 Q4</td>\n",
    "<td align=\"right\">8</td>\n",
    "<td align=\"right\"></td>\n",
    "<td align=\"right\"></td>\n",
    "<td align=\"right\"></td>\n",
    "<td align=\"right\"></td>\n",
    "<td align=\"right\">71.18</td>\n",
    "</tr>\n",
    "</tbody>\n",
    "</table>\n",
    "<table>"
   ]
  },
  {
   "cell_type": "markdown",
   "id": "01e0fd78",
   "metadata": {},
   "source": [
    "<table>\n",
    "<caption><span id=\"tab:tab76\">Table 7.4: </span>곱셈 계절성 홀트-윈터스 기법을 호주를 방문하는 국제선 여행객 예측에 적용한 것. 여기에서 덧셈 계절성을 더하면 근사적으로 <span class=\"math inline\">\\(m=4\\)</span> 입니다. 평활 매개변수와 성분에 대한 초기 추정값은 RMSE를 최소화하여 추정하였습니다. (<span class=\"math inline\">\\(\\alpha=0.441\\)</span>, <span class=\"math inline\">\\(\\beta^*=0.030\\)</span>, <span class=\"math inline\">\\(\\gamma=0.002\\)</span> and RMSE<span class=\"math inline\">\\(=1.576\\)</span>)</caption>\n",
    "<colgroup>\n",
    "<col width=\"11%\" />\n",
    "<col width=\"11%\" />\n",
    "<col width=\"11%\" />\n",
    "<col width=\"12%\" />\n",
    "<col width=\"11%\" />\n",
    "<col width=\"11%\" />\n",
    "<col width=\"31%\" />\n",
    "</colgroup>\n",
    "<thead>\n",
    "<tr class=\"header\">\n",
    "<th align=\"left\"></th>\n",
    "<th align=\"right\"><span class=\"math inline\">\\(t\\)</span></th>\n",
    "<th align=\"right\"><span class=\"math inline\">\\(y_t\\)</span></th>\n",
    "<th align=\"right\"><span class=\"math inline\">\\(\\ell_t\\)</span></th>\n",
    "<th align=\"right\"><span class=\"math inline\">\\(b_t\\)</span></th>\n",
    "<th align=\"right\"><span class=\"math inline\">\\(s_t\\)</span></th>\n",
    "<th align=\"right\"><span class=\"math inline\">\\(\\hat{y}_t\\)</span></th>\n",
    "</tr>\n",
    "</thead>\n",
    "<tbody>\n",
    "<tr class=\"odd\">\n",
    "<td align=\"left\">2004 Q1</td>\n",
    "<td align=\"right\">-3</td>\n",
    "<td align=\"right\"></td>\n",
    "<td align=\"right\"></td>\n",
    "<td align=\"right\"></td>\n",
    "<td align=\"right\">1.24</td>\n",
    "<td align=\"right\"></td>\n",
    "</tr>\n",
    "<tr class=\"even\">\n",
    "<td align=\"left\">2004 Q2</td>\n",
    "<td align=\"right\">-2</td>\n",
    "<td align=\"right\"></td>\n",
    "<td align=\"right\"></td>\n",
    "<td align=\"right\"></td>\n",
    "<td align=\"right\">0.77</td>\n",
    "<td align=\"right\"></td>\n",
    "</tr>\n",
    "<tr class=\"odd\">\n",
    "<td align=\"left\">2004 Q3</td>\n",
    "<td align=\"right\">-1</td>\n",
    "<td align=\"right\"></td>\n",
    "<td align=\"right\"></td>\n",
    "<td align=\"right\"></td>\n",
    "<td align=\"right\">0.96</td>\n",
    "<td align=\"right\"></td>\n",
    "</tr>\n",
    "<tr class=\"even\">\n",
    "<td align=\"left\">2004 Q4</td>\n",
    "<td align=\"right\">0</td>\n",
    "<td align=\"right\"></td>\n",
    "<td align=\"right\">32.49</td>\n",
    "<td align=\"right\">0.70</td>\n",
    "<td align=\"right\">1.02</td>\n",
    "<td align=\"right\"></td>\n",
    "</tr>\n",
    "<tr class=\"odd\">\n",
    "<td align=\"left\">2005 Q1</td>\n",
    "<td align=\"right\">1</td>\n",
    "<td align=\"right\">42.21</td>\n",
    "<td align=\"right\">33.51</td>\n",
    "<td align=\"right\">0.71</td>\n",
    "<td align=\"right\">1.24</td>\n",
    "<td align=\"right\">41.29</td>\n",
    "</tr>\n",
    "<tr class=\"even\">\n",
    "<td align=\"left\">2005 Q2</td>\n",
    "<td align=\"right\">2</td>\n",
    "<td align=\"right\">24.65</td>\n",
    "<td align=\"right\">33.24</td>\n",
    "<td align=\"right\">0.68</td>\n",
    "<td align=\"right\">0.77</td>\n",
    "<td align=\"right\">26.36</td>\n",
    "</tr>\n",
    "<tr class=\"odd\">\n",
    "<td align=\"left\">2005 Q3</td>\n",
    "<td align=\"right\">3</td>\n",
    "<td align=\"right\">32.67</td>\n",
    "<td align=\"right\">33.94</td>\n",
    "<td align=\"right\">0.68</td>\n",
    "<td align=\"right\">0.96</td>\n",
    "<td align=\"right\">32.62</td>\n",
    "</tr>\n",
    "<tr class=\"even\">\n",
    "<td align=\"left\">2005 Q4</td>\n",
    "<td align=\"right\">4</td>\n",
    "<td align=\"right\">37.26</td>\n",
    "<td align=\"right\">35.40</td>\n",
    "<td align=\"right\">0.70</td>\n",
    "<td align=\"right\">1.02</td>\n",
    "<td align=\"right\">35.44</td>\n",
    "</tr>\n",
    "<tr class=\"odd\">\n",
    "<td align=\"left\"></td>\n",
    "<td align=\"right\">⋮</td>\n",
    "<td align=\"right\">⋮</td>\n",
    "<td align=\"right\">⋮</td>\n",
    "<td align=\"right\">⋮</td>\n",
    "<td align=\"right\">⋮</td>\n",
    "<td align=\"right\">⋮</td>\n",
    "</tr>\n",
    "<tr class=\"even\">\n",
    "<td align=\"left\">2015 Q1</td>\n",
    "<td align=\"right\">41</td>\n",
    "<td align=\"right\">73.26</td>\n",
    "<td align=\"right\">58.57</td>\n",
    "<td align=\"right\">0.66</td>\n",
    "<td align=\"right\">1.24</td>\n",
    "<td align=\"right\">72.59</td>\n",
    "</tr>\n",
    "<tr class=\"odd\">\n",
    "<td align=\"left\">2015 Q2</td>\n",
    "<td align=\"right\">42</td>\n",
    "<td align=\"right\">47.70</td>\n",
    "<td align=\"right\">60.42</td>\n",
    "<td align=\"right\">0.69</td>\n",
    "<td align=\"right\">0.77</td>\n",
    "<td align=\"right\">45.62</td>\n",
    "</tr>\n",
    "<tr class=\"even\">\n",
    "<td align=\"left\">2015 Q3</td>\n",
    "<td align=\"right\">43</td>\n",
    "<td align=\"right\">61.10</td>\n",
    "<td align=\"right\">62.17</td>\n",
    "<td align=\"right\">0.72</td>\n",
    "<td align=\"right\">0.96</td>\n",
    "<td align=\"right\">58.77</td>\n",
    "</tr>\n",
    "<tr class=\"odd\">\n",
    "<td align=\"left\">2015 Q4</td>\n",
    "<td align=\"right\">44</td>\n",
    "<td align=\"right\">66.06</td>\n",
    "<td align=\"right\">63.62</td>\n",
    "<td align=\"right\">0.75</td>\n",
    "<td align=\"right\">1.02</td>\n",
    "<td align=\"right\">64.38</td>\n",
    "</tr>\n",
    "<tr class=\"even\">\n",
    "<td align=\"left\"></td>\n",
    "<td align=\"right\"><span class=\"math inline\">\\(h\\)</span></td>\n",
    "<td align=\"right\"></td>\n",
    "<td align=\"right\"></td>\n",
    "<td align=\"right\"></td>\n",
    "<td align=\"right\"></td>\n",
    "<td align=\"right\"><span class=\"math inline\">\\(\\hat{y}_{T+h|T}\\)</span></td>\n",
    "</tr>\n",
    "<tr class=\"odd\">\n",
    "<td align=\"left\">2016 Q1</td>\n",
    "<td align=\"right\">1</td>\n",
    "<td align=\"right\"></td>\n",
    "<td align=\"right\"></td>\n",
    "<td align=\"right\"></td>\n",
    "<td align=\"right\"></td>\n",
    "<td align=\"right\">80.09</td>\n",
    "</tr>\n",
    "<tr class=\"even\">\n",
    "<td align=\"left\">2016 Q2</td>\n",
    "<td align=\"right\">2</td>\n",
    "<td align=\"right\"></td>\n",
    "<td align=\"right\"></td>\n",
    "<td align=\"right\"></td>\n",
    "<td align=\"right\"></td>\n",
    "<td align=\"right\">50.15</td>\n",
    "</tr>\n",
    "<tr class=\"odd\">\n",
    "<td align=\"left\">2016 Q3</td>\n",
    "<td align=\"right\">3</td>\n",
    "<td align=\"right\"></td>\n",
    "<td align=\"right\"></td>\n",
    "<td align=\"right\"></td>\n",
    "<td align=\"right\"></td>\n",
    "<td align=\"right\">63.34</td>\n",
    "</tr>\n",
    "<tr class=\"even\">\n",
    "<td align=\"left\">2016 Q4</td>\n",
    "<td align=\"right\">4</td>\n",
    "<td align=\"right\"></td>\n",
    "<td align=\"right\"></td>\n",
    "<td align=\"right\"></td>\n",
    "<td align=\"right\"></td>\n",
    "<td align=\"right\">68.18</td>\n",
    "</tr>\n",
    "<tr class=\"odd\">\n",
    "<td align=\"left\">2017 Q1</td>\n",
    "<td align=\"right\">5</td>\n",
    "<td align=\"right\"></td>\n",
    "<td align=\"right\"></td>\n",
    "<td align=\"right\"></td>\n",
    "<td align=\"right\"></td>\n",
    "<td align=\"right\">83.80</td>\n",
    "</tr>\n",
    "<tr class=\"even\">\n",
    "<td align=\"left\">2017 Q2</td>\n",
    "<td align=\"right\">6</td>\n",
    "<td align=\"right\"></td>\n",
    "<td align=\"right\"></td>\n",
    "<td align=\"right\"></td>\n",
    "<td align=\"right\"></td>\n",
    "<td align=\"right\">52.45</td>\n",
    "</tr>\n",
    "<tr class=\"odd\">\n",
    "<td align=\"left\">2017 Q3</td>\n",
    "<td align=\"right\">7</td>\n",
    "<td align=\"right\"></td>\n",
    "<td align=\"right\"></td>\n",
    "<td align=\"right\"></td>\n",
    "<td align=\"right\"></td>\n",
    "<td align=\"right\">66.21</td>\n",
    "</tr>\n",
    "<tr class=\"even\">\n",
    "<td align=\"left\">2017 Q4</td>\n",
    "<td align=\"right\">8</td>\n",
    "<td align=\"right\"></td>\n",
    "<td align=\"right\"></td>\n",
    "<td align=\"right\"></td>\n",
    "<td align=\"right\"></td>\n",
    "<td align=\"right\">71.23</td>\n",
    "</tr>\n",
    "</tbody>\n",
    "</table>"
   ]
  },
  {
   "attachments": {
    "fig-7-LevelTrendSeas-1%5B1%5D.png": {
     "image/png": "[encoded data removed]"
    }
   },
   "cell_type": "markdown",
   "id": "b4e184a6",
   "metadata": {},
   "source": [
    "두 기법 모두, 정확하게 같은 수의 추정하기 위해 필요한 매개변수를 가지고 있기 때문에, 학습 데이터에 대한 두 모델의 RMSE를 비교할 수 있습니다. 이 경우에는, 곱셈 계절성이 데이터에 더 잘 맞는다는 것을 알 수 있습니다. 이것은 시계열의 수준이 증가하면서 데이터에 나타나는 계절성 변동 증가를 보여주는 도표에서 예상할 수 있었던 사실입니다. 이 결과는 두 가지 예측값의 집합도 보여줍니다. 덧셈 계절성을 이용하여 얻은 예측값과 비교할 때, 곱셈 계절성을 이용한 기법으로 얻은 예측값이 예측값의 수준이 증가함에 따라 더 크고 증가하는 계절성 변동을 나타냅니다.\n",
    "\n",
    "**곱셈 모델에서 작은 $\\gamma$값은 계절 성분이 시간에 따라 잘 변하지 않는다는 것을 의미합니다. 덧셈 모델에서 작은 $\\beta^*$값은 기울기 성분이 시간에 따라 잘 변하지 않는다는 것을 의미합니다(수직축 눈금을 살펴보시길 바랍니다). 덧셈 모델의 경우에 계절 성분이 증가하는 것은 모델이 곱셈 모델보다 덜 적합하다는 것을 의미합니다.**\n",
    "\n",
    "![fig-7-LevelTrendSeas-1%5B1%5D.png](attachment:fig-7-LevelTrendSeas-1%5B1%5D.png)"
   ]
  },
  {
   "cell_type": "markdown",
   "id": "27a362e5",
   "metadata": {},
   "source": [
    "<br>\n",
    "\n",
    "### 홀트-윈터스의 감쇠 기법\n",
    "\n",
    "홀트-윈터스(Holt-Winters)의 덧셈과 곱셈 기법 두 경우 모두 감쇠 효과를 추가할 수 있습니다. 계절성 데이터에 대해 정확하고 안정적인 예측치를 내는 한 가지 기법은 다음과 같이 홀트-윈터스(Holt-Winters)에 감쇠 추세(damped trend)와 곱셈 계절성(multiplicative seasonality)을 고려한 것입니다:\n",
    "\n",
    "$$\\begin{align*}\n",
    "  \\hat{y}_{t+h|t} &= \\left[\\ell_{t} + (\\phi+\\phi^2 + \\dots + \\phi^{h})b_{t}\\right]s_{t+h-m(k+1)}. \\\\\n",
    "  \\ell_{t} &= \\alpha(y_{t} / s_{t-m}) + (1 - \\alpha)(\\ell_{t-1} + \\phi b_{t-1})\\\\\n",
    "  b_{t} &= \\beta^*(\\ell_{t} - \\ell_{t-1}) + (1 - \\beta^*)\\phi b_{t-1}             \\\\\n",
    "  s_{t} &= \\gamma \\frac{y_{t}}{(\\ell_{t-1} + \\phi b_{t-1})} + (1 - \\gamma)s_{t-m}.\n",
    "\\end{align*}$$"
   ]
  },
  {
   "cell_type": "markdown",
   "id": "44857c80",
   "metadata": {},
   "source": [
    "#### `hw(y, damped=TRUE, seasonal)` : 홀트-윈터스 감쇠기법"
   ]
  },
  {
   "cell_type": "markdown",
   "id": "5dd8c1a6",
   "metadata": {},
   "source": [
    "<br>\n",
    "\n",
    "### 예제: 홀트-윈터스 기법으로 일별 데이터 다루기\n",
    "\n",
    "홀트-윈터스(Holt-Winters) 기법을 일별 데이터에도 사용할 수 있습니다. 이 경우에 $m=7$이고 $h$의 단위 길이는 1일입니다. 여기에서 hyndsight 데이터 마지막 5주에 대한 일별 예측값을 내보겠습니다. `hyndsight` 데이터에는 2014년 4월 30일부터 힌드사이트(Hyndsight) 블로그의 일별 조회수가 있습니다.\n",
    "\n"
   ]
  },
  {
   "cell_type": "code",
   "execution_count": 39,
   "id": "d4acdd22",
   "metadata": {},
   "outputs": [],
   "source": [
    "fc <- hw(subset(hyndsight,end=length(hyndsight)-35),\n",
    "         damped = TRUE, seasonal=\"multiplicative\", h=35)"
   ]
  },
  {
   "cell_type": "code",
   "execution_count": 40,
   "id": "186fb6b9",
   "metadata": {},
   "outputs": [
    {
     "data": {
      "image/png": "[encoded data removed]",
      "text/plain": [
       "plot without title"
      ]
     },
     "metadata": {
      "image/png": {
       "height": 420,
       "width": 420
      }
     },
     "output_type": "display_data"
    }
   ],
   "source": [
    "autoplot(hyndsight) +\n",
    "  autolayer(fc, series=\"HW 곱셈 감쇠\", PI=FALSE)+\n",
    "  guides(colour=guide_legend(title=\"일별 예측값\"))"
   ]
  },
  {
   "cell_type": "markdown",
   "id": "8f34a978",
   "metadata": {},
   "source": [
    "분명히 모델은 주별 계절성 패턴과 데이터의 끝에서 증가하는 추세를 잡아냈습니다. 그리고 예측값은 테스트 데이터와 비슷하게 나타납니다."
   ]
  },
  {
   "cell_type": "markdown",
   "id": "22ea98f3",
   "metadata": {},
   "source": [
    "<br>\n",
    "\n",
    "## 07.04. 지수 평활 기법 분류 체계\n",
    "\n",
    "우리가 지금까지 살펴본 것들이 지수 평활기법의 전부가 아닙니다. 추세와 계절적인 성분의 조합을 고려해보면, 15개의 지수 평활 기법이 가능하고 이것을 표에 나타냈습니다. 각 기법은 ‘추세(trend)’와 ’계절(season)’ 성분의 종류를 나타내는 문자의 쌍으로 표시하였습니다. 예를 들면, ($A, M$)은 덧셈 추세(additive trend)와 곱셈 계절성(multiplicative seasonality)을 사용하는 기법을, ($A_d$, $N$)은 감쇠 추세(damped trend)가 있고 계절성이 없는 기법을 나타냅니다. 나머지도 마찬가지로 나타낼 수 있습니다.\n",
    "\n",
    "<table>\n",
    "<caption>\n",
    "<span id=\"tab:taxonomy\"></span>지수 평활 기법을 2가지로 분류.\n",
    "</caption>\n",
    "<thead>\n",
    "<tr>\n",
    "<th style=\"border-bottom:hidden;padding-bottom:0; padding-left:3px;padding-right:3px;text-align: left; \" colspan=\"1\">\n",
    "<div style=\"border-bottom: 1px solid #ddd; padding-bottom: 5px; \">\n",
    "추세 성분\n",
    "</div>\n",
    "</th>\n",
    "<th style=\"border-bottom:hidden;padding-bottom:0; padding-left:3px;padding-right:3px;text-align: left; \" colspan=\"3\">\n",
    "<div style=\"border-bottom: 1px solid #ddd; padding-bottom: 5px; \">\n",
    "계절 성분\n",
    "</div>\n",
    "</th>\n",
    "</tr>\n",
    "<tr>\n",
    "<th style=\"text-align:left;background-color: #e6e6e6 !important;\">\n",
    "</th>\n",
    "<th style=\"text-align:left;background-color: #e6e6e6 !important;\">\n",
    "N\n",
    "</th>\n",
    "<th style=\"text-align:left;background-color: #e6e6e6 !important;\">\n",
    "A\n",
    "</th>\n",
    "<th style=\"text-align:left;background-color: #e6e6e6 !important;\">\n",
    "M\n",
    "</th>\n",
    "</tr>\n",
    "</thead>\n",
    "<tbody>\n",
    "<tr>\n",
    "<td style=\"text-align:left;font-weight: bold;background-color: #e6e6e6 !important;font-weight: bold;background-color: #e6e6e6 !important;\">\n",
    "</td>\n",
    "<td style=\"text-align:left;font-weight: bold;background-color: #e6e6e6 !important;\">\n",
    "(없음)\n",
    "</td>\n",
    "<td style=\"text-align:left;font-weight: bold;background-color: #e6e6e6 !important;\">\n",
    "(덧셈)\n",
    "</td>\n",
    "<td style=\"text-align:left;font-weight: bold;background-color: #e6e6e6 !important;\">\n",
    "(곱셈)\n",
    "</td>\n",
    "</tr>\n",
    "<tr>\n",
    "<td style=\"text-align:left;background-color: #f6f6f6 !important;font-weight: bold;background-color: #e6e6e6 !important;\">\n",
    "N (없음)\n",
    "</td>\n",
    "<td style=\"text-align:left;background-color: #f6f6f6 !important;\">\n",
    "(N,N)\n",
    "</td>\n",
    "<td style=\"text-align:left;background-color: #f6f6f6 !important;\">\n",
    "(N,A)\n",
    "</td>\n",
    "<td style=\"text-align:left;background-color: #f6f6f6 !important;\">\n",
    "(N,M)\n",
    "</td>\n",
    "</tr>\n",
    "<tr>\n",
    "<td style=\"text-align:left;background-color: #f6f6f6 !important;font-weight: bold;background-color: #e6e6e6 !important;\">\n",
    "A (덧셈)\n",
    "</td>\n",
    "<td style=\"text-align:left;background-color: #f6f6f6 !important;\">\n",
    "(A,N)\n",
    "</td>\n",
    "<td style=\"text-align:left;background-color: #f6f6f6 !important;\">\n",
    "(A,A)\n",
    "</td>\n",
    "<td style=\"text-align:left;background-color: #f6f6f6 !important;\">\n",
    "(A,M)\n",
    "</td>\n",
    "</tr>\n",
    "<tr>\n",
    "<td style=\"text-align:left;background-color: #f6f6f6 !important;font-weight: bold;background-color: #e6e6e6 !important;\">\n",
    "A<span class=\"math inline\">\\(_d\\)</span> (덧셈 감쇠)\n",
    "</td>\n",
    "<td style=\"text-align:left;background-color: #f6f6f6 !important;\">\n",
    "(A<span class=\"math inline\">\\(_d\\)</span>,N)\n",
    "</td>\n",
    "<td style=\"text-align:left;background-color: #f6f6f6 !important;\">\n",
    "(A<span class=\"math inline\">\\(_d\\)</span>,A)\n",
    "</td>\n",
    "<td style=\"text-align:left;background-color: #f6f6f6 !important;\">\n",
    "(A<span class=\"math inline\">\\(_d\\)</span>,M)\n",
    "</td>\n",
    "</tr>\n",
    "</tbody>\n",
    "</table>"
   ]
  },
  {
   "cell_type": "markdown",
   "id": "0e5f1593",
   "metadata": {},
   "source": [
    "이러한 기법 중에서 몇 가지는 다른 이름으로 이미 살펴본 것입니다:\n",
    "\n"
   ]
  },
  {
   "cell_type": "markdown",
   "id": "a15d0efb",
   "metadata": {},
   "source": [
    "<table>\n",
    "<thead>\n",
    "<tr>\n",
    "<th style=\"text-align:left;\">\n",
    "Short hand\n",
    "</th>\n",
    "<th style=\"text-align:left;\">\n",
    "Method\n",
    "</th>\n",
    "</tr>\n",
    "</thead>\n",
    "<tbody>\n",
    "<tr>\n",
    "<td style=\"text-align:left;\">\n",
    "(N,N)\n",
    "</td>\n",
    "<td style=\"text-align:left;\">\n",
    "단순 지수 평활\n",
    "</td>\n",
    "</tr>\n",
    "<tr>\n",
    "<td style=\"text-align:left;\">\n",
    "(A,N)\n",
    "</td>\n",
    "<td style=\"text-align:left;\">\n",
    "홀트의 선형 기법\n",
    "</td>\n",
    "</tr>\n",
    "<tr>\n",
    "<td style=\"text-align:left;\">\n",
    "(A<span class=\"math inline\">\\(_d\\)</span>,N)\n",
    "</td>\n",
    "<td style=\"text-align:left;\">\n",
    "덧셈 감쇠 추세 기법\n",
    "</td>\n",
    "</tr>\n",
    "<tr>\n",
    "<td style=\"text-align:left;\">\n",
    "(A,A)\n",
    "</td>\n",
    "<td style=\"text-align:left;\">\n",
    "덧셈 홀트-윈터스 기법\n",
    "</td>\n",
    "</tr>\n",
    "<tr>\n",
    "<td style=\"text-align:left;\">\n",
    "(A,M)\n",
    "</td>\n",
    "<td style=\"text-align:left;\">\n",
    "곱셈 홀트-윈터스 기법\n",
    "</td>\n",
    "</tr>\n",
    "<tr>\n",
    "<td style=\"text-align:left;\">\n",
    "(A<span class=\"math inline\">\\(_d\\)</span>,M)\n",
    "</td>\n",
    "<td style=\"text-align:left;\">\n",
    "홀트-윈터스 감쇠 기법\n",
    "</td>\n",
    "</tr>\n",
    "</tbody>"
   ]
  },
  {
   "attachments": {
    "pegelstable%5B1%5D.png": {
     "image/png": "[encoded data removed]"
    }
   },
   "cell_type": "markdown",
   "id": "216c865d",
   "metadata": {},
   "source": [
    "Pegels (1969) 에서 곱셈 추세를 고려한 기법도 포함하여 이러한 분류 방식을 제안했습니다. 이 분류 체계는 Gardner (1985) 에서 덧셈 감쇠 추세 기법을, Taylor (2003) 에서 곱셈 감쇠 추세 기법을 추가하여 확장되었습니다. 곱셈 감쇠 기법은 나쁜 예측치를 내는 경향이 있기 때문에 이 책에서는 곱셈 감쇠 기법을 다루지 않습니다. Hyndman, Koehler, Ord, & Snyder (2008) 에서 모든 지수 평활 기법을 더욱 엄밀하게 다룹니다.\n",
    "\n",
    "9가지 지수 평활 기법을 적용하기 위한 재귀식을 나타냅니다. 표의 각 칸에는 $h$단계 앞 예측값을 내는 예측식과 기법을 적용하기 위한 평활식이 있습니다.\n",
    "\n",
    "재귀 계산과 점 예측값에 대한 식. 각각의 경우에,  $\\ell_t$는 시간 $t$에서 시계열의 수준을, $b_t$는 시간 $t$에서 기울기를 $s_t$는 시간 $t$에서 시계열의 계절 성분을, $m$은 한 연도 안의 계절의 숫자를 나타내고; $\\alpha$, $\\beta^*$, $\\gamma$, $\\phi$ 등은 평활 매개변수이며, $\\phi_h = \\phi+\\phi^2+\\dots+\\phi^{h}$이고, $k$는 $(h-1)/m$의 정수 부분입니다.\n",
    "\n",
    "![pegelstable%5B1%5D.png](attachment:pegelstable%5B1%5D.png)"
   ]
  }
 ],
 "metadata": {
  "kernelspec": {
   "display_name": "R",
   "language": "R",
   "name": "ir"
  },
  "language_info": {
   "codemirror_mode": "r",
   "file_extension": ".r",
   "mimetype": "text/x-r-source",
   "name": "R",
   "pygments_lexer": "r",
   "version": "4.2.2"
  }
 },
 "nbformat": 4,
 "nbformat_minor": 5
}
