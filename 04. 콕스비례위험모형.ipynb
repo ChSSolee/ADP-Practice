{
 "cells": [
  {
   "cell_type": "markdown",
   "id": "c5e5587c",
   "metadata": {},
   "source": [
    "# 04. 콕스비례위험모형"
   ]
  },
  {
   "cell_type": "code",
   "execution_count": 7,
   "id": "3e35da82",
   "metadata": {},
   "outputs": [
    {
     "data": {
      "text/plain": [
       "── \u001b[1mConflicts\u001b[22m ───────────────────────────────────────────────────────────────────────────────── tidymodels_conflicts() ──\n",
       "\u001b[31m✖\u001b[39m \u001b[34mpurrr\u001b[39m::\u001b[32mcompose()\u001b[39m  masks \u001b[34mflextable\u001b[39m::compose()\n",
       "\u001b[31m✖\u001b[39m \u001b[34mscales\u001b[39m::\u001b[32mdiscard()\u001b[39m masks \u001b[34mpurrr\u001b[39m::discard()\n",
       "\u001b[31m✖\u001b[39m \u001b[34mdplyr\u001b[39m::\u001b[32mfilter()\u001b[39m   masks \u001b[34mstats\u001b[39m::filter()\n",
       "\u001b[31m✖\u001b[39m \u001b[34mrecipes\u001b[39m::\u001b[32mfixed()\u001b[39m  masks \u001b[34mstringr\u001b[39m::fixed()\n",
       "\u001b[31m✖\u001b[39m \u001b[34mdplyr\u001b[39m::\u001b[32mlag()\u001b[39m      masks \u001b[34mstats\u001b[39m::lag()\n",
       "\u001b[31m✖\u001b[39m \u001b[34myardstick\u001b[39m::\u001b[32mspec()\u001b[39m masks \u001b[34mreadr\u001b[39m::spec()\n",
       "\u001b[31m✖\u001b[39m \u001b[34mrecipes\u001b[39m::\u001b[32mstep()\u001b[39m   masks \u001b[34mstats\u001b[39m::step()\n",
       "\u001b[34m•\u001b[39m Use suppressPackageStartupMessages() to eliminate package startup messages"
      ]
     },
     "metadata": {},
     "output_type": "display_data"
    }
   ],
   "source": [
    "library(autoReg)\n",
    "library(survival)\n",
    "library(survminer)\n",
    "library(flextable)\n",
    "library(ftExtra)\n",
    "library(tidyverse)\n",
    "library(tidymodels)\n",
    "library(interpretCI)\n",
    "tidymodels::tidymodels_conflicts()"
   ]
  },
  {
   "cell_type": "markdown",
   "id": "ea00a774",
   "metadata": {},
   "source": [
    "# \n",
    "# \n",
    "### 4-1 콕스PH모형에 적합시킨 여러 모형의 비교\n",
    "- 콕스PH모형은 위험함수에,**공변량에 대한 회귀식을 포함하는 모형으로 생존시간 데이터의 분포에 대한 가정이 필요없음**\n",
    "- 추정된 회귀계수로부터 위험비를 구함\n",
    "- **콕스비례위험모형에서는 ```coef```로 부터 위험비(hazard ratio, HR)가 계산**"
   ]
  },
  {
   "cell_type": "markdown",
   "id": "0fa8d031",
   "metadata": {},
   "source": [
    "# \n",
    "- 모형1의 설명변수 : ```rx```\n",
    "- 모형2의 설명변수 : ```logWBC```\n",
    "- 모형3의 설명변수 : ```rx``` $\\times$ ```logWBC``` (상호작용항)\n",
    "\n",
    "# \n",
    "\n",
    "#### ```coxph()```\n",
    "- ```coef``` : 회귀계수\n",
    "- ```se(coef)``` : 회귀계수의 표준오차\n",
    "- ```z``` : z통계량\n",
    "    - 회귀계수를 회귀계수의 표준오차로 나눈 ```Wald```통계량\n",
    "    - **```Wald``` 검정**\n",
    "        **- 귀무가설 : $H_0 :\\;coefficent = 0$**\n",
    "- ```Pr(>|z|)``` : 변수별 p-value\n",
    "\n",
    "# \n",
    "\n",
    "#### $HR = e^{coef} = e^{1.572} \\approx 4.817$"
   ]
  },
  {
   "cell_type": "code",
   "execution_count": 45,
   "id": "065a12bf",
   "metadata": {},
   "outputs": [
    {
     "name": "stderr",
     "output_type": "stream",
     "text": [
      "Usage of empty symbol '' with footnote should not happen, \n",
      "use `add_footer_lines()` instead, it does not require any symbol. \n",
      "This usage will be forbidden in the next release. Please, wait for 10 seconds!\n",
      "\n"
     ]
    },
    {
     "data": {
      "text/plain": [
       "a flextable object.\n",
       "col_keys: ` `, `coef`, `se(coef)`, `z`, `Pr(>|z|)`, `HR`, `lower`, `upper` \n",
       "header has 1 row(s) \n",
       "body has 1 row(s) \n",
       "original dataset sample: \n",
       "————————————————————————————————————————————————————————————\n",
       "       coef  se(coef)      z  Pr(>|z|)     HR  lower   upper \n",
       "————————————————————————————————————————————————————————————\n",
       "rx    1.572     0.412  3.812     <.001  4.817  2.147  10.809 \n",
       "————————————————————————————————————————————————————————————\n",
       "n=42, events=30, Likelihood ratio test=16.35 on 1 df (p<.001) "
      ]
     },
     "metadata": {},
     "output_type": "display_data"
    }
   ],
   "source": [
    "fit1 = coxph(Surv(time, status) ~ rx, data = anderson)\n",
    "gaze(fit1) %>% myft()"
   ]
  },
  {
   "cell_type": "markdown",
   "id": "8efc5e2e",
   "metadata": {},
   "source": [
    "# "
   ]
  },
  {
   "cell_type": "code",
   "execution_count": 46,
   "id": "fe3dce3d",
   "metadata": {},
   "outputs": [
    {
     "name": "stderr",
     "output_type": "stream",
     "text": [
      "Usage of empty symbol '' with footnote should not happen, \n",
      "use `add_footer_lines()` instead, it does not require any symbol. \n",
      "This usage will be forbidden in the next release. Please, wait for 10 seconds!\n",
      "\n"
     ]
    },
    {
     "data": {
      "text/plain": [
       "a flextable object.\n",
       "col_keys: ` `, `coef`, `se(coef)`, `z`, `Pr(>|z|)`, `HR`, `lower`, `upper` \n",
       "header has 1 row(s) \n",
       "body has 2 row(s) \n",
       "original dataset sample: \n",
       "————————————————————————————————————————————————————————————————\n",
       "           coef  se(coef)      z  Pr(>|z|)     HR  lower   upper \n",
       "————————————————————————————————————————————————————————————————\n",
       "rx        1.386     0.425  3.263      .001  3.999  1.739   9.195 \n",
       "logWBC    1.691     0.336  5.034     <.001  5.424  2.808  10.478 \n",
       "————————————————————————————————————————————————————————————————\n",
       "n=42, events=30, Likelihood ratio test=46.71 on 2 df (p<.001) "
      ]
     },
     "metadata": {},
     "output_type": "display_data"
    }
   ],
   "source": [
    "fit2 = coxph(Surv(time, status) ~ rx + logWBC, data = anderson)\n",
    "gaze(fit2) %>% myft()"
   ]
  },
  {
   "cell_type": "markdown",
   "id": "14e1dbf3",
   "metadata": {},
   "source": [
    "# \n",
    "- 모형3의 ```rx```의 z통계량 = 1.393 \n",
    "    - => p-value > 0.05 => 귀무가설 기각X => 통계적으로 유의하지 않음\n",
    "- **```n = 42```** : 데이터 크기\n",
    "- **```events = 30```** : 사건 발생횟수\n",
    "\n",
    "# \n",
    "\n",
    "- **가능도비 검정(likelihood ratio test) : 설명변수가 하나도 없는 영모형(null model)의 로그가능도와 현재 모형의 로그 가능도를 비교** \n",
    "    - **$-2\\;\\times\\;(영모형의\\;로그가능도)\\;-\\;(-2\\;\\times\\;현재모형의\\;로그가능도)$**"
   ]
  },
  {
   "cell_type": "code",
   "execution_count": 27,
   "id": "5733a407",
   "metadata": {},
   "outputs": [
    {
     "name": "stderr",
     "output_type": "stream",
     "text": [
      "Usage of empty symbol '' with footnote should not happen, \n",
      "use `add_footer_lines()` instead, it does not require any symbol. \n",
      "This usage will be forbidden in the next release. Please, wait for 10 seconds!\n",
      "\n"
     ]
    },
    {
     "data": {
      "text/plain": [
       "a flextable object.\n",
       "col_keys: ` `, `coef`, `se(coef)`, `z`, `Pr(>|z|)`, `HR`, `lower`, `upper` \n",
       "header has 1 row(s) \n",
       "body has 3 row(s) \n",
       "original dataset sample: \n",
       "———————————————————————————————————————————————————————————————————————\n",
       "               coef  se(coef)       z  Pr(>|z|)      HR  lower    upper \n",
       "———————————————————————————————————————————————————————————————————————\n",
       "rx            2.375     1.705   1.393      .164  10.750  0.380  304.162 \n",
       "logWBC        1.872     0.451   4.148     <.001   6.504  2.685   15.755 \n",
       "rx:logWBC    -0.318     0.526  -0.604      .546   0.728  0.260    2.040 \n",
       "———————————————————————————————————————————————————————————————————————\n",
       "n=42, events=30, Likelihood ratio test=47.07 on 3 df (p<.001) "
      ]
     },
     "metadata": {},
     "output_type": "display_data"
    }
   ],
   "source": [
    "fit3 = coxph(Surv(time, status) ~ rx * logWBC, data = anderson)\n",
    "gaze(fit3) %>% myft()"
   ]
  },
  {
   "cell_type": "code",
   "execution_count": 28,
   "id": "cc88bac5",
   "metadata": {},
   "outputs": [
    {
     "data": {
      "image/png": "[encoded data removed]",
      "text/plain": [
       "plot without title"
      ]
     },
     "metadata": {
      "image/png": {
       "height": 420,
       "width": 420
      }
     },
     "output_type": "display_data"
    }
   ],
   "source": [
    "draw_n(z = 1.392962)"
   ]
  },
  {
   "cell_type": "markdown",
   "id": "284e4401",
   "metadata": {},
   "source": [
    "- **LR통계량은 공변량의 개수를 자유도로 하는 $\\chi^2$분포를 따름**"
   ]
  },
  {
   "cell_type": "code",
   "execution_count": 32,
   "id": "115f770a",
   "metadata": {},
   "outputs": [
    {
     "data": {
      "text/html": [
       "3.35846302969787e-10"
      ],
      "text/latex": [
       "3.35846302969787e-10"
      ],
      "text/markdown": [
       "3.35846302969787e-10"
      ],
      "text/plain": [
       "[1] 3.358463e-10"
      ]
     },
     "metadata": {},
     "output_type": "display_data"
    }
   ],
   "source": [
    "pchisq(47.07, df = 3, lower.tail = F)"
   ]
  },
  {
   "cell_type": "markdown",
   "id": "24ee5839",
   "metadata": {},
   "source": [
    "- rx계수의 95% 신뢰구간"
   ]
  },
  {
   "cell_type": "code",
   "execution_count": 29,
   "id": "74bd6ddf",
   "metadata": {},
   "outputs": [
    {
     "data": {
      "text/html": [
       "-0.967801794774677"
      ],
      "text/latex": [
       "-0.967801794774677"
      ],
      "text/markdown": [
       "-0.967801794774677"
      ],
      "text/plain": [
       "[1] -0.9678018"
      ]
     },
     "metadata": {},
     "output_type": "display_data"
    },
    {
     "data": {
      "text/html": [
       "5.71762181483419"
      ],
      "text/latex": [
       "5.71762181483419"
      ],
      "text/markdown": [
       "5.71762181483419"
      ],
      "text/plain": [
       "[1] 5.717622"
      ]
     },
     "metadata": {},
     "output_type": "display_data"
    }
   ],
   "source": [
    "tidy(fit3)$estimate[1] - 1.96 * tidy(fit3)$std.error[1]\n",
    "tidy(fit3)$estimate[1] + 1.96 * tidy(fit3)$std.error[1]"
   ]
  },
  {
   "cell_type": "markdown",
   "id": "daa7cabf",
   "metadata": {},
   "source": [
    "- HR의 95% 신뢰구간"
   ]
  },
  {
   "cell_type": "code",
   "execution_count": 30,
   "id": "7d24b12c",
   "metadata": {},
   "outputs": [
    {
     "data": {
      "text/html": [
       "0.379917256974811"
      ],
      "text/latex": [
       "0.379917256974811"
      ],
      "text/markdown": [
       "0.379917256974811"
      ],
      "text/plain": [
       "[1] 0.3799173"
      ]
     },
     "metadata": {},
     "output_type": "display_data"
    },
    {
     "data": {
      "text/html": [
       "304.180664144284"
      ],
      "text/latex": [
       "304.180664144284"
      ],
      "text/markdown": [
       "304.180664144284"
      ],
      "text/plain": [
       "[1] 304.1807"
      ]
     },
     "metadata": {},
     "output_type": "display_data"
    }
   ],
   "source": [
    "exp(tidy(fit3)$estimate[1] - 1.96 * tidy(fit3)$std.error[1])\n",
    "exp(tidy(fit3)$estimate[1] + 1.96 * tidy(fit3)$std.error[1])"
   ]
  },
  {
   "cell_type": "markdown",
   "id": "7e27f119",
   "metadata": {},
   "source": [
    "# \n",
    "#### 3번째 모형과 2번째 모형의 가능도비검정\n",
    "- 자유도 : **두 모형의 설명변수 개수 차이** (3 - 2 = 1)"
   ]
  },
  {
   "cell_type": "code",
   "execution_count": 50,
   "id": "159f669a",
   "metadata": {},
   "outputs": [
    {
     "data": {
      "text/html": [
       "0.548823184391701"
      ],
      "text/latex": [
       "0.548823184391701"
      ],
      "text/markdown": [
       "0.548823184391701"
      ],
      "text/plain": [
       "[1] 0.5488232"
      ]
     },
     "metadata": {},
     "output_type": "display_data"
    }
   ],
   "source": [
    "wt_st = -2 * (fit2$loglik[2] - fit3$loglik[2])\n",
    "pchisq(wt_st, df = 1, lower.tail = F)"
   ]
  },
  {
   "cell_type": "markdown",
   "id": "8dbab3e6",
   "metadata": {},
   "source": [
    "# \n",
    "- 본 가능도비 검정의 p-value(0.548823)는, 모형3의 상호작용항에 대한 Wald 검정의 p-value(0.546)과 같지는 않지만, 거의 비슷함\n",
    "- **만약 두 검정 결과가 다르다면 가능도비 검정이 보다 좋은 통계학적 특성을 가지고 있기 때문에, 가능도비 검정을 사용**"
   ]
  },
  {
   "cell_type": "markdown",
   "id": "b914a228",
   "metadata": {},
   "source": [
    "# \n",
    "#### AIC(Akaike information criterion) 기준 모형 비교\n",
    "- **$AIC\\;=\\;2k\\;-2Log(\\hat{L})$** : 낮을수록 좋은 모형\n",
    "    - $k$ : 공변량의 개수\n",
    "    - $-2Log(\\hat{L})$ : 로그가능도"
   ]
  },
  {
   "cell_type": "code",
   "execution_count": 52,
   "id": "ec6e9143",
   "metadata": {},
   "outputs": [
    {
     "data": {
      "text/html": [
       "145.296772508133"
      ],
      "text/latex": [
       "145.296772508133"
      ],
      "text/markdown": [
       "145.296772508133"
      ],
      "text/plain": [
       "[1] 145.2968"
      ]
     },
     "metadata": {},
     "output_type": "display_data"
    }
   ],
   "source": [
    "2 * (3) - 2 * fit3$loglik[2] "
   ]
  },
  {
   "cell_type": "markdown",
   "id": "23fc5190",
   "metadata": {},
   "source": [
    "#### ```drop1()``` : 현재모형과 설명변수를 1개 제거한 모형의 AIC값 비교"
   ]
  },
  {
   "cell_type": "code",
   "execution_count": 60,
   "id": "ed783e0b",
   "metadata": {},
   "outputs": [
    {
     "data": {
      "text/html": [
       "<table class=\"dataframe\">\n",
       "<caption>A anova: 2 × 2</caption>\n",
       "<thead>\n",
       "\t<tr><th></th><th scope=col>Df</th><th scope=col>AIC</th></tr>\n",
       "\t<tr><th></th><th scope=col>&lt;dbl&gt;</th><th scope=col>&lt;dbl&gt;</th></tr>\n",
       "</thead>\n",
       "<tbody>\n",
       "\t<tr><th scope=row>&lt;none&gt;</th><td>NA</td><td>145.2968</td></tr>\n",
       "\t<tr><th scope=row>rx:logWBC</th><td> 1</td><td>143.6562</td></tr>\n",
       "</tbody>\n",
       "</table>\n"
      ],
      "text/latex": [
       "A anova: 2 × 2\n",
       "\\begin{tabular}{r|ll}\n",
       "  & Df & AIC\\\\\n",
       "  & <dbl> & <dbl>\\\\\n",
       "\\hline\n",
       "\t<none> & NA & 145.2968\\\\\n",
       "\trx:logWBC &  1 & 143.6562\\\\\n",
       "\\end{tabular}\n"
      ],
      "text/markdown": [
       "\n",
       "A anova: 2 × 2\n",
       "\n",
       "| <!--/--> | Df &lt;dbl&gt; | AIC &lt;dbl&gt; |\n",
       "|---|---|---|\n",
       "| &lt;none&gt; | NA | 145.2968 |\n",
       "| rx:logWBC |  1 | 143.6562 |\n",
       "\n"
      ],
      "text/plain": [
       "          Df AIC     \n",
       "<none>    NA 145.2968\n",
       "rx:logWBC  1 143.6562"
      ]
     },
     "metadata": {},
     "output_type": "display_data"
    }
   ],
   "source": [
    "drop1(fit3)"
   ]
  },
  {
   "cell_type": "markdown",
   "id": "b129ab1b",
   "metadata": {},
   "source": [
    "- **모형3의 AIC값이 145.3이며, ```rx:logWBC```를 제거한 모형의 AIC값이 낮음을 확인 => 모형3보다 모형2가 좋은 모형**"
   ]
  },
  {
   "cell_type": "markdown",
   "id": "704a9275",
   "metadata": {},
   "source": [
    "# \n",
    "#### 모형1과 모형2의 비교\n",
    "- **가능도비 검정결과, 모형2의 예측변수 ```logWBC```는 통계적으로 유의한 변수**\n",
    "    - **=> 모형2가 가장 좋은 모형**"
   ]
  },
  {
   "cell_type": "code",
   "execution_count": 61,
   "id": "5a6585f9",
   "metadata": {},
   "outputs": [
    {
     "data": {
      "text/html": [
       "3.58732517729694e-08"
      ],
      "text/latex": [
       "3.58732517729694e-08"
      ],
      "text/markdown": [
       "3.58732517729694e-08"
      ],
      "text/plain": [
       "[1] 3.587325e-08"
      ]
     },
     "metadata": {},
     "output_type": "display_data"
    }
   ],
   "source": [
    "LR = -2 * (fit1$loglik[2] - fit2$loglik[2])\n",
    "pchisq(LR, df = 1, lower.tail = F)"
   ]
  },
  {
   "cell_type": "markdown",
   "id": "22216cd5",
   "metadata": {},
   "source": [
    "# \n",
    "#### 결론 : ```rx```에 대하여 ```logWBC```의 효과를 보정한 후 치료효과는 통계적으로 유의하며, 위험비는 4.0으로 추정"
   ]
  },
  {
   "cell_type": "code",
   "execution_count": 63,
   "id": "fd0a6860",
   "metadata": {},
   "outputs": [
    {
     "data": {
      "text/html": [
       "<table class=\"dataframe\">\n",
       "<caption>A autoReg: 2 × 8</caption>\n",
       "<thead>\n",
       "\t<tr><th></th><th scope=col> </th><th scope=col>coef</th><th scope=col>se(coef)</th><th scope=col>z</th><th scope=col>Pr(&gt;|z|)</th><th scope=col>HR</th><th scope=col>lower</th><th scope=col>upper</th></tr>\n",
       "\t<tr><th></th><th scope=col>&lt;chr&gt;</th><th scope=col>&lt;chr&gt;</th><th scope=col>&lt;chr&gt;</th><th scope=col>&lt;chr&gt;</th><th scope=col>&lt;chr&gt;</th><th scope=col>&lt;chr&gt;</th><th scope=col>&lt;chr&gt;</th><th scope=col>&lt;chr&gt;</th></tr>\n",
       "</thead>\n",
       "<tbody>\n",
       "\t<tr><th scope=row>rx</th><td>rx    </td><td>1.386</td><td>0.425</td><td>3.263</td><td>.001 </td><td>3.999</td><td>1.739</td><td>9.195 </td></tr>\n",
       "\t<tr><th scope=row>logWBC</th><td>logWBC</td><td>1.691</td><td>0.336</td><td>5.034</td><td>&lt;.001</td><td>5.424</td><td>2.808</td><td>10.478</td></tr>\n",
       "</tbody>\n",
       "</table>\n"
      ],
      "text/latex": [
       "A autoReg: 2 × 8\n",
       "\\begin{tabular}{r|llllllll}\n",
       "  &   & coef & se(coef) & z & Pr(>\\textbar{}z\\textbar{}) & HR & lower & upper\\\\\n",
       "  & <chr> & <chr> & <chr> & <chr> & <chr> & <chr> & <chr> & <chr>\\\\\n",
       "\\hline\n",
       "\trx & rx     & 1.386 & 0.425 & 3.263 & .001  & 3.999 & 1.739 & 9.195 \\\\\n",
       "\tlogWBC & logWBC & 1.691 & 0.336 & 5.034 & <.001 & 5.424 & 2.808 & 10.478\\\\\n",
       "\\end{tabular}\n"
      ],
      "text/markdown": [
       "\n",
       "A autoReg: 2 × 8\n",
       "\n",
       "| <!--/--> | <!----> &lt;chr&gt; | coef &lt;chr&gt; | se(coef) &lt;chr&gt; | z &lt;chr&gt; | Pr(&gt;|z|) &lt;chr&gt; | HR &lt;chr&gt; | lower &lt;chr&gt; | upper &lt;chr&gt; |\n",
       "|---|---|---|---|---|---|---|---|---|\n",
       "| rx | rx     | 1.386 | 0.425 | 3.263 | .001  | 3.999 | 1.739 | 9.195  |\n",
       "| logWBC | logWBC | 1.691 | 0.336 | 5.034 | &lt;.001 | 5.424 | 2.808 | 10.478 |\n",
       "\n"
      ],
      "text/plain": [
       "              coef  se(coef) z     Pr(>|z|) HR    lower upper \n",
       "rx     rx     1.386 0.425    3.263 .001     3.999 1.739 9.195 \n",
       "logWBC logWBC 1.691 0.336    5.034 <.001    5.424 2.808 10.478"
      ]
     },
     "metadata": {},
     "output_type": "display_data"
    }
   ],
   "source": [
    "gaze(fit2)"
   ]
  },
  {
   "cell_type": "code",
   "execution_count": 64,
   "id": "238e08b5",
   "metadata": {},
   "outputs": [
    {
     "data": {
      "image/png": "[encoded data removed]",
      "text/plain": [
       "plot without title"
      ]
     },
     "metadata": {
      "image/png": {
       "height": 420,
       "width": 420
      }
     },
     "output_type": "display_data"
    }
   ],
   "source": [
    "modelPlot(fit2)"
   ]
  },
  {
   "cell_type": "code",
   "execution_count": 65,
   "id": "d188a425",
   "metadata": {},
   "outputs": [
    {
     "data": {
      "image/png": "[encoded data removed]",
      "text/plain": [
       "plot without title"
      ]
     },
     "metadata": {
      "image/png": {
       "height": 420,
       "width": 420
      }
     },
     "output_type": "display_data"
    }
   ],
   "source": [
    "adjustedPlot(fit2, xnames = \"rx\")"
   ]
  },
  {
   "cell_type": "markdown",
   "id": "a2125884",
   "metadata": {},
   "source": [
    "# \n",
    "# \n",
    "### 4-2 콕스PH모형식\n",
    "#### 설명변수 $X\\;=\\;(X_1, X_2, ..., X_p)$가 있는 콕스비례위험모형의 위험함수 \n",
    "#### $h(t, X) = h_0(t)\\;\\times\\;e^{\\sum^p_{i=1}\\beta_i X_i}$\n",
    "- **설명변수 X를 가진, 어떤 대상의 t시간에서의 위험**"
   ]
  },
  {
   "cell_type": "markdown",
   "id": "154c30da",
   "metadata": {},
   "source": [
    "| $h_0(t)$ | $exp(\\sum^k_{i=1} \\beta_i X_i)$ |\n",
    "| - | - |\n",
    "| 기저 위험함수 (baseline hazard function) | 지수함수 (exponential) | \n",
    "| $t$의 함수 | $X$의 함수 | \n",
    "| $X$와 무관 | $t$와 무관 |\n",
    "| | $X$는 $t와 독립$ (time-independent) |\n",
    "\n",
    "- *X가 시간에 의존하는 경우 -> 시간의존 공변량(time-dependent covariate)* \n",
    "    - *시간에 따라 변화하지 않는 공변량의 예 : 성별, 흡연여부*\n",
    "        - *흡연상태는 시간에 따라 변화할 수도 있지만, PH모형에서는 분석을 위해 한번 결정하면 불변하는 것으로 가정*\n",
    "    - *시간에 따라 변화하는 변수 : 나이, 몸무게 등*\n",
    "    \n",
    "# \n",
    "\n",
    "#### 콕스PH모형식에서 모든 공변량이 0일 경우 :\n",
    "- $t$에서의 위험함수는 $h_0(t)$와 같아짐\n",
    "#### $h(t, X) = h_0(t)\\;\\times\\;e^{\\sum^{p}_{i=1} \\beta_i X_i}$\n",
    "#### $= h_0(t) \\;\\times\\;e^0 <- X_1 = X_2 = ... X_p = 0$ = $h_0(t($\n",
    "- 공변량이 없는 경우에도 시간 t에서의 위험함수 $h(t, X) = h_0(t)$\n",
    "- **콕스PH모형의 기저위험함수는 모수적 가정을 하지 않음 -> 준모수적방법 (semiparametric)**\n",
    "    - **기저위험함수의 분포가 알려져 있지 않음**\n",
    "    - **기저위험함수의 분포가 알려져 있는 경우도 존재 (예: 와이블 모형 (Weibull model))**"
   ]
  },
  {
   "cell_type": "markdown",
   "id": "8c4d85b6",
   "metadata": {},
   "source": [
    "# \n",
    "# \n",
    "### 4-3 콕스PH모형의 강점\n",
    "1. **기저위험함수의 분포에 대한 가정 없이도 회귀계수 및 위험비를 추정**\n",
    "    - **콕스PH모형은 매우 강건(robust)하기 때문에**, 정확한 모수적인 모형의 추정 결과와 매우 근접한 추정결과를 얻음\n",
    "    - 예 : 기저위험함수가 와이블모형을 따른다면, 콕스모형을 통해 와이블 모형의 결과와 근접한 결과를 얻으며, 정확한 모형이 지수모형이라면, 근접한 결과를 얻을 수 있음\n",
    "    - **그러나, 모수적 모형에 대한 적합도 검정을 시행하더라도, 그 모수적 모형이 맞는지 확신 불가**\n",
    "        - 모수적인 가정이 의심스러울 경우, 콕스PH모형을 통해 신뢰할 수 있는 결과를 얻을 수 있음\n",
    "2. **지수 부분 $e^{\\sum^p_{i=1} \\beta_i X_i}$은 항상 0보다 크기 때문에, 위험비가 0부터 $\\infty$의 값을 가질 수 있음**\n",
    "3. **기저위험함수인 $h_0(t)$를 계산할 필요 없이 회귀계수 및 위험비의 추정이 가능하며, 보정된 생존곡선을 얻을 수 있음**\n",
    "4. **생존시간 및 중도탈락에 대한 정보가 있다면, 보다 많은 정보를 사용할 수 있음 -> 로지스틱 회귀모형보다 선호**"
   ]
  },
  {
   "cell_type": "markdown",
   "id": "8e88b8d2",
   "metadata": {},
   "source": [
    "# \n",
    "# \n",
    "### 4-4 콕스PH모형에서 회귀계수의 추정\n",
    "- 콕스모형에서 사용하는 가능도함수는 부분가능도(partial likelihood) : **실패한 대상의 확률만을 고려하고, 중도절단된 대상들의 확률은 명시적으로 고려하지 않음**\n",
    "    - **$k$개의 실패시간에 해당하는 여러 가능도의 곱들로 표현 가능** \n",
    "    - => **f번째 실패시간의 가능도인 $L_f$는 그 시점까지 생존했다는 조건하에 그 시간에 실패할 가능성을 나타내는 조건부 확률**\n",
    "    - **($j$번째 실패시간까지 생존한 위험의 대상들을 \"risk set\" $R(t_{(f)}$라고 표현)**\n",
    "    \n",
    "#### $L = L_1 \\;\\times\\; L_2 \\;\\times\\; .... \\;\\times\\;L_k \\;=\\;\\Pi^k_{j=1}L_j$"
   ]
  },
  {
   "cell_type": "markdown",
   "id": "cf8db00b",
   "metadata": {},
   "source": [
    "# \n",
    "- 부분가능도함수는 실패한 대상의 확률만을 고려하지만, 중도절단된 대상들의 **중도절단되기 전까지의 생존시간을 고려하기 떄문에**, $f$번째 실패시간 이후에 중도절단된 대상들은 $L_j$를 계산할 때 risk set으로 사용\n",
    "- 주어진 모형에서 가능도함수가 만들어지면 가능도를 최대화 (로그가능도함수를 미분한 방정식의 해)\n",
    "#### ${\\delta log L} \\over {\\delta \\beta_i} = 0$,  $\\;\\;i = 1, 2, 3, ... , p\\;\\;$  ($p = number\\;\\;of\\;\\;parameter$)\n",
    "\n",
    "# \n",
    "#### 최대 부분 가능도추정량 $\\hat{\\beta}$를 기반으로 누적위험함수를 구함 (Breslow 추정량)\n",
    "#### $\\hat{H_0(t) = \\sum_{t_i \\;<\\;t} \\hat{h_0(t)}} = \\sum_{t_i \\;<\\;t} {1 \\over {\\sum_{j\\in R_j}e^{\\beta x_i}}}$"
   ]
  },
  {
   "cell_type": "markdown",
   "id": "cae9e5c6",
   "metadata": {},
   "source": [
    "# \n",
    "#### 모형2의 위험함수"
   ]
  },
  {
   "cell_type": "code",
   "execution_count": 68,
   "id": "c7088179",
   "metadata": {},
   "outputs": [
    {
     "data": {
      "text/html": [
       "<table class=\"dataframe\">\n",
       "<caption>A autoReg: 2 × 8</caption>\n",
       "<thead>\n",
       "\t<tr><th></th><th scope=col> </th><th scope=col>coef</th><th scope=col>se(coef)</th><th scope=col>z</th><th scope=col>Pr(&gt;|z|)</th><th scope=col>HR</th><th scope=col>lower</th><th scope=col>upper</th></tr>\n",
       "\t<tr><th></th><th scope=col>&lt;chr&gt;</th><th scope=col>&lt;chr&gt;</th><th scope=col>&lt;chr&gt;</th><th scope=col>&lt;chr&gt;</th><th scope=col>&lt;chr&gt;</th><th scope=col>&lt;chr&gt;</th><th scope=col>&lt;chr&gt;</th><th scope=col>&lt;chr&gt;</th></tr>\n",
       "</thead>\n",
       "<tbody>\n",
       "\t<tr><th scope=row>rx</th><td>rx    </td><td>1.386</td><td>0.425</td><td>3.263</td><td>.001 </td><td>3.999</td><td>1.739</td><td>9.195 </td></tr>\n",
       "\t<tr><th scope=row>logWBC</th><td>logWBC</td><td>1.691</td><td>0.336</td><td>5.034</td><td>&lt;.001</td><td>5.424</td><td>2.808</td><td>10.478</td></tr>\n",
       "</tbody>\n",
       "</table>\n"
      ],
      "text/latex": [
       "A autoReg: 2 × 8\n",
       "\\begin{tabular}{r|llllllll}\n",
       "  &   & coef & se(coef) & z & Pr(>\\textbar{}z\\textbar{}) & HR & lower & upper\\\\\n",
       "  & <chr> & <chr> & <chr> & <chr> & <chr> & <chr> & <chr> & <chr>\\\\\n",
       "\\hline\n",
       "\trx & rx     & 1.386 & 0.425 & 3.263 & .001  & 3.999 & 1.739 & 9.195 \\\\\n",
       "\tlogWBC & logWBC & 1.691 & 0.336 & 5.034 & <.001 & 5.424 & 2.808 & 10.478\\\\\n",
       "\\end{tabular}\n"
      ],
      "text/markdown": [
       "\n",
       "A autoReg: 2 × 8\n",
       "\n",
       "| <!--/--> | <!----> &lt;chr&gt; | coef &lt;chr&gt; | se(coef) &lt;chr&gt; | z &lt;chr&gt; | Pr(&gt;|z|) &lt;chr&gt; | HR &lt;chr&gt; | lower &lt;chr&gt; | upper &lt;chr&gt; |\n",
       "|---|---|---|---|---|---|---|---|---|\n",
       "| rx | rx     | 1.386 | 0.425 | 3.263 | .001  | 3.999 | 1.739 | 9.195  |\n",
       "| logWBC | logWBC | 1.691 | 0.336 | 5.034 | &lt;.001 | 5.424 | 2.808 | 10.478 |\n",
       "\n"
      ],
      "text/plain": [
       "              coef  se(coef) z     Pr(>|z|) HR    lower upper \n",
       "rx     rx     1.386 0.425    3.263 .001     3.999 1.739 9.195 \n",
       "logWBC logWBC 1.691 0.336    5.034 <.001    5.424 2.808 10.478"
      ]
     },
     "metadata": {},
     "output_type": "display_data"
    }
   ],
   "source": [
    "gaze(fit2) "
   ]
  },
  {
   "cell_type": "markdown",
   "id": "6c1f3997",
   "metadata": {},
   "source": [
    "#### 위험함수 : $\\hat{t, X}\\;=\\;\\hat{h_0}(t) \\;\\times\\; e^{1.386\\;rx\\;+\\;4.691\\;logWBC}$"
   ]
  },
  {
   "cell_type": "markdown",
   "id": "93de20b8",
   "metadata": {},
   "source": [
    "# \n",
    "# \n",
    "### 4-5 위험비의 계산\n",
    "#### 위험비 : 어떤 대상의  위험을 다른 대상의 위험으로 나눈 값\n",
    "- **(설명변수 X가 다른 대상)**\n",
    "- 어떤 대상의 설명변수들을 $X^*$라 하고, 다른 대상의 설명변수들을 X라고 할 때\n",
    "\n",
    "# \n",
    "#### $\\hat{HR} = {{\\hat{h}(t, X^*)} \\over {\\hat{h}(t, X)}}$\n",
    "- 위험비가 1보다 작은 경우보다, 1보다 큰 경우가 해석하기 쉬움 -> **위험이 큰 대상을 $X^*$(대조군)로 하고, 작은 대상을 $X$(치료군)으로 설정**\n",
    "#### $\\hat{HR} = {{\\hat{h_0(t)}\\;\\times\\;e^{\\sum^p_{i=1} \\hat{\\beta} X^*_i}} \\over {\\hat{h_0(t)}\\;\\times\\;e^{\\sum^p_{i=1} \\hat{\\beta} X_i}}} = e^{\\sum^p_{i=1}\\beta_i(X^*_i - X_i)} = exp(\\sum^p_{i=1} \\hat{\\beta_i} (X^*_i- X_i))$\n",
    "    - 기저위험함수가 사라지고 **설명변수와 회귀계수만 남게됨** => **즉, 위험비는 시간이 변하더라도 불변** => **비례위험**\n",
    "\n",
    "# \n",
    "- 모형2\n",
    "#### $\\hat{HR} = exp(\\hat{\\beta_1} (X^*_1- X_1)\\;+\\;\\hat{\\beta_2} (X^*_2- X_2)) = exp(1.386 (rx^*-rx)\\;+\\;1.691 (logWBC^*- logWBC))$"
   ]
  },
  {
   "cell_type": "code",
   "execution_count": 70,
   "id": "0f8cff98",
   "metadata": {},
   "outputs": [
    {
     "data": {
      "text/html": [
       "<table class=\"dataframe\">\n",
       "<caption>A autoReg: 2 × 8</caption>\n",
       "<thead>\n",
       "\t<tr><th></th><th scope=col> </th><th scope=col>coef</th><th scope=col>se(coef)</th><th scope=col>z</th><th scope=col>Pr(&gt;|z|)</th><th scope=col>HR</th><th scope=col>lower</th><th scope=col>upper</th></tr>\n",
       "\t<tr><th></th><th scope=col>&lt;chr&gt;</th><th scope=col>&lt;chr&gt;</th><th scope=col>&lt;chr&gt;</th><th scope=col>&lt;chr&gt;</th><th scope=col>&lt;chr&gt;</th><th scope=col>&lt;chr&gt;</th><th scope=col>&lt;chr&gt;</th><th scope=col>&lt;chr&gt;</th></tr>\n",
       "</thead>\n",
       "<tbody>\n",
       "\t<tr><th scope=row>rx</th><td>rx    </td><td>1.386</td><td>0.425</td><td>3.263</td><td>.001 </td><td>3.999</td><td>1.739</td><td>9.195 </td></tr>\n",
       "\t<tr><th scope=row>logWBC</th><td>logWBC</td><td>1.691</td><td>0.336</td><td>5.034</td><td>&lt;.001</td><td>5.424</td><td>2.808</td><td>10.478</td></tr>\n",
       "</tbody>\n",
       "</table>\n"
      ],
      "text/latex": [
       "A autoReg: 2 × 8\n",
       "\\begin{tabular}{r|llllllll}\n",
       "  &   & coef & se(coef) & z & Pr(>\\textbar{}z\\textbar{}) & HR & lower & upper\\\\\n",
       "  & <chr> & <chr> & <chr> & <chr> & <chr> & <chr> & <chr> & <chr>\\\\\n",
       "\\hline\n",
       "\trx & rx     & 1.386 & 0.425 & 3.263 & .001  & 3.999 & 1.739 & 9.195 \\\\\n",
       "\tlogWBC & logWBC & 1.691 & 0.336 & 5.034 & <.001 & 5.424 & 2.808 & 10.478\\\\\n",
       "\\end{tabular}\n"
      ],
      "text/markdown": [
       "\n",
       "A autoReg: 2 × 8\n",
       "\n",
       "| <!--/--> | <!----> &lt;chr&gt; | coef &lt;chr&gt; | se(coef) &lt;chr&gt; | z &lt;chr&gt; | Pr(&gt;|z|) &lt;chr&gt; | HR &lt;chr&gt; | lower &lt;chr&gt; | upper &lt;chr&gt; |\n",
       "|---|---|---|---|---|---|---|---|---|\n",
       "| rx | rx     | 1.386 | 0.425 | 3.263 | .001  | 3.999 | 1.739 | 9.195  |\n",
       "| logWBC | logWBC | 1.691 | 0.336 | 5.034 | &lt;.001 | 5.424 | 2.808 | 10.478 |\n",
       "\n"
      ],
      "text/plain": [
       "              coef  se(coef) z     Pr(>|z|) HR    lower upper \n",
       "rx     rx     1.386 0.425    3.263 .001     3.999 1.739 9.195 \n",
       "logWBC logWBC 1.691 0.336    5.034 <.001    5.424 2.808 10.478"
      ]
     },
     "metadata": {},
     "output_type": "display_data"
    }
   ],
   "source": [
    "gaze(fit2)"
   ]
  },
  {
   "cell_type": "markdown",
   "id": "21d1f7e0",
   "metadata": {},
   "source": [
    "# \n",
    "# \n",
    "### 4-6 콕스PH모형을 이용한 보정된 생존곡선\n",
    "- logWBC = 2.8로 보정된 생존곡선"
   ]
  },
  {
   "cell_type": "code",
   "execution_count": 75,
   "id": "545f86fc",
   "metadata": {},
   "outputs": [
    {
     "data": {
      "image/png": "[encoded data removed]",
      "text/plain": [
       "plot without title"
      ]
     },
     "metadata": {
      "image/png": {
       "height": 420,
       "width": 420
      }
     },
     "output_type": "display_data"
    }
   ],
   "source": [
    "fit = coxph(Surv(time, status) ~ rx + logWBC, data = anderson)\n",
    "adjustedPlot(fit, data = anderson, xnames = \"rx\")"
   ]
  },
  {
   "cell_type": "markdown",
   "id": "3e5ee383",
   "metadata": {},
   "source": [
    "# \n",
    "- 설명변수가 여러 개 있는 경우"
   ]
  },
  {
   "cell_type": "code",
   "execution_count": 76,
   "id": "9b6399d5",
   "metadata": {},
   "outputs": [
    {
     "data": {
      "image/png": "[encoded data removed]",
      "text/plain": [
       "plot without title"
      ]
     },
     "metadata": {
      "image/png": {
       "height": 420,
       "width": 420
      }
     },
     "output_type": "display_data"
    }
   ],
   "source": [
    "data(cancer, package = \"survival\")\n",
    "fit = coxph(Surv(time, status) ~ rx + strata(sex) + age + differ, data = colon)\n",
    "adjustedPlot(fit, xnames = c(\"sex\", \"rx\"))"
   ]
  },
  {
   "cell_type": "code",
   "execution_count": 80,
   "id": "7b3b7034",
   "metadata": {},
   "outputs": [
    {
     "data": {
      "image/png": "[encoded data removed]",
      "text/plain": [
       "plot without title"
      ]
     },
     "metadata": {
      "image/png": {
       "height": 420,
       "width": 420
      }
     },
     "output_type": "display_data"
    }
   ],
   "source": [
    "adjustedPlot(fit, xnames = c(\"rx\", \"sex\", \"differ\"), facet = c(\"sex\", \"rx\"))"
   ]
  },
  {
   "cell_type": "markdown",
   "id": "b6fda745",
   "metadata": {},
   "source": [
    "# \n",
    "# \n",
    "### 4-7 콕스가능도\n",
    "- 가능도함수는 결과변수의 분포에 의존하지만, 콕스모형은 결과변수인 **'실패할 때 까지의 시간(time to event)'**에 대해 가정하지 않음\n",
    "- **따라서, 다른 모수모형처럼 완전한 가능도함수는 만들어지지 않으며, 이벤트의 분포가 아닌 관찰된 순서에 의존하여 콕스가능도(Cox likelihood)가 만들어짐 (부분가능도)**"
   ]
  },
  {
   "cell_type": "markdown",
   "id": "1324df1d",
   "metadata": {},
   "source": [
    "|id|time|status|smoke|\n",
    "|-|-|-|-|\n",
    "|A|2|1|1|\n",
    "|B|3|1|0|\n",
    "|C|5|0|0|\n",
    "|D|8|1|1|\n",
    "\n",
    "- A는 t = 2에 사건발생\n",
    "- B는 t = 3에 발생\n",
    "- C는 t = 5에 중도절단\n",
    "- D는 t = 8에 발생"
   ]
  },
  {
   "cell_type": "markdown",
   "id": "21e77b9e",
   "metadata": {},
   "source": [
    "#### $h(t) = h_0(t)e^{\\beta_1\\;Smoke}$\n",
    "# \n",
    "\n",
    "| id|Hazard|\n",
    "|-|-|\n",
    "| A | $h_0(t)$ $e^{(\\beta_1)}$ |\n",
    "| B | $h_0(t)$ $e^{(0)}$ |\n",
    "| C | $h_0(t)$ $e^{(0)}$ |\n",
    "| D | $h_0(t)$ $e^{(\\beta_1)}$ |\n",
    "\n",
    "- 각자의 위험도가 콕스가능도에 영향 -> $Smoke$가 1인 경우 이벤트 발생확률에 영향을 미침"
   ]
  },
  {
   "cell_type": "markdown",
   "id": "dbd07eec",
   "metadata": {},
   "source": [
    "#### $L_1 = {{h_0(t)\\;e^{\\beta_1}}\\over{h_0(t)\\;e^{\\beta_1}\\;+\\;h_0\\;(t)e^{0}\\;+\\;h_0\\;(t)e^{0}\\;+\\;h_0\\;(t)e^{\\beta_1}}}$\n",
    "#### $L_2 = {{h_0(t)\\;e^{0}}\\over{h_0(t)\\;e^{0}\\;+\\;h_0\\;(t)e^{0}\\;+\\;h_0\\;(t)e^{\\beta_1}}}$\n",
    "#### $L_3 = {{h_0(t)\\;e^{\\beta_1}}\\over{h_0(t)\\;e^{\\beta_1}}}$\n",
    "#### $L = L_1 \\times L_2 \\times L_3$\n",
    "- **콕스가능도는 기저위험함수가 각 식에서 약분되어 사라짐** => 기저위험함수를 구체화할 필요가 없음\n",
    "- **콕스가능도는 이벤트의 발생순서와 중도절단의 발생순서에 의해 결정되며 분포에 의존X**\n",
    "\n",
    "# \n",
    "\n",
    "#### 데이터 $k$개의 실패시간이 있을 때, $f$번째 실패시간의 가능도를  $L_f$라고 한다면, 콕스가능도는 $k$개 항의 곱으로 표현\n",
    "#### $L = L_1 \\;\\times\\; L_2\\;\\times\\; ... L_k = \\Pi^k_{f=1}L_f$\n",
    "#### 콕스가능도 $L$을 최대화하는 회귀계수의 값을 추정 :\n",
    "- **콕스가능도의 자연로그를 편미분한 식을 0으로 만드는 해 (스코어함수와 정보행렬을 이용)**\n",
    "    - **${{\\delta ln L}\\over {\\delta \\beta_i}} = 0,\\;\\;\\;(i=1, 2, 3, ...p)\\;\\;\\;(p\\;=\\;number\\;of\\;parameter)$**"
   ]
  },
  {
   "cell_type": "markdown",
   "id": "8770b2f2",
   "metadata": {},
   "source": [
    "# \n",
    "#### 콕스가능도, 로그콕스가능도, 스코어함수\n",
    "#### 콕스가능도 : $L(\\beta) = [{{e^\\beta}\\over{2e^\\beta + 2}}]\\times[{1\\over{e^\\beta + 2}}]\\;\\times\\;1={{e^\\beta \\over {(2e^\\beta + 2)\\;\\times\\;(e^\\beta + 2)}}}$\n",
    "\n",
    "# \n",
    "\n",
    "#### 로그콕스가능도 : $l(\\beta)=log({{e^\\beta}\\over{(2e^\\beta + 2)\\;\\times\\;(e^\\beta + 2)}})=log(e^\\beta)-log(2e^\\beta+2)-log(e^\\beta+2)$"
   ]
  },
  {
   "cell_type": "code",
   "execution_count": 82,
   "id": "4bb4e899",
   "metadata": {},
   "outputs": [
    {
     "data": {
      "image/png": "[encoded data removed]",
      "text/plain": [
       "plot without title"
      ]
     },
     "metadata": {
      "image/png": {
       "height": 420,
       "width": 420
      }
     },
     "output_type": "display_data"
    }
   ],
   "source": [
    "p1 <- function(beta) {\n",
    "    psi <- exp(beta)\n",
    "    result <- log(psi) - log(2*psi+2)-log(psi+2)\n",
    "    return(result)\n",
    "}\n",
    "\n",
    "beta = seq(-2, 2, length.out = 100)\n",
    "plot(p1(beta) ~ beta, type = \"l\", xlab = \"beta\", ylab = \"log partial likelihood\",\n",
    "     cex.axis = 1.5, cex.lab = 1.5, lwd = 2, col = \"black\")"
   ]
  },
  {
   "cell_type": "markdown",
   "id": "1e9b1971",
   "metadata": {},
   "source": [
    "# \n",
    "#### 스코어함수 : 로그가능도함수의 도함수\n",
    "#### $U(\\beta)=l'(\\beta)=(log(e^\\beta)-log(2e^\\beta+2)-log(e^\\beta+2))'$ = ${{e^\\beta}\\over{e^\\beta}}-{{2e^\\beta}\\over{2e^\\beta + 2}}-{{e^\\beta}\\over{e^\\beta+2}}$ = $1-{{2e^\\beta}\\over{2e^\\beta +2}}-{{e^\\beta}\\over{e^\\beta+2}}$"
   ]
  },
  {
   "cell_type": "code",
   "execution_count": 83,
   "id": "8e1a028c",
   "metadata": {},
   "outputs": [
    {
     "data": {
      "image/png": "[encoded data removed]",
      "text/plain": [
       "plot without title"
      ]
     },
     "metadata": {
      "image/png": {
       "height": 420,
       "width": 420
      }
     },
     "output_type": "display_data"
    }
   ],
   "source": [
    "scoref = function(beta) {\n",
    "    psi <- exp(beta)\n",
    "    result = 1 - 2 * psi / (2 * psi + 2) - (psi / (psi + 2))\n",
    "    return(result)\n",
    "}\n",
    "\n",
    "plot(scoref(beta) ~ beta, type = \"l\", xlab = \"beta\", ylab = \"score function\",\n",
    "     cex.axis = 1.5, cex.lab = 1.5, lwd = 2, col = \"black\")"
   ]
  },
  {
   "cell_type": "markdown",
   "id": "41d9ab0b",
   "metadata": {},
   "source": [
    "# \n",
    "#### 로그가능도함수의 값이 최대가 되는 $\\beta$의 값이 회귀계수의 추정치 [최대 부분가능도 추정량  (Maximum partial likelihood estimate, MPLE)]\n",
    "#### ```optim()``` : MPLE 계산 함수"
   ]
  },
  {
   "cell_type": "code",
   "execution_count": 85,
   "id": "558458a7",
   "metadata": {},
   "outputs": [
    {
     "data": {
      "text/html": [
       "0.346573590283255"
      ],
      "text/latex": [
       "0.346573590283255"
      ],
      "text/markdown": [
       "0.346573590283255"
      ],
      "text/plain": [
       "[1] 0.3465736"
      ]
     },
     "metadata": {},
     "output_type": "display_data"
    }
   ],
   "source": [
    "result = optim(par = 0, fn = p1, method = \"L-BFGS-B\",\n",
    "               control = list(fnscale = -1), lower = -3, upper = 1)\n",
    "result$par"
   ]
  },
  {
   "cell_type": "markdown",
   "id": "53485ee6",
   "metadata": {},
   "source": [
    "- **스코어함수의 값이 0이되는 $\\beta$의 값과 동일**\n",
    "    - = 콕스모형에서 회귀계수의 추정치\n",
    "\n",
    "#### ```uniroot()```"
   ]
  },
  {
   "cell_type": "code",
   "execution_count": 87,
   "id": "0da31431",
   "metadata": {},
   "outputs": [
    {
     "data": {
      "text/html": [
       "0.346573590279973"
      ],
      "text/latex": [
       "0.346573590279973"
      ],
      "text/markdown": [
       "0.346573590279973"
      ],
      "text/plain": [
       "[1] 0.3465736"
      ]
     },
     "metadata": {},
     "output_type": "display_data"
    }
   ],
   "source": [
    "result1 <- uniroot(f = scoref, interval = c(-5, 5), tol = .Machine$double.eps)\n",
    "result1$root"
   ]
  },
  {
   "cell_type": "markdown",
   "id": "df8f7841",
   "metadata": {},
   "source": [
    "# \n",
    "- 귀무가설인 $\\beta = 0$에 해당하는 로그부분가능도함수 값"
   ]
  },
  {
   "cell_type": "code",
   "execution_count": 92,
   "id": "36b2804e",
   "metadata": {},
   "outputs": [
    {
     "data": {
      "text/html": [
       "-2.484906649788"
      ],
      "text/latex": [
       "-2.484906649788"
      ],
      "text/markdown": [
       "-2.484906649788"
      ],
      "text/plain": [
       "[1] -2.484907"
      ]
     },
     "metadata": {},
     "output_type": "display_data"
    }
   ],
   "source": [
    "p1(0)"
   ]
  },
  {
   "cell_type": "markdown",
   "id": "ac5c7923",
   "metadata": {},
   "source": [
    "- (0, -2.4845)에서 로그부분가능도함수 곡선의 기울기는 스코어함수의 값 (기울기는 도함수니까 당연한 거 아님?)\n",
    "- **이 값은 로그순위검정의 U통계량과 동일**-\n",
    "\n",
    "#### 즉, 로그순위검정에서의 관찰값-기대값의 합계와 동일 "
   ]
  },
  {
   "cell_type": "code",
   "execution_count": 93,
   "id": "b6042ad8",
   "metadata": {},
   "outputs": [
    {
     "data": {
      "text/html": [
       "0.166666666666667"
      ],
      "text/latex": [
       "0.166666666666667"
      ],
      "text/markdown": [
       "0.166666666666667"
      ],
      "text/plain": [
       "[1] 0.1666667"
      ]
     },
     "metadata": {},
     "output_type": "display_data"
    }
   ],
   "source": [
    "scoref(0)"
   ]
  },
  {
   "cell_type": "markdown",
   "id": "0ee9f567",
   "metadata": {},
   "source": [
    "# \n",
    "# \n",
    "#### 4-8 여러 개의 공변량이 있을 때 콕스부분가능도 (다항콕스모형)\n",
    "($i번째\\;\\;공변량\\;\\;z_i의\\;\\;회귀계수를\\;\\;\\beta라고\\;\\;할\\;\\;때$, $\\psi = e^{z_i \\beta}$)\n",
    "- **부분가능도는 각 실패시간 (1부터 j)의 가능도의 곱으로 계싼되며, j번째 실패시간 $t_j$의 가능도는 위험대상 $R_j$의 모든 위험을 분모로하고, 위험대상 $R_j$중 실패를 경험한 대상의 위험이 된다**\n",
    "\n",
    "#### 콕스부분가능도 $L(\\beta) = \\Pi^D_{j=1} {{h_0(t_j)\\;\\psi_j}\\over{\\sum_{k \\in R_j}}\\;h_0(t_j)\\;\\psi_k}=\\Pi^D_{j=1}{{\\psi_j}\\over{\\sum_{k \\in R_j \\psi_k}}}$\n",
    "#### ($D\\;\\;=\\;\\;위험대상\\;\\;중\\;\\;사망한\\;\\;수$)\n",
    "\n",
    "# \n",
    "#### 로그콕스부분가능도 $l(\\beta) = \\sum^D_{j=1}[log(\\psi_j) - log(\\sum_{k \\in R_j}\\psi_k)]=\\sum^D_{j=1}z_j\\beta - \\sum^D_{j=1} log (\\sum_{k\\in R_j}e^{z_k\\beta})$\n",
    "#### $(log(\\psi_j) = z_j \\beta), \\;\\;\\; z_{ij} = {{\\delta log(\\psi_j)}\\over{\\delta \\beta_l}}$\n",
    "\n",
    "# \n",
    "#### 스코어함수 : $S_l(\\beta) = {{\\delta l(\\beta)}\\over{\\delta \\beta_l}} = \\sum^D_{j=1}[z_{jl}{{\\sum_{k \\in R_j} z_{jk}\\;e^{z_j \\beta}}\\over{\\sum_{k\\in R_j}\\;e^{z_j \\beta}}}]$"
   ]
  },
  {
   "cell_type": "markdown",
   "id": "97a5cdd8",
   "metadata": {},
   "source": [
    "# \n",
    "#### k개의 공변량들의 모든 가능한 조합을 갖는 로그부분가능도를 2번 미분하면 정보행렬 (information matrix)를 얻을 수 있다 (= 헤시안 행렬 (Hessian matrix))\n",
    "#### $I(\\beta; z)=-{{\\delta^2 l(\\beta)}\\over{\\delta \\beta\\;\\delta \\beta'}} = -{{\\delta S(\\beta)}\\over{\\delta \\beta}}$"
   ]
  },
  {
   "cell_type": "markdown",
   "id": "89710ea1",
   "metadata": {},
   "source": [
    "# \n",
    "#### 귀무가설 $H_0:\\beta = 0$에 대한 Wald 통계량 ($X^2_w$), 스코어통계량 ($X^2_s$), 로그가능도검정통계량 ($X^2_l$)\\\n",
    "- 3개의 통계량 모두, 자유도가 p (설명변수 개수)인 $\\chi^2$를 따름\n",
    "    \n",
    "#### $X^2_w = \\hat{\\beta '}I(\\hat{\\beta};z){\\hat{\\beta}}$\n",
    "#### $X^2_s = S'(\\beta = 0; z)\\;\\times\\;I^{-1}(\\beta = 0; z)\\;\\times\\;S(\\beta; z)$\n",
    "#### $X^2_l = 2\\{l(\\beta = \\hat{\\beta})-l(\\beta = 0) \\}$"
   ]
  },
  {
   "cell_type": "code",
   "execution_count": 98,
   "id": "7ab9ee0d",
   "metadata": {},
   "outputs": [
    {
     "data": {
      "text/plain": [
       "Call:\n",
       "coxph(formula = Surv(time, status) ~ rx + logWBC, data = anderson)\n",
       "\n",
       "  n= 42, number of events= 30 \n",
       "\n",
       "         coef exp(coef) se(coef)     z Pr(>|z|)    \n",
       "rx     1.3861    3.9991   0.4248 3.263   0.0011 ** \n",
       "logWBC 1.6909    5.4243   0.3359 5.034  4.8e-07 ***\n",
       "---\n",
       "Signif. codes:  0 '***' 0.001 '**' 0.01 '*' 0.05 '.' 0.1 ' ' 1\n",
       "\n",
       "       exp(coef) exp(-coef) lower .95 upper .95\n",
       "rx         3.999     0.2501     1.739     9.195\n",
       "logWBC     5.424     0.1844     2.808    10.478\n",
       "\n",
       "Concordance= 0.852  (se = 0.04 )\n",
       "Likelihood ratio test= 46.71  on 2 df,   p=7e-11\n",
       "Wald test            = 33.6  on 2 df,   p=5e-08\n",
       "Score (logrank) test = 46.07  on 2 df,   p=1e-10\n"
      ]
     },
     "metadata": {},
     "output_type": "display_data"
    }
   ],
   "source": [
    "coxph(Surv(time, status) ~ rx + logWBC, anderson) %>% summary"
   ]
  }
 ],
 "metadata": {
  "kernelspec": {
   "display_name": "R",
   "language": "R",
   "name": "ir"
  },
  "language_info": {
   "codemirror_mode": "r",
   "file_extension": ".r",
   "mimetype": "text/x-r-source",
   "name": "R",
   "pygments_lexer": "r",
   "version": "4.2.2"
  }
 },
 "nbformat": 4,
 "nbformat_minor": 5
}
