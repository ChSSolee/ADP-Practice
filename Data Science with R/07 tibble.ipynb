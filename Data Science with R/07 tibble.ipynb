{
 "cells": [
  {
   "cell_type": "code",
   "execution_count": 1,
   "id": "4709e573",
   "metadata": {},
   "outputs": [
    {
     "name": "stderr",
     "output_type": "stream",
     "text": [
      "-- \u001b[1mAttaching packages\u001b[22m ------------------------------------------------------------------------------- tidyverse 1.3.1 --\n",
      "\n",
      "\u001b[32mv\u001b[39m \u001b[34mggplot2\u001b[39m 3.3.5     \u001b[32mv\u001b[39m \u001b[34mpurrr  \u001b[39m 0.3.4\n",
      "\u001b[32mv\u001b[39m \u001b[34mtibble \u001b[39m 3.1.6     \u001b[32mv\u001b[39m \u001b[34mdplyr  \u001b[39m 1.0.8\n",
      "\u001b[32mv\u001b[39m \u001b[34mtidyr  \u001b[39m 1.2.0     \u001b[32mv\u001b[39m \u001b[34mstringr\u001b[39m 1.4.0\n",
      "\u001b[32mv\u001b[39m \u001b[34mreadr  \u001b[39m 2.1.2     \u001b[32mv\u001b[39m \u001b[34mforcats\u001b[39m 0.5.1\n",
      "\n",
      "-- \u001b[1mConflicts\u001b[22m ---------------------------------------------------------------------------------- tidyverse_conflicts() --\n",
      "\u001b[31mx\u001b[39m \u001b[34mdplyr\u001b[39m::\u001b[32mfilter()\u001b[39m masks \u001b[34mstats\u001b[39m::filter()\n",
      "\u001b[31mx\u001b[39m \u001b[34mdplyr\u001b[39m::\u001b[32mlag()\u001b[39m    masks \u001b[34mstats\u001b[39m::lag()\n",
      "\n"
     ]
    }
   ],
   "source": [
    "library(tidyverse)"
   ]
  },
  {
   "cell_type": "code",
   "execution_count": 3,
   "id": "f94b1d9a",
   "metadata": {},
   "outputs": [
    {
     "data": {
      "text/html": [
       "<table class=\"dataframe\">\n",
       "<caption>A tibble: 6 × 5</caption>\n",
       "<thead>\n",
       "\t<tr><th scope=col>Sepal.Length</th><th scope=col>Sepal.Width</th><th scope=col>Petal.Length</th><th scope=col>Petal.Width</th><th scope=col>Species</th></tr>\n",
       "\t<tr><th scope=col>&lt;dbl&gt;</th><th scope=col>&lt;dbl&gt;</th><th scope=col>&lt;dbl&gt;</th><th scope=col>&lt;dbl&gt;</th><th scope=col>&lt;fct&gt;</th></tr>\n",
       "</thead>\n",
       "<tbody>\n",
       "\t<tr><td>5.1</td><td>3.5</td><td>1.4</td><td>0.2</td><td>setosa</td></tr>\n",
       "\t<tr><td>4.9</td><td>3.0</td><td>1.4</td><td>0.2</td><td>setosa</td></tr>\n",
       "\t<tr><td>4.7</td><td>3.2</td><td>1.3</td><td>0.2</td><td>setosa</td></tr>\n",
       "\t<tr><td>4.6</td><td>3.1</td><td>1.5</td><td>0.2</td><td>setosa</td></tr>\n",
       "\t<tr><td>5.0</td><td>3.6</td><td>1.4</td><td>0.2</td><td>setosa</td></tr>\n",
       "\t<tr><td>5.4</td><td>3.9</td><td>1.7</td><td>0.4</td><td>setosa</td></tr>\n",
       "</tbody>\n",
       "</table>\n"
      ],
      "text/latex": [
       "A tibble: 6 × 5\n",
       "\\begin{tabular}{lllll}\n",
       " Sepal.Length & Sepal.Width & Petal.Length & Petal.Width & Species\\\\\n",
       " <dbl> & <dbl> & <dbl> & <dbl> & <fct>\\\\\n",
       "\\hline\n",
       "\t 5.1 & 3.5 & 1.4 & 0.2 & setosa\\\\\n",
       "\t 4.9 & 3.0 & 1.4 & 0.2 & setosa\\\\\n",
       "\t 4.7 & 3.2 & 1.3 & 0.2 & setosa\\\\\n",
       "\t 4.6 & 3.1 & 1.5 & 0.2 & setosa\\\\\n",
       "\t 5.0 & 3.6 & 1.4 & 0.2 & setosa\\\\\n",
       "\t 5.4 & 3.9 & 1.7 & 0.4 & setosa\\\\\n",
       "\\end{tabular}\n"
      ],
      "text/markdown": [
       "\n",
       "A tibble: 6 × 5\n",
       "\n",
       "| Sepal.Length &lt;dbl&gt; | Sepal.Width &lt;dbl&gt; | Petal.Length &lt;dbl&gt; | Petal.Width &lt;dbl&gt; | Species &lt;fct&gt; |\n",
       "|---|---|---|---|---|\n",
       "| 5.1 | 3.5 | 1.4 | 0.2 | setosa |\n",
       "| 4.9 | 3.0 | 1.4 | 0.2 | setosa |\n",
       "| 4.7 | 3.2 | 1.3 | 0.2 | setosa |\n",
       "| 4.6 | 3.1 | 1.5 | 0.2 | setosa |\n",
       "| 5.0 | 3.6 | 1.4 | 0.2 | setosa |\n",
       "| 5.4 | 3.9 | 1.7 | 0.4 | setosa |\n",
       "\n"
      ],
      "text/plain": [
       "  Sepal.Length Sepal.Width Petal.Length Petal.Width Species\n",
       "1 5.1          3.5         1.4          0.2         setosa \n",
       "2 4.9          3.0         1.4          0.2         setosa \n",
       "3 4.7          3.2         1.3          0.2         setosa \n",
       "4 4.6          3.1         1.5          0.2         setosa \n",
       "5 5.0          3.6         1.4          0.2         setosa \n",
       "6 5.4          3.9         1.7          0.4         setosa "
      ]
     },
     "metadata": {},
     "output_type": "display_data"
    }
   ],
   "source": [
    "as_tibble(iris) %>% head()"
   ]
  },
  {
   "cell_type": "code",
   "execution_count": 4,
   "id": "9dda77ee",
   "metadata": {},
   "outputs": [
    {
     "data": {
      "text/html": [
       "<table class=\"dataframe\">\n",
       "<caption>A tibble: 5 × 3</caption>\n",
       "<thead>\n",
       "\t<tr><th scope=col>x</th><th scope=col>y</th><th scope=col>z</th></tr>\n",
       "\t<tr><th scope=col>&lt;int&gt;</th><th scope=col>&lt;dbl&gt;</th><th scope=col>&lt;dbl&gt;</th></tr>\n",
       "</thead>\n",
       "<tbody>\n",
       "\t<tr><td>1</td><td>1</td><td> 2</td></tr>\n",
       "\t<tr><td>2</td><td>1</td><td> 5</td></tr>\n",
       "\t<tr><td>3</td><td>1</td><td>10</td></tr>\n",
       "\t<tr><td>4</td><td>1</td><td>17</td></tr>\n",
       "\t<tr><td>5</td><td>1</td><td>26</td></tr>\n",
       "</tbody>\n",
       "</table>\n"
      ],
      "text/latex": [
       "A tibble: 5 × 3\n",
       "\\begin{tabular}{lll}\n",
       " x & y & z\\\\\n",
       " <int> & <dbl> & <dbl>\\\\\n",
       "\\hline\n",
       "\t 1 & 1 &  2\\\\\n",
       "\t 2 & 1 &  5\\\\\n",
       "\t 3 & 1 & 10\\\\\n",
       "\t 4 & 1 & 17\\\\\n",
       "\t 5 & 1 & 26\\\\\n",
       "\\end{tabular}\n"
      ],
      "text/markdown": [
       "\n",
       "A tibble: 5 × 3\n",
       "\n",
       "| x &lt;int&gt; | y &lt;dbl&gt; | z &lt;dbl&gt; |\n",
       "|---|---|---|\n",
       "| 1 | 1 |  2 |\n",
       "| 2 | 1 |  5 |\n",
       "| 3 | 1 | 10 |\n",
       "| 4 | 1 | 17 |\n",
       "| 5 | 1 | 26 |\n",
       "\n"
      ],
      "text/plain": [
       "  x y z \n",
       "1 1 1  2\n",
       "2 2 1  5\n",
       "3 3 1 10\n",
       "4 4 1 17\n",
       "5 5 1 26"
      ]
     },
     "metadata": {},
     "output_type": "display_data"
    }
   ],
   "source": [
    "tibble(\n",
    "x = 1:5,\n",
    "y = 1,\n",
    "z = x ^ 2 + y\n",
    ")"
   ]
  },
  {
   "cell_type": "code",
   "execution_count": 7,
   "id": "59227392",
   "metadata": {},
   "outputs": [
    {
     "name": "stdout",
     "output_type": "stream",
     "text": [
      "\u001b[90m# A tibble: 1 x 3\u001b[39m\n",
      "  `:)`   ` `      `2000`\n",
      "  \u001b[3m\u001b[90m<chr>\u001b[39m\u001b[23m  \u001b[3m\u001b[90m<chr>\u001b[39m\u001b[23m    \u001b[3m\u001b[90m<chr>\u001b[39m\u001b[23m \n",
      "\u001b[90m1\u001b[39m 스마일 스페이스 숫자  \n"
     ]
    }
   ],
   "source": [
    "tb <- tibble(\n",
    "':)' = '스마일',\n",
    "' ' = '스페이스',\n",
    "'2000' = '숫자') %>% print()"
   ]
  },
  {
   "cell_type": "code",
   "execution_count": 8,
   "id": "e7eabd4b",
   "metadata": {},
   "outputs": [
    {
     "data": {
      "text/html": [
       "<table class=\"dataframe\">\n",
       "<caption>A tibble: 2 × 3</caption>\n",
       "<thead>\n",
       "\t<tr><th scope=col>x</th><th scope=col>y</th><th scope=col>z</th></tr>\n",
       "\t<tr><th scope=col>&lt;chr&gt;</th><th scope=col>&lt;dbl&gt;</th><th scope=col>&lt;dbl&gt;</th></tr>\n",
       "</thead>\n",
       "<tbody>\n",
       "\t<tr><td>a</td><td>2</td><td>3.6</td></tr>\n",
       "\t<tr><td>b</td><td>1</td><td>8.5</td></tr>\n",
       "</tbody>\n",
       "</table>\n"
      ],
      "text/latex": [
       "A tibble: 2 × 3\n",
       "\\begin{tabular}{lll}\n",
       " x & y & z\\\\\n",
       " <chr> & <dbl> & <dbl>\\\\\n",
       "\\hline\n",
       "\t a & 2 & 3.6\\\\\n",
       "\t b & 1 & 8.5\\\\\n",
       "\\end{tabular}\n"
      ],
      "text/markdown": [
       "\n",
       "A tibble: 2 × 3\n",
       "\n",
       "| x &lt;chr&gt; | y &lt;dbl&gt; | z &lt;dbl&gt; |\n",
       "|---|---|---|\n",
       "| a | 2 | 3.6 |\n",
       "| b | 1 | 8.5 |\n",
       "\n"
      ],
      "text/plain": [
       "  x y z  \n",
       "1 a 2 3.6\n",
       "2 b 1 8.5"
      ]
     },
     "metadata": {},
     "output_type": "display_data"
    }
   ],
   "source": [
    "tribble(\n",
    "~x, ~y, ~z,\n",
    "#--|--|----\n",
    "\"a\", 2, 3.6,\n",
    "\"b\", 1, 8.5\n",
    ")"
   ]
  },
  {
   "cell_type": "markdown",
   "id": "d080629d",
   "metadata": {},
   "source": [
    "### 티블 vs 데이터프레임"
   ]
  },
  {
   "cell_type": "code",
   "execution_count": 10,
   "id": "2d26a075",
   "metadata": {},
   "outputs": [
    {
     "data": {
      "text/html": [
       "<table class=\"dataframe\">\n",
       "<caption>A tibble: 6 × 5</caption>\n",
       "<thead>\n",
       "\t<tr><th scope=col>a</th><th scope=col>b</th><th scope=col>c</th><th scope=col>d</th><th scope=col>e</th></tr>\n",
       "\t<tr><th scope=col>&lt;dttm&gt;</th><th scope=col>&lt;date&gt;</th><th scope=col>&lt;int&gt;</th><th scope=col>&lt;dbl&gt;</th><th scope=col>&lt;chr&gt;</th></tr>\n",
       "</thead>\n",
       "<tbody>\n",
       "\t<tr><td>2022-03-29 13:30:26</td><td>2022-04-27</td><td>1</td><td>0.5243632</td><td>n</td></tr>\n",
       "\t<tr><td>2022-03-29 08:37:58</td><td>2022-04-27</td><td>2</td><td>0.9836041</td><td>c</td></tr>\n",
       "\t<tr><td>2022-03-29 20:14:38</td><td>2022-04-27</td><td>3</td><td>0.3928933</td><td>h</td></tr>\n",
       "\t<tr><td>2022-03-29 04:18:24</td><td>2022-04-27</td><td>4</td><td>0.7547238</td><td>l</td></tr>\n",
       "\t<tr><td>2022-03-29 10:17:39</td><td>2022-04-27</td><td>5</td><td>0.4947541</td><td>x</td></tr>\n",
       "\t<tr><td>2022-03-29 18:31:25</td><td>2022-04-27</td><td>6</td><td>0.9212808</td><td>v</td></tr>\n",
       "</tbody>\n",
       "</table>\n"
      ],
      "text/latex": [
       "A tibble: 6 × 5\n",
       "\\begin{tabular}{lllll}\n",
       " a & b & c & d & e\\\\\n",
       " <dttm> & <date> & <int> & <dbl> & <chr>\\\\\n",
       "\\hline\n",
       "\t 2022-03-29 13:30:26 & 2022-04-27 & 1 & 0.5243632 & n\\\\\n",
       "\t 2022-03-29 08:37:58 & 2022-04-27 & 2 & 0.9836041 & c\\\\\n",
       "\t 2022-03-29 20:14:38 & 2022-04-27 & 3 & 0.3928933 & h\\\\\n",
       "\t 2022-03-29 04:18:24 & 2022-04-27 & 4 & 0.7547238 & l\\\\\n",
       "\t 2022-03-29 10:17:39 & 2022-04-27 & 5 & 0.4947541 & x\\\\\n",
       "\t 2022-03-29 18:31:25 & 2022-04-27 & 6 & 0.9212808 & v\\\\\n",
       "\\end{tabular}\n"
      ],
      "text/markdown": [
       "\n",
       "A tibble: 6 × 5\n",
       "\n",
       "| a &lt;dttm&gt; | b &lt;date&gt; | c &lt;int&gt; | d &lt;dbl&gt; | e &lt;chr&gt; |\n",
       "|---|---|---|---|---|\n",
       "| 2022-03-29 13:30:26 | 2022-04-27 | 1 | 0.5243632 | n |\n",
       "| 2022-03-29 08:37:58 | 2022-04-27 | 2 | 0.9836041 | c |\n",
       "| 2022-03-29 20:14:38 | 2022-04-27 | 3 | 0.3928933 | h |\n",
       "| 2022-03-29 04:18:24 | 2022-04-27 | 4 | 0.7547238 | l |\n",
       "| 2022-03-29 10:17:39 | 2022-04-27 | 5 | 0.4947541 | x |\n",
       "| 2022-03-29 18:31:25 | 2022-04-27 | 6 | 0.9212808 | v |\n",
       "\n"
      ],
      "text/plain": [
       "  a                   b          c d         e\n",
       "1 2022-03-29 13:30:26 2022-04-27 1 0.5243632 n\n",
       "2 2022-03-29 08:37:58 2022-04-27 2 0.9836041 c\n",
       "3 2022-03-29 20:14:38 2022-04-27 3 0.3928933 h\n",
       "4 2022-03-29 04:18:24 2022-04-27 4 0.7547238 l\n",
       "5 2022-03-29 10:17:39 2022-04-27 5 0.4947541 x\n",
       "6 2022-03-29 18:31:25 2022-04-27 6 0.9212808 v"
      ]
     },
     "metadata": {},
     "output_type": "display_data"
    }
   ],
   "source": [
    "tibble(\n",
    "a = lubridate::now() + runif(1e3) * 86400,\n",
    "b = lubridate::today() + runif(1e3) + 30,\n",
    "c = 1:1e3,\n",
    "d = runif(1e3),\n",
    "e = sample(letters, 1e3, replace = T)) %>% head()"
   ]
  },
  {
   "cell_type": "code",
   "execution_count": 12,
   "id": "1190555f",
   "metadata": {},
   "outputs": [
    {
     "name": "stdout",
     "output_type": "stream",
     "text": [
      "\u001b[90m# A tibble: 336,776 x 19\u001b[39m\n",
      "    year month   day dep_time sched_dep_time dep_delay arr_time sched_arr_time\n",
      "   \u001b[3m\u001b[90m<int>\u001b[39m\u001b[23m \u001b[3m\u001b[90m<int>\u001b[39m\u001b[23m \u001b[3m\u001b[90m<int>\u001b[39m\u001b[23m    \u001b[3m\u001b[90m<int>\u001b[39m\u001b[23m          \u001b[3m\u001b[90m<int>\u001b[39m\u001b[23m     \u001b[3m\u001b[90m<dbl>\u001b[39m\u001b[23m    \u001b[3m\u001b[90m<int>\u001b[39m\u001b[23m          \u001b[3m\u001b[90m<int>\u001b[39m\u001b[23m\n",
      "\u001b[90m 1\u001b[39m  \u001b[4m2\u001b[24m013     1     1      517            515         2      830            819\n",
      "\u001b[90m 2\u001b[39m  \u001b[4m2\u001b[24m013     1     1      533            529         4      850            830\n",
      "\u001b[90m 3\u001b[39m  \u001b[4m2\u001b[24m013     1     1      542            540         2      923            850\n",
      "\u001b[90m 4\u001b[39m  \u001b[4m2\u001b[24m013     1     1      544            545        -\u001b[31m1\u001b[39m     \u001b[4m1\u001b[24m004           \u001b[4m1\u001b[24m022\n",
      "\u001b[90m 5\u001b[39m  \u001b[4m2\u001b[24m013     1     1      554            600        -\u001b[31m6\u001b[39m      812            837\n",
      "\u001b[90m 6\u001b[39m  \u001b[4m2\u001b[24m013     1     1      554            558        -\u001b[31m4\u001b[39m      740            728\n",
      "\u001b[90m 7\u001b[39m  \u001b[4m2\u001b[24m013     1     1      555            600        -\u001b[31m5\u001b[39m      913            854\n",
      "\u001b[90m 8\u001b[39m  \u001b[4m2\u001b[24m013     1     1      557            600        -\u001b[31m3\u001b[39m      709            723\n",
      "\u001b[90m 9\u001b[39m  \u001b[4m2\u001b[24m013     1     1      557            600        -\u001b[31m3\u001b[39m      838            846\n",
      "\u001b[90m10\u001b[39m  \u001b[4m2\u001b[24m013     1     1      558            600        -\u001b[31m2\u001b[39m      753            745\n",
      "   arr_delay carrier flight tailnum origin dest  air_time distance  hour minute\n",
      "       \u001b[3m\u001b[90m<dbl>\u001b[39m\u001b[23m \u001b[3m\u001b[90m<chr>\u001b[39m\u001b[23m    \u001b[3m\u001b[90m<int>\u001b[39m\u001b[23m \u001b[3m\u001b[90m<chr>\u001b[39m\u001b[23m   \u001b[3m\u001b[90m<chr>\u001b[39m\u001b[23m  \u001b[3m\u001b[90m<chr>\u001b[39m\u001b[23m    \u001b[3m\u001b[90m<dbl>\u001b[39m\u001b[23m    \u001b[3m\u001b[90m<dbl>\u001b[39m\u001b[23m \u001b[3m\u001b[90m<dbl>\u001b[39m\u001b[23m  \u001b[3m\u001b[90m<dbl>\u001b[39m\u001b[23m\n",
      "\u001b[90m 1\u001b[39m        11 UA        \u001b[4m1\u001b[24m545 N14228  EWR    IAH        227     \u001b[4m1\u001b[24m400     5     15\n",
      "\u001b[90m 2\u001b[39m        20 UA        \u001b[4m1\u001b[24m714 N24211  LGA    IAH        227     \u001b[4m1\u001b[24m416     5     29\n",
      "\u001b[90m 3\u001b[39m        33 AA        \u001b[4m1\u001b[24m141 N619AA  JFK    MIA        160     \u001b[4m1\u001b[24m089     5     40\n",
      "\u001b[90m 4\u001b[39m       -\u001b[31m18\u001b[39m B6         725 N804JB  JFK    BQN        183     \u001b[4m1\u001b[24m576     5     45\n",
      "\u001b[90m 5\u001b[39m       -\u001b[31m25\u001b[39m DL         461 N668DN  LGA    ATL        116      762     6      0\n",
      "\u001b[90m 6\u001b[39m        12 UA        \u001b[4m1\u001b[24m696 N39463  EWR    ORD        150      719     5     58\n",
      "\u001b[90m 7\u001b[39m        19 B6         507 N516JB  EWR    FLL        158     \u001b[4m1\u001b[24m065     6      0\n",
      "\u001b[90m 8\u001b[39m       -\u001b[31m14\u001b[39m EV        \u001b[4m5\u001b[24m708 N829AS  LGA    IAD         53      229     6      0\n",
      "\u001b[90m 9\u001b[39m        -\u001b[31m8\u001b[39m B6          79 N593JB  JFK    MCO        140      944     6      0\n",
      "\u001b[90m10\u001b[39m         8 AA         301 N3ALAA  LGA    ORD        138      733     6      0\n",
      "   time_hour          \n",
      "   \u001b[3m\u001b[90m<dttm>\u001b[39m\u001b[23m             \n",
      "\u001b[90m 1\u001b[39m 2013-01-01 \u001b[90m05:00:00\u001b[39m\n",
      "\u001b[90m 2\u001b[39m 2013-01-01 \u001b[90m05:00:00\u001b[39m\n",
      "\u001b[90m 3\u001b[39m 2013-01-01 \u001b[90m05:00:00\u001b[39m\n",
      "\u001b[90m 4\u001b[39m 2013-01-01 \u001b[90m05:00:00\u001b[39m\n",
      "\u001b[90m 5\u001b[39m 2013-01-01 \u001b[90m06:00:00\u001b[39m\n",
      "\u001b[90m 6\u001b[39m 2013-01-01 \u001b[90m05:00:00\u001b[39m\n",
      "\u001b[90m 7\u001b[39m 2013-01-01 \u001b[90m06:00:00\u001b[39m\n",
      "\u001b[90m 8\u001b[39m 2013-01-01 \u001b[90m06:00:00\u001b[39m\n",
      "\u001b[90m 9\u001b[39m 2013-01-01 \u001b[90m06:00:00\u001b[39m\n",
      "\u001b[90m10\u001b[39m 2013-01-01 \u001b[90m06:00:00\u001b[39m\n",
      "\u001b[90m# ... with 336,766 more rows\u001b[39m\n"
     ]
    }
   ],
   "source": [
    "nycflights13::flights %>% \n",
    "print(n = 10, width = Inf) # 10개의 행과, 모든 열을 표시"
   ]
  },
  {
   "cell_type": "code",
   "execution_count": 19,
   "id": "72595ff0",
   "metadata": {},
   "outputs": [
    {
     "name": "stdout",
     "output_type": "stream",
     "text": [
      "\u001b[90m# A tibble: 5 x 2\u001b[39m\n",
      "      x      y\n",
      "  \u001b[3m\u001b[90m<dbl>\u001b[39m\u001b[23m  \u001b[3m\u001b[90m<dbl>\u001b[39m\u001b[23m\n",
      "\u001b[90m1\u001b[39m 0.491  0.115\n",
      "\u001b[90m2\u001b[39m 0.237  1.74 \n",
      "\u001b[90m3\u001b[39m 0.870  0.871\n",
      "\u001b[90m4\u001b[39m 0.711 -\u001b[31m0\u001b[39m\u001b[31m.\u001b[39m\u001b[31m963\u001b[39m\n",
      "\u001b[90m5\u001b[39m 0.698  1.32 \n"
     ]
    }
   ],
   "source": [
    "df = tibble(\n",
    "x = runif(5),\n",
    "y = rnorm(5)) %>% print()"
   ]
  },
  {
   "cell_type": "code",
   "execution_count": 23,
   "id": "9bbcce54",
   "metadata": {},
   "outputs": [
    {
     "data": {
      "text/html": [
       "<style>\n",
       ".list-inline {list-style: none; margin:0; padding: 0}\n",
       ".list-inline>li {display: inline-block}\n",
       ".list-inline>li:not(:last-child)::after {content: \"\\00b7\"; padding: 0 .5ex}\n",
       "</style>\n",
       "<ol class=list-inline><li>0.49148675519973</li><li>0.237083999440074</li><li>0.870195644907653</li><li>0.710654121823609</li><li>0.6984711678233</li></ol>\n"
      ],
      "text/latex": [
       "\\begin{enumerate*}\n",
       "\\item 0.49148675519973\n",
       "\\item 0.237083999440074\n",
       "\\item 0.870195644907653\n",
       "\\item 0.710654121823609\n",
       "\\item 0.6984711678233\n",
       "\\end{enumerate*}\n"
      ],
      "text/markdown": [
       "1. 0.49148675519973\n",
       "2. 0.237083999440074\n",
       "3. 0.870195644907653\n",
       "4. 0.710654121823609\n",
       "5. 0.6984711678233\n",
       "\n",
       "\n"
      ],
      "text/plain": [
       "[1] 0.4914868 0.2370840 0.8701956 0.7106541 0.6984712"
      ]
     },
     "metadata": {},
     "output_type": "display_data"
    },
    {
     "data": {
      "text/html": [
       "<table class=\"dataframe\">\n",
       "<caption>A tibble: 5 × 1</caption>\n",
       "<thead>\n",
       "\t<tr><th scope=col>x</th></tr>\n",
       "\t<tr><th scope=col>&lt;dbl&gt;</th></tr>\n",
       "</thead>\n",
       "<tbody>\n",
       "\t<tr><td>0.4914868</td></tr>\n",
       "\t<tr><td>0.2370840</td></tr>\n",
       "\t<tr><td>0.8701956</td></tr>\n",
       "\t<tr><td>0.7106541</td></tr>\n",
       "\t<tr><td>0.6984712</td></tr>\n",
       "</tbody>\n",
       "</table>\n"
      ],
      "text/latex": [
       "A tibble: 5 × 1\n",
       "\\begin{tabular}{l}\n",
       " x\\\\\n",
       " <dbl>\\\\\n",
       "\\hline\n",
       "\t 0.4914868\\\\\n",
       "\t 0.2370840\\\\\n",
       "\t 0.8701956\\\\\n",
       "\t 0.7106541\\\\\n",
       "\t 0.6984712\\\\\n",
       "\\end{tabular}\n"
      ],
      "text/markdown": [
       "\n",
       "A tibble: 5 × 1\n",
       "\n",
       "| x &lt;dbl&gt; |\n",
       "|---|\n",
       "| 0.4914868 |\n",
       "| 0.2370840 |\n",
       "| 0.8701956 |\n",
       "| 0.7106541 |\n",
       "| 0.6984712 |\n",
       "\n"
      ],
      "text/plain": [
       "  x        \n",
       "1 0.4914868\n",
       "2 0.2370840\n",
       "3 0.8701956\n",
       "4 0.7106541\n",
       "5 0.6984712"
      ]
     },
     "metadata": {},
     "output_type": "display_data"
    }
   ],
   "source": [
    "df$x ; df[,1]"
   ]
  },
  {
   "cell_type": "code",
   "execution_count": 24,
   "id": "266068d2",
   "metadata": {},
   "outputs": [
    {
     "data": {
      "text/html": [
       "<style>\n",
       ".list-inline {list-style: none; margin:0; padding: 0}\n",
       ".list-inline>li {display: inline-block}\n",
       ".list-inline>li:not(:last-child)::after {content: \"\\00b7\"; padding: 0 .5ex}\n",
       "</style>\n",
       "<ol class=list-inline><li>0.49148675519973</li><li>0.237083999440074</li><li>0.870195644907653</li><li>0.710654121823609</li><li>0.6984711678233</li></ol>\n"
      ],
      "text/latex": [
       "\\begin{enumerate*}\n",
       "\\item 0.49148675519973\n",
       "\\item 0.237083999440074\n",
       "\\item 0.870195644907653\n",
       "\\item 0.710654121823609\n",
       "\\item 0.6984711678233\n",
       "\\end{enumerate*}\n"
      ],
      "text/markdown": [
       "1. 0.49148675519973\n",
       "2. 0.237083999440074\n",
       "3. 0.870195644907653\n",
       "4. 0.710654121823609\n",
       "5. 0.6984711678233\n",
       "\n",
       "\n"
      ],
      "text/plain": [
       "[1] 0.4914868 0.2370840 0.8701956 0.7106541 0.6984712"
      ]
     },
     "metadata": {},
     "output_type": "display_data"
    }
   ],
   "source": [
    "df %>% .$x"
   ]
  },
  {
   "cell_type": "code",
   "execution_count": 32,
   "id": "f084e16d",
   "metadata": {},
   "outputs": [
    {
     "data": {
      "text/html": [
       "'data.frame'"
      ],
      "text/latex": [
       "'data.frame'"
      ],
      "text/markdown": [
       "'data.frame'"
      ],
      "text/plain": [
       "[1] \"data.frame\""
      ]
     },
     "metadata": {},
     "output_type": "display_data"
    },
    {
     "data": {
      "text/html": [
       "<style>\n",
       ".list-inline {list-style: none; margin:0; padding: 0}\n",
       ".list-inline>li {display: inline-block}\n",
       ".list-inline>li:not(:last-child)::after {content: \"\\00b7\"; padding: 0 .5ex}\n",
       "</style>\n",
       "<ol class=list-inline><li>'tbl_df'</li><li>'tbl'</li><li>'data.frame'</li></ol>\n"
      ],
      "text/latex": [
       "\\begin{enumerate*}\n",
       "\\item 'tbl\\_df'\n",
       "\\item 'tbl'\n",
       "\\item 'data.frame'\n",
       "\\end{enumerate*}\n"
      ],
      "text/markdown": [
       "1. 'tbl_df'\n",
       "2. 'tbl'\n",
       "3. 'data.frame'\n",
       "\n",
       "\n"
      ],
      "text/plain": [
       "[1] \"tbl_df\"     \"tbl\"        \"data.frame\""
      ]
     },
     "metadata": {},
     "output_type": "display_data"
    },
    {
     "data": {
      "text/html": [
       "FALSE"
      ],
      "text/latex": [
       "FALSE"
      ],
      "text/markdown": [
       "FALSE"
      ],
      "text/plain": [
       "[1] FALSE"
      ]
     },
     "metadata": {},
     "output_type": "display_data"
    }
   ],
   "source": [
    "# 7.4.1\n",
    "# 1\n",
    "class(mtcars); class(tibble(mtcars)); is_tibble(mtcars)"
   ]
  },
  {
   "cell_type": "code",
   "execution_count": 33,
   "id": "0397c513",
   "metadata": {},
   "outputs": [
    {
     "data": {
      "text/html": [
       "<table class=\"dataframe\">\n",
       "<caption>A data.frame: 1 × 2</caption>\n",
       "<thead>\n",
       "\t<tr><th scope=col>abc</th><th scope=col>xyz</th></tr>\n",
       "\t<tr><th scope=col>&lt;dbl&gt;</th><th scope=col>&lt;chr&gt;</th></tr>\n",
       "</thead>\n",
       "<tbody>\n",
       "\t<tr><td>1</td><td>a</td></tr>\n",
       "</tbody>\n",
       "</table>\n"
      ],
      "text/latex": [
       "A data.frame: 1 × 2\n",
       "\\begin{tabular}{ll}\n",
       " abc & xyz\\\\\n",
       " <dbl> & <chr>\\\\\n",
       "\\hline\n",
       "\t 1 & a\\\\\n",
       "\\end{tabular}\n"
      ],
      "text/markdown": [
       "\n",
       "A data.frame: 1 × 2\n",
       "\n",
       "| abc &lt;dbl&gt; | xyz &lt;chr&gt; |\n",
       "|---|---|\n",
       "| 1 | a |\n",
       "\n"
      ],
      "text/plain": [
       "  abc xyz\n",
       "1 1   a  "
      ]
     },
     "metadata": {},
     "output_type": "display_data"
    }
   ],
   "source": [
    "# 2\n",
    "df <- data.frame(abc = 1, xyz = \"a\")\n",
    "df"
   ]
  },
  {
   "cell_type": "code",
   "execution_count": 34,
   "id": "c0c5d42f",
   "metadata": {},
   "outputs": [
    {
     "data": {
      "text/html": [
       "'a'"
      ],
      "text/latex": [
       "'a'"
      ],
      "text/markdown": [
       "'a'"
      ],
      "text/plain": [
       "[1] \"a\""
      ]
     },
     "metadata": {},
     "output_type": "display_data"
    },
    {
     "data": {
      "text/html": [
       "'a'"
      ],
      "text/latex": [
       "'a'"
      ],
      "text/markdown": [
       "'a'"
      ],
      "text/plain": [
       "[1] \"a\""
      ]
     },
     "metadata": {},
     "output_type": "display_data"
    },
    {
     "data": {
      "text/html": [
       "<table class=\"dataframe\">\n",
       "<caption>A data.frame: 1 × 2</caption>\n",
       "<thead>\n",
       "\t<tr><th scope=col>abc</th><th scope=col>xyz</th></tr>\n",
       "\t<tr><th scope=col>&lt;dbl&gt;</th><th scope=col>&lt;chr&gt;</th></tr>\n",
       "</thead>\n",
       "<tbody>\n",
       "\t<tr><td>1</td><td>a</td></tr>\n",
       "</tbody>\n",
       "</table>\n"
      ],
      "text/latex": [
       "A data.frame: 1 × 2\n",
       "\\begin{tabular}{ll}\n",
       " abc & xyz\\\\\n",
       " <dbl> & <chr>\\\\\n",
       "\\hline\n",
       "\t 1 & a\\\\\n",
       "\\end{tabular}\n"
      ],
      "text/markdown": [
       "\n",
       "A data.frame: 1 × 2\n",
       "\n",
       "| abc &lt;dbl&gt; | xyz &lt;chr&gt; |\n",
       "|---|---|\n",
       "| 1 | a |\n",
       "\n"
      ],
      "text/plain": [
       "  abc xyz\n",
       "1 1   a  "
      ]
     },
     "metadata": {},
     "output_type": "display_data"
    }
   ],
   "source": [
    "df$x ; df[, 'xyz']; df[, c('abc', 'xyz')]"
   ]
  },
  {
   "cell_type": "code",
   "execution_count": 54,
   "id": "452c6e5b",
   "metadata": {},
   "outputs": [
    {
     "data": {
      "text/html": [
       "<style>\n",
       ".list-inline {list-style: none; margin:0; padding: 0}\n",
       ".list-inline>li {display: inline-block}\n",
       ".list-inline>li:not(:last-child)::after {content: \"\\00b7\"; padding: 0 .5ex}\n",
       "</style>\n",
       "<ol class=list-inline><li>1</li><li>2</li><li>3</li><li>4</li><li>5</li><li>6</li><li>7</li><li>8</li><li>9</li><li>10</li></ol>\n"
      ],
      "text/latex": [
       "\\begin{enumerate*}\n",
       "\\item 1\n",
       "\\item 2\n",
       "\\item 3\n",
       "\\item 4\n",
       "\\item 5\n",
       "\\item 6\n",
       "\\item 7\n",
       "\\item 8\n",
       "\\item 9\n",
       "\\item 10\n",
       "\\end{enumerate*}\n"
      ],
      "text/markdown": [
       "1. 1\n",
       "2. 2\n",
       "3. 3\n",
       "4. 4\n",
       "5. 5\n",
       "6. 6\n",
       "7. 7\n",
       "8. 8\n",
       "9. 9\n",
       "10. 10\n",
       "\n",
       "\n"
      ],
      "text/plain": [
       " [1]  1  2  3  4  5  6  7  8  9 10"
      ]
     },
     "metadata": {},
     "output_type": "display_data"
    },
    {
     "name": "stderr",
     "output_type": "stream",
     "text": [
      "Warning message:\n",
      "\"Use of `annoying$\"1\"` is discouraged. Use `1` instead.\"\n",
      "Warning message:\n",
      "\"Use of `annoying$\"2\"` is discouraged. Use `2` instead.\"\n"
     ]
    },
    {
     "data": {
      "text/html": [
       "<table class=\"dataframe\">\n",
       "<caption>A tibble: 10 × 3</caption>\n",
       "<thead>\n",
       "\t<tr><th scope=col>one</th><th scope=col>two</th><th scope=col>three</th></tr>\n",
       "\t<tr><th scope=col>&lt;int&gt;</th><th scope=col>&lt;dbl&gt;</th><th scope=col>&lt;dbl&gt;</th></tr>\n",
       "</thead>\n",
       "<tbody>\n",
       "\t<tr><td> 1</td><td> 2.175752</td><td>2.175752</td></tr>\n",
       "\t<tr><td> 2</td><td> 2.287333</td><td>1.143666</td></tr>\n",
       "\t<tr><td> 3</td><td> 3.920901</td><td>1.306967</td></tr>\n",
       "\t<tr><td> 4</td><td> 8.834920</td><td>2.208730</td></tr>\n",
       "\t<tr><td> 5</td><td>10.460144</td><td>2.092029</td></tr>\n",
       "\t<tr><td> 6</td><td>11.881979</td><td>1.980330</td></tr>\n",
       "\t<tr><td> 7</td><td>12.980504</td><td>1.854358</td></tr>\n",
       "\t<tr><td> 8</td><td>17.348886</td><td>2.168611</td></tr>\n",
       "\t<tr><td> 9</td><td>16.868044</td><td>1.874227</td></tr>\n",
       "\t<tr><td>10</td><td>19.370904</td><td>1.937090</td></tr>\n",
       "</tbody>\n",
       "</table>\n"
      ],
      "text/latex": [
       "A tibble: 10 × 3\n",
       "\\begin{tabular}{lll}\n",
       " one & two & three\\\\\n",
       " <int> & <dbl> & <dbl>\\\\\n",
       "\\hline\n",
       "\t  1 &  2.175752 & 2.175752\\\\\n",
       "\t  2 &  2.287333 & 1.143666\\\\\n",
       "\t  3 &  3.920901 & 1.306967\\\\\n",
       "\t  4 &  8.834920 & 2.208730\\\\\n",
       "\t  5 & 10.460144 & 2.092029\\\\\n",
       "\t  6 & 11.881979 & 1.980330\\\\\n",
       "\t  7 & 12.980504 & 1.854358\\\\\n",
       "\t  8 & 17.348886 & 2.168611\\\\\n",
       "\t  9 & 16.868044 & 1.874227\\\\\n",
       "\t 10 & 19.370904 & 1.937090\\\\\n",
       "\\end{tabular}\n"
      ],
      "text/markdown": [
       "\n",
       "A tibble: 10 × 3\n",
       "\n",
       "| one &lt;int&gt; | two &lt;dbl&gt; | three &lt;dbl&gt; |\n",
       "|---|---|---|\n",
       "|  1 |  2.175752 | 2.175752 |\n",
       "|  2 |  2.287333 | 1.143666 |\n",
       "|  3 |  3.920901 | 1.306967 |\n",
       "|  4 |  8.834920 | 2.208730 |\n",
       "|  5 | 10.460144 | 2.092029 |\n",
       "|  6 | 11.881979 | 1.980330 |\n",
       "|  7 | 12.980504 | 1.854358 |\n",
       "|  8 | 17.348886 | 2.168611 |\n",
       "|  9 | 16.868044 | 1.874227 |\n",
       "| 10 | 19.370904 | 1.937090 |\n",
       "\n"
      ],
      "text/plain": [
       "   one two       three   \n",
       "1   1   2.175752 2.175752\n",
       "2   2   2.287333 1.143666\n",
       "3   3   3.920901 1.306967\n",
       "4   4   8.834920 2.208730\n",
       "5   5  10.460144 2.092029\n",
       "6   6  11.881979 1.980330\n",
       "7   7  12.980504 1.854358\n",
       "8   8  17.348886 2.168611\n",
       "9   9  16.868044 1.874227\n",
       "10 10  19.370904 1.937090"
      ]
     },
     "metadata": {},
     "output_type": "display_data"
    },
    {
     "data": {
      "image/png": "[encoded data removed]",
      "text/plain": [
       "plot without title"
      ]
     },
     "metadata": {
      "image/png": {
       "height": 420,
       "width": 420
      }
     },
     "output_type": "display_data"
    }
   ],
   "source": [
    "# 3\n",
    "annoying <- tibble(\n",
    "  `1` = 1:10,\n",
    "  `2` = `1` * 2 + rnorm(length(`1`))\n",
    ")\n",
    "annoying$'1'\n",
    "ggplot(annoying) + geom_point(aes(annoying$'1', annoying$'2'))\n",
    "annoying <- annoying %>% mutate('3' = annoying$'2' / annoying$'1')\n",
    "colnames(annoying) = c('one', 'two', 'three') ; annoying"
   ]
  },
  {
   "cell_type": "markdown",
   "id": "f3c579d4",
   "metadata": {},
   "source": [
    "### tibble::enframe() : 명명된 벡터를 이름과 값이 있는 데이터 프레임으로 변환"
   ]
  },
  {
   "cell_type": "code",
   "execution_count": 55,
   "id": "dbade07b",
   "metadata": {
    "scrolled": true
   },
   "outputs": [
    {
     "data": {
      "text/html": [
       "<table class=\"dataframe\">\n",
       "<caption>A tibble: 3 × 2</caption>\n",
       "<thead>\n",
       "\t<tr><th scope=col>name</th><th scope=col>value</th></tr>\n",
       "\t<tr><th scope=col>&lt;chr&gt;</th><th scope=col>&lt;dbl&gt;</th></tr>\n",
       "</thead>\n",
       "<tbody>\n",
       "\t<tr><td>a</td><td>1</td></tr>\n",
       "\t<tr><td>b</td><td>2</td></tr>\n",
       "\t<tr><td>c</td><td>3</td></tr>\n",
       "</tbody>\n",
       "</table>\n"
      ],
      "text/latex": [
       "A tibble: 3 × 2\n",
       "\\begin{tabular}{ll}\n",
       " name & value\\\\\n",
       " <chr> & <dbl>\\\\\n",
       "\\hline\n",
       "\t a & 1\\\\\n",
       "\t b & 2\\\\\n",
       "\t c & 3\\\\\n",
       "\\end{tabular}\n"
      ],
      "text/markdown": [
       "\n",
       "A tibble: 3 × 2\n",
       "\n",
       "| name &lt;chr&gt; | value &lt;dbl&gt; |\n",
       "|---|---|\n",
       "| a | 1 |\n",
       "| b | 2 |\n",
       "| c | 3 |\n",
       "\n"
      ],
      "text/plain": [
       "  name value\n",
       "1 a    1    \n",
       "2 b    2    \n",
       "3 c    3    "
      ]
     },
     "metadata": {},
     "output_type": "display_data"
    }
   ],
   "source": [
    "# 5\n",
    "enframe(c(a = 1, b = 2, c = 3))\n"
   ]
  }
 ],
 "metadata": {
  "kernelspec": {
   "display_name": "R 4.1.3",
   "language": "R",
   "name": "ir32"
  },
  "language_info": {
   "codemirror_mode": "r",
   "file_extension": ".r",
   "mimetype": "text/x-r-source",
   "name": "R",
   "pygments_lexer": "r",
   "version": "4.1.3"
  }
 },
 "nbformat": 4,
 "nbformat_minor": 5
}
