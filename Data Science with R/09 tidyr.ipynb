{
 "cells": [
  {
   "cell_type": "code",
   "execution_count": 1,
   "id": "6752216c",
   "metadata": {},
   "outputs": [
    {
     "name": "stderr",
     "output_type": "stream",
     "text": [
      "-- \u001b[1mAttaching packages\u001b[22m ------------------------------------------------------------------------------- tidyverse 1.3.1 --\n",
      "\n",
      "\u001b[32mv\u001b[39m \u001b[34mggplot2\u001b[39m 3.3.5     \u001b[32mv\u001b[39m \u001b[34mpurrr  \u001b[39m 0.3.4\n",
      "\u001b[32mv\u001b[39m \u001b[34mtibble \u001b[39m 3.1.6     \u001b[32mv\u001b[39m \u001b[34mdplyr  \u001b[39m 1.0.8\n",
      "\u001b[32mv\u001b[39m \u001b[34mtidyr  \u001b[39m 1.2.0     \u001b[32mv\u001b[39m \u001b[34mstringr\u001b[39m 1.4.0\n",
      "\u001b[32mv\u001b[39m \u001b[34mreadr  \u001b[39m 2.1.2     \u001b[32mv\u001b[39m \u001b[34mforcats\u001b[39m 0.5.1\n",
      "\n",
      "-- \u001b[1mConflicts\u001b[22m ---------------------------------------------------------------------------------- tidyverse_conflicts() --\n",
      "\u001b[31mx\u001b[39m \u001b[34mdplyr\u001b[39m::\u001b[32mfilter()\u001b[39m masks \u001b[34mstats\u001b[39m::filter()\n",
      "\u001b[31mx\u001b[39m \u001b[34mdplyr\u001b[39m::\u001b[32mlag()\u001b[39m    masks \u001b[34mstats\u001b[39m::lag()\n",
      "\n"
     ]
    }
   ],
   "source": [
    "library(tidyverse)"
   ]
  },
  {
   "cell_type": "markdown",
   "id": "12509025",
   "metadata": {},
   "source": [
    "### 타이디 데이터"
   ]
  },
  {
   "cell_type": "markdown",
   "id": "b79b2c33",
   "metadata": {},
   "source": [
    "### 데이터셋을 타이디하게 만드는, 세 가지 규칙\n",
    "1. 변수마다 해당되는 열이 존재\n",
    "2. 관측값마다 해당되는 행이 존재\n",
    "3. 값마다 해당하는 하나의 셀이 있어야 함"
   ]
  },
  {
   "cell_type": "code",
   "execution_count": 2,
   "id": "97cc7913",
   "metadata": {},
   "outputs": [
    {
     "data": {
      "text/html": [
       "<table class=\"dataframe\">\n",
       "<caption>A tibble: 6 × 4</caption>\n",
       "<thead>\n",
       "\t<tr><th scope=col>country</th><th scope=col>year</th><th scope=col>cases</th><th scope=col>population</th></tr>\n",
       "\t<tr><th scope=col>&lt;chr&gt;</th><th scope=col>&lt;int&gt;</th><th scope=col>&lt;int&gt;</th><th scope=col>&lt;int&gt;</th></tr>\n",
       "</thead>\n",
       "<tbody>\n",
       "\t<tr><td>Afghanistan</td><td>1999</td><td>   745</td><td>  19987071</td></tr>\n",
       "\t<tr><td>Afghanistan</td><td>2000</td><td>  2666</td><td>  20595360</td></tr>\n",
       "\t<tr><td>Brazil     </td><td>1999</td><td> 37737</td><td> 172006362</td></tr>\n",
       "\t<tr><td>Brazil     </td><td>2000</td><td> 80488</td><td> 174504898</td></tr>\n",
       "\t<tr><td>China      </td><td>1999</td><td>212258</td><td>1272915272</td></tr>\n",
       "\t<tr><td>China      </td><td>2000</td><td>213766</td><td>1280428583</td></tr>\n",
       "</tbody>\n",
       "</table>\n"
      ],
      "text/latex": [
       "A tibble: 6 × 4\n",
       "\\begin{tabular}{llll}\n",
       " country & year & cases & population\\\\\n",
       " <chr> & <int> & <int> & <int>\\\\\n",
       "\\hline\n",
       "\t Afghanistan & 1999 &    745 &   19987071\\\\\n",
       "\t Afghanistan & 2000 &   2666 &   20595360\\\\\n",
       "\t Brazil      & 1999 &  37737 &  172006362\\\\\n",
       "\t Brazil      & 2000 &  80488 &  174504898\\\\\n",
       "\t China       & 1999 & 212258 & 1272915272\\\\\n",
       "\t China       & 2000 & 213766 & 1280428583\\\\\n",
       "\\end{tabular}\n"
      ],
      "text/markdown": [
       "\n",
       "A tibble: 6 × 4\n",
       "\n",
       "| country &lt;chr&gt; | year &lt;int&gt; | cases &lt;int&gt; | population &lt;int&gt; |\n",
       "|---|---|---|---|\n",
       "| Afghanistan | 1999 |    745 |   19987071 |\n",
       "| Afghanistan | 2000 |   2666 |   20595360 |\n",
       "| Brazil      | 1999 |  37737 |  172006362 |\n",
       "| Brazil      | 2000 |  80488 |  174504898 |\n",
       "| China       | 1999 | 212258 | 1272915272 |\n",
       "| China       | 2000 | 213766 | 1280428583 |\n",
       "\n"
      ],
      "text/plain": [
       "  country     year cases  population\n",
       "1 Afghanistan 1999    745   19987071\n",
       "2 Afghanistan 2000   2666   20595360\n",
       "3 Brazil      1999  37737  172006362\n",
       "4 Brazil      2000  80488  174504898\n",
       "5 China       1999 212258 1272915272\n",
       "6 China       2000 213766 1280428583"
      ]
     },
     "metadata": {},
     "output_type": "display_data"
    }
   ],
   "source": [
    "table1"
   ]
  },
  {
   "cell_type": "code",
   "execution_count": 3,
   "id": "9675be7b",
   "metadata": {},
   "outputs": [
    {
     "data": {
      "text/html": [
       "<table class=\"dataframe\">\n",
       "<caption>A tibble: 6 × 5</caption>\n",
       "<thead>\n",
       "\t<tr><th scope=col>country</th><th scope=col>year</th><th scope=col>cases</th><th scope=col>population</th><th scope=col>rate</th></tr>\n",
       "\t<tr><th scope=col>&lt;chr&gt;</th><th scope=col>&lt;int&gt;</th><th scope=col>&lt;int&gt;</th><th scope=col>&lt;int&gt;</th><th scope=col>&lt;dbl&gt;</th></tr>\n",
       "</thead>\n",
       "<tbody>\n",
       "\t<tr><td>Afghanistan</td><td>1999</td><td>   745</td><td>  19987071</td><td>0.372741</td></tr>\n",
       "\t<tr><td>Afghanistan</td><td>2000</td><td>  2666</td><td>  20595360</td><td>1.294466</td></tr>\n",
       "\t<tr><td>Brazil     </td><td>1999</td><td> 37737</td><td> 172006362</td><td>2.193930</td></tr>\n",
       "\t<tr><td>Brazil     </td><td>2000</td><td> 80488</td><td> 174504898</td><td>4.612363</td></tr>\n",
       "\t<tr><td>China      </td><td>1999</td><td>212258</td><td>1272915272</td><td>1.667495</td></tr>\n",
       "\t<tr><td>China      </td><td>2000</td><td>213766</td><td>1280428583</td><td>1.669488</td></tr>\n",
       "</tbody>\n",
       "</table>\n"
      ],
      "text/latex": [
       "A tibble: 6 × 5\n",
       "\\begin{tabular}{lllll}\n",
       " country & year & cases & population & rate\\\\\n",
       " <chr> & <int> & <int> & <int> & <dbl>\\\\\n",
       "\\hline\n",
       "\t Afghanistan & 1999 &    745 &   19987071 & 0.372741\\\\\n",
       "\t Afghanistan & 2000 &   2666 &   20595360 & 1.294466\\\\\n",
       "\t Brazil      & 1999 &  37737 &  172006362 & 2.193930\\\\\n",
       "\t Brazil      & 2000 &  80488 &  174504898 & 4.612363\\\\\n",
       "\t China       & 1999 & 212258 & 1272915272 & 1.667495\\\\\n",
       "\t China       & 2000 & 213766 & 1280428583 & 1.669488\\\\\n",
       "\\end{tabular}\n"
      ],
      "text/markdown": [
       "\n",
       "A tibble: 6 × 5\n",
       "\n",
       "| country &lt;chr&gt; | year &lt;int&gt; | cases &lt;int&gt; | population &lt;int&gt; | rate &lt;dbl&gt; |\n",
       "|---|---|---|---|---|\n",
       "| Afghanistan | 1999 |    745 |   19987071 | 0.372741 |\n",
       "| Afghanistan | 2000 |   2666 |   20595360 | 1.294466 |\n",
       "| Brazil      | 1999 |  37737 |  172006362 | 2.193930 |\n",
       "| Brazil      | 2000 |  80488 |  174504898 | 4.612363 |\n",
       "| China       | 1999 | 212258 | 1272915272 | 1.667495 |\n",
       "| China       | 2000 | 213766 | 1280428583 | 1.669488 |\n",
       "\n"
      ],
      "text/plain": [
       "  country     year cases  population rate    \n",
       "1 Afghanistan 1999    745   19987071 0.372741\n",
       "2 Afghanistan 2000   2666   20595360 1.294466\n",
       "3 Brazil      1999  37737  172006362 2.193930\n",
       "4 Brazil      2000  80488  174504898 4.612363\n",
       "5 China       1999 212258 1272915272 1.667495\n",
       "6 China       2000 213766 1280428583 1.669488"
      ]
     },
     "metadata": {},
     "output_type": "display_data"
    }
   ],
   "source": [
    "table1 %>% mutate(rate = cases / population * 10000)"
   ]
  },
  {
   "cell_type": "code",
   "execution_count": 4,
   "id": "b534afde",
   "metadata": {},
   "outputs": [
    {
     "data": {
      "text/html": [
       "<table class=\"dataframe\">\n",
       "<caption>A tibble: 2 × 2</caption>\n",
       "<thead>\n",
       "\t<tr><th scope=col>year</th><th scope=col>n</th></tr>\n",
       "\t<tr><th scope=col>&lt;int&gt;</th><th scope=col>&lt;int&gt;</th></tr>\n",
       "</thead>\n",
       "<tbody>\n",
       "\t<tr><td>1999</td><td>250740</td></tr>\n",
       "\t<tr><td>2000</td><td>296920</td></tr>\n",
       "</tbody>\n",
       "</table>\n"
      ],
      "text/latex": [
       "A tibble: 2 × 2\n",
       "\\begin{tabular}{ll}\n",
       " year & n\\\\\n",
       " <int> & <int>\\\\\n",
       "\\hline\n",
       "\t 1999 & 250740\\\\\n",
       "\t 2000 & 296920\\\\\n",
       "\\end{tabular}\n"
      ],
      "text/markdown": [
       "\n",
       "A tibble: 2 × 2\n",
       "\n",
       "| year &lt;int&gt; | n &lt;int&gt; |\n",
       "|---|---|\n",
       "| 1999 | 250740 |\n",
       "| 2000 | 296920 |\n",
       "\n"
      ],
      "text/plain": [
       "  year n     \n",
       "1 1999 250740\n",
       "2 2000 296920"
      ]
     },
     "metadata": {},
     "output_type": "display_data"
    }
   ],
   "source": [
    "table1 %>% count(year, wt = cases)"
   ]
  },
  {
   "cell_type": "code",
   "execution_count": 5,
   "id": "bb1276f9",
   "metadata": {},
   "outputs": [
    {
     "data": {
      "image/png": "[encoded data removed]",
      "text/plain": [
       "plot without title"
      ]
     },
     "metadata": {
      "image/png": {
       "height": 420,
       "width": 420
      }
     },
     "output_type": "display_data"
    }
   ],
   "source": [
    "library(ggplot2)\n",
    "ggplot(table1, aes(year, cases)) + geom_line(aes(group = country)) +\n",
    "geom_point(aes(color = country))"
   ]
  },
  {
   "cell_type": "code",
   "execution_count": 6,
   "id": "64a3bbae",
   "metadata": {},
   "outputs": [
    {
     "data": {
      "text/html": [
       "<table class=\"dataframe\">\n",
       "<caption>A tibble: 6 × 4</caption>\n",
       "<thead>\n",
       "\t<tr><th scope=col>country</th><th scope=col>year</th><th scope=col>type</th><th scope=col>cases</th></tr>\n",
       "\t<tr><th scope=col>&lt;chr&gt;</th><th scope=col>&lt;int&gt;</th><th scope=col>&lt;chr&gt;</th><th scope=col>&lt;int&gt;</th></tr>\n",
       "</thead>\n",
       "<tbody>\n",
       "\t<tr><td>Afghanistan</td><td>1999</td><td>cases</td><td>   745</td></tr>\n",
       "\t<tr><td>Afghanistan</td><td>2000</td><td>cases</td><td>  2666</td></tr>\n",
       "\t<tr><td>Brazil     </td><td>1999</td><td>cases</td><td> 37737</td></tr>\n",
       "\t<tr><td>Brazil     </td><td>2000</td><td>cases</td><td> 80488</td></tr>\n",
       "\t<tr><td>China      </td><td>1999</td><td>cases</td><td>212258</td></tr>\n",
       "\t<tr><td>China      </td><td>2000</td><td>cases</td><td>213766</td></tr>\n",
       "</tbody>\n",
       "</table>\n"
      ],
      "text/latex": [
       "A tibble: 6 × 4\n",
       "\\begin{tabular}{llll}\n",
       " country & year & type & cases\\\\\n",
       " <chr> & <int> & <chr> & <int>\\\\\n",
       "\\hline\n",
       "\t Afghanistan & 1999 & cases &    745\\\\\n",
       "\t Afghanistan & 2000 & cases &   2666\\\\\n",
       "\t Brazil      & 1999 & cases &  37737\\\\\n",
       "\t Brazil      & 2000 & cases &  80488\\\\\n",
       "\t China       & 1999 & cases & 212258\\\\\n",
       "\t China       & 2000 & cases & 213766\\\\\n",
       "\\end{tabular}\n"
      ],
      "text/markdown": [
       "\n",
       "A tibble: 6 × 4\n",
       "\n",
       "| country &lt;chr&gt; | year &lt;int&gt; | type &lt;chr&gt; | cases &lt;int&gt; |\n",
       "|---|---|---|---|\n",
       "| Afghanistan | 1999 | cases |    745 |\n",
       "| Afghanistan | 2000 | cases |   2666 |\n",
       "| Brazil      | 1999 | cases |  37737 |\n",
       "| Brazil      | 2000 | cases |  80488 |\n",
       "| China       | 1999 | cases | 212258 |\n",
       "| China       | 2000 | cases | 213766 |\n",
       "\n"
      ],
      "text/plain": [
       "  country     year type  cases \n",
       "1 Afghanistan 1999 cases    745\n",
       "2 Afghanistan 2000 cases   2666\n",
       "3 Brazil      1999 cases  37737\n",
       "4 Brazil      2000 cases  80488\n",
       "5 China       1999 cases 212258\n",
       "6 China       2000 cases 213766"
      ]
     },
     "metadata": {},
     "output_type": "display_data"
    },
    {
     "data": {
      "text/html": [
       "<table class=\"dataframe\">\n",
       "<caption>A tibble: 6 × 4</caption>\n",
       "<thead>\n",
       "\t<tr><th scope=col>country</th><th scope=col>year</th><th scope=col>type</th><th scope=col>population</th></tr>\n",
       "\t<tr><th scope=col>&lt;chr&gt;</th><th scope=col>&lt;int&gt;</th><th scope=col>&lt;chr&gt;</th><th scope=col>&lt;int&gt;</th></tr>\n",
       "</thead>\n",
       "<tbody>\n",
       "\t<tr><td>Afghanistan</td><td>1999</td><td>population</td><td>  19987071</td></tr>\n",
       "\t<tr><td>Afghanistan</td><td>2000</td><td>population</td><td>  20595360</td></tr>\n",
       "\t<tr><td>Brazil     </td><td>1999</td><td>population</td><td> 172006362</td></tr>\n",
       "\t<tr><td>Brazil     </td><td>2000</td><td>population</td><td> 174504898</td></tr>\n",
       "\t<tr><td>China      </td><td>1999</td><td>population</td><td>1272915272</td></tr>\n",
       "\t<tr><td>China      </td><td>2000</td><td>population</td><td>1280428583</td></tr>\n",
       "</tbody>\n",
       "</table>\n"
      ],
      "text/latex": [
       "A tibble: 6 × 4\n",
       "\\begin{tabular}{llll}\n",
       " country & year & type & population\\\\\n",
       " <chr> & <int> & <chr> & <int>\\\\\n",
       "\\hline\n",
       "\t Afghanistan & 1999 & population &   19987071\\\\\n",
       "\t Afghanistan & 2000 & population &   20595360\\\\\n",
       "\t Brazil      & 1999 & population &  172006362\\\\\n",
       "\t Brazil      & 2000 & population &  174504898\\\\\n",
       "\t China       & 1999 & population & 1272915272\\\\\n",
       "\t China       & 2000 & population & 1280428583\\\\\n",
       "\\end{tabular}\n"
      ],
      "text/markdown": [
       "\n",
       "A tibble: 6 × 4\n",
       "\n",
       "| country &lt;chr&gt; | year &lt;int&gt; | type &lt;chr&gt; | population &lt;int&gt; |\n",
       "|---|---|---|---|\n",
       "| Afghanistan | 1999 | population |   19987071 |\n",
       "| Afghanistan | 2000 | population |   20595360 |\n",
       "| Brazil      | 1999 | population |  172006362 |\n",
       "| Brazil      | 2000 | population |  174504898 |\n",
       "| China       | 1999 | population | 1272915272 |\n",
       "| China       | 2000 | population | 1280428583 |\n",
       "\n"
      ],
      "text/plain": [
       "  country     year type       population\n",
       "1 Afghanistan 1999 population   19987071\n",
       "2 Afghanistan 2000 population   20595360\n",
       "3 Brazil      1999 population  172006362\n",
       "4 Brazil      2000 population  174504898\n",
       "5 China       1999 population 1272915272\n",
       "6 China       2000 population 1280428583"
      ]
     },
     "metadata": {},
     "output_type": "display_data"
    }
   ],
   "source": [
    "# 9.2.1\n",
    "# 연도별, 국가별로 case와 인구수를 추출\n",
    "a <- table2 %>% filter(type == 'cases') %>%   \n",
    "rename(cases = count) %>% arrange(country, year)\n",
    "b <- table2 %>% filter(type == 'population') %>% \n",
    "rename(population = count) %>% arrange(country, year)\n",
    "a; b"
   ]
  },
  {
   "cell_type": "code",
   "execution_count": 7,
   "id": "642bb27e",
   "metadata": {},
   "outputs": [
    {
     "data": {
      "text/html": [
       "<table class=\"dataframe\">\n",
       "<caption>A tibble: 6 × 3</caption>\n",
       "<thead>\n",
       "\t<tr><th scope=col>country</th><th scope=col>year</th><th scope=col>cases_per_cap</th></tr>\n",
       "\t<tr><th scope=col>&lt;chr&gt;</th><th scope=col>&lt;int&gt;</th><th scope=col>&lt;dbl&gt;</th></tr>\n",
       "</thead>\n",
       "<tbody>\n",
       "\t<tr><td>Afghanistan</td><td>1999</td><td>0.372741</td></tr>\n",
       "\t<tr><td>Afghanistan</td><td>2000</td><td>1.294466</td></tr>\n",
       "\t<tr><td>Brazil     </td><td>1999</td><td>2.193930</td></tr>\n",
       "\t<tr><td>Brazil     </td><td>2000</td><td>4.612363</td></tr>\n",
       "\t<tr><td>China      </td><td>1999</td><td>1.667495</td></tr>\n",
       "\t<tr><td>China      </td><td>2000</td><td>1.669488</td></tr>\n",
       "</tbody>\n",
       "</table>\n"
      ],
      "text/latex": [
       "A tibble: 6 × 3\n",
       "\\begin{tabular}{lll}\n",
       " country & year & cases\\_per\\_cap\\\\\n",
       " <chr> & <int> & <dbl>\\\\\n",
       "\\hline\n",
       "\t Afghanistan & 1999 & 0.372741\\\\\n",
       "\t Afghanistan & 2000 & 1.294466\\\\\n",
       "\t Brazil      & 1999 & 2.193930\\\\\n",
       "\t Brazil      & 2000 & 4.612363\\\\\n",
       "\t China       & 1999 & 1.667495\\\\\n",
       "\t China       & 2000 & 1.669488\\\\\n",
       "\\end{tabular}\n"
      ],
      "text/markdown": [
       "\n",
       "A tibble: 6 × 3\n",
       "\n",
       "| country &lt;chr&gt; | year &lt;int&gt; | cases_per_cap &lt;dbl&gt; |\n",
       "|---|---|---|\n",
       "| Afghanistan | 1999 | 0.372741 |\n",
       "| Afghanistan | 2000 | 1.294466 |\n",
       "| Brazil      | 1999 | 2.193930 |\n",
       "| Brazil      | 2000 | 4.612363 |\n",
       "| China       | 1999 | 1.667495 |\n",
       "| China       | 2000 | 1.669488 |\n",
       "\n"
      ],
      "text/plain": [
       "  country     year cases_per_cap\n",
       "1 Afghanistan 1999 0.372741     \n",
       "2 Afghanistan 2000 1.294466     \n",
       "3 Brazil      1999 2.193930     \n",
       "4 Brazil      2000 4.612363     \n",
       "5 China       1999 1.667495     \n",
       "6 China       2000 1.669488     "
      ]
     },
     "metadata": {},
     "output_type": "display_data"
    }
   ],
   "source": [
    "# 사례 수를 인구로 나누고 10000을 곱하라\n",
    "c <- tibble(\n",
    "  year = a$year,\n",
    "  country = a$country,\n",
    "  cases = a$cases,\n",
    "  population = b$population\n",
    ") %>%\n",
    "  mutate(cases_per_cap = (cases / population) * 10000) %>%\n",
    "  select(country, year, cases_per_cap)\n",
    "c"
   ]
  },
  {
   "cell_type": "code",
   "execution_count": 8,
   "id": "235f63eb",
   "metadata": {},
   "outputs": [
    {
     "data": {
      "text/html": [
       "<table class=\"dataframe\">\n",
       "<caption>A tibble: 6 × 4</caption>\n",
       "<thead>\n",
       "\t<tr><th scope=col>country</th><th scope=col>year</th><th scope=col>count</th><th scope=col>type</th></tr>\n",
       "\t<tr><th scope=col>&lt;chr&gt;</th><th scope=col>&lt;int&gt;</th><th scope=col>&lt;dbl&gt;</th><th scope=col>&lt;chr&gt;</th></tr>\n",
       "</thead>\n",
       "<tbody>\n",
       "\t<tr><td>Afghanistan</td><td>1999</td><td>0.372741</td><td>cases_per_cap</td></tr>\n",
       "\t<tr><td>Afghanistan</td><td>2000</td><td>1.294466</td><td>cases_per_cap</td></tr>\n",
       "\t<tr><td>Brazil     </td><td>1999</td><td>2.193930</td><td>cases_per_cap</td></tr>\n",
       "\t<tr><td>Brazil     </td><td>2000</td><td>4.612363</td><td>cases_per_cap</td></tr>\n",
       "\t<tr><td>China      </td><td>1999</td><td>1.667495</td><td>cases_per_cap</td></tr>\n",
       "\t<tr><td>China      </td><td>2000</td><td>1.669488</td><td>cases_per_cap</td></tr>\n",
       "</tbody>\n",
       "</table>\n"
      ],
      "text/latex": [
       "A tibble: 6 × 4\n",
       "\\begin{tabular}{llll}\n",
       " country & year & count & type\\\\\n",
       " <chr> & <int> & <dbl> & <chr>\\\\\n",
       "\\hline\n",
       "\t Afghanistan & 1999 & 0.372741 & cases\\_per\\_cap\\\\\n",
       "\t Afghanistan & 2000 & 1.294466 & cases\\_per\\_cap\\\\\n",
       "\t Brazil      & 1999 & 2.193930 & cases\\_per\\_cap\\\\\n",
       "\t Brazil      & 2000 & 4.612363 & cases\\_per\\_cap\\\\\n",
       "\t China       & 1999 & 1.667495 & cases\\_per\\_cap\\\\\n",
       "\t China       & 2000 & 1.669488 & cases\\_per\\_cap\\\\\n",
       "\\end{tabular}\n"
      ],
      "text/markdown": [
       "\n",
       "A tibble: 6 × 4\n",
       "\n",
       "| country &lt;chr&gt; | year &lt;int&gt; | count &lt;dbl&gt; | type &lt;chr&gt; |\n",
       "|---|---|---|---|\n",
       "| Afghanistan | 1999 | 0.372741 | cases_per_cap |\n",
       "| Afghanistan | 2000 | 1.294466 | cases_per_cap |\n",
       "| Brazil      | 1999 | 2.193930 | cases_per_cap |\n",
       "| Brazil      | 2000 | 4.612363 | cases_per_cap |\n",
       "| China       | 1999 | 1.667495 | cases_per_cap |\n",
       "| China       | 2000 | 1.669488 | cases_per_cap |\n",
       "\n"
      ],
      "text/plain": [
       "  country     year count    type         \n",
       "1 Afghanistan 1999 0.372741 cases_per_cap\n",
       "2 Afghanistan 2000 1.294466 cases_per_cap\n",
       "3 Brazil      1999 2.193930 cases_per_cap\n",
       "4 Brazil      2000 4.612363 cases_per_cap\n",
       "5 China       1999 1.667495 cases_per_cap\n",
       "6 China       2000 1.669488 cases_per_cap"
      ]
     },
     "metadata": {},
     "output_type": "display_data"
    }
   ],
   "source": [
    "# 적절한 곳에 다시 저장\n",
    "d <- c %>%\n",
    "  mutate(type = \"cases_per_cap\") %>%\n",
    "  rename(count = cases_per_cap)\n",
    "d"
   ]
  },
  {
   "cell_type": "code",
   "execution_count": 9,
   "id": "3ff00d74",
   "metadata": {},
   "outputs": [
    {
     "data": {
      "text/html": [
       "<table class=\"dataframe\">\n",
       "<caption>A tibble: 18 × 4</caption>\n",
       "<thead>\n",
       "\t<tr><th scope=col>country</th><th scope=col>year</th><th scope=col>type</th><th scope=col>count</th></tr>\n",
       "\t<tr><th scope=col>&lt;chr&gt;</th><th scope=col>&lt;int&gt;</th><th scope=col>&lt;chr&gt;</th><th scope=col>&lt;dbl&gt;</th></tr>\n",
       "</thead>\n",
       "<tbody>\n",
       "\t<tr><td>Afghanistan</td><td>1999</td><td>cases        </td><td>7.450000e+02</td></tr>\n",
       "\t<tr><td>Afghanistan</td><td>1999</td><td>cases_per_cap</td><td>3.727410e-01</td></tr>\n",
       "\t<tr><td>Afghanistan</td><td>1999</td><td>population   </td><td>1.998707e+07</td></tr>\n",
       "\t<tr><td>Afghanistan</td><td>2000</td><td>cases        </td><td>2.666000e+03</td></tr>\n",
       "\t<tr><td>Afghanistan</td><td>2000</td><td>cases_per_cap</td><td>1.294466e+00</td></tr>\n",
       "\t<tr><td>Afghanistan</td><td>2000</td><td>population   </td><td>2.059536e+07</td></tr>\n",
       "\t<tr><td>Brazil     </td><td>1999</td><td>cases        </td><td>3.773700e+04</td></tr>\n",
       "\t<tr><td>Brazil     </td><td>1999</td><td>cases_per_cap</td><td>2.193930e+00</td></tr>\n",
       "\t<tr><td>Brazil     </td><td>1999</td><td>population   </td><td>1.720064e+08</td></tr>\n",
       "\t<tr><td>Brazil     </td><td>2000</td><td>cases        </td><td>8.048800e+04</td></tr>\n",
       "\t<tr><td>Brazil     </td><td>2000</td><td>cases_per_cap</td><td>4.612363e+00</td></tr>\n",
       "\t<tr><td>Brazil     </td><td>2000</td><td>population   </td><td>1.745049e+08</td></tr>\n",
       "\t<tr><td>China      </td><td>1999</td><td>cases        </td><td>2.122580e+05</td></tr>\n",
       "\t<tr><td>China      </td><td>1999</td><td>cases_per_cap</td><td>1.667495e+00</td></tr>\n",
       "\t<tr><td>China      </td><td>1999</td><td>population   </td><td>1.272915e+09</td></tr>\n",
       "\t<tr><td>China      </td><td>2000</td><td>cases        </td><td>2.137660e+05</td></tr>\n",
       "\t<tr><td>China      </td><td>2000</td><td>cases_per_cap</td><td>1.669488e+00</td></tr>\n",
       "\t<tr><td>China      </td><td>2000</td><td>population   </td><td>1.280429e+09</td></tr>\n",
       "</tbody>\n",
       "</table>\n"
      ],
      "text/latex": [
       "A tibble: 18 × 4\n",
       "\\begin{tabular}{llll}\n",
       " country & year & type & count\\\\\n",
       " <chr> & <int> & <chr> & <dbl>\\\\\n",
       "\\hline\n",
       "\t Afghanistan & 1999 & cases         & 7.450000e+02\\\\\n",
       "\t Afghanistan & 1999 & cases\\_per\\_cap & 3.727410e-01\\\\\n",
       "\t Afghanistan & 1999 & population    & 1.998707e+07\\\\\n",
       "\t Afghanistan & 2000 & cases         & 2.666000e+03\\\\\n",
       "\t Afghanistan & 2000 & cases\\_per\\_cap & 1.294466e+00\\\\\n",
       "\t Afghanistan & 2000 & population    & 2.059536e+07\\\\\n",
       "\t Brazil      & 1999 & cases         & 3.773700e+04\\\\\n",
       "\t Brazil      & 1999 & cases\\_per\\_cap & 2.193930e+00\\\\\n",
       "\t Brazil      & 1999 & population    & 1.720064e+08\\\\\n",
       "\t Brazil      & 2000 & cases         & 8.048800e+04\\\\\n",
       "\t Brazil      & 2000 & cases\\_per\\_cap & 4.612363e+00\\\\\n",
       "\t Brazil      & 2000 & population    & 1.745049e+08\\\\\n",
       "\t China       & 1999 & cases         & 2.122580e+05\\\\\n",
       "\t China       & 1999 & cases\\_per\\_cap & 1.667495e+00\\\\\n",
       "\t China       & 1999 & population    & 1.272915e+09\\\\\n",
       "\t China       & 2000 & cases         & 2.137660e+05\\\\\n",
       "\t China       & 2000 & cases\\_per\\_cap & 1.669488e+00\\\\\n",
       "\t China       & 2000 & population    & 1.280429e+09\\\\\n",
       "\\end{tabular}\n"
      ],
      "text/markdown": [
       "\n",
       "A tibble: 18 × 4\n",
       "\n",
       "| country &lt;chr&gt; | year &lt;int&gt; | type &lt;chr&gt; | count &lt;dbl&gt; |\n",
       "|---|---|---|---|\n",
       "| Afghanistan | 1999 | cases         | 7.450000e+02 |\n",
       "| Afghanistan | 1999 | cases_per_cap | 3.727410e-01 |\n",
       "| Afghanistan | 1999 | population    | 1.998707e+07 |\n",
       "| Afghanistan | 2000 | cases         | 2.666000e+03 |\n",
       "| Afghanistan | 2000 | cases_per_cap | 1.294466e+00 |\n",
       "| Afghanistan | 2000 | population    | 2.059536e+07 |\n",
       "| Brazil      | 1999 | cases         | 3.773700e+04 |\n",
       "| Brazil      | 1999 | cases_per_cap | 2.193930e+00 |\n",
       "| Brazil      | 1999 | population    | 1.720064e+08 |\n",
       "| Brazil      | 2000 | cases         | 8.048800e+04 |\n",
       "| Brazil      | 2000 | cases_per_cap | 4.612363e+00 |\n",
       "| Brazil      | 2000 | population    | 1.745049e+08 |\n",
       "| China       | 1999 | cases         | 2.122580e+05 |\n",
       "| China       | 1999 | cases_per_cap | 1.667495e+00 |\n",
       "| China       | 1999 | population    | 1.272915e+09 |\n",
       "| China       | 2000 | cases         | 2.137660e+05 |\n",
       "| China       | 2000 | cases_per_cap | 1.669488e+00 |\n",
       "| China       | 2000 | population    | 1.280429e+09 |\n",
       "\n"
      ],
      "text/plain": [
       "   country     year type          count       \n",
       "1  Afghanistan 1999 cases         7.450000e+02\n",
       "2  Afghanistan 1999 cases_per_cap 3.727410e-01\n",
       "3  Afghanistan 1999 population    1.998707e+07\n",
       "4  Afghanistan 2000 cases         2.666000e+03\n",
       "5  Afghanistan 2000 cases_per_cap 1.294466e+00\n",
       "6  Afghanistan 2000 population    2.059536e+07\n",
       "7  Brazil      1999 cases         3.773700e+04\n",
       "8  Brazil      1999 cases_per_cap 2.193930e+00\n",
       "9  Brazil      1999 population    1.720064e+08\n",
       "10 Brazil      2000 cases         8.048800e+04\n",
       "11 Brazil      2000 cases_per_cap 4.612363e+00\n",
       "12 Brazil      2000 population    1.745049e+08\n",
       "13 China       1999 cases         2.122580e+05\n",
       "14 China       1999 cases_per_cap 1.667495e+00\n",
       "15 China       1999 population    1.272915e+09\n",
       "16 China       2000 cases         2.137660e+05\n",
       "17 China       2000 cases_per_cap 1.669488e+00\n",
       "18 China       2000 population    1.280429e+09"
      ]
     },
     "metadata": {},
     "output_type": "display_data"
    }
   ],
   "source": [
    "bind_rows(table2, d) %>%\n",
    "  arrange(country, year, type, count)"
   ]
  },
  {
   "cell_type": "code",
   "execution_count": 10,
   "id": "7a2d3cea",
   "metadata": {},
   "outputs": [
    {
     "data": {
      "text/html": [
       "<table class=\"dataframe\">\n",
       "<caption>A tibble: 3 × 3</caption>\n",
       "<thead>\n",
       "\t<tr><th scope=col>country</th><th scope=col>1999</th><th scope=col>2000</th></tr>\n",
       "\t<tr><th scope=col>&lt;chr&gt;</th><th scope=col>&lt;dbl&gt;</th><th scope=col>&lt;dbl&gt;</th></tr>\n",
       "</thead>\n",
       "<tbody>\n",
       "\t<tr><td>Afghanistan</td><td>0.372741</td><td>1.294466</td></tr>\n",
       "\t<tr><td>Brazil     </td><td>2.193930</td><td>4.612363</td></tr>\n",
       "\t<tr><td>China      </td><td>1.667495</td><td>1.669488</td></tr>\n",
       "</tbody>\n",
       "</table>\n"
      ],
      "text/latex": [
       "A tibble: 3 × 3\n",
       "\\begin{tabular}{lll}\n",
       " country & 1999 & 2000\\\\\n",
       " <chr> & <dbl> & <dbl>\\\\\n",
       "\\hline\n",
       "\t Afghanistan & 0.372741 & 1.294466\\\\\n",
       "\t Brazil      & 2.193930 & 4.612363\\\\\n",
       "\t China       & 1.667495 & 1.669488\\\\\n",
       "\\end{tabular}\n"
      ],
      "text/markdown": [
       "\n",
       "A tibble: 3 × 3\n",
       "\n",
       "| country &lt;chr&gt; | 1999 &lt;dbl&gt; | 2000 &lt;dbl&gt; |\n",
       "|---|---|---|\n",
       "| Afghanistan | 0.372741 | 1.294466 |\n",
       "| Brazil      | 2.193930 | 4.612363 |\n",
       "| China       | 1.667495 | 1.669488 |\n",
       "\n"
      ],
      "text/plain": [
       "  country     1999     2000    \n",
       "1 Afghanistan 0.372741 1.294466\n",
       "2 Brazil      2.193930 4.612363\n",
       "3 China       1.667495 1.669488"
      ]
     },
     "metadata": {},
     "output_type": "display_data"
    }
   ],
   "source": [
    "table4c <-\n",
    "  tibble(\n",
    "    country = table4a$country,\n",
    "    `1999` = table4a[[\"1999\"]] / table4b[[\"1999\"]] * 10000,\n",
    "    `2000` = table4a[[\"2000\"]] / table4b[[\"2000\"]] * 10000\n",
    "  )\n",
    "table4c"
   ]
  },
  {
   "cell_type": "code",
   "execution_count": 11,
   "id": "fe78bb93",
   "metadata": {},
   "outputs": [
    {
     "data": {
      "image/png": "[encoded data removed]",
      "text/plain": [
       "plot without title"
      ]
     },
     "metadata": {
      "image/png": {
       "height": 420,
       "width": 420
      }
     },
     "output_type": "display_data"
    }
   ],
   "source": [
    "# table2를 사용하여 시간 경과에 따른 사례 수의 변화를 보이는 plot생성\n",
    "table2 %>%\n",
    "  filter(type == \"cases\") %>%\n",
    "  ggplot(aes(year, count)) +\n",
    "  geom_line(aes(group = country), colour = \"grey50\") +\n",
    "  geom_point(aes(colour = country)) +\n",
    "  scale_x_continuous(breaks = unique(table2$year)) +\n",
    "  ylab(\"cases\")"
   ]
  },
  {
   "cell_type": "markdown",
   "id": "213845d7",
   "metadata": {},
   "source": [
    "### gather() : 모으기\n",
    "* 열들에 대해서, 열 이름을 key로, 값들을 새로운 변수로"
   ]
  },
  {
   "cell_type": "code",
   "execution_count": 12,
   "id": "ab4bae38",
   "metadata": {},
   "outputs": [
    {
     "data": {
      "text/html": [
       "<table class=\"dataframe\">\n",
       "<caption>A tibble: 3 × 3</caption>\n",
       "<thead>\n",
       "\t<tr><th></th><th scope=col>country</th><th scope=col>1999</th><th scope=col>2000</th></tr>\n",
       "\t<tr><th></th><th scope=col>&lt;chr&gt;</th><th scope=col>&lt;int&gt;</th><th scope=col>&lt;int&gt;</th></tr>\n",
       "</thead>\n",
       "<tbody>\n",
       "\t<tr><th scope=row>1</th><td>Afghanistan</td><td>   745</td><td>  2666</td></tr>\n",
       "\t<tr><th scope=row>2</th><td>Brazil     </td><td> 37737</td><td> 80488</td></tr>\n",
       "\t<tr><th scope=row>3</th><td>China      </td><td>212258</td><td>213766</td></tr>\n",
       "</tbody>\n",
       "</table>\n"
      ],
      "text/latex": [
       "A tibble: 3 × 3\n",
       "\\begin{tabular}{r|lll}\n",
       "  & country & 1999 & 2000\\\\\n",
       "  & <chr> & <int> & <int>\\\\\n",
       "\\hline\n",
       "\t1 & Afghanistan &    745 &   2666\\\\\n",
       "\t2 & Brazil      &  37737 &  80488\\\\\n",
       "\t3 & China       & 212258 & 213766\\\\\n",
       "\\end{tabular}\n"
      ],
      "text/markdown": [
       "\n",
       "A tibble: 3 × 3\n",
       "\n",
       "| <!--/--> | country &lt;chr&gt; | 1999 &lt;int&gt; | 2000 &lt;int&gt; |\n",
       "|---|---|---|---|\n",
       "| 1 | Afghanistan |    745 |   2666 |\n",
       "| 2 | Brazil      |  37737 |  80488 |\n",
       "| 3 | China       | 212258 | 213766 |\n",
       "\n"
      ],
      "text/plain": [
       "  country     1999   2000  \n",
       "1 Afghanistan    745   2666\n",
       "2 Brazil       37737  80488\n",
       "3 China       212258 213766"
      ]
     },
     "metadata": {},
     "output_type": "display_data"
    }
   ],
   "source": [
    "table4a"
   ]
  },
  {
   "cell_type": "code",
   "execution_count": 13,
   "id": "3aad7ae0",
   "metadata": {},
   "outputs": [
    {
     "data": {
      "text/html": [
       "<table class=\"dataframe\">\n",
       "<caption>A tibble: 6 × 3</caption>\n",
       "<thead>\n",
       "\t<tr><th scope=col>country</th><th scope=col>year</th><th scope=col>cases</th></tr>\n",
       "\t<tr><th scope=col>&lt;chr&gt;</th><th scope=col>&lt;chr&gt;</th><th scope=col>&lt;int&gt;</th></tr>\n",
       "</thead>\n",
       "<tbody>\n",
       "\t<tr><td>Afghanistan</td><td>1999</td><td>   745</td></tr>\n",
       "\t<tr><td>Brazil     </td><td>1999</td><td> 37737</td></tr>\n",
       "\t<tr><td>China      </td><td>1999</td><td>212258</td></tr>\n",
       "\t<tr><td>Afghanistan</td><td>2000</td><td>  2666</td></tr>\n",
       "\t<tr><td>Brazil     </td><td>2000</td><td> 80488</td></tr>\n",
       "\t<tr><td>China      </td><td>2000</td><td>213766</td></tr>\n",
       "</tbody>\n",
       "</table>\n"
      ],
      "text/latex": [
       "A tibble: 6 × 3\n",
       "\\begin{tabular}{lll}\n",
       " country & year & cases\\\\\n",
       " <chr> & <chr> & <int>\\\\\n",
       "\\hline\n",
       "\t Afghanistan & 1999 &    745\\\\\n",
       "\t Brazil      & 1999 &  37737\\\\\n",
       "\t China       & 1999 & 212258\\\\\n",
       "\t Afghanistan & 2000 &   2666\\\\\n",
       "\t Brazil      & 2000 &  80488\\\\\n",
       "\t China       & 2000 & 213766\\\\\n",
       "\\end{tabular}\n"
      ],
      "text/markdown": [
       "\n",
       "A tibble: 6 × 3\n",
       "\n",
       "| country &lt;chr&gt; | year &lt;chr&gt; | cases &lt;int&gt; |\n",
       "|---|---|---|\n",
       "| Afghanistan | 1999 |    745 |\n",
       "| Brazil      | 1999 |  37737 |\n",
       "| China       | 1999 | 212258 |\n",
       "| Afghanistan | 2000 |   2666 |\n",
       "| Brazil      | 2000 |  80488 |\n",
       "| China       | 2000 | 213766 |\n",
       "\n"
      ],
      "text/plain": [
       "  country     year cases \n",
       "1 Afghanistan 1999    745\n",
       "2 Brazil      1999  37737\n",
       "3 China       1999 212258\n",
       "4 Afghanistan 2000   2666\n",
       "5 Brazil      2000  80488\n",
       "6 China       2000 213766"
      ]
     },
     "metadata": {},
     "output_type": "display_data"
    }
   ],
   "source": [
    "table4a %>% gather(\"1999\", \"2000\", key = \"year\", value = \"cases\")"
   ]
  },
  {
   "cell_type": "code",
   "execution_count": 14,
   "id": "0406346d",
   "metadata": {},
   "outputs": [
    {
     "data": {
      "text/html": [
       "<table class=\"dataframe\">\n",
       "<caption>A tibble: 3 × 3</caption>\n",
       "<thead>\n",
       "\t<tr><th></th><th scope=col>country</th><th scope=col>1999</th><th scope=col>2000</th></tr>\n",
       "\t<tr><th></th><th scope=col>&lt;chr&gt;</th><th scope=col>&lt;int&gt;</th><th scope=col>&lt;int&gt;</th></tr>\n",
       "</thead>\n",
       "<tbody>\n",
       "\t<tr><th scope=row>1</th><td>Afghanistan</td><td>  19987071</td><td>  20595360</td></tr>\n",
       "\t<tr><th scope=row>2</th><td>Brazil     </td><td> 172006362</td><td> 174504898</td></tr>\n",
       "\t<tr><th scope=row>3</th><td>China      </td><td>1272915272</td><td>1280428583</td></tr>\n",
       "</tbody>\n",
       "</table>\n"
      ],
      "text/latex": [
       "A tibble: 3 × 3\n",
       "\\begin{tabular}{r|lll}\n",
       "  & country & 1999 & 2000\\\\\n",
       "  & <chr> & <int> & <int>\\\\\n",
       "\\hline\n",
       "\t1 & Afghanistan &   19987071 &   20595360\\\\\n",
       "\t2 & Brazil      &  172006362 &  174504898\\\\\n",
       "\t3 & China       & 1272915272 & 1280428583\\\\\n",
       "\\end{tabular}\n"
      ],
      "text/markdown": [
       "\n",
       "A tibble: 3 × 3\n",
       "\n",
       "| <!--/--> | country &lt;chr&gt; | 1999 &lt;int&gt; | 2000 &lt;int&gt; |\n",
       "|---|---|---|---|\n",
       "| 1 | Afghanistan |   19987071 |   20595360 |\n",
       "| 2 | Brazil      |  172006362 |  174504898 |\n",
       "| 3 | China       | 1272915272 | 1280428583 |\n",
       "\n"
      ],
      "text/plain": [
       "  country     1999       2000      \n",
       "1 Afghanistan   19987071   20595360\n",
       "2 Brazil       172006362  174504898\n",
       "3 China       1272915272 1280428583"
      ]
     },
     "metadata": {},
     "output_type": "display_data"
    }
   ],
   "source": [
    "table4b"
   ]
  },
  {
   "cell_type": "code",
   "execution_count": 15,
   "id": "feaefa73",
   "metadata": {},
   "outputs": [
    {
     "data": {
      "text/html": [
       "<table class=\"dataframe\">\n",
       "<caption>A tibble: 6 × 3</caption>\n",
       "<thead>\n",
       "\t<tr><th scope=col>country</th><th scope=col>year</th><th scope=col>population</th></tr>\n",
       "\t<tr><th scope=col>&lt;chr&gt;</th><th scope=col>&lt;chr&gt;</th><th scope=col>&lt;int&gt;</th></tr>\n",
       "</thead>\n",
       "<tbody>\n",
       "\t<tr><td>Afghanistan</td><td>1999</td><td>  19987071</td></tr>\n",
       "\t<tr><td>Brazil     </td><td>1999</td><td> 172006362</td></tr>\n",
       "\t<tr><td>China      </td><td>1999</td><td>1272915272</td></tr>\n",
       "\t<tr><td>Afghanistan</td><td>2000</td><td>  20595360</td></tr>\n",
       "\t<tr><td>Brazil     </td><td>2000</td><td> 174504898</td></tr>\n",
       "\t<tr><td>China      </td><td>2000</td><td>1280428583</td></tr>\n",
       "</tbody>\n",
       "</table>\n"
      ],
      "text/latex": [
       "A tibble: 6 × 3\n",
       "\\begin{tabular}{lll}\n",
       " country & year & population\\\\\n",
       " <chr> & <chr> & <int>\\\\\n",
       "\\hline\n",
       "\t Afghanistan & 1999 &   19987071\\\\\n",
       "\t Brazil      & 1999 &  172006362\\\\\n",
       "\t China       & 1999 & 1272915272\\\\\n",
       "\t Afghanistan & 2000 &   20595360\\\\\n",
       "\t Brazil      & 2000 &  174504898\\\\\n",
       "\t China       & 2000 & 1280428583\\\\\n",
       "\\end{tabular}\n"
      ],
      "text/markdown": [
       "\n",
       "A tibble: 6 × 3\n",
       "\n",
       "| country &lt;chr&gt; | year &lt;chr&gt; | population &lt;int&gt; |\n",
       "|---|---|---|\n",
       "| Afghanistan | 1999 |   19987071 |\n",
       "| Brazil      | 1999 |  172006362 |\n",
       "| China       | 1999 | 1272915272 |\n",
       "| Afghanistan | 2000 |   20595360 |\n",
       "| Brazil      | 2000 |  174504898 |\n",
       "| China       | 2000 | 1280428583 |\n",
       "\n"
      ],
      "text/plain": [
       "  country     year population\n",
       "1 Afghanistan 1999   19987071\n",
       "2 Brazil      1999  172006362\n",
       "3 China       1999 1272915272\n",
       "4 Afghanistan 2000   20595360\n",
       "5 Brazil      2000  174504898\n",
       "6 China       2000 1280428583"
      ]
     },
     "metadata": {},
     "output_type": "display_data"
    }
   ],
   "source": [
    "table4b %>% gather('1999', '2000', key = 'year', value = 'population')"
   ]
  },
  {
   "cell_type": "markdown",
   "id": "1a334657",
   "metadata": {},
   "source": [
    "### spread() : 펼치기\n",
    "- 범주형 변수들의 범주를 열로"
   ]
  },
  {
   "cell_type": "code",
   "execution_count": 16,
   "id": "53979213",
   "metadata": {},
   "outputs": [
    {
     "data": {
      "text/html": [
       "<table class=\"dataframe\">\n",
       "<caption>A tibble: 12 × 4</caption>\n",
       "<thead>\n",
       "\t<tr><th scope=col>country</th><th scope=col>year</th><th scope=col>type</th><th scope=col>count</th></tr>\n",
       "\t<tr><th scope=col>&lt;chr&gt;</th><th scope=col>&lt;int&gt;</th><th scope=col>&lt;chr&gt;</th><th scope=col>&lt;int&gt;</th></tr>\n",
       "</thead>\n",
       "<tbody>\n",
       "\t<tr><td>Afghanistan</td><td>1999</td><td>cases     </td><td>       745</td></tr>\n",
       "\t<tr><td>Afghanistan</td><td>1999</td><td>population</td><td>  19987071</td></tr>\n",
       "\t<tr><td>Afghanistan</td><td>2000</td><td>cases     </td><td>      2666</td></tr>\n",
       "\t<tr><td>Afghanistan</td><td>2000</td><td>population</td><td>  20595360</td></tr>\n",
       "\t<tr><td>Brazil     </td><td>1999</td><td>cases     </td><td>     37737</td></tr>\n",
       "\t<tr><td>Brazil     </td><td>1999</td><td>population</td><td> 172006362</td></tr>\n",
       "\t<tr><td>Brazil     </td><td>2000</td><td>cases     </td><td>     80488</td></tr>\n",
       "\t<tr><td>Brazil     </td><td>2000</td><td>population</td><td> 174504898</td></tr>\n",
       "\t<tr><td>China      </td><td>1999</td><td>cases     </td><td>    212258</td></tr>\n",
       "\t<tr><td>China      </td><td>1999</td><td>population</td><td>1272915272</td></tr>\n",
       "\t<tr><td>China      </td><td>2000</td><td>cases     </td><td>    213766</td></tr>\n",
       "\t<tr><td>China      </td><td>2000</td><td>population</td><td>1280428583</td></tr>\n",
       "</tbody>\n",
       "</table>\n"
      ],
      "text/latex": [
       "A tibble: 12 × 4\n",
       "\\begin{tabular}{llll}\n",
       " country & year & type & count\\\\\n",
       " <chr> & <int> & <chr> & <int>\\\\\n",
       "\\hline\n",
       "\t Afghanistan & 1999 & cases      &        745\\\\\n",
       "\t Afghanistan & 1999 & population &   19987071\\\\\n",
       "\t Afghanistan & 2000 & cases      &       2666\\\\\n",
       "\t Afghanistan & 2000 & population &   20595360\\\\\n",
       "\t Brazil      & 1999 & cases      &      37737\\\\\n",
       "\t Brazil      & 1999 & population &  172006362\\\\\n",
       "\t Brazil      & 2000 & cases      &      80488\\\\\n",
       "\t Brazil      & 2000 & population &  174504898\\\\\n",
       "\t China       & 1999 & cases      &     212258\\\\\n",
       "\t China       & 1999 & population & 1272915272\\\\\n",
       "\t China       & 2000 & cases      &     213766\\\\\n",
       "\t China       & 2000 & population & 1280428583\\\\\n",
       "\\end{tabular}\n"
      ],
      "text/markdown": [
       "\n",
       "A tibble: 12 × 4\n",
       "\n",
       "| country &lt;chr&gt; | year &lt;int&gt; | type &lt;chr&gt; | count &lt;int&gt; |\n",
       "|---|---|---|---|\n",
       "| Afghanistan | 1999 | cases      |        745 |\n",
       "| Afghanistan | 1999 | population |   19987071 |\n",
       "| Afghanistan | 2000 | cases      |       2666 |\n",
       "| Afghanistan | 2000 | population |   20595360 |\n",
       "| Brazil      | 1999 | cases      |      37737 |\n",
       "| Brazil      | 1999 | population |  172006362 |\n",
       "| Brazil      | 2000 | cases      |      80488 |\n",
       "| Brazil      | 2000 | population |  174504898 |\n",
       "| China       | 1999 | cases      |     212258 |\n",
       "| China       | 1999 | population | 1272915272 |\n",
       "| China       | 2000 | cases      |     213766 |\n",
       "| China       | 2000 | population | 1280428583 |\n",
       "\n"
      ],
      "text/plain": [
       "   country     year type       count     \n",
       "1  Afghanistan 1999 cases             745\n",
       "2  Afghanistan 1999 population   19987071\n",
       "3  Afghanistan 2000 cases            2666\n",
       "4  Afghanistan 2000 population   20595360\n",
       "5  Brazil      1999 cases           37737\n",
       "6  Brazil      1999 population  172006362\n",
       "7  Brazil      2000 cases           80488\n",
       "8  Brazil      2000 population  174504898\n",
       "9  China       1999 cases          212258\n",
       "10 China       1999 population 1272915272\n",
       "11 China       2000 cases          213766\n",
       "12 China       2000 population 1280428583"
      ]
     },
     "metadata": {},
     "output_type": "display_data"
    }
   ],
   "source": [
    "table2"
   ]
  },
  {
   "cell_type": "code",
   "execution_count": 21,
   "id": "c7018a65",
   "metadata": {},
   "outputs": [
    {
     "data": {
      "text/html": [
       "<table class=\"dataframe\">\n",
       "<caption>A tibble: 6 × 4</caption>\n",
       "<thead>\n",
       "\t<tr><th scope=col>country</th><th scope=col>year</th><th scope=col>cases</th><th scope=col>population</th></tr>\n",
       "\t<tr><th scope=col>&lt;chr&gt;</th><th scope=col>&lt;int&gt;</th><th scope=col>&lt;int&gt;</th><th scope=col>&lt;int&gt;</th></tr>\n",
       "</thead>\n",
       "<tbody>\n",
       "\t<tr><td>Afghanistan</td><td>1999</td><td>   745</td><td>  19987071</td></tr>\n",
       "\t<tr><td>Afghanistan</td><td>2000</td><td>  2666</td><td>  20595360</td></tr>\n",
       "\t<tr><td>Brazil     </td><td>1999</td><td> 37737</td><td> 172006362</td></tr>\n",
       "\t<tr><td>Brazil     </td><td>2000</td><td> 80488</td><td> 174504898</td></tr>\n",
       "\t<tr><td>China      </td><td>1999</td><td>212258</td><td>1272915272</td></tr>\n",
       "\t<tr><td>China      </td><td>2000</td><td>213766</td><td>1280428583</td></tr>\n",
       "</tbody>\n",
       "</table>\n"
      ],
      "text/latex": [
       "A tibble: 6 × 4\n",
       "\\begin{tabular}{llll}\n",
       " country & year & cases & population\\\\\n",
       " <chr> & <int> & <int> & <int>\\\\\n",
       "\\hline\n",
       "\t Afghanistan & 1999 &    745 &   19987071\\\\\n",
       "\t Afghanistan & 2000 &   2666 &   20595360\\\\\n",
       "\t Brazil      & 1999 &  37737 &  172006362\\\\\n",
       "\t Brazil      & 2000 &  80488 &  174504898\\\\\n",
       "\t China       & 1999 & 212258 & 1272915272\\\\\n",
       "\t China       & 2000 & 213766 & 1280428583\\\\\n",
       "\\end{tabular}\n"
      ],
      "text/markdown": [
       "\n",
       "A tibble: 6 × 4\n",
       "\n",
       "| country &lt;chr&gt; | year &lt;int&gt; | cases &lt;int&gt; | population &lt;int&gt; |\n",
       "|---|---|---|---|\n",
       "| Afghanistan | 1999 |    745 |   19987071 |\n",
       "| Afghanistan | 2000 |   2666 |   20595360 |\n",
       "| Brazil      | 1999 |  37737 |  172006362 |\n",
       "| Brazil      | 2000 |  80488 |  174504898 |\n",
       "| China       | 1999 | 212258 | 1272915272 |\n",
       "| China       | 2000 | 213766 | 1280428583 |\n",
       "\n"
      ],
      "text/plain": [
       "  country     year cases  population\n",
       "1 Afghanistan 1999    745   19987071\n",
       "2 Afghanistan 2000   2666   20595360\n",
       "3 Brazil      1999  37737  172006362\n",
       "4 Brazil      2000  80488  174504898\n",
       "5 China       1999 212258 1272915272\n",
       "6 China       2000 213766 1280428583"
      ]
     },
     "metadata": {},
     "output_type": "display_data"
    }
   ],
   "source": [
    "table2 %>% spread(key = type, value = count)"
   ]
  },
  {
   "cell_type": "code",
   "execution_count": 19,
   "id": "4ace9e53",
   "metadata": {},
   "outputs": [
    {
     "name": "stdout",
     "output_type": "stream",
     "text": [
      "\u001b[90m# A tibble: 4 x 3\u001b[39m\n",
      "   year  half return\n",
      "  \u001b[3m\u001b[90m<dbl>\u001b[39m\u001b[23m \u001b[3m\u001b[90m<dbl>\u001b[39m\u001b[23m  \u001b[3m\u001b[90m<dbl>\u001b[39m\u001b[23m\n",
      "\u001b[90m1\u001b[39m  \u001b[4m2\u001b[24m015     1   1.88\n",
      "\u001b[90m2\u001b[39m  \u001b[4m2\u001b[24m015     2   0.59\n",
      "\u001b[90m3\u001b[39m  \u001b[4m2\u001b[24m016     1   0.92\n",
      "\u001b[90m4\u001b[39m  \u001b[4m2\u001b[24m016     2   0.17\n"
     ]
    }
   ],
   "source": [
    "# 9.3.3\n",
    "# 1\n",
    "stocks <- tibble(\n",
    "year = c(2015, 2015, 2016, 2016),\n",
    "half = c(1, 2, 1, 2),\n",
    "return = c(1.88, 0.59, 0.92, 0.17)) %>% print()"
   ]
  },
  {
   "cell_type": "code",
   "execution_count": 23,
   "id": "926ce299",
   "metadata": {},
   "outputs": [
    {
     "data": {
      "text/html": [
       "<table class=\"dataframe\">\n",
       "<caption>A tibble: 2 × 3</caption>\n",
       "<thead>\n",
       "\t<tr><th scope=col>half</th><th scope=col>2015</th><th scope=col>2016</th></tr>\n",
       "\t<tr><th scope=col>&lt;dbl&gt;</th><th scope=col>&lt;dbl&gt;</th><th scope=col>&lt;dbl&gt;</th></tr>\n",
       "</thead>\n",
       "<tbody>\n",
       "\t<tr><td>1</td><td>1.88</td><td>0.92</td></tr>\n",
       "\t<tr><td>2</td><td>0.59</td><td>0.17</td></tr>\n",
       "</tbody>\n",
       "</table>\n"
      ],
      "text/latex": [
       "A tibble: 2 × 3\n",
       "\\begin{tabular}{lll}\n",
       " half & 2015 & 2016\\\\\n",
       " <dbl> & <dbl> & <dbl>\\\\\n",
       "\\hline\n",
       "\t 1 & 1.88 & 0.92\\\\\n",
       "\t 2 & 0.59 & 0.17\\\\\n",
       "\\end{tabular}\n"
      ],
      "text/markdown": [
       "\n",
       "A tibble: 2 × 3\n",
       "\n",
       "| half &lt;dbl&gt; | 2015 &lt;dbl&gt; | 2016 &lt;dbl&gt; |\n",
       "|---|---|---|\n",
       "| 1 | 1.88 | 0.92 |\n",
       "| 2 | 0.59 | 0.17 |\n",
       "\n"
      ],
      "text/plain": [
       "  half 2015 2016\n",
       "1 1    1.88 0.92\n",
       "2 2    0.59 0.17"
      ]
     },
     "metadata": {},
     "output_type": "display_data"
    }
   ],
   "source": [
    "stocks %>% spread(year, return)"
   ]
  },
  {
   "cell_type": "code",
   "execution_count": 24,
   "id": "9bb66079",
   "metadata": {},
   "outputs": [
    {
     "data": {
      "text/html": [
       "<table class=\"dataframe\">\n",
       "<caption>A tibble: 4 × 3</caption>\n",
       "<thead>\n",
       "\t<tr><th scope=col>half</th><th scope=col>year</th><th scope=col>return</th></tr>\n",
       "\t<tr><th scope=col>&lt;dbl&gt;</th><th scope=col>&lt;chr&gt;</th><th scope=col>&lt;dbl&gt;</th></tr>\n",
       "</thead>\n",
       "<tbody>\n",
       "\t<tr><td>1</td><td>2015</td><td>1.88</td></tr>\n",
       "\t<tr><td>2</td><td>2015</td><td>0.59</td></tr>\n",
       "\t<tr><td>1</td><td>2016</td><td>0.92</td></tr>\n",
       "\t<tr><td>2</td><td>2016</td><td>0.17</td></tr>\n",
       "</tbody>\n",
       "</table>\n"
      ],
      "text/latex": [
       "A tibble: 4 × 3\n",
       "\\begin{tabular}{lll}\n",
       " half & year & return\\\\\n",
       " <dbl> & <chr> & <dbl>\\\\\n",
       "\\hline\n",
       "\t 1 & 2015 & 1.88\\\\\n",
       "\t 2 & 2015 & 0.59\\\\\n",
       "\t 1 & 2016 & 0.92\\\\\n",
       "\t 2 & 2016 & 0.17\\\\\n",
       "\\end{tabular}\n"
      ],
      "text/markdown": [
       "\n",
       "A tibble: 4 × 3\n",
       "\n",
       "| half &lt;dbl&gt; | year &lt;chr&gt; | return &lt;dbl&gt; |\n",
       "|---|---|---|\n",
       "| 1 | 2015 | 1.88 |\n",
       "| 2 | 2015 | 0.59 |\n",
       "| 1 | 2016 | 0.92 |\n",
       "| 2 | 2016 | 0.17 |\n",
       "\n"
      ],
      "text/plain": [
       "  half year return\n",
       "1 1    2015 1.88  \n",
       "2 2    2015 0.59  \n",
       "3 1    2016 0.92  \n",
       "4 2    2016 0.17  "
      ]
     },
     "metadata": {},
     "output_type": "display_data"
    }
   ],
   "source": [
    "stocks %>% spread(year, return) %>% gather('year', 'return', '2015':'2016')"
   ]
  },
  {
   "cell_type": "code",
   "execution_count": 26,
   "id": "a3326642",
   "metadata": {},
   "outputs": [
    {
     "data": {
      "text/html": [
       "<table class=\"dataframe\">\n",
       "<caption>A tibble: 3 × 3</caption>\n",
       "<thead>\n",
       "\t<tr><th></th><th scope=col>country</th><th scope=col>1999</th><th scope=col>2000</th></tr>\n",
       "\t<tr><th></th><th scope=col>&lt;chr&gt;</th><th scope=col>&lt;int&gt;</th><th scope=col>&lt;int&gt;</th></tr>\n",
       "</thead>\n",
       "<tbody>\n",
       "\t<tr><th scope=row>1</th><td>Afghanistan</td><td>   745</td><td>  2666</td></tr>\n",
       "\t<tr><th scope=row>2</th><td>Brazil     </td><td> 37737</td><td> 80488</td></tr>\n",
       "\t<tr><th scope=row>3</th><td>China      </td><td>212258</td><td>213766</td></tr>\n",
       "</tbody>\n",
       "</table>\n"
      ],
      "text/latex": [
       "A tibble: 3 × 3\n",
       "\\begin{tabular}{r|lll}\n",
       "  & country & 1999 & 2000\\\\\n",
       "  & <chr> & <int> & <int>\\\\\n",
       "\\hline\n",
       "\t1 & Afghanistan &    745 &   2666\\\\\n",
       "\t2 & Brazil      &  37737 &  80488\\\\\n",
       "\t3 & China       & 212258 & 213766\\\\\n",
       "\\end{tabular}\n"
      ],
      "text/markdown": [
       "\n",
       "A tibble: 3 × 3\n",
       "\n",
       "| <!--/--> | country &lt;chr&gt; | 1999 &lt;int&gt; | 2000 &lt;int&gt; |\n",
       "|---|---|---|---|\n",
       "| 1 | Afghanistan |    745 |   2666 |\n",
       "| 2 | Brazil      |  37737 |  80488 |\n",
       "| 3 | China       | 212258 | 213766 |\n",
       "\n"
      ],
      "text/plain": [
       "  country     1999   2000  \n",
       "1 Afghanistan    745   2666\n",
       "2 Brazil       37737  80488\n",
       "3 China       212258 213766"
      ]
     },
     "metadata": {},
     "output_type": "display_data"
    }
   ],
   "source": [
    "table4a"
   ]
  },
  {
   "cell_type": "code",
   "execution_count": 29,
   "id": "46c70225",
   "metadata": {},
   "outputs": [
    {
     "name": "stdout",
     "output_type": "stream",
     "text": [
      "\u001b[90m# A tibble: 2 x 3\u001b[39m\n",
      "  pregnant  male female\n",
      "  \u001b[3m\u001b[90m<chr>\u001b[39m\u001b[23m    \u001b[3m\u001b[90m<dbl>\u001b[39m\u001b[23m  \u001b[3m\u001b[90m<dbl>\u001b[39m\u001b[23m\n",
      "\u001b[90m1\u001b[39m yes         \u001b[31mNA\u001b[39m     10\n",
      "\u001b[90m2\u001b[39m no          20     12\n"
     ]
    }
   ],
   "source": [
    "# 4\n",
    "preg <- tribble(\n",
    "~pregnant, ~male, ~female,\n",
    "\"yes\", NA, 10,\n",
    "\"no\", 20, 12\n",
    ") %>% print()"
   ]
  },
  {
   "cell_type": "markdown",
   "id": "a9bcafc8",
   "metadata": {},
   "source": [
    "### separate() : 분리 "
   ]
  },
  {
   "cell_type": "code",
   "execution_count": 42,
   "id": "d37145cc",
   "metadata": {},
   "outputs": [
    {
     "data": {
      "text/html": [
       "<table class=\"dataframe\">\n",
       "<caption>A tibble: 6 × 3</caption>\n",
       "<thead>\n",
       "\t<tr><th></th><th scope=col>country</th><th scope=col>year</th><th scope=col>rate</th></tr>\n",
       "\t<tr><th></th><th scope=col>&lt;chr&gt;</th><th scope=col>&lt;int&gt;</th><th scope=col>&lt;chr&gt;</th></tr>\n",
       "</thead>\n",
       "<tbody>\n",
       "\t<tr><th scope=row>1</th><td>Afghanistan</td><td>1999</td><td>745/19987071     </td></tr>\n",
       "\t<tr><th scope=row>2</th><td>Afghanistan</td><td>2000</td><td>2666/20595360    </td></tr>\n",
       "\t<tr><th scope=row>3</th><td>Brazil     </td><td>1999</td><td>37737/172006362  </td></tr>\n",
       "\t<tr><th scope=row>4</th><td>Brazil     </td><td>2000</td><td>80488/174504898  </td></tr>\n",
       "\t<tr><th scope=row>5</th><td>China      </td><td>1999</td><td>212258/1272915272</td></tr>\n",
       "\t<tr><th scope=row>6</th><td>China      </td><td>2000</td><td>213766/1280428583</td></tr>\n",
       "</tbody>\n",
       "</table>\n"
      ],
      "text/latex": [
       "A tibble: 6 × 3\n",
       "\\begin{tabular}{r|lll}\n",
       "  & country & year & rate\\\\\n",
       "  & <chr> & <int> & <chr>\\\\\n",
       "\\hline\n",
       "\t1 & Afghanistan & 1999 & 745/19987071     \\\\\n",
       "\t2 & Afghanistan & 2000 & 2666/20595360    \\\\\n",
       "\t3 & Brazil      & 1999 & 37737/172006362  \\\\\n",
       "\t4 & Brazil      & 2000 & 80488/174504898  \\\\\n",
       "\t5 & China       & 1999 & 212258/1272915272\\\\\n",
       "\t6 & China       & 2000 & 213766/1280428583\\\\\n",
       "\\end{tabular}\n"
      ],
      "text/markdown": [
       "\n",
       "A tibble: 6 × 3\n",
       "\n",
       "| <!--/--> | country &lt;chr&gt; | year &lt;int&gt; | rate &lt;chr&gt; |\n",
       "|---|---|---|---|\n",
       "| 1 | Afghanistan | 1999 | 745/19987071      |\n",
       "| 2 | Afghanistan | 2000 | 2666/20595360     |\n",
       "| 3 | Brazil      | 1999 | 37737/172006362   |\n",
       "| 4 | Brazil      | 2000 | 80488/174504898   |\n",
       "| 5 | China       | 1999 | 212258/1272915272 |\n",
       "| 6 | China       | 2000 | 213766/1280428583 |\n",
       "\n"
      ],
      "text/plain": [
       "  country     year rate             \n",
       "1 Afghanistan 1999 745/19987071     \n",
       "2 Afghanistan 2000 2666/20595360    \n",
       "3 Brazil      1999 37737/172006362  \n",
       "4 Brazil      2000 80488/174504898  \n",
       "5 China       1999 212258/1272915272\n",
       "6 China       2000 213766/1280428583"
      ]
     },
     "metadata": {},
     "output_type": "display_data"
    }
   ],
   "source": [
    "table3"
   ]
  },
  {
   "cell_type": "code",
   "execution_count": 41,
   "id": "a6951631",
   "metadata": {},
   "outputs": [
    {
     "data": {
      "text/html": [
       "<table class=\"dataframe\">\n",
       "<caption>A tibble: 6 × 4</caption>\n",
       "<thead>\n",
       "\t<tr><th scope=col>country</th><th scope=col>year</th><th scope=col>cases</th><th scope=col>population</th></tr>\n",
       "\t<tr><th scope=col>&lt;chr&gt;</th><th scope=col>&lt;int&gt;</th><th scope=col>&lt;chr&gt;</th><th scope=col>&lt;chr&gt;</th></tr>\n",
       "</thead>\n",
       "<tbody>\n",
       "\t<tr><td>Afghanistan</td><td>1999</td><td>745   </td><td>19987071  </td></tr>\n",
       "\t<tr><td>Afghanistan</td><td>2000</td><td>2666  </td><td>20595360  </td></tr>\n",
       "\t<tr><td>Brazil     </td><td>1999</td><td>37737 </td><td>172006362 </td></tr>\n",
       "\t<tr><td>Brazil     </td><td>2000</td><td>80488 </td><td>174504898 </td></tr>\n",
       "\t<tr><td>China      </td><td>1999</td><td>212258</td><td>1272915272</td></tr>\n",
       "\t<tr><td>China      </td><td>2000</td><td>213766</td><td>1280428583</td></tr>\n",
       "</tbody>\n",
       "</table>\n"
      ],
      "text/latex": [
       "A tibble: 6 × 4\n",
       "\\begin{tabular}{llll}\n",
       " country & year & cases & population\\\\\n",
       " <chr> & <int> & <chr> & <chr>\\\\\n",
       "\\hline\n",
       "\t Afghanistan & 1999 & 745    & 19987071  \\\\\n",
       "\t Afghanistan & 2000 & 2666   & 20595360  \\\\\n",
       "\t Brazil      & 1999 & 37737  & 172006362 \\\\\n",
       "\t Brazil      & 2000 & 80488  & 174504898 \\\\\n",
       "\t China       & 1999 & 212258 & 1272915272\\\\\n",
       "\t China       & 2000 & 213766 & 1280428583\\\\\n",
       "\\end{tabular}\n"
      ],
      "text/markdown": [
       "\n",
       "A tibble: 6 × 4\n",
       "\n",
       "| country &lt;chr&gt; | year &lt;int&gt; | cases &lt;chr&gt; | population &lt;chr&gt; |\n",
       "|---|---|---|---|\n",
       "| Afghanistan | 1999 | 745    | 19987071   |\n",
       "| Afghanistan | 2000 | 2666   | 20595360   |\n",
       "| Brazil      | 1999 | 37737  | 172006362  |\n",
       "| Brazil      | 2000 | 80488  | 174504898  |\n",
       "| China       | 1999 | 212258 | 1272915272 |\n",
       "| China       | 2000 | 213766 | 1280428583 |\n",
       "\n"
      ],
      "text/plain": [
       "  country     year cases  population\n",
       "1 Afghanistan 1999 745    19987071  \n",
       "2 Afghanistan 2000 2666   20595360  \n",
       "3 Brazil      1999 37737  172006362 \n",
       "4 Brazil      2000 80488  174504898 \n",
       "5 China       1999 212258 1272915272\n",
       "6 China       2000 213766 1280428583"
      ]
     },
     "metadata": {},
     "output_type": "display_data"
    }
   ],
   "source": [
    "# rate열을 /기준으로 분리\n",
    "table3 %>% separate(rate, into = c(\"cases\", \"population\"), sep = \"/\")"
   ]
  },
  {
   "cell_type": "code",
   "execution_count": 40,
   "id": "2cf03d84",
   "metadata": {},
   "outputs": [
    {
     "data": {
      "text/html": [
       "<table class=\"dataframe\">\n",
       "<caption>A tibble: 6 × 4</caption>\n",
       "<thead>\n",
       "\t<tr><th scope=col>country</th><th scope=col>year</th><th scope=col>cases</th><th scope=col>population</th></tr>\n",
       "\t<tr><th scope=col>&lt;chr&gt;</th><th scope=col>&lt;int&gt;</th><th scope=col>&lt;int&gt;</th><th scope=col>&lt;int&gt;</th></tr>\n",
       "</thead>\n",
       "<tbody>\n",
       "\t<tr><td>Afghanistan</td><td>1999</td><td>   745</td><td>  19987071</td></tr>\n",
       "\t<tr><td>Afghanistan</td><td>2000</td><td>  2666</td><td>  20595360</td></tr>\n",
       "\t<tr><td>Brazil     </td><td>1999</td><td> 37737</td><td> 172006362</td></tr>\n",
       "\t<tr><td>Brazil     </td><td>2000</td><td> 80488</td><td> 174504898</td></tr>\n",
       "\t<tr><td>China      </td><td>1999</td><td>212258</td><td>1272915272</td></tr>\n",
       "\t<tr><td>China      </td><td>2000</td><td>213766</td><td>1280428583</td></tr>\n",
       "</tbody>\n",
       "</table>\n"
      ],
      "text/latex": [
       "A tibble: 6 × 4\n",
       "\\begin{tabular}{llll}\n",
       " country & year & cases & population\\\\\n",
       " <chr> & <int> & <int> & <int>\\\\\n",
       "\\hline\n",
       "\t Afghanistan & 1999 &    745 &   19987071\\\\\n",
       "\t Afghanistan & 2000 &   2666 &   20595360\\\\\n",
       "\t Brazil      & 1999 &  37737 &  172006362\\\\\n",
       "\t Brazil      & 2000 &  80488 &  174504898\\\\\n",
       "\t China       & 1999 & 212258 & 1272915272\\\\\n",
       "\t China       & 2000 & 213766 & 1280428583\\\\\n",
       "\\end{tabular}\n"
      ],
      "text/markdown": [
       "\n",
       "A tibble: 6 × 4\n",
       "\n",
       "| country &lt;chr&gt; | year &lt;int&gt; | cases &lt;int&gt; | population &lt;int&gt; |\n",
       "|---|---|---|---|\n",
       "| Afghanistan | 1999 |    745 |   19987071 |\n",
       "| Afghanistan | 2000 |   2666 |   20595360 |\n",
       "| Brazil      | 1999 |  37737 |  172006362 |\n",
       "| Brazil      | 2000 |  80488 |  174504898 |\n",
       "| China       | 1999 | 212258 | 1272915272 |\n",
       "| China       | 2000 | 213766 | 1280428583 |\n",
       "\n"
      ],
      "text/plain": [
       "  country     year cases  population\n",
       "1 Afghanistan 1999    745   19987071\n",
       "2 Afghanistan 2000   2666   20595360\n",
       "3 Brazil      1999  37737  172006362\n",
       "4 Brazil      2000  80488  174504898\n",
       "5 China       1999 212258 1272915272\n",
       "6 China       2000 213766 1280428583"
      ]
     },
     "metadata": {},
     "output_type": "display_data"
    }
   ],
   "source": [
    "table3 %>% separate(rate, into = c(\"cases\", \"population\"), convert = T)"
   ]
  },
  {
   "cell_type": "code",
   "execution_count": 49,
   "id": "6a3008ca",
   "metadata": {},
   "outputs": [
    {
     "data": {
      "text/html": [
       "<table class=\"dataframe\">\n",
       "<caption>A tibble: 6 × 4</caption>\n",
       "<thead>\n",
       "\t<tr><th scope=col>country</th><th scope=col>century</th><th scope=col>year</th><th scope=col>rate</th></tr>\n",
       "\t<tr><th scope=col>&lt;chr&gt;</th><th scope=col>&lt;chr&gt;</th><th scope=col>&lt;chr&gt;</th><th scope=col>&lt;chr&gt;</th></tr>\n",
       "</thead>\n",
       "<tbody>\n",
       "\t<tr><td>Afghanistan</td><td>19</td><td>99</td><td>745/19987071     </td></tr>\n",
       "\t<tr><td>Afghanistan</td><td>20</td><td>00</td><td>2666/20595360    </td></tr>\n",
       "\t<tr><td>Brazil     </td><td>19</td><td>99</td><td>37737/172006362  </td></tr>\n",
       "\t<tr><td>Brazil     </td><td>20</td><td>00</td><td>80488/174504898  </td></tr>\n",
       "\t<tr><td>China      </td><td>19</td><td>99</td><td>212258/1272915272</td></tr>\n",
       "\t<tr><td>China      </td><td>20</td><td>00</td><td>213766/1280428583</td></tr>\n",
       "</tbody>\n",
       "</table>\n"
      ],
      "text/latex": [
       "A tibble: 6 × 4\n",
       "\\begin{tabular}{llll}\n",
       " country & century & year & rate\\\\\n",
       " <chr> & <chr> & <chr> & <chr>\\\\\n",
       "\\hline\n",
       "\t Afghanistan & 19 & 99 & 745/19987071     \\\\\n",
       "\t Afghanistan & 20 & 00 & 2666/20595360    \\\\\n",
       "\t Brazil      & 19 & 99 & 37737/172006362  \\\\\n",
       "\t Brazil      & 20 & 00 & 80488/174504898  \\\\\n",
       "\t China       & 19 & 99 & 212258/1272915272\\\\\n",
       "\t China       & 20 & 00 & 213766/1280428583\\\\\n",
       "\\end{tabular}\n"
      ],
      "text/markdown": [
       "\n",
       "A tibble: 6 × 4\n",
       "\n",
       "| country &lt;chr&gt; | century &lt;chr&gt; | year &lt;chr&gt; | rate &lt;chr&gt; |\n",
       "|---|---|---|---|\n",
       "| Afghanistan | 19 | 99 | 745/19987071      |\n",
       "| Afghanistan | 20 | 00 | 2666/20595360     |\n",
       "| Brazil      | 19 | 99 | 37737/172006362   |\n",
       "| Brazil      | 20 | 00 | 80488/174504898   |\n",
       "| China       | 19 | 99 | 212258/1272915272 |\n",
       "| China       | 20 | 00 | 213766/1280428583 |\n",
       "\n"
      ],
      "text/plain": [
       "  country     century year rate             \n",
       "1 Afghanistan 19      99   745/19987071     \n",
       "2 Afghanistan 20      00   2666/20595360    \n",
       "3 Brazil      19      99   37737/172006362  \n",
       "4 Brazil      20      00   80488/174504898  \n",
       "5 China       19      99   212258/1272915272\n",
       "6 China       20      00   213766/1280428583"
      ]
     },
     "metadata": {},
     "output_type": "display_data"
    }
   ],
   "source": [
    "# year열을 2글자기준으로 century열과 year열로 분리\n",
    "table3 %>% separate(year, into = c(\"century\", \"year\"), sep = 2)"
   ]
  },
  {
   "cell_type": "markdown",
   "id": "229e3dfb",
   "metadata": {},
   "source": [
    "### unite() : 결합 "
   ]
  },
  {
   "cell_type": "code",
   "execution_count": 50,
   "id": "f0433dad",
   "metadata": {},
   "outputs": [
    {
     "data": {
      "text/html": [
       "<table class=\"dataframe\">\n",
       "<caption>A tibble: 6 × 4</caption>\n",
       "<thead>\n",
       "\t<tr><th></th><th scope=col>country</th><th scope=col>century</th><th scope=col>year</th><th scope=col>rate</th></tr>\n",
       "\t<tr><th></th><th scope=col>&lt;chr&gt;</th><th scope=col>&lt;chr&gt;</th><th scope=col>&lt;chr&gt;</th><th scope=col>&lt;chr&gt;</th></tr>\n",
       "</thead>\n",
       "<tbody>\n",
       "\t<tr><th scope=row>1</th><td>Afghanistan</td><td>19</td><td>99</td><td>745/19987071     </td></tr>\n",
       "\t<tr><th scope=row>2</th><td>Afghanistan</td><td>20</td><td>00</td><td>2666/20595360    </td></tr>\n",
       "\t<tr><th scope=row>3</th><td>Brazil     </td><td>19</td><td>99</td><td>37737/172006362  </td></tr>\n",
       "\t<tr><th scope=row>4</th><td>Brazil     </td><td>20</td><td>00</td><td>80488/174504898  </td></tr>\n",
       "\t<tr><th scope=row>5</th><td>China      </td><td>19</td><td>99</td><td>212258/1272915272</td></tr>\n",
       "\t<tr><th scope=row>6</th><td>China      </td><td>20</td><td>00</td><td>213766/1280428583</td></tr>\n",
       "</tbody>\n",
       "</table>\n"
      ],
      "text/latex": [
       "A tibble: 6 × 4\n",
       "\\begin{tabular}{r|llll}\n",
       "  & country & century & year & rate\\\\\n",
       "  & <chr> & <chr> & <chr> & <chr>\\\\\n",
       "\\hline\n",
       "\t1 & Afghanistan & 19 & 99 & 745/19987071     \\\\\n",
       "\t2 & Afghanistan & 20 & 00 & 2666/20595360    \\\\\n",
       "\t3 & Brazil      & 19 & 99 & 37737/172006362  \\\\\n",
       "\t4 & Brazil      & 20 & 00 & 80488/174504898  \\\\\n",
       "\t5 & China       & 19 & 99 & 212258/1272915272\\\\\n",
       "\t6 & China       & 20 & 00 & 213766/1280428583\\\\\n",
       "\\end{tabular}\n"
      ],
      "text/markdown": [
       "\n",
       "A tibble: 6 × 4\n",
       "\n",
       "| <!--/--> | country &lt;chr&gt; | century &lt;chr&gt; | year &lt;chr&gt; | rate &lt;chr&gt; |\n",
       "|---|---|---|---|---|\n",
       "| 1 | Afghanistan | 19 | 99 | 745/19987071      |\n",
       "| 2 | Afghanistan | 20 | 00 | 2666/20595360     |\n",
       "| 3 | Brazil      | 19 | 99 | 37737/172006362   |\n",
       "| 4 | Brazil      | 20 | 00 | 80488/174504898   |\n",
       "| 5 | China       | 19 | 99 | 212258/1272915272 |\n",
       "| 6 | China       | 20 | 00 | 213766/1280428583 |\n",
       "\n"
      ],
      "text/plain": [
       "  country     century year rate             \n",
       "1 Afghanistan 19      99   745/19987071     \n",
       "2 Afghanistan 20      00   2666/20595360    \n",
       "3 Brazil      19      99   37737/172006362  \n",
       "4 Brazil      20      00   80488/174504898  \n",
       "5 China       19      99   212258/1272915272\n",
       "6 China       20      00   213766/1280428583"
      ]
     },
     "metadata": {},
     "output_type": "display_data"
    }
   ],
   "source": [
    "table5"
   ]
  },
  {
   "cell_type": "code",
   "execution_count": 52,
   "id": "cafb0fa6",
   "metadata": {},
   "outputs": [
    {
     "data": {
      "text/html": [
       "<table class=\"dataframe\">\n",
       "<caption>A tibble: 6 × 3</caption>\n",
       "<thead>\n",
       "\t<tr><th scope=col>country</th><th scope=col>new</th><th scope=col>rate</th></tr>\n",
       "\t<tr><th scope=col>&lt;chr&gt;</th><th scope=col>&lt;chr&gt;</th><th scope=col>&lt;chr&gt;</th></tr>\n",
       "</thead>\n",
       "<tbody>\n",
       "\t<tr><td>Afghanistan</td><td>1999</td><td>745/19987071     </td></tr>\n",
       "\t<tr><td>Afghanistan</td><td>2000</td><td>2666/20595360    </td></tr>\n",
       "\t<tr><td>Brazil     </td><td>1999</td><td>37737/172006362  </td></tr>\n",
       "\t<tr><td>Brazil     </td><td>2000</td><td>80488/174504898  </td></tr>\n",
       "\t<tr><td>China      </td><td>1999</td><td>212258/1272915272</td></tr>\n",
       "\t<tr><td>China      </td><td>2000</td><td>213766/1280428583</td></tr>\n",
       "</tbody>\n",
       "</table>\n"
      ],
      "text/latex": [
       "A tibble: 6 × 3\n",
       "\\begin{tabular}{lll}\n",
       " country & new & rate\\\\\n",
       " <chr> & <chr> & <chr>\\\\\n",
       "\\hline\n",
       "\t Afghanistan & 1999 & 745/19987071     \\\\\n",
       "\t Afghanistan & 2000 & 2666/20595360    \\\\\n",
       "\t Brazil      & 1999 & 37737/172006362  \\\\\n",
       "\t Brazil      & 2000 & 80488/174504898  \\\\\n",
       "\t China       & 1999 & 212258/1272915272\\\\\n",
       "\t China       & 2000 & 213766/1280428583\\\\\n",
       "\\end{tabular}\n"
      ],
      "text/markdown": [
       "\n",
       "A tibble: 6 × 3\n",
       "\n",
       "| country &lt;chr&gt; | new &lt;chr&gt; | rate &lt;chr&gt; |\n",
       "|---|---|---|\n",
       "| Afghanistan | 1999 | 745/19987071      |\n",
       "| Afghanistan | 2000 | 2666/20595360     |\n",
       "| Brazil      | 1999 | 37737/172006362   |\n",
       "| Brazil      | 2000 | 80488/174504898   |\n",
       "| China       | 1999 | 212258/1272915272 |\n",
       "| China       | 2000 | 213766/1280428583 |\n",
       "\n"
      ],
      "text/plain": [
       "  country     new  rate             \n",
       "1 Afghanistan 1999 745/19987071     \n",
       "2 Afghanistan 2000 2666/20595360    \n",
       "3 Brazil      1999 37737/172006362  \n",
       "4 Brazil      2000 80488/174504898  \n",
       "5 China       1999 212258/1272915272\n",
       "6 China       2000 213766/1280428583"
      ]
     },
     "metadata": {},
     "output_type": "display_data"
    }
   ],
   "source": [
    "# century열과 year열을 \"\"기준으로 결합하여 new열생성\n",
    "table5 %>% unite(new, century, year, sep = \"\")"
   ]
  },
  {
   "cell_type": "code",
   "execution_count": null,
   "id": "f51f7fc5",
   "metadata": {},
   "outputs": [],
   "source": [
    "# 9.4.3\n",
    "# 1 \n",
    "tibble(x = c(\"a,b,c\", \"d,e,f,g\", \"h,i,j\")) %>%\n",
    "  separate(x, c(\"one\", \"two\", \"three\"))\n",
    "tibble(x = c(\"a,b,c\", \"d,e\", \"f,g,i\")) %>%\n",
    "  separate(x, c(\"one\", \"two\", \"three\"))\n",
    "tibble(x = c(\"a,b,c\", \"d,e,f,g\", \"h,i,j\")) %>%\n",
    "  separate(x, c(\"one\", \"two\", \"three\"))\n",
    "tibble(x = c(\"a,b,c\", \"d,e,f,g\", \"h,i,j\")) %>%\n",
    "  separate(x, c(\"one\", \"two\", \"three\"), extra = \"drop\") # separate하고 남는 값들은 drop\n",
    "tibble(x = c(\"a,b,c\", \"d,e,f,g\", \"h,i,j\")) %>%\n",
    "  separate(x, c(\"one\", \"two\", \"three\"), extra = \"merge\") # separate하고 남는 값들은 merge"
   ]
  },
  {
   "cell_type": "code",
   "execution_count": 66,
   "id": "f288184e",
   "metadata": {},
   "outputs": [
    {
     "data": {
      "text/html": [
       "<table class=\"dataframe\">\n",
       "<caption>A tibble: 3 × 3</caption>\n",
       "<thead>\n",
       "\t<tr><th scope=col>one</th><th scope=col>two</th><th scope=col>three</th></tr>\n",
       "\t<tr><th scope=col>&lt;chr&gt;</th><th scope=col>&lt;chr&gt;</th><th scope=col>&lt;chr&gt;</th></tr>\n",
       "</thead>\n",
       "<tbody>\n",
       "\t<tr><td>a</td><td>b</td><td>c </td></tr>\n",
       "\t<tr><td>d</td><td>e</td><td>NA</td></tr>\n",
       "\t<tr><td>f</td><td>g</td><td>i </td></tr>\n",
       "</tbody>\n",
       "</table>\n"
      ],
      "text/latex": [
       "A tibble: 3 × 3\n",
       "\\begin{tabular}{lll}\n",
       " one & two & three\\\\\n",
       " <chr> & <chr> & <chr>\\\\\n",
       "\\hline\n",
       "\t a & b & c \\\\\n",
       "\t d & e & NA\\\\\n",
       "\t f & g & i \\\\\n",
       "\\end{tabular}\n"
      ],
      "text/markdown": [
       "\n",
       "A tibble: 3 × 3\n",
       "\n",
       "| one &lt;chr&gt; | two &lt;chr&gt; | three &lt;chr&gt; |\n",
       "|---|---|---|\n",
       "| a | b | c  |\n",
       "| d | e | NA |\n",
       "| f | g | i  |\n",
       "\n"
      ],
      "text/plain": [
       "  one two three\n",
       "1 a   b   c    \n",
       "2 d   e   NA   \n",
       "3 f   g   i    "
      ]
     },
     "metadata": {},
     "output_type": "display_data"
    }
   ],
   "source": [
    "tibble(x = c(\"a,b,c\", \"d,e\", \"f,g,i\")) %>%\n",
    "  separate(x, c(\"one\", \"two\", \"three\"), fill = \"right\") # 결측값을 오른쪽으로 채움"
   ]
  },
  {
   "cell_type": "code",
   "execution_count": 67,
   "id": "cc23234e",
   "metadata": {},
   "outputs": [
    {
     "data": {
      "text/html": [
       "<table class=\"dataframe\">\n",
       "<caption>A tibble: 3 × 3</caption>\n",
       "<thead>\n",
       "\t<tr><th scope=col>one</th><th scope=col>two</th><th scope=col>three</th></tr>\n",
       "\t<tr><th scope=col>&lt;chr&gt;</th><th scope=col>&lt;chr&gt;</th><th scope=col>&lt;chr&gt;</th></tr>\n",
       "</thead>\n",
       "<tbody>\n",
       "\t<tr><td>a </td><td>b</td><td>c</td></tr>\n",
       "\t<tr><td>NA</td><td>d</td><td>e</td></tr>\n",
       "\t<tr><td>f </td><td>g</td><td>i</td></tr>\n",
       "</tbody>\n",
       "</table>\n"
      ],
      "text/latex": [
       "A tibble: 3 × 3\n",
       "\\begin{tabular}{lll}\n",
       " one & two & three\\\\\n",
       " <chr> & <chr> & <chr>\\\\\n",
       "\\hline\n",
       "\t a  & b & c\\\\\n",
       "\t NA & d & e\\\\\n",
       "\t f  & g & i\\\\\n",
       "\\end{tabular}\n"
      ],
      "text/markdown": [
       "\n",
       "A tibble: 3 × 3\n",
       "\n",
       "| one &lt;chr&gt; | two &lt;chr&gt; | three &lt;chr&gt; |\n",
       "|---|---|---|\n",
       "| a  | b | c |\n",
       "| NA | d | e |\n",
       "| f  | g | i |\n",
       "\n"
      ],
      "text/plain": [
       "  one two three\n",
       "1 a   b   c    \n",
       "2 NA  d   e    \n",
       "3 f   g   i    "
      ]
     },
     "metadata": {},
     "output_type": "display_data"
    }
   ],
   "source": [
    "tibble(x = c(\"a,b,c\", \"d,e\", \"f,g,i\")) %>%\n",
    "  separate(x, c(\"one\", \"two\", \"three\"), fill = \"left\") # 결측값을 왼쪽으로 채움"
   ]
  },
  {
   "cell_type": "markdown",
   "id": "7b0b72ab",
   "metadata": {},
   "source": [
    "### extract()"
   ]
  },
  {
   "cell_type": "code",
   "execution_count": 80,
   "id": "b79a4e69",
   "metadata": {},
   "outputs": [
    {
     "data": {
      "text/html": [
       "<table class=\"dataframe\">\n",
       "<caption>A tibble: 4 × 2</caption>\n",
       "<thead>\n",
       "\t<tr><th scope=col>variable</th><th scope=col>into</th></tr>\n",
       "\t<tr><th scope=col>&lt;chr&gt;</th><th scope=col>&lt;chr&gt;</th></tr>\n",
       "</thead>\n",
       "<tbody>\n",
       "\t<tr><td>X </td><td>1</td></tr>\n",
       "\t<tr><td>X </td><td>2</td></tr>\n",
       "\t<tr><td>AA</td><td>1</td></tr>\n",
       "\t<tr><td>AA</td><td>2</td></tr>\n",
       "</tbody>\n",
       "</table>\n"
      ],
      "text/latex": [
       "A tibble: 4 × 2\n",
       "\\begin{tabular}{ll}\n",
       " variable & into\\\\\n",
       " <chr> & <chr>\\\\\n",
       "\\hline\n",
       "\t X  & 1\\\\\n",
       "\t X  & 2\\\\\n",
       "\t AA & 1\\\\\n",
       "\t AA & 2\\\\\n",
       "\\end{tabular}\n"
      ],
      "text/markdown": [
       "\n",
       "A tibble: 4 × 2\n",
       "\n",
       "| variable &lt;chr&gt; | into &lt;chr&gt; |\n",
       "|---|---|\n",
       "| X  | 1 |\n",
       "| X  | 2 |\n",
       "| AA | 1 |\n",
       "| AA | 2 |\n",
       "\n"
      ],
      "text/plain": [
       "  variable into\n",
       "1 X        1   \n",
       "2 X        2   \n",
       "3 AA       1   \n",
       "4 AA       2   "
      ]
     },
     "metadata": {},
     "output_type": "display_data"
    },
    {
     "data": {
      "text/html": [
       "<table class=\"dataframe\">\n",
       "<caption>A tibble: 4 × 2</caption>\n",
       "<thead>\n",
       "\t<tr><th scope=col>variable</th><th scope=col>into</th></tr>\n",
       "\t<tr><th scope=col>&lt;chr&gt;</th><th scope=col>&lt;chr&gt;</th></tr>\n",
       "</thead>\n",
       "<tbody>\n",
       "\t<tr><td>X</td><td>1</td></tr>\n",
       "\t<tr><td>X</td><td>2</td></tr>\n",
       "\t<tr><td>Y</td><td>1</td></tr>\n",
       "\t<tr><td>Y</td><td>2</td></tr>\n",
       "</tbody>\n",
       "</table>\n"
      ],
      "text/latex": [
       "A tibble: 4 × 2\n",
       "\\begin{tabular}{ll}\n",
       " variable & into\\\\\n",
       " <chr> & <chr>\\\\\n",
       "\\hline\n",
       "\t X & 1\\\\\n",
       "\t X & 2\\\\\n",
       "\t Y & 1\\\\\n",
       "\t Y & 2\\\\\n",
       "\\end{tabular}\n"
      ],
      "text/markdown": [
       "\n",
       "A tibble: 4 × 2\n",
       "\n",
       "| variable &lt;chr&gt; | into &lt;chr&gt; |\n",
       "|---|---|\n",
       "| X | 1 |\n",
       "| X | 2 |\n",
       "| Y | 1 |\n",
       "| Y | 2 |\n",
       "\n"
      ],
      "text/plain": [
       "  variable into\n",
       "1 X        1   \n",
       "2 X        2   \n",
       "3 Y        1   \n",
       "4 Y        2   "
      ]
     },
     "metadata": {},
     "output_type": "display_data"
    }
   ],
   "source": [
    "# 3\n",
    "tibble(x = c(\"X_1\", \"X_2\", \"AA_1\", \"AA_2\")) %>%\n",
    "  separate(x, c(\"variable\", \"into\"), sep = \"_\")\n",
    "tibble(x = c(\"X1\", \"X2\", \"Y1\", \"Y2\")) %>%\n",
    "  separate(x, c(\"variable\", \"into\"), sep = 1)"
   ]
  },
  {
   "cell_type": "code",
   "execution_count": 79,
   "id": "f2cecf90",
   "metadata": {},
   "outputs": [
    {
     "data": {
      "text/html": [
       "<table class=\"dataframe\">\n",
       "<caption>A tibble: 4 × 2</caption>\n",
       "<thead>\n",
       "\t<tr><th scope=col>variable</th><th scope=col>id</th></tr>\n",
       "\t<tr><th scope=col>&lt;chr&gt;</th><th scope=col>&lt;chr&gt;</th></tr>\n",
       "</thead>\n",
       "<tbody>\n",
       "\t<tr><td>X</td><td>1</td></tr>\n",
       "\t<tr><td>X</td><td>2</td></tr>\n",
       "\t<tr><td>A</td><td>1</td></tr>\n",
       "\t<tr><td>A</td><td>2</td></tr>\n",
       "</tbody>\n",
       "</table>\n"
      ],
      "text/latex": [
       "A tibble: 4 × 2\n",
       "\\begin{tabular}{ll}\n",
       " variable & id\\\\\n",
       " <chr> & <chr>\\\\\n",
       "\\hline\n",
       "\t X & 1\\\\\n",
       "\t X & 2\\\\\n",
       "\t A & 1\\\\\n",
       "\t A & 2\\\\\n",
       "\\end{tabular}\n"
      ],
      "text/markdown": [
       "\n",
       "A tibble: 4 × 2\n",
       "\n",
       "| variable &lt;chr&gt; | id &lt;chr&gt; |\n",
       "|---|---|\n",
       "| X | 1 |\n",
       "| X | 2 |\n",
       "| A | 1 |\n",
       "| A | 2 |\n",
       "\n"
      ],
      "text/plain": [
       "  variable id\n",
       "1 X        1 \n",
       "2 X        2 \n",
       "3 A        1 \n",
       "4 A        2 "
      ]
     },
     "metadata": {},
     "output_type": "display_data"
    },
    {
     "data": {
      "text/html": [
       "<table class=\"dataframe\">\n",
       "<caption>A tibble: 4 × 2</caption>\n",
       "<thead>\n",
       "\t<tr><th scope=col>variable</th><th scope=col>id</th></tr>\n",
       "\t<tr><th scope=col>&lt;chr&gt;</th><th scope=col>&lt;chr&gt;</th></tr>\n",
       "</thead>\n",
       "<tbody>\n",
       "\t<tr><td>X</td><td>1</td></tr>\n",
       "\t<tr><td>X</td><td>2</td></tr>\n",
       "\t<tr><td>Y</td><td>1</td></tr>\n",
       "\t<tr><td>Y</td><td>2</td></tr>\n",
       "</tbody>\n",
       "</table>\n"
      ],
      "text/latex": [
       "A tibble: 4 × 2\n",
       "\\begin{tabular}{ll}\n",
       " variable & id\\\\\n",
       " <chr> & <chr>\\\\\n",
       "\\hline\n",
       "\t X & 1\\\\\n",
       "\t X & 2\\\\\n",
       "\t Y & 1\\\\\n",
       "\t Y & 2\\\\\n",
       "\\end{tabular}\n"
      ],
      "text/markdown": [
       "\n",
       "A tibble: 4 × 2\n",
       "\n",
       "| variable &lt;chr&gt; | id &lt;chr&gt; |\n",
       "|---|---|\n",
       "| X | 1 |\n",
       "| X | 2 |\n",
       "| Y | 1 |\n",
       "| Y | 2 |\n",
       "\n"
      ],
      "text/plain": [
       "  variable id\n",
       "1 X        1 \n",
       "2 X        2 \n",
       "3 Y        1 \n",
       "4 Y        2 "
      ]
     },
     "metadata": {},
     "output_type": "display_data"
    },
    {
     "data": {
      "text/html": [
       "<table class=\"dataframe\">\n",
       "<caption>A tibble: 4 × 2</caption>\n",
       "<thead>\n",
       "\t<tr><th scope=col>variable</th><th scope=col>id</th></tr>\n",
       "\t<tr><th scope=col>&lt;chr&gt;</th><th scope=col>&lt;chr&gt;</th></tr>\n",
       "</thead>\n",
       "<tbody>\n",
       "\t<tr><td>X </td><td>1 </td></tr>\n",
       "\t<tr><td>X </td><td>20</td></tr>\n",
       "\t<tr><td>AA</td><td>11</td></tr>\n",
       "\t<tr><td>AA</td><td>2 </td></tr>\n",
       "</tbody>\n",
       "</table>\n"
      ],
      "text/latex": [
       "A tibble: 4 × 2\n",
       "\\begin{tabular}{ll}\n",
       " variable & id\\\\\n",
       " <chr> & <chr>\\\\\n",
       "\\hline\n",
       "\t X  & 1 \\\\\n",
       "\t X  & 20\\\\\n",
       "\t AA & 11\\\\\n",
       "\t AA & 2 \\\\\n",
       "\\end{tabular}\n"
      ],
      "text/markdown": [
       "\n",
       "A tibble: 4 × 2\n",
       "\n",
       "| variable &lt;chr&gt; | id &lt;chr&gt; |\n",
       "|---|---|\n",
       "| X  | 1  |\n",
       "| X  | 20 |\n",
       "| AA | 11 |\n",
       "| AA | 2  |\n",
       "\n"
      ],
      "text/plain": [
       "  variable id\n",
       "1 X        1 \n",
       "2 X        20\n",
       "3 AA       11\n",
       "4 AA       2 "
      ]
     },
     "metadata": {},
     "output_type": "display_data"
    }
   ],
   "source": [
    "tibble(x = c(\"X_1\", \"X_2\", \"AA_1\", \"AA_2\")) %>%\n",
    "  extract(x, c(\"variable\", \"id\"), regex = \"([A-Z])_([0-9])\")\n",
    "tibble(x = c(\"X1\", \"X2\", \"Y1\", \"Y2\")) %>%\n",
    "  extract(x, c(\"variable\", \"id\"), regex = \"([A-Z])([0-9])\")\n",
    "tibble(x = c(\"X1\", \"X20\", \"AA11\", \"AA2\")) %>%\n",
    "  extract(x, c(\"variable\", \"id\"), regex = \"([A-Z]+)([0-9]+)\")"
   ]
  },
  {
   "cell_type": "code",
   "execution_count": 81,
   "id": "0fc9613d",
   "metadata": {},
   "outputs": [
    {
     "data": {
      "text/html": [
       "<table class=\"dataframe\">\n",
       "<caption>A tibble: 4 × 1</caption>\n",
       "<thead>\n",
       "\t<tr><th scope=col>x</th></tr>\n",
       "\t<tr><th scope=col>&lt;chr&gt;</th></tr>\n",
       "</thead>\n",
       "<tbody>\n",
       "\t<tr><td>X_1</td></tr>\n",
       "\t<tr><td>X_2</td></tr>\n",
       "\t<tr><td>Y_1</td></tr>\n",
       "\t<tr><td>Y_2</td></tr>\n",
       "</tbody>\n",
       "</table>\n"
      ],
      "text/latex": [
       "A tibble: 4 × 1\n",
       "\\begin{tabular}{l}\n",
       " x\\\\\n",
       " <chr>\\\\\n",
       "\\hline\n",
       "\t X\\_1\\\\\n",
       "\t X\\_2\\\\\n",
       "\t Y\\_1\\\\\n",
       "\t Y\\_2\\\\\n",
       "\\end{tabular}\n"
      ],
      "text/markdown": [
       "\n",
       "A tibble: 4 × 1\n",
       "\n",
       "| x &lt;chr&gt; |\n",
       "|---|\n",
       "| X_1 |\n",
       "| X_2 |\n",
       "| Y_1 |\n",
       "| Y_2 |\n",
       "\n"
      ],
      "text/plain": [
       "  x  \n",
       "1 X_1\n",
       "2 X_2\n",
       "3 Y_1\n",
       "4 Y_2"
      ]
     },
     "metadata": {},
     "output_type": "display_data"
    }
   ],
   "source": [
    "tibble(variable = c(\"X\", \"X\", \"Y\", \"Y\"), id = c(1, 2, 1, 2)) %>%\n",
    "  unite(x, variable, id, sep = \"_\")"
   ]
  },
  {
   "cell_type": "markdown",
   "id": "8bf38496",
   "metadata": {},
   "source": [
    "### 결측값\n",
    "- 명시적 결측값 : NA로 표시\n",
    "- 암묵적 결측값 : 단순히 데이터에 존재하지 않음"
   ]
  },
  {
   "cell_type": "code",
   "execution_count": 83,
   "id": "167e9833",
   "metadata": {},
   "outputs": [
    {
     "name": "stdout",
     "output_type": "stream",
     "text": [
      "\u001b[90m# A tibble: 7 x 3\u001b[39m\n",
      "   year   qtr return\n",
      "  \u001b[3m\u001b[90m<dbl>\u001b[39m\u001b[23m \u001b[3m\u001b[90m<dbl>\u001b[39m\u001b[23m  \u001b[3m\u001b[90m<dbl>\u001b[39m\u001b[23m\n",
      "\u001b[90m1\u001b[39m  \u001b[4m2\u001b[24m015     1   1.88\n",
      "\u001b[90m2\u001b[39m  \u001b[4m2\u001b[24m015     2   0.59\n",
      "\u001b[90m3\u001b[39m  \u001b[4m2\u001b[24m015     3   0.35\n",
      "\u001b[90m4\u001b[39m  \u001b[4m2\u001b[24m015     4  \u001b[31mNA\u001b[39m   \n",
      "\u001b[90m5\u001b[39m  \u001b[4m2\u001b[24m016     2   0.92\n",
      "\u001b[90m6\u001b[39m  \u001b[4m2\u001b[24m016     3   0.17\n",
      "\u001b[90m7\u001b[39m  \u001b[4m2\u001b[24m016     4   2.66\n"
     ]
    }
   ],
   "source": [
    "stocks <- tibble(\n",
    "year = c(2015, 2015, 2015, 2015, 2016, 2016, 2016),\n",
    "qtr = c(1, 2, 3, 4, 2, 3, 4),\n",
    "return = c(1.88, 0.59, 0.35, NA, 0.92, 0.17, 2.66)) %>% print()"
   ]
  },
  {
   "cell_type": "markdown",
   "id": "2dfe89a4",
   "metadata": {},
   "source": [
    "- 명시적 결측값 : 2015년 4분기\n",
    "- 암묵적 결측값 : 2016년 1분기"
   ]
  },
  {
   "cell_type": "code",
   "execution_count": 84,
   "id": "b643c510",
   "metadata": {},
   "outputs": [
    {
     "data": {
      "text/html": [
       "<table class=\"dataframe\">\n",
       "<caption>A tibble: 4 × 3</caption>\n",
       "<thead>\n",
       "\t<tr><th scope=col>qtr</th><th scope=col>2015</th><th scope=col>2016</th></tr>\n",
       "\t<tr><th scope=col>&lt;dbl&gt;</th><th scope=col>&lt;dbl&gt;</th><th scope=col>&lt;dbl&gt;</th></tr>\n",
       "</thead>\n",
       "<tbody>\n",
       "\t<tr><td>1</td><td>1.88</td><td>  NA</td></tr>\n",
       "\t<tr><td>2</td><td>0.59</td><td>0.92</td></tr>\n",
       "\t<tr><td>3</td><td>0.35</td><td>0.17</td></tr>\n",
       "\t<tr><td>4</td><td>  NA</td><td>2.66</td></tr>\n",
       "</tbody>\n",
       "</table>\n"
      ],
      "text/latex": [
       "A tibble: 4 × 3\n",
       "\\begin{tabular}{lll}\n",
       " qtr & 2015 & 2016\\\\\n",
       " <dbl> & <dbl> & <dbl>\\\\\n",
       "\\hline\n",
       "\t 1 & 1.88 &   NA\\\\\n",
       "\t 2 & 0.59 & 0.92\\\\\n",
       "\t 3 & 0.35 & 0.17\\\\\n",
       "\t 4 &   NA & 2.66\\\\\n",
       "\\end{tabular}\n"
      ],
      "text/markdown": [
       "\n",
       "A tibble: 4 × 3\n",
       "\n",
       "| qtr &lt;dbl&gt; | 2015 &lt;dbl&gt; | 2016 &lt;dbl&gt; |\n",
       "|---|---|---|\n",
       "| 1 | 1.88 |   NA |\n",
       "| 2 | 0.59 | 0.92 |\n",
       "| 3 | 0.35 | 0.17 |\n",
       "| 4 |   NA | 2.66 |\n",
       "\n"
      ],
      "text/plain": [
       "  qtr 2015 2016\n",
       "1 1   1.88   NA\n",
       "2 2   0.59 0.92\n",
       "3 3   0.35 0.17\n",
       "4 4     NA 2.66"
      ]
     },
     "metadata": {},
     "output_type": "display_data"
    }
   ],
   "source": [
    "# 암묵적 결측값을 명시적 결측값으로\n",
    "stocks %>% spread(year, return)"
   ]
  },
  {
   "cell_type": "code",
   "execution_count": 85,
   "id": "b10123fd",
   "metadata": {},
   "outputs": [
    {
     "data": {
      "text/html": [
       "<table class=\"dataframe\">\n",
       "<caption>A tibble: 6 × 3</caption>\n",
       "<thead>\n",
       "\t<tr><th scope=col>qtr</th><th scope=col>year</th><th scope=col>return</th></tr>\n",
       "\t<tr><th scope=col>&lt;dbl&gt;</th><th scope=col>&lt;chr&gt;</th><th scope=col>&lt;dbl&gt;</th></tr>\n",
       "</thead>\n",
       "<tbody>\n",
       "\t<tr><td>1</td><td>2015</td><td>1.88</td></tr>\n",
       "\t<tr><td>2</td><td>2015</td><td>0.59</td></tr>\n",
       "\t<tr><td>3</td><td>2015</td><td>0.35</td></tr>\n",
       "\t<tr><td>2</td><td>2016</td><td>0.92</td></tr>\n",
       "\t<tr><td>3</td><td>2016</td><td>0.17</td></tr>\n",
       "\t<tr><td>4</td><td>2016</td><td>2.66</td></tr>\n",
       "</tbody>\n",
       "</table>\n"
      ],
      "text/latex": [
       "A tibble: 6 × 3\n",
       "\\begin{tabular}{lll}\n",
       " qtr & year & return\\\\\n",
       " <dbl> & <chr> & <dbl>\\\\\n",
       "\\hline\n",
       "\t 1 & 2015 & 1.88\\\\\n",
       "\t 2 & 2015 & 0.59\\\\\n",
       "\t 3 & 2015 & 0.35\\\\\n",
       "\t 2 & 2016 & 0.92\\\\\n",
       "\t 3 & 2016 & 0.17\\\\\n",
       "\t 4 & 2016 & 2.66\\\\\n",
       "\\end{tabular}\n"
      ],
      "text/markdown": [
       "\n",
       "A tibble: 6 × 3\n",
       "\n",
       "| qtr &lt;dbl&gt; | year &lt;chr&gt; | return &lt;dbl&gt; |\n",
       "|---|---|---|\n",
       "| 1 | 2015 | 1.88 |\n",
       "| 2 | 2015 | 0.59 |\n",
       "| 3 | 2015 | 0.35 |\n",
       "| 2 | 2016 | 0.92 |\n",
       "| 3 | 2016 | 0.17 |\n",
       "| 4 | 2016 | 2.66 |\n",
       "\n"
      ],
      "text/plain": [
       "  qtr year return\n",
       "1 1   2015 1.88  \n",
       "2 2   2015 0.59  \n",
       "3 3   2015 0.35  \n",
       "4 2   2016 0.92  \n",
       "5 3   2016 0.17  \n",
       "6 4   2016 2.66  "
      ]
     },
     "metadata": {},
     "output_type": "display_data"
    }
   ],
   "source": [
    "stocks %>% spread(year, return) %>% gather(year, return, '2015':'2016', na.rm = T)"
   ]
  },
  {
   "cell_type": "markdown",
   "id": "ee2bafb2",
   "metadata": {},
   "source": [
    "### complete() : 결측값을 명시적으로 표현"
   ]
  },
  {
   "cell_type": "code",
   "execution_count": 86,
   "id": "21829202",
   "metadata": {},
   "outputs": [
    {
     "data": {
      "text/html": [
       "<table class=\"dataframe\">\n",
       "<caption>A tibble: 8 × 3</caption>\n",
       "<thead>\n",
       "\t<tr><th scope=col>year</th><th scope=col>qtr</th><th scope=col>return</th></tr>\n",
       "\t<tr><th scope=col>&lt;dbl&gt;</th><th scope=col>&lt;dbl&gt;</th><th scope=col>&lt;dbl&gt;</th></tr>\n",
       "</thead>\n",
       "<tbody>\n",
       "\t<tr><td>2015</td><td>1</td><td>1.88</td></tr>\n",
       "\t<tr><td>2015</td><td>2</td><td>0.59</td></tr>\n",
       "\t<tr><td>2015</td><td>3</td><td>0.35</td></tr>\n",
       "\t<tr><td>2015</td><td>4</td><td>  NA</td></tr>\n",
       "\t<tr><td>2016</td><td>1</td><td>  NA</td></tr>\n",
       "\t<tr><td>2016</td><td>2</td><td>0.92</td></tr>\n",
       "\t<tr><td>2016</td><td>3</td><td>0.17</td></tr>\n",
       "\t<tr><td>2016</td><td>4</td><td>2.66</td></tr>\n",
       "</tbody>\n",
       "</table>\n"
      ],
      "text/latex": [
       "A tibble: 8 × 3\n",
       "\\begin{tabular}{lll}\n",
       " year & qtr & return\\\\\n",
       " <dbl> & <dbl> & <dbl>\\\\\n",
       "\\hline\n",
       "\t 2015 & 1 & 1.88\\\\\n",
       "\t 2015 & 2 & 0.59\\\\\n",
       "\t 2015 & 3 & 0.35\\\\\n",
       "\t 2015 & 4 &   NA\\\\\n",
       "\t 2016 & 1 &   NA\\\\\n",
       "\t 2016 & 2 & 0.92\\\\\n",
       "\t 2016 & 3 & 0.17\\\\\n",
       "\t 2016 & 4 & 2.66\\\\\n",
       "\\end{tabular}\n"
      ],
      "text/markdown": [
       "\n",
       "A tibble: 8 × 3\n",
       "\n",
       "| year &lt;dbl&gt; | qtr &lt;dbl&gt; | return &lt;dbl&gt; |\n",
       "|---|---|---|\n",
       "| 2015 | 1 | 1.88 |\n",
       "| 2015 | 2 | 0.59 |\n",
       "| 2015 | 3 | 0.35 |\n",
       "| 2015 | 4 |   NA |\n",
       "| 2016 | 1 |   NA |\n",
       "| 2016 | 2 | 0.92 |\n",
       "| 2016 | 3 | 0.17 |\n",
       "| 2016 | 4 | 2.66 |\n",
       "\n"
      ],
      "text/plain": [
       "  year qtr return\n",
       "1 2015 1   1.88  \n",
       "2 2015 2   0.59  \n",
       "3 2015 3   0.35  \n",
       "4 2015 4     NA  \n",
       "5 2016 1     NA  \n",
       "6 2016 2   0.92  \n",
       "7 2016 3   0.17  \n",
       "8 2016 4   2.66  "
      ]
     },
     "metadata": {},
     "output_type": "display_data"
    }
   ],
   "source": [
    "stocks %>% complete(year, qtr)"
   ]
  },
  {
   "cell_type": "markdown",
   "id": "20770fed",
   "metadata": {},
   "source": [
    "### fill() : 결측값을 최근값으로 대체"
   ]
  },
  {
   "cell_type": "code",
   "execution_count": 88,
   "id": "b37cbfbc",
   "metadata": {
    "scrolled": true
   },
   "outputs": [
    {
     "name": "stdout",
     "output_type": "stream",
     "text": [
      "\u001b[90m# A tibble: 4 x 3\u001b[39m\n",
      "  person           treatment response\n",
      "  \u001b[3m\u001b[90m<chr>\u001b[39m\u001b[23m                \u001b[3m\u001b[90m<dbl>\u001b[39m\u001b[23m    \u001b[3m\u001b[90m<dbl>\u001b[39m\u001b[23m\n",
      "\u001b[90m1\u001b[39m Darrick Whitmore         1        7\n",
      "\u001b[90m2\u001b[39m \u001b[31mNA\u001b[39m                       2       10\n",
      "\u001b[90m3\u001b[39m \u001b[31mNA\u001b[39m                       3        9\n",
      "\u001b[90m4\u001b[39m Katherine Burke          1        4\n"
     ]
    }
   ],
   "source": [
    "treatment <- tribble(\n",
    "    ~person, ~treatment, ~response,\n",
    "    \"Darrick Whitmore\", 1, 7,\n",
    "    NA, 2, 10,\n",
    "    NA, 3, 9,\n",
    "    \"Katherine Burke\", 1, 4\n",
    ") %>% print()"
   ]
  },
  {
   "cell_type": "code",
   "execution_count": 89,
   "id": "9b183289",
   "metadata": {
    "scrolled": true
   },
   "outputs": [
    {
     "data": {
      "text/html": [
       "<table class=\"dataframe\">\n",
       "<caption>A tibble: 4 × 3</caption>\n",
       "<thead>\n",
       "\t<tr><th scope=col>person</th><th scope=col>treatment</th><th scope=col>response</th></tr>\n",
       "\t<tr><th scope=col>&lt;chr&gt;</th><th scope=col>&lt;dbl&gt;</th><th scope=col>&lt;dbl&gt;</th></tr>\n",
       "</thead>\n",
       "<tbody>\n",
       "\t<tr><td>Darrick Whitmore</td><td>1</td><td> 7</td></tr>\n",
       "\t<tr><td>Darrick Whitmore</td><td>2</td><td>10</td></tr>\n",
       "\t<tr><td>Darrick Whitmore</td><td>3</td><td> 9</td></tr>\n",
       "\t<tr><td>Katherine Burke </td><td>1</td><td> 4</td></tr>\n",
       "</tbody>\n",
       "</table>\n"
      ],
      "text/latex": [
       "A tibble: 4 × 3\n",
       "\\begin{tabular}{lll}\n",
       " person & treatment & response\\\\\n",
       " <chr> & <dbl> & <dbl>\\\\\n",
       "\\hline\n",
       "\t Darrick Whitmore & 1 &  7\\\\\n",
       "\t Darrick Whitmore & 2 & 10\\\\\n",
       "\t Darrick Whitmore & 3 &  9\\\\\n",
       "\t Katherine Burke  & 1 &  4\\\\\n",
       "\\end{tabular}\n"
      ],
      "text/markdown": [
       "\n",
       "A tibble: 4 × 3\n",
       "\n",
       "| person &lt;chr&gt; | treatment &lt;dbl&gt; | response &lt;dbl&gt; |\n",
       "|---|---|---|\n",
       "| Darrick Whitmore | 1 |  7 |\n",
       "| Darrick Whitmore | 2 | 10 |\n",
       "| Darrick Whitmore | 3 |  9 |\n",
       "| Katherine Burke  | 1 |  4 |\n",
       "\n"
      ],
      "text/plain": [
       "  person           treatment response\n",
       "1 Darrick Whitmore 1          7      \n",
       "2 Darrick Whitmore 2         10      \n",
       "3 Darrick Whitmore 3          9      \n",
       "4 Katherine Burke  1          4      "
      ]
     },
     "metadata": {},
     "output_type": "display_data"
    }
   ],
   "source": [
    "treatment %>% fill(person)"
   ]
  },
  {
   "cell_type": "code",
   "execution_count": 103,
   "id": "ffe27d69",
   "metadata": {},
   "outputs": [
    {
     "data": {
      "text/html": [
       "<table class=\"dataframe\">\n",
       "<caption>A tibble: 8 × 3</caption>\n",
       "<thead>\n",
       "\t<tr><th scope=col>year</th><th scope=col>qtr</th><th scope=col>return</th></tr>\n",
       "\t<tr><th scope=col>&lt;dbl&gt;</th><th scope=col>&lt;dbl&gt;</th><th scope=col>&lt;dbl&gt;</th></tr>\n",
       "</thead>\n",
       "<tbody>\n",
       "\t<tr><td>2015</td><td>1</td><td>1.880</td></tr>\n",
       "\t<tr><td>2015</td><td>2</td><td>0.590</td></tr>\n",
       "\t<tr><td>2015</td><td>3</td><td>0.350</td></tr>\n",
       "\t<tr><td>2015</td><td>4</td><td>1.095</td></tr>\n",
       "\t<tr><td>2016</td><td>1</td><td>1.095</td></tr>\n",
       "\t<tr><td>2016</td><td>2</td><td>0.920</td></tr>\n",
       "\t<tr><td>2016</td><td>3</td><td>0.170</td></tr>\n",
       "\t<tr><td>2016</td><td>4</td><td>2.660</td></tr>\n",
       "</tbody>\n",
       "</table>\n"
      ],
      "text/latex": [
       "A tibble: 8 × 3\n",
       "\\begin{tabular}{lll}\n",
       " year & qtr & return\\\\\n",
       " <dbl> & <dbl> & <dbl>\\\\\n",
       "\\hline\n",
       "\t 2015 & 1 & 1.880\\\\\n",
       "\t 2015 & 2 & 0.590\\\\\n",
       "\t 2015 & 3 & 0.350\\\\\n",
       "\t 2015 & 4 & 1.095\\\\\n",
       "\t 2016 & 1 & 1.095\\\\\n",
       "\t 2016 & 2 & 0.920\\\\\n",
       "\t 2016 & 3 & 0.170\\\\\n",
       "\t 2016 & 4 & 2.660\\\\\n",
       "\\end{tabular}\n"
      ],
      "text/markdown": [
       "\n",
       "A tibble: 8 × 3\n",
       "\n",
       "| year &lt;dbl&gt; | qtr &lt;dbl&gt; | return &lt;dbl&gt; |\n",
       "|---|---|---|\n",
       "| 2015 | 1 | 1.880 |\n",
       "| 2015 | 2 | 0.590 |\n",
       "| 2015 | 3 | 0.350 |\n",
       "| 2015 | 4 | 1.095 |\n",
       "| 2016 | 1 | 1.095 |\n",
       "| 2016 | 2 | 0.920 |\n",
       "| 2016 | 3 | 0.170 |\n",
       "| 2016 | 4 | 2.660 |\n",
       "\n"
      ],
      "text/plain": [
       "  year qtr return\n",
       "1 2015 1   1.880 \n",
       "2 2015 2   0.590 \n",
       "3 2015 3   0.350 \n",
       "4 2015 4   1.095 \n",
       "5 2016 1   1.095 \n",
       "6 2016 2   0.920 \n",
       "7 2016 3   0.170 \n",
       "8 2016 4   2.660 "
      ]
     },
     "metadata": {},
     "output_type": "display_data"
    }
   ],
   "source": [
    "# 9.5.1\n",
    "#1\n",
    "stocks %>% \n",
    " complete(year, qtr, \n",
    "          fill = list(return = mean(stocks$return, na.rm = T))) \n",
    "# 결측값을 0으로 대체"
   ]
  },
  {
   "cell_type": "markdown",
   "id": "61c46cfd",
   "metadata": {},
   "source": [
    "### 사례연구"
   ]
  },
  {
   "cell_type": "code",
   "execution_count": 110,
   "id": "94f3aa0d",
   "metadata": {},
   "outputs": [
    {
     "data": {
      "text/html": [
       "<table class=\"dataframe\">\n",
       "<caption>A tibble: 6 × 60</caption>\n",
       "<thead>\n",
       "\t<tr><th scope=col>country</th><th scope=col>iso2</th><th scope=col>iso3</th><th scope=col>year</th><th scope=col>new_sp_m014</th><th scope=col>new_sp_m1524</th><th scope=col>new_sp_m2534</th><th scope=col>new_sp_m3544</th><th scope=col>new_sp_m4554</th><th scope=col>new_sp_m5564</th><th scope=col>...</th><th scope=col>newrel_m4554</th><th scope=col>newrel_m5564</th><th scope=col>newrel_m65</th><th scope=col>newrel_f014</th><th scope=col>newrel_f1524</th><th scope=col>newrel_f2534</th><th scope=col>newrel_f3544</th><th scope=col>newrel_f4554</th><th scope=col>newrel_f5564</th><th scope=col>newrel_f65</th></tr>\n",
       "\t<tr><th scope=col>&lt;chr&gt;</th><th scope=col>&lt;chr&gt;</th><th scope=col>&lt;chr&gt;</th><th scope=col>&lt;int&gt;</th><th scope=col>&lt;int&gt;</th><th scope=col>&lt;int&gt;</th><th scope=col>&lt;int&gt;</th><th scope=col>&lt;int&gt;</th><th scope=col>&lt;int&gt;</th><th scope=col>&lt;int&gt;</th><th scope=col>...</th><th scope=col>&lt;int&gt;</th><th scope=col>&lt;int&gt;</th><th scope=col>&lt;int&gt;</th><th scope=col>&lt;int&gt;</th><th scope=col>&lt;int&gt;</th><th scope=col>&lt;int&gt;</th><th scope=col>&lt;int&gt;</th><th scope=col>&lt;int&gt;</th><th scope=col>&lt;int&gt;</th><th scope=col>&lt;int&gt;</th></tr>\n",
       "</thead>\n",
       "<tbody>\n",
       "\t<tr><td>Afghanistan</td><td>AF</td><td>AFG</td><td>1980</td><td>NA</td><td>NA</td><td>NA</td><td>NA</td><td>NA</td><td>NA</td><td>...</td><td>NA</td><td>NA</td><td>NA</td><td>NA</td><td>NA</td><td>NA</td><td>NA</td><td>NA</td><td>NA</td><td>NA</td></tr>\n",
       "\t<tr><td>Afghanistan</td><td>AF</td><td>AFG</td><td>1981</td><td>NA</td><td>NA</td><td>NA</td><td>NA</td><td>NA</td><td>NA</td><td>...</td><td>NA</td><td>NA</td><td>NA</td><td>NA</td><td>NA</td><td>NA</td><td>NA</td><td>NA</td><td>NA</td><td>NA</td></tr>\n",
       "\t<tr><td>Afghanistan</td><td>AF</td><td>AFG</td><td>1982</td><td>NA</td><td>NA</td><td>NA</td><td>NA</td><td>NA</td><td>NA</td><td>...</td><td>NA</td><td>NA</td><td>NA</td><td>NA</td><td>NA</td><td>NA</td><td>NA</td><td>NA</td><td>NA</td><td>NA</td></tr>\n",
       "\t<tr><td>Afghanistan</td><td>AF</td><td>AFG</td><td>1983</td><td>NA</td><td>NA</td><td>NA</td><td>NA</td><td>NA</td><td>NA</td><td>...</td><td>NA</td><td>NA</td><td>NA</td><td>NA</td><td>NA</td><td>NA</td><td>NA</td><td>NA</td><td>NA</td><td>NA</td></tr>\n",
       "\t<tr><td>Afghanistan</td><td>AF</td><td>AFG</td><td>1984</td><td>NA</td><td>NA</td><td>NA</td><td>NA</td><td>NA</td><td>NA</td><td>...</td><td>NA</td><td>NA</td><td>NA</td><td>NA</td><td>NA</td><td>NA</td><td>NA</td><td>NA</td><td>NA</td><td>NA</td></tr>\n",
       "\t<tr><td>Afghanistan</td><td>AF</td><td>AFG</td><td>1985</td><td>NA</td><td>NA</td><td>NA</td><td>NA</td><td>NA</td><td>NA</td><td>...</td><td>NA</td><td>NA</td><td>NA</td><td>NA</td><td>NA</td><td>NA</td><td>NA</td><td>NA</td><td>NA</td><td>NA</td></tr>\n",
       "</tbody>\n",
       "</table>\n"
      ],
      "text/latex": [
       "A tibble: 6 × 60\n",
       "\\begin{tabular}{lllllllllllllllllllll}\n",
       " country & iso2 & iso3 & year & new\\_sp\\_m014 & new\\_sp\\_m1524 & new\\_sp\\_m2534 & new\\_sp\\_m3544 & new\\_sp\\_m4554 & new\\_sp\\_m5564 & ... & newrel\\_m4554 & newrel\\_m5564 & newrel\\_m65 & newrel\\_f014 & newrel\\_f1524 & newrel\\_f2534 & newrel\\_f3544 & newrel\\_f4554 & newrel\\_f5564 & newrel\\_f65\\\\\n",
       " <chr> & <chr> & <chr> & <int> & <int> & <int> & <int> & <int> & <int> & <int> & ... & <int> & <int> & <int> & <int> & <int> & <int> & <int> & <int> & <int> & <int>\\\\\n",
       "\\hline\n",
       "\t Afghanistan & AF & AFG & 1980 & NA & NA & NA & NA & NA & NA & ... & NA & NA & NA & NA & NA & NA & NA & NA & NA & NA\\\\\n",
       "\t Afghanistan & AF & AFG & 1981 & NA & NA & NA & NA & NA & NA & ... & NA & NA & NA & NA & NA & NA & NA & NA & NA & NA\\\\\n",
       "\t Afghanistan & AF & AFG & 1982 & NA & NA & NA & NA & NA & NA & ... & NA & NA & NA & NA & NA & NA & NA & NA & NA & NA\\\\\n",
       "\t Afghanistan & AF & AFG & 1983 & NA & NA & NA & NA & NA & NA & ... & NA & NA & NA & NA & NA & NA & NA & NA & NA & NA\\\\\n",
       "\t Afghanistan & AF & AFG & 1984 & NA & NA & NA & NA & NA & NA & ... & NA & NA & NA & NA & NA & NA & NA & NA & NA & NA\\\\\n",
       "\t Afghanistan & AF & AFG & 1985 & NA & NA & NA & NA & NA & NA & ... & NA & NA & NA & NA & NA & NA & NA & NA & NA & NA\\\\\n",
       "\\end{tabular}\n"
      ],
      "text/markdown": [
       "\n",
       "A tibble: 6 × 60\n",
       "\n",
       "| country &lt;chr&gt; | iso2 &lt;chr&gt; | iso3 &lt;chr&gt; | year &lt;int&gt; | new_sp_m014 &lt;int&gt; | new_sp_m1524 &lt;int&gt; | new_sp_m2534 &lt;int&gt; | new_sp_m3544 &lt;int&gt; | new_sp_m4554 &lt;int&gt; | new_sp_m5564 &lt;int&gt; | ... ... | newrel_m4554 &lt;int&gt; | newrel_m5564 &lt;int&gt; | newrel_m65 &lt;int&gt; | newrel_f014 &lt;int&gt; | newrel_f1524 &lt;int&gt; | newrel_f2534 &lt;int&gt; | newrel_f3544 &lt;int&gt; | newrel_f4554 &lt;int&gt; | newrel_f5564 &lt;int&gt; | newrel_f65 &lt;int&gt; |\n",
       "|---|---|---|---|---|---|---|---|---|---|---|---|---|---|---|---|---|---|---|---|---|\n",
       "| Afghanistan | AF | AFG | 1980 | NA | NA | NA | NA | NA | NA | ... | NA | NA | NA | NA | NA | NA | NA | NA | NA | NA |\n",
       "| Afghanistan | AF | AFG | 1981 | NA | NA | NA | NA | NA | NA | ... | NA | NA | NA | NA | NA | NA | NA | NA | NA | NA |\n",
       "| Afghanistan | AF | AFG | 1982 | NA | NA | NA | NA | NA | NA | ... | NA | NA | NA | NA | NA | NA | NA | NA | NA | NA |\n",
       "| Afghanistan | AF | AFG | 1983 | NA | NA | NA | NA | NA | NA | ... | NA | NA | NA | NA | NA | NA | NA | NA | NA | NA |\n",
       "| Afghanistan | AF | AFG | 1984 | NA | NA | NA | NA | NA | NA | ... | NA | NA | NA | NA | NA | NA | NA | NA | NA | NA |\n",
       "| Afghanistan | AF | AFG | 1985 | NA | NA | NA | NA | NA | NA | ... | NA | NA | NA | NA | NA | NA | NA | NA | NA | NA |\n",
       "\n"
      ],
      "text/plain": [
       "  country     iso2 iso3 year new_sp_m014 new_sp_m1524 new_sp_m2534 new_sp_m3544\n",
       "1 Afghanistan AF   AFG  1980 NA          NA           NA           NA          \n",
       "2 Afghanistan AF   AFG  1981 NA          NA           NA           NA          \n",
       "3 Afghanistan AF   AFG  1982 NA          NA           NA           NA          \n",
       "4 Afghanistan AF   AFG  1983 NA          NA           NA           NA          \n",
       "5 Afghanistan AF   AFG  1984 NA          NA           NA           NA          \n",
       "6 Afghanistan AF   AFG  1985 NA          NA           NA           NA          \n",
       "  new_sp_m4554 new_sp_m5564 ... newrel_m4554 newrel_m5564 newrel_m65\n",
       "1 NA           NA           ... NA           NA           NA        \n",
       "2 NA           NA           ... NA           NA           NA        \n",
       "3 NA           NA           ... NA           NA           NA        \n",
       "4 NA           NA           ... NA           NA           NA        \n",
       "5 NA           NA           ... NA           NA           NA        \n",
       "6 NA           NA           ... NA           NA           NA        \n",
       "  newrel_f014 newrel_f1524 newrel_f2534 newrel_f3544 newrel_f4554 newrel_f5564\n",
       "1 NA          NA           NA           NA           NA           NA          \n",
       "2 NA          NA           NA           NA           NA           NA          \n",
       "3 NA          NA           NA           NA           NA           NA          \n",
       "4 NA          NA           NA           NA           NA           NA          \n",
       "5 NA          NA           NA           NA           NA           NA          \n",
       "6 NA          NA           NA           NA           NA           NA          \n",
       "  newrel_f65\n",
       "1 NA        \n",
       "2 NA        \n",
       "3 NA        \n",
       "4 NA        \n",
       "5 NA        \n",
       "6 NA        "
      ]
     },
     "metadata": {},
     "output_type": "display_data"
    }
   ],
   "source": [
    "who %>% head()"
   ]
  },
  {
   "cell_type": "code",
   "execution_count": 118,
   "id": "078803af",
   "metadata": {},
   "outputs": [
    {
     "name": "stdout",
     "output_type": "stream",
     "text": [
      "\u001b[90m# A tibble: 76,046 x 6\u001b[39m\n",
      "   country     iso2  iso3   year key         cases\n",
      "   \u001b[3m\u001b[90m<chr>\u001b[39m\u001b[23m       \u001b[3m\u001b[90m<chr>\u001b[39m\u001b[23m \u001b[3m\u001b[90m<chr>\u001b[39m\u001b[23m \u001b[3m\u001b[90m<int>\u001b[39m\u001b[23m \u001b[3m\u001b[90m<chr>\u001b[39m\u001b[23m       \u001b[3m\u001b[90m<int>\u001b[39m\u001b[23m\n",
      "\u001b[90m 1\u001b[39m Afghanistan AF    AFG    \u001b[4m1\u001b[24m997 new_sp_m014     0\n",
      "\u001b[90m 2\u001b[39m Afghanistan AF    AFG    \u001b[4m1\u001b[24m998 new_sp_m014    30\n",
      "\u001b[90m 3\u001b[39m Afghanistan AF    AFG    \u001b[4m1\u001b[24m999 new_sp_m014     8\n",
      "\u001b[90m 4\u001b[39m Afghanistan AF    AFG    \u001b[4m2\u001b[24m000 new_sp_m014    52\n",
      "\u001b[90m 5\u001b[39m Afghanistan AF    AFG    \u001b[4m2\u001b[24m001 new_sp_m014   129\n",
      "\u001b[90m 6\u001b[39m Afghanistan AF    AFG    \u001b[4m2\u001b[24m002 new_sp_m014    90\n",
      "\u001b[90m 7\u001b[39m Afghanistan AF    AFG    \u001b[4m2\u001b[24m003 new_sp_m014   127\n",
      "\u001b[90m 8\u001b[39m Afghanistan AF    AFG    \u001b[4m2\u001b[24m004 new_sp_m014   139\n",
      "\u001b[90m 9\u001b[39m Afghanistan AF    AFG    \u001b[4m2\u001b[24m005 new_sp_m014   151\n",
      "\u001b[90m10\u001b[39m Afghanistan AF    AFG    \u001b[4m2\u001b[24m006 new_sp_m014   193\n",
      "\u001b[90m# ... with 76,036 more rows\u001b[39m\n"
     ]
    }
   ],
   "source": [
    "who1 <- who %>% gather(\n",
    "    new_sp_m014:newrel_f65, key = \"key\", value = \"cases\", na.rm = T\n",
    ") %>% print()"
   ]
  },
  {
   "cell_type": "code",
   "execution_count": 122,
   "id": "be70fe35",
   "metadata": {},
   "outputs": [
    {
     "name": "stdout",
     "output_type": "stream",
     "text": [
      "\u001b[90m# A tibble: 76,046 x 6\u001b[39m\n",
      "   country     iso2  iso3   year key         cases\n",
      "   \u001b[3m\u001b[90m<chr>\u001b[39m\u001b[23m       \u001b[3m\u001b[90m<chr>\u001b[39m\u001b[23m \u001b[3m\u001b[90m<chr>\u001b[39m\u001b[23m \u001b[3m\u001b[90m<int>\u001b[39m\u001b[23m \u001b[3m\u001b[90m<chr>\u001b[39m\u001b[23m       \u001b[3m\u001b[90m<int>\u001b[39m\u001b[23m\n",
      "\u001b[90m 1\u001b[39m Afghanistan AF    AFG    \u001b[4m1\u001b[24m997 new_sp_m014     0\n",
      "\u001b[90m 2\u001b[39m Afghanistan AF    AFG    \u001b[4m1\u001b[24m998 new_sp_m014    30\n",
      "\u001b[90m 3\u001b[39m Afghanistan AF    AFG    \u001b[4m1\u001b[24m999 new_sp_m014     8\n",
      "\u001b[90m 4\u001b[39m Afghanistan AF    AFG    \u001b[4m2\u001b[24m000 new_sp_m014    52\n",
      "\u001b[90m 5\u001b[39m Afghanistan AF    AFG    \u001b[4m2\u001b[24m001 new_sp_m014   129\n",
      "\u001b[90m 6\u001b[39m Afghanistan AF    AFG    \u001b[4m2\u001b[24m002 new_sp_m014    90\n",
      "\u001b[90m 7\u001b[39m Afghanistan AF    AFG    \u001b[4m2\u001b[24m003 new_sp_m014   127\n",
      "\u001b[90m 8\u001b[39m Afghanistan AF    AFG    \u001b[4m2\u001b[24m004 new_sp_m014   139\n",
      "\u001b[90m 9\u001b[39m Afghanistan AF    AFG    \u001b[4m2\u001b[24m005 new_sp_m014   151\n",
      "\u001b[90m10\u001b[39m Afghanistan AF    AFG    \u001b[4m2\u001b[24m006 new_sp_m014   193\n",
      "\u001b[90m# ... with 76,036 more rows\u001b[39m\n"
     ]
    }
   ],
   "source": [
    "who2 <- who1 %>% \n",
    "mutate(key = stringr::str_replace(key, \"newrel\", \"new_rel\")) %>% print()"
   ]
  },
  {
   "cell_type": "code",
   "execution_count": 123,
   "id": "fa0655e1",
   "metadata": {},
   "outputs": [
    {
     "name": "stdout",
     "output_type": "stream",
     "text": [
      "\u001b[90m# A tibble: 76,046 x 8\u001b[39m\n",
      "   country     iso2  iso3   year new   type  sexage cases\n",
      "   \u001b[3m\u001b[90m<chr>\u001b[39m\u001b[23m       \u001b[3m\u001b[90m<chr>\u001b[39m\u001b[23m \u001b[3m\u001b[90m<chr>\u001b[39m\u001b[23m \u001b[3m\u001b[90m<int>\u001b[39m\u001b[23m \u001b[3m\u001b[90m<chr>\u001b[39m\u001b[23m \u001b[3m\u001b[90m<chr>\u001b[39m\u001b[23m \u001b[3m\u001b[90m<chr>\u001b[39m\u001b[23m  \u001b[3m\u001b[90m<int>\u001b[39m\u001b[23m\n",
      "\u001b[90m 1\u001b[39m Afghanistan AF    AFG    \u001b[4m1\u001b[24m997 new   sp    m014       0\n",
      "\u001b[90m 2\u001b[39m Afghanistan AF    AFG    \u001b[4m1\u001b[24m998 new   sp    m014      30\n",
      "\u001b[90m 3\u001b[39m Afghanistan AF    AFG    \u001b[4m1\u001b[24m999 new   sp    m014       8\n",
      "\u001b[90m 4\u001b[39m Afghanistan AF    AFG    \u001b[4m2\u001b[24m000 new   sp    m014      52\n",
      "\u001b[90m 5\u001b[39m Afghanistan AF    AFG    \u001b[4m2\u001b[24m001 new   sp    m014     129\n",
      "\u001b[90m 6\u001b[39m Afghanistan AF    AFG    \u001b[4m2\u001b[24m002 new   sp    m014      90\n",
      "\u001b[90m 7\u001b[39m Afghanistan AF    AFG    \u001b[4m2\u001b[24m003 new   sp    m014     127\n",
      "\u001b[90m 8\u001b[39m Afghanistan AF    AFG    \u001b[4m2\u001b[24m004 new   sp    m014     139\n",
      "\u001b[90m 9\u001b[39m Afghanistan AF    AFG    \u001b[4m2\u001b[24m005 new   sp    m014     151\n",
      "\u001b[90m10\u001b[39m Afghanistan AF    AFG    \u001b[4m2\u001b[24m006 new   sp    m014     193\n",
      "\u001b[90m# ... with 76,036 more rows\u001b[39m\n"
     ]
    }
   ],
   "source": [
    "who3 <- who2 %>% separate(key, c(\"new\", \"type\", \"sexage\"), sep = \"_\") %>% print()"
   ]
  },
  {
   "cell_type": "code",
   "execution_count": 126,
   "id": "3a1c294f",
   "metadata": {},
   "outputs": [
    {
     "data": {
      "text/html": [
       "<table class=\"dataframe\">\n",
       "<caption>A tibble: 1 × 2</caption>\n",
       "<thead>\n",
       "\t<tr><th scope=col>new</th><th scope=col>n</th></tr>\n",
       "\t<tr><th scope=col>&lt;chr&gt;</th><th scope=col>&lt;int&gt;</th></tr>\n",
       "</thead>\n",
       "<tbody>\n",
       "\t<tr><td>new</td><td>76046</td></tr>\n",
       "</tbody>\n",
       "</table>\n"
      ],
      "text/latex": [
       "A tibble: 1 × 2\n",
       "\\begin{tabular}{ll}\n",
       " new & n\\\\\n",
       " <chr> & <int>\\\\\n",
       "\\hline\n",
       "\t new & 76046\\\\\n",
       "\\end{tabular}\n"
      ],
      "text/markdown": [
       "\n",
       "A tibble: 1 × 2\n",
       "\n",
       "| new &lt;chr&gt; | n &lt;int&gt; |\n",
       "|---|---|\n",
       "| new | 76046 |\n",
       "\n"
      ],
      "text/plain": [
       "  new n    \n",
       "1 new 76046"
      ]
     },
     "metadata": {},
     "output_type": "display_data"
    }
   ],
   "source": [
    "who3 %>% count(new)"
   ]
  },
  {
   "cell_type": "code",
   "execution_count": 132,
   "id": "057d9c2c",
   "metadata": {},
   "outputs": [
    {
     "name": "stdout",
     "output_type": "stream",
     "text": [
      "\u001b[90m# A tibble: 76,046 x 5\u001b[39m\n",
      "   country      year type  sexage cases\n",
      "   \u001b[3m\u001b[90m<chr>\u001b[39m\u001b[23m       \u001b[3m\u001b[90m<int>\u001b[39m\u001b[23m \u001b[3m\u001b[90m<chr>\u001b[39m\u001b[23m \u001b[3m\u001b[90m<chr>\u001b[39m\u001b[23m  \u001b[3m\u001b[90m<int>\u001b[39m\u001b[23m\n",
      "\u001b[90m 1\u001b[39m Afghanistan  \u001b[4m1\u001b[24m997 sp    m014       0\n",
      "\u001b[90m 2\u001b[39m Afghanistan  \u001b[4m1\u001b[24m998 sp    m014      30\n",
      "\u001b[90m 3\u001b[39m Afghanistan  \u001b[4m1\u001b[24m999 sp    m014       8\n",
      "\u001b[90m 4\u001b[39m Afghanistan  \u001b[4m2\u001b[24m000 sp    m014      52\n",
      "\u001b[90m 5\u001b[39m Afghanistan  \u001b[4m2\u001b[24m001 sp    m014     129\n",
      "\u001b[90m 6\u001b[39m Afghanistan  \u001b[4m2\u001b[24m002 sp    m014      90\n",
      "\u001b[90m 7\u001b[39m Afghanistan  \u001b[4m2\u001b[24m003 sp    m014     127\n",
      "\u001b[90m 8\u001b[39m Afghanistan  \u001b[4m2\u001b[24m004 sp    m014     139\n",
      "\u001b[90m 9\u001b[39m Afghanistan  \u001b[4m2\u001b[24m005 sp    m014     151\n",
      "\u001b[90m10\u001b[39m Afghanistan  \u001b[4m2\u001b[24m006 sp    m014     193\n",
      "\u001b[90m# ... with 76,036 more rows\u001b[39m\n"
     ]
    }
   ],
   "source": [
    "who4 <- who3 %>% select(-c(\"new\", \"iso2\", \"iso3\")) %>% print()"
   ]
  },
  {
   "cell_type": "code",
   "execution_count": 133,
   "id": "81ed312f",
   "metadata": {},
   "outputs": [
    {
     "name": "stdout",
     "output_type": "stream",
     "text": [
      "\u001b[90m# A tibble: 76,046 x 6\u001b[39m\n",
      "   country      year type  sex   age   cases\n",
      "   \u001b[3m\u001b[90m<chr>\u001b[39m\u001b[23m       \u001b[3m\u001b[90m<int>\u001b[39m\u001b[23m \u001b[3m\u001b[90m<chr>\u001b[39m\u001b[23m \u001b[3m\u001b[90m<chr>\u001b[39m\u001b[23m \u001b[3m\u001b[90m<chr>\u001b[39m\u001b[23m \u001b[3m\u001b[90m<int>\u001b[39m\u001b[23m\n",
      "\u001b[90m 1\u001b[39m Afghanistan  \u001b[4m1\u001b[24m997 sp    m     014       0\n",
      "\u001b[90m 2\u001b[39m Afghanistan  \u001b[4m1\u001b[24m998 sp    m     014      30\n",
      "\u001b[90m 3\u001b[39m Afghanistan  \u001b[4m1\u001b[24m999 sp    m     014       8\n",
      "\u001b[90m 4\u001b[39m Afghanistan  \u001b[4m2\u001b[24m000 sp    m     014      52\n",
      "\u001b[90m 5\u001b[39m Afghanistan  \u001b[4m2\u001b[24m001 sp    m     014     129\n",
      "\u001b[90m 6\u001b[39m Afghanistan  \u001b[4m2\u001b[24m002 sp    m     014      90\n",
      "\u001b[90m 7\u001b[39m Afghanistan  \u001b[4m2\u001b[24m003 sp    m     014     127\n",
      "\u001b[90m 8\u001b[39m Afghanistan  \u001b[4m2\u001b[24m004 sp    m     014     139\n",
      "\u001b[90m 9\u001b[39m Afghanistan  \u001b[4m2\u001b[24m005 sp    m     014     151\n",
      "\u001b[90m10\u001b[39m Afghanistan  \u001b[4m2\u001b[24m006 sp    m     014     193\n",
      "\u001b[90m# ... with 76,036 more rows\u001b[39m\n"
     ]
    }
   ],
   "source": [
    "who5 <- who4 %>% separate(sexage, c(\"sex\", \"age\"), sep = 1) %>% print()"
   ]
  },
  {
   "cell_type": "code",
   "execution_count": 134,
   "id": "e4e14294",
   "metadata": {},
   "outputs": [
    {
     "name": "stderr",
     "output_type": "stream",
     "text": [
      "\u001b[1m\u001b[22m`summarise()` has grouped output by 'country', 'year'. You can override using the `.groups` argument.\n"
     ]
    },
    {
     "data": {
      "image/png": "[encoded data removed]",
      "text/plain": [
       "plot without title"
      ]
     },
     "metadata": {
      "image/png": {
       "height": 420,
       "width": 420
      }
     },
     "output_type": "display_data"
    }
   ],
   "source": [
    "who5 %>%\n",
    "  group_by(country, year, sex) %>%\n",
    "  filter(year > 1995) %>%\n",
    "  summarise(cases = sum(cases)) %>%\n",
    "  unite(country_sex, country, sex, remove = FALSE) %>%\n",
    "  ggplot(aes(x = year, y = cases, group = country_sex, colour = sex)) +\n",
    "  geom_line()"
   ]
  }
 ],
 "metadata": {
  "kernelspec": {
   "display_name": "R 4.1.3",
   "language": "R",
   "name": "ir32"
  },
  "language_info": {
   "codemirror_mode": "r",
   "file_extension": ".r",
   "mimetype": "text/x-r-source",
   "name": "R",
   "pygments_lexer": "r",
   "version": "4.1.3"
  }
 },
 "nbformat": 4,
 "nbformat_minor": 5
}
