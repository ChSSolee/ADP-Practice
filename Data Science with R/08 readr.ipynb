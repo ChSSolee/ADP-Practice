{
 "cells": [
  {
   "cell_type": "code",
   "execution_count": 1,
   "id": "1772b4e6",
   "metadata": {},
   "outputs": [
    {
     "name": "stderr",
     "output_type": "stream",
     "text": [
      "-- \u001b[1mAttaching packages\u001b[22m ------------------------------------------------------------------------------- tidyverse 1.3.1 --\n",
      "\n",
      "\u001b[32mv\u001b[39m \u001b[34mggplot2\u001b[39m 3.3.5     \u001b[32mv\u001b[39m \u001b[34mpurrr  \u001b[39m 0.3.4\n",
      "\u001b[32mv\u001b[39m \u001b[34mtibble \u001b[39m 3.1.6     \u001b[32mv\u001b[39m \u001b[34mdplyr  \u001b[39m 1.0.8\n",
      "\u001b[32mv\u001b[39m \u001b[34mtidyr  \u001b[39m 1.2.0     \u001b[32mv\u001b[39m \u001b[34mstringr\u001b[39m 1.4.0\n",
      "\u001b[32mv\u001b[39m \u001b[34mreadr  \u001b[39m 2.1.2     \u001b[32mv\u001b[39m \u001b[34mforcats\u001b[39m 0.5.1\n",
      "\n",
      "-- \u001b[1mConflicts\u001b[22m ---------------------------------------------------------------------------------- tidyverse_conflicts() --\n",
      "\u001b[31mx\u001b[39m \u001b[34mdplyr\u001b[39m::\u001b[32mfilter()\u001b[39m masks \u001b[34mstats\u001b[39m::filter()\n",
      "\u001b[31mx\u001b[39m \u001b[34mdplyr\u001b[39m::\u001b[32mlag()\u001b[39m    masks \u001b[34mstats\u001b[39m::lag()\n",
      "\n"
     ]
    }
   ],
   "source": [
    "library(tidyverse)"
   ]
  },
  {
   "cell_type": "markdown",
   "id": "436b9d0c",
   "metadata": {},
   "source": [
    "- read_csv() : 쉼표로 구분된 파일을 읽음\n",
    "- read_csv2() : 세미콜론으로 구분된 파일을 읽음\n",
    "- read_tsv() : 탭으로 구분된 파일을 읽음\n",
    "- read_delim() : 임의의 구분자로 된 파일을 읽음\n",
    "- read_fwf() : 고정 너비 파일을 읽음, fwf_widths()를 이용하여 필드 너비 지정, fwf_positions()를 이용하여 필드 위치 지정,\n",
    "- read_table() : 고정 너비 파일의 일반적 변형 형태인 열이 공백으로 구분된 파일을 읽음\n",
    "- read_log() : Apache스타일의 로그 파일을 읽음"
   ]
  },
  {
   "cell_type": "markdown",
   "id": "516ed76d",
   "metadata": {},
   "source": [
    "####  read_csv() 함수는 쉼표를 사용하고 read_csv2() 함수는 세미콜론(;)을 사용합니다. 세미콜론을 사용하면 쉼표를 소수점으로 사용할 때 유용합니다."
   ]
  },
  {
   "cell_type": "code",
   "execution_count": 104,
   "id": "00da5b79",
   "metadata": {},
   "outputs": [],
   "source": [
    "setwd(\"C:/Users/이찬솔/Desktop/숭실/R/Data Science/data\")"
   ]
  },
  {
   "cell_type": "code",
   "execution_count": 105,
   "id": "1f597eee",
   "metadata": {},
   "outputs": [
    {
     "data": {
      "text/html": [
       "'C:/Users/이찬솔/Desktop/숭실/R/Data Science/data'"
      ],
      "text/latex": [
       "'C:/Users/이찬솔/Desktop/숭실/R/Data Science/data'"
      ],
      "text/markdown": [
       "'C:/Users/이찬솔/Desktop/숭실/R/Data Science/data'"
      ],
      "text/plain": [
       "[1] \"C:/Users/이찬솔/Desktop/숭실/R/Data Science/data\""
      ]
     },
     "metadata": {},
     "output_type": "display_data"
    }
   ],
   "source": [
    "getwd()"
   ]
  },
  {
   "cell_type": "markdown",
   "id": "c440ad06",
   "metadata": {},
   "source": [
    "### read_csv"
   ]
  },
  {
   "cell_type": "code",
   "execution_count": 12,
   "id": "e52a0ead",
   "metadata": {},
   "outputs": [
    {
     "name": "stderr",
     "output_type": "stream",
     "text": [
      "\u001b[1mRows: \u001b[22m\u001b[34m1192\u001b[39m \u001b[1mColumns: \u001b[22m\u001b[34m6\u001b[39m\n",
      "\u001b[36m--\u001b[39m \u001b[1mColumn specification\u001b[22m \u001b[36m------------------------------------------------------------------------------------------------\u001b[39m\n",
      "\u001b[1mDelimiter:\u001b[22m \",\"\n",
      "\u001b[31mchr\u001b[39m (2): sex, race\n",
      "\u001b[32mdbl\u001b[39m (4): earn, height, ed, age\n",
      "\n",
      "\u001b[36mi\u001b[39m Use `spec()` to retrieve the full column specification for this data.\n",
      "\u001b[36mi\u001b[39m Specify the column types or set `show_col_types = FALSE` to quiet this message.\n"
     ]
    },
    {
     "data": {
      "text/html": [
       "<style>\n",
       ".list-inline {list-style: none; margin:0; padding: 0}\n",
       ".list-inline>li {display: inline-block}\n",
       ".list-inline>li:not(:last-child)::after {content: \"\\00b7\"; padding: 0 .5ex}\n",
       "</style>\n",
       "<ol class=list-inline><li>1192</li><li>6</li></ol>\n"
      ],
      "text/latex": [
       "\\begin{enumerate*}\n",
       "\\item 1192\n",
       "\\item 6\n",
       "\\end{enumerate*}\n"
      ],
      "text/markdown": [
       "1. 1192\n",
       "2. 6\n",
       "\n",
       "\n"
      ],
      "text/plain": [
       "[1] 1192    6"
      ]
     },
     "metadata": {},
     "output_type": "display_data"
    },
    {
     "data": {
      "text/html": [
       "<table class=\"dataframe\">\n",
       "<caption>A tibble: 6 × 6</caption>\n",
       "<thead>\n",
       "\t<tr><th scope=col>earn</th><th scope=col>height</th><th scope=col>sex</th><th scope=col>ed</th><th scope=col>age</th><th scope=col>race</th></tr>\n",
       "\t<tr><th scope=col>&lt;dbl&gt;</th><th scope=col>&lt;dbl&gt;</th><th scope=col>&lt;chr&gt;</th><th scope=col>&lt;dbl&gt;</th><th scope=col>&lt;dbl&gt;</th><th scope=col>&lt;chr&gt;</th></tr>\n",
       "</thead>\n",
       "<tbody>\n",
       "\t<tr><td>50000</td><td>74.42444</td><td>male  </td><td>16</td><td>45</td><td>white</td></tr>\n",
       "\t<tr><td>60000</td><td>65.53754</td><td>female</td><td>16</td><td>58</td><td>white</td></tr>\n",
       "\t<tr><td>30000</td><td>63.62920</td><td>female</td><td>16</td><td>29</td><td>white</td></tr>\n",
       "\t<tr><td>50000</td><td>63.10856</td><td>female</td><td>16</td><td>91</td><td>other</td></tr>\n",
       "\t<tr><td>51000</td><td>63.40248</td><td>female</td><td>17</td><td>39</td><td>white</td></tr>\n",
       "\t<tr><td> 9000</td><td>64.39951</td><td>female</td><td>15</td><td>26</td><td>white</td></tr>\n",
       "</tbody>\n",
       "</table>\n"
      ],
      "text/latex": [
       "A tibble: 6 × 6\n",
       "\\begin{tabular}{llllll}\n",
       " earn & height & sex & ed & age & race\\\\\n",
       " <dbl> & <dbl> & <chr> & <dbl> & <dbl> & <chr>\\\\\n",
       "\\hline\n",
       "\t 50000 & 74.42444 & male   & 16 & 45 & white\\\\\n",
       "\t 60000 & 65.53754 & female & 16 & 58 & white\\\\\n",
       "\t 30000 & 63.62920 & female & 16 & 29 & white\\\\\n",
       "\t 50000 & 63.10856 & female & 16 & 91 & other\\\\\n",
       "\t 51000 & 63.40248 & female & 17 & 39 & white\\\\\n",
       "\t  9000 & 64.39951 & female & 15 & 26 & white\\\\\n",
       "\\end{tabular}\n"
      ],
      "text/markdown": [
       "\n",
       "A tibble: 6 × 6\n",
       "\n",
       "| earn &lt;dbl&gt; | height &lt;dbl&gt; | sex &lt;chr&gt; | ed &lt;dbl&gt; | age &lt;dbl&gt; | race &lt;chr&gt; |\n",
       "|---|---|---|---|---|---|\n",
       "| 50000 | 74.42444 | male   | 16 | 45 | white |\n",
       "| 60000 | 65.53754 | female | 16 | 58 | white |\n",
       "| 30000 | 63.62920 | female | 16 | 29 | white |\n",
       "| 50000 | 63.10856 | female | 16 | 91 | other |\n",
       "| 51000 | 63.40248 | female | 17 | 39 | white |\n",
       "|  9000 | 64.39951 | female | 15 | 26 | white |\n",
       "\n"
      ],
      "text/plain": [
       "  earn  height   sex    ed age race \n",
       "1 50000 74.42444 male   16 45  white\n",
       "2 60000 65.53754 female 16 58  white\n",
       "3 30000 63.62920 female 16 29  white\n",
       "4 50000 63.10856 female 16 91  other\n",
       "5 51000 63.40248 female 17 39  white\n",
       "6  9000 64.39951 female 15 26  white"
      ]
     },
     "metadata": {},
     "output_type": "display_data"
    }
   ],
   "source": [
    "heights <- read_csv(\"heights.csv\")\n",
    "dim(heights); head(heights)"
   ]
  },
  {
   "cell_type": "code",
   "execution_count": 11,
   "id": "779a5493",
   "metadata": {},
   "outputs": [
    {
     "name": "stderr",
     "output_type": "stream",
     "text": [
      "\u001b[1mRows: \u001b[22m\u001b[34m2\u001b[39m \u001b[1mColumns: \u001b[22m\u001b[34m3\u001b[39m\n",
      "\u001b[36m--\u001b[39m \u001b[1mColumn specification\u001b[22m \u001b[36m------------------------------------------------------------------------------------------------\u001b[39m\n",
      "\u001b[1mDelimiter:\u001b[22m \",\"\n",
      "\u001b[32mdbl\u001b[39m (3): a, b, c\n",
      "\n",
      "\u001b[36mi\u001b[39m Use `spec()` to retrieve the full column specification for this data.\n",
      "\u001b[36mi\u001b[39m Specify the column types or set `show_col_types = FALSE` to quiet this message.\n"
     ]
    },
    {
     "data": {
      "text/html": [
       "<table class=\"dataframe\">\n",
       "<caption>A spec_tbl_df: 2 × 3</caption>\n",
       "<thead>\n",
       "\t<tr><th scope=col>a</th><th scope=col>b</th><th scope=col>c</th></tr>\n",
       "\t<tr><th scope=col>&lt;dbl&gt;</th><th scope=col>&lt;dbl&gt;</th><th scope=col>&lt;dbl&gt;</th></tr>\n",
       "</thead>\n",
       "<tbody>\n",
       "\t<tr><td>1</td><td>2</td><td>3</td></tr>\n",
       "\t<tr><td>4</td><td>5</td><td>6</td></tr>\n",
       "</tbody>\n",
       "</table>\n"
      ],
      "text/latex": [
       "A spec\\_tbl\\_df: 2 × 3\n",
       "\\begin{tabular}{lll}\n",
       " a & b & c\\\\\n",
       " <dbl> & <dbl> & <dbl>\\\\\n",
       "\\hline\n",
       "\t 1 & 2 & 3\\\\\n",
       "\t 4 & 5 & 6\\\\\n",
       "\\end{tabular}\n"
      ],
      "text/markdown": [
       "\n",
       "A spec_tbl_df: 2 × 3\n",
       "\n",
       "| a &lt;dbl&gt; | b &lt;dbl&gt; | c &lt;dbl&gt; |\n",
       "|---|---|---|\n",
       "| 1 | 2 | 3 |\n",
       "| 4 | 5 | 6 |\n",
       "\n"
      ],
      "text/plain": [
       "  a b c\n",
       "1 1 2 3\n",
       "2 4 5 6"
      ]
     },
     "metadata": {},
     "output_type": "display_data"
    }
   ],
   "source": [
    "read_csv(\"a,b,c\n",
    "1,2,3\n",
    "4,5,6\") # 첫 번쨰 줄을 열 이름으로 사용"
   ]
  },
  {
   "cell_type": "code",
   "execution_count": 13,
   "id": "858775c5",
   "metadata": {},
   "outputs": [
    {
     "name": "stderr",
     "output_type": "stream",
     "text": [
      "\u001b[1mRows: \u001b[22m\u001b[34m1\u001b[39m \u001b[1mColumns: \u001b[22m\u001b[34m3\u001b[39m\n",
      "\u001b[36m--\u001b[39m \u001b[1mColumn specification\u001b[22m \u001b[36m------------------------------------------------------------------------------------------------\u001b[39m\n",
      "\u001b[1mDelimiter:\u001b[22m \",\"\n",
      "\u001b[32mdbl\u001b[39m (3): x, y, z\n",
      "\n",
      "\u001b[36mi\u001b[39m Use `spec()` to retrieve the full column specification for this data.\n",
      "\u001b[36mi\u001b[39m Specify the column types or set `show_col_types = FALSE` to quiet this message.\n"
     ]
    },
    {
     "data": {
      "text/html": [
       "<table class=\"dataframe\">\n",
       "<caption>A spec_tbl_df: 1 × 3</caption>\n",
       "<thead>\n",
       "\t<tr><th scope=col>x</th><th scope=col>y</th><th scope=col>z</th></tr>\n",
       "\t<tr><th scope=col>&lt;dbl&gt;</th><th scope=col>&lt;dbl&gt;</th><th scope=col>&lt;dbl&gt;</th></tr>\n",
       "</thead>\n",
       "<tbody>\n",
       "\t<tr><td>1</td><td>2</td><td>3</td></tr>\n",
       "</tbody>\n",
       "</table>\n"
      ],
      "text/latex": [
       "A spec\\_tbl\\_df: 1 × 3\n",
       "\\begin{tabular}{lll}\n",
       " x & y & z\\\\\n",
       " <dbl> & <dbl> & <dbl>\\\\\n",
       "\\hline\n",
       "\t 1 & 2 & 3\\\\\n",
       "\\end{tabular}\n"
      ],
      "text/markdown": [
       "\n",
       "A spec_tbl_df: 1 × 3\n",
       "\n",
       "| x &lt;dbl&gt; | y &lt;dbl&gt; | z &lt;dbl&gt; |\n",
       "|---|---|---|\n",
       "| 1 | 2 | 3 |\n",
       "\n"
      ],
      "text/plain": [
       "  x y z\n",
       "1 1 2 3"
      ]
     },
     "metadata": {},
     "output_type": "display_data"
    }
   ],
   "source": [
    "read_csv(\"메타 데이터 첫 번쨰 행\n",
    "메타 데이터 두 번째 행\n",
    "x, y, z\n",
    "1, 2, 3\", skip = 2) # 앞의 두줄 skip"
   ]
  },
  {
   "cell_type": "code",
   "execution_count": 14,
   "id": "a72942de",
   "metadata": {},
   "outputs": [
    {
     "name": "stderr",
     "output_type": "stream",
     "text": [
      "\u001b[1mRows: \u001b[22m\u001b[34m1\u001b[39m \u001b[1mColumns: \u001b[22m\u001b[34m3\u001b[39m\n",
      "\u001b[36m--\u001b[39m \u001b[1mColumn specification\u001b[22m \u001b[36m------------------------------------------------------------------------------------------------\u001b[39m\n",
      "\u001b[1mDelimiter:\u001b[22m \",\"\n",
      "\u001b[32mdbl\u001b[39m (3): x, y, z\n",
      "\n",
      "\u001b[36mi\u001b[39m Use `spec()` to retrieve the full column specification for this data.\n",
      "\u001b[36mi\u001b[39m Specify the column types or set `show_col_types = FALSE` to quiet this message.\n"
     ]
    },
    {
     "data": {
      "text/html": [
       "<table class=\"dataframe\">\n",
       "<caption>A spec_tbl_df: 1 × 3</caption>\n",
       "<thead>\n",
       "\t<tr><th scope=col>x</th><th scope=col>y</th><th scope=col>z</th></tr>\n",
       "\t<tr><th scope=col>&lt;dbl&gt;</th><th scope=col>&lt;dbl&gt;</th><th scope=col>&lt;dbl&gt;</th></tr>\n",
       "</thead>\n",
       "<tbody>\n",
       "\t<tr><td>1</td><td>2</td><td>3</td></tr>\n",
       "</tbody>\n",
       "</table>\n"
      ],
      "text/latex": [
       "A spec\\_tbl\\_df: 1 × 3\n",
       "\\begin{tabular}{lll}\n",
       " x & y & z\\\\\n",
       " <dbl> & <dbl> & <dbl>\\\\\n",
       "\\hline\n",
       "\t 1 & 2 & 3\\\\\n",
       "\\end{tabular}\n"
      ],
      "text/markdown": [
       "\n",
       "A spec_tbl_df: 1 × 3\n",
       "\n",
       "| x &lt;dbl&gt; | y &lt;dbl&gt; | z &lt;dbl&gt; |\n",
       "|---|---|---|\n",
       "| 1 | 2 | 3 |\n",
       "\n"
      ],
      "text/plain": [
       "  x y z\n",
       "1 1 2 3"
      ]
     },
     "metadata": {},
     "output_type": "display_data"
    }
   ],
   "source": [
    "read_csv(\"# 건너뛰고 싶은 주석\n",
    "x, y, z\n",
    "1, 2, 3\", comment = \"#\") # #으로 시작하는 줄 무시"
   ]
  },
  {
   "cell_type": "code",
   "execution_count": 15,
   "id": "bec535a9",
   "metadata": {},
   "outputs": [
    {
     "name": "stderr",
     "output_type": "stream",
     "text": [
      "\u001b[1mRows: \u001b[22m\u001b[34m2\u001b[39m \u001b[1mColumns: \u001b[22m\u001b[34m3\u001b[39m\n",
      "\u001b[36m--\u001b[39m \u001b[1mColumn specification\u001b[22m \u001b[36m------------------------------------------------------------------------------------------------\u001b[39m\n",
      "\u001b[1mDelimiter:\u001b[22m \",\"\n",
      "\u001b[32mdbl\u001b[39m (3): X1, X2, X3\n",
      "\n",
      "\u001b[36mi\u001b[39m Use `spec()` to retrieve the full column specification for this data.\n",
      "\u001b[36mi\u001b[39m Specify the column types or set `show_col_types = FALSE` to quiet this message.\n"
     ]
    },
    {
     "data": {
      "text/html": [
       "<table class=\"dataframe\">\n",
       "<caption>A spec_tbl_df: 2 × 3</caption>\n",
       "<thead>\n",
       "\t<tr><th scope=col>X1</th><th scope=col>X2</th><th scope=col>X3</th></tr>\n",
       "\t<tr><th scope=col>&lt;dbl&gt;</th><th scope=col>&lt;dbl&gt;</th><th scope=col>&lt;dbl&gt;</th></tr>\n",
       "</thead>\n",
       "<tbody>\n",
       "\t<tr><td>1</td><td>2</td><td>3</td></tr>\n",
       "\t<tr><td>4</td><td>5</td><td>6</td></tr>\n",
       "</tbody>\n",
       "</table>\n"
      ],
      "text/latex": [
       "A spec\\_tbl\\_df: 2 × 3\n",
       "\\begin{tabular}{lll}\n",
       " X1 & X2 & X3\\\\\n",
       " <dbl> & <dbl> & <dbl>\\\\\n",
       "\\hline\n",
       "\t 1 & 2 & 3\\\\\n",
       "\t 4 & 5 & 6\\\\\n",
       "\\end{tabular}\n"
      ],
      "text/markdown": [
       "\n",
       "A spec_tbl_df: 2 × 3\n",
       "\n",
       "| X1 &lt;dbl&gt; | X2 &lt;dbl&gt; | X3 &lt;dbl&gt; |\n",
       "|---|---|---|\n",
       "| 1 | 2 | 3 |\n",
       "| 4 | 5 | 6 |\n",
       "\n"
      ],
      "text/plain": [
       "  X1 X2 X3\n",
       "1 1  2  3 \n",
       "2 4  5  6 "
      ]
     },
     "metadata": {},
     "output_type": "display_data"
    }
   ],
   "source": [
    "read_csv(\"1,2,3\\n4,5,6\", \n",
    "         col_names = F) # 첫 행을 헤드로 취급하지 않음"
   ]
  },
  {
   "cell_type": "code",
   "execution_count": 16,
   "id": "90ab2649",
   "metadata": {},
   "outputs": [
    {
     "name": "stderr",
     "output_type": "stream",
     "text": [
      "\u001b[1mRows: \u001b[22m\u001b[34m2\u001b[39m \u001b[1mColumns: \u001b[22m\u001b[34m3\u001b[39m\n",
      "\u001b[36m--\u001b[39m \u001b[1mColumn specification\u001b[22m \u001b[36m------------------------------------------------------------------------------------------------\u001b[39m\n",
      "\u001b[1mDelimiter:\u001b[22m \",\"\n",
      "\u001b[32mdbl\u001b[39m (3): x, y, z\n",
      "\n",
      "\u001b[36mi\u001b[39m Use `spec()` to retrieve the full column specification for this data.\n",
      "\u001b[36mi\u001b[39m Specify the column types or set `show_col_types = FALSE` to quiet this message.\n"
     ]
    },
    {
     "data": {
      "text/html": [
       "<table class=\"dataframe\">\n",
       "<caption>A spec_tbl_df: 2 × 3</caption>\n",
       "<thead>\n",
       "\t<tr><th scope=col>x</th><th scope=col>y</th><th scope=col>z</th></tr>\n",
       "\t<tr><th scope=col>&lt;dbl&gt;</th><th scope=col>&lt;dbl&gt;</th><th scope=col>&lt;dbl&gt;</th></tr>\n",
       "</thead>\n",
       "<tbody>\n",
       "\t<tr><td>1</td><td>2</td><td>3</td></tr>\n",
       "\t<tr><td>4</td><td>5</td><td>6</td></tr>\n",
       "</tbody>\n",
       "</table>\n"
      ],
      "text/latex": [
       "A spec\\_tbl\\_df: 2 × 3\n",
       "\\begin{tabular}{lll}\n",
       " x & y & z\\\\\n",
       " <dbl> & <dbl> & <dbl>\\\\\n",
       "\\hline\n",
       "\t 1 & 2 & 3\\\\\n",
       "\t 4 & 5 & 6\\\\\n",
       "\\end{tabular}\n"
      ],
      "text/markdown": [
       "\n",
       "A spec_tbl_df: 2 × 3\n",
       "\n",
       "| x &lt;dbl&gt; | y &lt;dbl&gt; | z &lt;dbl&gt; |\n",
       "|---|---|---|\n",
       "| 1 | 2 | 3 |\n",
       "| 4 | 5 | 6 |\n",
       "\n"
      ],
      "text/plain": [
       "  x y z\n",
       "1 1 2 3\n",
       "2 4 5 6"
      ]
     },
     "metadata": {},
     "output_type": "display_data"
    }
   ],
   "source": [
    "read_csv(\"1,2,3\\n4,5,6\", \n",
    "         col_names = c(\"x\", \"y\", \"z\")) # 변수명 설정"
   ]
  },
  {
   "cell_type": "code",
   "execution_count": 17,
   "id": "a6aac10b",
   "metadata": {},
   "outputs": [
    {
     "name": "stderr",
     "output_type": "stream",
     "text": [
      "\u001b[1mRows: \u001b[22m\u001b[34m1\u001b[39m \u001b[1mColumns: \u001b[22m\u001b[34m3\u001b[39m\n",
      "\u001b[36m--\u001b[39m \u001b[1mColumn specification\u001b[22m \u001b[36m------------------------------------------------------------------------------------------------\u001b[39m\n",
      "\u001b[1mDelimiter:\u001b[22m \",\"\n",
      "\u001b[32mdbl\u001b[39m (2): a, b\n",
      "\u001b[33mlgl\u001b[39m (1): c\n",
      "\n",
      "\u001b[36mi\u001b[39m Use `spec()` to retrieve the full column specification for this data.\n",
      "\u001b[36mi\u001b[39m Specify the column types or set `show_col_types = FALSE` to quiet this message.\n"
     ]
    },
    {
     "data": {
      "text/html": [
       "<table class=\"dataframe\">\n",
       "<caption>A spec_tbl_df: 1 × 3</caption>\n",
       "<thead>\n",
       "\t<tr><th scope=col>a</th><th scope=col>b</th><th scope=col>c</th></tr>\n",
       "\t<tr><th scope=col>&lt;dbl&gt;</th><th scope=col>&lt;dbl&gt;</th><th scope=col>&lt;lgl&gt;</th></tr>\n",
       "</thead>\n",
       "<tbody>\n",
       "\t<tr><td>1</td><td>2</td><td>NA</td></tr>\n",
       "</tbody>\n",
       "</table>\n"
      ],
      "text/latex": [
       "A spec\\_tbl\\_df: 1 × 3\n",
       "\\begin{tabular}{lll}\n",
       " a & b & c\\\\\n",
       " <dbl> & <dbl> & <lgl>\\\\\n",
       "\\hline\n",
       "\t 1 & 2 & NA\\\\\n",
       "\\end{tabular}\n"
      ],
      "text/markdown": [
       "\n",
       "A spec_tbl_df: 1 × 3\n",
       "\n",
       "| a &lt;dbl&gt; | b &lt;dbl&gt; | c &lt;lgl&gt; |\n",
       "|---|---|---|\n",
       "| 1 | 2 | NA |\n",
       "\n"
      ],
      "text/plain": [
       "  a b c \n",
       "1 1 2 NA"
      ]
     },
     "metadata": {},
     "output_type": "display_data"
    }
   ],
   "source": [
    "read_csv(\"a,b,c\\n1,2,.\", na = \".\") # 결측값을 나타내는데 사용하는 값을 지정"
   ]
  },
  {
   "cell_type": "markdown",
   "id": "b38e3a66",
   "metadata": {},
   "source": [
    "### read_delim()\n",
    "- 필드가 '|'로 분리된 파일 읽기"
   ]
  },
  {
   "cell_type": "code",
   "execution_count": null,
   "id": "97e9addd",
   "metadata": {},
   "outputs": [],
   "source": [
    "read_delim(file, delim = \"|\")"
   ]
  },
  {
   "cell_type": "code",
   "execution_count": 18,
   "id": "dac5a763",
   "metadata": {},
   "outputs": [
    {
     "name": "stderr",
     "output_type": "stream",
     "text": [
      "\u001b[1mRows: \u001b[22m\u001b[34m1\u001b[39m \u001b[1mColumns: \u001b[22m\u001b[34m2\u001b[39m\n",
      "\u001b[36m--\u001b[39m \u001b[1mColumn specification\u001b[22m \u001b[36m------------------------------------------------------------------------------------------------\u001b[39m\n",
      "\u001b[1mDelimiter:\u001b[22m \",\"\n",
      "\u001b[31mchr\u001b[39m (1): y\n",
      "\u001b[32mdbl\u001b[39m (1): x\n",
      "\n",
      "\u001b[36mi\u001b[39m Use `spec()` to retrieve the full column specification for this data.\n",
      "\u001b[36mi\u001b[39m Specify the column types or set `show_col_types = FALSE` to quiet this message.\n"
     ]
    },
    {
     "data": {
      "text/html": [
       "<table class=\"dataframe\">\n",
       "<caption>A spec_tbl_df: 1 × 2</caption>\n",
       "<thead>\n",
       "\t<tr><th scope=col>x</th><th scope=col>y</th></tr>\n",
       "\t<tr><th scope=col>&lt;dbl&gt;</th><th scope=col>&lt;chr&gt;</th></tr>\n",
       "</thead>\n",
       "<tbody>\n",
       "\t<tr><td>1</td><td>a,b</td></tr>\n",
       "</tbody>\n",
       "</table>\n"
      ],
      "text/latex": [
       "A spec\\_tbl\\_df: 1 × 2\n",
       "\\begin{tabular}{ll}\n",
       " x & y\\\\\n",
       " <dbl> & <chr>\\\\\n",
       "\\hline\n",
       "\t 1 & a,b\\\\\n",
       "\\end{tabular}\n"
      ],
      "text/markdown": [
       "\n",
       "A spec_tbl_df: 1 × 2\n",
       "\n",
       "| x &lt;dbl&gt; | y &lt;chr&gt; |\n",
       "|---|---|\n",
       "| 1 | a,b |\n",
       "\n"
      ],
      "text/plain": [
       "  x y  \n",
       "1 1 a,b"
      ]
     },
     "metadata": {},
     "output_type": "display_data"
    }
   ],
   "source": [
    "# 8.2.2\n",
    "# 4\n",
    "x <- \"x,y\\n1,'a,b'\"\n",
    "read_delim(x, \",\", quote = \"'\")"
   ]
  },
  {
   "cell_type": "code",
   "execution_count": 19,
   "id": "63bdfc25",
   "metadata": {},
   "outputs": [
    {
     "name": "stderr",
     "output_type": "stream",
     "text": [
      "\u001b[1mRows: \u001b[22m\u001b[34m1\u001b[39m \u001b[1mColumns: \u001b[22m\u001b[34m2\u001b[39m\n",
      "\u001b[36m--\u001b[39m \u001b[1mColumn specification\u001b[22m \u001b[36m------------------------------------------------------------------------------------------------\u001b[39m\n",
      "\u001b[1mDelimiter:\u001b[22m \",\"\n",
      "\u001b[31mchr\u001b[39m (1): y\n",
      "\u001b[32mdbl\u001b[39m (1): x\n",
      "\n",
      "\u001b[36mi\u001b[39m Use `spec()` to retrieve the full column specification for this data.\n",
      "\u001b[36mi\u001b[39m Specify the column types or set `show_col_types = FALSE` to quiet this message.\n"
     ]
    },
    {
     "data": {
      "text/html": [
       "<table class=\"dataframe\">\n",
       "<caption>A spec_tbl_df: 1 × 2</caption>\n",
       "<thead>\n",
       "\t<tr><th scope=col>x</th><th scope=col>y</th></tr>\n",
       "\t<tr><th scope=col>&lt;dbl&gt;</th><th scope=col>&lt;chr&gt;</th></tr>\n",
       "</thead>\n",
       "<tbody>\n",
       "\t<tr><td>1</td><td>a,b</td></tr>\n",
       "</tbody>\n",
       "</table>\n"
      ],
      "text/latex": [
       "A spec\\_tbl\\_df: 1 × 2\n",
       "\\begin{tabular}{ll}\n",
       " x & y\\\\\n",
       " <dbl> & <chr>\\\\\n",
       "\\hline\n",
       "\t 1 & a,b\\\\\n",
       "\\end{tabular}\n"
      ],
      "text/markdown": [
       "\n",
       "A spec_tbl_df: 1 × 2\n",
       "\n",
       "| x &lt;dbl&gt; | y &lt;chr&gt; |\n",
       "|---|---|\n",
       "| 1 | a,b |\n",
       "\n"
      ],
      "text/plain": [
       "  x y  \n",
       "1 1 a,b"
      ]
     },
     "metadata": {},
     "output_type": "display_data"
    }
   ],
   "source": [
    "read_csv(x, quote = \"'\")"
   ]
  },
  {
   "cell_type": "code",
   "execution_count": 34,
   "id": "7a95bb1a",
   "metadata": {},
   "outputs": [
    {
     "name": "stderr",
     "output_type": "stream",
     "text": [
      "Warning message:\n",
      "\"One or more parsing issues, see `problems()` for details\"\n",
      "\u001b[1mRows: \u001b[22m\u001b[34m2\u001b[39m \u001b[1mColumns: \u001b[22m\u001b[34m2\u001b[39m\n",
      "\u001b[36m--\u001b[39m \u001b[1mColumn specification\u001b[22m \u001b[36m------------------------------------------------------------------------------------------------\u001b[39m\n",
      "\u001b[1mDelimiter:\u001b[22m \",\"\n",
      "\u001b[32mdbl\u001b[39m (1): a\n",
      "\n",
      "\u001b[36mi\u001b[39m Use `spec()` to retrieve the full column specification for this data.\n",
      "\u001b[36mi\u001b[39m Specify the column types or set `show_col_types = FALSE` to quiet this message.\n"
     ]
    },
    {
     "data": {
      "text/html": [
       "<table class=\"dataframe\">\n",
       "<caption>A spec_tbl_df: 2 × 2</caption>\n",
       "<thead>\n",
       "\t<tr><th scope=col>a</th><th scope=col>b</th></tr>\n",
       "\t<tr><th scope=col>&lt;dbl&gt;</th><th scope=col>&lt;dbl&gt;</th></tr>\n",
       "</thead>\n",
       "<tbody>\n",
       "\t<tr><td>1</td><td>23</td></tr>\n",
       "\t<tr><td>4</td><td>56</td></tr>\n",
       "</tbody>\n",
       "</table>\n"
      ],
      "text/latex": [
       "A spec\\_tbl\\_df: 2 × 2\n",
       "\\begin{tabular}{ll}\n",
       " a & b\\\\\n",
       " <dbl> & <dbl>\\\\\n",
       "\\hline\n",
       "\t 1 & 23\\\\\n",
       "\t 4 & 56\\\\\n",
       "\\end{tabular}\n"
      ],
      "text/markdown": [
       "\n",
       "A spec_tbl_df: 2 × 2\n",
       "\n",
       "| a &lt;dbl&gt; | b &lt;dbl&gt; |\n",
       "|---|---|\n",
       "| 1 | 23 |\n",
       "| 4 | 56 |\n",
       "\n"
      ],
      "text/plain": [
       "  a b \n",
       "1 1 23\n",
       "2 4 56"
      ]
     },
     "metadata": {},
     "output_type": "display_data"
    },
    {
     "name": "stderr",
     "output_type": "stream",
     "text": [
      "Warning message:\n",
      "\"One or more parsing issues, see `problems()` for details\"\n",
      "\u001b[1mRows: \u001b[22m\u001b[34m2\u001b[39m \u001b[1mColumns: \u001b[22m\u001b[34m3\u001b[39m\n",
      "\u001b[36m--\u001b[39m \u001b[1mColumn specification\u001b[22m \u001b[36m------------------------------------------------------------------------------------------------\u001b[39m\n",
      "\u001b[1mDelimiter:\u001b[22m \",\"\n",
      "\u001b[32mdbl\u001b[39m (2): a, b\n",
      "\n",
      "\u001b[36mi\u001b[39m Use `spec()` to retrieve the full column specification for this data.\n",
      "\u001b[36mi\u001b[39m Specify the column types or set `show_col_types = FALSE` to quiet this message.\n"
     ]
    },
    {
     "data": {
      "text/html": [
       "<table class=\"dataframe\">\n",
       "<caption>A spec_tbl_df: 2 × 3</caption>\n",
       "<thead>\n",
       "\t<tr><th scope=col>a</th><th scope=col>b</th><th scope=col>c</th></tr>\n",
       "\t<tr><th scope=col>&lt;dbl&gt;</th><th scope=col>&lt;dbl&gt;</th><th scope=col>&lt;dbl&gt;</th></tr>\n",
       "</thead>\n",
       "<tbody>\n",
       "\t<tr><td>1</td><td>2</td><td>NA</td></tr>\n",
       "\t<tr><td>1</td><td>2</td><td>34</td></tr>\n",
       "</tbody>\n",
       "</table>\n"
      ],
      "text/latex": [
       "A spec\\_tbl\\_df: 2 × 3\n",
       "\\begin{tabular}{lll}\n",
       " a & b & c\\\\\n",
       " <dbl> & <dbl> & <dbl>\\\\\n",
       "\\hline\n",
       "\t 1 & 2 & NA\\\\\n",
       "\t 1 & 2 & 34\\\\\n",
       "\\end{tabular}\n"
      ],
      "text/markdown": [
       "\n",
       "A spec_tbl_df: 2 × 3\n",
       "\n",
       "| a &lt;dbl&gt; | b &lt;dbl&gt; | c &lt;dbl&gt; |\n",
       "|---|---|---|\n",
       "| 1 | 2 | NA |\n",
       "| 1 | 2 | 34 |\n",
       "\n"
      ],
      "text/plain": [
       "  a b c \n",
       "1 1 2 NA\n",
       "2 1 2 34"
      ]
     },
     "metadata": {},
     "output_type": "display_data"
    },
    {
     "name": "stderr",
     "output_type": "stream",
     "text": [
      "\u001b[1mRows: \u001b[22m\u001b[34m0\u001b[39m \u001b[1mColumns: \u001b[22m\u001b[34m2\u001b[39m\n",
      "\u001b[36m--\u001b[39m \u001b[1mColumn specification\u001b[22m \u001b[36m------------------------------------------------------------------------------------------------\u001b[39m\n",
      "\u001b[1mDelimiter:\u001b[22m \",\"\n",
      "\u001b[31mchr\u001b[39m (2): a, b\n",
      "\n",
      "\u001b[36mi\u001b[39m Use `spec()` to retrieve the full column specification for this data.\n",
      "\u001b[36mi\u001b[39m Specify the column types or set `show_col_types = FALSE` to quiet this message.\n"
     ]
    },
    {
     "data": {
      "text/html": [
       "<table class=\"dataframe\">\n",
       "<caption>A spec_tbl_df: 0 × 2</caption>\n",
       "<thead>\n",
       "\t<tr><th scope=col>a</th><th scope=col>b</th></tr>\n",
       "\t<tr><th scope=col>&lt;chr&gt;</th><th scope=col>&lt;chr&gt;</th></tr>\n",
       "</thead>\n",
       "<tbody>\n",
       "</tbody>\n",
       "</table>\n"
      ],
      "text/latex": [
       "A spec\\_tbl\\_df: 0 × 2\n",
       "\\begin{tabular}{ll}\n",
       " a & b\\\\\n",
       " <chr> & <chr>\\\\\n",
       "\\hline\n",
       "\\end{tabular}\n"
      ],
      "text/markdown": [
       "\n",
       "A spec_tbl_df: 0 × 2\n",
       "\n",
       "| a &lt;chr&gt; | b &lt;chr&gt; |\n",
       "|---|---|\n",
       "\n"
      ],
      "text/plain": [
       "     a b"
      ]
     },
     "metadata": {},
     "output_type": "display_data"
    },
    {
     "name": "stderr",
     "output_type": "stream",
     "text": [
      "\u001b[1mRows: \u001b[22m\u001b[34m2\u001b[39m \u001b[1mColumns: \u001b[22m\u001b[34m2\u001b[39m\n",
      "\u001b[36m--\u001b[39m \u001b[1mColumn specification\u001b[22m \u001b[36m------------------------------------------------------------------------------------------------\u001b[39m\n",
      "\u001b[1mDelimiter:\u001b[22m \",\"\n",
      "\u001b[31mchr\u001b[39m (2): a, b\n",
      "\n",
      "\u001b[36mi\u001b[39m Use `spec()` to retrieve the full column specification for this data.\n",
      "\u001b[36mi\u001b[39m Specify the column types or set `show_col_types = FALSE` to quiet this message.\n"
     ]
    },
    {
     "data": {
      "text/html": [
       "<table class=\"dataframe\">\n",
       "<caption>A spec_tbl_df: 2 × 2</caption>\n",
       "<thead>\n",
       "\t<tr><th scope=col>a</th><th scope=col>b</th></tr>\n",
       "\t<tr><th scope=col>&lt;chr&gt;</th><th scope=col>&lt;chr&gt;</th></tr>\n",
       "</thead>\n",
       "<tbody>\n",
       "\t<tr><td>1</td><td>2</td></tr>\n",
       "\t<tr><td>a</td><td>b</td></tr>\n",
       "</tbody>\n",
       "</table>\n"
      ],
      "text/latex": [
       "A spec\\_tbl\\_df: 2 × 2\n",
       "\\begin{tabular}{ll}\n",
       " a & b\\\\\n",
       " <chr> & <chr>\\\\\n",
       "\\hline\n",
       "\t 1 & 2\\\\\n",
       "\t a & b\\\\\n",
       "\\end{tabular}\n"
      ],
      "text/markdown": [
       "\n",
       "A spec_tbl_df: 2 × 2\n",
       "\n",
       "| a &lt;chr&gt; | b &lt;chr&gt; |\n",
       "|---|---|\n",
       "| 1 | 2 |\n",
       "| a | b |\n",
       "\n"
      ],
      "text/plain": [
       "  a b\n",
       "1 1 2\n",
       "2 a b"
      ]
     },
     "metadata": {},
     "output_type": "display_data"
    },
    {
     "name": "stderr",
     "output_type": "stream",
     "text": [
      "\u001b[1mRows: \u001b[22m\u001b[34m1\u001b[39m \u001b[1mColumns: \u001b[22m\u001b[34m1\u001b[39m\n",
      "\u001b[36m--\u001b[39m \u001b[1mColumn specification\u001b[22m \u001b[36m------------------------------------------------------------------------------------------------\u001b[39m\n",
      "\u001b[1mDelimiter:\u001b[22m \",\"\n",
      "\u001b[31mchr\u001b[39m (1): a;b\n",
      "\n",
      "\u001b[36mi\u001b[39m Use `spec()` to retrieve the full column specification for this data.\n",
      "\u001b[36mi\u001b[39m Specify the column types or set `show_col_types = FALSE` to quiet this message.\n"
     ]
    },
    {
     "data": {
      "text/html": [
       "<table class=\"dataframe\">\n",
       "<caption>A spec_tbl_df: 1 × 1</caption>\n",
       "<thead>\n",
       "\t<tr><th scope=col>a;b</th></tr>\n",
       "\t<tr><th scope=col>&lt;chr&gt;</th></tr>\n",
       "</thead>\n",
       "<tbody>\n",
       "\t<tr><td>1;3</td></tr>\n",
       "</tbody>\n",
       "</table>\n"
      ],
      "text/latex": [
       "A spec\\_tbl\\_df: 1 × 1\n",
       "\\begin{tabular}{l}\n",
       " a;b\\\\\n",
       " <chr>\\\\\n",
       "\\hline\n",
       "\t 1;3\\\\\n",
       "\\end{tabular}\n"
      ],
      "text/markdown": [
       "\n",
       "A spec_tbl_df: 1 × 1\n",
       "\n",
       "| a;b &lt;chr&gt; |\n",
       "|---|\n",
       "| 1;3 |\n",
       "\n"
      ],
      "text/plain": [
       "  a;b\n",
       "1 1;3"
      ]
     },
     "metadata": {},
     "output_type": "display_data"
    },
    {
     "name": "stderr",
     "output_type": "stream",
     "text": [
      "\u001b[36mi\u001b[39m Using \u001b[34m\u001b[34m\"','\"\u001b[34m\u001b[39m as decimal and \u001b[34m\u001b[34m\"'.'\"\u001b[34m\u001b[39m as grouping mark. Use `read_delim()` for more control.\n",
      "\n",
      "\u001b[1mRows: \u001b[22m\u001b[34m1\u001b[39m \u001b[1mColumns: \u001b[22m\u001b[34m2\u001b[39m\n",
      "\u001b[36m--\u001b[39m \u001b[1mColumn specification\u001b[22m \u001b[36m------------------------------------------------------------------------------------------------\u001b[39m\n",
      "\u001b[1mDelimiter:\u001b[22m \";\"\n",
      "\u001b[32mdbl\u001b[39m (2): a, b\n",
      "\n",
      "\u001b[36mi\u001b[39m Use `spec()` to retrieve the full column specification for this data.\n",
      "\u001b[36mi\u001b[39m Specify the column types or set `show_col_types = FALSE` to quiet this message.\n"
     ]
    },
    {
     "data": {
      "text/html": [
       "<table class=\"dataframe\">\n",
       "<caption>A spec_tbl_df: 1 × 2</caption>\n",
       "<thead>\n",
       "\t<tr><th scope=col>a</th><th scope=col>b</th></tr>\n",
       "\t<tr><th scope=col>&lt;dbl&gt;</th><th scope=col>&lt;dbl&gt;</th></tr>\n",
       "</thead>\n",
       "<tbody>\n",
       "\t<tr><td>1</td><td>3</td></tr>\n",
       "</tbody>\n",
       "</table>\n"
      ],
      "text/latex": [
       "A spec\\_tbl\\_df: 1 × 2\n",
       "\\begin{tabular}{ll}\n",
       " a & b\\\\\n",
       " <dbl> & <dbl>\\\\\n",
       "\\hline\n",
       "\t 1 & 3\\\\\n",
       "\\end{tabular}\n"
      ],
      "text/markdown": [
       "\n",
       "A spec_tbl_df: 1 × 2\n",
       "\n",
       "| a &lt;dbl&gt; | b &lt;dbl&gt; |\n",
       "|---|---|\n",
       "| 1 | 3 |\n",
       "\n"
      ],
      "text/plain": [
       "  a b\n",
       "1 1 3"
      ]
     },
     "metadata": {},
     "output_type": "display_data"
    }
   ],
   "source": [
    "# 5\n",
    "read_csv(\"a,b\\n1,2,3\\n4,5,6\")\n",
    "read_csv(\"a,b,c\\n1,2\\n1,2,3,4\")\n",
    "read_csv(\"a,b\\n\\\"1\")\n",
    "read_csv(\"a,b\\n1,2\\na,b\")\n",
    "read_csv(\"a;b\\n1;3\")\n",
    "read_csv2(\"a;b\\n1;3\")"
   ]
  },
  {
   "cell_type": "markdown",
   "id": "1540237f",
   "metadata": {},
   "source": [
    "### 벡터 파싱"
   ]
  },
  {
   "cell_type": "markdown",
   "id": "f4c38349",
   "metadata": {},
   "source": [
    "### * parse_logical() : 논리형 파싱\n",
    "### * parse_integer() : 정수형 파싱\n",
    "### * parse_double() : 실수형 파싱\n",
    "### * parse_number() : 수치형 파싱 "
   ]
  },
  {
   "cell_type": "code",
   "execution_count": 23,
   "id": "6c37b06e",
   "metadata": {},
   "outputs": [
    {
     "data": {
      "text/html": [
       "<style>\n",
       ".list-inline {list-style: none; margin:0; padding: 0}\n",
       ".list-inline>li {display: inline-block}\n",
       ".list-inline>li:not(:last-child)::after {content: \"\\00b7\"; padding: 0 .5ex}\n",
       "</style>\n",
       "<ol class=list-inline><li>TRUE</li><li>FALSE</li><li>&lt;NA&gt;</li></ol>\n"
      ],
      "text/latex": [
       "\\begin{enumerate*}\n",
       "\\item TRUE\n",
       "\\item FALSE\n",
       "\\item <NA>\n",
       "\\end{enumerate*}\n"
      ],
      "text/markdown": [
       "1. TRUE\n",
       "2. FALSE\n",
       "3. &lt;NA&gt;\n",
       "\n",
       "\n"
      ],
      "text/plain": [
       "[1]  TRUE FALSE    NA"
      ]
     },
     "metadata": {},
     "output_type": "display_data"
    },
    {
     "data": {
      "text/html": [
       "<style>\n",
       ".list-inline {list-style: none; margin:0; padding: 0}\n",
       ".list-inline>li {display: inline-block}\n",
       ".list-inline>li:not(:last-child)::after {content: \"\\00b7\"; padding: 0 .5ex}\n",
       "</style>\n",
       "<ol class=list-inline><li>1</li><li>2</li><li>3</li></ol>\n"
      ],
      "text/latex": [
       "\\begin{enumerate*}\n",
       "\\item 1\n",
       "\\item 2\n",
       "\\item 3\n",
       "\\end{enumerate*}\n"
      ],
      "text/markdown": [
       "1. 1\n",
       "2. 2\n",
       "3. 3\n",
       "\n",
       "\n"
      ],
      "text/plain": [
       "[1] 1 2 3"
      ]
     },
     "metadata": {},
     "output_type": "display_data"
    },
    {
     "data": {
      "text/html": [
       "<style>\n",
       ".list-inline {list-style: none; margin:0; padding: 0}\n",
       ".list-inline>li {display: inline-block}\n",
       ".list-inline>li:not(:last-child)::after {content: \"\\00b7\"; padding: 0 .5ex}\n",
       "</style>\n",
       "<ol class=list-inline><li><time datetime=\"2010-01-01\">2010-01-01</time></li><li><time datetime=\"1979-10-14\">1979-10-14</time></li></ol>\n"
      ],
      "text/latex": [
       "\\begin{enumerate*}\n",
       "\\item 2010-01-01\n",
       "\\item 1979-10-14\n",
       "\\end{enumerate*}\n"
      ],
      "text/markdown": [
       "1. 2010-01-01\n",
       "2. 1979-10-14\n",
       "\n",
       "\n"
      ],
      "text/plain": [
       "[1] \"2010-01-01\" \"1979-10-14\""
      ]
     },
     "metadata": {},
     "output_type": "display_data"
    }
   ],
   "source": [
    "parse_logical(c(\"TRUE\", \"FALSE\", \"NA\")) # 논리형 파싱\n",
    "parse_integer(c(\"1\", \"2\", \"3\")) # 정수형 파싱\n",
    "parse_date(c(\"2010-01-01\", \"1979-10-14\")) # 날짜형 파싱"
   ]
  },
  {
   "cell_type": "code",
   "execution_count": 24,
   "id": "de78b0b5",
   "metadata": {},
   "outputs": [
    {
     "data": {
      "text/html": [
       "<style>\n",
       ".list-inline {list-style: none; margin:0; padding: 0}\n",
       ".list-inline>li {display: inline-block}\n",
       ".list-inline>li:not(:last-child)::after {content: \"\\00b7\"; padding: 0 .5ex}\n",
       "</style>\n",
       "<ol class=list-inline><li>1</li><li>123</li><li>&lt;NA&gt;</li><li>456</li></ol>\n"
      ],
      "text/latex": [
       "\\begin{enumerate*}\n",
       "\\item 1\n",
       "\\item 123\n",
       "\\item <NA>\n",
       "\\item 456\n",
       "\\end{enumerate*}\n"
      ],
      "text/markdown": [
       "1. 1\n",
       "2. 123\n",
       "3. &lt;NA&gt;\n",
       "4. 456\n",
       "\n",
       "\n"
      ],
      "text/plain": [
       "[1]   1 123  NA 456"
      ]
     },
     "metadata": {},
     "output_type": "display_data"
    }
   ],
   "source": [
    "parse_integer(c(\"1\", \"123\", \"?\", \"456\"), na = \"?\") # ?를 NA로 인식"
   ]
  },
  {
   "cell_type": "code",
   "execution_count": 25,
   "id": "57991a9f",
   "metadata": {},
   "outputs": [
    {
     "data": {
      "text/html": [
       "1.23"
      ],
      "text/latex": [
       "1.23"
      ],
      "text/markdown": [
       "1.23"
      ],
      "text/plain": [
       "[1] 1.23"
      ]
     },
     "metadata": {},
     "output_type": "display_data"
    }
   ],
   "source": [
    "parse_double(\"1.23\")"
   ]
  },
  {
   "cell_type": "code",
   "execution_count": 29,
   "id": "fb4d86e4",
   "metadata": {},
   "outputs": [
    {
     "data": {
      "text/html": [
       "1.23"
      ],
      "text/latex": [
       "1.23"
      ],
      "text/markdown": [
       "1.23"
      ],
      "text/plain": [
       "[1] 1.23"
      ]
     },
     "metadata": {},
     "output_type": "display_data"
    }
   ],
   "source": [
    "parse_double(\"1,23\", locale = locale(decimal_mark = \",\")) # \",\"를 소수점으로 인식 "
   ]
  },
  {
   "cell_type": "code",
   "execution_count": 31,
   "id": "99a81cab",
   "metadata": {},
   "outputs": [
    {
     "data": {
      "text/html": [
       "100"
      ],
      "text/latex": [
       "100"
      ],
      "text/markdown": [
       "100"
      ],
      "text/plain": [
       "[1] 100"
      ]
     },
     "metadata": {},
     "output_type": "display_data"
    },
    {
     "data": {
      "text/html": [
       "20"
      ],
      "text/latex": [
       "20"
      ],
      "text/markdown": [
       "20"
      ],
      "text/plain": [
       "[1] 20"
      ]
     },
     "metadata": {},
     "output_type": "display_data"
    },
    {
     "data": {
      "text/html": [
       "123.45"
      ],
      "text/latex": [
       "123.45"
      ],
      "text/markdown": [
       "123.45"
      ],
      "text/plain": [
       "[1] 123.45"
      ]
     },
     "metadata": {},
     "output_type": "display_data"
    }
   ],
   "source": [
    "# 숫자 앞뒤의 비수치 문자를 무시\n",
    "parse_number(\"$100\")\n",
    "parse_number(\"20%\")\n",
    "parse_number(\"It cost $123.45\")"
   ]
  },
  {
   "cell_type": "code",
   "execution_count": 32,
   "id": "3c81f53f",
   "metadata": {},
   "outputs": [
    {
     "data": {
      "text/html": [
       "123456789"
      ],
      "text/latex": [
       "123456789"
      ],
      "text/markdown": [
       "123456789"
      ],
      "text/plain": [
       "[1] 123456789"
      ]
     },
     "metadata": {},
     "output_type": "display_data"
    },
    {
     "data": {
      "text/html": [
       "123456789"
      ],
      "text/latex": [
       "123456789"
      ],
      "text/markdown": [
       "123456789"
      ],
      "text/plain": [
       "[1] 123456789"
      ]
     },
     "metadata": {},
     "output_type": "display_data"
    },
    {
     "data": {
      "text/html": [
       "123456789"
      ],
      "text/latex": [
       "123456789"
      ],
      "text/markdown": [
       "123456789"
      ],
      "text/plain": [
       "[1] 123456789"
      ]
     },
     "metadata": {},
     "output_type": "display_data"
    }
   ],
   "source": [
    "parse_number(\"$123,456,789\") # 미국식\n",
    "parse_number(\"123.456.789\", locale = locale(grouping_mark = \".\")) # 유럽식\n",
    "parse_number(\"123'456'789\", locale = locale(grouping_mark = \"''\")) # 스위스식"
   ]
  },
  {
   "cell_type": "markdown",
   "id": "2e298fc3",
   "metadata": {},
   "source": [
    "### * parse_character() : 문자형 파싱 "
   ]
  },
  {
   "cell_type": "code",
   "execution_count": 36,
   "id": "418fb72f",
   "metadata": {},
   "outputs": [
    {
     "data": {
      "text/plain": [
       "[1] 48 61 64 6c 65 79"
      ]
     },
     "metadata": {},
     "output_type": "display_data"
    }
   ],
   "source": [
    "charToRaw(\"Hadley\") # 아스키 인코딩"
   ]
  },
  {
   "cell_type": "code",
   "execution_count": 38,
   "id": "9f47504b",
   "metadata": {},
   "outputs": [
    {
     "data": {
      "text/html": [
       "'El Ni\\xf1o was particularly bad this year'"
      ],
      "text/latex": [
       "'El Ni\\textbackslash{}xf1o was particularly bad this year'"
      ],
      "text/markdown": [
       "'El Ni\\xf1o was particularly bad this year'"
      ],
      "text/plain": [
       "[1] \"El Ni\\xf1o was particularly bad this year\""
      ]
     },
     "metadata": {},
     "output_type": "display_data"
    },
    {
     "data": {
      "text/html": [
       "'궞귪궸궭궼'"
      ],
      "text/latex": [
       "'궞귪궸궭궼'"
      ],
      "text/markdown": [
       "'궞귪궸궭궼'"
      ],
      "text/plain": [
       "[1] \"궞귪궸궭궼\""
      ]
     },
     "metadata": {},
     "output_type": "display_data"
    }
   ],
   "source": [
    "(x1 <- \"El Ni\\xf1o was particularly bad this year\")\n",
    "(x2 <- \"\\x82\\xb1\\x82\\xf1\\x82\\xc9\\x82\\xbf\\x82\\xcd\")"
   ]
  },
  {
   "cell_type": "code",
   "execution_count": 42,
   "id": "f1b77400",
   "metadata": {},
   "outputs": [
    {
     "data": {
      "text/html": [
       "'El Niño was particularly bad this year'"
      ],
      "text/latex": [
       "'El Niño was particularly bad this year'"
      ],
      "text/markdown": [
       "'El Niño was particularly bad this year'"
      ],
      "text/plain": [
       "[1] \"El Nino was particularly bad this year\""
      ]
     },
     "metadata": {},
     "output_type": "display_data"
    },
    {
     "data": {
      "text/html": [
       "'こんにちは'"
      ],
      "text/latex": [
       "'こんにちは'"
      ],
      "text/markdown": [
       "'こんにちは'"
      ],
      "text/plain": [
       "[1] \"こんにちは\""
      ]
     },
     "metadata": {},
     "output_type": "display_data"
    }
   ],
   "source": [
    "parse_character(x1, locale = locale(encoding = \"Latin1\"))\n",
    "parse_character(x2, locale = locale(encoding = \"Shift-JIS\"))"
   ]
  },
  {
   "cell_type": "code",
   "execution_count": 44,
   "id": "8464bb11",
   "metadata": {},
   "outputs": [
    {
     "data": {
      "text/html": [
       "<table class=\"dataframe\">\n",
       "<caption>A tibble: 2 × 2</caption>\n",
       "<thead>\n",
       "\t<tr><th scope=col>encoding</th><th scope=col>confidence</th></tr>\n",
       "\t<tr><th scope=col>&lt;chr&gt;</th><th scope=col>&lt;dbl&gt;</th></tr>\n",
       "</thead>\n",
       "<tbody>\n",
       "\t<tr><td>ISO-8859-1</td><td>0.46</td></tr>\n",
       "\t<tr><td>ISO-8859-9</td><td>0.23</td></tr>\n",
       "</tbody>\n",
       "</table>\n"
      ],
      "text/latex": [
       "A tibble: 2 × 2\n",
       "\\begin{tabular}{ll}\n",
       " encoding & confidence\\\\\n",
       " <chr> & <dbl>\\\\\n",
       "\\hline\n",
       "\t ISO-8859-1 & 0.46\\\\\n",
       "\t ISO-8859-9 & 0.23\\\\\n",
       "\\end{tabular}\n"
      ],
      "text/markdown": [
       "\n",
       "A tibble: 2 × 2\n",
       "\n",
       "| encoding &lt;chr&gt; | confidence &lt;dbl&gt; |\n",
       "|---|---|\n",
       "| ISO-8859-1 | 0.46 |\n",
       "| ISO-8859-9 | 0.23 |\n",
       "\n"
      ],
      "text/plain": [
       "  encoding   confidence\n",
       "1 ISO-8859-1 0.46      \n",
       "2 ISO-8859-9 0.23      "
      ]
     },
     "metadata": {},
     "output_type": "display_data"
    }
   ],
   "source": [
    "guess_encoding(charToRaw(x1)) # 올바른 인코딩 탐색"
   ]
  },
  {
   "cell_type": "code",
   "execution_count": 45,
   "id": "8278166b",
   "metadata": {},
   "outputs": [
    {
     "data": {
      "text/html": [
       "<table class=\"dataframe\">\n",
       "<caption>A tibble: 1 × 2</caption>\n",
       "<thead>\n",
       "\t<tr><th scope=col>encoding</th><th scope=col>confidence</th></tr>\n",
       "\t<tr><th scope=col>&lt;chr&gt;</th><th scope=col>&lt;dbl&gt;</th></tr>\n",
       "</thead>\n",
       "<tbody>\n",
       "\t<tr><td>KOI8-R</td><td>0.42</td></tr>\n",
       "</tbody>\n",
       "</table>\n"
      ],
      "text/latex": [
       "A tibble: 1 × 2\n",
       "\\begin{tabular}{ll}\n",
       " encoding & confidence\\\\\n",
       " <chr> & <dbl>\\\\\n",
       "\\hline\n",
       "\t KOI8-R & 0.42\\\\\n",
       "\\end{tabular}\n"
      ],
      "text/markdown": [
       "\n",
       "A tibble: 1 × 2\n",
       "\n",
       "| encoding &lt;chr&gt; | confidence &lt;dbl&gt; |\n",
       "|---|---|\n",
       "| KOI8-R | 0.42 |\n",
       "\n"
      ],
      "text/plain": [
       "  encoding confidence\n",
       "1 KOI8-R   0.42      "
      ]
     },
     "metadata": {},
     "output_type": "display_data"
    }
   ],
   "source": [
    "guess_encoding(charToRaw(x2))"
   ]
  },
  {
   "cell_type": "markdown",
   "id": "1d28aaa7",
   "metadata": {},
   "source": [
    "### * parse_factor() : 요인형 생성"
   ]
  },
  {
   "cell_type": "code",
   "execution_count": 46,
   "id": "b6bd89af",
   "metadata": {},
   "outputs": [
    {
     "name": "stderr",
     "output_type": "stream",
     "text": [
      "Warning message:\n",
      "\"1 parsing failure.\n",
      "row col           expected   actual\n",
      "  3  -- value in level set bananana\n",
      "\"\n"
     ]
    },
    {
     "data": {
      "text/html": [
       "<style>\n",
       ".list-inline {list-style: none; margin:0; padding: 0}\n",
       ".list-inline>li {display: inline-block}\n",
       ".list-inline>li:not(:last-child)::after {content: \"\\00b7\"; padding: 0 .5ex}\n",
       "</style>\n",
       "<ol class=list-inline><li>apple</li><li>banana</li><li>&lt;NA&gt;</li></ol>\n",
       "\n",
       "<details>\n",
       "\t<summary style=display:list-item;cursor:pointer>\n",
       "\t\t<strong>Levels</strong>:\n",
       "\t</summary>\n",
       "\t<style>\n",
       "\t.list-inline {list-style: none; margin:0; padding: 0}\n",
       "\t.list-inline>li {display: inline-block}\n",
       "\t.list-inline>li:not(:last-child)::after {content: \"\\00b7\"; padding: 0 .5ex}\n",
       "\t</style>\n",
       "\t<ol class=list-inline><li>'apple'</li><li>'banana'</li></ol>\n",
       "</details>"
      ],
      "text/latex": [
       "\\begin{enumerate*}\n",
       "\\item apple\n",
       "\\item banana\n",
       "\\item <NA>\n",
       "\\end{enumerate*}\n",
       "\n",
       "\\emph{Levels}: \\begin{enumerate*}\n",
       "\\item 'apple'\n",
       "\\item 'banana'\n",
       "\\end{enumerate*}\n"
      ],
      "text/markdown": [
       "1. apple\n",
       "2. banana\n",
       "3. &lt;NA&gt;\n",
       "\n",
       "\n",
       "\n",
       "**Levels**: 1. 'apple'\n",
       "2. 'banana'\n",
       "\n",
       "\n"
      ],
      "text/plain": [
       "[1] apple  banana <NA>  \n",
       "attr(,\"problems\")\n",
       "\u001b[90m# A tibble: 1 x 4\u001b[39m\n",
       "    row   col expected           actual  \n",
       "  \u001b[3m\u001b[90m<int>\u001b[39m\u001b[23m \u001b[3m\u001b[90m<int>\u001b[39m\u001b[23m \u001b[3m\u001b[90m<chr>\u001b[39m\u001b[23m              \u001b[3m\u001b[90m<chr>\u001b[39m\u001b[23m   \n",
       "\u001b[90m1\u001b[39m     3    \u001b[31mNA\u001b[39m value in level set bananana\n",
       "Levels: apple banana"
      ]
     },
     "metadata": {},
     "output_type": "display_data"
    }
   ],
   "source": [
    "fruit <- c(\"apple\", \"banana\")\n",
    "parse_factor(c(\"apple\", \"banana\", \"bananana\"), levels = fruit)"
   ]
  },
  {
   "cell_type": "markdown",
   "id": "8b2d1bef",
   "metadata": {},
   "source": [
    "### * parse_datetime() : ISO 8601 날짜-시간 (국제 표준) (날짜가 가장 큰 것부터 가장 작은 것(년, 월, 일, 시, 분, 초)\n",
    "### * parse_date() : 네 자리 연도, -또는 /, 월, -또는 /, 날짜를 입력\n",
    "### * parse_time() : 시, :, 분 그리고 선택적으로 :, 초, 선택적 a.m. / p.m 표시를 입력"
   ]
  },
  {
   "cell_type": "code",
   "execution_count": 52,
   "id": "4eb33a14",
   "metadata": {},
   "outputs": [
    {
     "data": {
      "text/plain": [
       "[1] \"2010-10-01 20:10:00 UTC\""
      ]
     },
     "metadata": {},
     "output_type": "display_data"
    },
    {
     "data": {
      "text/plain": [
       "[1] \"2010-10-10 UTC\""
      ]
     },
     "metadata": {},
     "output_type": "display_data"
    }
   ],
   "source": [
    "parse_datetime(\"2010-10-01T2010\")\n",
    "parse_datetime(\"20101010\")"
   ]
  },
  {
   "cell_type": "code",
   "execution_count": 53,
   "id": "01537830",
   "metadata": {},
   "outputs": [
    {
     "data": {
      "text/html": [
       "<time datetime=\"2010-10-01\">2010-10-01</time>"
      ],
      "text/latex": [
       "2010-10-01"
      ],
      "text/markdown": [
       "2010-10-01"
      ],
      "text/plain": [
       "[1] \"2010-10-01\""
      ]
     },
     "metadata": {},
     "output_type": "display_data"
    }
   ],
   "source": [
    "parse_date(\"2010-10-01\")"
   ]
  },
  {
   "cell_type": "code",
   "execution_count": 54,
   "id": "118c8e74",
   "metadata": {},
   "outputs": [
    {
     "data": {
      "text/plain": [
       "01:10:00"
      ]
     },
     "metadata": {},
     "output_type": "display_data"
    },
    {
     "data": {
      "text/plain": [
       "20:10:01"
      ]
     },
     "metadata": {},
     "output_type": "display_data"
    }
   ],
   "source": [
    "library(hms)\n",
    "parse_time(\"01:10 am\")\n",
    "parse_time(\"20:10:01\")"
   ]
  },
  {
   "cell_type": "markdown",
   "id": "14fa5b1e",
   "metadata": {},
   "source": [
    "- 연\n",
    "    - %Y (4자리)\n",
    "    - %y (2자리)\n",
    "-  월\n",
    "    - %m (2자리)\n",
    "    - %b (\"Jan\"과 같이 축약된 명칭)\n",
    "    - %B (전체명칭, \"January\")\n",
    "- 일\n",
    "    - %d (2자리)\n",
    "    - %e (선택적 선행 공백)\n",
    "- 시간\n",
    "    - %H (0-23 시간 형식)\n",
    "    - %I (0-12, %p와 함꼐 사용함)\n",
    "    - %p (a.m / p.m 표시)\n",
    "    - %M (분)\n",
    "    - %S (정수 초)\n",
    "    - %OS (실수 초)\n",
    "    - %Z (시간대)\n",
    "    - %z (UTC와의 오프셋, +0800)\n",
    "- 숫자가 아닌 문자\n",
    "    - %. (숫자가 아닌 문자 하나를 건너뜀)\n",
    "    - %* (숫자가 아닌 문자 모두를 건너뜀)"
   ]
  },
  {
   "cell_type": "code",
   "execution_count": 55,
   "id": "1a8445b4",
   "metadata": {},
   "outputs": [
    {
     "data": {
      "text/html": [
       "<time datetime=\"2015-01-02\">2015-01-02</time>"
      ],
      "text/latex": [
       "2015-01-02"
      ],
      "text/markdown": [
       "2015-01-02"
      ],
      "text/plain": [
       "[1] \"2015-01-02\""
      ]
     },
     "metadata": {},
     "output_type": "display_data"
    },
    {
     "data": {
      "text/html": [
       "<time datetime=\"2015-02-01\">2015-02-01</time>"
      ],
      "text/latex": [
       "2015-02-01"
      ],
      "text/markdown": [
       "2015-02-01"
      ],
      "text/plain": [
       "[1] \"2015-02-01\""
      ]
     },
     "metadata": {},
     "output_type": "display_data"
    },
    {
     "data": {
      "text/html": [
       "<time datetime=\"2001-02-15\">2001-02-15</time>"
      ],
      "text/latex": [
       "2001-02-15"
      ],
      "text/markdown": [
       "2001-02-15"
      ],
      "text/plain": [
       "[1] \"2001-02-15\""
      ]
     },
     "metadata": {},
     "output_type": "display_data"
    }
   ],
   "source": [
    "parse_date(\"01/02/15\", \"%m/%d/%y\")\n",
    "parse_date(\"01/02/15\", \"%d/%m/%y\")\n",
    "parse_date(\"01/02/15\", \"%y/%m/%d\")"
   ]
  },
  {
   "cell_type": "code",
   "execution_count": 58,
   "id": "18a80c20",
   "metadata": {},
   "outputs": [
    {
     "data": {
      "text/html": [
       "<time datetime=\"2015-01-01\">2015-01-01</time>"
      ],
      "text/latex": [
       "2015-01-01"
      ],
      "text/markdown": [
       "2015-01-01"
      ],
      "text/plain": [
       "[1] \"2015-01-01\""
      ]
     },
     "metadata": {},
     "output_type": "display_data"
    }
   ],
   "source": [
    "parse_date(\"1 janvier 2015\", \"%d %B %Y\", locale = locale(\"fr\"))"
   ]
  },
  {
   "cell_type": "markdown",
   "id": "6d9307b4",
   "metadata": {},
   "source": [
    "### locale()에서 가장 중요한 인수?\n",
    "\n",
    "The locale object has arguments to set the following:\n",
    "\n",
    "* date and time formats : date_names, date_format, and time_format\n",
    "* time zone : tz\n",
    "* numbers : decimal_mark, grouping_mark\n",
    "* encoding : encoding"
   ]
  },
  {
   "cell_type": "markdown",
   "id": "6d9c658c",
   "metadata": {},
   "source": [
    "### 많이 사용되는 인코딩\n",
    "* Western European Latin script languages: ISO-8859-1, Windows-1250 (also CP-1250 for code-point)\n",
    "* Eastern European Latin script languages: ISO-8859-2, Windows-1252\n",
    "* Greek: ISO-8859-7\n",
    "* Turkish: ISO-8859-9, Windows-1254\n",
    "* Hebrew: ISO-8859-8, IBM424, Windows 1255\n",
    "* Russian: Windows 1251\n",
    "* Japanese: Shift JIS, ISO-2022-JP, EUC-JP\n",
    "* Korean: ISO-2022-KR, EUC-KR\n",
    "* Chinese: GB18030, ISO-2022-CN (Simplified), Big5 (Traditional)\n",
    "* Arabic: ISO-8859-6, IBM420, Windows 1256"
   ]
  },
  {
   "cell_type": "code",
   "execution_count": 59,
   "id": "bce83a90",
   "metadata": {},
   "outputs": [],
   "source": [
    "d1 <- \"January 1, 2010\"\n",
    "d2 <- \"2015-Mar-07\"\n",
    "d3 <- \"06-Jun-2017\"\n",
    "d4 <- c(\"August 19 (2015)\", \"July 1 (2015)\")\n",
    "d5 <- \"12/30/14\" # Dec 30, 2014\n",
    "t1 <- \"1705\"\n",
    "t2 <- \"11:15:10.12 PM\""
   ]
  },
  {
   "cell_type": "code",
   "execution_count": 67,
   "id": "5185f96d",
   "metadata": {},
   "outputs": [
    {
     "data": {
      "text/html": [
       "<time datetime=\"2010-01-01\">2010-01-01</time>"
      ],
      "text/latex": [
       "2010-01-01"
      ],
      "text/markdown": [
       "2010-01-01"
      ],
      "text/plain": [
       "[1] \"2010-01-01\""
      ]
     },
     "metadata": {},
     "output_type": "display_data"
    },
    {
     "data": {
      "text/html": [
       "<time datetime=\"2015-03-07\">2015-03-07</time>"
      ],
      "text/latex": [
       "2015-03-07"
      ],
      "text/markdown": [
       "2015-03-07"
      ],
      "text/plain": [
       "[1] \"2015-03-07\""
      ]
     },
     "metadata": {},
     "output_type": "display_data"
    },
    {
     "data": {
      "text/html": [
       "<time datetime=\"2017-06-06\">2017-06-06</time>"
      ],
      "text/latex": [
       "2017-06-06"
      ],
      "text/markdown": [
       "2017-06-06"
      ],
      "text/plain": [
       "[1] \"2017-06-06\""
      ]
     },
     "metadata": {},
     "output_type": "display_data"
    },
    {
     "data": {
      "text/html": [
       "<style>\n",
       ".list-inline {list-style: none; margin:0; padding: 0}\n",
       ".list-inline>li {display: inline-block}\n",
       ".list-inline>li:not(:last-child)::after {content: \"\\00b7\"; padding: 0 .5ex}\n",
       "</style>\n",
       "<ol class=list-inline><li><time datetime=\"2015-08-19\">2015-08-19</time></li><li><time datetime=\"2015-07-01\">2015-07-01</time></li></ol>\n"
      ],
      "text/latex": [
       "\\begin{enumerate*}\n",
       "\\item 2015-08-19\n",
       "\\item 2015-07-01\n",
       "\\end{enumerate*}\n"
      ],
      "text/markdown": [
       "1. 2015-08-19\n",
       "2. 2015-07-01\n",
       "\n",
       "\n"
      ],
      "text/plain": [
       "[1] \"2015-08-19\" \"2015-07-01\""
      ]
     },
     "metadata": {},
     "output_type": "display_data"
    },
    {
     "data": {
      "text/html": [
       "<time datetime=\"2014-12-30\">2014-12-30</time>"
      ],
      "text/latex": [
       "2014-12-30"
      ],
      "text/markdown": [
       "2014-12-30"
      ],
      "text/plain": [
       "[1] \"2014-12-30\""
      ]
     },
     "metadata": {},
     "output_type": "display_data"
    },
    {
     "data": {
      "text/plain": [
       "17:05:00"
      ]
     },
     "metadata": {},
     "output_type": "display_data"
    },
    {
     "data": {
      "text/plain": [
       "23:15:10.12"
      ]
     },
     "metadata": {},
     "output_type": "display_data"
    }
   ],
   "source": [
    "parse_date(d1, \"%B %d, %Y\")\n",
    "parse_date(d2, \"%Y-%b-%d\")\n",
    "parse_date(d3, \"%d-%b-%Y\")\n",
    "parse_date(d4, \"%B %d (%Y)\")\n",
    "parse_date(d5, \"%m/%d/%y\")\n",
    "parse_time(t1, \"%H%M\")\n",
    "parse_time(t2, \"%H:%M:%OS %p\")"
   ]
  },
  {
   "cell_type": "markdown",
   "id": "4c2da81d",
   "metadata": {},
   "source": [
    "### 파일 파싱\n",
    "* guess_parser() : readr의 추정을 반환\n",
    "* parse_guess() : 앞의 추정을 사용하여 열을 파싱"
   ]
  },
  {
   "cell_type": "code",
   "execution_count": 69,
   "id": "79c42dc2",
   "metadata": {},
   "outputs": [
    {
     "data": {
      "text/html": [
       "'date'"
      ],
      "text/latex": [
       "'date'"
      ],
      "text/markdown": [
       "'date'"
      ],
      "text/plain": [
       "[1] \"date\""
      ]
     },
     "metadata": {},
     "output_type": "display_data"
    },
    {
     "data": {
      "text/html": [
       "'time'"
      ],
      "text/latex": [
       "'time'"
      ],
      "text/markdown": [
       "'time'"
      ],
      "text/plain": [
       "[1] \"time\""
      ]
     },
     "metadata": {},
     "output_type": "display_data"
    },
    {
     "data": {
      "text/html": [
       "'logical'"
      ],
      "text/latex": [
       "'logical'"
      ],
      "text/markdown": [
       "'logical'"
      ],
      "text/plain": [
       "[1] \"logical\""
      ]
     },
     "metadata": {},
     "output_type": "display_data"
    },
    {
     "data": {
      "text/html": [
       "'double'"
      ],
      "text/latex": [
       "'double'"
      ],
      "text/markdown": [
       "'double'"
      ],
      "text/plain": [
       "[1] \"double\""
      ]
     },
     "metadata": {},
     "output_type": "display_data"
    },
    {
     "data": {
      "text/html": [
       "'number'"
      ],
      "text/latex": [
       "'number'"
      ],
      "text/markdown": [
       "'number'"
      ],
      "text/plain": [
       "[1] \"number\""
      ]
     },
     "metadata": {},
     "output_type": "display_data"
    }
   ],
   "source": [
    "guess_parser(\"2010-10-01\")\n",
    "guess_parser(\"15:01\")\n",
    "guess_parser(c(\"TRUE\", \"FALSE\"))\n",
    "guess_parser(c(\"1\", \"5\", \"9\"))\n",
    "guess_parser(c(\"12,352,561\"))"
   ]
  },
  {
   "cell_type": "code",
   "execution_count": 71,
   "id": "86a087c8",
   "metadata": {},
   "outputs": [
    {
     "name": "stdout",
     "output_type": "stream",
     "text": [
      " Date[1:1], format: \"2010-10-01\"\n"
     ]
    }
   ],
   "source": [
    "str(parse_guess(\"2010-10-01\"))"
   ]
  },
  {
   "cell_type": "markdown",
   "id": "565fa5e9",
   "metadata": {},
   "source": [
    "* 논리형 : 'F', 'T', 'FALSE', 'TRUE'\n",
    "* 정수형\n",
    "* 소수형\n",
    "* 타임형\n",
    "* 데이트형\n",
    "* 데이트-타임형 (ISO 8601)"
   ]
  },
  {
   "cell_type": "markdown",
   "id": "3ead4c2e",
   "metadata": {},
   "source": [
    "### problem"
   ]
  },
  {
   "cell_type": "code",
   "execution_count": 74,
   "id": "8d850125",
   "metadata": {},
   "outputs": [
    {
     "name": "stderr",
     "output_type": "stream",
     "text": [
      "\u001b[1mRows: \u001b[22m\u001b[34m2000\u001b[39m \u001b[1mColumns: \u001b[22m\u001b[34m2\u001b[39m\n",
      "\u001b[36m--\u001b[39m \u001b[1mColumn specification\u001b[22m \u001b[36m------------------------------------------------------------------------------------------------\u001b[39m\n",
      "\u001b[1mDelimiter:\u001b[22m \",\"\n",
      "\u001b[32mdbl\u001b[39m  (1): x\n",
      "\u001b[34mdate\u001b[39m (1): y\n",
      "\n",
      "\u001b[36mi\u001b[39m Use `spec()` to retrieve the full column specification for this data.\n",
      "\u001b[36mi\u001b[39m Specify the column types or set `show_col_types = FALSE` to quiet this message.\n"
     ]
    }
   ],
   "source": [
    "challenge <- read_csv(readr_example(\"challenge.csv\"))"
   ]
  },
  {
   "cell_type": "code",
   "execution_count": 85,
   "id": "93b2ffd3",
   "metadata": {},
   "outputs": [
    {
     "data": {
      "text/html": [
       "<table class=\"dataframe\">\n",
       "<caption>A tibble: 6 × 2</caption>\n",
       "<thead>\n",
       "\t<tr><th scope=col>x</th><th scope=col>y</th></tr>\n",
       "\t<tr><th scope=col>&lt;dbl&gt;</th><th scope=col>&lt;chr&gt;</th></tr>\n",
       "</thead>\n",
       "<tbody>\n",
       "\t<tr><td> 404</td><td>NA</td></tr>\n",
       "\t<tr><td>4172</td><td>NA</td></tr>\n",
       "\t<tr><td>3004</td><td>NA</td></tr>\n",
       "\t<tr><td> 787</td><td>NA</td></tr>\n",
       "\t<tr><td>  37</td><td>NA</td></tr>\n",
       "\t<tr><td>2332</td><td>NA</td></tr>\n",
       "</tbody>\n",
       "</table>\n"
      ],
      "text/latex": [
       "A tibble: 6 × 2\n",
       "\\begin{tabular}{ll}\n",
       " x & y\\\\\n",
       " <dbl> & <chr>\\\\\n",
       "\\hline\n",
       "\t  404 & NA\\\\\n",
       "\t 4172 & NA\\\\\n",
       "\t 3004 & NA\\\\\n",
       "\t  787 & NA\\\\\n",
       "\t   37 & NA\\\\\n",
       "\t 2332 & NA\\\\\n",
       "\\end{tabular}\n"
      ],
      "text/markdown": [
       "\n",
       "A tibble: 6 × 2\n",
       "\n",
       "| x &lt;dbl&gt; | y &lt;chr&gt; |\n",
       "|---|---|\n",
       "|  404 | NA |\n",
       "| 4172 | NA |\n",
       "| 3004 | NA |\n",
       "|  787 | NA |\n",
       "|   37 | NA |\n",
       "| 2332 | NA |\n",
       "\n"
      ],
      "text/plain": [
       "  x    y \n",
       "1  404 NA\n",
       "2 4172 NA\n",
       "3 3004 NA\n",
       "4  787 NA\n",
       "5   37 NA\n",
       "6 2332 NA"
      ]
     },
     "metadata": {},
     "output_type": "display_data"
    },
    {
     "data": {
      "text/html": [
       "<table class=\"dataframe\">\n",
       "<caption>A tibble: 6 × 2</caption>\n",
       "<thead>\n",
       "\t<tr><th scope=col>x</th><th scope=col>y</th></tr>\n",
       "\t<tr><th scope=col>&lt;dbl&gt;</th><th scope=col>&lt;chr&gt;</th></tr>\n",
       "</thead>\n",
       "<tbody>\n",
       "\t<tr><td>0.8052743</td><td>2019-11-21</td></tr>\n",
       "\t<tr><td>0.1635163</td><td>2018-03-29</td></tr>\n",
       "\t<tr><td>0.4719390</td><td>2014-08-04</td></tr>\n",
       "\t<tr><td>0.7183186</td><td>2015-08-16</td></tr>\n",
       "\t<tr><td>0.2698786</td><td>2020-02-04</td></tr>\n",
       "\t<tr><td>0.6082372</td><td>2019-01-06</td></tr>\n",
       "</tbody>\n",
       "</table>\n"
      ],
      "text/latex": [
       "A tibble: 6 × 2\n",
       "\\begin{tabular}{ll}\n",
       " x & y\\\\\n",
       " <dbl> & <chr>\\\\\n",
       "\\hline\n",
       "\t 0.8052743 & 2019-11-21\\\\\n",
       "\t 0.1635163 & 2018-03-29\\\\\n",
       "\t 0.4719390 & 2014-08-04\\\\\n",
       "\t 0.7183186 & 2015-08-16\\\\\n",
       "\t 0.2698786 & 2020-02-04\\\\\n",
       "\t 0.6082372 & 2019-01-06\\\\\n",
       "\\end{tabular}\n"
      ],
      "text/markdown": [
       "\n",
       "A tibble: 6 × 2\n",
       "\n",
       "| x &lt;dbl&gt; | y &lt;chr&gt; |\n",
       "|---|---|\n",
       "| 0.8052743 | 2019-11-21 |\n",
       "| 0.1635163 | 2018-03-29 |\n",
       "| 0.4719390 | 2014-08-04 |\n",
       "| 0.7183186 | 2015-08-16 |\n",
       "| 0.2698786 | 2020-02-04 |\n",
       "| 0.6082372 | 2019-01-06 |\n",
       "\n"
      ],
      "text/plain": [
       "  x         y         \n",
       "1 0.8052743 2019-11-21\n",
       "2 0.1635163 2018-03-29\n",
       "3 0.4719390 2014-08-04\n",
       "4 0.7183186 2015-08-16\n",
       "5 0.2698786 2020-02-04\n",
       "6 0.6082372 2019-01-06"
      ]
     },
     "metadata": {},
     "output_type": "display_data"
    }
   ],
   "source": [
    "head(challenge) ; tail(challenge)"
   ]
  },
  {
   "cell_type": "code",
   "execution_count": 76,
   "id": "cc93419c",
   "metadata": {},
   "outputs": [
    {
     "data": {
      "text/html": [
       "<table class=\"dataframe\">\n",
       "<caption>A tibble: 0 × 5</caption>\n",
       "<thead>\n",
       "\t<tr><th scope=col>row</th><th scope=col>col</th><th scope=col>expected</th><th scope=col>actual</th><th scope=col>file</th></tr>\n",
       "\t<tr><th scope=col>&lt;int&gt;</th><th scope=col>&lt;int&gt;</th><th scope=col>&lt;chr&gt;</th><th scope=col>&lt;chr&gt;</th><th scope=col>&lt;chr&gt;</th></tr>\n",
       "</thead>\n",
       "<tbody>\n",
       "</tbody>\n",
       "</table>\n"
      ],
      "text/latex": [
       "A tibble: 0 × 5\n",
       "\\begin{tabular}{lllll}\n",
       " row & col & expected & actual & file\\\\\n",
       " <int> & <int> & <chr> & <chr> & <chr>\\\\\n",
       "\\hline\n",
       "\\end{tabular}\n"
      ],
      "text/markdown": [
       "\n",
       "A tibble: 0 × 5\n",
       "\n",
       "| row &lt;int&gt; | col &lt;int&gt; | expected &lt;chr&gt; | actual &lt;chr&gt; | file &lt;chr&gt; |\n",
       "|---|---|---|---|---|\n",
       "\n"
      ],
      "text/plain": [
       "     row col expected actual file"
      ]
     },
     "metadata": {},
     "output_type": "display_data"
    }
   ],
   "source": [
    "problems(challenge)"
   ]
  },
  {
   "cell_type": "code",
   "execution_count": 79,
   "id": "9d8504e1",
   "metadata": {},
   "outputs": [
    {
     "name": "stderr",
     "output_type": "stream",
     "text": [
      "Warning message:\n",
      "\"One or more parsing issues, see `problems()` for details\"\n"
     ]
    }
   ],
   "source": [
    "challenge <- read_csv(\n",
    "readr_example(\"challenge.csv\"),\n",
    "col_types = cols(\n",
    "    x = col_integer(),\n",
    "    y = col_character()\n",
    "    )\n",
    ")"
   ]
  },
  {
   "cell_type": "code",
   "execution_count": 81,
   "id": "019e428e",
   "metadata": {},
   "outputs": [],
   "source": [
    "challenge <- read_csv(\n",
    "readr_example(\"challenge.csv\"),\n",
    "col_types = cols(\n",
    "    x = col_double(),\n",
    "    y = col_character()\n",
    "    )\n",
    ")"
   ]
  },
  {
   "cell_type": "code",
   "execution_count": 86,
   "id": "f7c8a7a5",
   "metadata": {},
   "outputs": [],
   "source": [
    "challenge <- read_csv(\n",
    "readr_example(\"challenge.csv\"),\n",
    "col_types = cols(\n",
    "    x = col_double(),\n",
    "    y = col_date()\n",
    "    )\n",
    ")"
   ]
  },
  {
   "cell_type": "code",
   "execution_count": 87,
   "id": "6b5464b9",
   "metadata": {},
   "outputs": [
    {
     "name": "stderr",
     "output_type": "stream",
     "text": [
      "\u001b[1mRows: \u001b[22m\u001b[34m2000\u001b[39m \u001b[1mColumns: \u001b[22m\u001b[34m2\u001b[39m\n",
      "\u001b[36m--\u001b[39m \u001b[1mColumn specification\u001b[22m \u001b[36m------------------------------------------------------------------------------------------------\u001b[39m\n",
      "\u001b[1mDelimiter:\u001b[22m \",\"\n",
      "\u001b[32mdbl\u001b[39m  (1): x\n",
      "\u001b[34mdate\u001b[39m (1): y\n",
      "\n",
      "\u001b[36mi\u001b[39m Use `spec()` to retrieve the full column specification for this data.\n",
      "\u001b[36mi\u001b[39m Specify the column types or set `show_col_types = FALSE` to quiet this message.\n"
     ]
    }
   ],
   "source": [
    "challenge2 <- read_csv(\n",
    "readr_example(\"challenge.csv\"), guess_max = 1001)"
   ]
  },
  {
   "cell_type": "code",
   "execution_count": 90,
   "id": "5cc45d34",
   "metadata": {},
   "outputs": [],
   "source": [
    "# 모든 열을 문자형 벡터로 읽음\n",
    "challenge2 <- read_csv(\n",
    "readr_example(\"challenge.csv\"), col_types = cols(.default = col_character()))"
   ]
  },
  {
   "cell_type": "code",
   "execution_count": 93,
   "id": "e9ad6e1e",
   "metadata": {},
   "outputs": [
    {
     "data": {
      "text/html": [
       "<table class=\"dataframe\">\n",
       "<caption>A tibble: 3 × 2</caption>\n",
       "<thead>\n",
       "\t<tr><th scope=col>x</th><th scope=col>y</th></tr>\n",
       "\t<tr><th scope=col>&lt;chr&gt;</th><th scope=col>&lt;chr&gt;</th></tr>\n",
       "</thead>\n",
       "<tbody>\n",
       "\t<tr><td>1</td><td>1.21</td></tr>\n",
       "\t<tr><td>2</td><td>2.32</td></tr>\n",
       "\t<tr><td>3</td><td>4.56</td></tr>\n",
       "</tbody>\n",
       "</table>\n"
      ],
      "text/latex": [
       "A tibble: 3 × 2\n",
       "\\begin{tabular}{ll}\n",
       " x & y\\\\\n",
       " <chr> & <chr>\\\\\n",
       "\\hline\n",
       "\t 1 & 1.21\\\\\n",
       "\t 2 & 2.32\\\\\n",
       "\t 3 & 4.56\\\\\n",
       "\\end{tabular}\n"
      ],
      "text/markdown": [
       "\n",
       "A tibble: 3 × 2\n",
       "\n",
       "| x &lt;chr&gt; | y &lt;chr&gt; |\n",
       "|---|---|\n",
       "| 1 | 1.21 |\n",
       "| 2 | 2.32 |\n",
       "| 3 | 4.56 |\n",
       "\n"
      ],
      "text/plain": [
       "  x y   \n",
       "1 1 1.21\n",
       "2 2 2.32\n",
       "3 3 4.56"
      ]
     },
     "metadata": {},
     "output_type": "display_data"
    }
   ],
   "source": [
    "df = tribble(\n",
    "~x, ~y,\n",
    "\"1\", \"1.21\",\n",
    "\"2\", \"2.32\",\n",
    "\"3\", \"4.56\")\n",
    "df"
   ]
  },
  {
   "cell_type": "code",
   "execution_count": 94,
   "id": "f37b246e",
   "metadata": {},
   "outputs": [
    {
     "name": "stderr",
     "output_type": "stream",
     "text": [
      "\n",
      "\u001b[36m--\u001b[39m \u001b[1mColumn specification\u001b[22m \u001b[36m------------------------------------------------------------------------------------------------\u001b[39m\n",
      "cols(\n",
      "  x = \u001b[32mcol_double()\u001b[39m,\n",
      "  y = \u001b[32mcol_double()\u001b[39m\n",
      ")\n",
      "\n"
     ]
    },
    {
     "data": {
      "text/html": [
       "<table class=\"dataframe\">\n",
       "<caption>A tibble: 3 × 2</caption>\n",
       "<thead>\n",
       "\t<tr><th scope=col>x</th><th scope=col>y</th></tr>\n",
       "\t<tr><th scope=col>&lt;dbl&gt;</th><th scope=col>&lt;dbl&gt;</th></tr>\n",
       "</thead>\n",
       "<tbody>\n",
       "\t<tr><td>1</td><td>1.21</td></tr>\n",
       "\t<tr><td>2</td><td>2.32</td></tr>\n",
       "\t<tr><td>3</td><td>4.56</td></tr>\n",
       "</tbody>\n",
       "</table>\n"
      ],
      "text/latex": [
       "A tibble: 3 × 2\n",
       "\\begin{tabular}{ll}\n",
       " x & y\\\\\n",
       " <dbl> & <dbl>\\\\\n",
       "\\hline\n",
       "\t 1 & 1.21\\\\\n",
       "\t 2 & 2.32\\\\\n",
       "\t 3 & 4.56\\\\\n",
       "\\end{tabular}\n"
      ],
      "text/markdown": [
       "\n",
       "A tibble: 3 × 2\n",
       "\n",
       "| x &lt;dbl&gt; | y &lt;dbl&gt; |\n",
       "|---|---|\n",
       "| 1 | 1.21 |\n",
       "| 2 | 2.32 |\n",
       "| 3 | 4.56 |\n",
       "\n"
      ],
      "text/plain": [
       "  x y   \n",
       "1 1 1.21\n",
       "2 2 2.32\n",
       "3 3 4.56"
      ]
     },
     "metadata": {},
     "output_type": "display_data"
    }
   ],
   "source": [
    "type_convert(df)"
   ]
  },
  {
   "cell_type": "markdown",
   "id": "43e48b2e",
   "metadata": {},
   "source": [
    "### 파일에 쓰기 \n"
   ]
  },
  {
   "cell_type": "markdown",
   "id": "f92f4241",
   "metadata": {},
   "source": [
    "### write_csv()\n",
    "* csv로 저장하면 유형 정보가 없어짐"
   ]
  },
  {
   "cell_type": "code",
   "execution_count": 95,
   "id": "4f4bbad8",
   "metadata": {},
   "outputs": [],
   "source": [
    "write_csv(challenge, \"challenge.csv\")"
   ]
  },
  {
   "cell_type": "code",
   "execution_count": 98,
   "id": "5b858e40",
   "metadata": {},
   "outputs": [
    {
     "name": "stderr",
     "output_type": "stream",
     "text": [
      "\u001b[1mRows: \u001b[22m\u001b[34m2000\u001b[39m \u001b[1mColumns: \u001b[22m\u001b[34m2\u001b[39m\n",
      "\u001b[36m--\u001b[39m \u001b[1mColumn specification\u001b[22m \u001b[36m------------------------------------------------------------------------------------------------\u001b[39m\n",
      "\u001b[1mDelimiter:\u001b[22m \",\"\n",
      "\u001b[32mdbl\u001b[39m  (1): x\n",
      "\u001b[34mdate\u001b[39m (1): y\n",
      "\n",
      "\u001b[36mi\u001b[39m Use `spec()` to retrieve the full column specification for this data.\n",
      "\u001b[36mi\u001b[39m Specify the column types or set `show_col_types = FALSE` to quiet this message.\n"
     ]
    },
    {
     "data": {
      "text/html": [
       "<table class=\"dataframe\">\n",
       "<caption>A tibble: 6 × 2</caption>\n",
       "<thead>\n",
       "\t<tr><th scope=col>x</th><th scope=col>y</th></tr>\n",
       "\t<tr><th scope=col>&lt;dbl&gt;</th><th scope=col>&lt;date&gt;</th></tr>\n",
       "</thead>\n",
       "<tbody>\n",
       "\t<tr><td> 404</td><td>NA</td></tr>\n",
       "\t<tr><td>4172</td><td>NA</td></tr>\n",
       "\t<tr><td>3004</td><td>NA</td></tr>\n",
       "\t<tr><td> 787</td><td>NA</td></tr>\n",
       "\t<tr><td>  37</td><td>NA</td></tr>\n",
       "\t<tr><td>2332</td><td>NA</td></tr>\n",
       "</tbody>\n",
       "</table>\n"
      ],
      "text/latex": [
       "A tibble: 6 × 2\n",
       "\\begin{tabular}{ll}\n",
       " x & y\\\\\n",
       " <dbl> & <date>\\\\\n",
       "\\hline\n",
       "\t  404 & NA\\\\\n",
       "\t 4172 & NA\\\\\n",
       "\t 3004 & NA\\\\\n",
       "\t  787 & NA\\\\\n",
       "\t   37 & NA\\\\\n",
       "\t 2332 & NA\\\\\n",
       "\\end{tabular}\n"
      ],
      "text/markdown": [
       "\n",
       "A tibble: 6 × 2\n",
       "\n",
       "| x &lt;dbl&gt; | y &lt;date&gt; |\n",
       "|---|---|\n",
       "|  404 | NA |\n",
       "| 4172 | NA |\n",
       "| 3004 | NA |\n",
       "|  787 | NA |\n",
       "|   37 | NA |\n",
       "| 2332 | NA |\n",
       "\n"
      ],
      "text/plain": [
       "  x    y   \n",
       "1  404 <NA>\n",
       "2 4172 <NA>\n",
       "3 3004 <NA>\n",
       "4  787 <NA>\n",
       "5   37 <NA>\n",
       "6 2332 <NA>"
      ]
     },
     "metadata": {},
     "output_type": "display_data"
    }
   ],
   "source": [
    "write_csv(challenge, \"challenge-2.csv\")\n",
    "read_csv(\"challenge-2.csv\") %>% head()"
   ]
  },
  {
   "cell_type": "markdown",
   "id": "826bb7ac",
   "metadata": {},
   "source": [
    "### write_rds(), read_rds()\n",
    "* RDS라는 R의 커스텀 바이너리 형식으로 데이터 저장"
   ]
  },
  {
   "cell_type": "code",
   "execution_count": 100,
   "id": "26655f53",
   "metadata": {},
   "outputs": [
    {
     "data": {
      "text/html": [
       "<table class=\"dataframe\">\n",
       "<caption>A tibble: 6 × 2</caption>\n",
       "<thead>\n",
       "\t<tr><th scope=col>x</th><th scope=col>y</th></tr>\n",
       "\t<tr><th scope=col>&lt;dbl&gt;</th><th scope=col>&lt;date&gt;</th></tr>\n",
       "</thead>\n",
       "<tbody>\n",
       "\t<tr><td> 404</td><td>NA</td></tr>\n",
       "\t<tr><td>4172</td><td>NA</td></tr>\n",
       "\t<tr><td>3004</td><td>NA</td></tr>\n",
       "\t<tr><td> 787</td><td>NA</td></tr>\n",
       "\t<tr><td>  37</td><td>NA</td></tr>\n",
       "\t<tr><td>2332</td><td>NA</td></tr>\n",
       "</tbody>\n",
       "</table>\n"
      ],
      "text/latex": [
       "A tibble: 6 × 2\n",
       "\\begin{tabular}{ll}\n",
       " x & y\\\\\n",
       " <dbl> & <date>\\\\\n",
       "\\hline\n",
       "\t  404 & NA\\\\\n",
       "\t 4172 & NA\\\\\n",
       "\t 3004 & NA\\\\\n",
       "\t  787 & NA\\\\\n",
       "\t   37 & NA\\\\\n",
       "\t 2332 & NA\\\\\n",
       "\\end{tabular}\n"
      ],
      "text/markdown": [
       "\n",
       "A tibble: 6 × 2\n",
       "\n",
       "| x &lt;dbl&gt; | y &lt;date&gt; |\n",
       "|---|---|\n",
       "|  404 | NA |\n",
       "| 4172 | NA |\n",
       "| 3004 | NA |\n",
       "|  787 | NA |\n",
       "|   37 | NA |\n",
       "| 2332 | NA |\n",
       "\n"
      ],
      "text/plain": [
       "  x    y   \n",
       "1  404 <NA>\n",
       "2 4172 <NA>\n",
       "3 3004 <NA>\n",
       "4  787 <NA>\n",
       "5   37 <NA>\n",
       "6 2332 <NA>"
      ]
     },
     "metadata": {},
     "output_type": "display_data"
    }
   ],
   "source": [
    "write_rds(challenge, \"challenge.rds\")\n",
    "read_rds(\"challenge.rds\") %>% head()"
   ]
  },
  {
   "cell_type": "markdown",
   "id": "84ac77e5",
   "metadata": {},
   "source": [
    "### write_feather() : 빠른 바이너리 파일 형식 구현\n",
    "* feather는 RDS보다 대체적으로 빠름, R외부에서도 사용 가능"
   ]
  },
  {
   "cell_type": "code",
   "execution_count": 103,
   "id": "503fa35a",
   "metadata": {},
   "outputs": [
    {
     "data": {
      "text/html": [
       "<table class=\"dataframe\">\n",
       "<caption>A tibble: 6 × 2</caption>\n",
       "<thead>\n",
       "\t<tr><th scope=col>x</th><th scope=col>y</th></tr>\n",
       "\t<tr><th scope=col>&lt;dbl&gt;</th><th scope=col>&lt;date&gt;</th></tr>\n",
       "</thead>\n",
       "<tbody>\n",
       "\t<tr><td> 404</td><td>NA</td></tr>\n",
       "\t<tr><td>4172</td><td>NA</td></tr>\n",
       "\t<tr><td>3004</td><td>NA</td></tr>\n",
       "\t<tr><td> 787</td><td>NA</td></tr>\n",
       "\t<tr><td>  37</td><td>NA</td></tr>\n",
       "\t<tr><td>2332</td><td>NA</td></tr>\n",
       "</tbody>\n",
       "</table>\n"
      ],
      "text/latex": [
       "A tibble: 6 × 2\n",
       "\\begin{tabular}{ll}\n",
       " x & y\\\\\n",
       " <dbl> & <date>\\\\\n",
       "\\hline\n",
       "\t  404 & NA\\\\\n",
       "\t 4172 & NA\\\\\n",
       "\t 3004 & NA\\\\\n",
       "\t  787 & NA\\\\\n",
       "\t   37 & NA\\\\\n",
       "\t 2332 & NA\\\\\n",
       "\\end{tabular}\n"
      ],
      "text/markdown": [
       "\n",
       "A tibble: 6 × 2\n",
       "\n",
       "| x &lt;dbl&gt; | y &lt;date&gt; |\n",
       "|---|---|\n",
       "|  404 | NA |\n",
       "| 4172 | NA |\n",
       "| 3004 | NA |\n",
       "|  787 | NA |\n",
       "|   37 | NA |\n",
       "| 2332 | NA |\n",
       "\n"
      ],
      "text/plain": [
       "  x    y   \n",
       "1  404 <NA>\n",
       "2 4172 <NA>\n",
       "3 3004 <NA>\n",
       "4  787 <NA>\n",
       "5   37 <NA>\n",
       "6 2332 <NA>"
      ]
     },
     "metadata": {},
     "output_type": "display_data"
    }
   ],
   "source": [
    "library(feather)\n",
    "write_feather(challenge, \"challenge.feather\")\n",
    "read_feather(\"challenge.feather\") %>% head()"
   ]
  },
  {
   "cell_type": "markdown",
   "id": "32805dcb",
   "metadata": {},
   "source": [
    "### 기타 데이터 유형 \n",
    "- haven : SPSS, Stata, SAS 파일 읽기 가능\n",
    "- readxl : .xls, .xlsx\n",
    "- JSON : jsonlite\n",
    "- XML : xml2"
   ]
  }
 ],
 "metadata": {
  "kernelspec": {
   "display_name": "R 4.1.3",
   "language": "R",
   "name": "ir32"
  },
  "language_info": {
   "codemirror_mode": "r",
   "file_extension": ".r",
   "mimetype": "text/x-r-source",
   "name": "R",
   "pygments_lexer": "r",
   "version": "4.1.3"
  }
 },
 "nbformat": 4,
 "nbformat_minor": 5
}
