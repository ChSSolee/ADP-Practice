{
 "cells": [
  {
   "cell_type": "markdown",
   "id": "58c26755",
   "metadata": {},
   "source": [
    "# 18. 정규회귀 이외의 계층적 모형 "
   ]
  },
  {
   "cell_type": "code",
   "execution_count": 3,
   "id": "03707348",
   "metadata": {},
   "outputs": [],
   "source": [
    "library(bayesrules)\n",
    "library(tidyverse)\n",
    "library(bayesplot)\n",
    "library(rstanarm)\n",
    "library(tidybayes)\n",
    "library(broom.mixed)\n",
    "library(janitor)"
   ]
  },
  {
   "cell_type": "markdown",
   "id": "7971a5fd",
   "metadata": {},
   "source": [
    "<br>\n",
    "\n",
    "## 18.01. 계층적 로지스틱 모형"
   ]
  },
  {
   "cell_type": "code",
   "execution_count": 4,
   "id": "5ed7c2f0",
   "metadata": {},
   "outputs": [],
   "source": [
    "data(climbers_sub)\n",
    "\n",
    "climbers <- climbers_sub %>% \n",
    "  select(expedition_id, member_id, success, year, season,\n",
    "         age, expedition_role, oxygen_used)"
   ]
  },
  {
   "cell_type": "code",
   "execution_count": 10,
   "id": "980dd4ee",
   "metadata": {},
   "outputs": [
    {
     "data": {
      "text/html": [
       "2076"
      ],
      "text/latex": [
       "2076"
      ],
      "text/markdown": [
       "2076"
      ],
      "text/plain": [
       "[1] 2076"
      ]
     },
     "metadata": {},
     "output_type": "display_data"
    },
    {
     "data": {
      "text/html": [
       "<table class=\"dataframe\">\n",
       "<caption>A tibble: 6 × 8</caption>\n",
       "<thead>\n",
       "\t<tr><th scope=col>expedition_id</th><th scope=col>member_id</th><th scope=col>success</th><th scope=col>year</th><th scope=col>season</th><th scope=col>age</th><th scope=col>expedition_role</th><th scope=col>oxygen_used</th></tr>\n",
       "\t<tr><th scope=col>&lt;chr&gt;</th><th scope=col>&lt;fct&gt;</th><th scope=col>&lt;lgl&gt;</th><th scope=col>&lt;dbl&gt;</th><th scope=col>&lt;fct&gt;</th><th scope=col>&lt;dbl&gt;</th><th scope=col>&lt;fct&gt;</th><th scope=col>&lt;lgl&gt;</th></tr>\n",
       "</thead>\n",
       "<tbody>\n",
       "\t<tr><td>AMAD81101</td><td>AMAD81101-03</td><td> TRUE</td><td>1981</td><td>Spring</td><td>28</td><td>Climber      </td><td>FALSE</td></tr>\n",
       "\t<tr><td>AMAD81101</td><td>AMAD81101-04</td><td> TRUE</td><td>1981</td><td>Spring</td><td>27</td><td>Exp Doctor   </td><td>FALSE</td></tr>\n",
       "\t<tr><td>AMAD81101</td><td>AMAD81101-02</td><td> TRUE</td><td>1981</td><td>Spring</td><td>35</td><td>Deputy Leader</td><td>FALSE</td></tr>\n",
       "\t<tr><td>AMAD81101</td><td>AMAD81101-05</td><td> TRUE</td><td>1981</td><td>Spring</td><td>37</td><td>Climber      </td><td>FALSE</td></tr>\n",
       "\t<tr><td>AMAD81101</td><td>AMAD81101-06</td><td> TRUE</td><td>1981</td><td>Spring</td><td>43</td><td>Climber      </td><td>FALSE</td></tr>\n",
       "\t<tr><td>AMAD81101</td><td>AMAD81101-07</td><td>FALSE</td><td>1981</td><td>Spring</td><td>38</td><td>Climber      </td><td>FALSE</td></tr>\n",
       "</tbody>\n",
       "</table>\n"
      ],
      "text/latex": [
       "A tibble: 6 × 8\n",
       "\\begin{tabular}{llllllll}\n",
       " expedition\\_id & member\\_id & success & year & season & age & expedition\\_role & oxygen\\_used\\\\\n",
       " <chr> & <fct> & <lgl> & <dbl> & <fct> & <dbl> & <fct> & <lgl>\\\\\n",
       "\\hline\n",
       "\t AMAD81101 & AMAD81101-03 &  TRUE & 1981 & Spring & 28 & Climber       & FALSE\\\\\n",
       "\t AMAD81101 & AMAD81101-04 &  TRUE & 1981 & Spring & 27 & Exp Doctor    & FALSE\\\\\n",
       "\t AMAD81101 & AMAD81101-02 &  TRUE & 1981 & Spring & 35 & Deputy Leader & FALSE\\\\\n",
       "\t AMAD81101 & AMAD81101-05 &  TRUE & 1981 & Spring & 37 & Climber       & FALSE\\\\\n",
       "\t AMAD81101 & AMAD81101-06 &  TRUE & 1981 & Spring & 43 & Climber       & FALSE\\\\\n",
       "\t AMAD81101 & AMAD81101-07 & FALSE & 1981 & Spring & 38 & Climber       & FALSE\\\\\n",
       "\\end{tabular}\n"
      ],
      "text/markdown": [
       "\n",
       "A tibble: 6 × 8\n",
       "\n",
       "| expedition_id &lt;chr&gt; | member_id &lt;fct&gt; | success &lt;lgl&gt; | year &lt;dbl&gt; | season &lt;fct&gt; | age &lt;dbl&gt; | expedition_role &lt;fct&gt; | oxygen_used &lt;lgl&gt; |\n",
       "|---|---|---|---|---|---|---|---|\n",
       "| AMAD81101 | AMAD81101-03 |  TRUE | 1981 | Spring | 28 | Climber       | FALSE |\n",
       "| AMAD81101 | AMAD81101-04 |  TRUE | 1981 | Spring | 27 | Exp Doctor    | FALSE |\n",
       "| AMAD81101 | AMAD81101-02 |  TRUE | 1981 | Spring | 35 | Deputy Leader | FALSE |\n",
       "| AMAD81101 | AMAD81101-05 |  TRUE | 1981 | Spring | 37 | Climber       | FALSE |\n",
       "| AMAD81101 | AMAD81101-06 |  TRUE | 1981 | Spring | 43 | Climber       | FALSE |\n",
       "| AMAD81101 | AMAD81101-07 | FALSE | 1981 | Spring | 38 | Climber       | FALSE |\n",
       "\n"
      ],
      "text/plain": [
       "  expedition_id member_id    success year season age expedition_role\n",
       "1 AMAD81101     AMAD81101-03  TRUE   1981 Spring 28  Climber        \n",
       "2 AMAD81101     AMAD81101-04  TRUE   1981 Spring 27  Exp Doctor     \n",
       "3 AMAD81101     AMAD81101-02  TRUE   1981 Spring 35  Deputy Leader  \n",
       "4 AMAD81101     AMAD81101-05  TRUE   1981 Spring 37  Climber        \n",
       "5 AMAD81101     AMAD81101-06  TRUE   1981 Spring 43  Climber        \n",
       "6 AMAD81101     AMAD81101-07 FALSE   1981 Spring 38  Climber        \n",
       "  oxygen_used\n",
       "1 FALSE      \n",
       "2 FALSE      \n",
       "3 FALSE      \n",
       "4 FALSE      \n",
       "5 FALSE      \n",
       "6 FALSE      "
      ]
     },
     "metadata": {},
     "output_type": "display_data"
    }
   ],
   "source": [
    "climbers %>% nrow\n",
    "climbers %>% head"
   ]
  },
  {
   "cell_type": "code",
   "execution_count": 7,
   "id": "ef35797d",
   "metadata": {},
   "outputs": [
    {
     "data": {
      "text/html": [
       "<table class=\"dataframe\">\n",
       "<caption>A tabyl: 2 × 3</caption>\n",
       "<thead>\n",
       "\t<tr><th scope=col>success</th><th scope=col>n</th><th scope=col>percent</th></tr>\n",
       "\t<tr><th scope=col>&lt;lgl&gt;</th><th scope=col>&lt;int&gt;</th><th scope=col>&lt;dbl&gt;</th></tr>\n",
       "</thead>\n",
       "<tbody>\n",
       "\t<tr><td>FALSE</td><td>1269</td><td>0.6112717</td></tr>\n",
       "\t<tr><td> TRUE</td><td> 807</td><td>0.3887283</td></tr>\n",
       "</tbody>\n",
       "</table>\n"
      ],
      "text/latex": [
       "A tabyl: 2 × 3\n",
       "\\begin{tabular}{lll}\n",
       " success & n & percent\\\\\n",
       " <lgl> & <int> & <dbl>\\\\\n",
       "\\hline\n",
       "\t FALSE & 1269 & 0.6112717\\\\\n",
       "\t  TRUE &  807 & 0.3887283\\\\\n",
       "\\end{tabular}\n"
      ],
      "text/markdown": [
       "\n",
       "A tabyl: 2 × 3\n",
       "\n",
       "| success &lt;lgl&gt; | n &lt;int&gt; | percent &lt;dbl&gt; |\n",
       "|---|---|---|\n",
       "| FALSE | 1269 | 0.6112717 |\n",
       "|  TRUE |  807 | 0.3887283 |\n",
       "\n"
      ],
      "text/plain": [
       "  success n    percent  \n",
       "1 FALSE   1269 0.6112717\n",
       "2  TRUE    807 0.3887283"
      ]
     },
     "metadata": {},
     "output_type": "display_data"
    }
   ],
   "source": [
    "climbers %>% \n",
    "  tabyl(success)"
   ]
  },
  {
   "cell_type": "markdown",
   "id": "0855fcef",
   "metadata": {},
   "source": [
    "<br>\n",
    "\n",
    "#### 200개의 그룹"
   ]
  },
  {
   "cell_type": "code",
   "execution_count": 9,
   "id": "e5ba3489",
   "metadata": {},
   "outputs": [
    {
     "data": {
      "text/html": [
       "<table class=\"dataframe\">\n",
       "<caption>A tibble: 6 × 2</caption>\n",
       "<thead>\n",
       "\t<tr><th scope=col>expedition_id</th><th scope=col>count</th></tr>\n",
       "\t<tr><th scope=col>&lt;chr&gt;</th><th scope=col>&lt;int&gt;</th></tr>\n",
       "</thead>\n",
       "<tbody>\n",
       "\t<tr><td>AMAD03107</td><td> 5</td></tr>\n",
       "\t<tr><td>AMAD03327</td><td> 6</td></tr>\n",
       "\t<tr><td>AMAD05338</td><td>12</td></tr>\n",
       "\t<tr><td>AMAD06110</td><td> 5</td></tr>\n",
       "\t<tr><td>AMAD06334</td><td>11</td></tr>\n",
       "\t<tr><td>AMAD07101</td><td> 8</td></tr>\n",
       "</tbody>\n",
       "</table>\n"
      ],
      "text/latex": [
       "A tibble: 6 × 2\n",
       "\\begin{tabular}{ll}\n",
       " expedition\\_id & count\\\\\n",
       " <chr> & <int>\\\\\n",
       "\\hline\n",
       "\t AMAD03107 &  5\\\\\n",
       "\t AMAD03327 &  6\\\\\n",
       "\t AMAD05338 & 12\\\\\n",
       "\t AMAD06110 &  5\\\\\n",
       "\t AMAD06334 & 11\\\\\n",
       "\t AMAD07101 &  8\\\\\n",
       "\\end{tabular}\n"
      ],
      "text/markdown": [
       "\n",
       "A tibble: 6 × 2\n",
       "\n",
       "| expedition_id &lt;chr&gt; | count &lt;int&gt; |\n",
       "|---|---|\n",
       "| AMAD03107 |  5 |\n",
       "| AMAD03327 |  6 |\n",
       "| AMAD05338 | 12 |\n",
       "| AMAD06110 |  5 |\n",
       "| AMAD06334 | 11 |\n",
       "| AMAD07101 |  8 |\n",
       "\n"
      ],
      "text/plain": [
       "  expedition_id count\n",
       "1 AMAD03107      5   \n",
       "2 AMAD03327      6   \n",
       "3 AMAD05338     12   \n",
       "4 AMAD06110      5   \n",
       "5 AMAD06334     11   \n",
       "6 AMAD07101      8   "
      ]
     },
     "metadata": {},
     "output_type": "display_data"
    }
   ],
   "source": [
    "climbers_per_expedition <- climbers %>% \n",
    "  group_by(expedition_id) %>% \n",
    "  summarize(count = n())\n",
    "\n",
    "climbers_per_expedition %>% head"
   ]
  },
  {
   "cell_type": "markdown",
   "id": "bb36a1ad",
   "metadata": {},
   "source": [
    "#### 200개의 그룹별 평균 성공률"
   ]
  },
  {
   "cell_type": "code",
   "execution_count": 12,
   "id": "79654230",
   "metadata": {},
   "outputs": [
    {
     "name": "stderr",
     "output_type": "stream",
     "text": [
      "\u001b[1m\u001b[22m`stat_bin()` using `bins = 30`. Pick better value with `binwidth`.\n"
     ]
    },
    {
     "data": {
      "image/png": "[encoded data removed]",
      "text/plain": [
       "plot without title"
      ]
     },
     "metadata": {
      "image/png": {
       "height": 420,
       "width": 420
      }
     },
     "output_type": "display_data"
    }
   ],
   "source": [
    "expedition_success <- climbers %>% \n",
    "  group_by(expedition_id) %>% \n",
    "  summarize(success_rate = mean(success))\n",
    "\n",
    "ggplot(expedition_success, aes(x = success_rate)) + \n",
    "  geom_histogram(color = \"white\")"
   ]
  },
  {
   "cell_type": "markdown",
   "id": "1f6e8cdd",
   "metadata": {},
   "source": [
    "<br>\n",
    "\n",
    "### 사전모형설정"
   ]
  },
  {
   "cell_type": "code",
   "execution_count": null,
   "id": "12ad891c",
   "metadata": {},
   "outputs": [],
   "source": [
    "climb_model <- stan_glmer(\n",
    "  success ~ age + oxygen_used + (1 | expedition_id), \n",
    "  data = climbers, family = binomial,\n",
    "  prior_intercept = normal(0, 2.5, autoscale = TRUE),\n",
    "  prior = normal(0, 2.5, autoscale = TRUE), \n",
    "  prior_covariance = decov(reg = 1, conc = 1, shape = 1, scale = 1),\n",
    "  chains = 4, iter = 5000*2, seed = 84735\n",
    ")"
   ]
  },
  {
   "cell_type": "code",
   "execution_count": 15,
   "id": "6abcdd90",
   "metadata": {},
   "outputs": [
    {
     "data": {
      "text/plain": [
       "Priors for model 'climb_model' \n",
       "------\n",
       "Intercept (after predictors centered)\n",
       " ~ normal(location = 0, scale = 2.5)\n",
       "\n",
       "Coefficients\n",
       "  Specified prior:\n",
       "    ~ normal(location = [0,0], scale = [2.5,2.5])\n",
       "  Adjusted prior:\n",
       "    ~ normal(location = [0,0], scale = [0.24,5.51])\n",
       "\n",
       "Covariance\n",
       " ~ decov(reg. = 1, conc. = 1, shape = 1, scale = 1)\n",
       "------\n",
       "See help('prior_summary.stanreg') for more details"
      ]
     },
     "metadata": {},
     "output_type": "display_data"
    }
   ],
   "source": [
    "prior_summarymmary(climb_model)"
   ]
  },
  {
   "cell_type": "markdown",
   "id": "18069c07",
   "metadata": {},
   "source": [
    "$$\\begin{equation}\n",
    "\\begin{array}{rll}\n",
    "Y_{ij}|\\beta_{0j},\\beta_1, \\beta_2 & \\sim \\text{Bern}(\\pi_{ij}) & \\text{(관측값에 대한 모형 (그룹내 변동성)}\\\\\n",
    "\\; \\text{ with } & \\log\\left(\\frac{\\pi_{ij}}{1 - \\pi_{ij}}\\right) = \\beta_{0j} + \\beta_1 X_{ij1} + \\beta_2 X_{ij2} & \\\\\n",
    "\\beta_{0j} | \\beta_0, \\sigma_0    & \\stackrel{ind}{\\sim} N(\\beta_0, \\sigma_0^2) & \\text{(그룹별 절편에 대한 모형 (그룹간 변동성) } \\\\\n",
    "\\beta_{0c}  &  \\sim N\\left(0, 2.5^2 \\right) & \\text{(전역 회귀계수에 대한 모형)}\\\\\n",
    "\\beta_1  &  \\sim N\\left(0, 0.24^2 \\right) & \\\\\n",
    "\\beta_2  &  \\sim N\\left(0, 5.51^2 \\right) & \\\\\n",
    "\\sigma_0 & \\sim \\text{Exp}(1). & \\\\\n",
    "\\end{array}\n",
    "\\end{equation}$$"
   ]
  },
  {
   "cell_type": "code",
   "execution_count": null,
   "id": "f471efad",
   "metadata": {},
   "outputs": [],
   "source": [
    "# mcmc_trace(climb_model, size = 0.1)\n",
    "# mcmc_dens_overlay(climb_model)\n",
    "# mcmc_acf(climb_model)\n",
    "# neff_ratio(climb_model)\n",
    "# rhat(climb_model)"
   ]
  },
  {
   "cell_type": "markdown",
   "id": "90847a6c",
   "metadata": {},
   "source": [
    "<br>\n",
    "\n",
    "### 사후분포"
   ]
  },
  {
   "cell_type": "code",
   "execution_count": 16,
   "id": "bb5360c9",
   "metadata": {},
   "outputs": [
    {
     "data": {
      "text/html": [
       "<table class=\"dataframe\">\n",
       "<caption>A tibble: 3 × 5</caption>\n",
       "<thead>\n",
       "\t<tr><th scope=col>term</th><th scope=col>estimate</th><th scope=col>std.error</th><th scope=col>conf.low</th><th scope=col>conf.high</th></tr>\n",
       "\t<tr><th scope=col>&lt;chr&gt;</th><th scope=col>&lt;dbl&gt;</th><th scope=col>&lt;dbl&gt;</th><th scope=col>&lt;dbl&gt;</th><th scope=col>&lt;dbl&gt;</th></tr>\n",
       "</thead>\n",
       "<tbody>\n",
       "\t<tr><td>(Intercept)    </td><td>-1.41068582</td><td>0.475894479</td><td>-2.0345176</td><td>-0.8109510</td></tr>\n",
       "\t<tr><td>age            </td><td>-0.04765648</td><td>0.009260138</td><td>-0.0594632</td><td>-0.0359522</td></tr>\n",
       "\t<tr><td>oxygen_usedTRUE</td><td> 5.79565511</td><td>0.479126153</td><td> 5.2051383</td><td> 6.4310658</td></tr>\n",
       "</tbody>\n",
       "</table>\n"
      ],
      "text/latex": [
       "A tibble: 3 × 5\n",
       "\\begin{tabular}{lllll}\n",
       " term & estimate & std.error & conf.low & conf.high\\\\\n",
       " <chr> & <dbl> & <dbl> & <dbl> & <dbl>\\\\\n",
       "\\hline\n",
       "\t (Intercept)     & -1.41068582 & 0.475894479 & -2.0345176 & -0.8109510\\\\\n",
       "\t age             & -0.04765648 & 0.009260138 & -0.0594632 & -0.0359522\\\\\n",
       "\t oxygen\\_usedTRUE &  5.79565511 & 0.479126153 &  5.2051383 &  6.4310658\\\\\n",
       "\\end{tabular}\n"
      ],
      "text/markdown": [
       "\n",
       "A tibble: 3 × 5\n",
       "\n",
       "| term &lt;chr&gt; | estimate &lt;dbl&gt; | std.error &lt;dbl&gt; | conf.low &lt;dbl&gt; | conf.high &lt;dbl&gt; |\n",
       "|---|---|---|---|---|\n",
       "| (Intercept)     | -1.41068582 | 0.475894479 | -2.0345176 | -0.8109510 |\n",
       "| age             | -0.04765648 | 0.009260138 | -0.0594632 | -0.0359522 |\n",
       "| oxygen_usedTRUE |  5.79565511 | 0.479126153 |  5.2051383 |  6.4310658 |\n",
       "\n"
      ],
      "text/plain": [
       "  term            estimate    std.error   conf.low   conf.high \n",
       "1 (Intercept)     -1.41068582 0.475894479 -2.0345176 -0.8109510\n",
       "2 age             -0.04765648 0.009260138 -0.0594632 -0.0359522\n",
       "3 oxygen_usedTRUE  5.79565511 0.479126153  5.2051383  6.4310658"
      ]
     },
     "metadata": {},
     "output_type": "display_data"
    }
   ],
   "source": [
    "tidy(climb_model, effects = \"fixed\", conf.int = TRUE, conf.level = 0.80)"
   ]
  },
  {
   "cell_type": "markdown",
   "id": "602480de",
   "metadata": {},
   "source": [
    "<br>\n",
    "\n",
    "### 분류예측"
   ]
  },
  {
   "cell_type": "markdown",
   "id": "c7f73ad6",
   "metadata": {},
   "source": [
    "- 4개의 새로운 관측값"
   ]
  },
  {
   "cell_type": "code",
   "execution_count": 22,
   "id": "9f6b8add",
   "metadata": {},
   "outputs": [
    {
     "data": {
      "text/html": [
       "<table class=\"dataframe\">\n",
       "<caption>A data.frame: 4 × 3</caption>\n",
       "<thead>\n",
       "\t<tr><th scope=col>age</th><th scope=col>oxygen_used</th><th scope=col>expedition_id</th></tr>\n",
       "\t<tr><th scope=col>&lt;dbl&gt;</th><th scope=col>&lt;lgl&gt;</th><th scope=col>&lt;chr&gt;</th></tr>\n",
       "</thead>\n",
       "<tbody>\n",
       "\t<tr><td>20</td><td>FALSE</td><td>new</td></tr>\n",
       "\t<tr><td>20</td><td> TRUE</td><td>new</td></tr>\n",
       "\t<tr><td>60</td><td>FALSE</td><td>new</td></tr>\n",
       "\t<tr><td>60</td><td> TRUE</td><td>new</td></tr>\n",
       "</tbody>\n",
       "</table>\n"
      ],
      "text/latex": [
       "A data.frame: 4 × 3\n",
       "\\begin{tabular}{lll}\n",
       " age & oxygen\\_used & expedition\\_id\\\\\n",
       " <dbl> & <lgl> & <chr>\\\\\n",
       "\\hline\n",
       "\t 20 & FALSE & new\\\\\n",
       "\t 20 &  TRUE & new\\\\\n",
       "\t 60 & FALSE & new\\\\\n",
       "\t 60 &  TRUE & new\\\\\n",
       "\\end{tabular}\n"
      ],
      "text/markdown": [
       "\n",
       "A data.frame: 4 × 3\n",
       "\n",
       "| age &lt;dbl&gt; | oxygen_used &lt;lgl&gt; | expedition_id &lt;chr&gt; |\n",
       "|---|---|---|\n",
       "| 20 | FALSE | new |\n",
       "| 20 |  TRUE | new |\n",
       "| 60 | FALSE | new |\n",
       "| 60 |  TRUE | new |\n",
       "\n"
      ],
      "text/plain": [
       "  age oxygen_used expedition_id\n",
       "1 20  FALSE       new          \n",
       "2 20   TRUE       new          \n",
       "3 60  FALSE       new          \n",
       "4 60   TRUE       new          "
      ]
     },
     "metadata": {},
     "output_type": "display_data"
    }
   ],
   "source": [
    "new_expedition <- data.frame(\n",
    "  age = c(20, 20, 60, 60), oxygen_used = c(FALSE, TRUE, FALSE, TRUE), \n",
    "  expedition_id = rep(\"new\", 4))\n",
    "\n",
    "new_expedition"
   ]
  },
  {
   "cell_type": "markdown",
   "id": "3155927a",
   "metadata": {},
   "source": [
    "- 4개의 새로운 관측값에 대한 예측"
   ]
  },
  {
   "cell_type": "code",
   "execution_count": 23,
   "id": "bf1ecf53",
   "metadata": {},
   "outputs": [],
   "source": [
    "set.seed(84735)\n",
    "binary_prediction <- posterior_predict(climb_model, newdata = new_expedition)"
   ]
  },
  {
   "cell_type": "markdown",
   "id": "f594cf68",
   "metadata": {},
   "source": [
    "- 4개의 새로운 관측값별 성공 예측확률"
   ]
  },
  {
   "cell_type": "code",
   "execution_count": 20,
   "id": "b9a63ad2",
   "metadata": {},
   "outputs": [
    {
     "data": {
      "text/html": [
       "<style>\n",
       ".dl-inline {width: auto; margin:0; padding: 0}\n",
       ".dl-inline>dt, .dl-inline>dd {float: none; width: auto; display: inline-block}\n",
       ".dl-inline>dt::after {content: \":\\0020\"; padding-right: .5ex}\n",
       ".dl-inline>dt:not(:first-of-type) {padding-left: .5ex}\n",
       "</style><dl class=dl-inline><dt>1</dt><dd>0.2793</dd><dt>2</dt><dd>0.79675</dd><dt>3</dt><dd>0.14295</dd><dt>4</dt><dd>0.6482</dd></dl>\n"
      ],
      "text/latex": [
       "\\begin{description*}\n",
       "\\item[1] 0.2793\n",
       "\\item[2] 0.79675\n",
       "\\item[3] 0.14295\n",
       "\\item[4] 0.6482\n",
       "\\end{description*}\n"
      ],
      "text/markdown": [
       "1\n",
       ":   0.27932\n",
       ":   0.796753\n",
       ":   0.142954\n",
       ":   0.6482\n",
       "\n"
      ],
      "text/plain": [
       "      1       2       3       4 \n",
       "0.27930 0.79675 0.14295 0.64820 "
      ]
     },
     "metadata": {},
     "output_type": "display_data"
    }
   ],
   "source": [
    "colMeans(binary_prediction)"
   ]
  },
  {
   "cell_type": "markdown",
   "id": "2041ffbd",
   "metadata": {},
   "source": [
    "<br>\n",
    "\n",
    "### 모형평가"
   ]
  },
  {
   "cell_type": "code",
   "execution_count": 21,
   "id": "c2aa0cad",
   "metadata": {},
   "outputs": [
    {
     "data": {
      "text/html": [
       "<dl>\n",
       "\t<dt>$confusion_matrix</dt>\n",
       "\t\t<dd><table class=\"dataframe\">\n",
       "<caption>A tabyl: 2 × 3</caption>\n",
       "<thead>\n",
       "\t<tr><th scope=col>y</th><th scope=col>0</th><th scope=col>1</th></tr>\n",
       "\t<tr><th scope=col>&lt;lgl&gt;</th><th scope=col>&lt;dbl&gt;</th><th scope=col>&lt;dbl&gt;</th></tr>\n",
       "</thead>\n",
       "<tbody>\n",
       "\t<tr><td>FALSE</td><td>1172</td><td> 97</td></tr>\n",
       "\t<tr><td> TRUE</td><td>  77</td><td>730</td></tr>\n",
       "</tbody>\n",
       "</table>\n",
       "</dd>\n",
       "\t<dt>$accuracy_rates</dt>\n",
       "\t\t<dd><table class=\"dataframe\">\n",
       "<caption>A data.frame: 3 × 1</caption>\n",
       "<thead>\n",
       "\t<tr><th></th><th scope=col></th></tr>\n",
       "\t<tr><th></th><th scope=col>&lt;dbl&gt;</th></tr>\n",
       "</thead>\n",
       "<tbody>\n",
       "\t<tr><th scope=row>sensitivity</th><td>0.9045849</td></tr>\n",
       "\t<tr><th scope=row>specificity</th><td>0.9235619</td></tr>\n",
       "\t<tr><th scope=row>overall_accuracy</th><td>0.9161850</td></tr>\n",
       "</tbody>\n",
       "</table>\n",
       "</dd>\n",
       "</dl>\n"
      ],
      "text/latex": [
       "\\begin{description}\n",
       "\\item[\\$confusion\\_matrix] A tabyl: 2 × 3\n",
       "\\begin{tabular}{lll}\n",
       " y & 0 & 1\\\\\n",
       " <lgl> & <dbl> & <dbl>\\\\\n",
       "\\hline\n",
       "\t FALSE & 1172 &  97\\\\\n",
       "\t  TRUE &   77 & 730\\\\\n",
       "\\end{tabular}\n",
       "\n",
       "\\item[\\$accuracy\\_rates] A data.frame: 3 × 1\n",
       "\\begin{tabular}{r|l}\n",
       "  & \\\\\n",
       "  & <dbl>\\\\\n",
       "\\hline\n",
       "\tsensitivity & 0.9045849\\\\\n",
       "\tspecificity & 0.9235619\\\\\n",
       "\toverall\\_accuracy & 0.9161850\\\\\n",
       "\\end{tabular}\n",
       "\n",
       "\\end{description}\n"
      ],
      "text/markdown": [
       "$confusion_matrix\n",
       ":   \n",
       "A tabyl: 2 × 3\n",
       "\n",
       "| y &lt;lgl&gt; | 0 &lt;dbl&gt; | 1 &lt;dbl&gt; |\n",
       "|---|---|---|\n",
       "| FALSE | 1172 |  97 |\n",
       "|  TRUE |   77 | 730 |\n",
       "\n",
       "\n",
       "$accuracy_rates\n",
       ":   \n",
       "A data.frame: 3 × 1\n",
       "\n",
       "| <!--/--> | <!----> &lt;dbl&gt; |\n",
       "|---|---|\n",
       "| sensitivity | 0.9045849 |\n",
       "| specificity | 0.9235619 |\n",
       "| overall_accuracy | 0.9161850 |\n",
       "\n",
       "\n",
       "\n",
       "\n"
      ],
      "text/plain": [
       "$confusion_matrix\n",
       "     y    0   1\n",
       " FALSE 1172  97\n",
       "  TRUE   77 730\n",
       "\n",
       "$accuracy_rates\n",
       "                          \n",
       "sensitivity      0.9045849\n",
       "specificity      0.9235619\n",
       "overall_accuracy 0.9161850\n"
      ]
     },
     "metadata": {},
     "output_type": "display_data"
    }
   ],
   "source": [
    "set.seed(84735)\n",
    "classification_summary(data = climbers, model = climb_model, cutoff = 0.5)"
   ]
  },
  {
   "cell_type": "markdown",
   "id": "4fbdc8cc",
   "metadata": {},
   "source": [
    "<br>\n",
    "\n",
    "## 18.02.  계층적 포아송 & 음이항 회귀"
   ]
  },
  {
   "cell_type": "code",
   "execution_count": 28,
   "id": "62aedfa8",
   "metadata": {},
   "outputs": [
    {
     "data": {
      "text/html": [
       "1561"
      ],
      "text/latex": [
       "1561"
      ],
      "text/markdown": [
       "1561"
      ],
      "text/plain": [
       "[1] 1561"
      ]
     },
     "metadata": {},
     "output_type": "display_data"
    }
   ],
   "source": [
    "data(airbnb)\n",
    "\n",
    "nrow(airbnb)"
   ]
  },
  {
   "cell_type": "code",
   "execution_count": 31,
   "id": "565de096",
   "metadata": {},
   "outputs": [
    {
     "data": {
      "text/html": [
       "<table class=\"dataframe\">\n",
       "<caption>A data.frame: 6 × 12</caption>\n",
       "<thead>\n",
       "\t<tr><th></th><th scope=col>price</th><th scope=col>rating</th><th scope=col>reviews</th><th scope=col>room_type</th><th scope=col>accommodates</th><th scope=col>bedrooms</th><th scope=col>minimum_stay</th><th scope=col>neighborhood</th><th scope=col>district</th><th scope=col>walk_score</th><th scope=col>transit_score</th><th scope=col>bike_score</th></tr>\n",
       "\t<tr><th></th><th scope=col>&lt;int&gt;</th><th scope=col>&lt;dbl&gt;</th><th scope=col>&lt;int&gt;</th><th scope=col>&lt;fct&gt;</th><th scope=col>&lt;int&gt;</th><th scope=col>&lt;int&gt;</th><th scope=col>&lt;int&gt;</th><th scope=col>&lt;fct&gt;</th><th scope=col>&lt;fct&gt;</th><th scope=col>&lt;int&gt;</th><th scope=col>&lt;int&gt;</th><th scope=col>&lt;int&gt;</th></tr>\n",
       "</thead>\n",
       "<tbody>\n",
       "\t<tr><th scope=row>1</th><td> 85</td><td>5.0</td><td> 6</td><td>Private room   </td><td>2</td><td>1</td><td>1</td><td>Albany Park</td><td>Far North</td><td>87</td><td>62</td><td>68</td></tr>\n",
       "\t<tr><th scope=row>2</th><td> 35</td><td>5.0</td><td> 8</td><td>Private room   </td><td>1</td><td>1</td><td>1</td><td>Albany Park</td><td>Far North</td><td>87</td><td>62</td><td>68</td></tr>\n",
       "\t<tr><th scope=row>3</th><td>175</td><td>4.5</td><td> 7</td><td>Entire home/apt</td><td>4</td><td>2</td><td>2</td><td>Albany Park</td><td>Far North</td><td>87</td><td>62</td><td>68</td></tr>\n",
       "\t<tr><th scope=row>4</th><td> 75</td><td>5.0</td><td>52</td><td>Private room   </td><td>2</td><td>1</td><td>1</td><td>Albany Park</td><td>Far North</td><td>87</td><td>62</td><td>68</td></tr>\n",
       "\t<tr><th scope=row>5</th><td>160</td><td>5.0</td><td> 3</td><td>Entire home/apt</td><td>6</td><td>2</td><td>1</td><td>Albany Park</td><td>Far North</td><td>87</td><td>62</td><td>68</td></tr>\n",
       "\t<tr><th scope=row>6</th><td> 60</td><td>5.0</td><td> 5</td><td>Private room   </td><td>1</td><td>1</td><td>1</td><td>Albany Park</td><td>Far North</td><td>87</td><td>62</td><td>68</td></tr>\n",
       "</tbody>\n",
       "</table>\n"
      ],
      "text/latex": [
       "A data.frame: 6 × 12\n",
       "\\begin{tabular}{r|llllllllllll}\n",
       "  & price & rating & reviews & room\\_type & accommodates & bedrooms & minimum\\_stay & neighborhood & district & walk\\_score & transit\\_score & bike\\_score\\\\\n",
       "  & <int> & <dbl> & <int> & <fct> & <int> & <int> & <int> & <fct> & <fct> & <int> & <int> & <int>\\\\\n",
       "\\hline\n",
       "\t1 &  85 & 5.0 &  6 & Private room    & 2 & 1 & 1 & Albany Park & Far North & 87 & 62 & 68\\\\\n",
       "\t2 &  35 & 5.0 &  8 & Private room    & 1 & 1 & 1 & Albany Park & Far North & 87 & 62 & 68\\\\\n",
       "\t3 & 175 & 4.5 &  7 & Entire home/apt & 4 & 2 & 2 & Albany Park & Far North & 87 & 62 & 68\\\\\n",
       "\t4 &  75 & 5.0 & 52 & Private room    & 2 & 1 & 1 & Albany Park & Far North & 87 & 62 & 68\\\\\n",
       "\t5 & 160 & 5.0 &  3 & Entire home/apt & 6 & 2 & 1 & Albany Park & Far North & 87 & 62 & 68\\\\\n",
       "\t6 &  60 & 5.0 &  5 & Private room    & 1 & 1 & 1 & Albany Park & Far North & 87 & 62 & 68\\\\\n",
       "\\end{tabular}\n"
      ],
      "text/markdown": [
       "\n",
       "A data.frame: 6 × 12\n",
       "\n",
       "| <!--/--> | price &lt;int&gt; | rating &lt;dbl&gt; | reviews &lt;int&gt; | room_type &lt;fct&gt; | accommodates &lt;int&gt; | bedrooms &lt;int&gt; | minimum_stay &lt;int&gt; | neighborhood &lt;fct&gt; | district &lt;fct&gt; | walk_score &lt;int&gt; | transit_score &lt;int&gt; | bike_score &lt;int&gt; |\n",
       "|---|---|---|---|---|---|---|---|---|---|---|---|---|\n",
       "| 1 |  85 | 5.0 |  6 | Private room    | 2 | 1 | 1 | Albany Park | Far North | 87 | 62 | 68 |\n",
       "| 2 |  35 | 5.0 |  8 | Private room    | 1 | 1 | 1 | Albany Park | Far North | 87 | 62 | 68 |\n",
       "| 3 | 175 | 4.5 |  7 | Entire home/apt | 4 | 2 | 2 | Albany Park | Far North | 87 | 62 | 68 |\n",
       "| 4 |  75 | 5.0 | 52 | Private room    | 2 | 1 | 1 | Albany Park | Far North | 87 | 62 | 68 |\n",
       "| 5 | 160 | 5.0 |  3 | Entire home/apt | 6 | 2 | 1 | Albany Park | Far North | 87 | 62 | 68 |\n",
       "| 6 |  60 | 5.0 |  5 | Private room    | 1 | 1 | 1 | Albany Park | Far North | 87 | 62 | 68 |\n",
       "\n"
      ],
      "text/plain": [
       "  price rating reviews room_type       accommodates bedrooms minimum_stay\n",
       "1  85   5.0     6      Private room    2            1        1           \n",
       "2  35   5.0     8      Private room    1            1        1           \n",
       "3 175   4.5     7      Entire home/apt 4            2        2           \n",
       "4  75   5.0    52      Private room    2            1        1           \n",
       "5 160   5.0     3      Entire home/apt 6            2        1           \n",
       "6  60   5.0     5      Private room    1            1        1           \n",
       "  neighborhood district  walk_score transit_score bike_score\n",
       "1 Albany Park  Far North 87         62            68        \n",
       "2 Albany Park  Far North 87         62            68        \n",
       "3 Albany Park  Far North 87         62            68        \n",
       "4 Albany Park  Far North 87         62            68        \n",
       "5 Albany Park  Far North 87         62            68        \n",
       "6 Albany Park  Far North 87         62            68        "
      ]
     },
     "metadata": {},
     "output_type": "display_data"
    }
   ],
   "source": [
    "airbnb %>% head"
   ]
  },
  {
   "cell_type": "markdown",
   "id": "ee8081b5",
   "metadata": {},
   "source": [
    "#### 43개의 그룹"
   ]
  },
  {
   "cell_type": "code",
   "execution_count": 29,
   "id": "8cde1859",
   "metadata": {},
   "outputs": [
    {
     "data": {
      "text/html": [
       "<table class=\"dataframe\">\n",
       "<caption>A data.frame: 1 × 1</caption>\n",
       "<thead>\n",
       "\t<tr><th scope=col>nlevels(neighborhood)</th></tr>\n",
       "\t<tr><th scope=col>&lt;int&gt;</th></tr>\n",
       "</thead>\n",
       "<tbody>\n",
       "\t<tr><td>43</td></tr>\n",
       "</tbody>\n",
       "</table>\n"
      ],
      "text/latex": [
       "A data.frame: 1 × 1\n",
       "\\begin{tabular}{l}\n",
       " nlevels(neighborhood)\\\\\n",
       " <int>\\\\\n",
       "\\hline\n",
       "\t 43\\\\\n",
       "\\end{tabular}\n"
      ],
      "text/markdown": [
       "\n",
       "A data.frame: 1 × 1\n",
       "\n",
       "| nlevels(neighborhood) &lt;int&gt; |\n",
       "|---|\n",
       "| 43 |\n",
       "\n"
      ],
      "text/plain": [
       "  nlevels(neighborhood)\n",
       "1 43                   "
      ]
     },
     "metadata": {},
     "output_type": "display_data"
    }
   ],
   "source": [
    "airbnb %>% \n",
    "  summarize(nlevels(neighborhood))"
   ]
  },
  {
   "cell_type": "markdown",
   "id": "1e3d5f49",
   "metadata": {},
   "source": [
    "<br>\n",
    "\n",
    "### 포아송 회귀 모형"
   ]
  },
  {
   "cell_type": "code",
   "execution_count": null,
   "id": "3fd9904c",
   "metadata": {},
   "outputs": [],
   "source": [
    "airbnb_model_1 <- stan_glmer(\n",
    "  reviews ~ rating + room_type + (1 | neighborhood), \n",
    "  data = airbnb, family = poisson,\n",
    "  prior_intercept = normal(3, 2.5, autoscale = TRUE),\n",
    "  prior = normal(0, 2.5, autoscale = TRUE), \n",
    "  prior_covariance = decov(reg = 1, conc = 1, shape = 1, scale = 1),\n",
    "  chains = 4, iter = 5000*2, seed = 84735\n",
    ")"
   ]
  },
  {
   "cell_type": "code",
   "execution_count": null,
   "id": "82577c17",
   "metadata": {},
   "outputs": [],
   "source": [
    "airbnb_model_1 <- stan_glmer(\n",
    "  reviews ~ rating + room_type + (1 | neighborhood), \n",
    "  data = airbnb, family = poisson,\n",
    "  prior_intercept = normal(3, 2.5, autoscale = TRUE),\n",
    "  prior = normal(0, 2.5, autoscale = TRUE), \n",
    "  prior_covariance = decov(reg = 1, conc = 1, shape = 1, scale = 1),\n",
    "  chains = 4, iter = 5000*2, seed = 84735\n",
    ")"
   ]
  },
  {
   "cell_type": "code",
   "execution_count": 34,
   "id": "b54780de",
   "metadata": {},
   "outputs": [
    {
     "data": {
      "text/plain": [
       "Priors for model 'airbnb_model_1' \n",
       "------\n",
       "Intercept (after predictors centered)\n",
       " ~ normal(location = 3, scale = 2.5)\n",
       "\n",
       "Coefficients\n",
       "  Specified prior:\n",
       "    ~ normal(location = [0,0,0], scale = [2.5,2.5,2.5])\n",
       "  Adjusted prior:\n",
       "    ~ normal(location = [0,0,0], scale = [ 7.37, 5.04,14.19])\n",
       "\n",
       "Covariance\n",
       " ~ decov(reg. = 1, conc. = 1, shape = 1, scale = 1)\n",
       "------\n",
       "See help('prior_summary.stanreg') for more details"
      ]
     },
     "metadata": {},
     "output_type": "display_data"
    }
   ],
   "source": [
    "prior_summary(airbnb_model_1)"
   ]
  },
  {
   "cell_type": "markdown",
   "id": "a751c224",
   "metadata": {},
   "source": [
    "$$\\begin{equation}\n",
    "\\begin{array}{rl}\n",
    "Y_{ij}|\\beta_{0j},\\beta_1, \\beta_2, \\beta_3 & \\sim \\text{Pois}(\\lambda_{ij}) \\;\\; \n",
    "\\text{ with }  \\;\\; \\log(\\lambda_{ij}) = \\beta_{0j} + \\beta_1 X_{ij1} + \\beta_2 X_{ij2} + \\beta_3 X_{ij3} \\\\\n",
    "\\beta_{0j} | \\beta_0, \\sigma_0    & \\stackrel{ind}{\\sim} N(\\beta_0, \\sigma_0^2)\\\\\n",
    "\\beta_{0c} & \\sim N\\left(3, 2.5^2 \\right)\\\\\n",
    "\\beta_{1} & \\sim N\\left(0, 7.37^2 \\right)\\\\\n",
    "\\beta_{2} & \\sim N\\left(0, 5.04^2 \\right)\\\\\n",
    "\\beta_{3} & \\sim N\\left(0, 14.19^2 \\right)\\\\\n",
    "\\sigma_0 & \\sim \\text{Exp}(1). \\\\\n",
    "\\end{array}\n",
    "\\end{equation}$$"
   ]
  },
  {
   "cell_type": "markdown",
   "id": "a21b7cbf",
   "metadata": {},
   "source": [
    "#### 사후분포 검사결과, 데이터는 포아송 회귀모형을 적용하기에 과분산 되어있음을 확인"
   ]
  },
  {
   "cell_type": "code",
   "execution_count": 35,
   "id": "5b48c845",
   "metadata": {},
   "outputs": [
    {
     "name": "stderr",
     "output_type": "stream",
     "text": [
      "Warning message:\n",
      "\"\u001b[1m\u001b[22mRemoved 8 rows containing non-finite values (`stat_density()`).\"\n"
     ]
    },
    {
     "data": {
      "image/png": "[encoded data removed]",
      "text/plain": [
       "plot without title"
      ]
     },
     "metadata": {
      "image/png": {
       "height": 420,
       "width": 420
      }
     },
     "output_type": "display_data"
    }
   ],
   "source": [
    "pp_check(airbnb_model_1) + \n",
    "  xlim(0, 200) + \n",
    "  xlab(\"reviews\")"
   ]
  },
  {
   "cell_type": "markdown",
   "id": "a33043d9",
   "metadata": {},
   "source": [
    "<br>\n",
    "\n",
    "### 음이항 회귀 모형"
   ]
  },
  {
   "cell_type": "code",
   "execution_count": null,
   "id": "666140c9",
   "metadata": {},
   "outputs": [],
   "source": [
    "airbnb_model_2 <- stan_glmer(\n",
    "  reviews ~ rating + room_type + (1 | neighborhood), \n",
    "  data = airbnb, family = neg_binomial_2,\n",
    "  prior_intercept = normal(3, 2.5, autoscale = TRUE),\n",
    "  prior = normal(0, 2.5, autoscale = TRUE), \n",
    "  prior_aux = exponential(1, autoscale = TRUE),\n",
    "  prior_covariance = decov(reg = 1, conc = 1, shape = 1, scale = 1),\n",
    "  chains = 4, iter = 5000*2, seed = 84735\n",
    ")"
   ]
  },
  {
   "cell_type": "code",
   "execution_count": 38,
   "id": "4c6e87ff",
   "metadata": {},
   "outputs": [
    {
     "data": {
      "text/plain": [
       "Priors for model 'airbnb_model_2' \n",
       "------\n",
       "Intercept (after predictors centered)\n",
       " ~ normal(location = 3, scale = 2.5)\n",
       "\n",
       "Coefficients\n",
       "  Specified prior:\n",
       "    ~ normal(location = [0,0,0], scale = [2.5,2.5,2.5])\n",
       "  Adjusted prior:\n",
       "    ~ normal(location = [0,0,0], scale = [ 7.37, 5.04,14.19])\n",
       "\n",
       "Auxiliary (reciprocal_dispersion)\n",
       " ~ exponential(rate = 1)\n",
       "\n",
       "Covariance\n",
       " ~ decov(reg. = 1, conc. = 1, shape = 1, scale = 1)\n",
       "------\n",
       "See help('prior_summary.stanreg') for more details"
      ]
     },
     "metadata": {},
     "output_type": "display_data"
    }
   ],
   "source": [
    "prior_summary(airbnb_model_2)"
   ]
  },
  {
   "cell_type": "markdown",
   "id": "778dac0b",
   "metadata": {},
   "source": [
    "$$\\begin{equation}\n",
    "\\begin{array}{rl}\n",
    "Y_{ij}|\\beta_{0j},\\beta_1, \\beta_2, \\beta_3, r & \\sim \\text{NegBin}(\\mu_{ij}, r) \\;\\; \\text{ with } \\;\\; \\log(\\mu_{ij}) = \\beta_{0j} + \\beta_1 X_{ij1} + \\beta_2 X_{ij2} + \\beta_3 X_{ij3} \\\\\n",
    "\\beta_{0j} | \\beta_0, \\sigma_0    & \\stackrel{ind}{\\sim} N(\\beta_0, \\sigma_0^2) \\\\\n",
    "\\beta_{0c} &  \\sim N\\left(3, 2.5^2 \\right) \\\\\n",
    "\\beta_1 &  \\sim N\\left(0, 7.37^2 \\right) \\\\\n",
    "\\beta_2 &  \\sim N\\left(0, 5.04^2 \\right) \\\\\n",
    "\\beta_3 &  \\sim N\\left(0, 14.19^2 \\right) \\\\\n",
    "r & \\sim \\text{Exp}(1) \\\\\n",
    "\\sigma_0 & \\sim \\text{Exp}(1) \\\\\n",
    "\\end{array}\n",
    "\\end{equation}$$"
   ]
  },
  {
   "cell_type": "markdown",
   "id": "f331b605",
   "metadata": {},
   "source": [
    "#### 사후분포 검사결과, 음이항 회귀는 데이터의 특성을 잘 포착"
   ]
  },
  {
   "cell_type": "code",
   "execution_count": 37,
   "id": "d4a34e01",
   "metadata": {},
   "outputs": [
    {
     "name": "stderr",
     "output_type": "stream",
     "text": [
      "Warning message:\n",
      "\"\u001b[1m\u001b[22mRemoved 81 rows containing non-finite values (`stat_density()`).\"\n",
      "Warning message:\n",
      "\"\u001b[1m\u001b[22mRemoved 8 rows containing non-finite values (`stat_density()`).\"\n"
     ]
    },
    {
     "data": {
      "image/png": "[encoded data removed]",
      "text/plain": [
       "plot without title"
      ]
     },
     "metadata": {
      "image/png": {
       "height": 420,
       "width": 420
      }
     },
     "output_type": "display_data"
    }
   ],
   "source": [
    "pp_check(airbnb_model_2) + \n",
    "  xlim(0, 200) + \n",
    "  xlab(\"reviews\")"
   ]
  },
  {
   "cell_type": "markdown",
   "id": "226ae8c3",
   "metadata": {},
   "source": [
    "<br>\n",
    "\n",
    "### 사후분포"
   ]
  },
  {
   "cell_type": "code",
   "execution_count": 39,
   "id": "e34d8728",
   "metadata": {},
   "outputs": [
    {
     "data": {
      "text/html": [
       "<table class=\"dataframe\">\n",
       "<caption>A tibble: 4 × 5</caption>\n",
       "<thead>\n",
       "\t<tr><th scope=col>term</th><th scope=col>estimate</th><th scope=col>std.error</th><th scope=col>conf.low</th><th scope=col>conf.high</th></tr>\n",
       "\t<tr><th scope=col>&lt;chr&gt;</th><th scope=col>&lt;dbl&gt;</th><th scope=col>&lt;dbl&gt;</th><th scope=col>&lt;dbl&gt;</th><th scope=col>&lt;dbl&gt;</th></tr>\n",
       "</thead>\n",
       "<tbody>\n",
       "\t<tr><td>(Intercept)          </td><td> 1.99591676</td><td>0.39816649</td><td> 1.48871101</td><td> 2.5102228</td></tr>\n",
       "\t<tr><td>rating               </td><td> 0.26455390</td><td>0.08314600</td><td> 0.15667938</td><td> 0.3703324</td></tr>\n",
       "\t<tr><td>room_typePrivate room</td><td> 0.06837476</td><td>0.05287219</td><td> 0.00070166</td><td> 0.1364916</td></tr>\n",
       "\t<tr><td>room_typeShared room </td><td>-0.47020694</td><td>0.14980040</td><td>-0.65948546</td><td>-0.2755344</td></tr>\n",
       "</tbody>\n",
       "</table>\n"
      ],
      "text/latex": [
       "A tibble: 4 × 5\n",
       "\\begin{tabular}{lllll}\n",
       " term & estimate & std.error & conf.low & conf.high\\\\\n",
       " <chr> & <dbl> & <dbl> & <dbl> & <dbl>\\\\\n",
       "\\hline\n",
       "\t (Intercept)           &  1.99591676 & 0.39816649 &  1.48871101 &  2.5102228\\\\\n",
       "\t rating                &  0.26455390 & 0.08314600 &  0.15667938 &  0.3703324\\\\\n",
       "\t room\\_typePrivate room &  0.06837476 & 0.05287219 &  0.00070166 &  0.1364916\\\\\n",
       "\t room\\_typeShared room  & -0.47020694 & 0.14980040 & -0.65948546 & -0.2755344\\\\\n",
       "\\end{tabular}\n"
      ],
      "text/markdown": [
       "\n",
       "A tibble: 4 × 5\n",
       "\n",
       "| term &lt;chr&gt; | estimate &lt;dbl&gt; | std.error &lt;dbl&gt; | conf.low &lt;dbl&gt; | conf.high &lt;dbl&gt; |\n",
       "|---|---|---|---|---|\n",
       "| (Intercept)           |  1.99591676 | 0.39816649 |  1.48871101 |  2.5102228 |\n",
       "| rating                |  0.26455390 | 0.08314600 |  0.15667938 |  0.3703324 |\n",
       "| room_typePrivate room |  0.06837476 | 0.05287219 |  0.00070166 |  0.1364916 |\n",
       "| room_typeShared room  | -0.47020694 | 0.14980040 | -0.65948546 | -0.2755344 |\n",
       "\n"
      ],
      "text/plain": [
       "  term                  estimate    std.error  conf.low    conf.high \n",
       "1 (Intercept)            1.99591676 0.39816649  1.48871101  2.5102228\n",
       "2 rating                 0.26455390 0.08314600  0.15667938  0.3703324\n",
       "3 room_typePrivate room  0.06837476 0.05287219  0.00070166  0.1364916\n",
       "4 room_typeShared room  -0.47020694 0.14980040 -0.65948546 -0.2755344"
      ]
     },
     "metadata": {},
     "output_type": "display_data"
    }
   ],
   "source": [
    "tidy(airbnb_model_2, effects = \"fixed\", conf.int = TRUE, conf.level = 0.80)"
   ]
  },
  {
   "cell_type": "code",
   "execution_count": 40,
   "id": "6845b880",
   "metadata": {},
   "outputs": [
    {
     "data": {
      "text/html": [
       "<table class=\"dataframe\">\n",
       "<caption>A tibble: 3 × 4</caption>\n",
       "<thead>\n",
       "\t<tr><th scope=col>level</th><th scope=col>estimate</th><th scope=col>conf.low</th><th scope=col>conf.high</th></tr>\n",
       "\t<tr><th scope=col>&lt;chr&gt;</th><th scope=col>&lt;dbl&gt;</th><th scope=col>&lt;dbl&gt;</th><th scope=col>&lt;dbl&gt;</th></tr>\n",
       "</thead>\n",
       "<tbody>\n",
       "\t<tr><td>Albany_Park       </td><td>-0.233269505</td><td>-0.43185633</td><td>-0.05218517</td></tr>\n",
       "\t<tr><td>East_Garfield_Park</td><td> 0.201989079</td><td> 0.03760021</td><td> 0.39606763</td></tr>\n",
       "\t<tr><td>The_Loop          </td><td> 0.008911772</td><td>-0.09951023</td><td> 0.12588048</td></tr>\n",
       "</tbody>\n",
       "</table>\n"
      ],
      "text/latex": [
       "A tibble: 3 × 4\n",
       "\\begin{tabular}{llll}\n",
       " level & estimate & conf.low & conf.high\\\\\n",
       " <chr> & <dbl> & <dbl> & <dbl>\\\\\n",
       "\\hline\n",
       "\t Albany\\_Park        & -0.233269505 & -0.43185633 & -0.05218517\\\\\n",
       "\t East\\_Garfield\\_Park &  0.201989079 &  0.03760021 &  0.39606763\\\\\n",
       "\t The\\_Loop           &  0.008911772 & -0.09951023 &  0.12588048\\\\\n",
       "\\end{tabular}\n"
      ],
      "text/markdown": [
       "\n",
       "A tibble: 3 × 4\n",
       "\n",
       "| level &lt;chr&gt; | estimate &lt;dbl&gt; | conf.low &lt;dbl&gt; | conf.high &lt;dbl&gt; |\n",
       "|---|---|---|---|\n",
       "| Albany_Park        | -0.233269505 | -0.43185633 | -0.05218517 |\n",
       "| East_Garfield_Park |  0.201989079 |  0.03760021 |  0.39606763 |\n",
       "| The_Loop           |  0.008911772 | -0.09951023 |  0.12588048 |\n",
       "\n"
      ],
      "text/plain": [
       "  level              estimate     conf.low    conf.high  \n",
       "1 Albany_Park        -0.233269505 -0.43185633 -0.05218517\n",
       "2 East_Garfield_Park  0.201989079  0.03760021  0.39606763\n",
       "3 The_Loop            0.008911772 -0.09951023  0.12588048"
      ]
     },
     "metadata": {},
     "output_type": "display_data"
    }
   ],
   "source": [
    "tidy(airbnb_model_2, effects = \"ran_vals\", \n",
    "     conf.int = TRUE, conf.level = 0.80) %>% \n",
    "  select(level, estimate, conf.low, conf.high) %>% \n",
    "  filter(level %in% c(\"Albany_Park\", \"East_Garfield_Park\", \"The_Loop\"))"
   ]
  },
  {
   "cell_type": "markdown",
   "id": "49f02f37",
   "metadata": {},
   "source": [
    "<br>\n",
    "\n",
    "### 사후예측분포"
   ]
  },
  {
   "cell_type": "markdown",
   "id": "3fcc40f2",
   "metadata": {},
   "source": [
    "- 새로운 관측값"
   ]
  },
  {
   "cell_type": "code",
   "execution_count": 41,
   "id": "a0870c6a",
   "metadata": {},
   "outputs": [
    {
     "data": {
      "text/html": [
       "<table class=\"dataframe\">\n",
       "<caption>A data.frame: 3 × 3</caption>\n",
       "<thead>\n",
       "\t<tr><th scope=col>rating</th><th scope=col>room_type</th><th scope=col>neighborhood</th></tr>\n",
       "\t<tr><th scope=col>&lt;dbl&gt;</th><th scope=col>&lt;chr&gt;</th><th scope=col>&lt;chr&gt;</th></tr>\n",
       "</thead>\n",
       "<tbody>\n",
       "\t<tr><td>5</td><td>Entire home/apt</td><td>Albany Park       </td></tr>\n",
       "\t<tr><td>5</td><td>Entire home/apt</td><td>East Garfield Park</td></tr>\n",
       "\t<tr><td>5</td><td>Entire home/apt</td><td>The Loop          </td></tr>\n",
       "</tbody>\n",
       "</table>\n"
      ],
      "text/latex": [
       "A data.frame: 3 × 3\n",
       "\\begin{tabular}{lll}\n",
       " rating & room\\_type & neighborhood\\\\\n",
       " <dbl> & <chr> & <chr>\\\\\n",
       "\\hline\n",
       "\t 5 & Entire home/apt & Albany Park       \\\\\n",
       "\t 5 & Entire home/apt & East Garfield Park\\\\\n",
       "\t 5 & Entire home/apt & The Loop          \\\\\n",
       "\\end{tabular}\n"
      ],
      "text/markdown": [
       "\n",
       "A data.frame: 3 × 3\n",
       "\n",
       "| rating &lt;dbl&gt; | room_type &lt;chr&gt; | neighborhood &lt;chr&gt; |\n",
       "|---|---|---|\n",
       "| 5 | Entire home/apt | Albany Park        |\n",
       "| 5 | Entire home/apt | East Garfield Park |\n",
       "| 5 | Entire home/apt | The Loop           |\n",
       "\n"
      ],
      "text/plain": [
       "  rating room_type       neighborhood      \n",
       "1 5      Entire home/apt Albany Park       \n",
       "2 5      Entire home/apt East Garfield Park\n",
       "3 5      Entire home/apt The Loop          "
      ]
     },
     "metadata": {},
     "output_type": "display_data"
    }
   ],
   "source": [
    "data.frame(\n",
    "rating = rep(5, 3), \n",
    "room_type = rep(\"Entire home/apt\", 3), \n",
    "neighborhood = c(\"Albany Park\", \"East Garfield Park\", \"The Loop\"))"
   ]
  },
  {
   "cell_type": "markdown",
   "id": "c69a1476",
   "metadata": {},
   "source": [
    "- 예측"
   ]
  },
  {
   "cell_type": "code",
   "execution_count": 42,
   "id": "b02cfff6",
   "metadata": {},
   "outputs": [],
   "source": [
    "set.seed(84735)\n",
    "predicted_reviews <- posterior_predict(\n",
    "  airbnb_model_2, \n",
    "  newdata = data.frame(\n",
    "    rating = rep(5, 3), \n",
    "    room_type = rep(\"Entire home/apt\", 3), \n",
    "    neighborhood = c(\"Albany Park\", \"East Garfield Park\", \"The Loop\")))"
   ]
  },
  {
   "cell_type": "code",
   "execution_count": 43,
   "id": "8dd21382",
   "metadata": {},
   "outputs": [
    {
     "name": "stderr",
     "output_type": "stream",
     "text": [
      "\u001b[1m\u001b[22mScale for \u001b[32my\u001b[39m is already present.\n",
      "Adding another scale for \u001b[32my\u001b[39m, which will replace the existing scale.\n",
      "\u001b[1m\u001b[22mScale for \u001b[32mx\u001b[39m is already present.\n",
      "Adding another scale for \u001b[32mx\u001b[39m, which will replace the existing scale.\n",
      "Warning message:\n",
      "\"\u001b[1m\u001b[22mRemoved 3 rows containing missing values (`geom_segment()`).\"\n"
     ]
    },
    {
     "data": {
      "image/png": "[encoded data removed]",
      "text/plain": [
       "plot without title"
      ]
     },
     "metadata": {
      "image/png": {
       "height": 420,
       "width": 420
      }
     },
     "output_type": "display_data"
    }
   ],
   "source": [
    "mcmc_areas(predicted_reviews, prob = 0.8) +\n",
    "  ggplot2::scale_y_discrete(\n",
    "    labels = c(\"Albany Park\", \"East Garfield Park\", \"The Loop\")) + \n",
    "  xlim(0, 150) + \n",
    "  xlab(\"reviews\")"
   ]
  },
  {
   "cell_type": "markdown",
   "id": "56a8654f",
   "metadata": {},
   "source": [
    "<br>\n",
    "\n",
    "### 모형 평가"
   ]
  },
  {
   "cell_type": "code",
   "execution_count": 44,
   "id": "396b919a",
   "metadata": {},
   "outputs": [
    {
     "data": {
      "text/html": [
       "<table class=\"dataframe\">\n",
       "<caption>A data.frame: 1 × 4</caption>\n",
       "<thead>\n",
       "\t<tr><th scope=col>mae</th><th scope=col>mae_scaled</th><th scope=col>within_50</th><th scope=col>within_95</th></tr>\n",
       "\t<tr><th scope=col>&lt;dbl&gt;</th><th scope=col>&lt;dbl&gt;</th><th scope=col>&lt;dbl&gt;</th><th scope=col>&lt;dbl&gt;</th></tr>\n",
       "</thead>\n",
       "<tbody>\n",
       "\t<tr><td>17.5983</td><td>0.6764801</td><td>0.5150545</td><td>0.9577194</td></tr>\n",
       "</tbody>\n",
       "</table>\n"
      ],
      "text/latex": [
       "A data.frame: 1 × 4\n",
       "\\begin{tabular}{llll}\n",
       " mae & mae\\_scaled & within\\_50 & within\\_95\\\\\n",
       " <dbl> & <dbl> & <dbl> & <dbl>\\\\\n",
       "\\hline\n",
       "\t 17.5983 & 0.6764801 & 0.5150545 & 0.9577194\\\\\n",
       "\\end{tabular}\n"
      ],
      "text/markdown": [
       "\n",
       "A data.frame: 1 × 4\n",
       "\n",
       "| mae &lt;dbl&gt; | mae_scaled &lt;dbl&gt; | within_50 &lt;dbl&gt; | within_95 &lt;dbl&gt; |\n",
       "|---|---|---|---|\n",
       "| 17.5983 | 0.6764801 | 0.5150545 | 0.9577194 |\n",
       "\n"
      ],
      "text/plain": [
       "  mae     mae_scaled within_50 within_95\n",
       "1 17.5983 0.6764801  0.5150545 0.9577194"
      ]
     },
     "metadata": {},
     "output_type": "display_data"
    }
   ],
   "source": [
    "set.seed(84735)\n",
    "prediction_summary(model = airbnb_model_2, data = airbnb)"
   ]
  }
 ],
 "metadata": {
  "kernelspec": {
   "display_name": "R",
   "language": "R",
   "name": "ir"
  },
  "language_info": {
   "codemirror_mode": "r",
   "file_extension": ".r",
   "mimetype": "text/x-r-source",
   "name": "R",
   "pygments_lexer": "r",
   "version": "4.2.2"
  }
 },
 "nbformat": 4,
 "nbformat_minor": 5
}
