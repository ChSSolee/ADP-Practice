{
 "cells": [
  {
   "cell_type": "markdown",
   "id": "8ed9021b",
   "metadata": {},
   "source": [
    "# 02. 베이즈 규칙"
   ]
  },
  {
   "cell_type": "code",
   "execution_count": 4,
   "id": "572e21ba",
   "metadata": {
    "scrolled": true
   },
   "outputs": [],
   "source": [
    "# pak::pkg_install('bayesrules')\n",
    "library(bayesrules)\n",
    "library(tidyverse)\n",
    "library(janitor)"
   ]
  },
  {
   "cell_type": "code",
   "execution_count": 13,
   "id": "4e735015",
   "metadata": {},
   "outputs": [
    {
     "name": "stdout",
     "output_type": "stream",
     "text": [
      "Rows: 150\n",
      "Columns: 30\n",
      "$ title                   \u001b[3m\u001b[90m<chr>\u001b[39m\u001b[23m \"Clinton's Exploited Haiti Earthquake ‘to Ste…\n",
      "$ text                    \u001b[3m\u001b[90m<chr>\u001b[39m\u001b[23m \"0 SHARES Facebook Twitter\\n\\nBernard Sansaric…\n",
      "$ url                     \u001b[3m\u001b[90m<chr>\u001b[39m\u001b[23m \"http://freedomdaily.com/former-haitian-senate…\n",
      "$ authors                 \u001b[3m\u001b[90m<chr>\u001b[39m\u001b[23m NA, NA, \"Sierra Marlee\", \"Jack Shafer,Nolan D\"…\n",
      "$ type                    \u001b[3m\u001b[90m<fct>\u001b[39m\u001b[23m fake, real, fake, real, fake, real, fake, fake…\n",
      "$ title_words             \u001b[3m\u001b[90m<int>\u001b[39m\u001b[23m 17, 18, 16, 11, 9, 12, 11, 18, 10, 13, 10, 11,…\n",
      "$ text_words              \u001b[3m\u001b[90m<int>\u001b[39m\u001b[23m 219, 509, 494, 268, 479, 220, 184, 500, 677, 4…\n",
      "$ title_char              \u001b[3m\u001b[90m<int>\u001b[39m\u001b[23m 110, 95, 96, 60, 54, 66, 86, 104, 66, 81, 59, …\n",
      "$ text_char               \u001b[3m\u001b[90m<int>\u001b[39m\u001b[23m 1444, 3016, 2881, 1674, 2813, 1351, 1128, 3112…\n",
      "$ title_caps              \u001b[3m\u001b[90m<int>\u001b[39m\u001b[23m 0, 0, 1, 0, 0, 1, 0, 2, 1, 1, 0, 1, 0, 0, 0, 0…\n",
      "$ text_caps               \u001b[3m\u001b[90m<int>\u001b[39m\u001b[23m 1, 1, 3, 3, 0, 0, 0, 12, 12, 1, 2, 5, 1, 1, 6,…\n",
      "$ title_caps_percent      \u001b[3m\u001b[90m<dbl>\u001b[39m\u001b[23m 0.000000, 0.000000, 6.250000, 0.000000, 0.0000…\n",
      "$ text_caps_percent       \u001b[3m\u001b[90m<dbl>\u001b[39m\u001b[23m 0.4566210, 0.1964637, 0.6072874, 1.1194030, 0.…\n",
      "$ title_excl              \u001b[3m\u001b[90m<int>\u001b[39m\u001b[23m 0, 0, 2, 0, 0, 0, 0, 1, 0, 0, 0, 0, 0, 0, 0, 0…\n",
      "$ text_excl               \u001b[3m\u001b[90m<int>\u001b[39m\u001b[23m 0, 0, 2, 0, 0, 0, 0, 0, 1, 0, 0, 0, 0, 2, 0, 0…\n",
      "$ title_excl_percent      \u001b[3m\u001b[90m<dbl>\u001b[39m\u001b[23m 0.0000000, 0.0000000, 2.0833333, 0.0000000, 0.…\n",
      "$ text_excl_percent       \u001b[3m\u001b[90m<dbl>\u001b[39m\u001b[23m 0.00000000, 0.00000000, 0.06942034, 0.00000000…\n",
      "$ title_has_excl          \u001b[3m\u001b[90m<lgl>\u001b[39m\u001b[23m FALSE, FALSE, TRUE, FALSE, FALSE, FALSE, FALSE…\n",
      "$ anger                   \u001b[3m\u001b[90m<dbl>\u001b[39m\u001b[23m 4.24, 2.28, 1.18, 4.66, 0.82, 1.29, 2.56, 3.47…\n",
      "$ anticipation            \u001b[3m\u001b[90m<dbl>\u001b[39m\u001b[23m 2.12, 1.71, 2.16, 1.79, 1.23, 0.43, 2.05, 1.74…\n",
      "$ disgust                 \u001b[3m\u001b[90m<dbl>\u001b[39m\u001b[23m 2.54, 1.90, 0.98, 1.79, 0.41, 1.72, 2.05, 1.35…\n",
      "$ fear                    \u001b[3m\u001b[90m<dbl>\u001b[39m\u001b[23m 3.81, 1.90, 1.57, 4.30, 0.82, 0.43, 5.13, 4.25…\n",
      "$ joy                     \u001b[3m\u001b[90m<dbl>\u001b[39m\u001b[23m 1.27, 1.71, 1.96, 0.36, 1.23, 0.86, 1.54, 1.35…\n",
      "$ sadness                 \u001b[3m\u001b[90m<dbl>\u001b[39m\u001b[23m 4.66, 1.33, 0.78, 1.79, 0.82, 0.86, 2.05, 1.93…\n",
      "$ surprise                \u001b[3m\u001b[90m<dbl>\u001b[39m\u001b[23m 2.12, 1.14, 1.18, 1.79, 0.82, 0.86, 1.03, 1.35…\n",
      "$ trust                   \u001b[3m\u001b[90m<dbl>\u001b[39m\u001b[23m 2.97, 4.17, 3.73, 2.51, 2.46, 2.16, 5.13, 3.86…\n",
      "$ negative                \u001b[3m\u001b[90m<dbl>\u001b[39m\u001b[23m 8.47, 4.74, 3.33, 6.09, 2.66, 3.02, 4.10, 4.63…\n",
      "$ positive                \u001b[3m\u001b[90m<dbl>\u001b[39m\u001b[23m 3.81, 4.93, 5.49, 2.15, 4.30, 2.16, 4.10, 4.25…\n",
      "$ text_syllables          \u001b[3m\u001b[90m<int>\u001b[39m\u001b[23m 395, 845, 806, 461, 761, 376, 326, 891, 1133, …\n",
      "$ text_syllables_per_word \u001b[3m\u001b[90m<dbl>\u001b[39m\u001b[23m 1.803653, 1.660118, 1.631579, 1.720149, 1.5887…\n"
     ]
    }
   ],
   "source": [
    "data(fake_news)\n",
    "fake_news %>% glimpse"
   ]
  },
  {
   "cell_type": "markdown",
   "id": "5d2453b2",
   "metadata": {},
   "source": [
    "# \n",
    "#### ```janitor::tabyl()``` : 데이터 비율 확인"
   ]
  },
  {
   "cell_type": "code",
   "execution_count": 9,
   "id": "cd6f32ca",
   "metadata": {},
   "outputs": [
    {
     "data": {
      "text/html": [
       "<table class=\"dataframe\">\n",
       "<caption>A tabyl: 2 × 3</caption>\n",
       "<thead>\n",
       "\t<tr><th scope=col>type</th><th scope=col>n</th><th scope=col>percent</th></tr>\n",
       "\t<tr><th scope=col>&lt;fct&gt;</th><th scope=col>&lt;int&gt;</th><th scope=col>&lt;dbl&gt;</th></tr>\n",
       "</thead>\n",
       "<tbody>\n",
       "\t<tr><td>fake</td><td>60</td><td>0.4</td></tr>\n",
       "\t<tr><td>real</td><td>90</td><td>0.6</td></tr>\n",
       "</tbody>\n",
       "</table>\n"
      ],
      "text/latex": [
       "A tabyl: 2 × 3\n",
       "\\begin{tabular}{lll}\n",
       " type & n & percent\\\\\n",
       " <fct> & <int> & <dbl>\\\\\n",
       "\\hline\n",
       "\t fake & 60 & 0.4\\\\\n",
       "\t real & 90 & 0.6\\\\\n",
       "\\end{tabular}\n"
      ],
      "text/markdown": [
       "\n",
       "A tabyl: 2 × 3\n",
       "\n",
       "| type &lt;fct&gt; | n &lt;int&gt; | percent &lt;dbl&gt; |\n",
       "|---|---|---|\n",
       "| fake | 60 | 0.4 |\n",
       "| real | 90 | 0.6 |\n",
       "\n"
      ],
      "text/plain": [
       "  type n  percent\n",
       "1 fake 60 0.4    \n",
       "2 real 90 0.6    "
      ]
     },
     "metadata": {},
     "output_type": "display_data"
    }
   ],
   "source": [
    "fake_news |> tabyl(type)"
   ]
  },
  {
   "cell_type": "markdown",
   "id": "c8957a15",
   "metadata": {},
   "source": [
    "#### ```janitor::adorn_totals()``` : 행/열 집계"
   ]
  },
  {
   "cell_type": "code",
   "execution_count": 12,
   "id": "546d3bfe",
   "metadata": {},
   "outputs": [
    {
     "data": {
      "text/html": [
       "<table class=\"dataframe\">\n",
       "<caption>A tabyl: 3 × 3</caption>\n",
       "<thead>\n",
       "\t<tr><th></th><th scope=col>type</th><th scope=col>n</th><th scope=col>percent</th></tr>\n",
       "\t<tr><th></th><th scope=col>&lt;chr&gt;</th><th scope=col>&lt;int&gt;</th><th scope=col>&lt;dbl&gt;</th></tr>\n",
       "</thead>\n",
       "<tbody>\n",
       "\t<tr><th scope=row>1</th><td>fake </td><td> 60</td><td>0.4</td></tr>\n",
       "\t<tr><th scope=row>2</th><td>real </td><td> 90</td><td>0.6</td></tr>\n",
       "\t<tr><th scope=row>3</th><td>Total</td><td>150</td><td>1.0</td></tr>\n",
       "</tbody>\n",
       "</table>\n"
      ],
      "text/latex": [
       "A tabyl: 3 × 3\n",
       "\\begin{tabular}{r|lll}\n",
       "  & type & n & percent\\\\\n",
       "  & <chr> & <int> & <dbl>\\\\\n",
       "\\hline\n",
       "\t1 & fake  &  60 & 0.4\\\\\n",
       "\t2 & real  &  90 & 0.6\\\\\n",
       "\t3 & Total & 150 & 1.0\\\\\n",
       "\\end{tabular}\n"
      ],
      "text/markdown": [
       "\n",
       "A tabyl: 3 × 3\n",
       "\n",
       "| <!--/--> | type &lt;chr&gt; | n &lt;int&gt; | percent &lt;dbl&gt; |\n",
       "|---|---|---|---|\n",
       "| 1 | fake  |  60 | 0.4 |\n",
       "| 2 | real  |  90 | 0.6 |\n",
       "| 3 | Total | 150 | 1.0 |\n",
       "\n"
      ],
      "text/plain": [
       "  type  n   percent\n",
       "1 fake   60 0.4    \n",
       "2 real   90 0.6    \n",
       "3 Total 150 1.0    "
      ]
     },
     "metadata": {},
     "output_type": "display_data"
    }
   ],
   "source": [
    "fake_news |> tabyl(type) |> adorn_totals('row')"
   ]
  },
  {
   "cell_type": "markdown",
   "id": "7fcbde8e",
   "metadata": {},
   "source": [
    "# \n",
    "#### 실제 뉴스 기사에서는 느낌표를 사용하는 것이 이상하다 라는 선입견 => \n",
    "- **가짜 뉴스 제목의 26.67%(16/60)가 느낌표를 사용하지만 실제 뉴스 제목의 2.22%(2/90)만이 느낌표를 사용**"
   ]
  },
  {
   "cell_type": "code",
   "execution_count": 15,
   "id": "3f377f1e",
   "metadata": {},
   "outputs": [
    {
     "data": {
      "text/html": [
       "<table class=\"dataframe\">\n",
       "<caption>A tabyl: 3 × 3</caption>\n",
       "<thead>\n",
       "\t<tr><th></th><th scope=col>title_has_excl</th><th scope=col>fake</th><th scope=col>real</th></tr>\n",
       "\t<tr><th></th><th scope=col>&lt;chr&gt;</th><th scope=col>&lt;dbl&gt;</th><th scope=col>&lt;dbl&gt;</th></tr>\n",
       "</thead>\n",
       "<tbody>\n",
       "\t<tr><th scope=row>1</th><td>FALSE</td><td>44</td><td>88</td></tr>\n",
       "\t<tr><th scope=row>2</th><td>TRUE </td><td>16</td><td> 2</td></tr>\n",
       "\t<tr><th scope=row>3</th><td>Total</td><td>60</td><td>90</td></tr>\n",
       "</tbody>\n",
       "</table>\n"
      ],
      "text/latex": [
       "A tabyl: 3 × 3\n",
       "\\begin{tabular}{r|lll}\n",
       "  & title\\_has\\_excl & fake & real\\\\\n",
       "  & <chr> & <dbl> & <dbl>\\\\\n",
       "\\hline\n",
       "\t1 & FALSE & 44 & 88\\\\\n",
       "\t2 & TRUE  & 16 &  2\\\\\n",
       "\t3 & Total & 60 & 90\\\\\n",
       "\\end{tabular}\n"
      ],
      "text/markdown": [
       "\n",
       "A tabyl: 3 × 3\n",
       "\n",
       "| <!--/--> | title_has_excl &lt;chr&gt; | fake &lt;dbl&gt; | real &lt;dbl&gt; |\n",
       "|---|---|---|---|\n",
       "| 1 | FALSE | 44 | 88 |\n",
       "| 2 | TRUE  | 16 |  2 |\n",
       "| 3 | Total | 60 | 90 |\n",
       "\n"
      ],
      "text/plain": [
       "  title_has_excl fake real\n",
       "1 FALSE          44   88  \n",
       "2 TRUE           16    2  \n",
       "3 Total          60   90  "
      ]
     },
     "metadata": {},
     "output_type": "display_data"
    }
   ],
   "source": [
    "fake_news %>% tabyl(title_has_excl, type) %>% adorn_totals('row')"
   ]
  },
  {
   "cell_type": "markdown",
   "id": "a8195cd9",
   "metadata": {},
   "source": [
    "# \n",
    "- 기사가 가짜인지 아닌지에 대한 베이지안 구축 다이어그램\n",
    "\n",
    "<img src=\"https://www.bayesrulesbook.com/chapters/figs/chapter_2/fake_news_diagram.png\" width=500>"
   ]
  },
  {
   "cell_type": "markdown",
   "id": "47a68479",
   "metadata": {},
   "source": [
    "# \n",
    "# \n",
    "### 2-1 베이지안 모델 구축\n",
    "- 가짜 뉴스 분석은 기사의 ```가짜 대 실제 상태```와, ```느낌표 사용```이라는 두 가지 변수 에 대한 연구로 귀결\n",
    "\n",
    "# \n",
    "#### 사전 확률 모델\n",
    "- 기사의 40%가 가짜이고 60%가 진짜라고 이전에 결정 => **즉, 새 기사를 읽기도 전에, 기사가 가짜일 확률이 0.4이고 그렇지 않을 확률이 0.6이라고 생각**\n",
    "\n",
    "#### $P(B) = 0.4\\;\\;\\;P(B^c) = 0.6$\n",
    "\n",
    "| $event$ | $B$ | $B^c$ | Total |\n",
    "| -- | -- | -- | -- |\n",
    "| $probability$ | $0.4$ | $0.6$ | $1$ |"
   ]
  },
  {
   "cell_type": "markdown",
   "id": "c4827d86",
   "metadata": {},
   "source": [
    "# \n",
    "#### 조건부 확률 & 우도\n",
    "- **기사가 가짜 인 경우 제목에 느낌표를 사용할 확률이 대략 26.67% & 기사가 진짜라면 느낌표 를 사용할 확률은 약 2.22%**\n",
    "- 느낌표의 발생이 기사가 가짜인지 여부에 따라 달라지거나 조건이 있다고 판단. \n",
    "\n",
    "#### $P(A|B) = 0.2667 \\;\\;\\; P(B|B^c) = 0.0222$\n",
    "#### $L(B|A) = P(A|B) \\;\\;\\; L(B^c|A) = P(A|B^c)$"
   ]
  },
  {
   "cell_type": "markdown",
   "id": "dd55ebd4",
   "metadata": {},
   "source": [
    "# \n",
    "#### 확률 vs 우도\n",
    "- **B가 알려져 있을 때, 조건부 확률 함수 $P(.|B)$를 통해, $B$가 발생할 때 알려지지 않은 사건 $A, A^c$의 확률을 비교가능**\n",
    "\n",
    "$P(A|B)\\;\\;vs\\;\\;P(A^c|B)$\n",
    "\n",
    "# \n",
    "- **A가 알려져 있을 때, 우도함수 $L(.|A) \\;=\\;P(A|.)$를 통해, $B$혹은 $B^c$와 $A$의 상대성을 평가 가능**\n",
    "\n",
    "$L(B|A)\\;\\;vs\\;\\;L(B^c|A)$"
   ]
  },
  {
   "cell_type": "markdown",
   "id": "9157bbc5",
   "metadata": {},
   "source": [
    "# \n",
    "#### 가짜 뉴스의 사전확률 및 우도\n",
    "\n",
    "| $event$ | $B$ | $B^c$ | $Total$ |\n",
    "| -- | -- | -- | -- |\n",
    "| $사전확률$ | $0.4$ | $0.6$ | $1$ |\n",
    "| $우도$ | $0.2667$ | $0.0222$ | $0.2889$ |"
   ]
  },
  {
   "cell_type": "markdown",
   "id": "4ee72d3d",
   "metadata": {},
   "source": [
    "# \n",
    "#### 정규화 상수\n",
    "- 모든 기사에서 가짜 및 느낌표 사용여부에 대한 공동 확률 모델\n",
    "\n",
    "| | $B$ | $B^c$ | $Total$ |\n",
    "| -- | -- | -- | -- | \n",
    "| $A$ | $0.1067 (=0.4 \\times 0.2667)$ | $0.0133 (=0.6 \\times 0.0222)$ | $0.12$ |\n",
    "| $A^c$ | $0.2933 (=0.4 \\times (1 - 0.2667) $ | $0.5867 (=0.6 \\times (1-0.0222)$ | $0.88$ |\n",
    "| $Total$ | $0.4$ | $0.6$ | $1$ |"
   ]
  },
  {
   "cell_type": "markdown",
   "id": "0a884ebd",
   "metadata": {},
   "source": [
    "# \n",
    "#### 베이즈 정리를 통한 사후확률 모델\n",
    "\n",
    "#### $P(B|A) = {{P(A ∩ B)}\\over {P(A)}} = {{P(B)L(B|A)}\\over{P(A)}}$ \n",
    "#### $P(A) = P(B)L(B|A) + P(B^c)L(B^c|A)$\n",
    "### $사후확률\\;=\\;{{사전확률\\;\\times\\;우도}\\over{정규화\\;상수}}$\n",
    "\n",
    "# \n",
    "\n",
    "#### 가짜뉴스에 대한 사후확률 모델\n",
    "| $event$ | $B$ | $B^c$ | Total |\n",
    "| -- | -- | -- | -- |\n",
    "| $사후확률$ | $0.4$ | $0.6$ | $1$ |\n",
    "| $사전확률$ | ${{0.4\\times0.2667}\\over{0.12}}\\;=\\;0.889$ | ${{0.6\\times0.0222}\\over{0.12}}\\;=\\;0.111$ | $1$ |"
   ]
  },
  {
   "cell_type": "markdown",
   "id": "16f0eb43",
   "metadata": {},
   "source": [
    "# \n",
    "# \n",
    "#### 사후분포 시뮬레이션"
   ]
  },
  {
   "cell_type": "code",
   "execution_count": 35,
   "id": "40af1905",
   "metadata": {},
   "outputs": [],
   "source": [
    "article = data.frame(type = c(\"real\", \"fake\"))\n",
    "prior <- c(0.6, 0.4)"
   ]
  },
  {
   "cell_type": "code",
   "execution_count": 36,
   "id": "6ed4e680",
   "metadata": {},
   "outputs": [],
   "source": [
    "set.seed(84375)\n",
    "article_sim <- sample_n(article, size = 10000, weight = prior, replace = T)"
   ]
  },
  {
   "cell_type": "code",
   "execution_count": 37,
   "id": "b3560602",
   "metadata": {},
   "outputs": [
    {
     "data": {
      "text/html": [
       "<table class=\"dataframe\">\n",
       "<caption>A tabyl: 3 × 3</caption>\n",
       "<thead>\n",
       "\t<tr><th></th><th scope=col>type</th><th scope=col>n</th><th scope=col>percent</th></tr>\n",
       "\t<tr><th></th><th scope=col>&lt;chr&gt;</th><th scope=col>&lt;int&gt;</th><th scope=col>&lt;dbl&gt;</th></tr>\n",
       "</thead>\n",
       "<tbody>\n",
       "\t<tr><th scope=row>1</th><td>fake </td><td> 3958</td><td>0.3958</td></tr>\n",
       "\t<tr><th scope=row>2</th><td>real </td><td> 6042</td><td>0.6042</td></tr>\n",
       "\t<tr><th scope=row>3</th><td>Total</td><td>10000</td><td>1.0000</td></tr>\n",
       "</tbody>\n",
       "</table>\n"
      ],
      "text/latex": [
       "A tabyl: 3 × 3\n",
       "\\begin{tabular}{r|lll}\n",
       "  & type & n & percent\\\\\n",
       "  & <chr> & <int> & <dbl>\\\\\n",
       "\\hline\n",
       "\t1 & fake  &  3958 & 0.3958\\\\\n",
       "\t2 & real  &  6042 & 0.6042\\\\\n",
       "\t3 & Total & 10000 & 1.0000\\\\\n",
       "\\end{tabular}\n"
      ],
      "text/markdown": [
       "\n",
       "A tabyl: 3 × 3\n",
       "\n",
       "| <!--/--> | type &lt;chr&gt; | n &lt;int&gt; | percent &lt;dbl&gt; |\n",
       "|---|---|---|---|\n",
       "| 1 | fake  |  3958 | 0.3958 |\n",
       "| 2 | real  |  6042 | 0.6042 |\n",
       "| 3 | Total | 10000 | 1.0000 |\n",
       "\n"
      ],
      "text/plain": [
       "  type  n     percent\n",
       "1 fake   3958 0.3958 \n",
       "2 real   6042 0.6042 \n",
       "3 Total 10000 1.0000 "
      ]
     },
     "metadata": {},
     "output_type": "display_data"
    },
    {
     "data": {
      "image/png": "[encoded data removed]",
      "text/plain": [
       "plot without title"
      ]
     },
     "metadata": {
      "image/png": {
       "height": 420,
       "width": 420
      }
     },
     "output_type": "display_data"
    }
   ],
   "source": [
    "article_sim %>% tabyl(type) %>% adorn_totals('row')\n",
    "article_sim %>% ggplot(aes(type)) + geom_bar()"
   ]
  },
  {
   "cell_type": "markdown",
   "id": "9eb00c43",
   "metadata": {},
   "source": [
    "- 우도 = ```data_model```"
   ]
  },
  {
   "cell_type": "code",
   "execution_count": 38,
   "id": "1d880d71",
   "metadata": {},
   "outputs": [
    {
     "name": "stdout",
     "output_type": "stream",
     "text": [
      "Rows: 10,000\n",
      "Columns: 2\n",
      "$ type       \u001b[3m\u001b[90m<chr>\u001b[39m\u001b[23m \"real\", \"fake\", \"fake\", \"real\", \"real\", \"real\", \"real\", \"re…\n",
      "$ data_model \u001b[3m\u001b[90m<dbl>\u001b[39m\u001b[23m 0.0222, 0.2667, 0.2667, 0.0222, 0.0222, 0.0222, 0.0222, 0.0…\n"
     ]
    }
   ],
   "source": [
    "article_sim %>% mutate(data_model = case_when(type == \"fake\" ~ 0.2667,\n",
    "                                               type == \"real\" ~ 0.0222)) -> article_sim\n",
    "\n",
    "glimpse(article_sim)"
   ]
  },
  {
   "cell_type": "markdown",
   "id": "92b024e6",
   "metadata": {},
   "source": [
    "# \n",
    "- ```usage``` : 느낌표 사용 여부"
   ]
  },
  {
   "cell_type": "code",
   "execution_count": 39,
   "id": "b070b4a7",
   "metadata": {
    "scrolled": true
   },
   "outputs": [],
   "source": [
    "data <- c(\"no\", \"yes\")\n",
    "\n",
    "set.seed(3)\n",
    "article_sim %>% group_by(1:n()) %>% \n",
    "    mutate(usage = sample(data, size = 1, prob = c(1 - data_model, data_model))) %>% ungroup -> article_sim"
   ]
  },
  {
   "cell_type": "code",
   "execution_count": 41,
   "id": "1506e2fa",
   "metadata": {},
   "outputs": [
    {
     "data": {
      "text/html": [
       "<table class=\"dataframe\">\n",
       "<caption>A tabyl: 3 × 4</caption>\n",
       "<thead>\n",
       "\t<tr><th></th><th scope=col>usage</th><th scope=col>fake</th><th scope=col>real</th><th scope=col>Total</th></tr>\n",
       "\t<tr><th></th><th scope=col>&lt;chr&gt;</th><th scope=col>&lt;dbl&gt;</th><th scope=col>&lt;dbl&gt;</th><th scope=col>&lt;dbl&gt;</th></tr>\n",
       "</thead>\n",
       "<tbody>\n",
       "\t<tr><th scope=row>1</th><td>no   </td><td>2924</td><td>5904</td><td> 8828</td></tr>\n",
       "\t<tr><th scope=row>2</th><td>yes  </td><td>1034</td><td> 138</td><td> 1172</td></tr>\n",
       "\t<tr><th scope=row>3</th><td>Total</td><td>3958</td><td>6042</td><td>10000</td></tr>\n",
       "</tbody>\n",
       "</table>\n"
      ],
      "text/latex": [
       "A tabyl: 3 × 4\n",
       "\\begin{tabular}{r|llll}\n",
       "  & usage & fake & real & Total\\\\\n",
       "  & <chr> & <dbl> & <dbl> & <dbl>\\\\\n",
       "\\hline\n",
       "\t1 & no    & 2924 & 5904 &  8828\\\\\n",
       "\t2 & yes   & 1034 &  138 &  1172\\\\\n",
       "\t3 & Total & 3958 & 6042 & 10000\\\\\n",
       "\\end{tabular}\n"
      ],
      "text/markdown": [
       "\n",
       "A tabyl: 3 × 4\n",
       "\n",
       "| <!--/--> | usage &lt;chr&gt; | fake &lt;dbl&gt; | real &lt;dbl&gt; | Total &lt;dbl&gt; |\n",
       "|---|---|---|---|---|\n",
       "| 1 | no    | 2924 | 5904 |  8828 |\n",
       "| 2 | yes   | 1034 |  138 |  1172 |\n",
       "| 3 | Total | 3958 | 6042 | 10000 |\n",
       "\n"
      ],
      "text/plain": [
       "  usage fake real Total\n",
       "1 no    2924 5904  8828\n",
       "2 yes   1034  138  1172\n",
       "3 Total 3958 6042 10000"
      ]
     },
     "metadata": {},
     "output_type": "display_data"
    }
   ],
   "source": [
    "article_sim %>% tabyl(usage, type) %>%\n",
    "    adorn_totals(c('col', 'row')) "
   ]
  },
  {
   "cell_type": "code",
   "execution_count": 50,
   "id": "c5bfa02b",
   "metadata": {},
   "outputs": [
    {
     "data": {
      "image/png": "[encoded data removed]",
      "text/plain": [
       "plot without title"
      ]
     },
     "metadata": {
      "image/png": {
       "height": 420,
       "width": 420
      }
     },
     "output_type": "display_data"
    }
   ],
   "source": [
    "article_sim %>% ggplot(aes(type, fill = usage)) +\n",
    "    geom_bar(position = \"fill\") -> p1\n",
    "\n",
    "article_sim %>% ggplot(aes(usage)) + geom_bar() -> p2\n",
    "\n",
    "gridExtra::grid.arrange(p1, p2, nrow = 1)"
   ]
  },
  {
   "cell_type": "markdown",
   "id": "b41b250f",
   "metadata": {},
   "source": [
    "# \n",
    "- **느낌표를 사용하는 기사에서, 가짜 기사의 비율**\n",
    "    - 느낌표를 사용한 기사 1034중 88.2%는 가짜 => **실제 사후 확률 88.9%와 유사**"
   ]
  },
  {
   "cell_type": "code",
   "execution_count": 51,
   "id": "6f9c7d2b",
   "metadata": {},
   "outputs": [
    {
     "data": {
      "text/html": [
       "<table class=\"dataframe\">\n",
       "<caption>A tabyl: 3 × 3</caption>\n",
       "<thead>\n",
       "\t<tr><th></th><th scope=col>type</th><th scope=col>n</th><th scope=col>percent</th></tr>\n",
       "\t<tr><th></th><th scope=col>&lt;chr&gt;</th><th scope=col>&lt;int&gt;</th><th scope=col>&lt;dbl&gt;</th></tr>\n",
       "</thead>\n",
       "<tbody>\n",
       "\t<tr><th scope=row>1</th><td>fake </td><td>1034</td><td>0.8822526</td></tr>\n",
       "\t<tr><th scope=row>2</th><td>real </td><td> 138</td><td>0.1177474</td></tr>\n",
       "\t<tr><th scope=row>3</th><td>Total</td><td>1172</td><td>1.0000000</td></tr>\n",
       "</tbody>\n",
       "</table>\n"
      ],
      "text/latex": [
       "A tabyl: 3 × 3\n",
       "\\begin{tabular}{r|lll}\n",
       "  & type & n & percent\\\\\n",
       "  & <chr> & <int> & <dbl>\\\\\n",
       "\\hline\n",
       "\t1 & fake  & 1034 & 0.8822526\\\\\n",
       "\t2 & real  &  138 & 0.1177474\\\\\n",
       "\t3 & Total & 1172 & 1.0000000\\\\\n",
       "\\end{tabular}\n"
      ],
      "text/markdown": [
       "\n",
       "A tabyl: 3 × 3\n",
       "\n",
       "| <!--/--> | type &lt;chr&gt; | n &lt;int&gt; | percent &lt;dbl&gt; |\n",
       "|---|---|---|---|\n",
       "| 1 | fake  | 1034 | 0.8822526 |\n",
       "| 2 | real  |  138 | 0.1177474 |\n",
       "| 3 | Total | 1172 | 1.0000000 |\n",
       "\n"
      ],
      "text/plain": [
       "  type  n    percent  \n",
       "1 fake  1034 0.8822526\n",
       "2 real   138 0.1177474\n",
       "3 Total 1172 1.0000000"
      ]
     },
     "metadata": {},
     "output_type": "display_data"
    }
   ],
   "source": [
    "article_sim %>% filter(usage == \"yes\") %>%\n",
    "    tabyl(type) %>% adorn_totals('row')"
   ]
  },
  {
   "cell_type": "code",
   "execution_count": 53,
   "id": "14b4f937",
   "metadata": {},
   "outputs": [
    {
     "data": {
      "image/png": "[encoded data removed]",
      "text/plain": [
       "plot without title"
      ]
     },
     "metadata": {
      "image/png": {
       "height": 420,
       "width": 420
      }
     },
     "output_type": "display_data"
    }
   ],
   "source": [
    "article_sim %>% ggplot(aes(type)) + geom_bar() + facet_wrap(~ usage)"
   ]
  },
  {
   "cell_type": "markdown",
   "id": "88d1b2bc",
   "metadata": {},
   "source": [
    "# \n",
    "# \n",
    "### 2-2 "
   ]
  },
  {
   "cell_type": "markdown",
   "id": "8f95b8bc",
   "metadata": {},
   "source": [
    "#### 설문에 응한 사람이 남부에 거주할 확률 :\n",
    "- $P(남부) = 0.38$\n",
    "\n",
    "# \n",
    "- 사전 모델\n",
    "\n",
    "| 지역 | 중부 | 북부 | 남부 | 서부 | 총계 |\n",
    "| -- | -- | -- | -- | -- | -- |\n",
    "| 확률 | 0.21 | 0.17 | 0.38 | 0.24 | 1 |"
   ]
  },
  {
   "cell_type": "markdown",
   "id": "5ab7c5f7",
   "metadata": {},
   "source": [
    "- 우도\n",
    "#### $L(중부|A) = 0.5447, \\;\\;\\; L(북부|A) = 0.2734, \\;\\;\\; L(남부|A) = 0.0792, \\;\\;\\; L(서부|A) = 0.2934$"
   ]
  },
  {
   "cell_type": "code",
   "execution_count": 57,
   "id": "7f73f217",
   "metadata": {},
   "outputs": [
    {
     "data": {
      "text/html": [
       "<table class=\"dataframe\">\n",
       "<caption>A tabyl: 2 × 5</caption>\n",
       "<thead>\n",
       "\t<tr><th scope=col>pop</th><th scope=col>midwest</th><th scope=col>northeast</th><th scope=col>south</th><th scope=col>west</th></tr>\n",
       "\t<tr><th scope=col>&lt;lgl&gt;</th><th scope=col>&lt;dbl&gt;</th><th scope=col>&lt;dbl&gt;</th><th scope=col>&lt;dbl&gt;</th><th scope=col>&lt;dbl&gt;</th></tr>\n",
       "</thead>\n",
       "<tbody>\n",
       "\t<tr><td>FALSE</td><td>0.3552958</td><td>0.7266026</td><td>0.92077769</td><td>0.7057215</td></tr>\n",
       "\t<tr><td> TRUE</td><td>0.6447042</td><td>0.2733974</td><td>0.07922231</td><td>0.2942785</td></tr>\n",
       "</tbody>\n",
       "</table>\n"
      ],
      "text/latex": [
       "A tabyl: 2 × 5\n",
       "\\begin{tabular}{lllll}\n",
       " pop & midwest & northeast & south & west\\\\\n",
       " <lgl> & <dbl> & <dbl> & <dbl> & <dbl>\\\\\n",
       "\\hline\n",
       "\t FALSE & 0.3552958 & 0.7266026 & 0.92077769 & 0.7057215\\\\\n",
       "\t  TRUE & 0.6447042 & 0.2733974 & 0.07922231 & 0.2942785\\\\\n",
       "\\end{tabular}\n"
      ],
      "text/markdown": [
       "\n",
       "A tabyl: 2 × 5\n",
       "\n",
       "| pop &lt;lgl&gt; | midwest &lt;dbl&gt; | northeast &lt;dbl&gt; | south &lt;dbl&gt; | west &lt;dbl&gt; |\n",
       "|---|---|---|---|---|\n",
       "| FALSE | 0.3552958 | 0.7266026 | 0.92077769 | 0.7057215 |\n",
       "|  TRUE | 0.6447042 | 0.2733974 | 0.07922231 | 0.2942785 |\n",
       "\n"
      ],
      "text/plain": [
       "  pop   midwest   northeast south      west     \n",
       "1 FALSE 0.3552958 0.7266026 0.92077769 0.7057215\n",
       "2  TRUE 0.6447042 0.2733974 0.07922231 0.2942785"
      ]
     },
     "metadata": {},
     "output_type": "display_data"
    }
   ],
   "source": [
    "data(pop_vs_soda)\n",
    "pop_vs_soda %>% tabyl(pop, region) %>%\n",
    "    adorn_percentages('col')"
   ]
  },
  {
   "cell_type": "markdown",
   "id": "c5827424",
   "metadata": {},
   "source": [
    "# \n",
    "- 사후확률\n",
    "\n",
    "#### $P(A) = L(중부|A)P(중부) + L(북부|A)P(북부) + L(남부|A)P(남부) + L(서부|A)P(서부)$\n",
    "#### = $0.6447 \\times 0.21$  + $0.2734 \\times 0.17$ + $0.0792 \\times 0.38$  + $0.2934 \\times 0.24\\;\\;\\approx0.2826$ "
   ]
  },
  {
   "cell_type": "markdown",
   "id": "eb7666a9",
   "metadata": {},
   "source": [
    "# \n",
    "#### $P(남부|A) = {{P(남부)L(남부|A)}\\over{P(A)}}\\;\\;\\;\\;={0.38\\times0.0792 \\over {0.2826}} \\approx 0.1065$ "
   ]
  },
  {
   "cell_type": "markdown",
   "id": "f319f365",
   "metadata": {},
   "source": [
    "# \n",
    "#### 사전 & 사후 모델\n",
    "| region | 중부 | 북부 | 남부 | 서부 | 총계 |\n",
    "| -- | -- | -- | -- | -- | -- |\n",
    "| 사전확률 | 0.21 | 0.17 | 0.38 | 0.24 | 1 |\n",
    "| 사후확률 | 0.4791 | 0.1645 | 0.1065 | 0.2499 | 1 |"
   ]
  },
  {
   "cell_type": "markdown",
   "id": "2a892d75",
   "metadata": {},
   "source": [
    "# \n",
    "# \n",
    "# \n",
    "### 2-3 랜덤변수에 대한 베이지안 모델 구축\n",
    "#### 사전확률 모델 \n",
    "- 승률 ($\\pi$) : 0과 1 사이의 값을 가짐\n",
    "\n",
    "| $\\pi$ | $0.2$ | $0.5$ | $0.8$ | $Total$ |\n",
    "| -- | -- | -- | -- | -- |\n",
    "| $f(\\pi)$ | $0.1$ | $0.25$ | $0.65$ | $1$ |\n",
    "\n",
    "# \n",
    "- 확률질량함수(pmf)검토\n",
    "- $f(0.2) = 0.1,\\;\\;\\; f(0.5)=0.25,\\;\\;\\; f(0.8) = 0.65$\n",
    "\n",
    "# \n",
    "#### 이산형 확률 모델 \n",
    "#### $f(y) = P(Y = y)$\n",
    "- $0\\leq f(y)\\leq1$\n",
    "- $\\sum_{all\\;y_i} f(y_i) = 1$"
   ]
  },
  {
   "cell_type": "markdown",
   "id": "9663da52",
   "metadata": {},
   "source": [
    "# \n",
    "#### 이항 데이터 모델\n",
    "\n",
    "$f(y|\\pi) = P(Y = y|\\pi)$\n",
    "- $0 \\leq f(y|\\pi) \\leq 1\\;\\;(for\\;all\\;y_i)$\n",
    "- $\\sum_{all\\;y_i} f(y|\\pi) = 1$"
   ]
  },
  {
   "cell_type": "markdown",
   "id": "4aaf7d7d",
   "metadata": {},
   "source": [
    "# \n",
    "#### 이항모델 (이항분포)\n",
    "- $Y$가 시도횟수 n에서의 성공횟수 일 때, **모든 시행이 독립이고, 성공확률이 $\\pi$일 때,** $Y$는 $\\pi$에 대하여, 조건부 의존하며 이항분포를 따른다\n",
    "\n",
    "#### $Y|\\pi \\sim Bin(n, \\pi)$\n",
    "#### 이항분포의 조건부 확률질량함수 (pmf) : $f(y|\\pi) = _n C_y \\pi^y (1- \\pi)^{n-y}\\;\\;\\; for\\;y ∈\\{0, 1, 2, ..., n\\}$\n",
    "\n",
    "$( _n C_y = {{n!}\\over{y! (n-y)!}})$"
   ]
  },
  {
   "cell_type": "markdown",
   "id": "df8d5c61",
   "metadata": {},
   "source": [
    "#### 이항우도함수\n",
    "- n = 6 일 때\n",
    "#### $L(\\pi|y = 1) = f(y=1|\\pi) = _6C_1 \\pi^1 (1-\\pi)^{6-1} = 6\\pi(1-\\pi)^5$\n",
    "\n",
    "| $\\pi$ | $0.2$ | $0.5$ | $0.8$ |\n",
    "| -- | -- | -- | -- |\n",
    "| $L(\\pi|y=1)$ | 0.3932 | 0.0938 | 0.0015 |"
   ]
  },
  {
   "cell_type": "markdown",
   "id": "9129544c",
   "metadata": {},
   "source": [
    "# \n",
    "# \n",
    "#### 확률질량함수 vs 우도함수\n",
    "- **$\\pi$가 알려져있을때, 조건부 질량함수 $f(.|\\pi)$를 통해, $\\pi$에서의 각각의 사건 발생확률을 비교할 수 있음**\n",
    "\n",
    "    $f(y_1 |\\pi) \\;vs\\;f(y_2|\\pi)$\n",
    "\n",
    "# \n",
    "- **$Y = y$인 것이 알려져 있을때, 우도함수 $L(.|y) = f(y|,)$를 통하여, $\\pi$에서의 상대적 우도를 비교할 수 있음**\n",
    "\n",
    "    $L(\\pi_1|y) \\;vs\\;L(\\pi_2|y)$"
   ]
  },
  {
   "cell_type": "markdown",
   "id": "1326ac56",
   "metadata": {},
   "source": [
    "# \n",
    "# \n",
    "#### 정규화 상수\n",
    "\n",
    "$f(y = 1) = \\sum_{\\pi ∈ \\{0.2, 0.5, 0.8\\}} L(\\pi|y=1) f(\\pi)$"
   ]
  },
  {
   "cell_type": "markdown",
   "id": "2dfd9ea4",
   "metadata": {},
   "source": [
    "# \n",
    "#### 사후확률모델\n",
    "$f(\\pi|y) = {{사전확률 \\;\\times\\; 우도}\\over{정규화상수}}\\;=\\;{{f(\\pi) L(\\pi|y)}\\over{f(y)}}$\n",
    "\n",
    "# \n",
    "\n",
    "- **베이즈 정리 (Law of Total Probability, LTP)**\n",
    "#### $f(y) = \\sum_{all\\;\\pi} f(\\pi)L(\\pi|y)$\n",
    "\n",
    "# \n",
    "\n",
    "$f(\\pi|y=1) \\;=\\; {{f(\\pi)L(\\pi|y=1)}\\over{f(y=1)}}$ ($for\\;\\;all\\;\\;\\pi$)\n",
    "\n",
    "# \n",
    "\n",
    "| $\\pi$ | $0.2$ | $0.5$ | $0.8$ | Total |\n",
    "| -- | -- | -- | -- | -- |\n",
    "| $f(\\pi)$ | $0.1$ | $0.25$ | $0.65$ | $1$ |\n",
    "| $f(\\pi|y=1)$ | 0.617 | 0.368 | 0.015 | $1$|"
   ]
  },
  {
   "cell_type": "markdown",
   "id": "328a4fdb",
   "metadata": {},
   "source": [
    "# \n",
    "# \n",
    "#### 비례성\n",
    "- **베이즈 정리에 의하여**\n",
    "### $f(\\pi|y) = {{f(\\pi) L(\\pi|y)}\\over{f(y)}}$\n",
    "- **즉, $f(\\pi|y)$의 크기는 분자 $f(\\pi)L(\\pi\\y)$에 의해 결정 (비례한다)된다.**\n",
    "\n",
    "# \n",
    "#### 따라서\n",
    "### $f(\\pi|y) = {{f(\\pi) L(\\pi|y)}\\over{f(y)}}∝f(\\pi)L(\\pi|y)$\n",
    "### $posterior\\;∝\\;prior\\;\\times\\;likelihood $"
   ]
  },
  {
   "cell_type": "markdown",
   "id": "34e6e2b6",
   "metadata": {},
   "source": [
    "# \n",
    "#### 사후 시뮬레이션"
   ]
  },
  {
   "cell_type": "code",
   "execution_count": 58,
   "id": "0276e77a",
   "metadata": {},
   "outputs": [],
   "source": [
    "chess <- data.frame(pi = c(0.2, 0.5, 0.8))\n",
    "prior = c(0.1, 0.25, 0.65)"
   ]
  },
  {
   "cell_type": "code",
   "execution_count": 59,
   "id": "592bb012",
   "metadata": {},
   "outputs": [],
   "source": [
    "set.seed(84735)\n",
    "chess_sim = sample_n(chess, size = 10000, weight = prior, replace = T)"
   ]
  },
  {
   "cell_type": "code",
   "execution_count": 62,
   "id": "58fb71cb",
   "metadata": {},
   "outputs": [],
   "source": [
    "chess_sim <- chess_sim %>% mutate(y = rbinom(10000, size = 6, prob = pi))"
   ]
  },
  {
   "cell_type": "code",
   "execution_count": 63,
   "id": "823d3ecd",
   "metadata": {},
   "outputs": [
    {
     "data": {
      "text/html": [
       "<table class=\"dataframe\">\n",
       "<caption>A tabyl: 4 × 3</caption>\n",
       "<thead>\n",
       "\t<tr><th></th><th scope=col>pi</th><th scope=col>n</th><th scope=col>percent</th></tr>\n",
       "\t<tr><th></th><th scope=col>&lt;chr&gt;</th><th scope=col>&lt;int&gt;</th><th scope=col>&lt;dbl&gt;</th></tr>\n",
       "</thead>\n",
       "<tbody>\n",
       "\t<tr><th scope=row>1</th><td>0.2  </td><td> 1017</td><td>0.1017</td></tr>\n",
       "\t<tr><th scope=row>2</th><td>0.5  </td><td> 2521</td><td>0.2521</td></tr>\n",
       "\t<tr><th scope=row>3</th><td>0.8  </td><td> 6462</td><td>0.6462</td></tr>\n",
       "\t<tr><th scope=row>4</th><td>Total</td><td>10000</td><td>1.0000</td></tr>\n",
       "</tbody>\n",
       "</table>\n"
      ],
      "text/latex": [
       "A tabyl: 4 × 3\n",
       "\\begin{tabular}{r|lll}\n",
       "  & pi & n & percent\\\\\n",
       "  & <chr> & <int> & <dbl>\\\\\n",
       "\\hline\n",
       "\t1 & 0.2   &  1017 & 0.1017\\\\\n",
       "\t2 & 0.5   &  2521 & 0.2521\\\\\n",
       "\t3 & 0.8   &  6462 & 0.6462\\\\\n",
       "\t4 & Total & 10000 & 1.0000\\\\\n",
       "\\end{tabular}\n"
      ],
      "text/markdown": [
       "\n",
       "A tabyl: 4 × 3\n",
       "\n",
       "| <!--/--> | pi &lt;chr&gt; | n &lt;int&gt; | percent &lt;dbl&gt; |\n",
       "|---|---|---|---|\n",
       "| 1 | 0.2   |  1017 | 0.1017 |\n",
       "| 2 | 0.5   |  2521 | 0.2521 |\n",
       "| 3 | 0.8   |  6462 | 0.6462 |\n",
       "| 4 | Total | 10000 | 1.0000 |\n",
       "\n"
      ],
      "text/plain": [
       "  pi    n     percent\n",
       "1 0.2    1017 0.1017 \n",
       "2 0.5    2521 0.2521 \n",
       "3 0.8    6462 0.6462 \n",
       "4 Total 10000 1.0000 "
      ]
     },
     "metadata": {},
     "output_type": "display_data"
    }
   ],
   "source": [
    "chess_sim %>% tabyl(pi) %>% adorn_totals('row')"
   ]
  },
  {
   "cell_type": "code",
   "execution_count": 65,
   "id": "1a8eca37",
   "metadata": {},
   "outputs": [
    {
     "data": {
      "image/png": "[encoded data removed]",
      "text/plain": [
       "plot without title"
      ]
     },
     "metadata": {
      "image/png": {
       "height": 420,
       "width": 420
      }
     },
     "output_type": "display_data"
    }
   ],
   "source": [
    "chess_sim %>% ggplot(aes(y)) + stat_count(aes(y = ..prop..)) + facet_wrap(~ pi)"
   ]
  },
  {
   "cell_type": "code",
   "execution_count": 67,
   "id": "5a59771e",
   "metadata": {},
   "outputs": [
    {
     "data": {
      "text/html": [
       "<table class=\"dataframe\">\n",
       "<caption>A tabyl: 4 × 3</caption>\n",
       "<thead>\n",
       "\t<tr><th></th><th scope=col>pi</th><th scope=col>n</th><th scope=col>percent</th></tr>\n",
       "\t<tr><th></th><th scope=col>&lt;chr&gt;</th><th scope=col>&lt;int&gt;</th><th scope=col>&lt;dbl&gt;</th></tr>\n",
       "</thead>\n",
       "<tbody>\n",
       "\t<tr><th scope=row>1</th><td>0.2  </td><td>386</td><td>0.60883281</td></tr>\n",
       "\t<tr><th scope=row>2</th><td>0.5  </td><td>235</td><td>0.37066246</td></tr>\n",
       "\t<tr><th scope=row>3</th><td>0.8  </td><td> 13</td><td>0.02050473</td></tr>\n",
       "\t<tr><th scope=row>4</th><td>Total</td><td>634</td><td>1.00000000</td></tr>\n",
       "</tbody>\n",
       "</table>\n"
      ],
      "text/latex": [
       "A tabyl: 4 × 3\n",
       "\\begin{tabular}{r|lll}\n",
       "  & pi & n & percent\\\\\n",
       "  & <chr> & <int> & <dbl>\\\\\n",
       "\\hline\n",
       "\t1 & 0.2   & 386 & 0.60883281\\\\\n",
       "\t2 & 0.5   & 235 & 0.37066246\\\\\n",
       "\t3 & 0.8   &  13 & 0.02050473\\\\\n",
       "\t4 & Total & 634 & 1.00000000\\\\\n",
       "\\end{tabular}\n"
      ],
      "text/markdown": [
       "\n",
       "A tabyl: 4 × 3\n",
       "\n",
       "| <!--/--> | pi &lt;chr&gt; | n &lt;int&gt; | percent &lt;dbl&gt; |\n",
       "|---|---|---|---|\n",
       "| 1 | 0.2   | 386 | 0.60883281 |\n",
       "| 2 | 0.5   | 235 | 0.37066246 |\n",
       "| 3 | 0.8   |  13 | 0.02050473 |\n",
       "| 4 | Total | 634 | 1.00000000 |\n",
       "\n"
      ],
      "text/plain": [
       "  pi    n   percent   \n",
       "1 0.2   386 0.60883281\n",
       "2 0.5   235 0.37066246\n",
       "3 0.8    13 0.02050473\n",
       "4 Total 634 1.00000000"
      ]
     },
     "metadata": {},
     "output_type": "display_data"
    }
   ],
   "source": [
    "win_one <- chess_sim %>% filter(y == 1)\n",
    "\n",
    "win_one %>% tabyl(pi) %>% adorn_totals('row')"
   ]
  },
  {
   "cell_type": "code",
   "execution_count": 68,
   "id": "13a1ba62",
   "metadata": {},
   "outputs": [
    {
     "data": {
      "image/png": "[encoded data removed]",
      "text/plain": [
       "plot without title"
      ]
     },
     "metadata": {
      "image/png": {
       "height": 420,
       "width": 420
      }
     },
     "output_type": "display_data"
    }
   ],
   "source": [
    "win_one %>% ggplot(aes(x = pi)) + geom_bar()"
   ]
  }
 ],
 "metadata": {
  "kernelspec": {
   "display_name": "R",
   "language": "R",
   "name": "ir"
  },
  "language_info": {
   "codemirror_mode": "r",
   "file_extension": ".r",
   "mimetype": "text/x-r-source",
   "name": "R",
   "pygments_lexer": "r",
   "version": "4.2.2"
  }
 },
 "nbformat": 4,
 "nbformat_minor": 5
}
