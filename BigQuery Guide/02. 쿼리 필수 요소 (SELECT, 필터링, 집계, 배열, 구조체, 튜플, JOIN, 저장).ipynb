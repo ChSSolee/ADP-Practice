{
 "cells": [
  {
   "cell_type": "markdown",
   "id": "c6219f87",
   "metadata": {},
   "source": [
    "# 02. 쿼리 피수 요소\n",
    "- 빅쿼리는 구조화된 데이터와 준구조화(semi-structured)된 데이터 (JSON 객체 등)를 위한 영구 스토리지를 제공하는 데이터 웨어하우스\n",
    "\n",
    "<br>\n",
    "\n",
    "#### 영구 스토리지가 지언하는 기본적인 4가지 CRUD 작업\n",
    "\n",
    "- **`Create`**\n",
    "    - 새 레코드를 추가\n",
    "    - SQL, `INSERT`문을 통한 로드 작업 또는 스트리밍 삽입 API를 통해 구현\n",
    "    - SQL로 데이터 정의 언어 DDL을 지원하는 테이블, 뷰, 머신러닝 모델 같은 DB객체를 생성\n",
    "\n",
    "<br>\n",
    "\n",
    "- **`Read`**\n",
    "    - 레코드를 검색\n",
    "    - SQL, `SELECT`문과 벌크 read API로 구현\n",
    "\n",
    "<br>\n",
    "\n",
    "- **`Update`**\n",
    "    - 기존 레코드를 수정\n",
    "    - 빅쿼리의 데이터 조작 언어 DML의 일부인 SQL `UPDATE` 및 `MERGE`문으로 구현\n",
    "    - 업데이트가 잦은 경우에는 사용되지 않음\n",
    "\n",
    "<br>\n",
    "\n",
    "- **`Delete`**\n",
    "    - 기존 레코드를 제거\n",
    "    - DML 작업 중 하나인 SQL `DELETE`로 구현\n",
    "\n",
    "<br>\n",
    "\n",
    "- 빅쿼리는 데이터 분석을 위한 도구이며, 쿼리 대부분은 `Read`작업을 수행하는 쿼리\n",
    "- 데이터 읽기 및 분석은 `SELECT`문으로 수행\n",
    "\n",
    "<br>\n",
    "\n",
    "### 기초 쿼리\n",
    "- 빅쿼리는 SQL:2011과 호환되는 SQL 언어를 지원\n",
    "    - 머신러닝같이 명세가 전혀 없는 영역에서는 빅쿼리가 자체 구문과 의미를 정의\n",
    "\n",
    "<br>\n",
    "\n",
    "#### Legacy SQL\n",
    "- 빅쿼리는 SQL 문법 일부만 차용해 구글이 개선한 문법을 사용\n",
    "    - 빅쿼리는 원래 프로토콜 버퍼(Protobufs)에 보관한 로그 데이터를 처리하기 위해 만들어진 구글의 내부 QL 조회 엔진인 드레멜을 기반으로 했기 때문\n",
    "    \n",
    "- 드레멜은 범용 SQL 엔진으로 구축되지 않았기에, 계층 구조를 유지하는데 사용되는 프로토콜 버퍼에 적합하도록 만든 SQL (레거시 SQL)을 사용할 수 있었음\n",
    "    - 레거시 SQL은 레코드 (로그 메시지와 관련된 전체 계층 구조)와 행(구조의 조각)을 구분\n",
    "    - 드레멜에서 `COUNT(*)`는 반복되는 필드에서 `NULL`이 아닌 값의 수를 계산\n",
    "\n",
    "<br>\n",
    "\n",
    "- GCP에서 빅쿼리 인터페이스는 기본적으로 표준 SQL로 설정되며, 빅쿼리의 새로운 기능들은 레거시 SQL을 지원하지 않음\n",
    "- 그러나 일부 도구 및 사용자 인터페이스는 여전히 레거시 SQL이 기본값"
   ]
  },
  {
   "cell_type": "code",
   "execution_count": 2,
   "id": "6b2d6031",
   "metadata": {},
   "outputs": [],
   "source": [
    "import glob\n",
    "from google.cloud import bigquery\n",
    "from google.oauth2 import service_account\n",
    "import warnings\n",
    "warnings.filterwarnings('ignore')"
   ]
  },
  {
   "cell_type": "code",
   "execution_count": 4,
   "id": "53e05144",
   "metadata": {},
   "outputs": [],
   "source": [
    "key_path = glob.glob(\"./*.json\")[0]\n",
    "credentials = service_account.Credentials.from_service_account_file(key_path)\n",
    "client = bigquery.Client(credentials = credentials, project = credentials.project_id)"
   ]
  },
  {
   "cell_type": "code",
   "execution_count": 9,
   "id": "0bcd1cdb",
   "metadata": {},
   "outputs": [
    {
     "data": {
      "text/plain": [
       "'avian-silicon-425608-m0'"
      ]
     },
     "execution_count": 9,
     "metadata": {},
     "output_type": "execute_result"
    }
   ],
   "source": [
    "credentials.project_id"
   ]
  },
  {
   "cell_type": "markdown",
   "id": "5133c1ad",
   "metadata": {},
   "source": [
    "<br>\n",
    "\n",
    "#### `SELECT`\n",
    "- **`LIMIT` 제약 조건은, 쿼리 엔진이 처리할 데이터 양이 아닌, 표시되는 데이터의 양만 제한됨**\n",
    "\n",
    "<br>\n",
    "\n",
    "- `bigquery-puplic-data` 프로젝트의, `new_york` 데이터셋에서, `citibike_trips` 테이블을 조회\n",
    "    \n",
    "    $\\rightarrow$ `bigquery-puplic-data.new_york.citibike_trips`\n",
    "\n",
    "| 빅쿼리 객체 | 이름 | 설명 |\n",
    "| :- | :- | :- |\n",
    "| 프로젝트 | `bigquery-public-data` | 데이터셋 및 해당 테이블과 연결된 영구 스토리지의 소유자 <br> 이 프로젝트는 다른 모든 GCP 제품 사용에도 적용 | \n",
    "| 데이터셋 |`new_york` | 데이터셋은 테이블 및 뷰에 대한 액세스를 구성하고 제어하는데 사용되는 최상위 컨테이너 <br> 사용자는 여러 데이터셋을 소유할 수 있음 | \n",
    "| 테이블/뷰 | `citibike_trips` | 테이블 또는 뷰는 데이터셋에 속해야 하므로, 빅쿼리에 데이터를 로드하기 전에 하나 이상의 데이터셋을 생성해야 함|\n",
    "\n",
    "\n",
    "<br>\n",
    "\n",
    "- 프로젝트 ID는 데이터셋  및 해당 테이블과 관련된 영구 저장소의 소유권을 나타냄\n",
    "    \n",
    "    $\\rightarrow$ `bigquery-public-data`프로젝트의 소유자가 `new_york`데이터셋과 관련된 스토리지 비용을 부담"
   ]
  },
  {
   "cell_type": "code",
   "execution_count": 13,
   "id": "07555a48",
   "metadata": {},
   "outputs": [],
   "source": [
    "sql = f\"\"\"\n",
    "SELECT\n",
    "  gender, tripduration\n",
    "FROM\n",
    "  `bigquery-public-data.new_york.citibike_trips`\n",
    "LIMIT 5\n",
    "\"\"\""
   ]
  },
  {
   "cell_type": "code",
   "execution_count": 14,
   "id": "b8e2e25e",
   "metadata": {},
   "outputs": [],
   "source": [
    "query_job = client.query(sql)\n",
    "df = query_job.to_dataframe()"
   ]
  },
  {
   "cell_type": "code",
   "execution_count": 15,
   "id": "cd5016f1",
   "metadata": {},
   "outputs": [
    {
     "data": {
      "text/html": [
       "<div>\n",
       "<style scoped>\n",
       "    .dataframe tbody tr th:only-of-type {\n",
       "        vertical-align: middle;\n",
       "    }\n",
       "\n",
       "    .dataframe tbody tr th {\n",
       "        vertical-align: top;\n",
       "    }\n",
       "\n",
       "    .dataframe thead th {\n",
       "        text-align: right;\n",
       "    }\n",
       "</style>\n",
       "<table border=\"1\" class=\"dataframe\">\n",
       "  <thead>\n",
       "    <tr style=\"text-align: right;\">\n",
       "      <th></th>\n",
       "      <th>gender</th>\n",
       "      <th>tripduration</th>\n",
       "    </tr>\n",
       "  </thead>\n",
       "  <tbody>\n",
       "    <tr>\n",
       "      <th>0</th>\n",
       "      <td>male</td>\n",
       "      <td>107</td>\n",
       "    </tr>\n",
       "    <tr>\n",
       "      <th>1</th>\n",
       "      <td>unknown</td>\n",
       "      <td>1105</td>\n",
       "    </tr>\n",
       "    <tr>\n",
       "      <th>2</th>\n",
       "      <td>male</td>\n",
       "      <td>990</td>\n",
       "    </tr>\n",
       "    <tr>\n",
       "      <th>3</th>\n",
       "      <td>male</td>\n",
       "      <td>138</td>\n",
       "    </tr>\n",
       "    <tr>\n",
       "      <th>4</th>\n",
       "      <td>unknown</td>\n",
       "      <td>78</td>\n",
       "    </tr>\n",
       "  </tbody>\n",
       "</table>\n",
       "</div>"
      ],
      "text/plain": [
       "    gender  tripduration\n",
       "0     male           107\n",
       "1  unknown          1105\n",
       "2     male           990\n",
       "3     male           138\n",
       "4  unknown            78"
      ]
     },
     "execution_count": 15,
     "metadata": {},
     "output_type": "execute_result"
    }
   ],
   "source": [
    "df"
   ]
  },
  {
   "cell_type": "markdown",
   "id": "a59a22c3",
   "metadata": {},
   "source": [
    "<br>\n",
    "\n",
    "#### `AS`\n",
    "- ALIAS 설정\n",
    "\n",
    "<br>\n",
    "\n",
    "- 컬럼 ALIAS 설정"
   ]
  },
  {
   "cell_type": "code",
   "execution_count": 16,
   "id": "800e5191",
   "metadata": {},
   "outputs": [],
   "source": [
    "sql = \"\"\"\n",
    "SELECT\n",
    "  gender, tripduration\n",
    "FROM\n",
    "  `bigquery-public-data.new_york.citibike_trips`\n",
    "LIMIT 5\n",
    "\"\"\""
   ]
  },
  {
   "cell_type": "code",
   "execution_count": 17,
   "id": "dbef1529",
   "metadata": {},
   "outputs": [
    {
     "data": {
      "text/html": [
       "<div>\n",
       "<style scoped>\n",
       "    .dataframe tbody tr th:only-of-type {\n",
       "        vertical-align: middle;\n",
       "    }\n",
       "\n",
       "    .dataframe tbody tr th {\n",
       "        vertical-align: top;\n",
       "    }\n",
       "\n",
       "    .dataframe thead th {\n",
       "        text-align: right;\n",
       "    }\n",
       "</style>\n",
       "<table border=\"1\" class=\"dataframe\">\n",
       "  <thead>\n",
       "    <tr style=\"text-align: right;\">\n",
       "      <th></th>\n",
       "      <th>gender</th>\n",
       "      <th>tripduration</th>\n",
       "    </tr>\n",
       "  </thead>\n",
       "  <tbody>\n",
       "    <tr>\n",
       "      <th>0</th>\n",
       "      <td>male</td>\n",
       "      <td>107</td>\n",
       "    </tr>\n",
       "    <tr>\n",
       "      <th>1</th>\n",
       "      <td>unknown</td>\n",
       "      <td>1105</td>\n",
       "    </tr>\n",
       "    <tr>\n",
       "      <th>2</th>\n",
       "      <td>male</td>\n",
       "      <td>990</td>\n",
       "    </tr>\n",
       "    <tr>\n",
       "      <th>3</th>\n",
       "      <td>male</td>\n",
       "      <td>138</td>\n",
       "    </tr>\n",
       "    <tr>\n",
       "      <th>4</th>\n",
       "      <td>unknown</td>\n",
       "      <td>78</td>\n",
       "    </tr>\n",
       "  </tbody>\n",
       "</table>\n",
       "</div>"
      ],
      "text/plain": [
       "    gender  tripduration\n",
       "0     male           107\n",
       "1  unknown          1105\n",
       "2     male           990\n",
       "3     male           138\n",
       "4  unknown            78"
      ]
     },
     "execution_count": 17,
     "metadata": {},
     "output_type": "execute_result"
    }
   ],
   "source": [
    "query_job = client.query(sql)\n",
    "df = query_job.to_dataframe()\n",
    "df"
   ]
  },
  {
   "cell_type": "markdown",
   "id": "bc19b20d",
   "metadata": {},
   "source": [
    "- ALIAS를 사용하지 않으면,자동으로 생성된 이름 (`f0_`)을 사용"
   ]
  },
  {
   "cell_type": "code",
   "execution_count": 20,
   "id": "2305bee1",
   "metadata": {},
   "outputs": [],
   "source": [
    "sql = \"\"\"\n",
    "SELECT\n",
    "  gender, tripduration/60\n",
    "FROM\n",
    "  `bigquery-public-data`.new_york.citibike_trips\n",
    "LIMIT 5\n",
    "\"\"\""
   ]
  },
  {
   "cell_type": "code",
   "execution_count": 21,
   "id": "7dd0e09c",
   "metadata": {},
   "outputs": [
    {
     "data": {
      "text/html": [
       "<div>\n",
       "<style scoped>\n",
       "    .dataframe tbody tr th:only-of-type {\n",
       "        vertical-align: middle;\n",
       "    }\n",
       "\n",
       "    .dataframe tbody tr th {\n",
       "        vertical-align: top;\n",
       "    }\n",
       "\n",
       "    .dataframe thead th {\n",
       "        text-align: right;\n",
       "    }\n",
       "</style>\n",
       "<table border=\"1\" class=\"dataframe\">\n",
       "  <thead>\n",
       "    <tr style=\"text-align: right;\">\n",
       "      <th></th>\n",
       "      <th>gender</th>\n",
       "      <th>f0_</th>\n",
       "    </tr>\n",
       "  </thead>\n",
       "  <tbody>\n",
       "    <tr>\n",
       "      <th>0</th>\n",
       "      <td>male</td>\n",
       "      <td>1.783333</td>\n",
       "    </tr>\n",
       "    <tr>\n",
       "      <th>1</th>\n",
       "      <td>unknown</td>\n",
       "      <td>18.416667</td>\n",
       "    </tr>\n",
       "    <tr>\n",
       "      <th>2</th>\n",
       "      <td>male</td>\n",
       "      <td>16.500000</td>\n",
       "    </tr>\n",
       "    <tr>\n",
       "      <th>3</th>\n",
       "      <td>male</td>\n",
       "      <td>2.300000</td>\n",
       "    </tr>\n",
       "    <tr>\n",
       "      <th>4</th>\n",
       "      <td>unknown</td>\n",
       "      <td>1.300000</td>\n",
       "    </tr>\n",
       "  </tbody>\n",
       "</table>\n",
       "</div>"
      ],
      "text/plain": [
       "    gender        f0_\n",
       "0     male   1.783333\n",
       "1  unknown  18.416667\n",
       "2     male  16.500000\n",
       "3     male   2.300000\n",
       "4  unknown   1.300000"
      ]
     },
     "execution_count": 21,
     "metadata": {},
     "output_type": "execute_result"
    }
   ],
   "source": [
    "query_job = client.query(sql)\n",
    "df = query_job.to_dataframe()\n",
    "df"
   ]
  },
  {
   "cell_type": "markdown",
   "id": "9cfea620",
   "metadata": {},
   "source": [
    "<br>\n",
    "\n",
    "#### `WHERE`\n",
    "- 필터링\n",
    "- **`WHERE`절은 `FROM`에 지정한 테이블의 컬럼을 참조**\n",
    "    \n",
    "    $\\rightarrow$ **`WHERE` 절에서는 `SELECT`절에서 지정한 ALIAS를 사용할 수 없음**"
   ]
  },
  {
   "cell_type": "code",
   "execution_count": 26,
   "id": "28ad411e",
   "metadata": {},
   "outputs": [],
   "source": [
    "sql = '''\n",
    "SELECT\n",
    "  gender, tripduration\n",
    "FROM\n",
    "  `bigquery-public-data`.new_york.citibike_trips\n",
    "WHERE tripduration >= 300 AND tripduration < 600 AND gender = 'female'\n",
    "LIMIT 5\n",
    "'''"
   ]
  },
  {
   "cell_type": "code",
   "execution_count": 27,
   "id": "7f0bb2a9",
   "metadata": {},
   "outputs": [
    {
     "data": {
      "text/html": [
       "<div>\n",
       "<style scoped>\n",
       "    .dataframe tbody tr th:only-of-type {\n",
       "        vertical-align: middle;\n",
       "    }\n",
       "\n",
       "    .dataframe tbody tr th {\n",
       "        vertical-align: top;\n",
       "    }\n",
       "\n",
       "    .dataframe thead th {\n",
       "        text-align: right;\n",
       "    }\n",
       "</style>\n",
       "<table border=\"1\" class=\"dataframe\">\n",
       "  <thead>\n",
       "    <tr style=\"text-align: right;\">\n",
       "      <th></th>\n",
       "      <th>gender</th>\n",
       "      <th>tripduration</th>\n",
       "    </tr>\n",
       "  </thead>\n",
       "  <tbody>\n",
       "    <tr>\n",
       "      <th>0</th>\n",
       "      <td>female</td>\n",
       "      <td>422</td>\n",
       "    </tr>\n",
       "    <tr>\n",
       "      <th>1</th>\n",
       "      <td>female</td>\n",
       "      <td>339</td>\n",
       "    </tr>\n",
       "    <tr>\n",
       "      <th>2</th>\n",
       "      <td>female</td>\n",
       "      <td>373</td>\n",
       "    </tr>\n",
       "    <tr>\n",
       "      <th>3</th>\n",
       "      <td>female</td>\n",
       "      <td>470</td>\n",
       "    </tr>\n",
       "    <tr>\n",
       "      <th>4</th>\n",
       "      <td>female</td>\n",
       "      <td>376</td>\n",
       "    </tr>\n",
       "  </tbody>\n",
       "</table>\n",
       "</div>"
      ],
      "text/plain": [
       "   gender  tripduration\n",
       "0  female           422\n",
       "1  female           339\n",
       "2  female           373\n",
       "3  female           470\n",
       "4  female           376"
      ]
     },
     "execution_count": 27,
     "metadata": {},
     "output_type": "execute_result"
    }
   ],
   "source": [
    "query_job = client.query(sql)\n",
    "df = query_job.to_dataframe()\n",
    "df"
   ]
  },
  {
   "cell_type": "markdown",
   "id": "b8cfc1c8",
   "metadata": {},
   "source": [
    "<br>\n",
    "\n",
    "#### `SELECT *`"
   ]
  },
  {
   "cell_type": "markdown",
   "id": "40d3cd8e",
   "metadata": {},
   "source": [
    "- **`LIKE`연산을 사용해 `name`에 `Riverside`가 들어간 모든 컬럼을 필터링**"
   ]
  },
  {
   "cell_type": "code",
   "execution_count": 28,
   "id": "5beeb924",
   "metadata": {},
   "outputs": [],
   "source": [
    "sql = '''\n",
    "SELECT\n",
    "  *\n",
    "FROM\n",
    "  `bigquery-public-data`.new_york_citibike.citibike_stations\n",
    "WHERE name LIKE '%Riverside%'\n",
    "'''"
   ]
  },
  {
   "cell_type": "code",
   "execution_count": 31,
   "id": "f84efb1b",
   "metadata": {},
   "outputs": [
    {
     "data": {
      "text/html": [
       "<div>\n",
       "<style scoped>\n",
       "    .dataframe tbody tr th:only-of-type {\n",
       "        vertical-align: middle;\n",
       "    }\n",
       "\n",
       "    .dataframe tbody tr th {\n",
       "        vertical-align: top;\n",
       "    }\n",
       "\n",
       "    .dataframe thead th {\n",
       "        text-align: right;\n",
       "    }\n",
       "</style>\n",
       "<table border=\"1\" class=\"dataframe\">\n",
       "  <thead>\n",
       "    <tr style=\"text-align: right;\">\n",
       "      <th></th>\n",
       "      <th>station_id</th>\n",
       "      <th>name</th>\n",
       "      <th>latitude</th>\n",
       "      <th>longitude</th>\n",
       "      <th>region_id</th>\n",
       "      <th>rental_methods</th>\n",
       "      <th>capacity</th>\n",
       "      <th>eightd_has_key_dispenser</th>\n",
       "      <th>num_bikes_available</th>\n",
       "      <th>num_bikes_disabled</th>\n",
       "      <th>num_docks_available</th>\n",
       "      <th>num_docks_disabled</th>\n",
       "      <th>is_installed</th>\n",
       "      <th>is_renting</th>\n",
       "      <th>is_returning</th>\n",
       "      <th>eightd_has_available_keys</th>\n",
       "    </tr>\n",
       "  </thead>\n",
       "  <tbody>\n",
       "    <tr>\n",
       "      <th>0</th>\n",
       "      <td>d4c34830-972f-4cd1-81bb-071df209d065</td>\n",
       "      <td>W 181 St &amp; Riverside Dr</td>\n",
       "      <td>40.851680</td>\n",
       "      <td>-73.941860</td>\n",
       "      <td>71</td>\n",
       "      <td>KEY, CREDITCARD</td>\n",
       "      <td>21</td>\n",
       "      <td>False</td>\n",
       "      <td>18</td>\n",
       "      <td>3</td>\n",
       "      <td>0</td>\n",
       "      <td>0</td>\n",
       "      <td>True</td>\n",
       "      <td>True</td>\n",
       "      <td>True</td>\n",
       "      <td>False</td>\n",
       "    </tr>\n",
       "    <tr>\n",
       "      <th>1</th>\n",
       "      <td>18d980e5-ba08-4bc3-832e-03eb71865768</td>\n",
       "      <td>Riverside Dr &amp; Broadway</td>\n",
       "      <td>40.865364</td>\n",
       "      <td>-73.927910</td>\n",
       "      <td>71</td>\n",
       "      <td>KEY, CREDITCARD</td>\n",
       "      <td>24</td>\n",
       "      <td>False</td>\n",
       "      <td>13</td>\n",
       "      <td>3</td>\n",
       "      <td>6</td>\n",
       "      <td>1</td>\n",
       "      <td>True</td>\n",
       "      <td>True</td>\n",
       "      <td>True</td>\n",
       "      <td>False</td>\n",
       "    </tr>\n",
       "    <tr>\n",
       "      <th>2</th>\n",
       "      <td>4aa6bb27-b76b-444e-a3ce-6fb25b822494</td>\n",
       "      <td>Riverside Dr &amp; W 153 St</td>\n",
       "      <td>40.832164</td>\n",
       "      <td>-73.949702</td>\n",
       "      <td>71</td>\n",
       "      <td>KEY, CREDITCARD</td>\n",
       "      <td>21</td>\n",
       "      <td>False</td>\n",
       "      <td>9</td>\n",
       "      <td>1</td>\n",
       "      <td>10</td>\n",
       "      <td>0</td>\n",
       "      <td>True</td>\n",
       "      <td>True</td>\n",
       "      <td>True</td>\n",
       "      <td>False</td>\n",
       "    </tr>\n",
       "    <tr>\n",
       "      <th>3</th>\n",
       "      <td>59af018a-2ee9-489a-b445-bb6fba9c1119</td>\n",
       "      <td>W 163 St &amp; Riverside Dr</td>\n",
       "      <td>40.839278</td>\n",
       "      <td>-73.945446</td>\n",
       "      <td>71</td>\n",
       "      <td>KEY, CREDITCARD</td>\n",
       "      <td>19</td>\n",
       "      <td>False</td>\n",
       "      <td>4</td>\n",
       "      <td>1</td>\n",
       "      <td>14</td>\n",
       "      <td>0</td>\n",
       "      <td>True</td>\n",
       "      <td>True</td>\n",
       "      <td>True</td>\n",
       "      <td>False</td>\n",
       "    </tr>\n",
       "    <tr>\n",
       "      <th>4</th>\n",
       "      <td>4f814d78-5d8d-458b-877e-2ca449b865be</td>\n",
       "      <td>Riverside Dr &amp; W 148 St</td>\n",
       "      <td>40.829114</td>\n",
       "      <td>-73.950426</td>\n",
       "      <td>71</td>\n",
       "      <td>KEY, CREDITCARD</td>\n",
       "      <td>22</td>\n",
       "      <td>False</td>\n",
       "      <td>5</td>\n",
       "      <td>1</td>\n",
       "      <td>16</td>\n",
       "      <td>0</td>\n",
       "      <td>True</td>\n",
       "      <td>True</td>\n",
       "      <td>True</td>\n",
       "      <td>False</td>\n",
       "    </tr>\n",
       "  </tbody>\n",
       "</table>\n",
       "</div>"
      ],
      "text/plain": [
       "                             station_id                     name   latitude  \\\n",
       "0  d4c34830-972f-4cd1-81bb-071df209d065  W 181 St & Riverside Dr  40.851680   \n",
       "1  18d980e5-ba08-4bc3-832e-03eb71865768  Riverside Dr & Broadway  40.865364   \n",
       "2  4aa6bb27-b76b-444e-a3ce-6fb25b822494  Riverside Dr & W 153 St  40.832164   \n",
       "3  59af018a-2ee9-489a-b445-bb6fba9c1119  W 163 St & Riverside Dr  40.839278   \n",
       "4  4f814d78-5d8d-458b-877e-2ca449b865be  Riverside Dr & W 148 St  40.829114   \n",
       "\n",
       "   longitude  region_id   rental_methods  capacity  eightd_has_key_dispenser  \\\n",
       "0 -73.941860         71  KEY, CREDITCARD        21                     False   \n",
       "1 -73.927910         71  KEY, CREDITCARD        24                     False   \n",
       "2 -73.949702         71  KEY, CREDITCARD        21                     False   \n",
       "3 -73.945446         71  KEY, CREDITCARD        19                     False   \n",
       "4 -73.950426         71  KEY, CREDITCARD        22                     False   \n",
       "\n",
       "   num_bikes_available  num_bikes_disabled  num_docks_available  \\\n",
       "0                   18                   3                    0   \n",
       "1                   13                   3                    6   \n",
       "2                    9                   1                   10   \n",
       "3                    4                   1                   14   \n",
       "4                    5                   1                   16   \n",
       "\n",
       "   num_docks_disabled  is_installed  is_renting  is_returning  \\\n",
       "0                   0          True        True          True   \n",
       "1                   1          True        True          True   \n",
       "2                   0          True        True          True   \n",
       "3                   0          True        True          True   \n",
       "4                   0          True        True          True   \n",
       "\n",
       "   eightd_has_available_keys  \n",
       "0                      False  \n",
       "1                      False  \n",
       "2                      False  \n",
       "3                      False  \n",
       "4                      False  "
      ]
     },
     "execution_count": 31,
     "metadata": {},
     "output_type": "execute_result"
    }
   ],
   "source": [
    "query_job = client.query(sql)\n",
    "df = query_job.to_dataframe()\n",
    "df.head()"
   ]
  },
  {
   "cell_type": "markdown",
   "id": "bd9d2b29",
   "metadata": {},
   "source": [
    "<br>\n",
    "\n",
    "####  `SELECT EXCEPT`\n",
    "- **일부 컬럼을 제외한 나머지 컬럼을 모두 선택**"
   ]
  },
  {
   "cell_type": "code",
   "execution_count": 32,
   "id": "290f50fd",
   "metadata": {},
   "outputs": [],
   "source": [
    "### short_name, last_reported를 제외한 모든 컬럼\n",
    "sql = '''\n",
    "SELECT\n",
    "  * EXCEPT(short_name, last_reported)\n",
    "FROM\n",
    "  `bigquery-public-data`.new_york_citibike.citibike_stations\n",
    "WHERE name LIKE '%Riverside%'\n",
    "'''"
   ]
  },
  {
   "cell_type": "code",
   "execution_count": 33,
   "id": "0bc94720",
   "metadata": {},
   "outputs": [
    {
     "data": {
      "text/html": [
       "<div>\n",
       "<style scoped>\n",
       "    .dataframe tbody tr th:only-of-type {\n",
       "        vertical-align: middle;\n",
       "    }\n",
       "\n",
       "    .dataframe tbody tr th {\n",
       "        vertical-align: top;\n",
       "    }\n",
       "\n",
       "    .dataframe thead th {\n",
       "        text-align: right;\n",
       "    }\n",
       "</style>\n",
       "<table border=\"1\" class=\"dataframe\">\n",
       "  <thead>\n",
       "    <tr style=\"text-align: right;\">\n",
       "      <th></th>\n",
       "      <th>station_id</th>\n",
       "      <th>name</th>\n",
       "      <th>latitude</th>\n",
       "      <th>longitude</th>\n",
       "      <th>region_id</th>\n",
       "      <th>rental_methods</th>\n",
       "      <th>capacity</th>\n",
       "      <th>eightd_has_key_dispenser</th>\n",
       "      <th>num_bikes_available</th>\n",
       "      <th>num_bikes_disabled</th>\n",
       "      <th>num_docks_available</th>\n",
       "      <th>num_docks_disabled</th>\n",
       "      <th>is_installed</th>\n",
       "      <th>is_renting</th>\n",
       "      <th>is_returning</th>\n",
       "      <th>eightd_has_available_keys</th>\n",
       "    </tr>\n",
       "  </thead>\n",
       "  <tbody>\n",
       "    <tr>\n",
       "      <th>0</th>\n",
       "      <td>d4c34830-972f-4cd1-81bb-071df209d065</td>\n",
       "      <td>W 181 St &amp; Riverside Dr</td>\n",
       "      <td>40.851680</td>\n",
       "      <td>-73.941860</td>\n",
       "      <td>71</td>\n",
       "      <td>KEY, CREDITCARD</td>\n",
       "      <td>21</td>\n",
       "      <td>False</td>\n",
       "      <td>18</td>\n",
       "      <td>3</td>\n",
       "      <td>0</td>\n",
       "      <td>0</td>\n",
       "      <td>True</td>\n",
       "      <td>True</td>\n",
       "      <td>True</td>\n",
       "      <td>False</td>\n",
       "    </tr>\n",
       "    <tr>\n",
       "      <th>1</th>\n",
       "      <td>18d980e5-ba08-4bc3-832e-03eb71865768</td>\n",
       "      <td>Riverside Dr &amp; Broadway</td>\n",
       "      <td>40.865364</td>\n",
       "      <td>-73.927910</td>\n",
       "      <td>71</td>\n",
       "      <td>KEY, CREDITCARD</td>\n",
       "      <td>24</td>\n",
       "      <td>False</td>\n",
       "      <td>13</td>\n",
       "      <td>3</td>\n",
       "      <td>6</td>\n",
       "      <td>1</td>\n",
       "      <td>True</td>\n",
       "      <td>True</td>\n",
       "      <td>True</td>\n",
       "      <td>False</td>\n",
       "    </tr>\n",
       "    <tr>\n",
       "      <th>2</th>\n",
       "      <td>4aa6bb27-b76b-444e-a3ce-6fb25b822494</td>\n",
       "      <td>Riverside Dr &amp; W 153 St</td>\n",
       "      <td>40.832164</td>\n",
       "      <td>-73.949702</td>\n",
       "      <td>71</td>\n",
       "      <td>KEY, CREDITCARD</td>\n",
       "      <td>21</td>\n",
       "      <td>False</td>\n",
       "      <td>9</td>\n",
       "      <td>1</td>\n",
       "      <td>10</td>\n",
       "      <td>0</td>\n",
       "      <td>True</td>\n",
       "      <td>True</td>\n",
       "      <td>True</td>\n",
       "      <td>False</td>\n",
       "    </tr>\n",
       "    <tr>\n",
       "      <th>3</th>\n",
       "      <td>59af018a-2ee9-489a-b445-bb6fba9c1119</td>\n",
       "      <td>W 163 St &amp; Riverside Dr</td>\n",
       "      <td>40.839278</td>\n",
       "      <td>-73.945446</td>\n",
       "      <td>71</td>\n",
       "      <td>KEY, CREDITCARD</td>\n",
       "      <td>19</td>\n",
       "      <td>False</td>\n",
       "      <td>4</td>\n",
       "      <td>1</td>\n",
       "      <td>14</td>\n",
       "      <td>0</td>\n",
       "      <td>True</td>\n",
       "      <td>True</td>\n",
       "      <td>True</td>\n",
       "      <td>False</td>\n",
       "    </tr>\n",
       "    <tr>\n",
       "      <th>4</th>\n",
       "      <td>4f814d78-5d8d-458b-877e-2ca449b865be</td>\n",
       "      <td>Riverside Dr &amp; W 148 St</td>\n",
       "      <td>40.829114</td>\n",
       "      <td>-73.950426</td>\n",
       "      <td>71</td>\n",
       "      <td>KEY, CREDITCARD</td>\n",
       "      <td>22</td>\n",
       "      <td>False</td>\n",
       "      <td>5</td>\n",
       "      <td>1</td>\n",
       "      <td>16</td>\n",
       "      <td>0</td>\n",
       "      <td>True</td>\n",
       "      <td>True</td>\n",
       "      <td>True</td>\n",
       "      <td>False</td>\n",
       "    </tr>\n",
       "  </tbody>\n",
       "</table>\n",
       "</div>"
      ],
      "text/plain": [
       "                             station_id                     name   latitude  \\\n",
       "0  d4c34830-972f-4cd1-81bb-071df209d065  W 181 St & Riverside Dr  40.851680   \n",
       "1  18d980e5-ba08-4bc3-832e-03eb71865768  Riverside Dr & Broadway  40.865364   \n",
       "2  4aa6bb27-b76b-444e-a3ce-6fb25b822494  Riverside Dr & W 153 St  40.832164   \n",
       "3  59af018a-2ee9-489a-b445-bb6fba9c1119  W 163 St & Riverside Dr  40.839278   \n",
       "4  4f814d78-5d8d-458b-877e-2ca449b865be  Riverside Dr & W 148 St  40.829114   \n",
       "\n",
       "   longitude  region_id   rental_methods  capacity  eightd_has_key_dispenser  \\\n",
       "0 -73.941860         71  KEY, CREDITCARD        21                     False   \n",
       "1 -73.927910         71  KEY, CREDITCARD        24                     False   \n",
       "2 -73.949702         71  KEY, CREDITCARD        21                     False   \n",
       "3 -73.945446         71  KEY, CREDITCARD        19                     False   \n",
       "4 -73.950426         71  KEY, CREDITCARD        22                     False   \n",
       "\n",
       "   num_bikes_available  num_bikes_disabled  num_docks_available  \\\n",
       "0                   18                   3                    0   \n",
       "1                   13                   3                    6   \n",
       "2                    9                   1                   10   \n",
       "3                    4                   1                   14   \n",
       "4                    5                   1                   16   \n",
       "\n",
       "   num_docks_disabled  is_installed  is_renting  is_returning  \\\n",
       "0                   0          True        True          True   \n",
       "1                   1          True        True          True   \n",
       "2                   0          True        True          True   \n",
       "3                   0          True        True          True   \n",
       "4                   0          True        True          True   \n",
       "\n",
       "   eightd_has_available_keys  \n",
       "0                      False  \n",
       "1                      False  \n",
       "2                      False  \n",
       "3                      False  \n",
       "4                      False  "
      ]
     },
     "execution_count": 33,
     "metadata": {},
     "output_type": "execute_result"
    }
   ],
   "source": [
    "query_job = client.query(sql)\n",
    "df = query_job.to_dataframe()\n",
    "df.head()"
   ]
  },
  {
   "cell_type": "markdown",
   "id": "32f5a293",
   "metadata": {},
   "source": [
    "####  `REPLACE`\n",
    "- **모든 컬럼을 선택하면서, 그중 한 컬럼의 값을 변환**\n",
    "\n",
    "<br>\n",
    "\n",
    "- `num_bikes_available` 컬럼의 모든 값에 5를 더함"
   ]
  },
  {
   "cell_type": "code",
   "execution_count": 34,
   "id": "26310a88",
   "metadata": {},
   "outputs": [],
   "source": [
    "sql = '''\n",
    "SELECT\n",
    "  * REPLACE(num_bikes_available + 5 AS num_bikes_available)\n",
    "FROM\n",
    "  `bigquery-public-data`.new_york_citibike.citibike_stations\n",
    "'''"
   ]
  },
  {
   "cell_type": "code",
   "execution_count": 35,
   "id": "e6975178",
   "metadata": {},
   "outputs": [
    {
     "data": {
      "text/html": [
       "<div>\n",
       "<style scoped>\n",
       "    .dataframe tbody tr th:only-of-type {\n",
       "        vertical-align: middle;\n",
       "    }\n",
       "\n",
       "    .dataframe tbody tr th {\n",
       "        vertical-align: top;\n",
       "    }\n",
       "\n",
       "    .dataframe thead th {\n",
       "        text-align: right;\n",
       "    }\n",
       "</style>\n",
       "<table border=\"1\" class=\"dataframe\">\n",
       "  <thead>\n",
       "    <tr style=\"text-align: right;\">\n",
       "      <th></th>\n",
       "      <th>station_id</th>\n",
       "      <th>name</th>\n",
       "      <th>short_name</th>\n",
       "      <th>latitude</th>\n",
       "      <th>longitude</th>\n",
       "      <th>region_id</th>\n",
       "      <th>rental_methods</th>\n",
       "      <th>capacity</th>\n",
       "      <th>eightd_has_key_dispenser</th>\n",
       "      <th>num_bikes_available</th>\n",
       "      <th>num_bikes_disabled</th>\n",
       "      <th>num_docks_available</th>\n",
       "      <th>num_docks_disabled</th>\n",
       "      <th>is_installed</th>\n",
       "      <th>is_renting</th>\n",
       "      <th>is_returning</th>\n",
       "      <th>eightd_has_available_keys</th>\n",
       "      <th>last_reported</th>\n",
       "    </tr>\n",
       "  </thead>\n",
       "  <tbody>\n",
       "    <tr>\n",
       "      <th>0</th>\n",
       "      <td>66dc2995-0aca-11e7-82f6-3863bb44ef7c</td>\n",
       "      <td>W 25 St &amp; 6 Ave</td>\n",
       "      <td>6215.04</td>\n",
       "      <td>40.743954</td>\n",
       "      <td>-73.991449</td>\n",
       "      <td>71</td>\n",
       "      <td>KEY, CREDITCARD</td>\n",
       "      <td>51</td>\n",
       "      <td>False</td>\n",
       "      <td>5</td>\n",
       "      <td>0</td>\n",
       "      <td>0</td>\n",
       "      <td>0</td>\n",
       "      <td>False</td>\n",
       "      <td>False</td>\n",
       "      <td>False</td>\n",
       "      <td>False</td>\n",
       "      <td>1970-01-02 00:00:00+00:00</td>\n",
       "    </tr>\n",
       "    <tr>\n",
       "      <th>1</th>\n",
       "      <td>06439006-11b6-44f0-8545-c9d39035f32a</td>\n",
       "      <td>Vesey St &amp; Church St</td>\n",
       "      <td>5216.06</td>\n",
       "      <td>40.712220</td>\n",
       "      <td>-74.010472</td>\n",
       "      <td>71</td>\n",
       "      <td>KEY, CREDITCARD</td>\n",
       "      <td>48</td>\n",
       "      <td>False</td>\n",
       "      <td>5</td>\n",
       "      <td>0</td>\n",
       "      <td>0</td>\n",
       "      <td>0</td>\n",
       "      <td>False</td>\n",
       "      <td>False</td>\n",
       "      <td>False</td>\n",
       "      <td>False</td>\n",
       "      <td>1970-01-02 00:00:00+00:00</td>\n",
       "    </tr>\n",
       "    <tr>\n",
       "      <th>2</th>\n",
       "      <td>66de269c-0aca-11e7-82f6-3863bb44ef7c</td>\n",
       "      <td>3 Ave &amp; E 72 St</td>\n",
       "      <td>7028.04</td>\n",
       "      <td>40.769943</td>\n",
       "      <td>-73.960607</td>\n",
       "      <td>71</td>\n",
       "      <td>KEY, CREDITCARD</td>\n",
       "      <td>35</td>\n",
       "      <td>False</td>\n",
       "      <td>5</td>\n",
       "      <td>0</td>\n",
       "      <td>0</td>\n",
       "      <td>0</td>\n",
       "      <td>False</td>\n",
       "      <td>False</td>\n",
       "      <td>False</td>\n",
       "      <td>False</td>\n",
       "      <td>2023-12-20 16:47:44+00:00</td>\n",
       "    </tr>\n",
       "    <tr>\n",
       "      <th>3</th>\n",
       "      <td>9a40cb60-6ede-4c9e-9d64-dc55cae57f31</td>\n",
       "      <td>28 St &amp; 41 Ave</td>\n",
       "      <td>6462.19</td>\n",
       "      <td>40.751047</td>\n",
       "      <td>-73.937970</td>\n",
       "      <td>71</td>\n",
       "      <td>KEY, CREDITCARD</td>\n",
       "      <td>27</td>\n",
       "      <td>False</td>\n",
       "      <td>5</td>\n",
       "      <td>0</td>\n",
       "      <td>0</td>\n",
       "      <td>0</td>\n",
       "      <td>False</td>\n",
       "      <td>False</td>\n",
       "      <td>False</td>\n",
       "      <td>False</td>\n",
       "      <td>1970-01-02 00:00:00+00:00</td>\n",
       "    </tr>\n",
       "    <tr>\n",
       "      <th>4</th>\n",
       "      <td>41f2113f-13f3-48b3-9919-179df29011b2</td>\n",
       "      <td>Creston Ave &amp; E 181 St</td>\n",
       "      <td>8456.02</td>\n",
       "      <td>40.854900</td>\n",
       "      <td>-73.902810</td>\n",
       "      <td>71</td>\n",
       "      <td>KEY, CREDITCARD</td>\n",
       "      <td>23</td>\n",
       "      <td>False</td>\n",
       "      <td>5</td>\n",
       "      <td>0</td>\n",
       "      <td>0</td>\n",
       "      <td>0</td>\n",
       "      <td>False</td>\n",
       "      <td>False</td>\n",
       "      <td>False</td>\n",
       "      <td>False</td>\n",
       "      <td>1970-01-02 00:00:00+00:00</td>\n",
       "    </tr>\n",
       "  </tbody>\n",
       "</table>\n",
       "</div>"
      ],
      "text/plain": [
       "                             station_id                    name short_name  \\\n",
       "0  66dc2995-0aca-11e7-82f6-3863bb44ef7c         W 25 St & 6 Ave    6215.04   \n",
       "1  06439006-11b6-44f0-8545-c9d39035f32a    Vesey St & Church St    5216.06   \n",
       "2  66de269c-0aca-11e7-82f6-3863bb44ef7c         3 Ave & E 72 St    7028.04   \n",
       "3  9a40cb60-6ede-4c9e-9d64-dc55cae57f31          28 St & 41 Ave    6462.19   \n",
       "4  41f2113f-13f3-48b3-9919-179df29011b2  Creston Ave & E 181 St    8456.02   \n",
       "\n",
       "    latitude  longitude  region_id   rental_methods  capacity  \\\n",
       "0  40.743954 -73.991449         71  KEY, CREDITCARD        51   \n",
       "1  40.712220 -74.010472         71  KEY, CREDITCARD        48   \n",
       "2  40.769943 -73.960607         71  KEY, CREDITCARD        35   \n",
       "3  40.751047 -73.937970         71  KEY, CREDITCARD        27   \n",
       "4  40.854900 -73.902810         71  KEY, CREDITCARD        23   \n",
       "\n",
       "   eightd_has_key_dispenser  num_bikes_available  num_bikes_disabled  \\\n",
       "0                     False                    5                   0   \n",
       "1                     False                    5                   0   \n",
       "2                     False                    5                   0   \n",
       "3                     False                    5                   0   \n",
       "4                     False                    5                   0   \n",
       "\n",
       "   num_docks_available  num_docks_disabled  is_installed  is_renting  \\\n",
       "0                    0                   0         False       False   \n",
       "1                    0                   0         False       False   \n",
       "2                    0                   0         False       False   \n",
       "3                    0                   0         False       False   \n",
       "4                    0                   0         False       False   \n",
       "\n",
       "   is_returning  eightd_has_available_keys             last_reported  \n",
       "0         False                      False 1970-01-02 00:00:00+00:00  \n",
       "1         False                      False 1970-01-02 00:00:00+00:00  \n",
       "2         False                      False 2023-12-20 16:47:44+00:00  \n",
       "3         False                      False 1970-01-02 00:00:00+00:00  \n",
       "4         False                      False 1970-01-02 00:00:00+00:00  "
      ]
     },
     "execution_count": 35,
     "metadata": {},
     "output_type": "execute_result"
    }
   ],
   "source": [
    "query_job = client.query(sql)\n",
    "df = query_job.to_dataframe()\n",
    "df.head()"
   ]
  },
  {
   "cell_type": "markdown",
   "id": "ec3945ca",
   "metadata": {},
   "source": [
    "<br>\n",
    "\n",
    "#### 서브쿼리\n",
    "\n",
    "\n",
    "\n"
   ]
  },
  {
   "cell_type": "code",
   "execution_count": 36,
   "id": "22f9b6bc",
   "metadata": {},
   "outputs": [],
   "source": [
    "sql = '''\n",
    "SELECT * FROM (\n",
    "  SELECT\n",
    "  gender, tripduration / 60 AS minutes\n",
    "  FROM\n",
    "  `bigquery-public-data`.new_york_citibike.citibike_trips\n",
    ")\n",
    "WHERE minutes < 10\n",
    "LIMIT 5\n",
    "'''"
   ]
  },
  {
   "cell_type": "code",
   "execution_count": 37,
   "id": "89a7c5df",
   "metadata": {},
   "outputs": [
    {
     "data": {
      "text/html": [
       "<div>\n",
       "<style scoped>\n",
       "    .dataframe tbody tr th:only-of-type {\n",
       "        vertical-align: middle;\n",
       "    }\n",
       "\n",
       "    .dataframe tbody tr th {\n",
       "        vertical-align: top;\n",
       "    }\n",
       "\n",
       "    .dataframe thead th {\n",
       "        text-align: right;\n",
       "    }\n",
       "</style>\n",
       "<table border=\"1\" class=\"dataframe\">\n",
       "  <thead>\n",
       "    <tr style=\"text-align: right;\">\n",
       "      <th></th>\n",
       "      <th>gender</th>\n",
       "      <th>minutes</th>\n",
       "    </tr>\n",
       "  </thead>\n",
       "  <tbody>\n",
       "    <tr>\n",
       "      <th>0</th>\n",
       "      <td>female</td>\n",
       "      <td>2.400000</td>\n",
       "    </tr>\n",
       "    <tr>\n",
       "      <th>1</th>\n",
       "      <td>unknown</td>\n",
       "      <td>4.366667</td>\n",
       "    </tr>\n",
       "    <tr>\n",
       "      <th>2</th>\n",
       "      <td>unknown</td>\n",
       "      <td>2.116667</td>\n",
       "    </tr>\n",
       "    <tr>\n",
       "      <th>3</th>\n",
       "      <td>unknown</td>\n",
       "      <td>9.450000</td>\n",
       "    </tr>\n",
       "    <tr>\n",
       "      <th>4</th>\n",
       "      <td>unknown</td>\n",
       "      <td>8.883333</td>\n",
       "    </tr>\n",
       "  </tbody>\n",
       "</table>\n",
       "</div>"
      ],
      "text/plain": [
       "    gender   minutes\n",
       "0   female  2.400000\n",
       "1  unknown  4.366667\n",
       "2  unknown  2.116667\n",
       "3  unknown  9.450000\n",
       "4  unknown  8.883333"
      ]
     },
     "execution_count": 37,
     "metadata": {},
     "output_type": "execute_result"
    }
   ],
   "source": [
    "query_job = client.query(sql)\n",
    "df = query_job.to_dataframe()\n",
    "df.head()"
   ]
  },
  {
   "cell_type": "markdown",
   "id": "27cc7105",
   "metadata": {},
   "source": [
    "- **`WITH`에 의한 서브쿼리를 사용하면, 반복을 줄이고 별칭을 계속 사용할 수 있음**\n",
    "    - `WITH`절은 이름이 있는 서브쿼리처럼 작동하며, 임시 테이블을 생성하지 않음\n",
    "    - **대부분의 RDBMS 시스템에서는 `WITH`절을 이용한 쿼리를 CTE (Common Table Expression)이라 부름**"
   ]
  },
  {
   "cell_type": "code",
   "execution_count": 38,
   "id": "f54cb596",
   "metadata": {},
   "outputs": [],
   "source": [
    "sql = '''\n",
    "WITH all_trips AS (\n",
    "  SELECT\n",
    "  gender, tripduration / 60 AS minutes\n",
    "  FROM\n",
    "  `bigquery-public-data`.new_york_citibike.citibike_trips\n",
    ")\n",
    "\n",
    "SELECT * FROM all_trips\n",
    "WHERE minutes < 10\n",
    "LIMIT 5\n",
    "'''"
   ]
  },
  {
   "cell_type": "code",
   "execution_count": 39,
   "id": "b9be036f",
   "metadata": {},
   "outputs": [
    {
     "data": {
      "text/html": [
       "<div>\n",
       "<style scoped>\n",
       "    .dataframe tbody tr th:only-of-type {\n",
       "        vertical-align: middle;\n",
       "    }\n",
       "\n",
       "    .dataframe tbody tr th {\n",
       "        vertical-align: top;\n",
       "    }\n",
       "\n",
       "    .dataframe thead th {\n",
       "        text-align: right;\n",
       "    }\n",
       "</style>\n",
       "<table border=\"1\" class=\"dataframe\">\n",
       "  <thead>\n",
       "    <tr style=\"text-align: right;\">\n",
       "      <th></th>\n",
       "      <th>gender</th>\n",
       "      <th>minutes</th>\n",
       "    </tr>\n",
       "  </thead>\n",
       "  <tbody>\n",
       "    <tr>\n",
       "      <th>0</th>\n",
       "      <td>female</td>\n",
       "      <td>2.400000</td>\n",
       "    </tr>\n",
       "    <tr>\n",
       "      <th>1</th>\n",
       "      <td>unknown</td>\n",
       "      <td>4.366667</td>\n",
       "    </tr>\n",
       "    <tr>\n",
       "      <th>2</th>\n",
       "      <td>unknown</td>\n",
       "      <td>2.116667</td>\n",
       "    </tr>\n",
       "    <tr>\n",
       "      <th>3</th>\n",
       "      <td>unknown</td>\n",
       "      <td>9.450000</td>\n",
       "    </tr>\n",
       "    <tr>\n",
       "      <th>4</th>\n",
       "      <td>unknown</td>\n",
       "      <td>8.883333</td>\n",
       "    </tr>\n",
       "  </tbody>\n",
       "</table>\n",
       "</div>"
      ],
      "text/plain": [
       "    gender   minutes\n",
       "0   female  2.400000\n",
       "1  unknown  4.366667\n",
       "2  unknown  2.116667\n",
       "3  unknown  9.450000\n",
       "4  unknown  8.883333"
      ]
     },
     "execution_count": 39,
     "metadata": {},
     "output_type": "execute_result"
    }
   ],
   "source": [
    "query_job = client.query(sql)\n",
    "df = query_job.to_dataframe()\n",
    "df.head()"
   ]
  },
  {
   "cell_type": "markdown",
   "id": "9320d9da",
   "metadata": {},
   "source": [
    "<br>\n",
    "\n",
    "#### `ORDER BY`\n",
    "\n",
    "- **`ORDER BY`는 `SELECT`절이 실행된 이후에 실행되므로, ALIAS를 사용 가능**\n",
    "- `DESC`를 추가하면 내림차순"
   ]
  },
  {
   "cell_type": "code",
   "execution_count": 40,
   "id": "0fb38ea5",
   "metadata": {},
   "outputs": [],
   "source": [
    "sql = '''\n",
    "SELECT\n",
    "  gender, tripduration/60 AS minutes\n",
    "FROM\n",
    "  `bigquery-public-data`.new_york_citibike.citibike_trips\n",
    "WHERE gender = 'female'\n",
    "ORDER BY minutes DESC\n",
    "LIMIT 5\n",
    "'''"
   ]
  },
  {
   "cell_type": "code",
   "execution_count": 41,
   "id": "7d4d5721",
   "metadata": {},
   "outputs": [
    {
     "data": {
      "text/html": [
       "<div>\n",
       "<style scoped>\n",
       "    .dataframe tbody tr th:only-of-type {\n",
       "        vertical-align: middle;\n",
       "    }\n",
       "\n",
       "    .dataframe tbody tr th {\n",
       "        vertical-align: top;\n",
       "    }\n",
       "\n",
       "    .dataframe thead th {\n",
       "        text-align: right;\n",
       "    }\n",
       "</style>\n",
       "<table border=\"1\" class=\"dataframe\">\n",
       "  <thead>\n",
       "    <tr style=\"text-align: right;\">\n",
       "      <th></th>\n",
       "      <th>gender</th>\n",
       "      <th>minutes</th>\n",
       "    </tr>\n",
       "  </thead>\n",
       "  <tbody>\n",
       "    <tr>\n",
       "      <th>0</th>\n",
       "      <td>female</td>\n",
       "      <td>250348.900000</td>\n",
       "    </tr>\n",
       "    <tr>\n",
       "      <th>1</th>\n",
       "      <td>female</td>\n",
       "      <td>226437.933333</td>\n",
       "    </tr>\n",
       "    <tr>\n",
       "      <th>2</th>\n",
       "      <td>female</td>\n",
       "      <td>207988.716667</td>\n",
       "    </tr>\n",
       "    <tr>\n",
       "      <th>3</th>\n",
       "      <td>female</td>\n",
       "      <td>159712.050000</td>\n",
       "    </tr>\n",
       "    <tr>\n",
       "      <th>4</th>\n",
       "      <td>female</td>\n",
       "      <td>154239.000000</td>\n",
       "    </tr>\n",
       "  </tbody>\n",
       "</table>\n",
       "</div>"
      ],
      "text/plain": [
       "   gender        minutes\n",
       "0  female  250348.900000\n",
       "1  female  226437.933333\n",
       "2  female  207988.716667\n",
       "3  female  159712.050000\n",
       "4  female  154239.000000"
      ]
     },
     "execution_count": 41,
     "metadata": {},
     "output_type": "execute_result"
    }
   ],
   "source": [
    "query_job = client.query(sql)\n",
    "df = query_job.to_dataframe()\n",
    "df.head()"
   ]
  },
  {
   "cell_type": "markdown",
   "id": "9d53c82a",
   "metadata": {},
   "source": [
    "<br>\n",
    "\n",
    "### 집계"
   ]
  },
  {
   "cell_type": "code",
   "execution_count": 42,
   "id": "c21fc8d5",
   "metadata": {},
   "outputs": [],
   "source": [
    "sql = '''\n",
    "SELECT\n",
    "  AVG(tripduration/60) AS avg_trip_duration\n",
    "FROM\n",
    "  `bigquery-public-data`.new_york_citibike.citibike_trips\n",
    "WHERE\n",
    "  gender = 'male'\n",
    "'''"
   ]
  },
  {
   "cell_type": "code",
   "execution_count": 43,
   "id": "b74a2091",
   "metadata": {},
   "outputs": [
    {
     "data": {
      "text/html": [
       "<div>\n",
       "<style scoped>\n",
       "    .dataframe tbody tr th:only-of-type {\n",
       "        vertical-align: middle;\n",
       "    }\n",
       "\n",
       "    .dataframe tbody tr th {\n",
       "        vertical-align: top;\n",
       "    }\n",
       "\n",
       "    .dataframe thead th {\n",
       "        text-align: right;\n",
       "    }\n",
       "</style>\n",
       "<table border=\"1\" class=\"dataframe\">\n",
       "  <thead>\n",
       "    <tr style=\"text-align: right;\">\n",
       "      <th></th>\n",
       "      <th>avg_trip_duration</th>\n",
       "    </tr>\n",
       "  </thead>\n",
       "  <tbody>\n",
       "    <tr>\n",
       "      <th>0</th>\n",
       "      <td>13.415553</td>\n",
       "    </tr>\n",
       "  </tbody>\n",
       "</table>\n",
       "</div>"
      ],
      "text/plain": [
       "   avg_trip_duration\n",
       "0          13.415553"
      ]
     },
     "execution_count": 43,
     "metadata": {},
     "output_type": "execute_result"
    }
   ],
   "source": [
    "query_job = client.query(sql)\n",
    "df = query_job.to_dataframe()\n",
    "df.head()"
   ]
  },
  {
   "cell_type": "markdown",
   "id": "b4ecfb87",
   "metadata": {},
   "source": [
    "<br>\n",
    "\n",
    "#### `GROUP BY`\n"
   ]
  },
  {
   "cell_type": "code",
   "execution_count": 44,
   "id": "f9fd4e71",
   "metadata": {},
   "outputs": [],
   "source": [
    "sql = '''\n",
    "SELECT\n",
    "  gender, AVG(tripduration/60) AS avg_trip_duration\n",
    "FROM\n",
    "  `bigquery-public-data`.new_york_citibike.citibike_trips\n",
    "WHERE\n",
    "  tripduration is not NULL\n",
    "GROUP BY\n",
    "  gender\n",
    "ORDER BY\n",
    "  avg_trip_duration\n",
    "'''"
   ]
  },
  {
   "cell_type": "code",
   "execution_count": 45,
   "id": "fba88f7d",
   "metadata": {},
   "outputs": [
    {
     "data": {
      "text/html": [
       "<div>\n",
       "<style scoped>\n",
       "    .dataframe tbody tr th:only-of-type {\n",
       "        vertical-align: middle;\n",
       "    }\n",
       "\n",
       "    .dataframe tbody tr th {\n",
       "        vertical-align: top;\n",
       "    }\n",
       "\n",
       "    .dataframe thead th {\n",
       "        text-align: right;\n",
       "    }\n",
       "</style>\n",
       "<table border=\"1\" class=\"dataframe\">\n",
       "  <thead>\n",
       "    <tr style=\"text-align: right;\">\n",
       "      <th></th>\n",
       "      <th>gender</th>\n",
       "      <th>avg_trip_duration</th>\n",
       "    </tr>\n",
       "  </thead>\n",
       "  <tbody>\n",
       "    <tr>\n",
       "      <th>0</th>\n",
       "      <td>male</td>\n",
       "      <td>13.415553</td>\n",
       "    </tr>\n",
       "    <tr>\n",
       "      <th>1</th>\n",
       "      <td>female</td>\n",
       "      <td>15.977472</td>\n",
       "    </tr>\n",
       "    <tr>\n",
       "      <th>2</th>\n",
       "      <td>unknown</td>\n",
       "      <td>31.439523</td>\n",
       "    </tr>\n",
       "  </tbody>\n",
       "</table>\n",
       "</div>"
      ],
      "text/plain": [
       "    gender  avg_trip_duration\n",
       "0     male          13.415553\n",
       "1   female          15.977472\n",
       "2  unknown          31.439523"
      ]
     },
     "execution_count": 45,
     "metadata": {},
     "output_type": "execute_result"
    }
   ],
   "source": [
    "query_job = client.query(sql)\n",
    "df = query_job.to_dataframe()\n",
    "df.head()"
   ]
  },
  {
   "cell_type": "markdown",
   "id": "4c851ace",
   "metadata": {},
   "source": [
    "<br>\n",
    "\n",
    "#### `COUNT`\n",
    "- 데이터의 수"
   ]
  },
  {
   "cell_type": "code",
   "execution_count": 46,
   "id": "dc448be0",
   "metadata": {},
   "outputs": [],
   "source": [
    "sql = '''\n",
    "SELECT\n",
    "  gender, \n",
    "  COUNT(*) AS rides,\n",
    "  AVG(tripduration / 60) AS avg_trip_duration\n",
    "FROM\n",
    "  `bigquery-public-data`.new_york_citibike.citibike_trips\n",
    "WHERE tripduration IS NOT NULL\n",
    "GROUP BY\n",
    "  gender\n",
    "ORDER BY\n",
    "  avg_trip_duration\n",
    "'''"
   ]
  },
  {
   "cell_type": "code",
   "execution_count": 47,
   "id": "a9e934b0",
   "metadata": {},
   "outputs": [
    {
     "data": {
      "text/html": [
       "<div>\n",
       "<style scoped>\n",
       "    .dataframe tbody tr th:only-of-type {\n",
       "        vertical-align: middle;\n",
       "    }\n",
       "\n",
       "    .dataframe tbody tr th {\n",
       "        vertical-align: top;\n",
       "    }\n",
       "\n",
       "    .dataframe thead th {\n",
       "        text-align: right;\n",
       "    }\n",
       "</style>\n",
       "<table border=\"1\" class=\"dataframe\">\n",
       "  <thead>\n",
       "    <tr style=\"text-align: right;\">\n",
       "      <th></th>\n",
       "      <th>gender</th>\n",
       "      <th>rides</th>\n",
       "      <th>avg_trip_duration</th>\n",
       "    </tr>\n",
       "  </thead>\n",
       "  <tbody>\n",
       "    <tr>\n",
       "      <th>0</th>\n",
       "      <td>male</td>\n",
       "      <td>35611787</td>\n",
       "      <td>13.415553</td>\n",
       "    </tr>\n",
       "    <tr>\n",
       "      <th>1</th>\n",
       "      <td>female</td>\n",
       "      <td>11376412</td>\n",
       "      <td>15.977472</td>\n",
       "    </tr>\n",
       "    <tr>\n",
       "      <th>2</th>\n",
       "      <td>unknown</td>\n",
       "      <td>6120522</td>\n",
       "      <td>31.439523</td>\n",
       "    </tr>\n",
       "  </tbody>\n",
       "</table>\n",
       "</div>"
      ],
      "text/plain": [
       "    gender     rides  avg_trip_duration\n",
       "0     male  35611787          13.415553\n",
       "1   female  11376412          15.977472\n",
       "2  unknown   6120522          31.439523"
      ]
     },
     "execution_count": 47,
     "metadata": {},
     "output_type": "execute_result"
    }
   ],
   "source": [
    "query_job = client.query(sql)\n",
    "df = query_job.to_dataframe()\n",
    "df.head()"
   ]
  },
  {
   "cell_type": "markdown",
   "id": "5e3d18a2",
   "metadata": {},
   "source": [
    "<br>\n",
    "\n",
    "#### `HAVING` \n",
    "- **그룹화 연산 이후의 필터링**"
   ]
  },
  {
   "cell_type": "code",
   "execution_count": 48,
   "id": "c5ddbf09",
   "metadata": {},
   "outputs": [],
   "source": [
    "sql = '''\n",
    "SELECT\n",
    "  gender, AVG(tripduration / 60) AS avg_trip_duration\n",
    "FROM\n",
    "  `bigquery-public-data`.new_york_citibike.citibike_trips\n",
    "WHERE tripduration IS NOT NULL\n",
    "GROUP BY\n",
    "  gender\n",
    "HAVING avg_trip_duration > 14\n",
    "ORDER BY\n",
    "  avg_trip_duration\n",
    "'''"
   ]
  },
  {
   "cell_type": "code",
   "execution_count": 49,
   "id": "f6d4cba2",
   "metadata": {},
   "outputs": [
    {
     "data": {
      "text/html": [
       "<div>\n",
       "<style scoped>\n",
       "    .dataframe tbody tr th:only-of-type {\n",
       "        vertical-align: middle;\n",
       "    }\n",
       "\n",
       "    .dataframe tbody tr th {\n",
       "        vertical-align: top;\n",
       "    }\n",
       "\n",
       "    .dataframe thead th {\n",
       "        text-align: right;\n",
       "    }\n",
       "</style>\n",
       "<table border=\"1\" class=\"dataframe\">\n",
       "  <thead>\n",
       "    <tr style=\"text-align: right;\">\n",
       "      <th></th>\n",
       "      <th>gender</th>\n",
       "      <th>avg_trip_duration</th>\n",
       "    </tr>\n",
       "  </thead>\n",
       "  <tbody>\n",
       "    <tr>\n",
       "      <th>0</th>\n",
       "      <td>female</td>\n",
       "      <td>15.977472</td>\n",
       "    </tr>\n",
       "    <tr>\n",
       "      <th>1</th>\n",
       "      <td>unknown</td>\n",
       "      <td>31.439523</td>\n",
       "    </tr>\n",
       "  </tbody>\n",
       "</table>\n",
       "</div>"
      ],
      "text/plain": [
       "    gender  avg_trip_duration\n",
       "0   female          15.977472\n",
       "1  unknown          31.439523"
      ]
     },
     "execution_count": 49,
     "metadata": {},
     "output_type": "execute_result"
    }
   ],
   "source": [
    "query_job = client.query(sql)\n",
    "df = query_job.to_dataframe()\n",
    "df.head()"
   ]
  },
  {
   "cell_type": "markdown",
   "id": "f899e0f4",
   "metadata": {},
   "source": [
    "<br>\n",
    "\n",
    "#### `DISTINCT`\n",
    "- 고윳값 추출\n",
    "- **`DISTINCT`는 `SELECT`절에서 지정한 컬럼 전체에 적용**"
   ]
  },
  {
   "cell_type": "code",
   "execution_count": 53,
   "id": "ff6c7f27",
   "metadata": {},
   "outputs": [],
   "source": [
    "sql = '''\n",
    "SELECT \n",
    "    bikeid,\n",
    "    tripduration,\n",
    "    gender\n",
    "FROM\n",
    "  `bigquery-public-data`.new_york_citibike.citibike_trips\n",
    "WHERE gender = \"\"\n",
    "LIMIT 100\n",
    "'''"
   ]
  },
  {
   "cell_type": "code",
   "execution_count": 54,
   "id": "8db455a2",
   "metadata": {},
   "outputs": [
    {
     "data": {
      "text/html": [
       "<div>\n",
       "<style scoped>\n",
       "    .dataframe tbody tr th:only-of-type {\n",
       "        vertical-align: middle;\n",
       "    }\n",
       "\n",
       "    .dataframe tbody tr th {\n",
       "        vertical-align: top;\n",
       "    }\n",
       "\n",
       "    .dataframe thead th {\n",
       "        text-align: right;\n",
       "    }\n",
       "</style>\n",
       "<table border=\"1\" class=\"dataframe\">\n",
       "  <thead>\n",
       "    <tr style=\"text-align: right;\">\n",
       "      <th></th>\n",
       "      <th>bikeid</th>\n",
       "      <th>tripduration</th>\n",
       "      <th>gender</th>\n",
       "    </tr>\n",
       "  </thead>\n",
       "  <tbody>\n",
       "    <tr>\n",
       "      <th>0</th>\n",
       "      <td>&lt;NA&gt;</td>\n",
       "      <td>&lt;NA&gt;</td>\n",
       "      <td></td>\n",
       "    </tr>\n",
       "    <tr>\n",
       "      <th>1</th>\n",
       "      <td>&lt;NA&gt;</td>\n",
       "      <td>&lt;NA&gt;</td>\n",
       "      <td></td>\n",
       "    </tr>\n",
       "    <tr>\n",
       "      <th>2</th>\n",
       "      <td>&lt;NA&gt;</td>\n",
       "      <td>&lt;NA&gt;</td>\n",
       "      <td></td>\n",
       "    </tr>\n",
       "    <tr>\n",
       "      <th>3</th>\n",
       "      <td>&lt;NA&gt;</td>\n",
       "      <td>&lt;NA&gt;</td>\n",
       "      <td></td>\n",
       "    </tr>\n",
       "    <tr>\n",
       "      <th>4</th>\n",
       "      <td>&lt;NA&gt;</td>\n",
       "      <td>&lt;NA&gt;</td>\n",
       "      <td></td>\n",
       "    </tr>\n",
       "    <tr>\n",
       "      <th>...</th>\n",
       "      <td>...</td>\n",
       "      <td>...</td>\n",
       "      <td>...</td>\n",
       "    </tr>\n",
       "    <tr>\n",
       "      <th>95</th>\n",
       "      <td>&lt;NA&gt;</td>\n",
       "      <td>&lt;NA&gt;</td>\n",
       "      <td></td>\n",
       "    </tr>\n",
       "    <tr>\n",
       "      <th>96</th>\n",
       "      <td>&lt;NA&gt;</td>\n",
       "      <td>&lt;NA&gt;</td>\n",
       "      <td></td>\n",
       "    </tr>\n",
       "    <tr>\n",
       "      <th>97</th>\n",
       "      <td>&lt;NA&gt;</td>\n",
       "      <td>&lt;NA&gt;</td>\n",
       "      <td></td>\n",
       "    </tr>\n",
       "    <tr>\n",
       "      <th>98</th>\n",
       "      <td>&lt;NA&gt;</td>\n",
       "      <td>&lt;NA&gt;</td>\n",
       "      <td></td>\n",
       "    </tr>\n",
       "    <tr>\n",
       "      <th>99</th>\n",
       "      <td>&lt;NA&gt;</td>\n",
       "      <td>&lt;NA&gt;</td>\n",
       "      <td></td>\n",
       "    </tr>\n",
       "  </tbody>\n",
       "</table>\n",
       "<p>100 rows × 3 columns</p>\n",
       "</div>"
      ],
      "text/plain": [
       "    bikeid  tripduration gender\n",
       "0     <NA>          <NA>       \n",
       "1     <NA>          <NA>       \n",
       "2     <NA>          <NA>       \n",
       "3     <NA>          <NA>       \n",
       "4     <NA>          <NA>       \n",
       "..     ...           ...    ...\n",
       "95    <NA>          <NA>       \n",
       "96    <NA>          <NA>       \n",
       "97    <NA>          <NA>       \n",
       "98    <NA>          <NA>       \n",
       "99    <NA>          <NA>       \n",
       "\n",
       "[100 rows x 3 columns]"
      ]
     },
     "execution_count": 54,
     "metadata": {},
     "output_type": "execute_result"
    }
   ],
   "source": [
    "query_job = client.query(sql)\n",
    "df = query_job.to_dataframe()\n",
    "df"
   ]
  },
  {
   "cell_type": "markdown",
   "id": "36433b3a",
   "metadata": {},
   "source": [
    "<br>\n",
    "\n",
    "### SPLIT\n"
   ]
  },
  {
   "cell_type": "code",
   "execution_count": 55,
   "id": "e4fcb255",
   "metadata": {},
   "outputs": [],
   "source": [
    "sql = '''\n",
    "SELECT\n",
    "  city, SPLIT(city, ' ') AS parts\n",
    "FROM (\n",
    "  SELECT * FROM UNNEST([\n",
    "    'Seattle WA', 'New York', 'Singapore'\n",
    "  ]) AS city\n",
    ")\n",
    "'''"
   ]
  },
  {
   "cell_type": "code",
   "execution_count": 56,
   "id": "aaae383f",
   "metadata": {},
   "outputs": [
    {
     "data": {
      "text/html": [
       "<div>\n",
       "<style scoped>\n",
       "    .dataframe tbody tr th:only-of-type {\n",
       "        vertical-align: middle;\n",
       "    }\n",
       "\n",
       "    .dataframe tbody tr th {\n",
       "        vertical-align: top;\n",
       "    }\n",
       "\n",
       "    .dataframe thead th {\n",
       "        text-align: right;\n",
       "    }\n",
       "</style>\n",
       "<table border=\"1\" class=\"dataframe\">\n",
       "  <thead>\n",
       "    <tr style=\"text-align: right;\">\n",
       "      <th></th>\n",
       "      <th>city</th>\n",
       "      <th>parts</th>\n",
       "    </tr>\n",
       "  </thead>\n",
       "  <tbody>\n",
       "    <tr>\n",
       "      <th>0</th>\n",
       "      <td>Seattle WA</td>\n",
       "      <td>[Seattle, WA]</td>\n",
       "    </tr>\n",
       "    <tr>\n",
       "      <th>1</th>\n",
       "      <td>New York</td>\n",
       "      <td>[New, York]</td>\n",
       "    </tr>\n",
       "    <tr>\n",
       "      <th>2</th>\n",
       "      <td>Singapore</td>\n",
       "      <td>[Singapore]</td>\n",
       "    </tr>\n",
       "  </tbody>\n",
       "</table>\n",
       "</div>"
      ],
      "text/plain": [
       "         city          parts\n",
       "0  Seattle WA  [Seattle, WA]\n",
       "1    New York    [New, York]\n",
       "2   Singapore    [Singapore]"
      ]
     },
     "execution_count": 56,
     "metadata": {},
     "output_type": "execute_result"
    }
   ],
   "source": [
    "query_job = client.query(sql)\n",
    "df = query_job.to_dataframe()\n",
    "df"
   ]
  },
  {
   "attachments": {
    "Cap%202024-06-06%2020-02-42-104.png": {
     "image/png": "[encoded data removed]"
    }
   },
   "cell_type": "markdown",
   "id": "c91487b3",
   "metadata": {},
   "source": [
    "![Cap%202024-06-06%2020-02-42-104.png](attachment:Cap%202024-06-06%2020-02-42-104.png)"
   ]
  },
  {
   "cell_type": "markdown",
   "id": "c1cd2910",
   "metadata": {},
   "source": [
    "<br>\n",
    "\n",
    "#### `UNION ALL`"
   ]
  },
  {
   "cell_type": "code",
   "execution_count": 57,
   "id": "9345d83f",
   "metadata": {},
   "outputs": [],
   "source": [
    "sql = '''\n",
    "WITH example AS (\n",
    "  SELECT 'Sat' AS day, 1451 AS numrides, 1018 AS oneways\n",
    "  UNION ALL SELECT 'Sun', 2376, 936\n",
    "  UNION ALL SELECT 'Mon', 1476, 736\n",
    ")\n",
    "\n",
    "SELECT * FROM example\n",
    "WHERE numrides < 2000\n",
    "'''"
   ]
  },
  {
   "cell_type": "code",
   "execution_count": 58,
   "id": "8b9164d0",
   "metadata": {},
   "outputs": [
    {
     "data": {
      "text/html": [
       "<div>\n",
       "<style scoped>\n",
       "    .dataframe tbody tr th:only-of-type {\n",
       "        vertical-align: middle;\n",
       "    }\n",
       "\n",
       "    .dataframe tbody tr th {\n",
       "        vertical-align: top;\n",
       "    }\n",
       "\n",
       "    .dataframe thead th {\n",
       "        text-align: right;\n",
       "    }\n",
       "</style>\n",
       "<table border=\"1\" class=\"dataframe\">\n",
       "  <thead>\n",
       "    <tr style=\"text-align: right;\">\n",
       "      <th></th>\n",
       "      <th>day</th>\n",
       "      <th>numrides</th>\n",
       "      <th>oneways</th>\n",
       "    </tr>\n",
       "  </thead>\n",
       "  <tbody>\n",
       "    <tr>\n",
       "      <th>0</th>\n",
       "      <td>Sat</td>\n",
       "      <td>1451</td>\n",
       "      <td>1018</td>\n",
       "    </tr>\n",
       "    <tr>\n",
       "      <th>1</th>\n",
       "      <td>Mon</td>\n",
       "      <td>1476</td>\n",
       "      <td>736</td>\n",
       "    </tr>\n",
       "  </tbody>\n",
       "</table>\n",
       "</div>"
      ],
      "text/plain": [
       "   day  numrides  oneways\n",
       "0  Sat      1451     1018\n",
       "1  Mon      1476      736"
      ]
     },
     "execution_count": 58,
     "metadata": {},
     "output_type": "execute_result"
    }
   ],
   "source": [
    "query_job = client.query(sql)\n",
    "df = query_job.to_dataframe()\n",
    "df"
   ]
  },
  {
   "cell_type": "markdown",
   "id": "e4321b23",
   "metadata": {},
   "source": [
    "<br>\n",
    "\n",
    "### 배열과 구조체\n",
    "\n",
    "<br>\n",
    "\n",
    "#### `ARRAY_AGG`\n",
    "- 배열 생성\n",
    "\n",
    "<br>\n",
    "\n",
    "- `gender`별로 값을 배열화"
   ]
  },
  {
   "cell_type": "code",
   "execution_count": 59,
   "id": "ca80abd1",
   "metadata": {},
   "outputs": [],
   "source": [
    "sql = '''\n",
    "SELECT \n",
    "  gender\n",
    "  , ARRAY_AGG(numtrips order by year) AS numtrips\n",
    "FROM (\n",
    "  SELECT\n",
    "    gender\n",
    "    , EXTRACT(YEAR FROM starttime) AS year\n",
    "    , COUNT(1) AS numtrips\n",
    "  FROM\n",
    "    `bigquery-public-data`.new_york_citibike.citibike_trips\n",
    "  WHERE gender != 'unknown' AND starttime IS NOT NULL\n",
    "  GROUP BY gender, year\n",
    "  HAVING year > 2016\n",
    ")\n",
    "GROUP BY gender\n",
    "'''"
   ]
  },
  {
   "cell_type": "code",
   "execution_count": 60,
   "id": "4eabab79",
   "metadata": {},
   "outputs": [
    {
     "data": {
      "text/html": [
       "<div>\n",
       "<style scoped>\n",
       "    .dataframe tbody tr th:only-of-type {\n",
       "        vertical-align: middle;\n",
       "    }\n",
       "\n",
       "    .dataframe tbody tr th {\n",
       "        vertical-align: top;\n",
       "    }\n",
       "\n",
       "    .dataframe thead th {\n",
       "        text-align: right;\n",
       "    }\n",
       "</style>\n",
       "<table border=\"1\" class=\"dataframe\">\n",
       "  <thead>\n",
       "    <tr style=\"text-align: right;\">\n",
       "      <th></th>\n",
       "      <th>gender</th>\n",
       "      <th>numtrips</th>\n",
       "    </tr>\n",
       "  </thead>\n",
       "  <tbody>\n",
       "    <tr>\n",
       "      <th>0</th>\n",
       "      <td>female</td>\n",
       "      <td>[3236735, 1260893]</td>\n",
       "    </tr>\n",
       "    <tr>\n",
       "      <th>1</th>\n",
       "      <td>male</td>\n",
       "      <td>[9306602, 3955871]</td>\n",
       "    </tr>\n",
       "  </tbody>\n",
       "</table>\n",
       "</div>"
      ],
      "text/plain": [
       "   gender            numtrips\n",
       "0  female  [3236735, 1260893]\n",
       "1    male  [9306602, 3955871]"
      ]
     },
     "execution_count": 60,
     "metadata": {},
     "output_type": "execute_result"
    }
   ],
   "source": [
    "query_job = client.query(sql)\n",
    "df = query_job.to_dataframe()\n",
    "df"
   ]
  },
  {
   "attachments": {
    "Cap%202024-06-06%2020-06-08-617.png": {
     "image/png": "[encoded data removed]"
    }
   },
   "cell_type": "markdown",
   "id": "3549f169",
   "metadata": {},
   "source": [
    "![Cap%202024-06-06%2020-06-08-617.png](attachment:Cap%202024-06-06%2020-06-08-617.png)"
   ]
  },
  {
   "cell_type": "markdown",
   "id": "beb13401",
   "metadata": {},
   "source": [
    "<br>\n",
    "\n",
    "- 빅쿼리는 JSON과 같은 계층 형식의 데이터를 수집할 수 있으므로,\n",
    "    \n",
    "    다음과 같은 JSON 배열도 입력 데이터로 사용할 수 있음\n",
    "    \n",
    "\n",
    "- 아래와 같은 JSON 파일을 통하여 테이블을 생성하면, `numtrips` 컬럼이 배열 타입인 테이블이 생성\n",
    "    - 배열은 `NULL`이 아닌 요소의 순서 리스트\n",
    "    \n",
    "- **기술적으로 배열은 `NULL`값을 가질 수 있지만, 그 배열은 테이블에 저장할 수는 없음**"
   ]
  },
  {
   "cell_type": "code",
   "execution_count": 61,
   "id": "3a703a92",
   "metadata": {},
   "outputs": [
    {
     "data": {
      "text/plain": [
       "[{'gender': 'female', 'numtrips': ['3236735', '1260893']},\n",
       " {'gender': 'male', 'numtrips': ['9306602', '3955871']}]"
      ]
     },
     "execution_count": 61,
     "metadata": {},
     "output_type": "execute_result"
    }
   ],
   "source": [
    "[{\n",
    "  \"gender\": \"female\",\n",
    "  \"numtrips\": [\"3236735\", \"1260893\"]\n",
    "}, {\n",
    "  \"gender\": \"male\",\n",
    "  \"numtrips\": [\"9306602\", \"3955871\"]\n",
    "}]"
   ]
  },
  {
   "cell_type": "markdown",
   "id": "b1ffeba6",
   "metadata": {},
   "source": [
    "<br>\n",
    "\n",
    "#### `STRUCT`\n",
    "- **구조체 (`STRUCT`)는 순서를 갖는 필드의 그룹**\n",
    "- 필드에는 원하는 이름을 지정할 수 있으며, 가독성을 위해서라도 이름을 지정하는 것을 지양\n"
   ]
  },
  {
   "cell_type": "code",
   "execution_count": 62,
   "id": "1c0444c2",
   "metadata": {},
   "outputs": [],
   "source": [
    "sql = '''\n",
    "SELECT \n",
    "  [\n",
    "    STRUCT('male' AS gender, [9306602, 3955871] AS numtrips)\n",
    "    , STRUCT('female' AS gender, [3236735, 1260893] AS numtrips)\n",
    "  ] AS bikerides\n",
    "'''"
   ]
  },
  {
   "cell_type": "code",
   "execution_count": 63,
   "id": "9cd6bcfc",
   "metadata": {},
   "outputs": [
    {
     "data": {
      "text/html": [
       "<div>\n",
       "<style scoped>\n",
       "    .dataframe tbody tr th:only-of-type {\n",
       "        vertical-align: middle;\n",
       "    }\n",
       "\n",
       "    .dataframe tbody tr th {\n",
       "        vertical-align: top;\n",
       "    }\n",
       "\n",
       "    .dataframe thead th {\n",
       "        text-align: right;\n",
       "    }\n",
       "</style>\n",
       "<table border=\"1\" class=\"dataframe\">\n",
       "  <thead>\n",
       "    <tr style=\"text-align: right;\">\n",
       "      <th></th>\n",
       "      <th>bikerides</th>\n",
       "    </tr>\n",
       "  </thead>\n",
       "  <tbody>\n",
       "    <tr>\n",
       "      <th>0</th>\n",
       "      <td>[{'gender': 'male', 'numtrips': [9306602, 3955...</td>\n",
       "    </tr>\n",
       "  </tbody>\n",
       "</table>\n",
       "</div>"
      ],
      "text/plain": [
       "                                           bikerides\n",
       "0  [{'gender': 'male', 'numtrips': [9306602, 3955..."
      ]
     },
     "execution_count": 63,
     "metadata": {},
     "output_type": "execute_result"
    }
   ],
   "source": [
    "query_job = client.query(sql)\n",
    "df = query_job.to_dataframe()\n",
    "df"
   ]
  },
  {
   "attachments": {
    "Cap%202024-06-06%2020-17-35-617.png": {
     "image/png": "[encoded data removed]"
    }
   },
   "cell_type": "markdown",
   "id": "a0d963c5",
   "metadata": {},
   "source": [
    "![Cap%202024-06-06%2020-17-35-617.png](attachment:Cap%202024-06-06%2020-17-35-617.png)"
   ]
  },
  {
   "cell_type": "markdown",
   "id": "f589883c",
   "metadata": {},
   "source": [
    "<br>\n",
    "\n",
    "#### 튜플\n",
    "- **`STRUCT` 키워드와 필드 이름을 생략하면, 튜플 또는 익명 구조체 (anonymous struct)가 생성**\n",
    "- 빅쿼리는 쿼리 결과에서 이름이 지정되지 않은 컬럼 및 구조체 필드에 임의의 이름을 할당"
   ]
  },
  {
   "cell_type": "code",
   "execution_count": 64,
   "id": "c08bd221",
   "metadata": {},
   "outputs": [],
   "source": [
    "sql = '''\n",
    "SELECT \n",
    "  [\n",
    "    ('male', [9306602, 3955871])\n",
    "    , ('female', [3236735, 1260893])\n",
    "  ]\n",
    "'''"
   ]
  },
  {
   "cell_type": "code",
   "execution_count": 65,
   "id": "2666109f",
   "metadata": {},
   "outputs": [
    {
     "data": {
      "text/html": [
       "<div>\n",
       "<style scoped>\n",
       "    .dataframe tbody tr th:only-of-type {\n",
       "        vertical-align: middle;\n",
       "    }\n",
       "\n",
       "    .dataframe tbody tr th {\n",
       "        vertical-align: top;\n",
       "    }\n",
       "\n",
       "    .dataframe thead th {\n",
       "        text-align: right;\n",
       "    }\n",
       "</style>\n",
       "<table border=\"1\" class=\"dataframe\">\n",
       "  <thead>\n",
       "    <tr style=\"text-align: right;\">\n",
       "      <th></th>\n",
       "      <th>f0_</th>\n",
       "    </tr>\n",
       "  </thead>\n",
       "  <tbody>\n",
       "    <tr>\n",
       "      <th>0</th>\n",
       "      <td>[{'_field_1': 'male', '_field_2': [9306602, 39...</td>\n",
       "    </tr>\n",
       "  </tbody>\n",
       "</table>\n",
       "</div>"
      ],
      "text/plain": [
       "                                                 f0_\n",
       "0  [{'_field_1': 'male', '_field_2': [9306602, 39..."
      ]
     },
     "execution_count": 65,
     "metadata": {},
     "output_type": "execute_result"
    }
   ],
   "source": [
    "query_job = client.query(sql)\n",
    "df = query_job.to_dataframe()\n",
    "df"
   ]
  },
  {
   "attachments": {
    "Cap%202024-06-06%2020-19-39-170.png": {
     "image/png": "[encoded data removed]"
    }
   },
   "cell_type": "markdown",
   "id": "ee877ca8",
   "metadata": {},
   "source": [
    "![Cap%202024-06-06%2020-19-39-170.png](attachment:Cap%202024-06-06%2020-19-39-170.png)"
   ]
  },
  {
   "cell_type": "markdown",
   "id": "8895ce93",
   "metadata": {},
   "source": [
    "<br>\n",
    "\n",
    "#### 배열의 활용\n",
    "- 배열을 생성하여, 배열의 길이와, 배열 내의 개별 항목을 탐색\n",
    "    - **`ARRAY_LENGTH()` : 배열의 길이**\n",
    "    - **`OFFSET(0)`은 배열의 첫 번째 값을 의미**"
   ]
  },
  {
   "cell_type": "code",
   "execution_count": 66,
   "id": "2c64416c",
   "metadata": {},
   "outputs": [],
   "source": [
    "sql = '''\n",
    "SELECT \n",
    "  ARRAY_LENGTH(bikerides) AS num_items\n",
    "  , bikerides[ OFFSET(0) ].gender AS first_gender\n",
    "FROM\n",
    "(SELECT \n",
    "  [\n",
    "    STRUCT('male' AS gender, [9306602, 3955871] AS numtrips)\n",
    "    , STRUCT('female' AS gender, [3236735, 1260893] AS numtrips)\n",
    "  ] AS bikerides)\n",
    "'''"
   ]
  },
  {
   "cell_type": "code",
   "execution_count": 67,
   "id": "827a81d2",
   "metadata": {},
   "outputs": [
    {
     "data": {
      "text/html": [
       "<div>\n",
       "<style scoped>\n",
       "    .dataframe tbody tr th:only-of-type {\n",
       "        vertical-align: middle;\n",
       "    }\n",
       "\n",
       "    .dataframe tbody tr th {\n",
       "        vertical-align: top;\n",
       "    }\n",
       "\n",
       "    .dataframe thead th {\n",
       "        text-align: right;\n",
       "    }\n",
       "</style>\n",
       "<table border=\"1\" class=\"dataframe\">\n",
       "  <thead>\n",
       "    <tr style=\"text-align: right;\">\n",
       "      <th></th>\n",
       "      <th>num_items</th>\n",
       "      <th>first_gender</th>\n",
       "    </tr>\n",
       "  </thead>\n",
       "  <tbody>\n",
       "    <tr>\n",
       "      <th>0</th>\n",
       "      <td>2</td>\n",
       "      <td>male</td>\n",
       "    </tr>\n",
       "  </tbody>\n",
       "</table>\n",
       "</div>"
      ],
      "text/plain": [
       "   num_items first_gender\n",
       "0          2         male"
      ]
     },
     "execution_count": 67,
     "metadata": {},
     "output_type": "execute_result"
    }
   ],
   "source": [
    "query_job = client.query(sql)\n",
    "df = query_job.to_dataframe()\n",
    "df"
   ]
  },
  {
   "cell_type": "markdown",
   "id": "4b5e68c3",
   "metadata": {},
   "source": [
    "<br>\n",
    "\n",
    "#### `UNNEST`\n",
    "- **배열의 요소를 행으로 반환**"
   ]
  },
  {
   "cell_type": "code",
   "execution_count": 70,
   "id": "20aa82b8",
   "metadata": {},
   "outputs": [],
   "source": [
    "sql = '''\n",
    "SELECT * FROM UNNEST(\n",
    "  [\n",
    "    STRUCT('male' AS gender, [9306602, 3955871] AS numtrips)\n",
    "    , STRUCT('female' AS gender, [3236735, 1260893] AS numtrips)\n",
    "  ])\n",
    "'''"
   ]
  },
  {
   "cell_type": "code",
   "execution_count": 71,
   "id": "826c39f5",
   "metadata": {},
   "outputs": [
    {
     "data": {
      "text/html": [
       "<div>\n",
       "<style scoped>\n",
       "    .dataframe tbody tr th:only-of-type {\n",
       "        vertical-align: middle;\n",
       "    }\n",
       "\n",
       "    .dataframe tbody tr th {\n",
       "        vertical-align: top;\n",
       "    }\n",
       "\n",
       "    .dataframe thead th {\n",
       "        text-align: right;\n",
       "    }\n",
       "</style>\n",
       "<table border=\"1\" class=\"dataframe\">\n",
       "  <thead>\n",
       "    <tr style=\"text-align: right;\">\n",
       "      <th></th>\n",
       "      <th>gender</th>\n",
       "      <th>numtrips</th>\n",
       "    </tr>\n",
       "  </thead>\n",
       "  <tbody>\n",
       "    <tr>\n",
       "      <th>0</th>\n",
       "      <td>male</td>\n",
       "      <td>[9306602, 3955871]</td>\n",
       "    </tr>\n",
       "    <tr>\n",
       "      <th>1</th>\n",
       "      <td>female</td>\n",
       "      <td>[3236735, 1260893]</td>\n",
       "    </tr>\n",
       "  </tbody>\n",
       "</table>\n",
       "</div>"
      ],
      "text/plain": [
       "   gender            numtrips\n",
       "0    male  [9306602, 3955871]\n",
       "1  female  [3236735, 1260893]"
      ]
     },
     "execution_count": 71,
     "metadata": {},
     "output_type": "execute_result"
    }
   ],
   "source": [
    "query_job = client.query(sql)\n",
    "df = query_job.to_dataframe()\n",
    "df"
   ]
  },
  {
   "attachments": {
    "Cap%202024-06-06%2020-24-41-686.png": {
     "image/png": "[encoded data removed]"
    }
   },
   "cell_type": "markdown",
   "id": "68b90801",
   "metadata": {},
   "source": [
    "![Cap%202024-06-06%2020-24-41-686.png](attachment:Cap%202024-06-06%2020-24-41-686.png)"
   ]
  },
  {
   "cell_type": "markdown",
   "id": "f8b42a2d",
   "metadata": {},
   "source": [
    "<br>"
   ]
  },
  {
   "cell_type": "code",
   "execution_count": 68,
   "id": "d532bfad",
   "metadata": {},
   "outputs": [],
   "source": [
    "sql = '''\n",
    "SELECT numtrips FROM UNNEST(\n",
    "  [\n",
    "    STRUCT('male' AS gender, [9306602, 3955871] AS numtrips)\n",
    "    , STRUCT('female' AS gender, [3236735, 1260893] AS numtrips)\n",
    "  ])\n",
    "'''"
   ]
  },
  {
   "cell_type": "code",
   "execution_count": 69,
   "id": "95fe3072",
   "metadata": {},
   "outputs": [
    {
     "data": {
      "text/html": [
       "<div>\n",
       "<style scoped>\n",
       "    .dataframe tbody tr th:only-of-type {\n",
       "        vertical-align: middle;\n",
       "    }\n",
       "\n",
       "    .dataframe tbody tr th {\n",
       "        vertical-align: top;\n",
       "    }\n",
       "\n",
       "    .dataframe thead th {\n",
       "        text-align: right;\n",
       "    }\n",
       "</style>\n",
       "<table border=\"1\" class=\"dataframe\">\n",
       "  <thead>\n",
       "    <tr style=\"text-align: right;\">\n",
       "      <th></th>\n",
       "      <th>numtrips</th>\n",
       "    </tr>\n",
       "  </thead>\n",
       "  <tbody>\n",
       "    <tr>\n",
       "      <th>0</th>\n",
       "      <td>[9306602, 3955871]</td>\n",
       "    </tr>\n",
       "    <tr>\n",
       "      <th>1</th>\n",
       "      <td>[3236735, 1260893]</td>\n",
       "    </tr>\n",
       "  </tbody>\n",
       "</table>\n",
       "</div>"
      ],
      "text/plain": [
       "             numtrips\n",
       "0  [9306602, 3955871]\n",
       "1  [3236735, 1260893]"
      ]
     },
     "execution_count": 69,
     "metadata": {},
     "output_type": "execute_result"
    }
   ],
   "source": [
    "query_job = client.query(sql)\n",
    "df = query_job.to_dataframe()\n",
    "df"
   ]
  },
  {
   "attachments": {
    "Cap%202024-06-06%2020-22-49-711.png": {
     "image/png": "[encoded data removed]"
    }
   },
   "cell_type": "markdown",
   "id": "30ebd6fb",
   "metadata": {},
   "source": [
    "![Cap%202024-06-06%2020-22-49-711.png](attachment:Cap%202024-06-06%2020-22-49-711.png)"
   ]
  },
  {
   "cell_type": "markdown",
   "id": "c638d624",
   "metadata": {},
   "source": [
    "<br>\n",
    "\n",
    "### 테이블 `JOIN`\n",
    "\n",
    "- **`JOIN`의 유형을 지정하지 않으면 `INNER JOIN`이 기본적으로 사용**"
   ]
  },
  {
   "cell_type": "markdown",
   "id": "22da9b93",
   "metadata": {},
   "source": [
    "- 두 테이블의 데이터를 날짜별로 JOIN"
   ]
  },
  {
   "cell_type": "code",
   "execution_count": 86,
   "id": "1c8af154",
   "metadata": {},
   "outputs": [],
   "source": [
    "sql = '''\n",
    "WITH bicycle_rentals AS (\n",
    "  SELECT\n",
    "    COUNT(starttime) AS num_trips,\n",
    "    EXTRACT(DATE FROM starttime) AS trip_date\n",
    "  FROM `bigquery-public-data`.new_york_citibike.citibike_trips\n",
    "  GROUP BY trip_date\n",
    "),\n",
    "\n",
    "rainy_days AS\n",
    "(\n",
    "SELECT\n",
    "  date,\n",
    "  (MAX(prcp) > 5) AS rainy\n",
    "FROM (\n",
    "  SELECT\n",
    "    wx.date AS date,\n",
    "    IF (wx.element = 'PRCP', wx.value/10, NULL) AS prcp\n",
    "  FROM\n",
    "    `bigquery-public-data.ghcn_d.ghcnd_2016` AS wx\n",
    "  WHERE\n",
    "    wx.id = 'USW00094728'\n",
    ")\n",
    "GROUP BY\n",
    "  date\n",
    ")\n",
    "\n",
    "SELECT\n",
    "  bk.trip_date,\n",
    "  bk.num_trips,\n",
    "  wx.rainy\n",
    "FROM bicycle_rentals AS bk\n",
    "JOIN rainy_days AS wx\n",
    "ON wx.date = bk.trip_date\n",
    "LIMIT 5\n",
    "'''"
   ]
  },
  {
   "cell_type": "code",
   "execution_count": 87,
   "id": "fbd81ffa",
   "metadata": {},
   "outputs": [
    {
     "data": {
      "text/html": [
       "<div>\n",
       "<style scoped>\n",
       "    .dataframe tbody tr th:only-of-type {\n",
       "        vertical-align: middle;\n",
       "    }\n",
       "\n",
       "    .dataframe tbody tr th {\n",
       "        vertical-align: top;\n",
       "    }\n",
       "\n",
       "    .dataframe thead th {\n",
       "        text-align: right;\n",
       "    }\n",
       "</style>\n",
       "<table border=\"1\" class=\"dataframe\">\n",
       "  <thead>\n",
       "    <tr style=\"text-align: right;\">\n",
       "      <th></th>\n",
       "      <th>trip_date</th>\n",
       "      <th>num_trips</th>\n",
       "      <th>rainy</th>\n",
       "    </tr>\n",
       "  </thead>\n",
       "  <tbody>\n",
       "    <tr>\n",
       "      <th>0</th>\n",
       "      <td>2016-04-22</td>\n",
       "      <td>48815</td>\n",
       "      <td>False</td>\n",
       "    </tr>\n",
       "    <tr>\n",
       "      <th>1</th>\n",
       "      <td>2016-08-04</td>\n",
       "      <td>56604</td>\n",
       "      <td>False</td>\n",
       "    </tr>\n",
       "    <tr>\n",
       "      <th>2</th>\n",
       "      <td>2016-03-16</td>\n",
       "      <td>36067</td>\n",
       "      <td>False</td>\n",
       "    </tr>\n",
       "    <tr>\n",
       "      <th>3</th>\n",
       "      <td>2016-08-22</td>\n",
       "      <td>54404</td>\n",
       "      <td>False</td>\n",
       "    </tr>\n",
       "    <tr>\n",
       "      <th>4</th>\n",
       "      <td>2016-01-29</td>\n",
       "      <td>16028</td>\n",
       "      <td>False</td>\n",
       "    </tr>\n",
       "  </tbody>\n",
       "</table>\n",
       "</div>"
      ],
      "text/plain": [
       "    trip_date  num_trips  rainy\n",
       "0  2016-04-22      48815  False\n",
       "1  2016-08-04      56604  False\n",
       "2  2016-03-16      36067  False\n",
       "3  2016-08-22      54404  False\n",
       "4  2016-01-29      16028  False"
      ]
     },
     "execution_count": 87,
     "metadata": {},
     "output_type": "execute_result"
    }
   ],
   "source": [
    "query_job = client.query(sql)\n",
    "df = query_job.to_dataframe()\n",
    "df"
   ]
  },
  {
   "cell_type": "markdown",
   "id": "f40844ed",
   "metadata": {},
   "source": [
    "<br>\n",
    "\n",
    "#### `INNER JOIN`\n",
    "- `JOIN`조건에 동등성 검사를 할 필요는 없음\n",
    "- 빅쿼리는 `JOIN`을 효율적으로 실행할 수 없을 때, 오류를 반환하므로,\n",
    "    \n",
    "    가능한 동등 조건을 사용하는 것이 좋지만, 기본적으로는 어떤 Boolean 조건도 사용 가능"
   ]
  },
  {
   "cell_type": "code",
   "execution_count": 88,
   "id": "32f0817a",
   "metadata": {},
   "outputs": [],
   "source": [
    "sql = '''\n",
    "WITH from_item_a AS (\n",
    "  SELECT 'Dalles' AS city, 'OR' AS state\n",
    "  UNION ALL SELECT 'Tokyo', 'Tokyo'\n",
    "  UNION ALL SELECT 'Mumbai', 'Maharashtra'\n",
    "),\n",
    "\n",
    "from_item_b AS (\n",
    "  SELECT 'OR' AS state, 'USA' AS country\n",
    "  UNION ALL SELECT 'Tokyo', 'Japan'\n",
    "  UNION ALL SELECT 'Maharashtra', 'India'\n",
    ")\n",
    "\n",
    "SELECT from_item_a.*, country\n",
    "FROM from_item_a\n",
    "JOIN from_item_b\n",
    "ON from_item_a.state = from_item_b.state\n",
    "'''"
   ]
  },
  {
   "cell_type": "code",
   "execution_count": 92,
   "id": "20beacf3",
   "metadata": {},
   "outputs": [
    {
     "data": {
      "text/html": [
       "<div>\n",
       "<style scoped>\n",
       "    .dataframe tbody tr th:only-of-type {\n",
       "        vertical-align: middle;\n",
       "    }\n",
       "\n",
       "    .dataframe tbody tr th {\n",
       "        vertical-align: top;\n",
       "    }\n",
       "\n",
       "    .dataframe thead th {\n",
       "        text-align: right;\n",
       "    }\n",
       "</style>\n",
       "<table border=\"1\" class=\"dataframe\">\n",
       "  <thead>\n",
       "    <tr style=\"text-align: right;\">\n",
       "      <th></th>\n",
       "      <th>city</th>\n",
       "      <th>state</th>\n",
       "      <th>surcharge</th>\n",
       "    </tr>\n",
       "  </thead>\n",
       "  <tbody>\n",
       "    <tr>\n",
       "      <th>0</th>\n",
       "      <td>Dalles</td>\n",
       "      <td>OR</td>\n",
       "      <td>Japan</td>\n",
       "    </tr>\n",
       "    <tr>\n",
       "      <th>1</th>\n",
       "      <td>Dalles</td>\n",
       "      <td>OR</td>\n",
       "      <td>India</td>\n",
       "    </tr>\n",
       "    <tr>\n",
       "      <th>2</th>\n",
       "      <td>Tokyo</td>\n",
       "      <td>Tokyo</td>\n",
       "      <td>USA</td>\n",
       "    </tr>\n",
       "    <tr>\n",
       "      <th>3</th>\n",
       "      <td>Tokyo</td>\n",
       "      <td>Tokyo</td>\n",
       "      <td>India</td>\n",
       "    </tr>\n",
       "    <tr>\n",
       "      <th>4</th>\n",
       "      <td>Mumbai</td>\n",
       "      <td>Maharashtra</td>\n",
       "      <td>USA</td>\n",
       "    </tr>\n",
       "    <tr>\n",
       "      <th>5</th>\n",
       "      <td>Mumbai</td>\n",
       "      <td>Maharashtra</td>\n",
       "      <td>Japan</td>\n",
       "    </tr>\n",
       "  </tbody>\n",
       "</table>\n",
       "</div>"
      ],
      "text/plain": [
       "     city        state surcharge\n",
       "0  Dalles           OR     Japan\n",
       "1  Dalles           OR     India\n",
       "2   Tokyo        Tokyo       USA\n",
       "3   Tokyo        Tokyo     India\n",
       "4  Mumbai  Maharashtra       USA\n",
       "5  Mumbai  Maharashtra     Japan"
      ]
     },
     "execution_count": 92,
     "metadata": {},
     "output_type": "execute_result"
    }
   ],
   "source": [
    "query_job = client.query(sql)\n",
    "df = query_job.to_dataframe()\n",
    "df"
   ]
  },
  {
   "cell_type": "markdown",
   "id": "c8c80708",
   "metadata": {},
   "source": [
    "<br>\n",
    "\n",
    "#### `CROSS JOIN`\n",
    "- **`CROSS JOIN` (곱집합)은 `JOIN` 조건이 없으며, 결합 대상의 모든 행이 결합**\n"
   ]
  },
  {
   "cell_type": "code",
   "execution_count": 95,
   "id": "d2e60a11",
   "metadata": {},
   "outputs": [],
   "source": [
    "sql = '''\n",
    "WITH winners AS (\n",
    "  SELECT 'John' AS person, '100m' AS event\n",
    "  UNION ALL SELECT 'Hiroshi', '200m'\n",
    "  UNION ALL SELECT 'Sita', '400m'\n",
    "),\n",
    "gifts AS (\n",
    "  SELECT 'Google Home' AS gift\n",
    "  UNION ALL SELECT 'Google Hub'\n",
    "  UNION ALL SELECT 'Pixel3'\n",
    ")\n",
    "\n",
    "SELECT person, gift\n",
    "FROM winners\n",
    "CROSS JOIN gifts\n",
    "'''"
   ]
  },
  {
   "cell_type": "code",
   "execution_count": 96,
   "id": "1cc7300a",
   "metadata": {},
   "outputs": [
    {
     "data": {
      "text/html": [
       "<div>\n",
       "<style scoped>\n",
       "    .dataframe tbody tr th:only-of-type {\n",
       "        vertical-align: middle;\n",
       "    }\n",
       "\n",
       "    .dataframe tbody tr th {\n",
       "        vertical-align: top;\n",
       "    }\n",
       "\n",
       "    .dataframe thead th {\n",
       "        text-align: right;\n",
       "    }\n",
       "</style>\n",
       "<table border=\"1\" class=\"dataframe\">\n",
       "  <thead>\n",
       "    <tr style=\"text-align: right;\">\n",
       "      <th></th>\n",
       "      <th>person</th>\n",
       "      <th>gift</th>\n",
       "    </tr>\n",
       "  </thead>\n",
       "  <tbody>\n",
       "    <tr>\n",
       "      <th>0</th>\n",
       "      <td>John</td>\n",
       "      <td>Google Home</td>\n",
       "    </tr>\n",
       "    <tr>\n",
       "      <th>1</th>\n",
       "      <td>John</td>\n",
       "      <td>Google Hub</td>\n",
       "    </tr>\n",
       "    <tr>\n",
       "      <th>2</th>\n",
       "      <td>John</td>\n",
       "      <td>Pixel3</td>\n",
       "    </tr>\n",
       "    <tr>\n",
       "      <th>3</th>\n",
       "      <td>Hiroshi</td>\n",
       "      <td>Google Home</td>\n",
       "    </tr>\n",
       "    <tr>\n",
       "      <th>4</th>\n",
       "      <td>Hiroshi</td>\n",
       "      <td>Google Hub</td>\n",
       "    </tr>\n",
       "    <tr>\n",
       "      <th>5</th>\n",
       "      <td>Hiroshi</td>\n",
       "      <td>Pixel3</td>\n",
       "    </tr>\n",
       "    <tr>\n",
       "      <th>6</th>\n",
       "      <td>Sita</td>\n",
       "      <td>Google Home</td>\n",
       "    </tr>\n",
       "    <tr>\n",
       "      <th>7</th>\n",
       "      <td>Sita</td>\n",
       "      <td>Google Hub</td>\n",
       "    </tr>\n",
       "    <tr>\n",
       "      <th>8</th>\n",
       "      <td>Sita</td>\n",
       "      <td>Pixel3</td>\n",
       "    </tr>\n",
       "  </tbody>\n",
       "</table>\n",
       "</div>"
      ],
      "text/plain": [
       "    person         gift\n",
       "0     John  Google Home\n",
       "1     John   Google Hub\n",
       "2     John       Pixel3\n",
       "3  Hiroshi  Google Home\n",
       "4  Hiroshi   Google Hub\n",
       "5  Hiroshi       Pixel3\n",
       "6     Sita  Google Home\n",
       "7     Sita   Google Hub\n",
       "8     Sita       Pixel3"
      ]
     },
     "execution_count": 96,
     "metadata": {},
     "output_type": "execute_result"
    }
   ],
   "source": [
    "query_job = client.query(sql)\n",
    "df = query_job.to_dataframe()\n",
    "df"
   ]
  },
  {
   "cell_type": "markdown",
   "id": "12ea00bb",
   "metadata": {},
   "source": [
    "<br>\n",
    "\n",
    "- `CROSS JOIN`은 명시적으로 작성하여 사용할 수도 있지만, 쉼표를 이용하면 더 간단하게 작성 가능"
   ]
  },
  {
   "cell_type": "markdown",
   "id": "55054655",
   "metadata": {},
   "source": [
    "\n",
    "``` SQL\n",
    "SELECT preson, gift\n",
    "FROM winners, gifts\n",
    "```"
   ]
  },
  {
   "cell_type": "markdown",
   "id": "5c08acb0",
   "metadata": {},
   "source": [
    "<br>\n",
    "\n",
    "#### `OUTER JOIN`\n"
   ]
  },
  {
   "cell_type": "markdown",
   "id": "b59d1a03",
   "metadata": {},
   "source": [
    "<br>\n",
    "\n"
   ]
  },
  {
   "cell_type": "markdown",
   "id": "44d21dde",
   "metadata": {},
   "source": [
    "- 두 테이블에 대한 `JOIN`"
   ]
  },
  {
   "cell_type": "code",
   "execution_count": 105,
   "id": "cb5eb050",
   "metadata": {},
   "outputs": [
    {
     "data": {
      "text/html": [
       "<div>\n",
       "<style scoped>\n",
       "    .dataframe tbody tr th:only-of-type {\n",
       "        vertical-align: middle;\n",
       "    }\n",
       "\n",
       "    .dataframe tbody tr th {\n",
       "        vertical-align: top;\n",
       "    }\n",
       "\n",
       "    .dataframe thead th {\n",
       "        text-align: right;\n",
       "    }\n",
       "</style>\n",
       "<table border=\"1\" class=\"dataframe\">\n",
       "  <thead>\n",
       "    <tr style=\"text-align: right;\">\n",
       "      <th></th>\n",
       "      <th>person</th>\n",
       "      <th>event</th>\n",
       "    </tr>\n",
       "  </thead>\n",
       "  <tbody>\n",
       "    <tr>\n",
       "      <th>0</th>\n",
       "      <td>John</td>\n",
       "      <td>100m</td>\n",
       "    </tr>\n",
       "    <tr>\n",
       "      <th>1</th>\n",
       "      <td>Hiroshi</td>\n",
       "      <td>200m</td>\n",
       "    </tr>\n",
       "    <tr>\n",
       "      <th>2</th>\n",
       "      <td>Sita</td>\n",
       "      <td>400m</td>\n",
       "    </tr>\n",
       "    <tr>\n",
       "      <th>3</th>\n",
       "      <td>Kwame</td>\n",
       "      <td>50m</td>\n",
       "    </tr>\n",
       "  </tbody>\n",
       "</table>\n",
       "</div>"
      ],
      "text/plain": [
       "    person event\n",
       "0     John  100m\n",
       "1  Hiroshi  200m\n",
       "2     Sita  400m\n",
       "3    Kwame   50m"
      ]
     },
     "execution_count": 105,
     "metadata": {},
     "output_type": "execute_result"
    }
   ],
   "source": [
    "sql = '''\n",
    "SELECT 'John' AS person, '100m' AS event\n",
    "  UNION ALL SELECT 'Hiroshi', '200m'\n",
    "  UNION ALL SELECT 'Sita', '400m'\n",
    "  UNION ALL SELECT 'Kwame', '50m'\n",
    "'''\n",
    "query_job = client.query(sql)\n",
    "df = query_job.to_dataframe()\n",
    "df"
   ]
  },
  {
   "cell_type": "code",
   "execution_count": 107,
   "id": "378cbf74",
   "metadata": {},
   "outputs": [
    {
     "data": {
      "text/html": [
       "<div>\n",
       "<style scoped>\n",
       "    .dataframe tbody tr th:only-of-type {\n",
       "        vertical-align: middle;\n",
       "    }\n",
       "\n",
       "    .dataframe tbody tr th {\n",
       "        vertical-align: top;\n",
       "    }\n",
       "\n",
       "    .dataframe thead th {\n",
       "        text-align: right;\n",
       "    }\n",
       "</style>\n",
       "<table border=\"1\" class=\"dataframe\">\n",
       "  <thead>\n",
       "    <tr style=\"text-align: right;\">\n",
       "      <th></th>\n",
       "      <th>gift</th>\n",
       "      <th>event</th>\n",
       "    </tr>\n",
       "  </thead>\n",
       "  <tbody>\n",
       "    <tr>\n",
       "      <th>0</th>\n",
       "      <td>Google Home</td>\n",
       "      <td>100m</td>\n",
       "    </tr>\n",
       "    <tr>\n",
       "      <th>1</th>\n",
       "      <td>Google Hub</td>\n",
       "      <td>200m</td>\n",
       "    </tr>\n",
       "    <tr>\n",
       "      <th>2</th>\n",
       "      <td>Pixel3</td>\n",
       "      <td>400m</td>\n",
       "    </tr>\n",
       "    <tr>\n",
       "      <th>3</th>\n",
       "      <td>Google Mini</td>\n",
       "      <td>5000m</td>\n",
       "    </tr>\n",
       "  </tbody>\n",
       "</table>\n",
       "</div>"
      ],
      "text/plain": [
       "          gift  event\n",
       "0  Google Home   100m\n",
       "1   Google Hub   200m\n",
       "2       Pixel3   400m\n",
       "3  Google Mini  5000m"
      ]
     },
     "execution_count": 107,
     "metadata": {},
     "output_type": "execute_result"
    }
   ],
   "source": [
    "sql = '''\n",
    "SELECT 'Google Home' AS gift, '100m' AS event\n",
    "  UNION ALL SELECT 'Google Hub', '200m'\n",
    "  UNION ALL SELECT 'Pixel3', '400m'\n",
    "  UNION ALL SELECT 'Google Mini', '5000m'\n",
    "'''\n",
    "query_job = client.query(sql)\n",
    "df = query_job.to_dataframe()\n",
    "df"
   ]
  },
  {
   "cell_type": "markdown",
   "id": "5dc43814",
   "metadata": {},
   "source": [
    "<br>\n",
    "\n",
    "- `INNER JOIN` : 조건을 만족하는 행만 유지"
   ]
  },
  {
   "cell_type": "code",
   "execution_count": 108,
   "id": "010909ea",
   "metadata": {},
   "outputs": [],
   "source": [
    "sql = '''\n",
    "WITH winners AS (\n",
    "  SELECT 'John' AS person, '100m' AS event\n",
    "  UNION ALL SELECT 'Hiroshi', '200m'\n",
    "  UNION ALL SELECT 'Sita', '400m'\n",
    "  UNION ALL SELECT 'Kwame', '50m'\n",
    "),\n",
    "gifts AS (\n",
    "  SELECT 'Google Home' AS gift, '100m' AS event\n",
    "  UNION ALL SELECT 'Google Hub', '200m'\n",
    "  UNION ALL SELECT 'Pixel3', '400m'\n",
    "  UNION ALL SELECT 'Google Mini', '5000m'\n",
    ")\n",
    "\n",
    "SELECT *\n",
    "FROM winners\n",
    "INNER JOIN gifts\n",
    "ON winners.event = gifts.event\n",
    "'''"
   ]
  },
  {
   "cell_type": "code",
   "execution_count": 109,
   "id": "1d132109",
   "metadata": {},
   "outputs": [
    {
     "data": {
      "text/html": [
       "<div>\n",
       "<style scoped>\n",
       "    .dataframe tbody tr th:only-of-type {\n",
       "        vertical-align: middle;\n",
       "    }\n",
       "\n",
       "    .dataframe tbody tr th {\n",
       "        vertical-align: top;\n",
       "    }\n",
       "\n",
       "    .dataframe thead th {\n",
       "        text-align: right;\n",
       "    }\n",
       "</style>\n",
       "<table border=\"1\" class=\"dataframe\">\n",
       "  <thead>\n",
       "    <tr style=\"text-align: right;\">\n",
       "      <th></th>\n",
       "      <th>person</th>\n",
       "      <th>event</th>\n",
       "      <th>gift</th>\n",
       "      <th>event_1</th>\n",
       "    </tr>\n",
       "  </thead>\n",
       "  <tbody>\n",
       "    <tr>\n",
       "      <th>0</th>\n",
       "      <td>John</td>\n",
       "      <td>100m</td>\n",
       "      <td>Google Home</td>\n",
       "      <td>100m</td>\n",
       "    </tr>\n",
       "    <tr>\n",
       "      <th>1</th>\n",
       "      <td>Hiroshi</td>\n",
       "      <td>200m</td>\n",
       "      <td>Google Hub</td>\n",
       "      <td>200m</td>\n",
       "    </tr>\n",
       "    <tr>\n",
       "      <th>2</th>\n",
       "      <td>Sita</td>\n",
       "      <td>400m</td>\n",
       "      <td>Pixel3</td>\n",
       "      <td>400m</td>\n",
       "    </tr>\n",
       "  </tbody>\n",
       "</table>\n",
       "</div>"
      ],
      "text/plain": [
       "    person event         gift event_1\n",
       "0     John  100m  Google Home    100m\n",
       "1  Hiroshi  200m   Google Hub    200m\n",
       "2     Sita  400m       Pixel3    400m"
      ]
     },
     "execution_count": 109,
     "metadata": {},
     "output_type": "execute_result"
    }
   ],
   "source": [
    "query_job = client.query(sql)\n",
    "df = query_job.to_dataframe()\n",
    "df"
   ]
  },
  {
   "cell_type": "markdown",
   "id": "6f566a74",
   "metadata": {},
   "source": [
    "<br>\n",
    "\n",
    "- `FULL OUTER JOIN` : 조건이 충족되지 않아도 모든 행이 유지"
   ]
  },
  {
   "cell_type": "code",
   "execution_count": 110,
   "id": "d4337487",
   "metadata": {},
   "outputs": [],
   "source": [
    "sql = '''\n",
    "WITH winners AS (\n",
    "  SELECT 'John' AS person, '100m' AS event\n",
    "  UNION ALL SELECT 'Hiroshi', '200m'\n",
    "  UNION ALL SELECT 'Sita', '400m'\n",
    "  UNION ALL SELECT 'Kwame', '50m'\n",
    "),\n",
    "gifts AS (\n",
    "  SELECT 'Google Home' AS gift, '100m' AS event\n",
    "  UNION ALL SELECT 'Google Hub', '200m'\n",
    "  UNION ALL SELECT 'Pixel3', '400m'\n",
    "  UNION ALL SELECT 'Google Mini', '5000m'\n",
    ")\n",
    "\n",
    "SELECT *\n",
    "FROM winners\n",
    "FULL OUTER JOIN gifts\n",
    "ON winners.event = gifts.event\n",
    "'''"
   ]
  },
  {
   "cell_type": "code",
   "execution_count": 111,
   "id": "6816f4c5",
   "metadata": {},
   "outputs": [
    {
     "data": {
      "text/html": [
       "<div>\n",
       "<style scoped>\n",
       "    .dataframe tbody tr th:only-of-type {\n",
       "        vertical-align: middle;\n",
       "    }\n",
       "\n",
       "    .dataframe tbody tr th {\n",
       "        vertical-align: top;\n",
       "    }\n",
       "\n",
       "    .dataframe thead th {\n",
       "        text-align: right;\n",
       "    }\n",
       "</style>\n",
       "<table border=\"1\" class=\"dataframe\">\n",
       "  <thead>\n",
       "    <tr style=\"text-align: right;\">\n",
       "      <th></th>\n",
       "      <th>person</th>\n",
       "      <th>event</th>\n",
       "      <th>gift</th>\n",
       "      <th>event_1</th>\n",
       "    </tr>\n",
       "  </thead>\n",
       "  <tbody>\n",
       "    <tr>\n",
       "      <th>0</th>\n",
       "      <td>John</td>\n",
       "      <td>100m</td>\n",
       "      <td>Google Home</td>\n",
       "      <td>100m</td>\n",
       "    </tr>\n",
       "    <tr>\n",
       "      <th>1</th>\n",
       "      <td>Hiroshi</td>\n",
       "      <td>200m</td>\n",
       "      <td>Google Hub</td>\n",
       "      <td>200m</td>\n",
       "    </tr>\n",
       "    <tr>\n",
       "      <th>2</th>\n",
       "      <td>Sita</td>\n",
       "      <td>400m</td>\n",
       "      <td>Pixel3</td>\n",
       "      <td>400m</td>\n",
       "    </tr>\n",
       "    <tr>\n",
       "      <th>3</th>\n",
       "      <td>Kwame</td>\n",
       "      <td>50m</td>\n",
       "      <td>None</td>\n",
       "      <td>None</td>\n",
       "    </tr>\n",
       "    <tr>\n",
       "      <th>4</th>\n",
       "      <td>None</td>\n",
       "      <td>None</td>\n",
       "      <td>Google Mini</td>\n",
       "      <td>5000m</td>\n",
       "    </tr>\n",
       "  </tbody>\n",
       "</table>\n",
       "</div>"
      ],
      "text/plain": [
       "    person event         gift event_1\n",
       "0     John  100m  Google Home    100m\n",
       "1  Hiroshi  200m   Google Hub    200m\n",
       "2     Sita  400m       Pixel3    400m\n",
       "3    Kwame   50m         None    None\n",
       "4     None  None  Google Mini   5000m"
      ]
     },
     "execution_count": 111,
     "metadata": {},
     "output_type": "execute_result"
    }
   ],
   "source": [
    "query_job = client.query(sql)\n",
    "df = query_job.to_dataframe()\n",
    "df"
   ]
  },
  {
   "cell_type": "markdown",
   "id": "c71976b0",
   "metadata": {},
   "source": [
    "<br>\n",
    "\n",
    "- `LEFT OUTER JOIN` "
   ]
  },
  {
   "cell_type": "code",
   "execution_count": 115,
   "id": "fcdcf4fd",
   "metadata": {},
   "outputs": [],
   "source": [
    "sql = '''\n",
    "WITH winners AS (\n",
    "  SELECT 'John' AS person, '100m' AS event\n",
    "  UNION ALL SELECT 'Hiroshi', '200m'\n",
    "  UNION ALL SELECT 'Sita', '400m'\n",
    "  UNION ALL SELECT 'Kwame', '50m'\n",
    "),\n",
    "gifts AS (\n",
    "  SELECT 'Google Home' AS gift, '100m' AS event\n",
    "  UNION ALL SELECT 'Google Hub', '200m'\n",
    "  UNION ALL SELECT 'Pixel3', '400m'\n",
    "  UNION ALL SELECT 'Google Mini', '5000m'\n",
    ")\n",
    "\n",
    "SELECT *\n",
    "FROM winners\n",
    "LEFT OUTER JOIN gifts\n",
    "ON winners.event = gifts.event\n",
    "'''"
   ]
  },
  {
   "cell_type": "code",
   "execution_count": 116,
   "id": "4ed6f1ae",
   "metadata": {},
   "outputs": [
    {
     "data": {
      "text/html": [
       "<div>\n",
       "<style scoped>\n",
       "    .dataframe tbody tr th:only-of-type {\n",
       "        vertical-align: middle;\n",
       "    }\n",
       "\n",
       "    .dataframe tbody tr th {\n",
       "        vertical-align: top;\n",
       "    }\n",
       "\n",
       "    .dataframe thead th {\n",
       "        text-align: right;\n",
       "    }\n",
       "</style>\n",
       "<table border=\"1\" class=\"dataframe\">\n",
       "  <thead>\n",
       "    <tr style=\"text-align: right;\">\n",
       "      <th></th>\n",
       "      <th>person</th>\n",
       "      <th>event</th>\n",
       "      <th>gift</th>\n",
       "      <th>event_1</th>\n",
       "    </tr>\n",
       "  </thead>\n",
       "  <tbody>\n",
       "    <tr>\n",
       "      <th>0</th>\n",
       "      <td>John</td>\n",
       "      <td>100m</td>\n",
       "      <td>Google Home</td>\n",
       "      <td>100m</td>\n",
       "    </tr>\n",
       "    <tr>\n",
       "      <th>1</th>\n",
       "      <td>Hiroshi</td>\n",
       "      <td>200m</td>\n",
       "      <td>Google Hub</td>\n",
       "      <td>200m</td>\n",
       "    </tr>\n",
       "    <tr>\n",
       "      <th>2</th>\n",
       "      <td>Sita</td>\n",
       "      <td>400m</td>\n",
       "      <td>Pixel3</td>\n",
       "      <td>400m</td>\n",
       "    </tr>\n",
       "    <tr>\n",
       "      <th>3</th>\n",
       "      <td>Kwame</td>\n",
       "      <td>50m</td>\n",
       "      <td>None</td>\n",
       "      <td>None</td>\n",
       "    </tr>\n",
       "  </tbody>\n",
       "</table>\n",
       "</div>"
      ],
      "text/plain": [
       "    person event         gift event_1\n",
       "0     John  100m  Google Home    100m\n",
       "1  Hiroshi  200m   Google Hub    200m\n",
       "2     Sita  400m       Pixel3    400m\n",
       "3    Kwame   50m         None    None"
      ]
     },
     "execution_count": 116,
     "metadata": {},
     "output_type": "execute_result"
    }
   ],
   "source": [
    "query_job = client.query(sql)\n",
    "df = query_job.to_dataframe()\n",
    "df"
   ]
  },
  {
   "cell_type": "markdown",
   "id": "d6a11764",
   "metadata": {},
   "source": [
    "<br>\n",
    "\n",
    "- `RIGHT OUTER JOIN`"
   ]
  },
  {
   "cell_type": "code",
   "execution_count": 121,
   "id": "aa1c9dc5",
   "metadata": {},
   "outputs": [],
   "source": [
    "sql = '''\n",
    "WITH winners AS (\n",
    "  SELECT 'John' AS person, '100m' AS event\n",
    "  UNION ALL SELECT 'Hiroshi', '200m'\n",
    "  UNION ALL SELECT 'Sita', '400m'\n",
    "  UNION ALL SELECT 'Kwame', '50m'\n",
    "),\n",
    "gifts AS (\n",
    "  SELECT 'Google Home' AS gift, '100m' AS event\n",
    "  UNION ALL SELECT 'Google Hub', '200m'\n",
    "  UNION ALL SELECT 'Pixel3', '400m'\n",
    "  UNION ALL SELECT 'Google Mini', '5000m'\n",
    ")\n",
    "\n",
    "SELECT *\n",
    "FROM winners\n",
    "RIGHT JOIN gifts\n",
    "ON winners.event = gifts.event\n",
    "'''"
   ]
  },
  {
   "cell_type": "code",
   "execution_count": 122,
   "id": "12ea4a13",
   "metadata": {},
   "outputs": [
    {
     "data": {
      "text/html": [
       "<div>\n",
       "<style scoped>\n",
       "    .dataframe tbody tr th:only-of-type {\n",
       "        vertical-align: middle;\n",
       "    }\n",
       "\n",
       "    .dataframe tbody tr th {\n",
       "        vertical-align: top;\n",
       "    }\n",
       "\n",
       "    .dataframe thead th {\n",
       "        text-align: right;\n",
       "    }\n",
       "</style>\n",
       "<table border=\"1\" class=\"dataframe\">\n",
       "  <thead>\n",
       "    <tr style=\"text-align: right;\">\n",
       "      <th></th>\n",
       "      <th>person</th>\n",
       "      <th>event</th>\n",
       "      <th>gift</th>\n",
       "      <th>event_1</th>\n",
       "    </tr>\n",
       "  </thead>\n",
       "  <tbody>\n",
       "    <tr>\n",
       "      <th>0</th>\n",
       "      <td>John</td>\n",
       "      <td>100m</td>\n",
       "      <td>Google Home</td>\n",
       "      <td>100m</td>\n",
       "    </tr>\n",
       "    <tr>\n",
       "      <th>1</th>\n",
       "      <td>Hiroshi</td>\n",
       "      <td>200m</td>\n",
       "      <td>Google Hub</td>\n",
       "      <td>200m</td>\n",
       "    </tr>\n",
       "    <tr>\n",
       "      <th>2</th>\n",
       "      <td>Sita</td>\n",
       "      <td>400m</td>\n",
       "      <td>Pixel3</td>\n",
       "      <td>400m</td>\n",
       "    </tr>\n",
       "    <tr>\n",
       "      <th>3</th>\n",
       "      <td>None</td>\n",
       "      <td>None</td>\n",
       "      <td>Google Mini</td>\n",
       "      <td>5000m</td>\n",
       "    </tr>\n",
       "  </tbody>\n",
       "</table>\n",
       "</div>"
      ],
      "text/plain": [
       "    person event         gift event_1\n",
       "0     John  100m  Google Home    100m\n",
       "1  Hiroshi  200m   Google Hub    200m\n",
       "2     Sita  400m       Pixel3    400m\n",
       "3     None  None  Google Mini   5000m"
      ]
     },
     "execution_count": 122,
     "metadata": {},
     "output_type": "execute_result"
    }
   ],
   "source": [
    "query_job = client.query(sql)\n",
    "df = query_job.to_dataframe()\n",
    "df"
   ]
  },
  {
   "cell_type": "markdown",
   "id": "34786901",
   "metadata": {},
   "source": [
    "<br>\n",
    "\n",
    "### 쿼리 저장 및 공유\n",
    "\n",
    "<br>\n",
    "\n",
    "#### 쿼리 기록 및 캐싱\n"
   ]
  },
  {
   "attachments": {
    "Cap%202024-06-06%2022-43-22-210.png": {
     "image/png": "[encoded data removed]"
    }
   },
   "cell_type": "markdown",
   "id": "94f621a3",
   "metadata": {},
   "source": [
    "![Cap%202024-06-06%2022-43-22-210.png](attachment:Cap%202024-06-06%2022-43-22-210.png)"
   ]
  },
  {
   "cell_type": "markdown",
   "id": "9408632e",
   "metadata": {},
   "source": [
    "<br>\n",
    "\n",
    "#### 저장된 쿼리"
   ]
  },
  {
   "attachments": {
    "Cap%202024-06-06%2022-44-39-568.png": {
     "image/png": "[encoded data removed]"
    }
   },
   "cell_type": "markdown",
   "id": "911ca92f",
   "metadata": {},
   "source": [
    "![Cap%202024-06-06%2022-44-39-568.png](attachment:Cap%202024-06-06%2022-44-39-568.png)"
   ]
  },
  {
   "attachments": {
    "Cap%202024-06-06%2022-45-08-928.png": {
     "image/png": "[encoded data removed]"
    }
   },
   "cell_type": "markdown",
   "id": "bd987dc6",
   "metadata": {},
   "source": [
    "![Cap%202024-06-06%2022-45-08-928.png](attachment:Cap%202024-06-06%2022-45-08-928.png)"
   ]
  },
  {
   "attachments": {
    "Cap%202024-06-06%2022-47-20-410.png": {
     "image/png": "[encoded data removed]"
    }
   },
   "cell_type": "markdown",
   "id": "d5757068",
   "metadata": {},
   "source": [
    "<br>\n",
    "\n",
    "#### 저장된 쿼리 공유\n",
    "![Cap%202024-06-06%2022-47-20-410.png](attachment:Cap%202024-06-06%2022-47-20-410.png)"
   ]
  },
  {
   "cell_type": "markdown",
   "id": "fdf623d7",
   "metadata": {},
   "source": [
    "<br>\n",
    "\n",
    "#### 뷰와 공유 쿼리의 비교\n",
    "* 쿼리 링크를 공유하면, 공동 작업자가 항상 쿼리의 최신 버전을 얻을 수 있도록 쿼리를 계속 편집할 수 있음\n",
    "- 특정 부분 집합에서 쿼리해야 하거나 쿼리 결과에 다시 쿼리를 해야 할 때, 쿼리를 뷰로 저장하고 뷰에 대한 링크를 보내는 것이 좋음\n",
    "    \n",
    "    쿼리를 공유하는 것보다 뷰를 공유하면, 뷰가 데이터셋에 저장되며 세분화된 IAM 컨트롤을 제공할 수 있음"
   ]
  },
  {
   "attachments": {
    "Cap%202024-06-06%2022-54-24-678.png": {
     "image/png": "[encoded data removed]"
    }
   },
   "cell_type": "markdown",
   "id": "cc65c1fe",
   "metadata": {},
   "source": [
    "![Cap%202024-06-06%2022-54-24-678.png](attachment:Cap%202024-06-06%2022-54-24-678.png)"
   ]
  },
  {
   "attachments": {
    "Cap%202024-06-06%2022-53-40-668.png": {
     "image/png": "[encoded data removed]"
    }
   },
   "cell_type": "markdown",
   "id": "1fec9abb",
   "metadata": {},
   "source": [
    "![Cap%202024-06-06%2022-53-40-668.png](attachment:Cap%202024-06-06%2022-53-40-668.png)"
   ]
  }
 ],
 "metadata": {
  "kernelspec": {
   "display_name": "Python 3 (ipykernel)",
   "language": "python",
   "name": "python3"
  },
  "language_info": {
   "codemirror_mode": {
    "name": "ipython",
    "version": 3
   },
   "file_extension": ".py",
   "mimetype": "text/x-python",
   "name": "python",
   "nbconvert_exporter": "python",
   "pygments_lexer": "ipython3",
   "version": "3.9.13"
  }
 },
 "nbformat": 4,
 "nbformat_minor": 5
}
