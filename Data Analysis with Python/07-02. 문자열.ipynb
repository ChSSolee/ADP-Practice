{
 "cells": [
  {
   "cell_type": "markdown",
   "id": "54c0650a",
   "metadata": {},
   "source": [
    "### 문자열 "
   ]
  },
  {
   "cell_type": "code",
   "execution_count": 1,
   "id": "2a599469",
   "metadata": {},
   "outputs": [],
   "source": [
    "import pandas as pd\n",
    "import numpy as np"
   ]
  },
  {
   "cell_type": "markdown",
   "id": "3f525b63",
   "metadata": {},
   "source": [
    "### 파이썬 내장 문자열 함수\n",
    "\n",
    "| | |\n",
    "| -- | -- |\n",
    "| .count | 문자열에서 겹치지 않는 부분문자열의 개수를 반환 |\n",
    "| .endswith | 문자열이 주어진 접미사로 끝날 경우 True 반환 |\n",
    "| .startswith | 문자열이 주어진 접두사로 싲가할 경우 True 반환 |\n",
    "| .join | 문자열을 구분자로 하여 다른 문자열을 순서대로 연결 |\n",
    "| .index | 부분문자열의 첫 번째 글자의 위치를 반환 (부분문자열이 없을 경우 ValueError 에러 발생) |\n",
    "| .find | **첫 번째** 부분문자열의 첫 번째 글자의 위치를 반환. index와 유사하지만 부분문자열이 없을 경우 -1 반환 |\n",
    "| .rfind | **마지막** 부분문자열의 첫 번째 글자의 위치를 반환. 부분문자열이 없을 경우 -1 반환 |\n",
    "| .replace | 문자열을 다른 문자열로 치환 |\n",
    "| .strip, .rstrip, .lstrip | 개행 문자를 포함한 공백을 제거. 문자열의 좌/우 기준으로 lstrip / rstrip |\n",
    "| .split | 문자열을 구분자를 기준으로 부분문자열의 리스트로 분리 |\n",
    "| .lower | 알파벳 문자를 소문자로 변환 |\n",
    "| .upper | 알파벳 문자를 대문자로 변환 |\n",
    "| .casefold | 문자를 소문자로 변환. 지역 문자들은 그에 상응하는 대체 문자로 교체 |\n",
    "| .ljust, .rjust | 문자열을 오른쪽 또는 왼쪽으로 정렬하고 주어진 길이에서 문자열의 길이를 제외한 나머지 부분은 공백 문자를 채워 넣음 |"
   ]
  },
  {
   "cell_type": "markdown",
   "id": "b107af68",
   "metadata": {},
   "source": [
    "#### ```.split('구분자')``` : 구분자를 기준으로 문자열 분리"
   ]
  },
  {
   "cell_type": "code",
   "execution_count": 19,
   "id": "474f7297",
   "metadata": {},
   "outputs": [
    {
     "data": {
      "text/plain": [
       "['a', ' b', ' guido']"
      ]
     },
     "execution_count": 19,
     "metadata": {},
     "output_type": "execute_result"
    }
   ],
   "source": [
    "val = 'a, b, guido'\n",
    "val.split(',')"
   ]
  },
  {
   "cell_type": "markdown",
   "id": "b431cd3a",
   "metadata": {},
   "source": [
    "#### ```.strip()``` : 공백문자 제거"
   ]
  },
  {
   "cell_type": "code",
   "execution_count": 20,
   "id": "299c1486",
   "metadata": {},
   "outputs": [
    {
     "data": {
      "text/plain": [
       "['a', 'b', 'guido']"
      ]
     },
     "execution_count": 20,
     "metadata": {},
     "output_type": "execute_result"
    }
   ],
   "source": [
    "# 공백제거 후 ','를 기준으로 분리\n",
    "pieces = [x.strip() for x in val.split(',')] \n",
    "pieces"
   ]
  },
  {
   "cell_type": "markdown",
   "id": "9f1be163",
   "metadata": {},
   "source": [
    "- 문자열 연산"
   ]
  },
  {
   "cell_type": "code",
   "execution_count": 7,
   "id": "b800c5ef",
   "metadata": {},
   "outputs": [
    {
     "data": {
      "text/plain": [
       "'a::b::guido'"
      ]
     },
     "execution_count": 7,
     "metadata": {},
     "output_type": "execute_result"
    }
   ],
   "source": [
    "first, second, third = pieces\n",
    "first + '::' + second + '::' + third\n",
    "# '::'.join(pieces)"
   ]
  },
  {
   "cell_type": "markdown",
   "id": "6f15e74c",
   "metadata": {},
   "source": [
    "#### 부분문자열 탐색\n",
    "#### ```.index('문자')```, ```.find('문자')``` : 문자가 존재하면 1, 없으면 -1 반환"
   ]
  },
  {
   "cell_type": "code",
   "execution_count": 10,
   "id": "7b72bb09",
   "metadata": {},
   "outputs": [
    {
     "data": {
      "text/plain": [
       "True"
      ]
     },
     "execution_count": 10,
     "metadata": {},
     "output_type": "execute_result"
    }
   ],
   "source": [
    "'guido' in val"
   ]
  },
  {
   "cell_type": "code",
   "execution_count": 11,
   "id": "adaf310d",
   "metadata": {},
   "outputs": [
    {
     "data": {
      "text/plain": [
       "1"
      ]
     },
     "execution_count": 11,
     "metadata": {},
     "output_type": "execute_result"
    }
   ],
   "source": [
    "val.index(',')"
   ]
  },
  {
   "cell_type": "code",
   "execution_count": 14,
   "id": "5c1d16dd",
   "metadata": {},
   "outputs": [
    {
     "data": {
      "text/plain": [
       "-1"
      ]
     },
     "execution_count": 14,
     "metadata": {},
     "output_type": "execute_result"
    }
   ],
   "source": [
    "val.find(':')"
   ]
  },
  {
   "cell_type": "markdown",
   "id": "d406d5c3",
   "metadata": {},
   "source": [
    "#### ```.cound('문자')``` : 특정 부분문자열의 발견 건수"
   ]
  },
  {
   "cell_type": "code",
   "execution_count": 15,
   "id": "7ad1df79",
   "metadata": {},
   "outputs": [
    {
     "data": {
      "text/plain": [
       "2"
      ]
     },
     "execution_count": 15,
     "metadata": {},
     "output_type": "execute_result"
    }
   ],
   "source": [
    "val.count(',')"
   ]
  },
  {
   "cell_type": "markdown",
   "id": "a853b037",
   "metadata": {},
   "source": [
    "#### 문자열 치환\n",
    "#### ```.replace('a', 'b')``` : a를 b로 치환"
   ]
  },
  {
   "cell_type": "code",
   "execution_count": 18,
   "id": "3f609abe",
   "metadata": {},
   "outputs": [
    {
     "data": {
      "text/plain": [
       "'a b guido'"
      ]
     },
     "execution_count": 18,
     "metadata": {},
     "output_type": "execute_result"
    }
   ],
   "source": [
    "val.replace(',', '::')\n",
    "val.replace(',', '')"
   ]
  },
  {
   "cell_type": "markdown",
   "id": "41cf865e",
   "metadata": {},
   "source": [
    "### \n",
    "### 정규 표현식\n",
    "https://velog.io/@dosilv/python-%EC%A0%95%EA%B7%9C%ED%91%9C%ED%98%84%EC%8B%9Dregular-expression-%EC%82%AC%EC%9A%A9%EB%B2%95\n",
    "\n",
    "### 정규 표현식 메서드\n",
    "|  |  |\n",
    "| -- | -- |\n",
    "| .findall | 문자열에서 겹치지 않는 모든 발견된 패턴을 리스트로 반환 |\n",
    "| .finditer | findall과 같지만 발견된 패턴을 이터레이터를 통해 하나씩 반환 |\n",
    "| .match | 문자열의 시작점부터 패턴을 찾고, 선택적으로 패턴 컴포넌트를 그룹으로 나눔. 일치하는 패턴이 있다면 match 객체를 반환하고 그렇지 않으면 None을 반환 |\n",
    "| .search | 문자열에서 패턴과 일치하는 내용을 검색하고 match 객체를 반환. .match 메서드와는 다르게 시작부터 일치하는 내용만 찾지 않고, 문자열 어디든 일치하는 내용이 있다면 반환 |\n",
    "| .split | 문자열에서 패턴과 일차하는 부분을 정리 |\n",
    "| .sub, .subn | 문자열에서 일치하는 모든 패턴(sub) 혹은 처음 n개의 패턴(nsub)을 대체 표현으로 치환. 대체 표현 문자열은 '\\1', '\\2'... 와 같은 기호를 사용해서 매치 그룹의 요소를 참조 |"
   ]
  },
  {
   "cell_type": "code",
   "execution_count": 21,
   "id": "08eea1e7",
   "metadata": {},
   "outputs": [],
   "source": [
    "import re"
   ]
  },
  {
   "cell_type": "markdown",
   "id": "66cac359",
   "metadata": {},
   "source": [
    "#### ```re.split('표현식', 텍스트)``` : 표현식을 기준으로 텍스트를 분리\n",
    "- ```'\\s+'``` : 하나 이상의 공백"
   ]
  },
  {
   "cell_type": "code",
   "execution_count": 60,
   "id": "99892e41",
   "metadata": {},
   "outputs": [
    {
     "data": {
      "text/plain": [
       "['foo', 'bar', 'baz', 'qux']"
      ]
     },
     "execution_count": 60,
     "metadata": {},
     "output_type": "execute_result"
    }
   ],
   "source": [
    "text = \"foo bar\\t baz \\tqux\"\n",
    "re.split('\\s+', text)"
   ]
  },
  {
   "cell_type": "markdown",
   "id": "2109e71f",
   "metadata": {},
   "source": [
    "#### ```re.compile('표현식', flags)``` : 정규 표현식 객체 재사용\n",
    "- ```flags``` : ```re.IGNORECASE``` : 정규 표현식이 대소문자를 가리지 않도록 설정"
   ]
  },
  {
   "cell_type": "code",
   "execution_count": 61,
   "id": "d7e8ece9",
   "metadata": {},
   "outputs": [
    {
     "data": {
      "text/plain": [
       "re.compile(r'\\s+', re.UNICODE)"
      ]
     },
     "execution_count": 61,
     "metadata": {},
     "output_type": "execute_result"
    }
   ],
   "source": [
    "regex = re.compile('\\s+')\n",
    "regex"
   ]
  },
  {
   "cell_type": "code",
   "execution_count": 62,
   "id": "dbd9675a",
   "metadata": {},
   "outputs": [
    {
     "data": {
      "text/plain": [
       "['foo', 'bar', 'baz', 'qux']"
      ]
     },
     "execution_count": 62,
     "metadata": {},
     "output_type": "execute_result"
    }
   ],
   "source": [
    "regex.split(text)"
   ]
  },
  {
   "cell_type": "markdown",
   "id": "e102d457",
   "metadata": {},
   "source": [
    "#### ```.findall(텍스트)``` : 정규 표현식에 매칭되는 모든 패턴의 목록을 탐색"
   ]
  },
  {
   "cell_type": "code",
   "execution_count": 63,
   "id": "eaa1d2a7",
   "metadata": {},
   "outputs": [
    {
     "data": {
      "text/plain": [
       "[' ', '\\t ', ' \\t']"
      ]
     },
     "execution_count": 63,
     "metadata": {},
     "output_type": "execute_result"
    }
   ],
   "source": [
    "regex.findall(text)"
   ]
  },
  {
   "cell_type": "markdown",
   "id": "37a8de55",
   "metadata": {},
   "source": [
    "- 정규 표현식에서 '\\'문자가 이스케이프되는 문제를 피하려면 raw 문자열 표기법 사용\n",
    "#### 예: ```'C:\\\\x'```대신 ```'r'C:\\x'```를 사용"
   ]
  },
  {
   "cell_type": "code",
   "execution_count": 64,
   "id": "d5b9e71c",
   "metadata": {},
   "outputs": [],
   "source": [
    "text = \"\"\"Dave dave@google.com\n",
    "Steve steve@gmail.com\n",
    "Rob rob@gmail.com\n",
    "Ryan ryan@yahoo.com\n",
    "\"\"\"\n",
    "pattern = r'[A-Z0-9._%+-]+@[A-Z0-9.-]+\\.[A-Z]{2,4}' "
   ]
  },
  {
   "cell_type": "markdown",
   "id": "ac899776",
   "metadata": {},
   "source": [
    "#### ```re.IGNORECASE``` : 정규 표현식이 대소문자를 가리지 않도록 설정"
   ]
  },
  {
   "cell_type": "code",
   "execution_count": 65,
   "id": "109e9e6f",
   "metadata": {},
   "outputs": [],
   "source": [
    "regex = re.compile(pattern, flags = re.IGNORECASE)"
   ]
  },
  {
   "cell_type": "code",
   "execution_count": 66,
   "id": "6b949fec",
   "metadata": {},
   "outputs": [
    {
     "data": {
      "text/plain": [
       "['dave@google.com', 'steve@gmail.com', 'rob@gmail.com', 'ryan@yahoo.com']"
      ]
     },
     "execution_count": 66,
     "metadata": {},
     "output_type": "execute_result"
    }
   ],
   "source": [
    "regex.findall(text)"
   ]
  },
  {
   "cell_type": "markdown",
   "id": "86d84462",
   "metadata": {},
   "source": [
    "#### ```.search(텍스트)``` : 정규 표현식에 일치하는 첫 번째 값 반환"
   ]
  },
  {
   "cell_type": "code",
   "execution_count": 67,
   "id": "a42906fe",
   "metadata": {},
   "outputs": [
    {
     "data": {
      "text/plain": [
       "<re.Match object; span=(5, 20), match='dave@google.com'>"
      ]
     },
     "execution_count": 67,
     "metadata": {},
     "output_type": "execute_result"
    }
   ],
   "source": [
    "m = regex.search(text)\n",
    "m"
   ]
  },
  {
   "cell_type": "code",
   "execution_count": 68,
   "id": "56fb9a30",
   "metadata": {},
   "outputs": [
    {
     "data": {
      "text/plain": [
       "'dave@google.com'"
      ]
     },
     "execution_count": 68,
     "metadata": {},
     "output_type": "execute_result"
    }
   ],
   "source": [
    "text[m.start():m.end()]"
   ]
  },
  {
   "cell_type": "markdown",
   "id": "5f40e1d4",
   "metadata": {},
   "source": [
    "#### ```.match(텍스트)``` : 정규 표현식이 문자열의 시갖검에서부터 일치하는지 확인"
   ]
  },
  {
   "cell_type": "code",
   "execution_count": 69,
   "id": "1adaf612",
   "metadata": {},
   "outputs": [
    {
     "name": "stdout",
     "output_type": "stream",
     "text": [
      "None\n"
     ]
    }
   ],
   "source": [
    "print(regex.match(text))"
   ]
  },
  {
   "cell_type": "markdown",
   "id": "7084ed9f",
   "metadata": {},
   "source": [
    "#### ```.sub('치환문자', 텍스트)``` : 찾은 패턴을 주어진 문자열로 치환하여 새로운 문자열 반환"
   ]
  },
  {
   "cell_type": "code",
   "execution_count": 70,
   "id": "0798c92d",
   "metadata": {},
   "outputs": [
    {
     "name": "stdout",
     "output_type": "stream",
     "text": [
      "Dave REACTED\n",
      "Steve REACTED\n",
      "Rob REACTED\n",
      "Ryan REACTED\n",
      "\n"
     ]
    }
   ],
   "source": [
    "print(regex.sub('REACTED', text))"
   ]
  },
  {
   "cell_type": "markdown",
   "id": "27a1d2ab",
   "metadata": {},
   "source": [
    "#### "
   ]
  },
  {
   "cell_type": "markdown",
   "id": "78d96a9b",
   "metadata": {},
   "source": [
    "- 이메일 주소를 찾아서 동시에 각 이메일 주소를 사용자 이름, 도메인 이름, 도메인 접미사 세가지 컴포넌트로 분할한다면, 각 패턴을 괄호로 묶어준다"
   ]
  },
  {
   "cell_type": "code",
   "execution_count": 71,
   "id": "5892c88f",
   "metadata": {},
   "outputs": [],
   "source": [
    "pattern = r'([A-Z0-9._%+-]+)@([A-Z0-9.-]+)\\.([A-Z]{2,4})'\n",
    "regex = re.compile(pattern, flags = re.IGNORECASE)"
   ]
  },
  {
   "cell_type": "markdown",
   "id": "1c9e8597",
   "metadata": {},
   "source": [
    "- 이렇게 만든 match 객체를 이용하면 groups 메서드로 각 패턴 컴포넌트의 튜플을 얻을 수 있다"
   ]
  },
  {
   "cell_type": "code",
   "execution_count": 72,
   "id": "413638d6",
   "metadata": {
    "scrolled": true
   },
   "outputs": [
    {
     "data": {
      "text/plain": [
       "<re.Match object; span=(0, 15), match='webm@bright.net'>"
      ]
     },
     "execution_count": 72,
     "metadata": {},
     "output_type": "execute_result"
    }
   ],
   "source": [
    "m = regex.match('webm@bright.net')\n",
    "m"
   ]
  },
  {
   "cell_type": "code",
   "execution_count": 73,
   "id": "99b03281",
   "metadata": {},
   "outputs": [
    {
     "data": {
      "text/plain": [
       "('webm', 'bright', 'net')"
      ]
     },
     "execution_count": 73,
     "metadata": {},
     "output_type": "execute_result"
    }
   ],
   "source": [
    "m.groups()"
   ]
  },
  {
   "cell_type": "markdown",
   "id": "421dc832",
   "metadata": {},
   "source": [
    "- 패턴에 그룹이 존재한다면 .findall 메서드는 튜플의 목록을 반환"
   ]
  },
  {
   "cell_type": "code",
   "execution_count": 96,
   "id": "88847fe4",
   "metadata": {},
   "outputs": [
    {
     "data": {
      "text/plain": [
       "[('dave', 'google', 'com'),\n",
       " ('steve', 'gmail', 'com'),\n",
       " ('rob', 'gmail', 'com'),\n",
       " ('ryan', 'yahoo', 'com')]"
      ]
     },
     "execution_count": 96,
     "metadata": {},
     "output_type": "execute_result"
    }
   ],
   "source": [
    "regex.findall(text)"
   ]
  },
  {
   "cell_type": "markdown",
   "id": "da2692f7",
   "metadata": {},
   "source": [
    "- .sub 역시 마찬가지로 '\\1', '\\2' 같은 특수한 기호를 사용해서 각 패턴 그룹에 접근할 수 잇다.\n",
    "- '\\1'은 첫 번째로 찾은 그룹을 의미, '\\2'는 두 번째로 찾은 그룹을 의미"
   ]
  },
  {
   "cell_type": "code",
   "execution_count": 97,
   "id": "13e3dcbf",
   "metadata": {},
   "outputs": [
    {
     "name": "stdout",
     "output_type": "stream",
     "text": [
      "Dave Username: dave, Domain: google, Suffix: com\n",
      "Steve Username: steve, Domain: gmail, Suffix: com\n",
      "Rob Username: rob, Domain: gmail, Suffix: com\n",
      "Ryan Username: ryan, Domain: yahoo, Suffix: com\n",
      "\n"
     ]
    }
   ],
   "source": [
    "print(regex.sub(r'Username: \\1, Domain: \\2, Suffix: \\3', text))"
   ]
  },
  {
   "cell_type": "markdown",
   "id": "aece1fe6",
   "metadata": {},
   "source": [
    "### \n",
    "### 벡터화된 문자열 함수\n",
    "\n",
    "### 벡터화된 문자열 메서드\n",
    "|  |  |\n",
    "| -- | -- |\n",
    "| .cat | 선택적인 구분자와 함께 요소별로 문자열을 연결 |\n",
    "| .contains | 문자열이 패턴이나 정규 표현식을 포함하는지 나타내는 boolean 배열 반환 |\n",
    "| .count | 일치하는 패턴 수를 반환 |\n",
    "| .extract | 문자열이 담긴 Series에서 하나 이상의 문자열을 추출하기 위해 정규 표현식을 이용. 결과는 각 그룹이 하나의 열이 되는 데이터 프레임 |\n",
    "| .endswith | 각 요소에 대해 x.endswith(pattern)과 동일한 동작 |\n",
    "| .startswith | 각 요소에 대해 x.startswith(pattern)과 동일한 동작 |\n",
    "| .findall | 각 문자열에 대해 일치하는 패턴 / 정규 표현식의 전체 목록을 구함 |\n",
    "| .get | i 번째 요소를 반환 |\n",
    "| .isalnum | 내장 함수 str.isalnum과 동일 |\n",
    "| .isalpha | 내장 함수 str.isalpha와 동일 |\n",
    "| .isdecimal | 내장 함수 str.decimal과 동일 |\n",
    "| .isdigit | 내장 함수 str.isdigit과 동일 |\n",
    "| .islower | 내장 함수 str.islower과 동일 |\n",
    "| .isnumeric | 내장 함수 str.isnumeric과 동일 |\n",
    "| .isupper | 내장 함수 str.isupper과 동일 |\n",
    "| .join | Series의 각 요소를 주어진 구분자로 연결 |\n",
    "| .len | 각 문자열의 길이 |\n",
    "| .lower, .upper | 대소문자로 변환 (x.lower(), x.upper()) |\n",
    "| .match | 주어진 정규 표현식으로 각 요소에 대한 re.match를 수행하여 일치하는 그룹을 리스트로 반환 |\n",
    "| .pad | 문자열의 좌, 우 혹은 양쪽에 공백을 추가 |\n",
    "| .center | pad(side = 'both')와 동일 |\n",
    "| .repeat | 값을 복사 (s.str.repeat(3)은 각 문자열에 대한 x * 3과 동일) |\n",
    "| .replace | 패턴 / 정규 표현식과 일치하는 내용을 다른 문자열로 치환 |\n",
    "| .slice | Series 안에 있는 각 문자열을 자름 |\n",
    "| .split | 정규 표현식 혹은 구분자로 문자열을 나눔 |\n",
    "| .strip | 개행 문자를 포함하여 왼쪽과 오른쪽의 공백 문자를 제거 |\n",
    "| .rstrip | 오른쪽의 공백 문자를 제거 |\n",
    "| .lstrip | 왼쪽의 공백 문자를 제거 |"
   ]
  },
  {
   "cell_type": "code",
   "execution_count": 84,
   "id": "02ec7ec2",
   "metadata": {},
   "outputs": [
    {
     "data": {
      "text/plain": [
       "Dave     dave@google.com\n",
       "Steve    steve@gmail.com\n",
       "Rob        rob@gmail.com\n",
       "Wes                  NaN\n",
       "dtype: object"
      ]
     },
     "execution_count": 84,
     "metadata": {},
     "output_type": "execute_result"
    }
   ],
   "source": [
    "data = {'Dave': 'dave@google.com', 'Steve': 'steve@gmail.com',\n",
    "        'Rob': 'rob@gmail.com', 'Wes': np.nan}\n",
    "data = pd.Series(data)\n",
    "data"
   ]
  },
  {
   "cell_type": "markdown",
   "id": "3481798b",
   "metadata": {},
   "source": [
    "### ```시리즈.str.contains('특정문자')``` : '특정문자'을 포함하고 있는지 확인"
   ]
  },
  {
   "cell_type": "code",
   "execution_count": 85,
   "id": "b316a110",
   "metadata": {},
   "outputs": [
    {
     "data": {
      "text/plain": [
       "Dave     False\n",
       "Steve     True\n",
       "Rob       True\n",
       "Wes        NaN\n",
       "dtype: object"
      ]
     },
     "execution_count": 85,
     "metadata": {},
     "output_type": "execute_result"
    }
   ],
   "source": [
    "data.str.contains('gmail')"
   ]
  },
  {
   "cell_type": "code",
   "execution_count": 86,
   "id": "dac4b249",
   "metadata": {},
   "outputs": [
    {
     "data": {
      "text/plain": [
       "'([A-Z0-9._%+-]+)@([A-Z0-9.-]+)\\\\.([A-Z]{2,4})'"
      ]
     },
     "execution_count": 86,
     "metadata": {},
     "output_type": "execute_result"
    }
   ],
   "source": [
    "pattern"
   ]
  },
  {
   "cell_type": "code",
   "execution_count": 87,
   "id": "55bf87dd",
   "metadata": {},
   "outputs": [
    {
     "data": {
      "text/plain": [
       "Dave     [(dave, google, com)]\n",
       "Steve    [(steve, gmail, com)]\n",
       "Rob        [(rob, gmail, com)]\n",
       "Wes                        NaN\n",
       "dtype: object"
      ]
     },
     "execution_count": 87,
     "metadata": {},
     "output_type": "execute_result"
    }
   ],
   "source": [
    "data.str.findall(pattern, flags = re.IGNORECASE)"
   ]
  },
  {
   "cell_type": "code",
   "execution_count": 94,
   "id": "33d5cec8",
   "metadata": {
    "scrolled": true
   },
   "outputs": [
    {
     "data": {
      "text/plain": [
       "Dave     True\n",
       "Steve    True\n",
       "Rob      True\n",
       "Wes       NaN\n",
       "dtype: object"
      ]
     },
     "execution_count": 94,
     "metadata": {},
     "output_type": "execute_result"
    }
   ],
   "source": [
    "matches = data.str.match(pattern, flags = re.IGNORECASE)\n",
    "matches"
   ]
  }
 ],
 "metadata": {
  "kernelspec": {
   "display_name": "Python 3 (ipykernel)",
   "language": "python",
   "name": "python3"
  },
  "language_info": {
   "codemirror_mode": {
    "name": "ipython",
    "version": 3
   },
   "file_extension": ".py",
   "mimetype": "text/x-python",
   "name": "python",
   "nbconvert_exporter": "python",
   "pygments_lexer": "ipython3",
   "version": "3.9.7"
  }
 },
 "nbformat": 4,
 "nbformat_minor": 5
}
