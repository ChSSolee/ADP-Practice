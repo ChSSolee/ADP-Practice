{
 "cells": [
  {
   "cell_type": "code",
   "execution_count": 1,
   "id": "ff78a15d",
   "metadata": {},
   "outputs": [],
   "source": [
    "import pandas as pd\n",
    "import numpy as np\n",
    "import matplotlib.pyplot as plt"
   ]
  },
  {
   "cell_type": "markdown",
   "id": "bfaed29b",
   "metadata": {},
   "source": [
    "### 날짜, 시간 자료형, 도구\n",
    "\n",
    "#### datetime 모듈의 자료형\n",
    "|  |  |\n",
    "| -- | -- |\n",
    "| date | 그레고리안 달력을 사용해서 날짜(연, 월,  일)를 저장 |\n",
    "| time | 하루의 시간을 시, 분, 초, 마이크로초 단위로 저장 |\n",
    "| datetime | 날짜와 시간을 저장 |\n",
    "| timedelta | 두 datetime 값 간의 차이 (일, 초, 마이크로초) |\n",
    "| tzinfo | 지역시간대를 저장하기 위한 기본 자료형 |"
   ]
  },
  {
   "cell_type": "code",
   "execution_count": 2,
   "id": "2f5cd32a",
   "metadata": {},
   "outputs": [],
   "source": [
    "from datetime import datetime"
   ]
  },
  {
   "cell_type": "markdown",
   "id": "80fa2337",
   "metadata": {},
   "source": [
    "### ```datetime.now()``` : 현재 시간\n",
    "- datetime은 날짜와 시간을 모두 저장하며, 마이크로초까지 저장"
   ]
  },
  {
   "cell_type": "code",
   "execution_count": 5,
   "id": "c49c2afd",
   "metadata": {},
   "outputs": [
    {
     "data": {
      "text/plain": [
       "datetime.datetime(2022, 8, 8, 19, 4, 34, 579012)"
      ]
     },
     "execution_count": 5,
     "metadata": {},
     "output_type": "execute_result"
    }
   ],
   "source": [
    "now = datetime.now(); now"
   ]
  },
  {
   "cell_type": "code",
   "execution_count": 7,
   "id": "4b30f67d",
   "metadata": {},
   "outputs": [
    {
     "data": {
      "text/plain": [
       "(2022, 8, 8)"
      ]
     },
     "execution_count": 7,
     "metadata": {},
     "output_type": "execute_result"
    }
   ],
   "source": [
    "now.year, now.month, now.day"
   ]
  },
  {
   "cell_type": "markdown",
   "id": "c13faa9c",
   "metadata": {},
   "source": [
    "### ```datetime.timedelta``` : 두 datetime 객체 간의 시간 차이 객체"
   ]
  },
  {
   "cell_type": "code",
   "execution_count": 8,
   "id": "bbdff4c5",
   "metadata": {},
   "outputs": [
    {
     "data": {
      "text/plain": [
       "datetime.timedelta(days=926, seconds=56700)"
      ]
     },
     "execution_count": 8,
     "metadata": {},
     "output_type": "execute_result"
    }
   ],
   "source": [
    "delta = datetime(2011, 1, 7) - datetime(2008, 6, 24, 8, 15)\n",
    "delta"
   ]
  },
  {
   "cell_type": "code",
   "execution_count": 10,
   "id": "9204558d",
   "metadata": {},
   "outputs": [
    {
     "data": {
      "text/plain": [
       "(926, 56700)"
      ]
     },
     "execution_count": 10,
     "metadata": {},
     "output_type": "execute_result"
    }
   ],
   "source": [
    "delta.days, delta.seconds"
   ]
  },
  {
   "cell_type": "markdown",
   "id": "5230224a",
   "metadata": {},
   "source": [
    "- timedelta를 더하거나 빼면 그만큼의 시간이 datetime 객체에 적용되어 새로운 객체를 생성"
   ]
  },
  {
   "cell_type": "code",
   "execution_count": 11,
   "id": "6cd60c9c",
   "metadata": {},
   "outputs": [],
   "source": [
    "from datetime import timedelta"
   ]
  },
  {
   "cell_type": "code",
   "execution_count": 12,
   "id": "3d2f0598",
   "metadata": {},
   "outputs": [
    {
     "data": {
      "text/plain": [
       "datetime.datetime(2011, 1, 19, 0, 0)"
      ]
     },
     "execution_count": 12,
     "metadata": {},
     "output_type": "execute_result"
    }
   ],
   "source": [
    "start = datetime(2011, 1, 7)\n",
    "start + timedelta(12)"
   ]
  },
  {
   "cell_type": "code",
   "execution_count": 13,
   "id": "2376a94e",
   "metadata": {},
   "outputs": [
    {
     "data": {
      "text/plain": [
       "datetime.datetime(2010, 12, 14, 0, 0)"
      ]
     },
     "execution_count": 13,
     "metadata": {},
     "output_type": "execute_result"
    }
   ],
   "source": [
    "start - 2 * timedelta(12)"
   ]
  },
  {
   "cell_type": "markdown",
   "id": "29663e11",
   "metadata": {},
   "source": [
    "### \n",
    "### 문자열을 datetime으로 변환"
   ]
  },
  {
   "cell_type": "markdown",
   "id": "e3092641",
   "metadata": {},
   "source": [
    "#### Datetime 포맷 규칙\n",
    "\n",
    "|  |  |\n",
    "| -- | -- |\n",
    "| %Y |\t4자리 연도 |\n",
    "| %y  |\t2자리 연도  |\n",
    "| %m |\t2자리 월 [01, 12]\n",
    "|%d |\t2자리 일 [01, 31]\n",
    "|%H\t|시간 (24시간 형식) [00, 23]\n",
    "|%I\t|시간 (12시간 형식) [01, 12]\n",
    "|%M\t|2자리 분 [00, 59]\n",
    "|%S\t|초 [00, 61] (60, 61은 윤초)\n",
    "|%w\t|정수로 나타낸 요일 [0, 6]\n",
    "|%U\t|연중주차 [00, 53], 일요일을 그 주의 첫 번째 날로 간주하며, 그 해에서 첫 번째 일요일 앞에 있는 날은 0주차가 된다\n",
    "|%W\t|연중주차 [00, 53], 월요일을 그 주의 첫 번째 날로 간주하며, 그 해에서 첫 번째 월요일 앞에 있는 날은 0주차가 된다\n",
    "|%z\t|UTC 시간대 오프셋을 +HHMM 또는 -HHMM으로 표현, 만약 시간대를 신경 쓰지 않는 다면 비워둠\n",
    "|%F\t|%Y-%m-%d 형식에 대한 축약\n",
    "|%D\t|%m/%d/%y 형식에 대한 축약"
   ]
  },
  {
   "cell_type": "markdown",
   "id": "cf27e11c",
   "metadata": {},
   "source": [
    "\n",
    "### ```.str()```, ```.strftime()``` : Timestamp객체를 문자열로 표현"
   ]
  },
  {
   "cell_type": "code",
   "execution_count": 14,
   "id": "15fc58b7",
   "metadata": {},
   "outputs": [
    {
     "data": {
      "text/plain": [
       "'2011-01-03 00:00:00'"
      ]
     },
     "execution_count": 14,
     "metadata": {},
     "output_type": "execute_result"
    }
   ],
   "source": [
    "stamp = datetime(2011, 1, 3)\n",
    "str(stamp)"
   ]
  },
  {
   "cell_type": "code",
   "execution_count": 15,
   "id": "40521b20",
   "metadata": {},
   "outputs": [
    {
     "data": {
      "text/plain": [
       "'11-01-03'"
      ]
     },
     "execution_count": 15,
     "metadata": {},
     "output_type": "execute_result"
    }
   ],
   "source": [
    "stamp.strftime('%y-%m-%d')"
   ]
  },
  {
   "cell_type": "markdown",
   "id": "9ae1beb1",
   "metadata": {},
   "source": [
    "### ```datetime.strptime()``` : 문자열을 날짜로 변환"
   ]
  },
  {
   "cell_type": "code",
   "execution_count": 16,
   "id": "793ad72d",
   "metadata": {},
   "outputs": [
    {
     "data": {
      "text/plain": [
       "datetime.datetime(2011, 1, 3, 0, 0)"
      ]
     },
     "execution_count": 16,
     "metadata": {},
     "output_type": "execute_result"
    }
   ],
   "source": [
    "value = '2011-01-03'\n",
    "datetime.strptime(value, '%Y-%m-%d')"
   ]
  },
  {
   "cell_type": "code",
   "execution_count": 19,
   "id": "dda7b662",
   "metadata": {},
   "outputs": [
    {
     "data": {
      "text/plain": [
       "[datetime.datetime(2011, 7, 6, 0, 0), datetime.datetime(2011, 8, 6, 0, 0)]"
      ]
     },
     "execution_count": 19,
     "metadata": {},
     "output_type": "execute_result"
    }
   ],
   "source": [
    "datestrs = ['7/6/2011', '8/6/2011']\n",
    "[datetime.strptime(x, '%m/%d/%Y') for x in datestrs]"
   ]
  },
  {
   "cell_type": "markdown",
   "id": "6921dbaf",
   "metadata": {},
   "source": [
    "### ```parse.parse()``` : 문자열을 datetime형으로 변환\n",
    "- 날짜가 월 앞에 오는 경우 ```dayfirst = True```"
   ]
  },
  {
   "cell_type": "code",
   "execution_count": 22,
   "id": "d5f8110f",
   "metadata": {},
   "outputs": [
    {
     "data": {
      "text/plain": [
       "datetime.datetime(2011, 1, 3, 0, 0)"
      ]
     },
     "execution_count": 22,
     "metadata": {},
     "output_type": "execute_result"
    }
   ],
   "source": [
    "from dateutil.parser import parse\n",
    "parse('2011-01-03')"
   ]
  },
  {
   "cell_type": "code",
   "execution_count": 23,
   "id": "53759cdc",
   "metadata": {},
   "outputs": [
    {
     "data": {
      "text/plain": [
       "datetime.datetime(1997, 1, 31, 22, 45)"
      ]
     },
     "execution_count": 23,
     "metadata": {},
     "output_type": "execute_result"
    }
   ],
   "source": [
    "parse('Jan 31, 1997 10:45 PM')"
   ]
  },
  {
   "cell_type": "code",
   "execution_count": 24,
   "id": "f8c65593",
   "metadata": {},
   "outputs": [
    {
     "data": {
      "text/plain": [
       "datetime.datetime(2011, 12, 6, 0, 0)"
      ]
     },
     "execution_count": 24,
     "metadata": {},
     "output_type": "execute_result"
    }
   ],
   "source": [
    "parse('6/12/2011', dayfirst = True)"
   ]
  },
  {
   "cell_type": "markdown",
   "id": "270abfa1",
   "metadata": {},
   "source": [
    "### ```pd.to_datetime()``` : 문자형을 datetime형으로 변환. 많은 종류의 날짜 표현을 처리"
   ]
  },
  {
   "cell_type": "code",
   "execution_count": 25,
   "id": "58bed822",
   "metadata": {},
   "outputs": [
    {
     "data": {
      "text/plain": [
       "DatetimeIndex(['2011-07-06 12:00:00', '2011-08-06 00:00:00'], dtype='datetime64[ns]', freq=None)"
      ]
     },
     "execution_count": 25,
     "metadata": {},
     "output_type": "execute_result"
    }
   ],
   "source": [
    "datestrs = ['2011-07-06 12:00:00', '2011-08-06 00:00:00']\n",
    "pd.to_datetime(datestrs)"
   ]
  },
  {
   "cell_type": "code",
   "execution_count": 26,
   "id": "5b190a39",
   "metadata": {},
   "outputs": [
    {
     "data": {
      "text/plain": [
       "DatetimeIndex(['2011-07-06 12:00:00', '2011-08-06 00:00:00', 'NaT'], dtype='datetime64[ns]', freq=None)"
      ]
     },
     "execution_count": 26,
     "metadata": {},
     "output_type": "execute_result"
    }
   ],
   "source": [
    "idx = pd.to_datetime(datestrs + [None])\n",
    "idx"
   ]
  },
  {
   "cell_type": "code",
   "execution_count": 28,
   "id": "9df318a1",
   "metadata": {},
   "outputs": [
    {
     "data": {
      "text/plain": [
       "NaT"
      ]
     },
     "execution_count": 28,
     "metadata": {},
     "output_type": "execute_result"
    }
   ],
   "source": [
    "idx[2]"
   ]
  },
  {
   "cell_type": "code",
   "execution_count": 29,
   "id": "6e08bc14",
   "metadata": {},
   "outputs": [
    {
     "data": {
      "text/plain": [
       "array([False, False,  True])"
      ]
     },
     "execution_count": 29,
     "metadata": {},
     "output_type": "execute_result"
    }
   ],
   "source": [
    "pd.isnull(idx)"
   ]
  },
  {
   "cell_type": "markdown",
   "id": "cb05f4b0",
   "metadata": {},
   "source": [
    "#### 로케일별 날짜 포맷\n",
    "|  |  |\n",
    "| -- | -- |\n",
    "| %a | 축약된 요일 이름 |\n",
    "| %A | 요일 이름 |\n",
    "| %b | 축약된 월 이름 |\n",
    "| %B | 월 이름 |\n",
    "| %c | 전체 날짜와 시간 ('Tue 01 May 2012 04:20:57 PM') |\n",
    "| %p | 해당 로케일에서 AM. PM에 대응되는 이름 (AM은 오전, PM은 오후) |\n",
    "| %x | 로케일에 맞는 날짜 형식 ('05/01/2012') |\n",
    "| %X | 로케일에 맞는 시간 형식 ('04:24:12 PM) |"
   ]
  },
  {
   "cell_type": "markdown",
   "id": "738adf2e",
   "metadata": {},
   "source": [
    "### \n",
    "### 시계열 기초"
   ]
  },
  {
   "cell_type": "code",
   "execution_count": 31,
   "id": "d495666a",
   "metadata": {},
   "outputs": [],
   "source": [
    "from datetime import datetime"
   ]
  },
  {
   "cell_type": "code",
   "execution_count": 32,
   "id": "57568509",
   "metadata": {},
   "outputs": [],
   "source": [
    "dates = [datetime(2011, 1, 2), datetime(2011, 1, 5),\n",
    "         datetime(2011, 1, 7), datetime(2011, 1, 8),\n",
    "         datetime(2011, 1, 10), datetime(2011, 1, 12)]\n",
    "\n",
    "ts = pd.Series(np.random.randn(6), index = dates)"
   ]
  },
  {
   "cell_type": "code",
   "execution_count": 34,
   "id": "bab2c51f",
   "metadata": {},
   "outputs": [
    {
     "data": {
      "text/plain": [
       "(2011-01-02    0.122521\n",
       " 2011-01-05    1.886185\n",
       " 2011-01-07    1.347976\n",
       " 2011-01-08    0.125221\n",
       " 2011-01-10    0.068008\n",
       " 2011-01-12    0.124169\n",
       " dtype: float64,\n",
       " DatetimeIndex(['2011-01-02', '2011-01-05', '2011-01-07', '2011-01-08',\n",
       "                '2011-01-10', '2011-01-12'],\n",
       "               dtype='datetime64[ns]', freq=None))"
      ]
     },
     "execution_count": 34,
     "metadata": {},
     "output_type": "execute_result"
    }
   ],
   "source": [
    "ts, ts.index"
   ]
  },
  {
   "cell_type": "code",
   "execution_count": 35,
   "id": "ee6fb37f",
   "metadata": {},
   "outputs": [
    {
     "data": {
      "text/plain": [
       "(2011-01-02    0.245042\n",
       " 2011-01-05         NaN\n",
       " 2011-01-07    2.695952\n",
       " 2011-01-08         NaN\n",
       " 2011-01-10    0.136016\n",
       " 2011-01-12         NaN\n",
       " dtype: float64,\n",
       " dtype('<M8[ns]'))"
      ]
     },
     "execution_count": 35,
     "metadata": {},
     "output_type": "execute_result"
    }
   ],
   "source": [
    "ts + ts[::2], ts.index.dtype"
   ]
  },
  {
   "cell_type": "code",
   "execution_count": 36,
   "id": "8677cfd3",
   "metadata": {},
   "outputs": [
    {
     "data": {
      "text/plain": [
       "Timestamp('2011-01-02 00:00:00')"
      ]
     },
     "execution_count": 36,
     "metadata": {},
     "output_type": "execute_result"
    }
   ],
   "source": [
    "stamp = ts.index[0]\n",
    "stamp"
   ]
  },
  {
   "cell_type": "markdown",
   "id": "7acfc014",
   "metadata": {},
   "source": [
    "### 인덱스, 선택, 부분 선택\n",
    "- 시계열은 라벨에 기반해서 데이터를 선택하고 인덱싱할 때, pandas.Series와 동일하게 동작"
   ]
  },
  {
   "cell_type": "code",
   "execution_count": 37,
   "id": "c86e245d",
   "metadata": {},
   "outputs": [],
   "source": [
    "stamp = ts.index[2]"
   ]
  },
  {
   "cell_type": "code",
   "execution_count": 38,
   "id": "41bc3447",
   "metadata": {},
   "outputs": [
    {
     "data": {
      "text/plain": [
       "1.3479757784333442"
      ]
     },
     "execution_count": 38,
     "metadata": {},
     "output_type": "execute_result"
    }
   ],
   "source": [
    "ts[stamp]"
   ]
  },
  {
   "cell_type": "code",
   "execution_count": 41,
   "id": "88d82d95",
   "metadata": {},
   "outputs": [
    {
     "data": {
      "text/plain": [
       "(0.06800800232490241, 0.06800800232490241)"
      ]
     },
     "execution_count": 41,
     "metadata": {},
     "output_type": "execute_result"
    }
   ],
   "source": [
    "ts['1/10/2011'], ts['20110110']"
   ]
  },
  {
   "cell_type": "code",
   "execution_count": 48,
   "id": "74543885",
   "metadata": {},
   "outputs": [
    {
     "data": {
      "text/plain": [
       "2001-05-01    0.842289\n",
       "2001-05-02   -0.171754\n",
       "2001-05-03   -0.191754\n",
       "2001-05-04    0.448671\n",
       "2001-05-05   -0.277448\n",
       "Freq: D, dtype: float64"
      ]
     },
     "execution_count": 48,
     "metadata": {},
     "output_type": "execute_result"
    }
   ],
   "source": [
    "longer_ts = pd.Series(np.random.randn(1000),\n",
    "                      index = pd.date_range('1/1/2000', periods = 1000))\n",
    "\n",
    "longer_ts['2001'].head() # 2001년의 데이터\n",
    "longer_ts['2001-05'].head() # 2001년 5월의 데이터"
   ]
  },
  {
   "cell_type": "code",
   "execution_count": 52,
   "id": "df25de49",
   "metadata": {},
   "outputs": [
    {
     "data": {
      "text/plain": [
       "2011-01-07    1.347976\n",
       "2011-01-08    0.125221\n",
       "2011-01-10    0.068008\n",
       "dtype: float64"
      ]
     },
     "execution_count": 52,
     "metadata": {},
     "output_type": "execute_result"
    }
   ],
   "source": [
    "ts[datetime(2011, 1, 7):] # 2011년 1월 7일부터의 데이터\n",
    "ts['1/6/2011':'1/11/2011'] # 2011 1월 6일 ~ 2011년 1월 10일"
   ]
  },
  {
   "cell_type": "markdown",
   "id": "391df346",
   "metadata": {},
   "source": [
    "###  ```ts.truncate(after)``` : TimeSeries를 두 개의 날짜로 분할"
   ]
  },
  {
   "cell_type": "code",
   "execution_count": 53,
   "id": "bb981ec9",
   "metadata": {},
   "outputs": [
    {
     "data": {
      "text/plain": [
       "2011-01-02    0.122521\n",
       "2011-01-05    1.886185\n",
       "2011-01-07    1.347976\n",
       "2011-01-08    0.125221\n",
       "dtype: float64"
      ]
     },
     "execution_count": 53,
     "metadata": {},
     "output_type": "execute_result"
    }
   ],
   "source": [
    "ts.truncate(after = '1/9/2011')"
   ]
  },
  {
   "cell_type": "markdown",
   "id": "f7a1eea2",
   "metadata": {},
   "source": [
    "### ```pd.date_range(start, periods, freq)```"
   ]
  },
  {
   "cell_type": "markdown",
   "id": "c482d399",
   "metadata": {},
   "source": [
    "- 2001년 1월 1일부터, 100번의 수요일"
   ]
  },
  {
   "cell_type": "code",
   "execution_count": 56,
   "id": "3d472669",
   "metadata": {},
   "outputs": [],
   "source": [
    "dates = pd.date_range('1/1/2000', periods = 100, freq = 'W-WED')"
   ]
  },
  {
   "cell_type": "code",
   "execution_count": 57,
   "id": "ab1d021b",
   "metadata": {},
   "outputs": [
    {
     "data": {
      "text/html": [
       "<div>\n",
       "<style scoped>\n",
       "    .dataframe tbody tr th:only-of-type {\n",
       "        vertical-align: middle;\n",
       "    }\n",
       "\n",
       "    .dataframe tbody tr th {\n",
       "        vertical-align: top;\n",
       "    }\n",
       "\n",
       "    .dataframe thead th {\n",
       "        text-align: right;\n",
       "    }\n",
       "</style>\n",
       "<table border=\"1\" class=\"dataframe\">\n",
       "  <thead>\n",
       "    <tr style=\"text-align: right;\">\n",
       "      <th></th>\n",
       "      <th>Colorado</th>\n",
       "      <th>Texas</th>\n",
       "      <th>New York</th>\n",
       "      <th>Ohio</th>\n",
       "    </tr>\n",
       "  </thead>\n",
       "  <tbody>\n",
       "    <tr>\n",
       "      <th>2001-05-02</th>\n",
       "      <td>0.091623</td>\n",
       "      <td>0.010655</td>\n",
       "      <td>-0.719569</td>\n",
       "      <td>1.923798</td>\n",
       "    </tr>\n",
       "    <tr>\n",
       "      <th>2001-05-09</th>\n",
       "      <td>0.618226</td>\n",
       "      <td>0.709438</td>\n",
       "      <td>0.243580</td>\n",
       "      <td>-0.444513</td>\n",
       "    </tr>\n",
       "    <tr>\n",
       "      <th>2001-05-16</th>\n",
       "      <td>0.360693</td>\n",
       "      <td>0.750749</td>\n",
       "      <td>0.767767</td>\n",
       "      <td>0.616157</td>\n",
       "    </tr>\n",
       "    <tr>\n",
       "      <th>2001-05-23</th>\n",
       "      <td>0.065490</td>\n",
       "      <td>-0.181323</td>\n",
       "      <td>-1.114988</td>\n",
       "      <td>-1.933451</td>\n",
       "    </tr>\n",
       "    <tr>\n",
       "      <th>2001-05-30</th>\n",
       "      <td>-0.496787</td>\n",
       "      <td>-0.832469</td>\n",
       "      <td>-1.347739</td>\n",
       "      <td>0.622098</td>\n",
       "    </tr>\n",
       "  </tbody>\n",
       "</table>\n",
       "</div>"
      ],
      "text/plain": [
       "            Colorado     Texas  New York      Ohio\n",
       "2001-05-02  0.091623  0.010655 -0.719569  1.923798\n",
       "2001-05-09  0.618226  0.709438  0.243580 -0.444513\n",
       "2001-05-16  0.360693  0.750749  0.767767  0.616157\n",
       "2001-05-23  0.065490 -0.181323 -1.114988 -1.933451\n",
       "2001-05-30 -0.496787 -0.832469 -1.347739  0.622098"
      ]
     },
     "execution_count": 57,
     "metadata": {},
     "output_type": "execute_result"
    }
   ],
   "source": [
    "long_df = pd.DataFrame(np.random.randn(100, 4),\n",
    "                       index = dates,\n",
    "                       columns = ['Colorado', 'Texas',\n",
    "                                  'New York', 'Ohio'])\n",
    "long_df.loc['5-2001']"
   ]
  },
  {
   "cell_type": "markdown",
   "id": "3b5b1a04",
   "metadata": {},
   "source": [
    "### 중복된 인덱스를 갖는 시계열"
   ]
  },
  {
   "cell_type": "code",
   "execution_count": 58,
   "id": "8944b24e",
   "metadata": {},
   "outputs": [
    {
     "data": {
      "text/plain": [
       "2000-01-01    0\n",
       "2000-01-02    1\n",
       "2000-01-02    2\n",
       "2000-01-02    3\n",
       "2000-01-03    4\n",
       "dtype: int32"
      ]
     },
     "execution_count": 58,
     "metadata": {},
     "output_type": "execute_result"
    }
   ],
   "source": [
    "dates = pd.DatetimeIndex(['1/1/2000', '1/2/2000', '1/2/2000',\n",
    "                          '1/2/2000', '1/3/2000'])\n",
    "dup_ts = pd.Series(np.arange(5), index = dates)\n",
    "dup_ts"
   ]
  },
  {
   "cell_type": "code",
   "execution_count": 59,
   "id": "37baaad5",
   "metadata": {},
   "outputs": [
    {
     "data": {
      "text/plain": [
       "2000-01-02    1\n",
       "2000-01-02    2\n",
       "2000-01-02    3\n",
       "dtype: int32"
      ]
     },
     "execution_count": 59,
     "metadata": {},
     "output_type": "execute_result"
    }
   ],
   "source": [
    "dup_ts['1/3/2000']  # 중복 없음\n",
    "dup_ts['1/2/2000']  # 중복 있음"
   ]
  },
  {
   "cell_type": "markdown",
   "id": "0507219d",
   "metadata": {},
   "source": [
    "-- **한 가지 방법은 groupby에 level = 0 (단일 단계 인덱싱)을 넘기는 것**"
   ]
  },
  {
   "cell_type": "code",
   "execution_count": 66,
   "id": "32df8343",
   "metadata": {},
   "outputs": [
    {
     "data": {
      "text/plain": [
       "2000-01-01    1\n",
       "2000-01-02    3\n",
       "2000-01-03    1\n",
       "dtype: int64"
      ]
     },
     "execution_count": 66,
     "metadata": {},
     "output_type": "execute_result"
    }
   ],
   "source": [
    "grouped = dup_ts.groupby(level = 0)\n",
    "grouped.mean()\n",
    "grouped.count()"
   ]
  },
  {
   "cell_type": "markdown",
   "id": "25b2c851",
   "metadata": {},
   "source": [
    "### \n",
    "### 날짜 범위, 빈도, 이동"
   ]
  },
  {
   "cell_type": "markdown",
   "id": "8760ff19",
   "metadata": {},
   "source": [
    "### ```ts.resampler()``` : 시계열을 고정된 일 빈도로 변환\n",
    "- 'D'는 일 빈도로 해석"
   ]
  },
  {
   "cell_type": "code",
   "execution_count": 69,
   "id": "ac5c4857",
   "metadata": {},
   "outputs": [],
   "source": [
    "ts\n",
    "resampler = ts.resample('D') "
   ]
  },
  {
   "cell_type": "markdown",
   "id": "ae8b5161",
   "metadata": {},
   "source": [
    "### 날짜 범위 생성"
   ]
  },
  {
   "cell_type": "markdown",
   "id": "c3968f4d",
   "metadata": {},
   "source": [
    "### ```pd.date_range(start, periods, freq)``` : 특정 빈도에 따라 지정한 길이만큼의 DatetimeIndex 객체 생성"
   ]
  },
  {
   "cell_type": "code",
   "execution_count": 73,
   "id": "5eb1af28",
   "metadata": {},
   "outputs": [
    {
     "data": {
      "text/plain": [
       "DatetimeIndex(['2001-04-01', '2001-04-02', '2001-04-03', '2001-04-04',\n",
       "               '2001-04-05'],\n",
       "              dtype='datetime64[ns]', freq='D')"
      ]
     },
     "execution_count": 73,
     "metadata": {},
     "output_type": "execute_result"
    }
   ],
   "source": [
    "index = pd.date_range('2001-04-01', '2012-06-01')\n",
    "index[:5]"
   ]
  },
  {
   "cell_type": "code",
   "execution_count": 74,
   "id": "7546db3b",
   "metadata": {},
   "outputs": [
    {
     "data": {
      "text/plain": [
       "DatetimeIndex(['2012-04-01', '2012-04-02', '2012-04-03', '2012-04-04',\n",
       "               '2012-04-05', '2012-04-06', '2012-04-07', '2012-04-08',\n",
       "               '2012-04-09', '2012-04-10', '2012-04-11', '2012-04-12',\n",
       "               '2012-04-13', '2012-04-14', '2012-04-15', '2012-04-16',\n",
       "               '2012-04-17', '2012-04-18', '2012-04-19', '2012-04-20'],\n",
       "              dtype='datetime64[ns]', freq='D')"
      ]
     },
     "execution_count": 74,
     "metadata": {},
     "output_type": "execute_result"
    }
   ],
   "source": [
    "pd.date_range(start = '2012-04-01', periods = 20)"
   ]
  },
  {
   "cell_type": "markdown",
   "id": "f0855724",
   "metadata": {},
   "source": [
    "### 시계열 빈도\n",
    "| **축약** | **오프셋 종류** | **설명** | \n",
    "| -- | -- | -- |\n",
    "| D | Day | 달력상의 일 |\n",
    "| B | BusinessDay | 매 영업일 |\n",
    "| H | Hour | 매 시 |\n",
    "| T 또는 min | Minute | 매 분 |\n",
    "| S | Second | 매 초 |\n",
    "| L 또는 ms  | Milli | 밀리초 |\n",
    "| U | Micro | 마이크로초 |\n",
    "| M | MonthEnd | 월 말일 |\n",
    "| BM | BusinessMonthEnd | 월 영업마감일 |\n",
    "| MS | MonthBegin | 월 시작일 |\n",
    "| BMS | BusinessMonthBegin | 월 영업시작일 |\n",
    "| W-MON, W-TUE, ... | Week | 요일 (MON, TUE, WED, THU, FRI, SAT, SUN) |\n",
    "| WOM-1MON, WOM-2MON, ... | WeekOfMonth | 월별 주차와 요일, (WOM-3FRI : 매월 3째주 금요일) |\n",
    "| Q-JAN, Q-FEB, ... | QuarterEnd | 지정된 월을 해당년도의 마감으로 하며, 지정된 월의 마짐가 날짜를 가리키는 분기 주기 (JAN, FEB, MAR, APR, MAY, JUN, JUL, AUG, SEP, OCT, NOV, DEC) |\n",
    "| BQ-JAN, BQ-FEB | BusinessQuarterEnd | 지정된 월을 해당년도의 마감으로 하며 지정된 월의 마지막 영업일을 가리키는 분기 주기 |\n",
    "| QS-JAN, QS-FEB | QuarterBegin | 지정된 월을 해당년도의 마감으로 하며 지정된 월의 첫쨰 날을 가리키는 분기 주기 |\n",
    "| BQS-JAN, BQS-FEB | BusinessQuarterBegin | 지정된 월을 해댕년도의 마감으로 하며, 지정된 월의 첫 번째 영업일을 가리키는 분기 주기 |\n",
    "| A-JAN, A-FEB | YearEnd | 주어진 월의 마지막 일을 가리키는 연간 주기 |\n",
    "| BA-JAN, BA-FEB, ... | BusinessYearEnd | 주어진 월의 영업 마감일을 가리키는 연간 주기 |\n",
    "| AS-JAN, AS-FEB, ... | YearBegin | 주어진 월의 시작일을 가리키는 연간 주기 |\n",
    "| BAS-JAN, BAS-FEB, ... | BusinessYearBegin | 주어진 월의 영업 시작일을 가리키는 연간 주기 |"
   ]
  },
  {
   "cell_type": "markdown",
   "id": "186944cf",
   "metadata": {},
   "source": [
    "- 각 월의 마지막 영업일을 포함 ```freq = 'BM```"
   ]
  },
  {
   "cell_type": "code",
   "execution_count": 76,
   "id": "41c070f5",
   "metadata": {},
   "outputs": [
    {
     "data": {
      "text/plain": [
       "DatetimeIndex(['2000-01-31', '2000-02-29', '2000-03-31', '2000-04-28',\n",
       "               '2000-05-31', '2000-06-30', '2000-07-31', '2000-08-31',\n",
       "               '2000-09-29', '2000-10-31', '2000-11-30'],\n",
       "              dtype='datetime64[ns]', freq='BM')"
      ]
     },
     "execution_count": 76,
     "metadata": {},
     "output_type": "execute_result"
    }
   ],
   "source": [
    "pd.date_range('2000-01-01', '2000-12-01', freq = 'BM')"
   ]
  },
  {
   "cell_type": "code",
   "execution_count": 78,
   "id": "2c42034c",
   "metadata": {},
   "outputs": [
    {
     "data": {
      "text/plain": [
       "DatetimeIndex(['2012-05-02 12:56:31', '2012-05-03 12:56:31',\n",
       "               '2012-05-04 12:56:31', '2012-05-05 12:56:31',\n",
       "               '2012-05-06 12:56:31'],\n",
       "              dtype='datetime64[ns]', freq='D')"
      ]
     },
     "execution_count": 78,
     "metadata": {},
     "output_type": "execute_result"
    }
   ],
   "source": [
    "pd.date_range('2012-05-02 12:56:31', periods = 5)"
   ]
  },
  {
   "cell_type": "markdown",
   "id": "bbb81724",
   "metadata": {},
   "source": [
    "- 관례에 따라 자정에 맞추어 타임스탬프를 **정규화** ```normalize = True```"
   ]
  },
  {
   "cell_type": "code",
   "execution_count": 79,
   "id": "d2b98c2a",
   "metadata": {},
   "outputs": [
    {
     "data": {
      "text/plain": [
       "DatetimeIndex(['2012-05-02', '2012-05-03', '2012-05-04', '2012-05-05',\n",
       "               '2012-05-06'],\n",
       "              dtype='datetime64[ns]', freq='D')"
      ]
     },
     "execution_count": 79,
     "metadata": {},
     "output_type": "execute_result"
    }
   ],
   "source": [
    "pd.date_range('2012-05-02 12:56:31', periods = 5, normalize = True)"
   ]
  },
  {
   "cell_type": "markdown",
   "id": "ca6be342",
   "metadata": {},
   "source": [
    "### 빈도와 날짜 오프셋\n",
    "- pandas에서 빈도는 기본 빈도와 배수의 조합으로 구성\n",
    "- 각 빈도에는 일반적으로 날짜 오프셋이라고 불리는 객체 사용 가능"
   ]
  },
  {
   "cell_type": "code",
   "execution_count": 80,
   "id": "380bf9f9",
   "metadata": {},
   "outputs": [],
   "source": [
    "from pandas.tseries.offsets import Hour, Minute"
   ]
  },
  {
   "cell_type": "code",
   "execution_count": 82,
   "id": "d9a483b4",
   "metadata": {},
   "outputs": [
    {
     "data": {
      "text/plain": [
       "<Hour>"
      ]
     },
     "execution_count": 82,
     "metadata": {},
     "output_type": "execute_result"
    }
   ],
   "source": [
    "hour = Hour(); hour"
   ]
  },
  {
   "cell_type": "code",
   "execution_count": 83,
   "id": "7ee727fa",
   "metadata": {},
   "outputs": [
    {
     "data": {
      "text/plain": [
       "<4 * Hours>"
      ]
     },
     "execution_count": 83,
     "metadata": {},
     "output_type": "execute_result"
    }
   ],
   "source": [
    "four_hours = Hour(4); four_hours"
   ]
  },
  {
   "cell_type": "markdown",
   "id": "bb19ea77",
   "metadata": {},
   "source": [
    "- 4시간 간격"
   ]
  },
  {
   "cell_type": "code",
   "execution_count": 84,
   "id": "f5dfac03",
   "metadata": {
    "scrolled": true
   },
   "outputs": [
    {
     "data": {
      "text/plain": [
       "DatetimeIndex(['2000-01-01 00:00:00', '2000-01-01 04:00:00',\n",
       "               '2000-01-01 08:00:00', '2000-01-01 12:00:00',\n",
       "               '2000-01-01 16:00:00', '2000-01-01 20:00:00',\n",
       "               '2000-01-02 00:00:00', '2000-01-02 04:00:00',\n",
       "               '2000-01-02 08:00:00', '2000-01-02 12:00:00',\n",
       "               '2000-01-02 16:00:00', '2000-01-02 20:00:00',\n",
       "               '2000-01-03 00:00:00', '2000-01-03 04:00:00',\n",
       "               '2000-01-03 08:00:00', '2000-01-03 12:00:00',\n",
       "               '2000-01-03 16:00:00', '2000-01-03 20:00:00'],\n",
       "              dtype='datetime64[ns]', freq='4H')"
      ]
     },
     "execution_count": 84,
     "metadata": {},
     "output_type": "execute_result"
    }
   ],
   "source": [
    "pd.date_range('2000-01-01', '2000-01-03 23:59', freq = '4h') "
   ]
  },
  {
   "cell_type": "markdown",
   "id": "670cfad8",
   "metadata": {},
   "source": [
    "- 1시간 30분 간격의, 10번 구간"
   ]
  },
  {
   "cell_type": "code",
   "execution_count": 87,
   "id": "73911e6c",
   "metadata": {},
   "outputs": [
    {
     "data": {
      "text/plain": [
       "DatetimeIndex(['2000-01-01 00:00:00', '2000-01-01 01:30:00',\n",
       "               '2000-01-01 03:00:00', '2000-01-01 04:30:00',\n",
       "               '2000-01-01 06:00:00', '2000-01-01 07:30:00',\n",
       "               '2000-01-01 09:00:00', '2000-01-01 10:30:00',\n",
       "               '2000-01-01 12:00:00', '2000-01-01 13:30:00'],\n",
       "              dtype='datetime64[ns]', freq='90T')"
      ]
     },
     "execution_count": 87,
     "metadata": {},
     "output_type": "execute_result"
    }
   ],
   "source": [
    "pd.date_range('2000-01-01', periods = 10, freq = '1h30min')"
   ]
  },
  {
   "cell_type": "markdown",
   "id": "4fb63b0e",
   "metadata": {},
   "source": [
    "- 오프셋 연산"
   ]
  },
  {
   "cell_type": "code",
   "execution_count": 85,
   "id": "ff717a1b",
   "metadata": {},
   "outputs": [
    {
     "data": {
      "text/plain": [
       "<150 * Minutes>"
      ]
     },
     "execution_count": 85,
     "metadata": {},
     "output_type": "execute_result"
    }
   ],
   "source": [
    "Hour(2) + Minute(30)"
   ]
  },
  {
   "cell_type": "markdown",
   "id": "d1cbcadf",
   "metadata": {},
   "source": [
    "### 월별 주차"
   ]
  },
  {
   "cell_type": "markdown",
   "id": "4b69f436",
   "metadata": {},
   "source": [
    "- 매월 3째주 금요일"
   ]
  },
  {
   "cell_type": "code",
   "execution_count": 89,
   "id": "31c0cde9",
   "metadata": {},
   "outputs": [
    {
     "data": {
      "text/plain": [
       "[Timestamp('2012-01-20 00:00:00', freq='WOM-3FRI'),\n",
       " Timestamp('2012-02-17 00:00:00', freq='WOM-3FRI'),\n",
       " Timestamp('2012-03-16 00:00:00', freq='WOM-3FRI'),\n",
       " Timestamp('2012-04-20 00:00:00', freq='WOM-3FRI'),\n",
       " Timestamp('2012-05-18 00:00:00', freq='WOM-3FRI'),\n",
       " Timestamp('2012-06-15 00:00:00', freq='WOM-3FRI'),\n",
       " Timestamp('2012-07-20 00:00:00', freq='WOM-3FRI'),\n",
       " Timestamp('2012-08-17 00:00:00', freq='WOM-3FRI')]"
      ]
     },
     "execution_count": 89,
     "metadata": {},
     "output_type": "execute_result"
    }
   ],
   "source": [
    "rng = pd.date_range('2012-01-01', '2012-09-01', freq = 'WOM-3FRI')\n",
    "list(rng)"
   ]
  },
  {
   "cell_type": "markdown",
   "id": "1e526b5e",
   "metadata": {},
   "source": [
    "### 데이터 시프트\n",
    "- 데이터를 시간 축에서 앞이나 뒤로 이동\n",
    "### ```.shift(n)```"
   ]
  },
  {
   "cell_type": "code",
   "execution_count": 90,
   "id": "a94847b0",
   "metadata": {},
   "outputs": [
    {
     "data": {
      "text/plain": [
       "2000-01-31    0.246089\n",
       "2000-02-29    0.481998\n",
       "2000-03-31    0.099934\n",
       "2000-04-30   -0.613101\n",
       "Freq: M, dtype: float64"
      ]
     },
     "execution_count": 90,
     "metadata": {},
     "output_type": "execute_result"
    }
   ],
   "source": [
    "ts = pd.Series(np.random.randn(4),\n",
    "               index=pd.date_range('1/1/2000', periods = 4, freq = 'M'))\n",
    "ts"
   ]
  },
  {
   "cell_type": "markdown",
   "id": "ce043f1b",
   "metadata": {},
   "source": [
    "- 시프트를 하면 시계열의 시작이나 끝에 결측치가 발생"
   ]
  },
  {
   "cell_type": "code",
   "execution_count": 91,
   "id": "3e1a22fd",
   "metadata": {},
   "outputs": [
    {
     "data": {
      "text/plain": [
       "(2000-01-31         NaN\n",
       " 2000-02-29         NaN\n",
       " 2000-03-31    0.246089\n",
       " 2000-04-30    0.481998\n",
       " Freq: M, dtype: float64,\n",
       " 2000-01-31    0.099934\n",
       " 2000-02-29   -0.613101\n",
       " 2000-03-31         NaN\n",
       " 2000-04-30         NaN\n",
       " Freq: M, dtype: float64)"
      ]
     },
     "execution_count": 91,
     "metadata": {},
     "output_type": "execute_result"
    }
   ],
   "source": [
    "ts.shift(2), ts.shift(-2)"
   ]
  },
  {
   "cell_type": "markdown",
   "id": "ffe5664c",
   "metadata": {},
   "source": [
    "- **시계열에서의 퍼센트 변화 계산**"
   ]
  },
  {
   "cell_type": "code",
   "execution_count": 92,
   "id": "41cd3f10",
   "metadata": {
    "scrolled": true
   },
   "outputs": [
    {
     "data": {
      "text/plain": [
       "2000-01-31         NaN\n",
       "2000-02-29    0.958629\n",
       "2000-03-31   -0.792667\n",
       "2000-04-30   -7.135062\n",
       "Freq: M, dtype: float64"
      ]
     },
     "execution_count": 92,
     "metadata": {},
     "output_type": "execute_result"
    }
   ],
   "source": [
    "ts / ts.shift(1) - 1"
   ]
  },
  {
   "cell_type": "markdown",
   "id": "f5c0036d",
   "metadata": {},
   "source": [
    "- shift에 빈도를 넘겨, 타임스탬프가 확장"
   ]
  },
  {
   "cell_type": "code",
   "execution_count": 93,
   "id": "7d680766",
   "metadata": {},
   "outputs": [
    {
     "data": {
      "text/plain": [
       "2000-03-31    0.246089\n",
       "2000-04-30    0.481998\n",
       "2000-05-31    0.099934\n",
       "2000-06-30   -0.613101\n",
       "Freq: M, dtype: float64"
      ]
     },
     "execution_count": 93,
     "metadata": {},
     "output_type": "execute_result"
    }
   ],
   "source": [
    "ts.shift(2, freq = 'M')"
   ]
  },
  {
   "cell_type": "code",
   "execution_count": 96,
   "id": "c1c5ca4b",
   "metadata": {},
   "outputs": [
    {
     "data": {
      "text/plain": [
       "2000-01-31 01:30:00    0.246089\n",
       "2000-02-29 01:30:00    0.481998\n",
       "2000-03-31 01:30:00    0.099934\n",
       "2000-04-30 01:30:00   -0.613101\n",
       "dtype: float64"
      ]
     },
     "execution_count": 96,
     "metadata": {},
     "output_type": "execute_result"
    }
   ],
   "source": [
    "ts.shift(1, freq = '90T') # T는 분을 나타냄"
   ]
  },
  {
   "cell_type": "markdown",
   "id": "14374f46",
   "metadata": {},
   "source": [
    "### 오프셋 만큼 날짜 시프트"
   ]
  },
  {
   "cell_type": "code",
   "execution_count": 97,
   "id": "9b4095fc",
   "metadata": {},
   "outputs": [],
   "source": [
    "from pandas.tseries.offsets import Day, MonthEnd"
   ]
  },
  {
   "cell_type": "code",
   "execution_count": 98,
   "id": "69505c16",
   "metadata": {},
   "outputs": [
    {
     "data": {
      "text/plain": [
       "Timestamp('2011-11-20 00:00:00')"
      ]
     },
     "execution_count": 98,
     "metadata": {},
     "output_type": "execute_result"
    }
   ],
   "source": [
    "now = datetime(2011, 11, 17)\n",
    "now + 3 * Day()"
   ]
  },
  {
   "cell_type": "markdown",
   "id": "a9dea5f3",
   "metadata": {},
   "source": [
    "- 앵커드 오프셋을 추가하면, 빈도 규칙의 다음 날짜로 롤 포워드"
   ]
  },
  {
   "cell_type": "code",
   "execution_count": 99,
   "id": "4709b4d2",
   "metadata": {
    "scrolled": true
   },
   "outputs": [
    {
     "data": {
      "text/plain": [
       "Timestamp('2011-11-30 00:00:00')"
      ]
     },
     "execution_count": 99,
     "metadata": {},
     "output_type": "execute_result"
    }
   ],
   "source": [
    "now + MonthEnd()"
   ]
  },
  {
   "cell_type": "code",
   "execution_count": 100,
   "id": "3e73361d",
   "metadata": {},
   "outputs": [
    {
     "data": {
      "text/plain": [
       "Timestamp('2011-12-31 00:00:00')"
      ]
     },
     "execution_count": 100,
     "metadata": {},
     "output_type": "execute_result"
    }
   ],
   "source": [
    "now + MonthEnd(2)"
   ]
  },
  {
   "cell_type": "markdown",
   "id": "2238f6eb",
   "metadata": {},
   "source": [
    "### ```.rollforward(datetime)``` : 롤 포워드\n",
    "### ```.rollback(datetime)``` : 롤 백"
   ]
  },
  {
   "cell_type": "code",
   "execution_count": 102,
   "id": "dda5d427",
   "metadata": {},
   "outputs": [
    {
     "data": {
      "text/plain": [
       "Timestamp('2011-11-30 00:00:00')"
      ]
     },
     "execution_count": 102,
     "metadata": {},
     "output_type": "execute_result"
    }
   ],
   "source": [
    "offset = MonthEnd()\n",
    "offset.rollforward(now)"
   ]
  },
  {
   "cell_type": "code",
   "execution_count": 103,
   "id": "a5823985",
   "metadata": {},
   "outputs": [
    {
     "data": {
      "text/plain": [
       "Timestamp('2011-10-31 00:00:00')"
      ]
     },
     "execution_count": 103,
     "metadata": {},
     "output_type": "execute_result"
    }
   ],
   "source": [
    "offset.rollback(now)"
   ]
  },
  {
   "cell_type": "markdown",
   "id": "3a21ec97",
   "metadata": {},
   "source": [
    "### groupby와 함께 사용"
   ]
  },
  {
   "cell_type": "markdown",
   "id": "d72a92d1",
   "metadata": {},
   "source": [
    "- 월 별 평균"
   ]
  },
  {
   "cell_type": "code",
   "execution_count": 109,
   "id": "92f21706",
   "metadata": {},
   "outputs": [
    {
     "data": {
      "text/plain": [
       "2000-01-15   -1.385225\n",
       "2000-01-19    0.752141\n",
       "2000-01-23    0.502721\n",
       "2000-01-27   -0.198490\n",
       "2000-01-31   -0.349964\n",
       "2000-02-04    1.856743\n",
       "2000-02-08   -1.986232\n",
       "2000-02-12    0.754986\n",
       "2000-02-16    1.837289\n",
       "2000-02-20    1.717609\n",
       "2000-02-24    0.067610\n",
       "2000-02-28   -0.828107\n",
       "2000-03-03   -1.013227\n",
       "2000-03-07    0.400019\n",
       "2000-03-11   -2.679862\n",
       "2000-03-15    0.923182\n",
       "2000-03-19   -0.845343\n",
       "2000-03-23   -0.556060\n",
       "2000-03-27    0.880732\n",
       "2000-03-31    0.348869\n",
       "Freq: 4D, dtype: float64"
      ]
     },
     "execution_count": 109,
     "metadata": {},
     "output_type": "execute_result"
    }
   ],
   "source": [
    "ts = pd.Series(np.random.randn(20),\n",
    "               index = pd.date_range('1/15/2000', periods = 20, freq = '4d'))\n",
    "ts"
   ]
  },
  {
   "cell_type": "code",
   "execution_count": 108,
   "id": "f2b8fbeb",
   "metadata": {},
   "outputs": [
    {
     "data": {
      "text/plain": [
       "2000-01-31    0.444517\n",
       "2000-02-29   -0.478713\n",
       "2000-03-31   -0.575338\n",
       "dtype: float64"
      ]
     },
     "execution_count": 108,
     "metadata": {},
     "output_type": "execute_result"
    }
   ],
   "source": [
    "ts.groupby(offset.rollforward).mean()"
   ]
  },
  {
   "cell_type": "code",
   "execution_count": 110,
   "id": "6b63f906",
   "metadata": {},
   "outputs": [
    {
     "data": {
      "text/plain": [
       "2000-01-31   -0.135763\n",
       "2000-02-29    0.488557\n",
       "2000-03-31   -0.317711\n",
       "Freq: M, dtype: float64"
      ]
     },
     "execution_count": 110,
     "metadata": {},
     "output_type": "execute_result"
    }
   ],
   "source": [
    "ts.resample('M').mean()"
   ]
  }
 ],
 "metadata": {
  "kernelspec": {
   "display_name": "Python 3 (ipykernel)",
   "language": "python",
   "name": "python3"
  },
  "language_info": {
   "codemirror_mode": {
    "name": "ipython",
    "version": 3
   },
   "file_extension": ".py",
   "mimetype": "text/x-python",
   "name": "python",
   "nbconvert_exporter": "python",
   "pygments_lexer": "ipython3",
   "version": "3.9.7"
  }
 },
 "nbformat": 4,
 "nbformat_minor": 5
}
