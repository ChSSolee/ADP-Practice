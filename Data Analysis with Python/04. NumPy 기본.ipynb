{
 "cells": [
  {
   "cell_type": "markdown",
   "id": "1227c819",
   "metadata": {},
   "source": [
    "### NumPy ndarray : 다차원 배열 객체\n",
    "- ndarray : N차원의 배열 객체"
   ]
  },
  {
   "cell_type": "code",
   "execution_count": 1,
   "id": "3cd006bb",
   "metadata": {},
   "outputs": [],
   "source": [
    "import numpy as np"
   ]
  },
  {
   "cell_type": "markdown",
   "id": "286e79de",
   "metadata": {},
   "source": [
    "### ```np.random.randn(n)``` : n개만큼 난수 생성\n",
    "### ```np.random.randn(n, m)``` : n행과 m열만큼 난수 배열 생성"
   ]
  },
  {
   "cell_type": "code",
   "execution_count": 2,
   "id": "cfc66112",
   "metadata": {},
   "outputs": [
    {
     "data": {
      "text/plain": [
       "array([[-0.06874995,  0.6663904 ,  0.09735379],\n",
       "       [ 0.95582204, -0.79109082,  0.63133273]])"
      ]
     },
     "execution_count": 2,
     "metadata": {},
     "output_type": "execute_result"
    }
   ],
   "source": [
    "data = np.random.randn(2, 3)\n",
    "data"
   ]
  },
  {
   "cell_type": "code",
   "execution_count": 3,
   "id": "152cfe22",
   "metadata": {},
   "outputs": [
    {
     "data": {
      "text/plain": [
       "array([ 1.91979425,  0.99226079, -2.85282333])"
      ]
     },
     "execution_count": 3,
     "metadata": {},
     "output_type": "execute_result"
    }
   ],
   "source": [
    "np.random.randn(3)"
   ]
  },
  {
   "cell_type": "markdown",
   "id": "a01c32b4",
   "metadata": {},
   "source": [
    "- 배열 연산"
   ]
  },
  {
   "cell_type": "code",
   "execution_count": 4,
   "id": "e68fa784",
   "metadata": {},
   "outputs": [
    {
     "name": "stdout",
     "output_type": "stream",
     "text": [
      "[[-0.68749954  6.66390403  0.97353786]\n",
      " [ 9.55822042 -7.91090822  6.31332732]]\n",
      "[[-0.13749991  1.33278081  0.19470757]\n",
      " [ 1.91164408 -1.58218164  1.26266546]]\n"
     ]
    }
   ],
   "source": [
    "print(data * 10)\n",
    "print(data + data)"
   ]
  },
  {
   "cell_type": "markdown",
   "id": "a9a5a676",
   "metadata": {},
   "source": [
    "### ```.ndim```, ```.shape``` : 배열의 차원\n",
    "### ```.dtype``` : 배열에 저장된 자료의 형태"
   ]
  },
  {
   "cell_type": "code",
   "execution_count": 14,
   "id": "2002354e",
   "metadata": {},
   "outputs": [
    {
     "name": "stdout",
     "output_type": "stream",
     "text": [
      "2\n",
      "(2, 3)\n",
      "float64\n"
     ]
    }
   ],
   "source": [
    "print(data.ndim)\n",
    "print(data.shape)\n",
    "print(data.dtype)"
   ]
  },
  {
   "cell_type": "markdown",
   "id": "bab5eeaa",
   "metadata": {},
   "source": [
    "### 주요 배열 생성 함수\n",
    "\n",
    "| 함수 | 설명 |\n",
    "| -- | -- |\n",
    "| np.array() | 입력 데이터 (리스트, 튜플, 배열 도는 다른 순차형 데이터)를 ndarray로 변환 |\n",
    "| np.asarray() | 입력 데이터를 ndarray로 변환 |\n",
    "| np.arange() | 내장 range 함수와 유사하지만, 리스트가 아닌 ndarray를 반환 |\n",
    "| np.ones(), np.ones_like() | 주어진 dtype과 모양을 가지는 배열을 생성하고 내용을 모두 1로 초기화. ones_like는 주어진 배열과 동일한 모양과 dtype을 가지는 배열을 새로 생성하여 내용을 모두 1로 초기화 |\n",
    "| np.zeros(), np.zeros_like() | ones, ones_like과 동일하지만 내용을 0으로 |\n",
    "| np.empty(), np.empty_like() | 메모리를 할당하여 새로운 배열을 생성하지만 ones나 zeros처럼 값을 초기화 하지 않는다 |\n",
    "| np.full(), np.full_like() | 인자로 받은 dtype과 배열의 모양을 가지는 배열을 생성하고 인자로 받은 값으로 배열을 채움 |\n",
    "| np.eye(), np.identity() | N x N 크기의 단위행렬(E) 생성 |"
   ]
  },
  {
   "cell_type": "markdown",
   "id": "b01f22d4",
   "metadata": {},
   "source": [
    "#### ```np.array(data, dtype)``` : data를 dtype을 가지는 ndarray로 변환"
   ]
  },
  {
   "cell_type": "code",
   "execution_count": 9,
   "id": "0b3f3882",
   "metadata": {},
   "outputs": [
    {
     "data": {
      "text/plain": [
       "array([6. , 7.5, 8. , 0. , 1. ])"
      ]
     },
     "execution_count": 9,
     "metadata": {},
     "output_type": "execute_result"
    }
   ],
   "source": [
    "data1 = [6, 7.5, 8, 0, 1]\n",
    "arr1 = np.array(data1)\n",
    "arr1"
   ]
  },
  {
   "cell_type": "code",
   "execution_count": 11,
   "id": "71746b90",
   "metadata": {},
   "outputs": [
    {
     "data": {
      "text/plain": [
       "array([[1, 2, 3, 4],\n",
       "       [5, 6, 7, 8]])"
      ]
     },
     "execution_count": 11,
     "metadata": {},
     "output_type": "execute_result"
    }
   ],
   "source": [
    "data2 = [[1, 2, 3, 4], [5, 6, 7, 8]]\n",
    "arr2 = np.array(data2)\n",
    "arr2"
   ]
  },
  {
   "cell_type": "markdown",
   "id": "5b2909d5",
   "metadata": {},
   "source": [
    "#### ```np.zeros(size)``` : size만큼의 크기를 가지는 0의 배열\n",
    "#### ```np.ones(size)``` : size만큼의 크기를 가지는 1의 배열\n",
    "#### ```np.empty(size)``` : size만큼의 크기를 가지는 초기화되지 않은 배열 생성"
   ]
  },
  {
   "cell_type": "code",
   "execution_count": 15,
   "id": "a792c9a1",
   "metadata": {},
   "outputs": [
    {
     "data": {
      "text/plain": [
       "array([nan,  0.,  0.,  0.,  0.,  0.,  0.,  0.,  0.,  0.])"
      ]
     },
     "execution_count": 15,
     "metadata": {},
     "output_type": "execute_result"
    }
   ],
   "source": [
    "np.empty(10)"
   ]
  },
  {
   "cell_type": "code",
   "execution_count": 16,
   "id": "bc9d15c0",
   "metadata": {},
   "outputs": [
    {
     "data": {
      "text/plain": [
       "array([[[1., 1.],\n",
       "        [1., 1.],\n",
       "        [1., 1.]],\n",
       "\n",
       "       [[1., 1.],\n",
       "        [1., 1.],\n",
       "        [1., 1.]]])"
      ]
     },
     "execution_count": 16,
     "metadata": {},
     "output_type": "execute_result"
    }
   ],
   "source": [
    "np.ones((2, 3, 2))"
   ]
  },
  {
   "cell_type": "code",
   "execution_count": 17,
   "id": "e38b85f6",
   "metadata": {},
   "outputs": [
    {
     "data": {
      "text/plain": [
       "array([ 0,  1,  2,  3,  4,  5,  6,  7,  8,  9, 10, 11, 12, 13, 14])"
      ]
     },
     "execution_count": 17,
     "metadata": {},
     "output_type": "execute_result"
    }
   ],
   "source": [
    "np.arange(15)"
   ]
  },
  {
   "cell_type": "markdown",
   "id": "f437c510",
   "metadata": {},
   "source": [
    "### ndarray의 dtype"
   ]
  },
  {
   "cell_type": "code",
   "execution_count": 18,
   "id": "3f9628e3",
   "metadata": {},
   "outputs": [
    {
     "data": {
      "text/plain": [
       "array([1., 2., 3.])"
      ]
     },
     "execution_count": 18,
     "metadata": {},
     "output_type": "execute_result"
    }
   ],
   "source": [
    "arr1 = np.array([1, 2, 3], dtype = np.float64)\n",
    "arr1"
   ]
  },
  {
   "cell_type": "code",
   "execution_count": 19,
   "id": "b64f4ffa",
   "metadata": {},
   "outputs": [
    {
     "data": {
      "text/plain": [
       "dtype('int32')"
      ]
     },
     "execution_count": 19,
     "metadata": {},
     "output_type": "execute_result"
    }
   ],
   "source": [
    "arr = np.array([1, 2, 3, 4, 5])\n",
    "arr.dtype"
   ]
  },
  {
   "cell_type": "markdown",
   "id": "40151f39",
   "metadata": {},
   "source": [
    "### .astype() : 배열의 dtype을 다른 형으로 변환\n",
    "\n",
    "- ```np.int8``` : (8, 16, 32, 64), 부호가 있는 정수형\n",
    "- ```np.uint8``` : (8, 16, 32, 64), 부호가 없는 정수형\n",
    "- ```np.float8``` : (8, 16, 32, 64) 부동 소수점\n",
    "- ```np.complex64``` : (64, 128, 256) 부동소수점형을 가지는 복소수\n",
    "- ```np.bool``` : Trud와 False 값을 지정하는 불리언 형\n",
    "- ```np.object``` :  파이썬 객체형\n",
    "- ```np.string_``` : 고정 길이 아스키 문자열형 (길이가 10인 문자열 dtype은 S10이 된다.)\n",
    "- ```np.unicode_``` : 고정 길이 유니코드형 (string_형과 같은 형식을 쓴다. 예) U10)"
   ]
  },
  {
   "cell_type": "code",
   "execution_count": 22,
   "id": "7f629e8a",
   "metadata": {
    "scrolled": true
   },
   "outputs": [
    {
     "data": {
      "text/plain": [
       "dtype('float64')"
      ]
     },
     "execution_count": 22,
     "metadata": {},
     "output_type": "execute_result"
    }
   ],
   "source": [
    "float_arr = arr.astype(np.float64)\n",
    "float_arr.dtype"
   ]
  },
  {
   "cell_type": "code",
   "execution_count": 23,
   "id": "d7cf7d3f",
   "metadata": {},
   "outputs": [
    {
     "data": {
      "text/plain": [
       "array([b'1.25', b'-9.6', b'42'], dtype='|S4')"
      ]
     },
     "execution_count": 23,
     "metadata": {},
     "output_type": "execute_result"
    }
   ],
   "source": [
    "numeric_strings = np.array(['1.25', '-9.6', '42'], dtype = np.string_)\n",
    "numeric_strings"
   ]
  },
  {
   "cell_type": "code",
   "execution_count": 24,
   "id": "d8db7dc6",
   "metadata": {},
   "outputs": [
    {
     "data": {
      "text/plain": [
       "array([ 1.25, -9.6 , 42.  ])"
      ]
     },
     "execution_count": 24,
     "metadata": {},
     "output_type": "execute_result"
    }
   ],
   "source": [
    "numeric_strings.astype(float)"
   ]
  },
  {
   "cell_type": "code",
   "execution_count": 25,
   "id": "26922aec",
   "metadata": {},
   "outputs": [
    {
     "data": {
      "text/plain": [
       "array([         0, 1075314688,          0, 1075707904,          0,\n",
       "       1075838976,          0, 1072693248], dtype=uint32)"
      ]
     },
     "execution_count": 25,
     "metadata": {},
     "output_type": "execute_result"
    }
   ],
   "source": [
    "empty_unit32 = np.empty(8, dtype = 'u4')\n",
    "empty_unit32"
   ]
  },
  {
   "cell_type": "markdown",
   "id": "93f31396",
   "metadata": {},
   "source": [
    "### \n",
    "### NumPy 산술 연산"
   ]
  },
  {
   "cell_type": "code",
   "execution_count": 26,
   "id": "d1165435",
   "metadata": {},
   "outputs": [
    {
     "data": {
      "text/plain": [
       "array([[1., 2., 3.],\n",
       "       [4., 5., 6.]])"
      ]
     },
     "execution_count": 26,
     "metadata": {},
     "output_type": "execute_result"
    }
   ],
   "source": [
    "arr = np.array([[1., 2., 3.], [4., 5., 6.]])\n",
    "arr"
   ]
  },
  {
   "cell_type": "code",
   "execution_count": 27,
   "id": "59fb02e1",
   "metadata": {},
   "outputs": [
    {
     "data": {
      "text/plain": [
       "array([[ 1.,  4.,  9.],\n",
       "       [16., 25., 36.]])"
      ]
     },
     "execution_count": 27,
     "metadata": {},
     "output_type": "execute_result"
    }
   ],
   "source": [
    "arr * arr"
   ]
  },
  {
   "cell_type": "code",
   "execution_count": 28,
   "id": "3c42fdd1",
   "metadata": {},
   "outputs": [
    {
     "data": {
      "text/plain": [
       "array([[0., 0., 0.],\n",
       "       [0., 0., 0.]])"
      ]
     },
     "execution_count": 28,
     "metadata": {},
     "output_type": "execute_result"
    }
   ],
   "source": [
    "arr - arr"
   ]
  },
  {
   "cell_type": "code",
   "execution_count": 29,
   "id": "fd3c7240",
   "metadata": {},
   "outputs": [
    {
     "data": {
      "text/plain": [
       "array([[1.        , 0.5       , 0.33333333],\n",
       "       [0.25      , 0.2       , 0.16666667]])"
      ]
     },
     "execution_count": 29,
     "metadata": {},
     "output_type": "execute_result"
    }
   ],
   "source": [
    "1 / arr"
   ]
  },
  {
   "cell_type": "code",
   "execution_count": 30,
   "id": "74fe3439",
   "metadata": {},
   "outputs": [
    {
     "data": {
      "text/plain": [
       "array([[1.        , 1.41421356, 1.73205081],\n",
       "       [2.        , 2.23606798, 2.44948974]])"
      ]
     },
     "execution_count": 30,
     "metadata": {},
     "output_type": "execute_result"
    }
   ],
   "source": [
    "arr ** 0.5"
   ]
  },
  {
   "cell_type": "markdown",
   "id": "e340f302",
   "metadata": {},
   "source": [
    "- 같은 크기를 가지는 배열 간의 비교 연산은 boolean 배열을 반환"
   ]
  },
  {
   "cell_type": "code",
   "execution_count": 31,
   "id": "8e706c14",
   "metadata": {},
   "outputs": [
    {
     "data": {
      "text/plain": [
       "array([[False,  True, False],\n",
       "       [ True, False,  True]])"
      ]
     },
     "execution_count": 31,
     "metadata": {},
     "output_type": "execute_result"
    }
   ],
   "source": [
    "arr2 = np.array([[0., 4., 1.], [7., 2., 12.]])\n",
    "arr2 > arr"
   ]
  },
  {
   "cell_type": "markdown",
   "id": "8d7b5d93",
   "metadata": {},
   "source": [
    "#### 브로드 캐스팅 : 크기가 다른 배열 간의 연산"
   ]
  },
  {
   "cell_type": "markdown",
   "id": "243037c2",
   "metadata": {},
   "source": [
    "### \n",
    "### 인덱스와 슬라이싱"
   ]
  },
  {
   "cell_type": "code",
   "execution_count": 32,
   "id": "8192bb2e",
   "metadata": {},
   "outputs": [
    {
     "data": {
      "text/plain": [
       "array([0, 1, 2, 3, 4, 5, 6, 7, 8, 9])"
      ]
     },
     "execution_count": 32,
     "metadata": {},
     "output_type": "execute_result"
    }
   ],
   "source": [
    "arr = np.arange(10)\n",
    "arr"
   ]
  },
  {
   "cell_type": "code",
   "execution_count": 34,
   "id": "45895436",
   "metadata": {},
   "outputs": [
    {
     "name": "stdout",
     "output_type": "stream",
     "text": [
      "5\n",
      "[5 6 7]\n"
     ]
    }
   ],
   "source": [
    "print(arr[5])\n",
    "print(arr[5:8])"
   ]
  },
  {
   "cell_type": "markdown",
   "id": "bcd7213d",
   "metadata": {},
   "source": [
    "- 배열 조각에 스칼라 값을 대입하면, 선택영역 전체로 전파 (브로드 캐스팅)된다.\n",
    "- 배열 조각은 원본 배열의 뷰"
   ]
  },
  {
   "cell_type": "code",
   "execution_count": 37,
   "id": "05e018dc",
   "metadata": {},
   "outputs": [
    {
     "data": {
      "text/plain": [
       "array([ 0,  1,  2,  3,  4, 12, 12, 12,  8,  9])"
      ]
     },
     "execution_count": 37,
     "metadata": {},
     "output_type": "execute_result"
    }
   ],
   "source": [
    "arr[5:8] = 12\n",
    "arr"
   ]
  },
  {
   "cell_type": "markdown",
   "id": "70d2dd1c",
   "metadata": {},
   "source": [
    "- 조각 생성"
   ]
  },
  {
   "cell_type": "code",
   "execution_count": 39,
   "id": "682996d8",
   "metadata": {},
   "outputs": [
    {
     "data": {
      "text/plain": [
       "array([12, 12, 12])"
      ]
     },
     "execution_count": 39,
     "metadata": {},
     "output_type": "execute_result"
    }
   ],
   "source": [
    "arr_slice = arr[5:8]\n",
    "arr_slice"
   ]
  },
  {
   "cell_type": "markdown",
   "id": "e347d235",
   "metadata": {},
   "source": [
    "- **조각의 값을 변경하면, 원래 배열의 arr의 값도 바뀌어 있음**"
   ]
  },
  {
   "cell_type": "code",
   "execution_count": 43,
   "id": "d3e8c2c5",
   "metadata": {},
   "outputs": [
    {
     "data": {
      "text/plain": [
       "array([    0,     1,     2,     3,     4,    64, 12345,    64,     8,\n",
       "           9])"
      ]
     },
     "execution_count": 43,
     "metadata": {},
     "output_type": "execute_result"
    }
   ],
   "source": [
    "arr_slice[1] = 12345\n",
    "arr"
   ]
  },
  {
   "cell_type": "code",
   "execution_count": 42,
   "id": "b92ae788",
   "metadata": {},
   "outputs": [
    {
     "data": {
      "text/plain": [
       "array([ 0,  1,  2,  3,  4, 64, 64, 64,  8,  9])"
      ]
     },
     "execution_count": 42,
     "metadata": {},
     "output_type": "execute_result"
    }
   ],
   "source": [
    "arr_slice[:] = 64\n",
    "arr"
   ]
  },
  {
   "cell_type": "markdown",
   "id": "7cdcf1a9",
   "metadata": {},
   "source": [
    "#### - 2차원 배열 슬라이싱"
   ]
  },
  {
   "cell_type": "code",
   "execution_count": 63,
   "id": "093ab043",
   "metadata": {},
   "outputs": [
    {
     "name": "stdout",
     "output_type": "stream",
     "text": [
      "[[1 2 3]\n",
      " [4 5 6]\n",
      " [7 8 9]]\n",
      "[7 8 9]\n"
     ]
    }
   ],
   "source": [
    "arr2d = np.array([[1, 2, 3], [4, 5, 6], [7, 8, 9]])\n",
    "print(arr2d)\n",
    "print(arr2d[2])"
   ]
  },
  {
   "cell_type": "code",
   "execution_count": 48,
   "id": "63216752",
   "metadata": {},
   "outputs": [
    {
     "name": "stdout",
     "output_type": "stream",
     "text": [
      "3\n",
      "3\n"
     ]
    }
   ],
   "source": [
    "# 동일한 표현\n",
    "print(arr2d[0][2])\n",
    "print(arr2d[0, 2])"
   ]
  },
  {
   "cell_type": "markdown",
   "id": "9dea35fb",
   "metadata": {},
   "source": [
    "- **슬라이싱 인덱스가 'n'일 경우 => n+1 위치의 값을 슬라이싱**\n",
    "- **슬라이싱 인덱스가 ':n'일 경우 => n 위치의 값 들을 슬라이싱**\n",
    "\n",
    "#### ```arr2d[n, m]``` : n+1행, m+1열 슬라이싱"
   ]
  },
  {
   "cell_type": "code",
   "execution_count": 72,
   "id": "f6575a11",
   "metadata": {},
   "outputs": [
    {
     "data": {
      "text/plain": [
       "9"
      ]
     },
     "execution_count": 72,
     "metadata": {},
     "output_type": "execute_result"
    }
   ],
   "source": [
    "arr2d[2, 2]"
   ]
  },
  {
   "cell_type": "markdown",
   "id": "b61f2e07",
   "metadata": {},
   "source": [
    "#### ```arr2d[:n. :m]``` : n행까지, m열까지 슬라이싱"
   ]
  },
  {
   "cell_type": "code",
   "execution_count": 69,
   "id": "8c6931a9",
   "metadata": {
    "scrolled": true
   },
   "outputs": [
    {
     "data": {
      "text/plain": [
       "array([[1],\n",
       "       [4]])"
      ]
     },
     "execution_count": 69,
     "metadata": {},
     "output_type": "execute_result"
    }
   ],
   "source": [
    "arr2d[:2, :1]"
   ]
  },
  {
   "cell_type": "markdown",
   "id": "c42fee44",
   "metadata": {},
   "source": [
    "\n",
    "#### - 3차원 배열 슬라이싱"
   ]
  },
  {
   "cell_type": "code",
   "execution_count": 52,
   "id": "862e825b",
   "metadata": {
    "scrolled": true
   },
   "outputs": [
    {
     "data": {
      "text/plain": [
       "array([[[ 1,  2,  3],\n",
       "        [ 4,  5,  6]],\n",
       "\n",
       "       [[ 7,  8,  9],\n",
       "        [10, 11, 12]]])"
      ]
     },
     "execution_count": 52,
     "metadata": {},
     "output_type": "execute_result"
    }
   ],
   "source": [
    "arr3d = np.array([[[1, 2, 3], [4, 5, 6]], [[7, 8, 9], [10, 11, 12]]])\n",
    "arr3d"
   ]
  },
  {
   "cell_type": "code",
   "execution_count": 53,
   "id": "fe5a8ec0",
   "metadata": {},
   "outputs": [
    {
     "data": {
      "text/plain": [
       "array([[1, 2, 3],\n",
       "       [4, 5, 6]])"
      ]
     },
     "execution_count": 53,
     "metadata": {},
     "output_type": "execute_result"
    }
   ],
   "source": [
    "arr3d[0]"
   ]
  },
  {
   "cell_type": "code",
   "execution_count": 54,
   "id": "b4c57bd0",
   "metadata": {},
   "outputs": [],
   "source": [
    "old_values = arr3d[0].copy()"
   ]
  },
  {
   "cell_type": "code",
   "execution_count": 55,
   "id": "46d6e282",
   "metadata": {},
   "outputs": [],
   "source": [
    "arr3d[0] = 42"
   ]
  },
  {
   "cell_type": "code",
   "execution_count": 56,
   "id": "e8361769",
   "metadata": {},
   "outputs": [
    {
     "data": {
      "text/plain": [
       "array([[[42, 42, 42],\n",
       "        [42, 42, 42]],\n",
       "\n",
       "       [[ 7,  8,  9],\n",
       "        [10, 11, 12]]])"
      ]
     },
     "execution_count": 56,
     "metadata": {},
     "output_type": "execute_result"
    }
   ],
   "source": [
    "arr3d"
   ]
  },
  {
   "cell_type": "code",
   "execution_count": 58,
   "id": "992f2076",
   "metadata": {},
   "outputs": [
    {
     "data": {
      "text/plain": [
       "array([[[ 1,  2,  3],\n",
       "        [ 4,  5,  6]],\n",
       "\n",
       "       [[ 7,  8,  9],\n",
       "        [10, 11, 12]]])"
      ]
     },
     "execution_count": 58,
     "metadata": {},
     "output_type": "execute_result"
    }
   ],
   "source": [
    "arr3d[0] = old_values\n",
    "arr3d"
   ]
  },
  {
   "cell_type": "markdown",
   "id": "78793261",
   "metadata": {},
   "source": [
    "### boolean값으로 선택"
   ]
  },
  {
   "cell_type": "code",
   "execution_count": 78,
   "id": "7c2ff588",
   "metadata": {},
   "outputs": [],
   "source": [
    "names = np.array(['Bob', 'Joe', 'Will', 'Bob', 'Will', 'Joe', 'Joe'])\n",
    "data = np.random.randn(7, 4)"
   ]
  },
  {
   "cell_type": "code",
   "execution_count": 81,
   "id": "5b6d8f0b",
   "metadata": {},
   "outputs": [
    {
     "name": "stdout",
     "output_type": "stream",
     "text": [
      "['Bob' 'Joe' 'Will' 'Bob' 'Will' 'Joe' 'Joe']\n",
      "[ True False False  True False False False]\n"
     ]
    }
   ],
   "source": [
    "print(names)\n",
    "print(names == 'Bob')"
   ]
  },
  {
   "cell_type": "markdown",
   "id": "0f8bbb08",
   "metadata": {},
   "source": [
    "- boolean 배열은 인덱스로 사용 가능"
   ]
  },
  {
   "cell_type": "code",
   "execution_count": 82,
   "id": "f7db8d61",
   "metadata": {},
   "outputs": [
    {
     "data": {
      "text/plain": [
       "array([[ 0.1725359 , -1.01320475, -1.39970683,  0.54698683],\n",
       "       [ 1.31371654, -0.40782165,  0.59841802, -0.34497558]])"
      ]
     },
     "execution_count": 82,
     "metadata": {},
     "output_type": "execute_result"
    }
   ],
   "source": [
    "data[names == 'Bob']"
   ]
  },
  {
   "cell_type": "code",
   "execution_count": 83,
   "id": "d1a6db1b",
   "metadata": {},
   "outputs": [
    {
     "data": {
      "text/plain": [
       "array([[-1.39970683,  0.54698683],\n",
       "       [ 0.59841802, -0.34497558]])"
      ]
     },
     "execution_count": 83,
     "metadata": {},
     "output_type": "execute_result"
    }
   ],
   "source": [
    "data[names == 'Bob', 2:]"
   ]
  },
  {
   "cell_type": "code",
   "execution_count": 84,
   "id": "ad1f98fb",
   "metadata": {},
   "outputs": [
    {
     "data": {
      "text/plain": [
       "array([ 0.54698683, -0.34497558])"
      ]
     },
     "execution_count": 84,
     "metadata": {},
     "output_type": "execute_result"
    }
   ],
   "source": [
    "data[names == 'Bob', 3]"
   ]
  },
  {
   "cell_type": "code",
   "execution_count": 88,
   "id": "51df5037",
   "metadata": {},
   "outputs": [
    {
     "name": "stdout",
     "output_type": "stream",
     "text": [
      "[False  True  True False  True  True  True]\n",
      "[False  True  True False  True  True  True]\n"
     ]
    }
   ],
   "source": [
    "print(names != 'Bob')\n",
    "print(~(names == 'Bob'))"
   ]
  },
  {
   "cell_type": "code",
   "execution_count": 86,
   "id": "c73d7676",
   "metadata": {},
   "outputs": [
    {
     "data": {
      "text/plain": [
       "array([[-0.10978701, -0.19913585,  1.06089879, -1.52727907],\n",
       "       [-1.4141777 , -1.04663318, -0.93506176, -1.66153612],\n",
       "       [ 1.13339261, -1.8660529 , -1.70811873, -0.64300217],\n",
       "       [ 0.05621101,  0.39188907, -0.87967167, -0.55786323],\n",
       "       [ 0.27302967, -1.54201997,  0.46783719, -0.55425466]])"
      ]
     },
     "execution_count": 86,
     "metadata": {},
     "output_type": "execute_result"
    }
   ],
   "source": [
    "data[~(names == 'Bob')]"
   ]
  },
  {
   "cell_type": "markdown",
   "id": "63e83fd6",
   "metadata": {},
   "source": [
    "- boolean 배열에 값을 대입"
   ]
  },
  {
   "cell_type": "code",
   "execution_count": 94,
   "id": "c319ad9c",
   "metadata": {},
   "outputs": [
    {
     "data": {
      "text/plain": [
       "array([[0.1725359 , 0.        , 0.        , 0.54698683],\n",
       "       [0.        , 0.        , 1.06089879, 0.        ],\n",
       "       [0.        , 0.        , 0.        , 0.        ],\n",
       "       [1.31371654, 0.        , 0.59841802, 0.        ],\n",
       "       [1.13339261, 0.        , 0.        , 0.        ],\n",
       "       [0.05621101, 0.39188907, 0.        , 0.        ],\n",
       "       [0.27302967, 0.        , 0.46783719, 0.        ]])"
      ]
     },
     "execution_count": 94,
     "metadata": {},
     "output_type": "execute_result"
    }
   ],
   "source": [
    "# 0보다 작은 값들을 0으로 수정\n",
    "data[data < 0] = 0\n",
    "data"
   ]
  },
  {
   "cell_type": "markdown",
   "id": "8fd13c8a",
   "metadata": {},
   "source": [
    "### 팬시 색인 (fancy indexing)"
   ]
  },
  {
   "cell_type": "code",
   "execution_count": 95,
   "id": "651277b2",
   "metadata": {},
   "outputs": [
    {
     "data": {
      "text/plain": [
       "array([[0., 0., 0., 0.],\n",
       "       [1., 1., 1., 1.],\n",
       "       [2., 2., 2., 2.],\n",
       "       [3., 3., 3., 3.],\n",
       "       [4., 4., 4., 4.],\n",
       "       [5., 5., 5., 5.],\n",
       "       [6., 6., 6., 6.],\n",
       "       [7., 7., 7., 7.]])"
      ]
     },
     "execution_count": 95,
     "metadata": {},
     "output_type": "execute_result"
    }
   ],
   "source": [
    "arr = np.empty((8, 4))\n",
    "\n",
    "for i in range(8):\n",
    "     arr[i] = i\n",
    "arr"
   ]
  },
  {
   "cell_type": "markdown",
   "id": "f0b12dd9",
   "metadata": {},
   "source": [
    "- 특정한 순서로 행을 선택"
   ]
  },
  {
   "cell_type": "code",
   "execution_count": 96,
   "id": "e2640d7a",
   "metadata": {},
   "outputs": [
    {
     "data": {
      "text/plain": [
       "array([[4., 4., 4., 4.],\n",
       "       [3., 3., 3., 3.],\n",
       "       [0., 0., 0., 0.],\n",
       "       [6., 6., 6., 6.]])"
      ]
     },
     "execution_count": 96,
     "metadata": {},
     "output_type": "execute_result"
    }
   ],
   "source": [
    "arr[[4, 3, 0, 6]]"
   ]
  },
  {
   "cell_type": "code",
   "execution_count": 97,
   "id": "bf2c3627",
   "metadata": {},
   "outputs": [
    {
     "data": {
      "text/plain": [
       "array([[5., 5., 5., 5.],\n",
       "       [3., 3., 3., 3.],\n",
       "       [1., 1., 1., 1.]])"
      ]
     },
     "execution_count": 97,
     "metadata": {},
     "output_type": "execute_result"
    }
   ],
   "source": [
    "arr[[-3, -5, -7]]"
   ]
  },
  {
   "cell_type": "markdown",
   "id": "c4d0fd41",
   "metadata": {},
   "source": [
    "- 다차원 색인 배열"
   ]
  },
  {
   "cell_type": "code",
   "execution_count": 102,
   "id": "b864ca0e",
   "metadata": {},
   "outputs": [
    {
     "data": {
      "text/plain": [
       "array([[ 0,  1,  2,  3],\n",
       "       [ 4,  5,  6,  7],\n",
       "       [ 8,  9, 10, 11],\n",
       "       [12, 13, 14, 15],\n",
       "       [16, 17, 18, 19],\n",
       "       [20, 21, 22, 23],\n",
       "       [24, 25, 26, 27],\n",
       "       [28, 29, 30, 31]])"
      ]
     },
     "execution_count": 102,
     "metadata": {},
     "output_type": "execute_result"
    }
   ],
   "source": [
    "arr = np.arange(32).reshape((8, 4))\n",
    "arr"
   ]
  },
  {
   "cell_type": "code",
   "execution_count": 104,
   "id": "d8043e60",
   "metadata": {},
   "outputs": [
    {
     "data": {
      "text/plain": [
       "array([ 4, 23, 29, 10])"
      ]
     },
     "execution_count": 104,
     "metadata": {},
     "output_type": "execute_result"
    }
   ],
   "source": [
    "# 2행 1열, 6행 4열, 8행 2열, 3행 3열의 값들\n",
    "arr[[1, 5, 7, 2], [0, 3, 1, 2]]"
   ]
  },
  {
   "cell_type": "code",
   "execution_count": 111,
   "id": "87d34f13",
   "metadata": {},
   "outputs": [
    {
     "name": "stdout",
     "output_type": "stream",
     "text": [
      "[[ 4  5  6  7]\n",
      " [20 21 22 23]\n",
      " [28 29 30 31]\n",
      " [ 8  9 10 11]]\n",
      "[[ 4  7  5  6]\n",
      " [20 23 21 22]\n",
      " [28 31 29 30]\n",
      " [ 8 11  9 10]]\n"
     ]
    }
   ],
   "source": [
    "# (2, 1), (2, 4), (2, 2), (2, 3)\n",
    "# (6, 1), (6, 4), (6, 2), (6, 3)\n",
    "# (8, 1), (8, 4), (8, 2), (8, 3)\n",
    "# (3, 1), (3, 4), (3, 2), (3, 3)의 값들 \n",
    "print(arr[[1, 5, 7, 2]])\n",
    "print(arr[[1, 5, 7, 2]][:, [0, 3, 1, 2]])"
   ]
  },
  {
   "cell_type": "markdown",
   "id": "80457892",
   "metadata": {},
   "source": [
    "### \n",
    "### 전치행렬과 축 바꾸기\n",
    "### ```.T``` : 축 바꾸기"
   ]
  },
  {
   "cell_type": "code",
   "execution_count": 113,
   "id": "8f565e00",
   "metadata": {},
   "outputs": [
    {
     "data": {
      "text/plain": [
       "(3, 5)"
      ]
     },
     "execution_count": 113,
     "metadata": {},
     "output_type": "execute_result"
    }
   ],
   "source": [
    "arr = np.arange(15).reshape((3, 5))\n",
    "arr.shape"
   ]
  },
  {
   "cell_type": "code",
   "execution_count": 114,
   "id": "1588cf35",
   "metadata": {},
   "outputs": [
    {
     "data": {
      "text/plain": [
       "(5, 3)"
      ]
     },
     "execution_count": 114,
     "metadata": {},
     "output_type": "execute_result"
    }
   ],
   "source": [
    "arr.T.shape"
   ]
  },
  {
   "cell_type": "markdown",
   "id": "0e1deaca",
   "metadata": {},
   "source": [
    "### ```np.dot(a, b)``` : 행렬 곱\n",
    "- ```np.dot(arr.T, arr)``` : 행렬의 내적"
   ]
  },
  {
   "cell_type": "code",
   "execution_count": 129,
   "id": "b3d89e06",
   "metadata": {},
   "outputs": [
    {
     "data": {
      "text/plain": [
       "array([[ 9.01404175, -2.21645164, -3.22727536],\n",
       "       [-2.21645164,  6.57481696, -2.45210998],\n",
       "       [-3.22727536, -2.45210998,  5.22542691]])"
      ]
     },
     "execution_count": 129,
     "metadata": {},
     "output_type": "execute_result"
    }
   ],
   "source": [
    "arr = np.random.randn(6, 3)\n",
    "np.dot(arr.T, arr)"
   ]
  },
  {
   "cell_type": "markdown",
   "id": "7a6691ef",
   "metadata": {},
   "source": [
    "### ```.transpose()``` : 전치행렬\n",
    "- 튜플로 축 번호를 받아서 배열을 변경 가능"
   ]
  },
  {
   "cell_type": "code",
   "execution_count": 133,
   "id": "66278a0f",
   "metadata": {},
   "outputs": [
    {
     "data": {
      "text/plain": [
       "(2, 2, 4)"
      ]
     },
     "execution_count": 133,
     "metadata": {},
     "output_type": "execute_result"
    }
   ],
   "source": [
    "arr = np.arange(16).reshape((2, 2, 4))\n",
    "arr\n",
    "arr.shape"
   ]
  },
  {
   "cell_type": "code",
   "execution_count": 135,
   "id": "f788d77d",
   "metadata": {},
   "outputs": [
    {
     "data": {
      "text/plain": [
       "(4, 2, 2)"
      ]
     },
     "execution_count": 135,
     "metadata": {},
     "output_type": "execute_result"
    }
   ],
   "source": [
    "arr.transpose().shape"
   ]
  },
  {
   "cell_type": "code",
   "execution_count": 136,
   "id": "0ca7e5b1",
   "metadata": {
    "scrolled": true
   },
   "outputs": [
    {
     "data": {
      "text/plain": [
       "(2, 2, 4)"
      ]
     },
     "execution_count": 136,
     "metadata": {},
     "output_type": "execute_result"
    }
   ],
   "source": [
    "arr.transpose((1, 0, 2)).shape"
   ]
  },
  {
   "cell_type": "markdown",
   "id": "f8f285fd",
   "metadata": {},
   "source": [
    "#### ```.swapaxes()``` : 두 개의 축 번호를 받아서 배열을 변경\n",
    "- 데이터를 복사하지 않고, 원래 데이터에 대한 뷰를 반환"
   ]
  },
  {
   "cell_type": "code",
   "execution_count": 140,
   "id": "b185e2f8",
   "metadata": {},
   "outputs": [
    {
     "data": {
      "text/plain": [
       "(2, 4, 2)"
      ]
     },
     "execution_count": 140,
     "metadata": {},
     "output_type": "execute_result"
    }
   ],
   "source": [
    "arr.swapaxes(1, 2).shape"
   ]
  },
  {
   "cell_type": "markdown",
   "id": "8d8af6a3",
   "metadata": {},
   "source": [
    "### \n",
    "### 유니버설 함수 : ndarray 안에 있는 데이터 원소별로 연산을 수행\n",
    "\n",
    "### 단항 유니버설 함수\n",
    "| 함수 | 설명 |\n",
    "| --  | -- |\n",
    "| abs, fabs | 절댓값, 복소수가 아닌 경우에는 fabs |\n",
    "| sqrt |  제곱근 |\n",
    "| square | 제곱 |\n",
    "| exp | 지수 승 |\n",
    "| log, log10, log2, log1p | 로그 |\n",
    "| sign | 각 원소의 부호 (1 : 양수 / 0 : 영 / -1 : 음수) |\n",
    "| ceil | 올림 |\n",
    "| floor | 내림 |\n",
    "| rint | 소수자리 반올림 (dtype 유지) |\n",
    "| modf | 각 원소의 몫과 나머지를 각각의 배열로 분리 |\n",
    "| isnan | 각 원소가 숫자가 아닌지를 나타내는 boolean 배열을 출력 |\n",
    "| isinfinite, isinf | 각 배열의 원소가 유한한지/무한한지 나타내는 boolean 배열을 출력 |\n",
    "| cos, cosh, sin, sinh, tan, tanh | 일반 삼각함수 |\n",
    "| arccos, arccosh, arcsin, arcsinh, arctan, arctanh | 역삼각함수 |\n",
    "| loginal_not | 각 원소의 논리 부정 값 '~'과 동일 |\n",
    "\n",
    "### \n",
    "### 이항 유니버설 함수\n",
    "| 함수 | 설명 |\n",
    "| --  | -- |\n",
    "| add | 덧셈 |\n",
    "| subtract | 뺄셈 |\n",
    "| multiply | 곱셈 |\n",
    "| divide(a, b), floor_divide(a, b) | a를 b로 나눔, floor_divide는 몫 만 |\n",
    "| power(a, b) | a ^ b |\n",
    "| maximum, fmax | 둘 중 큰값 반환 |\n",
    "| minimum, fmin | 둘 중 작은값 반환  |\n",
    "| mod(a, b) | a를 b로 나눈 나머지 |\n",
    "| copysign(a, b) | a의 기호를 b의 기호로 변환 |\n",
    "| greater, greater_equal, less, less_equal, equal, not_equal | 비교 연산자 |\n",
    "| logical_and, logical_or, logical_xor | &, \\|, \\^ |"
   ]
  },
  {
   "cell_type": "markdown",
   "id": "41ee44c5",
   "metadata": {},
   "source": [
    "#### ```np.sqrt()```, ```np.exp()```"
   ]
  },
  {
   "cell_type": "code",
   "execution_count": 150,
   "id": "b130c701",
   "metadata": {},
   "outputs": [
    {
     "data": {
      "text/plain": [
       "array([0, 1, 2, 3, 4, 5, 6, 7, 8, 9])"
      ]
     },
     "execution_count": 150,
     "metadata": {},
     "output_type": "execute_result"
    }
   ],
   "source": [
    "arr = np.arange(10)\n",
    "arr"
   ]
  },
  {
   "cell_type": "code",
   "execution_count": 151,
   "id": "568f7e70",
   "metadata": {},
   "outputs": [
    {
     "data": {
      "text/plain": [
       "array([0.        , 1.        , 1.41421356, 1.73205081, 2.        ,\n",
       "       2.23606798, 2.44948974, 2.64575131, 2.82842712, 3.        ])"
      ]
     },
     "execution_count": 151,
     "metadata": {},
     "output_type": "execute_result"
    }
   ],
   "source": [
    "np.sqrt(arr)"
   ]
  },
  {
   "cell_type": "code",
   "execution_count": 152,
   "id": "9f3afbac",
   "metadata": {},
   "outputs": [
    {
     "data": {
      "text/plain": [
       "array([1.00000000e+00, 2.71828183e+00, 7.38905610e+00, 2.00855369e+01,\n",
       "       5.45981500e+01, 1.48413159e+02, 4.03428793e+02, 1.09663316e+03,\n",
       "       2.98095799e+03, 8.10308393e+03])"
      ]
     },
     "execution_count": 152,
     "metadata": {},
     "output_type": "execute_result"
    }
   ],
   "source": [
    "np.exp(arr)"
   ]
  },
  {
   "cell_type": "markdown",
   "id": "434d6549",
   "metadata": {},
   "source": [
    "#### ```minimum(a, b)```, ```maximum(a, b)```"
   ]
  },
  {
   "cell_type": "code",
   "execution_count": 153,
   "id": "497e440e",
   "metadata": {},
   "outputs": [],
   "source": [
    "x = np.random.randn(8)\n",
    "y = np.random.randn(8)"
   ]
  },
  {
   "cell_type": "code",
   "execution_count": 154,
   "id": "11f6c5d8",
   "metadata": {},
   "outputs": [
    {
     "name": "stdout",
     "output_type": "stream",
     "text": [
      "[-0.17528011  0.23950947 -0.64338172 -0.19255494 -0.59258718 -0.17821473\n",
      "  0.86439737 -0.96439287]\n",
      "[ 0.42781866  0.32955894  1.77595934  0.83885595 -0.1891594   0.77735717\n",
      "  1.20959681  0.34060635]\n"
     ]
    }
   ],
   "source": [
    "print(np.minimum(x, y))\n",
    "print(np.maximum(x, y))"
   ]
  },
  {
   "cell_type": "code",
   "execution_count": 155,
   "id": "bf1cfead",
   "metadata": {},
   "outputs": [],
   "source": [
    "arr = np.random.randn(7) * 5"
   ]
  },
  {
   "cell_type": "markdown",
   "id": "b4c6c09a",
   "metadata": {},
   "source": [
    "#### ```np.modf``` : 배열을 몫과 나머지로 분리"
   ]
  },
  {
   "cell_type": "code",
   "execution_count": 156,
   "id": "009abf11",
   "metadata": {},
   "outputs": [
    {
     "name": "stdout",
     "output_type": "stream",
     "text": [
      "[ 0.63488277  0.65022209  0.43635821 -0.507606   -0.7774859   0.73950875\n",
      " -0.41746098]\n",
      "[ 0.  0.  3. -1. -6.  9. -1.]\n"
     ]
    }
   ],
   "source": [
    "remainder, whole_part = np.modf(arr)\n",
    "print(remainder)\n",
    "print(whole_part)"
   ]
  },
  {
   "cell_type": "markdown",
   "id": "526f00af",
   "metadata": {},
   "source": [
    "### \n",
    "### 배열을 이용한 배열지향 프로그래밍"
   ]
  },
  {
   "cell_type": "markdown",
   "id": "4f54ca2f",
   "metadata": {},
   "source": [
    "### ```np.meshgrid(x, y)``` : 두 개의 1차원 배열을 받아, 가능한 모든 (x, y)짝을 만들 수 있는 2차원 배열 2개를 반환"
   ]
  },
  {
   "cell_type": "markdown",
   "id": "a4ab6ada",
   "metadata": {},
   "source": [
    "- 그리드에서 sqrt(x^2 + y^2) 계산시"
   ]
  },
  {
   "cell_type": "code",
   "execution_count": 168,
   "id": "a03a213b",
   "metadata": {},
   "outputs": [
    {
     "name": "stdout",
     "output_type": "stream",
     "text": [
      "(1000, 1000)\n",
      "[[-5.   -4.99 -4.98 ...  4.97  4.98  4.99]\n",
      " [-5.   -4.99 -4.98 ...  4.97  4.98  4.99]\n",
      " [-5.   -4.99 -4.98 ...  4.97  4.98  4.99]\n",
      " ...\n",
      " [-5.   -4.99 -4.98 ...  4.97  4.98  4.99]\n",
      " [-5.   -4.99 -4.98 ...  4.97  4.98  4.99]\n",
      " [-5.   -4.99 -4.98 ...  4.97  4.98  4.99]]\n"
     ]
    }
   ],
   "source": [
    "points = np.arange(-5, 5, 0.01) # -5부터 4.99까지 0.01씩 증가하는 값들의 배열\n",
    "xs, ys = np.meshgrid(points, points)\n",
    "print(xs.shape)\n",
    "print(xs)"
   ]
  },
  {
   "cell_type": "code",
   "execution_count": 169,
   "id": "43d4386f",
   "metadata": {},
   "outputs": [
    {
     "name": "stdout",
     "output_type": "stream",
     "text": [
      "(1000, 1000)\n",
      "[[7.07106781 7.06400028 7.05693985 ... 7.04988652 7.05693985 7.06400028]\n",
      " [7.06400028 7.05692568 7.04985815 ... 7.04279774 7.04985815 7.05692568]\n",
      " [7.05693985 7.04985815 7.04278354 ... 7.03571603 7.04278354 7.04985815]\n",
      " ...\n",
      " [7.04988652 7.04279774 7.03571603 ... 7.0286414  7.03571603 7.04279774]\n",
      " [7.05693985 7.04985815 7.04278354 ... 7.03571603 7.04278354 7.04985815]\n",
      " [7.06400028 7.05692568 7.04985815 ... 7.04279774 7.04985815 7.05692568]]\n"
     ]
    }
   ],
   "source": [
    "z = np.sqrt(xs ** 2 + ys ** 2)\n",
    "print(z.shape)\n",
    "print(z)"
   ]
  },
  {
   "cell_type": "code",
   "execution_count": 162,
   "id": "b174b5b0",
   "metadata": {},
   "outputs": [
    {
     "data": {
      "text/plain": [
       "Text(0.5, 1.0, 'Image plot of $\\\\sqrt{x^2 + y^2}$ for a grid of values')"
      ]
     },
     "execution_count": 162,
     "metadata": {},
     "output_type": "execute_result"
    },
    {
     "data": {
      "image/png": "[encoded data removed]",
      "text/plain": [
       "<Figure size 432x288 with 2 Axes>"
      ]
     },
     "metadata": {
      "needs_background": "light"
     },
     "output_type": "display_data"
    }
   ],
   "source": [
    "import matplotlib.pyplot as plt\n",
    "plt.imshow(z, cmap=plt.cm.gray); plt.colorbar()\n",
    "plt.title(\"Image plot of $\\sqrt{x^2 + y^2}$ for a grid of values\")"
   ]
  },
  {
   "cell_type": "code",
   "execution_count": 163,
   "id": "7e00c27d",
   "metadata": {},
   "outputs": [
    {
     "data": {
      "text/plain": [
       "<Figure size 432x288 with 0 Axes>"
      ]
     },
     "metadata": {},
     "output_type": "display_data"
    }
   ],
   "source": [
    "plt.draw()"
   ]
  },
  {
   "cell_type": "code",
   "execution_count": 164,
   "id": "3dcdb698",
   "metadata": {},
   "outputs": [],
   "source": [
    "plt.close('all')"
   ]
  },
  {
   "cell_type": "markdown",
   "id": "6098ad7d",
   "metadata": {},
   "source": [
    "### 배열 연산으로 조건절 표현"
   ]
  },
  {
   "cell_type": "markdown",
   "id": "d669f580",
   "metadata": {},
   "source": [
    "### ```np.where(조건, A, B)``` : 조건이 True면 A, 아니면 B (ifelse)"
   ]
  },
  {
   "cell_type": "code",
   "execution_count": 171,
   "id": "bc50dd19",
   "metadata": {},
   "outputs": [],
   "source": [
    "xarr = np.array([1.1, 1.2, 1.3, 1.4, 1.5])\n",
    "yarr = np.array([2.1, 2.2, 2.3, 2.4, 2.5])\n",
    "cond = np.array([True, False, True, True, False])"
   ]
  },
  {
   "cell_type": "code",
   "execution_count": 172,
   "id": "0a34b5e0",
   "metadata": {},
   "outputs": [
    {
     "data": {
      "text/plain": [
       "array([1.1, 2.2, 1.3, 1.4, 2.5])"
      ]
     },
     "execution_count": 172,
     "metadata": {},
     "output_type": "execute_result"
    }
   ],
   "source": [
    "np.where(cond, xarr, yarr)"
   ]
  },
  {
   "cell_type": "markdown",
   "id": "265e1a37",
   "metadata": {},
   "source": [
    "- 양수는 모두 2로, 음수는 모두 -2로"
   ]
  },
  {
   "cell_type": "code",
   "execution_count": 173,
   "id": "b3a77ff1",
   "metadata": {},
   "outputs": [
    {
     "data": {
      "text/plain": [
       "array([[ 2,  2, -2,  2],\n",
       "       [ 2,  2, -2,  2],\n",
       "       [ 2,  2, -2,  2],\n",
       "       [ 2,  2,  2, -2]])"
      ]
     },
     "execution_count": 173,
     "metadata": {},
     "output_type": "execute_result"
    }
   ],
   "source": [
    "arr = np.random.randn(4, 4)\n",
    "np.where(arr > 0, 2, -2)"
   ]
  },
  {
   "cell_type": "markdown",
   "id": "ffcd45c2",
   "metadata": {},
   "source": [
    "### \n",
    "### 수학, 통계 메서드\n",
    "\n",
    "| 메서드 | 설명 |\n",
    "| -- | -- |\n",
    "| sum | 합계 |\n",
    "| mean | 산술평균 (0 : 각 열의 평균 / 1 : 각 행의 평균) |\n",
    "| std, var | 표준편차, 분산 |\n",
    "| min, max | 최소/최대값 |\n",
    "| argmin, argmax | 최소/최대 원소 인덱스 |\n",
    "| cumsum | 누적합 |\n",
    "| cumprod | 누적곱 |"
   ]
  },
  {
   "cell_type": "code",
   "execution_count": 201,
   "id": "b009df1e",
   "metadata": {},
   "outputs": [
    {
     "data": {
      "text/plain": [
       "array([[0, 1, 2],\n",
       "       [3, 4, 5],\n",
       "       [6, 7, 8]])"
      ]
     },
     "execution_count": 201,
     "metadata": {},
     "output_type": "execute_result"
    }
   ],
   "source": [
    "arr = np.array([[0, 1, 2], [3, 4, 5], [6, 7, 8]])\n",
    "arr"
   ]
  },
  {
   "cell_type": "code",
   "execution_count": 200,
   "id": "e93d9de8",
   "metadata": {},
   "outputs": [
    {
     "name": "stdout",
     "output_type": "stream",
     "text": [
      "4.0\n",
      "[3. 4. 5.]\n",
      "[1. 4. 7.]\n"
     ]
    }
   ],
   "source": [
    "print(arr.mean()) # 총 평균\n",
    "print(arr.mean(axis = 0)) # 각 열의 평균\n",
    "print(arr.mean(axis = 1)) # 각 행의 평균"
   ]
  },
  {
   "cell_type": "code",
   "execution_count": 202,
   "id": "e167d61d",
   "metadata": {},
   "outputs": [
    {
     "name": "stdout",
     "output_type": "stream",
     "text": [
      "36\n",
      "[[ 0  1  2]\n",
      " [ 3  5  7]\n",
      " [ 9 12 15]]\n",
      "[[ 0  1  3]\n",
      " [ 3  7 12]\n",
      " [ 6 13 21]]\n"
     ]
    }
   ],
   "source": [
    "print(arr.sum()) # 총 합\n",
    "print(arr.cumsum(axis = 0)) # 각 열의 누적합\n",
    "print(arr.cumsum(axis = 1)) # 각 행의 누적합"
   ]
  },
  {
   "cell_type": "markdown",
   "id": "4a573b71",
   "metadata": {},
   "source": [
    "### boolean 배열을 위한 메서드"
   ]
  },
  {
   "cell_type": "code",
   "execution_count": 205,
   "id": "e9bcdf43",
   "metadata": {},
   "outputs": [
    {
     "data": {
      "text/plain": [
       "46"
      ]
     },
     "execution_count": 205,
     "metadata": {},
     "output_type": "execute_result"
    }
   ],
   "source": [
    "arr = np.random.randn(100)\n",
    "(arr > 0).sum() # 양수인 원소의 개수"
   ]
  },
  {
   "cell_type": "markdown",
   "id": "328152f1",
   "metadata": {},
   "source": [
    "### 정렬"
   ]
  },
  {
   "cell_type": "code",
   "execution_count": 211,
   "id": "16dded4b",
   "metadata": {},
   "outputs": [
    {
     "name": "stdout",
     "output_type": "stream",
     "text": [
      "[[ 0.02404506  1.06549758  1.44579227]\n",
      " [ 0.20891907  0.92393177  1.64831018]\n",
      " [-0.77194379 -0.59179635  1.17862147]\n",
      " [-1.57753023  0.69271274  1.16140464]\n",
      " [-1.29565444 -0.64103824  0.04474225]]\n",
      "[[-1.57753023 -0.64103824  0.04474225]\n",
      " [-1.29565444 -0.59179635  1.16140464]\n",
      " [-0.77194379  0.69271274  1.17862147]\n",
      " [ 0.02404506  0.92393177  1.44579227]\n",
      " [ 0.20891907  1.06549758  1.64831018]]\n"
     ]
    }
   ],
   "source": [
    "arr = np.random.randn(5, 3)\n",
    "arr.sort(1) # 행 방향 정렬\n",
    "print(arr) \n",
    "arr.sort(0) # 열 방향 정렬\n",
    "print(arr)"
   ]
  },
  {
   "cell_type": "markdown",
   "id": "5344d6f0",
   "metadata": {},
   "source": [
    "- 5% 뷘위수"
   ]
  },
  {
   "cell_type": "code",
   "execution_count": 212,
   "id": "f4b0263f",
   "metadata": {},
   "outputs": [
    {
     "data": {
      "text/plain": [
       "-1.6000605262129763"
      ]
     },
     "execution_count": 212,
     "metadata": {},
     "output_type": "execute_result"
    }
   ],
   "source": [
    "large_arr = np.random.randn(1000)\n",
    "large_arr.sort()\n",
    "large_arr[int(0.05 * len(large_arr))] # 5% 분위수"
   ]
  },
  {
   "cell_type": "markdown",
   "id": "dee2f0f0",
   "metadata": {},
   "source": [
    "### 집합 관련 함수\n",
    "\n",
    "| 메서드 | 설명 |\n",
    "| -- | -- |\n",
    "| np.unique()x | 배열 x에서 중복된 원소를 제거한 뒤 정렬하여 변환 |\n",
    "| np.intersect1d(x, y) | 배열 x와 y에 공통적으로 존재하는 원소를 정렬하여 반환 |\n",
    "| np.union1d(x, y) | 두 배열의 합집합을 반환 |\n",
    "| np.in1d(x, y) | x의 원소가 y의 원소에 포함되는지 나타내는 boolean 배열을 반환 |\n",
    "| np.setdiff1d(x, y) | x와 y의 차집합을 반환 |\n",
    "| np.setxor1d(x, y) | 한 배열에는 포함되지만 두 배열 모두에는 포함되지 않는 원소들의 집합인 대칭차집합을 반환 |"
   ]
  },
  {
   "cell_type": "code",
   "execution_count": 216,
   "id": "7f96b852",
   "metadata": {},
   "outputs": [
    {
     "data": {
      "text/plain": [
       "array(['Bob', 'Joe', 'Will'], dtype='<U4')"
      ]
     },
     "execution_count": 216,
     "metadata": {},
     "output_type": "execute_result"
    }
   ],
   "source": [
    "names = np.array(['Bob', 'Joe', 'Will', 'Bob', 'Will', 'Joe', 'Joe'])\n",
    "np.unique(names)"
   ]
  },
  {
   "cell_type": "code",
   "execution_count": 217,
   "id": "366cdb62",
   "metadata": {},
   "outputs": [
    {
     "data": {
      "text/plain": [
       "array([1, 2, 3, 4])"
      ]
     },
     "execution_count": 217,
     "metadata": {},
     "output_type": "execute_result"
    }
   ],
   "source": [
    "ints = np.array([3, 3, 3, 2, 2, 1, 1, 4, 4])\n",
    "np.unique(ints)"
   ]
  },
  {
   "cell_type": "code",
   "execution_count": 214,
   "id": "45d88bfd",
   "metadata": {},
   "outputs": [
    {
     "data": {
      "text/plain": [
       "['Bob', 'Joe', 'Will']"
      ]
     },
     "execution_count": 214,
     "metadata": {},
     "output_type": "execute_result"
    }
   ],
   "source": [
    "sorted(set(names))"
   ]
  },
  {
   "cell_type": "markdown",
   "id": "28dcc6ca",
   "metadata": {},
   "source": [
    "#### ```np.in1d```"
   ]
  },
  {
   "cell_type": "code",
   "execution_count": 215,
   "id": "b8c26cb9",
   "metadata": {},
   "outputs": [
    {
     "data": {
      "text/plain": [
       "array([ True, False, False,  True,  True, False,  True])"
      ]
     },
     "execution_count": 215,
     "metadata": {},
     "output_type": "execute_result"
    }
   ],
   "source": [
    "values = np.array([6, 0, 0, 3, 2, 5, 6])\n",
    "np.in1d(values, [2, 3, 6])"
   ]
  },
  {
   "cell_type": "markdown",
   "id": "d7373277",
   "metadata": {},
   "source": [
    "### \n",
    "### 배열 데이터의 파일 입출력"
   ]
  },
  {
   "cell_type": "markdown",
   "id": "d57000e2",
   "metadata": {},
   "source": [
    "### ```np.save('파일명', 배열)``` : 배열을 npy형식으로 저장\n",
    "### ```np.load('파일명')``` : npy파일 load"
   ]
  },
  {
   "cell_type": "code",
   "execution_count": 220,
   "id": "7e9e74ee",
   "metadata": {},
   "outputs": [
    {
     "data": {
      "text/plain": [
       "'C:\\\\Users\\\\이찬솔\\\\Documents\\\\Python_for_Data_Analysis\\\\examples'"
      ]
     },
     "execution_count": 220,
     "metadata": {},
     "output_type": "execute_result"
    }
   ],
   "source": [
    "import os\n",
    "os.getcwd()\n",
    "os.chdir('/' + os.path.join('Users', '이찬솔', 'Documents', 'Python_for_Data_Analysis', 'examples'))\n",
    "os.getcwd()"
   ]
  },
  {
   "cell_type": "code",
   "execution_count": 221,
   "id": "c590308a",
   "metadata": {},
   "outputs": [],
   "source": [
    "arr = np.arange(10)\n",
    "np.save('some_array', arr)"
   ]
  },
  {
   "cell_type": "code",
   "execution_count": 222,
   "id": "3f97a0d7",
   "metadata": {},
   "outputs": [
    {
     "data": {
      "text/plain": [
       "array([0, 1, 2, 3, 4, 5, 6, 7, 8, 9])"
      ]
     },
     "execution_count": 222,
     "metadata": {},
     "output_type": "execute_result"
    }
   ],
   "source": [
    "np.load('some_array.npy')"
   ]
  },
  {
   "cell_type": "markdown",
   "id": "323e0f49",
   "metadata": {},
   "source": [
    "### ```np.savez('파일명.npz', a = 배열1, b = 배열2, ... )``` : 여러 개의 배열을 압축된 형식으로 저장\n",
    "- **저장하려는 배열을 키워드 인자 형태로 전달**"
   ]
  },
  {
   "cell_type": "code",
   "execution_count": 224,
   "id": "7c349160",
   "metadata": {},
   "outputs": [],
   "source": [
    "np.savez('array_archive.npz', a = arr, b = arr)\n",
    "arch = np.load('array_archive.npz')"
   ]
  },
  {
   "cell_type": "code",
   "execution_count": 227,
   "id": "b77330df",
   "metadata": {},
   "outputs": [
    {
     "name": "stdout",
     "output_type": "stream",
     "text": [
      "[0 1 2 3 4 5 6 7 8 9]\n",
      "[0 1 2 3 4 5 6 7 8 9]\n"
     ]
    }
   ],
   "source": [
    "print(arch['a'])\n",
    "print(arch['b'])"
   ]
  },
  {
   "cell_type": "markdown",
   "id": "481e4c04",
   "metadata": {},
   "source": [
    "### ```np.savez_compressed('파일명.npz',  a = 배열1, b = 배열2, ... )```"
   ]
  },
  {
   "cell_type": "code",
   "execution_count": 228,
   "id": "f439ae4b",
   "metadata": {},
   "outputs": [],
   "source": [
    "np.savez_compressed('arrays_compressed.npz', a=arr, b=arr)"
   ]
  },
  {
   "cell_type": "markdown",
   "id": "7b131b2d",
   "metadata": {},
   "source": [
    "### \n",
    "### 선형대수\n",
    "### ```np.dot(a, b)```, ```@``` : 행렬 곱"
   ]
  },
  {
   "cell_type": "code",
   "execution_count": 231,
   "id": "82bc26ab",
   "metadata": {},
   "outputs": [
    {
     "name": "stdout",
     "output_type": "stream",
     "text": [
      "[[ 28.  64.]\n",
      " [ 67. 181.]]\n"
     ]
    }
   ],
   "source": [
    "x = np.array([[1., 2., 3.], [4., 5., 6.]])\n",
    "y = np.array([[6., 23.], [-1, 7], [8, 9]])\n",
    "print(x.dot(y)) # x와 y의 행렬곱"
   ]
  },
  {
   "cell_type": "code",
   "execution_count": 232,
   "id": "46991078",
   "metadata": {},
   "outputs": [
    {
     "data": {
      "text/plain": [
       "array([ 6., 15.])"
      ]
     },
     "execution_count": 232,
     "metadata": {},
     "output_type": "execute_result"
    }
   ],
   "source": [
    "x @ np.ones(3)"
   ]
  },
  {
   "cell_type": "markdown",
   "id": "71220b71",
   "metadata": {},
   "source": [
    "### numpy.linalg 라이브러리\n",
    "\n",
    "- 주요 함수\n",
    "| 함수 | 설명 |\n",
    "| -- | -- |\n",
    "| diag | 정사각 행렬의 대각/비대각 원소를 1차원 배열로 반환하거나, 1차원 배열을 대각선 원소로 하고 나머지는 0으로 채운 단위행렬을 반환 |\n",
    "| dot | 행렬 곱셈 |\n",
    "| trace | 행렬의 대각선 원소의 합 |\n",
    "| det | 행렬식 |\n",
    "| eig | 정사각 행렬의 고윳값과 고유벡터 |\n",
    "| inv | 정사각 행렬의 역행렬 |\n",
    "| pinv | 정사각 행렬의 무어-펜로즈 유사역원 역행렬 |\n",
    "| qr | QR 분해 |\n",
    "| svd | 특잇값 분해(SVD) |\n",
    "| solve | A가 정사각 행렬일 때 Ax = b를 만족하는 x를 구한다 |\n",
    "| lstsq | Ax = b를 만족하는 최소제곱해 |"
   ]
  },
  {
   "cell_type": "code",
   "execution_count": 238,
   "id": "902cbe5f",
   "metadata": {},
   "outputs": [],
   "source": [
    "from numpy.linalg import inv, qr"
   ]
  },
  {
   "cell_type": "code",
   "execution_count": 252,
   "id": "a8037601",
   "metadata": {},
   "outputs": [],
   "source": [
    "X = np.random.randn(5, 5)"
   ]
  },
  {
   "cell_type": "code",
   "execution_count": 253,
   "id": "9dc4e74a",
   "metadata": {},
   "outputs": [],
   "source": [
    "mat = X.T.dot(X) # X의 전치행렬과 X의 곱"
   ]
  },
  {
   "cell_type": "markdown",
   "id": "9512ff8a",
   "metadata": {},
   "source": [
    "#### ```inv()``` : 역행렬"
   ]
  },
  {
   "cell_type": "code",
   "execution_count": 254,
   "id": "eae7fcd0",
   "metadata": {},
   "outputs": [
    {
     "data": {
      "text/plain": [
       "array([[ 9.77648502, -0.56621058,  3.0115257 ,  6.79700387, -2.67861044],\n",
       "       [-0.56621058,  0.31916689, -0.65526685, -0.58979766,  0.61070825],\n",
       "       [ 3.0115257 , -0.65526685,  2.67316112,  2.54525062, -2.10728685],\n",
       "       [ 6.79700387, -0.58979766,  2.54525062,  5.12112183, -2.31311486],\n",
       "       [-2.67861044,  0.61070825, -2.10728685, -2.31311486,  1.9055965 ]])"
      ]
     },
     "execution_count": 254,
     "metadata": {},
     "output_type": "execute_result"
    }
   ],
   "source": [
    "inv(mat)"
   ]
  },
  {
   "cell_type": "code",
   "execution_count": 255,
   "id": "bbf9b087",
   "metadata": {},
   "outputs": [
    {
     "data": {
      "text/plain": [
       "array([[ 1.,  0.,  0., -0.,  0.],\n",
       "       [ 0.,  1.,  0.,  0.,  0.],\n",
       "       [-0.,  0.,  1., -0.,  0.],\n",
       "       [ 0.,  0., -0.,  1., -0.],\n",
       "       [ 0., -0., -0., -0.,  1.]])"
      ]
     },
     "execution_count": 255,
     "metadata": {},
     "output_type": "execute_result"
    }
   ],
   "source": [
    "np.rint(mat.dot(inv(mat)))"
   ]
  },
  {
   "cell_type": "markdown",
   "id": "7087ac6c",
   "metadata": {},
   "source": [
    "#### ```qr()``` : QR분해,  실수 행렬을 직교 행렬과 상삼각 행렬의 곱으로 나타내는 행렬 분해\n",
    "- 직교행렬 : 역행렬과 전치행렬이 동일한 n X n 행렬"
   ]
  },
  {
   "cell_type": "code",
   "execution_count": 266,
   "id": "6c120f1c",
   "metadata": {},
   "outputs": [
    {
     "name": "stdout",
     "output_type": "stream",
     "text": [
      "[[-0.51791971 -0.04364125 -0.15271154 -0.60364447 -0.58493346]\n",
      " [ 0.2575428  -0.88429179 -0.29930731 -0.21054588  0.13336157]\n",
      " [ 0.088325    0.0627121  -0.69521103  0.54146919 -0.46017239]\n",
      " [ 0.77741154  0.12514801  0.24984544 -0.24980165 -0.50511946]\n",
      " [ 0.23078318  0.44331551 -0.5842544  -0.48548331  0.41612887]]\n",
      "[[-3.60524319  2.62133675  1.58344298  5.81976419  3.02866886]\n",
      " [ 0.         -9.83330148  2.22367705  0.94294372  6.98765786]\n",
      " [ 0.          0.         -3.92051107 -0.22006817 -4.90919184]\n",
      " [ 0.          0.          0.         -0.36272552 -0.69506272]\n",
      " [ 0.          0.          0.          0.          0.21837198]]\n"
     ]
    }
   ],
   "source": [
    "q, r = qr(mat)\n",
    "print(q)\n",
    "print(r)"
   ]
  },
  {
   "cell_type": "markdown",
   "id": "a1087627",
   "metadata": {},
   "source": [
    "### \n",
    "### 난수생성\n",
    "- ```np.random```\n",
    "| 함수 | 설명 |\n",
    "| -- | -- |\n",
    "| seed | 난수 생성기 시드 |\n",
    "| permutation | 순서를 임의로 바꾸거나 임의의 순열을 반환 |\n",
    "| shuffle | 리스트나 배열의 순서를 뒤섞음 |\n",
    "| rand | 균등분포에서 표본 추출 |\n",
    "| randint(low, high, size) | 주어진 최소/최대 범위 안에서 임의의 난수를 추출 |\n",
    "| randn | 표준정규분포에서 표본 추출 |\n",
    "| binomial(n, p, size) | 이항분포에서 표본 추출 |\n",
    "| normal(loc, scale, size) | 정규분포에서 표본 추출 |\n",
    "| beta | 베타분포에서 표본 추출 |\n",
    "| chisquare(df, size) | 카이제곱분포에서 표본 추출 |\n",
    "| gamma | 감마분포에서 표본 추출 |\n",
    "| uniform(low, high, size) | 균등분포[0, 1] 에서 표본 추출 |\n",
    "| hypergeometric(ngood, nbad, nsample, size) | 초기하분포에서 표본 추출 |\n",
    "| poisson(lam, size) | 포아송분포에서 표본 추출 |\n",
    "| standard_t(df, size) | t-분포에서 표본 추출 |\n",
    "| f(dfnum, dfden, size) | F-분포에서 표본 추출 |"
   ]
  },
  {
   "cell_type": "markdown",
   "id": "532dd6d0",
   "metadata": {},
   "source": [
    "#### ```np.random.normal(size)``` : 정규분포에서 size만큼의 난수 생성\n",
    "- 파이썬 내장 random 모듈보다 훨씬 빠른 속도"
   ]
  },
  {
   "cell_type": "code",
   "execution_count": 272,
   "id": "dc72ebe8",
   "metadata": {},
   "outputs": [
    {
     "name": "stdout",
     "output_type": "stream",
     "text": [
      "1.58 s ± 111 ms per loop (mean ± std. dev. of 7 runs, 1 loop each)\n"
     ]
    }
   ],
   "source": [
    "from random import normalvariate\n",
    "N = 1000000\n",
    "\n",
    "%timeit samples = [normalvariate(0, 1) for _ in range(N)]"
   ]
  },
  {
   "cell_type": "code",
   "execution_count": 273,
   "id": "b846cea5",
   "metadata": {},
   "outputs": [
    {
     "name": "stdout",
     "output_type": "stream",
     "text": [
      "52.2 ms ± 3.41 ms per loop (mean ± std. dev. of 7 runs, 10 loops each)\n"
     ]
    }
   ],
   "source": [
    "%timeit np.random.normal(size = N)"
   ]
  },
  {
   "cell_type": "markdown",
   "id": "35dbcd12",
   "metadata": {},
   "source": [
    "#### ```np.random.seed(seed)``` : 시드값 설정"
   ]
  },
  {
   "cell_type": "code",
   "execution_count": 274,
   "id": "f74f44de",
   "metadata": {},
   "outputs": [],
   "source": [
    "np.random.seed(1234)"
   ]
  },
  {
   "cell_type": "markdown",
   "id": "d4502f91",
   "metadata": {},
   "source": [
    "#### ```np.random.RandomState(seed)``` : 다른 난수 생성기로부터 격리된 난수 생성기를 생성"
   ]
  },
  {
   "cell_type": "code",
   "execution_count": 275,
   "id": "066f1a87",
   "metadata": {},
   "outputs": [],
   "source": [
    "rng = np.random.RandomState(1234)"
   ]
  },
  {
   "cell_type": "code",
   "execution_count": 276,
   "id": "cc6e3f34",
   "metadata": {},
   "outputs": [
    {
     "data": {
      "text/plain": [
       "array([ 0.47143516, -1.19097569,  1.43270697, -0.3126519 , -0.72058873,\n",
       "        0.88716294,  0.85958841, -0.6365235 ,  0.01569637, -2.24268495])"
      ]
     },
     "execution_count": 276,
     "metadata": {},
     "output_type": "execute_result"
    }
   ],
   "source": [
    "rng.randn(10)"
   ]
  },
  {
   "cell_type": "markdown",
   "id": "dffcd0cf",
   "metadata": {},
   "source": [
    "## \n",
    "\n",
    "### 계단 오르내리기 예제"
   ]
  },
  {
   "cell_type": "code",
   "execution_count": 288,
   "id": "cf6a6946",
   "metadata": {},
   "outputs": [],
   "source": [
    "import random"
   ]
  },
  {
   "cell_type": "code",
   "execution_count": 289,
   "id": "d78df18e",
   "metadata": {},
   "outputs": [],
   "source": [
    "np.random.seed(12345)\n",
    "position = 0\n",
    "walk = [position]\n",
    "steps = 1000\n",
    "for i in range(steps):\n",
    "    step = 1 if random.randint(0, 1) else -1\n",
    "    position += step\n",
    "    walk.append(position)"
   ]
  },
  {
   "cell_type": "code",
   "execution_count": 300,
   "id": "7adbb8df",
   "metadata": {},
   "outputs": [
    {
     "data": {
      "image/png": "[encoded data removed]",
      "text/plain": [
       "<Figure size 432x288 with 1 Axes>"
      ]
     },
     "metadata": {
      "needs_background": "light"
     },
     "output_type": "display_data"
    }
   ],
   "source": [
    "plt.figure()\n",
    "plt.plot(walk[:1000])\n",
    "plt.show()"
   ]
  },
  {
   "cell_type": "markdown",
   "id": "987aa7e8",
   "metadata": {},
   "source": [
    "- 계단을 오르내린 위치의 최소/최댓값"
   ]
  },
  {
   "cell_type": "code",
   "execution_count": 297,
   "id": "3556f223",
   "metadata": {},
   "outputs": [],
   "source": [
    "nsteps = 1000\n",
    "draws = np.random.randint(0, 2, size = nsteps)\n",
    "steps = np.where(draws > 0, 1, -1)\n",
    "walk = steps.cumsum()"
   ]
  },
  {
   "cell_type": "code",
   "execution_count": 298,
   "id": "c3e71600",
   "metadata": {},
   "outputs": [
    {
     "name": "stdout",
     "output_type": "stream",
     "text": [
      "-3\n",
      "31\n"
     ]
    }
   ],
   "source": [
    "print(walk.min())\n",
    "print(walk.max())"
   ]
  },
  {
   "cell_type": "markdown",
   "id": "491a57e0",
   "metadata": {},
   "source": [
    "- 계단에서 특정 위치에 도달하기까지의 시간\n",
    "- 처음 위치에서 10칸 이상 떨어진 시점"
   ]
  },
  {
   "cell_type": "code",
   "execution_count": 301,
   "id": "3429dc64",
   "metadata": {},
   "outputs": [
    {
     "data": {
      "text/plain": [
       "37"
      ]
     },
     "execution_count": 301,
     "metadata": {},
     "output_type": "execute_result"
    }
   ],
   "source": [
    "(np.abs(walk) >= 10).argmax()"
   ]
  },
  {
   "cell_type": "markdown",
   "id": "14908b73",
   "metadata": {},
   "source": [
    "### \n",
    "### 시뮬레이션\n",
    "- 1000번의 계단 오르내림을 5000번 시행"
   ]
  },
  {
   "cell_type": "code",
   "execution_count": 319,
   "id": "14275660",
   "metadata": {},
   "outputs": [
    {
     "data": {
      "text/plain": [
       "(5000, 1000)"
      ]
     },
     "execution_count": 319,
     "metadata": {},
     "output_type": "execute_result"
    }
   ],
   "source": [
    "nwalks = 5000\n",
    "nsteps = 1000\n",
    "\n",
    "draws = np.random.randint(0, 2, size = (nwalks, nsteps)) # 0 or 1\n",
    "steps = np.where(draws > 0, 1, -1)\n",
    "walks = steps.cumsum(1) # 각 시행의 최종값 (누적합)\n",
    "walks.shape"
   ]
  },
  {
   "cell_type": "markdown",
   "id": "f0ec8b56",
   "metadata": {},
   "source": [
    "- 시뮬레이션의 최대/최솟값"
   ]
  },
  {
   "cell_type": "code",
   "execution_count": 320,
   "id": "1e8d8ac0",
   "metadata": {},
   "outputs": [
    {
     "name": "stdout",
     "output_type": "stream",
     "text": [
      "112\n",
      "-117\n"
     ]
    }
   ],
   "source": [
    "print(walks.max()) # 가장 멀리간 시행결과\n",
    "print(walks.min()) # 가장 멀리가지 못한 시행결과"
   ]
  },
  {
   "cell_type": "markdown",
   "id": "ec477a94",
   "metadata": {},
   "source": [
    "- 데이터에서 누적합이 30 혹은 -30이 되는 최소 시점\n",
    "- ```.any()``` : 하나라도 True인게 있으면 True\n",
    "- ```.all()``` : 모두 True여야 True 반환"
   ]
  },
  {
   "cell_type": "code",
   "execution_count": 318,
   "id": "59ca208e",
   "metadata": {},
   "outputs": [
    {
     "data": {
      "text/plain": [
       "(5000,)"
      ]
     },
     "execution_count": 318,
     "metadata": {},
     "output_type": "execute_result"
    }
   ],
   "source": [
    "hits30 = (np.abs(walks) >= 30).any(1) \n",
    "# 행 방향 으로 .any 적용 => 최종값의 절댓값이 30이상인지의 여부\n",
    "hits30.shape"
   ]
  },
  {
   "cell_type": "code",
   "execution_count": 316,
   "id": "2f173873",
   "metadata": {
    "scrolled": true
   },
   "outputs": [
    {
     "data": {
      "text/plain": [
       "3390"
      ]
     },
     "execution_count": 316,
     "metadata": {},
     "output_type": "execute_result"
    }
   ],
   "source": [
    "hits30.sum() # 누적합이 30 또는 -30이 되는 시행의 수"
   ]
  },
  {
   "cell_type": "markdown",
   "id": "bf43882f",
   "metadata": {},
   "source": [
    "- 절댓값이 30을 넘는 경우에 대해 행 방향으로 argmax값을 계산 => 처음 위치에서 30칸 이상 멀어지는 최소 횟수"
   ]
  },
  {
   "cell_type": "code",
   "execution_count": 311,
   "id": "e030ab76",
   "metadata": {},
   "outputs": [
    {
     "data": {
      "text/plain": [
       "503.0064896755162"
      ]
     },
     "execution_count": 311,
     "metadata": {},
     "output_type": "execute_result"
    }
   ],
   "source": [
    "crossing_times = (np.abs(walks[hits30]) >= 30).argmax(1) \n",
    "# 최종값의 절댓값이 30이상인 시행\n",
    "crossing_times.mean()"
   ]
  },
  {
   "cell_type": "code",
   "execution_count": 312,
   "id": "246f88f4",
   "metadata": {},
   "outputs": [],
   "source": [
    "steps = np.random.normal(loc = 0, scale = 0.25,\n",
    "                         size=(nwalks, nsteps))"
   ]
  }
 ],
 "metadata": {
  "kernelspec": {
   "display_name": "Python 3 (ipykernel)",
   "language": "python",
   "name": "python3"
  },
  "language_info": {
   "codemirror_mode": {
    "name": "ipython",
    "version": 3
   },
   "file_extension": ".py",
   "mimetype": "text/x-python",
   "name": "python",
   "nbconvert_exporter": "python",
   "pygments_lexer": "ipython3",
   "version": "3.9.7"
  }
 },
 "nbformat": 4,
 "nbformat_minor": 5
}
