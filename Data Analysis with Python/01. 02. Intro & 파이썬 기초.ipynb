{
 "cells": [
  {
   "cell_type": "markdown",
   "id": "916de46a",
   "metadata": {},
   "source": [
    "### NumPy : Numerical Python\n",
    "- 빠르고 효율적인 다차원 배열 객체 ndarray\n",
    "- 배열 원소를 다루거나 배열 간의 수학 계산을 수행하는 함수\n",
    "- 디스크로부터 배열 기반의 데이터를 읽거나 쓸 수 있는 도구\n",
    "- 선형대수 계산, 푸리에 변환, 난수 생성기\n",
    "- 파이썬 확장과 C, C++ 코드에서 NumPy의 자료구조에 접근하고 계산 기능을 사용할 수 있도록 해주는 C API"
   ]
  },
  {
   "cell_type": "markdown",
   "id": "9bde8184",
   "metadata": {},
   "source": [
    "### pandas\n",
    "- 자동적으로 혹은 명시적으로 축의 이름에 따라 데이터를 정렬할 수 있는 자료구조, 이러한 자료구조는 잘못 정렬된 데이터에 의한 일반적인 오류를 예방하고 다양한 소스에서 가져온 다양한 방식으로 색인되어 있는 데이터를 다룰 수 있다.\n",
    "- 통합된 시게열 기능\n",
    "- 시계열 데이터와 비시게열 데이터를 함꼐 다룰 수 있는 통합 잘구조\n",
    "- 메타데이터를 보존하는 산술 연산과 축약 연산\n",
    "- 누락된 데이터를 유연하게 처리할 수 있는 기능\n",
    "- 일반 데이터베이스(SQL)처럼 데이터를 합치고 관계 연산을 수행하는 기능"
   ]
  },
  {
   "cell_type": "markdown",
   "id": "28ae1520",
   "metadata": {},
   "source": [
    "### matplotlib"
   ]
  },
  {
   "cell_type": "markdown",
   "id": "00ce86ed",
   "metadata": {},
   "source": [
    "### IPython & Jupyter"
   ]
  },
  {
   "cell_type": "markdown",
   "id": "de00d948",
   "metadata": {},
   "source": [
    "### SciPy \n",
    "- ```scipy.integrate``` : 수치적분 루틴과 미분방정식 풀이법\n",
    "- ```scipy.linalg``` : numpy.linalg에서 제공하는 것보다 더 확장된 선형대수 루틴과 매트릭스 분해\n",
    "- ```scipy.optimize``` : 함수 최적하기와 방정식 근을 구하는 알고리즘\n",
    "- ```scipy.signal``` : 시그널 프로세싱 도구\n",
    "- ```scipy.sparse``` : 희소행렬과 희소선형 시스템 풀이법\n",
    "- ```scipy.special``` : 감마함수처럼 흔히 사용되는 수학함수를 구현한 포트란 라이브러리인 SPECRUN 래퍼\n",
    "- ```scipy.stats``` : 표준 연속/이산 확률 분포 (밀도함수, 샘플러, 연속분포함수)와 다양한 통계 테스트 그리고 좀 더 기술적인 통계 도구"
   ]
  },
  {
   "cell_type": "markdown",
   "id": "2bc0b9b4",
   "metadata": {},
   "source": [
    "### scikit-learn\n",
    "- 분류 : SVM, KNN, RF, LR\n",
    "- 회귀, LASSO, RIDGE\n",
    "- 군집 : K-Means, Spectral Klustering\n",
    "- 차원축소 : PCA, 특징 선택, 행렬 인수분해\n",
    "- 모형선택 : 그리드 서치, 교차검증, 행렬\n",
    "- 전처리 : 특징추출, 정규화"
   ]
  },
  {
   "cell_type": "markdown",
   "id": "1f7a018b",
   "metadata": {},
   "source": [
    "### statsmodels : 전통적인 통계와 계량경제학 알고리즘 포함\n",
    "- 회귀모델 : 선형회귀, 일반화 선형 모델, 로버스트 선형 모델, 선형 혼합효과 모델 등\n",
    "- 분산분석 : ANOVA\n",
    "- 시계열분석, AR, ARMA, ARIMA, VAR 및 기타 모델\n",
    "- 비모수 기법 : 커널밀도추정, 커널회귀\n",
    "- 통계 모델 결과의 시각화"
   ]
  },
  {
   "cell_type": "markdown",
   "id": "c1bb6aaf",
   "metadata": {},
   "source": [
    "### 패키지 설치 : ```pip install **package_name**```"
   ]
  },
  {
   "cell_type": "markdown",
   "id": "afeeb7d1",
   "metadata": {},
   "source": [
    "### \n",
    "### 경로 확인 : ```os.getcwd()```"
   ]
  },
  {
   "cell_type": "code",
   "execution_count": 23,
   "id": "54e9d723",
   "metadata": {},
   "outputs": [
    {
     "name": "stdout",
     "output_type": "stream",
     "text": [
      "C:\\Users\\이찬솔\\Documents\\Python_for_Data_Analysis\n"
     ]
    }
   ],
   "source": [
    "print(os.getcwd())"
   ]
  },
  {
   "cell_type": "markdown",
   "id": "71cbf994",
   "metadata": {},
   "source": [
    "### 경로 작성 : ```os.path.join()```"
   ]
  },
  {
   "cell_type": "code",
   "execution_count": 11,
   "id": "c5be3fa6",
   "metadata": {},
   "outputs": [
    {
     "data": {
      "text/plain": [
       "'Python_for_Data_Analysis\\\\datasets'"
      ]
     },
     "execution_count": 11,
     "metadata": {},
     "output_type": "execute_result"
    }
   ],
   "source": [
    "os.path.join('Python_for_Data_Analysis', 'datasets')"
   ]
  },
  {
   "cell_type": "markdown",
   "id": "512764e3",
   "metadata": {},
   "source": [
    "### 경로 변경 : ```os.chdir()```"
   ]
  },
  {
   "cell_type": "code",
   "execution_count": 12,
   "id": "9cfdc645",
   "metadata": {},
   "outputs": [
    {
     "name": "stdout",
     "output_type": "stream",
     "text": [
      "C:\\Users\\이찬솔\\Documents\\Python_for_Data_Analysis\\datasets\n"
     ]
    }
   ],
   "source": [
    "os.chdir('/' + os.path.join('Users','이찬솔','Documents','Python_for_Data_Analysis', 'datasets'))\n",
    "print(os.getcwd())"
   ]
  },
  {
   "cell_type": "markdown",
   "id": "b5c33059",
   "metadata": {},
   "source": [
    "### \n",
    "### 자기 관찰\n",
    "- 변수나 함수의 앞이나 뒤에 '?'를 붙이면, 객체에 대한 일반 정보 출력\n",
    "- '??'를 사용하면 가능한 경우 함수의 소스 코드도 출력"
   ]
  },
  {
   "cell_type": "code",
   "execution_count": 13,
   "id": "5d5b4a40",
   "metadata": {},
   "outputs": [],
   "source": [
    "b = [1, 2, 3]\n",
    "b?"
   ]
  },
  {
   "cell_type": "code",
   "execution_count": 14,
   "id": "682e7ac4",
   "metadata": {},
   "outputs": [],
   "source": [
    "print?"
   ]
  },
  {
   "cell_type": "markdown",
   "id": "8e999033",
   "metadata": {},
   "source": [
    "### \n",
    "### 매직 명령어 : 파이썬 자체에는 존재하지 않는 특수 명령어, IPython에서만 사용 가능"
   ]
  },
  {
   "cell_type": "markdown",
   "id": "71181c40",
   "metadata": {},
   "source": [
    "| 명령어 | 설명 |\n",
    "| -- | -- |\n",
    "| %quickref | IPython의 빠른 도움말  |\n",
    "|  %magic |  모든 매직함수에 대한 상세 도움말 출력 |\n",
    "|  %debug |  최근 예외 트레이스백의 하단에서 대화형 디버거로 진입 |\n",
    "|  %hist |  명령어 입력 (그리고 선택적 출력) 히스토리 출력 |\n",
    "|  %pdb |  예외가 발생하면 자동으로 디버거 진입 |\n",
    "|  %paste |  클립보드에서 들여쓰기 된 채로 파이썬 코드 가져오기 |\n",
    "|   %cpaste | 실행할 파이썬 코드를 수동으로 붙여 넣을 수 있는 프롬프트 표시  |\n",
    "|  %reset |  대화형 네임스페이스에 정의된 모든 변수와 이름을 삭제 |\n",
    "|  %page 객체 | 객체를 pager를 통해 보기 좋게 출력  |\n",
    "|  %run 스크립트.py |  IPython 내에서 파이썬 스크립트 실행 |\n",
    "|  %prun 상태문 |  cProfile을 이용하여 상태문을 실행하고 프로파일 결과를 출력 |\n",
    "|  %time 상태문  | 상태문의 단일 실행 시간을 출력  |\n",
    "|  %timeit 상태문 |  상태문을 여러 차례 실행한 후 평균 실행 시간을 출력, 매우 짧은 시간 안에 끝나는 코드의 시간을 측정할 때 유용 |\n",
    "|  %who, %who_ls, %whos | 대화형 네임스페이스 내에 정의된 변수를 다양한 방법으로 표시  |\n",
    "|  %xdel 변수 | 변수를 제거하고 IPython 내부적으로 해당 객체에 대한 모든 참조를 제거 |"
   ]
  },
  {
   "cell_type": "markdown",
   "id": "4345854d",
   "metadata": {},
   "source": [
    "### ```%run ``` : IPython에서 스크립트 파일 접근\n",
    "- ipython_script_test.py\n",
    "\n",
    "```\n",
    "def f(x, y, z):\n",
    "    return (x + y) / z\n",
    "\n",
    "a = 5\n",
    "b = 6\n",
    "c = 7.5\n",
    "\n",
    "result = f(a, b, c)\n",
    "```"
   ]
  },
  {
   "cell_type": "code",
   "execution_count": null,
   "id": "36eeaf10",
   "metadata": {},
   "outputs": [],
   "source": [
    "%run -i ipython_script_test.py"
   ]
  },
  {
   "cell_type": "code",
   "execution_count": 31,
   "id": "d8e3f784",
   "metadata": {},
   "outputs": [
    {
     "data": {
      "text/plain": [
       "7.5"
      ]
     },
     "execution_count": 31,
     "metadata": {},
     "output_type": "execute_result"
    }
   ],
   "source": [
    "c"
   ]
  },
  {
   "cell_type": "code",
   "execution_count": 34,
   "id": "6749087b",
   "metadata": {},
   "outputs": [
    {
     "data": {
      "text/plain": [
       "1.4666666666666666"
      ]
     },
     "execution_count": 34,
     "metadata": {},
     "output_type": "execute_result"
    }
   ],
   "source": [
    "result"
   ]
  },
  {
   "cell_type": "markdown",
   "id": "b6682a66",
   "metadata": {},
   "source": [
    "### ```%load ``` : 스크립트 파일을 코드 셀로 불러옴 (매직함수)"
   ]
  },
  {
   "cell_type": "code",
   "execution_count": null,
   "id": "f34cae40",
   "metadata": {},
   "outputs": [],
   "source": [
    "# %load ipython_script_test.py\n",
    "Python 3.9.7 (tags/v3.9.7:1016ef3, Aug 30 2021, 20:19:38) [MSC v.1929 64 bit (AMD64)] on win32\n",
    "Type \"help\", \"copyright\", \"credits\" or \"license()\" for more information.\n",
    ">>> def f(x, y, z) :\n",
    "\treturn (x + y) / z\n",
    "\n",
    ">>> a = 5\n",
    ">>> b = 6\n",
    ">>> c = 7.5\n",
    ">>> result = f(a, b, c)\n",
    ">>> result\n",
    "1.4666666666666666\n",
    ">>> "
   ]
  },
  {
   "cell_type": "markdown",
   "id": "b6833c6d",
   "metadata": {},
   "source": [
    "### ```%timeit ``` : 코드 실행 시간 측정"
   ]
  },
  {
   "cell_type": "code",
   "execution_count": 39,
   "id": "8bb557e1",
   "metadata": {},
   "outputs": [],
   "source": [
    "import numpy as np"
   ]
  },
  {
   "cell_type": "code",
   "execution_count": 40,
   "id": "e6f9af01",
   "metadata": {},
   "outputs": [],
   "source": [
    "a = np.random.randn(100, 100)"
   ]
  },
  {
   "cell_type": "code",
   "execution_count": 41,
   "id": "b3ace54c",
   "metadata": {},
   "outputs": [
    {
     "name": "stdout",
     "output_type": "stream",
     "text": [
      "259 µs ± 47.9 µs per loop (mean ± std. dev. of 7 runs, 1,000 loops each)\n"
     ]
    }
   ],
   "source": [
    "%timeit np.dot(a, a)"
   ]
  },
  {
   "cell_type": "markdown",
   "id": "6ff79394",
   "metadata": {},
   "source": [
    "### \n",
    "### matplotlib"
   ]
  },
  {
   "cell_type": "code",
   "execution_count": 44,
   "id": "63b89e62",
   "metadata": {},
   "outputs": [],
   "source": [
    "%matplotlib inline"
   ]
  },
  {
   "cell_type": "code",
   "execution_count": 45,
   "id": "e80be77d",
   "metadata": {},
   "outputs": [
    {
     "data": {
      "text/plain": [
       "[<matplotlib.lines.Line2D at 0x1fd4ed4d070>]"
      ]
     },
     "execution_count": 45,
     "metadata": {},
     "output_type": "execute_result"
    },
    {
     "data": {
      "image/png": "[encoded data removed]",
      "text/plain": [
       "<Figure size 432x288 with 1 Axes>"
      ]
     },
     "metadata": {
      "needs_background": "light"
     },
     "output_type": "display_data"
    }
   ],
   "source": [
    "import matplotlib.pyplot as plt\n",
    "plt.plot(np.random.randn(50).cumsum())"
   ]
  },
  {
   "cell_type": "markdown",
   "id": "cac7dd71",
   "metadata": {},
   "source": [
    "### \n",
    "### 파이썬 기본\n",
    "\n",
    "### 함수와 객체 메서드 호출\n",
    "- 파이썬의 거의 모든 객체는 함수를 포함 => 메서드\n",
    "- 객체에 내부 데이터에 접근 가능"
   ]
  },
  {
   "cell_type": "markdown",
   "id": "57f6c31e",
   "metadata": {},
   "source": [
    "### 변수와 인자 전달"
   ]
  },
  {
   "cell_type": "code",
   "execution_count": 47,
   "id": "a2ea4451",
   "metadata": {},
   "outputs": [],
   "source": [
    "a = [1, 2, 3]"
   ]
  },
  {
   "cell_type": "code",
   "execution_count": 48,
   "id": "11eb7eed",
   "metadata": {},
   "outputs": [],
   "source": [
    "b = a"
   ]
  },
  {
   "cell_type": "code",
   "execution_count": 49,
   "id": "0c6819ab",
   "metadata": {},
   "outputs": [],
   "source": [
    "a.append(4)"
   ]
  },
  {
   "cell_type": "code",
   "execution_count": 50,
   "id": "d15f671a",
   "metadata": {},
   "outputs": [
    {
     "data": {
      "text/plain": [
       "[1, 2, 3, 4]"
      ]
     },
     "execution_count": 50,
     "metadata": {},
     "output_type": "execute_result"
    }
   ],
   "source": [
    "b"
   ]
  },
  {
   "cell_type": "code",
   "execution_count": 51,
   "id": "a705756a",
   "metadata": {},
   "outputs": [
    {
     "data": {
      "text/plain": [
       "[1, 2, 3, 4]"
      ]
     },
     "execution_count": 51,
     "metadata": {},
     "output_type": "execute_result"
    }
   ],
   "source": [
    "a"
   ]
  },
  {
   "cell_type": "markdown",
   "id": "00d4a43d",
   "metadata": {},
   "source": [
    "### 동적 참조와 강한 타입"
   ]
  },
  {
   "cell_type": "markdown",
   "id": "d8c1d1b5",
   "metadata": {},
   "source": [
    "### ```type()``` : 객체의 타입 확인"
   ]
  },
  {
   "cell_type": "code",
   "execution_count": 56,
   "id": "a134b07b",
   "metadata": {},
   "outputs": [
    {
     "data": {
      "text/plain": [
       "int"
      ]
     },
     "execution_count": 56,
     "metadata": {},
     "output_type": "execute_result"
    }
   ],
   "source": [
    "a = 5\n",
    "type(a)"
   ]
  },
  {
   "cell_type": "code",
   "execution_count": 57,
   "id": "806c2693",
   "metadata": {},
   "outputs": [
    {
     "data": {
      "text/plain": [
       "str"
      ]
     },
     "execution_count": 57,
     "metadata": {},
     "output_type": "execute_result"
    }
   ],
   "source": [
    "a = 'foo'\n",
    "type(a)"
   ]
  },
  {
   "cell_type": "code",
   "execution_count": 60,
   "id": "8542cf46",
   "metadata": {},
   "outputs": [
    {
     "name": "stdout",
     "output_type": "stream",
     "text": [
      "a is <class 'float'>, b is <class 'int'>\n"
     ]
    },
    {
     "data": {
      "text/plain": [
       "2.25"
      ]
     },
     "execution_count": 60,
     "metadata": {},
     "output_type": "execute_result"
    }
   ],
   "source": [
    "a = 4.5\n",
    "b = 2\n",
    "print('a is {0}, b is {1}'.format(type(a), type(b)))\n",
    "a / b"
   ]
  },
  {
   "cell_type": "markdown",
   "id": "c3f4bc6b",
   "metadata": {},
   "source": [
    "### ```isinstance(객체, 타입)``` : 객체의 타입을 검사"
   ]
  },
  {
   "cell_type": "code",
   "execution_count": 61,
   "id": "e4482a32",
   "metadata": {},
   "outputs": [
    {
     "data": {
      "text/plain": [
       "True"
      ]
     },
     "execution_count": 61,
     "metadata": {},
     "output_type": "execute_result"
    }
   ],
   "source": [
    "a = 5\n",
    "isinstance(a, int)"
   ]
  },
  {
   "cell_type": "markdown",
   "id": "b49fea3a",
   "metadata": {},
   "source": [
    "### 속성과 메서드"
   ]
  },
  {
   "cell_type": "markdown",
   "id": "d69a113a",
   "metadata": {},
   "source": [
    "### ```getattr()``` : 객체의 속성과 메서드 파악"
   ]
  },
  {
   "cell_type": "code",
   "execution_count": 62,
   "id": "93e14534",
   "metadata": {},
   "outputs": [],
   "source": [
    "a = 'foo'"
   ]
  },
  {
   "cell_type": "code",
   "execution_count": 63,
   "id": "b3f060d1",
   "metadata": {
    "scrolled": true
   },
   "outputs": [
    {
     "data": {
      "text/plain": [
       "<function str.split(sep=None, maxsplit=-1)>"
      ]
     },
     "execution_count": 63,
     "metadata": {},
     "output_type": "execute_result"
    }
   ],
   "source": [
    "getattr(a, 'split')"
   ]
  },
  {
   "cell_type": "markdown",
   "id": "be0067f7",
   "metadata": {},
   "source": [
    "### 모듈 임포트\n",
    "\n",
    "```python\n",
    "# some_module.py\n",
    " \n",
    "PI = 3.14159\n",
    "\n",
    "def f(x):\n",
    "    return x + 2\n",
    "\n",
    "def g(a, b):\n",
    "    return a + b\n",
    "```"
   ]
  },
  {
   "cell_type": "code",
   "execution_count": 67,
   "id": "1ef436aa",
   "metadata": {},
   "outputs": [],
   "source": [
    "import some_module\n",
    "result = some_module.f(5)\n",
    "pi = some_module.PI"
   ]
  },
  {
   "cell_type": "code",
   "execution_count": 69,
   "id": "027ae222",
   "metadata": {},
   "outputs": [],
   "source": [
    "from some_module import f, g, PI\n",
    "result = g(5, PI)"
   ]
  },
  {
   "cell_type": "markdown",
   "id": "e7c4daba",
   "metadata": {},
   "source": [
    "### 가변, 불변 객체\n",
    "- **리스트, 딕셔너리, NumPy 배열 또는 사용자 정의 클래스와 같은 대부분의 객체는 변경 가능**"
   ]
  },
  {
   "cell_type": "code",
   "execution_count": 79,
   "id": "23033b20",
   "metadata": {},
   "outputs": [
    {
     "data": {
      "text/plain": [
       "['foo', 2, [4, 5]]"
      ]
     },
     "execution_count": 79,
     "metadata": {},
     "output_type": "execute_result"
    }
   ],
   "source": [
    "a_list = ['foo', 2, [4, 5]]\n",
    "a_list"
   ]
  },
  {
   "cell_type": "code",
   "execution_count": 80,
   "id": "cf21aca0",
   "metadata": {},
   "outputs": [
    {
     "data": {
      "text/plain": [
       "[4, 5]"
      ]
     },
     "execution_count": 80,
     "metadata": {},
     "output_type": "execute_result"
    }
   ],
   "source": [
    "a_list[2]"
   ]
  },
  {
   "cell_type": "code",
   "execution_count": 81,
   "id": "93a3a4c3",
   "metadata": {},
   "outputs": [
    {
     "data": {
      "text/plain": [
       "['foo', 2, (3, 4)]"
      ]
     },
     "execution_count": 81,
     "metadata": {},
     "output_type": "execute_result"
    }
   ],
   "source": [
    "a_list[2] = (3, 4)\n",
    "a_list"
   ]
  },
  {
   "cell_type": "markdown",
   "id": "c55314db",
   "metadata": {},
   "source": [
    "- **문자열이나 튜플은 변경 불가능**"
   ]
  },
  {
   "cell_type": "code",
   "execution_count": 82,
   "id": "18667c6e",
   "metadata": {},
   "outputs": [],
   "source": [
    "a_tuple = (3, 5, (4, 5))"
   ]
  },
  {
   "cell_type": "code",
   "execution_count": 83,
   "id": "1eddc294",
   "metadata": {},
   "outputs": [
    {
     "ename": "TypeError",
     "evalue": "'tuple' object does not support item assignment",
     "output_type": "error",
     "traceback": [
      "\u001b[1;31m---------------------------------------------------------------------------\u001b[0m",
      "\u001b[1;31mTypeError\u001b[0m                                 Traceback (most recent call last)",
      "Input \u001b[1;32mIn [83]\u001b[0m, in \u001b[0;36m<cell line: 1>\u001b[1;34m()\u001b[0m\n\u001b[1;32m----> 1\u001b[0m a_tuple[\u001b[38;5;241m1\u001b[39m] \u001b[38;5;241m=\u001b[39m \u001b[38;5;124m'\u001b[39m\u001b[38;5;124mfour\u001b[39m\u001b[38;5;124m'\u001b[39m\n",
      "\u001b[1;31mTypeError\u001b[0m: 'tuple' object does not support item assignment"
     ]
    }
   ],
   "source": [
    "a_tuple[1] = 'four'"
   ]
  },
  {
   "cell_type": "markdown",
   "id": "a390c1e4",
   "metadata": {},
   "source": [
    "### 자료 형태\n",
    "\n",
    "| 자료형 | 설명 |\n",
    "| -- | -- | \n",
    "| None | 'null' |\n",
    "| str | 문자열 자료형 (UTF-8) |\n",
    "| bytes | Raw ASCII 바이트 |\n",
    "| float | 부동소수점수, double형도 따로 존재 |\n",
    "| bool | 참/거짓 |\n",
    "| int | 부호가 있는 정수 |"
   ]
  },
  {
   "cell_type": "markdown",
   "id": "0392fbfe",
   "metadata": {},
   "source": [
    "#### 문자열\n",
    "- 문자열은 일련의 문자 리스트 (튜플)로 취급"
   ]
  },
  {
   "cell_type": "code",
   "execution_count": 89,
   "id": "95b683be",
   "metadata": {},
   "outputs": [
    {
     "data": {
      "text/plain": [
       "['p', 'y', 't', 'h', 'o', 'n']"
      ]
     },
     "execution_count": 89,
     "metadata": {},
     "output_type": "execute_result"
    }
   ],
   "source": [
    "s = 'python'\n",
    "list(s)"
   ]
  },
  {
   "cell_type": "markdown",
   "id": "8496d341",
   "metadata": {},
   "source": [
    "- 여러 줄에 걸친 문자열은 세 개의 따옴표로 둘러쌈"
   ]
  },
  {
   "cell_type": "code",
   "execution_count": 87,
   "id": "249514d4",
   "metadata": {},
   "outputs": [
    {
     "data": {
      "text/plain": [
       "'\\na\\nb\\n'"
      ]
     },
     "execution_count": 87,
     "metadata": {},
     "output_type": "execute_result"
    }
   ],
   "source": [
    "c = \"\"\"\n",
    "a\n",
    "b\n",
    "\"\"\"\n",
    "c"
   ]
  },
  {
   "cell_type": "code",
   "execution_count": 88,
   "id": "b7741612",
   "metadata": {},
   "outputs": [
    {
     "data": {
      "text/plain": [
       "3"
      ]
     },
     "execution_count": 88,
     "metadata": {},
     "output_type": "execute_result"
    }
   ],
   "source": [
    "c.count('\\n')"
   ]
  },
  {
   "cell_type": "markdown",
   "id": "22cc265c",
   "metadata": {},
   "source": [
    "- 두 문자열을 더하면 두 문자열을 이어붙인 새로운 문자열이 생성"
   ]
  },
  {
   "cell_type": "code",
   "execution_count": 91,
   "id": "3d35c9c4",
   "metadata": {},
   "outputs": [
    {
     "data": {
      "text/plain": [
       "'this is the first half and this is the second half'"
      ]
     },
     "execution_count": 91,
     "metadata": {},
     "output_type": "execute_result"
    }
   ],
   "source": [
    "a = 'this is the first half'\n",
    "b = ' and this is the second half'\n",
    "a + b"
   ]
  },
  {
   "cell_type": "markdown",
   "id": "81ea4150",
   "metadata": {},
   "source": [
    "#### - 문자열 format\n",
    "- 포맷에 다라 문자열을 대체하여 새로운 문자열을 반환하는 format 메서드"
   ]
  },
  {
   "cell_type": "code",
   "execution_count": 92,
   "id": "79b9b575",
   "metadata": {},
   "outputs": [],
   "source": [
    "template = '{0:.2f} {1:s} are worth US${2:d}'"
   ]
  },
  {
   "cell_type": "markdown",
   "id": "27786c16",
   "metadata": {},
   "source": [
    "- {0:.2f} : 첫 번째 인사를 소수점 아래 2자리가지만 표시하는 부동소수점 형태로 출력하라는 의미\n",
    "- {1:s} : 두 번째 인자가 문자열이라는 의미\n",
    "- {2:d} : 세 번째 인자가 정수라는 의미"
   ]
  },
  {
   "cell_type": "code",
   "execution_count": 93,
   "id": "d230dbfb",
   "metadata": {},
   "outputs": [
    {
     "data": {
      "text/plain": [
       "'4.556000 Argentine Pesos are worth US$1'"
      ]
     },
     "execution_count": 93,
     "metadata": {},
     "output_type": "execute_result"
    }
   ],
   "source": [
    "template.format(4.5560, 'Argentine Pesos', 1)"
   ]
  },
  {
   "cell_type": "markdown",
   "id": "12f7c069",
   "metadata": {},
   "source": [
    "#### 바이트 / 유니코드"
   ]
  },
  {
   "cell_type": "markdown",
   "id": "2d8d856a",
   "metadata": {},
   "source": [
    "### ```.encode(utf-8)``` : 문자열 출력 형태 지정"
   ]
  },
  {
   "cell_type": "code",
   "execution_count": 106,
   "id": "56640d71",
   "metadata": {},
   "outputs": [
    {
     "data": {
      "text/plain": [
       "'español'"
      ]
     },
     "execution_count": 106,
     "metadata": {},
     "output_type": "execute_result"
    }
   ],
   "source": [
    "val = 'español'\n",
    "val"
   ]
  },
  {
   "cell_type": "code",
   "execution_count": 107,
   "id": "09631444",
   "metadata": {},
   "outputs": [
    {
     "data": {
      "text/plain": [
       "b'espa\\xc3\\xb1ol'"
      ]
     },
     "execution_count": 107,
     "metadata": {},
     "output_type": "execute_result"
    }
   ],
   "source": [
    "val_utf8 = val.encode('utf-8')\n",
    "val_utf8"
   ]
  },
  {
   "cell_type": "code",
   "execution_count": 108,
   "id": "a9e03606",
   "metadata": {},
   "outputs": [
    {
     "data": {
      "text/plain": [
       "'español'"
      ]
     },
     "execution_count": 108,
     "metadata": {},
     "output_type": "execute_result"
    }
   ],
   "source": [
    "val_utf8.decode('utf-8')"
   ]
  },
  {
   "cell_type": "code",
   "execution_count": 109,
   "id": "a32988de",
   "metadata": {},
   "outputs": [
    {
     "data": {
      "text/plain": [
       "b'espa\\xf1ol'"
      ]
     },
     "execution_count": 109,
     "metadata": {},
     "output_type": "execute_result"
    }
   ],
   "source": [
    "val.encode('latin1')"
   ]
  },
  {
   "cell_type": "code",
   "execution_count": 110,
   "id": "5ce0be9a",
   "metadata": {},
   "outputs": [
    {
     "data": {
      "text/plain": [
       "b'\\xff\\xfee\\x00s\\x00p\\x00a\\x00\\xf1\\x00o\\x00l\\x00'"
      ]
     },
     "execution_count": 110,
     "metadata": {},
     "output_type": "execute_result"
    }
   ],
   "source": [
    "val.encode('utf-16')"
   ]
  },
  {
   "cell_type": "code",
   "execution_count": 111,
   "id": "1b0b83f0",
   "metadata": {},
   "outputs": [
    {
     "data": {
      "text/plain": [
       "b'e\\x00s\\x00p\\x00a\\x00\\xf1\\x00o\\x00l\\x00'"
      ]
     },
     "execution_count": 111,
     "metadata": {},
     "output_type": "execute_result"
    }
   ],
   "source": [
    "val.encode('utf-16le')"
   ]
  },
  {
   "cell_type": "markdown",
   "id": "0260d76c",
   "metadata": {},
   "source": [
    "### \n",
    "### 날짜와 시간\n",
    "\n",
    "|  |  |\n",
    "| -- | -- |\n",
    "| %Y | 4자리 연도 |\n",
    "| %y | 2자리 연도 |\n",
    "| %m | 2자리 월 [01, 12] |\n",
    "| %d | 2자리 일 [01, 31] |\n",
    "| %H | 시간 (24시간 형식) [00, 23] |\n",
    "| %I | 시간 (12시간 형식) [01, 12] |\n",
    "| %M | 2자리 분 [00, 59] |\n",
    "| %S | 초 [00, 61] (60, 61은 윤초) |\n",
    "| %w | 정수로 나타낸 요일 [0, 6] |\n",
    "| %U | 연중주차 [00, 53], 일요일을 그 주의 첫 번째 날로 간주하며, 그 해에서 첫 번째 일요일 앞에 있는 날은 0주차가 된다 |\n",
    "| %W | 연중주차 [00, 53], 월요일을 그 주의 첫 번째 날로 간주하며, 그 해에서 첫 번째 월요일 앞에 있는 날은 0주차가 된다 |\n",
    "| %z | UTC 시간대 오프셋을 +HHMM 또는 -HHMM으로 표현, 만약 시간대를 신경 쓰지 않는 다면 비워둠 |\n",
    "| %F | %Y-%m-%d 형식에 대한 축약 |\n",
    "| %D | %m/%d/%y 형식에 대한 축약 |"
   ]
  },
  {
   "cell_type": "code",
   "execution_count": 112,
   "id": "fdf56a79",
   "metadata": {},
   "outputs": [],
   "source": [
    "from datetime import datetime, date, time"
   ]
  },
  {
   "cell_type": "markdown",
   "id": "7486720e",
   "metadata": {},
   "source": [
    "### ```datetime``` : datetime형 생성"
   ]
  },
  {
   "cell_type": "code",
   "execution_count": 115,
   "id": "f45f474e",
   "metadata": {},
   "outputs": [
    {
     "name": "stdout",
     "output_type": "stream",
     "text": [
      "2011-10-29 20:30:21\n",
      "29\n",
      "30\n"
     ]
    }
   ],
   "source": [
    "dt = datetime(2011, 10, 29, 20, 30, 21)\n",
    "print(dt)\n",
    "print(dt.day)\n",
    "print(dt.minute)"
   ]
  },
  {
   "cell_type": "code",
   "execution_count": 116,
   "id": "71cd5097",
   "metadata": {},
   "outputs": [
    {
     "data": {
      "text/plain": [
       "datetime.date(2011, 10, 29)"
      ]
     },
     "execution_count": 116,
     "metadata": {},
     "output_type": "execute_result"
    }
   ],
   "source": [
    "dt.date()"
   ]
  },
  {
   "cell_type": "code",
   "execution_count": 118,
   "id": "903785bb",
   "metadata": {},
   "outputs": [
    {
     "data": {
      "text/plain": [
       "datetime.time(20, 30, 21)"
      ]
     },
     "execution_count": 118,
     "metadata": {},
     "output_type": "execute_result"
    }
   ],
   "source": [
    "dt.time()"
   ]
  },
  {
   "cell_type": "markdown",
   "id": "efc403c8",
   "metadata": {},
   "source": [
    "### ```.strftime``` : datetime형을 문자열로 변환"
   ]
  },
  {
   "cell_type": "code",
   "execution_count": 123,
   "id": "acfb0d8c",
   "metadata": {},
   "outputs": [
    {
     "data": {
      "text/plain": [
       "'10/29/2011 20:30'"
      ]
     },
     "execution_count": 123,
     "metadata": {},
     "output_type": "execute_result"
    }
   ],
   "source": [
    "dt.strftime('%m/%d/%Y %H:%M')"
   ]
  },
  {
   "cell_type": "markdown",
   "id": "5e166a91",
   "metadata": {},
   "source": [
    "### ```.strptime``` : 문자열을 datetime형으로 변환"
   ]
  },
  {
   "cell_type": "code",
   "execution_count": 120,
   "id": "af3ec981",
   "metadata": {},
   "outputs": [
    {
     "data": {
      "text/plain": [
       "datetime.datetime(2009, 10, 31, 0, 0)"
      ]
     },
     "execution_count": 120,
     "metadata": {},
     "output_type": "execute_result"
    }
   ],
   "source": [
    "datetime.strptime('20091031', '%Y%m%d')"
   ]
  },
  {
   "cell_type": "markdown",
   "id": "808bded1",
   "metadata": {},
   "source": [
    "### ```.replace``` : datetime형 수정"
   ]
  },
  {
   "cell_type": "code",
   "execution_count": 121,
   "id": "578cb7f7",
   "metadata": {},
   "outputs": [
    {
     "data": {
      "text/plain": [
       "datetime.datetime(2011, 10, 29, 20, 0)"
      ]
     },
     "execution_count": 121,
     "metadata": {},
     "output_type": "execute_result"
    }
   ],
   "source": [
    "dt.replace(minute = 0, second = 0)"
   ]
  },
  {
   "cell_type": "markdown",
   "id": "eb781e79",
   "metadata": {},
   "source": [
    "### datetime.timedelta 객체 : datetime 객체의 차이"
   ]
  },
  {
   "cell_type": "code",
   "execution_count": 129,
   "id": "ae7ef5c7",
   "metadata": {},
   "outputs": [
    {
     "name": "stdout",
     "output_type": "stream",
     "text": [
      "17 days, 1:59:39\n",
      "<class 'datetime.timedelta'>\n"
     ]
    }
   ],
   "source": [
    "dt2 = datetime(2011, 11, 15, 22, 30)\n",
    "delta = dt2 - dt\n",
    "print(delta)\n",
    "print(type(delta))"
   ]
  },
  {
   "cell_type": "markdown",
   "id": "6ef84465",
   "metadata": {},
   "source": [
    "### \n",
    "### 조건문\n",
    "\n",
    "### ```if```, ```elif```, ```else```"
   ]
  },
  {
   "cell_type": "markdown",
   "id": "7ab94244",
   "metadata": {},
   "source": [
    "```Python\n",
    "if x < 0: \n",
    "    print('It's negative')\n",
    "elif x == 0:\n",
    "    print('Equal to zero')\n",
    "elif 0 < x < 5: \n",
    "    print('Positive but smaller than 5') \n",
    "else: \n",
    "    print('Positive and larger than or equal to 5')\n",
    "```"
   ]
  },
  {
   "cell_type": "markdown",
   "id": "29ddf4cd",
   "metadata": {},
   "source": [
    "### \n",
    "### 반복문\n",
    "\n",
    "### ```for```, ```break```"
   ]
  },
  {
   "cell_type": "code",
   "execution_count": 137,
   "id": "c1ce73eb",
   "metadata": {},
   "outputs": [
    {
     "name": "stdout",
     "output_type": "stream",
     "text": [
      "13\n"
     ]
    }
   ],
   "source": [
    "# 5를 만날 때 까지 모든 원소를 더함\n",
    "sequence = [1, 2, 0, 4, 6, 5, 2, 1]\n",
    "\n",
    "total_until_5 = 0 \n",
    "for value in sequence: \n",
    "    if value == 5: \n",
    "        break \n",
    "    total_until_5 += value\n",
    "\n",
    "print(total_until_5)"
   ]
  },
  {
   "cell_type": "markdown",
   "id": "1bf4a822",
   "metadata": {},
   "source": [
    "### ```while```, ```break```\n",
    "- 해당 조건이 FALSE가 되거나 break문을 사용할 대 까지 반복 수행"
   ]
  },
  {
   "cell_type": "markdown",
   "id": "be9d7fef",
   "metadata": {},
   "source": [
    "```Python\n",
    "x = 256 \n",
    "total = 0 \n",
    "while x > 0: \n",
    "    if total > 500: \n",
    "        break \n",
    "    total += x \n",
    "    x = x // 2\n",
    "```"
   ]
  },
  {
   "cell_type": "markdown",
   "id": "07706211",
   "metadata": {},
   "source": [
    "### ```pass```\n",
    "\n",
    "```Python\n",
    "if x < 0: \n",
    "    print('negative!') \n",
    "    elif x == 0:\n",
    "    # TODO: put something smart here\n",
    "    pass\n",
    "else: \n",
    "    print('positive!')\n",
    "```"
   ]
  },
  {
   "cell_type": "markdown",
   "id": "b869ae55",
   "metadata": {},
   "source": [
    "### ```range(start , end, step)``` : 연속된 정수를 넘겨주는 이터레이터를 반환\n",
    "- **end값의 바로 이전 정수까지 반환**\n",
    "- ```start``` : 시작값\n",
    "- ```end``` : 종결값\n",
    "- ```step``` : 간격"
   ]
  },
  {
   "cell_type": "code",
   "execution_count": 143,
   "id": "af23ec67",
   "metadata": {},
   "outputs": [
    {
     "name": "stdout",
     "output_type": "stream",
     "text": [
      "range(0, 10)\n",
      "[0, 1, 2, 3, 4, 5, 6, 7, 8, 9]\n",
      "[0, 2, 4, 6, 8, 10, 12, 14, 16, 18]\n"
     ]
    }
   ],
   "source": [
    "print(range(0, 10))\n",
    "print(list(range(0, 10)))\n",
    "print(list(range(0, 20, 2)))"
   ]
  },
  {
   "cell_type": "code",
   "execution_count": 147,
   "id": "8f0ba83e",
   "metadata": {},
   "outputs": [
    {
     "name": "stdout",
     "output_type": "stream",
     "text": [
      "4\n"
     ]
    }
   ],
   "source": [
    "seq = [1, 2, 3, 4]\n",
    "for i in range(len(seq)):\n",
    "    val = seq[i]\n",
    "print(val)"
   ]
  },
  {
   "cell_type": "code",
   "execution_count": 149,
   "id": "bb565f13",
   "metadata": {},
   "outputs": [
    {
     "name": "stdout",
     "output_type": "stream",
     "text": [
      "23331668\n"
     ]
    }
   ],
   "source": [
    "sum = 0 \n",
    "for i in range(10000) :\n",
    "    if i%3 == 0 or i % 5 == 0 :\n",
    "        sum += i\n",
    "print(sum)"
   ]
  },
  {
   "cell_type": "markdown",
   "id": "ccd2b00b",
   "metadata": {},
   "source": [
    "### 삼항 표현식 : if-else문을 한 줄로 표현"
   ]
  },
  {
   "cell_type": "code",
   "execution_count": 150,
   "id": "8c341fda",
   "metadata": {},
   "outputs": [
    {
     "data": {
      "text/plain": [
       "'Non-negative'"
      ]
     },
     "execution_count": 150,
     "metadata": {},
     "output_type": "execute_result"
    }
   ],
   "source": [
    "x = 5\n",
    "'Non-negative' if x >= 0 else 'Negative'"
   ]
  }
 ],
 "metadata": {
  "kernelspec": {
   "display_name": "Python 3 (ipykernel)",
   "language": "python",
   "name": "python3"
  },
  "language_info": {
   "codemirror_mode": {
    "name": "ipython",
    "version": 3
   },
   "file_extension": ".py",
   "mimetype": "text/x-python",
   "name": "python",
   "nbconvert_exporter": "python",
   "pygments_lexer": "ipython3",
   "version": "3.9.7"
  }
 },
 "nbformat": 4,
 "nbformat_minor": 5
}
