{
 "cells": [
  {
   "cell_type": "markdown",
   "id": "c2acc29e",
   "metadata": {},
   "source": [
    "### 순차 자료형\n",
    "\n",
    "\n",
    "### 튜플 : 1차원의 고정된 크기를 가지는 변경 불가능한 순차 자료형\n",
    "\n",
    "### ```tuple()``` : 튜플로 변환"
   ]
  },
  {
   "cell_type": "code",
   "execution_count": 4,
   "id": "c06dac2c",
   "metadata": {
    "scrolled": true
   },
   "outputs": [
    {
     "data": {
      "text/plain": [
       "(4, 0, 2)"
      ]
     },
     "execution_count": 4,
     "metadata": {},
     "output_type": "execute_result"
    }
   ],
   "source": [
    "tuple([4, 0, 2])"
   ]
  },
  {
   "cell_type": "code",
   "execution_count": 6,
   "id": "d8936a1b",
   "metadata": {},
   "outputs": [
    {
     "data": {
      "text/plain": [
       "('s', 't', 'r', 'i', 'n', 'g')"
      ]
     },
     "execution_count": 6,
     "metadata": {},
     "output_type": "execute_result"
    }
   ],
   "source": [
    "tup = tuple('string')\n",
    "tup"
   ]
  },
  {
   "cell_type": "code",
   "execution_count": 1,
   "id": "6409a8e4",
   "metadata": {},
   "outputs": [
    {
     "data": {
      "text/plain": [
       "(4, 5, 6)"
      ]
     },
     "execution_count": 1,
     "metadata": {},
     "output_type": "execute_result"
    }
   ],
   "source": [
    "tup = 4, 5, 6\n",
    "tup"
   ]
  },
  {
   "cell_type": "markdown",
   "id": "a68f91f1",
   "metadata": {},
   "source": [
    "- 중첩된 튜플 정의 가능"
   ]
  },
  {
   "cell_type": "code",
   "execution_count": 3,
   "id": "d2879bce",
   "metadata": {},
   "outputs": [
    {
     "data": {
      "text/plain": [
       "((4, 5, 6), (7, 8))"
      ]
     },
     "execution_count": 3,
     "metadata": {},
     "output_type": "execute_result"
    }
   ],
   "source": [
    "nested_tup = (4, 5, 6), (7, 8)\n",
    "nested_tup"
   ]
  },
  {
   "cell_type": "markdown",
   "id": "d5c68890",
   "metadata": {},
   "source": [
    "- **튜플에 저장된 객체 자체는 변경 불가능**\n",
    "- **튜플 내에 저장된 객체는 그 위치에서 바로 변경 가능**"
   ]
  },
  {
   "cell_type": "code",
   "execution_count": 7,
   "id": "10f37864",
   "metadata": {},
   "outputs": [],
   "source": [
    "tup = tuple(['foo', [1, 2], True])"
   ]
  },
  {
   "cell_type": "code",
   "execution_count": 9,
   "id": "5e79ef6b",
   "metadata": {},
   "outputs": [],
   "source": [
    "tup[1].append(3)"
   ]
  },
  {
   "cell_type": "code",
   "execution_count": 10,
   "id": "9b1d88fc",
   "metadata": {},
   "outputs": [
    {
     "data": {
      "text/plain": [
       "('foo', [1, 2, 3], True)"
      ]
     },
     "execution_count": 10,
     "metadata": {},
     "output_type": "execute_result"
    }
   ],
   "source": [
    "tup"
   ]
  },
  {
   "cell_type": "markdown",
   "id": "f0ec9190",
   "metadata": {},
   "source": [
    "- 연산자를 통해 튜플 연결"
   ]
  },
  {
   "cell_type": "code",
   "execution_count": 11,
   "id": "2bc7fee1",
   "metadata": {},
   "outputs": [
    {
     "data": {
      "text/plain": [
       "(4, None, 'foo', 6, 0, 'bar')"
      ]
     },
     "execution_count": 11,
     "metadata": {},
     "output_type": "execute_result"
    }
   ],
   "source": [
    "(4, None, 'foo') + (6, 0) + ('bar', )"
   ]
  },
  {
   "cell_type": "code",
   "execution_count": 12,
   "id": "ff3af65f",
   "metadata": {},
   "outputs": [
    {
     "data": {
      "text/plain": [
       "('foo', 'bar', 'foo', 'bar', 'foo', 'bar', 'foo', 'bar')"
      ]
     },
     "execution_count": 12,
     "metadata": {},
     "output_type": "execute_result"
    }
   ],
   "source": [
    "('foo', 'bar') * 4"
   ]
  },
  {
   "cell_type": "markdown",
   "id": "b7050255",
   "metadata": {},
   "source": [
    "- 튜플에서 값 분리"
   ]
  },
  {
   "cell_type": "code",
   "execution_count": 16,
   "id": "60506dbe",
   "metadata": {},
   "outputs": [
    {
     "data": {
      "text/plain": [
       "6"
      ]
     },
     "execution_count": 16,
     "metadata": {},
     "output_type": "execute_result"
    }
   ],
   "source": [
    "tup = 4, 5, (6, 7)\n",
    "a, b, (c, d) = tup\n",
    "c"
   ]
  },
  {
   "cell_type": "markdown",
   "id": "c614a1b3",
   "metadata": {},
   "source": [
    "### ```*rest``` : 나머지 객체"
   ]
  },
  {
   "cell_type": "code",
   "execution_count": 17,
   "id": "7157c6f7",
   "metadata": {},
   "outputs": [
    {
     "name": "stdout",
     "output_type": "stream",
     "text": [
      "1\n",
      "2\n"
     ]
    }
   ],
   "source": [
    "values = 1, 2, 3, 4, 5\n",
    "a, b, *rest = values\n",
    "print(a); print(b)"
   ]
  },
  {
   "cell_type": "code",
   "execution_count": 18,
   "id": "c03ee4d4",
   "metadata": {},
   "outputs": [
    {
     "data": {
      "text/plain": [
       "[3, 4, 5]"
      ]
     },
     "execution_count": 18,
     "metadata": {},
     "output_type": "execute_result"
    }
   ],
   "source": [
    "rest"
   ]
  },
  {
   "cell_type": "markdown",
   "id": "44373d26",
   "metadata": {},
   "source": [
    "#### 튜플 메서드\n",
    "\n",
    "### ```.count()``` : 주어진 값과 몇개 같은 값이 몇 개 있는지 반환 (리스트도 사용 가능)"
   ]
  },
  {
   "cell_type": "code",
   "execution_count": 23,
   "id": "eaa8b5b3",
   "metadata": {},
   "outputs": [
    {
     "data": {
      "text/plain": [
       "4"
      ]
     },
     "execution_count": 23,
     "metadata": {},
     "output_type": "execute_result"
    }
   ],
   "source": [
    "a = (1, 2, 2, 2, 3, 4, 2)\n",
    "a.count(2)"
   ]
  },
  {
   "cell_type": "markdown",
   "id": "a9d8f8ad",
   "metadata": {},
   "source": [
    "### \n",
    "### 리스트 : 크기나 내용의 변경 가능\n",
    "- **대괄호 []**나, ```list()```함수 사용"
   ]
  },
  {
   "cell_type": "code",
   "execution_count": 39,
   "id": "bbaceba9",
   "metadata": {},
   "outputs": [
    {
     "data": {
      "text/plain": [
       "['foo', 'peekaboo', 'baz']"
      ]
     },
     "execution_count": 39,
     "metadata": {},
     "output_type": "execute_result"
    }
   ],
   "source": [
    "a_list = [2, 3, 7, None]\n",
    "tup = ('foo', 'bar', 'baz')\n",
    "b_list = list(tup)\n",
    "b_list[1] = 'peekaboo'\n",
    "b_list"
   ]
  },
  {
   "cell_type": "markdown",
   "id": "0beb305d",
   "metadata": {},
   "source": [
    "- **'+' 연산자를 이용하여 두 개의 리스트 연결 가능**"
   ]
  },
  {
   "cell_type": "code",
   "execution_count": 56,
   "id": "edd510d6",
   "metadata": {},
   "outputs": [
    {
     "data": {
      "text/plain": [
       "[4, None, 'foo', 7, 8, (2, 3)]"
      ]
     },
     "execution_count": 56,
     "metadata": {},
     "output_type": "execute_result"
    }
   ],
   "source": [
    "[4, None, 'foo'] + [7, 8, (2, 3)]"
   ]
  },
  {
   "cell_type": "markdown",
   "id": "73310ae2",
   "metadata": {},
   "source": [
    "#### 리스트 메서드\n",
    "### ```.append()``` : 리스트 끝에 새로운 값 추가\n"
   ]
  },
  {
   "cell_type": "code",
   "execution_count": 40,
   "id": "2019501c",
   "metadata": {},
   "outputs": [
    {
     "data": {
      "text/plain": [
       "['foo', 'peekaboo', 'baz', 'dwarf']"
      ]
     },
     "execution_count": 40,
     "metadata": {},
     "output_type": "execute_result"
    }
   ],
   "source": [
    "b_list.append('dwarf')\n",
    "b_list"
   ]
  },
  {
   "cell_type": "markdown",
   "id": "d786a760",
   "metadata": {},
   "source": [
    "### ```.insert()``` : 리스트의 특정 위치에 값을 삽입 할 수 있다."
   ]
  },
  {
   "cell_type": "code",
   "execution_count": 41,
   "id": "0b1374b4",
   "metadata": {},
   "outputs": [
    {
     "data": {
      "text/plain": [
       "['foo', 'red', 'peekaboo', 'baz', 'dwarf']"
      ]
     },
     "execution_count": 41,
     "metadata": {},
     "output_type": "execute_result"
    }
   ],
   "source": [
    "b_list.insert(1, 'red')\n",
    "b_list"
   ]
  },
  {
   "cell_type": "markdown",
   "id": "a6d385a8",
   "metadata": {},
   "source": [
    "### ```.pop()``` : 특정 위치의 값을 반환하고, 해당 값을 리스트에서 삭제"
   ]
  },
  {
   "cell_type": "code",
   "execution_count": 42,
   "id": "9c6faf27",
   "metadata": {},
   "outputs": [
    {
     "data": {
      "text/plain": [
       "'peekaboo'"
      ]
     },
     "execution_count": 42,
     "metadata": {},
     "output_type": "execute_result"
    }
   ],
   "source": [
    "b_list.pop(2)"
   ]
  },
  {
   "cell_type": "code",
   "execution_count": 43,
   "id": "0cbd7c4e",
   "metadata": {},
   "outputs": [
    {
     "data": {
      "text/plain": [
       "['foo', 'red', 'baz', 'dwarf']"
      ]
     },
     "execution_count": 43,
     "metadata": {},
     "output_type": "execute_result"
    }
   ],
   "source": [
    "b_list"
   ]
  },
  {
   "cell_type": "markdown",
   "id": "6ae6c1eb",
   "metadata": {},
   "source": [
    "### ```.remove()``` : 해당값과 일치하는 값을 삭제 (앞에 위치한 값부터)"
   ]
  },
  {
   "cell_type": "code",
   "execution_count": 45,
   "id": "be81be17",
   "metadata": {},
   "outputs": [
    {
     "data": {
      "text/plain": [
       "['foo', 'red', 'baz', 'dwarf', 'foo']"
      ]
     },
     "execution_count": 45,
     "metadata": {},
     "output_type": "execute_result"
    }
   ],
   "source": [
    "b_list"
   ]
  },
  {
   "cell_type": "code",
   "execution_count": 46,
   "id": "bd3cbdab",
   "metadata": {
    "scrolled": true
   },
   "outputs": [
    {
     "data": {
      "text/plain": [
       "['red', 'baz', 'dwarf', 'foo']"
      ]
     },
     "execution_count": 46,
     "metadata": {},
     "output_type": "execute_result"
    }
   ],
   "source": [
    "b_list.remove('foo')\n",
    "b_list"
   ]
  },
  {
   "cell_type": "markdown",
   "id": "a99d8600",
   "metadata": {},
   "source": [
    "### ```.extend()``` : 여러 개의 값을 추가"
   ]
  },
  {
   "cell_type": "code",
   "execution_count": 47,
   "id": "f74f16e6",
   "metadata": {},
   "outputs": [
    {
     "data": {
      "text/plain": [
       "[4, None, 'foo', 7, 8, (2, 3)]"
      ]
     },
     "execution_count": 47,
     "metadata": {},
     "output_type": "execute_result"
    }
   ],
   "source": [
    "x = [4, None, 'foo']\n",
    "x.extend([7, 8, (2, 3)])\n",
    "x"
   ]
  },
  {
   "cell_type": "markdown",
   "id": "32208a95",
   "metadata": {},
   "source": [
    "### ```.sort(key)``` : 정렬\n",
    "- ```key``` : 정렬 기준"
   ]
  },
  {
   "cell_type": "code",
   "execution_count": 51,
   "id": "f24a5480",
   "metadata": {},
   "outputs": [
    {
     "data": {
      "text/plain": [
       "[1, 2, 3, 5, 7]"
      ]
     },
     "execution_count": 51,
     "metadata": {},
     "output_type": "execute_result"
    }
   ],
   "source": [
    "a = [7, 2, 5, 1, 3]\n",
    "a.sort()\n",
    "a"
   ]
  },
  {
   "cell_type": "code",
   "execution_count": 49,
   "id": "c1ea9041",
   "metadata": {
    "scrolled": true
   },
   "outputs": [
    {
     "data": {
      "text/plain": [
       "['He', 'saw', 'six', 'small', 'foxes']"
      ]
     },
     "execution_count": 49,
     "metadata": {},
     "output_type": "execute_result"
    }
   ],
   "source": [
    "b = ['saw', 'small', 'He', 'foxes', 'six']\n",
    "b.sort(key = len)\n",
    "b"
   ]
  },
  {
   "cell_type": "markdown",
   "id": "05bc4225",
   "metadata": {},
   "source": [
    "### \n",
    "### 이진 탐색과 정렬된 리스트 유지, bisect\n",
    "### ```.bisect()``` : 값이 추가될 대 리스트가 정렬된 상태를 유지할 수 있는 위치 반환\n",
    "### ```.insort()``` : 실제로 정렬된 상태를 유지한 채 값을 추가"
   ]
  },
  {
   "cell_type": "code",
   "execution_count": 57,
   "id": "5e0fbd51",
   "metadata": {},
   "outputs": [
    {
     "data": {
      "text/plain": [
       "5"
      ]
     },
     "execution_count": 57,
     "metadata": {},
     "output_type": "execute_result"
    }
   ],
   "source": [
    "import bisect\n",
    "c = [1, 2, 2, 2, 3, 4, 7]\n",
    "bisect.bisect(c, 3)"
   ]
  },
  {
   "cell_type": "code",
   "execution_count": 58,
   "id": "1010d7cb",
   "metadata": {},
   "outputs": [
    {
     "data": {
      "text/plain": [
       "[1, 2, 2, 2, 3, 4, 6, 7]"
      ]
     },
     "execution_count": 58,
     "metadata": {},
     "output_type": "execute_result"
    }
   ],
   "source": [
    "bisect.insort(c, 6)\n",
    "c"
   ]
  },
  {
   "cell_type": "markdown",
   "id": "17afd687",
   "metadata": {},
   "source": [
    "### \n",
    "### 슬라이싱 : 원하는 크기만큼 잘라냄 (추출)\n",
    "- **슬라이싱 인덱스 : 0부터 시작 / 역순 : -1부터 시작**"
   ]
  },
  {
   "cell_type": "code",
   "execution_count": 59,
   "id": "2bb5c492",
   "metadata": {},
   "outputs": [
    {
     "data": {
      "text/plain": [
       "[2, 3, 7, 5]"
      ]
     },
     "execution_count": 59,
     "metadata": {},
     "output_type": "execute_result"
    }
   ],
   "source": [
    "seq = [7, 2, 3, 7, 5, 6, 0, 1]\n",
    "seq[1:5]"
   ]
  },
  {
   "cell_type": "code",
   "execution_count": 60,
   "id": "d56e05b9",
   "metadata": {},
   "outputs": [
    {
     "data": {
      "text/plain": [
       "[7, 2, 3, 6, 3, 5, 6, 0, 1]"
      ]
     },
     "execution_count": 60,
     "metadata": {},
     "output_type": "execute_result"
    }
   ],
   "source": [
    "seq[3:4] = [6, 3]\n",
    "seq"
   ]
  },
  {
   "cell_type": "code",
   "execution_count": 61,
   "id": "a736d780",
   "metadata": {},
   "outputs": [
    {
     "data": {
      "text/plain": [
       "[7, 2, 3, 6, 3]"
      ]
     },
     "execution_count": 61,
     "metadata": {},
     "output_type": "execute_result"
    }
   ],
   "source": [
    "seq[:5]"
   ]
  },
  {
   "cell_type": "code",
   "execution_count": 64,
   "id": "ea273762",
   "metadata": {},
   "outputs": [
    {
     "data": {
      "text/plain": [
       "[6, 3, 5, 6]"
      ]
     },
     "execution_count": 64,
     "metadata": {},
     "output_type": "execute_result"
    }
   ],
   "source": [
    "seq[-6:-2]"
   ]
  },
  {
   "cell_type": "markdown",
   "id": "a3305511",
   "metadata": {},
   "source": [
    "- '::'을 통해 간격 지정"
   ]
  },
  {
   "cell_type": "code",
   "execution_count": 67,
   "id": "2978243a",
   "metadata": {
    "scrolled": true
   },
   "outputs": [
    {
     "data": {
      "text/plain": [
       "[7, 3, 3, 6, 1]"
      ]
     },
     "execution_count": 67,
     "metadata": {},
     "output_type": "execute_result"
    }
   ],
   "source": [
    "seq[::2] "
   ]
  },
  {
   "cell_type": "code",
   "execution_count": 68,
   "id": "a95d9276",
   "metadata": {},
   "outputs": [
    {
     "data": {
      "text/plain": [
       "[1, 0, 6, 5, 3, 6, 3, 2, 7]"
      ]
     },
     "execution_count": 68,
     "metadata": {},
     "output_type": "execute_result"
    }
   ],
   "source": [
    "seq[::-1] # 역순 정렬"
   ]
  },
  {
   "cell_type": "markdown",
   "id": "578fff6b",
   "metadata": {},
   "source": [
    "### \n",
    "### 내장 순차 자료형 함수\n",
    "\n",
    "### ```enumerate()``` : 순차 자료형에서 현재 아이템의 색인을 함께 처리하고자 할 때 사용"
   ]
  },
  {
   "cell_type": "code",
   "execution_count": 74,
   "id": "3effdf93",
   "metadata": {},
   "outputs": [
    {
     "data": {
      "text/plain": [
       "4"
      ]
     },
     "execution_count": 74,
     "metadata": {},
     "output_type": "execute_result"
    }
   ],
   "source": [
    "collection = ['a', 'b', 'c', 'd']\n",
    "i = 0\n",
    "\n",
    "for i, value in enumerate(collection) :\n",
    "    i += 1\n",
    "i"
   ]
  },
  {
   "cell_type": "markdown",
   "id": "52b3e9b9",
   "metadata": {},
   "source": [
    "### ```sorted()``` : 정렬된 복사본을 생성"
   ]
  },
  {
   "cell_type": "code",
   "execution_count": 75,
   "id": "9c9c735f",
   "metadata": {
    "scrolled": true
   },
   "outputs": [
    {
     "data": {
      "text/plain": [
       "[0, 1, 2, 2, 3, 6, 7]"
      ]
     },
     "execution_count": 75,
     "metadata": {},
     "output_type": "execute_result"
    }
   ],
   "source": [
    "sorted([7, 1, 2, 6, 0, 3, 2])"
   ]
  },
  {
   "cell_type": "code",
   "execution_count": 76,
   "id": "3efb3689",
   "metadata": {},
   "outputs": [
    {
     "data": {
      "text/plain": [
       "[' ', 'a', 'c', 'e', 'e', 'h', 'o', 'r', 's', 'u']"
      ]
     },
     "execution_count": 76,
     "metadata": {},
     "output_type": "execute_result"
    }
   ],
   "source": [
    "sorted('house race')"
   ]
  },
  {
   "cell_type": "markdown",
   "id": "2941f2a4",
   "metadata": {},
   "source": [
    "### ```zip()``` : 여러 개의 리스트나 튜플 도는 다른 순차 자료형을 서로 짝지어서 튜플의 리스트 생성"
   ]
  },
  {
   "cell_type": "code",
   "execution_count": 79,
   "id": "6655bd51",
   "metadata": {},
   "outputs": [
    {
     "data": {
      "text/plain": [
       "[('foo', 'one'), ('bar', 'two'), ('faz', 'three')]"
      ]
     },
     "execution_count": 79,
     "metadata": {},
     "output_type": "execute_result"
    }
   ],
   "source": [
    "seq1 = ['foo', 'bar', 'faz']\n",
    "seq2 = ['one', 'two', 'three']\n",
    "zipped = zip(seq1, seq2)\n",
    "list(zipped)"
   ]
  },
  {
   "cell_type": "markdown",
   "id": "1936e4d9",
   "metadata": {},
   "source": [
    "- **여러 개의 순차 자료형을 받을 시, 리스트의 크기는 받은 순차 자료형 중 가장 짧은 크기로 정해짐**"
   ]
  },
  {
   "cell_type": "code",
   "execution_count": 80,
   "id": "ec2983d8",
   "metadata": {},
   "outputs": [
    {
     "data": {
      "text/plain": [
       "[('foo', 'one', False), ('bar', 'two', True)]"
      ]
     },
     "execution_count": 80,
     "metadata": {},
     "output_type": "execute_result"
    }
   ],
   "source": [
    "seq3 = [False, True]\n",
    "list(zip(seq1, seq2, seq3))"
   ]
  },
  {
   "cell_type": "markdown",
   "id": "c5905e40",
   "metadata": {},
   "source": [
    "- **리스트의 행을 리스트의 열로 변환**"
   ]
  },
  {
   "cell_type": "code",
   "execution_count": 81,
   "id": "18bc7ed0",
   "metadata": {},
   "outputs": [],
   "source": [
    "pitchers = [('Nolan', 'Ryan'), ('Roger', 'Clemens'), ('Schilling', 'Curt')]\n",
    "first_names, last_names = zip(*pitchers)"
   ]
  },
  {
   "cell_type": "code",
   "execution_count": 82,
   "id": "8408ee05",
   "metadata": {},
   "outputs": [
    {
     "name": "stdout",
     "output_type": "stream",
     "text": [
      "('Nolan', 'Roger', 'Schilling')\n",
      "('Ryan', 'Clemens', 'Curt')\n"
     ]
    }
   ],
   "source": [
    "print(first_names)\n",
    "print(last_names)"
   ]
  },
  {
   "cell_type": "markdown",
   "id": "f05b6f49",
   "metadata": {},
   "source": [
    "### ```reversed()``` : 순차 자료형을 역순으로 순회"
   ]
  },
  {
   "cell_type": "code",
   "execution_count": 83,
   "id": "7ad63416",
   "metadata": {},
   "outputs": [
    {
     "data": {
      "text/plain": [
       "[9, 8, 7, 6, 5, 4, 3, 2, 1, 0]"
      ]
     },
     "execution_count": 83,
     "metadata": {},
     "output_type": "execute_result"
    }
   ],
   "source": [
    "list(reversed(range(10)))"
   ]
  },
  {
   "cell_type": "markdown",
   "id": "252022f4",
   "metadata": {},
   "source": [
    "### \n",
    "### 딕셔너리 : 키-값 쌍으로 구성 (연관배열)\n",
    "- **중활호 {}사용하여 콜론으로 구분된 키와 값을 둘러쌈**\n",
    "### ```dict(key, value)```"
   ]
  },
  {
   "cell_type": "code",
   "execution_count": 84,
   "id": "b142043a",
   "metadata": {},
   "outputs": [
    {
     "data": {
      "text/plain": [
       "{'a': 'some value', 'b': '[1, 2, 3, 4]'}"
      ]
     },
     "execution_count": 84,
     "metadata": {},
     "output_type": "execute_result"
    }
   ],
   "source": [
    "empty_dict = {}\n",
    "d1 = {'a' : 'some value', 'b' : '[1, 2, 3, 4]'}\n",
    "d1"
   ]
  },
  {
   "cell_type": "code",
   "execution_count": 85,
   "id": "faf3b4ae",
   "metadata": {},
   "outputs": [
    {
     "data": {
      "text/plain": [
       "{'a': 'some value', 'b': '[1, 2, 3, 4]', 7: 'an integer'}"
      ]
     },
     "execution_count": 85,
     "metadata": {},
     "output_type": "execute_result"
    }
   ],
   "source": [
    "d1[7] = 'an integer'\n",
    "d1"
   ]
  },
  {
   "cell_type": "code",
   "execution_count": 86,
   "id": "1b5fb67d",
   "metadata": {},
   "outputs": [
    {
     "data": {
      "text/plain": [
       "'[1, 2, 3, 4]'"
      ]
     },
     "execution_count": 86,
     "metadata": {},
     "output_type": "execute_result"
    }
   ],
   "source": [
    "d1['b']"
   ]
  },
  {
   "cell_type": "markdown",
   "id": "97d99b51",
   "metadata": {},
   "source": [
    "### ```del```예약어, ```.pop()```을 사용하여 사전의 값을 삭제"
   ]
  },
  {
   "cell_type": "code",
   "execution_count": 88,
   "id": "96ba97e6",
   "metadata": {},
   "outputs": [
    {
     "name": "stdout",
     "output_type": "stream",
     "text": [
      "{'a': 'some value', 'b': '[1, 2, 3, 4]', 7: 'an integer', 'dummy': 'another value'}\n",
      "another value\n",
      "{'a': 'some value', 'b': '[1, 2, 3, 4]', 7: 'an integer'}\n"
     ]
    }
   ],
   "source": [
    "d1[5] = 'some value'\n",
    "d1['dummy'] = 'another value'\n",
    "del d1[5]\n",
    "print(d1)\n",
    "\n",
    "ret = d1.pop('dummy')\n",
    "print(ret)\n",
    "print(d1)"
   ]
  },
  {
   "cell_type": "markdown",
   "id": "4a6025bc",
   "metadata": {},
   "source": [
    "### ```.keys()```, ```.values()``` : 키와 값이 담긴 이터레이터 반환"
   ]
  },
  {
   "cell_type": "code",
   "execution_count": 91,
   "id": "43f345b2",
   "metadata": {},
   "outputs": [
    {
     "name": "stdout",
     "output_type": "stream",
     "text": [
      "['a', 'b', 7]\n",
      "['some value', '[1, 2, 3, 4]', 'an integer']\n"
     ]
    }
   ],
   "source": [
    "print(list(d1.keys()))\n",
    "print(list(d1.values()))"
   ]
  },
  {
   "cell_type": "markdown",
   "id": "94d559fa",
   "metadata": {},
   "source": [
    "### ```.update``` : 하나의 사전을 다른 사전과 합침"
   ]
  },
  {
   "cell_type": "code",
   "execution_count": 92,
   "id": "21fe9d42",
   "metadata": {},
   "outputs": [
    {
     "data": {
      "text/plain": [
       "{'a': 'some value', 'b': 'foo', 7: 'an integer', 'c': 12}"
      ]
     },
     "execution_count": 92,
     "metadata": {},
     "output_type": "execute_result"
    }
   ],
   "source": [
    "d1.update({'b' : 'foo', 'c' : 12})\n",
    "d1"
   ]
  },
  {
   "cell_type": "markdown",
   "id": "138af5e4",
   "metadata": {},
   "source": [
    "### 순차 자료형에서 사전 생성"
   ]
  },
  {
   "cell_type": "code",
   "execution_count": 95,
   "id": "a37f20bd",
   "metadata": {},
   "outputs": [
    {
     "data": {
      "text/plain": [
       "{0: 4, 1: 3, 2: 2, 3: 1, 4: 0}"
      ]
     },
     "execution_count": 95,
     "metadata": {},
     "output_type": "execute_result"
    }
   ],
   "source": [
    "mapping = dict(zip(range(5), reversed(range(5))))\n",
    "mapping"
   ]
  },
  {
   "cell_type": "markdown",
   "id": "85c42722",
   "metadata": {},
   "source": [
    "### ```.get()``` : 반환할 기본값을 받아서, if-else 형식 적용"
   ]
  },
  {
   "cell_type": "code",
   "execution_count": 96,
   "id": "0396d774",
   "metadata": {},
   "outputs": [
    {
     "data": {
      "text/plain": [
       "{'a': ['apple', 'atom'], 'b': ['bat', 'bar', 'book']}"
      ]
     },
     "execution_count": 96,
     "metadata": {},
     "output_type": "execute_result"
    }
   ],
   "source": [
    "words = ['apple', 'bat', 'bar', 'atom', 'book']\n",
    "by_letter = {}\n",
    "\n",
    "for word in words:\n",
    "    letter = word[0]\n",
    "    if letter not in by_letter:\n",
    "        by_letter[letter] = [word]\n",
    "    else:\n",
    "        by_letter[letter].append(word)\n",
    "by_letter"
   ]
  },
  {
   "cell_type": "markdown",
   "id": "e31247d2",
   "metadata": {},
   "source": [
    "- **collections 모듈의 ```defaultdict()``` 클래스를 통해 위 과정을 좀 더 쉽게 사용**"
   ]
  },
  {
   "cell_type": "code",
   "execution_count": 98,
   "id": "c57fee16",
   "metadata": {},
   "outputs": [
    {
     "data": {
      "text/plain": [
       "defaultdict(list, {'a': ['apple', 'atom'], 'b': ['bat', 'bar', 'book']})"
      ]
     },
     "execution_count": 98,
     "metadata": {},
     "output_type": "execute_result"
    }
   ],
   "source": [
    "from collections import defaultdict\n",
    "by_letter = defaultdict(list)\n",
    "for word in words:\n",
    "    by_letter[word[0]].append(word)\n",
    "by_letter"
   ]
  },
  {
   "cell_type": "markdown",
   "id": "a1731b34",
   "metadata": {},
   "source": [
    "### \n",
    "### 유효한 사전 키 : 스칼라형 (정수, 실수, 문자열)이나 튜플(튜플에 저장된 값 역시 불변 객체)처럼 값이 바뀌지 않는 객체만 사전의 값으로 가능. (해시 가능 : 사전의 키로 사용 가능)\n",
    "\n",
    "### ```hash()``` : 객체가 해시 가능한지 확인"
   ]
  },
  {
   "cell_type": "code",
   "execution_count": 99,
   "id": "89c57426",
   "metadata": {},
   "outputs": [
    {
     "data": {
      "text/plain": [
       "9128225912600100573"
      ]
     },
     "execution_count": 99,
     "metadata": {},
     "output_type": "execute_result"
    }
   ],
   "source": [
    "hash('string')"
   ]
  },
  {
   "cell_type": "markdown",
   "id": "04fff623",
   "metadata": {},
   "source": [
    "- 리스트를 키로 사용하기 위한 한 가지 방법은 리스트를 튜플로 변경"
   ]
  },
  {
   "cell_type": "code",
   "execution_count": 100,
   "id": "f8e53873",
   "metadata": {},
   "outputs": [
    {
     "data": {
      "text/plain": [
       "{(1, 2, 3): 5}"
      ]
     },
     "execution_count": 100,
     "metadata": {},
     "output_type": "execute_result"
    }
   ],
   "source": [
    "d = {}\n",
    "d[tuple([1, 2, 3])] = 5\n",
    "d"
   ]
  },
  {
   "cell_type": "markdown",
   "id": "fccca565",
   "metadata": {},
   "source": [
    "### \n",
    "### 집합\n",
    "\n",
    "| 함수 | 대체 문법 | 설명 | \n",
    "| -- | -- | -- | \n",
    "| .add(x) |  | x원소를 추가 |\n",
    "| .clear() |  | 모든 원소를 제거하고 빈 상태로 되돌림 |\n",
    "| .remove(x) |  | 원소 x를 제거 |\n",
    "| .pop() |  | 임의의 원소를 제거. 비어 있는 경우 KeyError를 발생 |\n",
    "| a.union(b) | a \\| b | a와 ㅠ의 합집합 |\n",
    "| a.update(b) | a \\|= b | a에 a와 b의 합집합을 대입 |\n",
    "| a.intersection(b) | a & b | a와 b의 교집합 |\n",
    "| a.intersection_update(b) | a &= | a에 a와 b의 교집합을 대입 |\n",
    "| a.difference(b) | a - b | a와 b의 차집합 |\n",
    "| a.difference_update(b) | a -= b | a에 a와 b의 차집합을 대입 |\n",
    "| a.symmetric_difference(b) | a & b | a와 b의 대칭차집합 |\n",
    "| a.symmetrci_difference_update(b) | a ^= b | a에 a와 b의 대칭차집합을 대입 |\n",
    "| .issubset(b) |  | a의 모든 원소가 b에 속할 경우 True |\n",
    "| .issuperset(b) |  | a가 b의 모든 원소를 포함하는 경우 True |\n",
    "| .isdisjoint(b) |  | a와 b 모두에 속하는 원소가 없을 경우 True |"
   ]
  },
  {
   "cell_type": "code",
   "execution_count": 101,
   "id": "08a0e0a2",
   "metadata": {},
   "outputs": [
    {
     "data": {
      "text/plain": [
       "True"
      ]
     },
     "execution_count": 101,
     "metadata": {},
     "output_type": "execute_result"
    }
   ],
   "source": [
    "a_set = {1, 2, 3, 4, 5}\n",
    "{1, 2, 3}.issubset(a_set)"
   ]
  },
  {
   "cell_type": "markdown",
   "id": "f3121b8a",
   "metadata": {},
   "source": [
    "### \n",
    "### 리스트, 집합, 딕셔너리 표기법\n",
    "### 리스트 표기법"
   ]
  },
  {
   "cell_type": "code",
   "execution_count": 103,
   "id": "48508491",
   "metadata": {},
   "outputs": [
    {
     "data": {
      "text/plain": [
       "['BAT', 'CAR', 'DOVE', 'PYTHON']"
      ]
     },
     "execution_count": 103,
     "metadata": {},
     "output_type": "execute_result"
    }
   ],
   "source": [
    "strings = ['a', 'as', 'bat', 'car', 'dove', 'python']\n",
    "[x.upper() for x in strings if len(x) > 2]\n",
    "# 2글자 이상인 문자열에 대해서 .upper 메소드 적용"
   ]
  },
  {
   "cell_type": "markdown",
   "id": "77bfebf4",
   "metadata": {},
   "source": [
    "### 집합 & 딕셔너리 표기법"
   ]
  },
  {
   "cell_type": "code",
   "execution_count": 104,
   "id": "d191892d",
   "metadata": {},
   "outputs": [
    {
     "data": {
      "text/plain": [
       "{1, 2, 3, 4, 6}"
      ]
     },
     "execution_count": 104,
     "metadata": {},
     "output_type": "execute_result"
    }
   ],
   "source": [
    "unique_lengths = {len(x) for x in strings}\n",
    "unique_lengths"
   ]
  },
  {
   "cell_type": "markdown",
   "id": "08f83803",
   "metadata": {},
   "source": [
    "### ```map()``` : 함수를 일괄 적용"
   ]
  },
  {
   "cell_type": "code",
   "execution_count": 105,
   "id": "09ddea44",
   "metadata": {},
   "outputs": [
    {
     "data": {
      "text/plain": [
       "{1, 2, 3, 4, 6}"
      ]
     },
     "execution_count": 105,
     "metadata": {},
     "output_type": "execute_result"
    }
   ],
   "source": [
    "set(map(len, strings))"
   ]
  },
  {
   "cell_type": "code",
   "execution_count": 106,
   "id": "2b486fbc",
   "metadata": {
    "scrolled": true
   },
   "outputs": [
    {
     "data": {
      "text/plain": [
       "{'a': 0, 'as': 1, 'bat': 2, 'car': 3, 'dove': 4, 'python': 5}"
      ]
     },
     "execution_count": 106,
     "metadata": {},
     "output_type": "execute_result"
    }
   ],
   "source": [
    "loc_mapping = {val : index for index, val in enumerate(strings)}\n",
    "loc_mapping"
   ]
  },
  {
   "cell_type": "markdown",
   "id": "845ba4b6",
   "metadata": {},
   "source": [
    "### \n",
    "### 중첩된 리스트 표기법"
   ]
  },
  {
   "cell_type": "markdown",
   "id": "d1169e46",
   "metadata": {},
   "source": [
    "- 'e'가 2개 이상 포함된 이름의 목록"
   ]
  },
  {
   "cell_type": "code",
   "execution_count": 107,
   "id": "0cea3619",
   "metadata": {},
   "outputs": [],
   "source": [
    "all_data = [['John', 'Emily', 'Michael', 'Mary', 'Steven'],\n",
    "            ['Maria', 'Juan', 'Javier', 'Natalia', 'Pilar']]"
   ]
  },
  {
   "cell_type": "code",
   "execution_count": 109,
   "id": "116cb5f3",
   "metadata": {},
   "outputs": [
    {
     "data": {
      "text/plain": [
       "['Steven']"
      ]
     },
     "execution_count": 109,
     "metadata": {},
     "output_type": "execute_result"
    }
   ],
   "source": [
    "result = [name for names in all_data for name in names\n",
    "          if name.count('e') >= 2]\n",
    "result\n"
   ]
  },
  {
   "cell_type": "markdown",
   "id": "c889cc33",
   "metadata": {},
   "source": [
    "- 예)"
   ]
  },
  {
   "cell_type": "code",
   "execution_count": 112,
   "id": "cf9d806d",
   "metadata": {},
   "outputs": [
    {
     "data": {
      "text/plain": [
       "[1, 2, 3, 4, 5, 6, 7, 8, 9]"
      ]
     },
     "execution_count": 112,
     "metadata": {},
     "output_type": "execute_result"
    }
   ],
   "source": [
    "some_tuples = [(1, 2, 3), (4, 5, 6), (7, 8, 9)]\n",
    "flattened = [x for tup in some_tuples for x in tup]\n",
    "flattened"
   ]
  },
  {
   "cell_type": "code",
   "execution_count": 116,
   "id": "21c50f9b",
   "metadata": {
    "scrolled": true
   },
   "outputs": [
    {
     "name": "stdout",
     "output_type": "stream",
     "text": [
      "[1, 2, 3, 4, 5, 6, 7, 8, 9]\n",
      "[[1, 2, 3], [4, 5, 6], [7, 8, 9]]\n"
     ]
    }
   ],
   "source": [
    "print([x for tup in some_tuples for x in tup])\n",
    "print([[x for x in tup] for tup in some_tuples])"
   ]
  },
  {
   "cell_type": "markdown",
   "id": "e1796c26",
   "metadata": {},
   "source": [
    "### \n",
    "### 함수\n",
    "- ```def``` 예약어로 정의, ```return``` 에약어로 반환\n",
    "- ```return```문은 몇 개가 되든 상관없음. 함수 블록이 끝날 때까지 ```return```문이 없다면 None이 자동 반환\n",
    "- 하나의 함수에서 여러 개의 값을 반환 가능"
   ]
  },
  {
   "cell_type": "code",
   "execution_count": 119,
   "id": "72180855",
   "metadata": {},
   "outputs": [],
   "source": [
    "def my_function(x, y, z = 1.5) :\n",
    "    if z > 1 :\n",
    "        return z * (x + y)\n",
    "    else :\n",
    "        return z / (x + y)"
   ]
  },
  {
   "cell_type": "markdown",
   "id": "06b1f9e7",
   "metadata": {},
   "source": [
    "### 네임스페이스, 스코프, 지역함수\n",
    "- 지역변수 : 함수 호출시 생성, 함수 종료시 삭제"
   ]
  },
  {
   "cell_type": "code",
   "execution_count": 124,
   "id": "fc9d79d1",
   "metadata": {},
   "outputs": [],
   "source": [
    "def func(): \n",
    "    a = [] \n",
    "    for i in range(5): \n",
    "        a.append(i)"
   ]
  },
  {
   "cell_type": "code",
   "execution_count": 127,
   "id": "74c0fe8e",
   "metadata": {},
   "outputs": [
    {
     "data": {
      "text/plain": [
       "[]"
      ]
     },
     "execution_count": 127,
     "metadata": {},
     "output_type": "execute_result"
    }
   ],
   "source": [
    "func()\n",
    "a"
   ]
  },
  {
   "cell_type": "markdown",
   "id": "6b5746e2",
   "metadata": {},
   "source": [
    "- 전역변수"
   ]
  },
  {
   "cell_type": "code",
   "execution_count": 128,
   "id": "7469b4cc",
   "metadata": {},
   "outputs": [],
   "source": [
    "a = [] \n",
    "def func(): \n",
    "    for i in range(5): \n",
    "        a.append(i)"
   ]
  },
  {
   "cell_type": "code",
   "execution_count": 129,
   "id": "bf519893",
   "metadata": {},
   "outputs": [
    {
     "data": {
      "text/plain": [
       "[0, 1, 2, 3, 4]"
      ]
     },
     "execution_count": 129,
     "metadata": {},
     "output_type": "execute_result"
    }
   ],
   "source": [
    "func()\n",
    "a"
   ]
  },
  {
   "cell_type": "markdown",
   "id": "528e44b7",
   "metadata": {},
   "source": [
    "### \n",
    "### 익명 함수 (람다 함수) : 한 문장으로 이루어진 함수"
   ]
  },
  {
   "cell_type": "code",
   "execution_count": 130,
   "id": "f4f17eeb",
   "metadata": {},
   "outputs": [],
   "source": [
    "strings = ['foo', 'card', 'bar', 'aaaa', 'abab']"
   ]
  },
  {
   "cell_type": "code",
   "execution_count": 131,
   "id": "2480bb7a",
   "metadata": {},
   "outputs": [
    {
     "data": {
      "text/plain": [
       "['aaaa', 'foo', 'abab', 'bar', 'card']"
      ]
     },
     "execution_count": 131,
     "metadata": {},
     "output_type": "execute_result"
    }
   ],
   "source": [
    "strings.sort(key=lambda x: len(set(x)))\n",
    "strings"
   ]
  },
  {
   "cell_type": "markdown",
   "id": "a6d2300e",
   "metadata": {},
   "source": [
    "### \n",
    "### 커링 : 일부 인자만 취하기"
   ]
  },
  {
   "cell_type": "markdown",
   "id": "6108f763",
   "metadata": {},
   "source": [
    "- 두 개의 인자를 가지는 함수에서, 하나의 인자만 사용"
   ]
  },
  {
   "cell_type": "code",
   "execution_count": 133,
   "id": "2aea1212",
   "metadata": {},
   "outputs": [],
   "source": [
    "def add_numbers(x, y):\n",
    "     return x + y"
   ]
  },
  {
   "cell_type": "code",
   "execution_count": 140,
   "id": "d5466d5b",
   "metadata": {},
   "outputs": [
    {
     "data": {
      "text/plain": [
       "8"
      ]
     },
     "execution_count": 140,
     "metadata": {},
     "output_type": "execute_result"
    }
   ],
   "source": [
    "add_five = lambda y: add_numbers(5, y)\n",
    "add_five(3)"
   ]
  },
  {
   "cell_type": "markdown",
   "id": "5c0de2ff",
   "metadata": {},
   "source": [
    "- functools 모듈의 ```partial()``` 함수로 단순화"
   ]
  },
  {
   "cell_type": "code",
   "execution_count": 139,
   "id": "88ae5427",
   "metadata": {
    "scrolled": true
   },
   "outputs": [
    {
     "data": {
      "text/plain": [
       "8"
      ]
     },
     "execution_count": 139,
     "metadata": {},
     "output_type": "execute_result"
    }
   ],
   "source": [
    "from functools import partial\n",
    "add_five = partial(add_numbers, 5)\n",
    "add_five(3)"
   ]
  },
  {
   "cell_type": "markdown",
   "id": "3bc7f259",
   "metadata": {},
   "source": [
    "### \n",
    "### ```iter()``` : 이터레이터 객체 생성"
   ]
  },
  {
   "cell_type": "code",
   "execution_count": 142,
   "id": "eba0d6f7",
   "metadata": {},
   "outputs": [
    {
     "data": {
      "text/plain": [
       "<dict_keyiterator at 0x25c6cf31860>"
      ]
     },
     "execution_count": 142,
     "metadata": {},
     "output_type": "execute_result"
    }
   ],
   "source": [
    "dict_iterator = iter(some_dict)\n",
    "dict_iterator"
   ]
  },
  {
   "cell_type": "code",
   "execution_count": 143,
   "id": "ccf04aab",
   "metadata": {},
   "outputs": [
    {
     "data": {
      "text/plain": [
       "['a', 'b', 'c']"
      ]
     },
     "execution_count": 143,
     "metadata": {},
     "output_type": "execute_result"
    }
   ],
   "source": [
    "list(dict_iterator)"
   ]
  },
  {
   "cell_type": "markdown",
   "id": "9c09bb73",
   "metadata": {},
   "source": [
    "### \n",
    "### 제너레이터 : 순회 가능한 객체를 생성하는 방법\n",
    "- ```def```, ```yield```로 제너레이터 생성"
   ]
  },
  {
   "cell_type": "code",
   "execution_count": 147,
   "id": "6e5c88a8",
   "metadata": {},
   "outputs": [],
   "source": [
    "def squares(n=10):\n",
    "    print('Generating squares from 1 to {0}'.format(n ** 2))\n",
    "    for i in range(1, n + 1):\n",
    "        yield i ** 2"
   ]
  },
  {
   "cell_type": "markdown",
   "id": "ff32d2e8",
   "metadata": {},
   "source": [
    "- 제너레이터 객체 호출"
   ]
  },
  {
   "cell_type": "code",
   "execution_count": 148,
   "id": "a6875680",
   "metadata": {},
   "outputs": [
    {
     "data": {
      "text/plain": [
       "<generator object squares at 0x0000025C6CF49970>"
      ]
     },
     "execution_count": 148,
     "metadata": {},
     "output_type": "execute_result"
    }
   ],
   "source": [
    "gen = squares()\n",
    "gen"
   ]
  },
  {
   "cell_type": "markdown",
   "id": "79438d46",
   "metadata": {},
   "source": [
    "- 제너레이터로부터 값을 요청시, 제너레이터 코드 실행"
   ]
  },
  {
   "cell_type": "code",
   "execution_count": 149,
   "id": "1891380b",
   "metadata": {},
   "outputs": [
    {
     "name": "stdout",
     "output_type": "stream",
     "text": [
      "Generating squares from 1 to 100\n",
      "1 4 9 16 25 36 49 64 81 100 "
     ]
    }
   ],
   "source": [
    "for x in gen:\n",
    "    print(x, end = ' ')"
   ]
  },
  {
   "cell_type": "markdown",
   "id": "dc08f1b1",
   "metadata": {},
   "source": [
    "### 제너레이터 표현식"
   ]
  },
  {
   "cell_type": "code",
   "execution_count": 157,
   "id": "b8a46a20",
   "metadata": {},
   "outputs": [
    {
     "data": {
      "text/plain": [
       "<generator object <genexpr> at 0x0000025C6CF57350>"
      ]
     },
     "execution_count": 157,
     "metadata": {},
     "output_type": "execute_result"
    }
   ],
   "source": [
    "gen = (x ** 2 for x in range(100))\n",
    "gen"
   ]
  },
  {
   "cell_type": "code",
   "execution_count": 160,
   "id": "0da1b12f",
   "metadata": {},
   "outputs": [
    {
     "data": {
      "text/plain": [
       "328350"
      ]
     },
     "execution_count": 160,
     "metadata": {},
     "output_type": "execute_result"
    }
   ],
   "source": [
    "sum(x ** 2 for x in range(100))"
   ]
  },
  {
   "cell_type": "code",
   "execution_count": 163,
   "id": "875933eb",
   "metadata": {},
   "outputs": [
    {
     "data": {
      "text/plain": [
       "{0: 0, 1: 1, 2: 4, 3: 9, 4: 16}"
      ]
     },
     "execution_count": 163,
     "metadata": {},
     "output_type": "execute_result"
    }
   ],
   "source": [
    "dict((i, i **2) for i in range(5))"
   ]
  },
  {
   "cell_type": "markdown",
   "id": "6f900640",
   "metadata": {},
   "source": [
    "### itertools 모듈 : 일반 데이터 알고리즘을 위한 제너레이터 포함\n",
    "| 함수 | 설명 |\n",
    "| -- | -- |\n",
    "| combinations(iterable, k) | iterable에서 순서를 고려하지 않고 길이가 k인 모든 가능한 조합을 생성 |\n",
    "| permutations(iterable, k) | iterable에서 순서를 고려하여 k인 모든 가능한 조합 생성 |\n",
    "| groupby(iterable[, keyfunc]) | iterable에서 각각의 고유한 키에 따라 그룹을 생성 |\n",
    "| product(\\*iterables, repeat = 1) | iterable에서 카테시안 곱을 구한다. 중첩된 for문 사용과 유사 |"
   ]
  },
  {
   "cell_type": "code",
   "execution_count": 165,
   "id": "224dcfc1",
   "metadata": {},
   "outputs": [
    {
     "name": "stdout",
     "output_type": "stream",
     "text": [
      "A ['Alan', 'Adam']\n",
      "W ['Wes', 'Will']\n",
      "A ['Albert']\n",
      "S ['Steven']\n"
     ]
    }
   ],
   "source": [
    "import itertools\n",
    "first_letter = lambda x: x[0]\n",
    "names = ['Alan', 'Adam', 'Wes', 'Will', 'Albert', 'Steven']\n",
    "for letter, names in itertools.groupby(names, first_letter):\n",
    "    print(letter, list(names)) # names is a generator"
   ]
  },
  {
   "cell_type": "markdown",
   "id": "c3262afb",
   "metadata": {},
   "source": [
    "### \n",
    "### 파일과 운영체제"
   ]
  },
  {
   "cell_type": "code",
   "execution_count": 170,
   "id": "6aa5c1b3",
   "metadata": {},
   "outputs": [
    {
     "name": "stdout",
     "output_type": "stream",
     "text": [
      "C:\\Users\\이찬솔\\Documents\\Python_for_Data_Analysis\n"
     ]
    }
   ],
   "source": [
    "import os\n",
    "print(os.getcwd())"
   ]
  },
  {
   "cell_type": "markdown",
   "id": "e28eecf2",
   "metadata": {},
   "source": [
    "### ```open(path)``` ~ ```.close()```\n",
    "### ```open(path, 모드)```\n",
    "\n",
    "- 파일 모드\n",
    "\n",
    "| 모드 | 설명 |\n",
    "| -- | -- |\n",
    "| r | 읽기 전용 모드 |\n",
    "| w | 쓰기 전용 모드, 새로운 파일을 생성 (동명의 파일 존재시 덮어쓰기) |\n",
    "| x | 쓰기 전용 모드, 새로운 파일을 생성 (동명의 파일 존재시 실패) |\n",
    "| a | 기존 파일에 추가 (파일이 존재하지 않을 경우, 새로 생성) |\n",
    "| r+ | 읽기/쓰기 모드 |\n",
    "| b | 이진 파일 모드, 읽기/쓰기 모드에 추가해서 'rb' 또는 wb'처럼 사용 |\n",
    "| t | 텍스트 모드, default, 다른 모드에 추가해서 'rt' 또는 'xt'처럼 사용 |"
   ]
  },
  {
   "cell_type": "code",
   "execution_count": 173,
   "id": "bc4a238b",
   "metadata": {},
   "outputs": [],
   "source": [
    "path = 'C:/Users/이찬솔/Documents/Python_for_Data_Analysis/examples/segismundo.txt'\n",
    "f = open(path)"
   ]
  },
  {
   "cell_type": "code",
   "execution_count": 174,
   "id": "75948425",
   "metadata": {},
   "outputs": [],
   "source": [
    "lines = [x.rstrip() for x in open(path)]"
   ]
  },
  {
   "cell_type": "code",
   "execution_count": 175,
   "id": "85339df8",
   "metadata": {},
   "outputs": [
    {
     "data": {
      "text/plain": [
       "['Sue챰a el rico en su riqueza,',\n",
       " 'que m찼s cuidados le ofrece;',\n",
       " '',\n",
       " 'sue챰a el pobre que padece',\n",
       " 'su miseria y su pobreza;',\n",
       " '',\n",
       " 'sue챰a el que a medrar empieza,',\n",
       " 'sue챰a el que afana y pretende,',\n",
       " 'sue챰a el que agravia y ofende,',\n",
       " '',\n",
       " 'y en el mundo, en conclusi처n,',\n",
       " 'todos sue챰an lo que son,',\n",
       " 'aunque ninguno lo entiende.',\n",
       " '']"
      ]
     },
     "execution_count": 175,
     "metadata": {},
     "output_type": "execute_result"
    }
   ],
   "source": [
    "lines"
   ]
  },
  {
   "cell_type": "code",
   "execution_count": 176,
   "id": "c08929c6",
   "metadata": {},
   "outputs": [],
   "source": [
    "f.close()"
   ]
  },
  {
   "cell_type": "markdown",
   "id": "af8d1898",
   "metadata": {},
   "source": [
    "- ```with```문을 사용"
   ]
  },
  {
   "cell_type": "code",
   "execution_count": 177,
   "id": "705923aa",
   "metadata": {},
   "outputs": [],
   "source": [
    "with open(path) as f:\n",
    "    lines = [x.rstrip() for x in f]"
   ]
  },
  {
   "cell_type": "markdown",
   "id": "a0eeafb6",
   "metadata": {},
   "source": [
    "### 주요 file 메서드와 속성\n",
    "\n",
    "| 메서드 | 설명 |\n",
    "| -- | -- |\n",
    "| .read(size) | 파일에서 데이터를 읽어서 문자열로 변환. size 인자를 사용해서 몇 바이트를 읽을 것인지 지정할 수 있다. |\n",
    "| .readlines(size) | 파일의 매 줄을 모두 읽어 리스트로 반환. size 인자를 사용해서 얼마나 읽을 것인지 지정 |\n",
    "| .write(str) | 전달받은 문자열을 파일에 기록 |\n",
    "| .writelines(strings) | 전달받은 일련의 문자열을 파일에 기록 |\n",
    "| .close() | 파일 핸들을 닫는다 |\n",
    "| .flush() | 내부 I/O 버퍼를 디스크로 비움 |\n",
    "| .seek(pos) | 파일 내에서 지정한 위치(pos)로 이동 |\n",
    "| .tell() | 현재 파일의 위치를 정수 형태로 반환 |\n",
    "| .closed | 파일 핸들이 닫힌 경우 True를 반환 |"
   ]
  },
  {
   "cell_type": "markdown",
   "id": "c46bb359",
   "metadata": {},
   "source": [
    "### ```.read(byte)``` : 파일을 byte만큼 읽기"
   ]
  },
  {
   "cell_type": "code",
   "execution_count": 191,
   "id": "eac9b24a",
   "metadata": {},
   "outputs": [
    {
     "data": {
      "text/plain": [
       "'Sue챰a el r'"
      ]
     },
     "execution_count": 191,
     "metadata": {},
     "output_type": "execute_result"
    }
   ],
   "source": [
    "f = open(path)\n",
    "f.read(10) # 파일의 10바이트만 읽음"
   ]
  },
  {
   "cell_type": "markdown",
   "id": "fdbe03cd",
   "metadata": {},
   "source": [
    "- 모드 사용"
   ]
  },
  {
   "cell_type": "code",
   "execution_count": 190,
   "id": "d62d40db",
   "metadata": {},
   "outputs": [
    {
     "data": {
      "text/plain": [
       "b'Sue\\xc3\\xb1a el '"
      ]
     },
     "execution_count": 190,
     "metadata": {},
     "output_type": "execute_result"
    }
   ],
   "source": [
    "f2 = open(path, 'rb') # 이진 모드\n",
    "f2.read(10)"
   ]
  },
  {
   "cell_type": "markdown",
   "id": "7ed40e3d",
   "metadata": {},
   "source": [
    "### ```.tell()``` : 현재 위치를 알려줌"
   ]
  },
  {
   "cell_type": "markdown",
   "id": "c7030c6e",
   "metadata": {},
   "source": [
    "- 10개의 문자를 읽었어도 위치가 11인 이유는 기본 인코딩에서 10개의 문자를 디코딩하기 위해 그 만큼의 바이트가 필요했기 대문"
   ]
  },
  {
   "cell_type": "code",
   "execution_count": 186,
   "id": "542ce091",
   "metadata": {},
   "outputs": [
    {
     "name": "stdout",
     "output_type": "stream",
     "text": [
      "11\n"
     ]
    }
   ],
   "source": [
    "print(f.tell()) "
   ]
  },
  {
   "cell_type": "markdown",
   "id": "58f3e1c9",
   "metadata": {},
   "source": [
    "### ```.seek()``` : 파일 핸들의 위치를 해당 파일에서 지정한 바이트 위치로 옮김"
   ]
  },
  {
   "cell_type": "code",
   "execution_count": 188,
   "id": "f255307f",
   "metadata": {},
   "outputs": [
    {
     "data": {
      "text/plain": [
       "3"
      ]
     },
     "execution_count": 188,
     "metadata": {},
     "output_type": "execute_result"
    }
   ],
   "source": [
    "f.seek(3)"
   ]
  },
  {
   "cell_type": "code",
   "execution_count": 192,
   "id": "cea25a28",
   "metadata": {},
   "outputs": [
    {
     "data": {
      "text/plain": [
       "'i'"
      ]
     },
     "execution_count": 192,
     "metadata": {},
     "output_type": "execute_result"
    }
   ],
   "source": [
    "f.read(1)"
   ]
  },
  {
   "cell_type": "code",
   "execution_count": 194,
   "id": "170ce79e",
   "metadata": {},
   "outputs": [],
   "source": [
    "f.close()\n",
    "f2.close()"
   ]
  },
  {
   "cell_type": "markdown",
   "id": "80451c27",
   "metadata": {},
   "source": [
    "### ```sys.getdefaultencoding()``` : 인코딩 형식 확인"
   ]
  },
  {
   "cell_type": "code",
   "execution_count": 187,
   "id": "da130182",
   "metadata": {},
   "outputs": [
    {
     "data": {
      "text/plain": [
       "'utf-8'"
      ]
     },
     "execution_count": 187,
     "metadata": {},
     "output_type": "execute_result"
    }
   ],
   "source": [
    "import sys\n",
    "sys.getdefaultencoding()"
   ]
  },
  {
   "cell_type": "markdown",
   "id": "3bb8507b",
   "metadata": {},
   "source": [
    "### ```.write()```, ```.writelines()``` : 파일에 텍스트 기록"
   ]
  },
  {
   "cell_type": "code",
   "execution_count": 199,
   "id": "981be56f",
   "metadata": {},
   "outputs": [],
   "source": [
    "os.getcwd()\n",
    "os.chdir('/' + os.path.join('Users', '이찬솔', 'Documents', 'Python_for_Data_Analysis', 'examples'))"
   ]
  },
  {
   "cell_type": "code",
   "execution_count": 201,
   "id": "4d055976",
   "metadata": {},
   "outputs": [],
   "source": [
    "with open('tmp.txt', 'w') as handle:\n",
    "     handle.writelines(x for x in open(path) if len(x) > 1)"
   ]
  },
  {
   "cell_type": "code",
   "execution_count": 202,
   "id": "8d1dcf53",
   "metadata": {},
   "outputs": [],
   "source": [
    "with open('tmp.txt') as f:\n",
    "     lines = f.readlines()"
   ]
  },
  {
   "cell_type": "code",
   "execution_count": 203,
   "id": "0b7459c7",
   "metadata": {
    "scrolled": true
   },
   "outputs": [
    {
     "data": {
      "text/plain": [
       "['Sue챰a el rico en su riqueza,\\n',\n",
       " 'que m찼s cuidados le ofrece;\\n',\n",
       " 'sue챰a el pobre que padece\\n',\n",
       " 'su miseria y su pobreza;\\n',\n",
       " 'sue챰a el que a medrar empieza,\\n',\n",
       " 'sue챰a el que afana y pretende,\\n',\n",
       " 'sue챰a el que agravia y ofende,\\n',\n",
       " 'y en el mundo, en conclusi처n,\\n',\n",
       " 'todos sue챰an lo que son,\\n',\n",
       " 'aunque ninguno lo entiende.\\n']"
      ]
     },
     "execution_count": 203,
     "metadata": {},
     "output_type": "execute_result"
    }
   ],
   "source": [
    "lines"
   ]
  },
  {
   "cell_type": "markdown",
   "id": "b4b56160",
   "metadata": {},
   "source": [
    "### 바이트와 유니코드"
   ]
  },
  {
   "cell_type": "code",
   "execution_count": 205,
   "id": "3d4451fa",
   "metadata": {},
   "outputs": [
    {
     "data": {
      "text/plain": [
       "'Sue챰a el r'"
      ]
     },
     "execution_count": 205,
     "metadata": {},
     "output_type": "execute_result"
    }
   ],
   "source": [
    "with open(path) as f:\n",
    "    chars = f.read(10)\n",
    "chars"
   ]
  },
  {
   "cell_type": "code",
   "execution_count": 206,
   "id": "8915ebd9",
   "metadata": {},
   "outputs": [
    {
     "data": {
      "text/plain": [
       "b'Sue\\xc3\\xb1a el '"
      ]
     },
     "execution_count": 206,
     "metadata": {},
     "output_type": "execute_result"
    }
   ],
   "source": [
    "with open(path, 'rb') as f:\n",
    "    data = f.read(10)\n",
    "data"
   ]
  },
  {
   "cell_type": "markdown",
   "id": "553ffa41",
   "metadata": {},
   "source": [
    "### ```.decode(형태)``` : 직접 디코딩 형태 지정 "
   ]
  },
  {
   "cell_type": "code",
   "execution_count": 207,
   "id": "bc11f62e",
   "metadata": {
    "scrolled": true
   },
   "outputs": [
    {
     "data": {
      "text/plain": [
       "'Sueña el '"
      ]
     },
     "execution_count": 207,
     "metadata": {},
     "output_type": "execute_result"
    }
   ],
   "source": [
    "data.decode('utf8')"
   ]
  },
  {
   "cell_type": "markdown",
   "id": "fc66b042",
   "metadata": {},
   "source": [
    "- 이진 모드가 아닐 경우에는 열린 파일에 대해 ```.seek``` 메서드를 호출할 대 주의해야 한다."
   ]
  },
  {
   "cell_type": "code",
   "execution_count": 216,
   "id": "d0f7681c",
   "metadata": {},
   "outputs": [],
   "source": [
    "f.close()"
   ]
  }
 ],
 "metadata": {
  "kernelspec": {
   "display_name": "Python 3 (ipykernel)",
   "language": "python",
   "name": "python3"
  },
  "language_info": {
   "codemirror_mode": {
    "name": "ipython",
    "version": 3
   },
   "file_extension": ".py",
   "mimetype": "text/x-python",
   "name": "python",
   "nbconvert_exporter": "python",
   "pygments_lexer": "ipython3",
   "version": "3.9.7"
  }
 },
 "nbformat": 4,
 "nbformat_minor": 5
}
