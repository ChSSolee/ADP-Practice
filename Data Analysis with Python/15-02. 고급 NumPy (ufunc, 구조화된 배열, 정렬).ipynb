{
 "cells": [
  {
   "cell_type": "markdown",
   "id": "88355097",
   "metadata": {},
   "source": [
    "### 고급 ufunc 사용\n",
    "\n",
    "|  |  |\n",
    "| -- | -- |\n",
    "| reduce(x) | 연산의 연속된 적용으로 값을 집계 |\n",
    "| accumulate(x) | 모든 부분적 집계값을 유지한 채 값을 집계 |\n",
    "| reduceat(x, bins) | 로컬 reduce 또는 groupby. 연속된 데이터 슬라이스를 집계된 배열로 축소 |\n",
    "| outer(x, y) | x와 y의 모든 원소 조합에 대해 연산 적용. 결과 배열은 x.shape + y.shape의 차원을 가짐 |"
   ]
  },
  {
   "cell_type": "code",
   "execution_count": 1,
   "id": "e525796f",
   "metadata": {},
   "outputs": [],
   "source": [
    "import numpy as np"
   ]
  },
  {
   "cell_type": "markdown",
   "id": "86080058",
   "metadata": {},
   "source": [
    "#### ```np.add.reduce(arr)``` : 배열의 모든 원소를 더함"
   ]
  },
  {
   "cell_type": "code",
   "execution_count": 4,
   "id": "bfffae37",
   "metadata": {},
   "outputs": [
    {
     "data": {
      "text/plain": [
       "(45, 45)"
      ]
     },
     "execution_count": 4,
     "metadata": {},
     "output_type": "execute_result"
    }
   ],
   "source": [
    "arr = np.arange(10)\n",
    "np.add.reduce(arr), arr.sum()"
   ]
  },
  {
   "cell_type": "code",
   "execution_count": 5,
   "id": "d477eb37",
   "metadata": {},
   "outputs": [],
   "source": [
    "np.random.seed(12346)\n",
    "arr = np.random.randn(5, 5)"
   ]
  },
  {
   "cell_type": "code",
   "execution_count": 6,
   "id": "0b75bdf8",
   "metadata": {},
   "outputs": [],
   "source": [
    "arr[::2].sort(1)"
   ]
  },
  {
   "cell_type": "code",
   "execution_count": 7,
   "id": "98904b07",
   "metadata": {},
   "outputs": [
    {
     "data": {
      "text/plain": [
       "array([[ True,  True,  True,  True],\n",
       "       [False,  True, False, False],\n",
       "       [ True,  True,  True,  True],\n",
       "       [ True, False,  True,  True],\n",
       "       [ True,  True,  True,  True]])"
      ]
     },
     "execution_count": 7,
     "metadata": {},
     "output_type": "execute_result"
    }
   ],
   "source": [
    "arr[:, :-1] < arr[:, 1:]"
   ]
  },
  {
   "cell_type": "markdown",
   "id": "1d6874ea",
   "metadata": {},
   "source": [
    "#### ```np.logical_and.reduce()``` : 배열의 각 행에 있는 값이 정렬된 상태인지 검사. ```.all()```메서드와 동일"
   ]
  },
  {
   "cell_type": "code",
   "execution_count": null,
   "id": "6c530d78",
   "metadata": {},
   "outputs": [],
   "source": [
    "np.logical_and.reduce(arr[:, :-1] < arr[:, 1:], axis = 1)"
   ]
  },
  {
   "cell_type": "markdown",
   "id": "2658dd43",
   "metadata": {},
   "source": [
    "#### ```np.add.accumulate()``` : 누계를 담고 있는 같은 크기의 배열을 생성"
   ]
  },
  {
   "cell_type": "code",
   "execution_count": 8,
   "id": "ddfd6244",
   "metadata": {},
   "outputs": [
    {
     "data": {
      "text/plain": [
       "array([[ 0,  1,  3,  6, 10],\n",
       "       [ 5, 11, 18, 26, 35],\n",
       "       [10, 21, 33, 46, 60]])"
      ]
     },
     "execution_count": 8,
     "metadata": {},
     "output_type": "execute_result"
    }
   ],
   "source": [
    "arr = np.arange(15).reshape((3, 5))\n",
    "np.add.accumulate(arr, axis = 1)"
   ]
  },
  {
   "cell_type": "markdown",
   "id": "96131eb1",
   "metadata": {},
   "source": [
    "#### ```np.multiply.outer()``` : 두 배열 간의 벡터곱 (외적)을 계산"
   ]
  },
  {
   "cell_type": "code",
   "execution_count": 10,
   "id": "2534ab81",
   "metadata": {},
   "outputs": [
    {
     "data": {
      "text/plain": [
       "(array([0, 1, 1, 2, 2]),\n",
       " array([[0, 0, 0, 0, 0],\n",
       "        [0, 1, 2, 3, 4],\n",
       "        [0, 1, 2, 3, 4],\n",
       "        [0, 2, 4, 6, 8],\n",
       "        [0, 2, 4, 6, 8]]))"
      ]
     },
     "execution_count": 10,
     "metadata": {},
     "output_type": "execute_result"
    }
   ],
   "source": [
    "arr = np.arange(3).repeat([1, 2, 2])\n",
    "arr, np.multiply.outer(arr, np.arange(5))"
   ]
  },
  {
   "cell_type": "code",
   "execution_count": 11,
   "id": "2a839c9b",
   "metadata": {},
   "outputs": [
    {
     "data": {
      "text/plain": [
       "(3, 4, 5)"
      ]
     },
     "execution_count": 11,
     "metadata": {},
     "output_type": "execute_result"
    }
   ],
   "source": [
    "x, y = np.random.randn(3, 4), np.random.randn(5)\n",
    "result = np.subtract.outer(x, y)\n",
    "result.shape"
   ]
  },
  {
   "cell_type": "markdown",
   "id": "78ba3452",
   "metadata": {},
   "source": [
    "#### ```np.add.reduceat()``` : groupby 연산으로 배열의 슬라잉스를 모두 집계"
   ]
  },
  {
   "cell_type": "code",
   "execution_count": 12,
   "id": "c142167f",
   "metadata": {},
   "outputs": [
    {
     "data": {
      "text/plain": [
       "array([10, 18, 17])"
      ]
     },
     "execution_count": 12,
     "metadata": {},
     "output_type": "execute_result"
    }
   ],
   "source": [
    "arr = np.arange(10)\n",
    "np.add.reduceat(arr, [0, 5, 8])"
   ]
  },
  {
   "cell_type": "code",
   "execution_count": 16,
   "id": "97e21be8",
   "metadata": {},
   "outputs": [
    {
     "data": {
      "text/plain": [
       "(array([[ 0,  0,  0,  0,  0],\n",
       "        [ 0,  1,  2,  3,  4],\n",
       "        [ 0,  2,  4,  6,  8],\n",
       "        [ 0,  3,  6,  9, 12]]),\n",
       " array([[ 0,  0,  0],\n",
       "        [ 1,  5,  4],\n",
       "        [ 2, 10,  8],\n",
       "        [ 3, 15, 12]]))"
      ]
     },
     "execution_count": 16,
     "metadata": {},
     "output_type": "execute_result"
    }
   ],
   "source": [
    "arr = np.multiply.outer(np.arange(4), np.arange(5))\n",
    "arr, np.add.reduceat(arr, [0, 2, 4], axis = 1)"
   ]
  },
  {
   "cell_type": "markdown",
   "id": "12fb0fbb",
   "metadata": {},
   "source": [
    "### \n",
    "### 사용자 정의 ufunc 작성"
   ]
  },
  {
   "cell_type": "markdown",
   "id": "cbabd19e",
   "metadata": {},
   "source": [
    "### ```np.frompyfunc()``` : 입력과 출력에 대한 표준과 함께 파이썬 함수를 인자로 취함"
   ]
  },
  {
   "cell_type": "markdown",
   "id": "22478764",
   "metadata": {},
   "source": [
    "- 원소별로 합을 구하는 함수"
   ]
  },
  {
   "cell_type": "code",
   "execution_count": 19,
   "id": "0584c3fb",
   "metadata": {},
   "outputs": [
    {
     "data": {
      "text/plain": [
       "array([0, 2, 4, 6, 8, 10, 12, 14], dtype=object)"
      ]
     },
     "execution_count": 19,
     "metadata": {},
     "output_type": "execute_result"
    }
   ],
   "source": [
    "def add_elements(x, y):\n",
    "    return x + y\n",
    "\n",
    "add_them = np.frompyfunc(add_elements, 2, 1)\n",
    "add_them(np.arange(8), np.arange(8))"
   ]
  },
  {
   "cell_type": "markdown",
   "id": "94576010",
   "metadata": {},
   "source": [
    "### ```np.vectorize()``` : 반환할 결과의 자료형을 지정 가능"
   ]
  },
  {
   "cell_type": "code",
   "execution_count": 20,
   "id": "b39dc8d2",
   "metadata": {},
   "outputs": [
    {
     "data": {
      "text/plain": [
       "array([ 0.,  2.,  4.,  6.,  8., 10., 12., 14.])"
      ]
     },
     "execution_count": 20,
     "metadata": {},
     "output_type": "execute_result"
    }
   ],
   "source": [
    "add_them = np.vectorize(add_elements, otypes = [np.float64])\n",
    "add_them(np.arange(8), np.arange(8))"
   ]
  },
  {
   "cell_type": "markdown",
   "id": "e777c650",
   "metadata": {},
   "source": [
    "### \n",
    "### 구조화된 배열과 레코드 배열\n",
    "- 구조화된 배열 : 배열의 각 원소가 C의 구조체 혹은 다양한 이름의 필드를 갖는 SQL 테이블의 한 행으로 표현되는 것으로 생각할 수 있는 ndarray"
   ]
  },
  {
   "cell_type": "code",
   "execution_count": 23,
   "id": "22837fb6",
   "metadata": {},
   "outputs": [
    {
     "data": {
      "text/plain": [
       "array([(1.5       ,  6), (3.14159265, -2)],\n",
       "      dtype=[('x', '<f8'), ('y', '<i4')])"
      ]
     },
     "execution_count": 23,
     "metadata": {},
     "output_type": "execute_result"
    }
   ],
   "source": [
    "dtype = [('x', np.float64), \n",
    "         ('y', np.int32)]\n",
    "sarr = np.array([(1.5, 6), (np.pi, -2)], dtype = dtype)\n",
    "sarr"
   ]
  },
  {
   "cell_type": "code",
   "execution_count": 28,
   "id": "268dde20",
   "metadata": {},
   "outputs": [
    {
     "name": "stdout",
     "output_type": "stream",
     "text": [
      "(1.5, 6)\n",
      "6\n"
     ]
    }
   ],
   "source": [
    "print(sarr[0])\n",
    "print(sarr[0]['y'])"
   ]
  },
  {
   "cell_type": "code",
   "execution_count": 25,
   "id": "2355dfdb",
   "metadata": {},
   "outputs": [
    {
     "data": {
      "text/plain": [
       "array([1.5       , 3.14159265])"
      ]
     },
     "execution_count": 25,
     "metadata": {},
     "output_type": "execute_result"
    }
   ],
   "source": [
    "sarr['x']"
   ]
  },
  {
   "cell_type": "markdown",
   "id": "3e7e7a14",
   "metadata": {},
   "source": [
    "### \n",
    "### 중첩된 dtype과 다차원 필드"
   ]
  },
  {
   "cell_type": "code",
   "execution_count": 29,
   "id": "cda2d04f",
   "metadata": {},
   "outputs": [
    {
     "data": {
      "text/plain": [
       "array([([0, 0, 0], 0), ([0, 0, 0], 0), ([0, 0, 0], 0), ([0, 0, 0], 0)],\n",
       "      dtype=[('x', '<i8', (3,)), ('y', '<i4')])"
      ]
     },
     "execution_count": 29,
     "metadata": {},
     "output_type": "execute_result"
    }
   ],
   "source": [
    "dtype = [('x', np.int64, 3), \n",
    "         ('y', np.int32)]\n",
    "arr = np.zeros(4, dtype = dtype)\n",
    "arr"
   ]
  },
  {
   "cell_type": "code",
   "execution_count": 30,
   "id": "fa65e4db",
   "metadata": {},
   "outputs": [
    {
     "data": {
      "text/plain": [
       "array([0, 0, 0], dtype=int64)"
      ]
     },
     "execution_count": 30,
     "metadata": {},
     "output_type": "execute_result"
    }
   ],
   "source": [
    "arr[0]['x']"
   ]
  },
  {
   "cell_type": "code",
   "execution_count": 31,
   "id": "09306d94",
   "metadata": {},
   "outputs": [
    {
     "data": {
      "text/plain": [
       "array([[0, 0, 0],\n",
       "       [0, 0, 0],\n",
       "       [0, 0, 0],\n",
       "       [0, 0, 0]], dtype=int64)"
      ]
     },
     "execution_count": 31,
     "metadata": {},
     "output_type": "execute_result"
    }
   ],
   "source": [
    "arr['x']"
   ]
  },
  {
   "cell_type": "markdown",
   "id": "7cb7cfc2",
   "metadata": {},
   "source": [
    "- 복잡한 중첩 구조를 하나의 배열 안에서 단일 메모리로 표현\n",
    "- **중첩된 dtype**"
   ]
  },
  {
   "cell_type": "code",
   "execution_count": 32,
   "id": "c9e4d4c8",
   "metadata": {},
   "outputs": [
    {
     "data": {
      "text/plain": [
       "array([(1., 2.), (3., 4.)], dtype=[('a', '<f8'), ('b', '<f4')])"
      ]
     },
     "execution_count": 32,
     "metadata": {},
     "output_type": "execute_result"
    }
   ],
   "source": [
    "dtype = [('x', [('a', 'f8'), ('b', 'f4')]), \n",
    "         ('y', np.int32)]\n",
    "data = np.array([((1, 2), 5), ((3, 4), 6)], dtype = dtype)\n",
    "data['x']"
   ]
  },
  {
   "cell_type": "code",
   "execution_count": 34,
   "id": "c90861ca",
   "metadata": {},
   "outputs": [
    {
     "data": {
      "text/plain": [
       "array([5, 6])"
      ]
     },
     "execution_count": 34,
     "metadata": {},
     "output_type": "execute_result"
    }
   ],
   "source": [
    "data['y']"
   ]
  },
  {
   "cell_type": "code",
   "execution_count": 35,
   "id": "ab4e1760",
   "metadata": {},
   "outputs": [
    {
     "data": {
      "text/plain": [
       "array([1., 3.])"
      ]
     },
     "execution_count": 35,
     "metadata": {},
     "output_type": "execute_result"
    }
   ],
   "source": [
    "data['x']['a']"
   ]
  },
  {
   "cell_type": "markdown",
   "id": "fcc5f9b5",
   "metadata": {},
   "source": [
    "### \n",
    "### 정렬"
   ]
  },
  {
   "cell_type": "markdown",
   "id": "221e87ce",
   "metadata": {},
   "source": [
    "### ```.sort()```"
   ]
  },
  {
   "cell_type": "code",
   "execution_count": 36,
   "id": "29639fb6",
   "metadata": {},
   "outputs": [
    {
     "data": {
      "text/plain": [
       "array([-1.08199644,  0.37588273,  0.80139193,  1.13969136,  1.28881614,\n",
       "        1.84126094])"
      ]
     },
     "execution_count": 36,
     "metadata": {},
     "output_type": "execute_result"
    }
   ],
   "source": [
    "arr = np.random.randn(6)\n",
    "arr.sort()\n",
    "arr"
   ]
  },
  {
   "cell_type": "markdown",
   "id": "a1cd4f63",
   "metadata": {},
   "source": [
    "- 첫 번째 열의 값을 정렬"
   ]
  },
  {
   "cell_type": "code",
   "execution_count": 37,
   "id": "81606b48",
   "metadata": {},
   "outputs": [
    {
     "data": {
      "text/plain": [
       "array([[-0.33176812, -1.47108206,  0.87050269, -0.08468875, -1.13286962],\n",
       "       [-1.01114869, -0.34357617,  2.17140268,  0.12337075, -0.01893118],\n",
       "       [ 0.17731791,  0.7423957 ,  0.85475634,  1.03797268, -0.32899594]])"
      ]
     },
     "execution_count": 37,
     "metadata": {},
     "output_type": "execute_result"
    }
   ],
   "source": [
    "arr = np.random.randn(3, 5)\n",
    "# arr[:, 0].sort() \n",
    "arr"
   ]
  },
  {
   "cell_type": "markdown",
   "id": "97e5c37c",
   "metadata": {},
   "source": [
    "### ```np.sort()``` : 정렬된 배열의 복사본 생성"
   ]
  },
  {
   "cell_type": "code",
   "execution_count": 46,
   "id": "2e98a142",
   "metadata": {},
   "outputs": [
    {
     "data": {
      "text/plain": [
       "(array([-0.36360302, -0.13775933,  2.17773731, -0.47280687,  0.8356152 ]),\n",
       " array([-0.47280687, -0.36360302, -0.13775933,  0.8356152 ,  2.17773731]))"
      ]
     },
     "execution_count": 46,
     "metadata": {},
     "output_type": "execute_result"
    }
   ],
   "source": [
    "arr = np.random.randn(5)\n",
    "arr, np.sort(arr)"
   ]
  },
  {
   "cell_type": "code",
   "execution_count": 50,
   "id": "e3258057",
   "metadata": {},
   "outputs": [
    {
     "data": {
      "text/plain": [
       "array([[ 0.42201554,  0.11865768,  1.13518793,  1.43627776, -1.24869674],\n",
       "       [ 0.19093913, -1.0984421 ,  0.78863313, -0.58272508,  1.15921734],\n",
       "       [-1.71926946,  0.38535846, -2.01525772, -1.60990436, -1.20974317]])"
      ]
     },
     "execution_count": 50,
     "metadata": {},
     "output_type": "execute_result"
    }
   ],
   "source": [
    "arr = np.random.randn(3, 5)\n",
    "arr"
   ]
  },
  {
   "cell_type": "code",
   "execution_count": 52,
   "id": "a1cb62a3",
   "metadata": {},
   "outputs": [
    {
     "data": {
      "text/plain": [
       "array([[-1.24869674,  0.11865768,  0.42201554,  1.13518793,  1.43627776],\n",
       "       [-1.0984421 , -0.58272508,  0.19093913,  0.78863313,  1.15921734],\n",
       "       [-2.01525772, -1.71926946, -1.60990436, -1.20974317,  0.38535846]])"
      ]
     },
     "execution_count": 52,
     "metadata": {},
     "output_type": "execute_result"
    }
   ],
   "source": [
    "arr.sort(axis = 1)\n",
    "arr"
   ]
  },
  {
   "cell_type": "code",
   "execution_count": 43,
   "id": "5d1a1eac",
   "metadata": {},
   "outputs": [
    {
     "data": {
      "text/plain": [
       "array([[ 1.33885804,  0.91108374,  0.59545348, -0.18715572, -0.26822958],\n",
       "       [ 1.19251887,  1.00543901, -0.19893404, -0.32150045, -0.51683937],\n",
       "       [ 0.60709023,  0.39691349, -0.21707838, -0.22215536, -1.76381537]])"
      ]
     },
     "execution_count": 43,
     "metadata": {},
     "output_type": "execute_result"
    }
   ],
   "source": [
    "arr[:, ::-1]"
   ]
  },
  {
   "cell_type": "markdown",
   "id": "bb25c474",
   "metadata": {},
   "source": [
    "### \n",
    "### 간접 정렬 : argsort, lexsort\n",
    "- 하나 이상의 키를 기준으로 데이터를 정렬"
   ]
  },
  {
   "cell_type": "markdown",
   "id": "4b0a9a64",
   "metadata": {},
   "source": [
    "### ```.argsort()``` : 주어진 단일 키 혹은 여러 키 (배열이나 여러 개의 값)로 데이터 정렬시, 어떤 순서로 나열해야 하는지 알려주는 정수 인덱스 배열 반환\n",
    "### ```.lexsort()``` : argsort와 유사하지만 다중 키 배열에 대해 간점 사전순 정렬 수행"
   ]
  },
  {
   "cell_type": "code",
   "execution_count": 56,
   "id": "0f23cadc",
   "metadata": {},
   "outputs": [
    {
     "data": {
      "text/plain": [
       "(array([1, 2, 4, 3, 0], dtype=int64), array([0, 1, 2, 3, 5]))"
      ]
     },
     "execution_count": 56,
     "metadata": {},
     "output_type": "execute_result"
    }
   ],
   "source": [
    "values = np.array([5, 0, 1, 3, 2])\n",
    "indexer = values.argsort()\n",
    "indexer, values[indexer]"
   ]
  },
  {
   "cell_type": "code",
   "execution_count": 57,
   "id": "8736a8e5",
   "metadata": {},
   "outputs": [
    {
     "data": {
      "text/plain": [
       "(array([[ 5.        ,  0.        ,  1.        ,  3.        ,  2.        ],\n",
       "        [ 0.78439331,  0.99262902, -0.48061085,  0.52089072, -0.8444945 ],\n",
       "        [-1.40635117,  1.5642717 ,  0.17802672, -1.33879053,  1.3941583 ]]),\n",
       " array([[ 0.        ,  1.        ,  2.        ,  3.        ,  5.        ],\n",
       "        [ 0.99262902, -0.48061085, -0.8444945 ,  0.52089072,  0.78439331],\n",
       "        [ 1.5642717 ,  0.17802672,  1.3941583 , -1.33879053, -1.40635117]]))"
      ]
     },
     "execution_count": 57,
     "metadata": {},
     "output_type": "execute_result"
    }
   ],
   "source": [
    "arr = np.random.randn(3, 5)\n",
    "arr[0] = values\n",
    "arr, arr[:, arr[0].argsort()]"
   ]
  },
  {
   "cell_type": "code",
   "execution_count": 58,
   "id": "04a3f747",
   "metadata": {},
   "outputs": [
    {
     "data": {
      "text/plain": [
       "array([1, 2, 3, 0, 4], dtype=int64)"
      ]
     },
     "execution_count": 58,
     "metadata": {},
     "output_type": "execute_result"
    }
   ],
   "source": [
    "first_name = np.array(['Bob', 'Jane', 'Steve', 'Bill', 'Barbara'])\n",
    "last_name = np.array(['Jones', 'Arnold', 'Arnold', 'Jones', 'Walters'])\n",
    "sorter = np.lexsort((first_name, last_name))\n",
    "sorter"
   ]
  },
  {
   "cell_type": "code",
   "execution_count": 59,
   "id": "3b906c2b",
   "metadata": {},
   "outputs": [
    {
     "data": {
      "text/plain": [
       "<zip at 0x231bd3cb980>"
      ]
     },
     "execution_count": 59,
     "metadata": {},
     "output_type": "execute_result"
    }
   ],
   "source": [
    "zip(last_name[sorter], first_name[sorter])"
   ]
  },
  {
   "cell_type": "markdown",
   "id": "1a3c0a09",
   "metadata": {},
   "source": [
    "### \n",
    "### 대안 정렬 알고리즘\n",
    "### 견고한 (stable) 정렬 알고리즘은 동일한 원소의 상대적인 위치를 그대로 둠\n",
    "- 상대적인 순서가 의미를 가지는 간접 정렬의 경우 중요한 기능\n",
    "\n",
    "| 종류 | 속도 | 견고함 | 공간복잡도 | 시간복잡도 |\n",
    "| -- | -- | -- | --| -- |\n",
    "| 'quicksort' | 1 | No | 0 | 0 (n^2) |\n",
    "| 'mergesort' | 2 | Yes | n / 2 | 0 (n log n) |\n",
    "| 'heapsort' | 3 | No | 0 | 0 (n log n) |"
   ]
  },
  {
   "cell_type": "code",
   "execution_count": 60,
   "id": "2043149c",
   "metadata": {},
   "outputs": [
    {
     "data": {
      "text/plain": [
       "(array([2, 3, 4, 0, 1], dtype=int64),\n",
       " array(['1:first', '1:second', '1:third', '2:first', '2:second'],\n",
       "       dtype='<U8'))"
      ]
     },
     "execution_count": 60,
     "metadata": {},
     "output_type": "execute_result"
    }
   ],
   "source": [
    "values = np.array(['2:first', '2:second', '1:first', '1:second', '1:third'])\n",
    "key = np.array([2, 2, 1, 1, 1])\n",
    "indexer = key.argsort(kind = 'mergesort')\n",
    "indexer, values.take(indexer)"
   ]
  },
  {
   "cell_type": "markdown",
   "id": "4f76dd14",
   "metadata": {},
   "source": [
    "### \n",
    "### 배열 일부만 정렬"
   ]
  },
  {
   "cell_type": "markdown",
   "id": "6b963039",
   "metadata": {},
   "source": [
    "### ```np.partition(arr, n)``` : 반환된 결과 배열의 첫 n개의 원소는 해당 배열에서 가장 작은 값 (n개만 정렬)\n",
    "### ```np.argpartition(arr, n)``` : np.argsort()와 유사. 해당 원소의 위치를 반환"
   ]
  },
  {
   "cell_type": "code",
   "execution_count": 61,
   "id": "33120a44",
   "metadata": {},
   "outputs": [
    {
     "data": {
      "text/plain": [
       "(array([-0.20470766,  0.47894334, -0.51943872, -0.5557303 ,  1.96578057,\n",
       "         1.39340583,  0.09290788,  0.28174615,  0.76902257,  1.24643474,\n",
       "         1.00718936, -1.29622111,  0.27499163,  0.22891288,  1.35291684,\n",
       "         0.88642934, -2.00163731, -0.37184254,  1.66902531, -0.43856974]),\n",
       " array([-2.00163731, -1.29622111, -0.5557303 , -0.51943872, -0.37184254,\n",
       "        -0.43856974, -0.20470766,  0.28174615,  0.76902257,  0.47894334,\n",
       "         1.00718936,  0.09290788,  0.27499163,  0.22891288,  1.35291684,\n",
       "         0.88642934,  1.39340583,  1.96578057,  1.66902531,  1.24643474]))"
      ]
     },
     "execution_count": 61,
     "metadata": {},
     "output_type": "execute_result"
    }
   ],
   "source": [
    "np.random.seed(12345)\n",
    "arr = np.random.randn(20)\n",
    "arr, np.partition(arr, 3)"
   ]
  },
  {
   "cell_type": "code",
   "execution_count": 62,
   "id": "780340eb",
   "metadata": {},
   "outputs": [
    {
     "data": {
      "text/plain": [
       "(array([16, 11,  3,  2, 17, 19,  0,  7,  8,  1, 10,  6, 12, 13, 14, 15,  5,\n",
       "         4, 18,  9], dtype=int64),\n",
       " array([-2.00163731, -1.29622111, -0.5557303 , -0.51943872, -0.37184254,\n",
       "        -0.43856974, -0.20470766,  0.28174615,  0.76902257,  0.47894334,\n",
       "         1.00718936,  0.09290788,  0.27499163,  0.22891288,  1.35291684,\n",
       "         0.88642934,  1.39340583,  1.96578057,  1.66902531,  1.24643474]))"
      ]
     },
     "execution_count": 62,
     "metadata": {},
     "output_type": "execute_result"
    }
   ],
   "source": [
    "indices = np.argpartition(arr, 3)\n",
    "indices, arr.take(indices)"
   ]
  },
  {
   "cell_type": "markdown",
   "id": "b3df3d5a",
   "metadata": {},
   "source": [
    "### ```np.searchsorted()``` : 정렬된 배열에 새로운 값을 삽입할 때, 정렬된 상태를 계속 유지하기 위한 위치를 반환"
   ]
  },
  {
   "cell_type": "code",
   "execution_count": 63,
   "id": "1e57f10c",
   "metadata": {},
   "outputs": [
    {
     "data": {
      "text/plain": [
       "3"
      ]
     },
     "execution_count": 63,
     "metadata": {},
     "output_type": "execute_result"
    }
   ],
   "source": [
    "arr = np.array([0, 1, 7, 12, 15])\n",
    "arr.searchsorted(9)"
   ]
  },
  {
   "cell_type": "code",
   "execution_count": 64,
   "id": "c94b4cc5",
   "metadata": {},
   "outputs": [
    {
     "data": {
      "text/plain": [
       "array([0, 3, 3, 5], dtype=int64)"
      ]
     },
     "execution_count": 64,
     "metadata": {},
     "output_type": "execute_result"
    }
   ],
   "source": [
    "arr.searchsorted([0, 8, 11, 16])"
   ]
  },
  {
   "cell_type": "code",
   "execution_count": 65,
   "id": "dfec1741",
   "metadata": {},
   "outputs": [
    {
     "data": {
      "text/plain": [
       "array([0, 3], dtype=int64)"
      ]
     },
     "execution_count": 65,
     "metadata": {},
     "output_type": "execute_result"
    }
   ],
   "source": [
    "arr = np.array([0, 0, 0, 1, 1, 1, 1])\n",
    "arr.searchsorted([0, 1])"
   ]
  },
  {
   "cell_type": "code",
   "execution_count": 66,
   "id": "b0ab9800",
   "metadata": {},
   "outputs": [
    {
     "data": {
      "text/plain": [
       "array([3, 7], dtype=int64)"
      ]
     },
     "execution_count": 66,
     "metadata": {},
     "output_type": "execute_result"
    }
   ],
   "source": [
    "arr.searchsorted([0, 1], side = 'right')"
   ]
  },
  {
   "cell_type": "markdown",
   "id": "17a55f04",
   "metadata": {},
   "source": [
    "#### \n",
    "- 0부터 10000까지의 값을 특정 구간별로 나눈 배열"
   ]
  },
  {
   "cell_type": "code",
   "execution_count": 67,
   "id": "faca985f",
   "metadata": {},
   "outputs": [
    {
     "data": {
      "text/plain": [
       "array([9940., 6768., 7908., 1709.,  268., 8003., 9037.,  246., 4917.,\n",
       "       5262., 5963.,  519., 8950., 7282., 8183., 5002., 8101.,  959.,\n",
       "       2189., 2587., 4681., 4593., 7095., 1780., 5314., 1677., 7688.,\n",
       "       9281., 6094., 1501., 4896., 3773., 8486., 9110., 3838., 3154.,\n",
       "       5683., 1878., 1258., 6875., 7996., 5735., 9732., 6340., 8884.,\n",
       "       4954., 3516., 7142., 5039., 2256.])"
      ]
     },
     "execution_count": 67,
     "metadata": {},
     "output_type": "execute_result"
    }
   ],
   "source": [
    "data = np.floor(np.random.uniform(0, 10000, size = 50))\n",
    "bins = np.array([0, 100, 1000, 5000, 10000])\n",
    "data"
   ]
  },
  {
   "cell_type": "markdown",
   "id": "c6de830a",
   "metadata": {},
   "source": [
    "- 각 데이터가 어떤 구간에 속해야 하는지 탐색하기 위해 searchsorted 메서드 사용"
   ]
  },
  {
   "cell_type": "code",
   "execution_count": 68,
   "id": "f0f053eb",
   "metadata": {},
   "outputs": [
    {
     "data": {
      "text/plain": [
       "array([4, 4, 4, 3, 2, 4, 4, 2, 3, 4, 4, 2, 4, 4, 4, 4, 4, 2, 3, 3, 3, 3,\n",
       "       4, 3, 4, 3, 4, 4, 4, 3, 3, 3, 4, 4, 3, 3, 4, 3, 3, 4, 4, 4, 4, 4,\n",
       "       4, 3, 3, 4, 4, 3], dtype=int64)"
      ]
     },
     "execution_count": 68,
     "metadata": {},
     "output_type": "execute_result"
    }
   ],
   "source": [
    "labels = bins.searchsorted(data)\n",
    "labels"
   ]
  },
  {
   "cell_type": "code",
   "execution_count": 70,
   "id": "61d3f970",
   "metadata": {
    "scrolled": true
   },
   "outputs": [
    {
     "data": {
      "text/plain": [
       "2     498.000000\n",
       "3    3064.277778\n",
       "4    7389.035714\n",
       "dtype: float64"
      ]
     },
     "execution_count": 70,
     "metadata": {},
     "output_type": "execute_result"
    }
   ],
   "source": [
    "import pandas as pd\n",
    "pd.Series(data).groupby(labels).mean()"
   ]
  }
 ],
 "metadata": {
  "kernelspec": {
   "display_name": "Python 3 (ipykernel)",
   "language": "python",
   "name": "python3"
  },
  "language_info": {
   "codemirror_mode": {
    "name": "ipython",
    "version": 3
   },
   "file_extension": ".py",
   "mimetype": "text/x-python",
   "name": "python",
   "nbconvert_exporter": "python",
   "pygments_lexer": "ipython3",
   "version": "3.9.7"
  }
 },
 "nbformat": 4,
 "nbformat_minor": 5
}
